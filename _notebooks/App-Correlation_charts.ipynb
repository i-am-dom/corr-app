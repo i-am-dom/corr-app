{
 "cells": [
  {
   "cell_type": "markdown",
   "id": "touched-facility",
   "metadata": {
    "papermill": {
     "duration": 0.014924,
     "end_time": "2022-06-30T03:13:16.420685",
     "exception": false,
     "start_time": "2022-06-30T03:13:16.405761",
     "status": "completed"
    },
    "tags": []
   },
   "source": [
    "# Koreliacijų matrica\n",
    "> Išplėstinė koreliacijų matrica. \n",
    "\n",
    "- toc: true \n",
    "- badges: true\n",
    "- comments: false\n",
    "- categories: [Dominykas Tautkus]\n",
    "- image: images/matrix.png"
   ]
  },
  {
   "cell_type": "code",
   "execution_count": null,
   "id": "premium-weekend",
   "metadata": {
    "papermill": {
     "duration": 0.017036,
     "end_time": "2022-06-30T03:13:16.449452",
     "exception": false,
     "start_time": "2022-06-30T03:13:16.432416",
     "status": "completed"
    },
    "tags": []
   },
   "outputs": [],
   "source": []
  },
  {
   "cell_type": "code",
   "execution_count": 1,
   "id": "vertical-rebate",
   "metadata": {
    "execution": {
     "iopub.execute_input": "2022-06-30T03:13:16.480923Z",
     "iopub.status.busy": "2022-06-30T03:13:16.480355Z",
     "iopub.status.idle": "2022-06-30T03:13:16.490852Z",
     "shell.execute_reply": "2022-06-30T03:13:16.490390Z"
    },
    "papermill": {
     "duration": 0.030721,
     "end_time": "2022-06-30T03:13:16.490958",
     "exception": false,
     "start_time": "2022-06-30T03:13:16.460237",
     "status": "completed"
    },
    "tags": []
   },
   "outputs": [],
   "source": [
    "#hide\n",
    "%load_ext autoreload\n",
    "%autoreload 2"
   ]
  },
  {
   "cell_type": "code",
   "execution_count": 2,
   "id": "overall-advancement",
   "metadata": {
    "execution": {
     "iopub.execute_input": "2022-06-30T03:13:16.515502Z",
     "iopub.status.busy": "2022-06-30T03:13:16.514957Z",
     "iopub.status.idle": "2022-06-30T03:13:17.530946Z",
     "shell.execute_reply": "2022-06-30T03:13:17.529986Z"
    },
    "papermill": {
     "duration": 1.029403,
     "end_time": "2022-06-30T03:13:17.531069",
     "exception": false,
     "start_time": "2022-06-30T03:13:16.501666",
     "status": "completed"
    },
    "tags": []
   },
   "outputs": [],
   "source": [
    "#hide\n",
    "from scripts.read_data import read_api\n",
    "from IPython.display import HTML\n",
    "import plotly.graph_objects as go\n"
   ]
  },
  {
   "cell_type": "code",
   "execution_count": 3,
   "id": "light-crazy",
   "metadata": {
    "execution": {
     "iopub.execute_input": "2022-06-30T03:13:17.558662Z",
     "iopub.status.busy": "2022-06-30T03:13:17.557166Z",
     "iopub.status.idle": "2022-06-30T03:13:17.578185Z",
     "shell.execute_reply": "2022-06-30T03:13:17.578602Z"
    },
    "papermill": {
     "duration": 0.036574,
     "end_time": "2022-06-30T03:13:17.578722",
     "exception": false,
     "start_time": "2022-06-30T03:13:17.542148",
     "status": "completed"
    },
    "tags": []
   },
   "outputs": [],
   "source": [
    "#hide\n",
    "### ICO koreliacija"
   ]
  },
  {
   "cell_type": "code",
   "execution_count": 4,
   "id": "likely-bahrain",
   "metadata": {
    "execution": {
     "iopub.execute_input": "2022-06-30T03:13:17.603593Z",
     "iopub.status.busy": "2022-06-30T03:13:17.603035Z",
     "iopub.status.idle": "2022-06-30T03:13:18.410510Z",
     "shell.execute_reply": "2022-06-30T03:13:18.409578Z"
    },
    "papermill": {
     "duration": 0.821136,
     "end_time": "2022-06-30T03:13:18.410634",
     "exception": false,
     "start_time": "2022-06-30T03:13:17.589498",
     "status": "completed"
    },
    "tags": []
   },
   "outputs": [],
   "source": [
    "#hide\n",
    "import matplotlib.pyplot as plt\n",
    "import numpy as np\n",
    "import pandas as pd\n",
    "import seaborn as sns\n",
    "import matplotlib.pyplot as plt \n",
    "import matplotlib.dates as mdates\n",
    "import matplotlib.pyplot as plt"
   ]
  },
  {
   "cell_type": "code",
   "execution_count": 5,
   "id": "superior-blanket",
   "metadata": {
    "execution": {
     "iopub.execute_input": "2022-06-30T03:13:18.439102Z",
     "iopub.status.busy": "2022-06-30T03:13:18.436919Z",
     "iopub.status.idle": "2022-06-30T03:13:32.905905Z",
     "shell.execute_reply": "2022-06-30T03:13:32.904731Z"
    },
    "papermill": {
     "duration": 14.484313,
     "end_time": "2022-06-30T03:13:32.906029",
     "exception": false,
     "start_time": "2022-06-30T03:13:18.421716",
     "status": "completed"
    },
    "tags": []
   },
   "outputs": [
    {
     "name": "stderr",
     "output_type": "stream",
     "text": [
      "/home/runner/work/corr-app/corr-app/_notebooks/scripts/read_data.py:187: SettingWithCopyWarning:\n",
      "\n",
      "\n",
      "A value is trying to be set on a copy of a slice from a DataFrame.\n",
      "Try using .loc[row_indexer,col_indexer] = value instead\n",
      "\n",
      "See the caveats in the documentation: https://pandas.pydata.org/pandas-docs/stable/user_guide/indexing.html#returning-a-view-versus-a-copy\n",
      "\n"
     ]
    },
    {
     "name": "stderr",
     "output_type": "stream",
     "text": [
      "/home/runner/work/corr-app/corr-app/_notebooks/scripts/read_data.py:215: SettingWithCopyWarning:\n",
      "\n",
      "\n",
      "A value is trying to be set on a copy of a slice from a DataFrame.\n",
      "Try using .loc[row_indexer,col_indexer] = value instead\n",
      "\n",
      "See the caveats in the documentation: https://pandas.pydata.org/pandas-docs/stable/user_guide/indexing.html#returning-a-view-versus-a-copy\n",
      "\n"
     ]
    }
   ],
   "source": [
    "#hide\n",
    "df_all = read_api()\n",
    "#df_all = df_all.drop(['SP500', 'XAU', 'ETH', 'BTC'], axis=1)\n",
    "\n"
   ]
  },
  {
   "cell_type": "code",
   "execution_count": 6,
   "id": "mature-alert",
   "metadata": {
    "execution": {
     "iopub.execute_input": "2022-06-30T03:13:32.938688Z",
     "iopub.status.busy": "2022-06-30T03:13:32.935398Z",
     "iopub.status.idle": "2022-06-30T03:13:32.965433Z",
     "shell.execute_reply": "2022-06-30T03:13:32.964970Z"
    },
    "papermill": {
     "duration": 0.046767,
     "end_time": "2022-06-30T03:13:32.965548",
     "exception": false,
     "start_time": "2022-06-30T03:13:32.918781",
     "status": "completed"
    },
    "tags": []
   },
   "outputs": [],
   "source": [
    "#hide_input\n",
    "sum_corr = df_all.corr().sum().sort_values(ascending=True).index.values\n",
    "#df_all[sum_corr].corr()"
   ]
  },
  {
   "cell_type": "markdown",
   "id": "complex-syndicate",
   "metadata": {
    "papermill": {
     "duration": 0.011344,
     "end_time": "2022-06-30T03:13:32.988439",
     "exception": false,
     "start_time": "2022-06-30T03:13:32.977095",
     "status": "completed"
    },
    "tags": []
   },
   "source": [
    "## Išplėstinė koreliacijų matrica. "
   ]
  },
  {
   "cell_type": "code",
   "execution_count": 7,
   "id": "atomic-omaha",
   "metadata": {
    "execution": {
     "iopub.execute_input": "2022-06-30T03:13:33.015289Z",
     "iopub.status.busy": "2022-06-30T03:13:33.014719Z",
     "iopub.status.idle": "2022-06-30T03:13:34.116004Z",
     "shell.execute_reply": "2022-06-30T03:13:34.115558Z"
    },
    "papermill": {
     "duration": 1.116308,
     "end_time": "2022-06-30T03:13:34.116116",
     "exception": false,
     "start_time": "2022-06-30T03:13:32.999808",
     "status": "completed"
    },
    "tags": []
   },
   "outputs": [
    {
     "data": {
      "image/png": "[encoded data removed]",
      "text/plain": [
       "<Figure size 1080x792 with 2 Axes>"
      ]
     },
     "metadata": {
      "needs_background": "light"
     },
     "output_type": "display_data"
    }
   ],
   "source": [
    "#hide_input\n",
    "plt.figure(figsize=(15, 11))\n",
    "sns.heatmap(df_all[sum_corr].corr(), annot=True, cmap=\"cubehelix\") \n",
    "sns.set(font_scale=1.25)\n",
    "plt.savefig('corr_matrix.png', format='eps')"
   ]
  },
  {
   "cell_type": "code",
   "execution_count": 8,
   "id": "arbitrary-sullivan",
   "metadata": {
    "execution": {
     "iopub.execute_input": "2022-06-30T03:13:34.148318Z",
     "iopub.status.busy": "2022-06-30T03:13:34.147084Z",
     "iopub.status.idle": "2022-06-30T03:13:34.171918Z",
     "shell.execute_reply": "2022-06-30T03:13:34.171482Z"
    },
    "papermill": {
     "duration": 0.04228,
     "end_time": "2022-06-30T03:13:34.172024",
     "exception": false,
     "start_time": "2022-06-30T03:13:34.129744",
     "status": "completed"
    },
    "tags": []
   },
   "outputs": [],
   "source": [
    "#hide\n",
    "#df_all_mrk = read_api()"
   ]
  },
  {
   "cell_type": "code",
   "execution_count": 9,
   "id": "delayed-adapter",
   "metadata": {
    "execution": {
     "iopub.execute_input": "2022-06-30T03:13:34.201292Z",
     "iopub.status.busy": "2022-06-30T03:13:34.200719Z",
     "iopub.status.idle": "2022-06-30T03:13:34.226167Z",
     "shell.execute_reply": "2022-06-30T03:13:34.225716Z"
    },
    "papermill": {
     "duration": 0.041016,
     "end_time": "2022-06-30T03:13:34.226267",
     "exception": false,
     "start_time": "2022-06-30T03:13:34.185251",
     "status": "completed"
    },
    "tags": []
   },
   "outputs": [],
   "source": [
    "#hide\n",
    "#Koreliacijų koeficientai"
   ]
  },
  {
   "cell_type": "code",
   "execution_count": 10,
   "id": "seeing-celebration",
   "metadata": {
    "execution": {
     "iopub.execute_input": "2022-06-30T03:13:34.259498Z",
     "iopub.status.busy": "2022-06-30T03:13:34.256649Z",
     "iopub.status.idle": "2022-06-30T03:13:34.282104Z",
     "shell.execute_reply": "2022-06-30T03:13:34.281661Z"
    },
    "papermill": {
     "duration": 0.042591,
     "end_time": "2022-06-30T03:13:34.282208",
     "exception": false,
     "start_time": "2022-06-30T03:13:34.239617",
     "status": "completed"
    },
    "tags": []
   },
   "outputs": [],
   "source": [
    "#hide_input\n",
    "#sum_corr = df_all_mrk.corr().sum().sort_values(ascending=True).index.values\n",
    "#df_all_mrk[sum_corr].corr()"
   ]
  },
  {
   "cell_type": "code",
   "execution_count": 11,
   "id": "other-painting",
   "metadata": {
    "execution": {
     "iopub.execute_input": "2022-06-30T03:13:34.311492Z",
     "iopub.status.busy": "2022-06-30T03:13:34.310944Z",
     "iopub.status.idle": "2022-06-30T03:13:34.336334Z",
     "shell.execute_reply": "2022-06-30T03:13:34.335844Z"
    },
    "papermill": {
     "duration": 0.040944,
     "end_time": "2022-06-30T03:13:34.336441",
     "exception": false,
     "start_time": "2022-06-30T03:13:34.295497",
     "status": "completed"
    },
    "tags": []
   },
   "outputs": [],
   "source": [
    "#hide\n",
    "#Koreliacijos matrica. "
   ]
  },
  {
   "cell_type": "code",
   "execution_count": 12,
   "id": "modular-magnitude",
   "metadata": {
    "execution": {
     "iopub.execute_input": "2022-06-30T03:13:34.366537Z",
     "iopub.status.busy": "2022-06-30T03:13:34.365974Z",
     "iopub.status.idle": "2022-06-30T03:13:34.391455Z",
     "shell.execute_reply": "2022-06-30T03:13:34.390992Z"
    },
    "papermill": {
     "duration": 0.041606,
     "end_time": "2022-06-30T03:13:34.391555",
     "exception": false,
     "start_time": "2022-06-30T03:13:34.349949",
     "status": "completed"
    },
    "tags": []
   },
   "outputs": [],
   "source": [
    "#hide_input\n",
    "#plt.figure(figsize=(15, 8))\n",
    "#sns.heatmap(df_all_mrk[sum_corr].corr(), annot=True, cmap=\"BrBG\");\n",
    "#plt.savefig('corr_matrix_all.eps', format='eps')"
   ]
  },
  {
   "cell_type": "code",
   "execution_count": null,
   "id": "original-senator",
   "metadata": {
    "papermill": {
     "duration": 0.013162,
     "end_time": "2022-06-30T03:13:34.417915",
     "exception": false,
     "start_time": "2022-06-30T03:13:34.404753",
     "status": "completed"
    },
    "tags": []
   },
   "outputs": [],
   "source": []
  },
  {
   "cell_type": "code",
   "execution_count": null,
   "id": "saving-secretariat",
   "metadata": {
    "papermill": {
     "duration": 0.013058,
     "end_time": "2022-06-30T03:13:34.444142",
     "exception": false,
     "start_time": "2022-06-30T03:13:34.431084",
     "status": "completed"
    },
    "tags": []
   },
   "outputs": [],
   "source": []
  }
 ],
 "metadata": {
  "kernelspec": {
   "display_name": "Python 3",
   "language": "python",
   "name": "python3"
  },
  "language_info": {
   "codemirror_mode": {
    "name": "ipython",
    "version": 3
   },
   "file_extension": ".py",
   "mimetype": "text/x-python",
   "name": "python",
   "nbconvert_exporter": "python",
   "pygments_lexer": "ipython3",
   "version": "3.6.15"
  },
  "papermill": {
   "default_parameters": {},
   "duration": 19.381118,
   "end_time": "2022-06-30T03:13:34.874919",
   "environment_variables": {},
   "exception": null,
   "input_path": "App-Correlation_charts.ipynb",
   "output_path": "App-Correlation_charts.ipynb",
   "parameters": {},
   "start_time": "2022-06-30T03:13:15.493801",
   "version": "2.2.2"
  }
 },
 "nbformat": 4,
 "nbformat_minor": 5
}