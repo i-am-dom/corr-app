{
 "cells": [
  {
   "cell_type": "markdown",
   "id": "touched-facility",
   "metadata": {
    "papermill": {
     "duration": 0.018844,
     "end_time": "2021-11-08T01:57:45.031240",
     "exception": false,
     "start_time": "2021-11-08T01:57:45.012396",
     "status": "completed"
    },
    "tags": []
   },
   "source": [
    "# Koreliacijų matrica\n",
    "> Išplėstinė koreliacijų matrica. \n",
    "\n",
    "- toc: true \n",
    "- badges: true\n",
    "- comments: false\n",
    "- categories: [Dominykas Tautkus]\n",
    "- image: images/matrix.png"
   ]
  },
  {
   "cell_type": "code",
   "execution_count": null,
   "id": "premium-weekend",
   "metadata": {
    "papermill": {
     "duration": 0.016317,
     "end_time": "2021-11-08T01:57:45.063517",
     "exception": false,
     "start_time": "2021-11-08T01:57:45.047200",
     "status": "completed"
    },
    "tags": []
   },
   "outputs": [],
   "source": []
  },
  {
   "cell_type": "code",
   "execution_count": 1,
   "id": "vertical-rebate",
   "metadata": {
    "execution": {
     "iopub.execute_input": "2021-11-08T01:57:45.106632Z",
     "iopub.status.busy": "2021-11-08T01:57:45.105906Z",
     "iopub.status.idle": "2021-11-08T01:57:45.118454Z",
     "shell.execute_reply": "2021-11-08T01:57:45.117730Z"
    },
    "papermill": {
     "duration": 0.039888,
     "end_time": "2021-11-08T01:57:45.118621",
     "exception": false,
     "start_time": "2021-11-08T01:57:45.078733",
     "status": "completed"
    },
    "tags": []
   },
   "outputs": [],
   "source": [
    "#hide\n",
    "%load_ext autoreload\n",
    "%autoreload 2"
   ]
  },
  {
   "cell_type": "code",
   "execution_count": 2,
   "id": "overall-advancement",
   "metadata": {
    "execution": {
     "iopub.execute_input": "2021-11-08T01:57:45.153147Z",
     "iopub.status.busy": "2021-11-08T01:57:45.152451Z",
     "iopub.status.idle": "2021-11-08T01:57:46.826728Z",
     "shell.execute_reply": "2021-11-08T01:57:46.827641Z"
    },
    "papermill": {
     "duration": 1.694134,
     "end_time": "2021-11-08T01:57:46.827830",
     "exception": false,
     "start_time": "2021-11-08T01:57:45.133696",
     "status": "completed"
    },
    "tags": []
   },
   "outputs": [],
   "source": [
    "#hide\n",
    "from scripts.read_data import read_api\n",
    "from IPython.display import HTML\n",
    "import plotly.graph_objects as go\n"
   ]
  },
  {
   "cell_type": "code",
   "execution_count": 3,
   "id": "light-crazy",
   "metadata": {
    "execution": {
     "iopub.execute_input": "2021-11-08T01:57:46.863344Z",
     "iopub.status.busy": "2021-11-08T01:57:46.862611Z",
     "iopub.status.idle": "2021-11-08T01:57:46.899551Z",
     "shell.execute_reply": "2021-11-08T01:57:46.898909Z"
    },
    "papermill": {
     "duration": 0.057471,
     "end_time": "2021-11-08T01:57:46.899705",
     "exception": false,
     "start_time": "2021-11-08T01:57:46.842234",
     "status": "completed"
    },
    "tags": []
   },
   "outputs": [],
   "source": [
    "#hide\n",
    "### ICO koreliacija"
   ]
  },
  {
   "cell_type": "code",
   "execution_count": 4,
   "id": "likely-bahrain",
   "metadata": {
    "execution": {
     "iopub.execute_input": "2021-11-08T01:57:46.939004Z",
     "iopub.status.busy": "2021-11-08T01:57:46.938288Z",
     "iopub.status.idle": "2021-11-08T01:57:48.056136Z",
     "shell.execute_reply": "2021-11-08T01:57:48.055554Z"
    },
    "papermill": {
     "duration": 1.140933,
     "end_time": "2021-11-08T01:57:48.056335",
     "exception": false,
     "start_time": "2021-11-08T01:57:46.915402",
     "status": "completed"
    },
    "tags": []
   },
   "outputs": [],
   "source": [
    "#hide\n",
    "import matplotlib.pyplot as plt\n",
    "import numpy as np\n",
    "import pandas as pd\n",
    "import seaborn as sns\n",
    "import matplotlib.pyplot as plt \n",
    "import matplotlib.dates as mdates\n",
    "import matplotlib.pyplot as plt"
   ]
  },
  {
   "cell_type": "code",
   "execution_count": 5,
   "id": "superior-blanket",
   "metadata": {
    "execution": {
     "iopub.execute_input": "2021-11-08T01:57:48.092298Z",
     "iopub.status.busy": "2021-11-08T01:57:48.091647Z",
     "iopub.status.idle": "2021-11-08T01:58:01.740307Z",
     "shell.execute_reply": "2021-11-08T01:58:01.738727Z"
    },
    "papermill": {
     "duration": 13.668019,
     "end_time": "2021-11-08T01:58:01.740481",
     "exception": false,
     "start_time": "2021-11-08T01:57:48.072462",
     "status": "completed"
    },
    "tags": []
   },
   "outputs": [
    {
     "name": "stderr",
     "output_type": "stream",
     "text": [
      "/home/runner/work/corr-app/corr-app/_notebooks/scripts/read_data.py:187: SettingWithCopyWarning:\n",
      "\n",
      "\n",
      "A value is trying to be set on a copy of a slice from a DataFrame.\n",
      "Try using .loc[row_indexer,col_indexer] = value instead\n",
      "\n",
      "See the caveats in the documentation: https://pandas.pydata.org/pandas-docs/stable/user_guide/indexing.html#returning-a-view-versus-a-copy\n",
      "\n"
     ]
    },
    {
     "name": "stderr",
     "output_type": "stream",
     "text": [
      "/home/runner/work/corr-app/corr-app/_notebooks/scripts/read_data.py:215: SettingWithCopyWarning:\n",
      "\n",
      "\n",
      "A value is trying to be set on a copy of a slice from a DataFrame.\n",
      "Try using .loc[row_indexer,col_indexer] = value instead\n",
      "\n",
      "See the caveats in the documentation: https://pandas.pydata.org/pandas-docs/stable/user_guide/indexing.html#returning-a-view-versus-a-copy\n",
      "\n"
     ]
    }
   ],
   "source": [
    "#hide\n",
    "df_all = read_api()\n",
    "#df_all = df_all.drop(['SP500', 'XAU', 'ETH', 'BTC'], axis=1)\n",
    "\n"
   ]
  },
  {
   "cell_type": "code",
   "execution_count": 6,
   "id": "mature-alert",
   "metadata": {
    "execution": {
     "iopub.execute_input": "2021-11-08T01:58:01.781512Z",
     "iopub.status.busy": "2021-11-08T01:58:01.779631Z",
     "iopub.status.idle": "2021-11-08T01:58:01.819330Z",
     "shell.execute_reply": "2021-11-08T01:58:01.818657Z"
    },
    "papermill": {
     "duration": 0.060787,
     "end_time": "2021-11-08T01:58:01.819485",
     "exception": false,
     "start_time": "2021-11-08T01:58:01.758698",
     "status": "completed"
    },
    "tags": []
   },
   "outputs": [],
   "source": [
    "#hide_input\n",
    "sum_corr = df_all.corr().sum().sort_values(ascending=True).index.values\n",
    "#df_all[sum_corr].corr()"
   ]
  },
  {
   "cell_type": "markdown",
   "id": "complex-syndicate",
   "metadata": {
    "papermill": {
     "duration": 0.01803,
     "end_time": "2021-11-08T01:58:01.860007",
     "exception": false,
     "start_time": "2021-11-08T01:58:01.841977",
     "status": "completed"
    },
    "tags": []
   },
   "source": [
    "## Išplėstinė koreliacijų matrica. "
   ]
  },
  {
   "cell_type": "code",
   "execution_count": 7,
   "id": "atomic-omaha",
   "metadata": {
    "execution": {
     "iopub.execute_input": "2021-11-08T01:58:01.897443Z",
     "iopub.status.busy": "2021-11-08T01:58:01.896795Z",
     "iopub.status.idle": "2021-11-08T01:58:03.605303Z",
     "shell.execute_reply": "2021-11-08T01:58:03.604560Z"
    },
    "papermill": {
     "duration": 1.729651,
     "end_time": "2021-11-08T01:58:03.605481",
     "exception": false,
     "start_time": "2021-11-08T01:58:01.875830",
     "status": "completed"
    },
    "tags": []
   },
   "outputs": [
    {
     "data": {
      "image/png": "[encoded data removed]",
      "text/plain": [
       "<Figure size 1080x792 with 2 Axes>"
      ]
     },
     "metadata": {
      "needs_background": "light"
     },
     "output_type": "display_data"
    }
   ],
   "source": [
    "#hide_input\n",
    "plt.figure(figsize=(15, 11))\n",
    "sns.heatmap(df_all[sum_corr].corr(), annot=True, cmap=\"cubehelix\") \n",
    "sns.set(font_scale=1.25)\n",
    "plt.savefig('corr_matrix.png', format='eps')"
   ]
  },
  {
   "cell_type": "code",
   "execution_count": 8,
   "id": "arbitrary-sullivan",
   "metadata": {
    "execution": {
     "iopub.execute_input": "2021-11-08T01:58:03.648034Z",
     "iopub.status.busy": "2021-11-08T01:58:03.646057Z",
     "iopub.status.idle": "2021-11-08T01:58:03.681877Z",
     "shell.execute_reply": "2021-11-08T01:58:03.682524Z"
    },
    "papermill": {
     "duration": 0.059135,
     "end_time": "2021-11-08T01:58:03.682697",
     "exception": false,
     "start_time": "2021-11-08T01:58:03.623562",
     "status": "completed"
    },
    "tags": []
   },
   "outputs": [],
   "source": [
    "#hide\n",
    "#df_all_mrk = read_api()"
   ]
  },
  {
   "cell_type": "code",
   "execution_count": 9,
   "id": "delayed-adapter",
   "metadata": {
    "execution": {
     "iopub.execute_input": "2021-11-08T01:58:03.725860Z",
     "iopub.status.busy": "2021-11-08T01:58:03.725198Z",
     "iopub.status.idle": "2021-11-08T01:58:03.757764Z",
     "shell.execute_reply": "2021-11-08T01:58:03.756331Z"
    },
    "papermill": {
     "duration": 0.054773,
     "end_time": "2021-11-08T01:58:03.757951",
     "exception": false,
     "start_time": "2021-11-08T01:58:03.703178",
     "status": "completed"
    },
    "tags": []
   },
   "outputs": [],
   "source": [
    "#hide\n",
    "#Koreliacijų koeficientai"
   ]
  },
  {
   "cell_type": "code",
   "execution_count": 10,
   "id": "seeing-celebration",
   "metadata": {
    "execution": {
     "iopub.execute_input": "2021-11-08T01:58:03.808695Z",
     "iopub.status.busy": "2021-11-08T01:58:03.801821Z",
     "iopub.status.idle": "2021-11-08T01:58:03.838834Z",
     "shell.execute_reply": "2021-11-08T01:58:03.837931Z"
    },
    "papermill": {
     "duration": 0.060719,
     "end_time": "2021-11-08T01:58:03.839032",
     "exception": false,
     "start_time": "2021-11-08T01:58:03.778313",
     "status": "completed"
    },
    "tags": []
   },
   "outputs": [],
   "source": [
    "#hide_input\n",
    "#sum_corr = df_all_mrk.corr().sum().sort_values(ascending=True).index.values\n",
    "#df_all_mrk[sum_corr].corr()"
   ]
  },
  {
   "cell_type": "code",
   "execution_count": 11,
   "id": "other-painting",
   "metadata": {
    "execution": {
     "iopub.execute_input": "2021-11-08T01:58:03.885263Z",
     "iopub.status.busy": "2021-11-08T01:58:03.883363Z",
     "iopub.status.idle": "2021-11-08T01:58:03.919055Z",
     "shell.execute_reply": "2021-11-08T01:58:03.918348Z"
    },
    "papermill": {
     "duration": 0.061215,
     "end_time": "2021-11-08T01:58:03.919384",
     "exception": false,
     "start_time": "2021-11-08T01:58:03.858169",
     "status": "completed"
    },
    "tags": []
   },
   "outputs": [],
   "source": [
    "#hide\n",
    "#Koreliacijos matrica. "
   ]
  },
  {
   "cell_type": "code",
   "execution_count": 12,
   "id": "modular-magnitude",
   "metadata": {
    "execution": {
     "iopub.execute_input": "2021-11-08T01:58:03.959286Z",
     "iopub.status.busy": "2021-11-08T01:58:03.958563Z",
     "iopub.status.idle": "2021-11-08T01:58:03.996222Z",
     "shell.execute_reply": "2021-11-08T01:58:03.995596Z"
    },
    "papermill": {
     "duration": 0.059154,
     "end_time": "2021-11-08T01:58:03.996378",
     "exception": false,
     "start_time": "2021-11-08T01:58:03.937224",
     "status": "completed"
    },
    "tags": []
   },
   "outputs": [],
   "source": [
    "#hide_input\n",
    "#plt.figure(figsize=(15, 8))\n",
    "#sns.heatmap(df_all_mrk[sum_corr].corr(), annot=True, cmap=\"BrBG\");\n",
    "#plt.savefig('corr_matrix_all.eps', format='eps')"
   ]
  },
  {
   "cell_type": "code",
   "execution_count": null,
   "id": "original-senator",
   "metadata": {
    "papermill": {
     "duration": 0.019701,
     "end_time": "2021-11-08T01:58:04.034108",
     "exception": false,
     "start_time": "2021-11-08T01:58:04.014407",
     "status": "completed"
    },
    "tags": []
   },
   "outputs": [],
   "source": []
  },
  {
   "cell_type": "code",
   "execution_count": null,
   "id": "saving-secretariat",
   "metadata": {
    "papermill": {
     "duration": 0.018902,
     "end_time": "2021-11-08T01:58:04.071360",
     "exception": false,
     "start_time": "2021-11-08T01:58:04.052458",
     "status": "completed"
    },
    "tags": []
   },
   "outputs": [],
   "source": []
  }
 ],
 "metadata": {
  "kernelspec": {
   "display_name": "Python 3",
   "language": "python",
   "name": "python3"
  },
  "language_info": {
   "codemirror_mode": {
    "name": "ipython",
    "version": 3
   },
   "file_extension": ".py",
   "mimetype": "text/x-python",
   "name": "python",
   "nbconvert_exporter": "python",
   "pygments_lexer": "ipython3",
   "version": "3.6.15"
  },
  "papermill": {
   "default_parameters": {},
   "duration": 20.931364,
   "end_time": "2021-11-08T01:58:04.698502",
   "environment_variables": {},
   "exception": null,
   "input_path": "App-Correlation_charts.ipynb",
   "output_path": "App-Correlation_charts.ipynb",
   "parameters": {},
   "start_time": "2021-11-08T01:57:43.767138",
   "version": "2.2.2"
  }
 },
 "nbformat": 4,
 "nbformat_minor": 5
}