{
 "cells": [
  {
   "cell_type": "markdown",
   "id": "touched-facility",
   "metadata": {
    "papermill": {
     "duration": 0.017285,
     "end_time": "2022-05-31T03:00:36.496670",
     "exception": false,
     "start_time": "2022-05-31T03:00:36.479385",
     "status": "completed"
    },
    "tags": []
   },
   "source": [
    "# Koreliacijų matrica\n",
    "> Išplėstinė koreliacijų matrica. \n",
    "\n",
    "- toc: true \n",
    "- badges: true\n",
    "- comments: false\n",
    "- categories: [Dominykas Tautkus]\n",
    "- image: images/matrix.png"
   ]
  },
  {
   "cell_type": "code",
   "execution_count": null,
   "id": "premium-weekend",
   "metadata": {
    "papermill": {
     "duration": 0.012329,
     "end_time": "2022-05-31T03:00:36.522466",
     "exception": false,
     "start_time": "2022-05-31T03:00:36.510137",
     "status": "completed"
    },
    "tags": []
   },
   "outputs": [],
   "source": []
  },
  {
   "cell_type": "code",
   "execution_count": 1,
   "id": "vertical-rebate",
   "metadata": {
    "execution": {
     "iopub.execute_input": "2022-05-31T03:00:36.560791Z",
     "iopub.status.busy": "2022-05-31T03:00:36.555731Z",
     "iopub.status.idle": "2022-05-31T03:00:36.574208Z",
     "shell.execute_reply": "2022-05-31T03:00:36.573633Z"
    },
    "papermill": {
     "duration": 0.039611,
     "end_time": "2022-05-31T03:00:36.574341",
     "exception": false,
     "start_time": "2022-05-31T03:00:36.534730",
     "status": "completed"
    },
    "tags": []
   },
   "outputs": [],
   "source": [
    "#hide\n",
    "%load_ext autoreload\n",
    "%autoreload 2"
   ]
  },
  {
   "cell_type": "code",
   "execution_count": 2,
   "id": "overall-advancement",
   "metadata": {
    "execution": {
     "iopub.execute_input": "2022-05-31T03:00:36.602932Z",
     "iopub.status.busy": "2022-05-31T03:00:36.602279Z",
     "iopub.status.idle": "2022-05-31T03:00:38.157122Z",
     "shell.execute_reply": "2022-05-31T03:00:38.156336Z"
    },
    "papermill": {
     "duration": 1.571128,
     "end_time": "2022-05-31T03:00:38.157274",
     "exception": false,
     "start_time": "2022-05-31T03:00:36.586146",
     "status": "completed"
    },
    "tags": []
   },
   "outputs": [],
   "source": [
    "#hide\n",
    "from scripts.read_data import read_api\n",
    "from IPython.display import HTML\n",
    "import plotly.graph_objects as go\n"
   ]
  },
  {
   "cell_type": "code",
   "execution_count": 3,
   "id": "light-crazy",
   "metadata": {
    "execution": {
     "iopub.execute_input": "2022-05-31T03:00:38.184446Z",
     "iopub.status.busy": "2022-05-31T03:00:38.183739Z",
     "iopub.status.idle": "2022-05-31T03:00:38.210177Z",
     "shell.execute_reply": "2022-05-31T03:00:38.210623Z"
    },
    "papermill": {
     "duration": 0.041578,
     "end_time": "2022-05-31T03:00:38.210752",
     "exception": false,
     "start_time": "2022-05-31T03:00:38.169174",
     "status": "completed"
    },
    "tags": []
   },
   "outputs": [],
   "source": [
    "#hide\n",
    "### ICO koreliacija"
   ]
  },
  {
   "cell_type": "code",
   "execution_count": 4,
   "id": "likely-bahrain",
   "metadata": {
    "execution": {
     "iopub.execute_input": "2022-05-31T03:00:38.239668Z",
     "iopub.status.busy": "2022-05-31T03:00:38.238241Z",
     "iopub.status.idle": "2022-05-31T03:00:39.225701Z",
     "shell.execute_reply": "2022-05-31T03:00:39.225047Z"
    },
    "papermill": {
     "duration": 1.003397,
     "end_time": "2022-05-31T03:00:39.225841",
     "exception": false,
     "start_time": "2022-05-31T03:00:38.222444",
     "status": "completed"
    },
    "tags": []
   },
   "outputs": [],
   "source": [
    "#hide\n",
    "import matplotlib.pyplot as plt\n",
    "import numpy as np\n",
    "import pandas as pd\n",
    "import seaborn as sns\n",
    "import matplotlib.pyplot as plt \n",
    "import matplotlib.dates as mdates\n",
    "import matplotlib.pyplot as plt"
   ]
  },
  {
   "cell_type": "code",
   "execution_count": 5,
   "id": "superior-blanket",
   "metadata": {
    "execution": {
     "iopub.execute_input": "2022-05-31T03:00:39.258308Z",
     "iopub.status.busy": "2022-05-31T03:00:39.257630Z",
     "iopub.status.idle": "2022-05-31T03:00:49.048962Z",
     "shell.execute_reply": "2022-05-31T03:00:49.048261Z"
    },
    "papermill": {
     "duration": 9.810674,
     "end_time": "2022-05-31T03:00:49.049108",
     "exception": false,
     "start_time": "2022-05-31T03:00:39.238434",
     "status": "completed"
    },
    "tags": []
   },
   "outputs": [
    {
     "name": "stderr",
     "output_type": "stream",
     "text": [
      "/home/runner/work/corr-app/corr-app/_notebooks/scripts/read_data.py:187: SettingWithCopyWarning:\n",
      "\n",
      "\n",
      "A value is trying to be set on a copy of a slice from a DataFrame.\n",
      "Try using .loc[row_indexer,col_indexer] = value instead\n",
      "\n",
      "See the caveats in the documentation: https://pandas.pydata.org/pandas-docs/stable/user_guide/indexing.html#returning-a-view-versus-a-copy\n",
      "\n"
     ]
    },
    {
     "name": "stderr",
     "output_type": "stream",
     "text": [
      "/home/runner/work/corr-app/corr-app/_notebooks/scripts/read_data.py:215: SettingWithCopyWarning:\n",
      "\n",
      "\n",
      "A value is trying to be set on a copy of a slice from a DataFrame.\n",
      "Try using .loc[row_indexer,col_indexer] = value instead\n",
      "\n",
      "See the caveats in the documentation: https://pandas.pydata.org/pandas-docs/stable/user_guide/indexing.html#returning-a-view-versus-a-copy\n",
      "\n"
     ]
    }
   ],
   "source": [
    "#hide\n",
    "df_all = read_api()\n",
    "#df_all = df_all.drop(['SP500', 'XAU', 'ETH', 'BTC'], axis=1)\n",
    "\n"
   ]
  },
  {
   "cell_type": "code",
   "execution_count": 6,
   "id": "mature-alert",
   "metadata": {
    "execution": {
     "iopub.execute_input": "2022-05-31T03:00:49.085098Z",
     "iopub.status.busy": "2022-05-31T03:00:49.083162Z",
     "iopub.status.idle": "2022-05-31T03:00:49.119151Z",
     "shell.execute_reply": "2022-05-31T03:00:49.118557Z"
    },
    "papermill": {
     "duration": 0.056846,
     "end_time": "2022-05-31T03:00:49.119263",
     "exception": false,
     "start_time": "2022-05-31T03:00:49.062417",
     "status": "completed"
    },
    "tags": []
   },
   "outputs": [],
   "source": [
    "#hide_input\n",
    "sum_corr = df_all.corr().sum().sort_values(ascending=True).index.values\n",
    "#df_all[sum_corr].corr()"
   ]
  },
  {
   "cell_type": "markdown",
   "id": "complex-syndicate",
   "metadata": {
    "papermill": {
     "duration": 0.014925,
     "end_time": "2022-05-31T03:00:49.147807",
     "exception": false,
     "start_time": "2022-05-31T03:00:49.132882",
     "status": "completed"
    },
    "tags": []
   },
   "source": [
    "## Išplėstinė koreliacijų matrica. "
   ]
  },
  {
   "cell_type": "code",
   "execution_count": 7,
   "id": "atomic-omaha",
   "metadata": {
    "execution": {
     "iopub.execute_input": "2022-05-31T03:00:49.176983Z",
     "iopub.status.busy": "2022-05-31T03:00:49.175944Z",
     "iopub.status.idle": "2022-05-31T03:00:50.527302Z",
     "shell.execute_reply": "2022-05-31T03:00:50.526735Z"
    },
    "papermill": {
     "duration": 1.367299,
     "end_time": "2022-05-31T03:00:50.527431",
     "exception": false,
     "start_time": "2022-05-31T03:00:49.160132",
     "status": "completed"
    },
    "tags": []
   },
   "outputs": [
    {
     "data": {
      "image/png": "[encoded data removed]",
      "text/plain": [
       "<Figure size 1080x792 with 2 Axes>"
      ]
     },
     "metadata": {
      "needs_background": "light"
     },
     "output_type": "display_data"
    }
   ],
   "source": [
    "#hide_input\n",
    "plt.figure(figsize=(15, 11))\n",
    "sns.heatmap(df_all[sum_corr].corr(), annot=True, cmap=\"cubehelix\") \n",
    "sns.set(font_scale=1.25)\n",
    "plt.savefig('corr_matrix.png', format='eps')"
   ]
  },
  {
   "cell_type": "code",
   "execution_count": 8,
   "id": "arbitrary-sullivan",
   "metadata": {
    "execution": {
     "iopub.execute_input": "2022-05-31T03:00:50.567155Z",
     "iopub.status.busy": "2022-05-31T03:00:50.566459Z",
     "iopub.status.idle": "2022-05-31T03:00:50.599502Z",
     "shell.execute_reply": "2022-05-31T03:00:50.598537Z"
    },
    "papermill": {
     "duration": 0.05673,
     "end_time": "2022-05-31T03:00:50.599710",
     "exception": false,
     "start_time": "2022-05-31T03:00:50.542980",
     "status": "completed"
    },
    "tags": []
   },
   "outputs": [],
   "source": [
    "#hide\n",
    "#df_all_mrk = read_api()"
   ]
  },
  {
   "cell_type": "code",
   "execution_count": 9,
   "id": "delayed-adapter",
   "metadata": {
    "execution": {
     "iopub.execute_input": "2022-05-31T03:00:50.634690Z",
     "iopub.status.busy": "2022-05-31T03:00:50.634074Z",
     "iopub.status.idle": "2022-05-31T03:00:50.668046Z",
     "shell.execute_reply": "2022-05-31T03:00:50.667453Z"
    },
    "papermill": {
     "duration": 0.052138,
     "end_time": "2022-05-31T03:00:50.668169",
     "exception": false,
     "start_time": "2022-05-31T03:00:50.616031",
     "status": "completed"
    },
    "tags": []
   },
   "outputs": [],
   "source": [
    "#hide\n",
    "#Koreliacijų koeficientai"
   ]
  },
  {
   "cell_type": "code",
   "execution_count": 10,
   "id": "seeing-celebration",
   "metadata": {
    "execution": {
     "iopub.execute_input": "2022-05-31T03:00:50.702404Z",
     "iopub.status.busy": "2022-05-31T03:00:50.701781Z",
     "iopub.status.idle": "2022-05-31T03:00:50.732083Z",
     "shell.execute_reply": "2022-05-31T03:00:50.732581Z"
    },
    "papermill": {
     "duration": 0.049591,
     "end_time": "2022-05-31T03:00:50.732753",
     "exception": false,
     "start_time": "2022-05-31T03:00:50.683162",
     "status": "completed"
    },
    "tags": []
   },
   "outputs": [],
   "source": [
    "#hide_input\n",
    "#sum_corr = df_all_mrk.corr().sum().sort_values(ascending=True).index.values\n",
    "#df_all_mrk[sum_corr].corr()"
   ]
  },
  {
   "cell_type": "code",
   "execution_count": 11,
   "id": "other-painting",
   "metadata": {
    "execution": {
     "iopub.execute_input": "2022-05-31T03:00:50.769424Z",
     "iopub.status.busy": "2022-05-31T03:00:50.768743Z",
     "iopub.status.idle": "2022-05-31T03:00:50.797454Z",
     "shell.execute_reply": "2022-05-31T03:00:50.796675Z"
    },
    "papermill": {
     "duration": 0.049872,
     "end_time": "2022-05-31T03:00:50.797621",
     "exception": false,
     "start_time": "2022-05-31T03:00:50.747749",
     "status": "completed"
    },
    "tags": []
   },
   "outputs": [],
   "source": [
    "#hide\n",
    "#Koreliacijos matrica. "
   ]
  },
  {
   "cell_type": "code",
   "execution_count": 12,
   "id": "modular-magnitude",
   "metadata": {
    "execution": {
     "iopub.execute_input": "2022-05-31T03:00:50.831973Z",
     "iopub.status.busy": "2022-05-31T03:00:50.831317Z",
     "iopub.status.idle": "2022-05-31T03:00:50.862333Z",
     "shell.execute_reply": "2022-05-31T03:00:50.861744Z"
    },
    "papermill": {
     "duration": 0.048804,
     "end_time": "2022-05-31T03:00:50.862464",
     "exception": false,
     "start_time": "2022-05-31T03:00:50.813660",
     "status": "completed"
    },
    "tags": []
   },
   "outputs": [],
   "source": [
    "#hide_input\n",
    "#plt.figure(figsize=(15, 8))\n",
    "#sns.heatmap(df_all_mrk[sum_corr].corr(), annot=True, cmap=\"BrBG\");\n",
    "#plt.savefig('corr_matrix_all.eps', format='eps')"
   ]
  },
  {
   "cell_type": "code",
   "execution_count": null,
   "id": "original-senator",
   "metadata": {
    "papermill": {
     "duration": 0.015146,
     "end_time": "2022-05-31T03:00:50.893193",
     "exception": false,
     "start_time": "2022-05-31T03:00:50.878047",
     "status": "completed"
    },
    "tags": []
   },
   "outputs": [],
   "source": []
  },
  {
   "cell_type": "code",
   "execution_count": null,
   "id": "saving-secretariat",
   "metadata": {
    "papermill": {
     "duration": 0.015849,
     "end_time": "2022-05-31T03:00:50.923921",
     "exception": false,
     "start_time": "2022-05-31T03:00:50.908072",
     "status": "completed"
    },
    "tags": []
   },
   "outputs": [],
   "source": []
  }
 ],
 "metadata": {
  "kernelspec": {
   "display_name": "Python 3",
   "language": "python",
   "name": "python3"
  },
  "language_info": {
   "codemirror_mode": {
    "name": "ipython",
    "version": 3
   },
   "file_extension": ".py",
   "mimetype": "text/x-python",
   "name": "python",
   "nbconvert_exporter": "python",
   "pygments_lexer": "ipython3",
   "version": "3.6.15"
  },
  "papermill": {
   "default_parameters": {},
   "duration": 16.276795,
   "end_time": "2022-05-31T03:00:51.462344",
   "environment_variables": {},
   "exception": null,
   "input_path": "App-Correlation_charts.ipynb",
   "output_path": "App-Correlation_charts.ipynb",
   "parameters": {},
   "start_time": "2022-05-31T03:00:35.185549",
   "version": "2.2.2"
  }
 },
 "nbformat": 4,
 "nbformat_minor": 5
}