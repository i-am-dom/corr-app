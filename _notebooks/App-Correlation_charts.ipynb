{
 "cells": [
  {
   "cell_type": "markdown",
   "id": "touched-facility",
   "metadata": {
    "papermill": {
     "duration": 0.015292,
     "end_time": "2022-02-17T01:54:11.107535",
     "exception": false,
     "start_time": "2022-02-17T01:54:11.092243",
     "status": "completed"
    },
    "tags": []
   },
   "source": [
    "# Koreliacijų matrica\n",
    "> Išplėstinė koreliacijų matrica. \n",
    "\n",
    "- toc: true \n",
    "- badges: true\n",
    "- comments: false\n",
    "- categories: [Dominykas Tautkus]\n",
    "- image: images/matrix.png"
   ]
  },
  {
   "cell_type": "code",
   "execution_count": null,
   "id": "premium-weekend",
   "metadata": {
    "papermill": {
     "duration": 0.011218,
     "end_time": "2022-02-17T01:54:11.130410",
     "exception": false,
     "start_time": "2022-02-17T01:54:11.119192",
     "status": "completed"
    },
    "tags": []
   },
   "outputs": [],
   "source": []
  },
  {
   "cell_type": "code",
   "execution_count": 1,
   "id": "vertical-rebate",
   "metadata": {
    "execution": {
     "iopub.execute_input": "2022-02-17T01:54:11.162183Z",
     "iopub.status.busy": "2022-02-17T01:54:11.161611Z",
     "iopub.status.idle": "2022-02-17T01:54:11.172084Z",
     "shell.execute_reply": "2022-02-17T01:54:11.171636Z"
    },
    "papermill": {
     "duration": 0.031063,
     "end_time": "2022-02-17T01:54:11.172206",
     "exception": false,
     "start_time": "2022-02-17T01:54:11.141143",
     "status": "completed"
    },
    "tags": []
   },
   "outputs": [],
   "source": [
    "#hide\n",
    "%load_ext autoreload\n",
    "%autoreload 2"
   ]
  },
  {
   "cell_type": "code",
   "execution_count": 2,
   "id": "overall-advancement",
   "metadata": {
    "execution": {
     "iopub.execute_input": "2022-02-17T01:54:11.199319Z",
     "iopub.status.busy": "2022-02-17T01:54:11.198806Z",
     "iopub.status.idle": "2022-02-17T01:54:12.444326Z",
     "shell.execute_reply": "2022-02-17T01:54:12.444763Z"
    },
    "papermill": {
     "duration": 1.261932,
     "end_time": "2022-02-17T01:54:12.444921",
     "exception": false,
     "start_time": "2022-02-17T01:54:11.182989",
     "status": "completed"
    },
    "tags": []
   },
   "outputs": [],
   "source": [
    "#hide\n",
    "from scripts.read_data import read_api\n",
    "from IPython.display import HTML\n",
    "import plotly.graph_objects as go\n"
   ]
  },
  {
   "cell_type": "code",
   "execution_count": 3,
   "id": "light-crazy",
   "metadata": {
    "execution": {
     "iopub.execute_input": "2022-02-17T01:54:12.469000Z",
     "iopub.status.busy": "2022-02-17T01:54:12.468533Z",
     "iopub.status.idle": "2022-02-17T01:54:12.492681Z",
     "shell.execute_reply": "2022-02-17T01:54:12.492186Z"
    },
    "papermill": {
     "duration": 0.037404,
     "end_time": "2022-02-17T01:54:12.492816",
     "exception": false,
     "start_time": "2022-02-17T01:54:12.455412",
     "status": "completed"
    },
    "tags": []
   },
   "outputs": [],
   "source": [
    "#hide\n",
    "### ICO koreliacija"
   ]
  },
  {
   "cell_type": "code",
   "execution_count": 4,
   "id": "likely-bahrain",
   "metadata": {
    "execution": {
     "iopub.execute_input": "2022-02-17T01:54:12.516391Z",
     "iopub.status.busy": "2022-02-17T01:54:12.515842Z",
     "iopub.status.idle": "2022-02-17T01:54:13.458475Z",
     "shell.execute_reply": "2022-02-17T01:54:13.457928Z"
    },
    "papermill": {
     "duration": 0.955728,
     "end_time": "2022-02-17T01:54:13.458605",
     "exception": false,
     "start_time": "2022-02-17T01:54:12.502877",
     "status": "completed"
    },
    "tags": []
   },
   "outputs": [],
   "source": [
    "#hide\n",
    "import matplotlib.pyplot as plt\n",
    "import numpy as np\n",
    "import pandas as pd\n",
    "import seaborn as sns\n",
    "import matplotlib.pyplot as plt \n",
    "import matplotlib.dates as mdates\n",
    "import matplotlib.pyplot as plt"
   ]
  },
  {
   "cell_type": "code",
   "execution_count": 5,
   "id": "superior-blanket",
   "metadata": {
    "execution": {
     "iopub.execute_input": "2022-02-17T01:54:13.488208Z",
     "iopub.status.busy": "2022-02-17T01:54:13.487651Z",
     "iopub.status.idle": "2022-02-17T01:54:28.968504Z",
     "shell.execute_reply": "2022-02-17T01:54:28.968971Z"
    },
    "papermill": {
     "duration": 15.499037,
     "end_time": "2022-02-17T01:54:28.969122",
     "exception": false,
     "start_time": "2022-02-17T01:54:13.470085",
     "status": "completed"
    },
    "tags": []
   },
   "outputs": [
    {
     "name": "stderr",
     "output_type": "stream",
     "text": [
      "/home/runner/work/corr-app/corr-app/_notebooks/scripts/read_data.py:187: SettingWithCopyWarning:\n",
      "\n",
      "\n",
      "A value is trying to be set on a copy of a slice from a DataFrame.\n",
      "Try using .loc[row_indexer,col_indexer] = value instead\n",
      "\n",
      "See the caveats in the documentation: https://pandas.pydata.org/pandas-docs/stable/user_guide/indexing.html#returning-a-view-versus-a-copy\n",
      "\n"
     ]
    },
    {
     "name": "stderr",
     "output_type": "stream",
     "text": [
      "/home/runner/work/corr-app/corr-app/_notebooks/scripts/read_data.py:215: SettingWithCopyWarning:\n",
      "\n",
      "\n",
      "A value is trying to be set on a copy of a slice from a DataFrame.\n",
      "Try using .loc[row_indexer,col_indexer] = value instead\n",
      "\n",
      "See the caveats in the documentation: https://pandas.pydata.org/pandas-docs/stable/user_guide/indexing.html#returning-a-view-versus-a-copy\n",
      "\n"
     ]
    }
   ],
   "source": [
    "#hide\n",
    "df_all = read_api()\n",
    "#df_all = df_all.drop(['SP500', 'XAU', 'ETH', 'BTC'], axis=1)\n",
    "\n"
   ]
  },
  {
   "cell_type": "code",
   "execution_count": 6,
   "id": "mature-alert",
   "metadata": {
    "execution": {
     "iopub.execute_input": "2022-02-17T01:54:29.003548Z",
     "iopub.status.busy": "2022-02-17T01:54:29.002736Z",
     "iopub.status.idle": "2022-02-17T01:54:29.038472Z",
     "shell.execute_reply": "2022-02-17T01:54:29.038932Z"
    },
    "papermill": {
     "duration": 0.05766,
     "end_time": "2022-02-17T01:54:29.039081",
     "exception": false,
     "start_time": "2022-02-17T01:54:28.981421",
     "status": "completed"
    },
    "tags": []
   },
   "outputs": [],
   "source": [
    "#hide_input\n",
    "sum_corr = df_all.corr().sum().sort_values(ascending=True).index.values\n",
    "#df_all[sum_corr].corr()"
   ]
  },
  {
   "cell_type": "markdown",
   "id": "complex-syndicate",
   "metadata": {
    "papermill": {
     "duration": 0.011435,
     "end_time": "2022-02-17T01:54:29.061989",
     "exception": false,
     "start_time": "2022-02-17T01:54:29.050554",
     "status": "completed"
    },
    "tags": []
   },
   "source": [
    "## Išplėstinė koreliacijų matrica. "
   ]
  },
  {
   "cell_type": "code",
   "execution_count": 7,
   "id": "atomic-omaha",
   "metadata": {
    "execution": {
     "iopub.execute_input": "2022-02-17T01:54:29.102636Z",
     "iopub.status.busy": "2022-02-17T01:54:29.096119Z",
     "iopub.status.idle": "2022-02-17T01:54:30.380680Z",
     "shell.execute_reply": "2022-02-17T01:54:30.380223Z"
    },
    "papermill": {
     "duration": 1.307407,
     "end_time": "2022-02-17T01:54:30.380799",
     "exception": false,
     "start_time": "2022-02-17T01:54:29.073392",
     "status": "completed"
    },
    "tags": []
   },
   "outputs": [
    {
     "data": {
      "image/png": "[encoded data removed]",
      "text/plain": [
       "<Figure size 1080x792 with 2 Axes>"
      ]
     },
     "metadata": {
      "needs_background": "light"
     },
     "output_type": "display_data"
    }
   ],
   "source": [
    "#hide_input\n",
    "plt.figure(figsize=(15, 11))\n",
    "sns.heatmap(df_all[sum_corr].corr(), annot=True, cmap=\"cubehelix\") \n",
    "sns.set(font_scale=1.25)\n",
    "plt.savefig('corr_matrix.png', format='eps')"
   ]
  },
  {
   "cell_type": "code",
   "execution_count": 8,
   "id": "arbitrary-sullivan",
   "metadata": {
    "execution": {
     "iopub.execute_input": "2022-02-17T01:54:30.417413Z",
     "iopub.status.busy": "2022-02-17T01:54:30.411268Z",
     "iopub.status.idle": "2022-02-17T01:54:30.439352Z",
     "shell.execute_reply": "2022-02-17T01:54:30.439822Z"
    },
    "papermill": {
     "duration": 0.045495,
     "end_time": "2022-02-17T01:54:30.439991",
     "exception": false,
     "start_time": "2022-02-17T01:54:30.394496",
     "status": "completed"
    },
    "tags": []
   },
   "outputs": [],
   "source": [
    "#hide\n",
    "#df_all_mrk = read_api()"
   ]
  },
  {
   "cell_type": "code",
   "execution_count": 9,
   "id": "delayed-adapter",
   "metadata": {
    "execution": {
     "iopub.execute_input": "2022-02-17T01:54:30.468942Z",
     "iopub.status.busy": "2022-02-17T01:54:30.468462Z",
     "iopub.status.idle": "2022-02-17T01:54:30.496871Z",
     "shell.execute_reply": "2022-02-17T01:54:30.496335Z"
    },
    "papermill": {
     "duration": 0.044374,
     "end_time": "2022-02-17T01:54:30.497022",
     "exception": false,
     "start_time": "2022-02-17T01:54:30.452648",
     "status": "completed"
    },
    "tags": []
   },
   "outputs": [],
   "source": [
    "#hide\n",
    "#Koreliacijų koeficientai"
   ]
  },
  {
   "cell_type": "code",
   "execution_count": 10,
   "id": "seeing-celebration",
   "metadata": {
    "execution": {
     "iopub.execute_input": "2022-02-17T01:54:30.532791Z",
     "iopub.status.busy": "2022-02-17T01:54:30.532312Z",
     "iopub.status.idle": "2022-02-17T01:54:30.557073Z",
     "shell.execute_reply": "2022-02-17T01:54:30.556633Z"
    },
    "papermill": {
     "duration": 0.044602,
     "end_time": "2022-02-17T01:54:30.557199",
     "exception": false,
     "start_time": "2022-02-17T01:54:30.512597",
     "status": "completed"
    },
    "tags": []
   },
   "outputs": [],
   "source": [
    "#hide_input\n",
    "#sum_corr = df_all_mrk.corr().sum().sort_values(ascending=True).index.values\n",
    "#df_all_mrk[sum_corr].corr()"
   ]
  },
  {
   "cell_type": "code",
   "execution_count": 11,
   "id": "other-painting",
   "metadata": {
    "execution": {
     "iopub.execute_input": "2022-02-17T01:54:30.595890Z",
     "iopub.status.busy": "2022-02-17T01:54:30.594751Z",
     "iopub.status.idle": "2022-02-17T01:54:30.615191Z",
     "shell.execute_reply": "2022-02-17T01:54:30.615576Z"
    },
    "papermill": {
     "duration": 0.046413,
     "end_time": "2022-02-17T01:54:30.615718",
     "exception": false,
     "start_time": "2022-02-17T01:54:30.569305",
     "status": "completed"
    },
    "tags": []
   },
   "outputs": [],
   "source": [
    "#hide\n",
    "#Koreliacijos matrica. "
   ]
  },
  {
   "cell_type": "code",
   "execution_count": 12,
   "id": "modular-magnitude",
   "metadata": {
    "execution": {
     "iopub.execute_input": "2022-02-17T01:54:30.643251Z",
     "iopub.status.busy": "2022-02-17T01:54:30.642779Z",
     "iopub.status.idle": "2022-02-17T01:54:30.671057Z",
     "shell.execute_reply": "2022-02-17T01:54:30.670487Z"
    },
    "papermill": {
     "duration": 0.043152,
     "end_time": "2022-02-17T01:54:30.671201",
     "exception": false,
     "start_time": "2022-02-17T01:54:30.628049",
     "status": "completed"
    },
    "tags": []
   },
   "outputs": [],
   "source": [
    "#hide_input\n",
    "#plt.figure(figsize=(15, 8))\n",
    "#sns.heatmap(df_all_mrk[sum_corr].corr(), annot=True, cmap=\"BrBG\");\n",
    "#plt.savefig('corr_matrix_all.eps', format='eps')"
   ]
  },
  {
   "cell_type": "code",
   "execution_count": null,
   "id": "original-senator",
   "metadata": {
    "papermill": {
     "duration": 0.011855,
     "end_time": "2022-02-17T01:54:30.695967",
     "exception": false,
     "start_time": "2022-02-17T01:54:30.684112",
     "status": "completed"
    },
    "tags": []
   },
   "outputs": [],
   "source": []
  },
  {
   "cell_type": "code",
   "execution_count": null,
   "id": "saving-secretariat",
   "metadata": {
    "papermill": {
     "duration": 0.011812,
     "end_time": "2022-02-17T01:54:30.719637",
     "exception": false,
     "start_time": "2022-02-17T01:54:30.707825",
     "status": "completed"
    },
    "tags": []
   },
   "outputs": [],
   "source": []
  }
 ],
 "metadata": {
  "kernelspec": {
   "display_name": "Python 3",
   "language": "python",
   "name": "python3"
  },
  "language_info": {
   "codemirror_mode": {
    "name": "ipython",
    "version": 3
   },
   "file_extension": ".py",
   "mimetype": "text/x-python",
   "name": "python",
   "nbconvert_exporter": "python",
   "pygments_lexer": "ipython3",
   "version": "3.6.15"
  },
  "papermill": {
   "default_parameters": {},
   "duration": 21.187102,
   "end_time": "2022-02-17T01:54:31.351976",
   "environment_variables": {},
   "exception": null,
   "input_path": "App-Correlation_charts.ipynb",
   "output_path": "App-Correlation_charts.ipynb",
   "parameters": {},
   "start_time": "2022-02-17T01:54:10.164874",
   "version": "2.2.2"
  }
 },
 "nbformat": 4,
 "nbformat_minor": 5
}