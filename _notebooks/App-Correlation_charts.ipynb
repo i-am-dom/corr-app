{
 "cells": [
  {
   "cell_type": "markdown",
   "id": "touched-facility",
   "metadata": {
    "papermill": {
     "duration": 0.015423,
     "end_time": "2022-11-17T02:48:42.683498",
     "exception": false,
     "start_time": "2022-11-17T02:48:42.668075",
     "status": "completed"
    },
    "tags": []
   },
   "source": [
    "# Koreliacijų matrica\n",
    "> Išplėstinė koreliacijų matrica. \n",
    "\n",
    "- toc: true \n",
    "- badges: true\n",
    "- comments: false\n",
    "- categories: [Dominykas Tautkus]\n",
    "- image: images/matrix.png"
   ]
  },
  {
   "cell_type": "code",
   "execution_count": null,
   "id": "premium-weekend",
   "metadata": {
    "papermill": {
     "duration": 0.010673,
     "end_time": "2022-11-17T02:48:42.705473",
     "exception": false,
     "start_time": "2022-11-17T02:48:42.694800",
     "status": "completed"
    },
    "tags": []
   },
   "outputs": [],
   "source": []
  },
  {
   "cell_type": "code",
   "execution_count": 1,
   "id": "vertical-rebate",
   "metadata": {
    "execution": {
     "iopub.execute_input": "2022-11-17T02:48:42.737644Z",
     "iopub.status.busy": "2022-11-17T02:48:42.734362Z",
     "iopub.status.idle": "2022-11-17T02:48:42.747927Z",
     "shell.execute_reply": "2022-11-17T02:48:42.747414Z"
    },
    "papermill": {
     "duration": 0.031978,
     "end_time": "2022-11-17T02:48:42.748045",
     "exception": false,
     "start_time": "2022-11-17T02:48:42.716067",
     "status": "completed"
    },
    "tags": []
   },
   "outputs": [],
   "source": [
    "#hide\n",
    "%load_ext autoreload\n",
    "%autoreload 2"
   ]
  },
  {
   "cell_type": "code",
   "execution_count": 2,
   "id": "overall-advancement",
   "metadata": {
    "execution": {
     "iopub.execute_input": "2022-11-17T02:48:42.785130Z",
     "iopub.status.busy": "2022-11-17T02:48:42.784534Z",
     "iopub.status.idle": "2022-11-17T02:48:43.950830Z",
     "shell.execute_reply": "2022-11-17T02:48:43.950320Z"
    },
    "papermill": {
     "duration": 1.192412,
     "end_time": "2022-11-17T02:48:43.950953",
     "exception": false,
     "start_time": "2022-11-17T02:48:42.758541",
     "status": "completed"
    },
    "tags": []
   },
   "outputs": [],
   "source": [
    "#hide\n",
    "from scripts.read_data import read_api\n",
    "from IPython.display import HTML\n",
    "import plotly.graph_objects as go\n"
   ]
  },
  {
   "cell_type": "code",
   "execution_count": 3,
   "id": "light-crazy",
   "metadata": {
    "execution": {
     "iopub.execute_input": "2022-11-17T02:48:43.977444Z",
     "iopub.status.busy": "2022-11-17T02:48:43.976849Z",
     "iopub.status.idle": "2022-11-17T02:48:44.000573Z",
     "shell.execute_reply": "2022-11-17T02:48:44.000046Z"
    },
    "papermill": {
     "duration": 0.038572,
     "end_time": "2022-11-17T02:48:44.000688",
     "exception": false,
     "start_time": "2022-11-17T02:48:43.962116",
     "status": "completed"
    },
    "tags": []
   },
   "outputs": [],
   "source": [
    "#hide\n",
    "### ICO koreliacija"
   ]
  },
  {
   "cell_type": "code",
   "execution_count": 4,
   "id": "likely-bahrain",
   "metadata": {
    "execution": {
     "iopub.execute_input": "2022-11-17T02:48:44.035063Z",
     "iopub.status.busy": "2022-11-17T02:48:44.034193Z",
     "iopub.status.idle": "2022-11-17T02:48:44.855683Z",
     "shell.execute_reply": "2022-11-17T02:48:44.855106Z"
    },
    "papermill": {
     "duration": 0.844026,
     "end_time": "2022-11-17T02:48:44.855812",
     "exception": false,
     "start_time": "2022-11-17T02:48:44.011786",
     "status": "completed"
    },
    "tags": []
   },
   "outputs": [],
   "source": [
    "#hide\n",
    "import matplotlib.pyplot as plt\n",
    "import numpy as np\n",
    "import pandas as pd\n",
    "import seaborn as sns\n",
    "import matplotlib.pyplot as plt \n",
    "import matplotlib.dates as mdates\n",
    "import matplotlib.pyplot as plt"
   ]
  },
  {
   "cell_type": "code",
   "execution_count": 5,
   "id": "superior-blanket",
   "metadata": {
    "execution": {
     "iopub.execute_input": "2022-11-17T02:48:44.889990Z",
     "iopub.status.busy": "2022-11-17T02:48:44.881826Z",
     "iopub.status.idle": "2022-11-17T02:48:54.451937Z",
     "shell.execute_reply": "2022-11-17T02:48:54.451084Z"
    },
    "papermill": {
     "duration": 9.585394,
     "end_time": "2022-11-17T02:48:54.452066",
     "exception": false,
     "start_time": "2022-11-17T02:48:44.866672",
     "status": "completed"
    },
    "tags": []
   },
   "outputs": [
    {
     "name": "stderr",
     "output_type": "stream",
     "text": [
      "/home/runner/work/corr-app/corr-app/_notebooks/scripts/read_data.py:187: SettingWithCopyWarning:\n",
      "\n",
      "\n",
      "A value is trying to be set on a copy of a slice from a DataFrame.\n",
      "Try using .loc[row_indexer,col_indexer] = value instead\n",
      "\n",
      "See the caveats in the documentation: https://pandas.pydata.org/pandas-docs/stable/user_guide/indexing.html#returning-a-view-versus-a-copy\n",
      "\n"
     ]
    },
    {
     "name": "stderr",
     "output_type": "stream",
     "text": [
      "/home/runner/work/corr-app/corr-app/_notebooks/scripts/read_data.py:215: SettingWithCopyWarning:\n",
      "\n",
      "\n",
      "A value is trying to be set on a copy of a slice from a DataFrame.\n",
      "Try using .loc[row_indexer,col_indexer] = value instead\n",
      "\n",
      "See the caveats in the documentation: https://pandas.pydata.org/pandas-docs/stable/user_guide/indexing.html#returning-a-view-versus-a-copy\n",
      "\n"
     ]
    }
   ],
   "source": [
    "#hide\n",
    "df_all = read_api()\n",
    "#df_all = df_all.drop(['SP500', 'XAU', 'ETH', 'BTC'], axis=1)\n",
    "\n"
   ]
  },
  {
   "cell_type": "code",
   "execution_count": 6,
   "id": "mature-alert",
   "metadata": {
    "execution": {
     "iopub.execute_input": "2022-11-17T02:48:54.480709Z",
     "iopub.status.busy": "2022-11-17T02:48:54.480108Z",
     "iopub.status.idle": "2022-11-17T02:48:54.510364Z",
     "shell.execute_reply": "2022-11-17T02:48:54.509797Z"
    },
    "papermill": {
     "duration": 0.045782,
     "end_time": "2022-11-17T02:48:54.510476",
     "exception": false,
     "start_time": "2022-11-17T02:48:54.464694",
     "status": "completed"
    },
    "tags": []
   },
   "outputs": [],
   "source": [
    "#hide_input\n",
    "sum_corr = df_all.corr().sum().sort_values(ascending=True).index.values\n",
    "#df_all[sum_corr].corr()"
   ]
  },
  {
   "cell_type": "markdown",
   "id": "complex-syndicate",
   "metadata": {
    "papermill": {
     "duration": 0.011103,
     "end_time": "2022-11-17T02:48:54.532840",
     "exception": false,
     "start_time": "2022-11-17T02:48:54.521737",
     "status": "completed"
    },
    "tags": []
   },
   "source": [
    "## Išplėstinė koreliacijų matrica. "
   ]
  },
  {
   "cell_type": "code",
   "execution_count": 7,
   "id": "atomic-omaha",
   "metadata": {
    "execution": {
     "iopub.execute_input": "2022-11-17T02:48:54.559115Z",
     "iopub.status.busy": "2022-11-17T02:48:54.558537Z",
     "iopub.status.idle": "2022-11-17T02:48:55.744500Z",
     "shell.execute_reply": "2022-11-17T02:48:55.744946Z"
    },
    "papermill": {
     "duration": 1.201125,
     "end_time": "2022-11-17T02:48:55.745083",
     "exception": false,
     "start_time": "2022-11-17T02:48:54.543958",
     "status": "completed"
    },
    "tags": []
   },
   "outputs": [
    {
     "data": {
      "image/png": "[encoded data removed]",
      "text/plain": [
       "<Figure size 1080x792 with 2 Axes>"
      ]
     },
     "metadata": {
      "needs_background": "light"
     },
     "output_type": "display_data"
    }
   ],
   "source": [
    "#hide_input\n",
    "plt.figure(figsize=(15, 11))\n",
    "sns.heatmap(df_all[sum_corr].corr(), annot=True, cmap=\"cubehelix\") \n",
    "sns.set(font_scale=1.25)\n",
    "plt.savefig('corr_matrix.png', format='eps')"
   ]
  },
  {
   "cell_type": "code",
   "execution_count": 8,
   "id": "arbitrary-sullivan",
   "metadata": {
    "execution": {
     "iopub.execute_input": "2022-11-17T02:48:55.780835Z",
     "iopub.status.busy": "2022-11-17T02:48:55.774951Z",
     "iopub.status.idle": "2022-11-17T02:48:55.802526Z",
     "shell.execute_reply": "2022-11-17T02:48:55.802051Z"
    },
    "papermill": {
     "duration": 0.044056,
     "end_time": "2022-11-17T02:48:55.802634",
     "exception": false,
     "start_time": "2022-11-17T02:48:55.758578",
     "status": "completed"
    },
    "tags": []
   },
   "outputs": [],
   "source": [
    "#hide\n",
    "#df_all_mrk = read_api()"
   ]
  },
  {
   "cell_type": "code",
   "execution_count": 9,
   "id": "delayed-adapter",
   "metadata": {
    "execution": {
     "iopub.execute_input": "2022-11-17T02:48:55.836944Z",
     "iopub.status.busy": "2022-11-17T02:48:55.836043Z",
     "iopub.status.idle": "2022-11-17T02:48:55.861533Z",
     "shell.execute_reply": "2022-11-17T02:48:55.860281Z"
    },
    "papermill": {
     "duration": 0.045928,
     "end_time": "2022-11-17T02:48:55.861653",
     "exception": false,
     "start_time": "2022-11-17T02:48:55.815725",
     "status": "completed"
    },
    "tags": []
   },
   "outputs": [],
   "source": [
    "#hide\n",
    "#Koreliacijų koeficientai"
   ]
  },
  {
   "cell_type": "code",
   "execution_count": 10,
   "id": "seeing-celebration",
   "metadata": {
    "execution": {
     "iopub.execute_input": "2022-11-17T02:48:55.894647Z",
     "iopub.status.busy": "2022-11-17T02:48:55.894074Z",
     "iopub.status.idle": "2022-11-17T02:48:55.918785Z",
     "shell.execute_reply": "2022-11-17T02:48:55.918192Z"
    },
    "papermill": {
     "duration": 0.043452,
     "end_time": "2022-11-17T02:48:55.918895",
     "exception": false,
     "start_time": "2022-11-17T02:48:55.875443",
     "status": "completed"
    },
    "tags": []
   },
   "outputs": [],
   "source": [
    "#hide_input\n",
    "#sum_corr = df_all_mrk.corr().sum().sort_values(ascending=True).index.values\n",
    "#df_all_mrk[sum_corr].corr()"
   ]
  },
  {
   "cell_type": "code",
   "execution_count": 11,
   "id": "other-painting",
   "metadata": {
    "execution": {
     "iopub.execute_input": "2022-11-17T02:48:55.948870Z",
     "iopub.status.busy": "2022-11-17T02:48:55.948310Z",
     "iopub.status.idle": "2022-11-17T02:48:55.974335Z",
     "shell.execute_reply": "2022-11-17T02:48:55.973803Z"
    },
    "papermill": {
     "duration": 0.04214,
     "end_time": "2022-11-17T02:48:55.974452",
     "exception": false,
     "start_time": "2022-11-17T02:48:55.932312",
     "status": "completed"
    },
    "tags": []
   },
   "outputs": [],
   "source": [
    "#hide\n",
    "#Koreliacijos matrica. "
   ]
  },
  {
   "cell_type": "code",
   "execution_count": 12,
   "id": "modular-magnitude",
   "metadata": {
    "execution": {
     "iopub.execute_input": "2022-11-17T02:48:56.004571Z",
     "iopub.status.busy": "2022-11-17T02:48:56.003984Z",
     "iopub.status.idle": "2022-11-17T02:48:56.031363Z",
     "shell.execute_reply": "2022-11-17T02:48:56.030715Z"
    },
    "papermill": {
     "duration": 0.043384,
     "end_time": "2022-11-17T02:48:56.031481",
     "exception": false,
     "start_time": "2022-11-17T02:48:55.988097",
     "status": "completed"
    },
    "tags": []
   },
   "outputs": [],
   "source": [
    "#hide_input\n",
    "#plt.figure(figsize=(15, 8))\n",
    "#sns.heatmap(df_all_mrk[sum_corr].corr(), annot=True, cmap=\"BrBG\");\n",
    "#plt.savefig('corr_matrix_all.eps', format='eps')"
   ]
  },
  {
   "cell_type": "code",
   "execution_count": null,
   "id": "original-senator",
   "metadata": {
    "papermill": {
     "duration": 0.012963,
     "end_time": "2022-11-17T02:48:56.058343",
     "exception": false,
     "start_time": "2022-11-17T02:48:56.045380",
     "status": "completed"
    },
    "tags": []
   },
   "outputs": [],
   "source": []
  },
  {
   "cell_type": "code",
   "execution_count": null,
   "id": "saving-secretariat",
   "metadata": {
    "papermill": {
     "duration": 0.013047,
     "end_time": "2022-11-17T02:48:56.084433",
     "exception": false,
     "start_time": "2022-11-17T02:48:56.071386",
     "status": "completed"
    },
    "tags": []
   },
   "outputs": [],
   "source": []
  }
 ],
 "metadata": {
  "kernelspec": {
   "display_name": "Python 3",
   "language": "python",
   "name": "python3"
  },
  "language_info": {
   "codemirror_mode": {
    "name": "ipython",
    "version": 3
   },
   "file_extension": ".py",
   "mimetype": "text/x-python",
   "name": "python",
   "nbconvert_exporter": "python",
   "pygments_lexer": "ipython3",
   "version": "3.6.15"
  },
  "papermill": {
   "default_parameters": {},
   "duration": 14.875737,
   "end_time": "2022-11-17T02:48:56.617064",
   "environment_variables": {},
   "exception": null,
   "input_path": "App-Correlation_charts.ipynb",
   "output_path": "App-Correlation_charts.ipynb",
   "parameters": {},
   "start_time": "2022-11-17T02:48:41.741327",
   "version": "2.2.2"
  }
 },
 "nbformat": 4,
 "nbformat_minor": 5
}