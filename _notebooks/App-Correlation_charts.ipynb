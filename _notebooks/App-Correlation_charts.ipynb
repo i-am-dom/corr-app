{
 "cells": [
  {
   "cell_type": "markdown",
   "id": "touched-facility",
   "metadata": {
    "papermill": {
     "duration": 0.017539,
     "end_time": "2022-10-17T03:55:42.079164",
     "exception": false,
     "start_time": "2022-10-17T03:55:42.061625",
     "status": "completed"
    },
    "tags": []
   },
   "source": [
    "# Koreliacijų matrica\n",
    "> Išplėstinė koreliacijų matrica. \n",
    "\n",
    "- toc: true \n",
    "- badges: true\n",
    "- comments: false\n",
    "- categories: [Dominykas Tautkus]\n",
    "- image: images/matrix.png"
   ]
  },
  {
   "cell_type": "code",
   "execution_count": null,
   "id": "premium-weekend",
   "metadata": {
    "papermill": {
     "duration": 0.012969,
     "end_time": "2022-10-17T03:55:42.107627",
     "exception": false,
     "start_time": "2022-10-17T03:55:42.094658",
     "status": "completed"
    },
    "tags": []
   },
   "outputs": [],
   "source": []
  },
  {
   "cell_type": "code",
   "execution_count": 1,
   "id": "vertical-rebate",
   "metadata": {
    "execution": {
     "iopub.execute_input": "2022-10-17T03:55:42.150967Z",
     "iopub.status.busy": "2022-10-17T03:55:42.150201Z",
     "iopub.status.idle": "2022-10-17T03:55:42.164451Z",
     "shell.execute_reply": "2022-10-17T03:55:42.163677Z"
    },
    "papermill": {
     "duration": 0.043649,
     "end_time": "2022-10-17T03:55:42.164661",
     "exception": false,
     "start_time": "2022-10-17T03:55:42.121012",
     "status": "completed"
    },
    "tags": []
   },
   "outputs": [],
   "source": [
    "#hide\n",
    "%load_ext autoreload\n",
    "%autoreload 2"
   ]
  },
  {
   "cell_type": "code",
   "execution_count": 2,
   "id": "overall-advancement",
   "metadata": {
    "execution": {
     "iopub.execute_input": "2022-10-17T03:55:42.195195Z",
     "iopub.status.busy": "2022-10-17T03:55:42.194540Z",
     "iopub.status.idle": "2022-10-17T03:55:43.753803Z",
     "shell.execute_reply": "2022-10-17T03:55:43.753076Z"
    },
    "papermill": {
     "duration": 1.576758,
     "end_time": "2022-10-17T03:55:43.753974",
     "exception": false,
     "start_time": "2022-10-17T03:55:42.177216",
     "status": "completed"
    },
    "tags": []
   },
   "outputs": [],
   "source": [
    "#hide\n",
    "from scripts.read_data import read_api\n",
    "from IPython.display import HTML\n",
    "import plotly.graph_objects as go\n"
   ]
  },
  {
   "cell_type": "code",
   "execution_count": 3,
   "id": "light-crazy",
   "metadata": {
    "execution": {
     "iopub.execute_input": "2022-10-17T03:55:43.786612Z",
     "iopub.status.busy": "2022-10-17T03:55:43.785932Z",
     "iopub.status.idle": "2022-10-17T03:55:43.815416Z",
     "shell.execute_reply": "2022-10-17T03:55:43.814727Z"
    },
    "papermill": {
     "duration": 0.048319,
     "end_time": "2022-10-17T03:55:43.815549",
     "exception": false,
     "start_time": "2022-10-17T03:55:43.767230",
     "status": "completed"
    },
    "tags": []
   },
   "outputs": [],
   "source": [
    "#hide\n",
    "### ICO koreliacija"
   ]
  },
  {
   "cell_type": "code",
   "execution_count": 4,
   "id": "likely-bahrain",
   "metadata": {
    "execution": {
     "iopub.execute_input": "2022-10-17T03:55:43.849283Z",
     "iopub.status.busy": "2022-10-17T03:55:43.848603Z",
     "iopub.status.idle": "2022-10-17T03:55:44.889408Z",
     "shell.execute_reply": "2022-10-17T03:55:44.888828Z"
    },
    "papermill": {
     "duration": 1.059971,
     "end_time": "2022-10-17T03:55:44.889550",
     "exception": false,
     "start_time": "2022-10-17T03:55:43.829579",
     "status": "completed"
    },
    "tags": []
   },
   "outputs": [],
   "source": [
    "#hide\n",
    "import matplotlib.pyplot as plt\n",
    "import numpy as np\n",
    "import pandas as pd\n",
    "import seaborn as sns\n",
    "import matplotlib.pyplot as plt \n",
    "import matplotlib.dates as mdates\n",
    "import matplotlib.pyplot as plt"
   ]
  },
  {
   "cell_type": "code",
   "execution_count": 5,
   "id": "superior-blanket",
   "metadata": {
    "execution": {
     "iopub.execute_input": "2022-10-17T03:55:44.922483Z",
     "iopub.status.busy": "2022-10-17T03:55:44.921775Z",
     "iopub.status.idle": "2022-10-17T03:55:59.868314Z",
     "shell.execute_reply": "2022-10-17T03:55:59.867518Z"
    },
    "papermill": {
     "duration": 14.965654,
     "end_time": "2022-10-17T03:55:59.868495",
     "exception": false,
     "start_time": "2022-10-17T03:55:44.902841",
     "status": "completed"
    },
    "tags": []
   },
   "outputs": [
    {
     "name": "stderr",
     "output_type": "stream",
     "text": [
      "/home/runner/work/corr-app/corr-app/_notebooks/scripts/read_data.py:187: SettingWithCopyWarning:\n",
      "\n",
      "\n",
      "A value is trying to be set on a copy of a slice from a DataFrame.\n",
      "Try using .loc[row_indexer,col_indexer] = value instead\n",
      "\n",
      "See the caveats in the documentation: https://pandas.pydata.org/pandas-docs/stable/user_guide/indexing.html#returning-a-view-versus-a-copy\n",
      "\n"
     ]
    },
    {
     "name": "stderr",
     "output_type": "stream",
     "text": [
      "/home/runner/work/corr-app/corr-app/_notebooks/scripts/read_data.py:215: SettingWithCopyWarning:\n",
      "\n",
      "\n",
      "A value is trying to be set on a copy of a slice from a DataFrame.\n",
      "Try using .loc[row_indexer,col_indexer] = value instead\n",
      "\n",
      "See the caveats in the documentation: https://pandas.pydata.org/pandas-docs/stable/user_guide/indexing.html#returning-a-view-versus-a-copy\n",
      "\n"
     ]
    }
   ],
   "source": [
    "#hide\n",
    "df_all = read_api()\n",
    "#df_all = df_all.drop(['SP500', 'XAU', 'ETH', 'BTC'], axis=1)\n",
    "\n"
   ]
  },
  {
   "cell_type": "code",
   "execution_count": 6,
   "id": "mature-alert",
   "metadata": {
    "execution": {
     "iopub.execute_input": "2022-10-17T03:55:59.961684Z",
     "iopub.status.busy": "2022-10-17T03:55:59.960976Z",
     "iopub.status.idle": "2022-10-17T03:56:00.000477Z",
     "shell.execute_reply": "2022-10-17T03:55:59.999751Z"
    },
    "papermill": {
     "duration": 0.097281,
     "end_time": "2022-10-17T03:56:00.000633",
     "exception": false,
     "start_time": "2022-10-17T03:55:59.903352",
     "status": "completed"
    },
    "tags": []
   },
   "outputs": [],
   "source": [
    "#hide_input\n",
    "sum_corr = df_all.corr().sum().sort_values(ascending=True).index.values\n",
    "#df_all[sum_corr].corr()"
   ]
  },
  {
   "cell_type": "markdown",
   "id": "complex-syndicate",
   "metadata": {
    "papermill": {
     "duration": 0.048022,
     "end_time": "2022-10-17T03:56:00.105410",
     "exception": false,
     "start_time": "2022-10-17T03:56:00.057388",
     "status": "completed"
    },
    "tags": []
   },
   "source": [
    "## Išplėstinė koreliacijų matrica. "
   ]
  },
  {
   "cell_type": "code",
   "execution_count": 7,
   "id": "atomic-omaha",
   "metadata": {
    "execution": {
     "iopub.execute_input": "2022-10-17T03:56:00.212568Z",
     "iopub.status.busy": "2022-10-17T03:56:00.211614Z",
     "iopub.status.idle": "2022-10-17T03:56:02.077366Z",
     "shell.execute_reply": "2022-10-17T03:56:02.075211Z"
    },
    "papermill": {
     "duration": 1.91769,
     "end_time": "2022-10-17T03:56:02.077546",
     "exception": false,
     "start_time": "2022-10-17T03:56:00.159856",
     "status": "completed"
    },
    "tags": []
   },
   "outputs": [
    {
     "data": {
      "image/png": "[encoded data removed]",
      "text/plain": [
       "<Figure size 1080x792 with 2 Axes>"
      ]
     },
     "metadata": {
      "needs_background": "light"
     },
     "output_type": "display_data"
    }
   ],
   "source": [
    "#hide_input\n",
    "plt.figure(figsize=(15, 11))\n",
    "sns.heatmap(df_all[sum_corr].corr(), annot=True, cmap=\"cubehelix\") \n",
    "sns.set(font_scale=1.25)\n",
    "plt.savefig('corr_matrix.png', format='eps')"
   ]
  },
  {
   "cell_type": "code",
   "execution_count": 8,
   "id": "arbitrary-sullivan",
   "metadata": {
    "execution": {
     "iopub.execute_input": "2022-10-17T03:56:02.126933Z",
     "iopub.status.busy": "2022-10-17T03:56:02.125935Z",
     "iopub.status.idle": "2022-10-17T03:56:02.168189Z",
     "shell.execute_reply": "2022-10-17T03:56:02.167376Z"
    },
    "papermill": {
     "duration": 0.066616,
     "end_time": "2022-10-17T03:56:02.168347",
     "exception": false,
     "start_time": "2022-10-17T03:56:02.101731",
     "status": "completed"
    },
    "tags": []
   },
   "outputs": [],
   "source": [
    "#hide\n",
    "#df_all_mrk = read_api()"
   ]
  },
  {
   "cell_type": "code",
   "execution_count": 9,
   "id": "delayed-adapter",
   "metadata": {
    "execution": {
     "iopub.execute_input": "2022-10-17T03:56:02.204946Z",
     "iopub.status.busy": "2022-10-17T03:56:02.204300Z",
     "iopub.status.idle": "2022-10-17T03:56:02.241007Z",
     "shell.execute_reply": "2022-10-17T03:56:02.241647Z"
    },
    "papermill": {
     "duration": 0.057246,
     "end_time": "2022-10-17T03:56:02.241831",
     "exception": false,
     "start_time": "2022-10-17T03:56:02.184585",
     "status": "completed"
    },
    "tags": []
   },
   "outputs": [],
   "source": [
    "#hide\n",
    "#Koreliacijų koeficientai"
   ]
  },
  {
   "cell_type": "code",
   "execution_count": 10,
   "id": "seeing-celebration",
   "metadata": {
    "execution": {
     "iopub.execute_input": "2022-10-17T03:56:02.281489Z",
     "iopub.status.busy": "2022-10-17T03:56:02.280617Z",
     "iopub.status.idle": "2022-10-17T03:56:02.319144Z",
     "shell.execute_reply": "2022-10-17T03:56:02.319608Z"
    },
    "papermill": {
     "duration": 0.060321,
     "end_time": "2022-10-17T03:56:02.319750",
     "exception": false,
     "start_time": "2022-10-17T03:56:02.259429",
     "status": "completed"
    },
    "tags": []
   },
   "outputs": [],
   "source": [
    "#hide_input\n",
    "#sum_corr = df_all_mrk.corr().sum().sort_values(ascending=True).index.values\n",
    "#df_all_mrk[sum_corr].corr()"
   ]
  },
  {
   "cell_type": "code",
   "execution_count": 11,
   "id": "other-painting",
   "metadata": {
    "execution": {
     "iopub.execute_input": "2022-10-17T03:56:02.356871Z",
     "iopub.status.busy": "2022-10-17T03:56:02.355967Z",
     "iopub.status.idle": "2022-10-17T03:56:02.392784Z",
     "shell.execute_reply": "2022-10-17T03:56:02.392188Z"
    },
    "papermill": {
     "duration": 0.057865,
     "end_time": "2022-10-17T03:56:02.392971",
     "exception": false,
     "start_time": "2022-10-17T03:56:02.335106",
     "status": "completed"
    },
    "tags": []
   },
   "outputs": [],
   "source": [
    "#hide\n",
    "#Koreliacijos matrica. "
   ]
  },
  {
   "cell_type": "code",
   "execution_count": 12,
   "id": "modular-magnitude",
   "metadata": {
    "execution": {
     "iopub.execute_input": "2022-10-17T03:56:02.434455Z",
     "iopub.status.busy": "2022-10-17T03:56:02.433803Z",
     "iopub.status.idle": "2022-10-17T03:56:02.461580Z",
     "shell.execute_reply": "2022-10-17T03:56:02.460913Z"
    },
    "papermill": {
     "duration": 0.04815,
     "end_time": "2022-10-17T03:56:02.461733",
     "exception": false,
     "start_time": "2022-10-17T03:56:02.413583",
     "status": "completed"
    },
    "tags": []
   },
   "outputs": [],
   "source": [
    "#hide_input\n",
    "#plt.figure(figsize=(15, 8))\n",
    "#sns.heatmap(df_all_mrk[sum_corr].corr(), annot=True, cmap=\"BrBG\");\n",
    "#plt.savefig('corr_matrix_all.eps', format='eps')"
   ]
  },
  {
   "cell_type": "code",
   "execution_count": null,
   "id": "original-senator",
   "metadata": {
    "papermill": {
     "duration": 0.016108,
     "end_time": "2022-10-17T03:56:02.494855",
     "exception": false,
     "start_time": "2022-10-17T03:56:02.478747",
     "status": "completed"
    },
    "tags": []
   },
   "outputs": [],
   "source": []
  },
  {
   "cell_type": "code",
   "execution_count": null,
   "id": "saving-secretariat",
   "metadata": {
    "papermill": {
     "duration": 0.016164,
     "end_time": "2022-10-17T03:56:02.527781",
     "exception": false,
     "start_time": "2022-10-17T03:56:02.511617",
     "status": "completed"
    },
    "tags": []
   },
   "outputs": [],
   "source": []
  }
 ],
 "metadata": {
  "kernelspec": {
   "display_name": "Python 3",
   "language": "python",
   "name": "python3"
  },
  "language_info": {
   "codemirror_mode": {
    "name": "ipython",
    "version": 3
   },
   "file_extension": ".py",
   "mimetype": "text/x-python",
   "name": "python",
   "nbconvert_exporter": "python",
   "pygments_lexer": "ipython3",
   "version": "3.6.15"
  },
  "papermill": {
   "default_parameters": {},
   "duration": 22.517629,
   "end_time": "2022-10-17T03:56:03.267452",
   "environment_variables": {},
   "exception": null,
   "input_path": "App-Correlation_charts.ipynb",
   "output_path": "App-Correlation_charts.ipynb",
   "parameters": {},
   "start_time": "2022-10-17T03:55:40.749823",
   "version": "2.2.2"
  }
 },
 "nbformat": 4,
 "nbformat_minor": 5
}