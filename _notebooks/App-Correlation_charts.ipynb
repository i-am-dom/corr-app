{
 "cells": [
  {
   "cell_type": "markdown",
   "id": "touched-facility",
   "metadata": {
    "papermill": {
     "duration": 0.016954,
     "end_time": "2022-11-13T03:00:06.824505",
     "exception": false,
     "start_time": "2022-11-13T03:00:06.807551",
     "status": "completed"
    },
    "tags": []
   },
   "source": [
    "# Koreliacijų matrica\n",
    "> Išplėstinė koreliacijų matrica. \n",
    "\n",
    "- toc: true \n",
    "- badges: true\n",
    "- comments: false\n",
    "- categories: [Dominykas Tautkus]\n",
    "- image: images/matrix.png"
   ]
  },
  {
   "cell_type": "code",
   "execution_count": null,
   "id": "premium-weekend",
   "metadata": {
    "papermill": {
     "duration": 0.012014,
     "end_time": "2022-11-13T03:00:06.849672",
     "exception": false,
     "start_time": "2022-11-13T03:00:06.837658",
     "status": "completed"
    },
    "tags": []
   },
   "outputs": [],
   "source": []
  },
  {
   "cell_type": "code",
   "execution_count": 1,
   "id": "vertical-rebate",
   "metadata": {
    "execution": {
     "iopub.execute_input": "2022-11-13T03:00:06.888483Z",
     "iopub.status.busy": "2022-11-13T03:00:06.887693Z",
     "iopub.status.idle": "2022-11-13T03:00:06.900662Z",
     "shell.execute_reply": "2022-11-13T03:00:06.899816Z"
    },
    "papermill": {
     "duration": 0.039145,
     "end_time": "2022-11-13T03:00:06.900899",
     "exception": false,
     "start_time": "2022-11-13T03:00:06.861754",
     "status": "completed"
    },
    "tags": []
   },
   "outputs": [],
   "source": [
    "#hide\n",
    "%load_ext autoreload\n",
    "%autoreload 2"
   ]
  },
  {
   "cell_type": "code",
   "execution_count": 2,
   "id": "overall-advancement",
   "metadata": {
    "execution": {
     "iopub.execute_input": "2022-11-13T03:00:06.933075Z",
     "iopub.status.busy": "2022-11-13T03:00:06.932313Z",
     "iopub.status.idle": "2022-11-13T03:00:08.408167Z",
     "shell.execute_reply": "2022-11-13T03:00:08.408766Z"
    },
    "papermill": {
     "duration": 1.493038,
     "end_time": "2022-11-13T03:00:08.408954",
     "exception": false,
     "start_time": "2022-11-13T03:00:06.915916",
     "status": "completed"
    },
    "tags": []
   },
   "outputs": [],
   "source": [
    "#hide\n",
    "from scripts.read_data import read_api\n",
    "from IPython.display import HTML\n",
    "import plotly.graph_objects as go\n"
   ]
  },
  {
   "cell_type": "code",
   "execution_count": 3,
   "id": "light-crazy",
   "metadata": {
    "execution": {
     "iopub.execute_input": "2022-11-13T03:00:08.439402Z",
     "iopub.status.busy": "2022-11-13T03:00:08.438683Z",
     "iopub.status.idle": "2022-11-13T03:00:08.466096Z",
     "shell.execute_reply": "2022-11-13T03:00:08.465367Z"
    },
    "papermill": {
     "duration": 0.044733,
     "end_time": "2022-11-13T03:00:08.466240",
     "exception": false,
     "start_time": "2022-11-13T03:00:08.421507",
     "status": "completed"
    },
    "tags": []
   },
   "outputs": [],
   "source": [
    "#hide\n",
    "### ICO koreliacija"
   ]
  },
  {
   "cell_type": "code",
   "execution_count": 4,
   "id": "likely-bahrain",
   "metadata": {
    "execution": {
     "iopub.execute_input": "2022-11-13T03:00:08.496467Z",
     "iopub.status.busy": "2022-11-13T03:00:08.495684Z",
     "iopub.status.idle": "2022-11-13T03:00:09.478833Z",
     "shell.execute_reply": "2022-11-13T03:00:09.477443Z"
    },
    "papermill": {
     "duration": 1.000517,
     "end_time": "2022-11-13T03:00:09.479000",
     "exception": false,
     "start_time": "2022-11-13T03:00:08.478483",
     "status": "completed"
    },
    "tags": []
   },
   "outputs": [],
   "source": [
    "#hide\n",
    "import matplotlib.pyplot as plt\n",
    "import numpy as np\n",
    "import pandas as pd\n",
    "import seaborn as sns\n",
    "import matplotlib.pyplot as plt \n",
    "import matplotlib.dates as mdates\n",
    "import matplotlib.pyplot as plt"
   ]
  },
  {
   "cell_type": "code",
   "execution_count": 5,
   "id": "superior-blanket",
   "metadata": {
    "execution": {
     "iopub.execute_input": "2022-11-13T03:00:09.512646Z",
     "iopub.status.busy": "2022-11-13T03:00:09.510063Z",
     "iopub.status.idle": "2022-11-13T03:00:21.452205Z",
     "shell.execute_reply": "2022-11-13T03:00:21.449974Z"
    },
    "papermill": {
     "duration": 11.960795,
     "end_time": "2022-11-13T03:00:21.452488",
     "exception": false,
     "start_time": "2022-11-13T03:00:09.491693",
     "status": "completed"
    },
    "tags": []
   },
   "outputs": [
    {
     "name": "stderr",
     "output_type": "stream",
     "text": [
      "/home/runner/work/corr-app/corr-app/_notebooks/scripts/read_data.py:187: SettingWithCopyWarning:\n",
      "\n",
      "\n",
      "A value is trying to be set on a copy of a slice from a DataFrame.\n",
      "Try using .loc[row_indexer,col_indexer] = value instead\n",
      "\n",
      "See the caveats in the documentation: https://pandas.pydata.org/pandas-docs/stable/user_guide/indexing.html#returning-a-view-versus-a-copy\n",
      "\n"
     ]
    },
    {
     "name": "stderr",
     "output_type": "stream",
     "text": [
      "/home/runner/work/corr-app/corr-app/_notebooks/scripts/read_data.py:215: SettingWithCopyWarning:\n",
      "\n",
      "\n",
      "A value is trying to be set on a copy of a slice from a DataFrame.\n",
      "Try using .loc[row_indexer,col_indexer] = value instead\n",
      "\n",
      "See the caveats in the documentation: https://pandas.pydata.org/pandas-docs/stable/user_guide/indexing.html#returning-a-view-versus-a-copy\n",
      "\n"
     ]
    }
   ],
   "source": [
    "#hide\n",
    "df_all = read_api()\n",
    "#df_all = df_all.drop(['SP500', 'XAU', 'ETH', 'BTC'], axis=1)\n",
    "\n"
   ]
  },
  {
   "cell_type": "code",
   "execution_count": 6,
   "id": "mature-alert",
   "metadata": {
    "execution": {
     "iopub.execute_input": "2022-11-13T03:00:21.488886Z",
     "iopub.status.busy": "2022-11-13T03:00:21.488112Z",
     "iopub.status.idle": "2022-11-13T03:00:21.528258Z",
     "shell.execute_reply": "2022-11-13T03:00:21.527675Z"
    },
    "papermill": {
     "duration": 0.058663,
     "end_time": "2022-11-13T03:00:21.528406",
     "exception": false,
     "start_time": "2022-11-13T03:00:21.469743",
     "status": "completed"
    },
    "tags": []
   },
   "outputs": [],
   "source": [
    "#hide_input\n",
    "sum_corr = df_all.corr().sum().sort_values(ascending=True).index.values\n",
    "#df_all[sum_corr].corr()"
   ]
  },
  {
   "cell_type": "markdown",
   "id": "complex-syndicate",
   "metadata": {
    "papermill": {
     "duration": 0.012852,
     "end_time": "2022-11-13T03:00:21.555050",
     "exception": false,
     "start_time": "2022-11-13T03:00:21.542198",
     "status": "completed"
    },
    "tags": []
   },
   "source": [
    "## Išplėstinė koreliacijų matrica. "
   ]
  },
  {
   "cell_type": "code",
   "execution_count": 7,
   "id": "atomic-omaha",
   "metadata": {
    "execution": {
     "iopub.execute_input": "2022-11-13T03:00:21.586786Z",
     "iopub.status.busy": "2022-11-13T03:00:21.586062Z",
     "iopub.status.idle": "2022-11-13T03:00:23.003678Z",
     "shell.execute_reply": "2022-11-13T03:00:23.003077Z"
    },
    "papermill": {
     "duration": 1.43598,
     "end_time": "2022-11-13T03:00:23.003818",
     "exception": false,
     "start_time": "2022-11-13T03:00:21.567838",
     "status": "completed"
    },
    "tags": []
   },
   "outputs": [
    {
     "data": {
      "image/png": "[encoded data removed]",
      "text/plain": [
       "<Figure size 1080x792 with 2 Axes>"
      ]
     },
     "metadata": {
      "needs_background": "light"
     },
     "output_type": "display_data"
    }
   ],
   "source": [
    "#hide_input\n",
    "plt.figure(figsize=(15, 11))\n",
    "sns.heatmap(df_all[sum_corr].corr(), annot=True, cmap=\"cubehelix\") \n",
    "sns.set(font_scale=1.25)\n",
    "plt.savefig('corr_matrix.png', format='eps')"
   ]
  },
  {
   "cell_type": "code",
   "execution_count": 8,
   "id": "arbitrary-sullivan",
   "metadata": {
    "execution": {
     "iopub.execute_input": "2022-11-13T03:00:23.039769Z",
     "iopub.status.busy": "2022-11-13T03:00:23.039079Z",
     "iopub.status.idle": "2022-11-13T03:00:23.072053Z",
     "shell.execute_reply": "2022-11-13T03:00:23.071273Z"
    },
    "papermill": {
     "duration": 0.05263,
     "end_time": "2022-11-13T03:00:23.072196",
     "exception": false,
     "start_time": "2022-11-13T03:00:23.019566",
     "status": "completed"
    },
    "tags": []
   },
   "outputs": [],
   "source": [
    "#hide\n",
    "#df_all_mrk = read_api()"
   ]
  },
  {
   "cell_type": "code",
   "execution_count": 9,
   "id": "delayed-adapter",
   "metadata": {
    "execution": {
     "iopub.execute_input": "2022-11-13T03:00:23.107215Z",
     "iopub.status.busy": "2022-11-13T03:00:23.106474Z",
     "iopub.status.idle": "2022-11-13T03:00:23.138234Z",
     "shell.execute_reply": "2022-11-13T03:00:23.139082Z"
    },
    "papermill": {
     "duration": 0.051847,
     "end_time": "2022-11-13T03:00:23.139329",
     "exception": false,
     "start_time": "2022-11-13T03:00:23.087482",
     "status": "completed"
    },
    "tags": []
   },
   "outputs": [],
   "source": [
    "#hide\n",
    "#Koreliacijų koeficientai"
   ]
  },
  {
   "cell_type": "code",
   "execution_count": 10,
   "id": "seeing-celebration",
   "metadata": {
    "execution": {
     "iopub.execute_input": "2022-11-13T03:00:23.179322Z",
     "iopub.status.busy": "2022-11-13T03:00:23.177601Z",
     "iopub.status.idle": "2022-11-13T03:00:23.208148Z",
     "shell.execute_reply": "2022-11-13T03:00:23.207390Z"
    },
    "papermill": {
     "duration": 0.051975,
     "end_time": "2022-11-13T03:00:23.208291",
     "exception": false,
     "start_time": "2022-11-13T03:00:23.156316",
     "status": "completed"
    },
    "tags": []
   },
   "outputs": [],
   "source": [
    "#hide_input\n",
    "#sum_corr = df_all_mrk.corr().sum().sort_values(ascending=True).index.values\n",
    "#df_all_mrk[sum_corr].corr()"
   ]
  },
  {
   "cell_type": "code",
   "execution_count": 11,
   "id": "other-painting",
   "metadata": {
    "execution": {
     "iopub.execute_input": "2022-11-13T03:00:23.243950Z",
     "iopub.status.busy": "2022-11-13T03:00:23.243264Z",
     "iopub.status.idle": "2022-11-13T03:00:23.275482Z",
     "shell.execute_reply": "2022-11-13T03:00:23.274896Z"
    },
    "papermill": {
     "duration": 0.052014,
     "end_time": "2022-11-13T03:00:23.275629",
     "exception": false,
     "start_time": "2022-11-13T03:00:23.223615",
     "status": "completed"
    },
    "tags": []
   },
   "outputs": [],
   "source": [
    "#hide\n",
    "#Koreliacijos matrica. "
   ]
  },
  {
   "cell_type": "code",
   "execution_count": 12,
   "id": "modular-magnitude",
   "metadata": {
    "execution": {
     "iopub.execute_input": "2022-11-13T03:00:23.313419Z",
     "iopub.status.busy": "2022-11-13T03:00:23.312661Z",
     "iopub.status.idle": "2022-11-13T03:00:23.345772Z",
     "shell.execute_reply": "2022-11-13T03:00:23.345025Z"
    },
    "papermill": {
     "duration": 0.054028,
     "end_time": "2022-11-13T03:00:23.345915",
     "exception": false,
     "start_time": "2022-11-13T03:00:23.291887",
     "status": "completed"
    },
    "tags": []
   },
   "outputs": [],
   "source": [
    "#hide_input\n",
    "#plt.figure(figsize=(15, 8))\n",
    "#sns.heatmap(df_all_mrk[sum_corr].corr(), annot=True, cmap=\"BrBG\");\n",
    "#plt.savefig('corr_matrix_all.eps', format='eps')"
   ]
  },
  {
   "cell_type": "code",
   "execution_count": null,
   "id": "original-senator",
   "metadata": {
    "papermill": {
     "duration": 0.015308,
     "end_time": "2022-11-13T03:00:23.380032",
     "exception": false,
     "start_time": "2022-11-13T03:00:23.364724",
     "status": "completed"
    },
    "tags": []
   },
   "outputs": [],
   "source": []
  },
  {
   "cell_type": "code",
   "execution_count": null,
   "id": "saving-secretariat",
   "metadata": {
    "papermill": {
     "duration": 0.015092,
     "end_time": "2022-11-13T03:00:23.410488",
     "exception": false,
     "start_time": "2022-11-13T03:00:23.395396",
     "status": "completed"
    },
    "tags": []
   },
   "outputs": [],
   "source": []
  }
 ],
 "metadata": {
  "kernelspec": {
   "display_name": "Python 3",
   "language": "python",
   "name": "python3"
  },
  "language_info": {
   "codemirror_mode": {
    "name": "ipython",
    "version": 3
   },
   "file_extension": ".py",
   "mimetype": "text/x-python",
   "name": "python",
   "nbconvert_exporter": "python",
   "pygments_lexer": "ipython3",
   "version": "3.6.15"
  },
  "papermill": {
   "default_parameters": {},
   "duration": 18.52873,
   "end_time": "2022-11-13T03:00:24.047449",
   "environment_variables": {},
   "exception": null,
   "input_path": "App-Correlation_charts.ipynb",
   "output_path": "App-Correlation_charts.ipynb",
   "parameters": {},
   "start_time": "2022-11-13T03:00:05.518719",
   "version": "2.2.2"
  }
 },
 "nbformat": 4,
 "nbformat_minor": 5
}