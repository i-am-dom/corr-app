{
 "cells": [
  {
   "cell_type": "markdown",
   "id": "touched-facility",
   "metadata": {
    "papermill": {
     "duration": 0.013798,
     "end_time": "2022-11-15T02:51:45.630157",
     "exception": false,
     "start_time": "2022-11-15T02:51:45.616359",
     "status": "completed"
    },
    "tags": []
   },
   "source": [
    "# Koreliacijų matrica\n",
    "> Išplėstinė koreliacijų matrica. \n",
    "\n",
    "- toc: true \n",
    "- badges: true\n",
    "- comments: false\n",
    "- categories: [Dominykas Tautkus]\n",
    "- image: images/matrix.png"
   ]
  },
  {
   "cell_type": "code",
   "execution_count": null,
   "id": "premium-weekend",
   "metadata": {
    "papermill": {
     "duration": 0.010797,
     "end_time": "2022-11-15T02:51:45.653145",
     "exception": false,
     "start_time": "2022-11-15T02:51:45.642348",
     "status": "completed"
    },
    "tags": []
   },
   "outputs": [],
   "source": []
  },
  {
   "cell_type": "code",
   "execution_count": 1,
   "id": "vertical-rebate",
   "metadata": {
    "execution": {
     "iopub.execute_input": "2022-11-15T02:51:45.685234Z",
     "iopub.status.busy": "2022-11-15T02:51:45.684709Z",
     "iopub.status.idle": "2022-11-15T02:51:45.698447Z",
     "shell.execute_reply": "2022-11-15T02:51:45.697447Z"
    },
    "papermill": {
     "duration": 0.034824,
     "end_time": "2022-11-15T02:51:45.698543",
     "exception": false,
     "start_time": "2022-11-15T02:51:45.663719",
     "status": "completed"
    },
    "tags": []
   },
   "outputs": [],
   "source": [
    "#hide\n",
    "%load_ext autoreload\n",
    "%autoreload 2"
   ]
  },
  {
   "cell_type": "code",
   "execution_count": 2,
   "id": "overall-advancement",
   "metadata": {
    "execution": {
     "iopub.execute_input": "2022-11-15T02:51:45.733892Z",
     "iopub.status.busy": "2022-11-15T02:51:45.728300Z",
     "iopub.status.idle": "2022-11-15T02:51:46.867054Z",
     "shell.execute_reply": "2022-11-15T02:51:46.866290Z"
    },
    "papermill": {
     "duration": 1.157593,
     "end_time": "2022-11-15T02:51:46.867185",
     "exception": false,
     "start_time": "2022-11-15T02:51:45.709592",
     "status": "completed"
    },
    "tags": []
   },
   "outputs": [],
   "source": [
    "#hide\n",
    "from scripts.read_data import read_api\n",
    "from IPython.display import HTML\n",
    "import plotly.graph_objects as go\n"
   ]
  },
  {
   "cell_type": "code",
   "execution_count": 3,
   "id": "light-crazy",
   "metadata": {
    "execution": {
     "iopub.execute_input": "2022-11-15T02:51:46.891628Z",
     "iopub.status.busy": "2022-11-15T02:51:46.891053Z",
     "iopub.status.idle": "2022-11-15T02:51:46.914626Z",
     "shell.execute_reply": "2022-11-15T02:51:46.914146Z"
    },
    "papermill": {
     "duration": 0.035902,
     "end_time": "2022-11-15T02:51:46.914716",
     "exception": false,
     "start_time": "2022-11-15T02:51:46.878814",
     "status": "completed"
    },
    "tags": []
   },
   "outputs": [],
   "source": [
    "#hide\n",
    "### ICO koreliacija"
   ]
  },
  {
   "cell_type": "code",
   "execution_count": 4,
   "id": "likely-bahrain",
   "metadata": {
    "execution": {
     "iopub.execute_input": "2022-11-15T02:51:46.939479Z",
     "iopub.status.busy": "2022-11-15T02:51:46.938577Z",
     "iopub.status.idle": "2022-11-15T02:51:47.771700Z",
     "shell.execute_reply": "2022-11-15T02:51:47.772690Z"
    },
    "papermill": {
     "duration": 0.84866,
     "end_time": "2022-11-15T02:51:47.772954",
     "exception": false,
     "start_time": "2022-11-15T02:51:46.924294",
     "status": "completed"
    },
    "tags": []
   },
   "outputs": [],
   "source": [
    "#hide\n",
    "import matplotlib.pyplot as plt\n",
    "import numpy as np\n",
    "import pandas as pd\n",
    "import seaborn as sns\n",
    "import matplotlib.pyplot as plt \n",
    "import matplotlib.dates as mdates\n",
    "import matplotlib.pyplot as plt"
   ]
  },
  {
   "cell_type": "code",
   "execution_count": 5,
   "id": "superior-blanket",
   "metadata": {
    "execution": {
     "iopub.execute_input": "2022-11-15T02:51:47.801702Z",
     "iopub.status.busy": "2022-11-15T02:51:47.800653Z",
     "iopub.status.idle": "2022-11-15T02:52:01.767080Z",
     "shell.execute_reply": "2022-11-15T02:52:01.765572Z"
    },
    "papermill": {
     "duration": 13.98287,
     "end_time": "2022-11-15T02:52:01.767300",
     "exception": false,
     "start_time": "2022-11-15T02:51:47.784430",
     "status": "completed"
    },
    "tags": []
   },
   "outputs": [
    {
     "name": "stderr",
     "output_type": "stream",
     "text": [
      "/home/runner/work/corr-app/corr-app/_notebooks/scripts/read_data.py:187: SettingWithCopyWarning:\n",
      "\n",
      "\n",
      "A value is trying to be set on a copy of a slice from a DataFrame.\n",
      "Try using .loc[row_indexer,col_indexer] = value instead\n",
      "\n",
      "See the caveats in the documentation: https://pandas.pydata.org/pandas-docs/stable/user_guide/indexing.html#returning-a-view-versus-a-copy\n",
      "\n"
     ]
    },
    {
     "name": "stderr",
     "output_type": "stream",
     "text": [
      "/home/runner/work/corr-app/corr-app/_notebooks/scripts/read_data.py:215: SettingWithCopyWarning:\n",
      "\n",
      "\n",
      "A value is trying to be set on a copy of a slice from a DataFrame.\n",
      "Try using .loc[row_indexer,col_indexer] = value instead\n",
      "\n",
      "See the caveats in the documentation: https://pandas.pydata.org/pandas-docs/stable/user_guide/indexing.html#returning-a-view-versus-a-copy\n",
      "\n"
     ]
    }
   ],
   "source": [
    "#hide\n",
    "df_all = read_api()\n",
    "#df_all = df_all.drop(['SP500', 'XAU', 'ETH', 'BTC'], axis=1)\n",
    "\n"
   ]
  },
  {
   "cell_type": "code",
   "execution_count": 6,
   "id": "mature-alert",
   "metadata": {
    "execution": {
     "iopub.execute_input": "2022-11-15T02:52:01.799506Z",
     "iopub.status.busy": "2022-11-15T02:52:01.798749Z",
     "iopub.status.idle": "2022-11-15T02:52:01.832679Z",
     "shell.execute_reply": "2022-11-15T02:52:01.831884Z"
    },
    "papermill": {
     "duration": 0.051451,
     "end_time": "2022-11-15T02:52:01.832821",
     "exception": false,
     "start_time": "2022-11-15T02:52:01.781370",
     "status": "completed"
    },
    "tags": []
   },
   "outputs": [],
   "source": [
    "#hide_input\n",
    "sum_corr = df_all.corr().sum().sort_values(ascending=True).index.values\n",
    "#df_all[sum_corr].corr()"
   ]
  },
  {
   "cell_type": "markdown",
   "id": "complex-syndicate",
   "metadata": {
    "papermill": {
     "duration": 0.011975,
     "end_time": "2022-11-15T02:52:01.858827",
     "exception": false,
     "start_time": "2022-11-15T02:52:01.846852",
     "status": "completed"
    },
    "tags": []
   },
   "source": [
    "## Išplėstinė koreliacijų matrica. "
   ]
  },
  {
   "cell_type": "code",
   "execution_count": 7,
   "id": "atomic-omaha",
   "metadata": {
    "execution": {
     "iopub.execute_input": "2022-11-15T02:52:01.888519Z",
     "iopub.status.busy": "2022-11-15T02:52:01.887967Z",
     "iopub.status.idle": "2022-11-15T02:52:03.119743Z",
     "shell.execute_reply": "2022-11-15T02:52:03.120276Z"
    },
    "papermill": {
     "duration": 1.249545,
     "end_time": "2022-11-15T02:52:03.120438",
     "exception": false,
     "start_time": "2022-11-15T02:52:01.870893",
     "status": "completed"
    },
    "tags": []
   },
   "outputs": [
    {
     "data": {
      "image/png": "[encoded data removed]",
      "text/plain": [
       "<Figure size 1080x792 with 2 Axes>"
      ]
     },
     "metadata": {
      "needs_background": "light"
     },
     "output_type": "display_data"
    }
   ],
   "source": [
    "#hide_input\n",
    "plt.figure(figsize=(15, 11))\n",
    "sns.heatmap(df_all[sum_corr].corr(), annot=True, cmap=\"cubehelix\") \n",
    "sns.set(font_scale=1.25)\n",
    "plt.savefig('corr_matrix.png', format='eps')"
   ]
  },
  {
   "cell_type": "code",
   "execution_count": 8,
   "id": "arbitrary-sullivan",
   "metadata": {
    "execution": {
     "iopub.execute_input": "2022-11-15T02:52:03.150333Z",
     "iopub.status.busy": "2022-11-15T02:52:03.149666Z",
     "iopub.status.idle": "2022-11-15T02:52:03.174800Z",
     "shell.execute_reply": "2022-11-15T02:52:03.175263Z"
    },
    "papermill": {
     "duration": 0.042767,
     "end_time": "2022-11-15T02:52:03.175400",
     "exception": false,
     "start_time": "2022-11-15T02:52:03.132633",
     "status": "completed"
    },
    "tags": []
   },
   "outputs": [],
   "source": [
    "#hide\n",
    "#df_all_mrk = read_api()"
   ]
  },
  {
   "cell_type": "code",
   "execution_count": 9,
   "id": "delayed-adapter",
   "metadata": {
    "execution": {
     "iopub.execute_input": "2022-11-15T02:52:03.203332Z",
     "iopub.status.busy": "2022-11-15T02:52:03.202729Z",
     "iopub.status.idle": "2022-11-15T02:52:03.228693Z",
     "shell.execute_reply": "2022-11-15T02:52:03.228145Z"
    },
    "papermill": {
     "duration": 0.040775,
     "end_time": "2022-11-15T02:52:03.228807",
     "exception": false,
     "start_time": "2022-11-15T02:52:03.188032",
     "status": "completed"
    },
    "tags": []
   },
   "outputs": [],
   "source": [
    "#hide\n",
    "#Koreliacijų koeficientai"
   ]
  },
  {
   "cell_type": "code",
   "execution_count": 10,
   "id": "seeing-celebration",
   "metadata": {
    "execution": {
     "iopub.execute_input": "2022-11-15T02:52:03.259382Z",
     "iopub.status.busy": "2022-11-15T02:52:03.257318Z",
     "iopub.status.idle": "2022-11-15T02:52:03.280825Z",
     "shell.execute_reply": "2022-11-15T02:52:03.280327Z"
    },
    "papermill": {
     "duration": 0.040519,
     "end_time": "2022-11-15T02:52:03.280939",
     "exception": false,
     "start_time": "2022-11-15T02:52:03.240420",
     "status": "completed"
    },
    "tags": []
   },
   "outputs": [],
   "source": [
    "#hide_input\n",
    "#sum_corr = df_all_mrk.corr().sum().sort_values(ascending=True).index.values\n",
    "#df_all_mrk[sum_corr].corr()"
   ]
  },
  {
   "cell_type": "code",
   "execution_count": 11,
   "id": "other-painting",
   "metadata": {
    "execution": {
     "iopub.execute_input": "2022-11-15T02:52:03.309769Z",
     "iopub.status.busy": "2022-11-15T02:52:03.309291Z",
     "iopub.status.idle": "2022-11-15T02:52:03.333441Z",
     "shell.execute_reply": "2022-11-15T02:52:03.332845Z"
    },
    "papermill": {
     "duration": 0.039039,
     "end_time": "2022-11-15T02:52:03.333540",
     "exception": false,
     "start_time": "2022-11-15T02:52:03.294501",
     "status": "completed"
    },
    "tags": []
   },
   "outputs": [],
   "source": [
    "#hide\n",
    "#Koreliacijos matrica. "
   ]
  },
  {
   "cell_type": "code",
   "execution_count": 12,
   "id": "modular-magnitude",
   "metadata": {
    "execution": {
     "iopub.execute_input": "2022-11-15T02:52:03.361537Z",
     "iopub.status.busy": "2022-11-15T02:52:03.360865Z",
     "iopub.status.idle": "2022-11-15T02:52:03.385051Z",
     "shell.execute_reply": "2022-11-15T02:52:03.384594Z"
    },
    "papermill": {
     "duration": 0.039208,
     "end_time": "2022-11-15T02:52:03.385153",
     "exception": false,
     "start_time": "2022-11-15T02:52:03.345945",
     "status": "completed"
    },
    "tags": []
   },
   "outputs": [],
   "source": [
    "#hide_input\n",
    "#plt.figure(figsize=(15, 8))\n",
    "#sns.heatmap(df_all_mrk[sum_corr].corr(), annot=True, cmap=\"BrBG\");\n",
    "#plt.savefig('corr_matrix_all.eps', format='eps')"
   ]
  },
  {
   "cell_type": "code",
   "execution_count": null,
   "id": "original-senator",
   "metadata": {
    "papermill": {
     "duration": 0.012138,
     "end_time": "2022-11-15T02:52:03.410711",
     "exception": false,
     "start_time": "2022-11-15T02:52:03.398573",
     "status": "completed"
    },
    "tags": []
   },
   "outputs": [],
   "source": []
  },
  {
   "cell_type": "code",
   "execution_count": null,
   "id": "saving-secretariat",
   "metadata": {
    "papermill": {
     "duration": 0.012424,
     "end_time": "2022-11-15T02:52:03.436007",
     "exception": false,
     "start_time": "2022-11-15T02:52:03.423583",
     "status": "completed"
    },
    "tags": []
   },
   "outputs": [],
   "source": []
  }
 ],
 "metadata": {
  "kernelspec": {
   "display_name": "Python 3",
   "language": "python",
   "name": "python3"
  },
  "language_info": {
   "codemirror_mode": {
    "name": "ipython",
    "version": 3
   },
   "file_extension": ".py",
   "mimetype": "text/x-python",
   "name": "python",
   "nbconvert_exporter": "python",
   "pygments_lexer": "ipython3",
   "version": "3.6.15"
  },
  "papermill": {
   "default_parameters": {},
   "duration": 19.46066,
   "end_time": "2022-11-15T02:52:03.967667",
   "environment_variables": {},
   "exception": null,
   "input_path": "App-Correlation_charts.ipynb",
   "output_path": "App-Correlation_charts.ipynb",
   "parameters": {},
   "start_time": "2022-11-15T02:51:44.507007",
   "version": "2.2.2"
  }
 },
 "nbformat": 4,
 "nbformat_minor": 5
}