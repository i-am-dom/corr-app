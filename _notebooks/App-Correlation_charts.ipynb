{
 "cells": [
  {
   "cell_type": "markdown",
   "id": "touched-facility",
   "metadata": {
    "papermill": {
     "duration": 0.017859,
     "end_time": "2022-10-13T03:38:58.040708",
     "exception": false,
     "start_time": "2022-10-13T03:38:58.022849",
     "status": "completed"
    },
    "tags": []
   },
   "source": [
    "# Koreliacijų matrica\n",
    "> Išplėstinė koreliacijų matrica. \n",
    "\n",
    "- toc: true \n",
    "- badges: true\n",
    "- comments: false\n",
    "- categories: [Dominykas Tautkus]\n",
    "- image: images/matrix.png"
   ]
  },
  {
   "cell_type": "code",
   "execution_count": null,
   "id": "premium-weekend",
   "metadata": {
    "papermill": {
     "duration": 0.013079,
     "end_time": "2022-10-13T03:38:58.068788",
     "exception": false,
     "start_time": "2022-10-13T03:38:58.055709",
     "status": "completed"
    },
    "tags": []
   },
   "outputs": [],
   "source": []
  },
  {
   "cell_type": "code",
   "execution_count": 1,
   "id": "vertical-rebate",
   "metadata": {
    "execution": {
     "iopub.execute_input": "2022-10-13T03:38:58.109242Z",
     "iopub.status.busy": "2022-10-13T03:38:58.108442Z",
     "iopub.status.idle": "2022-10-13T03:38:58.121155Z",
     "shell.execute_reply": "2022-10-13T03:38:58.121727Z"
    },
    "papermill": {
     "duration": 0.039463,
     "end_time": "2022-10-13T03:38:58.121909",
     "exception": false,
     "start_time": "2022-10-13T03:38:58.082446",
     "status": "completed"
    },
    "tags": []
   },
   "outputs": [],
   "source": [
    "#hide\n",
    "%load_ext autoreload\n",
    "%autoreload 2"
   ]
  },
  {
   "cell_type": "code",
   "execution_count": 2,
   "id": "overall-advancement",
   "metadata": {
    "execution": {
     "iopub.execute_input": "2022-10-13T03:38:58.154129Z",
     "iopub.status.busy": "2022-10-13T03:38:58.153364Z",
     "iopub.status.idle": "2022-10-13T03:38:59.972168Z",
     "shell.execute_reply": "2022-10-13T03:38:59.971552Z"
    },
    "papermill": {
     "duration": 1.837209,
     "end_time": "2022-10-13T03:38:59.972320",
     "exception": false,
     "start_time": "2022-10-13T03:38:58.135111",
     "status": "completed"
    },
    "tags": []
   },
   "outputs": [],
   "source": [
    "#hide\n",
    "from scripts.read_data import read_api\n",
    "from IPython.display import HTML\n",
    "import plotly.graph_objects as go\n"
   ]
  },
  {
   "cell_type": "code",
   "execution_count": 3,
   "id": "light-crazy",
   "metadata": {
    "execution": {
     "iopub.execute_input": "2022-10-13T03:39:00.005217Z",
     "iopub.status.busy": "2022-10-13T03:39:00.004388Z",
     "iopub.status.idle": "2022-10-13T03:39:00.028539Z",
     "shell.execute_reply": "2022-10-13T03:39:00.029117Z"
    },
    "papermill": {
     "duration": 0.043153,
     "end_time": "2022-10-13T03:39:00.029262",
     "exception": false,
     "start_time": "2022-10-13T03:38:59.986109",
     "status": "completed"
    },
    "tags": []
   },
   "outputs": [],
   "source": [
    "#hide\n",
    "### ICO koreliacija"
   ]
  },
  {
   "cell_type": "code",
   "execution_count": 4,
   "id": "likely-bahrain",
   "metadata": {
    "execution": {
     "iopub.execute_input": "2022-10-13T03:39:00.061901Z",
     "iopub.status.busy": "2022-10-13T03:39:00.061163Z",
     "iopub.status.idle": "2022-10-13T03:39:01.078460Z",
     "shell.execute_reply": "2022-10-13T03:39:01.077846Z"
    },
    "papermill": {
     "duration": 1.035212,
     "end_time": "2022-10-13T03:39:01.078612",
     "exception": false,
     "start_time": "2022-10-13T03:39:00.043400",
     "status": "completed"
    },
    "tags": []
   },
   "outputs": [],
   "source": [
    "#hide\n",
    "import matplotlib.pyplot as plt\n",
    "import numpy as np\n",
    "import pandas as pd\n",
    "import seaborn as sns\n",
    "import matplotlib.pyplot as plt \n",
    "import matplotlib.dates as mdates\n",
    "import matplotlib.pyplot as plt"
   ]
  },
  {
   "cell_type": "code",
   "execution_count": 5,
   "id": "superior-blanket",
   "metadata": {
    "execution": {
     "iopub.execute_input": "2022-10-13T03:39:01.132049Z",
     "iopub.status.busy": "2022-10-13T03:39:01.129891Z",
     "iopub.status.idle": "2022-10-13T03:39:17.020815Z",
     "shell.execute_reply": "2022-10-13T03:39:17.021467Z"
    },
    "papermill": {
     "duration": 15.928673,
     "end_time": "2022-10-13T03:39:17.021647",
     "exception": false,
     "start_time": "2022-10-13T03:39:01.092974",
     "status": "completed"
    },
    "tags": []
   },
   "outputs": [
    {
     "name": "stderr",
     "output_type": "stream",
     "text": [
      "/home/runner/work/corr-app/corr-app/_notebooks/scripts/read_data.py:187: SettingWithCopyWarning:\n",
      "\n",
      "\n",
      "A value is trying to be set on a copy of a slice from a DataFrame.\n",
      "Try using .loc[row_indexer,col_indexer] = value instead\n",
      "\n",
      "See the caveats in the documentation: https://pandas.pydata.org/pandas-docs/stable/user_guide/indexing.html#returning-a-view-versus-a-copy\n",
      "\n"
     ]
    },
    {
     "name": "stderr",
     "output_type": "stream",
     "text": [
      "/home/runner/work/corr-app/corr-app/_notebooks/scripts/read_data.py:215: SettingWithCopyWarning:\n",
      "\n",
      "\n",
      "A value is trying to be set on a copy of a slice from a DataFrame.\n",
      "Try using .loc[row_indexer,col_indexer] = value instead\n",
      "\n",
      "See the caveats in the documentation: https://pandas.pydata.org/pandas-docs/stable/user_guide/indexing.html#returning-a-view-versus-a-copy\n",
      "\n"
     ]
    }
   ],
   "source": [
    "#hide\n",
    "df_all = read_api()\n",
    "#df_all = df_all.drop(['SP500', 'XAU', 'ETH', 'BTC'], axis=1)\n",
    "\n"
   ]
  },
  {
   "cell_type": "code",
   "execution_count": 6,
   "id": "mature-alert",
   "metadata": {
    "execution": {
     "iopub.execute_input": "2022-10-13T03:39:17.058151Z",
     "iopub.status.busy": "2022-10-13T03:39:17.057388Z",
     "iopub.status.idle": "2022-10-13T03:39:17.096104Z",
     "shell.execute_reply": "2022-10-13T03:39:17.095448Z"
    },
    "papermill": {
     "duration": 0.058295,
     "end_time": "2022-10-13T03:39:17.096257",
     "exception": false,
     "start_time": "2022-10-13T03:39:17.037962",
     "status": "completed"
    },
    "tags": []
   },
   "outputs": [],
   "source": [
    "#hide_input\n",
    "sum_corr = df_all.corr().sum().sort_values(ascending=True).index.values\n",
    "#df_all[sum_corr].corr()"
   ]
  },
  {
   "cell_type": "markdown",
   "id": "complex-syndicate",
   "metadata": {
    "papermill": {
     "duration": 0.015221,
     "end_time": "2022-10-13T03:39:17.127731",
     "exception": false,
     "start_time": "2022-10-13T03:39:17.112510",
     "status": "completed"
    },
    "tags": []
   },
   "source": [
    "## Išplėstinė koreliacijų matrica. "
   ]
  },
  {
   "cell_type": "code",
   "execution_count": 7,
   "id": "atomic-omaha",
   "metadata": {
    "execution": {
     "iopub.execute_input": "2022-10-13T03:39:17.162684Z",
     "iopub.status.busy": "2022-10-13T03:39:17.161286Z",
     "iopub.status.idle": "2022-10-13T03:39:18.864546Z",
     "shell.execute_reply": "2022-10-13T03:39:18.863796Z"
    },
    "papermill": {
     "duration": 1.722568,
     "end_time": "2022-10-13T03:39:18.864695",
     "exception": false,
     "start_time": "2022-10-13T03:39:17.142127",
     "status": "completed"
    },
    "tags": []
   },
   "outputs": [
    {
     "data": {
      "image/png": "[encoded data removed]",
      "text/plain": [
       "<Figure size 1080x792 with 2 Axes>"
      ]
     },
     "metadata": {
      "needs_background": "light"
     },
     "output_type": "display_data"
    }
   ],
   "source": [
    "#hide_input\n",
    "plt.figure(figsize=(15, 11))\n",
    "sns.heatmap(df_all[sum_corr].corr(), annot=True, cmap=\"cubehelix\") \n",
    "sns.set(font_scale=1.25)\n",
    "plt.savefig('corr_matrix.png', format='eps')"
   ]
  },
  {
   "cell_type": "code",
   "execution_count": 8,
   "id": "arbitrary-sullivan",
   "metadata": {
    "execution": {
     "iopub.execute_input": "2022-10-13T03:39:18.933143Z",
     "iopub.status.busy": "2022-10-13T03:39:18.932201Z",
     "iopub.status.idle": "2022-10-13T03:39:18.962976Z",
     "shell.execute_reply": "2022-10-13T03:39:18.962045Z"
    },
    "papermill": {
     "duration": 0.081653,
     "end_time": "2022-10-13T03:39:18.963556",
     "exception": false,
     "start_time": "2022-10-13T03:39:18.881903",
     "status": "completed"
    },
    "tags": []
   },
   "outputs": [],
   "source": [
    "#hide\n",
    "#df_all_mrk = read_api()"
   ]
  },
  {
   "cell_type": "code",
   "execution_count": 9,
   "id": "delayed-adapter",
   "metadata": {
    "execution": {
     "iopub.execute_input": "2022-10-13T03:39:19.077791Z",
     "iopub.status.busy": "2022-10-13T03:39:19.076327Z",
     "iopub.status.idle": "2022-10-13T03:39:19.109738Z",
     "shell.execute_reply": "2022-10-13T03:39:19.109109Z"
    },
    "papermill": {
     "duration": 0.088147,
     "end_time": "2022-10-13T03:39:19.109883",
     "exception": false,
     "start_time": "2022-10-13T03:39:19.021736",
     "status": "completed"
    },
    "tags": []
   },
   "outputs": [],
   "source": [
    "#hide\n",
    "#Koreliacijų koeficientai"
   ]
  },
  {
   "cell_type": "code",
   "execution_count": 10,
   "id": "seeing-celebration",
   "metadata": {
    "execution": {
     "iopub.execute_input": "2022-10-13T03:39:19.184695Z",
     "iopub.status.busy": "2022-10-13T03:39:19.183943Z",
     "iopub.status.idle": "2022-10-13T03:39:19.215288Z",
     "shell.execute_reply": "2022-10-13T03:39:19.215852Z"
    },
    "papermill": {
     "duration": 0.087972,
     "end_time": "2022-10-13T03:39:19.216021",
     "exception": false,
     "start_time": "2022-10-13T03:39:19.128049",
     "status": "completed"
    },
    "tags": []
   },
   "outputs": [],
   "source": [
    "#hide_input\n",
    "#sum_corr = df_all_mrk.corr().sum().sort_values(ascending=True).index.values\n",
    "#df_all_mrk[sum_corr].corr()"
   ]
  },
  {
   "cell_type": "code",
   "execution_count": 11,
   "id": "other-painting",
   "metadata": {
    "execution": {
     "iopub.execute_input": "2022-10-13T03:39:19.289791Z",
     "iopub.status.busy": "2022-10-13T03:39:19.289013Z",
     "iopub.status.idle": "2022-10-13T03:39:19.320519Z",
     "shell.execute_reply": "2022-10-13T03:39:19.319864Z"
    },
    "papermill": {
     "duration": 0.079483,
     "end_time": "2022-10-13T03:39:19.320670",
     "exception": false,
     "start_time": "2022-10-13T03:39:19.241187",
     "status": "completed"
    },
    "tags": []
   },
   "outputs": [],
   "source": [
    "#hide\n",
    "#Koreliacijos matrica. "
   ]
  },
  {
   "cell_type": "code",
   "execution_count": 12,
   "id": "modular-magnitude",
   "metadata": {
    "execution": {
     "iopub.execute_input": "2022-10-13T03:39:19.439716Z",
     "iopub.status.busy": "2022-10-13T03:39:19.438627Z",
     "iopub.status.idle": "2022-10-13T03:39:19.467510Z",
     "shell.execute_reply": "2022-10-13T03:39:19.466862Z"
    },
    "papermill": {
     "duration": 0.089036,
     "end_time": "2022-10-13T03:39:19.467660",
     "exception": false,
     "start_time": "2022-10-13T03:39:19.378624",
     "status": "completed"
    },
    "tags": []
   },
   "outputs": [],
   "source": [
    "#hide_input\n",
    "#plt.figure(figsize=(15, 8))\n",
    "#sns.heatmap(df_all_mrk[sum_corr].corr(), annot=True, cmap=\"BrBG\");\n",
    "#plt.savefig('corr_matrix_all.eps', format='eps')"
   ]
  },
  {
   "cell_type": "code",
   "execution_count": null,
   "id": "original-senator",
   "metadata": {
    "papermill": {
     "duration": 0.053529,
     "end_time": "2022-10-13T03:39:19.576232",
     "exception": false,
     "start_time": "2022-10-13T03:39:19.522703",
     "status": "completed"
    },
    "tags": []
   },
   "outputs": [],
   "source": []
  },
  {
   "cell_type": "code",
   "execution_count": null,
   "id": "saving-secretariat",
   "metadata": {
    "papermill": {
     "duration": 0.04676,
     "end_time": "2022-10-13T03:39:19.678329",
     "exception": false,
     "start_time": "2022-10-13T03:39:19.631569",
     "status": "completed"
    },
    "tags": []
   },
   "outputs": [],
   "source": []
  }
 ],
 "metadata": {
  "kernelspec": {
   "display_name": "Python 3",
   "language": "python",
   "name": "python3"
  },
  "language_info": {
   "codemirror_mode": {
    "name": "ipython",
    "version": 3
   },
   "file_extension": ".py",
   "mimetype": "text/x-python",
   "name": "python",
   "nbconvert_exporter": "python",
   "pygments_lexer": "ipython3",
   "version": "3.6.15"
  },
  "papermill": {
   "default_parameters": {},
   "duration": 23.676408,
   "end_time": "2022-10-13T03:39:20.348877",
   "environment_variables": {},
   "exception": null,
   "input_path": "App-Correlation_charts.ipynb",
   "output_path": "App-Correlation_charts.ipynb",
   "parameters": {},
   "start_time": "2022-10-13T03:38:56.672469",
   "version": "2.2.2"
  }
 },
 "nbformat": 4,
 "nbformat_minor": 5
}