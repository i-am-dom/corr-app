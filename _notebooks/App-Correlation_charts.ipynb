{
 "cells": [
  {
   "cell_type": "markdown",
   "id": "touched-facility",
   "metadata": {
    "papermill": {
     "duration": 0.017622,
     "end_time": "2021-11-30T01:50:24.097587",
     "exception": false,
     "start_time": "2021-11-30T01:50:24.079965",
     "status": "completed"
    },
    "tags": []
   },
   "source": [
    "# Koreliacijų matrica\n",
    "> Išplėstinė koreliacijų matrica. \n",
    "\n",
    "- toc: true \n",
    "- badges: true\n",
    "- comments: false\n",
    "- categories: [Dominykas Tautkus]\n",
    "- image: images/matrix.png"
   ]
  },
  {
   "cell_type": "code",
   "execution_count": null,
   "id": "premium-weekend",
   "metadata": {
    "papermill": {
     "duration": 0.014068,
     "end_time": "2021-11-30T01:50:24.126354",
     "exception": false,
     "start_time": "2021-11-30T01:50:24.112286",
     "status": "completed"
    },
    "tags": []
   },
   "outputs": [],
   "source": []
  },
  {
   "cell_type": "code",
   "execution_count": 1,
   "id": "vertical-rebate",
   "metadata": {
    "execution": {
     "iopub.execute_input": "2021-11-30T01:50:24.171214Z",
     "iopub.status.busy": "2021-11-30T01:50:24.170319Z",
     "iopub.status.idle": "2021-11-30T01:50:24.184381Z",
     "shell.execute_reply": "2021-11-30T01:50:24.183797Z"
    },
    "papermill": {
     "duration": 0.044354,
     "end_time": "2021-11-30T01:50:24.184552",
     "exception": false,
     "start_time": "2021-11-30T01:50:24.140198",
     "status": "completed"
    },
    "tags": []
   },
   "outputs": [],
   "source": [
    "#hide\n",
    "%load_ext autoreload\n",
    "%autoreload 2"
   ]
  },
  {
   "cell_type": "code",
   "execution_count": 2,
   "id": "overall-advancement",
   "metadata": {
    "execution": {
     "iopub.execute_input": "2021-11-30T01:50:24.218899Z",
     "iopub.status.busy": "2021-11-30T01:50:24.218209Z",
     "iopub.status.idle": "2021-11-30T01:50:25.995186Z",
     "shell.execute_reply": "2021-11-30T01:50:25.995783Z"
    },
    "papermill": {
     "duration": 1.798093,
     "end_time": "2021-11-30T01:50:25.995957",
     "exception": false,
     "start_time": "2021-11-30T01:50:24.197864",
     "status": "completed"
    },
    "tags": []
   },
   "outputs": [],
   "source": [
    "#hide\n",
    "from scripts.read_data import read_api\n",
    "from IPython.display import HTML\n",
    "import plotly.graph_objects as go\n"
   ]
  },
  {
   "cell_type": "code",
   "execution_count": 3,
   "id": "light-crazy",
   "metadata": {
    "execution": {
     "iopub.execute_input": "2021-11-30T01:50:26.028375Z",
     "iopub.status.busy": "2021-11-30T01:50:26.027706Z",
     "iopub.status.idle": "2021-11-30T01:50:26.061157Z",
     "shell.execute_reply": "2021-11-30T01:50:26.061669Z"
    },
    "papermill": {
     "duration": 0.051022,
     "end_time": "2021-11-30T01:50:26.061840",
     "exception": false,
     "start_time": "2021-11-30T01:50:26.010818",
     "status": "completed"
    },
    "tags": []
   },
   "outputs": [],
   "source": [
    "#hide\n",
    "### ICO koreliacija"
   ]
  },
  {
   "cell_type": "code",
   "execution_count": 4,
   "id": "likely-bahrain",
   "metadata": {
    "execution": {
     "iopub.execute_input": "2021-11-30T01:50:26.099089Z",
     "iopub.status.busy": "2021-11-30T01:50:26.098431Z",
     "iopub.status.idle": "2021-11-30T01:50:27.174061Z",
     "shell.execute_reply": "2021-11-30T01:50:27.174592Z"
    },
    "papermill": {
     "duration": 1.098916,
     "end_time": "2021-11-30T01:50:27.174772",
     "exception": false,
     "start_time": "2021-11-30T01:50:26.075856",
     "status": "completed"
    },
    "tags": []
   },
   "outputs": [],
   "source": [
    "#hide\n",
    "import matplotlib.pyplot as plt\n",
    "import numpy as np\n",
    "import pandas as pd\n",
    "import seaborn as sns\n",
    "import matplotlib.pyplot as plt \n",
    "import matplotlib.dates as mdates\n",
    "import matplotlib.pyplot as plt"
   ]
  },
  {
   "cell_type": "code",
   "execution_count": 5,
   "id": "superior-blanket",
   "metadata": {
    "execution": {
     "iopub.execute_input": "2021-11-30T01:50:27.208873Z",
     "iopub.status.busy": "2021-11-30T01:50:27.208208Z",
     "iopub.status.idle": "2021-11-30T01:50:44.007546Z",
     "shell.execute_reply": "2021-11-30T01:50:44.006895Z"
    },
    "papermill": {
     "duration": 16.818445,
     "end_time": "2021-11-30T01:50:44.007697",
     "exception": false,
     "start_time": "2021-11-30T01:50:27.189252",
     "status": "completed"
    },
    "tags": []
   },
   "outputs": [
    {
     "name": "stderr",
     "output_type": "stream",
     "text": [
      "/home/runner/work/corr-app/corr-app/_notebooks/scripts/read_data.py:187: SettingWithCopyWarning:\n",
      "\n",
      "\n",
      "A value is trying to be set on a copy of a slice from a DataFrame.\n",
      "Try using .loc[row_indexer,col_indexer] = value instead\n",
      "\n",
      "See the caveats in the documentation: https://pandas.pydata.org/pandas-docs/stable/user_guide/indexing.html#returning-a-view-versus-a-copy\n",
      "\n"
     ]
    },
    {
     "name": "stderr",
     "output_type": "stream",
     "text": [
      "/home/runner/work/corr-app/corr-app/_notebooks/scripts/read_data.py:215: SettingWithCopyWarning:\n",
      "\n",
      "\n",
      "A value is trying to be set on a copy of a slice from a DataFrame.\n",
      "Try using .loc[row_indexer,col_indexer] = value instead\n",
      "\n",
      "See the caveats in the documentation: https://pandas.pydata.org/pandas-docs/stable/user_guide/indexing.html#returning-a-view-versus-a-copy\n",
      "\n"
     ]
    }
   ],
   "source": [
    "#hide\n",
    "df_all = read_api()\n",
    "#df_all = df_all.drop(['SP500', 'XAU', 'ETH', 'BTC'], axis=1)\n",
    "\n"
   ]
  },
  {
   "cell_type": "code",
   "execution_count": 6,
   "id": "mature-alert",
   "metadata": {
    "execution": {
     "iopub.execute_input": "2021-11-30T01:50:44.052175Z",
     "iopub.status.busy": "2021-11-30T01:50:44.042838Z",
     "iopub.status.idle": "2021-11-30T01:50:44.080653Z",
     "shell.execute_reply": "2021-11-30T01:50:44.081180Z"
    },
    "papermill": {
     "duration": 0.059379,
     "end_time": "2021-11-30T01:50:44.081359",
     "exception": false,
     "start_time": "2021-11-30T01:50:44.021980",
     "status": "completed"
    },
    "tags": []
   },
   "outputs": [],
   "source": [
    "#hide_input\n",
    "sum_corr = df_all.corr().sum().sort_values(ascending=True).index.values\n",
    "#df_all[sum_corr].corr()"
   ]
  },
  {
   "cell_type": "markdown",
   "id": "complex-syndicate",
   "metadata": {
    "papermill": {
     "duration": 0.014069,
     "end_time": "2021-11-30T01:50:44.109599",
     "exception": false,
     "start_time": "2021-11-30T01:50:44.095530",
     "status": "completed"
    },
    "tags": []
   },
   "source": [
    "## Išplėstinė koreliacijų matrica. "
   ]
  },
  {
   "cell_type": "code",
   "execution_count": 7,
   "id": "atomic-omaha",
   "metadata": {
    "execution": {
     "iopub.execute_input": "2021-11-30T01:50:44.156231Z",
     "iopub.status.busy": "2021-11-30T01:50:44.153144Z",
     "iopub.status.idle": "2021-11-30T01:50:45.828815Z",
     "shell.execute_reply": "2021-11-30T01:50:45.829361Z"
    },
    "papermill": {
     "duration": 1.705895,
     "end_time": "2021-11-30T01:50:45.829533",
     "exception": false,
     "start_time": "2021-11-30T01:50:44.123638",
     "status": "completed"
    },
    "tags": []
   },
   "outputs": [
    {
     "data": {
      "image/png": "[encoded data removed]",
      "text/plain": [
       "<Figure size 1080x792 with 2 Axes>"
      ]
     },
     "metadata": {
      "needs_background": "light"
     },
     "output_type": "display_data"
    }
   ],
   "source": [
    "#hide_input\n",
    "plt.figure(figsize=(15, 11))\n",
    "sns.heatmap(df_all[sum_corr].corr(), annot=True, cmap=\"cubehelix\") \n",
    "sns.set(font_scale=1.25)\n",
    "plt.savefig('corr_matrix.png', format='eps')"
   ]
  },
  {
   "cell_type": "code",
   "execution_count": 8,
   "id": "arbitrary-sullivan",
   "metadata": {
    "execution": {
     "iopub.execute_input": "2021-11-30T01:50:45.872908Z",
     "iopub.status.busy": "2021-11-30T01:50:45.872130Z",
     "iopub.status.idle": "2021-11-30T01:50:45.901679Z",
     "shell.execute_reply": "2021-11-30T01:50:45.901099Z"
    },
    "papermill": {
     "duration": 0.053623,
     "end_time": "2021-11-30T01:50:45.901827",
     "exception": false,
     "start_time": "2021-11-30T01:50:45.848204",
     "status": "completed"
    },
    "tags": []
   },
   "outputs": [],
   "source": [
    "#hide\n",
    "#df_all_mrk = read_api()"
   ]
  },
  {
   "cell_type": "code",
   "execution_count": 9,
   "id": "delayed-adapter",
   "metadata": {
    "execution": {
     "iopub.execute_input": "2021-11-30T01:50:45.951652Z",
     "iopub.status.busy": "2021-11-30T01:50:45.944020Z",
     "iopub.status.idle": "2021-11-30T01:50:45.982128Z",
     "shell.execute_reply": "2021-11-30T01:50:45.981407Z"
    },
    "papermill": {
     "duration": 0.064352,
     "end_time": "2021-11-30T01:50:45.982283",
     "exception": false,
     "start_time": "2021-11-30T01:50:45.917931",
     "status": "completed"
    },
    "tags": []
   },
   "outputs": [],
   "source": [
    "#hide\n",
    "#Koreliacijų koeficientai"
   ]
  },
  {
   "cell_type": "code",
   "execution_count": 10,
   "id": "seeing-celebration",
   "metadata": {
    "execution": {
     "iopub.execute_input": "2021-11-30T01:50:46.024351Z",
     "iopub.status.busy": "2021-11-30T01:50:46.023545Z",
     "iopub.status.idle": "2021-11-30T01:50:46.059539Z",
     "shell.execute_reply": "2021-11-30T01:50:46.058933Z"
    },
    "papermill": {
     "duration": 0.058507,
     "end_time": "2021-11-30T01:50:46.059692",
     "exception": false,
     "start_time": "2021-11-30T01:50:46.001185",
     "status": "completed"
    },
    "tags": []
   },
   "outputs": [],
   "source": [
    "#hide_input\n",
    "#sum_corr = df_all_mrk.corr().sum().sort_values(ascending=True).index.values\n",
    "#df_all_mrk[sum_corr].corr()"
   ]
  },
  {
   "cell_type": "code",
   "execution_count": 11,
   "id": "other-painting",
   "metadata": {
    "execution": {
     "iopub.execute_input": "2021-11-30T01:50:46.113988Z",
     "iopub.status.busy": "2021-11-30T01:50:46.106845Z",
     "iopub.status.idle": "2021-11-30T01:50:46.132608Z",
     "shell.execute_reply": "2021-11-30T01:50:46.132005Z"
    },
    "papermill": {
     "duration": 0.055614,
     "end_time": "2021-11-30T01:50:46.132766",
     "exception": false,
     "start_time": "2021-11-30T01:50:46.077152",
     "status": "completed"
    },
    "tags": []
   },
   "outputs": [],
   "source": [
    "#hide\n",
    "#Koreliacijos matrica. "
   ]
  },
  {
   "cell_type": "code",
   "execution_count": 12,
   "id": "modular-magnitude",
   "metadata": {
    "execution": {
     "iopub.execute_input": "2021-11-30T01:50:46.175756Z",
     "iopub.status.busy": "2021-11-30T01:50:46.175064Z",
     "iopub.status.idle": "2021-11-30T01:50:46.201524Z",
     "shell.execute_reply": "2021-11-30T01:50:46.202131Z"
    },
    "papermill": {
     "duration": 0.052683,
     "end_time": "2021-11-30T01:50:46.202312",
     "exception": false,
     "start_time": "2021-11-30T01:50:46.149629",
     "status": "completed"
    },
    "tags": []
   },
   "outputs": [],
   "source": [
    "#hide_input\n",
    "#plt.figure(figsize=(15, 8))\n",
    "#sns.heatmap(df_all_mrk[sum_corr].corr(), annot=True, cmap=\"BrBG\");\n",
    "#plt.savefig('corr_matrix_all.eps', format='eps')"
   ]
  },
  {
   "cell_type": "code",
   "execution_count": null,
   "id": "original-senator",
   "metadata": {
    "papermill": {
     "duration": 0.01811,
     "end_time": "2021-11-30T01:50:46.239405",
     "exception": false,
     "start_time": "2021-11-30T01:50:46.221295",
     "status": "completed"
    },
    "tags": []
   },
   "outputs": [],
   "source": []
  },
  {
   "cell_type": "code",
   "execution_count": null,
   "id": "saving-secretariat",
   "metadata": {
    "papermill": {
     "duration": 0.016936,
     "end_time": "2021-11-30T01:50:46.274452",
     "exception": false,
     "start_time": "2021-11-30T01:50:46.257516",
     "status": "completed"
    },
    "tags": []
   },
   "outputs": [],
   "source": []
  }
 ],
 "metadata": {
  "kernelspec": {
   "display_name": "Python 3",
   "language": "python",
   "name": "python3"
  },
  "language_info": {
   "codemirror_mode": {
    "name": "ipython",
    "version": 3
   },
   "file_extension": ".py",
   "mimetype": "text/x-python",
   "name": "python",
   "nbconvert_exporter": "python",
   "pygments_lexer": "ipython3",
   "version": "3.6.15"
  },
  "papermill": {
   "default_parameters": {},
   "duration": 24.025082,
   "end_time": "2021-11-30T01:50:46.799211",
   "environment_variables": {},
   "exception": null,
   "input_path": "App-Correlation_charts.ipynb",
   "output_path": "App-Correlation_charts.ipynb",
   "parameters": {},
   "start_time": "2021-11-30T01:50:22.774129",
   "version": "2.2.2"
  }
 },
 "nbformat": 4,
 "nbformat_minor": 5
}