{
 "cells": [
  {
   "cell_type": "markdown",
   "id": "touched-facility",
   "metadata": {
    "papermill": {
     "duration": 0.015584,
     "end_time": "2022-08-23T03:35:31.500507",
     "exception": false,
     "start_time": "2022-08-23T03:35:31.484923",
     "status": "completed"
    },
    "tags": []
   },
   "source": [
    "# Koreliacijų matrica\n",
    "> Išplėstinė koreliacijų matrica. \n",
    "\n",
    "- toc: true \n",
    "- badges: true\n",
    "- comments: false\n",
    "- categories: [Dominykas Tautkus]\n",
    "- image: images/matrix.png"
   ]
  },
  {
   "cell_type": "code",
   "execution_count": null,
   "id": "premium-weekend",
   "metadata": {
    "papermill": {
     "duration": 0.010645,
     "end_time": "2022-08-23T03:35:31.524107",
     "exception": false,
     "start_time": "2022-08-23T03:35:31.513462",
     "status": "completed"
    },
    "tags": []
   },
   "outputs": [],
   "source": []
  },
  {
   "cell_type": "code",
   "execution_count": 1,
   "id": "vertical-rebate",
   "metadata": {
    "execution": {
     "iopub.execute_input": "2022-08-23T03:35:31.557635Z",
     "iopub.status.busy": "2022-08-23T03:35:31.556985Z",
     "iopub.status.idle": "2022-08-23T03:35:31.568486Z",
     "shell.execute_reply": "2022-08-23T03:35:31.567949Z"
    },
    "papermill": {
     "duration": 0.033831,
     "end_time": "2022-08-23T03:35:31.568628",
     "exception": false,
     "start_time": "2022-08-23T03:35:31.534797",
     "status": "completed"
    },
    "tags": []
   },
   "outputs": [],
   "source": [
    "#hide\n",
    "%load_ext autoreload\n",
    "%autoreload 2"
   ]
  },
  {
   "cell_type": "code",
   "execution_count": 2,
   "id": "overall-advancement",
   "metadata": {
    "execution": {
     "iopub.execute_input": "2022-08-23T03:35:31.594633Z",
     "iopub.status.busy": "2022-08-23T03:35:31.594030Z",
     "iopub.status.idle": "2022-08-23T03:35:32.748392Z",
     "shell.execute_reply": "2022-08-23T03:35:32.747376Z"
    },
    "papermill": {
     "duration": 1.169055,
     "end_time": "2022-08-23T03:35:32.748538",
     "exception": false,
     "start_time": "2022-08-23T03:35:31.579483",
     "status": "completed"
    },
    "tags": []
   },
   "outputs": [],
   "source": [
    "#hide\n",
    "from scripts.read_data import read_api\n",
    "from IPython.display import HTML\n",
    "import plotly.graph_objects as go\n"
   ]
  },
  {
   "cell_type": "code",
   "execution_count": 3,
   "id": "light-crazy",
   "metadata": {
    "execution": {
     "iopub.execute_input": "2022-08-23T03:35:32.778982Z",
     "iopub.status.busy": "2022-08-23T03:35:32.778065Z",
     "iopub.status.idle": "2022-08-23T03:35:32.799422Z",
     "shell.execute_reply": "2022-08-23T03:35:32.799982Z"
    },
    "papermill": {
     "duration": 0.04055,
     "end_time": "2022-08-23T03:35:32.800145",
     "exception": false,
     "start_time": "2022-08-23T03:35:32.759595",
     "status": "completed"
    },
    "tags": []
   },
   "outputs": [],
   "source": [
    "#hide\n",
    "### ICO koreliacija"
   ]
  },
  {
   "cell_type": "code",
   "execution_count": 4,
   "id": "likely-bahrain",
   "metadata": {
    "execution": {
     "iopub.execute_input": "2022-08-23T03:35:32.828972Z",
     "iopub.status.busy": "2022-08-23T03:35:32.828276Z",
     "iopub.status.idle": "2022-08-23T03:35:33.700766Z",
     "shell.execute_reply": "2022-08-23T03:35:33.701297Z"
    },
    "papermill": {
     "duration": 0.890501,
     "end_time": "2022-08-23T03:35:33.701477",
     "exception": false,
     "start_time": "2022-08-23T03:35:32.810976",
     "status": "completed"
    },
    "tags": []
   },
   "outputs": [],
   "source": [
    "#hide\n",
    "import matplotlib.pyplot as plt\n",
    "import numpy as np\n",
    "import pandas as pd\n",
    "import seaborn as sns\n",
    "import matplotlib.pyplot as plt \n",
    "import matplotlib.dates as mdates\n",
    "import matplotlib.pyplot as plt"
   ]
  },
  {
   "cell_type": "code",
   "execution_count": 5,
   "id": "superior-blanket",
   "metadata": {
    "execution": {
     "iopub.execute_input": "2022-08-23T03:35:33.731470Z",
     "iopub.status.busy": "2022-08-23T03:35:33.730774Z",
     "iopub.status.idle": "2022-08-23T03:35:43.756556Z",
     "shell.execute_reply": "2022-08-23T03:35:43.755912Z"
    },
    "papermill": {
     "duration": 10.043686,
     "end_time": "2022-08-23T03:35:43.756711",
     "exception": false,
     "start_time": "2022-08-23T03:35:33.713025",
     "status": "completed"
    },
    "tags": []
   },
   "outputs": [
    {
     "name": "stderr",
     "output_type": "stream",
     "text": [
      "/home/runner/work/corr-app/corr-app/_notebooks/scripts/read_data.py:187: SettingWithCopyWarning:\n",
      "\n",
      "\n",
      "A value is trying to be set on a copy of a slice from a DataFrame.\n",
      "Try using .loc[row_indexer,col_indexer] = value instead\n",
      "\n",
      "See the caveats in the documentation: https://pandas.pydata.org/pandas-docs/stable/user_guide/indexing.html#returning-a-view-versus-a-copy\n",
      "\n"
     ]
    },
    {
     "name": "stderr",
     "output_type": "stream",
     "text": [
      "/home/runner/work/corr-app/corr-app/_notebooks/scripts/read_data.py:215: SettingWithCopyWarning:\n",
      "\n",
      "\n",
      "A value is trying to be set on a copy of a slice from a DataFrame.\n",
      "Try using .loc[row_indexer,col_indexer] = value instead\n",
      "\n",
      "See the caveats in the documentation: https://pandas.pydata.org/pandas-docs/stable/user_guide/indexing.html#returning-a-view-versus-a-copy\n",
      "\n"
     ]
    }
   ],
   "source": [
    "#hide\n",
    "df_all = read_api()\n",
    "#df_all = df_all.drop(['SP500', 'XAU', 'ETH', 'BTC'], axis=1)\n",
    "\n"
   ]
  },
  {
   "cell_type": "code",
   "execution_count": 6,
   "id": "mature-alert",
   "metadata": {
    "execution": {
     "iopub.execute_input": "2022-08-23T03:35:43.786972Z",
     "iopub.status.busy": "2022-08-23T03:35:43.786317Z",
     "iopub.status.idle": "2022-08-23T03:35:43.819601Z",
     "shell.execute_reply": "2022-08-23T03:35:43.818978Z"
    },
    "papermill": {
     "duration": 0.049852,
     "end_time": "2022-08-23T03:35:43.819757",
     "exception": false,
     "start_time": "2022-08-23T03:35:43.769905",
     "status": "completed"
    },
    "tags": []
   },
   "outputs": [],
   "source": [
    "#hide_input\n",
    "sum_corr = df_all.corr().sum().sort_values(ascending=True).index.values\n",
    "#df_all[sum_corr].corr()"
   ]
  },
  {
   "cell_type": "markdown",
   "id": "complex-syndicate",
   "metadata": {
    "papermill": {
     "duration": 0.011447,
     "end_time": "2022-08-23T03:35:43.842808",
     "exception": false,
     "start_time": "2022-08-23T03:35:43.831361",
     "status": "completed"
    },
    "tags": []
   },
   "source": [
    "## Išplėstinė koreliacijų matrica. "
   ]
  },
  {
   "cell_type": "code",
   "execution_count": 7,
   "id": "atomic-omaha",
   "metadata": {
    "execution": {
     "iopub.execute_input": "2022-08-23T03:35:43.870814Z",
     "iopub.status.busy": "2022-08-23T03:35:43.870193Z",
     "iopub.status.idle": "2022-08-23T03:35:45.171160Z",
     "shell.execute_reply": "2022-08-23T03:35:45.170584Z"
    },
    "papermill": {
     "duration": 1.316862,
     "end_time": "2022-08-23T03:35:45.171302",
     "exception": false,
     "start_time": "2022-08-23T03:35:43.854440",
     "status": "completed"
    },
    "tags": []
   },
   "outputs": [
    {
     "data": {
      "image/png": "[encoded data removed]",
      "text/plain": [
       "<Figure size 1080x792 with 2 Axes>"
      ]
     },
     "metadata": {
      "needs_background": "light"
     },
     "output_type": "display_data"
    }
   ],
   "source": [
    "#hide_input\n",
    "plt.figure(figsize=(15, 11))\n",
    "sns.heatmap(df_all[sum_corr].corr(), annot=True, cmap=\"cubehelix\") \n",
    "sns.set(font_scale=1.25)\n",
    "plt.savefig('corr_matrix.png', format='eps')"
   ]
  },
  {
   "cell_type": "code",
   "execution_count": 8,
   "id": "arbitrary-sullivan",
   "metadata": {
    "execution": {
     "iopub.execute_input": "2022-08-23T03:35:45.292913Z",
     "iopub.status.busy": "2022-08-23T03:35:45.290623Z",
     "iopub.status.idle": "2022-08-23T03:35:45.319902Z",
     "shell.execute_reply": "2022-08-23T03:35:45.319123Z"
    },
    "papermill": {
     "duration": 0.092075,
     "end_time": "2022-08-23T03:35:45.320045",
     "exception": false,
     "start_time": "2022-08-23T03:35:45.227970",
     "status": "completed"
    },
    "tags": []
   },
   "outputs": [],
   "source": [
    "#hide\n",
    "#df_all_mrk = read_api()"
   ]
  },
  {
   "cell_type": "code",
   "execution_count": 9,
   "id": "delayed-adapter",
   "metadata": {
    "execution": {
     "iopub.execute_input": "2022-08-23T03:35:45.354518Z",
     "iopub.status.busy": "2022-08-23T03:35:45.353826Z",
     "iopub.status.idle": "2022-08-23T03:35:45.381848Z",
     "shell.execute_reply": "2022-08-23T03:35:45.381182Z"
    },
    "papermill": {
     "duration": 0.047911,
     "end_time": "2022-08-23T03:35:45.382003",
     "exception": false,
     "start_time": "2022-08-23T03:35:45.334092",
     "status": "completed"
    },
    "tags": []
   },
   "outputs": [],
   "source": [
    "#hide\n",
    "#Koreliacijų koeficientai"
   ]
  },
  {
   "cell_type": "code",
   "execution_count": 10,
   "id": "seeing-celebration",
   "metadata": {
    "execution": {
     "iopub.execute_input": "2022-08-23T03:35:45.414508Z",
     "iopub.status.busy": "2022-08-23T03:35:45.413860Z",
     "iopub.status.idle": "2022-08-23T03:35:45.442674Z",
     "shell.execute_reply": "2022-08-23T03:35:45.442091Z"
    },
    "papermill": {
     "duration": 0.046952,
     "end_time": "2022-08-23T03:35:45.442825",
     "exception": false,
     "start_time": "2022-08-23T03:35:45.395873",
     "status": "completed"
    },
    "tags": []
   },
   "outputs": [],
   "source": [
    "#hide_input\n",
    "#sum_corr = df_all_mrk.corr().sum().sort_values(ascending=True).index.values\n",
    "#df_all_mrk[sum_corr].corr()"
   ]
  },
  {
   "cell_type": "code",
   "execution_count": 11,
   "id": "other-painting",
   "metadata": {
    "execution": {
     "iopub.execute_input": "2022-08-23T03:35:45.475400Z",
     "iopub.status.busy": "2022-08-23T03:35:45.474692Z",
     "iopub.status.idle": "2022-08-23T03:35:45.502966Z",
     "shell.execute_reply": "2022-08-23T03:35:45.502369Z"
    },
    "papermill": {
     "duration": 0.046419,
     "end_time": "2022-08-23T03:35:45.503132",
     "exception": false,
     "start_time": "2022-08-23T03:35:45.456713",
     "status": "completed"
    },
    "tags": []
   },
   "outputs": [],
   "source": [
    "#hide\n",
    "#Koreliacijos matrica. "
   ]
  },
  {
   "cell_type": "code",
   "execution_count": 12,
   "id": "modular-magnitude",
   "metadata": {
    "execution": {
     "iopub.execute_input": "2022-08-23T03:35:45.534966Z",
     "iopub.status.busy": "2022-08-23T03:35:45.534329Z",
     "iopub.status.idle": "2022-08-23T03:35:45.564888Z",
     "shell.execute_reply": "2022-08-23T03:35:45.564330Z"
    },
    "papermill": {
     "duration": 0.048022,
     "end_time": "2022-08-23T03:35:45.565018",
     "exception": false,
     "start_time": "2022-08-23T03:35:45.516996",
     "status": "completed"
    },
    "tags": []
   },
   "outputs": [],
   "source": [
    "#hide_input\n",
    "#plt.figure(figsize=(15, 8))\n",
    "#sns.heatmap(df_all_mrk[sum_corr].corr(), annot=True, cmap=\"BrBG\");\n",
    "#plt.savefig('corr_matrix_all.eps', format='eps')"
   ]
  },
  {
   "cell_type": "code",
   "execution_count": null,
   "id": "original-senator",
   "metadata": {
    "papermill": {
     "duration": 0.015817,
     "end_time": "2022-08-23T03:35:45.597038",
     "exception": false,
     "start_time": "2022-08-23T03:35:45.581221",
     "status": "completed"
    },
    "tags": []
   },
   "outputs": [],
   "source": []
  },
  {
   "cell_type": "code",
   "execution_count": null,
   "id": "saving-secretariat",
   "metadata": {
    "papermill": {
     "duration": 0.013818,
     "end_time": "2022-08-23T03:35:45.625147",
     "exception": false,
     "start_time": "2022-08-23T03:35:45.611329",
     "status": "completed"
    },
    "tags": []
   },
   "outputs": [],
   "source": []
  }
 ],
 "metadata": {
  "kernelspec": {
   "display_name": "Python 3",
   "language": "python",
   "name": "python3"
  },
  "language_info": {
   "codemirror_mode": {
    "name": "ipython",
    "version": 3
   },
   "file_extension": ".py",
   "mimetype": "text/x-python",
   "name": "python",
   "nbconvert_exporter": "python",
   "pygments_lexer": "ipython3",
   "version": "3.6.15"
  },
  "papermill": {
   "default_parameters": {},
   "duration": 15.886306,
   "end_time": "2022-08-23T03:35:46.260470",
   "environment_variables": {},
   "exception": null,
   "input_path": "App-Correlation_charts.ipynb",
   "output_path": "App-Correlation_charts.ipynb",
   "parameters": {},
   "start_time": "2022-08-23T03:35:30.374164",
   "version": "2.2.2"
  }
 },
 "nbformat": 4,
 "nbformat_minor": 5
}