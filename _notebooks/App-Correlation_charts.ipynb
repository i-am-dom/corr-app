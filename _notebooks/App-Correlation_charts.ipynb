{
 "cells": [
  {
   "cell_type": "markdown",
   "id": "touched-facility",
   "metadata": {
    "papermill": {
     "duration": 0.015548,
     "end_time": "2021-10-24T01:59:56.024938",
     "exception": false,
     "start_time": "2021-10-24T01:59:56.009390",
     "status": "completed"
    },
    "tags": []
   },
   "source": [
    "# Koreliacijų matrica\n",
    "> Išplėstinė koreliacijų matrica. \n",
    "\n",
    "- toc: true \n",
    "- badges: true\n",
    "- comments: false\n",
    "- categories: [Dominykas Tautkus]\n",
    "- image: images/matrix.png"
   ]
  },
  {
   "cell_type": "code",
   "execution_count": null,
   "id": "premium-weekend",
   "metadata": {
    "papermill": {
     "duration": 0.010594,
     "end_time": "2021-10-24T01:59:56.046733",
     "exception": false,
     "start_time": "2021-10-24T01:59:56.036139",
     "status": "completed"
    },
    "tags": []
   },
   "outputs": [],
   "source": []
  },
  {
   "cell_type": "code",
   "execution_count": 1,
   "id": "vertical-rebate",
   "metadata": {
    "execution": {
     "iopub.execute_input": "2021-10-24T01:59:56.077404Z",
     "iopub.status.busy": "2021-10-24T01:59:56.076882Z",
     "iopub.status.idle": "2021-10-24T01:59:56.086964Z",
     "shell.execute_reply": "2021-10-24T01:59:56.086543Z"
    },
    "papermill": {
     "duration": 0.02991,
     "end_time": "2021-10-24T01:59:56.087080",
     "exception": false,
     "start_time": "2021-10-24T01:59:56.057170",
     "status": "completed"
    },
    "tags": []
   },
   "outputs": [],
   "source": [
    "#hide\n",
    "%load_ext autoreload\n",
    "%autoreload 2"
   ]
  },
  {
   "cell_type": "code",
   "execution_count": 2,
   "id": "overall-advancement",
   "metadata": {
    "execution": {
     "iopub.execute_input": "2021-10-24T01:59:56.111206Z",
     "iopub.status.busy": "2021-10-24T01:59:56.110703Z",
     "iopub.status.idle": "2021-10-24T01:59:57.250317Z",
     "shell.execute_reply": "2021-10-24T01:59:57.249769Z"
    },
    "papermill": {
     "duration": 1.152857,
     "end_time": "2021-10-24T01:59:57.250457",
     "exception": false,
     "start_time": "2021-10-24T01:59:56.097600",
     "status": "completed"
    },
    "tags": []
   },
   "outputs": [],
   "source": [
    "#hide\n",
    "from scripts.read_data import read_api\n",
    "from IPython.display import HTML\n",
    "import plotly.graph_objects as go\n"
   ]
  },
  {
   "cell_type": "code",
   "execution_count": 3,
   "id": "light-crazy",
   "metadata": {
    "execution": {
     "iopub.execute_input": "2021-10-24T01:59:57.276574Z",
     "iopub.status.busy": "2021-10-24T01:59:57.275962Z",
     "iopub.status.idle": "2021-10-24T01:59:57.299001Z",
     "shell.execute_reply": "2021-10-24T01:59:57.298193Z"
    },
    "papermill": {
     "duration": 0.037269,
     "end_time": "2021-10-24T01:59:57.299118",
     "exception": false,
     "start_time": "2021-10-24T01:59:57.261849",
     "status": "completed"
    },
    "tags": []
   },
   "outputs": [],
   "source": [
    "#hide\n",
    "### ICO koreliacija"
   ]
  },
  {
   "cell_type": "code",
   "execution_count": 4,
   "id": "likely-bahrain",
   "metadata": {
    "execution": {
     "iopub.execute_input": "2021-10-24T01:59:57.323838Z",
     "iopub.status.busy": "2021-10-24T01:59:57.323134Z",
     "iopub.status.idle": "2021-10-24T01:59:58.205350Z",
     "shell.execute_reply": "2021-10-24T01:59:58.204793Z"
    },
    "papermill": {
     "duration": 0.895761,
     "end_time": "2021-10-24T01:59:58.205477",
     "exception": false,
     "start_time": "2021-10-24T01:59:57.309716",
     "status": "completed"
    },
    "tags": []
   },
   "outputs": [],
   "source": [
    "#hide\n",
    "import matplotlib.pyplot as plt\n",
    "import numpy as np\n",
    "import pandas as pd\n",
    "import seaborn as sns\n",
    "import matplotlib.pyplot as plt \n",
    "import matplotlib.dates as mdates\n",
    "import matplotlib.pyplot as plt"
   ]
  },
  {
   "cell_type": "code",
   "execution_count": 5,
   "id": "superior-blanket",
   "metadata": {
    "execution": {
     "iopub.execute_input": "2021-10-24T01:59:58.231036Z",
     "iopub.status.busy": "2021-10-24T01:59:58.230452Z",
     "iopub.status.idle": "2021-10-24T02:00:10.371033Z",
     "shell.execute_reply": "2021-10-24T02:00:10.370520Z"
    },
    "papermill": {
     "duration": 12.154125,
     "end_time": "2021-10-24T02:00:10.371153",
     "exception": false,
     "start_time": "2021-10-24T01:59:58.217028",
     "status": "completed"
    },
    "tags": []
   },
   "outputs": [
    {
     "name": "stderr",
     "output_type": "stream",
     "text": [
      "/home/runner/work/corr-app/corr-app/_notebooks/scripts/read_data.py:187: SettingWithCopyWarning:\n",
      "\n",
      "\n",
      "A value is trying to be set on a copy of a slice from a DataFrame.\n",
      "Try using .loc[row_indexer,col_indexer] = value instead\n",
      "\n",
      "See the caveats in the documentation: https://pandas.pydata.org/pandas-docs/stable/user_guide/indexing.html#returning-a-view-versus-a-copy\n",
      "\n"
     ]
    },
    {
     "name": "stderr",
     "output_type": "stream",
     "text": [
      "/home/runner/work/corr-app/corr-app/_notebooks/scripts/read_data.py:215: SettingWithCopyWarning:\n",
      "\n",
      "\n",
      "A value is trying to be set on a copy of a slice from a DataFrame.\n",
      "Try using .loc[row_indexer,col_indexer] = value instead\n",
      "\n",
      "See the caveats in the documentation: https://pandas.pydata.org/pandas-docs/stable/user_guide/indexing.html#returning-a-view-versus-a-copy\n",
      "\n"
     ]
    }
   ],
   "source": [
    "#hide\n",
    "df_all = read_api()\n",
    "#df_all = df_all.drop(['SP500', 'XAU', 'ETH', 'BTC'], axis=1)\n",
    "\n"
   ]
  },
  {
   "cell_type": "code",
   "execution_count": 6,
   "id": "mature-alert",
   "metadata": {
    "execution": {
     "iopub.execute_input": "2021-10-24T02:00:10.399325Z",
     "iopub.status.busy": "2021-10-24T02:00:10.398765Z",
     "iopub.status.idle": "2021-10-24T02:00:10.427948Z",
     "shell.execute_reply": "2021-10-24T02:00:10.427201Z"
    },
    "papermill": {
     "duration": 0.045317,
     "end_time": "2021-10-24T02:00:10.428076",
     "exception": false,
     "start_time": "2021-10-24T02:00:10.382759",
     "status": "completed"
    },
    "tags": []
   },
   "outputs": [],
   "source": [
    "#hide_input\n",
    "sum_corr = df_all.corr().sum().sort_values(ascending=True).index.values\n",
    "#df_all[sum_corr].corr()"
   ]
  },
  {
   "cell_type": "markdown",
   "id": "complex-syndicate",
   "metadata": {
    "papermill": {
     "duration": 0.011157,
     "end_time": "2021-10-24T02:00:10.451013",
     "exception": false,
     "start_time": "2021-10-24T02:00:10.439856",
     "status": "completed"
    },
    "tags": []
   },
   "source": [
    "## Išplėstinė koreliacijų matrica. "
   ]
  },
  {
   "cell_type": "code",
   "execution_count": 7,
   "id": "atomic-omaha",
   "metadata": {
    "execution": {
     "iopub.execute_input": "2021-10-24T02:00:10.480696Z",
     "iopub.status.busy": "2021-10-24T02:00:10.480193Z",
     "iopub.status.idle": "2021-10-24T02:00:11.713279Z",
     "shell.execute_reply": "2021-10-24T02:00:11.712825Z"
    },
    "papermill": {
     "duration": 1.251282,
     "end_time": "2021-10-24T02:00:11.713404",
     "exception": false,
     "start_time": "2021-10-24T02:00:10.462122",
     "status": "completed"
    },
    "tags": []
   },
   "outputs": [
    {
     "data": {
      "image/png": "[encoded data removed]",
      "text/plain": [
       "<Figure size 1080x792 with 2 Axes>"
      ]
     },
     "metadata": {
      "needs_background": "light"
     },
     "output_type": "display_data"
    }
   ],
   "source": [
    "#hide_input\n",
    "plt.figure(figsize=(15, 11))\n",
    "sns.heatmap(df_all[sum_corr].corr(), annot=True, cmap=\"cubehelix\") \n",
    "sns.set(font_scale=1.25)\n",
    "plt.savefig('corr_matrix.png', format='eps')"
   ]
  },
  {
   "cell_type": "code",
   "execution_count": 8,
   "id": "arbitrary-sullivan",
   "metadata": {
    "execution": {
     "iopub.execute_input": "2021-10-24T02:00:11.748430Z",
     "iopub.status.busy": "2021-10-24T02:00:11.742818Z",
     "iopub.status.idle": "2021-10-24T02:00:11.768312Z",
     "shell.execute_reply": "2021-10-24T02:00:11.767838Z"
    },
    "papermill": {
     "duration": 0.041371,
     "end_time": "2021-10-24T02:00:11.768433",
     "exception": false,
     "start_time": "2021-10-24T02:00:11.727062",
     "status": "completed"
    },
    "tags": []
   },
   "outputs": [],
   "source": [
    "#hide\n",
    "#df_all_mrk = read_api()"
   ]
  },
  {
   "cell_type": "code",
   "execution_count": 9,
   "id": "delayed-adapter",
   "metadata": {
    "execution": {
     "iopub.execute_input": "2021-10-24T02:00:11.802799Z",
     "iopub.status.busy": "2021-10-24T02:00:11.802296Z",
     "iopub.status.idle": "2021-10-24T02:00:11.823823Z",
     "shell.execute_reply": "2021-10-24T02:00:11.824266Z"
    },
    "papermill": {
     "duration": 0.042243,
     "end_time": "2021-10-24T02:00:11.824398",
     "exception": false,
     "start_time": "2021-10-24T02:00:11.782155",
     "status": "completed"
    },
    "tags": []
   },
   "outputs": [],
   "source": [
    "#hide\n",
    "#Koreliacijų koeficientai"
   ]
  },
  {
   "cell_type": "code",
   "execution_count": 10,
   "id": "seeing-celebration",
   "metadata": {
    "execution": {
     "iopub.execute_input": "2021-10-24T02:00:11.856606Z",
     "iopub.status.busy": "2021-10-24T02:00:11.856100Z",
     "iopub.status.idle": "2021-10-24T02:00:11.877885Z",
     "shell.execute_reply": "2021-10-24T02:00:11.878327Z"
    },
    "papermill": {
     "duration": 0.039688,
     "end_time": "2021-10-24T02:00:11.878456",
     "exception": false,
     "start_time": "2021-10-24T02:00:11.838768",
     "status": "completed"
    },
    "tags": []
   },
   "outputs": [],
   "source": [
    "#hide_input\n",
    "#sum_corr = df_all_mrk.corr().sum().sort_values(ascending=True).index.values\n",
    "#df_all_mrk[sum_corr].corr()"
   ]
  },
  {
   "cell_type": "code",
   "execution_count": 11,
   "id": "other-painting",
   "metadata": {
    "execution": {
     "iopub.execute_input": "2021-10-24T02:00:11.907804Z",
     "iopub.status.busy": "2021-10-24T02:00:11.907272Z",
     "iopub.status.idle": "2021-10-24T02:00:11.930293Z",
     "shell.execute_reply": "2021-10-24T02:00:11.930728Z"
    },
    "papermill": {
     "duration": 0.038778,
     "end_time": "2021-10-24T02:00:11.930856",
     "exception": false,
     "start_time": "2021-10-24T02:00:11.892078",
     "status": "completed"
    },
    "tags": []
   },
   "outputs": [],
   "source": [
    "#hide\n",
    "#Koreliacijos matrica. "
   ]
  },
  {
   "cell_type": "code",
   "execution_count": 12,
   "id": "modular-magnitude",
   "metadata": {
    "execution": {
     "iopub.execute_input": "2021-10-24T02:00:11.960708Z",
     "iopub.status.busy": "2021-10-24T02:00:11.960206Z",
     "iopub.status.idle": "2021-10-24T02:00:11.982454Z",
     "shell.execute_reply": "2021-10-24T02:00:11.982049Z"
    },
    "papermill": {
     "duration": 0.038093,
     "end_time": "2021-10-24T02:00:11.982554",
     "exception": false,
     "start_time": "2021-10-24T02:00:11.944461",
     "status": "completed"
    },
    "tags": []
   },
   "outputs": [],
   "source": [
    "#hide_input\n",
    "#plt.figure(figsize=(15, 8))\n",
    "#sns.heatmap(df_all_mrk[sum_corr].corr(), annot=True, cmap=\"BrBG\");\n",
    "#plt.savefig('corr_matrix_all.eps', format='eps')"
   ]
  },
  {
   "cell_type": "code",
   "execution_count": null,
   "id": "original-senator",
   "metadata": {
    "papermill": {
     "duration": 0.012966,
     "end_time": "2021-10-24T02:00:12.008552",
     "exception": false,
     "start_time": "2021-10-24T02:00:11.995586",
     "status": "completed"
    },
    "tags": []
   },
   "outputs": [],
   "source": []
  },
  {
   "cell_type": "code",
   "execution_count": null,
   "id": "saving-secretariat",
   "metadata": {
    "papermill": {
     "duration": 0.012963,
     "end_time": "2021-10-24T02:00:12.034518",
     "exception": false,
     "start_time": "2021-10-24T02:00:12.021555",
     "status": "completed"
    },
    "tags": []
   },
   "outputs": [],
   "source": []
  }
 ],
 "metadata": {
  "kernelspec": {
   "display_name": "Python 3",
   "language": "python",
   "name": "python3"
  },
  "language_info": {
   "codemirror_mode": {
    "name": "ipython",
    "version": 3
   },
   "file_extension": ".py",
   "mimetype": "text/x-python",
   "name": "python",
   "nbconvert_exporter": "python",
   "pygments_lexer": "ipython3",
   "version": "3.6.15"
  },
  "papermill": {
   "default_parameters": {},
   "duration": 17.670858,
   "end_time": "2021-10-24T02:00:12.555765",
   "environment_variables": {},
   "exception": null,
   "input_path": "App-Correlation_charts.ipynb",
   "output_path": "App-Correlation_charts.ipynb",
   "parameters": {},
   "start_time": "2021-10-24T01:59:54.884907",
   "version": "2.2.2"
  }
 },
 "nbformat": 4,
 "nbformat_minor": 5
}