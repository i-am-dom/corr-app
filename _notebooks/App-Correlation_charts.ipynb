{
 "cells": [
  {
   "cell_type": "markdown",
   "id": "touched-facility",
   "metadata": {
    "papermill": {
     "duration": 0.019704,
     "end_time": "2021-10-31T02:00:26.065837",
     "exception": false,
     "start_time": "2021-10-31T02:00:26.046133",
     "status": "completed"
    },
    "tags": []
   },
   "source": [
    "# Koreliacijų matrica\n",
    "> Išplėstinė koreliacijų matrica. \n",
    "\n",
    "- toc: true \n",
    "- badges: true\n",
    "- comments: false\n",
    "- categories: [Dominykas Tautkus]\n",
    "- image: images/matrix.png"
   ]
  },
  {
   "cell_type": "code",
   "execution_count": null,
   "id": "premium-weekend",
   "metadata": {
    "papermill": {
     "duration": 0.011554,
     "end_time": "2021-10-31T02:00:26.090111",
     "exception": false,
     "start_time": "2021-10-31T02:00:26.078557",
     "status": "completed"
    },
    "tags": []
   },
   "outputs": [],
   "source": []
  },
  {
   "cell_type": "code",
   "execution_count": 1,
   "id": "vertical-rebate",
   "metadata": {
    "execution": {
     "iopub.execute_input": "2021-10-31T02:00:26.124732Z",
     "iopub.status.busy": "2021-10-31T02:00:26.124172Z",
     "iopub.status.idle": "2021-10-31T02:00:26.138523Z",
     "shell.execute_reply": "2021-10-31T02:00:26.138017Z"
    },
    "papermill": {
     "duration": 0.037222,
     "end_time": "2021-10-31T02:00:26.138666",
     "exception": false,
     "start_time": "2021-10-31T02:00:26.101444",
     "status": "completed"
    },
    "tags": []
   },
   "outputs": [],
   "source": [
    "#hide\n",
    "%load_ext autoreload\n",
    "%autoreload 2"
   ]
  },
  {
   "cell_type": "code",
   "execution_count": 2,
   "id": "overall-advancement",
   "metadata": {
    "execution": {
     "iopub.execute_input": "2021-10-31T02:00:26.168128Z",
     "iopub.status.busy": "2021-10-31T02:00:26.167570Z",
     "iopub.status.idle": "2021-10-31T02:00:27.519976Z",
     "shell.execute_reply": "2021-10-31T02:00:27.519458Z"
    },
    "papermill": {
     "duration": 1.36971,
     "end_time": "2021-10-31T02:00:27.520113",
     "exception": false,
     "start_time": "2021-10-31T02:00:26.150403",
     "status": "completed"
    },
    "tags": []
   },
   "outputs": [],
   "source": [
    "#hide\n",
    "from scripts.read_data import read_api\n",
    "from IPython.display import HTML\n",
    "import plotly.graph_objects as go\n"
   ]
  },
  {
   "cell_type": "code",
   "execution_count": 3,
   "id": "light-crazy",
   "metadata": {
    "execution": {
     "iopub.execute_input": "2021-10-31T02:00:27.551804Z",
     "iopub.status.busy": "2021-10-31T02:00:27.551167Z",
     "iopub.status.idle": "2021-10-31T02:00:27.576395Z",
     "shell.execute_reply": "2021-10-31T02:00:27.577018Z"
    },
    "papermill": {
     "duration": 0.042112,
     "end_time": "2021-10-31T02:00:27.577218",
     "exception": false,
     "start_time": "2021-10-31T02:00:27.535106",
     "status": "completed"
    },
    "tags": []
   },
   "outputs": [],
   "source": [
    "#hide\n",
    "### ICO koreliacija"
   ]
  },
  {
   "cell_type": "code",
   "execution_count": 4,
   "id": "likely-bahrain",
   "metadata": {
    "execution": {
     "iopub.execute_input": "2021-10-31T02:00:27.606225Z",
     "iopub.status.busy": "2021-10-31T02:00:27.605639Z",
     "iopub.status.idle": "2021-10-31T02:00:28.523631Z",
     "shell.execute_reply": "2021-10-31T02:00:28.522944Z"
    },
    "papermill": {
     "duration": 0.933607,
     "end_time": "2021-10-31T02:00:28.523799",
     "exception": false,
     "start_time": "2021-10-31T02:00:27.590192",
     "status": "completed"
    },
    "tags": []
   },
   "outputs": [],
   "source": [
    "#hide\n",
    "import matplotlib.pyplot as plt\n",
    "import numpy as np\n",
    "import pandas as pd\n",
    "import seaborn as sns\n",
    "import matplotlib.pyplot as plt \n",
    "import matplotlib.dates as mdates\n",
    "import matplotlib.pyplot as plt"
   ]
  },
  {
   "cell_type": "code",
   "execution_count": 5,
   "id": "superior-blanket",
   "metadata": {
    "execution": {
     "iopub.execute_input": "2021-10-31T02:00:28.556166Z",
     "iopub.status.busy": "2021-10-31T02:00:28.555594Z",
     "iopub.status.idle": "2021-10-31T02:00:47.510563Z",
     "shell.execute_reply": "2021-10-31T02:00:47.511129Z"
    },
    "papermill": {
     "duration": 18.974649,
     "end_time": "2021-10-31T02:00:47.511298",
     "exception": false,
     "start_time": "2021-10-31T02:00:28.536649",
     "status": "completed"
    },
    "tags": []
   },
   "outputs": [
    {
     "name": "stderr",
     "output_type": "stream",
     "text": [
      "/home/runner/work/corr-app/corr-app/_notebooks/scripts/read_data.py:187: SettingWithCopyWarning:\n",
      "\n",
      "\n",
      "A value is trying to be set on a copy of a slice from a DataFrame.\n",
      "Try using .loc[row_indexer,col_indexer] = value instead\n",
      "\n",
      "See the caveats in the documentation: https://pandas.pydata.org/pandas-docs/stable/user_guide/indexing.html#returning-a-view-versus-a-copy\n",
      "\n"
     ]
    },
    {
     "name": "stderr",
     "output_type": "stream",
     "text": [
      "/home/runner/work/corr-app/corr-app/_notebooks/scripts/read_data.py:215: SettingWithCopyWarning:\n",
      "\n",
      "\n",
      "A value is trying to be set on a copy of a slice from a DataFrame.\n",
      "Try using .loc[row_indexer,col_indexer] = value instead\n",
      "\n",
      "See the caveats in the documentation: https://pandas.pydata.org/pandas-docs/stable/user_guide/indexing.html#returning-a-view-versus-a-copy\n",
      "\n"
     ]
    }
   ],
   "source": [
    "#hide\n",
    "df_all = read_api()\n",
    "#df_all = df_all.drop(['SP500', 'XAU', 'ETH', 'BTC'], axis=1)\n",
    "\n"
   ]
  },
  {
   "cell_type": "code",
   "execution_count": 6,
   "id": "mature-alert",
   "metadata": {
    "execution": {
     "iopub.execute_input": "2021-10-31T02:00:47.540123Z",
     "iopub.status.busy": "2021-10-31T02:00:47.539522Z",
     "iopub.status.idle": "2021-10-31T02:00:47.571935Z",
     "shell.execute_reply": "2021-10-31T02:00:47.572413Z"
    },
    "papermill": {
     "duration": 0.049537,
     "end_time": "2021-10-31T02:00:47.572569",
     "exception": false,
     "start_time": "2021-10-31T02:00:47.523032",
     "status": "completed"
    },
    "tags": []
   },
   "outputs": [],
   "source": [
    "#hide_input\n",
    "sum_corr = df_all.corr().sum().sort_values(ascending=True).index.values\n",
    "#df_all[sum_corr].corr()"
   ]
  },
  {
   "cell_type": "markdown",
   "id": "complex-syndicate",
   "metadata": {
    "papermill": {
     "duration": 0.012776,
     "end_time": "2021-10-31T02:00:47.597442",
     "exception": false,
     "start_time": "2021-10-31T02:00:47.584666",
     "status": "completed"
    },
    "tags": []
   },
   "source": [
    "## Išplėstinė koreliacijų matrica. "
   ]
  },
  {
   "cell_type": "code",
   "execution_count": 7,
   "id": "atomic-omaha",
   "metadata": {
    "execution": {
     "iopub.execute_input": "2021-10-31T02:00:47.627526Z",
     "iopub.status.busy": "2021-10-31T02:00:47.626418Z",
     "iopub.status.idle": "2021-10-31T02:00:48.935723Z",
     "shell.execute_reply": "2021-10-31T02:00:48.936176Z"
    },
    "papermill": {
     "duration": 1.327033,
     "end_time": "2021-10-31T02:00:48.936323",
     "exception": false,
     "start_time": "2021-10-31T02:00:47.609290",
     "status": "completed"
    },
    "tags": []
   },
   "outputs": [
    {
     "data": {
      "image/png": "[encoded data removed]",
      "text/plain": [
       "<Figure size 1080x792 with 2 Axes>"
      ]
     },
     "metadata": {
      "needs_background": "light"
     },
     "output_type": "display_data"
    }
   ],
   "source": [
    "#hide_input\n",
    "plt.figure(figsize=(15, 11))\n",
    "sns.heatmap(df_all[sum_corr].corr(), annot=True, cmap=\"cubehelix\") \n",
    "sns.set(font_scale=1.25)\n",
    "plt.savefig('corr_matrix.png', format='eps')"
   ]
  },
  {
   "cell_type": "code",
   "execution_count": 8,
   "id": "arbitrary-sullivan",
   "metadata": {
    "execution": {
     "iopub.execute_input": "2021-10-31T02:00:48.975113Z",
     "iopub.status.busy": "2021-10-31T02:00:48.974136Z",
     "iopub.status.idle": "2021-10-31T02:00:49.002271Z",
     "shell.execute_reply": "2021-10-31T02:00:49.001657Z"
    },
    "papermill": {
     "duration": 0.050011,
     "end_time": "2021-10-31T02:00:49.002432",
     "exception": false,
     "start_time": "2021-10-31T02:00:48.952421",
     "status": "completed"
    },
    "tags": []
   },
   "outputs": [],
   "source": [
    "#hide\n",
    "#df_all_mrk = read_api()"
   ]
  },
  {
   "cell_type": "code",
   "execution_count": 9,
   "id": "delayed-adapter",
   "metadata": {
    "execution": {
     "iopub.execute_input": "2021-10-31T02:00:49.038723Z",
     "iopub.status.busy": "2021-10-31T02:00:49.038125Z",
     "iopub.status.idle": "2021-10-31T02:00:49.071464Z",
     "shell.execute_reply": "2021-10-31T02:00:49.070670Z"
    },
    "papermill": {
     "duration": 0.053545,
     "end_time": "2021-10-31T02:00:49.071642",
     "exception": false,
     "start_time": "2021-10-31T02:00:49.018097",
     "status": "completed"
    },
    "tags": []
   },
   "outputs": [],
   "source": [
    "#hide\n",
    "#Koreliacijų koeficientai"
   ]
  },
  {
   "cell_type": "code",
   "execution_count": 10,
   "id": "seeing-celebration",
   "metadata": {
    "execution": {
     "iopub.execute_input": "2021-10-31T02:00:49.116782Z",
     "iopub.status.busy": "2021-10-31T02:00:49.116200Z",
     "iopub.status.idle": "2021-10-31T02:00:49.142811Z",
     "shell.execute_reply": "2021-10-31T02:00:49.142156Z"
    },
    "papermill": {
     "duration": 0.051195,
     "end_time": "2021-10-31T02:00:49.142966",
     "exception": false,
     "start_time": "2021-10-31T02:00:49.091771",
     "status": "completed"
    },
    "tags": []
   },
   "outputs": [],
   "source": [
    "#hide_input\n",
    "#sum_corr = df_all_mrk.corr().sum().sort_values(ascending=True).index.values\n",
    "#df_all_mrk[sum_corr].corr()"
   ]
  },
  {
   "cell_type": "code",
   "execution_count": 11,
   "id": "other-painting",
   "metadata": {
    "execution": {
     "iopub.execute_input": "2021-10-31T02:00:49.176635Z",
     "iopub.status.busy": "2021-10-31T02:00:49.176060Z",
     "iopub.status.idle": "2021-10-31T02:00:49.205192Z",
     "shell.execute_reply": "2021-10-31T02:00:49.204451Z"
    },
    "papermill": {
     "duration": 0.046868,
     "end_time": "2021-10-31T02:00:49.205344",
     "exception": false,
     "start_time": "2021-10-31T02:00:49.158476",
     "status": "completed"
    },
    "tags": []
   },
   "outputs": [],
   "source": [
    "#hide\n",
    "#Koreliacijos matrica. "
   ]
  },
  {
   "cell_type": "code",
   "execution_count": 12,
   "id": "modular-magnitude",
   "metadata": {
    "execution": {
     "iopub.execute_input": "2021-10-31T02:00:49.240626Z",
     "iopub.status.busy": "2021-10-31T02:00:49.240031Z",
     "iopub.status.idle": "2021-10-31T02:00:49.268739Z",
     "shell.execute_reply": "2021-10-31T02:00:49.268268Z"
    },
    "papermill": {
     "duration": 0.046953,
     "end_time": "2021-10-31T02:00:49.268854",
     "exception": false,
     "start_time": "2021-10-31T02:00:49.221901",
     "status": "completed"
    },
    "tags": []
   },
   "outputs": [],
   "source": [
    "#hide_input\n",
    "#plt.figure(figsize=(15, 8))\n",
    "#sns.heatmap(df_all_mrk[sum_corr].corr(), annot=True, cmap=\"BrBG\");\n",
    "#plt.savefig('corr_matrix_all.eps', format='eps')"
   ]
  },
  {
   "cell_type": "code",
   "execution_count": null,
   "id": "original-senator",
   "metadata": {
    "papermill": {
     "duration": 0.016509,
     "end_time": "2021-10-31T02:00:49.302434",
     "exception": false,
     "start_time": "2021-10-31T02:00:49.285925",
     "status": "completed"
    },
    "tags": []
   },
   "outputs": [],
   "source": []
  },
  {
   "cell_type": "code",
   "execution_count": null,
   "id": "saving-secretariat",
   "metadata": {
    "papermill": {
     "duration": 0.014979,
     "end_time": "2021-10-31T02:00:49.332019",
     "exception": false,
     "start_time": "2021-10-31T02:00:49.317040",
     "status": "completed"
    },
    "tags": []
   },
   "outputs": [],
   "source": []
  }
 ],
 "metadata": {
  "kernelspec": {
   "display_name": "Python 3",
   "language": "python",
   "name": "python3"
  },
  "language_info": {
   "codemirror_mode": {
    "name": "ipython",
    "version": 3
   },
   "file_extension": ".py",
   "mimetype": "text/x-python",
   "name": "python",
   "nbconvert_exporter": "python",
   "pygments_lexer": "ipython3",
   "version": "3.6.15"
  },
  "papermill": {
   "default_parameters": {},
   "duration": 24.887642,
   "end_time": "2021-10-31T02:00:49.860215",
   "environment_variables": {},
   "exception": null,
   "input_path": "App-Correlation_charts.ipynb",
   "output_path": "App-Correlation_charts.ipynb",
   "parameters": {},
   "start_time": "2021-10-31T02:00:24.972573",
   "version": "2.2.2"
  }
 },
 "nbformat": 4,
 "nbformat_minor": 5
}