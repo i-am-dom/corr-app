{
 "cells": [
  {
   "cell_type": "markdown",
   "id": "touched-facility",
   "metadata": {
    "papermill": {
     "duration": 0.015052,
     "end_time": "2022-08-17T03:29:22.148211",
     "exception": false,
     "start_time": "2022-08-17T03:29:22.133159",
     "status": "completed"
    },
    "tags": []
   },
   "source": [
    "# Koreliacijų matrica\n",
    "> Išplėstinė koreliacijų matrica. \n",
    "\n",
    "- toc: true \n",
    "- badges: true\n",
    "- comments: false\n",
    "- categories: [Dominykas Tautkus]\n",
    "- image: images/matrix.png"
   ]
  },
  {
   "cell_type": "code",
   "execution_count": null,
   "id": "premium-weekend",
   "metadata": {
    "papermill": {
     "duration": 0.010568,
     "end_time": "2022-08-17T03:29:22.170188",
     "exception": false,
     "start_time": "2022-08-17T03:29:22.159620",
     "status": "completed"
    },
    "tags": []
   },
   "outputs": [],
   "source": []
  },
  {
   "cell_type": "code",
   "execution_count": 1,
   "id": "vertical-rebate",
   "metadata": {
    "execution": {
     "iopub.execute_input": "2022-08-17T03:29:22.203011Z",
     "iopub.status.busy": "2022-08-17T03:29:22.202373Z",
     "iopub.status.idle": "2022-08-17T03:29:22.213830Z",
     "shell.execute_reply": "2022-08-17T03:29:22.213320Z"
    },
    "papermill": {
     "duration": 0.033125,
     "end_time": "2022-08-17T03:29:22.213965",
     "exception": false,
     "start_time": "2022-08-17T03:29:22.180840",
     "status": "completed"
    },
    "tags": []
   },
   "outputs": [],
   "source": [
    "#hide\n",
    "%load_ext autoreload\n",
    "%autoreload 2"
   ]
  },
  {
   "cell_type": "code",
   "execution_count": 2,
   "id": "overall-advancement",
   "metadata": {
    "execution": {
     "iopub.execute_input": "2022-08-17T03:29:22.239422Z",
     "iopub.status.busy": "2022-08-17T03:29:22.238844Z",
     "iopub.status.idle": "2022-08-17T03:29:23.836515Z",
     "shell.execute_reply": "2022-08-17T03:29:23.835417Z"
    },
    "papermill": {
     "duration": 1.611875,
     "end_time": "2022-08-17T03:29:23.836665",
     "exception": false,
     "start_time": "2022-08-17T03:29:22.224790",
     "status": "completed"
    },
    "tags": []
   },
   "outputs": [],
   "source": [
    "#hide\n",
    "from scripts.read_data import read_api\n",
    "from IPython.display import HTML\n",
    "import plotly.graph_objects as go\n"
   ]
  },
  {
   "cell_type": "code",
   "execution_count": 3,
   "id": "light-crazy",
   "metadata": {
    "execution": {
     "iopub.execute_input": "2022-08-17T03:29:23.867548Z",
     "iopub.status.busy": "2022-08-17T03:29:23.865242Z",
     "iopub.status.idle": "2022-08-17T03:29:23.889554Z",
     "shell.execute_reply": "2022-08-17T03:29:23.889023Z"
    },
    "papermill": {
     "duration": 0.041923,
     "end_time": "2022-08-17T03:29:23.889689",
     "exception": false,
     "start_time": "2022-08-17T03:29:23.847766",
     "status": "completed"
    },
    "tags": []
   },
   "outputs": [],
   "source": [
    "#hide\n",
    "### ICO koreliacija"
   ]
  },
  {
   "cell_type": "code",
   "execution_count": 4,
   "id": "likely-bahrain",
   "metadata": {
    "execution": {
     "iopub.execute_input": "2022-08-17T03:29:23.916952Z",
     "iopub.status.busy": "2022-08-17T03:29:23.914882Z",
     "iopub.status.idle": "2022-08-17T03:29:24.772495Z",
     "shell.execute_reply": "2022-08-17T03:29:24.771899Z"
    },
    "papermill": {
     "duration": 0.871966,
     "end_time": "2022-08-17T03:29:24.772628",
     "exception": false,
     "start_time": "2022-08-17T03:29:23.900662",
     "status": "completed"
    },
    "tags": []
   },
   "outputs": [],
   "source": [
    "#hide\n",
    "import matplotlib.pyplot as plt\n",
    "import numpy as np\n",
    "import pandas as pd\n",
    "import seaborn as sns\n",
    "import matplotlib.pyplot as plt \n",
    "import matplotlib.dates as mdates\n",
    "import matplotlib.pyplot as plt"
   ]
  },
  {
   "cell_type": "code",
   "execution_count": 5,
   "id": "superior-blanket",
   "metadata": {
    "execution": {
     "iopub.execute_input": "2022-08-17T03:29:24.801407Z",
     "iopub.status.busy": "2022-08-17T03:29:24.800777Z",
     "iopub.status.idle": "2022-08-17T03:29:35.687038Z",
     "shell.execute_reply": "2022-08-17T03:29:35.686482Z"
    },
    "papermill": {
     "duration": 10.90343,
     "end_time": "2022-08-17T03:29:35.687165",
     "exception": false,
     "start_time": "2022-08-17T03:29:24.783735",
     "status": "completed"
    },
    "tags": []
   },
   "outputs": [
    {
     "name": "stderr",
     "output_type": "stream",
     "text": [
      "/home/runner/work/corr-app/corr-app/_notebooks/scripts/read_data.py:187: SettingWithCopyWarning:\n",
      "\n",
      "\n",
      "A value is trying to be set on a copy of a slice from a DataFrame.\n",
      "Try using .loc[row_indexer,col_indexer] = value instead\n",
      "\n",
      "See the caveats in the documentation: https://pandas.pydata.org/pandas-docs/stable/user_guide/indexing.html#returning-a-view-versus-a-copy\n",
      "\n"
     ]
    },
    {
     "name": "stderr",
     "output_type": "stream",
     "text": [
      "/home/runner/work/corr-app/corr-app/_notebooks/scripts/read_data.py:215: SettingWithCopyWarning:\n",
      "\n",
      "\n",
      "A value is trying to be set on a copy of a slice from a DataFrame.\n",
      "Try using .loc[row_indexer,col_indexer] = value instead\n",
      "\n",
      "See the caveats in the documentation: https://pandas.pydata.org/pandas-docs/stable/user_guide/indexing.html#returning-a-view-versus-a-copy\n",
      "\n"
     ]
    }
   ],
   "source": [
    "#hide\n",
    "df_all = read_api()\n",
    "#df_all = df_all.drop(['SP500', 'XAU', 'ETH', 'BTC'], axis=1)\n",
    "\n"
   ]
  },
  {
   "cell_type": "code",
   "execution_count": 6,
   "id": "mature-alert",
   "metadata": {
    "execution": {
     "iopub.execute_input": "2022-08-17T03:29:35.716648Z",
     "iopub.status.busy": "2022-08-17T03:29:35.715951Z",
     "iopub.status.idle": "2022-08-17T03:29:35.747311Z",
     "shell.execute_reply": "2022-08-17T03:29:35.747800Z"
    },
    "papermill": {
     "duration": 0.04759,
     "end_time": "2022-08-17T03:29:35.747958",
     "exception": false,
     "start_time": "2022-08-17T03:29:35.700368",
     "status": "completed"
    },
    "tags": []
   },
   "outputs": [],
   "source": [
    "#hide_input\n",
    "sum_corr = df_all.corr().sum().sort_values(ascending=True).index.values\n",
    "#df_all[sum_corr].corr()"
   ]
  },
  {
   "cell_type": "markdown",
   "id": "complex-syndicate",
   "metadata": {
    "papermill": {
     "duration": 0.011236,
     "end_time": "2022-08-17T03:29:35.771007",
     "exception": false,
     "start_time": "2022-08-17T03:29:35.759771",
     "status": "completed"
    },
    "tags": []
   },
   "source": [
    "## Išplėstinė koreliacijų matrica. "
   ]
  },
  {
   "cell_type": "code",
   "execution_count": 7,
   "id": "atomic-omaha",
   "metadata": {
    "execution": {
     "iopub.execute_input": "2022-08-17T03:29:35.798265Z",
     "iopub.status.busy": "2022-08-17T03:29:35.797679Z",
     "iopub.status.idle": "2022-08-17T03:29:37.025330Z",
     "shell.execute_reply": "2022-08-17T03:29:37.025781Z"
    },
    "papermill": {
     "duration": 1.243773,
     "end_time": "2022-08-17T03:29:37.025925",
     "exception": false,
     "start_time": "2022-08-17T03:29:35.782152",
     "status": "completed"
    },
    "tags": []
   },
   "outputs": [
    {
     "data": {
      "image/png": "[encoded data removed]",
      "text/plain": [
       "<Figure size 1080x792 with 2 Axes>"
      ]
     },
     "metadata": {
      "needs_background": "light"
     },
     "output_type": "display_data"
    }
   ],
   "source": [
    "#hide_input\n",
    "plt.figure(figsize=(15, 11))\n",
    "sns.heatmap(df_all[sum_corr].corr(), annot=True, cmap=\"cubehelix\") \n",
    "sns.set(font_scale=1.25)\n",
    "plt.savefig('corr_matrix.png', format='eps')"
   ]
  },
  {
   "cell_type": "code",
   "execution_count": 8,
   "id": "arbitrary-sullivan",
   "metadata": {
    "execution": {
     "iopub.execute_input": "2022-08-17T03:29:37.065973Z",
     "iopub.status.busy": "2022-08-17T03:29:37.060781Z",
     "iopub.status.idle": "2022-08-17T03:29:37.087343Z",
     "shell.execute_reply": "2022-08-17T03:29:37.086770Z"
    },
    "papermill": {
     "duration": 0.047862,
     "end_time": "2022-08-17T03:29:37.087479",
     "exception": false,
     "start_time": "2022-08-17T03:29:37.039617",
     "status": "completed"
    },
    "tags": []
   },
   "outputs": [],
   "source": [
    "#hide\n",
    "#df_all_mrk = read_api()"
   ]
  },
  {
   "cell_type": "code",
   "execution_count": 9,
   "id": "delayed-adapter",
   "metadata": {
    "execution": {
     "iopub.execute_input": "2022-08-17T03:29:37.129781Z",
     "iopub.status.busy": "2022-08-17T03:29:37.129152Z",
     "iopub.status.idle": "2022-08-17T03:29:37.151294Z",
     "shell.execute_reply": "2022-08-17T03:29:37.150749Z"
    },
    "papermill": {
     "duration": 0.04957,
     "end_time": "2022-08-17T03:29:37.151425",
     "exception": false,
     "start_time": "2022-08-17T03:29:37.101855",
     "status": "completed"
    },
    "tags": []
   },
   "outputs": [],
   "source": [
    "#hide\n",
    "#Koreliacijų koeficientai"
   ]
  },
  {
   "cell_type": "code",
   "execution_count": 10,
   "id": "seeing-celebration",
   "metadata": {
    "execution": {
     "iopub.execute_input": "2022-08-17T03:29:37.191093Z",
     "iopub.status.busy": "2022-08-17T03:29:37.190132Z",
     "iopub.status.idle": "2022-08-17T03:29:37.213399Z",
     "shell.execute_reply": "2022-08-17T03:29:37.212818Z"
    },
    "papermill": {
     "duration": 0.048055,
     "end_time": "2022-08-17T03:29:37.213530",
     "exception": false,
     "start_time": "2022-08-17T03:29:37.165475",
     "status": "completed"
    },
    "tags": []
   },
   "outputs": [],
   "source": [
    "#hide_input\n",
    "#sum_corr = df_all_mrk.corr().sum().sort_values(ascending=True).index.values\n",
    "#df_all_mrk[sum_corr].corr()"
   ]
  },
  {
   "cell_type": "code",
   "execution_count": 11,
   "id": "other-painting",
   "metadata": {
    "execution": {
     "iopub.execute_input": "2022-08-17T03:29:37.253042Z",
     "iopub.status.busy": "2022-08-17T03:29:37.252434Z",
     "iopub.status.idle": "2022-08-17T03:29:37.276508Z",
     "shell.execute_reply": "2022-08-17T03:29:37.275724Z"
    },
    "papermill": {
     "duration": 0.049466,
     "end_time": "2022-08-17T03:29:37.276635",
     "exception": false,
     "start_time": "2022-08-17T03:29:37.227169",
     "status": "completed"
    },
    "tags": []
   },
   "outputs": [],
   "source": [
    "#hide\n",
    "#Koreliacijos matrica. "
   ]
  },
  {
   "cell_type": "code",
   "execution_count": 12,
   "id": "modular-magnitude",
   "metadata": {
    "execution": {
     "iopub.execute_input": "2022-08-17T03:29:37.322080Z",
     "iopub.status.busy": "2022-08-17T03:29:37.320895Z",
     "iopub.status.idle": "2022-08-17T03:29:37.338970Z",
     "shell.execute_reply": "2022-08-17T03:29:37.338501Z"
    },
    "papermill": {
     "duration": 0.048803,
     "end_time": "2022-08-17T03:29:37.339094",
     "exception": false,
     "start_time": "2022-08-17T03:29:37.290291",
     "status": "completed"
    },
    "tags": []
   },
   "outputs": [],
   "source": [
    "#hide_input\n",
    "#plt.figure(figsize=(15, 8))\n",
    "#sns.heatmap(df_all_mrk[sum_corr].corr(), annot=True, cmap=\"BrBG\");\n",
    "#plt.savefig('corr_matrix_all.eps', format='eps')"
   ]
  },
  {
   "cell_type": "code",
   "execution_count": null,
   "id": "original-senator",
   "metadata": {
    "papermill": {
     "duration": 0.013813,
     "end_time": "2022-08-17T03:29:37.366542",
     "exception": false,
     "start_time": "2022-08-17T03:29:37.352729",
     "status": "completed"
    },
    "tags": []
   },
   "outputs": [],
   "source": []
  },
  {
   "cell_type": "code",
   "execution_count": null,
   "id": "saving-secretariat",
   "metadata": {
    "papermill": {
     "duration": 0.01335,
     "end_time": "2022-08-17T03:29:37.393711",
     "exception": false,
     "start_time": "2022-08-17T03:29:37.380361",
     "status": "completed"
    },
    "tags": []
   },
   "outputs": [],
   "source": []
  }
 ],
 "metadata": {
  "kernelspec": {
   "display_name": "Python 3",
   "language": "python",
   "name": "python3"
  },
  "language_info": {
   "codemirror_mode": {
    "name": "ipython",
    "version": 3
   },
   "file_extension": ".py",
   "mimetype": "text/x-python",
   "name": "python",
   "nbconvert_exporter": "python",
   "pygments_lexer": "ipython3",
   "version": "3.6.15"
  },
  "papermill": {
   "default_parameters": {},
   "duration": 16.92556,
   "end_time": "2022-08-17T03:29:38.027059",
   "environment_variables": {},
   "exception": null,
   "input_path": "App-Correlation_charts.ipynb",
   "output_path": "App-Correlation_charts.ipynb",
   "parameters": {},
   "start_time": "2022-08-17T03:29:21.101499",
   "version": "2.2.2"
  }
 },
 "nbformat": 4,
 "nbformat_minor": 5
}