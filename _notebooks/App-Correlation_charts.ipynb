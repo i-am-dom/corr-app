{
 "cells": [
  {
   "cell_type": "markdown",
   "id": "touched-facility",
   "metadata": {
    "papermill": {
     "duration": 0.017215,
     "end_time": "2022-06-20T02:54:56.627380",
     "exception": false,
     "start_time": "2022-06-20T02:54:56.610165",
     "status": "completed"
    },
    "tags": []
   },
   "source": [
    "# Koreliacijų matrica\n",
    "> Išplėstinė koreliacijų matrica. \n",
    "\n",
    "- toc: true \n",
    "- badges: true\n",
    "- comments: false\n",
    "- categories: [Dominykas Tautkus]\n",
    "- image: images/matrix.png"
   ]
  },
  {
   "cell_type": "code",
   "execution_count": null,
   "id": "premium-weekend",
   "metadata": {
    "papermill": {
     "duration": 0.012111,
     "end_time": "2022-06-20T02:54:56.653174",
     "exception": false,
     "start_time": "2022-06-20T02:54:56.641063",
     "status": "completed"
    },
    "tags": []
   },
   "outputs": [],
   "source": []
  },
  {
   "cell_type": "code",
   "execution_count": 1,
   "id": "vertical-rebate",
   "metadata": {
    "execution": {
     "iopub.execute_input": "2022-06-20T02:54:56.690007Z",
     "iopub.status.busy": "2022-06-20T02:54:56.689244Z",
     "iopub.status.idle": "2022-06-20T02:54:56.700676Z",
     "shell.execute_reply": "2022-06-20T02:54:56.700114Z"
    },
    "papermill": {
     "duration": 0.034485,
     "end_time": "2022-06-20T02:54:56.700888",
     "exception": false,
     "start_time": "2022-06-20T02:54:56.666403",
     "status": "completed"
    },
    "tags": []
   },
   "outputs": [],
   "source": [
    "#hide\n",
    "%load_ext autoreload\n",
    "%autoreload 2"
   ]
  },
  {
   "cell_type": "code",
   "execution_count": 2,
   "id": "overall-advancement",
   "metadata": {
    "execution": {
     "iopub.execute_input": "2022-06-20T02:54:56.729091Z",
     "iopub.status.busy": "2022-06-20T02:54:56.728349Z",
     "iopub.status.idle": "2022-06-20T02:54:58.225765Z",
     "shell.execute_reply": "2022-06-20T02:54:58.225119Z"
    },
    "papermill": {
     "duration": 1.513589,
     "end_time": "2022-06-20T02:54:58.225915",
     "exception": false,
     "start_time": "2022-06-20T02:54:56.712326",
     "status": "completed"
    },
    "tags": []
   },
   "outputs": [],
   "source": [
    "#hide\n",
    "from scripts.read_data import read_api\n",
    "from IPython.display import HTML\n",
    "import plotly.graph_objects as go\n"
   ]
  },
  {
   "cell_type": "code",
   "execution_count": 3,
   "id": "light-crazy",
   "metadata": {
    "execution": {
     "iopub.execute_input": "2022-06-20T02:54:58.259084Z",
     "iopub.status.busy": "2022-06-20T02:54:58.258330Z",
     "iopub.status.idle": "2022-06-20T02:54:58.282512Z",
     "shell.execute_reply": "2022-06-20T02:54:58.281930Z"
    },
    "papermill": {
     "duration": 0.041348,
     "end_time": "2022-06-20T02:54:58.282642",
     "exception": false,
     "start_time": "2022-06-20T02:54:58.241294",
     "status": "completed"
    },
    "tags": []
   },
   "outputs": [],
   "source": [
    "#hide\n",
    "### ICO koreliacija"
   ]
  },
  {
   "cell_type": "code",
   "execution_count": 4,
   "id": "likely-bahrain",
   "metadata": {
    "execution": {
     "iopub.execute_input": "2022-06-20T02:54:58.312951Z",
     "iopub.status.busy": "2022-06-20T02:54:58.312175Z",
     "iopub.status.idle": "2022-06-20T02:54:59.374584Z",
     "shell.execute_reply": "2022-06-20T02:54:59.373981Z"
    },
    "papermill": {
     "duration": 1.079491,
     "end_time": "2022-06-20T02:54:59.374731",
     "exception": false,
     "start_time": "2022-06-20T02:54:58.295240",
     "status": "completed"
    },
    "tags": []
   },
   "outputs": [],
   "source": [
    "#hide\n",
    "import matplotlib.pyplot as plt\n",
    "import numpy as np\n",
    "import pandas as pd\n",
    "import seaborn as sns\n",
    "import matplotlib.pyplot as plt \n",
    "import matplotlib.dates as mdates\n",
    "import matplotlib.pyplot as plt"
   ]
  },
  {
   "cell_type": "code",
   "execution_count": 5,
   "id": "superior-blanket",
   "metadata": {
    "execution": {
     "iopub.execute_input": "2022-06-20T02:54:59.407861Z",
     "iopub.status.busy": "2022-06-20T02:54:59.407043Z",
     "iopub.status.idle": "2022-06-20T02:55:12.865413Z",
     "shell.execute_reply": "2022-06-20T02:55:12.864699Z"
    },
    "papermill": {
     "duration": 13.477517,
     "end_time": "2022-06-20T02:55:12.865585",
     "exception": false,
     "start_time": "2022-06-20T02:54:59.388068",
     "status": "completed"
    },
    "tags": []
   },
   "outputs": [
    {
     "name": "stderr",
     "output_type": "stream",
     "text": [
      "/home/runner/work/corr-app/corr-app/_notebooks/scripts/read_data.py:187: SettingWithCopyWarning:\n",
      "\n",
      "\n",
      "A value is trying to be set on a copy of a slice from a DataFrame.\n",
      "Try using .loc[row_indexer,col_indexer] = value instead\n",
      "\n",
      "See the caveats in the documentation: https://pandas.pydata.org/pandas-docs/stable/user_guide/indexing.html#returning-a-view-versus-a-copy\n",
      "\n"
     ]
    },
    {
     "name": "stderr",
     "output_type": "stream",
     "text": [
      "/home/runner/work/corr-app/corr-app/_notebooks/scripts/read_data.py:215: SettingWithCopyWarning:\n",
      "\n",
      "\n",
      "A value is trying to be set on a copy of a slice from a DataFrame.\n",
      "Try using .loc[row_indexer,col_indexer] = value instead\n",
      "\n",
      "See the caveats in the documentation: https://pandas.pydata.org/pandas-docs/stable/user_guide/indexing.html#returning-a-view-versus-a-copy\n",
      "\n"
     ]
    }
   ],
   "source": [
    "#hide\n",
    "df_all = read_api()\n",
    "#df_all = df_all.drop(['SP500', 'XAU', 'ETH', 'BTC'], axis=1)\n",
    "\n"
   ]
  },
  {
   "cell_type": "code",
   "execution_count": 6,
   "id": "mature-alert",
   "metadata": {
    "execution": {
     "iopub.execute_input": "2022-06-20T02:55:12.901718Z",
     "iopub.status.busy": "2022-06-20T02:55:12.900909Z",
     "iopub.status.idle": "2022-06-20T02:55:12.936585Z",
     "shell.execute_reply": "2022-06-20T02:55:12.935829Z"
    },
    "papermill": {
     "duration": 0.055997,
     "end_time": "2022-06-20T02:55:12.936748",
     "exception": false,
     "start_time": "2022-06-20T02:55:12.880751",
     "status": "completed"
    },
    "tags": []
   },
   "outputs": [],
   "source": [
    "#hide_input\n",
    "sum_corr = df_all.corr().sum().sort_values(ascending=True).index.values\n",
    "#df_all[sum_corr].corr()"
   ]
  },
  {
   "cell_type": "markdown",
   "id": "complex-syndicate",
   "metadata": {
    "papermill": {
     "duration": 0.013613,
     "end_time": "2022-06-20T02:55:12.964066",
     "exception": false,
     "start_time": "2022-06-20T02:55:12.950453",
     "status": "completed"
    },
    "tags": []
   },
   "source": [
    "## Išplėstinė koreliacijų matrica. "
   ]
  },
  {
   "cell_type": "code",
   "execution_count": 7,
   "id": "atomic-omaha",
   "metadata": {
    "execution": {
     "iopub.execute_input": "2022-06-20T02:55:13.000442Z",
     "iopub.status.busy": "2022-06-20T02:55:12.999629Z",
     "iopub.status.idle": "2022-06-20T02:55:14.672609Z",
     "shell.execute_reply": "2022-06-20T02:55:14.672027Z"
    },
    "papermill": {
     "duration": 1.691923,
     "end_time": "2022-06-20T02:55:14.672781",
     "exception": false,
     "start_time": "2022-06-20T02:55:12.980858",
     "status": "completed"
    },
    "tags": []
   },
   "outputs": [
    {
     "data": {
      "image/png": "[encoded data removed]",
      "text/plain": [
       "<Figure size 1080x792 with 2 Axes>"
      ]
     },
     "metadata": {
      "needs_background": "light"
     },
     "output_type": "display_data"
    }
   ],
   "source": [
    "#hide_input\n",
    "plt.figure(figsize=(15, 11))\n",
    "sns.heatmap(df_all[sum_corr].corr(), annot=True, cmap=\"cubehelix\") \n",
    "sns.set(font_scale=1.25)\n",
    "plt.savefig('corr_matrix.png', format='eps')"
   ]
  },
  {
   "cell_type": "code",
   "execution_count": 8,
   "id": "arbitrary-sullivan",
   "metadata": {
    "execution": {
     "iopub.execute_input": "2022-06-20T02:55:14.708578Z",
     "iopub.status.busy": "2022-06-20T02:55:14.707897Z",
     "iopub.status.idle": "2022-06-20T02:55:14.737187Z",
     "shell.execute_reply": "2022-06-20T02:55:14.736610Z"
    },
    "papermill": {
     "duration": 0.047934,
     "end_time": "2022-06-20T02:55:14.737316",
     "exception": false,
     "start_time": "2022-06-20T02:55:14.689382",
     "status": "completed"
    },
    "tags": []
   },
   "outputs": [],
   "source": [
    "#hide\n",
    "#df_all_mrk = read_api()"
   ]
  },
  {
   "cell_type": "code",
   "execution_count": 9,
   "id": "delayed-adapter",
   "metadata": {
    "execution": {
     "iopub.execute_input": "2022-06-20T02:55:14.769970Z",
     "iopub.status.busy": "2022-06-20T02:55:14.769287Z",
     "iopub.status.idle": "2022-06-20T02:55:14.798036Z",
     "shell.execute_reply": "2022-06-20T02:55:14.798553Z"
    },
    "papermill": {
     "duration": 0.047397,
     "end_time": "2022-06-20T02:55:14.798708",
     "exception": false,
     "start_time": "2022-06-20T02:55:14.751311",
     "status": "completed"
    },
    "tags": []
   },
   "outputs": [],
   "source": [
    "#hide\n",
    "#Koreliacijų koeficientai"
   ]
  },
  {
   "cell_type": "code",
   "execution_count": 10,
   "id": "seeing-celebration",
   "metadata": {
    "execution": {
     "iopub.execute_input": "2022-06-20T02:55:14.833724Z",
     "iopub.status.busy": "2022-06-20T02:55:14.833027Z",
     "iopub.status.idle": "2022-06-20T02:55:14.863136Z",
     "shell.execute_reply": "2022-06-20T02:55:14.862501Z"
    },
    "papermill": {
     "duration": 0.049583,
     "end_time": "2022-06-20T02:55:14.863294",
     "exception": false,
     "start_time": "2022-06-20T02:55:14.813711",
     "status": "completed"
    },
    "tags": []
   },
   "outputs": [],
   "source": [
    "#hide_input\n",
    "#sum_corr = df_all_mrk.corr().sum().sort_values(ascending=True).index.values\n",
    "#df_all_mrk[sum_corr].corr()"
   ]
  },
  {
   "cell_type": "code",
   "execution_count": 11,
   "id": "other-painting",
   "metadata": {
    "execution": {
     "iopub.execute_input": "2022-06-20T02:55:14.898618Z",
     "iopub.status.busy": "2022-06-20T02:55:14.897810Z",
     "iopub.status.idle": "2022-06-20T02:55:14.927974Z",
     "shell.execute_reply": "2022-06-20T02:55:14.927310Z"
    },
    "papermill": {
     "duration": 0.049104,
     "end_time": "2022-06-20T02:55:14.928134",
     "exception": false,
     "start_time": "2022-06-20T02:55:14.879030",
     "status": "completed"
    },
    "tags": []
   },
   "outputs": [],
   "source": [
    "#hide\n",
    "#Koreliacijos matrica. "
   ]
  },
  {
   "cell_type": "code",
   "execution_count": 12,
   "id": "modular-magnitude",
   "metadata": {
    "execution": {
     "iopub.execute_input": "2022-06-20T02:55:14.960802Z",
     "iopub.status.busy": "2022-06-20T02:55:14.960063Z",
     "iopub.status.idle": "2022-06-20T02:55:14.992133Z",
     "shell.execute_reply": "2022-06-20T02:55:14.991458Z"
    },
    "papermill": {
     "duration": 0.049485,
     "end_time": "2022-06-20T02:55:14.992260",
     "exception": false,
     "start_time": "2022-06-20T02:55:14.942775",
     "status": "completed"
    },
    "tags": []
   },
   "outputs": [],
   "source": [
    "#hide_input\n",
    "#plt.figure(figsize=(15, 8))\n",
    "#sns.heatmap(df_all_mrk[sum_corr].corr(), annot=True, cmap=\"BrBG\");\n",
    "#plt.savefig('corr_matrix_all.eps', format='eps')"
   ]
  },
  {
   "cell_type": "code",
   "execution_count": null,
   "id": "original-senator",
   "metadata": {
    "papermill": {
     "duration": 0.016553,
     "end_time": "2022-06-20T02:55:15.023776",
     "exception": false,
     "start_time": "2022-06-20T02:55:15.007223",
     "status": "completed"
    },
    "tags": []
   },
   "outputs": [],
   "source": []
  },
  {
   "cell_type": "code",
   "execution_count": null,
   "id": "saving-secretariat",
   "metadata": {
    "papermill": {
     "duration": 0.014312,
     "end_time": "2022-06-20T02:55:15.052661",
     "exception": false,
     "start_time": "2022-06-20T02:55:15.038349",
     "status": "completed"
    },
    "tags": []
   },
   "outputs": [],
   "source": []
  }
 ],
 "metadata": {
  "kernelspec": {
   "display_name": "Python 3",
   "language": "python",
   "name": "python3"
  },
  "language_info": {
   "codemirror_mode": {
    "name": "ipython",
    "version": 3
   },
   "file_extension": ".py",
   "mimetype": "text/x-python",
   "name": "python",
   "nbconvert_exporter": "python",
   "pygments_lexer": "ipython3",
   "version": "3.6.15"
  },
  "papermill": {
   "default_parameters": {},
   "duration": 20.255924,
   "end_time": "2022-06-20T02:55:15.593649",
   "environment_variables": {},
   "exception": null,
   "input_path": "App-Correlation_charts.ipynb",
   "output_path": "App-Correlation_charts.ipynb",
   "parameters": {},
   "start_time": "2022-06-20T02:54:55.337725",
   "version": "2.2.2"
  }
 },
 "nbformat": 4,
 "nbformat_minor": 5
}