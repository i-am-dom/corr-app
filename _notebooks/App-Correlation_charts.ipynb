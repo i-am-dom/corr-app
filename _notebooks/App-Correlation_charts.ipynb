{
 "cells": [
  {
   "cell_type": "markdown",
   "id": "touched-facility",
   "metadata": {
    "papermill": {
     "duration": 0.017709,
     "end_time": "2022-01-24T02:03:55.458862",
     "exception": false,
     "start_time": "2022-01-24T02:03:55.441153",
     "status": "completed"
    },
    "tags": []
   },
   "source": [
    "# Koreliacijų matrica\n",
    "> Išplėstinė koreliacijų matrica. \n",
    "\n",
    "- toc: true \n",
    "- badges: true\n",
    "- comments: false\n",
    "- categories: [Dominykas Tautkus]\n",
    "- image: images/matrix.png"
   ]
  },
  {
   "cell_type": "code",
   "execution_count": null,
   "id": "premium-weekend",
   "metadata": {
    "papermill": {
     "duration": 0.012459,
     "end_time": "2022-01-24T02:03:55.485742",
     "exception": false,
     "start_time": "2022-01-24T02:03:55.473283",
     "status": "completed"
    },
    "tags": []
   },
   "outputs": [],
   "source": []
  },
  {
   "cell_type": "code",
   "execution_count": 1,
   "id": "vertical-rebate",
   "metadata": {
    "execution": {
     "iopub.execute_input": "2022-01-24T02:03:55.523929Z",
     "iopub.status.busy": "2022-01-24T02:03:55.523097Z",
     "iopub.status.idle": "2022-01-24T02:03:55.536195Z",
     "shell.execute_reply": "2022-01-24T02:03:55.536859Z"
    },
    "papermill": {
     "duration": 0.037677,
     "end_time": "2022-01-24T02:03:55.537028",
     "exception": false,
     "start_time": "2022-01-24T02:03:55.499351",
     "status": "completed"
    },
    "tags": []
   },
   "outputs": [],
   "source": [
    "#hide\n",
    "%load_ext autoreload\n",
    "%autoreload 2"
   ]
  },
  {
   "cell_type": "code",
   "execution_count": 2,
   "id": "overall-advancement",
   "metadata": {
    "execution": {
     "iopub.execute_input": "2022-01-24T02:03:55.568285Z",
     "iopub.status.busy": "2022-01-24T02:03:55.567666Z",
     "iopub.status.idle": "2022-01-24T02:03:57.042830Z",
     "shell.execute_reply": "2022-01-24T02:03:57.042083Z"
    },
    "papermill": {
     "duration": 1.493279,
     "end_time": "2022-01-24T02:03:57.042998",
     "exception": false,
     "start_time": "2022-01-24T02:03:55.549719",
     "status": "completed"
    },
    "tags": []
   },
   "outputs": [],
   "source": [
    "#hide\n",
    "from scripts.read_data import read_api\n",
    "from IPython.display import HTML\n",
    "import plotly.graph_objects as go\n"
   ]
  },
  {
   "cell_type": "code",
   "execution_count": 3,
   "id": "light-crazy",
   "metadata": {
    "execution": {
     "iopub.execute_input": "2022-01-24T02:03:57.076796Z",
     "iopub.status.busy": "2022-01-24T02:03:57.076098Z",
     "iopub.status.idle": "2022-01-24T02:03:57.101317Z",
     "shell.execute_reply": "2022-01-24T02:03:57.100601Z"
    },
    "papermill": {
     "duration": 0.043349,
     "end_time": "2022-01-24T02:03:57.101441",
     "exception": false,
     "start_time": "2022-01-24T02:03:57.058092",
     "status": "completed"
    },
    "tags": []
   },
   "outputs": [],
   "source": [
    "#hide\n",
    "### ICO koreliacija"
   ]
  },
  {
   "cell_type": "code",
   "execution_count": 4,
   "id": "likely-bahrain",
   "metadata": {
    "execution": {
     "iopub.execute_input": "2022-01-24T02:03:57.134236Z",
     "iopub.status.busy": "2022-01-24T02:03:57.133544Z",
     "iopub.status.idle": "2022-01-24T02:03:58.195993Z",
     "shell.execute_reply": "2022-01-24T02:03:58.195426Z"
    },
    "papermill": {
     "duration": 1.0807,
     "end_time": "2022-01-24T02:03:58.196134",
     "exception": false,
     "start_time": "2022-01-24T02:03:57.115434",
     "status": "completed"
    },
    "tags": []
   },
   "outputs": [],
   "source": [
    "#hide\n",
    "import matplotlib.pyplot as plt\n",
    "import numpy as np\n",
    "import pandas as pd\n",
    "import seaborn as sns\n",
    "import matplotlib.pyplot as plt \n",
    "import matplotlib.dates as mdates\n",
    "import matplotlib.pyplot as plt"
   ]
  },
  {
   "cell_type": "code",
   "execution_count": 5,
   "id": "superior-blanket",
   "metadata": {
    "execution": {
     "iopub.execute_input": "2022-01-24T02:03:58.231642Z",
     "iopub.status.busy": "2022-01-24T02:03:58.230952Z",
     "iopub.status.idle": "2022-01-24T02:04:09.459378Z",
     "shell.execute_reply": "2022-01-24T02:04:09.459960Z"
    },
    "papermill": {
     "duration": 11.248803,
     "end_time": "2022-01-24T02:04:09.460131",
     "exception": false,
     "start_time": "2022-01-24T02:03:58.211328",
     "status": "completed"
    },
    "tags": []
   },
   "outputs": [
    {
     "name": "stderr",
     "output_type": "stream",
     "text": [
      "/home/runner/work/corr-app/corr-app/_notebooks/scripts/read_data.py:187: SettingWithCopyWarning:\n",
      "\n",
      "\n",
      "A value is trying to be set on a copy of a slice from a DataFrame.\n",
      "Try using .loc[row_indexer,col_indexer] = value instead\n",
      "\n",
      "See the caveats in the documentation: https://pandas.pydata.org/pandas-docs/stable/user_guide/indexing.html#returning-a-view-versus-a-copy\n",
      "\n"
     ]
    },
    {
     "name": "stderr",
     "output_type": "stream",
     "text": [
      "/home/runner/work/corr-app/corr-app/_notebooks/scripts/read_data.py:215: SettingWithCopyWarning:\n",
      "\n",
      "\n",
      "A value is trying to be set on a copy of a slice from a DataFrame.\n",
      "Try using .loc[row_indexer,col_indexer] = value instead\n",
      "\n",
      "See the caveats in the documentation: https://pandas.pydata.org/pandas-docs/stable/user_guide/indexing.html#returning-a-view-versus-a-copy\n",
      "\n"
     ]
    }
   ],
   "source": [
    "#hide\n",
    "df_all = read_api()\n",
    "#df_all = df_all.drop(['SP500', 'XAU', 'ETH', 'BTC'], axis=1)\n",
    "\n"
   ]
  },
  {
   "cell_type": "code",
   "execution_count": 6,
   "id": "mature-alert",
   "metadata": {
    "execution": {
     "iopub.execute_input": "2022-01-24T02:04:09.492458Z",
     "iopub.status.busy": "2022-01-24T02:04:09.491513Z",
     "iopub.status.idle": "2022-01-24T02:04:09.522510Z",
     "shell.execute_reply": "2022-01-24T02:04:09.523331Z"
    },
    "papermill": {
     "duration": 0.049469,
     "end_time": "2022-01-24T02:04:09.523455",
     "exception": false,
     "start_time": "2022-01-24T02:04:09.473986",
     "status": "completed"
    },
    "tags": []
   },
   "outputs": [],
   "source": [
    "#hide_input\n",
    "sum_corr = df_all.corr().sum().sort_values(ascending=True).index.values\n",
    "#df_all[sum_corr].corr()"
   ]
  },
  {
   "cell_type": "markdown",
   "id": "complex-syndicate",
   "metadata": {
    "papermill": {
     "duration": 0.012973,
     "end_time": "2022-01-24T02:04:09.549901",
     "exception": false,
     "start_time": "2022-01-24T02:04:09.536928",
     "status": "completed"
    },
    "tags": []
   },
   "source": [
    "## Išplėstinė koreliacijų matrica. "
   ]
  },
  {
   "cell_type": "code",
   "execution_count": 7,
   "id": "atomic-omaha",
   "metadata": {
    "execution": {
     "iopub.execute_input": "2022-01-24T02:04:09.584874Z",
     "iopub.status.busy": "2022-01-24T02:04:09.580702Z",
     "iopub.status.idle": "2022-01-24T02:04:11.266385Z",
     "shell.execute_reply": "2022-01-24T02:04:11.265840Z"
    },
    "papermill": {
     "duration": 1.70375,
     "end_time": "2022-01-24T02:04:11.266544",
     "exception": false,
     "start_time": "2022-01-24T02:04:09.562794",
     "status": "completed"
    },
    "tags": []
   },
   "outputs": [
    {
     "data": {
      "image/png": "[encoded data removed]",
      "text/plain": [
       "<Figure size 1080x792 with 2 Axes>"
      ]
     },
     "metadata": {
      "needs_background": "light"
     },
     "output_type": "display_data"
    }
   ],
   "source": [
    "#hide_input\n",
    "plt.figure(figsize=(15, 11))\n",
    "sns.heatmap(df_all[sum_corr].corr(), annot=True, cmap=\"cubehelix\") \n",
    "sns.set(font_scale=1.25)\n",
    "plt.savefig('corr_matrix.png', format='eps')"
   ]
  },
  {
   "cell_type": "code",
   "execution_count": 8,
   "id": "arbitrary-sullivan",
   "metadata": {
    "execution": {
     "iopub.execute_input": "2022-01-24T02:04:11.315848Z",
     "iopub.status.busy": "2022-01-24T02:04:11.309662Z",
     "iopub.status.idle": "2022-01-24T02:04:11.335354Z",
     "shell.execute_reply": "2022-01-24T02:04:11.334779Z"
    },
    "papermill": {
     "duration": 0.052395,
     "end_time": "2022-01-24T02:04:11.335488",
     "exception": false,
     "start_time": "2022-01-24T02:04:11.283093",
     "status": "completed"
    },
    "tags": []
   },
   "outputs": [],
   "source": [
    "#hide\n",
    "#df_all_mrk = read_api()"
   ]
  },
  {
   "cell_type": "code",
   "execution_count": 9,
   "id": "delayed-adapter",
   "metadata": {
    "execution": {
     "iopub.execute_input": "2022-01-24T02:04:11.372554Z",
     "iopub.status.busy": "2022-01-24T02:04:11.369651Z",
     "iopub.status.idle": "2022-01-24T02:04:11.395545Z",
     "shell.execute_reply": "2022-01-24T02:04:11.396017Z"
    },
    "papermill": {
     "duration": 0.044781,
     "end_time": "2022-01-24T02:04:11.396162",
     "exception": false,
     "start_time": "2022-01-24T02:04:11.351381",
     "status": "completed"
    },
    "tags": []
   },
   "outputs": [],
   "source": [
    "#hide\n",
    "#Koreliacijų koeficientai"
   ]
  },
  {
   "cell_type": "code",
   "execution_count": 10,
   "id": "seeing-celebration",
   "metadata": {
    "execution": {
     "iopub.execute_input": "2022-01-24T02:04:11.431210Z",
     "iopub.status.busy": "2022-01-24T02:04:11.430300Z",
     "iopub.status.idle": "2022-01-24T02:04:11.457634Z",
     "shell.execute_reply": "2022-01-24T02:04:11.457155Z"
    },
    "papermill": {
     "duration": 0.046505,
     "end_time": "2022-01-24T02:04:11.457747",
     "exception": false,
     "start_time": "2022-01-24T02:04:11.411242",
     "status": "completed"
    },
    "tags": []
   },
   "outputs": [],
   "source": [
    "#hide_input\n",
    "#sum_corr = df_all_mrk.corr().sum().sort_values(ascending=True).index.values\n",
    "#df_all_mrk[sum_corr].corr()"
   ]
  },
  {
   "cell_type": "code",
   "execution_count": 11,
   "id": "other-painting",
   "metadata": {
    "execution": {
     "iopub.execute_input": "2022-01-24T02:04:11.490779Z",
     "iopub.status.busy": "2022-01-24T02:04:11.490069Z",
     "iopub.status.idle": "2022-01-24T02:04:11.516279Z",
     "shell.execute_reply": "2022-01-24T02:04:11.515653Z"
    },
    "papermill": {
     "duration": 0.043232,
     "end_time": "2022-01-24T02:04:11.516386",
     "exception": false,
     "start_time": "2022-01-24T02:04:11.473154",
     "status": "completed"
    },
    "tags": []
   },
   "outputs": [],
   "source": [
    "#hide\n",
    "#Koreliacijos matrica. "
   ]
  },
  {
   "cell_type": "code",
   "execution_count": 12,
   "id": "modular-magnitude",
   "metadata": {
    "execution": {
     "iopub.execute_input": "2022-01-24T02:04:11.549604Z",
     "iopub.status.busy": "2022-01-24T02:04:11.548970Z",
     "iopub.status.idle": "2022-01-24T02:04:11.573914Z",
     "shell.execute_reply": "2022-01-24T02:04:11.574523Z"
    },
    "papermill": {
     "duration": 0.043649,
     "end_time": "2022-01-24T02:04:11.574643",
     "exception": false,
     "start_time": "2022-01-24T02:04:11.530994",
     "status": "completed"
    },
    "tags": []
   },
   "outputs": [],
   "source": [
    "#hide_input\n",
    "#plt.figure(figsize=(15, 8))\n",
    "#sns.heatmap(df_all_mrk[sum_corr].corr(), annot=True, cmap=\"BrBG\");\n",
    "#plt.savefig('corr_matrix_all.eps', format='eps')"
   ]
  },
  {
   "cell_type": "code",
   "execution_count": null,
   "id": "original-senator",
   "metadata": {
    "papermill": {
     "duration": 0.013879,
     "end_time": "2022-01-24T02:04:11.602439",
     "exception": false,
     "start_time": "2022-01-24T02:04:11.588560",
     "status": "completed"
    },
    "tags": []
   },
   "outputs": [],
   "source": []
  },
  {
   "cell_type": "code",
   "execution_count": null,
   "id": "saving-secretariat",
   "metadata": {
    "papermill": {
     "duration": 0.016115,
     "end_time": "2022-01-24T02:04:11.632829",
     "exception": false,
     "start_time": "2022-01-24T02:04:11.616714",
     "status": "completed"
    },
    "tags": []
   },
   "outputs": [],
   "source": []
  }
 ],
 "metadata": {
  "kernelspec": {
   "display_name": "Python 3",
   "language": "python",
   "name": "python3"
  },
  "language_info": {
   "codemirror_mode": {
    "name": "ipython",
    "version": 3
   },
   "file_extension": ".py",
   "mimetype": "text/x-python",
   "name": "python",
   "nbconvert_exporter": "python",
   "pygments_lexer": "ipython3",
   "version": "3.6.15"
  },
  "papermill": {
   "default_parameters": {},
   "duration": 18.022187,
   "end_time": "2022-01-24T02:04:12.167966",
   "environment_variables": {},
   "exception": null,
   "input_path": "App-Correlation_charts.ipynb",
   "output_path": "App-Correlation_charts.ipynb",
   "parameters": {},
   "start_time": "2022-01-24T02:03:54.145779",
   "version": "2.2.2"
  }
 },
 "nbformat": 4,
 "nbformat_minor": 5
}