{
 "cells": [
  {
   "cell_type": "markdown",
   "id": "touched-facility",
   "metadata": {
    "papermill": {
     "duration": 0.016201,
     "end_time": "2022-11-19T02:46:13.392929",
     "exception": false,
     "start_time": "2022-11-19T02:46:13.376728",
     "status": "completed"
    },
    "tags": []
   },
   "source": [
    "# Koreliacijų matrica\n",
    "> Išplėstinė koreliacijų matrica. \n",
    "\n",
    "- toc: true \n",
    "- badges: true\n",
    "- comments: false\n",
    "- categories: [Dominykas Tautkus]\n",
    "- image: images/matrix.png"
   ]
  },
  {
   "cell_type": "code",
   "execution_count": null,
   "id": "premium-weekend",
   "metadata": {
    "papermill": {
     "duration": 0.011736,
     "end_time": "2022-11-19T02:46:13.417348",
     "exception": false,
     "start_time": "2022-11-19T02:46:13.405612",
     "status": "completed"
    },
    "tags": []
   },
   "outputs": [],
   "source": []
  },
  {
   "cell_type": "code",
   "execution_count": 1,
   "id": "vertical-rebate",
   "metadata": {
    "execution": {
     "iopub.execute_input": "2022-11-19T02:46:13.456040Z",
     "iopub.status.busy": "2022-11-19T02:46:13.455310Z",
     "iopub.status.idle": "2022-11-19T02:46:13.467960Z",
     "shell.execute_reply": "2022-11-19T02:46:13.467402Z"
    },
    "papermill": {
     "duration": 0.038687,
     "end_time": "2022-11-19T02:46:13.468099",
     "exception": false,
     "start_time": "2022-11-19T02:46:13.429412",
     "status": "completed"
    },
    "tags": []
   },
   "outputs": [],
   "source": [
    "#hide\n",
    "%load_ext autoreload\n",
    "%autoreload 2"
   ]
  },
  {
   "cell_type": "code",
   "execution_count": 2,
   "id": "overall-advancement",
   "metadata": {
    "execution": {
     "iopub.execute_input": "2022-11-19T02:46:13.496669Z",
     "iopub.status.busy": "2022-11-19T02:46:13.495969Z",
     "iopub.status.idle": "2022-11-19T02:46:15.283396Z",
     "shell.execute_reply": "2022-11-19T02:46:15.282819Z"
    },
    "papermill": {
     "duration": 1.803383,
     "end_time": "2022-11-19T02:46:15.283537",
     "exception": false,
     "start_time": "2022-11-19T02:46:13.480154",
     "status": "completed"
    },
    "tags": []
   },
   "outputs": [],
   "source": [
    "#hide\n",
    "from scripts.read_data import read_api\n",
    "from IPython.display import HTML\n",
    "import plotly.graph_objects as go\n"
   ]
  },
  {
   "cell_type": "code",
   "execution_count": 3,
   "id": "light-crazy",
   "metadata": {
    "execution": {
     "iopub.execute_input": "2022-11-19T02:46:15.313886Z",
     "iopub.status.busy": "2022-11-19T02:46:15.313199Z",
     "iopub.status.idle": "2022-11-19T02:46:15.339583Z",
     "shell.execute_reply": "2022-11-19T02:46:15.340517Z"
    },
    "papermill": {
     "duration": 0.044546,
     "end_time": "2022-11-19T02:46:15.340760",
     "exception": false,
     "start_time": "2022-11-19T02:46:15.296214",
     "status": "completed"
    },
    "tags": []
   },
   "outputs": [],
   "source": [
    "#hide\n",
    "### ICO koreliacija"
   ]
  },
  {
   "cell_type": "code",
   "execution_count": 4,
   "id": "likely-bahrain",
   "metadata": {
    "execution": {
     "iopub.execute_input": "2022-11-19T02:46:15.373032Z",
     "iopub.status.busy": "2022-11-19T02:46:15.372330Z",
     "iopub.status.idle": "2022-11-19T02:46:16.319519Z",
     "shell.execute_reply": "2022-11-19T02:46:16.318339Z"
    },
    "papermill": {
     "duration": 0.965346,
     "end_time": "2022-11-19T02:46:16.319676",
     "exception": false,
     "start_time": "2022-11-19T02:46:15.354330",
     "status": "completed"
    },
    "tags": []
   },
   "outputs": [],
   "source": [
    "#hide\n",
    "import matplotlib.pyplot as plt\n",
    "import numpy as np\n",
    "import pandas as pd\n",
    "import seaborn as sns\n",
    "import matplotlib.pyplot as plt \n",
    "import matplotlib.dates as mdates\n",
    "import matplotlib.pyplot as plt"
   ]
  },
  {
   "cell_type": "code",
   "execution_count": 5,
   "id": "superior-blanket",
   "metadata": {
    "execution": {
     "iopub.execute_input": "2022-11-19T02:46:16.350449Z",
     "iopub.status.busy": "2022-11-19T02:46:16.349718Z",
     "iopub.status.idle": "2022-11-19T02:46:30.220739Z",
     "shell.execute_reply": "2022-11-19T02:46:30.219908Z"
    },
    "papermill": {
     "duration": 13.888791,
     "end_time": "2022-11-19T02:46:30.220875",
     "exception": false,
     "start_time": "2022-11-19T02:46:16.332084",
     "status": "completed"
    },
    "tags": []
   },
   "outputs": [
    {
     "name": "stderr",
     "output_type": "stream",
     "text": [
      "/home/runner/work/corr-app/corr-app/_notebooks/scripts/read_data.py:187: SettingWithCopyWarning:\n",
      "\n",
      "\n",
      "A value is trying to be set on a copy of a slice from a DataFrame.\n",
      "Try using .loc[row_indexer,col_indexer] = value instead\n",
      "\n",
      "See the caveats in the documentation: https://pandas.pydata.org/pandas-docs/stable/user_guide/indexing.html#returning-a-view-versus-a-copy\n",
      "\n"
     ]
    },
    {
     "name": "stderr",
     "output_type": "stream",
     "text": [
      "/home/runner/work/corr-app/corr-app/_notebooks/scripts/read_data.py:215: SettingWithCopyWarning:\n",
      "\n",
      "\n",
      "A value is trying to be set on a copy of a slice from a DataFrame.\n",
      "Try using .loc[row_indexer,col_indexer] = value instead\n",
      "\n",
      "See the caveats in the documentation: https://pandas.pydata.org/pandas-docs/stable/user_guide/indexing.html#returning-a-view-versus-a-copy\n",
      "\n"
     ]
    }
   ],
   "source": [
    "#hide\n",
    "df_all = read_api()\n",
    "#df_all = df_all.drop(['SP500', 'XAU', 'ETH', 'BTC'], axis=1)\n",
    "\n"
   ]
  },
  {
   "cell_type": "code",
   "execution_count": 6,
   "id": "mature-alert",
   "metadata": {
    "execution": {
     "iopub.execute_input": "2022-11-19T02:46:30.258196Z",
     "iopub.status.busy": "2022-11-19T02:46:30.257453Z",
     "iopub.status.idle": "2022-11-19T02:46:30.293947Z",
     "shell.execute_reply": "2022-11-19T02:46:30.293085Z"
    },
    "papermill": {
     "duration": 0.056322,
     "end_time": "2022-11-19T02:46:30.294127",
     "exception": false,
     "start_time": "2022-11-19T02:46:30.237805",
     "status": "completed"
    },
    "tags": []
   },
   "outputs": [],
   "source": [
    "#hide_input\n",
    "sum_corr = df_all.corr().sum().sort_values(ascending=True).index.values\n",
    "#df_all[sum_corr].corr()"
   ]
  },
  {
   "cell_type": "markdown",
   "id": "complex-syndicate",
   "metadata": {
    "papermill": {
     "duration": 0.013746,
     "end_time": "2022-11-19T02:46:30.324353",
     "exception": false,
     "start_time": "2022-11-19T02:46:30.310607",
     "status": "completed"
    },
    "tags": []
   },
   "source": [
    "## Išplėstinė koreliacijų matrica. "
   ]
  },
  {
   "cell_type": "code",
   "execution_count": 7,
   "id": "atomic-omaha",
   "metadata": {
    "execution": {
     "iopub.execute_input": "2022-11-19T02:46:30.362257Z",
     "iopub.status.busy": "2022-11-19T02:46:30.361385Z",
     "iopub.status.idle": "2022-11-19T02:46:31.951041Z",
     "shell.execute_reply": "2022-11-19T02:46:31.950287Z"
    },
    "papermill": {
     "duration": 1.61151,
     "end_time": "2022-11-19T02:46:31.951182",
     "exception": false,
     "start_time": "2022-11-19T02:46:30.339672",
     "status": "completed"
    },
    "tags": []
   },
   "outputs": [
    {
     "data": {
      "image/png": "[encoded data removed]",
      "text/plain": [
       "<Figure size 1080x792 with 2 Axes>"
      ]
     },
     "metadata": {
      "needs_background": "light"
     },
     "output_type": "display_data"
    }
   ],
   "source": [
    "#hide_input\n",
    "plt.figure(figsize=(15, 11))\n",
    "sns.heatmap(df_all[sum_corr].corr(), annot=True, cmap=\"cubehelix\") \n",
    "sns.set(font_scale=1.25)\n",
    "plt.savefig('corr_matrix.png', format='eps')"
   ]
  },
  {
   "cell_type": "code",
   "execution_count": 8,
   "id": "arbitrary-sullivan",
   "metadata": {
    "execution": {
     "iopub.execute_input": "2022-11-19T02:46:31.993451Z",
     "iopub.status.busy": "2022-11-19T02:46:31.992757Z",
     "iopub.status.idle": "2022-11-19T02:46:32.019568Z",
     "shell.execute_reply": "2022-11-19T02:46:32.018846Z"
    },
    "papermill": {
     "duration": 0.05221,
     "end_time": "2022-11-19T02:46:32.019729",
     "exception": false,
     "start_time": "2022-11-19T02:46:31.967519",
     "status": "completed"
    },
    "tags": []
   },
   "outputs": [],
   "source": [
    "#hide\n",
    "#df_all_mrk = read_api()"
   ]
  },
  {
   "cell_type": "code",
   "execution_count": 9,
   "id": "delayed-adapter",
   "metadata": {
    "execution": {
     "iopub.execute_input": "2022-11-19T02:46:32.058801Z",
     "iopub.status.busy": "2022-11-19T02:46:32.058111Z",
     "iopub.status.idle": "2022-11-19T02:46:32.092111Z",
     "shell.execute_reply": "2022-11-19T02:46:32.091523Z"
    },
    "papermill": {
     "duration": 0.054903,
     "end_time": "2022-11-19T02:46:32.092250",
     "exception": false,
     "start_time": "2022-11-19T02:46:32.037347",
     "status": "completed"
    },
    "tags": []
   },
   "outputs": [],
   "source": [
    "#hide\n",
    "#Koreliacijų koeficientai"
   ]
  },
  {
   "cell_type": "code",
   "execution_count": 10,
   "id": "seeing-celebration",
   "metadata": {
    "execution": {
     "iopub.execute_input": "2022-11-19T02:46:32.127595Z",
     "iopub.status.busy": "2022-11-19T02:46:32.126901Z",
     "iopub.status.idle": "2022-11-19T02:46:32.163129Z",
     "shell.execute_reply": "2022-11-19T02:46:32.162458Z"
    },
    "papermill": {
     "duration": 0.055848,
     "end_time": "2022-11-19T02:46:32.163268",
     "exception": false,
     "start_time": "2022-11-19T02:46:32.107420",
     "status": "completed"
    },
    "tags": []
   },
   "outputs": [],
   "source": [
    "#hide_input\n",
    "#sum_corr = df_all_mrk.corr().sum().sort_values(ascending=True).index.values\n",
    "#df_all_mrk[sum_corr].corr()"
   ]
  },
  {
   "cell_type": "code",
   "execution_count": 11,
   "id": "other-painting",
   "metadata": {
    "execution": {
     "iopub.execute_input": "2022-11-19T02:46:32.199243Z",
     "iopub.status.busy": "2022-11-19T02:46:32.198575Z",
     "iopub.status.idle": "2022-11-19T02:46:32.231295Z",
     "shell.execute_reply": "2022-11-19T02:46:32.230362Z"
    },
    "papermill": {
     "duration": 0.052341,
     "end_time": "2022-11-19T02:46:32.231512",
     "exception": false,
     "start_time": "2022-11-19T02:46:32.179171",
     "status": "completed"
    },
    "tags": []
   },
   "outputs": [],
   "source": [
    "#hide\n",
    "#Koreliacijos matrica. "
   ]
  },
  {
   "cell_type": "code",
   "execution_count": 12,
   "id": "modular-magnitude",
   "metadata": {
    "execution": {
     "iopub.execute_input": "2022-11-19T02:46:32.268699Z",
     "iopub.status.busy": "2022-11-19T02:46:32.268002Z",
     "iopub.status.idle": "2022-11-19T02:46:32.298413Z",
     "shell.execute_reply": "2022-11-19T02:46:32.297786Z"
    },
    "papermill": {
     "duration": 0.049885,
     "end_time": "2022-11-19T02:46:32.298554",
     "exception": false,
     "start_time": "2022-11-19T02:46:32.248669",
     "status": "completed"
    },
    "tags": []
   },
   "outputs": [],
   "source": [
    "#hide_input\n",
    "#plt.figure(figsize=(15, 8))\n",
    "#sns.heatmap(df_all_mrk[sum_corr].corr(), annot=True, cmap=\"BrBG\");\n",
    "#plt.savefig('corr_matrix_all.eps', format='eps')"
   ]
  },
  {
   "cell_type": "code",
   "execution_count": null,
   "id": "original-senator",
   "metadata": {
    "papermill": {
     "duration": 0.015035,
     "end_time": "2022-11-19T02:46:32.329230",
     "exception": false,
     "start_time": "2022-11-19T02:46:32.314195",
     "status": "completed"
    },
    "tags": []
   },
   "outputs": [],
   "source": []
  },
  {
   "cell_type": "code",
   "execution_count": null,
   "id": "saving-secretariat",
   "metadata": {
    "papermill": {
     "duration": 0.016294,
     "end_time": "2022-11-19T02:46:32.360658",
     "exception": false,
     "start_time": "2022-11-19T02:46:32.344364",
     "status": "completed"
    },
    "tags": []
   },
   "outputs": [],
   "source": []
  }
 ],
 "metadata": {
  "kernelspec": {
   "display_name": "Python 3",
   "language": "python",
   "name": "python3"
  },
  "language_info": {
   "codemirror_mode": {
    "name": "ipython",
    "version": 3
   },
   "file_extension": ".py",
   "mimetype": "text/x-python",
   "name": "python",
   "nbconvert_exporter": "python",
   "pygments_lexer": "ipython3",
   "version": "3.6.15"
  },
  "papermill": {
   "default_parameters": {},
   "duration": 20.863625,
   "end_time": "2022-11-19T02:46:32.996618",
   "environment_variables": {},
   "exception": null,
   "input_path": "App-Correlation_charts.ipynb",
   "output_path": "App-Correlation_charts.ipynb",
   "parameters": {},
   "start_time": "2022-11-19T02:46:12.132993",
   "version": "2.2.2"
  }
 },
 "nbformat": 4,
 "nbformat_minor": 5
}