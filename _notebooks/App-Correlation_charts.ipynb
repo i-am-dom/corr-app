{
 "cells": [
  {
   "cell_type": "markdown",
   "id": "touched-facility",
   "metadata": {
    "papermill": {
     "duration": 0.015796,
     "end_time": "2021-11-19T01:57:56.791716",
     "exception": false,
     "start_time": "2021-11-19T01:57:56.775920",
     "status": "completed"
    },
    "tags": []
   },
   "source": [
    "# Koreliacijų matrica\n",
    "> Išplėstinė koreliacijų matrica. \n",
    "\n",
    "- toc: true \n",
    "- badges: true\n",
    "- comments: false\n",
    "- categories: [Dominykas Tautkus]\n",
    "- image: images/matrix.png"
   ]
  },
  {
   "cell_type": "code",
   "execution_count": null,
   "id": "premium-weekend",
   "metadata": {
    "papermill": {
     "duration": 0.010608,
     "end_time": "2021-11-19T01:57:56.813649",
     "exception": false,
     "start_time": "2021-11-19T01:57:56.803041",
     "status": "completed"
    },
    "tags": []
   },
   "outputs": [],
   "source": []
  },
  {
   "cell_type": "code",
   "execution_count": 1,
   "id": "vertical-rebate",
   "metadata": {
    "execution": {
     "iopub.execute_input": "2021-11-19T01:57:56.845387Z",
     "iopub.status.busy": "2021-11-19T01:57:56.844846Z",
     "iopub.status.idle": "2021-11-19T01:57:56.856485Z",
     "shell.execute_reply": "2021-11-19T01:57:56.856027Z"
    },
    "papermill": {
     "duration": 0.032356,
     "end_time": "2021-11-19T01:57:56.856611",
     "exception": false,
     "start_time": "2021-11-19T01:57:56.824255",
     "status": "completed"
    },
    "tags": []
   },
   "outputs": [],
   "source": [
    "#hide\n",
    "%load_ext autoreload\n",
    "%autoreload 2"
   ]
  },
  {
   "cell_type": "code",
   "execution_count": 2,
   "id": "overall-advancement",
   "metadata": {
    "execution": {
     "iopub.execute_input": "2021-11-19T01:57:56.896670Z",
     "iopub.status.busy": "2021-11-19T01:57:56.888931Z",
     "iopub.status.idle": "2021-11-19T01:57:58.110157Z",
     "shell.execute_reply": "2021-11-19T01:57:58.109647Z"
    },
    "papermill": {
     "duration": 1.243063,
     "end_time": "2021-11-19T01:57:58.110292",
     "exception": false,
     "start_time": "2021-11-19T01:57:56.867229",
     "status": "completed"
    },
    "tags": []
   },
   "outputs": [],
   "source": [
    "#hide\n",
    "from scripts.read_data import read_api\n",
    "from IPython.display import HTML\n",
    "import plotly.graph_objects as go\n"
   ]
  },
  {
   "cell_type": "code",
   "execution_count": 3,
   "id": "light-crazy",
   "metadata": {
    "execution": {
     "iopub.execute_input": "2021-11-19T01:57:58.143602Z",
     "iopub.status.busy": "2021-11-19T01:57:58.141271Z",
     "iopub.status.idle": "2021-11-19T01:57:58.159836Z",
     "shell.execute_reply": "2021-11-19T01:57:58.160231Z"
    },
    "papermill": {
     "duration": 0.038559,
     "end_time": "2021-11-19T01:57:58.160360",
     "exception": false,
     "start_time": "2021-11-19T01:57:58.121801",
     "status": "completed"
    },
    "tags": []
   },
   "outputs": [],
   "source": [
    "#hide\n",
    "### ICO koreliacija"
   ]
  },
  {
   "cell_type": "code",
   "execution_count": 4,
   "id": "likely-bahrain",
   "metadata": {
    "execution": {
     "iopub.execute_input": "2021-11-19T01:57:58.193560Z",
     "iopub.status.busy": "2021-11-19T01:57:58.189608Z",
     "iopub.status.idle": "2021-11-19T01:57:59.115839Z",
     "shell.execute_reply": "2021-11-19T01:57:59.116275Z"
    },
    "papermill": {
     "duration": 0.945389,
     "end_time": "2021-11-19T01:57:59.116428",
     "exception": false,
     "start_time": "2021-11-19T01:57:58.171039",
     "status": "completed"
    },
    "tags": []
   },
   "outputs": [],
   "source": [
    "#hide\n",
    "import matplotlib.pyplot as plt\n",
    "import numpy as np\n",
    "import pandas as pd\n",
    "import seaborn as sns\n",
    "import matplotlib.pyplot as plt \n",
    "import matplotlib.dates as mdates\n",
    "import matplotlib.pyplot as plt"
   ]
  },
  {
   "cell_type": "code",
   "execution_count": 5,
   "id": "superior-blanket",
   "metadata": {
    "execution": {
     "iopub.execute_input": "2021-11-19T01:57:59.143279Z",
     "iopub.status.busy": "2021-11-19T01:57:59.142770Z",
     "iopub.status.idle": "2021-11-19T01:58:12.985125Z",
     "shell.execute_reply": "2021-11-19T01:58:12.984589Z"
    },
    "papermill": {
     "duration": 13.857728,
     "end_time": "2021-11-19T01:58:12.985269",
     "exception": false,
     "start_time": "2021-11-19T01:57:59.127541",
     "status": "completed"
    },
    "tags": []
   },
   "outputs": [
    {
     "name": "stderr",
     "output_type": "stream",
     "text": [
      "/home/runner/work/corr-app/corr-app/_notebooks/scripts/read_data.py:187: SettingWithCopyWarning:\n",
      "\n",
      "\n",
      "A value is trying to be set on a copy of a slice from a DataFrame.\n",
      "Try using .loc[row_indexer,col_indexer] = value instead\n",
      "\n",
      "See the caveats in the documentation: https://pandas.pydata.org/pandas-docs/stable/user_guide/indexing.html#returning-a-view-versus-a-copy\n",
      "\n"
     ]
    },
    {
     "name": "stderr",
     "output_type": "stream",
     "text": [
      "/home/runner/work/corr-app/corr-app/_notebooks/scripts/read_data.py:215: SettingWithCopyWarning:\n",
      "\n",
      "\n",
      "A value is trying to be set on a copy of a slice from a DataFrame.\n",
      "Try using .loc[row_indexer,col_indexer] = value instead\n",
      "\n",
      "See the caveats in the documentation: https://pandas.pydata.org/pandas-docs/stable/user_guide/indexing.html#returning-a-view-versus-a-copy\n",
      "\n"
     ]
    }
   ],
   "source": [
    "#hide\n",
    "df_all = read_api()\n",
    "#df_all = df_all.drop(['SP500', 'XAU', 'ETH', 'BTC'], axis=1)\n",
    "\n"
   ]
  },
  {
   "cell_type": "code",
   "execution_count": 6,
   "id": "mature-alert",
   "metadata": {
    "execution": {
     "iopub.execute_input": "2021-11-19T01:58:13.019912Z",
     "iopub.status.busy": "2021-11-19T01:58:13.018286Z",
     "iopub.status.idle": "2021-11-19T01:58:13.045092Z",
     "shell.execute_reply": "2021-11-19T01:58:13.045543Z"
    },
    "papermill": {
     "duration": 0.048475,
     "end_time": "2021-11-19T01:58:13.045697",
     "exception": false,
     "start_time": "2021-11-19T01:58:12.997222",
     "status": "completed"
    },
    "tags": []
   },
   "outputs": [],
   "source": [
    "#hide_input\n",
    "sum_corr = df_all.corr().sum().sort_values(ascending=True).index.values\n",
    "#df_all[sum_corr].corr()"
   ]
  },
  {
   "cell_type": "markdown",
   "id": "complex-syndicate",
   "metadata": {
    "papermill": {
     "duration": 0.011246,
     "end_time": "2021-11-19T01:58:13.068404",
     "exception": false,
     "start_time": "2021-11-19T01:58:13.057158",
     "status": "completed"
    },
    "tags": []
   },
   "source": [
    "## Išplėstinė koreliacijų matrica. "
   ]
  },
  {
   "cell_type": "code",
   "execution_count": 7,
   "id": "atomic-omaha",
   "metadata": {
    "execution": {
     "iopub.execute_input": "2021-11-19T01:58:13.098811Z",
     "iopub.status.busy": "2021-11-19T01:58:13.098305Z",
     "iopub.status.idle": "2021-11-19T01:58:14.426222Z",
     "shell.execute_reply": "2021-11-19T01:58:14.425515Z"
    },
    "papermill": {
     "duration": 1.346733,
     "end_time": "2021-11-19T01:58:14.426346",
     "exception": false,
     "start_time": "2021-11-19T01:58:13.079613",
     "status": "completed"
    },
    "tags": []
   },
   "outputs": [
    {
     "data": {
      "image/png": "[encoded data removed]",
      "text/plain": [
       "<Figure size 1080x792 with 2 Axes>"
      ]
     },
     "metadata": {
      "needs_background": "light"
     },
     "output_type": "display_data"
    }
   ],
   "source": [
    "#hide_input\n",
    "plt.figure(figsize=(15, 11))\n",
    "sns.heatmap(df_all[sum_corr].corr(), annot=True, cmap=\"cubehelix\") \n",
    "sns.set(font_scale=1.25)\n",
    "plt.savefig('corr_matrix.png', format='eps')"
   ]
  },
  {
   "cell_type": "code",
   "execution_count": 8,
   "id": "arbitrary-sullivan",
   "metadata": {
    "execution": {
     "iopub.execute_input": "2021-11-19T01:58:14.464081Z",
     "iopub.status.busy": "2021-11-19T01:58:14.463571Z",
     "iopub.status.idle": "2021-11-19T01:58:14.485656Z",
     "shell.execute_reply": "2021-11-19T01:58:14.486112Z"
    },
    "papermill": {
     "duration": 0.045386,
     "end_time": "2021-11-19T01:58:14.486262",
     "exception": false,
     "start_time": "2021-11-19T01:58:14.440876",
     "status": "completed"
    },
    "tags": []
   },
   "outputs": [],
   "source": [
    "#hide\n",
    "#df_all_mrk = read_api()"
   ]
  },
  {
   "cell_type": "code",
   "execution_count": 9,
   "id": "delayed-adapter",
   "metadata": {
    "execution": {
     "iopub.execute_input": "2021-11-19T01:58:14.526150Z",
     "iopub.status.busy": "2021-11-19T01:58:14.522683Z",
     "iopub.status.idle": "2021-11-19T01:58:14.546629Z",
     "shell.execute_reply": "2021-11-19T01:58:14.547075Z"
    },
    "papermill": {
     "duration": 0.047126,
     "end_time": "2021-11-19T01:58:14.547225",
     "exception": false,
     "start_time": "2021-11-19T01:58:14.500099",
     "status": "completed"
    },
    "tags": []
   },
   "outputs": [],
   "source": [
    "#hide\n",
    "#Koreliacijų koeficientai"
   ]
  },
  {
   "cell_type": "code",
   "execution_count": 10,
   "id": "seeing-celebration",
   "metadata": {
    "execution": {
     "iopub.execute_input": "2021-11-19T01:58:14.578477Z",
     "iopub.status.busy": "2021-11-19T01:58:14.577643Z",
     "iopub.status.idle": "2021-11-19T01:58:14.602837Z",
     "shell.execute_reply": "2021-11-19T01:58:14.603225Z"
    },
    "papermill": {
     "duration": 0.042061,
     "end_time": "2021-11-19T01:58:14.603387",
     "exception": false,
     "start_time": "2021-11-19T01:58:14.561326",
     "status": "completed"
    },
    "tags": []
   },
   "outputs": [],
   "source": [
    "#hide_input\n",
    "#sum_corr = df_all_mrk.corr().sum().sort_values(ascending=True).index.values\n",
    "#df_all_mrk[sum_corr].corr()"
   ]
  },
  {
   "cell_type": "code",
   "execution_count": 11,
   "id": "other-painting",
   "metadata": {
    "execution": {
     "iopub.execute_input": "2021-11-19T01:58:14.649083Z",
     "iopub.status.busy": "2021-11-19T01:58:14.648054Z",
     "iopub.status.idle": "2021-11-19T01:58:14.666854Z",
     "shell.execute_reply": "2021-11-19T01:58:14.666403Z"
    },
    "papermill": {
     "duration": 0.050378,
     "end_time": "2021-11-19T01:58:14.666978",
     "exception": false,
     "start_time": "2021-11-19T01:58:14.616600",
     "status": "completed"
    },
    "tags": []
   },
   "outputs": [],
   "source": [
    "#hide\n",
    "#Koreliacijos matrica. "
   ]
  },
  {
   "cell_type": "code",
   "execution_count": 12,
   "id": "modular-magnitude",
   "metadata": {
    "execution": {
     "iopub.execute_input": "2021-11-19T01:58:14.697017Z",
     "iopub.status.busy": "2021-11-19T01:58:14.696518Z",
     "iopub.status.idle": "2021-11-19T01:58:14.723357Z",
     "shell.execute_reply": "2021-11-19T01:58:14.722867Z"
    },
    "papermill": {
     "duration": 0.042489,
     "end_time": "2021-11-19T01:58:14.723485",
     "exception": false,
     "start_time": "2021-11-19T01:58:14.680996",
     "status": "completed"
    },
    "tags": []
   },
   "outputs": [],
   "source": [
    "#hide_input\n",
    "#plt.figure(figsize=(15, 8))\n",
    "#sns.heatmap(df_all_mrk[sum_corr].corr(), annot=True, cmap=\"BrBG\");\n",
    "#plt.savefig('corr_matrix_all.eps', format='eps')"
   ]
  },
  {
   "cell_type": "code",
   "execution_count": null,
   "id": "original-senator",
   "metadata": {
    "papermill": {
     "duration": 0.013117,
     "end_time": "2021-11-19T01:58:14.749814",
     "exception": false,
     "start_time": "2021-11-19T01:58:14.736697",
     "status": "completed"
    },
    "tags": []
   },
   "outputs": [],
   "source": []
  },
  {
   "cell_type": "code",
   "execution_count": null,
   "id": "saving-secretariat",
   "metadata": {
    "papermill": {
     "duration": 0.012994,
     "end_time": "2021-11-19T01:58:14.775829",
     "exception": false,
     "start_time": "2021-11-19T01:58:14.762835",
     "status": "completed"
    },
    "tags": []
   },
   "outputs": [],
   "source": []
  }
 ],
 "metadata": {
  "kernelspec": {
   "display_name": "Python 3",
   "language": "python",
   "name": "python3"
  },
  "language_info": {
   "codemirror_mode": {
    "name": "ipython",
    "version": 3
   },
   "file_extension": ".py",
   "mimetype": "text/x-python",
   "name": "python",
   "nbconvert_exporter": "python",
   "pygments_lexer": "ipython3",
   "version": "3.6.15"
  },
  "papermill": {
   "default_parameters": {},
   "duration": 19.560909,
   "end_time": "2021-11-19T01:58:15.298354",
   "environment_variables": {},
   "exception": null,
   "input_path": "App-Correlation_charts.ipynb",
   "output_path": "App-Correlation_charts.ipynb",
   "parameters": {},
   "start_time": "2021-11-19T01:57:55.737445",
   "version": "2.2.2"
  }
 },
 "nbformat": 4,
 "nbformat_minor": 5
}