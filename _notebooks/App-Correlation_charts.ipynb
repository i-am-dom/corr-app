{
 "cells": [
  {
   "cell_type": "markdown",
   "id": "touched-facility",
   "metadata": {
    "papermill": {
     "duration": 0.015508,
     "end_time": "2022-09-22T03:38:01.557566",
     "exception": false,
     "start_time": "2022-09-22T03:38:01.542058",
     "status": "completed"
    },
    "tags": []
   },
   "source": [
    "# Koreliacijų matrica\n",
    "> Išplėstinė koreliacijų matrica. \n",
    "\n",
    "- toc: true \n",
    "- badges: true\n",
    "- comments: false\n",
    "- categories: [Dominykas Tautkus]\n",
    "- image: images/matrix.png"
   ]
  },
  {
   "cell_type": "code",
   "execution_count": null,
   "id": "premium-weekend",
   "metadata": {
    "papermill": {
     "duration": 0.010644,
     "end_time": "2022-09-22T03:38:01.579520",
     "exception": false,
     "start_time": "2022-09-22T03:38:01.568876",
     "status": "completed"
    },
    "tags": []
   },
   "outputs": [],
   "source": []
  },
  {
   "cell_type": "code",
   "execution_count": 1,
   "id": "vertical-rebate",
   "metadata": {
    "execution": {
     "iopub.execute_input": "2022-09-22T03:38:01.611096Z",
     "iopub.status.busy": "2022-09-22T03:38:01.608177Z",
     "iopub.status.idle": "2022-09-22T03:38:01.622054Z",
     "shell.execute_reply": "2022-09-22T03:38:01.621580Z"
    },
    "papermill": {
     "duration": 0.032014,
     "end_time": "2022-09-22T03:38:01.622163",
     "exception": false,
     "start_time": "2022-09-22T03:38:01.590149",
     "status": "completed"
    },
    "tags": []
   },
   "outputs": [],
   "source": [
    "#hide\n",
    "%load_ext autoreload\n",
    "%autoreload 2"
   ]
  },
  {
   "cell_type": "code",
   "execution_count": 2,
   "id": "overall-advancement",
   "metadata": {
    "execution": {
     "iopub.execute_input": "2022-09-22T03:38:01.646530Z",
     "iopub.status.busy": "2022-09-22T03:38:01.645961Z",
     "iopub.status.idle": "2022-09-22T03:38:02.925294Z",
     "shell.execute_reply": "2022-09-22T03:38:02.924782Z"
    },
    "papermill": {
     "duration": 1.29273,
     "end_time": "2022-09-22T03:38:02.925419",
     "exception": false,
     "start_time": "2022-09-22T03:38:01.632689",
     "status": "completed"
    },
    "tags": []
   },
   "outputs": [],
   "source": [
    "#hide\n",
    "from scripts.read_data import read_api\n",
    "from IPython.display import HTML\n",
    "import plotly.graph_objects as go\n"
   ]
  },
  {
   "cell_type": "code",
   "execution_count": 3,
   "id": "light-crazy",
   "metadata": {
    "execution": {
     "iopub.execute_input": "2022-09-22T03:38:02.950838Z",
     "iopub.status.busy": "2022-09-22T03:38:02.950163Z",
     "iopub.status.idle": "2022-09-22T03:38:02.973042Z",
     "shell.execute_reply": "2022-09-22T03:38:02.972409Z"
    },
    "papermill": {
     "duration": 0.036748,
     "end_time": "2022-09-22T03:38:02.973144",
     "exception": false,
     "start_time": "2022-09-22T03:38:02.936396",
     "status": "completed"
    },
    "tags": []
   },
   "outputs": [],
   "source": [
    "#hide\n",
    "### ICO koreliacija"
   ]
  },
  {
   "cell_type": "code",
   "execution_count": 4,
   "id": "likely-bahrain",
   "metadata": {
    "execution": {
     "iopub.execute_input": "2022-09-22T03:38:02.997808Z",
     "iopub.status.busy": "2022-09-22T03:38:02.997242Z",
     "iopub.status.idle": "2022-09-22T03:38:03.826423Z",
     "shell.execute_reply": "2022-09-22T03:38:03.825920Z"
    },
    "papermill": {
     "duration": 0.842863,
     "end_time": "2022-09-22T03:38:03.826544",
     "exception": false,
     "start_time": "2022-09-22T03:38:02.983681",
     "status": "completed"
    },
    "tags": []
   },
   "outputs": [],
   "source": [
    "#hide\n",
    "import matplotlib.pyplot as plt\n",
    "import numpy as np\n",
    "import pandas as pd\n",
    "import seaborn as sns\n",
    "import matplotlib.pyplot as plt \n",
    "import matplotlib.dates as mdates\n",
    "import matplotlib.pyplot as plt"
   ]
  },
  {
   "cell_type": "code",
   "execution_count": 5,
   "id": "superior-blanket",
   "metadata": {
    "execution": {
     "iopub.execute_input": "2022-09-22T03:38:03.853868Z",
     "iopub.status.busy": "2022-09-22T03:38:03.852337Z",
     "iopub.status.idle": "2022-09-22T03:38:13.933707Z",
     "shell.execute_reply": "2022-09-22T03:38:13.932893Z"
    },
    "papermill": {
     "duration": 10.096352,
     "end_time": "2022-09-22T03:38:13.933829",
     "exception": false,
     "start_time": "2022-09-22T03:38:03.837477",
     "status": "completed"
    },
    "tags": []
   },
   "outputs": [
    {
     "name": "stderr",
     "output_type": "stream",
     "text": [
      "/home/runner/work/corr-app/corr-app/_notebooks/scripts/read_data.py:187: SettingWithCopyWarning:\n",
      "\n",
      "\n",
      "A value is trying to be set on a copy of a slice from a DataFrame.\n",
      "Try using .loc[row_indexer,col_indexer] = value instead\n",
      "\n",
      "See the caveats in the documentation: https://pandas.pydata.org/pandas-docs/stable/user_guide/indexing.html#returning-a-view-versus-a-copy\n",
      "\n"
     ]
    },
    {
     "name": "stderr",
     "output_type": "stream",
     "text": [
      "/home/runner/work/corr-app/corr-app/_notebooks/scripts/read_data.py:215: SettingWithCopyWarning:\n",
      "\n",
      "\n",
      "A value is trying to be set on a copy of a slice from a DataFrame.\n",
      "Try using .loc[row_indexer,col_indexer] = value instead\n",
      "\n",
      "See the caveats in the documentation: https://pandas.pydata.org/pandas-docs/stable/user_guide/indexing.html#returning-a-view-versus-a-copy\n",
      "\n"
     ]
    }
   ],
   "source": [
    "#hide\n",
    "df_all = read_api()\n",
    "#df_all = df_all.drop(['SP500', 'XAU', 'ETH', 'BTC'], axis=1)\n",
    "\n"
   ]
  },
  {
   "cell_type": "code",
   "execution_count": 6,
   "id": "mature-alert",
   "metadata": {
    "execution": {
     "iopub.execute_input": "2022-09-22T03:38:13.962003Z",
     "iopub.status.busy": "2022-09-22T03:38:13.961410Z",
     "iopub.status.idle": "2022-09-22T03:38:13.992224Z",
     "shell.execute_reply": "2022-09-22T03:38:13.991553Z"
    },
    "papermill": {
     "duration": 0.045851,
     "end_time": "2022-09-22T03:38:13.992340",
     "exception": false,
     "start_time": "2022-09-22T03:38:13.946489",
     "status": "completed"
    },
    "tags": []
   },
   "outputs": [],
   "source": [
    "#hide_input\n",
    "sum_corr = df_all.corr().sum().sort_values(ascending=True).index.values\n",
    "#df_all[sum_corr].corr()"
   ]
  },
  {
   "cell_type": "markdown",
   "id": "complex-syndicate",
   "metadata": {
    "papermill": {
     "duration": 0.011027,
     "end_time": "2022-09-22T03:38:14.015491",
     "exception": false,
     "start_time": "2022-09-22T03:38:14.004464",
     "status": "completed"
    },
    "tags": []
   },
   "source": [
    "## Išplėstinė koreliacijų matrica. "
   ]
  },
  {
   "cell_type": "code",
   "execution_count": 7,
   "id": "atomic-omaha",
   "metadata": {
    "execution": {
     "iopub.execute_input": "2022-09-22T03:38:14.041516Z",
     "iopub.status.busy": "2022-09-22T03:38:14.040955Z",
     "iopub.status.idle": "2022-09-22T03:38:15.318846Z",
     "shell.execute_reply": "2022-09-22T03:38:15.318254Z"
    },
    "papermill": {
     "duration": 1.292381,
     "end_time": "2022-09-22T03:38:15.318962",
     "exception": false,
     "start_time": "2022-09-22T03:38:14.026581",
     "status": "completed"
    },
    "tags": []
   },
   "outputs": [
    {
     "data": {
      "image/png": "[encoded data removed]",
      "text/plain": [
       "<Figure size 1080x792 with 2 Axes>"
      ]
     },
     "metadata": {
      "needs_background": "light"
     },
     "output_type": "display_data"
    }
   ],
   "source": [
    "#hide_input\n",
    "plt.figure(figsize=(15, 11))\n",
    "sns.heatmap(df_all[sum_corr].corr(), annot=True, cmap=\"cubehelix\") \n",
    "sns.set(font_scale=1.25)\n",
    "plt.savefig('corr_matrix.png', format='eps')"
   ]
  },
  {
   "cell_type": "code",
   "execution_count": 8,
   "id": "arbitrary-sullivan",
   "metadata": {
    "execution": {
     "iopub.execute_input": "2022-09-22T03:38:15.349153Z",
     "iopub.status.busy": "2022-09-22T03:38:15.348581Z",
     "iopub.status.idle": "2022-09-22T03:38:15.375506Z",
     "shell.execute_reply": "2022-09-22T03:38:15.374980Z"
    },
    "papermill": {
     "duration": 0.043065,
     "end_time": "2022-09-22T03:38:15.375627",
     "exception": false,
     "start_time": "2022-09-22T03:38:15.332562",
     "status": "completed"
    },
    "tags": []
   },
   "outputs": [],
   "source": [
    "#hide\n",
    "#df_all_mrk = read_api()"
   ]
  },
  {
   "cell_type": "code",
   "execution_count": 9,
   "id": "delayed-adapter",
   "metadata": {
    "execution": {
     "iopub.execute_input": "2022-09-22T03:38:15.405220Z",
     "iopub.status.busy": "2022-09-22T03:38:15.404656Z",
     "iopub.status.idle": "2022-09-22T03:38:15.432910Z",
     "shell.execute_reply": "2022-09-22T03:38:15.432417Z"
    },
    "papermill": {
     "duration": 0.043644,
     "end_time": "2022-09-22T03:38:15.433013",
     "exception": false,
     "start_time": "2022-09-22T03:38:15.389369",
     "status": "completed"
    },
    "tags": []
   },
   "outputs": [],
   "source": [
    "#hide\n",
    "#Koreliacijų koeficientai"
   ]
  },
  {
   "cell_type": "code",
   "execution_count": 10,
   "id": "seeing-celebration",
   "metadata": {
    "execution": {
     "iopub.execute_input": "2022-09-22T03:38:15.465757Z",
     "iopub.status.busy": "2022-09-22T03:38:15.463053Z",
     "iopub.status.idle": "2022-09-22T03:38:15.489207Z",
     "shell.execute_reply": "2022-09-22T03:38:15.489686Z"
    },
    "papermill": {
     "duration": 0.04355,
     "end_time": "2022-09-22T03:38:15.489813",
     "exception": false,
     "start_time": "2022-09-22T03:38:15.446263",
     "status": "completed"
    },
    "tags": []
   },
   "outputs": [],
   "source": [
    "#hide_input\n",
    "#sum_corr = df_all_mrk.corr().sum().sort_values(ascending=True).index.values\n",
    "#df_all_mrk[sum_corr].corr()"
   ]
  },
  {
   "cell_type": "code",
   "execution_count": 11,
   "id": "other-painting",
   "metadata": {
    "execution": {
     "iopub.execute_input": "2022-09-22T03:38:15.523093Z",
     "iopub.status.busy": "2022-09-22T03:38:15.522534Z",
     "iopub.status.idle": "2022-09-22T03:38:15.546000Z",
     "shell.execute_reply": "2022-09-22T03:38:15.545488Z"
    },
    "papermill": {
     "duration": 0.042926,
     "end_time": "2022-09-22T03:38:15.546114",
     "exception": false,
     "start_time": "2022-09-22T03:38:15.503188",
     "status": "completed"
    },
    "tags": []
   },
   "outputs": [],
   "source": [
    "#hide\n",
    "#Koreliacijos matrica. "
   ]
  },
  {
   "cell_type": "code",
   "execution_count": 12,
   "id": "modular-magnitude",
   "metadata": {
    "execution": {
     "iopub.execute_input": "2022-09-22T03:38:15.576135Z",
     "iopub.status.busy": "2022-09-22T03:38:15.575536Z",
     "iopub.status.idle": "2022-09-22T03:38:15.601019Z",
     "shell.execute_reply": "2022-09-22T03:38:15.600376Z"
    },
    "papermill": {
     "duration": 0.040884,
     "end_time": "2022-09-22T03:38:15.601128",
     "exception": false,
     "start_time": "2022-09-22T03:38:15.560244",
     "status": "completed"
    },
    "tags": []
   },
   "outputs": [],
   "source": [
    "#hide_input\n",
    "#plt.figure(figsize=(15, 8))\n",
    "#sns.heatmap(df_all_mrk[sum_corr].corr(), annot=True, cmap=\"BrBG\");\n",
    "#plt.savefig('corr_matrix_all.eps', format='eps')"
   ]
  },
  {
   "cell_type": "code",
   "execution_count": null,
   "id": "original-senator",
   "metadata": {
    "papermill": {
     "duration": 0.012927,
     "end_time": "2022-09-22T03:38:15.627545",
     "exception": false,
     "start_time": "2022-09-22T03:38:15.614618",
     "status": "completed"
    },
    "tags": []
   },
   "outputs": [],
   "source": []
  },
  {
   "cell_type": "code",
   "execution_count": null,
   "id": "saving-secretariat",
   "metadata": {
    "papermill": {
     "duration": 0.014041,
     "end_time": "2022-09-22T03:38:15.654589",
     "exception": false,
     "start_time": "2022-09-22T03:38:15.640548",
     "status": "completed"
    },
    "tags": []
   },
   "outputs": [],
   "source": []
  }
 ],
 "metadata": {
  "kernelspec": {
   "display_name": "Python 3",
   "language": "python",
   "name": "python3"
  },
  "language_info": {
   "codemirror_mode": {
    "name": "ipython",
    "version": 3
   },
   "file_extension": ".py",
   "mimetype": "text/x-python",
   "name": "python",
   "nbconvert_exporter": "python",
   "pygments_lexer": "ipython3",
   "version": "3.6.15"
  },
  "papermill": {
   "default_parameters": {},
   "duration": 15.559696,
   "end_time": "2022-09-22T03:38:16.186107",
   "environment_variables": {},
   "exception": null,
   "input_path": "App-Correlation_charts.ipynb",
   "output_path": "App-Correlation_charts.ipynb",
   "parameters": {},
   "start_time": "2022-09-22T03:38:00.626411",
   "version": "2.2.2"
  }
 },
 "nbformat": 4,
 "nbformat_minor": 5
}