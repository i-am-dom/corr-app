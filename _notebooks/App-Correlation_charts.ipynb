{
 "cells": [
  {
   "cell_type": "markdown",
   "id": "touched-facility",
   "metadata": {
    "papermill": {
     "duration": 0.017281,
     "end_time": "2022-10-01T03:52:59.985402",
     "exception": false,
     "start_time": "2022-10-01T03:52:59.968121",
     "status": "completed"
    },
    "tags": []
   },
   "source": [
    "# Koreliacijų matrica\n",
    "> Išplėstinė koreliacijų matrica. \n",
    "\n",
    "- toc: true \n",
    "- badges: true\n",
    "- comments: false\n",
    "- categories: [Dominykas Tautkus]\n",
    "- image: images/matrix.png"
   ]
  },
  {
   "cell_type": "code",
   "execution_count": null,
   "id": "premium-weekend",
   "metadata": {
    "papermill": {
     "duration": 0.012068,
     "end_time": "2022-10-01T03:53:00.010488",
     "exception": false,
     "start_time": "2022-10-01T03:52:59.998420",
     "status": "completed"
    },
    "tags": []
   },
   "outputs": [],
   "source": []
  },
  {
   "cell_type": "code",
   "execution_count": 1,
   "id": "vertical-rebate",
   "metadata": {
    "execution": {
     "iopub.execute_input": "2022-10-01T03:53:00.044116Z",
     "iopub.status.busy": "2022-10-01T03:53:00.043395Z",
     "iopub.status.idle": "2022-10-01T03:53:00.064393Z",
     "shell.execute_reply": "2022-10-01T03:53:00.065014Z"
    },
    "papermill": {
     "duration": 0.042517,
     "end_time": "2022-10-01T03:53:00.065196",
     "exception": false,
     "start_time": "2022-10-01T03:53:00.022679",
     "status": "completed"
    },
    "tags": []
   },
   "outputs": [],
   "source": [
    "#hide\n",
    "%load_ext autoreload\n",
    "%autoreload 2"
   ]
  },
  {
   "cell_type": "code",
   "execution_count": 2,
   "id": "overall-advancement",
   "metadata": {
    "execution": {
     "iopub.execute_input": "2022-10-01T03:53:00.093611Z",
     "iopub.status.busy": "2022-10-01T03:53:00.092906Z",
     "iopub.status.idle": "2022-10-01T03:53:01.616038Z",
     "shell.execute_reply": "2022-10-01T03:53:01.614865Z"
    },
    "papermill": {
     "duration": 1.539082,
     "end_time": "2022-10-01T03:53:01.616194",
     "exception": false,
     "start_time": "2022-10-01T03:53:00.077112",
     "status": "completed"
    },
    "tags": []
   },
   "outputs": [],
   "source": [
    "#hide\n",
    "from scripts.read_data import read_api\n",
    "from IPython.display import HTML\n",
    "import plotly.graph_objects as go\n"
   ]
  },
  {
   "cell_type": "code",
   "execution_count": 3,
   "id": "light-crazy",
   "metadata": {
    "execution": {
     "iopub.execute_input": "2022-10-01T03:53:01.646373Z",
     "iopub.status.busy": "2022-10-01T03:53:01.645632Z",
     "iopub.status.idle": "2022-10-01T03:53:01.671131Z",
     "shell.execute_reply": "2022-10-01T03:53:01.671659Z"
    },
    "papermill": {
     "duration": 0.04347,
     "end_time": "2022-10-01T03:53:01.671833",
     "exception": false,
     "start_time": "2022-10-01T03:53:01.628363",
     "status": "completed"
    },
    "tags": []
   },
   "outputs": [],
   "source": [
    "#hide\n",
    "### ICO koreliacija"
   ]
  },
  {
   "cell_type": "code",
   "execution_count": 4,
   "id": "likely-bahrain",
   "metadata": {
    "execution": {
     "iopub.execute_input": "2022-10-01T03:53:01.703220Z",
     "iopub.status.busy": "2022-10-01T03:53:01.702262Z",
     "iopub.status.idle": "2022-10-01T03:53:02.649394Z",
     "shell.execute_reply": "2022-10-01T03:53:02.647888Z"
    },
    "papermill": {
     "duration": 0.965319,
     "end_time": "2022-10-01T03:53:02.649544",
     "exception": false,
     "start_time": "2022-10-01T03:53:01.684225",
     "status": "completed"
    },
    "tags": []
   },
   "outputs": [],
   "source": [
    "#hide\n",
    "import matplotlib.pyplot as plt\n",
    "import numpy as np\n",
    "import pandas as pd\n",
    "import seaborn as sns\n",
    "import matplotlib.pyplot as plt \n",
    "import matplotlib.dates as mdates\n",
    "import matplotlib.pyplot as plt"
   ]
  },
  {
   "cell_type": "code",
   "execution_count": 5,
   "id": "superior-blanket",
   "metadata": {
    "execution": {
     "iopub.execute_input": "2022-10-01T03:53:02.678890Z",
     "iopub.status.busy": "2022-10-01T03:53:02.678203Z",
     "iopub.status.idle": "2022-10-01T03:53:17.748164Z",
     "shell.execute_reply": "2022-10-01T03:53:17.746788Z"
    },
    "papermill": {
     "duration": 15.086521,
     "end_time": "2022-10-01T03:53:17.748320",
     "exception": false,
     "start_time": "2022-10-01T03:53:02.661799",
     "status": "completed"
    },
    "tags": []
   },
   "outputs": [
    {
     "name": "stderr",
     "output_type": "stream",
     "text": [
      "/home/runner/work/corr-app/corr-app/_notebooks/scripts/read_data.py:187: SettingWithCopyWarning:\n",
      "\n",
      "\n",
      "A value is trying to be set on a copy of a slice from a DataFrame.\n",
      "Try using .loc[row_indexer,col_indexer] = value instead\n",
      "\n",
      "See the caveats in the documentation: https://pandas.pydata.org/pandas-docs/stable/user_guide/indexing.html#returning-a-view-versus-a-copy\n",
      "\n"
     ]
    },
    {
     "name": "stderr",
     "output_type": "stream",
     "text": [
      "/home/runner/work/corr-app/corr-app/_notebooks/scripts/read_data.py:215: SettingWithCopyWarning:\n",
      "\n",
      "\n",
      "A value is trying to be set on a copy of a slice from a DataFrame.\n",
      "Try using .loc[row_indexer,col_indexer] = value instead\n",
      "\n",
      "See the caveats in the documentation: https://pandas.pydata.org/pandas-docs/stable/user_guide/indexing.html#returning-a-view-versus-a-copy\n",
      "\n"
     ]
    }
   ],
   "source": [
    "#hide\n",
    "df_all = read_api()\n",
    "#df_all = df_all.drop(['SP500', 'XAU', 'ETH', 'BTC'], axis=1)\n",
    "\n"
   ]
  },
  {
   "cell_type": "code",
   "execution_count": 6,
   "id": "mature-alert",
   "metadata": {
    "execution": {
     "iopub.execute_input": "2022-10-01T03:53:17.786047Z",
     "iopub.status.busy": "2022-10-01T03:53:17.780766Z",
     "iopub.status.idle": "2022-10-01T03:53:17.816261Z",
     "shell.execute_reply": "2022-10-01T03:53:17.815163Z"
    },
    "papermill": {
     "duration": 0.053756,
     "end_time": "2022-10-01T03:53:17.816435",
     "exception": false,
     "start_time": "2022-10-01T03:53:17.762679",
     "status": "completed"
    },
    "tags": []
   },
   "outputs": [],
   "source": [
    "#hide_input\n",
    "sum_corr = df_all.corr().sum().sort_values(ascending=True).index.values\n",
    "#df_all[sum_corr].corr()"
   ]
  },
  {
   "cell_type": "markdown",
   "id": "complex-syndicate",
   "metadata": {
    "papermill": {
     "duration": 0.012695,
     "end_time": "2022-10-01T03:53:17.842212",
     "exception": false,
     "start_time": "2022-10-01T03:53:17.829517",
     "status": "completed"
    },
    "tags": []
   },
   "source": [
    "## Išplėstinė koreliacijų matrica. "
   ]
  },
  {
   "cell_type": "code",
   "execution_count": 7,
   "id": "atomic-omaha",
   "metadata": {
    "execution": {
     "iopub.execute_input": "2022-10-01T03:53:17.873173Z",
     "iopub.status.busy": "2022-10-01T03:53:17.872395Z",
     "iopub.status.idle": "2022-10-01T03:53:19.294751Z",
     "shell.execute_reply": "2022-10-01T03:53:19.294059Z"
    },
    "papermill": {
     "duration": 1.439998,
     "end_time": "2022-10-01T03:53:19.294887",
     "exception": false,
     "start_time": "2022-10-01T03:53:17.854889",
     "status": "completed"
    },
    "tags": []
   },
   "outputs": [
    {
     "data": {
      "image/png": "[encoded data removed]",
      "text/plain": [
       "<Figure size 1080x792 with 2 Axes>"
      ]
     },
     "metadata": {
      "needs_background": "light"
     },
     "output_type": "display_data"
    }
   ],
   "source": [
    "#hide_input\n",
    "plt.figure(figsize=(15, 11))\n",
    "sns.heatmap(df_all[sum_corr].corr(), annot=True, cmap=\"cubehelix\") \n",
    "sns.set(font_scale=1.25)\n",
    "plt.savefig('corr_matrix.png', format='eps')"
   ]
  },
  {
   "cell_type": "code",
   "execution_count": 8,
   "id": "arbitrary-sullivan",
   "metadata": {
    "execution": {
     "iopub.execute_input": "2022-10-01T03:53:19.332650Z",
     "iopub.status.busy": "2022-10-01T03:53:19.331912Z",
     "iopub.status.idle": "2022-10-01T03:53:19.362964Z",
     "shell.execute_reply": "2022-10-01T03:53:19.362275Z"
    },
    "papermill": {
     "duration": 0.052828,
     "end_time": "2022-10-01T03:53:19.363096",
     "exception": false,
     "start_time": "2022-10-01T03:53:19.310268",
     "status": "completed"
    },
    "tags": []
   },
   "outputs": [],
   "source": [
    "#hide\n",
    "#df_all_mrk = read_api()"
   ]
  },
  {
   "cell_type": "code",
   "execution_count": 9,
   "id": "delayed-adapter",
   "metadata": {
    "execution": {
     "iopub.execute_input": "2022-10-01T03:53:19.396864Z",
     "iopub.status.busy": "2022-10-01T03:53:19.396137Z",
     "iopub.status.idle": "2022-10-01T03:53:19.427360Z",
     "shell.execute_reply": "2022-10-01T03:53:19.426700Z"
    },
    "papermill": {
     "duration": 0.049423,
     "end_time": "2022-10-01T03:53:19.427521",
     "exception": false,
     "start_time": "2022-10-01T03:53:19.378098",
     "status": "completed"
    },
    "tags": []
   },
   "outputs": [],
   "source": [
    "#hide\n",
    "#Koreliacijų koeficientai"
   ]
  },
  {
   "cell_type": "code",
   "execution_count": 10,
   "id": "seeing-celebration",
   "metadata": {
    "execution": {
     "iopub.execute_input": "2022-10-01T03:53:19.462152Z",
     "iopub.status.busy": "2022-10-01T03:53:19.461461Z",
     "iopub.status.idle": "2022-10-01T03:53:19.493416Z",
     "shell.execute_reply": "2022-10-01T03:53:19.492818Z"
    },
    "papermill": {
     "duration": 0.050351,
     "end_time": "2022-10-01T03:53:19.493539",
     "exception": false,
     "start_time": "2022-10-01T03:53:19.443188",
     "status": "completed"
    },
    "tags": []
   },
   "outputs": [],
   "source": [
    "#hide_input\n",
    "#sum_corr = df_all_mrk.corr().sum().sort_values(ascending=True).index.values\n",
    "#df_all_mrk[sum_corr].corr()"
   ]
  },
  {
   "cell_type": "code",
   "execution_count": 11,
   "id": "other-painting",
   "metadata": {
    "execution": {
     "iopub.execute_input": "2022-10-01T03:53:19.528867Z",
     "iopub.status.busy": "2022-10-01T03:53:19.527866Z",
     "iopub.status.idle": "2022-10-01T03:53:19.559218Z",
     "shell.execute_reply": "2022-10-01T03:53:19.558356Z"
    },
    "papermill": {
     "duration": 0.050809,
     "end_time": "2022-10-01T03:53:19.559395",
     "exception": false,
     "start_time": "2022-10-01T03:53:19.508586",
     "status": "completed"
    },
    "tags": []
   },
   "outputs": [],
   "source": [
    "#hide\n",
    "#Koreliacijos matrica. "
   ]
  },
  {
   "cell_type": "code",
   "execution_count": 12,
   "id": "modular-magnitude",
   "metadata": {
    "execution": {
     "iopub.execute_input": "2022-10-01T03:53:19.600410Z",
     "iopub.status.busy": "2022-10-01T03:53:19.599223Z",
     "iopub.status.idle": "2022-10-01T03:53:19.630929Z",
     "shell.execute_reply": "2022-10-01T03:53:19.629640Z"
    },
    "papermill": {
     "duration": 0.054316,
     "end_time": "2022-10-01T03:53:19.631081",
     "exception": false,
     "start_time": "2022-10-01T03:53:19.576765",
     "status": "completed"
    },
    "tags": []
   },
   "outputs": [],
   "source": [
    "#hide_input\n",
    "#plt.figure(figsize=(15, 8))\n",
    "#sns.heatmap(df_all_mrk[sum_corr].corr(), annot=True, cmap=\"BrBG\");\n",
    "#plt.savefig('corr_matrix_all.eps', format='eps')"
   ]
  },
  {
   "cell_type": "code",
   "execution_count": null,
   "id": "original-senator",
   "metadata": {
    "papermill": {
     "duration": 0.015319,
     "end_time": "2022-10-01T03:53:19.662443",
     "exception": false,
     "start_time": "2022-10-01T03:53:19.647124",
     "status": "completed"
    },
    "tags": []
   },
   "outputs": [],
   "source": []
  },
  {
   "cell_type": "code",
   "execution_count": null,
   "id": "saving-secretariat",
   "metadata": {
    "papermill": {
     "duration": 0.015382,
     "end_time": "2022-10-01T03:53:19.692971",
     "exception": false,
     "start_time": "2022-10-01T03:53:19.677589",
     "status": "completed"
    },
    "tags": []
   },
   "outputs": [],
   "source": []
  }
 ],
 "metadata": {
  "kernelspec": {
   "display_name": "Python 3",
   "language": "python",
   "name": "python3"
  },
  "language_info": {
   "codemirror_mode": {
    "name": "ipython",
    "version": 3
   },
   "file_extension": ".py",
   "mimetype": "text/x-python",
   "name": "python",
   "nbconvert_exporter": "python",
   "pygments_lexer": "ipython3",
   "version": "3.6.15"
  },
  "papermill": {
   "default_parameters": {},
   "duration": 21.6467,
   "end_time": "2022-10-01T03:53:20.330286",
   "environment_variables": {},
   "exception": null,
   "input_path": "App-Correlation_charts.ipynb",
   "output_path": "App-Correlation_charts.ipynb",
   "parameters": {},
   "start_time": "2022-10-01T03:52:58.683586",
   "version": "2.2.2"
  }
 },
 "nbformat": 4,
 "nbformat_minor": 5
}