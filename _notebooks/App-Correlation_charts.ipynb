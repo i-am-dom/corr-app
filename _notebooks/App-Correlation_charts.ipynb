{
 "cells": [
  {
   "cell_type": "markdown",
   "id": "touched-facility",
   "metadata": {
    "papermill": {
     "duration": 0.015199,
     "end_time": "2021-08-14T01:51:50.339300",
     "exception": false,
     "start_time": "2021-08-14T01:51:50.324101",
     "status": "completed"
    },
    "tags": []
   },
   "source": [
    "# Koreliacijų matrica\n",
    "> Išplėstinė koreliacijų matrica. \n",
    "\n",
    "- toc: true \n",
    "- badges: true\n",
    "- comments: false\n",
    "- categories: [Dominykas Tautkus]\n",
    "- image: images/matrix.png"
   ]
  },
  {
   "cell_type": "code",
   "execution_count": null,
   "id": "premium-weekend",
   "metadata": {
    "papermill": {
     "duration": 0.010434,
     "end_time": "2021-08-14T01:51:50.360915",
     "exception": false,
     "start_time": "2021-08-14T01:51:50.350481",
     "status": "completed"
    },
    "tags": []
   },
   "outputs": [],
   "source": []
  },
  {
   "cell_type": "code",
   "execution_count": 1,
   "id": "vertical-rebate",
   "metadata": {
    "execution": {
     "iopub.execute_input": "2021-08-14T01:51:50.393178Z",
     "iopub.status.busy": "2021-08-14T01:51:50.391756Z",
     "iopub.status.idle": "2021-08-14T01:51:50.401538Z",
     "shell.execute_reply": "2021-08-14T01:51:50.401919Z"
    },
    "papermill": {
     "duration": 0.030638,
     "end_time": "2021-08-14T01:51:50.402047",
     "exception": false,
     "start_time": "2021-08-14T01:51:50.371409",
     "status": "completed"
    },
    "tags": []
   },
   "outputs": [],
   "source": [
    "#hide\n",
    "%load_ext autoreload\n",
    "%autoreload 2"
   ]
  },
  {
   "cell_type": "code",
   "execution_count": 2,
   "id": "overall-advancement",
   "metadata": {
    "execution": {
     "iopub.execute_input": "2021-08-14T01:51:50.425863Z",
     "iopub.status.busy": "2021-08-14T01:51:50.425371Z",
     "iopub.status.idle": "2021-08-14T01:51:51.480088Z",
     "shell.execute_reply": "2021-08-14T01:51:51.479577Z"
    },
    "papermill": {
     "duration": 1.067661,
     "end_time": "2021-08-14T01:51:51.480222",
     "exception": false,
     "start_time": "2021-08-14T01:51:50.412561",
     "status": "completed"
    },
    "tags": []
   },
   "outputs": [],
   "source": [
    "#hide\n",
    "from scripts.read_data import read_api\n",
    "from IPython.display import HTML\n",
    "import plotly.graph_objects as go\n"
   ]
  },
  {
   "cell_type": "code",
   "execution_count": 3,
   "id": "light-crazy",
   "metadata": {
    "execution": {
     "iopub.execute_input": "2021-08-14T01:51:51.509517Z",
     "iopub.status.busy": "2021-08-14T01:51:51.509003Z",
     "iopub.status.idle": "2021-08-14T01:51:51.526415Z",
     "shell.execute_reply": "2021-08-14T01:51:51.526816Z"
    },
    "papermill": {
     "duration": 0.034817,
     "end_time": "2021-08-14T01:51:51.526938",
     "exception": false,
     "start_time": "2021-08-14T01:51:51.492121",
     "status": "completed"
    },
    "tags": []
   },
   "outputs": [],
   "source": [
    "#hide\n",
    "### ICO koreliacija"
   ]
  },
  {
   "cell_type": "code",
   "execution_count": 4,
   "id": "likely-bahrain",
   "metadata": {
    "execution": {
     "iopub.execute_input": "2021-08-14T01:51:51.560182Z",
     "iopub.status.busy": "2021-08-14T01:51:51.559377Z",
     "iopub.status.idle": "2021-08-14T01:51:52.318862Z",
     "shell.execute_reply": "2021-08-14T01:51:52.318319Z"
    },
    "papermill": {
     "duration": 0.78158,
     "end_time": "2021-08-14T01:51:52.319002",
     "exception": false,
     "start_time": "2021-08-14T01:51:51.537422",
     "status": "completed"
    },
    "tags": []
   },
   "outputs": [],
   "source": [
    "#hide\n",
    "import matplotlib.pyplot as plt\n",
    "import numpy as np\n",
    "import pandas as pd\n",
    "import seaborn as sns\n",
    "import matplotlib.pyplot as plt \n",
    "import matplotlib.dates as mdates\n",
    "import matplotlib.pyplot as plt"
   ]
  },
  {
   "cell_type": "code",
   "execution_count": 5,
   "id": "superior-blanket",
   "metadata": {
    "execution": {
     "iopub.execute_input": "2021-08-14T01:51:52.349240Z",
     "iopub.status.busy": "2021-08-14T01:51:52.348721Z",
     "iopub.status.idle": "2021-08-14T01:52:23.915008Z",
     "shell.execute_reply": "2021-08-14T01:52:23.914484Z"
    },
    "papermill": {
     "duration": 31.585236,
     "end_time": "2021-08-14T01:52:23.915145",
     "exception": false,
     "start_time": "2021-08-14T01:51:52.329909",
     "status": "completed"
    },
    "tags": []
   },
   "outputs": [
    {
     "name": "stderr",
     "output_type": "stream",
     "text": [
      "/home/runner/work/corr-app/corr-app/_notebooks/scripts/read_data.py:187: SettingWithCopyWarning:\n",
      "\n",
      "\n",
      "A value is trying to be set on a copy of a slice from a DataFrame.\n",
      "Try using .loc[row_indexer,col_indexer] = value instead\n",
      "\n",
      "See the caveats in the documentation: https://pandas.pydata.org/pandas-docs/stable/user_guide/indexing.html#returning-a-view-versus-a-copy\n",
      "\n"
     ]
    },
    {
     "name": "stderr",
     "output_type": "stream",
     "text": [
      "/home/runner/work/corr-app/corr-app/_notebooks/scripts/read_data.py:215: SettingWithCopyWarning:\n",
      "\n",
      "\n",
      "A value is trying to be set on a copy of a slice from a DataFrame.\n",
      "Try using .loc[row_indexer,col_indexer] = value instead\n",
      "\n",
      "See the caveats in the documentation: https://pandas.pydata.org/pandas-docs/stable/user_guide/indexing.html#returning-a-view-versus-a-copy\n",
      "\n"
     ]
    }
   ],
   "source": [
    "#hide\n",
    "df_all = read_api()\n",
    "#df_all = df_all.drop(['SP500', 'XAU', 'ETH', 'BTC'], axis=1)\n",
    "\n"
   ]
  },
  {
   "cell_type": "code",
   "execution_count": 6,
   "id": "mature-alert",
   "metadata": {
    "execution": {
     "iopub.execute_input": "2021-08-14T01:52:23.948156Z",
     "iopub.status.busy": "2021-08-14T01:52:23.946856Z",
     "iopub.status.idle": "2021-08-14T01:52:23.971953Z",
     "shell.execute_reply": "2021-08-14T01:52:23.971488Z"
    },
    "papermill": {
     "duration": 0.045255,
     "end_time": "2021-08-14T01:52:23.972073",
     "exception": false,
     "start_time": "2021-08-14T01:52:23.926818",
     "status": "completed"
    },
    "tags": []
   },
   "outputs": [],
   "source": [
    "#hide_input\n",
    "sum_corr = df_all.corr().sum().sort_values(ascending=True).index.values\n",
    "#df_all[sum_corr].corr()"
   ]
  },
  {
   "cell_type": "markdown",
   "id": "complex-syndicate",
   "metadata": {
    "papermill": {
     "duration": 0.01107,
     "end_time": "2021-08-14T01:52:23.995074",
     "exception": false,
     "start_time": "2021-08-14T01:52:23.984004",
     "status": "completed"
    },
    "tags": []
   },
   "source": [
    "## Išplėstinė koreliacijų matrica. "
   ]
  },
  {
   "cell_type": "code",
   "execution_count": 7,
   "id": "atomic-omaha",
   "metadata": {
    "execution": {
     "iopub.execute_input": "2021-08-14T01:52:24.029688Z",
     "iopub.status.busy": "2021-08-14T01:52:24.020172Z",
     "iopub.status.idle": "2021-08-14T01:52:25.147767Z",
     "shell.execute_reply": "2021-08-14T01:52:25.147331Z"
    },
    "papermill": {
     "duration": 1.141759,
     "end_time": "2021-08-14T01:52:25.147879",
     "exception": false,
     "start_time": "2021-08-14T01:52:24.006120",
     "status": "completed"
    },
    "tags": []
   },
   "outputs": [
    {
     "data": {
      "image/png": "[encoded data removed]",
      "text/plain": [
       "<Figure size 1080x792 with 2 Axes>"
      ]
     },
     "metadata": {
      "needs_background": "light"
     },
     "output_type": "display_data"
    }
   ],
   "source": [
    "#hide_input\n",
    "plt.figure(figsize=(15, 11))\n",
    "sns.heatmap(df_all[sum_corr].corr(), annot=True, cmap=\"cubehelix\") \n",
    "sns.set(font_scale=1.25)\n",
    "plt.savefig('corr_matrix.png', format='eps')"
   ]
  },
  {
   "cell_type": "code",
   "execution_count": 8,
   "id": "arbitrary-sullivan",
   "metadata": {
    "execution": {
     "iopub.execute_input": "2021-08-14T01:52:25.179596Z",
     "iopub.status.busy": "2021-08-14T01:52:25.176935Z",
     "iopub.status.idle": "2021-08-14T01:52:25.201013Z",
     "shell.execute_reply": "2021-08-14T01:52:25.200459Z"
    },
    "papermill": {
     "duration": 0.039847,
     "end_time": "2021-08-14T01:52:25.201129",
     "exception": false,
     "start_time": "2021-08-14T01:52:25.161282",
     "status": "completed"
    },
    "tags": []
   },
   "outputs": [],
   "source": [
    "#hide\n",
    "#df_all_mrk = read_api()"
   ]
  },
  {
   "cell_type": "code",
   "execution_count": 9,
   "id": "delayed-adapter",
   "metadata": {
    "execution": {
     "iopub.execute_input": "2021-08-14T01:52:25.234835Z",
     "iopub.status.busy": "2021-08-14T01:52:25.234316Z",
     "iopub.status.idle": "2021-08-14T01:52:25.255118Z",
     "shell.execute_reply": "2021-08-14T01:52:25.254626Z"
    },
    "papermill": {
     "duration": 0.040783,
     "end_time": "2021-08-14T01:52:25.255230",
     "exception": false,
     "start_time": "2021-08-14T01:52:25.214447",
     "status": "completed"
    },
    "tags": []
   },
   "outputs": [],
   "source": [
    "#hide\n",
    "#Koreliacijų koeficientai"
   ]
  },
  {
   "cell_type": "code",
   "execution_count": 10,
   "id": "seeing-celebration",
   "metadata": {
    "execution": {
     "iopub.execute_input": "2021-08-14T01:52:25.299524Z",
     "iopub.status.busy": "2021-08-14T01:52:25.292098Z",
     "iopub.status.idle": "2021-08-14T01:52:25.310302Z",
     "shell.execute_reply": "2021-08-14T01:52:25.309885Z"
    },
    "papermill": {
     "duration": 0.041258,
     "end_time": "2021-08-14T01:52:25.310399",
     "exception": false,
     "start_time": "2021-08-14T01:52:25.269141",
     "status": "completed"
    },
    "tags": []
   },
   "outputs": [],
   "source": [
    "#hide_input\n",
    "#sum_corr = df_all_mrk.corr().sum().sort_values(ascending=True).index.values\n",
    "#df_all_mrk[sum_corr].corr()"
   ]
  },
  {
   "cell_type": "code",
   "execution_count": 11,
   "id": "other-painting",
   "metadata": {
    "execution": {
     "iopub.execute_input": "2021-08-14T01:52:25.347486Z",
     "iopub.status.busy": "2021-08-14T01:52:25.345333Z",
     "iopub.status.idle": "2021-08-14T01:52:25.363922Z",
     "shell.execute_reply": "2021-08-14T01:52:25.363283Z"
    },
    "papermill": {
     "duration": 0.040728,
     "end_time": "2021-08-14T01:52:25.364019",
     "exception": false,
     "start_time": "2021-08-14T01:52:25.323291",
     "status": "completed"
    },
    "tags": []
   },
   "outputs": [],
   "source": [
    "#hide\n",
    "#Koreliacijos matrica. "
   ]
  },
  {
   "cell_type": "code",
   "execution_count": 12,
   "id": "modular-magnitude",
   "metadata": {
    "execution": {
     "iopub.execute_input": "2021-08-14T01:52:25.396261Z",
     "iopub.status.busy": "2021-08-14T01:52:25.395767Z",
     "iopub.status.idle": "2021-08-14T01:52:25.415695Z",
     "shell.execute_reply": "2021-08-14T01:52:25.416072Z"
    },
    "papermill": {
     "duration": 0.039122,
     "end_time": "2021-08-14T01:52:25.416181",
     "exception": false,
     "start_time": "2021-08-14T01:52:25.377059",
     "status": "completed"
    },
    "tags": []
   },
   "outputs": [],
   "source": [
    "#hide_input\n",
    "#plt.figure(figsize=(15, 8))\n",
    "#sns.heatmap(df_all_mrk[sum_corr].corr(), annot=True, cmap=\"BrBG\");\n",
    "#plt.savefig('corr_matrix_all.eps', format='eps')"
   ]
  },
  {
   "cell_type": "code",
   "execution_count": null,
   "id": "original-senator",
   "metadata": {
    "papermill": {
     "duration": 0.012789,
     "end_time": "2021-08-14T01:52:25.441853",
     "exception": false,
     "start_time": "2021-08-14T01:52:25.429064",
     "status": "completed"
    },
    "tags": []
   },
   "outputs": [],
   "source": []
  },
  {
   "cell_type": "code",
   "execution_count": null,
   "id": "saving-secretariat",
   "metadata": {
    "papermill": {
     "duration": 0.012943,
     "end_time": "2021-08-14T01:52:25.467651",
     "exception": false,
     "start_time": "2021-08-14T01:52:25.454708",
     "status": "completed"
    },
    "tags": []
   },
   "outputs": [],
   "source": []
  }
 ],
 "metadata": {
  "kernelspec": {
   "display_name": "Python 3",
   "language": "python",
   "name": "python3"
  },
  "language_info": {
   "codemirror_mode": {
    "name": "ipython",
    "version": 3
   },
   "file_extension": ".py",
   "mimetype": "text/x-python",
   "name": "python",
   "nbconvert_exporter": "python",
   "pygments_lexer": "ipython3",
   "version": "3.6.14"
  },
  "papermill": {
   "default_parameters": {},
   "duration": 36.584586,
   "end_time": "2021-08-14T01:52:25.886805",
   "environment_variables": {},
   "exception": null,
   "input_path": "App-Correlation_charts.ipynb",
   "output_path": "App-Correlation_charts.ipynb",
   "parameters": {},
   "start_time": "2021-08-14T01:51:49.302219",
   "version": "2.2.2"
  }
 },
 "nbformat": 4,
 "nbformat_minor": 5
}