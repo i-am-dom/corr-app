{
 "cells": [
  {
   "cell_type": "markdown",
   "id": "touched-facility",
   "metadata": {
    "papermill": {
     "duration": 0.014989,
     "end_time": "2022-07-15T03:23:26.249770",
     "exception": false,
     "start_time": "2022-07-15T03:23:26.234781",
     "status": "completed"
    },
    "tags": []
   },
   "source": [
    "# Koreliacijų matrica\n",
    "> Išplėstinė koreliacijų matrica. \n",
    "\n",
    "- toc: true \n",
    "- badges: true\n",
    "- comments: false\n",
    "- categories: [Dominykas Tautkus]\n",
    "- image: images/matrix.png"
   ]
  },
  {
   "cell_type": "code",
   "execution_count": null,
   "id": "premium-weekend",
   "metadata": {
    "papermill": {
     "duration": 0.010638,
     "end_time": "2022-07-15T03:23:26.271691",
     "exception": false,
     "start_time": "2022-07-15T03:23:26.261053",
     "status": "completed"
    },
    "tags": []
   },
   "outputs": [],
   "source": []
  },
  {
   "cell_type": "code",
   "execution_count": 1,
   "id": "vertical-rebate",
   "metadata": {
    "execution": {
     "iopub.execute_input": "2022-07-15T03:23:26.303533Z",
     "iopub.status.busy": "2022-07-15T03:23:26.302939Z",
     "iopub.status.idle": "2022-07-15T03:23:26.313122Z",
     "shell.execute_reply": "2022-07-15T03:23:26.313633Z"
    },
    "papermill": {
     "duration": 0.031546,
     "end_time": "2022-07-15T03:23:26.313777",
     "exception": false,
     "start_time": "2022-07-15T03:23:26.282231",
     "status": "completed"
    },
    "tags": []
   },
   "outputs": [],
   "source": [
    "#hide\n",
    "%load_ext autoreload\n",
    "%autoreload 2"
   ]
  },
  {
   "cell_type": "code",
   "execution_count": 2,
   "id": "overall-advancement",
   "metadata": {
    "execution": {
     "iopub.execute_input": "2022-07-15T03:23:26.339925Z",
     "iopub.status.busy": "2022-07-15T03:23:26.339341Z",
     "iopub.status.idle": "2022-07-15T03:23:27.657320Z",
     "shell.execute_reply": "2022-07-15T03:23:27.656691Z"
    },
    "papermill": {
     "duration": 1.333169,
     "end_time": "2022-07-15T03:23:27.657461",
     "exception": false,
     "start_time": "2022-07-15T03:23:26.324292",
     "status": "completed"
    },
    "tags": []
   },
   "outputs": [],
   "source": [
    "#hide\n",
    "from scripts.read_data import read_api\n",
    "from IPython.display import HTML\n",
    "import plotly.graph_objects as go\n"
   ]
  },
  {
   "cell_type": "code",
   "execution_count": 3,
   "id": "light-crazy",
   "metadata": {
    "execution": {
     "iopub.execute_input": "2022-07-15T03:23:27.688461Z",
     "iopub.status.busy": "2022-07-15T03:23:27.687834Z",
     "iopub.status.idle": "2022-07-15T03:23:27.708515Z",
     "shell.execute_reply": "2022-07-15T03:23:27.707735Z"
    },
    "papermill": {
     "duration": 0.040201,
     "end_time": "2022-07-15T03:23:27.708629",
     "exception": false,
     "start_time": "2022-07-15T03:23:27.668428",
     "status": "completed"
    },
    "tags": []
   },
   "outputs": [],
   "source": [
    "#hide\n",
    "### ICO koreliacija"
   ]
  },
  {
   "cell_type": "code",
   "execution_count": 4,
   "id": "likely-bahrain",
   "metadata": {
    "execution": {
     "iopub.execute_input": "2022-07-15T03:23:27.734284Z",
     "iopub.status.busy": "2022-07-15T03:23:27.733686Z",
     "iopub.status.idle": "2022-07-15T03:23:28.558263Z",
     "shell.execute_reply": "2022-07-15T03:23:28.558799Z"
    },
    "papermill": {
     "duration": 0.839412,
     "end_time": "2022-07-15T03:23:28.558962",
     "exception": false,
     "start_time": "2022-07-15T03:23:27.719550",
     "status": "completed"
    },
    "tags": []
   },
   "outputs": [],
   "source": [
    "#hide\n",
    "import matplotlib.pyplot as plt\n",
    "import numpy as np\n",
    "import pandas as pd\n",
    "import seaborn as sns\n",
    "import matplotlib.pyplot as plt \n",
    "import matplotlib.dates as mdates\n",
    "import matplotlib.pyplot as plt"
   ]
  },
  {
   "cell_type": "code",
   "execution_count": 5,
   "id": "superior-blanket",
   "metadata": {
    "execution": {
     "iopub.execute_input": "2022-07-15T03:23:28.591971Z",
     "iopub.status.busy": "2022-07-15T03:23:28.589092Z",
     "iopub.status.idle": "2022-07-15T03:23:38.281368Z",
     "shell.execute_reply": "2022-07-15T03:23:38.280796Z"
    },
    "papermill": {
     "duration": 9.710839,
     "end_time": "2022-07-15T03:23:38.281492",
     "exception": false,
     "start_time": "2022-07-15T03:23:28.570653",
     "status": "completed"
    },
    "tags": []
   },
   "outputs": [
    {
     "name": "stderr",
     "output_type": "stream",
     "text": [
      "/home/runner/work/corr-app/corr-app/_notebooks/scripts/read_data.py:187: SettingWithCopyWarning:\n",
      "\n",
      "\n",
      "A value is trying to be set on a copy of a slice from a DataFrame.\n",
      "Try using .loc[row_indexer,col_indexer] = value instead\n",
      "\n",
      "See the caveats in the documentation: https://pandas.pydata.org/pandas-docs/stable/user_guide/indexing.html#returning-a-view-versus-a-copy\n",
      "\n"
     ]
    },
    {
     "name": "stderr",
     "output_type": "stream",
     "text": [
      "/home/runner/work/corr-app/corr-app/_notebooks/scripts/read_data.py:215: SettingWithCopyWarning:\n",
      "\n",
      "\n",
      "A value is trying to be set on a copy of a slice from a DataFrame.\n",
      "Try using .loc[row_indexer,col_indexer] = value instead\n",
      "\n",
      "See the caveats in the documentation: https://pandas.pydata.org/pandas-docs/stable/user_guide/indexing.html#returning-a-view-versus-a-copy\n",
      "\n"
     ]
    }
   ],
   "source": [
    "#hide\n",
    "df_all = read_api()\n",
    "#df_all = df_all.drop(['SP500', 'XAU', 'ETH', 'BTC'], axis=1)\n",
    "\n"
   ]
  },
  {
   "cell_type": "code",
   "execution_count": 6,
   "id": "mature-alert",
   "metadata": {
    "execution": {
     "iopub.execute_input": "2022-07-15T03:23:38.320798Z",
     "iopub.status.busy": "2022-07-15T03:23:38.319888Z",
     "iopub.status.idle": "2022-07-15T03:23:38.343215Z",
     "shell.execute_reply": "2022-07-15T03:23:38.342371Z"
    },
    "papermill": {
     "duration": 0.050396,
     "end_time": "2022-07-15T03:23:38.343341",
     "exception": false,
     "start_time": "2022-07-15T03:23:38.292945",
     "status": "completed"
    },
    "tags": []
   },
   "outputs": [],
   "source": [
    "#hide_input\n",
    "sum_corr = df_all.corr().sum().sort_values(ascending=True).index.values\n",
    "#df_all[sum_corr].corr()"
   ]
  },
  {
   "cell_type": "markdown",
   "id": "complex-syndicate",
   "metadata": {
    "papermill": {
     "duration": 0.012292,
     "end_time": "2022-07-15T03:23:38.366953",
     "exception": false,
     "start_time": "2022-07-15T03:23:38.354661",
     "status": "completed"
    },
    "tags": []
   },
   "source": [
    "## Išplėstinė koreliacijų matrica. "
   ]
  },
  {
   "cell_type": "code",
   "execution_count": 7,
   "id": "atomic-omaha",
   "metadata": {
    "execution": {
     "iopub.execute_input": "2022-07-15T03:23:38.398076Z",
     "iopub.status.busy": "2022-07-15T03:23:38.393253Z",
     "iopub.status.idle": "2022-07-15T03:23:39.648743Z",
     "shell.execute_reply": "2022-07-15T03:23:39.649214Z"
    },
    "papermill": {
     "duration": 1.271233,
     "end_time": "2022-07-15T03:23:39.649371",
     "exception": false,
     "start_time": "2022-07-15T03:23:38.378138",
     "status": "completed"
    },
    "tags": []
   },
   "outputs": [
    {
     "data": {
      "image/png": "[encoded data removed]",
      "text/plain": [
       "<Figure size 1080x792 with 2 Axes>"
      ]
     },
     "metadata": {
      "needs_background": "light"
     },
     "output_type": "display_data"
    }
   ],
   "source": [
    "#hide_input\n",
    "plt.figure(figsize=(15, 11))\n",
    "sns.heatmap(df_all[sum_corr].corr(), annot=True, cmap=\"cubehelix\") \n",
    "sns.set(font_scale=1.25)\n",
    "plt.savefig('corr_matrix.png', format='eps')"
   ]
  },
  {
   "cell_type": "code",
   "execution_count": 8,
   "id": "arbitrary-sullivan",
   "metadata": {
    "execution": {
     "iopub.execute_input": "2022-07-15T03:23:39.683701Z",
     "iopub.status.busy": "2022-07-15T03:23:39.678891Z",
     "iopub.status.idle": "2022-07-15T03:23:39.706931Z",
     "shell.execute_reply": "2022-07-15T03:23:39.706250Z"
    },
    "papermill": {
     "duration": 0.044309,
     "end_time": "2022-07-15T03:23:39.707058",
     "exception": false,
     "start_time": "2022-07-15T03:23:39.662749",
     "status": "completed"
    },
    "tags": []
   },
   "outputs": [],
   "source": [
    "#hide\n",
    "#df_all_mrk = read_api()"
   ]
  },
  {
   "cell_type": "code",
   "execution_count": 9,
   "id": "delayed-adapter",
   "metadata": {
    "execution": {
     "iopub.execute_input": "2022-07-15T03:23:39.737228Z",
     "iopub.status.busy": "2022-07-15T03:23:39.736646Z",
     "iopub.status.idle": "2022-07-15T03:23:39.764384Z",
     "shell.execute_reply": "2022-07-15T03:23:39.763885Z"
    },
    "papermill": {
     "duration": 0.043751,
     "end_time": "2022-07-15T03:23:39.764498",
     "exception": false,
     "start_time": "2022-07-15T03:23:39.720747",
     "status": "completed"
    },
    "tags": []
   },
   "outputs": [],
   "source": [
    "#hide\n",
    "#Koreliacijų koeficientai"
   ]
  },
  {
   "cell_type": "code",
   "execution_count": 10,
   "id": "seeing-celebration",
   "metadata": {
    "execution": {
     "iopub.execute_input": "2022-07-15T03:23:39.816024Z",
     "iopub.status.busy": "2022-07-15T03:23:39.813168Z",
     "iopub.status.idle": "2022-07-15T03:23:39.840114Z",
     "shell.execute_reply": "2022-07-15T03:23:39.839626Z"
    },
    "papermill": {
     "duration": 0.056668,
     "end_time": "2022-07-15T03:23:39.840233",
     "exception": false,
     "start_time": "2022-07-15T03:23:39.783565",
     "status": "completed"
    },
    "tags": []
   },
   "outputs": [],
   "source": [
    "#hide_input\n",
    "#sum_corr = df_all_mrk.corr().sum().sort_values(ascending=True).index.values\n",
    "#df_all_mrk[sum_corr].corr()"
   ]
  },
  {
   "cell_type": "code",
   "execution_count": 11,
   "id": "other-painting",
   "metadata": {
    "execution": {
     "iopub.execute_input": "2022-07-15T03:23:39.896253Z",
     "iopub.status.busy": "2022-07-15T03:23:39.895624Z",
     "iopub.status.idle": "2022-07-15T03:23:39.921887Z",
     "shell.execute_reply": "2022-07-15T03:23:39.921355Z"
    },
    "papermill": {
     "duration": 0.068494,
     "end_time": "2022-07-15T03:23:39.922004",
     "exception": false,
     "start_time": "2022-07-15T03:23:39.853510",
     "status": "completed"
    },
    "tags": []
   },
   "outputs": [],
   "source": [
    "#hide\n",
    "#Koreliacijos matrica. "
   ]
  },
  {
   "cell_type": "code",
   "execution_count": 12,
   "id": "modular-magnitude",
   "metadata": {
    "execution": {
     "iopub.execute_input": "2022-07-15T03:23:39.991790Z",
     "iopub.status.busy": "2022-07-15T03:23:39.985051Z",
     "iopub.status.idle": "2022-07-15T03:23:40.013517Z",
     "shell.execute_reply": "2022-07-15T03:23:40.012877Z"
    },
    "papermill": {
     "duration": 0.071526,
     "end_time": "2022-07-15T03:23:40.013636",
     "exception": false,
     "start_time": "2022-07-15T03:23:39.942110",
     "status": "completed"
    },
    "tags": []
   },
   "outputs": [],
   "source": [
    "#hide_input\n",
    "#plt.figure(figsize=(15, 8))\n",
    "#sns.heatmap(df_all_mrk[sum_corr].corr(), annot=True, cmap=\"BrBG\");\n",
    "#plt.savefig('corr_matrix_all.eps', format='eps')"
   ]
  },
  {
   "cell_type": "code",
   "execution_count": null,
   "id": "original-senator",
   "metadata": {
    "papermill": {
     "duration": 0.100461,
     "end_time": "2022-07-15T03:23:40.145225",
     "exception": false,
     "start_time": "2022-07-15T03:23:40.044764",
     "status": "completed"
    },
    "tags": []
   },
   "outputs": [],
   "source": []
  },
  {
   "cell_type": "code",
   "execution_count": null,
   "id": "saving-secretariat",
   "metadata": {
    "papermill": {
     "duration": 0.096644,
     "end_time": "2022-07-15T03:23:40.346227",
     "exception": false,
     "start_time": "2022-07-15T03:23:40.249583",
     "status": "completed"
    },
    "tags": []
   },
   "outputs": [],
   "source": []
  }
 ],
 "metadata": {
  "kernelspec": {
   "display_name": "Python 3",
   "language": "python",
   "name": "python3"
  },
  "language_info": {
   "codemirror_mode": {
    "name": "ipython",
    "version": 3
   },
   "file_extension": ".py",
   "mimetype": "text/x-python",
   "name": "python",
   "nbconvert_exporter": "python",
   "pygments_lexer": "ipython3",
   "version": "3.6.15"
  },
  "papermill": {
   "default_parameters": {},
   "duration": 15.586244,
   "end_time": "2022-07-15T03:23:40.904528",
   "environment_variables": {},
   "exception": null,
   "input_path": "App-Correlation_charts.ipynb",
   "output_path": "App-Correlation_charts.ipynb",
   "parameters": {},
   "start_time": "2022-07-15T03:23:25.318284",
   "version": "2.2.2"
  }
 },
 "nbformat": 4,
 "nbformat_minor": 5
}