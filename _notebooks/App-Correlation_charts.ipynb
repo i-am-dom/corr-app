{
 "cells": [
  {
   "cell_type": "markdown",
   "id": "touched-facility",
   "metadata": {
    "papermill": {
     "duration": 0.014524,
     "end_time": "2022-05-19T03:03:15.614398",
     "exception": false,
     "start_time": "2022-05-19T03:03:15.599874",
     "status": "completed"
    },
    "tags": []
   },
   "source": [
    "# Koreliacijų matrica\n",
    "> Išplėstinė koreliacijų matrica. \n",
    "\n",
    "- toc: true \n",
    "- badges: true\n",
    "- comments: false\n",
    "- categories: [Dominykas Tautkus]\n",
    "- image: images/matrix.png"
   ]
  },
  {
   "cell_type": "code",
   "execution_count": null,
   "id": "premium-weekend",
   "metadata": {
    "papermill": {
     "duration": 0.011412,
     "end_time": "2022-05-19T03:03:15.637473",
     "exception": false,
     "start_time": "2022-05-19T03:03:15.626061",
     "status": "completed"
    },
    "tags": []
   },
   "outputs": [],
   "source": []
  },
  {
   "cell_type": "code",
   "execution_count": 1,
   "id": "vertical-rebate",
   "metadata": {
    "execution": {
     "iopub.execute_input": "2022-05-19T03:03:15.670788Z",
     "iopub.status.busy": "2022-05-19T03:03:15.670238Z",
     "iopub.status.idle": "2022-05-19T03:03:15.681739Z",
     "shell.execute_reply": "2022-05-19T03:03:15.681113Z"
    },
    "papermill": {
     "duration": 0.03341,
     "end_time": "2022-05-19T03:03:15.681885",
     "exception": false,
     "start_time": "2022-05-19T03:03:15.648475",
     "status": "completed"
    },
    "tags": []
   },
   "outputs": [],
   "source": [
    "#hide\n",
    "%load_ext autoreload\n",
    "%autoreload 2"
   ]
  },
  {
   "cell_type": "code",
   "execution_count": 2,
   "id": "overall-advancement",
   "metadata": {
    "execution": {
     "iopub.execute_input": "2022-05-19T03:03:15.718196Z",
     "iopub.status.busy": "2022-05-19T03:03:15.714284Z",
     "iopub.status.idle": "2022-05-19T03:03:16.955982Z",
     "shell.execute_reply": "2022-05-19T03:03:16.956419Z"
    },
    "papermill": {
     "duration": 1.261674,
     "end_time": "2022-05-19T03:03:16.956576",
     "exception": false,
     "start_time": "2022-05-19T03:03:15.694902",
     "status": "completed"
    },
    "tags": []
   },
   "outputs": [],
   "source": [
    "#hide\n",
    "from scripts.read_data import read_api\n",
    "from IPython.display import HTML\n",
    "import plotly.graph_objects as go\n"
   ]
  },
  {
   "cell_type": "code",
   "execution_count": 3,
   "id": "light-crazy",
   "metadata": {
    "execution": {
     "iopub.execute_input": "2022-05-19T03:03:16.984957Z",
     "iopub.status.busy": "2022-05-19T03:03:16.984253Z",
     "iopub.status.idle": "2022-05-19T03:03:17.009662Z",
     "shell.execute_reply": "2022-05-19T03:03:17.009187Z"
    },
    "papermill": {
     "duration": 0.041478,
     "end_time": "2022-05-19T03:03:17.009793",
     "exception": false,
     "start_time": "2022-05-19T03:03:16.968315",
     "status": "completed"
    },
    "tags": []
   },
   "outputs": [],
   "source": [
    "#hide\n",
    "### ICO koreliacija"
   ]
  },
  {
   "cell_type": "code",
   "execution_count": 4,
   "id": "likely-bahrain",
   "metadata": {
    "execution": {
     "iopub.execute_input": "2022-05-19T03:03:17.038010Z",
     "iopub.status.busy": "2022-05-19T03:03:17.037458Z",
     "iopub.status.idle": "2022-05-19T03:03:17.905041Z",
     "shell.execute_reply": "2022-05-19T03:03:17.905475Z"
    },
    "papermill": {
     "duration": 0.884699,
     "end_time": "2022-05-19T03:03:17.905637",
     "exception": false,
     "start_time": "2022-05-19T03:03:17.020938",
     "status": "completed"
    },
    "tags": []
   },
   "outputs": [],
   "source": [
    "#hide\n",
    "import matplotlib.pyplot as plt\n",
    "import numpy as np\n",
    "import pandas as pd\n",
    "import seaborn as sns\n",
    "import matplotlib.pyplot as plt \n",
    "import matplotlib.dates as mdates\n",
    "import matplotlib.pyplot as plt"
   ]
  },
  {
   "cell_type": "code",
   "execution_count": 5,
   "id": "superior-blanket",
   "metadata": {
    "execution": {
     "iopub.execute_input": "2022-05-19T03:03:17.936017Z",
     "iopub.status.busy": "2022-05-19T03:03:17.935451Z",
     "iopub.status.idle": "2022-05-19T03:03:32.617220Z",
     "shell.execute_reply": "2022-05-19T03:03:32.616744Z"
    },
    "papermill": {
     "duration": 14.700443,
     "end_time": "2022-05-19T03:03:32.617351",
     "exception": false,
     "start_time": "2022-05-19T03:03:17.916908",
     "status": "completed"
    },
    "tags": []
   },
   "outputs": [
    {
     "name": "stderr",
     "output_type": "stream",
     "text": [
      "/home/runner/work/corr-app/corr-app/_notebooks/scripts/read_data.py:187: SettingWithCopyWarning:\n",
      "\n",
      "\n",
      "A value is trying to be set on a copy of a slice from a DataFrame.\n",
      "Try using .loc[row_indexer,col_indexer] = value instead\n",
      "\n",
      "See the caveats in the documentation: https://pandas.pydata.org/pandas-docs/stable/user_guide/indexing.html#returning-a-view-versus-a-copy\n",
      "\n"
     ]
    },
    {
     "name": "stderr",
     "output_type": "stream",
     "text": [
      "/home/runner/work/corr-app/corr-app/_notebooks/scripts/read_data.py:215: SettingWithCopyWarning:\n",
      "\n",
      "\n",
      "A value is trying to be set on a copy of a slice from a DataFrame.\n",
      "Try using .loc[row_indexer,col_indexer] = value instead\n",
      "\n",
      "See the caveats in the documentation: https://pandas.pydata.org/pandas-docs/stable/user_guide/indexing.html#returning-a-view-versus-a-copy\n",
      "\n"
     ]
    }
   ],
   "source": [
    "#hide\n",
    "df_all = read_api()\n",
    "#df_all = df_all.drop(['SP500', 'XAU', 'ETH', 'BTC'], axis=1)\n",
    "\n"
   ]
  },
  {
   "cell_type": "code",
   "execution_count": 6,
   "id": "mature-alert",
   "metadata": {
    "execution": {
     "iopub.execute_input": "2022-05-19T03:03:32.645957Z",
     "iopub.status.busy": "2022-05-19T03:03:32.645413Z",
     "iopub.status.idle": "2022-05-19T03:03:32.677008Z",
     "shell.execute_reply": "2022-05-19T03:03:32.676477Z"
    },
    "papermill": {
     "duration": 0.047785,
     "end_time": "2022-05-19T03:03:32.677144",
     "exception": false,
     "start_time": "2022-05-19T03:03:32.629359",
     "status": "completed"
    },
    "tags": []
   },
   "outputs": [],
   "source": [
    "#hide_input\n",
    "sum_corr = df_all.corr().sum().sort_values(ascending=True).index.values\n",
    "#df_all[sum_corr].corr()"
   ]
  },
  {
   "cell_type": "markdown",
   "id": "complex-syndicate",
   "metadata": {
    "papermill": {
     "duration": 0.013131,
     "end_time": "2022-05-19T03:03:32.702205",
     "exception": false,
     "start_time": "2022-05-19T03:03:32.689074",
     "status": "completed"
    },
    "tags": []
   },
   "source": [
    "## Išplėstinė koreliacijų matrica. "
   ]
  },
  {
   "cell_type": "code",
   "execution_count": 7,
   "id": "atomic-omaha",
   "metadata": {
    "execution": {
     "iopub.execute_input": "2022-05-19T03:03:32.730750Z",
     "iopub.status.busy": "2022-05-19T03:03:32.730222Z",
     "iopub.status.idle": "2022-05-19T03:03:33.948015Z",
     "shell.execute_reply": "2022-05-19T03:03:33.948443Z"
    },
    "papermill": {
     "duration": 1.234585,
     "end_time": "2022-05-19T03:03:33.948592",
     "exception": false,
     "start_time": "2022-05-19T03:03:32.714007",
     "status": "completed"
    },
    "tags": []
   },
   "outputs": [
    {
     "data": {
      "image/png": "[encoded data removed]",
      "text/plain": [
       "<Figure size 1080x792 with 2 Axes>"
      ]
     },
     "metadata": {
      "needs_background": "light"
     },
     "output_type": "display_data"
    }
   ],
   "source": [
    "#hide_input\n",
    "plt.figure(figsize=(15, 11))\n",
    "sns.heatmap(df_all[sum_corr].corr(), annot=True, cmap=\"cubehelix\") \n",
    "sns.set(font_scale=1.25)\n",
    "plt.savefig('corr_matrix.png', format='eps')"
   ]
  },
  {
   "cell_type": "code",
   "execution_count": 8,
   "id": "arbitrary-sullivan",
   "metadata": {
    "execution": {
     "iopub.execute_input": "2022-05-19T03:03:33.984060Z",
     "iopub.status.busy": "2022-05-19T03:03:33.979624Z",
     "iopub.status.idle": "2022-05-19T03:03:34.008422Z",
     "shell.execute_reply": "2022-05-19T03:03:34.007860Z"
    },
    "papermill": {
     "duration": 0.046041,
     "end_time": "2022-05-19T03:03:34.008562",
     "exception": false,
     "start_time": "2022-05-19T03:03:33.962521",
     "status": "completed"
    },
    "tags": []
   },
   "outputs": [],
   "source": [
    "#hide\n",
    "#df_all_mrk = read_api()"
   ]
  },
  {
   "cell_type": "code",
   "execution_count": 9,
   "id": "delayed-adapter",
   "metadata": {
    "execution": {
     "iopub.execute_input": "2022-05-19T03:03:34.047363Z",
     "iopub.status.busy": "2022-05-19T03:03:34.046738Z",
     "iopub.status.idle": "2022-05-19T03:03:34.071943Z",
     "shell.execute_reply": "2022-05-19T03:03:34.071428Z"
    },
    "papermill": {
     "duration": 0.048724,
     "end_time": "2022-05-19T03:03:34.072086",
     "exception": false,
     "start_time": "2022-05-19T03:03:34.023362",
     "status": "completed"
    },
    "tags": []
   },
   "outputs": [],
   "source": [
    "#hide\n",
    "#Koreliacijų koeficientai"
   ]
  },
  {
   "cell_type": "code",
   "execution_count": 10,
   "id": "seeing-celebration",
   "metadata": {
    "execution": {
     "iopub.execute_input": "2022-05-19T03:03:34.108382Z",
     "iopub.status.busy": "2022-05-19T03:03:34.107780Z",
     "iopub.status.idle": "2022-05-19T03:03:34.134681Z",
     "shell.execute_reply": "2022-05-19T03:03:34.134217Z"
    },
    "papermill": {
     "duration": 0.046402,
     "end_time": "2022-05-19T03:03:34.134799",
     "exception": false,
     "start_time": "2022-05-19T03:03:34.088397",
     "status": "completed"
    },
    "tags": []
   },
   "outputs": [],
   "source": [
    "#hide_input\n",
    "#sum_corr = df_all_mrk.corr().sum().sort_values(ascending=True).index.values\n",
    "#df_all_mrk[sum_corr].corr()"
   ]
  },
  {
   "cell_type": "code",
   "execution_count": 11,
   "id": "other-painting",
   "metadata": {
    "execution": {
     "iopub.execute_input": "2022-05-19T03:03:34.180171Z",
     "iopub.status.busy": "2022-05-19T03:03:34.173783Z",
     "iopub.status.idle": "2022-05-19T03:03:34.198431Z",
     "shell.execute_reply": "2022-05-19T03:03:34.197986Z"
    },
    "papermill": {
     "duration": 0.050187,
     "end_time": "2022-05-19T03:03:34.198559",
     "exception": false,
     "start_time": "2022-05-19T03:03:34.148372",
     "status": "completed"
    },
    "tags": []
   },
   "outputs": [],
   "source": [
    "#hide\n",
    "#Koreliacijos matrica. "
   ]
  },
  {
   "cell_type": "code",
   "execution_count": 12,
   "id": "modular-magnitude",
   "metadata": {
    "execution": {
     "iopub.execute_input": "2022-05-19T03:03:34.236463Z",
     "iopub.status.busy": "2022-05-19T03:03:34.235914Z",
     "iopub.status.idle": "2022-05-19T03:03:34.259989Z",
     "shell.execute_reply": "2022-05-19T03:03:34.259513Z"
    },
    "papermill": {
     "duration": 0.047772,
     "end_time": "2022-05-19T03:03:34.260122",
     "exception": false,
     "start_time": "2022-05-19T03:03:34.212350",
     "status": "completed"
    },
    "tags": []
   },
   "outputs": [],
   "source": [
    "#hide_input\n",
    "#plt.figure(figsize=(15, 8))\n",
    "#sns.heatmap(df_all_mrk[sum_corr].corr(), annot=True, cmap=\"BrBG\");\n",
    "#plt.savefig('corr_matrix_all.eps', format='eps')"
   ]
  },
  {
   "cell_type": "code",
   "execution_count": null,
   "id": "original-senator",
   "metadata": {
    "papermill": {
     "duration": 0.013581,
     "end_time": "2022-05-19T03:03:34.287320",
     "exception": false,
     "start_time": "2022-05-19T03:03:34.273739",
     "status": "completed"
    },
    "tags": []
   },
   "outputs": [],
   "source": []
  },
  {
   "cell_type": "code",
   "execution_count": null,
   "id": "saving-secretariat",
   "metadata": {
    "papermill": {
     "duration": 0.013522,
     "end_time": "2022-05-19T03:03:34.314348",
     "exception": false,
     "start_time": "2022-05-19T03:03:34.300826",
     "status": "completed"
    },
    "tags": []
   },
   "outputs": [],
   "source": []
  }
 ],
 "metadata": {
  "kernelspec": {
   "display_name": "Python 3",
   "language": "python",
   "name": "python3"
  },
  "language_info": {
   "codemirror_mode": {
    "name": "ipython",
    "version": 3
   },
   "file_extension": ".py",
   "mimetype": "text/x-python",
   "name": "python",
   "nbconvert_exporter": "python",
   "pygments_lexer": "ipython3",
   "version": "3.6.15"
  },
  "papermill": {
   "default_parameters": {},
   "duration": 20.610993,
   "end_time": "2022-05-19T03:03:34.948441",
   "environment_variables": {},
   "exception": null,
   "input_path": "App-Correlation_charts.ipynb",
   "output_path": "App-Correlation_charts.ipynb",
   "parameters": {},
   "start_time": "2022-05-19T03:03:14.337448",
   "version": "2.2.2"
  }
 },
 "nbformat": 4,
 "nbformat_minor": 5
}