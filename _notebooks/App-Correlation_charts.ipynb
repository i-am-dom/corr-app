{
 "cells": [
  {
   "cell_type": "markdown",
   "id": "touched-facility",
   "metadata": {
    "papermill": {
     "duration": 0.01437,
     "end_time": "2022-01-26T02:04:58.047528",
     "exception": false,
     "start_time": "2022-01-26T02:04:58.033158",
     "status": "completed"
    },
    "tags": []
   },
   "source": [
    "# Koreliacijų matrica\n",
    "> Išplėstinė koreliacijų matrica. \n",
    "\n",
    "- toc: true \n",
    "- badges: true\n",
    "- comments: false\n",
    "- categories: [Dominykas Tautkus]\n",
    "- image: images/matrix.png"
   ]
  },
  {
   "cell_type": "code",
   "execution_count": null,
   "id": "premium-weekend",
   "metadata": {
    "papermill": {
     "duration": 0.010008,
     "end_time": "2022-01-26T02:04:58.067841",
     "exception": false,
     "start_time": "2022-01-26T02:04:58.057833",
     "status": "completed"
    },
    "tags": []
   },
   "outputs": [],
   "source": []
  },
  {
   "cell_type": "code",
   "execution_count": 1,
   "id": "vertical-rebate",
   "metadata": {
    "execution": {
     "iopub.execute_input": "2022-01-26T02:04:58.097076Z",
     "iopub.status.busy": "2022-01-26T02:04:58.096586Z",
     "iopub.status.idle": "2022-01-26T02:04:58.106250Z",
     "shell.execute_reply": "2022-01-26T02:04:58.106595Z"
    },
    "papermill": {
     "duration": 0.029241,
     "end_time": "2022-01-26T02:04:58.106723",
     "exception": false,
     "start_time": "2022-01-26T02:04:58.077482",
     "status": "completed"
    },
    "tags": []
   },
   "outputs": [],
   "source": [
    "#hide\n",
    "%load_ext autoreload\n",
    "%autoreload 2"
   ]
  },
  {
   "cell_type": "code",
   "execution_count": 2,
   "id": "overall-advancement",
   "metadata": {
    "execution": {
     "iopub.execute_input": "2022-01-26T02:04:58.128846Z",
     "iopub.status.busy": "2022-01-26T02:04:58.128376Z",
     "iopub.status.idle": "2022-01-26T02:04:59.223821Z",
     "shell.execute_reply": "2022-01-26T02:04:59.223288Z"
    },
    "papermill": {
     "duration": 1.107592,
     "end_time": "2022-01-26T02:04:59.223954",
     "exception": false,
     "start_time": "2022-01-26T02:04:58.116362",
     "status": "completed"
    },
    "tags": []
   },
   "outputs": [],
   "source": [
    "#hide\n",
    "from scripts.read_data import read_api\n",
    "from IPython.display import HTML\n",
    "import plotly.graph_objects as go\n"
   ]
  },
  {
   "cell_type": "code",
   "execution_count": 3,
   "id": "light-crazy",
   "metadata": {
    "execution": {
     "iopub.execute_input": "2022-01-26T02:04:59.253122Z",
     "iopub.status.busy": "2022-01-26T02:04:59.248307Z",
     "iopub.status.idle": "2022-01-26T02:04:59.270808Z",
     "shell.execute_reply": "2022-01-26T02:04:59.271171Z"
    },
    "papermill": {
     "duration": 0.036315,
     "end_time": "2022-01-26T02:04:59.271288",
     "exception": false,
     "start_time": "2022-01-26T02:04:59.234973",
     "status": "completed"
    },
    "tags": []
   },
   "outputs": [],
   "source": [
    "#hide\n",
    "### ICO koreliacija"
   ]
  },
  {
   "cell_type": "code",
   "execution_count": 4,
   "id": "likely-bahrain",
   "metadata": {
    "execution": {
     "iopub.execute_input": "2022-01-26T02:04:59.294742Z",
     "iopub.status.busy": "2022-01-26T02:04:59.294031Z",
     "iopub.status.idle": "2022-01-26T02:05:00.150010Z",
     "shell.execute_reply": "2022-01-26T02:05:00.149494Z"
    },
    "papermill": {
     "duration": 0.86919,
     "end_time": "2022-01-26T02:05:00.150144",
     "exception": false,
     "start_time": "2022-01-26T02:04:59.280954",
     "status": "completed"
    },
    "tags": []
   },
   "outputs": [],
   "source": [
    "#hide\n",
    "import matplotlib.pyplot as plt\n",
    "import numpy as np\n",
    "import pandas as pd\n",
    "import seaborn as sns\n",
    "import matplotlib.pyplot as plt \n",
    "import matplotlib.dates as mdates\n",
    "import matplotlib.pyplot as plt"
   ]
  },
  {
   "cell_type": "code",
   "execution_count": 5,
   "id": "superior-blanket",
   "metadata": {
    "execution": {
     "iopub.execute_input": "2022-01-26T02:05:00.174930Z",
     "iopub.status.busy": "2022-01-26T02:05:00.174468Z",
     "iopub.status.idle": "2022-01-26T02:05:14.480236Z",
     "shell.execute_reply": "2022-01-26T02:05:14.479735Z"
    },
    "papermill": {
     "duration": 14.31961,
     "end_time": "2022-01-26T02:05:14.480355",
     "exception": false,
     "start_time": "2022-01-26T02:05:00.160745",
     "status": "completed"
    },
    "tags": []
   },
   "outputs": [
    {
     "name": "stderr",
     "output_type": "stream",
     "text": [
      "/home/runner/work/corr-app/corr-app/_notebooks/scripts/read_data.py:187: SettingWithCopyWarning:\n",
      "\n",
      "\n",
      "A value is trying to be set on a copy of a slice from a DataFrame.\n",
      "Try using .loc[row_indexer,col_indexer] = value instead\n",
      "\n",
      "See the caveats in the documentation: https://pandas.pydata.org/pandas-docs/stable/user_guide/indexing.html#returning-a-view-versus-a-copy\n",
      "\n"
     ]
    },
    {
     "name": "stderr",
     "output_type": "stream",
     "text": [
      "/home/runner/work/corr-app/corr-app/_notebooks/scripts/read_data.py:215: SettingWithCopyWarning:\n",
      "\n",
      "\n",
      "A value is trying to be set on a copy of a slice from a DataFrame.\n",
      "Try using .loc[row_indexer,col_indexer] = value instead\n",
      "\n",
      "See the caveats in the documentation: https://pandas.pydata.org/pandas-docs/stable/user_guide/indexing.html#returning-a-view-versus-a-copy\n",
      "\n"
     ]
    }
   ],
   "source": [
    "#hide\n",
    "df_all = read_api()\n",
    "#df_all = df_all.drop(['SP500', 'XAU', 'ETH', 'BTC'], axis=1)\n",
    "\n"
   ]
  },
  {
   "cell_type": "code",
   "execution_count": 6,
   "id": "mature-alert",
   "metadata": {
    "execution": {
     "iopub.execute_input": "2022-01-26T02:05:14.549643Z",
     "iopub.status.busy": "2022-01-26T02:05:14.547215Z",
     "iopub.status.idle": "2022-01-26T02:05:14.573069Z",
     "shell.execute_reply": "2022-01-26T02:05:14.572646Z"
    },
    "papermill": {
     "duration": 0.069914,
     "end_time": "2022-01-26T02:05:14.573181",
     "exception": false,
     "start_time": "2022-01-26T02:05:14.503267",
     "status": "completed"
    },
    "tags": []
   },
   "outputs": [],
   "source": [
    "#hide_input\n",
    "sum_corr = df_all.corr().sum().sort_values(ascending=True).index.values\n",
    "#df_all[sum_corr].corr()"
   ]
  },
  {
   "cell_type": "markdown",
   "id": "complex-syndicate",
   "metadata": {
    "papermill": {
     "duration": 0.013298,
     "end_time": "2022-01-26T02:05:14.616783",
     "exception": false,
     "start_time": "2022-01-26T02:05:14.603485",
     "status": "completed"
    },
    "tags": []
   },
   "source": [
    "## Išplėstinė koreliacijų matrica. "
   ]
  },
  {
   "cell_type": "code",
   "execution_count": 7,
   "id": "atomic-omaha",
   "metadata": {
    "execution": {
     "iopub.execute_input": "2022-01-26T02:05:14.705590Z",
     "iopub.status.busy": "2022-01-26T02:05:14.705101Z",
     "iopub.status.idle": "2022-01-26T02:05:15.927187Z",
     "shell.execute_reply": "2022-01-26T02:05:15.926665Z"
    },
    "papermill": {
     "duration": 1.283397,
     "end_time": "2022-01-26T02:05:15.927313",
     "exception": false,
     "start_time": "2022-01-26T02:05:14.643916",
     "status": "completed"
    },
    "tags": []
   },
   "outputs": [
    {
     "data": {
      "image/png": "[encoded data removed]",
      "text/plain": [
       "<Figure size 1080x792 with 2 Axes>"
      ]
     },
     "metadata": {
      "needs_background": "light"
     },
     "output_type": "display_data"
    }
   ],
   "source": [
    "#hide_input\n",
    "plt.figure(figsize=(15, 11))\n",
    "sns.heatmap(df_all[sum_corr].corr(), annot=True, cmap=\"cubehelix\") \n",
    "sns.set(font_scale=1.25)\n",
    "plt.savefig('corr_matrix.png', format='eps')"
   ]
  },
  {
   "cell_type": "code",
   "execution_count": 8,
   "id": "arbitrary-sullivan",
   "metadata": {
    "execution": {
     "iopub.execute_input": "2022-01-26T02:05:15.957296Z",
     "iopub.status.busy": "2022-01-26T02:05:15.956765Z",
     "iopub.status.idle": "2022-01-26T02:05:15.980782Z",
     "shell.execute_reply": "2022-01-26T02:05:15.980319Z"
    },
    "papermill": {
     "duration": 0.04167,
     "end_time": "2022-01-26T02:05:15.980891",
     "exception": false,
     "start_time": "2022-01-26T02:05:15.939221",
     "status": "completed"
    },
    "tags": []
   },
   "outputs": [],
   "source": [
    "#hide\n",
    "#df_all_mrk = read_api()"
   ]
  },
  {
   "cell_type": "code",
   "execution_count": 9,
   "id": "delayed-adapter",
   "metadata": {
    "execution": {
     "iopub.execute_input": "2022-01-26T02:05:16.011949Z",
     "iopub.status.busy": "2022-01-26T02:05:16.011140Z",
     "iopub.status.idle": "2022-01-26T02:05:16.032636Z",
     "shell.execute_reply": "2022-01-26T02:05:16.033086Z"
    },
    "papermill": {
     "duration": 0.03907,
     "end_time": "2022-01-26T02:05:16.033219",
     "exception": false,
     "start_time": "2022-01-26T02:05:15.994149",
     "status": "completed"
    },
    "tags": []
   },
   "outputs": [],
   "source": [
    "#hide\n",
    "#Koreliacijų koeficientai"
   ]
  },
  {
   "cell_type": "code",
   "execution_count": 10,
   "id": "seeing-celebration",
   "metadata": {
    "execution": {
     "iopub.execute_input": "2022-01-26T02:05:16.068615Z",
     "iopub.status.busy": "2022-01-26T02:05:16.068053Z",
     "iopub.status.idle": "2022-01-26T02:05:16.088346Z",
     "shell.execute_reply": "2022-01-26T02:05:16.088754Z"
    },
    "papermill": {
     "duration": 0.041238,
     "end_time": "2022-01-26T02:05:16.088873",
     "exception": false,
     "start_time": "2022-01-26T02:05:16.047635",
     "status": "completed"
    },
    "tags": []
   },
   "outputs": [],
   "source": [
    "#hide_input\n",
    "#sum_corr = df_all_mrk.corr().sum().sort_values(ascending=True).index.values\n",
    "#df_all_mrk[sum_corr].corr()"
   ]
  },
  {
   "cell_type": "code",
   "execution_count": 11,
   "id": "other-painting",
   "metadata": {
    "execution": {
     "iopub.execute_input": "2022-01-26T02:05:16.124642Z",
     "iopub.status.busy": "2022-01-26T02:05:16.123788Z",
     "iopub.status.idle": "2022-01-26T02:05:16.142771Z",
     "shell.execute_reply": "2022-01-26T02:05:16.143211Z"
    },
    "papermill": {
     "duration": 0.041147,
     "end_time": "2022-01-26T02:05:16.143341",
     "exception": false,
     "start_time": "2022-01-26T02:05:16.102194",
     "status": "completed"
    },
    "tags": []
   },
   "outputs": [],
   "source": [
    "#hide\n",
    "#Koreliacijos matrica. "
   ]
  },
  {
   "cell_type": "code",
   "execution_count": 12,
   "id": "modular-magnitude",
   "metadata": {
    "execution": {
     "iopub.execute_input": "2022-01-26T02:05:16.183752Z",
     "iopub.status.busy": "2022-01-26T02:05:16.183337Z",
     "iopub.status.idle": "2022-01-26T02:05:16.200740Z",
     "shell.execute_reply": "2022-01-26T02:05:16.200361Z"
    },
    "papermill": {
     "duration": 0.042961,
     "end_time": "2022-01-26T02:05:16.200826",
     "exception": false,
     "start_time": "2022-01-26T02:05:16.157865",
     "status": "completed"
    },
    "tags": []
   },
   "outputs": [],
   "source": [
    "#hide_input\n",
    "#plt.figure(figsize=(15, 8))\n",
    "#sns.heatmap(df_all_mrk[sum_corr].corr(), annot=True, cmap=\"BrBG\");\n",
    "#plt.savefig('corr_matrix_all.eps', format='eps')"
   ]
  },
  {
   "cell_type": "code",
   "execution_count": null,
   "id": "original-senator",
   "metadata": {
    "papermill": {
     "duration": 0.011655,
     "end_time": "2022-01-26T02:05:16.223842",
     "exception": false,
     "start_time": "2022-01-26T02:05:16.212187",
     "status": "completed"
    },
    "tags": []
   },
   "outputs": [],
   "source": []
  },
  {
   "cell_type": "code",
   "execution_count": null,
   "id": "saving-secretariat",
   "metadata": {
    "papermill": {
     "duration": 0.012288,
     "end_time": "2022-01-26T02:05:16.247596",
     "exception": false,
     "start_time": "2022-01-26T02:05:16.235308",
     "status": "completed"
    },
    "tags": []
   },
   "outputs": [],
   "source": []
  }
 ],
 "metadata": {
  "kernelspec": {
   "display_name": "Python 3",
   "language": "python",
   "name": "python3"
  },
  "language_info": {
   "codemirror_mode": {
    "name": "ipython",
    "version": 3
   },
   "file_extension": ".py",
   "mimetype": "text/x-python",
   "name": "python",
   "nbconvert_exporter": "python",
   "pygments_lexer": "ipython3",
   "version": "3.6.15"
  },
  "papermill": {
   "default_parameters": {},
   "duration": 19.64669,
   "end_time": "2022-01-26T02:05:16.777916",
   "environment_variables": {},
   "exception": null,
   "input_path": "App-Correlation_charts.ipynb",
   "output_path": "App-Correlation_charts.ipynb",
   "parameters": {},
   "start_time": "2022-01-26T02:04:57.131226",
   "version": "2.2.2"
  }
 },
 "nbformat": 4,
 "nbformat_minor": 5
}