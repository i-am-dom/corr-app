{
 "cells": [
  {
   "cell_type": "markdown",
   "id": "touched-facility",
   "metadata": {
    "papermill": {
     "duration": 0.018486,
     "end_time": "2021-09-14T01:58:11.104322",
     "exception": false,
     "start_time": "2021-09-14T01:58:11.085836",
     "status": "completed"
    },
    "tags": []
   },
   "source": [
    "# Koreliacijų matrica\n",
    "> Išplėstinė koreliacijų matrica. \n",
    "\n",
    "- toc: true \n",
    "- badges: true\n",
    "- comments: false\n",
    "- categories: [Dominykas Tautkus]\n",
    "- image: images/matrix.png"
   ]
  },
  {
   "cell_type": "code",
   "execution_count": null,
   "id": "premium-weekend",
   "metadata": {
    "papermill": {
     "duration": 0.011366,
     "end_time": "2021-09-14T01:58:11.127766",
     "exception": false,
     "start_time": "2021-09-14T01:58:11.116400",
     "status": "completed"
    },
    "tags": []
   },
   "outputs": [],
   "source": []
  },
  {
   "cell_type": "code",
   "execution_count": 1,
   "id": "vertical-rebate",
   "metadata": {
    "execution": {
     "iopub.execute_input": "2021-09-14T01:58:11.162164Z",
     "iopub.status.busy": "2021-09-14T01:58:11.158947Z",
     "iopub.status.idle": "2021-09-14T01:58:11.173980Z",
     "shell.execute_reply": "2021-09-14T01:58:11.173481Z"
    },
    "papermill": {
     "duration": 0.034861,
     "end_time": "2021-09-14T01:58:11.174110",
     "exception": false,
     "start_time": "2021-09-14T01:58:11.139249",
     "status": "completed"
    },
    "tags": []
   },
   "outputs": [],
   "source": [
    "#hide\n",
    "%load_ext autoreload\n",
    "%autoreload 2"
   ]
  },
  {
   "cell_type": "code",
   "execution_count": 2,
   "id": "overall-advancement",
   "metadata": {
    "execution": {
     "iopub.execute_input": "2021-09-14T01:58:11.201365Z",
     "iopub.status.busy": "2021-09-14T01:58:11.200437Z",
     "iopub.status.idle": "2021-09-14T01:58:12.469434Z",
     "shell.execute_reply": "2021-09-14T01:58:12.468556Z"
    },
    "papermill": {
     "duration": 1.284153,
     "end_time": "2021-09-14T01:58:12.469659",
     "exception": false,
     "start_time": "2021-09-14T01:58:11.185506",
     "status": "completed"
    },
    "tags": []
   },
   "outputs": [],
   "source": [
    "#hide\n",
    "from scripts.read_data import read_api\n",
    "from IPython.display import HTML\n",
    "import plotly.graph_objects as go\n"
   ]
  },
  {
   "cell_type": "code",
   "execution_count": 3,
   "id": "light-crazy",
   "metadata": {
    "execution": {
     "iopub.execute_input": "2021-09-14T01:58:12.498288Z",
     "iopub.status.busy": "2021-09-14T01:58:12.497701Z",
     "iopub.status.idle": "2021-09-14T01:58:12.522742Z",
     "shell.execute_reply": "2021-09-14T01:58:12.523177Z"
    },
    "papermill": {
     "duration": 0.041007,
     "end_time": "2021-09-14T01:58:12.523323",
     "exception": false,
     "start_time": "2021-09-14T01:58:12.482316",
     "status": "completed"
    },
    "tags": []
   },
   "outputs": [],
   "source": [
    "#hide\n",
    "### ICO koreliacija"
   ]
  },
  {
   "cell_type": "code",
   "execution_count": 4,
   "id": "likely-bahrain",
   "metadata": {
    "execution": {
     "iopub.execute_input": "2021-09-14T01:58:12.552198Z",
     "iopub.status.busy": "2021-09-14T01:58:12.551590Z",
     "iopub.status.idle": "2021-09-14T01:58:13.428786Z",
     "shell.execute_reply": "2021-09-14T01:58:13.427685Z"
    },
    "papermill": {
     "duration": 0.894233,
     "end_time": "2021-09-14T01:58:13.428933",
     "exception": false,
     "start_time": "2021-09-14T01:58:12.534700",
     "status": "completed"
    },
    "tags": []
   },
   "outputs": [],
   "source": [
    "#hide\n",
    "import matplotlib.pyplot as plt\n",
    "import numpy as np\n",
    "import pandas as pd\n",
    "import seaborn as sns\n",
    "import matplotlib.pyplot as plt \n",
    "import matplotlib.dates as mdates\n",
    "import matplotlib.pyplot as plt"
   ]
  },
  {
   "cell_type": "code",
   "execution_count": 5,
   "id": "superior-blanket",
   "metadata": {
    "execution": {
     "iopub.execute_input": "2021-09-14T01:58:13.457250Z",
     "iopub.status.busy": "2021-09-14T01:58:13.456456Z",
     "iopub.status.idle": "2021-09-14T01:58:31.813955Z",
     "shell.execute_reply": "2021-09-14T01:58:31.813018Z"
    },
    "papermill": {
     "duration": 18.373174,
     "end_time": "2021-09-14T01:58:31.814182",
     "exception": false,
     "start_time": "2021-09-14T01:58:13.441008",
     "status": "completed"
    },
    "tags": []
   },
   "outputs": [
    {
     "name": "stderr",
     "output_type": "stream",
     "text": [
      "/home/runner/work/corr-app/corr-app/_notebooks/scripts/read_data.py:187: SettingWithCopyWarning:\n",
      "\n",
      "\n",
      "A value is trying to be set on a copy of a slice from a DataFrame.\n",
      "Try using .loc[row_indexer,col_indexer] = value instead\n",
      "\n",
      "See the caveats in the documentation: https://pandas.pydata.org/pandas-docs/stable/user_guide/indexing.html#returning-a-view-versus-a-copy\n",
      "\n"
     ]
    },
    {
     "name": "stderr",
     "output_type": "stream",
     "text": [
      "/home/runner/work/corr-app/corr-app/_notebooks/scripts/read_data.py:215: SettingWithCopyWarning:\n",
      "\n",
      "\n",
      "A value is trying to be set on a copy of a slice from a DataFrame.\n",
      "Try using .loc[row_indexer,col_indexer] = value instead\n",
      "\n",
      "See the caveats in the documentation: https://pandas.pydata.org/pandas-docs/stable/user_guide/indexing.html#returning-a-view-versus-a-copy\n",
      "\n"
     ]
    }
   ],
   "source": [
    "#hide\n",
    "df_all = read_api()\n",
    "#df_all = df_all.drop(['SP500', 'XAU', 'ETH', 'BTC'], axis=1)\n",
    "\n"
   ]
  },
  {
   "cell_type": "code",
   "execution_count": 6,
   "id": "mature-alert",
   "metadata": {
    "execution": {
     "iopub.execute_input": "2021-09-14T01:58:31.848782Z",
     "iopub.status.busy": "2021-09-14T01:58:31.848190Z",
     "iopub.status.idle": "2021-09-14T01:58:31.878975Z",
     "shell.execute_reply": "2021-09-14T01:58:31.878499Z"
    },
    "papermill": {
     "duration": 0.050784,
     "end_time": "2021-09-14T01:58:31.879104",
     "exception": false,
     "start_time": "2021-09-14T01:58:31.828320",
     "status": "completed"
    },
    "tags": []
   },
   "outputs": [],
   "source": [
    "#hide_input\n",
    "sum_corr = df_all.corr().sum().sort_values(ascending=True).index.values\n",
    "#df_all[sum_corr].corr()"
   ]
  },
  {
   "cell_type": "markdown",
   "id": "complex-syndicate",
   "metadata": {
    "papermill": {
     "duration": 0.01207,
     "end_time": "2021-09-14T01:58:31.903480",
     "exception": false,
     "start_time": "2021-09-14T01:58:31.891410",
     "status": "completed"
    },
    "tags": []
   },
   "source": [
    "## Išplėstinė koreliacijų matrica. "
   ]
  },
  {
   "cell_type": "code",
   "execution_count": 7,
   "id": "atomic-omaha",
   "metadata": {
    "execution": {
     "iopub.execute_input": "2021-09-14T01:58:31.933849Z",
     "iopub.status.busy": "2021-09-14T01:58:31.933272Z",
     "iopub.status.idle": "2021-09-14T01:58:33.177017Z",
     "shell.execute_reply": "2021-09-14T01:58:33.177495Z"
    },
    "papermill": {
     "duration": 1.262158,
     "end_time": "2021-09-14T01:58:33.177646",
     "exception": false,
     "start_time": "2021-09-14T01:58:31.915488",
     "status": "completed"
    },
    "tags": []
   },
   "outputs": [
    {
     "data": {
      "image/png": "[encoded data removed]",
      "text/plain": [
       "<Figure size 1080x792 with 2 Axes>"
      ]
     },
     "metadata": {
      "needs_background": "light"
     },
     "output_type": "display_data"
    }
   ],
   "source": [
    "#hide_input\n",
    "plt.figure(figsize=(15, 11))\n",
    "sns.heatmap(df_all[sum_corr].corr(), annot=True, cmap=\"cubehelix\") \n",
    "sns.set(font_scale=1.25)\n",
    "plt.savefig('corr_matrix.png', format='eps')"
   ]
  },
  {
   "cell_type": "code",
   "execution_count": 8,
   "id": "arbitrary-sullivan",
   "metadata": {
    "execution": {
     "iopub.execute_input": "2021-09-14T01:58:33.210959Z",
     "iopub.status.busy": "2021-09-14T01:58:33.209968Z",
     "iopub.status.idle": "2021-09-14T01:58:33.236821Z",
     "shell.execute_reply": "2021-09-14T01:58:33.237447Z"
    },
    "papermill": {
     "duration": 0.045326,
     "end_time": "2021-09-14T01:58:33.237644",
     "exception": false,
     "start_time": "2021-09-14T01:58:33.192318",
     "status": "completed"
    },
    "tags": []
   },
   "outputs": [],
   "source": [
    "#hide\n",
    "#df_all_mrk = read_api()"
   ]
  },
  {
   "cell_type": "code",
   "execution_count": 9,
   "id": "delayed-adapter",
   "metadata": {
    "execution": {
     "iopub.execute_input": "2021-09-14T01:58:33.274271Z",
     "iopub.status.busy": "2021-09-14T01:58:33.273659Z",
     "iopub.status.idle": "2021-09-14T01:58:33.300640Z",
     "shell.execute_reply": "2021-09-14T01:58:33.299905Z"
    },
    "papermill": {
     "duration": 0.046722,
     "end_time": "2021-09-14T01:58:33.300786",
     "exception": false,
     "start_time": "2021-09-14T01:58:33.254064",
     "status": "completed"
    },
    "tags": []
   },
   "outputs": [],
   "source": [
    "#hide\n",
    "#Koreliacijų koeficientai"
   ]
  },
  {
   "cell_type": "code",
   "execution_count": 10,
   "id": "seeing-celebration",
   "metadata": {
    "execution": {
     "iopub.execute_input": "2021-09-14T01:58:33.335784Z",
     "iopub.status.busy": "2021-09-14T01:58:33.334516Z",
     "iopub.status.idle": "2021-09-14T01:58:33.361308Z",
     "shell.execute_reply": "2021-09-14T01:58:33.360680Z"
    },
    "papermill": {
     "duration": 0.045409,
     "end_time": "2021-09-14T01:58:33.361471",
     "exception": false,
     "start_time": "2021-09-14T01:58:33.316062",
     "status": "completed"
    },
    "tags": []
   },
   "outputs": [],
   "source": [
    "#hide_input\n",
    "#sum_corr = df_all_mrk.corr().sum().sort_values(ascending=True).index.values\n",
    "#df_all_mrk[sum_corr].corr()"
   ]
  },
  {
   "cell_type": "code",
   "execution_count": 11,
   "id": "other-painting",
   "metadata": {
    "execution": {
     "iopub.execute_input": "2021-09-14T01:58:33.395059Z",
     "iopub.status.busy": "2021-09-14T01:58:33.394520Z",
     "iopub.status.idle": "2021-09-14T01:58:33.422618Z",
     "shell.execute_reply": "2021-09-14T01:58:33.422008Z"
    },
    "papermill": {
     "duration": 0.046044,
     "end_time": "2021-09-14T01:58:33.422775",
     "exception": false,
     "start_time": "2021-09-14T01:58:33.376731",
     "status": "completed"
    },
    "tags": []
   },
   "outputs": [],
   "source": [
    "#hide\n",
    "#Koreliacijos matrica. "
   ]
  },
  {
   "cell_type": "code",
   "execution_count": 12,
   "id": "modular-magnitude",
   "metadata": {
    "execution": {
     "iopub.execute_input": "2021-09-14T01:58:33.456000Z",
     "iopub.status.busy": "2021-09-14T01:58:33.455455Z",
     "iopub.status.idle": "2021-09-14T01:58:33.482888Z",
     "shell.execute_reply": "2021-09-14T01:58:33.482270Z"
    },
    "papermill": {
     "duration": 0.044784,
     "end_time": "2021-09-14T01:58:33.483035",
     "exception": false,
     "start_time": "2021-09-14T01:58:33.438251",
     "status": "completed"
    },
    "tags": []
   },
   "outputs": [],
   "source": [
    "#hide_input\n",
    "#plt.figure(figsize=(15, 8))\n",
    "#sns.heatmap(df_all_mrk[sum_corr].corr(), annot=True, cmap=\"BrBG\");\n",
    "#plt.savefig('corr_matrix_all.eps', format='eps')"
   ]
  },
  {
   "cell_type": "code",
   "execution_count": null,
   "id": "original-senator",
   "metadata": {
    "papermill": {
     "duration": 0.013824,
     "end_time": "2021-09-14T01:58:33.511755",
     "exception": false,
     "start_time": "2021-09-14T01:58:33.497931",
     "status": "completed"
    },
    "tags": []
   },
   "outputs": [],
   "source": []
  },
  {
   "cell_type": "code",
   "execution_count": null,
   "id": "saving-secretariat",
   "metadata": {
    "papermill": {
     "duration": 0.013549,
     "end_time": "2021-09-14T01:58:33.539406",
     "exception": false,
     "start_time": "2021-09-14T01:58:33.525857",
     "status": "completed"
    },
    "tags": []
   },
   "outputs": [],
   "source": []
  }
 ],
 "metadata": {
  "kernelspec": {
   "display_name": "Python 3",
   "language": "python",
   "name": "python3"
  },
  "language_info": {
   "codemirror_mode": {
    "name": "ipython",
    "version": 3
   },
   "file_extension": ".py",
   "mimetype": "text/x-python",
   "name": "python",
   "nbconvert_exporter": "python",
   "pygments_lexer": "ipython3",
   "version": "3.6.14"
  },
  "papermill": {
   "default_parameters": {},
   "duration": 24.033947,
   "end_time": "2021-09-14T01:58:34.063743",
   "environment_variables": {},
   "exception": null,
   "input_path": "App-Correlation_charts.ipynb",
   "output_path": "App-Correlation_charts.ipynb",
   "parameters": {},
   "start_time": "2021-09-14T01:58:10.029796",
   "version": "2.2.2"
  }
 },
 "nbformat": 4,
 "nbformat_minor": 5
}