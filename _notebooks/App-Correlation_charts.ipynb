{
 "cells": [
  {
   "cell_type": "markdown",
   "id": "touched-facility",
   "metadata": {
    "papermill": {
     "duration": 0.014882,
     "end_time": "2022-11-21T02:52:55.904937",
     "exception": false,
     "start_time": "2022-11-21T02:52:55.890055",
     "status": "completed"
    },
    "tags": []
   },
   "source": [
    "# Koreliacijų matrica\n",
    "> Išplėstinė koreliacijų matrica. \n",
    "\n",
    "- toc: true \n",
    "- badges: true\n",
    "- comments: false\n",
    "- categories: [Dominykas Tautkus]\n",
    "- image: images/matrix.png"
   ]
  },
  {
   "cell_type": "code",
   "execution_count": null,
   "id": "premium-weekend",
   "metadata": {
    "papermill": {
     "duration": 0.010797,
     "end_time": "2022-11-21T02:52:55.927334",
     "exception": false,
     "start_time": "2022-11-21T02:52:55.916537",
     "status": "completed"
    },
    "tags": []
   },
   "outputs": [],
   "source": []
  },
  {
   "cell_type": "code",
   "execution_count": 1,
   "id": "vertical-rebate",
   "metadata": {
    "execution": {
     "iopub.execute_input": "2022-11-21T02:52:55.960751Z",
     "iopub.status.busy": "2022-11-21T02:52:55.960115Z",
     "iopub.status.idle": "2022-11-21T02:52:55.971231Z",
     "shell.execute_reply": "2022-11-21T02:52:55.970721Z"
    },
    "papermill": {
     "duration": 0.033044,
     "end_time": "2022-11-21T02:52:55.971361",
     "exception": false,
     "start_time": "2022-11-21T02:52:55.938317",
     "status": "completed"
    },
    "tags": []
   },
   "outputs": [],
   "source": [
    "#hide\n",
    "%load_ext autoreload\n",
    "%autoreload 2"
   ]
  },
  {
   "cell_type": "code",
   "execution_count": 2,
   "id": "overall-advancement",
   "metadata": {
    "execution": {
     "iopub.execute_input": "2022-11-21T02:52:55.996823Z",
     "iopub.status.busy": "2022-11-21T02:52:55.996224Z",
     "iopub.status.idle": "2022-11-21T02:52:57.491201Z",
     "shell.execute_reply": "2022-11-21T02:52:57.483522Z"
    },
    "papermill": {
     "duration": 1.509207,
     "end_time": "2022-11-21T02:52:57.491349",
     "exception": false,
     "start_time": "2022-11-21T02:52:55.982142",
     "status": "completed"
    },
    "tags": []
   },
   "outputs": [],
   "source": [
    "#hide\n",
    "from scripts.read_data import read_api\n",
    "from IPython.display import HTML\n",
    "import plotly.graph_objects as go\n"
   ]
  },
  {
   "cell_type": "code",
   "execution_count": 3,
   "id": "light-crazy",
   "metadata": {
    "execution": {
     "iopub.execute_input": "2022-11-21T02:52:57.517623Z",
     "iopub.status.busy": "2022-11-21T02:52:57.517019Z",
     "iopub.status.idle": "2022-11-21T02:52:57.540167Z",
     "shell.execute_reply": "2022-11-21T02:52:57.540612Z"
    },
    "papermill": {
     "duration": 0.038263,
     "end_time": "2022-11-21T02:52:57.540760",
     "exception": false,
     "start_time": "2022-11-21T02:52:57.502497",
     "status": "completed"
    },
    "tags": []
   },
   "outputs": [],
   "source": [
    "#hide\n",
    "### ICO koreliacija"
   ]
  },
  {
   "cell_type": "code",
   "execution_count": 4,
   "id": "likely-bahrain",
   "metadata": {
    "execution": {
     "iopub.execute_input": "2022-11-21T02:52:57.576235Z",
     "iopub.status.busy": "2022-11-21T02:52:57.575639Z",
     "iopub.status.idle": "2022-11-21T02:52:58.434243Z",
     "shell.execute_reply": "2022-11-21T02:52:58.433190Z"
    },
    "papermill": {
     "duration": 0.882731,
     "end_time": "2022-11-21T02:52:58.434418",
     "exception": false,
     "start_time": "2022-11-21T02:52:57.551687",
     "status": "completed"
    },
    "tags": []
   },
   "outputs": [],
   "source": [
    "#hide\n",
    "import matplotlib.pyplot as plt\n",
    "import numpy as np\n",
    "import pandas as pd\n",
    "import seaborn as sns\n",
    "import matplotlib.pyplot as plt \n",
    "import matplotlib.dates as mdates\n",
    "import matplotlib.pyplot as plt"
   ]
  },
  {
   "cell_type": "code",
   "execution_count": 5,
   "id": "superior-blanket",
   "metadata": {
    "execution": {
     "iopub.execute_input": "2022-11-21T02:52:58.461391Z",
     "iopub.status.busy": "2022-11-21T02:52:58.460771Z",
     "iopub.status.idle": "2022-11-21T02:53:07.805879Z",
     "shell.execute_reply": "2022-11-21T02:53:07.804998Z"
    },
    "papermill": {
     "duration": 9.360372,
     "end_time": "2022-11-21T02:53:07.806013",
     "exception": false,
     "start_time": "2022-11-21T02:52:58.445641",
     "status": "completed"
    },
    "tags": []
   },
   "outputs": [
    {
     "name": "stderr",
     "output_type": "stream",
     "text": [
      "/home/runner/work/corr-app/corr-app/_notebooks/scripts/read_data.py:187: SettingWithCopyWarning:\n",
      "\n",
      "\n",
      "A value is trying to be set on a copy of a slice from a DataFrame.\n",
      "Try using .loc[row_indexer,col_indexer] = value instead\n",
      "\n",
      "See the caveats in the documentation: https://pandas.pydata.org/pandas-docs/stable/user_guide/indexing.html#returning-a-view-versus-a-copy\n",
      "\n"
     ]
    },
    {
     "name": "stderr",
     "output_type": "stream",
     "text": [
      "/home/runner/work/corr-app/corr-app/_notebooks/scripts/read_data.py:215: SettingWithCopyWarning:\n",
      "\n",
      "\n",
      "A value is trying to be set on a copy of a slice from a DataFrame.\n",
      "Try using .loc[row_indexer,col_indexer] = value instead\n",
      "\n",
      "See the caveats in the documentation: https://pandas.pydata.org/pandas-docs/stable/user_guide/indexing.html#returning-a-view-versus-a-copy\n",
      "\n"
     ]
    }
   ],
   "source": [
    "#hide\n",
    "df_all = read_api()\n",
    "#df_all = df_all.drop(['SP500', 'XAU', 'ETH', 'BTC'], axis=1)\n",
    "\n"
   ]
  },
  {
   "cell_type": "code",
   "execution_count": 6,
   "id": "mature-alert",
   "metadata": {
    "execution": {
     "iopub.execute_input": "2022-11-21T02:53:07.835277Z",
     "iopub.status.busy": "2022-11-21T02:53:07.834665Z",
     "iopub.status.idle": "2022-11-21T02:53:07.866494Z",
     "shell.execute_reply": "2022-11-21T02:53:07.865894Z"
    },
    "papermill": {
     "duration": 0.04741,
     "end_time": "2022-11-21T02:53:07.866626",
     "exception": false,
     "start_time": "2022-11-21T02:53:07.819216",
     "status": "completed"
    },
    "tags": []
   },
   "outputs": [],
   "source": [
    "#hide_input\n",
    "sum_corr = df_all.corr().sum().sort_values(ascending=True).index.values\n",
    "#df_all[sum_corr].corr()"
   ]
  },
  {
   "cell_type": "markdown",
   "id": "complex-syndicate",
   "metadata": {
    "papermill": {
     "duration": 0.011157,
     "end_time": "2022-11-21T02:53:07.889681",
     "exception": false,
     "start_time": "2022-11-21T02:53:07.878524",
     "status": "completed"
    },
    "tags": []
   },
   "source": [
    "## Išplėstinė koreliacijų matrica. "
   ]
  },
  {
   "cell_type": "code",
   "execution_count": 7,
   "id": "atomic-omaha",
   "metadata": {
    "execution": {
     "iopub.execute_input": "2022-11-21T02:53:07.916265Z",
     "iopub.status.busy": "2022-11-21T02:53:07.915678Z",
     "iopub.status.idle": "2022-11-21T02:53:09.124884Z",
     "shell.execute_reply": "2022-11-21T02:53:09.124388Z"
    },
    "papermill": {
     "duration": 1.224202,
     "end_time": "2022-11-21T02:53:09.125003",
     "exception": false,
     "start_time": "2022-11-21T02:53:07.900801",
     "status": "completed"
    },
    "tags": []
   },
   "outputs": [
    {
     "data": {
      "image/png": "[encoded data removed]",
      "text/plain": [
       "<Figure size 1080x792 with 2 Axes>"
      ]
     },
     "metadata": {
      "needs_background": "light"
     },
     "output_type": "display_data"
    }
   ],
   "source": [
    "#hide_input\n",
    "plt.figure(figsize=(15, 11))\n",
    "sns.heatmap(df_all[sum_corr].corr(), annot=True, cmap=\"cubehelix\") \n",
    "sns.set(font_scale=1.25)\n",
    "plt.savefig('corr_matrix.png', format='eps')"
   ]
  },
  {
   "cell_type": "code",
   "execution_count": 8,
   "id": "arbitrary-sullivan",
   "metadata": {
    "execution": {
     "iopub.execute_input": "2022-11-21T02:53:09.163827Z",
     "iopub.status.busy": "2022-11-21T02:53:09.157196Z",
     "iopub.status.idle": "2022-11-21T02:53:09.183991Z",
     "shell.execute_reply": "2022-11-21T02:53:09.183461Z"
    },
    "papermill": {
     "duration": 0.045328,
     "end_time": "2022-11-21T02:53:09.184119",
     "exception": false,
     "start_time": "2022-11-21T02:53:09.138791",
     "status": "completed"
    },
    "tags": []
   },
   "outputs": [],
   "source": [
    "#hide\n",
    "#df_all_mrk = read_api()"
   ]
  },
  {
   "cell_type": "code",
   "execution_count": 9,
   "id": "delayed-adapter",
   "metadata": {
    "execution": {
     "iopub.execute_input": "2022-11-21T02:53:09.213929Z",
     "iopub.status.busy": "2022-11-21T02:53:09.213353Z",
     "iopub.status.idle": "2022-11-21T02:53:09.240060Z",
     "shell.execute_reply": "2022-11-21T02:53:09.239399Z"
    },
    "papermill": {
     "duration": 0.042485,
     "end_time": "2022-11-21T02:53:09.240181",
     "exception": false,
     "start_time": "2022-11-21T02:53:09.197696",
     "status": "completed"
    },
    "tags": []
   },
   "outputs": [],
   "source": [
    "#hide\n",
    "#Koreliacijų koeficientai"
   ]
  },
  {
   "cell_type": "code",
   "execution_count": 10,
   "id": "seeing-celebration",
   "metadata": {
    "execution": {
     "iopub.execute_input": "2022-11-21T02:53:09.274023Z",
     "iopub.status.busy": "2022-11-21T02:53:09.273445Z",
     "iopub.status.idle": "2022-11-21T02:53:09.297828Z",
     "shell.execute_reply": "2022-11-21T02:53:09.297371Z"
    },
    "papermill": {
     "duration": 0.043512,
     "end_time": "2022-11-21T02:53:09.297937",
     "exception": false,
     "start_time": "2022-11-21T02:53:09.254425",
     "status": "completed"
    },
    "tags": []
   },
   "outputs": [],
   "source": [
    "#hide_input\n",
    "#sum_corr = df_all_mrk.corr().sum().sort_values(ascending=True).index.values\n",
    "#df_all_mrk[sum_corr].corr()"
   ]
  },
  {
   "cell_type": "code",
   "execution_count": 11,
   "id": "other-painting",
   "metadata": {
    "execution": {
     "iopub.execute_input": "2022-11-21T02:53:09.328066Z",
     "iopub.status.busy": "2022-11-21T02:53:09.327486Z",
     "iopub.status.idle": "2022-11-21T02:53:09.354681Z",
     "shell.execute_reply": "2022-11-21T02:53:09.354084Z"
    },
    "papermill": {
     "duration": 0.04338,
     "end_time": "2022-11-21T02:53:09.354813",
     "exception": false,
     "start_time": "2022-11-21T02:53:09.311433",
     "status": "completed"
    },
    "tags": []
   },
   "outputs": [],
   "source": [
    "#hide\n",
    "#Koreliacijos matrica. "
   ]
  },
  {
   "cell_type": "code",
   "execution_count": 12,
   "id": "modular-magnitude",
   "metadata": {
    "execution": {
     "iopub.execute_input": "2022-11-21T02:53:09.391422Z",
     "iopub.status.busy": "2022-11-21T02:53:09.390838Z",
     "iopub.status.idle": "2022-11-21T02:53:09.414911Z",
     "shell.execute_reply": "2022-11-21T02:53:09.415395Z"
    },
    "papermill": {
     "duration": 0.046482,
     "end_time": "2022-11-21T02:53:09.415540",
     "exception": false,
     "start_time": "2022-11-21T02:53:09.369058",
     "status": "completed"
    },
    "tags": []
   },
   "outputs": [],
   "source": [
    "#hide_input\n",
    "#plt.figure(figsize=(15, 8))\n",
    "#sns.heatmap(df_all_mrk[sum_corr].corr(), annot=True, cmap=\"BrBG\");\n",
    "#plt.savefig('corr_matrix_all.eps', format='eps')"
   ]
  },
  {
   "cell_type": "code",
   "execution_count": null,
   "id": "original-senator",
   "metadata": {
    "papermill": {
     "duration": 0.01319,
     "end_time": "2022-11-21T02:53:09.442689",
     "exception": false,
     "start_time": "2022-11-21T02:53:09.429499",
     "status": "completed"
    },
    "tags": []
   },
   "outputs": [],
   "source": []
  },
  {
   "cell_type": "code",
   "execution_count": null,
   "id": "saving-secretariat",
   "metadata": {
    "papermill": {
     "duration": 0.01309,
     "end_time": "2022-11-21T02:53:09.468984",
     "exception": false,
     "start_time": "2022-11-21T02:53:09.455894",
     "status": "completed"
    },
    "tags": []
   },
   "outputs": [],
   "source": []
  }
 ],
 "metadata": {
  "kernelspec": {
   "display_name": "Python 3",
   "language": "python",
   "name": "python3"
  },
  "language_info": {
   "codemirror_mode": {
    "name": "ipython",
    "version": 3
   },
   "file_extension": ".py",
   "mimetype": "text/x-python",
   "name": "python",
   "nbconvert_exporter": "python",
   "pygments_lexer": "ipython3",
   "version": "3.6.15"
  },
  "papermill": {
   "default_parameters": {},
   "duration": 15.214079,
   "end_time": "2022-11-21T02:53:10.001598",
   "environment_variables": {},
   "exception": null,
   "input_path": "App-Correlation_charts.ipynb",
   "output_path": "App-Correlation_charts.ipynb",
   "parameters": {},
   "start_time": "2022-11-21T02:52:54.787519",
   "version": "2.2.2"
  }
 },
 "nbformat": 4,
 "nbformat_minor": 5
}