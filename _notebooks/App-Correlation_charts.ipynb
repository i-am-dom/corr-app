{
 "cells": [
  {
   "cell_type": "markdown",
   "id": "touched-facility",
   "metadata": {
    "papermill": {
     "duration": 0.014217,
     "end_time": "2022-08-27T03:29:51.684544",
     "exception": false,
     "start_time": "2022-08-27T03:29:51.670327",
     "status": "completed"
    },
    "tags": []
   },
   "source": [
    "# Koreliacijų matrica\n",
    "> Išplėstinė koreliacijų matrica. \n",
    "\n",
    "- toc: true \n",
    "- badges: true\n",
    "- comments: false\n",
    "- categories: [Dominykas Tautkus]\n",
    "- image: images/matrix.png"
   ]
  },
  {
   "cell_type": "code",
   "execution_count": null,
   "id": "premium-weekend",
   "metadata": {
    "papermill": {
     "duration": 0.010634,
     "end_time": "2022-08-27T03:29:51.706560",
     "exception": false,
     "start_time": "2022-08-27T03:29:51.695926",
     "status": "completed"
    },
    "tags": []
   },
   "outputs": [],
   "source": []
  },
  {
   "cell_type": "code",
   "execution_count": 1,
   "id": "vertical-rebate",
   "metadata": {
    "execution": {
     "iopub.execute_input": "2022-08-27T03:29:51.740480Z",
     "iopub.status.busy": "2022-08-27T03:29:51.738312Z",
     "iopub.status.idle": "2022-08-27T03:29:51.751103Z",
     "shell.execute_reply": "2022-08-27T03:29:51.750007Z"
    },
    "papermill": {
     "duration": 0.033955,
     "end_time": "2022-08-27T03:29:51.751224",
     "exception": false,
     "start_time": "2022-08-27T03:29:51.717269",
     "status": "completed"
    },
    "tags": []
   },
   "outputs": [],
   "source": [
    "#hide\n",
    "%load_ext autoreload\n",
    "%autoreload 2"
   ]
  },
  {
   "cell_type": "code",
   "execution_count": 2,
   "id": "overall-advancement",
   "metadata": {
    "execution": {
     "iopub.execute_input": "2022-08-27T03:29:51.776307Z",
     "iopub.status.busy": "2022-08-27T03:29:51.775753Z",
     "iopub.status.idle": "2022-08-27T03:29:53.037546Z",
     "shell.execute_reply": "2022-08-27T03:29:53.037039Z"
    },
    "papermill": {
     "duration": 1.275669,
     "end_time": "2022-08-27T03:29:53.037669",
     "exception": false,
     "start_time": "2022-08-27T03:29:51.762000",
     "status": "completed"
    },
    "tags": []
   },
   "outputs": [],
   "source": [
    "#hide\n",
    "from scripts.read_data import read_api\n",
    "from IPython.display import HTML\n",
    "import plotly.graph_objects as go\n"
   ]
  },
  {
   "cell_type": "code",
   "execution_count": 3,
   "id": "light-crazy",
   "metadata": {
    "execution": {
     "iopub.execute_input": "2022-08-27T03:29:53.067082Z",
     "iopub.status.busy": "2022-08-27T03:29:53.063902Z",
     "iopub.status.idle": "2022-08-27T03:29:53.085825Z",
     "shell.execute_reply": "2022-08-27T03:29:53.086240Z"
    },
    "papermill": {
     "duration": 0.037715,
     "end_time": "2022-08-27T03:29:53.086365",
     "exception": false,
     "start_time": "2022-08-27T03:29:53.048650",
     "status": "completed"
    },
    "tags": []
   },
   "outputs": [],
   "source": [
    "#hide\n",
    "### ICO koreliacija"
   ]
  },
  {
   "cell_type": "code",
   "execution_count": 4,
   "id": "likely-bahrain",
   "metadata": {
    "execution": {
     "iopub.execute_input": "2022-08-27T03:29:53.111502Z",
     "iopub.status.busy": "2022-08-27T03:29:53.110522Z",
     "iopub.status.idle": "2022-08-27T03:29:53.922466Z",
     "shell.execute_reply": "2022-08-27T03:29:53.922947Z"
    },
    "papermill": {
     "duration": 0.825985,
     "end_time": "2022-08-27T03:29:53.923083",
     "exception": false,
     "start_time": "2022-08-27T03:29:53.097098",
     "status": "completed"
    },
    "tags": []
   },
   "outputs": [],
   "source": [
    "#hide\n",
    "import matplotlib.pyplot as plt\n",
    "import numpy as np\n",
    "import pandas as pd\n",
    "import seaborn as sns\n",
    "import matplotlib.pyplot as plt \n",
    "import matplotlib.dates as mdates\n",
    "import matplotlib.pyplot as plt"
   ]
  },
  {
   "cell_type": "code",
   "execution_count": 5,
   "id": "superior-blanket",
   "metadata": {
    "execution": {
     "iopub.execute_input": "2022-08-27T03:29:53.950443Z",
     "iopub.status.busy": "2022-08-27T03:29:53.949075Z",
     "iopub.status.idle": "2022-08-27T03:30:05.820593Z",
     "shell.execute_reply": "2022-08-27T03:30:05.820086Z"
    },
    "papermill": {
     "duration": 11.886595,
     "end_time": "2022-08-27T03:30:05.820705",
     "exception": false,
     "start_time": "2022-08-27T03:29:53.934110",
     "status": "completed"
    },
    "tags": []
   },
   "outputs": [
    {
     "name": "stderr",
     "output_type": "stream",
     "text": [
      "/home/runner/work/corr-app/corr-app/_notebooks/scripts/read_data.py:187: SettingWithCopyWarning:\n",
      "\n",
      "\n",
      "A value is trying to be set on a copy of a slice from a DataFrame.\n",
      "Try using .loc[row_indexer,col_indexer] = value instead\n",
      "\n",
      "See the caveats in the documentation: https://pandas.pydata.org/pandas-docs/stable/user_guide/indexing.html#returning-a-view-versus-a-copy\n",
      "\n"
     ]
    },
    {
     "name": "stderr",
     "output_type": "stream",
     "text": [
      "/home/runner/work/corr-app/corr-app/_notebooks/scripts/read_data.py:215: SettingWithCopyWarning:\n",
      "\n",
      "\n",
      "A value is trying to be set on a copy of a slice from a DataFrame.\n",
      "Try using .loc[row_indexer,col_indexer] = value instead\n",
      "\n",
      "See the caveats in the documentation: https://pandas.pydata.org/pandas-docs/stable/user_guide/indexing.html#returning-a-view-versus-a-copy\n",
      "\n"
     ]
    }
   ],
   "source": [
    "#hide\n",
    "df_all = read_api()\n",
    "#df_all = df_all.drop(['SP500', 'XAU', 'ETH', 'BTC'], axis=1)\n",
    "\n"
   ]
  },
  {
   "cell_type": "code",
   "execution_count": 6,
   "id": "mature-alert",
   "metadata": {
    "execution": {
     "iopub.execute_input": "2022-08-27T03:30:05.848312Z",
     "iopub.status.busy": "2022-08-27T03:30:05.847736Z",
     "iopub.status.idle": "2022-08-27T03:30:05.876927Z",
     "shell.execute_reply": "2022-08-27T03:30:05.876491Z"
    },
    "papermill": {
     "duration": 0.043703,
     "end_time": "2022-08-27T03:30:05.877036",
     "exception": false,
     "start_time": "2022-08-27T03:30:05.833333",
     "status": "completed"
    },
    "tags": []
   },
   "outputs": [],
   "source": [
    "#hide_input\n",
    "sum_corr = df_all.corr().sum().sort_values(ascending=True).index.values\n",
    "#df_all[sum_corr].corr()"
   ]
  },
  {
   "cell_type": "markdown",
   "id": "complex-syndicate",
   "metadata": {
    "papermill": {
     "duration": 0.011313,
     "end_time": "2022-08-27T03:30:05.899726",
     "exception": false,
     "start_time": "2022-08-27T03:30:05.888413",
     "status": "completed"
    },
    "tags": []
   },
   "source": [
    "## Išplėstinė koreliacijų matrica. "
   ]
  },
  {
   "cell_type": "code",
   "execution_count": 7,
   "id": "atomic-omaha",
   "metadata": {
    "execution": {
     "iopub.execute_input": "2022-08-27T03:30:05.926180Z",
     "iopub.status.busy": "2022-08-27T03:30:05.925609Z",
     "iopub.status.idle": "2022-08-27T03:30:07.124114Z",
     "shell.execute_reply": "2022-08-27T03:30:07.124675Z"
    },
    "papermill": {
     "duration": 1.21383,
     "end_time": "2022-08-27T03:30:07.124805",
     "exception": false,
     "start_time": "2022-08-27T03:30:05.910975",
     "status": "completed"
    },
    "tags": []
   },
   "outputs": [
    {
     "data": {
      "image/png": "[encoded data removed]",
      "text/plain": [
       "<Figure size 1080x792 with 2 Axes>"
      ]
     },
     "metadata": {
      "needs_background": "light"
     },
     "output_type": "display_data"
    }
   ],
   "source": [
    "#hide_input\n",
    "plt.figure(figsize=(15, 11))\n",
    "sns.heatmap(df_all[sum_corr].corr(), annot=True, cmap=\"cubehelix\") \n",
    "sns.set(font_scale=1.25)\n",
    "plt.savefig('corr_matrix.png', format='eps')"
   ]
  },
  {
   "cell_type": "code",
   "execution_count": 8,
   "id": "arbitrary-sullivan",
   "metadata": {
    "execution": {
     "iopub.execute_input": "2022-08-27T03:30:07.158628Z",
     "iopub.status.busy": "2022-08-27T03:30:07.158065Z",
     "iopub.status.idle": "2022-08-27T03:30:07.180346Z",
     "shell.execute_reply": "2022-08-27T03:30:07.179782Z"
    },
    "papermill": {
     "duration": 0.042049,
     "end_time": "2022-08-27T03:30:07.180451",
     "exception": false,
     "start_time": "2022-08-27T03:30:07.138402",
     "status": "completed"
    },
    "tags": []
   },
   "outputs": [],
   "source": [
    "#hide\n",
    "#df_all_mrk = read_api()"
   ]
  },
  {
   "cell_type": "code",
   "execution_count": 9,
   "id": "delayed-adapter",
   "metadata": {
    "execution": {
     "iopub.execute_input": "2022-08-27T03:30:07.210088Z",
     "iopub.status.busy": "2022-08-27T03:30:07.209526Z",
     "iopub.status.idle": "2022-08-27T03:30:07.234606Z",
     "shell.execute_reply": "2022-08-27T03:30:07.234148Z"
    },
    "papermill": {
     "duration": 0.040991,
     "end_time": "2022-08-27T03:30:07.234706",
     "exception": false,
     "start_time": "2022-08-27T03:30:07.193715",
     "status": "completed"
    },
    "tags": []
   },
   "outputs": [],
   "source": [
    "#hide\n",
    "#Koreliacijų koeficientai"
   ]
  },
  {
   "cell_type": "code",
   "execution_count": 10,
   "id": "seeing-celebration",
   "metadata": {
    "execution": {
     "iopub.execute_input": "2022-08-27T03:30:07.266717Z",
     "iopub.status.busy": "2022-08-27T03:30:07.265270Z",
     "iopub.status.idle": "2022-08-27T03:30:07.289834Z",
     "shell.execute_reply": "2022-08-27T03:30:07.290238Z"
    },
    "papermill": {
     "duration": 0.041955,
     "end_time": "2022-08-27T03:30:07.290359",
     "exception": false,
     "start_time": "2022-08-27T03:30:07.248404",
     "status": "completed"
    },
    "tags": []
   },
   "outputs": [],
   "source": [
    "#hide_input\n",
    "#sum_corr = df_all_mrk.corr().sum().sort_values(ascending=True).index.values\n",
    "#df_all_mrk[sum_corr].corr()"
   ]
  },
  {
   "cell_type": "code",
   "execution_count": 11,
   "id": "other-painting",
   "metadata": {
    "execution": {
     "iopub.execute_input": "2022-08-27T03:30:07.319861Z",
     "iopub.status.busy": "2022-08-27T03:30:07.319317Z",
     "iopub.status.idle": "2022-08-27T03:30:07.343783Z",
     "shell.execute_reply": "2022-08-27T03:30:07.344192Z"
    },
    "papermill": {
     "duration": 0.040734,
     "end_time": "2022-08-27T03:30:07.344314",
     "exception": false,
     "start_time": "2022-08-27T03:30:07.303580",
     "status": "completed"
    },
    "tags": []
   },
   "outputs": [],
   "source": [
    "#hide\n",
    "#Koreliacijos matrica. "
   ]
  },
  {
   "cell_type": "code",
   "execution_count": 12,
   "id": "modular-magnitude",
   "metadata": {
    "execution": {
     "iopub.execute_input": "2022-08-27T03:30:07.373828Z",
     "iopub.status.busy": "2022-08-27T03:30:07.373233Z",
     "iopub.status.idle": "2022-08-27T03:30:07.399203Z",
     "shell.execute_reply": "2022-08-27T03:30:07.398641Z"
    },
    "papermill": {
     "duration": 0.041695,
     "end_time": "2022-08-27T03:30:07.399310",
     "exception": false,
     "start_time": "2022-08-27T03:30:07.357615",
     "status": "completed"
    },
    "tags": []
   },
   "outputs": [],
   "source": [
    "#hide_input\n",
    "#plt.figure(figsize=(15, 8))\n",
    "#sns.heatmap(df_all_mrk[sum_corr].corr(), annot=True, cmap=\"BrBG\");\n",
    "#plt.savefig('corr_matrix_all.eps', format='eps')"
   ]
  },
  {
   "cell_type": "code",
   "execution_count": null,
   "id": "original-senator",
   "metadata": {
    "papermill": {
     "duration": 0.013154,
     "end_time": "2022-08-27T03:30:07.425805",
     "exception": false,
     "start_time": "2022-08-27T03:30:07.412651",
     "status": "completed"
    },
    "tags": []
   },
   "outputs": [],
   "source": []
  },
  {
   "cell_type": "code",
   "execution_count": null,
   "id": "saving-secretariat",
   "metadata": {
    "papermill": {
     "duration": 0.013097,
     "end_time": "2022-08-27T03:30:07.452044",
     "exception": false,
     "start_time": "2022-08-27T03:30:07.438947",
     "status": "completed"
    },
    "tags": []
   },
   "outputs": [],
   "source": []
  }
 ],
 "metadata": {
  "kernelspec": {
   "display_name": "Python 3",
   "language": "python",
   "name": "python3"
  },
  "language_info": {
   "codemirror_mode": {
    "name": "ipython",
    "version": 3
   },
   "file_extension": ".py",
   "mimetype": "text/x-python",
   "name": "python",
   "nbconvert_exporter": "python",
   "pygments_lexer": "ipython3",
   "version": "3.6.15"
  },
  "papermill": {
   "default_parameters": {},
   "duration": 17.123728,
   "end_time": "2022-08-27T03:30:07.882740",
   "environment_variables": {},
   "exception": null,
   "input_path": "App-Correlation_charts.ipynb",
   "output_path": "App-Correlation_charts.ipynb",
   "parameters": {},
   "start_time": "2022-08-27T03:29:50.759012",
   "version": "2.2.2"
  }
 },
 "nbformat": 4,
 "nbformat_minor": 5
}