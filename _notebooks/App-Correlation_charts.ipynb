{
 "cells": [
  {
   "cell_type": "markdown",
   "id": "touched-facility",
   "metadata": {
    "papermill": {
     "duration": 0.01502,
     "end_time": "2022-02-06T02:10:39.240603",
     "exception": false,
     "start_time": "2022-02-06T02:10:39.225583",
     "status": "completed"
    },
    "tags": []
   },
   "source": [
    "# Koreliacijų matrica\n",
    "> Išplėstinė koreliacijų matrica. \n",
    "\n",
    "- toc: true \n",
    "- badges: true\n",
    "- comments: false\n",
    "- categories: [Dominykas Tautkus]\n",
    "- image: images/matrix.png"
   ]
  },
  {
   "cell_type": "code",
   "execution_count": null,
   "id": "premium-weekend",
   "metadata": {
    "papermill": {
     "duration": 0.010586,
     "end_time": "2022-02-06T02:10:39.262509",
     "exception": false,
     "start_time": "2022-02-06T02:10:39.251923",
     "status": "completed"
    },
    "tags": []
   },
   "outputs": [],
   "source": []
  },
  {
   "cell_type": "code",
   "execution_count": 1,
   "id": "vertical-rebate",
   "metadata": {
    "execution": {
     "iopub.execute_input": "2022-02-06T02:10:39.294376Z",
     "iopub.status.busy": "2022-02-06T02:10:39.293831Z",
     "iopub.status.idle": "2022-02-06T02:10:39.305576Z",
     "shell.execute_reply": "2022-02-06T02:10:39.305125Z"
    },
    "papermill": {
     "duration": 0.032708,
     "end_time": "2022-02-06T02:10:39.305699",
     "exception": false,
     "start_time": "2022-02-06T02:10:39.272991",
     "status": "completed"
    },
    "tags": []
   },
   "outputs": [],
   "source": [
    "#hide\n",
    "%load_ext autoreload\n",
    "%autoreload 2"
   ]
  },
  {
   "cell_type": "code",
   "execution_count": 2,
   "id": "overall-advancement",
   "metadata": {
    "execution": {
     "iopub.execute_input": "2022-02-06T02:10:39.332443Z",
     "iopub.status.busy": "2022-02-06T02:10:39.331907Z",
     "iopub.status.idle": "2022-02-06T02:10:40.512976Z",
     "shell.execute_reply": "2022-02-06T02:10:40.512011Z"
    },
    "papermill": {
     "duration": 1.196678,
     "end_time": "2022-02-06T02:10:40.513123",
     "exception": false,
     "start_time": "2022-02-06T02:10:39.316445",
     "status": "completed"
    },
    "tags": []
   },
   "outputs": [],
   "source": [
    "#hide\n",
    "from scripts.read_data import read_api\n",
    "from IPython.display import HTML\n",
    "import plotly.graph_objects as go\n"
   ]
  },
  {
   "cell_type": "code",
   "execution_count": 3,
   "id": "light-crazy",
   "metadata": {
    "execution": {
     "iopub.execute_input": "2022-02-06T02:10:40.538326Z",
     "iopub.status.busy": "2022-02-06T02:10:40.537752Z",
     "iopub.status.idle": "2022-02-06T02:10:40.559637Z",
     "shell.execute_reply": "2022-02-06T02:10:40.560092Z"
    },
    "papermill": {
     "duration": 0.036273,
     "end_time": "2022-02-06T02:10:40.560247",
     "exception": false,
     "start_time": "2022-02-06T02:10:40.523974",
     "status": "completed"
    },
    "tags": []
   },
   "outputs": [],
   "source": [
    "#hide\n",
    "### ICO koreliacija"
   ]
  },
  {
   "cell_type": "code",
   "execution_count": 4,
   "id": "likely-bahrain",
   "metadata": {
    "execution": {
     "iopub.execute_input": "2022-02-06T02:10:40.595191Z",
     "iopub.status.busy": "2022-02-06T02:10:40.593114Z",
     "iopub.status.idle": "2022-02-06T02:10:41.466614Z",
     "shell.execute_reply": "2022-02-06T02:10:41.466037Z"
    },
    "papermill": {
     "duration": 0.895933,
     "end_time": "2022-02-06T02:10:41.466775",
     "exception": false,
     "start_time": "2022-02-06T02:10:40.570842",
     "status": "completed"
    },
    "tags": []
   },
   "outputs": [],
   "source": [
    "#hide\n",
    "import matplotlib.pyplot as plt\n",
    "import numpy as np\n",
    "import pandas as pd\n",
    "import seaborn as sns\n",
    "import matplotlib.pyplot as plt \n",
    "import matplotlib.dates as mdates\n",
    "import matplotlib.pyplot as plt"
   ]
  },
  {
   "cell_type": "code",
   "execution_count": 5,
   "id": "superior-blanket",
   "metadata": {
    "execution": {
     "iopub.execute_input": "2022-02-06T02:10:41.499356Z",
     "iopub.status.busy": "2022-02-06T02:10:41.498558Z",
     "iopub.status.idle": "2022-02-06T02:11:02.307602Z",
     "shell.execute_reply": "2022-02-06T02:11:02.307087Z"
    },
    "papermill": {
     "duration": 20.830018,
     "end_time": "2022-02-06T02:11:02.307731",
     "exception": false,
     "start_time": "2022-02-06T02:10:41.477713",
     "status": "completed"
    },
    "tags": []
   },
   "outputs": [
    {
     "name": "stderr",
     "output_type": "stream",
     "text": [
      "/home/runner/work/corr-app/corr-app/_notebooks/scripts/read_data.py:187: SettingWithCopyWarning:\n",
      "\n",
      "\n",
      "A value is trying to be set on a copy of a slice from a DataFrame.\n",
      "Try using .loc[row_indexer,col_indexer] = value instead\n",
      "\n",
      "See the caveats in the documentation: https://pandas.pydata.org/pandas-docs/stable/user_guide/indexing.html#returning-a-view-versus-a-copy\n",
      "\n"
     ]
    },
    {
     "name": "stderr",
     "output_type": "stream",
     "text": [
      "/home/runner/work/corr-app/corr-app/_notebooks/scripts/read_data.py:215: SettingWithCopyWarning:\n",
      "\n",
      "\n",
      "A value is trying to be set on a copy of a slice from a DataFrame.\n",
      "Try using .loc[row_indexer,col_indexer] = value instead\n",
      "\n",
      "See the caveats in the documentation: https://pandas.pydata.org/pandas-docs/stable/user_guide/indexing.html#returning-a-view-versus-a-copy\n",
      "\n"
     ]
    }
   ],
   "source": [
    "#hide\n",
    "df_all = read_api()\n",
    "#df_all = df_all.drop(['SP500', 'XAU', 'ETH', 'BTC'], axis=1)\n",
    "\n"
   ]
  },
  {
   "cell_type": "code",
   "execution_count": 6,
   "id": "mature-alert",
   "metadata": {
    "execution": {
     "iopub.execute_input": "2022-02-06T02:11:02.335020Z",
     "iopub.status.busy": "2022-02-06T02:11:02.334380Z",
     "iopub.status.idle": "2022-02-06T02:11:02.365151Z",
     "shell.execute_reply": "2022-02-06T02:11:02.364621Z"
    },
    "papermill": {
     "duration": 0.046023,
     "end_time": "2022-02-06T02:11:02.365289",
     "exception": false,
     "start_time": "2022-02-06T02:11:02.319266",
     "status": "completed"
    },
    "tags": []
   },
   "outputs": [],
   "source": [
    "#hide_input\n",
    "sum_corr = df_all.corr().sum().sort_values(ascending=True).index.values\n",
    "#df_all[sum_corr].corr()"
   ]
  },
  {
   "cell_type": "markdown",
   "id": "complex-syndicate",
   "metadata": {
    "papermill": {
     "duration": 0.011067,
     "end_time": "2022-02-06T02:11:02.387939",
     "exception": false,
     "start_time": "2022-02-06T02:11:02.376872",
     "status": "completed"
    },
    "tags": []
   },
   "source": [
    "## Išplėstinė koreliacijų matrica. "
   ]
  },
  {
   "cell_type": "code",
   "execution_count": 7,
   "id": "atomic-omaha",
   "metadata": {
    "execution": {
     "iopub.execute_input": "2022-02-06T02:11:02.427283Z",
     "iopub.status.busy": "2022-02-06T02:11:02.423320Z",
     "iopub.status.idle": "2022-02-06T02:11:03.681065Z",
     "shell.execute_reply": "2022-02-06T02:11:03.680604Z"
    },
    "papermill": {
     "duration": 1.282202,
     "end_time": "2022-02-06T02:11:03.681188",
     "exception": false,
     "start_time": "2022-02-06T02:11:02.398986",
     "status": "completed"
    },
    "tags": []
   },
   "outputs": [
    {
     "data": {
      "image/png": "[encoded data removed]",
      "text/plain": [
       "<Figure size 1080x792 with 2 Axes>"
      ]
     },
     "metadata": {
      "needs_background": "light"
     },
     "output_type": "display_data"
    }
   ],
   "source": [
    "#hide_input\n",
    "plt.figure(figsize=(15, 11))\n",
    "sns.heatmap(df_all[sum_corr].corr(), annot=True, cmap=\"cubehelix\") \n",
    "sns.set(font_scale=1.25)\n",
    "plt.savefig('corr_matrix.png', format='eps')"
   ]
  },
  {
   "cell_type": "code",
   "execution_count": 8,
   "id": "arbitrary-sullivan",
   "metadata": {
    "execution": {
     "iopub.execute_input": "2022-02-06T02:11:03.727848Z",
     "iopub.status.busy": "2022-02-06T02:11:03.727314Z",
     "iopub.status.idle": "2022-02-06T02:11:03.749946Z",
     "shell.execute_reply": "2022-02-06T02:11:03.750374Z"
    },
    "papermill": {
     "duration": 0.045137,
     "end_time": "2022-02-06T02:11:03.750536",
     "exception": false,
     "start_time": "2022-02-06T02:11:03.705399",
     "status": "completed"
    },
    "tags": []
   },
   "outputs": [],
   "source": [
    "#hide\n",
    "#df_all_mrk = read_api()"
   ]
  },
  {
   "cell_type": "code",
   "execution_count": 9,
   "id": "delayed-adapter",
   "metadata": {
    "execution": {
     "iopub.execute_input": "2022-02-06T02:11:03.858419Z",
     "iopub.status.busy": "2022-02-06T02:11:03.857875Z",
     "iopub.status.idle": "2022-02-06T02:11:03.881801Z",
     "shell.execute_reply": "2022-02-06T02:11:03.881164Z"
    },
    "papermill": {
     "duration": 0.117936,
     "end_time": "2022-02-06T02:11:03.881937",
     "exception": false,
     "start_time": "2022-02-06T02:11:03.764001",
     "status": "completed"
    },
    "tags": []
   },
   "outputs": [],
   "source": [
    "#hide\n",
    "#Koreliacijų koeficientai"
   ]
  },
  {
   "cell_type": "code",
   "execution_count": 10,
   "id": "seeing-celebration",
   "metadata": {
    "execution": {
     "iopub.execute_input": "2022-02-06T02:11:03.918348Z",
     "iopub.status.busy": "2022-02-06T02:11:03.917790Z",
     "iopub.status.idle": "2022-02-06T02:11:03.942797Z",
     "shell.execute_reply": "2022-02-06T02:11:03.943255Z"
    },
    "papermill": {
     "duration": 0.042638,
     "end_time": "2022-02-06T02:11:03.943409",
     "exception": false,
     "start_time": "2022-02-06T02:11:03.900771",
     "status": "completed"
    },
    "tags": []
   },
   "outputs": [],
   "source": [
    "#hide_input\n",
    "#sum_corr = df_all_mrk.corr().sum().sort_values(ascending=True).index.values\n",
    "#df_all_mrk[sum_corr].corr()"
   ]
  },
  {
   "cell_type": "code",
   "execution_count": 11,
   "id": "other-painting",
   "metadata": {
    "execution": {
     "iopub.execute_input": "2022-02-06T02:11:03.972947Z",
     "iopub.status.busy": "2022-02-06T02:11:03.972431Z",
     "iopub.status.idle": "2022-02-06T02:11:04.000061Z",
     "shell.execute_reply": "2022-02-06T02:11:03.999608Z"
    },
    "papermill": {
     "duration": 0.043527,
     "end_time": "2022-02-06T02:11:04.000178",
     "exception": false,
     "start_time": "2022-02-06T02:11:03.956651",
     "status": "completed"
    },
    "tags": []
   },
   "outputs": [],
   "source": [
    "#hide\n",
    "#Koreliacijos matrica. "
   ]
  },
  {
   "cell_type": "code",
   "execution_count": 12,
   "id": "modular-magnitude",
   "metadata": {
    "execution": {
     "iopub.execute_input": "2022-02-06T02:11:04.037982Z",
     "iopub.status.busy": "2022-02-06T02:11:04.037466Z",
     "iopub.status.idle": "2022-02-06T02:11:04.059106Z",
     "shell.execute_reply": "2022-02-06T02:11:04.058675Z"
    },
    "papermill": {
     "duration": 0.045816,
     "end_time": "2022-02-06T02:11:04.059227",
     "exception": false,
     "start_time": "2022-02-06T02:11:04.013411",
     "status": "completed"
    },
    "tags": []
   },
   "outputs": [],
   "source": [
    "#hide_input\n",
    "#plt.figure(figsize=(15, 8))\n",
    "#sns.heatmap(df_all_mrk[sum_corr].corr(), annot=True, cmap=\"BrBG\");\n",
    "#plt.savefig('corr_matrix_all.eps', format='eps')"
   ]
  },
  {
   "cell_type": "code",
   "execution_count": null,
   "id": "original-senator",
   "metadata": {
    "papermill": {
     "duration": 0.012912,
     "end_time": "2022-02-06T02:11:04.085219",
     "exception": false,
     "start_time": "2022-02-06T02:11:04.072307",
     "status": "completed"
    },
    "tags": []
   },
   "outputs": [],
   "source": []
  },
  {
   "cell_type": "code",
   "execution_count": null,
   "id": "saving-secretariat",
   "metadata": {
    "papermill": {
     "duration": 0.013789,
     "end_time": "2022-02-06T02:11:04.111906",
     "exception": false,
     "start_time": "2022-02-06T02:11:04.098117",
     "status": "completed"
    },
    "tags": []
   },
   "outputs": [],
   "source": []
  }
 ],
 "metadata": {
  "kernelspec": {
   "display_name": "Python 3",
   "language": "python",
   "name": "python3"
  },
  "language_info": {
   "codemirror_mode": {
    "name": "ipython",
    "version": 3
   },
   "file_extension": ".py",
   "mimetype": "text/x-python",
   "name": "python",
   "nbconvert_exporter": "python",
   "pygments_lexer": "ipython3",
   "version": "3.6.15"
  },
  "papermill": {
   "default_parameters": {},
   "duration": 26.343845,
   "end_time": "2022-02-06T02:11:04.644550",
   "environment_variables": {},
   "exception": null,
   "input_path": "App-Correlation_charts.ipynb",
   "output_path": "App-Correlation_charts.ipynb",
   "parameters": {},
   "start_time": "2022-02-06T02:10:38.300705",
   "version": "2.2.2"
  }
 },
 "nbformat": 4,
 "nbformat_minor": 5
}