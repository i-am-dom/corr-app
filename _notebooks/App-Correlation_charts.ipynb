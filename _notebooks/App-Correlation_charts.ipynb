{
 "cells": [
  {
   "cell_type": "markdown",
   "id": "touched-facility",
   "metadata": {
    "papermill": {
     "duration": 0.01859,
     "end_time": "2022-09-19T03:52:41.862298",
     "exception": false,
     "start_time": "2022-09-19T03:52:41.843708",
     "status": "completed"
    },
    "tags": []
   },
   "source": [
    "# Koreliacijų matrica\n",
    "> Išplėstinė koreliacijų matrica. \n",
    "\n",
    "- toc: true \n",
    "- badges: true\n",
    "- comments: false\n",
    "- categories: [Dominykas Tautkus]\n",
    "- image: images/matrix.png"
   ]
  },
  {
   "cell_type": "code",
   "execution_count": null,
   "id": "premium-weekend",
   "metadata": {
    "papermill": {
     "duration": 0.01404,
     "end_time": "2022-09-19T03:52:41.890675",
     "exception": false,
     "start_time": "2022-09-19T03:52:41.876635",
     "status": "completed"
    },
    "tags": []
   },
   "outputs": [],
   "source": []
  },
  {
   "cell_type": "code",
   "execution_count": 1,
   "id": "vertical-rebate",
   "metadata": {
    "execution": {
     "iopub.execute_input": "2022-09-19T03:52:41.928876Z",
     "iopub.status.busy": "2022-09-19T03:52:41.928121Z",
     "iopub.status.idle": "2022-09-19T03:52:41.941739Z",
     "shell.execute_reply": "2022-09-19T03:52:41.941005Z"
    },
    "papermill": {
     "duration": 0.037094,
     "end_time": "2022-09-19T03:52:41.941880",
     "exception": false,
     "start_time": "2022-09-19T03:52:41.904786",
     "status": "completed"
    },
    "tags": []
   },
   "outputs": [],
   "source": [
    "#hide\n",
    "%load_ext autoreload\n",
    "%autoreload 2"
   ]
  },
  {
   "cell_type": "code",
   "execution_count": 2,
   "id": "overall-advancement",
   "metadata": {
    "execution": {
     "iopub.execute_input": "2022-09-19T03:52:41.978853Z",
     "iopub.status.busy": "2022-09-19T03:52:41.973719Z",
     "iopub.status.idle": "2022-09-19T03:52:43.567657Z",
     "shell.execute_reply": "2022-09-19T03:52:43.567090Z"
    },
    "papermill": {
     "duration": 1.613787,
     "end_time": "2022-09-19T03:52:43.567795",
     "exception": false,
     "start_time": "2022-09-19T03:52:41.954008",
     "status": "completed"
    },
    "tags": []
   },
   "outputs": [],
   "source": [
    "#hide\n",
    "from scripts.read_data import read_api\n",
    "from IPython.display import HTML\n",
    "import plotly.graph_objects as go\n"
   ]
  },
  {
   "cell_type": "code",
   "execution_count": 3,
   "id": "light-crazy",
   "metadata": {
    "execution": {
     "iopub.execute_input": "2022-09-19T03:52:43.598606Z",
     "iopub.status.busy": "2022-09-19T03:52:43.596965Z",
     "iopub.status.idle": "2022-09-19T03:52:43.619692Z",
     "shell.execute_reply": "2022-09-19T03:52:43.620198Z"
    },
    "papermill": {
     "duration": 0.040019,
     "end_time": "2022-09-19T03:52:43.620456",
     "exception": false,
     "start_time": "2022-09-19T03:52:43.580437",
     "status": "completed"
    },
    "tags": []
   },
   "outputs": [],
   "source": [
    "#hide\n",
    "### ICO koreliacija"
   ]
  },
  {
   "cell_type": "code",
   "execution_count": 4,
   "id": "likely-bahrain",
   "metadata": {
    "execution": {
     "iopub.execute_input": "2022-09-19T03:52:43.650310Z",
     "iopub.status.busy": "2022-09-19T03:52:43.649654Z",
     "iopub.status.idle": "2022-09-19T03:52:44.583191Z",
     "shell.execute_reply": "2022-09-19T03:52:44.582622Z"
    },
    "papermill": {
     "duration": 0.95123,
     "end_time": "2022-09-19T03:52:44.583331",
     "exception": false,
     "start_time": "2022-09-19T03:52:43.632101",
     "status": "completed"
    },
    "tags": []
   },
   "outputs": [],
   "source": [
    "#hide\n",
    "import matplotlib.pyplot as plt\n",
    "import numpy as np\n",
    "import pandas as pd\n",
    "import seaborn as sns\n",
    "import matplotlib.pyplot as plt \n",
    "import matplotlib.dates as mdates\n",
    "import matplotlib.pyplot as plt"
   ]
  },
  {
   "cell_type": "code",
   "execution_count": 5,
   "id": "superior-blanket",
   "metadata": {
    "execution": {
     "iopub.execute_input": "2022-09-19T03:52:44.611363Z",
     "iopub.status.busy": "2022-09-19T03:52:44.610678Z",
     "iopub.status.idle": "2022-09-19T03:52:56.493125Z",
     "shell.execute_reply": "2022-09-19T03:52:56.492362Z"
    },
    "papermill": {
     "duration": 11.897855,
     "end_time": "2022-09-19T03:52:56.493300",
     "exception": false,
     "start_time": "2022-09-19T03:52:44.595445",
     "status": "completed"
    },
    "tags": []
   },
   "outputs": [
    {
     "name": "stderr",
     "output_type": "stream",
     "text": [
      "/home/runner/work/corr-app/corr-app/_notebooks/scripts/read_data.py:187: SettingWithCopyWarning:\n",
      "\n",
      "\n",
      "A value is trying to be set on a copy of a slice from a DataFrame.\n",
      "Try using .loc[row_indexer,col_indexer] = value instead\n",
      "\n",
      "See the caveats in the documentation: https://pandas.pydata.org/pandas-docs/stable/user_guide/indexing.html#returning-a-view-versus-a-copy\n",
      "\n"
     ]
    },
    {
     "name": "stderr",
     "output_type": "stream",
     "text": [
      "/home/runner/work/corr-app/corr-app/_notebooks/scripts/read_data.py:215: SettingWithCopyWarning:\n",
      "\n",
      "\n",
      "A value is trying to be set on a copy of a slice from a DataFrame.\n",
      "Try using .loc[row_indexer,col_indexer] = value instead\n",
      "\n",
      "See the caveats in the documentation: https://pandas.pydata.org/pandas-docs/stable/user_guide/indexing.html#returning-a-view-versus-a-copy\n",
      "\n"
     ]
    }
   ],
   "source": [
    "#hide\n",
    "df_all = read_api()\n",
    "#df_all = df_all.drop(['SP500', 'XAU', 'ETH', 'BTC'], axis=1)\n",
    "\n"
   ]
  },
  {
   "cell_type": "code",
   "execution_count": 6,
   "id": "mature-alert",
   "metadata": {
    "execution": {
     "iopub.execute_input": "2022-09-19T03:52:56.530279Z",
     "iopub.status.busy": "2022-09-19T03:52:56.527466Z",
     "iopub.status.idle": "2022-09-19T03:52:56.561539Z",
     "shell.execute_reply": "2022-09-19T03:52:56.562053Z"
    },
    "papermill": {
     "duration": 0.054146,
     "end_time": "2022-09-19T03:52:56.562203",
     "exception": false,
     "start_time": "2022-09-19T03:52:56.508057",
     "status": "completed"
    },
    "tags": []
   },
   "outputs": [],
   "source": [
    "#hide_input\n",
    "sum_corr = df_all.corr().sum().sort_values(ascending=True).index.values\n",
    "#df_all[sum_corr].corr()"
   ]
  },
  {
   "cell_type": "markdown",
   "id": "complex-syndicate",
   "metadata": {
    "papermill": {
     "duration": 0.012717,
     "end_time": "2022-09-19T03:52:56.587737",
     "exception": false,
     "start_time": "2022-09-19T03:52:56.575020",
     "status": "completed"
    },
    "tags": []
   },
   "source": [
    "## Išplėstinė koreliacijų matrica. "
   ]
  },
  {
   "cell_type": "code",
   "execution_count": 7,
   "id": "atomic-omaha",
   "metadata": {
    "execution": {
     "iopub.execute_input": "2022-09-19T03:52:56.618593Z",
     "iopub.status.busy": "2022-09-19T03:52:56.617916Z",
     "iopub.status.idle": "2022-09-19T03:52:58.156751Z",
     "shell.execute_reply": "2022-09-19T03:52:58.156209Z"
    },
    "papermill": {
     "duration": 1.556306,
     "end_time": "2022-09-19T03:52:58.156884",
     "exception": false,
     "start_time": "2022-09-19T03:52:56.600578",
     "status": "completed"
    },
    "tags": []
   },
   "outputs": [
    {
     "data": {
      "image/png": "[encoded data removed]",
      "text/plain": [
       "<Figure size 1080x792 with 2 Axes>"
      ]
     },
     "metadata": {
      "needs_background": "light"
     },
     "output_type": "display_data"
    }
   ],
   "source": [
    "#hide_input\n",
    "plt.figure(figsize=(15, 11))\n",
    "sns.heatmap(df_all[sum_corr].corr(), annot=True, cmap=\"cubehelix\") \n",
    "sns.set(font_scale=1.25)\n",
    "plt.savefig('corr_matrix.png', format='eps')"
   ]
  },
  {
   "cell_type": "code",
   "execution_count": 8,
   "id": "arbitrary-sullivan",
   "metadata": {
    "execution": {
     "iopub.execute_input": "2022-09-19T03:52:58.198466Z",
     "iopub.status.busy": "2022-09-19T03:52:58.197783Z",
     "iopub.status.idle": "2022-09-19T03:52:58.223562Z",
     "shell.execute_reply": "2022-09-19T03:52:58.224428Z"
    },
    "papermill": {
     "duration": 0.051318,
     "end_time": "2022-09-19T03:52:58.224579",
     "exception": false,
     "start_time": "2022-09-19T03:52:58.173261",
     "status": "completed"
    },
    "tags": []
   },
   "outputs": [],
   "source": [
    "#hide\n",
    "#df_all_mrk = read_api()"
   ]
  },
  {
   "cell_type": "code",
   "execution_count": 9,
   "id": "delayed-adapter",
   "metadata": {
    "execution": {
     "iopub.execute_input": "2022-09-19T03:52:58.267316Z",
     "iopub.status.busy": "2022-09-19T03:52:58.256746Z",
     "iopub.status.idle": "2022-09-19T03:52:58.287884Z",
     "shell.execute_reply": "2022-09-19T03:52:58.288677Z"
    },
    "papermill": {
     "duration": 0.04933,
     "end_time": "2022-09-19T03:52:58.288812",
     "exception": false,
     "start_time": "2022-09-19T03:52:58.239482",
     "status": "completed"
    },
    "tags": []
   },
   "outputs": [],
   "source": [
    "#hide\n",
    "#Koreliacijų koeficientai"
   ]
  },
  {
   "cell_type": "code",
   "execution_count": 10,
   "id": "seeing-celebration",
   "metadata": {
    "execution": {
     "iopub.execute_input": "2022-09-19T03:52:58.324942Z",
     "iopub.status.busy": "2022-09-19T03:52:58.324249Z",
     "iopub.status.idle": "2022-09-19T03:52:58.350388Z",
     "shell.execute_reply": "2022-09-19T03:52:58.351053Z"
    },
    "papermill": {
     "duration": 0.047715,
     "end_time": "2022-09-19T03:52:58.351205",
     "exception": false,
     "start_time": "2022-09-19T03:52:58.303490",
     "status": "completed"
    },
    "tags": []
   },
   "outputs": [],
   "source": [
    "#hide_input\n",
    "#sum_corr = df_all_mrk.corr().sum().sort_values(ascending=True).index.values\n",
    "#df_all_mrk[sum_corr].corr()"
   ]
  },
  {
   "cell_type": "code",
   "execution_count": 11,
   "id": "other-painting",
   "metadata": {
    "execution": {
     "iopub.execute_input": "2022-09-19T03:52:58.396148Z",
     "iopub.status.busy": "2022-09-19T03:52:58.382291Z",
     "iopub.status.idle": "2022-09-19T03:52:58.413661Z",
     "shell.execute_reply": "2022-09-19T03:52:58.414221Z"
    },
    "papermill": {
     "duration": 0.049043,
     "end_time": "2022-09-19T03:52:58.414358",
     "exception": false,
     "start_time": "2022-09-19T03:52:58.365315",
     "status": "completed"
    },
    "tags": []
   },
   "outputs": [],
   "source": [
    "#hide\n",
    "#Koreliacijos matrica. "
   ]
  },
  {
   "cell_type": "code",
   "execution_count": 12,
   "id": "modular-magnitude",
   "metadata": {
    "execution": {
     "iopub.execute_input": "2022-09-19T03:52:58.463845Z",
     "iopub.status.busy": "2022-09-19T03:52:58.462663Z",
     "iopub.status.idle": "2022-09-19T03:52:58.479267Z",
     "shell.execute_reply": "2022-09-19T03:52:58.479929Z"
    },
    "papermill": {
     "duration": 0.050204,
     "end_time": "2022-09-19T03:52:58.480061",
     "exception": false,
     "start_time": "2022-09-19T03:52:58.429857",
     "status": "completed"
    },
    "tags": []
   },
   "outputs": [],
   "source": [
    "#hide_input\n",
    "#plt.figure(figsize=(15, 8))\n",
    "#sns.heatmap(df_all_mrk[sum_corr].corr(), annot=True, cmap=\"BrBG\");\n",
    "#plt.savefig('corr_matrix_all.eps', format='eps')"
   ]
  },
  {
   "cell_type": "code",
   "execution_count": null,
   "id": "original-senator",
   "metadata": {
    "papermill": {
     "duration": 0.014113,
     "end_time": "2022-09-19T03:52:58.508203",
     "exception": false,
     "start_time": "2022-09-19T03:52:58.494090",
     "status": "completed"
    },
    "tags": []
   },
   "outputs": [],
   "source": []
  },
  {
   "cell_type": "code",
   "execution_count": null,
   "id": "saving-secretariat",
   "metadata": {
    "papermill": {
     "duration": 0.014191,
     "end_time": "2022-09-19T03:52:58.536645",
     "exception": false,
     "start_time": "2022-09-19T03:52:58.522454",
     "status": "completed"
    },
    "tags": []
   },
   "outputs": [],
   "source": []
  }
 ],
 "metadata": {
  "kernelspec": {
   "display_name": "Python 3",
   "language": "python",
   "name": "python3"
  },
  "language_info": {
   "codemirror_mode": {
    "name": "ipython",
    "version": 3
   },
   "file_extension": ".py",
   "mimetype": "text/x-python",
   "name": "python",
   "nbconvert_exporter": "python",
   "pygments_lexer": "ipython3",
   "version": "3.6.15"
  },
  "papermill": {
   "default_parameters": {},
   "duration": 18.362621,
   "end_time": "2022-09-19T03:52:59.069477",
   "environment_variables": {},
   "exception": null,
   "input_path": "App-Correlation_charts.ipynb",
   "output_path": "App-Correlation_charts.ipynb",
   "parameters": {},
   "start_time": "2022-09-19T03:52:40.706856",
   "version": "2.2.2"
  }
 },
 "nbformat": 4,
 "nbformat_minor": 5
}