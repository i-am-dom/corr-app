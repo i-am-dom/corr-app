{
 "cells": [
  {
   "cell_type": "markdown",
   "id": "touched-facility",
   "metadata": {
    "papermill": {
     "duration": 0.046036,
     "end_time": "2021-09-30T02:05:07.793239",
     "exception": false,
     "start_time": "2021-09-30T02:05:07.747203",
     "status": "completed"
    },
    "tags": []
   },
   "source": [
    "# Koreliacijų matrica\n",
    "> Išplėstinė koreliacijų matrica. \n",
    "\n",
    "- toc: true \n",
    "- badges: true\n",
    "- comments: false\n",
    "- categories: [Dominykas Tautkus]\n",
    "- image: images/matrix.png"
   ]
  },
  {
   "cell_type": "code",
   "execution_count": null,
   "id": "premium-weekend",
   "metadata": {
    "papermill": {
     "duration": 0.04223,
     "end_time": "2021-09-30T02:05:07.878336",
     "exception": false,
     "start_time": "2021-09-30T02:05:07.836106",
     "status": "completed"
    },
    "tags": []
   },
   "outputs": [],
   "source": []
  },
  {
   "cell_type": "code",
   "execution_count": 1,
   "id": "vertical-rebate",
   "metadata": {
    "execution": {
     "iopub.execute_input": "2021-09-30T02:05:07.972984Z",
     "iopub.status.busy": "2021-09-30T02:05:07.972469Z",
     "iopub.status.idle": "2021-09-30T02:05:07.982657Z",
     "shell.execute_reply": "2021-09-30T02:05:07.982206Z"
    },
    "papermill": {
     "duration": 0.062272,
     "end_time": "2021-09-30T02:05:07.982774",
     "exception": false,
     "start_time": "2021-09-30T02:05:07.920502",
     "status": "completed"
    },
    "tags": []
   },
   "outputs": [],
   "source": [
    "#hide\n",
    "%load_ext autoreload\n",
    "%autoreload 2"
   ]
  },
  {
   "cell_type": "code",
   "execution_count": 2,
   "id": "overall-advancement",
   "metadata": {
    "execution": {
     "iopub.execute_input": "2021-09-30T02:05:08.070245Z",
     "iopub.status.busy": "2021-09-30T02:05:08.069742Z",
     "iopub.status.idle": "2021-09-30T02:05:09.098301Z",
     "shell.execute_reply": "2021-09-30T02:05:09.097758Z"
    },
    "papermill": {
     "duration": 1.07325,
     "end_time": "2021-09-30T02:05:09.098448",
     "exception": false,
     "start_time": "2021-09-30T02:05:08.025198",
     "status": "completed"
    },
    "tags": []
   },
   "outputs": [],
   "source": [
    "#hide\n",
    "from scripts.read_data import read_api\n",
    "from IPython.display import HTML\n",
    "import plotly.graph_objects as go\n"
   ]
  },
  {
   "cell_type": "code",
   "execution_count": 3,
   "id": "light-crazy",
   "metadata": {
    "execution": {
     "iopub.execute_input": "2021-09-30T02:05:09.191485Z",
     "iopub.status.busy": "2021-09-30T02:05:09.190980Z",
     "iopub.status.idle": "2021-09-30T02:05:09.208500Z",
     "shell.execute_reply": "2021-09-30T02:05:09.208878Z"
    },
    "papermill": {
     "duration": 0.068115,
     "end_time": "2021-09-30T02:05:09.208997",
     "exception": false,
     "start_time": "2021-09-30T02:05:09.140882",
     "status": "completed"
    },
    "tags": []
   },
   "outputs": [],
   "source": [
    "#hide\n",
    "### ICO koreliacija"
   ]
  },
  {
   "cell_type": "code",
   "execution_count": 4,
   "id": "likely-bahrain",
   "metadata": {
    "execution": {
     "iopub.execute_input": "2021-09-30T02:05:09.303642Z",
     "iopub.status.busy": "2021-09-30T02:05:09.303129Z",
     "iopub.status.idle": "2021-09-30T02:05:10.077996Z",
     "shell.execute_reply": "2021-09-30T02:05:10.077486Z"
    },
    "papermill": {
     "duration": 0.827052,
     "end_time": "2021-09-30T02:05:10.078131",
     "exception": false,
     "start_time": "2021-09-30T02:05:09.251079",
     "status": "completed"
    },
    "tags": []
   },
   "outputs": [],
   "source": [
    "#hide\n",
    "import matplotlib.pyplot as plt\n",
    "import numpy as np\n",
    "import pandas as pd\n",
    "import seaborn as sns\n",
    "import matplotlib.pyplot as plt \n",
    "import matplotlib.dates as mdates\n",
    "import matplotlib.pyplot as plt"
   ]
  },
  {
   "cell_type": "code",
   "execution_count": 5,
   "id": "superior-blanket",
   "metadata": {
    "execution": {
     "iopub.execute_input": "2021-09-30T02:05:10.174912Z",
     "iopub.status.busy": "2021-09-30T02:05:10.167801Z",
     "iopub.status.idle": "2021-09-30T02:05:21.281295Z",
     "shell.execute_reply": "2021-09-30T02:05:21.280803Z"
    },
    "papermill": {
     "duration": 11.160416,
     "end_time": "2021-09-30T02:05:21.281413",
     "exception": false,
     "start_time": "2021-09-30T02:05:10.120997",
     "status": "completed"
    },
    "tags": []
   },
   "outputs": [
    {
     "name": "stderr",
     "output_type": "stream",
     "text": [
      "/home/runner/work/corr-app/corr-app/_notebooks/scripts/read_data.py:187: SettingWithCopyWarning:\n",
      "\n",
      "\n",
      "A value is trying to be set on a copy of a slice from a DataFrame.\n",
      "Try using .loc[row_indexer,col_indexer] = value instead\n",
      "\n",
      "See the caveats in the documentation: https://pandas.pydata.org/pandas-docs/stable/user_guide/indexing.html#returning-a-view-versus-a-copy\n",
      "\n"
     ]
    },
    {
     "name": "stderr",
     "output_type": "stream",
     "text": [
      "/home/runner/work/corr-app/corr-app/_notebooks/scripts/read_data.py:215: SettingWithCopyWarning:\n",
      "\n",
      "\n",
      "A value is trying to be set on a copy of a slice from a DataFrame.\n",
      "Try using .loc[row_indexer,col_indexer] = value instead\n",
      "\n",
      "See the caveats in the documentation: https://pandas.pydata.org/pandas-docs/stable/user_guide/indexing.html#returning-a-view-versus-a-copy\n",
      "\n"
     ]
    }
   ],
   "source": [
    "#hide\n",
    "df_all = read_api()\n",
    "#df_all = df_all.drop(['SP500', 'XAU', 'ETH', 'BTC'], axis=1)\n",
    "\n"
   ]
  },
  {
   "cell_type": "code",
   "execution_count": 6,
   "id": "mature-alert",
   "metadata": {
    "execution": {
     "iopub.execute_input": "2021-09-30T02:05:21.375192Z",
     "iopub.status.busy": "2021-09-30T02:05:21.373338Z",
     "iopub.status.idle": "2021-09-30T02:05:21.401018Z",
     "shell.execute_reply": "2021-09-30T02:05:21.400545Z"
    },
    "papermill": {
     "duration": 0.074841,
     "end_time": "2021-09-30T02:05:21.401142",
     "exception": false,
     "start_time": "2021-09-30T02:05:21.326301",
     "status": "completed"
    },
    "tags": []
   },
   "outputs": [],
   "source": [
    "#hide_input\n",
    "sum_corr = df_all.corr().sum().sort_values(ascending=True).index.values\n",
    "#df_all[sum_corr].corr()"
   ]
  },
  {
   "cell_type": "markdown",
   "id": "complex-syndicate",
   "metadata": {
    "papermill": {
     "duration": 0.043843,
     "end_time": "2021-09-30T02:05:21.491161",
     "exception": false,
     "start_time": "2021-09-30T02:05:21.447318",
     "status": "completed"
    },
    "tags": []
   },
   "source": [
    "## Išplėstinė koreliacijų matrica. "
   ]
  },
  {
   "cell_type": "code",
   "execution_count": 7,
   "id": "atomic-omaha",
   "metadata": {
    "execution": {
     "iopub.execute_input": "2021-09-30T02:05:21.583168Z",
     "iopub.status.busy": "2021-09-30T02:05:21.582653Z",
     "iopub.status.idle": "2021-09-30T02:05:22.711771Z",
     "shell.execute_reply": "2021-09-30T02:05:22.711323Z"
    },
    "papermill": {
     "duration": 1.176669,
     "end_time": "2021-09-30T02:05:22.711884",
     "exception": false,
     "start_time": "2021-09-30T02:05:21.535215",
     "status": "completed"
    },
    "tags": []
   },
   "outputs": [
    {
     "data": {
      "image/png": "[encoded data removed]",
      "text/plain": [
       "<Figure size 1080x792 with 2 Axes>"
      ]
     },
     "metadata": {
      "needs_background": "light"
     },
     "output_type": "display_data"
    }
   ],
   "source": [
    "#hide_input\n",
    "plt.figure(figsize=(15, 11))\n",
    "sns.heatmap(df_all[sum_corr].corr(), annot=True, cmap=\"cubehelix\") \n",
    "sns.set(font_scale=1.25)\n",
    "plt.savefig('corr_matrix.png', format='eps')"
   ]
  },
  {
   "cell_type": "code",
   "execution_count": 8,
   "id": "arbitrary-sullivan",
   "metadata": {
    "execution": {
     "iopub.execute_input": "2021-09-30T02:05:22.812499Z",
     "iopub.status.busy": "2021-09-30T02:05:22.811893Z",
     "iopub.status.idle": "2021-09-30T02:05:22.834628Z",
     "shell.execute_reply": "2021-09-30T02:05:22.835053Z"
    },
    "papermill": {
     "duration": 0.075169,
     "end_time": "2021-09-30T02:05:22.835206",
     "exception": false,
     "start_time": "2021-09-30T02:05:22.760037",
     "status": "completed"
    },
    "tags": []
   },
   "outputs": [],
   "source": [
    "#hide\n",
    "#df_all_mrk = read_api()"
   ]
  },
  {
   "cell_type": "code",
   "execution_count": 9,
   "id": "delayed-adapter",
   "metadata": {
    "execution": {
     "iopub.execute_input": "2021-09-30T02:05:22.934029Z",
     "iopub.status.busy": "2021-09-30T02:05:22.933530Z",
     "iopub.status.idle": "2021-09-30T02:05:22.957836Z",
     "shell.execute_reply": "2021-09-30T02:05:22.958352Z"
    },
    "papermill": {
     "duration": 0.075735,
     "end_time": "2021-09-30T02:05:22.958484",
     "exception": false,
     "start_time": "2021-09-30T02:05:22.882749",
     "status": "completed"
    },
    "tags": []
   },
   "outputs": [],
   "source": [
    "#hide\n",
    "#Koreliacijų koeficientai"
   ]
  },
  {
   "cell_type": "code",
   "execution_count": 10,
   "id": "seeing-celebration",
   "metadata": {
    "execution": {
     "iopub.execute_input": "2021-09-30T02:05:23.061086Z",
     "iopub.status.busy": "2021-09-30T02:05:23.060590Z",
     "iopub.status.idle": "2021-09-30T02:05:23.081149Z",
     "shell.execute_reply": "2021-09-30T02:05:23.080736Z"
    },
    "papermill": {
     "duration": 0.075199,
     "end_time": "2021-09-30T02:05:23.081253",
     "exception": false,
     "start_time": "2021-09-30T02:05:23.006054",
     "status": "completed"
    },
    "tags": []
   },
   "outputs": [],
   "source": [
    "#hide_input\n",
    "#sum_corr = df_all_mrk.corr().sum().sort_values(ascending=True).index.values\n",
    "#df_all_mrk[sum_corr].corr()"
   ]
  },
  {
   "cell_type": "code",
   "execution_count": 11,
   "id": "other-painting",
   "metadata": {
    "execution": {
     "iopub.execute_input": "2021-09-30T02:05:23.183244Z",
     "iopub.status.busy": "2021-09-30T02:05:23.182746Z",
     "iopub.status.idle": "2021-09-30T02:05:23.206182Z",
     "shell.execute_reply": "2021-09-30T02:05:23.205717Z"
    },
    "papermill": {
     "duration": 0.077469,
     "end_time": "2021-09-30T02:05:23.206333",
     "exception": false,
     "start_time": "2021-09-30T02:05:23.128864",
     "status": "completed"
    },
    "tags": []
   },
   "outputs": [],
   "source": [
    "#hide\n",
    "#Koreliacijos matrica. "
   ]
  },
  {
   "cell_type": "code",
   "execution_count": 12,
   "id": "modular-magnitude",
   "metadata": {
    "execution": {
     "iopub.execute_input": "2021-09-30T02:05:23.423455Z",
     "iopub.status.busy": "2021-09-30T02:05:23.422869Z",
     "iopub.status.idle": "2021-09-30T02:05:23.451295Z",
     "shell.execute_reply": "2021-09-30T02:05:23.451712Z"
    },
    "papermill": {
     "duration": 0.133652,
     "end_time": "2021-09-30T02:05:23.451836",
     "exception": false,
     "start_time": "2021-09-30T02:05:23.318184",
     "status": "completed"
    },
    "tags": []
   },
   "outputs": [],
   "source": [
    "#hide_input\n",
    "#plt.figure(figsize=(15, 8))\n",
    "#sns.heatmap(df_all_mrk[sum_corr].corr(), annot=True, cmap=\"BrBG\");\n",
    "#plt.savefig('corr_matrix_all.eps', format='eps')"
   ]
  },
  {
   "cell_type": "code",
   "execution_count": null,
   "id": "original-senator",
   "metadata": {
    "papermill": {
     "duration": 0.061045,
     "end_time": "2021-09-30T02:05:23.619530",
     "exception": false,
     "start_time": "2021-09-30T02:05:23.558485",
     "status": "completed"
    },
    "tags": []
   },
   "outputs": [],
   "source": []
  },
  {
   "cell_type": "code",
   "execution_count": null,
   "id": "saving-secretariat",
   "metadata": {
    "papermill": {
     "duration": 0.049009,
     "end_time": "2021-09-30T02:05:23.769761",
     "exception": false,
     "start_time": "2021-09-30T02:05:23.720752",
     "status": "completed"
    },
    "tags": []
   },
   "outputs": [],
   "source": []
  }
 ],
 "metadata": {
  "kernelspec": {
   "display_name": "Python 3",
   "language": "python",
   "name": "python3"
  },
  "language_info": {
   "codemirror_mode": {
    "name": "ipython",
    "version": 3
   },
   "file_extension": ".py",
   "mimetype": "text/x-python",
   "name": "python",
   "nbconvert_exporter": "python",
   "pygments_lexer": "ipython3",
   "version": "3.6.15"
  },
  "papermill": {
   "default_parameters": {},
   "duration": 17.538302,
   "end_time": "2021-09-30T02:05:24.225893",
   "environment_variables": {},
   "exception": null,
   "input_path": "App-Correlation_charts.ipynb",
   "output_path": "App-Correlation_charts.ipynb",
   "parameters": {},
   "start_time": "2021-09-30T02:05:06.687591",
   "version": "2.2.2"
  }
 },
 "nbformat": 4,
 "nbformat_minor": 5
}