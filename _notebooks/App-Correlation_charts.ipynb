{
 "cells": [
  {
   "cell_type": "markdown",
   "id": "touched-facility",
   "metadata": {
    "papermill": {
     "duration": 0.014976,
     "end_time": "2022-03-20T02:14:44.940148",
     "exception": false,
     "start_time": "2022-03-20T02:14:44.925172",
     "status": "completed"
    },
    "tags": []
   },
   "source": [
    "# Koreliacijų matrica\n",
    "> Išplėstinė koreliacijų matrica. \n",
    "\n",
    "- toc: true \n",
    "- badges: true\n",
    "- comments: false\n",
    "- categories: [Dominykas Tautkus]\n",
    "- image: images/matrix.png"
   ]
  },
  {
   "cell_type": "code",
   "execution_count": null,
   "id": "premium-weekend",
   "metadata": {
    "papermill": {
     "duration": 0.011877,
     "end_time": "2022-03-20T02:14:44.963988",
     "exception": false,
     "start_time": "2022-03-20T02:14:44.952111",
     "status": "completed"
    },
    "tags": []
   },
   "outputs": [],
   "source": []
  },
  {
   "cell_type": "code",
   "execution_count": 1,
   "id": "vertical-rebate",
   "metadata": {
    "execution": {
     "iopub.execute_input": "2022-03-20T02:14:44.997373Z",
     "iopub.status.busy": "2022-03-20T02:14:44.996790Z",
     "iopub.status.idle": "2022-03-20T02:14:45.007545Z",
     "shell.execute_reply": "2022-03-20T02:14:45.007052Z"
    },
    "papermill": {
     "duration": 0.032509,
     "end_time": "2022-03-20T02:14:45.007691",
     "exception": false,
     "start_time": "2022-03-20T02:14:44.975182",
     "status": "completed"
    },
    "tags": []
   },
   "outputs": [],
   "source": [
    "#hide\n",
    "%load_ext autoreload\n",
    "%autoreload 2"
   ]
  },
  {
   "cell_type": "code",
   "execution_count": 2,
   "id": "overall-advancement",
   "metadata": {
    "execution": {
     "iopub.execute_input": "2022-03-20T02:14:45.044826Z",
     "iopub.status.busy": "2022-03-20T02:14:45.042670Z",
     "iopub.status.idle": "2022-03-20T02:14:46.558376Z",
     "shell.execute_reply": "2022-03-20T02:14:46.557840Z"
    },
    "papermill": {
     "duration": 1.539988,
     "end_time": "2022-03-20T02:14:46.558524",
     "exception": false,
     "start_time": "2022-03-20T02:14:45.018536",
     "status": "completed"
    },
    "tags": []
   },
   "outputs": [],
   "source": [
    "#hide\n",
    "from scripts.read_data import read_api\n",
    "from IPython.display import HTML\n",
    "import plotly.graph_objects as go\n"
   ]
  },
  {
   "cell_type": "code",
   "execution_count": 3,
   "id": "light-crazy",
   "metadata": {
    "execution": {
     "iopub.execute_input": "2022-03-20T02:14:46.585222Z",
     "iopub.status.busy": "2022-03-20T02:14:46.584608Z",
     "iopub.status.idle": "2022-03-20T02:14:46.608152Z",
     "shell.execute_reply": "2022-03-20T02:14:46.608631Z"
    },
    "papermill": {
     "duration": 0.038987,
     "end_time": "2022-03-20T02:14:46.608799",
     "exception": false,
     "start_time": "2022-03-20T02:14:46.569812",
     "status": "completed"
    },
    "tags": []
   },
   "outputs": [],
   "source": [
    "#hide\n",
    "### ICO koreliacija"
   ]
  },
  {
   "cell_type": "code",
   "execution_count": 4,
   "id": "likely-bahrain",
   "metadata": {
    "execution": {
     "iopub.execute_input": "2022-03-20T02:14:46.641195Z",
     "iopub.status.busy": "2022-03-20T02:14:46.639667Z",
     "iopub.status.idle": "2022-03-20T02:14:47.582886Z",
     "shell.execute_reply": "2022-03-20T02:14:47.582346Z"
    },
    "papermill": {
     "duration": 0.963099,
     "end_time": "2022-03-20T02:14:47.583032",
     "exception": false,
     "start_time": "2022-03-20T02:14:46.619933",
     "status": "completed"
    },
    "tags": []
   },
   "outputs": [],
   "source": [
    "#hide\n",
    "import matplotlib.pyplot as plt\n",
    "import numpy as np\n",
    "import pandas as pd\n",
    "import seaborn as sns\n",
    "import matplotlib.pyplot as plt \n",
    "import matplotlib.dates as mdates\n",
    "import matplotlib.pyplot as plt"
   ]
  },
  {
   "cell_type": "code",
   "execution_count": 5,
   "id": "superior-blanket",
   "metadata": {
    "execution": {
     "iopub.execute_input": "2022-03-20T02:14:47.618367Z",
     "iopub.status.busy": "2022-03-20T02:14:47.614501Z",
     "iopub.status.idle": "2022-03-20T02:14:59.377402Z",
     "shell.execute_reply": "2022-03-20T02:14:59.377898Z"
    },
    "papermill": {
     "duration": 11.783374,
     "end_time": "2022-03-20T02:14:59.378053",
     "exception": false,
     "start_time": "2022-03-20T02:14:47.594679",
     "status": "completed"
    },
    "tags": []
   },
   "outputs": [
    {
     "name": "stderr",
     "output_type": "stream",
     "text": [
      "/home/runner/work/corr-app/corr-app/_notebooks/scripts/read_data.py:187: SettingWithCopyWarning:\n",
      "\n",
      "\n",
      "A value is trying to be set on a copy of a slice from a DataFrame.\n",
      "Try using .loc[row_indexer,col_indexer] = value instead\n",
      "\n",
      "See the caveats in the documentation: https://pandas.pydata.org/pandas-docs/stable/user_guide/indexing.html#returning-a-view-versus-a-copy\n",
      "\n"
     ]
    },
    {
     "name": "stderr",
     "output_type": "stream",
     "text": [
      "/home/runner/work/corr-app/corr-app/_notebooks/scripts/read_data.py:215: SettingWithCopyWarning:\n",
      "\n",
      "\n",
      "A value is trying to be set on a copy of a slice from a DataFrame.\n",
      "Try using .loc[row_indexer,col_indexer] = value instead\n",
      "\n",
      "See the caveats in the documentation: https://pandas.pydata.org/pandas-docs/stable/user_guide/indexing.html#returning-a-view-versus-a-copy\n",
      "\n"
     ]
    }
   ],
   "source": [
    "#hide\n",
    "df_all = read_api()\n",
    "#df_all = df_all.drop(['SP500', 'XAU', 'ETH', 'BTC'], axis=1)\n",
    "\n"
   ]
  },
  {
   "cell_type": "code",
   "execution_count": 6,
   "id": "mature-alert",
   "metadata": {
    "execution": {
     "iopub.execute_input": "2022-03-20T02:14:59.413532Z",
     "iopub.status.busy": "2022-03-20T02:14:59.406315Z",
     "iopub.status.idle": "2022-03-20T02:14:59.440176Z",
     "shell.execute_reply": "2022-03-20T02:14:59.439608Z"
    },
    "papermill": {
     "duration": 0.050576,
     "end_time": "2022-03-20T02:14:59.440326",
     "exception": false,
     "start_time": "2022-03-20T02:14:59.389750",
     "status": "completed"
    },
    "tags": []
   },
   "outputs": [],
   "source": [
    "#hide_input\n",
    "sum_corr = df_all.corr().sum().sort_values(ascending=True).index.values\n",
    "#df_all[sum_corr].corr()"
   ]
  },
  {
   "cell_type": "markdown",
   "id": "complex-syndicate",
   "metadata": {
    "papermill": {
     "duration": 0.011365,
     "end_time": "2022-03-20T02:14:59.464129",
     "exception": false,
     "start_time": "2022-03-20T02:14:59.452764",
     "status": "completed"
    },
    "tags": []
   },
   "source": [
    "## Išplėstinė koreliacijų matrica. "
   ]
  },
  {
   "cell_type": "code",
   "execution_count": 7,
   "id": "atomic-omaha",
   "metadata": {
    "execution": {
     "iopub.execute_input": "2022-03-20T02:14:59.497251Z",
     "iopub.status.busy": "2022-03-20T02:14:59.496699Z",
     "iopub.status.idle": "2022-03-20T02:15:00.810866Z",
     "shell.execute_reply": "2022-03-20T02:15:00.810417Z"
    },
    "papermill": {
     "duration": 1.335486,
     "end_time": "2022-03-20T02:15:00.810995",
     "exception": false,
     "start_time": "2022-03-20T02:14:59.475509",
     "status": "completed"
    },
    "tags": []
   },
   "outputs": [
    {
     "data": {
      "image/png": "[encoded data removed]",
      "text/plain": [
       "<Figure size 1080x792 with 2 Axes>"
      ]
     },
     "metadata": {
      "needs_background": "light"
     },
     "output_type": "display_data"
    }
   ],
   "source": [
    "#hide_input\n",
    "plt.figure(figsize=(15, 11))\n",
    "sns.heatmap(df_all[sum_corr].corr(), annot=True, cmap=\"cubehelix\") \n",
    "sns.set(font_scale=1.25)\n",
    "plt.savefig('corr_matrix.png', format='eps')"
   ]
  },
  {
   "cell_type": "code",
   "execution_count": 8,
   "id": "arbitrary-sullivan",
   "metadata": {
    "execution": {
     "iopub.execute_input": "2022-03-20T02:15:00.850798Z",
     "iopub.status.busy": "2022-03-20T02:15:00.848516Z",
     "iopub.status.idle": "2022-03-20T02:15:00.873064Z",
     "shell.execute_reply": "2022-03-20T02:15:00.872609Z"
    },
    "papermill": {
     "duration": 0.048463,
     "end_time": "2022-03-20T02:15:00.873189",
     "exception": false,
     "start_time": "2022-03-20T02:15:00.824726",
     "status": "completed"
    },
    "tags": []
   },
   "outputs": [],
   "source": [
    "#hide\n",
    "#df_all_mrk = read_api()"
   ]
  },
  {
   "cell_type": "code",
   "execution_count": 9,
   "id": "delayed-adapter",
   "metadata": {
    "execution": {
     "iopub.execute_input": "2022-03-20T02:15:00.912675Z",
     "iopub.status.busy": "2022-03-20T02:15:00.902908Z",
     "iopub.status.idle": "2022-03-20T02:15:00.933904Z",
     "shell.execute_reply": "2022-03-20T02:15:00.934312Z"
    },
    "papermill": {
     "duration": 0.047863,
     "end_time": "2022-03-20T02:15:00.934465",
     "exception": false,
     "start_time": "2022-03-20T02:15:00.886602",
     "status": "completed"
    },
    "tags": []
   },
   "outputs": [],
   "source": [
    "#hide\n",
    "#Koreliacijų koeficientai"
   ]
  },
  {
   "cell_type": "code",
   "execution_count": 10,
   "id": "seeing-celebration",
   "metadata": {
    "execution": {
     "iopub.execute_input": "2022-03-20T02:15:00.976517Z",
     "iopub.status.busy": "2022-03-20T02:15:00.972630Z",
     "iopub.status.idle": "2022-03-20T02:15:00.997339Z",
     "shell.execute_reply": "2022-03-20T02:15:00.996454Z"
    },
    "papermill": {
     "duration": 0.048345,
     "end_time": "2022-03-20T02:15:00.997478",
     "exception": false,
     "start_time": "2022-03-20T02:15:00.949133",
     "status": "completed"
    },
    "tags": []
   },
   "outputs": [],
   "source": [
    "#hide_input\n",
    "#sum_corr = df_all_mrk.corr().sum().sort_values(ascending=True).index.values\n",
    "#df_all_mrk[sum_corr].corr()"
   ]
  },
  {
   "cell_type": "code",
   "execution_count": 11,
   "id": "other-painting",
   "metadata": {
    "execution": {
     "iopub.execute_input": "2022-03-20T02:15:01.034267Z",
     "iopub.status.busy": "2022-03-20T02:15:01.027951Z",
     "iopub.status.idle": "2022-03-20T02:15:01.056799Z",
     "shell.execute_reply": "2022-03-20T02:15:01.057214Z"
    },
    "papermill": {
     "duration": 0.046428,
     "end_time": "2022-03-20T02:15:01.057374",
     "exception": false,
     "start_time": "2022-03-20T02:15:01.010946",
     "status": "completed"
    },
    "tags": []
   },
   "outputs": [],
   "source": [
    "#hide\n",
    "#Koreliacijos matrica. "
   ]
  },
  {
   "cell_type": "code",
   "execution_count": 12,
   "id": "modular-magnitude",
   "metadata": {
    "execution": {
     "iopub.execute_input": "2022-03-20T02:15:01.088128Z",
     "iopub.status.busy": "2022-03-20T02:15:01.087560Z",
     "iopub.status.idle": "2022-03-20T02:15:01.115807Z",
     "shell.execute_reply": "2022-03-20T02:15:01.115235Z"
    },
    "papermill": {
     "duration": 0.045062,
     "end_time": "2022-03-20T02:15:01.115965",
     "exception": false,
     "start_time": "2022-03-20T02:15:01.070903",
     "status": "completed"
    },
    "tags": []
   },
   "outputs": [],
   "source": [
    "#hide_input\n",
    "#plt.figure(figsize=(15, 8))\n",
    "#sns.heatmap(df_all_mrk[sum_corr].corr(), annot=True, cmap=\"BrBG\");\n",
    "#plt.savefig('corr_matrix_all.eps', format='eps')"
   ]
  },
  {
   "cell_type": "code",
   "execution_count": null,
   "id": "original-senator",
   "metadata": {
    "papermill": {
     "duration": 0.013347,
     "end_time": "2022-03-20T02:15:01.142936",
     "exception": false,
     "start_time": "2022-03-20T02:15:01.129589",
     "status": "completed"
    },
    "tags": []
   },
   "outputs": [],
   "source": []
  },
  {
   "cell_type": "code",
   "execution_count": null,
   "id": "saving-secretariat",
   "metadata": {
    "papermill": {
     "duration": 0.013371,
     "end_time": "2022-03-20T02:15:01.169550",
     "exception": false,
     "start_time": "2022-03-20T02:15:01.156179",
     "status": "completed"
    },
    "tags": []
   },
   "outputs": [],
   "source": []
  }
 ],
 "metadata": {
  "kernelspec": {
   "display_name": "Python 3",
   "language": "python",
   "name": "python3"
  },
  "language_info": {
   "codemirror_mode": {
    "name": "ipython",
    "version": 3
   },
   "file_extension": ".py",
   "mimetype": "text/x-python",
   "name": "python",
   "nbconvert_exporter": "python",
   "pygments_lexer": "ipython3",
   "version": "3.6.15"
  },
  "papermill": {
   "default_parameters": {},
   "duration": 18.155804,
   "end_time": "2022-03-20T02:15:01.803289",
   "environment_variables": {},
   "exception": null,
   "input_path": "App-Correlation_charts.ipynb",
   "output_path": "App-Correlation_charts.ipynb",
   "parameters": {},
   "start_time": "2022-03-20T02:14:43.647485",
   "version": "2.2.2"
  }
 },
 "nbformat": 4,
 "nbformat_minor": 5
}