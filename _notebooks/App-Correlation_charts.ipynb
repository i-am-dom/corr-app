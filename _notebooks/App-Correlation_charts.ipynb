{
 "cells": [
  {
   "cell_type": "markdown",
   "id": "touched-facility",
   "metadata": {
    "papermill": {
     "duration": 0.015264,
     "end_time": "2022-06-15T03:09:23.934221",
     "exception": false,
     "start_time": "2022-06-15T03:09:23.918957",
     "status": "completed"
    },
    "tags": []
   },
   "source": [
    "# Koreliacijų matrica\n",
    "> Išplėstinė koreliacijų matrica. \n",
    "\n",
    "- toc: true \n",
    "- badges: true\n",
    "- comments: false\n",
    "- categories: [Dominykas Tautkus]\n",
    "- image: images/matrix.png"
   ]
  },
  {
   "cell_type": "code",
   "execution_count": null,
   "id": "premium-weekend",
   "metadata": {
    "papermill": {
     "duration": 0.01367,
     "end_time": "2022-06-15T03:09:23.964866",
     "exception": false,
     "start_time": "2022-06-15T03:09:23.951196",
     "status": "completed"
    },
    "tags": []
   },
   "outputs": [],
   "source": []
  },
  {
   "cell_type": "code",
   "execution_count": 1,
   "id": "vertical-rebate",
   "metadata": {
    "execution": {
     "iopub.execute_input": "2022-06-15T03:09:24.002957Z",
     "iopub.status.busy": "2022-06-15T03:09:24.002200Z",
     "iopub.status.idle": "2022-06-15T03:09:24.015140Z",
     "shell.execute_reply": "2022-06-15T03:09:24.014534Z"
    },
    "papermill": {
     "duration": 0.036,
     "end_time": "2022-06-15T03:09:24.015275",
     "exception": false,
     "start_time": "2022-06-15T03:09:23.979275",
     "status": "completed"
    },
    "tags": []
   },
   "outputs": [],
   "source": [
    "#hide\n",
    "%load_ext autoreload\n",
    "%autoreload 2"
   ]
  },
  {
   "cell_type": "code",
   "execution_count": 2,
   "id": "overall-advancement",
   "metadata": {
    "execution": {
     "iopub.execute_input": "2022-06-15T03:09:24.047650Z",
     "iopub.status.busy": "2022-06-15T03:09:24.046930Z",
     "iopub.status.idle": "2022-06-15T03:09:25.550888Z",
     "shell.execute_reply": "2022-06-15T03:09:25.549936Z"
    },
    "papermill": {
     "duration": 1.522661,
     "end_time": "2022-06-15T03:09:25.551051",
     "exception": false,
     "start_time": "2022-06-15T03:09:24.028390",
     "status": "completed"
    },
    "tags": []
   },
   "outputs": [],
   "source": [
    "#hide\n",
    "from scripts.read_data import read_api\n",
    "from IPython.display import HTML\n",
    "import plotly.graph_objects as go\n"
   ]
  },
  {
   "cell_type": "code",
   "execution_count": 3,
   "id": "light-crazy",
   "metadata": {
    "execution": {
     "iopub.execute_input": "2022-06-15T03:09:25.585467Z",
     "iopub.status.busy": "2022-06-15T03:09:25.584792Z",
     "iopub.status.idle": "2022-06-15T03:09:25.610573Z",
     "shell.execute_reply": "2022-06-15T03:09:25.610070Z"
    },
    "papermill": {
     "duration": 0.043498,
     "end_time": "2022-06-15T03:09:25.610689",
     "exception": false,
     "start_time": "2022-06-15T03:09:25.567191",
     "status": "completed"
    },
    "tags": []
   },
   "outputs": [],
   "source": [
    "#hide\n",
    "### ICO koreliacija"
   ]
  },
  {
   "cell_type": "code",
   "execution_count": 4,
   "id": "likely-bahrain",
   "metadata": {
    "execution": {
     "iopub.execute_input": "2022-06-15T03:09:25.642230Z",
     "iopub.status.busy": "2022-06-15T03:09:25.641373Z",
     "iopub.status.idle": "2022-06-15T03:09:26.607393Z",
     "shell.execute_reply": "2022-06-15T03:09:26.607909Z"
    },
    "papermill": {
     "duration": 0.984621,
     "end_time": "2022-06-15T03:09:26.608069",
     "exception": false,
     "start_time": "2022-06-15T03:09:25.623448",
     "status": "completed"
    },
    "tags": []
   },
   "outputs": [],
   "source": [
    "#hide\n",
    "import matplotlib.pyplot as plt\n",
    "import numpy as np\n",
    "import pandas as pd\n",
    "import seaborn as sns\n",
    "import matplotlib.pyplot as plt \n",
    "import matplotlib.dates as mdates\n",
    "import matplotlib.pyplot as plt"
   ]
  },
  {
   "cell_type": "code",
   "execution_count": 5,
   "id": "superior-blanket",
   "metadata": {
    "execution": {
     "iopub.execute_input": "2022-06-15T03:09:26.656707Z",
     "iopub.status.busy": "2022-06-15T03:09:26.653722Z",
     "iopub.status.idle": "2022-06-15T03:09:35.825171Z",
     "shell.execute_reply": "2022-06-15T03:09:35.824212Z"
    },
    "papermill": {
     "duration": 9.204148,
     "end_time": "2022-06-15T03:09:35.825380",
     "exception": false,
     "start_time": "2022-06-15T03:09:26.621232",
     "status": "completed"
    },
    "tags": []
   },
   "outputs": [
    {
     "name": "stderr",
     "output_type": "stream",
     "text": [
      "/home/runner/work/corr-app/corr-app/_notebooks/scripts/read_data.py:187: SettingWithCopyWarning:\n",
      "\n",
      "\n",
      "A value is trying to be set on a copy of a slice from a DataFrame.\n",
      "Try using .loc[row_indexer,col_indexer] = value instead\n",
      "\n",
      "See the caveats in the documentation: https://pandas.pydata.org/pandas-docs/stable/user_guide/indexing.html#returning-a-view-versus-a-copy\n",
      "\n"
     ]
    },
    {
     "name": "stderr",
     "output_type": "stream",
     "text": [
      "/home/runner/work/corr-app/corr-app/_notebooks/scripts/read_data.py:215: SettingWithCopyWarning:\n",
      "\n",
      "\n",
      "A value is trying to be set on a copy of a slice from a DataFrame.\n",
      "Try using .loc[row_indexer,col_indexer] = value instead\n",
      "\n",
      "See the caveats in the documentation: https://pandas.pydata.org/pandas-docs/stable/user_guide/indexing.html#returning-a-view-versus-a-copy\n",
      "\n"
     ]
    }
   ],
   "source": [
    "#hide\n",
    "df_all = read_api()\n",
    "#df_all = df_all.drop(['SP500', 'XAU', 'ETH', 'BTC'], axis=1)\n",
    "\n"
   ]
  },
  {
   "cell_type": "code",
   "execution_count": 6,
   "id": "mature-alert",
   "metadata": {
    "execution": {
     "iopub.execute_input": "2022-06-15T03:09:35.863314Z",
     "iopub.status.busy": "2022-06-15T03:09:35.862535Z",
     "iopub.status.idle": "2022-06-15T03:09:35.897547Z",
     "shell.execute_reply": "2022-06-15T03:09:35.896983Z"
    },
    "papermill": {
     "duration": 0.058479,
     "end_time": "2022-06-15T03:09:35.897685",
     "exception": false,
     "start_time": "2022-06-15T03:09:35.839206",
     "status": "completed"
    },
    "tags": []
   },
   "outputs": [],
   "source": [
    "#hide_input\n",
    "sum_corr = df_all.corr().sum().sort_values(ascending=True).index.values\n",
    "#df_all[sum_corr].corr()"
   ]
  },
  {
   "cell_type": "markdown",
   "id": "complex-syndicate",
   "metadata": {
    "papermill": {
     "duration": 0.013172,
     "end_time": "2022-06-15T03:09:35.924827",
     "exception": false,
     "start_time": "2022-06-15T03:09:35.911655",
     "status": "completed"
    },
    "tags": []
   },
   "source": [
    "## Išplėstinė koreliacijų matrica. "
   ]
  },
  {
   "cell_type": "code",
   "execution_count": 7,
   "id": "atomic-omaha",
   "metadata": {
    "execution": {
     "iopub.execute_input": "2022-06-15T03:09:35.956851Z",
     "iopub.status.busy": "2022-06-15T03:09:35.956137Z",
     "iopub.status.idle": "2022-06-15T03:09:37.690148Z",
     "shell.execute_reply": "2022-06-15T03:09:37.690690Z"
    },
    "papermill": {
     "duration": 1.753532,
     "end_time": "2022-06-15T03:09:37.690850",
     "exception": false,
     "start_time": "2022-06-15T03:09:35.937318",
     "status": "completed"
    },
    "tags": []
   },
   "outputs": [
    {
     "data": {
      "image/png": "[encoded data removed]",
      "text/plain": [
       "<Figure size 1080x792 with 2 Axes>"
      ]
     },
     "metadata": {
      "needs_background": "light"
     },
     "output_type": "display_data"
    }
   ],
   "source": [
    "#hide_input\n",
    "plt.figure(figsize=(15, 11))\n",
    "sns.heatmap(df_all[sum_corr].corr(), annot=True, cmap=\"cubehelix\") \n",
    "sns.set(font_scale=1.25)\n",
    "plt.savefig('corr_matrix.png', format='eps')"
   ]
  },
  {
   "cell_type": "code",
   "execution_count": 8,
   "id": "arbitrary-sullivan",
   "metadata": {
    "execution": {
     "iopub.execute_input": "2022-06-15T03:09:37.726515Z",
     "iopub.status.busy": "2022-06-15T03:09:37.725807Z",
     "iopub.status.idle": "2022-06-15T03:09:37.756843Z",
     "shell.execute_reply": "2022-06-15T03:09:37.756172Z"
    },
    "papermill": {
     "duration": 0.050842,
     "end_time": "2022-06-15T03:09:37.757008",
     "exception": false,
     "start_time": "2022-06-15T03:09:37.706166",
     "status": "completed"
    },
    "tags": []
   },
   "outputs": [],
   "source": [
    "#hide\n",
    "#df_all_mrk = read_api()"
   ]
  },
  {
   "cell_type": "code",
   "execution_count": 9,
   "id": "delayed-adapter",
   "metadata": {
    "execution": {
     "iopub.execute_input": "2022-06-15T03:09:37.791767Z",
     "iopub.status.busy": "2022-06-15T03:09:37.790892Z",
     "iopub.status.idle": "2022-06-15T03:09:37.822025Z",
     "shell.execute_reply": "2022-06-15T03:09:37.822554Z"
    },
    "papermill": {
     "duration": 0.050544,
     "end_time": "2022-06-15T03:09:37.822722",
     "exception": false,
     "start_time": "2022-06-15T03:09:37.772178",
     "status": "completed"
    },
    "tags": []
   },
   "outputs": [],
   "source": [
    "#hide\n",
    "#Koreliacijų koeficientai"
   ]
  },
  {
   "cell_type": "code",
   "execution_count": 10,
   "id": "seeing-celebration",
   "metadata": {
    "execution": {
     "iopub.execute_input": "2022-06-15T03:09:37.859888Z",
     "iopub.status.busy": "2022-06-15T03:09:37.859213Z",
     "iopub.status.idle": "2022-06-15T03:09:37.887236Z",
     "shell.execute_reply": "2022-06-15T03:09:37.886717Z"
    },
    "papermill": {
     "duration": 0.049156,
     "end_time": "2022-06-15T03:09:37.887385",
     "exception": false,
     "start_time": "2022-06-15T03:09:37.838229",
     "status": "completed"
    },
    "tags": []
   },
   "outputs": [],
   "source": [
    "#hide_input\n",
    "#sum_corr = df_all_mrk.corr().sum().sort_values(ascending=True).index.values\n",
    "#df_all_mrk[sum_corr].corr()"
   ]
  },
  {
   "cell_type": "code",
   "execution_count": 11,
   "id": "other-painting",
   "metadata": {
    "execution": {
     "iopub.execute_input": "2022-06-15T03:09:37.935737Z",
     "iopub.status.busy": "2022-06-15T03:09:37.935100Z",
     "iopub.status.idle": "2022-06-15T03:09:37.956966Z",
     "shell.execute_reply": "2022-06-15T03:09:37.957839Z"
    },
    "papermill": {
     "duration": 0.056181,
     "end_time": "2022-06-15T03:09:37.958020",
     "exception": false,
     "start_time": "2022-06-15T03:09:37.901839",
     "status": "completed"
    },
    "tags": []
   },
   "outputs": [],
   "source": [
    "#hide\n",
    "#Koreliacijos matrica. "
   ]
  },
  {
   "cell_type": "code",
   "execution_count": 12,
   "id": "modular-magnitude",
   "metadata": {
    "execution": {
     "iopub.execute_input": "2022-06-15T03:09:37.993925Z",
     "iopub.status.busy": "2022-06-15T03:09:37.991274Z",
     "iopub.status.idle": "2022-06-15T03:09:38.022253Z",
     "shell.execute_reply": "2022-06-15T03:09:38.021667Z"
    },
    "papermill": {
     "duration": 0.049377,
     "end_time": "2022-06-15T03:09:38.022391",
     "exception": false,
     "start_time": "2022-06-15T03:09:37.973014",
     "status": "completed"
    },
    "tags": []
   },
   "outputs": [],
   "source": [
    "#hide_input\n",
    "#plt.figure(figsize=(15, 8))\n",
    "#sns.heatmap(df_all_mrk[sum_corr].corr(), annot=True, cmap=\"BrBG\");\n",
    "#plt.savefig('corr_matrix_all.eps', format='eps')"
   ]
  },
  {
   "cell_type": "code",
   "execution_count": null,
   "id": "original-senator",
   "metadata": {
    "papermill": {
     "duration": 0.015175,
     "end_time": "2022-06-15T03:09:38.053323",
     "exception": false,
     "start_time": "2022-06-15T03:09:38.038148",
     "status": "completed"
    },
    "tags": []
   },
   "outputs": [],
   "source": []
  },
  {
   "cell_type": "code",
   "execution_count": null,
   "id": "saving-secretariat",
   "metadata": {
    "papermill": {
     "duration": 0.015673,
     "end_time": "2022-06-15T03:09:38.085010",
     "exception": false,
     "start_time": "2022-06-15T03:09:38.069337",
     "status": "completed"
    },
    "tags": []
   },
   "outputs": [],
   "source": []
  }
 ],
 "metadata": {
  "kernelspec": {
   "display_name": "Python 3",
   "language": "python",
   "name": "python3"
  },
  "language_info": {
   "codemirror_mode": {
    "name": "ipython",
    "version": 3
   },
   "file_extension": ".py",
   "mimetype": "text/x-python",
   "name": "python",
   "nbconvert_exporter": "python",
   "pygments_lexer": "ipython3",
   "version": "3.6.15"
  },
  "papermill": {
   "default_parameters": {},
   "duration": 15.93534,
   "end_time": "2022-06-15T03:09:38.721084",
   "environment_variables": {},
   "exception": null,
   "input_path": "App-Correlation_charts.ipynb",
   "output_path": "App-Correlation_charts.ipynb",
   "parameters": {},
   "start_time": "2022-06-15T03:09:22.785744",
   "version": "2.2.2"
  }
 },
 "nbformat": 4,
 "nbformat_minor": 5
}