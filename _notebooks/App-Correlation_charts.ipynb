{
 "cells": [
  {
   "cell_type": "markdown",
   "id": "touched-facility",
   "metadata": {
    "papermill": {
     "duration": 0.015763,
     "end_time": "2021-12-02T01:59:23.438232",
     "exception": false,
     "start_time": "2021-12-02T01:59:23.422469",
     "status": "completed"
    },
    "tags": []
   },
   "source": [
    "# Koreliacijų matrica\n",
    "> Išplėstinė koreliacijų matrica. \n",
    "\n",
    "- toc: true \n",
    "- badges: true\n",
    "- comments: false\n",
    "- categories: [Dominykas Tautkus]\n",
    "- image: images/matrix.png"
   ]
  },
  {
   "cell_type": "code",
   "execution_count": null,
   "id": "premium-weekend",
   "metadata": {
    "papermill": {
     "duration": 0.011989,
     "end_time": "2021-12-02T01:59:23.463477",
     "exception": false,
     "start_time": "2021-12-02T01:59:23.451488",
     "status": "completed"
    },
    "tags": []
   },
   "outputs": [],
   "source": []
  },
  {
   "cell_type": "code",
   "execution_count": 1,
   "id": "vertical-rebate",
   "metadata": {
    "execution": {
     "iopub.execute_input": "2021-12-02T01:59:23.500556Z",
     "iopub.status.busy": "2021-12-02T01:59:23.499945Z",
     "iopub.status.idle": "2021-12-02T01:59:23.511192Z",
     "shell.execute_reply": "2021-12-02T01:59:23.511706Z"
    },
    "papermill": {
     "duration": 0.036288,
     "end_time": "2021-12-02T01:59:23.511874",
     "exception": false,
     "start_time": "2021-12-02T01:59:23.475586",
     "status": "completed"
    },
    "tags": []
   },
   "outputs": [],
   "source": [
    "#hide\n",
    "%load_ext autoreload\n",
    "%autoreload 2"
   ]
  },
  {
   "cell_type": "code",
   "execution_count": 2,
   "id": "overall-advancement",
   "metadata": {
    "execution": {
     "iopub.execute_input": "2021-12-02T01:59:23.540066Z",
     "iopub.status.busy": "2021-12-02T01:59:23.539463Z",
     "iopub.status.idle": "2021-12-02T01:59:25.054503Z",
     "shell.execute_reply": "2021-12-02T01:59:25.053938Z"
    },
    "papermill": {
     "duration": 1.530676,
     "end_time": "2021-12-02T01:59:25.054648",
     "exception": false,
     "start_time": "2021-12-02T01:59:23.523972",
     "status": "completed"
    },
    "tags": []
   },
   "outputs": [],
   "source": [
    "#hide\n",
    "from scripts.read_data import read_api\n",
    "from IPython.display import HTML\n",
    "import plotly.graph_objects as go\n"
   ]
  },
  {
   "cell_type": "code",
   "execution_count": 3,
   "id": "light-crazy",
   "metadata": {
    "execution": {
     "iopub.execute_input": "2021-12-02T01:59:25.086463Z",
     "iopub.status.busy": "2021-12-02T01:59:25.085818Z",
     "iopub.status.idle": "2021-12-02T01:59:25.113772Z",
     "shell.execute_reply": "2021-12-02T01:59:25.113253Z"
    },
    "papermill": {
     "duration": 0.045204,
     "end_time": "2021-12-02T01:59:25.113931",
     "exception": false,
     "start_time": "2021-12-02T01:59:25.068727",
     "status": "completed"
    },
    "tags": []
   },
   "outputs": [],
   "source": [
    "#hide\n",
    "### ICO koreliacija"
   ]
  },
  {
   "cell_type": "code",
   "execution_count": 4,
   "id": "likely-bahrain",
   "metadata": {
    "execution": {
     "iopub.execute_input": "2021-12-02T01:59:25.143843Z",
     "iopub.status.busy": "2021-12-02T01:59:25.143227Z",
     "iopub.status.idle": "2021-12-02T01:59:26.176662Z",
     "shell.execute_reply": "2021-12-02T01:59:26.175795Z"
    },
    "papermill": {
     "duration": 1.049788,
     "end_time": "2021-12-02T01:59:26.176876",
     "exception": false,
     "start_time": "2021-12-02T01:59:25.127088",
     "status": "completed"
    },
    "tags": []
   },
   "outputs": [],
   "source": [
    "#hide\n",
    "import matplotlib.pyplot as plt\n",
    "import numpy as np\n",
    "import pandas as pd\n",
    "import seaborn as sns\n",
    "import matplotlib.pyplot as plt \n",
    "import matplotlib.dates as mdates\n",
    "import matplotlib.pyplot as plt"
   ]
  },
  {
   "cell_type": "code",
   "execution_count": 5,
   "id": "superior-blanket",
   "metadata": {
    "execution": {
     "iopub.execute_input": "2021-12-02T01:59:26.215272Z",
     "iopub.status.busy": "2021-12-02T01:59:26.214419Z",
     "iopub.status.idle": "2021-12-02T01:59:43.620487Z",
     "shell.execute_reply": "2021-12-02T01:59:43.619947Z"
    },
    "papermill": {
     "duration": 17.426363,
     "end_time": "2021-12-02T01:59:43.620627",
     "exception": false,
     "start_time": "2021-12-02T01:59:26.194264",
     "status": "completed"
    },
    "tags": []
   },
   "outputs": [
    {
     "name": "stderr",
     "output_type": "stream",
     "text": [
      "/home/runner/work/corr-app/corr-app/_notebooks/scripts/read_data.py:187: SettingWithCopyWarning:\n",
      "\n",
      "\n",
      "A value is trying to be set on a copy of a slice from a DataFrame.\n",
      "Try using .loc[row_indexer,col_indexer] = value instead\n",
      "\n",
      "See the caveats in the documentation: https://pandas.pydata.org/pandas-docs/stable/user_guide/indexing.html#returning-a-view-versus-a-copy\n",
      "\n"
     ]
    },
    {
     "name": "stderr",
     "output_type": "stream",
     "text": [
      "/home/runner/work/corr-app/corr-app/_notebooks/scripts/read_data.py:215: SettingWithCopyWarning:\n",
      "\n",
      "\n",
      "A value is trying to be set on a copy of a slice from a DataFrame.\n",
      "Try using .loc[row_indexer,col_indexer] = value instead\n",
      "\n",
      "See the caveats in the documentation: https://pandas.pydata.org/pandas-docs/stable/user_guide/indexing.html#returning-a-view-versus-a-copy\n",
      "\n"
     ]
    }
   ],
   "source": [
    "#hide\n",
    "df_all = read_api()\n",
    "#df_all = df_all.drop(['SP500', 'XAU', 'ETH', 'BTC'], axis=1)\n",
    "\n"
   ]
  },
  {
   "cell_type": "code",
   "execution_count": 6,
   "id": "mature-alert",
   "metadata": {
    "execution": {
     "iopub.execute_input": "2021-12-02T01:59:43.651247Z",
     "iopub.status.busy": "2021-12-02T01:59:43.650635Z",
     "iopub.status.idle": "2021-12-02T01:59:43.686276Z",
     "shell.execute_reply": "2021-12-02T01:59:43.687139Z"
    },
    "papermill": {
     "duration": 0.053443,
     "end_time": "2021-12-02T01:59:43.687350",
     "exception": false,
     "start_time": "2021-12-02T01:59:43.633907",
     "status": "completed"
    },
    "tags": []
   },
   "outputs": [],
   "source": [
    "#hide_input\n",
    "sum_corr = df_all.corr().sum().sort_values(ascending=True).index.values\n",
    "#df_all[sum_corr].corr()"
   ]
  },
  {
   "cell_type": "markdown",
   "id": "complex-syndicate",
   "metadata": {
    "papermill": {
     "duration": 0.018111,
     "end_time": "2021-12-02T01:59:43.719940",
     "exception": false,
     "start_time": "2021-12-02T01:59:43.701829",
     "status": "completed"
    },
    "tags": []
   },
   "source": [
    "## Išplėstinė koreliacijų matrica. "
   ]
  },
  {
   "cell_type": "code",
   "execution_count": 7,
   "id": "atomic-omaha",
   "metadata": {
    "execution": {
     "iopub.execute_input": "2021-12-02T01:59:43.753725Z",
     "iopub.status.busy": "2021-12-02T01:59:43.752964Z",
     "iopub.status.idle": "2021-12-02T01:59:45.196654Z",
     "shell.execute_reply": "2021-12-02T01:59:45.196156Z"
    },
    "papermill": {
     "duration": 1.461982,
     "end_time": "2021-12-02T01:59:45.196786",
     "exception": false,
     "start_time": "2021-12-02T01:59:43.734804",
     "status": "completed"
    },
    "tags": []
   },
   "outputs": [
    {
     "data": {
      "image/png": "[encoded data removed]",
      "text/plain": [
       "<Figure size 1080x792 with 2 Axes>"
      ]
     },
     "metadata": {
      "needs_background": "light"
     },
     "output_type": "display_data"
    }
   ],
   "source": [
    "#hide_input\n",
    "plt.figure(figsize=(15, 11))\n",
    "sns.heatmap(df_all[sum_corr].corr(), annot=True, cmap=\"cubehelix\") \n",
    "sns.set(font_scale=1.25)\n",
    "plt.savefig('corr_matrix.png', format='eps')"
   ]
  },
  {
   "cell_type": "code",
   "execution_count": 8,
   "id": "arbitrary-sullivan",
   "metadata": {
    "execution": {
     "iopub.execute_input": "2021-12-02T01:59:45.235126Z",
     "iopub.status.busy": "2021-12-02T01:59:45.234369Z",
     "iopub.status.idle": "2021-12-02T01:59:45.263091Z",
     "shell.execute_reply": "2021-12-02T01:59:45.262238Z"
    },
    "papermill": {
     "duration": 0.05105,
     "end_time": "2021-12-02T01:59:45.263271",
     "exception": false,
     "start_time": "2021-12-02T01:59:45.212221",
     "status": "completed"
    },
    "tags": []
   },
   "outputs": [],
   "source": [
    "#hide\n",
    "#df_all_mrk = read_api()"
   ]
  },
  {
   "cell_type": "code",
   "execution_count": 9,
   "id": "delayed-adapter",
   "metadata": {
    "execution": {
     "iopub.execute_input": "2021-12-02T01:59:45.302233Z",
     "iopub.status.busy": "2021-12-02T01:59:45.301567Z",
     "iopub.status.idle": "2021-12-02T01:59:45.329463Z",
     "shell.execute_reply": "2021-12-02T01:59:45.330045Z"
    },
    "papermill": {
     "duration": 0.049955,
     "end_time": "2021-12-02T01:59:45.330196",
     "exception": false,
     "start_time": "2021-12-02T01:59:45.280241",
     "status": "completed"
    },
    "tags": []
   },
   "outputs": [],
   "source": [
    "#hide\n",
    "#Koreliacijų koeficientai"
   ]
  },
  {
   "cell_type": "code",
   "execution_count": 10,
   "id": "seeing-celebration",
   "metadata": {
    "execution": {
     "iopub.execute_input": "2021-12-02T01:59:45.366066Z",
     "iopub.status.busy": "2021-12-02T01:59:45.365445Z",
     "iopub.status.idle": "2021-12-02T01:59:45.397708Z",
     "shell.execute_reply": "2021-12-02T01:59:45.396894Z"
    },
    "papermill": {
     "duration": 0.050937,
     "end_time": "2021-12-02T01:59:45.397899",
     "exception": false,
     "start_time": "2021-12-02T01:59:45.346962",
     "status": "completed"
    },
    "tags": []
   },
   "outputs": [],
   "source": [
    "#hide_input\n",
    "#sum_corr = df_all_mrk.corr().sum().sort_values(ascending=True).index.values\n",
    "#df_all_mrk[sum_corr].corr()"
   ]
  },
  {
   "cell_type": "code",
   "execution_count": 11,
   "id": "other-painting",
   "metadata": {
    "execution": {
     "iopub.execute_input": "2021-12-02T01:59:45.438573Z",
     "iopub.status.busy": "2021-12-02T01:59:45.437945Z",
     "iopub.status.idle": "2021-12-02T01:59:45.470349Z",
     "shell.execute_reply": "2021-12-02T01:59:45.469612Z"
    },
    "papermill": {
     "duration": 0.056036,
     "end_time": "2021-12-02T01:59:45.470521",
     "exception": false,
     "start_time": "2021-12-02T01:59:45.414485",
     "status": "completed"
    },
    "tags": []
   },
   "outputs": [],
   "source": [
    "#hide\n",
    "#Koreliacijos matrica. "
   ]
  },
  {
   "cell_type": "code",
   "execution_count": 12,
   "id": "modular-magnitude",
   "metadata": {
    "execution": {
     "iopub.execute_input": "2021-12-02T01:59:45.508238Z",
     "iopub.status.busy": "2021-12-02T01:59:45.507640Z",
     "iopub.status.idle": "2021-12-02T01:59:45.535798Z",
     "shell.execute_reply": "2021-12-02T01:59:45.536414Z"
    },
    "papermill": {
     "duration": 0.049897,
     "end_time": "2021-12-02T01:59:45.536606",
     "exception": false,
     "start_time": "2021-12-02T01:59:45.486709",
     "status": "completed"
    },
    "tags": []
   },
   "outputs": [],
   "source": [
    "#hide_input\n",
    "#plt.figure(figsize=(15, 8))\n",
    "#sns.heatmap(df_all_mrk[sum_corr].corr(), annot=True, cmap=\"BrBG\");\n",
    "#plt.savefig('corr_matrix_all.eps', format='eps')"
   ]
  },
  {
   "cell_type": "code",
   "execution_count": null,
   "id": "original-senator",
   "metadata": {
    "papermill": {
     "duration": 0.015478,
     "end_time": "2021-12-02T01:59:45.570298",
     "exception": false,
     "start_time": "2021-12-02T01:59:45.554820",
     "status": "completed"
    },
    "tags": []
   },
   "outputs": [],
   "source": []
  },
  {
   "cell_type": "code",
   "execution_count": null,
   "id": "saving-secretariat",
   "metadata": {
    "papermill": {
     "duration": 0.016966,
     "end_time": "2021-12-02T01:59:45.604375",
     "exception": false,
     "start_time": "2021-12-02T01:59:45.587409",
     "status": "completed"
    },
    "tags": []
   },
   "outputs": [],
   "source": []
  }
 ],
 "metadata": {
  "kernelspec": {
   "display_name": "Python 3",
   "language": "python",
   "name": "python3"
  },
  "language_info": {
   "codemirror_mode": {
    "name": "ipython",
    "version": 3
   },
   "file_extension": ".py",
   "mimetype": "text/x-python",
   "name": "python",
   "nbconvert_exporter": "python",
   "pygments_lexer": "ipython3",
   "version": "3.6.15"
  },
  "papermill": {
   "default_parameters": {},
   "duration": 24.050581,
   "end_time": "2021-12-02T01:59:46.131649",
   "environment_variables": {},
   "exception": null,
   "input_path": "App-Correlation_charts.ipynb",
   "output_path": "App-Correlation_charts.ipynb",
   "parameters": {},
   "start_time": "2021-12-02T01:59:22.081068",
   "version": "2.2.2"
  }
 },
 "nbformat": 4,
 "nbformat_minor": 5
}