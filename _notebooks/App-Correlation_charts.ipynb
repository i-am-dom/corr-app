{
 "cells": [
  {
   "cell_type": "markdown",
   "id": "touched-facility",
   "metadata": {
    "papermill": {
     "duration": 0.024773,
     "end_time": "2021-07-20T02:04:03.376951",
     "exception": false,
     "start_time": "2021-07-20T02:04:03.352178",
     "status": "completed"
    },
    "tags": []
   },
   "source": [
    "# Koreliacijų matrica\n",
    "> Išplėstinė koreliacijų matrica. \n",
    "\n",
    "- toc: true \n",
    "- badges: true\n",
    "- comments: false\n",
    "- categories: [Dominykas Tautkus]\n",
    "- image: images/matrix.png"
   ]
  },
  {
   "cell_type": "code",
   "execution_count": null,
   "id": "premium-weekend",
   "metadata": {
    "papermill": {
     "duration": 0.012239,
     "end_time": "2021-07-20T02:04:03.403305",
     "exception": false,
     "start_time": "2021-07-20T02:04:03.391066",
     "status": "completed"
    },
    "tags": []
   },
   "outputs": [],
   "source": []
  },
  {
   "cell_type": "code",
   "execution_count": 1,
   "id": "vertical-rebate",
   "metadata": {
    "execution": {
     "iopub.execute_input": "2021-07-20T02:04:03.439057Z",
     "iopub.status.busy": "2021-07-20T02:04:03.435617Z",
     "iopub.status.idle": "2021-07-20T02:04:03.450112Z",
     "shell.execute_reply": "2021-07-20T02:04:03.450635Z"
    },
    "papermill": {
     "duration": 0.035249,
     "end_time": "2021-07-20T02:04:03.450804",
     "exception": false,
     "start_time": "2021-07-20T02:04:03.415555",
     "status": "completed"
    },
    "tags": []
   },
   "outputs": [],
   "source": [
    "#hide\n",
    "%load_ext autoreload\n",
    "%autoreload 2"
   ]
  },
  {
   "cell_type": "code",
   "execution_count": 2,
   "id": "overall-advancement",
   "metadata": {
    "execution": {
     "iopub.execute_input": "2021-07-20T02:04:03.479691Z",
     "iopub.status.busy": "2021-07-20T02:04:03.479099Z",
     "iopub.status.idle": "2021-07-20T02:04:04.767039Z",
     "shell.execute_reply": "2021-07-20T02:04:04.766516Z"
    },
    "papermill": {
     "duration": 1.303979,
     "end_time": "2021-07-20T02:04:04.767173",
     "exception": false,
     "start_time": "2021-07-20T02:04:03.463194",
     "status": "completed"
    },
    "tags": []
   },
   "outputs": [],
   "source": [
    "#hide\n",
    "from scripts.read_data import read_api\n",
    "from IPython.display import HTML\n",
    "import plotly.graph_objects as go\n"
   ]
  },
  {
   "cell_type": "code",
   "execution_count": 3,
   "id": "light-crazy",
   "metadata": {
    "execution": {
     "iopub.execute_input": "2021-07-20T02:04:04.799908Z",
     "iopub.status.busy": "2021-07-20T02:04:04.797705Z",
     "iopub.status.idle": "2021-07-20T02:04:04.825162Z",
     "shell.execute_reply": "2021-07-20T02:04:04.825634Z"
    },
    "papermill": {
     "duration": 0.045787,
     "end_time": "2021-07-20T02:04:04.825795",
     "exception": false,
     "start_time": "2021-07-20T02:04:04.780008",
     "status": "completed"
    },
    "tags": []
   },
   "outputs": [],
   "source": [
    "#hide\n",
    "### ICO koreliacija"
   ]
  },
  {
   "cell_type": "code",
   "execution_count": 4,
   "id": "likely-bahrain",
   "metadata": {
    "execution": {
     "iopub.execute_input": "2021-07-20T02:04:04.920292Z",
     "iopub.status.busy": "2021-07-20T02:04:04.919424Z",
     "iopub.status.idle": "2021-07-20T02:04:05.878328Z",
     "shell.execute_reply": "2021-07-20T02:04:05.878804Z"
    },
    "papermill": {
     "duration": 1.039922,
     "end_time": "2021-07-20T02:04:05.878966",
     "exception": false,
     "start_time": "2021-07-20T02:04:04.839044",
     "status": "completed"
    },
    "tags": []
   },
   "outputs": [],
   "source": [
    "#hide\n",
    "import matplotlib.pyplot as plt\n",
    "import numpy as np\n",
    "import pandas as pd\n",
    "import seaborn as sns\n",
    "import matplotlib.pyplot as plt \n",
    "import matplotlib.dates as mdates\n",
    "import matplotlib.pyplot as plt"
   ]
  },
  {
   "cell_type": "code",
   "execution_count": 5,
   "id": "superior-blanket",
   "metadata": {
    "execution": {
     "iopub.execute_input": "2021-07-20T02:04:05.909856Z",
     "iopub.status.busy": "2021-07-20T02:04:05.909229Z",
     "iopub.status.idle": "2021-07-20T02:04:15.364364Z",
     "shell.execute_reply": "2021-07-20T02:04:15.363792Z"
    },
    "papermill": {
     "duration": 9.472857,
     "end_time": "2021-07-20T02:04:15.364500",
     "exception": false,
     "start_time": "2021-07-20T02:04:05.891643",
     "status": "completed"
    },
    "tags": []
   },
   "outputs": [
    {
     "name": "stderr",
     "output_type": "stream",
     "text": [
      "/home/runner/work/corr-app/corr-app/_notebooks/scripts/read_data.py:187: SettingWithCopyWarning:\n",
      "\n",
      "\n",
      "A value is trying to be set on a copy of a slice from a DataFrame.\n",
      "Try using .loc[row_indexer,col_indexer] = value instead\n",
      "\n",
      "See the caveats in the documentation: https://pandas.pydata.org/pandas-docs/stable/user_guide/indexing.html#returning-a-view-versus-a-copy\n",
      "\n"
     ]
    },
    {
     "name": "stderr",
     "output_type": "stream",
     "text": [
      "/home/runner/work/corr-app/corr-app/_notebooks/scripts/read_data.py:215: SettingWithCopyWarning:\n",
      "\n",
      "\n",
      "A value is trying to be set on a copy of a slice from a DataFrame.\n",
      "Try using .loc[row_indexer,col_indexer] = value instead\n",
      "\n",
      "See the caveats in the documentation: https://pandas.pydata.org/pandas-docs/stable/user_guide/indexing.html#returning-a-view-versus-a-copy\n",
      "\n"
     ]
    }
   ],
   "source": [
    "#hide\n",
    "df_all = read_api()\n",
    "#df_all = df_all.drop(['SP500', 'XAU', 'ETH', 'BTC'], axis=1)\n",
    "\n"
   ]
  },
  {
   "cell_type": "code",
   "execution_count": 6,
   "id": "mature-alert",
   "metadata": {
    "execution": {
     "iopub.execute_input": "2021-07-20T02:04:15.398668Z",
     "iopub.status.busy": "2021-07-20T02:04:15.396051Z",
     "iopub.status.idle": "2021-07-20T02:04:15.432530Z",
     "shell.execute_reply": "2021-07-20T02:04:15.433006Z"
    },
    "papermill": {
     "duration": 0.055352,
     "end_time": "2021-07-20T02:04:15.433166",
     "exception": false,
     "start_time": "2021-07-20T02:04:15.377814",
     "status": "completed"
    },
    "tags": []
   },
   "outputs": [],
   "source": [
    "#hide_input\n",
    "sum_corr = df_all.corr().sum().sort_values(ascending=True).index.values\n",
    "#df_all[sum_corr].corr()"
   ]
  },
  {
   "cell_type": "markdown",
   "id": "complex-syndicate",
   "metadata": {
    "papermill": {
     "duration": 0.012945,
     "end_time": "2021-07-20T02:04:15.459236",
     "exception": false,
     "start_time": "2021-07-20T02:04:15.446291",
     "status": "completed"
    },
    "tags": []
   },
   "source": [
    "## Išplėstinė koreliacijų matrica. "
   ]
  },
  {
   "cell_type": "code",
   "execution_count": 7,
   "id": "atomic-omaha",
   "metadata": {
    "execution": {
     "iopub.execute_input": "2021-07-20T02:04:15.491987Z",
     "iopub.status.busy": "2021-07-20T02:04:15.491373Z",
     "iopub.status.idle": "2021-07-20T02:04:16.874539Z",
     "shell.execute_reply": "2021-07-20T02:04:16.873908Z"
    },
    "papermill": {
     "duration": 1.402674,
     "end_time": "2021-07-20T02:04:16.874830",
     "exception": false,
     "start_time": "2021-07-20T02:04:15.472156",
     "status": "completed"
    },
    "tags": []
   },
   "outputs": [
    {
     "data": {
      "image/png": "[encoded data removed]",
      "text/plain": [
       "<Figure size 1080x792 with 2 Axes>"
      ]
     },
     "metadata": {
      "needs_background": "light"
     },
     "output_type": "display_data"
    }
   ],
   "source": [
    "#hide_input\n",
    "plt.figure(figsize=(15, 11))\n",
    "sns.heatmap(df_all[sum_corr].corr(), annot=True, cmap=\"cubehelix\") \n",
    "sns.set(font_scale=1.25)\n",
    "plt.savefig('corr_matrix.png', format='eps')"
   ]
  },
  {
   "cell_type": "code",
   "execution_count": 8,
   "id": "arbitrary-sullivan",
   "metadata": {
    "execution": {
     "iopub.execute_input": "2021-07-20T02:04:16.913168Z",
     "iopub.status.busy": "2021-07-20T02:04:16.912157Z",
     "iopub.status.idle": "2021-07-20T02:04:16.940836Z",
     "shell.execute_reply": "2021-07-20T02:04:16.940248Z"
    },
    "papermill": {
     "duration": 0.049505,
     "end_time": "2021-07-20T02:04:16.940967",
     "exception": false,
     "start_time": "2021-07-20T02:04:16.891462",
     "status": "completed"
    },
    "tags": []
   },
   "outputs": [],
   "source": [
    "#hide\n",
    "#df_all_mrk = read_api()"
   ]
  },
  {
   "cell_type": "code",
   "execution_count": 9,
   "id": "delayed-adapter",
   "metadata": {
    "execution": {
     "iopub.execute_input": "2021-07-20T02:04:16.978420Z",
     "iopub.status.busy": "2021-07-20T02:04:16.977812Z",
     "iopub.status.idle": "2021-07-20T02:04:17.014706Z",
     "shell.execute_reply": "2021-07-20T02:04:17.014167Z"
    },
    "papermill": {
     "duration": 0.055665,
     "end_time": "2021-07-20T02:04:17.014835",
     "exception": false,
     "start_time": "2021-07-20T02:04:16.959170",
     "status": "completed"
    },
    "tags": []
   },
   "outputs": [],
   "source": [
    "#hide\n",
    "#Koreliacijų koeficientai"
   ]
  },
  {
   "cell_type": "code",
   "execution_count": 10,
   "id": "seeing-celebration",
   "metadata": {
    "execution": {
     "iopub.execute_input": "2021-07-20T02:04:17.049931Z",
     "iopub.status.busy": "2021-07-20T02:04:17.049338Z",
     "iopub.status.idle": "2021-07-20T02:04:17.079068Z",
     "shell.execute_reply": "2021-07-20T02:04:17.078469Z"
    },
    "papermill": {
     "duration": 0.048931,
     "end_time": "2021-07-20T02:04:17.079235",
     "exception": false,
     "start_time": "2021-07-20T02:04:17.030304",
     "status": "completed"
    },
    "tags": []
   },
   "outputs": [],
   "source": [
    "#hide_input\n",
    "#sum_corr = df_all_mrk.corr().sum().sort_values(ascending=True).index.values\n",
    "#df_all_mrk[sum_corr].corr()"
   ]
  },
  {
   "cell_type": "code",
   "execution_count": 11,
   "id": "other-painting",
   "metadata": {
    "execution": {
     "iopub.execute_input": "2021-07-20T02:04:17.114452Z",
     "iopub.status.busy": "2021-07-20T02:04:17.113823Z",
     "iopub.status.idle": "2021-07-20T02:04:17.144619Z",
     "shell.execute_reply": "2021-07-20T02:04:17.143963Z"
    },
    "papermill": {
     "duration": 0.049697,
     "end_time": "2021-07-20T02:04:17.144753",
     "exception": false,
     "start_time": "2021-07-20T02:04:17.095056",
     "status": "completed"
    },
    "tags": []
   },
   "outputs": [],
   "source": [
    "#hide\n",
    "#Koreliacijos matrica. "
   ]
  },
  {
   "cell_type": "code",
   "execution_count": 12,
   "id": "modular-magnitude",
   "metadata": {
    "execution": {
     "iopub.execute_input": "2021-07-20T02:04:17.181475Z",
     "iopub.status.busy": "2021-07-20T02:04:17.180541Z",
     "iopub.status.idle": "2021-07-20T02:04:17.209181Z",
     "shell.execute_reply": "2021-07-20T02:04:17.208022Z"
    },
    "papermill": {
     "duration": 0.049064,
     "end_time": "2021-07-20T02:04:17.209331",
     "exception": false,
     "start_time": "2021-07-20T02:04:17.160267",
     "status": "completed"
    },
    "tags": []
   },
   "outputs": [],
   "source": [
    "#hide_input\n",
    "#plt.figure(figsize=(15, 8))\n",
    "#sns.heatmap(df_all_mrk[sum_corr].corr(), annot=True, cmap=\"BrBG\");\n",
    "#plt.savefig('corr_matrix_all.eps', format='eps')"
   ]
  },
  {
   "cell_type": "code",
   "execution_count": null,
   "id": "original-senator",
   "metadata": {
    "papermill": {
     "duration": 0.015152,
     "end_time": "2021-07-20T02:04:17.240096",
     "exception": false,
     "start_time": "2021-07-20T02:04:17.224944",
     "status": "completed"
    },
    "tags": []
   },
   "outputs": [],
   "source": []
  },
  {
   "cell_type": "code",
   "execution_count": null,
   "id": "saving-secretariat",
   "metadata": {
    "papermill": {
     "duration": 0.015161,
     "end_time": "2021-07-20T02:04:17.270362",
     "exception": false,
     "start_time": "2021-07-20T02:04:17.255201",
     "status": "completed"
    },
    "tags": []
   },
   "outputs": [],
   "source": []
  }
 ],
 "metadata": {
  "kernelspec": {
   "display_name": "Python 3",
   "language": "python",
   "name": "python3"
  },
  "language_info": {
   "codemirror_mode": {
    "name": "ipython",
    "version": 3
   },
   "file_extension": ".py",
   "mimetype": "text/x-python",
   "name": "python",
   "nbconvert_exporter": "python",
   "pygments_lexer": "ipython3",
   "version": "3.6.14"
  },
  "papermill": {
   "default_parameters": {},
   "duration": 16.322148,
   "end_time": "2021-07-20T02:04:18.593981",
   "environment_variables": {},
   "exception": null,
   "input_path": "App-Correlation_charts.ipynb",
   "output_path": "App-Correlation_charts.ipynb",
   "parameters": {},
   "start_time": "2021-07-20T02:04:02.271833",
   "version": "2.2.2"
  }
 },
 "nbformat": 4,
 "nbformat_minor": 5
}