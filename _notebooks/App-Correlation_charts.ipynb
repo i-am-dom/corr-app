{
 "cells": [
  {
   "cell_type": "markdown",
   "id": "touched-facility",
   "metadata": {
    "papermill": {
     "duration": 0.015051,
     "end_time": "2021-09-22T02:00:25.600355",
     "exception": false,
     "start_time": "2021-09-22T02:00:25.585304",
     "status": "completed"
    },
    "tags": []
   },
   "source": [
    "# Koreliacijų matrica\n",
    "> Išplėstinė koreliacijų matrica. \n",
    "\n",
    "- toc: true \n",
    "- badges: true\n",
    "- comments: false\n",
    "- categories: [Dominykas Tautkus]\n",
    "- image: images/matrix.png"
   ]
  },
  {
   "cell_type": "code",
   "execution_count": null,
   "id": "premium-weekend",
   "metadata": {
    "papermill": {
     "duration": 0.010847,
     "end_time": "2021-09-22T02:00:25.622546",
     "exception": false,
     "start_time": "2021-09-22T02:00:25.611699",
     "status": "completed"
    },
    "tags": []
   },
   "outputs": [],
   "source": []
  },
  {
   "cell_type": "code",
   "execution_count": 1,
   "id": "vertical-rebate",
   "metadata": {
    "execution": {
     "iopub.execute_input": "2021-09-22T02:00:25.654196Z",
     "iopub.status.busy": "2021-09-22T02:00:25.653677Z",
     "iopub.status.idle": "2021-09-22T02:00:25.663981Z",
     "shell.execute_reply": "2021-09-22T02:00:25.663508Z"
    },
    "papermill": {
     "duration": 0.031022,
     "end_time": "2021-09-22T02:00:25.664099",
     "exception": false,
     "start_time": "2021-09-22T02:00:25.633077",
     "status": "completed"
    },
    "tags": []
   },
   "outputs": [],
   "source": [
    "#hide\n",
    "%load_ext autoreload\n",
    "%autoreload 2"
   ]
  },
  {
   "cell_type": "code",
   "execution_count": 2,
   "id": "overall-advancement",
   "metadata": {
    "execution": {
     "iopub.execute_input": "2021-09-22T02:00:25.688461Z",
     "iopub.status.busy": "2021-09-22T02:00:25.687956Z",
     "iopub.status.idle": "2021-09-22T02:00:26.878622Z",
     "shell.execute_reply": "2021-09-22T02:00:26.878100Z"
    },
    "papermill": {
     "duration": 1.204097,
     "end_time": "2021-09-22T02:00:26.878761",
     "exception": false,
     "start_time": "2021-09-22T02:00:25.674664",
     "status": "completed"
    },
    "tags": []
   },
   "outputs": [],
   "source": [
    "#hide\n",
    "from scripts.read_data import read_api\n",
    "from IPython.display import HTML\n",
    "import plotly.graph_objects as go\n"
   ]
  },
  {
   "cell_type": "code",
   "execution_count": 3,
   "id": "light-crazy",
   "metadata": {
    "execution": {
     "iopub.execute_input": "2021-09-22T02:00:26.910459Z",
     "iopub.status.busy": "2021-09-22T02:00:26.908791Z",
     "iopub.status.idle": "2021-09-22T02:00:26.928996Z",
     "shell.execute_reply": "2021-09-22T02:00:26.928460Z"
    },
    "papermill": {
     "duration": 0.038208,
     "end_time": "2021-09-22T02:00:26.929106",
     "exception": false,
     "start_time": "2021-09-22T02:00:26.890898",
     "status": "completed"
    },
    "tags": []
   },
   "outputs": [],
   "source": [
    "#hide\n",
    "### ICO koreliacija"
   ]
  },
  {
   "cell_type": "code",
   "execution_count": 4,
   "id": "likely-bahrain",
   "metadata": {
    "execution": {
     "iopub.execute_input": "2021-09-22T02:00:26.959124Z",
     "iopub.status.busy": "2021-09-22T02:00:26.958607Z",
     "iopub.status.idle": "2021-09-22T02:00:27.771015Z",
     "shell.execute_reply": "2021-09-22T02:00:27.769999Z"
    },
    "papermill": {
     "duration": 0.831407,
     "end_time": "2021-09-22T02:00:27.771156",
     "exception": false,
     "start_time": "2021-09-22T02:00:26.939749",
     "status": "completed"
    },
    "tags": []
   },
   "outputs": [],
   "source": [
    "#hide\n",
    "import matplotlib.pyplot as plt\n",
    "import numpy as np\n",
    "import pandas as pd\n",
    "import seaborn as sns\n",
    "import matplotlib.pyplot as plt \n",
    "import matplotlib.dates as mdates\n",
    "import matplotlib.pyplot as plt"
   ]
  },
  {
   "cell_type": "code",
   "execution_count": 5,
   "id": "superior-blanket",
   "metadata": {
    "execution": {
     "iopub.execute_input": "2021-09-22T02:00:27.798056Z",
     "iopub.status.busy": "2021-09-22T02:00:27.797498Z",
     "iopub.status.idle": "2021-09-22T02:00:38.964999Z",
     "shell.execute_reply": "2021-09-22T02:00:38.965461Z"
    },
    "papermill": {
     "duration": 11.183332,
     "end_time": "2021-09-22T02:00:38.965609",
     "exception": false,
     "start_time": "2021-09-22T02:00:27.782277",
     "status": "completed"
    },
    "tags": []
   },
   "outputs": [
    {
     "name": "stderr",
     "output_type": "stream",
     "text": [
      "/home/runner/work/corr-app/corr-app/_notebooks/scripts/read_data.py:187: SettingWithCopyWarning:\n",
      "\n",
      "\n",
      "A value is trying to be set on a copy of a slice from a DataFrame.\n",
      "Try using .loc[row_indexer,col_indexer] = value instead\n",
      "\n",
      "See the caveats in the documentation: https://pandas.pydata.org/pandas-docs/stable/user_guide/indexing.html#returning-a-view-versus-a-copy\n",
      "\n"
     ]
    },
    {
     "name": "stderr",
     "output_type": "stream",
     "text": [
      "/home/runner/work/corr-app/corr-app/_notebooks/scripts/read_data.py:215: SettingWithCopyWarning:\n",
      "\n",
      "\n",
      "A value is trying to be set on a copy of a slice from a DataFrame.\n",
      "Try using .loc[row_indexer,col_indexer] = value instead\n",
      "\n",
      "See the caveats in the documentation: https://pandas.pydata.org/pandas-docs/stable/user_guide/indexing.html#returning-a-view-versus-a-copy\n",
      "\n"
     ]
    }
   ],
   "source": [
    "#hide\n",
    "df_all = read_api()\n",
    "#df_all = df_all.drop(['SP500', 'XAU', 'ETH', 'BTC'], axis=1)\n",
    "\n"
   ]
  },
  {
   "cell_type": "code",
   "execution_count": 6,
   "id": "mature-alert",
   "metadata": {
    "execution": {
     "iopub.execute_input": "2021-09-22T02:00:38.998407Z",
     "iopub.status.busy": "2021-09-22T02:00:38.995716Z",
     "iopub.status.idle": "2021-09-22T02:00:39.024273Z",
     "shell.execute_reply": "2021-09-22T02:00:39.023750Z"
    },
    "papermill": {
     "duration": 0.047041,
     "end_time": "2021-09-22T02:00:39.024403",
     "exception": false,
     "start_time": "2021-09-22T02:00:38.977362",
     "status": "completed"
    },
    "tags": []
   },
   "outputs": [],
   "source": [
    "#hide_input\n",
    "sum_corr = df_all.corr().sum().sort_values(ascending=True).index.values\n",
    "#df_all[sum_corr].corr()"
   ]
  },
  {
   "cell_type": "markdown",
   "id": "complex-syndicate",
   "metadata": {
    "papermill": {
     "duration": 0.011117,
     "end_time": "2021-09-22T02:00:39.047056",
     "exception": false,
     "start_time": "2021-09-22T02:00:39.035939",
     "status": "completed"
    },
    "tags": []
   },
   "source": [
    "## Išplėstinė koreliacijų matrica. "
   ]
  },
  {
   "cell_type": "code",
   "execution_count": 7,
   "id": "atomic-omaha",
   "metadata": {
    "execution": {
     "iopub.execute_input": "2021-09-22T02:00:39.078530Z",
     "iopub.status.busy": "2021-09-22T02:00:39.073151Z",
     "iopub.status.idle": "2021-09-22T02:00:40.242356Z",
     "shell.execute_reply": "2021-09-22T02:00:40.241920Z"
    },
    "papermill": {
     "duration": 1.184278,
     "end_time": "2021-09-22T02:00:40.242481",
     "exception": false,
     "start_time": "2021-09-22T02:00:39.058203",
     "status": "completed"
    },
    "tags": []
   },
   "outputs": [
    {
     "data": {
      "image/png": "[encoded data removed]",
      "text/plain": [
       "<Figure size 1080x792 with 2 Axes>"
      ]
     },
     "metadata": {
      "needs_background": "light"
     },
     "output_type": "display_data"
    }
   ],
   "source": [
    "#hide_input\n",
    "plt.figure(figsize=(15, 11))\n",
    "sns.heatmap(df_all[sum_corr].corr(), annot=True, cmap=\"cubehelix\") \n",
    "sns.set(font_scale=1.25)\n",
    "plt.savefig('corr_matrix.png', format='eps')"
   ]
  },
  {
   "cell_type": "code",
   "execution_count": 8,
   "id": "arbitrary-sullivan",
   "metadata": {
    "execution": {
     "iopub.execute_input": "2021-09-22T02:00:40.277406Z",
     "iopub.status.busy": "2021-09-22T02:00:40.276878Z",
     "iopub.status.idle": "2021-09-22T02:00:40.299133Z",
     "shell.execute_reply": "2021-09-22T02:00:40.298619Z"
    },
    "papermill": {
     "duration": 0.043116,
     "end_time": "2021-09-22T02:00:40.299267",
     "exception": false,
     "start_time": "2021-09-22T02:00:40.256151",
     "status": "completed"
    },
    "tags": []
   },
   "outputs": [],
   "source": [
    "#hide\n",
    "#df_all_mrk = read_api()"
   ]
  },
  {
   "cell_type": "code",
   "execution_count": 9,
   "id": "delayed-adapter",
   "metadata": {
    "execution": {
     "iopub.execute_input": "2021-09-22T02:00:40.335177Z",
     "iopub.status.busy": "2021-09-22T02:00:40.334661Z",
     "iopub.status.idle": "2021-09-22T02:00:40.357021Z",
     "shell.execute_reply": "2021-09-22T02:00:40.357419Z"
    },
    "papermill": {
     "duration": 0.044178,
     "end_time": "2021-09-22T02:00:40.357552",
     "exception": false,
     "start_time": "2021-09-22T02:00:40.313374",
     "status": "completed"
    },
    "tags": []
   },
   "outputs": [],
   "source": [
    "#hide\n",
    "#Koreliacijų koeficientai"
   ]
  },
  {
   "cell_type": "code",
   "execution_count": 10,
   "id": "seeing-celebration",
   "metadata": {
    "execution": {
     "iopub.execute_input": "2021-09-22T02:00:40.393269Z",
     "iopub.status.busy": "2021-09-22T02:00:40.392751Z",
     "iopub.status.idle": "2021-09-22T02:00:40.416160Z",
     "shell.execute_reply": "2021-09-22T02:00:40.415675Z"
    },
    "papermill": {
     "duration": 0.045155,
     "end_time": "2021-09-22T02:00:40.416283",
     "exception": false,
     "start_time": "2021-09-22T02:00:40.371128",
     "status": "completed"
    },
    "tags": []
   },
   "outputs": [],
   "source": [
    "#hide_input\n",
    "#sum_corr = df_all_mrk.corr().sum().sort_values(ascending=True).index.values\n",
    "#df_all_mrk[sum_corr].corr()"
   ]
  },
  {
   "cell_type": "code",
   "execution_count": 11,
   "id": "other-painting",
   "metadata": {
    "execution": {
     "iopub.execute_input": "2021-09-22T02:00:40.445919Z",
     "iopub.status.busy": "2021-09-22T02:00:40.445410Z",
     "iopub.status.idle": "2021-09-22T02:00:40.471125Z",
     "shell.execute_reply": "2021-09-22T02:00:40.471584Z"
    },
    "papermill": {
     "duration": 0.042129,
     "end_time": "2021-09-22T02:00:40.471737",
     "exception": false,
     "start_time": "2021-09-22T02:00:40.429608",
     "status": "completed"
    },
    "tags": []
   },
   "outputs": [],
   "source": [
    "#hide\n",
    "#Koreliacijos matrica. "
   ]
  },
  {
   "cell_type": "code",
   "execution_count": 12,
   "id": "modular-magnitude",
   "metadata": {
    "execution": {
     "iopub.execute_input": "2021-09-22T02:00:40.521416Z",
     "iopub.status.busy": "2021-09-22T02:00:40.515132Z",
     "iopub.status.idle": "2021-09-22T02:00:40.534227Z",
     "shell.execute_reply": "2021-09-22T02:00:40.533803Z"
    },
    "papermill": {
     "duration": 0.048373,
     "end_time": "2021-09-22T02:00:40.534345",
     "exception": false,
     "start_time": "2021-09-22T02:00:40.485972",
     "status": "completed"
    },
    "tags": []
   },
   "outputs": [],
   "source": [
    "#hide_input\n",
    "#plt.figure(figsize=(15, 8))\n",
    "#sns.heatmap(df_all_mrk[sum_corr].corr(), annot=True, cmap=\"BrBG\");\n",
    "#plt.savefig('corr_matrix_all.eps', format='eps')"
   ]
  },
  {
   "cell_type": "code",
   "execution_count": null,
   "id": "original-senator",
   "metadata": {
    "papermill": {
     "duration": 0.013123,
     "end_time": "2021-09-22T02:00:40.560752",
     "exception": false,
     "start_time": "2021-09-22T02:00:40.547629",
     "status": "completed"
    },
    "tags": []
   },
   "outputs": [],
   "source": []
  },
  {
   "cell_type": "code",
   "execution_count": null,
   "id": "saving-secretariat",
   "metadata": {
    "papermill": {
     "duration": 0.013088,
     "end_time": "2021-09-22T02:00:40.586950",
     "exception": false,
     "start_time": "2021-09-22T02:00:40.573862",
     "status": "completed"
    },
    "tags": []
   },
   "outputs": [],
   "source": []
  }
 ],
 "metadata": {
  "kernelspec": {
   "display_name": "Python 3",
   "language": "python",
   "name": "python3"
  },
  "language_info": {
   "codemirror_mode": {
    "name": "ipython",
    "version": 3
   },
   "file_extension": ".py",
   "mimetype": "text/x-python",
   "name": "python",
   "nbconvert_exporter": "python",
   "pygments_lexer": "ipython3",
   "version": "3.6.15"
  },
  "papermill": {
   "default_parameters": {},
   "duration": 16.792331,
   "end_time": "2021-09-22T02:00:41.210742",
   "environment_variables": {},
   "exception": null,
   "input_path": "App-Correlation_charts.ipynb",
   "output_path": "App-Correlation_charts.ipynb",
   "parameters": {},
   "start_time": "2021-09-22T02:00:24.418411",
   "version": "2.2.2"
  }
 },
 "nbformat": 4,
 "nbformat_minor": 5
}