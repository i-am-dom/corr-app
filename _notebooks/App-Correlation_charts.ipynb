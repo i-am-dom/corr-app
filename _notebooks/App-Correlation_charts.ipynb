{
 "cells": [
  {
   "cell_type": "markdown",
   "id": "touched-facility",
   "metadata": {
    "papermill": {
     "duration": 0.015483,
     "end_time": "2022-05-09T02:58:31.215385",
     "exception": false,
     "start_time": "2022-05-09T02:58:31.199902",
     "status": "completed"
    },
    "tags": []
   },
   "source": [
    "# Koreliacijų matrica\n",
    "> Išplėstinė koreliacijų matrica. \n",
    "\n",
    "- toc: true \n",
    "- badges: true\n",
    "- comments: false\n",
    "- categories: [Dominykas Tautkus]\n",
    "- image: images/matrix.png"
   ]
  },
  {
   "cell_type": "code",
   "execution_count": null,
   "id": "premium-weekend",
   "metadata": {
    "papermill": {
     "duration": 0.01076,
     "end_time": "2022-05-09T02:58:31.237950",
     "exception": false,
     "start_time": "2022-05-09T02:58:31.227190",
     "status": "completed"
    },
    "tags": []
   },
   "outputs": [],
   "source": []
  },
  {
   "cell_type": "code",
   "execution_count": 1,
   "id": "vertical-rebate",
   "metadata": {
    "execution": {
     "iopub.execute_input": "2022-05-09T02:58:31.269134Z",
     "iopub.status.busy": "2022-05-09T02:58:31.268611Z",
     "iopub.status.idle": "2022-05-09T02:58:31.278268Z",
     "shell.execute_reply": "2022-05-09T02:58:31.278706Z"
    },
    "papermill": {
     "duration": 0.030357,
     "end_time": "2022-05-09T02:58:31.278844",
     "exception": false,
     "start_time": "2022-05-09T02:58:31.248487",
     "status": "completed"
    },
    "tags": []
   },
   "outputs": [],
   "source": [
    "#hide\n",
    "%load_ext autoreload\n",
    "%autoreload 2"
   ]
  },
  {
   "cell_type": "code",
   "execution_count": 2,
   "id": "overall-advancement",
   "metadata": {
    "execution": {
     "iopub.execute_input": "2022-05-09T02:58:31.303498Z",
     "iopub.status.busy": "2022-05-09T02:58:31.302960Z",
     "iopub.status.idle": "2022-05-09T02:58:32.776392Z",
     "shell.execute_reply": "2022-05-09T02:58:32.776832Z"
    },
    "papermill": {
     "duration": 1.48677,
     "end_time": "2022-05-09T02:58:32.776979",
     "exception": false,
     "start_time": "2022-05-09T02:58:31.290209",
     "status": "completed"
    },
    "tags": []
   },
   "outputs": [],
   "source": [
    "#hide\n",
    "from scripts.read_data import read_api\n",
    "from IPython.display import HTML\n",
    "import plotly.graph_objects as go\n"
   ]
  },
  {
   "cell_type": "code",
   "execution_count": 3,
   "id": "light-crazy",
   "metadata": {
    "execution": {
     "iopub.execute_input": "2022-05-09T02:58:32.805502Z",
     "iopub.status.busy": "2022-05-09T02:58:32.804895Z",
     "iopub.status.idle": "2022-05-09T02:58:32.825366Z",
     "shell.execute_reply": "2022-05-09T02:58:32.824846Z"
    },
    "papermill": {
     "duration": 0.037471,
     "end_time": "2022-05-09T02:58:32.825470",
     "exception": false,
     "start_time": "2022-05-09T02:58:32.787999",
     "status": "completed"
    },
    "tags": []
   },
   "outputs": [],
   "source": [
    "#hide\n",
    "### ICO koreliacija"
   ]
  },
  {
   "cell_type": "code",
   "execution_count": 4,
   "id": "likely-bahrain",
   "metadata": {
    "execution": {
     "iopub.execute_input": "2022-05-09T02:58:32.853454Z",
     "iopub.status.busy": "2022-05-09T02:58:32.852866Z",
     "iopub.status.idle": "2022-05-09T02:58:33.667687Z",
     "shell.execute_reply": "2022-05-09T02:58:33.666621Z"
    },
    "papermill": {
     "duration": 0.831813,
     "end_time": "2022-05-09T02:58:33.667815",
     "exception": false,
     "start_time": "2022-05-09T02:58:32.836002",
     "status": "completed"
    },
    "tags": []
   },
   "outputs": [],
   "source": [
    "#hide\n",
    "import matplotlib.pyplot as plt\n",
    "import numpy as np\n",
    "import pandas as pd\n",
    "import seaborn as sns\n",
    "import matplotlib.pyplot as plt \n",
    "import matplotlib.dates as mdates\n",
    "import matplotlib.pyplot as plt"
   ]
  },
  {
   "cell_type": "code",
   "execution_count": 5,
   "id": "superior-blanket",
   "metadata": {
    "execution": {
     "iopub.execute_input": "2022-05-09T02:58:33.697662Z",
     "iopub.status.busy": "2022-05-09T02:58:33.694811Z",
     "iopub.status.idle": "2022-05-09T02:58:45.785474Z",
     "shell.execute_reply": "2022-05-09T02:58:45.784991Z"
    },
    "papermill": {
     "duration": 12.106811,
     "end_time": "2022-05-09T02:58:45.785588",
     "exception": false,
     "start_time": "2022-05-09T02:58:33.678777",
     "status": "completed"
    },
    "tags": []
   },
   "outputs": [
    {
     "name": "stderr",
     "output_type": "stream",
     "text": [
      "/home/runner/work/corr-app/corr-app/_notebooks/scripts/read_data.py:187: SettingWithCopyWarning:\n",
      "\n",
      "\n",
      "A value is trying to be set on a copy of a slice from a DataFrame.\n",
      "Try using .loc[row_indexer,col_indexer] = value instead\n",
      "\n",
      "See the caveats in the documentation: https://pandas.pydata.org/pandas-docs/stable/user_guide/indexing.html#returning-a-view-versus-a-copy\n",
      "\n"
     ]
    },
    {
     "name": "stderr",
     "output_type": "stream",
     "text": [
      "/home/runner/work/corr-app/corr-app/_notebooks/scripts/read_data.py:215: SettingWithCopyWarning:\n",
      "\n",
      "\n",
      "A value is trying to be set on a copy of a slice from a DataFrame.\n",
      "Try using .loc[row_indexer,col_indexer] = value instead\n",
      "\n",
      "See the caveats in the documentation: https://pandas.pydata.org/pandas-docs/stable/user_guide/indexing.html#returning-a-view-versus-a-copy\n",
      "\n"
     ]
    }
   ],
   "source": [
    "#hide\n",
    "df_all = read_api()\n",
    "#df_all = df_all.drop(['SP500', 'XAU', 'ETH', 'BTC'], axis=1)\n",
    "\n"
   ]
  },
  {
   "cell_type": "code",
   "execution_count": 6,
   "id": "mature-alert",
   "metadata": {
    "execution": {
     "iopub.execute_input": "2022-05-09T02:58:45.812379Z",
     "iopub.status.busy": "2022-05-09T02:58:45.811861Z",
     "iopub.status.idle": "2022-05-09T02:58:45.841626Z",
     "shell.execute_reply": "2022-05-09T02:58:45.842093Z"
    },
    "papermill": {
     "duration": 0.044972,
     "end_time": "2022-05-09T02:58:45.842231",
     "exception": false,
     "start_time": "2022-05-09T02:58:45.797259",
     "status": "completed"
    },
    "tags": []
   },
   "outputs": [],
   "source": [
    "#hide_input\n",
    "sum_corr = df_all.corr().sum().sort_values(ascending=True).index.values\n",
    "#df_all[sum_corr].corr()"
   ]
  },
  {
   "cell_type": "markdown",
   "id": "complex-syndicate",
   "metadata": {
    "papermill": {
     "duration": 0.010995,
     "end_time": "2022-05-09T02:58:45.865218",
     "exception": false,
     "start_time": "2022-05-09T02:58:45.854223",
     "status": "completed"
    },
    "tags": []
   },
   "source": [
    "## Išplėstinė koreliacijų matrica. "
   ]
  },
  {
   "cell_type": "code",
   "execution_count": 7,
   "id": "atomic-omaha",
   "metadata": {
    "execution": {
     "iopub.execute_input": "2022-05-09T02:58:45.894831Z",
     "iopub.status.busy": "2022-05-09T02:58:45.894325Z",
     "iopub.status.idle": "2022-05-09T02:58:47.083727Z",
     "shell.execute_reply": "2022-05-09T02:58:47.083287Z"
    },
    "papermill": {
     "duration": 1.206145,
     "end_time": "2022-05-09T02:58:47.083839",
     "exception": false,
     "start_time": "2022-05-09T02:58:45.877694",
     "status": "completed"
    },
    "tags": []
   },
   "outputs": [
    {
     "data": {
      "image/png": "[encoded data removed]",
      "text/plain": [
       "<Figure size 1080x792 with 2 Axes>"
      ]
     },
     "metadata": {
      "needs_background": "light"
     },
     "output_type": "display_data"
    }
   ],
   "source": [
    "#hide_input\n",
    "plt.figure(figsize=(15, 11))\n",
    "sns.heatmap(df_all[sum_corr].corr(), annot=True, cmap=\"cubehelix\") \n",
    "sns.set(font_scale=1.25)\n",
    "plt.savefig('corr_matrix.png', format='eps')"
   ]
  },
  {
   "cell_type": "code",
   "execution_count": 8,
   "id": "arbitrary-sullivan",
   "metadata": {
    "execution": {
     "iopub.execute_input": "2022-05-09T02:58:47.121751Z",
     "iopub.status.busy": "2022-05-09T02:58:47.113606Z",
     "iopub.status.idle": "2022-05-09T02:58:47.143005Z",
     "shell.execute_reply": "2022-05-09T02:58:47.143451Z"
    },
    "papermill": {
     "duration": 0.046295,
     "end_time": "2022-05-09T02:58:47.143586",
     "exception": false,
     "start_time": "2022-05-09T02:58:47.097291",
     "status": "completed"
    },
    "tags": []
   },
   "outputs": [],
   "source": [
    "#hide\n",
    "#df_all_mrk = read_api()"
   ]
  },
  {
   "cell_type": "code",
   "execution_count": 9,
   "id": "delayed-adapter",
   "metadata": {
    "execution": {
     "iopub.execute_input": "2022-05-09T02:58:47.177534Z",
     "iopub.status.busy": "2022-05-09T02:58:47.172955Z",
     "iopub.status.idle": "2022-05-09T02:58:47.200839Z",
     "shell.execute_reply": "2022-05-09T02:58:47.200378Z"
    },
    "papermill": {
     "duration": 0.043289,
     "end_time": "2022-05-09T02:58:47.200954",
     "exception": false,
     "start_time": "2022-05-09T02:58:47.157665",
     "status": "completed"
    },
    "tags": []
   },
   "outputs": [],
   "source": [
    "#hide\n",
    "#Koreliacijų koeficientai"
   ]
  },
  {
   "cell_type": "code",
   "execution_count": 10,
   "id": "seeing-celebration",
   "metadata": {
    "execution": {
     "iopub.execute_input": "2022-05-09T02:58:47.232911Z",
     "iopub.status.busy": "2022-05-09T02:58:47.232402Z",
     "iopub.status.idle": "2022-05-09T02:58:47.256614Z",
     "shell.execute_reply": "2022-05-09T02:58:47.257052Z"
    },
    "papermill": {
     "duration": 0.041885,
     "end_time": "2022-05-09T02:58:47.257185",
     "exception": false,
     "start_time": "2022-05-09T02:58:47.215300",
     "status": "completed"
    },
    "tags": []
   },
   "outputs": [],
   "source": [
    "#hide_input\n",
    "#sum_corr = df_all_mrk.corr().sum().sort_values(ascending=True).index.values\n",
    "#df_all_mrk[sum_corr].corr()"
   ]
  },
  {
   "cell_type": "code",
   "execution_count": 11,
   "id": "other-painting",
   "metadata": {
    "execution": {
     "iopub.execute_input": "2022-05-09T02:58:47.292514Z",
     "iopub.status.busy": "2022-05-09T02:58:47.292017Z",
     "iopub.status.idle": "2022-05-09T02:58:47.315540Z",
     "shell.execute_reply": "2022-05-09T02:58:47.315082Z"
    },
    "papermill": {
     "duration": 0.043939,
     "end_time": "2022-05-09T02:58:47.315652",
     "exception": false,
     "start_time": "2022-05-09T02:58:47.271713",
     "status": "completed"
    },
    "tags": []
   },
   "outputs": [],
   "source": [
    "#hide\n",
    "#Koreliacijos matrica. "
   ]
  },
  {
   "cell_type": "code",
   "execution_count": 12,
   "id": "modular-magnitude",
   "metadata": {
    "execution": {
     "iopub.execute_input": "2022-05-09T02:58:47.345944Z",
     "iopub.status.busy": "2022-05-09T02:58:47.345418Z",
     "iopub.status.idle": "2022-05-09T02:58:47.370539Z",
     "shell.execute_reply": "2022-05-09T02:58:47.370046Z"
    },
    "papermill": {
     "duration": 0.040666,
     "end_time": "2022-05-09T02:58:47.370654",
     "exception": false,
     "start_time": "2022-05-09T02:58:47.329988",
     "status": "completed"
    },
    "tags": []
   },
   "outputs": [],
   "source": [
    "#hide_input\n",
    "#plt.figure(figsize=(15, 8))\n",
    "#sns.heatmap(df_all_mrk[sum_corr].corr(), annot=True, cmap=\"BrBG\");\n",
    "#plt.savefig('corr_matrix_all.eps', format='eps')"
   ]
  },
  {
   "cell_type": "code",
   "execution_count": null,
   "id": "original-senator",
   "metadata": {
    "papermill": {
     "duration": 0.012882,
     "end_time": "2022-05-09T02:58:47.397172",
     "exception": false,
     "start_time": "2022-05-09T02:58:47.384290",
     "status": "completed"
    },
    "tags": []
   },
   "outputs": [],
   "source": []
  },
  {
   "cell_type": "code",
   "execution_count": null,
   "id": "saving-secretariat",
   "metadata": {
    "papermill": {
     "duration": 0.012914,
     "end_time": "2022-05-09T02:58:47.422996",
     "exception": false,
     "start_time": "2022-05-09T02:58:47.410082",
     "status": "completed"
    },
    "tags": []
   },
   "outputs": [],
   "source": []
  }
 ],
 "metadata": {
  "kernelspec": {
   "display_name": "Python 3",
   "language": "python",
   "name": "python3"
  },
  "language_info": {
   "codemirror_mode": {
    "name": "ipython",
    "version": 3
   },
   "file_extension": ".py",
   "mimetype": "text/x-python",
   "name": "python",
   "nbconvert_exporter": "python",
   "pygments_lexer": "ipython3",
   "version": "3.6.15"
  },
  "papermill": {
   "default_parameters": {},
   "duration": 17.678445,
   "end_time": "2022-05-09T02:58:47.954856",
   "environment_variables": {},
   "exception": null,
   "input_path": "App-Correlation_charts.ipynb",
   "output_path": "App-Correlation_charts.ipynb",
   "parameters": {},
   "start_time": "2022-05-09T02:58:30.276411",
   "version": "2.2.2"
  }
 },
 "nbformat": 4,
 "nbformat_minor": 5
}