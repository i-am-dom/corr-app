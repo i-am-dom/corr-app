{
 "cells": [
  {
   "cell_type": "markdown",
   "id": "touched-facility",
   "metadata": {
    "papermill": {
     "duration": 0.021576,
     "end_time": "2021-08-13T01:56:59.720451",
     "exception": false,
     "start_time": "2021-08-13T01:56:59.698875",
     "status": "completed"
    },
    "tags": []
   },
   "source": [
    "# Koreliacijų matrica\n",
    "> Išplėstinė koreliacijų matrica. \n",
    "\n",
    "- toc: true \n",
    "- badges: true\n",
    "- comments: false\n",
    "- categories: [Dominykas Tautkus]\n",
    "- image: images/matrix.png"
   ]
  },
  {
   "cell_type": "code",
   "execution_count": null,
   "id": "premium-weekend",
   "metadata": {
    "papermill": {
     "duration": 0.012343,
     "end_time": "2021-08-13T01:56:59.746337",
     "exception": false,
     "start_time": "2021-08-13T01:56:59.733994",
     "status": "completed"
    },
    "tags": []
   },
   "outputs": [],
   "source": []
  },
  {
   "cell_type": "code",
   "execution_count": 1,
   "id": "vertical-rebate",
   "metadata": {
    "execution": {
     "iopub.execute_input": "2021-08-13T01:56:59.785468Z",
     "iopub.status.busy": "2021-08-13T01:56:59.779514Z",
     "iopub.status.idle": "2021-08-13T01:56:59.795757Z",
     "shell.execute_reply": "2021-08-13T01:56:59.796424Z"
    },
    "papermill": {
     "duration": 0.037846,
     "end_time": "2021-08-13T01:56:59.796602",
     "exception": false,
     "start_time": "2021-08-13T01:56:59.758756",
     "status": "completed"
    },
    "tags": []
   },
   "outputs": [],
   "source": [
    "#hide\n",
    "%load_ext autoreload\n",
    "%autoreload 2"
   ]
  },
  {
   "cell_type": "code",
   "execution_count": 2,
   "id": "overall-advancement",
   "metadata": {
    "execution": {
     "iopub.execute_input": "2021-08-13T01:56:59.838065Z",
     "iopub.status.busy": "2021-08-13T01:56:59.830921Z",
     "iopub.status.idle": "2021-08-13T01:57:01.299085Z",
     "shell.execute_reply": "2021-08-13T01:57:01.298557Z"
    },
    "papermill": {
     "duration": 1.490334,
     "end_time": "2021-08-13T01:57:01.299227",
     "exception": false,
     "start_time": "2021-08-13T01:56:59.808893",
     "status": "completed"
    },
    "tags": []
   },
   "outputs": [],
   "source": [
    "#hide\n",
    "from scripts.read_data import read_api\n",
    "from IPython.display import HTML\n",
    "import plotly.graph_objects as go\n"
   ]
  },
  {
   "cell_type": "code",
   "execution_count": 3,
   "id": "light-crazy",
   "metadata": {
    "execution": {
     "iopub.execute_input": "2021-08-13T01:57:01.330341Z",
     "iopub.status.busy": "2021-08-13T01:57:01.329704Z",
     "iopub.status.idle": "2021-08-13T01:57:01.357732Z",
     "shell.execute_reply": "2021-08-13T01:57:01.357210Z"
    },
    "papermill": {
     "duration": 0.046052,
     "end_time": "2021-08-13T01:57:01.357873",
     "exception": false,
     "start_time": "2021-08-13T01:57:01.311821",
     "status": "completed"
    },
    "tags": []
   },
   "outputs": [],
   "source": [
    "#hide\n",
    "### ICO koreliacija"
   ]
  },
  {
   "cell_type": "code",
   "execution_count": 4,
   "id": "likely-bahrain",
   "metadata": {
    "execution": {
     "iopub.execute_input": "2021-08-13T01:57:01.388527Z",
     "iopub.status.busy": "2021-08-13T01:57:01.387920Z",
     "iopub.status.idle": "2021-08-13T01:57:02.302545Z",
     "shell.execute_reply": "2021-08-13T01:57:02.301587Z"
    },
    "papermill": {
     "duration": 0.932749,
     "end_time": "2021-08-13T01:57:02.302697",
     "exception": false,
     "start_time": "2021-08-13T01:57:01.369948",
     "status": "completed"
    },
    "tags": []
   },
   "outputs": [],
   "source": [
    "#hide\n",
    "import matplotlib.pyplot as plt\n",
    "import numpy as np\n",
    "import pandas as pd\n",
    "import seaborn as sns\n",
    "import matplotlib.pyplot as plt \n",
    "import matplotlib.dates as mdates\n",
    "import matplotlib.pyplot as plt"
   ]
  },
  {
   "cell_type": "code",
   "execution_count": 5,
   "id": "superior-blanket",
   "metadata": {
    "execution": {
     "iopub.execute_input": "2021-08-13T01:57:02.332554Z",
     "iopub.status.busy": "2021-08-13T01:57:02.331889Z",
     "iopub.status.idle": "2021-08-13T01:57:16.528586Z",
     "shell.execute_reply": "2021-08-13T01:57:16.528030Z"
    },
    "papermill": {
     "duration": 14.213594,
     "end_time": "2021-08-13T01:57:16.528720",
     "exception": false,
     "start_time": "2021-08-13T01:57:02.315126",
     "status": "completed"
    },
    "tags": []
   },
   "outputs": [
    {
     "name": "stderr",
     "output_type": "stream",
     "text": [
      "/home/runner/work/corr-app/corr-app/_notebooks/scripts/read_data.py:187: SettingWithCopyWarning:\n",
      "\n",
      "\n",
      "A value is trying to be set on a copy of a slice from a DataFrame.\n",
      "Try using .loc[row_indexer,col_indexer] = value instead\n",
      "\n",
      "See the caveats in the documentation: https://pandas.pydata.org/pandas-docs/stable/user_guide/indexing.html#returning-a-view-versus-a-copy\n",
      "\n"
     ]
    },
    {
     "name": "stderr",
     "output_type": "stream",
     "text": [
      "/home/runner/work/corr-app/corr-app/_notebooks/scripts/read_data.py:215: SettingWithCopyWarning:\n",
      "\n",
      "\n",
      "A value is trying to be set on a copy of a slice from a DataFrame.\n",
      "Try using .loc[row_indexer,col_indexer] = value instead\n",
      "\n",
      "See the caveats in the documentation: https://pandas.pydata.org/pandas-docs/stable/user_guide/indexing.html#returning-a-view-versus-a-copy\n",
      "\n"
     ]
    }
   ],
   "source": [
    "#hide\n",
    "df_all = read_api()\n",
    "#df_all = df_all.drop(['SP500', 'XAU', 'ETH', 'BTC'], axis=1)\n",
    "\n"
   ]
  },
  {
   "cell_type": "code",
   "execution_count": 6,
   "id": "mature-alert",
   "metadata": {
    "execution": {
     "iopub.execute_input": "2021-08-13T01:57:16.563172Z",
     "iopub.status.busy": "2021-08-13T01:57:16.562575Z",
     "iopub.status.idle": "2021-08-13T01:57:16.597834Z",
     "shell.execute_reply": "2021-08-13T01:57:16.597218Z"
    },
    "papermill": {
     "duration": 0.056009,
     "end_time": "2021-08-13T01:57:16.597968",
     "exception": false,
     "start_time": "2021-08-13T01:57:16.541959",
     "status": "completed"
    },
    "tags": []
   },
   "outputs": [],
   "source": [
    "#hide_input\n",
    "sum_corr = df_all.corr().sum().sort_values(ascending=True).index.values\n",
    "#df_all[sum_corr].corr()"
   ]
  },
  {
   "cell_type": "markdown",
   "id": "complex-syndicate",
   "metadata": {
    "papermill": {
     "duration": 0.012871,
     "end_time": "2021-08-13T01:57:16.623463",
     "exception": false,
     "start_time": "2021-08-13T01:57:16.610592",
     "status": "completed"
    },
    "tags": []
   },
   "source": [
    "## Išplėstinė koreliacijų matrica. "
   ]
  },
  {
   "cell_type": "code",
   "execution_count": 7,
   "id": "atomic-omaha",
   "metadata": {
    "execution": {
     "iopub.execute_input": "2021-08-13T01:57:16.657113Z",
     "iopub.status.busy": "2021-08-13T01:57:16.656515Z",
     "iopub.status.idle": "2021-08-13T01:57:18.073650Z",
     "shell.execute_reply": "2021-08-13T01:57:18.074672Z"
    },
    "papermill": {
     "duration": 1.438841,
     "end_time": "2021-08-13T01:57:18.074848",
     "exception": false,
     "start_time": "2021-08-13T01:57:16.636007",
     "status": "completed"
    },
    "tags": []
   },
   "outputs": [
    {
     "data": {
      "image/png": "[encoded data removed]",
      "text/plain": [
       "<Figure size 1080x792 with 2 Axes>"
      ]
     },
     "metadata": {
      "needs_background": "light"
     },
     "output_type": "display_data"
    }
   ],
   "source": [
    "#hide_input\n",
    "plt.figure(figsize=(15, 11))\n",
    "sns.heatmap(df_all[sum_corr].corr(), annot=True, cmap=\"cubehelix\") \n",
    "sns.set(font_scale=1.25)\n",
    "plt.savefig('corr_matrix.png', format='eps')"
   ]
  },
  {
   "cell_type": "code",
   "execution_count": 8,
   "id": "arbitrary-sullivan",
   "metadata": {
    "execution": {
     "iopub.execute_input": "2021-08-13T01:57:18.110705Z",
     "iopub.status.busy": "2021-08-13T01:57:18.110076Z",
     "iopub.status.idle": "2021-08-13T01:57:18.139666Z",
     "shell.execute_reply": "2021-08-13T01:57:18.138942Z"
    },
    "papermill": {
     "duration": 0.049178,
     "end_time": "2021-08-13T01:57:18.139837",
     "exception": false,
     "start_time": "2021-08-13T01:57:18.090659",
     "status": "completed"
    },
    "tags": []
   },
   "outputs": [],
   "source": [
    "#hide\n",
    "#df_all_mrk = read_api()"
   ]
  },
  {
   "cell_type": "code",
   "execution_count": 9,
   "id": "delayed-adapter",
   "metadata": {
    "execution": {
     "iopub.execute_input": "2021-08-13T01:57:18.177315Z",
     "iopub.status.busy": "2021-08-13T01:57:18.176650Z",
     "iopub.status.idle": "2021-08-13T01:57:18.208396Z",
     "shell.execute_reply": "2021-08-13T01:57:18.207564Z"
    },
    "papermill": {
     "duration": 0.051992,
     "end_time": "2021-08-13T01:57:18.208615",
     "exception": false,
     "start_time": "2021-08-13T01:57:18.156623",
     "status": "completed"
    },
    "tags": []
   },
   "outputs": [],
   "source": [
    "#hide\n",
    "#Koreliacijų koeficientai"
   ]
  },
  {
   "cell_type": "code",
   "execution_count": 10,
   "id": "seeing-celebration",
   "metadata": {
    "execution": {
     "iopub.execute_input": "2021-08-13T01:57:18.247042Z",
     "iopub.status.busy": "2021-08-13T01:57:18.246414Z",
     "iopub.status.idle": "2021-08-13T01:57:18.276403Z",
     "shell.execute_reply": "2021-08-13T01:57:18.275861Z"
    },
    "papermill": {
     "duration": 0.049753,
     "end_time": "2021-08-13T01:57:18.276534",
     "exception": false,
     "start_time": "2021-08-13T01:57:18.226781",
     "status": "completed"
    },
    "tags": []
   },
   "outputs": [],
   "source": [
    "#hide_input\n",
    "#sum_corr = df_all_mrk.corr().sum().sort_values(ascending=True).index.values\n",
    "#df_all_mrk[sum_corr].corr()"
   ]
  },
  {
   "cell_type": "code",
   "execution_count": 11,
   "id": "other-painting",
   "metadata": {
    "execution": {
     "iopub.execute_input": "2021-08-13T01:57:18.312779Z",
     "iopub.status.busy": "2021-08-13T01:57:18.311395Z",
     "iopub.status.idle": "2021-08-13T01:57:18.342408Z",
     "shell.execute_reply": "2021-08-13T01:57:18.341866Z"
    },
    "papermill": {
     "duration": 0.050542,
     "end_time": "2021-08-13T01:57:18.342540",
     "exception": false,
     "start_time": "2021-08-13T01:57:18.291998",
     "status": "completed"
    },
    "tags": []
   },
   "outputs": [],
   "source": [
    "#hide\n",
    "#Koreliacijos matrica. "
   ]
  },
  {
   "cell_type": "code",
   "execution_count": 12,
   "id": "modular-magnitude",
   "metadata": {
    "execution": {
     "iopub.execute_input": "2021-08-13T01:57:18.381321Z",
     "iopub.status.busy": "2021-08-13T01:57:18.379876Z",
     "iopub.status.idle": "2021-08-13T01:57:18.409245Z",
     "shell.execute_reply": "2021-08-13T01:57:18.408672Z"
    },
    "papermill": {
     "duration": 0.051177,
     "end_time": "2021-08-13T01:57:18.409391",
     "exception": false,
     "start_time": "2021-08-13T01:57:18.358214",
     "status": "completed"
    },
    "tags": []
   },
   "outputs": [],
   "source": [
    "#hide_input\n",
    "#plt.figure(figsize=(15, 8))\n",
    "#sns.heatmap(df_all_mrk[sum_corr].corr(), annot=True, cmap=\"BrBG\");\n",
    "#plt.savefig('corr_matrix_all.eps', format='eps')"
   ]
  },
  {
   "cell_type": "code",
   "execution_count": null,
   "id": "original-senator",
   "metadata": {
    "papermill": {
     "duration": 0.015403,
     "end_time": "2021-08-13T01:57:18.440361",
     "exception": false,
     "start_time": "2021-08-13T01:57:18.424958",
     "status": "completed"
    },
    "tags": []
   },
   "outputs": [],
   "source": []
  },
  {
   "cell_type": "code",
   "execution_count": null,
   "id": "saving-secretariat",
   "metadata": {
    "papermill": {
     "duration": 0.015214,
     "end_time": "2021-08-13T01:57:18.471200",
     "exception": false,
     "start_time": "2021-08-13T01:57:18.455986",
     "status": "completed"
    },
    "tags": []
   },
   "outputs": [],
   "source": []
  }
 ],
 "metadata": {
  "kernelspec": {
   "display_name": "Python 3",
   "language": "python",
   "name": "python3"
  },
  "language_info": {
   "codemirror_mode": {
    "name": "ipython",
    "version": 3
   },
   "file_extension": ".py",
   "mimetype": "text/x-python",
   "name": "python",
   "nbconvert_exporter": "python",
   "pygments_lexer": "ipython3",
   "version": "3.6.14"
  },
  "papermill": {
   "default_parameters": {},
   "duration": 21.33077,
   "end_time": "2021-08-13T01:57:19.941884",
   "environment_variables": {},
   "exception": null,
   "input_path": "App-Correlation_charts.ipynb",
   "output_path": "App-Correlation_charts.ipynb",
   "parameters": {},
   "start_time": "2021-08-13T01:56:58.611114",
   "version": "2.2.2"
  }
 },
 "nbformat": 4,
 "nbformat_minor": 5
}