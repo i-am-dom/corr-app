{
 "cells": [
  {
   "cell_type": "markdown",
   "id": "touched-facility",
   "metadata": {
    "papermill": {
     "duration": 0.015302,
     "end_time": "2022-06-13T03:04:24.264526",
     "exception": false,
     "start_time": "2022-06-13T03:04:24.249224",
     "status": "completed"
    },
    "tags": []
   },
   "source": [
    "# Koreliacijų matrica\n",
    "> Išplėstinė koreliacijų matrica. \n",
    "\n",
    "- toc: true \n",
    "- badges: true\n",
    "- comments: false\n",
    "- categories: [Dominykas Tautkus]\n",
    "- image: images/matrix.png"
   ]
  },
  {
   "cell_type": "code",
   "execution_count": null,
   "id": "premium-weekend",
   "metadata": {
    "papermill": {
     "duration": 0.011454,
     "end_time": "2022-06-13T03:04:24.287507",
     "exception": false,
     "start_time": "2022-06-13T03:04:24.276053",
     "status": "completed"
    },
    "tags": []
   },
   "outputs": [],
   "source": []
  },
  {
   "cell_type": "code",
   "execution_count": 1,
   "id": "vertical-rebate",
   "metadata": {
    "execution": {
     "iopub.execute_input": "2022-06-13T03:04:24.320519Z",
     "iopub.status.busy": "2022-06-13T03:04:24.319895Z",
     "iopub.status.idle": "2022-06-13T03:04:24.330523Z",
     "shell.execute_reply": "2022-06-13T03:04:24.330000Z"
    },
    "papermill": {
     "duration": 0.032377,
     "end_time": "2022-06-13T03:04:24.330652",
     "exception": false,
     "start_time": "2022-06-13T03:04:24.298275",
     "status": "completed"
    },
    "tags": []
   },
   "outputs": [],
   "source": [
    "#hide\n",
    "%load_ext autoreload\n",
    "%autoreload 2"
   ]
  },
  {
   "cell_type": "code",
   "execution_count": 2,
   "id": "overall-advancement",
   "metadata": {
    "execution": {
     "iopub.execute_input": "2022-06-13T03:04:24.356200Z",
     "iopub.status.busy": "2022-06-13T03:04:24.355614Z",
     "iopub.status.idle": "2022-06-13T03:04:25.699465Z",
     "shell.execute_reply": "2022-06-13T03:04:25.698957Z"
    },
    "papermill": {
     "duration": 1.358165,
     "end_time": "2022-06-13T03:04:25.699590",
     "exception": false,
     "start_time": "2022-06-13T03:04:24.341425",
     "status": "completed"
    },
    "tags": []
   },
   "outputs": [],
   "source": [
    "#hide\n",
    "from scripts.read_data import read_api\n",
    "from IPython.display import HTML\n",
    "import plotly.graph_objects as go\n"
   ]
  },
  {
   "cell_type": "code",
   "execution_count": 3,
   "id": "light-crazy",
   "metadata": {
    "execution": {
     "iopub.execute_input": "2022-06-13T03:04:25.726053Z",
     "iopub.status.busy": "2022-06-13T03:04:25.725455Z",
     "iopub.status.idle": "2022-06-13T03:04:25.749405Z",
     "shell.execute_reply": "2022-06-13T03:04:25.748847Z"
    },
    "papermill": {
     "duration": 0.038889,
     "end_time": "2022-06-13T03:04:25.749531",
     "exception": false,
     "start_time": "2022-06-13T03:04:25.710642",
     "status": "completed"
    },
    "tags": []
   },
   "outputs": [],
   "source": [
    "#hide\n",
    "### ICO koreliacija"
   ]
  },
  {
   "cell_type": "code",
   "execution_count": 4,
   "id": "likely-bahrain",
   "metadata": {
    "execution": {
     "iopub.execute_input": "2022-06-13T03:04:25.788133Z",
     "iopub.status.busy": "2022-06-13T03:04:25.781982Z",
     "iopub.status.idle": "2022-06-13T03:04:26.655430Z",
     "shell.execute_reply": "2022-06-13T03:04:26.655950Z"
    },
    "papermill": {
     "duration": 0.895737,
     "end_time": "2022-06-13T03:04:26.656112",
     "exception": false,
     "start_time": "2022-06-13T03:04:25.760375",
     "status": "completed"
    },
    "tags": []
   },
   "outputs": [],
   "source": [
    "#hide\n",
    "import matplotlib.pyplot as plt\n",
    "import numpy as np\n",
    "import pandas as pd\n",
    "import seaborn as sns\n",
    "import matplotlib.pyplot as plt \n",
    "import matplotlib.dates as mdates\n",
    "import matplotlib.pyplot as plt"
   ]
  },
  {
   "cell_type": "code",
   "execution_count": 5,
   "id": "superior-blanket",
   "metadata": {
    "execution": {
     "iopub.execute_input": "2022-06-13T03:04:26.697817Z",
     "iopub.status.busy": "2022-06-13T03:04:26.693909Z",
     "iopub.status.idle": "2022-06-13T03:04:36.386846Z",
     "shell.execute_reply": "2022-06-13T03:04:36.385903Z"
    },
    "papermill": {
     "duration": 9.719568,
     "end_time": "2022-06-13T03:04:36.386997",
     "exception": false,
     "start_time": "2022-06-13T03:04:26.667429",
     "status": "completed"
    },
    "tags": []
   },
   "outputs": [
    {
     "name": "stderr",
     "output_type": "stream",
     "text": [
      "/home/runner/work/corr-app/corr-app/_notebooks/scripts/read_data.py:187: SettingWithCopyWarning:\n",
      "\n",
      "\n",
      "A value is trying to be set on a copy of a slice from a DataFrame.\n",
      "Try using .loc[row_indexer,col_indexer] = value instead\n",
      "\n",
      "See the caveats in the documentation: https://pandas.pydata.org/pandas-docs/stable/user_guide/indexing.html#returning-a-view-versus-a-copy\n",
      "\n"
     ]
    },
    {
     "name": "stderr",
     "output_type": "stream",
     "text": [
      "/home/runner/work/corr-app/corr-app/_notebooks/scripts/read_data.py:215: SettingWithCopyWarning:\n",
      "\n",
      "\n",
      "A value is trying to be set on a copy of a slice from a DataFrame.\n",
      "Try using .loc[row_indexer,col_indexer] = value instead\n",
      "\n",
      "See the caveats in the documentation: https://pandas.pydata.org/pandas-docs/stable/user_guide/indexing.html#returning-a-view-versus-a-copy\n",
      "\n"
     ]
    }
   ],
   "source": [
    "#hide\n",
    "df_all = read_api()\n",
    "#df_all = df_all.drop(['SP500', 'XAU', 'ETH', 'BTC'], axis=1)\n",
    "\n"
   ]
  },
  {
   "cell_type": "code",
   "execution_count": 6,
   "id": "mature-alert",
   "metadata": {
    "execution": {
     "iopub.execute_input": "2022-06-13T03:04:36.421386Z",
     "iopub.status.busy": "2022-06-13T03:04:36.420701Z",
     "iopub.status.idle": "2022-06-13T03:04:36.449612Z",
     "shell.execute_reply": "2022-06-13T03:04:36.448984Z"
    },
    "papermill": {
     "duration": 0.050698,
     "end_time": "2022-06-13T03:04:36.449749",
     "exception": false,
     "start_time": "2022-06-13T03:04:36.399051",
     "status": "completed"
    },
    "tags": []
   },
   "outputs": [],
   "source": [
    "#hide_input\n",
    "sum_corr = df_all.corr().sum().sort_values(ascending=True).index.values\n",
    "#df_all[sum_corr].corr()"
   ]
  },
  {
   "cell_type": "markdown",
   "id": "complex-syndicate",
   "metadata": {
    "papermill": {
     "duration": 0.011433,
     "end_time": "2022-06-13T03:04:36.472792",
     "exception": false,
     "start_time": "2022-06-13T03:04:36.461359",
     "status": "completed"
    },
    "tags": []
   },
   "source": [
    "## Išplėstinė koreliacijų matrica. "
   ]
  },
  {
   "cell_type": "code",
   "execution_count": 7,
   "id": "atomic-omaha",
   "metadata": {
    "execution": {
     "iopub.execute_input": "2022-06-13T03:04:36.501495Z",
     "iopub.status.busy": "2022-06-13T03:04:36.500843Z",
     "iopub.status.idle": "2022-06-13T03:04:37.747380Z",
     "shell.execute_reply": "2022-06-13T03:04:37.747841Z"
    },
    "papermill": {
     "duration": 1.263803,
     "end_time": "2022-06-13T03:04:37.747978",
     "exception": false,
     "start_time": "2022-06-13T03:04:36.484175",
     "status": "completed"
    },
    "tags": []
   },
   "outputs": [
    {
     "data": {
      "image/png": "[encoded data removed]",
      "text/plain": [
       "<Figure size 1080x792 with 2 Axes>"
      ]
     },
     "metadata": {
      "needs_background": "light"
     },
     "output_type": "display_data"
    }
   ],
   "source": [
    "#hide_input\n",
    "plt.figure(figsize=(15, 11))\n",
    "sns.heatmap(df_all[sum_corr].corr(), annot=True, cmap=\"cubehelix\") \n",
    "sns.set(font_scale=1.25)\n",
    "plt.savefig('corr_matrix.png', format='eps')"
   ]
  },
  {
   "cell_type": "code",
   "execution_count": 8,
   "id": "arbitrary-sullivan",
   "metadata": {
    "execution": {
     "iopub.execute_input": "2022-06-13T03:04:37.781854Z",
     "iopub.status.busy": "2022-06-13T03:04:37.778607Z",
     "iopub.status.idle": "2022-06-13T03:04:37.807363Z",
     "shell.execute_reply": "2022-06-13T03:04:37.806733Z"
    },
    "papermill": {
     "duration": 0.045853,
     "end_time": "2022-06-13T03:04:37.807497",
     "exception": false,
     "start_time": "2022-06-13T03:04:37.761644",
     "status": "completed"
    },
    "tags": []
   },
   "outputs": [],
   "source": [
    "#hide\n",
    "#df_all_mrk = read_api()"
   ]
  },
  {
   "cell_type": "code",
   "execution_count": 9,
   "id": "delayed-adapter",
   "metadata": {
    "execution": {
     "iopub.execute_input": "2022-06-13T03:04:37.844586Z",
     "iopub.status.busy": "2022-06-13T03:04:37.843956Z",
     "iopub.status.idle": "2022-06-13T03:04:37.868892Z",
     "shell.execute_reply": "2022-06-13T03:04:37.868305Z"
    },
    "papermill": {
     "duration": 0.04808,
     "end_time": "2022-06-13T03:04:37.869050",
     "exception": false,
     "start_time": "2022-06-13T03:04:37.820970",
     "status": "completed"
    },
    "tags": []
   },
   "outputs": [],
   "source": [
    "#hide\n",
    "#Koreliacijų koeficientai"
   ]
  },
  {
   "cell_type": "code",
   "execution_count": 10,
   "id": "seeing-celebration",
   "metadata": {
    "execution": {
     "iopub.execute_input": "2022-06-13T03:04:37.908235Z",
     "iopub.status.busy": "2022-06-13T03:04:37.905713Z",
     "iopub.status.idle": "2022-06-13T03:04:37.930397Z",
     "shell.execute_reply": "2022-06-13T03:04:37.929903Z"
    },
    "papermill": {
     "duration": 0.047849,
     "end_time": "2022-06-13T03:04:37.930522",
     "exception": false,
     "start_time": "2022-06-13T03:04:37.882673",
     "status": "completed"
    },
    "tags": []
   },
   "outputs": [],
   "source": [
    "#hide_input\n",
    "#sum_corr = df_all_mrk.corr().sum().sort_values(ascending=True).index.values\n",
    "#df_all_mrk[sum_corr].corr()"
   ]
  },
  {
   "cell_type": "code",
   "execution_count": 11,
   "id": "other-painting",
   "metadata": {
    "execution": {
     "iopub.execute_input": "2022-06-13T03:04:37.961288Z",
     "iopub.status.busy": "2022-06-13T03:04:37.960645Z",
     "iopub.status.idle": "2022-06-13T03:04:37.988624Z",
     "shell.execute_reply": "2022-06-13T03:04:37.988056Z"
    },
    "papermill": {
     "duration": 0.044741,
     "end_time": "2022-06-13T03:04:37.988758",
     "exception": false,
     "start_time": "2022-06-13T03:04:37.944017",
     "status": "completed"
    },
    "tags": []
   },
   "outputs": [],
   "source": [
    "#hide\n",
    "#Koreliacijos matrica. "
   ]
  },
  {
   "cell_type": "code",
   "execution_count": 12,
   "id": "modular-magnitude",
   "metadata": {
    "execution": {
     "iopub.execute_input": "2022-06-13T03:04:38.021042Z",
     "iopub.status.busy": "2022-06-13T03:04:38.020421Z",
     "iopub.status.idle": "2022-06-13T03:04:38.047746Z",
     "shell.execute_reply": "2022-06-13T03:04:38.047165Z"
    },
    "papermill": {
     "duration": 0.044937,
     "end_time": "2022-06-13T03:04:38.047878",
     "exception": false,
     "start_time": "2022-06-13T03:04:38.002941",
     "status": "completed"
    },
    "tags": []
   },
   "outputs": [],
   "source": [
    "#hide_input\n",
    "#plt.figure(figsize=(15, 8))\n",
    "#sns.heatmap(df_all_mrk[sum_corr].corr(), annot=True, cmap=\"BrBG\");\n",
    "#plt.savefig('corr_matrix_all.eps', format='eps')"
   ]
  },
  {
   "cell_type": "code",
   "execution_count": null,
   "id": "original-senator",
   "metadata": {
    "papermill": {
     "duration": 0.013278,
     "end_time": "2022-06-13T03:04:38.075340",
     "exception": false,
     "start_time": "2022-06-13T03:04:38.062062",
     "status": "completed"
    },
    "tags": []
   },
   "outputs": [],
   "source": []
  },
  {
   "cell_type": "code",
   "execution_count": null,
   "id": "saving-secretariat",
   "metadata": {
    "papermill": {
     "duration": 0.01328,
     "end_time": "2022-06-13T03:04:38.101899",
     "exception": false,
     "start_time": "2022-06-13T03:04:38.088619",
     "status": "completed"
    },
    "tags": []
   },
   "outputs": [],
   "source": []
  }
 ],
 "metadata": {
  "kernelspec": {
   "display_name": "Python 3",
   "language": "python",
   "name": "python3"
  },
  "language_info": {
   "codemirror_mode": {
    "name": "ipython",
    "version": 3
   },
   "file_extension": ".py",
   "mimetype": "text/x-python",
   "name": "python",
   "nbconvert_exporter": "python",
   "pygments_lexer": "ipython3",
   "version": "3.6.15"
  },
  "papermill": {
   "default_parameters": {},
   "duration": 15.491783,
   "end_time": "2022-06-13T03:04:38.634506",
   "environment_variables": {},
   "exception": null,
   "input_path": "App-Correlation_charts.ipynb",
   "output_path": "App-Correlation_charts.ipynb",
   "parameters": {},
   "start_time": "2022-06-13T03:04:23.142723",
   "version": "2.2.2"
  }
 },
 "nbformat": 4,
 "nbformat_minor": 5
}