{
 "cells": [
  {
   "cell_type": "markdown",
   "id": "touched-facility",
   "metadata": {
    "papermill": {
     "duration": 0.017211,
     "end_time": "2022-01-19T01:55:35.016054",
     "exception": false,
     "start_time": "2022-01-19T01:55:34.998843",
     "status": "completed"
    },
    "tags": []
   },
   "source": [
    "# Koreliacijų matrica\n",
    "> Išplėstinė koreliacijų matrica. \n",
    "\n",
    "- toc: true \n",
    "- badges: true\n",
    "- comments: false\n",
    "- categories: [Dominykas Tautkus]\n",
    "- image: images/matrix.png"
   ]
  },
  {
   "cell_type": "code",
   "execution_count": null,
   "id": "premium-weekend",
   "metadata": {
    "papermill": {
     "duration": 0.011748,
     "end_time": "2022-01-19T01:55:35.040401",
     "exception": false,
     "start_time": "2022-01-19T01:55:35.028653",
     "status": "completed"
    },
    "tags": []
   },
   "outputs": [],
   "source": []
  },
  {
   "cell_type": "code",
   "execution_count": 1,
   "id": "vertical-rebate",
   "metadata": {
    "execution": {
     "iopub.execute_input": "2022-01-19T01:55:35.070631Z",
     "iopub.status.busy": "2022-01-19T01:55:35.070107Z",
     "iopub.status.idle": "2022-01-19T01:55:35.081030Z",
     "shell.execute_reply": "2022-01-19T01:55:35.080610Z"
    },
    "papermill": {
     "duration": 0.031167,
     "end_time": "2022-01-19T01:55:35.081170",
     "exception": false,
     "start_time": "2022-01-19T01:55:35.050003",
     "status": "completed"
    },
    "tags": []
   },
   "outputs": [],
   "source": [
    "#hide\n",
    "%load_ext autoreload\n",
    "%autoreload 2"
   ]
  },
  {
   "cell_type": "code",
   "execution_count": 2,
   "id": "overall-advancement",
   "metadata": {
    "execution": {
     "iopub.execute_input": "2022-01-19T01:55:35.108170Z",
     "iopub.status.busy": "2022-01-19T01:55:35.107671Z",
     "iopub.status.idle": "2022-01-19T01:55:36.363632Z",
     "shell.execute_reply": "2022-01-19T01:55:36.363074Z"
    },
    "papermill": {
     "duration": 1.272965,
     "end_time": "2022-01-19T01:55:36.363786",
     "exception": false,
     "start_time": "2022-01-19T01:55:35.090821",
     "status": "completed"
    },
    "tags": []
   },
   "outputs": [],
   "source": [
    "#hide\n",
    "from scripts.read_data import read_api\n",
    "from IPython.display import HTML\n",
    "import plotly.graph_objects as go\n"
   ]
  },
  {
   "cell_type": "code",
   "execution_count": 3,
   "id": "light-crazy",
   "metadata": {
    "execution": {
     "iopub.execute_input": "2022-01-19T01:55:36.390704Z",
     "iopub.status.busy": "2022-01-19T01:55:36.390229Z",
     "iopub.status.idle": "2022-01-19T01:55:36.413289Z",
     "shell.execute_reply": "2022-01-19T01:55:36.412757Z"
    },
    "papermill": {
     "duration": 0.03873,
     "end_time": "2022-01-19T01:55:36.413436",
     "exception": false,
     "start_time": "2022-01-19T01:55:36.374706",
     "status": "completed"
    },
    "tags": []
   },
   "outputs": [],
   "source": [
    "#hide\n",
    "### ICO koreliacija"
   ]
  },
  {
   "cell_type": "code",
   "execution_count": 4,
   "id": "likely-bahrain",
   "metadata": {
    "execution": {
     "iopub.execute_input": "2022-01-19T01:55:36.438463Z",
     "iopub.status.busy": "2022-01-19T01:55:36.437823Z",
     "iopub.status.idle": "2022-01-19T01:55:37.332053Z",
     "shell.execute_reply": "2022-01-19T01:55:37.332545Z"
    },
    "papermill": {
     "duration": 0.908252,
     "end_time": "2022-01-19T01:55:37.332723",
     "exception": false,
     "start_time": "2022-01-19T01:55:36.424471",
     "status": "completed"
    },
    "tags": []
   },
   "outputs": [],
   "source": [
    "#hide\n",
    "import matplotlib.pyplot as plt\n",
    "import numpy as np\n",
    "import pandas as pd\n",
    "import seaborn as sns\n",
    "import matplotlib.pyplot as plt \n",
    "import matplotlib.dates as mdates\n",
    "import matplotlib.pyplot as plt"
   ]
  },
  {
   "cell_type": "code",
   "execution_count": 5,
   "id": "superior-blanket",
   "metadata": {
    "execution": {
     "iopub.execute_input": "2022-01-19T01:55:37.365400Z",
     "iopub.status.busy": "2022-01-19T01:55:37.363490Z",
     "iopub.status.idle": "2022-01-19T01:55:49.981151Z",
     "shell.execute_reply": "2022-01-19T01:55:49.980692Z"
    },
    "papermill": {
     "duration": 12.637314,
     "end_time": "2022-01-19T01:55:49.981272",
     "exception": false,
     "start_time": "2022-01-19T01:55:37.343958",
     "status": "completed"
    },
    "tags": []
   },
   "outputs": [
    {
     "name": "stderr",
     "output_type": "stream",
     "text": [
      "/home/runner/work/corr-app/corr-app/_notebooks/scripts/read_data.py:187: SettingWithCopyWarning:\n",
      "\n",
      "\n",
      "A value is trying to be set on a copy of a slice from a DataFrame.\n",
      "Try using .loc[row_indexer,col_indexer] = value instead\n",
      "\n",
      "See the caveats in the documentation: https://pandas.pydata.org/pandas-docs/stable/user_guide/indexing.html#returning-a-view-versus-a-copy\n",
      "\n"
     ]
    },
    {
     "name": "stderr",
     "output_type": "stream",
     "text": [
      "/home/runner/work/corr-app/corr-app/_notebooks/scripts/read_data.py:215: SettingWithCopyWarning:\n",
      "\n",
      "\n",
      "A value is trying to be set on a copy of a slice from a DataFrame.\n",
      "Try using .loc[row_indexer,col_indexer] = value instead\n",
      "\n",
      "See the caveats in the documentation: https://pandas.pydata.org/pandas-docs/stable/user_guide/indexing.html#returning-a-view-versus-a-copy\n",
      "\n"
     ]
    }
   ],
   "source": [
    "#hide\n",
    "df_all = read_api()\n",
    "#df_all = df_all.drop(['SP500', 'XAU', 'ETH', 'BTC'], axis=1)\n",
    "\n"
   ]
  },
  {
   "cell_type": "code",
   "execution_count": 6,
   "id": "mature-alert",
   "metadata": {
    "execution": {
     "iopub.execute_input": "2022-01-19T01:55:50.005175Z",
     "iopub.status.busy": "2022-01-19T01:55:50.004647Z",
     "iopub.status.idle": "2022-01-19T01:55:50.032594Z",
     "shell.execute_reply": "2022-01-19T01:55:50.032081Z"
    },
    "papermill": {
     "duration": 0.041192,
     "end_time": "2022-01-19T01:55:50.032733",
     "exception": false,
     "start_time": "2022-01-19T01:55:49.991541",
     "status": "completed"
    },
    "tags": []
   },
   "outputs": [],
   "source": [
    "#hide_input\n",
    "sum_corr = df_all.corr().sum().sort_values(ascending=True).index.values\n",
    "#df_all[sum_corr].corr()"
   ]
  },
  {
   "cell_type": "markdown",
   "id": "complex-syndicate",
   "metadata": {
    "papermill": {
     "duration": 0.011448,
     "end_time": "2022-01-19T01:55:50.055686",
     "exception": false,
     "start_time": "2022-01-19T01:55:50.044238",
     "status": "completed"
    },
    "tags": []
   },
   "source": [
    "## Išplėstinė koreliacijų matrica. "
   ]
  },
  {
   "cell_type": "code",
   "execution_count": 7,
   "id": "atomic-omaha",
   "metadata": {
    "execution": {
     "iopub.execute_input": "2022-01-19T01:55:50.082685Z",
     "iopub.status.busy": "2022-01-19T01:55:50.082211Z",
     "iopub.status.idle": "2022-01-19T01:55:51.285387Z",
     "shell.execute_reply": "2022-01-19T01:55:51.285800Z"
    },
    "papermill": {
     "duration": 1.218939,
     "end_time": "2022-01-19T01:55:51.285952",
     "exception": false,
     "start_time": "2022-01-19T01:55:50.067013",
     "status": "completed"
    },
    "tags": []
   },
   "outputs": [
    {
     "data": {
      "image/png": "[encoded data removed]",
      "text/plain": [
       "<Figure size 1080x792 with 2 Axes>"
      ]
     },
     "metadata": {
      "needs_background": "light"
     },
     "output_type": "display_data"
    }
   ],
   "source": [
    "#hide_input\n",
    "plt.figure(figsize=(15, 11))\n",
    "sns.heatmap(df_all[sum_corr].corr(), annot=True, cmap=\"cubehelix\") \n",
    "sns.set(font_scale=1.25)\n",
    "plt.savefig('corr_matrix.png', format='eps')"
   ]
  },
  {
   "cell_type": "code",
   "execution_count": 8,
   "id": "arbitrary-sullivan",
   "metadata": {
    "execution": {
     "iopub.execute_input": "2022-01-19T01:55:51.323358Z",
     "iopub.status.busy": "2022-01-19T01:55:51.322732Z",
     "iopub.status.idle": "2022-01-19T01:55:51.347466Z",
     "shell.execute_reply": "2022-01-19T01:55:51.346882Z"
    },
    "papermill": {
     "duration": 0.04777,
     "end_time": "2022-01-19T01:55:51.347599",
     "exception": false,
     "start_time": "2022-01-19T01:55:51.299829",
     "status": "completed"
    },
    "tags": []
   },
   "outputs": [],
   "source": [
    "#hide\n",
    "#df_all_mrk = read_api()"
   ]
  },
  {
   "cell_type": "code",
   "execution_count": 9,
   "id": "delayed-adapter",
   "metadata": {
    "execution": {
     "iopub.execute_input": "2022-01-19T01:55:51.392231Z",
     "iopub.status.busy": "2022-01-19T01:55:51.391714Z",
     "iopub.status.idle": "2022-01-19T01:55:51.411618Z",
     "shell.execute_reply": "2022-01-19T01:55:51.411189Z"
    },
    "papermill": {
     "duration": 0.050234,
     "end_time": "2022-01-19T01:55:51.411741",
     "exception": false,
     "start_time": "2022-01-19T01:55:51.361507",
     "status": "completed"
    },
    "tags": []
   },
   "outputs": [],
   "source": [
    "#hide\n",
    "#Koreliacijų koeficientai"
   ]
  },
  {
   "cell_type": "code",
   "execution_count": 10,
   "id": "seeing-celebration",
   "metadata": {
    "execution": {
     "iopub.execute_input": "2022-01-19T01:55:51.445594Z",
     "iopub.status.busy": "2022-01-19T01:55:51.444792Z",
     "iopub.status.idle": "2022-01-19T01:55:51.472212Z",
     "shell.execute_reply": "2022-01-19T01:55:51.472665Z"
    },
    "papermill": {
     "duration": 0.047711,
     "end_time": "2022-01-19T01:55:51.472832",
     "exception": false,
     "start_time": "2022-01-19T01:55:51.425121",
     "status": "completed"
    },
    "tags": []
   },
   "outputs": [],
   "source": [
    "#hide_input\n",
    "#sum_corr = df_all_mrk.corr().sum().sort_values(ascending=True).index.values\n",
    "#df_all_mrk[sum_corr].corr()"
   ]
  },
  {
   "cell_type": "code",
   "execution_count": 11,
   "id": "other-painting",
   "metadata": {
    "execution": {
     "iopub.execute_input": "2022-01-19T01:55:51.503120Z",
     "iopub.status.busy": "2022-01-19T01:55:51.502576Z",
     "iopub.status.idle": "2022-01-19T01:55:51.531083Z",
     "shell.execute_reply": "2022-01-19T01:55:51.530553Z"
    },
    "papermill": {
     "duration": 0.044833,
     "end_time": "2022-01-19T01:55:51.531227",
     "exception": false,
     "start_time": "2022-01-19T01:55:51.486394",
     "status": "completed"
    },
    "tags": []
   },
   "outputs": [],
   "source": [
    "#hide\n",
    "#Koreliacijos matrica. "
   ]
  },
  {
   "cell_type": "code",
   "execution_count": 12,
   "id": "modular-magnitude",
   "metadata": {
    "execution": {
     "iopub.execute_input": "2022-01-19T01:55:51.562613Z",
     "iopub.status.busy": "2022-01-19T01:55:51.562101Z",
     "iopub.status.idle": "2022-01-19T01:55:51.590763Z",
     "shell.execute_reply": "2022-01-19T01:55:51.590263Z"
    },
    "papermill": {
     "duration": 0.045615,
     "end_time": "2022-01-19T01:55:51.590904",
     "exception": false,
     "start_time": "2022-01-19T01:55:51.545289",
     "status": "completed"
    },
    "tags": []
   },
   "outputs": [],
   "source": [
    "#hide_input\n",
    "#plt.figure(figsize=(15, 8))\n",
    "#sns.heatmap(df_all_mrk[sum_corr].corr(), annot=True, cmap=\"BrBG\");\n",
    "#plt.savefig('corr_matrix_all.eps', format='eps')"
   ]
  },
  {
   "cell_type": "code",
   "execution_count": null,
   "id": "original-senator",
   "metadata": {
    "papermill": {
     "duration": 0.013169,
     "end_time": "2022-01-19T01:55:51.619816",
     "exception": false,
     "start_time": "2022-01-19T01:55:51.606647",
     "status": "completed"
    },
    "tags": []
   },
   "outputs": [],
   "source": []
  },
  {
   "cell_type": "code",
   "execution_count": null,
   "id": "saving-secretariat",
   "metadata": {
    "papermill": {
     "duration": 0.012994,
     "end_time": "2022-01-19T01:55:51.645897",
     "exception": false,
     "start_time": "2022-01-19T01:55:51.632903",
     "status": "completed"
    },
    "tags": []
   },
   "outputs": [],
   "source": []
  }
 ],
 "metadata": {
  "kernelspec": {
   "display_name": "Python 3",
   "language": "python",
   "name": "python3"
  },
  "language_info": {
   "codemirror_mode": {
    "name": "ipython",
    "version": 3
   },
   "file_extension": ".py",
   "mimetype": "text/x-python",
   "name": "python",
   "nbconvert_exporter": "python",
   "pygments_lexer": "ipython3",
   "version": "3.6.15"
  },
  "papermill": {
   "default_parameters": {},
   "duration": 18.516616,
   "end_time": "2022-01-19T01:55:52.279179",
   "environment_variables": {},
   "exception": null,
   "input_path": "App-Correlation_charts.ipynb",
   "output_path": "App-Correlation_charts.ipynb",
   "parameters": {},
   "start_time": "2022-01-19T01:55:33.762563",
   "version": "2.2.2"
  }
 },
 "nbformat": 4,
 "nbformat_minor": 5
}