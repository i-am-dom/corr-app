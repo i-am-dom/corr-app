{
 "cells": [
  {
   "cell_type": "markdown",
   "id": "touched-facility",
   "metadata": {
    "papermill": {
     "duration": 0.017227,
     "end_time": "2021-11-12T01:58:44.130158",
     "exception": false,
     "start_time": "2021-11-12T01:58:44.112931",
     "status": "completed"
    },
    "tags": []
   },
   "source": [
    "# Koreliacijų matrica\n",
    "> Išplėstinė koreliacijų matrica. \n",
    "\n",
    "- toc: true \n",
    "- badges: true\n",
    "- comments: false\n",
    "- categories: [Dominykas Tautkus]\n",
    "- image: images/matrix.png"
   ]
  },
  {
   "cell_type": "code",
   "execution_count": null,
   "id": "premium-weekend",
   "metadata": {
    "papermill": {
     "duration": 0.012846,
     "end_time": "2021-11-12T01:58:44.157067",
     "exception": false,
     "start_time": "2021-11-12T01:58:44.144221",
     "status": "completed"
    },
    "tags": []
   },
   "outputs": [],
   "source": []
  },
  {
   "cell_type": "code",
   "execution_count": 1,
   "id": "vertical-rebate",
   "metadata": {
    "execution": {
     "iopub.execute_input": "2021-11-12T01:58:44.194929Z",
     "iopub.status.busy": "2021-11-12T01:58:44.194260Z",
     "iopub.status.idle": "2021-11-12T01:58:44.205230Z",
     "shell.execute_reply": "2021-11-12T01:58:44.205820Z"
    },
    "papermill": {
     "duration": 0.036133,
     "end_time": "2021-11-12T01:58:44.206026",
     "exception": false,
     "start_time": "2021-11-12T01:58:44.169893",
     "status": "completed"
    },
    "tags": []
   },
   "outputs": [],
   "source": [
    "#hide\n",
    "%load_ext autoreload\n",
    "%autoreload 2"
   ]
  },
  {
   "cell_type": "code",
   "execution_count": 2,
   "id": "overall-advancement",
   "metadata": {
    "execution": {
     "iopub.execute_input": "2021-11-12T01:58:44.236841Z",
     "iopub.status.busy": "2021-11-12T01:58:44.236187Z",
     "iopub.status.idle": "2021-11-12T01:58:45.521534Z",
     "shell.execute_reply": "2021-11-12T01:58:45.522045Z"
    },
    "papermill": {
     "duration": 1.302675,
     "end_time": "2021-11-12T01:58:45.522215",
     "exception": false,
     "start_time": "2021-11-12T01:58:44.219540",
     "status": "completed"
    },
    "tags": []
   },
   "outputs": [],
   "source": [
    "#hide\n",
    "from scripts.read_data import read_api\n",
    "from IPython.display import HTML\n",
    "import plotly.graph_objects as go\n"
   ]
  },
  {
   "cell_type": "code",
   "execution_count": 3,
   "id": "light-crazy",
   "metadata": {
    "execution": {
     "iopub.execute_input": "2021-11-12T01:58:45.559718Z",
     "iopub.status.busy": "2021-11-12T01:58:45.557305Z",
     "iopub.status.idle": "2021-11-12T01:58:45.580970Z",
     "shell.execute_reply": "2021-11-12T01:58:45.580369Z"
    },
    "papermill": {
     "duration": 0.043817,
     "end_time": "2021-11-12T01:58:45.581092",
     "exception": false,
     "start_time": "2021-11-12T01:58:45.537275",
     "status": "completed"
    },
    "tags": []
   },
   "outputs": [],
   "source": [
    "#hide\n",
    "### ICO koreliacija"
   ]
  },
  {
   "cell_type": "code",
   "execution_count": 4,
   "id": "likely-bahrain",
   "metadata": {
    "execution": {
     "iopub.execute_input": "2021-11-12T01:58:45.613067Z",
     "iopub.status.busy": "2021-11-12T01:58:45.612436Z",
     "iopub.status.idle": "2021-11-12T01:58:46.567262Z",
     "shell.execute_reply": "2021-11-12T01:58:46.567775Z"
    },
    "papermill": {
     "duration": 0.973096,
     "end_time": "2021-11-12T01:58:46.567948",
     "exception": false,
     "start_time": "2021-11-12T01:58:45.594852",
     "status": "completed"
    },
    "tags": []
   },
   "outputs": [],
   "source": [
    "#hide\n",
    "import matplotlib.pyplot as plt\n",
    "import numpy as np\n",
    "import pandas as pd\n",
    "import seaborn as sns\n",
    "import matplotlib.pyplot as plt \n",
    "import matplotlib.dates as mdates\n",
    "import matplotlib.pyplot as plt"
   ]
  },
  {
   "cell_type": "code",
   "execution_count": 5,
   "id": "superior-blanket",
   "metadata": {
    "execution": {
     "iopub.execute_input": "2021-11-12T01:58:46.601751Z",
     "iopub.status.busy": "2021-11-12T01:58:46.601091Z",
     "iopub.status.idle": "2021-11-12T01:59:00.403598Z",
     "shell.execute_reply": "2021-11-12T01:59:00.404229Z"
    },
    "papermill": {
     "duration": 13.821642,
     "end_time": "2021-11-12T01:59:00.404401",
     "exception": false,
     "start_time": "2021-11-12T01:58:46.582759",
     "status": "completed"
    },
    "tags": []
   },
   "outputs": [
    {
     "name": "stderr",
     "output_type": "stream",
     "text": [
      "/home/runner/work/corr-app/corr-app/_notebooks/scripts/read_data.py:187: SettingWithCopyWarning:\n",
      "\n",
      "\n",
      "A value is trying to be set on a copy of a slice from a DataFrame.\n",
      "Try using .loc[row_indexer,col_indexer] = value instead\n",
      "\n",
      "See the caveats in the documentation: https://pandas.pydata.org/pandas-docs/stable/user_guide/indexing.html#returning-a-view-versus-a-copy\n",
      "\n"
     ]
    },
    {
     "name": "stderr",
     "output_type": "stream",
     "text": [
      "/home/runner/work/corr-app/corr-app/_notebooks/scripts/read_data.py:215: SettingWithCopyWarning:\n",
      "\n",
      "\n",
      "A value is trying to be set on a copy of a slice from a DataFrame.\n",
      "Try using .loc[row_indexer,col_indexer] = value instead\n",
      "\n",
      "See the caveats in the documentation: https://pandas.pydata.org/pandas-docs/stable/user_guide/indexing.html#returning-a-view-versus-a-copy\n",
      "\n"
     ]
    }
   ],
   "source": [
    "#hide\n",
    "df_all = read_api()\n",
    "#df_all = df_all.drop(['SP500', 'XAU', 'ETH', 'BTC'], axis=1)\n",
    "\n"
   ]
  },
  {
   "cell_type": "code",
   "execution_count": 6,
   "id": "mature-alert",
   "metadata": {
    "execution": {
     "iopub.execute_input": "2021-11-12T01:59:00.435778Z",
     "iopub.status.busy": "2021-11-12T01:59:00.435130Z",
     "iopub.status.idle": "2021-11-12T01:59:00.469335Z",
     "shell.execute_reply": "2021-11-12T01:59:00.468835Z"
    },
    "papermill": {
     "duration": 0.051284,
     "end_time": "2021-11-12T01:59:00.469460",
     "exception": false,
     "start_time": "2021-11-12T01:59:00.418176",
     "status": "completed"
    },
    "tags": []
   },
   "outputs": [],
   "source": [
    "#hide_input\n",
    "sum_corr = df_all.corr().sum().sort_values(ascending=True).index.values\n",
    "#df_all[sum_corr].corr()"
   ]
  },
  {
   "cell_type": "markdown",
   "id": "complex-syndicate",
   "metadata": {
    "papermill": {
     "duration": 0.013358,
     "end_time": "2021-11-12T01:59:00.495826",
     "exception": false,
     "start_time": "2021-11-12T01:59:00.482468",
     "status": "completed"
    },
    "tags": []
   },
   "source": [
    "## Išplėstinė koreliacijų matrica. "
   ]
  },
  {
   "cell_type": "code",
   "execution_count": 7,
   "id": "atomic-omaha",
   "metadata": {
    "execution": {
     "iopub.execute_input": "2021-11-12T01:59:00.526933Z",
     "iopub.status.busy": "2021-11-12T01:59:00.526281Z",
     "iopub.status.idle": "2021-11-12T01:59:01.958296Z",
     "shell.execute_reply": "2021-11-12T01:59:01.957261Z"
    },
    "papermill": {
     "duration": 1.449427,
     "end_time": "2021-11-12T01:59:01.958446",
     "exception": false,
     "start_time": "2021-11-12T01:59:00.509019",
     "status": "completed"
    },
    "tags": []
   },
   "outputs": [
    {
     "data": {
      "image/png": "[encoded data removed]",
      "text/plain": [
       "<Figure size 1080x792 with 2 Axes>"
      ]
     },
     "metadata": {
      "needs_background": "light"
     },
     "output_type": "display_data"
    }
   ],
   "source": [
    "#hide_input\n",
    "plt.figure(figsize=(15, 11))\n",
    "sns.heatmap(df_all[sum_corr].corr(), annot=True, cmap=\"cubehelix\") \n",
    "sns.set(font_scale=1.25)\n",
    "plt.savefig('corr_matrix.png', format='eps')"
   ]
  },
  {
   "cell_type": "code",
   "execution_count": 8,
   "id": "arbitrary-sullivan",
   "metadata": {
    "execution": {
     "iopub.execute_input": "2021-11-12T01:59:01.993777Z",
     "iopub.status.busy": "2021-11-12T01:59:01.993157Z",
     "iopub.status.idle": "2021-11-12T01:59:02.019259Z",
     "shell.execute_reply": "2021-11-12T01:59:02.019734Z"
    },
    "papermill": {
     "duration": 0.045489,
     "end_time": "2021-11-12T01:59:02.019874",
     "exception": false,
     "start_time": "2021-11-12T01:59:01.974385",
     "status": "completed"
    },
    "tags": []
   },
   "outputs": [],
   "source": [
    "#hide\n",
    "#df_all_mrk = read_api()"
   ]
  },
  {
   "cell_type": "code",
   "execution_count": 9,
   "id": "delayed-adapter",
   "metadata": {
    "execution": {
     "iopub.execute_input": "2021-11-12T01:59:02.055102Z",
     "iopub.status.busy": "2021-11-12T01:59:02.054430Z",
     "iopub.status.idle": "2021-11-12T01:59:02.082180Z",
     "shell.execute_reply": "2021-11-12T01:59:02.081671Z"
    },
    "papermill": {
     "duration": 0.046587,
     "end_time": "2021-11-12T01:59:02.082306",
     "exception": false,
     "start_time": "2021-11-12T01:59:02.035719",
     "status": "completed"
    },
    "tags": []
   },
   "outputs": [],
   "source": [
    "#hide\n",
    "#Koreliacijų koeficientai"
   ]
  },
  {
   "cell_type": "code",
   "execution_count": 10,
   "id": "seeing-celebration",
   "metadata": {
    "execution": {
     "iopub.execute_input": "2021-11-12T01:59:02.117015Z",
     "iopub.status.busy": "2021-11-12T01:59:02.116396Z",
     "iopub.status.idle": "2021-11-12T01:59:02.142543Z",
     "shell.execute_reply": "2021-11-12T01:59:02.143027Z"
    },
    "papermill": {
     "duration": 0.045041,
     "end_time": "2021-11-12T01:59:02.143161",
     "exception": false,
     "start_time": "2021-11-12T01:59:02.098120",
     "status": "completed"
    },
    "tags": []
   },
   "outputs": [],
   "source": [
    "#hide_input\n",
    "#sum_corr = df_all_mrk.corr().sum().sort_values(ascending=True).index.values\n",
    "#df_all_mrk[sum_corr].corr()"
   ]
  },
  {
   "cell_type": "code",
   "execution_count": 11,
   "id": "other-painting",
   "metadata": {
    "execution": {
     "iopub.execute_input": "2021-11-12T01:59:02.176283Z",
     "iopub.status.busy": "2021-11-12T01:59:02.175609Z",
     "iopub.status.idle": "2021-11-12T01:59:02.200002Z",
     "shell.execute_reply": "2021-11-12T01:59:02.199493Z"
    },
    "papermill": {
     "duration": 0.042248,
     "end_time": "2021-11-12T01:59:02.200118",
     "exception": false,
     "start_time": "2021-11-12T01:59:02.157870",
     "status": "completed"
    },
    "tags": []
   },
   "outputs": [],
   "source": [
    "#hide\n",
    "#Koreliacijos matrica. "
   ]
  },
  {
   "cell_type": "code",
   "execution_count": 12,
   "id": "modular-magnitude",
   "metadata": {
    "execution": {
     "iopub.execute_input": "2021-11-12T01:59:02.233807Z",
     "iopub.status.busy": "2021-11-12T01:59:02.233151Z",
     "iopub.status.idle": "2021-11-12T01:59:02.259829Z",
     "shell.execute_reply": "2021-11-12T01:59:02.259308Z"
    },
    "papermill": {
     "duration": 0.04482,
     "end_time": "2021-11-12T01:59:02.259952",
     "exception": false,
     "start_time": "2021-11-12T01:59:02.215132",
     "status": "completed"
    },
    "tags": []
   },
   "outputs": [],
   "source": [
    "#hide_input\n",
    "#plt.figure(figsize=(15, 8))\n",
    "#sns.heatmap(df_all_mrk[sum_corr].corr(), annot=True, cmap=\"BrBG\");\n",
    "#plt.savefig('corr_matrix_all.eps', format='eps')"
   ]
  },
  {
   "cell_type": "code",
   "execution_count": null,
   "id": "original-senator",
   "metadata": {
    "papermill": {
     "duration": 0.015469,
     "end_time": "2021-11-12T01:59:02.290418",
     "exception": false,
     "start_time": "2021-11-12T01:59:02.274949",
     "status": "completed"
    },
    "tags": []
   },
   "outputs": [],
   "source": []
  },
  {
   "cell_type": "code",
   "execution_count": null,
   "id": "saving-secretariat",
   "metadata": {
    "papermill": {
     "duration": 0.014668,
     "end_time": "2021-11-12T01:59:02.320060",
     "exception": false,
     "start_time": "2021-11-12T01:59:02.305392",
     "status": "completed"
    },
    "tags": []
   },
   "outputs": [],
   "source": []
  }
 ],
 "metadata": {
  "kernelspec": {
   "display_name": "Python 3",
   "language": "python",
   "name": "python3"
  },
  "language_info": {
   "codemirror_mode": {
    "name": "ipython",
    "version": 3
   },
   "file_extension": ".py",
   "mimetype": "text/x-python",
   "name": "python",
   "nbconvert_exporter": "python",
   "pygments_lexer": "ipython3",
   "version": "3.6.15"
  },
  "papermill": {
   "default_parameters": {},
   "duration": 19.795771,
   "end_time": "2021-11-12T01:59:02.844061",
   "environment_variables": {},
   "exception": null,
   "input_path": "App-Correlation_charts.ipynb",
   "output_path": "App-Correlation_charts.ipynb",
   "parameters": {},
   "start_time": "2021-11-12T01:58:43.048290",
   "version": "2.2.2"
  }
 },
 "nbformat": 4,
 "nbformat_minor": 5
}