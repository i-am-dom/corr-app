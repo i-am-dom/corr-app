{
 "cells": [
  {
   "cell_type": "markdown",
   "id": "touched-facility",
   "metadata": {
    "papermill": {
     "duration": 0.01435,
     "end_time": "2022-01-17T02:08:27.094810",
     "exception": false,
     "start_time": "2022-01-17T02:08:27.080460",
     "status": "completed"
    },
    "tags": []
   },
   "source": [
    "# Koreliacijų matrica\n",
    "> Išplėstinė koreliacijų matrica. \n",
    "\n",
    "- toc: true \n",
    "- badges: true\n",
    "- comments: false\n",
    "- categories: [Dominykas Tautkus]\n",
    "- image: images/matrix.png"
   ]
  },
  {
   "cell_type": "code",
   "execution_count": null,
   "id": "premium-weekend",
   "metadata": {
    "papermill": {
     "duration": 0.010515,
     "end_time": "2022-01-17T02:08:27.117016",
     "exception": false,
     "start_time": "2022-01-17T02:08:27.106501",
     "status": "completed"
    },
    "tags": []
   },
   "outputs": [],
   "source": []
  },
  {
   "cell_type": "code",
   "execution_count": 1,
   "id": "vertical-rebate",
   "metadata": {
    "execution": {
     "iopub.execute_input": "2022-01-17T02:08:27.147909Z",
     "iopub.status.busy": "2022-01-17T02:08:27.145536Z",
     "iopub.status.idle": "2022-01-17T02:08:27.158109Z",
     "shell.execute_reply": "2022-01-17T02:08:27.158522Z"
    },
    "papermill": {
     "duration": 0.031142,
     "end_time": "2022-01-17T02:08:27.158663",
     "exception": false,
     "start_time": "2022-01-17T02:08:27.127521",
     "status": "completed"
    },
    "tags": []
   },
   "outputs": [],
   "source": [
    "#hide\n",
    "%load_ext autoreload\n",
    "%autoreload 2"
   ]
  },
  {
   "cell_type": "code",
   "execution_count": 2,
   "id": "overall-advancement",
   "metadata": {
    "execution": {
     "iopub.execute_input": "2022-01-17T02:08:27.187710Z",
     "iopub.status.busy": "2022-01-17T02:08:27.187201Z",
     "iopub.status.idle": "2022-01-17T02:08:28.474035Z",
     "shell.execute_reply": "2022-01-17T02:08:28.473513Z"
    },
    "papermill": {
     "duration": 1.304963,
     "end_time": "2022-01-17T02:08:28.474169",
     "exception": false,
     "start_time": "2022-01-17T02:08:27.169206",
     "status": "completed"
    },
    "tags": []
   },
   "outputs": [],
   "source": [
    "#hide\n",
    "from scripts.read_data import read_api\n",
    "from IPython.display import HTML\n",
    "import plotly.graph_objects as go\n"
   ]
  },
  {
   "cell_type": "code",
   "execution_count": 3,
   "id": "light-crazy",
   "metadata": {
    "execution": {
     "iopub.execute_input": "2022-01-17T02:08:28.501697Z",
     "iopub.status.busy": "2022-01-17T02:08:28.501124Z",
     "iopub.status.idle": "2022-01-17T02:08:28.521627Z",
     "shell.execute_reply": "2022-01-17T02:08:28.521216Z"
    },
    "papermill": {
     "duration": 0.035687,
     "end_time": "2022-01-17T02:08:28.521737",
     "exception": false,
     "start_time": "2022-01-17T02:08:28.486050",
     "status": "completed"
    },
    "tags": []
   },
   "outputs": [],
   "source": [
    "#hide\n",
    "### ICO koreliacija"
   ]
  },
  {
   "cell_type": "code",
   "execution_count": 4,
   "id": "likely-bahrain",
   "metadata": {
    "execution": {
     "iopub.execute_input": "2022-01-17T02:08:28.554166Z",
     "iopub.status.busy": "2022-01-17T02:08:28.553649Z",
     "iopub.status.idle": "2022-01-17T02:08:29.513546Z",
     "shell.execute_reply": "2022-01-17T02:08:29.514023Z"
    },
    "papermill": {
     "duration": 0.981274,
     "end_time": "2022-01-17T02:08:29.514186",
     "exception": false,
     "start_time": "2022-01-17T02:08:28.532912",
     "status": "completed"
    },
    "tags": []
   },
   "outputs": [],
   "source": [
    "#hide\n",
    "import matplotlib.pyplot as plt\n",
    "import numpy as np\n",
    "import pandas as pd\n",
    "import seaborn as sns\n",
    "import matplotlib.pyplot as plt \n",
    "import matplotlib.dates as mdates\n",
    "import matplotlib.pyplot as plt"
   ]
  },
  {
   "cell_type": "code",
   "execution_count": 5,
   "id": "superior-blanket",
   "metadata": {
    "execution": {
     "iopub.execute_input": "2022-01-17T02:08:29.546771Z",
     "iopub.status.busy": "2022-01-17T02:08:29.542514Z",
     "iopub.status.idle": "2022-01-17T02:08:39.582649Z",
     "shell.execute_reply": "2022-01-17T02:08:39.582111Z"
    },
    "papermill": {
     "duration": 10.057445,
     "end_time": "2022-01-17T02:08:39.582787",
     "exception": false,
     "start_time": "2022-01-17T02:08:29.525342",
     "status": "completed"
    },
    "tags": []
   },
   "outputs": [
    {
     "name": "stderr",
     "output_type": "stream",
     "text": [
      "/home/runner/work/corr-app/corr-app/_notebooks/scripts/read_data.py:187: SettingWithCopyWarning:\n",
      "\n",
      "\n",
      "A value is trying to be set on a copy of a slice from a DataFrame.\n",
      "Try using .loc[row_indexer,col_indexer] = value instead\n",
      "\n",
      "See the caveats in the documentation: https://pandas.pydata.org/pandas-docs/stable/user_guide/indexing.html#returning-a-view-versus-a-copy\n",
      "\n"
     ]
    },
    {
     "name": "stderr",
     "output_type": "stream",
     "text": [
      "/home/runner/work/corr-app/corr-app/_notebooks/scripts/read_data.py:215: SettingWithCopyWarning:\n",
      "\n",
      "\n",
      "A value is trying to be set on a copy of a slice from a DataFrame.\n",
      "Try using .loc[row_indexer,col_indexer] = value instead\n",
      "\n",
      "See the caveats in the documentation: https://pandas.pydata.org/pandas-docs/stable/user_guide/indexing.html#returning-a-view-versus-a-copy\n",
      "\n"
     ]
    }
   ],
   "source": [
    "#hide\n",
    "df_all = read_api()\n",
    "#df_all = df_all.drop(['SP500', 'XAU', 'ETH', 'BTC'], axis=1)\n",
    "\n"
   ]
  },
  {
   "cell_type": "code",
   "execution_count": 6,
   "id": "mature-alert",
   "metadata": {
    "execution": {
     "iopub.execute_input": "2022-01-17T02:08:39.615722Z",
     "iopub.status.busy": "2022-01-17T02:08:39.610707Z",
     "iopub.status.idle": "2022-01-17T02:08:39.641522Z",
     "shell.execute_reply": "2022-01-17T02:08:39.641970Z"
    },
    "papermill": {
     "duration": 0.047128,
     "end_time": "2022-01-17T02:08:39.642121",
     "exception": false,
     "start_time": "2022-01-17T02:08:39.594993",
     "status": "completed"
    },
    "tags": []
   },
   "outputs": [],
   "source": [
    "#hide_input\n",
    "sum_corr = df_all.corr().sum().sort_values(ascending=True).index.values\n",
    "#df_all[sum_corr].corr()"
   ]
  },
  {
   "cell_type": "markdown",
   "id": "complex-syndicate",
   "metadata": {
    "papermill": {
     "duration": 0.011169,
     "end_time": "2022-01-17T02:08:39.665298",
     "exception": false,
     "start_time": "2022-01-17T02:08:39.654129",
     "status": "completed"
    },
    "tags": []
   },
   "source": [
    "## Išplėstinė koreliacijų matrica. "
   ]
  },
  {
   "cell_type": "code",
   "execution_count": 7,
   "id": "atomic-omaha",
   "metadata": {
    "execution": {
     "iopub.execute_input": "2022-01-17T02:08:39.705610Z",
     "iopub.status.busy": "2022-01-17T02:08:39.699905Z",
     "iopub.status.idle": "2022-01-17T02:08:40.936559Z",
     "shell.execute_reply": "2022-01-17T02:08:40.936999Z"
    },
    "papermill": {
     "duration": 1.260629,
     "end_time": "2022-01-17T02:08:40.937145",
     "exception": false,
     "start_time": "2022-01-17T02:08:39.676516",
     "status": "completed"
    },
    "tags": []
   },
   "outputs": [
    {
     "data": {
      "image/png": "[encoded data removed]",
      "text/plain": [
       "<Figure size 1080x792 with 2 Axes>"
      ]
     },
     "metadata": {
      "needs_background": "light"
     },
     "output_type": "display_data"
    }
   ],
   "source": [
    "#hide_input\n",
    "plt.figure(figsize=(15, 11))\n",
    "sns.heatmap(df_all[sum_corr].corr(), annot=True, cmap=\"cubehelix\") \n",
    "sns.set(font_scale=1.25)\n",
    "plt.savefig('corr_matrix.png', format='eps')"
   ]
  },
  {
   "cell_type": "code",
   "execution_count": 8,
   "id": "arbitrary-sullivan",
   "metadata": {
    "execution": {
     "iopub.execute_input": "2022-01-17T02:08:40.969523Z",
     "iopub.status.busy": "2022-01-17T02:08:40.967550Z",
     "iopub.status.idle": "2022-01-17T02:08:40.992191Z",
     "shell.execute_reply": "2022-01-17T02:08:40.992632Z"
    },
    "papermill": {
     "duration": 0.042095,
     "end_time": "2022-01-17T02:08:40.992801",
     "exception": false,
     "start_time": "2022-01-17T02:08:40.950706",
     "status": "completed"
    },
    "tags": []
   },
   "outputs": [],
   "source": [
    "#hide\n",
    "#df_all_mrk = read_api()"
   ]
  },
  {
   "cell_type": "code",
   "execution_count": 9,
   "id": "delayed-adapter",
   "metadata": {
    "execution": {
     "iopub.execute_input": "2022-01-17T02:08:41.025983Z",
     "iopub.status.busy": "2022-01-17T02:08:41.025476Z",
     "iopub.status.idle": "2022-01-17T02:08:41.048410Z",
     "shell.execute_reply": "2022-01-17T02:08:41.048827Z"
    },
    "papermill": {
     "duration": 0.042465,
     "end_time": "2022-01-17T02:08:41.048957",
     "exception": false,
     "start_time": "2022-01-17T02:08:41.006492",
     "status": "completed"
    },
    "tags": []
   },
   "outputs": [],
   "source": [
    "#hide\n",
    "#Koreliacijų koeficientai"
   ]
  },
  {
   "cell_type": "code",
   "execution_count": 10,
   "id": "seeing-celebration",
   "metadata": {
    "execution": {
     "iopub.execute_input": "2022-01-17T02:08:41.081738Z",
     "iopub.status.busy": "2022-01-17T02:08:41.081235Z",
     "iopub.status.idle": "2022-01-17T02:08:41.103650Z",
     "shell.execute_reply": "2022-01-17T02:08:41.103098Z"
    },
    "papermill": {
     "duration": 0.041401,
     "end_time": "2022-01-17T02:08:41.103769",
     "exception": false,
     "start_time": "2022-01-17T02:08:41.062368",
     "status": "completed"
    },
    "tags": []
   },
   "outputs": [],
   "source": [
    "#hide_input\n",
    "#sum_corr = df_all_mrk.corr().sum().sort_values(ascending=True).index.values\n",
    "#df_all_mrk[sum_corr].corr()"
   ]
  },
  {
   "cell_type": "code",
   "execution_count": 11,
   "id": "other-painting",
   "metadata": {
    "execution": {
     "iopub.execute_input": "2022-01-17T02:08:41.137995Z",
     "iopub.status.busy": "2022-01-17T02:08:41.137492Z",
     "iopub.status.idle": "2022-01-17T02:08:41.158760Z",
     "shell.execute_reply": "2022-01-17T02:08:41.159143Z"
    },
    "papermill": {
     "duration": 0.041729,
     "end_time": "2022-01-17T02:08:41.159264",
     "exception": false,
     "start_time": "2022-01-17T02:08:41.117535",
     "status": "completed"
    },
    "tags": []
   },
   "outputs": [],
   "source": [
    "#hide\n",
    "#Koreliacijos matrica. "
   ]
  },
  {
   "cell_type": "code",
   "execution_count": 12,
   "id": "modular-magnitude",
   "metadata": {
    "execution": {
     "iopub.execute_input": "2022-01-17T02:08:41.191263Z",
     "iopub.status.busy": "2022-01-17T02:08:41.190758Z",
     "iopub.status.idle": "2022-01-17T02:08:41.213685Z",
     "shell.execute_reply": "2022-01-17T02:08:41.213189Z"
    },
    "papermill": {
     "duration": 0.041369,
     "end_time": "2022-01-17T02:08:41.213800",
     "exception": false,
     "start_time": "2022-01-17T02:08:41.172431",
     "status": "completed"
    },
    "tags": []
   },
   "outputs": [],
   "source": [
    "#hide_input\n",
    "#plt.figure(figsize=(15, 8))\n",
    "#sns.heatmap(df_all_mrk[sum_corr].corr(), annot=True, cmap=\"BrBG\");\n",
    "#plt.savefig('corr_matrix_all.eps', format='eps')"
   ]
  },
  {
   "cell_type": "code",
   "execution_count": null,
   "id": "original-senator",
   "metadata": {
    "papermill": {
     "duration": 0.012995,
     "end_time": "2022-01-17T02:08:41.241505",
     "exception": false,
     "start_time": "2022-01-17T02:08:41.228510",
     "status": "completed"
    },
    "tags": []
   },
   "outputs": [],
   "source": []
  },
  {
   "cell_type": "code",
   "execution_count": null,
   "id": "saving-secretariat",
   "metadata": {
    "papermill": {
     "duration": 0.013074,
     "end_time": "2022-01-17T02:08:41.267676",
     "exception": false,
     "start_time": "2022-01-17T02:08:41.254602",
     "status": "completed"
    },
    "tags": []
   },
   "outputs": [],
   "source": []
  }
 ],
 "metadata": {
  "kernelspec": {
   "display_name": "Python 3",
   "language": "python",
   "name": "python3"
  },
  "language_info": {
   "codemirror_mode": {
    "name": "ipython",
    "version": 3
   },
   "file_extension": ".py",
   "mimetype": "text/x-python",
   "name": "python",
   "nbconvert_exporter": "python",
   "pygments_lexer": "ipython3",
   "version": "3.6.15"
  },
  "papermill": {
   "default_parameters": {},
   "duration": 15.635173,
   "end_time": "2022-01-17T02:08:41.799774",
   "environment_variables": {},
   "exception": null,
   "input_path": "App-Correlation_charts.ipynb",
   "output_path": "App-Correlation_charts.ipynb",
   "parameters": {},
   "start_time": "2022-01-17T02:08:26.164601",
   "version": "2.2.2"
  }
 },
 "nbformat": 4,
 "nbformat_minor": 5
}