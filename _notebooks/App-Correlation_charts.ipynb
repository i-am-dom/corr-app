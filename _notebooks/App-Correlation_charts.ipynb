{
 "cells": [
  {
   "cell_type": "markdown",
   "id": "touched-facility",
   "metadata": {
    "papermill": {
     "duration": 0.014221,
     "end_time": "2022-03-31T02:32:26.419185",
     "exception": false,
     "start_time": "2022-03-31T02:32:26.404964",
     "status": "completed"
    },
    "tags": []
   },
   "source": [
    "# Koreliacijų matrica\n",
    "> Išplėstinė koreliacijų matrica. \n",
    "\n",
    "- toc: true \n",
    "- badges: true\n",
    "- comments: false\n",
    "- categories: [Dominykas Tautkus]\n",
    "- image: images/matrix.png"
   ]
  },
  {
   "cell_type": "code",
   "execution_count": null,
   "id": "premium-weekend",
   "metadata": {
    "papermill": {
     "duration": 0.010781,
     "end_time": "2022-03-31T02:32:26.441449",
     "exception": false,
     "start_time": "2022-03-31T02:32:26.430668",
     "status": "completed"
    },
    "tags": []
   },
   "outputs": [],
   "source": []
  },
  {
   "cell_type": "code",
   "execution_count": 1,
   "id": "vertical-rebate",
   "metadata": {
    "execution": {
     "iopub.execute_input": "2022-03-31T02:32:26.473647Z",
     "iopub.status.busy": "2022-03-31T02:32:26.473094Z",
     "iopub.status.idle": "2022-03-31T02:32:26.482704Z",
     "shell.execute_reply": "2022-03-31T02:32:26.483142Z"
    },
    "papermill": {
     "duration": 0.031125,
     "end_time": "2022-03-31T02:32:26.483294",
     "exception": false,
     "start_time": "2022-03-31T02:32:26.452169",
     "status": "completed"
    },
    "tags": []
   },
   "outputs": [],
   "source": [
    "#hide\n",
    "%load_ext autoreload\n",
    "%autoreload 2"
   ]
  },
  {
   "cell_type": "code",
   "execution_count": 2,
   "id": "overall-advancement",
   "metadata": {
    "execution": {
     "iopub.execute_input": "2022-03-31T02:32:26.508397Z",
     "iopub.status.busy": "2022-03-31T02:32:26.507880Z",
     "iopub.status.idle": "2022-03-31T02:32:27.612542Z",
     "shell.execute_reply": "2022-03-31T02:32:27.612020Z"
    },
    "papermill": {
     "duration": 1.11862,
     "end_time": "2022-03-31T02:32:27.612675",
     "exception": false,
     "start_time": "2022-03-31T02:32:26.494055",
     "status": "completed"
    },
    "tags": []
   },
   "outputs": [],
   "source": [
    "#hide\n",
    "from scripts.read_data import read_api\n",
    "from IPython.display import HTML\n",
    "import plotly.graph_objects as go\n"
   ]
  },
  {
   "cell_type": "code",
   "execution_count": 3,
   "id": "light-crazy",
   "metadata": {
    "execution": {
     "iopub.execute_input": "2022-03-31T02:32:27.648107Z",
     "iopub.status.busy": "2022-03-31T02:32:27.640265Z",
     "iopub.status.idle": "2022-03-31T02:32:27.665343Z",
     "shell.execute_reply": "2022-03-31T02:32:27.664534Z"
    },
    "papermill": {
     "duration": 0.041404,
     "end_time": "2022-03-31T02:32:27.665488",
     "exception": false,
     "start_time": "2022-03-31T02:32:27.624084",
     "status": "completed"
    },
    "tags": []
   },
   "outputs": [],
   "source": [
    "#hide\n",
    "### ICO koreliacija"
   ]
  },
  {
   "cell_type": "code",
   "execution_count": 4,
   "id": "likely-bahrain",
   "metadata": {
    "execution": {
     "iopub.execute_input": "2022-03-31T02:32:27.695136Z",
     "iopub.status.busy": "2022-03-31T02:32:27.690694Z",
     "iopub.status.idle": "2022-03-31T02:32:28.562074Z",
     "shell.execute_reply": "2022-03-31T02:32:28.561524Z"
    },
    "papermill": {
     "duration": 0.885844,
     "end_time": "2022-03-31T02:32:28.562218",
     "exception": false,
     "start_time": "2022-03-31T02:32:27.676374",
     "status": "completed"
    },
    "tags": []
   },
   "outputs": [],
   "source": [
    "#hide\n",
    "import matplotlib.pyplot as plt\n",
    "import numpy as np\n",
    "import pandas as pd\n",
    "import seaborn as sns\n",
    "import matplotlib.pyplot as plt \n",
    "import matplotlib.dates as mdates\n",
    "import matplotlib.pyplot as plt"
   ]
  },
  {
   "cell_type": "code",
   "execution_count": 5,
   "id": "superior-blanket",
   "metadata": {
    "execution": {
     "iopub.execute_input": "2022-03-31T02:32:28.590293Z",
     "iopub.status.busy": "2022-03-31T02:32:28.589650Z",
     "iopub.status.idle": "2022-03-31T02:32:39.833386Z",
     "shell.execute_reply": "2022-03-31T02:32:39.832902Z"
    },
    "papermill": {
     "duration": 11.258968,
     "end_time": "2022-03-31T02:32:39.833505",
     "exception": false,
     "start_time": "2022-03-31T02:32:28.574537",
     "status": "completed"
    },
    "tags": []
   },
   "outputs": [
    {
     "name": "stderr",
     "output_type": "stream",
     "text": [
      "/home/runner/work/corr-app/corr-app/_notebooks/scripts/read_data.py:187: SettingWithCopyWarning:\n",
      "\n",
      "\n",
      "A value is trying to be set on a copy of a slice from a DataFrame.\n",
      "Try using .loc[row_indexer,col_indexer] = value instead\n",
      "\n",
      "See the caveats in the documentation: https://pandas.pydata.org/pandas-docs/stable/user_guide/indexing.html#returning-a-view-versus-a-copy\n",
      "\n"
     ]
    },
    {
     "name": "stderr",
     "output_type": "stream",
     "text": [
      "/home/runner/work/corr-app/corr-app/_notebooks/scripts/read_data.py:215: SettingWithCopyWarning:\n",
      "\n",
      "\n",
      "A value is trying to be set on a copy of a slice from a DataFrame.\n",
      "Try using .loc[row_indexer,col_indexer] = value instead\n",
      "\n",
      "See the caveats in the documentation: https://pandas.pydata.org/pandas-docs/stable/user_guide/indexing.html#returning-a-view-versus-a-copy\n",
      "\n"
     ]
    }
   ],
   "source": [
    "#hide\n",
    "df_all = read_api()\n",
    "#df_all = df_all.drop(['SP500', 'XAU', 'ETH', 'BTC'], axis=1)\n",
    "\n"
   ]
  },
  {
   "cell_type": "code",
   "execution_count": 6,
   "id": "mature-alert",
   "metadata": {
    "execution": {
     "iopub.execute_input": "2022-03-31T02:32:39.867686Z",
     "iopub.status.busy": "2022-03-31T02:32:39.861309Z",
     "iopub.status.idle": "2022-03-31T02:32:39.892718Z",
     "shell.execute_reply": "2022-03-31T02:32:39.892207Z"
    },
    "papermill": {
     "duration": 0.047618,
     "end_time": "2022-03-31T02:32:39.892851",
     "exception": false,
     "start_time": "2022-03-31T02:32:39.845233",
     "status": "completed"
    },
    "tags": []
   },
   "outputs": [],
   "source": [
    "#hide_input\n",
    "sum_corr = df_all.corr().sum().sort_values(ascending=True).index.values\n",
    "#df_all[sum_corr].corr()"
   ]
  },
  {
   "cell_type": "markdown",
   "id": "complex-syndicate",
   "metadata": {
    "papermill": {
     "duration": 0.011266,
     "end_time": "2022-03-31T02:32:39.916457",
     "exception": false,
     "start_time": "2022-03-31T02:32:39.905191",
     "status": "completed"
    },
    "tags": []
   },
   "source": [
    "## Išplėstinė koreliacijų matrica. "
   ]
  },
  {
   "cell_type": "code",
   "execution_count": 7,
   "id": "atomic-omaha",
   "metadata": {
    "execution": {
     "iopub.execute_input": "2022-03-31T02:32:39.954499Z",
     "iopub.status.busy": "2022-03-31T02:32:39.942943Z",
     "iopub.status.idle": "2022-03-31T02:32:41.176856Z",
     "shell.execute_reply": "2022-03-31T02:32:41.176417Z"
    },
    "papermill": {
     "duration": 1.249316,
     "end_time": "2022-03-31T02:32:41.176976",
     "exception": false,
     "start_time": "2022-03-31T02:32:39.927660",
     "status": "completed"
    },
    "tags": []
   },
   "outputs": [
    {
     "data": {
      "image/png": "[encoded data removed]",
      "text/plain": [
       "<Figure size 1080x792 with 2 Axes>"
      ]
     },
     "metadata": {
      "needs_background": "light"
     },
     "output_type": "display_data"
    }
   ],
   "source": [
    "#hide_input\n",
    "plt.figure(figsize=(15, 11))\n",
    "sns.heatmap(df_all[sum_corr].corr(), annot=True, cmap=\"cubehelix\") \n",
    "sns.set(font_scale=1.25)\n",
    "plt.savefig('corr_matrix.png', format='eps')"
   ]
  },
  {
   "cell_type": "code",
   "execution_count": 8,
   "id": "arbitrary-sullivan",
   "metadata": {
    "execution": {
     "iopub.execute_input": "2022-03-31T02:32:41.210075Z",
     "iopub.status.busy": "2022-03-31T02:32:41.208425Z",
     "iopub.status.idle": "2022-03-31T02:32:41.238462Z",
     "shell.execute_reply": "2022-03-31T02:32:41.238028Z"
    },
    "papermill": {
     "duration": 0.04772,
     "end_time": "2022-03-31T02:32:41.238581",
     "exception": false,
     "start_time": "2022-03-31T02:32:41.190861",
     "status": "completed"
    },
    "tags": []
   },
   "outputs": [],
   "source": [
    "#hide\n",
    "#df_all_mrk = read_api()"
   ]
  },
  {
   "cell_type": "code",
   "execution_count": 9,
   "id": "delayed-adapter",
   "metadata": {
    "execution": {
     "iopub.execute_input": "2022-03-31T02:32:41.270415Z",
     "iopub.status.busy": "2022-03-31T02:32:41.269883Z",
     "iopub.status.idle": "2022-03-31T02:32:41.295982Z",
     "shell.execute_reply": "2022-03-31T02:32:41.295492Z"
    },
    "papermill": {
     "duration": 0.043357,
     "end_time": "2022-03-31T02:32:41.296112",
     "exception": false,
     "start_time": "2022-03-31T02:32:41.252755",
     "status": "completed"
    },
    "tags": []
   },
   "outputs": [],
   "source": [
    "#hide\n",
    "#Koreliacijų koeficientai"
   ]
  },
  {
   "cell_type": "code",
   "execution_count": 10,
   "id": "seeing-celebration",
   "metadata": {
    "execution": {
     "iopub.execute_input": "2022-03-31T02:32:41.330504Z",
     "iopub.status.busy": "2022-03-31T02:32:41.328668Z",
     "iopub.status.idle": "2022-03-31T02:32:41.355930Z",
     "shell.execute_reply": "2022-03-31T02:32:41.356374Z"
    },
    "papermill": {
     "duration": 0.044973,
     "end_time": "2022-03-31T02:32:41.356524",
     "exception": false,
     "start_time": "2022-03-31T02:32:41.311551",
     "status": "completed"
    },
    "tags": []
   },
   "outputs": [],
   "source": [
    "#hide_input\n",
    "#sum_corr = df_all_mrk.corr().sum().sort_values(ascending=True).index.values\n",
    "#df_all_mrk[sum_corr].corr()"
   ]
  },
  {
   "cell_type": "code",
   "execution_count": 11,
   "id": "other-painting",
   "metadata": {
    "execution": {
     "iopub.execute_input": "2022-03-31T02:32:41.394655Z",
     "iopub.status.busy": "2022-03-31T02:32:41.389681Z",
     "iopub.status.idle": "2022-03-31T02:32:41.415107Z",
     "shell.execute_reply": "2022-03-31T02:32:41.415525Z"
    },
    "papermill": {
     "duration": 0.042301,
     "end_time": "2022-03-31T02:32:41.415677",
     "exception": false,
     "start_time": "2022-03-31T02:32:41.373376",
     "status": "completed"
    },
    "tags": []
   },
   "outputs": [],
   "source": [
    "#hide\n",
    "#Koreliacijos matrica. "
   ]
  },
  {
   "cell_type": "code",
   "execution_count": 12,
   "id": "modular-magnitude",
   "metadata": {
    "execution": {
     "iopub.execute_input": "2022-03-31T02:32:41.447785Z",
     "iopub.status.busy": "2022-03-31T02:32:41.447273Z",
     "iopub.status.idle": "2022-03-31T02:32:41.471857Z",
     "shell.execute_reply": "2022-03-31T02:32:41.471348Z"
    },
    "papermill": {
     "duration": 0.04282,
     "end_time": "2022-03-31T02:32:41.471988",
     "exception": false,
     "start_time": "2022-03-31T02:32:41.429168",
     "status": "completed"
    },
    "tags": []
   },
   "outputs": [],
   "source": [
    "#hide_input\n",
    "#plt.figure(figsize=(15, 8))\n",
    "#sns.heatmap(df_all_mrk[sum_corr].corr(), annot=True, cmap=\"BrBG\");\n",
    "#plt.savefig('corr_matrix_all.eps', format='eps')"
   ]
  },
  {
   "cell_type": "code",
   "execution_count": null,
   "id": "original-senator",
   "metadata": {
    "papermill": {
     "duration": 0.013258,
     "end_time": "2022-03-31T02:32:41.499237",
     "exception": false,
     "start_time": "2022-03-31T02:32:41.485979",
     "status": "completed"
    },
    "tags": []
   },
   "outputs": [],
   "source": []
  },
  {
   "cell_type": "code",
   "execution_count": null,
   "id": "saving-secretariat",
   "metadata": {
    "papermill": {
     "duration": 0.013236,
     "end_time": "2022-03-31T02:32:41.525698",
     "exception": false,
     "start_time": "2022-03-31T02:32:41.512462",
     "status": "completed"
    },
    "tags": []
   },
   "outputs": [],
   "source": []
  }
 ],
 "metadata": {
  "kernelspec": {
   "display_name": "Python 3",
   "language": "python",
   "name": "python3"
  },
  "language_info": {
   "codemirror_mode": {
    "name": "ipython",
    "version": 3
   },
   "file_extension": ".py",
   "mimetype": "text/x-python",
   "name": "python",
   "nbconvert_exporter": "python",
   "pygments_lexer": "ipython3",
   "version": "3.6.15"
  },
  "papermill": {
   "default_parameters": {},
   "duration": 16.59695,
   "end_time": "2022-03-31T02:32:42.057521",
   "environment_variables": {},
   "exception": null,
   "input_path": "App-Correlation_charts.ipynb",
   "output_path": "App-Correlation_charts.ipynb",
   "parameters": {},
   "start_time": "2022-03-31T02:32:25.460571",
   "version": "2.2.2"
  }
 },
 "nbformat": 4,
 "nbformat_minor": 5
}