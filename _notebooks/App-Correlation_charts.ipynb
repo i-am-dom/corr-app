{
 "cells": [
  {
   "cell_type": "markdown",
   "id": "touched-facility",
   "metadata": {
    "papermill": {
     "duration": 0.018364,
     "end_time": "2022-11-22T02:50:23.498622",
     "exception": false,
     "start_time": "2022-11-22T02:50:23.480258",
     "status": "completed"
    },
    "tags": []
   },
   "source": [
    "# Koreliacijų matrica\n",
    "> Išplėstinė koreliacijų matrica. \n",
    "\n",
    "- toc: true \n",
    "- badges: true\n",
    "- comments: false\n",
    "- categories: [Dominykas Tautkus]\n",
    "- image: images/matrix.png"
   ]
  },
  {
   "cell_type": "code",
   "execution_count": null,
   "id": "premium-weekend",
   "metadata": {
    "papermill": {
     "duration": 0.012751,
     "end_time": "2022-11-22T02:50:23.524491",
     "exception": false,
     "start_time": "2022-11-22T02:50:23.511740",
     "status": "completed"
    },
    "tags": []
   },
   "outputs": [],
   "source": []
  },
  {
   "cell_type": "code",
   "execution_count": 1,
   "id": "vertical-rebate",
   "metadata": {
    "execution": {
     "iopub.execute_input": "2022-11-22T02:50:23.559177Z",
     "iopub.status.busy": "2022-11-22T02:50:23.558449Z",
     "iopub.status.idle": "2022-11-22T02:50:23.574681Z",
     "shell.execute_reply": "2022-11-22T02:50:23.574055Z"
    },
    "papermill": {
     "duration": 0.037333,
     "end_time": "2022-11-22T02:50:23.574839",
     "exception": false,
     "start_time": "2022-11-22T02:50:23.537506",
     "status": "completed"
    },
    "tags": []
   },
   "outputs": [],
   "source": [
    "#hide\n",
    "%load_ext autoreload\n",
    "%autoreload 2"
   ]
  },
  {
   "cell_type": "code",
   "execution_count": 2,
   "id": "overall-advancement",
   "metadata": {
    "execution": {
     "iopub.execute_input": "2022-11-22T02:50:23.604874Z",
     "iopub.status.busy": "2022-11-22T02:50:23.604203Z",
     "iopub.status.idle": "2022-11-22T02:50:25.258037Z",
     "shell.execute_reply": "2022-11-22T02:50:25.257374Z"
    },
    "papermill": {
     "duration": 1.670174,
     "end_time": "2022-11-22T02:50:25.258185",
     "exception": false,
     "start_time": "2022-11-22T02:50:23.588011",
     "status": "completed"
    },
    "tags": []
   },
   "outputs": [],
   "source": [
    "#hide\n",
    "from scripts.read_data import read_api\n",
    "from IPython.display import HTML\n",
    "import plotly.graph_objects as go\n"
   ]
  },
  {
   "cell_type": "code",
   "execution_count": 3,
   "id": "light-crazy",
   "metadata": {
    "execution": {
     "iopub.execute_input": "2022-11-22T02:50:25.296983Z",
     "iopub.status.busy": "2022-11-22T02:50:25.296270Z",
     "iopub.status.idle": "2022-11-22T02:50:25.322488Z",
     "shell.execute_reply": "2022-11-22T02:50:25.323051Z"
    },
    "papermill": {
     "duration": 0.049213,
     "end_time": "2022-11-22T02:50:25.323215",
     "exception": false,
     "start_time": "2022-11-22T02:50:25.274002",
     "status": "completed"
    },
    "tags": []
   },
   "outputs": [],
   "source": [
    "#hide\n",
    "### ICO koreliacija"
   ]
  },
  {
   "cell_type": "code",
   "execution_count": 4,
   "id": "likely-bahrain",
   "metadata": {
    "execution": {
     "iopub.execute_input": "2022-11-22T02:50:25.364319Z",
     "iopub.status.busy": "2022-11-22T02:50:25.363614Z",
     "iopub.status.idle": "2022-11-22T02:50:26.368576Z",
     "shell.execute_reply": "2022-11-22T02:50:26.369080Z"
    },
    "papermill": {
     "duration": 1.031759,
     "end_time": "2022-11-22T02:50:26.369232",
     "exception": false,
     "start_time": "2022-11-22T02:50:25.337473",
     "status": "completed"
    },
    "tags": []
   },
   "outputs": [],
   "source": [
    "#hide\n",
    "import matplotlib.pyplot as plt\n",
    "import numpy as np\n",
    "import pandas as pd\n",
    "import seaborn as sns\n",
    "import matplotlib.pyplot as plt \n",
    "import matplotlib.dates as mdates\n",
    "import matplotlib.pyplot as plt"
   ]
  },
  {
   "cell_type": "code",
   "execution_count": 5,
   "id": "superior-blanket",
   "metadata": {
    "execution": {
     "iopub.execute_input": "2022-11-22T02:50:26.401204Z",
     "iopub.status.busy": "2022-11-22T02:50:26.400504Z",
     "iopub.status.idle": "2022-11-22T02:50:40.174647Z",
     "shell.execute_reply": "2022-11-22T02:50:40.174059Z"
    },
    "papermill": {
     "duration": 13.792049,
     "end_time": "2022-11-22T02:50:40.174782",
     "exception": false,
     "start_time": "2022-11-22T02:50:26.382733",
     "status": "completed"
    },
    "tags": []
   },
   "outputs": [
    {
     "name": "stderr",
     "output_type": "stream",
     "text": [
      "/home/runner/work/corr-app/corr-app/_notebooks/scripts/read_data.py:187: SettingWithCopyWarning:\n",
      "\n",
      "\n",
      "A value is trying to be set on a copy of a slice from a DataFrame.\n",
      "Try using .loc[row_indexer,col_indexer] = value instead\n",
      "\n",
      "See the caveats in the documentation: https://pandas.pydata.org/pandas-docs/stable/user_guide/indexing.html#returning-a-view-versus-a-copy\n",
      "\n"
     ]
    },
    {
     "name": "stderr",
     "output_type": "stream",
     "text": [
      "/home/runner/work/corr-app/corr-app/_notebooks/scripts/read_data.py:215: SettingWithCopyWarning:\n",
      "\n",
      "\n",
      "A value is trying to be set on a copy of a slice from a DataFrame.\n",
      "Try using .loc[row_indexer,col_indexer] = value instead\n",
      "\n",
      "See the caveats in the documentation: https://pandas.pydata.org/pandas-docs/stable/user_guide/indexing.html#returning-a-view-versus-a-copy\n",
      "\n"
     ]
    }
   ],
   "source": [
    "#hide\n",
    "df_all = read_api()\n",
    "#df_all = df_all.drop(['SP500', 'XAU', 'ETH', 'BTC'], axis=1)\n",
    "\n"
   ]
  },
  {
   "cell_type": "code",
   "execution_count": 6,
   "id": "mature-alert",
   "metadata": {
    "execution": {
     "iopub.execute_input": "2022-11-22T02:50:40.211269Z",
     "iopub.status.busy": "2022-11-22T02:50:40.210439Z",
     "iopub.status.idle": "2022-11-22T02:50:40.247634Z",
     "shell.execute_reply": "2022-11-22T02:50:40.246838Z"
    },
    "papermill": {
     "duration": 0.057096,
     "end_time": "2022-11-22T02:50:40.247759",
     "exception": false,
     "start_time": "2022-11-22T02:50:40.190663",
     "status": "completed"
    },
    "tags": []
   },
   "outputs": [],
   "source": [
    "#hide_input\n",
    "sum_corr = df_all.corr().sum().sort_values(ascending=True).index.values\n",
    "#df_all[sum_corr].corr()"
   ]
  },
  {
   "cell_type": "markdown",
   "id": "complex-syndicate",
   "metadata": {
    "papermill": {
     "duration": 0.012873,
     "end_time": "2022-11-22T02:50:40.274248",
     "exception": false,
     "start_time": "2022-11-22T02:50:40.261375",
     "status": "completed"
    },
    "tags": []
   },
   "source": [
    "## Išplėstinė koreliacijų matrica. "
   ]
  },
  {
   "cell_type": "code",
   "execution_count": 7,
   "id": "atomic-omaha",
   "metadata": {
    "execution": {
     "iopub.execute_input": "2022-11-22T02:50:40.309950Z",
     "iopub.status.busy": "2022-11-22T02:50:40.309186Z",
     "iopub.status.idle": "2022-11-22T02:50:41.921936Z",
     "shell.execute_reply": "2022-11-22T02:50:41.921232Z"
    },
    "papermill": {
     "duration": 1.634494,
     "end_time": "2022-11-22T02:50:41.922079",
     "exception": false,
     "start_time": "2022-11-22T02:50:40.287585",
     "status": "completed"
    },
    "tags": []
   },
   "outputs": [
    {
     "data": {
      "image/png": "[encoded data removed]",
      "text/plain": [
       "<Figure size 1080x792 with 2 Axes>"
      ]
     },
     "metadata": {
      "needs_background": "light"
     },
     "output_type": "display_data"
    }
   ],
   "source": [
    "#hide_input\n",
    "plt.figure(figsize=(15, 11))\n",
    "sns.heatmap(df_all[sum_corr].corr(), annot=True, cmap=\"cubehelix\") \n",
    "sns.set(font_scale=1.25)\n",
    "plt.savefig('corr_matrix.png', format='eps')"
   ]
  },
  {
   "cell_type": "code",
   "execution_count": 8,
   "id": "arbitrary-sullivan",
   "metadata": {
    "execution": {
     "iopub.execute_input": "2022-11-22T02:50:41.969083Z",
     "iopub.status.busy": "2022-11-22T02:50:41.968346Z",
     "iopub.status.idle": "2022-11-22T02:50:41.999888Z",
     "shell.execute_reply": "2022-11-22T02:50:41.999311Z"
    },
    "papermill": {
     "duration": 0.057591,
     "end_time": "2022-11-22T02:50:42.000020",
     "exception": false,
     "start_time": "2022-11-22T02:50:41.942429",
     "status": "completed"
    },
    "tags": []
   },
   "outputs": [],
   "source": [
    "#hide\n",
    "#df_all_mrk = read_api()"
   ]
  },
  {
   "cell_type": "code",
   "execution_count": 9,
   "id": "delayed-adapter",
   "metadata": {
    "execution": {
     "iopub.execute_input": "2022-11-22T02:50:42.038411Z",
     "iopub.status.busy": "2022-11-22T02:50:42.037686Z",
     "iopub.status.idle": "2022-11-22T02:50:42.077040Z",
     "shell.execute_reply": "2022-11-22T02:50:42.077725Z"
    },
    "papermill": {
     "duration": 0.060618,
     "end_time": "2022-11-22T02:50:42.077944",
     "exception": false,
     "start_time": "2022-11-22T02:50:42.017326",
     "status": "completed"
    },
    "tags": []
   },
   "outputs": [],
   "source": [
    "#hide\n",
    "#Koreliacijų koeficientai"
   ]
  },
  {
   "cell_type": "code",
   "execution_count": 10,
   "id": "seeing-celebration",
   "metadata": {
    "execution": {
     "iopub.execute_input": "2022-11-22T02:50:42.126802Z",
     "iopub.status.busy": "2022-11-22T02:50:42.125792Z",
     "iopub.status.idle": "2022-11-22T02:50:42.159195Z",
     "shell.execute_reply": "2022-11-22T02:50:42.158579Z"
    },
    "papermill": {
     "duration": 0.059464,
     "end_time": "2022-11-22T02:50:42.159344",
     "exception": false,
     "start_time": "2022-11-22T02:50:42.099880",
     "status": "completed"
    },
    "tags": []
   },
   "outputs": [],
   "source": [
    "#hide_input\n",
    "#sum_corr = df_all_mrk.corr().sum().sort_values(ascending=True).index.values\n",
    "#df_all_mrk[sum_corr].corr()"
   ]
  },
  {
   "cell_type": "code",
   "execution_count": 11,
   "id": "other-painting",
   "metadata": {
    "execution": {
     "iopub.execute_input": "2022-11-22T02:50:42.197651Z",
     "iopub.status.busy": "2022-11-22T02:50:42.197000Z",
     "iopub.status.idle": "2022-11-22T02:50:42.230654Z",
     "shell.execute_reply": "2022-11-22T02:50:42.230059Z"
    },
    "papermill": {
     "duration": 0.053741,
     "end_time": "2022-11-22T02:50:42.230792",
     "exception": false,
     "start_time": "2022-11-22T02:50:42.177051",
     "status": "completed"
    },
    "tags": []
   },
   "outputs": [],
   "source": [
    "#hide\n",
    "#Koreliacijos matrica. "
   ]
  },
  {
   "cell_type": "code",
   "execution_count": 12,
   "id": "modular-magnitude",
   "metadata": {
    "execution": {
     "iopub.execute_input": "2022-11-22T02:50:42.266423Z",
     "iopub.status.busy": "2022-11-22T02:50:42.265701Z",
     "iopub.status.idle": "2022-11-22T02:50:42.297074Z",
     "shell.execute_reply": "2022-11-22T02:50:42.296540Z"
    },
    "papermill": {
     "duration": 0.049971,
     "end_time": "2022-11-22T02:50:42.297203",
     "exception": false,
     "start_time": "2022-11-22T02:50:42.247232",
     "status": "completed"
    },
    "tags": []
   },
   "outputs": [],
   "source": [
    "#hide_input\n",
    "#plt.figure(figsize=(15, 8))\n",
    "#sns.heatmap(df_all_mrk[sum_corr].corr(), annot=True, cmap=\"BrBG\");\n",
    "#plt.savefig('corr_matrix_all.eps', format='eps')"
   ]
  },
  {
   "cell_type": "code",
   "execution_count": null,
   "id": "original-senator",
   "metadata": {
    "papermill": {
     "duration": 0.017321,
     "end_time": "2022-11-22T02:50:42.331976",
     "exception": false,
     "start_time": "2022-11-22T02:50:42.314655",
     "status": "completed"
    },
    "tags": []
   },
   "outputs": [],
   "source": []
  },
  {
   "cell_type": "code",
   "execution_count": null,
   "id": "saving-secretariat",
   "metadata": {
    "papermill": {
     "duration": 0.014413,
     "end_time": "2022-11-22T02:50:42.361890",
     "exception": false,
     "start_time": "2022-11-22T02:50:42.347477",
     "status": "completed"
    },
    "tags": []
   },
   "outputs": [],
   "source": []
  }
 ],
 "metadata": {
  "kernelspec": {
   "display_name": "Python 3",
   "language": "python",
   "name": "python3"
  },
  "language_info": {
   "codemirror_mode": {
    "name": "ipython",
    "version": 3
   },
   "file_extension": ".py",
   "mimetype": "text/x-python",
   "name": "python",
   "nbconvert_exporter": "python",
   "pygments_lexer": "ipython3",
   "version": "3.6.15"
  },
  "papermill": {
   "default_parameters": {},
   "duration": 20.846849,
   "end_time": "2022-11-22T02:50:43.012399",
   "environment_variables": {},
   "exception": null,
   "input_path": "App-Correlation_charts.ipynb",
   "output_path": "App-Correlation_charts.ipynb",
   "parameters": {},
   "start_time": "2022-11-22T02:50:22.165550",
   "version": "2.2.2"
  }
 },
 "nbformat": 4,
 "nbformat_minor": 5
}