{
 "cells": [
  {
   "cell_type": "markdown",
   "id": "touched-facility",
   "metadata": {
    "papermill": {
     "duration": 0.016338,
     "end_time": "2021-11-29T01:58:20.309027",
     "exception": false,
     "start_time": "2021-11-29T01:58:20.292689",
     "status": "completed"
    },
    "tags": []
   },
   "source": [
    "# Koreliacijų matrica\n",
    "> Išplėstinė koreliacijų matrica. \n",
    "\n",
    "- toc: true \n",
    "- badges: true\n",
    "- comments: false\n",
    "- categories: [Dominykas Tautkus]\n",
    "- image: images/matrix.png"
   ]
  },
  {
   "cell_type": "code",
   "execution_count": null,
   "id": "premium-weekend",
   "metadata": {
    "papermill": {
     "duration": 0.013202,
     "end_time": "2021-11-29T01:58:20.335863",
     "exception": false,
     "start_time": "2021-11-29T01:58:20.322661",
     "status": "completed"
    },
    "tags": []
   },
   "outputs": [],
   "source": []
  },
  {
   "cell_type": "code",
   "execution_count": 1,
   "id": "vertical-rebate",
   "metadata": {
    "execution": {
     "iopub.execute_input": "2021-11-29T01:58:20.373253Z",
     "iopub.status.busy": "2021-11-29T01:58:20.372486Z",
     "iopub.status.idle": "2021-11-29T01:58:20.385341Z",
     "shell.execute_reply": "2021-11-29T01:58:20.384777Z"
    },
    "papermill": {
     "duration": 0.036552,
     "end_time": "2021-11-29T01:58:20.385495",
     "exception": false,
     "start_time": "2021-11-29T01:58:20.348943",
     "status": "completed"
    },
    "tags": []
   },
   "outputs": [],
   "source": [
    "#hide\n",
    "%load_ext autoreload\n",
    "%autoreload 2"
   ]
  },
  {
   "cell_type": "code",
   "execution_count": 2,
   "id": "overall-advancement",
   "metadata": {
    "execution": {
     "iopub.execute_input": "2021-11-29T01:58:20.414783Z",
     "iopub.status.busy": "2021-11-29T01:58:20.414051Z",
     "iopub.status.idle": "2021-11-29T01:58:21.697098Z",
     "shell.execute_reply": "2021-11-29T01:58:21.696570Z"
    },
    "papermill": {
     "duration": 1.299422,
     "end_time": "2021-11-29T01:58:21.697236",
     "exception": false,
     "start_time": "2021-11-29T01:58:20.397814",
     "status": "completed"
    },
    "tags": []
   },
   "outputs": [],
   "source": [
    "#hide\n",
    "from scripts.read_data import read_api\n",
    "from IPython.display import HTML\n",
    "import plotly.graph_objects as go\n"
   ]
  },
  {
   "cell_type": "code",
   "execution_count": 3,
   "id": "light-crazy",
   "metadata": {
    "execution": {
     "iopub.execute_input": "2021-11-29T01:58:21.726736Z",
     "iopub.status.busy": "2021-11-29T01:58:21.726115Z",
     "iopub.status.idle": "2021-11-29T01:58:21.748575Z",
     "shell.execute_reply": "2021-11-29T01:58:21.749042Z"
    },
    "papermill": {
     "duration": 0.039055,
     "end_time": "2021-11-29T01:58:21.749167",
     "exception": false,
     "start_time": "2021-11-29T01:58:21.710112",
     "status": "completed"
    },
    "tags": []
   },
   "outputs": [],
   "source": [
    "#hide\n",
    "### ICO koreliacija"
   ]
  },
  {
   "cell_type": "code",
   "execution_count": 4,
   "id": "likely-bahrain",
   "metadata": {
    "execution": {
     "iopub.execute_input": "2021-11-29T01:58:21.779443Z",
     "iopub.status.busy": "2021-11-29T01:58:21.778859Z",
     "iopub.status.idle": "2021-11-29T01:58:22.791003Z",
     "shell.execute_reply": "2021-11-29T01:58:22.790374Z"
    },
    "papermill": {
     "duration": 1.030248,
     "end_time": "2021-11-29T01:58:22.791160",
     "exception": false,
     "start_time": "2021-11-29T01:58:21.760912",
     "status": "completed"
    },
    "tags": []
   },
   "outputs": [],
   "source": [
    "#hide\n",
    "import matplotlib.pyplot as plt\n",
    "import numpy as np\n",
    "import pandas as pd\n",
    "import seaborn as sns\n",
    "import matplotlib.pyplot as plt \n",
    "import matplotlib.dates as mdates\n",
    "import matplotlib.pyplot as plt"
   ]
  },
  {
   "cell_type": "code",
   "execution_count": 5,
   "id": "superior-blanket",
   "metadata": {
    "execution": {
     "iopub.execute_input": "2021-11-29T01:58:22.820479Z",
     "iopub.status.busy": "2021-11-29T01:58:22.819892Z",
     "iopub.status.idle": "2021-11-29T01:58:35.301125Z",
     "shell.execute_reply": "2021-11-29T01:58:35.301710Z"
    },
    "papermill": {
     "duration": 12.497436,
     "end_time": "2021-11-29T01:58:35.301873",
     "exception": false,
     "start_time": "2021-11-29T01:58:22.804437",
     "status": "completed"
    },
    "tags": []
   },
   "outputs": [
    {
     "name": "stderr",
     "output_type": "stream",
     "text": [
      "/home/runner/work/corr-app/corr-app/_notebooks/scripts/read_data.py:187: SettingWithCopyWarning:\n",
      "\n",
      "\n",
      "A value is trying to be set on a copy of a slice from a DataFrame.\n",
      "Try using .loc[row_indexer,col_indexer] = value instead\n",
      "\n",
      "See the caveats in the documentation: https://pandas.pydata.org/pandas-docs/stable/user_guide/indexing.html#returning-a-view-versus-a-copy\n",
      "\n"
     ]
    },
    {
     "name": "stderr",
     "output_type": "stream",
     "text": [
      "/home/runner/work/corr-app/corr-app/_notebooks/scripts/read_data.py:215: SettingWithCopyWarning:\n",
      "\n",
      "\n",
      "A value is trying to be set on a copy of a slice from a DataFrame.\n",
      "Try using .loc[row_indexer,col_indexer] = value instead\n",
      "\n",
      "See the caveats in the documentation: https://pandas.pydata.org/pandas-docs/stable/user_guide/indexing.html#returning-a-view-versus-a-copy\n",
      "\n"
     ]
    }
   ],
   "source": [
    "#hide\n",
    "df_all = read_api()\n",
    "#df_all = df_all.drop(['SP500', 'XAU', 'ETH', 'BTC'], axis=1)\n",
    "\n"
   ]
  },
  {
   "cell_type": "code",
   "execution_count": 6,
   "id": "mature-alert",
   "metadata": {
    "execution": {
     "iopub.execute_input": "2021-11-29T01:58:35.338438Z",
     "iopub.status.busy": "2021-11-29T01:58:35.337766Z",
     "iopub.status.idle": "2021-11-29T01:58:35.373500Z",
     "shell.execute_reply": "2021-11-29T01:58:35.372876Z"
    },
    "papermill": {
     "duration": 0.05677,
     "end_time": "2021-11-29T01:58:35.373690",
     "exception": false,
     "start_time": "2021-11-29T01:58:35.316920",
     "status": "completed"
    },
    "tags": []
   },
   "outputs": [],
   "source": [
    "#hide_input\n",
    "sum_corr = df_all.corr().sum().sort_values(ascending=True).index.values\n",
    "#df_all[sum_corr].corr()"
   ]
  },
  {
   "cell_type": "markdown",
   "id": "complex-syndicate",
   "metadata": {
    "papermill": {
     "duration": 0.014248,
     "end_time": "2021-11-29T01:58:35.405076",
     "exception": false,
     "start_time": "2021-11-29T01:58:35.390828",
     "status": "completed"
    },
    "tags": []
   },
   "source": [
    "## Išplėstinė koreliacijų matrica. "
   ]
  },
  {
   "cell_type": "code",
   "execution_count": 7,
   "id": "atomic-omaha",
   "metadata": {
    "execution": {
     "iopub.execute_input": "2021-11-29T01:58:35.440732Z",
     "iopub.status.busy": "2021-11-29T01:58:35.440119Z",
     "iopub.status.idle": "2021-11-29T01:58:37.184868Z",
     "shell.execute_reply": "2021-11-29T01:58:37.185405Z"
    },
    "papermill": {
     "duration": 1.766187,
     "end_time": "2021-11-29T01:58:37.185570",
     "exception": false,
     "start_time": "2021-11-29T01:58:35.419383",
     "status": "completed"
    },
    "tags": []
   },
   "outputs": [
    {
     "data": {
      "image/png": "[encoded data removed]",
      "text/plain": [
       "<Figure size 1080x792 with 2 Axes>"
      ]
     },
     "metadata": {
      "needs_background": "light"
     },
     "output_type": "display_data"
    }
   ],
   "source": [
    "#hide_input\n",
    "plt.figure(figsize=(15, 11))\n",
    "sns.heatmap(df_all[sum_corr].corr(), annot=True, cmap=\"cubehelix\") \n",
    "sns.set(font_scale=1.25)\n",
    "plt.savefig('corr_matrix.png', format='eps')"
   ]
  },
  {
   "cell_type": "code",
   "execution_count": 8,
   "id": "arbitrary-sullivan",
   "metadata": {
    "execution": {
     "iopub.execute_input": "2021-11-29T01:58:37.229634Z",
     "iopub.status.busy": "2021-11-29T01:58:37.226227Z",
     "iopub.status.idle": "2021-11-29T01:58:37.260215Z",
     "shell.execute_reply": "2021-11-29T01:58:37.259697Z"
    },
    "papermill": {
     "duration": 0.057407,
     "end_time": "2021-11-29T01:58:37.260335",
     "exception": false,
     "start_time": "2021-11-29T01:58:37.202928",
     "status": "completed"
    },
    "tags": []
   },
   "outputs": [],
   "source": [
    "#hide\n",
    "#df_all_mrk = read_api()"
   ]
  },
  {
   "cell_type": "code",
   "execution_count": 9,
   "id": "delayed-adapter",
   "metadata": {
    "execution": {
     "iopub.execute_input": "2021-11-29T01:58:37.310539Z",
     "iopub.status.busy": "2021-11-29T01:58:37.305897Z",
     "iopub.status.idle": "2021-11-29T01:58:37.331401Z",
     "shell.execute_reply": "2021-11-29T01:58:37.332322Z"
    },
    "papermill": {
     "duration": 0.055888,
     "end_time": "2021-11-29T01:58:37.332489",
     "exception": false,
     "start_time": "2021-11-29T01:58:37.276601",
     "status": "completed"
    },
    "tags": []
   },
   "outputs": [],
   "source": [
    "#hide\n",
    "#Koreliacijų koeficientai"
   ]
  },
  {
   "cell_type": "code",
   "execution_count": 10,
   "id": "seeing-celebration",
   "metadata": {
    "execution": {
     "iopub.execute_input": "2021-11-29T01:58:37.368655Z",
     "iopub.status.busy": "2021-11-29T01:58:37.367580Z",
     "iopub.status.idle": "2021-11-29T01:58:37.393432Z",
     "shell.execute_reply": "2021-11-29T01:58:37.394002Z"
    },
    "papermill": {
     "duration": 0.045382,
     "end_time": "2021-11-29T01:58:37.394152",
     "exception": false,
     "start_time": "2021-11-29T01:58:37.348770",
     "status": "completed"
    },
    "tags": []
   },
   "outputs": [],
   "source": [
    "#hide_input\n",
    "#sum_corr = df_all_mrk.corr().sum().sort_values(ascending=True).index.values\n",
    "#df_all_mrk[sum_corr].corr()"
   ]
  },
  {
   "cell_type": "code",
   "execution_count": 11,
   "id": "other-painting",
   "metadata": {
    "execution": {
     "iopub.execute_input": "2021-11-29T01:58:37.430521Z",
     "iopub.status.busy": "2021-11-29T01:58:37.428773Z",
     "iopub.status.idle": "2021-11-29T01:58:37.458085Z",
     "shell.execute_reply": "2021-11-29T01:58:37.457478Z"
    },
    "papermill": {
     "duration": 0.048011,
     "end_time": "2021-11-29T01:58:37.458210",
     "exception": false,
     "start_time": "2021-11-29T01:58:37.410199",
     "status": "completed"
    },
    "tags": []
   },
   "outputs": [],
   "source": [
    "#hide\n",
    "#Koreliacijos matrica. "
   ]
  },
  {
   "cell_type": "code",
   "execution_count": 12,
   "id": "modular-magnitude",
   "metadata": {
    "execution": {
     "iopub.execute_input": "2021-11-29T01:58:37.493038Z",
     "iopub.status.busy": "2021-11-29T01:58:37.492312Z",
     "iopub.status.idle": "2021-11-29T01:58:37.520727Z",
     "shell.execute_reply": "2021-11-29T01:58:37.519865Z"
    },
    "papermill": {
     "duration": 0.047009,
     "end_time": "2021-11-29T01:58:37.520844",
     "exception": false,
     "start_time": "2021-11-29T01:58:37.473835",
     "status": "completed"
    },
    "tags": []
   },
   "outputs": [],
   "source": [
    "#hide_input\n",
    "#plt.figure(figsize=(15, 8))\n",
    "#sns.heatmap(df_all_mrk[sum_corr].corr(), annot=True, cmap=\"BrBG\");\n",
    "#plt.savefig('corr_matrix_all.eps', format='eps')"
   ]
  },
  {
   "cell_type": "code",
   "execution_count": null,
   "id": "original-senator",
   "metadata": {
    "papermill": {
     "duration": 0.017532,
     "end_time": "2021-11-29T01:58:37.554278",
     "exception": false,
     "start_time": "2021-11-29T01:58:37.536746",
     "status": "completed"
    },
    "tags": []
   },
   "outputs": [],
   "source": []
  },
  {
   "cell_type": "code",
   "execution_count": null,
   "id": "saving-secretariat",
   "metadata": {
    "papermill": {
     "duration": 0.014834,
     "end_time": "2021-11-29T01:58:37.586354",
     "exception": false,
     "start_time": "2021-11-29T01:58:37.571520",
     "status": "completed"
    },
    "tags": []
   },
   "outputs": [],
   "source": []
  }
 ],
 "metadata": {
  "kernelspec": {
   "display_name": "Python 3",
   "language": "python",
   "name": "python3"
  },
  "language_info": {
   "codemirror_mode": {
    "name": "ipython",
    "version": 3
   },
   "file_extension": ".py",
   "mimetype": "text/x-python",
   "name": "python",
   "nbconvert_exporter": "python",
   "pygments_lexer": "ipython3",
   "version": "3.6.15"
  },
  "papermill": {
   "default_parameters": {},
   "duration": 18.968363,
   "end_time": "2021-11-29T01:58:38.113081",
   "environment_variables": {},
   "exception": null,
   "input_path": "App-Correlation_charts.ipynb",
   "output_path": "App-Correlation_charts.ipynb",
   "parameters": {},
   "start_time": "2021-11-29T01:58:19.144718",
   "version": "2.2.2"
  }
 },
 "nbformat": 4,
 "nbformat_minor": 5
}