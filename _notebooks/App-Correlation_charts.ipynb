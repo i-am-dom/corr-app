{
 "cells": [
  {
   "cell_type": "markdown",
   "id": "touched-facility",
   "metadata": {
    "papermill": {
     "duration": 0.016003,
     "end_time": "2021-09-17T02:04:37.392985",
     "exception": false,
     "start_time": "2021-09-17T02:04:37.376982",
     "status": "completed"
    },
    "tags": []
   },
   "source": [
    "# Koreliacijų matrica\n",
    "> Išplėstinė koreliacijų matrica. \n",
    "\n",
    "- toc: true \n",
    "- badges: true\n",
    "- comments: false\n",
    "- categories: [Dominykas Tautkus]\n",
    "- image: images/matrix.png"
   ]
  },
  {
   "cell_type": "code",
   "execution_count": null,
   "id": "premium-weekend",
   "metadata": {
    "papermill": {
     "duration": 0.011992,
     "end_time": "2021-09-17T02:04:37.417374",
     "exception": false,
     "start_time": "2021-09-17T02:04:37.405382",
     "status": "completed"
    },
    "tags": []
   },
   "outputs": [],
   "source": []
  },
  {
   "cell_type": "code",
   "execution_count": 1,
   "id": "vertical-rebate",
   "metadata": {
    "execution": {
     "iopub.execute_input": "2021-09-17T02:04:37.451908Z",
     "iopub.status.busy": "2021-09-17T02:04:37.451324Z",
     "iopub.status.idle": "2021-09-17T02:04:37.461175Z",
     "shell.execute_reply": "2021-09-17T02:04:37.461705Z"
    },
    "papermill": {
     "duration": 0.032726,
     "end_time": "2021-09-17T02:04:37.461846",
     "exception": false,
     "start_time": "2021-09-17T02:04:37.429120",
     "status": "completed"
    },
    "tags": []
   },
   "outputs": [],
   "source": [
    "#hide\n",
    "%load_ext autoreload\n",
    "%autoreload 2"
   ]
  },
  {
   "cell_type": "code",
   "execution_count": 2,
   "id": "overall-advancement",
   "metadata": {
    "execution": {
     "iopub.execute_input": "2021-09-17T02:04:37.489520Z",
     "iopub.status.busy": "2021-09-17T02:04:37.488889Z",
     "iopub.status.idle": "2021-09-17T02:04:38.993830Z",
     "shell.execute_reply": "2021-09-17T02:04:38.993325Z"
    },
    "papermill": {
     "duration": 1.520222,
     "end_time": "2021-09-17T02:04:38.993958",
     "exception": false,
     "start_time": "2021-09-17T02:04:37.473736",
     "status": "completed"
    },
    "tags": []
   },
   "outputs": [],
   "source": [
    "#hide\n",
    "from scripts.read_data import read_api\n",
    "from IPython.display import HTML\n",
    "import plotly.graph_objects as go\n"
   ]
  },
  {
   "cell_type": "code",
   "execution_count": 3,
   "id": "light-crazy",
   "metadata": {
    "execution": {
     "iopub.execute_input": "2021-09-17T02:04:39.026142Z",
     "iopub.status.busy": "2021-09-17T02:04:39.023833Z",
     "iopub.status.idle": "2021-09-17T02:04:39.045937Z",
     "shell.execute_reply": "2021-09-17T02:04:39.046380Z"
    },
    "papermill": {
     "duration": 0.040153,
     "end_time": "2021-09-17T02:04:39.046513",
     "exception": false,
     "start_time": "2021-09-17T02:04:39.006360",
     "status": "completed"
    },
    "tags": []
   },
   "outputs": [],
   "source": [
    "#hide\n",
    "### ICO koreliacija"
   ]
  },
  {
   "cell_type": "code",
   "execution_count": 4,
   "id": "likely-bahrain",
   "metadata": {
    "execution": {
     "iopub.execute_input": "2021-09-17T02:04:39.080130Z",
     "iopub.status.busy": "2021-09-17T02:04:39.078414Z",
     "iopub.status.idle": "2021-09-17T02:04:39.973118Z",
     "shell.execute_reply": "2021-09-17T02:04:39.972558Z"
    },
    "papermill": {
     "duration": 0.915125,
     "end_time": "2021-09-17T02:04:39.973254",
     "exception": false,
     "start_time": "2021-09-17T02:04:39.058129",
     "status": "completed"
    },
    "tags": []
   },
   "outputs": [],
   "source": [
    "#hide\n",
    "import matplotlib.pyplot as plt\n",
    "import numpy as np\n",
    "import pandas as pd\n",
    "import seaborn as sns\n",
    "import matplotlib.pyplot as plt \n",
    "import matplotlib.dates as mdates\n",
    "import matplotlib.pyplot as plt"
   ]
  },
  {
   "cell_type": "code",
   "execution_count": 5,
   "id": "superior-blanket",
   "metadata": {
    "execution": {
     "iopub.execute_input": "2021-09-17T02:04:40.004003Z",
     "iopub.status.busy": "2021-09-17T02:04:40.003384Z",
     "iopub.status.idle": "2021-09-17T02:04:53.549114Z",
     "shell.execute_reply": "2021-09-17T02:04:53.548533Z"
    },
    "papermill": {
     "duration": 13.563418,
     "end_time": "2021-09-17T02:04:53.549254",
     "exception": false,
     "start_time": "2021-09-17T02:04:39.985836",
     "status": "completed"
    },
    "tags": []
   },
   "outputs": [
    {
     "name": "stderr",
     "output_type": "stream",
     "text": [
      "/home/runner/work/corr-app/corr-app/_notebooks/scripts/read_data.py:187: SettingWithCopyWarning:\n",
      "\n",
      "\n",
      "A value is trying to be set on a copy of a slice from a DataFrame.\n",
      "Try using .loc[row_indexer,col_indexer] = value instead\n",
      "\n",
      "See the caveats in the documentation: https://pandas.pydata.org/pandas-docs/stable/user_guide/indexing.html#returning-a-view-versus-a-copy\n",
      "\n"
     ]
    },
    {
     "name": "stderr",
     "output_type": "stream",
     "text": [
      "/home/runner/work/corr-app/corr-app/_notebooks/scripts/read_data.py:215: SettingWithCopyWarning:\n",
      "\n",
      "\n",
      "A value is trying to be set on a copy of a slice from a DataFrame.\n",
      "Try using .loc[row_indexer,col_indexer] = value instead\n",
      "\n",
      "See the caveats in the documentation: https://pandas.pydata.org/pandas-docs/stable/user_guide/indexing.html#returning-a-view-versus-a-copy\n",
      "\n"
     ]
    }
   ],
   "source": [
    "#hide\n",
    "df_all = read_api()\n",
    "#df_all = df_all.drop(['SP500', 'XAU', 'ETH', 'BTC'], axis=1)\n",
    "\n"
   ]
  },
  {
   "cell_type": "code",
   "execution_count": 6,
   "id": "mature-alert",
   "metadata": {
    "execution": {
     "iopub.execute_input": "2021-09-17T02:04:53.582156Z",
     "iopub.status.busy": "2021-09-17T02:04:53.581507Z",
     "iopub.status.idle": "2021-09-17T02:04:53.613231Z",
     "shell.execute_reply": "2021-09-17T02:04:53.613755Z"
    },
    "papermill": {
     "duration": 0.050185,
     "end_time": "2021-09-17T02:04:53.613905",
     "exception": false,
     "start_time": "2021-09-17T02:04:53.563720",
     "status": "completed"
    },
    "tags": []
   },
   "outputs": [],
   "source": [
    "#hide_input\n",
    "sum_corr = df_all.corr().sum().sort_values(ascending=True).index.values\n",
    "#df_all[sum_corr].corr()"
   ]
  },
  {
   "cell_type": "markdown",
   "id": "complex-syndicate",
   "metadata": {
    "papermill": {
     "duration": 0.014233,
     "end_time": "2021-09-17T02:04:53.642365",
     "exception": false,
     "start_time": "2021-09-17T02:04:53.628132",
     "status": "completed"
    },
    "tags": []
   },
   "source": [
    "## Išplėstinė koreliacijų matrica. "
   ]
  },
  {
   "cell_type": "code",
   "execution_count": 7,
   "id": "atomic-omaha",
   "metadata": {
    "execution": {
     "iopub.execute_input": "2021-09-17T02:04:53.677487Z",
     "iopub.status.busy": "2021-09-17T02:04:53.676847Z",
     "iopub.status.idle": "2021-09-17T02:04:55.197693Z",
     "shell.execute_reply": "2021-09-17T02:04:55.198225Z"
    },
    "papermill": {
     "duration": 1.542143,
     "end_time": "2021-09-17T02:04:55.198382",
     "exception": false,
     "start_time": "2021-09-17T02:04:53.656239",
     "status": "completed"
    },
    "tags": []
   },
   "outputs": [
    {
     "data": {
      "image/png": "[encoded data removed]",
      "text/plain": [
       "<Figure size 1080x792 with 2 Axes>"
      ]
     },
     "metadata": {
      "needs_background": "light"
     },
     "output_type": "display_data"
    }
   ],
   "source": [
    "#hide_input\n",
    "plt.figure(figsize=(15, 11))\n",
    "sns.heatmap(df_all[sum_corr].corr(), annot=True, cmap=\"cubehelix\") \n",
    "sns.set(font_scale=1.25)\n",
    "plt.savefig('corr_matrix.png', format='eps')"
   ]
  },
  {
   "cell_type": "code",
   "execution_count": 8,
   "id": "arbitrary-sullivan",
   "metadata": {
    "execution": {
     "iopub.execute_input": "2021-09-17T02:04:55.243298Z",
     "iopub.status.busy": "2021-09-17T02:04:55.233205Z",
     "iopub.status.idle": "2021-09-17T02:04:55.268857Z",
     "shell.execute_reply": "2021-09-17T02:04:55.268301Z"
    },
    "papermill": {
     "duration": 0.054491,
     "end_time": "2021-09-17T02:04:55.268982",
     "exception": false,
     "start_time": "2021-09-17T02:04:55.214491",
     "status": "completed"
    },
    "tags": []
   },
   "outputs": [],
   "source": [
    "#hide\n",
    "#df_all_mrk = read_api()"
   ]
  },
  {
   "cell_type": "code",
   "execution_count": 9,
   "id": "delayed-adapter",
   "metadata": {
    "execution": {
     "iopub.execute_input": "2021-09-17T02:04:55.307143Z",
     "iopub.status.busy": "2021-09-17T02:04:55.306494Z",
     "iopub.status.idle": "2021-09-17T02:04:55.334768Z",
     "shell.execute_reply": "2021-09-17T02:04:55.334206Z"
    },
    "papermill": {
     "duration": 0.047506,
     "end_time": "2021-09-17T02:04:55.334898",
     "exception": false,
     "start_time": "2021-09-17T02:04:55.287392",
     "status": "completed"
    },
    "tags": []
   },
   "outputs": [],
   "source": [
    "#hide\n",
    "#Koreliacijų koeficientai"
   ]
  },
  {
   "cell_type": "code",
   "execution_count": 10,
   "id": "seeing-celebration",
   "metadata": {
    "execution": {
     "iopub.execute_input": "2021-09-17T02:04:55.371772Z",
     "iopub.status.busy": "2021-09-17T02:04:55.371129Z",
     "iopub.status.idle": "2021-09-17T02:04:55.398905Z",
     "shell.execute_reply": "2021-09-17T02:04:55.399439Z"
    },
    "papermill": {
     "duration": 0.047515,
     "end_time": "2021-09-17T02:04:55.399592",
     "exception": false,
     "start_time": "2021-09-17T02:04:55.352077",
     "status": "completed"
    },
    "tags": []
   },
   "outputs": [],
   "source": [
    "#hide_input\n",
    "#sum_corr = df_all_mrk.corr().sum().sort_values(ascending=True).index.values\n",
    "#df_all_mrk[sum_corr].corr()"
   ]
  },
  {
   "cell_type": "code",
   "execution_count": 11,
   "id": "other-painting",
   "metadata": {
    "execution": {
     "iopub.execute_input": "2021-09-17T02:04:55.436645Z",
     "iopub.status.busy": "2021-09-17T02:04:55.435517Z",
     "iopub.status.idle": "2021-09-17T02:04:55.462863Z",
     "shell.execute_reply": "2021-09-17T02:04:55.462245Z"
    },
    "papermill": {
     "duration": 0.047458,
     "end_time": "2021-09-17T02:04:55.462981",
     "exception": false,
     "start_time": "2021-09-17T02:04:55.415523",
     "status": "completed"
    },
    "tags": []
   },
   "outputs": [],
   "source": [
    "#hide\n",
    "#Koreliacijos matrica. "
   ]
  },
  {
   "cell_type": "code",
   "execution_count": 12,
   "id": "modular-magnitude",
   "metadata": {
    "execution": {
     "iopub.execute_input": "2021-09-17T02:04:55.504690Z",
     "iopub.status.busy": "2021-09-17T02:04:55.503998Z",
     "iopub.status.idle": "2021-09-17T02:04:55.532893Z",
     "shell.execute_reply": "2021-09-17T02:04:55.534791Z"
    },
    "papermill": {
     "duration": 0.055384,
     "end_time": "2021-09-17T02:04:55.535230",
     "exception": false,
     "start_time": "2021-09-17T02:04:55.479846",
     "status": "completed"
    },
    "tags": []
   },
   "outputs": [],
   "source": [
    "#hide_input\n",
    "#plt.figure(figsize=(15, 8))\n",
    "#sns.heatmap(df_all_mrk[sum_corr].corr(), annot=True, cmap=\"BrBG\");\n",
    "#plt.savefig('corr_matrix_all.eps', format='eps')"
   ]
  },
  {
   "cell_type": "code",
   "execution_count": null,
   "id": "original-senator",
   "metadata": {
    "papermill": {
     "duration": 0.01785,
     "end_time": "2021-09-17T02:04:55.572393",
     "exception": false,
     "start_time": "2021-09-17T02:04:55.554543",
     "status": "completed"
    },
    "tags": []
   },
   "outputs": [],
   "source": []
  },
  {
   "cell_type": "code",
   "execution_count": null,
   "id": "saving-secretariat",
   "metadata": {
    "papermill": {
     "duration": 0.015626,
     "end_time": "2021-09-17T02:04:55.606193",
     "exception": false,
     "start_time": "2021-09-17T02:04:55.590567",
     "status": "completed"
    },
    "tags": []
   },
   "outputs": [],
   "source": []
  }
 ],
 "metadata": {
  "kernelspec": {
   "display_name": "Python 3",
   "language": "python",
   "name": "python3"
  },
  "language_info": {
   "codemirror_mode": {
    "name": "ipython",
    "version": 3
   },
   "file_extension": ".py",
   "mimetype": "text/x-python",
   "name": "python",
   "nbconvert_exporter": "python",
   "pygments_lexer": "ipython3",
   "version": "3.6.15"
  },
  "papermill": {
   "default_parameters": {},
   "duration": 19.842043,
   "end_time": "2021-09-17T02:04:56.130218",
   "environment_variables": {},
   "exception": null,
   "input_path": "App-Correlation_charts.ipynb",
   "output_path": "App-Correlation_charts.ipynb",
   "parameters": {},
   "start_time": "2021-09-17T02:04:36.288175",
   "version": "2.2.2"
  }
 },
 "nbformat": 4,
 "nbformat_minor": 5
}