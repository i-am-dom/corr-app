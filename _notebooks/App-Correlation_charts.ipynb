{
 "cells": [
  {
   "cell_type": "markdown",
   "id": "touched-facility",
   "metadata": {
    "papermill": {
     "duration": 0.015574,
     "end_time": "2022-08-28T03:28:10.147402",
     "exception": false,
     "start_time": "2022-08-28T03:28:10.131828",
     "status": "completed"
    },
    "tags": []
   },
   "source": [
    "# Koreliacijų matrica\n",
    "> Išplėstinė koreliacijų matrica. \n",
    "\n",
    "- toc: true \n",
    "- badges: true\n",
    "- comments: false\n",
    "- categories: [Dominykas Tautkus]\n",
    "- image: images/matrix.png"
   ]
  },
  {
   "cell_type": "code",
   "execution_count": null,
   "id": "premium-weekend",
   "metadata": {
    "papermill": {
     "duration": 0.010423,
     "end_time": "2022-08-28T03:28:10.169098",
     "exception": false,
     "start_time": "2022-08-28T03:28:10.158675",
     "status": "completed"
    },
    "tags": []
   },
   "outputs": [],
   "source": []
  },
  {
   "cell_type": "code",
   "execution_count": 1,
   "id": "vertical-rebate",
   "metadata": {
    "execution": {
     "iopub.execute_input": "2022-08-28T03:28:10.200505Z",
     "iopub.status.busy": "2022-08-28T03:28:10.199912Z",
     "iopub.status.idle": "2022-08-28T03:28:10.210825Z",
     "shell.execute_reply": "2022-08-28T03:28:10.211344Z"
    },
    "papermill": {
     "duration": 0.031783,
     "end_time": "2022-08-28T03:28:10.211489",
     "exception": false,
     "start_time": "2022-08-28T03:28:10.179706",
     "status": "completed"
    },
    "tags": []
   },
   "outputs": [],
   "source": [
    "#hide\n",
    "%load_ext autoreload\n",
    "%autoreload 2"
   ]
  },
  {
   "cell_type": "code",
   "execution_count": 2,
   "id": "overall-advancement",
   "metadata": {
    "execution": {
     "iopub.execute_input": "2022-08-28T03:28:10.236143Z",
     "iopub.status.busy": "2022-08-28T03:28:10.235564Z",
     "iopub.status.idle": "2022-08-28T03:28:11.365075Z",
     "shell.execute_reply": "2022-08-28T03:28:11.364080Z"
    },
    "papermill": {
     "duration": 1.143329,
     "end_time": "2022-08-28T03:28:11.365221",
     "exception": false,
     "start_time": "2022-08-28T03:28:10.221892",
     "status": "completed"
    },
    "tags": []
   },
   "outputs": [],
   "source": [
    "#hide\n",
    "from scripts.read_data import read_api\n",
    "from IPython.display import HTML\n",
    "import plotly.graph_objects as go\n"
   ]
  },
  {
   "cell_type": "code",
   "execution_count": 3,
   "id": "light-crazy",
   "metadata": {
    "execution": {
     "iopub.execute_input": "2022-08-28T03:28:11.393482Z",
     "iopub.status.busy": "2022-08-28T03:28:11.392863Z",
     "iopub.status.idle": "2022-08-28T03:28:11.414272Z",
     "shell.execute_reply": "2022-08-28T03:28:11.413729Z"
    },
    "papermill": {
     "duration": 0.038244,
     "end_time": "2022-08-28T03:28:11.414391",
     "exception": false,
     "start_time": "2022-08-28T03:28:11.376147",
     "status": "completed"
    },
    "tags": []
   },
   "outputs": [],
   "source": [
    "#hide\n",
    "### ICO koreliacija"
   ]
  },
  {
   "cell_type": "code",
   "execution_count": 4,
   "id": "likely-bahrain",
   "metadata": {
    "execution": {
     "iopub.execute_input": "2022-08-28T03:28:11.445131Z",
     "iopub.status.busy": "2022-08-28T03:28:11.444526Z",
     "iopub.status.idle": "2022-08-28T03:28:12.277847Z",
     "shell.execute_reply": "2022-08-28T03:28:12.278384Z"
    },
    "papermill": {
     "duration": 0.85312,
     "end_time": "2022-08-28T03:28:12.278553",
     "exception": false,
     "start_time": "2022-08-28T03:28:11.425433",
     "status": "completed"
    },
    "tags": []
   },
   "outputs": [],
   "source": [
    "#hide\n",
    "import matplotlib.pyplot as plt\n",
    "import numpy as np\n",
    "import pandas as pd\n",
    "import seaborn as sns\n",
    "import matplotlib.pyplot as plt \n",
    "import matplotlib.dates as mdates\n",
    "import matplotlib.pyplot as plt"
   ]
  },
  {
   "cell_type": "code",
   "execution_count": 5,
   "id": "superior-blanket",
   "metadata": {
    "execution": {
     "iopub.execute_input": "2022-08-28T03:28:12.311556Z",
     "iopub.status.busy": "2022-08-28T03:28:12.310935Z",
     "iopub.status.idle": "2022-08-28T03:28:23.370787Z",
     "shell.execute_reply": "2022-08-28T03:28:23.370257Z"
    },
    "papermill": {
     "duration": 11.080848,
     "end_time": "2022-08-28T03:28:23.370944",
     "exception": false,
     "start_time": "2022-08-28T03:28:12.290096",
     "status": "completed"
    },
    "tags": []
   },
   "outputs": [
    {
     "name": "stderr",
     "output_type": "stream",
     "text": [
      "/home/runner/work/corr-app/corr-app/_notebooks/scripts/read_data.py:187: SettingWithCopyWarning:\n",
      "\n",
      "\n",
      "A value is trying to be set on a copy of a slice from a DataFrame.\n",
      "Try using .loc[row_indexer,col_indexer] = value instead\n",
      "\n",
      "See the caveats in the documentation: https://pandas.pydata.org/pandas-docs/stable/user_guide/indexing.html#returning-a-view-versus-a-copy\n",
      "\n"
     ]
    },
    {
     "name": "stderr",
     "output_type": "stream",
     "text": [
      "/home/runner/work/corr-app/corr-app/_notebooks/scripts/read_data.py:215: SettingWithCopyWarning:\n",
      "\n",
      "\n",
      "A value is trying to be set on a copy of a slice from a DataFrame.\n",
      "Try using .loc[row_indexer,col_indexer] = value instead\n",
      "\n",
      "See the caveats in the documentation: https://pandas.pydata.org/pandas-docs/stable/user_guide/indexing.html#returning-a-view-versus-a-copy\n",
      "\n"
     ]
    }
   ],
   "source": [
    "#hide\n",
    "df_all = read_api()\n",
    "#df_all = df_all.drop(['SP500', 'XAU', 'ETH', 'BTC'], axis=1)\n",
    "\n"
   ]
  },
  {
   "cell_type": "code",
   "execution_count": 6,
   "id": "mature-alert",
   "metadata": {
    "execution": {
     "iopub.execute_input": "2022-08-28T03:28:23.399958Z",
     "iopub.status.busy": "2022-08-28T03:28:23.399341Z",
     "iopub.status.idle": "2022-08-28T03:28:23.429919Z",
     "shell.execute_reply": "2022-08-28T03:28:23.429288Z"
    },
    "papermill": {
     "duration": 0.045872,
     "end_time": "2022-08-28T03:28:23.430039",
     "exception": false,
     "start_time": "2022-08-28T03:28:23.384167",
     "status": "completed"
    },
    "tags": []
   },
   "outputs": [],
   "source": [
    "#hide_input\n",
    "sum_corr = df_all.corr().sum().sort_values(ascending=True).index.values\n",
    "#df_all[sum_corr].corr()"
   ]
  },
  {
   "cell_type": "markdown",
   "id": "complex-syndicate",
   "metadata": {
    "papermill": {
     "duration": 0.011036,
     "end_time": "2022-08-28T03:28:23.452669",
     "exception": false,
     "start_time": "2022-08-28T03:28:23.441633",
     "status": "completed"
    },
    "tags": []
   },
   "source": [
    "## Išplėstinė koreliacijų matrica. "
   ]
  },
  {
   "cell_type": "code",
   "execution_count": 7,
   "id": "atomic-omaha",
   "metadata": {
    "execution": {
     "iopub.execute_input": "2022-08-28T03:28:23.478694Z",
     "iopub.status.busy": "2022-08-28T03:28:23.478108Z",
     "iopub.status.idle": "2022-08-28T03:28:24.657949Z",
     "shell.execute_reply": "2022-08-28T03:28:24.657473Z"
    },
    "papermill": {
     "duration": 1.194321,
     "end_time": "2022-08-28T03:28:24.658077",
     "exception": false,
     "start_time": "2022-08-28T03:28:23.463756",
     "status": "completed"
    },
    "tags": []
   },
   "outputs": [
    {
     "data": {
      "image/png": "[encoded data removed]",
      "text/plain": [
       "<Figure size 1080x792 with 2 Axes>"
      ]
     },
     "metadata": {
      "needs_background": "light"
     },
     "output_type": "display_data"
    }
   ],
   "source": [
    "#hide_input\n",
    "plt.figure(figsize=(15, 11))\n",
    "sns.heatmap(df_all[sum_corr].corr(), annot=True, cmap=\"cubehelix\") \n",
    "sns.set(font_scale=1.25)\n",
    "plt.savefig('corr_matrix.png', format='eps')"
   ]
  },
  {
   "cell_type": "code",
   "execution_count": 8,
   "id": "arbitrary-sullivan",
   "metadata": {
    "execution": {
     "iopub.execute_input": "2022-08-28T03:28:24.695664Z",
     "iopub.status.busy": "2022-08-28T03:28:24.688743Z",
     "iopub.status.idle": "2022-08-28T03:28:24.715584Z",
     "shell.execute_reply": "2022-08-28T03:28:24.715027Z"
    },
    "papermill": {
     "duration": 0.044023,
     "end_time": "2022-08-28T03:28:24.715709",
     "exception": false,
     "start_time": "2022-08-28T03:28:24.671686",
     "status": "completed"
    },
    "tags": []
   },
   "outputs": [],
   "source": [
    "#hide\n",
    "#df_all_mrk = read_api()"
   ]
  },
  {
   "cell_type": "code",
   "execution_count": 9,
   "id": "delayed-adapter",
   "metadata": {
    "execution": {
     "iopub.execute_input": "2022-08-28T03:28:24.761381Z",
     "iopub.status.busy": "2022-08-28T03:28:24.759577Z",
     "iopub.status.idle": "2022-08-28T03:28:24.778097Z",
     "shell.execute_reply": "2022-08-28T03:28:24.778853Z"
    },
    "papermill": {
     "duration": 0.049705,
     "end_time": "2022-08-28T03:28:24.778997",
     "exception": false,
     "start_time": "2022-08-28T03:28:24.729292",
     "status": "completed"
    },
    "tags": []
   },
   "outputs": [],
   "source": [
    "#hide\n",
    "#Koreliacijų koeficientai"
   ]
  },
  {
   "cell_type": "code",
   "execution_count": 10,
   "id": "seeing-celebration",
   "metadata": {
    "execution": {
     "iopub.execute_input": "2022-08-28T03:28:24.814255Z",
     "iopub.status.busy": "2022-08-28T03:28:24.807964Z",
     "iopub.status.idle": "2022-08-28T03:28:24.835929Z",
     "shell.execute_reply": "2022-08-28T03:28:24.835264Z"
    },
    "papermill": {
     "duration": 0.043853,
     "end_time": "2022-08-28T03:28:24.836049",
     "exception": false,
     "start_time": "2022-08-28T03:28:24.792196",
     "status": "completed"
    },
    "tags": []
   },
   "outputs": [],
   "source": [
    "#hide_input\n",
    "#sum_corr = df_all_mrk.corr().sum().sort_values(ascending=True).index.values\n",
    "#df_all_mrk[sum_corr].corr()"
   ]
  },
  {
   "cell_type": "code",
   "execution_count": 11,
   "id": "other-painting",
   "metadata": {
    "execution": {
     "iopub.execute_input": "2022-08-28T03:28:24.875796Z",
     "iopub.status.busy": "2022-08-28T03:28:24.871353Z",
     "iopub.status.idle": "2022-08-28T03:28:24.894111Z",
     "shell.execute_reply": "2022-08-28T03:28:24.893641Z"
    },
    "papermill": {
     "duration": 0.044467,
     "end_time": "2022-08-28T03:28:24.894217",
     "exception": false,
     "start_time": "2022-08-28T03:28:24.849750",
     "status": "completed"
    },
    "tags": []
   },
   "outputs": [],
   "source": [
    "#hide\n",
    "#Koreliacijos matrica. "
   ]
  },
  {
   "cell_type": "code",
   "execution_count": 12,
   "id": "modular-magnitude",
   "metadata": {
    "execution": {
     "iopub.execute_input": "2022-08-28T03:28:24.923265Z",
     "iopub.status.busy": "2022-08-28T03:28:24.922645Z",
     "iopub.status.idle": "2022-08-28T03:28:24.948505Z",
     "shell.execute_reply": "2022-08-28T03:28:24.947942Z"
    },
    "papermill": {
     "duration": 0.041285,
     "end_time": "2022-08-28T03:28:24.948628",
     "exception": false,
     "start_time": "2022-08-28T03:28:24.907343",
     "status": "completed"
    },
    "tags": []
   },
   "outputs": [],
   "source": [
    "#hide_input\n",
    "#plt.figure(figsize=(15, 8))\n",
    "#sns.heatmap(df_all_mrk[sum_corr].corr(), annot=True, cmap=\"BrBG\");\n",
    "#plt.savefig('corr_matrix_all.eps', format='eps')"
   ]
  },
  {
   "cell_type": "code",
   "execution_count": null,
   "id": "original-senator",
   "metadata": {
    "papermill": {
     "duration": 0.012973,
     "end_time": "2022-08-28T03:28:24.975186",
     "exception": false,
     "start_time": "2022-08-28T03:28:24.962213",
     "status": "completed"
    },
    "tags": []
   },
   "outputs": [],
   "source": []
  },
  {
   "cell_type": "code",
   "execution_count": null,
   "id": "saving-secretariat",
   "metadata": {
    "papermill": {
     "duration": 0.012922,
     "end_time": "2022-08-28T03:28:25.002246",
     "exception": false,
     "start_time": "2022-08-28T03:28:24.989324",
     "status": "completed"
    },
    "tags": []
   },
   "outputs": [],
   "source": []
  }
 ],
 "metadata": {
  "kernelspec": {
   "display_name": "Python 3",
   "language": "python",
   "name": "python3"
  },
  "language_info": {
   "codemirror_mode": {
    "name": "ipython",
    "version": 3
   },
   "file_extension": ".py",
   "mimetype": "text/x-python",
   "name": "python",
   "nbconvert_exporter": "python",
   "pygments_lexer": "ipython3",
   "version": "3.6.15"
  },
  "papermill": {
   "default_parameters": {},
   "duration": 16.327299,
   "end_time": "2022-08-28T03:28:25.535243",
   "environment_variables": {},
   "exception": null,
   "input_path": "App-Correlation_charts.ipynb",
   "output_path": "App-Correlation_charts.ipynb",
   "parameters": {},
   "start_time": "2022-08-28T03:28:09.207944",
   "version": "2.2.2"
  }
 },
 "nbformat": 4,
 "nbformat_minor": 5
}