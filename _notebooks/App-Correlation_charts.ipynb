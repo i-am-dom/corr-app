{
 "cells": [
  {
   "cell_type": "markdown",
   "id": "touched-facility",
   "metadata": {
    "papermill": {
     "duration": 0.017399,
     "end_time": "2022-07-20T03:13:38.677085",
     "exception": false,
     "start_time": "2022-07-20T03:13:38.659686",
     "status": "completed"
    },
    "tags": []
   },
   "source": [
    "# Koreliacijų matrica\n",
    "> Išplėstinė koreliacijų matrica. \n",
    "\n",
    "- toc: true \n",
    "- badges: true\n",
    "- comments: false\n",
    "- categories: [Dominykas Tautkus]\n",
    "- image: images/matrix.png"
   ]
  },
  {
   "cell_type": "code",
   "execution_count": null,
   "id": "premium-weekend",
   "metadata": {
    "papermill": {
     "duration": 0.012206,
     "end_time": "2022-07-20T03:13:38.702597",
     "exception": false,
     "start_time": "2022-07-20T03:13:38.690391",
     "status": "completed"
    },
    "tags": []
   },
   "outputs": [],
   "source": []
  },
  {
   "cell_type": "code",
   "execution_count": 1,
   "id": "vertical-rebate",
   "metadata": {
    "execution": {
     "iopub.execute_input": "2022-07-20T03:13:38.740127Z",
     "iopub.status.busy": "2022-07-20T03:13:38.739377Z",
     "iopub.status.idle": "2022-07-20T03:13:38.752716Z",
     "shell.execute_reply": "2022-07-20T03:13:38.752105Z"
    },
    "papermill": {
     "duration": 0.038399,
     "end_time": "2022-07-20T03:13:38.752871",
     "exception": false,
     "start_time": "2022-07-20T03:13:38.714472",
     "status": "completed"
    },
    "tags": []
   },
   "outputs": [],
   "source": [
    "#hide\n",
    "%load_ext autoreload\n",
    "%autoreload 2"
   ]
  },
  {
   "cell_type": "code",
   "execution_count": 2,
   "id": "overall-advancement",
   "metadata": {
    "execution": {
     "iopub.execute_input": "2022-07-20T03:13:38.782416Z",
     "iopub.status.busy": "2022-07-20T03:13:38.781587Z",
     "iopub.status.idle": "2022-07-20T03:13:40.310307Z",
     "shell.execute_reply": "2022-07-20T03:13:40.310848Z"
    },
    "papermill": {
     "duration": 1.545928,
     "end_time": "2022-07-20T03:13:40.311025",
     "exception": false,
     "start_time": "2022-07-20T03:13:38.765097",
     "status": "completed"
    },
    "tags": []
   },
   "outputs": [],
   "source": [
    "#hide\n",
    "from scripts.read_data import read_api\n",
    "from IPython.display import HTML\n",
    "import plotly.graph_objects as go\n"
   ]
  },
  {
   "cell_type": "code",
   "execution_count": 3,
   "id": "light-crazy",
   "metadata": {
    "execution": {
     "iopub.execute_input": "2022-07-20T03:13:40.340679Z",
     "iopub.status.busy": "2022-07-20T03:13:40.339938Z",
     "iopub.status.idle": "2022-07-20T03:13:40.371657Z",
     "shell.execute_reply": "2022-07-20T03:13:40.371032Z"
    },
    "papermill": {
     "duration": 0.048231,
     "end_time": "2022-07-20T03:13:40.371800",
     "exception": false,
     "start_time": "2022-07-20T03:13:40.323569",
     "status": "completed"
    },
    "tags": []
   },
   "outputs": [],
   "source": [
    "#hide\n",
    "### ICO koreliacija"
   ]
  },
  {
   "cell_type": "code",
   "execution_count": 4,
   "id": "likely-bahrain",
   "metadata": {
    "execution": {
     "iopub.execute_input": "2022-07-20T03:13:40.401636Z",
     "iopub.status.busy": "2022-07-20T03:13:40.400877Z",
     "iopub.status.idle": "2022-07-20T03:13:41.391437Z",
     "shell.execute_reply": "2022-07-20T03:13:41.392081Z"
    },
    "papermill": {
     "duration": 1.008221,
     "end_time": "2022-07-20T03:13:41.392288",
     "exception": false,
     "start_time": "2022-07-20T03:13:40.384067",
     "status": "completed"
    },
    "tags": []
   },
   "outputs": [],
   "source": [
    "#hide\n",
    "import matplotlib.pyplot as plt\n",
    "import numpy as np\n",
    "import pandas as pd\n",
    "import seaborn as sns\n",
    "import matplotlib.pyplot as plt \n",
    "import matplotlib.dates as mdates\n",
    "import matplotlib.pyplot as plt"
   ]
  },
  {
   "cell_type": "code",
   "execution_count": 5,
   "id": "superior-blanket",
   "metadata": {
    "execution": {
     "iopub.execute_input": "2022-07-20T03:13:41.423059Z",
     "iopub.status.busy": "2022-07-20T03:13:41.422372Z",
     "iopub.status.idle": "2022-07-20T03:13:50.324727Z",
     "shell.execute_reply": "2022-07-20T03:13:50.324097Z"
    },
    "papermill": {
     "duration": 8.919702,
     "end_time": "2022-07-20T03:13:50.324885",
     "exception": false,
     "start_time": "2022-07-20T03:13:41.405183",
     "status": "completed"
    },
    "tags": []
   },
   "outputs": [
    {
     "name": "stderr",
     "output_type": "stream",
     "text": [
      "/home/runner/work/corr-app/corr-app/_notebooks/scripts/read_data.py:187: SettingWithCopyWarning:\n",
      "\n",
      "\n",
      "A value is trying to be set on a copy of a slice from a DataFrame.\n",
      "Try using .loc[row_indexer,col_indexer] = value instead\n",
      "\n",
      "See the caveats in the documentation: https://pandas.pydata.org/pandas-docs/stable/user_guide/indexing.html#returning-a-view-versus-a-copy\n",
      "\n"
     ]
    },
    {
     "name": "stderr",
     "output_type": "stream",
     "text": [
      "/home/runner/work/corr-app/corr-app/_notebooks/scripts/read_data.py:215: SettingWithCopyWarning:\n",
      "\n",
      "\n",
      "A value is trying to be set on a copy of a slice from a DataFrame.\n",
      "Try using .loc[row_indexer,col_indexer] = value instead\n",
      "\n",
      "See the caveats in the documentation: https://pandas.pydata.org/pandas-docs/stable/user_guide/indexing.html#returning-a-view-versus-a-copy\n",
      "\n"
     ]
    }
   ],
   "source": [
    "#hide\n",
    "df_all = read_api()\n",
    "#df_all = df_all.drop(['SP500', 'XAU', 'ETH', 'BTC'], axis=1)\n",
    "\n"
   ]
  },
  {
   "cell_type": "code",
   "execution_count": 6,
   "id": "mature-alert",
   "metadata": {
    "execution": {
     "iopub.execute_input": "2022-07-20T03:13:50.359495Z",
     "iopub.status.busy": "2022-07-20T03:13:50.358350Z",
     "iopub.status.idle": "2022-07-20T03:13:50.399396Z",
     "shell.execute_reply": "2022-07-20T03:13:50.398705Z"
    },
    "papermill": {
     "duration": 0.060158,
     "end_time": "2022-07-20T03:13:50.399555",
     "exception": false,
     "start_time": "2022-07-20T03:13:50.339397",
     "status": "completed"
    },
    "tags": []
   },
   "outputs": [],
   "source": [
    "#hide_input\n",
    "sum_corr = df_all.corr().sum().sort_values(ascending=True).index.values\n",
    "#df_all[sum_corr].corr()"
   ]
  },
  {
   "cell_type": "markdown",
   "id": "complex-syndicate",
   "metadata": {
    "papermill": {
     "duration": 0.015252,
     "end_time": "2022-07-20T03:13:50.428730",
     "exception": false,
     "start_time": "2022-07-20T03:13:50.413478",
     "status": "completed"
    },
    "tags": []
   },
   "source": [
    "## Išplėstinė koreliacijų matrica. "
   ]
  },
  {
   "cell_type": "code",
   "execution_count": 7,
   "id": "atomic-omaha",
   "metadata": {
    "execution": {
     "iopub.execute_input": "2022-07-20T03:13:50.462857Z",
     "iopub.status.busy": "2022-07-20T03:13:50.462150Z",
     "iopub.status.idle": "2022-07-20T03:13:51.992022Z",
     "shell.execute_reply": "2022-07-20T03:13:51.992505Z"
    },
    "papermill": {
     "duration": 1.550756,
     "end_time": "2022-07-20T03:13:51.992730",
     "exception": false,
     "start_time": "2022-07-20T03:13:50.441974",
     "status": "completed"
    },
    "tags": []
   },
   "outputs": [
    {
     "data": {
      "image/png": "[encoded data removed]",
      "text/plain": [
       "<Figure size 1080x792 with 2 Axes>"
      ]
     },
     "metadata": {
      "needs_background": "light"
     },
     "output_type": "display_data"
    }
   ],
   "source": [
    "#hide_input\n",
    "plt.figure(figsize=(15, 11))\n",
    "sns.heatmap(df_all[sum_corr].corr(), annot=True, cmap=\"cubehelix\") \n",
    "sns.set(font_scale=1.25)\n",
    "plt.savefig('corr_matrix.png', format='eps')"
   ]
  },
  {
   "cell_type": "code",
   "execution_count": 8,
   "id": "arbitrary-sullivan",
   "metadata": {
    "execution": {
     "iopub.execute_input": "2022-07-20T03:13:52.030030Z",
     "iopub.status.busy": "2022-07-20T03:13:52.029326Z",
     "iopub.status.idle": "2022-07-20T03:13:52.064413Z",
     "shell.execute_reply": "2022-07-20T03:13:52.063808Z"
    },
    "papermill": {
     "duration": 0.056621,
     "end_time": "2022-07-20T03:13:52.064594",
     "exception": false,
     "start_time": "2022-07-20T03:13:52.007973",
     "status": "completed"
    },
    "tags": []
   },
   "outputs": [],
   "source": [
    "#hide\n",
    "#df_all_mrk = read_api()"
   ]
  },
  {
   "cell_type": "code",
   "execution_count": 9,
   "id": "delayed-adapter",
   "metadata": {
    "execution": {
     "iopub.execute_input": "2022-07-20T03:13:52.100408Z",
     "iopub.status.busy": "2022-07-20T03:13:52.099682Z",
     "iopub.status.idle": "2022-07-20T03:13:52.137871Z",
     "shell.execute_reply": "2022-07-20T03:13:52.136409Z"
    },
    "papermill": {
     "duration": 0.058216,
     "end_time": "2022-07-20T03:13:52.138244",
     "exception": false,
     "start_time": "2022-07-20T03:13:52.080028",
     "status": "completed"
    },
    "tags": []
   },
   "outputs": [],
   "source": [
    "#hide\n",
    "#Koreliacijų koeficientai"
   ]
  },
  {
   "cell_type": "code",
   "execution_count": 10,
   "id": "seeing-celebration",
   "metadata": {
    "execution": {
     "iopub.execute_input": "2022-07-20T03:13:52.176313Z",
     "iopub.status.busy": "2022-07-20T03:13:52.175615Z",
     "iopub.status.idle": "2022-07-20T03:13:52.211713Z",
     "shell.execute_reply": "2022-07-20T03:13:52.211093Z"
    },
    "papermill": {
     "duration": 0.056226,
     "end_time": "2022-07-20T03:13:52.211855",
     "exception": false,
     "start_time": "2022-07-20T03:13:52.155629",
     "status": "completed"
    },
    "tags": []
   },
   "outputs": [],
   "source": [
    "#hide_input\n",
    "#sum_corr = df_all_mrk.corr().sum().sort_values(ascending=True).index.values\n",
    "#df_all_mrk[sum_corr].corr()"
   ]
  },
  {
   "cell_type": "code",
   "execution_count": 11,
   "id": "other-painting",
   "metadata": {
    "execution": {
     "iopub.execute_input": "2022-07-20T03:13:52.246824Z",
     "iopub.status.busy": "2022-07-20T03:13:52.246100Z",
     "iopub.status.idle": "2022-07-20T03:13:52.286107Z",
     "shell.execute_reply": "2022-07-20T03:13:52.285478Z"
    },
    "papermill": {
     "duration": 0.0592,
     "end_time": "2022-07-20T03:13:52.286253",
     "exception": false,
     "start_time": "2022-07-20T03:13:52.227053",
     "status": "completed"
    },
    "tags": []
   },
   "outputs": [],
   "source": [
    "#hide\n",
    "#Koreliacijos matrica. "
   ]
  },
  {
   "cell_type": "code",
   "execution_count": 12,
   "id": "modular-magnitude",
   "metadata": {
    "execution": {
     "iopub.execute_input": "2022-07-20T03:13:52.322282Z",
     "iopub.status.busy": "2022-07-20T03:13:52.321585Z",
     "iopub.status.idle": "2022-07-20T03:13:52.357774Z",
     "shell.execute_reply": "2022-07-20T03:13:52.357049Z"
    },
    "papermill": {
     "duration": 0.055657,
     "end_time": "2022-07-20T03:13:52.357938",
     "exception": false,
     "start_time": "2022-07-20T03:13:52.302281",
     "status": "completed"
    },
    "tags": []
   },
   "outputs": [],
   "source": [
    "#hide_input\n",
    "#plt.figure(figsize=(15, 8))\n",
    "#sns.heatmap(df_all_mrk[sum_corr].corr(), annot=True, cmap=\"BrBG\");\n",
    "#plt.savefig('corr_matrix_all.eps', format='eps')"
   ]
  },
  {
   "cell_type": "code",
   "execution_count": null,
   "id": "original-senator",
   "metadata": {
    "papermill": {
     "duration": 0.020431,
     "end_time": "2022-07-20T03:13:52.394926",
     "exception": false,
     "start_time": "2022-07-20T03:13:52.374495",
     "status": "completed"
    },
    "tags": []
   },
   "outputs": [],
   "source": []
  },
  {
   "cell_type": "code",
   "execution_count": null,
   "id": "saving-secretariat",
   "metadata": {
    "papermill": {
     "duration": 0.015719,
     "end_time": "2022-07-20T03:13:52.426735",
     "exception": false,
     "start_time": "2022-07-20T03:13:52.411016",
     "status": "completed"
    },
    "tags": []
   },
   "outputs": [],
   "source": []
  }
 ],
 "metadata": {
  "kernelspec": {
   "display_name": "Python 3",
   "language": "python",
   "name": "python3"
  },
  "language_info": {
   "codemirror_mode": {
    "name": "ipython",
    "version": 3
   },
   "file_extension": ".py",
   "mimetype": "text/x-python",
   "name": "python",
   "nbconvert_exporter": "python",
   "pygments_lexer": "ipython3",
   "version": "3.6.15"
  },
  "papermill": {
   "default_parameters": {},
   "duration": 15.703167,
   "end_time": "2022-07-20T03:13:53.062731",
   "environment_variables": {},
   "exception": null,
   "input_path": "App-Correlation_charts.ipynb",
   "output_path": "App-Correlation_charts.ipynb",
   "parameters": {},
   "start_time": "2022-07-20T03:13:37.359564",
   "version": "2.2.2"
  }
 },
 "nbformat": 4,
 "nbformat_minor": 5
}