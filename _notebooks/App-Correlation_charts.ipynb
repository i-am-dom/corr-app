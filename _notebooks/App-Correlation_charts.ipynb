{
 "cells": [
  {
   "cell_type": "markdown",
   "id": "touched-facility",
   "metadata": {
    "papermill": {
     "duration": 0.016414,
     "end_time": "2022-09-02T03:40:01.357017",
     "exception": false,
     "start_time": "2022-09-02T03:40:01.340603",
     "status": "completed"
    },
    "tags": []
   },
   "source": [
    "# Koreliacijų matrica\n",
    "> Išplėstinė koreliacijų matrica. \n",
    "\n",
    "- toc: true \n",
    "- badges: true\n",
    "- comments: false\n",
    "- categories: [Dominykas Tautkus]\n",
    "- image: images/matrix.png"
   ]
  },
  {
   "cell_type": "code",
   "execution_count": null,
   "id": "premium-weekend",
   "metadata": {
    "papermill": {
     "duration": 0.011808,
     "end_time": "2022-09-02T03:40:01.382448",
     "exception": false,
     "start_time": "2022-09-02T03:40:01.370640",
     "status": "completed"
    },
    "tags": []
   },
   "outputs": [],
   "source": []
  },
  {
   "cell_type": "code",
   "execution_count": 1,
   "id": "vertical-rebate",
   "metadata": {
    "execution": {
     "iopub.execute_input": "2022-09-02T03:40:01.418763Z",
     "iopub.status.busy": "2022-09-02T03:40:01.418015Z",
     "iopub.status.idle": "2022-09-02T03:40:01.430951Z",
     "shell.execute_reply": "2022-09-02T03:40:01.430309Z"
    },
    "papermill": {
     "duration": 0.036267,
     "end_time": "2022-09-02T03:40:01.431103",
     "exception": false,
     "start_time": "2022-09-02T03:40:01.394836",
     "status": "completed"
    },
    "tags": []
   },
   "outputs": [],
   "source": [
    "#hide\n",
    "%load_ext autoreload\n",
    "%autoreload 2"
   ]
  },
  {
   "cell_type": "code",
   "execution_count": 2,
   "id": "overall-advancement",
   "metadata": {
    "execution": {
     "iopub.execute_input": "2022-09-02T03:40:01.462505Z",
     "iopub.status.busy": "2022-09-02T03:40:01.461800Z",
     "iopub.status.idle": "2022-09-02T03:40:03.219451Z",
     "shell.execute_reply": "2022-09-02T03:40:03.218768Z"
    },
    "papermill": {
     "duration": 1.775757,
     "end_time": "2022-09-02T03:40:03.219594",
     "exception": false,
     "start_time": "2022-09-02T03:40:01.443837",
     "status": "completed"
    },
    "tags": []
   },
   "outputs": [],
   "source": [
    "#hide\n",
    "from scripts.read_data import read_api\n",
    "from IPython.display import HTML\n",
    "import plotly.graph_objects as go\n"
   ]
  },
  {
   "cell_type": "code",
   "execution_count": 3,
   "id": "light-crazy",
   "metadata": {
    "execution": {
     "iopub.execute_input": "2022-09-02T03:40:03.251652Z",
     "iopub.status.busy": "2022-09-02T03:40:03.250958Z",
     "iopub.status.idle": "2022-09-02T03:40:03.278084Z",
     "shell.execute_reply": "2022-09-02T03:40:03.277471Z"
    },
    "papermill": {
     "duration": 0.045505,
     "end_time": "2022-09-02T03:40:03.278215",
     "exception": false,
     "start_time": "2022-09-02T03:40:03.232710",
     "status": "completed"
    },
    "tags": []
   },
   "outputs": [],
   "source": [
    "#hide\n",
    "### ICO koreliacija"
   ]
  },
  {
   "cell_type": "code",
   "execution_count": 4,
   "id": "likely-bahrain",
   "metadata": {
    "execution": {
     "iopub.execute_input": "2022-09-02T03:40:03.308327Z",
     "iopub.status.busy": "2022-09-02T03:40:03.307583Z",
     "iopub.status.idle": "2022-09-02T03:40:04.348734Z",
     "shell.execute_reply": "2022-09-02T03:40:04.347558Z"
    },
    "papermill": {
     "duration": 1.058096,
     "end_time": "2022-09-02T03:40:04.348872",
     "exception": false,
     "start_time": "2022-09-02T03:40:03.290776",
     "status": "completed"
    },
    "tags": []
   },
   "outputs": [],
   "source": [
    "#hide\n",
    "import matplotlib.pyplot as plt\n",
    "import numpy as np\n",
    "import pandas as pd\n",
    "import seaborn as sns\n",
    "import matplotlib.pyplot as plt \n",
    "import matplotlib.dates as mdates\n",
    "import matplotlib.pyplot as plt"
   ]
  },
  {
   "cell_type": "code",
   "execution_count": 5,
   "id": "superior-blanket",
   "metadata": {
    "execution": {
     "iopub.execute_input": "2022-09-02T03:40:04.379310Z",
     "iopub.status.busy": "2022-09-02T03:40:04.378540Z",
     "iopub.status.idle": "2022-09-02T03:40:19.538154Z",
     "shell.execute_reply": "2022-09-02T03:40:19.537531Z"
    },
    "papermill": {
     "duration": 15.176846,
     "end_time": "2022-09-02T03:40:19.538296",
     "exception": false,
     "start_time": "2022-09-02T03:40:04.361450",
     "status": "completed"
    },
    "tags": []
   },
   "outputs": [
    {
     "name": "stderr",
     "output_type": "stream",
     "text": [
      "/home/runner/work/corr-app/corr-app/_notebooks/scripts/read_data.py:187: SettingWithCopyWarning:\n",
      "\n",
      "\n",
      "A value is trying to be set on a copy of a slice from a DataFrame.\n",
      "Try using .loc[row_indexer,col_indexer] = value instead\n",
      "\n",
      "See the caveats in the documentation: https://pandas.pydata.org/pandas-docs/stable/user_guide/indexing.html#returning-a-view-versus-a-copy\n",
      "\n"
     ]
    },
    {
     "name": "stderr",
     "output_type": "stream",
     "text": [
      "/home/runner/work/corr-app/corr-app/_notebooks/scripts/read_data.py:215: SettingWithCopyWarning:\n",
      "\n",
      "\n",
      "A value is trying to be set on a copy of a slice from a DataFrame.\n",
      "Try using .loc[row_indexer,col_indexer] = value instead\n",
      "\n",
      "See the caveats in the documentation: https://pandas.pydata.org/pandas-docs/stable/user_guide/indexing.html#returning-a-view-versus-a-copy\n",
      "\n"
     ]
    }
   ],
   "source": [
    "#hide\n",
    "df_all = read_api()\n",
    "#df_all = df_all.drop(['SP500', 'XAU', 'ETH', 'BTC'], axis=1)\n",
    "\n"
   ]
  },
  {
   "cell_type": "code",
   "execution_count": 6,
   "id": "mature-alert",
   "metadata": {
    "execution": {
     "iopub.execute_input": "2022-09-02T03:40:19.572645Z",
     "iopub.status.busy": "2022-09-02T03:40:19.571888Z",
     "iopub.status.idle": "2022-09-02T03:40:19.609980Z",
     "shell.execute_reply": "2022-09-02T03:40:19.609431Z"
    },
    "papermill": {
     "duration": 0.056342,
     "end_time": "2022-09-02T03:40:19.610103",
     "exception": false,
     "start_time": "2022-09-02T03:40:19.553761",
     "status": "completed"
    },
    "tags": []
   },
   "outputs": [],
   "source": [
    "#hide_input\n",
    "sum_corr = df_all.corr().sum().sort_values(ascending=True).index.values\n",
    "#df_all[sum_corr].corr()"
   ]
  },
  {
   "cell_type": "markdown",
   "id": "complex-syndicate",
   "metadata": {
    "papermill": {
     "duration": 0.013582,
     "end_time": "2022-09-02T03:40:19.637954",
     "exception": false,
     "start_time": "2022-09-02T03:40:19.624372",
     "status": "completed"
    },
    "tags": []
   },
   "source": [
    "## Išplėstinė koreliacijų matrica. "
   ]
  },
  {
   "cell_type": "code",
   "execution_count": 7,
   "id": "atomic-omaha",
   "metadata": {
    "execution": {
     "iopub.execute_input": "2022-09-02T03:40:19.672383Z",
     "iopub.status.busy": "2022-09-02T03:40:19.671595Z",
     "iopub.status.idle": "2022-09-02T03:40:21.317955Z",
     "shell.execute_reply": "2022-09-02T03:40:21.318484Z"
    },
    "papermill": {
     "duration": 1.667278,
     "end_time": "2022-09-02T03:40:21.318634",
     "exception": false,
     "start_time": "2022-09-02T03:40:19.651356",
     "status": "completed"
    },
    "tags": []
   },
   "outputs": [
    {
     "data": {
      "image/png": "[encoded data removed]",
      "text/plain": [
       "<Figure size 1080x792 with 2 Axes>"
      ]
     },
     "metadata": {
      "needs_background": "light"
     },
     "output_type": "display_data"
    }
   ],
   "source": [
    "#hide_input\n",
    "plt.figure(figsize=(15, 11))\n",
    "sns.heatmap(df_all[sum_corr].corr(), annot=True, cmap=\"cubehelix\") \n",
    "sns.set(font_scale=1.25)\n",
    "plt.savefig('corr_matrix.png', format='eps')"
   ]
  },
  {
   "cell_type": "code",
   "execution_count": 8,
   "id": "arbitrary-sullivan",
   "metadata": {
    "execution": {
     "iopub.execute_input": "2022-09-02T03:40:21.355153Z",
     "iopub.status.busy": "2022-09-02T03:40:21.354410Z",
     "iopub.status.idle": "2022-09-02T03:40:21.382915Z",
     "shell.execute_reply": "2022-09-02T03:40:21.383520Z"
    },
    "papermill": {
     "duration": 0.048579,
     "end_time": "2022-09-02T03:40:21.383715",
     "exception": false,
     "start_time": "2022-09-02T03:40:21.335136",
     "status": "completed"
    },
    "tags": []
   },
   "outputs": [],
   "source": [
    "#hide\n",
    "#df_all_mrk = read_api()"
   ]
  },
  {
   "cell_type": "code",
   "execution_count": 9,
   "id": "delayed-adapter",
   "metadata": {
    "execution": {
     "iopub.execute_input": "2022-09-02T03:40:21.417454Z",
     "iopub.status.busy": "2022-09-02T03:40:21.416707Z",
     "iopub.status.idle": "2022-09-02T03:40:21.447623Z",
     "shell.execute_reply": "2022-09-02T03:40:21.446947Z"
    },
    "papermill": {
     "duration": 0.048644,
     "end_time": "2022-09-02T03:40:21.447751",
     "exception": false,
     "start_time": "2022-09-02T03:40:21.399107",
     "status": "completed"
    },
    "tags": []
   },
   "outputs": [],
   "source": [
    "#hide\n",
    "#Koreliacijų koeficientai"
   ]
  },
  {
   "cell_type": "code",
   "execution_count": 10,
   "id": "seeing-celebration",
   "metadata": {
    "execution": {
     "iopub.execute_input": "2022-09-02T03:40:21.483903Z",
     "iopub.status.busy": "2022-09-02T03:40:21.483192Z",
     "iopub.status.idle": "2022-09-02T03:40:21.511404Z",
     "shell.execute_reply": "2022-09-02T03:40:21.512086Z"
    },
    "papermill": {
     "duration": 0.049544,
     "end_time": "2022-09-02T03:40:21.512244",
     "exception": false,
     "start_time": "2022-09-02T03:40:21.462700",
     "status": "completed"
    },
    "tags": []
   },
   "outputs": [],
   "source": [
    "#hide_input\n",
    "#sum_corr = df_all_mrk.corr().sum().sort_values(ascending=True).index.values\n",
    "#df_all_mrk[sum_corr].corr()"
   ]
  },
  {
   "cell_type": "code",
   "execution_count": 11,
   "id": "other-painting",
   "metadata": {
    "execution": {
     "iopub.execute_input": "2022-09-02T03:40:21.549238Z",
     "iopub.status.busy": "2022-09-02T03:40:21.548540Z",
     "iopub.status.idle": "2022-09-02T03:40:21.575947Z",
     "shell.execute_reply": "2022-09-02T03:40:21.575290Z"
    },
    "papermill": {
     "duration": 0.048816,
     "end_time": "2022-09-02T03:40:21.576104",
     "exception": false,
     "start_time": "2022-09-02T03:40:21.527288",
     "status": "completed"
    },
    "tags": []
   },
   "outputs": [],
   "source": [
    "#hide\n",
    "#Koreliacijos matrica. "
   ]
  },
  {
   "cell_type": "code",
   "execution_count": 12,
   "id": "modular-magnitude",
   "metadata": {
    "execution": {
     "iopub.execute_input": "2022-09-02T03:40:21.617200Z",
     "iopub.status.busy": "2022-09-02T03:40:21.616498Z",
     "iopub.status.idle": "2022-09-02T03:40:21.645503Z",
     "shell.execute_reply": "2022-09-02T03:40:21.644916Z"
    },
    "papermill": {
     "duration": 0.048712,
     "end_time": "2022-09-02T03:40:21.645626",
     "exception": false,
     "start_time": "2022-09-02T03:40:21.596914",
     "status": "completed"
    },
    "tags": []
   },
   "outputs": [],
   "source": [
    "#hide_input\n",
    "#plt.figure(figsize=(15, 8))\n",
    "#sns.heatmap(df_all_mrk[sum_corr].corr(), annot=True, cmap=\"BrBG\");\n",
    "#plt.savefig('corr_matrix_all.eps', format='eps')"
   ]
  },
  {
   "cell_type": "code",
   "execution_count": null,
   "id": "original-senator",
   "metadata": {
    "papermill": {
     "duration": 0.015291,
     "end_time": "2022-09-02T03:40:21.677054",
     "exception": false,
     "start_time": "2022-09-02T03:40:21.661763",
     "status": "completed"
    },
    "tags": []
   },
   "outputs": [],
   "source": []
  },
  {
   "cell_type": "code",
   "execution_count": null,
   "id": "saving-secretariat",
   "metadata": {
    "papermill": {
     "duration": 0.015094,
     "end_time": "2022-09-02T03:40:21.707540",
     "exception": false,
     "start_time": "2022-09-02T03:40:21.692446",
     "status": "completed"
    },
    "tags": []
   },
   "outputs": [],
   "source": []
  }
 ],
 "metadata": {
  "kernelspec": {
   "display_name": "Python 3",
   "language": "python",
   "name": "python3"
  },
  "language_info": {
   "codemirror_mode": {
    "name": "ipython",
    "version": 3
   },
   "file_extension": ".py",
   "mimetype": "text/x-python",
   "name": "python",
   "nbconvert_exporter": "python",
   "pygments_lexer": "ipython3",
   "version": "3.6.15"
  },
  "papermill": {
   "default_parameters": {},
   "duration": 22.197053,
   "end_time": "2022-09-02T03:40:22.243202",
   "environment_variables": {},
   "exception": null,
   "input_path": "App-Correlation_charts.ipynb",
   "output_path": "App-Correlation_charts.ipynb",
   "parameters": {},
   "start_time": "2022-09-02T03:40:00.046149",
   "version": "2.2.2"
  }
 },
 "nbformat": 4,
 "nbformat_minor": 5
}