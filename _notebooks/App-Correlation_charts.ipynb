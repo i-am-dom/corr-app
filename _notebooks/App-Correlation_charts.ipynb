{
 "cells": [
  {
   "cell_type": "markdown",
   "id": "touched-facility",
   "metadata": {
    "papermill": {
     "duration": 0.019691,
     "end_time": "2021-11-17T01:58:19.138184",
     "exception": false,
     "start_time": "2021-11-17T01:58:19.118493",
     "status": "completed"
    },
    "tags": []
   },
   "source": [
    "# Koreliacijų matrica\n",
    "> Išplėstinė koreliacijų matrica. \n",
    "\n",
    "- toc: true \n",
    "- badges: true\n",
    "- comments: false\n",
    "- categories: [Dominykas Tautkus]\n",
    "- image: images/matrix.png"
   ]
  },
  {
   "cell_type": "code",
   "execution_count": null,
   "id": "premium-weekend",
   "metadata": {
    "papermill": {
     "duration": 0.012149,
     "end_time": "2021-11-17T01:58:19.162841",
     "exception": false,
     "start_time": "2021-11-17T01:58:19.150692",
     "status": "completed"
    },
    "tags": []
   },
   "outputs": [],
   "source": []
  },
  {
   "cell_type": "code",
   "execution_count": 1,
   "id": "vertical-rebate",
   "metadata": {
    "execution": {
     "iopub.execute_input": "2021-11-17T01:58:19.198546Z",
     "iopub.status.busy": "2021-11-17T01:58:19.197943Z",
     "iopub.status.idle": "2021-11-17T01:58:19.209226Z",
     "shell.execute_reply": "2021-11-17T01:58:19.209722Z"
    },
    "papermill": {
     "duration": 0.034712,
     "end_time": "2021-11-17T01:58:19.209892",
     "exception": false,
     "start_time": "2021-11-17T01:58:19.175180",
     "status": "completed"
    },
    "tags": []
   },
   "outputs": [],
   "source": [
    "#hide\n",
    "%load_ext autoreload\n",
    "%autoreload 2"
   ]
  },
  {
   "cell_type": "code",
   "execution_count": 2,
   "id": "overall-advancement",
   "metadata": {
    "execution": {
     "iopub.execute_input": "2021-11-17T01:58:19.237743Z",
     "iopub.status.busy": "2021-11-17T01:58:19.237112Z",
     "iopub.status.idle": "2021-11-17T01:58:20.839322Z",
     "shell.execute_reply": "2021-11-17T01:58:20.839817Z"
    },
    "papermill": {
     "duration": 1.618248,
     "end_time": "2021-11-17T01:58:20.839986",
     "exception": false,
     "start_time": "2021-11-17T01:58:19.221738",
     "status": "completed"
    },
    "tags": []
   },
   "outputs": [],
   "source": [
    "#hide\n",
    "from scripts.read_data import read_api\n",
    "from IPython.display import HTML\n",
    "import plotly.graph_objects as go\n"
   ]
  },
  {
   "cell_type": "code",
   "execution_count": 3,
   "id": "light-crazy",
   "metadata": {
    "execution": {
     "iopub.execute_input": "2021-11-17T01:58:20.872628Z",
     "iopub.status.busy": "2021-11-17T01:58:20.870112Z",
     "iopub.status.idle": "2021-11-17T01:58:20.895532Z",
     "shell.execute_reply": "2021-11-17T01:58:20.896030Z"
    },
    "papermill": {
     "duration": 0.043714,
     "end_time": "2021-11-17T01:58:20.896201",
     "exception": false,
     "start_time": "2021-11-17T01:58:20.852487",
     "status": "completed"
    },
    "tags": []
   },
   "outputs": [],
   "source": [
    "#hide\n",
    "### ICO koreliacija"
   ]
  },
  {
   "cell_type": "code",
   "execution_count": 4,
   "id": "likely-bahrain",
   "metadata": {
    "execution": {
     "iopub.execute_input": "2021-11-17T01:58:20.934001Z",
     "iopub.status.busy": "2021-11-17T01:58:20.925965Z",
     "iopub.status.idle": "2021-11-17T01:58:21.950781Z",
     "shell.execute_reply": "2021-11-17T01:58:21.949886Z"
    },
    "papermill": {
     "duration": 1.042317,
     "end_time": "2021-11-17T01:58:21.951001",
     "exception": false,
     "start_time": "2021-11-17T01:58:20.908684",
     "status": "completed"
    },
    "tags": []
   },
   "outputs": [],
   "source": [
    "#hide\n",
    "import matplotlib.pyplot as plt\n",
    "import numpy as np\n",
    "import pandas as pd\n",
    "import seaborn as sns\n",
    "import matplotlib.pyplot as plt \n",
    "import matplotlib.dates as mdates\n",
    "import matplotlib.pyplot as plt"
   ]
  },
  {
   "cell_type": "code",
   "execution_count": 5,
   "id": "superior-blanket",
   "metadata": {
    "execution": {
     "iopub.execute_input": "2021-11-17T01:58:21.982118Z",
     "iopub.status.busy": "2021-11-17T01:58:21.980330Z",
     "iopub.status.idle": "2021-11-17T01:58:34.938045Z",
     "shell.execute_reply": "2021-11-17T01:58:34.937503Z"
    },
    "papermill": {
     "duration": 12.974708,
     "end_time": "2021-11-17T01:58:34.938176",
     "exception": false,
     "start_time": "2021-11-17T01:58:21.963468",
     "status": "completed"
    },
    "tags": []
   },
   "outputs": [
    {
     "name": "stderr",
     "output_type": "stream",
     "text": [
      "/home/runner/work/corr-app/corr-app/_notebooks/scripts/read_data.py:187: SettingWithCopyWarning:\n",
      "\n",
      "\n",
      "A value is trying to be set on a copy of a slice from a DataFrame.\n",
      "Try using .loc[row_indexer,col_indexer] = value instead\n",
      "\n",
      "See the caveats in the documentation: https://pandas.pydata.org/pandas-docs/stable/user_guide/indexing.html#returning-a-view-versus-a-copy\n",
      "\n"
     ]
    },
    {
     "name": "stderr",
     "output_type": "stream",
     "text": [
      "/home/runner/work/corr-app/corr-app/_notebooks/scripts/read_data.py:215: SettingWithCopyWarning:\n",
      "\n",
      "\n",
      "A value is trying to be set on a copy of a slice from a DataFrame.\n",
      "Try using .loc[row_indexer,col_indexer] = value instead\n",
      "\n",
      "See the caveats in the documentation: https://pandas.pydata.org/pandas-docs/stable/user_guide/indexing.html#returning-a-view-versus-a-copy\n",
      "\n"
     ]
    }
   ],
   "source": [
    "#hide\n",
    "df_all = read_api()\n",
    "#df_all = df_all.drop(['SP500', 'XAU', 'ETH', 'BTC'], axis=1)\n",
    "\n"
   ]
  },
  {
   "cell_type": "code",
   "execution_count": 6,
   "id": "mature-alert",
   "metadata": {
    "execution": {
     "iopub.execute_input": "2021-11-17T01:58:34.967916Z",
     "iopub.status.busy": "2021-11-17T01:58:34.967350Z",
     "iopub.status.idle": "2021-11-17T01:58:35.000330Z",
     "shell.execute_reply": "2021-11-17T01:58:34.999479Z"
    },
    "papermill": {
     "duration": 0.050114,
     "end_time": "2021-11-17T01:58:35.000540",
     "exception": false,
     "start_time": "2021-11-17T01:58:34.950426",
     "status": "completed"
    },
    "tags": []
   },
   "outputs": [],
   "source": [
    "#hide_input\n",
    "sum_corr = df_all.corr().sum().sort_values(ascending=True).index.values\n",
    "#df_all[sum_corr].corr()"
   ]
  },
  {
   "cell_type": "markdown",
   "id": "complex-syndicate",
   "metadata": {
    "papermill": {
     "duration": 0.012432,
     "end_time": "2021-11-17T01:58:35.028443",
     "exception": false,
     "start_time": "2021-11-17T01:58:35.016011",
     "status": "completed"
    },
    "tags": []
   },
   "source": [
    "## Išplėstinė koreliacijų matrica. "
   ]
  },
  {
   "cell_type": "code",
   "execution_count": 7,
   "id": "atomic-omaha",
   "metadata": {
    "execution": {
     "iopub.execute_input": "2021-11-17T01:58:35.059216Z",
     "iopub.status.busy": "2021-11-17T01:58:35.058666Z",
     "iopub.status.idle": "2021-11-17T01:58:36.348227Z",
     "shell.execute_reply": "2021-11-17T01:58:36.347680Z"
    },
    "papermill": {
     "duration": 1.307577,
     "end_time": "2021-11-17T01:58:36.348355",
     "exception": false,
     "start_time": "2021-11-17T01:58:35.040778",
     "status": "completed"
    },
    "tags": []
   },
   "outputs": [
    {
     "data": {
      "image/png": "[encoded data removed]",
      "text/plain": [
       "<Figure size 1080x792 with 2 Axes>"
      ]
     },
     "metadata": {
      "needs_background": "light"
     },
     "output_type": "display_data"
    }
   ],
   "source": [
    "#hide_input\n",
    "plt.figure(figsize=(15, 11))\n",
    "sns.heatmap(df_all[sum_corr].corr(), annot=True, cmap=\"cubehelix\") \n",
    "sns.set(font_scale=1.25)\n",
    "plt.savefig('corr_matrix.png', format='eps')"
   ]
  },
  {
   "cell_type": "code",
   "execution_count": 8,
   "id": "arbitrary-sullivan",
   "metadata": {
    "execution": {
     "iopub.execute_input": "2021-11-17T01:58:36.380098Z",
     "iopub.status.busy": "2021-11-17T01:58:36.379607Z",
     "iopub.status.idle": "2021-11-17T01:58:36.410038Z",
     "shell.execute_reply": "2021-11-17T01:58:36.409250Z"
    },
    "papermill": {
     "duration": 0.046982,
     "end_time": "2021-11-17T01:58:36.410228",
     "exception": false,
     "start_time": "2021-11-17T01:58:36.363246",
     "status": "completed"
    },
    "tags": []
   },
   "outputs": [],
   "source": [
    "#hide\n",
    "#df_all_mrk = read_api()"
   ]
  },
  {
   "cell_type": "code",
   "execution_count": 9,
   "id": "delayed-adapter",
   "metadata": {
    "execution": {
     "iopub.execute_input": "2021-11-17T01:58:36.447250Z",
     "iopub.status.busy": "2021-11-17T01:58:36.446658Z",
     "iopub.status.idle": "2021-11-17T01:58:36.475232Z",
     "shell.execute_reply": "2021-11-17T01:58:36.474597Z"
    },
    "papermill": {
     "duration": 0.048745,
     "end_time": "2021-11-17T01:58:36.475381",
     "exception": false,
     "start_time": "2021-11-17T01:58:36.426636",
     "status": "completed"
    },
    "tags": []
   },
   "outputs": [],
   "source": [
    "#hide\n",
    "#Koreliacijų koeficientai"
   ]
  },
  {
   "cell_type": "code",
   "execution_count": 10,
   "id": "seeing-celebration",
   "metadata": {
    "execution": {
     "iopub.execute_input": "2021-11-17T01:58:36.510237Z",
     "iopub.status.busy": "2021-11-17T01:58:36.509640Z",
     "iopub.status.idle": "2021-11-17T01:58:36.541668Z",
     "shell.execute_reply": "2021-11-17T01:58:36.540789Z"
    },
    "papermill": {
     "duration": 0.051728,
     "end_time": "2021-11-17T01:58:36.541879",
     "exception": false,
     "start_time": "2021-11-17T01:58:36.490151",
     "status": "completed"
    },
    "tags": []
   },
   "outputs": [],
   "source": [
    "#hide_input\n",
    "#sum_corr = df_all_mrk.corr().sum().sort_values(ascending=True).index.values\n",
    "#df_all_mrk[sum_corr].corr()"
   ]
  },
  {
   "cell_type": "code",
   "execution_count": 11,
   "id": "other-painting",
   "metadata": {
    "execution": {
     "iopub.execute_input": "2021-11-17T01:58:36.577696Z",
     "iopub.status.busy": "2021-11-17T01:58:36.577105Z",
     "iopub.status.idle": "2021-11-17T01:58:36.605884Z",
     "shell.execute_reply": "2021-11-17T01:58:36.605412Z"
    },
    "papermill": {
     "duration": 0.047223,
     "end_time": "2021-11-17T01:58:36.606001",
     "exception": false,
     "start_time": "2021-11-17T01:58:36.558778",
     "status": "completed"
    },
    "tags": []
   },
   "outputs": [],
   "source": [
    "#hide\n",
    "#Koreliacijos matrica. "
   ]
  },
  {
   "cell_type": "code",
   "execution_count": 12,
   "id": "modular-magnitude",
   "metadata": {
    "execution": {
     "iopub.execute_input": "2021-11-17T01:58:36.639719Z",
     "iopub.status.busy": "2021-11-17T01:58:36.639159Z",
     "iopub.status.idle": "2021-11-17T01:58:36.667317Z",
     "shell.execute_reply": "2021-11-17T01:58:36.667908Z"
    },
    "papermill": {
     "duration": 0.047435,
     "end_time": "2021-11-17T01:58:36.668081",
     "exception": false,
     "start_time": "2021-11-17T01:58:36.620646",
     "status": "completed"
    },
    "tags": []
   },
   "outputs": [],
   "source": [
    "#hide_input\n",
    "#plt.figure(figsize=(15, 8))\n",
    "#sns.heatmap(df_all_mrk[sum_corr].corr(), annot=True, cmap=\"BrBG\");\n",
    "#plt.savefig('corr_matrix_all.eps', format='eps')"
   ]
  },
  {
   "cell_type": "code",
   "execution_count": null,
   "id": "original-senator",
   "metadata": {
    "papermill": {
     "duration": 0.014661,
     "end_time": "2021-11-17T01:58:36.697710",
     "exception": false,
     "start_time": "2021-11-17T01:58:36.683049",
     "status": "completed"
    },
    "tags": []
   },
   "outputs": [],
   "source": []
  },
  {
   "cell_type": "code",
   "execution_count": null,
   "id": "saving-secretariat",
   "metadata": {
    "papermill": {
     "duration": 0.014393,
     "end_time": "2021-11-17T01:58:36.726522",
     "exception": false,
     "start_time": "2021-11-17T01:58:36.712129",
     "status": "completed"
    },
    "tags": []
   },
   "outputs": [],
   "source": []
  }
 ],
 "metadata": {
  "kernelspec": {
   "display_name": "Python 3",
   "language": "python",
   "name": "python3"
  },
  "language_info": {
   "codemirror_mode": {
    "name": "ipython",
    "version": 3
   },
   "file_extension": ".py",
   "mimetype": "text/x-python",
   "name": "python",
   "nbconvert_exporter": "python",
   "pygments_lexer": "ipython3",
   "version": "3.6.15"
  },
  "papermill": {
   "default_parameters": {},
   "duration": 19.205901,
   "end_time": "2021-11-17T01:58:37.251639",
   "environment_variables": {},
   "exception": null,
   "input_path": "App-Correlation_charts.ipynb",
   "output_path": "App-Correlation_charts.ipynb",
   "parameters": {},
   "start_time": "2021-11-17T01:58:18.045738",
   "version": "2.2.2"
  }
 },
 "nbformat": 4,
 "nbformat_minor": 5
}