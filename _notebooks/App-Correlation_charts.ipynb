{
 "cells": [
  {
   "cell_type": "markdown",
   "id": "touched-facility",
   "metadata": {
    "papermill": {
     "duration": 0.014883,
     "end_time": "2022-08-26T03:42:39.992230",
     "exception": false,
     "start_time": "2022-08-26T03:42:39.977347",
     "status": "completed"
    },
    "tags": []
   },
   "source": [
    "# Koreliacijų matrica\n",
    "> Išplėstinė koreliacijų matrica. \n",
    "\n",
    "- toc: true \n",
    "- badges: true\n",
    "- comments: false\n",
    "- categories: [Dominykas Tautkus]\n",
    "- image: images/matrix.png"
   ]
  },
  {
   "cell_type": "code",
   "execution_count": null,
   "id": "premium-weekend",
   "metadata": {
    "papermill": {
     "duration": 0.011502,
     "end_time": "2022-08-26T03:42:40.015463",
     "exception": false,
     "start_time": "2022-08-26T03:42:40.003961",
     "status": "completed"
    },
    "tags": []
   },
   "outputs": [],
   "source": []
  },
  {
   "cell_type": "code",
   "execution_count": 1,
   "id": "vertical-rebate",
   "metadata": {
    "execution": {
     "iopub.execute_input": "2022-08-26T03:42:40.047583Z",
     "iopub.status.busy": "2022-08-26T03:42:40.046988Z",
     "iopub.status.idle": "2022-08-26T03:42:40.057845Z",
     "shell.execute_reply": "2022-08-26T03:42:40.057255Z"
    },
    "papermill": {
     "duration": 0.031746,
     "end_time": "2022-08-26T03:42:40.057964",
     "exception": false,
     "start_time": "2022-08-26T03:42:40.026218",
     "status": "completed"
    },
    "tags": []
   },
   "outputs": [],
   "source": [
    "#hide\n",
    "%load_ext autoreload\n",
    "%autoreload 2"
   ]
  },
  {
   "cell_type": "code",
   "execution_count": 2,
   "id": "overall-advancement",
   "metadata": {
    "execution": {
     "iopub.execute_input": "2022-08-26T03:42:40.082211Z",
     "iopub.status.busy": "2022-08-26T03:42:40.081634Z",
     "iopub.status.idle": "2022-08-26T03:42:41.616214Z",
     "shell.execute_reply": "2022-08-26T03:42:41.616795Z"
    },
    "papermill": {
     "duration": 1.548476,
     "end_time": "2022-08-26T03:42:41.616960",
     "exception": false,
     "start_time": "2022-08-26T03:42:40.068484",
     "status": "completed"
    },
    "tags": []
   },
   "outputs": [],
   "source": [
    "#hide\n",
    "from scripts.read_data import read_api\n",
    "from IPython.display import HTML\n",
    "import plotly.graph_objects as go\n"
   ]
  },
  {
   "cell_type": "code",
   "execution_count": 3,
   "id": "light-crazy",
   "metadata": {
    "execution": {
     "iopub.execute_input": "2022-08-26T03:42:41.648491Z",
     "iopub.status.busy": "2022-08-26T03:42:41.647384Z",
     "iopub.status.idle": "2022-08-26T03:42:41.667102Z",
     "shell.execute_reply": "2022-08-26T03:42:41.667541Z"
    },
    "papermill": {
     "duration": 0.039475,
     "end_time": "2022-08-26T03:42:41.667677",
     "exception": false,
     "start_time": "2022-08-26T03:42:41.628202",
     "status": "completed"
    },
    "tags": []
   },
   "outputs": [],
   "source": [
    "#hide\n",
    "### ICO koreliacija"
   ]
  },
  {
   "cell_type": "code",
   "execution_count": 4,
   "id": "likely-bahrain",
   "metadata": {
    "execution": {
     "iopub.execute_input": "2022-08-26T03:42:41.698147Z",
     "iopub.status.busy": "2022-08-26T03:42:41.697198Z",
     "iopub.status.idle": "2022-08-26T03:42:42.524652Z",
     "shell.execute_reply": "2022-08-26T03:42:42.523638Z"
    },
    "papermill": {
     "duration": 0.846474,
     "end_time": "2022-08-26T03:42:42.524797",
     "exception": false,
     "start_time": "2022-08-26T03:42:41.678323",
     "status": "completed"
    },
    "tags": []
   },
   "outputs": [],
   "source": [
    "#hide\n",
    "import matplotlib.pyplot as plt\n",
    "import numpy as np\n",
    "import pandas as pd\n",
    "import seaborn as sns\n",
    "import matplotlib.pyplot as plt \n",
    "import matplotlib.dates as mdates\n",
    "import matplotlib.pyplot as plt"
   ]
  },
  {
   "cell_type": "code",
   "execution_count": 5,
   "id": "superior-blanket",
   "metadata": {
    "execution": {
     "iopub.execute_input": "2022-08-26T03:42:42.553706Z",
     "iopub.status.busy": "2022-08-26T03:42:42.550909Z",
     "iopub.status.idle": "2022-08-26T03:42:53.584104Z",
     "shell.execute_reply": "2022-08-26T03:42:53.583547Z"
    },
    "papermill": {
     "duration": 11.048549,
     "end_time": "2022-08-26T03:42:53.584231",
     "exception": false,
     "start_time": "2022-08-26T03:42:42.535682",
     "status": "completed"
    },
    "tags": []
   },
   "outputs": [
    {
     "name": "stderr",
     "output_type": "stream",
     "text": [
      "/home/runner/work/corr-app/corr-app/_notebooks/scripts/read_data.py:187: SettingWithCopyWarning:\n",
      "\n",
      "\n",
      "A value is trying to be set on a copy of a slice from a DataFrame.\n",
      "Try using .loc[row_indexer,col_indexer] = value instead\n",
      "\n",
      "See the caveats in the documentation: https://pandas.pydata.org/pandas-docs/stable/user_guide/indexing.html#returning-a-view-versus-a-copy\n",
      "\n"
     ]
    },
    {
     "name": "stderr",
     "output_type": "stream",
     "text": [
      "/home/runner/work/corr-app/corr-app/_notebooks/scripts/read_data.py:215: SettingWithCopyWarning:\n",
      "\n",
      "\n",
      "A value is trying to be set on a copy of a slice from a DataFrame.\n",
      "Try using .loc[row_indexer,col_indexer] = value instead\n",
      "\n",
      "See the caveats in the documentation: https://pandas.pydata.org/pandas-docs/stable/user_guide/indexing.html#returning-a-view-versus-a-copy\n",
      "\n"
     ]
    }
   ],
   "source": [
    "#hide\n",
    "df_all = read_api()\n",
    "#df_all = df_all.drop(['SP500', 'XAU', 'ETH', 'BTC'], axis=1)\n",
    "\n"
   ]
  },
  {
   "cell_type": "code",
   "execution_count": 6,
   "id": "mature-alert",
   "metadata": {
    "execution": {
     "iopub.execute_input": "2022-08-26T03:42:53.613962Z",
     "iopub.status.busy": "2022-08-26T03:42:53.613359Z",
     "iopub.status.idle": "2022-08-26T03:42:53.644794Z",
     "shell.execute_reply": "2022-08-26T03:42:53.645241Z"
    },
    "papermill": {
     "duration": 0.048583,
     "end_time": "2022-08-26T03:42:53.645377",
     "exception": false,
     "start_time": "2022-08-26T03:42:53.596794",
     "status": "completed"
    },
    "tags": []
   },
   "outputs": [],
   "source": [
    "#hide_input\n",
    "sum_corr = df_all.corr().sum().sort_values(ascending=True).index.values\n",
    "#df_all[sum_corr].corr()"
   ]
  },
  {
   "cell_type": "markdown",
   "id": "complex-syndicate",
   "metadata": {
    "papermill": {
     "duration": 0.011107,
     "end_time": "2022-08-26T03:42:53.667722",
     "exception": false,
     "start_time": "2022-08-26T03:42:53.656615",
     "status": "completed"
    },
    "tags": []
   },
   "source": [
    "## Išplėstinė koreliacijų matrica. "
   ]
  },
  {
   "cell_type": "code",
   "execution_count": 7,
   "id": "atomic-omaha",
   "metadata": {
    "execution": {
     "iopub.execute_input": "2022-08-26T03:42:53.694176Z",
     "iopub.status.busy": "2022-08-26T03:42:53.693573Z",
     "iopub.status.idle": "2022-08-26T03:42:54.926707Z",
     "shell.execute_reply": "2022-08-26T03:42:54.926211Z"
    },
    "papermill": {
     "duration": 1.247911,
     "end_time": "2022-08-26T03:42:54.926826",
     "exception": false,
     "start_time": "2022-08-26T03:42:53.678915",
     "status": "completed"
    },
    "tags": []
   },
   "outputs": [
    {
     "data": {
      "image/png": "[encoded data removed]",
      "text/plain": [
       "<Figure size 1080x792 with 2 Axes>"
      ]
     },
     "metadata": {
      "needs_background": "light"
     },
     "output_type": "display_data"
    }
   ],
   "source": [
    "#hide_input\n",
    "plt.figure(figsize=(15, 11))\n",
    "sns.heatmap(df_all[sum_corr].corr(), annot=True, cmap=\"cubehelix\") \n",
    "sns.set(font_scale=1.25)\n",
    "plt.savefig('corr_matrix.png', format='eps')"
   ]
  },
  {
   "cell_type": "code",
   "execution_count": 8,
   "id": "arbitrary-sullivan",
   "metadata": {
    "execution": {
     "iopub.execute_input": "2022-08-26T03:42:54.966136Z",
     "iopub.status.busy": "2022-08-26T03:42:54.962782Z",
     "iopub.status.idle": "2022-08-26T03:42:54.988939Z",
     "shell.execute_reply": "2022-08-26T03:42:54.989371Z"
    },
    "papermill": {
     "duration": 0.044953,
     "end_time": "2022-08-26T03:42:54.989505",
     "exception": false,
     "start_time": "2022-08-26T03:42:54.944552",
     "status": "completed"
    },
    "tags": []
   },
   "outputs": [],
   "source": [
    "#hide\n",
    "#df_all_mrk = read_api()"
   ]
  },
  {
   "cell_type": "code",
   "execution_count": 9,
   "id": "delayed-adapter",
   "metadata": {
    "execution": {
     "iopub.execute_input": "2022-08-26T03:42:55.028887Z",
     "iopub.status.busy": "2022-08-26T03:42:55.018469Z",
     "iopub.status.idle": "2022-08-26T03:42:55.048825Z",
     "shell.execute_reply": "2022-08-26T03:42:55.049277Z"
    },
    "papermill": {
     "duration": 0.046669,
     "end_time": "2022-08-26T03:42:55.049405",
     "exception": false,
     "start_time": "2022-08-26T03:42:55.002736",
     "status": "completed"
    },
    "tags": []
   },
   "outputs": [],
   "source": [
    "#hide\n",
    "#Koreliacijų koeficientai"
   ]
  },
  {
   "cell_type": "code",
   "execution_count": 10,
   "id": "seeing-celebration",
   "metadata": {
    "execution": {
     "iopub.execute_input": "2022-08-26T03:42:55.089739Z",
     "iopub.status.busy": "2022-08-26T03:42:55.088781Z",
     "iopub.status.idle": "2022-08-26T03:42:55.108952Z",
     "shell.execute_reply": "2022-08-26T03:42:55.108390Z"
    },
    "papermill": {
     "duration": 0.046251,
     "end_time": "2022-08-26T03:42:55.109062",
     "exception": false,
     "start_time": "2022-08-26T03:42:55.062811",
     "status": "completed"
    },
    "tags": []
   },
   "outputs": [],
   "source": [
    "#hide_input\n",
    "#sum_corr = df_all_mrk.corr().sum().sort_values(ascending=True).index.values\n",
    "#df_all_mrk[sum_corr].corr()"
   ]
  },
  {
   "cell_type": "code",
   "execution_count": 11,
   "id": "other-painting",
   "metadata": {
    "execution": {
     "iopub.execute_input": "2022-08-26T03:42:55.145163Z",
     "iopub.status.busy": "2022-08-26T03:42:55.144594Z",
     "iopub.status.idle": "2022-08-26T03:42:55.167065Z",
     "shell.execute_reply": "2022-08-26T03:42:55.166595Z"
    },
    "papermill": {
     "duration": 0.045037,
     "end_time": "2022-08-26T03:42:55.167170",
     "exception": false,
     "start_time": "2022-08-26T03:42:55.122133",
     "status": "completed"
    },
    "tags": []
   },
   "outputs": [],
   "source": [
    "#hide\n",
    "#Koreliacijos matrica. "
   ]
  },
  {
   "cell_type": "code",
   "execution_count": 12,
   "id": "modular-magnitude",
   "metadata": {
    "execution": {
     "iopub.execute_input": "2022-08-26T03:42:55.196851Z",
     "iopub.status.busy": "2022-08-26T03:42:55.196254Z",
     "iopub.status.idle": "2022-08-26T03:42:55.222002Z",
     "shell.execute_reply": "2022-08-26T03:42:55.222516Z"
    },
    "papermill": {
     "duration": 0.042337,
     "end_time": "2022-08-26T03:42:55.222651",
     "exception": false,
     "start_time": "2022-08-26T03:42:55.180314",
     "status": "completed"
    },
    "tags": []
   },
   "outputs": [],
   "source": [
    "#hide_input\n",
    "#plt.figure(figsize=(15, 8))\n",
    "#sns.heatmap(df_all_mrk[sum_corr].corr(), annot=True, cmap=\"BrBG\");\n",
    "#plt.savefig('corr_matrix_all.eps', format='eps')"
   ]
  },
  {
   "cell_type": "code",
   "execution_count": null,
   "id": "original-senator",
   "metadata": {
    "papermill": {
     "duration": 0.013062,
     "end_time": "2022-08-26T03:42:55.249856",
     "exception": false,
     "start_time": "2022-08-26T03:42:55.236794",
     "status": "completed"
    },
    "tags": []
   },
   "outputs": [],
   "source": []
  },
  {
   "cell_type": "code",
   "execution_count": null,
   "id": "saving-secretariat",
   "metadata": {
    "papermill": {
     "duration": 0.013065,
     "end_time": "2022-08-26T03:42:55.276369",
     "exception": false,
     "start_time": "2022-08-26T03:42:55.263304",
     "status": "completed"
    },
    "tags": []
   },
   "outputs": [],
   "source": []
  }
 ],
 "metadata": {
  "kernelspec": {
   "display_name": "Python 3",
   "language": "python",
   "name": "python3"
  },
  "language_info": {
   "codemirror_mode": {
    "name": "ipython",
    "version": 3
   },
   "file_extension": ".py",
   "mimetype": "text/x-python",
   "name": "python",
   "nbconvert_exporter": "python",
   "pygments_lexer": "ipython3",
   "version": "3.6.15"
  },
  "papermill": {
   "default_parameters": {},
   "duration": 16.767601,
   "end_time": "2022-08-26T03:42:55.808185",
   "environment_variables": {},
   "exception": null,
   "input_path": "App-Correlation_charts.ipynb",
   "output_path": "App-Correlation_charts.ipynb",
   "parameters": {},
   "start_time": "2022-08-26T03:42:39.040584",
   "version": "2.2.2"
  }
 },
 "nbformat": 4,
 "nbformat_minor": 5
}