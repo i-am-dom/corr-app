{
 "cells": [
  {
   "cell_type": "markdown",
   "id": "touched-facility",
   "metadata": {
    "papermill": {
     "duration": 0.017407,
     "end_time": "2021-09-23T02:04:02.783924",
     "exception": false,
     "start_time": "2021-09-23T02:04:02.766517",
     "status": "completed"
    },
    "tags": []
   },
   "source": [
    "# Koreliacijų matrica\n",
    "> Išplėstinė koreliacijų matrica. \n",
    "\n",
    "- toc: true \n",
    "- badges: true\n",
    "- comments: false\n",
    "- categories: [Dominykas Tautkus]\n",
    "- image: images/matrix.png"
   ]
  },
  {
   "cell_type": "code",
   "execution_count": null,
   "id": "premium-weekend",
   "metadata": {
    "papermill": {
     "duration": 0.012826,
     "end_time": "2021-09-23T02:04:02.811626",
     "exception": false,
     "start_time": "2021-09-23T02:04:02.798800",
     "status": "completed"
    },
    "tags": []
   },
   "outputs": [],
   "source": []
  },
  {
   "cell_type": "code",
   "execution_count": 1,
   "id": "vertical-rebate",
   "metadata": {
    "execution": {
     "iopub.execute_input": "2021-09-23T02:04:02.850301Z",
     "iopub.status.busy": "2021-09-23T02:04:02.848788Z",
     "iopub.status.idle": "2021-09-23T02:04:02.860920Z",
     "shell.execute_reply": "2021-09-23T02:04:02.860439Z"
    },
    "papermill": {
     "duration": 0.036331,
     "end_time": "2021-09-23T02:04:02.861060",
     "exception": false,
     "start_time": "2021-09-23T02:04:02.824729",
     "status": "completed"
    },
    "tags": []
   },
   "outputs": [],
   "source": [
    "#hide\n",
    "%load_ext autoreload\n",
    "%autoreload 2"
   ]
  },
  {
   "cell_type": "code",
   "execution_count": 2,
   "id": "overall-advancement",
   "metadata": {
    "execution": {
     "iopub.execute_input": "2021-09-23T02:04:02.890960Z",
     "iopub.status.busy": "2021-09-23T02:04:02.890321Z",
     "iopub.status.idle": "2021-09-23T02:04:04.406299Z",
     "shell.execute_reply": "2021-09-23T02:04:04.405680Z"
    },
    "papermill": {
     "duration": 1.532407,
     "end_time": "2021-09-23T02:04:04.406428",
     "exception": false,
     "start_time": "2021-09-23T02:04:02.874021",
     "status": "completed"
    },
    "tags": []
   },
   "outputs": [],
   "source": [
    "#hide\n",
    "from scripts.read_data import read_api\n",
    "from IPython.display import HTML\n",
    "import plotly.graph_objects as go\n"
   ]
  },
  {
   "cell_type": "code",
   "execution_count": 3,
   "id": "light-crazy",
   "metadata": {
    "execution": {
     "iopub.execute_input": "2021-09-23T02:04:04.438169Z",
     "iopub.status.busy": "2021-09-23T02:04:04.437390Z",
     "iopub.status.idle": "2021-09-23T02:04:04.464127Z",
     "shell.execute_reply": "2021-09-23T02:04:04.463567Z"
    },
    "papermill": {
     "duration": 0.044026,
     "end_time": "2021-09-23T02:04:04.464310",
     "exception": false,
     "start_time": "2021-09-23T02:04:04.420284",
     "status": "completed"
    },
    "tags": []
   },
   "outputs": [],
   "source": [
    "#hide\n",
    "### ICO koreliacija"
   ]
  },
  {
   "cell_type": "code",
   "execution_count": 4,
   "id": "likely-bahrain",
   "metadata": {
    "execution": {
     "iopub.execute_input": "2021-09-23T02:04:04.498374Z",
     "iopub.status.busy": "2021-09-23T02:04:04.497669Z",
     "iopub.status.idle": "2021-09-23T02:04:05.440668Z",
     "shell.execute_reply": "2021-09-23T02:04:05.440111Z"
    },
    "papermill": {
     "duration": 0.961179,
     "end_time": "2021-09-23T02:04:05.440807",
     "exception": false,
     "start_time": "2021-09-23T02:04:04.479628",
     "status": "completed"
    },
    "tags": []
   },
   "outputs": [],
   "source": [
    "#hide\n",
    "import matplotlib.pyplot as plt\n",
    "import numpy as np\n",
    "import pandas as pd\n",
    "import seaborn as sns\n",
    "import matplotlib.pyplot as plt \n",
    "import matplotlib.dates as mdates\n",
    "import matplotlib.pyplot as plt"
   ]
  },
  {
   "cell_type": "code",
   "execution_count": 5,
   "id": "superior-blanket",
   "metadata": {
    "execution": {
     "iopub.execute_input": "2021-09-23T02:04:05.474578Z",
     "iopub.status.busy": "2021-09-23T02:04:05.473912Z",
     "iopub.status.idle": "2021-09-23T02:04:16.768286Z",
     "shell.execute_reply": "2021-09-23T02:04:16.767738Z"
    },
    "papermill": {
     "duration": 11.313566,
     "end_time": "2021-09-23T02:04:16.768450",
     "exception": false,
     "start_time": "2021-09-23T02:04:05.454884",
     "status": "completed"
    },
    "tags": []
   },
   "outputs": [
    {
     "name": "stderr",
     "output_type": "stream",
     "text": [
      "/home/runner/work/corr-app/corr-app/_notebooks/scripts/read_data.py:187: SettingWithCopyWarning:\n",
      "\n",
      "\n",
      "A value is trying to be set on a copy of a slice from a DataFrame.\n",
      "Try using .loc[row_indexer,col_indexer] = value instead\n",
      "\n",
      "See the caveats in the documentation: https://pandas.pydata.org/pandas-docs/stable/user_guide/indexing.html#returning-a-view-versus-a-copy\n",
      "\n"
     ]
    },
    {
     "name": "stderr",
     "output_type": "stream",
     "text": [
      "/home/runner/work/corr-app/corr-app/_notebooks/scripts/read_data.py:215: SettingWithCopyWarning:\n",
      "\n",
      "\n",
      "A value is trying to be set on a copy of a slice from a DataFrame.\n",
      "Try using .loc[row_indexer,col_indexer] = value instead\n",
      "\n",
      "See the caveats in the documentation: https://pandas.pydata.org/pandas-docs/stable/user_guide/indexing.html#returning-a-view-versus-a-copy\n",
      "\n"
     ]
    }
   ],
   "source": [
    "#hide\n",
    "df_all = read_api()\n",
    "#df_all = df_all.drop(['SP500', 'XAU', 'ETH', 'BTC'], axis=1)\n",
    "\n"
   ]
  },
  {
   "cell_type": "code",
   "execution_count": 6,
   "id": "mature-alert",
   "metadata": {
    "execution": {
     "iopub.execute_input": "2021-09-23T02:04:16.801627Z",
     "iopub.status.busy": "2021-09-23T02:04:16.800977Z",
     "iopub.status.idle": "2021-09-23T02:04:16.835842Z",
     "shell.execute_reply": "2021-09-23T02:04:16.836379Z"
    },
    "papermill": {
     "duration": 0.05358,
     "end_time": "2021-09-23T02:04:16.836644",
     "exception": false,
     "start_time": "2021-09-23T02:04:16.783064",
     "status": "completed"
    },
    "tags": []
   },
   "outputs": [],
   "source": [
    "#hide_input\n",
    "sum_corr = df_all.corr().sum().sort_values(ascending=True).index.values\n",
    "#df_all[sum_corr].corr()"
   ]
  },
  {
   "cell_type": "markdown",
   "id": "complex-syndicate",
   "metadata": {
    "papermill": {
     "duration": 0.013131,
     "end_time": "2021-09-23T02:04:16.863628",
     "exception": false,
     "start_time": "2021-09-23T02:04:16.850497",
     "status": "completed"
    },
    "tags": []
   },
   "source": [
    "## Išplėstinė koreliacijų matrica. "
   ]
  },
  {
   "cell_type": "code",
   "execution_count": 7,
   "id": "atomic-omaha",
   "metadata": {
    "execution": {
     "iopub.execute_input": "2021-09-23T02:04:16.894964Z",
     "iopub.status.busy": "2021-09-23T02:04:16.894383Z",
     "iopub.status.idle": "2021-09-23T02:04:18.550886Z",
     "shell.execute_reply": "2021-09-23T02:04:18.551489Z"
    },
    "papermill": {
     "duration": 1.674568,
     "end_time": "2021-09-23T02:04:18.551637",
     "exception": false,
     "start_time": "2021-09-23T02:04:16.877069",
     "status": "completed"
    },
    "tags": []
   },
   "outputs": [
    {
     "data": {
      "image/png": "[encoded data removed]",
      "text/plain": [
       "<Figure size 1080x792 with 2 Axes>"
      ]
     },
     "metadata": {
      "needs_background": "light"
     },
     "output_type": "display_data"
    }
   ],
   "source": [
    "#hide_input\n",
    "plt.figure(figsize=(15, 11))\n",
    "sns.heatmap(df_all[sum_corr].corr(), annot=True, cmap=\"cubehelix\") \n",
    "sns.set(font_scale=1.25)\n",
    "plt.savefig('corr_matrix.png', format='eps')"
   ]
  },
  {
   "cell_type": "code",
   "execution_count": 8,
   "id": "arbitrary-sullivan",
   "metadata": {
    "execution": {
     "iopub.execute_input": "2021-09-23T02:04:18.589472Z",
     "iopub.status.busy": "2021-09-23T02:04:18.588771Z",
     "iopub.status.idle": "2021-09-23T02:04:18.619766Z",
     "shell.execute_reply": "2021-09-23T02:04:18.619127Z"
    },
    "papermill": {
     "duration": 0.05171,
     "end_time": "2021-09-23T02:04:18.619883",
     "exception": false,
     "start_time": "2021-09-23T02:04:18.568173",
     "status": "completed"
    },
    "tags": []
   },
   "outputs": [],
   "source": [
    "#hide\n",
    "#df_all_mrk = read_api()"
   ]
  },
  {
   "cell_type": "code",
   "execution_count": 9,
   "id": "delayed-adapter",
   "metadata": {
    "execution": {
     "iopub.execute_input": "2021-09-23T02:04:18.661296Z",
     "iopub.status.busy": "2021-09-23T02:04:18.658110Z",
     "iopub.status.idle": "2021-09-23T02:04:18.687918Z",
     "shell.execute_reply": "2021-09-23T02:04:18.687404Z"
    },
    "papermill": {
     "duration": 0.051875,
     "end_time": "2021-09-23T02:04:18.688087",
     "exception": false,
     "start_time": "2021-09-23T02:04:18.636212",
     "status": "completed"
    },
    "tags": []
   },
   "outputs": [],
   "source": [
    "#hide\n",
    "#Koreliacijų koeficientai"
   ]
  },
  {
   "cell_type": "code",
   "execution_count": 10,
   "id": "seeing-celebration",
   "metadata": {
    "execution": {
     "iopub.execute_input": "2021-09-23T02:04:18.725992Z",
     "iopub.status.busy": "2021-09-23T02:04:18.725352Z",
     "iopub.status.idle": "2021-09-23T02:04:18.752568Z",
     "shell.execute_reply": "2021-09-23T02:04:18.753078Z"
    },
    "papermill": {
     "duration": 0.047717,
     "end_time": "2021-09-23T02:04:18.753213",
     "exception": false,
     "start_time": "2021-09-23T02:04:18.705496",
     "status": "completed"
    },
    "tags": []
   },
   "outputs": [],
   "source": [
    "#hide_input\n",
    "#sum_corr = df_all_mrk.corr().sum().sort_values(ascending=True).index.values\n",
    "#df_all_mrk[sum_corr].corr()"
   ]
  },
  {
   "cell_type": "code",
   "execution_count": 11,
   "id": "other-painting",
   "metadata": {
    "execution": {
     "iopub.execute_input": "2021-09-23T02:04:18.794478Z",
     "iopub.status.busy": "2021-09-23T02:04:18.793752Z",
     "iopub.status.idle": "2021-09-23T02:04:18.823253Z",
     "shell.execute_reply": "2021-09-23T02:04:18.823775Z"
    },
    "papermill": {
     "duration": 0.052035,
     "end_time": "2021-09-23T02:04:18.823894",
     "exception": false,
     "start_time": "2021-09-23T02:04:18.771859",
     "status": "completed"
    },
    "tags": []
   },
   "outputs": [],
   "source": [
    "#hide\n",
    "#Koreliacijos matrica. "
   ]
  },
  {
   "cell_type": "code",
   "execution_count": 12,
   "id": "modular-magnitude",
   "metadata": {
    "execution": {
     "iopub.execute_input": "2021-09-23T02:04:18.861562Z",
     "iopub.status.busy": "2021-09-23T02:04:18.860883Z",
     "iopub.status.idle": "2021-09-23T02:04:18.889375Z",
     "shell.execute_reply": "2021-09-23T02:04:18.888809Z"
    },
    "papermill": {
     "duration": 0.048265,
     "end_time": "2021-09-23T02:04:18.889481",
     "exception": false,
     "start_time": "2021-09-23T02:04:18.841216",
     "status": "completed"
    },
    "tags": []
   },
   "outputs": [],
   "source": [
    "#hide_input\n",
    "#plt.figure(figsize=(15, 8))\n",
    "#sns.heatmap(df_all_mrk[sum_corr].corr(), annot=True, cmap=\"BrBG\");\n",
    "#plt.savefig('corr_matrix_all.eps', format='eps')"
   ]
  },
  {
   "cell_type": "code",
   "execution_count": null,
   "id": "original-senator",
   "metadata": {
    "papermill": {
     "duration": 0.016847,
     "end_time": "2021-09-23T02:04:18.922504",
     "exception": false,
     "start_time": "2021-09-23T02:04:18.905657",
     "status": "completed"
    },
    "tags": []
   },
   "outputs": [],
   "source": []
  },
  {
   "cell_type": "code",
   "execution_count": null,
   "id": "saving-secretariat",
   "metadata": {
    "papermill": {
     "duration": 0.016287,
     "end_time": "2021-09-23T02:04:18.956851",
     "exception": false,
     "start_time": "2021-09-23T02:04:18.940564",
     "status": "completed"
    },
    "tags": []
   },
   "outputs": [],
   "source": []
  }
 ],
 "metadata": {
  "kernelspec": {
   "display_name": "Python 3",
   "language": "python",
   "name": "python3"
  },
  "language_info": {
   "codemirror_mode": {
    "name": "ipython",
    "version": 3
   },
   "file_extension": ".py",
   "mimetype": "text/x-python",
   "name": "python",
   "nbconvert_exporter": "python",
   "pygments_lexer": "ipython3",
   "version": "3.6.15"
  },
  "papermill": {
   "default_parameters": {},
   "duration": 17.796819,
   "end_time": "2021-09-23T02:04:19.481677",
   "environment_variables": {},
   "exception": null,
   "input_path": "App-Correlation_charts.ipynb",
   "output_path": "App-Correlation_charts.ipynb",
   "parameters": {},
   "start_time": "2021-09-23T02:04:01.684858",
   "version": "2.2.2"
  }
 },
 "nbformat": 4,
 "nbformat_minor": 5
}