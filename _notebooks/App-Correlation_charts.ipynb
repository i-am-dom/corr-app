{
 "cells": [
  {
   "cell_type": "markdown",
   "id": "touched-facility",
   "metadata": {
    "papermill": {
     "duration": 0.015498,
     "end_time": "2021-08-27T01:58:04.882052",
     "exception": false,
     "start_time": "2021-08-27T01:58:04.866554",
     "status": "completed"
    },
    "tags": []
   },
   "source": [
    "# Koreliacijų matrica\n",
    "> Išplėstinė koreliacijų matrica. \n",
    "\n",
    "- toc: true \n",
    "- badges: true\n",
    "- comments: false\n",
    "- categories: [Dominykas Tautkus]\n",
    "- image: images/matrix.png"
   ]
  },
  {
   "cell_type": "code",
   "execution_count": null,
   "id": "premium-weekend",
   "metadata": {
    "papermill": {
     "duration": 0.011905,
     "end_time": "2021-08-27T01:58:04.906663",
     "exception": false,
     "start_time": "2021-08-27T01:58:04.894758",
     "status": "completed"
    },
    "tags": []
   },
   "outputs": [],
   "source": []
  },
  {
   "cell_type": "code",
   "execution_count": 1,
   "id": "vertical-rebate",
   "metadata": {
    "execution": {
     "iopub.execute_input": "2021-08-27T01:58:04.940411Z",
     "iopub.status.busy": "2021-08-27T01:58:04.939862Z",
     "iopub.status.idle": "2021-08-27T01:58:04.949434Z",
     "shell.execute_reply": "2021-08-27T01:58:04.950093Z"
    },
    "papermill": {
     "duration": 0.032196,
     "end_time": "2021-08-27T01:58:04.950238",
     "exception": false,
     "start_time": "2021-08-27T01:58:04.918042",
     "status": "completed"
    },
    "tags": []
   },
   "outputs": [],
   "source": [
    "#hide\n",
    "%load_ext autoreload\n",
    "%autoreload 2"
   ]
  },
  {
   "cell_type": "code",
   "execution_count": 2,
   "id": "overall-advancement",
   "metadata": {
    "execution": {
     "iopub.execute_input": "2021-08-27T01:58:04.976456Z",
     "iopub.status.busy": "2021-08-27T01:58:04.975916Z",
     "iopub.status.idle": "2021-08-27T01:58:06.091386Z",
     "shell.execute_reply": "2021-08-27T01:58:06.090509Z"
    },
    "papermill": {
     "duration": 1.129696,
     "end_time": "2021-08-27T01:58:06.091507",
     "exception": false,
     "start_time": "2021-08-27T01:58:04.961811",
     "status": "completed"
    },
    "tags": []
   },
   "outputs": [],
   "source": [
    "#hide\n",
    "from scripts.read_data import read_api\n",
    "from IPython.display import HTML\n",
    "import plotly.graph_objects as go\n"
   ]
  },
  {
   "cell_type": "code",
   "execution_count": 3,
   "id": "light-crazy",
   "metadata": {
    "execution": {
     "iopub.execute_input": "2021-08-27T01:58:06.119390Z",
     "iopub.status.busy": "2021-08-27T01:58:06.118617Z",
     "iopub.status.idle": "2021-08-27T01:58:06.136538Z",
     "shell.execute_reply": "2021-08-27T01:58:06.136054Z"
    },
    "papermill": {
     "duration": 0.033617,
     "end_time": "2021-08-27T01:58:06.136664",
     "exception": false,
     "start_time": "2021-08-27T01:58:06.103047",
     "status": "completed"
    },
    "tags": []
   },
   "outputs": [],
   "source": [
    "#hide\n",
    "### ICO koreliacija"
   ]
  },
  {
   "cell_type": "code",
   "execution_count": 4,
   "id": "likely-bahrain",
   "metadata": {
    "execution": {
     "iopub.execute_input": "2021-08-27T01:58:06.166083Z",
     "iopub.status.busy": "2021-08-27T01:58:06.165225Z",
     "iopub.status.idle": "2021-08-27T01:58:06.981562Z",
     "shell.execute_reply": "2021-08-27T01:58:06.981038Z"
    },
    "papermill": {
     "duration": 0.83314,
     "end_time": "2021-08-27T01:58:06.981746",
     "exception": false,
     "start_time": "2021-08-27T01:58:06.148606",
     "status": "completed"
    },
    "tags": []
   },
   "outputs": [],
   "source": [
    "#hide\n",
    "import matplotlib.pyplot as plt\n",
    "import numpy as np\n",
    "import pandas as pd\n",
    "import seaborn as sns\n",
    "import matplotlib.pyplot as plt \n",
    "import matplotlib.dates as mdates\n",
    "import matplotlib.pyplot as plt"
   ]
  },
  {
   "cell_type": "code",
   "execution_count": 5,
   "id": "superior-blanket",
   "metadata": {
    "execution": {
     "iopub.execute_input": "2021-08-27T01:58:07.008441Z",
     "iopub.status.busy": "2021-08-27T01:58:07.007919Z",
     "iopub.status.idle": "2021-08-27T01:58:16.924627Z",
     "shell.execute_reply": "2021-08-27T01:58:16.924092Z"
    },
    "papermill": {
     "duration": 9.931441,
     "end_time": "2021-08-27T01:58:16.924949",
     "exception": false,
     "start_time": "2021-08-27T01:58:06.993508",
     "status": "completed"
    },
    "tags": []
   },
   "outputs": [
    {
     "name": "stderr",
     "output_type": "stream",
     "text": [
      "/home/runner/work/corr-app/corr-app/_notebooks/scripts/read_data.py:187: SettingWithCopyWarning:\n",
      "\n",
      "\n",
      "A value is trying to be set on a copy of a slice from a DataFrame.\n",
      "Try using .loc[row_indexer,col_indexer] = value instead\n",
      "\n",
      "See the caveats in the documentation: https://pandas.pydata.org/pandas-docs/stable/user_guide/indexing.html#returning-a-view-versus-a-copy\n",
      "\n"
     ]
    },
    {
     "name": "stderr",
     "output_type": "stream",
     "text": [
      "/home/runner/work/corr-app/corr-app/_notebooks/scripts/read_data.py:215: SettingWithCopyWarning:\n",
      "\n",
      "\n",
      "A value is trying to be set on a copy of a slice from a DataFrame.\n",
      "Try using .loc[row_indexer,col_indexer] = value instead\n",
      "\n",
      "See the caveats in the documentation: https://pandas.pydata.org/pandas-docs/stable/user_guide/indexing.html#returning-a-view-versus-a-copy\n",
      "\n"
     ]
    }
   ],
   "source": [
    "#hide\n",
    "df_all = read_api()\n",
    "#df_all = df_all.drop(['SP500', 'XAU', 'ETH', 'BTC'], axis=1)\n",
    "\n"
   ]
  },
  {
   "cell_type": "code",
   "execution_count": 6,
   "id": "mature-alert",
   "metadata": {
    "execution": {
     "iopub.execute_input": "2021-08-27T01:58:16.954608Z",
     "iopub.status.busy": "2021-08-27T01:58:16.954059Z",
     "iopub.status.idle": "2021-08-27T01:58:16.982889Z",
     "shell.execute_reply": "2021-08-27T01:58:16.983426Z"
    },
    "papermill": {
     "duration": 0.045699,
     "end_time": "2021-08-27T01:58:16.983563",
     "exception": false,
     "start_time": "2021-08-27T01:58:16.937864",
     "status": "completed"
    },
    "tags": []
   },
   "outputs": [],
   "source": [
    "#hide_input\n",
    "sum_corr = df_all.corr().sum().sort_values(ascending=True).index.values\n",
    "#df_all[sum_corr].corr()"
   ]
  },
  {
   "cell_type": "markdown",
   "id": "complex-syndicate",
   "metadata": {
    "papermill": {
     "duration": 0.011991,
     "end_time": "2021-08-27T01:58:17.007459",
     "exception": false,
     "start_time": "2021-08-27T01:58:16.995468",
     "status": "completed"
    },
    "tags": []
   },
   "source": [
    "## Išplėstinė koreliacijų matrica. "
   ]
  },
  {
   "cell_type": "code",
   "execution_count": 7,
   "id": "atomic-omaha",
   "metadata": {
    "execution": {
     "iopub.execute_input": "2021-08-27T01:58:17.035485Z",
     "iopub.status.busy": "2021-08-27T01:58:17.034969Z",
     "iopub.status.idle": "2021-08-27T01:58:18.518603Z",
     "shell.execute_reply": "2021-08-27T01:58:18.518146Z"
    },
    "papermill": {
     "duration": 1.499562,
     "end_time": "2021-08-27T01:58:18.518717",
     "exception": false,
     "start_time": "2021-08-27T01:58:17.019155",
     "status": "completed"
    },
    "tags": []
   },
   "outputs": [
    {
     "data": {
      "image/png": "[encoded data removed]",
      "text/plain": [
       "<Figure size 1080x792 with 2 Axes>"
      ]
     },
     "metadata": {
      "needs_background": "light"
     },
     "output_type": "display_data"
    }
   ],
   "source": [
    "#hide_input\n",
    "plt.figure(figsize=(15, 11))\n",
    "sns.heatmap(df_all[sum_corr].corr(), annot=True, cmap=\"cubehelix\") \n",
    "sns.set(font_scale=1.25)\n",
    "plt.savefig('corr_matrix.png', format='eps')"
   ]
  },
  {
   "cell_type": "code",
   "execution_count": 8,
   "id": "arbitrary-sullivan",
   "metadata": {
    "execution": {
     "iopub.execute_input": "2021-08-27T01:58:18.555350Z",
     "iopub.status.busy": "2021-08-27T01:58:18.554475Z",
     "iopub.status.idle": "2021-08-27T01:58:18.576952Z",
     "shell.execute_reply": "2021-08-27T01:58:18.576444Z"
    },
    "papermill": {
     "duration": 0.04423,
     "end_time": "2021-08-27T01:58:18.577051",
     "exception": false,
     "start_time": "2021-08-27T01:58:18.532821",
     "status": "completed"
    },
    "tags": []
   },
   "outputs": [],
   "source": [
    "#hide\n",
    "#df_all_mrk = read_api()"
   ]
  },
  {
   "cell_type": "code",
   "execution_count": 9,
   "id": "delayed-adapter",
   "metadata": {
    "execution": {
     "iopub.execute_input": "2021-08-27T01:58:18.609047Z",
     "iopub.status.busy": "2021-08-27T01:58:18.607533Z",
     "iopub.status.idle": "2021-08-27T01:58:18.627871Z",
     "shell.execute_reply": "2021-08-27T01:58:18.627425Z"
    },
    "papermill": {
     "duration": 0.038012,
     "end_time": "2021-08-27T01:58:18.627993",
     "exception": false,
     "start_time": "2021-08-27T01:58:18.589981",
     "status": "completed"
    },
    "tags": []
   },
   "outputs": [],
   "source": [
    "#hide\n",
    "#Koreliacijų koeficientai"
   ]
  },
  {
   "cell_type": "code",
   "execution_count": 10,
   "id": "seeing-celebration",
   "metadata": {
    "execution": {
     "iopub.execute_input": "2021-08-27T01:58:18.662206Z",
     "iopub.status.busy": "2021-08-27T01:58:18.661034Z",
     "iopub.status.idle": "2021-08-27T01:58:18.682704Z",
     "shell.execute_reply": "2021-08-27T01:58:18.682194Z"
    },
    "papermill": {
     "duration": 0.038448,
     "end_time": "2021-08-27T01:58:18.682801",
     "exception": false,
     "start_time": "2021-08-27T01:58:18.644353",
     "status": "completed"
    },
    "tags": []
   },
   "outputs": [],
   "source": [
    "#hide_input\n",
    "#sum_corr = df_all_mrk.corr().sum().sort_values(ascending=True).index.values\n",
    "#df_all_mrk[sum_corr].corr()"
   ]
  },
  {
   "cell_type": "code",
   "execution_count": 11,
   "id": "other-painting",
   "metadata": {
    "execution": {
     "iopub.execute_input": "2021-08-27T01:58:18.715426Z",
     "iopub.status.busy": "2021-08-27T01:58:18.714854Z",
     "iopub.status.idle": "2021-08-27T01:58:18.738929Z",
     "shell.execute_reply": "2021-08-27T01:58:18.738026Z"
    },
    "papermill": {
     "duration": 0.041041,
     "end_time": "2021-08-27T01:58:18.739096",
     "exception": false,
     "start_time": "2021-08-27T01:58:18.698055",
     "status": "completed"
    },
    "tags": []
   },
   "outputs": [],
   "source": [
    "#hide\n",
    "#Koreliacijos matrica. "
   ]
  },
  {
   "cell_type": "code",
   "execution_count": 12,
   "id": "modular-magnitude",
   "metadata": {
    "execution": {
     "iopub.execute_input": "2021-08-27T01:58:18.773377Z",
     "iopub.status.busy": "2021-08-27T01:58:18.772783Z",
     "iopub.status.idle": "2021-08-27T01:58:18.799671Z",
     "shell.execute_reply": "2021-08-27T01:58:18.799193Z"
    },
    "papermill": {
     "duration": 0.045273,
     "end_time": "2021-08-27T01:58:18.799794",
     "exception": false,
     "start_time": "2021-08-27T01:58:18.754521",
     "status": "completed"
    },
    "tags": []
   },
   "outputs": [],
   "source": [
    "#hide_input\n",
    "#plt.figure(figsize=(15, 8))\n",
    "#sns.heatmap(df_all_mrk[sum_corr].corr(), annot=True, cmap=\"BrBG\");\n",
    "#plt.savefig('corr_matrix_all.eps', format='eps')"
   ]
  },
  {
   "cell_type": "code",
   "execution_count": null,
   "id": "original-senator",
   "metadata": {
    "papermill": {
     "duration": 0.014514,
     "end_time": "2021-08-27T01:58:18.828885",
     "exception": false,
     "start_time": "2021-08-27T01:58:18.814371",
     "status": "completed"
    },
    "tags": []
   },
   "outputs": [],
   "source": []
  },
  {
   "cell_type": "code",
   "execution_count": null,
   "id": "saving-secretariat",
   "metadata": {
    "papermill": {
     "duration": 0.015161,
     "end_time": "2021-08-27T01:58:18.860122",
     "exception": false,
     "start_time": "2021-08-27T01:58:18.844961",
     "status": "completed"
    },
    "tags": []
   },
   "outputs": [],
   "source": []
  }
 ],
 "metadata": {
  "kernelspec": {
   "display_name": "Python 3",
   "language": "python",
   "name": "python3"
  },
  "language_info": {
   "codemirror_mode": {
    "name": "ipython",
    "version": 3
   },
   "file_extension": ".py",
   "mimetype": "text/x-python",
   "name": "python",
   "nbconvert_exporter": "python",
   "pygments_lexer": "ipython3",
   "version": "3.6.14"
  },
  "papermill": {
   "default_parameters": {},
   "duration": 15.532484,
   "end_time": "2021-08-27T01:58:19.284326",
   "environment_variables": {},
   "exception": null,
   "input_path": "App-Correlation_charts.ipynb",
   "output_path": "App-Correlation_charts.ipynb",
   "parameters": {},
   "start_time": "2021-08-27T01:58:03.751842",
   "version": "2.2.2"
  }
 },
 "nbformat": 4,
 "nbformat_minor": 5
}