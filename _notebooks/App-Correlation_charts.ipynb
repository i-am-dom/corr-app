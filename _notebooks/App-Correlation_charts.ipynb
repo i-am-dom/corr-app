{
 "cells": [
  {
   "cell_type": "markdown",
   "id": "touched-facility",
   "metadata": {
    "papermill": {
     "duration": 0.020467,
     "end_time": "2022-04-19T03:00:45.977478",
     "exception": false,
     "start_time": "2022-04-19T03:00:45.957011",
     "status": "completed"
    },
    "tags": []
   },
   "source": [
    "# Koreliacijų matrica\n",
    "> Išplėstinė koreliacijų matrica. \n",
    "\n",
    "- toc: true \n",
    "- badges: true\n",
    "- comments: false\n",
    "- categories: [Dominykas Tautkus]\n",
    "- image: images/matrix.png"
   ]
  },
  {
   "cell_type": "code",
   "execution_count": null,
   "id": "premium-weekend",
   "metadata": {
    "papermill": {
     "duration": 0.012796,
     "end_time": "2022-04-19T03:00:46.003951",
     "exception": false,
     "start_time": "2022-04-19T03:00:45.991155",
     "status": "completed"
    },
    "tags": []
   },
   "outputs": [],
   "source": []
  },
  {
   "cell_type": "code",
   "execution_count": 1,
   "id": "vertical-rebate",
   "metadata": {
    "execution": {
     "iopub.execute_input": "2022-04-19T03:00:46.043098Z",
     "iopub.status.busy": "2022-04-19T03:00:46.042472Z",
     "iopub.status.idle": "2022-04-19T03:00:46.054963Z",
     "shell.execute_reply": "2022-04-19T03:00:46.054449Z"
    },
    "papermill": {
     "duration": 0.038704,
     "end_time": "2022-04-19T03:00:46.055100",
     "exception": false,
     "start_time": "2022-04-19T03:00:46.016396",
     "status": "completed"
    },
    "tags": []
   },
   "outputs": [],
   "source": [
    "#hide\n",
    "%load_ext autoreload\n",
    "%autoreload 2"
   ]
  },
  {
   "cell_type": "code",
   "execution_count": 2,
   "id": "overall-advancement",
   "metadata": {
    "execution": {
     "iopub.execute_input": "2022-04-19T03:00:46.083783Z",
     "iopub.status.busy": "2022-04-19T03:00:46.083173Z",
     "iopub.status.idle": "2022-04-19T03:00:47.486322Z",
     "shell.execute_reply": "2022-04-19T03:00:47.485701Z"
    },
    "papermill": {
     "duration": 1.41901,
     "end_time": "2022-04-19T03:00:47.486479",
     "exception": false,
     "start_time": "2022-04-19T03:00:46.067469",
     "status": "completed"
    },
    "tags": []
   },
   "outputs": [],
   "source": [
    "#hide\n",
    "from scripts.read_data import read_api\n",
    "from IPython.display import HTML\n",
    "import plotly.graph_objects as go\n"
   ]
  },
  {
   "cell_type": "code",
   "execution_count": 3,
   "id": "light-crazy",
   "metadata": {
    "execution": {
     "iopub.execute_input": "2022-04-19T03:00:47.543515Z",
     "iopub.status.busy": "2022-04-19T03:00:47.542878Z",
     "iopub.status.idle": "2022-04-19T03:00:47.565371Z",
     "shell.execute_reply": "2022-04-19T03:00:47.564253Z"
    },
    "papermill": {
     "duration": 0.053231,
     "end_time": "2022-04-19T03:00:47.565510",
     "exception": false,
     "start_time": "2022-04-19T03:00:47.512279",
     "status": "completed"
    },
    "tags": []
   },
   "outputs": [],
   "source": [
    "#hide\n",
    "### ICO koreliacija"
   ]
  },
  {
   "cell_type": "code",
   "execution_count": 4,
   "id": "likely-bahrain",
   "metadata": {
    "execution": {
     "iopub.execute_input": "2022-04-19T03:00:47.662624Z",
     "iopub.status.busy": "2022-04-19T03:00:47.661946Z",
     "iopub.status.idle": "2022-04-19T03:00:48.816952Z",
     "shell.execute_reply": "2022-04-19T03:00:48.816393Z"
    },
    "papermill": {
     "duration": 1.221935,
     "end_time": "2022-04-19T03:00:48.817097",
     "exception": false,
     "start_time": "2022-04-19T03:00:47.595162",
     "status": "completed"
    },
    "tags": []
   },
   "outputs": [],
   "source": [
    "#hide\n",
    "import matplotlib.pyplot as plt\n",
    "import numpy as np\n",
    "import pandas as pd\n",
    "import seaborn as sns\n",
    "import matplotlib.pyplot as plt \n",
    "import matplotlib.dates as mdates\n",
    "import matplotlib.pyplot as plt"
   ]
  },
  {
   "cell_type": "code",
   "execution_count": 5,
   "id": "superior-blanket",
   "metadata": {
    "execution": {
     "iopub.execute_input": "2022-04-19T03:00:48.888627Z",
     "iopub.status.busy": "2022-04-19T03:00:48.887234Z",
     "iopub.status.idle": "2022-04-19T03:00:57.895298Z",
     "shell.execute_reply": "2022-04-19T03:00:57.894553Z"
    },
    "papermill": {
     "duration": 9.036144,
     "end_time": "2022-04-19T03:00:57.895433",
     "exception": false,
     "start_time": "2022-04-19T03:00:48.859289",
     "status": "completed"
    },
    "tags": []
   },
   "outputs": [
    {
     "name": "stderr",
     "output_type": "stream",
     "text": [
      "/home/runner/work/corr-app/corr-app/_notebooks/scripts/read_data.py:187: SettingWithCopyWarning:\n",
      "\n",
      "\n",
      "A value is trying to be set on a copy of a slice from a DataFrame.\n",
      "Try using .loc[row_indexer,col_indexer] = value instead\n",
      "\n",
      "See the caveats in the documentation: https://pandas.pydata.org/pandas-docs/stable/user_guide/indexing.html#returning-a-view-versus-a-copy\n",
      "\n"
     ]
    },
    {
     "name": "stderr",
     "output_type": "stream",
     "text": [
      "/home/runner/work/corr-app/corr-app/_notebooks/scripts/read_data.py:215: SettingWithCopyWarning:\n",
      "\n",
      "\n",
      "A value is trying to be set on a copy of a slice from a DataFrame.\n",
      "Try using .loc[row_indexer,col_indexer] = value instead\n",
      "\n",
      "See the caveats in the documentation: https://pandas.pydata.org/pandas-docs/stable/user_guide/indexing.html#returning-a-view-versus-a-copy\n",
      "\n"
     ]
    }
   ],
   "source": [
    "#hide\n",
    "df_all = read_api()\n",
    "#df_all = df_all.drop(['SP500', 'XAU', 'ETH', 'BTC'], axis=1)\n",
    "\n"
   ]
  },
  {
   "cell_type": "code",
   "execution_count": 6,
   "id": "mature-alert",
   "metadata": {
    "execution": {
     "iopub.execute_input": "2022-04-19T03:00:57.929458Z",
     "iopub.status.busy": "2022-04-19T03:00:57.927656Z",
     "iopub.status.idle": "2022-04-19T03:00:57.962570Z",
     "shell.execute_reply": "2022-04-19T03:00:57.961836Z"
    },
    "papermill": {
     "duration": 0.0536,
     "end_time": "2022-04-19T03:00:57.962716",
     "exception": false,
     "start_time": "2022-04-19T03:00:57.909116",
     "status": "completed"
    },
    "tags": []
   },
   "outputs": [],
   "source": [
    "#hide_input\n",
    "sum_corr = df_all.corr().sum().sort_values(ascending=True).index.values\n",
    "#df_all[sum_corr].corr()"
   ]
  },
  {
   "cell_type": "markdown",
   "id": "complex-syndicate",
   "metadata": {
    "papermill": {
     "duration": 0.01322,
     "end_time": "2022-04-19T03:00:57.990632",
     "exception": false,
     "start_time": "2022-04-19T03:00:57.977412",
     "status": "completed"
    },
    "tags": []
   },
   "source": [
    "## Išplėstinė koreliacijų matrica. "
   ]
  },
  {
   "cell_type": "code",
   "execution_count": 7,
   "id": "atomic-omaha",
   "metadata": {
    "execution": {
     "iopub.execute_input": "2022-04-19T03:00:58.027474Z",
     "iopub.status.busy": "2022-04-19T03:00:58.026864Z",
     "iopub.status.idle": "2022-04-19T03:00:59.461820Z",
     "shell.execute_reply": "2022-04-19T03:00:59.462356Z"
    },
    "papermill": {
     "duration": 1.457459,
     "end_time": "2022-04-19T03:00:59.462522",
     "exception": false,
     "start_time": "2022-04-19T03:00:58.005063",
     "status": "completed"
    },
    "tags": []
   },
   "outputs": [
    {
     "data": {
      "image/png": "[encoded data removed]",
      "text/plain": [
       "<Figure size 1080x792 with 2 Axes>"
      ]
     },
     "metadata": {
      "needs_background": "light"
     },
     "output_type": "display_data"
    }
   ],
   "source": [
    "#hide_input\n",
    "plt.figure(figsize=(15, 11))\n",
    "sns.heatmap(df_all[sum_corr].corr(), annot=True, cmap=\"cubehelix\") \n",
    "sns.set(font_scale=1.25)\n",
    "plt.savefig('corr_matrix.png', format='eps')"
   ]
  },
  {
   "cell_type": "code",
   "execution_count": 8,
   "id": "arbitrary-sullivan",
   "metadata": {
    "execution": {
     "iopub.execute_input": "2022-04-19T03:00:59.499734Z",
     "iopub.status.busy": "2022-04-19T03:00:59.499124Z",
     "iopub.status.idle": "2022-04-19T03:00:59.531559Z",
     "shell.execute_reply": "2022-04-19T03:00:59.530996Z"
    },
    "papermill": {
     "duration": 0.053179,
     "end_time": "2022-04-19T03:00:59.531691",
     "exception": false,
     "start_time": "2022-04-19T03:00:59.478512",
     "status": "completed"
    },
    "tags": []
   },
   "outputs": [],
   "source": [
    "#hide\n",
    "#df_all_mrk = read_api()"
   ]
  },
  {
   "cell_type": "code",
   "execution_count": 9,
   "id": "delayed-adapter",
   "metadata": {
    "execution": {
     "iopub.execute_input": "2022-04-19T03:00:59.570331Z",
     "iopub.status.busy": "2022-04-19T03:00:59.569693Z",
     "iopub.status.idle": "2022-04-19T03:00:59.600245Z",
     "shell.execute_reply": "2022-04-19T03:00:59.599606Z"
    },
    "papermill": {
     "duration": 0.052073,
     "end_time": "2022-04-19T03:00:59.600405",
     "exception": false,
     "start_time": "2022-04-19T03:00:59.548332",
     "status": "completed"
    },
    "tags": []
   },
   "outputs": [],
   "source": [
    "#hide\n",
    "#Koreliacijų koeficientai"
   ]
  },
  {
   "cell_type": "code",
   "execution_count": 10,
   "id": "seeing-celebration",
   "metadata": {
    "execution": {
     "iopub.execute_input": "2022-04-19T03:00:59.643530Z",
     "iopub.status.busy": "2022-04-19T03:00:59.642797Z",
     "iopub.status.idle": "2022-04-19T03:00:59.669943Z",
     "shell.execute_reply": "2022-04-19T03:00:59.670605Z"
    },
    "papermill": {
     "duration": 0.05305,
     "end_time": "2022-04-19T03:00:59.670793",
     "exception": false,
     "start_time": "2022-04-19T03:00:59.617743",
     "status": "completed"
    },
    "tags": []
   },
   "outputs": [],
   "source": [
    "#hide_input\n",
    "#sum_corr = df_all_mrk.corr().sum().sort_values(ascending=True).index.values\n",
    "#df_all_mrk[sum_corr].corr()"
   ]
  },
  {
   "cell_type": "code",
   "execution_count": 11,
   "id": "other-painting",
   "metadata": {
    "execution": {
     "iopub.execute_input": "2022-04-19T03:00:59.715863Z",
     "iopub.status.busy": "2022-04-19T03:00:59.715263Z",
     "iopub.status.idle": "2022-04-19T03:00:59.746468Z",
     "shell.execute_reply": "2022-04-19T03:00:59.747012Z"
    },
    "papermill": {
     "duration": 0.051003,
     "end_time": "2022-04-19T03:00:59.747154",
     "exception": false,
     "start_time": "2022-04-19T03:00:59.696151",
     "status": "completed"
    },
    "tags": []
   },
   "outputs": [],
   "source": [
    "#hide\n",
    "#Koreliacijos matrica. "
   ]
  },
  {
   "cell_type": "code",
   "execution_count": 12,
   "id": "modular-magnitude",
   "metadata": {
    "execution": {
     "iopub.execute_input": "2022-04-19T03:00:59.781916Z",
     "iopub.status.busy": "2022-04-19T03:00:59.781309Z",
     "iopub.status.idle": "2022-04-19T03:00:59.812254Z",
     "shell.execute_reply": "2022-04-19T03:00:59.811607Z"
    },
    "papermill": {
     "duration": 0.049526,
     "end_time": "2022-04-19T03:00:59.812415",
     "exception": false,
     "start_time": "2022-04-19T03:00:59.762889",
     "status": "completed"
    },
    "tags": []
   },
   "outputs": [],
   "source": [
    "#hide_input\n",
    "#plt.figure(figsize=(15, 8))\n",
    "#sns.heatmap(df_all_mrk[sum_corr].corr(), annot=True, cmap=\"BrBG\");\n",
    "#plt.savefig('corr_matrix_all.eps', format='eps')"
   ]
  },
  {
   "cell_type": "code",
   "execution_count": null,
   "id": "original-senator",
   "metadata": {
    "papermill": {
     "duration": 0.015424,
     "end_time": "2022-04-19T03:00:59.844019",
     "exception": false,
     "start_time": "2022-04-19T03:00:59.828595",
     "status": "completed"
    },
    "tags": []
   },
   "outputs": [],
   "source": []
  },
  {
   "cell_type": "code",
   "execution_count": null,
   "id": "saving-secretariat",
   "metadata": {
    "papermill": {
     "duration": 0.015492,
     "end_time": "2022-04-19T03:00:59.875054",
     "exception": false,
     "start_time": "2022-04-19T03:00:59.859562",
     "status": "completed"
    },
    "tags": []
   },
   "outputs": [],
   "source": []
  }
 ],
 "metadata": {
  "kernelspec": {
   "display_name": "Python 3",
   "language": "python",
   "name": "python3"
  },
  "language_info": {
   "codemirror_mode": {
    "name": "ipython",
    "version": 3
   },
   "file_extension": ".py",
   "mimetype": "text/x-python",
   "name": "python",
   "nbconvert_exporter": "python",
   "pygments_lexer": "ipython3",
   "version": "3.6.15"
  },
  "papermill": {
   "default_parameters": {},
   "duration": 15.755454,
   "end_time": "2022-04-19T03:01:00.411054",
   "environment_variables": {},
   "exception": null,
   "input_path": "App-Correlation_charts.ipynb",
   "output_path": "App-Correlation_charts.ipynb",
   "parameters": {},
   "start_time": "2022-04-19T03:00:44.655600",
   "version": "2.2.2"
  }
 },
 "nbformat": 4,
 "nbformat_minor": 5
}