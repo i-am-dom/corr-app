{
 "cells": [
  {
   "cell_type": "markdown",
   "id": "touched-facility",
   "metadata": {
    "papermill": {
     "duration": 0.014931,
     "end_time": "2022-02-08T01:59:49.713289",
     "exception": false,
     "start_time": "2022-02-08T01:59:49.698358",
     "status": "completed"
    },
    "tags": []
   },
   "source": [
    "# Koreliacijų matrica\n",
    "> Išplėstinė koreliacijų matrica. \n",
    "\n",
    "- toc: true \n",
    "- badges: true\n",
    "- comments: false\n",
    "- categories: [Dominykas Tautkus]\n",
    "- image: images/matrix.png"
   ]
  },
  {
   "cell_type": "code",
   "execution_count": null,
   "id": "premium-weekend",
   "metadata": {
    "papermill": {
     "duration": 0.010698,
     "end_time": "2022-02-08T01:59:49.735447",
     "exception": false,
     "start_time": "2022-02-08T01:59:49.724749",
     "status": "completed"
    },
    "tags": []
   },
   "outputs": [],
   "source": []
  },
  {
   "cell_type": "code",
   "execution_count": 1,
   "id": "vertical-rebate",
   "metadata": {
    "execution": {
     "iopub.execute_input": "2022-02-08T01:59:49.766463Z",
     "iopub.status.busy": "2022-02-08T01:59:49.765930Z",
     "iopub.status.idle": "2022-02-08T01:59:49.777665Z",
     "shell.execute_reply": "2022-02-08T01:59:49.777245Z"
    },
    "papermill": {
     "duration": 0.031716,
     "end_time": "2022-02-08T01:59:49.777781",
     "exception": false,
     "start_time": "2022-02-08T01:59:49.746065",
     "status": "completed"
    },
    "tags": []
   },
   "outputs": [],
   "source": [
    "#hide\n",
    "%load_ext autoreload\n",
    "%autoreload 2"
   ]
  },
  {
   "cell_type": "code",
   "execution_count": 2,
   "id": "overall-advancement",
   "metadata": {
    "execution": {
     "iopub.execute_input": "2022-02-08T01:59:49.802480Z",
     "iopub.status.busy": "2022-02-08T01:59:49.801976Z",
     "iopub.status.idle": "2022-02-08T01:59:50.957131Z",
     "shell.execute_reply": "2022-02-08T01:59:50.956213Z"
    },
    "papermill": {
     "duration": 1.168895,
     "end_time": "2022-02-08T01:59:50.957263",
     "exception": false,
     "start_time": "2022-02-08T01:59:49.788368",
     "status": "completed"
    },
    "tags": []
   },
   "outputs": [],
   "source": [
    "#hide\n",
    "from scripts.read_data import read_api\n",
    "from IPython.display import HTML\n",
    "import plotly.graph_objects as go\n"
   ]
  },
  {
   "cell_type": "code",
   "execution_count": 3,
   "id": "light-crazy",
   "metadata": {
    "execution": {
     "iopub.execute_input": "2022-02-08T01:59:50.984487Z",
     "iopub.status.busy": "2022-02-08T01:59:50.983144Z",
     "iopub.status.idle": "2022-02-08T01:59:51.004028Z",
     "shell.execute_reply": "2022-02-08T01:59:51.003601Z"
    },
    "papermill": {
     "duration": 0.035862,
     "end_time": "2022-02-08T01:59:51.004138",
     "exception": false,
     "start_time": "2022-02-08T01:59:50.968276",
     "status": "completed"
    },
    "tags": []
   },
   "outputs": [],
   "source": [
    "#hide\n",
    "### ICO koreliacija"
   ]
  },
  {
   "cell_type": "code",
   "execution_count": 4,
   "id": "likely-bahrain",
   "metadata": {
    "execution": {
     "iopub.execute_input": "2022-02-08T01:59:51.034279Z",
     "iopub.status.busy": "2022-02-08T01:59:51.033690Z",
     "iopub.status.idle": "2022-02-08T01:59:51.894653Z",
     "shell.execute_reply": "2022-02-08T01:59:51.895115Z"
    },
    "papermill": {
     "duration": 0.880384,
     "end_time": "2022-02-08T01:59:51.895271",
     "exception": false,
     "start_time": "2022-02-08T01:59:51.014887",
     "status": "completed"
    },
    "tags": []
   },
   "outputs": [],
   "source": [
    "#hide\n",
    "import matplotlib.pyplot as plt\n",
    "import numpy as np\n",
    "import pandas as pd\n",
    "import seaborn as sns\n",
    "import matplotlib.pyplot as plt \n",
    "import matplotlib.dates as mdates\n",
    "import matplotlib.pyplot as plt"
   ]
  },
  {
   "cell_type": "code",
   "execution_count": 5,
   "id": "superior-blanket",
   "metadata": {
    "execution": {
     "iopub.execute_input": "2022-02-08T01:59:51.929044Z",
     "iopub.status.busy": "2022-02-08T01:59:51.921633Z",
     "iopub.status.idle": "2022-02-08T02:00:09.073064Z",
     "shell.execute_reply": "2022-02-08T02:00:09.072532Z"
    },
    "papermill": {
     "duration": 17.166384,
     "end_time": "2022-02-08T02:00:09.073202",
     "exception": false,
     "start_time": "2022-02-08T01:59:51.906818",
     "status": "completed"
    },
    "tags": []
   },
   "outputs": [
    {
     "name": "stderr",
     "output_type": "stream",
     "text": [
      "/home/runner/work/corr-app/corr-app/_notebooks/scripts/read_data.py:187: SettingWithCopyWarning:\n",
      "\n",
      "\n",
      "A value is trying to be set on a copy of a slice from a DataFrame.\n",
      "Try using .loc[row_indexer,col_indexer] = value instead\n",
      "\n",
      "See the caveats in the documentation: https://pandas.pydata.org/pandas-docs/stable/user_guide/indexing.html#returning-a-view-versus-a-copy\n",
      "\n"
     ]
    },
    {
     "name": "stderr",
     "output_type": "stream",
     "text": [
      "/home/runner/work/corr-app/corr-app/_notebooks/scripts/read_data.py:215: SettingWithCopyWarning:\n",
      "\n",
      "\n",
      "A value is trying to be set on a copy of a slice from a DataFrame.\n",
      "Try using .loc[row_indexer,col_indexer] = value instead\n",
      "\n",
      "See the caveats in the documentation: https://pandas.pydata.org/pandas-docs/stable/user_guide/indexing.html#returning-a-view-versus-a-copy\n",
      "\n"
     ]
    }
   ],
   "source": [
    "#hide\n",
    "df_all = read_api()\n",
    "#df_all = df_all.drop(['SP500', 'XAU', 'ETH', 'BTC'], axis=1)\n",
    "\n"
   ]
  },
  {
   "cell_type": "code",
   "execution_count": 6,
   "id": "mature-alert",
   "metadata": {
    "execution": {
     "iopub.execute_input": "2022-02-08T02:00:09.101585Z",
     "iopub.status.busy": "2022-02-08T02:00:09.101052Z",
     "iopub.status.idle": "2022-02-08T02:00:09.130153Z",
     "shell.execute_reply": "2022-02-08T02:00:09.130566Z"
    },
    "papermill": {
     "duration": 0.044938,
     "end_time": "2022-02-08T02:00:09.130692",
     "exception": false,
     "start_time": "2022-02-08T02:00:09.085754",
     "status": "completed"
    },
    "tags": []
   },
   "outputs": [],
   "source": [
    "#hide_input\n",
    "sum_corr = df_all.corr().sum().sort_values(ascending=True).index.values\n",
    "#df_all[sum_corr].corr()"
   ]
  },
  {
   "cell_type": "markdown",
   "id": "complex-syndicate",
   "metadata": {
    "papermill": {
     "duration": 0.011184,
     "end_time": "2022-02-08T02:00:09.153147",
     "exception": false,
     "start_time": "2022-02-08T02:00:09.141963",
     "status": "completed"
    },
    "tags": []
   },
   "source": [
    "## Išplėstinė koreliacijų matrica. "
   ]
  },
  {
   "cell_type": "code",
   "execution_count": 7,
   "id": "atomic-omaha",
   "metadata": {
    "execution": {
     "iopub.execute_input": "2022-02-08T02:00:09.182103Z",
     "iopub.status.busy": "2022-02-08T02:00:09.181603Z",
     "iopub.status.idle": "2022-02-08T02:00:10.531294Z",
     "shell.execute_reply": "2022-02-08T02:00:10.530847Z"
    },
    "papermill": {
     "duration": 1.367048,
     "end_time": "2022-02-08T02:00:10.531405",
     "exception": false,
     "start_time": "2022-02-08T02:00:09.164357",
     "status": "completed"
    },
    "tags": []
   },
   "outputs": [
    {
     "data": {
      "image/png": "[encoded data removed]",
      "text/plain": [
       "<Figure size 1080x792 with 2 Axes>"
      ]
     },
     "metadata": {
      "needs_background": "light"
     },
     "output_type": "display_data"
    }
   ],
   "source": [
    "#hide_input\n",
    "plt.figure(figsize=(15, 11))\n",
    "sns.heatmap(df_all[sum_corr].corr(), annot=True, cmap=\"cubehelix\") \n",
    "sns.set(font_scale=1.25)\n",
    "plt.savefig('corr_matrix.png', format='eps')"
   ]
  },
  {
   "cell_type": "code",
   "execution_count": 8,
   "id": "arbitrary-sullivan",
   "metadata": {
    "execution": {
     "iopub.execute_input": "2022-02-08T02:00:10.605765Z",
     "iopub.status.busy": "2022-02-08T02:00:10.603999Z",
     "iopub.status.idle": "2022-02-08T02:00:10.628908Z",
     "shell.execute_reply": "2022-02-08T02:00:10.628399Z"
    },
    "papermill": {
     "duration": 0.070647,
     "end_time": "2022-02-08T02:00:10.629042",
     "exception": false,
     "start_time": "2022-02-08T02:00:10.558395",
     "status": "completed"
    },
    "tags": []
   },
   "outputs": [],
   "source": [
    "#hide\n",
    "#df_all_mrk = read_api()"
   ]
  },
  {
   "cell_type": "code",
   "execution_count": 9,
   "id": "delayed-adapter",
   "metadata": {
    "execution": {
     "iopub.execute_input": "2022-02-08T02:00:10.705992Z",
     "iopub.status.busy": "2022-02-08T02:00:10.705471Z",
     "iopub.status.idle": "2022-02-08T02:00:10.730713Z",
     "shell.execute_reply": "2022-02-08T02:00:10.730199Z"
    },
    "papermill": {
     "duration": 0.086638,
     "end_time": "2022-02-08T02:00:10.730844",
     "exception": false,
     "start_time": "2022-02-08T02:00:10.644206",
     "status": "completed"
    },
    "tags": []
   },
   "outputs": [],
   "source": [
    "#hide\n",
    "#Koreliacijų koeficientai"
   ]
  },
  {
   "cell_type": "code",
   "execution_count": 10,
   "id": "seeing-celebration",
   "metadata": {
    "execution": {
     "iopub.execute_input": "2022-02-08T02:00:10.772868Z",
     "iopub.status.busy": "2022-02-08T02:00:10.766810Z",
     "iopub.status.idle": "2022-02-08T02:00:10.791189Z",
     "shell.execute_reply": "2022-02-08T02:00:10.790348Z"
    },
    "papermill": {
     "duration": 0.045897,
     "end_time": "2022-02-08T02:00:10.791303",
     "exception": false,
     "start_time": "2022-02-08T02:00:10.745406",
     "status": "completed"
    },
    "tags": []
   },
   "outputs": [],
   "source": [
    "#hide_input\n",
    "#sum_corr = df_all_mrk.corr().sum().sort_values(ascending=True).index.values\n",
    "#df_all_mrk[sum_corr].corr()"
   ]
  },
  {
   "cell_type": "code",
   "execution_count": 11,
   "id": "other-painting",
   "metadata": {
    "execution": {
     "iopub.execute_input": "2022-02-08T02:00:10.821360Z",
     "iopub.status.busy": "2022-02-08T02:00:10.820240Z",
     "iopub.status.idle": "2022-02-08T02:00:10.844348Z",
     "shell.execute_reply": "2022-02-08T02:00:10.844785Z"
    },
    "papermill": {
     "duration": 0.040376,
     "end_time": "2022-02-08T02:00:10.844957",
     "exception": false,
     "start_time": "2022-02-08T02:00:10.804581",
     "status": "completed"
    },
    "tags": []
   },
   "outputs": [],
   "source": [
    "#hide\n",
    "#Koreliacijos matrica. "
   ]
  },
  {
   "cell_type": "code",
   "execution_count": 12,
   "id": "modular-magnitude",
   "metadata": {
    "execution": {
     "iopub.execute_input": "2022-02-08T02:00:10.879963Z",
     "iopub.status.busy": "2022-02-08T02:00:10.878147Z",
     "iopub.status.idle": "2022-02-08T02:00:10.902125Z",
     "shell.execute_reply": "2022-02-08T02:00:10.901344Z"
    },
    "papermill": {
     "duration": 0.043788,
     "end_time": "2022-02-08T02:00:10.902248",
     "exception": false,
     "start_time": "2022-02-08T02:00:10.858460",
     "status": "completed"
    },
    "tags": []
   },
   "outputs": [],
   "source": [
    "#hide_input\n",
    "#plt.figure(figsize=(15, 8))\n",
    "#sns.heatmap(df_all_mrk[sum_corr].corr(), annot=True, cmap=\"BrBG\");\n",
    "#plt.savefig('corr_matrix_all.eps', format='eps')"
   ]
  },
  {
   "cell_type": "code",
   "execution_count": null,
   "id": "original-senator",
   "metadata": {
    "papermill": {
     "duration": 0.013166,
     "end_time": "2022-02-08T02:00:10.929074",
     "exception": false,
     "start_time": "2022-02-08T02:00:10.915908",
     "status": "completed"
    },
    "tags": []
   },
   "outputs": [],
   "source": []
  },
  {
   "cell_type": "code",
   "execution_count": null,
   "id": "saving-secretariat",
   "metadata": {
    "papermill": {
     "duration": 0.013208,
     "end_time": "2022-02-08T02:00:10.955467",
     "exception": false,
     "start_time": "2022-02-08T02:00:10.942259",
     "status": "completed"
    },
    "tags": []
   },
   "outputs": [],
   "source": []
  }
 ],
 "metadata": {
  "kernelspec": {
   "display_name": "Python 3",
   "language": "python",
   "name": "python3"
  },
  "language_info": {
   "codemirror_mode": {
    "name": "ipython",
    "version": 3
   },
   "file_extension": ".py",
   "mimetype": "text/x-python",
   "name": "python",
   "nbconvert_exporter": "python",
   "pygments_lexer": "ipython3",
   "version": "3.6.15"
  },
  "papermill": {
   "default_parameters": {},
   "duration": 22.715297,
   "end_time": "2022-02-08T02:00:11.487607",
   "environment_variables": {},
   "exception": null,
   "input_path": "App-Correlation_charts.ipynb",
   "output_path": "App-Correlation_charts.ipynb",
   "parameters": {},
   "start_time": "2022-02-08T01:59:48.772310",
   "version": "2.2.2"
  }
 },
 "nbformat": 4,
 "nbformat_minor": 5
}