{
 "cells": [
  {
   "cell_type": "markdown",
   "id": "touched-facility",
   "metadata": {
    "papermill": {
     "duration": 0.015283,
     "end_time": "2022-09-21T03:50:49.673999",
     "exception": false,
     "start_time": "2022-09-21T03:50:49.658716",
     "status": "completed"
    },
    "tags": []
   },
   "source": [
    "# Koreliacijų matrica\n",
    "> Išplėstinė koreliacijų matrica. \n",
    "\n",
    "- toc: true \n",
    "- badges: true\n",
    "- comments: false\n",
    "- categories: [Dominykas Tautkus]\n",
    "- image: images/matrix.png"
   ]
  },
  {
   "cell_type": "code",
   "execution_count": null,
   "id": "premium-weekend",
   "metadata": {
    "papermill": {
     "duration": 0.01122,
     "end_time": "2022-09-21T03:50:49.697653",
     "exception": false,
     "start_time": "2022-09-21T03:50:49.686433",
     "status": "completed"
    },
    "tags": []
   },
   "outputs": [],
   "source": []
  },
  {
   "cell_type": "code",
   "execution_count": 1,
   "id": "vertical-rebate",
   "metadata": {
    "execution": {
     "iopub.execute_input": "2022-09-21T03:50:49.731137Z",
     "iopub.status.busy": "2022-09-21T03:50:49.730469Z",
     "iopub.status.idle": "2022-09-21T03:50:49.743674Z",
     "shell.execute_reply": "2022-09-21T03:50:49.743132Z"
    },
    "papermill": {
     "duration": 0.035082,
     "end_time": "2022-09-21T03:50:49.743812",
     "exception": false,
     "start_time": "2022-09-21T03:50:49.708730",
     "status": "completed"
    },
    "tags": []
   },
   "outputs": [],
   "source": [
    "#hide\n",
    "%load_ext autoreload\n",
    "%autoreload 2"
   ]
  },
  {
   "cell_type": "code",
   "execution_count": 2,
   "id": "overall-advancement",
   "metadata": {
    "execution": {
     "iopub.execute_input": "2022-09-21T03:50:49.775867Z",
     "iopub.status.busy": "2022-09-21T03:50:49.775223Z",
     "iopub.status.idle": "2022-09-21T03:50:51.341673Z",
     "shell.execute_reply": "2022-09-21T03:50:51.341075Z"
    },
    "papermill": {
     "duration": 1.586998,
     "end_time": "2022-09-21T03:50:51.341818",
     "exception": false,
     "start_time": "2022-09-21T03:50:49.754820",
     "status": "completed"
    },
    "tags": []
   },
   "outputs": [],
   "source": [
    "#hide\n",
    "from scripts.read_data import read_api\n",
    "from IPython.display import HTML\n",
    "import plotly.graph_objects as go\n"
   ]
  },
  {
   "cell_type": "code",
   "execution_count": 3,
   "id": "light-crazy",
   "metadata": {
    "execution": {
     "iopub.execute_input": "2022-09-21T03:50:51.378387Z",
     "iopub.status.busy": "2022-09-21T03:50:51.377277Z",
     "iopub.status.idle": "2022-09-21T03:50:51.396690Z",
     "shell.execute_reply": "2022-09-21T03:50:51.397163Z"
    },
    "papermill": {
     "duration": 0.044181,
     "end_time": "2022-09-21T03:50:51.397321",
     "exception": false,
     "start_time": "2022-09-21T03:50:51.353140",
     "status": "completed"
    },
    "tags": []
   },
   "outputs": [],
   "source": [
    "#hide\n",
    "### ICO koreliacija"
   ]
  },
  {
   "cell_type": "code",
   "execution_count": 4,
   "id": "likely-bahrain",
   "metadata": {
    "execution": {
     "iopub.execute_input": "2022-09-21T03:50:51.434968Z",
     "iopub.status.busy": "2022-09-21T03:50:51.431210Z",
     "iopub.status.idle": "2022-09-21T03:50:52.317809Z",
     "shell.execute_reply": "2022-09-21T03:50:52.317223Z"
    },
    "papermill": {
     "duration": 0.909449,
     "end_time": "2022-09-21T03:50:52.317957",
     "exception": false,
     "start_time": "2022-09-21T03:50:51.408508",
     "status": "completed"
    },
    "tags": []
   },
   "outputs": [],
   "source": [
    "#hide\n",
    "import matplotlib.pyplot as plt\n",
    "import numpy as np\n",
    "import pandas as pd\n",
    "import seaborn as sns\n",
    "import matplotlib.pyplot as plt \n",
    "import matplotlib.dates as mdates\n",
    "import matplotlib.pyplot as plt"
   ]
  },
  {
   "cell_type": "code",
   "execution_count": 5,
   "id": "superior-blanket",
   "metadata": {
    "execution": {
     "iopub.execute_input": "2022-09-21T03:50:52.357028Z",
     "iopub.status.busy": "2022-09-21T03:50:52.353868Z",
     "iopub.status.idle": "2022-09-21T03:51:01.832119Z",
     "shell.execute_reply": "2022-09-21T03:51:01.832636Z"
    },
    "papermill": {
     "duration": 9.503211,
     "end_time": "2022-09-21T03:51:01.832788",
     "exception": false,
     "start_time": "2022-09-21T03:50:52.329577",
     "status": "completed"
    },
    "tags": []
   },
   "outputs": [
    {
     "name": "stderr",
     "output_type": "stream",
     "text": [
      "/home/runner/work/corr-app/corr-app/_notebooks/scripts/read_data.py:187: SettingWithCopyWarning:\n",
      "\n",
      "\n",
      "A value is trying to be set on a copy of a slice from a DataFrame.\n",
      "Try using .loc[row_indexer,col_indexer] = value instead\n",
      "\n",
      "See the caveats in the documentation: https://pandas.pydata.org/pandas-docs/stable/user_guide/indexing.html#returning-a-view-versus-a-copy\n",
      "\n"
     ]
    },
    {
     "name": "stderr",
     "output_type": "stream",
     "text": [
      "/home/runner/work/corr-app/corr-app/_notebooks/scripts/read_data.py:215: SettingWithCopyWarning:\n",
      "\n",
      "\n",
      "A value is trying to be set on a copy of a slice from a DataFrame.\n",
      "Try using .loc[row_indexer,col_indexer] = value instead\n",
      "\n",
      "See the caveats in the documentation: https://pandas.pydata.org/pandas-docs/stable/user_guide/indexing.html#returning-a-view-versus-a-copy\n",
      "\n"
     ]
    }
   ],
   "source": [
    "#hide\n",
    "df_all = read_api()\n",
    "#df_all = df_all.drop(['SP500', 'XAU', 'ETH', 'BTC'], axis=1)\n",
    "\n"
   ]
  },
  {
   "cell_type": "code",
   "execution_count": 6,
   "id": "mature-alert",
   "metadata": {
    "execution": {
     "iopub.execute_input": "2022-09-21T03:51:01.866793Z",
     "iopub.status.busy": "2022-09-21T03:51:01.865732Z",
     "iopub.status.idle": "2022-09-21T03:51:01.896894Z",
     "shell.execute_reply": "2022-09-21T03:51:01.896316Z"
    },
    "papermill": {
     "duration": 0.051042,
     "end_time": "2022-09-21T03:51:01.897046",
     "exception": false,
     "start_time": "2022-09-21T03:51:01.846004",
     "status": "completed"
    },
    "tags": []
   },
   "outputs": [],
   "source": [
    "#hide_input\n",
    "sum_corr = df_all.corr().sum().sort_values(ascending=True).index.values\n",
    "#df_all[sum_corr].corr()"
   ]
  },
  {
   "cell_type": "markdown",
   "id": "complex-syndicate",
   "metadata": {
    "papermill": {
     "duration": 0.011641,
     "end_time": "2022-09-21T03:51:01.920851",
     "exception": false,
     "start_time": "2022-09-21T03:51:01.909210",
     "status": "completed"
    },
    "tags": []
   },
   "source": [
    "## Išplėstinė koreliacijų matrica. "
   ]
  },
  {
   "cell_type": "code",
   "execution_count": 7,
   "id": "atomic-omaha",
   "metadata": {
    "execution": {
     "iopub.execute_input": "2022-09-21T03:51:01.959129Z",
     "iopub.status.busy": "2022-09-21T03:51:01.956066Z",
     "iopub.status.idle": "2022-09-21T03:51:03.229866Z",
     "shell.execute_reply": "2022-09-21T03:51:03.228949Z"
    },
    "papermill": {
     "duration": 1.297585,
     "end_time": "2022-09-21T03:51:03.230006",
     "exception": false,
     "start_time": "2022-09-21T03:51:01.932421",
     "status": "completed"
    },
    "tags": []
   },
   "outputs": [
    {
     "data": {
      "image/png": "[encoded data removed]",
      "text/plain": [
       "<Figure size 1080x792 with 2 Axes>"
      ]
     },
     "metadata": {
      "needs_background": "light"
     },
     "output_type": "display_data"
    }
   ],
   "source": [
    "#hide_input\n",
    "plt.figure(figsize=(15, 11))\n",
    "sns.heatmap(df_all[sum_corr].corr(), annot=True, cmap=\"cubehelix\") \n",
    "sns.set(font_scale=1.25)\n",
    "plt.savefig('corr_matrix.png', format='eps')"
   ]
  },
  {
   "cell_type": "code",
   "execution_count": 8,
   "id": "arbitrary-sullivan",
   "metadata": {
    "execution": {
     "iopub.execute_input": "2022-09-21T03:51:03.264798Z",
     "iopub.status.busy": "2022-09-21T03:51:03.264011Z",
     "iopub.status.idle": "2022-09-21T03:51:03.292143Z",
     "shell.execute_reply": "2022-09-21T03:51:03.291387Z"
    },
    "papermill": {
     "duration": 0.048248,
     "end_time": "2022-09-21T03:51:03.292283",
     "exception": false,
     "start_time": "2022-09-21T03:51:03.244035",
     "status": "completed"
    },
    "tags": []
   },
   "outputs": [],
   "source": [
    "#hide\n",
    "#df_all_mrk = read_api()"
   ]
  },
  {
   "cell_type": "code",
   "execution_count": 9,
   "id": "delayed-adapter",
   "metadata": {
    "execution": {
     "iopub.execute_input": "2022-09-21T03:51:03.331137Z",
     "iopub.status.busy": "2022-09-21T03:51:03.330480Z",
     "iopub.status.idle": "2022-09-21T03:51:03.357159Z",
     "shell.execute_reply": "2022-09-21T03:51:03.356626Z"
    },
    "papermill": {
     "duration": 0.050831,
     "end_time": "2022-09-21T03:51:03.357290",
     "exception": false,
     "start_time": "2022-09-21T03:51:03.306459",
     "status": "completed"
    },
    "tags": []
   },
   "outputs": [],
   "source": [
    "#hide\n",
    "#Koreliacijų koeficientai"
   ]
  },
  {
   "cell_type": "code",
   "execution_count": 10,
   "id": "seeing-celebration",
   "metadata": {
    "execution": {
     "iopub.execute_input": "2022-09-21T03:51:03.392113Z",
     "iopub.status.busy": "2022-09-21T03:51:03.391408Z",
     "iopub.status.idle": "2022-09-21T03:51:03.418580Z",
     "shell.execute_reply": "2022-09-21T03:51:03.419090Z"
    },
    "papermill": {
     "duration": 0.04808,
     "end_time": "2022-09-21T03:51:03.419251",
     "exception": false,
     "start_time": "2022-09-21T03:51:03.371171",
     "status": "completed"
    },
    "tags": []
   },
   "outputs": [],
   "source": [
    "#hide_input\n",
    "#sum_corr = df_all_mrk.corr().sum().sort_values(ascending=True).index.values\n",
    "#df_all_mrk[sum_corr].corr()"
   ]
  },
  {
   "cell_type": "code",
   "execution_count": 11,
   "id": "other-painting",
   "metadata": {
    "execution": {
     "iopub.execute_input": "2022-09-21T03:51:03.450985Z",
     "iopub.status.busy": "2022-09-21T03:51:03.450358Z",
     "iopub.status.idle": "2022-09-21T03:51:03.478882Z",
     "shell.execute_reply": "2022-09-21T03:51:03.478289Z"
    },
    "papermill": {
     "duration": 0.046053,
     "end_time": "2022-09-21T03:51:03.479020",
     "exception": false,
     "start_time": "2022-09-21T03:51:03.432967",
     "status": "completed"
    },
    "tags": []
   },
   "outputs": [],
   "source": [
    "#hide\n",
    "#Koreliacijos matrica. "
   ]
  },
  {
   "cell_type": "code",
   "execution_count": 12,
   "id": "modular-magnitude",
   "metadata": {
    "execution": {
     "iopub.execute_input": "2022-09-21T03:51:03.512336Z",
     "iopub.status.busy": "2022-09-21T03:51:03.511703Z",
     "iopub.status.idle": "2022-09-21T03:51:03.539536Z",
     "shell.execute_reply": "2022-09-21T03:51:03.538949Z"
    },
    "papermill": {
     "duration": 0.046294,
     "end_time": "2022-09-21T03:51:03.539673",
     "exception": false,
     "start_time": "2022-09-21T03:51:03.493379",
     "status": "completed"
    },
    "tags": []
   },
   "outputs": [],
   "source": [
    "#hide_input\n",
    "#plt.figure(figsize=(15, 8))\n",
    "#sns.heatmap(df_all_mrk[sum_corr].corr(), annot=True, cmap=\"BrBG\");\n",
    "#plt.savefig('corr_matrix_all.eps', format='eps')"
   ]
  },
  {
   "cell_type": "code",
   "execution_count": null,
   "id": "original-senator",
   "metadata": {
    "papermill": {
     "duration": 0.013598,
     "end_time": "2022-09-21T03:51:03.567502",
     "exception": false,
     "start_time": "2022-09-21T03:51:03.553904",
     "status": "completed"
    },
    "tags": []
   },
   "outputs": [],
   "source": []
  },
  {
   "cell_type": "code",
   "execution_count": null,
   "id": "saving-secretariat",
   "metadata": {
    "papermill": {
     "duration": 0.013567,
     "end_time": "2022-09-21T03:51:03.594650",
     "exception": false,
     "start_time": "2022-09-21T03:51:03.581083",
     "status": "completed"
    },
    "tags": []
   },
   "outputs": [],
   "source": []
  }
 ],
 "metadata": {
  "kernelspec": {
   "display_name": "Python 3",
   "language": "python",
   "name": "python3"
  },
  "language_info": {
   "codemirror_mode": {
    "name": "ipython",
    "version": 3
   },
   "file_extension": ".py",
   "mimetype": "text/x-python",
   "name": "python",
   "nbconvert_exporter": "python",
   "pygments_lexer": "ipython3",
   "version": "3.6.15"
  },
  "papermill": {
   "default_parameters": {},
   "duration": 15.818775,
   "end_time": "2022-09-21T03:51:04.228732",
   "environment_variables": {},
   "exception": null,
   "input_path": "App-Correlation_charts.ipynb",
   "output_path": "App-Correlation_charts.ipynb",
   "parameters": {},
   "start_time": "2022-09-21T03:50:48.409957",
   "version": "2.2.2"
  }
 },
 "nbformat": 4,
 "nbformat_minor": 5
}