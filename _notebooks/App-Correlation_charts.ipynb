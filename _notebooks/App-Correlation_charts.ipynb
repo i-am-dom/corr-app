{
 "cells": [
  {
   "cell_type": "markdown",
   "id": "touched-facility",
   "metadata": {
    "papermill": {
     "duration": 0.018346,
     "end_time": "2021-12-28T02:03:17.054230",
     "exception": false,
     "start_time": "2021-12-28T02:03:17.035884",
     "status": "completed"
    },
    "tags": []
   },
   "source": [
    "# Koreliacijų matrica\n",
    "> Išplėstinė koreliacijų matrica. \n",
    "\n",
    "- toc: true \n",
    "- badges: true\n",
    "- comments: false\n",
    "- categories: [Dominykas Tautkus]\n",
    "- image: images/matrix.png"
   ]
  },
  {
   "cell_type": "code",
   "execution_count": null,
   "id": "premium-weekend",
   "metadata": {
    "papermill": {
     "duration": 0.012648,
     "end_time": "2021-12-28T02:03:17.080628",
     "exception": false,
     "start_time": "2021-12-28T02:03:17.067980",
     "status": "completed"
    },
    "tags": []
   },
   "outputs": [],
   "source": []
  },
  {
   "cell_type": "code",
   "execution_count": 1,
   "id": "vertical-rebate",
   "metadata": {
    "execution": {
     "iopub.execute_input": "2021-12-28T02:03:17.119112Z",
     "iopub.status.busy": "2021-12-28T02:03:17.118473Z",
     "iopub.status.idle": "2021-12-28T02:03:17.130153Z",
     "shell.execute_reply": "2021-12-28T02:03:17.129639Z"
    },
    "papermill": {
     "duration": 0.03727,
     "end_time": "2021-12-28T02:03:17.130303",
     "exception": false,
     "start_time": "2021-12-28T02:03:17.093033",
     "status": "completed"
    },
    "tags": []
   },
   "outputs": [],
   "source": [
    "#hide\n",
    "%load_ext autoreload\n",
    "%autoreload 2"
   ]
  },
  {
   "cell_type": "code",
   "execution_count": 2,
   "id": "overall-advancement",
   "metadata": {
    "execution": {
     "iopub.execute_input": "2021-12-28T02:03:17.161618Z",
     "iopub.status.busy": "2021-12-28T02:03:17.161014Z",
     "iopub.status.idle": "2021-12-28T02:03:18.640922Z",
     "shell.execute_reply": "2021-12-28T02:03:18.639979Z"
    },
    "papermill": {
     "duration": 1.498364,
     "end_time": "2021-12-28T02:03:18.641153",
     "exception": false,
     "start_time": "2021-12-28T02:03:17.142789",
     "status": "completed"
    },
    "tags": []
   },
   "outputs": [],
   "source": [
    "#hide\n",
    "from scripts.read_data import read_api\n",
    "from IPython.display import HTML\n",
    "import plotly.graph_objects as go\n"
   ]
  },
  {
   "cell_type": "code",
   "execution_count": 3,
   "id": "light-crazy",
   "metadata": {
    "execution": {
     "iopub.execute_input": "2021-12-28T02:03:18.677123Z",
     "iopub.status.busy": "2021-12-28T02:03:18.676473Z",
     "iopub.status.idle": "2021-12-28T02:03:18.702163Z",
     "shell.execute_reply": "2021-12-28T02:03:18.701532Z"
    },
    "papermill": {
     "duration": 0.046686,
     "end_time": "2021-12-28T02:03:18.702310",
     "exception": false,
     "start_time": "2021-12-28T02:03:18.655624",
     "status": "completed"
    },
    "tags": []
   },
   "outputs": [],
   "source": [
    "#hide\n",
    "### ICO koreliacija"
   ]
  },
  {
   "cell_type": "code",
   "execution_count": 4,
   "id": "likely-bahrain",
   "metadata": {
    "execution": {
     "iopub.execute_input": "2021-12-28T02:03:18.731862Z",
     "iopub.status.busy": "2021-12-28T02:03:18.731271Z",
     "iopub.status.idle": "2021-12-28T02:03:19.796863Z",
     "shell.execute_reply": "2021-12-28T02:03:19.796306Z"
    },
    "papermill": {
     "duration": 1.081929,
     "end_time": "2021-12-28T02:03:19.797010",
     "exception": false,
     "start_time": "2021-12-28T02:03:18.715081",
     "status": "completed"
    },
    "tags": []
   },
   "outputs": [],
   "source": [
    "#hide\n",
    "import matplotlib.pyplot as plt\n",
    "import numpy as np\n",
    "import pandas as pd\n",
    "import seaborn as sns\n",
    "import matplotlib.pyplot as plt \n",
    "import matplotlib.dates as mdates\n",
    "import matplotlib.pyplot as plt"
   ]
  },
  {
   "cell_type": "code",
   "execution_count": 5,
   "id": "superior-blanket",
   "metadata": {
    "execution": {
     "iopub.execute_input": "2021-12-28T02:03:19.826680Z",
     "iopub.status.busy": "2021-12-28T02:03:19.826070Z",
     "iopub.status.idle": "2021-12-28T02:03:35.344293Z",
     "shell.execute_reply": "2021-12-28T02:03:35.342946Z"
    },
    "papermill": {
     "duration": 15.534562,
     "end_time": "2021-12-28T02:03:35.344443",
     "exception": false,
     "start_time": "2021-12-28T02:03:19.809881",
     "status": "completed"
    },
    "tags": []
   },
   "outputs": [
    {
     "name": "stderr",
     "output_type": "stream",
     "text": [
      "/home/runner/work/corr-app/corr-app/_notebooks/scripts/read_data.py:187: SettingWithCopyWarning:\n",
      "\n",
      "\n",
      "A value is trying to be set on a copy of a slice from a DataFrame.\n",
      "Try using .loc[row_indexer,col_indexer] = value instead\n",
      "\n",
      "See the caveats in the documentation: https://pandas.pydata.org/pandas-docs/stable/user_guide/indexing.html#returning-a-view-versus-a-copy\n",
      "\n"
     ]
    },
    {
     "name": "stderr",
     "output_type": "stream",
     "text": [
      "/home/runner/work/corr-app/corr-app/_notebooks/scripts/read_data.py:215: SettingWithCopyWarning:\n",
      "\n",
      "\n",
      "A value is trying to be set on a copy of a slice from a DataFrame.\n",
      "Try using .loc[row_indexer,col_indexer] = value instead\n",
      "\n",
      "See the caveats in the documentation: https://pandas.pydata.org/pandas-docs/stable/user_guide/indexing.html#returning-a-view-versus-a-copy\n",
      "\n"
     ]
    }
   ],
   "source": [
    "#hide\n",
    "df_all = read_api()\n",
    "#df_all = df_all.drop(['SP500', 'XAU', 'ETH', 'BTC'], axis=1)\n",
    "\n"
   ]
  },
  {
   "cell_type": "code",
   "execution_count": 6,
   "id": "mature-alert",
   "metadata": {
    "execution": {
     "iopub.execute_input": "2021-12-28T02:03:35.377689Z",
     "iopub.status.busy": "2021-12-28T02:03:35.376610Z",
     "iopub.status.idle": "2021-12-28T02:03:35.410270Z",
     "shell.execute_reply": "2021-12-28T02:03:35.410788Z"
    },
    "papermill": {
     "duration": 0.052964,
     "end_time": "2021-12-28T02:03:35.410963",
     "exception": false,
     "start_time": "2021-12-28T02:03:35.357999",
     "status": "completed"
    },
    "tags": []
   },
   "outputs": [],
   "source": [
    "#hide_input\n",
    "sum_corr = df_all.corr().sum().sort_values(ascending=True).index.values\n",
    "#df_all[sum_corr].corr()"
   ]
  },
  {
   "cell_type": "markdown",
   "id": "complex-syndicate",
   "metadata": {
    "papermill": {
     "duration": 0.012998,
     "end_time": "2021-12-28T02:03:35.438349",
     "exception": false,
     "start_time": "2021-12-28T02:03:35.425351",
     "status": "completed"
    },
    "tags": []
   },
   "source": [
    "## Išplėstinė koreliacijų matrica. "
   ]
  },
  {
   "cell_type": "code",
   "execution_count": 7,
   "id": "atomic-omaha",
   "metadata": {
    "execution": {
     "iopub.execute_input": "2021-12-28T02:03:35.469235Z",
     "iopub.status.busy": "2021-12-28T02:03:35.468635Z",
     "iopub.status.idle": "2021-12-28T02:03:36.970141Z",
     "shell.execute_reply": "2021-12-28T02:03:36.970624Z"
    },
    "papermill": {
     "duration": 1.519559,
     "end_time": "2021-12-28T02:03:36.970786",
     "exception": false,
     "start_time": "2021-12-28T02:03:35.451227",
     "status": "completed"
    },
    "tags": []
   },
   "outputs": [
    {
     "data": {
      "image/png": "[encoded data removed]",
      "text/plain": [
       "<Figure size 1080x792 with 2 Axes>"
      ]
     },
     "metadata": {
      "needs_background": "light"
     },
     "output_type": "display_data"
    }
   ],
   "source": [
    "#hide_input\n",
    "plt.figure(figsize=(15, 11))\n",
    "sns.heatmap(df_all[sum_corr].corr(), annot=True, cmap=\"cubehelix\") \n",
    "sns.set(font_scale=1.25)\n",
    "plt.savefig('corr_matrix.png', format='eps')"
   ]
  },
  {
   "cell_type": "code",
   "execution_count": 8,
   "id": "arbitrary-sullivan",
   "metadata": {
    "execution": {
     "iopub.execute_input": "2021-12-28T02:03:37.008920Z",
     "iopub.status.busy": "2021-12-28T02:03:37.007710Z",
     "iopub.status.idle": "2021-12-28T02:03:37.040184Z",
     "shell.execute_reply": "2021-12-28T02:03:37.039480Z"
    },
    "papermill": {
     "duration": 0.053875,
     "end_time": "2021-12-28T02:03:37.040398",
     "exception": false,
     "start_time": "2021-12-28T02:03:36.986523",
     "status": "completed"
    },
    "tags": []
   },
   "outputs": [],
   "source": [
    "#hide\n",
    "#df_all_mrk = read_api()"
   ]
  },
  {
   "cell_type": "code",
   "execution_count": 9,
   "id": "delayed-adapter",
   "metadata": {
    "execution": {
     "iopub.execute_input": "2021-12-28T02:03:37.077536Z",
     "iopub.status.busy": "2021-12-28T02:03:37.076933Z",
     "iopub.status.idle": "2021-12-28T02:03:37.111605Z",
     "shell.execute_reply": "2021-12-28T02:03:37.110859Z"
    },
    "papermill": {
     "duration": 0.055275,
     "end_time": "2021-12-28T02:03:37.111791",
     "exception": false,
     "start_time": "2021-12-28T02:03:37.056516",
     "status": "completed"
    },
    "tags": []
   },
   "outputs": [],
   "source": [
    "#hide\n",
    "#Koreliacijų koeficientai"
   ]
  },
  {
   "cell_type": "code",
   "execution_count": 10,
   "id": "seeing-celebration",
   "metadata": {
    "execution": {
     "iopub.execute_input": "2021-12-28T02:03:37.148799Z",
     "iopub.status.busy": "2021-12-28T02:03:37.148134Z",
     "iopub.status.idle": "2021-12-28T02:03:37.186052Z",
     "shell.execute_reply": "2021-12-28T02:03:37.185494Z"
    },
    "papermill": {
     "duration": 0.058062,
     "end_time": "2021-12-28T02:03:37.186187",
     "exception": false,
     "start_time": "2021-12-28T02:03:37.128125",
     "status": "completed"
    },
    "tags": []
   },
   "outputs": [],
   "source": [
    "#hide_input\n",
    "#sum_corr = df_all_mrk.corr().sum().sort_values(ascending=True).index.values\n",
    "#df_all_mrk[sum_corr].corr()"
   ]
  },
  {
   "cell_type": "code",
   "execution_count": 11,
   "id": "other-painting",
   "metadata": {
    "execution": {
     "iopub.execute_input": "2021-12-28T02:03:37.222194Z",
     "iopub.status.busy": "2021-12-28T02:03:37.221584Z",
     "iopub.status.idle": "2021-12-28T02:03:37.254439Z",
     "shell.execute_reply": "2021-12-28T02:03:37.253700Z"
    },
    "papermill": {
     "duration": 0.053104,
     "end_time": "2021-12-28T02:03:37.254614",
     "exception": false,
     "start_time": "2021-12-28T02:03:37.201510",
     "status": "completed"
    },
    "tags": []
   },
   "outputs": [],
   "source": [
    "#hide\n",
    "#Koreliacijos matrica. "
   ]
  },
  {
   "cell_type": "code",
   "execution_count": 12,
   "id": "modular-magnitude",
   "metadata": {
    "execution": {
     "iopub.execute_input": "2021-12-28T02:03:37.290812Z",
     "iopub.status.busy": "2021-12-28T02:03:37.290214Z",
     "iopub.status.idle": "2021-12-28T02:03:37.321596Z",
     "shell.execute_reply": "2021-12-28T02:03:37.320845Z"
    },
    "papermill": {
     "duration": 0.051252,
     "end_time": "2021-12-28T02:03:37.321771",
     "exception": false,
     "start_time": "2021-12-28T02:03:37.270519",
     "status": "completed"
    },
    "tags": []
   },
   "outputs": [],
   "source": [
    "#hide_input\n",
    "#plt.figure(figsize=(15, 8))\n",
    "#sns.heatmap(df_all_mrk[sum_corr].corr(), annot=True, cmap=\"BrBG\");\n",
    "#plt.savefig('corr_matrix_all.eps', format='eps')"
   ]
  },
  {
   "cell_type": "code",
   "execution_count": null,
   "id": "original-senator",
   "metadata": {
    "papermill": {
     "duration": 0.015286,
     "end_time": "2021-12-28T02:03:37.353657",
     "exception": false,
     "start_time": "2021-12-28T02:03:37.338371",
     "status": "completed"
    },
    "tags": []
   },
   "outputs": [],
   "source": []
  },
  {
   "cell_type": "code",
   "execution_count": null,
   "id": "saving-secretariat",
   "metadata": {
    "papermill": {
     "duration": 0.015622,
     "end_time": "2021-12-28T02:03:37.384773",
     "exception": false,
     "start_time": "2021-12-28T02:03:37.369151",
     "status": "completed"
    },
    "tags": []
   },
   "outputs": [],
   "source": []
  }
 ],
 "metadata": {
  "kernelspec": {
   "display_name": "Python 3",
   "language": "python",
   "name": "python3"
  },
  "language_info": {
   "codemirror_mode": {
    "name": "ipython",
    "version": 3
   },
   "file_extension": ".py",
   "mimetype": "text/x-python",
   "name": "python",
   "nbconvert_exporter": "python",
   "pygments_lexer": "ipython3",
   "version": "3.6.15"
  },
  "papermill": {
   "default_parameters": {},
   "duration": 22.295559,
   "end_time": "2021-12-28T02:03:38.011775",
   "environment_variables": {},
   "exception": null,
   "input_path": "App-Correlation_charts.ipynb",
   "output_path": "App-Correlation_charts.ipynb",
   "parameters": {},
   "start_time": "2021-12-28T02:03:15.716216",
   "version": "2.2.2"
  }
 },
 "nbformat": 4,
 "nbformat_minor": 5
}