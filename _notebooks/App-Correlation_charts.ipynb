{
 "cells": [
  {
   "cell_type": "markdown",
   "id": "touched-facility",
   "metadata": {
    "papermill": {
     "duration": 0.016217,
     "end_time": "2021-11-20T01:56:12.390789",
     "exception": false,
     "start_time": "2021-11-20T01:56:12.374572",
     "status": "completed"
    },
    "tags": []
   },
   "source": [
    "# Koreliacijų matrica\n",
    "> Išplėstinė koreliacijų matrica. \n",
    "\n",
    "- toc: true \n",
    "- badges: true\n",
    "- comments: false\n",
    "- categories: [Dominykas Tautkus]\n",
    "- image: images/matrix.png"
   ]
  },
  {
   "cell_type": "code",
   "execution_count": null,
   "id": "premium-weekend",
   "metadata": {
    "papermill": {
     "duration": 0.012271,
     "end_time": "2021-11-20T01:56:12.415654",
     "exception": false,
     "start_time": "2021-11-20T01:56:12.403383",
     "status": "completed"
    },
    "tags": []
   },
   "outputs": [],
   "source": []
  },
  {
   "cell_type": "code",
   "execution_count": 1,
   "id": "vertical-rebate",
   "metadata": {
    "execution": {
     "iopub.execute_input": "2021-11-20T01:56:12.459625Z",
     "iopub.status.busy": "2021-11-20T01:56:12.457742Z",
     "iopub.status.idle": "2021-11-20T01:56:12.469712Z",
     "shell.execute_reply": "2021-11-20T01:56:12.469149Z"
    },
    "papermill": {
     "duration": 0.039341,
     "end_time": "2021-11-20T01:56:12.469853",
     "exception": false,
     "start_time": "2021-11-20T01:56:12.430512",
     "status": "completed"
    },
    "tags": []
   },
   "outputs": [],
   "source": [
    "#hide\n",
    "%load_ext autoreload\n",
    "%autoreload 2"
   ]
  },
  {
   "cell_type": "code",
   "execution_count": 2,
   "id": "overall-advancement",
   "metadata": {
    "execution": {
     "iopub.execute_input": "2021-11-20T01:56:12.499911Z",
     "iopub.status.busy": "2021-11-20T01:56:12.499257Z",
     "iopub.status.idle": "2021-11-20T01:56:13.804989Z",
     "shell.execute_reply": "2021-11-20T01:56:13.804450Z"
    },
    "papermill": {
     "duration": 1.322745,
     "end_time": "2021-11-20T01:56:13.805146",
     "exception": false,
     "start_time": "2021-11-20T01:56:12.482401",
     "status": "completed"
    },
    "tags": []
   },
   "outputs": [],
   "source": [
    "#hide\n",
    "from scripts.read_data import read_api\n",
    "from IPython.display import HTML\n",
    "import plotly.graph_objects as go\n"
   ]
  },
  {
   "cell_type": "code",
   "execution_count": 3,
   "id": "light-crazy",
   "metadata": {
    "execution": {
     "iopub.execute_input": "2021-11-20T01:56:13.838435Z",
     "iopub.status.busy": "2021-11-20T01:56:13.837034Z",
     "iopub.status.idle": "2021-11-20T01:56:13.858009Z",
     "shell.execute_reply": "2021-11-20T01:56:13.857369Z"
    },
    "papermill": {
     "duration": 0.04002,
     "end_time": "2021-11-20T01:56:13.858127",
     "exception": false,
     "start_time": "2021-11-20T01:56:13.818107",
     "status": "completed"
    },
    "tags": []
   },
   "outputs": [],
   "source": [
    "#hide\n",
    "### ICO koreliacija"
   ]
  },
  {
   "cell_type": "code",
   "execution_count": 4,
   "id": "likely-bahrain",
   "metadata": {
    "execution": {
     "iopub.execute_input": "2021-11-20T01:56:13.887371Z",
     "iopub.status.busy": "2021-11-20T01:56:13.886754Z",
     "iopub.status.idle": "2021-11-20T01:56:14.882549Z",
     "shell.execute_reply": "2021-11-20T01:56:14.881993Z"
    },
    "papermill": {
     "duration": 1.010973,
     "end_time": "2021-11-20T01:56:14.882689",
     "exception": false,
     "start_time": "2021-11-20T01:56:13.871716",
     "status": "completed"
    },
    "tags": []
   },
   "outputs": [],
   "source": [
    "#hide\n",
    "import matplotlib.pyplot as plt\n",
    "import numpy as np\n",
    "import pandas as pd\n",
    "import seaborn as sns\n",
    "import matplotlib.pyplot as plt \n",
    "import matplotlib.dates as mdates\n",
    "import matplotlib.pyplot as plt"
   ]
  },
  {
   "cell_type": "code",
   "execution_count": 5,
   "id": "superior-blanket",
   "metadata": {
    "execution": {
     "iopub.execute_input": "2021-11-20T01:56:14.914756Z",
     "iopub.status.busy": "2021-11-20T01:56:14.914084Z",
     "iopub.status.idle": "2021-11-20T01:56:30.556262Z",
     "shell.execute_reply": "2021-11-20T01:56:30.555723Z"
    },
    "papermill": {
     "duration": 15.661346,
     "end_time": "2021-11-20T01:56:30.556398",
     "exception": false,
     "start_time": "2021-11-20T01:56:14.895052",
     "status": "completed"
    },
    "tags": []
   },
   "outputs": [
    {
     "name": "stderr",
     "output_type": "stream",
     "text": [
      "/home/runner/work/corr-app/corr-app/_notebooks/scripts/read_data.py:187: SettingWithCopyWarning:\n",
      "\n",
      "\n",
      "A value is trying to be set on a copy of a slice from a DataFrame.\n",
      "Try using .loc[row_indexer,col_indexer] = value instead\n",
      "\n",
      "See the caveats in the documentation: https://pandas.pydata.org/pandas-docs/stable/user_guide/indexing.html#returning-a-view-versus-a-copy\n",
      "\n"
     ]
    },
    {
     "name": "stderr",
     "output_type": "stream",
     "text": [
      "/home/runner/work/corr-app/corr-app/_notebooks/scripts/read_data.py:215: SettingWithCopyWarning:\n",
      "\n",
      "\n",
      "A value is trying to be set on a copy of a slice from a DataFrame.\n",
      "Try using .loc[row_indexer,col_indexer] = value instead\n",
      "\n",
      "See the caveats in the documentation: https://pandas.pydata.org/pandas-docs/stable/user_guide/indexing.html#returning-a-view-versus-a-copy\n",
      "\n"
     ]
    }
   ],
   "source": [
    "#hide\n",
    "df_all = read_api()\n",
    "#df_all = df_all.drop(['SP500', 'XAU', 'ETH', 'BTC'], axis=1)\n",
    "\n"
   ]
  },
  {
   "cell_type": "code",
   "execution_count": 6,
   "id": "mature-alert",
   "metadata": {
    "execution": {
     "iopub.execute_input": "2021-11-20T01:56:30.586600Z",
     "iopub.status.busy": "2021-11-20T01:56:30.585546Z",
     "iopub.status.idle": "2021-11-20T01:56:30.618895Z",
     "shell.execute_reply": "2021-11-20T01:56:30.618421Z"
    },
    "papermill": {
     "duration": 0.049381,
     "end_time": "2021-11-20T01:56:30.619013",
     "exception": false,
     "start_time": "2021-11-20T01:56:30.569632",
     "status": "completed"
    },
    "tags": []
   },
   "outputs": [],
   "source": [
    "#hide_input\n",
    "sum_corr = df_all.corr().sum().sort_values(ascending=True).index.values\n",
    "#df_all[sum_corr].corr()"
   ]
  },
  {
   "cell_type": "markdown",
   "id": "complex-syndicate",
   "metadata": {
    "papermill": {
     "duration": 0.012768,
     "end_time": "2021-11-20T01:56:30.644759",
     "exception": false,
     "start_time": "2021-11-20T01:56:30.631991",
     "status": "completed"
    },
    "tags": []
   },
   "source": [
    "## Išplėstinė koreliacijų matrica. "
   ]
  },
  {
   "cell_type": "code",
   "execution_count": 7,
   "id": "atomic-omaha",
   "metadata": {
    "execution": {
     "iopub.execute_input": "2021-11-20T01:56:30.675576Z",
     "iopub.status.busy": "2021-11-20T01:56:30.674916Z",
     "iopub.status.idle": "2021-11-20T01:56:32.236449Z",
     "shell.execute_reply": "2021-11-20T01:56:32.235931Z"
    },
    "papermill": {
     "duration": 1.578844,
     "end_time": "2021-11-20T01:56:32.236584",
     "exception": false,
     "start_time": "2021-11-20T01:56:30.657740",
     "status": "completed"
    },
    "tags": []
   },
   "outputs": [
    {
     "data": {
      "image/png": "[encoded data removed]",
      "text/plain": [
       "<Figure size 1080x792 with 2 Axes>"
      ]
     },
     "metadata": {
      "needs_background": "light"
     },
     "output_type": "display_data"
    }
   ],
   "source": [
    "#hide_input\n",
    "plt.figure(figsize=(15, 11))\n",
    "sns.heatmap(df_all[sum_corr].corr(), annot=True, cmap=\"cubehelix\") \n",
    "sns.set(font_scale=1.25)\n",
    "plt.savefig('corr_matrix.png', format='eps')"
   ]
  },
  {
   "cell_type": "code",
   "execution_count": 8,
   "id": "arbitrary-sullivan",
   "metadata": {
    "execution": {
     "iopub.execute_input": "2021-11-20T01:56:32.270588Z",
     "iopub.status.busy": "2021-11-20T01:56:32.269978Z",
     "iopub.status.idle": "2021-11-20T01:56:32.296881Z",
     "shell.execute_reply": "2021-11-20T01:56:32.296409Z"
    },
    "papermill": {
     "duration": 0.045794,
     "end_time": "2021-11-20T01:56:32.297002",
     "exception": false,
     "start_time": "2021-11-20T01:56:32.251208",
     "status": "completed"
    },
    "tags": []
   },
   "outputs": [],
   "source": [
    "#hide\n",
    "#df_all_mrk = read_api()"
   ]
  },
  {
   "cell_type": "code",
   "execution_count": 9,
   "id": "delayed-adapter",
   "metadata": {
    "execution": {
     "iopub.execute_input": "2021-11-20T01:56:32.332718Z",
     "iopub.status.busy": "2021-11-20T01:56:32.331295Z",
     "iopub.status.idle": "2021-11-20T01:56:32.363446Z",
     "shell.execute_reply": "2021-11-20T01:56:32.362907Z"
    },
    "papermill": {
     "duration": 0.051443,
     "end_time": "2021-11-20T01:56:32.363576",
     "exception": false,
     "start_time": "2021-11-20T01:56:32.312133",
     "status": "completed"
    },
    "tags": []
   },
   "outputs": [],
   "source": [
    "#hide\n",
    "#Koreliacijų koeficientai"
   ]
  },
  {
   "cell_type": "code",
   "execution_count": 10,
   "id": "seeing-celebration",
   "metadata": {
    "execution": {
     "iopub.execute_input": "2021-11-20T01:56:32.397151Z",
     "iopub.status.busy": "2021-11-20T01:56:32.396483Z",
     "iopub.status.idle": "2021-11-20T01:56:32.424016Z",
     "shell.execute_reply": "2021-11-20T01:56:32.423527Z"
    },
    "papermill": {
     "duration": 0.045353,
     "end_time": "2021-11-20T01:56:32.424128",
     "exception": false,
     "start_time": "2021-11-20T01:56:32.378775",
     "status": "completed"
    },
    "tags": []
   },
   "outputs": [],
   "source": [
    "#hide_input\n",
    "#sum_corr = df_all_mrk.corr().sum().sort_values(ascending=True).index.values\n",
    "#df_all_mrk[sum_corr].corr()"
   ]
  },
  {
   "cell_type": "code",
   "execution_count": 11,
   "id": "other-painting",
   "metadata": {
    "execution": {
     "iopub.execute_input": "2021-11-20T01:56:32.455077Z",
     "iopub.status.busy": "2021-11-20T01:56:32.454478Z",
     "iopub.status.idle": "2021-11-20T01:56:32.480326Z",
     "shell.execute_reply": "2021-11-20T01:56:32.480771Z"
    },
    "papermill": {
     "duration": 0.042816,
     "end_time": "2021-11-20T01:56:32.480901",
     "exception": false,
     "start_time": "2021-11-20T01:56:32.438085",
     "status": "completed"
    },
    "tags": []
   },
   "outputs": [],
   "source": [
    "#hide\n",
    "#Koreliacijos matrica. "
   ]
  },
  {
   "cell_type": "code",
   "execution_count": 12,
   "id": "modular-magnitude",
   "metadata": {
    "execution": {
     "iopub.execute_input": "2021-11-20T01:56:32.514254Z",
     "iopub.status.busy": "2021-11-20T01:56:32.513579Z",
     "iopub.status.idle": "2021-11-20T01:56:32.541461Z",
     "shell.execute_reply": "2021-11-20T01:56:32.541906Z"
    },
    "papermill": {
     "duration": 0.046232,
     "end_time": "2021-11-20T01:56:32.542084",
     "exception": false,
     "start_time": "2021-11-20T01:56:32.495852",
     "status": "completed"
    },
    "tags": []
   },
   "outputs": [],
   "source": [
    "#hide_input\n",
    "#plt.figure(figsize=(15, 8))\n",
    "#sns.heatmap(df_all_mrk[sum_corr].corr(), annot=True, cmap=\"BrBG\");\n",
    "#plt.savefig('corr_matrix_all.eps', format='eps')"
   ]
  },
  {
   "cell_type": "code",
   "execution_count": null,
   "id": "original-senator",
   "metadata": {
    "papermill": {
     "duration": 0.015099,
     "end_time": "2021-11-20T01:56:32.571572",
     "exception": false,
     "start_time": "2021-11-20T01:56:32.556473",
     "status": "completed"
    },
    "tags": []
   },
   "outputs": [],
   "source": []
  },
  {
   "cell_type": "code",
   "execution_count": null,
   "id": "saving-secretariat",
   "metadata": {
    "papermill": {
     "duration": 0.015129,
     "end_time": "2021-11-20T01:56:32.602114",
     "exception": false,
     "start_time": "2021-11-20T01:56:32.586985",
     "status": "completed"
    },
    "tags": []
   },
   "outputs": [],
   "source": []
  }
 ],
 "metadata": {
  "kernelspec": {
   "display_name": "Python 3",
   "language": "python",
   "name": "python3"
  },
  "language_info": {
   "codemirror_mode": {
    "name": "ipython",
    "version": 3
   },
   "file_extension": ".py",
   "mimetype": "text/x-python",
   "name": "python",
   "nbconvert_exporter": "python",
   "pygments_lexer": "ipython3",
   "version": "3.6.15"
  },
  "papermill": {
   "default_parameters": {},
   "duration": 21.911319,
   "end_time": "2021-11-20T01:56:33.225469",
   "environment_variables": {},
   "exception": null,
   "input_path": "App-Correlation_charts.ipynb",
   "output_path": "App-Correlation_charts.ipynb",
   "parameters": {},
   "start_time": "2021-11-20T01:56:11.314150",
   "version": "2.2.2"
  }
 },
 "nbformat": 4,
 "nbformat_minor": 5
}