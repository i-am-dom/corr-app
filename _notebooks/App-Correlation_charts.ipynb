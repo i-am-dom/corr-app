{
 "cells": [
  {
   "cell_type": "markdown",
   "id": "touched-facility",
   "metadata": {
    "papermill": {
     "duration": 0.014959,
     "end_time": "2021-10-27T01:55:35.584892",
     "exception": false,
     "start_time": "2021-10-27T01:55:35.569933",
     "status": "completed"
    },
    "tags": []
   },
   "source": [
    "# Koreliacijų matrica\n",
    "> Išplėstinė koreliacijų matrica. \n",
    "\n",
    "- toc: true \n",
    "- badges: true\n",
    "- comments: false\n",
    "- categories: [Dominykas Tautkus]\n",
    "- image: images/matrix.png"
   ]
  },
  {
   "cell_type": "code",
   "execution_count": null,
   "id": "premium-weekend",
   "metadata": {
    "papermill": {
     "duration": 0.00936,
     "end_time": "2021-10-27T01:55:35.604533",
     "exception": false,
     "start_time": "2021-10-27T01:55:35.595173",
     "status": "completed"
    },
    "tags": []
   },
   "outputs": [],
   "source": []
  },
  {
   "cell_type": "code",
   "execution_count": 1,
   "id": "vertical-rebate",
   "metadata": {
    "execution": {
     "iopub.execute_input": "2021-10-27T01:55:35.633787Z",
     "iopub.status.busy": "2021-10-27T01:55:35.633264Z",
     "iopub.status.idle": "2021-10-27T01:55:35.642891Z",
     "shell.execute_reply": "2021-10-27T01:55:35.642448Z"
    },
    "papermill": {
     "duration": 0.029105,
     "end_time": "2021-10-27T01:55:35.643024",
     "exception": false,
     "start_time": "2021-10-27T01:55:35.613919",
     "status": "completed"
    },
    "tags": []
   },
   "outputs": [],
   "source": [
    "#hide\n",
    "%load_ext autoreload\n",
    "%autoreload 2"
   ]
  },
  {
   "cell_type": "code",
   "execution_count": 2,
   "id": "overall-advancement",
   "metadata": {
    "execution": {
     "iopub.execute_input": "2021-10-27T01:55:35.666363Z",
     "iopub.status.busy": "2021-10-27T01:55:35.665467Z",
     "iopub.status.idle": "2021-10-27T01:55:36.676130Z",
     "shell.execute_reply": "2021-10-27T01:55:36.675599Z"
    },
    "papermill": {
     "duration": 1.023618,
     "end_time": "2021-10-27T01:55:36.676268",
     "exception": false,
     "start_time": "2021-10-27T01:55:35.652650",
     "status": "completed"
    },
    "tags": []
   },
   "outputs": [],
   "source": [
    "#hide\n",
    "from scripts.read_data import read_api\n",
    "from IPython.display import HTML\n",
    "import plotly.graph_objects as go\n"
   ]
  },
  {
   "cell_type": "code",
   "execution_count": 3,
   "id": "light-crazy",
   "metadata": {
    "execution": {
     "iopub.execute_input": "2021-10-27T01:55:36.703116Z",
     "iopub.status.busy": "2021-10-27T01:55:36.702586Z",
     "iopub.status.idle": "2021-10-27T01:55:36.724930Z",
     "shell.execute_reply": "2021-10-27T01:55:36.723605Z"
    },
    "papermill": {
     "duration": 0.03657,
     "end_time": "2021-10-27T01:55:36.725061",
     "exception": false,
     "start_time": "2021-10-27T01:55:36.688491",
     "status": "completed"
    },
    "tags": []
   },
   "outputs": [],
   "source": [
    "#hide\n",
    "### ICO koreliacija"
   ]
  },
  {
   "cell_type": "code",
   "execution_count": 4,
   "id": "likely-bahrain",
   "metadata": {
    "execution": {
     "iopub.execute_input": "2021-10-27T01:55:36.751017Z",
     "iopub.status.busy": "2021-10-27T01:55:36.750487Z",
     "iopub.status.idle": "2021-10-27T01:55:37.667426Z",
     "shell.execute_reply": "2021-10-27T01:55:37.666501Z"
    },
    "papermill": {
     "duration": 0.932854,
     "end_time": "2021-10-27T01:55:37.667552",
     "exception": false,
     "start_time": "2021-10-27T01:55:36.734698",
     "status": "completed"
    },
    "tags": []
   },
   "outputs": [],
   "source": [
    "#hide\n",
    "import matplotlib.pyplot as plt\n",
    "import numpy as np\n",
    "import pandas as pd\n",
    "import seaborn as sns\n",
    "import matplotlib.pyplot as plt \n",
    "import matplotlib.dates as mdates\n",
    "import matplotlib.pyplot as plt"
   ]
  },
  {
   "cell_type": "code",
   "execution_count": 5,
   "id": "superior-blanket",
   "metadata": {
    "execution": {
     "iopub.execute_input": "2021-10-27T01:55:37.693170Z",
     "iopub.status.busy": "2021-10-27T01:55:37.692658Z",
     "iopub.status.idle": "2021-10-27T01:55:49.574449Z",
     "shell.execute_reply": "2021-10-27T01:55:49.574968Z"
    },
    "papermill": {
     "duration": 11.897829,
     "end_time": "2021-10-27T01:55:49.575149",
     "exception": false,
     "start_time": "2021-10-27T01:55:37.677320",
     "status": "completed"
    },
    "tags": []
   },
   "outputs": [
    {
     "name": "stderr",
     "output_type": "stream",
     "text": [
      "/home/runner/work/corr-app/corr-app/_notebooks/scripts/read_data.py:187: SettingWithCopyWarning:\n",
      "\n",
      "\n",
      "A value is trying to be set on a copy of a slice from a DataFrame.\n",
      "Try using .loc[row_indexer,col_indexer] = value instead\n",
      "\n",
      "See the caveats in the documentation: https://pandas.pydata.org/pandas-docs/stable/user_guide/indexing.html#returning-a-view-versus-a-copy\n",
      "\n"
     ]
    },
    {
     "name": "stderr",
     "output_type": "stream",
     "text": [
      "/home/runner/work/corr-app/corr-app/_notebooks/scripts/read_data.py:215: SettingWithCopyWarning:\n",
      "\n",
      "\n",
      "A value is trying to be set on a copy of a slice from a DataFrame.\n",
      "Try using .loc[row_indexer,col_indexer] = value instead\n",
      "\n",
      "See the caveats in the documentation: https://pandas.pydata.org/pandas-docs/stable/user_guide/indexing.html#returning-a-view-versus-a-copy\n",
      "\n"
     ]
    }
   ],
   "source": [
    "#hide\n",
    "df_all = read_api()\n",
    "#df_all = df_all.drop(['SP500', 'XAU', 'ETH', 'BTC'], axis=1)\n",
    "\n"
   ]
  },
  {
   "cell_type": "code",
   "execution_count": 6,
   "id": "mature-alert",
   "metadata": {
    "execution": {
     "iopub.execute_input": "2021-10-27T01:55:49.603901Z",
     "iopub.status.busy": "2021-10-27T01:55:49.603416Z",
     "iopub.status.idle": "2021-10-27T01:55:49.630942Z",
     "shell.execute_reply": "2021-10-27T01:55:49.630476Z"
    },
    "papermill": {
     "duration": 0.044681,
     "end_time": "2021-10-27T01:55:49.631071",
     "exception": false,
     "start_time": "2021-10-27T01:55:49.586390",
     "status": "completed"
    },
    "tags": []
   },
   "outputs": [],
   "source": [
    "#hide_input\n",
    "sum_corr = df_all.corr().sum().sort_values(ascending=True).index.values\n",
    "#df_all[sum_corr].corr()"
   ]
  },
  {
   "cell_type": "markdown",
   "id": "complex-syndicate",
   "metadata": {
    "papermill": {
     "duration": 0.010336,
     "end_time": "2021-10-27T01:55:49.651843",
     "exception": false,
     "start_time": "2021-10-27T01:55:49.641507",
     "status": "completed"
    },
    "tags": []
   },
   "source": [
    "## Išplėstinė koreliacijų matrica. "
   ]
  },
  {
   "cell_type": "code",
   "execution_count": 7,
   "id": "atomic-omaha",
   "metadata": {
    "execution": {
     "iopub.execute_input": "2021-10-27T01:55:49.677607Z",
     "iopub.status.busy": "2021-10-27T01:55:49.677121Z",
     "iopub.status.idle": "2021-10-27T01:55:50.868409Z",
     "shell.execute_reply": "2021-10-27T01:55:50.867985Z"
    },
    "papermill": {
     "duration": 1.206351,
     "end_time": "2021-10-27T01:55:50.868520",
     "exception": false,
     "start_time": "2021-10-27T01:55:49.662169",
     "status": "completed"
    },
    "tags": []
   },
   "outputs": [
    {
     "data": {
      "image/png": "[encoded data removed]",
      "text/plain": [
       "<Figure size 1080x792 with 2 Axes>"
      ]
     },
     "metadata": {
      "needs_background": "light"
     },
     "output_type": "display_data"
    }
   ],
   "source": [
    "#hide_input\n",
    "plt.figure(figsize=(15, 11))\n",
    "sns.heatmap(df_all[sum_corr].corr(), annot=True, cmap=\"cubehelix\") \n",
    "sns.set(font_scale=1.25)\n",
    "plt.savefig('corr_matrix.png', format='eps')"
   ]
  },
  {
   "cell_type": "code",
   "execution_count": 8,
   "id": "arbitrary-sullivan",
   "metadata": {
    "execution": {
     "iopub.execute_input": "2021-10-27T01:55:50.899770Z",
     "iopub.status.busy": "2021-10-27T01:55:50.896228Z",
     "iopub.status.idle": "2021-10-27T01:55:50.920477Z",
     "shell.execute_reply": "2021-10-27T01:55:50.920945Z"
    },
    "papermill": {
     "duration": 0.040145,
     "end_time": "2021-10-27T01:55:50.921108",
     "exception": false,
     "start_time": "2021-10-27T01:55:50.880963",
     "status": "completed"
    },
    "tags": []
   },
   "outputs": [],
   "source": [
    "#hide\n",
    "#df_all_mrk = read_api()"
   ]
  },
  {
   "cell_type": "code",
   "execution_count": 9,
   "id": "delayed-adapter",
   "metadata": {
    "execution": {
     "iopub.execute_input": "2021-10-27T01:55:50.953888Z",
     "iopub.status.busy": "2021-10-27T01:55:50.953413Z",
     "iopub.status.idle": "2021-10-27T01:55:50.976177Z",
     "shell.execute_reply": "2021-10-27T01:55:50.975664Z"
    },
    "papermill": {
     "duration": 0.042688,
     "end_time": "2021-10-27T01:55:50.976316",
     "exception": false,
     "start_time": "2021-10-27T01:55:50.933628",
     "status": "completed"
    },
    "tags": []
   },
   "outputs": [],
   "source": [
    "#hide\n",
    "#Koreliacijų koeficientai"
   ]
  },
  {
   "cell_type": "code",
   "execution_count": 10,
   "id": "seeing-celebration",
   "metadata": {
    "execution": {
     "iopub.execute_input": "2021-10-27T01:55:51.012051Z",
     "iopub.status.busy": "2021-10-27T01:55:51.011578Z",
     "iopub.status.idle": "2021-10-27T01:55:51.032413Z",
     "shell.execute_reply": "2021-10-27T01:55:51.032015Z"
    },
    "papermill": {
     "duration": 0.042439,
     "end_time": "2021-10-27T01:55:51.032528",
     "exception": false,
     "start_time": "2021-10-27T01:55:50.990089",
     "status": "completed"
    },
    "tags": []
   },
   "outputs": [],
   "source": [
    "#hide_input\n",
    "#sum_corr = df_all_mrk.corr().sum().sort_values(ascending=True).index.values\n",
    "#df_all_mrk[sum_corr].corr()"
   ]
  },
  {
   "cell_type": "code",
   "execution_count": 11,
   "id": "other-painting",
   "metadata": {
    "execution": {
     "iopub.execute_input": "2021-10-27T01:55:51.080026Z",
     "iopub.status.busy": "2021-10-27T01:55:51.068705Z",
     "iopub.status.idle": "2021-10-27T01:55:51.093675Z",
     "shell.execute_reply": "2021-10-27T01:55:51.093267Z"
    },
    "papermill": {
     "duration": 0.049218,
     "end_time": "2021-10-27T01:55:51.093793",
     "exception": false,
     "start_time": "2021-10-27T01:55:51.044575",
     "status": "completed"
    },
    "tags": []
   },
   "outputs": [],
   "source": [
    "#hide\n",
    "#Koreliacijos matrica. "
   ]
  },
  {
   "cell_type": "code",
   "execution_count": 12,
   "id": "modular-magnitude",
   "metadata": {
    "execution": {
     "iopub.execute_input": "2021-10-27T01:55:51.130884Z",
     "iopub.status.busy": "2021-10-27T01:55:51.130402Z",
     "iopub.status.idle": "2021-10-27T01:55:51.149246Z",
     "shell.execute_reply": "2021-10-27T01:55:51.148768Z"
    },
    "papermill": {
     "duration": 0.043333,
     "end_time": "2021-10-27T01:55:51.149446",
     "exception": false,
     "start_time": "2021-10-27T01:55:51.106113",
     "status": "completed"
    },
    "tags": []
   },
   "outputs": [],
   "source": [
    "#hide_input\n",
    "#plt.figure(figsize=(15, 8))\n",
    "#sns.heatmap(df_all_mrk[sum_corr].corr(), annot=True, cmap=\"BrBG\");\n",
    "#plt.savefig('corr_matrix_all.eps', format='eps')"
   ]
  },
  {
   "cell_type": "code",
   "execution_count": null,
   "id": "original-senator",
   "metadata": {
    "papermill": {
     "duration": 0.011685,
     "end_time": "2021-10-27T01:55:51.174671",
     "exception": false,
     "start_time": "2021-10-27T01:55:51.162986",
     "status": "completed"
    },
    "tags": []
   },
   "outputs": [],
   "source": []
  },
  {
   "cell_type": "code",
   "execution_count": null,
   "id": "saving-secretariat",
   "metadata": {
    "papermill": {
     "duration": 0.011549,
     "end_time": "2021-10-27T01:55:51.197876",
     "exception": false,
     "start_time": "2021-10-27T01:55:51.186327",
     "status": "completed"
    },
    "tags": []
   },
   "outputs": [],
   "source": []
  }
 ],
 "metadata": {
  "kernelspec": {
   "display_name": "Python 3",
   "language": "python",
   "name": "python3"
  },
  "language_info": {
   "codemirror_mode": {
    "name": "ipython",
    "version": 3
   },
   "file_extension": ".py",
   "mimetype": "text/x-python",
   "name": "python",
   "nbconvert_exporter": "python",
   "pygments_lexer": "ipython3",
   "version": "3.6.15"
  },
  "papermill": {
   "default_parameters": {},
   "duration": 17.198999,
   "end_time": "2021-10-27T01:55:51.818006",
   "environment_variables": {},
   "exception": null,
   "input_path": "App-Correlation_charts.ipynb",
   "output_path": "App-Correlation_charts.ipynb",
   "parameters": {},
   "start_time": "2021-10-27T01:55:34.619007",
   "version": "2.2.2"
  }
 },
 "nbformat": 4,
 "nbformat_minor": 5
}