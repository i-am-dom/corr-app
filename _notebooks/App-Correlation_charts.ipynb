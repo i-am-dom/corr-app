{
 "cells": [
  {
   "cell_type": "markdown",
   "id": "touched-facility",
   "metadata": {
    "papermill": {
     "duration": 0.01434,
     "end_time": "2022-07-10T03:11:21.568454",
     "exception": false,
     "start_time": "2022-07-10T03:11:21.554114",
     "status": "completed"
    },
    "tags": []
   },
   "source": [
    "# Koreliacijų matrica\n",
    "> Išplėstinė koreliacijų matrica. \n",
    "\n",
    "- toc: true \n",
    "- badges: true\n",
    "- comments: false\n",
    "- categories: [Dominykas Tautkus]\n",
    "- image: images/matrix.png"
   ]
  },
  {
   "cell_type": "code",
   "execution_count": null,
   "id": "premium-weekend",
   "metadata": {
    "papermill": {
     "duration": 0.010575,
     "end_time": "2022-07-10T03:11:21.590429",
     "exception": false,
     "start_time": "2022-07-10T03:11:21.579854",
     "status": "completed"
    },
    "tags": []
   },
   "outputs": [],
   "source": []
  },
  {
   "cell_type": "code",
   "execution_count": 1,
   "id": "vertical-rebate",
   "metadata": {
    "execution": {
     "iopub.execute_input": "2022-07-10T03:11:21.621960Z",
     "iopub.status.busy": "2022-07-10T03:11:21.621391Z",
     "iopub.status.idle": "2022-07-10T03:11:21.631850Z",
     "shell.execute_reply": "2022-07-10T03:11:21.631363Z"
    },
    "papermill": {
     "duration": 0.030728,
     "end_time": "2022-07-10T03:11:21.631956",
     "exception": false,
     "start_time": "2022-07-10T03:11:21.601228",
     "status": "completed"
    },
    "tags": []
   },
   "outputs": [],
   "source": [
    "#hide\n",
    "%load_ext autoreload\n",
    "%autoreload 2"
   ]
  },
  {
   "cell_type": "code",
   "execution_count": 2,
   "id": "overall-advancement",
   "metadata": {
    "execution": {
     "iopub.execute_input": "2022-07-10T03:11:21.656357Z",
     "iopub.status.busy": "2022-07-10T03:11:21.655799Z",
     "iopub.status.idle": "2022-07-10T03:11:22.824648Z",
     "shell.execute_reply": "2022-07-10T03:11:22.823719Z"
    },
    "papermill": {
     "duration": 1.182156,
     "end_time": "2022-07-10T03:11:22.824770",
     "exception": false,
     "start_time": "2022-07-10T03:11:21.642614",
     "status": "completed"
    },
    "tags": []
   },
   "outputs": [],
   "source": [
    "#hide\n",
    "from scripts.read_data import read_api\n",
    "from IPython.display import HTML\n",
    "import plotly.graph_objects as go\n"
   ]
  },
  {
   "cell_type": "code",
   "execution_count": 3,
   "id": "light-crazy",
   "metadata": {
    "execution": {
     "iopub.execute_input": "2022-07-10T03:11:22.852000Z",
     "iopub.status.busy": "2022-07-10T03:11:22.850618Z",
     "iopub.status.idle": "2022-07-10T03:11:22.871413Z",
     "shell.execute_reply": "2022-07-10T03:11:22.870949Z"
    },
    "papermill": {
     "duration": 0.03578,
     "end_time": "2022-07-10T03:11:22.871519",
     "exception": false,
     "start_time": "2022-07-10T03:11:22.835739",
     "status": "completed"
    },
    "tags": []
   },
   "outputs": [],
   "source": [
    "#hide\n",
    "### ICO koreliacija"
   ]
  },
  {
   "cell_type": "code",
   "execution_count": 4,
   "id": "likely-bahrain",
   "metadata": {
    "execution": {
     "iopub.execute_input": "2022-07-10T03:11:22.896157Z",
     "iopub.status.busy": "2022-07-10T03:11:22.895596Z",
     "iopub.status.idle": "2022-07-10T03:11:23.695700Z",
     "shell.execute_reply": "2022-07-10T03:11:23.695215Z"
    },
    "papermill": {
     "duration": 0.813626,
     "end_time": "2022-07-10T03:11:23.695815",
     "exception": false,
     "start_time": "2022-07-10T03:11:22.882189",
     "status": "completed"
    },
    "tags": []
   },
   "outputs": [],
   "source": [
    "#hide\n",
    "import matplotlib.pyplot as plt\n",
    "import numpy as np\n",
    "import pandas as pd\n",
    "import seaborn as sns\n",
    "import matplotlib.pyplot as plt \n",
    "import matplotlib.dates as mdates\n",
    "import matplotlib.pyplot as plt"
   ]
  },
  {
   "cell_type": "code",
   "execution_count": 5,
   "id": "superior-blanket",
   "metadata": {
    "execution": {
     "iopub.execute_input": "2022-07-10T03:11:23.725010Z",
     "iopub.status.busy": "2022-07-10T03:11:23.721985Z",
     "iopub.status.idle": "2022-07-10T03:11:32.929947Z",
     "shell.execute_reply": "2022-07-10T03:11:32.928818Z"
    },
    "papermill": {
     "duration": 9.223309,
     "end_time": "2022-07-10T03:11:32.930069",
     "exception": false,
     "start_time": "2022-07-10T03:11:23.706760",
     "status": "completed"
    },
    "tags": []
   },
   "outputs": [
    {
     "name": "stderr",
     "output_type": "stream",
     "text": [
      "/home/runner/work/corr-app/corr-app/_notebooks/scripts/read_data.py:187: SettingWithCopyWarning:\n",
      "\n",
      "\n",
      "A value is trying to be set on a copy of a slice from a DataFrame.\n",
      "Try using .loc[row_indexer,col_indexer] = value instead\n",
      "\n",
      "See the caveats in the documentation: https://pandas.pydata.org/pandas-docs/stable/user_guide/indexing.html#returning-a-view-versus-a-copy\n",
      "\n"
     ]
    },
    {
     "name": "stderr",
     "output_type": "stream",
     "text": [
      "/home/runner/work/corr-app/corr-app/_notebooks/scripts/read_data.py:215: SettingWithCopyWarning:\n",
      "\n",
      "\n",
      "A value is trying to be set on a copy of a slice from a DataFrame.\n",
      "Try using .loc[row_indexer,col_indexer] = value instead\n",
      "\n",
      "See the caveats in the documentation: https://pandas.pydata.org/pandas-docs/stable/user_guide/indexing.html#returning-a-view-versus-a-copy\n",
      "\n"
     ]
    }
   ],
   "source": [
    "#hide\n",
    "df_all = read_api()\n",
    "#df_all = df_all.drop(['SP500', 'XAU', 'ETH', 'BTC'], axis=1)\n",
    "\n"
   ]
  },
  {
   "cell_type": "code",
   "execution_count": 6,
   "id": "mature-alert",
   "metadata": {
    "execution": {
     "iopub.execute_input": "2022-07-10T03:11:32.961242Z",
     "iopub.status.busy": "2022-07-10T03:11:32.958404Z",
     "iopub.status.idle": "2022-07-10T03:11:32.986998Z",
     "shell.execute_reply": "2022-07-10T03:11:32.986259Z"
    },
    "papermill": {
     "duration": 0.044399,
     "end_time": "2022-07-10T03:11:32.987102",
     "exception": false,
     "start_time": "2022-07-10T03:11:32.942703",
     "status": "completed"
    },
    "tags": []
   },
   "outputs": [],
   "source": [
    "#hide_input\n",
    "sum_corr = df_all.corr().sum().sort_values(ascending=True).index.values\n",
    "#df_all[sum_corr].corr()"
   ]
  },
  {
   "cell_type": "markdown",
   "id": "complex-syndicate",
   "metadata": {
    "papermill": {
     "duration": 0.01114,
     "end_time": "2022-07-10T03:11:33.009536",
     "exception": false,
     "start_time": "2022-07-10T03:11:32.998396",
     "status": "completed"
    },
    "tags": []
   },
   "source": [
    "## Išplėstinė koreliacijų matrica. "
   ]
  },
  {
   "cell_type": "code",
   "execution_count": 7,
   "id": "atomic-omaha",
   "metadata": {
    "execution": {
     "iopub.execute_input": "2022-07-10T03:11:33.036475Z",
     "iopub.status.busy": "2022-07-10T03:11:33.035916Z",
     "iopub.status.idle": "2022-07-10T03:11:34.150075Z",
     "shell.execute_reply": "2022-07-10T03:11:34.150508Z"
    },
    "papermill": {
     "duration": 1.129898,
     "end_time": "2022-07-10T03:11:34.150634",
     "exception": false,
     "start_time": "2022-07-10T03:11:33.020736",
     "status": "completed"
    },
    "tags": []
   },
   "outputs": [
    {
     "data": {
      "image/png": "[encoded data removed]",
      "text/plain": [
       "<Figure size 1080x792 with 2 Axes>"
      ]
     },
     "metadata": {
      "needs_background": "light"
     },
     "output_type": "display_data"
    }
   ],
   "source": [
    "#hide_input\n",
    "plt.figure(figsize=(15, 11))\n",
    "sns.heatmap(df_all[sum_corr].corr(), annot=True, cmap=\"cubehelix\") \n",
    "sns.set(font_scale=1.25)\n",
    "plt.savefig('corr_matrix.png', format='eps')"
   ]
  },
  {
   "cell_type": "code",
   "execution_count": 8,
   "id": "arbitrary-sullivan",
   "metadata": {
    "execution": {
     "iopub.execute_input": "2022-07-10T03:11:34.182683Z",
     "iopub.status.busy": "2022-07-10T03:11:34.181341Z",
     "iopub.status.idle": "2022-07-10T03:11:34.206178Z",
     "shell.execute_reply": "2022-07-10T03:11:34.205748Z"
    },
    "papermill": {
     "duration": 0.042095,
     "end_time": "2022-07-10T03:11:34.206282",
     "exception": false,
     "start_time": "2022-07-10T03:11:34.164187",
     "status": "completed"
    },
    "tags": []
   },
   "outputs": [],
   "source": [
    "#hide\n",
    "#df_all_mrk = read_api()"
   ]
  },
  {
   "cell_type": "code",
   "execution_count": 9,
   "id": "delayed-adapter",
   "metadata": {
    "execution": {
     "iopub.execute_input": "2022-07-10T03:11:34.235507Z",
     "iopub.status.busy": "2022-07-10T03:11:34.234924Z",
     "iopub.status.idle": "2022-07-10T03:11:34.260041Z",
     "shell.execute_reply": "2022-07-10T03:11:34.260439Z"
    },
    "papermill": {
     "duration": 0.041051,
     "end_time": "2022-07-10T03:11:34.260556",
     "exception": false,
     "start_time": "2022-07-10T03:11:34.219505",
     "status": "completed"
    },
    "tags": []
   },
   "outputs": [],
   "source": [
    "#hide\n",
    "#Koreliacijų koeficientai"
   ]
  },
  {
   "cell_type": "code",
   "execution_count": 10,
   "id": "seeing-celebration",
   "metadata": {
    "execution": {
     "iopub.execute_input": "2022-07-10T03:11:34.294017Z",
     "iopub.status.busy": "2022-07-10T03:11:34.290978Z",
     "iopub.status.idle": "2022-07-10T03:11:34.316614Z",
     "shell.execute_reply": "2022-07-10T03:11:34.316147Z"
    },
    "papermill": {
     "duration": 0.042884,
     "end_time": "2022-07-10T03:11:34.316713",
     "exception": false,
     "start_time": "2022-07-10T03:11:34.273829",
     "status": "completed"
    },
    "tags": []
   },
   "outputs": [],
   "source": [
    "#hide_input\n",
    "#sum_corr = df_all_mrk.corr().sum().sort_values(ascending=True).index.values\n",
    "#df_all_mrk[sum_corr].corr()"
   ]
  },
  {
   "cell_type": "code",
   "execution_count": 11,
   "id": "other-painting",
   "metadata": {
    "execution": {
     "iopub.execute_input": "2022-07-10T03:11:34.346192Z",
     "iopub.status.busy": "2022-07-10T03:11:34.345637Z",
     "iopub.status.idle": "2022-07-10T03:11:34.369802Z",
     "shell.execute_reply": "2022-07-10T03:11:34.370221Z"
    },
    "papermill": {
     "duration": 0.040281,
     "end_time": "2022-07-10T03:11:34.370335",
     "exception": false,
     "start_time": "2022-07-10T03:11:34.330054",
     "status": "completed"
    },
    "tags": []
   },
   "outputs": [],
   "source": [
    "#hide\n",
    "#Koreliacijos matrica. "
   ]
  },
  {
   "cell_type": "code",
   "execution_count": 12,
   "id": "modular-magnitude",
   "metadata": {
    "execution": {
     "iopub.execute_input": "2022-07-10T03:11:34.399800Z",
     "iopub.status.busy": "2022-07-10T03:11:34.399254Z",
     "iopub.status.idle": "2022-07-10T03:11:34.423834Z",
     "shell.execute_reply": "2022-07-10T03:11:34.423382Z"
    },
    "papermill": {
     "duration": 0.040265,
     "end_time": "2022-07-10T03:11:34.423947",
     "exception": false,
     "start_time": "2022-07-10T03:11:34.383682",
     "status": "completed"
    },
    "tags": []
   },
   "outputs": [],
   "source": [
    "#hide_input\n",
    "#plt.figure(figsize=(15, 8))\n",
    "#sns.heatmap(df_all_mrk[sum_corr].corr(), annot=True, cmap=\"BrBG\");\n",
    "#plt.savefig('corr_matrix_all.eps', format='eps')"
   ]
  },
  {
   "cell_type": "code",
   "execution_count": null,
   "id": "original-senator",
   "metadata": {
    "papermill": {
     "duration": 0.013122,
     "end_time": "2022-07-10T03:11:34.450226",
     "exception": false,
     "start_time": "2022-07-10T03:11:34.437104",
     "status": "completed"
    },
    "tags": []
   },
   "outputs": [],
   "source": []
  },
  {
   "cell_type": "code",
   "execution_count": null,
   "id": "saving-secretariat",
   "metadata": {
    "papermill": {
     "duration": 0.013031,
     "end_time": "2022-07-10T03:11:34.476417",
     "exception": false,
     "start_time": "2022-07-10T03:11:34.463386",
     "status": "completed"
    },
    "tags": []
   },
   "outputs": [],
   "source": []
  }
 ],
 "metadata": {
  "kernelspec": {
   "display_name": "Python 3",
   "language": "python",
   "name": "python3"
  },
  "language_info": {
   "codemirror_mode": {
    "name": "ipython",
    "version": 3
   },
   "file_extension": ".py",
   "mimetype": "text/x-python",
   "name": "python",
   "nbconvert_exporter": "python",
   "pygments_lexer": "ipython3",
   "version": "3.6.15"
  },
  "papermill": {
   "default_parameters": {},
   "duration": 14.258895,
   "end_time": "2022-07-10T03:11:34.906813",
   "environment_variables": {},
   "exception": null,
   "input_path": "App-Correlation_charts.ipynb",
   "output_path": "App-Correlation_charts.ipynb",
   "parameters": {},
   "start_time": "2022-07-10T03:11:20.647918",
   "version": "2.2.2"
  }
 },
 "nbformat": 4,
 "nbformat_minor": 5
}