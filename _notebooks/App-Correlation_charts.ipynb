{
 "cells": [
  {
   "cell_type": "markdown",
   "id": "touched-facility",
   "metadata": {
    "papermill": {
     "duration": 0.018107,
     "end_time": "2022-10-26T03:15:08.479178",
     "exception": false,
     "start_time": "2022-10-26T03:15:08.461071",
     "status": "completed"
    },
    "tags": []
   },
   "source": [
    "# Koreliacijų matrica\n",
    "> Išplėstinė koreliacijų matrica. \n",
    "\n",
    "- toc: true \n",
    "- badges: true\n",
    "- comments: false\n",
    "- categories: [Dominykas Tautkus]\n",
    "- image: images/matrix.png"
   ]
  },
  {
   "cell_type": "code",
   "execution_count": null,
   "id": "premium-weekend",
   "metadata": {
    "papermill": {
     "duration": 0.01321,
     "end_time": "2022-10-26T03:15:08.507433",
     "exception": false,
     "start_time": "2022-10-26T03:15:08.494223",
     "status": "completed"
    },
    "tags": []
   },
   "outputs": [],
   "source": []
  },
  {
   "cell_type": "code",
   "execution_count": 1,
   "id": "vertical-rebate",
   "metadata": {
    "execution": {
     "iopub.execute_input": "2022-10-26T03:15:08.547960Z",
     "iopub.status.busy": "2022-10-26T03:15:08.547207Z",
     "iopub.status.idle": "2022-10-26T03:15:08.559886Z",
     "shell.execute_reply": "2022-10-26T03:15:08.560468Z"
    },
    "papermill": {
     "duration": 0.03857,
     "end_time": "2022-10-26T03:15:08.560662",
     "exception": false,
     "start_time": "2022-10-26T03:15:08.522092",
     "status": "completed"
    },
    "tags": []
   },
   "outputs": [],
   "source": [
    "#hide\n",
    "%load_ext autoreload\n",
    "%autoreload 2"
   ]
  },
  {
   "cell_type": "code",
   "execution_count": 2,
   "id": "overall-advancement",
   "metadata": {
    "execution": {
     "iopub.execute_input": "2022-10-26T03:15:08.592351Z",
     "iopub.status.busy": "2022-10-26T03:15:08.591575Z",
     "iopub.status.idle": "2022-10-26T03:15:10.071024Z",
     "shell.execute_reply": "2022-10-26T03:15:10.070373Z"
    },
    "papermill": {
     "duration": 1.497113,
     "end_time": "2022-10-26T03:15:10.071172",
     "exception": false,
     "start_time": "2022-10-26T03:15:08.574059",
     "status": "completed"
    },
    "tags": []
   },
   "outputs": [],
   "source": [
    "#hide\n",
    "from scripts.read_data import read_api\n",
    "from IPython.display import HTML\n",
    "import plotly.graph_objects as go\n"
   ]
  },
  {
   "cell_type": "code",
   "execution_count": 3,
   "id": "light-crazy",
   "metadata": {
    "execution": {
     "iopub.execute_input": "2022-10-26T03:15:10.110291Z",
     "iopub.status.busy": "2022-10-26T03:15:10.109510Z",
     "iopub.status.idle": "2022-10-26T03:15:10.137224Z",
     "shell.execute_reply": "2022-10-26T03:15:10.136565Z"
    },
    "papermill": {
     "duration": 0.052328,
     "end_time": "2022-10-26T03:15:10.137377",
     "exception": false,
     "start_time": "2022-10-26T03:15:10.085049",
     "status": "completed"
    },
    "tags": []
   },
   "outputs": [],
   "source": [
    "#hide\n",
    "### ICO koreliacija"
   ]
  },
  {
   "cell_type": "code",
   "execution_count": 4,
   "id": "likely-bahrain",
   "metadata": {
    "execution": {
     "iopub.execute_input": "2022-10-26T03:15:10.174368Z",
     "iopub.status.busy": "2022-10-26T03:15:10.172869Z",
     "iopub.status.idle": "2022-10-26T03:15:11.235700Z",
     "shell.execute_reply": "2022-10-26T03:15:11.234868Z"
    },
    "papermill": {
     "duration": 1.084609,
     "end_time": "2022-10-26T03:15:11.235873",
     "exception": false,
     "start_time": "2022-10-26T03:15:10.151264",
     "status": "completed"
    },
    "tags": []
   },
   "outputs": [],
   "source": [
    "#hide\n",
    "import matplotlib.pyplot as plt\n",
    "import numpy as np\n",
    "import pandas as pd\n",
    "import seaborn as sns\n",
    "import matplotlib.pyplot as plt \n",
    "import matplotlib.dates as mdates\n",
    "import matplotlib.pyplot as plt"
   ]
  },
  {
   "cell_type": "code",
   "execution_count": 5,
   "id": "superior-blanket",
   "metadata": {
    "execution": {
     "iopub.execute_input": "2022-10-26T03:15:11.270588Z",
     "iopub.status.busy": "2022-10-26T03:15:11.269829Z",
     "iopub.status.idle": "2022-10-26T03:15:26.832145Z",
     "shell.execute_reply": "2022-10-26T03:15:26.833200Z"
    },
    "papermill": {
     "duration": 15.583126,
     "end_time": "2022-10-26T03:15:26.833380",
     "exception": false,
     "start_time": "2022-10-26T03:15:11.250254",
     "status": "completed"
    },
    "tags": []
   },
   "outputs": [
    {
     "name": "stderr",
     "output_type": "stream",
     "text": [
      "/home/runner/work/corr-app/corr-app/_notebooks/scripts/read_data.py:187: SettingWithCopyWarning:\n",
      "\n",
      "\n",
      "A value is trying to be set on a copy of a slice from a DataFrame.\n",
      "Try using .loc[row_indexer,col_indexer] = value instead\n",
      "\n",
      "See the caveats in the documentation: https://pandas.pydata.org/pandas-docs/stable/user_guide/indexing.html#returning-a-view-versus-a-copy\n",
      "\n"
     ]
    },
    {
     "name": "stderr",
     "output_type": "stream",
     "text": [
      "/home/runner/work/corr-app/corr-app/_notebooks/scripts/read_data.py:215: SettingWithCopyWarning:\n",
      "\n",
      "\n",
      "A value is trying to be set on a copy of a slice from a DataFrame.\n",
      "Try using .loc[row_indexer,col_indexer] = value instead\n",
      "\n",
      "See the caveats in the documentation: https://pandas.pydata.org/pandas-docs/stable/user_guide/indexing.html#returning-a-view-versus-a-copy\n",
      "\n"
     ]
    }
   ],
   "source": [
    "#hide\n",
    "df_all = read_api()\n",
    "#df_all = df_all.drop(['SP500', 'XAU', 'ETH', 'BTC'], axis=1)\n",
    "\n"
   ]
  },
  {
   "cell_type": "code",
   "execution_count": 6,
   "id": "mature-alert",
   "metadata": {
    "execution": {
     "iopub.execute_input": "2022-10-26T03:15:26.869014Z",
     "iopub.status.busy": "2022-10-26T03:15:26.868228Z",
     "iopub.status.idle": "2022-10-26T03:15:26.905423Z",
     "shell.execute_reply": "2022-10-26T03:15:26.904683Z"
    },
    "papermill": {
     "duration": 0.055923,
     "end_time": "2022-10-26T03:15:26.905592",
     "exception": false,
     "start_time": "2022-10-26T03:15:26.849669",
     "status": "completed"
    },
    "tags": []
   },
   "outputs": [],
   "source": [
    "#hide_input\n",
    "sum_corr = df_all.corr().sum().sort_values(ascending=True).index.values\n",
    "#df_all[sum_corr].corr()"
   ]
  },
  {
   "cell_type": "markdown",
   "id": "complex-syndicate",
   "metadata": {
    "papermill": {
     "duration": 0.014523,
     "end_time": "2022-10-26T03:15:26.934234",
     "exception": false,
     "start_time": "2022-10-26T03:15:26.919711",
     "status": "completed"
    },
    "tags": []
   },
   "source": [
    "## Išplėstinė koreliacijų matrica. "
   ]
  },
  {
   "cell_type": "code",
   "execution_count": 7,
   "id": "atomic-omaha",
   "metadata": {
    "execution": {
     "iopub.execute_input": "2022-10-26T03:15:26.969994Z",
     "iopub.status.busy": "2022-10-26T03:15:26.969237Z",
     "iopub.status.idle": "2022-10-26T03:15:28.615410Z",
     "shell.execute_reply": "2022-10-26T03:15:28.615975Z"
    },
    "papermill": {
     "duration": 1.667175,
     "end_time": "2022-10-26T03:15:28.616227",
     "exception": false,
     "start_time": "2022-10-26T03:15:26.949052",
     "status": "completed"
    },
    "tags": []
   },
   "outputs": [
    {
     "data": {
      "image/png": "[encoded data removed]",
      "text/plain": [
       "<Figure size 1080x792 with 2 Axes>"
      ]
     },
     "metadata": {
      "needs_background": "light"
     },
     "output_type": "display_data"
    }
   ],
   "source": [
    "#hide_input\n",
    "plt.figure(figsize=(15, 11))\n",
    "sns.heatmap(df_all[sum_corr].corr(), annot=True, cmap=\"cubehelix\") \n",
    "sns.set(font_scale=1.25)\n",
    "plt.savefig('corr_matrix.png', format='eps')"
   ]
  },
  {
   "cell_type": "code",
   "execution_count": 8,
   "id": "arbitrary-sullivan",
   "metadata": {
    "execution": {
     "iopub.execute_input": "2022-10-26T03:15:28.658031Z",
     "iopub.status.busy": "2022-10-26T03:15:28.653847Z",
     "iopub.status.idle": "2022-10-26T03:15:28.686682Z",
     "shell.execute_reply": "2022-10-26T03:15:28.685951Z"
    },
    "papermill": {
     "duration": 0.053843,
     "end_time": "2022-10-26T03:15:28.686854",
     "exception": false,
     "start_time": "2022-10-26T03:15:28.633011",
     "status": "completed"
    },
    "tags": []
   },
   "outputs": [],
   "source": [
    "#hide\n",
    "#df_all_mrk = read_api()"
   ]
  },
  {
   "cell_type": "code",
   "execution_count": 9,
   "id": "delayed-adapter",
   "metadata": {
    "execution": {
     "iopub.execute_input": "2022-10-26T03:15:28.726975Z",
     "iopub.status.busy": "2022-10-26T03:15:28.726126Z",
     "iopub.status.idle": "2022-10-26T03:15:28.759868Z",
     "shell.execute_reply": "2022-10-26T03:15:28.759189Z"
    },
    "papermill": {
     "duration": 0.056216,
     "end_time": "2022-10-26T03:15:28.760020",
     "exception": false,
     "start_time": "2022-10-26T03:15:28.703804",
     "status": "completed"
    },
    "tags": []
   },
   "outputs": [],
   "source": [
    "#hide\n",
    "#Koreliacijų koeficientai"
   ]
  },
  {
   "cell_type": "code",
   "execution_count": 10,
   "id": "seeing-celebration",
   "metadata": {
    "execution": {
     "iopub.execute_input": "2022-10-26T03:15:28.800814Z",
     "iopub.status.busy": "2022-10-26T03:15:28.800066Z",
     "iopub.status.idle": "2022-10-26T03:15:28.834086Z",
     "shell.execute_reply": "2022-10-26T03:15:28.833397Z"
    },
    "papermill": {
     "duration": 0.054444,
     "end_time": "2022-10-26T03:15:28.834241",
     "exception": false,
     "start_time": "2022-10-26T03:15:28.779797",
     "status": "completed"
    },
    "tags": []
   },
   "outputs": [],
   "source": [
    "#hide_input\n",
    "#sum_corr = df_all_mrk.corr().sum().sort_values(ascending=True).index.values\n",
    "#df_all_mrk[sum_corr].corr()"
   ]
  },
  {
   "cell_type": "code",
   "execution_count": 11,
   "id": "other-painting",
   "metadata": {
    "execution": {
     "iopub.execute_input": "2022-10-26T03:15:28.874571Z",
     "iopub.status.busy": "2022-10-26T03:15:28.873778Z",
     "iopub.status.idle": "2022-10-26T03:15:28.906108Z",
     "shell.execute_reply": "2022-10-26T03:15:28.905461Z"
    },
    "papermill": {
     "duration": 0.054635,
     "end_time": "2022-10-26T03:15:28.906270",
     "exception": false,
     "start_time": "2022-10-26T03:15:28.851635",
     "status": "completed"
    },
    "tags": []
   },
   "outputs": [],
   "source": [
    "#hide\n",
    "#Koreliacijos matrica. "
   ]
  },
  {
   "cell_type": "code",
   "execution_count": 12,
   "id": "modular-magnitude",
   "metadata": {
    "execution": {
     "iopub.execute_input": "2022-10-26T03:15:28.948286Z",
     "iopub.status.busy": "2022-10-26T03:15:28.947501Z",
     "iopub.status.idle": "2022-10-26T03:15:28.998105Z",
     "shell.execute_reply": "2022-10-26T03:15:28.997440Z"
    },
    "papermill": {
     "duration": 0.075017,
     "end_time": "2022-10-26T03:15:28.998256",
     "exception": false,
     "start_time": "2022-10-26T03:15:28.923239",
     "status": "completed"
    },
    "tags": []
   },
   "outputs": [],
   "source": [
    "#hide_input\n",
    "#plt.figure(figsize=(15, 8))\n",
    "#sns.heatmap(df_all_mrk[sum_corr].corr(), annot=True, cmap=\"BrBG\");\n",
    "#plt.savefig('corr_matrix_all.eps', format='eps')"
   ]
  },
  {
   "cell_type": "code",
   "execution_count": null,
   "id": "original-senator",
   "metadata": {
    "papermill": {
     "duration": 0.017149,
     "end_time": "2022-10-26T03:15:29.034958",
     "exception": false,
     "start_time": "2022-10-26T03:15:29.017809",
     "status": "completed"
    },
    "tags": []
   },
   "outputs": [],
   "source": []
  },
  {
   "cell_type": "code",
   "execution_count": null,
   "id": "saving-secretariat",
   "metadata": {
    "papermill": {
     "duration": 0.017657,
     "end_time": "2022-10-26T03:15:29.071136",
     "exception": false,
     "start_time": "2022-10-26T03:15:29.053479",
     "status": "completed"
    },
    "tags": []
   },
   "outputs": [],
   "source": []
  }
 ],
 "metadata": {
  "kernelspec": {
   "display_name": "Python 3",
   "language": "python",
   "name": "python3"
  },
  "language_info": {
   "codemirror_mode": {
    "name": "ipython",
    "version": 3
   },
   "file_extension": ".py",
   "mimetype": "text/x-python",
   "name": "python",
   "nbconvert_exporter": "python",
   "pygments_lexer": "ipython3",
   "version": "3.6.15"
  },
  "papermill": {
   "default_parameters": {},
   "duration": 22.708262,
   "end_time": "2022-10-26T03:15:29.809780",
   "environment_variables": {},
   "exception": null,
   "input_path": "App-Correlation_charts.ipynb",
   "output_path": "App-Correlation_charts.ipynb",
   "parameters": {},
   "start_time": "2022-10-26T03:15:07.101518",
   "version": "2.2.2"
  }
 },
 "nbformat": 4,
 "nbformat_minor": 5
}