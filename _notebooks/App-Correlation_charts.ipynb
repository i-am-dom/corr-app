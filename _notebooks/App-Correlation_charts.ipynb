{
 "cells": [
  {
   "cell_type": "markdown",
   "id": "touched-facility",
   "metadata": {
    "papermill": {
     "duration": 0.01633,
     "end_time": "2022-01-05T02:07:24.341705",
     "exception": false,
     "start_time": "2022-01-05T02:07:24.325375",
     "status": "completed"
    },
    "tags": []
   },
   "source": [
    "# Koreliacijų matrica\n",
    "> Išplėstinė koreliacijų matrica. \n",
    "\n",
    "- toc: true \n",
    "- badges: true\n",
    "- comments: false\n",
    "- categories: [Dominykas Tautkus]\n",
    "- image: images/matrix.png"
   ]
  },
  {
   "cell_type": "code",
   "execution_count": null,
   "id": "premium-weekend",
   "metadata": {
    "papermill": {
     "duration": 0.011055,
     "end_time": "2022-01-05T02:07:24.364822",
     "exception": false,
     "start_time": "2022-01-05T02:07:24.353767",
     "status": "completed"
    },
    "tags": []
   },
   "outputs": [],
   "source": []
  },
  {
   "cell_type": "code",
   "execution_count": 1,
   "id": "vertical-rebate",
   "metadata": {
    "execution": {
     "iopub.execute_input": "2022-01-05T02:07:24.396537Z",
     "iopub.status.busy": "2022-01-05T02:07:24.396001Z",
     "iopub.status.idle": "2022-01-05T02:07:24.406026Z",
     "shell.execute_reply": "2022-01-05T02:07:24.406447Z"
    },
    "papermill": {
     "duration": 0.031166,
     "end_time": "2022-01-05T02:07:24.406604",
     "exception": false,
     "start_time": "2022-01-05T02:07:24.375438",
     "status": "completed"
    },
    "tags": []
   },
   "outputs": [],
   "source": [
    "#hide\n",
    "%load_ext autoreload\n",
    "%autoreload 2"
   ]
  },
  {
   "cell_type": "code",
   "execution_count": 2,
   "id": "overall-advancement",
   "metadata": {
    "execution": {
     "iopub.execute_input": "2022-01-05T02:07:24.432470Z",
     "iopub.status.busy": "2022-01-05T02:07:24.431963Z",
     "iopub.status.idle": "2022-01-05T02:07:25.668727Z",
     "shell.execute_reply": "2022-01-05T02:07:25.667871Z"
    },
    "papermill": {
     "duration": 1.251633,
     "end_time": "2022-01-05T02:07:25.668908",
     "exception": false,
     "start_time": "2022-01-05T02:07:24.417275",
     "status": "completed"
    },
    "tags": []
   },
   "outputs": [],
   "source": [
    "#hide\n",
    "from scripts.read_data import read_api\n",
    "from IPython.display import HTML\n",
    "import plotly.graph_objects as go\n"
   ]
  },
  {
   "cell_type": "code",
   "execution_count": 3,
   "id": "light-crazy",
   "metadata": {
    "execution": {
     "iopub.execute_input": "2022-01-05T02:07:25.697767Z",
     "iopub.status.busy": "2022-01-05T02:07:25.697188Z",
     "iopub.status.idle": "2022-01-05T02:07:25.716951Z",
     "shell.execute_reply": "2022-01-05T02:07:25.716449Z"
    },
    "papermill": {
     "duration": 0.036472,
     "end_time": "2022-01-05T02:07:25.717078",
     "exception": false,
     "start_time": "2022-01-05T02:07:25.680606",
     "status": "completed"
    },
    "tags": []
   },
   "outputs": [],
   "source": [
    "#hide\n",
    "### ICO koreliacija"
   ]
  },
  {
   "cell_type": "code",
   "execution_count": 4,
   "id": "likely-bahrain",
   "metadata": {
    "execution": {
     "iopub.execute_input": "2022-01-05T02:07:25.745799Z",
     "iopub.status.busy": "2022-01-05T02:07:25.745322Z",
     "iopub.status.idle": "2022-01-05T02:07:26.615330Z",
     "shell.execute_reply": "2022-01-05T02:07:26.614648Z"
    },
    "papermill": {
     "duration": 0.886019,
     "end_time": "2022-01-05T02:07:26.615466",
     "exception": false,
     "start_time": "2022-01-05T02:07:25.729447",
     "status": "completed"
    },
    "tags": []
   },
   "outputs": [],
   "source": [
    "#hide\n",
    "import matplotlib.pyplot as plt\n",
    "import numpy as np\n",
    "import pandas as pd\n",
    "import seaborn as sns\n",
    "import matplotlib.pyplot as plt \n",
    "import matplotlib.dates as mdates\n",
    "import matplotlib.pyplot as plt"
   ]
  },
  {
   "cell_type": "code",
   "execution_count": 5,
   "id": "superior-blanket",
   "metadata": {
    "execution": {
     "iopub.execute_input": "2022-01-05T02:07:26.647809Z",
     "iopub.status.busy": "2022-01-05T02:07:26.647268Z",
     "iopub.status.idle": "2022-01-05T02:07:37.298038Z",
     "shell.execute_reply": "2022-01-05T02:07:37.297440Z"
    },
    "papermill": {
     "duration": 10.671085,
     "end_time": "2022-01-05T02:07:37.298182",
     "exception": false,
     "start_time": "2022-01-05T02:07:26.627097",
     "status": "completed"
    },
    "tags": []
   },
   "outputs": [
    {
     "name": "stderr",
     "output_type": "stream",
     "text": [
      "/home/runner/work/corr-app/corr-app/_notebooks/scripts/read_data.py:187: SettingWithCopyWarning:\n",
      "\n",
      "\n",
      "A value is trying to be set on a copy of a slice from a DataFrame.\n",
      "Try using .loc[row_indexer,col_indexer] = value instead\n",
      "\n",
      "See the caveats in the documentation: https://pandas.pydata.org/pandas-docs/stable/user_guide/indexing.html#returning-a-view-versus-a-copy\n",
      "\n"
     ]
    },
    {
     "name": "stderr",
     "output_type": "stream",
     "text": [
      "/home/runner/work/corr-app/corr-app/_notebooks/scripts/read_data.py:215: SettingWithCopyWarning:\n",
      "\n",
      "\n",
      "A value is trying to be set on a copy of a slice from a DataFrame.\n",
      "Try using .loc[row_indexer,col_indexer] = value instead\n",
      "\n",
      "See the caveats in the documentation: https://pandas.pydata.org/pandas-docs/stable/user_guide/indexing.html#returning-a-view-versus-a-copy\n",
      "\n"
     ]
    }
   ],
   "source": [
    "#hide\n",
    "df_all = read_api()\n",
    "#df_all = df_all.drop(['SP500', 'XAU', 'ETH', 'BTC'], axis=1)\n",
    "\n"
   ]
  },
  {
   "cell_type": "code",
   "execution_count": 6,
   "id": "mature-alert",
   "metadata": {
    "execution": {
     "iopub.execute_input": "2022-01-05T02:07:37.369741Z",
     "iopub.status.busy": "2022-01-05T02:07:37.369116Z",
     "iopub.status.idle": "2022-01-05T02:07:37.400013Z",
     "shell.execute_reply": "2022-01-05T02:07:37.399532Z"
    },
    "papermill": {
     "duration": 0.088357,
     "end_time": "2022-01-05T02:07:37.400150",
     "exception": false,
     "start_time": "2022-01-05T02:07:37.311793",
     "status": "completed"
    },
    "tags": []
   },
   "outputs": [],
   "source": [
    "#hide_input\n",
    "sum_corr = df_all.corr().sum().sort_values(ascending=True).index.values\n",
    "#df_all[sum_corr].corr()"
   ]
  },
  {
   "cell_type": "markdown",
   "id": "complex-syndicate",
   "metadata": {
    "papermill": {
     "duration": 0.059914,
     "end_time": "2022-01-05T02:07:37.472639",
     "exception": false,
     "start_time": "2022-01-05T02:07:37.412725",
     "status": "completed"
    },
    "tags": []
   },
   "source": [
    "## Išplėstinė koreliacijų matrica. "
   ]
  },
  {
   "cell_type": "code",
   "execution_count": 7,
   "id": "atomic-omaha",
   "metadata": {
    "execution": {
     "iopub.execute_input": "2022-01-05T02:07:37.534770Z",
     "iopub.status.busy": "2022-01-05T02:07:37.534206Z",
     "iopub.status.idle": "2022-01-05T02:07:38.809504Z",
     "shell.execute_reply": "2022-01-05T02:07:38.809039Z"
    },
    "papermill": {
     "duration": 1.304203,
     "end_time": "2022-01-05T02:07:38.809627",
     "exception": false,
     "start_time": "2022-01-05T02:07:37.505424",
     "status": "completed"
    },
    "tags": []
   },
   "outputs": [
    {
     "data": {
      "image/png": "[encoded data removed]",
      "text/plain": [
       "<Figure size 1080x792 with 2 Axes>"
      ]
     },
     "metadata": {
      "needs_background": "light"
     },
     "output_type": "display_data"
    }
   ],
   "source": [
    "#hide_input\n",
    "plt.figure(figsize=(15, 11))\n",
    "sns.heatmap(df_all[sum_corr].corr(), annot=True, cmap=\"cubehelix\") \n",
    "sns.set(font_scale=1.25)\n",
    "plt.savefig('corr_matrix.png', format='eps')"
   ]
  },
  {
   "cell_type": "code",
   "execution_count": 8,
   "id": "arbitrary-sullivan",
   "metadata": {
    "execution": {
     "iopub.execute_input": "2022-01-05T02:07:38.840045Z",
     "iopub.status.busy": "2022-01-05T02:07:38.839461Z",
     "iopub.status.idle": "2022-01-05T02:07:38.866189Z",
     "shell.execute_reply": "2022-01-05T02:07:38.865646Z"
    },
    "papermill": {
     "duration": 0.043212,
     "end_time": "2022-01-05T02:07:38.866342",
     "exception": false,
     "start_time": "2022-01-05T02:07:38.823130",
     "status": "completed"
    },
    "tags": []
   },
   "outputs": [],
   "source": [
    "#hide\n",
    "#df_all_mrk = read_api()"
   ]
  },
  {
   "cell_type": "code",
   "execution_count": 9,
   "id": "delayed-adapter",
   "metadata": {
    "execution": {
     "iopub.execute_input": "2022-01-05T02:07:38.896416Z",
     "iopub.status.busy": "2022-01-05T02:07:38.895906Z",
     "iopub.status.idle": "2022-01-05T02:07:38.923288Z",
     "shell.execute_reply": "2022-01-05T02:07:38.922791Z"
    },
    "papermill": {
     "duration": 0.043589,
     "end_time": "2022-01-05T02:07:38.923419",
     "exception": false,
     "start_time": "2022-01-05T02:07:38.879830",
     "status": "completed"
    },
    "tags": []
   },
   "outputs": [],
   "source": [
    "#hide\n",
    "#Koreliacijų koeficientai"
   ]
  },
  {
   "cell_type": "code",
   "execution_count": 10,
   "id": "seeing-celebration",
   "metadata": {
    "execution": {
     "iopub.execute_input": "2022-01-05T02:07:38.954784Z",
     "iopub.status.busy": "2022-01-05T02:07:38.954223Z",
     "iopub.status.idle": "2022-01-05T02:07:38.981627Z",
     "shell.execute_reply": "2022-01-05T02:07:38.981161Z"
    },
    "papermill": {
     "duration": 0.043897,
     "end_time": "2022-01-05T02:07:38.981759",
     "exception": false,
     "start_time": "2022-01-05T02:07:38.937862",
     "status": "completed"
    },
    "tags": []
   },
   "outputs": [],
   "source": [
    "#hide_input\n",
    "#sum_corr = df_all_mrk.corr().sum().sort_values(ascending=True).index.values\n",
    "#df_all_mrk[sum_corr].corr()"
   ]
  },
  {
   "cell_type": "code",
   "execution_count": 11,
   "id": "other-painting",
   "metadata": {
    "execution": {
     "iopub.execute_input": "2022-01-05T02:07:39.011750Z",
     "iopub.status.busy": "2022-01-05T02:07:39.011246Z",
     "iopub.status.idle": "2022-01-05T02:07:39.035038Z",
     "shell.execute_reply": "2022-01-05T02:07:39.034512Z"
    },
    "papermill": {
     "duration": 0.040031,
     "end_time": "2022-01-05T02:07:39.035164",
     "exception": false,
     "start_time": "2022-01-05T02:07:38.995133",
     "status": "completed"
    },
    "tags": []
   },
   "outputs": [],
   "source": [
    "#hide\n",
    "#Koreliacijos matrica. "
   ]
  },
  {
   "cell_type": "code",
   "execution_count": 12,
   "id": "modular-magnitude",
   "metadata": {
    "execution": {
     "iopub.execute_input": "2022-01-05T02:07:39.080454Z",
     "iopub.status.busy": "2022-01-05T02:07:39.072469Z",
     "iopub.status.idle": "2022-01-05T02:07:39.094600Z",
     "shell.execute_reply": "2022-01-05T02:07:39.094114Z"
    },
    "papermill": {
     "duration": 0.045368,
     "end_time": "2022-01-05T02:07:39.094733",
     "exception": false,
     "start_time": "2022-01-05T02:07:39.049365",
     "status": "completed"
    },
    "tags": []
   },
   "outputs": [],
   "source": [
    "#hide_input\n",
    "#plt.figure(figsize=(15, 8))\n",
    "#sns.heatmap(df_all_mrk[sum_corr].corr(), annot=True, cmap=\"BrBG\");\n",
    "#plt.savefig('corr_matrix_all.eps', format='eps')"
   ]
  },
  {
   "cell_type": "code",
   "execution_count": null,
   "id": "original-senator",
   "metadata": {
    "papermill": {
     "duration": 0.013114,
     "end_time": "2022-01-05T02:07:39.121131",
     "exception": false,
     "start_time": "2022-01-05T02:07:39.108017",
     "status": "completed"
    },
    "tags": []
   },
   "outputs": [],
   "source": []
  },
  {
   "cell_type": "code",
   "execution_count": null,
   "id": "saving-secretariat",
   "metadata": {
    "papermill": {
     "duration": 0.014008,
     "end_time": "2022-01-05T02:07:39.148164",
     "exception": false,
     "start_time": "2022-01-05T02:07:39.134156",
     "status": "completed"
    },
    "tags": []
   },
   "outputs": [],
   "source": []
  }
 ],
 "metadata": {
  "kernelspec": {
   "display_name": "Python 3",
   "language": "python",
   "name": "python3"
  },
  "language_info": {
   "codemirror_mode": {
    "name": "ipython",
    "version": 3
   },
   "file_extension": ".py",
   "mimetype": "text/x-python",
   "name": "python",
   "nbconvert_exporter": "python",
   "pygments_lexer": "ipython3",
   "version": "3.6.15"
  },
  "papermill": {
   "default_parameters": {},
   "duration": 16.283492,
   "end_time": "2022-01-05T02:07:39.669629",
   "environment_variables": {},
   "exception": null,
   "input_path": "App-Correlation_charts.ipynb",
   "output_path": "App-Correlation_charts.ipynb",
   "parameters": {},
   "start_time": "2022-01-05T02:07:23.386137",
   "version": "2.2.2"
  }
 },
 "nbformat": 4,
 "nbformat_minor": 5
}