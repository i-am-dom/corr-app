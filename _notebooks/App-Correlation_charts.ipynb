{
 "cells": [
  {
   "cell_type": "markdown",
   "id": "touched-facility",
   "metadata": {
    "papermill": {
     "duration": 0.017738,
     "end_time": "2021-11-01T02:00:27.161029",
     "exception": false,
     "start_time": "2021-11-01T02:00:27.143291",
     "status": "completed"
    },
    "tags": []
   },
   "source": [
    "# Koreliacijų matrica\n",
    "> Išplėstinė koreliacijų matrica. \n",
    "\n",
    "- toc: true \n",
    "- badges: true\n",
    "- comments: false\n",
    "- categories: [Dominykas Tautkus]\n",
    "- image: images/matrix.png"
   ]
  },
  {
   "cell_type": "code",
   "execution_count": null,
   "id": "premium-weekend",
   "metadata": {
    "papermill": {
     "duration": 0.013303,
     "end_time": "2021-11-01T02:00:27.188093",
     "exception": false,
     "start_time": "2021-11-01T02:00:27.174790",
     "status": "completed"
    },
    "tags": []
   },
   "outputs": [],
   "source": []
  },
  {
   "cell_type": "code",
   "execution_count": 1,
   "id": "vertical-rebate",
   "metadata": {
    "execution": {
     "iopub.execute_input": "2021-11-01T02:00:27.230431Z",
     "iopub.status.busy": "2021-11-01T02:00:27.229625Z",
     "iopub.status.idle": "2021-11-01T02:00:27.240484Z",
     "shell.execute_reply": "2021-11-01T02:00:27.241114Z"
    },
    "papermill": {
     "duration": 0.036402,
     "end_time": "2021-11-01T02:00:27.241275",
     "exception": false,
     "start_time": "2021-11-01T02:00:27.204873",
     "status": "completed"
    },
    "tags": []
   },
   "outputs": [],
   "source": [
    "#hide\n",
    "%load_ext autoreload\n",
    "%autoreload 2"
   ]
  },
  {
   "cell_type": "code",
   "execution_count": 2,
   "id": "overall-advancement",
   "metadata": {
    "execution": {
     "iopub.execute_input": "2021-11-01T02:00:27.268706Z",
     "iopub.status.busy": "2021-11-01T02:00:27.268105Z",
     "iopub.status.idle": "2021-11-01T02:00:28.742348Z",
     "shell.execute_reply": "2021-11-01T02:00:28.741815Z"
    },
    "papermill": {
     "duration": 1.489218,
     "end_time": "2021-11-01T02:00:28.742489",
     "exception": false,
     "start_time": "2021-11-01T02:00:27.253271",
     "status": "completed"
    },
    "tags": []
   },
   "outputs": [],
   "source": [
    "#hide\n",
    "from scripts.read_data import read_api\n",
    "from IPython.display import HTML\n",
    "import plotly.graph_objects as go\n"
   ]
  },
  {
   "cell_type": "code",
   "execution_count": 3,
   "id": "light-crazy",
   "metadata": {
    "execution": {
     "iopub.execute_input": "2021-11-01T02:00:28.772288Z",
     "iopub.status.busy": "2021-11-01T02:00:28.771694Z",
     "iopub.status.idle": "2021-11-01T02:00:28.794253Z",
     "shell.execute_reply": "2021-11-01T02:00:28.793614Z"
    },
    "papermill": {
     "duration": 0.038523,
     "end_time": "2021-11-01T02:00:28.794385",
     "exception": false,
     "start_time": "2021-11-01T02:00:28.755862",
     "status": "completed"
    },
    "tags": []
   },
   "outputs": [],
   "source": [
    "#hide\n",
    "### ICO koreliacija"
   ]
  },
  {
   "cell_type": "code",
   "execution_count": 4,
   "id": "likely-bahrain",
   "metadata": {
    "execution": {
     "iopub.execute_input": "2021-11-01T02:00:28.823738Z",
     "iopub.status.busy": "2021-11-01T02:00:28.823121Z",
     "iopub.status.idle": "2021-11-01T02:00:29.725036Z",
     "shell.execute_reply": "2021-11-01T02:00:29.725508Z"
    },
    "papermill": {
     "duration": 0.918224,
     "end_time": "2021-11-01T02:00:29.725669",
     "exception": false,
     "start_time": "2021-11-01T02:00:28.807445",
     "status": "completed"
    },
    "tags": []
   },
   "outputs": [],
   "source": [
    "#hide\n",
    "import matplotlib.pyplot as plt\n",
    "import numpy as np\n",
    "import pandas as pd\n",
    "import seaborn as sns\n",
    "import matplotlib.pyplot as plt \n",
    "import matplotlib.dates as mdates\n",
    "import matplotlib.pyplot as plt"
   ]
  },
  {
   "cell_type": "code",
   "execution_count": 5,
   "id": "superior-blanket",
   "metadata": {
    "execution": {
     "iopub.execute_input": "2021-11-01T02:00:29.757042Z",
     "iopub.status.busy": "2021-11-01T02:00:29.755758Z",
     "iopub.status.idle": "2021-11-01T02:00:46.063825Z",
     "shell.execute_reply": "2021-11-01T02:00:46.063148Z"
    },
    "papermill": {
     "duration": 16.326259,
     "end_time": "2021-11-01T02:00:46.064007",
     "exception": false,
     "start_time": "2021-11-01T02:00:29.737748",
     "status": "completed"
    },
    "tags": []
   },
   "outputs": [
    {
     "name": "stderr",
     "output_type": "stream",
     "text": [
      "/home/runner/work/corr-app/corr-app/_notebooks/scripts/read_data.py:187: SettingWithCopyWarning:\n",
      "\n",
      "\n",
      "A value is trying to be set on a copy of a slice from a DataFrame.\n",
      "Try using .loc[row_indexer,col_indexer] = value instead\n",
      "\n",
      "See the caveats in the documentation: https://pandas.pydata.org/pandas-docs/stable/user_guide/indexing.html#returning-a-view-versus-a-copy\n",
      "\n"
     ]
    },
    {
     "name": "stderr",
     "output_type": "stream",
     "text": [
      "/home/runner/work/corr-app/corr-app/_notebooks/scripts/read_data.py:215: SettingWithCopyWarning:\n",
      "\n",
      "\n",
      "A value is trying to be set on a copy of a slice from a DataFrame.\n",
      "Try using .loc[row_indexer,col_indexer] = value instead\n",
      "\n",
      "See the caveats in the documentation: https://pandas.pydata.org/pandas-docs/stable/user_guide/indexing.html#returning-a-view-versus-a-copy\n",
      "\n"
     ]
    }
   ],
   "source": [
    "#hide\n",
    "df_all = read_api()\n",
    "#df_all = df_all.drop(['SP500', 'XAU', 'ETH', 'BTC'], axis=1)\n",
    "\n"
   ]
  },
  {
   "cell_type": "code",
   "execution_count": 6,
   "id": "mature-alert",
   "metadata": {
    "execution": {
     "iopub.execute_input": "2021-11-01T02:00:46.099553Z",
     "iopub.status.busy": "2021-11-01T02:00:46.098865Z",
     "iopub.status.idle": "2021-11-01T02:00:46.133311Z",
     "shell.execute_reply": "2021-11-01T02:00:46.132789Z"
    },
    "papermill": {
     "duration": 0.053705,
     "end_time": "2021-11-01T02:00:46.133442",
     "exception": false,
     "start_time": "2021-11-01T02:00:46.079737",
     "status": "completed"
    },
    "tags": []
   },
   "outputs": [],
   "source": [
    "#hide_input\n",
    "sum_corr = df_all.corr().sum().sort_values(ascending=True).index.values\n",
    "#df_all[sum_corr].corr()"
   ]
  },
  {
   "cell_type": "markdown",
   "id": "complex-syndicate",
   "metadata": {
    "papermill": {
     "duration": 0.012562,
     "end_time": "2021-11-01T02:00:46.159594",
     "exception": false,
     "start_time": "2021-11-01T02:00:46.147032",
     "status": "completed"
    },
    "tags": []
   },
   "source": [
    "## Išplėstinė koreliacijų matrica. "
   ]
  },
  {
   "cell_type": "code",
   "execution_count": 7,
   "id": "atomic-omaha",
   "metadata": {
    "execution": {
     "iopub.execute_input": "2021-11-01T02:00:46.208911Z",
     "iopub.status.busy": "2021-11-01T02:00:46.204946Z",
     "iopub.status.idle": "2021-11-01T02:00:47.675612Z",
     "shell.execute_reply": "2021-11-01T02:00:47.676175Z"
    },
    "papermill": {
     "duration": 1.503516,
     "end_time": "2021-11-01T02:00:47.676336",
     "exception": false,
     "start_time": "2021-11-01T02:00:46.172820",
     "status": "completed"
    },
    "tags": []
   },
   "outputs": [
    {
     "data": {
      "image/png": "[encoded data removed]",
      "text/plain": [
       "<Figure size 1080x792 with 2 Axes>"
      ]
     },
     "metadata": {
      "needs_background": "light"
     },
     "output_type": "display_data"
    }
   ],
   "source": [
    "#hide_input\n",
    "plt.figure(figsize=(15, 11))\n",
    "sns.heatmap(df_all[sum_corr].corr(), annot=True, cmap=\"cubehelix\") \n",
    "sns.set(font_scale=1.25)\n",
    "plt.savefig('corr_matrix.png', format='eps')"
   ]
  },
  {
   "cell_type": "code",
   "execution_count": 8,
   "id": "arbitrary-sullivan",
   "metadata": {
    "execution": {
     "iopub.execute_input": "2021-11-01T02:00:47.711109Z",
     "iopub.status.busy": "2021-11-01T02:00:47.709853Z",
     "iopub.status.idle": "2021-11-01T02:00:47.735687Z",
     "shell.execute_reply": "2021-11-01T02:00:47.736296Z"
    },
    "papermill": {
     "duration": 0.04535,
     "end_time": "2021-11-01T02:00:47.736445",
     "exception": false,
     "start_time": "2021-11-01T02:00:47.691095",
     "status": "completed"
    },
    "tags": []
   },
   "outputs": [],
   "source": [
    "#hide\n",
    "#df_all_mrk = read_api()"
   ]
  },
  {
   "cell_type": "code",
   "execution_count": 9,
   "id": "delayed-adapter",
   "metadata": {
    "execution": {
     "iopub.execute_input": "2021-11-01T02:00:47.769209Z",
     "iopub.status.busy": "2021-11-01T02:00:47.768627Z",
     "iopub.status.idle": "2021-11-01T02:00:47.792263Z",
     "shell.execute_reply": "2021-11-01T02:00:47.792741Z"
    },
    "papermill": {
     "duration": 0.041776,
     "end_time": "2021-11-01T02:00:47.792863",
     "exception": false,
     "start_time": "2021-11-01T02:00:47.751087",
     "status": "completed"
    },
    "tags": []
   },
   "outputs": [],
   "source": [
    "#hide\n",
    "#Koreliacijų koeficientai"
   ]
  },
  {
   "cell_type": "code",
   "execution_count": 10,
   "id": "seeing-celebration",
   "metadata": {
    "execution": {
     "iopub.execute_input": "2021-11-01T02:00:47.825253Z",
     "iopub.status.busy": "2021-11-01T02:00:47.824670Z",
     "iopub.status.idle": "2021-11-01T02:00:47.847849Z",
     "shell.execute_reply": "2021-11-01T02:00:47.848367Z"
    },
    "papermill": {
     "duration": 0.041175,
     "end_time": "2021-11-01T02:00:47.848510",
     "exception": false,
     "start_time": "2021-11-01T02:00:47.807335",
     "status": "completed"
    },
    "tags": []
   },
   "outputs": [],
   "source": [
    "#hide_input\n",
    "#sum_corr = df_all_mrk.corr().sum().sort_values(ascending=True).index.values\n",
    "#df_all_mrk[sum_corr].corr()"
   ]
  },
  {
   "cell_type": "code",
   "execution_count": 11,
   "id": "other-painting",
   "metadata": {
    "execution": {
     "iopub.execute_input": "2021-11-01T02:00:47.884050Z",
     "iopub.status.busy": "2021-11-01T02:00:47.883421Z",
     "iopub.status.idle": "2021-11-01T02:00:47.908976Z",
     "shell.execute_reply": "2021-11-01T02:00:47.908408Z"
    },
    "papermill": {
     "duration": 0.046054,
     "end_time": "2021-11-01T02:00:47.909101",
     "exception": false,
     "start_time": "2021-11-01T02:00:47.863047",
     "status": "completed"
    },
    "tags": []
   },
   "outputs": [],
   "source": [
    "#hide\n",
    "#Koreliacijos matrica. "
   ]
  },
  {
   "cell_type": "code",
   "execution_count": 12,
   "id": "modular-magnitude",
   "metadata": {
    "execution": {
     "iopub.execute_input": "2021-11-01T02:00:47.941564Z",
     "iopub.status.busy": "2021-11-01T02:00:47.940911Z",
     "iopub.status.idle": "2021-11-01T02:00:47.969958Z",
     "shell.execute_reply": "2021-11-01T02:00:47.970524Z"
    },
    "papermill": {
     "duration": 0.047101,
     "end_time": "2021-11-01T02:00:47.970662",
     "exception": false,
     "start_time": "2021-11-01T02:00:47.923561",
     "status": "completed"
    },
    "tags": []
   },
   "outputs": [],
   "source": [
    "#hide_input\n",
    "#plt.figure(figsize=(15, 8))\n",
    "#sns.heatmap(df_all_mrk[sum_corr].corr(), annot=True, cmap=\"BrBG\");\n",
    "#plt.savefig('corr_matrix_all.eps', format='eps')"
   ]
  },
  {
   "cell_type": "code",
   "execution_count": null,
   "id": "original-senator",
   "metadata": {
    "papermill": {
     "duration": 0.015604,
     "end_time": "2021-11-01T02:00:48.000557",
     "exception": false,
     "start_time": "2021-11-01T02:00:47.984953",
     "status": "completed"
    },
    "tags": []
   },
   "outputs": [],
   "source": []
  },
  {
   "cell_type": "code",
   "execution_count": null,
   "id": "saving-secretariat",
   "metadata": {
    "papermill": {
     "duration": 0.015016,
     "end_time": "2021-11-01T02:00:48.030353",
     "exception": false,
     "start_time": "2021-11-01T02:00:48.015337",
     "status": "completed"
    },
    "tags": []
   },
   "outputs": [],
   "source": []
  }
 ],
 "metadata": {
  "kernelspec": {
   "display_name": "Python 3",
   "language": "python",
   "name": "python3"
  },
  "language_info": {
   "codemirror_mode": {
    "name": "ipython",
    "version": 3
   },
   "file_extension": ".py",
   "mimetype": "text/x-python",
   "name": "python",
   "nbconvert_exporter": "python",
   "pygments_lexer": "ipython3",
   "version": "3.6.15"
  },
  "papermill": {
   "default_parameters": {},
   "duration": 22.480678,
   "end_time": "2021-11-01T02:00:48.554649",
   "environment_variables": {},
   "exception": null,
   "input_path": "App-Correlation_charts.ipynb",
   "output_path": "App-Correlation_charts.ipynb",
   "parameters": {},
   "start_time": "2021-11-01T02:00:26.073971",
   "version": "2.2.2"
  }
 },
 "nbformat": 4,
 "nbformat_minor": 5
}