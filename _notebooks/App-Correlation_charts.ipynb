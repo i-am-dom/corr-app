{
 "cells": [
  {
   "cell_type": "markdown",
   "id": "touched-facility",
   "metadata": {
    "papermill": {
     "duration": 0.017687,
     "end_time": "2021-09-01T02:01:01.066840",
     "exception": false,
     "start_time": "2021-09-01T02:01:01.049153",
     "status": "completed"
    },
    "tags": []
   },
   "source": [
    "# Koreliacijų matrica\n",
    "> Išplėstinė koreliacijų matrica. \n",
    "\n",
    "- toc: true \n",
    "- badges: true\n",
    "- comments: false\n",
    "- categories: [Dominykas Tautkus]\n",
    "- image: images/matrix.png"
   ]
  },
  {
   "cell_type": "code",
   "execution_count": null,
   "id": "premium-weekend",
   "metadata": {
    "papermill": {
     "duration": 0.011157,
     "end_time": "2021-09-01T02:01:01.090836",
     "exception": false,
     "start_time": "2021-09-01T02:01:01.079679",
     "status": "completed"
    },
    "tags": []
   },
   "outputs": [],
   "source": []
  },
  {
   "cell_type": "code",
   "execution_count": 1,
   "id": "vertical-rebate",
   "metadata": {
    "execution": {
     "iopub.execute_input": "2021-09-01T02:01:01.126289Z",
     "iopub.status.busy": "2021-09-01T02:01:01.125719Z",
     "iopub.status.idle": "2021-09-01T02:01:01.136279Z",
     "shell.execute_reply": "2021-09-01T02:01:01.136835Z"
    },
    "papermill": {
     "duration": 0.034707,
     "end_time": "2021-09-01T02:01:01.137015",
     "exception": false,
     "start_time": "2021-09-01T02:01:01.102308",
     "status": "completed"
    },
    "tags": []
   },
   "outputs": [],
   "source": [
    "#hide\n",
    "%load_ext autoreload\n",
    "%autoreload 2"
   ]
  },
  {
   "cell_type": "code",
   "execution_count": 2,
   "id": "overall-advancement",
   "metadata": {
    "execution": {
     "iopub.execute_input": "2021-09-01T02:01:01.164620Z",
     "iopub.status.busy": "2021-09-01T02:01:01.164039Z",
     "iopub.status.idle": "2021-09-01T02:01:02.367145Z",
     "shell.execute_reply": "2021-09-01T02:01:02.366560Z"
    },
    "papermill": {
     "duration": 1.218367,
     "end_time": "2021-09-01T02:01:02.367278",
     "exception": false,
     "start_time": "2021-09-01T02:01:01.148911",
     "status": "completed"
    },
    "tags": []
   },
   "outputs": [],
   "source": [
    "#hide\n",
    "from scripts.read_data import read_api\n",
    "from IPython.display import HTML\n",
    "import plotly.graph_objects as go\n"
   ]
  },
  {
   "cell_type": "code",
   "execution_count": 3,
   "id": "light-crazy",
   "metadata": {
    "execution": {
     "iopub.execute_input": "2021-09-01T02:01:02.395950Z",
     "iopub.status.busy": "2021-09-01T02:01:02.395439Z",
     "iopub.status.idle": "2021-09-01T02:01:02.418660Z",
     "shell.execute_reply": "2021-09-01T02:01:02.418207Z"
    },
    "papermill": {
     "duration": 0.03963,
     "end_time": "2021-09-01T02:01:02.418767",
     "exception": false,
     "start_time": "2021-09-01T02:01:02.379137",
     "status": "completed"
    },
    "tags": []
   },
   "outputs": [],
   "source": [
    "#hide\n",
    "### ICO koreliacija"
   ]
  },
  {
   "cell_type": "code",
   "execution_count": 4,
   "id": "likely-bahrain",
   "metadata": {
    "execution": {
     "iopub.execute_input": "2021-09-01T02:01:02.446352Z",
     "iopub.status.busy": "2021-09-01T02:01:02.445817Z",
     "iopub.status.idle": "2021-09-01T02:01:03.345452Z",
     "shell.execute_reply": "2021-09-01T02:01:03.346388Z"
    },
    "papermill": {
     "duration": 0.916679,
     "end_time": "2021-09-01T02:01:03.346603",
     "exception": false,
     "start_time": "2021-09-01T02:01:02.429924",
     "status": "completed"
    },
    "tags": []
   },
   "outputs": [],
   "source": [
    "#hide\n",
    "import matplotlib.pyplot as plt\n",
    "import numpy as np\n",
    "import pandas as pd\n",
    "import seaborn as sns\n",
    "import matplotlib.pyplot as plt \n",
    "import matplotlib.dates as mdates\n",
    "import matplotlib.pyplot as plt"
   ]
  },
  {
   "cell_type": "code",
   "execution_count": 5,
   "id": "superior-blanket",
   "metadata": {
    "execution": {
     "iopub.execute_input": "2021-09-01T02:01:03.376415Z",
     "iopub.status.busy": "2021-09-01T02:01:03.375465Z",
     "iopub.status.idle": "2021-09-01T02:01:34.097265Z",
     "shell.execute_reply": "2021-09-01T02:01:34.096624Z"
    },
    "papermill": {
     "duration": 30.73878,
     "end_time": "2021-09-01T02:01:34.097408",
     "exception": false,
     "start_time": "2021-09-01T02:01:03.358628",
     "status": "completed"
    },
    "tags": []
   },
   "outputs": [
    {
     "name": "stderr",
     "output_type": "stream",
     "text": [
      "/home/runner/work/corr-app/corr-app/_notebooks/scripts/read_data.py:187: SettingWithCopyWarning:\n",
      "\n",
      "\n",
      "A value is trying to be set on a copy of a slice from a DataFrame.\n",
      "Try using .loc[row_indexer,col_indexer] = value instead\n",
      "\n",
      "See the caveats in the documentation: https://pandas.pydata.org/pandas-docs/stable/user_guide/indexing.html#returning-a-view-versus-a-copy\n",
      "\n"
     ]
    },
    {
     "name": "stderr",
     "output_type": "stream",
     "text": [
      "/home/runner/work/corr-app/corr-app/_notebooks/scripts/read_data.py:215: SettingWithCopyWarning:\n",
      "\n",
      "\n",
      "A value is trying to be set on a copy of a slice from a DataFrame.\n",
      "Try using .loc[row_indexer,col_indexer] = value instead\n",
      "\n",
      "See the caveats in the documentation: https://pandas.pydata.org/pandas-docs/stable/user_guide/indexing.html#returning-a-view-versus-a-copy\n",
      "\n"
     ]
    }
   ],
   "source": [
    "#hide\n",
    "df_all = read_api()\n",
    "#df_all = df_all.drop(['SP500', 'XAU', 'ETH', 'BTC'], axis=1)\n",
    "\n"
   ]
  },
  {
   "cell_type": "code",
   "execution_count": 6,
   "id": "mature-alert",
   "metadata": {
    "execution": {
     "iopub.execute_input": "2021-09-01T02:01:34.129717Z",
     "iopub.status.busy": "2021-09-01T02:01:34.127635Z",
     "iopub.status.idle": "2021-09-01T02:01:34.160648Z",
     "shell.execute_reply": "2021-09-01T02:01:34.159989Z"
    },
    "papermill": {
     "duration": 0.050641,
     "end_time": "2021-09-01T02:01:34.160796",
     "exception": false,
     "start_time": "2021-09-01T02:01:34.110155",
     "status": "completed"
    },
    "tags": []
   },
   "outputs": [],
   "source": [
    "#hide_input\n",
    "sum_corr = df_all.corr().sum().sort_values(ascending=True).index.values\n",
    "#df_all[sum_corr].corr()"
   ]
  },
  {
   "cell_type": "markdown",
   "id": "complex-syndicate",
   "metadata": {
    "papermill": {
     "duration": 0.012231,
     "end_time": "2021-09-01T02:01:34.186185",
     "exception": false,
     "start_time": "2021-09-01T02:01:34.173954",
     "status": "completed"
    },
    "tags": []
   },
   "source": [
    "## Išplėstinė koreliacijų matrica. "
   ]
  },
  {
   "cell_type": "code",
   "execution_count": 7,
   "id": "atomic-omaha",
   "metadata": {
    "execution": {
     "iopub.execute_input": "2021-09-01T02:01:34.222605Z",
     "iopub.status.busy": "2021-09-01T02:01:34.219419Z",
     "iopub.status.idle": "2021-09-01T02:01:35.448034Z",
     "shell.execute_reply": "2021-09-01T02:01:35.447551Z"
    },
    "papermill": {
     "duration": 1.246668,
     "end_time": "2021-09-01T02:01:35.448250",
     "exception": false,
     "start_time": "2021-09-01T02:01:34.201582",
     "status": "completed"
    },
    "tags": []
   },
   "outputs": [
    {
     "data": {
      "image/png": "[encoded data removed]",
      "text/plain": [
       "<Figure size 1080x792 with 2 Axes>"
      ]
     },
     "metadata": {
      "needs_background": "light"
     },
     "output_type": "display_data"
    }
   ],
   "source": [
    "#hide_input\n",
    "plt.figure(figsize=(15, 11))\n",
    "sns.heatmap(df_all[sum_corr].corr(), annot=True, cmap=\"cubehelix\") \n",
    "sns.set(font_scale=1.25)\n",
    "plt.savefig('corr_matrix.png', format='eps')"
   ]
  },
  {
   "cell_type": "code",
   "execution_count": 8,
   "id": "arbitrary-sullivan",
   "metadata": {
    "execution": {
     "iopub.execute_input": "2021-09-01T02:01:35.482512Z",
     "iopub.status.busy": "2021-09-01T02:01:35.481955Z",
     "iopub.status.idle": "2021-09-01T02:01:35.510120Z",
     "shell.execute_reply": "2021-09-01T02:01:35.509520Z"
    },
    "papermill": {
     "duration": 0.047919,
     "end_time": "2021-09-01T02:01:35.510262",
     "exception": false,
     "start_time": "2021-09-01T02:01:35.462343",
     "status": "completed"
    },
    "tags": []
   },
   "outputs": [],
   "source": [
    "#hide\n",
    "#df_all_mrk = read_api()"
   ]
  },
  {
   "cell_type": "code",
   "execution_count": 9,
   "id": "delayed-adapter",
   "metadata": {
    "execution": {
     "iopub.execute_input": "2021-09-01T02:01:35.545766Z",
     "iopub.status.busy": "2021-09-01T02:01:35.545041Z",
     "iopub.status.idle": "2021-09-01T02:01:35.575401Z",
     "shell.execute_reply": "2021-09-01T02:01:35.575987Z"
    },
    "papermill": {
     "duration": 0.049985,
     "end_time": "2021-09-01T02:01:35.576167",
     "exception": false,
     "start_time": "2021-09-01T02:01:35.526182",
     "status": "completed"
    },
    "tags": []
   },
   "outputs": [],
   "source": [
    "#hide\n",
    "#Koreliacijų koeficientai"
   ]
  },
  {
   "cell_type": "code",
   "execution_count": 10,
   "id": "seeing-celebration",
   "metadata": {
    "execution": {
     "iopub.execute_input": "2021-09-01T02:01:35.613165Z",
     "iopub.status.busy": "2021-09-01T02:01:35.611157Z",
     "iopub.status.idle": "2021-09-01T02:01:35.639221Z",
     "shell.execute_reply": "2021-09-01T02:01:35.638742Z"
    },
    "papermill": {
     "duration": 0.047744,
     "end_time": "2021-09-01T02:01:35.639344",
     "exception": false,
     "start_time": "2021-09-01T02:01:35.591600",
     "status": "completed"
    },
    "tags": []
   },
   "outputs": [],
   "source": [
    "#hide_input\n",
    "#sum_corr = df_all_mrk.corr().sum().sort_values(ascending=True).index.values\n",
    "#df_all_mrk[sum_corr].corr()"
   ]
  },
  {
   "cell_type": "code",
   "execution_count": 11,
   "id": "other-painting",
   "metadata": {
    "execution": {
     "iopub.execute_input": "2021-09-01T02:01:35.672502Z",
     "iopub.status.busy": "2021-09-01T02:01:35.671827Z",
     "iopub.status.idle": "2021-09-01T02:01:35.701309Z",
     "shell.execute_reply": "2021-09-01T02:01:35.700810Z"
    },
    "papermill": {
     "duration": 0.047132,
     "end_time": "2021-09-01T02:01:35.701436",
     "exception": false,
     "start_time": "2021-09-01T02:01:35.654304",
     "status": "completed"
    },
    "tags": []
   },
   "outputs": [],
   "source": [
    "#hide\n",
    "#Koreliacijos matrica. "
   ]
  },
  {
   "cell_type": "code",
   "execution_count": 12,
   "id": "modular-magnitude",
   "metadata": {
    "execution": {
     "iopub.execute_input": "2021-09-01T02:01:35.736794Z",
     "iopub.status.busy": "2021-09-01T02:01:35.736250Z",
     "iopub.status.idle": "2021-09-01T02:01:35.769306Z",
     "shell.execute_reply": "2021-09-01T02:01:35.768627Z"
    },
    "papermill": {
     "duration": 0.052234,
     "end_time": "2021-09-01T02:01:35.769458",
     "exception": false,
     "start_time": "2021-09-01T02:01:35.717224",
     "status": "completed"
    },
    "tags": []
   },
   "outputs": [],
   "source": [
    "#hide_input\n",
    "#plt.figure(figsize=(15, 8))\n",
    "#sns.heatmap(df_all_mrk[sum_corr].corr(), annot=True, cmap=\"BrBG\");\n",
    "#plt.savefig('corr_matrix_all.eps', format='eps')"
   ]
  },
  {
   "cell_type": "code",
   "execution_count": null,
   "id": "original-senator",
   "metadata": {
    "papermill": {
     "duration": 0.01473,
     "end_time": "2021-09-01T02:01:35.799850",
     "exception": false,
     "start_time": "2021-09-01T02:01:35.785120",
     "status": "completed"
    },
    "tags": []
   },
   "outputs": [],
   "source": []
  },
  {
   "cell_type": "code",
   "execution_count": null,
   "id": "saving-secretariat",
   "metadata": {
    "papermill": {
     "duration": 0.016216,
     "end_time": "2021-09-01T02:01:35.831081",
     "exception": false,
     "start_time": "2021-09-01T02:01:35.814865",
     "status": "completed"
    },
    "tags": []
   },
   "outputs": [],
   "source": []
  }
 ],
 "metadata": {
  "kernelspec": {
   "display_name": "Python 3",
   "language": "python",
   "name": "python3"
  },
  "language_info": {
   "codemirror_mode": {
    "name": "ipython",
    "version": 3
   },
   "file_extension": ".py",
   "mimetype": "text/x-python",
   "name": "python",
   "nbconvert_exporter": "python",
   "pygments_lexer": "ipython3",
   "version": "3.6.14"
  },
  "papermill": {
   "default_parameters": {},
   "duration": 36.37434,
   "end_time": "2021-09-01T02:01:36.355062",
   "environment_variables": {},
   "exception": null,
   "input_path": "App-Correlation_charts.ipynb",
   "output_path": "App-Correlation_charts.ipynb",
   "parameters": {},
   "start_time": "2021-09-01T02:00:59.980722",
   "version": "2.2.2"
  }
 },
 "nbformat": 4,
 "nbformat_minor": 5
}