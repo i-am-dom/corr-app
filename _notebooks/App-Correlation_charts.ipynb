{
 "cells": [
  {
   "cell_type": "markdown",
   "id": "touched-facility",
   "metadata": {
    "papermill": {
     "duration": 0.01318,
     "end_time": "2022-01-16T02:11:00.567764",
     "exception": false,
     "start_time": "2022-01-16T02:11:00.554584",
     "status": "completed"
    },
    "tags": []
   },
   "source": [
    "# Koreliacijų matrica\n",
    "> Išplėstinė koreliacijų matrica. \n",
    "\n",
    "- toc: true \n",
    "- badges: true\n",
    "- comments: false\n",
    "- categories: [Dominykas Tautkus]\n",
    "- image: images/matrix.png"
   ]
  },
  {
   "cell_type": "code",
   "execution_count": null,
   "id": "premium-weekend",
   "metadata": {
    "papermill": {
     "duration": 0.009506,
     "end_time": "2022-01-16T02:11:00.587732",
     "exception": false,
     "start_time": "2022-01-16T02:11:00.578226",
     "status": "completed"
    },
    "tags": []
   },
   "outputs": [],
   "source": []
  },
  {
   "cell_type": "code",
   "execution_count": 1,
   "id": "vertical-rebate",
   "metadata": {
    "execution": {
     "iopub.execute_input": "2022-01-16T02:11:00.617811Z",
     "iopub.status.busy": "2022-01-16T02:11:00.617332Z",
     "iopub.status.idle": "2022-01-16T02:11:00.626526Z",
     "shell.execute_reply": "2022-01-16T02:11:00.626145Z"
    },
    "papermill": {
     "duration": 0.029443,
     "end_time": "2022-01-16T02:11:00.626641",
     "exception": false,
     "start_time": "2022-01-16T02:11:00.597198",
     "status": "completed"
    },
    "tags": []
   },
   "outputs": [],
   "source": [
    "#hide\n",
    "%load_ext autoreload\n",
    "%autoreload 2"
   ]
  },
  {
   "cell_type": "code",
   "execution_count": 2,
   "id": "overall-advancement",
   "metadata": {
    "execution": {
     "iopub.execute_input": "2022-01-16T02:11:00.648493Z",
     "iopub.status.busy": "2022-01-16T02:11:00.648038Z",
     "iopub.status.idle": "2022-01-16T02:11:01.731124Z",
     "shell.execute_reply": "2022-01-16T02:11:01.731597Z"
    },
    "papermill": {
     "duration": 1.095766,
     "end_time": "2022-01-16T02:11:01.731767",
     "exception": false,
     "start_time": "2022-01-16T02:11:00.636001",
     "status": "completed"
    },
    "tags": []
   },
   "outputs": [],
   "source": [
    "#hide\n",
    "from scripts.read_data import read_api\n",
    "from IPython.display import HTML\n",
    "import plotly.graph_objects as go\n"
   ]
  },
  {
   "cell_type": "code",
   "execution_count": 3,
   "id": "light-crazy",
   "metadata": {
    "execution": {
     "iopub.execute_input": "2022-01-16T02:11:01.756475Z",
     "iopub.status.busy": "2022-01-16T02:11:01.755994Z",
     "iopub.status.idle": "2022-01-16T02:11:01.775403Z",
     "shell.execute_reply": "2022-01-16T02:11:01.775014Z"
    },
    "papermill": {
     "duration": 0.03305,
     "end_time": "2022-01-16T02:11:01.775499",
     "exception": false,
     "start_time": "2022-01-16T02:11:01.742449",
     "status": "completed"
    },
    "tags": []
   },
   "outputs": [],
   "source": [
    "#hide\n",
    "### ICO koreliacija"
   ]
  },
  {
   "cell_type": "code",
   "execution_count": 4,
   "id": "likely-bahrain",
   "metadata": {
    "execution": {
     "iopub.execute_input": "2022-01-16T02:11:01.801345Z",
     "iopub.status.busy": "2022-01-16T02:11:01.800881Z",
     "iopub.status.idle": "2022-01-16T02:11:02.598205Z",
     "shell.execute_reply": "2022-01-16T02:11:02.597662Z"
    },
    "papermill": {
     "duration": 0.81344,
     "end_time": "2022-01-16T02:11:02.598356",
     "exception": false,
     "start_time": "2022-01-16T02:11:01.784916",
     "status": "completed"
    },
    "tags": []
   },
   "outputs": [],
   "source": [
    "#hide\n",
    "import matplotlib.pyplot as plt\n",
    "import numpy as np\n",
    "import pandas as pd\n",
    "import seaborn as sns\n",
    "import matplotlib.pyplot as plt \n",
    "import matplotlib.dates as mdates\n",
    "import matplotlib.pyplot as plt"
   ]
  },
  {
   "cell_type": "code",
   "execution_count": 5,
   "id": "superior-blanket",
   "metadata": {
    "execution": {
     "iopub.execute_input": "2022-01-16T02:11:02.626428Z",
     "iopub.status.busy": "2022-01-16T02:11:02.625943Z",
     "iopub.status.idle": "2022-01-16T02:11:19.184159Z",
     "shell.execute_reply": "2022-01-16T02:11:19.183251Z"
    },
    "papermill": {
     "duration": 16.575924,
     "end_time": "2022-01-16T02:11:19.184294",
     "exception": false,
     "start_time": "2022-01-16T02:11:02.608370",
     "status": "completed"
    },
    "tags": []
   },
   "outputs": [
    {
     "name": "stderr",
     "output_type": "stream",
     "text": [
      "/home/runner/work/corr-app/corr-app/_notebooks/scripts/read_data.py:187: SettingWithCopyWarning:\n",
      "\n",
      "\n",
      "A value is trying to be set on a copy of a slice from a DataFrame.\n",
      "Try using .loc[row_indexer,col_indexer] = value instead\n",
      "\n",
      "See the caveats in the documentation: https://pandas.pydata.org/pandas-docs/stable/user_guide/indexing.html#returning-a-view-versus-a-copy\n",
      "\n"
     ]
    },
    {
     "name": "stderr",
     "output_type": "stream",
     "text": [
      "/home/runner/work/corr-app/corr-app/_notebooks/scripts/read_data.py:215: SettingWithCopyWarning:\n",
      "\n",
      "\n",
      "A value is trying to be set on a copy of a slice from a DataFrame.\n",
      "Try using .loc[row_indexer,col_indexer] = value instead\n",
      "\n",
      "See the caveats in the documentation: https://pandas.pydata.org/pandas-docs/stable/user_guide/indexing.html#returning-a-view-versus-a-copy\n",
      "\n"
     ]
    }
   ],
   "source": [
    "#hide\n",
    "df_all = read_api()\n",
    "#df_all = df_all.drop(['SP500', 'XAU', 'ETH', 'BTC'], axis=1)\n",
    "\n"
   ]
  },
  {
   "cell_type": "code",
   "execution_count": 6,
   "id": "mature-alert",
   "metadata": {
    "execution": {
     "iopub.execute_input": "2022-01-16T02:11:19.210784Z",
     "iopub.status.busy": "2022-01-16T02:11:19.209008Z",
     "iopub.status.idle": "2022-01-16T02:11:19.236635Z",
     "shell.execute_reply": "2022-01-16T02:11:19.236154Z"
    },
    "papermill": {
     "duration": 0.042048,
     "end_time": "2022-01-16T02:11:19.236785",
     "exception": false,
     "start_time": "2022-01-16T02:11:19.194737",
     "status": "completed"
    },
    "tags": []
   },
   "outputs": [],
   "source": [
    "#hide_input\n",
    "sum_corr = df_all.corr().sum().sort_values(ascending=True).index.values\n",
    "#df_all[sum_corr].corr()"
   ]
  },
  {
   "cell_type": "markdown",
   "id": "complex-syndicate",
   "metadata": {
    "papermill": {
     "duration": 0.009936,
     "end_time": "2022-01-16T02:11:19.256906",
     "exception": false,
     "start_time": "2022-01-16T02:11:19.246970",
     "status": "completed"
    },
    "tags": []
   },
   "source": [
    "## Išplėstinė koreliacijų matrica. "
   ]
  },
  {
   "cell_type": "code",
   "execution_count": 7,
   "id": "atomic-omaha",
   "metadata": {
    "execution": {
     "iopub.execute_input": "2022-01-16T02:11:19.280294Z",
     "iopub.status.busy": "2022-01-16T02:11:19.279843Z",
     "iopub.status.idle": "2022-01-16T02:11:20.430548Z",
     "shell.execute_reply": "2022-01-16T02:11:20.430110Z"
    },
    "papermill": {
     "duration": 1.163804,
     "end_time": "2022-01-16T02:11:20.430660",
     "exception": false,
     "start_time": "2022-01-16T02:11:19.266856",
     "status": "completed"
    },
    "tags": []
   },
   "outputs": [
    {
     "data": {
      "image/png": "[encoded data removed]",
      "text/plain": [
       "<Figure size 1080x792 with 2 Axes>"
      ]
     },
     "metadata": {
      "needs_background": "light"
     },
     "output_type": "display_data"
    }
   ],
   "source": [
    "#hide_input\n",
    "plt.figure(figsize=(15, 11))\n",
    "sns.heatmap(df_all[sum_corr].corr(), annot=True, cmap=\"cubehelix\") \n",
    "sns.set(font_scale=1.25)\n",
    "plt.savefig('corr_matrix.png', format='eps')"
   ]
  },
  {
   "cell_type": "code",
   "execution_count": 8,
   "id": "arbitrary-sullivan",
   "metadata": {
    "execution": {
     "iopub.execute_input": "2022-01-16T02:11:20.457756Z",
     "iopub.status.busy": "2022-01-16T02:11:20.457294Z",
     "iopub.status.idle": "2022-01-16T02:11:20.481608Z",
     "shell.execute_reply": "2022-01-16T02:11:20.481044Z"
    },
    "papermill": {
     "duration": 0.038948,
     "end_time": "2022-01-16T02:11:20.481738",
     "exception": false,
     "start_time": "2022-01-16T02:11:20.442790",
     "status": "completed"
    },
    "tags": []
   },
   "outputs": [],
   "source": [
    "#hide\n",
    "#df_all_mrk = read_api()"
   ]
  },
  {
   "cell_type": "code",
   "execution_count": 9,
   "id": "delayed-adapter",
   "metadata": {
    "execution": {
     "iopub.execute_input": "2022-01-16T02:11:20.509911Z",
     "iopub.status.busy": "2022-01-16T02:11:20.509457Z",
     "iopub.status.idle": "2022-01-16T02:11:20.534982Z",
     "shell.execute_reply": "2022-01-16T02:11:20.534476Z"
    },
    "papermill": {
     "duration": 0.039716,
     "end_time": "2022-01-16T02:11:20.535101",
     "exception": false,
     "start_time": "2022-01-16T02:11:20.495385",
     "status": "completed"
    },
    "tags": []
   },
   "outputs": [],
   "source": [
    "#hide\n",
    "#Koreliacijų koeficientai"
   ]
  },
  {
   "cell_type": "code",
   "execution_count": 10,
   "id": "seeing-celebration",
   "metadata": {
    "execution": {
     "iopub.execute_input": "2022-01-16T02:11:20.562146Z",
     "iopub.status.busy": "2022-01-16T02:11:20.561690Z",
     "iopub.status.idle": "2022-01-16T02:11:20.584609Z",
     "shell.execute_reply": "2022-01-16T02:11:20.584137Z"
    },
    "papermill": {
     "duration": 0.037338,
     "end_time": "2022-01-16T02:11:20.584764",
     "exception": false,
     "start_time": "2022-01-16T02:11:20.547426",
     "status": "completed"
    },
    "tags": []
   },
   "outputs": [],
   "source": [
    "#hide_input\n",
    "#sum_corr = df_all_mrk.corr().sum().sort_values(ascending=True).index.values\n",
    "#df_all_mrk[sum_corr].corr()"
   ]
  },
  {
   "cell_type": "code",
   "execution_count": 11,
   "id": "other-painting",
   "metadata": {
    "execution": {
     "iopub.execute_input": "2022-01-16T02:11:20.611268Z",
     "iopub.status.busy": "2022-01-16T02:11:20.610821Z",
     "iopub.status.idle": "2022-01-16T02:11:20.635733Z",
     "shell.execute_reply": "2022-01-16T02:11:20.635230Z"
    },
    "papermill": {
     "duration": 0.038744,
     "end_time": "2022-01-16T02:11:20.635850",
     "exception": false,
     "start_time": "2022-01-16T02:11:20.597106",
     "status": "completed"
    },
    "tags": []
   },
   "outputs": [],
   "source": [
    "#hide\n",
    "#Koreliacijos matrica. "
   ]
  },
  {
   "cell_type": "code",
   "execution_count": 12,
   "id": "modular-magnitude",
   "metadata": {
    "execution": {
     "iopub.execute_input": "2022-01-16T02:11:20.663606Z",
     "iopub.status.busy": "2022-01-16T02:11:20.663146Z",
     "iopub.status.idle": "2022-01-16T02:11:20.687775Z",
     "shell.execute_reply": "2022-01-16T02:11:20.687306Z"
    },
    "papermill": {
     "duration": 0.039591,
     "end_time": "2022-01-16T02:11:20.687887",
     "exception": false,
     "start_time": "2022-01-16T02:11:20.648296",
     "status": "completed"
    },
    "tags": []
   },
   "outputs": [],
   "source": [
    "#hide_input\n",
    "#plt.figure(figsize=(15, 8))\n",
    "#sns.heatmap(df_all_mrk[sum_corr].corr(), annot=True, cmap=\"BrBG\");\n",
    "#plt.savefig('corr_matrix_all.eps', format='eps')"
   ]
  },
  {
   "cell_type": "code",
   "execution_count": null,
   "id": "original-senator",
   "metadata": {
    "papermill": {
     "duration": 0.011602,
     "end_time": "2022-01-16T02:11:20.711331",
     "exception": false,
     "start_time": "2022-01-16T02:11:20.699729",
     "status": "completed"
    },
    "tags": []
   },
   "outputs": [],
   "source": []
  },
  {
   "cell_type": "code",
   "execution_count": null,
   "id": "saving-secretariat",
   "metadata": {
    "papermill": {
     "duration": 0.011721,
     "end_time": "2022-01-16T02:11:20.734599",
     "exception": false,
     "start_time": "2022-01-16T02:11:20.722878",
     "status": "completed"
    },
    "tags": []
   },
   "outputs": [],
   "source": []
  }
 ],
 "metadata": {
  "kernelspec": {
   "display_name": "Python 3",
   "language": "python",
   "name": "python3"
  },
  "language_info": {
   "codemirror_mode": {
    "name": "ipython",
    "version": 3
   },
   "file_extension": ".py",
   "mimetype": "text/x-python",
   "name": "python",
   "nbconvert_exporter": "python",
   "pygments_lexer": "ipython3",
   "version": "3.6.15"
  },
  "papermill": {
   "default_parameters": {},
   "duration": 21.795472,
   "end_time": "2022-01-16T02:11:21.264494",
   "environment_variables": {},
   "exception": null,
   "input_path": "App-Correlation_charts.ipynb",
   "output_path": "App-Correlation_charts.ipynb",
   "parameters": {},
   "start_time": "2022-01-16T02:10:59.469022",
   "version": "2.2.2"
  }
 },
 "nbformat": 4,
 "nbformat_minor": 5
}