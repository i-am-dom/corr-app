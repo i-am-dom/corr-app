{
 "cells": [
  {
   "cell_type": "markdown",
   "id": "touched-facility",
   "metadata": {
    "papermill": {
     "duration": 0.018582,
     "end_time": "2022-06-22T03:07:16.745925",
     "exception": false,
     "start_time": "2022-06-22T03:07:16.727343",
     "status": "completed"
    },
    "tags": []
   },
   "source": [
    "# Koreliacijų matrica\n",
    "> Išplėstinė koreliacijų matrica. \n",
    "\n",
    "- toc: true \n",
    "- badges: true\n",
    "- comments: false\n",
    "- categories: [Dominykas Tautkus]\n",
    "- image: images/matrix.png"
   ]
  },
  {
   "cell_type": "code",
   "execution_count": null,
   "id": "premium-weekend",
   "metadata": {
    "papermill": {
     "duration": 0.014809,
     "end_time": "2022-06-22T03:07:16.775838",
     "exception": false,
     "start_time": "2022-06-22T03:07:16.761029",
     "status": "completed"
    },
    "tags": []
   },
   "outputs": [],
   "source": []
  },
  {
   "cell_type": "code",
   "execution_count": 1,
   "id": "vertical-rebate",
   "metadata": {
    "execution": {
     "iopub.execute_input": "2022-06-22T03:07:16.817189Z",
     "iopub.status.busy": "2022-06-22T03:07:16.816323Z",
     "iopub.status.idle": "2022-06-22T03:07:16.829109Z",
     "shell.execute_reply": "2022-06-22T03:07:16.829868Z"
    },
    "papermill": {
     "duration": 0.039963,
     "end_time": "2022-06-22T03:07:16.830033",
     "exception": false,
     "start_time": "2022-06-22T03:07:16.790070",
     "status": "completed"
    },
    "tags": []
   },
   "outputs": [],
   "source": [
    "#hide\n",
    "%load_ext autoreload\n",
    "%autoreload 2"
   ]
  },
  {
   "cell_type": "code",
   "execution_count": 2,
   "id": "overall-advancement",
   "metadata": {
    "execution": {
     "iopub.execute_input": "2022-06-22T03:07:16.864635Z",
     "iopub.status.busy": "2022-06-22T03:07:16.863831Z",
     "iopub.status.idle": "2022-06-22T03:07:18.396722Z",
     "shell.execute_reply": "2022-06-22T03:07:18.395785Z"
    },
    "papermill": {
     "duration": 1.552587,
     "end_time": "2022-06-22T03:07:18.396872",
     "exception": false,
     "start_time": "2022-06-22T03:07:16.844285",
     "status": "completed"
    },
    "tags": []
   },
   "outputs": [],
   "source": [
    "#hide\n",
    "from scripts.read_data import read_api\n",
    "from IPython.display import HTML\n",
    "import plotly.graph_objects as go\n"
   ]
  },
  {
   "cell_type": "code",
   "execution_count": 3,
   "id": "light-crazy",
   "metadata": {
    "execution": {
     "iopub.execute_input": "2022-06-22T03:07:18.431972Z",
     "iopub.status.busy": "2022-06-22T03:07:18.431306Z",
     "iopub.status.idle": "2022-06-22T03:07:18.458473Z",
     "shell.execute_reply": "2022-06-22T03:07:18.457851Z"
    },
    "papermill": {
     "duration": 0.04586,
     "end_time": "2022-06-22T03:07:18.458616",
     "exception": false,
     "start_time": "2022-06-22T03:07:18.412756",
     "status": "completed"
    },
    "tags": []
   },
   "outputs": [],
   "source": [
    "#hide\n",
    "### ICO koreliacija"
   ]
  },
  {
   "cell_type": "code",
   "execution_count": 4,
   "id": "likely-bahrain",
   "metadata": {
    "execution": {
     "iopub.execute_input": "2022-06-22T03:07:18.491983Z",
     "iopub.status.busy": "2022-06-22T03:07:18.491209Z",
     "iopub.status.idle": "2022-06-22T03:07:19.522858Z",
     "shell.execute_reply": "2022-06-22T03:07:19.523467Z"
    },
    "papermill": {
     "duration": 1.050482,
     "end_time": "2022-06-22T03:07:19.523625",
     "exception": false,
     "start_time": "2022-06-22T03:07:18.473143",
     "status": "completed"
    },
    "tags": []
   },
   "outputs": [],
   "source": [
    "#hide\n",
    "import matplotlib.pyplot as plt\n",
    "import numpy as np\n",
    "import pandas as pd\n",
    "import seaborn as sns\n",
    "import matplotlib.pyplot as plt \n",
    "import matplotlib.dates as mdates\n",
    "import matplotlib.pyplot as plt"
   ]
  },
  {
   "cell_type": "code",
   "execution_count": 5,
   "id": "superior-blanket",
   "metadata": {
    "execution": {
     "iopub.execute_input": "2022-06-22T03:07:19.557237Z",
     "iopub.status.busy": "2022-06-22T03:07:19.556443Z",
     "iopub.status.idle": "2022-06-22T03:07:31.618182Z",
     "shell.execute_reply": "2022-06-22T03:07:31.616971Z"
    },
    "papermill": {
     "duration": 12.080442,
     "end_time": "2022-06-22T03:07:31.618365",
     "exception": false,
     "start_time": "2022-06-22T03:07:19.537923",
     "status": "completed"
    },
    "tags": []
   },
   "outputs": [
    {
     "name": "stderr",
     "output_type": "stream",
     "text": [
      "/home/runner/work/corr-app/corr-app/_notebooks/scripts/read_data.py:187: SettingWithCopyWarning:\n",
      "\n",
      "\n",
      "A value is trying to be set on a copy of a slice from a DataFrame.\n",
      "Try using .loc[row_indexer,col_indexer] = value instead\n",
      "\n",
      "See the caveats in the documentation: https://pandas.pydata.org/pandas-docs/stable/user_guide/indexing.html#returning-a-view-versus-a-copy\n",
      "\n"
     ]
    },
    {
     "name": "stderr",
     "output_type": "stream",
     "text": [
      "/home/runner/work/corr-app/corr-app/_notebooks/scripts/read_data.py:215: SettingWithCopyWarning:\n",
      "\n",
      "\n",
      "A value is trying to be set on a copy of a slice from a DataFrame.\n",
      "Try using .loc[row_indexer,col_indexer] = value instead\n",
      "\n",
      "See the caveats in the documentation: https://pandas.pydata.org/pandas-docs/stable/user_guide/indexing.html#returning-a-view-versus-a-copy\n",
      "\n"
     ]
    }
   ],
   "source": [
    "#hide\n",
    "df_all = read_api()\n",
    "#df_all = df_all.drop(['SP500', 'XAU', 'ETH', 'BTC'], axis=1)\n",
    "\n"
   ]
  },
  {
   "cell_type": "code",
   "execution_count": 6,
   "id": "mature-alert",
   "metadata": {
    "execution": {
     "iopub.execute_input": "2022-06-22T03:07:31.657926Z",
     "iopub.status.busy": "2022-06-22T03:07:31.652663Z",
     "iopub.status.idle": "2022-06-22T03:07:31.690631Z",
     "shell.execute_reply": "2022-06-22T03:07:31.689926Z"
    },
    "papermill": {
     "duration": 0.058289,
     "end_time": "2022-06-22T03:07:31.690822",
     "exception": false,
     "start_time": "2022-06-22T03:07:31.632533",
     "status": "completed"
    },
    "tags": []
   },
   "outputs": [],
   "source": [
    "#hide_input\n",
    "sum_corr = df_all.corr().sum().sort_values(ascending=True).index.values\n",
    "#df_all[sum_corr].corr()"
   ]
  },
  {
   "cell_type": "markdown",
   "id": "complex-syndicate",
   "metadata": {
    "papermill": {
     "duration": 0.014489,
     "end_time": "2022-06-22T03:07:31.719154",
     "exception": false,
     "start_time": "2022-06-22T03:07:31.704665",
     "status": "completed"
    },
    "tags": []
   },
   "source": [
    "## Išplėstinė koreliacijų matrica. "
   ]
  },
  {
   "cell_type": "code",
   "execution_count": 7,
   "id": "atomic-omaha",
   "metadata": {
    "execution": {
     "iopub.execute_input": "2022-06-22T03:07:31.751622Z",
     "iopub.status.busy": "2022-06-22T03:07:31.750737Z",
     "iopub.status.idle": "2022-06-22T03:07:33.460580Z",
     "shell.execute_reply": "2022-06-22T03:07:33.461412Z"
    },
    "papermill": {
     "duration": 1.727738,
     "end_time": "2022-06-22T03:07:33.461579",
     "exception": false,
     "start_time": "2022-06-22T03:07:31.733841",
     "status": "completed"
    },
    "tags": []
   },
   "outputs": [
    {
     "data": {
      "image/png": "[encoded data removed]",
      "text/plain": [
       "<Figure size 1080x792 with 2 Axes>"
      ]
     },
     "metadata": {
      "needs_background": "light"
     },
     "output_type": "display_data"
    }
   ],
   "source": [
    "#hide_input\n",
    "plt.figure(figsize=(15, 11))\n",
    "sns.heatmap(df_all[sum_corr].corr(), annot=True, cmap=\"cubehelix\") \n",
    "sns.set(font_scale=1.25)\n",
    "plt.savefig('corr_matrix.png', format='eps')"
   ]
  },
  {
   "cell_type": "code",
   "execution_count": 8,
   "id": "arbitrary-sullivan",
   "metadata": {
    "execution": {
     "iopub.execute_input": "2022-06-22T03:07:33.499961Z",
     "iopub.status.busy": "2022-06-22T03:07:33.498541Z",
     "iopub.status.idle": "2022-06-22T03:07:33.531126Z",
     "shell.execute_reply": "2022-06-22T03:07:33.530566Z"
    },
    "papermill": {
     "duration": 0.052735,
     "end_time": "2022-06-22T03:07:33.531250",
     "exception": false,
     "start_time": "2022-06-22T03:07:33.478515",
     "status": "completed"
    },
    "tags": []
   },
   "outputs": [],
   "source": [
    "#hide\n",
    "#df_all_mrk = read_api()"
   ]
  },
  {
   "cell_type": "code",
   "execution_count": 9,
   "id": "delayed-adapter",
   "metadata": {
    "execution": {
     "iopub.execute_input": "2022-06-22T03:07:33.572179Z",
     "iopub.status.busy": "2022-06-22T03:07:33.571103Z",
     "iopub.status.idle": "2022-06-22T03:07:33.602211Z",
     "shell.execute_reply": "2022-06-22T03:07:33.601502Z"
    },
    "papermill": {
     "duration": 0.055555,
     "end_time": "2022-06-22T03:07:33.602361",
     "exception": false,
     "start_time": "2022-06-22T03:07:33.546806",
     "status": "completed"
    },
    "tags": []
   },
   "outputs": [],
   "source": [
    "#hide\n",
    "#Koreliacijų koeficientai"
   ]
  },
  {
   "cell_type": "code",
   "execution_count": 10,
   "id": "seeing-celebration",
   "metadata": {
    "execution": {
     "iopub.execute_input": "2022-06-22T03:07:33.637918Z",
     "iopub.status.busy": "2022-06-22T03:07:33.637172Z",
     "iopub.status.idle": "2022-06-22T03:07:33.667694Z",
     "shell.execute_reply": "2022-06-22T03:07:33.668340Z"
    },
    "papermill": {
     "duration": 0.050559,
     "end_time": "2022-06-22T03:07:33.668480",
     "exception": false,
     "start_time": "2022-06-22T03:07:33.617921",
     "status": "completed"
    },
    "tags": []
   },
   "outputs": [],
   "source": [
    "#hide_input\n",
    "#sum_corr = df_all_mrk.corr().sum().sort_values(ascending=True).index.values\n",
    "#df_all_mrk[sum_corr].corr()"
   ]
  },
  {
   "cell_type": "code",
   "execution_count": 11,
   "id": "other-painting",
   "metadata": {
    "execution": {
     "iopub.execute_input": "2022-06-22T03:07:33.704287Z",
     "iopub.status.busy": "2022-06-22T03:07:33.703614Z",
     "iopub.status.idle": "2022-06-22T03:07:33.734278Z",
     "shell.execute_reply": "2022-06-22T03:07:33.733608Z"
    },
    "papermill": {
     "duration": 0.049822,
     "end_time": "2022-06-22T03:07:33.734460",
     "exception": false,
     "start_time": "2022-06-22T03:07:33.684638",
     "status": "completed"
    },
    "tags": []
   },
   "outputs": [],
   "source": [
    "#hide\n",
    "#Koreliacijos matrica. "
   ]
  },
  {
   "cell_type": "code",
   "execution_count": 12,
   "id": "modular-magnitude",
   "metadata": {
    "execution": {
     "iopub.execute_input": "2022-06-22T03:07:33.774500Z",
     "iopub.status.busy": "2022-06-22T03:07:33.773771Z",
     "iopub.status.idle": "2022-06-22T03:07:33.806249Z",
     "shell.execute_reply": "2022-06-22T03:07:33.805633Z"
    },
    "papermill": {
     "duration": 0.054383,
     "end_time": "2022-06-22T03:07:33.806378",
     "exception": false,
     "start_time": "2022-06-22T03:07:33.751995",
     "status": "completed"
    },
    "tags": []
   },
   "outputs": [],
   "source": [
    "#hide_input\n",
    "#plt.figure(figsize=(15, 8))\n",
    "#sns.heatmap(df_all_mrk[sum_corr].corr(), annot=True, cmap=\"BrBG\");\n",
    "#plt.savefig('corr_matrix_all.eps', format='eps')"
   ]
  },
  {
   "cell_type": "code",
   "execution_count": null,
   "id": "original-senator",
   "metadata": {
    "papermill": {
     "duration": 0.016032,
     "end_time": "2022-06-22T03:07:33.842476",
     "exception": false,
     "start_time": "2022-06-22T03:07:33.826444",
     "status": "completed"
    },
    "tags": []
   },
   "outputs": [],
   "source": []
  },
  {
   "cell_type": "code",
   "execution_count": null,
   "id": "saving-secretariat",
   "metadata": {
    "papermill": {
     "duration": 0.017427,
     "end_time": "2022-06-22T03:07:33.876150",
     "exception": false,
     "start_time": "2022-06-22T03:07:33.858723",
     "status": "completed"
    },
    "tags": []
   },
   "outputs": [],
   "source": []
  }
 ],
 "metadata": {
  "kernelspec": {
   "display_name": "Python 3",
   "language": "python",
   "name": "python3"
  },
  "language_info": {
   "codemirror_mode": {
    "name": "ipython",
    "version": 3
   },
   "file_extension": ".py",
   "mimetype": "text/x-python",
   "name": "python",
   "nbconvert_exporter": "python",
   "pygments_lexer": "ipython3",
   "version": "3.6.15"
  },
  "papermill": {
   "default_parameters": {},
   "duration": 19.029211,
   "end_time": "2022-06-22T03:07:34.413603",
   "environment_variables": {},
   "exception": null,
   "input_path": "App-Correlation_charts.ipynb",
   "output_path": "App-Correlation_charts.ipynb",
   "parameters": {},
   "start_time": "2022-06-22T03:07:15.384392",
   "version": "2.2.2"
  }
 },
 "nbformat": 4,
 "nbformat_minor": 5
}