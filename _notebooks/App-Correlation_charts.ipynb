{
 "cells": [
  {
   "cell_type": "markdown",
   "id": "touched-facility",
   "metadata": {
    "papermill": {
     "duration": 0.014149,
     "end_time": "2022-08-01T03:31:15.358534",
     "exception": false,
     "start_time": "2022-08-01T03:31:15.344385",
     "status": "completed"
    },
    "tags": []
   },
   "source": [
    "# Koreliacijų matrica\n",
    "> Išplėstinė koreliacijų matrica. \n",
    "\n",
    "- toc: true \n",
    "- badges: true\n",
    "- comments: false\n",
    "- categories: [Dominykas Tautkus]\n",
    "- image: images/matrix.png"
   ]
  },
  {
   "cell_type": "code",
   "execution_count": null,
   "id": "premium-weekend",
   "metadata": {
    "papermill": {
     "duration": 0.010532,
     "end_time": "2022-08-01T03:31:15.380390",
     "exception": false,
     "start_time": "2022-08-01T03:31:15.369858",
     "status": "completed"
    },
    "tags": []
   },
   "outputs": [],
   "source": []
  },
  {
   "cell_type": "code",
   "execution_count": 1,
   "id": "vertical-rebate",
   "metadata": {
    "execution": {
     "iopub.execute_input": "2022-08-01T03:31:15.411414Z",
     "iopub.status.busy": "2022-08-01T03:31:15.410841Z",
     "iopub.status.idle": "2022-08-01T03:31:15.421407Z",
     "shell.execute_reply": "2022-08-01T03:31:15.420946Z"
    },
    "papermill": {
     "duration": 0.030532,
     "end_time": "2022-08-01T03:31:15.421527",
     "exception": false,
     "start_time": "2022-08-01T03:31:15.390995",
     "status": "completed"
    },
    "tags": []
   },
   "outputs": [],
   "source": [
    "#hide\n",
    "%load_ext autoreload\n",
    "%autoreload 2"
   ]
  },
  {
   "cell_type": "code",
   "execution_count": 2,
   "id": "overall-advancement",
   "metadata": {
    "execution": {
     "iopub.execute_input": "2022-08-01T03:31:15.445652Z",
     "iopub.status.busy": "2022-08-01T03:31:15.445069Z",
     "iopub.status.idle": "2022-08-01T03:31:16.454256Z",
     "shell.execute_reply": "2022-08-01T03:31:16.454696Z"
    },
    "papermill": {
     "duration": 1.022734,
     "end_time": "2022-08-01T03:31:16.454829",
     "exception": false,
     "start_time": "2022-08-01T03:31:15.432095",
     "status": "completed"
    },
    "tags": []
   },
   "outputs": [],
   "source": [
    "#hide\n",
    "from scripts.read_data import read_api\n",
    "from IPython.display import HTML\n",
    "import plotly.graph_objects as go\n"
   ]
  },
  {
   "cell_type": "code",
   "execution_count": 3,
   "id": "light-crazy",
   "metadata": {
    "execution": {
     "iopub.execute_input": "2022-08-01T03:31:16.483570Z",
     "iopub.status.busy": "2022-08-01T03:31:16.481250Z",
     "iopub.status.idle": "2022-08-01T03:31:16.503732Z",
     "shell.execute_reply": "2022-08-01T03:31:16.503271Z"
    },
    "papermill": {
     "duration": 0.038105,
     "end_time": "2022-08-01T03:31:16.503844",
     "exception": false,
     "start_time": "2022-08-01T03:31:16.465739",
     "status": "completed"
    },
    "tags": []
   },
   "outputs": [],
   "source": [
    "#hide\n",
    "### ICO koreliacija"
   ]
  },
  {
   "cell_type": "code",
   "execution_count": 4,
   "id": "likely-bahrain",
   "metadata": {
    "execution": {
     "iopub.execute_input": "2022-08-01T03:31:16.529575Z",
     "iopub.status.busy": "2022-08-01T03:31:16.528509Z",
     "iopub.status.idle": "2022-08-01T03:31:17.330650Z",
     "shell.execute_reply": "2022-08-01T03:31:17.329874Z"
    },
    "papermill": {
     "duration": 0.816126,
     "end_time": "2022-08-01T03:31:17.330769",
     "exception": false,
     "start_time": "2022-08-01T03:31:16.514643",
     "status": "completed"
    },
    "tags": []
   },
   "outputs": [],
   "source": [
    "#hide\n",
    "import matplotlib.pyplot as plt\n",
    "import numpy as np\n",
    "import pandas as pd\n",
    "import seaborn as sns\n",
    "import matplotlib.pyplot as plt \n",
    "import matplotlib.dates as mdates\n",
    "import matplotlib.pyplot as plt"
   ]
  },
  {
   "cell_type": "code",
   "execution_count": 5,
   "id": "superior-blanket",
   "metadata": {
    "execution": {
     "iopub.execute_input": "2022-08-01T03:31:17.359144Z",
     "iopub.status.busy": "2022-08-01T03:31:17.358542Z",
     "iopub.status.idle": "2022-08-01T03:31:32.221851Z",
     "shell.execute_reply": "2022-08-01T03:31:32.221040Z"
    },
    "papermill": {
     "duration": 14.880224,
     "end_time": "2022-08-01T03:31:32.221970",
     "exception": false,
     "start_time": "2022-08-01T03:31:17.341746",
     "status": "completed"
    },
    "tags": []
   },
   "outputs": [
    {
     "name": "stderr",
     "output_type": "stream",
     "text": [
      "/home/runner/work/corr-app/corr-app/_notebooks/scripts/read_data.py:187: SettingWithCopyWarning:\n",
      "\n",
      "\n",
      "A value is trying to be set on a copy of a slice from a DataFrame.\n",
      "Try using .loc[row_indexer,col_indexer] = value instead\n",
      "\n",
      "See the caveats in the documentation: https://pandas.pydata.org/pandas-docs/stable/user_guide/indexing.html#returning-a-view-versus-a-copy\n",
      "\n"
     ]
    },
    {
     "name": "stderr",
     "output_type": "stream",
     "text": [
      "/home/runner/work/corr-app/corr-app/_notebooks/scripts/read_data.py:215: SettingWithCopyWarning:\n",
      "\n",
      "\n",
      "A value is trying to be set on a copy of a slice from a DataFrame.\n",
      "Try using .loc[row_indexer,col_indexer] = value instead\n",
      "\n",
      "See the caveats in the documentation: https://pandas.pydata.org/pandas-docs/stable/user_guide/indexing.html#returning-a-view-versus-a-copy\n",
      "\n"
     ]
    }
   ],
   "source": [
    "#hide\n",
    "df_all = read_api()\n",
    "#df_all = df_all.drop(['SP500', 'XAU', 'ETH', 'BTC'], axis=1)\n",
    "\n"
   ]
  },
  {
   "cell_type": "code",
   "execution_count": 6,
   "id": "mature-alert",
   "metadata": {
    "execution": {
     "iopub.execute_input": "2022-08-01T03:31:32.251388Z",
     "iopub.status.busy": "2022-08-01T03:31:32.249998Z",
     "iopub.status.idle": "2022-08-01T03:31:32.277683Z",
     "shell.execute_reply": "2022-08-01T03:31:32.278128Z"
    },
    "papermill": {
     "duration": 0.043694,
     "end_time": "2022-08-01T03:31:32.278241",
     "exception": false,
     "start_time": "2022-08-01T03:31:32.234547",
     "status": "completed"
    },
    "tags": []
   },
   "outputs": [],
   "source": [
    "#hide_input\n",
    "sum_corr = df_all.corr().sum().sort_values(ascending=True).index.values\n",
    "#df_all[sum_corr].corr()"
   ]
  },
  {
   "cell_type": "markdown",
   "id": "complex-syndicate",
   "metadata": {
    "papermill": {
     "duration": 0.011104,
     "end_time": "2022-08-01T03:31:32.300563",
     "exception": false,
     "start_time": "2022-08-01T03:31:32.289459",
     "status": "completed"
    },
    "tags": []
   },
   "source": [
    "## Išplėstinė koreliacijų matrica. "
   ]
  },
  {
   "cell_type": "code",
   "execution_count": 7,
   "id": "atomic-omaha",
   "metadata": {
    "execution": {
     "iopub.execute_input": "2022-08-01T03:31:32.326381Z",
     "iopub.status.busy": "2022-08-01T03:31:32.325825Z",
     "iopub.status.idle": "2022-08-01T03:31:33.438045Z",
     "shell.execute_reply": "2022-08-01T03:31:33.438475Z"
    },
    "papermill": {
     "duration": 1.126889,
     "end_time": "2022-08-01T03:31:33.438608",
     "exception": false,
     "start_time": "2022-08-01T03:31:32.311719",
     "status": "completed"
    },
    "tags": []
   },
   "outputs": [
    {
     "data": {
      "image/png": "[encoded data removed]",
      "text/plain": [
       "<Figure size 1080x792 with 2 Axes>"
      ]
     },
     "metadata": {
      "needs_background": "light"
     },
     "output_type": "display_data"
    }
   ],
   "source": [
    "#hide_input\n",
    "plt.figure(figsize=(15, 11))\n",
    "sns.heatmap(df_all[sum_corr].corr(), annot=True, cmap=\"cubehelix\") \n",
    "sns.set(font_scale=1.25)\n",
    "plt.savefig('corr_matrix.png', format='eps')"
   ]
  },
  {
   "cell_type": "code",
   "execution_count": 8,
   "id": "arbitrary-sullivan",
   "metadata": {
    "execution": {
     "iopub.execute_input": "2022-08-01T03:31:33.470416Z",
     "iopub.status.busy": "2022-08-01T03:31:33.467702Z",
     "iopub.status.idle": "2022-08-01T03:31:33.492980Z",
     "shell.execute_reply": "2022-08-01T03:31:33.493408Z"
    },
    "papermill": {
     "duration": 0.041475,
     "end_time": "2022-08-01T03:31:33.493544",
     "exception": false,
     "start_time": "2022-08-01T03:31:33.452069",
     "status": "completed"
    },
    "tags": []
   },
   "outputs": [],
   "source": [
    "#hide\n",
    "#df_all_mrk = read_api()"
   ]
  },
  {
   "cell_type": "code",
   "execution_count": 9,
   "id": "delayed-adapter",
   "metadata": {
    "execution": {
     "iopub.execute_input": "2022-08-01T03:31:33.522547Z",
     "iopub.status.busy": "2022-08-01T03:31:33.521986Z",
     "iopub.status.idle": "2022-08-01T03:31:33.546367Z",
     "shell.execute_reply": "2022-08-01T03:31:33.545915Z"
    },
    "papermill": {
     "duration": 0.039863,
     "end_time": "2022-08-01T03:31:33.546462",
     "exception": false,
     "start_time": "2022-08-01T03:31:33.506599",
     "status": "completed"
    },
    "tags": []
   },
   "outputs": [],
   "source": [
    "#hide\n",
    "#Koreliacijų koeficientai"
   ]
  },
  {
   "cell_type": "code",
   "execution_count": 10,
   "id": "seeing-celebration",
   "metadata": {
    "execution": {
     "iopub.execute_input": "2022-08-01T03:31:33.578138Z",
     "iopub.status.busy": "2022-08-01T03:31:33.576983Z",
     "iopub.status.idle": "2022-08-01T03:31:33.599524Z",
     "shell.execute_reply": "2022-08-01T03:31:33.599939Z"
    },
    "papermill": {
     "duration": 0.040391,
     "end_time": "2022-08-01T03:31:33.600052",
     "exception": false,
     "start_time": "2022-08-01T03:31:33.559661",
     "status": "completed"
    },
    "tags": []
   },
   "outputs": [],
   "source": [
    "#hide_input\n",
    "#sum_corr = df_all_mrk.corr().sum().sort_values(ascending=True).index.values\n",
    "#df_all_mrk[sum_corr].corr()"
   ]
  },
  {
   "cell_type": "code",
   "execution_count": 11,
   "id": "other-painting",
   "metadata": {
    "execution": {
     "iopub.execute_input": "2022-08-01T03:31:33.629226Z",
     "iopub.status.busy": "2022-08-01T03:31:33.628622Z",
     "iopub.status.idle": "2022-08-01T03:31:33.651691Z",
     "shell.execute_reply": "2022-08-01T03:31:33.651235Z"
    },
    "papermill": {
     "duration": 0.03857,
     "end_time": "2022-08-01T03:31:33.651784",
     "exception": false,
     "start_time": "2022-08-01T03:31:33.613214",
     "status": "completed"
    },
    "tags": []
   },
   "outputs": [],
   "source": [
    "#hide\n",
    "#Koreliacijos matrica. "
   ]
  },
  {
   "cell_type": "code",
   "execution_count": 12,
   "id": "modular-magnitude",
   "metadata": {
    "execution": {
     "iopub.execute_input": "2022-08-01T03:31:33.680720Z",
     "iopub.status.busy": "2022-08-01T03:31:33.680160Z",
     "iopub.status.idle": "2022-08-01T03:31:33.702596Z",
     "shell.execute_reply": "2022-08-01T03:31:33.703002Z"
    },
    "papermill": {
     "duration": 0.038224,
     "end_time": "2022-08-01T03:31:33.703110",
     "exception": false,
     "start_time": "2022-08-01T03:31:33.664886",
     "status": "completed"
    },
    "tags": []
   },
   "outputs": [],
   "source": [
    "#hide_input\n",
    "#plt.figure(figsize=(15, 8))\n",
    "#sns.heatmap(df_all_mrk[sum_corr].corr(), annot=True, cmap=\"BrBG\");\n",
    "#plt.savefig('corr_matrix_all.eps', format='eps')"
   ]
  },
  {
   "cell_type": "code",
   "execution_count": null,
   "id": "original-senator",
   "metadata": {
    "papermill": {
     "duration": 0.012913,
     "end_time": "2022-08-01T03:31:33.729047",
     "exception": false,
     "start_time": "2022-08-01T03:31:33.716134",
     "status": "completed"
    },
    "tags": []
   },
   "outputs": [],
   "source": []
  },
  {
   "cell_type": "code",
   "execution_count": null,
   "id": "saving-secretariat",
   "metadata": {
    "papermill": {
     "duration": 0.012968,
     "end_time": "2022-08-01T03:31:33.755022",
     "exception": false,
     "start_time": "2022-08-01T03:31:33.742054",
     "status": "completed"
    },
    "tags": []
   },
   "outputs": [],
   "source": []
  }
 ],
 "metadata": {
  "kernelspec": {
   "display_name": "Python 3",
   "language": "python",
   "name": "python3"
  },
  "language_info": {
   "codemirror_mode": {
    "name": "ipython",
    "version": 3
   },
   "file_extension": ".py",
   "mimetype": "text/x-python",
   "name": "python",
   "nbconvert_exporter": "python",
   "pygments_lexer": "ipython3",
   "version": "3.6.15"
  },
  "papermill": {
   "default_parameters": {},
   "duration": 19.862386,
   "end_time": "2022-08-01T03:31:34.185050",
   "environment_variables": {},
   "exception": null,
   "input_path": "App-Correlation_charts.ipynb",
   "output_path": "App-Correlation_charts.ipynb",
   "parameters": {},
   "start_time": "2022-08-01T03:31:14.322664",
   "version": "2.2.2"
  }
 },
 "nbformat": 4,
 "nbformat_minor": 5
}