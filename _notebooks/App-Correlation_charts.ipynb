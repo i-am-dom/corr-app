{
 "cells": [
  {
   "cell_type": "markdown",
   "id": "touched-facility",
   "metadata": {
    "papermill": {
     "duration": 0.018547,
     "end_time": "2022-03-10T02:23:09.435999",
     "exception": false,
     "start_time": "2022-03-10T02:23:09.417452",
     "status": "completed"
    },
    "tags": []
   },
   "source": [
    "# Koreliacijų matrica\n",
    "> Išplėstinė koreliacijų matrica. \n",
    "\n",
    "- toc: true \n",
    "- badges: true\n",
    "- comments: false\n",
    "- categories: [Dominykas Tautkus]\n",
    "- image: images/matrix.png"
   ]
  },
  {
   "cell_type": "code",
   "execution_count": null,
   "id": "premium-weekend",
   "metadata": {
    "papermill": {
     "duration": 0.014177,
     "end_time": "2022-03-10T02:23:09.465010",
     "exception": false,
     "start_time": "2022-03-10T02:23:09.450833",
     "status": "completed"
    },
    "tags": []
   },
   "outputs": [],
   "source": []
  },
  {
   "cell_type": "code",
   "execution_count": 1,
   "id": "vertical-rebate",
   "metadata": {
    "execution": {
     "iopub.execute_input": "2022-03-10T02:23:09.506991Z",
     "iopub.status.busy": "2022-03-10T02:23:09.506181Z",
     "iopub.status.idle": "2022-03-10T02:23:09.518995Z",
     "shell.execute_reply": "2022-03-10T02:23:09.518317Z"
    },
    "papermill": {
     "duration": 0.04014,
     "end_time": "2022-03-10T02:23:09.519164",
     "exception": false,
     "start_time": "2022-03-10T02:23:09.479024",
     "status": "completed"
    },
    "tags": []
   },
   "outputs": [],
   "source": [
    "#hide\n",
    "%load_ext autoreload\n",
    "%autoreload 2"
   ]
  },
  {
   "cell_type": "code",
   "execution_count": 2,
   "id": "overall-advancement",
   "metadata": {
    "execution": {
     "iopub.execute_input": "2022-03-10T02:23:09.551898Z",
     "iopub.status.busy": "2022-03-10T02:23:09.551220Z",
     "iopub.status.idle": "2022-03-10T02:23:11.426729Z",
     "shell.execute_reply": "2022-03-10T02:23:11.426118Z"
    },
    "papermill": {
     "duration": 1.893424,
     "end_time": "2022-03-10T02:23:11.426915",
     "exception": false,
     "start_time": "2022-03-10T02:23:09.533491",
     "status": "completed"
    },
    "tags": []
   },
   "outputs": [],
   "source": [
    "#hide\n",
    "from scripts.read_data import read_api\n",
    "from IPython.display import HTML\n",
    "import plotly.graph_objects as go\n"
   ]
  },
  {
   "cell_type": "code",
   "execution_count": 3,
   "id": "light-crazy",
   "metadata": {
    "execution": {
     "iopub.execute_input": "2022-03-10T02:23:11.464909Z",
     "iopub.status.busy": "2022-03-10T02:23:11.463755Z",
     "iopub.status.idle": "2022-03-10T02:23:11.489539Z",
     "shell.execute_reply": "2022-03-10T02:23:11.490036Z"
    },
    "papermill": {
     "duration": 0.04834,
     "end_time": "2022-03-10T02:23:11.490190",
     "exception": false,
     "start_time": "2022-03-10T02:23:11.441850",
     "status": "completed"
    },
    "tags": []
   },
   "outputs": [],
   "source": [
    "#hide\n",
    "### ICO koreliacija"
   ]
  },
  {
   "cell_type": "code",
   "execution_count": 4,
   "id": "likely-bahrain",
   "metadata": {
    "execution": {
     "iopub.execute_input": "2022-03-10T02:23:11.522789Z",
     "iopub.status.busy": "2022-03-10T02:23:11.522111Z",
     "iopub.status.idle": "2022-03-10T02:23:12.581073Z",
     "shell.execute_reply": "2022-03-10T02:23:12.580510Z"
    },
    "papermill": {
     "duration": 1.076681,
     "end_time": "2022-03-10T02:23:12.581212",
     "exception": false,
     "start_time": "2022-03-10T02:23:11.504531",
     "status": "completed"
    },
    "tags": []
   },
   "outputs": [],
   "source": [
    "#hide\n",
    "import matplotlib.pyplot as plt\n",
    "import numpy as np\n",
    "import pandas as pd\n",
    "import seaborn as sns\n",
    "import matplotlib.pyplot as plt \n",
    "import matplotlib.dates as mdates\n",
    "import matplotlib.pyplot as plt"
   ]
  },
  {
   "cell_type": "code",
   "execution_count": 5,
   "id": "superior-blanket",
   "metadata": {
    "execution": {
     "iopub.execute_input": "2022-03-10T02:23:12.616408Z",
     "iopub.status.busy": "2022-03-10T02:23:12.615786Z",
     "iopub.status.idle": "2022-03-10T02:23:22.887417Z",
     "shell.execute_reply": "2022-03-10T02:23:22.886796Z"
    },
    "papermill": {
     "duration": 10.292966,
     "end_time": "2022-03-10T02:23:22.887561",
     "exception": false,
     "start_time": "2022-03-10T02:23:12.594595",
     "status": "completed"
    },
    "tags": []
   },
   "outputs": [
    {
     "name": "stderr",
     "output_type": "stream",
     "text": [
      "/home/runner/work/corr-app/corr-app/_notebooks/scripts/read_data.py:187: SettingWithCopyWarning:\n",
      "\n",
      "\n",
      "A value is trying to be set on a copy of a slice from a DataFrame.\n",
      "Try using .loc[row_indexer,col_indexer] = value instead\n",
      "\n",
      "See the caveats in the documentation: https://pandas.pydata.org/pandas-docs/stable/user_guide/indexing.html#returning-a-view-versus-a-copy\n",
      "\n"
     ]
    },
    {
     "name": "stderr",
     "output_type": "stream",
     "text": [
      "/home/runner/work/corr-app/corr-app/_notebooks/scripts/read_data.py:215: SettingWithCopyWarning:\n",
      "\n",
      "\n",
      "A value is trying to be set on a copy of a slice from a DataFrame.\n",
      "Try using .loc[row_indexer,col_indexer] = value instead\n",
      "\n",
      "See the caveats in the documentation: https://pandas.pydata.org/pandas-docs/stable/user_guide/indexing.html#returning-a-view-versus-a-copy\n",
      "\n"
     ]
    }
   ],
   "source": [
    "#hide\n",
    "df_all = read_api()\n",
    "#df_all = df_all.drop(['SP500', 'XAU', 'ETH', 'BTC'], axis=1)\n",
    "\n"
   ]
  },
  {
   "cell_type": "code",
   "execution_count": 6,
   "id": "mature-alert",
   "metadata": {
    "execution": {
     "iopub.execute_input": "2022-03-10T02:23:22.922642Z",
     "iopub.status.busy": "2022-03-10T02:23:22.921546Z",
     "iopub.status.idle": "2022-03-10T02:23:22.956095Z",
     "shell.execute_reply": "2022-03-10T02:23:22.955485Z"
    },
    "papermill": {
     "duration": 0.053815,
     "end_time": "2022-03-10T02:23:22.956259",
     "exception": false,
     "start_time": "2022-03-10T02:23:22.902444",
     "status": "completed"
    },
    "tags": []
   },
   "outputs": [],
   "source": [
    "#hide_input\n",
    "sum_corr = df_all.corr().sum().sort_values(ascending=True).index.values\n",
    "#df_all[sum_corr].corr()"
   ]
  },
  {
   "cell_type": "markdown",
   "id": "complex-syndicate",
   "metadata": {
    "papermill": {
     "duration": 0.0149,
     "end_time": "2022-03-10T02:23:22.985366",
     "exception": false,
     "start_time": "2022-03-10T02:23:22.970466",
     "status": "completed"
    },
    "tags": []
   },
   "source": [
    "## Išplėstinė koreliacijų matrica. "
   ]
  },
  {
   "cell_type": "code",
   "execution_count": 7,
   "id": "atomic-omaha",
   "metadata": {
    "execution": {
     "iopub.execute_input": "2022-03-10T02:23:23.020609Z",
     "iopub.status.busy": "2022-03-10T02:23:23.019964Z",
     "iopub.status.idle": "2022-03-10T02:23:24.782952Z",
     "shell.execute_reply": "2022-03-10T02:23:24.782178Z"
    },
    "papermill": {
     "duration": 1.783597,
     "end_time": "2022-03-10T02:23:24.783118",
     "exception": false,
     "start_time": "2022-03-10T02:23:22.999521",
     "status": "completed"
    },
    "tags": []
   },
   "outputs": [
    {
     "data": {
      "image/png": "[encoded data removed]",
      "text/plain": [
       "<Figure size 1080x792 with 2 Axes>"
      ]
     },
     "metadata": {
      "needs_background": "light"
     },
     "output_type": "display_data"
    }
   ],
   "source": [
    "#hide_input\n",
    "plt.figure(figsize=(15, 11))\n",
    "sns.heatmap(df_all[sum_corr].corr(), annot=True, cmap=\"cubehelix\") \n",
    "sns.set(font_scale=1.25)\n",
    "plt.savefig('corr_matrix.png', format='eps')"
   ]
  },
  {
   "cell_type": "code",
   "execution_count": 8,
   "id": "arbitrary-sullivan",
   "metadata": {
    "execution": {
     "iopub.execute_input": "2022-03-10T02:23:24.819007Z",
     "iopub.status.busy": "2022-03-10T02:23:24.818210Z",
     "iopub.status.idle": "2022-03-10T02:23:24.849929Z",
     "shell.execute_reply": "2022-03-10T02:23:24.850419Z"
    },
    "papermill": {
     "duration": 0.051981,
     "end_time": "2022-03-10T02:23:24.850596",
     "exception": false,
     "start_time": "2022-03-10T02:23:24.798615",
     "status": "completed"
    },
    "tags": []
   },
   "outputs": [],
   "source": [
    "#hide\n",
    "#df_all_mrk = read_api()"
   ]
  },
  {
   "cell_type": "code",
   "execution_count": 9,
   "id": "delayed-adapter",
   "metadata": {
    "execution": {
     "iopub.execute_input": "2022-03-10T02:23:24.886583Z",
     "iopub.status.busy": "2022-03-10T02:23:24.885996Z",
     "iopub.status.idle": "2022-03-10T02:23:24.915084Z",
     "shell.execute_reply": "2022-03-10T02:23:24.915571Z"
    },
    "papermill": {
     "duration": 0.048841,
     "end_time": "2022-03-10T02:23:24.915749",
     "exception": false,
     "start_time": "2022-03-10T02:23:24.866908",
     "status": "completed"
    },
    "tags": []
   },
   "outputs": [],
   "source": [
    "#hide\n",
    "#Koreliacijų koeficientai"
   ]
  },
  {
   "cell_type": "code",
   "execution_count": 10,
   "id": "seeing-celebration",
   "metadata": {
    "execution": {
     "iopub.execute_input": "2022-03-10T02:23:24.955266Z",
     "iopub.status.busy": "2022-03-10T02:23:24.954491Z",
     "iopub.status.idle": "2022-03-10T02:23:24.983340Z",
     "shell.execute_reply": "2022-03-10T02:23:24.983866Z"
    },
    "papermill": {
     "duration": 0.050528,
     "end_time": "2022-03-10T02:23:24.984027",
     "exception": false,
     "start_time": "2022-03-10T02:23:24.933499",
     "status": "completed"
    },
    "tags": []
   },
   "outputs": [],
   "source": [
    "#hide_input\n",
    "#sum_corr = df_all_mrk.corr().sum().sort_values(ascending=True).index.values\n",
    "#df_all_mrk[sum_corr].corr()"
   ]
  },
  {
   "cell_type": "code",
   "execution_count": 11,
   "id": "other-painting",
   "metadata": {
    "execution": {
     "iopub.execute_input": "2022-03-10T02:23:25.019221Z",
     "iopub.status.busy": "2022-03-10T02:23:25.018630Z",
     "iopub.status.idle": "2022-03-10T02:23:25.048127Z",
     "shell.execute_reply": "2022-03-10T02:23:25.048654Z"
    },
    "papermill": {
     "duration": 0.049511,
     "end_time": "2022-03-10T02:23:25.048878",
     "exception": false,
     "start_time": "2022-03-10T02:23:24.999367",
     "status": "completed"
    },
    "tags": []
   },
   "outputs": [],
   "source": [
    "#hide\n",
    "#Koreliacijos matrica. "
   ]
  },
  {
   "cell_type": "code",
   "execution_count": 12,
   "id": "modular-magnitude",
   "metadata": {
    "execution": {
     "iopub.execute_input": "2022-03-10T02:23:25.090076Z",
     "iopub.status.busy": "2022-03-10T02:23:25.089232Z",
     "iopub.status.idle": "2022-03-10T02:23:25.120574Z",
     "shell.execute_reply": "2022-03-10T02:23:25.120033Z"
    },
    "papermill": {
     "duration": 0.055037,
     "end_time": "2022-03-10T02:23:25.120725",
     "exception": false,
     "start_time": "2022-03-10T02:23:25.065688",
     "status": "completed"
    },
    "tags": []
   },
   "outputs": [],
   "source": [
    "#hide_input\n",
    "#plt.figure(figsize=(15, 8))\n",
    "#sns.heatmap(df_all_mrk[sum_corr].corr(), annot=True, cmap=\"BrBG\");\n",
    "#plt.savefig('corr_matrix_all.eps', format='eps')"
   ]
  },
  {
   "cell_type": "code",
   "execution_count": null,
   "id": "original-senator",
   "metadata": {
    "papermill": {
     "duration": 0.015115,
     "end_time": "2022-03-10T02:23:25.150957",
     "exception": false,
     "start_time": "2022-03-10T02:23:25.135842",
     "status": "completed"
    },
    "tags": []
   },
   "outputs": [],
   "source": []
  },
  {
   "cell_type": "code",
   "execution_count": null,
   "id": "saving-secretariat",
   "metadata": {
    "papermill": {
     "duration": 0.015042,
     "end_time": "2022-03-10T02:23:25.181319",
     "exception": false,
     "start_time": "2022-03-10T02:23:25.166277",
     "status": "completed"
    },
    "tags": []
   },
   "outputs": [],
   "source": []
  }
 ],
 "metadata": {
  "kernelspec": {
   "display_name": "Python 3",
   "language": "python",
   "name": "python3"
  },
  "language_info": {
   "codemirror_mode": {
    "name": "ipython",
    "version": 3
   },
   "file_extension": ".py",
   "mimetype": "text/x-python",
   "name": "python",
   "nbconvert_exporter": "python",
   "pygments_lexer": "ipython3",
   "version": "3.6.15"
  },
  "papermill": {
   "default_parameters": {},
   "duration": 17.643459,
   "end_time": "2022-03-10T02:23:25.715176",
   "environment_variables": {},
   "exception": null,
   "input_path": "App-Correlation_charts.ipynb",
   "output_path": "App-Correlation_charts.ipynb",
   "parameters": {},
   "start_time": "2022-03-10T02:23:08.071717",
   "version": "2.2.2"
  }
 },
 "nbformat": 4,
 "nbformat_minor": 5
}