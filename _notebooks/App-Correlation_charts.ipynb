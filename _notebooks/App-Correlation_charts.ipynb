{
 "cells": [
  {
   "cell_type": "markdown",
   "id": "touched-facility",
   "metadata": {
    "papermill": {
     "duration": 0.016157,
     "end_time": "2021-12-29T02:02:56.070911",
     "exception": false,
     "start_time": "2021-12-29T02:02:56.054754",
     "status": "completed"
    },
    "tags": []
   },
   "source": [
    "# Koreliacijų matrica\n",
    "> Išplėstinė koreliacijų matrica. \n",
    "\n",
    "- toc: true \n",
    "- badges: true\n",
    "- comments: false\n",
    "- categories: [Dominykas Tautkus]\n",
    "- image: images/matrix.png"
   ]
  },
  {
   "cell_type": "code",
   "execution_count": null,
   "id": "premium-weekend",
   "metadata": {
    "papermill": {
     "duration": 0.012316,
     "end_time": "2021-12-29T02:02:56.096183",
     "exception": false,
     "start_time": "2021-12-29T02:02:56.083867",
     "status": "completed"
    },
    "tags": []
   },
   "outputs": [],
   "source": []
  },
  {
   "cell_type": "code",
   "execution_count": 1,
   "id": "vertical-rebate",
   "metadata": {
    "execution": {
     "iopub.execute_input": "2021-12-29T02:02:56.133042Z",
     "iopub.status.busy": "2021-12-29T02:02:56.131597Z",
     "iopub.status.idle": "2021-12-29T02:02:56.143799Z",
     "shell.execute_reply": "2021-12-29T02:02:56.143200Z"
    },
    "papermill": {
     "duration": 0.035832,
     "end_time": "2021-12-29T02:02:56.144083",
     "exception": false,
     "start_time": "2021-12-29T02:02:56.108251",
     "status": "completed"
    },
    "tags": []
   },
   "outputs": [],
   "source": [
    "#hide\n",
    "%load_ext autoreload\n",
    "%autoreload 2"
   ]
  },
  {
   "cell_type": "code",
   "execution_count": 2,
   "id": "overall-advancement",
   "metadata": {
    "execution": {
     "iopub.execute_input": "2021-12-29T02:02:56.172549Z",
     "iopub.status.busy": "2021-12-29T02:02:56.171948Z",
     "iopub.status.idle": "2021-12-29T02:02:57.527258Z",
     "shell.execute_reply": "2021-12-29T02:02:57.526721Z"
    },
    "papermill": {
     "duration": 1.370711,
     "end_time": "2021-12-29T02:02:57.527398",
     "exception": false,
     "start_time": "2021-12-29T02:02:56.156687",
     "status": "completed"
    },
    "tags": []
   },
   "outputs": [],
   "source": [
    "#hide\n",
    "from scripts.read_data import read_api\n",
    "from IPython.display import HTML\n",
    "import plotly.graph_objects as go\n"
   ]
  },
  {
   "cell_type": "code",
   "execution_count": 3,
   "id": "light-crazy",
   "metadata": {
    "execution": {
     "iopub.execute_input": "2021-12-29T02:02:57.557801Z",
     "iopub.status.busy": "2021-12-29T02:02:57.557161Z",
     "iopub.status.idle": "2021-12-29T02:02:57.587813Z",
     "shell.execute_reply": "2021-12-29T02:02:57.588289Z"
    },
    "papermill": {
     "duration": 0.047998,
     "end_time": "2021-12-29T02:02:57.588455",
     "exception": false,
     "start_time": "2021-12-29T02:02:57.540457",
     "status": "completed"
    },
    "tags": []
   },
   "outputs": [],
   "source": [
    "#hide\n",
    "### ICO koreliacija"
   ]
  },
  {
   "cell_type": "code",
   "execution_count": 4,
   "id": "likely-bahrain",
   "metadata": {
    "execution": {
     "iopub.execute_input": "2021-12-29T02:02:57.617370Z",
     "iopub.status.busy": "2021-12-29T02:02:57.616771Z",
     "iopub.status.idle": "2021-12-29T02:02:58.644739Z",
     "shell.execute_reply": "2021-12-29T02:02:58.643857Z"
    },
    "papermill": {
     "duration": 1.04428,
     "end_time": "2021-12-29T02:02:58.644962",
     "exception": false,
     "start_time": "2021-12-29T02:02:57.600682",
     "status": "completed"
    },
    "tags": []
   },
   "outputs": [],
   "source": [
    "#hide\n",
    "import matplotlib.pyplot as plt\n",
    "import numpy as np\n",
    "import pandas as pd\n",
    "import seaborn as sns\n",
    "import matplotlib.pyplot as plt \n",
    "import matplotlib.dates as mdates\n",
    "import matplotlib.pyplot as plt"
   ]
  },
  {
   "cell_type": "code",
   "execution_count": 5,
   "id": "superior-blanket",
   "metadata": {
    "execution": {
     "iopub.execute_input": "2021-12-29T02:02:58.676208Z",
     "iopub.status.busy": "2021-12-29T02:02:58.675611Z",
     "iopub.status.idle": "2021-12-29T02:03:10.143774Z",
     "shell.execute_reply": "2021-12-29T02:03:10.144269Z"
    },
    "papermill": {
     "duration": 11.485041,
     "end_time": "2021-12-29T02:03:10.144436",
     "exception": false,
     "start_time": "2021-12-29T02:02:58.659395",
     "status": "completed"
    },
    "tags": []
   },
   "outputs": [
    {
     "name": "stderr",
     "output_type": "stream",
     "text": [
      "/home/runner/work/corr-app/corr-app/_notebooks/scripts/read_data.py:187: SettingWithCopyWarning:\n",
      "\n",
      "\n",
      "A value is trying to be set on a copy of a slice from a DataFrame.\n",
      "Try using .loc[row_indexer,col_indexer] = value instead\n",
      "\n",
      "See the caveats in the documentation: https://pandas.pydata.org/pandas-docs/stable/user_guide/indexing.html#returning-a-view-versus-a-copy\n",
      "\n"
     ]
    },
    {
     "name": "stderr",
     "output_type": "stream",
     "text": [
      "/home/runner/work/corr-app/corr-app/_notebooks/scripts/read_data.py:215: SettingWithCopyWarning:\n",
      "\n",
      "\n",
      "A value is trying to be set on a copy of a slice from a DataFrame.\n",
      "Try using .loc[row_indexer,col_indexer] = value instead\n",
      "\n",
      "See the caveats in the documentation: https://pandas.pydata.org/pandas-docs/stable/user_guide/indexing.html#returning-a-view-versus-a-copy\n",
      "\n"
     ]
    }
   ],
   "source": [
    "#hide\n",
    "df_all = read_api()\n",
    "#df_all = df_all.drop(['SP500', 'XAU', 'ETH', 'BTC'], axis=1)\n",
    "\n"
   ]
  },
  {
   "cell_type": "code",
   "execution_count": 6,
   "id": "mature-alert",
   "metadata": {
    "execution": {
     "iopub.execute_input": "2021-12-29T02:03:10.178268Z",
     "iopub.status.busy": "2021-12-29T02:03:10.177669Z",
     "iopub.status.idle": "2021-12-29T02:03:10.214436Z",
     "shell.execute_reply": "2021-12-29T02:03:10.213681Z"
    },
    "papermill": {
     "duration": 0.054016,
     "end_time": "2021-12-29T02:03:10.214621",
     "exception": false,
     "start_time": "2021-12-29T02:03:10.160605",
     "status": "completed"
    },
    "tags": []
   },
   "outputs": [],
   "source": [
    "#hide_input\n",
    "sum_corr = df_all.corr().sum().sort_values(ascending=True).index.values\n",
    "#df_all[sum_corr].corr()"
   ]
  },
  {
   "cell_type": "markdown",
   "id": "complex-syndicate",
   "metadata": {
    "papermill": {
     "duration": 0.013133,
     "end_time": "2021-12-29T02:03:10.241171",
     "exception": false,
     "start_time": "2021-12-29T02:03:10.228038",
     "status": "completed"
    },
    "tags": []
   },
   "source": [
    "## Išplėstinė koreliacijų matrica. "
   ]
  },
  {
   "cell_type": "code",
   "execution_count": 7,
   "id": "atomic-omaha",
   "metadata": {
    "execution": {
     "iopub.execute_input": "2021-12-29T02:03:10.273963Z",
     "iopub.status.busy": "2021-12-29T02:03:10.273365Z",
     "iopub.status.idle": "2021-12-29T02:03:11.691569Z",
     "shell.execute_reply": "2021-12-29T02:03:11.692068Z"
    },
    "papermill": {
     "duration": 1.436298,
     "end_time": "2021-12-29T02:03:11.692233",
     "exception": false,
     "start_time": "2021-12-29T02:03:10.255935",
     "status": "completed"
    },
    "tags": []
   },
   "outputs": [
    {
     "data": {
      "image/png": "[encoded data removed]",
      "text/plain": [
       "<Figure size 1080x792 with 2 Axes>"
      ]
     },
     "metadata": {
      "needs_background": "light"
     },
     "output_type": "display_data"
    }
   ],
   "source": [
    "#hide_input\n",
    "plt.figure(figsize=(15, 11))\n",
    "sns.heatmap(df_all[sum_corr].corr(), annot=True, cmap=\"cubehelix\") \n",
    "sns.set(font_scale=1.25)\n",
    "plt.savefig('corr_matrix.png', format='eps')"
   ]
  },
  {
   "cell_type": "code",
   "execution_count": 8,
   "id": "arbitrary-sullivan",
   "metadata": {
    "execution": {
     "iopub.execute_input": "2021-12-29T02:03:11.728053Z",
     "iopub.status.busy": "2021-12-29T02:03:11.727473Z",
     "iopub.status.idle": "2021-12-29T02:03:11.757089Z",
     "shell.execute_reply": "2021-12-29T02:03:11.756356Z"
    },
    "papermill": {
     "duration": 0.049468,
     "end_time": "2021-12-29T02:03:11.757256",
     "exception": false,
     "start_time": "2021-12-29T02:03:11.707788",
     "status": "completed"
    },
    "tags": []
   },
   "outputs": [],
   "source": [
    "#hide\n",
    "#df_all_mrk = read_api()"
   ]
  },
  {
   "cell_type": "code",
   "execution_count": 9,
   "id": "delayed-adapter",
   "metadata": {
    "execution": {
     "iopub.execute_input": "2021-12-29T02:03:11.792048Z",
     "iopub.status.busy": "2021-12-29T02:03:11.791441Z",
     "iopub.status.idle": "2021-12-29T02:03:11.822155Z",
     "shell.execute_reply": "2021-12-29T02:03:11.821418Z"
    },
    "papermill": {
     "duration": 0.049725,
     "end_time": "2021-12-29T02:03:11.822373",
     "exception": false,
     "start_time": "2021-12-29T02:03:11.772648",
     "status": "completed"
    },
    "tags": []
   },
   "outputs": [],
   "source": [
    "#hide\n",
    "#Koreliacijų koeficientai"
   ]
  },
  {
   "cell_type": "code",
   "execution_count": 10,
   "id": "seeing-celebration",
   "metadata": {
    "execution": {
     "iopub.execute_input": "2021-12-29T02:03:11.858478Z",
     "iopub.status.busy": "2021-12-29T02:03:11.857847Z",
     "iopub.status.idle": "2021-12-29T02:03:11.888181Z",
     "shell.execute_reply": "2021-12-29T02:03:11.887410Z"
    },
    "papermill": {
     "duration": 0.048502,
     "end_time": "2021-12-29T02:03:11.888350",
     "exception": false,
     "start_time": "2021-12-29T02:03:11.839848",
     "status": "completed"
    },
    "tags": []
   },
   "outputs": [],
   "source": [
    "#hide_input\n",
    "#sum_corr = df_all_mrk.corr().sum().sort_values(ascending=True).index.values\n",
    "#df_all_mrk[sum_corr].corr()"
   ]
  },
  {
   "cell_type": "code",
   "execution_count": 11,
   "id": "other-painting",
   "metadata": {
    "execution": {
     "iopub.execute_input": "2021-12-29T02:03:11.923628Z",
     "iopub.status.busy": "2021-12-29T02:03:11.923031Z",
     "iopub.status.idle": "2021-12-29T02:03:11.955785Z",
     "shell.execute_reply": "2021-12-29T02:03:11.954925Z"
    },
    "papermill": {
     "duration": 0.052257,
     "end_time": "2021-12-29T02:03:11.955999",
     "exception": false,
     "start_time": "2021-12-29T02:03:11.903742",
     "status": "completed"
    },
    "tags": []
   },
   "outputs": [],
   "source": [
    "#hide\n",
    "#Koreliacijos matrica. "
   ]
  },
  {
   "cell_type": "code",
   "execution_count": 12,
   "id": "modular-magnitude",
   "metadata": {
    "execution": {
     "iopub.execute_input": "2021-12-29T02:03:11.992453Z",
     "iopub.status.busy": "2021-12-29T02:03:11.991856Z",
     "iopub.status.idle": "2021-12-29T02:03:12.021801Z",
     "shell.execute_reply": "2021-12-29T02:03:12.021127Z"
    },
    "papermill": {
     "duration": 0.049588,
     "end_time": "2021-12-29T02:03:12.021931",
     "exception": false,
     "start_time": "2021-12-29T02:03:11.972343",
     "status": "completed"
    },
    "tags": []
   },
   "outputs": [],
   "source": [
    "#hide_input\n",
    "#plt.figure(figsize=(15, 8))\n",
    "#sns.heatmap(df_all_mrk[sum_corr].corr(), annot=True, cmap=\"BrBG\");\n",
    "#plt.savefig('corr_matrix_all.eps', format='eps')"
   ]
  },
  {
   "cell_type": "code",
   "execution_count": null,
   "id": "original-senator",
   "metadata": {
    "papermill": {
     "duration": 0.015103,
     "end_time": "2021-12-29T02:03:12.051858",
     "exception": false,
     "start_time": "2021-12-29T02:03:12.036755",
     "status": "completed"
    },
    "tags": []
   },
   "outputs": [],
   "source": []
  },
  {
   "cell_type": "code",
   "execution_count": null,
   "id": "saving-secretariat",
   "metadata": {
    "papermill": {
     "duration": 0.01591,
     "end_time": "2021-12-29T02:03:12.082869",
     "exception": false,
     "start_time": "2021-12-29T02:03:12.066959",
     "status": "completed"
    },
    "tags": []
   },
   "outputs": [],
   "source": []
  }
 ],
 "metadata": {
  "kernelspec": {
   "display_name": "Python 3",
   "language": "python",
   "name": "python3"
  },
  "language_info": {
   "codemirror_mode": {
    "name": "ipython",
    "version": 3
   },
   "file_extension": ".py",
   "mimetype": "text/x-python",
   "name": "python",
   "nbconvert_exporter": "python",
   "pygments_lexer": "ipython3",
   "version": "3.6.15"
  },
  "papermill": {
   "default_parameters": {},
   "duration": 17.841059,
   "end_time": "2021-12-29T02:03:12.609354",
   "environment_variables": {},
   "exception": null,
   "input_path": "App-Correlation_charts.ipynb",
   "output_path": "App-Correlation_charts.ipynb",
   "parameters": {},
   "start_time": "2021-12-29T02:02:54.768295",
   "version": "2.2.2"
  }
 },
 "nbformat": 4,
 "nbformat_minor": 5
}