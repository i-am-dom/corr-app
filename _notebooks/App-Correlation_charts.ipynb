{
 "cells": [
  {
   "cell_type": "markdown",
   "id": "touched-facility",
   "metadata": {
    "papermill": {
     "duration": 0.014398,
     "end_time": "2022-07-01T03:27:55.107751",
     "exception": false,
     "start_time": "2022-07-01T03:27:55.093353",
     "status": "completed"
    },
    "tags": []
   },
   "source": [
    "# Koreliacijų matrica\n",
    "> Išplėstinė koreliacijų matrica. \n",
    "\n",
    "- toc: true \n",
    "- badges: true\n",
    "- comments: false\n",
    "- categories: [Dominykas Tautkus]\n",
    "- image: images/matrix.png"
   ]
  },
  {
   "cell_type": "code",
   "execution_count": null,
   "id": "premium-weekend",
   "metadata": {
    "papermill": {
     "duration": 0.011353,
     "end_time": "2022-07-01T03:27:55.130655",
     "exception": false,
     "start_time": "2022-07-01T03:27:55.119302",
     "status": "completed"
    },
    "tags": []
   },
   "outputs": [],
   "source": []
  },
  {
   "cell_type": "code",
   "execution_count": 1,
   "id": "vertical-rebate",
   "metadata": {
    "execution": {
     "iopub.execute_input": "2022-07-01T03:27:55.163232Z",
     "iopub.status.busy": "2022-07-01T03:27:55.162648Z",
     "iopub.status.idle": "2022-07-01T03:27:55.173060Z",
     "shell.execute_reply": "2022-07-01T03:27:55.172558Z"
    },
    "papermill": {
     "duration": 0.030813,
     "end_time": "2022-07-01T03:27:55.173172",
     "exception": false,
     "start_time": "2022-07-01T03:27:55.142359",
     "status": "completed"
    },
    "tags": []
   },
   "outputs": [],
   "source": [
    "#hide\n",
    "%load_ext autoreload\n",
    "%autoreload 2"
   ]
  },
  {
   "cell_type": "code",
   "execution_count": 2,
   "id": "overall-advancement",
   "metadata": {
    "execution": {
     "iopub.execute_input": "2022-07-01T03:27:55.198380Z",
     "iopub.status.busy": "2022-07-01T03:27:55.197807Z",
     "iopub.status.idle": "2022-07-01T03:27:56.420504Z",
     "shell.execute_reply": "2022-07-01T03:27:56.419533Z"
    },
    "papermill": {
     "duration": 1.236663,
     "end_time": "2022-07-01T03:27:56.420632",
     "exception": false,
     "start_time": "2022-07-01T03:27:55.183969",
     "status": "completed"
    },
    "tags": []
   },
   "outputs": [],
   "source": [
    "#hide\n",
    "from scripts.read_data import read_api\n",
    "from IPython.display import HTML\n",
    "import plotly.graph_objects as go\n"
   ]
  },
  {
   "cell_type": "code",
   "execution_count": 3,
   "id": "light-crazy",
   "metadata": {
    "execution": {
     "iopub.execute_input": "2022-07-01T03:27:56.448393Z",
     "iopub.status.busy": "2022-07-01T03:27:56.447216Z",
     "iopub.status.idle": "2022-07-01T03:27:56.468427Z",
     "shell.execute_reply": "2022-07-01T03:27:56.467963Z"
    },
    "papermill": {
     "duration": 0.036836,
     "end_time": "2022-07-01T03:27:56.468537",
     "exception": false,
     "start_time": "2022-07-01T03:27:56.431701",
     "status": "completed"
    },
    "tags": []
   },
   "outputs": [],
   "source": [
    "#hide\n",
    "### ICO koreliacija"
   ]
  },
  {
   "cell_type": "code",
   "execution_count": 4,
   "id": "likely-bahrain",
   "metadata": {
    "execution": {
     "iopub.execute_input": "2022-07-01T03:27:56.493825Z",
     "iopub.status.busy": "2022-07-01T03:27:56.493244Z",
     "iopub.status.idle": "2022-07-01T03:27:57.310801Z",
     "shell.execute_reply": "2022-07-01T03:27:57.310289Z"
    },
    "papermill": {
     "duration": 0.831577,
     "end_time": "2022-07-01T03:27:57.310914",
     "exception": false,
     "start_time": "2022-07-01T03:27:56.479337",
     "status": "completed"
    },
    "tags": []
   },
   "outputs": [],
   "source": [
    "#hide\n",
    "import matplotlib.pyplot as plt\n",
    "import numpy as np\n",
    "import pandas as pd\n",
    "import seaborn as sns\n",
    "import matplotlib.pyplot as plt \n",
    "import matplotlib.dates as mdates\n",
    "import matplotlib.pyplot as plt"
   ]
  },
  {
   "cell_type": "code",
   "execution_count": 5,
   "id": "superior-blanket",
   "metadata": {
    "execution": {
     "iopub.execute_input": "2022-07-01T03:27:57.340001Z",
     "iopub.status.busy": "2022-07-01T03:27:57.337104Z",
     "iopub.status.idle": "2022-07-01T03:28:09.274103Z",
     "shell.execute_reply": "2022-07-01T03:28:09.273591Z"
    },
    "papermill": {
     "duration": 11.952189,
     "end_time": "2022-07-01T03:28:09.274216",
     "exception": false,
     "start_time": "2022-07-01T03:27:57.322027",
     "status": "completed"
    },
    "tags": []
   },
   "outputs": [
    {
     "name": "stderr",
     "output_type": "stream",
     "text": [
      "/home/runner/work/corr-app/corr-app/_notebooks/scripts/read_data.py:187: SettingWithCopyWarning:\n",
      "\n",
      "\n",
      "A value is trying to be set on a copy of a slice from a DataFrame.\n",
      "Try using .loc[row_indexer,col_indexer] = value instead\n",
      "\n",
      "See the caveats in the documentation: https://pandas.pydata.org/pandas-docs/stable/user_guide/indexing.html#returning-a-view-versus-a-copy\n",
      "\n"
     ]
    },
    {
     "name": "stderr",
     "output_type": "stream",
     "text": [
      "/home/runner/work/corr-app/corr-app/_notebooks/scripts/read_data.py:215: SettingWithCopyWarning:\n",
      "\n",
      "\n",
      "A value is trying to be set on a copy of a slice from a DataFrame.\n",
      "Try using .loc[row_indexer,col_indexer] = value instead\n",
      "\n",
      "See the caveats in the documentation: https://pandas.pydata.org/pandas-docs/stable/user_guide/indexing.html#returning-a-view-versus-a-copy\n",
      "\n"
     ]
    }
   ],
   "source": [
    "#hide\n",
    "df_all = read_api()\n",
    "#df_all = df_all.drop(['SP500', 'XAU', 'ETH', 'BTC'], axis=1)\n",
    "\n"
   ]
  },
  {
   "cell_type": "code",
   "execution_count": 6,
   "id": "mature-alert",
   "metadata": {
    "execution": {
     "iopub.execute_input": "2022-07-01T03:28:09.302021Z",
     "iopub.status.busy": "2022-07-01T03:28:09.301448Z",
     "iopub.status.idle": "2022-07-01T03:28:09.330762Z",
     "shell.execute_reply": "2022-07-01T03:28:09.330279Z"
    },
    "papermill": {
     "duration": 0.043912,
     "end_time": "2022-07-01T03:28:09.330872",
     "exception": false,
     "start_time": "2022-07-01T03:28:09.286960",
     "status": "completed"
    },
    "tags": []
   },
   "outputs": [],
   "source": [
    "#hide_input\n",
    "sum_corr = df_all.corr().sum().sort_values(ascending=True).index.values\n",
    "#df_all[sum_corr].corr()"
   ]
  },
  {
   "cell_type": "markdown",
   "id": "complex-syndicate",
   "metadata": {
    "papermill": {
     "duration": 0.011343,
     "end_time": "2022-07-01T03:28:09.353696",
     "exception": false,
     "start_time": "2022-07-01T03:28:09.342353",
     "status": "completed"
    },
    "tags": []
   },
   "source": [
    "## Išplėstinė koreliacijų matrica. "
   ]
  },
  {
   "cell_type": "code",
   "execution_count": 7,
   "id": "atomic-omaha",
   "metadata": {
    "execution": {
     "iopub.execute_input": "2022-07-01T03:28:09.380338Z",
     "iopub.status.busy": "2022-07-01T03:28:09.379742Z",
     "iopub.status.idle": "2022-07-01T03:28:10.507647Z",
     "shell.execute_reply": "2022-07-01T03:28:10.506751Z"
    },
    "papermill": {
     "duration": 1.142744,
     "end_time": "2022-07-01T03:28:10.507771",
     "exception": false,
     "start_time": "2022-07-01T03:28:09.365027",
     "status": "completed"
    },
    "tags": []
   },
   "outputs": [
    {
     "data": {
      "image/png": "[encoded data removed]",
      "text/plain": [
       "<Figure size 1080x792 with 2 Axes>"
      ]
     },
     "metadata": {
      "needs_background": "light"
     },
     "output_type": "display_data"
    }
   ],
   "source": [
    "#hide_input\n",
    "plt.figure(figsize=(15, 11))\n",
    "sns.heatmap(df_all[sum_corr].corr(), annot=True, cmap=\"cubehelix\") \n",
    "sns.set(font_scale=1.25)\n",
    "plt.savefig('corr_matrix.png', format='eps')"
   ]
  },
  {
   "cell_type": "code",
   "execution_count": 8,
   "id": "arbitrary-sullivan",
   "metadata": {
    "execution": {
     "iopub.execute_input": "2022-07-01T03:28:10.545543Z",
     "iopub.status.busy": "2022-07-01T03:28:10.544975Z",
     "iopub.status.idle": "2022-07-01T03:28:10.563607Z",
     "shell.execute_reply": "2022-07-01T03:28:10.563158Z"
    },
    "papermill": {
     "duration": 0.042129,
     "end_time": "2022-07-01T03:28:10.563711",
     "exception": false,
     "start_time": "2022-07-01T03:28:10.521582",
     "status": "completed"
    },
    "tags": []
   },
   "outputs": [],
   "source": [
    "#hide\n",
    "#df_all_mrk = read_api()"
   ]
  },
  {
   "cell_type": "code",
   "execution_count": 9,
   "id": "delayed-adapter",
   "metadata": {
    "execution": {
     "iopub.execute_input": "2022-07-01T03:28:10.593516Z",
     "iopub.status.busy": "2022-07-01T03:28:10.592964Z",
     "iopub.status.idle": "2022-07-01T03:28:10.618485Z",
     "shell.execute_reply": "2022-07-01T03:28:10.618021Z"
    },
    "papermill": {
     "duration": 0.041529,
     "end_time": "2022-07-01T03:28:10.618590",
     "exception": false,
     "start_time": "2022-07-01T03:28:10.577061",
     "status": "completed"
    },
    "tags": []
   },
   "outputs": [],
   "source": [
    "#hide\n",
    "#Koreliacijų koeficientai"
   ]
  },
  {
   "cell_type": "code",
   "execution_count": 10,
   "id": "seeing-celebration",
   "metadata": {
    "execution": {
     "iopub.execute_input": "2022-07-01T03:28:10.651836Z",
     "iopub.status.busy": "2022-07-01T03:28:10.650093Z",
     "iopub.status.idle": "2022-07-01T03:28:10.674816Z",
     "shell.execute_reply": "2022-07-01T03:28:10.675233Z"
    },
    "papermill": {
     "duration": 0.043297,
     "end_time": "2022-07-01T03:28:10.675362",
     "exception": false,
     "start_time": "2022-07-01T03:28:10.632065",
     "status": "completed"
    },
    "tags": []
   },
   "outputs": [],
   "source": [
    "#hide_input\n",
    "#sum_corr = df_all_mrk.corr().sum().sort_values(ascending=True).index.values\n",
    "#df_all_mrk[sum_corr].corr()"
   ]
  },
  {
   "cell_type": "code",
   "execution_count": 11,
   "id": "other-painting",
   "metadata": {
    "execution": {
     "iopub.execute_input": "2022-07-01T03:28:10.705108Z",
     "iopub.status.busy": "2022-07-01T03:28:10.704542Z",
     "iopub.status.idle": "2022-07-01T03:28:10.729917Z",
     "shell.execute_reply": "2022-07-01T03:28:10.729470Z"
    },
    "papermill": {
     "duration": 0.041293,
     "end_time": "2022-07-01T03:28:10.730022",
     "exception": false,
     "start_time": "2022-07-01T03:28:10.688729",
     "status": "completed"
    },
    "tags": []
   },
   "outputs": [],
   "source": [
    "#hide\n",
    "#Koreliacijos matrica. "
   ]
  },
  {
   "cell_type": "code",
   "execution_count": 12,
   "id": "modular-magnitude",
   "metadata": {
    "execution": {
     "iopub.execute_input": "2022-07-01T03:28:10.760330Z",
     "iopub.status.busy": "2022-07-01T03:28:10.759740Z",
     "iopub.status.idle": "2022-07-01T03:28:10.785430Z",
     "shell.execute_reply": "2022-07-01T03:28:10.784964Z"
    },
    "papermill": {
     "duration": 0.042006,
     "end_time": "2022-07-01T03:28:10.785536",
     "exception": false,
     "start_time": "2022-07-01T03:28:10.743530",
     "status": "completed"
    },
    "tags": []
   },
   "outputs": [],
   "source": [
    "#hide_input\n",
    "#plt.figure(figsize=(15, 8))\n",
    "#sns.heatmap(df_all_mrk[sum_corr].corr(), annot=True, cmap=\"BrBG\");\n",
    "#plt.savefig('corr_matrix_all.eps', format='eps')"
   ]
  },
  {
   "cell_type": "code",
   "execution_count": null,
   "id": "original-senator",
   "metadata": {
    "papermill": {
     "duration": 0.013274,
     "end_time": "2022-07-01T03:28:10.812119",
     "exception": false,
     "start_time": "2022-07-01T03:28:10.798845",
     "status": "completed"
    },
    "tags": []
   },
   "outputs": [],
   "source": []
  },
  {
   "cell_type": "code",
   "execution_count": null,
   "id": "saving-secretariat",
   "metadata": {
    "papermill": {
     "duration": 0.013114,
     "end_time": "2022-07-01T03:28:10.838505",
     "exception": false,
     "start_time": "2022-07-01T03:28:10.825391",
     "status": "completed"
    },
    "tags": []
   },
   "outputs": [],
   "source": []
  }
 ],
 "metadata": {
  "kernelspec": {
   "display_name": "Python 3",
   "language": "python",
   "name": "python3"
  },
  "language_info": {
   "codemirror_mode": {
    "name": "ipython",
    "version": 3
   },
   "file_extension": ".py",
   "mimetype": "text/x-python",
   "name": "python",
   "nbconvert_exporter": "python",
   "pygments_lexer": "ipython3",
   "version": "3.6.15"
  },
  "papermill": {
   "default_parameters": {},
   "duration": 17.091734,
   "end_time": "2022-07-01T03:28:11.270631",
   "environment_variables": {},
   "exception": null,
   "input_path": "App-Correlation_charts.ipynb",
   "output_path": "App-Correlation_charts.ipynb",
   "parameters": {},
   "start_time": "2022-07-01T03:27:54.178897",
   "version": "2.2.2"
  }
 },
 "nbformat": 4,
 "nbformat_minor": 5
}