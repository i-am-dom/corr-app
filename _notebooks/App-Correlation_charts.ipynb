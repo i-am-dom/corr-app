{
 "cells": [
  {
   "cell_type": "markdown",
   "id": "touched-facility",
   "metadata": {
    "papermill": {
     "duration": 0.014371,
     "end_time": "2022-07-14T03:23:10.932434",
     "exception": false,
     "start_time": "2022-07-14T03:23:10.918063",
     "status": "completed"
    },
    "tags": []
   },
   "source": [
    "# Koreliacijų matrica\n",
    "> Išplėstinė koreliacijų matrica. \n",
    "\n",
    "- toc: true \n",
    "- badges: true\n",
    "- comments: false\n",
    "- categories: [Dominykas Tautkus]\n",
    "- image: images/matrix.png"
   ]
  },
  {
   "cell_type": "code",
   "execution_count": null,
   "id": "premium-weekend",
   "metadata": {
    "papermill": {
     "duration": 0.01069,
     "end_time": "2022-07-14T03:23:10.954548",
     "exception": false,
     "start_time": "2022-07-14T03:23:10.943858",
     "status": "completed"
    },
    "tags": []
   },
   "outputs": [],
   "source": []
  },
  {
   "cell_type": "code",
   "execution_count": 1,
   "id": "vertical-rebate",
   "metadata": {
    "execution": {
     "iopub.execute_input": "2022-07-14T03:23:10.987090Z",
     "iopub.status.busy": "2022-07-14T03:23:10.986543Z",
     "iopub.status.idle": "2022-07-14T03:23:10.997284Z",
     "shell.execute_reply": "2022-07-14T03:23:10.996823Z"
    },
    "papermill": {
     "duration": 0.031039,
     "end_time": "2022-07-14T03:23:10.997393",
     "exception": false,
     "start_time": "2022-07-14T03:23:10.966354",
     "status": "completed"
    },
    "tags": []
   },
   "outputs": [],
   "source": [
    "#hide\n",
    "%load_ext autoreload\n",
    "%autoreload 2"
   ]
  },
  {
   "cell_type": "code",
   "execution_count": 2,
   "id": "overall-advancement",
   "metadata": {
    "execution": {
     "iopub.execute_input": "2022-07-14T03:23:11.022288Z",
     "iopub.status.busy": "2022-07-14T03:23:11.021745Z",
     "iopub.status.idle": "2022-07-14T03:23:12.069031Z",
     "shell.execute_reply": "2022-07-14T03:23:12.068543Z"
    },
    "papermill": {
     "duration": 1.060957,
     "end_time": "2022-07-14T03:23:12.069143",
     "exception": false,
     "start_time": "2022-07-14T03:23:11.008186",
     "status": "completed"
    },
    "tags": []
   },
   "outputs": [],
   "source": [
    "#hide\n",
    "from scripts.read_data import read_api\n",
    "from IPython.display import HTML\n",
    "import plotly.graph_objects as go\n"
   ]
  },
  {
   "cell_type": "code",
   "execution_count": 3,
   "id": "light-crazy",
   "metadata": {
    "execution": {
     "iopub.execute_input": "2022-07-14T03:23:12.094762Z",
     "iopub.status.busy": "2022-07-14T03:23:12.094199Z",
     "iopub.status.idle": "2022-07-14T03:23:12.115911Z",
     "shell.execute_reply": "2022-07-14T03:23:12.115474Z"
    },
    "papermill": {
     "duration": 0.035744,
     "end_time": "2022-07-14T03:23:12.116018",
     "exception": false,
     "start_time": "2022-07-14T03:23:12.080274",
     "status": "completed"
    },
    "tags": []
   },
   "outputs": [],
   "source": [
    "#hide\n",
    "### ICO koreliacija"
   ]
  },
  {
   "cell_type": "code",
   "execution_count": 4,
   "id": "likely-bahrain",
   "metadata": {
    "execution": {
     "iopub.execute_input": "2022-07-14T03:23:12.144337Z",
     "iopub.status.busy": "2022-07-14T03:23:12.141993Z",
     "iopub.status.idle": "2022-07-14T03:23:12.949783Z",
     "shell.execute_reply": "2022-07-14T03:23:12.949302Z"
    },
    "papermill": {
     "duration": 0.823057,
     "end_time": "2022-07-14T03:23:12.949898",
     "exception": false,
     "start_time": "2022-07-14T03:23:12.126841",
     "status": "completed"
    },
    "tags": []
   },
   "outputs": [],
   "source": [
    "#hide\n",
    "import matplotlib.pyplot as plt\n",
    "import numpy as np\n",
    "import pandas as pd\n",
    "import seaborn as sns\n",
    "import matplotlib.pyplot as plt \n",
    "import matplotlib.dates as mdates\n",
    "import matplotlib.pyplot as plt"
   ]
  },
  {
   "cell_type": "code",
   "execution_count": 5,
   "id": "superior-blanket",
   "metadata": {
    "execution": {
     "iopub.execute_input": "2022-07-14T03:23:12.979381Z",
     "iopub.status.busy": "2022-07-14T03:23:12.976525Z",
     "iopub.status.idle": "2022-07-14T03:23:27.912337Z",
     "shell.execute_reply": "2022-07-14T03:23:27.911813Z"
    },
    "papermill": {
     "duration": 14.951263,
     "end_time": "2022-07-14T03:23:27.912453",
     "exception": false,
     "start_time": "2022-07-14T03:23:12.961190",
     "status": "completed"
    },
    "tags": []
   },
   "outputs": [
    {
     "name": "stderr",
     "output_type": "stream",
     "text": [
      "/home/runner/work/corr-app/corr-app/_notebooks/scripts/read_data.py:187: SettingWithCopyWarning:\n",
      "\n",
      "\n",
      "A value is trying to be set on a copy of a slice from a DataFrame.\n",
      "Try using .loc[row_indexer,col_indexer] = value instead\n",
      "\n",
      "See the caveats in the documentation: https://pandas.pydata.org/pandas-docs/stable/user_guide/indexing.html#returning-a-view-versus-a-copy\n",
      "\n"
     ]
    },
    {
     "name": "stderr",
     "output_type": "stream",
     "text": [
      "/home/runner/work/corr-app/corr-app/_notebooks/scripts/read_data.py:215: SettingWithCopyWarning:\n",
      "\n",
      "\n",
      "A value is trying to be set on a copy of a slice from a DataFrame.\n",
      "Try using .loc[row_indexer,col_indexer] = value instead\n",
      "\n",
      "See the caveats in the documentation: https://pandas.pydata.org/pandas-docs/stable/user_guide/indexing.html#returning-a-view-versus-a-copy\n",
      "\n"
     ]
    }
   ],
   "source": [
    "#hide\n",
    "df_all = read_api()\n",
    "#df_all = df_all.drop(['SP500', 'XAU', 'ETH', 'BTC'], axis=1)\n",
    "\n"
   ]
  },
  {
   "cell_type": "code",
   "execution_count": 6,
   "id": "mature-alert",
   "metadata": {
    "execution": {
     "iopub.execute_input": "2022-07-14T03:23:27.943239Z",
     "iopub.status.busy": "2022-07-14T03:23:27.940060Z",
     "iopub.status.idle": "2022-07-14T03:23:27.969983Z",
     "shell.execute_reply": "2022-07-14T03:23:27.969216Z"
    },
    "papermill": {
     "duration": 0.046029,
     "end_time": "2022-07-14T03:23:27.970091",
     "exception": false,
     "start_time": "2022-07-14T03:23:27.924062",
     "status": "completed"
    },
    "tags": []
   },
   "outputs": [],
   "source": [
    "#hide_input\n",
    "sum_corr = df_all.corr().sum().sort_values(ascending=True).index.values\n",
    "#df_all[sum_corr].corr()"
   ]
  },
  {
   "cell_type": "markdown",
   "id": "complex-syndicate",
   "metadata": {
    "papermill": {
     "duration": 0.012221,
     "end_time": "2022-07-14T03:23:27.993766",
     "exception": false,
     "start_time": "2022-07-14T03:23:27.981545",
     "status": "completed"
    },
    "tags": []
   },
   "source": [
    "## Išplėstinė koreliacijų matrica. "
   ]
  },
  {
   "cell_type": "code",
   "execution_count": 7,
   "id": "atomic-omaha",
   "metadata": {
    "execution": {
     "iopub.execute_input": "2022-07-14T03:23:28.020329Z",
     "iopub.status.busy": "2022-07-14T03:23:28.019749Z",
     "iopub.status.idle": "2022-07-14T03:23:29.171581Z",
     "shell.execute_reply": "2022-07-14T03:23:29.170695Z"
    },
    "papermill": {
     "duration": 1.166604,
     "end_time": "2022-07-14T03:23:29.171702",
     "exception": false,
     "start_time": "2022-07-14T03:23:28.005098",
     "status": "completed"
    },
    "tags": []
   },
   "outputs": [
    {
     "data": {
      "image/png": "[encoded data removed]",
      "text/plain": [
       "<Figure size 1080x792 with 2 Axes>"
      ]
     },
     "metadata": {
      "needs_background": "light"
     },
     "output_type": "display_data"
    }
   ],
   "source": [
    "#hide_input\n",
    "plt.figure(figsize=(15, 11))\n",
    "sns.heatmap(df_all[sum_corr].corr(), annot=True, cmap=\"cubehelix\") \n",
    "sns.set(font_scale=1.25)\n",
    "plt.savefig('corr_matrix.png', format='eps')"
   ]
  },
  {
   "cell_type": "code",
   "execution_count": 8,
   "id": "arbitrary-sullivan",
   "metadata": {
    "execution": {
     "iopub.execute_input": "2022-07-14T03:23:29.202454Z",
     "iopub.status.busy": "2022-07-14T03:23:29.201899Z",
     "iopub.status.idle": "2022-07-14T03:23:29.227537Z",
     "shell.execute_reply": "2022-07-14T03:23:29.227095Z"
    },
    "papermill": {
     "duration": 0.04229,
     "end_time": "2022-07-14T03:23:29.227643",
     "exception": false,
     "start_time": "2022-07-14T03:23:29.185353",
     "status": "completed"
    },
    "tags": []
   },
   "outputs": [],
   "source": [
    "#hide\n",
    "#df_all_mrk = read_api()"
   ]
  },
  {
   "cell_type": "code",
   "execution_count": 9,
   "id": "delayed-adapter",
   "metadata": {
    "execution": {
     "iopub.execute_input": "2022-07-14T03:23:29.257226Z",
     "iopub.status.busy": "2022-07-14T03:23:29.256671Z",
     "iopub.status.idle": "2022-07-14T03:23:29.281071Z",
     "shell.execute_reply": "2022-07-14T03:23:29.281485Z"
    },
    "papermill": {
     "duration": 0.040661,
     "end_time": "2022-07-14T03:23:29.281606",
     "exception": false,
     "start_time": "2022-07-14T03:23:29.240945",
     "status": "completed"
    },
    "tags": []
   },
   "outputs": [],
   "source": [
    "#hide\n",
    "#Koreliacijų koeficientai"
   ]
  },
  {
   "cell_type": "code",
   "execution_count": 10,
   "id": "seeing-celebration",
   "metadata": {
    "execution": {
     "iopub.execute_input": "2022-07-14T03:23:29.311307Z",
     "iopub.status.busy": "2022-07-14T03:23:29.310754Z",
     "iopub.status.idle": "2022-07-14T03:23:29.335333Z",
     "shell.execute_reply": "2022-07-14T03:23:29.335757Z"
    },
    "papermill": {
     "duration": 0.040894,
     "end_time": "2022-07-14T03:23:29.335881",
     "exception": false,
     "start_time": "2022-07-14T03:23:29.294987",
     "status": "completed"
    },
    "tags": []
   },
   "outputs": [],
   "source": [
    "#hide_input\n",
    "#sum_corr = df_all_mrk.corr().sum().sort_values(ascending=True).index.values\n",
    "#df_all_mrk[sum_corr].corr()"
   ]
  },
  {
   "cell_type": "code",
   "execution_count": 11,
   "id": "other-painting",
   "metadata": {
    "execution": {
     "iopub.execute_input": "2022-07-14T03:23:29.365381Z",
     "iopub.status.busy": "2022-07-14T03:23:29.364821Z",
     "iopub.status.idle": "2022-07-14T03:23:29.390030Z",
     "shell.execute_reply": "2022-07-14T03:23:29.389567Z"
    },
    "papermill": {
     "duration": 0.04098,
     "end_time": "2022-07-14T03:23:29.390137",
     "exception": false,
     "start_time": "2022-07-14T03:23:29.349157",
     "status": "completed"
    },
    "tags": []
   },
   "outputs": [],
   "source": [
    "#hide\n",
    "#Koreliacijos matrica. "
   ]
  },
  {
   "cell_type": "code",
   "execution_count": 12,
   "id": "modular-magnitude",
   "metadata": {
    "execution": {
     "iopub.execute_input": "2022-07-14T03:23:29.419693Z",
     "iopub.status.busy": "2022-07-14T03:23:29.419143Z",
     "iopub.status.idle": "2022-07-14T03:23:29.444316Z",
     "shell.execute_reply": "2022-07-14T03:23:29.443806Z"
    },
    "papermill": {
     "duration": 0.040913,
     "end_time": "2022-07-14T03:23:29.444423",
     "exception": false,
     "start_time": "2022-07-14T03:23:29.403510",
     "status": "completed"
    },
    "tags": []
   },
   "outputs": [],
   "source": [
    "#hide_input\n",
    "#plt.figure(figsize=(15, 8))\n",
    "#sns.heatmap(df_all_mrk[sum_corr].corr(), annot=True, cmap=\"BrBG\");\n",
    "#plt.savefig('corr_matrix_all.eps', format='eps')"
   ]
  },
  {
   "cell_type": "code",
   "execution_count": null,
   "id": "original-senator",
   "metadata": {
    "papermill": {
     "duration": 0.01313,
     "end_time": "2022-07-14T03:23:29.470762",
     "exception": false,
     "start_time": "2022-07-14T03:23:29.457632",
     "status": "completed"
    },
    "tags": []
   },
   "outputs": [],
   "source": []
  },
  {
   "cell_type": "code",
   "execution_count": null,
   "id": "saving-secretariat",
   "metadata": {
    "papermill": {
     "duration": 0.013119,
     "end_time": "2022-07-14T03:23:29.497105",
     "exception": false,
     "start_time": "2022-07-14T03:23:29.483986",
     "status": "completed"
    },
    "tags": []
   },
   "outputs": [],
   "source": []
  }
 ],
 "metadata": {
  "kernelspec": {
   "display_name": "Python 3",
   "language": "python",
   "name": "python3"
  },
  "language_info": {
   "codemirror_mode": {
    "name": "ipython",
    "version": 3
   },
   "file_extension": ".py",
   "mimetype": "text/x-python",
   "name": "python",
   "nbconvert_exporter": "python",
   "pygments_lexer": "ipython3",
   "version": "3.6.15"
  },
  "papermill": {
   "default_parameters": {},
   "duration": 19.920864,
   "end_time": "2022-07-14T03:23:29.928894",
   "environment_variables": {},
   "exception": null,
   "input_path": "App-Correlation_charts.ipynb",
   "output_path": "App-Correlation_charts.ipynb",
   "parameters": {},
   "start_time": "2022-07-14T03:23:10.008030",
   "version": "2.2.2"
  }
 },
 "nbformat": 4,
 "nbformat_minor": 5
}