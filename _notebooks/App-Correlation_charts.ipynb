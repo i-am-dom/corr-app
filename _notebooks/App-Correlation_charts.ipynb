{
 "cells": [
  {
   "cell_type": "markdown",
   "id": "touched-facility",
   "metadata": {
    "papermill": {
     "duration": 0.028631,
     "end_time": "2022-09-04T03:37:15.027916",
     "exception": false,
     "start_time": "2022-09-04T03:37:14.999285",
     "status": "completed"
    },
    "tags": []
   },
   "source": [
    "# Koreliacijų matrica\n",
    "> Išplėstinė koreliacijų matrica. \n",
    "\n",
    "- toc: true \n",
    "- badges: true\n",
    "- comments: false\n",
    "- categories: [Dominykas Tautkus]\n",
    "- image: images/matrix.png"
   ]
  },
  {
   "cell_type": "code",
   "execution_count": null,
   "id": "premium-weekend",
   "metadata": {
    "papermill": {
     "duration": 0.014662,
     "end_time": "2022-09-04T03:37:15.057253",
     "exception": false,
     "start_time": "2022-09-04T03:37:15.042591",
     "status": "completed"
    },
    "tags": []
   },
   "outputs": [],
   "source": []
  },
  {
   "cell_type": "code",
   "execution_count": 1,
   "id": "vertical-rebate",
   "metadata": {
    "execution": {
     "iopub.execute_input": "2022-09-04T03:37:15.101335Z",
     "iopub.status.busy": "2022-09-04T03:37:15.100506Z",
     "iopub.status.idle": "2022-09-04T03:37:15.115165Z",
     "shell.execute_reply": "2022-09-04T03:37:15.114570Z"
    },
    "papermill": {
     "duration": 0.041039,
     "end_time": "2022-09-04T03:37:15.115321",
     "exception": false,
     "start_time": "2022-09-04T03:37:15.074282",
     "status": "completed"
    },
    "tags": []
   },
   "outputs": [],
   "source": [
    "#hide\n",
    "%load_ext autoreload\n",
    "%autoreload 2"
   ]
  },
  {
   "cell_type": "code",
   "execution_count": 2,
   "id": "overall-advancement",
   "metadata": {
    "execution": {
     "iopub.execute_input": "2022-09-04T03:37:15.146780Z",
     "iopub.status.busy": "2022-09-04T03:37:15.145970Z",
     "iopub.status.idle": "2022-09-04T03:37:16.832919Z",
     "shell.execute_reply": "2022-09-04T03:37:16.832307Z"
    },
    "papermill": {
     "duration": 1.704668,
     "end_time": "2022-09-04T03:37:16.833058",
     "exception": false,
     "start_time": "2022-09-04T03:37:15.128390",
     "status": "completed"
    },
    "tags": []
   },
   "outputs": [],
   "source": [
    "#hide\n",
    "from scripts.read_data import read_api\n",
    "from IPython.display import HTML\n",
    "import plotly.graph_objects as go\n"
   ]
  },
  {
   "cell_type": "code",
   "execution_count": 3,
   "id": "light-crazy",
   "metadata": {
    "execution": {
     "iopub.execute_input": "2022-09-04T03:37:16.866134Z",
     "iopub.status.busy": "2022-09-04T03:37:16.864871Z",
     "iopub.status.idle": "2022-09-04T03:37:16.892118Z",
     "shell.execute_reply": "2022-09-04T03:37:16.891393Z"
    },
    "papermill": {
     "duration": 0.045804,
     "end_time": "2022-09-04T03:37:16.892256",
     "exception": false,
     "start_time": "2022-09-04T03:37:16.846452",
     "status": "completed"
    },
    "tags": []
   },
   "outputs": [],
   "source": [
    "#hide\n",
    "### ICO koreliacija"
   ]
  },
  {
   "cell_type": "code",
   "execution_count": 4,
   "id": "likely-bahrain",
   "metadata": {
    "execution": {
     "iopub.execute_input": "2022-09-04T03:37:16.927168Z",
     "iopub.status.busy": "2022-09-04T03:37:16.924883Z",
     "iopub.status.idle": "2022-09-04T03:37:17.964105Z",
     "shell.execute_reply": "2022-09-04T03:37:17.963445Z"
    },
    "papermill": {
     "duration": 1.057634,
     "end_time": "2022-09-04T03:37:17.964242",
     "exception": false,
     "start_time": "2022-09-04T03:37:16.906608",
     "status": "completed"
    },
    "tags": []
   },
   "outputs": [],
   "source": [
    "#hide\n",
    "import matplotlib.pyplot as plt\n",
    "import numpy as np\n",
    "import pandas as pd\n",
    "import seaborn as sns\n",
    "import matplotlib.pyplot as plt \n",
    "import matplotlib.dates as mdates\n",
    "import matplotlib.pyplot as plt"
   ]
  },
  {
   "cell_type": "code",
   "execution_count": 5,
   "id": "superior-blanket",
   "metadata": {
    "execution": {
     "iopub.execute_input": "2022-09-04T03:37:18.005595Z",
     "iopub.status.busy": "2022-09-04T03:37:18.003337Z",
     "iopub.status.idle": "2022-09-04T03:37:27.036960Z",
     "shell.execute_reply": "2022-09-04T03:37:27.035316Z"
    },
    "papermill": {
     "duration": 9.05987,
     "end_time": "2022-09-04T03:37:27.037120",
     "exception": false,
     "start_time": "2022-09-04T03:37:17.977250",
     "status": "completed"
    },
    "tags": []
   },
   "outputs": [
    {
     "name": "stderr",
     "output_type": "stream",
     "text": [
      "/home/runner/work/corr-app/corr-app/_notebooks/scripts/read_data.py:187: SettingWithCopyWarning:\n",
      "\n",
      "\n",
      "A value is trying to be set on a copy of a slice from a DataFrame.\n",
      "Try using .loc[row_indexer,col_indexer] = value instead\n",
      "\n",
      "See the caveats in the documentation: https://pandas.pydata.org/pandas-docs/stable/user_guide/indexing.html#returning-a-view-versus-a-copy\n",
      "\n"
     ]
    },
    {
     "name": "stderr",
     "output_type": "stream",
     "text": [
      "/home/runner/work/corr-app/corr-app/_notebooks/scripts/read_data.py:215: SettingWithCopyWarning:\n",
      "\n",
      "\n",
      "A value is trying to be set on a copy of a slice from a DataFrame.\n",
      "Try using .loc[row_indexer,col_indexer] = value instead\n",
      "\n",
      "See the caveats in the documentation: https://pandas.pydata.org/pandas-docs/stable/user_guide/indexing.html#returning-a-view-versus-a-copy\n",
      "\n"
     ]
    }
   ],
   "source": [
    "#hide\n",
    "df_all = read_api()\n",
    "#df_all = df_all.drop(['SP500', 'XAU', 'ETH', 'BTC'], axis=1)\n",
    "\n"
   ]
  },
  {
   "cell_type": "code",
   "execution_count": 6,
   "id": "mature-alert",
   "metadata": {
    "execution": {
     "iopub.execute_input": "2022-09-04T03:37:27.086131Z",
     "iopub.status.busy": "2022-09-04T03:37:27.085265Z",
     "iopub.status.idle": "2022-09-04T03:37:27.121492Z",
     "shell.execute_reply": "2022-09-04T03:37:27.122151Z"
    },
    "papermill": {
     "duration": 0.064577,
     "end_time": "2022-09-04T03:37:27.122338",
     "exception": false,
     "start_time": "2022-09-04T03:37:27.057761",
     "status": "completed"
    },
    "tags": []
   },
   "outputs": [],
   "source": [
    "#hide_input\n",
    "sum_corr = df_all.corr().sum().sort_values(ascending=True).index.values\n",
    "#df_all[sum_corr].corr()"
   ]
  },
  {
   "cell_type": "markdown",
   "id": "complex-syndicate",
   "metadata": {
    "papermill": {
     "duration": 0.013182,
     "end_time": "2022-09-04T03:37:27.149277",
     "exception": false,
     "start_time": "2022-09-04T03:37:27.136095",
     "status": "completed"
    },
    "tags": []
   },
   "source": [
    "## Išplėstinė koreliacijų matrica. "
   ]
  },
  {
   "cell_type": "code",
   "execution_count": 7,
   "id": "atomic-omaha",
   "metadata": {
    "execution": {
     "iopub.execute_input": "2022-09-04T03:37:27.183522Z",
     "iopub.status.busy": "2022-09-04T03:37:27.182804Z",
     "iopub.status.idle": "2022-09-04T03:37:28.741166Z",
     "shell.execute_reply": "2022-09-04T03:37:28.741670Z"
    },
    "papermill": {
     "duration": 1.576893,
     "end_time": "2022-09-04T03:37:28.741942",
     "exception": false,
     "start_time": "2022-09-04T03:37:27.165049",
     "status": "completed"
    },
    "tags": []
   },
   "outputs": [
    {
     "data": {
      "image/png": "[encoded data removed]",
      "text/plain": [
       "<Figure size 1080x792 with 2 Axes>"
      ]
     },
     "metadata": {
      "needs_background": "light"
     },
     "output_type": "display_data"
    }
   ],
   "source": [
    "#hide_input\n",
    "plt.figure(figsize=(15, 11))\n",
    "sns.heatmap(df_all[sum_corr].corr(), annot=True, cmap=\"cubehelix\") \n",
    "sns.set(font_scale=1.25)\n",
    "plt.savefig('corr_matrix.png', format='eps')"
   ]
  },
  {
   "cell_type": "code",
   "execution_count": 8,
   "id": "arbitrary-sullivan",
   "metadata": {
    "execution": {
     "iopub.execute_input": "2022-09-04T03:37:28.779558Z",
     "iopub.status.busy": "2022-09-04T03:37:28.778886Z",
     "iopub.status.idle": "2022-09-04T03:37:28.811023Z",
     "shell.execute_reply": "2022-09-04T03:37:28.810317Z"
    },
    "papermill": {
     "duration": 0.05343,
     "end_time": "2022-09-04T03:37:28.811178",
     "exception": false,
     "start_time": "2022-09-04T03:37:28.757748",
     "status": "completed"
    },
    "tags": []
   },
   "outputs": [],
   "source": [
    "#hide\n",
    "#df_all_mrk = read_api()"
   ]
  },
  {
   "cell_type": "code",
   "execution_count": 9,
   "id": "delayed-adapter",
   "metadata": {
    "execution": {
     "iopub.execute_input": "2022-09-04T03:37:28.849623Z",
     "iopub.status.busy": "2022-09-04T03:37:28.848902Z",
     "iopub.status.idle": "2022-09-04T03:37:28.883488Z",
     "shell.execute_reply": "2022-09-04T03:37:28.884018Z"
    },
    "papermill": {
     "duration": 0.056222,
     "end_time": "2022-09-04T03:37:28.884183",
     "exception": false,
     "start_time": "2022-09-04T03:37:28.827961",
     "status": "completed"
    },
    "tags": []
   },
   "outputs": [],
   "source": [
    "#hide\n",
    "#Koreliacijų koeficientai"
   ]
  },
  {
   "cell_type": "code",
   "execution_count": 10,
   "id": "seeing-celebration",
   "metadata": {
    "execution": {
     "iopub.execute_input": "2022-09-04T03:37:28.919815Z",
     "iopub.status.busy": "2022-09-04T03:37:28.919168Z",
     "iopub.status.idle": "2022-09-04T03:37:28.953611Z",
     "shell.execute_reply": "2022-09-04T03:37:28.952769Z"
    },
    "papermill": {
     "duration": 0.053823,
     "end_time": "2022-09-04T03:37:28.953789",
     "exception": false,
     "start_time": "2022-09-04T03:37:28.899966",
     "status": "completed"
    },
    "tags": []
   },
   "outputs": [],
   "source": [
    "#hide_input\n",
    "#sum_corr = df_all_mrk.corr().sum().sort_values(ascending=True).index.values\n",
    "#df_all_mrk[sum_corr].corr()"
   ]
  },
  {
   "cell_type": "code",
   "execution_count": 11,
   "id": "other-painting",
   "metadata": {
    "execution": {
     "iopub.execute_input": "2022-09-04T03:37:28.993782Z",
     "iopub.status.busy": "2022-09-04T03:37:28.993103Z",
     "iopub.status.idle": "2022-09-04T03:37:29.030353Z",
     "shell.execute_reply": "2022-09-04T03:37:29.029588Z"
    },
    "papermill": {
     "duration": 0.059399,
     "end_time": "2022-09-04T03:37:29.030496",
     "exception": false,
     "start_time": "2022-09-04T03:37:28.971097",
     "status": "completed"
    },
    "tags": []
   },
   "outputs": [],
   "source": [
    "#hide\n",
    "#Koreliacijos matrica. "
   ]
  },
  {
   "cell_type": "code",
   "execution_count": 12,
   "id": "modular-magnitude",
   "metadata": {
    "execution": {
     "iopub.execute_input": "2022-09-04T03:37:29.069116Z",
     "iopub.status.busy": "2022-09-04T03:37:29.068429Z",
     "iopub.status.idle": "2022-09-04T03:37:29.103410Z",
     "shell.execute_reply": "2022-09-04T03:37:29.102679Z"
    },
    "papermill": {
     "duration": 0.056467,
     "end_time": "2022-09-04T03:37:29.103556",
     "exception": false,
     "start_time": "2022-09-04T03:37:29.047089",
     "status": "completed"
    },
    "tags": []
   },
   "outputs": [],
   "source": [
    "#hide_input\n",
    "#plt.figure(figsize=(15, 8))\n",
    "#sns.heatmap(df_all_mrk[sum_corr].corr(), annot=True, cmap=\"BrBG\");\n",
    "#plt.savefig('corr_matrix_all.eps', format='eps')"
   ]
  },
  {
   "cell_type": "code",
   "execution_count": null,
   "id": "original-senator",
   "metadata": {
    "papermill": {
     "duration": 0.015561,
     "end_time": "2022-09-04T03:37:29.136256",
     "exception": false,
     "start_time": "2022-09-04T03:37:29.120695",
     "status": "completed"
    },
    "tags": []
   },
   "outputs": [],
   "source": []
  },
  {
   "cell_type": "code",
   "execution_count": null,
   "id": "saving-secretariat",
   "metadata": {
    "papermill": {
     "duration": 0.015321,
     "end_time": "2022-09-04T03:37:29.168904",
     "exception": false,
     "start_time": "2022-09-04T03:37:29.153583",
     "status": "completed"
    },
    "tags": []
   },
   "outputs": [],
   "source": []
  }
 ],
 "metadata": {
  "kernelspec": {
   "display_name": "Python 3",
   "language": "python",
   "name": "python3"
  },
  "language_info": {
   "codemirror_mode": {
    "name": "ipython",
    "version": 3
   },
   "file_extension": ".py",
   "mimetype": "text/x-python",
   "name": "python",
   "nbconvert_exporter": "python",
   "pygments_lexer": "ipython3",
   "version": "3.6.15"
  },
  "papermill": {
   "default_parameters": {},
   "duration": 16.183703,
   "end_time": "2022-09-04T03:37:29.806879",
   "environment_variables": {},
   "exception": null,
   "input_path": "App-Correlation_charts.ipynb",
   "output_path": "App-Correlation_charts.ipynb",
   "parameters": {},
   "start_time": "2022-09-04T03:37:13.623176",
   "version": "2.2.2"
  }
 },
 "nbformat": 4,
 "nbformat_minor": 5
}