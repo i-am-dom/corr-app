{
 "cells": [
  {
   "cell_type": "markdown",
   "id": "touched-facility",
   "metadata": {
    "papermill": {
     "duration": 0.014692,
     "end_time": "2022-10-07T03:18:59.837118",
     "exception": false,
     "start_time": "2022-10-07T03:18:59.822426",
     "status": "completed"
    },
    "tags": []
   },
   "source": [
    "# Koreliacijų matrica\n",
    "> Išplėstinė koreliacijų matrica. \n",
    "\n",
    "- toc: true \n",
    "- badges: true\n",
    "- comments: false\n",
    "- categories: [Dominykas Tautkus]\n",
    "- image: images/matrix.png"
   ]
  },
  {
   "cell_type": "code",
   "execution_count": null,
   "id": "premium-weekend",
   "metadata": {
    "papermill": {
     "duration": 0.010588,
     "end_time": "2022-10-07T03:18:59.859189",
     "exception": false,
     "start_time": "2022-10-07T03:18:59.848601",
     "status": "completed"
    },
    "tags": []
   },
   "outputs": [],
   "source": []
  },
  {
   "cell_type": "code",
   "execution_count": 1,
   "id": "vertical-rebate",
   "metadata": {
    "execution": {
     "iopub.execute_input": "2022-10-07T03:18:59.891845Z",
     "iopub.status.busy": "2022-10-07T03:18:59.891209Z",
     "iopub.status.idle": "2022-10-07T03:18:59.902144Z",
     "shell.execute_reply": "2022-10-07T03:18:59.901649Z"
    },
    "papermill": {
     "duration": 0.032353,
     "end_time": "2022-10-07T03:18:59.902275",
     "exception": false,
     "start_time": "2022-10-07T03:18:59.869922",
     "status": "completed"
    },
    "tags": []
   },
   "outputs": [],
   "source": [
    "#hide\n",
    "%load_ext autoreload\n",
    "%autoreload 2"
   ]
  },
  {
   "cell_type": "code",
   "execution_count": 2,
   "id": "overall-advancement",
   "metadata": {
    "execution": {
     "iopub.execute_input": "2022-10-07T03:18:59.927917Z",
     "iopub.status.busy": "2022-10-07T03:18:59.927334Z",
     "iopub.status.idle": "2022-10-07T03:19:01.275125Z",
     "shell.execute_reply": "2022-10-07T03:19:01.274075Z"
    },
    "papermill": {
     "duration": 1.362371,
     "end_time": "2022-10-07T03:19:01.275269",
     "exception": false,
     "start_time": "2022-10-07T03:18:59.912898",
     "status": "completed"
    },
    "tags": []
   },
   "outputs": [],
   "source": [
    "#hide\n",
    "from scripts.read_data import read_api\n",
    "from IPython.display import HTML\n",
    "import plotly.graph_objects as go\n"
   ]
  },
  {
   "cell_type": "code",
   "execution_count": 3,
   "id": "light-crazy",
   "metadata": {
    "execution": {
     "iopub.execute_input": "2022-10-07T03:19:01.303685Z",
     "iopub.status.busy": "2022-10-07T03:19:01.302377Z",
     "iopub.status.idle": "2022-10-07T03:19:01.325013Z",
     "shell.execute_reply": "2022-10-07T03:19:01.324327Z"
    },
    "papermill": {
     "duration": 0.038887,
     "end_time": "2022-10-07T03:19:01.325143",
     "exception": false,
     "start_time": "2022-10-07T03:19:01.286256",
     "status": "completed"
    },
    "tags": []
   },
   "outputs": [],
   "source": [
    "#hide\n",
    "### ICO koreliacija"
   ]
  },
  {
   "cell_type": "code",
   "execution_count": 4,
   "id": "likely-bahrain",
   "metadata": {
    "execution": {
     "iopub.execute_input": "2022-10-07T03:19:01.361883Z",
     "iopub.status.busy": "2022-10-07T03:19:01.360932Z",
     "iopub.status.idle": "2022-10-07T03:19:02.211108Z",
     "shell.execute_reply": "2022-10-07T03:19:02.210118Z"
    },
    "papermill": {
     "duration": 0.874989,
     "end_time": "2022-10-07T03:19:02.211251",
     "exception": false,
     "start_time": "2022-10-07T03:19:01.336262",
     "status": "completed"
    },
    "tags": []
   },
   "outputs": [],
   "source": [
    "#hide\n",
    "import matplotlib.pyplot as plt\n",
    "import numpy as np\n",
    "import pandas as pd\n",
    "import seaborn as sns\n",
    "import matplotlib.pyplot as plt \n",
    "import matplotlib.dates as mdates\n",
    "import matplotlib.pyplot as plt"
   ]
  },
  {
   "cell_type": "code",
   "execution_count": 5,
   "id": "superior-blanket",
   "metadata": {
    "execution": {
     "iopub.execute_input": "2022-10-07T03:19:02.237836Z",
     "iopub.status.busy": "2022-10-07T03:19:02.237224Z",
     "iopub.status.idle": "2022-10-07T03:19:12.593332Z",
     "shell.execute_reply": "2022-10-07T03:19:12.592308Z"
    },
    "papermill": {
     "duration": 10.371349,
     "end_time": "2022-10-07T03:19:12.593490",
     "exception": false,
     "start_time": "2022-10-07T03:19:02.222141",
     "status": "completed"
    },
    "tags": []
   },
   "outputs": [
    {
     "name": "stderr",
     "output_type": "stream",
     "text": [
      "/home/runner/work/corr-app/corr-app/_notebooks/scripts/read_data.py:187: SettingWithCopyWarning:\n",
      "\n",
      "\n",
      "A value is trying to be set on a copy of a slice from a DataFrame.\n",
      "Try using .loc[row_indexer,col_indexer] = value instead\n",
      "\n",
      "See the caveats in the documentation: https://pandas.pydata.org/pandas-docs/stable/user_guide/indexing.html#returning-a-view-versus-a-copy\n",
      "\n"
     ]
    },
    {
     "name": "stderr",
     "output_type": "stream",
     "text": [
      "/home/runner/work/corr-app/corr-app/_notebooks/scripts/read_data.py:215: SettingWithCopyWarning:\n",
      "\n",
      "\n",
      "A value is trying to be set on a copy of a slice from a DataFrame.\n",
      "Try using .loc[row_indexer,col_indexer] = value instead\n",
      "\n",
      "See the caveats in the documentation: https://pandas.pydata.org/pandas-docs/stable/user_guide/indexing.html#returning-a-view-versus-a-copy\n",
      "\n"
     ]
    }
   ],
   "source": [
    "#hide\n",
    "df_all = read_api()\n",
    "#df_all = df_all.drop(['SP500', 'XAU', 'ETH', 'BTC'], axis=1)\n",
    "\n"
   ]
  },
  {
   "cell_type": "code",
   "execution_count": 6,
   "id": "mature-alert",
   "metadata": {
    "execution": {
     "iopub.execute_input": "2022-10-07T03:19:12.622817Z",
     "iopub.status.busy": "2022-10-07T03:19:12.622209Z",
     "iopub.status.idle": "2022-10-07T03:19:12.654146Z",
     "shell.execute_reply": "2022-10-07T03:19:12.653549Z"
    },
    "papermill": {
     "duration": 0.047702,
     "end_time": "2022-10-07T03:19:12.654283",
     "exception": false,
     "start_time": "2022-10-07T03:19:12.606581",
     "status": "completed"
    },
    "tags": []
   },
   "outputs": [],
   "source": [
    "#hide_input\n",
    "sum_corr = df_all.corr().sum().sort_values(ascending=True).index.values\n",
    "#df_all[sum_corr].corr()"
   ]
  },
  {
   "cell_type": "markdown",
   "id": "complex-syndicate",
   "metadata": {
    "papermill": {
     "duration": 0.011201,
     "end_time": "2022-10-07T03:19:12.676976",
     "exception": false,
     "start_time": "2022-10-07T03:19:12.665775",
     "status": "completed"
    },
    "tags": []
   },
   "source": [
    "## Išplėstinė koreliacijų matrica. "
   ]
  },
  {
   "cell_type": "code",
   "execution_count": 7,
   "id": "atomic-omaha",
   "metadata": {
    "execution": {
     "iopub.execute_input": "2022-10-07T03:19:12.712928Z",
     "iopub.status.busy": "2022-10-07T03:19:12.708992Z",
     "iopub.status.idle": "2022-10-07T03:19:13.909768Z",
     "shell.execute_reply": "2022-10-07T03:19:13.910223Z"
    },
    "papermill": {
     "duration": 1.222327,
     "end_time": "2022-10-07T03:19:13.910370",
     "exception": false,
     "start_time": "2022-10-07T03:19:12.688043",
     "status": "completed"
    },
    "tags": []
   },
   "outputs": [
    {
     "data": {
      "image/png": "[encoded data removed]",
      "text/plain": [
       "<Figure size 1080x792 with 2 Axes>"
      ]
     },
     "metadata": {
      "needs_background": "light"
     },
     "output_type": "display_data"
    }
   ],
   "source": [
    "#hide_input\n",
    "plt.figure(figsize=(15, 11))\n",
    "sns.heatmap(df_all[sum_corr].corr(), annot=True, cmap=\"cubehelix\") \n",
    "sns.set(font_scale=1.25)\n",
    "plt.savefig('corr_matrix.png', format='eps')"
   ]
  },
  {
   "cell_type": "code",
   "execution_count": 8,
   "id": "arbitrary-sullivan",
   "metadata": {
    "execution": {
     "iopub.execute_input": "2022-10-07T03:19:13.948939Z",
     "iopub.status.busy": "2022-10-07T03:19:13.940421Z",
     "iopub.status.idle": "2022-10-07T03:19:13.970012Z",
     "shell.execute_reply": "2022-10-07T03:19:13.970451Z"
    },
    "papermill": {
     "duration": 0.046567,
     "end_time": "2022-10-07T03:19:13.970599",
     "exception": false,
     "start_time": "2022-10-07T03:19:13.924032",
     "status": "completed"
    },
    "tags": []
   },
   "outputs": [],
   "source": [
    "#hide\n",
    "#df_all_mrk = read_api()"
   ]
  },
  {
   "cell_type": "code",
   "execution_count": 9,
   "id": "delayed-adapter",
   "metadata": {
    "execution": {
     "iopub.execute_input": "2022-10-07T03:19:14.000328Z",
     "iopub.status.busy": "2022-10-07T03:19:13.999723Z",
     "iopub.status.idle": "2022-10-07T03:19:14.028023Z",
     "shell.execute_reply": "2022-10-07T03:19:14.027427Z"
    },
    "papermill": {
     "duration": 0.044363,
     "end_time": "2022-10-07T03:19:14.028175",
     "exception": false,
     "start_time": "2022-10-07T03:19:13.983812",
     "status": "completed"
    },
    "tags": []
   },
   "outputs": [],
   "source": [
    "#hide\n",
    "#Koreliacijų koeficientai"
   ]
  },
  {
   "cell_type": "code",
   "execution_count": 10,
   "id": "seeing-celebration",
   "metadata": {
    "execution": {
     "iopub.execute_input": "2022-10-07T03:19:14.058596Z",
     "iopub.status.busy": "2022-10-07T03:19:14.058016Z",
     "iopub.status.idle": "2022-10-07T03:19:14.084554Z",
     "shell.execute_reply": "2022-10-07T03:19:14.083952Z"
    },
    "papermill": {
     "duration": 0.042992,
     "end_time": "2022-10-07T03:19:14.084683",
     "exception": false,
     "start_time": "2022-10-07T03:19:14.041691",
     "status": "completed"
    },
    "tags": []
   },
   "outputs": [],
   "source": [
    "#hide_input\n",
    "#sum_corr = df_all_mrk.corr().sum().sort_values(ascending=True).index.values\n",
    "#df_all_mrk[sum_corr].corr()"
   ]
  },
  {
   "cell_type": "code",
   "execution_count": 11,
   "id": "other-painting",
   "metadata": {
    "execution": {
     "iopub.execute_input": "2022-10-07T03:19:14.121256Z",
     "iopub.status.busy": "2022-10-07T03:19:14.120673Z",
     "iopub.status.idle": "2022-10-07T03:19:14.145028Z",
     "shell.execute_reply": "2022-10-07T03:19:14.144495Z"
    },
    "papermill": {
     "duration": 0.046559,
     "end_time": "2022-10-07T03:19:14.145160",
     "exception": false,
     "start_time": "2022-10-07T03:19:14.098601",
     "status": "completed"
    },
    "tags": []
   },
   "outputs": [],
   "source": [
    "#hide\n",
    "#Koreliacijos matrica. "
   ]
  },
  {
   "cell_type": "code",
   "execution_count": 12,
   "id": "modular-magnitude",
   "metadata": {
    "execution": {
     "iopub.execute_input": "2022-10-07T03:19:14.176224Z",
     "iopub.status.busy": "2022-10-07T03:19:14.175620Z",
     "iopub.status.idle": "2022-10-07T03:19:14.202904Z",
     "shell.execute_reply": "2022-10-07T03:19:14.202410Z"
    },
    "papermill": {
     "duration": 0.043749,
     "end_time": "2022-10-07T03:19:14.203016",
     "exception": false,
     "start_time": "2022-10-07T03:19:14.159267",
     "status": "completed"
    },
    "tags": []
   },
   "outputs": [],
   "source": [
    "#hide_input\n",
    "#plt.figure(figsize=(15, 8))\n",
    "#sns.heatmap(df_all_mrk[sum_corr].corr(), annot=True, cmap=\"BrBG\");\n",
    "#plt.savefig('corr_matrix_all.eps', format='eps')"
   ]
  },
  {
   "cell_type": "code",
   "execution_count": null,
   "id": "original-senator",
   "metadata": {
    "papermill": {
     "duration": 0.013061,
     "end_time": "2022-10-07T03:19:14.229237",
     "exception": false,
     "start_time": "2022-10-07T03:19:14.216176",
     "status": "completed"
    },
    "tags": []
   },
   "outputs": [],
   "source": []
  },
  {
   "cell_type": "code",
   "execution_count": null,
   "id": "saving-secretariat",
   "metadata": {
    "papermill": {
     "duration": 0.012967,
     "end_time": "2022-10-07T03:19:14.255895",
     "exception": false,
     "start_time": "2022-10-07T03:19:14.242928",
     "status": "completed"
    },
    "tags": []
   },
   "outputs": [],
   "source": []
  }
 ],
 "metadata": {
  "kernelspec": {
   "display_name": "Python 3",
   "language": "python",
   "name": "python3"
  },
  "language_info": {
   "codemirror_mode": {
    "name": "ipython",
    "version": 3
   },
   "file_extension": ".py",
   "mimetype": "text/x-python",
   "name": "python",
   "nbconvert_exporter": "python",
   "pygments_lexer": "ipython3",
   "version": "3.6.15"
  },
  "papermill": {
   "default_parameters": {},
   "duration": 15.999571,
   "end_time": "2022-10-07T03:19:14.889047",
   "environment_variables": {},
   "exception": null,
   "input_path": "App-Correlation_charts.ipynb",
   "output_path": "App-Correlation_charts.ipynb",
   "parameters": {},
   "start_time": "2022-10-07T03:18:58.889476",
   "version": "2.2.2"
  }
 },
 "nbformat": 4,
 "nbformat_minor": 5
}