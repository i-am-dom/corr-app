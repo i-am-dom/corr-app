{
 "cells": [
  {
   "cell_type": "markdown",
   "id": "touched-facility",
   "metadata": {
    "papermill": {
     "duration": 0.014628,
     "end_time": "2021-08-06T01:58:18.567338",
     "exception": false,
     "start_time": "2021-08-06T01:58:18.552710",
     "status": "completed"
    },
    "tags": []
   },
   "source": [
    "# Koreliacijų matrica\n",
    "> Išplėstinė koreliacijų matrica. \n",
    "\n",
    "- toc: true \n",
    "- badges: true\n",
    "- comments: false\n",
    "- categories: [Dominykas Tautkus]\n",
    "- image: images/matrix.png"
   ]
  },
  {
   "cell_type": "code",
   "execution_count": null,
   "id": "premium-weekend",
   "metadata": {
    "papermill": {
     "duration": 0.010465,
     "end_time": "2021-08-06T01:58:18.589111",
     "exception": false,
     "start_time": "2021-08-06T01:58:18.578646",
     "status": "completed"
    },
    "tags": []
   },
   "outputs": [],
   "source": []
  },
  {
   "cell_type": "code",
   "execution_count": 1,
   "id": "vertical-rebate",
   "metadata": {
    "execution": {
     "iopub.execute_input": "2021-08-06T01:58:18.620794Z",
     "iopub.status.busy": "2021-08-06T01:58:18.620280Z",
     "iopub.status.idle": "2021-08-06T01:58:18.630374Z",
     "shell.execute_reply": "2021-08-06T01:58:18.629960Z"
    },
    "papermill": {
     "duration": 0.030905,
     "end_time": "2021-08-06T01:58:18.630512",
     "exception": false,
     "start_time": "2021-08-06T01:58:18.599607",
     "status": "completed"
    },
    "tags": []
   },
   "outputs": [],
   "source": [
    "#hide\n",
    "%load_ext autoreload\n",
    "%autoreload 2"
   ]
  },
  {
   "cell_type": "code",
   "execution_count": 2,
   "id": "overall-advancement",
   "metadata": {
    "execution": {
     "iopub.execute_input": "2021-08-06T01:58:18.655804Z",
     "iopub.status.busy": "2021-08-06T01:58:18.655308Z",
     "iopub.status.idle": "2021-08-06T01:58:19.790260Z",
     "shell.execute_reply": "2021-08-06T01:58:19.789518Z"
    },
    "papermill": {
     "duration": 1.149376,
     "end_time": "2021-08-06T01:58:19.790399",
     "exception": false,
     "start_time": "2021-08-06T01:58:18.641023",
     "status": "completed"
    },
    "tags": []
   },
   "outputs": [],
   "source": [
    "#hide\n",
    "from scripts.read_data import read_api\n",
    "from IPython.display import HTML\n",
    "import plotly.graph_objects as go\n"
   ]
  },
  {
   "cell_type": "code",
   "execution_count": 3,
   "id": "light-crazy",
   "metadata": {
    "execution": {
     "iopub.execute_input": "2021-08-06T01:58:19.821387Z",
     "iopub.status.busy": "2021-08-06T01:58:19.820852Z",
     "iopub.status.idle": "2021-08-06T01:58:19.840130Z",
     "shell.execute_reply": "2021-08-06T01:58:19.839709Z"
    },
    "papermill": {
     "duration": 0.038729,
     "end_time": "2021-08-06T01:58:19.840250",
     "exception": false,
     "start_time": "2021-08-06T01:58:19.801521",
     "status": "completed"
    },
    "tags": []
   },
   "outputs": [],
   "source": [
    "#hide\n",
    "### ICO koreliacija"
   ]
  },
  {
   "cell_type": "code",
   "execution_count": 4,
   "id": "likely-bahrain",
   "metadata": {
    "execution": {
     "iopub.execute_input": "2021-08-06T01:58:19.865217Z",
     "iopub.status.busy": "2021-08-06T01:58:19.864717Z",
     "iopub.status.idle": "2021-08-06T01:58:20.683897Z",
     "shell.execute_reply": "2021-08-06T01:58:20.682876Z"
    },
    "papermill": {
     "duration": 0.833152,
     "end_time": "2021-08-06T01:58:20.684028",
     "exception": false,
     "start_time": "2021-08-06T01:58:19.850876",
     "status": "completed"
    },
    "tags": []
   },
   "outputs": [],
   "source": [
    "#hide\n",
    "import matplotlib.pyplot as plt\n",
    "import numpy as np\n",
    "import pandas as pd\n",
    "import seaborn as sns\n",
    "import matplotlib.pyplot as plt \n",
    "import matplotlib.dates as mdates\n",
    "import matplotlib.pyplot as plt"
   ]
  },
  {
   "cell_type": "code",
   "execution_count": 5,
   "id": "superior-blanket",
   "metadata": {
    "execution": {
     "iopub.execute_input": "2021-08-06T01:58:20.712520Z",
     "iopub.status.busy": "2021-08-06T01:58:20.709852Z",
     "iopub.status.idle": "2021-08-06T01:58:34.087907Z",
     "shell.execute_reply": "2021-08-06T01:58:34.088388Z"
    },
    "papermill": {
     "duration": 13.393651,
     "end_time": "2021-08-06T01:58:34.088543",
     "exception": false,
     "start_time": "2021-08-06T01:58:20.694892",
     "status": "completed"
    },
    "tags": []
   },
   "outputs": [
    {
     "name": "stderr",
     "output_type": "stream",
     "text": [
      "/home/runner/work/corr-app/corr-app/_notebooks/scripts/read_data.py:187: SettingWithCopyWarning:\n",
      "\n",
      "\n",
      "A value is trying to be set on a copy of a slice from a DataFrame.\n",
      "Try using .loc[row_indexer,col_indexer] = value instead\n",
      "\n",
      "See the caveats in the documentation: https://pandas.pydata.org/pandas-docs/stable/user_guide/indexing.html#returning-a-view-versus-a-copy\n",
      "\n"
     ]
    },
    {
     "name": "stderr",
     "output_type": "stream",
     "text": [
      "/home/runner/work/corr-app/corr-app/_notebooks/scripts/read_data.py:215: SettingWithCopyWarning:\n",
      "\n",
      "\n",
      "A value is trying to be set on a copy of a slice from a DataFrame.\n",
      "Try using .loc[row_indexer,col_indexer] = value instead\n",
      "\n",
      "See the caveats in the documentation: https://pandas.pydata.org/pandas-docs/stable/user_guide/indexing.html#returning-a-view-versus-a-copy\n",
      "\n"
     ]
    }
   ],
   "source": [
    "#hide\n",
    "df_all = read_api()\n",
    "#df_all = df_all.drop(['SP500', 'XAU', 'ETH', 'BTC'], axis=1)\n",
    "\n"
   ]
  },
  {
   "cell_type": "code",
   "execution_count": 6,
   "id": "mature-alert",
   "metadata": {
    "execution": {
     "iopub.execute_input": "2021-08-06T01:58:34.123087Z",
     "iopub.status.busy": "2021-08-06T01:58:34.122222Z",
     "iopub.status.idle": "2021-08-06T01:58:34.147741Z",
     "shell.execute_reply": "2021-08-06T01:58:34.146986Z"
    },
    "papermill": {
     "duration": 0.047409,
     "end_time": "2021-08-06T01:58:34.147861",
     "exception": false,
     "start_time": "2021-08-06T01:58:34.100452",
     "status": "completed"
    },
    "tags": []
   },
   "outputs": [],
   "source": [
    "#hide_input\n",
    "sum_corr = df_all.corr().sum().sort_values(ascending=True).index.values\n",
    "#df_all[sum_corr].corr()"
   ]
  },
  {
   "cell_type": "markdown",
   "id": "complex-syndicate",
   "metadata": {
    "papermill": {
     "duration": 0.011007,
     "end_time": "2021-08-06T01:58:34.170067",
     "exception": false,
     "start_time": "2021-08-06T01:58:34.159060",
     "status": "completed"
    },
    "tags": []
   },
   "source": [
    "## Išplėstinė koreliacijų matrica. "
   ]
  },
  {
   "cell_type": "code",
   "execution_count": 7,
   "id": "atomic-omaha",
   "metadata": {
    "execution": {
     "iopub.execute_input": "2021-08-06T01:58:34.206516Z",
     "iopub.status.busy": "2021-08-06T01:58:34.195320Z",
     "iopub.status.idle": "2021-08-06T01:58:35.326612Z",
     "shell.execute_reply": "2021-08-06T01:58:35.327095Z"
    },
    "papermill": {
     "duration": 1.1462,
     "end_time": "2021-08-06T01:58:35.327253",
     "exception": false,
     "start_time": "2021-08-06T01:58:34.181053",
     "status": "completed"
    },
    "tags": []
   },
   "outputs": [
    {
     "data": {
      "image/png": "[encoded data removed]",
      "text/plain": [
       "<Figure size 1080x792 with 2 Axes>"
      ]
     },
     "metadata": {
      "needs_background": "light"
     },
     "output_type": "display_data"
    }
   ],
   "source": [
    "#hide_input\n",
    "plt.figure(figsize=(15, 11))\n",
    "sns.heatmap(df_all[sum_corr].corr(), annot=True, cmap=\"cubehelix\") \n",
    "sns.set(font_scale=1.25)\n",
    "plt.savefig('corr_matrix.png', format='eps')"
   ]
  },
  {
   "cell_type": "code",
   "execution_count": 8,
   "id": "arbitrary-sullivan",
   "metadata": {
    "execution": {
     "iopub.execute_input": "2021-08-06T01:58:35.371161Z",
     "iopub.status.busy": "2021-08-06T01:58:35.357008Z",
     "iopub.status.idle": "2021-08-06T01:58:35.388276Z",
     "shell.execute_reply": "2021-08-06T01:58:35.387871Z"
    },
    "papermill": {
     "duration": 0.047049,
     "end_time": "2021-08-06T01:58:35.388392",
     "exception": false,
     "start_time": "2021-08-06T01:58:35.341343",
     "status": "completed"
    },
    "tags": []
   },
   "outputs": [],
   "source": [
    "#hide\n",
    "#df_all_mrk = read_api()"
   ]
  },
  {
   "cell_type": "code",
   "execution_count": 9,
   "id": "delayed-adapter",
   "metadata": {
    "execution": {
     "iopub.execute_input": "2021-08-06T01:58:35.431107Z",
     "iopub.status.busy": "2021-08-06T01:58:35.424976Z",
     "iopub.status.idle": "2021-08-06T01:58:35.447279Z",
     "shell.execute_reply": "2021-08-06T01:58:35.446876Z"
    },
    "papermill": {
     "duration": 0.045989,
     "end_time": "2021-08-06T01:58:35.447392",
     "exception": false,
     "start_time": "2021-08-06T01:58:35.401403",
     "status": "completed"
    },
    "tags": []
   },
   "outputs": [],
   "source": [
    "#hide\n",
    "#Koreliacijų koeficientai"
   ]
  },
  {
   "cell_type": "code",
   "execution_count": 10,
   "id": "seeing-celebration",
   "metadata": {
    "execution": {
     "iopub.execute_input": "2021-08-06T01:58:35.477530Z",
     "iopub.status.busy": "2021-08-06T01:58:35.477039Z",
     "iopub.status.idle": "2021-08-06T01:58:35.500351Z",
     "shell.execute_reply": "2021-08-06T01:58:35.500777Z"
    },
    "papermill": {
     "duration": 0.040182,
     "end_time": "2021-08-06T01:58:35.500915",
     "exception": false,
     "start_time": "2021-08-06T01:58:35.460733",
     "status": "completed"
    },
    "tags": []
   },
   "outputs": [],
   "source": [
    "#hide_input\n",
    "#sum_corr = df_all_mrk.corr().sum().sort_values(ascending=True).index.values\n",
    "#df_all_mrk[sum_corr].corr()"
   ]
  },
  {
   "cell_type": "code",
   "execution_count": 11,
   "id": "other-painting",
   "metadata": {
    "execution": {
     "iopub.execute_input": "2021-08-06T01:58:35.543143Z",
     "iopub.status.busy": "2021-08-06T01:58:35.537781Z",
     "iopub.status.idle": "2021-08-06T01:58:35.559481Z",
     "shell.execute_reply": "2021-08-06T01:58:35.559043Z"
    },
    "papermill": {
     "duration": 0.045101,
     "end_time": "2021-08-06T01:58:35.559597",
     "exception": false,
     "start_time": "2021-08-06T01:58:35.514496",
     "status": "completed"
    },
    "tags": []
   },
   "outputs": [],
   "source": [
    "#hide\n",
    "#Koreliacijos matrica. "
   ]
  },
  {
   "cell_type": "code",
   "execution_count": 12,
   "id": "modular-magnitude",
   "metadata": {
    "execution": {
     "iopub.execute_input": "2021-08-06T01:58:35.602385Z",
     "iopub.status.busy": "2021-08-06T01:58:35.601892Z",
     "iopub.status.idle": "2021-08-06T01:58:35.620098Z",
     "shell.execute_reply": "2021-08-06T01:58:35.619698Z"
    },
    "papermill": {
     "duration": 0.046763,
     "end_time": "2021-08-06T01:58:35.620205",
     "exception": false,
     "start_time": "2021-08-06T01:58:35.573442",
     "status": "completed"
    },
    "tags": []
   },
   "outputs": [],
   "source": [
    "#hide_input\n",
    "#plt.figure(figsize=(15, 8))\n",
    "#sns.heatmap(df_all_mrk[sum_corr].corr(), annot=True, cmap=\"BrBG\");\n",
    "#plt.savefig('corr_matrix_all.eps', format='eps')"
   ]
  },
  {
   "cell_type": "code",
   "execution_count": null,
   "id": "original-senator",
   "metadata": {
    "papermill": {
     "duration": 0.013221,
     "end_time": "2021-08-06T01:58:35.646437",
     "exception": false,
     "start_time": "2021-08-06T01:58:35.633216",
     "status": "completed"
    },
    "tags": []
   },
   "outputs": [],
   "source": []
  },
  {
   "cell_type": "code",
   "execution_count": null,
   "id": "saving-secretariat",
   "metadata": {
    "papermill": {
     "duration": 0.012835,
     "end_time": "2021-08-06T01:58:35.672276",
     "exception": false,
     "start_time": "2021-08-06T01:58:35.659441",
     "status": "completed"
    },
    "tags": []
   },
   "outputs": [],
   "source": []
  }
 ],
 "metadata": {
  "kernelspec": {
   "display_name": "Python 3",
   "language": "python",
   "name": "python3"
  },
  "language_info": {
   "codemirror_mode": {
    "name": "ipython",
    "version": 3
   },
   "file_extension": ".py",
   "mimetype": "text/x-python",
   "name": "python",
   "nbconvert_exporter": "python",
   "pygments_lexer": "ipython3",
   "version": "3.6.14"
  },
  "papermill": {
   "default_parameters": {},
   "duration": 18.674306,
   "end_time": "2021-08-06T01:58:36.194534",
   "environment_variables": {},
   "exception": null,
   "input_path": "App-Correlation_charts.ipynb",
   "output_path": "App-Correlation_charts.ipynb",
   "parameters": {},
   "start_time": "2021-08-06T01:58:17.520228",
   "version": "2.2.2"
  }
 },
 "nbformat": 4,
 "nbformat_minor": 5
}