{
 "cells": [
  {
   "cell_type": "markdown",
   "id": "touched-facility",
   "metadata": {
    "papermill": {
     "duration": 0.018239,
     "end_time": "2021-11-11T01:58:27.752598",
     "exception": false,
     "start_time": "2021-11-11T01:58:27.734359",
     "status": "completed"
    },
    "tags": []
   },
   "source": [
    "# Koreliacijų matrica\n",
    "> Išplėstinė koreliacijų matrica. \n",
    "\n",
    "- toc: true \n",
    "- badges: true\n",
    "- comments: false\n",
    "- categories: [Dominykas Tautkus]\n",
    "- image: images/matrix.png"
   ]
  },
  {
   "cell_type": "code",
   "execution_count": null,
   "id": "premium-weekend",
   "metadata": {
    "papermill": {
     "duration": 0.013402,
     "end_time": "2021-11-11T01:58:27.781084",
     "exception": false,
     "start_time": "2021-11-11T01:58:27.767682",
     "status": "completed"
    },
    "tags": []
   },
   "outputs": [],
   "source": []
  },
  {
   "cell_type": "code",
   "execution_count": 1,
   "id": "vertical-rebate",
   "metadata": {
    "execution": {
     "iopub.execute_input": "2021-11-11T01:58:27.824621Z",
     "iopub.status.busy": "2021-11-11T01:58:27.822961Z",
     "iopub.status.idle": "2021-11-11T01:58:27.836958Z",
     "shell.execute_reply": "2021-11-11T01:58:27.837485Z"
    },
    "papermill": {
     "duration": 0.041262,
     "end_time": "2021-11-11T01:58:27.837681",
     "exception": false,
     "start_time": "2021-11-11T01:58:27.796419",
     "status": "completed"
    },
    "tags": []
   },
   "outputs": [],
   "source": [
    "#hide\n",
    "%load_ext autoreload\n",
    "%autoreload 2"
   ]
  },
  {
   "cell_type": "code",
   "execution_count": 2,
   "id": "overall-advancement",
   "metadata": {
    "execution": {
     "iopub.execute_input": "2021-11-11T01:58:27.873380Z",
     "iopub.status.busy": "2021-11-11T01:58:27.872605Z",
     "iopub.status.idle": "2021-11-11T01:58:29.356673Z",
     "shell.execute_reply": "2021-11-11T01:58:29.356116Z"
    },
    "papermill": {
     "duration": 1.50472,
     "end_time": "2021-11-11T01:58:29.356808",
     "exception": false,
     "start_time": "2021-11-11T01:58:27.852088",
     "status": "completed"
    },
    "tags": []
   },
   "outputs": [],
   "source": [
    "#hide\n",
    "from scripts.read_data import read_api\n",
    "from IPython.display import HTML\n",
    "import plotly.graph_objects as go\n"
   ]
  },
  {
   "cell_type": "code",
   "execution_count": 3,
   "id": "light-crazy",
   "metadata": {
    "execution": {
     "iopub.execute_input": "2021-11-11T01:58:29.391886Z",
     "iopub.status.busy": "2021-11-11T01:58:29.389960Z",
     "iopub.status.idle": "2021-11-11T01:58:29.414506Z",
     "shell.execute_reply": "2021-11-11T01:58:29.414008Z"
    },
    "papermill": {
     "duration": 0.043345,
     "end_time": "2021-11-11T01:58:29.414631",
     "exception": false,
     "start_time": "2021-11-11T01:58:29.371286",
     "status": "completed"
    },
    "tags": []
   },
   "outputs": [],
   "source": [
    "#hide\n",
    "### ICO koreliacija"
   ]
  },
  {
   "cell_type": "code",
   "execution_count": 4,
   "id": "likely-bahrain",
   "metadata": {
    "execution": {
     "iopub.execute_input": "2021-11-11T01:58:29.444999Z",
     "iopub.status.busy": "2021-11-11T01:58:29.444426Z",
     "iopub.status.idle": "2021-11-11T01:58:30.436998Z",
     "shell.execute_reply": "2021-11-11T01:58:30.437510Z"
    },
    "papermill": {
     "duration": 1.010736,
     "end_time": "2021-11-11T01:58:30.437668",
     "exception": false,
     "start_time": "2021-11-11T01:58:29.426932",
     "status": "completed"
    },
    "tags": []
   },
   "outputs": [],
   "source": [
    "#hide\n",
    "import matplotlib.pyplot as plt\n",
    "import numpy as np\n",
    "import pandas as pd\n",
    "import seaborn as sns\n",
    "import matplotlib.pyplot as plt \n",
    "import matplotlib.dates as mdates\n",
    "import matplotlib.pyplot as plt"
   ]
  },
  {
   "cell_type": "code",
   "execution_count": 5,
   "id": "superior-blanket",
   "metadata": {
    "execution": {
     "iopub.execute_input": "2021-11-11T01:58:30.469097Z",
     "iopub.status.busy": "2021-11-11T01:58:30.468533Z",
     "iopub.status.idle": "2021-11-11T01:58:41.219465Z",
     "shell.execute_reply": "2021-11-11T01:58:41.218880Z"
    },
    "papermill": {
     "duration": 10.766865,
     "end_time": "2021-11-11T01:58:41.219641",
     "exception": false,
     "start_time": "2021-11-11T01:58:30.452776",
     "status": "completed"
    },
    "tags": []
   },
   "outputs": [
    {
     "name": "stderr",
     "output_type": "stream",
     "text": [
      "/home/runner/work/corr-app/corr-app/_notebooks/scripts/read_data.py:187: SettingWithCopyWarning:\n",
      "\n",
      "\n",
      "A value is trying to be set on a copy of a slice from a DataFrame.\n",
      "Try using .loc[row_indexer,col_indexer] = value instead\n",
      "\n",
      "See the caveats in the documentation: https://pandas.pydata.org/pandas-docs/stable/user_guide/indexing.html#returning-a-view-versus-a-copy\n",
      "\n"
     ]
    },
    {
     "name": "stderr",
     "output_type": "stream",
     "text": [
      "/home/runner/work/corr-app/corr-app/_notebooks/scripts/read_data.py:215: SettingWithCopyWarning:\n",
      "\n",
      "\n",
      "A value is trying to be set on a copy of a slice from a DataFrame.\n",
      "Try using .loc[row_indexer,col_indexer] = value instead\n",
      "\n",
      "See the caveats in the documentation: https://pandas.pydata.org/pandas-docs/stable/user_guide/indexing.html#returning-a-view-versus-a-copy\n",
      "\n"
     ]
    }
   ],
   "source": [
    "#hide\n",
    "df_all = read_api()\n",
    "#df_all = df_all.drop(['SP500', 'XAU', 'ETH', 'BTC'], axis=1)\n",
    "\n"
   ]
  },
  {
   "cell_type": "code",
   "execution_count": 6,
   "id": "mature-alert",
   "metadata": {
    "execution": {
     "iopub.execute_input": "2021-11-11T01:58:41.254173Z",
     "iopub.status.busy": "2021-11-11T01:58:41.253529Z",
     "iopub.status.idle": "2021-11-11T01:58:41.287345Z",
     "shell.execute_reply": "2021-11-11T01:58:41.286795Z"
    },
    "papermill": {
     "duration": 0.05262,
     "end_time": "2021-11-11T01:58:41.287482",
     "exception": false,
     "start_time": "2021-11-11T01:58:41.234862",
     "status": "completed"
    },
    "tags": []
   },
   "outputs": [],
   "source": [
    "#hide_input\n",
    "sum_corr = df_all.corr().sum().sort_values(ascending=True).index.values\n",
    "#df_all[sum_corr].corr()"
   ]
  },
  {
   "cell_type": "markdown",
   "id": "complex-syndicate",
   "metadata": {
    "papermill": {
     "duration": 0.014274,
     "end_time": "2021-11-11T01:58:41.316145",
     "exception": false,
     "start_time": "2021-11-11T01:58:41.301871",
     "status": "completed"
    },
    "tags": []
   },
   "source": [
    "## Išplėstinė koreliacijų matrica. "
   ]
  },
  {
   "cell_type": "code",
   "execution_count": 7,
   "id": "atomic-omaha",
   "metadata": {
    "execution": {
     "iopub.execute_input": "2021-11-11T01:58:41.350692Z",
     "iopub.status.busy": "2021-11-11T01:58:41.349952Z",
     "iopub.status.idle": "2021-11-11T01:58:43.031100Z",
     "shell.execute_reply": "2021-11-11T01:58:43.030565Z"
    },
    "papermill": {
     "duration": 1.700599,
     "end_time": "2021-11-11T01:58:43.031239",
     "exception": false,
     "start_time": "2021-11-11T01:58:41.330640",
     "status": "completed"
    },
    "tags": []
   },
   "outputs": [
    {
     "data": {
      "image/png": "[encoded data removed]",
      "text/plain": [
       "<Figure size 1080x792 with 2 Axes>"
      ]
     },
     "metadata": {
      "needs_background": "light"
     },
     "output_type": "display_data"
    }
   ],
   "source": [
    "#hide_input\n",
    "plt.figure(figsize=(15, 11))\n",
    "sns.heatmap(df_all[sum_corr].corr(), annot=True, cmap=\"cubehelix\") \n",
    "sns.set(font_scale=1.25)\n",
    "plt.savefig('corr_matrix.png', format='eps')"
   ]
  },
  {
   "cell_type": "code",
   "execution_count": 8,
   "id": "arbitrary-sullivan",
   "metadata": {
    "execution": {
     "iopub.execute_input": "2021-11-11T01:58:43.072760Z",
     "iopub.status.busy": "2021-11-11T01:58:43.070127Z",
     "iopub.status.idle": "2021-11-11T01:58:43.101163Z",
     "shell.execute_reply": "2021-11-11T01:58:43.100543Z"
    },
    "papermill": {
     "duration": 0.053393,
     "end_time": "2021-11-11T01:58:43.101291",
     "exception": false,
     "start_time": "2021-11-11T01:58:43.047898",
     "status": "completed"
    },
    "tags": []
   },
   "outputs": [],
   "source": [
    "#hide\n",
    "#df_all_mrk = read_api()"
   ]
  },
  {
   "cell_type": "code",
   "execution_count": 9,
   "id": "delayed-adapter",
   "metadata": {
    "execution": {
     "iopub.execute_input": "2021-11-11T01:58:43.138920Z",
     "iopub.status.busy": "2021-11-11T01:58:43.138313Z",
     "iopub.status.idle": "2021-11-11T01:58:43.163708Z",
     "shell.execute_reply": "2021-11-11T01:58:43.164137Z"
    },
    "papermill": {
     "duration": 0.046467,
     "end_time": "2021-11-11T01:58:43.164263",
     "exception": false,
     "start_time": "2021-11-11T01:58:43.117796",
     "status": "completed"
    },
    "tags": []
   },
   "outputs": [],
   "source": [
    "#hide\n",
    "#Koreliacijų koeficientai"
   ]
  },
  {
   "cell_type": "code",
   "execution_count": 10,
   "id": "seeing-celebration",
   "metadata": {
    "execution": {
     "iopub.execute_input": "2021-11-11T01:58:43.206472Z",
     "iopub.status.busy": "2021-11-11T01:58:43.203946Z",
     "iopub.status.idle": "2021-11-11T01:58:43.233233Z",
     "shell.execute_reply": "2021-11-11T01:58:43.232722Z"
    },
    "papermill": {
     "duration": 0.049509,
     "end_time": "2021-11-11T01:58:43.233347",
     "exception": false,
     "start_time": "2021-11-11T01:58:43.183838",
     "status": "completed"
    },
    "tags": []
   },
   "outputs": [],
   "source": [
    "#hide_input\n",
    "#sum_corr = df_all_mrk.corr().sum().sort_values(ascending=True).index.values\n",
    "#df_all_mrk[sum_corr].corr()"
   ]
  },
  {
   "cell_type": "code",
   "execution_count": 11,
   "id": "other-painting",
   "metadata": {
    "execution": {
     "iopub.execute_input": "2021-11-11T01:58:43.269020Z",
     "iopub.status.busy": "2021-11-11T01:58:43.268181Z",
     "iopub.status.idle": "2021-11-11T01:58:43.296898Z",
     "shell.execute_reply": "2021-11-11T01:58:43.297445Z"
    },
    "papermill": {
     "duration": 0.048716,
     "end_time": "2021-11-11T01:58:43.297702",
     "exception": false,
     "start_time": "2021-11-11T01:58:43.248986",
     "status": "completed"
    },
    "tags": []
   },
   "outputs": [],
   "source": [
    "#hide\n",
    "#Koreliacijos matrica. "
   ]
  },
  {
   "cell_type": "code",
   "execution_count": 12,
   "id": "modular-magnitude",
   "metadata": {
    "execution": {
     "iopub.execute_input": "2021-11-11T01:58:43.334953Z",
     "iopub.status.busy": "2021-11-11T01:58:43.334216Z",
     "iopub.status.idle": "2021-11-11T01:58:43.363562Z",
     "shell.execute_reply": "2021-11-11T01:58:43.363004Z"
    },
    "papermill": {
     "duration": 0.049961,
     "end_time": "2021-11-11T01:58:43.363777",
     "exception": false,
     "start_time": "2021-11-11T01:58:43.313816",
     "status": "completed"
    },
    "tags": []
   },
   "outputs": [],
   "source": [
    "#hide_input\n",
    "#plt.figure(figsize=(15, 8))\n",
    "#sns.heatmap(df_all_mrk[sum_corr].corr(), annot=True, cmap=\"BrBG\");\n",
    "#plt.savefig('corr_matrix_all.eps', format='eps')"
   ]
  },
  {
   "cell_type": "code",
   "execution_count": null,
   "id": "original-senator",
   "metadata": {
    "papermill": {
     "duration": 0.017553,
     "end_time": "2021-11-11T01:58:43.398235",
     "exception": false,
     "start_time": "2021-11-11T01:58:43.380682",
     "status": "completed"
    },
    "tags": []
   },
   "outputs": [],
   "source": []
  },
  {
   "cell_type": "code",
   "execution_count": null,
   "id": "saving-secretariat",
   "metadata": {
    "papermill": {
     "duration": 0.015913,
     "end_time": "2021-11-11T01:58:43.430063",
     "exception": false,
     "start_time": "2021-11-11T01:58:43.414150",
     "status": "completed"
    },
    "tags": []
   },
   "outputs": [],
   "source": []
  }
 ],
 "metadata": {
  "kernelspec": {
   "display_name": "Python 3",
   "language": "python",
   "name": "python3"
  },
  "language_info": {
   "codemirror_mode": {
    "name": "ipython",
    "version": 3
   },
   "file_extension": ".py",
   "mimetype": "text/x-python",
   "name": "python",
   "nbconvert_exporter": "python",
   "pygments_lexer": "ipython3",
   "version": "3.6.15"
  },
  "papermill": {
   "default_parameters": {},
   "duration": 17.36019,
   "end_time": "2021-11-11T01:58:43.957584",
   "environment_variables": {},
   "exception": null,
   "input_path": "App-Correlation_charts.ipynb",
   "output_path": "App-Correlation_charts.ipynb",
   "parameters": {},
   "start_time": "2021-11-11T01:58:26.597394",
   "version": "2.2.2"
  }
 },
 "nbformat": 4,
 "nbformat_minor": 5
}