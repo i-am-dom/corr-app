{
 "cells": [
  {
   "cell_type": "markdown",
   "id": "touched-facility",
   "metadata": {
    "papermill": {
     "duration": 0.018119,
     "end_time": "2022-11-08T03:00:55.946356",
     "exception": false,
     "start_time": "2022-11-08T03:00:55.928237",
     "status": "completed"
    },
    "tags": []
   },
   "source": [
    "# Koreliacijų matrica\n",
    "> Išplėstinė koreliacijų matrica. \n",
    "\n",
    "- toc: true \n",
    "- badges: true\n",
    "- comments: false\n",
    "- categories: [Dominykas Tautkus]\n",
    "- image: images/matrix.png"
   ]
  },
  {
   "cell_type": "code",
   "execution_count": null,
   "id": "premium-weekend",
   "metadata": {
    "papermill": {
     "duration": 0.013573,
     "end_time": "2022-11-08T03:00:55.974304",
     "exception": false,
     "start_time": "2022-11-08T03:00:55.960731",
     "status": "completed"
    },
    "tags": []
   },
   "outputs": [],
   "source": []
  },
  {
   "cell_type": "code",
   "execution_count": 1,
   "id": "vertical-rebate",
   "metadata": {
    "execution": {
     "iopub.execute_input": "2022-11-08T03:00:56.013661Z",
     "iopub.status.busy": "2022-11-08T03:00:56.010363Z",
     "iopub.status.idle": "2022-11-08T03:00:56.027244Z",
     "shell.execute_reply": "2022-11-08T03:00:56.026612Z"
    },
    "papermill": {
     "duration": 0.038551,
     "end_time": "2022-11-08T03:00:56.027403",
     "exception": false,
     "start_time": "2022-11-08T03:00:55.988852",
     "status": "completed"
    },
    "tags": []
   },
   "outputs": [],
   "source": [
    "#hide\n",
    "%load_ext autoreload\n",
    "%autoreload 2"
   ]
  },
  {
   "cell_type": "code",
   "execution_count": 2,
   "id": "overall-advancement",
   "metadata": {
    "execution": {
     "iopub.execute_input": "2022-11-08T03:00:56.061143Z",
     "iopub.status.busy": "2022-11-08T03:00:56.060397Z",
     "iopub.status.idle": "2022-11-08T03:00:57.894084Z",
     "shell.execute_reply": "2022-11-08T03:00:57.893467Z"
    },
    "papermill": {
     "duration": 1.852604,
     "end_time": "2022-11-08T03:00:57.894236",
     "exception": false,
     "start_time": "2022-11-08T03:00:56.041632",
     "status": "completed"
    },
    "tags": []
   },
   "outputs": [],
   "source": [
    "#hide\n",
    "from scripts.read_data import read_api\n",
    "from IPython.display import HTML\n",
    "import plotly.graph_objects as go\n"
   ]
  },
  {
   "cell_type": "code",
   "execution_count": 3,
   "id": "light-crazy",
   "metadata": {
    "execution": {
     "iopub.execute_input": "2022-11-08T03:00:57.926895Z",
     "iopub.status.busy": "2022-11-08T03:00:57.926132Z",
     "iopub.status.idle": "2022-11-08T03:00:57.954136Z",
     "shell.execute_reply": "2022-11-08T03:00:57.953093Z"
    },
    "papermill": {
     "duration": 0.046745,
     "end_time": "2022-11-08T03:00:57.954288",
     "exception": false,
     "start_time": "2022-11-08T03:00:57.907543",
     "status": "completed"
    },
    "tags": []
   },
   "outputs": [],
   "source": [
    "#hide\n",
    "### ICO koreliacija"
   ]
  },
  {
   "cell_type": "code",
   "execution_count": 4,
   "id": "likely-bahrain",
   "metadata": {
    "execution": {
     "iopub.execute_input": "2022-11-08T03:00:57.988745Z",
     "iopub.status.busy": "2022-11-08T03:00:57.985390Z",
     "iopub.status.idle": "2022-11-08T03:00:59.044454Z",
     "shell.execute_reply": "2022-11-08T03:00:59.045026Z"
    },
    "papermill": {
     "duration": 1.077354,
     "end_time": "2022-11-08T03:00:59.045203",
     "exception": false,
     "start_time": "2022-11-08T03:00:57.967849",
     "status": "completed"
    },
    "tags": []
   },
   "outputs": [],
   "source": [
    "#hide\n",
    "import matplotlib.pyplot as plt\n",
    "import numpy as np\n",
    "import pandas as pd\n",
    "import seaborn as sns\n",
    "import matplotlib.pyplot as plt \n",
    "import matplotlib.dates as mdates\n",
    "import matplotlib.pyplot as plt"
   ]
  },
  {
   "cell_type": "code",
   "execution_count": 5,
   "id": "superior-blanket",
   "metadata": {
    "execution": {
     "iopub.execute_input": "2022-11-08T03:00:59.079009Z",
     "iopub.status.busy": "2022-11-08T03:00:59.078256Z",
     "iopub.status.idle": "2022-11-08T03:01:12.983007Z",
     "shell.execute_reply": "2022-11-08T03:01:12.982276Z"
    },
    "papermill": {
     "duration": 13.923811,
     "end_time": "2022-11-08T03:01:12.983162",
     "exception": false,
     "start_time": "2022-11-08T03:00:59.059351",
     "status": "completed"
    },
    "tags": []
   },
   "outputs": [
    {
     "name": "stderr",
     "output_type": "stream",
     "text": [
      "/home/runner/work/corr-app/corr-app/_notebooks/scripts/read_data.py:187: SettingWithCopyWarning:\n",
      "\n",
      "\n",
      "A value is trying to be set on a copy of a slice from a DataFrame.\n",
      "Try using .loc[row_indexer,col_indexer] = value instead\n",
      "\n",
      "See the caveats in the documentation: https://pandas.pydata.org/pandas-docs/stable/user_guide/indexing.html#returning-a-view-versus-a-copy\n",
      "\n"
     ]
    },
    {
     "name": "stderr",
     "output_type": "stream",
     "text": [
      "/home/runner/work/corr-app/corr-app/_notebooks/scripts/read_data.py:215: SettingWithCopyWarning:\n",
      "\n",
      "\n",
      "A value is trying to be set on a copy of a slice from a DataFrame.\n",
      "Try using .loc[row_indexer,col_indexer] = value instead\n",
      "\n",
      "See the caveats in the documentation: https://pandas.pydata.org/pandas-docs/stable/user_guide/indexing.html#returning-a-view-versus-a-copy\n",
      "\n"
     ]
    }
   ],
   "source": [
    "#hide\n",
    "df_all = read_api()\n",
    "#df_all = df_all.drop(['SP500', 'XAU', 'ETH', 'BTC'], axis=1)\n",
    "\n"
   ]
  },
  {
   "cell_type": "code",
   "execution_count": 6,
   "id": "mature-alert",
   "metadata": {
    "execution": {
     "iopub.execute_input": "2022-11-08T03:01:13.019365Z",
     "iopub.status.busy": "2022-11-08T03:01:13.018602Z",
     "iopub.status.idle": "2022-11-08T03:01:13.056411Z",
     "shell.execute_reply": "2022-11-08T03:01:13.055753Z"
    },
    "papermill": {
     "duration": 0.057489,
     "end_time": "2022-11-08T03:01:13.056625",
     "exception": false,
     "start_time": "2022-11-08T03:01:12.999136",
     "status": "completed"
    },
    "tags": []
   },
   "outputs": [],
   "source": [
    "#hide_input\n",
    "sum_corr = df_all.corr().sum().sort_values(ascending=True).index.values\n",
    "#df_all[sum_corr].corr()"
   ]
  },
  {
   "cell_type": "markdown",
   "id": "complex-syndicate",
   "metadata": {
    "papermill": {
     "duration": 0.014497,
     "end_time": "2022-11-08T03:01:13.086450",
     "exception": false,
     "start_time": "2022-11-08T03:01:13.071953",
     "status": "completed"
    },
    "tags": []
   },
   "source": [
    "## Išplėstinė koreliacijų matrica. "
   ]
  },
  {
   "cell_type": "code",
   "execution_count": 7,
   "id": "atomic-omaha",
   "metadata": {
    "execution": {
     "iopub.execute_input": "2022-11-08T03:01:13.120828Z",
     "iopub.status.busy": "2022-11-08T03:01:13.120008Z",
     "iopub.status.idle": "2022-11-08T03:01:14.823107Z",
     "shell.execute_reply": "2022-11-08T03:01:14.823704Z"
    },
    "papermill": {
     "duration": 1.723249,
     "end_time": "2022-11-08T03:01:14.823884",
     "exception": false,
     "start_time": "2022-11-08T03:01:13.100635",
     "status": "completed"
    },
    "tags": []
   },
   "outputs": [
    {
     "data": {
      "image/png": "[encoded data removed]",
      "text/plain": [
       "<Figure size 1080x792 with 2 Axes>"
      ]
     },
     "metadata": {
      "needs_background": "light"
     },
     "output_type": "display_data"
    }
   ],
   "source": [
    "#hide_input\n",
    "plt.figure(figsize=(15, 11))\n",
    "sns.heatmap(df_all[sum_corr].corr(), annot=True, cmap=\"cubehelix\") \n",
    "sns.set(font_scale=1.25)\n",
    "plt.savefig('corr_matrix.png', format='eps')"
   ]
  },
  {
   "cell_type": "code",
   "execution_count": 8,
   "id": "arbitrary-sullivan",
   "metadata": {
    "execution": {
     "iopub.execute_input": "2022-11-08T03:01:14.865095Z",
     "iopub.status.busy": "2022-11-08T03:01:14.864227Z",
     "iopub.status.idle": "2022-11-08T03:01:14.896919Z",
     "shell.execute_reply": "2022-11-08T03:01:14.897501Z"
    },
    "papermill": {
     "duration": 0.056295,
     "end_time": "2022-11-08T03:01:14.897801",
     "exception": false,
     "start_time": "2022-11-08T03:01:14.841506",
     "status": "completed"
    },
    "tags": []
   },
   "outputs": [],
   "source": [
    "#hide\n",
    "#df_all_mrk = read_api()"
   ]
  },
  {
   "cell_type": "code",
   "execution_count": 9,
   "id": "delayed-adapter",
   "metadata": {
    "execution": {
     "iopub.execute_input": "2022-11-08T03:01:14.936678Z",
     "iopub.status.busy": "2022-11-08T03:01:14.935921Z",
     "iopub.status.idle": "2022-11-08T03:01:14.970838Z",
     "shell.execute_reply": "2022-11-08T03:01:14.971455Z"
    },
    "papermill": {
     "duration": 0.057444,
     "end_time": "2022-11-08T03:01:14.971628",
     "exception": false,
     "start_time": "2022-11-08T03:01:14.914184",
     "status": "completed"
    },
    "tags": []
   },
   "outputs": [],
   "source": [
    "#hide\n",
    "#Koreliacijų koeficientai"
   ]
  },
  {
   "cell_type": "code",
   "execution_count": 10,
   "id": "seeing-celebration",
   "metadata": {
    "execution": {
     "iopub.execute_input": "2022-11-08T03:01:15.012408Z",
     "iopub.status.busy": "2022-11-08T03:01:15.011623Z",
     "iopub.status.idle": "2022-11-08T03:01:15.043541Z",
     "shell.execute_reply": "2022-11-08T03:01:15.044135Z"
    },
    "papermill": {
     "duration": 0.054035,
     "end_time": "2022-11-08T03:01:15.044306",
     "exception": false,
     "start_time": "2022-11-08T03:01:14.990271",
     "status": "completed"
    },
    "tags": []
   },
   "outputs": [],
   "source": [
    "#hide_input\n",
    "#sum_corr = df_all_mrk.corr().sum().sort_values(ascending=True).index.values\n",
    "#df_all_mrk[sum_corr].corr()"
   ]
  },
  {
   "cell_type": "code",
   "execution_count": 11,
   "id": "other-painting",
   "metadata": {
    "execution": {
     "iopub.execute_input": "2022-11-08T03:01:15.083805Z",
     "iopub.status.busy": "2022-11-08T03:01:15.082862Z",
     "iopub.status.idle": "2022-11-08T03:01:15.115206Z",
     "shell.execute_reply": "2022-11-08T03:01:15.115811Z"
    },
    "papermill": {
     "duration": 0.054979,
     "end_time": "2022-11-08T03:01:15.115985",
     "exception": false,
     "start_time": "2022-11-08T03:01:15.061006",
     "status": "completed"
    },
    "tags": []
   },
   "outputs": [],
   "source": [
    "#hide\n",
    "#Koreliacijos matrica. "
   ]
  },
  {
   "cell_type": "code",
   "execution_count": 12,
   "id": "modular-magnitude",
   "metadata": {
    "execution": {
     "iopub.execute_input": "2022-11-08T03:01:15.153644Z",
     "iopub.status.busy": "2022-11-08T03:01:15.152889Z",
     "iopub.status.idle": "2022-11-08T03:01:15.185411Z",
     "shell.execute_reply": "2022-11-08T03:01:15.186099Z"
    },
    "papermill": {
     "duration": 0.053782,
     "end_time": "2022-11-08T03:01:15.186275",
     "exception": false,
     "start_time": "2022-11-08T03:01:15.132493",
     "status": "completed"
    },
    "tags": []
   },
   "outputs": [],
   "source": [
    "#hide_input\n",
    "#plt.figure(figsize=(15, 8))\n",
    "#sns.heatmap(df_all_mrk[sum_corr].corr(), annot=True, cmap=\"BrBG\");\n",
    "#plt.savefig('corr_matrix_all.eps', format='eps')"
   ]
  },
  {
   "cell_type": "code",
   "execution_count": null,
   "id": "original-senator",
   "metadata": {
    "papermill": {
     "duration": 0.016511,
     "end_time": "2022-11-08T03:01:15.219509",
     "exception": false,
     "start_time": "2022-11-08T03:01:15.202998",
     "status": "completed"
    },
    "tags": []
   },
   "outputs": [],
   "source": []
  },
  {
   "cell_type": "code",
   "execution_count": null,
   "id": "saving-secretariat",
   "metadata": {
    "papermill": {
     "duration": 0.017803,
     "end_time": "2022-11-08T03:01:15.253871",
     "exception": false,
     "start_time": "2022-11-08T03:01:15.236068",
     "status": "completed"
    },
    "tags": []
   },
   "outputs": [],
   "source": []
  }
 ],
 "metadata": {
  "kernelspec": {
   "display_name": "Python 3",
   "language": "python",
   "name": "python3"
  },
  "language_info": {
   "codemirror_mode": {
    "name": "ipython",
    "version": 3
   },
   "file_extension": ".py",
   "mimetype": "text/x-python",
   "name": "python",
   "nbconvert_exporter": "python",
   "pygments_lexer": "ipython3",
   "version": "3.6.15"
  },
  "papermill": {
   "default_parameters": {},
   "duration": 21.3215,
   "end_time": "2022-11-08T03:01:15.890697",
   "environment_variables": {},
   "exception": null,
   "input_path": "App-Correlation_charts.ipynb",
   "output_path": "App-Correlation_charts.ipynb",
   "parameters": {},
   "start_time": "2022-11-08T03:00:54.569197",
   "version": "2.2.2"
  }
 },
 "nbformat": 4,
 "nbformat_minor": 5
}