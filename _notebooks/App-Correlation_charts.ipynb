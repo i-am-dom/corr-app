{
 "cells": [
  {
   "cell_type": "markdown",
   "id": "touched-facility",
   "metadata": {
    "papermill": {
     "duration": 0.01783,
     "end_time": "2021-11-06T01:55:19.005455",
     "exception": false,
     "start_time": "2021-11-06T01:55:18.987625",
     "status": "completed"
    },
    "tags": []
   },
   "source": [
    "# Koreliacijų matrica\n",
    "> Išplėstinė koreliacijų matrica. \n",
    "\n",
    "- toc: true \n",
    "- badges: true\n",
    "- comments: false\n",
    "- categories: [Dominykas Tautkus]\n",
    "- image: images/matrix.png"
   ]
  },
  {
   "cell_type": "code",
   "execution_count": null,
   "id": "premium-weekend",
   "metadata": {
    "papermill": {
     "duration": 0.012535,
     "end_time": "2021-11-06T01:55:19.031300",
     "exception": false,
     "start_time": "2021-11-06T01:55:19.018765",
     "status": "completed"
    },
    "tags": []
   },
   "outputs": [],
   "source": []
  },
  {
   "cell_type": "code",
   "execution_count": 1,
   "id": "vertical-rebate",
   "metadata": {
    "execution": {
     "iopub.execute_input": "2021-11-06T01:55:19.067845Z",
     "iopub.status.busy": "2021-11-06T01:55:19.064040Z",
     "iopub.status.idle": "2021-11-06T01:55:19.081630Z",
     "shell.execute_reply": "2021-11-06T01:55:19.079417Z"
    },
    "papermill": {
     "duration": 0.038289,
     "end_time": "2021-11-06T01:55:19.081817",
     "exception": false,
     "start_time": "2021-11-06T01:55:19.043528",
     "status": "completed"
    },
    "tags": []
   },
   "outputs": [],
   "source": [
    "#hide\n",
    "%load_ext autoreload\n",
    "%autoreload 2"
   ]
  },
  {
   "cell_type": "code",
   "execution_count": 2,
   "id": "overall-advancement",
   "metadata": {
    "execution": {
     "iopub.execute_input": "2021-11-06T01:55:19.113450Z",
     "iopub.status.busy": "2021-11-06T01:55:19.112717Z",
     "iopub.status.idle": "2021-11-06T01:55:20.646382Z",
     "shell.execute_reply": "2021-11-06T01:55:20.645845Z"
    },
    "papermill": {
     "duration": 1.552325,
     "end_time": "2021-11-06T01:55:20.646526",
     "exception": false,
     "start_time": "2021-11-06T01:55:19.094201",
     "status": "completed"
    },
    "tags": []
   },
   "outputs": [],
   "source": [
    "#hide\n",
    "from scripts.read_data import read_api\n",
    "from IPython.display import HTML\n",
    "import plotly.graph_objects as go\n"
   ]
  },
  {
   "cell_type": "code",
   "execution_count": 3,
   "id": "light-crazy",
   "metadata": {
    "execution": {
     "iopub.execute_input": "2021-11-06T01:55:20.680642Z",
     "iopub.status.busy": "2021-11-06T01:55:20.678681Z",
     "iopub.status.idle": "2021-11-06T01:55:20.704273Z",
     "shell.execute_reply": "2021-11-06T01:55:20.703691Z"
    },
    "papermill": {
     "duration": 0.044651,
     "end_time": "2021-11-06T01:55:20.704407",
     "exception": false,
     "start_time": "2021-11-06T01:55:20.659756",
     "status": "completed"
    },
    "tags": []
   },
   "outputs": [],
   "source": [
    "#hide\n",
    "### ICO koreliacija"
   ]
  },
  {
   "cell_type": "code",
   "execution_count": 4,
   "id": "likely-bahrain",
   "metadata": {
    "execution": {
     "iopub.execute_input": "2021-11-06T01:55:20.736129Z",
     "iopub.status.busy": "2021-11-06T01:55:20.735516Z",
     "iopub.status.idle": "2021-11-06T01:55:21.778227Z",
     "shell.execute_reply": "2021-11-06T01:55:21.777680Z"
    },
    "papermill": {
     "duration": 1.060577,
     "end_time": "2021-11-06T01:55:21.778374",
     "exception": false,
     "start_time": "2021-11-06T01:55:20.717797",
     "status": "completed"
    },
    "tags": []
   },
   "outputs": [],
   "source": [
    "#hide\n",
    "import matplotlib.pyplot as plt\n",
    "import numpy as np\n",
    "import pandas as pd\n",
    "import seaborn as sns\n",
    "import matplotlib.pyplot as plt \n",
    "import matplotlib.dates as mdates\n",
    "import matplotlib.pyplot as plt"
   ]
  },
  {
   "cell_type": "code",
   "execution_count": 5,
   "id": "superior-blanket",
   "metadata": {
    "execution": {
     "iopub.execute_input": "2021-11-06T01:55:21.813900Z",
     "iopub.status.busy": "2021-11-06T01:55:21.813085Z",
     "iopub.status.idle": "2021-11-06T01:55:38.755515Z",
     "shell.execute_reply": "2021-11-06T01:55:38.756102Z"
    },
    "papermill": {
     "duration": 16.96413,
     "end_time": "2021-11-06T01:55:38.756278",
     "exception": false,
     "start_time": "2021-11-06T01:55:21.792148",
     "status": "completed"
    },
    "tags": []
   },
   "outputs": [
    {
     "name": "stderr",
     "output_type": "stream",
     "text": [
      "/home/runner/work/corr-app/corr-app/_notebooks/scripts/read_data.py:187: SettingWithCopyWarning:\n",
      "\n",
      "\n",
      "A value is trying to be set on a copy of a slice from a DataFrame.\n",
      "Try using .loc[row_indexer,col_indexer] = value instead\n",
      "\n",
      "See the caveats in the documentation: https://pandas.pydata.org/pandas-docs/stable/user_guide/indexing.html#returning-a-view-versus-a-copy\n",
      "\n"
     ]
    },
    {
     "name": "stderr",
     "output_type": "stream",
     "text": [
      "/home/runner/work/corr-app/corr-app/_notebooks/scripts/read_data.py:215: SettingWithCopyWarning:\n",
      "\n",
      "\n",
      "A value is trying to be set on a copy of a slice from a DataFrame.\n",
      "Try using .loc[row_indexer,col_indexer] = value instead\n",
      "\n",
      "See the caveats in the documentation: https://pandas.pydata.org/pandas-docs/stable/user_guide/indexing.html#returning-a-view-versus-a-copy\n",
      "\n"
     ]
    }
   ],
   "source": [
    "#hide\n",
    "df_all = read_api()\n",
    "#df_all = df_all.drop(['SP500', 'XAU', 'ETH', 'BTC'], axis=1)\n",
    "\n"
   ]
  },
  {
   "cell_type": "code",
   "execution_count": 6,
   "id": "mature-alert",
   "metadata": {
    "execution": {
     "iopub.execute_input": "2021-11-06T01:55:38.792052Z",
     "iopub.status.busy": "2021-11-06T01:55:38.791382Z",
     "iopub.status.idle": "2021-11-06T01:55:38.832010Z",
     "shell.execute_reply": "2021-11-06T01:55:38.831439Z"
    },
    "papermill": {
     "duration": 0.062114,
     "end_time": "2021-11-06T01:55:38.832159",
     "exception": false,
     "start_time": "2021-11-06T01:55:38.770045",
     "status": "completed"
    },
    "tags": []
   },
   "outputs": [],
   "source": [
    "#hide_input\n",
    "sum_corr = df_all.corr().sum().sort_values(ascending=True).index.values\n",
    "#df_all[sum_corr].corr()"
   ]
  },
  {
   "cell_type": "markdown",
   "id": "complex-syndicate",
   "metadata": {
    "papermill": {
     "duration": 0.018163,
     "end_time": "2021-11-06T01:55:38.864361",
     "exception": false,
     "start_time": "2021-11-06T01:55:38.846198",
     "status": "completed"
    },
    "tags": []
   },
   "source": [
    "## Išplėstinė koreliacijų matrica. "
   ]
  },
  {
   "cell_type": "code",
   "execution_count": 7,
   "id": "atomic-omaha",
   "metadata": {
    "execution": {
     "iopub.execute_input": "2021-11-06T01:55:38.903387Z",
     "iopub.status.busy": "2021-11-06T01:55:38.902731Z",
     "iopub.status.idle": "2021-11-06T01:55:40.383304Z",
     "shell.execute_reply": "2021-11-06T01:55:40.382779Z"
    },
    "papermill": {
     "duration": 1.505122,
     "end_time": "2021-11-06T01:55:40.383446",
     "exception": false,
     "start_time": "2021-11-06T01:55:38.878324",
     "status": "completed"
    },
    "tags": []
   },
   "outputs": [
    {
     "data": {
      "image/png": "[encoded data removed]",
      "text/plain": [
       "<Figure size 1080x792 with 2 Axes>"
      ]
     },
     "metadata": {
      "needs_background": "light"
     },
     "output_type": "display_data"
    }
   ],
   "source": [
    "#hide_input\n",
    "plt.figure(figsize=(15, 11))\n",
    "sns.heatmap(df_all[sum_corr].corr(), annot=True, cmap=\"cubehelix\") \n",
    "sns.set(font_scale=1.25)\n",
    "plt.savefig('corr_matrix.png', format='eps')"
   ]
  },
  {
   "cell_type": "code",
   "execution_count": 8,
   "id": "arbitrary-sullivan",
   "metadata": {
    "execution": {
     "iopub.execute_input": "2021-11-06T01:55:40.419752Z",
     "iopub.status.busy": "2021-11-06T01:55:40.419135Z",
     "iopub.status.idle": "2021-11-06T01:55:40.453833Z",
     "shell.execute_reply": "2021-11-06T01:55:40.452919Z"
    },
    "papermill": {
     "duration": 0.054664,
     "end_time": "2021-11-06T01:55:40.454045",
     "exception": false,
     "start_time": "2021-11-06T01:55:40.399381",
     "status": "completed"
    },
    "tags": []
   },
   "outputs": [],
   "source": [
    "#hide\n",
    "#df_all_mrk = read_api()"
   ]
  },
  {
   "cell_type": "code",
   "execution_count": 9,
   "id": "delayed-adapter",
   "metadata": {
    "execution": {
     "iopub.execute_input": "2021-11-06T01:55:40.491905Z",
     "iopub.status.busy": "2021-11-06T01:55:40.491299Z",
     "iopub.status.idle": "2021-11-06T01:55:40.525538Z",
     "shell.execute_reply": "2021-11-06T01:55:40.524812Z"
    },
    "papermill": {
     "duration": 0.054026,
     "end_time": "2021-11-06T01:55:40.525725",
     "exception": false,
     "start_time": "2021-11-06T01:55:40.471699",
     "status": "completed"
    },
    "tags": []
   },
   "outputs": [],
   "source": [
    "#hide\n",
    "#Koreliacijų koeficientai"
   ]
  },
  {
   "cell_type": "code",
   "execution_count": 10,
   "id": "seeing-celebration",
   "metadata": {
    "execution": {
     "iopub.execute_input": "2021-11-06T01:55:40.563804Z",
     "iopub.status.busy": "2021-11-06T01:55:40.563191Z",
     "iopub.status.idle": "2021-11-06T01:55:40.596748Z",
     "shell.execute_reply": "2021-11-06T01:55:40.595786Z"
    },
    "papermill": {
     "duration": 0.054213,
     "end_time": "2021-11-06T01:55:40.596969",
     "exception": false,
     "start_time": "2021-11-06T01:55:40.542756",
     "status": "completed"
    },
    "tags": []
   },
   "outputs": [],
   "source": [
    "#hide_input\n",
    "#sum_corr = df_all_mrk.corr().sum().sort_values(ascending=True).index.values\n",
    "#df_all_mrk[sum_corr].corr()"
   ]
  },
  {
   "cell_type": "code",
   "execution_count": 11,
   "id": "other-painting",
   "metadata": {
    "execution": {
     "iopub.execute_input": "2021-11-06T01:55:40.634536Z",
     "iopub.status.busy": "2021-11-06T01:55:40.633916Z",
     "iopub.status.idle": "2021-11-06T01:55:40.666810Z",
     "shell.execute_reply": "2021-11-06T01:55:40.665934Z"
    },
    "papermill": {
     "duration": 0.053016,
     "end_time": "2021-11-06T01:55:40.667029",
     "exception": false,
     "start_time": "2021-11-06T01:55:40.614013",
     "status": "completed"
    },
    "tags": []
   },
   "outputs": [],
   "source": [
    "#hide\n",
    "#Koreliacijos matrica. "
   ]
  },
  {
   "cell_type": "code",
   "execution_count": 12,
   "id": "modular-magnitude",
   "metadata": {
    "execution": {
     "iopub.execute_input": "2021-11-06T01:55:40.704887Z",
     "iopub.status.busy": "2021-11-06T01:55:40.704200Z",
     "iopub.status.idle": "2021-11-06T01:55:40.740274Z",
     "shell.execute_reply": "2021-11-06T01:55:40.739692Z"
    },
    "papermill": {
     "duration": 0.055494,
     "end_time": "2021-11-06T01:55:40.740415",
     "exception": false,
     "start_time": "2021-11-06T01:55:40.684921",
     "status": "completed"
    },
    "tags": []
   },
   "outputs": [],
   "source": [
    "#hide_input\n",
    "#plt.figure(figsize=(15, 8))\n",
    "#sns.heatmap(df_all_mrk[sum_corr].corr(), annot=True, cmap=\"BrBG\");\n",
    "#plt.savefig('corr_matrix_all.eps', format='eps')"
   ]
  },
  {
   "cell_type": "code",
   "execution_count": null,
   "id": "original-senator",
   "metadata": {
    "papermill": {
     "duration": 0.016734,
     "end_time": "2021-11-06T01:55:40.773286",
     "exception": false,
     "start_time": "2021-11-06T01:55:40.756552",
     "status": "completed"
    },
    "tags": []
   },
   "outputs": [],
   "source": []
  },
  {
   "cell_type": "code",
   "execution_count": null,
   "id": "saving-secretariat",
   "metadata": {
    "papermill": {
     "duration": 0.018088,
     "end_time": "2021-11-06T01:55:40.810764",
     "exception": false,
     "start_time": "2021-11-06T01:55:40.792676",
     "status": "completed"
    },
    "tags": []
   },
   "outputs": [],
   "source": []
  }
 ],
 "metadata": {
  "kernelspec": {
   "display_name": "Python 3",
   "language": "python",
   "name": "python3"
  },
  "language_info": {
   "codemirror_mode": {
    "name": "ipython",
    "version": 3
   },
   "file_extension": ".py",
   "mimetype": "text/x-python",
   "name": "python",
   "nbconvert_exporter": "python",
   "pygments_lexer": "ipython3",
   "version": "3.6.15"
  },
  "papermill": {
   "default_parameters": {},
   "duration": 23.55464,
   "end_time": "2021-11-06T01:55:41.446381",
   "environment_variables": {},
   "exception": null,
   "input_path": "App-Correlation_charts.ipynb",
   "output_path": "App-Correlation_charts.ipynb",
   "parameters": {},
   "start_time": "2021-11-06T01:55:17.891741",
   "version": "2.2.2"
  }
 },
 "nbformat": 4,
 "nbformat_minor": 5
}