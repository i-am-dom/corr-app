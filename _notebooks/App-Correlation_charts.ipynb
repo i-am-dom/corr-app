{
 "cells": [
  {
   "cell_type": "markdown",
   "id": "touched-facility",
   "metadata": {
    "papermill": {
     "duration": 0.017706,
     "end_time": "2021-08-25T01:54:36.852031",
     "exception": false,
     "start_time": "2021-08-25T01:54:36.834325",
     "status": "completed"
    },
    "tags": []
   },
   "source": [
    "# Koreliacijų matrica\n",
    "> Išplėstinė koreliacijų matrica. \n",
    "\n",
    "- toc: true \n",
    "- badges: true\n",
    "- comments: false\n",
    "- categories: [Dominykas Tautkus]\n",
    "- image: images/matrix.png"
   ]
  },
  {
   "cell_type": "code",
   "execution_count": null,
   "id": "premium-weekend",
   "metadata": {
    "papermill": {
     "duration": 0.012111,
     "end_time": "2021-08-25T01:54:36.877531",
     "exception": false,
     "start_time": "2021-08-25T01:54:36.865420",
     "status": "completed"
    },
    "tags": []
   },
   "outputs": [],
   "source": []
  },
  {
   "cell_type": "code",
   "execution_count": 1,
   "id": "vertical-rebate",
   "metadata": {
    "execution": {
     "iopub.execute_input": "2021-08-25T01:54:36.914994Z",
     "iopub.status.busy": "2021-08-25T01:54:36.914347Z",
     "iopub.status.idle": "2021-08-25T01:54:36.926730Z",
     "shell.execute_reply": "2021-08-25T01:54:36.926191Z"
    },
    "papermill": {
     "duration": 0.036779,
     "end_time": "2021-08-25T01:54:36.926882",
     "exception": false,
     "start_time": "2021-08-25T01:54:36.890103",
     "status": "completed"
    },
    "tags": []
   },
   "outputs": [],
   "source": [
    "#hide\n",
    "%load_ext autoreload\n",
    "%autoreload 2"
   ]
  },
  {
   "cell_type": "code",
   "execution_count": 2,
   "id": "overall-advancement",
   "metadata": {
    "execution": {
     "iopub.execute_input": "2021-08-25T01:54:36.954523Z",
     "iopub.status.busy": "2021-08-25T01:54:36.953934Z",
     "iopub.status.idle": "2021-08-25T01:54:38.412845Z",
     "shell.execute_reply": "2021-08-25T01:54:38.412305Z"
    },
    "papermill": {
     "duration": 1.47421,
     "end_time": "2021-08-25T01:54:38.412989",
     "exception": false,
     "start_time": "2021-08-25T01:54:36.938779",
     "status": "completed"
    },
    "tags": []
   },
   "outputs": [],
   "source": [
    "#hide\n",
    "from scripts.read_data import read_api\n",
    "from IPython.display import HTML\n",
    "import plotly.graph_objects as go\n"
   ]
  },
  {
   "cell_type": "code",
   "execution_count": 3,
   "id": "light-crazy",
   "metadata": {
    "execution": {
     "iopub.execute_input": "2021-08-25T01:54:38.442622Z",
     "iopub.status.busy": "2021-08-25T01:54:38.442017Z",
     "iopub.status.idle": "2021-08-25T01:54:38.467806Z",
     "shell.execute_reply": "2021-08-25T01:54:38.467116Z"
    },
    "papermill": {
     "duration": 0.041893,
     "end_time": "2021-08-25T01:54:38.467981",
     "exception": false,
     "start_time": "2021-08-25T01:54:38.426088",
     "status": "completed"
    },
    "tags": []
   },
   "outputs": [],
   "source": [
    "#hide\n",
    "### ICO koreliacija"
   ]
  },
  {
   "cell_type": "code",
   "execution_count": 4,
   "id": "likely-bahrain",
   "metadata": {
    "execution": {
     "iopub.execute_input": "2021-08-25T01:54:38.498274Z",
     "iopub.status.busy": "2021-08-25T01:54:38.497679Z",
     "iopub.status.idle": "2021-08-25T01:54:39.583587Z",
     "shell.execute_reply": "2021-08-25T01:54:39.582644Z"
    },
    "papermill": {
     "duration": 1.10228,
     "end_time": "2021-08-25T01:54:39.583730",
     "exception": false,
     "start_time": "2021-08-25T01:54:38.481450",
     "status": "completed"
    },
    "tags": []
   },
   "outputs": [],
   "source": [
    "#hide\n",
    "import matplotlib.pyplot as plt\n",
    "import numpy as np\n",
    "import pandas as pd\n",
    "import seaborn as sns\n",
    "import matplotlib.pyplot as plt \n",
    "import matplotlib.dates as mdates\n",
    "import matplotlib.pyplot as plt"
   ]
  },
  {
   "cell_type": "code",
   "execution_count": 5,
   "id": "superior-blanket",
   "metadata": {
    "execution": {
     "iopub.execute_input": "2021-08-25T01:54:39.612373Z",
     "iopub.status.busy": "2021-08-25T01:54:39.611761Z",
     "iopub.status.idle": "2021-08-25T01:54:51.100556Z",
     "shell.execute_reply": "2021-08-25T01:54:51.099932Z"
    },
    "papermill": {
     "duration": 11.503996,
     "end_time": "2021-08-25T01:54:51.100713",
     "exception": false,
     "start_time": "2021-08-25T01:54:39.596717",
     "status": "completed"
    },
    "tags": []
   },
   "outputs": [
    {
     "name": "stderr",
     "output_type": "stream",
     "text": [
      "/home/runner/work/corr-app/corr-app/_notebooks/scripts/read_data.py:187: SettingWithCopyWarning:\n",
      "\n",
      "\n",
      "A value is trying to be set on a copy of a slice from a DataFrame.\n",
      "Try using .loc[row_indexer,col_indexer] = value instead\n",
      "\n",
      "See the caveats in the documentation: https://pandas.pydata.org/pandas-docs/stable/user_guide/indexing.html#returning-a-view-versus-a-copy\n",
      "\n"
     ]
    },
    {
     "name": "stderr",
     "output_type": "stream",
     "text": [
      "/home/runner/work/corr-app/corr-app/_notebooks/scripts/read_data.py:215: SettingWithCopyWarning:\n",
      "\n",
      "\n",
      "A value is trying to be set on a copy of a slice from a DataFrame.\n",
      "Try using .loc[row_indexer,col_indexer] = value instead\n",
      "\n",
      "See the caveats in the documentation: https://pandas.pydata.org/pandas-docs/stable/user_guide/indexing.html#returning-a-view-versus-a-copy\n",
      "\n"
     ]
    }
   ],
   "source": [
    "#hide\n",
    "df_all = read_api()\n",
    "#df_all = df_all.drop(['SP500', 'XAU', 'ETH', 'BTC'], axis=1)\n",
    "\n"
   ]
  },
  {
   "cell_type": "code",
   "execution_count": 6,
   "id": "mature-alert",
   "metadata": {
    "execution": {
     "iopub.execute_input": "2021-08-25T01:54:51.132418Z",
     "iopub.status.busy": "2021-08-25T01:54:51.131790Z",
     "iopub.status.idle": "2021-08-25T01:54:51.166515Z",
     "shell.execute_reply": "2021-08-25T01:54:51.165861Z"
    },
    "papermill": {
     "duration": 0.051941,
     "end_time": "2021-08-25T01:54:51.166691",
     "exception": false,
     "start_time": "2021-08-25T01:54:51.114750",
     "status": "completed"
    },
    "tags": []
   },
   "outputs": [],
   "source": [
    "#hide_input\n",
    "sum_corr = df_all.corr().sum().sort_values(ascending=True).index.values\n",
    "#df_all[sum_corr].corr()"
   ]
  },
  {
   "cell_type": "markdown",
   "id": "complex-syndicate",
   "metadata": {
    "papermill": {
     "duration": 0.012623,
     "end_time": "2021-08-25T01:54:51.192602",
     "exception": false,
     "start_time": "2021-08-25T01:54:51.179979",
     "status": "completed"
    },
    "tags": []
   },
   "source": [
    "## Išplėstinė koreliacijų matrica. "
   ]
  },
  {
   "cell_type": "code",
   "execution_count": 7,
   "id": "atomic-omaha",
   "metadata": {
    "execution": {
     "iopub.execute_input": "2021-08-25T01:54:51.224270Z",
     "iopub.status.busy": "2021-08-25T01:54:51.223644Z",
     "iopub.status.idle": "2021-08-25T01:54:52.626182Z",
     "shell.execute_reply": "2021-08-25T01:54:52.625493Z"
    },
    "papermill": {
     "duration": 1.421023,
     "end_time": "2021-08-25T01:54:52.626332",
     "exception": false,
     "start_time": "2021-08-25T01:54:51.205309",
     "status": "completed"
    },
    "tags": []
   },
   "outputs": [
    {
     "data": {
      "image/png": "[encoded data removed]",
      "text/plain": [
       "<Figure size 1080x792 with 2 Axes>"
      ]
     },
     "metadata": {
      "needs_background": "light"
     },
     "output_type": "display_data"
    }
   ],
   "source": [
    "#hide_input\n",
    "plt.figure(figsize=(15, 11))\n",
    "sns.heatmap(df_all[sum_corr].corr(), annot=True, cmap=\"cubehelix\") \n",
    "sns.set(font_scale=1.25)\n",
    "plt.savefig('corr_matrix.png', format='eps')"
   ]
  },
  {
   "cell_type": "code",
   "execution_count": 8,
   "id": "arbitrary-sullivan",
   "metadata": {
    "execution": {
     "iopub.execute_input": "2021-08-25T01:54:52.663145Z",
     "iopub.status.busy": "2021-08-25T01:54:52.661452Z",
     "iopub.status.idle": "2021-08-25T01:54:52.689829Z",
     "shell.execute_reply": "2021-08-25T01:54:52.690380Z"
    },
    "papermill": {
     "duration": 0.048894,
     "end_time": "2021-08-25T01:54:52.690561",
     "exception": false,
     "start_time": "2021-08-25T01:54:52.641667",
     "status": "completed"
    },
    "tags": []
   },
   "outputs": [],
   "source": [
    "#hide\n",
    "#df_all_mrk = read_api()"
   ]
  },
  {
   "cell_type": "code",
   "execution_count": 9,
   "id": "delayed-adapter",
   "metadata": {
    "execution": {
     "iopub.execute_input": "2021-08-25T01:54:52.723929Z",
     "iopub.status.busy": "2021-08-25T01:54:52.723327Z",
     "iopub.status.idle": "2021-08-25T01:54:52.751963Z",
     "shell.execute_reply": "2021-08-25T01:54:52.751349Z"
    },
    "papermill": {
     "duration": 0.046444,
     "end_time": "2021-08-25T01:54:52.752109",
     "exception": false,
     "start_time": "2021-08-25T01:54:52.705665",
     "status": "completed"
    },
    "tags": []
   },
   "outputs": [],
   "source": [
    "#hide\n",
    "#Koreliacijų koeficientai"
   ]
  },
  {
   "cell_type": "code",
   "execution_count": 10,
   "id": "seeing-celebration",
   "metadata": {
    "execution": {
     "iopub.execute_input": "2021-08-25T01:54:52.786260Z",
     "iopub.status.busy": "2021-08-25T01:54:52.785672Z",
     "iopub.status.idle": "2021-08-25T01:54:52.814436Z",
     "shell.execute_reply": "2021-08-25T01:54:52.813900Z"
    },
    "papermill": {
     "duration": 0.047278,
     "end_time": "2021-08-25T01:54:52.814566",
     "exception": false,
     "start_time": "2021-08-25T01:54:52.767288",
     "status": "completed"
    },
    "tags": []
   },
   "outputs": [],
   "source": [
    "#hide_input\n",
    "#sum_corr = df_all_mrk.corr().sum().sort_values(ascending=True).index.values\n",
    "#df_all_mrk[sum_corr].corr()"
   ]
  },
  {
   "cell_type": "code",
   "execution_count": 11,
   "id": "other-painting",
   "metadata": {
    "execution": {
     "iopub.execute_input": "2021-08-25T01:54:52.852894Z",
     "iopub.status.busy": "2021-08-25T01:54:52.852284Z",
     "iopub.status.idle": "2021-08-25T01:54:52.879661Z",
     "shell.execute_reply": "2021-08-25T01:54:52.879132Z"
    },
    "papermill": {
     "duration": 0.049558,
     "end_time": "2021-08-25T01:54:52.879802",
     "exception": false,
     "start_time": "2021-08-25T01:54:52.830244",
     "status": "completed"
    },
    "tags": []
   },
   "outputs": [],
   "source": [
    "#hide\n",
    "#Koreliacijos matrica. "
   ]
  },
  {
   "cell_type": "code",
   "execution_count": 12,
   "id": "modular-magnitude",
   "metadata": {
    "execution": {
     "iopub.execute_input": "2021-08-25T01:54:52.914580Z",
     "iopub.status.busy": "2021-08-25T01:54:52.913980Z",
     "iopub.status.idle": "2021-08-25T01:54:52.943327Z",
     "shell.execute_reply": "2021-08-25T01:54:52.943897Z"
    },
    "papermill": {
     "duration": 0.048515,
     "end_time": "2021-08-25T01:54:52.944081",
     "exception": false,
     "start_time": "2021-08-25T01:54:52.895566",
     "status": "completed"
    },
    "tags": []
   },
   "outputs": [],
   "source": [
    "#hide_input\n",
    "#plt.figure(figsize=(15, 8))\n",
    "#sns.heatmap(df_all_mrk[sum_corr].corr(), annot=True, cmap=\"BrBG\");\n",
    "#plt.savefig('corr_matrix_all.eps', format='eps')"
   ]
  },
  {
   "cell_type": "code",
   "execution_count": null,
   "id": "original-senator",
   "metadata": {
    "papermill": {
     "duration": 0.014896,
     "end_time": "2021-08-25T01:54:52.974173",
     "exception": false,
     "start_time": "2021-08-25T01:54:52.959277",
     "status": "completed"
    },
    "tags": []
   },
   "outputs": [],
   "source": []
  },
  {
   "cell_type": "code",
   "execution_count": null,
   "id": "saving-secretariat",
   "metadata": {
    "papermill": {
     "duration": 0.01478,
     "end_time": "2021-08-25T01:54:53.003806",
     "exception": false,
     "start_time": "2021-08-25T01:54:52.989026",
     "status": "completed"
    },
    "tags": []
   },
   "outputs": [],
   "source": []
  }
 ],
 "metadata": {
  "kernelspec": {
   "display_name": "Python 3",
   "language": "python",
   "name": "python3"
  },
  "language_info": {
   "codemirror_mode": {
    "name": "ipython",
    "version": 3
   },
   "file_extension": ".py",
   "mimetype": "text/x-python",
   "name": "python",
   "nbconvert_exporter": "python",
   "pygments_lexer": "ipython3",
   "version": "3.6.14"
  },
  "papermill": {
   "default_parameters": {},
   "duration": 17.875071,
   "end_time": "2021-08-25T01:54:53.629560",
   "environment_variables": {},
   "exception": null,
   "input_path": "App-Correlation_charts.ipynb",
   "output_path": "App-Correlation_charts.ipynb",
   "parameters": {},
   "start_time": "2021-08-25T01:54:35.754489",
   "version": "2.2.2"
  }
 },
 "nbformat": 4,
 "nbformat_minor": 5
}