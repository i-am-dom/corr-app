{
 "cells": [
  {
   "cell_type": "markdown",
   "id": "touched-facility",
   "metadata": {
    "papermill": {
     "duration": 0.014873,
     "end_time": "2022-08-30T03:45:08.019882",
     "exception": false,
     "start_time": "2022-08-30T03:45:08.005009",
     "status": "completed"
    },
    "tags": []
   },
   "source": [
    "# Koreliacijų matrica\n",
    "> Išplėstinė koreliacijų matrica. \n",
    "\n",
    "- toc: true \n",
    "- badges: true\n",
    "- comments: false\n",
    "- categories: [Dominykas Tautkus]\n",
    "- image: images/matrix.png"
   ]
  },
  {
   "cell_type": "code",
   "execution_count": null,
   "id": "premium-weekend",
   "metadata": {
    "papermill": {
     "duration": 0.010624,
     "end_time": "2022-08-30T03:45:08.042015",
     "exception": false,
     "start_time": "2022-08-30T03:45:08.031391",
     "status": "completed"
    },
    "tags": []
   },
   "outputs": [],
   "source": []
  },
  {
   "cell_type": "code",
   "execution_count": 1,
   "id": "vertical-rebate",
   "metadata": {
    "execution": {
     "iopub.execute_input": "2022-08-30T03:45:08.074719Z",
     "iopub.status.busy": "2022-08-30T03:45:08.074063Z",
     "iopub.status.idle": "2022-08-30T03:45:08.085601Z",
     "shell.execute_reply": "2022-08-30T03:45:08.085081Z"
    },
    "papermill": {
     "duration": 0.032985,
     "end_time": "2022-08-30T03:45:08.085733",
     "exception": false,
     "start_time": "2022-08-30T03:45:08.052748",
     "status": "completed"
    },
    "tags": []
   },
   "outputs": [],
   "source": [
    "#hide\n",
    "%load_ext autoreload\n",
    "%autoreload 2"
   ]
  },
  {
   "cell_type": "code",
   "execution_count": 2,
   "id": "overall-advancement",
   "metadata": {
    "execution": {
     "iopub.execute_input": "2022-08-30T03:45:08.116313Z",
     "iopub.status.busy": "2022-08-30T03:45:08.115721Z",
     "iopub.status.idle": "2022-08-30T03:45:09.754520Z",
     "shell.execute_reply": "2022-08-30T03:45:09.753947Z"
    },
    "papermill": {
     "duration": 1.656854,
     "end_time": "2022-08-30T03:45:09.754663",
     "exception": false,
     "start_time": "2022-08-30T03:45:08.097809",
     "status": "completed"
    },
    "tags": []
   },
   "outputs": [],
   "source": [
    "#hide\n",
    "from scripts.read_data import read_api\n",
    "from IPython.display import HTML\n",
    "import plotly.graph_objects as go\n"
   ]
  },
  {
   "cell_type": "code",
   "execution_count": 3,
   "id": "light-crazy",
   "metadata": {
    "execution": {
     "iopub.execute_input": "2022-08-30T03:45:09.781493Z",
     "iopub.status.busy": "2022-08-30T03:45:09.780890Z",
     "iopub.status.idle": "2022-08-30T03:45:09.807655Z",
     "shell.execute_reply": "2022-08-30T03:45:09.807067Z"
    },
    "papermill": {
     "duration": 0.041672,
     "end_time": "2022-08-30T03:45:09.807798",
     "exception": false,
     "start_time": "2022-08-30T03:45:09.766126",
     "status": "completed"
    },
    "tags": []
   },
   "outputs": [],
   "source": [
    "#hide\n",
    "### ICO koreliacija"
   ]
  },
  {
   "cell_type": "code",
   "execution_count": 4,
   "id": "likely-bahrain",
   "metadata": {
    "execution": {
     "iopub.execute_input": "2022-08-30T03:45:09.834854Z",
     "iopub.status.busy": "2022-08-30T03:45:09.834278Z",
     "iopub.status.idle": "2022-08-30T03:45:10.691048Z",
     "shell.execute_reply": "2022-08-30T03:45:10.691538Z"
    },
    "papermill": {
     "duration": 0.87279,
     "end_time": "2022-08-30T03:45:10.691694",
     "exception": false,
     "start_time": "2022-08-30T03:45:09.818904",
     "status": "completed"
    },
    "tags": []
   },
   "outputs": [],
   "source": [
    "#hide\n",
    "import matplotlib.pyplot as plt\n",
    "import numpy as np\n",
    "import pandas as pd\n",
    "import seaborn as sns\n",
    "import matplotlib.pyplot as plt \n",
    "import matplotlib.dates as mdates\n",
    "import matplotlib.pyplot as plt"
   ]
  },
  {
   "cell_type": "code",
   "execution_count": 5,
   "id": "superior-blanket",
   "metadata": {
    "execution": {
     "iopub.execute_input": "2022-08-30T03:45:10.726293Z",
     "iopub.status.busy": "2022-08-30T03:45:10.722567Z",
     "iopub.status.idle": "2022-08-30T03:45:20.222775Z",
     "shell.execute_reply": "2022-08-30T03:45:20.223330Z"
    },
    "papermill": {
     "duration": 9.520783,
     "end_time": "2022-08-30T03:45:20.223483",
     "exception": false,
     "start_time": "2022-08-30T03:45:10.702700",
     "status": "completed"
    },
    "tags": []
   },
   "outputs": [
    {
     "name": "stderr",
     "output_type": "stream",
     "text": [
      "/home/runner/work/corr-app/corr-app/_notebooks/scripts/read_data.py:187: SettingWithCopyWarning:\n",
      "\n",
      "\n",
      "A value is trying to be set on a copy of a slice from a DataFrame.\n",
      "Try using .loc[row_indexer,col_indexer] = value instead\n",
      "\n",
      "See the caveats in the documentation: https://pandas.pydata.org/pandas-docs/stable/user_guide/indexing.html#returning-a-view-versus-a-copy\n",
      "\n"
     ]
    },
    {
     "name": "stderr",
     "output_type": "stream",
     "text": [
      "/home/runner/work/corr-app/corr-app/_notebooks/scripts/read_data.py:215: SettingWithCopyWarning:\n",
      "\n",
      "\n",
      "A value is trying to be set on a copy of a slice from a DataFrame.\n",
      "Try using .loc[row_indexer,col_indexer] = value instead\n",
      "\n",
      "See the caveats in the documentation: https://pandas.pydata.org/pandas-docs/stable/user_guide/indexing.html#returning-a-view-versus-a-copy\n",
      "\n"
     ]
    }
   ],
   "source": [
    "#hide\n",
    "df_all = read_api()\n",
    "#df_all = df_all.drop(['SP500', 'XAU', 'ETH', 'BTC'], axis=1)\n",
    "\n"
   ]
  },
  {
   "cell_type": "code",
   "execution_count": 6,
   "id": "mature-alert",
   "metadata": {
    "execution": {
     "iopub.execute_input": "2022-08-30T03:45:20.259087Z",
     "iopub.status.busy": "2022-08-30T03:45:20.258427Z",
     "iopub.status.idle": "2022-08-30T03:45:20.284141Z",
     "shell.execute_reply": "2022-08-30T03:45:20.283483Z"
    },
    "papermill": {
     "duration": 0.047575,
     "end_time": "2022-08-30T03:45:20.284266",
     "exception": false,
     "start_time": "2022-08-30T03:45:20.236691",
     "status": "completed"
    },
    "tags": []
   },
   "outputs": [],
   "source": [
    "#hide_input\n",
    "sum_corr = df_all.corr().sum().sort_values(ascending=True).index.values\n",
    "#df_all[sum_corr].corr()"
   ]
  },
  {
   "cell_type": "markdown",
   "id": "complex-syndicate",
   "metadata": {
    "papermill": {
     "duration": 0.016989,
     "end_time": "2022-08-30T03:45:20.313652",
     "exception": false,
     "start_time": "2022-08-30T03:45:20.296663",
     "status": "completed"
    },
    "tags": []
   },
   "source": [
    "## Išplėstinė koreliacijų matrica. "
   ]
  },
  {
   "cell_type": "code",
   "execution_count": 7,
   "id": "atomic-omaha",
   "metadata": {
    "execution": {
     "iopub.execute_input": "2022-08-30T03:45:20.410870Z",
     "iopub.status.busy": "2022-08-30T03:45:20.410146Z",
     "iopub.status.idle": "2022-08-30T03:45:21.754015Z",
     "shell.execute_reply": "2022-08-30T03:45:21.753416Z"
    },
    "papermill": {
     "duration": 1.40161,
     "end_time": "2022-08-30T03:45:21.754136",
     "exception": false,
     "start_time": "2022-08-30T03:45:20.352526",
     "status": "completed"
    },
    "tags": []
   },
   "outputs": [
    {
     "data": {
      "image/png": "[encoded data removed]",
      "text/plain": [
       "<Figure size 1080x792 with 2 Axes>"
      ]
     },
     "metadata": {
      "needs_background": "light"
     },
     "output_type": "display_data"
    }
   ],
   "source": [
    "#hide_input\n",
    "plt.figure(figsize=(15, 11))\n",
    "sns.heatmap(df_all[sum_corr].corr(), annot=True, cmap=\"cubehelix\") \n",
    "sns.set(font_scale=1.25)\n",
    "plt.savefig('corr_matrix.png', format='eps')"
   ]
  },
  {
   "cell_type": "code",
   "execution_count": 8,
   "id": "arbitrary-sullivan",
   "metadata": {
    "execution": {
     "iopub.execute_input": "2022-08-30T03:45:21.785740Z",
     "iopub.status.busy": "2022-08-30T03:45:21.785136Z",
     "iopub.status.idle": "2022-08-30T03:45:21.812566Z",
     "shell.execute_reply": "2022-08-30T03:45:21.813025Z"
    },
    "papermill": {
     "duration": 0.045339,
     "end_time": "2022-08-30T03:45:21.813168",
     "exception": false,
     "start_time": "2022-08-30T03:45:21.767829",
     "status": "completed"
    },
    "tags": []
   },
   "outputs": [],
   "source": [
    "#hide\n",
    "#df_all_mrk = read_api()"
   ]
  },
  {
   "cell_type": "code",
   "execution_count": 9,
   "id": "delayed-adapter",
   "metadata": {
    "execution": {
     "iopub.execute_input": "2022-08-30T03:45:21.845229Z",
     "iopub.status.busy": "2022-08-30T03:45:21.844644Z",
     "iopub.status.idle": "2022-08-30T03:45:21.870495Z",
     "shell.execute_reply": "2022-08-30T03:45:21.870951Z"
    },
    "papermill": {
     "duration": 0.044141,
     "end_time": "2022-08-30T03:45:21.871150",
     "exception": false,
     "start_time": "2022-08-30T03:45:21.827009",
     "status": "completed"
    },
    "tags": []
   },
   "outputs": [],
   "source": [
    "#hide\n",
    "#Koreliacijų koeficientai"
   ]
  },
  {
   "cell_type": "code",
   "execution_count": 10,
   "id": "seeing-celebration",
   "metadata": {
    "execution": {
     "iopub.execute_input": "2022-08-30T03:45:21.906785Z",
     "iopub.status.busy": "2022-08-30T03:45:21.905944Z",
     "iopub.status.idle": "2022-08-30T03:45:21.931086Z",
     "shell.execute_reply": "2022-08-30T03:45:21.930528Z"
    },
    "papermill": {
     "duration": 0.045738,
     "end_time": "2022-08-30T03:45:21.931223",
     "exception": false,
     "start_time": "2022-08-30T03:45:21.885485",
     "status": "completed"
    },
    "tags": []
   },
   "outputs": [],
   "source": [
    "#hide_input\n",
    "#sum_corr = df_all_mrk.corr().sum().sort_values(ascending=True).index.values\n",
    "#df_all_mrk[sum_corr].corr()"
   ]
  },
  {
   "cell_type": "code",
   "execution_count": 11,
   "id": "other-painting",
   "metadata": {
    "execution": {
     "iopub.execute_input": "2022-08-30T03:45:21.964558Z",
     "iopub.status.busy": "2022-08-30T03:45:21.963890Z",
     "iopub.status.idle": "2022-08-30T03:45:21.992510Z",
     "shell.execute_reply": "2022-08-30T03:45:21.991702Z"
    },
    "papermill": {
     "duration": 0.046403,
     "end_time": "2022-08-30T03:45:21.992636",
     "exception": false,
     "start_time": "2022-08-30T03:45:21.946233",
     "status": "completed"
    },
    "tags": []
   },
   "outputs": [],
   "source": [
    "#hide\n",
    "#Koreliacijos matrica. "
   ]
  },
  {
   "cell_type": "code",
   "execution_count": 12,
   "id": "modular-magnitude",
   "metadata": {
    "execution": {
     "iopub.execute_input": "2022-08-30T03:45:22.023375Z",
     "iopub.status.busy": "2022-08-30T03:45:22.022755Z",
     "iopub.status.idle": "2022-08-30T03:45:22.051481Z",
     "shell.execute_reply": "2022-08-30T03:45:22.050908Z"
    },
    "papermill": {
     "duration": 0.0454,
     "end_time": "2022-08-30T03:45:22.051608",
     "exception": false,
     "start_time": "2022-08-30T03:45:22.006208",
     "status": "completed"
    },
    "tags": []
   },
   "outputs": [],
   "source": [
    "#hide_input\n",
    "#plt.figure(figsize=(15, 8))\n",
    "#sns.heatmap(df_all_mrk[sum_corr].corr(), annot=True, cmap=\"BrBG\");\n",
    "#plt.savefig('corr_matrix_all.eps', format='eps')"
   ]
  },
  {
   "cell_type": "code",
   "execution_count": null,
   "id": "original-senator",
   "metadata": {
    "papermill": {
     "duration": 0.013206,
     "end_time": "2022-08-30T03:45:22.078763",
     "exception": false,
     "start_time": "2022-08-30T03:45:22.065557",
     "status": "completed"
    },
    "tags": []
   },
   "outputs": [],
   "source": []
  },
  {
   "cell_type": "code",
   "execution_count": null,
   "id": "saving-secretariat",
   "metadata": {
    "papermill": {
     "duration": 0.013146,
     "end_time": "2022-08-30T03:45:22.105200",
     "exception": false,
     "start_time": "2022-08-30T03:45:22.092054",
     "status": "completed"
    },
    "tags": []
   },
   "outputs": [],
   "source": []
  }
 ],
 "metadata": {
  "kernelspec": {
   "display_name": "Python 3",
   "language": "python",
   "name": "python3"
  },
  "language_info": {
   "codemirror_mode": {
    "name": "ipython",
    "version": 3
   },
   "file_extension": ".py",
   "mimetype": "text/x-python",
   "name": "python",
   "nbconvert_exporter": "python",
   "pygments_lexer": "ipython3",
   "version": "3.6.15"
  },
  "papermill": {
   "default_parameters": {},
   "duration": 15.76915,
   "end_time": "2022-08-30T03:45:22.738829",
   "environment_variables": {},
   "exception": null,
   "input_path": "App-Correlation_charts.ipynb",
   "output_path": "App-Correlation_charts.ipynb",
   "parameters": {},
   "start_time": "2022-08-30T03:45:06.969679",
   "version": "2.2.2"
  }
 },
 "nbformat": 4,
 "nbformat_minor": 5
}