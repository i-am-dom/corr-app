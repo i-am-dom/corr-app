{
 "cells": [
  {
   "cell_type": "markdown",
   "id": "touched-facility",
   "metadata": {
    "papermill": {
     "duration": 0.018714,
     "end_time": "2021-11-10T01:57:39.864486",
     "exception": false,
     "start_time": "2021-11-10T01:57:39.845772",
     "status": "completed"
    },
    "tags": []
   },
   "source": [
    "# Koreliacijų matrica\n",
    "> Išplėstinė koreliacijų matrica. \n",
    "\n",
    "- toc: true \n",
    "- badges: true\n",
    "- comments: false\n",
    "- categories: [Dominykas Tautkus]\n",
    "- image: images/matrix.png"
   ]
  },
  {
   "cell_type": "code",
   "execution_count": null,
   "id": "premium-weekend",
   "metadata": {
    "papermill": {
     "duration": 0.016448,
     "end_time": "2021-11-10T01:57:39.895366",
     "exception": false,
     "start_time": "2021-11-10T01:57:39.878918",
     "status": "completed"
    },
    "tags": []
   },
   "outputs": [],
   "source": []
  },
  {
   "cell_type": "code",
   "execution_count": 1,
   "id": "vertical-rebate",
   "metadata": {
    "execution": {
     "iopub.execute_input": "2021-11-10T01:57:39.937667Z",
     "iopub.status.busy": "2021-11-10T01:57:39.936970Z",
     "iopub.status.idle": "2021-11-10T01:57:39.950238Z",
     "shell.execute_reply": "2021-11-10T01:57:39.950831Z"
    },
    "papermill": {
     "duration": 0.04079,
     "end_time": "2021-11-10T01:57:39.951049",
     "exception": false,
     "start_time": "2021-11-10T01:57:39.910259",
     "status": "completed"
    },
    "tags": []
   },
   "outputs": [],
   "source": [
    "#hide\n",
    "%load_ext autoreload\n",
    "%autoreload 2"
   ]
  },
  {
   "cell_type": "code",
   "execution_count": 2,
   "id": "overall-advancement",
   "metadata": {
    "execution": {
     "iopub.execute_input": "2021-11-10T01:57:39.983023Z",
     "iopub.status.busy": "2021-11-10T01:57:39.982262Z",
     "iopub.status.idle": "2021-11-10T01:57:41.472274Z",
     "shell.execute_reply": "2021-11-10T01:57:41.471378Z"
    },
    "papermill": {
     "duration": 1.507268,
     "end_time": "2021-11-10T01:57:41.472426",
     "exception": false,
     "start_time": "2021-11-10T01:57:39.965158",
     "status": "completed"
    },
    "tags": []
   },
   "outputs": [],
   "source": [
    "#hide\n",
    "from scripts.read_data import read_api\n",
    "from IPython.display import HTML\n",
    "import plotly.graph_objects as go\n"
   ]
  },
  {
   "cell_type": "code",
   "execution_count": 3,
   "id": "light-crazy",
   "metadata": {
    "execution": {
     "iopub.execute_input": "2021-11-10T01:57:41.506484Z",
     "iopub.status.busy": "2021-11-10T01:57:41.505751Z",
     "iopub.status.idle": "2021-11-10T01:57:41.534072Z",
     "shell.execute_reply": "2021-11-10T01:57:41.534567Z"
    },
    "papermill": {
     "duration": 0.048039,
     "end_time": "2021-11-10T01:57:41.534736",
     "exception": false,
     "start_time": "2021-11-10T01:57:41.486697",
     "status": "completed"
    },
    "tags": []
   },
   "outputs": [],
   "source": [
    "#hide\n",
    "### ICO koreliacija"
   ]
  },
  {
   "cell_type": "code",
   "execution_count": 4,
   "id": "likely-bahrain",
   "metadata": {
    "execution": {
     "iopub.execute_input": "2021-11-10T01:57:41.568917Z",
     "iopub.status.busy": "2021-11-10T01:57:41.568201Z",
     "iopub.status.idle": "2021-11-10T01:57:42.594145Z",
     "shell.execute_reply": "2021-11-10T01:57:42.594640Z"
    },
    "papermill": {
     "duration": 1.045959,
     "end_time": "2021-11-10T01:57:42.594861",
     "exception": false,
     "start_time": "2021-11-10T01:57:41.548902",
     "status": "completed"
    },
    "tags": []
   },
   "outputs": [],
   "source": [
    "#hide\n",
    "import matplotlib.pyplot as plt\n",
    "import numpy as np\n",
    "import pandas as pd\n",
    "import seaborn as sns\n",
    "import matplotlib.pyplot as plt \n",
    "import matplotlib.dates as mdates\n",
    "import matplotlib.pyplot as plt"
   ]
  },
  {
   "cell_type": "code",
   "execution_count": 5,
   "id": "superior-blanket",
   "metadata": {
    "execution": {
     "iopub.execute_input": "2021-11-10T01:57:42.628034Z",
     "iopub.status.busy": "2021-11-10T01:57:42.626626Z",
     "iopub.status.idle": "2021-11-10T01:57:53.860506Z",
     "shell.execute_reply": "2021-11-10T01:57:53.859890Z"
    },
    "papermill": {
     "duration": 11.251931,
     "end_time": "2021-11-10T01:57:53.860651",
     "exception": false,
     "start_time": "2021-11-10T01:57:42.608720",
     "status": "completed"
    },
    "tags": []
   },
   "outputs": [
    {
     "name": "stderr",
     "output_type": "stream",
     "text": [
      "/home/runner/work/corr-app/corr-app/_notebooks/scripts/read_data.py:187: SettingWithCopyWarning:\n",
      "\n",
      "\n",
      "A value is trying to be set on a copy of a slice from a DataFrame.\n",
      "Try using .loc[row_indexer,col_indexer] = value instead\n",
      "\n",
      "See the caveats in the documentation: https://pandas.pydata.org/pandas-docs/stable/user_guide/indexing.html#returning-a-view-versus-a-copy\n",
      "\n"
     ]
    },
    {
     "name": "stderr",
     "output_type": "stream",
     "text": [
      "/home/runner/work/corr-app/corr-app/_notebooks/scripts/read_data.py:215: SettingWithCopyWarning:\n",
      "\n",
      "\n",
      "A value is trying to be set on a copy of a slice from a DataFrame.\n",
      "Try using .loc[row_indexer,col_indexer] = value instead\n",
      "\n",
      "See the caveats in the documentation: https://pandas.pydata.org/pandas-docs/stable/user_guide/indexing.html#returning-a-view-versus-a-copy\n",
      "\n"
     ]
    }
   ],
   "source": [
    "#hide\n",
    "df_all = read_api()\n",
    "#df_all = df_all.drop(['SP500', 'XAU', 'ETH', 'BTC'], axis=1)\n",
    "\n"
   ]
  },
  {
   "cell_type": "code",
   "execution_count": 6,
   "id": "mature-alert",
   "metadata": {
    "execution": {
     "iopub.execute_input": "2021-11-10T01:57:53.901692Z",
     "iopub.status.busy": "2021-11-10T01:57:53.901059Z",
     "iopub.status.idle": "2021-11-10T01:57:53.931455Z",
     "shell.execute_reply": "2021-11-10T01:57:53.930942Z"
    },
    "papermill": {
     "duration": 0.055705,
     "end_time": "2021-11-10T01:57:53.931585",
     "exception": false,
     "start_time": "2021-11-10T01:57:53.875880",
     "status": "completed"
    },
    "tags": []
   },
   "outputs": [],
   "source": [
    "#hide_input\n",
    "sum_corr = df_all.corr().sum().sort_values(ascending=True).index.values\n",
    "#df_all[sum_corr].corr()"
   ]
  },
  {
   "cell_type": "markdown",
   "id": "complex-syndicate",
   "metadata": {
    "papermill": {
     "duration": 0.013562,
     "end_time": "2021-11-10T01:57:53.959054",
     "exception": false,
     "start_time": "2021-11-10T01:57:53.945492",
     "status": "completed"
    },
    "tags": []
   },
   "source": [
    "## Išplėstinė koreliacijų matrica. "
   ]
  },
  {
   "cell_type": "code",
   "execution_count": 7,
   "id": "atomic-omaha",
   "metadata": {
    "execution": {
     "iopub.execute_input": "2021-11-10T01:57:53.995673Z",
     "iopub.status.busy": "2021-11-10T01:57:53.994921Z",
     "iopub.status.idle": "2021-11-10T01:57:55.655063Z",
     "shell.execute_reply": "2021-11-10T01:57:55.654487Z"
    },
    "papermill": {
     "duration": 1.681888,
     "end_time": "2021-11-10T01:57:55.655212",
     "exception": false,
     "start_time": "2021-11-10T01:57:53.973324",
     "status": "completed"
    },
    "tags": []
   },
   "outputs": [
    {
     "data": {
      "image/png": "[encoded data removed]",
      "text/plain": [
       "<Figure size 1080x792 with 2 Axes>"
      ]
     },
     "metadata": {
      "needs_background": "light"
     },
     "output_type": "display_data"
    }
   ],
   "source": [
    "#hide_input\n",
    "plt.figure(figsize=(15, 11))\n",
    "sns.heatmap(df_all[sum_corr].corr(), annot=True, cmap=\"cubehelix\") \n",
    "sns.set(font_scale=1.25)\n",
    "plt.savefig('corr_matrix.png', format='eps')"
   ]
  },
  {
   "cell_type": "code",
   "execution_count": 8,
   "id": "arbitrary-sullivan",
   "metadata": {
    "execution": {
     "iopub.execute_input": "2021-11-10T01:57:55.695414Z",
     "iopub.status.busy": "2021-11-10T01:57:55.692768Z",
     "iopub.status.idle": "2021-11-10T01:57:55.727819Z",
     "shell.execute_reply": "2021-11-10T01:57:55.727181Z"
    },
    "papermill": {
     "duration": 0.057345,
     "end_time": "2021-11-10T01:57:55.727962",
     "exception": false,
     "start_time": "2021-11-10T01:57:55.670617",
     "status": "completed"
    },
    "tags": []
   },
   "outputs": [],
   "source": [
    "#hide\n",
    "#df_all_mrk = read_api()"
   ]
  },
  {
   "cell_type": "code",
   "execution_count": 9,
   "id": "delayed-adapter",
   "metadata": {
    "execution": {
     "iopub.execute_input": "2021-11-10T01:57:55.769948Z",
     "iopub.status.busy": "2021-11-10T01:57:55.769303Z",
     "iopub.status.idle": "2021-11-10T01:57:55.799865Z",
     "shell.execute_reply": "2021-11-10T01:57:55.800394Z"
    },
    "papermill": {
     "duration": 0.053629,
     "end_time": "2021-11-10T01:57:55.800553",
     "exception": false,
     "start_time": "2021-11-10T01:57:55.746924",
     "status": "completed"
    },
    "tags": []
   },
   "outputs": [],
   "source": [
    "#hide\n",
    "#Koreliacijų koeficientai"
   ]
  },
  {
   "cell_type": "code",
   "execution_count": 10,
   "id": "seeing-celebration",
   "metadata": {
    "execution": {
     "iopub.execute_input": "2021-11-10T01:57:55.844678Z",
     "iopub.status.busy": "2021-11-10T01:57:55.844026Z",
     "iopub.status.idle": "2021-11-10T01:57:55.871373Z",
     "shell.execute_reply": "2021-11-10T01:57:55.871872Z"
    },
    "papermill": {
     "duration": 0.051782,
     "end_time": "2021-11-10T01:57:55.872060",
     "exception": false,
     "start_time": "2021-11-10T01:57:55.820278",
     "status": "completed"
    },
    "tags": []
   },
   "outputs": [],
   "source": [
    "#hide_input\n",
    "#sum_corr = df_all_mrk.corr().sum().sort_values(ascending=True).index.values\n",
    "#df_all_mrk[sum_corr].corr()"
   ]
  },
  {
   "cell_type": "code",
   "execution_count": 11,
   "id": "other-painting",
   "metadata": {
    "execution": {
     "iopub.execute_input": "2021-11-10T01:57:55.910855Z",
     "iopub.status.busy": "2021-11-10T01:57:55.910246Z",
     "iopub.status.idle": "2021-11-10T01:57:55.940013Z",
     "shell.execute_reply": "2021-11-10T01:57:55.939412Z"
    },
    "papermill": {
     "duration": 0.051828,
     "end_time": "2021-11-10T01:57:55.940184",
     "exception": false,
     "start_time": "2021-11-10T01:57:55.888356",
     "status": "completed"
    },
    "tags": []
   },
   "outputs": [],
   "source": [
    "#hide\n",
    "#Koreliacijos matrica. "
   ]
  },
  {
   "cell_type": "code",
   "execution_count": 12,
   "id": "modular-magnitude",
   "metadata": {
    "execution": {
     "iopub.execute_input": "2021-11-10T01:57:55.977129Z",
     "iopub.status.busy": "2021-11-10T01:57:55.976430Z",
     "iopub.status.idle": "2021-11-10T01:57:56.008036Z",
     "shell.execute_reply": "2021-11-10T01:57:56.006774Z"
    },
    "papermill": {
     "duration": 0.051742,
     "end_time": "2021-11-10T01:57:56.008173",
     "exception": false,
     "start_time": "2021-11-10T01:57:55.956431",
     "status": "completed"
    },
    "tags": []
   },
   "outputs": [],
   "source": [
    "#hide_input\n",
    "#plt.figure(figsize=(15, 8))\n",
    "#sns.heatmap(df_all_mrk[sum_corr].corr(), annot=True, cmap=\"BrBG\");\n",
    "#plt.savefig('corr_matrix_all.eps', format='eps')"
   ]
  },
  {
   "cell_type": "code",
   "execution_count": null,
   "id": "original-senator",
   "metadata": {
    "papermill": {
     "duration": 0.016141,
     "end_time": "2021-11-10T01:57:56.039176",
     "exception": false,
     "start_time": "2021-11-10T01:57:56.023035",
     "status": "completed"
    },
    "tags": []
   },
   "outputs": [],
   "source": []
  },
  {
   "cell_type": "code",
   "execution_count": null,
   "id": "saving-secretariat",
   "metadata": {
    "papermill": {
     "duration": 0.014683,
     "end_time": "2021-11-10T01:57:56.069507",
     "exception": false,
     "start_time": "2021-11-10T01:57:56.054824",
     "status": "completed"
    },
    "tags": []
   },
   "outputs": [],
   "source": []
  }
 ],
 "metadata": {
  "kernelspec": {
   "display_name": "Python 3",
   "language": "python",
   "name": "python3"
  },
  "language_info": {
   "codemirror_mode": {
    "name": "ipython",
    "version": 3
   },
   "file_extension": ".py",
   "mimetype": "text/x-python",
   "name": "python",
   "nbconvert_exporter": "python",
   "pygments_lexer": "ipython3",
   "version": "3.6.15"
  },
  "papermill": {
   "default_parameters": {},
   "duration": 17.916888,
   "end_time": "2021-11-10T01:57:56.593969",
   "environment_variables": {},
   "exception": null,
   "input_path": "App-Correlation_charts.ipynb",
   "output_path": "App-Correlation_charts.ipynb",
   "parameters": {},
   "start_time": "2021-11-10T01:57:38.677081",
   "version": "2.2.2"
  }
 },
 "nbformat": 4,
 "nbformat_minor": 5
}