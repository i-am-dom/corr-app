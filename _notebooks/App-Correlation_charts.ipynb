{
 "cells": [
  {
   "cell_type": "markdown",
   "id": "touched-facility",
   "metadata": {
    "papermill": {
     "duration": 0.018553,
     "end_time": "2022-06-06T02:56:53.550260",
     "exception": false,
     "start_time": "2022-06-06T02:56:53.531707",
     "status": "completed"
    },
    "tags": []
   },
   "source": [
    "# Koreliacijų matrica\n",
    "> Išplėstinė koreliacijų matrica. \n",
    "\n",
    "- toc: true \n",
    "- badges: true\n",
    "- comments: false\n",
    "- categories: [Dominykas Tautkus]\n",
    "- image: images/matrix.png"
   ]
  },
  {
   "cell_type": "code",
   "execution_count": null,
   "id": "premium-weekend",
   "metadata": {
    "papermill": {
     "duration": 0.012327,
     "end_time": "2022-06-06T02:56:53.576022",
     "exception": false,
     "start_time": "2022-06-06T02:56:53.563695",
     "status": "completed"
    },
    "tags": []
   },
   "outputs": [],
   "source": []
  },
  {
   "cell_type": "code",
   "execution_count": 1,
   "id": "vertical-rebate",
   "metadata": {
    "execution": {
     "iopub.execute_input": "2022-06-06T02:56:53.614031Z",
     "iopub.status.busy": "2022-06-06T02:56:53.613316Z",
     "iopub.status.idle": "2022-06-06T02:56:53.625759Z",
     "shell.execute_reply": "2022-06-06T02:56:53.626534Z"
    },
    "papermill": {
     "duration": 0.038602,
     "end_time": "2022-06-06T02:56:53.626718",
     "exception": false,
     "start_time": "2022-06-06T02:56:53.588116",
     "status": "completed"
    },
    "tags": []
   },
   "outputs": [],
   "source": [
    "#hide\n",
    "%load_ext autoreload\n",
    "%autoreload 2"
   ]
  },
  {
   "cell_type": "code",
   "execution_count": 2,
   "id": "overall-advancement",
   "metadata": {
    "execution": {
     "iopub.execute_input": "2022-06-06T02:56:53.658141Z",
     "iopub.status.busy": "2022-06-06T02:56:53.657442Z",
     "iopub.status.idle": "2022-06-06T02:56:55.257730Z",
     "shell.execute_reply": "2022-06-06T02:56:55.257115Z"
    },
    "papermill": {
     "duration": 1.618959,
     "end_time": "2022-06-06T02:56:55.257868",
     "exception": false,
     "start_time": "2022-06-06T02:56:53.638909",
     "status": "completed"
    },
    "tags": []
   },
   "outputs": [],
   "source": [
    "#hide\n",
    "from scripts.read_data import read_api\n",
    "from IPython.display import HTML\n",
    "import plotly.graph_objects as go\n"
   ]
  },
  {
   "cell_type": "code",
   "execution_count": 3,
   "id": "light-crazy",
   "metadata": {
    "execution": {
     "iopub.execute_input": "2022-06-06T02:56:55.288594Z",
     "iopub.status.busy": "2022-06-06T02:56:55.287905Z",
     "iopub.status.idle": "2022-06-06T02:56:55.316905Z",
     "shell.execute_reply": "2022-06-06T02:56:55.316241Z"
    },
    "papermill": {
     "duration": 0.046744,
     "end_time": "2022-06-06T02:56:55.317050",
     "exception": false,
     "start_time": "2022-06-06T02:56:55.270306",
     "status": "completed"
    },
    "tags": []
   },
   "outputs": [],
   "source": [
    "#hide\n",
    "### ICO koreliacija"
   ]
  },
  {
   "cell_type": "code",
   "execution_count": 4,
   "id": "likely-bahrain",
   "metadata": {
    "execution": {
     "iopub.execute_input": "2022-06-06T02:56:55.350152Z",
     "iopub.status.busy": "2022-06-06T02:56:55.349389Z",
     "iopub.status.idle": "2022-06-06T02:56:56.338122Z",
     "shell.execute_reply": "2022-06-06T02:56:56.337150Z"
    },
    "papermill": {
     "duration": 1.008993,
     "end_time": "2022-06-06T02:56:56.338263",
     "exception": false,
     "start_time": "2022-06-06T02:56:55.329270",
     "status": "completed"
    },
    "tags": []
   },
   "outputs": [],
   "source": [
    "#hide\n",
    "import matplotlib.pyplot as plt\n",
    "import numpy as np\n",
    "import pandas as pd\n",
    "import seaborn as sns\n",
    "import matplotlib.pyplot as plt \n",
    "import matplotlib.dates as mdates\n",
    "import matplotlib.pyplot as plt"
   ]
  },
  {
   "cell_type": "code",
   "execution_count": 5,
   "id": "superior-blanket",
   "metadata": {
    "execution": {
     "iopub.execute_input": "2022-06-06T02:56:56.369426Z",
     "iopub.status.busy": "2022-06-06T02:56:56.368655Z",
     "iopub.status.idle": "2022-06-06T02:57:06.047639Z",
     "shell.execute_reply": "2022-06-06T02:57:06.046985Z"
    },
    "papermill": {
     "duration": 9.697144,
     "end_time": "2022-06-06T02:57:06.047779",
     "exception": false,
     "start_time": "2022-06-06T02:56:56.350635",
     "status": "completed"
    },
    "tags": []
   },
   "outputs": [
    {
     "name": "stderr",
     "output_type": "stream",
     "text": [
      "/home/runner/work/corr-app/corr-app/_notebooks/scripts/read_data.py:187: SettingWithCopyWarning:\n",
      "\n",
      "\n",
      "A value is trying to be set on a copy of a slice from a DataFrame.\n",
      "Try using .loc[row_indexer,col_indexer] = value instead\n",
      "\n",
      "See the caveats in the documentation: https://pandas.pydata.org/pandas-docs/stable/user_guide/indexing.html#returning-a-view-versus-a-copy\n",
      "\n"
     ]
    },
    {
     "name": "stderr",
     "output_type": "stream",
     "text": [
      "/home/runner/work/corr-app/corr-app/_notebooks/scripts/read_data.py:215: SettingWithCopyWarning:\n",
      "\n",
      "\n",
      "A value is trying to be set on a copy of a slice from a DataFrame.\n",
      "Try using .loc[row_indexer,col_indexer] = value instead\n",
      "\n",
      "See the caveats in the documentation: https://pandas.pydata.org/pandas-docs/stable/user_guide/indexing.html#returning-a-view-versus-a-copy\n",
      "\n"
     ]
    }
   ],
   "source": [
    "#hide\n",
    "df_all = read_api()\n",
    "#df_all = df_all.drop(['SP500', 'XAU', 'ETH', 'BTC'], axis=1)\n",
    "\n"
   ]
  },
  {
   "cell_type": "code",
   "execution_count": 6,
   "id": "mature-alert",
   "metadata": {
    "execution": {
     "iopub.execute_input": "2022-06-06T02:57:06.080567Z",
     "iopub.status.busy": "2022-06-06T02:57:06.079874Z",
     "iopub.status.idle": "2022-06-06T02:57:06.115374Z",
     "shell.execute_reply": "2022-06-06T02:57:06.114774Z"
    },
    "papermill": {
     "duration": 0.054557,
     "end_time": "2022-06-06T02:57:06.115510",
     "exception": false,
     "start_time": "2022-06-06T02:57:06.060953",
     "status": "completed"
    },
    "tags": []
   },
   "outputs": [],
   "source": [
    "#hide_input\n",
    "sum_corr = df_all.corr().sum().sort_values(ascending=True).index.values\n",
    "#df_all[sum_corr].corr()"
   ]
  },
  {
   "cell_type": "markdown",
   "id": "complex-syndicate",
   "metadata": {
    "papermill": {
     "duration": 0.012527,
     "end_time": "2022-06-06T02:57:06.140956",
     "exception": false,
     "start_time": "2022-06-06T02:57:06.128429",
     "status": "completed"
    },
    "tags": []
   },
   "source": [
    "## Išplėstinė koreliacijų matrica. "
   ]
  },
  {
   "cell_type": "code",
   "execution_count": 7,
   "id": "atomic-omaha",
   "metadata": {
    "execution": {
     "iopub.execute_input": "2022-06-06T02:57:06.181808Z",
     "iopub.status.busy": "2022-06-06T02:57:06.175286Z",
     "iopub.status.idle": "2022-06-06T02:57:07.552282Z",
     "shell.execute_reply": "2022-06-06T02:57:07.551707Z"
    },
    "papermill": {
     "duration": 1.399102,
     "end_time": "2022-06-06T02:57:07.552419",
     "exception": false,
     "start_time": "2022-06-06T02:57:06.153317",
     "status": "completed"
    },
    "tags": []
   },
   "outputs": [
    {
     "data": {
      "image/png": "[encoded data removed]",
      "text/plain": [
       "<Figure size 1080x792 with 2 Axes>"
      ]
     },
     "metadata": {
      "needs_background": "light"
     },
     "output_type": "display_data"
    }
   ],
   "source": [
    "#hide_input\n",
    "plt.figure(figsize=(15, 11))\n",
    "sns.heatmap(df_all[sum_corr].corr(), annot=True, cmap=\"cubehelix\") \n",
    "sns.set(font_scale=1.25)\n",
    "plt.savefig('corr_matrix.png', format='eps')"
   ]
  },
  {
   "cell_type": "code",
   "execution_count": 8,
   "id": "arbitrary-sullivan",
   "metadata": {
    "execution": {
     "iopub.execute_input": "2022-06-06T02:57:07.594097Z",
     "iopub.status.busy": "2022-06-06T02:57:07.586845Z",
     "iopub.status.idle": "2022-06-06T02:57:07.618391Z",
     "shell.execute_reply": "2022-06-06T02:57:07.617794Z"
    },
    "papermill": {
     "duration": 0.050643,
     "end_time": "2022-06-06T02:57:07.618527",
     "exception": false,
     "start_time": "2022-06-06T02:57:07.567884",
     "status": "completed"
    },
    "tags": []
   },
   "outputs": [],
   "source": [
    "#hide\n",
    "#df_all_mrk = read_api()"
   ]
  },
  {
   "cell_type": "code",
   "execution_count": 9,
   "id": "delayed-adapter",
   "metadata": {
    "execution": {
     "iopub.execute_input": "2022-06-06T02:57:07.653381Z",
     "iopub.status.busy": "2022-06-06T02:57:07.652647Z",
     "iopub.status.idle": "2022-06-06T02:57:07.684444Z",
     "shell.execute_reply": "2022-06-06T02:57:07.683733Z"
    },
    "papermill": {
     "duration": 0.050995,
     "end_time": "2022-06-06T02:57:07.684601",
     "exception": false,
     "start_time": "2022-06-06T02:57:07.633606",
     "status": "completed"
    },
    "tags": []
   },
   "outputs": [],
   "source": [
    "#hide\n",
    "#Koreliacijų koeficientai"
   ]
  },
  {
   "cell_type": "code",
   "execution_count": 10,
   "id": "seeing-celebration",
   "metadata": {
    "execution": {
     "iopub.execute_input": "2022-06-06T02:57:07.720749Z",
     "iopub.status.busy": "2022-06-06T02:57:07.720057Z",
     "iopub.status.idle": "2022-06-06T02:57:07.752397Z",
     "shell.execute_reply": "2022-06-06T02:57:07.751404Z"
    },
    "papermill": {
     "duration": 0.051643,
     "end_time": "2022-06-06T02:57:07.752615",
     "exception": false,
     "start_time": "2022-06-06T02:57:07.700972",
     "status": "completed"
    },
    "tags": []
   },
   "outputs": [],
   "source": [
    "#hide_input\n",
    "#sum_corr = df_all_mrk.corr().sum().sort_values(ascending=True).index.values\n",
    "#df_all_mrk[sum_corr].corr()"
   ]
  },
  {
   "cell_type": "code",
   "execution_count": 11,
   "id": "other-painting",
   "metadata": {
    "execution": {
     "iopub.execute_input": "2022-06-06T02:57:07.789039Z",
     "iopub.status.busy": "2022-06-06T02:57:07.788308Z",
     "iopub.status.idle": "2022-06-06T02:57:07.823869Z",
     "shell.execute_reply": "2022-06-06T02:57:07.823192Z"
    },
    "papermill": {
     "duration": 0.055718,
     "end_time": "2022-06-06T02:57:07.824020",
     "exception": false,
     "start_time": "2022-06-06T02:57:07.768302",
     "status": "completed"
    },
    "tags": []
   },
   "outputs": [],
   "source": [
    "#hide\n",
    "#Koreliacijos matrica. "
   ]
  },
  {
   "cell_type": "code",
   "execution_count": 12,
   "id": "modular-magnitude",
   "metadata": {
    "execution": {
     "iopub.execute_input": "2022-06-06T02:57:07.861554Z",
     "iopub.status.busy": "2022-06-06T02:57:07.860853Z",
     "iopub.status.idle": "2022-06-06T02:57:07.895180Z",
     "shell.execute_reply": "2022-06-06T02:57:07.894414Z"
    },
    "papermill": {
     "duration": 0.054307,
     "end_time": "2022-06-06T02:57:07.895366",
     "exception": false,
     "start_time": "2022-06-06T02:57:07.841059",
     "status": "completed"
    },
    "tags": []
   },
   "outputs": [],
   "source": [
    "#hide_input\n",
    "#plt.figure(figsize=(15, 8))\n",
    "#sns.heatmap(df_all_mrk[sum_corr].corr(), annot=True, cmap=\"BrBG\");\n",
    "#plt.savefig('corr_matrix_all.eps', format='eps')"
   ]
  },
  {
   "cell_type": "code",
   "execution_count": null,
   "id": "original-senator",
   "metadata": {
    "papermill": {
     "duration": 0.015449,
     "end_time": "2022-06-06T02:57:07.926724",
     "exception": false,
     "start_time": "2022-06-06T02:57:07.911275",
     "status": "completed"
    },
    "tags": []
   },
   "outputs": [],
   "source": []
  },
  {
   "cell_type": "code",
   "execution_count": null,
   "id": "saving-secretariat",
   "metadata": {
    "papermill": {
     "duration": 0.015338,
     "end_time": "2022-06-06T02:57:07.957971",
     "exception": false,
     "start_time": "2022-06-06T02:57:07.942633",
     "status": "completed"
    },
    "tags": []
   },
   "outputs": [],
   "source": []
  }
 ],
 "metadata": {
  "kernelspec": {
   "display_name": "Python 3",
   "language": "python",
   "name": "python3"
  },
  "language_info": {
   "codemirror_mode": {
    "name": "ipython",
    "version": 3
   },
   "file_extension": ".py",
   "mimetype": "text/x-python",
   "name": "python",
   "nbconvert_exporter": "python",
   "pygments_lexer": "ipython3",
   "version": "3.6.15"
  },
  "papermill": {
   "default_parameters": {},
   "duration": 16.250102,
   "end_time": "2022-06-06T02:57:08.494233",
   "environment_variables": {},
   "exception": null,
   "input_path": "App-Correlation_charts.ipynb",
   "output_path": "App-Correlation_charts.ipynb",
   "parameters": {},
   "start_time": "2022-06-06T02:56:52.244131",
   "version": "2.2.2"
  }
 },
 "nbformat": 4,
 "nbformat_minor": 5
}