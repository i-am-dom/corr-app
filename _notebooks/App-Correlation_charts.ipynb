{
 "cells": [
  {
   "cell_type": "markdown",
   "id": "touched-facility",
   "metadata": {
    "papermill": {
     "duration": 0.014432,
     "end_time": "2022-03-06T02:08:24.323195",
     "exception": false,
     "start_time": "2022-03-06T02:08:24.308763",
     "status": "completed"
    },
    "tags": []
   },
   "source": [
    "# Koreliacijų matrica\n",
    "> Išplėstinė koreliacijų matrica. \n",
    "\n",
    "- toc: true \n",
    "- badges: true\n",
    "- comments: false\n",
    "- categories: [Dominykas Tautkus]\n",
    "- image: images/matrix.png"
   ]
  },
  {
   "cell_type": "code",
   "execution_count": null,
   "id": "premium-weekend",
   "metadata": {
    "papermill": {
     "duration": 0.011125,
     "end_time": "2022-03-06T02:08:24.346042",
     "exception": false,
     "start_time": "2022-03-06T02:08:24.334917",
     "status": "completed"
    },
    "tags": []
   },
   "outputs": [],
   "source": []
  },
  {
   "cell_type": "code",
   "execution_count": 1,
   "id": "vertical-rebate",
   "metadata": {
    "execution": {
     "iopub.execute_input": "2022-03-06T02:08:24.378038Z",
     "iopub.status.busy": "2022-03-06T02:08:24.377529Z",
     "iopub.status.idle": "2022-03-06T02:08:24.388051Z",
     "shell.execute_reply": "2022-03-06T02:08:24.388492Z"
    },
    "papermill": {
     "duration": 0.03156,
     "end_time": "2022-03-06T02:08:24.388619",
     "exception": false,
     "start_time": "2022-03-06T02:08:24.357059",
     "status": "completed"
    },
    "tags": []
   },
   "outputs": [],
   "source": [
    "#hide\n",
    "%load_ext autoreload\n",
    "%autoreload 2"
   ]
  },
  {
   "cell_type": "code",
   "execution_count": 2,
   "id": "overall-advancement",
   "metadata": {
    "execution": {
     "iopub.execute_input": "2022-03-06T02:08:24.413344Z",
     "iopub.status.busy": "2022-03-06T02:08:24.412855Z",
     "iopub.status.idle": "2022-03-06T02:08:25.545235Z",
     "shell.execute_reply": "2022-03-06T02:08:25.545644Z"
    },
    "papermill": {
     "duration": 1.146129,
     "end_time": "2022-03-06T02:08:25.545779",
     "exception": false,
     "start_time": "2022-03-06T02:08:24.399650",
     "status": "completed"
    },
    "tags": []
   },
   "outputs": [],
   "source": [
    "#hide\n",
    "from scripts.read_data import read_api\n",
    "from IPython.display import HTML\n",
    "import plotly.graph_objects as go\n"
   ]
  },
  {
   "cell_type": "code",
   "execution_count": 3,
   "id": "light-crazy",
   "metadata": {
    "execution": {
     "iopub.execute_input": "2022-03-06T02:08:25.574537Z",
     "iopub.status.busy": "2022-03-06T02:08:25.572487Z",
     "iopub.status.idle": "2022-03-06T02:08:25.592515Z",
     "shell.execute_reply": "2022-03-06T02:08:25.592016Z"
    },
    "papermill": {
     "duration": 0.03547,
     "end_time": "2022-03-06T02:08:25.592612",
     "exception": false,
     "start_time": "2022-03-06T02:08:25.557142",
     "status": "completed"
    },
    "tags": []
   },
   "outputs": [],
   "source": [
    "#hide\n",
    "### ICO koreliacija"
   ]
  },
  {
   "cell_type": "code",
   "execution_count": 4,
   "id": "likely-bahrain",
   "metadata": {
    "execution": {
     "iopub.execute_input": "2022-03-06T02:08:25.617696Z",
     "iopub.status.busy": "2022-03-06T02:08:25.617210Z",
     "iopub.status.idle": "2022-03-06T02:08:26.476654Z",
     "shell.execute_reply": "2022-03-06T02:08:26.477057Z"
    },
    "papermill": {
     "duration": 0.87354,
     "end_time": "2022-03-06T02:08:26.477190",
     "exception": false,
     "start_time": "2022-03-06T02:08:25.603650",
     "status": "completed"
    },
    "tags": []
   },
   "outputs": [],
   "source": [
    "#hide\n",
    "import matplotlib.pyplot as plt\n",
    "import numpy as np\n",
    "import pandas as pd\n",
    "import seaborn as sns\n",
    "import matplotlib.pyplot as plt \n",
    "import matplotlib.dates as mdates\n",
    "import matplotlib.pyplot as plt"
   ]
  },
  {
   "cell_type": "code",
   "execution_count": 5,
   "id": "superior-blanket",
   "metadata": {
    "execution": {
     "iopub.execute_input": "2022-03-06T02:08:26.503344Z",
     "iopub.status.busy": "2022-03-06T02:08:26.502853Z",
     "iopub.status.idle": "2022-03-06T02:08:40.513118Z",
     "shell.execute_reply": "2022-03-06T02:08:40.512640Z"
    },
    "papermill": {
     "duration": 14.024472,
     "end_time": "2022-03-06T02:08:40.513230",
     "exception": false,
     "start_time": "2022-03-06T02:08:26.488758",
     "status": "completed"
    },
    "tags": []
   },
   "outputs": [
    {
     "name": "stderr",
     "output_type": "stream",
     "text": [
      "/home/runner/work/corr-app/corr-app/_notebooks/scripts/read_data.py:187: SettingWithCopyWarning:\n",
      "\n",
      "\n",
      "A value is trying to be set on a copy of a slice from a DataFrame.\n",
      "Try using .loc[row_indexer,col_indexer] = value instead\n",
      "\n",
      "See the caveats in the documentation: https://pandas.pydata.org/pandas-docs/stable/user_guide/indexing.html#returning-a-view-versus-a-copy\n",
      "\n"
     ]
    },
    {
     "name": "stderr",
     "output_type": "stream",
     "text": [
      "/home/runner/work/corr-app/corr-app/_notebooks/scripts/read_data.py:215: SettingWithCopyWarning:\n",
      "\n",
      "\n",
      "A value is trying to be set on a copy of a slice from a DataFrame.\n",
      "Try using .loc[row_indexer,col_indexer] = value instead\n",
      "\n",
      "See the caveats in the documentation: https://pandas.pydata.org/pandas-docs/stable/user_guide/indexing.html#returning-a-view-versus-a-copy\n",
      "\n"
     ]
    }
   ],
   "source": [
    "#hide\n",
    "df_all = read_api()\n",
    "#df_all = df_all.drop(['SP500', 'XAU', 'ETH', 'BTC'], axis=1)\n",
    "\n"
   ]
  },
  {
   "cell_type": "code",
   "execution_count": 6,
   "id": "mature-alert",
   "metadata": {
    "execution": {
     "iopub.execute_input": "2022-03-06T02:08:40.542349Z",
     "iopub.status.busy": "2022-03-06T02:08:40.540785Z",
     "iopub.status.idle": "2022-03-06T02:08:40.567940Z",
     "shell.execute_reply": "2022-03-06T02:08:40.568312Z"
    },
    "papermill": {
     "duration": 0.043138,
     "end_time": "2022-03-06T02:08:40.568441",
     "exception": false,
     "start_time": "2022-03-06T02:08:40.525303",
     "status": "completed"
    },
    "tags": []
   },
   "outputs": [],
   "source": [
    "#hide_input\n",
    "sum_corr = df_all.corr().sum().sort_values(ascending=True).index.values\n",
    "#df_all[sum_corr].corr()"
   ]
  },
  {
   "cell_type": "markdown",
   "id": "complex-syndicate",
   "metadata": {
    "papermill": {
     "duration": 0.011574,
     "end_time": "2022-03-06T02:08:40.591641",
     "exception": false,
     "start_time": "2022-03-06T02:08:40.580067",
     "status": "completed"
    },
    "tags": []
   },
   "source": [
    "## Išplėstinė koreliacijų matrica. "
   ]
  },
  {
   "cell_type": "code",
   "execution_count": 7,
   "id": "atomic-omaha",
   "metadata": {
    "execution": {
     "iopub.execute_input": "2022-03-06T02:08:40.618619Z",
     "iopub.status.busy": "2022-03-06T02:08:40.618138Z",
     "iopub.status.idle": "2022-03-06T02:08:41.769347Z",
     "shell.execute_reply": "2022-03-06T02:08:41.769745Z"
    },
    "papermill": {
     "duration": 1.16663,
     "end_time": "2022-03-06T02:08:41.769866",
     "exception": false,
     "start_time": "2022-03-06T02:08:40.603236",
     "status": "completed"
    },
    "tags": []
   },
   "outputs": [
    {
     "data": {
      "image/png": "[encoded data removed]",
      "text/plain": [
       "<Figure size 1080x792 with 2 Axes>"
      ]
     },
     "metadata": {
      "needs_background": "light"
     },
     "output_type": "display_data"
    }
   ],
   "source": [
    "#hide_input\n",
    "plt.figure(figsize=(15, 11))\n",
    "sns.heatmap(df_all[sum_corr].corr(), annot=True, cmap=\"cubehelix\") \n",
    "sns.set(font_scale=1.25)\n",
    "plt.savefig('corr_matrix.png', format='eps')"
   ]
  },
  {
   "cell_type": "code",
   "execution_count": 8,
   "id": "arbitrary-sullivan",
   "metadata": {
    "execution": {
     "iopub.execute_input": "2022-03-06T02:08:41.801765Z",
     "iopub.status.busy": "2022-03-06T02:08:41.801008Z",
     "iopub.status.idle": "2022-03-06T02:08:41.823695Z",
     "shell.execute_reply": "2022-03-06T02:08:41.824063Z"
    },
    "papermill": {
     "duration": 0.040447,
     "end_time": "2022-03-06T02:08:41.824178",
     "exception": false,
     "start_time": "2022-03-06T02:08:41.783731",
     "status": "completed"
    },
    "tags": []
   },
   "outputs": [],
   "source": [
    "#hide\n",
    "#df_all_mrk = read_api()"
   ]
  },
  {
   "cell_type": "code",
   "execution_count": 9,
   "id": "delayed-adapter",
   "metadata": {
    "execution": {
     "iopub.execute_input": "2022-03-06T02:08:41.854252Z",
     "iopub.status.busy": "2022-03-06T02:08:41.853741Z",
     "iopub.status.idle": "2022-03-06T02:08:41.878504Z",
     "shell.execute_reply": "2022-03-06T02:08:41.878100Z"
    },
    "papermill": {
     "duration": 0.040575,
     "end_time": "2022-03-06T02:08:41.878605",
     "exception": false,
     "start_time": "2022-03-06T02:08:41.838030",
     "status": "completed"
    },
    "tags": []
   },
   "outputs": [],
   "source": [
    "#hide\n",
    "#Koreliacijų koeficientai"
   ]
  },
  {
   "cell_type": "code",
   "execution_count": 10,
   "id": "seeing-celebration",
   "metadata": {
    "execution": {
     "iopub.execute_input": "2022-03-06T02:08:41.909246Z",
     "iopub.status.busy": "2022-03-06T02:08:41.908750Z",
     "iopub.status.idle": "2022-03-06T02:08:41.933266Z",
     "shell.execute_reply": "2022-03-06T02:08:41.932838Z"
    },
    "papermill": {
     "duration": 0.040311,
     "end_time": "2022-03-06T02:08:41.933363",
     "exception": false,
     "start_time": "2022-03-06T02:08:41.893052",
     "status": "completed"
    },
    "tags": []
   },
   "outputs": [],
   "source": [
    "#hide_input\n",
    "#sum_corr = df_all_mrk.corr().sum().sort_values(ascending=True).index.values\n",
    "#df_all_mrk[sum_corr].corr()"
   ]
  },
  {
   "cell_type": "code",
   "execution_count": 11,
   "id": "other-painting",
   "metadata": {
    "execution": {
     "iopub.execute_input": "2022-03-06T02:08:41.962828Z",
     "iopub.status.busy": "2022-03-06T02:08:41.962342Z",
     "iopub.status.idle": "2022-03-06T02:08:41.985656Z",
     "shell.execute_reply": "2022-03-06T02:08:41.985255Z"
    },
    "papermill": {
     "duration": 0.038901,
     "end_time": "2022-03-06T02:08:41.985756",
     "exception": false,
     "start_time": "2022-03-06T02:08:41.946855",
     "status": "completed"
    },
    "tags": []
   },
   "outputs": [],
   "source": [
    "#hide\n",
    "#Koreliacijos matrica. "
   ]
  },
  {
   "cell_type": "code",
   "execution_count": 12,
   "id": "modular-magnitude",
   "metadata": {
    "execution": {
     "iopub.execute_input": "2022-03-06T02:08:42.015616Z",
     "iopub.status.busy": "2022-03-06T02:08:42.015113Z",
     "iopub.status.idle": "2022-03-06T02:08:42.038431Z",
     "shell.execute_reply": "2022-03-06T02:08:42.038027Z"
    },
    "papermill": {
     "duration": 0.039178,
     "end_time": "2022-03-06T02:08:42.038530",
     "exception": false,
     "start_time": "2022-03-06T02:08:41.999352",
     "status": "completed"
    },
    "tags": []
   },
   "outputs": [],
   "source": [
    "#hide_input\n",
    "#plt.figure(figsize=(15, 8))\n",
    "#sns.heatmap(df_all_mrk[sum_corr].corr(), annot=True, cmap=\"BrBG\");\n",
    "#plt.savefig('corr_matrix_all.eps', format='eps')"
   ]
  },
  {
   "cell_type": "code",
   "execution_count": null,
   "id": "original-senator",
   "metadata": {
    "papermill": {
     "duration": 0.013897,
     "end_time": "2022-03-06T02:08:42.065861",
     "exception": false,
     "start_time": "2022-03-06T02:08:42.051964",
     "status": "completed"
    },
    "tags": []
   },
   "outputs": [],
   "source": []
  },
  {
   "cell_type": "code",
   "execution_count": null,
   "id": "saving-secretariat",
   "metadata": {
    "papermill": {
     "duration": 0.013489,
     "end_time": "2022-03-06T02:08:42.092824",
     "exception": false,
     "start_time": "2022-03-06T02:08:42.079335",
     "status": "completed"
    },
    "tags": []
   },
   "outputs": [],
   "source": []
  }
 ],
 "metadata": {
  "kernelspec": {
   "display_name": "Python 3",
   "language": "python",
   "name": "python3"
  },
  "language_info": {
   "codemirror_mode": {
    "name": "ipython",
    "version": 3
   },
   "file_extension": ".py",
   "mimetype": "text/x-python",
   "name": "python",
   "nbconvert_exporter": "python",
   "pygments_lexer": "ipython3",
   "version": "3.6.15"
  },
  "papermill": {
   "default_parameters": {},
   "duration": 19.114832,
   "end_time": "2022-03-06T02:08:42.523717",
   "environment_variables": {},
   "exception": null,
   "input_path": "App-Correlation_charts.ipynb",
   "output_path": "App-Correlation_charts.ipynb",
   "parameters": {},
   "start_time": "2022-03-06T02:08:23.408885",
   "version": "2.2.2"
  }
 },
 "nbformat": 4,
 "nbformat_minor": 5
}