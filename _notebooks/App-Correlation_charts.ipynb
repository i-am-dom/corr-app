{
 "cells": [
  {
   "cell_type": "markdown",
   "id": "touched-facility",
   "metadata": {
    "papermill": {
     "duration": 0.01483,
     "end_time": "2021-12-01T02:34:01.005975",
     "exception": false,
     "start_time": "2021-12-01T02:34:00.991145",
     "status": "completed"
    },
    "tags": []
   },
   "source": [
    "# Koreliacijų matrica\n",
    "> Išplėstinė koreliacijų matrica. \n",
    "\n",
    "- toc: true \n",
    "- badges: true\n",
    "- comments: false\n",
    "- categories: [Dominykas Tautkus]\n",
    "- image: images/matrix.png"
   ]
  },
  {
   "cell_type": "code",
   "execution_count": null,
   "id": "premium-weekend",
   "metadata": {
    "papermill": {
     "duration": 0.010897,
     "end_time": "2021-12-01T02:34:01.028671",
     "exception": false,
     "start_time": "2021-12-01T02:34:01.017774",
     "status": "completed"
    },
    "tags": []
   },
   "outputs": [],
   "source": []
  },
  {
   "cell_type": "code",
   "execution_count": 1,
   "id": "vertical-rebate",
   "metadata": {
    "execution": {
     "iopub.execute_input": "2021-12-01T02:34:01.062926Z",
     "iopub.status.busy": "2021-12-01T02:34:01.060822Z",
     "iopub.status.idle": "2021-12-01T02:34:01.071673Z",
     "shell.execute_reply": "2021-12-01T02:34:01.072090Z"
    },
    "papermill": {
     "duration": 0.032699,
     "end_time": "2021-12-01T02:34:01.072264",
     "exception": false,
     "start_time": "2021-12-01T02:34:01.039565",
     "status": "completed"
    },
    "tags": []
   },
   "outputs": [],
   "source": [
    "#hide\n",
    "%load_ext autoreload\n",
    "%autoreload 2"
   ]
  },
  {
   "cell_type": "code",
   "execution_count": 2,
   "id": "overall-advancement",
   "metadata": {
    "execution": {
     "iopub.execute_input": "2021-12-01T02:34:01.098078Z",
     "iopub.status.busy": "2021-12-01T02:34:01.097451Z",
     "iopub.status.idle": "2021-12-01T02:34:02.343357Z",
     "shell.execute_reply": "2021-12-01T02:34:02.342410Z"
    },
    "papermill": {
     "duration": 1.260344,
     "end_time": "2021-12-01T02:34:02.343504",
     "exception": false,
     "start_time": "2021-12-01T02:34:01.083160",
     "status": "completed"
    },
    "tags": []
   },
   "outputs": [],
   "source": [
    "#hide\n",
    "from scripts.read_data import read_api\n",
    "from IPython.display import HTML\n",
    "import plotly.graph_objects as go\n"
   ]
  },
  {
   "cell_type": "code",
   "execution_count": 3,
   "id": "light-crazy",
   "metadata": {
    "execution": {
     "iopub.execute_input": "2021-12-01T02:34:02.370431Z",
     "iopub.status.busy": "2021-12-01T02:34:02.369807Z",
     "iopub.status.idle": "2021-12-01T02:34:02.392873Z",
     "shell.execute_reply": "2021-12-01T02:34:02.392288Z"
    },
    "papermill": {
     "duration": 0.038413,
     "end_time": "2021-12-01T02:34:02.393016",
     "exception": false,
     "start_time": "2021-12-01T02:34:02.354603",
     "status": "completed"
    },
    "tags": []
   },
   "outputs": [],
   "source": [
    "#hide\n",
    "### ICO koreliacija"
   ]
  },
  {
   "cell_type": "code",
   "execution_count": 4,
   "id": "likely-bahrain",
   "metadata": {
    "execution": {
     "iopub.execute_input": "2021-12-01T02:34:02.421061Z",
     "iopub.status.busy": "2021-12-01T02:34:02.420501Z",
     "iopub.status.idle": "2021-12-01T02:34:03.315992Z",
     "shell.execute_reply": "2021-12-01T02:34:03.315458Z"
    },
    "papermill": {
     "duration": 0.911737,
     "end_time": "2021-12-01T02:34:03.316131",
     "exception": false,
     "start_time": "2021-12-01T02:34:02.404394",
     "status": "completed"
    },
    "tags": []
   },
   "outputs": [],
   "source": [
    "#hide\n",
    "import matplotlib.pyplot as plt\n",
    "import numpy as np\n",
    "import pandas as pd\n",
    "import seaborn as sns\n",
    "import matplotlib.pyplot as plt \n",
    "import matplotlib.dates as mdates\n",
    "import matplotlib.pyplot as plt"
   ]
  },
  {
   "cell_type": "code",
   "execution_count": 5,
   "id": "superior-blanket",
   "metadata": {
    "execution": {
     "iopub.execute_input": "2021-12-01T02:34:03.351936Z",
     "iopub.status.busy": "2021-12-01T02:34:03.349298Z",
     "iopub.status.idle": "2021-12-01T02:34:18.742331Z",
     "shell.execute_reply": "2021-12-01T02:34:18.741371Z"
    },
    "papermill": {
     "duration": 15.414224,
     "end_time": "2021-12-01T02:34:18.742468",
     "exception": false,
     "start_time": "2021-12-01T02:34:03.328244",
     "status": "completed"
    },
    "tags": []
   },
   "outputs": [
    {
     "name": "stderr",
     "output_type": "stream",
     "text": [
      "/home/runner/work/corr-app/corr-app/_notebooks/scripts/read_data.py:187: SettingWithCopyWarning:\n",
      "\n",
      "\n",
      "A value is trying to be set on a copy of a slice from a DataFrame.\n",
      "Try using .loc[row_indexer,col_indexer] = value instead\n",
      "\n",
      "See the caveats in the documentation: https://pandas.pydata.org/pandas-docs/stable/user_guide/indexing.html#returning-a-view-versus-a-copy\n",
      "\n"
     ]
    },
    {
     "name": "stderr",
     "output_type": "stream",
     "text": [
      "/home/runner/work/corr-app/corr-app/_notebooks/scripts/read_data.py:215: SettingWithCopyWarning:\n",
      "\n",
      "\n",
      "A value is trying to be set on a copy of a slice from a DataFrame.\n",
      "Try using .loc[row_indexer,col_indexer] = value instead\n",
      "\n",
      "See the caveats in the documentation: https://pandas.pydata.org/pandas-docs/stable/user_guide/indexing.html#returning-a-view-versus-a-copy\n",
      "\n"
     ]
    }
   ],
   "source": [
    "#hide\n",
    "df_all = read_api()\n",
    "#df_all = df_all.drop(['SP500', 'XAU', 'ETH', 'BTC'], axis=1)\n",
    "\n"
   ]
  },
  {
   "cell_type": "code",
   "execution_count": 6,
   "id": "mature-alert",
   "metadata": {
    "execution": {
     "iopub.execute_input": "2021-12-01T02:34:18.771667Z",
     "iopub.status.busy": "2021-12-01T02:34:18.771043Z",
     "iopub.status.idle": "2021-12-01T02:34:18.800896Z",
     "shell.execute_reply": "2021-12-01T02:34:18.800311Z"
    },
    "papermill": {
     "duration": 0.046828,
     "end_time": "2021-12-01T02:34:18.801037",
     "exception": false,
     "start_time": "2021-12-01T02:34:18.754209",
     "status": "completed"
    },
    "tags": []
   },
   "outputs": [],
   "source": [
    "#hide_input\n",
    "sum_corr = df_all.corr().sum().sort_values(ascending=True).index.values\n",
    "#df_all[sum_corr].corr()"
   ]
  },
  {
   "cell_type": "markdown",
   "id": "complex-syndicate",
   "metadata": {
    "papermill": {
     "duration": 0.011304,
     "end_time": "2021-12-01T02:34:18.824129",
     "exception": false,
     "start_time": "2021-12-01T02:34:18.812825",
     "status": "completed"
    },
    "tags": []
   },
   "source": [
    "## Išplėstinė koreliacijų matrica. "
   ]
  },
  {
   "cell_type": "code",
   "execution_count": 7,
   "id": "atomic-omaha",
   "metadata": {
    "execution": {
     "iopub.execute_input": "2021-12-01T02:34:18.861539Z",
     "iopub.status.busy": "2021-12-01T02:34:18.856368Z",
     "iopub.status.idle": "2021-12-01T02:34:20.123771Z",
     "shell.execute_reply": "2021-12-01T02:34:20.123325Z"
    },
    "papermill": {
     "duration": 1.288394,
     "end_time": "2021-12-01T02:34:20.123900",
     "exception": false,
     "start_time": "2021-12-01T02:34:18.835506",
     "status": "completed"
    },
    "tags": []
   },
   "outputs": [
    {
     "data": {
      "image/png": "[encoded data removed]",
      "text/plain": [
       "<Figure size 1080x792 with 2 Axes>"
      ]
     },
     "metadata": {
      "needs_background": "light"
     },
     "output_type": "display_data"
    }
   ],
   "source": [
    "#hide_input\n",
    "plt.figure(figsize=(15, 11))\n",
    "sns.heatmap(df_all[sum_corr].corr(), annot=True, cmap=\"cubehelix\") \n",
    "sns.set(font_scale=1.25)\n",
    "plt.savefig('corr_matrix.png', format='eps')"
   ]
  },
  {
   "cell_type": "code",
   "execution_count": 8,
   "id": "arbitrary-sullivan",
   "metadata": {
    "execution": {
     "iopub.execute_input": "2021-12-01T02:34:20.155131Z",
     "iopub.status.busy": "2021-12-01T02:34:20.154587Z",
     "iopub.status.idle": "2021-12-01T02:34:20.181259Z",
     "shell.execute_reply": "2021-12-01T02:34:20.181731Z"
    },
    "papermill": {
     "duration": 0.044265,
     "end_time": "2021-12-01T02:34:20.181896",
     "exception": false,
     "start_time": "2021-12-01T02:34:20.137631",
     "status": "completed"
    },
    "tags": []
   },
   "outputs": [],
   "source": [
    "#hide\n",
    "#df_all_mrk = read_api()"
   ]
  },
  {
   "cell_type": "code",
   "execution_count": 9,
   "id": "delayed-adapter",
   "metadata": {
    "execution": {
     "iopub.execute_input": "2021-12-01T02:34:20.212674Z",
     "iopub.status.busy": "2021-12-01T02:34:20.212149Z",
     "iopub.status.idle": "2021-12-01T02:34:20.239284Z",
     "shell.execute_reply": "2021-12-01T02:34:20.239757Z"
    },
    "papermill": {
     "duration": 0.044063,
     "end_time": "2021-12-01T02:34:20.239922",
     "exception": false,
     "start_time": "2021-12-01T02:34:20.195859",
     "status": "completed"
    },
    "tags": []
   },
   "outputs": [],
   "source": [
    "#hide\n",
    "#Koreliacijų koeficientai"
   ]
  },
  {
   "cell_type": "code",
   "execution_count": 10,
   "id": "seeing-celebration",
   "metadata": {
    "execution": {
     "iopub.execute_input": "2021-12-01T02:34:20.274104Z",
     "iopub.status.busy": "2021-12-01T02:34:20.273582Z",
     "iopub.status.idle": "2021-12-01T02:34:20.298634Z",
     "shell.execute_reply": "2021-12-01T02:34:20.298095Z"
    },
    "papermill": {
     "duration": 0.044321,
     "end_time": "2021-12-01T02:34:20.298762",
     "exception": false,
     "start_time": "2021-12-01T02:34:20.254441",
     "status": "completed"
    },
    "tags": []
   },
   "outputs": [],
   "source": [
    "#hide_input\n",
    "#sum_corr = df_all_mrk.corr().sum().sort_values(ascending=True).index.values\n",
    "#df_all_mrk[sum_corr].corr()"
   ]
  },
  {
   "cell_type": "code",
   "execution_count": 11,
   "id": "other-painting",
   "metadata": {
    "execution": {
     "iopub.execute_input": "2021-12-01T02:34:20.331187Z",
     "iopub.status.busy": "2021-12-01T02:34:20.330668Z",
     "iopub.status.idle": "2021-12-01T02:34:20.357185Z",
     "shell.execute_reply": "2021-12-01T02:34:20.356676Z"
    },
    "papermill": {
     "duration": 0.044226,
     "end_time": "2021-12-01T02:34:20.357312",
     "exception": false,
     "start_time": "2021-12-01T02:34:20.313086",
     "status": "completed"
    },
    "tags": []
   },
   "outputs": [],
   "source": [
    "#hide\n",
    "#Koreliacijos matrica. "
   ]
  },
  {
   "cell_type": "code",
   "execution_count": 12,
   "id": "modular-magnitude",
   "metadata": {
    "execution": {
     "iopub.execute_input": "2021-12-01T02:34:20.387616Z",
     "iopub.status.busy": "2021-12-01T02:34:20.387093Z",
     "iopub.status.idle": "2021-12-01T02:34:20.414244Z",
     "shell.execute_reply": "2021-12-01T02:34:20.413751Z"
    },
    "papermill": {
     "duration": 0.043517,
     "end_time": "2021-12-01T02:34:20.414378",
     "exception": false,
     "start_time": "2021-12-01T02:34:20.370861",
     "status": "completed"
    },
    "tags": []
   },
   "outputs": [],
   "source": [
    "#hide_input\n",
    "#plt.figure(figsize=(15, 8))\n",
    "#sns.heatmap(df_all_mrk[sum_corr].corr(), annot=True, cmap=\"BrBG\");\n",
    "#plt.savefig('corr_matrix_all.eps', format='eps')"
   ]
  },
  {
   "cell_type": "code",
   "execution_count": null,
   "id": "original-senator",
   "metadata": {
    "papermill": {
     "duration": 0.013256,
     "end_time": "2021-12-01T02:34:20.441493",
     "exception": false,
     "start_time": "2021-12-01T02:34:20.428237",
     "status": "completed"
    },
    "tags": []
   },
   "outputs": [],
   "source": []
  },
  {
   "cell_type": "code",
   "execution_count": null,
   "id": "saving-secretariat",
   "metadata": {
    "papermill": {
     "duration": 0.013177,
     "end_time": "2021-12-01T02:34:20.467963",
     "exception": false,
     "start_time": "2021-12-01T02:34:20.454786",
     "status": "completed"
    },
    "tags": []
   },
   "outputs": [],
   "source": []
  }
 ],
 "metadata": {
  "kernelspec": {
   "display_name": "Python 3",
   "language": "python",
   "name": "python3"
  },
  "language_info": {
   "codemirror_mode": {
    "name": "ipython",
    "version": 3
   },
   "file_extension": ".py",
   "mimetype": "text/x-python",
   "name": "python",
   "nbconvert_exporter": "python",
   "pygments_lexer": "ipython3",
   "version": "3.6.15"
  },
  "papermill": {
   "default_parameters": {},
   "duration": 21.060801,
   "end_time": "2021-12-01T02:34:21.091260",
   "environment_variables": {},
   "exception": null,
   "input_path": "App-Correlation_charts.ipynb",
   "output_path": "App-Correlation_charts.ipynb",
   "parameters": {},
   "start_time": "2021-12-01T02:34:00.030459",
   "version": "2.2.2"
  }
 },
 "nbformat": 4,
 "nbformat_minor": 5
}