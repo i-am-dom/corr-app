{
 "cells": [
  {
   "cell_type": "markdown",
   "id": "touched-facility",
   "metadata": {
    "papermill": {
     "duration": 0.015072,
     "end_time": "2021-11-16T01:57:43.160633",
     "exception": false,
     "start_time": "2021-11-16T01:57:43.145561",
     "status": "completed"
    },
    "tags": []
   },
   "source": [
    "# Koreliacijų matrica\n",
    "> Išplėstinė koreliacijų matrica. \n",
    "\n",
    "- toc: true \n",
    "- badges: true\n",
    "- comments: false\n",
    "- categories: [Dominykas Tautkus]\n",
    "- image: images/matrix.png"
   ]
  },
  {
   "cell_type": "code",
   "execution_count": null,
   "id": "premium-weekend",
   "metadata": {
    "papermill": {
     "duration": 0.010574,
     "end_time": "2021-11-16T01:57:43.182561",
     "exception": false,
     "start_time": "2021-11-16T01:57:43.171987",
     "status": "completed"
    },
    "tags": []
   },
   "outputs": [],
   "source": []
  },
  {
   "cell_type": "code",
   "execution_count": 1,
   "id": "vertical-rebate",
   "metadata": {
    "execution": {
     "iopub.execute_input": "2021-11-16T01:57:43.216626Z",
     "iopub.status.busy": "2021-11-16T01:57:43.216080Z",
     "iopub.status.idle": "2021-11-16T01:57:43.227625Z",
     "shell.execute_reply": "2021-11-16T01:57:43.227165Z"
    },
    "papermill": {
     "duration": 0.034537,
     "end_time": "2021-11-16T01:57:43.227751",
     "exception": false,
     "start_time": "2021-11-16T01:57:43.193214",
     "status": "completed"
    },
    "tags": []
   },
   "outputs": [],
   "source": [
    "#hide\n",
    "%load_ext autoreload\n",
    "%autoreload 2"
   ]
  },
  {
   "cell_type": "code",
   "execution_count": 2,
   "id": "overall-advancement",
   "metadata": {
    "execution": {
     "iopub.execute_input": "2021-11-16T01:57:43.253220Z",
     "iopub.status.busy": "2021-11-16T01:57:43.252720Z",
     "iopub.status.idle": "2021-11-16T01:57:44.849816Z",
     "shell.execute_reply": "2021-11-16T01:57:44.849296Z"
    },
    "papermill": {
     "duration": 1.611505,
     "end_time": "2021-11-16T01:57:44.849963",
     "exception": false,
     "start_time": "2021-11-16T01:57:43.238458",
     "status": "completed"
    },
    "tags": []
   },
   "outputs": [],
   "source": [
    "#hide\n",
    "from scripts.read_data import read_api\n",
    "from IPython.display import HTML\n",
    "import plotly.graph_objects as go\n"
   ]
  },
  {
   "cell_type": "code",
   "execution_count": 3,
   "id": "light-crazy",
   "metadata": {
    "execution": {
     "iopub.execute_input": "2021-11-16T01:57:44.876204Z",
     "iopub.status.busy": "2021-11-16T01:57:44.875678Z",
     "iopub.status.idle": "2021-11-16T01:57:44.896642Z",
     "shell.execute_reply": "2021-11-16T01:57:44.897080Z"
    },
    "papermill": {
     "duration": 0.035648,
     "end_time": "2021-11-16T01:57:44.897223",
     "exception": false,
     "start_time": "2021-11-16T01:57:44.861575",
     "status": "completed"
    },
    "tags": []
   },
   "outputs": [],
   "source": [
    "#hide\n",
    "### ICO koreliacija"
   ]
  },
  {
   "cell_type": "code",
   "execution_count": 4,
   "id": "likely-bahrain",
   "metadata": {
    "execution": {
     "iopub.execute_input": "2021-11-16T01:57:44.926067Z",
     "iopub.status.busy": "2021-11-16T01:57:44.925565Z",
     "iopub.status.idle": "2021-11-16T01:57:45.760720Z",
     "shell.execute_reply": "2021-11-16T01:57:45.760183Z"
    },
    "papermill": {
     "duration": 0.852066,
     "end_time": "2021-11-16T01:57:45.760860",
     "exception": false,
     "start_time": "2021-11-16T01:57:44.908794",
     "status": "completed"
    },
    "tags": []
   },
   "outputs": [],
   "source": [
    "#hide\n",
    "import matplotlib.pyplot as plt\n",
    "import numpy as np\n",
    "import pandas as pd\n",
    "import seaborn as sns\n",
    "import matplotlib.pyplot as plt \n",
    "import matplotlib.dates as mdates\n",
    "import matplotlib.pyplot as plt"
   ]
  },
  {
   "cell_type": "code",
   "execution_count": 5,
   "id": "superior-blanket",
   "metadata": {
    "execution": {
     "iopub.execute_input": "2021-11-16T01:57:45.788138Z",
     "iopub.status.busy": "2021-11-16T01:57:45.787283Z",
     "iopub.status.idle": "2021-11-16T01:57:57.750274Z",
     "shell.execute_reply": "2021-11-16T01:57:57.749729Z"
    },
    "papermill": {
     "duration": 11.977695,
     "end_time": "2021-11-16T01:57:57.750415",
     "exception": false,
     "start_time": "2021-11-16T01:57:45.772720",
     "status": "completed"
    },
    "tags": []
   },
   "outputs": [
    {
     "name": "stderr",
     "output_type": "stream",
     "text": [
      "/home/runner/work/corr-app/corr-app/_notebooks/scripts/read_data.py:187: SettingWithCopyWarning:\n",
      "\n",
      "\n",
      "A value is trying to be set on a copy of a slice from a DataFrame.\n",
      "Try using .loc[row_indexer,col_indexer] = value instead\n",
      "\n",
      "See the caveats in the documentation: https://pandas.pydata.org/pandas-docs/stable/user_guide/indexing.html#returning-a-view-versus-a-copy\n",
      "\n"
     ]
    },
    {
     "name": "stderr",
     "output_type": "stream",
     "text": [
      "/home/runner/work/corr-app/corr-app/_notebooks/scripts/read_data.py:215: SettingWithCopyWarning:\n",
      "\n",
      "\n",
      "A value is trying to be set on a copy of a slice from a DataFrame.\n",
      "Try using .loc[row_indexer,col_indexer] = value instead\n",
      "\n",
      "See the caveats in the documentation: https://pandas.pydata.org/pandas-docs/stable/user_guide/indexing.html#returning-a-view-versus-a-copy\n",
      "\n"
     ]
    }
   ],
   "source": [
    "#hide\n",
    "df_all = read_api()\n",
    "#df_all = df_all.drop(['SP500', 'XAU', 'ETH', 'BTC'], axis=1)\n",
    "\n"
   ]
  },
  {
   "cell_type": "code",
   "execution_count": 6,
   "id": "mature-alert",
   "metadata": {
    "execution": {
     "iopub.execute_input": "2021-11-16T01:57:57.777580Z",
     "iopub.status.busy": "2021-11-16T01:57:57.777051Z",
     "iopub.status.idle": "2021-11-16T01:57:57.806708Z",
     "shell.execute_reply": "2021-11-16T01:57:57.807188Z"
    },
    "papermill": {
     "duration": 0.045181,
     "end_time": "2021-11-16T01:57:57.807338",
     "exception": false,
     "start_time": "2021-11-16T01:57:57.762157",
     "status": "completed"
    },
    "tags": []
   },
   "outputs": [],
   "source": [
    "#hide_input\n",
    "sum_corr = df_all.corr().sum().sort_values(ascending=True).index.values\n",
    "#df_all[sum_corr].corr()"
   ]
  },
  {
   "cell_type": "markdown",
   "id": "complex-syndicate",
   "metadata": {
    "papermill": {
     "duration": 0.011231,
     "end_time": "2021-11-16T01:57:57.830465",
     "exception": false,
     "start_time": "2021-11-16T01:57:57.819234",
     "status": "completed"
    },
    "tags": []
   },
   "source": [
    "## Išplėstinė koreliacijų matrica. "
   ]
  },
  {
   "cell_type": "code",
   "execution_count": 7,
   "id": "atomic-omaha",
   "metadata": {
    "execution": {
     "iopub.execute_input": "2021-11-16T01:57:57.856353Z",
     "iopub.status.busy": "2021-11-16T01:57:57.855850Z",
     "iopub.status.idle": "2021-11-16T01:57:59.029558Z",
     "shell.execute_reply": "2021-11-16T01:57:59.029956Z"
    },
    "papermill": {
     "duration": 1.18849,
     "end_time": "2021-11-16T01:57:59.030101",
     "exception": false,
     "start_time": "2021-11-16T01:57:57.841611",
     "status": "completed"
    },
    "tags": []
   },
   "outputs": [
    {
     "data": {
      "image/png": "[encoded data removed]",
      "text/plain": [
       "<Figure size 1080x792 with 2 Axes>"
      ]
     },
     "metadata": {
      "needs_background": "light"
     },
     "output_type": "display_data"
    }
   ],
   "source": [
    "#hide_input\n",
    "plt.figure(figsize=(15, 11))\n",
    "sns.heatmap(df_all[sum_corr].corr(), annot=True, cmap=\"cubehelix\") \n",
    "sns.set(font_scale=1.25)\n",
    "plt.savefig('corr_matrix.png', format='eps')"
   ]
  },
  {
   "cell_type": "code",
   "execution_count": 8,
   "id": "arbitrary-sullivan",
   "metadata": {
    "execution": {
     "iopub.execute_input": "2021-11-16T01:57:59.061820Z",
     "iopub.status.busy": "2021-11-16T01:57:59.061274Z",
     "iopub.status.idle": "2021-11-16T01:57:59.087257Z",
     "shell.execute_reply": "2021-11-16T01:57:59.086706Z"
    },
    "papermill": {
     "duration": 0.04346,
     "end_time": "2021-11-16T01:57:59.087379",
     "exception": false,
     "start_time": "2021-11-16T01:57:59.043919",
     "status": "completed"
    },
    "tags": []
   },
   "outputs": [],
   "source": [
    "#hide\n",
    "#df_all_mrk = read_api()"
   ]
  },
  {
   "cell_type": "code",
   "execution_count": 9,
   "id": "delayed-adapter",
   "metadata": {
    "execution": {
     "iopub.execute_input": "2021-11-16T01:57:59.120656Z",
     "iopub.status.busy": "2021-11-16T01:57:59.120150Z",
     "iopub.status.idle": "2021-11-16T01:57:59.143444Z",
     "shell.execute_reply": "2021-11-16T01:57:59.142953Z"
    },
    "papermill": {
     "duration": 0.042497,
     "end_time": "2021-11-16T01:57:59.143563",
     "exception": false,
     "start_time": "2021-11-16T01:57:59.101066",
     "status": "completed"
    },
    "tags": []
   },
   "outputs": [],
   "source": [
    "#hide\n",
    "#Koreliacijų koeficientai"
   ]
  },
  {
   "cell_type": "code",
   "execution_count": 10,
   "id": "seeing-celebration",
   "metadata": {
    "execution": {
     "iopub.execute_input": "2021-11-16T01:57:59.184737Z",
     "iopub.status.busy": "2021-11-16T01:57:59.183786Z",
     "iopub.status.idle": "2021-11-16T01:57:59.202726Z",
     "shell.execute_reply": "2021-11-16T01:57:59.202320Z"
    },
    "papermill": {
     "duration": 0.044903,
     "end_time": "2021-11-16T01:57:59.202831",
     "exception": false,
     "start_time": "2021-11-16T01:57:59.157928",
     "status": "completed"
    },
    "tags": []
   },
   "outputs": [],
   "source": [
    "#hide_input\n",
    "#sum_corr = df_all_mrk.corr().sum().sort_values(ascending=True).index.values\n",
    "#df_all_mrk[sum_corr].corr()"
   ]
  },
  {
   "cell_type": "code",
   "execution_count": 11,
   "id": "other-painting",
   "metadata": {
    "execution": {
     "iopub.execute_input": "2021-11-16T01:57:59.232012Z",
     "iopub.status.busy": "2021-11-16T01:57:59.231512Z",
     "iopub.status.idle": "2021-11-16T01:57:59.256596Z",
     "shell.execute_reply": "2021-11-16T01:57:59.256105Z"
    },
    "papermill": {
     "duration": 0.040817,
     "end_time": "2021-11-16T01:57:59.256708",
     "exception": false,
     "start_time": "2021-11-16T01:57:59.215891",
     "status": "completed"
    },
    "tags": []
   },
   "outputs": [],
   "source": [
    "#hide\n",
    "#Koreliacijos matrica. "
   ]
  },
  {
   "cell_type": "code",
   "execution_count": 12,
   "id": "modular-magnitude",
   "metadata": {
    "execution": {
     "iopub.execute_input": "2021-11-16T01:57:59.292123Z",
     "iopub.status.busy": "2021-11-16T01:57:59.291622Z",
     "iopub.status.idle": "2021-11-16T01:57:59.313330Z",
     "shell.execute_reply": "2021-11-16T01:57:59.312906Z"
    },
    "papermill": {
     "duration": 0.042244,
     "end_time": "2021-11-16T01:57:59.313429",
     "exception": false,
     "start_time": "2021-11-16T01:57:59.271185",
     "status": "completed"
    },
    "tags": []
   },
   "outputs": [],
   "source": [
    "#hide_input\n",
    "#plt.figure(figsize=(15, 8))\n",
    "#sns.heatmap(df_all_mrk[sum_corr].corr(), annot=True, cmap=\"BrBG\");\n",
    "#plt.savefig('corr_matrix_all.eps', format='eps')"
   ]
  },
  {
   "cell_type": "code",
   "execution_count": null,
   "id": "original-senator",
   "metadata": {
    "papermill": {
     "duration": 0.012991,
     "end_time": "2021-11-16T01:57:59.339419",
     "exception": false,
     "start_time": "2021-11-16T01:57:59.326428",
     "status": "completed"
    },
    "tags": []
   },
   "outputs": [],
   "source": []
  },
  {
   "cell_type": "code",
   "execution_count": null,
   "id": "saving-secretariat",
   "metadata": {
    "papermill": {
     "duration": 0.013035,
     "end_time": "2021-11-16T01:57:59.365507",
     "exception": false,
     "start_time": "2021-11-16T01:57:59.352472",
     "status": "completed"
    },
    "tags": []
   },
   "outputs": [],
   "source": []
  }
 ],
 "metadata": {
  "kernelspec": {
   "display_name": "Python 3",
   "language": "python",
   "name": "python3"
  },
  "language_info": {
   "codemirror_mode": {
    "name": "ipython",
    "version": 3
   },
   "file_extension": ".py",
   "mimetype": "text/x-python",
   "name": "python",
   "nbconvert_exporter": "python",
   "pygments_lexer": "ipython3",
   "version": "3.6.15"
  },
  "papermill": {
   "default_parameters": {},
   "duration": 17.914164,
   "end_time": "2021-11-16T01:57:59.888270",
   "environment_variables": {},
   "exception": null,
   "input_path": "App-Correlation_charts.ipynb",
   "output_path": "App-Correlation_charts.ipynb",
   "parameters": {},
   "start_time": "2021-11-16T01:57:41.974106",
   "version": "2.2.2"
  }
 },
 "nbformat": 4,
 "nbformat_minor": 5
}