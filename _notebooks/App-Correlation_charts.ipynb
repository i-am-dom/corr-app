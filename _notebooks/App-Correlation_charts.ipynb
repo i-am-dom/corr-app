{
 "cells": [
  {
   "cell_type": "markdown",
   "id": "touched-facility",
   "metadata": {
    "papermill": {
     "duration": 0.015607,
     "end_time": "2021-10-20T02:03:46.886608",
     "exception": false,
     "start_time": "2021-10-20T02:03:46.871001",
     "status": "completed"
    },
    "tags": []
   },
   "source": [
    "# Koreliacijų matrica\n",
    "> Išplėstinė koreliacijų matrica. \n",
    "\n",
    "- toc: true \n",
    "- badges: true\n",
    "- comments: false\n",
    "- categories: [Dominykas Tautkus]\n",
    "- image: images/matrix.png"
   ]
  },
  {
   "cell_type": "code",
   "execution_count": null,
   "id": "premium-weekend",
   "metadata": {
    "papermill": {
     "duration": 0.01061,
     "end_time": "2021-10-20T02:03:46.908593",
     "exception": false,
     "start_time": "2021-10-20T02:03:46.897983",
     "status": "completed"
    },
    "tags": []
   },
   "outputs": [],
   "source": []
  },
  {
   "cell_type": "code",
   "execution_count": 1,
   "id": "vertical-rebate",
   "metadata": {
    "execution": {
     "iopub.execute_input": "2021-10-20T02:03:46.942558Z",
     "iopub.status.busy": "2021-10-20T02:03:46.942028Z",
     "iopub.status.idle": "2021-10-20T02:03:46.952551Z",
     "shell.execute_reply": "2021-10-20T02:03:46.952110Z"
    },
    "papermill": {
     "duration": 0.033513,
     "end_time": "2021-10-20T02:03:46.952678",
     "exception": false,
     "start_time": "2021-10-20T02:03:46.919165",
     "status": "completed"
    },
    "tags": []
   },
   "outputs": [],
   "source": [
    "#hide\n",
    "%load_ext autoreload\n",
    "%autoreload 2"
   ]
  },
  {
   "cell_type": "code",
   "execution_count": 2,
   "id": "overall-advancement",
   "metadata": {
    "execution": {
     "iopub.execute_input": "2021-10-20T02:03:46.977698Z",
     "iopub.status.busy": "2021-10-20T02:03:46.977162Z",
     "iopub.status.idle": "2021-10-20T02:03:48.284702Z",
     "shell.execute_reply": "2021-10-20T02:03:48.284153Z"
    },
    "papermill": {
     "duration": 1.321531,
     "end_time": "2021-10-20T02:03:48.284848",
     "exception": false,
     "start_time": "2021-10-20T02:03:46.963317",
     "status": "completed"
    },
    "tags": []
   },
   "outputs": [],
   "source": [
    "#hide\n",
    "from scripts.read_data import read_api\n",
    "from IPython.display import HTML\n",
    "import plotly.graph_objects as go\n"
   ]
  },
  {
   "cell_type": "code",
   "execution_count": 3,
   "id": "light-crazy",
   "metadata": {
    "execution": {
     "iopub.execute_input": "2021-10-20T02:03:48.312086Z",
     "iopub.status.busy": "2021-10-20T02:03:48.311455Z",
     "iopub.status.idle": "2021-10-20T02:03:48.334457Z",
     "shell.execute_reply": "2021-10-20T02:03:48.334010Z"
    },
    "papermill": {
     "duration": 0.038584,
     "end_time": "2021-10-20T02:03:48.334581",
     "exception": false,
     "start_time": "2021-10-20T02:03:48.295997",
     "status": "completed"
    },
    "tags": []
   },
   "outputs": [],
   "source": [
    "#hide\n",
    "### ICO koreliacija"
   ]
  },
  {
   "cell_type": "code",
   "execution_count": 4,
   "id": "likely-bahrain",
   "metadata": {
    "execution": {
     "iopub.execute_input": "2021-10-20T02:03:48.360919Z",
     "iopub.status.busy": "2021-10-20T02:03:48.360410Z",
     "iopub.status.idle": "2021-10-20T02:03:49.309699Z",
     "shell.execute_reply": "2021-10-20T02:03:49.309137Z"
    },
    "papermill": {
     "duration": 0.964513,
     "end_time": "2021-10-20T02:03:49.309846",
     "exception": false,
     "start_time": "2021-10-20T02:03:48.345333",
     "status": "completed"
    },
    "tags": []
   },
   "outputs": [],
   "source": [
    "#hide\n",
    "import matplotlib.pyplot as plt\n",
    "import numpy as np\n",
    "import pandas as pd\n",
    "import seaborn as sns\n",
    "import matplotlib.pyplot as plt \n",
    "import matplotlib.dates as mdates\n",
    "import matplotlib.pyplot as plt"
   ]
  },
  {
   "cell_type": "code",
   "execution_count": 5,
   "id": "superior-blanket",
   "metadata": {
    "execution": {
     "iopub.execute_input": "2021-10-20T02:03:49.342422Z",
     "iopub.status.busy": "2021-10-20T02:03:49.341885Z",
     "iopub.status.idle": "2021-10-20T02:04:02.930196Z",
     "shell.execute_reply": "2021-10-20T02:04:02.929692Z"
    },
    "papermill": {
     "duration": 13.609495,
     "end_time": "2021-10-20T02:04:02.930324",
     "exception": false,
     "start_time": "2021-10-20T02:03:49.320829",
     "status": "completed"
    },
    "tags": []
   },
   "outputs": [
    {
     "name": "stderr",
     "output_type": "stream",
     "text": [
      "/home/runner/work/corr-app/corr-app/_notebooks/scripts/read_data.py:187: SettingWithCopyWarning:\n",
      "\n",
      "\n",
      "A value is trying to be set on a copy of a slice from a DataFrame.\n",
      "Try using .loc[row_indexer,col_indexer] = value instead\n",
      "\n",
      "See the caveats in the documentation: https://pandas.pydata.org/pandas-docs/stable/user_guide/indexing.html#returning-a-view-versus-a-copy\n",
      "\n"
     ]
    },
    {
     "name": "stderr",
     "output_type": "stream",
     "text": [
      "/home/runner/work/corr-app/corr-app/_notebooks/scripts/read_data.py:215: SettingWithCopyWarning:\n",
      "\n",
      "\n",
      "A value is trying to be set on a copy of a slice from a DataFrame.\n",
      "Try using .loc[row_indexer,col_indexer] = value instead\n",
      "\n",
      "See the caveats in the documentation: https://pandas.pydata.org/pandas-docs/stable/user_guide/indexing.html#returning-a-view-versus-a-copy\n",
      "\n"
     ]
    }
   ],
   "source": [
    "#hide\n",
    "df_all = read_api()\n",
    "#df_all = df_all.drop(['SP500', 'XAU', 'ETH', 'BTC'], axis=1)\n",
    "\n"
   ]
  },
  {
   "cell_type": "code",
   "execution_count": 6,
   "id": "mature-alert",
   "metadata": {
    "execution": {
     "iopub.execute_input": "2021-10-20T02:04:02.977768Z",
     "iopub.status.busy": "2021-10-20T02:04:02.973957Z",
     "iopub.status.idle": "2021-10-20T02:04:02.997008Z",
     "shell.execute_reply": "2021-10-20T02:04:02.996145Z"
    },
    "papermill": {
     "duration": 0.055057,
     "end_time": "2021-10-20T02:04:02.997144",
     "exception": false,
     "start_time": "2021-10-20T02:04:02.942087",
     "status": "completed"
    },
    "tags": []
   },
   "outputs": [],
   "source": [
    "#hide_input\n",
    "sum_corr = df_all.corr().sum().sort_values(ascending=True).index.values\n",
    "#df_all[sum_corr].corr()"
   ]
  },
  {
   "cell_type": "markdown",
   "id": "complex-syndicate",
   "metadata": {
    "papermill": {
     "duration": 0.011278,
     "end_time": "2021-10-20T02:04:03.019728",
     "exception": false,
     "start_time": "2021-10-20T02:04:03.008450",
     "status": "completed"
    },
    "tags": []
   },
   "source": [
    "## Išplėstinė koreliacijų matrica. "
   ]
  },
  {
   "cell_type": "code",
   "execution_count": 7,
   "id": "atomic-omaha",
   "metadata": {
    "execution": {
     "iopub.execute_input": "2021-10-20T02:04:03.056272Z",
     "iopub.status.busy": "2021-10-20T02:04:03.054641Z",
     "iopub.status.idle": "2021-10-20T02:04:04.237448Z",
     "shell.execute_reply": "2021-10-20T02:04:04.236970Z"
    },
    "papermill": {
     "duration": 1.206673,
     "end_time": "2021-10-20T02:04:04.237575",
     "exception": false,
     "start_time": "2021-10-20T02:04:03.030902",
     "status": "completed"
    },
    "tags": []
   },
   "outputs": [
    {
     "data": {
      "image/png": "[encoded data removed]",
      "text/plain": [
       "<Figure size 1080x792 with 2 Axes>"
      ]
     },
     "metadata": {
      "needs_background": "light"
     },
     "output_type": "display_data"
    }
   ],
   "source": [
    "#hide_input\n",
    "plt.figure(figsize=(15, 11))\n",
    "sns.heatmap(df_all[sum_corr].corr(), annot=True, cmap=\"cubehelix\") \n",
    "sns.set(font_scale=1.25)\n",
    "plt.savefig('corr_matrix.png', format='eps')"
   ]
  },
  {
   "cell_type": "code",
   "execution_count": 8,
   "id": "arbitrary-sullivan",
   "metadata": {
    "execution": {
     "iopub.execute_input": "2021-10-20T02:04:04.268070Z",
     "iopub.status.busy": "2021-10-20T02:04:04.267480Z",
     "iopub.status.idle": "2021-10-20T02:04:04.294417Z",
     "shell.execute_reply": "2021-10-20T02:04:04.293919Z"
    },
    "papermill": {
     "duration": 0.043389,
     "end_time": "2021-10-20T02:04:04.294542",
     "exception": false,
     "start_time": "2021-10-20T02:04:04.251153",
     "status": "completed"
    },
    "tags": []
   },
   "outputs": [],
   "source": [
    "#hide\n",
    "#df_all_mrk = read_api()"
   ]
  },
  {
   "cell_type": "code",
   "execution_count": 9,
   "id": "delayed-adapter",
   "metadata": {
    "execution": {
     "iopub.execute_input": "2021-10-20T02:04:04.326384Z",
     "iopub.status.busy": "2021-10-20T02:04:04.325876Z",
     "iopub.status.idle": "2021-10-20T02:04:04.351215Z",
     "shell.execute_reply": "2021-10-20T02:04:04.350700Z"
    },
    "papermill": {
     "duration": 0.043245,
     "end_time": "2021-10-20T02:04:04.351350",
     "exception": false,
     "start_time": "2021-10-20T02:04:04.308105",
     "status": "completed"
    },
    "tags": []
   },
   "outputs": [],
   "source": [
    "#hide\n",
    "#Koreliacijų koeficientai"
   ]
  },
  {
   "cell_type": "code",
   "execution_count": 10,
   "id": "seeing-celebration",
   "metadata": {
    "execution": {
     "iopub.execute_input": "2021-10-20T02:04:04.383366Z",
     "iopub.status.busy": "2021-10-20T02:04:04.382859Z",
     "iopub.status.idle": "2021-10-20T02:04:04.409019Z",
     "shell.execute_reply": "2021-10-20T02:04:04.408480Z"
    },
    "papermill": {
     "duration": 0.043671,
     "end_time": "2021-10-20T02:04:04.409168",
     "exception": false,
     "start_time": "2021-10-20T02:04:04.365497",
     "status": "completed"
    },
    "tags": []
   },
   "outputs": [],
   "source": [
    "#hide_input\n",
    "#sum_corr = df_all_mrk.corr().sum().sort_values(ascending=True).index.values\n",
    "#df_all_mrk[sum_corr].corr()"
   ]
  },
  {
   "cell_type": "code",
   "execution_count": 11,
   "id": "other-painting",
   "metadata": {
    "execution": {
     "iopub.execute_input": "2021-10-20T02:04:04.440023Z",
     "iopub.status.busy": "2021-10-20T02:04:04.439511Z",
     "iopub.status.idle": "2021-10-20T02:04:04.466907Z",
     "shell.execute_reply": "2021-10-20T02:04:04.466412Z"
    },
    "papermill": {
     "duration": 0.043737,
     "end_time": "2021-10-20T02:04:04.467037",
     "exception": false,
     "start_time": "2021-10-20T02:04:04.423300",
     "status": "completed"
    },
    "tags": []
   },
   "outputs": [],
   "source": [
    "#hide\n",
    "#Koreliacijos matrica. "
   ]
  },
  {
   "cell_type": "code",
   "execution_count": 12,
   "id": "modular-magnitude",
   "metadata": {
    "execution": {
     "iopub.execute_input": "2021-10-20T02:04:04.497022Z",
     "iopub.status.busy": "2021-10-20T02:04:04.496497Z",
     "iopub.status.idle": "2021-10-20T02:04:04.522386Z",
     "shell.execute_reply": "2021-10-20T02:04:04.521867Z"
    },
    "papermill": {
     "duration": 0.041961,
     "end_time": "2021-10-20T02:04:04.522522",
     "exception": false,
     "start_time": "2021-10-20T02:04:04.480561",
     "status": "completed"
    },
    "tags": []
   },
   "outputs": [],
   "source": [
    "#hide_input\n",
    "#plt.figure(figsize=(15, 8))\n",
    "#sns.heatmap(df_all_mrk[sum_corr].corr(), annot=True, cmap=\"BrBG\");\n",
    "#plt.savefig('corr_matrix_all.eps', format='eps')"
   ]
  },
  {
   "cell_type": "code",
   "execution_count": null,
   "id": "original-senator",
   "metadata": {
    "papermill": {
     "duration": 0.013128,
     "end_time": "2021-10-20T02:04:04.549745",
     "exception": false,
     "start_time": "2021-10-20T02:04:04.536617",
     "status": "completed"
    },
    "tags": []
   },
   "outputs": [],
   "source": []
  },
  {
   "cell_type": "code",
   "execution_count": null,
   "id": "saving-secretariat",
   "metadata": {
    "papermill": {
     "duration": 0.012942,
     "end_time": "2021-10-20T02:04:04.575697",
     "exception": false,
     "start_time": "2021-10-20T02:04:04.562755",
     "status": "completed"
    },
    "tags": []
   },
   "outputs": [],
   "source": []
  }
 ],
 "metadata": {
  "kernelspec": {
   "display_name": "Python 3",
   "language": "python",
   "name": "python3"
  },
  "language_info": {
   "codemirror_mode": {
    "name": "ipython",
    "version": 3
   },
   "file_extension": ".py",
   "mimetype": "text/x-python",
   "name": "python",
   "nbconvert_exporter": "python",
   "pygments_lexer": "ipython3",
   "version": "3.6.15"
  },
  "papermill": {
   "default_parameters": {},
   "duration": 19.51649,
   "end_time": "2021-10-20T02:04:05.198248",
   "environment_variables": {},
   "exception": null,
   "input_path": "App-Correlation_charts.ipynb",
   "output_path": "App-Correlation_charts.ipynb",
   "parameters": {},
   "start_time": "2021-10-20T02:03:45.681758",
   "version": "2.2.2"
  }
 },
 "nbformat": 4,
 "nbformat_minor": 5
}