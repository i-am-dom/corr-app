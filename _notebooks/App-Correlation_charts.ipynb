{
 "cells": [
  {
   "cell_type": "markdown",
   "id": "touched-facility",
   "metadata": {
    "papermill": {
     "duration": 0.017014,
     "end_time": "2021-12-27T02:04:12.849914",
     "exception": false,
     "start_time": "2021-12-27T02:04:12.832900",
     "status": "completed"
    },
    "tags": []
   },
   "source": [
    "# Koreliacijų matrica\n",
    "> Išplėstinė koreliacijų matrica. \n",
    "\n",
    "- toc: true \n",
    "- badges: true\n",
    "- comments: false\n",
    "- categories: [Dominykas Tautkus]\n",
    "- image: images/matrix.png"
   ]
  },
  {
   "cell_type": "code",
   "execution_count": null,
   "id": "premium-weekend",
   "metadata": {
    "papermill": {
     "duration": 0.010726,
     "end_time": "2021-12-27T02:04:12.872173",
     "exception": false,
     "start_time": "2021-12-27T02:04:12.861447",
     "status": "completed"
    },
    "tags": []
   },
   "outputs": [],
   "source": []
  },
  {
   "cell_type": "code",
   "execution_count": 1,
   "id": "vertical-rebate",
   "metadata": {
    "execution": {
     "iopub.execute_input": "2021-12-27T02:04:12.897848Z",
     "iopub.status.busy": "2021-12-27T02:04:12.897319Z",
     "iopub.status.idle": "2021-12-27T02:04:12.916385Z",
     "shell.execute_reply": "2021-12-27T02:04:12.916795Z"
    },
    "papermill": {
     "duration": 0.032903,
     "end_time": "2021-12-27T02:04:12.916959",
     "exception": false,
     "start_time": "2021-12-27T02:04:12.884056",
     "status": "completed"
    },
    "tags": []
   },
   "outputs": [],
   "source": [
    "#hide\n",
    "%load_ext autoreload\n",
    "%autoreload 2"
   ]
  },
  {
   "cell_type": "code",
   "execution_count": 2,
   "id": "overall-advancement",
   "metadata": {
    "execution": {
     "iopub.execute_input": "2021-12-27T02:04:12.942184Z",
     "iopub.status.busy": "2021-12-27T02:04:12.941658Z",
     "iopub.status.idle": "2021-12-27T02:04:14.920499Z",
     "shell.execute_reply": "2021-12-27T02:04:14.919232Z"
    },
    "papermill": {
     "duration": 1.992997,
     "end_time": "2021-12-27T02:04:14.920641",
     "exception": false,
     "start_time": "2021-12-27T02:04:12.927644",
     "status": "completed"
    },
    "tags": []
   },
   "outputs": [],
   "source": [
    "#hide\n",
    "from scripts.read_data import read_api\n",
    "from IPython.display import HTML\n",
    "import plotly.graph_objects as go\n"
   ]
  },
  {
   "cell_type": "code",
   "execution_count": 3,
   "id": "light-crazy",
   "metadata": {
    "execution": {
     "iopub.execute_input": "2021-12-27T02:04:14.975026Z",
     "iopub.status.busy": "2021-12-27T02:04:14.974485Z",
     "iopub.status.idle": "2021-12-27T02:04:14.996944Z",
     "shell.execute_reply": "2021-12-27T02:04:14.996450Z"
    },
    "papermill": {
     "duration": 0.043723,
     "end_time": "2021-12-27T02:04:14.997064",
     "exception": false,
     "start_time": "2021-12-27T02:04:14.953341",
     "status": "completed"
    },
    "tags": []
   },
   "outputs": [],
   "source": [
    "#hide\n",
    "### ICO koreliacija"
   ]
  },
  {
   "cell_type": "code",
   "execution_count": 4,
   "id": "likely-bahrain",
   "metadata": {
    "execution": {
     "iopub.execute_input": "2021-12-27T02:04:15.063637Z",
     "iopub.status.busy": "2021-12-27T02:04:15.063040Z",
     "iopub.status.idle": "2021-12-27T02:04:16.171300Z",
     "shell.execute_reply": "2021-12-27T02:04:16.170754Z"
    },
    "papermill": {
     "duration": 1.159839,
     "end_time": "2021-12-27T02:04:16.171450",
     "exception": false,
     "start_time": "2021-12-27T02:04:15.011611",
     "status": "completed"
    },
    "tags": []
   },
   "outputs": [],
   "source": [
    "#hide\n",
    "import matplotlib.pyplot as plt\n",
    "import numpy as np\n",
    "import pandas as pd\n",
    "import seaborn as sns\n",
    "import matplotlib.pyplot as plt \n",
    "import matplotlib.dates as mdates\n",
    "import matplotlib.pyplot as plt"
   ]
  },
  {
   "cell_type": "code",
   "execution_count": 5,
   "id": "superior-blanket",
   "metadata": {
    "execution": {
     "iopub.execute_input": "2021-12-27T02:04:16.207125Z",
     "iopub.status.busy": "2021-12-27T02:04:16.205250Z",
     "iopub.status.idle": "2021-12-27T02:04:28.835718Z",
     "shell.execute_reply": "2021-12-27T02:04:28.835237Z"
    },
    "papermill": {
     "duration": 12.652724,
     "end_time": "2021-12-27T02:04:28.835856",
     "exception": false,
     "start_time": "2021-12-27T02:04:16.183132",
     "status": "completed"
    },
    "tags": []
   },
   "outputs": [
    {
     "name": "stderr",
     "output_type": "stream",
     "text": [
      "/home/runner/work/corr-app/corr-app/_notebooks/scripts/read_data.py:187: SettingWithCopyWarning:\n",
      "\n",
      "\n",
      "A value is trying to be set on a copy of a slice from a DataFrame.\n",
      "Try using .loc[row_indexer,col_indexer] = value instead\n",
      "\n",
      "See the caveats in the documentation: https://pandas.pydata.org/pandas-docs/stable/user_guide/indexing.html#returning-a-view-versus-a-copy\n",
      "\n"
     ]
    },
    {
     "name": "stderr",
     "output_type": "stream",
     "text": [
      "/home/runner/work/corr-app/corr-app/_notebooks/scripts/read_data.py:215: SettingWithCopyWarning:\n",
      "\n",
      "\n",
      "A value is trying to be set on a copy of a slice from a DataFrame.\n",
      "Try using .loc[row_indexer,col_indexer] = value instead\n",
      "\n",
      "See the caveats in the documentation: https://pandas.pydata.org/pandas-docs/stable/user_guide/indexing.html#returning-a-view-versus-a-copy\n",
      "\n"
     ]
    }
   ],
   "source": [
    "#hide\n",
    "df_all = read_api()\n",
    "#df_all = df_all.drop(['SP500', 'XAU', 'ETH', 'BTC'], axis=1)\n",
    "\n"
   ]
  },
  {
   "cell_type": "code",
   "execution_count": 6,
   "id": "mature-alert",
   "metadata": {
    "execution": {
     "iopub.execute_input": "2021-12-27T02:04:28.863241Z",
     "iopub.status.busy": "2021-12-27T02:04:28.862715Z",
     "iopub.status.idle": "2021-12-27T02:04:28.896556Z",
     "shell.execute_reply": "2021-12-27T02:04:28.896059Z"
    },
    "papermill": {
     "duration": 0.049197,
     "end_time": "2021-12-27T02:04:28.896694",
     "exception": false,
     "start_time": "2021-12-27T02:04:28.847497",
     "status": "completed"
    },
    "tags": []
   },
   "outputs": [],
   "source": [
    "#hide_input\n",
    "sum_corr = df_all.corr().sum().sort_values(ascending=True).index.values\n",
    "#df_all[sum_corr].corr()"
   ]
  },
  {
   "cell_type": "markdown",
   "id": "complex-syndicate",
   "metadata": {
    "papermill": {
     "duration": 0.011312,
     "end_time": "2021-12-27T02:04:28.920582",
     "exception": false,
     "start_time": "2021-12-27T02:04:28.909270",
     "status": "completed"
    },
    "tags": []
   },
   "source": [
    "## Išplėstinė koreliacijų matrica. "
   ]
  },
  {
   "cell_type": "code",
   "execution_count": 7,
   "id": "atomic-omaha",
   "metadata": {
    "execution": {
     "iopub.execute_input": "2021-12-27T02:04:28.948187Z",
     "iopub.status.busy": "2021-12-27T02:04:28.947671Z",
     "iopub.status.idle": "2021-12-27T02:04:30.237389Z",
     "shell.execute_reply": "2021-12-27T02:04:30.236947Z"
    },
    "papermill": {
     "duration": 1.305592,
     "end_time": "2021-12-27T02:04:30.237518",
     "exception": false,
     "start_time": "2021-12-27T02:04:28.931926",
     "status": "completed"
    },
    "tags": []
   },
   "outputs": [
    {
     "data": {
      "image/png": "[encoded data removed]",
      "text/plain": [
       "<Figure size 1080x792 with 2 Axes>"
      ]
     },
     "metadata": {
      "needs_background": "light"
     },
     "output_type": "display_data"
    }
   ],
   "source": [
    "#hide_input\n",
    "plt.figure(figsize=(15, 11))\n",
    "sns.heatmap(df_all[sum_corr].corr(), annot=True, cmap=\"cubehelix\") \n",
    "sns.set(font_scale=1.25)\n",
    "plt.savefig('corr_matrix.png', format='eps')"
   ]
  },
  {
   "cell_type": "code",
   "execution_count": 8,
   "id": "arbitrary-sullivan",
   "metadata": {
    "execution": {
     "iopub.execute_input": "2021-12-27T02:04:30.276831Z",
     "iopub.status.busy": "2021-12-27T02:04:30.272913Z",
     "iopub.status.idle": "2021-12-27T02:04:30.298404Z",
     "shell.execute_reply": "2021-12-27T02:04:30.297919Z"
    },
    "papermill": {
     "duration": 0.046883,
     "end_time": "2021-12-27T02:04:30.298532",
     "exception": false,
     "start_time": "2021-12-27T02:04:30.251649",
     "status": "completed"
    },
    "tags": []
   },
   "outputs": [],
   "source": [
    "#hide\n",
    "#df_all_mrk = read_api()"
   ]
  },
  {
   "cell_type": "code",
   "execution_count": 9,
   "id": "delayed-adapter",
   "metadata": {
    "execution": {
     "iopub.execute_input": "2021-12-27T02:04:30.332336Z",
     "iopub.status.busy": "2021-12-27T02:04:30.329690Z",
     "iopub.status.idle": "2021-12-27T02:04:30.357794Z",
     "shell.execute_reply": "2021-12-27T02:04:30.357245Z"
    },
    "papermill": {
     "duration": 0.046027,
     "end_time": "2021-12-27T02:04:30.357936",
     "exception": false,
     "start_time": "2021-12-27T02:04:30.311909",
     "status": "completed"
    },
    "tags": []
   },
   "outputs": [],
   "source": [
    "#hide\n",
    "#Koreliacijų koeficientai"
   ]
  },
  {
   "cell_type": "code",
   "execution_count": 10,
   "id": "seeing-celebration",
   "metadata": {
    "execution": {
     "iopub.execute_input": "2021-12-27T02:04:30.400322Z",
     "iopub.status.busy": "2021-12-27T02:04:30.399379Z",
     "iopub.status.idle": "2021-12-27T02:04:30.420339Z",
     "shell.execute_reply": "2021-12-27T02:04:30.419915Z"
    },
    "papermill": {
     "duration": 0.048427,
     "end_time": "2021-12-27T02:04:30.420460",
     "exception": false,
     "start_time": "2021-12-27T02:04:30.372033",
     "status": "completed"
    },
    "tags": []
   },
   "outputs": [],
   "source": [
    "#hide_input\n",
    "#sum_corr = df_all_mrk.corr().sum().sort_values(ascending=True).index.values\n",
    "#df_all_mrk[sum_corr].corr()"
   ]
  },
  {
   "cell_type": "code",
   "execution_count": 11,
   "id": "other-painting",
   "metadata": {
    "execution": {
     "iopub.execute_input": "2021-12-27T02:04:30.463613Z",
     "iopub.status.busy": "2021-12-27T02:04:30.463089Z",
     "iopub.status.idle": "2021-12-27T02:04:30.481712Z",
     "shell.execute_reply": "2021-12-27T02:04:30.481269Z"
    },
    "papermill": {
     "duration": 0.048165,
     "end_time": "2021-12-27T02:04:30.481829",
     "exception": false,
     "start_time": "2021-12-27T02:04:30.433664",
     "status": "completed"
    },
    "tags": []
   },
   "outputs": [],
   "source": [
    "#hide\n",
    "#Koreliacijos matrica. "
   ]
  },
  {
   "cell_type": "code",
   "execution_count": 12,
   "id": "modular-magnitude",
   "metadata": {
    "execution": {
     "iopub.execute_input": "2021-12-27T02:04:30.528285Z",
     "iopub.status.busy": "2021-12-27T02:04:30.527411Z",
     "iopub.status.idle": "2021-12-27T02:04:30.545962Z",
     "shell.execute_reply": "2021-12-27T02:04:30.545536Z"
    },
    "papermill": {
     "duration": 0.05078,
     "end_time": "2021-12-27T02:04:30.546086",
     "exception": false,
     "start_time": "2021-12-27T02:04:30.495306",
     "status": "completed"
    },
    "tags": []
   },
   "outputs": [],
   "source": [
    "#hide_input\n",
    "#plt.figure(figsize=(15, 8))\n",
    "#sns.heatmap(df_all_mrk[sum_corr].corr(), annot=True, cmap=\"BrBG\");\n",
    "#plt.savefig('corr_matrix_all.eps', format='eps')"
   ]
  },
  {
   "cell_type": "code",
   "execution_count": null,
   "id": "original-senator",
   "metadata": {
    "papermill": {
     "duration": 0.013303,
     "end_time": "2021-12-27T02:04:30.572845",
     "exception": false,
     "start_time": "2021-12-27T02:04:30.559542",
     "status": "completed"
    },
    "tags": []
   },
   "outputs": [],
   "source": []
  },
  {
   "cell_type": "code",
   "execution_count": null,
   "id": "saving-secretariat",
   "metadata": {
    "papermill": {
     "duration": 0.013245,
     "end_time": "2021-12-27T02:04:30.599454",
     "exception": false,
     "start_time": "2021-12-27T02:04:30.586209",
     "status": "completed"
    },
    "tags": []
   },
   "outputs": [],
   "source": []
  }
 ],
 "metadata": {
  "kernelspec": {
   "display_name": "Python 3",
   "language": "python",
   "name": "python3"
  },
  "language_info": {
   "codemirror_mode": {
    "name": "ipython",
    "version": 3
   },
   "file_extension": ".py",
   "mimetype": "text/x-python",
   "name": "python",
   "nbconvert_exporter": "python",
   "pygments_lexer": "ipython3",
   "version": "3.6.15"
  },
  "papermill": {
   "default_parameters": {},
   "duration": 19.527291,
   "end_time": "2021-12-27T02:04:31.222340",
   "environment_variables": {},
   "exception": null,
   "input_path": "App-Correlation_charts.ipynb",
   "output_path": "App-Correlation_charts.ipynb",
   "parameters": {},
   "start_time": "2021-12-27T02:04:11.695049",
   "version": "2.2.2"
  }
 },
 "nbformat": 4,
 "nbformat_minor": 5
}