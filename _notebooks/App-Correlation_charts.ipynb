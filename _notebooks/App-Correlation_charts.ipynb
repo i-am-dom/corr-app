{
 "cells": [
  {
   "cell_type": "markdown",
   "id": "touched-facility",
   "metadata": {
    "papermill": {
     "duration": 0.018411,
     "end_time": "2022-03-15T02:17:40.664694",
     "exception": false,
     "start_time": "2022-03-15T02:17:40.646283",
     "status": "completed"
    },
    "tags": []
   },
   "source": [
    "# Koreliacijų matrica\n",
    "> Išplėstinė koreliacijų matrica. \n",
    "\n",
    "- toc: true \n",
    "- badges: true\n",
    "- comments: false\n",
    "- categories: [Dominykas Tautkus]\n",
    "- image: images/matrix.png"
   ]
  },
  {
   "cell_type": "code",
   "execution_count": null,
   "id": "premium-weekend",
   "metadata": {
    "papermill": {
     "duration": 0.013508,
     "end_time": "2022-03-15T02:17:40.692781",
     "exception": false,
     "start_time": "2022-03-15T02:17:40.679273",
     "status": "completed"
    },
    "tags": []
   },
   "outputs": [],
   "source": []
  },
  {
   "cell_type": "code",
   "execution_count": 1,
   "id": "vertical-rebate",
   "metadata": {
    "execution": {
     "iopub.execute_input": "2022-03-15T02:17:40.731480Z",
     "iopub.status.busy": "2022-03-15T02:17:40.730823Z",
     "iopub.status.idle": "2022-03-15T02:17:40.745951Z",
     "shell.execute_reply": "2022-03-15T02:17:40.745277Z"
    },
    "papermill": {
     "duration": 0.040549,
     "end_time": "2022-03-15T02:17:40.746135",
     "exception": false,
     "start_time": "2022-03-15T02:17:40.705586",
     "status": "completed"
    },
    "tags": []
   },
   "outputs": [],
   "source": [
    "#hide\n",
    "%load_ext autoreload\n",
    "%autoreload 2"
   ]
  },
  {
   "cell_type": "code",
   "execution_count": 2,
   "id": "overall-advancement",
   "metadata": {
    "execution": {
     "iopub.execute_input": "2022-03-15T02:17:40.778816Z",
     "iopub.status.busy": "2022-03-15T02:17:40.778156Z",
     "iopub.status.idle": "2022-03-15T02:17:42.352986Z",
     "shell.execute_reply": "2022-03-15T02:17:42.352377Z"
    },
    "papermill": {
     "duration": 1.593186,
     "end_time": "2022-03-15T02:17:42.353281",
     "exception": false,
     "start_time": "2022-03-15T02:17:40.760095",
     "status": "completed"
    },
    "tags": []
   },
   "outputs": [],
   "source": [
    "#hide\n",
    "from scripts.read_data import read_api\n",
    "from IPython.display import HTML\n",
    "import plotly.graph_objects as go\n"
   ]
  },
  {
   "cell_type": "code",
   "execution_count": 3,
   "id": "light-crazy",
   "metadata": {
    "execution": {
     "iopub.execute_input": "2022-03-15T02:17:42.388067Z",
     "iopub.status.busy": "2022-03-15T02:17:42.387292Z",
     "iopub.status.idle": "2022-03-15T02:17:42.416489Z",
     "shell.execute_reply": "2022-03-15T02:17:42.415935Z"
    },
    "papermill": {
     "duration": 0.047947,
     "end_time": "2022-03-15T02:17:42.416633",
     "exception": false,
     "start_time": "2022-03-15T02:17:42.368686",
     "status": "completed"
    },
    "tags": []
   },
   "outputs": [],
   "source": [
    "#hide\n",
    "### ICO koreliacija"
   ]
  },
  {
   "cell_type": "code",
   "execution_count": 4,
   "id": "likely-bahrain",
   "metadata": {
    "execution": {
     "iopub.execute_input": "2022-03-15T02:17:42.448233Z",
     "iopub.status.busy": "2022-03-15T02:17:42.447535Z",
     "iopub.status.idle": "2022-03-15T02:17:43.570083Z",
     "shell.execute_reply": "2022-03-15T02:17:43.569498Z"
    },
    "papermill": {
     "duration": 1.140112,
     "end_time": "2022-03-15T02:17:43.570228",
     "exception": false,
     "start_time": "2022-03-15T02:17:42.430116",
     "status": "completed"
    },
    "tags": []
   },
   "outputs": [],
   "source": [
    "#hide\n",
    "import matplotlib.pyplot as plt\n",
    "import numpy as np\n",
    "import pandas as pd\n",
    "import seaborn as sns\n",
    "import matplotlib.pyplot as plt \n",
    "import matplotlib.dates as mdates\n",
    "import matplotlib.pyplot as plt"
   ]
  },
  {
   "cell_type": "code",
   "execution_count": 5,
   "id": "superior-blanket",
   "metadata": {
    "execution": {
     "iopub.execute_input": "2022-03-15T02:17:43.606304Z",
     "iopub.status.busy": "2022-03-15T02:17:43.605562Z",
     "iopub.status.idle": "2022-03-15T02:17:53.610179Z",
     "shell.execute_reply": "2022-03-15T02:17:53.609560Z"
    },
    "papermill": {
     "duration": 10.024149,
     "end_time": "2022-03-15T02:17:53.610411",
     "exception": false,
     "start_time": "2022-03-15T02:17:43.586262",
     "status": "completed"
    },
    "tags": []
   },
   "outputs": [
    {
     "name": "stderr",
     "output_type": "stream",
     "text": [
      "/home/runner/work/corr-app/corr-app/_notebooks/scripts/read_data.py:187: SettingWithCopyWarning:\n",
      "\n",
      "\n",
      "A value is trying to be set on a copy of a slice from a DataFrame.\n",
      "Try using .loc[row_indexer,col_indexer] = value instead\n",
      "\n",
      "See the caveats in the documentation: https://pandas.pydata.org/pandas-docs/stable/user_guide/indexing.html#returning-a-view-versus-a-copy\n",
      "\n"
     ]
    },
    {
     "name": "stderr",
     "output_type": "stream",
     "text": [
      "/home/runner/work/corr-app/corr-app/_notebooks/scripts/read_data.py:215: SettingWithCopyWarning:\n",
      "\n",
      "\n",
      "A value is trying to be set on a copy of a slice from a DataFrame.\n",
      "Try using .loc[row_indexer,col_indexer] = value instead\n",
      "\n",
      "See the caveats in the documentation: https://pandas.pydata.org/pandas-docs/stable/user_guide/indexing.html#returning-a-view-versus-a-copy\n",
      "\n"
     ]
    }
   ],
   "source": [
    "#hide\n",
    "df_all = read_api()\n",
    "#df_all = df_all.drop(['SP500', 'XAU', 'ETH', 'BTC'], axis=1)\n",
    "\n"
   ]
  },
  {
   "cell_type": "code",
   "execution_count": 6,
   "id": "mature-alert",
   "metadata": {
    "execution": {
     "iopub.execute_input": "2022-03-15T02:17:53.643972Z",
     "iopub.status.busy": "2022-03-15T02:17:53.643338Z",
     "iopub.status.idle": "2022-03-15T02:17:53.681558Z",
     "shell.execute_reply": "2022-03-15T02:17:53.681018Z"
    },
    "papermill": {
     "duration": 0.057188,
     "end_time": "2022-03-15T02:17:53.681699",
     "exception": false,
     "start_time": "2022-03-15T02:17:53.624511",
     "status": "completed"
    },
    "tags": []
   },
   "outputs": [],
   "source": [
    "#hide_input\n",
    "sum_corr = df_all.corr().sum().sort_values(ascending=True).index.values\n",
    "#df_all[sum_corr].corr()"
   ]
  },
  {
   "cell_type": "markdown",
   "id": "complex-syndicate",
   "metadata": {
    "papermill": {
     "duration": 0.014234,
     "end_time": "2022-03-15T02:17:53.710053",
     "exception": false,
     "start_time": "2022-03-15T02:17:53.695819",
     "status": "completed"
    },
    "tags": []
   },
   "source": [
    "## Išplėstinė koreliacijų matrica. "
   ]
  },
  {
   "cell_type": "code",
   "execution_count": 7,
   "id": "atomic-omaha",
   "metadata": {
    "execution": {
     "iopub.execute_input": "2022-03-15T02:17:53.753065Z",
     "iopub.status.busy": "2022-03-15T02:17:53.751281Z",
     "iopub.status.idle": "2022-03-15T02:17:55.608749Z",
     "shell.execute_reply": "2022-03-15T02:17:55.609221Z"
    },
    "papermill": {
     "duration": 1.885783,
     "end_time": "2022-03-15T02:17:55.609416",
     "exception": false,
     "start_time": "2022-03-15T02:17:53.723633",
     "status": "completed"
    },
    "tags": []
   },
   "outputs": [
    {
     "data": {
      "image/png": "[encoded data removed]",
      "text/plain": [
       "<Figure size 1080x792 with 2 Axes>"
      ]
     },
     "metadata": {
      "needs_background": "light"
     },
     "output_type": "display_data"
    }
   ],
   "source": [
    "#hide_input\n",
    "plt.figure(figsize=(15, 11))\n",
    "sns.heatmap(df_all[sum_corr].corr(), annot=True, cmap=\"cubehelix\") \n",
    "sns.set(font_scale=1.25)\n",
    "plt.savefig('corr_matrix.png', format='eps')"
   ]
  },
  {
   "cell_type": "code",
   "execution_count": 8,
   "id": "arbitrary-sullivan",
   "metadata": {
    "execution": {
     "iopub.execute_input": "2022-03-15T02:17:55.652193Z",
     "iopub.status.busy": "2022-03-15T02:17:55.651528Z",
     "iopub.status.idle": "2022-03-15T02:17:55.687269Z",
     "shell.execute_reply": "2022-03-15T02:17:55.686665Z"
    },
    "papermill": {
     "duration": 0.060841,
     "end_time": "2022-03-15T02:17:55.687421",
     "exception": false,
     "start_time": "2022-03-15T02:17:55.626580",
     "status": "completed"
    },
    "tags": []
   },
   "outputs": [],
   "source": [
    "#hide\n",
    "#df_all_mrk = read_api()"
   ]
  },
  {
   "cell_type": "code",
   "execution_count": 9,
   "id": "delayed-adapter",
   "metadata": {
    "execution": {
     "iopub.execute_input": "2022-03-15T02:17:55.727565Z",
     "iopub.status.busy": "2022-03-15T02:17:55.726771Z",
     "iopub.status.idle": "2022-03-15T02:17:55.754769Z",
     "shell.execute_reply": "2022-03-15T02:17:55.754230Z"
    },
    "papermill": {
     "duration": 0.050737,
     "end_time": "2022-03-15T02:17:55.754925",
     "exception": false,
     "start_time": "2022-03-15T02:17:55.704188",
     "status": "completed"
    },
    "tags": []
   },
   "outputs": [],
   "source": [
    "#hide\n",
    "#Koreliacijų koeficientai"
   ]
  },
  {
   "cell_type": "code",
   "execution_count": 10,
   "id": "seeing-celebration",
   "metadata": {
    "execution": {
     "iopub.execute_input": "2022-03-15T02:17:55.798828Z",
     "iopub.status.busy": "2022-03-15T02:17:55.798180Z",
     "iopub.status.idle": "2022-03-15T02:17:55.830523Z",
     "shell.execute_reply": "2022-03-15T02:17:55.829870Z"
    },
    "papermill": {
     "duration": 0.053455,
     "end_time": "2022-03-15T02:17:55.830673",
     "exception": false,
     "start_time": "2022-03-15T02:17:55.777218",
     "status": "completed"
    },
    "tags": []
   },
   "outputs": [],
   "source": [
    "#hide_input\n",
    "#sum_corr = df_all_mrk.corr().sum().sort_values(ascending=True).index.values\n",
    "#df_all_mrk[sum_corr].corr()"
   ]
  },
  {
   "cell_type": "code",
   "execution_count": 11,
   "id": "other-painting",
   "metadata": {
    "execution": {
     "iopub.execute_input": "2022-03-15T02:17:55.868167Z",
     "iopub.status.busy": "2022-03-15T02:17:55.867385Z",
     "iopub.status.idle": "2022-03-15T02:17:55.901924Z",
     "shell.execute_reply": "2022-03-15T02:17:55.901295Z"
    },
    "papermill": {
     "duration": 0.054148,
     "end_time": "2022-03-15T02:17:55.902069",
     "exception": false,
     "start_time": "2022-03-15T02:17:55.847921",
     "status": "completed"
    },
    "tags": []
   },
   "outputs": [],
   "source": [
    "#hide\n",
    "#Koreliacijos matrica. "
   ]
  },
  {
   "cell_type": "code",
   "execution_count": 12,
   "id": "modular-magnitude",
   "metadata": {
    "execution": {
     "iopub.execute_input": "2022-03-15T02:17:55.945276Z",
     "iopub.status.busy": "2022-03-15T02:17:55.944482Z",
     "iopub.status.idle": "2022-03-15T02:17:55.975087Z",
     "shell.execute_reply": "2022-03-15T02:17:55.974480Z"
    },
    "papermill": {
     "duration": 0.060778,
     "end_time": "2022-03-15T02:17:55.980006",
     "exception": false,
     "start_time": "2022-03-15T02:17:55.919228",
     "status": "completed"
    },
    "tags": []
   },
   "outputs": [],
   "source": [
    "#hide_input\n",
    "#plt.figure(figsize=(15, 8))\n",
    "#sns.heatmap(df_all_mrk[sum_corr].corr(), annot=True, cmap=\"BrBG\");\n",
    "#plt.savefig('corr_matrix_all.eps', format='eps')"
   ]
  },
  {
   "cell_type": "code",
   "execution_count": null,
   "id": "original-senator",
   "metadata": {
    "papermill": {
     "duration": 0.016526,
     "end_time": "2022-03-15T02:17:56.013947",
     "exception": false,
     "start_time": "2022-03-15T02:17:55.997421",
     "status": "completed"
    },
    "tags": []
   },
   "outputs": [],
   "source": []
  },
  {
   "cell_type": "code",
   "execution_count": null,
   "id": "saving-secretariat",
   "metadata": {
    "papermill": {
     "duration": 0.015826,
     "end_time": "2022-03-15T02:17:56.046707",
     "exception": false,
     "start_time": "2022-03-15T02:17:56.030881",
     "status": "completed"
    },
    "tags": []
   },
   "outputs": [],
   "source": []
  }
 ],
 "metadata": {
  "kernelspec": {
   "display_name": "Python 3",
   "language": "python",
   "name": "python3"
  },
  "language_info": {
   "codemirror_mode": {
    "name": "ipython",
    "version": 3
   },
   "file_extension": ".py",
   "mimetype": "text/x-python",
   "name": "python",
   "nbconvert_exporter": "python",
   "pygments_lexer": "ipython3",
   "version": "3.6.15"
  },
  "papermill": {
   "default_parameters": {},
   "duration": 17.277374,
   "end_time": "2022-03-15T02:17:56.686135",
   "environment_variables": {},
   "exception": null,
   "input_path": "App-Correlation_charts.ipynb",
   "output_path": "App-Correlation_charts.ipynb",
   "parameters": {},
   "start_time": "2022-03-15T02:17:39.408761",
   "version": "2.2.2"
  }
 },
 "nbformat": 4,
 "nbformat_minor": 5
}