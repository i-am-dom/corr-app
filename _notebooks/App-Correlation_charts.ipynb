{
 "cells": [
  {
   "cell_type": "markdown",
   "id": "touched-facility",
   "metadata": {
    "papermill": {
     "duration": 0.016093,
     "end_time": "2022-09-18T03:49:35.817998",
     "exception": false,
     "start_time": "2022-09-18T03:49:35.801905",
     "status": "completed"
    },
    "tags": []
   },
   "source": [
    "# Koreliacijų matrica\n",
    "> Išplėstinė koreliacijų matrica. \n",
    "\n",
    "- toc: true \n",
    "- badges: true\n",
    "- comments: false\n",
    "- categories: [Dominykas Tautkus]\n",
    "- image: images/matrix.png"
   ]
  },
  {
   "cell_type": "code",
   "execution_count": null,
   "id": "premium-weekend",
   "metadata": {
    "papermill": {
     "duration": 0.011294,
     "end_time": "2022-09-18T03:49:35.841706",
     "exception": false,
     "start_time": "2022-09-18T03:49:35.830412",
     "status": "completed"
    },
    "tags": []
   },
   "outputs": [],
   "source": []
  },
  {
   "cell_type": "code",
   "execution_count": 1,
   "id": "vertical-rebate",
   "metadata": {
    "execution": {
     "iopub.execute_input": "2022-09-18T03:49:35.879898Z",
     "iopub.status.busy": "2022-09-18T03:49:35.879246Z",
     "iopub.status.idle": "2022-09-18T03:49:35.891551Z",
     "shell.execute_reply": "2022-09-18T03:49:35.890877Z"
    },
    "papermill": {
     "duration": 0.03843,
     "end_time": "2022-09-18T03:49:35.891674",
     "exception": false,
     "start_time": "2022-09-18T03:49:35.853244",
     "status": "completed"
    },
    "tags": []
   },
   "outputs": [],
   "source": [
    "#hide\n",
    "%load_ext autoreload\n",
    "%autoreload 2"
   ]
  },
  {
   "cell_type": "code",
   "execution_count": 2,
   "id": "overall-advancement",
   "metadata": {
    "execution": {
     "iopub.execute_input": "2022-09-18T03:49:35.918485Z",
     "iopub.status.busy": "2022-09-18T03:49:35.917806Z",
     "iopub.status.idle": "2022-09-18T03:49:37.403204Z",
     "shell.execute_reply": "2022-09-18T03:49:37.403870Z"
    },
    "papermill": {
     "duration": 1.501067,
     "end_time": "2022-09-18T03:49:37.404066",
     "exception": false,
     "start_time": "2022-09-18T03:49:35.902999",
     "status": "completed"
    },
    "tags": []
   },
   "outputs": [],
   "source": [
    "#hide\n",
    "from scripts.read_data import read_api\n",
    "from IPython.display import HTML\n",
    "import plotly.graph_objects as go\n"
   ]
  },
  {
   "cell_type": "code",
   "execution_count": 3,
   "id": "light-crazy",
   "metadata": {
    "execution": {
     "iopub.execute_input": "2022-09-18T03:49:37.436449Z",
     "iopub.status.busy": "2022-09-18T03:49:37.435823Z",
     "iopub.status.idle": "2022-09-18T03:49:37.460475Z",
     "shell.execute_reply": "2022-09-18T03:49:37.459917Z"
    },
    "papermill": {
     "duration": 0.043829,
     "end_time": "2022-09-18T03:49:37.460590",
     "exception": false,
     "start_time": "2022-09-18T03:49:37.416761",
     "status": "completed"
    },
    "tags": []
   },
   "outputs": [],
   "source": [
    "#hide\n",
    "### ICO koreliacija"
   ]
  },
  {
   "cell_type": "code",
   "execution_count": 4,
   "id": "likely-bahrain",
   "metadata": {
    "execution": {
     "iopub.execute_input": "2022-09-18T03:49:37.486882Z",
     "iopub.status.busy": "2022-09-18T03:49:37.486249Z",
     "iopub.status.idle": "2022-09-18T03:49:38.465215Z",
     "shell.execute_reply": "2022-09-18T03:49:38.465740Z"
    },
    "papermill": {
     "duration": 0.993771,
     "end_time": "2022-09-18T03:49:38.465892",
     "exception": false,
     "start_time": "2022-09-18T03:49:37.472121",
     "status": "completed"
    },
    "tags": []
   },
   "outputs": [],
   "source": [
    "#hide\n",
    "import matplotlib.pyplot as plt\n",
    "import numpy as np\n",
    "import pandas as pd\n",
    "import seaborn as sns\n",
    "import matplotlib.pyplot as plt \n",
    "import matplotlib.dates as mdates\n",
    "import matplotlib.pyplot as plt"
   ]
  },
  {
   "cell_type": "code",
   "execution_count": 5,
   "id": "superior-blanket",
   "metadata": {
    "execution": {
     "iopub.execute_input": "2022-09-18T03:49:38.495386Z",
     "iopub.status.busy": "2022-09-18T03:49:38.494687Z",
     "iopub.status.idle": "2022-09-18T03:49:50.194824Z",
     "shell.execute_reply": "2022-09-18T03:49:50.194226Z"
    },
    "papermill": {
     "duration": 11.716509,
     "end_time": "2022-09-18T03:49:50.194973",
     "exception": false,
     "start_time": "2022-09-18T03:49:38.478464",
     "status": "completed"
    },
    "tags": []
   },
   "outputs": [
    {
     "name": "stderr",
     "output_type": "stream",
     "text": [
      "/home/runner/work/corr-app/corr-app/_notebooks/scripts/read_data.py:187: SettingWithCopyWarning:\n",
      "\n",
      "\n",
      "A value is trying to be set on a copy of a slice from a DataFrame.\n",
      "Try using .loc[row_indexer,col_indexer] = value instead\n",
      "\n",
      "See the caveats in the documentation: https://pandas.pydata.org/pandas-docs/stable/user_guide/indexing.html#returning-a-view-versus-a-copy\n",
      "\n"
     ]
    },
    {
     "name": "stderr",
     "output_type": "stream",
     "text": [
      "/home/runner/work/corr-app/corr-app/_notebooks/scripts/read_data.py:215: SettingWithCopyWarning:\n",
      "\n",
      "\n",
      "A value is trying to be set on a copy of a slice from a DataFrame.\n",
      "Try using .loc[row_indexer,col_indexer] = value instead\n",
      "\n",
      "See the caveats in the documentation: https://pandas.pydata.org/pandas-docs/stable/user_guide/indexing.html#returning-a-view-versus-a-copy\n",
      "\n"
     ]
    }
   ],
   "source": [
    "#hide\n",
    "df_all = read_api()\n",
    "#df_all = df_all.drop(['SP500', 'XAU', 'ETH', 'BTC'], axis=1)\n",
    "\n"
   ]
  },
  {
   "cell_type": "code",
   "execution_count": 6,
   "id": "mature-alert",
   "metadata": {
    "execution": {
     "iopub.execute_input": "2022-09-18T03:49:50.227452Z",
     "iopub.status.busy": "2022-09-18T03:49:50.226735Z",
     "iopub.status.idle": "2022-09-18T03:49:50.260481Z",
     "shell.execute_reply": "2022-09-18T03:49:50.259821Z"
    },
    "papermill": {
     "duration": 0.051155,
     "end_time": "2022-09-18T03:49:50.260627",
     "exception": false,
     "start_time": "2022-09-18T03:49:50.209472",
     "status": "completed"
    },
    "tags": []
   },
   "outputs": [],
   "source": [
    "#hide_input\n",
    "sum_corr = df_all.corr().sum().sort_values(ascending=True).index.values\n",
    "#df_all[sum_corr].corr()"
   ]
  },
  {
   "cell_type": "markdown",
   "id": "complex-syndicate",
   "metadata": {
    "papermill": {
     "duration": 0.012583,
     "end_time": "2022-09-18T03:49:50.286627",
     "exception": false,
     "start_time": "2022-09-18T03:49:50.274044",
     "status": "completed"
    },
    "tags": []
   },
   "source": [
    "## Išplėstinė koreliacijų matrica. "
   ]
  },
  {
   "cell_type": "code",
   "execution_count": 7,
   "id": "atomic-omaha",
   "metadata": {
    "execution": {
     "iopub.execute_input": "2022-09-18T03:49:50.316151Z",
     "iopub.status.busy": "2022-09-18T03:49:50.315520Z",
     "iopub.status.idle": "2022-09-18T03:49:51.686044Z",
     "shell.execute_reply": "2022-09-18T03:49:51.685479Z"
    },
    "papermill": {
     "duration": 1.386634,
     "end_time": "2022-09-18T03:49:51.686176",
     "exception": false,
     "start_time": "2022-09-18T03:49:50.299542",
     "status": "completed"
    },
    "tags": []
   },
   "outputs": [
    {
     "data": {
      "image/png": "[encoded data removed]",
      "text/plain": [
       "<Figure size 1080x792 with 2 Axes>"
      ]
     },
     "metadata": {
      "needs_background": "light"
     },
     "output_type": "display_data"
    }
   ],
   "source": [
    "#hide_input\n",
    "plt.figure(figsize=(15, 11))\n",
    "sns.heatmap(df_all[sum_corr].corr(), annot=True, cmap=\"cubehelix\") \n",
    "sns.set(font_scale=1.25)\n",
    "plt.savefig('corr_matrix.png', format='eps')"
   ]
  },
  {
   "cell_type": "code",
   "execution_count": 8,
   "id": "arbitrary-sullivan",
   "metadata": {
    "execution": {
     "iopub.execute_input": "2022-09-18T03:49:51.720538Z",
     "iopub.status.busy": "2022-09-18T03:49:51.718509Z",
     "iopub.status.idle": "2022-09-18T03:49:51.747526Z",
     "shell.execute_reply": "2022-09-18T03:49:51.748026Z"
    },
    "papermill": {
     "duration": 0.047148,
     "end_time": "2022-09-18T03:49:51.748163",
     "exception": false,
     "start_time": "2022-09-18T03:49:51.701015",
     "status": "completed"
    },
    "tags": []
   },
   "outputs": [],
   "source": [
    "#hide\n",
    "#df_all_mrk = read_api()"
   ]
  },
  {
   "cell_type": "code",
   "execution_count": 9,
   "id": "delayed-adapter",
   "metadata": {
    "execution": {
     "iopub.execute_input": "2022-09-18T03:49:51.781031Z",
     "iopub.status.busy": "2022-09-18T03:49:51.780347Z",
     "iopub.status.idle": "2022-09-18T03:49:51.814755Z",
     "shell.execute_reply": "2022-09-18T03:49:51.814074Z"
    },
    "papermill": {
     "duration": 0.052328,
     "end_time": "2022-09-18T03:49:51.814900",
     "exception": false,
     "start_time": "2022-09-18T03:49:51.762572",
     "status": "completed"
    },
    "tags": []
   },
   "outputs": [],
   "source": [
    "#hide\n",
    "#Koreliacijų koeficientai"
   ]
  },
  {
   "cell_type": "code",
   "execution_count": 10,
   "id": "seeing-celebration",
   "metadata": {
    "execution": {
     "iopub.execute_input": "2022-09-18T03:49:51.848125Z",
     "iopub.status.busy": "2022-09-18T03:49:51.847466Z",
     "iopub.status.idle": "2022-09-18T03:49:51.877465Z",
     "shell.execute_reply": "2022-09-18T03:49:51.876496Z"
    },
    "papermill": {
     "duration": 0.047594,
     "end_time": "2022-09-18T03:49:51.877663",
     "exception": false,
     "start_time": "2022-09-18T03:49:51.830069",
     "status": "completed"
    },
    "tags": []
   },
   "outputs": [],
   "source": [
    "#hide_input\n",
    "#sum_corr = df_all_mrk.corr().sum().sort_values(ascending=True).index.values\n",
    "#df_all_mrk[sum_corr].corr()"
   ]
  },
  {
   "cell_type": "code",
   "execution_count": 11,
   "id": "other-painting",
   "metadata": {
    "execution": {
     "iopub.execute_input": "2022-09-18T03:49:51.910004Z",
     "iopub.status.busy": "2022-09-18T03:49:51.909357Z",
     "iopub.status.idle": "2022-09-18T03:49:51.937940Z",
     "shell.execute_reply": "2022-09-18T03:49:51.938551Z"
    },
    "papermill": {
     "duration": 0.046574,
     "end_time": "2022-09-18T03:49:51.938713",
     "exception": false,
     "start_time": "2022-09-18T03:49:51.892139",
     "status": "completed"
    },
    "tags": []
   },
   "outputs": [],
   "source": [
    "#hide\n",
    "#Koreliacijos matrica. "
   ]
  },
  {
   "cell_type": "code",
   "execution_count": 12,
   "id": "modular-magnitude",
   "metadata": {
    "execution": {
     "iopub.execute_input": "2022-09-18T03:49:51.969876Z",
     "iopub.status.busy": "2022-09-18T03:49:51.969260Z",
     "iopub.status.idle": "2022-09-18T03:49:51.998249Z",
     "shell.execute_reply": "2022-09-18T03:49:51.998857Z"
    },
    "papermill": {
     "duration": 0.046394,
     "end_time": "2022-09-18T03:49:51.999049",
     "exception": false,
     "start_time": "2022-09-18T03:49:51.952655",
     "status": "completed"
    },
    "tags": []
   },
   "outputs": [],
   "source": [
    "#hide_input\n",
    "#plt.figure(figsize=(15, 8))\n",
    "#sns.heatmap(df_all_mrk[sum_corr].corr(), annot=True, cmap=\"BrBG\");\n",
    "#plt.savefig('corr_matrix_all.eps', format='eps')"
   ]
  },
  {
   "cell_type": "code",
   "execution_count": null,
   "id": "original-senator",
   "metadata": {
    "papermill": {
     "duration": 0.014137,
     "end_time": "2022-09-18T03:49:52.027854",
     "exception": false,
     "start_time": "2022-09-18T03:49:52.013717",
     "status": "completed"
    },
    "tags": []
   },
   "outputs": [],
   "source": []
  },
  {
   "cell_type": "code",
   "execution_count": null,
   "id": "saving-secretariat",
   "metadata": {
    "papermill": {
     "duration": 0.014067,
     "end_time": "2022-09-18T03:49:52.056113",
     "exception": false,
     "start_time": "2022-09-18T03:49:52.042046",
     "status": "completed"
    },
    "tags": []
   },
   "outputs": [],
   "source": []
  }
 ],
 "metadata": {
  "kernelspec": {
   "display_name": "Python 3",
   "language": "python",
   "name": "python3"
  },
  "language_info": {
   "codemirror_mode": {
    "name": "ipython",
    "version": 3
   },
   "file_extension": ".py",
   "mimetype": "text/x-python",
   "name": "python",
   "nbconvert_exporter": "python",
   "pygments_lexer": "ipython3",
   "version": "3.6.15"
  },
  "papermill": {
   "default_parameters": {},
   "duration": 17.915667,
   "end_time": "2022-09-18T03:49:52.590817",
   "environment_variables": {},
   "exception": null,
   "input_path": "App-Correlation_charts.ipynb",
   "output_path": "App-Correlation_charts.ipynb",
   "parameters": {},
   "start_time": "2022-09-18T03:49:34.675150",
   "version": "2.2.2"
  }
 },
 "nbformat": 4,
 "nbformat_minor": 5
}