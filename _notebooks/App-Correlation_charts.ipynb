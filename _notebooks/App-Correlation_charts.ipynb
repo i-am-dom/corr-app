{
 "cells": [
  {
   "cell_type": "markdown",
   "id": "touched-facility",
   "metadata": {
    "papermill": {
     "duration": 0.020225,
     "end_time": "2022-03-23T02:30:57.704840",
     "exception": false,
     "start_time": "2022-03-23T02:30:57.684615",
     "status": "completed"
    },
    "tags": []
   },
   "source": [
    "# Koreliacijų matrica\n",
    "> Išplėstinė koreliacijų matrica. \n",
    "\n",
    "- toc: true \n",
    "- badges: true\n",
    "- comments: false\n",
    "- categories: [Dominykas Tautkus]\n",
    "- image: images/matrix.png"
   ]
  },
  {
   "cell_type": "code",
   "execution_count": null,
   "id": "premium-weekend",
   "metadata": {
    "papermill": {
     "duration": 0.014348,
     "end_time": "2022-03-23T02:30:57.735568",
     "exception": false,
     "start_time": "2022-03-23T02:30:57.721220",
     "status": "completed"
    },
    "tags": []
   },
   "outputs": [],
   "source": []
  },
  {
   "cell_type": "code",
   "execution_count": 1,
   "id": "vertical-rebate",
   "metadata": {
    "execution": {
     "iopub.execute_input": "2022-03-23T02:30:57.787603Z",
     "iopub.status.busy": "2022-03-23T02:30:57.786610Z",
     "iopub.status.idle": "2022-03-23T02:30:57.800410Z",
     "shell.execute_reply": "2022-03-23T02:30:57.800996Z"
    },
    "papermill": {
     "duration": 0.043941,
     "end_time": "2022-03-23T02:30:57.801221",
     "exception": false,
     "start_time": "2022-03-23T02:30:57.757280",
     "status": "completed"
    },
    "tags": []
   },
   "outputs": [],
   "source": [
    "#hide\n",
    "%load_ext autoreload\n",
    "%autoreload 2"
   ]
  },
  {
   "cell_type": "code",
   "execution_count": 2,
   "id": "overall-advancement",
   "metadata": {
    "execution": {
     "iopub.execute_input": "2022-03-23T02:30:57.838813Z",
     "iopub.status.busy": "2022-03-23T02:30:57.838157Z",
     "iopub.status.idle": "2022-03-23T02:30:59.402814Z",
     "shell.execute_reply": "2022-03-23T02:30:59.402170Z"
    },
    "papermill": {
     "duration": 1.586642,
     "end_time": "2022-03-23T02:30:59.402992",
     "exception": false,
     "start_time": "2022-03-23T02:30:57.816350",
     "status": "completed"
    },
    "tags": []
   },
   "outputs": [],
   "source": [
    "#hide\n",
    "from scripts.read_data import read_api\n",
    "from IPython.display import HTML\n",
    "import plotly.graph_objects as go\n"
   ]
  },
  {
   "cell_type": "code",
   "execution_count": 3,
   "id": "light-crazy",
   "metadata": {
    "execution": {
     "iopub.execute_input": "2022-03-23T02:30:59.437979Z",
     "iopub.status.busy": "2022-03-23T02:30:59.437179Z",
     "iopub.status.idle": "2022-03-23T02:30:59.460554Z",
     "shell.execute_reply": "2022-03-23T02:30:59.461008Z"
    },
    "papermill": {
     "duration": 0.043474,
     "end_time": "2022-03-23T02:30:59.461190",
     "exception": false,
     "start_time": "2022-03-23T02:30:59.417716",
     "status": "completed"
    },
    "tags": []
   },
   "outputs": [],
   "source": [
    "#hide\n",
    "### ICO koreliacija"
   ]
  },
  {
   "cell_type": "code",
   "execution_count": 4,
   "id": "likely-bahrain",
   "metadata": {
    "execution": {
     "iopub.execute_input": "2022-03-23T02:30:59.491840Z",
     "iopub.status.busy": "2022-03-23T02:30:59.491138Z",
     "iopub.status.idle": "2022-03-23T02:31:00.604756Z",
     "shell.execute_reply": "2022-03-23T02:31:00.604209Z"
    },
    "papermill": {
     "duration": 1.131355,
     "end_time": "2022-03-23T02:31:00.604894",
     "exception": false,
     "start_time": "2022-03-23T02:30:59.473539",
     "status": "completed"
    },
    "tags": []
   },
   "outputs": [],
   "source": [
    "#hide\n",
    "import matplotlib.pyplot as plt\n",
    "import numpy as np\n",
    "import pandas as pd\n",
    "import seaborn as sns\n",
    "import matplotlib.pyplot as plt \n",
    "import matplotlib.dates as mdates\n",
    "import matplotlib.pyplot as plt"
   ]
  },
  {
   "cell_type": "code",
   "execution_count": 5,
   "id": "superior-blanket",
   "metadata": {
    "execution": {
     "iopub.execute_input": "2022-03-23T02:31:00.642003Z",
     "iopub.status.busy": "2022-03-23T02:31:00.640977Z",
     "iopub.status.idle": "2022-03-23T02:31:15.959708Z",
     "shell.execute_reply": "2022-03-23T02:31:15.958598Z"
    },
    "papermill": {
     "duration": 15.340898,
     "end_time": "2022-03-23T02:31:15.959869",
     "exception": false,
     "start_time": "2022-03-23T02:31:00.618971",
     "status": "completed"
    },
    "tags": []
   },
   "outputs": [
    {
     "name": "stderr",
     "output_type": "stream",
     "text": [
      "/home/runner/work/corr-app/corr-app/_notebooks/scripts/read_data.py:187: SettingWithCopyWarning:\n",
      "\n",
      "\n",
      "A value is trying to be set on a copy of a slice from a DataFrame.\n",
      "Try using .loc[row_indexer,col_indexer] = value instead\n",
      "\n",
      "See the caveats in the documentation: https://pandas.pydata.org/pandas-docs/stable/user_guide/indexing.html#returning-a-view-versus-a-copy\n",
      "\n"
     ]
    },
    {
     "name": "stderr",
     "output_type": "stream",
     "text": [
      "/home/runner/work/corr-app/corr-app/_notebooks/scripts/read_data.py:215: SettingWithCopyWarning:\n",
      "\n",
      "\n",
      "A value is trying to be set on a copy of a slice from a DataFrame.\n",
      "Try using .loc[row_indexer,col_indexer] = value instead\n",
      "\n",
      "See the caveats in the documentation: https://pandas.pydata.org/pandas-docs/stable/user_guide/indexing.html#returning-a-view-versus-a-copy\n",
      "\n"
     ]
    }
   ],
   "source": [
    "#hide\n",
    "df_all = read_api()\n",
    "#df_all = df_all.drop(['SP500', 'XAU', 'ETH', 'BTC'], axis=1)\n",
    "\n"
   ]
  },
  {
   "cell_type": "code",
   "execution_count": 6,
   "id": "mature-alert",
   "metadata": {
    "execution": {
     "iopub.execute_input": "2022-03-23T02:31:16.001642Z",
     "iopub.status.busy": "2022-03-23T02:31:16.000899Z",
     "iopub.status.idle": "2022-03-23T02:31:16.038164Z",
     "shell.execute_reply": "2022-03-23T02:31:16.037442Z"
    },
    "papermill": {
     "duration": 0.059267,
     "end_time": "2022-03-23T02:31:16.038344",
     "exception": false,
     "start_time": "2022-03-23T02:31:15.979077",
     "status": "completed"
    },
    "tags": []
   },
   "outputs": [],
   "source": [
    "#hide_input\n",
    "sum_corr = df_all.corr().sum().sort_values(ascending=True).index.values\n",
    "#df_all[sum_corr].corr()"
   ]
  },
  {
   "cell_type": "markdown",
   "id": "complex-syndicate",
   "metadata": {
    "papermill": {
     "duration": 0.01507,
     "end_time": "2022-03-23T02:31:16.069591",
     "exception": false,
     "start_time": "2022-03-23T02:31:16.054521",
     "status": "completed"
    },
    "tags": []
   },
   "source": [
    "## Išplėstinė koreliacijų matrica. "
   ]
  },
  {
   "cell_type": "code",
   "execution_count": 7,
   "id": "atomic-omaha",
   "metadata": {
    "execution": {
     "iopub.execute_input": "2022-03-23T02:31:16.111745Z",
     "iopub.status.busy": "2022-03-23T02:31:16.110792Z",
     "iopub.status.idle": "2022-03-23T02:31:17.892168Z",
     "shell.execute_reply": "2022-03-23T02:31:17.892881Z"
    },
    "papermill": {
     "duration": 1.807372,
     "end_time": "2022-03-23T02:31:17.893066",
     "exception": false,
     "start_time": "2022-03-23T02:31:16.085694",
     "status": "completed"
    },
    "tags": []
   },
   "outputs": [
    {
     "data": {
      "image/png": "[encoded data removed]",
      "text/plain": [
       "<Figure size 1080x792 with 2 Axes>"
      ]
     },
     "metadata": {
      "needs_background": "light"
     },
     "output_type": "display_data"
    }
   ],
   "source": [
    "#hide_input\n",
    "plt.figure(figsize=(15, 11))\n",
    "sns.heatmap(df_all[sum_corr].corr(), annot=True, cmap=\"cubehelix\") \n",
    "sns.set(font_scale=1.25)\n",
    "plt.savefig('corr_matrix.png', format='eps')"
   ]
  },
  {
   "cell_type": "code",
   "execution_count": 8,
   "id": "arbitrary-sullivan",
   "metadata": {
    "execution": {
     "iopub.execute_input": "2022-03-23T02:31:17.934479Z",
     "iopub.status.busy": "2022-03-23T02:31:17.933802Z",
     "iopub.status.idle": "2022-03-23T02:31:17.965126Z",
     "shell.execute_reply": "2022-03-23T02:31:17.964485Z"
    },
    "papermill": {
     "duration": 0.054623,
     "end_time": "2022-03-23T02:31:17.965298",
     "exception": false,
     "start_time": "2022-03-23T02:31:17.910675",
     "status": "completed"
    },
    "tags": []
   },
   "outputs": [],
   "source": [
    "#hide\n",
    "#df_all_mrk = read_api()"
   ]
  },
  {
   "cell_type": "code",
   "execution_count": 9,
   "id": "delayed-adapter",
   "metadata": {
    "execution": {
     "iopub.execute_input": "2022-03-23T02:31:18.010625Z",
     "iopub.status.busy": "2022-03-23T02:31:18.007751Z",
     "iopub.status.idle": "2022-03-23T02:31:18.043663Z",
     "shell.execute_reply": "2022-03-23T02:31:18.043029Z"
    },
    "papermill": {
     "duration": 0.060693,
     "end_time": "2022-03-23T02:31:18.043826",
     "exception": false,
     "start_time": "2022-03-23T02:31:17.983133",
     "status": "completed"
    },
    "tags": []
   },
   "outputs": [],
   "source": [
    "#hide\n",
    "#Koreliacijų koeficientai"
   ]
  },
  {
   "cell_type": "code",
   "execution_count": 10,
   "id": "seeing-celebration",
   "metadata": {
    "execution": {
     "iopub.execute_input": "2022-03-23T02:31:18.087243Z",
     "iopub.status.busy": "2022-03-23T02:31:18.086532Z",
     "iopub.status.idle": "2022-03-23T02:31:18.121124Z",
     "shell.execute_reply": "2022-03-23T02:31:18.120469Z"
    },
    "papermill": {
     "duration": 0.057364,
     "end_time": "2022-03-23T02:31:18.121367",
     "exception": false,
     "start_time": "2022-03-23T02:31:18.064003",
     "status": "completed"
    },
    "tags": []
   },
   "outputs": [],
   "source": [
    "#hide_input\n",
    "#sum_corr = df_all_mrk.corr().sum().sort_values(ascending=True).index.values\n",
    "#df_all_mrk[sum_corr].corr()"
   ]
  },
  {
   "cell_type": "code",
   "execution_count": 11,
   "id": "other-painting",
   "metadata": {
    "execution": {
     "iopub.execute_input": "2022-03-23T02:31:18.164752Z",
     "iopub.status.busy": "2022-03-23T02:31:18.162842Z",
     "iopub.status.idle": "2022-03-23T02:31:18.199682Z",
     "shell.execute_reply": "2022-03-23T02:31:18.199059Z"
    },
    "papermill": {
     "duration": 0.06056,
     "end_time": "2022-03-23T02:31:18.199824",
     "exception": false,
     "start_time": "2022-03-23T02:31:18.139264",
     "status": "completed"
    },
    "tags": []
   },
   "outputs": [],
   "source": [
    "#hide\n",
    "#Koreliacijos matrica. "
   ]
  },
  {
   "cell_type": "code",
   "execution_count": 12,
   "id": "modular-magnitude",
   "metadata": {
    "execution": {
     "iopub.execute_input": "2022-03-23T02:31:18.241446Z",
     "iopub.status.busy": "2022-03-23T02:31:18.240783Z",
     "iopub.status.idle": "2022-03-23T02:31:18.273999Z",
     "shell.execute_reply": "2022-03-23T02:31:18.273392Z"
    },
    "papermill": {
     "duration": 0.055844,
     "end_time": "2022-03-23T02:31:18.274148",
     "exception": false,
     "start_time": "2022-03-23T02:31:18.218304",
     "status": "completed"
    },
    "tags": []
   },
   "outputs": [],
   "source": [
    "#hide_input\n",
    "#plt.figure(figsize=(15, 8))\n",
    "#sns.heatmap(df_all_mrk[sum_corr].corr(), annot=True, cmap=\"BrBG\");\n",
    "#plt.savefig('corr_matrix_all.eps', format='eps')"
   ]
  },
  {
   "cell_type": "code",
   "execution_count": null,
   "id": "original-senator",
   "metadata": {
    "papermill": {
     "duration": 0.01721,
     "end_time": "2022-03-23T02:31:18.307986",
     "exception": false,
     "start_time": "2022-03-23T02:31:18.290776",
     "status": "completed"
    },
    "tags": []
   },
   "outputs": [],
   "source": []
  },
  {
   "cell_type": "code",
   "execution_count": null,
   "id": "saving-secretariat",
   "metadata": {
    "papermill": {
     "duration": 0.01753,
     "end_time": "2022-03-23T02:31:18.344329",
     "exception": false,
     "start_time": "2022-03-23T02:31:18.326799",
     "status": "completed"
    },
    "tags": []
   },
   "outputs": [],
   "source": []
  }
 ],
 "metadata": {
  "kernelspec": {
   "display_name": "Python 3",
   "language": "python",
   "name": "python3"
  },
  "language_info": {
   "codemirror_mode": {
    "name": "ipython",
    "version": 3
   },
   "file_extension": ".py",
   "mimetype": "text/x-python",
   "name": "python",
   "nbconvert_exporter": "python",
   "pygments_lexer": "ipython3",
   "version": "3.6.15"
  },
  "papermill": {
   "default_parameters": {},
   "duration": 22.65433,
   "end_time": "2022-03-23T02:31:18.983013",
   "environment_variables": {},
   "exception": null,
   "input_path": "App-Correlation_charts.ipynb",
   "output_path": "App-Correlation_charts.ipynb",
   "parameters": {},
   "start_time": "2022-03-23T02:30:56.328683",
   "version": "2.2.2"
  }
 },
 "nbformat": 4,
 "nbformat_minor": 5
}