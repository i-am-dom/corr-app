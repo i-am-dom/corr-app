{
 "cells": [
  {
   "cell_type": "markdown",
   "id": "touched-facility",
   "metadata": {
    "papermill": {
     "duration": 0.016808,
     "end_time": "2022-01-14T02:08:36.073572",
     "exception": false,
     "start_time": "2022-01-14T02:08:36.056764",
     "status": "completed"
    },
    "tags": []
   },
   "source": [
    "# Koreliacijų matrica\n",
    "> Išplėstinė koreliacijų matrica. \n",
    "\n",
    "- toc: true \n",
    "- badges: true\n",
    "- comments: false\n",
    "- categories: [Dominykas Tautkus]\n",
    "- image: images/matrix.png"
   ]
  },
  {
   "cell_type": "code",
   "execution_count": null,
   "id": "premium-weekend",
   "metadata": {
    "papermill": {
     "duration": 0.015616,
     "end_time": "2022-01-14T02:08:36.103693",
     "exception": false,
     "start_time": "2022-01-14T02:08:36.088077",
     "status": "completed"
    },
    "tags": []
   },
   "outputs": [],
   "source": []
  },
  {
   "cell_type": "code",
   "execution_count": 1,
   "id": "vertical-rebate",
   "metadata": {
    "execution": {
     "iopub.execute_input": "2022-01-14T02:08:36.139152Z",
     "iopub.status.busy": "2022-01-14T02:08:36.138540Z",
     "iopub.status.idle": "2022-01-14T02:08:36.150307Z",
     "shell.execute_reply": "2022-01-14T02:08:36.149793Z"
    },
    "papermill": {
     "duration": 0.035022,
     "end_time": "2022-01-14T02:08:36.150456",
     "exception": false,
     "start_time": "2022-01-14T02:08:36.115434",
     "status": "completed"
    },
    "tags": []
   },
   "outputs": [],
   "source": [
    "#hide\n",
    "%load_ext autoreload\n",
    "%autoreload 2"
   ]
  },
  {
   "cell_type": "code",
   "execution_count": 2,
   "id": "overall-advancement",
   "metadata": {
    "execution": {
     "iopub.execute_input": "2022-01-14T02:08:36.178103Z",
     "iopub.status.busy": "2022-01-14T02:08:36.177503Z",
     "iopub.status.idle": "2022-01-14T02:08:37.641163Z",
     "shell.execute_reply": "2022-01-14T02:08:37.640231Z"
    },
    "papermill": {
     "duration": 1.479282,
     "end_time": "2022-01-14T02:08:37.641393",
     "exception": false,
     "start_time": "2022-01-14T02:08:36.162111",
     "status": "completed"
    },
    "tags": []
   },
   "outputs": [],
   "source": [
    "#hide\n",
    "from scripts.read_data import read_api\n",
    "from IPython.display import HTML\n",
    "import plotly.graph_objects as go\n"
   ]
  },
  {
   "cell_type": "code",
   "execution_count": 3,
   "id": "light-crazy",
   "metadata": {
    "execution": {
     "iopub.execute_input": "2022-01-14T02:08:37.671000Z",
     "iopub.status.busy": "2022-01-14T02:08:37.670421Z",
     "iopub.status.idle": "2022-01-14T02:08:37.698591Z",
     "shell.execute_reply": "2022-01-14T02:08:37.697907Z"
    },
    "papermill": {
     "duration": 0.044656,
     "end_time": "2022-01-14T02:08:37.698770",
     "exception": false,
     "start_time": "2022-01-14T02:08:37.654114",
     "status": "completed"
    },
    "tags": []
   },
   "outputs": [],
   "source": [
    "#hide\n",
    "### ICO koreliacija"
   ]
  },
  {
   "cell_type": "code",
   "execution_count": 4,
   "id": "likely-bahrain",
   "metadata": {
    "execution": {
     "iopub.execute_input": "2022-01-14T02:08:37.731480Z",
     "iopub.status.busy": "2022-01-14T02:08:37.730877Z",
     "iopub.status.idle": "2022-01-14T02:08:38.737641Z",
     "shell.execute_reply": "2022-01-14T02:08:38.738133Z"
    },
    "papermill": {
     "duration": 1.025815,
     "end_time": "2022-01-14T02:08:38.738300",
     "exception": false,
     "start_time": "2022-01-14T02:08:37.712485",
     "status": "completed"
    },
    "tags": []
   },
   "outputs": [],
   "source": [
    "#hide\n",
    "import matplotlib.pyplot as plt\n",
    "import numpy as np\n",
    "import pandas as pd\n",
    "import seaborn as sns\n",
    "import matplotlib.pyplot as plt \n",
    "import matplotlib.dates as mdates\n",
    "import matplotlib.pyplot as plt"
   ]
  },
  {
   "cell_type": "code",
   "execution_count": 5,
   "id": "superior-blanket",
   "metadata": {
    "execution": {
     "iopub.execute_input": "2022-01-14T02:08:38.768010Z",
     "iopub.status.busy": "2022-01-14T02:08:38.767457Z",
     "iopub.status.idle": "2022-01-14T02:08:51.226700Z",
     "shell.execute_reply": "2022-01-14T02:08:51.225515Z"
    },
    "papermill": {
     "duration": 12.476355,
     "end_time": "2022-01-14T02:08:51.226853",
     "exception": false,
     "start_time": "2022-01-14T02:08:38.750498",
     "status": "completed"
    },
    "tags": []
   },
   "outputs": [
    {
     "name": "stderr",
     "output_type": "stream",
     "text": [
      "/home/runner/work/corr-app/corr-app/_notebooks/scripts/read_data.py:187: SettingWithCopyWarning:\n",
      "\n",
      "\n",
      "A value is trying to be set on a copy of a slice from a DataFrame.\n",
      "Try using .loc[row_indexer,col_indexer] = value instead\n",
      "\n",
      "See the caveats in the documentation: https://pandas.pydata.org/pandas-docs/stable/user_guide/indexing.html#returning-a-view-versus-a-copy\n",
      "\n"
     ]
    },
    {
     "name": "stderr",
     "output_type": "stream",
     "text": [
      "/home/runner/work/corr-app/corr-app/_notebooks/scripts/read_data.py:215: SettingWithCopyWarning:\n",
      "\n",
      "\n",
      "A value is trying to be set on a copy of a slice from a DataFrame.\n",
      "Try using .loc[row_indexer,col_indexer] = value instead\n",
      "\n",
      "See the caveats in the documentation: https://pandas.pydata.org/pandas-docs/stable/user_guide/indexing.html#returning-a-view-versus-a-copy\n",
      "\n"
     ]
    }
   ],
   "source": [
    "#hide\n",
    "df_all = read_api()\n",
    "#df_all = df_all.drop(['SP500', 'XAU', 'ETH', 'BTC'], axis=1)\n",
    "\n"
   ]
  },
  {
   "cell_type": "code",
   "execution_count": 6,
   "id": "mature-alert",
   "metadata": {
    "execution": {
     "iopub.execute_input": "2022-01-14T02:08:51.256317Z",
     "iopub.status.busy": "2022-01-14T02:08:51.255475Z",
     "iopub.status.idle": "2022-01-14T02:08:51.289035Z",
     "shell.execute_reply": "2022-01-14T02:08:51.288113Z"
    },
    "papermill": {
     "duration": 0.049526,
     "end_time": "2022-01-14T02:08:51.289244",
     "exception": false,
     "start_time": "2022-01-14T02:08:51.239718",
     "status": "completed"
    },
    "tags": []
   },
   "outputs": [],
   "source": [
    "#hide_input\n",
    "sum_corr = df_all.corr().sum().sort_values(ascending=True).index.values\n",
    "#df_all[sum_corr].corr()"
   ]
  },
  {
   "cell_type": "markdown",
   "id": "complex-syndicate",
   "metadata": {
    "papermill": {
     "duration": 0.012444,
     "end_time": "2022-01-14T02:08:51.315823",
     "exception": false,
     "start_time": "2022-01-14T02:08:51.303379",
     "status": "completed"
    },
    "tags": []
   },
   "source": [
    "## Išplėstinė koreliacijų matrica. "
   ]
  },
  {
   "cell_type": "code",
   "execution_count": 7,
   "id": "atomic-omaha",
   "metadata": {
    "execution": {
     "iopub.execute_input": "2022-01-14T02:08:51.346037Z",
     "iopub.status.busy": "2022-01-14T02:08:51.345442Z",
     "iopub.status.idle": "2022-01-14T02:08:52.832073Z",
     "shell.execute_reply": "2022-01-14T02:08:52.831601Z"
    },
    "papermill": {
     "duration": 1.504278,
     "end_time": "2022-01-14T02:08:52.832208",
     "exception": false,
     "start_time": "2022-01-14T02:08:51.327930",
     "status": "completed"
    },
    "tags": []
   },
   "outputs": [
    {
     "data": {
      "image/png": "[encoded data removed]",
      "text/plain": [
       "<Figure size 1080x792 with 2 Axes>"
      ]
     },
     "metadata": {
      "needs_background": "light"
     },
     "output_type": "display_data"
    }
   ],
   "source": [
    "#hide_input\n",
    "plt.figure(figsize=(15, 11))\n",
    "sns.heatmap(df_all[sum_corr].corr(), annot=True, cmap=\"cubehelix\") \n",
    "sns.set(font_scale=1.25)\n",
    "plt.savefig('corr_matrix.png', format='eps')"
   ]
  },
  {
   "cell_type": "code",
   "execution_count": 8,
   "id": "arbitrary-sullivan",
   "metadata": {
    "execution": {
     "iopub.execute_input": "2022-01-14T02:08:52.865123Z",
     "iopub.status.busy": "2022-01-14T02:08:52.864058Z",
     "iopub.status.idle": "2022-01-14T02:08:52.894650Z",
     "shell.execute_reply": "2022-01-14T02:08:52.893917Z"
    },
    "papermill": {
     "duration": 0.04792,
     "end_time": "2022-01-14T02:08:52.894821",
     "exception": false,
     "start_time": "2022-01-14T02:08:52.846901",
     "status": "completed"
    },
    "tags": []
   },
   "outputs": [],
   "source": [
    "#hide\n",
    "#df_all_mrk = read_api()"
   ]
  },
  {
   "cell_type": "code",
   "execution_count": 9,
   "id": "delayed-adapter",
   "metadata": {
    "execution": {
     "iopub.execute_input": "2022-01-14T02:08:52.930196Z",
     "iopub.status.busy": "2022-01-14T02:08:52.929548Z",
     "iopub.status.idle": "2022-01-14T02:08:52.959235Z",
     "shell.execute_reply": "2022-01-14T02:08:52.958684Z"
    },
    "papermill": {
     "duration": 0.048866,
     "end_time": "2022-01-14T02:08:52.959364",
     "exception": false,
     "start_time": "2022-01-14T02:08:52.910498",
     "status": "completed"
    },
    "tags": []
   },
   "outputs": [],
   "source": [
    "#hide\n",
    "#Koreliacijų koeficientai"
   ]
  },
  {
   "cell_type": "code",
   "execution_count": 10,
   "id": "seeing-celebration",
   "metadata": {
    "execution": {
     "iopub.execute_input": "2022-01-14T02:08:52.993344Z",
     "iopub.status.busy": "2022-01-14T02:08:52.992695Z",
     "iopub.status.idle": "2022-01-14T02:08:53.025150Z",
     "shell.execute_reply": "2022-01-14T02:08:53.024210Z"
    },
    "papermill": {
     "duration": 0.051172,
     "end_time": "2022-01-14T02:08:53.025375",
     "exception": false,
     "start_time": "2022-01-14T02:08:52.974203",
     "status": "completed"
    },
    "tags": []
   },
   "outputs": [],
   "source": [
    "#hide_input\n",
    "#sum_corr = df_all_mrk.corr().sum().sort_values(ascending=True).index.values\n",
    "#df_all_mrk[sum_corr].corr()"
   ]
  },
  {
   "cell_type": "code",
   "execution_count": 11,
   "id": "other-painting",
   "metadata": {
    "execution": {
     "iopub.execute_input": "2022-01-14T02:08:53.061386Z",
     "iopub.status.busy": "2022-01-14T02:08:53.060742Z",
     "iopub.status.idle": "2022-01-14T02:08:53.090385Z",
     "shell.execute_reply": "2022-01-14T02:08:53.089753Z"
    },
    "papermill": {
     "duration": 0.048437,
     "end_time": "2022-01-14T02:08:53.090524",
     "exception": false,
     "start_time": "2022-01-14T02:08:53.042087",
     "status": "completed"
    },
    "tags": []
   },
   "outputs": [],
   "source": [
    "#hide\n",
    "#Koreliacijos matrica. "
   ]
  },
  {
   "cell_type": "code",
   "execution_count": 12,
   "id": "modular-magnitude",
   "metadata": {
    "execution": {
     "iopub.execute_input": "2022-01-14T02:08:53.124044Z",
     "iopub.status.busy": "2022-01-14T02:08:53.123451Z",
     "iopub.status.idle": "2022-01-14T02:08:53.155019Z",
     "shell.execute_reply": "2022-01-14T02:08:53.154275Z"
    },
    "papermill": {
     "duration": 0.049777,
     "end_time": "2022-01-14T02:08:53.155186",
     "exception": false,
     "start_time": "2022-01-14T02:08:53.105409",
     "status": "completed"
    },
    "tags": []
   },
   "outputs": [],
   "source": [
    "#hide_input\n",
    "#plt.figure(figsize=(15, 8))\n",
    "#sns.heatmap(df_all_mrk[sum_corr].corr(), annot=True, cmap=\"BrBG\");\n",
    "#plt.savefig('corr_matrix_all.eps', format='eps')"
   ]
  },
  {
   "cell_type": "code",
   "execution_count": null,
   "id": "original-senator",
   "metadata": {
    "papermill": {
     "duration": 0.01469,
     "end_time": "2022-01-14T02:08:53.187313",
     "exception": false,
     "start_time": "2022-01-14T02:08:53.172623",
     "status": "completed"
    },
    "tags": []
   },
   "outputs": [],
   "source": []
  },
  {
   "cell_type": "code",
   "execution_count": null,
   "id": "saving-secretariat",
   "metadata": {
    "papermill": {
     "duration": 0.014497,
     "end_time": "2022-01-14T02:08:53.216257",
     "exception": false,
     "start_time": "2022-01-14T02:08:53.201760",
     "status": "completed"
    },
    "tags": []
   },
   "outputs": [],
   "source": []
  }
 ],
 "metadata": {
  "kernelspec": {
   "display_name": "Python 3",
   "language": "python",
   "name": "python3"
  },
  "language_info": {
   "codemirror_mode": {
    "name": "ipython",
    "version": 3
   },
   "file_extension": ".py",
   "mimetype": "text/x-python",
   "name": "python",
   "nbconvert_exporter": "python",
   "pygments_lexer": "ipython3",
   "version": "3.6.15"
  },
  "papermill": {
   "default_parameters": {},
   "duration": 18.980493,
   "end_time": "2022-01-14T02:08:53.742162",
   "environment_variables": {},
   "exception": null,
   "input_path": "App-Correlation_charts.ipynb",
   "output_path": "App-Correlation_charts.ipynb",
   "parameters": {},
   "start_time": "2022-01-14T02:08:34.761669",
   "version": "2.2.2"
  }
 },
 "nbformat": 4,
 "nbformat_minor": 5
}