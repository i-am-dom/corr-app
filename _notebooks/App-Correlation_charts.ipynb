{
 "cells": [
  {
   "cell_type": "markdown",
   "id": "touched-facility",
   "metadata": {
    "papermill": {
     "duration": 0.014564,
     "end_time": "2022-06-14T03:13:24.478874",
     "exception": false,
     "start_time": "2022-06-14T03:13:24.464310",
     "status": "completed"
    },
    "tags": []
   },
   "source": [
    "# Koreliacijų matrica\n",
    "> Išplėstinė koreliacijų matrica. \n",
    "\n",
    "- toc: true \n",
    "- badges: true\n",
    "- comments: false\n",
    "- categories: [Dominykas Tautkus]\n",
    "- image: images/matrix.png"
   ]
  },
  {
   "cell_type": "code",
   "execution_count": null,
   "id": "premium-weekend",
   "metadata": {
    "papermill": {
     "duration": 0.011082,
     "end_time": "2022-06-14T03:13:24.501303",
     "exception": false,
     "start_time": "2022-06-14T03:13:24.490221",
     "status": "completed"
    },
    "tags": []
   },
   "outputs": [],
   "source": []
  },
  {
   "cell_type": "code",
   "execution_count": 1,
   "id": "vertical-rebate",
   "metadata": {
    "execution": {
     "iopub.execute_input": "2022-06-14T03:13:24.533457Z",
     "iopub.status.busy": "2022-06-14T03:13:24.532827Z",
     "iopub.status.idle": "2022-06-14T03:13:24.543473Z",
     "shell.execute_reply": "2022-06-14T03:13:24.542993Z"
    },
    "papermill": {
     "duration": 0.031658,
     "end_time": "2022-06-14T03:13:24.543587",
     "exception": false,
     "start_time": "2022-06-14T03:13:24.511929",
     "status": "completed"
    },
    "tags": []
   },
   "outputs": [],
   "source": [
    "#hide\n",
    "%load_ext autoreload\n",
    "%autoreload 2"
   ]
  },
  {
   "cell_type": "code",
   "execution_count": 2,
   "id": "overall-advancement",
   "metadata": {
    "execution": {
     "iopub.execute_input": "2022-06-14T03:13:24.568696Z",
     "iopub.status.busy": "2022-06-14T03:13:24.568039Z",
     "iopub.status.idle": "2022-06-14T03:13:25.907210Z",
     "shell.execute_reply": "2022-06-14T03:13:25.906185Z"
    },
    "papermill": {
     "duration": 1.353216,
     "end_time": "2022-06-14T03:13:25.907351",
     "exception": false,
     "start_time": "2022-06-14T03:13:24.554135",
     "status": "completed"
    },
    "tags": []
   },
   "outputs": [],
   "source": [
    "#hide\n",
    "from scripts.read_data import read_api\n",
    "from IPython.display import HTML\n",
    "import plotly.graph_objects as go\n"
   ]
  },
  {
   "cell_type": "code",
   "execution_count": 3,
   "id": "light-crazy",
   "metadata": {
    "execution": {
     "iopub.execute_input": "2022-06-14T03:13:25.935169Z",
     "iopub.status.busy": "2022-06-14T03:13:25.933926Z",
     "iopub.status.idle": "2022-06-14T03:13:25.955612Z",
     "shell.execute_reply": "2022-06-14T03:13:25.955099Z"
    },
    "papermill": {
     "duration": 0.037346,
     "end_time": "2022-06-14T03:13:25.955734",
     "exception": false,
     "start_time": "2022-06-14T03:13:25.918388",
     "status": "completed"
    },
    "tags": []
   },
   "outputs": [],
   "source": [
    "#hide\n",
    "### ICO koreliacija"
   ]
  },
  {
   "cell_type": "code",
   "execution_count": 4,
   "id": "likely-bahrain",
   "metadata": {
    "execution": {
     "iopub.execute_input": "2022-06-14T03:13:25.988538Z",
     "iopub.status.busy": "2022-06-14T03:13:25.987208Z",
     "iopub.status.idle": "2022-06-14T03:13:26.846360Z",
     "shell.execute_reply": "2022-06-14T03:13:26.845803Z"
    },
    "papermill": {
     "duration": 0.878348,
     "end_time": "2022-06-14T03:13:26.846496",
     "exception": false,
     "start_time": "2022-06-14T03:13:25.968148",
     "status": "completed"
    },
    "tags": []
   },
   "outputs": [],
   "source": [
    "#hide\n",
    "import matplotlib.pyplot as plt\n",
    "import numpy as np\n",
    "import pandas as pd\n",
    "import seaborn as sns\n",
    "import matplotlib.pyplot as plt \n",
    "import matplotlib.dates as mdates\n",
    "import matplotlib.pyplot as plt"
   ]
  },
  {
   "cell_type": "code",
   "execution_count": 5,
   "id": "superior-blanket",
   "metadata": {
    "execution": {
     "iopub.execute_input": "2022-06-14T03:13:26.873498Z",
     "iopub.status.busy": "2022-06-14T03:13:26.872875Z",
     "iopub.status.idle": "2022-06-14T03:13:36.051937Z",
     "shell.execute_reply": "2022-06-14T03:13:36.052431Z"
    },
    "papermill": {
     "duration": 9.194801,
     "end_time": "2022-06-14T03:13:36.052572",
     "exception": false,
     "start_time": "2022-06-14T03:13:26.857771",
     "status": "completed"
    },
    "tags": []
   },
   "outputs": [
    {
     "name": "stderr",
     "output_type": "stream",
     "text": [
      "/home/runner/work/corr-app/corr-app/_notebooks/scripts/read_data.py:187: SettingWithCopyWarning:\n",
      "\n",
      "\n",
      "A value is trying to be set on a copy of a slice from a DataFrame.\n",
      "Try using .loc[row_indexer,col_indexer] = value instead\n",
      "\n",
      "See the caveats in the documentation: https://pandas.pydata.org/pandas-docs/stable/user_guide/indexing.html#returning-a-view-versus-a-copy\n",
      "\n"
     ]
    },
    {
     "name": "stderr",
     "output_type": "stream",
     "text": [
      "/home/runner/work/corr-app/corr-app/_notebooks/scripts/read_data.py:215: SettingWithCopyWarning:\n",
      "\n",
      "\n",
      "A value is trying to be set on a copy of a slice from a DataFrame.\n",
      "Try using .loc[row_indexer,col_indexer] = value instead\n",
      "\n",
      "See the caveats in the documentation: https://pandas.pydata.org/pandas-docs/stable/user_guide/indexing.html#returning-a-view-versus-a-copy\n",
      "\n"
     ]
    }
   ],
   "source": [
    "#hide\n",
    "df_all = read_api()\n",
    "#df_all = df_all.drop(['SP500', 'XAU', 'ETH', 'BTC'], axis=1)\n",
    "\n"
   ]
  },
  {
   "cell_type": "code",
   "execution_count": 6,
   "id": "mature-alert",
   "metadata": {
    "execution": {
     "iopub.execute_input": "2022-06-14T03:13:36.083424Z",
     "iopub.status.busy": "2022-06-14T03:13:36.082784Z",
     "iopub.status.idle": "2022-06-14T03:13:36.113683Z",
     "shell.execute_reply": "2022-06-14T03:13:36.112894Z"
    },
    "papermill": {
     "duration": 0.049638,
     "end_time": "2022-06-14T03:13:36.113805",
     "exception": false,
     "start_time": "2022-06-14T03:13:36.064167",
     "status": "completed"
    },
    "tags": []
   },
   "outputs": [],
   "source": [
    "#hide_input\n",
    "sum_corr = df_all.corr().sum().sort_values(ascending=True).index.values\n",
    "#df_all[sum_corr].corr()"
   ]
  },
  {
   "cell_type": "markdown",
   "id": "complex-syndicate",
   "metadata": {
    "papermill": {
     "duration": 0.011139,
     "end_time": "2022-06-14T03:13:36.136285",
     "exception": false,
     "start_time": "2022-06-14T03:13:36.125146",
     "status": "completed"
    },
    "tags": []
   },
   "source": [
    "## Išplėstinė koreliacijų matrica. "
   ]
  },
  {
   "cell_type": "code",
   "execution_count": 7,
   "id": "atomic-omaha",
   "metadata": {
    "execution": {
     "iopub.execute_input": "2022-06-14T03:13:36.167410Z",
     "iopub.status.busy": "2022-06-14T03:13:36.166817Z",
     "iopub.status.idle": "2022-06-14T03:13:37.354723Z",
     "shell.execute_reply": "2022-06-14T03:13:37.355194Z"
    },
    "papermill": {
     "duration": 1.207898,
     "end_time": "2022-06-14T03:13:37.355335",
     "exception": false,
     "start_time": "2022-06-14T03:13:36.147437",
     "status": "completed"
    },
    "tags": []
   },
   "outputs": [
    {
     "data": {
      "image/png": "[encoded data removed]",
      "text/plain": [
       "<Figure size 1080x792 with 2 Axes>"
      ]
     },
     "metadata": {
      "needs_background": "light"
     },
     "output_type": "display_data"
    }
   ],
   "source": [
    "#hide_input\n",
    "plt.figure(figsize=(15, 11))\n",
    "sns.heatmap(df_all[sum_corr].corr(), annot=True, cmap=\"cubehelix\") \n",
    "sns.set(font_scale=1.25)\n",
    "plt.savefig('corr_matrix.png', format='eps')"
   ]
  },
  {
   "cell_type": "code",
   "execution_count": 8,
   "id": "arbitrary-sullivan",
   "metadata": {
    "execution": {
     "iopub.execute_input": "2022-06-14T03:13:37.388513Z",
     "iopub.status.busy": "2022-06-14T03:13:37.387933Z",
     "iopub.status.idle": "2022-06-14T03:13:37.413935Z",
     "shell.execute_reply": "2022-06-14T03:13:37.413412Z"
    },
    "papermill": {
     "duration": 0.045052,
     "end_time": "2022-06-14T03:13:37.414050",
     "exception": false,
     "start_time": "2022-06-14T03:13:37.368998",
     "status": "completed"
    },
    "tags": []
   },
   "outputs": [],
   "source": [
    "#hide\n",
    "#df_all_mrk = read_api()"
   ]
  },
  {
   "cell_type": "code",
   "execution_count": 9,
   "id": "delayed-adapter",
   "metadata": {
    "execution": {
     "iopub.execute_input": "2022-06-14T03:13:37.444338Z",
     "iopub.status.busy": "2022-06-14T03:13:37.443747Z",
     "iopub.status.idle": "2022-06-14T03:13:37.469685Z",
     "shell.execute_reply": "2022-06-14T03:13:37.468997Z"
    },
    "papermill": {
     "duration": 0.042433,
     "end_time": "2022-06-14T03:13:37.469807",
     "exception": false,
     "start_time": "2022-06-14T03:13:37.427374",
     "status": "completed"
    },
    "tags": []
   },
   "outputs": [],
   "source": [
    "#hide\n",
    "#Koreliacijų koeficientai"
   ]
  },
  {
   "cell_type": "code",
   "execution_count": 10,
   "id": "seeing-celebration",
   "metadata": {
    "execution": {
     "iopub.execute_input": "2022-06-14T03:13:37.499923Z",
     "iopub.status.busy": "2022-06-14T03:13:37.499341Z",
     "iopub.status.idle": "2022-06-14T03:13:37.526525Z",
     "shell.execute_reply": "2022-06-14T03:13:37.526012Z"
    },
    "papermill": {
     "duration": 0.042996,
     "end_time": "2022-06-14T03:13:37.526640",
     "exception": false,
     "start_time": "2022-06-14T03:13:37.483644",
     "status": "completed"
    },
    "tags": []
   },
   "outputs": [],
   "source": [
    "#hide_input\n",
    "#sum_corr = df_all_mrk.corr().sum().sort_values(ascending=True).index.values\n",
    "#df_all_mrk[sum_corr].corr()"
   ]
  },
  {
   "cell_type": "code",
   "execution_count": 11,
   "id": "other-painting",
   "metadata": {
    "execution": {
     "iopub.execute_input": "2022-06-14T03:13:37.556239Z",
     "iopub.status.busy": "2022-06-14T03:13:37.555664Z",
     "iopub.status.idle": "2022-06-14T03:13:37.582161Z",
     "shell.execute_reply": "2022-06-14T03:13:37.581477Z"
    },
    "papermill": {
     "duration": 0.042359,
     "end_time": "2022-06-14T03:13:37.582285",
     "exception": false,
     "start_time": "2022-06-14T03:13:37.539926",
     "status": "completed"
    },
    "tags": []
   },
   "outputs": [],
   "source": [
    "#hide\n",
    "#Koreliacijos matrica. "
   ]
  },
  {
   "cell_type": "code",
   "execution_count": 12,
   "id": "modular-magnitude",
   "metadata": {
    "execution": {
     "iopub.execute_input": "2022-06-14T03:13:37.613222Z",
     "iopub.status.busy": "2022-06-14T03:13:37.612610Z",
     "iopub.status.idle": "2022-06-14T03:13:37.639836Z",
     "shell.execute_reply": "2022-06-14T03:13:37.639277Z"
    },
    "papermill": {
     "duration": 0.043531,
     "end_time": "2022-06-14T03:13:37.639961",
     "exception": false,
     "start_time": "2022-06-14T03:13:37.596430",
     "status": "completed"
    },
    "tags": []
   },
   "outputs": [],
   "source": [
    "#hide_input\n",
    "#plt.figure(figsize=(15, 8))\n",
    "#sns.heatmap(df_all_mrk[sum_corr].corr(), annot=True, cmap=\"BrBG\");\n",
    "#plt.savefig('corr_matrix_all.eps', format='eps')"
   ]
  },
  {
   "cell_type": "code",
   "execution_count": null,
   "id": "original-senator",
   "metadata": {
    "papermill": {
     "duration": 0.013217,
     "end_time": "2022-06-14T03:13:37.667302",
     "exception": false,
     "start_time": "2022-06-14T03:13:37.654085",
     "status": "completed"
    },
    "tags": []
   },
   "outputs": [],
   "source": []
  },
  {
   "cell_type": "code",
   "execution_count": null,
   "id": "saving-secretariat",
   "metadata": {
    "papermill": {
     "duration": 0.01314,
     "end_time": "2022-06-14T03:13:37.693638",
     "exception": false,
     "start_time": "2022-06-14T03:13:37.680498",
     "status": "completed"
    },
    "tags": []
   },
   "outputs": [],
   "source": []
  }
 ],
 "metadata": {
  "kernelspec": {
   "display_name": "Python 3",
   "language": "python",
   "name": "python3"
  },
  "language_info": {
   "codemirror_mode": {
    "name": "ipython",
    "version": 3
   },
   "file_extension": ".py",
   "mimetype": "text/x-python",
   "name": "python",
   "nbconvert_exporter": "python",
   "pygments_lexer": "ipython3",
   "version": "3.6.15"
  },
  "papermill": {
   "default_parameters": {},
   "duration": 14.892758,
   "end_time": "2022-06-14T03:13:38.226525",
   "environment_variables": {},
   "exception": null,
   "input_path": "App-Correlation_charts.ipynb",
   "output_path": "App-Correlation_charts.ipynb",
   "parameters": {},
   "start_time": "2022-06-14T03:13:23.333767",
   "version": "2.2.2"
  }
 },
 "nbformat": 4,
 "nbformat_minor": 5
}