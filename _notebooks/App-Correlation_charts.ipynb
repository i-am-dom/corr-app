{
 "cells": [
  {
   "cell_type": "markdown",
   "id": "touched-facility",
   "metadata": {
    "papermill": {
     "duration": 0.015913,
     "end_time": "2022-01-29T01:52:17.601417",
     "exception": false,
     "start_time": "2022-01-29T01:52:17.585504",
     "status": "completed"
    },
    "tags": []
   },
   "source": [
    "# Koreliacijų matrica\n",
    "> Išplėstinė koreliacijų matrica. \n",
    "\n",
    "- toc: true \n",
    "- badges: true\n",
    "- comments: false\n",
    "- categories: [Dominykas Tautkus]\n",
    "- image: images/matrix.png"
   ]
  },
  {
   "cell_type": "code",
   "execution_count": null,
   "id": "premium-weekend",
   "metadata": {
    "papermill": {
     "duration": 0.011264,
     "end_time": "2022-01-29T01:52:17.624878",
     "exception": false,
     "start_time": "2022-01-29T01:52:17.613614",
     "status": "completed"
    },
    "tags": []
   },
   "outputs": [],
   "source": []
  },
  {
   "cell_type": "code",
   "execution_count": 1,
   "id": "vertical-rebate",
   "metadata": {
    "execution": {
     "iopub.execute_input": "2022-01-29T01:52:17.668419Z",
     "iopub.status.busy": "2022-01-29T01:52:17.657553Z",
     "iopub.status.idle": "2022-01-29T01:52:17.673798Z",
     "shell.execute_reply": "2022-01-29T01:52:17.673104Z"
    },
    "papermill": {
     "duration": 0.037999,
     "end_time": "2022-01-29T01:52:17.673943",
     "exception": false,
     "start_time": "2022-01-29T01:52:17.635944",
     "status": "completed"
    },
    "tags": []
   },
   "outputs": [],
   "source": [
    "#hide\n",
    "%load_ext autoreload\n",
    "%autoreload 2"
   ]
  },
  {
   "cell_type": "code",
   "execution_count": 2,
   "id": "overall-advancement",
   "metadata": {
    "execution": {
     "iopub.execute_input": "2022-01-29T01:52:17.706817Z",
     "iopub.status.busy": "2022-01-29T01:52:17.702092Z",
     "iopub.status.idle": "2022-01-29T01:52:19.095321Z",
     "shell.execute_reply": "2022-01-29T01:52:19.094769Z"
    },
    "papermill": {
     "duration": 1.410521,
     "end_time": "2022-01-29T01:52:19.095470",
     "exception": false,
     "start_time": "2022-01-29T01:52:17.684949",
     "status": "completed"
    },
    "tags": []
   },
   "outputs": [],
   "source": [
    "#hide\n",
    "from scripts.read_data import read_api\n",
    "from IPython.display import HTML\n",
    "import plotly.graph_objects as go\n"
   ]
  },
  {
   "cell_type": "code",
   "execution_count": 3,
   "id": "light-crazy",
   "metadata": {
    "execution": {
     "iopub.execute_input": "2022-01-29T01:52:19.134133Z",
     "iopub.status.busy": "2022-01-29T01:52:19.130255Z",
     "iopub.status.idle": "2022-01-29T01:52:19.150974Z",
     "shell.execute_reply": "2022-01-29T01:52:19.151398Z"
    },
    "papermill": {
     "duration": 0.044478,
     "end_time": "2022-01-29T01:52:19.151562",
     "exception": false,
     "start_time": "2022-01-29T01:52:19.107084",
     "status": "completed"
    },
    "tags": []
   },
   "outputs": [],
   "source": [
    "#hide\n",
    "### ICO koreliacija"
   ]
  },
  {
   "cell_type": "code",
   "execution_count": 4,
   "id": "likely-bahrain",
   "metadata": {
    "execution": {
     "iopub.execute_input": "2022-01-29T01:52:19.190076Z",
     "iopub.status.busy": "2022-01-29T01:52:19.186603Z",
     "iopub.status.idle": "2022-01-29T01:52:20.113551Z",
     "shell.execute_reply": "2022-01-29T01:52:20.114042Z"
    },
    "papermill": {
     "duration": 0.95155,
     "end_time": "2022-01-29T01:52:20.114217",
     "exception": false,
     "start_time": "2022-01-29T01:52:19.162667",
     "status": "completed"
    },
    "tags": []
   },
   "outputs": [],
   "source": [
    "#hide\n",
    "import matplotlib.pyplot as plt\n",
    "import numpy as np\n",
    "import pandas as pd\n",
    "import seaborn as sns\n",
    "import matplotlib.pyplot as plt \n",
    "import matplotlib.dates as mdates\n",
    "import matplotlib.pyplot as plt"
   ]
  },
  {
   "cell_type": "code",
   "execution_count": 5,
   "id": "superior-blanket",
   "metadata": {
    "execution": {
     "iopub.execute_input": "2022-01-29T01:52:20.149933Z",
     "iopub.status.busy": "2022-01-29T01:52:20.147010Z",
     "iopub.status.idle": "2022-01-29T01:52:31.872388Z",
     "shell.execute_reply": "2022-01-29T01:52:31.872851Z"
    },
    "papermill": {
     "duration": 11.747518,
     "end_time": "2022-01-29T01:52:31.873008",
     "exception": false,
     "start_time": "2022-01-29T01:52:20.125490",
     "status": "completed"
    },
    "tags": []
   },
   "outputs": [
    {
     "name": "stderr",
     "output_type": "stream",
     "text": [
      "/home/runner/work/corr-app/corr-app/_notebooks/scripts/read_data.py:187: SettingWithCopyWarning:\n",
      "\n",
      "\n",
      "A value is trying to be set on a copy of a slice from a DataFrame.\n",
      "Try using .loc[row_indexer,col_indexer] = value instead\n",
      "\n",
      "See the caveats in the documentation: https://pandas.pydata.org/pandas-docs/stable/user_guide/indexing.html#returning-a-view-versus-a-copy\n",
      "\n"
     ]
    },
    {
     "name": "stderr",
     "output_type": "stream",
     "text": [
      "/home/runner/work/corr-app/corr-app/_notebooks/scripts/read_data.py:215: SettingWithCopyWarning:\n",
      "\n",
      "\n",
      "A value is trying to be set on a copy of a slice from a DataFrame.\n",
      "Try using .loc[row_indexer,col_indexer] = value instead\n",
      "\n",
      "See the caveats in the documentation: https://pandas.pydata.org/pandas-docs/stable/user_guide/indexing.html#returning-a-view-versus-a-copy\n",
      "\n"
     ]
    }
   ],
   "source": [
    "#hide\n",
    "df_all = read_api()\n",
    "#df_all = df_all.drop(['SP500', 'XAU', 'ETH', 'BTC'], axis=1)\n",
    "\n"
   ]
  },
  {
   "cell_type": "code",
   "execution_count": 6,
   "id": "mature-alert",
   "metadata": {
    "execution": {
     "iopub.execute_input": "2022-01-29T01:52:31.899527Z",
     "iopub.status.busy": "2022-01-29T01:52:31.898932Z",
     "iopub.status.idle": "2022-01-29T01:52:31.928374Z",
     "shell.execute_reply": "2022-01-29T01:52:31.928819Z"
    },
    "papermill": {
     "duration": 0.044351,
     "end_time": "2022-01-29T01:52:31.928973",
     "exception": false,
     "start_time": "2022-01-29T01:52:31.884622",
     "status": "completed"
    },
    "tags": []
   },
   "outputs": [],
   "source": [
    "#hide_input\n",
    "sum_corr = df_all.corr().sum().sort_values(ascending=True).index.values\n",
    "#df_all[sum_corr].corr()"
   ]
  },
  {
   "cell_type": "markdown",
   "id": "complex-syndicate",
   "metadata": {
    "papermill": {
     "duration": 0.011123,
     "end_time": "2022-01-29T01:52:31.952148",
     "exception": false,
     "start_time": "2022-01-29T01:52:31.941025",
     "status": "completed"
    },
    "tags": []
   },
   "source": [
    "## Išplėstinė koreliacijų matrica. "
   ]
  },
  {
   "cell_type": "code",
   "execution_count": 7,
   "id": "atomic-omaha",
   "metadata": {
    "execution": {
     "iopub.execute_input": "2022-01-29T01:52:31.981848Z",
     "iopub.status.busy": "2022-01-29T01:52:31.981324Z",
     "iopub.status.idle": "2022-01-29T01:52:33.296303Z",
     "shell.execute_reply": "2022-01-29T01:52:33.295833Z"
    },
    "papermill": {
     "duration": 1.332914,
     "end_time": "2022-01-29T01:52:33.296434",
     "exception": false,
     "start_time": "2022-01-29T01:52:31.963520",
     "status": "completed"
    },
    "tags": []
   },
   "outputs": [
    {
     "data": {
      "image/png": "[encoded data removed]",
      "text/plain": [
       "<Figure size 1080x792 with 2 Axes>"
      ]
     },
     "metadata": {
      "needs_background": "light"
     },
     "output_type": "display_data"
    }
   ],
   "source": [
    "#hide_input\n",
    "plt.figure(figsize=(15, 11))\n",
    "sns.heatmap(df_all[sum_corr].corr(), annot=True, cmap=\"cubehelix\") \n",
    "sns.set(font_scale=1.25)\n",
    "plt.savefig('corr_matrix.png', format='eps')"
   ]
  },
  {
   "cell_type": "code",
   "execution_count": 8,
   "id": "arbitrary-sullivan",
   "metadata": {
    "execution": {
     "iopub.execute_input": "2022-01-29T01:52:33.328106Z",
     "iopub.status.busy": "2022-01-29T01:52:33.327564Z",
     "iopub.status.idle": "2022-01-29T01:52:33.354508Z",
     "shell.execute_reply": "2022-01-29T01:52:33.353994Z"
    },
    "papermill": {
     "duration": 0.044483,
     "end_time": "2022-01-29T01:52:33.354644",
     "exception": false,
     "start_time": "2022-01-29T01:52:33.310161",
     "status": "completed"
    },
    "tags": []
   },
   "outputs": [],
   "source": [
    "#hide\n",
    "#df_all_mrk = read_api()"
   ]
  },
  {
   "cell_type": "code",
   "execution_count": 9,
   "id": "delayed-adapter",
   "metadata": {
    "execution": {
     "iopub.execute_input": "2022-01-29T01:52:33.398804Z",
     "iopub.status.busy": "2022-01-29T01:52:33.398220Z",
     "iopub.status.idle": "2022-01-29T01:52:33.422781Z",
     "shell.execute_reply": "2022-01-29T01:52:33.423311Z"
    },
    "papermill": {
     "duration": 0.055073,
     "end_time": "2022-01-29T01:52:33.423526",
     "exception": false,
     "start_time": "2022-01-29T01:52:33.368453",
     "status": "completed"
    },
    "tags": []
   },
   "outputs": [],
   "source": [
    "#hide\n",
    "#Koreliacijų koeficientai"
   ]
  },
  {
   "cell_type": "code",
   "execution_count": 10,
   "id": "seeing-celebration",
   "metadata": {
    "execution": {
     "iopub.execute_input": "2022-01-29T01:52:33.466638Z",
     "iopub.status.busy": "2022-01-29T01:52:33.465287Z",
     "iopub.status.idle": "2022-01-29T01:52:33.487206Z",
     "shell.execute_reply": "2022-01-29T01:52:33.487604Z"
    },
    "papermill": {
     "duration": 0.049544,
     "end_time": "2022-01-29T01:52:33.487763",
     "exception": false,
     "start_time": "2022-01-29T01:52:33.438219",
     "status": "completed"
    },
    "tags": []
   },
   "outputs": [],
   "source": [
    "#hide_input\n",
    "#sum_corr = df_all_mrk.corr().sum().sort_values(ascending=True).index.values\n",
    "#df_all_mrk[sum_corr].corr()"
   ]
  },
  {
   "cell_type": "code",
   "execution_count": 11,
   "id": "other-painting",
   "metadata": {
    "execution": {
     "iopub.execute_input": "2022-01-29T01:52:33.519254Z",
     "iopub.status.busy": "2022-01-29T01:52:33.518715Z",
     "iopub.status.idle": "2022-01-29T01:52:33.546568Z",
     "shell.execute_reply": "2022-01-29T01:52:33.545898Z"
    },
    "papermill": {
     "duration": 0.045345,
     "end_time": "2022-01-29T01:52:33.546736",
     "exception": false,
     "start_time": "2022-01-29T01:52:33.501391",
     "status": "completed"
    },
    "tags": []
   },
   "outputs": [],
   "source": [
    "#hide\n",
    "#Koreliacijos matrica. "
   ]
  },
  {
   "cell_type": "code",
   "execution_count": 12,
   "id": "modular-magnitude",
   "metadata": {
    "execution": {
     "iopub.execute_input": "2022-01-29T01:52:33.598052Z",
     "iopub.status.busy": "2022-01-29T01:52:33.591811Z",
     "iopub.status.idle": "2022-01-29T01:52:33.614996Z",
     "shell.execute_reply": "2022-01-29T01:52:33.614540Z"
    },
    "papermill": {
     "duration": 0.054052,
     "end_time": "2022-01-29T01:52:33.615126",
     "exception": false,
     "start_time": "2022-01-29T01:52:33.561074",
     "status": "completed"
    },
    "tags": []
   },
   "outputs": [],
   "source": [
    "#hide_input\n",
    "#plt.figure(figsize=(15, 8))\n",
    "#sns.heatmap(df_all_mrk[sum_corr].corr(), annot=True, cmap=\"BrBG\");\n",
    "#plt.savefig('corr_matrix_all.eps', format='eps')"
   ]
  },
  {
   "cell_type": "code",
   "execution_count": null,
   "id": "original-senator",
   "metadata": {
    "papermill": {
     "duration": 0.013838,
     "end_time": "2022-01-29T01:52:33.643629",
     "exception": false,
     "start_time": "2022-01-29T01:52:33.629791",
     "status": "completed"
    },
    "tags": []
   },
   "outputs": [],
   "source": []
  },
  {
   "cell_type": "code",
   "execution_count": null,
   "id": "saving-secretariat",
   "metadata": {
    "papermill": {
     "duration": 0.01325,
     "end_time": "2022-01-29T01:52:33.670251",
     "exception": false,
     "start_time": "2022-01-29T01:52:33.657001",
     "status": "completed"
    },
    "tags": []
   },
   "outputs": [],
   "source": []
  }
 ],
 "metadata": {
  "kernelspec": {
   "display_name": "Python 3",
   "language": "python",
   "name": "python3"
  },
  "language_info": {
   "codemirror_mode": {
    "name": "ipython",
    "version": 3
   },
   "file_extension": ".py",
   "mimetype": "text/x-python",
   "name": "python",
   "nbconvert_exporter": "python",
   "pygments_lexer": "ipython3",
   "version": "3.6.15"
  },
  "papermill": {
   "default_parameters": {},
   "duration": 17.881953,
   "end_time": "2022-01-29T01:52:34.202804",
   "environment_variables": {},
   "exception": null,
   "input_path": "App-Correlation_charts.ipynb",
   "output_path": "App-Correlation_charts.ipynb",
   "parameters": {},
   "start_time": "2022-01-29T01:52:16.320851",
   "version": "2.2.2"
  }
 },
 "nbformat": 4,
 "nbformat_minor": 5
}