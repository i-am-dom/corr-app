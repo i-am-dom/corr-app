{
 "cells": [
  {
   "cell_type": "markdown",
   "id": "touched-facility",
   "metadata": {
    "papermill": {
     "duration": 0.015454,
     "end_time": "2022-08-07T03:03:16.956250",
     "exception": false,
     "start_time": "2022-08-07T03:03:16.940796",
     "status": "completed"
    },
    "tags": []
   },
   "source": [
    "# Koreliacijų matrica\n",
    "> Išplėstinė koreliacijų matrica. \n",
    "\n",
    "- toc: true \n",
    "- badges: true\n",
    "- comments: false\n",
    "- categories: [Dominykas Tautkus]\n",
    "- image: images/matrix.png"
   ]
  },
  {
   "cell_type": "code",
   "execution_count": null,
   "id": "premium-weekend",
   "metadata": {
    "papermill": {
     "duration": 0.011328,
     "end_time": "2022-08-07T03:03:16.979123",
     "exception": false,
     "start_time": "2022-08-07T03:03:16.967795",
     "status": "completed"
    },
    "tags": []
   },
   "outputs": [],
   "source": []
  },
  {
   "cell_type": "code",
   "execution_count": 1,
   "id": "vertical-rebate",
   "metadata": {
    "execution": {
     "iopub.execute_input": "2022-08-07T03:03:17.011850Z",
     "iopub.status.busy": "2022-08-07T03:03:17.011216Z",
     "iopub.status.idle": "2022-08-07T03:03:17.022456Z",
     "shell.execute_reply": "2022-08-07T03:03:17.021957Z"
    },
    "papermill": {
     "duration": 0.032642,
     "end_time": "2022-08-07T03:03:17.022589",
     "exception": false,
     "start_time": "2022-08-07T03:03:16.989947",
     "status": "completed"
    },
    "tags": []
   },
   "outputs": [],
   "source": [
    "#hide\n",
    "%load_ext autoreload\n",
    "%autoreload 2"
   ]
  },
  {
   "cell_type": "code",
   "execution_count": 2,
   "id": "overall-advancement",
   "metadata": {
    "execution": {
     "iopub.execute_input": "2022-08-07T03:03:17.049901Z",
     "iopub.status.busy": "2022-08-07T03:03:17.049282Z",
     "iopub.status.idle": "2022-08-07T03:03:18.584934Z",
     "shell.execute_reply": "2022-08-07T03:03:18.584329Z"
    },
    "papermill": {
     "duration": 1.551665,
     "end_time": "2022-08-07T03:03:18.585070",
     "exception": false,
     "start_time": "2022-08-07T03:03:17.033405",
     "status": "completed"
    },
    "tags": []
   },
   "outputs": [],
   "source": [
    "#hide\n",
    "from scripts.read_data import read_api\n",
    "from IPython.display import HTML\n",
    "import plotly.graph_objects as go\n"
   ]
  },
  {
   "cell_type": "code",
   "execution_count": 3,
   "id": "light-crazy",
   "metadata": {
    "execution": {
     "iopub.execute_input": "2022-08-07T03:03:18.614590Z",
     "iopub.status.busy": "2022-08-07T03:03:18.613975Z",
     "iopub.status.idle": "2022-08-07T03:03:18.635078Z",
     "shell.execute_reply": "2022-08-07T03:03:18.635592Z"
    },
    "papermill": {
     "duration": 0.039027,
     "end_time": "2022-08-07T03:03:18.635741",
     "exception": false,
     "start_time": "2022-08-07T03:03:18.596714",
     "status": "completed"
    },
    "tags": []
   },
   "outputs": [],
   "source": [
    "#hide\n",
    "### ICO koreliacija"
   ]
  },
  {
   "cell_type": "code",
   "execution_count": 4,
   "id": "likely-bahrain",
   "metadata": {
    "execution": {
     "iopub.execute_input": "2022-08-07T03:03:18.664372Z",
     "iopub.status.busy": "2022-08-07T03:03:18.663654Z",
     "iopub.status.idle": "2022-08-07T03:03:19.557431Z",
     "shell.execute_reply": "2022-08-07T03:03:19.556863Z"
    },
    "papermill": {
     "duration": 0.910945,
     "end_time": "2022-08-07T03:03:19.557570",
     "exception": false,
     "start_time": "2022-08-07T03:03:18.646625",
     "status": "completed"
    },
    "tags": []
   },
   "outputs": [],
   "source": [
    "#hide\n",
    "import matplotlib.pyplot as plt\n",
    "import numpy as np\n",
    "import pandas as pd\n",
    "import seaborn as sns\n",
    "import matplotlib.pyplot as plt \n",
    "import matplotlib.dates as mdates\n",
    "import matplotlib.pyplot as plt"
   ]
  },
  {
   "cell_type": "code",
   "execution_count": 5,
   "id": "superior-blanket",
   "metadata": {
    "execution": {
     "iopub.execute_input": "2022-08-07T03:03:19.589481Z",
     "iopub.status.busy": "2022-08-07T03:03:19.588836Z",
     "iopub.status.idle": "2022-08-07T03:03:28.756368Z",
     "shell.execute_reply": "2022-08-07T03:03:28.755830Z"
    },
    "papermill": {
     "duration": 9.187606,
     "end_time": "2022-08-07T03:03:28.756487",
     "exception": false,
     "start_time": "2022-08-07T03:03:19.568881",
     "status": "completed"
    },
    "tags": []
   },
   "outputs": [
    {
     "name": "stderr",
     "output_type": "stream",
     "text": [
      "/home/runner/work/corr-app/corr-app/_notebooks/scripts/read_data.py:187: SettingWithCopyWarning:\n",
      "\n",
      "\n",
      "A value is trying to be set on a copy of a slice from a DataFrame.\n",
      "Try using .loc[row_indexer,col_indexer] = value instead\n",
      "\n",
      "See the caveats in the documentation: https://pandas.pydata.org/pandas-docs/stable/user_guide/indexing.html#returning-a-view-versus-a-copy\n",
      "\n"
     ]
    },
    {
     "name": "stderr",
     "output_type": "stream",
     "text": [
      "/home/runner/work/corr-app/corr-app/_notebooks/scripts/read_data.py:215: SettingWithCopyWarning:\n",
      "\n",
      "\n",
      "A value is trying to be set on a copy of a slice from a DataFrame.\n",
      "Try using .loc[row_indexer,col_indexer] = value instead\n",
      "\n",
      "See the caveats in the documentation: https://pandas.pydata.org/pandas-docs/stable/user_guide/indexing.html#returning-a-view-versus-a-copy\n",
      "\n"
     ]
    }
   ],
   "source": [
    "#hide\n",
    "df_all = read_api()\n",
    "#df_all = df_all.drop(['SP500', 'XAU', 'ETH', 'BTC'], axis=1)\n",
    "\n"
   ]
  },
  {
   "cell_type": "code",
   "execution_count": 6,
   "id": "mature-alert",
   "metadata": {
    "execution": {
     "iopub.execute_input": "2022-08-07T03:03:28.787854Z",
     "iopub.status.busy": "2022-08-07T03:03:28.786027Z",
     "iopub.status.idle": "2022-08-07T03:03:28.818167Z",
     "shell.execute_reply": "2022-08-07T03:03:28.817256Z"
    },
    "papermill": {
     "duration": 0.049119,
     "end_time": "2022-08-07T03:03:28.818297",
     "exception": false,
     "start_time": "2022-08-07T03:03:28.769178",
     "status": "completed"
    },
    "tags": []
   },
   "outputs": [],
   "source": [
    "#hide_input\n",
    "sum_corr = df_all.corr().sum().sort_values(ascending=True).index.values\n",
    "#df_all[sum_corr].corr()"
   ]
  },
  {
   "cell_type": "markdown",
   "id": "complex-syndicate",
   "metadata": {
    "papermill": {
     "duration": 0.011329,
     "end_time": "2022-08-07T03:03:28.841754",
     "exception": false,
     "start_time": "2022-08-07T03:03:28.830425",
     "status": "completed"
    },
    "tags": []
   },
   "source": [
    "## Išplėstinė koreliacijų matrica. "
   ]
  },
  {
   "cell_type": "code",
   "execution_count": 7,
   "id": "atomic-omaha",
   "metadata": {
    "execution": {
     "iopub.execute_input": "2022-08-07T03:03:28.869333Z",
     "iopub.status.busy": "2022-08-07T03:03:28.868704Z",
     "iopub.status.idle": "2022-08-07T03:03:30.124689Z",
     "shell.execute_reply": "2022-08-07T03:03:30.124104Z"
    },
    "papermill": {
     "duration": 1.271763,
     "end_time": "2022-08-07T03:03:30.124822",
     "exception": false,
     "start_time": "2022-08-07T03:03:28.853059",
     "status": "completed"
    },
    "tags": []
   },
   "outputs": [
    {
     "data": {
      "image/png": "[encoded data removed]",
      "text/plain": [
       "<Figure size 1080x792 with 2 Axes>"
      ]
     },
     "metadata": {
      "needs_background": "light"
     },
     "output_type": "display_data"
    }
   ],
   "source": [
    "#hide_input\n",
    "plt.figure(figsize=(15, 11))\n",
    "sns.heatmap(df_all[sum_corr].corr(), annot=True, cmap=\"cubehelix\") \n",
    "sns.set(font_scale=1.25)\n",
    "plt.savefig('corr_matrix.png', format='eps')"
   ]
  },
  {
   "cell_type": "code",
   "execution_count": 8,
   "id": "arbitrary-sullivan",
   "metadata": {
    "execution": {
     "iopub.execute_input": "2022-08-07T03:03:30.156936Z",
     "iopub.status.busy": "2022-08-07T03:03:30.156341Z",
     "iopub.status.idle": "2022-08-07T03:03:30.183704Z",
     "shell.execute_reply": "2022-08-07T03:03:30.183092Z"
    },
    "papermill": {
     "duration": 0.045128,
     "end_time": "2022-08-07T03:03:30.183832",
     "exception": false,
     "start_time": "2022-08-07T03:03:30.138704",
     "status": "completed"
    },
    "tags": []
   },
   "outputs": [],
   "source": [
    "#hide\n",
    "#df_all_mrk = read_api()"
   ]
  },
  {
   "cell_type": "code",
   "execution_count": 9,
   "id": "delayed-adapter",
   "metadata": {
    "execution": {
     "iopub.execute_input": "2022-08-07T03:03:30.215078Z",
     "iopub.status.busy": "2022-08-07T03:03:30.214448Z",
     "iopub.status.idle": "2022-08-07T03:03:30.242222Z",
     "shell.execute_reply": "2022-08-07T03:03:30.241614Z"
    },
    "papermill": {
     "duration": 0.044772,
     "end_time": "2022-08-07T03:03:30.242351",
     "exception": false,
     "start_time": "2022-08-07T03:03:30.197579",
     "status": "completed"
    },
    "tags": []
   },
   "outputs": [],
   "source": [
    "#hide\n",
    "#Koreliacijų koeficientai"
   ]
  },
  {
   "cell_type": "code",
   "execution_count": 10,
   "id": "seeing-celebration",
   "metadata": {
    "execution": {
     "iopub.execute_input": "2022-08-07T03:03:30.280507Z",
     "iopub.status.busy": "2022-08-07T03:03:30.279868Z",
     "iopub.status.idle": "2022-08-07T03:03:30.304580Z",
     "shell.execute_reply": "2022-08-07T03:03:30.303967Z"
    },
    "papermill": {
     "duration": 0.047938,
     "end_time": "2022-08-07T03:03:30.304715",
     "exception": false,
     "start_time": "2022-08-07T03:03:30.256777",
     "status": "completed"
    },
    "tags": []
   },
   "outputs": [],
   "source": [
    "#hide_input\n",
    "#sum_corr = df_all_mrk.corr().sum().sort_values(ascending=True).index.values\n",
    "#df_all_mrk[sum_corr].corr()"
   ]
  },
  {
   "cell_type": "code",
   "execution_count": 11,
   "id": "other-painting",
   "metadata": {
    "execution": {
     "iopub.execute_input": "2022-08-07T03:03:30.336242Z",
     "iopub.status.busy": "2022-08-07T03:03:30.335621Z",
     "iopub.status.idle": "2022-08-07T03:03:30.363641Z",
     "shell.execute_reply": "2022-08-07T03:03:30.363090Z"
    },
    "papermill": {
     "duration": 0.045008,
     "end_time": "2022-08-07T03:03:30.363766",
     "exception": false,
     "start_time": "2022-08-07T03:03:30.318758",
     "status": "completed"
    },
    "tags": []
   },
   "outputs": [],
   "source": [
    "#hide\n",
    "#Koreliacijos matrica. "
   ]
  },
  {
   "cell_type": "code",
   "execution_count": 12,
   "id": "modular-magnitude",
   "metadata": {
    "execution": {
     "iopub.execute_input": "2022-08-07T03:03:30.395279Z",
     "iopub.status.busy": "2022-08-07T03:03:30.394612Z",
     "iopub.status.idle": "2022-08-07T03:03:30.423301Z",
     "shell.execute_reply": "2022-08-07T03:03:30.422699Z"
    },
    "papermill": {
     "duration": 0.045987,
     "end_time": "2022-08-07T03:03:30.423434",
     "exception": false,
     "start_time": "2022-08-07T03:03:30.377447",
     "status": "completed"
    },
    "tags": []
   },
   "outputs": [],
   "source": [
    "#hide_input\n",
    "#plt.figure(figsize=(15, 8))\n",
    "#sns.heatmap(df_all_mrk[sum_corr].corr(), annot=True, cmap=\"BrBG\");\n",
    "#plt.savefig('corr_matrix_all.eps', format='eps')"
   ]
  },
  {
   "cell_type": "code",
   "execution_count": null,
   "id": "original-senator",
   "metadata": {
    "papermill": {
     "duration": 0.013313,
     "end_time": "2022-08-07T03:03:30.450221",
     "exception": false,
     "start_time": "2022-08-07T03:03:30.436908",
     "status": "completed"
    },
    "tags": []
   },
   "outputs": [],
   "source": []
  },
  {
   "cell_type": "code",
   "execution_count": null,
   "id": "saving-secretariat",
   "metadata": {
    "papermill": {
     "duration": 0.013208,
     "end_time": "2022-08-07T03:03:30.476741",
     "exception": false,
     "start_time": "2022-08-07T03:03:30.463533",
     "status": "completed"
    },
    "tags": []
   },
   "outputs": [],
   "source": []
  }
 ],
 "metadata": {
  "kernelspec": {
   "display_name": "Python 3",
   "language": "python",
   "name": "python3"
  },
  "language_info": {
   "codemirror_mode": {
    "name": "ipython",
    "version": 3
   },
   "file_extension": ".py",
   "mimetype": "text/x-python",
   "name": "python",
   "nbconvert_exporter": "python",
   "pygments_lexer": "ipython3",
   "version": "3.6.15"
  },
  "papermill": {
   "default_parameters": {},
   "duration": 15.411943,
   "end_time": "2022-08-07T03:03:31.110771",
   "environment_variables": {},
   "exception": null,
   "input_path": "App-Correlation_charts.ipynb",
   "output_path": "App-Correlation_charts.ipynb",
   "parameters": {},
   "start_time": "2022-08-07T03:03:15.698828",
   "version": "2.2.2"
  }
 },
 "nbformat": 4,
 "nbformat_minor": 5
}