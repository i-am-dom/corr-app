{
 "cells": [
  {
   "cell_type": "markdown",
   "id": "touched-facility",
   "metadata": {
    "papermill": {
     "duration": 0.014179,
     "end_time": "2021-12-25T02:01:37.802754",
     "exception": false,
     "start_time": "2021-12-25T02:01:37.788575",
     "status": "completed"
    },
    "tags": []
   },
   "source": [
    "# Koreliacijų matrica\n",
    "> Išplėstinė koreliacijų matrica. \n",
    "\n",
    "- toc: true \n",
    "- badges: true\n",
    "- comments: false\n",
    "- categories: [Dominykas Tautkus]\n",
    "- image: images/matrix.png"
   ]
  },
  {
   "cell_type": "code",
   "execution_count": null,
   "id": "premium-weekend",
   "metadata": {
    "papermill": {
     "duration": 0.010579,
     "end_time": "2021-12-25T02:01:37.824710",
     "exception": false,
     "start_time": "2021-12-25T02:01:37.814131",
     "status": "completed"
    },
    "tags": []
   },
   "outputs": [],
   "source": []
  },
  {
   "cell_type": "code",
   "execution_count": 1,
   "id": "vertical-rebate",
   "metadata": {
    "execution": {
     "iopub.execute_input": "2021-12-25T02:01:37.857414Z",
     "iopub.status.busy": "2021-12-25T02:01:37.856879Z",
     "iopub.status.idle": "2021-12-25T02:01:37.866912Z",
     "shell.execute_reply": "2021-12-25T02:01:37.867352Z"
    },
    "papermill": {
     "duration": 0.03229,
     "end_time": "2021-12-25T02:01:37.867490",
     "exception": false,
     "start_time": "2021-12-25T02:01:37.835200",
     "status": "completed"
    },
    "tags": []
   },
   "outputs": [],
   "source": [
    "#hide\n",
    "%load_ext autoreload\n",
    "%autoreload 2"
   ]
  },
  {
   "cell_type": "code",
   "execution_count": 2,
   "id": "overall-advancement",
   "metadata": {
    "execution": {
     "iopub.execute_input": "2021-12-25T02:01:37.891967Z",
     "iopub.status.busy": "2021-12-25T02:01:37.891458Z",
     "iopub.status.idle": "2021-12-25T02:01:39.076909Z",
     "shell.execute_reply": "2021-12-25T02:01:39.076325Z"
    },
    "papermill": {
     "duration": 1.199057,
     "end_time": "2021-12-25T02:01:39.077054",
     "exception": false,
     "start_time": "2021-12-25T02:01:37.877997",
     "status": "completed"
    },
    "tags": []
   },
   "outputs": [],
   "source": [
    "#hide\n",
    "from scripts.read_data import read_api\n",
    "from IPython.display import HTML\n",
    "import plotly.graph_objects as go\n"
   ]
  },
  {
   "cell_type": "code",
   "execution_count": 3,
   "id": "light-crazy",
   "metadata": {
    "execution": {
     "iopub.execute_input": "2021-12-25T02:01:39.108753Z",
     "iopub.status.busy": "2021-12-25T02:01:39.105552Z",
     "iopub.status.idle": "2021-12-25T02:01:39.126694Z",
     "shell.execute_reply": "2021-12-25T02:01:39.126183Z"
    },
    "papermill": {
     "duration": 0.038339,
     "end_time": "2021-12-25T02:01:39.126803",
     "exception": false,
     "start_time": "2021-12-25T02:01:39.088464",
     "status": "completed"
    },
    "tags": []
   },
   "outputs": [],
   "source": [
    "#hide\n",
    "### ICO koreliacija"
   ]
  },
  {
   "cell_type": "code",
   "execution_count": 4,
   "id": "likely-bahrain",
   "metadata": {
    "execution": {
     "iopub.execute_input": "2021-12-25T02:01:39.151791Z",
     "iopub.status.busy": "2021-12-25T02:01:39.151276Z",
     "iopub.status.idle": "2021-12-25T02:01:40.050734Z",
     "shell.execute_reply": "2021-12-25T02:01:40.051206Z"
    },
    "papermill": {
     "duration": 0.913486,
     "end_time": "2021-12-25T02:01:40.051370",
     "exception": false,
     "start_time": "2021-12-25T02:01:39.137884",
     "status": "completed"
    },
    "tags": []
   },
   "outputs": [],
   "source": [
    "#hide\n",
    "import matplotlib.pyplot as plt\n",
    "import numpy as np\n",
    "import pandas as pd\n",
    "import seaborn as sns\n",
    "import matplotlib.pyplot as plt \n",
    "import matplotlib.dates as mdates\n",
    "import matplotlib.pyplot as plt"
   ]
  },
  {
   "cell_type": "code",
   "execution_count": 5,
   "id": "superior-blanket",
   "metadata": {
    "execution": {
     "iopub.execute_input": "2021-12-25T02:01:40.079795Z",
     "iopub.status.busy": "2021-12-25T02:01:40.079271Z",
     "iopub.status.idle": "2021-12-25T02:01:57.239010Z",
     "shell.execute_reply": "2021-12-25T02:01:57.238501Z"
    },
    "papermill": {
     "duration": 17.175682,
     "end_time": "2021-12-25T02:01:57.239134",
     "exception": false,
     "start_time": "2021-12-25T02:01:40.063452",
     "status": "completed"
    },
    "tags": []
   },
   "outputs": [
    {
     "name": "stderr",
     "output_type": "stream",
     "text": [
      "/home/runner/work/corr-app/corr-app/_notebooks/scripts/read_data.py:187: SettingWithCopyWarning:\n",
      "\n",
      "\n",
      "A value is trying to be set on a copy of a slice from a DataFrame.\n",
      "Try using .loc[row_indexer,col_indexer] = value instead\n",
      "\n",
      "See the caveats in the documentation: https://pandas.pydata.org/pandas-docs/stable/user_guide/indexing.html#returning-a-view-versus-a-copy\n",
      "\n"
     ]
    },
    {
     "name": "stderr",
     "output_type": "stream",
     "text": [
      "/home/runner/work/corr-app/corr-app/_notebooks/scripts/read_data.py:215: SettingWithCopyWarning:\n",
      "\n",
      "\n",
      "A value is trying to be set on a copy of a slice from a DataFrame.\n",
      "Try using .loc[row_indexer,col_indexer] = value instead\n",
      "\n",
      "See the caveats in the documentation: https://pandas.pydata.org/pandas-docs/stable/user_guide/indexing.html#returning-a-view-versus-a-copy\n",
      "\n"
     ]
    }
   ],
   "source": [
    "#hide\n",
    "df_all = read_api()\n",
    "#df_all = df_all.drop(['SP500', 'XAU', 'ETH', 'BTC'], axis=1)\n",
    "\n"
   ]
  },
  {
   "cell_type": "code",
   "execution_count": 6,
   "id": "mature-alert",
   "metadata": {
    "execution": {
     "iopub.execute_input": "2021-12-25T02:01:57.268551Z",
     "iopub.status.busy": "2021-12-25T02:01:57.267241Z",
     "iopub.status.idle": "2021-12-25T02:01:57.295554Z",
     "shell.execute_reply": "2021-12-25T02:01:57.295049Z"
    },
    "papermill": {
     "duration": 0.044468,
     "end_time": "2021-12-25T02:01:57.295661",
     "exception": false,
     "start_time": "2021-12-25T02:01:57.251193",
     "status": "completed"
    },
    "tags": []
   },
   "outputs": [],
   "source": [
    "#hide_input\n",
    "sum_corr = df_all.corr().sum().sort_values(ascending=True).index.values\n",
    "#df_all[sum_corr].corr()"
   ]
  },
  {
   "cell_type": "markdown",
   "id": "complex-syndicate",
   "metadata": {
    "papermill": {
     "duration": 0.011484,
     "end_time": "2021-12-25T02:01:57.318517",
     "exception": false,
     "start_time": "2021-12-25T02:01:57.307033",
     "status": "completed"
    },
    "tags": []
   },
   "source": [
    "## Išplėstinė koreliacijų matrica. "
   ]
  },
  {
   "cell_type": "code",
   "execution_count": 7,
   "id": "atomic-omaha",
   "metadata": {
    "execution": {
     "iopub.execute_input": "2021-12-25T02:01:57.349657Z",
     "iopub.status.busy": "2021-12-25T02:01:57.348860Z",
     "iopub.status.idle": "2021-12-25T02:01:58.694662Z",
     "shell.execute_reply": "2021-12-25T02:01:58.694226Z"
    },
    "papermill": {
     "duration": 1.363218,
     "end_time": "2021-12-25T02:01:58.694785",
     "exception": false,
     "start_time": "2021-12-25T02:01:57.331567",
     "status": "completed"
    },
    "tags": []
   },
   "outputs": [
    {
     "data": {
      "image/png": "[encoded data removed]",
      "text/plain": [
       "<Figure size 1080x792 with 2 Axes>"
      ]
     },
     "metadata": {
      "needs_background": "light"
     },
     "output_type": "display_data"
    }
   ],
   "source": [
    "#hide_input\n",
    "plt.figure(figsize=(15, 11))\n",
    "sns.heatmap(df_all[sum_corr].corr(), annot=True, cmap=\"cubehelix\") \n",
    "sns.set(font_scale=1.25)\n",
    "plt.savefig('corr_matrix.png', format='eps')"
   ]
  },
  {
   "cell_type": "code",
   "execution_count": 8,
   "id": "arbitrary-sullivan",
   "metadata": {
    "execution": {
     "iopub.execute_input": "2021-12-25T02:01:58.743394Z",
     "iopub.status.busy": "2021-12-25T02:01:58.742832Z",
     "iopub.status.idle": "2021-12-25T02:01:58.765061Z",
     "shell.execute_reply": "2021-12-25T02:01:58.764620Z"
    },
    "papermill": {
     "duration": 0.044368,
     "end_time": "2021-12-25T02:01:58.765168",
     "exception": false,
     "start_time": "2021-12-25T02:01:58.720800",
     "status": "completed"
    },
    "tags": []
   },
   "outputs": [],
   "source": [
    "#hide\n",
    "#df_all_mrk = read_api()"
   ]
  },
  {
   "cell_type": "code",
   "execution_count": 9,
   "id": "delayed-adapter",
   "metadata": {
    "execution": {
     "iopub.execute_input": "2021-12-25T02:01:58.804168Z",
     "iopub.status.busy": "2021-12-25T02:01:58.803378Z",
     "iopub.status.idle": "2021-12-25T02:01:58.823952Z",
     "shell.execute_reply": "2021-12-25T02:01:58.823519Z"
    },
    "papermill": {
     "duration": 0.04585,
     "end_time": "2021-12-25T02:01:58.824054",
     "exception": false,
     "start_time": "2021-12-25T02:01:58.778204",
     "status": "completed"
    },
    "tags": []
   },
   "outputs": [],
   "source": [
    "#hide\n",
    "#Koreliacijų koeficientai"
   ]
  },
  {
   "cell_type": "code",
   "execution_count": 10,
   "id": "seeing-celebration",
   "metadata": {
    "execution": {
     "iopub.execute_input": "2021-12-25T02:01:58.856982Z",
     "iopub.status.busy": "2021-12-25T02:01:58.853530Z",
     "iopub.status.idle": "2021-12-25T02:01:58.878939Z",
     "shell.execute_reply": "2021-12-25T02:01:58.878510Z"
    },
    "papermill": {
     "duration": 0.041496,
     "end_time": "2021-12-25T02:01:58.879039",
     "exception": false,
     "start_time": "2021-12-25T02:01:58.837543",
     "status": "completed"
    },
    "tags": []
   },
   "outputs": [],
   "source": [
    "#hide_input\n",
    "#sum_corr = df_all_mrk.corr().sum().sort_values(ascending=True).index.values\n",
    "#df_all_mrk[sum_corr].corr()"
   ]
  },
  {
   "cell_type": "code",
   "execution_count": 11,
   "id": "other-painting",
   "metadata": {
    "execution": {
     "iopub.execute_input": "2021-12-25T02:01:58.919948Z",
     "iopub.status.busy": "2021-12-25T02:01:58.911739Z",
     "iopub.status.idle": "2021-12-25T02:01:58.948158Z",
     "shell.execute_reply": "2021-12-25T02:01:58.947695Z"
    },
    "papermill": {
     "duration": 0.056288,
     "end_time": "2021-12-25T02:01:58.948279",
     "exception": false,
     "start_time": "2021-12-25T02:01:58.891991",
     "status": "completed"
    },
    "tags": []
   },
   "outputs": [],
   "source": [
    "#hide\n",
    "#Koreliacijos matrica. "
   ]
  },
  {
   "cell_type": "code",
   "execution_count": 12,
   "id": "modular-magnitude",
   "metadata": {
    "execution": {
     "iopub.execute_input": "2021-12-25T02:01:58.980567Z",
     "iopub.status.busy": "2021-12-25T02:01:58.979996Z",
     "iopub.status.idle": "2021-12-25T02:01:59.005826Z",
     "shell.execute_reply": "2021-12-25T02:01:59.005373Z"
    },
    "papermill": {
     "duration": 0.043523,
     "end_time": "2021-12-25T02:01:59.005938",
     "exception": false,
     "start_time": "2021-12-25T02:01:58.962415",
     "status": "completed"
    },
    "tags": []
   },
   "outputs": [],
   "source": [
    "#hide_input\n",
    "#plt.figure(figsize=(15, 8))\n",
    "#sns.heatmap(df_all_mrk[sum_corr].corr(), annot=True, cmap=\"BrBG\");\n",
    "#plt.savefig('corr_matrix_all.eps', format='eps')"
   ]
  },
  {
   "cell_type": "code",
   "execution_count": null,
   "id": "original-senator",
   "metadata": {
    "papermill": {
     "duration": 0.012958,
     "end_time": "2021-12-25T02:01:59.031977",
     "exception": false,
     "start_time": "2021-12-25T02:01:59.019019",
     "status": "completed"
    },
    "tags": []
   },
   "outputs": [],
   "source": []
  },
  {
   "cell_type": "code",
   "execution_count": null,
   "id": "saving-secretariat",
   "metadata": {
    "papermill": {
     "duration": 0.012946,
     "end_time": "2021-12-25T02:01:59.057949",
     "exception": false,
     "start_time": "2021-12-25T02:01:59.045003",
     "status": "completed"
    },
    "tags": []
   },
   "outputs": [],
   "source": []
  }
 ],
 "metadata": {
  "kernelspec": {
   "display_name": "Python 3",
   "language": "python",
   "name": "python3"
  },
  "language_info": {
   "codemirror_mode": {
    "name": "ipython",
    "version": 3
   },
   "file_extension": ".py",
   "mimetype": "text/x-python",
   "name": "python",
   "nbconvert_exporter": "python",
   "pygments_lexer": "ipython3",
   "version": "3.6.15"
  },
  "papermill": {
   "default_parameters": {},
   "duration": 22.716093,
   "end_time": "2021-12-25T02:01:59.579385",
   "environment_variables": {},
   "exception": null,
   "input_path": "App-Correlation_charts.ipynb",
   "output_path": "App-Correlation_charts.ipynb",
   "parameters": {},
   "start_time": "2021-12-25T02:01:36.863292",
   "version": "2.2.2"
  }
 },
 "nbformat": 4,
 "nbformat_minor": 5
}