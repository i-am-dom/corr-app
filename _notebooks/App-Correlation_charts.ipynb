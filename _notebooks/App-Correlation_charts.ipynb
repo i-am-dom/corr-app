{
 "cells": [
  {
   "cell_type": "markdown",
   "id": "touched-facility",
   "metadata": {
    "papermill": {
     "duration": 0.014014,
     "end_time": "2022-01-15T02:05:52.307413",
     "exception": false,
     "start_time": "2022-01-15T02:05:52.293399",
     "status": "completed"
    },
    "tags": []
   },
   "source": [
    "# Koreliacijų matrica\n",
    "> Išplėstinė koreliacijų matrica. \n",
    "\n",
    "- toc: true \n",
    "- badges: true\n",
    "- comments: false\n",
    "- categories: [Dominykas Tautkus]\n",
    "- image: images/matrix.png"
   ]
  },
  {
   "cell_type": "code",
   "execution_count": null,
   "id": "premium-weekend",
   "metadata": {
    "papermill": {
     "duration": 0.010669,
     "end_time": "2022-01-15T02:05:52.329433",
     "exception": false,
     "start_time": "2022-01-15T02:05:52.318764",
     "status": "completed"
    },
    "tags": []
   },
   "outputs": [],
   "source": []
  },
  {
   "cell_type": "code",
   "execution_count": 1,
   "id": "vertical-rebate",
   "metadata": {
    "execution": {
     "iopub.execute_input": "2022-01-15T02:05:52.360958Z",
     "iopub.status.busy": "2022-01-15T02:05:52.360395Z",
     "iopub.status.idle": "2022-01-15T02:05:52.370405Z",
     "shell.execute_reply": "2022-01-15T02:05:52.369984Z"
    },
    "papermill": {
     "duration": 0.03053,
     "end_time": "2022-01-15T02:05:52.370534",
     "exception": false,
     "start_time": "2022-01-15T02:05:52.340004",
     "status": "completed"
    },
    "tags": []
   },
   "outputs": [],
   "source": [
    "#hide\n",
    "%load_ext autoreload\n",
    "%autoreload 2"
   ]
  },
  {
   "cell_type": "code",
   "execution_count": 2,
   "id": "overall-advancement",
   "metadata": {
    "execution": {
     "iopub.execute_input": "2022-01-15T02:05:52.394745Z",
     "iopub.status.busy": "2022-01-15T02:05:52.394240Z",
     "iopub.status.idle": "2022-01-15T02:05:53.720009Z",
     "shell.execute_reply": "2022-01-15T02:05:53.719495Z"
    },
    "papermill": {
     "duration": 1.339082,
     "end_time": "2022-01-15T02:05:53.720149",
     "exception": false,
     "start_time": "2022-01-15T02:05:52.381067",
     "status": "completed"
    },
    "tags": []
   },
   "outputs": [],
   "source": [
    "#hide\n",
    "from scripts.read_data import read_api\n",
    "from IPython.display import HTML\n",
    "import plotly.graph_objects as go\n"
   ]
  },
  {
   "cell_type": "code",
   "execution_count": 3,
   "id": "light-crazy",
   "metadata": {
    "execution": {
     "iopub.execute_input": "2022-01-15T02:05:53.753110Z",
     "iopub.status.busy": "2022-01-15T02:05:53.750914Z",
     "iopub.status.idle": "2022-01-15T02:05:53.770739Z",
     "shell.execute_reply": "2022-01-15T02:05:53.769970Z"
    },
    "papermill": {
     "duration": 0.038987,
     "end_time": "2022-01-15T02:05:53.770855",
     "exception": false,
     "start_time": "2022-01-15T02:05:53.731868",
     "status": "completed"
    },
    "tags": []
   },
   "outputs": [],
   "source": [
    "#hide\n",
    "### ICO koreliacija"
   ]
  },
  {
   "cell_type": "code",
   "execution_count": 4,
   "id": "likely-bahrain",
   "metadata": {
    "execution": {
     "iopub.execute_input": "2022-01-15T02:05:53.803006Z",
     "iopub.status.busy": "2022-01-15T02:05:53.794715Z",
     "iopub.status.idle": "2022-01-15T02:05:54.656038Z",
     "shell.execute_reply": "2022-01-15T02:05:54.655532Z"
    },
    "papermill": {
     "duration": 0.874829,
     "end_time": "2022-01-15T02:05:54.656176",
     "exception": false,
     "start_time": "2022-01-15T02:05:53.781347",
     "status": "completed"
    },
    "tags": []
   },
   "outputs": [],
   "source": [
    "#hide\n",
    "import matplotlib.pyplot as plt\n",
    "import numpy as np\n",
    "import pandas as pd\n",
    "import seaborn as sns\n",
    "import matplotlib.pyplot as plt \n",
    "import matplotlib.dates as mdates\n",
    "import matplotlib.pyplot as plt"
   ]
  },
  {
   "cell_type": "code",
   "execution_count": 5,
   "id": "superior-blanket",
   "metadata": {
    "execution": {
     "iopub.execute_input": "2022-01-15T02:05:54.681327Z",
     "iopub.status.busy": "2022-01-15T02:05:54.680811Z",
     "iopub.status.idle": "2022-01-15T02:06:09.691582Z",
     "shell.execute_reply": "2022-01-15T02:06:09.691109Z"
    },
    "papermill": {
     "duration": 15.024277,
     "end_time": "2022-01-15T02:06:09.691701",
     "exception": false,
     "start_time": "2022-01-15T02:05:54.667424",
     "status": "completed"
    },
    "tags": []
   },
   "outputs": [
    {
     "name": "stderr",
     "output_type": "stream",
     "text": [
      "/home/runner/work/corr-app/corr-app/_notebooks/scripts/read_data.py:187: SettingWithCopyWarning:\n",
      "\n",
      "\n",
      "A value is trying to be set on a copy of a slice from a DataFrame.\n",
      "Try using .loc[row_indexer,col_indexer] = value instead\n",
      "\n",
      "See the caveats in the documentation: https://pandas.pydata.org/pandas-docs/stable/user_guide/indexing.html#returning-a-view-versus-a-copy\n",
      "\n"
     ]
    },
    {
     "name": "stderr",
     "output_type": "stream",
     "text": [
      "/home/runner/work/corr-app/corr-app/_notebooks/scripts/read_data.py:215: SettingWithCopyWarning:\n",
      "\n",
      "\n",
      "A value is trying to be set on a copy of a slice from a DataFrame.\n",
      "Try using .loc[row_indexer,col_indexer] = value instead\n",
      "\n",
      "See the caveats in the documentation: https://pandas.pydata.org/pandas-docs/stable/user_guide/indexing.html#returning-a-view-versus-a-copy\n",
      "\n"
     ]
    }
   ],
   "source": [
    "#hide\n",
    "df_all = read_api()\n",
    "#df_all = df_all.drop(['SP500', 'XAU', 'ETH', 'BTC'], axis=1)\n",
    "\n"
   ]
  },
  {
   "cell_type": "code",
   "execution_count": 6,
   "id": "mature-alert",
   "metadata": {
    "execution": {
     "iopub.execute_input": "2022-01-15T02:06:09.718807Z",
     "iopub.status.busy": "2022-01-15T02:06:09.718285Z",
     "iopub.status.idle": "2022-01-15T02:06:09.746745Z",
     "shell.execute_reply": "2022-01-15T02:06:09.747199Z"
    },
    "papermill": {
     "duration": 0.044233,
     "end_time": "2022-01-15T02:06:09.747351",
     "exception": false,
     "start_time": "2022-01-15T02:06:09.703118",
     "status": "completed"
    },
    "tags": []
   },
   "outputs": [],
   "source": [
    "#hide_input\n",
    "sum_corr = df_all.corr().sum().sort_values(ascending=True).index.values\n",
    "#df_all[sum_corr].corr()"
   ]
  },
  {
   "cell_type": "markdown",
   "id": "complex-syndicate",
   "metadata": {
    "papermill": {
     "duration": 0.010944,
     "end_time": "2022-01-15T02:06:09.769709",
     "exception": false,
     "start_time": "2022-01-15T02:06:09.758765",
     "status": "completed"
    },
    "tags": []
   },
   "source": [
    "## Išplėstinė koreliacijų matrica. "
   ]
  },
  {
   "cell_type": "code",
   "execution_count": 7,
   "id": "atomic-omaha",
   "metadata": {
    "execution": {
     "iopub.execute_input": "2022-01-15T02:06:09.795931Z",
     "iopub.status.busy": "2022-01-15T02:06:09.795419Z",
     "iopub.status.idle": "2022-01-15T02:06:11.051292Z",
     "shell.execute_reply": "2022-01-15T02:06:11.051704Z"
    },
    "papermill": {
     "duration": 1.271069,
     "end_time": "2022-01-15T02:06:11.051842",
     "exception": false,
     "start_time": "2022-01-15T02:06:09.780773",
     "status": "completed"
    },
    "tags": []
   },
   "outputs": [
    {
     "data": {
      "image/png": "[encoded data removed]",
      "text/plain": [
       "<Figure size 1080x792 with 2 Axes>"
      ]
     },
     "metadata": {
      "needs_background": "light"
     },
     "output_type": "display_data"
    }
   ],
   "source": [
    "#hide_input\n",
    "plt.figure(figsize=(15, 11))\n",
    "sns.heatmap(df_all[sum_corr].corr(), annot=True, cmap=\"cubehelix\") \n",
    "sns.set(font_scale=1.25)\n",
    "plt.savefig('corr_matrix.png', format='eps')"
   ]
  },
  {
   "cell_type": "code",
   "execution_count": 8,
   "id": "arbitrary-sullivan",
   "metadata": {
    "execution": {
     "iopub.execute_input": "2022-01-15T02:06:11.081568Z",
     "iopub.status.busy": "2022-01-15T02:06:11.080980Z",
     "iopub.status.idle": "2022-01-15T02:06:11.106140Z",
     "shell.execute_reply": "2022-01-15T02:06:11.105654Z"
    },
    "papermill": {
     "duration": 0.041076,
     "end_time": "2022-01-15T02:06:11.106265",
     "exception": false,
     "start_time": "2022-01-15T02:06:11.065189",
     "status": "completed"
    },
    "tags": []
   },
   "outputs": [],
   "source": [
    "#hide\n",
    "#df_all_mrk = read_api()"
   ]
  },
  {
   "cell_type": "code",
   "execution_count": 9,
   "id": "delayed-adapter",
   "metadata": {
    "execution": {
     "iopub.execute_input": "2022-01-15T02:06:11.138631Z",
     "iopub.status.busy": "2022-01-15T02:06:11.136004Z",
     "iopub.status.idle": "2022-01-15T02:06:11.161853Z",
     "shell.execute_reply": "2022-01-15T02:06:11.161427Z"
    },
    "papermill": {
     "duration": 0.042354,
     "end_time": "2022-01-15T02:06:11.161959",
     "exception": false,
     "start_time": "2022-01-15T02:06:11.119605",
     "status": "completed"
    },
    "tags": []
   },
   "outputs": [],
   "source": [
    "#hide\n",
    "#Koreliacijų koeficientai"
   ]
  },
  {
   "cell_type": "code",
   "execution_count": 10,
   "id": "seeing-celebration",
   "metadata": {
    "execution": {
     "iopub.execute_input": "2022-01-15T02:06:11.194564Z",
     "iopub.status.busy": "2022-01-15T02:06:11.194064Z",
     "iopub.status.idle": "2022-01-15T02:06:11.216568Z",
     "shell.execute_reply": "2022-01-15T02:06:11.216083Z"
    },
    "papermill": {
     "duration": 0.041665,
     "end_time": "2022-01-15T02:06:11.216686",
     "exception": false,
     "start_time": "2022-01-15T02:06:11.175021",
     "status": "completed"
    },
    "tags": []
   },
   "outputs": [],
   "source": [
    "#hide_input\n",
    "#sum_corr = df_all_mrk.corr().sum().sort_values(ascending=True).index.values\n",
    "#df_all_mrk[sum_corr].corr()"
   ]
  },
  {
   "cell_type": "code",
   "execution_count": 11,
   "id": "other-painting",
   "metadata": {
    "execution": {
     "iopub.execute_input": "2022-01-15T02:06:11.245844Z",
     "iopub.status.busy": "2022-01-15T02:06:11.245348Z",
     "iopub.status.idle": "2022-01-15T02:06:11.270299Z",
     "shell.execute_reply": "2022-01-15T02:06:11.269854Z"
    },
    "papermill": {
     "duration": 0.040322,
     "end_time": "2022-01-15T02:06:11.270414",
     "exception": false,
     "start_time": "2022-01-15T02:06:11.230092",
     "status": "completed"
    },
    "tags": []
   },
   "outputs": [],
   "source": [
    "#hide\n",
    "#Koreliacijos matrica. "
   ]
  },
  {
   "cell_type": "code",
   "execution_count": 12,
   "id": "modular-magnitude",
   "metadata": {
    "execution": {
     "iopub.execute_input": "2022-01-15T02:06:11.301992Z",
     "iopub.status.busy": "2022-01-15T02:06:11.301491Z",
     "iopub.status.idle": "2022-01-15T02:06:11.324415Z",
     "shell.execute_reply": "2022-01-15T02:06:11.323953Z"
    },
    "papermill": {
     "duration": 0.04102,
     "end_time": "2022-01-15T02:06:11.324535",
     "exception": false,
     "start_time": "2022-01-15T02:06:11.283515",
     "status": "completed"
    },
    "tags": []
   },
   "outputs": [],
   "source": [
    "#hide_input\n",
    "#plt.figure(figsize=(15, 8))\n",
    "#sns.heatmap(df_all_mrk[sum_corr].corr(), annot=True, cmap=\"BrBG\");\n",
    "#plt.savefig('corr_matrix_all.eps', format='eps')"
   ]
  },
  {
   "cell_type": "code",
   "execution_count": null,
   "id": "original-senator",
   "metadata": {
    "papermill": {
     "duration": 0.012889,
     "end_time": "2022-01-15T02:06:11.352132",
     "exception": false,
     "start_time": "2022-01-15T02:06:11.339243",
     "status": "completed"
    },
    "tags": []
   },
   "outputs": [],
   "source": []
  },
  {
   "cell_type": "code",
   "execution_count": null,
   "id": "saving-secretariat",
   "metadata": {
    "papermill": {
     "duration": 0.01285,
     "end_time": "2022-01-15T02:06:11.378036",
     "exception": false,
     "start_time": "2022-01-15T02:06:11.365186",
     "status": "completed"
    },
    "tags": []
   },
   "outputs": [],
   "source": []
  }
 ],
 "metadata": {
  "kernelspec": {
   "display_name": "Python 3",
   "language": "python",
   "name": "python3"
  },
  "language_info": {
   "codemirror_mode": {
    "name": "ipython",
    "version": 3
   },
   "file_extension": ".py",
   "mimetype": "text/x-python",
   "name": "python",
   "nbconvert_exporter": "python",
   "pygments_lexer": "ipython3",
   "version": "3.6.15"
  },
  "papermill": {
   "default_parameters": {},
   "duration": 20.54433,
   "end_time": "2022-01-15T02:06:11.909658",
   "environment_variables": {},
   "exception": null,
   "input_path": "App-Correlation_charts.ipynb",
   "output_path": "App-Correlation_charts.ipynb",
   "parameters": {},
   "start_time": "2022-01-15T02:05:51.365328",
   "version": "2.2.2"
  }
 },
 "nbformat": 4,
 "nbformat_minor": 5
}