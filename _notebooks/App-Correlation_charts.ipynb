{
 "cells": [
  {
   "cell_type": "markdown",
   "id": "touched-facility",
   "metadata": {
    "papermill": {
     "duration": 0.017486,
     "end_time": "2022-10-02T03:46:09.973391",
     "exception": false,
     "start_time": "2022-10-02T03:46:09.955905",
     "status": "completed"
    },
    "tags": []
   },
   "source": [
    "# Koreliacijų matrica\n",
    "> Išplėstinė koreliacijų matrica. \n",
    "\n",
    "- toc: true \n",
    "- badges: true\n",
    "- comments: false\n",
    "- categories: [Dominykas Tautkus]\n",
    "- image: images/matrix.png"
   ]
  },
  {
   "cell_type": "code",
   "execution_count": null,
   "id": "premium-weekend",
   "metadata": {
    "papermill": {
     "duration": 0.014673,
     "end_time": "2022-10-02T03:46:10.001930",
     "exception": false,
     "start_time": "2022-10-02T03:46:09.987257",
     "status": "completed"
    },
    "tags": []
   },
   "outputs": [],
   "source": []
  },
  {
   "cell_type": "code",
   "execution_count": 1,
   "id": "vertical-rebate",
   "metadata": {
    "execution": {
     "iopub.execute_input": "2022-10-02T03:46:10.041337Z",
     "iopub.status.busy": "2022-10-02T03:46:10.040544Z",
     "iopub.status.idle": "2022-10-02T03:46:10.054931Z",
     "shell.execute_reply": "2022-10-02T03:46:10.054331Z"
    },
    "papermill": {
     "duration": 0.039356,
     "end_time": "2022-10-02T03:46:10.055107",
     "exception": false,
     "start_time": "2022-10-02T03:46:10.015751",
     "status": "completed"
    },
    "tags": []
   },
   "outputs": [],
   "source": [
    "#hide\n",
    "%load_ext autoreload\n",
    "%autoreload 2"
   ]
  },
  {
   "cell_type": "code",
   "execution_count": 2,
   "id": "overall-advancement",
   "metadata": {
    "execution": {
     "iopub.execute_input": "2022-10-02T03:46:10.084801Z",
     "iopub.status.busy": "2022-10-02T03:46:10.084047Z",
     "iopub.status.idle": "2022-10-02T03:46:11.452593Z",
     "shell.execute_reply": "2022-10-02T03:46:11.451570Z"
    },
    "papermill": {
     "duration": 1.385049,
     "end_time": "2022-10-02T03:46:11.452745",
     "exception": false,
     "start_time": "2022-10-02T03:46:10.067696",
     "status": "completed"
    },
    "tags": []
   },
   "outputs": [],
   "source": [
    "#hide\n",
    "from scripts.read_data import read_api\n",
    "from IPython.display import HTML\n",
    "import plotly.graph_objects as go\n"
   ]
  },
  {
   "cell_type": "code",
   "execution_count": 3,
   "id": "light-crazy",
   "metadata": {
    "execution": {
     "iopub.execute_input": "2022-10-02T03:46:11.487454Z",
     "iopub.status.busy": "2022-10-02T03:46:11.485254Z",
     "iopub.status.idle": "2022-10-02T03:46:11.511634Z",
     "shell.execute_reply": "2022-10-02T03:46:11.510966Z"
    },
    "papermill": {
     "duration": 0.045587,
     "end_time": "2022-10-02T03:46:11.511784",
     "exception": false,
     "start_time": "2022-10-02T03:46:11.466197",
     "status": "completed"
    },
    "tags": []
   },
   "outputs": [],
   "source": [
    "#hide\n",
    "### ICO koreliacija"
   ]
  },
  {
   "cell_type": "code",
   "execution_count": 4,
   "id": "likely-bahrain",
   "metadata": {
    "execution": {
     "iopub.execute_input": "2022-10-02T03:46:11.545111Z",
     "iopub.status.busy": "2022-10-02T03:46:11.544225Z",
     "iopub.status.idle": "2022-10-02T03:46:12.595619Z",
     "shell.execute_reply": "2022-10-02T03:46:12.594573Z"
    },
    "papermill": {
     "duration": 1.070437,
     "end_time": "2022-10-02T03:46:12.595801",
     "exception": false,
     "start_time": "2022-10-02T03:46:11.525364",
     "status": "completed"
    },
    "tags": []
   },
   "outputs": [],
   "source": [
    "#hide\n",
    "import matplotlib.pyplot as plt\n",
    "import numpy as np\n",
    "import pandas as pd\n",
    "import seaborn as sns\n",
    "import matplotlib.pyplot as plt \n",
    "import matplotlib.dates as mdates\n",
    "import matplotlib.pyplot as plt"
   ]
  },
  {
   "cell_type": "code",
   "execution_count": 5,
   "id": "superior-blanket",
   "metadata": {
    "execution": {
     "iopub.execute_input": "2022-10-02T03:46:12.628838Z",
     "iopub.status.busy": "2022-10-02T03:46:12.628156Z",
     "iopub.status.idle": "2022-10-02T03:46:24.497755Z",
     "shell.execute_reply": "2022-10-02T03:46:24.497125Z"
    },
    "papermill": {
     "duration": 11.888505,
     "end_time": "2022-10-02T03:46:24.497890",
     "exception": false,
     "start_time": "2022-10-02T03:46:12.609385",
     "status": "completed"
    },
    "tags": []
   },
   "outputs": [
    {
     "name": "stderr",
     "output_type": "stream",
     "text": [
      "/home/runner/work/corr-app/corr-app/_notebooks/scripts/read_data.py:187: SettingWithCopyWarning:\n",
      "\n",
      "\n",
      "A value is trying to be set on a copy of a slice from a DataFrame.\n",
      "Try using .loc[row_indexer,col_indexer] = value instead\n",
      "\n",
      "See the caveats in the documentation: https://pandas.pydata.org/pandas-docs/stable/user_guide/indexing.html#returning-a-view-versus-a-copy\n",
      "\n"
     ]
    },
    {
     "name": "stderr",
     "output_type": "stream",
     "text": [
      "/home/runner/work/corr-app/corr-app/_notebooks/scripts/read_data.py:215: SettingWithCopyWarning:\n",
      "\n",
      "\n",
      "A value is trying to be set on a copy of a slice from a DataFrame.\n",
      "Try using .loc[row_indexer,col_indexer] = value instead\n",
      "\n",
      "See the caveats in the documentation: https://pandas.pydata.org/pandas-docs/stable/user_guide/indexing.html#returning-a-view-versus-a-copy\n",
      "\n"
     ]
    }
   ],
   "source": [
    "#hide\n",
    "df_all = read_api()\n",
    "#df_all = df_all.drop(['SP500', 'XAU', 'ETH', 'BTC'], axis=1)\n",
    "\n"
   ]
  },
  {
   "cell_type": "code",
   "execution_count": 6,
   "id": "mature-alert",
   "metadata": {
    "execution": {
     "iopub.execute_input": "2022-10-02T03:46:24.534388Z",
     "iopub.status.busy": "2022-10-02T03:46:24.533577Z",
     "iopub.status.idle": "2022-10-02T03:46:24.569406Z",
     "shell.execute_reply": "2022-10-02T03:46:24.568621Z"
    },
    "papermill": {
     "duration": 0.05625,
     "end_time": "2022-10-02T03:46:24.569541",
     "exception": false,
     "start_time": "2022-10-02T03:46:24.513291",
     "status": "completed"
    },
    "tags": []
   },
   "outputs": [],
   "source": [
    "#hide_input\n",
    "sum_corr = df_all.corr().sum().sort_values(ascending=True).index.values\n",
    "#df_all[sum_corr].corr()"
   ]
  },
  {
   "cell_type": "markdown",
   "id": "complex-syndicate",
   "metadata": {
    "papermill": {
     "duration": 0.013914,
     "end_time": "2022-10-02T03:46:24.598106",
     "exception": false,
     "start_time": "2022-10-02T03:46:24.584192",
     "status": "completed"
    },
    "tags": []
   },
   "source": [
    "## Išplėstinė koreliacijų matrica. "
   ]
  },
  {
   "cell_type": "code",
   "execution_count": 7,
   "id": "atomic-omaha",
   "metadata": {
    "execution": {
     "iopub.execute_input": "2022-10-02T03:46:24.634427Z",
     "iopub.status.busy": "2022-10-02T03:46:24.633665Z",
     "iopub.status.idle": "2022-10-02T03:46:26.271550Z",
     "shell.execute_reply": "2022-10-02T03:46:26.270714Z"
    },
    "papermill": {
     "duration": 1.658925,
     "end_time": "2022-10-02T03:46:26.271699",
     "exception": false,
     "start_time": "2022-10-02T03:46:24.612774",
     "status": "completed"
    },
    "tags": []
   },
   "outputs": [
    {
     "data": {
      "image/png": "[encoded data removed]",
      "text/plain": [
       "<Figure size 1080x792 with 2 Axes>"
      ]
     },
     "metadata": {
      "needs_background": "light"
     },
     "output_type": "display_data"
    }
   ],
   "source": [
    "#hide_input\n",
    "plt.figure(figsize=(15, 11))\n",
    "sns.heatmap(df_all[sum_corr].corr(), annot=True, cmap=\"cubehelix\") \n",
    "sns.set(font_scale=1.25)\n",
    "plt.savefig('corr_matrix.png', format='eps')"
   ]
  },
  {
   "cell_type": "code",
   "execution_count": 8,
   "id": "arbitrary-sullivan",
   "metadata": {
    "execution": {
     "iopub.execute_input": "2022-10-02T03:46:26.309396Z",
     "iopub.status.busy": "2022-10-02T03:46:26.308577Z",
     "iopub.status.idle": "2022-10-02T03:46:26.341181Z",
     "shell.execute_reply": "2022-10-02T03:46:26.340611Z"
    },
    "papermill": {
     "duration": 0.052933,
     "end_time": "2022-10-02T03:46:26.341311",
     "exception": false,
     "start_time": "2022-10-02T03:46:26.288378",
     "status": "completed"
    },
    "tags": []
   },
   "outputs": [],
   "source": [
    "#hide\n",
    "#df_all_mrk = read_api()"
   ]
  },
  {
   "cell_type": "code",
   "execution_count": 9,
   "id": "delayed-adapter",
   "metadata": {
    "execution": {
     "iopub.execute_input": "2022-10-02T03:46:26.377304Z",
     "iopub.status.busy": "2022-10-02T03:46:26.376475Z",
     "iopub.status.idle": "2022-10-02T03:46:26.407477Z",
     "shell.execute_reply": "2022-10-02T03:46:26.406836Z"
    },
    "papermill": {
     "duration": 0.050229,
     "end_time": "2022-10-02T03:46:26.407618",
     "exception": false,
     "start_time": "2022-10-02T03:46:26.357389",
     "status": "completed"
    },
    "tags": []
   },
   "outputs": [],
   "source": [
    "#hide\n",
    "#Koreliacijų koeficientai"
   ]
  },
  {
   "cell_type": "code",
   "execution_count": 10,
   "id": "seeing-celebration",
   "metadata": {
    "execution": {
     "iopub.execute_input": "2022-10-02T03:46:26.445238Z",
     "iopub.status.busy": "2022-10-02T03:46:26.444502Z",
     "iopub.status.idle": "2022-10-02T03:46:26.474001Z",
     "shell.execute_reply": "2022-10-02T03:46:26.473253Z"
    },
    "papermill": {
     "duration": 0.050353,
     "end_time": "2022-10-02T03:46:26.474129",
     "exception": false,
     "start_time": "2022-10-02T03:46:26.423776",
     "status": "completed"
    },
    "tags": []
   },
   "outputs": [],
   "source": [
    "#hide_input\n",
    "#sum_corr = df_all_mrk.corr().sum().sort_values(ascending=True).index.values\n",
    "#df_all_mrk[sum_corr].corr()"
   ]
  },
  {
   "cell_type": "code",
   "execution_count": 11,
   "id": "other-painting",
   "metadata": {
    "execution": {
     "iopub.execute_input": "2022-10-02T03:46:26.509533Z",
     "iopub.status.busy": "2022-10-02T03:46:26.508798Z",
     "iopub.status.idle": "2022-10-02T03:46:26.537865Z",
     "shell.execute_reply": "2022-10-02T03:46:26.537130Z"
    },
    "papermill": {
     "duration": 0.04794,
     "end_time": "2022-10-02T03:46:26.537999",
     "exception": false,
     "start_time": "2022-10-02T03:46:26.490059",
     "status": "completed"
    },
    "tags": []
   },
   "outputs": [],
   "source": [
    "#hide\n",
    "#Koreliacijos matrica. "
   ]
  },
  {
   "cell_type": "code",
   "execution_count": 12,
   "id": "modular-magnitude",
   "metadata": {
    "execution": {
     "iopub.execute_input": "2022-10-02T03:46:26.573605Z",
     "iopub.status.busy": "2022-10-02T03:46:26.572846Z",
     "iopub.status.idle": "2022-10-02T03:46:26.603578Z",
     "shell.execute_reply": "2022-10-02T03:46:26.602915Z"
    },
    "papermill": {
     "duration": 0.049578,
     "end_time": "2022-10-02T03:46:26.603720",
     "exception": false,
     "start_time": "2022-10-02T03:46:26.554142",
     "status": "completed"
    },
    "tags": []
   },
   "outputs": [],
   "source": [
    "#hide_input\n",
    "#plt.figure(figsize=(15, 8))\n",
    "#sns.heatmap(df_all_mrk[sum_corr].corr(), annot=True, cmap=\"BrBG\");\n",
    "#plt.savefig('corr_matrix_all.eps', format='eps')"
   ]
  },
  {
   "cell_type": "code",
   "execution_count": null,
   "id": "original-senator",
   "metadata": {
    "papermill": {
     "duration": 0.01589,
     "end_time": "2022-10-02T03:46:26.634542",
     "exception": false,
     "start_time": "2022-10-02T03:46:26.618652",
     "status": "completed"
    },
    "tags": []
   },
   "outputs": [],
   "source": []
  },
  {
   "cell_type": "code",
   "execution_count": null,
   "id": "saving-secretariat",
   "metadata": {
    "papermill": {
     "duration": 0.015691,
     "end_time": "2022-10-02T03:46:26.666606",
     "exception": false,
     "start_time": "2022-10-02T03:46:26.650915",
     "status": "completed"
    },
    "tags": []
   },
   "outputs": [],
   "source": []
  }
 ],
 "metadata": {
  "kernelspec": {
   "display_name": "Python 3",
   "language": "python",
   "name": "python3"
  },
  "language_info": {
   "codemirror_mode": {
    "name": "ipython",
    "version": 3
   },
   "file_extension": ".py",
   "mimetype": "text/x-python",
   "name": "python",
   "nbconvert_exporter": "python",
   "pygments_lexer": "ipython3",
   "version": "3.6.15"
  },
  "papermill": {
   "default_parameters": {},
   "duration": 18.566288,
   "end_time": "2022-10-02T03:46:27.204395",
   "environment_variables": {},
   "exception": null,
   "input_path": "App-Correlation_charts.ipynb",
   "output_path": "App-Correlation_charts.ipynb",
   "parameters": {},
   "start_time": "2022-10-02T03:46:08.638107",
   "version": "2.2.2"
  }
 },
 "nbformat": 4,
 "nbformat_minor": 5
}