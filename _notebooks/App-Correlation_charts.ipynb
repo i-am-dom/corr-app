{
 "cells": [
  {
   "cell_type": "markdown",
   "id": "touched-facility",
   "metadata": {
    "papermill": {
     "duration": 0.015226,
     "end_time": "2022-06-01T03:32:34.956149",
     "exception": false,
     "start_time": "2022-06-01T03:32:34.940923",
     "status": "completed"
    },
    "tags": []
   },
   "source": [
    "# Koreliacijų matrica\n",
    "> Išplėstinė koreliacijų matrica. \n",
    "\n",
    "- toc: true \n",
    "- badges: true\n",
    "- comments: false\n",
    "- categories: [Dominykas Tautkus]\n",
    "- image: images/matrix.png"
   ]
  },
  {
   "cell_type": "code",
   "execution_count": null,
   "id": "premium-weekend",
   "metadata": {
    "papermill": {
     "duration": 0.010614,
     "end_time": "2022-06-01T03:32:34.978318",
     "exception": false,
     "start_time": "2022-06-01T03:32:34.967704",
     "status": "completed"
    },
    "tags": []
   },
   "outputs": [],
   "source": []
  },
  {
   "cell_type": "code",
   "execution_count": 1,
   "id": "vertical-rebate",
   "metadata": {
    "execution": {
     "iopub.execute_input": "2022-06-01T03:32:35.010536Z",
     "iopub.status.busy": "2022-06-01T03:32:35.007593Z",
     "iopub.status.idle": "2022-06-01T03:32:35.020794Z",
     "shell.execute_reply": "2022-06-01T03:32:35.021349Z"
    },
    "papermill": {
     "duration": 0.032596,
     "end_time": "2022-06-01T03:32:35.021507",
     "exception": false,
     "start_time": "2022-06-01T03:32:34.988911",
     "status": "completed"
    },
    "tags": []
   },
   "outputs": [],
   "source": [
    "#hide\n",
    "%load_ext autoreload\n",
    "%autoreload 2"
   ]
  },
  {
   "cell_type": "code",
   "execution_count": 2,
   "id": "overall-advancement",
   "metadata": {
    "execution": {
     "iopub.execute_input": "2022-06-01T03:32:35.046657Z",
     "iopub.status.busy": "2022-06-01T03:32:35.046071Z",
     "iopub.status.idle": "2022-06-01T03:32:36.240428Z",
     "shell.execute_reply": "2022-06-01T03:32:36.240901Z"
    },
    "papermill": {
     "duration": 1.208865,
     "end_time": "2022-06-01T03:32:36.241056",
     "exception": false,
     "start_time": "2022-06-01T03:32:35.032191",
     "status": "completed"
    },
    "tags": []
   },
   "outputs": [],
   "source": [
    "#hide\n",
    "from scripts.read_data import read_api\n",
    "from IPython.display import HTML\n",
    "import plotly.graph_objects as go\n"
   ]
  },
  {
   "cell_type": "code",
   "execution_count": 3,
   "id": "light-crazy",
   "metadata": {
    "execution": {
     "iopub.execute_input": "2022-06-01T03:32:36.272630Z",
     "iopub.status.busy": "2022-06-01T03:32:36.272026Z",
     "iopub.status.idle": "2022-06-01T03:32:36.293481Z",
     "shell.execute_reply": "2022-06-01T03:32:36.292940Z"
    },
    "papermill": {
     "duration": 0.041261,
     "end_time": "2022-06-01T03:32:36.293620",
     "exception": false,
     "start_time": "2022-06-01T03:32:36.252359",
     "status": "completed"
    },
    "tags": []
   },
   "outputs": [],
   "source": [
    "#hide\n",
    "### ICO koreliacija"
   ]
  },
  {
   "cell_type": "code",
   "execution_count": 4,
   "id": "likely-bahrain",
   "metadata": {
    "execution": {
     "iopub.execute_input": "2022-06-01T03:32:36.322026Z",
     "iopub.status.busy": "2022-06-01T03:32:36.321405Z",
     "iopub.status.idle": "2022-06-01T03:32:37.175101Z",
     "shell.execute_reply": "2022-06-01T03:32:37.174522Z"
    },
    "papermill": {
     "duration": 0.870072,
     "end_time": "2022-06-01T03:32:37.175234",
     "exception": false,
     "start_time": "2022-06-01T03:32:36.305162",
     "status": "completed"
    },
    "tags": []
   },
   "outputs": [],
   "source": [
    "#hide\n",
    "import matplotlib.pyplot as plt\n",
    "import numpy as np\n",
    "import pandas as pd\n",
    "import seaborn as sns\n",
    "import matplotlib.pyplot as plt \n",
    "import matplotlib.dates as mdates\n",
    "import matplotlib.pyplot as plt"
   ]
  },
  {
   "cell_type": "code",
   "execution_count": 5,
   "id": "superior-blanket",
   "metadata": {
    "execution": {
     "iopub.execute_input": "2022-06-01T03:32:37.210924Z",
     "iopub.status.busy": "2022-06-01T03:32:37.209959Z",
     "iopub.status.idle": "2022-06-01T03:32:50.230825Z",
     "shell.execute_reply": "2022-06-01T03:32:50.230311Z"
    },
    "papermill": {
     "duration": 13.044146,
     "end_time": "2022-06-01T03:32:50.230955",
     "exception": false,
     "start_time": "2022-06-01T03:32:37.186809",
     "status": "completed"
    },
    "tags": []
   },
   "outputs": [
    {
     "name": "stderr",
     "output_type": "stream",
     "text": [
      "/home/runner/work/corr-app/corr-app/_notebooks/scripts/read_data.py:187: SettingWithCopyWarning:\n",
      "\n",
      "\n",
      "A value is trying to be set on a copy of a slice from a DataFrame.\n",
      "Try using .loc[row_indexer,col_indexer] = value instead\n",
      "\n",
      "See the caveats in the documentation: https://pandas.pydata.org/pandas-docs/stable/user_guide/indexing.html#returning-a-view-versus-a-copy\n",
      "\n"
     ]
    },
    {
     "name": "stderr",
     "output_type": "stream",
     "text": [
      "/home/runner/work/corr-app/corr-app/_notebooks/scripts/read_data.py:215: SettingWithCopyWarning:\n",
      "\n",
      "\n",
      "A value is trying to be set on a copy of a slice from a DataFrame.\n",
      "Try using .loc[row_indexer,col_indexer] = value instead\n",
      "\n",
      "See the caveats in the documentation: https://pandas.pydata.org/pandas-docs/stable/user_guide/indexing.html#returning-a-view-versus-a-copy\n",
      "\n"
     ]
    }
   ],
   "source": [
    "#hide\n",
    "df_all = read_api()\n",
    "#df_all = df_all.drop(['SP500', 'XAU', 'ETH', 'BTC'], axis=1)\n",
    "\n"
   ]
  },
  {
   "cell_type": "code",
   "execution_count": 6,
   "id": "mature-alert",
   "metadata": {
    "execution": {
     "iopub.execute_input": "2022-06-01T03:32:50.261775Z",
     "iopub.status.busy": "2022-06-01T03:32:50.261194Z",
     "iopub.status.idle": "2022-06-01T03:32:50.290691Z",
     "shell.execute_reply": "2022-06-01T03:32:50.290184Z"
    },
    "papermill": {
     "duration": 0.048179,
     "end_time": "2022-06-01T03:32:50.290832",
     "exception": false,
     "start_time": "2022-06-01T03:32:50.242653",
     "status": "completed"
    },
    "tags": []
   },
   "outputs": [],
   "source": [
    "#hide_input\n",
    "sum_corr = df_all.corr().sum().sort_values(ascending=True).index.values\n",
    "#df_all[sum_corr].corr()"
   ]
  },
  {
   "cell_type": "markdown",
   "id": "complex-syndicate",
   "metadata": {
    "papermill": {
     "duration": 0.012422,
     "end_time": "2022-06-01T03:32:50.314661",
     "exception": false,
     "start_time": "2022-06-01T03:32:50.302239",
     "status": "completed"
    },
    "tags": []
   },
   "source": [
    "## Išplėstinė koreliacijų matrica. "
   ]
  },
  {
   "cell_type": "code",
   "execution_count": 7,
   "id": "atomic-omaha",
   "metadata": {
    "execution": {
     "iopub.execute_input": "2022-06-01T03:32:50.342030Z",
     "iopub.status.busy": "2022-06-01T03:32:50.341462Z",
     "iopub.status.idle": "2022-06-01T03:32:51.565814Z",
     "shell.execute_reply": "2022-06-01T03:32:51.564937Z"
    },
    "papermill": {
     "duration": 1.23988,
     "end_time": "2022-06-01T03:32:51.565949",
     "exception": false,
     "start_time": "2022-06-01T03:32:50.326069",
     "status": "completed"
    },
    "tags": []
   },
   "outputs": [
    {
     "data": {
      "image/png": "[encoded data removed]",
      "text/plain": [
       "<Figure size 1080x792 with 2 Axes>"
      ]
     },
     "metadata": {
      "needs_background": "light"
     },
     "output_type": "display_data"
    }
   ],
   "source": [
    "#hide_input\n",
    "plt.figure(figsize=(15, 11))\n",
    "sns.heatmap(df_all[sum_corr].corr(), annot=True, cmap=\"cubehelix\") \n",
    "sns.set(font_scale=1.25)\n",
    "plt.savefig('corr_matrix.png', format='eps')"
   ]
  },
  {
   "cell_type": "code",
   "execution_count": 8,
   "id": "arbitrary-sullivan",
   "metadata": {
    "execution": {
     "iopub.execute_input": "2022-06-01T03:32:51.600377Z",
     "iopub.status.busy": "2022-06-01T03:32:51.599125Z",
     "iopub.status.idle": "2022-06-01T03:32:51.625878Z",
     "shell.execute_reply": "2022-06-01T03:32:51.625265Z"
    },
    "papermill": {
     "duration": 0.046178,
     "end_time": "2022-06-01T03:32:51.626001",
     "exception": false,
     "start_time": "2022-06-01T03:32:51.579823",
     "status": "completed"
    },
    "tags": []
   },
   "outputs": [],
   "source": [
    "#hide\n",
    "#df_all_mrk = read_api()"
   ]
  },
  {
   "cell_type": "code",
   "execution_count": 9,
   "id": "delayed-adapter",
   "metadata": {
    "execution": {
     "iopub.execute_input": "2022-06-01T03:32:51.664691Z",
     "iopub.status.busy": "2022-06-01T03:32:51.663749Z",
     "iopub.status.idle": "2022-06-01T03:32:51.687277Z",
     "shell.execute_reply": "2022-06-01T03:32:51.686703Z"
    },
    "papermill": {
     "duration": 0.047893,
     "end_time": "2022-06-01T03:32:51.687420",
     "exception": false,
     "start_time": "2022-06-01T03:32:51.639527",
     "status": "completed"
    },
    "tags": []
   },
   "outputs": [],
   "source": [
    "#hide\n",
    "#Koreliacijų koeficientai"
   ]
  },
  {
   "cell_type": "code",
   "execution_count": 10,
   "id": "seeing-celebration",
   "metadata": {
    "execution": {
     "iopub.execute_input": "2022-06-01T03:32:51.728372Z",
     "iopub.status.busy": "2022-06-01T03:32:51.727796Z",
     "iopub.status.idle": "2022-06-01T03:32:51.750945Z",
     "shell.execute_reply": "2022-06-01T03:32:51.750418Z"
    },
    "papermill": {
     "duration": 0.048955,
     "end_time": "2022-06-01T03:32:51.751074",
     "exception": false,
     "start_time": "2022-06-01T03:32:51.702119",
     "status": "completed"
    },
    "tags": []
   },
   "outputs": [],
   "source": [
    "#hide_input\n",
    "#sum_corr = df_all_mrk.corr().sum().sort_values(ascending=True).index.values\n",
    "#df_all_mrk[sum_corr].corr()"
   ]
  },
  {
   "cell_type": "code",
   "execution_count": 11,
   "id": "other-painting",
   "metadata": {
    "execution": {
     "iopub.execute_input": "2022-06-01T03:32:51.799418Z",
     "iopub.status.busy": "2022-06-01T03:32:51.791207Z",
     "iopub.status.idle": "2022-06-01T03:32:51.815256Z",
     "shell.execute_reply": "2022-06-01T03:32:51.814724Z"
    },
    "papermill": {
     "duration": 0.050614,
     "end_time": "2022-06-01T03:32:51.815382",
     "exception": false,
     "start_time": "2022-06-01T03:32:51.764768",
     "status": "completed"
    },
    "tags": []
   },
   "outputs": [],
   "source": [
    "#hide\n",
    "#Koreliacijos matrica. "
   ]
  },
  {
   "cell_type": "code",
   "execution_count": 12,
   "id": "modular-magnitude",
   "metadata": {
    "execution": {
     "iopub.execute_input": "2022-06-01T03:32:51.847179Z",
     "iopub.status.busy": "2022-06-01T03:32:51.846155Z",
     "iopub.status.idle": "2022-06-01T03:32:51.874174Z",
     "shell.execute_reply": "2022-06-01T03:32:51.873570Z"
    },
    "papermill": {
     "duration": 0.044633,
     "end_time": "2022-06-01T03:32:51.874312",
     "exception": false,
     "start_time": "2022-06-01T03:32:51.829679",
     "status": "completed"
    },
    "tags": []
   },
   "outputs": [],
   "source": [
    "#hide_input\n",
    "#plt.figure(figsize=(15, 8))\n",
    "#sns.heatmap(df_all_mrk[sum_corr].corr(), annot=True, cmap=\"BrBG\");\n",
    "#plt.savefig('corr_matrix_all.eps', format='eps')"
   ]
  },
  {
   "cell_type": "code",
   "execution_count": null,
   "id": "original-senator",
   "metadata": {
    "papermill": {
     "duration": 0.013383,
     "end_time": "2022-06-01T03:32:51.901723",
     "exception": false,
     "start_time": "2022-06-01T03:32:51.888340",
     "status": "completed"
    },
    "tags": []
   },
   "outputs": [],
   "source": []
  },
  {
   "cell_type": "code",
   "execution_count": null,
   "id": "saving-secretariat",
   "metadata": {
    "papermill": {
     "duration": 0.013167,
     "end_time": "2022-06-01T03:32:51.928278",
     "exception": false,
     "start_time": "2022-06-01T03:32:51.915111",
     "status": "completed"
    },
    "tags": []
   },
   "outputs": [],
   "source": []
  }
 ],
 "metadata": {
  "kernelspec": {
   "display_name": "Python 3",
   "language": "python",
   "name": "python3"
  },
  "language_info": {
   "codemirror_mode": {
    "name": "ipython",
    "version": 3
   },
   "file_extension": ".py",
   "mimetype": "text/x-python",
   "name": "python",
   "nbconvert_exporter": "python",
   "pygments_lexer": "ipython3",
   "version": "3.6.15"
  },
  "papermill": {
   "default_parameters": {},
   "duration": 18.656748,
   "end_time": "2022-06-01T03:32:52.561265",
   "environment_variables": {},
   "exception": null,
   "input_path": "App-Correlation_charts.ipynb",
   "output_path": "App-Correlation_charts.ipynb",
   "parameters": {},
   "start_time": "2022-06-01T03:32:33.904517",
   "version": "2.2.2"
  }
 },
 "nbformat": 4,
 "nbformat_minor": 5
}