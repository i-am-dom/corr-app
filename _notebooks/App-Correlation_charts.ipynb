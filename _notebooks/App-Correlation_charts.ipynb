{
 "cells": [
  {
   "cell_type": "markdown",
   "id": "touched-facility",
   "metadata": {
    "papermill": {
     "duration": 0.016412,
     "end_time": "2022-07-30T03:15:18.206887",
     "exception": false,
     "start_time": "2022-07-30T03:15:18.190475",
     "status": "completed"
    },
    "tags": []
   },
   "source": [
    "# Koreliacijų matrica\n",
    "> Išplėstinė koreliacijų matrica. \n",
    "\n",
    "- toc: true \n",
    "- badges: true\n",
    "- comments: false\n",
    "- categories: [Dominykas Tautkus]\n",
    "- image: images/matrix.png"
   ]
  },
  {
   "cell_type": "code",
   "execution_count": null,
   "id": "premium-weekend",
   "metadata": {
    "papermill": {
     "duration": 0.012449,
     "end_time": "2022-07-30T03:15:18.232088",
     "exception": false,
     "start_time": "2022-07-30T03:15:18.219639",
     "status": "completed"
    },
    "tags": []
   },
   "outputs": [],
   "source": []
  },
  {
   "cell_type": "code",
   "execution_count": 1,
   "id": "vertical-rebate",
   "metadata": {
    "execution": {
     "iopub.execute_input": "2022-07-30T03:15:18.268169Z",
     "iopub.status.busy": "2022-07-30T03:15:18.267458Z",
     "iopub.status.idle": "2022-07-30T03:15:18.279654Z",
     "shell.execute_reply": "2022-07-30T03:15:18.279058Z"
    },
    "papermill": {
     "duration": 0.035634,
     "end_time": "2022-07-30T03:15:18.279789",
     "exception": false,
     "start_time": "2022-07-30T03:15:18.244155",
     "status": "completed"
    },
    "tags": []
   },
   "outputs": [],
   "source": [
    "#hide\n",
    "%load_ext autoreload\n",
    "%autoreload 2"
   ]
  },
  {
   "cell_type": "code",
   "execution_count": 2,
   "id": "overall-advancement",
   "metadata": {
    "execution": {
     "iopub.execute_input": "2022-07-30T03:15:18.307866Z",
     "iopub.status.busy": "2022-07-30T03:15:18.307186Z",
     "iopub.status.idle": "2022-07-30T03:15:19.767847Z",
     "shell.execute_reply": "2022-07-30T03:15:19.766630Z"
    },
    "papermill": {
     "duration": 1.476276,
     "end_time": "2022-07-30T03:15:19.768001",
     "exception": false,
     "start_time": "2022-07-30T03:15:18.291725",
     "status": "completed"
    },
    "tags": []
   },
   "outputs": [],
   "source": [
    "#hide\n",
    "from scripts.read_data import read_api\n",
    "from IPython.display import HTML\n",
    "import plotly.graph_objects as go\n"
   ]
  },
  {
   "cell_type": "code",
   "execution_count": 3,
   "id": "light-crazy",
   "metadata": {
    "execution": {
     "iopub.execute_input": "2022-07-30T03:15:19.796849Z",
     "iopub.status.busy": "2022-07-30T03:15:19.796059Z",
     "iopub.status.idle": "2022-07-30T03:15:19.821837Z",
     "shell.execute_reply": "2022-07-30T03:15:19.821142Z"
    },
    "papermill": {
     "duration": 0.041674,
     "end_time": "2022-07-30T03:15:19.821981",
     "exception": false,
     "start_time": "2022-07-30T03:15:19.780307",
     "status": "completed"
    },
    "tags": []
   },
   "outputs": [],
   "source": [
    "#hide\n",
    "### ICO koreliacija"
   ]
  },
  {
   "cell_type": "code",
   "execution_count": 4,
   "id": "likely-bahrain",
   "metadata": {
    "execution": {
     "iopub.execute_input": "2022-07-30T03:15:19.853393Z",
     "iopub.status.busy": "2022-07-30T03:15:19.852645Z",
     "iopub.status.idle": "2022-07-30T03:15:20.810135Z",
     "shell.execute_reply": "2022-07-30T03:15:20.809022Z"
    },
    "papermill": {
     "duration": 0.975909,
     "end_time": "2022-07-30T03:15:20.810292",
     "exception": false,
     "start_time": "2022-07-30T03:15:19.834383",
     "status": "completed"
    },
    "tags": []
   },
   "outputs": [],
   "source": [
    "#hide\n",
    "import matplotlib.pyplot as plt\n",
    "import numpy as np\n",
    "import pandas as pd\n",
    "import seaborn as sns\n",
    "import matplotlib.pyplot as plt \n",
    "import matplotlib.dates as mdates\n",
    "import matplotlib.pyplot as plt"
   ]
  },
  {
   "cell_type": "code",
   "execution_count": 5,
   "id": "superior-blanket",
   "metadata": {
    "execution": {
     "iopub.execute_input": "2022-07-30T03:15:20.840895Z",
     "iopub.status.busy": "2022-07-30T03:15:20.840061Z",
     "iopub.status.idle": "2022-07-30T03:15:32.890141Z",
     "shell.execute_reply": "2022-07-30T03:15:32.889464Z"
    },
    "papermill": {
     "duration": 12.067636,
     "end_time": "2022-07-30T03:15:32.890345",
     "exception": false,
     "start_time": "2022-07-30T03:15:20.822709",
     "status": "completed"
    },
    "tags": []
   },
   "outputs": [
    {
     "name": "stderr",
     "output_type": "stream",
     "text": [
      "/home/runner/work/corr-app/corr-app/_notebooks/scripts/read_data.py:187: SettingWithCopyWarning:\n",
      "\n",
      "\n",
      "A value is trying to be set on a copy of a slice from a DataFrame.\n",
      "Try using .loc[row_indexer,col_indexer] = value instead\n",
      "\n",
      "See the caveats in the documentation: https://pandas.pydata.org/pandas-docs/stable/user_guide/indexing.html#returning-a-view-versus-a-copy\n",
      "\n"
     ]
    },
    {
     "name": "stderr",
     "output_type": "stream",
     "text": [
      "/home/runner/work/corr-app/corr-app/_notebooks/scripts/read_data.py:215: SettingWithCopyWarning:\n",
      "\n",
      "\n",
      "A value is trying to be set on a copy of a slice from a DataFrame.\n",
      "Try using .loc[row_indexer,col_indexer] = value instead\n",
      "\n",
      "See the caveats in the documentation: https://pandas.pydata.org/pandas-docs/stable/user_guide/indexing.html#returning-a-view-versus-a-copy\n",
      "\n"
     ]
    }
   ],
   "source": [
    "#hide\n",
    "df_all = read_api()\n",
    "#df_all = df_all.drop(['SP500', 'XAU', 'ETH', 'BTC'], axis=1)\n",
    "\n"
   ]
  },
  {
   "cell_type": "code",
   "execution_count": 6,
   "id": "mature-alert",
   "metadata": {
    "execution": {
     "iopub.execute_input": "2022-07-30T03:15:32.924604Z",
     "iopub.status.busy": "2022-07-30T03:15:32.923905Z",
     "iopub.status.idle": "2022-07-30T03:15:32.959478Z",
     "shell.execute_reply": "2022-07-30T03:15:32.958774Z"
    },
    "papermill": {
     "duration": 0.053679,
     "end_time": "2022-07-30T03:15:32.959631",
     "exception": false,
     "start_time": "2022-07-30T03:15:32.905952",
     "status": "completed"
    },
    "tags": []
   },
   "outputs": [],
   "source": [
    "#hide_input\n",
    "sum_corr = df_all.corr().sum().sort_values(ascending=True).index.values\n",
    "#df_all[sum_corr].corr()"
   ]
  },
  {
   "cell_type": "markdown",
   "id": "complex-syndicate",
   "metadata": {
    "papermill": {
     "duration": 0.012983,
     "end_time": "2022-07-30T03:15:32.987008",
     "exception": false,
     "start_time": "2022-07-30T03:15:32.974025",
     "status": "completed"
    },
    "tags": []
   },
   "source": [
    "## Išplėstinė koreliacijų matrica. "
   ]
  },
  {
   "cell_type": "code",
   "execution_count": 7,
   "id": "atomic-omaha",
   "metadata": {
    "execution": {
     "iopub.execute_input": "2022-07-30T03:15:33.016473Z",
     "iopub.status.busy": "2022-07-30T03:15:33.015795Z",
     "iopub.status.idle": "2022-07-30T03:15:34.453813Z",
     "shell.execute_reply": "2022-07-30T03:15:34.454320Z"
    },
    "papermill": {
     "duration": 1.454532,
     "end_time": "2022-07-30T03:15:34.454489",
     "exception": false,
     "start_time": "2022-07-30T03:15:32.999957",
     "status": "completed"
    },
    "tags": []
   },
   "outputs": [
    {
     "data": {
      "image/png": "[encoded data removed]",
      "text/plain": [
       "<Figure size 1080x792 with 2 Axes>"
      ]
     },
     "metadata": {
      "needs_background": "light"
     },
     "output_type": "display_data"
    }
   ],
   "source": [
    "#hide_input\n",
    "plt.figure(figsize=(15, 11))\n",
    "sns.heatmap(df_all[sum_corr].corr(), annot=True, cmap=\"cubehelix\") \n",
    "sns.set(font_scale=1.25)\n",
    "plt.savefig('corr_matrix.png', format='eps')"
   ]
  },
  {
   "cell_type": "code",
   "execution_count": 8,
   "id": "arbitrary-sullivan",
   "metadata": {
    "execution": {
     "iopub.execute_input": "2022-07-30T03:15:34.490348Z",
     "iopub.status.busy": "2022-07-30T03:15:34.489641Z",
     "iopub.status.idle": "2022-07-30T03:15:34.520823Z",
     "shell.execute_reply": "2022-07-30T03:15:34.520193Z"
    },
    "papermill": {
     "duration": 0.051066,
     "end_time": "2022-07-30T03:15:34.520971",
     "exception": false,
     "start_time": "2022-07-30T03:15:34.469905",
     "status": "completed"
    },
    "tags": []
   },
   "outputs": [],
   "source": [
    "#hide\n",
    "#df_all_mrk = read_api()"
   ]
  },
  {
   "cell_type": "code",
   "execution_count": 9,
   "id": "delayed-adapter",
   "metadata": {
    "execution": {
     "iopub.execute_input": "2022-07-30T03:15:34.556013Z",
     "iopub.status.busy": "2022-07-30T03:15:34.555331Z",
     "iopub.status.idle": "2022-07-30T03:15:34.587389Z",
     "shell.execute_reply": "2022-07-30T03:15:34.586765Z"
    },
    "papermill": {
     "duration": 0.05029,
     "end_time": "2022-07-30T03:15:34.587517",
     "exception": false,
     "start_time": "2022-07-30T03:15:34.537227",
     "status": "completed"
    },
    "tags": []
   },
   "outputs": [],
   "source": [
    "#hide\n",
    "#Koreliacijų koeficientai"
   ]
  },
  {
   "cell_type": "code",
   "execution_count": 10,
   "id": "seeing-celebration",
   "metadata": {
    "execution": {
     "iopub.execute_input": "2022-07-30T03:15:34.623823Z",
     "iopub.status.busy": "2022-07-30T03:15:34.623122Z",
     "iopub.status.idle": "2022-07-30T03:15:34.655102Z",
     "shell.execute_reply": "2022-07-30T03:15:34.654416Z"
    },
    "papermill": {
     "duration": 0.05252,
     "end_time": "2022-07-30T03:15:34.655252",
     "exception": false,
     "start_time": "2022-07-30T03:15:34.602732",
     "status": "completed"
    },
    "tags": []
   },
   "outputs": [],
   "source": [
    "#hide_input\n",
    "#sum_corr = df_all_mrk.corr().sum().sort_values(ascending=True).index.values\n",
    "#df_all_mrk[sum_corr].corr()"
   ]
  },
  {
   "cell_type": "code",
   "execution_count": 11,
   "id": "other-painting",
   "metadata": {
    "execution": {
     "iopub.execute_input": "2022-07-30T03:15:34.689436Z",
     "iopub.status.busy": "2022-07-30T03:15:34.688764Z",
     "iopub.status.idle": "2022-07-30T03:15:34.720489Z",
     "shell.execute_reply": "2022-07-30T03:15:34.719928Z"
    },
    "papermill": {
     "duration": 0.0499,
     "end_time": "2022-07-30T03:15:34.720617",
     "exception": false,
     "start_time": "2022-07-30T03:15:34.670717",
     "status": "completed"
    },
    "tags": []
   },
   "outputs": [],
   "source": [
    "#hide\n",
    "#Koreliacijos matrica. "
   ]
  },
  {
   "cell_type": "code",
   "execution_count": 12,
   "id": "modular-magnitude",
   "metadata": {
    "execution": {
     "iopub.execute_input": "2022-07-30T03:15:34.754410Z",
     "iopub.status.busy": "2022-07-30T03:15:34.753729Z",
     "iopub.status.idle": "2022-07-30T03:15:34.784867Z",
     "shell.execute_reply": "2022-07-30T03:15:34.784254Z"
    },
    "papermill": {
     "duration": 0.049473,
     "end_time": "2022-07-30T03:15:34.785011",
     "exception": false,
     "start_time": "2022-07-30T03:15:34.735538",
     "status": "completed"
    },
    "tags": []
   },
   "outputs": [],
   "source": [
    "#hide_input\n",
    "#plt.figure(figsize=(15, 8))\n",
    "#sns.heatmap(df_all_mrk[sum_corr].corr(), annot=True, cmap=\"BrBG\");\n",
    "#plt.savefig('corr_matrix_all.eps', format='eps')"
   ]
  },
  {
   "cell_type": "code",
   "execution_count": null,
   "id": "original-senator",
   "metadata": {
    "papermill": {
     "duration": 0.0148,
     "end_time": "2022-07-30T03:15:34.815556",
     "exception": false,
     "start_time": "2022-07-30T03:15:34.800756",
     "status": "completed"
    },
    "tags": []
   },
   "outputs": [],
   "source": []
  },
  {
   "cell_type": "code",
   "execution_count": null,
   "id": "saving-secretariat",
   "metadata": {
    "papermill": {
     "duration": 0.014823,
     "end_time": "2022-07-30T03:15:34.845683",
     "exception": false,
     "start_time": "2022-07-30T03:15:34.830860",
     "status": "completed"
    },
    "tags": []
   },
   "outputs": [],
   "source": []
  }
 ],
 "metadata": {
  "kernelspec": {
   "display_name": "Python 3",
   "language": "python",
   "name": "python3"
  },
  "language_info": {
   "codemirror_mode": {
    "name": "ipython",
    "version": 3
   },
   "file_extension": ".py",
   "mimetype": "text/x-python",
   "name": "python",
   "nbconvert_exporter": "python",
   "pygments_lexer": "ipython3",
   "version": "3.6.15"
  },
  "papermill": {
   "default_parameters": {},
   "duration": 18.463817,
   "end_time": "2022-07-30T03:15:35.380434",
   "environment_variables": {},
   "exception": null,
   "input_path": "App-Correlation_charts.ipynb",
   "output_path": "App-Correlation_charts.ipynb",
   "parameters": {},
   "start_time": "2022-07-30T03:15:16.916617",
   "version": "2.2.2"
  }
 },
 "nbformat": 4,
 "nbformat_minor": 5
}