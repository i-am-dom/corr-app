{
 "cells": [
  {
   "cell_type": "markdown",
   "id": "touched-facility",
   "metadata": {
    "papermill": {
     "duration": 0.014789,
     "end_time": "2022-10-21T03:06:44.802938",
     "exception": false,
     "start_time": "2022-10-21T03:06:44.788149",
     "status": "completed"
    },
    "tags": []
   },
   "source": [
    "# Koreliacijų matrica\n",
    "> Išplėstinė koreliacijų matrica. \n",
    "\n",
    "- toc: true \n",
    "- badges: true\n",
    "- comments: false\n",
    "- categories: [Dominykas Tautkus]\n",
    "- image: images/matrix.png"
   ]
  },
  {
   "cell_type": "code",
   "execution_count": null,
   "id": "premium-weekend",
   "metadata": {
    "papermill": {
     "duration": 0.010665,
     "end_time": "2022-10-21T03:06:44.826305",
     "exception": false,
     "start_time": "2022-10-21T03:06:44.815640",
     "status": "completed"
    },
    "tags": []
   },
   "outputs": [],
   "source": []
  },
  {
   "cell_type": "code",
   "execution_count": 1,
   "id": "vertical-rebate",
   "metadata": {
    "execution": {
     "iopub.execute_input": "2022-10-21T03:06:44.863929Z",
     "iopub.status.busy": "2022-10-21T03:06:44.863183Z",
     "iopub.status.idle": "2022-10-21T03:06:44.874548Z",
     "shell.execute_reply": "2022-10-21T03:06:44.875131Z"
    },
    "papermill": {
     "duration": 0.036531,
     "end_time": "2022-10-21T03:06:44.875268",
     "exception": false,
     "start_time": "2022-10-21T03:06:44.838737",
     "status": "completed"
    },
    "tags": []
   },
   "outputs": [],
   "source": [
    "#hide\n",
    "%load_ext autoreload\n",
    "%autoreload 2"
   ]
  },
  {
   "cell_type": "code",
   "execution_count": 2,
   "id": "overall-advancement",
   "metadata": {
    "execution": {
     "iopub.execute_input": "2022-10-21T03:06:44.900248Z",
     "iopub.status.busy": "2022-10-21T03:06:44.899645Z",
     "iopub.status.idle": "2022-10-21T03:06:46.469788Z",
     "shell.execute_reply": "2022-10-21T03:06:46.469191Z"
    },
    "papermill": {
     "duration": 1.584028,
     "end_time": "2022-10-21T03:06:46.469942",
     "exception": false,
     "start_time": "2022-10-21T03:06:44.885914",
     "status": "completed"
    },
    "tags": []
   },
   "outputs": [],
   "source": [
    "#hide\n",
    "from scripts.read_data import read_api\n",
    "from IPython.display import HTML\n",
    "import plotly.graph_objects as go\n"
   ]
  },
  {
   "cell_type": "code",
   "execution_count": 3,
   "id": "light-crazy",
   "metadata": {
    "execution": {
     "iopub.execute_input": "2022-10-21T03:06:46.498159Z",
     "iopub.status.busy": "2022-10-21T03:06:46.497494Z",
     "iopub.status.idle": "2022-10-21T03:06:46.518600Z",
     "shell.execute_reply": "2022-10-21T03:06:46.517957Z"
    },
    "papermill": {
     "duration": 0.036562,
     "end_time": "2022-10-21T03:06:46.518707",
     "exception": false,
     "start_time": "2022-10-21T03:06:46.482145",
     "status": "completed"
    },
    "tags": []
   },
   "outputs": [],
   "source": [
    "#hide\n",
    "### ICO koreliacija"
   ]
  },
  {
   "cell_type": "code",
   "execution_count": 4,
   "id": "likely-bahrain",
   "metadata": {
    "execution": {
     "iopub.execute_input": "2022-10-21T03:06:46.545706Z",
     "iopub.status.busy": "2022-10-21T03:06:46.545068Z",
     "iopub.status.idle": "2022-10-21T03:06:47.524722Z",
     "shell.execute_reply": "2022-10-21T03:06:47.523408Z"
    },
    "papermill": {
     "duration": 0.99454,
     "end_time": "2022-10-21T03:06:47.524858",
     "exception": false,
     "start_time": "2022-10-21T03:06:46.530318",
     "status": "completed"
    },
    "tags": []
   },
   "outputs": [],
   "source": [
    "#hide\n",
    "import matplotlib.pyplot as plt\n",
    "import numpy as np\n",
    "import pandas as pd\n",
    "import seaborn as sns\n",
    "import matplotlib.pyplot as plt \n",
    "import matplotlib.dates as mdates\n",
    "import matplotlib.pyplot as plt"
   ]
  },
  {
   "cell_type": "code",
   "execution_count": 5,
   "id": "superior-blanket",
   "metadata": {
    "execution": {
     "iopub.execute_input": "2022-10-21T03:06:47.554564Z",
     "iopub.status.busy": "2022-10-21T03:06:47.553720Z",
     "iopub.status.idle": "2022-10-21T03:06:58.153476Z",
     "shell.execute_reply": "2022-10-21T03:06:58.153983Z"
    },
    "papermill": {
     "duration": 10.616376,
     "end_time": "2022-10-21T03:06:58.154140",
     "exception": false,
     "start_time": "2022-10-21T03:06:47.537764",
     "status": "completed"
    },
    "tags": []
   },
   "outputs": [
    {
     "name": "stderr",
     "output_type": "stream",
     "text": [
      "/home/runner/work/corr-app/corr-app/_notebooks/scripts/read_data.py:187: SettingWithCopyWarning:\n",
      "\n",
      "\n",
      "A value is trying to be set on a copy of a slice from a DataFrame.\n",
      "Try using .loc[row_indexer,col_indexer] = value instead\n",
      "\n",
      "See the caveats in the documentation: https://pandas.pydata.org/pandas-docs/stable/user_guide/indexing.html#returning-a-view-versus-a-copy\n",
      "\n"
     ]
    },
    {
     "name": "stderr",
     "output_type": "stream",
     "text": [
      "/home/runner/work/corr-app/corr-app/_notebooks/scripts/read_data.py:215: SettingWithCopyWarning:\n",
      "\n",
      "\n",
      "A value is trying to be set on a copy of a slice from a DataFrame.\n",
      "Try using .loc[row_indexer,col_indexer] = value instead\n",
      "\n",
      "See the caveats in the documentation: https://pandas.pydata.org/pandas-docs/stable/user_guide/indexing.html#returning-a-view-versus-a-copy\n",
      "\n"
     ]
    }
   ],
   "source": [
    "#hide\n",
    "df_all = read_api()\n",
    "#df_all = df_all.drop(['SP500', 'XAU', 'ETH', 'BTC'], axis=1)\n",
    "\n"
   ]
  },
  {
   "cell_type": "code",
   "execution_count": 6,
   "id": "mature-alert",
   "metadata": {
    "execution": {
     "iopub.execute_input": "2022-10-21T03:06:58.182762Z",
     "iopub.status.busy": "2022-10-21T03:06:58.182110Z",
     "iopub.status.idle": "2022-10-21T03:06:58.212712Z",
     "shell.execute_reply": "2022-10-21T03:06:58.212217Z"
    },
    "papermill": {
     "duration": 0.045788,
     "end_time": "2022-10-21T03:06:58.212817",
     "exception": false,
     "start_time": "2022-10-21T03:06:58.167029",
     "status": "completed"
    },
    "tags": []
   },
   "outputs": [],
   "source": [
    "#hide_input\n",
    "sum_corr = df_all.corr().sum().sort_values(ascending=True).index.values\n",
    "#df_all[sum_corr].corr()"
   ]
  },
  {
   "cell_type": "markdown",
   "id": "complex-syndicate",
   "metadata": {
    "papermill": {
     "duration": 0.011638,
     "end_time": "2022-10-21T03:06:58.235879",
     "exception": false,
     "start_time": "2022-10-21T03:06:58.224241",
     "status": "completed"
    },
    "tags": []
   },
   "source": [
    "## Išplėstinė koreliacijų matrica. "
   ]
  },
  {
   "cell_type": "code",
   "execution_count": 7,
   "id": "atomic-omaha",
   "metadata": {
    "execution": {
     "iopub.execute_input": "2022-10-21T03:06:58.265950Z",
     "iopub.status.busy": "2022-10-21T03:06:58.265259Z",
     "iopub.status.idle": "2022-10-21T03:06:59.894276Z",
     "shell.execute_reply": "2022-10-21T03:06:59.894799Z"
    },
    "papermill": {
     "duration": 1.647501,
     "end_time": "2022-10-21T03:06:59.894999",
     "exception": false,
     "start_time": "2022-10-21T03:06:58.247498",
     "status": "completed"
    },
    "tags": []
   },
   "outputs": [
    {
     "data": {
      "image/png": "[encoded data removed]",
      "text/plain": [
       "<Figure size 1080x792 with 2 Axes>"
      ]
     },
     "metadata": {
      "needs_background": "light"
     },
     "output_type": "display_data"
    }
   ],
   "source": [
    "#hide_input\n",
    "plt.figure(figsize=(15, 11))\n",
    "sns.heatmap(df_all[sum_corr].corr(), annot=True, cmap=\"cubehelix\") \n",
    "sns.set(font_scale=1.25)\n",
    "plt.savefig('corr_matrix.png', format='eps')"
   ]
  },
  {
   "cell_type": "code",
   "execution_count": 8,
   "id": "arbitrary-sullivan",
   "metadata": {
    "execution": {
     "iopub.execute_input": "2022-10-21T03:06:59.926209Z",
     "iopub.status.busy": "2022-10-21T03:06:59.925556Z",
     "iopub.status.idle": "2022-10-21T03:06:59.953964Z",
     "shell.execute_reply": "2022-10-21T03:06:59.954437Z"
    },
    "papermill": {
     "duration": 0.045774,
     "end_time": "2022-10-21T03:06:59.954548",
     "exception": false,
     "start_time": "2022-10-21T03:06:59.908774",
     "status": "completed"
    },
    "tags": []
   },
   "outputs": [],
   "source": [
    "#hide\n",
    "#df_all_mrk = read_api()"
   ]
  },
  {
   "cell_type": "code",
   "execution_count": 9,
   "id": "delayed-adapter",
   "metadata": {
    "execution": {
     "iopub.execute_input": "2022-10-21T03:06:59.985216Z",
     "iopub.status.busy": "2022-10-21T03:06:59.984308Z",
     "iopub.status.idle": "2022-10-21T03:07:00.010120Z",
     "shell.execute_reply": "2022-10-21T03:07:00.010674Z"
    },
    "papermill": {
     "duration": 0.042949,
     "end_time": "2022-10-21T03:07:00.010804",
     "exception": false,
     "start_time": "2022-10-21T03:06:59.967855",
     "status": "completed"
    },
    "tags": []
   },
   "outputs": [],
   "source": [
    "#hide\n",
    "#Koreliacijų koeficientai"
   ]
  },
  {
   "cell_type": "code",
   "execution_count": 10,
   "id": "seeing-celebration",
   "metadata": {
    "execution": {
     "iopub.execute_input": "2022-10-21T03:07:00.043272Z",
     "iopub.status.busy": "2022-10-21T03:07:00.042573Z",
     "iopub.status.idle": "2022-10-21T03:07:00.071421Z",
     "shell.execute_reply": "2022-10-21T03:07:00.071912Z"
    },
    "papermill": {
     "duration": 0.046273,
     "end_time": "2022-10-21T03:07:00.072038",
     "exception": false,
     "start_time": "2022-10-21T03:07:00.025765",
     "status": "completed"
    },
    "tags": []
   },
   "outputs": [],
   "source": [
    "#hide_input\n",
    "#sum_corr = df_all_mrk.corr().sum().sort_values(ascending=True).index.values\n",
    "#df_all_mrk[sum_corr].corr()"
   ]
  },
  {
   "cell_type": "code",
   "execution_count": 11,
   "id": "other-painting",
   "metadata": {
    "execution": {
     "iopub.execute_input": "2022-10-21T03:07:00.104001Z",
     "iopub.status.busy": "2022-10-21T03:07:00.103329Z",
     "iopub.status.idle": "2022-10-21T03:07:00.129696Z",
     "shell.execute_reply": "2022-10-21T03:07:00.129192Z"
    },
    "papermill": {
     "duration": 0.042942,
     "end_time": "2022-10-21T03:07:00.129798",
     "exception": false,
     "start_time": "2022-10-21T03:07:00.086856",
     "status": "completed"
    },
    "tags": []
   },
   "outputs": [],
   "source": [
    "#hide\n",
    "#Koreliacijos matrica. "
   ]
  },
  {
   "cell_type": "code",
   "execution_count": 12,
   "id": "modular-magnitude",
   "metadata": {
    "execution": {
     "iopub.execute_input": "2022-10-21T03:07:00.160886Z",
     "iopub.status.busy": "2022-10-21T03:07:00.160233Z",
     "iopub.status.idle": "2022-10-21T03:07:00.186189Z",
     "shell.execute_reply": "2022-10-21T03:07:00.185377Z"
    },
    "papermill": {
     "duration": 0.04382,
     "end_time": "2022-10-21T03:07:00.186296",
     "exception": false,
     "start_time": "2022-10-21T03:07:00.142476",
     "status": "completed"
    },
    "tags": []
   },
   "outputs": [],
   "source": [
    "#hide_input\n",
    "#plt.figure(figsize=(15, 8))\n",
    "#sns.heatmap(df_all_mrk[sum_corr].corr(), annot=True, cmap=\"BrBG\");\n",
    "#plt.savefig('corr_matrix_all.eps', format='eps')"
   ]
  },
  {
   "cell_type": "code",
   "execution_count": null,
   "id": "original-senator",
   "metadata": {
    "papermill": {
     "duration": 0.014057,
     "end_time": "2022-10-21T03:07:00.217123",
     "exception": false,
     "start_time": "2022-10-21T03:07:00.203066",
     "status": "completed"
    },
    "tags": []
   },
   "outputs": [],
   "source": []
  },
  {
   "cell_type": "code",
   "execution_count": null,
   "id": "saving-secretariat",
   "metadata": {
    "papermill": {
     "duration": 0.015046,
     "end_time": "2022-10-21T03:07:00.246387",
     "exception": false,
     "start_time": "2022-10-21T03:07:00.231341",
     "status": "completed"
    },
    "tags": []
   },
   "outputs": [],
   "source": []
  }
 ],
 "metadata": {
  "kernelspec": {
   "display_name": "Python 3",
   "language": "python",
   "name": "python3"
  },
  "language_info": {
   "codemirror_mode": {
    "name": "ipython",
    "version": 3
   },
   "file_extension": ".py",
   "mimetype": "text/x-python",
   "name": "python",
   "nbconvert_exporter": "python",
   "pygments_lexer": "ipython3",
   "version": "3.6.15"
  },
  "papermill": {
   "default_parameters": {},
   "duration": 17.35628,
   "end_time": "2022-10-21T03:07:00.881755",
   "environment_variables": {},
   "exception": null,
   "input_path": "App-Correlation_charts.ipynb",
   "output_path": "App-Correlation_charts.ipynb",
   "parameters": {},
   "start_time": "2022-10-21T03:06:43.525475",
   "version": "2.2.2"
  }
 },
 "nbformat": 4,
 "nbformat_minor": 5
}