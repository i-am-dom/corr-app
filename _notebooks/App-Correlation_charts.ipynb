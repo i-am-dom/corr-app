{
 "cells": [
  {
   "cell_type": "markdown",
   "id": "touched-facility",
   "metadata": {
    "papermill": {
     "duration": 0.014872,
     "end_time": "2022-06-10T02:59:08.670700",
     "exception": false,
     "start_time": "2022-06-10T02:59:08.655828",
     "status": "completed"
    },
    "tags": []
   },
   "source": [
    "# Koreliacijų matrica\n",
    "> Išplėstinė koreliacijų matrica. \n",
    "\n",
    "- toc: true \n",
    "- badges: true\n",
    "- comments: false\n",
    "- categories: [Dominykas Tautkus]\n",
    "- image: images/matrix.png"
   ]
  },
  {
   "cell_type": "code",
   "execution_count": null,
   "id": "premium-weekend",
   "metadata": {
    "papermill": {
     "duration": 0.011872,
     "end_time": "2022-06-10T02:59:08.694433",
     "exception": false,
     "start_time": "2022-06-10T02:59:08.682561",
     "status": "completed"
    },
    "tags": []
   },
   "outputs": [],
   "source": []
  },
  {
   "cell_type": "code",
   "execution_count": 1,
   "id": "vertical-rebate",
   "metadata": {
    "execution": {
     "iopub.execute_input": "2022-06-10T02:59:08.727110Z",
     "iopub.status.busy": "2022-06-10T02:59:08.726513Z",
     "iopub.status.idle": "2022-06-10T02:59:08.737075Z",
     "shell.execute_reply": "2022-06-10T02:59:08.737572Z"
    },
    "papermill": {
     "duration": 0.032245,
     "end_time": "2022-06-10T02:59:08.737736",
     "exception": false,
     "start_time": "2022-06-10T02:59:08.705491",
     "status": "completed"
    },
    "tags": []
   },
   "outputs": [],
   "source": [
    "#hide\n",
    "%load_ext autoreload\n",
    "%autoreload 2"
   ]
  },
  {
   "cell_type": "code",
   "execution_count": 2,
   "id": "overall-advancement",
   "metadata": {
    "execution": {
     "iopub.execute_input": "2022-06-10T02:59:08.774407Z",
     "iopub.status.busy": "2022-06-10T02:59:08.770919Z",
     "iopub.status.idle": "2022-06-10T02:59:10.095412Z",
     "shell.execute_reply": "2022-06-10T02:59:10.094890Z"
    },
    "papermill": {
     "duration": 1.34689,
     "end_time": "2022-06-10T02:59:10.095540",
     "exception": false,
     "start_time": "2022-06-10T02:59:08.748650",
     "status": "completed"
    },
    "tags": []
   },
   "outputs": [],
   "source": [
    "#hide\n",
    "from scripts.read_data import read_api\n",
    "from IPython.display import HTML\n",
    "import plotly.graph_objects as go\n"
   ]
  },
  {
   "cell_type": "code",
   "execution_count": 3,
   "id": "light-crazy",
   "metadata": {
    "execution": {
     "iopub.execute_input": "2022-06-10T02:59:10.122730Z",
     "iopub.status.busy": "2022-06-10T02:59:10.122113Z",
     "iopub.status.idle": "2022-06-10T02:59:10.146279Z",
     "shell.execute_reply": "2022-06-10T02:59:10.145697Z"
    },
    "papermill": {
     "duration": 0.039647,
     "end_time": "2022-06-10T02:59:10.146412",
     "exception": false,
     "start_time": "2022-06-10T02:59:10.106765",
     "status": "completed"
    },
    "tags": []
   },
   "outputs": [],
   "source": [
    "#hide\n",
    "### ICO koreliacija"
   ]
  },
  {
   "cell_type": "code",
   "execution_count": 4,
   "id": "likely-bahrain",
   "metadata": {
    "execution": {
     "iopub.execute_input": "2022-06-10T02:59:10.174188Z",
     "iopub.status.busy": "2022-06-10T02:59:10.173598Z",
     "iopub.status.idle": "2022-06-10T02:59:11.060410Z",
     "shell.execute_reply": "2022-06-10T02:59:11.059804Z"
    },
    "papermill": {
     "duration": 0.901825,
     "end_time": "2022-06-10T02:59:11.060559",
     "exception": false,
     "start_time": "2022-06-10T02:59:10.158734",
     "status": "completed"
    },
    "tags": []
   },
   "outputs": [],
   "source": [
    "#hide\n",
    "import matplotlib.pyplot as plt\n",
    "import numpy as np\n",
    "import pandas as pd\n",
    "import seaborn as sns\n",
    "import matplotlib.pyplot as plt \n",
    "import matplotlib.dates as mdates\n",
    "import matplotlib.pyplot as plt"
   ]
  },
  {
   "cell_type": "code",
   "execution_count": 5,
   "id": "superior-blanket",
   "metadata": {
    "execution": {
     "iopub.execute_input": "2022-06-10T02:59:11.102354Z",
     "iopub.status.busy": "2022-06-10T02:59:11.101290Z",
     "iopub.status.idle": "2022-06-10T02:59:25.389887Z",
     "shell.execute_reply": "2022-06-10T02:59:25.390402Z"
    },
    "papermill": {
     "duration": 14.317992,
     "end_time": "2022-06-10T02:59:25.390550",
     "exception": false,
     "start_time": "2022-06-10T02:59:11.072558",
     "status": "completed"
    },
    "tags": []
   },
   "outputs": [
    {
     "name": "stderr",
     "output_type": "stream",
     "text": [
      "/home/runner/work/corr-app/corr-app/_notebooks/scripts/read_data.py:187: SettingWithCopyWarning:\n",
      "\n",
      "\n",
      "A value is trying to be set on a copy of a slice from a DataFrame.\n",
      "Try using .loc[row_indexer,col_indexer] = value instead\n",
      "\n",
      "See the caveats in the documentation: https://pandas.pydata.org/pandas-docs/stable/user_guide/indexing.html#returning-a-view-versus-a-copy\n",
      "\n"
     ]
    },
    {
     "name": "stderr",
     "output_type": "stream",
     "text": [
      "/home/runner/work/corr-app/corr-app/_notebooks/scripts/read_data.py:215: SettingWithCopyWarning:\n",
      "\n",
      "\n",
      "A value is trying to be set on a copy of a slice from a DataFrame.\n",
      "Try using .loc[row_indexer,col_indexer] = value instead\n",
      "\n",
      "See the caveats in the documentation: https://pandas.pydata.org/pandas-docs/stable/user_guide/indexing.html#returning-a-view-versus-a-copy\n",
      "\n"
     ]
    }
   ],
   "source": [
    "#hide\n",
    "df_all = read_api()\n",
    "#df_all = df_all.drop(['SP500', 'XAU', 'ETH', 'BTC'], axis=1)\n",
    "\n"
   ]
  },
  {
   "cell_type": "code",
   "execution_count": 6,
   "id": "mature-alert",
   "metadata": {
    "execution": {
     "iopub.execute_input": "2022-06-10T02:59:25.434905Z",
     "iopub.status.busy": "2022-06-10T02:59:25.428932Z",
     "iopub.status.idle": "2022-06-10T02:59:25.458874Z",
     "shell.execute_reply": "2022-06-10T02:59:25.457493Z"
    },
    "papermill": {
     "duration": 0.056465,
     "end_time": "2022-06-10T02:59:25.459025",
     "exception": false,
     "start_time": "2022-06-10T02:59:25.402560",
     "status": "completed"
    },
    "tags": []
   },
   "outputs": [],
   "source": [
    "#hide_input\n",
    "sum_corr = df_all.corr().sum().sort_values(ascending=True).index.values\n",
    "#df_all[sum_corr].corr()"
   ]
  },
  {
   "cell_type": "markdown",
   "id": "complex-syndicate",
   "metadata": {
    "papermill": {
     "duration": 0.011728,
     "end_time": "2022-06-10T02:59:25.483412",
     "exception": false,
     "start_time": "2022-06-10T02:59:25.471684",
     "status": "completed"
    },
    "tags": []
   },
   "source": [
    "## Išplėstinė koreliacijų matrica. "
   ]
  },
  {
   "cell_type": "code",
   "execution_count": 7,
   "id": "atomic-omaha",
   "metadata": {
    "execution": {
     "iopub.execute_input": "2022-06-10T02:59:25.521735Z",
     "iopub.status.busy": "2022-06-10T02:59:25.521094Z",
     "iopub.status.idle": "2022-06-10T02:59:26.735602Z",
     "shell.execute_reply": "2022-06-10T02:59:26.736095Z"
    },
    "papermill": {
     "duration": 1.241159,
     "end_time": "2022-06-10T02:59:26.736266",
     "exception": false,
     "start_time": "2022-06-10T02:59:25.495107",
     "status": "completed"
    },
    "tags": []
   },
   "outputs": [
    {
     "data": {
      "image/png": "[encoded data removed]",
      "text/plain": [
       "<Figure size 1080x792 with 2 Axes>"
      ]
     },
     "metadata": {
      "needs_background": "light"
     },
     "output_type": "display_data"
    }
   ],
   "source": [
    "#hide_input\n",
    "plt.figure(figsize=(15, 11))\n",
    "sns.heatmap(df_all[sum_corr].corr(), annot=True, cmap=\"cubehelix\") \n",
    "sns.set(font_scale=1.25)\n",
    "plt.savefig('corr_matrix.png', format='eps')"
   ]
  },
  {
   "cell_type": "code",
   "execution_count": 8,
   "id": "arbitrary-sullivan",
   "metadata": {
    "execution": {
     "iopub.execute_input": "2022-06-10T02:59:26.778112Z",
     "iopub.status.busy": "2022-06-10T02:59:26.777004Z",
     "iopub.status.idle": "2022-06-10T02:59:26.800311Z",
     "shell.execute_reply": "2022-06-10T02:59:26.799298Z"
    },
    "papermill": {
     "duration": 0.050196,
     "end_time": "2022-06-10T02:59:26.800459",
     "exception": false,
     "start_time": "2022-06-10T02:59:26.750263",
     "status": "completed"
    },
    "tags": []
   },
   "outputs": [],
   "source": [
    "#hide\n",
    "#df_all_mrk = read_api()"
   ]
  },
  {
   "cell_type": "code",
   "execution_count": 9,
   "id": "delayed-adapter",
   "metadata": {
    "execution": {
     "iopub.execute_input": "2022-06-10T02:59:26.832434Z",
     "iopub.status.busy": "2022-06-10T02:59:26.831720Z",
     "iopub.status.idle": "2022-06-10T02:59:26.860487Z",
     "shell.execute_reply": "2022-06-10T02:59:26.859886Z"
    },
    "papermill": {
     "duration": 0.045946,
     "end_time": "2022-06-10T02:59:26.860622",
     "exception": false,
     "start_time": "2022-06-10T02:59:26.814676",
     "status": "completed"
    },
    "tags": []
   },
   "outputs": [],
   "source": [
    "#hide\n",
    "#Koreliacijų koeficientai"
   ]
  },
  {
   "cell_type": "code",
   "execution_count": 10,
   "id": "seeing-celebration",
   "metadata": {
    "execution": {
     "iopub.execute_input": "2022-06-10T02:59:26.895998Z",
     "iopub.status.busy": "2022-06-10T02:59:26.895389Z",
     "iopub.status.idle": "2022-06-10T02:59:26.922250Z",
     "shell.execute_reply": "2022-06-10T02:59:26.921674Z"
    },
    "papermill": {
     "duration": 0.047153,
     "end_time": "2022-06-10T02:59:26.922386",
     "exception": false,
     "start_time": "2022-06-10T02:59:26.875233",
     "status": "completed"
    },
    "tags": []
   },
   "outputs": [],
   "source": [
    "#hide_input\n",
    "#sum_corr = df_all_mrk.corr().sum().sort_values(ascending=True).index.values\n",
    "#df_all_mrk[sum_corr].corr()"
   ]
  },
  {
   "cell_type": "code",
   "execution_count": 11,
   "id": "other-painting",
   "metadata": {
    "execution": {
     "iopub.execute_input": "2022-06-10T02:59:26.965312Z",
     "iopub.status.busy": "2022-06-10T02:59:26.962027Z",
     "iopub.status.idle": "2022-06-10T02:59:26.985972Z",
     "shell.execute_reply": "2022-06-10T02:59:26.985394Z"
    },
    "papermill": {
     "duration": 0.04929,
     "end_time": "2022-06-10T02:59:26.986109",
     "exception": false,
     "start_time": "2022-06-10T02:59:26.936819",
     "status": "completed"
    },
    "tags": []
   },
   "outputs": [],
   "source": [
    "#hide\n",
    "#Koreliacijos matrica. "
   ]
  },
  {
   "cell_type": "code",
   "execution_count": 12,
   "id": "modular-magnitude",
   "metadata": {
    "execution": {
     "iopub.execute_input": "2022-06-10T02:59:27.029147Z",
     "iopub.status.busy": "2022-06-10T02:59:27.022518Z",
     "iopub.status.idle": "2022-06-10T02:59:27.047924Z",
     "shell.execute_reply": "2022-06-10T02:59:27.047411Z"
    },
    "papermill": {
     "duration": 0.046854,
     "end_time": "2022-06-10T02:59:27.048046",
     "exception": false,
     "start_time": "2022-06-10T02:59:27.001192",
     "status": "completed"
    },
    "tags": []
   },
   "outputs": [],
   "source": [
    "#hide_input\n",
    "#plt.figure(figsize=(15, 8))\n",
    "#sns.heatmap(df_all_mrk[sum_corr].corr(), annot=True, cmap=\"BrBG\");\n",
    "#plt.savefig('corr_matrix_all.eps', format='eps')"
   ]
  },
  {
   "cell_type": "code",
   "execution_count": null,
   "id": "original-senator",
   "metadata": {
    "papermill": {
     "duration": 0.013572,
     "end_time": "2022-06-10T02:59:27.075323",
     "exception": false,
     "start_time": "2022-06-10T02:59:27.061751",
     "status": "completed"
    },
    "tags": []
   },
   "outputs": [],
   "source": []
  },
  {
   "cell_type": "code",
   "execution_count": null,
   "id": "saving-secretariat",
   "metadata": {
    "papermill": {
     "duration": 0.013409,
     "end_time": "2022-06-10T02:59:27.102269",
     "exception": false,
     "start_time": "2022-06-10T02:59:27.088860",
     "status": "completed"
    },
    "tags": []
   },
   "outputs": [],
   "source": []
  }
 ],
 "metadata": {
  "kernelspec": {
   "display_name": "Python 3",
   "language": "python",
   "name": "python3"
  },
  "language_info": {
   "codemirror_mode": {
    "name": "ipython",
    "version": 3
   },
   "file_extension": ".py",
   "mimetype": "text/x-python",
   "name": "python",
   "nbconvert_exporter": "python",
   "pygments_lexer": "ipython3",
   "version": "3.6.15"
  },
  "papermill": {
   "default_parameters": {},
   "duration": 20.326794,
   "end_time": "2022-06-10T02:59:27.737149",
   "environment_variables": {},
   "exception": null,
   "input_path": "App-Correlation_charts.ipynb",
   "output_path": "App-Correlation_charts.ipynb",
   "parameters": {},
   "start_time": "2022-06-10T02:59:07.410355",
   "version": "2.2.2"
  }
 },
 "nbformat": 4,
 "nbformat_minor": 5
}