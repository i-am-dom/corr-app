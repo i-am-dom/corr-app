{
 "cells": [
  {
   "cell_type": "markdown",
   "id": "touched-facility",
   "metadata": {
    "papermill": {
     "duration": 0.020957,
     "end_time": "2021-09-07T01:54:08.634208",
     "exception": false,
     "start_time": "2021-09-07T01:54:08.613251",
     "status": "completed"
    },
    "tags": []
   },
   "source": [
    "# Koreliacijų matrica\n",
    "> Išplėstinė koreliacijų matrica. \n",
    "\n",
    "- toc: true \n",
    "- badges: true\n",
    "- comments: false\n",
    "- categories: [Dominykas Tautkus]\n",
    "- image: images/matrix.png"
   ]
  },
  {
   "cell_type": "code",
   "execution_count": null,
   "id": "premium-weekend",
   "metadata": {
    "papermill": {
     "duration": 0.012555,
     "end_time": "2021-09-07T01:54:08.659985",
     "exception": false,
     "start_time": "2021-09-07T01:54:08.647430",
     "status": "completed"
    },
    "tags": []
   },
   "outputs": [],
   "source": []
  },
  {
   "cell_type": "code",
   "execution_count": 1,
   "id": "vertical-rebate",
   "metadata": {
    "execution": {
     "iopub.execute_input": "2021-09-07T01:54:08.697563Z",
     "iopub.status.busy": "2021-09-07T01:54:08.696935Z",
     "iopub.status.idle": "2021-09-07T01:54:08.708384Z",
     "shell.execute_reply": "2021-09-07T01:54:08.708924Z"
    },
    "papermill": {
     "duration": 0.036749,
     "end_time": "2021-09-07T01:54:08.709095",
     "exception": false,
     "start_time": "2021-09-07T01:54:08.672346",
     "status": "completed"
    },
    "tags": []
   },
   "outputs": [],
   "source": [
    "#hide\n",
    "%load_ext autoreload\n",
    "%autoreload 2"
   ]
  },
  {
   "cell_type": "code",
   "execution_count": 2,
   "id": "overall-advancement",
   "metadata": {
    "execution": {
     "iopub.execute_input": "2021-09-07T01:54:08.738023Z",
     "iopub.status.busy": "2021-09-07T01:54:08.737427Z",
     "iopub.status.idle": "2021-09-07T01:54:10.092161Z",
     "shell.execute_reply": "2021-09-07T01:54:10.092673Z"
    },
    "papermill": {
     "duration": 1.371254,
     "end_time": "2021-09-07T01:54:10.092838",
     "exception": false,
     "start_time": "2021-09-07T01:54:08.721584",
     "status": "completed"
    },
    "tags": []
   },
   "outputs": [],
   "source": [
    "#hide\n",
    "from scripts.read_data import read_api\n",
    "from IPython.display import HTML\n",
    "import plotly.graph_objects as go\n"
   ]
  },
  {
   "cell_type": "code",
   "execution_count": 3,
   "id": "light-crazy",
   "metadata": {
    "execution": {
     "iopub.execute_input": "2021-09-07T01:54:10.127576Z",
     "iopub.status.busy": "2021-09-07T01:54:10.125593Z",
     "iopub.status.idle": "2021-09-07T01:54:10.153572Z",
     "shell.execute_reply": "2021-09-07T01:54:10.152686Z"
    },
    "papermill": {
     "duration": 0.048114,
     "end_time": "2021-09-07T01:54:10.153770",
     "exception": false,
     "start_time": "2021-09-07T01:54:10.105656",
     "status": "completed"
    },
    "tags": []
   },
   "outputs": [],
   "source": [
    "#hide\n",
    "### ICO koreliacija"
   ]
  },
  {
   "cell_type": "code",
   "execution_count": 4,
   "id": "likely-bahrain",
   "metadata": {
    "execution": {
     "iopub.execute_input": "2021-09-07T01:54:10.184844Z",
     "iopub.status.busy": "2021-09-07T01:54:10.184223Z",
     "iopub.status.idle": "2021-09-07T01:54:11.138305Z",
     "shell.execute_reply": "2021-09-07T01:54:11.137769Z"
    },
    "papermill": {
     "duration": 0.970544,
     "end_time": "2021-09-07T01:54:11.138443",
     "exception": false,
     "start_time": "2021-09-07T01:54:10.167899",
     "status": "completed"
    },
    "tags": []
   },
   "outputs": [],
   "source": [
    "#hide\n",
    "import matplotlib.pyplot as plt\n",
    "import numpy as np\n",
    "import pandas as pd\n",
    "import seaborn as sns\n",
    "import matplotlib.pyplot as plt \n",
    "import matplotlib.dates as mdates\n",
    "import matplotlib.pyplot as plt"
   ]
  },
  {
   "cell_type": "code",
   "execution_count": 5,
   "id": "superior-blanket",
   "metadata": {
    "execution": {
     "iopub.execute_input": "2021-09-07T01:54:11.168509Z",
     "iopub.status.busy": "2021-09-07T01:54:11.167875Z",
     "iopub.status.idle": "2021-09-07T01:54:27.351159Z",
     "shell.execute_reply": "2021-09-07T01:54:27.350547Z"
    },
    "papermill": {
     "duration": 16.199949,
     "end_time": "2021-09-07T01:54:27.351304",
     "exception": false,
     "start_time": "2021-09-07T01:54:11.151355",
     "status": "completed"
    },
    "tags": []
   },
   "outputs": [
    {
     "name": "stderr",
     "output_type": "stream",
     "text": [
      "/home/runner/work/corr-app/corr-app/_notebooks/scripts/read_data.py:187: SettingWithCopyWarning:\n",
      "\n",
      "\n",
      "A value is trying to be set on a copy of a slice from a DataFrame.\n",
      "Try using .loc[row_indexer,col_indexer] = value instead\n",
      "\n",
      "See the caveats in the documentation: https://pandas.pydata.org/pandas-docs/stable/user_guide/indexing.html#returning-a-view-versus-a-copy\n",
      "\n"
     ]
    },
    {
     "name": "stderr",
     "output_type": "stream",
     "text": [
      "/home/runner/work/corr-app/corr-app/_notebooks/scripts/read_data.py:215: SettingWithCopyWarning:\n",
      "\n",
      "\n",
      "A value is trying to be set on a copy of a slice from a DataFrame.\n",
      "Try using .loc[row_indexer,col_indexer] = value instead\n",
      "\n",
      "See the caveats in the documentation: https://pandas.pydata.org/pandas-docs/stable/user_guide/indexing.html#returning-a-view-versus-a-copy\n",
      "\n"
     ]
    }
   ],
   "source": [
    "#hide\n",
    "df_all = read_api()\n",
    "#df_all = df_all.drop(['SP500', 'XAU', 'ETH', 'BTC'], axis=1)\n",
    "\n"
   ]
  },
  {
   "cell_type": "code",
   "execution_count": 6,
   "id": "mature-alert",
   "metadata": {
    "execution": {
     "iopub.execute_input": "2021-09-07T01:54:27.385293Z",
     "iopub.status.busy": "2021-09-07T01:54:27.384614Z",
     "iopub.status.idle": "2021-09-07T01:54:27.417322Z",
     "shell.execute_reply": "2021-09-07T01:54:27.416794Z"
    },
    "papermill": {
     "duration": 0.051982,
     "end_time": "2021-09-07T01:54:27.417459",
     "exception": false,
     "start_time": "2021-09-07T01:54:27.365477",
     "status": "completed"
    },
    "tags": []
   },
   "outputs": [],
   "source": [
    "#hide_input\n",
    "sum_corr = df_all.corr().sum().sort_values(ascending=True).index.values\n",
    "#df_all[sum_corr].corr()"
   ]
  },
  {
   "cell_type": "markdown",
   "id": "complex-syndicate",
   "metadata": {
    "papermill": {
     "duration": 0.013001,
     "end_time": "2021-09-07T01:54:27.443570",
     "exception": false,
     "start_time": "2021-09-07T01:54:27.430569",
     "status": "completed"
    },
    "tags": []
   },
   "source": [
    "## Išplėstinė koreliacijų matrica. "
   ]
  },
  {
   "cell_type": "code",
   "execution_count": 7,
   "id": "atomic-omaha",
   "metadata": {
    "execution": {
     "iopub.execute_input": "2021-09-07T01:54:27.475317Z",
     "iopub.status.busy": "2021-09-07T01:54:27.474713Z",
     "iopub.status.idle": "2021-09-07T01:54:28.832013Z",
     "shell.execute_reply": "2021-09-07T01:54:28.832516Z"
    },
    "papermill": {
     "duration": 1.376127,
     "end_time": "2021-09-07T01:54:28.832672",
     "exception": false,
     "start_time": "2021-09-07T01:54:27.456545",
     "status": "completed"
    },
    "tags": []
   },
   "outputs": [
    {
     "data": {
      "image/png": "[encoded data removed]",
      "text/plain": [
       "<Figure size 1080x792 with 2 Axes>"
      ]
     },
     "metadata": {
      "needs_background": "light"
     },
     "output_type": "display_data"
    }
   ],
   "source": [
    "#hide_input\n",
    "plt.figure(figsize=(15, 11))\n",
    "sns.heatmap(df_all[sum_corr].corr(), annot=True, cmap=\"cubehelix\") \n",
    "sns.set(font_scale=1.25)\n",
    "plt.savefig('corr_matrix.png', format='eps')"
   ]
  },
  {
   "cell_type": "code",
   "execution_count": 8,
   "id": "arbitrary-sullivan",
   "metadata": {
    "execution": {
     "iopub.execute_input": "2021-09-07T01:54:28.869907Z",
     "iopub.status.busy": "2021-09-07T01:54:28.869299Z",
     "iopub.status.idle": "2021-09-07T01:54:28.898943Z",
     "shell.execute_reply": "2021-09-07T01:54:28.898341Z"
    },
    "papermill": {
     "duration": 0.050721,
     "end_time": "2021-09-07T01:54:28.899078",
     "exception": false,
     "start_time": "2021-09-07T01:54:28.848357",
     "status": "completed"
    },
    "tags": []
   },
   "outputs": [],
   "source": [
    "#hide\n",
    "#df_all_mrk = read_api()"
   ]
  },
  {
   "cell_type": "code",
   "execution_count": 9,
   "id": "delayed-adapter",
   "metadata": {
    "execution": {
     "iopub.execute_input": "2021-09-07T01:54:28.937147Z",
     "iopub.status.busy": "2021-09-07T01:54:28.936477Z",
     "iopub.status.idle": "2021-09-07T01:54:28.964717Z",
     "shell.execute_reply": "2021-09-07T01:54:28.965190Z"
    },
    "papermill": {
     "duration": 0.048993,
     "end_time": "2021-09-07T01:54:28.965341",
     "exception": false,
     "start_time": "2021-09-07T01:54:28.916348",
     "status": "completed"
    },
    "tags": []
   },
   "outputs": [],
   "source": [
    "#hide\n",
    "#Koreliacijų koeficientai"
   ]
  },
  {
   "cell_type": "code",
   "execution_count": 10,
   "id": "seeing-celebration",
   "metadata": {
    "execution": {
     "iopub.execute_input": "2021-09-07T01:54:29.007264Z",
     "iopub.status.busy": "2021-09-07T01:54:29.006112Z",
     "iopub.status.idle": "2021-09-07T01:54:29.031983Z",
     "shell.execute_reply": "2021-09-07T01:54:29.032580Z"
    },
    "papermill": {
     "duration": 0.050727,
     "end_time": "2021-09-07T01:54:29.032760",
     "exception": false,
     "start_time": "2021-09-07T01:54:28.982033",
     "status": "completed"
    },
    "tags": []
   },
   "outputs": [],
   "source": [
    "#hide_input\n",
    "#sum_corr = df_all_mrk.corr().sum().sort_values(ascending=True).index.values\n",
    "#df_all_mrk[sum_corr].corr()"
   ]
  },
  {
   "cell_type": "code",
   "execution_count": 11,
   "id": "other-painting",
   "metadata": {
    "execution": {
     "iopub.execute_input": "2021-09-07T01:54:29.068333Z",
     "iopub.status.busy": "2021-09-07T01:54:29.067685Z",
     "iopub.status.idle": "2021-09-07T01:54:29.097451Z",
     "shell.execute_reply": "2021-09-07T01:54:29.096942Z"
    },
    "papermill": {
     "duration": 0.048484,
     "end_time": "2021-09-07T01:54:29.097583",
     "exception": false,
     "start_time": "2021-09-07T01:54:29.049099",
     "status": "completed"
    },
    "tags": []
   },
   "outputs": [],
   "source": [
    "#hide\n",
    "#Koreliacijos matrica. "
   ]
  },
  {
   "cell_type": "code",
   "execution_count": 12,
   "id": "modular-magnitude",
   "metadata": {
    "execution": {
     "iopub.execute_input": "2021-09-07T01:54:29.137380Z",
     "iopub.status.busy": "2021-09-07T01:54:29.136776Z",
     "iopub.status.idle": "2021-09-07T01:54:29.164809Z",
     "shell.execute_reply": "2021-09-07T01:54:29.163787Z"
    },
    "papermill": {
     "duration": 0.051603,
     "end_time": "2021-09-07T01:54:29.164947",
     "exception": false,
     "start_time": "2021-09-07T01:54:29.113344",
     "status": "completed"
    },
    "tags": []
   },
   "outputs": [],
   "source": [
    "#hide_input\n",
    "#plt.figure(figsize=(15, 8))\n",
    "#sns.heatmap(df_all_mrk[sum_corr].corr(), annot=True, cmap=\"BrBG\");\n",
    "#plt.savefig('corr_matrix_all.eps', format='eps')"
   ]
  },
  {
   "cell_type": "code",
   "execution_count": null,
   "id": "original-senator",
   "metadata": {
    "papermill": {
     "duration": 0.015359,
     "end_time": "2021-09-07T01:54:29.196930",
     "exception": false,
     "start_time": "2021-09-07T01:54:29.181571",
     "status": "completed"
    },
    "tags": []
   },
   "outputs": [],
   "source": []
  },
  {
   "cell_type": "code",
   "execution_count": null,
   "id": "saving-secretariat",
   "metadata": {
    "papermill": {
     "duration": 0.015267,
     "end_time": "2021-09-07T01:54:29.227510",
     "exception": false,
     "start_time": "2021-09-07T01:54:29.212243",
     "status": "completed"
    },
    "tags": []
   },
   "outputs": [],
   "source": []
  }
 ],
 "metadata": {
  "kernelspec": {
   "display_name": "Python 3",
   "language": "python",
   "name": "python3"
  },
  "language_info": {
   "codemirror_mode": {
    "name": "ipython",
    "version": 3
   },
   "file_extension": ".py",
   "mimetype": "text/x-python",
   "name": "python",
   "nbconvert_exporter": "python",
   "pygments_lexer": "ipython3",
   "version": "3.6.14"
  },
  "papermill": {
   "default_parameters": {},
   "duration": 22.216094,
   "end_time": "2021-09-07T01:54:29.751936",
   "environment_variables": {},
   "exception": null,
   "input_path": "App-Correlation_charts.ipynb",
   "output_path": "App-Correlation_charts.ipynb",
   "parameters": {},
   "start_time": "2021-09-07T01:54:07.535842",
   "version": "2.2.2"
  }
 },
 "nbformat": 4,
 "nbformat_minor": 5
}