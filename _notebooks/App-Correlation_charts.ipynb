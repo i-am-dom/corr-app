{
 "cells": [
  {
   "cell_type": "markdown",
   "id": "touched-facility",
   "metadata": {
    "papermill": {
     "duration": 0.014333,
     "end_time": "2022-07-13T03:15:06.949876",
     "exception": false,
     "start_time": "2022-07-13T03:15:06.935543",
     "status": "completed"
    },
    "tags": []
   },
   "source": [
    "# Koreliacijų matrica\n",
    "> Išplėstinė koreliacijų matrica. \n",
    "\n",
    "- toc: true \n",
    "- badges: true\n",
    "- comments: false\n",
    "- categories: [Dominykas Tautkus]\n",
    "- image: images/matrix.png"
   ]
  },
  {
   "cell_type": "code",
   "execution_count": null,
   "id": "premium-weekend",
   "metadata": {
    "papermill": {
     "duration": 0.010791,
     "end_time": "2022-07-13T03:15:06.972223",
     "exception": false,
     "start_time": "2022-07-13T03:15:06.961432",
     "status": "completed"
    },
    "tags": []
   },
   "outputs": [],
   "source": []
  },
  {
   "cell_type": "code",
   "execution_count": 1,
   "id": "vertical-rebate",
   "metadata": {
    "execution": {
     "iopub.execute_input": "2022-07-13T03:15:07.003818Z",
     "iopub.status.busy": "2022-07-13T03:15:07.003239Z",
     "iopub.status.idle": "2022-07-13T03:15:07.013827Z",
     "shell.execute_reply": "2022-07-13T03:15:07.013341Z"
    },
    "papermill": {
     "duration": 0.0309,
     "end_time": "2022-07-13T03:15:07.013940",
     "exception": false,
     "start_time": "2022-07-13T03:15:06.983040",
     "status": "completed"
    },
    "tags": []
   },
   "outputs": [],
   "source": [
    "#hide\n",
    "%load_ext autoreload\n",
    "%autoreload 2"
   ]
  },
  {
   "cell_type": "code",
   "execution_count": 2,
   "id": "overall-advancement",
   "metadata": {
    "execution": {
     "iopub.execute_input": "2022-07-13T03:15:07.038752Z",
     "iopub.status.busy": "2022-07-13T03:15:07.038166Z",
     "iopub.status.idle": "2022-07-13T03:15:08.213709Z",
     "shell.execute_reply": "2022-07-13T03:15:08.214557Z"
    },
    "papermill": {
     "duration": 1.189853,
     "end_time": "2022-07-13T03:15:08.214705",
     "exception": false,
     "start_time": "2022-07-13T03:15:07.024852",
     "status": "completed"
    },
    "tags": []
   },
   "outputs": [],
   "source": [
    "#hide\n",
    "from scripts.read_data import read_api\n",
    "from IPython.display import HTML\n",
    "import plotly.graph_objects as go\n"
   ]
  },
  {
   "cell_type": "code",
   "execution_count": 3,
   "id": "light-crazy",
   "metadata": {
    "execution": {
     "iopub.execute_input": "2022-07-13T03:15:08.243131Z",
     "iopub.status.busy": "2022-07-13T03:15:08.239525Z",
     "iopub.status.idle": "2022-07-13T03:15:08.261298Z",
     "shell.execute_reply": "2022-07-13T03:15:08.261721Z"
    },
    "papermill": {
     "duration": 0.036027,
     "end_time": "2022-07-13T03:15:08.261852",
     "exception": false,
     "start_time": "2022-07-13T03:15:08.225825",
     "status": "completed"
    },
    "tags": []
   },
   "outputs": [],
   "source": [
    "#hide\n",
    "### ICO koreliacija"
   ]
  },
  {
   "cell_type": "code",
   "execution_count": 4,
   "id": "likely-bahrain",
   "metadata": {
    "execution": {
     "iopub.execute_input": "2022-07-13T03:15:08.287267Z",
     "iopub.status.busy": "2022-07-13T03:15:08.286553Z",
     "iopub.status.idle": "2022-07-13T03:15:09.111238Z",
     "shell.execute_reply": "2022-07-13T03:15:09.111672Z"
    },
    "papermill": {
     "duration": 0.838981,
     "end_time": "2022-07-13T03:15:09.111812",
     "exception": false,
     "start_time": "2022-07-13T03:15:08.272831",
     "status": "completed"
    },
    "tags": []
   },
   "outputs": [],
   "source": [
    "#hide\n",
    "import matplotlib.pyplot as plt\n",
    "import numpy as np\n",
    "import pandas as pd\n",
    "import seaborn as sns\n",
    "import matplotlib.pyplot as plt \n",
    "import matplotlib.dates as mdates\n",
    "import matplotlib.pyplot as plt"
   ]
  },
  {
   "cell_type": "code",
   "execution_count": 5,
   "id": "superior-blanket",
   "metadata": {
    "execution": {
     "iopub.execute_input": "2022-07-13T03:15:09.141694Z",
     "iopub.status.busy": "2022-07-13T03:15:09.139259Z",
     "iopub.status.idle": "2022-07-13T03:15:23.403628Z",
     "shell.execute_reply": "2022-07-13T03:15:23.402866Z"
    },
    "papermill": {
     "duration": 14.28074,
     "end_time": "2022-07-13T03:15:23.403744",
     "exception": false,
     "start_time": "2022-07-13T03:15:09.123004",
     "status": "completed"
    },
    "tags": []
   },
   "outputs": [
    {
     "name": "stderr",
     "output_type": "stream",
     "text": [
      "/home/runner/work/corr-app/corr-app/_notebooks/scripts/read_data.py:187: SettingWithCopyWarning:\n",
      "\n",
      "\n",
      "A value is trying to be set on a copy of a slice from a DataFrame.\n",
      "Try using .loc[row_indexer,col_indexer] = value instead\n",
      "\n",
      "See the caveats in the documentation: https://pandas.pydata.org/pandas-docs/stable/user_guide/indexing.html#returning-a-view-versus-a-copy\n",
      "\n"
     ]
    },
    {
     "name": "stderr",
     "output_type": "stream",
     "text": [
      "/home/runner/work/corr-app/corr-app/_notebooks/scripts/read_data.py:215: SettingWithCopyWarning:\n",
      "\n",
      "\n",
      "A value is trying to be set on a copy of a slice from a DataFrame.\n",
      "Try using .loc[row_indexer,col_indexer] = value instead\n",
      "\n",
      "See the caveats in the documentation: https://pandas.pydata.org/pandas-docs/stable/user_guide/indexing.html#returning-a-view-versus-a-copy\n",
      "\n"
     ]
    }
   ],
   "source": [
    "#hide\n",
    "df_all = read_api()\n",
    "#df_all = df_all.drop(['SP500', 'XAU', 'ETH', 'BTC'], axis=1)\n",
    "\n"
   ]
  },
  {
   "cell_type": "code",
   "execution_count": 6,
   "id": "mature-alert",
   "metadata": {
    "execution": {
     "iopub.execute_input": "2022-07-13T03:15:23.430948Z",
     "iopub.status.busy": "2022-07-13T03:15:23.430384Z",
     "iopub.status.idle": "2022-07-13T03:15:23.459369Z",
     "shell.execute_reply": "2022-07-13T03:15:23.458817Z"
    },
    "papermill": {
     "duration": 0.04384,
     "end_time": "2022-07-13T03:15:23.459469",
     "exception": false,
     "start_time": "2022-07-13T03:15:23.415629",
     "status": "completed"
    },
    "tags": []
   },
   "outputs": [],
   "source": [
    "#hide_input\n",
    "sum_corr = df_all.corr().sum().sort_values(ascending=True).index.values\n",
    "#df_all[sum_corr].corr()"
   ]
  },
  {
   "cell_type": "markdown",
   "id": "complex-syndicate",
   "metadata": {
    "papermill": {
     "duration": 0.012163,
     "end_time": "2022-07-13T03:15:23.483034",
     "exception": false,
     "start_time": "2022-07-13T03:15:23.470871",
     "status": "completed"
    },
    "tags": []
   },
   "source": [
    "## Išplėstinė koreliacijų matrica. "
   ]
  },
  {
   "cell_type": "code",
   "execution_count": 7,
   "id": "atomic-omaha",
   "metadata": {
    "execution": {
     "iopub.execute_input": "2022-07-13T03:15:23.509432Z",
     "iopub.status.busy": "2022-07-13T03:15:23.508885Z",
     "iopub.status.idle": "2022-07-13T03:15:24.637061Z",
     "shell.execute_reply": "2022-07-13T03:15:24.636509Z"
    },
    "papermill": {
     "duration": 1.142746,
     "end_time": "2022-07-13T03:15:24.637169",
     "exception": false,
     "start_time": "2022-07-13T03:15:23.494423",
     "status": "completed"
    },
    "tags": []
   },
   "outputs": [
    {
     "data": {
      "image/png": "[encoded data removed]",
      "text/plain": [
       "<Figure size 1080x792 with 2 Axes>"
      ]
     },
     "metadata": {
      "needs_background": "light"
     },
     "output_type": "display_data"
    }
   ],
   "source": [
    "#hide_input\n",
    "plt.figure(figsize=(15, 11))\n",
    "sns.heatmap(df_all[sum_corr].corr(), annot=True, cmap=\"cubehelix\") \n",
    "sns.set(font_scale=1.25)\n",
    "plt.savefig('corr_matrix.png', format='eps')"
   ]
  },
  {
   "cell_type": "code",
   "execution_count": 8,
   "id": "arbitrary-sullivan",
   "metadata": {
    "execution": {
     "iopub.execute_input": "2022-07-13T03:15:24.670777Z",
     "iopub.status.busy": "2022-07-13T03:15:24.668343Z",
     "iopub.status.idle": "2022-07-13T03:15:24.694185Z",
     "shell.execute_reply": "2022-07-13T03:15:24.693734Z"
    },
    "papermill": {
     "duration": 0.043327,
     "end_time": "2022-07-13T03:15:24.694314",
     "exception": false,
     "start_time": "2022-07-13T03:15:24.650987",
     "status": "completed"
    },
    "tags": []
   },
   "outputs": [],
   "source": [
    "#hide\n",
    "#df_all_mrk = read_api()"
   ]
  },
  {
   "cell_type": "code",
   "execution_count": 9,
   "id": "delayed-adapter",
   "metadata": {
    "execution": {
     "iopub.execute_input": "2022-07-13T03:15:24.724840Z",
     "iopub.status.busy": "2022-07-13T03:15:24.724230Z",
     "iopub.status.idle": "2022-07-13T03:15:24.749945Z",
     "shell.execute_reply": "2022-07-13T03:15:24.749466Z"
    },
    "papermill": {
     "duration": 0.042298,
     "end_time": "2022-07-13T03:15:24.750053",
     "exception": false,
     "start_time": "2022-07-13T03:15:24.707755",
     "status": "completed"
    },
    "tags": []
   },
   "outputs": [],
   "source": [
    "#hide\n",
    "#Koreliacijų koeficientai"
   ]
  },
  {
   "cell_type": "code",
   "execution_count": 10,
   "id": "seeing-celebration",
   "metadata": {
    "execution": {
     "iopub.execute_input": "2022-07-13T03:15:24.784935Z",
     "iopub.status.busy": "2022-07-13T03:15:24.781584Z",
     "iopub.status.idle": "2022-07-13T03:15:24.808185Z",
     "shell.execute_reply": "2022-07-13T03:15:24.807680Z"
    },
    "papermill": {
     "duration": 0.044677,
     "end_time": "2022-07-13T03:15:24.808298",
     "exception": false,
     "start_time": "2022-07-13T03:15:24.763621",
     "status": "completed"
    },
    "tags": []
   },
   "outputs": [],
   "source": [
    "#hide_input\n",
    "#sum_corr = df_all_mrk.corr().sum().sort_values(ascending=True).index.values\n",
    "#df_all_mrk[sum_corr].corr()"
   ]
  },
  {
   "cell_type": "code",
   "execution_count": 11,
   "id": "other-painting",
   "metadata": {
    "execution": {
     "iopub.execute_input": "2022-07-13T03:15:24.838405Z",
     "iopub.status.busy": "2022-07-13T03:15:24.837808Z",
     "iopub.status.idle": "2022-07-13T03:15:24.862742Z",
     "shell.execute_reply": "2022-07-13T03:15:24.863164Z"
    },
    "papermill": {
     "duration": 0.041507,
     "end_time": "2022-07-13T03:15:24.863292",
     "exception": false,
     "start_time": "2022-07-13T03:15:24.821785",
     "status": "completed"
    },
    "tags": []
   },
   "outputs": [],
   "source": [
    "#hide\n",
    "#Koreliacijos matrica. "
   ]
  },
  {
   "cell_type": "code",
   "execution_count": 12,
   "id": "modular-magnitude",
   "metadata": {
    "execution": {
     "iopub.execute_input": "2022-07-13T03:15:24.893487Z",
     "iopub.status.busy": "2022-07-13T03:15:24.892930Z",
     "iopub.status.idle": "2022-07-13T03:15:24.918176Z",
     "shell.execute_reply": "2022-07-13T03:15:24.917705Z"
    },
    "papermill": {
     "duration": 0.041501,
     "end_time": "2022-07-13T03:15:24.918283",
     "exception": false,
     "start_time": "2022-07-13T03:15:24.876782",
     "status": "completed"
    },
    "tags": []
   },
   "outputs": [],
   "source": [
    "#hide_input\n",
    "#plt.figure(figsize=(15, 8))\n",
    "#sns.heatmap(df_all_mrk[sum_corr].corr(), annot=True, cmap=\"BrBG\");\n",
    "#plt.savefig('corr_matrix_all.eps', format='eps')"
   ]
  },
  {
   "cell_type": "code",
   "execution_count": null,
   "id": "original-senator",
   "metadata": {
    "papermill": {
     "duration": 0.013254,
     "end_time": "2022-07-13T03:15:24.944882",
     "exception": false,
     "start_time": "2022-07-13T03:15:24.931628",
     "status": "completed"
    },
    "tags": []
   },
   "outputs": [],
   "source": []
  },
  {
   "cell_type": "code",
   "execution_count": null,
   "id": "saving-secretariat",
   "metadata": {
    "papermill": {
     "duration": 0.013245,
     "end_time": "2022-07-13T03:15:24.971371",
     "exception": false,
     "start_time": "2022-07-13T03:15:24.958126",
     "status": "completed"
    },
    "tags": []
   },
   "outputs": [],
   "source": []
  }
 ],
 "metadata": {
  "kernelspec": {
   "display_name": "Python 3",
   "language": "python",
   "name": "python3"
  },
  "language_info": {
   "codemirror_mode": {
    "name": "ipython",
    "version": 3
   },
   "file_extension": ".py",
   "mimetype": "text/x-python",
   "name": "python",
   "nbconvert_exporter": "python",
   "pygments_lexer": "ipython3",
   "version": "3.6.15"
  },
  "papermill": {
   "default_parameters": {},
   "duration": 19.377445,
   "end_time": "2022-07-13T03:15:25.402660",
   "environment_variables": {},
   "exception": null,
   "input_path": "App-Correlation_charts.ipynb",
   "output_path": "App-Correlation_charts.ipynb",
   "parameters": {},
   "start_time": "2022-07-13T03:15:06.025215",
   "version": "2.2.2"
  }
 },
 "nbformat": 4,
 "nbformat_minor": 5
}