{
 "cells": [
  {
   "cell_type": "markdown",
   "id": "touched-facility",
   "metadata": {
    "papermill": {
     "duration": 0.019153,
     "end_time": "2021-11-27T01:55:36.906215",
     "exception": false,
     "start_time": "2021-11-27T01:55:36.887062",
     "status": "completed"
    },
    "tags": []
   },
   "source": [
    "# Koreliacijų matrica\n",
    "> Išplėstinė koreliacijų matrica. \n",
    "\n",
    "- toc: true \n",
    "- badges: true\n",
    "- comments: false\n",
    "- categories: [Dominykas Tautkus]\n",
    "- image: images/matrix.png"
   ]
  },
  {
   "cell_type": "code",
   "execution_count": null,
   "id": "premium-weekend",
   "metadata": {
    "papermill": {
     "duration": 0.012959,
     "end_time": "2021-11-27T01:55:36.934429",
     "exception": false,
     "start_time": "2021-11-27T01:55:36.921470",
     "status": "completed"
    },
    "tags": []
   },
   "outputs": [],
   "source": []
  },
  {
   "cell_type": "code",
   "execution_count": 1,
   "id": "vertical-rebate",
   "metadata": {
    "execution": {
     "iopub.execute_input": "2021-11-27T01:55:36.973092Z",
     "iopub.status.busy": "2021-11-27T01:55:36.972396Z",
     "iopub.status.idle": "2021-11-27T01:55:36.984606Z",
     "shell.execute_reply": "2021-11-27T01:55:36.985137Z"
    },
    "papermill": {
     "duration": 0.03756,
     "end_time": "2021-11-27T01:55:36.985307",
     "exception": false,
     "start_time": "2021-11-27T01:55:36.947747",
     "status": "completed"
    },
    "tags": []
   },
   "outputs": [],
   "source": [
    "#hide\n",
    "%load_ext autoreload\n",
    "%autoreload 2"
   ]
  },
  {
   "cell_type": "code",
   "execution_count": 2,
   "id": "overall-advancement",
   "metadata": {
    "execution": {
     "iopub.execute_input": "2021-11-27T01:55:37.017159Z",
     "iopub.status.busy": "2021-11-27T01:55:37.016527Z",
     "iopub.status.idle": "2021-11-27T01:55:38.428135Z",
     "shell.execute_reply": "2021-11-27T01:55:38.428683Z"
    },
    "papermill": {
     "duration": 1.430887,
     "end_time": "2021-11-27T01:55:38.428855",
     "exception": false,
     "start_time": "2021-11-27T01:55:36.997968",
     "status": "completed"
    },
    "tags": []
   },
   "outputs": [],
   "source": [
    "#hide\n",
    "from scripts.read_data import read_api\n",
    "from IPython.display import HTML\n",
    "import plotly.graph_objects as go\n"
   ]
  },
  {
   "cell_type": "code",
   "execution_count": 3,
   "id": "light-crazy",
   "metadata": {
    "execution": {
     "iopub.execute_input": "2021-11-27T01:55:38.483769Z",
     "iopub.status.busy": "2021-11-27T01:55:38.482782Z",
     "iopub.status.idle": "2021-11-27T01:55:38.495420Z",
     "shell.execute_reply": "2021-11-27T01:55:38.495913Z"
    },
    "papermill": {
     "duration": 0.053532,
     "end_time": "2021-11-27T01:55:38.496067",
     "exception": false,
     "start_time": "2021-11-27T01:55:38.442535",
     "status": "completed"
    },
    "tags": []
   },
   "outputs": [],
   "source": [
    "#hide\n",
    "### ICO koreliacija"
   ]
  },
  {
   "cell_type": "code",
   "execution_count": 4,
   "id": "likely-bahrain",
   "metadata": {
    "execution": {
     "iopub.execute_input": "2021-11-27T01:55:38.535853Z",
     "iopub.status.busy": "2021-11-27T01:55:38.535206Z",
     "iopub.status.idle": "2021-11-27T01:55:39.712757Z",
     "shell.execute_reply": "2021-11-27T01:55:39.713397Z"
    },
    "papermill": {
     "duration": 1.203836,
     "end_time": "2021-11-27T01:55:39.713591",
     "exception": false,
     "start_time": "2021-11-27T01:55:38.509755",
     "status": "completed"
    },
    "tags": []
   },
   "outputs": [],
   "source": [
    "#hide\n",
    "import matplotlib.pyplot as plt\n",
    "import numpy as np\n",
    "import pandas as pd\n",
    "import seaborn as sns\n",
    "import matplotlib.pyplot as plt \n",
    "import matplotlib.dates as mdates\n",
    "import matplotlib.pyplot as plt"
   ]
  },
  {
   "cell_type": "code",
   "execution_count": 5,
   "id": "superior-blanket",
   "metadata": {
    "execution": {
     "iopub.execute_input": "2021-11-27T01:55:39.763979Z",
     "iopub.status.busy": "2021-11-27T01:55:39.760126Z",
     "iopub.status.idle": "2021-11-27T01:55:54.135691Z",
     "shell.execute_reply": "2021-11-27T01:55:54.134874Z"
    },
    "papermill": {
     "duration": 14.408003,
     "end_time": "2021-11-27T01:55:54.136109",
     "exception": false,
     "start_time": "2021-11-27T01:55:39.728106",
     "status": "completed"
    },
    "tags": []
   },
   "outputs": [
    {
     "name": "stderr",
     "output_type": "stream",
     "text": [
      "/home/runner/work/corr-app/corr-app/_notebooks/scripts/read_data.py:187: SettingWithCopyWarning:\n",
      "\n",
      "\n",
      "A value is trying to be set on a copy of a slice from a DataFrame.\n",
      "Try using .loc[row_indexer,col_indexer] = value instead\n",
      "\n",
      "See the caveats in the documentation: https://pandas.pydata.org/pandas-docs/stable/user_guide/indexing.html#returning-a-view-versus-a-copy\n",
      "\n"
     ]
    },
    {
     "name": "stderr",
     "output_type": "stream",
     "text": [
      "/home/runner/work/corr-app/corr-app/_notebooks/scripts/read_data.py:215: SettingWithCopyWarning:\n",
      "\n",
      "\n",
      "A value is trying to be set on a copy of a slice from a DataFrame.\n",
      "Try using .loc[row_indexer,col_indexer] = value instead\n",
      "\n",
      "See the caveats in the documentation: https://pandas.pydata.org/pandas-docs/stable/user_guide/indexing.html#returning-a-view-versus-a-copy\n",
      "\n"
     ]
    }
   ],
   "source": [
    "#hide\n",
    "df_all = read_api()\n",
    "#df_all = df_all.drop(['SP500', 'XAU', 'ETH', 'BTC'], axis=1)\n",
    "\n"
   ]
  },
  {
   "cell_type": "code",
   "execution_count": 6,
   "id": "mature-alert",
   "metadata": {
    "execution": {
     "iopub.execute_input": "2021-11-27T01:55:54.175478Z",
     "iopub.status.busy": "2021-11-27T01:55:54.172769Z",
     "iopub.status.idle": "2021-11-27T01:55:54.205403Z",
     "shell.execute_reply": "2021-11-27T01:55:54.205907Z"
    },
    "papermill": {
     "duration": 0.056272,
     "end_time": "2021-11-27T01:55:54.206720",
     "exception": false,
     "start_time": "2021-11-27T01:55:54.150448",
     "status": "completed"
    },
    "tags": []
   },
   "outputs": [],
   "source": [
    "#hide_input\n",
    "sum_corr = df_all.corr().sum().sort_values(ascending=True).index.values\n",
    "#df_all[sum_corr].corr()"
   ]
  },
  {
   "cell_type": "markdown",
   "id": "complex-syndicate",
   "metadata": {
    "papermill": {
     "duration": 0.013355,
     "end_time": "2021-11-27T01:55:54.233449",
     "exception": false,
     "start_time": "2021-11-27T01:55:54.220094",
     "status": "completed"
    },
    "tags": []
   },
   "source": [
    "## Išplėstinė koreliacijų matrica. "
   ]
  },
  {
   "cell_type": "code",
   "execution_count": 7,
   "id": "atomic-omaha",
   "metadata": {
    "execution": {
     "iopub.execute_input": "2021-11-27T01:55:54.278874Z",
     "iopub.status.busy": "2021-11-27T01:55:54.278150Z",
     "iopub.status.idle": "2021-11-27T01:55:55.873519Z",
     "shell.execute_reply": "2021-11-27T01:55:55.872740Z"
    },
    "papermill": {
     "duration": 1.626637,
     "end_time": "2021-11-27T01:55:55.873650",
     "exception": false,
     "start_time": "2021-11-27T01:55:54.247013",
     "status": "completed"
    },
    "tags": []
   },
   "outputs": [
    {
     "data": {
      "image/png": "[encoded data removed]",
      "text/plain": [
       "<Figure size 1080x792 with 2 Axes>"
      ]
     },
     "metadata": {
      "needs_background": "light"
     },
     "output_type": "display_data"
    }
   ],
   "source": [
    "#hide_input\n",
    "plt.figure(figsize=(15, 11))\n",
    "sns.heatmap(df_all[sum_corr].corr(), annot=True, cmap=\"cubehelix\") \n",
    "sns.set(font_scale=1.25)\n",
    "plt.savefig('corr_matrix.png', format='eps')"
   ]
  },
  {
   "cell_type": "code",
   "execution_count": 8,
   "id": "arbitrary-sullivan",
   "metadata": {
    "execution": {
     "iopub.execute_input": "2021-11-27T01:55:55.910528Z",
     "iopub.status.busy": "2021-11-27T01:55:55.909899Z",
     "iopub.status.idle": "2021-11-27T01:55:55.935636Z",
     "shell.execute_reply": "2021-11-27T01:55:55.936162Z"
    },
    "papermill": {
     "duration": 0.04738,
     "end_time": "2021-11-27T01:55:55.936774",
     "exception": false,
     "start_time": "2021-11-27T01:55:55.889394",
     "status": "completed"
    },
    "tags": []
   },
   "outputs": [],
   "source": [
    "#hide\n",
    "#df_all_mrk = read_api()"
   ]
  },
  {
   "cell_type": "code",
   "execution_count": 9,
   "id": "delayed-adapter",
   "metadata": {
    "execution": {
     "iopub.execute_input": "2021-11-27T01:55:55.979068Z",
     "iopub.status.busy": "2021-11-27T01:55:55.974880Z",
     "iopub.status.idle": "2021-11-27T01:55:55.996114Z",
     "shell.execute_reply": "2021-11-27T01:55:55.996585Z"
    },
    "papermill": {
     "duration": 0.044606,
     "end_time": "2021-11-27T01:55:55.996718",
     "exception": false,
     "start_time": "2021-11-27T01:55:55.952112",
     "status": "completed"
    },
    "tags": []
   },
   "outputs": [],
   "source": [
    "#hide\n",
    "#Koreliacijų koeficientai"
   ]
  },
  {
   "cell_type": "code",
   "execution_count": 10,
   "id": "seeing-celebration",
   "metadata": {
    "execution": {
     "iopub.execute_input": "2021-11-27T01:55:56.049542Z",
     "iopub.status.busy": "2021-11-27T01:55:56.046871Z",
     "iopub.status.idle": "2021-11-27T01:55:56.068329Z",
     "shell.execute_reply": "2021-11-27T01:55:56.067523Z"
    },
    "papermill": {
     "duration": 0.054873,
     "end_time": "2021-11-27T01:55:56.068460",
     "exception": false,
     "start_time": "2021-11-27T01:55:56.013587",
     "status": "completed"
    },
    "tags": []
   },
   "outputs": [],
   "source": [
    "#hide_input\n",
    "#sum_corr = df_all_mrk.corr().sum().sort_values(ascending=True).index.values\n",
    "#df_all_mrk[sum_corr].corr()"
   ]
  },
  {
   "cell_type": "code",
   "execution_count": 11,
   "id": "other-painting",
   "metadata": {
    "execution": {
     "iopub.execute_input": "2021-11-27T01:55:56.102500Z",
     "iopub.status.busy": "2021-11-27T01:55:56.101834Z",
     "iopub.status.idle": "2021-11-27T01:55:56.128923Z",
     "shell.execute_reply": "2021-11-27T01:55:56.128385Z"
    },
    "papermill": {
     "duration": 0.045284,
     "end_time": "2021-11-27T01:55:56.129052",
     "exception": false,
     "start_time": "2021-11-27T01:55:56.083768",
     "status": "completed"
    },
    "tags": []
   },
   "outputs": [],
   "source": [
    "#hide\n",
    "#Koreliacijos matrica. "
   ]
  },
  {
   "cell_type": "code",
   "execution_count": 12,
   "id": "modular-magnitude",
   "metadata": {
    "execution": {
     "iopub.execute_input": "2021-11-27T01:55:56.164535Z",
     "iopub.status.busy": "2021-11-27T01:55:56.163914Z",
     "iopub.status.idle": "2021-11-27T01:55:56.192138Z",
     "shell.execute_reply": "2021-11-27T01:55:56.191572Z"
    },
    "papermill": {
     "duration": 0.047535,
     "end_time": "2021-11-27T01:55:56.192268",
     "exception": false,
     "start_time": "2021-11-27T01:55:56.144733",
     "status": "completed"
    },
    "tags": []
   },
   "outputs": [],
   "source": [
    "#hide_input\n",
    "#plt.figure(figsize=(15, 8))\n",
    "#sns.heatmap(df_all_mrk[sum_corr].corr(), annot=True, cmap=\"BrBG\");\n",
    "#plt.savefig('corr_matrix_all.eps', format='eps')"
   ]
  },
  {
   "cell_type": "code",
   "execution_count": null,
   "id": "original-senator",
   "metadata": {
    "papermill": {
     "duration": 0.016231,
     "end_time": "2021-11-27T01:55:56.224869",
     "exception": false,
     "start_time": "2021-11-27T01:55:56.208638",
     "status": "completed"
    },
    "tags": []
   },
   "outputs": [],
   "source": []
  },
  {
   "cell_type": "code",
   "execution_count": null,
   "id": "saving-secretariat",
   "metadata": {
    "papermill": {
     "duration": 0.015818,
     "end_time": "2021-11-27T01:55:56.263828",
     "exception": false,
     "start_time": "2021-11-27T01:55:56.248010",
     "status": "completed"
    },
    "tags": []
   },
   "outputs": [],
   "source": []
  }
 ],
 "metadata": {
  "kernelspec": {
   "display_name": "Python 3",
   "language": "python",
   "name": "python3"
  },
  "language_info": {
   "codemirror_mode": {
    "name": "ipython",
    "version": 3
   },
   "file_extension": ".py",
   "mimetype": "text/x-python",
   "name": "python",
   "nbconvert_exporter": "python",
   "pygments_lexer": "ipython3",
   "version": "3.6.15"
  },
  "papermill": {
   "default_parameters": {},
   "duration": 21.189979,
   "end_time": "2021-11-27T01:55:56.787362",
   "environment_variables": {},
   "exception": null,
   "input_path": "App-Correlation_charts.ipynb",
   "output_path": "App-Correlation_charts.ipynb",
   "parameters": {},
   "start_time": "2021-11-27T01:55:35.597383",
   "version": "2.2.2"
  }
 },
 "nbformat": 4,
 "nbformat_minor": 5
}