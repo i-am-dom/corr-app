{
 "cells": [
  {
   "cell_type": "markdown",
   "id": "touched-facility",
   "metadata": {
    "papermill": {
     "duration": 0.019038,
     "end_time": "2022-09-12T03:52:11.095377",
     "exception": false,
     "start_time": "2022-09-12T03:52:11.076339",
     "status": "completed"
    },
    "tags": []
   },
   "source": [
    "# Koreliacijų matrica\n",
    "> Išplėstinė koreliacijų matrica. \n",
    "\n",
    "- toc: true \n",
    "- badges: true\n",
    "- comments: false\n",
    "- categories: [Dominykas Tautkus]\n",
    "- image: images/matrix.png"
   ]
  },
  {
   "cell_type": "code",
   "execution_count": null,
   "id": "premium-weekend",
   "metadata": {
    "papermill": {
     "duration": 0.012263,
     "end_time": "2022-09-12T03:52:11.120702",
     "exception": false,
     "start_time": "2022-09-12T03:52:11.108439",
     "status": "completed"
    },
    "tags": []
   },
   "outputs": [],
   "source": []
  },
  {
   "cell_type": "code",
   "execution_count": 1,
   "id": "vertical-rebate",
   "metadata": {
    "execution": {
     "iopub.execute_input": "2022-09-12T03:52:11.157055Z",
     "iopub.status.busy": "2022-09-12T03:52:11.156229Z",
     "iopub.status.idle": "2022-09-12T03:52:11.168466Z",
     "shell.execute_reply": "2022-09-12T03:52:11.167836Z"
    },
    "papermill": {
     "duration": 0.035937,
     "end_time": "2022-09-12T03:52:11.168620",
     "exception": false,
     "start_time": "2022-09-12T03:52:11.132683",
     "status": "completed"
    },
    "tags": []
   },
   "outputs": [],
   "source": [
    "#hide\n",
    "%load_ext autoreload\n",
    "%autoreload 2"
   ]
  },
  {
   "cell_type": "code",
   "execution_count": 2,
   "id": "overall-advancement",
   "metadata": {
    "execution": {
     "iopub.execute_input": "2022-09-12T03:52:11.196952Z",
     "iopub.status.busy": "2022-09-12T03:52:11.196231Z",
     "iopub.status.idle": "2022-09-12T03:52:12.455749Z",
     "shell.execute_reply": "2022-09-12T03:52:12.453976Z"
    },
    "papermill": {
     "duration": 1.27538,
     "end_time": "2022-09-12T03:52:12.455974",
     "exception": false,
     "start_time": "2022-09-12T03:52:11.180594",
     "status": "completed"
    },
    "tags": []
   },
   "outputs": [],
   "source": [
    "#hide\n",
    "from scripts.read_data import read_api\n",
    "from IPython.display import HTML\n",
    "import plotly.graph_objects as go\n"
   ]
  },
  {
   "cell_type": "code",
   "execution_count": 3,
   "id": "light-crazy",
   "metadata": {
    "execution": {
     "iopub.execute_input": "2022-09-12T03:52:12.493577Z",
     "iopub.status.busy": "2022-09-12T03:52:12.491094Z",
     "iopub.status.idle": "2022-09-12T03:52:12.519572Z",
     "shell.execute_reply": "2022-09-12T03:52:12.518970Z"
    },
    "papermill": {
     "duration": 0.04559,
     "end_time": "2022-09-12T03:52:12.519730",
     "exception": false,
     "start_time": "2022-09-12T03:52:12.474140",
     "status": "completed"
    },
    "tags": []
   },
   "outputs": [],
   "source": [
    "#hide\n",
    "### ICO koreliacija"
   ]
  },
  {
   "cell_type": "code",
   "execution_count": 4,
   "id": "likely-bahrain",
   "metadata": {
    "execution": {
     "iopub.execute_input": "2022-09-12T03:52:12.554297Z",
     "iopub.status.busy": "2022-09-12T03:52:12.553350Z",
     "iopub.status.idle": "2022-09-12T03:52:13.507382Z",
     "shell.execute_reply": "2022-09-12T03:52:13.506741Z"
    },
    "papermill": {
     "duration": 0.975063,
     "end_time": "2022-09-12T03:52:13.507523",
     "exception": false,
     "start_time": "2022-09-12T03:52:12.532460",
     "status": "completed"
    },
    "tags": []
   },
   "outputs": [],
   "source": [
    "#hide\n",
    "import matplotlib.pyplot as plt\n",
    "import numpy as np\n",
    "import pandas as pd\n",
    "import seaborn as sns\n",
    "import matplotlib.pyplot as plt \n",
    "import matplotlib.dates as mdates\n",
    "import matplotlib.pyplot as plt"
   ]
  },
  {
   "cell_type": "code",
   "execution_count": 5,
   "id": "superior-blanket",
   "metadata": {
    "execution": {
     "iopub.execute_input": "2022-09-12T03:52:13.539446Z",
     "iopub.status.busy": "2022-09-12T03:52:13.538695Z",
     "iopub.status.idle": "2022-09-12T03:52:27.087551Z",
     "shell.execute_reply": "2022-09-12T03:52:27.088962Z"
    },
    "papermill": {
     "duration": 13.569557,
     "end_time": "2022-09-12T03:52:27.089148",
     "exception": false,
     "start_time": "2022-09-12T03:52:13.519591",
     "status": "completed"
    },
    "tags": []
   },
   "outputs": [
    {
     "name": "stderr",
     "output_type": "stream",
     "text": [
      "/home/runner/work/corr-app/corr-app/_notebooks/scripts/read_data.py:187: SettingWithCopyWarning:\n",
      "\n",
      "\n",
      "A value is trying to be set on a copy of a slice from a DataFrame.\n",
      "Try using .loc[row_indexer,col_indexer] = value instead\n",
      "\n",
      "See the caveats in the documentation: https://pandas.pydata.org/pandas-docs/stable/user_guide/indexing.html#returning-a-view-versus-a-copy\n",
      "\n"
     ]
    },
    {
     "name": "stderr",
     "output_type": "stream",
     "text": [
      "/home/runner/work/corr-app/corr-app/_notebooks/scripts/read_data.py:215: SettingWithCopyWarning:\n",
      "\n",
      "\n",
      "A value is trying to be set on a copy of a slice from a DataFrame.\n",
      "Try using .loc[row_indexer,col_indexer] = value instead\n",
      "\n",
      "See the caveats in the documentation: https://pandas.pydata.org/pandas-docs/stable/user_guide/indexing.html#returning-a-view-versus-a-copy\n",
      "\n"
     ]
    }
   ],
   "source": [
    "#hide\n",
    "df_all = read_api()\n",
    "#df_all = df_all.drop(['SP500', 'XAU', 'ETH', 'BTC'], axis=1)\n",
    "\n"
   ]
  },
  {
   "cell_type": "code",
   "execution_count": 6,
   "id": "mature-alert",
   "metadata": {
    "execution": {
     "iopub.execute_input": "2022-09-12T03:52:27.128478Z",
     "iopub.status.busy": "2022-09-12T03:52:27.127174Z",
     "iopub.status.idle": "2022-09-12T03:52:27.162591Z",
     "shell.execute_reply": "2022-09-12T03:52:27.161952Z"
    },
    "papermill": {
     "duration": 0.058599,
     "end_time": "2022-09-12T03:52:27.162733",
     "exception": false,
     "start_time": "2022-09-12T03:52:27.104134",
     "status": "completed"
    },
    "tags": []
   },
   "outputs": [],
   "source": [
    "#hide_input\n",
    "sum_corr = df_all.corr().sum().sort_values(ascending=True).index.values\n",
    "#df_all[sum_corr].corr()"
   ]
  },
  {
   "cell_type": "markdown",
   "id": "complex-syndicate",
   "metadata": {
    "papermill": {
     "duration": 0.013078,
     "end_time": "2022-09-12T03:52:27.188783",
     "exception": false,
     "start_time": "2022-09-12T03:52:27.175705",
     "status": "completed"
    },
    "tags": []
   },
   "source": [
    "## Išplėstinė koreliacijų matrica. "
   ]
  },
  {
   "cell_type": "code",
   "execution_count": 7,
   "id": "atomic-omaha",
   "metadata": {
    "execution": {
     "iopub.execute_input": "2022-09-12T03:52:27.222781Z",
     "iopub.status.busy": "2022-09-12T03:52:27.222077Z",
     "iopub.status.idle": "2022-09-12T03:52:28.686069Z",
     "shell.execute_reply": "2022-09-12T03:52:28.686618Z"
    },
    "papermill": {
     "duration": 1.484931,
     "end_time": "2022-09-12T03:52:28.686778",
     "exception": false,
     "start_time": "2022-09-12T03:52:27.201847",
     "status": "completed"
    },
    "tags": []
   },
   "outputs": [
    {
     "data": {
      "image/png": "[encoded data removed]",
      "text/plain": [
       "<Figure size 1080x792 with 2 Axes>"
      ]
     },
     "metadata": {
      "needs_background": "light"
     },
     "output_type": "display_data"
    }
   ],
   "source": [
    "#hide_input\n",
    "plt.figure(figsize=(15, 11))\n",
    "sns.heatmap(df_all[sum_corr].corr(), annot=True, cmap=\"cubehelix\") \n",
    "sns.set(font_scale=1.25)\n",
    "plt.savefig('corr_matrix.png', format='eps')"
   ]
  },
  {
   "cell_type": "code",
   "execution_count": 8,
   "id": "arbitrary-sullivan",
   "metadata": {
    "execution": {
     "iopub.execute_input": "2022-09-12T03:52:28.726163Z",
     "iopub.status.busy": "2022-09-12T03:52:28.721100Z",
     "iopub.status.idle": "2022-09-12T03:52:28.753821Z",
     "shell.execute_reply": "2022-09-12T03:52:28.753046Z"
    },
    "papermill": {
     "duration": 0.051683,
     "end_time": "2022-09-12T03:52:28.754003",
     "exception": false,
     "start_time": "2022-09-12T03:52:28.702320",
     "status": "completed"
    },
    "tags": []
   },
   "outputs": [],
   "source": [
    "#hide\n",
    "#df_all_mrk = read_api()"
   ]
  },
  {
   "cell_type": "code",
   "execution_count": 9,
   "id": "delayed-adapter",
   "metadata": {
    "execution": {
     "iopub.execute_input": "2022-09-12T03:52:28.789877Z",
     "iopub.status.busy": "2022-09-12T03:52:28.789180Z",
     "iopub.status.idle": "2022-09-12T03:52:28.825236Z",
     "shell.execute_reply": "2022-09-12T03:52:28.824412Z"
    },
    "papermill": {
     "duration": 0.055868,
     "end_time": "2022-09-12T03:52:28.825372",
     "exception": false,
     "start_time": "2022-09-12T03:52:28.769504",
     "status": "completed"
    },
    "tags": []
   },
   "outputs": [],
   "source": [
    "#hide\n",
    "#Koreliacijų koeficientai"
   ]
  },
  {
   "cell_type": "code",
   "execution_count": 10,
   "id": "seeing-celebration",
   "metadata": {
    "execution": {
     "iopub.execute_input": "2022-09-12T03:52:28.863518Z",
     "iopub.status.busy": "2022-09-12T03:52:28.862305Z",
     "iopub.status.idle": "2022-09-12T03:52:28.894462Z",
     "shell.execute_reply": "2022-09-12T03:52:28.893910Z"
    },
    "papermill": {
     "duration": 0.053848,
     "end_time": "2022-09-12T03:52:28.894598",
     "exception": false,
     "start_time": "2022-09-12T03:52:28.840750",
     "status": "completed"
    },
    "tags": []
   },
   "outputs": [],
   "source": [
    "#hide_input\n",
    "#sum_corr = df_all_mrk.corr().sum().sort_values(ascending=True).index.values\n",
    "#df_all_mrk[sum_corr].corr()"
   ]
  },
  {
   "cell_type": "code",
   "execution_count": 11,
   "id": "other-painting",
   "metadata": {
    "execution": {
     "iopub.execute_input": "2022-09-12T03:52:28.929187Z",
     "iopub.status.busy": "2022-09-12T03:52:28.928489Z",
     "iopub.status.idle": "2022-09-12T03:52:28.958391Z",
     "shell.execute_reply": "2022-09-12T03:52:28.958930Z"
    },
    "papermill": {
     "duration": 0.049104,
     "end_time": "2022-09-12T03:52:28.959093",
     "exception": false,
     "start_time": "2022-09-12T03:52:28.909989",
     "status": "completed"
    },
    "tags": []
   },
   "outputs": [],
   "source": [
    "#hide\n",
    "#Koreliacijos matrica. "
   ]
  },
  {
   "cell_type": "code",
   "execution_count": 12,
   "id": "modular-magnitude",
   "metadata": {
    "execution": {
     "iopub.execute_input": "2022-09-12T03:52:28.997597Z",
     "iopub.status.busy": "2022-09-12T03:52:28.996954Z",
     "iopub.status.idle": "2022-09-12T03:52:29.028417Z",
     "shell.execute_reply": "2022-09-12T03:52:29.027738Z"
    },
    "papermill": {
     "duration": 0.050366,
     "end_time": "2022-09-12T03:52:29.028548",
     "exception": false,
     "start_time": "2022-09-12T03:52:28.978182",
     "status": "completed"
    },
    "tags": []
   },
   "outputs": [],
   "source": [
    "#hide_input\n",
    "#plt.figure(figsize=(15, 8))\n",
    "#sns.heatmap(df_all_mrk[sum_corr].corr(), annot=True, cmap=\"BrBG\");\n",
    "#plt.savefig('corr_matrix_all.eps', format='eps')"
   ]
  },
  {
   "cell_type": "code",
   "execution_count": null,
   "id": "original-senator",
   "metadata": {
    "papermill": {
     "duration": 0.015264,
     "end_time": "2022-09-12T03:52:29.059653",
     "exception": false,
     "start_time": "2022-09-12T03:52:29.044389",
     "status": "completed"
    },
    "tags": []
   },
   "outputs": [],
   "source": []
  },
  {
   "cell_type": "code",
   "execution_count": null,
   "id": "saving-secretariat",
   "metadata": {
    "papermill": {
     "duration": 0.014726,
     "end_time": "2022-09-12T03:52:29.089521",
     "exception": false,
     "start_time": "2022-09-12T03:52:29.074795",
     "status": "completed"
    },
    "tags": []
   },
   "outputs": [],
   "source": []
  }
 ],
 "metadata": {
  "kernelspec": {
   "display_name": "Python 3",
   "language": "python",
   "name": "python3"
  },
  "language_info": {
   "codemirror_mode": {
    "name": "ipython",
    "version": 3
   },
   "file_extension": ".py",
   "mimetype": "text/x-python",
   "name": "python",
   "nbconvert_exporter": "python",
   "pygments_lexer": "ipython3",
   "version": "3.6.15"
  },
  "papermill": {
   "default_parameters": {},
   "duration": 19.928035,
   "end_time": "2022-09-12T03:52:29.727063",
   "environment_variables": {},
   "exception": null,
   "input_path": "App-Correlation_charts.ipynb",
   "output_path": "App-Correlation_charts.ipynb",
   "parameters": {},
   "start_time": "2022-09-12T03:52:09.799028",
   "version": "2.2.2"
  }
 },
 "nbformat": 4,
 "nbformat_minor": 5
}