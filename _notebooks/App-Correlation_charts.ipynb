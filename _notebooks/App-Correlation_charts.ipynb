{
 "cells": [
  {
   "cell_type": "markdown",
   "id": "touched-facility",
   "metadata": {
    "papermill": {
     "duration": 0.017035,
     "end_time": "2022-06-29T03:19:51.259883",
     "exception": false,
     "start_time": "2022-06-29T03:19:51.242848",
     "status": "completed"
    },
    "tags": []
   },
   "source": [
    "# Koreliacijų matrica\n",
    "> Išplėstinė koreliacijų matrica. \n",
    "\n",
    "- toc: true \n",
    "- badges: true\n",
    "- comments: false\n",
    "- categories: [Dominykas Tautkus]\n",
    "- image: images/matrix.png"
   ]
  },
  {
   "cell_type": "code",
   "execution_count": null,
   "id": "premium-weekend",
   "metadata": {
    "papermill": {
     "duration": 0.014587,
     "end_time": "2022-06-29T03:19:51.289914",
     "exception": false,
     "start_time": "2022-06-29T03:19:51.275327",
     "status": "completed"
    },
    "tags": []
   },
   "outputs": [],
   "source": []
  },
  {
   "cell_type": "code",
   "execution_count": 1,
   "id": "vertical-rebate",
   "metadata": {
    "execution": {
     "iopub.execute_input": "2022-06-29T03:19:51.326977Z",
     "iopub.status.busy": "2022-06-29T03:19:51.326198Z",
     "iopub.status.idle": "2022-06-29T03:19:51.339073Z",
     "shell.execute_reply": "2022-06-29T03:19:51.339784Z"
    },
    "papermill": {
     "duration": 0.037072,
     "end_time": "2022-06-29T03:19:51.339952",
     "exception": false,
     "start_time": "2022-06-29T03:19:51.302880",
     "status": "completed"
    },
    "tags": []
   },
   "outputs": [],
   "source": [
    "#hide\n",
    "%load_ext autoreload\n",
    "%autoreload 2"
   ]
  },
  {
   "cell_type": "code",
   "execution_count": 2,
   "id": "overall-advancement",
   "metadata": {
    "execution": {
     "iopub.execute_input": "2022-06-29T03:19:51.374316Z",
     "iopub.status.busy": "2022-06-29T03:19:51.373572Z",
     "iopub.status.idle": "2022-06-29T03:19:52.731427Z",
     "shell.execute_reply": "2022-06-29T03:19:52.730823Z"
    },
    "papermill": {
     "duration": 1.376442,
     "end_time": "2022-06-29T03:19:52.731571",
     "exception": false,
     "start_time": "2022-06-29T03:19:51.355129",
     "status": "completed"
    },
    "tags": []
   },
   "outputs": [],
   "source": [
    "#hide\n",
    "from scripts.read_data import read_api\n",
    "from IPython.display import HTML\n",
    "import plotly.graph_objects as go\n"
   ]
  },
  {
   "cell_type": "code",
   "execution_count": 3,
   "id": "light-crazy",
   "metadata": {
    "execution": {
     "iopub.execute_input": "2022-06-29T03:19:52.761418Z",
     "iopub.status.busy": "2022-06-29T03:19:52.760694Z",
     "iopub.status.idle": "2022-06-29T03:19:52.786312Z",
     "shell.execute_reply": "2022-06-29T03:19:52.785689Z"
    },
    "papermill": {
     "duration": 0.041646,
     "end_time": "2022-06-29T03:19:52.786444",
     "exception": false,
     "start_time": "2022-06-29T03:19:52.744798",
     "status": "completed"
    },
    "tags": []
   },
   "outputs": [],
   "source": [
    "#hide\n",
    "### ICO koreliacija"
   ]
  },
  {
   "cell_type": "code",
   "execution_count": 4,
   "id": "likely-bahrain",
   "metadata": {
    "execution": {
     "iopub.execute_input": "2022-06-29T03:19:52.817006Z",
     "iopub.status.busy": "2022-06-29T03:19:52.816280Z",
     "iopub.status.idle": "2022-06-29T03:19:53.800808Z",
     "shell.execute_reply": "2022-06-29T03:19:53.799477Z"
    },
    "papermill": {
     "duration": 1.001617,
     "end_time": "2022-06-29T03:19:53.800966",
     "exception": false,
     "start_time": "2022-06-29T03:19:52.799349",
     "status": "completed"
    },
    "tags": []
   },
   "outputs": [],
   "source": [
    "#hide\n",
    "import matplotlib.pyplot as plt\n",
    "import numpy as np\n",
    "import pandas as pd\n",
    "import seaborn as sns\n",
    "import matplotlib.pyplot as plt \n",
    "import matplotlib.dates as mdates\n",
    "import matplotlib.pyplot as plt"
   ]
  },
  {
   "cell_type": "code",
   "execution_count": 5,
   "id": "superior-blanket",
   "metadata": {
    "execution": {
     "iopub.execute_input": "2022-06-29T03:19:53.833647Z",
     "iopub.status.busy": "2022-06-29T03:19:53.832906Z",
     "iopub.status.idle": "2022-06-29T03:20:09.094366Z",
     "shell.execute_reply": "2022-06-29T03:20:09.093676Z"
    },
    "papermill": {
     "duration": 15.280135,
     "end_time": "2022-06-29T03:20:09.094515",
     "exception": false,
     "start_time": "2022-06-29T03:19:53.814380",
     "status": "completed"
    },
    "tags": []
   },
   "outputs": [
    {
     "name": "stderr",
     "output_type": "stream",
     "text": [
      "/home/runner/work/corr-app/corr-app/_notebooks/scripts/read_data.py:187: SettingWithCopyWarning:\n",
      "\n",
      "\n",
      "A value is trying to be set on a copy of a slice from a DataFrame.\n",
      "Try using .loc[row_indexer,col_indexer] = value instead\n",
      "\n",
      "See the caveats in the documentation: https://pandas.pydata.org/pandas-docs/stable/user_guide/indexing.html#returning-a-view-versus-a-copy\n",
      "\n"
     ]
    },
    {
     "name": "stderr",
     "output_type": "stream",
     "text": [
      "/home/runner/work/corr-app/corr-app/_notebooks/scripts/read_data.py:215: SettingWithCopyWarning:\n",
      "\n",
      "\n",
      "A value is trying to be set on a copy of a slice from a DataFrame.\n",
      "Try using .loc[row_indexer,col_indexer] = value instead\n",
      "\n",
      "See the caveats in the documentation: https://pandas.pydata.org/pandas-docs/stable/user_guide/indexing.html#returning-a-view-versus-a-copy\n",
      "\n"
     ]
    }
   ],
   "source": [
    "#hide\n",
    "df_all = read_api()\n",
    "#df_all = df_all.drop(['SP500', 'XAU', 'ETH', 'BTC'], axis=1)\n",
    "\n"
   ]
  },
  {
   "cell_type": "code",
   "execution_count": 6,
   "id": "mature-alert",
   "metadata": {
    "execution": {
     "iopub.execute_input": "2022-06-29T03:20:09.128012Z",
     "iopub.status.busy": "2022-06-29T03:20:09.127265Z",
     "iopub.status.idle": "2022-06-29T03:20:09.163248Z",
     "shell.execute_reply": "2022-06-29T03:20:09.162622Z"
    },
    "papermill": {
     "duration": 0.053496,
     "end_time": "2022-06-29T03:20:09.163390",
     "exception": false,
     "start_time": "2022-06-29T03:20:09.109894",
     "status": "completed"
    },
    "tags": []
   },
   "outputs": [],
   "source": [
    "#hide_input\n",
    "sum_corr = df_all.corr().sum().sort_values(ascending=True).index.values\n",
    "#df_all[sum_corr].corr()"
   ]
  },
  {
   "cell_type": "markdown",
   "id": "complex-syndicate",
   "metadata": {
    "papermill": {
     "duration": 0.014242,
     "end_time": "2022-06-29T03:20:09.191729",
     "exception": false,
     "start_time": "2022-06-29T03:20:09.177487",
     "status": "completed"
    },
    "tags": []
   },
   "source": [
    "## Išplėstinė koreliacijų matrica. "
   ]
  },
  {
   "cell_type": "code",
   "execution_count": 7,
   "id": "atomic-omaha",
   "metadata": {
    "execution": {
     "iopub.execute_input": "2022-06-29T03:20:09.224924Z",
     "iopub.status.busy": "2022-06-29T03:20:09.224186Z",
     "iopub.status.idle": "2022-06-29T03:20:10.797834Z",
     "shell.execute_reply": "2022-06-29T03:20:10.797253Z"
    },
    "papermill": {
     "duration": 1.592477,
     "end_time": "2022-06-29T03:20:10.797979",
     "exception": false,
     "start_time": "2022-06-29T03:20:09.205502",
     "status": "completed"
    },
    "tags": []
   },
   "outputs": [
    {
     "data": {
      "image/png": "[encoded data removed]",
      "text/plain": [
       "<Figure size 1080x792 with 2 Axes>"
      ]
     },
     "metadata": {
      "needs_background": "light"
     },
     "output_type": "display_data"
    }
   ],
   "source": [
    "#hide_input\n",
    "plt.figure(figsize=(15, 11))\n",
    "sns.heatmap(df_all[sum_corr].corr(), annot=True, cmap=\"cubehelix\") \n",
    "sns.set(font_scale=1.25)\n",
    "plt.savefig('corr_matrix.png', format='eps')"
   ]
  },
  {
   "cell_type": "code",
   "execution_count": 8,
   "id": "arbitrary-sullivan",
   "metadata": {
    "execution": {
     "iopub.execute_input": "2022-06-29T03:20:10.835578Z",
     "iopub.status.busy": "2022-06-29T03:20:10.834839Z",
     "iopub.status.idle": "2022-06-29T03:20:10.865766Z",
     "shell.execute_reply": "2022-06-29T03:20:10.865050Z"
    },
    "papermill": {
     "duration": 0.051458,
     "end_time": "2022-06-29T03:20:10.865904",
     "exception": false,
     "start_time": "2022-06-29T03:20:10.814446",
     "status": "completed"
    },
    "tags": []
   },
   "outputs": [],
   "source": [
    "#hide\n",
    "#df_all_mrk = read_api()"
   ]
  },
  {
   "cell_type": "code",
   "execution_count": 9,
   "id": "delayed-adapter",
   "metadata": {
    "execution": {
     "iopub.execute_input": "2022-06-29T03:20:10.912091Z",
     "iopub.status.busy": "2022-06-29T03:20:10.910941Z",
     "iopub.status.idle": "2022-06-29T03:20:10.941588Z",
     "shell.execute_reply": "2022-06-29T03:20:10.940973Z"
    },
    "papermill": {
     "duration": 0.057922,
     "end_time": "2022-06-29T03:20:10.941725",
     "exception": false,
     "start_time": "2022-06-29T03:20:10.883803",
     "status": "completed"
    },
    "tags": []
   },
   "outputs": [],
   "source": [
    "#hide\n",
    "#Koreliacijų koeficientai"
   ]
  },
  {
   "cell_type": "code",
   "execution_count": 10,
   "id": "seeing-celebration",
   "metadata": {
    "execution": {
     "iopub.execute_input": "2022-06-29T03:20:10.984348Z",
     "iopub.status.busy": "2022-06-29T03:20:10.983199Z",
     "iopub.status.idle": "2022-06-29T03:20:11.010546Z",
     "shell.execute_reply": "2022-06-29T03:20:11.011117Z"
    },
    "papermill": {
     "duration": 0.053197,
     "end_time": "2022-06-29T03:20:11.011283",
     "exception": false,
     "start_time": "2022-06-29T03:20:10.958086",
     "status": "completed"
    },
    "tags": []
   },
   "outputs": [],
   "source": [
    "#hide_input\n",
    "#sum_corr = df_all_mrk.corr().sum().sort_values(ascending=True).index.values\n",
    "#df_all_mrk[sum_corr].corr()"
   ]
  },
  {
   "cell_type": "code",
   "execution_count": 11,
   "id": "other-painting",
   "metadata": {
    "execution": {
     "iopub.execute_input": "2022-06-29T03:20:11.049516Z",
     "iopub.status.busy": "2022-06-29T03:20:11.048430Z",
     "iopub.status.idle": "2022-06-29T03:20:11.080580Z",
     "shell.execute_reply": "2022-06-29T03:20:11.079936Z"
    },
    "papermill": {
     "duration": 0.052278,
     "end_time": "2022-06-29T03:20:11.080729",
     "exception": false,
     "start_time": "2022-06-29T03:20:11.028451",
     "status": "completed"
    },
    "tags": []
   },
   "outputs": [],
   "source": [
    "#hide\n",
    "#Koreliacijos matrica. "
   ]
  },
  {
   "cell_type": "code",
   "execution_count": 12,
   "id": "modular-magnitude",
   "metadata": {
    "execution": {
     "iopub.execute_input": "2022-06-29T03:20:11.119054Z",
     "iopub.status.busy": "2022-06-29T03:20:11.118324Z",
     "iopub.status.idle": "2022-06-29T03:20:11.149545Z",
     "shell.execute_reply": "2022-06-29T03:20:11.148905Z"
    },
    "papermill": {
     "duration": 0.052196,
     "end_time": "2022-06-29T03:20:11.149692",
     "exception": false,
     "start_time": "2022-06-29T03:20:11.097496",
     "status": "completed"
    },
    "tags": []
   },
   "outputs": [],
   "source": [
    "#hide_input\n",
    "#plt.figure(figsize=(15, 8))\n",
    "#sns.heatmap(df_all_mrk[sum_corr].corr(), annot=True, cmap=\"BrBG\");\n",
    "#plt.savefig('corr_matrix_all.eps', format='eps')"
   ]
  },
  {
   "cell_type": "code",
   "execution_count": null,
   "id": "original-senator",
   "metadata": {
    "papermill": {
     "duration": 0.016407,
     "end_time": "2022-06-29T03:20:11.186983",
     "exception": false,
     "start_time": "2022-06-29T03:20:11.170576",
     "status": "completed"
    },
    "tags": []
   },
   "outputs": [],
   "source": []
  },
  {
   "cell_type": "code",
   "execution_count": null,
   "id": "saving-secretariat",
   "metadata": {
    "papermill": {
     "duration": 0.01735,
     "end_time": "2022-06-29T03:20:11.220629",
     "exception": false,
     "start_time": "2022-06-29T03:20:11.203279",
     "status": "completed"
    },
    "tags": []
   },
   "outputs": [],
   "source": []
  }
 ],
 "metadata": {
  "kernelspec": {
   "display_name": "Python 3",
   "language": "python",
   "name": "python3"
  },
  "language_info": {
   "codemirror_mode": {
    "name": "ipython",
    "version": 3
   },
   "file_extension": ".py",
   "mimetype": "text/x-python",
   "name": "python",
   "nbconvert_exporter": "python",
   "pygments_lexer": "ipython3",
   "version": "3.6.15"
  },
  "papermill": {
   "default_parameters": {},
   "duration": 21.906401,
   "end_time": "2022-06-29T03:20:11.857044",
   "environment_variables": {},
   "exception": null,
   "input_path": "App-Correlation_charts.ipynb",
   "output_path": "App-Correlation_charts.ipynb",
   "parameters": {},
   "start_time": "2022-06-29T03:19:49.950643",
   "version": "2.2.2"
  }
 },
 "nbformat": 4,
 "nbformat_minor": 5
}