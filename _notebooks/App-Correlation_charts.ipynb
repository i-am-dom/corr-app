{
 "cells": [
  {
   "cell_type": "markdown",
   "id": "touched-facility",
   "metadata": {
    "papermill": {
     "duration": 0.018258,
     "end_time": "2021-12-15T02:01:10.027014",
     "exception": false,
     "start_time": "2021-12-15T02:01:10.008756",
     "status": "completed"
    },
    "tags": []
   },
   "source": [
    "# Koreliacijų matrica\n",
    "> Išplėstinė koreliacijų matrica. \n",
    "\n",
    "- toc: true \n",
    "- badges: true\n",
    "- comments: false\n",
    "- categories: [Dominykas Tautkus]\n",
    "- image: images/matrix.png"
   ]
  },
  {
   "cell_type": "code",
   "execution_count": null,
   "id": "premium-weekend",
   "metadata": {
    "papermill": {
     "duration": 0.015511,
     "end_time": "2021-12-15T02:01:10.056309",
     "exception": false,
     "start_time": "2021-12-15T02:01:10.040798",
     "status": "completed"
    },
    "tags": []
   },
   "outputs": [],
   "source": []
  },
  {
   "cell_type": "code",
   "execution_count": 1,
   "id": "vertical-rebate",
   "metadata": {
    "execution": {
     "iopub.execute_input": "2021-12-15T02:01:10.093933Z",
     "iopub.status.busy": "2021-12-15T02:01:10.093313Z",
     "iopub.status.idle": "2021-12-15T02:01:10.106320Z",
     "shell.execute_reply": "2021-12-15T02:01:10.105319Z"
    },
    "papermill": {
     "duration": 0.037281,
     "end_time": "2021-12-15T02:01:10.106462",
     "exception": false,
     "start_time": "2021-12-15T02:01:10.069181",
     "status": "completed"
    },
    "tags": []
   },
   "outputs": [],
   "source": [
    "#hide\n",
    "%load_ext autoreload\n",
    "%autoreload 2"
   ]
  },
  {
   "cell_type": "code",
   "execution_count": 2,
   "id": "overall-advancement",
   "metadata": {
    "execution": {
     "iopub.execute_input": "2021-12-15T02:01:10.137146Z",
     "iopub.status.busy": "2021-12-15T02:01:10.136226Z",
     "iopub.status.idle": "2021-12-15T02:01:11.519938Z",
     "shell.execute_reply": "2021-12-15T02:01:11.518957Z"
    },
    "papermill": {
     "duration": 1.400583,
     "end_time": "2021-12-15T02:01:11.520079",
     "exception": false,
     "start_time": "2021-12-15T02:01:10.119496",
     "status": "completed"
    },
    "tags": []
   },
   "outputs": [],
   "source": [
    "#hide\n",
    "from scripts.read_data import read_api\n",
    "from IPython.display import HTML\n",
    "import plotly.graph_objects as go\n"
   ]
  },
  {
   "cell_type": "code",
   "execution_count": 3,
   "id": "light-crazy",
   "metadata": {
    "execution": {
     "iopub.execute_input": "2021-12-15T02:01:11.553238Z",
     "iopub.status.busy": "2021-12-15T02:01:11.552550Z",
     "iopub.status.idle": "2021-12-15T02:01:11.577419Z",
     "shell.execute_reply": "2021-12-15T02:01:11.577931Z"
    },
    "papermill": {
     "duration": 0.044055,
     "end_time": "2021-12-15T02:01:11.578092",
     "exception": false,
     "start_time": "2021-12-15T02:01:11.534037",
     "status": "completed"
    },
    "tags": []
   },
   "outputs": [],
   "source": [
    "#hide\n",
    "### ICO koreliacija"
   ]
  },
  {
   "cell_type": "code",
   "execution_count": 4,
   "id": "likely-bahrain",
   "metadata": {
    "execution": {
     "iopub.execute_input": "2021-12-15T02:01:11.608908Z",
     "iopub.status.busy": "2021-12-15T02:01:11.608222Z",
     "iopub.status.idle": "2021-12-15T02:01:12.635282Z",
     "shell.execute_reply": "2021-12-15T02:01:12.634600Z"
    },
    "papermill": {
     "duration": 1.043674,
     "end_time": "2021-12-15T02:01:12.635444",
     "exception": false,
     "start_time": "2021-12-15T02:01:11.591770",
     "status": "completed"
    },
    "tags": []
   },
   "outputs": [],
   "source": [
    "#hide\n",
    "import matplotlib.pyplot as plt\n",
    "import numpy as np\n",
    "import pandas as pd\n",
    "import seaborn as sns\n",
    "import matplotlib.pyplot as plt \n",
    "import matplotlib.dates as mdates\n",
    "import matplotlib.pyplot as plt"
   ]
  },
  {
   "cell_type": "code",
   "execution_count": 5,
   "id": "superior-blanket",
   "metadata": {
    "execution": {
     "iopub.execute_input": "2021-12-15T02:01:12.669087Z",
     "iopub.status.busy": "2021-12-15T02:01:12.667430Z",
     "iopub.status.idle": "2021-12-15T02:01:26.617350Z",
     "shell.execute_reply": "2021-12-15T02:01:26.617867Z"
    },
    "papermill": {
     "duration": 13.968749,
     "end_time": "2021-12-15T02:01:26.618038",
     "exception": false,
     "start_time": "2021-12-15T02:01:12.649289",
     "status": "completed"
    },
    "tags": []
   },
   "outputs": [
    {
     "name": "stderr",
     "output_type": "stream",
     "text": [
      "/home/runner/work/corr-app/corr-app/_notebooks/scripts/read_data.py:187: SettingWithCopyWarning:\n",
      "\n",
      "\n",
      "A value is trying to be set on a copy of a slice from a DataFrame.\n",
      "Try using .loc[row_indexer,col_indexer] = value instead\n",
      "\n",
      "See the caveats in the documentation: https://pandas.pydata.org/pandas-docs/stable/user_guide/indexing.html#returning-a-view-versus-a-copy\n",
      "\n"
     ]
    },
    {
     "name": "stderr",
     "output_type": "stream",
     "text": [
      "/home/runner/work/corr-app/corr-app/_notebooks/scripts/read_data.py:215: SettingWithCopyWarning:\n",
      "\n",
      "\n",
      "A value is trying to be set on a copy of a slice from a DataFrame.\n",
      "Try using .loc[row_indexer,col_indexer] = value instead\n",
      "\n",
      "See the caveats in the documentation: https://pandas.pydata.org/pandas-docs/stable/user_guide/indexing.html#returning-a-view-versus-a-copy\n",
      "\n"
     ]
    }
   ],
   "source": [
    "#hide\n",
    "df_all = read_api()\n",
    "#df_all = df_all.drop(['SP500', 'XAU', 'ETH', 'BTC'], axis=1)\n",
    "\n"
   ]
  },
  {
   "cell_type": "code",
   "execution_count": 6,
   "id": "mature-alert",
   "metadata": {
    "execution": {
     "iopub.execute_input": "2021-12-15T02:01:26.655736Z",
     "iopub.status.busy": "2021-12-15T02:01:26.654172Z",
     "iopub.status.idle": "2021-12-15T02:01:26.688329Z",
     "shell.execute_reply": "2021-12-15T02:01:26.687706Z"
    },
    "papermill": {
     "duration": 0.055513,
     "end_time": "2021-12-15T02:01:26.688466",
     "exception": false,
     "start_time": "2021-12-15T02:01:26.632953",
     "status": "completed"
    },
    "tags": []
   },
   "outputs": [],
   "source": [
    "#hide_input\n",
    "sum_corr = df_all.corr().sum().sort_values(ascending=True).index.values\n",
    "#df_all[sum_corr].corr()"
   ]
  },
  {
   "cell_type": "markdown",
   "id": "complex-syndicate",
   "metadata": {
    "papermill": {
     "duration": 0.013866,
     "end_time": "2021-12-15T02:01:26.717772",
     "exception": false,
     "start_time": "2021-12-15T02:01:26.703906",
     "status": "completed"
    },
    "tags": []
   },
   "source": [
    "## Išplėstinė koreliacijų matrica. "
   ]
  },
  {
   "cell_type": "code",
   "execution_count": 7,
   "id": "atomic-omaha",
   "metadata": {
    "execution": {
     "iopub.execute_input": "2021-12-15T02:01:26.750494Z",
     "iopub.status.busy": "2021-12-15T02:01:26.749853Z",
     "iopub.status.idle": "2021-12-15T02:01:28.485683Z",
     "shell.execute_reply": "2021-12-15T02:01:28.486455Z"
    },
    "papermill": {
     "duration": 1.75443,
     "end_time": "2021-12-15T02:01:28.486621",
     "exception": false,
     "start_time": "2021-12-15T02:01:26.732191",
     "status": "completed"
    },
    "tags": []
   },
   "outputs": [
    {
     "data": {
      "image/png": "[encoded data removed]",
      "text/plain": [
       "<Figure size 1080x792 with 2 Axes>"
      ]
     },
     "metadata": {
      "needs_background": "light"
     },
     "output_type": "display_data"
    }
   ],
   "source": [
    "#hide_input\n",
    "plt.figure(figsize=(15, 11))\n",
    "sns.heatmap(df_all[sum_corr].corr(), annot=True, cmap=\"cubehelix\") \n",
    "sns.set(font_scale=1.25)\n",
    "plt.savefig('corr_matrix.png', format='eps')"
   ]
  },
  {
   "cell_type": "code",
   "execution_count": 8,
   "id": "arbitrary-sullivan",
   "metadata": {
    "execution": {
     "iopub.execute_input": "2021-12-15T02:01:28.525741Z",
     "iopub.status.busy": "2021-12-15T02:01:28.523409Z",
     "iopub.status.idle": "2021-12-15T02:01:28.553637Z",
     "shell.execute_reply": "2021-12-15T02:01:28.553126Z"
    },
    "papermill": {
     "duration": 0.050858,
     "end_time": "2021-12-15T02:01:28.553757",
     "exception": false,
     "start_time": "2021-12-15T02:01:28.502899",
     "status": "completed"
    },
    "tags": []
   },
   "outputs": [],
   "source": [
    "#hide\n",
    "#df_all_mrk = read_api()"
   ]
  },
  {
   "cell_type": "code",
   "execution_count": 9,
   "id": "delayed-adapter",
   "metadata": {
    "execution": {
     "iopub.execute_input": "2021-12-15T02:01:28.602799Z",
     "iopub.status.busy": "2021-12-15T02:01:28.602141Z",
     "iopub.status.idle": "2021-12-15T02:01:28.623315Z",
     "shell.execute_reply": "2021-12-15T02:01:28.622746Z"
    },
    "papermill": {
     "duration": 0.054189,
     "end_time": "2021-12-15T02:01:28.623442",
     "exception": false,
     "start_time": "2021-12-15T02:01:28.569253",
     "status": "completed"
    },
    "tags": []
   },
   "outputs": [],
   "source": [
    "#hide\n",
    "#Koreliacijų koeficientai"
   ]
  },
  {
   "cell_type": "code",
   "execution_count": 10,
   "id": "seeing-celebration",
   "metadata": {
    "execution": {
     "iopub.execute_input": "2021-12-15T02:01:28.661018Z",
     "iopub.status.busy": "2021-12-15T02:01:28.659334Z",
     "iopub.status.idle": "2021-12-15T02:01:28.685969Z",
     "shell.execute_reply": "2021-12-15T02:01:28.686442Z"
    },
    "papermill": {
     "duration": 0.045999,
     "end_time": "2021-12-15T02:01:28.686566",
     "exception": false,
     "start_time": "2021-12-15T02:01:28.640567",
     "status": "completed"
    },
    "tags": []
   },
   "outputs": [],
   "source": [
    "#hide_input\n",
    "#sum_corr = df_all_mrk.corr().sum().sort_values(ascending=True).index.values\n",
    "#df_all_mrk[sum_corr].corr()"
   ]
  },
  {
   "cell_type": "code",
   "execution_count": 11,
   "id": "other-painting",
   "metadata": {
    "execution": {
     "iopub.execute_input": "2021-12-15T02:01:28.728889Z",
     "iopub.status.busy": "2021-12-15T02:01:28.728288Z",
     "iopub.status.idle": "2021-12-15T02:01:28.755083Z",
     "shell.execute_reply": "2021-12-15T02:01:28.754563Z"
    },
    "papermill": {
     "duration": 0.05014,
     "end_time": "2021-12-15T02:01:28.755265",
     "exception": false,
     "start_time": "2021-12-15T02:01:28.705125",
     "status": "completed"
    },
    "tags": []
   },
   "outputs": [],
   "source": [
    "#hide\n",
    "#Koreliacijos matrica. "
   ]
  },
  {
   "cell_type": "code",
   "execution_count": 12,
   "id": "modular-magnitude",
   "metadata": {
    "execution": {
     "iopub.execute_input": "2021-12-15T02:01:28.789934Z",
     "iopub.status.busy": "2021-12-15T02:01:28.789058Z",
     "iopub.status.idle": "2021-12-15T02:01:28.814826Z",
     "shell.execute_reply": "2021-12-15T02:01:28.814375Z"
    },
    "papermill": {
     "duration": 0.04457,
     "end_time": "2021-12-15T02:01:28.814936",
     "exception": false,
     "start_time": "2021-12-15T02:01:28.770366",
     "status": "completed"
    },
    "tags": []
   },
   "outputs": [],
   "source": [
    "#hide_input\n",
    "#plt.figure(figsize=(15, 8))\n",
    "#sns.heatmap(df_all_mrk[sum_corr].corr(), annot=True, cmap=\"BrBG\");\n",
    "#plt.savefig('corr_matrix_all.eps', format='eps')"
   ]
  },
  {
   "cell_type": "code",
   "execution_count": null,
   "id": "original-senator",
   "metadata": {
    "papermill": {
     "duration": 0.01561,
     "end_time": "2021-12-15T02:01:28.847301",
     "exception": false,
     "start_time": "2021-12-15T02:01:28.831691",
     "status": "completed"
    },
    "tags": []
   },
   "outputs": [],
   "source": []
  },
  {
   "cell_type": "code",
   "execution_count": null,
   "id": "saving-secretariat",
   "metadata": {
    "papermill": {
     "duration": 0.015757,
     "end_time": "2021-12-15T02:01:28.879183",
     "exception": false,
     "start_time": "2021-12-15T02:01:28.863426",
     "status": "completed"
    },
    "tags": []
   },
   "outputs": [],
   "source": []
  }
 ],
 "metadata": {
  "kernelspec": {
   "display_name": "Python 3",
   "language": "python",
   "name": "python3"
  },
  "language_info": {
   "codemirror_mode": {
    "name": "ipython",
    "version": 3
   },
   "file_extension": ".py",
   "mimetype": "text/x-python",
   "name": "python",
   "nbconvert_exporter": "python",
   "pygments_lexer": "ipython3",
   "version": "3.6.15"
  },
  "papermill": {
   "default_parameters": {},
   "duration": 20.686012,
   "end_time": "2021-12-15T02:01:29.403703",
   "environment_variables": {},
   "exception": null,
   "input_path": "App-Correlation_charts.ipynb",
   "output_path": "App-Correlation_charts.ipynb",
   "parameters": {},
   "start_time": "2021-12-15T02:01:08.717691",
   "version": "2.2.2"
  }
 },
 "nbformat": 4,
 "nbformat_minor": 5
}