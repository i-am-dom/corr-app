{
 "cells": [
  {
   "cell_type": "markdown",
   "id": "touched-facility",
   "metadata": {
    "papermill": {
     "duration": 0.019494,
     "end_time": "2022-04-05T02:37:36.279621",
     "exception": false,
     "start_time": "2022-04-05T02:37:36.260127",
     "status": "completed"
    },
    "tags": []
   },
   "source": [
    "# Koreliacijų matrica\n",
    "> Išplėstinė koreliacijų matrica. \n",
    "\n",
    "- toc: true \n",
    "- badges: true\n",
    "- comments: false\n",
    "- categories: [Dominykas Tautkus]\n",
    "- image: images/matrix.png"
   ]
  },
  {
   "cell_type": "code",
   "execution_count": null,
   "id": "premium-weekend",
   "metadata": {
    "papermill": {
     "duration": 0.01434,
     "end_time": "2022-04-05T02:37:36.309056",
     "exception": false,
     "start_time": "2022-04-05T02:37:36.294716",
     "status": "completed"
    },
    "tags": []
   },
   "outputs": [],
   "source": []
  },
  {
   "cell_type": "code",
   "execution_count": 1,
   "id": "vertical-rebate",
   "metadata": {
    "execution": {
     "iopub.execute_input": "2022-04-05T02:37:36.349738Z",
     "iopub.status.busy": "2022-04-05T02:37:36.349022Z",
     "iopub.status.idle": "2022-04-05T02:37:36.361420Z",
     "shell.execute_reply": "2022-04-05T02:37:36.361925Z"
    },
    "papermill": {
     "duration": 0.038976,
     "end_time": "2022-04-05T02:37:36.362098",
     "exception": false,
     "start_time": "2022-04-05T02:37:36.323122",
     "status": "completed"
    },
    "tags": []
   },
   "outputs": [],
   "source": [
    "#hide\n",
    "%load_ext autoreload\n",
    "%autoreload 2"
   ]
  },
  {
   "cell_type": "code",
   "execution_count": 2,
   "id": "overall-advancement",
   "metadata": {
    "execution": {
     "iopub.execute_input": "2022-04-05T02:37:36.395315Z",
     "iopub.status.busy": "2022-04-05T02:37:36.394619Z",
     "iopub.status.idle": "2022-04-05T02:37:37.944194Z",
     "shell.execute_reply": "2022-04-05T02:37:37.943282Z"
    },
    "papermill": {
     "duration": 1.568561,
     "end_time": "2022-04-05T02:37:37.944349",
     "exception": false,
     "start_time": "2022-04-05T02:37:36.375788",
     "status": "completed"
    },
    "tags": []
   },
   "outputs": [],
   "source": [
    "#hide\n",
    "from scripts.read_data import read_api\n",
    "from IPython.display import HTML\n",
    "import plotly.graph_objects as go\n"
   ]
  },
  {
   "cell_type": "code",
   "execution_count": 3,
   "id": "light-crazy",
   "metadata": {
    "execution": {
     "iopub.execute_input": "2022-04-05T02:37:37.979659Z",
     "iopub.status.busy": "2022-04-05T02:37:37.978976Z",
     "iopub.status.idle": "2022-04-05T02:37:38.006251Z",
     "shell.execute_reply": "2022-04-05T02:37:38.005393Z"
    },
    "papermill": {
     "duration": 0.04662,
     "end_time": "2022-04-05T02:37:38.006389",
     "exception": false,
     "start_time": "2022-04-05T02:37:37.959769",
     "status": "completed"
    },
    "tags": []
   },
   "outputs": [],
   "source": [
    "#hide\n",
    "### ICO koreliacija"
   ]
  },
  {
   "cell_type": "code",
   "execution_count": 4,
   "id": "likely-bahrain",
   "metadata": {
    "execution": {
     "iopub.execute_input": "2022-04-05T02:37:38.045092Z",
     "iopub.status.busy": "2022-04-05T02:37:38.044361Z",
     "iopub.status.idle": "2022-04-05T02:37:39.193203Z",
     "shell.execute_reply": "2022-04-05T02:37:39.193813Z"
    },
    "papermill": {
     "duration": 1.171742,
     "end_time": "2022-04-05T02:37:39.194130",
     "exception": false,
     "start_time": "2022-04-05T02:37:38.022388",
     "status": "completed"
    },
    "tags": []
   },
   "outputs": [],
   "source": [
    "#hide\n",
    "import matplotlib.pyplot as plt\n",
    "import numpy as np\n",
    "import pandas as pd\n",
    "import seaborn as sns\n",
    "import matplotlib.pyplot as plt \n",
    "import matplotlib.dates as mdates\n",
    "import matplotlib.pyplot as plt"
   ]
  },
  {
   "cell_type": "code",
   "execution_count": 5,
   "id": "superior-blanket",
   "metadata": {
    "execution": {
     "iopub.execute_input": "2022-04-05T02:37:39.234595Z",
     "iopub.status.busy": "2022-04-05T02:37:39.233695Z",
     "iopub.status.idle": "2022-04-05T02:37:48.784412Z",
     "shell.execute_reply": "2022-04-05T02:37:48.784982Z"
    },
    "papermill": {
     "duration": 9.57351,
     "end_time": "2022-04-05T02:37:48.785169",
     "exception": false,
     "start_time": "2022-04-05T02:37:39.211659",
     "status": "completed"
    },
    "tags": []
   },
   "outputs": [
    {
     "name": "stderr",
     "output_type": "stream",
     "text": [
      "/home/runner/work/corr-app/corr-app/_notebooks/scripts/read_data.py:187: SettingWithCopyWarning:\n",
      "\n",
      "\n",
      "A value is trying to be set on a copy of a slice from a DataFrame.\n",
      "Try using .loc[row_indexer,col_indexer] = value instead\n",
      "\n",
      "See the caveats in the documentation: https://pandas.pydata.org/pandas-docs/stable/user_guide/indexing.html#returning-a-view-versus-a-copy\n",
      "\n"
     ]
    },
    {
     "name": "stderr",
     "output_type": "stream",
     "text": [
      "/home/runner/work/corr-app/corr-app/_notebooks/scripts/read_data.py:215: SettingWithCopyWarning:\n",
      "\n",
      "\n",
      "A value is trying to be set on a copy of a slice from a DataFrame.\n",
      "Try using .loc[row_indexer,col_indexer] = value instead\n",
      "\n",
      "See the caveats in the documentation: https://pandas.pydata.org/pandas-docs/stable/user_guide/indexing.html#returning-a-view-versus-a-copy\n",
      "\n"
     ]
    }
   ],
   "source": [
    "#hide\n",
    "df_all = read_api()\n",
    "#df_all = df_all.drop(['SP500', 'XAU', 'ETH', 'BTC'], axis=1)\n",
    "\n"
   ]
  },
  {
   "cell_type": "code",
   "execution_count": 6,
   "id": "mature-alert",
   "metadata": {
    "execution": {
     "iopub.execute_input": "2022-04-05T02:37:48.822092Z",
     "iopub.status.busy": "2022-04-05T02:37:48.821350Z",
     "iopub.status.idle": "2022-04-05T02:37:48.857276Z",
     "shell.execute_reply": "2022-04-05T02:37:48.856597Z"
    },
    "papermill": {
     "duration": 0.055782,
     "end_time": "2022-04-05T02:37:48.857414",
     "exception": false,
     "start_time": "2022-04-05T02:37:48.801632",
     "status": "completed"
    },
    "tags": []
   },
   "outputs": [],
   "source": [
    "#hide_input\n",
    "sum_corr = df_all.corr().sum().sort_values(ascending=True).index.values\n",
    "#df_all[sum_corr].corr()"
   ]
  },
  {
   "cell_type": "markdown",
   "id": "complex-syndicate",
   "metadata": {
    "papermill": {
     "duration": 0.014862,
     "end_time": "2022-04-05T02:37:48.887597",
     "exception": false,
     "start_time": "2022-04-05T02:37:48.872735",
     "status": "completed"
    },
    "tags": []
   },
   "source": [
    "## Išplėstinė koreliacijų matrica. "
   ]
  },
  {
   "cell_type": "code",
   "execution_count": 7,
   "id": "atomic-omaha",
   "metadata": {
    "execution": {
     "iopub.execute_input": "2022-04-05T02:37:48.925218Z",
     "iopub.status.busy": "2022-04-05T02:37:48.924499Z",
     "iopub.status.idle": "2022-04-05T02:37:50.752533Z",
     "shell.execute_reply": "2022-04-05T02:37:50.753113Z"
    },
    "papermill": {
     "duration": 1.848387,
     "end_time": "2022-04-05T02:37:50.753307",
     "exception": false,
     "start_time": "2022-04-05T02:37:48.904920",
     "status": "completed"
    },
    "tags": []
   },
   "outputs": [
    {
     "data": {
      "image/png": "[encoded data removed]",
      "text/plain": [
       "<Figure size 1080x792 with 2 Axes>"
      ]
     },
     "metadata": {
      "needs_background": "light"
     },
     "output_type": "display_data"
    }
   ],
   "source": [
    "#hide_input\n",
    "plt.figure(figsize=(15, 11))\n",
    "sns.heatmap(df_all[sum_corr].corr(), annot=True, cmap=\"cubehelix\") \n",
    "sns.set(font_scale=1.25)\n",
    "plt.savefig('corr_matrix.png', format='eps')"
   ]
  },
  {
   "cell_type": "code",
   "execution_count": 8,
   "id": "arbitrary-sullivan",
   "metadata": {
    "execution": {
     "iopub.execute_input": "2022-04-05T02:37:50.792216Z",
     "iopub.status.busy": "2022-04-05T02:37:50.791402Z",
     "iopub.status.idle": "2022-04-05T02:37:50.826531Z",
     "shell.execute_reply": "2022-04-05T02:37:50.825725Z"
    },
    "papermill": {
     "duration": 0.055667,
     "end_time": "2022-04-05T02:37:50.826756",
     "exception": false,
     "start_time": "2022-04-05T02:37:50.771089",
     "status": "completed"
    },
    "tags": []
   },
   "outputs": [],
   "source": [
    "#hide\n",
    "#df_all_mrk = read_api()"
   ]
  },
  {
   "cell_type": "code",
   "execution_count": 9,
   "id": "delayed-adapter",
   "metadata": {
    "execution": {
     "iopub.execute_input": "2022-04-05T02:37:50.867087Z",
     "iopub.status.busy": "2022-04-05T02:37:50.866331Z",
     "iopub.status.idle": "2022-04-05T02:37:50.897391Z",
     "shell.execute_reply": "2022-04-05T02:37:50.897910Z"
    },
    "papermill": {
     "duration": 0.052134,
     "end_time": "2022-04-05T02:37:50.898060",
     "exception": false,
     "start_time": "2022-04-05T02:37:50.845926",
     "status": "completed"
    },
    "tags": []
   },
   "outputs": [],
   "source": [
    "#hide\n",
    "#Koreliacijų koeficientai"
   ]
  },
  {
   "cell_type": "code",
   "execution_count": 10,
   "id": "seeing-celebration",
   "metadata": {
    "execution": {
     "iopub.execute_input": "2022-04-05T02:37:50.936172Z",
     "iopub.status.busy": "2022-04-05T02:37:50.935507Z",
     "iopub.status.idle": "2022-04-05T02:37:50.968048Z",
     "shell.execute_reply": "2022-04-05T02:37:50.968630Z"
    },
    "papermill": {
     "duration": 0.053154,
     "end_time": "2022-04-05T02:37:50.968813",
     "exception": false,
     "start_time": "2022-04-05T02:37:50.915659",
     "status": "completed"
    },
    "tags": []
   },
   "outputs": [],
   "source": [
    "#hide_input\n",
    "#sum_corr = df_all_mrk.corr().sum().sort_values(ascending=True).index.values\n",
    "#df_all_mrk[sum_corr].corr()"
   ]
  },
  {
   "cell_type": "code",
   "execution_count": 11,
   "id": "other-painting",
   "metadata": {
    "execution": {
     "iopub.execute_input": "2022-04-05T02:37:51.007181Z",
     "iopub.status.busy": "2022-04-05T02:37:51.006416Z",
     "iopub.status.idle": "2022-04-05T02:37:51.035202Z",
     "shell.execute_reply": "2022-04-05T02:37:51.035718Z"
    },
    "papermill": {
     "duration": 0.049514,
     "end_time": "2022-04-05T02:37:51.035864",
     "exception": false,
     "start_time": "2022-04-05T02:37:50.986350",
     "status": "completed"
    },
    "tags": []
   },
   "outputs": [],
   "source": [
    "#hide\n",
    "#Koreliacijos matrica. "
   ]
  },
  {
   "cell_type": "code",
   "execution_count": 12,
   "id": "modular-magnitude",
   "metadata": {
    "execution": {
     "iopub.execute_input": "2022-04-05T02:37:51.076408Z",
     "iopub.status.busy": "2022-04-05T02:37:51.075720Z",
     "iopub.status.idle": "2022-04-05T02:37:51.109346Z",
     "shell.execute_reply": "2022-04-05T02:37:51.108733Z"
    },
    "papermill": {
     "duration": 0.054874,
     "end_time": "2022-04-05T02:37:51.109559",
     "exception": false,
     "start_time": "2022-04-05T02:37:51.054685",
     "status": "completed"
    },
    "tags": []
   },
   "outputs": [],
   "source": [
    "#hide_input\n",
    "#plt.figure(figsize=(15, 8))\n",
    "#sns.heatmap(df_all_mrk[sum_corr].corr(), annot=True, cmap=\"BrBG\");\n",
    "#plt.savefig('corr_matrix_all.eps', format='eps')"
   ]
  },
  {
   "cell_type": "code",
   "execution_count": null,
   "id": "original-senator",
   "metadata": {
    "papermill": {
     "duration": 0.022221,
     "end_time": "2022-04-05T02:37:51.152313",
     "exception": false,
     "start_time": "2022-04-05T02:37:51.130092",
     "status": "completed"
    },
    "tags": []
   },
   "outputs": [],
   "source": []
  },
  {
   "cell_type": "code",
   "execution_count": null,
   "id": "saving-secretariat",
   "metadata": {
    "papermill": {
     "duration": 0.02146,
     "end_time": "2022-04-05T02:37:51.197755",
     "exception": false,
     "start_time": "2022-04-05T02:37:51.176295",
     "status": "completed"
    },
    "tags": []
   },
   "outputs": [],
   "source": []
  }
 ],
 "metadata": {
  "kernelspec": {
   "display_name": "Python 3",
   "language": "python",
   "name": "python3"
  },
  "language_info": {
   "codemirror_mode": {
    "name": "ipython",
    "version": 3
   },
   "file_extension": ".py",
   "mimetype": "text/x-python",
   "name": "python",
   "nbconvert_exporter": "python",
   "pygments_lexer": "ipython3",
   "version": "3.6.15"
  },
  "papermill": {
   "default_parameters": {},
   "duration": 16.825419,
   "end_time": "2022-04-05T02:37:51.735814",
   "environment_variables": {},
   "exception": null,
   "input_path": "App-Correlation_charts.ipynb",
   "output_path": "App-Correlation_charts.ipynb",
   "parameters": {},
   "start_time": "2022-04-05T02:37:34.910395",
   "version": "2.2.2"
  }
 },
 "nbformat": 4,
 "nbformat_minor": 5
}