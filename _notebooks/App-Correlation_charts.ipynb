{
 "cells": [
  {
   "cell_type": "markdown",
   "id": "touched-facility",
   "metadata": {
    "papermill": {
     "duration": 0.016136,
     "end_time": "2022-10-10T03:38:46.401608",
     "exception": false,
     "start_time": "2022-10-10T03:38:46.385472",
     "status": "completed"
    },
    "tags": []
   },
   "source": [
    "# Koreliacijų matrica\n",
    "> Išplėstinė koreliacijų matrica. \n",
    "\n",
    "- toc: true \n",
    "- badges: true\n",
    "- comments: false\n",
    "- categories: [Dominykas Tautkus]\n",
    "- image: images/matrix.png"
   ]
  },
  {
   "cell_type": "code",
   "execution_count": null,
   "id": "premium-weekend",
   "metadata": {
    "papermill": {
     "duration": 0.012255,
     "end_time": "2022-10-10T03:38:46.426613",
     "exception": false,
     "start_time": "2022-10-10T03:38:46.414358",
     "status": "completed"
    },
    "tags": []
   },
   "outputs": [],
   "source": []
  },
  {
   "cell_type": "code",
   "execution_count": 1,
   "id": "vertical-rebate",
   "metadata": {
    "execution": {
     "iopub.execute_input": "2022-10-10T03:38:46.463306Z",
     "iopub.status.busy": "2022-10-10T03:38:46.462423Z",
     "iopub.status.idle": "2022-10-10T03:38:46.474570Z",
     "shell.execute_reply": "2022-10-10T03:38:46.473972Z"
    },
    "papermill": {
     "duration": 0.036041,
     "end_time": "2022-10-10T03:38:46.474715",
     "exception": false,
     "start_time": "2022-10-10T03:38:46.438674",
     "status": "completed"
    },
    "tags": []
   },
   "outputs": [],
   "source": [
    "#hide\n",
    "%load_ext autoreload\n",
    "%autoreload 2"
   ]
  },
  {
   "cell_type": "code",
   "execution_count": 2,
   "id": "overall-advancement",
   "metadata": {
    "execution": {
     "iopub.execute_input": "2022-10-10T03:38:46.503436Z",
     "iopub.status.busy": "2022-10-10T03:38:46.502769Z",
     "iopub.status.idle": "2022-10-10T03:38:48.053782Z",
     "shell.execute_reply": "2022-10-10T03:38:48.053155Z"
    },
    "papermill": {
     "duration": 1.567266,
     "end_time": "2022-10-10T03:38:48.053928",
     "exception": false,
     "start_time": "2022-10-10T03:38:46.486662",
     "status": "completed"
    },
    "tags": []
   },
   "outputs": [],
   "source": [
    "#hide\n",
    "from scripts.read_data import read_api\n",
    "from IPython.display import HTML\n",
    "import plotly.graph_objects as go\n"
   ]
  },
  {
   "cell_type": "code",
   "execution_count": 3,
   "id": "light-crazy",
   "metadata": {
    "execution": {
     "iopub.execute_input": "2022-10-10T03:38:48.087397Z",
     "iopub.status.busy": "2022-10-10T03:38:48.085746Z",
     "iopub.status.idle": "2022-10-10T03:38:48.110906Z",
     "shell.execute_reply": "2022-10-10T03:38:48.111436Z"
    },
    "papermill": {
     "duration": 0.043258,
     "end_time": "2022-10-10T03:38:48.111601",
     "exception": false,
     "start_time": "2022-10-10T03:38:48.068343",
     "status": "completed"
    },
    "tags": []
   },
   "outputs": [],
   "source": [
    "#hide\n",
    "### ICO koreliacija"
   ]
  },
  {
   "cell_type": "code",
   "execution_count": 4,
   "id": "likely-bahrain",
   "metadata": {
    "execution": {
     "iopub.execute_input": "2022-10-10T03:38:48.141311Z",
     "iopub.status.busy": "2022-10-10T03:38:48.140625Z",
     "iopub.status.idle": "2022-10-10T03:38:49.106106Z",
     "shell.execute_reply": "2022-10-10T03:38:49.105423Z"
    },
    "papermill": {
     "duration": 0.982402,
     "end_time": "2022-10-10T03:38:49.106259",
     "exception": false,
     "start_time": "2022-10-10T03:38:48.123857",
     "status": "completed"
    },
    "tags": []
   },
   "outputs": [],
   "source": [
    "#hide\n",
    "import matplotlib.pyplot as plt\n",
    "import numpy as np\n",
    "import pandas as pd\n",
    "import seaborn as sns\n",
    "import matplotlib.pyplot as plt \n",
    "import matplotlib.dates as mdates\n",
    "import matplotlib.pyplot as plt"
   ]
  },
  {
   "cell_type": "code",
   "execution_count": 5,
   "id": "superior-blanket",
   "metadata": {
    "execution": {
     "iopub.execute_input": "2022-10-10T03:38:49.135222Z",
     "iopub.status.busy": "2022-10-10T03:38:49.134518Z",
     "iopub.status.idle": "2022-10-10T03:39:04.050175Z",
     "shell.execute_reply": "2022-10-10T03:39:04.049364Z"
    },
    "papermill": {
     "duration": 14.93166,
     "end_time": "2022-10-10T03:39:04.050364",
     "exception": false,
     "start_time": "2022-10-10T03:38:49.118704",
     "status": "completed"
    },
    "tags": []
   },
   "outputs": [
    {
     "name": "stderr",
     "output_type": "stream",
     "text": [
      "/home/runner/work/corr-app/corr-app/_notebooks/scripts/read_data.py:187: SettingWithCopyWarning:\n",
      "\n",
      "\n",
      "A value is trying to be set on a copy of a slice from a DataFrame.\n",
      "Try using .loc[row_indexer,col_indexer] = value instead\n",
      "\n",
      "See the caveats in the documentation: https://pandas.pydata.org/pandas-docs/stable/user_guide/indexing.html#returning-a-view-versus-a-copy\n",
      "\n"
     ]
    },
    {
     "name": "stderr",
     "output_type": "stream",
     "text": [
      "/home/runner/work/corr-app/corr-app/_notebooks/scripts/read_data.py:215: SettingWithCopyWarning:\n",
      "\n",
      "\n",
      "A value is trying to be set on a copy of a slice from a DataFrame.\n",
      "Try using .loc[row_indexer,col_indexer] = value instead\n",
      "\n",
      "See the caveats in the documentation: https://pandas.pydata.org/pandas-docs/stable/user_guide/indexing.html#returning-a-view-versus-a-copy\n",
      "\n"
     ]
    }
   ],
   "source": [
    "#hide\n",
    "df_all = read_api()\n",
    "#df_all = df_all.drop(['SP500', 'XAU', 'ETH', 'BTC'], axis=1)\n",
    "\n"
   ]
  },
  {
   "cell_type": "code",
   "execution_count": 6,
   "id": "mature-alert",
   "metadata": {
    "execution": {
     "iopub.execute_input": "2022-10-10T03:39:04.085308Z",
     "iopub.status.busy": "2022-10-10T03:39:04.084625Z",
     "iopub.status.idle": "2022-10-10T03:39:04.127664Z",
     "shell.execute_reply": "2022-10-10T03:39:04.126708Z"
    },
    "papermill": {
     "duration": 0.061145,
     "end_time": "2022-10-10T03:39:04.127884",
     "exception": false,
     "start_time": "2022-10-10T03:39:04.066739",
     "status": "completed"
    },
    "tags": []
   },
   "outputs": [],
   "source": [
    "#hide_input\n",
    "sum_corr = df_all.corr().sum().sort_values(ascending=True).index.values\n",
    "#df_all[sum_corr].corr()"
   ]
  },
  {
   "cell_type": "markdown",
   "id": "complex-syndicate",
   "metadata": {
    "papermill": {
     "duration": 0.012629,
     "end_time": "2022-10-10T03:39:04.154061",
     "exception": false,
     "start_time": "2022-10-10T03:39:04.141432",
     "status": "completed"
    },
    "tags": []
   },
   "source": [
    "## Išplėstinė koreliacijų matrica. "
   ]
  },
  {
   "cell_type": "code",
   "execution_count": 7,
   "id": "atomic-omaha",
   "metadata": {
    "execution": {
     "iopub.execute_input": "2022-10-10T03:39:04.187179Z",
     "iopub.status.busy": "2022-10-10T03:39:04.186495Z",
     "iopub.status.idle": "2022-10-10T03:39:05.597736Z",
     "shell.execute_reply": "2022-10-10T03:39:05.597181Z"
    },
    "papermill": {
     "duration": 1.430905,
     "end_time": "2022-10-10T03:39:05.597876",
     "exception": false,
     "start_time": "2022-10-10T03:39:04.166971",
     "status": "completed"
    },
    "tags": []
   },
   "outputs": [
    {
     "data": {
      "image/png": "[encoded data removed]",
      "text/plain": [
       "<Figure size 1080x792 with 2 Axes>"
      ]
     },
     "metadata": {
      "needs_background": "light"
     },
     "output_type": "display_data"
    }
   ],
   "source": [
    "#hide_input\n",
    "plt.figure(figsize=(15, 11))\n",
    "sns.heatmap(df_all[sum_corr].corr(), annot=True, cmap=\"cubehelix\") \n",
    "sns.set(font_scale=1.25)\n",
    "plt.savefig('corr_matrix.png', format='eps')"
   ]
  },
  {
   "cell_type": "code",
   "execution_count": 8,
   "id": "arbitrary-sullivan",
   "metadata": {
    "execution": {
     "iopub.execute_input": "2022-10-10T03:39:05.636173Z",
     "iopub.status.busy": "2022-10-10T03:39:05.633210Z",
     "iopub.status.idle": "2022-10-10T03:39:05.664380Z",
     "shell.execute_reply": "2022-10-10T03:39:05.663575Z"
    },
    "papermill": {
     "duration": 0.051554,
     "end_time": "2022-10-10T03:39:05.664530",
     "exception": false,
     "start_time": "2022-10-10T03:39:05.612976",
     "status": "completed"
    },
    "tags": []
   },
   "outputs": [],
   "source": [
    "#hide\n",
    "#df_all_mrk = read_api()"
   ]
  },
  {
   "cell_type": "code",
   "execution_count": 9,
   "id": "delayed-adapter",
   "metadata": {
    "execution": {
     "iopub.execute_input": "2022-10-10T03:39:05.699195Z",
     "iopub.status.busy": "2022-10-10T03:39:05.698513Z",
     "iopub.status.idle": "2022-10-10T03:39:05.730561Z",
     "shell.execute_reply": "2022-10-10T03:39:05.731101Z"
    },
    "papermill": {
     "duration": 0.051678,
     "end_time": "2022-10-10T03:39:05.731261",
     "exception": false,
     "start_time": "2022-10-10T03:39:05.679583",
     "status": "completed"
    },
    "tags": []
   },
   "outputs": [],
   "source": [
    "#hide\n",
    "#Koreliacijų koeficientai"
   ]
  },
  {
   "cell_type": "code",
   "execution_count": 10,
   "id": "seeing-celebration",
   "metadata": {
    "execution": {
     "iopub.execute_input": "2022-10-10T03:39:05.765515Z",
     "iopub.status.busy": "2022-10-10T03:39:05.764835Z",
     "iopub.status.idle": "2022-10-10T03:39:05.796659Z",
     "shell.execute_reply": "2022-10-10T03:39:05.795669Z"
    },
    "papermill": {
     "duration": 0.050283,
     "end_time": "2022-10-10T03:39:05.796871",
     "exception": false,
     "start_time": "2022-10-10T03:39:05.746588",
     "status": "completed"
    },
    "tags": []
   },
   "outputs": [],
   "source": [
    "#hide_input\n",
    "#sum_corr = df_all_mrk.corr().sum().sort_values(ascending=True).index.values\n",
    "#df_all_mrk[sum_corr].corr()"
   ]
  },
  {
   "cell_type": "code",
   "execution_count": 11,
   "id": "other-painting",
   "metadata": {
    "execution": {
     "iopub.execute_input": "2022-10-10T03:39:05.835338Z",
     "iopub.status.busy": "2022-10-10T03:39:05.834540Z",
     "iopub.status.idle": "2022-10-10T03:39:05.867260Z",
     "shell.execute_reply": "2022-10-10T03:39:05.866459Z"
    },
    "papermill": {
     "duration": 0.053462,
     "end_time": "2022-10-10T03:39:05.867394",
     "exception": false,
     "start_time": "2022-10-10T03:39:05.813932",
     "status": "completed"
    },
    "tags": []
   },
   "outputs": [],
   "source": [
    "#hide\n",
    "#Koreliacijos matrica. "
   ]
  },
  {
   "cell_type": "code",
   "execution_count": 12,
   "id": "modular-magnitude",
   "metadata": {
    "execution": {
     "iopub.execute_input": "2022-10-10T03:39:05.905361Z",
     "iopub.status.busy": "2022-10-10T03:39:05.904286Z",
     "iopub.status.idle": "2022-10-10T03:39:05.937811Z",
     "shell.execute_reply": "2022-10-10T03:39:05.936846Z"
    },
    "papermill": {
     "duration": 0.054677,
     "end_time": "2022-10-10T03:39:05.937950",
     "exception": false,
     "start_time": "2022-10-10T03:39:05.883273",
     "status": "completed"
    },
    "tags": []
   },
   "outputs": [],
   "source": [
    "#hide_input\n",
    "#plt.figure(figsize=(15, 8))\n",
    "#sns.heatmap(df_all_mrk[sum_corr].corr(), annot=True, cmap=\"BrBG\");\n",
    "#plt.savefig('corr_matrix_all.eps', format='eps')"
   ]
  },
  {
   "cell_type": "code",
   "execution_count": null,
   "id": "original-senator",
   "metadata": {
    "papermill": {
     "duration": 0.015034,
     "end_time": "2022-10-10T03:39:05.968197",
     "exception": false,
     "start_time": "2022-10-10T03:39:05.953163",
     "status": "completed"
    },
    "tags": []
   },
   "outputs": [],
   "source": []
  },
  {
   "cell_type": "code",
   "execution_count": null,
   "id": "saving-secretariat",
   "metadata": {
    "papermill": {
     "duration": 0.014998,
     "end_time": "2022-10-10T03:39:05.998373",
     "exception": false,
     "start_time": "2022-10-10T03:39:05.983375",
     "status": "completed"
    },
    "tags": []
   },
   "outputs": [],
   "source": []
  }
 ],
 "metadata": {
  "kernelspec": {
   "display_name": "Python 3",
   "language": "python",
   "name": "python3"
  },
  "language_info": {
   "codemirror_mode": {
    "name": "ipython",
    "version": 3
   },
   "file_extension": ".py",
   "mimetype": "text/x-python",
   "name": "python",
   "nbconvert_exporter": "python",
   "pygments_lexer": "ipython3",
   "version": "3.6.15"
  },
  "papermill": {
   "default_parameters": {},
   "duration": 21.540056,
   "end_time": "2022-10-10T03:39:06.635303",
   "environment_variables": {},
   "exception": null,
   "input_path": "App-Correlation_charts.ipynb",
   "output_path": "App-Correlation_charts.ipynb",
   "parameters": {},
   "start_time": "2022-10-10T03:38:45.095247",
   "version": "2.2.2"
  }
 },
 "nbformat": 4,
 "nbformat_minor": 5
}