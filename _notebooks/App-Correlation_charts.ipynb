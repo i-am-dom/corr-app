{
 "cells": [
  {
   "cell_type": "markdown",
   "id": "touched-facility",
   "metadata": {
    "papermill": {
     "duration": 0.014698,
     "end_time": "2022-08-08T03:10:06.098239",
     "exception": false,
     "start_time": "2022-08-08T03:10:06.083541",
     "status": "completed"
    },
    "tags": []
   },
   "source": [
    "# Koreliacijų matrica\n",
    "> Išplėstinė koreliacijų matrica. \n",
    "\n",
    "- toc: true \n",
    "- badges: true\n",
    "- comments: false\n",
    "- categories: [Dominykas Tautkus]\n",
    "- image: images/matrix.png"
   ]
  },
  {
   "cell_type": "code",
   "execution_count": null,
   "id": "premium-weekend",
   "metadata": {
    "papermill": {
     "duration": 0.010678,
     "end_time": "2022-08-08T03:10:06.120349",
     "exception": false,
     "start_time": "2022-08-08T03:10:06.109671",
     "status": "completed"
    },
    "tags": []
   },
   "outputs": [],
   "source": []
  },
  {
   "cell_type": "code",
   "execution_count": 1,
   "id": "vertical-rebate",
   "metadata": {
    "execution": {
     "iopub.execute_input": "2022-08-08T03:10:06.152451Z",
     "iopub.status.busy": "2022-08-08T03:10:06.151767Z",
     "iopub.status.idle": "2022-08-08T03:10:06.162020Z",
     "shell.execute_reply": "2022-08-08T03:10:06.162451Z"
    },
    "papermill": {
     "duration": 0.031565,
     "end_time": "2022-08-08T03:10:06.162590",
     "exception": false,
     "start_time": "2022-08-08T03:10:06.131025",
     "status": "completed"
    },
    "tags": []
   },
   "outputs": [],
   "source": [
    "#hide\n",
    "%load_ext autoreload\n",
    "%autoreload 2"
   ]
  },
  {
   "cell_type": "code",
   "execution_count": 2,
   "id": "overall-advancement",
   "metadata": {
    "execution": {
     "iopub.execute_input": "2022-08-08T03:10:06.187810Z",
     "iopub.status.busy": "2022-08-08T03:10:06.187155Z",
     "iopub.status.idle": "2022-08-08T03:10:07.420755Z",
     "shell.execute_reply": "2022-08-08T03:10:07.421249Z"
    },
    "papermill": {
     "duration": 1.248198,
     "end_time": "2022-08-08T03:10:07.421408",
     "exception": false,
     "start_time": "2022-08-08T03:10:06.173210",
     "status": "completed"
    },
    "tags": []
   },
   "outputs": [],
   "source": [
    "#hide\n",
    "from scripts.read_data import read_api\n",
    "from IPython.display import HTML\n",
    "import plotly.graph_objects as go\n"
   ]
  },
  {
   "cell_type": "code",
   "execution_count": 3,
   "id": "light-crazy",
   "metadata": {
    "execution": {
     "iopub.execute_input": "2022-08-08T03:10:07.452710Z",
     "iopub.status.busy": "2022-08-08T03:10:07.450707Z",
     "iopub.status.idle": "2022-08-08T03:10:07.473062Z",
     "shell.execute_reply": "2022-08-08T03:10:07.472524Z"
    },
    "papermill": {
     "duration": 0.040416,
     "end_time": "2022-08-08T03:10:07.473186",
     "exception": false,
     "start_time": "2022-08-08T03:10:07.432770",
     "status": "completed"
    },
    "tags": []
   },
   "outputs": [],
   "source": [
    "#hide\n",
    "### ICO koreliacija"
   ]
  },
  {
   "cell_type": "code",
   "execution_count": 4,
   "id": "likely-bahrain",
   "metadata": {
    "execution": {
     "iopub.execute_input": "2022-08-08T03:10:07.513918Z",
     "iopub.status.busy": "2022-08-08T03:10:07.498450Z",
     "iopub.status.idle": "2022-08-08T03:10:08.349904Z",
     "shell.execute_reply": "2022-08-08T03:10:08.348923Z"
    },
    "papermill": {
     "duration": 0.865978,
     "end_time": "2022-08-08T03:10:08.350050",
     "exception": false,
     "start_time": "2022-08-08T03:10:07.484072",
     "status": "completed"
    },
    "tags": []
   },
   "outputs": [],
   "source": [
    "#hide\n",
    "import matplotlib.pyplot as plt\n",
    "import numpy as np\n",
    "import pandas as pd\n",
    "import seaborn as sns\n",
    "import matplotlib.pyplot as plt \n",
    "import matplotlib.dates as mdates\n",
    "import matplotlib.pyplot as plt"
   ]
  },
  {
   "cell_type": "code",
   "execution_count": 5,
   "id": "superior-blanket",
   "metadata": {
    "execution": {
     "iopub.execute_input": "2022-08-08T03:10:08.377221Z",
     "iopub.status.busy": "2022-08-08T03:10:08.376392Z",
     "iopub.status.idle": "2022-08-08T03:10:20.771197Z",
     "shell.execute_reply": "2022-08-08T03:10:20.770308Z"
    },
    "papermill": {
     "duration": 12.409922,
     "end_time": "2022-08-08T03:10:20.771326",
     "exception": false,
     "start_time": "2022-08-08T03:10:08.361404",
     "status": "completed"
    },
    "tags": []
   },
   "outputs": [
    {
     "name": "stderr",
     "output_type": "stream",
     "text": [
      "/home/runner/work/corr-app/corr-app/_notebooks/scripts/read_data.py:187: SettingWithCopyWarning:\n",
      "\n",
      "\n",
      "A value is trying to be set on a copy of a slice from a DataFrame.\n",
      "Try using .loc[row_indexer,col_indexer] = value instead\n",
      "\n",
      "See the caveats in the documentation: https://pandas.pydata.org/pandas-docs/stable/user_guide/indexing.html#returning-a-view-versus-a-copy\n",
      "\n"
     ]
    },
    {
     "name": "stderr",
     "output_type": "stream",
     "text": [
      "/home/runner/work/corr-app/corr-app/_notebooks/scripts/read_data.py:215: SettingWithCopyWarning:\n",
      "\n",
      "\n",
      "A value is trying to be set on a copy of a slice from a DataFrame.\n",
      "Try using .loc[row_indexer,col_indexer] = value instead\n",
      "\n",
      "See the caveats in the documentation: https://pandas.pydata.org/pandas-docs/stable/user_guide/indexing.html#returning-a-view-versus-a-copy\n",
      "\n"
     ]
    }
   ],
   "source": [
    "#hide\n",
    "df_all = read_api()\n",
    "#df_all = df_all.drop(['SP500', 'XAU', 'ETH', 'BTC'], axis=1)\n",
    "\n"
   ]
  },
  {
   "cell_type": "code",
   "execution_count": 6,
   "id": "mature-alert",
   "metadata": {
    "execution": {
     "iopub.execute_input": "2022-08-08T03:10:20.800348Z",
     "iopub.status.busy": "2022-08-08T03:10:20.799741Z",
     "iopub.status.idle": "2022-08-08T03:10:20.830732Z",
     "shell.execute_reply": "2022-08-08T03:10:20.830122Z"
    },
    "papermill": {
     "duration": 0.046723,
     "end_time": "2022-08-08T03:10:20.830862",
     "exception": false,
     "start_time": "2022-08-08T03:10:20.784139",
     "status": "completed"
    },
    "tags": []
   },
   "outputs": [],
   "source": [
    "#hide_input\n",
    "sum_corr = df_all.corr().sum().sort_values(ascending=True).index.values\n",
    "#df_all[sum_corr].corr()"
   ]
  },
  {
   "cell_type": "markdown",
   "id": "complex-syndicate",
   "metadata": {
    "papermill": {
     "duration": 0.011323,
     "end_time": "2022-08-08T03:10:20.854662",
     "exception": false,
     "start_time": "2022-08-08T03:10:20.843339",
     "status": "completed"
    },
    "tags": []
   },
   "source": [
    "## Išplėstinė koreliacijų matrica. "
   ]
  },
  {
   "cell_type": "code",
   "execution_count": 7,
   "id": "atomic-omaha",
   "metadata": {
    "execution": {
     "iopub.execute_input": "2022-08-08T03:10:20.884416Z",
     "iopub.status.busy": "2022-08-08T03:10:20.883830Z",
     "iopub.status.idle": "2022-08-08T03:10:22.071530Z",
     "shell.execute_reply": "2022-08-08T03:10:22.071028Z"
    },
    "papermill": {
     "duration": 1.205719,
     "end_time": "2022-08-08T03:10:22.071646",
     "exception": false,
     "start_time": "2022-08-08T03:10:20.865927",
     "status": "completed"
    },
    "tags": []
   },
   "outputs": [
    {
     "data": {
      "image/png": "[encoded data removed]",
      "text/plain": [
       "<Figure size 1080x792 with 2 Axes>"
      ]
     },
     "metadata": {
      "needs_background": "light"
     },
     "output_type": "display_data"
    }
   ],
   "source": [
    "#hide_input\n",
    "plt.figure(figsize=(15, 11))\n",
    "sns.heatmap(df_all[sum_corr].corr(), annot=True, cmap=\"cubehelix\") \n",
    "sns.set(font_scale=1.25)\n",
    "plt.savefig('corr_matrix.png', format='eps')"
   ]
  },
  {
   "cell_type": "code",
   "execution_count": 8,
   "id": "arbitrary-sullivan",
   "metadata": {
    "execution": {
     "iopub.execute_input": "2022-08-08T03:10:22.105665Z",
     "iopub.status.busy": "2022-08-08T03:10:22.101833Z",
     "iopub.status.idle": "2022-08-08T03:10:22.128778Z",
     "shell.execute_reply": "2022-08-08T03:10:22.128162Z"
    },
    "papermill": {
     "duration": 0.043457,
     "end_time": "2022-08-08T03:10:22.128907",
     "exception": false,
     "start_time": "2022-08-08T03:10:22.085450",
     "status": "completed"
    },
    "tags": []
   },
   "outputs": [],
   "source": [
    "#hide\n",
    "#df_all_mrk = read_api()"
   ]
  },
  {
   "cell_type": "code",
   "execution_count": 9,
   "id": "delayed-adapter",
   "metadata": {
    "execution": {
     "iopub.execute_input": "2022-08-08T03:10:22.158513Z",
     "iopub.status.busy": "2022-08-08T03:10:22.157943Z",
     "iopub.status.idle": "2022-08-08T03:10:22.184051Z",
     "shell.execute_reply": "2022-08-08T03:10:22.183539Z"
    },
    "papermill": {
     "duration": 0.041927,
     "end_time": "2022-08-08T03:10:22.184163",
     "exception": false,
     "start_time": "2022-08-08T03:10:22.142236",
     "status": "completed"
    },
    "tags": []
   },
   "outputs": [],
   "source": [
    "#hide\n",
    "#Koreliacijų koeficientai"
   ]
  },
  {
   "cell_type": "code",
   "execution_count": 10,
   "id": "seeing-celebration",
   "metadata": {
    "execution": {
     "iopub.execute_input": "2022-08-08T03:10:22.216457Z",
     "iopub.status.busy": "2022-08-08T03:10:22.214720Z",
     "iopub.status.idle": "2022-08-08T03:10:22.241422Z",
     "shell.execute_reply": "2022-08-08T03:10:22.240910Z"
    },
    "papermill": {
     "duration": 0.043548,
     "end_time": "2022-08-08T03:10:22.241541",
     "exception": false,
     "start_time": "2022-08-08T03:10:22.197993",
     "status": "completed"
    },
    "tags": []
   },
   "outputs": [],
   "source": [
    "#hide_input\n",
    "#sum_corr = df_all_mrk.corr().sum().sort_values(ascending=True).index.values\n",
    "#df_all_mrk[sum_corr].corr()"
   ]
  },
  {
   "cell_type": "code",
   "execution_count": 11,
   "id": "other-painting",
   "metadata": {
    "execution": {
     "iopub.execute_input": "2022-08-08T03:10:22.281361Z",
     "iopub.status.busy": "2022-08-08T03:10:22.278556Z",
     "iopub.status.idle": "2022-08-08T03:10:22.300434Z",
     "shell.execute_reply": "2022-08-08T03:10:22.299660Z"
    },
    "papermill": {
     "duration": 0.045866,
     "end_time": "2022-08-08T03:10:22.300542",
     "exception": false,
     "start_time": "2022-08-08T03:10:22.254676",
     "status": "completed"
    },
    "tags": []
   },
   "outputs": [],
   "source": [
    "#hide\n",
    "#Koreliacijos matrica. "
   ]
  },
  {
   "cell_type": "code",
   "execution_count": 12,
   "id": "modular-magnitude",
   "metadata": {
    "execution": {
     "iopub.execute_input": "2022-08-08T03:10:22.330129Z",
     "iopub.status.busy": "2022-08-08T03:10:22.329554Z",
     "iopub.status.idle": "2022-08-08T03:10:22.355686Z",
     "shell.execute_reply": "2022-08-08T03:10:22.355208Z"
    },
    "papermill": {
     "duration": 0.041898,
     "end_time": "2022-08-08T03:10:22.355790",
     "exception": false,
     "start_time": "2022-08-08T03:10:22.313892",
     "status": "completed"
    },
    "tags": []
   },
   "outputs": [],
   "source": [
    "#hide_input\n",
    "#plt.figure(figsize=(15, 8))\n",
    "#sns.heatmap(df_all_mrk[sum_corr].corr(), annot=True, cmap=\"BrBG\");\n",
    "#plt.savefig('corr_matrix_all.eps', format='eps')"
   ]
  },
  {
   "cell_type": "code",
   "execution_count": null,
   "id": "original-senator",
   "metadata": {
    "papermill": {
     "duration": 0.013188,
     "end_time": "2022-08-08T03:10:22.382179",
     "exception": false,
     "start_time": "2022-08-08T03:10:22.368991",
     "status": "completed"
    },
    "tags": []
   },
   "outputs": [],
   "source": []
  },
  {
   "cell_type": "code",
   "execution_count": null,
   "id": "saving-secretariat",
   "metadata": {
    "papermill": {
     "duration": 0.013102,
     "end_time": "2022-08-08T03:10:22.408500",
     "exception": false,
     "start_time": "2022-08-08T03:10:22.395398",
     "status": "completed"
    },
    "tags": []
   },
   "outputs": [],
   "source": []
  }
 ],
 "metadata": {
  "kernelspec": {
   "display_name": "Python 3",
   "language": "python",
   "name": "python3"
  },
  "language_info": {
   "codemirror_mode": {
    "name": "ipython",
    "version": 3
   },
   "file_extension": ".py",
   "mimetype": "text/x-python",
   "name": "python",
   "nbconvert_exporter": "python",
   "pygments_lexer": "ipython3",
   "version": "3.6.15"
  },
  "papermill": {
   "default_parameters": {},
   "duration": 17.774536,
   "end_time": "2022-08-08T03:10:22.940427",
   "environment_variables": {},
   "exception": null,
   "input_path": "App-Correlation_charts.ipynb",
   "output_path": "App-Correlation_charts.ipynb",
   "parameters": {},
   "start_time": "2022-08-08T03:10:05.165891",
   "version": "2.2.2"
  }
 },
 "nbformat": 4,
 "nbformat_minor": 5
}