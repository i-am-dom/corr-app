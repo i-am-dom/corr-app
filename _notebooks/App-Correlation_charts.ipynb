{
 "cells": [
  {
   "cell_type": "markdown",
   "id": "touched-facility",
   "metadata": {
    "papermill": {
     "duration": 0.019118,
     "end_time": "2021-08-23T01:49:03.062266",
     "exception": false,
     "start_time": "2021-08-23T01:49:03.043148",
     "status": "completed"
    },
    "tags": []
   },
   "source": [
    "# Koreliacijų matrica\n",
    "> Išplėstinė koreliacijų matrica. \n",
    "\n",
    "- toc: true \n",
    "- badges: true\n",
    "- comments: false\n",
    "- categories: [Dominykas Tautkus]\n",
    "- image: images/matrix.png"
   ]
  },
  {
   "cell_type": "code",
   "execution_count": null,
   "id": "premium-weekend",
   "metadata": {
    "papermill": {
     "duration": 0.014546,
     "end_time": "2021-08-23T01:49:03.091555",
     "exception": false,
     "start_time": "2021-08-23T01:49:03.077009",
     "status": "completed"
    },
    "tags": []
   },
   "outputs": [],
   "source": []
  },
  {
   "cell_type": "code",
   "execution_count": 1,
   "id": "vertical-rebate",
   "metadata": {
    "execution": {
     "iopub.execute_input": "2021-08-23T01:49:03.132721Z",
     "iopub.status.busy": "2021-08-23T01:49:03.131685Z",
     "iopub.status.idle": "2021-08-23T01:49:03.146350Z",
     "shell.execute_reply": "2021-08-23T01:49:03.146928Z"
    },
    "papermill": {
     "duration": 0.041678,
     "end_time": "2021-08-23T01:49:03.147126",
     "exception": false,
     "start_time": "2021-08-23T01:49:03.105448",
     "status": "completed"
    },
    "tags": []
   },
   "outputs": [],
   "source": [
    "#hide\n",
    "%load_ext autoreload\n",
    "%autoreload 2"
   ]
  },
  {
   "cell_type": "code",
   "execution_count": 2,
   "id": "overall-advancement",
   "metadata": {
    "execution": {
     "iopub.execute_input": "2021-08-23T01:49:03.184024Z",
     "iopub.status.busy": "2021-08-23T01:49:03.183308Z",
     "iopub.status.idle": "2021-08-23T01:49:04.820444Z",
     "shell.execute_reply": "2021-08-23T01:49:04.819744Z"
    },
    "papermill": {
     "duration": 1.659281,
     "end_time": "2021-08-23T01:49:04.820610",
     "exception": false,
     "start_time": "2021-08-23T01:49:03.161329",
     "status": "completed"
    },
    "tags": []
   },
   "outputs": [],
   "source": [
    "#hide\n",
    "from scripts.read_data import read_api\n",
    "from IPython.display import HTML\n",
    "import plotly.graph_objects as go\n"
   ]
  },
  {
   "cell_type": "code",
   "execution_count": 3,
   "id": "light-crazy",
   "metadata": {
    "execution": {
     "iopub.execute_input": "2021-08-23T01:49:04.858345Z",
     "iopub.status.busy": "2021-08-23T01:49:04.857642Z",
     "iopub.status.idle": "2021-08-23T01:49:04.888398Z",
     "shell.execute_reply": "2021-08-23T01:49:04.887733Z"
    },
    "papermill": {
     "duration": 0.050978,
     "end_time": "2021-08-23T01:49:04.888581",
     "exception": false,
     "start_time": "2021-08-23T01:49:04.837603",
     "status": "completed"
    },
    "tags": []
   },
   "outputs": [],
   "source": [
    "#hide\n",
    "### ICO koreliacija"
   ]
  },
  {
   "cell_type": "code",
   "execution_count": 4,
   "id": "likely-bahrain",
   "metadata": {
    "execution": {
     "iopub.execute_input": "2021-08-23T01:49:04.924253Z",
     "iopub.status.busy": "2021-08-23T01:49:04.923568Z",
     "iopub.status.idle": "2021-08-23T01:49:06.108788Z",
     "shell.execute_reply": "2021-08-23T01:49:06.108092Z"
    },
    "papermill": {
     "duration": 1.205206,
     "end_time": "2021-08-23T01:49:06.108949",
     "exception": false,
     "start_time": "2021-08-23T01:49:04.903743",
     "status": "completed"
    },
    "tags": []
   },
   "outputs": [],
   "source": [
    "#hide\n",
    "import matplotlib.pyplot as plt\n",
    "import numpy as np\n",
    "import pandas as pd\n",
    "import seaborn as sns\n",
    "import matplotlib.pyplot as plt \n",
    "import matplotlib.dates as mdates\n",
    "import matplotlib.pyplot as plt"
   ]
  },
  {
   "cell_type": "code",
   "execution_count": 5,
   "id": "superior-blanket",
   "metadata": {
    "execution": {
     "iopub.execute_input": "2021-08-23T01:49:06.150196Z",
     "iopub.status.busy": "2021-08-23T01:49:06.149452Z",
     "iopub.status.idle": "2021-08-23T01:49:16.251268Z",
     "shell.execute_reply": "2021-08-23T01:49:16.250663Z"
    },
    "papermill": {
     "duration": 10.126252,
     "end_time": "2021-08-23T01:49:16.251417",
     "exception": false,
     "start_time": "2021-08-23T01:49:06.125165",
     "status": "completed"
    },
    "tags": []
   },
   "outputs": [
    {
     "name": "stderr",
     "output_type": "stream",
     "text": [
      "/home/runner/work/corr-app/corr-app/_notebooks/scripts/read_data.py:187: SettingWithCopyWarning:\n",
      "\n",
      "\n",
      "A value is trying to be set on a copy of a slice from a DataFrame.\n",
      "Try using .loc[row_indexer,col_indexer] = value instead\n",
      "\n",
      "See the caveats in the documentation: https://pandas.pydata.org/pandas-docs/stable/user_guide/indexing.html#returning-a-view-versus-a-copy\n",
      "\n"
     ]
    },
    {
     "name": "stderr",
     "output_type": "stream",
     "text": [
      "/home/runner/work/corr-app/corr-app/_notebooks/scripts/read_data.py:215: SettingWithCopyWarning:\n",
      "\n",
      "\n",
      "A value is trying to be set on a copy of a slice from a DataFrame.\n",
      "Try using .loc[row_indexer,col_indexer] = value instead\n",
      "\n",
      "See the caveats in the documentation: https://pandas.pydata.org/pandas-docs/stable/user_guide/indexing.html#returning-a-view-versus-a-copy\n",
      "\n"
     ]
    }
   ],
   "source": [
    "#hide\n",
    "df_all = read_api()\n",
    "#df_all = df_all.drop(['SP500', 'XAU', 'ETH', 'BTC'], axis=1)\n",
    "\n"
   ]
  },
  {
   "cell_type": "code",
   "execution_count": 6,
   "id": "mature-alert",
   "metadata": {
    "execution": {
     "iopub.execute_input": "2021-08-23T01:49:16.288286Z",
     "iopub.status.busy": "2021-08-23T01:49:16.287623Z",
     "iopub.status.idle": "2021-08-23T01:49:16.323661Z",
     "shell.execute_reply": "2021-08-23T01:49:16.323044Z"
    },
    "papermill": {
     "duration": 0.05706,
     "end_time": "2021-08-23T01:49:16.323809",
     "exception": false,
     "start_time": "2021-08-23T01:49:16.266749",
     "status": "completed"
    },
    "tags": []
   },
   "outputs": [],
   "source": [
    "#hide_input\n",
    "sum_corr = df_all.corr().sum().sort_values(ascending=True).index.values\n",
    "#df_all[sum_corr].corr()"
   ]
  },
  {
   "cell_type": "markdown",
   "id": "complex-syndicate",
   "metadata": {
    "papermill": {
     "duration": 0.014177,
     "end_time": "2021-08-23T01:49:16.353878",
     "exception": false,
     "start_time": "2021-08-23T01:49:16.339701",
     "status": "completed"
    },
    "tags": []
   },
   "source": [
    "## Išplėstinė koreliacijų matrica. "
   ]
  },
  {
   "cell_type": "code",
   "execution_count": 7,
   "id": "atomic-omaha",
   "metadata": {
    "execution": {
     "iopub.execute_input": "2021-08-23T01:49:16.390461Z",
     "iopub.status.busy": "2021-08-23T01:49:16.389362Z",
     "iopub.status.idle": "2021-08-23T01:49:18.000151Z",
     "shell.execute_reply": "2021-08-23T01:49:17.999454Z"
    },
    "papermill": {
     "duration": 1.63123,
     "end_time": "2021-08-23T01:49:18.000304",
     "exception": false,
     "start_time": "2021-08-23T01:49:16.369074",
     "status": "completed"
    },
    "tags": []
   },
   "outputs": [
    {
     "data": {
      "image/png": "[encoded data removed]",
      "text/plain": [
       "<Figure size 1080x792 with 2 Axes>"
      ]
     },
     "metadata": {
      "needs_background": "light"
     },
     "output_type": "display_data"
    }
   ],
   "source": [
    "#hide_input\n",
    "plt.figure(figsize=(15, 11))\n",
    "sns.heatmap(df_all[sum_corr].corr(), annot=True, cmap=\"cubehelix\") \n",
    "sns.set(font_scale=1.25)\n",
    "plt.savefig('corr_matrix.png', format='eps')"
   ]
  },
  {
   "cell_type": "code",
   "execution_count": 8,
   "id": "arbitrary-sullivan",
   "metadata": {
    "execution": {
     "iopub.execute_input": "2021-08-23T01:49:18.047583Z",
     "iopub.status.busy": "2021-08-23T01:49:18.046899Z",
     "iopub.status.idle": "2021-08-23T01:49:18.081639Z",
     "shell.execute_reply": "2021-08-23T01:49:18.081043Z"
    },
    "papermill": {
     "duration": 0.063235,
     "end_time": "2021-08-23T01:49:18.081789",
     "exception": false,
     "start_time": "2021-08-23T01:49:18.018554",
     "status": "completed"
    },
    "tags": []
   },
   "outputs": [],
   "source": [
    "#hide\n",
    "#df_all_mrk = read_api()"
   ]
  },
  {
   "cell_type": "code",
   "execution_count": 9,
   "id": "delayed-adapter",
   "metadata": {
    "execution": {
     "iopub.execute_input": "2021-08-23T01:49:18.130118Z",
     "iopub.status.busy": "2021-08-23T01:49:18.129439Z",
     "iopub.status.idle": "2021-08-23T01:49:18.170224Z",
     "shell.execute_reply": "2021-08-23T01:49:18.169629Z"
    },
    "papermill": {
     "duration": 0.071393,
     "end_time": "2021-08-23T01:49:18.170388",
     "exception": false,
     "start_time": "2021-08-23T01:49:18.098995",
     "status": "completed"
    },
    "tags": []
   },
   "outputs": [],
   "source": [
    "#hide\n",
    "#Koreliacijų koeficientai"
   ]
  },
  {
   "cell_type": "code",
   "execution_count": 10,
   "id": "seeing-celebration",
   "metadata": {
    "execution": {
     "iopub.execute_input": "2021-08-23T01:49:18.212558Z",
     "iopub.status.busy": "2021-08-23T01:49:18.211880Z",
     "iopub.status.idle": "2021-08-23T01:49:18.246117Z",
     "shell.execute_reply": "2021-08-23T01:49:18.245526Z"
    },
    "papermill": {
     "duration": 0.057587,
     "end_time": "2021-08-23T01:49:18.246265",
     "exception": false,
     "start_time": "2021-08-23T01:49:18.188678",
     "status": "completed"
    },
    "tags": []
   },
   "outputs": [],
   "source": [
    "#hide_input\n",
    "#sum_corr = df_all_mrk.corr().sum().sort_values(ascending=True).index.values\n",
    "#df_all_mrk[sum_corr].corr()"
   ]
  },
  {
   "cell_type": "code",
   "execution_count": 11,
   "id": "other-painting",
   "metadata": {
    "execution": {
     "iopub.execute_input": "2021-08-23T01:49:18.287877Z",
     "iopub.status.busy": "2021-08-23T01:49:18.287170Z",
     "iopub.status.idle": "2021-08-23T01:49:18.319295Z",
     "shell.execute_reply": "2021-08-23T01:49:18.318692Z"
    },
    "papermill": {
     "duration": 0.055138,
     "end_time": "2021-08-23T01:49:18.319459",
     "exception": false,
     "start_time": "2021-08-23T01:49:18.264321",
     "status": "completed"
    },
    "tags": []
   },
   "outputs": [],
   "source": [
    "#hide\n",
    "#Koreliacijos matrica. "
   ]
  },
  {
   "cell_type": "code",
   "execution_count": 12,
   "id": "modular-magnitude",
   "metadata": {
    "execution": {
     "iopub.execute_input": "2021-08-23T01:49:18.361779Z",
     "iopub.status.busy": "2021-08-23T01:49:18.361090Z",
     "iopub.status.idle": "2021-08-23T01:49:18.397605Z",
     "shell.execute_reply": "2021-08-23T01:49:18.398157Z"
    },
    "papermill": {
     "duration": 0.060635,
     "end_time": "2021-08-23T01:49:18.398333",
     "exception": false,
     "start_time": "2021-08-23T01:49:18.337698",
     "status": "completed"
    },
    "tags": []
   },
   "outputs": [],
   "source": [
    "#hide_input\n",
    "#plt.figure(figsize=(15, 8))\n",
    "#sns.heatmap(df_all_mrk[sum_corr].corr(), annot=True, cmap=\"BrBG\");\n",
    "#plt.savefig('corr_matrix_all.eps', format='eps')"
   ]
  },
  {
   "cell_type": "code",
   "execution_count": null,
   "id": "original-senator",
   "metadata": {
    "papermill": {
     "duration": 0.018842,
     "end_time": "2021-08-23T01:49:18.434748",
     "exception": false,
     "start_time": "2021-08-23T01:49:18.415906",
     "status": "completed"
    },
    "tags": []
   },
   "outputs": [],
   "source": []
  },
  {
   "cell_type": "code",
   "execution_count": null,
   "id": "saving-secretariat",
   "metadata": {
    "papermill": {
     "duration": 0.020551,
     "end_time": "2021-08-23T01:49:18.479468",
     "exception": false,
     "start_time": "2021-08-23T01:49:18.458917",
     "status": "completed"
    },
    "tags": []
   },
   "outputs": [],
   "source": []
  }
 ],
 "metadata": {
  "kernelspec": {
   "display_name": "Python 3",
   "language": "python",
   "name": "python3"
  },
  "language_info": {
   "codemirror_mode": {
    "name": "ipython",
    "version": 3
   },
   "file_extension": ".py",
   "mimetype": "text/x-python",
   "name": "python",
   "nbconvert_exporter": "python",
   "pygments_lexer": "ipython3",
   "version": "3.6.14"
  },
  "papermill": {
   "default_parameters": {},
   "duration": 17.539551,
   "end_time": "2021-08-23T01:49:19.412329",
   "environment_variables": {},
   "exception": null,
   "input_path": "App-Correlation_charts.ipynb",
   "output_path": "App-Correlation_charts.ipynb",
   "parameters": {},
   "start_time": "2021-08-23T01:49:01.872778",
   "version": "2.2.2"
  }
 },
 "nbformat": 4,
 "nbformat_minor": 5
}