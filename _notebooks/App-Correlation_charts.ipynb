{
 "cells": [
  {
   "cell_type": "markdown",
   "id": "touched-facility",
   "metadata": {
    "papermill": {
     "duration": 0.018038,
     "end_time": "2022-02-14T01:55:57.451024",
     "exception": false,
     "start_time": "2022-02-14T01:55:57.432986",
     "status": "completed"
    },
    "tags": []
   },
   "source": [
    "# Koreliacijų matrica\n",
    "> Išplėstinė koreliacijų matrica. \n",
    "\n",
    "- toc: true \n",
    "- badges: true\n",
    "- comments: false\n",
    "- categories: [Dominykas Tautkus]\n",
    "- image: images/matrix.png"
   ]
  },
  {
   "cell_type": "code",
   "execution_count": null,
   "id": "premium-weekend",
   "metadata": {
    "papermill": {
     "duration": 0.012172,
     "end_time": "2022-02-14T01:55:57.476502",
     "exception": false,
     "start_time": "2022-02-14T01:55:57.464330",
     "status": "completed"
    },
    "tags": []
   },
   "outputs": [],
   "source": []
  },
  {
   "cell_type": "code",
   "execution_count": 1,
   "id": "vertical-rebate",
   "metadata": {
    "execution": {
     "iopub.execute_input": "2022-02-14T01:55:57.511886Z",
     "iopub.status.busy": "2022-02-14T01:55:57.511269Z",
     "iopub.status.idle": "2022-02-14T01:55:57.523114Z",
     "shell.execute_reply": "2022-02-14T01:55:57.522558Z"
    },
    "papermill": {
     "duration": 0.034638,
     "end_time": "2022-02-14T01:55:57.523259",
     "exception": false,
     "start_time": "2022-02-14T01:55:57.488621",
     "status": "completed"
    },
    "tags": []
   },
   "outputs": [],
   "source": [
    "#hide\n",
    "%load_ext autoreload\n",
    "%autoreload 2"
   ]
  },
  {
   "cell_type": "code",
   "execution_count": 2,
   "id": "overall-advancement",
   "metadata": {
    "execution": {
     "iopub.execute_input": "2022-02-14T01:55:57.549617Z",
     "iopub.status.busy": "2022-02-14T01:55:57.549077Z",
     "iopub.status.idle": "2022-02-14T01:55:58.924440Z",
     "shell.execute_reply": "2022-02-14T01:55:58.923310Z"
    },
    "papermill": {
     "duration": 1.390342,
     "end_time": "2022-02-14T01:55:58.924685",
     "exception": false,
     "start_time": "2022-02-14T01:55:57.534343",
     "status": "completed"
    },
    "tags": []
   },
   "outputs": [],
   "source": [
    "#hide\n",
    "from scripts.read_data import read_api\n",
    "from IPython.display import HTML\n",
    "import plotly.graph_objects as go\n"
   ]
  },
  {
   "cell_type": "code",
   "execution_count": 3,
   "id": "light-crazy",
   "metadata": {
    "execution": {
     "iopub.execute_input": "2022-02-14T01:55:58.956964Z",
     "iopub.status.busy": "2022-02-14T01:55:58.956396Z",
     "iopub.status.idle": "2022-02-14T01:55:58.980844Z",
     "shell.execute_reply": "2022-02-14T01:55:58.981391Z"
    },
    "papermill": {
     "duration": 0.040386,
     "end_time": "2022-02-14T01:55:58.981563",
     "exception": false,
     "start_time": "2022-02-14T01:55:58.941177",
     "status": "completed"
    },
    "tags": []
   },
   "outputs": [],
   "source": [
    "#hide\n",
    "### ICO koreliacija"
   ]
  },
  {
   "cell_type": "code",
   "execution_count": 4,
   "id": "likely-bahrain",
   "metadata": {
    "execution": {
     "iopub.execute_input": "2022-02-14T01:55:59.011229Z",
     "iopub.status.busy": "2022-02-14T01:55:59.010680Z",
     "iopub.status.idle": "2022-02-14T01:56:00.017089Z",
     "shell.execute_reply": "2022-02-14T01:56:00.016255Z"
    },
    "papermill": {
     "duration": 1.023222,
     "end_time": "2022-02-14T01:56:00.017251",
     "exception": false,
     "start_time": "2022-02-14T01:55:58.994029",
     "status": "completed"
    },
    "tags": []
   },
   "outputs": [],
   "source": [
    "#hide\n",
    "import matplotlib.pyplot as plt\n",
    "import numpy as np\n",
    "import pandas as pd\n",
    "import seaborn as sns\n",
    "import matplotlib.pyplot as plt \n",
    "import matplotlib.dates as mdates\n",
    "import matplotlib.pyplot as plt"
   ]
  },
  {
   "cell_type": "code",
   "execution_count": 5,
   "id": "superior-blanket",
   "metadata": {
    "execution": {
     "iopub.execute_input": "2022-02-14T01:56:00.050791Z",
     "iopub.status.busy": "2022-02-14T01:56:00.050172Z",
     "iopub.status.idle": "2022-02-14T01:56:13.700908Z",
     "shell.execute_reply": "2022-02-14T01:56:13.700365Z"
    },
    "papermill": {
     "duration": 13.6689,
     "end_time": "2022-02-14T01:56:13.701038",
     "exception": false,
     "start_time": "2022-02-14T01:56:00.032138",
     "status": "completed"
    },
    "tags": []
   },
   "outputs": [
    {
     "name": "stderr",
     "output_type": "stream",
     "text": [
      "/home/runner/work/corr-app/corr-app/_notebooks/scripts/read_data.py:187: SettingWithCopyWarning:\n",
      "\n",
      "\n",
      "A value is trying to be set on a copy of a slice from a DataFrame.\n",
      "Try using .loc[row_indexer,col_indexer] = value instead\n",
      "\n",
      "See the caveats in the documentation: https://pandas.pydata.org/pandas-docs/stable/user_guide/indexing.html#returning-a-view-versus-a-copy\n",
      "\n"
     ]
    },
    {
     "name": "stderr",
     "output_type": "stream",
     "text": [
      "/home/runner/work/corr-app/corr-app/_notebooks/scripts/read_data.py:215: SettingWithCopyWarning:\n",
      "\n",
      "\n",
      "A value is trying to be set on a copy of a slice from a DataFrame.\n",
      "Try using .loc[row_indexer,col_indexer] = value instead\n",
      "\n",
      "See the caveats in the documentation: https://pandas.pydata.org/pandas-docs/stable/user_guide/indexing.html#returning-a-view-versus-a-copy\n",
      "\n"
     ]
    }
   ],
   "source": [
    "#hide\n",
    "df_all = read_api()\n",
    "#df_all = df_all.drop(['SP500', 'XAU', 'ETH', 'BTC'], axis=1)\n",
    "\n"
   ]
  },
  {
   "cell_type": "code",
   "execution_count": 6,
   "id": "mature-alert",
   "metadata": {
    "execution": {
     "iopub.execute_input": "2022-02-14T01:56:13.736686Z",
     "iopub.status.busy": "2022-02-14T01:56:13.736080Z",
     "iopub.status.idle": "2022-02-14T01:56:13.773111Z",
     "shell.execute_reply": "2022-02-14T01:56:13.772628Z"
    },
    "papermill": {
     "duration": 0.055589,
     "end_time": "2022-02-14T01:56:13.773241",
     "exception": false,
     "start_time": "2022-02-14T01:56:13.717652",
     "status": "completed"
    },
    "tags": []
   },
   "outputs": [],
   "source": [
    "#hide_input\n",
    "sum_corr = df_all.corr().sum().sort_values(ascending=True).index.values\n",
    "#df_all[sum_corr].corr()"
   ]
  },
  {
   "cell_type": "markdown",
   "id": "complex-syndicate",
   "metadata": {
    "papermill": {
     "duration": 0.012468,
     "end_time": "2022-02-14T01:56:13.799266",
     "exception": false,
     "start_time": "2022-02-14T01:56:13.786798",
     "status": "completed"
    },
    "tags": []
   },
   "source": [
    "## Išplėstinė koreliacijų matrica. "
   ]
  },
  {
   "cell_type": "code",
   "execution_count": 7,
   "id": "atomic-omaha",
   "metadata": {
    "execution": {
     "iopub.execute_input": "2022-02-14T01:56:13.827931Z",
     "iopub.status.busy": "2022-02-14T01:56:13.827332Z",
     "iopub.status.idle": "2022-02-14T01:56:15.176141Z",
     "shell.execute_reply": "2022-02-14T01:56:15.175629Z"
    },
    "papermill": {
     "duration": 1.364984,
     "end_time": "2022-02-14T01:56:15.176279",
     "exception": false,
     "start_time": "2022-02-14T01:56:13.811295",
     "status": "completed"
    },
    "tags": []
   },
   "outputs": [
    {
     "data": {
      "image/png": "[encoded data removed]",
      "text/plain": [
       "<Figure size 1080x792 with 2 Axes>"
      ]
     },
     "metadata": {
      "needs_background": "light"
     },
     "output_type": "display_data"
    }
   ],
   "source": [
    "#hide_input\n",
    "plt.figure(figsize=(15, 11))\n",
    "sns.heatmap(df_all[sum_corr].corr(), annot=True, cmap=\"cubehelix\") \n",
    "sns.set(font_scale=1.25)\n",
    "plt.savefig('corr_matrix.png', format='eps')"
   ]
  },
  {
   "cell_type": "code",
   "execution_count": 8,
   "id": "arbitrary-sullivan",
   "metadata": {
    "execution": {
     "iopub.execute_input": "2022-02-14T01:56:15.209657Z",
     "iopub.status.busy": "2022-02-14T01:56:15.208749Z",
     "iopub.status.idle": "2022-02-14T01:56:15.236815Z",
     "shell.execute_reply": "2022-02-14T01:56:15.236006Z"
    },
    "papermill": {
     "duration": 0.046354,
     "end_time": "2022-02-14T01:56:15.236977",
     "exception": false,
     "start_time": "2022-02-14T01:56:15.190623",
     "status": "completed"
    },
    "tags": []
   },
   "outputs": [],
   "source": [
    "#hide\n",
    "#df_all_mrk = read_api()"
   ]
  },
  {
   "cell_type": "code",
   "execution_count": 9,
   "id": "delayed-adapter",
   "metadata": {
    "execution": {
     "iopub.execute_input": "2022-02-14T01:56:15.271935Z",
     "iopub.status.busy": "2022-02-14T01:56:15.271335Z",
     "iopub.status.idle": "2022-02-14T01:56:15.301296Z",
     "shell.execute_reply": "2022-02-14T01:56:15.300609Z"
    },
    "papermill": {
     "duration": 0.048437,
     "end_time": "2022-02-14T01:56:15.301469",
     "exception": false,
     "start_time": "2022-02-14T01:56:15.253032",
     "status": "completed"
    },
    "tags": []
   },
   "outputs": [],
   "source": [
    "#hide\n",
    "#Koreliacijų koeficientai"
   ]
  },
  {
   "cell_type": "code",
   "execution_count": 10,
   "id": "seeing-celebration",
   "metadata": {
    "execution": {
     "iopub.execute_input": "2022-02-14T01:56:15.337443Z",
     "iopub.status.busy": "2022-02-14T01:56:15.336863Z",
     "iopub.status.idle": "2022-02-14T01:56:15.368046Z",
     "shell.execute_reply": "2022-02-14T01:56:15.367249Z"
    },
    "papermill": {
     "duration": 0.051251,
     "end_time": "2022-02-14T01:56:15.368947",
     "exception": false,
     "start_time": "2022-02-14T01:56:15.317696",
     "status": "completed"
    },
    "tags": []
   },
   "outputs": [],
   "source": [
    "#hide_input\n",
    "#sum_corr = df_all_mrk.corr().sum().sort_values(ascending=True).index.values\n",
    "#df_all_mrk[sum_corr].corr()"
   ]
  },
  {
   "cell_type": "code",
   "execution_count": 11,
   "id": "other-painting",
   "metadata": {
    "execution": {
     "iopub.execute_input": "2022-02-14T01:56:15.404387Z",
     "iopub.status.busy": "2022-02-14T01:56:15.403889Z",
     "iopub.status.idle": "2022-02-14T01:56:15.430438Z",
     "shell.execute_reply": "2022-02-14T01:56:15.430898Z"
    },
    "papermill": {
     "duration": 0.045687,
     "end_time": "2022-02-14T01:56:15.431036",
     "exception": false,
     "start_time": "2022-02-14T01:56:15.385349",
     "status": "completed"
    },
    "tags": []
   },
   "outputs": [],
   "source": [
    "#hide\n",
    "#Koreliacijos matrica. "
   ]
  },
  {
   "cell_type": "code",
   "execution_count": 12,
   "id": "modular-magnitude",
   "metadata": {
    "execution": {
     "iopub.execute_input": "2022-02-14T01:56:15.462600Z",
     "iopub.status.busy": "2022-02-14T01:56:15.462040Z",
     "iopub.status.idle": "2022-02-14T01:56:15.488751Z",
     "shell.execute_reply": "2022-02-14T01:56:15.488071Z"
    },
    "papermill": {
     "duration": 0.043815,
     "end_time": "2022-02-14T01:56:15.488885",
     "exception": false,
     "start_time": "2022-02-14T01:56:15.445070",
     "status": "completed"
    },
    "tags": []
   },
   "outputs": [],
   "source": [
    "#hide_input\n",
    "#plt.figure(figsize=(15, 8))\n",
    "#sns.heatmap(df_all_mrk[sum_corr].corr(), annot=True, cmap=\"BrBG\");\n",
    "#plt.savefig('corr_matrix_all.eps', format='eps')"
   ]
  },
  {
   "cell_type": "code",
   "execution_count": null,
   "id": "original-senator",
   "metadata": {
    "papermill": {
     "duration": 0.0139,
     "end_time": "2022-02-14T01:56:15.517377",
     "exception": false,
     "start_time": "2022-02-14T01:56:15.503477",
     "status": "completed"
    },
    "tags": []
   },
   "outputs": [],
   "source": []
  },
  {
   "cell_type": "code",
   "execution_count": null,
   "id": "saving-secretariat",
   "metadata": {
    "papermill": {
     "duration": 0.013784,
     "end_time": "2022-02-14T01:56:15.544985",
     "exception": false,
     "start_time": "2022-02-14T01:56:15.531201",
     "status": "completed"
    },
    "tags": []
   },
   "outputs": [],
   "source": []
  }
 ],
 "metadata": {
  "kernelspec": {
   "display_name": "Python 3",
   "language": "python",
   "name": "python3"
  },
  "language_info": {
   "codemirror_mode": {
    "name": "ipython",
    "version": 3
   },
   "file_extension": ".py",
   "mimetype": "text/x-python",
   "name": "python",
   "nbconvert_exporter": "python",
   "pygments_lexer": "ipython3",
   "version": "3.6.15"
  },
  "papermill": {
   "default_parameters": {},
   "duration": 19.934024,
   "end_time": "2022-02-14T01:56:16.078114",
   "environment_variables": {},
   "exception": null,
   "input_path": "App-Correlation_charts.ipynb",
   "output_path": "App-Correlation_charts.ipynb",
   "parameters": {},
   "start_time": "2022-02-14T01:55:56.144090",
   "version": "2.2.2"
  }
 },
 "nbformat": 4,
 "nbformat_minor": 5
}