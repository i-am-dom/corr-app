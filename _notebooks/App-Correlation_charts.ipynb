{
 "cells": [
  {
   "cell_type": "markdown",
   "id": "touched-facility",
   "metadata": {
    "papermill": {
     "duration": 0.02148,
     "end_time": "2022-07-07T03:21:33.261827",
     "exception": false,
     "start_time": "2022-07-07T03:21:33.240347",
     "status": "completed"
    },
    "tags": []
   },
   "source": [
    "# Koreliacijų matrica\n",
    "> Išplėstinė koreliacijų matrica. \n",
    "\n",
    "- toc: true \n",
    "- badges: true\n",
    "- comments: false\n",
    "- categories: [Dominykas Tautkus]\n",
    "- image: images/matrix.png"
   ]
  },
  {
   "cell_type": "code",
   "execution_count": null,
   "id": "premium-weekend",
   "metadata": {
    "papermill": {
     "duration": 0.015172,
     "end_time": "2022-07-07T03:21:33.293344",
     "exception": false,
     "start_time": "2022-07-07T03:21:33.278172",
     "status": "completed"
    },
    "tags": []
   },
   "outputs": [],
   "source": []
  },
  {
   "cell_type": "code",
   "execution_count": 1,
   "id": "vertical-rebate",
   "metadata": {
    "execution": {
     "iopub.execute_input": "2022-07-07T03:21:33.332622Z",
     "iopub.status.busy": "2022-07-07T03:21:33.331653Z",
     "iopub.status.idle": "2022-07-07T03:21:33.347977Z",
     "shell.execute_reply": "2022-07-07T03:21:33.347215Z"
    },
    "papermill": {
     "duration": 0.040663,
     "end_time": "2022-07-07T03:21:33.348232",
     "exception": false,
     "start_time": "2022-07-07T03:21:33.307569",
     "status": "completed"
    },
    "tags": []
   },
   "outputs": [],
   "source": [
    "#hide\n",
    "%load_ext autoreload\n",
    "%autoreload 2"
   ]
  },
  {
   "cell_type": "code",
   "execution_count": 2,
   "id": "overall-advancement",
   "metadata": {
    "execution": {
     "iopub.execute_input": "2022-07-07T03:21:33.387427Z",
     "iopub.status.busy": "2022-07-07T03:21:33.386652Z",
     "iopub.status.idle": "2022-07-07T03:21:35.007289Z",
     "shell.execute_reply": "2022-07-07T03:21:35.006638Z"
    },
    "papermill": {
     "duration": 1.642875,
     "end_time": "2022-07-07T03:21:35.007447",
     "exception": false,
     "start_time": "2022-07-07T03:21:33.364572",
     "status": "completed"
    },
    "tags": []
   },
   "outputs": [],
   "source": [
    "#hide\n",
    "from scripts.read_data import read_api\n",
    "from IPython.display import HTML\n",
    "import plotly.graph_objects as go\n"
   ]
  },
  {
   "cell_type": "code",
   "execution_count": 3,
   "id": "light-crazy",
   "metadata": {
    "execution": {
     "iopub.execute_input": "2022-07-07T03:21:35.045893Z",
     "iopub.status.busy": "2022-07-07T03:21:35.044095Z",
     "iopub.status.idle": "2022-07-07T03:21:35.078100Z",
     "shell.execute_reply": "2022-07-07T03:21:35.078743Z"
    },
    "papermill": {
     "duration": 0.055299,
     "end_time": "2022-07-07T03:21:35.078959",
     "exception": false,
     "start_time": "2022-07-07T03:21:35.023660",
     "status": "completed"
    },
    "tags": []
   },
   "outputs": [],
   "source": [
    "#hide\n",
    "### ICO koreliacija"
   ]
  },
  {
   "cell_type": "code",
   "execution_count": 4,
   "id": "likely-bahrain",
   "metadata": {
    "execution": {
     "iopub.execute_input": "2022-07-07T03:21:35.118213Z",
     "iopub.status.busy": "2022-07-07T03:21:35.117382Z",
     "iopub.status.idle": "2022-07-07T03:21:36.281738Z",
     "shell.execute_reply": "2022-07-07T03:21:36.280673Z"
    },
    "papermill": {
     "duration": 1.187264,
     "end_time": "2022-07-07T03:21:36.281995",
     "exception": false,
     "start_time": "2022-07-07T03:21:35.094731",
     "status": "completed"
    },
    "tags": []
   },
   "outputs": [],
   "source": [
    "#hide\n",
    "import matplotlib.pyplot as plt\n",
    "import numpy as np\n",
    "import pandas as pd\n",
    "import seaborn as sns\n",
    "import matplotlib.pyplot as plt \n",
    "import matplotlib.dates as mdates\n",
    "import matplotlib.pyplot as plt"
   ]
  },
  {
   "cell_type": "code",
   "execution_count": 5,
   "id": "superior-blanket",
   "metadata": {
    "execution": {
     "iopub.execute_input": "2022-07-07T03:21:36.317680Z",
     "iopub.status.busy": "2022-07-07T03:21:36.316521Z",
     "iopub.status.idle": "2022-07-07T03:21:53.280531Z",
     "shell.execute_reply": "2022-07-07T03:21:53.279913Z"
    },
    "papermill": {
     "duration": 16.983991,
     "end_time": "2022-07-07T03:21:53.280670",
     "exception": false,
     "start_time": "2022-07-07T03:21:36.296679",
     "status": "completed"
    },
    "tags": []
   },
   "outputs": [
    {
     "name": "stderr",
     "output_type": "stream",
     "text": [
      "/home/runner/work/corr-app/corr-app/_notebooks/scripts/read_data.py:187: SettingWithCopyWarning:\n",
      "\n",
      "\n",
      "A value is trying to be set on a copy of a slice from a DataFrame.\n",
      "Try using .loc[row_indexer,col_indexer] = value instead\n",
      "\n",
      "See the caveats in the documentation: https://pandas.pydata.org/pandas-docs/stable/user_guide/indexing.html#returning-a-view-versus-a-copy\n",
      "\n"
     ]
    },
    {
     "name": "stderr",
     "output_type": "stream",
     "text": [
      "/home/runner/work/corr-app/corr-app/_notebooks/scripts/read_data.py:215: SettingWithCopyWarning:\n",
      "\n",
      "\n",
      "A value is trying to be set on a copy of a slice from a DataFrame.\n",
      "Try using .loc[row_indexer,col_indexer] = value instead\n",
      "\n",
      "See the caveats in the documentation: https://pandas.pydata.org/pandas-docs/stable/user_guide/indexing.html#returning-a-view-versus-a-copy\n",
      "\n"
     ]
    }
   ],
   "source": [
    "#hide\n",
    "df_all = read_api()\n",
    "#df_all = df_all.drop(['SP500', 'XAU', 'ETH', 'BTC'], axis=1)\n",
    "\n"
   ]
  },
  {
   "cell_type": "code",
   "execution_count": 6,
   "id": "mature-alert",
   "metadata": {
    "execution": {
     "iopub.execute_input": "2022-07-07T03:21:53.318510Z",
     "iopub.status.busy": "2022-07-07T03:21:53.317552Z",
     "iopub.status.idle": "2022-07-07T03:21:53.356733Z",
     "shell.execute_reply": "2022-07-07T03:21:53.356095Z"
    },
    "papermill": {
     "duration": 0.058886,
     "end_time": "2022-07-07T03:21:53.356915",
     "exception": false,
     "start_time": "2022-07-07T03:21:53.298029",
     "status": "completed"
    },
    "tags": []
   },
   "outputs": [],
   "source": [
    "#hide_input\n",
    "sum_corr = df_all.corr().sum().sort_values(ascending=True).index.values\n",
    "#df_all[sum_corr].corr()"
   ]
  },
  {
   "cell_type": "markdown",
   "id": "complex-syndicate",
   "metadata": {
    "papermill": {
     "duration": 0.015227,
     "end_time": "2022-07-07T03:21:53.387508",
     "exception": false,
     "start_time": "2022-07-07T03:21:53.372281",
     "status": "completed"
    },
    "tags": []
   },
   "source": [
    "## Išplėstinė koreliacijų matrica. "
   ]
  },
  {
   "cell_type": "code",
   "execution_count": 7,
   "id": "atomic-omaha",
   "metadata": {
    "execution": {
     "iopub.execute_input": "2022-07-07T03:21:53.422932Z",
     "iopub.status.busy": "2022-07-07T03:21:53.422173Z",
     "iopub.status.idle": "2022-07-07T03:21:55.248555Z",
     "shell.execute_reply": "2022-07-07T03:21:55.247425Z"
    },
    "papermill": {
     "duration": 1.846699,
     "end_time": "2022-07-07T03:21:55.248750",
     "exception": false,
     "start_time": "2022-07-07T03:21:53.402051",
     "status": "completed"
    },
    "tags": []
   },
   "outputs": [
    {
     "data": {
      "image/png": "[encoded data removed]",
      "text/plain": [
       "<Figure size 1080x792 with 2 Axes>"
      ]
     },
     "metadata": {
      "needs_background": "light"
     },
     "output_type": "display_data"
    }
   ],
   "source": [
    "#hide_input\n",
    "plt.figure(figsize=(15, 11))\n",
    "sns.heatmap(df_all[sum_corr].corr(), annot=True, cmap=\"cubehelix\") \n",
    "sns.set(font_scale=1.25)\n",
    "plt.savefig('corr_matrix.png', format='eps')"
   ]
  },
  {
   "cell_type": "code",
   "execution_count": 8,
   "id": "arbitrary-sullivan",
   "metadata": {
    "execution": {
     "iopub.execute_input": "2022-07-07T03:21:55.290134Z",
     "iopub.status.busy": "2022-07-07T03:21:55.289296Z",
     "iopub.status.idle": "2022-07-07T03:21:55.322478Z",
     "shell.execute_reply": "2022-07-07T03:21:55.321808Z"
    },
    "papermill": {
     "duration": 0.0565,
     "end_time": "2022-07-07T03:21:55.322618",
     "exception": false,
     "start_time": "2022-07-07T03:21:55.266118",
     "status": "completed"
    },
    "tags": []
   },
   "outputs": [],
   "source": [
    "#hide\n",
    "#df_all_mrk = read_api()"
   ]
  },
  {
   "cell_type": "code",
   "execution_count": 9,
   "id": "delayed-adapter",
   "metadata": {
    "execution": {
     "iopub.execute_input": "2022-07-07T03:21:55.369399Z",
     "iopub.status.busy": "2022-07-07T03:21:55.368607Z",
     "iopub.status.idle": "2022-07-07T03:21:55.401393Z",
     "shell.execute_reply": "2022-07-07T03:21:55.400816Z"
    },
    "papermill": {
     "duration": 0.058047,
     "end_time": "2022-07-07T03:21:55.401530",
     "exception": false,
     "start_time": "2022-07-07T03:21:55.343483",
     "status": "completed"
    },
    "tags": []
   },
   "outputs": [],
   "source": [
    "#hide\n",
    "#Koreliacijų koeficientai"
   ]
  },
  {
   "cell_type": "code",
   "execution_count": 10,
   "id": "seeing-celebration",
   "metadata": {
    "execution": {
     "iopub.execute_input": "2022-07-07T03:21:55.444623Z",
     "iopub.status.busy": "2022-07-07T03:21:55.443689Z",
     "iopub.status.idle": "2022-07-07T03:21:55.476396Z",
     "shell.execute_reply": "2022-07-07T03:21:55.475732Z"
    },
    "papermill": {
     "duration": 0.05696,
     "end_time": "2022-07-07T03:21:55.476544",
     "exception": false,
     "start_time": "2022-07-07T03:21:55.419584",
     "status": "completed"
    },
    "tags": []
   },
   "outputs": [],
   "source": [
    "#hide_input\n",
    "#sum_corr = df_all_mrk.corr().sum().sort_values(ascending=True).index.values\n",
    "#df_all_mrk[sum_corr].corr()"
   ]
  },
  {
   "cell_type": "code",
   "execution_count": 11,
   "id": "other-painting",
   "metadata": {
    "execution": {
     "iopub.execute_input": "2022-07-07T03:21:55.515776Z",
     "iopub.status.busy": "2022-07-07T03:21:55.514940Z",
     "iopub.status.idle": "2022-07-07T03:21:55.549261Z",
     "shell.execute_reply": "2022-07-07T03:21:55.549883Z"
    },
    "papermill": {
     "duration": 0.055895,
     "end_time": "2022-07-07T03:21:55.550101",
     "exception": false,
     "start_time": "2022-07-07T03:21:55.494206",
     "status": "completed"
    },
    "tags": []
   },
   "outputs": [],
   "source": [
    "#hide\n",
    "#Koreliacijos matrica. "
   ]
  },
  {
   "cell_type": "code",
   "execution_count": 12,
   "id": "modular-magnitude",
   "metadata": {
    "execution": {
     "iopub.execute_input": "2022-07-07T03:21:55.594461Z",
     "iopub.status.busy": "2022-07-07T03:21:55.593348Z",
     "iopub.status.idle": "2022-07-07T03:21:55.629820Z",
     "shell.execute_reply": "2022-07-07T03:21:55.629150Z"
    },
    "papermill": {
     "duration": 0.061161,
     "end_time": "2022-07-07T03:21:55.629972",
     "exception": false,
     "start_time": "2022-07-07T03:21:55.568811",
     "status": "completed"
    },
    "tags": []
   },
   "outputs": [],
   "source": [
    "#hide_input\n",
    "#plt.figure(figsize=(15, 8))\n",
    "#sns.heatmap(df_all_mrk[sum_corr].corr(), annot=True, cmap=\"BrBG\");\n",
    "#plt.savefig('corr_matrix_all.eps', format='eps')"
   ]
  },
  {
   "cell_type": "code",
   "execution_count": null,
   "id": "original-senator",
   "metadata": {
    "papermill": {
     "duration": 0.01749,
     "end_time": "2022-07-07T03:21:55.664965",
     "exception": false,
     "start_time": "2022-07-07T03:21:55.647475",
     "status": "completed"
    },
    "tags": []
   },
   "outputs": [],
   "source": []
  },
  {
   "cell_type": "code",
   "execution_count": null,
   "id": "saving-secretariat",
   "metadata": {
    "papermill": {
     "duration": 0.016568,
     "end_time": "2022-07-07T03:21:55.698885",
     "exception": false,
     "start_time": "2022-07-07T03:21:55.682317",
     "status": "completed"
    },
    "tags": []
   },
   "outputs": [],
   "source": []
  }
 ],
 "metadata": {
  "kernelspec": {
   "display_name": "Python 3",
   "language": "python",
   "name": "python3"
  },
  "language_info": {
   "codemirror_mode": {
    "name": "ipython",
    "version": 3
   },
   "file_extension": ".py",
   "mimetype": "text/x-python",
   "name": "python",
   "nbconvert_exporter": "python",
   "pygments_lexer": "ipython3",
   "version": "3.6.15"
  },
  "papermill": {
   "default_parameters": {},
   "duration": 24.356901,
   "end_time": "2022-07-07T03:21:56.337413",
   "environment_variables": {},
   "exception": null,
   "input_path": "App-Correlation_charts.ipynb",
   "output_path": "App-Correlation_charts.ipynb",
   "parameters": {},
   "start_time": "2022-07-07T03:21:31.980512",
   "version": "2.2.2"
  }
 },
 "nbformat": 4,
 "nbformat_minor": 5
}