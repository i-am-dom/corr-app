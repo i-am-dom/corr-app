{
 "cells": [
  {
   "cell_type": "markdown",
   "id": "touched-facility",
   "metadata": {
    "papermill": {
     "duration": 0.014483,
     "end_time": "2022-08-16T03:18:10.946224",
     "exception": false,
     "start_time": "2022-08-16T03:18:10.931741",
     "status": "completed"
    },
    "tags": []
   },
   "source": [
    "# Koreliacijų matrica\n",
    "> Išplėstinė koreliacijų matrica. \n",
    "\n",
    "- toc: true \n",
    "- badges: true\n",
    "- comments: false\n",
    "- categories: [Dominykas Tautkus]\n",
    "- image: images/matrix.png"
   ]
  },
  {
   "cell_type": "code",
   "execution_count": null,
   "id": "premium-weekend",
   "metadata": {
    "papermill": {
     "duration": 0.010807,
     "end_time": "2022-08-16T03:18:10.968455",
     "exception": false,
     "start_time": "2022-08-16T03:18:10.957648",
     "status": "completed"
    },
    "tags": []
   },
   "outputs": [],
   "source": []
  },
  {
   "cell_type": "code",
   "execution_count": 1,
   "id": "vertical-rebate",
   "metadata": {
    "execution": {
     "iopub.execute_input": "2022-08-16T03:18:11.000060Z",
     "iopub.status.busy": "2022-08-16T03:18:10.999493Z",
     "iopub.status.idle": "2022-08-16T03:18:11.009856Z",
     "shell.execute_reply": "2022-08-16T03:18:11.010294Z"
    },
    "papermill": {
     "duration": 0.031175,
     "end_time": "2022-08-16T03:18:11.010422",
     "exception": false,
     "start_time": "2022-08-16T03:18:10.979247",
     "status": "completed"
    },
    "tags": []
   },
   "outputs": [],
   "source": [
    "#hide\n",
    "%load_ext autoreload\n",
    "%autoreload 2"
   ]
  },
  {
   "cell_type": "code",
   "execution_count": 2,
   "id": "overall-advancement",
   "metadata": {
    "execution": {
     "iopub.execute_input": "2022-08-16T03:18:11.034919Z",
     "iopub.status.busy": "2022-08-16T03:18:11.034337Z",
     "iopub.status.idle": "2022-08-16T03:18:12.258338Z",
     "shell.execute_reply": "2022-08-16T03:18:12.257419Z"
    },
    "papermill": {
     "duration": 1.237302,
     "end_time": "2022-08-16T03:18:12.258476",
     "exception": false,
     "start_time": "2022-08-16T03:18:11.021174",
     "status": "completed"
    },
    "tags": []
   },
   "outputs": [],
   "source": [
    "#hide\n",
    "from scripts.read_data import read_api\n",
    "from IPython.display import HTML\n",
    "import plotly.graph_objects as go\n"
   ]
  },
  {
   "cell_type": "code",
   "execution_count": 3,
   "id": "light-crazy",
   "metadata": {
    "execution": {
     "iopub.execute_input": "2022-08-16T03:18:12.287028Z",
     "iopub.status.busy": "2022-08-16T03:18:12.284917Z",
     "iopub.status.idle": "2022-08-16T03:18:12.306689Z",
     "shell.execute_reply": "2022-08-16T03:18:12.306224Z"
    },
    "papermill": {
     "duration": 0.03732,
     "end_time": "2022-08-16T03:18:12.306794",
     "exception": false,
     "start_time": "2022-08-16T03:18:12.269474",
     "status": "completed"
    },
    "tags": []
   },
   "outputs": [],
   "source": [
    "#hide\n",
    "### ICO koreliacija"
   ]
  },
  {
   "cell_type": "code",
   "execution_count": 4,
   "id": "likely-bahrain",
   "metadata": {
    "execution": {
     "iopub.execute_input": "2022-08-16T03:18:12.331700Z",
     "iopub.status.busy": "2022-08-16T03:18:12.331134Z",
     "iopub.status.idle": "2022-08-16T03:18:13.139388Z",
     "shell.execute_reply": "2022-08-16T03:18:13.138783Z"
    },
    "papermill": {
     "duration": 0.821954,
     "end_time": "2022-08-16T03:18:13.139496",
     "exception": false,
     "start_time": "2022-08-16T03:18:12.317542",
     "status": "completed"
    },
    "tags": []
   },
   "outputs": [],
   "source": [
    "#hide\n",
    "import matplotlib.pyplot as plt\n",
    "import numpy as np\n",
    "import pandas as pd\n",
    "import seaborn as sns\n",
    "import matplotlib.pyplot as plt \n",
    "import matplotlib.dates as mdates\n",
    "import matplotlib.pyplot as plt"
   ]
  },
  {
   "cell_type": "code",
   "execution_count": 5,
   "id": "superior-blanket",
   "metadata": {
    "execution": {
     "iopub.execute_input": "2022-08-16T03:18:13.167172Z",
     "iopub.status.busy": "2022-08-16T03:18:13.165796Z",
     "iopub.status.idle": "2022-08-16T03:18:27.691364Z",
     "shell.execute_reply": "2022-08-16T03:18:27.690838Z"
    },
    "papermill": {
     "duration": 14.540921,
     "end_time": "2022-08-16T03:18:27.691475",
     "exception": false,
     "start_time": "2022-08-16T03:18:13.150554",
     "status": "completed"
    },
    "tags": []
   },
   "outputs": [
    {
     "name": "stderr",
     "output_type": "stream",
     "text": [
      "/home/runner/work/corr-app/corr-app/_notebooks/scripts/read_data.py:187: SettingWithCopyWarning:\n",
      "\n",
      "\n",
      "A value is trying to be set on a copy of a slice from a DataFrame.\n",
      "Try using .loc[row_indexer,col_indexer] = value instead\n",
      "\n",
      "See the caveats in the documentation: https://pandas.pydata.org/pandas-docs/stable/user_guide/indexing.html#returning-a-view-versus-a-copy\n",
      "\n"
     ]
    },
    {
     "name": "stderr",
     "output_type": "stream",
     "text": [
      "/home/runner/work/corr-app/corr-app/_notebooks/scripts/read_data.py:215: SettingWithCopyWarning:\n",
      "\n",
      "\n",
      "A value is trying to be set on a copy of a slice from a DataFrame.\n",
      "Try using .loc[row_indexer,col_indexer] = value instead\n",
      "\n",
      "See the caveats in the documentation: https://pandas.pydata.org/pandas-docs/stable/user_guide/indexing.html#returning-a-view-versus-a-copy\n",
      "\n"
     ]
    }
   ],
   "source": [
    "#hide\n",
    "df_all = read_api()\n",
    "#df_all = df_all.drop(['SP500', 'XAU', 'ETH', 'BTC'], axis=1)\n",
    "\n"
   ]
  },
  {
   "cell_type": "code",
   "execution_count": 6,
   "id": "mature-alert",
   "metadata": {
    "execution": {
     "iopub.execute_input": "2022-08-16T03:18:27.722821Z",
     "iopub.status.busy": "2022-08-16T03:18:27.720132Z",
     "iopub.status.idle": "2022-08-16T03:18:27.749713Z",
     "shell.execute_reply": "2022-08-16T03:18:27.749003Z"
    },
    "papermill": {
     "duration": 0.045717,
     "end_time": "2022-08-16T03:18:27.749816",
     "exception": false,
     "start_time": "2022-08-16T03:18:27.704099",
     "status": "completed"
    },
    "tags": []
   },
   "outputs": [],
   "source": [
    "#hide_input\n",
    "sum_corr = df_all.corr().sum().sort_values(ascending=True).index.values\n",
    "#df_all[sum_corr].corr()"
   ]
  },
  {
   "cell_type": "markdown",
   "id": "complex-syndicate",
   "metadata": {
    "papermill": {
     "duration": 0.011242,
     "end_time": "2022-08-16T03:18:27.772348",
     "exception": false,
     "start_time": "2022-08-16T03:18:27.761106",
     "status": "completed"
    },
    "tags": []
   },
   "source": [
    "## Išplėstinė koreliacijų matrica. "
   ]
  },
  {
   "cell_type": "code",
   "execution_count": 7,
   "id": "atomic-omaha",
   "metadata": {
    "execution": {
     "iopub.execute_input": "2022-08-16T03:18:27.799011Z",
     "iopub.status.busy": "2022-08-16T03:18:27.798409Z",
     "iopub.status.idle": "2022-08-16T03:18:28.905834Z",
     "shell.execute_reply": "2022-08-16T03:18:28.904939Z"
    },
    "papermill": {
     "duration": 1.122369,
     "end_time": "2022-08-16T03:18:28.905955",
     "exception": false,
     "start_time": "2022-08-16T03:18:27.783586",
     "status": "completed"
    },
    "tags": []
   },
   "outputs": [
    {
     "data": {
      "image/png": "[encoded data removed]",
      "text/plain": [
       "<Figure size 1080x792 with 2 Axes>"
      ]
     },
     "metadata": {
      "needs_background": "light"
     },
     "output_type": "display_data"
    }
   ],
   "source": [
    "#hide_input\n",
    "plt.figure(figsize=(15, 11))\n",
    "sns.heatmap(df_all[sum_corr].corr(), annot=True, cmap=\"cubehelix\") \n",
    "sns.set(font_scale=1.25)\n",
    "plt.savefig('corr_matrix.png', format='eps')"
   ]
  },
  {
   "cell_type": "code",
   "execution_count": 8,
   "id": "arbitrary-sullivan",
   "metadata": {
    "execution": {
     "iopub.execute_input": "2022-08-16T03:18:28.936119Z",
     "iopub.status.busy": "2022-08-16T03:18:28.935566Z",
     "iopub.status.idle": "2022-08-16T03:18:28.963135Z",
     "shell.execute_reply": "2022-08-16T03:18:28.962682Z"
    },
    "papermill": {
     "duration": 0.043638,
     "end_time": "2022-08-16T03:18:28.963239",
     "exception": false,
     "start_time": "2022-08-16T03:18:28.919601",
     "status": "completed"
    },
    "tags": []
   },
   "outputs": [],
   "source": [
    "#hide\n",
    "#df_all_mrk = read_api()"
   ]
  },
  {
   "cell_type": "code",
   "execution_count": 9,
   "id": "delayed-adapter",
   "metadata": {
    "execution": {
     "iopub.execute_input": "2022-08-16T03:18:29.031609Z",
     "iopub.status.busy": "2022-08-16T03:18:29.031039Z",
     "iopub.status.idle": "2022-08-16T03:18:29.049086Z",
     "shell.execute_reply": "2022-08-16T03:18:29.048616Z"
    },
    "papermill": {
     "duration": 0.049211,
     "end_time": "2022-08-16T03:18:29.049186",
     "exception": false,
     "start_time": "2022-08-16T03:18:28.999975",
     "status": "completed"
    },
    "tags": []
   },
   "outputs": [],
   "source": [
    "#hide\n",
    "#Koreliacijų koeficientai"
   ]
  },
  {
   "cell_type": "code",
   "execution_count": 10,
   "id": "seeing-celebration",
   "metadata": {
    "execution": {
     "iopub.execute_input": "2022-08-16T03:18:29.164095Z",
     "iopub.status.busy": "2022-08-16T03:18:29.163402Z",
     "iopub.status.idle": "2022-08-16T03:18:29.192378Z",
     "shell.execute_reply": "2022-08-16T03:18:29.191819Z"
    },
    "papermill": {
     "duration": 0.085929,
     "end_time": "2022-08-16T03:18:29.192482",
     "exception": false,
     "start_time": "2022-08-16T03:18:29.106553",
     "status": "completed"
    },
    "tags": []
   },
   "outputs": [],
   "source": [
    "#hide_input\n",
    "#sum_corr = df_all_mrk.corr().sum().sort_values(ascending=True).index.values\n",
    "#df_all_mrk[sum_corr].corr()"
   ]
  },
  {
   "cell_type": "code",
   "execution_count": 11,
   "id": "other-painting",
   "metadata": {
    "execution": {
     "iopub.execute_input": "2022-08-16T03:18:29.262283Z",
     "iopub.status.busy": "2022-08-16T03:18:29.260388Z",
     "iopub.status.idle": "2022-08-16T03:18:29.287653Z",
     "shell.execute_reply": "2022-08-16T03:18:29.286849Z"
    },
    "papermill": {
     "duration": 0.080825,
     "end_time": "2022-08-16T03:18:29.287772",
     "exception": false,
     "start_time": "2022-08-16T03:18:29.206947",
     "status": "completed"
    },
    "tags": []
   },
   "outputs": [],
   "source": [
    "#hide\n",
    "#Koreliacijos matrica. "
   ]
  },
  {
   "cell_type": "code",
   "execution_count": 12,
   "id": "modular-magnitude",
   "metadata": {
    "execution": {
     "iopub.execute_input": "2022-08-16T03:18:29.355456Z",
     "iopub.status.busy": "2022-08-16T03:18:29.354868Z",
     "iopub.status.idle": "2022-08-16T03:18:29.379922Z",
     "shell.execute_reply": "2022-08-16T03:18:29.379483Z"
    },
    "papermill": {
     "duration": 0.076888,
     "end_time": "2022-08-16T03:18:29.380025",
     "exception": false,
     "start_time": "2022-08-16T03:18:29.303137",
     "status": "completed"
    },
    "tags": []
   },
   "outputs": [],
   "source": [
    "#hide_input\n",
    "#plt.figure(figsize=(15, 8))\n",
    "#sns.heatmap(df_all_mrk[sum_corr].corr(), annot=True, cmap=\"BrBG\");\n",
    "#plt.savefig('corr_matrix_all.eps', format='eps')"
   ]
  },
  {
   "cell_type": "code",
   "execution_count": null,
   "id": "original-senator",
   "metadata": {
    "papermill": {
     "duration": 0.047435,
     "end_time": "2022-08-16T03:18:29.461867",
     "exception": false,
     "start_time": "2022-08-16T03:18:29.414432",
     "status": "completed"
    },
    "tags": []
   },
   "outputs": [],
   "source": []
  },
  {
   "cell_type": "code",
   "execution_count": null,
   "id": "saving-secretariat",
   "metadata": {
    "papermill": {
     "duration": 0.022135,
     "end_time": "2022-08-16T03:18:29.548703",
     "exception": false,
     "start_time": "2022-08-16T03:18:29.526568",
     "status": "completed"
    },
    "tags": []
   },
   "outputs": [],
   "source": []
  }
 ],
 "metadata": {
  "kernelspec": {
   "display_name": "Python 3",
   "language": "python",
   "name": "python3"
  },
  "language_info": {
   "codemirror_mode": {
    "name": "ipython",
    "version": 3
   },
   "file_extension": ".py",
   "mimetype": "text/x-python",
   "name": "python",
   "nbconvert_exporter": "python",
   "pygments_lexer": "ipython3",
   "version": "3.6.15"
  },
  "papermill": {
   "default_parameters": {},
   "duration": 19.960486,
   "end_time": "2022-08-16T03:18:29.980519",
   "environment_variables": {},
   "exception": null,
   "input_path": "App-Correlation_charts.ipynb",
   "output_path": "App-Correlation_charts.ipynb",
   "parameters": {},
   "start_time": "2022-08-16T03:18:10.020033",
   "version": "2.2.2"
  }
 },
 "nbformat": 4,
 "nbformat_minor": 5
}