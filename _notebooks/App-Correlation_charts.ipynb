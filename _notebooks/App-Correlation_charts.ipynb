{
 "cells": [
  {
   "cell_type": "markdown",
   "id": "touched-facility",
   "metadata": {
    "papermill": {
     "duration": 0.014959,
     "end_time": "2021-10-03T02:01:51.810542",
     "exception": false,
     "start_time": "2021-10-03T02:01:51.795583",
     "status": "completed"
    },
    "tags": []
   },
   "source": [
    "# Koreliacijų matrica\n",
    "> Išplėstinė koreliacijų matrica. \n",
    "\n",
    "- toc: true \n",
    "- badges: true\n",
    "- comments: false\n",
    "- categories: [Dominykas Tautkus]\n",
    "- image: images/matrix.png"
   ]
  },
  {
   "cell_type": "code",
   "execution_count": null,
   "id": "premium-weekend",
   "metadata": {
    "papermill": {
     "duration": 0.010721,
     "end_time": "2021-10-03T02:01:51.832710",
     "exception": false,
     "start_time": "2021-10-03T02:01:51.821989",
     "status": "completed"
    },
    "tags": []
   },
   "outputs": [],
   "source": []
  },
  {
   "cell_type": "code",
   "execution_count": 1,
   "id": "vertical-rebate",
   "metadata": {
    "execution": {
     "iopub.execute_input": "2021-10-03T02:01:51.864515Z",
     "iopub.status.busy": "2021-10-03T02:01:51.863949Z",
     "iopub.status.idle": "2021-10-03T02:01:51.874349Z",
     "shell.execute_reply": "2021-10-03T02:01:51.873928Z"
    },
    "papermill": {
     "duration": 0.031204,
     "end_time": "2021-10-03T02:01:51.874469",
     "exception": false,
     "start_time": "2021-10-03T02:01:51.843265",
     "status": "completed"
    },
    "tags": []
   },
   "outputs": [],
   "source": [
    "#hide\n",
    "%load_ext autoreload\n",
    "%autoreload 2"
   ]
  },
  {
   "cell_type": "code",
   "execution_count": 2,
   "id": "overall-advancement",
   "metadata": {
    "execution": {
     "iopub.execute_input": "2021-10-03T02:01:51.900215Z",
     "iopub.status.busy": "2021-10-03T02:01:51.899684Z",
     "iopub.status.idle": "2021-10-03T02:01:52.979327Z",
     "shell.execute_reply": "2021-10-03T02:01:52.978769Z"
    },
    "papermill": {
     "duration": 1.094338,
     "end_time": "2021-10-03T02:01:52.979473",
     "exception": false,
     "start_time": "2021-10-03T02:01:51.885135",
     "status": "completed"
    },
    "tags": []
   },
   "outputs": [],
   "source": [
    "#hide\n",
    "from scripts.read_data import read_api\n",
    "from IPython.display import HTML\n",
    "import plotly.graph_objects as go\n"
   ]
  },
  {
   "cell_type": "code",
   "execution_count": 3,
   "id": "light-crazy",
   "metadata": {
    "execution": {
     "iopub.execute_input": "2021-10-03T02:01:53.012989Z",
     "iopub.status.busy": "2021-10-03T02:01:53.012477Z",
     "iopub.status.idle": "2021-10-03T02:01:53.028593Z",
     "shell.execute_reply": "2021-10-03T02:01:53.028975Z"
    },
    "papermill": {
     "duration": 0.037695,
     "end_time": "2021-10-03T02:01:53.029102",
     "exception": false,
     "start_time": "2021-10-03T02:01:52.991407",
     "status": "completed"
    },
    "tags": []
   },
   "outputs": [],
   "source": [
    "#hide\n",
    "### ICO koreliacija"
   ]
  },
  {
   "cell_type": "code",
   "execution_count": 4,
   "id": "likely-bahrain",
   "metadata": {
    "execution": {
     "iopub.execute_input": "2021-10-03T02:01:53.054094Z",
     "iopub.status.busy": "2021-10-03T02:01:53.053579Z",
     "iopub.status.idle": "2021-10-03T02:01:53.848669Z",
     "shell.execute_reply": "2021-10-03T02:01:53.848103Z"
    },
    "papermill": {
     "duration": 0.809017,
     "end_time": "2021-10-03T02:01:53.848809",
     "exception": false,
     "start_time": "2021-10-03T02:01:53.039792",
     "status": "completed"
    },
    "tags": []
   },
   "outputs": [],
   "source": [
    "#hide\n",
    "import matplotlib.pyplot as plt\n",
    "import numpy as np\n",
    "import pandas as pd\n",
    "import seaborn as sns\n",
    "import matplotlib.pyplot as plt \n",
    "import matplotlib.dates as mdates\n",
    "import matplotlib.pyplot as plt"
   ]
  },
  {
   "cell_type": "code",
   "execution_count": 5,
   "id": "superior-blanket",
   "metadata": {
    "execution": {
     "iopub.execute_input": "2021-10-03T02:01:53.881637Z",
     "iopub.status.busy": "2021-10-03T02:01:53.881108Z",
     "iopub.status.idle": "2021-10-03T02:02:08.355796Z",
     "shell.execute_reply": "2021-10-03T02:02:08.355258Z"
    },
    "papermill": {
     "duration": 14.495501,
     "end_time": "2021-10-03T02:02:08.355926",
     "exception": false,
     "start_time": "2021-10-03T02:01:53.860425",
     "status": "completed"
    },
    "tags": []
   },
   "outputs": [
    {
     "name": "stderr",
     "output_type": "stream",
     "text": [
      "/home/runner/work/corr-app/corr-app/_notebooks/scripts/read_data.py:187: SettingWithCopyWarning:\n",
      "\n",
      "\n",
      "A value is trying to be set on a copy of a slice from a DataFrame.\n",
      "Try using .loc[row_indexer,col_indexer] = value instead\n",
      "\n",
      "See the caveats in the documentation: https://pandas.pydata.org/pandas-docs/stable/user_guide/indexing.html#returning-a-view-versus-a-copy\n",
      "\n"
     ]
    },
    {
     "name": "stderr",
     "output_type": "stream",
     "text": [
      "/home/runner/work/corr-app/corr-app/_notebooks/scripts/read_data.py:215: SettingWithCopyWarning:\n",
      "\n",
      "\n",
      "A value is trying to be set on a copy of a slice from a DataFrame.\n",
      "Try using .loc[row_indexer,col_indexer] = value instead\n",
      "\n",
      "See the caveats in the documentation: https://pandas.pydata.org/pandas-docs/stable/user_guide/indexing.html#returning-a-view-versus-a-copy\n",
      "\n"
     ]
    }
   ],
   "source": [
    "#hide\n",
    "df_all = read_api()\n",
    "#df_all = df_all.drop(['SP500', 'XAU', 'ETH', 'BTC'], axis=1)\n",
    "\n"
   ]
  },
  {
   "cell_type": "code",
   "execution_count": 6,
   "id": "mature-alert",
   "metadata": {
    "execution": {
     "iopub.execute_input": "2021-10-03T02:02:08.401631Z",
     "iopub.status.busy": "2021-10-03T02:02:08.400803Z",
     "iopub.status.idle": "2021-10-03T02:02:08.420126Z",
     "shell.execute_reply": "2021-10-03T02:02:08.419444Z"
    },
    "papermill": {
     "duration": 0.052394,
     "end_time": "2021-10-03T02:02:08.420239",
     "exception": false,
     "start_time": "2021-10-03T02:02:08.367845",
     "status": "completed"
    },
    "tags": []
   },
   "outputs": [],
   "source": [
    "#hide_input\n",
    "sum_corr = df_all.corr().sum().sort_values(ascending=True).index.values\n",
    "#df_all[sum_corr].corr()"
   ]
  },
  {
   "cell_type": "markdown",
   "id": "complex-syndicate",
   "metadata": {
    "papermill": {
     "duration": 0.01115,
     "end_time": "2021-10-03T02:02:08.442572",
     "exception": false,
     "start_time": "2021-10-03T02:02:08.431422",
     "status": "completed"
    },
    "tags": []
   },
   "source": [
    "## Išplėstinė koreliacijų matrica. "
   ]
  },
  {
   "cell_type": "code",
   "execution_count": 7,
   "id": "atomic-omaha",
   "metadata": {
    "execution": {
     "iopub.execute_input": "2021-10-03T02:02:08.469146Z",
     "iopub.status.busy": "2021-10-03T02:02:08.468645Z",
     "iopub.status.idle": "2021-10-03T02:02:09.618239Z",
     "shell.execute_reply": "2021-10-03T02:02:09.617807Z"
    },
    "papermill": {
     "duration": 1.164628,
     "end_time": "2021-10-03T02:02:09.618365",
     "exception": false,
     "start_time": "2021-10-03T02:02:08.453737",
     "status": "completed"
    },
    "tags": []
   },
   "outputs": [
    {
     "data": {
      "image/png": "[encoded data removed]",
      "text/plain": [
       "<Figure size 1080x792 with 2 Axes>"
      ]
     },
     "metadata": {
      "needs_background": "light"
     },
     "output_type": "display_data"
    }
   ],
   "source": [
    "#hide_input\n",
    "plt.figure(figsize=(15, 11))\n",
    "sns.heatmap(df_all[sum_corr].corr(), annot=True, cmap=\"cubehelix\") \n",
    "sns.set(font_scale=1.25)\n",
    "plt.savefig('corr_matrix.png', format='eps')"
   ]
  },
  {
   "cell_type": "code",
   "execution_count": 8,
   "id": "arbitrary-sullivan",
   "metadata": {
    "execution": {
     "iopub.execute_input": "2021-10-03T02:02:09.648838Z",
     "iopub.status.busy": "2021-10-03T02:02:09.647575Z",
     "iopub.status.idle": "2021-10-03T02:02:09.673388Z",
     "shell.execute_reply": "2021-10-03T02:02:09.672928Z"
    },
    "papermill": {
     "duration": 0.041521,
     "end_time": "2021-10-03T02:02:09.673504",
     "exception": false,
     "start_time": "2021-10-03T02:02:09.631983",
     "status": "completed"
    },
    "tags": []
   },
   "outputs": [],
   "source": [
    "#hide\n",
    "#df_all_mrk = read_api()"
   ]
  },
  {
   "cell_type": "code",
   "execution_count": 9,
   "id": "delayed-adapter",
   "metadata": {
    "execution": {
     "iopub.execute_input": "2021-10-03T02:02:09.703700Z",
     "iopub.status.busy": "2021-10-03T02:02:09.703195Z",
     "iopub.status.idle": "2021-10-03T02:02:09.729143Z",
     "shell.execute_reply": "2021-10-03T02:02:09.728682Z"
    },
    "papermill": {
     "duration": 0.041361,
     "end_time": "2021-10-03T02:02:09.729257",
     "exception": false,
     "start_time": "2021-10-03T02:02:09.687896",
     "status": "completed"
    },
    "tags": []
   },
   "outputs": [],
   "source": [
    "#hide\n",
    "#Koreliacijų koeficientai"
   ]
  },
  {
   "cell_type": "code",
   "execution_count": 10,
   "id": "seeing-celebration",
   "metadata": {
    "execution": {
     "iopub.execute_input": "2021-10-03T02:02:09.758906Z",
     "iopub.status.busy": "2021-10-03T02:02:09.758410Z",
     "iopub.status.idle": "2021-10-03T02:02:09.780605Z",
     "shell.execute_reply": "2021-10-03T02:02:09.780981Z"
    },
    "papermill": {
     "duration": 0.038309,
     "end_time": "2021-10-03T02:02:09.781091",
     "exception": false,
     "start_time": "2021-10-03T02:02:09.742782",
     "status": "completed"
    },
    "tags": []
   },
   "outputs": [],
   "source": [
    "#hide_input\n",
    "#sum_corr = df_all_mrk.corr().sum().sort_values(ascending=True).index.values\n",
    "#df_all_mrk[sum_corr].corr()"
   ]
  },
  {
   "cell_type": "code",
   "execution_count": 11,
   "id": "other-painting",
   "metadata": {
    "execution": {
     "iopub.execute_input": "2021-10-03T02:02:09.809903Z",
     "iopub.status.busy": "2021-10-03T02:02:09.809405Z",
     "iopub.status.idle": "2021-10-03T02:02:09.831782Z",
     "shell.execute_reply": "2021-10-03T02:02:09.832187Z"
    },
    "papermill": {
     "duration": 0.038151,
     "end_time": "2021-10-03T02:02:09.832300",
     "exception": false,
     "start_time": "2021-10-03T02:02:09.794149",
     "status": "completed"
    },
    "tags": []
   },
   "outputs": [],
   "source": [
    "#hide\n",
    "#Koreliacijos matrica. "
   ]
  },
  {
   "cell_type": "code",
   "execution_count": 12,
   "id": "modular-magnitude",
   "metadata": {
    "execution": {
     "iopub.execute_input": "2021-10-03T02:02:09.864771Z",
     "iopub.status.busy": "2021-10-03T02:02:09.864267Z",
     "iopub.status.idle": "2021-10-03T02:02:09.884567Z",
     "shell.execute_reply": "2021-10-03T02:02:09.884073Z"
    },
    "papermill": {
     "duration": 0.039079,
     "end_time": "2021-10-03T02:02:09.884678",
     "exception": false,
     "start_time": "2021-10-03T02:02:09.845599",
     "status": "completed"
    },
    "tags": []
   },
   "outputs": [],
   "source": [
    "#hide_input\n",
    "#plt.figure(figsize=(15, 8))\n",
    "#sns.heatmap(df_all_mrk[sum_corr].corr(), annot=True, cmap=\"BrBG\");\n",
    "#plt.savefig('corr_matrix_all.eps', format='eps')"
   ]
  },
  {
   "cell_type": "code",
   "execution_count": null,
   "id": "original-senator",
   "metadata": {
    "papermill": {
     "duration": 0.013014,
     "end_time": "2021-10-03T02:02:09.911815",
     "exception": false,
     "start_time": "2021-10-03T02:02:09.898801",
     "status": "completed"
    },
    "tags": []
   },
   "outputs": [],
   "source": []
  },
  {
   "cell_type": "code",
   "execution_count": null,
   "id": "saving-secretariat",
   "metadata": {
    "papermill": {
     "duration": 0.013058,
     "end_time": "2021-10-03T02:02:09.937967",
     "exception": false,
     "start_time": "2021-10-03T02:02:09.924909",
     "status": "completed"
    },
    "tags": []
   },
   "outputs": [],
   "source": []
  }
 ],
 "metadata": {
  "kernelspec": {
   "display_name": "Python 3",
   "language": "python",
   "name": "python3"
  },
  "language_info": {
   "codemirror_mode": {
    "name": "ipython",
    "version": 3
   },
   "file_extension": ".py",
   "mimetype": "text/x-python",
   "name": "python",
   "nbconvert_exporter": "python",
   "pygments_lexer": "ipython3",
   "version": "3.6.15"
  },
  "papermill": {
   "default_parameters": {},
   "duration": 19.623794,
   "end_time": "2021-10-03T02:02:10.458803",
   "environment_variables": {},
   "exception": null,
   "input_path": "App-Correlation_charts.ipynb",
   "output_path": "App-Correlation_charts.ipynb",
   "parameters": {},
   "start_time": "2021-10-03T02:01:50.835009",
   "version": "2.2.2"
  }
 },
 "nbformat": 4,
 "nbformat_minor": 5
}