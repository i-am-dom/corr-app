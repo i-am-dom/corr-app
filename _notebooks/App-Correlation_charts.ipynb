{
 "cells": [
  {
   "cell_type": "markdown",
   "id": "touched-facility",
   "metadata": {
    "papermill": {
     "duration": 0.015328,
     "end_time": "2021-08-20T01:53:24.152938",
     "exception": false,
     "start_time": "2021-08-20T01:53:24.137610",
     "status": "completed"
    },
    "tags": []
   },
   "source": [
    "# Koreliacijų matrica\n",
    "> Išplėstinė koreliacijų matrica. \n",
    "\n",
    "- toc: true \n",
    "- badges: true\n",
    "- comments: false\n",
    "- categories: [Dominykas Tautkus]\n",
    "- image: images/matrix.png"
   ]
  },
  {
   "cell_type": "code",
   "execution_count": null,
   "id": "premium-weekend",
   "metadata": {
    "papermill": {
     "duration": 0.010025,
     "end_time": "2021-08-20T01:53:24.173806",
     "exception": false,
     "start_time": "2021-08-20T01:53:24.163781",
     "status": "completed"
    },
    "tags": []
   },
   "outputs": [],
   "source": []
  },
  {
   "cell_type": "code",
   "execution_count": 1,
   "id": "vertical-rebate",
   "metadata": {
    "execution": {
     "iopub.execute_input": "2021-08-20T01:53:24.203092Z",
     "iopub.status.busy": "2021-08-20T01:53:24.202594Z",
     "iopub.status.idle": "2021-08-20T01:53:24.213268Z",
     "shell.execute_reply": "2021-08-20T01:53:24.212834Z"
    },
    "papermill": {
     "duration": 0.029822,
     "end_time": "2021-08-20T01:53:24.213374",
     "exception": false,
     "start_time": "2021-08-20T01:53:24.183552",
     "status": "completed"
    },
    "tags": []
   },
   "outputs": [],
   "source": [
    "#hide\n",
    "%load_ext autoreload\n",
    "%autoreload 2"
   ]
  },
  {
   "cell_type": "code",
   "execution_count": 2,
   "id": "overall-advancement",
   "metadata": {
    "execution": {
     "iopub.execute_input": "2021-08-20T01:53:24.237401Z",
     "iopub.status.busy": "2021-08-20T01:53:24.236906Z",
     "iopub.status.idle": "2021-08-20T01:53:25.327316Z",
     "shell.execute_reply": "2021-08-20T01:53:25.325746Z"
    },
    "papermill": {
     "duration": 1.103905,
     "end_time": "2021-08-20T01:53:25.327462",
     "exception": false,
     "start_time": "2021-08-20T01:53:24.223557",
     "status": "completed"
    },
    "tags": []
   },
   "outputs": [],
   "source": [
    "#hide\n",
    "from scripts.read_data import read_api\n",
    "from IPython.display import HTML\n",
    "import plotly.graph_objects as go\n"
   ]
  },
  {
   "cell_type": "code",
   "execution_count": 3,
   "id": "light-crazy",
   "metadata": {
    "execution": {
     "iopub.execute_input": "2021-08-20T01:53:25.354283Z",
     "iopub.status.busy": "2021-08-20T01:53:25.352511Z",
     "iopub.status.idle": "2021-08-20T01:53:25.370738Z",
     "shell.execute_reply": "2021-08-20T01:53:25.371057Z"
    },
    "papermill": {
     "duration": 0.03242,
     "end_time": "2021-08-20T01:53:25.371161",
     "exception": false,
     "start_time": "2021-08-20T01:53:25.338741",
     "status": "completed"
    },
    "tags": []
   },
   "outputs": [],
   "source": [
    "#hide\n",
    "### ICO koreliacija"
   ]
  },
  {
   "cell_type": "code",
   "execution_count": 4,
   "id": "likely-bahrain",
   "metadata": {
    "execution": {
     "iopub.execute_input": "2021-08-20T01:53:25.394647Z",
     "iopub.status.busy": "2021-08-20T01:53:25.394201Z",
     "iopub.status.idle": "2021-08-20T01:53:26.122957Z",
     "shell.execute_reply": "2021-08-20T01:53:26.122567Z"
    },
    "papermill": {
     "duration": 0.741864,
     "end_time": "2021-08-20T01:53:26.123061",
     "exception": false,
     "start_time": "2021-08-20T01:53:25.381197",
     "status": "completed"
    },
    "tags": []
   },
   "outputs": [],
   "source": [
    "#hide\n",
    "import matplotlib.pyplot as plt\n",
    "import numpy as np\n",
    "import pandas as pd\n",
    "import seaborn as sns\n",
    "import matplotlib.pyplot as plt \n",
    "import matplotlib.dates as mdates\n",
    "import matplotlib.pyplot as plt"
   ]
  },
  {
   "cell_type": "code",
   "execution_count": 5,
   "id": "superior-blanket",
   "metadata": {
    "execution": {
     "iopub.execute_input": "2021-08-20T01:53:26.145423Z",
     "iopub.status.busy": "2021-08-20T01:53:26.144757Z",
     "iopub.status.idle": "2021-08-20T01:53:36.479892Z",
     "shell.execute_reply": "2021-08-20T01:53:36.479413Z"
    },
    "papermill": {
     "duration": 10.347265,
     "end_time": "2021-08-20T01:53:36.480003",
     "exception": false,
     "start_time": "2021-08-20T01:53:26.132738",
     "status": "completed"
    },
    "tags": []
   },
   "outputs": [
    {
     "name": "stderr",
     "output_type": "stream",
     "text": [
      "/home/runner/work/corr-app/corr-app/_notebooks/scripts/read_data.py:187: SettingWithCopyWarning:\n",
      "\n",
      "\n",
      "A value is trying to be set on a copy of a slice from a DataFrame.\n",
      "Try using .loc[row_indexer,col_indexer] = value instead\n",
      "\n",
      "See the caveats in the documentation: https://pandas.pydata.org/pandas-docs/stable/user_guide/indexing.html#returning-a-view-versus-a-copy\n",
      "\n"
     ]
    },
    {
     "name": "stderr",
     "output_type": "stream",
     "text": [
      "/home/runner/work/corr-app/corr-app/_notebooks/scripts/read_data.py:215: SettingWithCopyWarning:\n",
      "\n",
      "\n",
      "A value is trying to be set on a copy of a slice from a DataFrame.\n",
      "Try using .loc[row_indexer,col_indexer] = value instead\n",
      "\n",
      "See the caveats in the documentation: https://pandas.pydata.org/pandas-docs/stable/user_guide/indexing.html#returning-a-view-versus-a-copy\n",
      "\n"
     ]
    }
   ],
   "source": [
    "#hide\n",
    "df_all = read_api()\n",
    "#df_all = df_all.drop(['SP500', 'XAU', 'ETH', 'BTC'], axis=1)\n",
    "\n"
   ]
  },
  {
   "cell_type": "code",
   "execution_count": 6,
   "id": "mature-alert",
   "metadata": {
    "execution": {
     "iopub.execute_input": "2021-08-20T01:53:36.507524Z",
     "iopub.status.busy": "2021-08-20T01:53:36.507042Z",
     "iopub.status.idle": "2021-08-20T01:53:36.536687Z",
     "shell.execute_reply": "2021-08-20T01:53:36.535983Z"
    },
    "papermill": {
     "duration": 0.046009,
     "end_time": "2021-08-20T01:53:36.536876",
     "exception": false,
     "start_time": "2021-08-20T01:53:36.490867",
     "status": "completed"
    },
    "tags": []
   },
   "outputs": [],
   "source": [
    "#hide_input\n",
    "sum_corr = df_all.corr().sum().sort_values(ascending=True).index.values\n",
    "#df_all[sum_corr].corr()"
   ]
  },
  {
   "cell_type": "markdown",
   "id": "complex-syndicate",
   "metadata": {
    "papermill": {
     "duration": 0.011453,
     "end_time": "2021-08-20T01:53:36.559469",
     "exception": false,
     "start_time": "2021-08-20T01:53:36.548016",
     "status": "completed"
    },
    "tags": []
   },
   "source": [
    "## Išplėstinė koreliacijų matrica. "
   ]
  },
  {
   "cell_type": "code",
   "execution_count": 7,
   "id": "atomic-omaha",
   "metadata": {
    "execution": {
     "iopub.execute_input": "2021-08-20T01:53:36.584828Z",
     "iopub.status.busy": "2021-08-20T01:53:36.583992Z",
     "iopub.status.idle": "2021-08-20T01:53:37.628456Z",
     "shell.execute_reply": "2021-08-20T01:53:37.627557Z"
    },
    "papermill": {
     "duration": 1.058949,
     "end_time": "2021-08-20T01:53:37.628661",
     "exception": false,
     "start_time": "2021-08-20T01:53:36.569712",
     "status": "completed"
    },
    "tags": []
   },
   "outputs": [
    {
     "data": {
      "image/png": "[encoded data removed]",
      "text/plain": [
       "<Figure size 1080x792 with 2 Axes>"
      ]
     },
     "metadata": {
      "needs_background": "light"
     },
     "output_type": "display_data"
    }
   ],
   "source": [
    "#hide_input\n",
    "plt.figure(figsize=(15, 11))\n",
    "sns.heatmap(df_all[sum_corr].corr(), annot=True, cmap=\"cubehelix\") \n",
    "sns.set(font_scale=1.25)\n",
    "plt.savefig('corr_matrix.png', format='eps')"
   ]
  },
  {
   "cell_type": "code",
   "execution_count": 8,
   "id": "arbitrary-sullivan",
   "metadata": {
    "execution": {
     "iopub.execute_input": "2021-08-20T01:53:37.657589Z",
     "iopub.status.busy": "2021-08-20T01:53:37.657170Z",
     "iopub.status.idle": "2021-08-20T01:53:37.680637Z",
     "shell.execute_reply": "2021-08-20T01:53:37.680297Z"
    },
    "papermill": {
     "duration": 0.039693,
     "end_time": "2021-08-20T01:53:37.680744",
     "exception": false,
     "start_time": "2021-08-20T01:53:37.641051",
     "status": "completed"
    },
    "tags": []
   },
   "outputs": [],
   "source": [
    "#hide\n",
    "#df_all_mrk = read_api()"
   ]
  },
  {
   "cell_type": "code",
   "execution_count": 9,
   "id": "delayed-adapter",
   "metadata": {
    "execution": {
     "iopub.execute_input": "2021-08-20T01:53:37.711182Z",
     "iopub.status.busy": "2021-08-20T01:53:37.710699Z",
     "iopub.status.idle": "2021-08-20T01:53:37.736019Z",
     "shell.execute_reply": "2021-08-20T01:53:37.735523Z"
    },
    "papermill": {
     "duration": 0.043141,
     "end_time": "2021-08-20T01:53:37.736135",
     "exception": false,
     "start_time": "2021-08-20T01:53:37.692994",
     "status": "completed"
    },
    "tags": []
   },
   "outputs": [],
   "source": [
    "#hide\n",
    "#Koreliacijų koeficientai"
   ]
  },
  {
   "cell_type": "code",
   "execution_count": 10,
   "id": "seeing-celebration",
   "metadata": {
    "execution": {
     "iopub.execute_input": "2021-08-20T01:53:37.768204Z",
     "iopub.status.busy": "2021-08-20T01:53:37.767782Z",
     "iopub.status.idle": "2021-08-20T01:53:37.789275Z",
     "shell.execute_reply": "2021-08-20T01:53:37.788932Z"
    },
    "papermill": {
     "duration": 0.036051,
     "end_time": "2021-08-20T01:53:37.789364",
     "exception": false,
     "start_time": "2021-08-20T01:53:37.753313",
     "status": "completed"
    },
    "tags": []
   },
   "outputs": [],
   "source": [
    "#hide_input\n",
    "#sum_corr = df_all_mrk.corr().sum().sort_values(ascending=True).index.values\n",
    "#df_all_mrk[sum_corr].corr()"
   ]
  },
  {
   "cell_type": "code",
   "execution_count": 11,
   "id": "other-painting",
   "metadata": {
    "execution": {
     "iopub.execute_input": "2021-08-20T01:53:37.814270Z",
     "iopub.status.busy": "2021-08-20T01:53:37.813858Z",
     "iopub.status.idle": "2021-08-20T01:53:37.835053Z",
     "shell.execute_reply": "2021-08-20T01:53:37.835370Z"
    },
    "papermill": {
     "duration": 0.035397,
     "end_time": "2021-08-20T01:53:37.835463",
     "exception": false,
     "start_time": "2021-08-20T01:53:37.800066",
     "status": "completed"
    },
    "tags": []
   },
   "outputs": [],
   "source": [
    "#hide\n",
    "#Koreliacijos matrica. "
   ]
  },
  {
   "cell_type": "code",
   "execution_count": 12,
   "id": "modular-magnitude",
   "metadata": {
    "execution": {
     "iopub.execute_input": "2021-08-20T01:53:37.860829Z",
     "iopub.status.busy": "2021-08-20T01:53:37.860388Z",
     "iopub.status.idle": "2021-08-20T01:53:37.882009Z",
     "shell.execute_reply": "2021-08-20T01:53:37.882329Z"
    },
    "papermill": {
     "duration": 0.036247,
     "end_time": "2021-08-20T01:53:37.882424",
     "exception": false,
     "start_time": "2021-08-20T01:53:37.846177",
     "status": "completed"
    },
    "tags": []
   },
   "outputs": [],
   "source": [
    "#hide_input\n",
    "#plt.figure(figsize=(15, 8))\n",
    "#sns.heatmap(df_all_mrk[sum_corr].corr(), annot=True, cmap=\"BrBG\");\n",
    "#plt.savefig('corr_matrix_all.eps', format='eps')"
   ]
  },
  {
   "cell_type": "code",
   "execution_count": null,
   "id": "original-senator",
   "metadata": {
    "papermill": {
     "duration": 0.011158,
     "end_time": "2021-08-20T01:53:37.905454",
     "exception": false,
     "start_time": "2021-08-20T01:53:37.894296",
     "status": "completed"
    },
    "tags": []
   },
   "outputs": [],
   "source": []
  },
  {
   "cell_type": "code",
   "execution_count": null,
   "id": "saving-secretariat",
   "metadata": {
    "papermill": {
     "duration": 0.010948,
     "end_time": "2021-08-20T01:53:37.927816",
     "exception": false,
     "start_time": "2021-08-20T01:53:37.916868",
     "status": "completed"
    },
    "tags": []
   },
   "outputs": [],
   "source": []
  }
 ],
 "metadata": {
  "kernelspec": {
   "display_name": "Python 3",
   "language": "python",
   "name": "python3"
  },
  "language_info": {
   "codemirror_mode": {
    "name": "ipython",
    "version": 3
   },
   "file_extension": ".py",
   "mimetype": "text/x-python",
   "name": "python",
   "nbconvert_exporter": "python",
   "pygments_lexer": "ipython3",
   "version": "3.6.14"
  },
  "papermill": {
   "default_parameters": {},
   "duration": 15.213968,
   "end_time": "2021-08-20T01:53:38.347699",
   "environment_variables": {},
   "exception": null,
   "input_path": "App-Correlation_charts.ipynb",
   "output_path": "App-Correlation_charts.ipynb",
   "parameters": {},
   "start_time": "2021-08-20T01:53:23.133731",
   "version": "2.2.2"
  }
 },
 "nbformat": 4,
 "nbformat_minor": 5
}