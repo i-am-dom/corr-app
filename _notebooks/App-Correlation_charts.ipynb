{
 "cells": [
  {
   "cell_type": "markdown",
   "id": "touched-facility",
   "metadata": {
    "papermill": {
     "duration": 0.01454,
     "end_time": "2022-09-20T03:40:02.021286",
     "exception": false,
     "start_time": "2022-09-20T03:40:02.006746",
     "status": "completed"
    },
    "tags": []
   },
   "source": [
    "# Koreliacijų matrica\n",
    "> Išplėstinė koreliacijų matrica. \n",
    "\n",
    "- toc: true \n",
    "- badges: true\n",
    "- comments: false\n",
    "- categories: [Dominykas Tautkus]\n",
    "- image: images/matrix.png"
   ]
  },
  {
   "cell_type": "code",
   "execution_count": null,
   "id": "premium-weekend",
   "metadata": {
    "papermill": {
     "duration": 0.010779,
     "end_time": "2022-09-20T03:40:02.043611",
     "exception": false,
     "start_time": "2022-09-20T03:40:02.032832",
     "status": "completed"
    },
    "tags": []
   },
   "outputs": [],
   "source": []
  },
  {
   "cell_type": "code",
   "execution_count": 1,
   "id": "vertical-rebate",
   "metadata": {
    "execution": {
     "iopub.execute_input": "2022-09-20T03:40:02.075575Z",
     "iopub.status.busy": "2022-09-20T03:40:02.074997Z",
     "iopub.status.idle": "2022-09-20T03:40:02.085916Z",
     "shell.execute_reply": "2022-09-20T03:40:02.085434Z"
    },
    "papermill": {
     "duration": 0.031557,
     "end_time": "2022-09-20T03:40:02.086030",
     "exception": false,
     "start_time": "2022-09-20T03:40:02.054473",
     "status": "completed"
    },
    "tags": []
   },
   "outputs": [],
   "source": [
    "#hide\n",
    "%load_ext autoreload\n",
    "%autoreload 2"
   ]
  },
  {
   "cell_type": "code",
   "execution_count": 2,
   "id": "overall-advancement",
   "metadata": {
    "execution": {
     "iopub.execute_input": "2022-09-20T03:40:02.112731Z",
     "iopub.status.busy": "2022-09-20T03:40:02.112169Z",
     "iopub.status.idle": "2022-09-20T03:40:03.243114Z",
     "shell.execute_reply": "2022-09-20T03:40:03.242112Z"
    },
    "papermill": {
     "duration": 1.146329,
     "end_time": "2022-09-20T03:40:03.243238",
     "exception": false,
     "start_time": "2022-09-20T03:40:02.096909",
     "status": "completed"
    },
    "tags": []
   },
   "outputs": [],
   "source": [
    "#hide\n",
    "from scripts.read_data import read_api\n",
    "from IPython.display import HTML\n",
    "import plotly.graph_objects as go\n"
   ]
  },
  {
   "cell_type": "code",
   "execution_count": 3,
   "id": "light-crazy",
   "metadata": {
    "execution": {
     "iopub.execute_input": "2022-09-20T03:40:03.273305Z",
     "iopub.status.busy": "2022-09-20T03:40:03.270898Z",
     "iopub.status.idle": "2022-09-20T03:40:03.294007Z",
     "shell.execute_reply": "2022-09-20T03:40:03.293549Z"
    },
    "papermill": {
     "duration": 0.039719,
     "end_time": "2022-09-20T03:40:03.294120",
     "exception": false,
     "start_time": "2022-09-20T03:40:03.254401",
     "status": "completed"
    },
    "tags": []
   },
   "outputs": [],
   "source": [
    "#hide\n",
    "### ICO koreliacija"
   ]
  },
  {
   "cell_type": "code",
   "execution_count": 4,
   "id": "likely-bahrain",
   "metadata": {
    "execution": {
     "iopub.execute_input": "2022-09-20T03:40:03.324067Z",
     "iopub.status.busy": "2022-09-20T03:40:03.323501Z",
     "iopub.status.idle": "2022-09-20T03:40:04.140498Z",
     "shell.execute_reply": "2022-09-20T03:40:04.139565Z"
    },
    "papermill": {
     "duration": 0.831484,
     "end_time": "2022-09-20T03:40:04.140624",
     "exception": false,
     "start_time": "2022-09-20T03:40:03.309140",
     "status": "completed"
    },
    "tags": []
   },
   "outputs": [],
   "source": [
    "#hide\n",
    "import matplotlib.pyplot as plt\n",
    "import numpy as np\n",
    "import pandas as pd\n",
    "import seaborn as sns\n",
    "import matplotlib.pyplot as plt \n",
    "import matplotlib.dates as mdates\n",
    "import matplotlib.pyplot as plt"
   ]
  },
  {
   "cell_type": "code",
   "execution_count": 5,
   "id": "superior-blanket",
   "metadata": {
    "execution": {
     "iopub.execute_input": "2022-09-20T03:40:04.166438Z",
     "iopub.status.busy": "2022-09-20T03:40:04.165876Z",
     "iopub.status.idle": "2022-09-20T03:40:13.594948Z",
     "shell.execute_reply": "2022-09-20T03:40:13.594164Z"
    },
    "papermill": {
     "duration": 9.443333,
     "end_time": "2022-09-20T03:40:13.595064",
     "exception": false,
     "start_time": "2022-09-20T03:40:04.151731",
     "status": "completed"
    },
    "tags": []
   },
   "outputs": [
    {
     "name": "stderr",
     "output_type": "stream",
     "text": [
      "/home/runner/work/corr-app/corr-app/_notebooks/scripts/read_data.py:187: SettingWithCopyWarning:\n",
      "\n",
      "\n",
      "A value is trying to be set on a copy of a slice from a DataFrame.\n",
      "Try using .loc[row_indexer,col_indexer] = value instead\n",
      "\n",
      "See the caveats in the documentation: https://pandas.pydata.org/pandas-docs/stable/user_guide/indexing.html#returning-a-view-versus-a-copy\n",
      "\n"
     ]
    },
    {
     "name": "stderr",
     "output_type": "stream",
     "text": [
      "/home/runner/work/corr-app/corr-app/_notebooks/scripts/read_data.py:215: SettingWithCopyWarning:\n",
      "\n",
      "\n",
      "A value is trying to be set on a copy of a slice from a DataFrame.\n",
      "Try using .loc[row_indexer,col_indexer] = value instead\n",
      "\n",
      "See the caveats in the documentation: https://pandas.pydata.org/pandas-docs/stable/user_guide/indexing.html#returning-a-view-versus-a-copy\n",
      "\n"
     ]
    }
   ],
   "source": [
    "#hide\n",
    "df_all = read_api()\n",
    "#df_all = df_all.drop(['SP500', 'XAU', 'ETH', 'BTC'], axis=1)\n",
    "\n"
   ]
  },
  {
   "cell_type": "code",
   "execution_count": 6,
   "id": "mature-alert",
   "metadata": {
    "execution": {
     "iopub.execute_input": "2022-09-20T03:40:13.623442Z",
     "iopub.status.busy": "2022-09-20T03:40:13.622881Z",
     "iopub.status.idle": "2022-09-20T03:40:13.652431Z",
     "shell.execute_reply": "2022-09-20T03:40:13.651972Z"
    },
    "papermill": {
     "duration": 0.044706,
     "end_time": "2022-09-20T03:40:13.652541",
     "exception": false,
     "start_time": "2022-09-20T03:40:13.607835",
     "status": "completed"
    },
    "tags": []
   },
   "outputs": [],
   "source": [
    "#hide_input\n",
    "sum_corr = df_all.corr().sum().sort_values(ascending=True).index.values\n",
    "#df_all[sum_corr].corr()"
   ]
  },
  {
   "cell_type": "markdown",
   "id": "complex-syndicate",
   "metadata": {
    "papermill": {
     "duration": 0.011429,
     "end_time": "2022-09-20T03:40:13.675499",
     "exception": false,
     "start_time": "2022-09-20T03:40:13.664070",
     "status": "completed"
    },
    "tags": []
   },
   "source": [
    "## Išplėstinė koreliacijų matrica. "
   ]
  },
  {
   "cell_type": "code",
   "execution_count": 7,
   "id": "atomic-omaha",
   "metadata": {
    "execution": {
     "iopub.execute_input": "2022-09-20T03:40:13.703115Z",
     "iopub.status.busy": "2022-09-20T03:40:13.702551Z",
     "iopub.status.idle": "2022-09-20T03:40:14.815910Z",
     "shell.execute_reply": "2022-09-20T03:40:14.815352Z"
    },
    "papermill": {
     "duration": 1.129023,
     "end_time": "2022-09-20T03:40:14.816016",
     "exception": false,
     "start_time": "2022-09-20T03:40:13.686993",
     "status": "completed"
    },
    "tags": []
   },
   "outputs": [
    {
     "data": {
      "image/png": "[encoded data removed]",
      "text/plain": [
       "<Figure size 1080x792 with 2 Axes>"
      ]
     },
     "metadata": {
      "needs_background": "light"
     },
     "output_type": "display_data"
    }
   ],
   "source": [
    "#hide_input\n",
    "plt.figure(figsize=(15, 11))\n",
    "sns.heatmap(df_all[sum_corr].corr(), annot=True, cmap=\"cubehelix\") \n",
    "sns.set(font_scale=1.25)\n",
    "plt.savefig('corr_matrix.png', format='eps')"
   ]
  },
  {
   "cell_type": "code",
   "execution_count": 8,
   "id": "arbitrary-sullivan",
   "metadata": {
    "execution": {
     "iopub.execute_input": "2022-09-20T03:40:14.849283Z",
     "iopub.status.busy": "2022-09-20T03:40:14.847869Z",
     "iopub.status.idle": "2022-09-20T03:40:14.873366Z",
     "shell.execute_reply": "2022-09-20T03:40:14.873795Z"
    },
    "papermill": {
     "duration": 0.044001,
     "end_time": "2022-09-20T03:40:14.873927",
     "exception": false,
     "start_time": "2022-09-20T03:40:14.829926",
     "status": "completed"
    },
    "tags": []
   },
   "outputs": [],
   "source": [
    "#hide\n",
    "#df_all_mrk = read_api()"
   ]
  },
  {
   "cell_type": "code",
   "execution_count": 9,
   "id": "delayed-adapter",
   "metadata": {
    "execution": {
     "iopub.execute_input": "2022-09-20T03:40:14.903770Z",
     "iopub.status.busy": "2022-09-20T03:40:14.903222Z",
     "iopub.status.idle": "2022-09-20T03:40:14.929297Z",
     "shell.execute_reply": "2022-09-20T03:40:14.928804Z"
    },
    "papermill": {
     "duration": 0.042112,
     "end_time": "2022-09-20T03:40:14.929405",
     "exception": false,
     "start_time": "2022-09-20T03:40:14.887293",
     "status": "completed"
    },
    "tags": []
   },
   "outputs": [],
   "source": [
    "#hide\n",
    "#Koreliacijų koeficientai"
   ]
  },
  {
   "cell_type": "code",
   "execution_count": 10,
   "id": "seeing-celebration",
   "metadata": {
    "execution": {
     "iopub.execute_input": "2022-09-20T03:40:14.964304Z",
     "iopub.status.busy": "2022-09-20T03:40:14.961797Z",
     "iopub.status.idle": "2022-09-20T03:40:14.987914Z",
     "shell.execute_reply": "2022-09-20T03:40:14.987452Z"
    },
    "papermill": {
     "duration": 0.045103,
     "end_time": "2022-09-20T03:40:14.988025",
     "exception": false,
     "start_time": "2022-09-20T03:40:14.942922",
     "status": "completed"
    },
    "tags": []
   },
   "outputs": [],
   "source": [
    "#hide_input\n",
    "#sum_corr = df_all_mrk.corr().sum().sort_values(ascending=True).index.values\n",
    "#df_all_mrk[sum_corr].corr()"
   ]
  },
  {
   "cell_type": "code",
   "execution_count": 11,
   "id": "other-painting",
   "metadata": {
    "execution": {
     "iopub.execute_input": "2022-09-20T03:40:15.018195Z",
     "iopub.status.busy": "2022-09-20T03:40:15.017650Z",
     "iopub.status.idle": "2022-09-20T03:40:15.043824Z",
     "shell.execute_reply": "2022-09-20T03:40:15.043355Z"
    },
    "papermill": {
     "duration": 0.042331,
     "end_time": "2022-09-20T03:40:15.043937",
     "exception": false,
     "start_time": "2022-09-20T03:40:15.001606",
     "status": "completed"
    },
    "tags": []
   },
   "outputs": [],
   "source": [
    "#hide\n",
    "#Koreliacijos matrica. "
   ]
  },
  {
   "cell_type": "code",
   "execution_count": 12,
   "id": "modular-magnitude",
   "metadata": {
    "execution": {
     "iopub.execute_input": "2022-09-20T03:40:15.074375Z",
     "iopub.status.busy": "2022-09-20T03:40:15.073813Z",
     "iopub.status.idle": "2022-09-20T03:40:15.100129Z",
     "shell.execute_reply": "2022-09-20T03:40:15.099664Z"
    },
    "papermill": {
     "duration": 0.042707,
     "end_time": "2022-09-20T03:40:15.100235",
     "exception": false,
     "start_time": "2022-09-20T03:40:15.057528",
     "status": "completed"
    },
    "tags": []
   },
   "outputs": [],
   "source": [
    "#hide_input\n",
    "#plt.figure(figsize=(15, 8))\n",
    "#sns.heatmap(df_all_mrk[sum_corr].corr(), annot=True, cmap=\"BrBG\");\n",
    "#plt.savefig('corr_matrix_all.eps', format='eps')"
   ]
  },
  {
   "cell_type": "code",
   "execution_count": null,
   "id": "original-senator",
   "metadata": {
    "papermill": {
     "duration": 0.01338,
     "end_time": "2022-09-20T03:40:15.127092",
     "exception": false,
     "start_time": "2022-09-20T03:40:15.113712",
     "status": "completed"
    },
    "tags": []
   },
   "outputs": [],
   "source": []
  },
  {
   "cell_type": "code",
   "execution_count": null,
   "id": "saving-secretariat",
   "metadata": {
    "papermill": {
     "duration": 0.013623,
     "end_time": "2022-09-20T03:40:15.154855",
     "exception": false,
     "start_time": "2022-09-20T03:40:15.141232",
     "status": "completed"
    },
    "tags": []
   },
   "outputs": [],
   "source": []
  }
 ],
 "metadata": {
  "kernelspec": {
   "display_name": "Python 3",
   "language": "python",
   "name": "python3"
  },
  "language_info": {
   "codemirror_mode": {
    "name": "ipython",
    "version": 3
   },
   "file_extension": ".py",
   "mimetype": "text/x-python",
   "name": "python",
   "nbconvert_exporter": "python",
   "pygments_lexer": "ipython3",
   "version": "3.6.15"
  },
  "papermill": {
   "default_parameters": {},
   "duration": 14.711409,
   "end_time": "2022-09-20T03:40:15.586479",
   "environment_variables": {},
   "exception": null,
   "input_path": "App-Correlation_charts.ipynb",
   "output_path": "App-Correlation_charts.ipynb",
   "parameters": {},
   "start_time": "2022-09-20T03:40:00.875070",
   "version": "2.2.2"
  }
 },
 "nbformat": 4,
 "nbformat_minor": 5
}