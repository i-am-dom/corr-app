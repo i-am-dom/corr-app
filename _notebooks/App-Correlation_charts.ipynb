{
 "cells": [
  {
   "cell_type": "markdown",
   "id": "touched-facility",
   "metadata": {
    "papermill": {
     "duration": 0.018768,
     "end_time": "2021-09-19T02:00:11.804276",
     "exception": false,
     "start_time": "2021-09-19T02:00:11.785508",
     "status": "completed"
    },
    "tags": []
   },
   "source": [
    "# Koreliacijų matrica\n",
    "> Išplėstinė koreliacijų matrica. \n",
    "\n",
    "- toc: true \n",
    "- badges: true\n",
    "- comments: false\n",
    "- categories: [Dominykas Tautkus]\n",
    "- image: images/matrix.png"
   ]
  },
  {
   "cell_type": "code",
   "execution_count": null,
   "id": "premium-weekend",
   "metadata": {
    "papermill": {
     "duration": 0.012247,
     "end_time": "2021-09-19T02:00:11.829626",
     "exception": false,
     "start_time": "2021-09-19T02:00:11.817379",
     "status": "completed"
    },
    "tags": []
   },
   "outputs": [],
   "source": []
  },
  {
   "cell_type": "code",
   "execution_count": 1,
   "id": "vertical-rebate",
   "metadata": {
    "execution": {
     "iopub.execute_input": "2021-09-19T02:00:11.868234Z",
     "iopub.status.busy": "2021-09-19T02:00:11.866646Z",
     "iopub.status.idle": "2021-09-19T02:00:11.879313Z",
     "shell.execute_reply": "2021-09-19T02:00:11.878798Z"
    },
    "papermill": {
     "duration": 0.038272,
     "end_time": "2021-09-19T02:00:11.879466",
     "exception": false,
     "start_time": "2021-09-19T02:00:11.841194",
     "status": "completed"
    },
    "tags": []
   },
   "outputs": [],
   "source": [
    "#hide\n",
    "%load_ext autoreload\n",
    "%autoreload 2"
   ]
  },
  {
   "cell_type": "code",
   "execution_count": 2,
   "id": "overall-advancement",
   "metadata": {
    "execution": {
     "iopub.execute_input": "2021-09-19T02:00:11.907434Z",
     "iopub.status.busy": "2021-09-19T02:00:11.906858Z",
     "iopub.status.idle": "2021-09-19T02:00:13.282609Z",
     "shell.execute_reply": "2021-09-19T02:00:13.281572Z"
    },
    "papermill": {
     "duration": 1.391626,
     "end_time": "2021-09-19T02:00:13.282756",
     "exception": false,
     "start_time": "2021-09-19T02:00:11.891130",
     "status": "completed"
    },
    "tags": []
   },
   "outputs": [],
   "source": [
    "#hide\n",
    "from scripts.read_data import read_api\n",
    "from IPython.display import HTML\n",
    "import plotly.graph_objects as go\n"
   ]
  },
  {
   "cell_type": "code",
   "execution_count": 3,
   "id": "light-crazy",
   "metadata": {
    "execution": {
     "iopub.execute_input": "2021-09-19T02:00:13.314328Z",
     "iopub.status.busy": "2021-09-19T02:00:13.312869Z",
     "iopub.status.idle": "2021-09-19T02:00:13.337152Z",
     "shell.execute_reply": "2021-09-19T02:00:13.336501Z"
    },
    "papermill": {
     "duration": 0.042203,
     "end_time": "2021-09-19T02:00:13.337316",
     "exception": false,
     "start_time": "2021-09-19T02:00:13.295113",
     "status": "completed"
    },
    "tags": []
   },
   "outputs": [],
   "source": [
    "#hide\n",
    "### ICO koreliacija"
   ]
  },
  {
   "cell_type": "code",
   "execution_count": 4,
   "id": "likely-bahrain",
   "metadata": {
    "execution": {
     "iopub.execute_input": "2021-09-19T02:00:13.371104Z",
     "iopub.status.busy": "2021-09-19T02:00:13.370510Z",
     "iopub.status.idle": "2021-09-19T02:00:14.297923Z",
     "shell.execute_reply": "2021-09-19T02:00:14.297366Z"
    },
    "papermill": {
     "duration": 0.947694,
     "end_time": "2021-09-19T02:00:14.298056",
     "exception": false,
     "start_time": "2021-09-19T02:00:13.350362",
     "status": "completed"
    },
    "tags": []
   },
   "outputs": [],
   "source": [
    "#hide\n",
    "import matplotlib.pyplot as plt\n",
    "import numpy as np\n",
    "import pandas as pd\n",
    "import seaborn as sns\n",
    "import matplotlib.pyplot as plt \n",
    "import matplotlib.dates as mdates\n",
    "import matplotlib.pyplot as plt"
   ]
  },
  {
   "cell_type": "code",
   "execution_count": 5,
   "id": "superior-blanket",
   "metadata": {
    "execution": {
     "iopub.execute_input": "2021-09-19T02:00:14.326707Z",
     "iopub.status.busy": "2021-09-19T02:00:14.326084Z",
     "iopub.status.idle": "2021-09-19T02:00:30.739860Z",
     "shell.execute_reply": "2021-09-19T02:00:30.738758Z"
    },
    "papermill": {
     "duration": 16.42997,
     "end_time": "2021-09-19T02:00:30.739991",
     "exception": false,
     "start_time": "2021-09-19T02:00:14.310021",
     "status": "completed"
    },
    "tags": []
   },
   "outputs": [
    {
     "name": "stderr",
     "output_type": "stream",
     "text": [
      "/home/runner/work/corr-app/corr-app/_notebooks/scripts/read_data.py:187: SettingWithCopyWarning:\n",
      "\n",
      "\n",
      "A value is trying to be set on a copy of a slice from a DataFrame.\n",
      "Try using .loc[row_indexer,col_indexer] = value instead\n",
      "\n",
      "See the caveats in the documentation: https://pandas.pydata.org/pandas-docs/stable/user_guide/indexing.html#returning-a-view-versus-a-copy\n",
      "\n"
     ]
    },
    {
     "name": "stderr",
     "output_type": "stream",
     "text": [
      "/home/runner/work/corr-app/corr-app/_notebooks/scripts/read_data.py:215: SettingWithCopyWarning:\n",
      "\n",
      "\n",
      "A value is trying to be set on a copy of a slice from a DataFrame.\n",
      "Try using .loc[row_indexer,col_indexer] = value instead\n",
      "\n",
      "See the caveats in the documentation: https://pandas.pydata.org/pandas-docs/stable/user_guide/indexing.html#returning-a-view-versus-a-copy\n",
      "\n"
     ]
    }
   ],
   "source": [
    "#hide\n",
    "df_all = read_api()\n",
    "#df_all = df_all.drop(['SP500', 'XAU', 'ETH', 'BTC'], axis=1)\n",
    "\n"
   ]
  },
  {
   "cell_type": "code",
   "execution_count": 6,
   "id": "mature-alert",
   "metadata": {
    "execution": {
     "iopub.execute_input": "2021-09-19T02:00:30.769966Z",
     "iopub.status.busy": "2021-09-19T02:00:30.767418Z",
     "iopub.status.idle": "2021-09-19T02:00:30.797422Z",
     "shell.execute_reply": "2021-09-19T02:00:30.797873Z"
    },
    "papermill": {
     "duration": 0.046341,
     "end_time": "2021-09-19T02:00:30.798034",
     "exception": false,
     "start_time": "2021-09-19T02:00:30.751693",
     "status": "completed"
    },
    "tags": []
   },
   "outputs": [],
   "source": [
    "#hide_input\n",
    "sum_corr = df_all.corr().sum().sort_values(ascending=True).index.values\n",
    "#df_all[sum_corr].corr()"
   ]
  },
  {
   "cell_type": "markdown",
   "id": "complex-syndicate",
   "metadata": {
    "papermill": {
     "duration": 0.011829,
     "end_time": "2021-09-19T02:00:30.824932",
     "exception": false,
     "start_time": "2021-09-19T02:00:30.813103",
     "status": "completed"
    },
    "tags": []
   },
   "source": [
    "## Išplėstinė koreliacijų matrica. "
   ]
  },
  {
   "cell_type": "code",
   "execution_count": 7,
   "id": "atomic-omaha",
   "metadata": {
    "execution": {
     "iopub.execute_input": "2021-09-19T02:00:30.854415Z",
     "iopub.status.busy": "2021-09-19T02:00:30.853299Z",
     "iopub.status.idle": "2021-09-19T02:00:32.169943Z",
     "shell.execute_reply": "2021-09-19T02:00:32.170385Z"
    },
    "papermill": {
     "duration": 1.333659,
     "end_time": "2021-09-19T02:00:32.170525",
     "exception": false,
     "start_time": "2021-09-19T02:00:30.836866",
     "status": "completed"
    },
    "tags": []
   },
   "outputs": [
    {
     "data": {
      "image/png": "[encoded data removed]",
      "text/plain": [
       "<Figure size 1080x792 with 2 Axes>"
      ]
     },
     "metadata": {
      "needs_background": "light"
     },
     "output_type": "display_data"
    }
   ],
   "source": [
    "#hide_input\n",
    "plt.figure(figsize=(15, 11))\n",
    "sns.heatmap(df_all[sum_corr].corr(), annot=True, cmap=\"cubehelix\") \n",
    "sns.set(font_scale=1.25)\n",
    "plt.savefig('corr_matrix.png', format='eps')"
   ]
  },
  {
   "cell_type": "code",
   "execution_count": 8,
   "id": "arbitrary-sullivan",
   "metadata": {
    "execution": {
     "iopub.execute_input": "2021-09-19T02:00:32.204583Z",
     "iopub.status.busy": "2021-09-19T02:00:32.204018Z",
     "iopub.status.idle": "2021-09-19T02:00:32.235105Z",
     "shell.execute_reply": "2021-09-19T02:00:32.235743Z"
    },
    "papermill": {
     "duration": 0.050246,
     "end_time": "2021-09-19T02:00:32.235938",
     "exception": false,
     "start_time": "2021-09-19T02:00:32.185692",
     "status": "completed"
    },
    "tags": []
   },
   "outputs": [],
   "source": [
    "#hide\n",
    "#df_all_mrk = read_api()"
   ]
  },
  {
   "cell_type": "code",
   "execution_count": 9,
   "id": "delayed-adapter",
   "metadata": {
    "execution": {
     "iopub.execute_input": "2021-09-19T02:00:32.270930Z",
     "iopub.status.busy": "2021-09-19T02:00:32.270386Z",
     "iopub.status.idle": "2021-09-19T02:00:32.299231Z",
     "shell.execute_reply": "2021-09-19T02:00:32.298763Z"
    },
    "papermill": {
     "duration": 0.047437,
     "end_time": "2021-09-19T02:00:32.299350",
     "exception": false,
     "start_time": "2021-09-19T02:00:32.251913",
     "status": "completed"
    },
    "tags": []
   },
   "outputs": [],
   "source": [
    "#hide\n",
    "#Koreliacijų koeficientai"
   ]
  },
  {
   "cell_type": "code",
   "execution_count": 10,
   "id": "seeing-celebration",
   "metadata": {
    "execution": {
     "iopub.execute_input": "2021-09-19T02:00:32.333326Z",
     "iopub.status.busy": "2021-09-19T02:00:32.332714Z",
     "iopub.status.idle": "2021-09-19T02:00:32.361223Z",
     "shell.execute_reply": "2021-09-19T02:00:32.360464Z"
    },
    "papermill": {
     "duration": 0.047191,
     "end_time": "2021-09-19T02:00:32.361352",
     "exception": false,
     "start_time": "2021-09-19T02:00:32.314161",
     "status": "completed"
    },
    "tags": []
   },
   "outputs": [],
   "source": [
    "#hide_input\n",
    "#sum_corr = df_all_mrk.corr().sum().sort_values(ascending=True).index.values\n",
    "#df_all_mrk[sum_corr].corr()"
   ]
  },
  {
   "cell_type": "code",
   "execution_count": 11,
   "id": "other-painting",
   "metadata": {
    "execution": {
     "iopub.execute_input": "2021-09-19T02:00:32.396749Z",
     "iopub.status.busy": "2021-09-19T02:00:32.396091Z",
     "iopub.status.idle": "2021-09-19T02:00:32.426520Z",
     "shell.execute_reply": "2021-09-19T02:00:32.426033Z"
    },
    "papermill": {
     "duration": 0.050539,
     "end_time": "2021-09-19T02:00:32.426643",
     "exception": false,
     "start_time": "2021-09-19T02:00:32.376104",
     "status": "completed"
    },
    "tags": []
   },
   "outputs": [],
   "source": [
    "#hide\n",
    "#Koreliacijos matrica. "
   ]
  },
  {
   "cell_type": "code",
   "execution_count": 12,
   "id": "modular-magnitude",
   "metadata": {
    "execution": {
     "iopub.execute_input": "2021-09-19T02:00:32.461794Z",
     "iopub.status.busy": "2021-09-19T02:00:32.461157Z",
     "iopub.status.idle": "2021-09-19T02:00:32.491054Z",
     "shell.execute_reply": "2021-09-19T02:00:32.490181Z"
    },
    "papermill": {
     "duration": 0.048372,
     "end_time": "2021-09-19T02:00:32.491258",
     "exception": false,
     "start_time": "2021-09-19T02:00:32.442886",
     "status": "completed"
    },
    "tags": []
   },
   "outputs": [],
   "source": [
    "#hide_input\n",
    "#plt.figure(figsize=(15, 8))\n",
    "#sns.heatmap(df_all_mrk[sum_corr].corr(), annot=True, cmap=\"BrBG\");\n",
    "#plt.savefig('corr_matrix_all.eps', format='eps')"
   ]
  },
  {
   "cell_type": "code",
   "execution_count": null,
   "id": "original-senator",
   "metadata": {
    "papermill": {
     "duration": 0.014605,
     "end_time": "2021-09-19T02:00:32.520671",
     "exception": false,
     "start_time": "2021-09-19T02:00:32.506066",
     "status": "completed"
    },
    "tags": []
   },
   "outputs": [],
   "source": []
  },
  {
   "cell_type": "code",
   "execution_count": null,
   "id": "saving-secretariat",
   "metadata": {
    "papermill": {
     "duration": 0.014249,
     "end_time": "2021-09-19T02:00:32.549577",
     "exception": false,
     "start_time": "2021-09-19T02:00:32.535328",
     "status": "completed"
    },
    "tags": []
   },
   "outputs": [],
   "source": []
  }
 ],
 "metadata": {
  "kernelspec": {
   "display_name": "Python 3",
   "language": "python",
   "name": "python3"
  },
  "language_info": {
   "codemirror_mode": {
    "name": "ipython",
    "version": 3
   },
   "file_extension": ".py",
   "mimetype": "text/x-python",
   "name": "python",
   "nbconvert_exporter": "python",
   "pygments_lexer": "ipython3",
   "version": "3.6.15"
  },
  "papermill": {
   "default_parameters": {},
   "duration": 22.434765,
   "end_time": "2021-09-19T02:00:33.072899",
   "environment_variables": {},
   "exception": null,
   "input_path": "App-Correlation_charts.ipynb",
   "output_path": "App-Correlation_charts.ipynb",
   "parameters": {},
   "start_time": "2021-09-19T02:00:10.638134",
   "version": "2.2.2"
  }
 },
 "nbformat": 4,
 "nbformat_minor": 5
}