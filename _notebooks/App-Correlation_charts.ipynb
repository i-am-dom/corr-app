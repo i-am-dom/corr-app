{
 "cells": [
  {
   "cell_type": "markdown",
   "id": "touched-facility",
   "metadata": {
    "papermill": {
     "duration": 0.014761,
     "end_time": "2022-01-10T02:06:26.619240",
     "exception": false,
     "start_time": "2022-01-10T02:06:26.604479",
     "status": "completed"
    },
    "tags": []
   },
   "source": [
    "# Koreliacijų matrica\n",
    "> Išplėstinė koreliacijų matrica. \n",
    "\n",
    "- toc: true \n",
    "- badges: true\n",
    "- comments: false\n",
    "- categories: [Dominykas Tautkus]\n",
    "- image: images/matrix.png"
   ]
  },
  {
   "cell_type": "code",
   "execution_count": null,
   "id": "premium-weekend",
   "metadata": {
    "papermill": {
     "duration": 0.010732,
     "end_time": "2022-01-10T02:06:26.641484",
     "exception": false,
     "start_time": "2022-01-10T02:06:26.630752",
     "status": "completed"
    },
    "tags": []
   },
   "outputs": [],
   "source": []
  },
  {
   "cell_type": "code",
   "execution_count": 1,
   "id": "vertical-rebate",
   "metadata": {
    "execution": {
     "iopub.execute_input": "2022-01-10T02:06:26.673145Z",
     "iopub.status.busy": "2022-01-10T02:06:26.672619Z",
     "iopub.status.idle": "2022-01-10T02:06:26.683724Z",
     "shell.execute_reply": "2022-01-10T02:06:26.684155Z"
    },
    "papermill": {
     "duration": 0.032084,
     "end_time": "2022-01-10T02:06:26.684308",
     "exception": false,
     "start_time": "2022-01-10T02:06:26.652224",
     "status": "completed"
    },
    "tags": []
   },
   "outputs": [],
   "source": [
    "#hide\n",
    "%load_ext autoreload\n",
    "%autoreload 2"
   ]
  },
  {
   "cell_type": "code",
   "execution_count": 2,
   "id": "overall-advancement",
   "metadata": {
    "execution": {
     "iopub.execute_input": "2022-01-10T02:06:26.708979Z",
     "iopub.status.busy": "2022-01-10T02:06:26.708474Z",
     "iopub.status.idle": "2022-01-10T02:06:27.928509Z",
     "shell.execute_reply": "2022-01-10T02:06:27.928986Z"
    },
    "papermill": {
     "duration": 1.234302,
     "end_time": "2022-01-10T02:06:27.929154",
     "exception": false,
     "start_time": "2022-01-10T02:06:26.694852",
     "status": "completed"
    },
    "tags": []
   },
   "outputs": [],
   "source": [
    "#hide\n",
    "from scripts.read_data import read_api\n",
    "from IPython.display import HTML\n",
    "import plotly.graph_objects as go\n"
   ]
  },
  {
   "cell_type": "code",
   "execution_count": 3,
   "id": "light-crazy",
   "metadata": {
    "execution": {
     "iopub.execute_input": "2022-01-10T02:06:27.955936Z",
     "iopub.status.busy": "2022-01-10T02:06:27.955405Z",
     "iopub.status.idle": "2022-01-10T02:06:27.975501Z",
     "shell.execute_reply": "2022-01-10T02:06:27.975891Z"
    },
    "papermill": {
     "duration": 0.034913,
     "end_time": "2022-01-10T02:06:27.976037",
     "exception": false,
     "start_time": "2022-01-10T02:06:27.941124",
     "status": "completed"
    },
    "tags": []
   },
   "outputs": [],
   "source": [
    "#hide\n",
    "### ICO koreliacija"
   ]
  },
  {
   "cell_type": "code",
   "execution_count": 4,
   "id": "likely-bahrain",
   "metadata": {
    "execution": {
     "iopub.execute_input": "2022-01-10T02:06:28.009618Z",
     "iopub.status.busy": "2022-01-10T02:06:28.008836Z",
     "iopub.status.idle": "2022-01-10T02:06:28.811880Z",
     "shell.execute_reply": "2022-01-10T02:06:28.810979Z"
    },
    "papermill": {
     "duration": 0.825386,
     "end_time": "2022-01-10T02:06:28.812015",
     "exception": false,
     "start_time": "2022-01-10T02:06:27.986629",
     "status": "completed"
    },
    "tags": []
   },
   "outputs": [],
   "source": [
    "#hide\n",
    "import matplotlib.pyplot as plt\n",
    "import numpy as np\n",
    "import pandas as pd\n",
    "import seaborn as sns\n",
    "import matplotlib.pyplot as plt \n",
    "import matplotlib.dates as mdates\n",
    "import matplotlib.pyplot as plt"
   ]
  },
  {
   "cell_type": "code",
   "execution_count": 5,
   "id": "superior-blanket",
   "metadata": {
    "execution": {
     "iopub.execute_input": "2022-01-10T02:06:28.835454Z",
     "iopub.status.busy": "2022-01-10T02:06:28.834910Z",
     "iopub.status.idle": "2022-01-10T02:06:39.068929Z",
     "shell.execute_reply": "2022-01-10T02:06:39.068216Z"
    },
    "papermill": {
     "duration": 10.247263,
     "end_time": "2022-01-10T02:06:39.069074",
     "exception": false,
     "start_time": "2022-01-10T02:06:28.821811",
     "status": "completed"
    },
    "tags": []
   },
   "outputs": [
    {
     "name": "stderr",
     "output_type": "stream",
     "text": [
      "/home/runner/work/corr-app/corr-app/_notebooks/scripts/read_data.py:187: SettingWithCopyWarning:\n",
      "\n",
      "\n",
      "A value is trying to be set on a copy of a slice from a DataFrame.\n",
      "Try using .loc[row_indexer,col_indexer] = value instead\n",
      "\n",
      "See the caveats in the documentation: https://pandas.pydata.org/pandas-docs/stable/user_guide/indexing.html#returning-a-view-versus-a-copy\n",
      "\n"
     ]
    },
    {
     "name": "stderr",
     "output_type": "stream",
     "text": [
      "/home/runner/work/corr-app/corr-app/_notebooks/scripts/read_data.py:215: SettingWithCopyWarning:\n",
      "\n",
      "\n",
      "A value is trying to be set on a copy of a slice from a DataFrame.\n",
      "Try using .loc[row_indexer,col_indexer] = value instead\n",
      "\n",
      "See the caveats in the documentation: https://pandas.pydata.org/pandas-docs/stable/user_guide/indexing.html#returning-a-view-versus-a-copy\n",
      "\n"
     ]
    }
   ],
   "source": [
    "#hide\n",
    "df_all = read_api()\n",
    "#df_all = df_all.drop(['SP500', 'XAU', 'ETH', 'BTC'], axis=1)\n",
    "\n"
   ]
  },
  {
   "cell_type": "code",
   "execution_count": 6,
   "id": "mature-alert",
   "metadata": {
    "execution": {
     "iopub.execute_input": "2022-01-10T02:06:39.098739Z",
     "iopub.status.busy": "2022-01-10T02:06:39.098133Z",
     "iopub.status.idle": "2022-01-10T02:06:39.131171Z",
     "shell.execute_reply": "2022-01-10T02:06:39.130665Z"
    },
    "papermill": {
     "duration": 0.04954,
     "end_time": "2022-01-10T02:06:39.131331",
     "exception": false,
     "start_time": "2022-01-10T02:06:39.081791",
     "status": "completed"
    },
    "tags": []
   },
   "outputs": [],
   "source": [
    "#hide_input\n",
    "sum_corr = df_all.corr().sum().sort_values(ascending=True).index.values\n",
    "#df_all[sum_corr].corr()"
   ]
  },
  {
   "cell_type": "markdown",
   "id": "complex-syndicate",
   "metadata": {
    "papermill": {
     "duration": 0.011185,
     "end_time": "2022-01-10T02:06:39.154333",
     "exception": false,
     "start_time": "2022-01-10T02:06:39.143148",
     "status": "completed"
    },
    "tags": []
   },
   "source": [
    "## Išplėstinė koreliacijų matrica. "
   ]
  },
  {
   "cell_type": "code",
   "execution_count": 7,
   "id": "atomic-omaha",
   "metadata": {
    "execution": {
     "iopub.execute_input": "2022-01-10T02:06:39.182032Z",
     "iopub.status.busy": "2022-01-10T02:06:39.181526Z",
     "iopub.status.idle": "2022-01-10T02:06:40.458483Z",
     "shell.execute_reply": "2022-01-10T02:06:40.457686Z"
    },
    "papermill": {
     "duration": 1.293163,
     "end_time": "2022-01-10T02:06:40.458616",
     "exception": false,
     "start_time": "2022-01-10T02:06:39.165453",
     "status": "completed"
    },
    "tags": []
   },
   "outputs": [
    {
     "data": {
      "image/png": "[encoded data removed]",
      "text/plain": [
       "<Figure size 1080x792 with 2 Axes>"
      ]
     },
     "metadata": {
      "needs_background": "light"
     },
     "output_type": "display_data"
    }
   ],
   "source": [
    "#hide_input\n",
    "plt.figure(figsize=(15, 11))\n",
    "sns.heatmap(df_all[sum_corr].corr(), annot=True, cmap=\"cubehelix\") \n",
    "sns.set(font_scale=1.25)\n",
    "plt.savefig('corr_matrix.png', format='eps')"
   ]
  },
  {
   "cell_type": "code",
   "execution_count": 8,
   "id": "arbitrary-sullivan",
   "metadata": {
    "execution": {
     "iopub.execute_input": "2022-01-10T02:06:40.488900Z",
     "iopub.status.busy": "2022-01-10T02:06:40.488382Z",
     "iopub.status.idle": "2022-01-10T02:06:40.513127Z",
     "shell.execute_reply": "2022-01-10T02:06:40.512609Z"
    },
    "papermill": {
     "duration": 0.041142,
     "end_time": "2022-01-10T02:06:40.513256",
     "exception": false,
     "start_time": "2022-01-10T02:06:40.472114",
     "status": "completed"
    },
    "tags": []
   },
   "outputs": [],
   "source": [
    "#hide\n",
    "#df_all_mrk = read_api()"
   ]
  },
  {
   "cell_type": "code",
   "execution_count": 9,
   "id": "delayed-adapter",
   "metadata": {
    "execution": {
     "iopub.execute_input": "2022-01-10T02:06:40.544436Z",
     "iopub.status.busy": "2022-01-10T02:06:40.543931Z",
     "iopub.status.idle": "2022-01-10T02:06:40.568075Z",
     "shell.execute_reply": "2022-01-10T02:06:40.568521Z"
    },
    "papermill": {
     "duration": 0.041541,
     "end_time": "2022-01-10T02:06:40.568675",
     "exception": false,
     "start_time": "2022-01-10T02:06:40.527134",
     "status": "completed"
    },
    "tags": []
   },
   "outputs": [],
   "source": [
    "#hide\n",
    "#Koreliacijų koeficientai"
   ]
  },
  {
   "cell_type": "code",
   "execution_count": 10,
   "id": "seeing-celebration",
   "metadata": {
    "execution": {
     "iopub.execute_input": "2022-01-10T02:06:40.600932Z",
     "iopub.status.busy": "2022-01-10T02:06:40.600177Z",
     "iopub.status.idle": "2022-01-10T02:06:40.634804Z",
     "shell.execute_reply": "2022-01-10T02:06:40.634382Z"
    },
    "papermill": {
     "duration": 0.052574,
     "end_time": "2022-01-10T02:06:40.634920",
     "exception": false,
     "start_time": "2022-01-10T02:06:40.582346",
     "status": "completed"
    },
    "tags": []
   },
   "outputs": [],
   "source": [
    "#hide_input\n",
    "#sum_corr = df_all_mrk.corr().sum().sort_values(ascending=True).index.values\n",
    "#df_all_mrk[sum_corr].corr()"
   ]
  },
  {
   "cell_type": "code",
   "execution_count": 11,
   "id": "other-painting",
   "metadata": {
    "execution": {
     "iopub.execute_input": "2022-01-10T02:06:40.664865Z",
     "iopub.status.busy": "2022-01-10T02:06:40.664356Z",
     "iopub.status.idle": "2022-01-10T02:06:40.690875Z",
     "shell.execute_reply": "2022-01-10T02:06:40.690407Z"
    },
    "papermill": {
     "duration": 0.042799,
     "end_time": "2022-01-10T02:06:40.691002",
     "exception": false,
     "start_time": "2022-01-10T02:06:40.648203",
     "status": "completed"
    },
    "tags": []
   },
   "outputs": [],
   "source": [
    "#hide\n",
    "#Koreliacijos matrica. "
   ]
  },
  {
   "cell_type": "code",
   "execution_count": 12,
   "id": "modular-magnitude",
   "metadata": {
    "execution": {
     "iopub.execute_input": "2022-01-10T02:06:40.721048Z",
     "iopub.status.busy": "2022-01-10T02:06:40.720537Z",
     "iopub.status.idle": "2022-01-10T02:06:40.746993Z",
     "shell.execute_reply": "2022-01-10T02:06:40.746451Z"
    },
    "papermill": {
     "duration": 0.042495,
     "end_time": "2022-01-10T02:06:40.747119",
     "exception": false,
     "start_time": "2022-01-10T02:06:40.704624",
     "status": "completed"
    },
    "tags": []
   },
   "outputs": [],
   "source": [
    "#hide_input\n",
    "#plt.figure(figsize=(15, 8))\n",
    "#sns.heatmap(df_all_mrk[sum_corr].corr(), annot=True, cmap=\"BrBG\");\n",
    "#plt.savefig('corr_matrix_all.eps', format='eps')"
   ]
  },
  {
   "cell_type": "code",
   "execution_count": null,
   "id": "original-senator",
   "metadata": {
    "papermill": {
     "duration": 0.012952,
     "end_time": "2022-01-10T02:06:40.774183",
     "exception": false,
     "start_time": "2022-01-10T02:06:40.761231",
     "status": "completed"
    },
    "tags": []
   },
   "outputs": [],
   "source": []
  },
  {
   "cell_type": "code",
   "execution_count": null,
   "id": "saving-secretariat",
   "metadata": {
    "papermill": {
     "duration": 0.013871,
     "end_time": "2022-01-10T02:06:40.801005",
     "exception": false,
     "start_time": "2022-01-10T02:06:40.787134",
     "status": "completed"
    },
    "tags": []
   },
   "outputs": [],
   "source": []
  }
 ],
 "metadata": {
  "kernelspec": {
   "display_name": "Python 3",
   "language": "python",
   "name": "python3"
  },
  "language_info": {
   "codemirror_mode": {
    "name": "ipython",
    "version": 3
   },
   "file_extension": ".py",
   "mimetype": "text/x-python",
   "name": "python",
   "nbconvert_exporter": "python",
   "pygments_lexer": "ipython3",
   "version": "3.6.15"
  },
  "papermill": {
   "default_parameters": {},
   "duration": 15.860799,
   "end_time": "2022-01-10T02:06:41.423242",
   "environment_variables": {},
   "exception": null,
   "input_path": "App-Correlation_charts.ipynb",
   "output_path": "App-Correlation_charts.ipynb",
   "parameters": {},
   "start_time": "2022-01-10T02:06:25.562443",
   "version": "2.2.2"
  }
 },
 "nbformat": 4,
 "nbformat_minor": 5
}