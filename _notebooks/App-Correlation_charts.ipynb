{
 "cells": [
  {
   "cell_type": "markdown",
   "id": "touched-facility",
   "metadata": {
    "papermill": {
     "duration": 0.013115,
     "end_time": "2022-02-20T02:05:07.449291",
     "exception": false,
     "start_time": "2022-02-20T02:05:07.436176",
     "status": "completed"
    },
    "tags": []
   },
   "source": [
    "# Koreliacijų matrica\n",
    "> Išplėstinė koreliacijų matrica. \n",
    "\n",
    "- toc: true \n",
    "- badges: true\n",
    "- comments: false\n",
    "- categories: [Dominykas Tautkus]\n",
    "- image: images/matrix.png"
   ]
  },
  {
   "cell_type": "code",
   "execution_count": null,
   "id": "premium-weekend",
   "metadata": {
    "papermill": {
     "duration": 0.00995,
     "end_time": "2022-02-20T02:05:07.470174",
     "exception": false,
     "start_time": "2022-02-20T02:05:07.460224",
     "status": "completed"
    },
    "tags": []
   },
   "outputs": [],
   "source": []
  },
  {
   "cell_type": "code",
   "execution_count": 1,
   "id": "vertical-rebate",
   "metadata": {
    "execution": {
     "iopub.execute_input": "2022-02-20T02:05:07.501199Z",
     "iopub.status.busy": "2022-02-20T02:05:07.500648Z",
     "iopub.status.idle": "2022-02-20T02:05:07.510866Z",
     "shell.execute_reply": "2022-02-20T02:05:07.510463Z"
    },
    "papermill": {
     "duration": 0.030991,
     "end_time": "2022-02-20T02:05:07.510976",
     "exception": false,
     "start_time": "2022-02-20T02:05:07.479985",
     "status": "completed"
    },
    "tags": []
   },
   "outputs": [],
   "source": [
    "#hide\n",
    "%load_ext autoreload\n",
    "%autoreload 2"
   ]
  },
  {
   "cell_type": "code",
   "execution_count": 2,
   "id": "overall-advancement",
   "metadata": {
    "execution": {
     "iopub.execute_input": "2022-02-20T02:05:07.537583Z",
     "iopub.status.busy": "2022-02-20T02:05:07.536985Z",
     "iopub.status.idle": "2022-02-20T02:05:08.589536Z",
     "shell.execute_reply": "2022-02-20T02:05:08.588547Z"
    },
    "papermill": {
     "duration": 1.069454,
     "end_time": "2022-02-20T02:05:08.589659",
     "exception": false,
     "start_time": "2022-02-20T02:05:07.520205",
     "status": "completed"
    },
    "tags": []
   },
   "outputs": [],
   "source": [
    "#hide\n",
    "from scripts.read_data import read_api\n",
    "from IPython.display import HTML\n",
    "import plotly.graph_objects as go\n"
   ]
  },
  {
   "cell_type": "code",
   "execution_count": 3,
   "id": "light-crazy",
   "metadata": {
    "execution": {
     "iopub.execute_input": "2022-02-20T02:05:08.614438Z",
     "iopub.status.busy": "2022-02-20T02:05:08.612522Z",
     "iopub.status.idle": "2022-02-20T02:05:08.632461Z",
     "shell.execute_reply": "2022-02-20T02:05:08.632018Z"
    },
    "papermill": {
     "duration": 0.033426,
     "end_time": "2022-02-20T02:05:08.632573",
     "exception": false,
     "start_time": "2022-02-20T02:05:08.599147",
     "status": "completed"
    },
    "tags": []
   },
   "outputs": [],
   "source": [
    "#hide\n",
    "### ICO koreliacija"
   ]
  },
  {
   "cell_type": "code",
   "execution_count": 4,
   "id": "likely-bahrain",
   "metadata": {
    "execution": {
     "iopub.execute_input": "2022-02-20T02:05:08.655421Z",
     "iopub.status.busy": "2022-02-20T02:05:08.654796Z",
     "iopub.status.idle": "2022-02-20T02:05:09.441085Z",
     "shell.execute_reply": "2022-02-20T02:05:09.439734Z"
    },
    "papermill": {
     "duration": 0.799042,
     "end_time": "2022-02-20T02:05:09.441301",
     "exception": false,
     "start_time": "2022-02-20T02:05:08.642259",
     "status": "completed"
    },
    "tags": []
   },
   "outputs": [],
   "source": [
    "#hide\n",
    "import matplotlib.pyplot as plt\n",
    "import numpy as np\n",
    "import pandas as pd\n",
    "import seaborn as sns\n",
    "import matplotlib.pyplot as plt \n",
    "import matplotlib.dates as mdates\n",
    "import matplotlib.pyplot as plt"
   ]
  },
  {
   "cell_type": "code",
   "execution_count": 5,
   "id": "superior-blanket",
   "metadata": {
    "execution": {
     "iopub.execute_input": "2022-02-20T02:05:09.467268Z",
     "iopub.status.busy": "2022-02-20T02:05:09.466708Z",
     "iopub.status.idle": "2022-02-20T02:05:24.739189Z",
     "shell.execute_reply": "2022-02-20T02:05:24.738404Z"
    },
    "papermill": {
     "duration": 15.286149,
     "end_time": "2022-02-20T02:05:24.739342",
     "exception": false,
     "start_time": "2022-02-20T02:05:09.453193",
     "status": "completed"
    },
    "tags": []
   },
   "outputs": [
    {
     "name": "stderr",
     "output_type": "stream",
     "text": [
      "/home/runner/work/corr-app/corr-app/_notebooks/scripts/read_data.py:187: SettingWithCopyWarning:\n",
      "\n",
      "\n",
      "A value is trying to be set on a copy of a slice from a DataFrame.\n",
      "Try using .loc[row_indexer,col_indexer] = value instead\n",
      "\n",
      "See the caveats in the documentation: https://pandas.pydata.org/pandas-docs/stable/user_guide/indexing.html#returning-a-view-versus-a-copy\n",
      "\n"
     ]
    },
    {
     "name": "stderr",
     "output_type": "stream",
     "text": [
      "/home/runner/work/corr-app/corr-app/_notebooks/scripts/read_data.py:215: SettingWithCopyWarning:\n",
      "\n",
      "\n",
      "A value is trying to be set on a copy of a slice from a DataFrame.\n",
      "Try using .loc[row_indexer,col_indexer] = value instead\n",
      "\n",
      "See the caveats in the documentation: https://pandas.pydata.org/pandas-docs/stable/user_guide/indexing.html#returning-a-view-versus-a-copy\n",
      "\n"
     ]
    }
   ],
   "source": [
    "#hide\n",
    "df_all = read_api()\n",
    "#df_all = df_all.drop(['SP500', 'XAU', 'ETH', 'BTC'], axis=1)\n",
    "\n"
   ]
  },
  {
   "cell_type": "code",
   "execution_count": 6,
   "id": "mature-alert",
   "metadata": {
    "execution": {
     "iopub.execute_input": "2022-02-20T02:05:24.768773Z",
     "iopub.status.busy": "2022-02-20T02:05:24.767104Z",
     "iopub.status.idle": "2022-02-20T02:05:24.795681Z",
     "shell.execute_reply": "2022-02-20T02:05:24.795208Z"
    },
    "papermill": {
     "duration": 0.045136,
     "end_time": "2022-02-20T02:05:24.795801",
     "exception": false,
     "start_time": "2022-02-20T02:05:24.750665",
     "status": "completed"
    },
    "tags": []
   },
   "outputs": [],
   "source": [
    "#hide_input\n",
    "sum_corr = df_all.corr().sum().sort_values(ascending=True).index.values\n",
    "#df_all[sum_corr].corr()"
   ]
  },
  {
   "cell_type": "markdown",
   "id": "complex-syndicate",
   "metadata": {
    "papermill": {
     "duration": 0.009731,
     "end_time": "2022-02-20T02:05:24.815013",
     "exception": false,
     "start_time": "2022-02-20T02:05:24.805282",
     "status": "completed"
    },
    "tags": []
   },
   "source": [
    "## Išplėstinė koreliacijų matrica. "
   ]
  },
  {
   "cell_type": "code",
   "execution_count": 7,
   "id": "atomic-omaha",
   "metadata": {
    "execution": {
     "iopub.execute_input": "2022-02-20T02:05:24.839959Z",
     "iopub.status.busy": "2022-02-20T02:05:24.839469Z",
     "iopub.status.idle": "2022-02-20T02:05:25.971420Z",
     "shell.execute_reply": "2022-02-20T02:05:25.971774Z"
    },
    "papermill": {
     "duration": 1.147476,
     "end_time": "2022-02-20T02:05:25.971896",
     "exception": false,
     "start_time": "2022-02-20T02:05:24.824420",
     "status": "completed"
    },
    "tags": []
   },
   "outputs": [
    {
     "data": {
      "image/png": "[encoded data removed]",
      "text/plain": [
       "<Figure size 1080x792 with 2 Axes>"
      ]
     },
     "metadata": {
      "needs_background": "light"
     },
     "output_type": "display_data"
    }
   ],
   "source": [
    "#hide_input\n",
    "plt.figure(figsize=(15, 11))\n",
    "sns.heatmap(df_all[sum_corr].corr(), annot=True, cmap=\"cubehelix\") \n",
    "sns.set(font_scale=1.25)\n",
    "plt.savefig('corr_matrix.png', format='eps')"
   ]
  },
  {
   "cell_type": "code",
   "execution_count": 8,
   "id": "arbitrary-sullivan",
   "metadata": {
    "execution": {
     "iopub.execute_input": "2022-02-20T02:05:26.000088Z",
     "iopub.status.busy": "2022-02-20T02:05:25.997737Z",
     "iopub.status.idle": "2022-02-20T02:05:26.023367Z",
     "shell.execute_reply": "2022-02-20T02:05:26.022495Z"
    },
    "papermill": {
     "duration": 0.039772,
     "end_time": "2022-02-20T02:05:26.023569",
     "exception": false,
     "start_time": "2022-02-20T02:05:25.983797",
     "status": "completed"
    },
    "tags": []
   },
   "outputs": [],
   "source": [
    "#hide\n",
    "#df_all_mrk = read_api()"
   ]
  },
  {
   "cell_type": "code",
   "execution_count": 9,
   "id": "delayed-adapter",
   "metadata": {
    "execution": {
     "iopub.execute_input": "2022-02-20T02:05:26.056154Z",
     "iopub.status.busy": "2022-02-20T02:05:26.055364Z",
     "iopub.status.idle": "2022-02-20T02:05:26.086156Z",
     "shell.execute_reply": "2022-02-20T02:05:26.085283Z"
    },
    "papermill": {
     "duration": 0.047431,
     "end_time": "2022-02-20T02:05:26.086350",
     "exception": false,
     "start_time": "2022-02-20T02:05:26.038919",
     "status": "completed"
    },
    "tags": []
   },
   "outputs": [],
   "source": [
    "#hide\n",
    "#Koreliacijų koeficientai"
   ]
  },
  {
   "cell_type": "code",
   "execution_count": 10,
   "id": "seeing-celebration",
   "metadata": {
    "execution": {
     "iopub.execute_input": "2022-02-20T02:05:26.122479Z",
     "iopub.status.busy": "2022-02-20T02:05:26.121923Z",
     "iopub.status.idle": "2022-02-20T02:05:26.148536Z",
     "shell.execute_reply": "2022-02-20T02:05:26.147919Z"
    },
    "papermill": {
     "duration": 0.044094,
     "end_time": "2022-02-20T02:05:26.148670",
     "exception": false,
     "start_time": "2022-02-20T02:05:26.104576",
     "status": "completed"
    },
    "tags": []
   },
   "outputs": [],
   "source": [
    "#hide_input\n",
    "#sum_corr = df_all_mrk.corr().sum().sort_values(ascending=True).index.values\n",
    "#df_all_mrk[sum_corr].corr()"
   ]
  },
  {
   "cell_type": "code",
   "execution_count": 11,
   "id": "other-painting",
   "metadata": {
    "execution": {
     "iopub.execute_input": "2022-02-20T02:05:26.181527Z",
     "iopub.status.busy": "2022-02-20T02:05:26.180974Z",
     "iopub.status.idle": "2022-02-20T02:05:26.207462Z",
     "shell.execute_reply": "2022-02-20T02:05:26.206814Z"
    },
    "papermill": {
     "duration": 0.044012,
     "end_time": "2022-02-20T02:05:26.207600",
     "exception": false,
     "start_time": "2022-02-20T02:05:26.163588",
     "status": "completed"
    },
    "tags": []
   },
   "outputs": [],
   "source": [
    "#hide\n",
    "#Koreliacijos matrica. "
   ]
  },
  {
   "cell_type": "code",
   "execution_count": 12,
   "id": "modular-magnitude",
   "metadata": {
    "execution": {
     "iopub.execute_input": "2022-02-20T02:05:26.236363Z",
     "iopub.status.busy": "2022-02-20T02:05:26.235885Z",
     "iopub.status.idle": "2022-02-20T02:05:26.260690Z",
     "shell.execute_reply": "2022-02-20T02:05:26.261172Z"
    },
    "papermill": {
     "duration": 0.039811,
     "end_time": "2022-02-20T02:05:26.261308",
     "exception": false,
     "start_time": "2022-02-20T02:05:26.221497",
     "status": "completed"
    },
    "tags": []
   },
   "outputs": [],
   "source": [
    "#hide_input\n",
    "#plt.figure(figsize=(15, 8))\n",
    "#sns.heatmap(df_all_mrk[sum_corr].corr(), annot=True, cmap=\"BrBG\");\n",
    "#plt.savefig('corr_matrix_all.eps', format='eps')"
   ]
  },
  {
   "cell_type": "code",
   "execution_count": null,
   "id": "original-senator",
   "metadata": {
    "papermill": {
     "duration": 0.01203,
     "end_time": "2022-02-20T02:05:26.285676",
     "exception": false,
     "start_time": "2022-02-20T02:05:26.273646",
     "status": "completed"
    },
    "tags": []
   },
   "outputs": [],
   "source": []
  },
  {
   "cell_type": "code",
   "execution_count": null,
   "id": "saving-secretariat",
   "metadata": {
    "papermill": {
     "duration": 0.011085,
     "end_time": "2022-02-20T02:05:26.308278",
     "exception": false,
     "start_time": "2022-02-20T02:05:26.297193",
     "status": "completed"
    },
    "tags": []
   },
   "outputs": [],
   "source": []
  }
 ],
 "metadata": {
  "kernelspec": {
   "display_name": "Python 3",
   "language": "python",
   "name": "python3"
  },
  "language_info": {
   "codemirror_mode": {
    "name": "ipython",
    "version": 3
   },
   "file_extension": ".py",
   "mimetype": "text/x-python",
   "name": "python",
   "nbconvert_exporter": "python",
   "pygments_lexer": "ipython3",
   "version": "3.6.15"
  },
  "papermill": {
   "default_parameters": {},
   "duration": 20.492201,
   "end_time": "2022-02-20T02:05:26.840579",
   "environment_variables": {},
   "exception": null,
   "input_path": "App-Correlation_charts.ipynb",
   "output_path": "App-Correlation_charts.ipynb",
   "parameters": {},
   "start_time": "2022-02-20T02:05:06.348378",
   "version": "2.2.2"
  }
 },
 "nbformat": 4,
 "nbformat_minor": 5
}