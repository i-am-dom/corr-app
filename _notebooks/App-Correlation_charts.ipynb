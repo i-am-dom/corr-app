{
 "cells": [
  {
   "cell_type": "markdown",
   "id": "touched-facility",
   "metadata": {
    "papermill": {
     "duration": 0.017283,
     "end_time": "2022-06-03T02:52:08.132698",
     "exception": false,
     "start_time": "2022-06-03T02:52:08.115415",
     "status": "completed"
    },
    "tags": []
   },
   "source": [
    "# Koreliacijų matrica\n",
    "> Išplėstinė koreliacijų matrica. \n",
    "\n",
    "- toc: true \n",
    "- badges: true\n",
    "- comments: false\n",
    "- categories: [Dominykas Tautkus]\n",
    "- image: images/matrix.png"
   ]
  },
  {
   "cell_type": "code",
   "execution_count": null,
   "id": "premium-weekend",
   "metadata": {
    "papermill": {
     "duration": 0.012112,
     "end_time": "2022-06-03T02:52:08.157577",
     "exception": false,
     "start_time": "2022-06-03T02:52:08.145465",
     "status": "completed"
    },
    "tags": []
   },
   "outputs": [],
   "source": []
  },
  {
   "cell_type": "code",
   "execution_count": 1,
   "id": "vertical-rebate",
   "metadata": {
    "execution": {
     "iopub.execute_input": "2022-06-03T02:52:08.193012Z",
     "iopub.status.busy": "2022-06-03T02:52:08.192429Z",
     "iopub.status.idle": "2022-06-03T02:52:08.203908Z",
     "shell.execute_reply": "2022-06-03T02:52:08.204517Z"
    },
    "papermill": {
     "duration": 0.035192,
     "end_time": "2022-06-03T02:52:08.204672",
     "exception": false,
     "start_time": "2022-06-03T02:52:08.169480",
     "status": "completed"
    },
    "tags": []
   },
   "outputs": [],
   "source": [
    "#hide\n",
    "%load_ext autoreload\n",
    "%autoreload 2"
   ]
  },
  {
   "cell_type": "code",
   "execution_count": 2,
   "id": "overall-advancement",
   "metadata": {
    "execution": {
     "iopub.execute_input": "2022-06-03T02:52:08.229800Z",
     "iopub.status.busy": "2022-06-03T02:52:08.229141Z",
     "iopub.status.idle": "2022-06-03T02:52:09.762143Z",
     "shell.execute_reply": "2022-06-03T02:52:09.761565Z"
    },
    "papermill": {
     "duration": 1.547931,
     "end_time": "2022-06-03T02:52:09.762273",
     "exception": false,
     "start_time": "2022-06-03T02:52:08.214342",
     "status": "completed"
    },
    "tags": []
   },
   "outputs": [],
   "source": [
    "#hide\n",
    "from scripts.read_data import read_api\n",
    "from IPython.display import HTML\n",
    "import plotly.graph_objects as go\n"
   ]
  },
  {
   "cell_type": "code",
   "execution_count": 3,
   "id": "light-crazy",
   "metadata": {
    "execution": {
     "iopub.execute_input": "2022-06-03T02:52:09.790035Z",
     "iopub.status.busy": "2022-06-03T02:52:09.788391Z",
     "iopub.status.idle": "2022-06-03T02:52:09.811841Z",
     "shell.execute_reply": "2022-06-03T02:52:09.812338Z"
    },
    "papermill": {
     "duration": 0.040041,
     "end_time": "2022-06-03T02:52:09.812492",
     "exception": false,
     "start_time": "2022-06-03T02:52:09.772451",
     "status": "completed"
    },
    "tags": []
   },
   "outputs": [],
   "source": [
    "#hide\n",
    "### ICO koreliacija"
   ]
  },
  {
   "cell_type": "code",
   "execution_count": 4,
   "id": "likely-bahrain",
   "metadata": {
    "execution": {
     "iopub.execute_input": "2022-06-03T02:52:09.837437Z",
     "iopub.status.busy": "2022-06-03T02:52:09.836811Z",
     "iopub.status.idle": "2022-06-03T02:52:10.777879Z",
     "shell.execute_reply": "2022-06-03T02:52:10.777299Z"
    },
    "papermill": {
     "duration": 0.955528,
     "end_time": "2022-06-03T02:52:10.778008",
     "exception": false,
     "start_time": "2022-06-03T02:52:09.822480",
     "status": "completed"
    },
    "tags": []
   },
   "outputs": [],
   "source": [
    "#hide\n",
    "import matplotlib.pyplot as plt\n",
    "import numpy as np\n",
    "import pandas as pd\n",
    "import seaborn as sns\n",
    "import matplotlib.pyplot as plt \n",
    "import matplotlib.dates as mdates\n",
    "import matplotlib.pyplot as plt"
   ]
  },
  {
   "cell_type": "code",
   "execution_count": 5,
   "id": "superior-blanket",
   "metadata": {
    "execution": {
     "iopub.execute_input": "2022-06-03T02:52:10.805799Z",
     "iopub.status.busy": "2022-06-03T02:52:10.803965Z",
     "iopub.status.idle": "2022-06-03T02:52:26.088978Z",
     "shell.execute_reply": "2022-06-03T02:52:26.088025Z"
    },
    "papermill": {
     "duration": 15.300616,
     "end_time": "2022-06-03T02:52:26.089119",
     "exception": false,
     "start_time": "2022-06-03T02:52:10.788503",
     "status": "completed"
    },
    "tags": []
   },
   "outputs": [
    {
     "name": "stderr",
     "output_type": "stream",
     "text": [
      "/home/runner/work/corr-app/corr-app/_notebooks/scripts/read_data.py:187: SettingWithCopyWarning:\n",
      "\n",
      "\n",
      "A value is trying to be set on a copy of a slice from a DataFrame.\n",
      "Try using .loc[row_indexer,col_indexer] = value instead\n",
      "\n",
      "See the caveats in the documentation: https://pandas.pydata.org/pandas-docs/stable/user_guide/indexing.html#returning-a-view-versus-a-copy\n",
      "\n"
     ]
    },
    {
     "name": "stderr",
     "output_type": "stream",
     "text": [
      "/home/runner/work/corr-app/corr-app/_notebooks/scripts/read_data.py:215: SettingWithCopyWarning:\n",
      "\n",
      "\n",
      "A value is trying to be set on a copy of a slice from a DataFrame.\n",
      "Try using .loc[row_indexer,col_indexer] = value instead\n",
      "\n",
      "See the caveats in the documentation: https://pandas.pydata.org/pandas-docs/stable/user_guide/indexing.html#returning-a-view-versus-a-copy\n",
      "\n"
     ]
    }
   ],
   "source": [
    "#hide\n",
    "df_all = read_api()\n",
    "#df_all = df_all.drop(['SP500', 'XAU', 'ETH', 'BTC'], axis=1)\n",
    "\n"
   ]
  },
  {
   "cell_type": "code",
   "execution_count": 6,
   "id": "mature-alert",
   "metadata": {
    "execution": {
     "iopub.execute_input": "2022-06-03T02:52:26.121563Z",
     "iopub.status.busy": "2022-06-03T02:52:26.120877Z",
     "iopub.status.idle": "2022-06-03T02:52:26.167175Z",
     "shell.execute_reply": "2022-06-03T02:52:26.167736Z"
    },
    "papermill": {
     "duration": 0.065613,
     "end_time": "2022-06-03T02:52:26.167920",
     "exception": false,
     "start_time": "2022-06-03T02:52:26.102307",
     "status": "completed"
    },
    "tags": []
   },
   "outputs": [],
   "source": [
    "#hide_input\n",
    "sum_corr = df_all.corr().sum().sort_values(ascending=True).index.values\n",
    "#df_all[sum_corr].corr()"
   ]
  },
  {
   "cell_type": "markdown",
   "id": "complex-syndicate",
   "metadata": {
    "papermill": {
     "duration": 0.013651,
     "end_time": "2022-06-03T02:52:26.196475",
     "exception": false,
     "start_time": "2022-06-03T02:52:26.182824",
     "status": "completed"
    },
    "tags": []
   },
   "source": [
    "## Išplėstinė koreliacijų matrica. "
   ]
  },
  {
   "cell_type": "code",
   "execution_count": 7,
   "id": "atomic-omaha",
   "metadata": {
    "execution": {
     "iopub.execute_input": "2022-06-03T02:52:26.227277Z",
     "iopub.status.busy": "2022-06-03T02:52:26.226598Z",
     "iopub.status.idle": "2022-06-03T02:52:27.606785Z",
     "shell.execute_reply": "2022-06-03T02:52:27.607299Z"
    },
    "papermill": {
     "duration": 1.397872,
     "end_time": "2022-06-03T02:52:27.607448",
     "exception": false,
     "start_time": "2022-06-03T02:52:26.209576",
     "status": "completed"
    },
    "tags": []
   },
   "outputs": [
    {
     "data": {
      "image/png": "[encoded data removed]",
      "text/plain": [
       "<Figure size 1080x792 with 2 Axes>"
      ]
     },
     "metadata": {
      "needs_background": "light"
     },
     "output_type": "display_data"
    }
   ],
   "source": [
    "#hide_input\n",
    "plt.figure(figsize=(15, 11))\n",
    "sns.heatmap(df_all[sum_corr].corr(), annot=True, cmap=\"cubehelix\") \n",
    "sns.set(font_scale=1.25)\n",
    "plt.savefig('corr_matrix.png', format='eps')"
   ]
  },
  {
   "cell_type": "code",
   "execution_count": 8,
   "id": "arbitrary-sullivan",
   "metadata": {
    "execution": {
     "iopub.execute_input": "2022-06-03T02:52:27.640782Z",
     "iopub.status.busy": "2022-06-03T02:52:27.640100Z",
     "iopub.status.idle": "2022-06-03T02:52:27.675014Z",
     "shell.execute_reply": "2022-06-03T02:52:27.673996Z"
    },
    "papermill": {
     "duration": 0.053871,
     "end_time": "2022-06-03T02:52:27.675223",
     "exception": false,
     "start_time": "2022-06-03T02:52:27.621352",
     "status": "completed"
    },
    "tags": []
   },
   "outputs": [],
   "source": [
    "#hide\n",
    "#df_all_mrk = read_api()"
   ]
  },
  {
   "cell_type": "code",
   "execution_count": 9,
   "id": "delayed-adapter",
   "metadata": {
    "execution": {
     "iopub.execute_input": "2022-06-03T02:52:27.710692Z",
     "iopub.status.busy": "2022-06-03T02:52:27.710055Z",
     "iopub.status.idle": "2022-06-03T02:52:27.737630Z",
     "shell.execute_reply": "2022-06-03T02:52:27.737080Z"
    },
    "papermill": {
     "duration": 0.046763,
     "end_time": "2022-06-03T02:52:27.737748",
     "exception": false,
     "start_time": "2022-06-03T02:52:27.690985",
     "status": "completed"
    },
    "tags": []
   },
   "outputs": [],
   "source": [
    "#hide\n",
    "#Koreliacijų koeficientai"
   ]
  },
  {
   "cell_type": "code",
   "execution_count": 10,
   "id": "seeing-celebration",
   "metadata": {
    "execution": {
     "iopub.execute_input": "2022-06-03T02:52:27.771207Z",
     "iopub.status.busy": "2022-06-03T02:52:27.770543Z",
     "iopub.status.idle": "2022-06-03T02:52:27.802593Z",
     "shell.execute_reply": "2022-06-03T02:52:27.801591Z"
    },
    "papermill": {
     "duration": 0.05133,
     "end_time": "2022-06-03T02:52:27.802789",
     "exception": false,
     "start_time": "2022-06-03T02:52:27.751459",
     "status": "completed"
    },
    "tags": []
   },
   "outputs": [],
   "source": [
    "#hide_input\n",
    "#sum_corr = df_all_mrk.corr().sum().sort_values(ascending=True).index.values\n",
    "#df_all_mrk[sum_corr].corr()"
   ]
  },
  {
   "cell_type": "code",
   "execution_count": 11,
   "id": "other-painting",
   "metadata": {
    "execution": {
     "iopub.execute_input": "2022-06-03T02:52:27.844296Z",
     "iopub.status.busy": "2022-06-03T02:52:27.843584Z",
     "iopub.status.idle": "2022-06-03T02:52:27.876067Z",
     "shell.execute_reply": "2022-06-03T02:52:27.875496Z"
    },
    "papermill": {
     "duration": 0.050908,
     "end_time": "2022-06-03T02:52:27.876218",
     "exception": false,
     "start_time": "2022-06-03T02:52:27.825310",
     "status": "completed"
    },
    "tags": []
   },
   "outputs": [],
   "source": [
    "#hide\n",
    "#Koreliacijos matrica. "
   ]
  },
  {
   "cell_type": "code",
   "execution_count": 12,
   "id": "modular-magnitude",
   "metadata": {
    "execution": {
     "iopub.execute_input": "2022-06-03T02:52:27.922540Z",
     "iopub.status.busy": "2022-06-03T02:52:27.921860Z",
     "iopub.status.idle": "2022-06-03T02:52:27.951014Z",
     "shell.execute_reply": "2022-06-03T02:52:27.950323Z"
    },
    "papermill": {
     "duration": 0.058032,
     "end_time": "2022-06-03T02:52:27.951174",
     "exception": false,
     "start_time": "2022-06-03T02:52:27.893142",
     "status": "completed"
    },
    "tags": []
   },
   "outputs": [],
   "source": [
    "#hide_input\n",
    "#plt.figure(figsize=(15, 8))\n",
    "#sns.heatmap(df_all_mrk[sum_corr].corr(), annot=True, cmap=\"BrBG\");\n",
    "#plt.savefig('corr_matrix_all.eps', format='eps')"
   ]
  },
  {
   "cell_type": "code",
   "execution_count": null,
   "id": "original-senator",
   "metadata": {
    "papermill": {
     "duration": 0.014652,
     "end_time": "2022-06-03T02:52:27.980287",
     "exception": false,
     "start_time": "2022-06-03T02:52:27.965635",
     "status": "completed"
    },
    "tags": []
   },
   "outputs": [],
   "source": []
  },
  {
   "cell_type": "code",
   "execution_count": null,
   "id": "saving-secretariat",
   "metadata": {
    "papermill": {
     "duration": 0.015629,
     "end_time": "2022-06-03T02:52:28.014504",
     "exception": false,
     "start_time": "2022-06-03T02:52:27.998875",
     "status": "completed"
    },
    "tags": []
   },
   "outputs": [],
   "source": []
  }
 ],
 "metadata": {
  "kernelspec": {
   "display_name": "Python 3",
   "language": "python",
   "name": "python3"
  },
  "language_info": {
   "codemirror_mode": {
    "name": "ipython",
    "version": 3
   },
   "file_extension": ".py",
   "mimetype": "text/x-python",
   "name": "python",
   "nbconvert_exporter": "python",
   "pygments_lexer": "ipython3",
   "version": "3.6.15"
  },
  "papermill": {
   "default_parameters": {},
   "duration": 21.702527,
   "end_time": "2022-06-03T02:52:28.549309",
   "environment_variables": {},
   "exception": null,
   "input_path": "App-Correlation_charts.ipynb",
   "output_path": "App-Correlation_charts.ipynb",
   "parameters": {},
   "start_time": "2022-06-03T02:52:06.846782",
   "version": "2.2.2"
  }
 },
 "nbformat": 4,
 "nbformat_minor": 5
}