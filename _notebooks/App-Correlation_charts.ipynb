{
 "cells": [
  {
   "cell_type": "markdown",
   "id": "touched-facility",
   "metadata": {
    "papermill": {
     "duration": 0.017083,
     "end_time": "2021-10-26T01:56:12.183805",
     "exception": false,
     "start_time": "2021-10-26T01:56:12.166722",
     "status": "completed"
    },
    "tags": []
   },
   "source": [
    "# Koreliacijų matrica\n",
    "> Išplėstinė koreliacijų matrica. \n",
    "\n",
    "- toc: true \n",
    "- badges: true\n",
    "- comments: false\n",
    "- categories: [Dominykas Tautkus]\n",
    "- image: images/matrix.png"
   ]
  },
  {
   "cell_type": "code",
   "execution_count": null,
   "id": "premium-weekend",
   "metadata": {
    "papermill": {
     "duration": 0.012171,
     "end_time": "2021-10-26T01:56:12.208986",
     "exception": false,
     "start_time": "2021-10-26T01:56:12.196815",
     "status": "completed"
    },
    "tags": []
   },
   "outputs": [],
   "source": []
  },
  {
   "cell_type": "code",
   "execution_count": 1,
   "id": "vertical-rebate",
   "metadata": {
    "execution": {
     "iopub.execute_input": "2021-10-26T01:56:12.249120Z",
     "iopub.status.busy": "2021-10-26T01:56:12.248400Z",
     "iopub.status.idle": "2021-10-26T01:56:12.260142Z",
     "shell.execute_reply": "2021-10-26T01:56:12.260658Z"
    },
    "papermill": {
     "duration": 0.039807,
     "end_time": "2021-10-26T01:56:12.260828",
     "exception": false,
     "start_time": "2021-10-26T01:56:12.221021",
     "status": "completed"
    },
    "tags": []
   },
   "outputs": [],
   "source": [
    "#hide\n",
    "%load_ext autoreload\n",
    "%autoreload 2"
   ]
  },
  {
   "cell_type": "code",
   "execution_count": 2,
   "id": "overall-advancement",
   "metadata": {
    "execution": {
     "iopub.execute_input": "2021-10-26T01:56:12.289925Z",
     "iopub.status.busy": "2021-10-26T01:56:12.289290Z",
     "iopub.status.idle": "2021-10-26T01:56:13.791515Z",
     "shell.execute_reply": "2021-10-26T01:56:13.792068Z"
    },
    "papermill": {
     "duration": 1.518852,
     "end_time": "2021-10-26T01:56:13.792240",
     "exception": false,
     "start_time": "2021-10-26T01:56:12.273388",
     "status": "completed"
    },
    "tags": []
   },
   "outputs": [],
   "source": [
    "#hide\n",
    "from scripts.read_data import read_api\n",
    "from IPython.display import HTML\n",
    "import plotly.graph_objects as go\n"
   ]
  },
  {
   "cell_type": "code",
   "execution_count": 3,
   "id": "light-crazy",
   "metadata": {
    "execution": {
     "iopub.execute_input": "2021-10-26T01:56:13.822707Z",
     "iopub.status.busy": "2021-10-26T01:56:13.822070Z",
     "iopub.status.idle": "2021-10-26T01:56:13.848266Z",
     "shell.execute_reply": "2021-10-26T01:56:13.847683Z"
    },
    "papermill": {
     "duration": 0.043342,
     "end_time": "2021-10-26T01:56:13.848411",
     "exception": false,
     "start_time": "2021-10-26T01:56:13.805069",
     "status": "completed"
    },
    "tags": []
   },
   "outputs": [],
   "source": [
    "#hide\n",
    "### ICO koreliacija"
   ]
  },
  {
   "cell_type": "code",
   "execution_count": 4,
   "id": "likely-bahrain",
   "metadata": {
    "execution": {
     "iopub.execute_input": "2021-10-26T01:56:13.882434Z",
     "iopub.status.busy": "2021-10-26T01:56:13.881782Z",
     "iopub.status.idle": "2021-10-26T01:56:14.966402Z",
     "shell.execute_reply": "2021-10-26T01:56:14.965081Z"
    },
    "papermill": {
     "duration": 1.103687,
     "end_time": "2021-10-26T01:56:14.966565",
     "exception": false,
     "start_time": "2021-10-26T01:56:13.862878",
     "status": "completed"
    },
    "tags": []
   },
   "outputs": [],
   "source": [
    "#hide\n",
    "import matplotlib.pyplot as plt\n",
    "import numpy as np\n",
    "import pandas as pd\n",
    "import seaborn as sns\n",
    "import matplotlib.pyplot as plt \n",
    "import matplotlib.dates as mdates\n",
    "import matplotlib.pyplot as plt"
   ]
  },
  {
   "cell_type": "code",
   "execution_count": 5,
   "id": "superior-blanket",
   "metadata": {
    "execution": {
     "iopub.execute_input": "2021-10-26T01:56:15.000226Z",
     "iopub.status.busy": "2021-10-26T01:56:14.999588Z",
     "iopub.status.idle": "2021-10-26T01:56:26.918170Z",
     "shell.execute_reply": "2021-10-26T01:56:26.918733Z"
    },
    "papermill": {
     "duration": 11.938788,
     "end_time": "2021-10-26T01:56:26.918899",
     "exception": false,
     "start_time": "2021-10-26T01:56:14.980111",
     "status": "completed"
    },
    "tags": []
   },
   "outputs": [
    {
     "name": "stderr",
     "output_type": "stream",
     "text": [
      "/home/runner/work/corr-app/corr-app/_notebooks/scripts/read_data.py:187: SettingWithCopyWarning:\n",
      "\n",
      "\n",
      "A value is trying to be set on a copy of a slice from a DataFrame.\n",
      "Try using .loc[row_indexer,col_indexer] = value instead\n",
      "\n",
      "See the caveats in the documentation: https://pandas.pydata.org/pandas-docs/stable/user_guide/indexing.html#returning-a-view-versus-a-copy\n",
      "\n"
     ]
    },
    {
     "name": "stderr",
     "output_type": "stream",
     "text": [
      "/home/runner/work/corr-app/corr-app/_notebooks/scripts/read_data.py:215: SettingWithCopyWarning:\n",
      "\n",
      "\n",
      "A value is trying to be set on a copy of a slice from a DataFrame.\n",
      "Try using .loc[row_indexer,col_indexer] = value instead\n",
      "\n",
      "See the caveats in the documentation: https://pandas.pydata.org/pandas-docs/stable/user_guide/indexing.html#returning-a-view-versus-a-copy\n",
      "\n"
     ]
    }
   ],
   "source": [
    "#hide\n",
    "df_all = read_api()\n",
    "#df_all = df_all.drop(['SP500', 'XAU', 'ETH', 'BTC'], axis=1)\n",
    "\n"
   ]
  },
  {
   "cell_type": "code",
   "execution_count": 6,
   "id": "mature-alert",
   "metadata": {
    "execution": {
     "iopub.execute_input": "2021-10-26T01:56:26.952672Z",
     "iopub.status.busy": "2021-10-26T01:56:26.952077Z",
     "iopub.status.idle": "2021-10-26T01:56:26.988208Z",
     "shell.execute_reply": "2021-10-26T01:56:26.987276Z"
    },
    "papermill": {
     "duration": 0.056326,
     "end_time": "2021-10-26T01:56:26.988434",
     "exception": false,
     "start_time": "2021-10-26T01:56:26.932108",
     "status": "completed"
    },
    "tags": []
   },
   "outputs": [],
   "source": [
    "#hide_input\n",
    "sum_corr = df_all.corr().sum().sort_values(ascending=True).index.values\n",
    "#df_all[sum_corr].corr()"
   ]
  },
  {
   "cell_type": "markdown",
   "id": "complex-syndicate",
   "metadata": {
    "papermill": {
     "duration": 0.013268,
     "end_time": "2021-10-26T01:56:27.019430",
     "exception": false,
     "start_time": "2021-10-26T01:56:27.006162",
     "status": "completed"
    },
    "tags": []
   },
   "source": [
    "## Išplėstinė koreliacijų matrica. "
   ]
  },
  {
   "cell_type": "code",
   "execution_count": 7,
   "id": "atomic-omaha",
   "metadata": {
    "execution": {
     "iopub.execute_input": "2021-10-26T01:56:27.051258Z",
     "iopub.status.busy": "2021-10-26T01:56:27.050636Z",
     "iopub.status.idle": "2021-10-26T01:56:28.502708Z",
     "shell.execute_reply": "2021-10-26T01:56:28.502164Z"
    },
    "papermill": {
     "duration": 1.470502,
     "end_time": "2021-10-26T01:56:28.502847",
     "exception": false,
     "start_time": "2021-10-26T01:56:27.032345",
     "status": "completed"
    },
    "tags": []
   },
   "outputs": [
    {
     "data": {
      "image/png": "[encoded data removed]",
      "text/plain": [
       "<Figure size 1080x792 with 2 Axes>"
      ]
     },
     "metadata": {
      "needs_background": "light"
     },
     "output_type": "display_data"
    }
   ],
   "source": [
    "#hide_input\n",
    "plt.figure(figsize=(15, 11))\n",
    "sns.heatmap(df_all[sum_corr].corr(), annot=True, cmap=\"cubehelix\") \n",
    "sns.set(font_scale=1.25)\n",
    "plt.savefig('corr_matrix.png', format='eps')"
   ]
  },
  {
   "cell_type": "code",
   "execution_count": 8,
   "id": "arbitrary-sullivan",
   "metadata": {
    "execution": {
     "iopub.execute_input": "2021-10-26T01:56:28.543726Z",
     "iopub.status.busy": "2021-10-26T01:56:28.542534Z",
     "iopub.status.idle": "2021-10-26T01:56:28.569178Z",
     "shell.execute_reply": "2021-10-26T01:56:28.568528Z"
    },
    "papermill": {
     "duration": 0.050883,
     "end_time": "2021-10-26T01:56:28.569320",
     "exception": false,
     "start_time": "2021-10-26T01:56:28.518437",
     "status": "completed"
    },
    "tags": []
   },
   "outputs": [],
   "source": [
    "#hide\n",
    "#df_all_mrk = read_api()"
   ]
  },
  {
   "cell_type": "code",
   "execution_count": 9,
   "id": "delayed-adapter",
   "metadata": {
    "execution": {
     "iopub.execute_input": "2021-10-26T01:56:28.610577Z",
     "iopub.status.busy": "2021-10-26T01:56:28.609964Z",
     "iopub.status.idle": "2021-10-26T01:56:28.643107Z",
     "shell.execute_reply": "2021-10-26T01:56:28.642392Z"
    },
    "papermill": {
     "duration": 0.053713,
     "end_time": "2021-10-26T01:56:28.643292",
     "exception": false,
     "start_time": "2021-10-26T01:56:28.589579",
     "status": "completed"
    },
    "tags": []
   },
   "outputs": [],
   "source": [
    "#hide\n",
    "#Koreliacijų koeficientai"
   ]
  },
  {
   "cell_type": "code",
   "execution_count": 10,
   "id": "seeing-celebration",
   "metadata": {
    "execution": {
     "iopub.execute_input": "2021-10-26T01:56:28.683482Z",
     "iopub.status.busy": "2021-10-26T01:56:28.682885Z",
     "iopub.status.idle": "2021-10-26T01:56:28.716703Z",
     "shell.execute_reply": "2021-10-26T01:56:28.716131Z"
    },
    "papermill": {
     "duration": 0.054666,
     "end_time": "2021-10-26T01:56:28.716841",
     "exception": false,
     "start_time": "2021-10-26T01:56:28.662175",
     "status": "completed"
    },
    "tags": []
   },
   "outputs": [],
   "source": [
    "#hide_input\n",
    "#sum_corr = df_all_mrk.corr().sum().sort_values(ascending=True).index.values\n",
    "#df_all_mrk[sum_corr].corr()"
   ]
  },
  {
   "cell_type": "code",
   "execution_count": 11,
   "id": "other-painting",
   "metadata": {
    "execution": {
     "iopub.execute_input": "2021-10-26T01:56:28.752415Z",
     "iopub.status.busy": "2021-10-26T01:56:28.751809Z",
     "iopub.status.idle": "2021-10-26T01:56:28.783567Z",
     "shell.execute_reply": "2021-10-26T01:56:28.782998Z"
    },
    "papermill": {
     "duration": 0.051305,
     "end_time": "2021-10-26T01:56:28.783715",
     "exception": false,
     "start_time": "2021-10-26T01:56:28.732410",
     "status": "completed"
    },
    "tags": []
   },
   "outputs": [],
   "source": [
    "#hide\n",
    "#Koreliacijos matrica. "
   ]
  },
  {
   "cell_type": "code",
   "execution_count": 12,
   "id": "modular-magnitude",
   "metadata": {
    "execution": {
     "iopub.execute_input": "2021-10-26T01:56:28.826799Z",
     "iopub.status.busy": "2021-10-26T01:56:28.826206Z",
     "iopub.status.idle": "2021-10-26T01:56:28.858720Z",
     "shell.execute_reply": "2021-10-26T01:56:28.857959Z"
    },
    "papermill": {
     "duration": 0.051948,
     "end_time": "2021-10-26T01:56:28.858862",
     "exception": false,
     "start_time": "2021-10-26T01:56:28.806914",
     "status": "completed"
    },
    "tags": []
   },
   "outputs": [],
   "source": [
    "#hide_input\n",
    "#plt.figure(figsize=(15, 8))\n",
    "#sns.heatmap(df_all_mrk[sum_corr].corr(), annot=True, cmap=\"BrBG\");\n",
    "#plt.savefig('corr_matrix_all.eps', format='eps')"
   ]
  },
  {
   "cell_type": "code",
   "execution_count": null,
   "id": "original-senator",
   "metadata": {
    "papermill": {
     "duration": 0.016903,
     "end_time": "2021-10-26T01:56:28.893250",
     "exception": false,
     "start_time": "2021-10-26T01:56:28.876347",
     "status": "completed"
    },
    "tags": []
   },
   "outputs": [],
   "source": []
  },
  {
   "cell_type": "code",
   "execution_count": null,
   "id": "saving-secretariat",
   "metadata": {
    "papermill": {
     "duration": 0.01705,
     "end_time": "2021-10-26T01:56:28.927611",
     "exception": false,
     "start_time": "2021-10-26T01:56:28.910561",
     "status": "completed"
    },
    "tags": []
   },
   "outputs": [],
   "source": []
  }
 ],
 "metadata": {
  "kernelspec": {
   "display_name": "Python 3",
   "language": "python",
   "name": "python3"
  },
  "language_info": {
   "codemirror_mode": {
    "name": "ipython",
    "version": 3
   },
   "file_extension": ".py",
   "mimetype": "text/x-python",
   "name": "python",
   "nbconvert_exporter": "python",
   "pygments_lexer": "ipython3",
   "version": "3.6.15"
  },
  "papermill": {
   "default_parameters": {},
   "duration": 18.515698,
   "end_time": "2021-10-26T01:56:29.555372",
   "environment_variables": {},
   "exception": null,
   "input_path": "App-Correlation_charts.ipynb",
   "output_path": "App-Correlation_charts.ipynb",
   "parameters": {},
   "start_time": "2021-10-26T01:56:11.039674",
   "version": "2.2.2"
  }
 },
 "nbformat": 4,
 "nbformat_minor": 5
}