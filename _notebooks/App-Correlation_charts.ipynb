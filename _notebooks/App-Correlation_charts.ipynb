{
 "cells": [
  {
   "cell_type": "markdown",
   "id": "touched-facility",
   "metadata": {
    "papermill": {
     "duration": 0.019908,
     "end_time": "2021-12-22T02:06:01.758010",
     "exception": false,
     "start_time": "2021-12-22T02:06:01.738102",
     "status": "completed"
    },
    "tags": []
   },
   "source": [
    "# Koreliacijų matrica\n",
    "> Išplėstinė koreliacijų matrica. \n",
    "\n",
    "- toc: true \n",
    "- badges: true\n",
    "- comments: false\n",
    "- categories: [Dominykas Tautkus]\n",
    "- image: images/matrix.png"
   ]
  },
  {
   "cell_type": "code",
   "execution_count": null,
   "id": "premium-weekend",
   "metadata": {
    "papermill": {
     "duration": 0.012144,
     "end_time": "2021-12-22T02:06:01.783027",
     "exception": false,
     "start_time": "2021-12-22T02:06:01.770883",
     "status": "completed"
    },
    "tags": []
   },
   "outputs": [],
   "source": []
  },
  {
   "cell_type": "code",
   "execution_count": 1,
   "id": "vertical-rebate",
   "metadata": {
    "execution": {
     "iopub.execute_input": "2021-12-22T02:06:01.822552Z",
     "iopub.status.busy": "2021-12-22T02:06:01.820677Z",
     "iopub.status.idle": "2021-12-22T02:06:01.832830Z",
     "shell.execute_reply": "2021-12-22T02:06:01.832302Z"
    },
    "papermill": {
     "duration": 0.037874,
     "end_time": "2021-12-22T02:06:01.833009",
     "exception": false,
     "start_time": "2021-12-22T02:06:01.795135",
     "status": "completed"
    },
    "tags": []
   },
   "outputs": [],
   "source": [
    "#hide\n",
    "%load_ext autoreload\n",
    "%autoreload 2"
   ]
  },
  {
   "cell_type": "code",
   "execution_count": 2,
   "id": "overall-advancement",
   "metadata": {
    "execution": {
     "iopub.execute_input": "2021-12-22T02:06:01.864517Z",
     "iopub.status.busy": "2021-12-22T02:06:01.863920Z",
     "iopub.status.idle": "2021-12-22T02:06:03.419520Z",
     "shell.execute_reply": "2021-12-22T02:06:03.418977Z"
    },
    "papermill": {
     "duration": 1.574393,
     "end_time": "2021-12-22T02:06:03.419661",
     "exception": false,
     "start_time": "2021-12-22T02:06:01.845268",
     "status": "completed"
    },
    "tags": []
   },
   "outputs": [],
   "source": [
    "#hide\n",
    "from scripts.read_data import read_api\n",
    "from IPython.display import HTML\n",
    "import plotly.graph_objects as go\n"
   ]
  },
  {
   "cell_type": "code",
   "execution_count": 3,
   "id": "light-crazy",
   "metadata": {
    "execution": {
     "iopub.execute_input": "2021-12-22T02:06:03.450636Z",
     "iopub.status.busy": "2021-12-22T02:06:03.450020Z",
     "iopub.status.idle": "2021-12-22T02:06:03.476427Z",
     "shell.execute_reply": "2021-12-22T02:06:03.475726Z"
    },
    "papermill": {
     "duration": 0.044697,
     "end_time": "2021-12-22T02:06:03.476604",
     "exception": false,
     "start_time": "2021-12-22T02:06:03.431907",
     "status": "completed"
    },
    "tags": []
   },
   "outputs": [],
   "source": [
    "#hide\n",
    "### ICO koreliacija"
   ]
  },
  {
   "cell_type": "code",
   "execution_count": 4,
   "id": "likely-bahrain",
   "metadata": {
    "execution": {
     "iopub.execute_input": "2021-12-22T02:06:03.508479Z",
     "iopub.status.busy": "2021-12-22T02:06:03.507868Z",
     "iopub.status.idle": "2021-12-22T02:06:04.825553Z",
     "shell.execute_reply": "2021-12-22T02:06:04.824364Z"
    },
    "papermill": {
     "duration": 1.33628,
     "end_time": "2021-12-22T02:06:04.825708",
     "exception": false,
     "start_time": "2021-12-22T02:06:03.489428",
     "status": "completed"
    },
    "tags": []
   },
   "outputs": [],
   "source": [
    "#hide\n",
    "import matplotlib.pyplot as plt\n",
    "import numpy as np\n",
    "import pandas as pd\n",
    "import seaborn as sns\n",
    "import matplotlib.pyplot as plt \n",
    "import matplotlib.dates as mdates\n",
    "import matplotlib.pyplot as plt"
   ]
  },
  {
   "cell_type": "code",
   "execution_count": 5,
   "id": "superior-blanket",
   "metadata": {
    "execution": {
     "iopub.execute_input": "2021-12-22T02:06:04.856040Z",
     "iopub.status.busy": "2021-12-22T02:06:04.855308Z",
     "iopub.status.idle": "2021-12-22T02:06:15.092936Z",
     "shell.execute_reply": "2021-12-22T02:06:15.091830Z"
    },
    "papermill": {
     "duration": 10.255024,
     "end_time": "2021-12-22T02:06:15.093091",
     "exception": false,
     "start_time": "2021-12-22T02:06:04.838067",
     "status": "completed"
    },
    "tags": []
   },
   "outputs": [
    {
     "name": "stderr",
     "output_type": "stream",
     "text": [
      "/home/runner/work/corr-app/corr-app/_notebooks/scripts/read_data.py:187: SettingWithCopyWarning:\n",
      "\n",
      "\n",
      "A value is trying to be set on a copy of a slice from a DataFrame.\n",
      "Try using .loc[row_indexer,col_indexer] = value instead\n",
      "\n",
      "See the caveats in the documentation: https://pandas.pydata.org/pandas-docs/stable/user_guide/indexing.html#returning-a-view-versus-a-copy\n",
      "\n"
     ]
    },
    {
     "name": "stderr",
     "output_type": "stream",
     "text": [
      "/home/runner/work/corr-app/corr-app/_notebooks/scripts/read_data.py:215: SettingWithCopyWarning:\n",
      "\n",
      "\n",
      "A value is trying to be set on a copy of a slice from a DataFrame.\n",
      "Try using .loc[row_indexer,col_indexer] = value instead\n",
      "\n",
      "See the caveats in the documentation: https://pandas.pydata.org/pandas-docs/stable/user_guide/indexing.html#returning-a-view-versus-a-copy\n",
      "\n"
     ]
    }
   ],
   "source": [
    "#hide\n",
    "df_all = read_api()\n",
    "#df_all = df_all.drop(['SP500', 'XAU', 'ETH', 'BTC'], axis=1)\n",
    "\n"
   ]
  },
  {
   "cell_type": "code",
   "execution_count": 6,
   "id": "mature-alert",
   "metadata": {
    "execution": {
     "iopub.execute_input": "2021-12-22T02:06:15.124152Z",
     "iopub.status.busy": "2021-12-22T02:06:15.123547Z",
     "iopub.status.idle": "2021-12-22T02:06:15.162148Z",
     "shell.execute_reply": "2021-12-22T02:06:15.161212Z"
    },
    "papermill": {
     "duration": 0.055974,
     "end_time": "2021-12-22T02:06:15.162360",
     "exception": false,
     "start_time": "2021-12-22T02:06:15.106386",
     "status": "completed"
    },
    "tags": []
   },
   "outputs": [],
   "source": [
    "#hide_input\n",
    "sum_corr = df_all.corr().sum().sort_values(ascending=True).index.values\n",
    "#df_all[sum_corr].corr()"
   ]
  },
  {
   "cell_type": "markdown",
   "id": "complex-syndicate",
   "metadata": {
    "papermill": {
     "duration": 0.014284,
     "end_time": "2021-12-22T02:06:15.190220",
     "exception": false,
     "start_time": "2021-12-22T02:06:15.175936",
     "status": "completed"
    },
    "tags": []
   },
   "source": [
    "## Išplėstinė koreliacijų matrica. "
   ]
  },
  {
   "cell_type": "code",
   "execution_count": 7,
   "id": "atomic-omaha",
   "metadata": {
    "execution": {
     "iopub.execute_input": "2021-12-22T02:06:15.222667Z",
     "iopub.status.busy": "2021-12-22T02:06:15.222039Z",
     "iopub.status.idle": "2021-12-22T02:06:16.818201Z",
     "shell.execute_reply": "2021-12-22T02:06:16.817467Z"
    },
    "papermill": {
     "duration": 1.614678,
     "end_time": "2021-12-22T02:06:16.818346",
     "exception": false,
     "start_time": "2021-12-22T02:06:15.203668",
     "status": "completed"
    },
    "tags": []
   },
   "outputs": [
    {
     "data": {
      "image/png": "[encoded data removed]",
      "text/plain": [
       "<Figure size 1080x792 with 2 Axes>"
      ]
     },
     "metadata": {
      "needs_background": "light"
     },
     "output_type": "display_data"
    }
   ],
   "source": [
    "#hide_input\n",
    "plt.figure(figsize=(15, 11))\n",
    "sns.heatmap(df_all[sum_corr].corr(), annot=True, cmap=\"cubehelix\") \n",
    "sns.set(font_scale=1.25)\n",
    "plt.savefig('corr_matrix.png', format='eps')"
   ]
  },
  {
   "cell_type": "code",
   "execution_count": 8,
   "id": "arbitrary-sullivan",
   "metadata": {
    "execution": {
     "iopub.execute_input": "2021-12-22T02:06:16.860896Z",
     "iopub.status.busy": "2021-12-22T02:06:16.858724Z",
     "iopub.status.idle": "2021-12-22T02:06:16.888495Z",
     "shell.execute_reply": "2021-12-22T02:06:16.887828Z"
    },
    "papermill": {
     "duration": 0.053123,
     "end_time": "2021-12-22T02:06:16.888669",
     "exception": false,
     "start_time": "2021-12-22T02:06:16.835546",
     "status": "completed"
    },
    "tags": []
   },
   "outputs": [],
   "source": [
    "#hide\n",
    "#df_all_mrk = read_api()"
   ]
  },
  {
   "cell_type": "code",
   "execution_count": 9,
   "id": "delayed-adapter",
   "metadata": {
    "execution": {
     "iopub.execute_input": "2021-12-22T02:06:16.928883Z",
     "iopub.status.busy": "2021-12-22T02:06:16.927421Z",
     "iopub.status.idle": "2021-12-22T02:06:16.956207Z",
     "shell.execute_reply": "2021-12-22T02:06:16.955702Z"
    },
    "papermill": {
     "duration": 0.050362,
     "end_time": "2021-12-22T02:06:16.956344",
     "exception": false,
     "start_time": "2021-12-22T02:06:16.905982",
     "status": "completed"
    },
    "tags": []
   },
   "outputs": [],
   "source": [
    "#hide\n",
    "#Koreliacijų koeficientai"
   ]
  },
  {
   "cell_type": "code",
   "execution_count": 10,
   "id": "seeing-celebration",
   "metadata": {
    "execution": {
     "iopub.execute_input": "2021-12-22T02:06:16.993429Z",
     "iopub.status.busy": "2021-12-22T02:06:16.992481Z",
     "iopub.status.idle": "2021-12-22T02:06:17.026159Z",
     "shell.execute_reply": "2021-12-22T02:06:17.025604Z"
    },
    "papermill": {
     "duration": 0.054584,
     "end_time": "2021-12-22T02:06:17.026294",
     "exception": false,
     "start_time": "2021-12-22T02:06:16.971710",
     "status": "completed"
    },
    "tags": []
   },
   "outputs": [],
   "source": [
    "#hide_input\n",
    "#sum_corr = df_all_mrk.corr().sum().sort_values(ascending=True).index.values\n",
    "#df_all_mrk[sum_corr].corr()"
   ]
  },
  {
   "cell_type": "code",
   "execution_count": 11,
   "id": "other-painting",
   "metadata": {
    "execution": {
     "iopub.execute_input": "2021-12-22T02:06:17.060211Z",
     "iopub.status.busy": "2021-12-22T02:06:17.059614Z",
     "iopub.status.idle": "2021-12-22T02:06:17.092579Z",
     "shell.execute_reply": "2021-12-22T02:06:17.091683Z"
    },
    "papermill": {
     "duration": 0.051465,
     "end_time": "2021-12-22T02:06:17.092794",
     "exception": false,
     "start_time": "2021-12-22T02:06:17.041329",
     "status": "completed"
    },
    "tags": []
   },
   "outputs": [],
   "source": [
    "#hide\n",
    "#Koreliacijos matrica. "
   ]
  },
  {
   "cell_type": "code",
   "execution_count": 12,
   "id": "modular-magnitude",
   "metadata": {
    "execution": {
     "iopub.execute_input": "2021-12-22T02:06:17.129742Z",
     "iopub.status.busy": "2021-12-22T02:06:17.129100Z",
     "iopub.status.idle": "2021-12-22T02:06:17.158607Z",
     "shell.execute_reply": "2021-12-22T02:06:17.158083Z"
    },
    "papermill": {
     "duration": 0.049226,
     "end_time": "2021-12-22T02:06:17.158746",
     "exception": false,
     "start_time": "2021-12-22T02:06:17.109520",
     "status": "completed"
    },
    "tags": []
   },
   "outputs": [],
   "source": [
    "#hide_input\n",
    "#plt.figure(figsize=(15, 8))\n",
    "#sns.heatmap(df_all_mrk[sum_corr].corr(), annot=True, cmap=\"BrBG\");\n",
    "#plt.savefig('corr_matrix_all.eps', format='eps')"
   ]
  },
  {
   "cell_type": "code",
   "execution_count": null,
   "id": "original-senator",
   "metadata": {
    "papermill": {
     "duration": 0.015805,
     "end_time": "2021-12-22T02:06:17.189570",
     "exception": false,
     "start_time": "2021-12-22T02:06:17.173765",
     "status": "completed"
    },
    "tags": []
   },
   "outputs": [],
   "source": []
  },
  {
   "cell_type": "code",
   "execution_count": null,
   "id": "saving-secretariat",
   "metadata": {
    "papermill": {
     "duration": 0.015163,
     "end_time": "2021-12-22T02:06:17.219897",
     "exception": false,
     "start_time": "2021-12-22T02:06:17.204734",
     "status": "completed"
    },
    "tags": []
   },
   "outputs": [],
   "source": []
  }
 ],
 "metadata": {
  "kernelspec": {
   "display_name": "Python 3",
   "language": "python",
   "name": "python3"
  },
  "language_info": {
   "codemirror_mode": {
    "name": "ipython",
    "version": 3
   },
   "file_extension": ".py",
   "mimetype": "text/x-python",
   "name": "python",
   "nbconvert_exporter": "python",
   "pygments_lexer": "ipython3",
   "version": "3.6.15"
  },
  "papermill": {
   "default_parameters": {},
   "duration": 17.181797,
   "end_time": "2021-12-22T02:06:17.746096",
   "environment_variables": {},
   "exception": null,
   "input_path": "App-Correlation_charts.ipynb",
   "output_path": "App-Correlation_charts.ipynb",
   "parameters": {},
   "start_time": "2021-12-22T02:06:00.564299",
   "version": "2.2.2"
  }
 },
 "nbformat": 4,
 "nbformat_minor": 5
}