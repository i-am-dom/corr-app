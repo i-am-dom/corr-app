{
 "cells": [
  {
   "cell_type": "markdown",
   "id": "touched-facility",
   "metadata": {
    "papermill": {
     "duration": 0.013357,
     "end_time": "2022-06-09T02:59:38.717384",
     "exception": false,
     "start_time": "2022-06-09T02:59:38.704027",
     "status": "completed"
    },
    "tags": []
   },
   "source": [
    "# Koreliacijų matrica\n",
    "> Išplėstinė koreliacijų matrica. \n",
    "\n",
    "- toc: true \n",
    "- badges: true\n",
    "- comments: false\n",
    "- categories: [Dominykas Tautkus]\n",
    "- image: images/matrix.png"
   ]
  },
  {
   "cell_type": "code",
   "execution_count": null,
   "id": "premium-weekend",
   "metadata": {
    "papermill": {
     "duration": 0.009676,
     "end_time": "2022-06-09T02:59:38.737056",
     "exception": false,
     "start_time": "2022-06-09T02:59:38.727380",
     "status": "completed"
    },
    "tags": []
   },
   "outputs": [],
   "source": []
  },
  {
   "cell_type": "code",
   "execution_count": 1,
   "id": "vertical-rebate",
   "metadata": {
    "execution": {
     "iopub.execute_input": "2022-06-09T02:59:38.765454Z",
     "iopub.status.busy": "2022-06-09T02:59:38.764903Z",
     "iopub.status.idle": "2022-06-09T02:59:38.774059Z",
     "shell.execute_reply": "2022-06-09T02:59:38.774463Z"
    },
    "papermill": {
     "duration": 0.028034,
     "end_time": "2022-06-09T02:59:38.774584",
     "exception": false,
     "start_time": "2022-06-09T02:59:38.746550",
     "status": "completed"
    },
    "tags": []
   },
   "outputs": [],
   "source": [
    "#hide\n",
    "%load_ext autoreload\n",
    "%autoreload 2"
   ]
  },
  {
   "cell_type": "code",
   "execution_count": 2,
   "id": "overall-advancement",
   "metadata": {
    "execution": {
     "iopub.execute_input": "2022-06-09T02:59:38.796245Z",
     "iopub.status.busy": "2022-06-09T02:59:38.795738Z",
     "iopub.status.idle": "2022-06-09T02:59:39.836824Z",
     "shell.execute_reply": "2022-06-09T02:59:39.837604Z"
    },
    "papermill": {
     "duration": 1.054002,
     "end_time": "2022-06-09T02:59:39.837756",
     "exception": false,
     "start_time": "2022-06-09T02:59:38.783754",
     "status": "completed"
    },
    "tags": []
   },
   "outputs": [],
   "source": [
    "#hide\n",
    "from scripts.read_data import read_api\n",
    "from IPython.display import HTML\n",
    "import plotly.graph_objects as go\n"
   ]
  },
  {
   "cell_type": "code",
   "execution_count": 3,
   "id": "light-crazy",
   "metadata": {
    "execution": {
     "iopub.execute_input": "2022-06-09T02:59:39.859790Z",
     "iopub.status.busy": "2022-06-09T02:59:39.859274Z",
     "iopub.status.idle": "2022-06-09T02:59:39.879296Z",
     "shell.execute_reply": "2022-06-09T02:59:39.878767Z"
    },
    "papermill": {
     "duration": 0.032072,
     "end_time": "2022-06-09T02:59:39.879412",
     "exception": false,
     "start_time": "2022-06-09T02:59:39.847340",
     "status": "completed"
    },
    "tags": []
   },
   "outputs": [],
   "source": [
    "#hide\n",
    "### ICO koreliacija"
   ]
  },
  {
   "cell_type": "code",
   "execution_count": 4,
   "id": "likely-bahrain",
   "metadata": {
    "execution": {
     "iopub.execute_input": "2022-06-09T02:59:39.904919Z",
     "iopub.status.busy": "2022-06-09T02:59:39.904267Z",
     "iopub.status.idle": "2022-06-09T02:59:40.752839Z",
     "shell.execute_reply": "2022-06-09T02:59:40.753278Z"
    },
    "papermill": {
     "duration": 0.86352,
     "end_time": "2022-06-09T02:59:40.753432",
     "exception": false,
     "start_time": "2022-06-09T02:59:39.889912",
     "status": "completed"
    },
    "tags": []
   },
   "outputs": [],
   "source": [
    "#hide\n",
    "import matplotlib.pyplot as plt\n",
    "import numpy as np\n",
    "import pandas as pd\n",
    "import seaborn as sns\n",
    "import matplotlib.pyplot as plt \n",
    "import matplotlib.dates as mdates\n",
    "import matplotlib.pyplot as plt"
   ]
  },
  {
   "cell_type": "code",
   "execution_count": 5,
   "id": "superior-blanket",
   "metadata": {
    "execution": {
     "iopub.execute_input": "2022-06-09T02:59:40.846695Z",
     "iopub.status.busy": "2022-06-09T02:59:40.846113Z",
     "iopub.status.idle": "2022-06-09T02:59:50.896778Z",
     "shell.execute_reply": "2022-06-09T02:59:50.896273Z"
    },
    "papermill": {
     "duration": 10.099051,
     "end_time": "2022-06-09T02:59:50.896890",
     "exception": false,
     "start_time": "2022-06-09T02:59:40.797839",
     "status": "completed"
    },
    "tags": []
   },
   "outputs": [
    {
     "name": "stderr",
     "output_type": "stream",
     "text": [
      "/home/runner/work/corr-app/corr-app/_notebooks/scripts/read_data.py:187: SettingWithCopyWarning:\n",
      "\n",
      "\n",
      "A value is trying to be set on a copy of a slice from a DataFrame.\n",
      "Try using .loc[row_indexer,col_indexer] = value instead\n",
      "\n",
      "See the caveats in the documentation: https://pandas.pydata.org/pandas-docs/stable/user_guide/indexing.html#returning-a-view-versus-a-copy\n",
      "\n"
     ]
    },
    {
     "name": "stderr",
     "output_type": "stream",
     "text": [
      "/home/runner/work/corr-app/corr-app/_notebooks/scripts/read_data.py:215: SettingWithCopyWarning:\n",
      "\n",
      "\n",
      "A value is trying to be set on a copy of a slice from a DataFrame.\n",
      "Try using .loc[row_indexer,col_indexer] = value instead\n",
      "\n",
      "See the caveats in the documentation: https://pandas.pydata.org/pandas-docs/stable/user_guide/indexing.html#returning-a-view-versus-a-copy\n",
      "\n"
     ]
    }
   ],
   "source": [
    "#hide\n",
    "df_all = read_api()\n",
    "#df_all = df_all.drop(['SP500', 'XAU', 'ETH', 'BTC'], axis=1)\n",
    "\n"
   ]
  },
  {
   "cell_type": "code",
   "execution_count": 6,
   "id": "mature-alert",
   "metadata": {
    "execution": {
     "iopub.execute_input": "2022-06-09T02:59:50.935854Z",
     "iopub.status.busy": "2022-06-09T02:59:50.932923Z",
     "iopub.status.idle": "2022-06-09T02:59:50.954599Z",
     "shell.execute_reply": "2022-06-09T02:59:50.954207Z"
    },
    "papermill": {
     "duration": 0.047333,
     "end_time": "2022-06-09T02:59:50.954696",
     "exception": false,
     "start_time": "2022-06-09T02:59:50.907363",
     "status": "completed"
    },
    "tags": []
   },
   "outputs": [],
   "source": [
    "#hide_input\n",
    "sum_corr = df_all.corr().sum().sort_values(ascending=True).index.values\n",
    "#df_all[sum_corr].corr()"
   ]
  },
  {
   "cell_type": "markdown",
   "id": "complex-syndicate",
   "metadata": {
    "papermill": {
     "duration": 0.009681,
     "end_time": "2022-06-09T02:59:50.974095",
     "exception": false,
     "start_time": "2022-06-09T02:59:50.964414",
     "status": "completed"
    },
    "tags": []
   },
   "source": [
    "## Išplėstinė koreliacijų matrica. "
   ]
  },
  {
   "cell_type": "code",
   "execution_count": 7,
   "id": "atomic-omaha",
   "metadata": {
    "execution": {
     "iopub.execute_input": "2022-06-09T02:59:50.999725Z",
     "iopub.status.busy": "2022-06-09T02:59:50.996456Z",
     "iopub.status.idle": "2022-06-09T02:59:52.063929Z",
     "shell.execute_reply": "2022-06-09T02:59:52.064620Z"
    },
    "papermill": {
     "duration": 1.08095,
     "end_time": "2022-06-09T02:59:52.064749",
     "exception": false,
     "start_time": "2022-06-09T02:59:50.983799",
     "status": "completed"
    },
    "tags": []
   },
   "outputs": [
    {
     "data": {
      "image/png": "[encoded data removed]",
      "text/plain": [
       "<Figure size 1080x792 with 2 Axes>"
      ]
     },
     "metadata": {
      "needs_background": "light"
     },
     "output_type": "display_data"
    }
   ],
   "source": [
    "#hide_input\n",
    "plt.figure(figsize=(15, 11))\n",
    "sns.heatmap(df_all[sum_corr].corr(), annot=True, cmap=\"cubehelix\") \n",
    "sns.set(font_scale=1.25)\n",
    "plt.savefig('corr_matrix.png', format='eps')"
   ]
  },
  {
   "cell_type": "code",
   "execution_count": 8,
   "id": "arbitrary-sullivan",
   "metadata": {
    "execution": {
     "iopub.execute_input": "2022-06-09T02:59:52.091263Z",
     "iopub.status.busy": "2022-06-09T02:59:52.090756Z",
     "iopub.status.idle": "2022-06-09T02:59:52.113623Z",
     "shell.execute_reply": "2022-06-09T02:59:52.114005Z"
    },
    "papermill": {
     "duration": 0.037563,
     "end_time": "2022-06-09T02:59:52.114114",
     "exception": false,
     "start_time": "2022-06-09T02:59:52.076551",
     "status": "completed"
    },
    "tags": []
   },
   "outputs": [],
   "source": [
    "#hide\n",
    "#df_all_mrk = read_api()"
   ]
  },
  {
   "cell_type": "code",
   "execution_count": 9,
   "id": "delayed-adapter",
   "metadata": {
    "execution": {
     "iopub.execute_input": "2022-06-09T02:59:52.139964Z",
     "iopub.status.busy": "2022-06-09T02:59:52.139311Z",
     "iopub.status.idle": "2022-06-09T02:59:52.163124Z",
     "shell.execute_reply": "2022-06-09T02:59:52.162557Z"
    },
    "papermill": {
     "duration": 0.037943,
     "end_time": "2022-06-09T02:59:52.163239",
     "exception": false,
     "start_time": "2022-06-09T02:59:52.125296",
     "status": "completed"
    },
    "tags": []
   },
   "outputs": [],
   "source": [
    "#hide\n",
    "#Koreliacijų koeficientai"
   ]
  },
  {
   "cell_type": "code",
   "execution_count": 10,
   "id": "seeing-celebration",
   "metadata": {
    "execution": {
     "iopub.execute_input": "2022-06-09T02:59:52.189436Z",
     "iopub.status.busy": "2022-06-09T02:59:52.188762Z",
     "iopub.status.idle": "2022-06-09T02:59:52.212080Z",
     "shell.execute_reply": "2022-06-09T02:59:52.211525Z"
    },
    "papermill": {
     "duration": 0.037246,
     "end_time": "2022-06-09T02:59:52.212192",
     "exception": false,
     "start_time": "2022-06-09T02:59:52.174946",
     "status": "completed"
    },
    "tags": []
   },
   "outputs": [],
   "source": [
    "#hide_input\n",
    "#sum_corr = df_all_mrk.corr().sum().sort_values(ascending=True).index.values\n",
    "#df_all_mrk[sum_corr].corr()"
   ]
  },
  {
   "cell_type": "code",
   "execution_count": 11,
   "id": "other-painting",
   "metadata": {
    "execution": {
     "iopub.execute_input": "2022-06-09T02:59:52.246863Z",
     "iopub.status.busy": "2022-06-09T02:59:52.238887Z",
     "iopub.status.idle": "2022-06-09T02:59:52.265627Z",
     "shell.execute_reply": "2022-06-09T02:59:52.265206Z"
    },
    "papermill": {
     "duration": 0.041231,
     "end_time": "2022-06-09T02:59:52.265723",
     "exception": false,
     "start_time": "2022-06-09T02:59:52.224492",
     "status": "completed"
    },
    "tags": []
   },
   "outputs": [],
   "source": [
    "#hide\n",
    "#Koreliacijos matrica. "
   ]
  },
  {
   "cell_type": "code",
   "execution_count": 12,
   "id": "modular-magnitude",
   "metadata": {
    "execution": {
     "iopub.execute_input": "2022-06-09T02:59:52.295178Z",
     "iopub.status.busy": "2022-06-09T02:59:52.290725Z",
     "iopub.status.idle": "2022-06-09T02:59:52.314957Z",
     "shell.execute_reply": "2022-06-09T02:59:52.314519Z"
    },
    "papermill": {
     "duration": 0.037999,
     "end_time": "2022-06-09T02:59:52.315058",
     "exception": false,
     "start_time": "2022-06-09T02:59:52.277059",
     "status": "completed"
    },
    "tags": []
   },
   "outputs": [],
   "source": [
    "#hide_input\n",
    "#plt.figure(figsize=(15, 8))\n",
    "#sns.heatmap(df_all_mrk[sum_corr].corr(), annot=True, cmap=\"BrBG\");\n",
    "#plt.savefig('corr_matrix_all.eps', format='eps')"
   ]
  },
  {
   "cell_type": "code",
   "execution_count": null,
   "id": "original-senator",
   "metadata": {
    "papermill": {
     "duration": 0.01127,
     "end_time": "2022-06-09T02:59:52.338010",
     "exception": false,
     "start_time": "2022-06-09T02:59:52.326740",
     "status": "completed"
    },
    "tags": []
   },
   "outputs": [],
   "source": []
  },
  {
   "cell_type": "code",
   "execution_count": null,
   "id": "saving-secretariat",
   "metadata": {
    "papermill": {
     "duration": 0.011331,
     "end_time": "2022-06-09T02:59:52.360571",
     "exception": false,
     "start_time": "2022-06-09T02:59:52.349240",
     "status": "completed"
    },
    "tags": []
   },
   "outputs": [],
   "source": []
  }
 ],
 "metadata": {
  "kernelspec": {
   "display_name": "Python 3",
   "language": "python",
   "name": "python3"
  },
  "language_info": {
   "codemirror_mode": {
    "name": "ipython",
    "version": 3
   },
   "file_extension": ".py",
   "mimetype": "text/x-python",
   "name": "python",
   "nbconvert_exporter": "python",
   "pygments_lexer": "ipython3",
   "version": "3.6.15"
  },
  "papermill": {
   "default_parameters": {},
   "duration": 15.259343,
   "end_time": "2022-06-09T02:59:52.894808",
   "environment_variables": {},
   "exception": null,
   "input_path": "App-Correlation_charts.ipynb",
   "output_path": "App-Correlation_charts.ipynb",
   "parameters": {},
   "start_time": "2022-06-09T02:59:37.635465",
   "version": "2.2.2"
  }
 },
 "nbformat": 4,
 "nbformat_minor": 5
}