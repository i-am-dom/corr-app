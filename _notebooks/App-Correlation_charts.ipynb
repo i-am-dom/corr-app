{
 "cells": [
  {
   "cell_type": "markdown",
   "id": "touched-facility",
   "metadata": {
    "papermill": {
     "duration": 0.015248,
     "end_time": "2021-09-10T01:59:17.376386",
     "exception": false,
     "start_time": "2021-09-10T01:59:17.361138",
     "status": "completed"
    },
    "tags": []
   },
   "source": [
    "# Koreliacijų matrica\n",
    "> Išplėstinė koreliacijų matrica. \n",
    "\n",
    "- toc: true \n",
    "- badges: true\n",
    "- comments: false\n",
    "- categories: [Dominykas Tautkus]\n",
    "- image: images/matrix.png"
   ]
  },
  {
   "cell_type": "code",
   "execution_count": null,
   "id": "premium-weekend",
   "metadata": {
    "papermill": {
     "duration": 0.010493,
     "end_time": "2021-09-10T01:59:17.398119",
     "exception": false,
     "start_time": "2021-09-10T01:59:17.387626",
     "status": "completed"
    },
    "tags": []
   },
   "outputs": [],
   "source": []
  },
  {
   "cell_type": "code",
   "execution_count": 1,
   "id": "vertical-rebate",
   "metadata": {
    "execution": {
     "iopub.execute_input": "2021-09-10T01:59:17.429150Z",
     "iopub.status.busy": "2021-09-10T01:59:17.428634Z",
     "iopub.status.idle": "2021-09-10T01:59:17.439031Z",
     "shell.execute_reply": "2021-09-10T01:59:17.438607Z"
    },
    "papermill": {
     "duration": 0.03058,
     "end_time": "2021-09-10T01:59:17.439150",
     "exception": false,
     "start_time": "2021-09-10T01:59:17.408570",
     "status": "completed"
    },
    "tags": []
   },
   "outputs": [],
   "source": [
    "#hide\n",
    "%load_ext autoreload\n",
    "%autoreload 2"
   ]
  },
  {
   "cell_type": "code",
   "execution_count": 2,
   "id": "overall-advancement",
   "metadata": {
    "execution": {
     "iopub.execute_input": "2021-09-10T01:59:17.463229Z",
     "iopub.status.busy": "2021-09-10T01:59:17.462727Z",
     "iopub.status.idle": "2021-09-10T01:59:18.771235Z",
     "shell.execute_reply": "2021-09-10T01:59:18.771716Z"
    },
    "papermill": {
     "duration": 1.322296,
     "end_time": "2021-09-10T01:59:18.771882",
     "exception": false,
     "start_time": "2021-09-10T01:59:17.449586",
     "status": "completed"
    },
    "tags": []
   },
   "outputs": [],
   "source": [
    "#hide\n",
    "from scripts.read_data import read_api\n",
    "from IPython.display import HTML\n",
    "import plotly.graph_objects as go\n"
   ]
  },
  {
   "cell_type": "code",
   "execution_count": 3,
   "id": "light-crazy",
   "metadata": {
    "execution": {
     "iopub.execute_input": "2021-09-10T01:59:18.802701Z",
     "iopub.status.busy": "2021-09-10T01:59:18.801425Z",
     "iopub.status.idle": "2021-09-10T01:59:18.819969Z",
     "shell.execute_reply": "2021-09-10T01:59:18.819523Z"
    },
    "papermill": {
     "duration": 0.036235,
     "end_time": "2021-09-10T01:59:18.820077",
     "exception": false,
     "start_time": "2021-09-10T01:59:18.783842",
     "status": "completed"
    },
    "tags": []
   },
   "outputs": [],
   "source": [
    "#hide\n",
    "### ICO koreliacija"
   ]
  },
  {
   "cell_type": "code",
   "execution_count": 4,
   "id": "likely-bahrain",
   "metadata": {
    "execution": {
     "iopub.execute_input": "2021-09-10T01:59:18.844404Z",
     "iopub.status.busy": "2021-09-10T01:59:18.843870Z",
     "iopub.status.idle": "2021-09-10T01:59:19.644804Z",
     "shell.execute_reply": "2021-09-10T01:59:19.643908Z"
    },
    "papermill": {
     "duration": 0.814403,
     "end_time": "2021-09-10T01:59:19.644935",
     "exception": false,
     "start_time": "2021-09-10T01:59:18.830532",
     "status": "completed"
    },
    "tags": []
   },
   "outputs": [],
   "source": [
    "#hide\n",
    "import matplotlib.pyplot as plt\n",
    "import numpy as np\n",
    "import pandas as pd\n",
    "import seaborn as sns\n",
    "import matplotlib.pyplot as plt \n",
    "import matplotlib.dates as mdates\n",
    "import matplotlib.pyplot as plt"
   ]
  },
  {
   "cell_type": "code",
   "execution_count": 5,
   "id": "superior-blanket",
   "metadata": {
    "execution": {
     "iopub.execute_input": "2021-09-10T01:59:19.670590Z",
     "iopub.status.busy": "2021-09-10T01:59:19.670029Z",
     "iopub.status.idle": "2021-09-10T01:59:32.804389Z",
     "shell.execute_reply": "2021-09-10T01:59:32.803897Z"
    },
    "papermill": {
     "duration": 13.148652,
     "end_time": "2021-09-10T01:59:32.804507",
     "exception": false,
     "start_time": "2021-09-10T01:59:19.655855",
     "status": "completed"
    },
    "tags": []
   },
   "outputs": [
    {
     "name": "stderr",
     "output_type": "stream",
     "text": [
      "/home/runner/work/corr-app/corr-app/_notebooks/scripts/read_data.py:187: SettingWithCopyWarning:\n",
      "\n",
      "\n",
      "A value is trying to be set on a copy of a slice from a DataFrame.\n",
      "Try using .loc[row_indexer,col_indexer] = value instead\n",
      "\n",
      "See the caveats in the documentation: https://pandas.pydata.org/pandas-docs/stable/user_guide/indexing.html#returning-a-view-versus-a-copy\n",
      "\n"
     ]
    },
    {
     "name": "stderr",
     "output_type": "stream",
     "text": [
      "/home/runner/work/corr-app/corr-app/_notebooks/scripts/read_data.py:215: SettingWithCopyWarning:\n",
      "\n",
      "\n",
      "A value is trying to be set on a copy of a slice from a DataFrame.\n",
      "Try using .loc[row_indexer,col_indexer] = value instead\n",
      "\n",
      "See the caveats in the documentation: https://pandas.pydata.org/pandas-docs/stable/user_guide/indexing.html#returning-a-view-versus-a-copy\n",
      "\n"
     ]
    }
   ],
   "source": [
    "#hide\n",
    "df_all = read_api()\n",
    "#df_all = df_all.drop(['SP500', 'XAU', 'ETH', 'BTC'], axis=1)\n",
    "\n"
   ]
  },
  {
   "cell_type": "code",
   "execution_count": 6,
   "id": "mature-alert",
   "metadata": {
    "execution": {
     "iopub.execute_input": "2021-09-10T01:59:32.841585Z",
     "iopub.status.busy": "2021-09-10T01:59:32.840784Z",
     "iopub.status.idle": "2021-09-10T01:59:32.863735Z",
     "shell.execute_reply": "2021-09-10T01:59:32.863269Z"
    },
    "papermill": {
     "duration": 0.047772,
     "end_time": "2021-09-10T01:59:32.863863",
     "exception": false,
     "start_time": "2021-09-10T01:59:32.816091",
     "status": "completed"
    },
    "tags": []
   },
   "outputs": [],
   "source": [
    "#hide_input\n",
    "sum_corr = df_all.corr().sum().sort_values(ascending=True).index.values\n",
    "#df_all[sum_corr].corr()"
   ]
  },
  {
   "cell_type": "markdown",
   "id": "complex-syndicate",
   "metadata": {
    "papermill": {
     "duration": 0.011073,
     "end_time": "2021-09-10T01:59:32.886757",
     "exception": false,
     "start_time": "2021-09-10T01:59:32.875684",
     "status": "completed"
    },
    "tags": []
   },
   "source": [
    "## Išplėstinė koreliacijų matrica. "
   ]
  },
  {
   "cell_type": "code",
   "execution_count": 7,
   "id": "atomic-omaha",
   "metadata": {
    "execution": {
     "iopub.execute_input": "2021-09-10T01:59:32.926479Z",
     "iopub.status.busy": "2021-09-10T01:59:32.925686Z",
     "iopub.status.idle": "2021-09-10T01:59:34.074963Z",
     "shell.execute_reply": "2021-09-10T01:59:34.074535Z"
    },
    "papermill": {
     "duration": 1.177348,
     "end_time": "2021-09-10T01:59:34.075086",
     "exception": false,
     "start_time": "2021-09-10T01:59:32.897738",
     "status": "completed"
    },
    "tags": []
   },
   "outputs": [
    {
     "data": {
      "image/png": "[encoded data removed]",
      "text/plain": [
       "<Figure size 1080x792 with 2 Axes>"
      ]
     },
     "metadata": {
      "needs_background": "light"
     },
     "output_type": "display_data"
    }
   ],
   "source": [
    "#hide_input\n",
    "plt.figure(figsize=(15, 11))\n",
    "sns.heatmap(df_all[sum_corr].corr(), annot=True, cmap=\"cubehelix\") \n",
    "sns.set(font_scale=1.25)\n",
    "plt.savefig('corr_matrix.png', format='eps')"
   ]
  },
  {
   "cell_type": "code",
   "execution_count": 8,
   "id": "arbitrary-sullivan",
   "metadata": {
    "execution": {
     "iopub.execute_input": "2021-09-10T01:59:34.104626Z",
     "iopub.status.busy": "2021-09-10T01:59:34.104048Z",
     "iopub.status.idle": "2021-09-10T01:59:34.128959Z",
     "shell.execute_reply": "2021-09-10T01:59:34.128490Z"
    },
    "papermill": {
     "duration": 0.040656,
     "end_time": "2021-09-10T01:59:34.129075",
     "exception": false,
     "start_time": "2021-09-10T01:59:34.088419",
     "status": "completed"
    },
    "tags": []
   },
   "outputs": [],
   "source": [
    "#hide\n",
    "#df_all_mrk = read_api()"
   ]
  },
  {
   "cell_type": "code",
   "execution_count": 9,
   "id": "delayed-adapter",
   "metadata": {
    "execution": {
     "iopub.execute_input": "2021-09-10T01:59:34.159887Z",
     "iopub.status.busy": "2021-09-10T01:59:34.159367Z",
     "iopub.status.idle": "2021-09-10T01:59:34.184582Z",
     "shell.execute_reply": "2021-09-10T01:59:34.184093Z"
    },
    "papermill": {
     "duration": 0.041688,
     "end_time": "2021-09-10T01:59:34.184694",
     "exception": false,
     "start_time": "2021-09-10T01:59:34.143006",
     "status": "completed"
    },
    "tags": []
   },
   "outputs": [],
   "source": [
    "#hide\n",
    "#Koreliacijų koeficientai"
   ]
  },
  {
   "cell_type": "code",
   "execution_count": 10,
   "id": "seeing-celebration",
   "metadata": {
    "execution": {
     "iopub.execute_input": "2021-09-10T01:59:34.213708Z",
     "iopub.status.busy": "2021-09-10T01:59:34.213213Z",
     "iopub.status.idle": "2021-09-10T01:59:34.236959Z",
     "shell.execute_reply": "2021-09-10T01:59:34.236526Z"
    },
    "papermill": {
     "duration": 0.039015,
     "end_time": "2021-09-10T01:59:34.237057",
     "exception": false,
     "start_time": "2021-09-10T01:59:34.198042",
     "status": "completed"
    },
    "tags": []
   },
   "outputs": [],
   "source": [
    "#hide_input\n",
    "#sum_corr = df_all_mrk.corr().sum().sort_values(ascending=True).index.values\n",
    "#df_all_mrk[sum_corr].corr()"
   ]
  },
  {
   "cell_type": "code",
   "execution_count": 11,
   "id": "other-painting",
   "metadata": {
    "execution": {
     "iopub.execute_input": "2021-09-10T01:59:34.269760Z",
     "iopub.status.busy": "2021-09-10T01:59:34.269263Z",
     "iopub.status.idle": "2021-09-10T01:59:34.291538Z",
     "shell.execute_reply": "2021-09-10T01:59:34.291051Z"
    },
    "papermill": {
     "duration": 0.041664,
     "end_time": "2021-09-10T01:59:34.291648",
     "exception": false,
     "start_time": "2021-09-10T01:59:34.249984",
     "status": "completed"
    },
    "tags": []
   },
   "outputs": [],
   "source": [
    "#hide\n",
    "#Koreliacijos matrica. "
   ]
  },
  {
   "cell_type": "code",
   "execution_count": 12,
   "id": "modular-magnitude",
   "metadata": {
    "execution": {
     "iopub.execute_input": "2021-09-10T01:59:34.321285Z",
     "iopub.status.busy": "2021-09-10T01:59:34.320789Z",
     "iopub.status.idle": "2021-09-10T01:59:34.343513Z",
     "shell.execute_reply": "2021-09-10T01:59:34.343034Z"
    },
    "papermill": {
     "duration": 0.03805,
     "end_time": "2021-09-10T01:59:34.343619",
     "exception": false,
     "start_time": "2021-09-10T01:59:34.305569",
     "status": "completed"
    },
    "tags": []
   },
   "outputs": [],
   "source": [
    "#hide_input\n",
    "#plt.figure(figsize=(15, 8))\n",
    "#sns.heatmap(df_all_mrk[sum_corr].corr(), annot=True, cmap=\"BrBG\");\n",
    "#plt.savefig('corr_matrix_all.eps', format='eps')"
   ]
  },
  {
   "cell_type": "code",
   "execution_count": null,
   "id": "original-senator",
   "metadata": {
    "papermill": {
     "duration": 0.012919,
     "end_time": "2021-09-10T01:59:34.370150",
     "exception": false,
     "start_time": "2021-09-10T01:59:34.357231",
     "status": "completed"
    },
    "tags": []
   },
   "outputs": [],
   "source": []
  },
  {
   "cell_type": "code",
   "execution_count": null,
   "id": "saving-secretariat",
   "metadata": {
    "papermill": {
     "duration": 0.012814,
     "end_time": "2021-09-10T01:59:34.395827",
     "exception": false,
     "start_time": "2021-09-10T01:59:34.383013",
     "status": "completed"
    },
    "tags": []
   },
   "outputs": [],
   "source": []
  }
 ],
 "metadata": {
  "kernelspec": {
   "display_name": "Python 3",
   "language": "python",
   "name": "python3"
  },
  "language_info": {
   "codemirror_mode": {
    "name": "ipython",
    "version": 3
   },
   "file_extension": ".py",
   "mimetype": "text/x-python",
   "name": "python",
   "nbconvert_exporter": "python",
   "pygments_lexer": "ipython3",
   "version": "3.6.14"
  },
  "papermill": {
   "default_parameters": {},
   "duration": 18.586999,
   "end_time": "2021-09-10T01:59:34.916809",
   "environment_variables": {},
   "exception": null,
   "input_path": "App-Correlation_charts.ipynb",
   "output_path": "App-Correlation_charts.ipynb",
   "parameters": {},
   "start_time": "2021-09-10T01:59:16.329810",
   "version": "2.2.2"
  }
 },
 "nbformat": 4,
 "nbformat_minor": 5
}