{
 "cells": [
  {
   "cell_type": "markdown",
   "id": "touched-facility",
   "metadata": {
    "papermill": {
     "duration": 0.019804,
     "end_time": "2022-07-31T03:17:31.888401",
     "exception": false,
     "start_time": "2022-07-31T03:17:31.868597",
     "status": "completed"
    },
    "tags": []
   },
   "source": [
    "# Koreliacijų matrica\n",
    "> Išplėstinė koreliacijų matrica. \n",
    "\n",
    "- toc: true \n",
    "- badges: true\n",
    "- comments: false\n",
    "- categories: [Dominykas Tautkus]\n",
    "- image: images/matrix.png"
   ]
  },
  {
   "cell_type": "code",
   "execution_count": null,
   "id": "premium-weekend",
   "metadata": {
    "papermill": {
     "duration": 0.012372,
     "end_time": "2022-07-31T03:17:31.913696",
     "exception": false,
     "start_time": "2022-07-31T03:17:31.901324",
     "status": "completed"
    },
    "tags": []
   },
   "outputs": [],
   "source": []
  },
  {
   "cell_type": "code",
   "execution_count": 1,
   "id": "vertical-rebate",
   "metadata": {
    "execution": {
     "iopub.execute_input": "2022-07-31T03:17:31.947377Z",
     "iopub.status.busy": "2022-07-31T03:17:31.946411Z",
     "iopub.status.idle": "2022-07-31T03:17:31.962747Z",
     "shell.execute_reply": "2022-07-31T03:17:31.962071Z"
    },
    "papermill": {
     "duration": 0.037308,
     "end_time": "2022-07-31T03:17:31.962897",
     "exception": false,
     "start_time": "2022-07-31T03:17:31.925589",
     "status": "completed"
    },
    "tags": []
   },
   "outputs": [],
   "source": [
    "#hide\n",
    "%load_ext autoreload\n",
    "%autoreload 2"
   ]
  },
  {
   "cell_type": "code",
   "execution_count": 2,
   "id": "overall-advancement",
   "metadata": {
    "execution": {
     "iopub.execute_input": "2022-07-31T03:17:31.993789Z",
     "iopub.status.busy": "2022-07-31T03:17:31.992671Z",
     "iopub.status.idle": "2022-07-31T03:17:33.661312Z",
     "shell.execute_reply": "2022-07-31T03:17:33.660703Z"
    },
    "papermill": {
     "duration": 1.685175,
     "end_time": "2022-07-31T03:17:33.661447",
     "exception": false,
     "start_time": "2022-07-31T03:17:31.976272",
     "status": "completed"
    },
    "tags": []
   },
   "outputs": [],
   "source": [
    "#hide\n",
    "from scripts.read_data import read_api\n",
    "from IPython.display import HTML\n",
    "import plotly.graph_objects as go\n"
   ]
  },
  {
   "cell_type": "code",
   "execution_count": 3,
   "id": "light-crazy",
   "metadata": {
    "execution": {
     "iopub.execute_input": "2022-07-31T03:17:33.690154Z",
     "iopub.status.busy": "2022-07-31T03:17:33.689407Z",
     "iopub.status.idle": "2022-07-31T03:17:33.717659Z",
     "shell.execute_reply": "2022-07-31T03:17:33.716896Z"
    },
    "papermill": {
     "duration": 0.044002,
     "end_time": "2022-07-31T03:17:33.717858",
     "exception": false,
     "start_time": "2022-07-31T03:17:33.673856",
     "status": "completed"
    },
    "tags": []
   },
   "outputs": [],
   "source": [
    "#hide\n",
    "### ICO koreliacija"
   ]
  },
  {
   "cell_type": "code",
   "execution_count": 4,
   "id": "likely-bahrain",
   "metadata": {
    "execution": {
     "iopub.execute_input": "2022-07-31T03:17:33.747615Z",
     "iopub.status.busy": "2022-07-31T03:17:33.746937Z",
     "iopub.status.idle": "2022-07-31T03:17:34.863932Z",
     "shell.execute_reply": "2022-07-31T03:17:34.864821Z"
    },
    "papermill": {
     "duration": 1.134916,
     "end_time": "2022-07-31T03:17:34.865074",
     "exception": false,
     "start_time": "2022-07-31T03:17:33.730158",
     "status": "completed"
    },
    "tags": []
   },
   "outputs": [],
   "source": [
    "#hide\n",
    "import matplotlib.pyplot as plt\n",
    "import numpy as np\n",
    "import pandas as pd\n",
    "import seaborn as sns\n",
    "import matplotlib.pyplot as plt \n",
    "import matplotlib.dates as mdates\n",
    "import matplotlib.pyplot as plt"
   ]
  },
  {
   "cell_type": "code",
   "execution_count": 5,
   "id": "superior-blanket",
   "metadata": {
    "execution": {
     "iopub.execute_input": "2022-07-31T03:17:34.898156Z",
     "iopub.status.busy": "2022-07-31T03:17:34.897400Z",
     "iopub.status.idle": "2022-07-31T03:17:47.728728Z",
     "shell.execute_reply": "2022-07-31T03:17:47.729295Z"
    },
    "papermill": {
     "duration": 12.851653,
     "end_time": "2022-07-31T03:17:47.729451",
     "exception": false,
     "start_time": "2022-07-31T03:17:34.877798",
     "status": "completed"
    },
    "tags": []
   },
   "outputs": [
    {
     "name": "stderr",
     "output_type": "stream",
     "text": [
      "/home/runner/work/corr-app/corr-app/_notebooks/scripts/read_data.py:187: SettingWithCopyWarning:\n",
      "\n",
      "\n",
      "A value is trying to be set on a copy of a slice from a DataFrame.\n",
      "Try using .loc[row_indexer,col_indexer] = value instead\n",
      "\n",
      "See the caveats in the documentation: https://pandas.pydata.org/pandas-docs/stable/user_guide/indexing.html#returning-a-view-versus-a-copy\n",
      "\n"
     ]
    },
    {
     "name": "stderr",
     "output_type": "stream",
     "text": [
      "/home/runner/work/corr-app/corr-app/_notebooks/scripts/read_data.py:215: SettingWithCopyWarning:\n",
      "\n",
      "\n",
      "A value is trying to be set on a copy of a slice from a DataFrame.\n",
      "Try using .loc[row_indexer,col_indexer] = value instead\n",
      "\n",
      "See the caveats in the documentation: https://pandas.pydata.org/pandas-docs/stable/user_guide/indexing.html#returning-a-view-versus-a-copy\n",
      "\n"
     ]
    }
   ],
   "source": [
    "#hide\n",
    "df_all = read_api()\n",
    "#df_all = df_all.drop(['SP500', 'XAU', 'ETH', 'BTC'], axis=1)\n",
    "\n"
   ]
  },
  {
   "cell_type": "code",
   "execution_count": 6,
   "id": "mature-alert",
   "metadata": {
    "execution": {
     "iopub.execute_input": "2022-07-31T03:17:47.763143Z",
     "iopub.status.busy": "2022-07-31T03:17:47.762465Z",
     "iopub.status.idle": "2022-07-31T03:17:47.804252Z",
     "shell.execute_reply": "2022-07-31T03:17:47.803580Z"
    },
    "papermill": {
     "duration": 0.060435,
     "end_time": "2022-07-31T03:17:47.804412",
     "exception": false,
     "start_time": "2022-07-31T03:17:47.743977",
     "status": "completed"
    },
    "tags": []
   },
   "outputs": [],
   "source": [
    "#hide_input\n",
    "sum_corr = df_all.corr().sum().sort_values(ascending=True).index.values\n",
    "#df_all[sum_corr].corr()"
   ]
  },
  {
   "cell_type": "markdown",
   "id": "complex-syndicate",
   "metadata": {
    "papermill": {
     "duration": 0.013035,
     "end_time": "2022-07-31T03:17:47.830804",
     "exception": false,
     "start_time": "2022-07-31T03:17:47.817769",
     "status": "completed"
    },
    "tags": []
   },
   "source": [
    "## Išplėstinė koreliacijų matrica. "
   ]
  },
  {
   "cell_type": "code",
   "execution_count": 7,
   "id": "atomic-omaha",
   "metadata": {
    "execution": {
     "iopub.execute_input": "2022-07-31T03:17:47.860498Z",
     "iopub.status.busy": "2022-07-31T03:17:47.859147Z",
     "iopub.status.idle": "2022-07-31T03:17:49.294077Z",
     "shell.execute_reply": "2022-07-31T03:17:49.294622Z"
    },
    "papermill": {
     "duration": 1.451421,
     "end_time": "2022-07-31T03:17:49.294776",
     "exception": false,
     "start_time": "2022-07-31T03:17:47.843355",
     "status": "completed"
    },
    "tags": []
   },
   "outputs": [
    {
     "data": {
      "image/png": "[encoded data removed]",
      "text/plain": [
       "<Figure size 1080x792 with 2 Axes>"
      ]
     },
     "metadata": {
      "needs_background": "light"
     },
     "output_type": "display_data"
    }
   ],
   "source": [
    "#hide_input\n",
    "plt.figure(figsize=(15, 11))\n",
    "sns.heatmap(df_all[sum_corr].corr(), annot=True, cmap=\"cubehelix\") \n",
    "sns.set(font_scale=1.25)\n",
    "plt.savefig('corr_matrix.png', format='eps')"
   ]
  },
  {
   "cell_type": "code",
   "execution_count": 8,
   "id": "arbitrary-sullivan",
   "metadata": {
    "execution": {
     "iopub.execute_input": "2022-07-31T03:17:49.331522Z",
     "iopub.status.busy": "2022-07-31T03:17:49.328951Z",
     "iopub.status.idle": "2022-07-31T03:17:49.365679Z",
     "shell.execute_reply": "2022-07-31T03:17:49.364764Z"
    },
    "papermill": {
     "duration": 0.055653,
     "end_time": "2022-07-31T03:17:49.365930",
     "exception": false,
     "start_time": "2022-07-31T03:17:49.310277",
     "status": "completed"
    },
    "tags": []
   },
   "outputs": [],
   "source": [
    "#hide\n",
    "#df_all_mrk = read_api()"
   ]
  },
  {
   "cell_type": "code",
   "execution_count": 9,
   "id": "delayed-adapter",
   "metadata": {
    "execution": {
     "iopub.execute_input": "2022-07-31T03:17:49.402527Z",
     "iopub.status.busy": "2022-07-31T03:17:49.401867Z",
     "iopub.status.idle": "2022-07-31T03:17:49.435075Z",
     "shell.execute_reply": "2022-07-31T03:17:49.434498Z"
    },
    "papermill": {
     "duration": 0.051893,
     "end_time": "2022-07-31T03:17:49.435202",
     "exception": false,
     "start_time": "2022-07-31T03:17:49.383309",
     "status": "completed"
    },
    "tags": []
   },
   "outputs": [],
   "source": [
    "#hide\n",
    "#Koreliacijų koeficientai"
   ]
  },
  {
   "cell_type": "code",
   "execution_count": 10,
   "id": "seeing-celebration",
   "metadata": {
    "execution": {
     "iopub.execute_input": "2022-07-31T03:17:49.470725Z",
     "iopub.status.busy": "2022-07-31T03:17:49.470011Z",
     "iopub.status.idle": "2022-07-31T03:17:49.500536Z",
     "shell.execute_reply": "2022-07-31T03:17:49.499834Z"
    },
    "papermill": {
     "duration": 0.050081,
     "end_time": "2022-07-31T03:17:49.500666",
     "exception": false,
     "start_time": "2022-07-31T03:17:49.450585",
     "status": "completed"
    },
    "tags": []
   },
   "outputs": [],
   "source": [
    "#hide_input\n",
    "#sum_corr = df_all_mrk.corr().sum().sort_values(ascending=True).index.values\n",
    "#df_all_mrk[sum_corr].corr()"
   ]
  },
  {
   "cell_type": "code",
   "execution_count": 11,
   "id": "other-painting",
   "metadata": {
    "execution": {
     "iopub.execute_input": "2022-07-31T03:17:49.539070Z",
     "iopub.status.busy": "2022-07-31T03:17:49.538375Z",
     "iopub.status.idle": "2022-07-31T03:17:49.570516Z",
     "shell.execute_reply": "2022-07-31T03:17:49.569921Z"
    },
    "papermill": {
     "duration": 0.053506,
     "end_time": "2022-07-31T03:17:49.570646",
     "exception": false,
     "start_time": "2022-07-31T03:17:49.517140",
     "status": "completed"
    },
    "tags": []
   },
   "outputs": [],
   "source": [
    "#hide\n",
    "#Koreliacijos matrica. "
   ]
  },
  {
   "cell_type": "code",
   "execution_count": 12,
   "id": "modular-magnitude",
   "metadata": {
    "execution": {
     "iopub.execute_input": "2022-07-31T03:17:49.617233Z",
     "iopub.status.busy": "2022-07-31T03:17:49.616536Z",
     "iopub.status.idle": "2022-07-31T03:17:49.646738Z",
     "shell.execute_reply": "2022-07-31T03:17:49.646140Z"
    },
    "papermill": {
     "duration": 0.058237,
     "end_time": "2022-07-31T03:17:49.646866",
     "exception": false,
     "start_time": "2022-07-31T03:17:49.588629",
     "status": "completed"
    },
    "tags": []
   },
   "outputs": [],
   "source": [
    "#hide_input\n",
    "#plt.figure(figsize=(15, 8))\n",
    "#sns.heatmap(df_all_mrk[sum_corr].corr(), annot=True, cmap=\"BrBG\");\n",
    "#plt.savefig('corr_matrix_all.eps', format='eps')"
   ]
  },
  {
   "cell_type": "code",
   "execution_count": null,
   "id": "original-senator",
   "metadata": {
    "papermill": {
     "duration": 0.016853,
     "end_time": "2022-07-31T03:17:49.679646",
     "exception": false,
     "start_time": "2022-07-31T03:17:49.662793",
     "status": "completed"
    },
    "tags": []
   },
   "outputs": [],
   "source": []
  },
  {
   "cell_type": "code",
   "execution_count": null,
   "id": "saving-secretariat",
   "metadata": {
    "papermill": {
     "duration": 0.016391,
     "end_time": "2022-07-31T03:17:49.711943",
     "exception": false,
     "start_time": "2022-07-31T03:17:49.695552",
     "status": "completed"
    },
    "tags": []
   },
   "outputs": [],
   "source": []
  }
 ],
 "metadata": {
  "kernelspec": {
   "display_name": "Python 3",
   "language": "python",
   "name": "python3"
  },
  "language_info": {
   "codemirror_mode": {
    "name": "ipython",
    "version": 3
   },
   "file_extension": ".py",
   "mimetype": "text/x-python",
   "name": "python",
   "nbconvert_exporter": "python",
   "pygments_lexer": "ipython3",
   "version": "3.6.15"
  },
  "papermill": {
   "default_parameters": {},
   "duration": 19.718931,
   "end_time": "2022-07-31T03:17:50.251175",
   "environment_variables": {},
   "exception": null,
   "input_path": "App-Correlation_charts.ipynb",
   "output_path": "App-Correlation_charts.ipynb",
   "parameters": {},
   "start_time": "2022-07-31T03:17:30.532244",
   "version": "2.2.2"
  }
 },
 "nbformat": 4,
 "nbformat_minor": 5
}