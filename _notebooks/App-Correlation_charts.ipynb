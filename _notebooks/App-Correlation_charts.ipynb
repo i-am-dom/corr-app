{
 "cells": [
  {
   "cell_type": "markdown",
   "id": "touched-facility",
   "metadata": {
    "papermill": {
     "duration": 0.014475,
     "end_time": "2022-07-06T03:21:45.724160",
     "exception": false,
     "start_time": "2022-07-06T03:21:45.709685",
     "status": "completed"
    },
    "tags": []
   },
   "source": [
    "# Koreliacijų matrica\n",
    "> Išplėstinė koreliacijų matrica. \n",
    "\n",
    "- toc: true \n",
    "- badges: true\n",
    "- comments: false\n",
    "- categories: [Dominykas Tautkus]\n",
    "- image: images/matrix.png"
   ]
  },
  {
   "cell_type": "code",
   "execution_count": null,
   "id": "premium-weekend",
   "metadata": {
    "papermill": {
     "duration": 0.012494,
     "end_time": "2022-07-06T03:21:45.749198",
     "exception": false,
     "start_time": "2022-07-06T03:21:45.736704",
     "status": "completed"
    },
    "tags": []
   },
   "outputs": [],
   "source": []
  },
  {
   "cell_type": "code",
   "execution_count": 1,
   "id": "vertical-rebate",
   "metadata": {
    "execution": {
     "iopub.execute_input": "2022-07-06T03:21:45.781355Z",
     "iopub.status.busy": "2022-07-06T03:21:45.780673Z",
     "iopub.status.idle": "2022-07-06T03:21:45.791773Z",
     "shell.execute_reply": "2022-07-06T03:21:45.791234Z"
    },
    "papermill": {
     "duration": 0.031751,
     "end_time": "2022-07-06T03:21:45.791893",
     "exception": false,
     "start_time": "2022-07-06T03:21:45.760142",
     "status": "completed"
    },
    "tags": []
   },
   "outputs": [],
   "source": [
    "#hide\n",
    "%load_ext autoreload\n",
    "%autoreload 2"
   ]
  },
  {
   "cell_type": "code",
   "execution_count": 2,
   "id": "overall-advancement",
   "metadata": {
    "execution": {
     "iopub.execute_input": "2022-07-06T03:21:45.817673Z",
     "iopub.status.busy": "2022-07-06T03:21:45.817076Z",
     "iopub.status.idle": "2022-07-06T03:21:46.935196Z",
     "shell.execute_reply": "2022-07-06T03:21:46.935643Z"
    },
    "papermill": {
     "duration": 1.13296,
     "end_time": "2022-07-06T03:21:46.935788",
     "exception": false,
     "start_time": "2022-07-06T03:21:45.802828",
     "status": "completed"
    },
    "tags": []
   },
   "outputs": [],
   "source": [
    "#hide\n",
    "from scripts.read_data import read_api\n",
    "from IPython.display import HTML\n",
    "import plotly.graph_objects as go\n"
   ]
  },
  {
   "cell_type": "code",
   "execution_count": 3,
   "id": "light-crazy",
   "metadata": {
    "execution": {
     "iopub.execute_input": "2022-07-06T03:21:46.965310Z",
     "iopub.status.busy": "2022-07-06T03:21:46.962555Z",
     "iopub.status.idle": "2022-07-06T03:21:46.985136Z",
     "shell.execute_reply": "2022-07-06T03:21:46.984677Z"
    },
    "papermill": {
     "duration": 0.038391,
     "end_time": "2022-07-06T03:21:46.985248",
     "exception": false,
     "start_time": "2022-07-06T03:21:46.946857",
     "status": "completed"
    },
    "tags": []
   },
   "outputs": [],
   "source": [
    "#hide\n",
    "### ICO koreliacija"
   ]
  },
  {
   "cell_type": "code",
   "execution_count": 4,
   "id": "likely-bahrain",
   "metadata": {
    "execution": {
     "iopub.execute_input": "2022-07-06T03:21:47.016160Z",
     "iopub.status.busy": "2022-07-06T03:21:47.013040Z",
     "iopub.status.idle": "2022-07-06T03:21:47.836054Z",
     "shell.execute_reply": "2022-07-06T03:21:47.836492Z"
    },
    "papermill": {
     "duration": 0.84032,
     "end_time": "2022-07-06T03:21:47.836632",
     "exception": false,
     "start_time": "2022-07-06T03:21:46.996312",
     "status": "completed"
    },
    "tags": []
   },
   "outputs": [],
   "source": [
    "#hide\n",
    "import matplotlib.pyplot as plt\n",
    "import numpy as np\n",
    "import pandas as pd\n",
    "import seaborn as sns\n",
    "import matplotlib.pyplot as plt \n",
    "import matplotlib.dates as mdates\n",
    "import matplotlib.pyplot as plt"
   ]
  },
  {
   "cell_type": "code",
   "execution_count": 5,
   "id": "superior-blanket",
   "metadata": {
    "execution": {
     "iopub.execute_input": "2022-07-06T03:21:47.863041Z",
     "iopub.status.busy": "2022-07-06T03:21:47.862473Z",
     "iopub.status.idle": "2022-07-06T03:22:03.029510Z",
     "shell.execute_reply": "2022-07-06T03:22:03.028520Z"
    },
    "papermill": {
     "duration": 15.181801,
     "end_time": "2022-07-06T03:22:03.029642",
     "exception": false,
     "start_time": "2022-07-06T03:21:47.847841",
     "status": "completed"
    },
    "tags": []
   },
   "outputs": [
    {
     "name": "stderr",
     "output_type": "stream",
     "text": [
      "/home/runner/work/corr-app/corr-app/_notebooks/scripts/read_data.py:187: SettingWithCopyWarning:\n",
      "\n",
      "\n",
      "A value is trying to be set on a copy of a slice from a DataFrame.\n",
      "Try using .loc[row_indexer,col_indexer] = value instead\n",
      "\n",
      "See the caveats in the documentation: https://pandas.pydata.org/pandas-docs/stable/user_guide/indexing.html#returning-a-view-versus-a-copy\n",
      "\n"
     ]
    },
    {
     "name": "stderr",
     "output_type": "stream",
     "text": [
      "/home/runner/work/corr-app/corr-app/_notebooks/scripts/read_data.py:215: SettingWithCopyWarning:\n",
      "\n",
      "\n",
      "A value is trying to be set on a copy of a slice from a DataFrame.\n",
      "Try using .loc[row_indexer,col_indexer] = value instead\n",
      "\n",
      "See the caveats in the documentation: https://pandas.pydata.org/pandas-docs/stable/user_guide/indexing.html#returning-a-view-versus-a-copy\n",
      "\n"
     ]
    }
   ],
   "source": [
    "#hide\n",
    "df_all = read_api()\n",
    "#df_all = df_all.drop(['SP500', 'XAU', 'ETH', 'BTC'], axis=1)\n",
    "\n"
   ]
  },
  {
   "cell_type": "code",
   "execution_count": 6,
   "id": "mature-alert",
   "metadata": {
    "execution": {
     "iopub.execute_input": "2022-07-06T03:22:03.062365Z",
     "iopub.status.busy": "2022-07-06T03:22:03.057656Z",
     "iopub.status.idle": "2022-07-06T03:22:03.087052Z",
     "shell.execute_reply": "2022-07-06T03:22:03.086612Z"
    },
    "papermill": {
     "duration": 0.044668,
     "end_time": "2022-07-06T03:22:03.087163",
     "exception": false,
     "start_time": "2022-07-06T03:22:03.042495",
     "status": "completed"
    },
    "tags": []
   },
   "outputs": [],
   "source": [
    "#hide_input\n",
    "sum_corr = df_all.corr().sum().sort_values(ascending=True).index.values\n",
    "#df_all[sum_corr].corr()"
   ]
  },
  {
   "cell_type": "markdown",
   "id": "complex-syndicate",
   "metadata": {
    "papermill": {
     "duration": 0.011468,
     "end_time": "2022-07-06T03:22:03.110624",
     "exception": false,
     "start_time": "2022-07-06T03:22:03.099156",
     "status": "completed"
    },
    "tags": []
   },
   "source": [
    "## Išplėstinė koreliacijų matrica. "
   ]
  },
  {
   "cell_type": "code",
   "execution_count": 7,
   "id": "atomic-omaha",
   "metadata": {
    "execution": {
     "iopub.execute_input": "2022-07-06T03:22:03.138413Z",
     "iopub.status.busy": "2022-07-06T03:22:03.137824Z",
     "iopub.status.idle": "2022-07-06T03:22:04.251237Z",
     "shell.execute_reply": "2022-07-06T03:22:04.251660Z"
    },
    "papermill": {
     "duration": 1.129709,
     "end_time": "2022-07-06T03:22:04.251785",
     "exception": false,
     "start_time": "2022-07-06T03:22:03.122076",
     "status": "completed"
    },
    "tags": []
   },
   "outputs": [
    {
     "data": {
      "image/png": "[encoded data removed]",
      "text/plain": [
       "<Figure size 1080x792 with 2 Axes>"
      ]
     },
     "metadata": {
      "needs_background": "light"
     },
     "output_type": "display_data"
    }
   ],
   "source": [
    "#hide_input\n",
    "plt.figure(figsize=(15, 11))\n",
    "sns.heatmap(df_all[sum_corr].corr(), annot=True, cmap=\"cubehelix\") \n",
    "sns.set(font_scale=1.25)\n",
    "plt.savefig('corr_matrix.png', format='eps')"
   ]
  },
  {
   "cell_type": "code",
   "execution_count": 8,
   "id": "arbitrary-sullivan",
   "metadata": {
    "execution": {
     "iopub.execute_input": "2022-07-06T03:22:04.285797Z",
     "iopub.status.busy": "2022-07-06T03:22:04.282162Z",
     "iopub.status.idle": "2022-07-06T03:22:04.308504Z",
     "shell.execute_reply": "2022-07-06T03:22:04.308004Z"
    },
    "papermill": {
     "duration": 0.043092,
     "end_time": "2022-07-06T03:22:04.308615",
     "exception": false,
     "start_time": "2022-07-06T03:22:04.265523",
     "status": "completed"
    },
    "tags": []
   },
   "outputs": [],
   "source": [
    "#hide\n",
    "#df_all_mrk = read_api()"
   ]
  },
  {
   "cell_type": "code",
   "execution_count": 9,
   "id": "delayed-adapter",
   "metadata": {
    "execution": {
     "iopub.execute_input": "2022-07-06T03:22:04.338935Z",
     "iopub.status.busy": "2022-07-06T03:22:04.338365Z",
     "iopub.status.idle": "2022-07-06T03:22:04.364026Z",
     "shell.execute_reply": "2022-07-06T03:22:04.363562Z"
    },
    "papermill": {
     "duration": 0.041992,
     "end_time": "2022-07-06T03:22:04.364134",
     "exception": false,
     "start_time": "2022-07-06T03:22:04.322142",
     "status": "completed"
    },
    "tags": []
   },
   "outputs": [],
   "source": [
    "#hide\n",
    "#Koreliacijų koeficientai"
   ]
  },
  {
   "cell_type": "code",
   "execution_count": 10,
   "id": "seeing-celebration",
   "metadata": {
    "execution": {
     "iopub.execute_input": "2022-07-06T03:22:04.394636Z",
     "iopub.status.busy": "2022-07-06T03:22:04.394076Z",
     "iopub.status.idle": "2022-07-06T03:22:04.419617Z",
     "shell.execute_reply": "2022-07-06T03:22:04.419129Z"
    },
    "papermill": {
     "duration": 0.042056,
     "end_time": "2022-07-06T03:22:04.419730",
     "exception": false,
     "start_time": "2022-07-06T03:22:04.377674",
     "status": "completed"
    },
    "tags": []
   },
   "outputs": [],
   "source": [
    "#hide_input\n",
    "#sum_corr = df_all_mrk.corr().sum().sort_values(ascending=True).index.values\n",
    "#df_all_mrk[sum_corr].corr()"
   ]
  },
  {
   "cell_type": "code",
   "execution_count": 11,
   "id": "other-painting",
   "metadata": {
    "execution": {
     "iopub.execute_input": "2022-07-06T03:22:04.450040Z",
     "iopub.status.busy": "2022-07-06T03:22:04.449473Z",
     "iopub.status.idle": "2022-07-06T03:22:04.475028Z",
     "shell.execute_reply": "2022-07-06T03:22:04.474550Z"
    },
    "papermill": {
     "duration": 0.041915,
     "end_time": "2022-07-06T03:22:04.475138",
     "exception": false,
     "start_time": "2022-07-06T03:22:04.433223",
     "status": "completed"
    },
    "tags": []
   },
   "outputs": [],
   "source": [
    "#hide\n",
    "#Koreliacijos matrica. "
   ]
  },
  {
   "cell_type": "code",
   "execution_count": 12,
   "id": "modular-magnitude",
   "metadata": {
    "execution": {
     "iopub.execute_input": "2022-07-06T03:22:04.505616Z",
     "iopub.status.busy": "2022-07-06T03:22:04.505052Z",
     "iopub.status.idle": "2022-07-06T03:22:04.531013Z",
     "shell.execute_reply": "2022-07-06T03:22:04.530549Z"
    },
    "papermill": {
     "duration": 0.042415,
     "end_time": "2022-07-06T03:22:04.531118",
     "exception": false,
     "start_time": "2022-07-06T03:22:04.488703",
     "status": "completed"
    },
    "tags": []
   },
   "outputs": [],
   "source": [
    "#hide_input\n",
    "#plt.figure(figsize=(15, 8))\n",
    "#sns.heatmap(df_all_mrk[sum_corr].corr(), annot=True, cmap=\"BrBG\");\n",
    "#plt.savefig('corr_matrix_all.eps', format='eps')"
   ]
  },
  {
   "cell_type": "code",
   "execution_count": null,
   "id": "original-senator",
   "metadata": {
    "papermill": {
     "duration": 0.013309,
     "end_time": "2022-07-06T03:22:04.557783",
     "exception": false,
     "start_time": "2022-07-06T03:22:04.544474",
     "status": "completed"
    },
    "tags": []
   },
   "outputs": [],
   "source": []
  },
  {
   "cell_type": "code",
   "execution_count": null,
   "id": "saving-secretariat",
   "metadata": {
    "papermill": {
     "duration": 0.013249,
     "end_time": "2022-07-06T03:22:04.584294",
     "exception": false,
     "start_time": "2022-07-06T03:22:04.571045",
     "status": "completed"
    },
    "tags": []
   },
   "outputs": [],
   "source": []
  }
 ],
 "metadata": {
  "kernelspec": {
   "display_name": "Python 3",
   "language": "python",
   "name": "python3"
  },
  "language_info": {
   "codemirror_mode": {
    "name": "ipython",
    "version": 3
   },
   "file_extension": ".py",
   "mimetype": "text/x-python",
   "name": "python",
   "nbconvert_exporter": "python",
   "pygments_lexer": "ipython3",
   "version": "3.6.15"
  },
  "papermill": {
   "default_parameters": {},
   "duration": 20.328123,
   "end_time": "2022-07-06T03:22:05.115608",
   "environment_variables": {},
   "exception": null,
   "input_path": "App-Correlation_charts.ipynb",
   "output_path": "App-Correlation_charts.ipynb",
   "parameters": {},
   "start_time": "2022-07-06T03:21:44.787485",
   "version": "2.2.2"
  }
 },
 "nbformat": 4,
 "nbformat_minor": 5
}