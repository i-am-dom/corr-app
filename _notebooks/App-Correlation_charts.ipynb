{
 "cells": [
  {
   "cell_type": "markdown",
   "id": "touched-facility",
   "metadata": {
    "papermill": {
     "duration": 0.018112,
     "end_time": "2022-10-04T03:12:10.810345",
     "exception": false,
     "start_time": "2022-10-04T03:12:10.792233",
     "status": "completed"
    },
    "tags": []
   },
   "source": [
    "# Koreliacijų matrica\n",
    "> Išplėstinė koreliacijų matrica. \n",
    "\n",
    "- toc: true \n",
    "- badges: true\n",
    "- comments: false\n",
    "- categories: [Dominykas Tautkus]\n",
    "- image: images/matrix.png"
   ]
  },
  {
   "cell_type": "code",
   "execution_count": null,
   "id": "premium-weekend",
   "metadata": {
    "papermill": {
     "duration": 0.012822,
     "end_time": "2022-10-04T03:12:10.836821",
     "exception": false,
     "start_time": "2022-10-04T03:12:10.823999",
     "status": "completed"
    },
    "tags": []
   },
   "outputs": [],
   "source": []
  },
  {
   "cell_type": "code",
   "execution_count": 1,
   "id": "vertical-rebate",
   "metadata": {
    "execution": {
     "iopub.execute_input": "2022-10-04T03:12:10.877190Z",
     "iopub.status.busy": "2022-10-04T03:12:10.876199Z",
     "iopub.status.idle": "2022-10-04T03:12:10.890231Z",
     "shell.execute_reply": "2022-10-04T03:12:10.889436Z"
    },
    "papermill": {
     "duration": 0.040911,
     "end_time": "2022-10-04T03:12:10.890407",
     "exception": false,
     "start_time": "2022-10-04T03:12:10.849496",
     "status": "completed"
    },
    "tags": []
   },
   "outputs": [],
   "source": [
    "#hide\n",
    "%load_ext autoreload\n",
    "%autoreload 2"
   ]
  },
  {
   "cell_type": "code",
   "execution_count": 2,
   "id": "overall-advancement",
   "metadata": {
    "execution": {
     "iopub.execute_input": "2022-10-04T03:12:10.923521Z",
     "iopub.status.busy": "2022-10-04T03:12:10.922692Z",
     "iopub.status.idle": "2022-10-04T03:12:12.785525Z",
     "shell.execute_reply": "2022-10-04T03:12:12.786491Z"
    },
    "papermill": {
     "duration": 1.882606,
     "end_time": "2022-10-04T03:12:12.786691",
     "exception": false,
     "start_time": "2022-10-04T03:12:10.904085",
     "status": "completed"
    },
    "tags": []
   },
   "outputs": [],
   "source": [
    "#hide\n",
    "from scripts.read_data import read_api\n",
    "from IPython.display import HTML\n",
    "import plotly.graph_objects as go\n"
   ]
  },
  {
   "cell_type": "code",
   "execution_count": 3,
   "id": "light-crazy",
   "metadata": {
    "execution": {
     "iopub.execute_input": "2022-10-04T03:12:12.818887Z",
     "iopub.status.busy": "2022-10-04T03:12:12.818115Z",
     "iopub.status.idle": "2022-10-04T03:12:12.848585Z",
     "shell.execute_reply": "2022-10-04T03:12:12.847949Z"
    },
    "papermill": {
     "duration": 0.047961,
     "end_time": "2022-10-04T03:12:12.848760",
     "exception": false,
     "start_time": "2022-10-04T03:12:12.800799",
     "status": "completed"
    },
    "tags": []
   },
   "outputs": [],
   "source": [
    "#hide\n",
    "### ICO koreliacija"
   ]
  },
  {
   "cell_type": "code",
   "execution_count": 4,
   "id": "likely-bahrain",
   "metadata": {
    "execution": {
     "iopub.execute_input": "2022-10-04T03:12:12.884842Z",
     "iopub.status.busy": "2022-10-04T03:12:12.883268Z",
     "iopub.status.idle": "2022-10-04T03:12:13.930376Z",
     "shell.execute_reply": "2022-10-04T03:12:13.929678Z"
    },
    "papermill": {
     "duration": 1.068315,
     "end_time": "2022-10-04T03:12:13.930555",
     "exception": false,
     "start_time": "2022-10-04T03:12:12.862240",
     "status": "completed"
    },
    "tags": []
   },
   "outputs": [],
   "source": [
    "#hide\n",
    "import matplotlib.pyplot as plt\n",
    "import numpy as np\n",
    "import pandas as pd\n",
    "import seaborn as sns\n",
    "import matplotlib.pyplot as plt \n",
    "import matplotlib.dates as mdates\n",
    "import matplotlib.pyplot as plt"
   ]
  },
  {
   "cell_type": "code",
   "execution_count": 5,
   "id": "superior-blanket",
   "metadata": {
    "execution": {
     "iopub.execute_input": "2022-10-04T03:12:13.965573Z",
     "iopub.status.busy": "2022-10-04T03:12:13.964748Z",
     "iopub.status.idle": "2022-10-04T03:12:26.604194Z",
     "shell.execute_reply": "2022-10-04T03:12:26.603569Z"
    },
    "papermill": {
     "duration": 12.65942,
     "end_time": "2022-10-04T03:12:26.604340",
     "exception": false,
     "start_time": "2022-10-04T03:12:13.944920",
     "status": "completed"
    },
    "tags": []
   },
   "outputs": [
    {
     "name": "stderr",
     "output_type": "stream",
     "text": [
      "/home/runner/work/corr-app/corr-app/_notebooks/scripts/read_data.py:187: SettingWithCopyWarning:\n",
      "\n",
      "\n",
      "A value is trying to be set on a copy of a slice from a DataFrame.\n",
      "Try using .loc[row_indexer,col_indexer] = value instead\n",
      "\n",
      "See the caveats in the documentation: https://pandas.pydata.org/pandas-docs/stable/user_guide/indexing.html#returning-a-view-versus-a-copy\n",
      "\n"
     ]
    },
    {
     "name": "stderr",
     "output_type": "stream",
     "text": [
      "/home/runner/work/corr-app/corr-app/_notebooks/scripts/read_data.py:215: SettingWithCopyWarning:\n",
      "\n",
      "\n",
      "A value is trying to be set on a copy of a slice from a DataFrame.\n",
      "Try using .loc[row_indexer,col_indexer] = value instead\n",
      "\n",
      "See the caveats in the documentation: https://pandas.pydata.org/pandas-docs/stable/user_guide/indexing.html#returning-a-view-versus-a-copy\n",
      "\n"
     ]
    }
   ],
   "source": [
    "#hide\n",
    "df_all = read_api()\n",
    "#df_all = df_all.drop(['SP500', 'XAU', 'ETH', 'BTC'], axis=1)\n",
    "\n"
   ]
  },
  {
   "cell_type": "code",
   "execution_count": 6,
   "id": "mature-alert",
   "metadata": {
    "execution": {
     "iopub.execute_input": "2022-10-04T03:12:26.641811Z",
     "iopub.status.busy": "2022-10-04T03:12:26.640868Z",
     "iopub.status.idle": "2022-10-04T03:12:26.678895Z",
     "shell.execute_reply": "2022-10-04T03:12:26.679480Z"
    },
    "papermill": {
     "duration": 0.059197,
     "end_time": "2022-10-04T03:12:26.679652",
     "exception": false,
     "start_time": "2022-10-04T03:12:26.620455",
     "status": "completed"
    },
    "tags": []
   },
   "outputs": [],
   "source": [
    "#hide_input\n",
    "sum_corr = df_all.corr().sum().sort_values(ascending=True).index.values\n",
    "#df_all[sum_corr].corr()"
   ]
  },
  {
   "cell_type": "markdown",
   "id": "complex-syndicate",
   "metadata": {
    "papermill": {
     "duration": 0.014699,
     "end_time": "2022-10-04T03:12:26.708807",
     "exception": false,
     "start_time": "2022-10-04T03:12:26.694108",
     "status": "completed"
    },
    "tags": []
   },
   "source": [
    "## Išplėstinė koreliacijų matrica. "
   ]
  },
  {
   "cell_type": "code",
   "execution_count": 7,
   "id": "atomic-omaha",
   "metadata": {
    "execution": {
     "iopub.execute_input": "2022-10-04T03:12:26.744364Z",
     "iopub.status.busy": "2022-10-04T03:12:26.743558Z",
     "iopub.status.idle": "2022-10-04T03:12:28.513097Z",
     "shell.execute_reply": "2022-10-04T03:12:28.511966Z"
    },
    "papermill": {
     "duration": 1.790298,
     "end_time": "2022-10-04T03:12:28.513278",
     "exception": false,
     "start_time": "2022-10-04T03:12:26.722980",
     "status": "completed"
    },
    "tags": []
   },
   "outputs": [
    {
     "data": {
      "image/png": "[encoded data removed]",
      "text/plain": [
       "<Figure size 1080x792 with 2 Axes>"
      ]
     },
     "metadata": {
      "needs_background": "light"
     },
     "output_type": "display_data"
    }
   ],
   "source": [
    "#hide_input\n",
    "plt.figure(figsize=(15, 11))\n",
    "sns.heatmap(df_all[sum_corr].corr(), annot=True, cmap=\"cubehelix\") \n",
    "sns.set(font_scale=1.25)\n",
    "plt.savefig('corr_matrix.png', format='eps')"
   ]
  },
  {
   "cell_type": "code",
   "execution_count": 8,
   "id": "arbitrary-sullivan",
   "metadata": {
    "execution": {
     "iopub.execute_input": "2022-10-04T03:12:28.552053Z",
     "iopub.status.busy": "2022-10-04T03:12:28.551335Z",
     "iopub.status.idle": "2022-10-04T03:12:28.585088Z",
     "shell.execute_reply": "2022-10-04T03:12:28.584429Z"
    },
    "papermill": {
     "duration": 0.054574,
     "end_time": "2022-10-04T03:12:28.585243",
     "exception": false,
     "start_time": "2022-10-04T03:12:28.530669",
     "status": "completed"
    },
    "tags": []
   },
   "outputs": [],
   "source": [
    "#hide\n",
    "#df_all_mrk = read_api()"
   ]
  },
  {
   "cell_type": "code",
   "execution_count": 9,
   "id": "delayed-adapter",
   "metadata": {
    "execution": {
     "iopub.execute_input": "2022-10-04T03:12:28.624693Z",
     "iopub.status.busy": "2022-10-04T03:12:28.623854Z",
     "iopub.status.idle": "2022-10-04T03:12:28.660678Z",
     "shell.execute_reply": "2022-10-04T03:12:28.658756Z"
    },
    "papermill": {
     "duration": 0.057757,
     "end_time": "2022-10-04T03:12:28.660838",
     "exception": false,
     "start_time": "2022-10-04T03:12:28.603081",
     "status": "completed"
    },
    "tags": []
   },
   "outputs": [],
   "source": [
    "#hide\n",
    "#Koreliacijų koeficientai"
   ]
  },
  {
   "cell_type": "code",
   "execution_count": 10,
   "id": "seeing-celebration",
   "metadata": {
    "execution": {
     "iopub.execute_input": "2022-10-04T03:12:28.699418Z",
     "iopub.status.busy": "2022-10-04T03:12:28.698706Z",
     "iopub.status.idle": "2022-10-04T03:12:28.731580Z",
     "shell.execute_reply": "2022-10-04T03:12:28.730934Z"
    },
    "papermill": {
     "duration": 0.053308,
     "end_time": "2022-10-04T03:12:28.731706",
     "exception": false,
     "start_time": "2022-10-04T03:12:28.678398",
     "status": "completed"
    },
    "tags": []
   },
   "outputs": [],
   "source": [
    "#hide_input\n",
    "#sum_corr = df_all_mrk.corr().sum().sort_values(ascending=True).index.values\n",
    "#df_all_mrk[sum_corr].corr()"
   ]
  },
  {
   "cell_type": "code",
   "execution_count": 11,
   "id": "other-painting",
   "metadata": {
    "execution": {
     "iopub.execute_input": "2022-10-04T03:12:28.770303Z",
     "iopub.status.busy": "2022-10-04T03:12:28.769549Z",
     "iopub.status.idle": "2022-10-04T03:12:28.800349Z",
     "shell.execute_reply": "2022-10-04T03:12:28.800928Z"
    },
    "papermill": {
     "duration": 0.05407,
     "end_time": "2022-10-04T03:12:28.801113",
     "exception": false,
     "start_time": "2022-10-04T03:12:28.747043",
     "status": "completed"
    },
    "tags": []
   },
   "outputs": [],
   "source": [
    "#hide\n",
    "#Koreliacijos matrica. "
   ]
  },
  {
   "cell_type": "code",
   "execution_count": 12,
   "id": "modular-magnitude",
   "metadata": {
    "execution": {
     "iopub.execute_input": "2022-10-04T03:12:28.837560Z",
     "iopub.status.busy": "2022-10-04T03:12:28.836640Z",
     "iopub.status.idle": "2022-10-04T03:12:28.868630Z",
     "shell.execute_reply": "2022-10-04T03:12:28.869176Z"
    },
    "papermill": {
     "duration": 0.05177,
     "end_time": "2022-10-04T03:12:28.869325",
     "exception": false,
     "start_time": "2022-10-04T03:12:28.817555",
     "status": "completed"
    },
    "tags": []
   },
   "outputs": [],
   "source": [
    "#hide_input\n",
    "#plt.figure(figsize=(15, 8))\n",
    "#sns.heatmap(df_all_mrk[sum_corr].corr(), annot=True, cmap=\"BrBG\");\n",
    "#plt.savefig('corr_matrix_all.eps', format='eps')"
   ]
  },
  {
   "cell_type": "code",
   "execution_count": null,
   "id": "original-senator",
   "metadata": {
    "papermill": {
     "duration": 0.014796,
     "end_time": "2022-10-04T03:12:28.899873",
     "exception": false,
     "start_time": "2022-10-04T03:12:28.885077",
     "status": "completed"
    },
    "tags": []
   },
   "outputs": [],
   "source": []
  },
  {
   "cell_type": "code",
   "execution_count": null,
   "id": "saving-secretariat",
   "metadata": {
    "papermill": {
     "duration": 0.015699,
     "end_time": "2022-10-04T03:12:28.930649",
     "exception": false,
     "start_time": "2022-10-04T03:12:28.914950",
     "status": "completed"
    },
    "tags": []
   },
   "outputs": [],
   "source": []
  }
 ],
 "metadata": {
  "kernelspec": {
   "display_name": "Python 3",
   "language": "python",
   "name": "python3"
  },
  "language_info": {
   "codemirror_mode": {
    "name": "ipython",
    "version": 3
   },
   "file_extension": ".py",
   "mimetype": "text/x-python",
   "name": "python",
   "nbconvert_exporter": "python",
   "pygments_lexer": "ipython3",
   "version": "3.6.15"
  },
  "papermill": {
   "default_parameters": {},
   "duration": 20.086665,
   "end_time": "2022-10-04T03:12:29.567186",
   "environment_variables": {},
   "exception": null,
   "input_path": "App-Correlation_charts.ipynb",
   "output_path": "App-Correlation_charts.ipynb",
   "parameters": {},
   "start_time": "2022-10-04T03:12:09.480521",
   "version": "2.2.2"
  }
 },
 "nbformat": 4,
 "nbformat_minor": 5
}