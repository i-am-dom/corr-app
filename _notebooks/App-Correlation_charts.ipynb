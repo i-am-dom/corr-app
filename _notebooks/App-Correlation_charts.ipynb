{
 "cells": [
  {
   "cell_type": "markdown",
   "id": "touched-facility",
   "metadata": {
    "papermill": {
     "duration": 0.018268,
     "end_time": "2022-11-03T03:04:13.318292",
     "exception": false,
     "start_time": "2022-11-03T03:04:13.300024",
     "status": "completed"
    },
    "tags": []
   },
   "source": [
    "# Koreliacijų matrica\n",
    "> Išplėstinė koreliacijų matrica. \n",
    "\n",
    "- toc: true \n",
    "- badges: true\n",
    "- comments: false\n",
    "- categories: [Dominykas Tautkus]\n",
    "- image: images/matrix.png"
   ]
  },
  {
   "cell_type": "code",
   "execution_count": null,
   "id": "premium-weekend",
   "metadata": {
    "papermill": {
     "duration": 0.013344,
     "end_time": "2022-11-03T03:04:13.345703",
     "exception": false,
     "start_time": "2022-11-03T03:04:13.332359",
     "status": "completed"
    },
    "tags": []
   },
   "outputs": [],
   "source": []
  },
  {
   "cell_type": "code",
   "execution_count": 1,
   "id": "vertical-rebate",
   "metadata": {
    "execution": {
     "iopub.execute_input": "2022-11-03T03:04:13.385927Z",
     "iopub.status.busy": "2022-11-03T03:04:13.381700Z",
     "iopub.status.idle": "2022-11-03T03:04:13.399556Z",
     "shell.execute_reply": "2022-11-03T03:04:13.398886Z"
    },
    "papermill": {
     "duration": 0.040796,
     "end_time": "2022-11-03T03:04:13.400516",
     "exception": false,
     "start_time": "2022-11-03T03:04:13.359720",
     "status": "completed"
    },
    "tags": []
   },
   "outputs": [],
   "source": [
    "#hide\n",
    "%load_ext autoreload\n",
    "%autoreload 2"
   ]
  },
  {
   "cell_type": "code",
   "execution_count": 2,
   "id": "overall-advancement",
   "metadata": {
    "execution": {
     "iopub.execute_input": "2022-11-03T03:04:13.432609Z",
     "iopub.status.busy": "2022-11-03T03:04:13.431849Z",
     "iopub.status.idle": "2022-11-03T03:04:15.255439Z",
     "shell.execute_reply": "2022-11-03T03:04:15.254103Z"
    },
    "papermill": {
     "duration": 1.841024,
     "end_time": "2022-11-03T03:04:15.255593",
     "exception": false,
     "start_time": "2022-11-03T03:04:13.414569",
     "status": "completed"
    },
    "tags": []
   },
   "outputs": [],
   "source": [
    "#hide\n",
    "from scripts.read_data import read_api\n",
    "from IPython.display import HTML\n",
    "import plotly.graph_objects as go\n"
   ]
  },
  {
   "cell_type": "code",
   "execution_count": 3,
   "id": "light-crazy",
   "metadata": {
    "execution": {
     "iopub.execute_input": "2022-11-03T03:04:15.293458Z",
     "iopub.status.busy": "2022-11-03T03:04:15.290330Z",
     "iopub.status.idle": "2022-11-03T03:04:15.322771Z",
     "shell.execute_reply": "2022-11-03T03:04:15.322115Z"
    },
    "papermill": {
     "duration": 0.053346,
     "end_time": "2022-11-03T03:04:15.322927",
     "exception": false,
     "start_time": "2022-11-03T03:04:15.269581",
     "status": "completed"
    },
    "tags": []
   },
   "outputs": [],
   "source": [
    "#hide\n",
    "### ICO koreliacija"
   ]
  },
  {
   "cell_type": "code",
   "execution_count": 4,
   "id": "likely-bahrain",
   "metadata": {
    "execution": {
     "iopub.execute_input": "2022-11-03T03:04:15.354644Z",
     "iopub.status.busy": "2022-11-03T03:04:15.353833Z",
     "iopub.status.idle": "2022-11-03T03:04:16.429709Z",
     "shell.execute_reply": "2022-11-03T03:04:16.430268Z"
    },
    "papermill": {
     "duration": 1.093846,
     "end_time": "2022-11-03T03:04:16.430444",
     "exception": false,
     "start_time": "2022-11-03T03:04:15.336598",
     "status": "completed"
    },
    "tags": []
   },
   "outputs": [],
   "source": [
    "#hide\n",
    "import matplotlib.pyplot as plt\n",
    "import numpy as np\n",
    "import pandas as pd\n",
    "import seaborn as sns\n",
    "import matplotlib.pyplot as plt \n",
    "import matplotlib.dates as mdates\n",
    "import matplotlib.pyplot as plt"
   ]
  },
  {
   "cell_type": "code",
   "execution_count": 5,
   "id": "superior-blanket",
   "metadata": {
    "execution": {
     "iopub.execute_input": "2022-11-03T03:04:16.465351Z",
     "iopub.status.busy": "2022-11-03T03:04:16.464468Z",
     "iopub.status.idle": "2022-11-03T03:04:28.813683Z",
     "shell.execute_reply": "2022-11-03T03:04:28.814311Z"
    },
    "papermill": {
     "duration": 12.369653,
     "end_time": "2022-11-03T03:04:28.814477",
     "exception": false,
     "start_time": "2022-11-03T03:04:16.444824",
     "status": "completed"
    },
    "tags": []
   },
   "outputs": [
    {
     "name": "stderr",
     "output_type": "stream",
     "text": [
      "/home/runner/work/corr-app/corr-app/_notebooks/scripts/read_data.py:187: SettingWithCopyWarning:\n",
      "\n",
      "\n",
      "A value is trying to be set on a copy of a slice from a DataFrame.\n",
      "Try using .loc[row_indexer,col_indexer] = value instead\n",
      "\n",
      "See the caveats in the documentation: https://pandas.pydata.org/pandas-docs/stable/user_guide/indexing.html#returning-a-view-versus-a-copy\n",
      "\n"
     ]
    },
    {
     "name": "stderr",
     "output_type": "stream",
     "text": [
      "/home/runner/work/corr-app/corr-app/_notebooks/scripts/read_data.py:215: SettingWithCopyWarning:\n",
      "\n",
      "\n",
      "A value is trying to be set on a copy of a slice from a DataFrame.\n",
      "Try using .loc[row_indexer,col_indexer] = value instead\n",
      "\n",
      "See the caveats in the documentation: https://pandas.pydata.org/pandas-docs/stable/user_guide/indexing.html#returning-a-view-versus-a-copy\n",
      "\n"
     ]
    }
   ],
   "source": [
    "#hide\n",
    "df_all = read_api()\n",
    "#df_all = df_all.drop(['SP500', 'XAU', 'ETH', 'BTC'], axis=1)\n",
    "\n"
   ]
  },
  {
   "cell_type": "code",
   "execution_count": 6,
   "id": "mature-alert",
   "metadata": {
    "execution": {
     "iopub.execute_input": "2022-11-03T03:04:28.852063Z",
     "iopub.status.busy": "2022-11-03T03:04:28.851309Z",
     "iopub.status.idle": "2022-11-03T03:04:28.885177Z",
     "shell.execute_reply": "2022-11-03T03:04:28.885744Z"
    },
    "papermill": {
     "duration": 0.053752,
     "end_time": "2022-11-03T03:04:28.885907",
     "exception": false,
     "start_time": "2022-11-03T03:04:28.832155",
     "status": "completed"
    },
    "tags": []
   },
   "outputs": [],
   "source": [
    "#hide_input\n",
    "sum_corr = df_all.corr().sum().sort_values(ascending=True).index.values\n",
    "#df_all[sum_corr].corr()"
   ]
  },
  {
   "cell_type": "markdown",
   "id": "complex-syndicate",
   "metadata": {
    "papermill": {
     "duration": 0.013832,
     "end_time": "2022-11-03T03:04:28.914036",
     "exception": false,
     "start_time": "2022-11-03T03:04:28.900204",
     "status": "completed"
    },
    "tags": []
   },
   "source": [
    "## Išplėstinė koreliacijų matrica. "
   ]
  },
  {
   "cell_type": "code",
   "execution_count": 7,
   "id": "atomic-omaha",
   "metadata": {
    "execution": {
     "iopub.execute_input": "2022-11-03T03:04:28.951173Z",
     "iopub.status.busy": "2022-11-03T03:04:28.950420Z",
     "iopub.status.idle": "2022-11-03T03:04:30.652292Z",
     "shell.execute_reply": "2022-11-03T03:04:30.651534Z"
    },
    "papermill": {
     "duration": 1.721035,
     "end_time": "2022-11-03T03:04:30.652434",
     "exception": false,
     "start_time": "2022-11-03T03:04:28.931399",
     "status": "completed"
    },
    "tags": []
   },
   "outputs": [
    {
     "data": {
      "image/png": "[encoded data removed]",
      "text/plain": [
       "<Figure size 1080x792 with 2 Axes>"
      ]
     },
     "metadata": {
      "needs_background": "light"
     },
     "output_type": "display_data"
    }
   ],
   "source": [
    "#hide_input\n",
    "plt.figure(figsize=(15, 11))\n",
    "sns.heatmap(df_all[sum_corr].corr(), annot=True, cmap=\"cubehelix\") \n",
    "sns.set(font_scale=1.25)\n",
    "plt.savefig('corr_matrix.png', format='eps')"
   ]
  },
  {
   "cell_type": "code",
   "execution_count": 8,
   "id": "arbitrary-sullivan",
   "metadata": {
    "execution": {
     "iopub.execute_input": "2022-11-03T03:04:30.692253Z",
     "iopub.status.busy": "2022-11-03T03:04:30.691502Z",
     "iopub.status.idle": "2022-11-03T03:04:30.721343Z",
     "shell.execute_reply": "2022-11-03T03:04:30.720691Z"
    },
    "papermill": {
     "duration": 0.051575,
     "end_time": "2022-11-03T03:04:30.721496",
     "exception": false,
     "start_time": "2022-11-03T03:04:30.669921",
     "status": "completed"
    },
    "tags": []
   },
   "outputs": [],
   "source": [
    "#hide\n",
    "#df_all_mrk = read_api()"
   ]
  },
  {
   "cell_type": "code",
   "execution_count": 9,
   "id": "delayed-adapter",
   "metadata": {
    "execution": {
     "iopub.execute_input": "2022-11-03T03:04:30.783024Z",
     "iopub.status.busy": "2022-11-03T03:04:30.777955Z",
     "iopub.status.idle": "2022-11-03T03:04:30.809734Z",
     "shell.execute_reply": "2022-11-03T03:04:30.810329Z"
    },
    "papermill": {
     "duration": 0.069408,
     "end_time": "2022-11-03T03:04:30.810657",
     "exception": false,
     "start_time": "2022-11-03T03:04:30.741249",
     "status": "completed"
    },
    "tags": []
   },
   "outputs": [],
   "source": [
    "#hide\n",
    "#Koreliacijų koeficientai"
   ]
  },
  {
   "cell_type": "code",
   "execution_count": 10,
   "id": "seeing-celebration",
   "metadata": {
    "execution": {
     "iopub.execute_input": "2022-11-03T03:04:30.852709Z",
     "iopub.status.busy": "2022-11-03T03:04:30.851911Z",
     "iopub.status.idle": "2022-11-03T03:04:30.884128Z",
     "shell.execute_reply": "2022-11-03T03:04:30.883482Z"
    },
    "papermill": {
     "duration": 0.055184,
     "end_time": "2022-11-03T03:04:30.884279",
     "exception": false,
     "start_time": "2022-11-03T03:04:30.829095",
     "status": "completed"
    },
    "tags": []
   },
   "outputs": [],
   "source": [
    "#hide_input\n",
    "#sum_corr = df_all_mrk.corr().sum().sort_values(ascending=True).index.values\n",
    "#df_all_mrk[sum_corr].corr()"
   ]
  },
  {
   "cell_type": "code",
   "execution_count": 11,
   "id": "other-painting",
   "metadata": {
    "execution": {
     "iopub.execute_input": "2022-11-03T03:04:30.923063Z",
     "iopub.status.busy": "2022-11-03T03:04:30.922334Z",
     "iopub.status.idle": "2022-11-03T03:04:30.963543Z",
     "shell.execute_reply": "2022-11-03T03:04:30.962927Z"
    },
    "papermill": {
     "duration": 0.061881,
     "end_time": "2022-11-03T03:04:30.963698",
     "exception": false,
     "start_time": "2022-11-03T03:04:30.901817",
     "status": "completed"
    },
    "tags": []
   },
   "outputs": [],
   "source": [
    "#hide\n",
    "#Koreliacijos matrica. "
   ]
  },
  {
   "cell_type": "code",
   "execution_count": 12,
   "id": "modular-magnitude",
   "metadata": {
    "execution": {
     "iopub.execute_input": "2022-11-03T03:04:31.002735Z",
     "iopub.status.busy": "2022-11-03T03:04:31.001729Z",
     "iopub.status.idle": "2022-11-03T03:04:31.035227Z",
     "shell.execute_reply": "2022-11-03T03:04:31.034681Z"
    },
    "papermill": {
     "duration": 0.054067,
     "end_time": "2022-11-03T03:04:31.035366",
     "exception": false,
     "start_time": "2022-11-03T03:04:30.981299",
     "status": "completed"
    },
    "tags": []
   },
   "outputs": [],
   "source": [
    "#hide_input\n",
    "#plt.figure(figsize=(15, 8))\n",
    "#sns.heatmap(df_all_mrk[sum_corr].corr(), annot=True, cmap=\"BrBG\");\n",
    "#plt.savefig('corr_matrix_all.eps', format='eps')"
   ]
  },
  {
   "cell_type": "code",
   "execution_count": null,
   "id": "original-senator",
   "metadata": {
    "papermill": {
     "duration": 0.0204,
     "end_time": "2022-11-03T03:04:31.072280",
     "exception": false,
     "start_time": "2022-11-03T03:04:31.051880",
     "status": "completed"
    },
    "tags": []
   },
   "outputs": [],
   "source": []
  },
  {
   "cell_type": "code",
   "execution_count": null,
   "id": "saving-secretariat",
   "metadata": {
    "papermill": {
     "duration": 0.016567,
     "end_time": "2022-11-03T03:04:31.106955",
     "exception": false,
     "start_time": "2022-11-03T03:04:31.090388",
     "status": "completed"
    },
    "tags": []
   },
   "outputs": [],
   "source": []
  }
 ],
 "metadata": {
  "kernelspec": {
   "display_name": "Python 3",
   "language": "python",
   "name": "python3"
  },
  "language_info": {
   "codemirror_mode": {
    "name": "ipython",
    "version": 3
   },
   "file_extension": ".py",
   "mimetype": "text/x-python",
   "name": "python",
   "nbconvert_exporter": "python",
   "pygments_lexer": "ipython3",
   "version": "3.6.15"
  },
  "papermill": {
   "default_parameters": {},
   "duration": 19.483789,
   "end_time": "2022-11-03T03:04:31.643221",
   "environment_variables": {},
   "exception": null,
   "input_path": "App-Correlation_charts.ipynb",
   "output_path": "App-Correlation_charts.ipynb",
   "parameters": {},
   "start_time": "2022-11-03T03:04:12.159432",
   "version": "2.2.2"
  }
 },
 "nbformat": 4,
 "nbformat_minor": 5
}