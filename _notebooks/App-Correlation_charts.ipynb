{
 "cells": [
  {
   "cell_type": "markdown",
   "id": "touched-facility",
   "metadata": {
    "papermill": {
     "duration": 0.015129,
     "end_time": "2021-10-10T01:58:50.386422",
     "exception": false,
     "start_time": "2021-10-10T01:58:50.371293",
     "status": "completed"
    },
    "tags": []
   },
   "source": [
    "# Koreliacijų matrica\n",
    "> Išplėstinė koreliacijų matrica. \n",
    "\n",
    "- toc: true \n",
    "- badges: true\n",
    "- comments: false\n",
    "- categories: [Dominykas Tautkus]\n",
    "- image: images/matrix.png"
   ]
  },
  {
   "cell_type": "code",
   "execution_count": null,
   "id": "premium-weekend",
   "metadata": {
    "papermill": {
     "duration": 0.011648,
     "end_time": "2021-10-10T01:58:50.409555",
     "exception": false,
     "start_time": "2021-10-10T01:58:50.397907",
     "status": "completed"
    },
    "tags": []
   },
   "outputs": [],
   "source": []
  },
  {
   "cell_type": "code",
   "execution_count": 1,
   "id": "vertical-rebate",
   "metadata": {
    "execution": {
     "iopub.execute_input": "2021-10-10T01:58:50.441693Z",
     "iopub.status.busy": "2021-10-10T01:58:50.441136Z",
     "iopub.status.idle": "2021-10-10T01:58:50.451564Z",
     "shell.execute_reply": "2021-10-10T01:58:50.451134Z"
    },
    "papermill": {
     "duration": 0.031415,
     "end_time": "2021-10-10T01:58:50.451691",
     "exception": false,
     "start_time": "2021-10-10T01:58:50.420276",
     "status": "completed"
    },
    "tags": []
   },
   "outputs": [],
   "source": [
    "#hide\n",
    "%load_ext autoreload\n",
    "%autoreload 2"
   ]
  },
  {
   "cell_type": "code",
   "execution_count": 2,
   "id": "overall-advancement",
   "metadata": {
    "execution": {
     "iopub.execute_input": "2021-10-10T01:58:50.477116Z",
     "iopub.status.busy": "2021-10-10T01:58:50.476605Z",
     "iopub.status.idle": "2021-10-10T01:58:51.583557Z",
     "shell.execute_reply": "2021-10-10T01:58:51.583042Z"
    },
    "papermill": {
     "duration": 1.121255,
     "end_time": "2021-10-10T01:58:51.583699",
     "exception": false,
     "start_time": "2021-10-10T01:58:50.462444",
     "status": "completed"
    },
    "tags": []
   },
   "outputs": [],
   "source": [
    "#hide\n",
    "from scripts.read_data import read_api\n",
    "from IPython.display import HTML\n",
    "import plotly.graph_objects as go\n"
   ]
  },
  {
   "cell_type": "code",
   "execution_count": 3,
   "id": "light-crazy",
   "metadata": {
    "execution": {
     "iopub.execute_input": "2021-10-10T01:58:51.614776Z",
     "iopub.status.busy": "2021-10-10T01:58:51.614228Z",
     "iopub.status.idle": "2021-10-10T01:58:51.634353Z",
     "shell.execute_reply": "2021-10-10T01:58:51.634787Z"
    },
    "papermill": {
     "duration": 0.039459,
     "end_time": "2021-10-10T01:58:51.634940",
     "exception": false,
     "start_time": "2021-10-10T01:58:51.595481",
     "status": "completed"
    },
    "tags": []
   },
   "outputs": [],
   "source": [
    "#hide\n",
    "### ICO koreliacija"
   ]
  },
  {
   "cell_type": "code",
   "execution_count": 4,
   "id": "likely-bahrain",
   "metadata": {
    "execution": {
     "iopub.execute_input": "2021-10-10T01:58:51.661920Z",
     "iopub.status.busy": "2021-10-10T01:58:51.661378Z",
     "iopub.status.idle": "2021-10-10T01:58:52.478562Z",
     "shell.execute_reply": "2021-10-10T01:58:52.478045Z"
    },
    "papermill": {
     "duration": 0.832523,
     "end_time": "2021-10-10T01:58:52.478704",
     "exception": false,
     "start_time": "2021-10-10T01:58:51.646181",
     "status": "completed"
    },
    "tags": []
   },
   "outputs": [],
   "source": [
    "#hide\n",
    "import matplotlib.pyplot as plt\n",
    "import numpy as np\n",
    "import pandas as pd\n",
    "import seaborn as sns\n",
    "import matplotlib.pyplot as plt \n",
    "import matplotlib.dates as mdates\n",
    "import matplotlib.pyplot as plt"
   ]
  },
  {
   "cell_type": "code",
   "execution_count": 5,
   "id": "superior-blanket",
   "metadata": {
    "execution": {
     "iopub.execute_input": "2021-10-10T01:58:52.508993Z",
     "iopub.status.busy": "2021-10-10T01:58:52.508376Z",
     "iopub.status.idle": "2021-10-10T01:59:08.111828Z",
     "shell.execute_reply": "2021-10-10T01:59:08.111274Z"
    },
    "papermill": {
     "duration": 15.621532,
     "end_time": "2021-10-10T01:59:08.111978",
     "exception": false,
     "start_time": "2021-10-10T01:58:52.490446",
     "status": "completed"
    },
    "tags": []
   },
   "outputs": [
    {
     "name": "stderr",
     "output_type": "stream",
     "text": [
      "/home/runner/work/corr-app/corr-app/_notebooks/scripts/read_data.py:187: SettingWithCopyWarning:\n",
      "\n",
      "\n",
      "A value is trying to be set on a copy of a slice from a DataFrame.\n",
      "Try using .loc[row_indexer,col_indexer] = value instead\n",
      "\n",
      "See the caveats in the documentation: https://pandas.pydata.org/pandas-docs/stable/user_guide/indexing.html#returning-a-view-versus-a-copy\n",
      "\n"
     ]
    },
    {
     "name": "stderr",
     "output_type": "stream",
     "text": [
      "/home/runner/work/corr-app/corr-app/_notebooks/scripts/read_data.py:215: SettingWithCopyWarning:\n",
      "\n",
      "\n",
      "A value is trying to be set on a copy of a slice from a DataFrame.\n",
      "Try using .loc[row_indexer,col_indexer] = value instead\n",
      "\n",
      "See the caveats in the documentation: https://pandas.pydata.org/pandas-docs/stable/user_guide/indexing.html#returning-a-view-versus-a-copy\n",
      "\n"
     ]
    }
   ],
   "source": [
    "#hide\n",
    "df_all = read_api()\n",
    "#df_all = df_all.drop(['SP500', 'XAU', 'ETH', 'BTC'], axis=1)\n",
    "\n"
   ]
  },
  {
   "cell_type": "code",
   "execution_count": 6,
   "id": "mature-alert",
   "metadata": {
    "execution": {
     "iopub.execute_input": "2021-10-10T01:59:08.139080Z",
     "iopub.status.busy": "2021-10-10T01:59:08.138556Z",
     "iopub.status.idle": "2021-10-10T01:59:08.168468Z",
     "shell.execute_reply": "2021-10-10T01:59:08.167949Z"
    },
    "papermill": {
     "duration": 0.044554,
     "end_time": "2021-10-10T01:59:08.168605",
     "exception": false,
     "start_time": "2021-10-10T01:59:08.124051",
     "status": "completed"
    },
    "tags": []
   },
   "outputs": [],
   "source": [
    "#hide_input\n",
    "sum_corr = df_all.corr().sum().sort_values(ascending=True).index.values\n",
    "#df_all[sum_corr].corr()"
   ]
  },
  {
   "cell_type": "markdown",
   "id": "complex-syndicate",
   "metadata": {
    "papermill": {
     "duration": 0.011322,
     "end_time": "2021-10-10T01:59:08.192035",
     "exception": false,
     "start_time": "2021-10-10T01:59:08.180713",
     "status": "completed"
    },
    "tags": []
   },
   "source": [
    "## Išplėstinė koreliacijų matrica. "
   ]
  },
  {
   "cell_type": "code",
   "execution_count": 7,
   "id": "atomic-omaha",
   "metadata": {
    "execution": {
     "iopub.execute_input": "2021-10-10T01:59:08.220399Z",
     "iopub.status.busy": "2021-10-10T01:59:08.219865Z",
     "iopub.status.idle": "2021-10-10T01:59:09.371141Z",
     "shell.execute_reply": "2021-10-10T01:59:09.370255Z"
    },
    "papermill": {
     "duration": 1.167964,
     "end_time": "2021-10-10T01:59:09.371291",
     "exception": false,
     "start_time": "2021-10-10T01:59:08.203327",
     "status": "completed"
    },
    "tags": []
   },
   "outputs": [
    {
     "data": {
      "image/png": "[encoded data removed]",
      "text/plain": [
       "<Figure size 1080x792 with 2 Axes>"
      ]
     },
     "metadata": {
      "needs_background": "light"
     },
     "output_type": "display_data"
    }
   ],
   "source": [
    "#hide_input\n",
    "plt.figure(figsize=(15, 11))\n",
    "sns.heatmap(df_all[sum_corr].corr(), annot=True, cmap=\"cubehelix\") \n",
    "sns.set(font_scale=1.25)\n",
    "plt.savefig('corr_matrix.png', format='eps')"
   ]
  },
  {
   "cell_type": "code",
   "execution_count": 8,
   "id": "arbitrary-sullivan",
   "metadata": {
    "execution": {
     "iopub.execute_input": "2021-10-10T01:59:09.402555Z",
     "iopub.status.busy": "2021-10-10T01:59:09.401958Z",
     "iopub.status.idle": "2021-10-10T01:59:09.427875Z",
     "shell.execute_reply": "2021-10-10T01:59:09.427285Z"
    },
    "papermill": {
     "duration": 0.04251,
     "end_time": "2021-10-10T01:59:09.428005",
     "exception": false,
     "start_time": "2021-10-10T01:59:09.385495",
     "status": "completed"
    },
    "tags": []
   },
   "outputs": [],
   "source": [
    "#hide\n",
    "#df_all_mrk = read_api()"
   ]
  },
  {
   "cell_type": "code",
   "execution_count": 9,
   "id": "delayed-adapter",
   "metadata": {
    "execution": {
     "iopub.execute_input": "2021-10-10T01:59:09.466757Z",
     "iopub.status.busy": "2021-10-10T01:59:09.466236Z",
     "iopub.status.idle": "2021-10-10T01:59:09.487180Z",
     "shell.execute_reply": "2021-10-10T01:59:09.487562Z"
    },
    "papermill": {
     "duration": 0.045287,
     "end_time": "2021-10-10T01:59:09.487701",
     "exception": false,
     "start_time": "2021-10-10T01:59:09.442414",
     "status": "completed"
    },
    "tags": []
   },
   "outputs": [],
   "source": [
    "#hide\n",
    "#Koreliacijų koeficientai"
   ]
  },
  {
   "cell_type": "code",
   "execution_count": 10,
   "id": "seeing-celebration",
   "metadata": {
    "execution": {
     "iopub.execute_input": "2021-10-10T01:59:09.520953Z",
     "iopub.status.busy": "2021-10-10T01:59:09.520434Z",
     "iopub.status.idle": "2021-10-10T01:59:09.543646Z",
     "shell.execute_reply": "2021-10-10T01:59:09.544112Z"
    },
    "papermill": {
     "duration": 0.042747,
     "end_time": "2021-10-10T01:59:09.544262",
     "exception": false,
     "start_time": "2021-10-10T01:59:09.501515",
     "status": "completed"
    },
    "tags": []
   },
   "outputs": [],
   "source": [
    "#hide_input\n",
    "#sum_corr = df_all_mrk.corr().sum().sort_values(ascending=True).index.values\n",
    "#df_all_mrk[sum_corr].corr()"
   ]
  },
  {
   "cell_type": "code",
   "execution_count": 11,
   "id": "other-painting",
   "metadata": {
    "execution": {
     "iopub.execute_input": "2021-10-10T01:59:09.576179Z",
     "iopub.status.busy": "2021-10-10T01:59:09.575631Z",
     "iopub.status.idle": "2021-10-10T01:59:09.600785Z",
     "shell.execute_reply": "2021-10-10T01:59:09.600316Z"
    },
    "papermill": {
     "duration": 0.042718,
     "end_time": "2021-10-10T01:59:09.600914",
     "exception": false,
     "start_time": "2021-10-10T01:59:09.558196",
     "status": "completed"
    },
    "tags": []
   },
   "outputs": [],
   "source": [
    "#hide\n",
    "#Koreliacijos matrica. "
   ]
  },
  {
   "cell_type": "code",
   "execution_count": 12,
   "id": "modular-magnitude",
   "metadata": {
    "execution": {
     "iopub.execute_input": "2021-10-10T01:59:09.644564Z",
     "iopub.status.busy": "2021-10-10T01:59:09.641877Z",
     "iopub.status.idle": "2021-10-10T01:59:09.661725Z",
     "shell.execute_reply": "2021-10-10T01:59:09.661310Z"
    },
    "papermill": {
     "duration": 0.046316,
     "end_time": "2021-10-10T01:59:09.661843",
     "exception": false,
     "start_time": "2021-10-10T01:59:09.615527",
     "status": "completed"
    },
    "tags": []
   },
   "outputs": [],
   "source": [
    "#hide_input\n",
    "#plt.figure(figsize=(15, 8))\n",
    "#sns.heatmap(df_all_mrk[sum_corr].corr(), annot=True, cmap=\"BrBG\");\n",
    "#plt.savefig('corr_matrix_all.eps', format='eps')"
   ]
  },
  {
   "cell_type": "code",
   "execution_count": null,
   "id": "original-senator",
   "metadata": {
    "papermill": {
     "duration": 0.013244,
     "end_time": "2021-10-10T01:59:09.688415",
     "exception": false,
     "start_time": "2021-10-10T01:59:09.675171",
     "status": "completed"
    },
    "tags": []
   },
   "outputs": [],
   "source": []
  },
  {
   "cell_type": "code",
   "execution_count": null,
   "id": "saving-secretariat",
   "metadata": {
    "papermill": {
     "duration": 0.013157,
     "end_time": "2021-10-10T01:59:09.714761",
     "exception": false,
     "start_time": "2021-10-10T01:59:09.701604",
     "status": "completed"
    },
    "tags": []
   },
   "outputs": [],
   "source": []
  }
 ],
 "metadata": {
  "kernelspec": {
   "display_name": "Python 3",
   "language": "python",
   "name": "python3"
  },
  "language_info": {
   "codemirror_mode": {
    "name": "ipython",
    "version": 3
   },
   "file_extension": ".py",
   "mimetype": "text/x-python",
   "name": "python",
   "nbconvert_exporter": "python",
   "pygments_lexer": "ipython3",
   "version": "3.6.15"
  },
  "papermill": {
   "default_parameters": {},
   "duration": 21.042833,
   "end_time": "2021-10-10T01:59:10.236577",
   "environment_variables": {},
   "exception": null,
   "input_path": "App-Correlation_charts.ipynb",
   "output_path": "App-Correlation_charts.ipynb",
   "parameters": {},
   "start_time": "2021-10-10T01:58:49.193744",
   "version": "2.2.2"
  }
 },
 "nbformat": 4,
 "nbformat_minor": 5
}