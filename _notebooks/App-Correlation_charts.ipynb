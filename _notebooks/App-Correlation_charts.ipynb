{
 "cells": [
  {
   "cell_type": "markdown",
   "id": "touched-facility",
   "metadata": {
    "papermill": {
     "duration": 0.019073,
     "end_time": "2021-10-30T01:54:52.889367",
     "exception": false,
     "start_time": "2021-10-30T01:54:52.870294",
     "status": "completed"
    },
    "tags": []
   },
   "source": [
    "# Koreliacijų matrica\n",
    "> Išplėstinė koreliacijų matrica. \n",
    "\n",
    "- toc: true \n",
    "- badges: true\n",
    "- comments: false\n",
    "- categories: [Dominykas Tautkus]\n",
    "- image: images/matrix.png"
   ]
  },
  {
   "cell_type": "code",
   "execution_count": null,
   "id": "premium-weekend",
   "metadata": {
    "papermill": {
     "duration": 0.012286,
     "end_time": "2021-10-30T01:54:52.913215",
     "exception": false,
     "start_time": "2021-10-30T01:54:52.900929",
     "status": "completed"
    },
    "tags": []
   },
   "outputs": [],
   "source": []
  },
  {
   "cell_type": "code",
   "execution_count": 1,
   "id": "vertical-rebate",
   "metadata": {
    "execution": {
     "iopub.execute_input": "2021-10-30T01:54:52.948260Z",
     "iopub.status.busy": "2021-10-30T01:54:52.945332Z",
     "iopub.status.idle": "2021-10-30T01:54:52.957851Z",
     "shell.execute_reply": "2021-10-30T01:54:52.957310Z"
    },
    "papermill": {
     "duration": 0.033468,
     "end_time": "2021-10-30T01:54:52.957996",
     "exception": false,
     "start_time": "2021-10-30T01:54:52.924528",
     "status": "completed"
    },
    "tags": []
   },
   "outputs": [],
   "source": [
    "#hide\n",
    "%load_ext autoreload\n",
    "%autoreload 2"
   ]
  },
  {
   "cell_type": "code",
   "execution_count": 2,
   "id": "overall-advancement",
   "metadata": {
    "execution": {
     "iopub.execute_input": "2021-10-30T01:54:52.986534Z",
     "iopub.status.busy": "2021-10-30T01:54:52.985908Z",
     "iopub.status.idle": "2021-10-30T01:54:54.195774Z",
     "shell.execute_reply": "2021-10-30T01:54:54.196219Z"
    },
    "papermill": {
     "duration": 1.226376,
     "end_time": "2021-10-30T01:54:54.196362",
     "exception": false,
     "start_time": "2021-10-30T01:54:52.969986",
     "status": "completed"
    },
    "tags": []
   },
   "outputs": [],
   "source": [
    "#hide\n",
    "from scripts.read_data import read_api\n",
    "from IPython.display import HTML\n",
    "import plotly.graph_objects as go\n"
   ]
  },
  {
   "cell_type": "code",
   "execution_count": 3,
   "id": "light-crazy",
   "metadata": {
    "execution": {
     "iopub.execute_input": "2021-10-30T01:54:54.223176Z",
     "iopub.status.busy": "2021-10-30T01:54:54.222446Z",
     "iopub.status.idle": "2021-10-30T01:54:54.244592Z",
     "shell.execute_reply": "2021-10-30T01:54:54.243959Z"
    },
    "papermill": {
     "duration": 0.037152,
     "end_time": "2021-10-30T01:54:54.244737",
     "exception": false,
     "start_time": "2021-10-30T01:54:54.207585",
     "status": "completed"
    },
    "tags": []
   },
   "outputs": [],
   "source": [
    "#hide\n",
    "### ICO koreliacija"
   ]
  },
  {
   "cell_type": "code",
   "execution_count": 4,
   "id": "likely-bahrain",
   "metadata": {
    "execution": {
     "iopub.execute_input": "2021-10-30T01:54:54.271661Z",
     "iopub.status.busy": "2021-10-30T01:54:54.271054Z",
     "iopub.status.idle": "2021-10-30T01:54:55.114525Z",
     "shell.execute_reply": "2021-10-30T01:54:55.114017Z"
    },
    "papermill": {
     "duration": 0.858248,
     "end_time": "2021-10-30T01:54:55.114657",
     "exception": false,
     "start_time": "2021-10-30T01:54:54.256409",
     "status": "completed"
    },
    "tags": []
   },
   "outputs": [],
   "source": [
    "#hide\n",
    "import matplotlib.pyplot as plt\n",
    "import numpy as np\n",
    "import pandas as pd\n",
    "import seaborn as sns\n",
    "import matplotlib.pyplot as plt \n",
    "import matplotlib.dates as mdates\n",
    "import matplotlib.pyplot as plt"
   ]
  },
  {
   "cell_type": "code",
   "execution_count": 5,
   "id": "superior-blanket",
   "metadata": {
    "execution": {
     "iopub.execute_input": "2021-10-30T01:54:55.142847Z",
     "iopub.status.busy": "2021-10-30T01:54:55.142259Z",
     "iopub.status.idle": "2021-10-30T01:55:11.126550Z",
     "shell.execute_reply": "2021-10-30T01:55:11.127000Z"
    },
    "papermill": {
     "duration": 16.000473,
     "end_time": "2021-10-30T01:55:11.127156",
     "exception": false,
     "start_time": "2021-10-30T01:54:55.126683",
     "status": "completed"
    },
    "tags": []
   },
   "outputs": [
    {
     "name": "stderr",
     "output_type": "stream",
     "text": [
      "/home/runner/work/corr-app/corr-app/_notebooks/scripts/read_data.py:187: SettingWithCopyWarning:\n",
      "\n",
      "\n",
      "A value is trying to be set on a copy of a slice from a DataFrame.\n",
      "Try using .loc[row_indexer,col_indexer] = value instead\n",
      "\n",
      "See the caveats in the documentation: https://pandas.pydata.org/pandas-docs/stable/user_guide/indexing.html#returning-a-view-versus-a-copy\n",
      "\n"
     ]
    },
    {
     "name": "stderr",
     "output_type": "stream",
     "text": [
      "/home/runner/work/corr-app/corr-app/_notebooks/scripts/read_data.py:215: SettingWithCopyWarning:\n",
      "\n",
      "\n",
      "A value is trying to be set on a copy of a slice from a DataFrame.\n",
      "Try using .loc[row_indexer,col_indexer] = value instead\n",
      "\n",
      "See the caveats in the documentation: https://pandas.pydata.org/pandas-docs/stable/user_guide/indexing.html#returning-a-view-versus-a-copy\n",
      "\n"
     ]
    }
   ],
   "source": [
    "#hide\n",
    "df_all = read_api()\n",
    "#df_all = df_all.drop(['SP500', 'XAU', 'ETH', 'BTC'], axis=1)\n",
    "\n"
   ]
  },
  {
   "cell_type": "code",
   "execution_count": 6,
   "id": "mature-alert",
   "metadata": {
    "execution": {
     "iopub.execute_input": "2021-10-30T01:55:11.157649Z",
     "iopub.status.busy": "2021-10-30T01:55:11.156988Z",
     "iopub.status.idle": "2021-10-30T01:55:11.192938Z",
     "shell.execute_reply": "2021-10-30T01:55:11.192420Z"
    },
    "papermill": {
     "duration": 0.052733,
     "end_time": "2021-10-30T01:55:11.193062",
     "exception": false,
     "start_time": "2021-10-30T01:55:11.140329",
     "status": "completed"
    },
    "tags": []
   },
   "outputs": [],
   "source": [
    "#hide_input\n",
    "sum_corr = df_all.corr().sum().sort_values(ascending=True).index.values\n",
    "#df_all[sum_corr].corr()"
   ]
  },
  {
   "cell_type": "markdown",
   "id": "complex-syndicate",
   "metadata": {
    "papermill": {
     "duration": 0.012584,
     "end_time": "2021-10-30T01:55:11.217971",
     "exception": false,
     "start_time": "2021-10-30T01:55:11.205387",
     "status": "completed"
    },
    "tags": []
   },
   "source": [
    "## Išplėstinė koreliacijų matrica. "
   ]
  },
  {
   "cell_type": "code",
   "execution_count": 7,
   "id": "atomic-omaha",
   "metadata": {
    "execution": {
     "iopub.execute_input": "2021-10-30T01:55:11.248996Z",
     "iopub.status.busy": "2021-10-30T01:55:11.248390Z",
     "iopub.status.idle": "2021-10-30T01:55:12.490009Z",
     "shell.execute_reply": "2021-10-30T01:55:12.490510Z"
    },
    "papermill": {
     "duration": 1.259956,
     "end_time": "2021-10-30T01:55:12.490666",
     "exception": false,
     "start_time": "2021-10-30T01:55:11.230710",
     "status": "completed"
    },
    "tags": []
   },
   "outputs": [
    {
     "data": {
      "image/png": "[encoded data removed]",
      "text/plain": [
       "<Figure size 1080x792 with 2 Axes>"
      ]
     },
     "metadata": {
      "needs_background": "light"
     },
     "output_type": "display_data"
    }
   ],
   "source": [
    "#hide_input\n",
    "plt.figure(figsize=(15, 11))\n",
    "sns.heatmap(df_all[sum_corr].corr(), annot=True, cmap=\"cubehelix\") \n",
    "sns.set(font_scale=1.25)\n",
    "plt.savefig('corr_matrix.png', format='eps')"
   ]
  },
  {
   "cell_type": "code",
   "execution_count": 8,
   "id": "arbitrary-sullivan",
   "metadata": {
    "execution": {
     "iopub.execute_input": "2021-10-30T01:55:12.526492Z",
     "iopub.status.busy": "2021-10-30T01:55:12.522265Z",
     "iopub.status.idle": "2021-10-30T01:55:12.550678Z",
     "shell.execute_reply": "2021-10-30T01:55:12.550063Z"
    },
    "papermill": {
     "duration": 0.045489,
     "end_time": "2021-10-30T01:55:12.550817",
     "exception": false,
     "start_time": "2021-10-30T01:55:12.505328",
     "status": "completed"
    },
    "tags": []
   },
   "outputs": [],
   "source": [
    "#hide\n",
    "#df_all_mrk = read_api()"
   ]
  },
  {
   "cell_type": "code",
   "execution_count": 9,
   "id": "delayed-adapter",
   "metadata": {
    "execution": {
     "iopub.execute_input": "2021-10-30T01:55:12.585914Z",
     "iopub.status.busy": "2021-10-30T01:55:12.585247Z",
     "iopub.status.idle": "2021-10-30T01:55:12.613513Z",
     "shell.execute_reply": "2021-10-30T01:55:12.612874Z"
    },
    "papermill": {
     "duration": 0.047352,
     "end_time": "2021-10-30T01:55:12.613645",
     "exception": false,
     "start_time": "2021-10-30T01:55:12.566293",
     "status": "completed"
    },
    "tags": []
   },
   "outputs": [],
   "source": [
    "#hide\n",
    "#Koreliacijų koeficientai"
   ]
  },
  {
   "cell_type": "code",
   "execution_count": 10,
   "id": "seeing-celebration",
   "metadata": {
    "execution": {
     "iopub.execute_input": "2021-10-30T01:55:12.647701Z",
     "iopub.status.busy": "2021-10-30T01:55:12.647106Z",
     "iopub.status.idle": "2021-10-30T01:55:12.675311Z",
     "shell.execute_reply": "2021-10-30T01:55:12.675789Z"
    },
    "papermill": {
     "duration": 0.047243,
     "end_time": "2021-10-30T01:55:12.675946",
     "exception": false,
     "start_time": "2021-10-30T01:55:12.628703",
     "status": "completed"
    },
    "tags": []
   },
   "outputs": [],
   "source": [
    "#hide_input\n",
    "#sum_corr = df_all_mrk.corr().sum().sort_values(ascending=True).index.values\n",
    "#df_all_mrk[sum_corr].corr()"
   ]
  },
  {
   "cell_type": "code",
   "execution_count": 11,
   "id": "other-painting",
   "metadata": {
    "execution": {
     "iopub.execute_input": "2021-10-30T01:55:12.712059Z",
     "iopub.status.busy": "2021-10-30T01:55:12.711466Z",
     "iopub.status.idle": "2021-10-30T01:55:12.742340Z",
     "shell.execute_reply": "2021-10-30T01:55:12.741673Z"
    },
    "papermill": {
     "duration": 0.051753,
     "end_time": "2021-10-30T01:55:12.742493",
     "exception": false,
     "start_time": "2021-10-30T01:55:12.690740",
     "status": "completed"
    },
    "tags": []
   },
   "outputs": [],
   "source": [
    "#hide\n",
    "#Koreliacijos matrica. "
   ]
  },
  {
   "cell_type": "code",
   "execution_count": 12,
   "id": "modular-magnitude",
   "metadata": {
    "execution": {
     "iopub.execute_input": "2021-10-30T01:55:12.776809Z",
     "iopub.status.busy": "2021-10-30T01:55:12.776254Z",
     "iopub.status.idle": "2021-10-30T01:55:12.803639Z",
     "shell.execute_reply": "2021-10-30T01:55:12.804197Z"
    },
    "papermill": {
     "duration": 0.045863,
     "end_time": "2021-10-30T01:55:12.804373",
     "exception": false,
     "start_time": "2021-10-30T01:55:12.758510",
     "status": "completed"
    },
    "tags": []
   },
   "outputs": [],
   "source": [
    "#hide_input\n",
    "#plt.figure(figsize=(15, 8))\n",
    "#sns.heatmap(df_all_mrk[sum_corr].corr(), annot=True, cmap=\"BrBG\");\n",
    "#plt.savefig('corr_matrix_all.eps', format='eps')"
   ]
  },
  {
   "cell_type": "code",
   "execution_count": null,
   "id": "original-senator",
   "metadata": {
    "papermill": {
     "duration": 0.013553,
     "end_time": "2021-10-30T01:55:12.833023",
     "exception": false,
     "start_time": "2021-10-30T01:55:12.819470",
     "status": "completed"
    },
    "tags": []
   },
   "outputs": [],
   "source": []
  },
  {
   "cell_type": "code",
   "execution_count": null,
   "id": "saving-secretariat",
   "metadata": {
    "papermill": {
     "duration": 0.014378,
     "end_time": "2021-10-30T01:55:12.861314",
     "exception": false,
     "start_time": "2021-10-30T01:55:12.846936",
     "status": "completed"
    },
    "tags": []
   },
   "outputs": [],
   "source": []
  }
 ],
 "metadata": {
  "kernelspec": {
   "display_name": "Python 3",
   "language": "python",
   "name": "python3"
  },
  "language_info": {
   "codemirror_mode": {
    "name": "ipython",
    "version": 3
   },
   "file_extension": ".py",
   "mimetype": "text/x-python",
   "name": "python",
   "nbconvert_exporter": "python",
   "pygments_lexer": "ipython3",
   "version": "3.6.15"
  },
  "papermill": {
   "default_parameters": {},
   "duration": 21.554718,
   "end_time": "2021-10-30T01:55:13.385913",
   "environment_variables": {},
   "exception": null,
   "input_path": "App-Correlation_charts.ipynb",
   "output_path": "App-Correlation_charts.ipynb",
   "parameters": {},
   "start_time": "2021-10-30T01:54:51.831195",
   "version": "2.2.2"
  }
 },
 "nbformat": 4,
 "nbformat_minor": 5
}