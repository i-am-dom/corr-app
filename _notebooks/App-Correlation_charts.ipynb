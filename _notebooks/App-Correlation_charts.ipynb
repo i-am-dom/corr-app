{
 "cells": [
  {
   "cell_type": "markdown",
   "id": "touched-facility",
   "metadata": {
    "papermill": {
     "duration": 0.014719,
     "end_time": "2022-01-04T02:06:03.784504",
     "exception": false,
     "start_time": "2022-01-04T02:06:03.769785",
     "status": "completed"
    },
    "tags": []
   },
   "source": [
    "# Koreliacijų matrica\n",
    "> Išplėstinė koreliacijų matrica. \n",
    "\n",
    "- toc: true \n",
    "- badges: true\n",
    "- comments: false\n",
    "- categories: [Dominykas Tautkus]\n",
    "- image: images/matrix.png"
   ]
  },
  {
   "cell_type": "code",
   "execution_count": null,
   "id": "premium-weekend",
   "metadata": {
    "papermill": {
     "duration": 0.010718,
     "end_time": "2022-01-04T02:06:03.806609",
     "exception": false,
     "start_time": "2022-01-04T02:06:03.795891",
     "status": "completed"
    },
    "tags": []
   },
   "outputs": [],
   "source": []
  },
  {
   "cell_type": "code",
   "execution_count": 1,
   "id": "vertical-rebate",
   "metadata": {
    "execution": {
     "iopub.execute_input": "2022-01-04T02:06:03.838891Z",
     "iopub.status.busy": "2022-01-04T02:06:03.838356Z",
     "iopub.status.idle": "2022-01-04T02:06:03.849463Z",
     "shell.execute_reply": "2022-01-04T02:06:03.849013Z"
    },
    "papermill": {
     "duration": 0.032251,
     "end_time": "2022-01-04T02:06:03.849590",
     "exception": false,
     "start_time": "2022-01-04T02:06:03.817339",
     "status": "completed"
    },
    "tags": []
   },
   "outputs": [],
   "source": [
    "#hide\n",
    "%load_ext autoreload\n",
    "%autoreload 2"
   ]
  },
  {
   "cell_type": "code",
   "execution_count": 2,
   "id": "overall-advancement",
   "metadata": {
    "execution": {
     "iopub.execute_input": "2022-01-04T02:06:03.875855Z",
     "iopub.status.busy": "2022-01-04T02:06:03.875339Z",
     "iopub.status.idle": "2022-01-04T02:06:05.063922Z",
     "shell.execute_reply": "2022-01-04T02:06:05.063427Z"
    },
    "papermill": {
     "duration": 1.20378,
     "end_time": "2022-01-04T02:06:05.064052",
     "exception": false,
     "start_time": "2022-01-04T02:06:03.860272",
     "status": "completed"
    },
    "tags": []
   },
   "outputs": [],
   "source": [
    "#hide\n",
    "from scripts.read_data import read_api\n",
    "from IPython.display import HTML\n",
    "import plotly.graph_objects as go\n"
   ]
  },
  {
   "cell_type": "code",
   "execution_count": 3,
   "id": "light-crazy",
   "metadata": {
    "execution": {
     "iopub.execute_input": "2022-01-04T02:06:05.090772Z",
     "iopub.status.busy": "2022-01-04T02:06:05.090227Z",
     "iopub.status.idle": "2022-01-04T02:06:05.112879Z",
     "shell.execute_reply": "2022-01-04T02:06:05.112361Z"
    },
    "papermill": {
     "duration": 0.037865,
     "end_time": "2022-01-04T02:06:05.113017",
     "exception": false,
     "start_time": "2022-01-04T02:06:05.075152",
     "status": "completed"
    },
    "tags": []
   },
   "outputs": [],
   "source": [
    "#hide\n",
    "### ICO koreliacija"
   ]
  },
  {
   "cell_type": "code",
   "execution_count": 4,
   "id": "likely-bahrain",
   "metadata": {
    "execution": {
     "iopub.execute_input": "2022-01-04T02:06:05.138293Z",
     "iopub.status.busy": "2022-01-04T02:06:05.137775Z",
     "iopub.status.idle": "2022-01-04T02:06:06.021606Z",
     "shell.execute_reply": "2022-01-04T02:06:06.021123Z"
    },
    "papermill": {
     "duration": 0.897771,
     "end_time": "2022-01-04T02:06:06.021772",
     "exception": false,
     "start_time": "2022-01-04T02:06:05.124001",
     "status": "completed"
    },
    "tags": []
   },
   "outputs": [],
   "source": [
    "#hide\n",
    "import matplotlib.pyplot as plt\n",
    "import numpy as np\n",
    "import pandas as pd\n",
    "import seaborn as sns\n",
    "import matplotlib.pyplot as plt \n",
    "import matplotlib.dates as mdates\n",
    "import matplotlib.pyplot as plt"
   ]
  },
  {
   "cell_type": "code",
   "execution_count": 5,
   "id": "superior-blanket",
   "metadata": {
    "execution": {
     "iopub.execute_input": "2022-01-04T02:06:06.059781Z",
     "iopub.status.busy": "2022-01-04T02:06:06.058649Z",
     "iopub.status.idle": "2022-01-04T02:06:18.574642Z",
     "shell.execute_reply": "2022-01-04T02:06:18.575119Z"
    },
    "papermill": {
     "duration": 12.542117,
     "end_time": "2022-01-04T02:06:18.575274",
     "exception": false,
     "start_time": "2022-01-04T02:06:06.033157",
     "status": "completed"
    },
    "tags": []
   },
   "outputs": [
    {
     "name": "stderr",
     "output_type": "stream",
     "text": [
      "/home/runner/work/corr-app/corr-app/_notebooks/scripts/read_data.py:187: SettingWithCopyWarning:\n",
      "\n",
      "\n",
      "A value is trying to be set on a copy of a slice from a DataFrame.\n",
      "Try using .loc[row_indexer,col_indexer] = value instead\n",
      "\n",
      "See the caveats in the documentation: https://pandas.pydata.org/pandas-docs/stable/user_guide/indexing.html#returning-a-view-versus-a-copy\n",
      "\n"
     ]
    },
    {
     "name": "stderr",
     "output_type": "stream",
     "text": [
      "/home/runner/work/corr-app/corr-app/_notebooks/scripts/read_data.py:215: SettingWithCopyWarning:\n",
      "\n",
      "\n",
      "A value is trying to be set on a copy of a slice from a DataFrame.\n",
      "Try using .loc[row_indexer,col_indexer] = value instead\n",
      "\n",
      "See the caveats in the documentation: https://pandas.pydata.org/pandas-docs/stable/user_guide/indexing.html#returning-a-view-versus-a-copy\n",
      "\n"
     ]
    }
   ],
   "source": [
    "#hide\n",
    "df_all = read_api()\n",
    "#df_all = df_all.drop(['SP500', 'XAU', 'ETH', 'BTC'], axis=1)\n",
    "\n"
   ]
  },
  {
   "cell_type": "code",
   "execution_count": 6,
   "id": "mature-alert",
   "metadata": {
    "execution": {
     "iopub.execute_input": "2022-01-04T02:06:18.614290Z",
     "iopub.status.busy": "2022-01-04T02:06:18.606400Z",
     "iopub.status.idle": "2022-01-04T02:06:18.636924Z",
     "shell.execute_reply": "2022-01-04T02:06:18.637365Z"
    },
    "papermill": {
     "duration": 0.050305,
     "end_time": "2022-01-04T02:06:18.637515",
     "exception": false,
     "start_time": "2022-01-04T02:06:18.587210",
     "status": "completed"
    },
    "tags": []
   },
   "outputs": [],
   "source": [
    "#hide_input\n",
    "sum_corr = df_all.corr().sum().sort_values(ascending=True).index.values\n",
    "#df_all[sum_corr].corr()"
   ]
  },
  {
   "cell_type": "markdown",
   "id": "complex-syndicate",
   "metadata": {
    "papermill": {
     "duration": 0.011151,
     "end_time": "2022-01-04T02:06:18.660352",
     "exception": false,
     "start_time": "2022-01-04T02:06:18.649201",
     "status": "completed"
    },
    "tags": []
   },
   "source": [
    "## Išplėstinė koreliacijų matrica. "
   ]
  },
  {
   "cell_type": "code",
   "execution_count": 7,
   "id": "atomic-omaha",
   "metadata": {
    "execution": {
     "iopub.execute_input": "2022-01-04T02:06:18.698375Z",
     "iopub.status.busy": "2022-01-04T02:06:18.685558Z",
     "iopub.status.idle": "2022-01-04T02:06:19.940908Z",
     "shell.execute_reply": "2022-01-04T02:06:19.940020Z"
    },
    "papermill": {
     "duration": 1.269588,
     "end_time": "2022-01-04T02:06:19.941054",
     "exception": false,
     "start_time": "2022-01-04T02:06:18.671466",
     "status": "completed"
    },
    "tags": []
   },
   "outputs": [
    {
     "data": {
      "image/png": "[encoded data removed]",
      "text/plain": [
       "<Figure size 1080x792 with 2 Axes>"
      ]
     },
     "metadata": {
      "needs_background": "light"
     },
     "output_type": "display_data"
    }
   ],
   "source": [
    "#hide_input\n",
    "plt.figure(figsize=(15, 11))\n",
    "sns.heatmap(df_all[sum_corr].corr(), annot=True, cmap=\"cubehelix\") \n",
    "sns.set(font_scale=1.25)\n",
    "plt.savefig('corr_matrix.png', format='eps')"
   ]
  },
  {
   "cell_type": "code",
   "execution_count": 8,
   "id": "arbitrary-sullivan",
   "metadata": {
    "execution": {
     "iopub.execute_input": "2022-01-04T02:06:19.973959Z",
     "iopub.status.busy": "2022-01-04T02:06:19.972324Z",
     "iopub.status.idle": "2022-01-04T02:06:19.999037Z",
     "shell.execute_reply": "2022-01-04T02:06:19.998450Z"
    },
    "papermill": {
     "duration": 0.044285,
     "end_time": "2022-01-04T02:06:19.999157",
     "exception": false,
     "start_time": "2022-01-04T02:06:19.954872",
     "status": "completed"
    },
    "tags": []
   },
   "outputs": [],
   "source": [
    "#hide\n",
    "#df_all_mrk = read_api()"
   ]
  },
  {
   "cell_type": "code",
   "execution_count": 9,
   "id": "delayed-adapter",
   "metadata": {
    "execution": {
     "iopub.execute_input": "2022-01-04T02:06:20.028876Z",
     "iopub.status.busy": "2022-01-04T02:06:20.028361Z",
     "iopub.status.idle": "2022-01-04T02:06:20.053953Z",
     "shell.execute_reply": "2022-01-04T02:06:20.054367Z"
    },
    "papermill": {
     "duration": 0.041574,
     "end_time": "2022-01-04T02:06:20.054499",
     "exception": false,
     "start_time": "2022-01-04T02:06:20.012925",
     "status": "completed"
    },
    "tags": []
   },
   "outputs": [],
   "source": [
    "#hide\n",
    "#Koreliacijų koeficientai"
   ]
  },
  {
   "cell_type": "code",
   "execution_count": 10,
   "id": "seeing-celebration",
   "metadata": {
    "execution": {
     "iopub.execute_input": "2022-01-04T02:06:20.085278Z",
     "iopub.status.busy": "2022-01-04T02:06:20.084773Z",
     "iopub.status.idle": "2022-01-04T02:06:20.110058Z",
     "shell.execute_reply": "2022-01-04T02:06:20.109533Z"
    },
    "papermill": {
     "duration": 0.041526,
     "end_time": "2022-01-04T02:06:20.110179",
     "exception": false,
     "start_time": "2022-01-04T02:06:20.068653",
     "status": "completed"
    },
    "tags": []
   },
   "outputs": [],
   "source": [
    "#hide_input\n",
    "#sum_corr = df_all_mrk.corr().sum().sort_values(ascending=True).index.values\n",
    "#df_all_mrk[sum_corr].corr()"
   ]
  },
  {
   "cell_type": "code",
   "execution_count": 11,
   "id": "other-painting",
   "metadata": {
    "execution": {
     "iopub.execute_input": "2022-01-04T02:06:20.144824Z",
     "iopub.status.busy": "2022-01-04T02:06:20.144321Z",
     "iopub.status.idle": "2022-01-04T02:06:20.166965Z",
     "shell.execute_reply": "2022-01-04T02:06:20.166502Z"
    },
    "papermill": {
     "duration": 0.043214,
     "end_time": "2022-01-04T02:06:20.167083",
     "exception": false,
     "start_time": "2022-01-04T02:06:20.123869",
     "status": "completed"
    },
    "tags": []
   },
   "outputs": [],
   "source": [
    "#hide\n",
    "#Koreliacijos matrica. "
   ]
  },
  {
   "cell_type": "code",
   "execution_count": 12,
   "id": "modular-magnitude",
   "metadata": {
    "execution": {
     "iopub.execute_input": "2022-01-04T02:06:20.198765Z",
     "iopub.status.busy": "2022-01-04T02:06:20.198262Z",
     "iopub.status.idle": "2022-01-04T02:06:20.222608Z",
     "shell.execute_reply": "2022-01-04T02:06:20.222144Z"
    },
    "papermill": {
     "duration": 0.041156,
     "end_time": "2022-01-04T02:06:20.222725",
     "exception": false,
     "start_time": "2022-01-04T02:06:20.181569",
     "status": "completed"
    },
    "tags": []
   },
   "outputs": [],
   "source": [
    "#hide_input\n",
    "#plt.figure(figsize=(15, 8))\n",
    "#sns.heatmap(df_all_mrk[sum_corr].corr(), annot=True, cmap=\"BrBG\");\n",
    "#plt.savefig('corr_matrix_all.eps', format='eps')"
   ]
  },
  {
   "cell_type": "code",
   "execution_count": null,
   "id": "original-senator",
   "metadata": {
    "papermill": {
     "duration": 0.013016,
     "end_time": "2022-01-04T02:06:20.249344",
     "exception": false,
     "start_time": "2022-01-04T02:06:20.236328",
     "status": "completed"
    },
    "tags": []
   },
   "outputs": [],
   "source": []
  },
  {
   "cell_type": "code",
   "execution_count": null,
   "id": "saving-secretariat",
   "metadata": {
    "papermill": {
     "duration": 0.013903,
     "end_time": "2022-01-04T02:06:20.276276",
     "exception": false,
     "start_time": "2022-01-04T02:06:20.262373",
     "status": "completed"
    },
    "tags": []
   },
   "outputs": [],
   "source": []
  }
 ],
 "metadata": {
  "kernelspec": {
   "display_name": "Python 3",
   "language": "python",
   "name": "python3"
  },
  "language_info": {
   "codemirror_mode": {
    "name": "ipython",
    "version": 3
   },
   "file_extension": ".py",
   "mimetype": "text/x-python",
   "name": "python",
   "nbconvert_exporter": "python",
   "pygments_lexer": "ipython3",
   "version": "3.6.15"
  },
  "papermill": {
   "default_parameters": {},
   "duration": 17.960748,
   "end_time": "2022-01-04T02:06:20.797311",
   "environment_variables": {},
   "exception": null,
   "input_path": "App-Correlation_charts.ipynb",
   "output_path": "App-Correlation_charts.ipynb",
   "parameters": {},
   "start_time": "2022-01-04T02:06:02.836563",
   "version": "2.2.2"
  }
 },
 "nbformat": 4,
 "nbformat_minor": 5
}