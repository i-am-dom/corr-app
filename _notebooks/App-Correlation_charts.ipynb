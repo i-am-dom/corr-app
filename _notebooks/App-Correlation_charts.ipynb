{
 "cells": [
  {
   "cell_type": "markdown",
   "id": "touched-facility",
   "metadata": {
    "papermill": {
     "duration": 0.015947,
     "end_time": "2021-12-11T01:59:11.066636",
     "exception": false,
     "start_time": "2021-12-11T01:59:11.050689",
     "status": "completed"
    },
    "tags": []
   },
   "source": [
    "# Koreliacijų matrica\n",
    "> Išplėstinė koreliacijų matrica. \n",
    "\n",
    "- toc: true \n",
    "- badges: true\n",
    "- comments: false\n",
    "- categories: [Dominykas Tautkus]\n",
    "- image: images/matrix.png"
   ]
  },
  {
   "cell_type": "code",
   "execution_count": null,
   "id": "premium-weekend",
   "metadata": {
    "papermill": {
     "duration": 0.012097,
     "end_time": "2021-12-11T01:59:11.091713",
     "exception": false,
     "start_time": "2021-12-11T01:59:11.079616",
     "status": "completed"
    },
    "tags": []
   },
   "outputs": [],
   "source": []
  },
  {
   "cell_type": "code",
   "execution_count": 1,
   "id": "vertical-rebate",
   "metadata": {
    "execution": {
     "iopub.execute_input": "2021-12-11T01:59:11.128911Z",
     "iopub.status.busy": "2021-12-11T01:59:11.128260Z",
     "iopub.status.idle": "2021-12-11T01:59:11.138878Z",
     "shell.execute_reply": "2021-12-11T01:59:11.139400Z"
    },
    "papermill": {
     "duration": 0.035798,
     "end_time": "2021-12-11T01:59:11.139569",
     "exception": false,
     "start_time": "2021-12-11T01:59:11.103771",
     "status": "completed"
    },
    "tags": []
   },
   "outputs": [],
   "source": [
    "#hide\n",
    "%load_ext autoreload\n",
    "%autoreload 2"
   ]
  },
  {
   "cell_type": "code",
   "execution_count": 2,
   "id": "overall-advancement",
   "metadata": {
    "execution": {
     "iopub.execute_input": "2021-12-11T01:59:11.169729Z",
     "iopub.status.busy": "2021-12-11T01:59:11.169127Z",
     "iopub.status.idle": "2021-12-11T01:59:12.547677Z",
     "shell.execute_reply": "2021-12-11T01:59:12.548219Z"
    },
    "papermill": {
     "duration": 1.396787,
     "end_time": "2021-12-11T01:59:12.548407",
     "exception": false,
     "start_time": "2021-12-11T01:59:11.151620",
     "status": "completed"
    },
    "tags": []
   },
   "outputs": [],
   "source": [
    "#hide\n",
    "from scripts.read_data import read_api\n",
    "from IPython.display import HTML\n",
    "import plotly.graph_objects as go\n"
   ]
  },
  {
   "cell_type": "code",
   "execution_count": 3,
   "id": "light-crazy",
   "metadata": {
    "execution": {
     "iopub.execute_input": "2021-12-11T01:59:12.577896Z",
     "iopub.status.busy": "2021-12-11T01:59:12.577284Z",
     "iopub.status.idle": "2021-12-11T01:59:12.602683Z",
     "shell.execute_reply": "2021-12-11T01:59:12.603320Z"
    },
    "papermill": {
     "duration": 0.042222,
     "end_time": "2021-12-11T01:59:12.603525",
     "exception": false,
     "start_time": "2021-12-11T01:59:12.561303",
     "status": "completed"
    },
    "tags": []
   },
   "outputs": [],
   "source": [
    "#hide\n",
    "### ICO koreliacija"
   ]
  },
  {
   "cell_type": "code",
   "execution_count": 4,
   "id": "likely-bahrain",
   "metadata": {
    "execution": {
     "iopub.execute_input": "2021-12-11T01:59:12.634424Z",
     "iopub.status.busy": "2021-12-11T01:59:12.633809Z",
     "iopub.status.idle": "2021-12-11T01:59:13.727364Z",
     "shell.execute_reply": "2021-12-11T01:59:13.726573Z"
    },
    "papermill": {
     "duration": 1.111165,
     "end_time": "2021-12-11T01:59:13.727504",
     "exception": false,
     "start_time": "2021-12-11T01:59:12.616339",
     "status": "completed"
    },
    "tags": []
   },
   "outputs": [],
   "source": [
    "#hide\n",
    "import matplotlib.pyplot as plt\n",
    "import numpy as np\n",
    "import pandas as pd\n",
    "import seaborn as sns\n",
    "import matplotlib.pyplot as plt \n",
    "import matplotlib.dates as mdates\n",
    "import matplotlib.pyplot as plt"
   ]
  },
  {
   "cell_type": "code",
   "execution_count": 5,
   "id": "superior-blanket",
   "metadata": {
    "execution": {
     "iopub.execute_input": "2021-12-11T01:59:13.759763Z",
     "iopub.status.busy": "2021-12-11T01:59:13.759127Z",
     "iopub.status.idle": "2021-12-11T01:59:24.439556Z",
     "shell.execute_reply": "2021-12-11T01:59:24.438662Z"
    },
    "papermill": {
     "duration": 10.698492,
     "end_time": "2021-12-11T01:59:24.439698",
     "exception": false,
     "start_time": "2021-12-11T01:59:13.741206",
     "status": "completed"
    },
    "tags": []
   },
   "outputs": [
    {
     "name": "stderr",
     "output_type": "stream",
     "text": [
      "/home/runner/work/corr-app/corr-app/_notebooks/scripts/read_data.py:187: SettingWithCopyWarning:\n",
      "\n",
      "\n",
      "A value is trying to be set on a copy of a slice from a DataFrame.\n",
      "Try using .loc[row_indexer,col_indexer] = value instead\n",
      "\n",
      "See the caveats in the documentation: https://pandas.pydata.org/pandas-docs/stable/user_guide/indexing.html#returning-a-view-versus-a-copy\n",
      "\n"
     ]
    },
    {
     "name": "stderr",
     "output_type": "stream",
     "text": [
      "/home/runner/work/corr-app/corr-app/_notebooks/scripts/read_data.py:215: SettingWithCopyWarning:\n",
      "\n",
      "\n",
      "A value is trying to be set on a copy of a slice from a DataFrame.\n",
      "Try using .loc[row_indexer,col_indexer] = value instead\n",
      "\n",
      "See the caveats in the documentation: https://pandas.pydata.org/pandas-docs/stable/user_guide/indexing.html#returning-a-view-versus-a-copy\n",
      "\n"
     ]
    }
   ],
   "source": [
    "#hide\n",
    "df_all = read_api()\n",
    "#df_all = df_all.drop(['SP500', 'XAU', 'ETH', 'BTC'], axis=1)\n",
    "\n"
   ]
  },
  {
   "cell_type": "code",
   "execution_count": 6,
   "id": "mature-alert",
   "metadata": {
    "execution": {
     "iopub.execute_input": "2021-12-11T01:59:24.470061Z",
     "iopub.status.busy": "2021-12-11T01:59:24.469464Z",
     "iopub.status.idle": "2021-12-11T01:59:24.504824Z",
     "shell.execute_reply": "2021-12-11T01:59:24.503959Z"
    },
    "papermill": {
     "duration": 0.052195,
     "end_time": "2021-12-11T01:59:24.505036",
     "exception": false,
     "start_time": "2021-12-11T01:59:24.452841",
     "status": "completed"
    },
    "tags": []
   },
   "outputs": [],
   "source": [
    "#hide_input\n",
    "sum_corr = df_all.corr().sum().sort_values(ascending=True).index.values\n",
    "#df_all[sum_corr].corr()"
   ]
  },
  {
   "cell_type": "markdown",
   "id": "complex-syndicate",
   "metadata": {
    "papermill": {
     "duration": 0.012618,
     "end_time": "2021-12-11T01:59:24.531588",
     "exception": false,
     "start_time": "2021-12-11T01:59:24.518970",
     "status": "completed"
    },
    "tags": []
   },
   "source": [
    "## Išplėstinė koreliacijų matrica. "
   ]
  },
  {
   "cell_type": "code",
   "execution_count": 7,
   "id": "atomic-omaha",
   "metadata": {
    "execution": {
     "iopub.execute_input": "2021-12-11T01:59:24.561920Z",
     "iopub.status.busy": "2021-12-11T01:59:24.561324Z",
     "iopub.status.idle": "2021-12-11T01:59:26.002734Z",
     "shell.execute_reply": "2021-12-11T01:59:26.002238Z"
    },
    "papermill": {
     "duration": 1.458533,
     "end_time": "2021-12-11T01:59:26.002864",
     "exception": false,
     "start_time": "2021-12-11T01:59:24.544331",
     "status": "completed"
    },
    "tags": []
   },
   "outputs": [
    {
     "data": {
      "image/png": "[encoded data removed]",
      "text/plain": [
       "<Figure size 1080x792 with 2 Axes>"
      ]
     },
     "metadata": {
      "needs_background": "light"
     },
     "output_type": "display_data"
    }
   ],
   "source": [
    "#hide_input\n",
    "plt.figure(figsize=(15, 11))\n",
    "sns.heatmap(df_all[sum_corr].corr(), annot=True, cmap=\"cubehelix\") \n",
    "sns.set(font_scale=1.25)\n",
    "plt.savefig('corr_matrix.png', format='eps')"
   ]
  },
  {
   "cell_type": "code",
   "execution_count": 8,
   "id": "arbitrary-sullivan",
   "metadata": {
    "execution": {
     "iopub.execute_input": "2021-12-11T01:59:26.038233Z",
     "iopub.status.busy": "2021-12-11T01:59:26.037193Z",
     "iopub.status.idle": "2021-12-11T01:59:26.066973Z",
     "shell.execute_reply": "2021-12-11T01:59:26.066115Z"
    },
    "papermill": {
     "duration": 0.049213,
     "end_time": "2021-12-11T01:59:26.067173",
     "exception": false,
     "start_time": "2021-12-11T01:59:26.017960",
     "status": "completed"
    },
    "tags": []
   },
   "outputs": [],
   "source": [
    "#hide\n",
    "#df_all_mrk = read_api()"
   ]
  },
  {
   "cell_type": "code",
   "execution_count": 9,
   "id": "delayed-adapter",
   "metadata": {
    "execution": {
     "iopub.execute_input": "2021-12-11T01:59:26.104180Z",
     "iopub.status.busy": "2021-12-11T01:59:26.103523Z",
     "iopub.status.idle": "2021-12-11T01:59:26.134424Z",
     "shell.execute_reply": "2021-12-11T01:59:26.133755Z"
    },
    "papermill": {
     "duration": 0.049358,
     "end_time": "2021-12-11T01:59:26.134594",
     "exception": false,
     "start_time": "2021-12-11T01:59:26.085236",
     "status": "completed"
    },
    "tags": []
   },
   "outputs": [],
   "source": [
    "#hide\n",
    "#Koreliacijų koeficientai"
   ]
  },
  {
   "cell_type": "code",
   "execution_count": 10,
   "id": "seeing-celebration",
   "metadata": {
    "execution": {
     "iopub.execute_input": "2021-12-11T01:59:26.170673Z",
     "iopub.status.busy": "2021-12-11T01:59:26.170050Z",
     "iopub.status.idle": "2021-12-11T01:59:26.205011Z",
     "shell.execute_reply": "2021-12-11T01:59:26.203789Z"
    },
    "papermill": {
     "duration": 0.05476,
     "end_time": "2021-12-11T01:59:26.205236",
     "exception": false,
     "start_time": "2021-12-11T01:59:26.150476",
     "status": "completed"
    },
    "tags": []
   },
   "outputs": [],
   "source": [
    "#hide_input\n",
    "#sum_corr = df_all_mrk.corr().sum().sort_values(ascending=True).index.values\n",
    "#df_all_mrk[sum_corr].corr()"
   ]
  },
  {
   "cell_type": "code",
   "execution_count": 11,
   "id": "other-painting",
   "metadata": {
    "execution": {
     "iopub.execute_input": "2021-12-11T01:59:26.240498Z",
     "iopub.status.busy": "2021-12-11T01:59:26.239845Z",
     "iopub.status.idle": "2021-12-11T01:59:26.270955Z",
     "shell.execute_reply": "2021-12-11T01:59:26.269597Z"
    },
    "papermill": {
     "duration": 0.049535,
     "end_time": "2021-12-11T01:59:26.271101",
     "exception": false,
     "start_time": "2021-12-11T01:59:26.221566",
     "status": "completed"
    },
    "tags": []
   },
   "outputs": [],
   "source": [
    "#hide\n",
    "#Koreliacijos matrica. "
   ]
  },
  {
   "cell_type": "code",
   "execution_count": 12,
   "id": "modular-magnitude",
   "metadata": {
    "execution": {
     "iopub.execute_input": "2021-12-11T01:59:26.304646Z",
     "iopub.status.busy": "2021-12-11T01:59:26.304014Z",
     "iopub.status.idle": "2021-12-11T01:59:26.333552Z",
     "shell.execute_reply": "2021-12-11T01:59:26.332852Z"
    },
    "papermill": {
     "duration": 0.047562,
     "end_time": "2021-12-11T01:59:26.333730",
     "exception": false,
     "start_time": "2021-12-11T01:59:26.286168",
     "status": "completed"
    },
    "tags": []
   },
   "outputs": [],
   "source": [
    "#hide_input\n",
    "#plt.figure(figsize=(15, 8))\n",
    "#sns.heatmap(df_all_mrk[sum_corr].corr(), annot=True, cmap=\"BrBG\");\n",
    "#plt.savefig('corr_matrix_all.eps', format='eps')"
   ]
  },
  {
   "cell_type": "code",
   "execution_count": null,
   "id": "original-senator",
   "metadata": {
    "papermill": {
     "duration": 0.014934,
     "end_time": "2021-12-11T01:59:26.365810",
     "exception": false,
     "start_time": "2021-12-11T01:59:26.350876",
     "status": "completed"
    },
    "tags": []
   },
   "outputs": [],
   "source": []
  },
  {
   "cell_type": "code",
   "execution_count": null,
   "id": "saving-secretariat",
   "metadata": {
    "papermill": {
     "duration": 0.015754,
     "end_time": "2021-12-11T01:59:26.396374",
     "exception": false,
     "start_time": "2021-12-11T01:59:26.380620",
     "status": "completed"
    },
    "tags": []
   },
   "outputs": [],
   "source": []
  }
 ],
 "metadata": {
  "kernelspec": {
   "display_name": "Python 3",
   "language": "python",
   "name": "python3"
  },
  "language_info": {
   "codemirror_mode": {
    "name": "ipython",
    "version": 3
   },
   "file_extension": ".py",
   "mimetype": "text/x-python",
   "name": "python",
   "nbconvert_exporter": "python",
   "pygments_lexer": "ipython3",
   "version": "3.6.15"
  },
  "papermill": {
   "default_parameters": {},
   "duration": 17.028096,
   "end_time": "2021-12-11T01:59:26.922660",
   "environment_variables": {},
   "exception": null,
   "input_path": "App-Correlation_charts.ipynb",
   "output_path": "App-Correlation_charts.ipynb",
   "parameters": {},
   "start_time": "2021-12-11T01:59:09.894564",
   "version": "2.2.2"
  }
 },
 "nbformat": 4,
 "nbformat_minor": 5
}