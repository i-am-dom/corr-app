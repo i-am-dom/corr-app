{
 "cells": [
  {
   "cell_type": "markdown",
   "id": "touched-facility",
   "metadata": {
    "papermill": {
     "duration": 0.018157,
     "end_time": "2021-10-07T02:04:07.071881",
     "exception": false,
     "start_time": "2021-10-07T02:04:07.053724",
     "status": "completed"
    },
    "tags": []
   },
   "source": [
    "# Koreliacijų matrica\n",
    "> Išplėstinė koreliacijų matrica. \n",
    "\n",
    "- toc: true \n",
    "- badges: true\n",
    "- comments: false\n",
    "- categories: [Dominykas Tautkus]\n",
    "- image: images/matrix.png"
   ]
  },
  {
   "cell_type": "code",
   "execution_count": null,
   "id": "premium-weekend",
   "metadata": {
    "papermill": {
     "duration": 0.013483,
     "end_time": "2021-10-07T02:04:07.101443",
     "exception": false,
     "start_time": "2021-10-07T02:04:07.087960",
     "status": "completed"
    },
    "tags": []
   },
   "outputs": [],
   "source": []
  },
  {
   "cell_type": "code",
   "execution_count": 1,
   "id": "vertical-rebate",
   "metadata": {
    "execution": {
     "iopub.execute_input": "2021-10-07T02:04:07.140782Z",
     "iopub.status.busy": "2021-10-07T02:04:07.140109Z",
     "iopub.status.idle": "2021-10-07T02:04:07.152762Z",
     "shell.execute_reply": "2021-10-07T02:04:07.151727Z"
    },
    "papermill": {
     "duration": 0.038392,
     "end_time": "2021-10-07T02:04:07.152927",
     "exception": false,
     "start_time": "2021-10-07T02:04:07.114535",
     "status": "completed"
    },
    "tags": []
   },
   "outputs": [],
   "source": [
    "#hide\n",
    "%load_ext autoreload\n",
    "%autoreload 2"
   ]
  },
  {
   "cell_type": "code",
   "execution_count": 2,
   "id": "overall-advancement",
   "metadata": {
    "execution": {
     "iopub.execute_input": "2021-10-07T02:04:07.183355Z",
     "iopub.status.busy": "2021-10-07T02:04:07.182690Z",
     "iopub.status.idle": "2021-10-07T02:04:08.597523Z",
     "shell.execute_reply": "2021-10-07T02:04:08.596985Z"
    },
    "papermill": {
     "duration": 1.430877,
     "end_time": "2021-10-07T02:04:08.597666",
     "exception": false,
     "start_time": "2021-10-07T02:04:07.166789",
     "status": "completed"
    },
    "tags": []
   },
   "outputs": [],
   "source": [
    "#hide\n",
    "from scripts.read_data import read_api\n",
    "from IPython.display import HTML\n",
    "import plotly.graph_objects as go\n"
   ]
  },
  {
   "cell_type": "code",
   "execution_count": 3,
   "id": "light-crazy",
   "metadata": {
    "execution": {
     "iopub.execute_input": "2021-10-07T02:04:08.629482Z",
     "iopub.status.busy": "2021-10-07T02:04:08.628713Z",
     "iopub.status.idle": "2021-10-07T02:04:08.654166Z",
     "shell.execute_reply": "2021-10-07T02:04:08.654774Z"
    },
    "papermill": {
     "duration": 0.044133,
     "end_time": "2021-10-07T02:04:08.654928",
     "exception": false,
     "start_time": "2021-10-07T02:04:08.610795",
     "status": "completed"
    },
    "tags": []
   },
   "outputs": [],
   "source": [
    "#hide\n",
    "### ICO koreliacija"
   ]
  },
  {
   "cell_type": "code",
   "execution_count": 4,
   "id": "likely-bahrain",
   "metadata": {
    "execution": {
     "iopub.execute_input": "2021-10-07T02:04:08.687676Z",
     "iopub.status.busy": "2021-10-07T02:04:08.686944Z",
     "iopub.status.idle": "2021-10-07T02:04:09.764924Z",
     "shell.execute_reply": "2021-10-07T02:04:09.765524Z"
    },
    "papermill": {
     "duration": 1.097721,
     "end_time": "2021-10-07T02:04:09.765701",
     "exception": false,
     "start_time": "2021-10-07T02:04:08.667980",
     "status": "completed"
    },
    "tags": []
   },
   "outputs": [],
   "source": [
    "#hide\n",
    "import matplotlib.pyplot as plt\n",
    "import numpy as np\n",
    "import pandas as pd\n",
    "import seaborn as sns\n",
    "import matplotlib.pyplot as plt \n",
    "import matplotlib.dates as mdates\n",
    "import matplotlib.pyplot as plt"
   ]
  },
  {
   "cell_type": "code",
   "execution_count": 5,
   "id": "superior-blanket",
   "metadata": {
    "execution": {
     "iopub.execute_input": "2021-10-07T02:04:09.803498Z",
     "iopub.status.busy": "2021-10-07T02:04:09.802793Z",
     "iopub.status.idle": "2021-10-07T02:04:21.875218Z",
     "shell.execute_reply": "2021-10-07T02:04:21.875678Z"
    },
    "papermill": {
     "duration": 12.095374,
     "end_time": "2021-10-07T02:04:21.875836",
     "exception": false,
     "start_time": "2021-10-07T02:04:09.780462",
     "status": "completed"
    },
    "tags": []
   },
   "outputs": [
    {
     "name": "stderr",
     "output_type": "stream",
     "text": [
      "/home/runner/work/corr-app/corr-app/_notebooks/scripts/read_data.py:187: SettingWithCopyWarning:\n",
      "\n",
      "\n",
      "A value is trying to be set on a copy of a slice from a DataFrame.\n",
      "Try using .loc[row_indexer,col_indexer] = value instead\n",
      "\n",
      "See the caveats in the documentation: https://pandas.pydata.org/pandas-docs/stable/user_guide/indexing.html#returning-a-view-versus-a-copy\n",
      "\n"
     ]
    },
    {
     "name": "stderr",
     "output_type": "stream",
     "text": [
      "/home/runner/work/corr-app/corr-app/_notebooks/scripts/read_data.py:215: SettingWithCopyWarning:\n",
      "\n",
      "\n",
      "A value is trying to be set on a copy of a slice from a DataFrame.\n",
      "Try using .loc[row_indexer,col_indexer] = value instead\n",
      "\n",
      "See the caveats in the documentation: https://pandas.pydata.org/pandas-docs/stable/user_guide/indexing.html#returning-a-view-versus-a-copy\n",
      "\n"
     ]
    }
   ],
   "source": [
    "#hide\n",
    "df_all = read_api()\n",
    "#df_all = df_all.drop(['SP500', 'XAU', 'ETH', 'BTC'], axis=1)\n",
    "\n"
   ]
  },
  {
   "cell_type": "code",
   "execution_count": 6,
   "id": "mature-alert",
   "metadata": {
    "execution": {
     "iopub.execute_input": "2021-10-07T02:04:21.907350Z",
     "iopub.status.busy": "2021-10-07T02:04:21.906543Z",
     "iopub.status.idle": "2021-10-07T02:04:21.941746Z",
     "shell.execute_reply": "2021-10-07T02:04:21.942357Z"
    },
    "papermill": {
     "duration": 0.053017,
     "end_time": "2021-10-07T02:04:21.942559",
     "exception": false,
     "start_time": "2021-10-07T02:04:21.889542",
     "status": "completed"
    },
    "tags": []
   },
   "outputs": [],
   "source": [
    "#hide_input\n",
    "sum_corr = df_all.corr().sum().sort_values(ascending=True).index.values\n",
    "#df_all[sum_corr].corr()"
   ]
  },
  {
   "cell_type": "markdown",
   "id": "complex-syndicate",
   "metadata": {
    "papermill": {
     "duration": 0.013286,
     "end_time": "2021-10-07T02:04:21.969920",
     "exception": false,
     "start_time": "2021-10-07T02:04:21.956634",
     "status": "completed"
    },
    "tags": []
   },
   "source": [
    "## Išplėstinė koreliacijų matrica. "
   ]
  },
  {
   "cell_type": "code",
   "execution_count": 7,
   "id": "atomic-omaha",
   "metadata": {
    "execution": {
     "iopub.execute_input": "2021-10-07T02:04:22.001335Z",
     "iopub.status.busy": "2021-10-07T02:04:21.999834Z",
     "iopub.status.idle": "2021-10-07T02:04:23.727694Z",
     "shell.execute_reply": "2021-10-07T02:04:23.727148Z"
    },
    "papermill": {
     "duration": 1.744775,
     "end_time": "2021-10-07T02:04:23.727850",
     "exception": false,
     "start_time": "2021-10-07T02:04:21.983075",
     "status": "completed"
    },
    "tags": []
   },
   "outputs": [
    {
     "data": {
      "image/png": "[encoded data removed]",
      "text/plain": [
       "<Figure size 1080x792 with 2 Axes>"
      ]
     },
     "metadata": {
      "needs_background": "light"
     },
     "output_type": "display_data"
    }
   ],
   "source": [
    "#hide_input\n",
    "plt.figure(figsize=(15, 11))\n",
    "sns.heatmap(df_all[sum_corr].corr(), annot=True, cmap=\"cubehelix\") \n",
    "sns.set(font_scale=1.25)\n",
    "plt.savefig('corr_matrix.png', format='eps')"
   ]
  },
  {
   "cell_type": "code",
   "execution_count": 8,
   "id": "arbitrary-sullivan",
   "metadata": {
    "execution": {
     "iopub.execute_input": "2021-10-07T02:04:23.768429Z",
     "iopub.status.busy": "2021-10-07T02:04:23.767755Z",
     "iopub.status.idle": "2021-10-07T02:04:23.799422Z",
     "shell.execute_reply": "2021-10-07T02:04:23.799981Z"
    },
    "papermill": {
     "duration": 0.054185,
     "end_time": "2021-10-07T02:04:23.800170",
     "exception": false,
     "start_time": "2021-10-07T02:04:23.745985",
     "status": "completed"
    },
    "tags": []
   },
   "outputs": [],
   "source": [
    "#hide\n",
    "#df_all_mrk = read_api()"
   ]
  },
  {
   "cell_type": "code",
   "execution_count": 9,
   "id": "delayed-adapter",
   "metadata": {
    "execution": {
     "iopub.execute_input": "2021-10-07T02:04:23.840811Z",
     "iopub.status.busy": "2021-10-07T02:04:23.840119Z",
     "iopub.status.idle": "2021-10-07T02:04:23.880381Z",
     "shell.execute_reply": "2021-10-07T02:04:23.879790Z"
    },
    "papermill": {
     "duration": 0.062067,
     "end_time": "2021-10-07T02:04:23.880567",
     "exception": false,
     "start_time": "2021-10-07T02:04:23.818500",
     "status": "completed"
    },
    "tags": []
   },
   "outputs": [],
   "source": [
    "#hide\n",
    "#Koreliacijų koeficientai"
   ]
  },
  {
   "cell_type": "code",
   "execution_count": 10,
   "id": "seeing-celebration",
   "metadata": {
    "execution": {
     "iopub.execute_input": "2021-10-07T02:04:23.919220Z",
     "iopub.status.busy": "2021-10-07T02:04:23.918502Z",
     "iopub.status.idle": "2021-10-07T02:04:23.953592Z",
     "shell.execute_reply": "2021-10-07T02:04:23.953071Z"
    },
    "papermill": {
     "duration": 0.055384,
     "end_time": "2021-10-07T02:04:23.953731",
     "exception": false,
     "start_time": "2021-10-07T02:04:23.898347",
     "status": "completed"
    },
    "tags": []
   },
   "outputs": [],
   "source": [
    "#hide_input\n",
    "#sum_corr = df_all_mrk.corr().sum().sort_values(ascending=True).index.values\n",
    "#df_all_mrk[sum_corr].corr()"
   ]
  },
  {
   "cell_type": "code",
   "execution_count": 11,
   "id": "other-painting",
   "metadata": {
    "execution": {
     "iopub.execute_input": "2021-10-07T02:04:23.991999Z",
     "iopub.status.busy": "2021-10-07T02:04:23.991297Z",
     "iopub.status.idle": "2021-10-07T02:04:24.023225Z",
     "shell.execute_reply": "2021-10-07T02:04:24.022705Z"
    },
    "papermill": {
     "duration": 0.053504,
     "end_time": "2021-10-07T02:04:24.023365",
     "exception": false,
     "start_time": "2021-10-07T02:04:23.969861",
     "status": "completed"
    },
    "tags": []
   },
   "outputs": [],
   "source": [
    "#hide\n",
    "#Koreliacijos matrica. "
   ]
  },
  {
   "cell_type": "code",
   "execution_count": 12,
   "id": "modular-magnitude",
   "metadata": {
    "execution": {
     "iopub.execute_input": "2021-10-07T02:04:24.063151Z",
     "iopub.status.busy": "2021-10-07T02:04:24.062442Z",
     "iopub.status.idle": "2021-10-07T02:04:24.094895Z",
     "shell.execute_reply": "2021-10-07T02:04:24.094311Z"
    },
    "papermill": {
     "duration": 0.054128,
     "end_time": "2021-10-07T02:04:24.095061",
     "exception": false,
     "start_time": "2021-10-07T02:04:24.040933",
     "status": "completed"
    },
    "tags": []
   },
   "outputs": [],
   "source": [
    "#hide_input\n",
    "#plt.figure(figsize=(15, 8))\n",
    "#sns.heatmap(df_all_mrk[sum_corr].corr(), annot=True, cmap=\"BrBG\");\n",
    "#plt.savefig('corr_matrix_all.eps', format='eps')"
   ]
  },
  {
   "cell_type": "code",
   "execution_count": null,
   "id": "original-senator",
   "metadata": {
    "papermill": {
     "duration": 0.01609,
     "end_time": "2021-10-07T02:04:24.129132",
     "exception": false,
     "start_time": "2021-10-07T02:04:24.113042",
     "status": "completed"
    },
    "tags": []
   },
   "outputs": [],
   "source": []
  },
  {
   "cell_type": "code",
   "execution_count": null,
   "id": "saving-secretariat",
   "metadata": {
    "papermill": {
     "duration": 0.017903,
     "end_time": "2021-10-07T02:04:24.164412",
     "exception": false,
     "start_time": "2021-10-07T02:04:24.146509",
     "status": "completed"
    },
    "tags": []
   },
   "outputs": [],
   "source": []
  }
 ],
 "metadata": {
  "kernelspec": {
   "display_name": "Python 3",
   "language": "python",
   "name": "python3"
  },
  "language_info": {
   "codemirror_mode": {
    "name": "ipython",
    "version": 3
   },
   "file_extension": ".py",
   "mimetype": "text/x-python",
   "name": "python",
   "nbconvert_exporter": "python",
   "pygments_lexer": "ipython3",
   "version": "3.6.15"
  },
  "papermill": {
   "default_parameters": {},
   "duration": 18.788501,
   "end_time": "2021-10-07T02:04:24.690961",
   "environment_variables": {},
   "exception": null,
   "input_path": "App-Correlation_charts.ipynb",
   "output_path": "App-Correlation_charts.ipynb",
   "parameters": {},
   "start_time": "2021-10-07T02:04:05.902460",
   "version": "2.2.2"
  }
 },
 "nbformat": 4,
 "nbformat_minor": 5
}