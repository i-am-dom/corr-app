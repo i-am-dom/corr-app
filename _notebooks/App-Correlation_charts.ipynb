{
 "cells": [
  {
   "cell_type": "markdown",
   "id": "touched-facility",
   "metadata": {
    "papermill": {
     "duration": 0.015387,
     "end_time": "2022-02-28T02:06:41.800458",
     "exception": false,
     "start_time": "2022-02-28T02:06:41.785071",
     "status": "completed"
    },
    "tags": []
   },
   "source": [
    "# Koreliacijų matrica\n",
    "> Išplėstinė koreliacijų matrica. \n",
    "\n",
    "- toc: true \n",
    "- badges: true\n",
    "- comments: false\n",
    "- categories: [Dominykas Tautkus]\n",
    "- image: images/matrix.png"
   ]
  },
  {
   "cell_type": "code",
   "execution_count": null,
   "id": "premium-weekend",
   "metadata": {
    "papermill": {
     "duration": 0.010731,
     "end_time": "2022-02-28T02:06:41.823800",
     "exception": false,
     "start_time": "2022-02-28T02:06:41.813069",
     "status": "completed"
    },
    "tags": []
   },
   "outputs": [],
   "source": []
  },
  {
   "cell_type": "code",
   "execution_count": 1,
   "id": "vertical-rebate",
   "metadata": {
    "execution": {
     "iopub.execute_input": "2022-02-28T02:06:41.856156Z",
     "iopub.status.busy": "2022-02-28T02:06:41.855606Z",
     "iopub.status.idle": "2022-02-28T02:06:41.866103Z",
     "shell.execute_reply": "2022-02-28T02:06:41.866492Z"
    },
    "papermill": {
     "duration": 0.03218,
     "end_time": "2022-02-28T02:06:41.866638",
     "exception": false,
     "start_time": "2022-02-28T02:06:41.834458",
     "status": "completed"
    },
    "tags": []
   },
   "outputs": [],
   "source": [
    "#hide\n",
    "%load_ext autoreload\n",
    "%autoreload 2"
   ]
  },
  {
   "cell_type": "code",
   "execution_count": 2,
   "id": "overall-advancement",
   "metadata": {
    "execution": {
     "iopub.execute_input": "2022-02-28T02:06:41.891884Z",
     "iopub.status.busy": "2022-02-28T02:06:41.891332Z",
     "iopub.status.idle": "2022-02-28T02:06:43.037397Z",
     "shell.execute_reply": "2022-02-28T02:06:43.036874Z"
    },
    "papermill": {
     "duration": 1.160065,
     "end_time": "2022-02-28T02:06:43.037530",
     "exception": false,
     "start_time": "2022-02-28T02:06:41.877465",
     "status": "completed"
    },
    "tags": []
   },
   "outputs": [],
   "source": [
    "#hide\n",
    "from scripts.read_data import read_api\n",
    "from IPython.display import HTML\n",
    "import plotly.graph_objects as go\n"
   ]
  },
  {
   "cell_type": "code",
   "execution_count": 3,
   "id": "light-crazy",
   "metadata": {
    "execution": {
     "iopub.execute_input": "2022-02-28T02:06:43.064689Z",
     "iopub.status.busy": "2022-02-28T02:06:43.064072Z",
     "iopub.status.idle": "2022-02-28T02:06:43.086348Z",
     "shell.execute_reply": "2022-02-28T02:06:43.085758Z"
    },
    "papermill": {
     "duration": 0.037666,
     "end_time": "2022-02-28T02:06:43.086471",
     "exception": false,
     "start_time": "2022-02-28T02:06:43.048805",
     "status": "completed"
    },
    "tags": []
   },
   "outputs": [],
   "source": [
    "#hide\n",
    "### ICO koreliacija"
   ]
  },
  {
   "cell_type": "code",
   "execution_count": 4,
   "id": "likely-bahrain",
   "metadata": {
    "execution": {
     "iopub.execute_input": "2022-02-28T02:06:43.114171Z",
     "iopub.status.busy": "2022-02-28T02:06:43.113592Z",
     "iopub.status.idle": "2022-02-28T02:06:43.984652Z",
     "shell.execute_reply": "2022-02-28T02:06:43.983756Z"
    },
    "papermill": {
     "duration": 0.887212,
     "end_time": "2022-02-28T02:06:43.984794",
     "exception": false,
     "start_time": "2022-02-28T02:06:43.097582",
     "status": "completed"
    },
    "tags": []
   },
   "outputs": [],
   "source": [
    "#hide\n",
    "import matplotlib.pyplot as plt\n",
    "import numpy as np\n",
    "import pandas as pd\n",
    "import seaborn as sns\n",
    "import matplotlib.pyplot as plt \n",
    "import matplotlib.dates as mdates\n",
    "import matplotlib.pyplot as plt"
   ]
  },
  {
   "cell_type": "code",
   "execution_count": 5,
   "id": "superior-blanket",
   "metadata": {
    "execution": {
     "iopub.execute_input": "2022-02-28T02:06:44.016201Z",
     "iopub.status.busy": "2022-02-28T02:06:44.015679Z",
     "iopub.status.idle": "2022-02-28T02:06:57.201731Z",
     "shell.execute_reply": "2022-02-28T02:06:57.202185Z"
    },
    "papermill": {
     "duration": 13.205587,
     "end_time": "2022-02-28T02:06:57.202337",
     "exception": false,
     "start_time": "2022-02-28T02:06:43.996750",
     "status": "completed"
    },
    "tags": []
   },
   "outputs": [
    {
     "name": "stderr",
     "output_type": "stream",
     "text": [
      "/home/runner/work/corr-app/corr-app/_notebooks/scripts/read_data.py:187: SettingWithCopyWarning:\n",
      "\n",
      "\n",
      "A value is trying to be set on a copy of a slice from a DataFrame.\n",
      "Try using .loc[row_indexer,col_indexer] = value instead\n",
      "\n",
      "See the caveats in the documentation: https://pandas.pydata.org/pandas-docs/stable/user_guide/indexing.html#returning-a-view-versus-a-copy\n",
      "\n"
     ]
    },
    {
     "name": "stderr",
     "output_type": "stream",
     "text": [
      "/home/runner/work/corr-app/corr-app/_notebooks/scripts/read_data.py:215: SettingWithCopyWarning:\n",
      "\n",
      "\n",
      "A value is trying to be set on a copy of a slice from a DataFrame.\n",
      "Try using .loc[row_indexer,col_indexer] = value instead\n",
      "\n",
      "See the caveats in the documentation: https://pandas.pydata.org/pandas-docs/stable/user_guide/indexing.html#returning-a-view-versus-a-copy\n",
      "\n"
     ]
    }
   ],
   "source": [
    "#hide\n",
    "df_all = read_api()\n",
    "#df_all = df_all.drop(['SP500', 'XAU', 'ETH', 'BTC'], axis=1)\n",
    "\n"
   ]
  },
  {
   "cell_type": "code",
   "execution_count": 6,
   "id": "mature-alert",
   "metadata": {
    "execution": {
     "iopub.execute_input": "2022-02-28T02:06:57.234056Z",
     "iopub.status.busy": "2022-02-28T02:06:57.233477Z",
     "iopub.status.idle": "2022-02-28T02:06:57.263945Z",
     "shell.execute_reply": "2022-02-28T02:06:57.263428Z"
    },
    "papermill": {
     "duration": 0.049652,
     "end_time": "2022-02-28T02:06:57.264071",
     "exception": false,
     "start_time": "2022-02-28T02:06:57.214419",
     "status": "completed"
    },
    "tags": []
   },
   "outputs": [],
   "source": [
    "#hide_input\n",
    "sum_corr = df_all.corr().sum().sort_values(ascending=True).index.values\n",
    "#df_all[sum_corr].corr()"
   ]
  },
  {
   "cell_type": "markdown",
   "id": "complex-syndicate",
   "metadata": {
    "papermill": {
     "duration": 0.011372,
     "end_time": "2022-02-28T02:06:57.287024",
     "exception": false,
     "start_time": "2022-02-28T02:06:57.275652",
     "status": "completed"
    },
    "tags": []
   },
   "source": [
    "## Išplėstinė koreliacijų matrica. "
   ]
  },
  {
   "cell_type": "code",
   "execution_count": 7,
   "id": "atomic-omaha",
   "metadata": {
    "execution": {
     "iopub.execute_input": "2022-02-28T02:06:57.320537Z",
     "iopub.status.busy": "2022-02-28T02:06:57.313087Z",
     "iopub.status.idle": "2022-02-28T02:06:58.462360Z",
     "shell.execute_reply": "2022-02-28T02:06:58.461962Z"
    },
    "papermill": {
     "duration": 1.164147,
     "end_time": "2022-02-28T02:06:58.462477",
     "exception": false,
     "start_time": "2022-02-28T02:06:57.298330",
     "status": "completed"
    },
    "tags": []
   },
   "outputs": [
    {
     "data": {
      "image/png": "[encoded data removed]",
      "text/plain": [
       "<Figure size 1080x792 with 2 Axes>"
      ]
     },
     "metadata": {
      "needs_background": "light"
     },
     "output_type": "display_data"
    }
   ],
   "source": [
    "#hide_input\n",
    "plt.figure(figsize=(15, 11))\n",
    "sns.heatmap(df_all[sum_corr].corr(), annot=True, cmap=\"cubehelix\") \n",
    "sns.set(font_scale=1.25)\n",
    "plt.savefig('corr_matrix.png', format='eps')"
   ]
  },
  {
   "cell_type": "code",
   "execution_count": 8,
   "id": "arbitrary-sullivan",
   "metadata": {
    "execution": {
     "iopub.execute_input": "2022-02-28T02:06:58.493329Z",
     "iopub.status.busy": "2022-02-28T02:06:58.492852Z",
     "iopub.status.idle": "2022-02-28T02:06:58.517323Z",
     "shell.execute_reply": "2022-02-28T02:06:58.516893Z"
    },
    "papermill": {
     "duration": 0.042769,
     "end_time": "2022-02-28T02:06:58.517436",
     "exception": false,
     "start_time": "2022-02-28T02:06:58.474667",
     "status": "completed"
    },
    "tags": []
   },
   "outputs": [],
   "source": [
    "#hide\n",
    "#df_all_mrk = read_api()"
   ]
  },
  {
   "cell_type": "code",
   "execution_count": 9,
   "id": "delayed-adapter",
   "metadata": {
    "execution": {
     "iopub.execute_input": "2022-02-28T02:06:58.549462Z",
     "iopub.status.busy": "2022-02-28T02:06:58.548990Z",
     "iopub.status.idle": "2022-02-28T02:06:58.572634Z",
     "shell.execute_reply": "2022-02-28T02:06:58.572264Z"
    },
    "papermill": {
     "duration": 0.042967,
     "end_time": "2022-02-28T02:06:58.572740",
     "exception": false,
     "start_time": "2022-02-28T02:06:58.529773",
     "status": "completed"
    },
    "tags": []
   },
   "outputs": [],
   "source": [
    "#hide\n",
    "#Koreliacijų koeficientai"
   ]
  },
  {
   "cell_type": "code",
   "execution_count": 10,
   "id": "seeing-celebration",
   "metadata": {
    "execution": {
     "iopub.execute_input": "2022-02-28T02:06:58.608136Z",
     "iopub.status.busy": "2022-02-28T02:06:58.606407Z",
     "iopub.status.idle": "2022-02-28T02:06:58.630097Z",
     "shell.execute_reply": "2022-02-28T02:06:58.630447Z"
    },
    "papermill": {
     "duration": 0.044878,
     "end_time": "2022-02-28T02:06:58.630573",
     "exception": false,
     "start_time": "2022-02-28T02:06:58.585695",
     "status": "completed"
    },
    "tags": []
   },
   "outputs": [],
   "source": [
    "#hide_input\n",
    "#sum_corr = df_all_mrk.corr().sum().sort_values(ascending=True).index.values\n",
    "#df_all_mrk[sum_corr].corr()"
   ]
  },
  {
   "cell_type": "code",
   "execution_count": 11,
   "id": "other-painting",
   "metadata": {
    "execution": {
     "iopub.execute_input": "2022-02-28T02:06:58.676143Z",
     "iopub.status.busy": "2022-02-28T02:06:58.674903Z",
     "iopub.status.idle": "2022-02-28T02:06:58.692206Z",
     "shell.execute_reply": "2022-02-28T02:06:58.691537Z"
    },
    "papermill": {
     "duration": 0.049722,
     "end_time": "2022-02-28T02:06:58.692324",
     "exception": false,
     "start_time": "2022-02-28T02:06:58.642602",
     "status": "completed"
    },
    "tags": []
   },
   "outputs": [],
   "source": [
    "#hide\n",
    "#Koreliacijos matrica. "
   ]
  },
  {
   "cell_type": "code",
   "execution_count": 12,
   "id": "modular-magnitude",
   "metadata": {
    "execution": {
     "iopub.execute_input": "2022-02-28T02:06:58.726390Z",
     "iopub.status.busy": "2022-02-28T02:06:58.720004Z",
     "iopub.status.idle": "2022-02-28T02:06:58.748259Z",
     "shell.execute_reply": "2022-02-28T02:06:58.747494Z"
    },
    "papermill": {
     "duration": 0.043878,
     "end_time": "2022-02-28T02:06:58.748395",
     "exception": false,
     "start_time": "2022-02-28T02:06:58.704517",
     "status": "completed"
    },
    "tags": []
   },
   "outputs": [],
   "source": [
    "#hide_input\n",
    "#plt.figure(figsize=(15, 8))\n",
    "#sns.heatmap(df_all_mrk[sum_corr].corr(), annot=True, cmap=\"BrBG\");\n",
    "#plt.savefig('corr_matrix_all.eps', format='eps')"
   ]
  },
  {
   "cell_type": "code",
   "execution_count": null,
   "id": "original-senator",
   "metadata": {
    "papermill": {
     "duration": 0.011803,
     "end_time": "2022-02-28T02:06:58.773739",
     "exception": false,
     "start_time": "2022-02-28T02:06:58.761936",
     "status": "completed"
    },
    "tags": []
   },
   "outputs": [],
   "source": []
  },
  {
   "cell_type": "code",
   "execution_count": null,
   "id": "saving-secretariat",
   "metadata": {
    "papermill": {
     "duration": 0.011864,
     "end_time": "2022-02-28T02:06:58.797381",
     "exception": false,
     "start_time": "2022-02-28T02:06:58.785517",
     "status": "completed"
    },
    "tags": []
   },
   "outputs": [],
   "source": []
  }
 ],
 "metadata": {
  "kernelspec": {
   "display_name": "Python 3",
   "language": "python",
   "name": "python3"
  },
  "language_info": {
   "codemirror_mode": {
    "name": "ipython",
    "version": 3
   },
   "file_extension": ".py",
   "mimetype": "text/x-python",
   "name": "python",
   "nbconvert_exporter": "python",
   "pygments_lexer": "ipython3",
   "version": "3.6.15"
  },
  "papermill": {
   "default_parameters": {},
   "duration": 18.481253,
   "end_time": "2022-02-28T02:06:59.327635",
   "environment_variables": {},
   "exception": null,
   "input_path": "App-Correlation_charts.ipynb",
   "output_path": "App-Correlation_charts.ipynb",
   "parameters": {},
   "start_time": "2022-02-28T02:06:40.846382",
   "version": "2.2.2"
  }
 },
 "nbformat": 4,
 "nbformat_minor": 5
}