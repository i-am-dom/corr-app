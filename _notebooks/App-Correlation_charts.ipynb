{
 "cells": [
  {
   "cell_type": "markdown",
   "id": "touched-facility",
   "metadata": {
    "papermill": {
     "duration": 0.018005,
     "end_time": "2021-10-06T02:00:47.496049",
     "exception": false,
     "start_time": "2021-10-06T02:00:47.478044",
     "status": "completed"
    },
    "tags": []
   },
   "source": [
    "# Koreliacijų matrica\n",
    "> Išplėstinė koreliacijų matrica. \n",
    "\n",
    "- toc: true \n",
    "- badges: true\n",
    "- comments: false\n",
    "- categories: [Dominykas Tautkus]\n",
    "- image: images/matrix.png"
   ]
  },
  {
   "cell_type": "code",
   "execution_count": null,
   "id": "premium-weekend",
   "metadata": {
    "papermill": {
     "duration": 0.014343,
     "end_time": "2021-10-06T02:00:47.524910",
     "exception": false,
     "start_time": "2021-10-06T02:00:47.510567",
     "status": "completed"
    },
    "tags": []
   },
   "outputs": [],
   "source": []
  },
  {
   "cell_type": "code",
   "execution_count": 1,
   "id": "vertical-rebate",
   "metadata": {
    "execution": {
     "iopub.execute_input": "2021-10-06T02:00:47.566489Z",
     "iopub.status.busy": "2021-10-06T02:00:47.565795Z",
     "iopub.status.idle": "2021-10-06T02:00:47.577681Z",
     "shell.execute_reply": "2021-10-06T02:00:47.577005Z"
    },
    "papermill": {
     "duration": 0.039561,
     "end_time": "2021-10-06T02:00:47.577837",
     "exception": false,
     "start_time": "2021-10-06T02:00:47.538276",
     "status": "completed"
    },
    "tags": []
   },
   "outputs": [],
   "source": [
    "#hide\n",
    "%load_ext autoreload\n",
    "%autoreload 2"
   ]
  },
  {
   "cell_type": "code",
   "execution_count": 2,
   "id": "overall-advancement",
   "metadata": {
    "execution": {
     "iopub.execute_input": "2021-10-06T02:00:47.609441Z",
     "iopub.status.busy": "2021-10-06T02:00:47.608774Z",
     "iopub.status.idle": "2021-10-06T02:00:49.179220Z",
     "shell.execute_reply": "2021-10-06T02:00:49.179774Z"
    },
    "papermill": {
     "duration": 1.588722,
     "end_time": "2021-10-06T02:00:49.180003",
     "exception": false,
     "start_time": "2021-10-06T02:00:47.591281",
     "status": "completed"
    },
    "tags": []
   },
   "outputs": [],
   "source": [
    "#hide\n",
    "from scripts.read_data import read_api\n",
    "from IPython.display import HTML\n",
    "import plotly.graph_objects as go\n"
   ]
  },
  {
   "cell_type": "code",
   "execution_count": 3,
   "id": "light-crazy",
   "metadata": {
    "execution": {
     "iopub.execute_input": "2021-10-06T02:00:49.215255Z",
     "iopub.status.busy": "2021-10-06T02:00:49.214513Z",
     "iopub.status.idle": "2021-10-06T02:00:49.241027Z",
     "shell.execute_reply": "2021-10-06T02:00:49.240329Z"
    },
    "papermill": {
     "duration": 0.047377,
     "end_time": "2021-10-06T02:00:49.241179",
     "exception": false,
     "start_time": "2021-10-06T02:00:49.193802",
     "status": "completed"
    },
    "tags": []
   },
   "outputs": [],
   "source": [
    "#hide\n",
    "### ICO koreliacija"
   ]
  },
  {
   "cell_type": "code",
   "execution_count": 4,
   "id": "likely-bahrain",
   "metadata": {
    "execution": {
     "iopub.execute_input": "2021-10-06T02:00:49.275019Z",
     "iopub.status.busy": "2021-10-06T02:00:49.274346Z",
     "iopub.status.idle": "2021-10-06T02:00:50.308577Z",
     "shell.execute_reply": "2021-10-06T02:00:50.309120Z"
    },
    "papermill": {
     "duration": 1.054428,
     "end_time": "2021-10-06T02:00:50.309311",
     "exception": false,
     "start_time": "2021-10-06T02:00:49.254883",
     "status": "completed"
    },
    "tags": []
   },
   "outputs": [],
   "source": [
    "#hide\n",
    "import matplotlib.pyplot as plt\n",
    "import numpy as np\n",
    "import pandas as pd\n",
    "import seaborn as sns\n",
    "import matplotlib.pyplot as plt \n",
    "import matplotlib.dates as mdates\n",
    "import matplotlib.pyplot as plt"
   ]
  },
  {
   "cell_type": "code",
   "execution_count": 5,
   "id": "superior-blanket",
   "metadata": {
    "execution": {
     "iopub.execute_input": "2021-10-06T02:00:50.346930Z",
     "iopub.status.busy": "2021-10-06T02:00:50.346210Z",
     "iopub.status.idle": "2021-10-06T02:01:02.959017Z",
     "shell.execute_reply": "2021-10-06T02:01:02.958393Z"
    },
    "papermill": {
     "duration": 12.635029,
     "end_time": "2021-10-06T02:01:02.959171",
     "exception": false,
     "start_time": "2021-10-06T02:00:50.324142",
     "status": "completed"
    },
    "tags": []
   },
   "outputs": [
    {
     "name": "stderr",
     "output_type": "stream",
     "text": [
      "/home/runner/work/corr-app/corr-app/_notebooks/scripts/read_data.py:187: SettingWithCopyWarning:\n",
      "\n",
      "\n",
      "A value is trying to be set on a copy of a slice from a DataFrame.\n",
      "Try using .loc[row_indexer,col_indexer] = value instead\n",
      "\n",
      "See the caveats in the documentation: https://pandas.pydata.org/pandas-docs/stable/user_guide/indexing.html#returning-a-view-versus-a-copy\n",
      "\n"
     ]
    },
    {
     "name": "stderr",
     "output_type": "stream",
     "text": [
      "/home/runner/work/corr-app/corr-app/_notebooks/scripts/read_data.py:215: SettingWithCopyWarning:\n",
      "\n",
      "\n",
      "A value is trying to be set on a copy of a slice from a DataFrame.\n",
      "Try using .loc[row_indexer,col_indexer] = value instead\n",
      "\n",
      "See the caveats in the documentation: https://pandas.pydata.org/pandas-docs/stable/user_guide/indexing.html#returning-a-view-versus-a-copy\n",
      "\n"
     ]
    }
   ],
   "source": [
    "#hide\n",
    "df_all = read_api()\n",
    "#df_all = df_all.drop(['SP500', 'XAU', 'ETH', 'BTC'], axis=1)\n",
    "\n"
   ]
  },
  {
   "cell_type": "code",
   "execution_count": 6,
   "id": "mature-alert",
   "metadata": {
    "execution": {
     "iopub.execute_input": "2021-10-06T02:01:02.995419Z",
     "iopub.status.busy": "2021-10-06T02:01:02.994750Z",
     "iopub.status.idle": "2021-10-06T02:01:03.029823Z",
     "shell.execute_reply": "2021-10-06T02:01:03.029240Z"
    },
    "papermill": {
     "duration": 0.055359,
     "end_time": "2021-10-06T02:01:03.029981",
     "exception": false,
     "start_time": "2021-10-06T02:01:02.974622",
     "status": "completed"
    },
    "tags": []
   },
   "outputs": [],
   "source": [
    "#hide_input\n",
    "sum_corr = df_all.corr().sum().sort_values(ascending=True).index.values\n",
    "#df_all[sum_corr].corr()"
   ]
  },
  {
   "cell_type": "markdown",
   "id": "complex-syndicate",
   "metadata": {
    "papermill": {
     "duration": 0.014304,
     "end_time": "2021-10-06T02:01:03.058868",
     "exception": false,
     "start_time": "2021-10-06T02:01:03.044564",
     "status": "completed"
    },
    "tags": []
   },
   "source": [
    "## Išplėstinė koreliacijų matrica. "
   ]
  },
  {
   "cell_type": "code",
   "execution_count": 7,
   "id": "atomic-omaha",
   "metadata": {
    "execution": {
     "iopub.execute_input": "2021-10-06T02:01:03.093949Z",
     "iopub.status.busy": "2021-10-06T02:01:03.093143Z",
     "iopub.status.idle": "2021-10-06T02:01:04.830375Z",
     "shell.execute_reply": "2021-10-06T02:01:04.831014Z"
    },
    "papermill": {
     "duration": 1.757285,
     "end_time": "2021-10-06T02:01:04.831187",
     "exception": false,
     "start_time": "2021-10-06T02:01:03.073902",
     "status": "completed"
    },
    "tags": []
   },
   "outputs": [
    {
     "data": {
      "image/png": "[encoded data removed]",
      "text/plain": [
       "<Figure size 1080x792 with 2 Axes>"
      ]
     },
     "metadata": {
      "needs_background": "light"
     },
     "output_type": "display_data"
    }
   ],
   "source": [
    "#hide_input\n",
    "plt.figure(figsize=(15, 11))\n",
    "sns.heatmap(df_all[sum_corr].corr(), annot=True, cmap=\"cubehelix\") \n",
    "sns.set(font_scale=1.25)\n",
    "plt.savefig('corr_matrix.png', format='eps')"
   ]
  },
  {
   "cell_type": "code",
   "execution_count": 8,
   "id": "arbitrary-sullivan",
   "metadata": {
    "execution": {
     "iopub.execute_input": "2021-10-06T02:01:04.868906Z",
     "iopub.status.busy": "2021-10-06T02:01:04.868072Z",
     "iopub.status.idle": "2021-10-06T02:01:04.897555Z",
     "shell.execute_reply": "2021-10-06T02:01:04.898077Z"
    },
    "papermill": {
     "duration": 0.050247,
     "end_time": "2021-10-06T02:01:04.898238",
     "exception": false,
     "start_time": "2021-10-06T02:01:04.847991",
     "status": "completed"
    },
    "tags": []
   },
   "outputs": [],
   "source": [
    "#hide\n",
    "#df_all_mrk = read_api()"
   ]
  },
  {
   "cell_type": "code",
   "execution_count": 9,
   "id": "delayed-adapter",
   "metadata": {
    "execution": {
     "iopub.execute_input": "2021-10-06T02:01:04.946983Z",
     "iopub.status.busy": "2021-10-06T02:01:04.946294Z",
     "iopub.status.idle": "2021-10-06T02:01:04.972807Z",
     "shell.execute_reply": "2021-10-06T02:01:04.972139Z"
    },
    "papermill": {
     "duration": 0.054537,
     "end_time": "2021-10-06T02:01:04.972956",
     "exception": false,
     "start_time": "2021-10-06T02:01:04.918419",
     "status": "completed"
    },
    "tags": []
   },
   "outputs": [],
   "source": [
    "#hide\n",
    "#Koreliacijų koeficientai"
   ]
  },
  {
   "cell_type": "code",
   "execution_count": 10,
   "id": "seeing-celebration",
   "metadata": {
    "execution": {
     "iopub.execute_input": "2021-10-06T02:01:05.044088Z",
     "iopub.status.busy": "2021-10-06T02:01:05.023362Z",
     "iopub.status.idle": "2021-10-06T02:01:05.053761Z",
     "shell.execute_reply": "2021-10-06T02:01:05.054315Z"
    },
    "papermill": {
     "duration": 0.064548,
     "end_time": "2021-10-06T02:01:05.054490",
     "exception": false,
     "start_time": "2021-10-06T02:01:04.989942",
     "status": "completed"
    },
    "tags": []
   },
   "outputs": [],
   "source": [
    "#hide_input\n",
    "#sum_corr = df_all_mrk.corr().sum().sort_values(ascending=True).index.values\n",
    "#df_all_mrk[sum_corr].corr()"
   ]
  },
  {
   "cell_type": "code",
   "execution_count": 11,
   "id": "other-painting",
   "metadata": {
    "execution": {
     "iopub.execute_input": "2021-10-06T02:01:05.098789Z",
     "iopub.status.busy": "2021-10-06T02:01:05.091689Z",
     "iopub.status.idle": "2021-10-06T02:01:05.122934Z",
     "shell.execute_reply": "2021-10-06T02:01:05.122342Z"
    },
    "papermill": {
     "duration": 0.051321,
     "end_time": "2021-10-06T02:01:05.123085",
     "exception": false,
     "start_time": "2021-10-06T02:01:05.071764",
     "status": "completed"
    },
    "tags": []
   },
   "outputs": [],
   "source": [
    "#hide\n",
    "#Koreliacijos matrica. "
   ]
  },
  {
   "cell_type": "code",
   "execution_count": 12,
   "id": "modular-magnitude",
   "metadata": {
    "execution": {
     "iopub.execute_input": "2021-10-06T02:01:05.160814Z",
     "iopub.status.busy": "2021-10-06T02:01:05.160148Z",
     "iopub.status.idle": "2021-10-06T02:01:05.193963Z",
     "shell.execute_reply": "2021-10-06T02:01:05.193377Z"
    },
    "papermill": {
     "duration": 0.054404,
     "end_time": "2021-10-06T02:01:05.194149",
     "exception": false,
     "start_time": "2021-10-06T02:01:05.139745",
     "status": "completed"
    },
    "tags": []
   },
   "outputs": [],
   "source": [
    "#hide_input\n",
    "#plt.figure(figsize=(15, 8))\n",
    "#sns.heatmap(df_all_mrk[sum_corr].corr(), annot=True, cmap=\"BrBG\");\n",
    "#plt.savefig('corr_matrix_all.eps', format='eps')"
   ]
  },
  {
   "cell_type": "code",
   "execution_count": null,
   "id": "original-senator",
   "metadata": {
    "papermill": {
     "duration": 0.016945,
     "end_time": "2021-10-06T02:01:05.227703",
     "exception": false,
     "start_time": "2021-10-06T02:01:05.210758",
     "status": "completed"
    },
    "tags": []
   },
   "outputs": [],
   "source": []
  },
  {
   "cell_type": "code",
   "execution_count": null,
   "id": "saving-secretariat",
   "metadata": {
    "papermill": {
     "duration": 0.016702,
     "end_time": "2021-10-06T02:01:05.261057",
     "exception": false,
     "start_time": "2021-10-06T02:01:05.244355",
     "status": "completed"
    },
    "tags": []
   },
   "outputs": [],
   "source": []
  }
 ],
 "metadata": {
  "kernelspec": {
   "display_name": "Python 3",
   "language": "python",
   "name": "python3"
  },
  "language_info": {
   "codemirror_mode": {
    "name": "ipython",
    "version": 3
   },
   "file_extension": ".py",
   "mimetype": "text/x-python",
   "name": "python",
   "nbconvert_exporter": "python",
   "pygments_lexer": "ipython3",
   "version": "3.6.15"
  },
  "papermill": {
   "default_parameters": {},
   "duration": 19.559999,
   "end_time": "2021-10-06T02:01:05.889024",
   "environment_variables": {},
   "exception": null,
   "input_path": "App-Correlation_charts.ipynb",
   "output_path": "App-Correlation_charts.ipynb",
   "parameters": {},
   "start_time": "2021-10-06T02:00:46.329025",
   "version": "2.2.2"
  }
 },
 "nbformat": 4,
 "nbformat_minor": 5
}