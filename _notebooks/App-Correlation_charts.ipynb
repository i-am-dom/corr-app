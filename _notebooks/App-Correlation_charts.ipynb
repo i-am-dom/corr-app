{
 "cells": [
  {
   "cell_type": "markdown",
   "id": "touched-facility",
   "metadata": {
    "papermill": {
     "duration": 0.017912,
     "end_time": "2022-11-02T03:22:58.029196",
     "exception": false,
     "start_time": "2022-11-02T03:22:58.011284",
     "status": "completed"
    },
    "tags": []
   },
   "source": [
    "# Koreliacijų matrica\n",
    "> Išplėstinė koreliacijų matrica. \n",
    "\n",
    "- toc: true \n",
    "- badges: true\n",
    "- comments: false\n",
    "- categories: [Dominykas Tautkus]\n",
    "- image: images/matrix.png"
   ]
  },
  {
   "cell_type": "code",
   "execution_count": null,
   "id": "premium-weekend",
   "metadata": {
    "papermill": {
     "duration": 0.01233,
     "end_time": "2022-11-02T03:22:58.054803",
     "exception": false,
     "start_time": "2022-11-02T03:22:58.042473",
     "status": "completed"
    },
    "tags": []
   },
   "outputs": [],
   "source": []
  },
  {
   "cell_type": "code",
   "execution_count": 1,
   "id": "vertical-rebate",
   "metadata": {
    "execution": {
     "iopub.execute_input": "2022-11-02T03:22:58.093796Z",
     "iopub.status.busy": "2022-11-02T03:22:58.092993Z",
     "iopub.status.idle": "2022-11-02T03:22:58.106782Z",
     "shell.execute_reply": "2022-11-02T03:22:58.106206Z"
    },
    "papermill": {
     "duration": 0.039956,
     "end_time": "2022-11-02T03:22:58.106916",
     "exception": false,
     "start_time": "2022-11-02T03:22:58.066960",
     "status": "completed"
    },
    "tags": []
   },
   "outputs": [],
   "source": [
    "#hide\n",
    "%load_ext autoreload\n",
    "%autoreload 2"
   ]
  },
  {
   "cell_type": "code",
   "execution_count": 2,
   "id": "overall-advancement",
   "metadata": {
    "execution": {
     "iopub.execute_input": "2022-11-02T03:22:58.137793Z",
     "iopub.status.busy": "2022-11-02T03:22:58.137118Z",
     "iopub.status.idle": "2022-11-02T03:22:59.986527Z",
     "shell.execute_reply": "2022-11-02T03:22:59.985869Z"
    },
    "papermill": {
     "duration": 1.866236,
     "end_time": "2022-11-02T03:22:59.986663",
     "exception": false,
     "start_time": "2022-11-02T03:22:58.120427",
     "status": "completed"
    },
    "tags": []
   },
   "outputs": [],
   "source": [
    "#hide\n",
    "from scripts.read_data import read_api\n",
    "from IPython.display import HTML\n",
    "import plotly.graph_objects as go\n"
   ]
  },
  {
   "cell_type": "code",
   "execution_count": 3,
   "id": "light-crazy",
   "metadata": {
    "execution": {
     "iopub.execute_input": "2022-11-02T03:23:00.015631Z",
     "iopub.status.busy": "2022-11-02T03:23:00.014930Z",
     "iopub.status.idle": "2022-11-02T03:23:00.042205Z",
     "shell.execute_reply": "2022-11-02T03:23:00.041517Z"
    },
    "papermill": {
     "duration": 0.043154,
     "end_time": "2022-11-02T03:23:00.042355",
     "exception": false,
     "start_time": "2022-11-02T03:22:59.999201",
     "status": "completed"
    },
    "tags": []
   },
   "outputs": [],
   "source": [
    "#hide\n",
    "### ICO koreliacija"
   ]
  },
  {
   "cell_type": "code",
   "execution_count": 4,
   "id": "likely-bahrain",
   "metadata": {
    "execution": {
     "iopub.execute_input": "2022-11-02T03:23:00.075511Z",
     "iopub.status.busy": "2022-11-02T03:23:00.074569Z",
     "iopub.status.idle": "2022-11-02T03:23:01.088035Z",
     "shell.execute_reply": "2022-11-02T03:23:01.086716Z"
    },
    "papermill": {
     "duration": 1.03164,
     "end_time": "2022-11-02T03:23:01.088185",
     "exception": false,
     "start_time": "2022-11-02T03:23:00.056545",
     "status": "completed"
    },
    "tags": []
   },
   "outputs": [],
   "source": [
    "#hide\n",
    "import matplotlib.pyplot as plt\n",
    "import numpy as np\n",
    "import pandas as pd\n",
    "import seaborn as sns\n",
    "import matplotlib.pyplot as plt \n",
    "import matplotlib.dates as mdates\n",
    "import matplotlib.pyplot as plt"
   ]
  },
  {
   "cell_type": "code",
   "execution_count": 5,
   "id": "superior-blanket",
   "metadata": {
    "execution": {
     "iopub.execute_input": "2022-11-02T03:23:01.118649Z",
     "iopub.status.busy": "2022-11-02T03:23:01.117956Z",
     "iopub.status.idle": "2022-11-02T03:23:16.964633Z",
     "shell.execute_reply": "2022-11-02T03:23:16.963616Z"
    },
    "papermill": {
     "duration": 15.863552,
     "end_time": "2022-11-02T03:23:16.964862",
     "exception": false,
     "start_time": "2022-11-02T03:23:01.101310",
     "status": "completed"
    },
    "tags": []
   },
   "outputs": [
    {
     "name": "stderr",
     "output_type": "stream",
     "text": [
      "/home/runner/work/corr-app/corr-app/_notebooks/scripts/read_data.py:187: SettingWithCopyWarning:\n",
      "\n",
      "\n",
      "A value is trying to be set on a copy of a slice from a DataFrame.\n",
      "Try using .loc[row_indexer,col_indexer] = value instead\n",
      "\n",
      "See the caveats in the documentation: https://pandas.pydata.org/pandas-docs/stable/user_guide/indexing.html#returning-a-view-versus-a-copy\n",
      "\n"
     ]
    },
    {
     "name": "stderr",
     "output_type": "stream",
     "text": [
      "/home/runner/work/corr-app/corr-app/_notebooks/scripts/read_data.py:215: SettingWithCopyWarning:\n",
      "\n",
      "\n",
      "A value is trying to be set on a copy of a slice from a DataFrame.\n",
      "Try using .loc[row_indexer,col_indexer] = value instead\n",
      "\n",
      "See the caveats in the documentation: https://pandas.pydata.org/pandas-docs/stable/user_guide/indexing.html#returning-a-view-versus-a-copy\n",
      "\n"
     ]
    }
   ],
   "source": [
    "#hide\n",
    "df_all = read_api()\n",
    "#df_all = df_all.drop(['SP500', 'XAU', 'ETH', 'BTC'], axis=1)\n",
    "\n"
   ]
  },
  {
   "cell_type": "code",
   "execution_count": 6,
   "id": "mature-alert",
   "metadata": {
    "execution": {
     "iopub.execute_input": "2022-11-02T03:23:17.001387Z",
     "iopub.status.busy": "2022-11-02T03:23:17.000666Z",
     "iopub.status.idle": "2022-11-02T03:23:17.035828Z",
     "shell.execute_reply": "2022-11-02T03:23:17.034934Z"
    },
    "papermill": {
     "duration": 0.056162,
     "end_time": "2022-11-02T03:23:17.036038",
     "exception": false,
     "start_time": "2022-11-02T03:23:16.979876",
     "status": "completed"
    },
    "tags": []
   },
   "outputs": [],
   "source": [
    "#hide_input\n",
    "sum_corr = df_all.corr().sum().sort_values(ascending=True).index.values\n",
    "#df_all[sum_corr].corr()"
   ]
  },
  {
   "cell_type": "markdown",
   "id": "complex-syndicate",
   "metadata": {
    "papermill": {
     "duration": 0.013803,
     "end_time": "2022-11-02T03:23:17.064017",
     "exception": false,
     "start_time": "2022-11-02T03:23:17.050214",
     "status": "completed"
    },
    "tags": []
   },
   "source": [
    "## Išplėstinė koreliacijų matrica. "
   ]
  },
  {
   "cell_type": "code",
   "execution_count": 7,
   "id": "atomic-omaha",
   "metadata": {
    "execution": {
     "iopub.execute_input": "2022-11-02T03:23:17.098154Z",
     "iopub.status.busy": "2022-11-02T03:23:17.097322Z",
     "iopub.status.idle": "2022-11-02T03:23:18.567034Z",
     "shell.execute_reply": "2022-11-02T03:23:18.566360Z"
    },
    "papermill": {
     "duration": 1.489425,
     "end_time": "2022-11-02T03:23:18.567166",
     "exception": false,
     "start_time": "2022-11-02T03:23:17.077741",
     "status": "completed"
    },
    "tags": []
   },
   "outputs": [
    {
     "data": {
      "image/png": "[encoded data removed]",
      "text/plain": [
       "<Figure size 1080x792 with 2 Axes>"
      ]
     },
     "metadata": {
      "needs_background": "light"
     },
     "output_type": "display_data"
    }
   ],
   "source": [
    "#hide_input\n",
    "plt.figure(figsize=(15, 11))\n",
    "sns.heatmap(df_all[sum_corr].corr(), annot=True, cmap=\"cubehelix\") \n",
    "sns.set(font_scale=1.25)\n",
    "plt.savefig('corr_matrix.png', format='eps')"
   ]
  },
  {
   "cell_type": "code",
   "execution_count": 8,
   "id": "arbitrary-sullivan",
   "metadata": {
    "execution": {
     "iopub.execute_input": "2022-11-02T03:23:18.643912Z",
     "iopub.status.busy": "2022-11-02T03:23:18.640600Z",
     "iopub.status.idle": "2022-11-02T03:23:18.671789Z",
     "shell.execute_reply": "2022-11-02T03:23:18.671245Z"
    },
    "papermill": {
     "duration": 0.087369,
     "end_time": "2022-11-02T03:23:18.671924",
     "exception": false,
     "start_time": "2022-11-02T03:23:18.584555",
     "status": "completed"
    },
    "tags": []
   },
   "outputs": [],
   "source": [
    "#hide\n",
    "#df_all_mrk = read_api()"
   ]
  },
  {
   "cell_type": "code",
   "execution_count": 9,
   "id": "delayed-adapter",
   "metadata": {
    "execution": {
     "iopub.execute_input": "2022-11-02T03:23:18.777371Z",
     "iopub.status.busy": "2022-11-02T03:23:18.776498Z",
     "iopub.status.idle": "2022-11-02T03:23:18.809747Z",
     "shell.execute_reply": "2022-11-02T03:23:18.810535Z"
    },
    "papermill": {
     "duration": 0.064459,
     "end_time": "2022-11-02T03:23:18.810793",
     "exception": false,
     "start_time": "2022-11-02T03:23:18.746334",
     "status": "completed"
    },
    "tags": []
   },
   "outputs": [],
   "source": [
    "#hide\n",
    "#Koreliacijų koeficientai"
   ]
  },
  {
   "cell_type": "code",
   "execution_count": 10,
   "id": "seeing-celebration",
   "metadata": {
    "execution": {
     "iopub.execute_input": "2022-11-02T03:23:18.881602Z",
     "iopub.status.busy": "2022-11-02T03:23:18.880864Z",
     "iopub.status.idle": "2022-11-02T03:23:18.915810Z",
     "shell.execute_reply": "2022-11-02T03:23:18.916434Z"
    },
    "papermill": {
     "duration": 0.069516,
     "end_time": "2022-11-02T03:23:18.916601",
     "exception": false,
     "start_time": "2022-11-02T03:23:18.847085",
     "status": "completed"
    },
    "tags": []
   },
   "outputs": [],
   "source": [
    "#hide_input\n",
    "#sum_corr = df_all_mrk.corr().sum().sort_values(ascending=True).index.values\n",
    "#df_all_mrk[sum_corr].corr()"
   ]
  },
  {
   "cell_type": "code",
   "execution_count": 11,
   "id": "other-painting",
   "metadata": {
    "execution": {
     "iopub.execute_input": "2022-11-02T03:23:18.995815Z",
     "iopub.status.busy": "2022-11-02T03:23:18.995131Z",
     "iopub.status.idle": "2022-11-02T03:23:19.023177Z",
     "shell.execute_reply": "2022-11-02T03:23:19.022630Z"
    },
    "papermill": {
     "duration": 0.074431,
     "end_time": "2022-11-02T03:23:19.023335",
     "exception": false,
     "start_time": "2022-11-02T03:23:18.948904",
     "status": "completed"
    },
    "tags": []
   },
   "outputs": [],
   "source": [
    "#hide\n",
    "#Koreliacijos matrica. "
   ]
  },
  {
   "cell_type": "code",
   "execution_count": 12,
   "id": "modular-magnitude",
   "metadata": {
    "execution": {
     "iopub.execute_input": "2022-11-02T03:23:19.123557Z",
     "iopub.status.busy": "2022-11-02T03:23:19.122680Z",
     "iopub.status.idle": "2022-11-02T03:23:19.157197Z",
     "shell.execute_reply": "2022-11-02T03:23:19.158031Z"
    },
    "papermill": {
     "duration": 0.115443,
     "end_time": "2022-11-02T03:23:19.158219",
     "exception": false,
     "start_time": "2022-11-02T03:23:19.042776",
     "status": "completed"
    },
    "tags": []
   },
   "outputs": [],
   "source": [
    "#hide_input\n",
    "#plt.figure(figsize=(15, 8))\n",
    "#sns.heatmap(df_all_mrk[sum_corr].corr(), annot=True, cmap=\"BrBG\");\n",
    "#plt.savefig('corr_matrix_all.eps', format='eps')"
   ]
  },
  {
   "cell_type": "code",
   "execution_count": null,
   "id": "original-senator",
   "metadata": {
    "papermill": {
     "duration": 0.038453,
     "end_time": "2022-11-02T03:23:19.229865",
     "exception": false,
     "start_time": "2022-11-02T03:23:19.191412",
     "status": "completed"
    },
    "tags": []
   },
   "outputs": [],
   "source": []
  },
  {
   "cell_type": "code",
   "execution_count": null,
   "id": "saving-secretariat",
   "metadata": {
    "papermill": {
     "duration": 0.051149,
     "end_time": "2022-11-02T03:23:19.331102",
     "exception": false,
     "start_time": "2022-11-02T03:23:19.279953",
     "status": "completed"
    },
    "tags": []
   },
   "outputs": [],
   "source": []
  }
 ],
 "metadata": {
  "kernelspec": {
   "display_name": "Python 3",
   "language": "python",
   "name": "python3"
  },
  "language_info": {
   "codemirror_mode": {
    "name": "ipython",
    "version": 3
   },
   "file_extension": ".py",
   "mimetype": "text/x-python",
   "name": "python",
   "nbconvert_exporter": "python",
   "pygments_lexer": "ipython3",
   "version": "3.6.15"
  },
  "papermill": {
   "default_parameters": {},
   "duration": 23.288955,
   "end_time": "2022-11-02T03:23:20.017214",
   "environment_variables": {},
   "exception": null,
   "input_path": "App-Correlation_charts.ipynb",
   "output_path": "App-Correlation_charts.ipynb",
   "parameters": {},
   "start_time": "2022-11-02T03:22:56.728259",
   "version": "2.2.2"
  }
 },
 "nbformat": 4,
 "nbformat_minor": 5
}