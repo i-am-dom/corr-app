{
 "cells": [
  {
   "cell_type": "markdown",
   "id": "touched-facility",
   "metadata": {
    "papermill": {
     "duration": 0.014444,
     "end_time": "2021-10-18T02:07:26.921037",
     "exception": false,
     "start_time": "2021-10-18T02:07:26.906593",
     "status": "completed"
    },
    "tags": []
   },
   "source": [
    "# Koreliacijų matrica\n",
    "> Išplėstinė koreliacijų matrica. \n",
    "\n",
    "- toc: true \n",
    "- badges: true\n",
    "- comments: false\n",
    "- categories: [Dominykas Tautkus]\n",
    "- image: images/matrix.png"
   ]
  },
  {
   "cell_type": "code",
   "execution_count": null,
   "id": "premium-weekend",
   "metadata": {
    "papermill": {
     "duration": 0.010567,
     "end_time": "2021-10-18T02:07:26.942858",
     "exception": false,
     "start_time": "2021-10-18T02:07:26.932291",
     "status": "completed"
    },
    "tags": []
   },
   "outputs": [],
   "source": []
  },
  {
   "cell_type": "code",
   "execution_count": 1,
   "id": "vertical-rebate",
   "metadata": {
    "execution": {
     "iopub.execute_input": "2021-10-18T02:07:26.974874Z",
     "iopub.status.busy": "2021-10-18T02:07:26.974332Z",
     "iopub.status.idle": "2021-10-18T02:07:26.984080Z",
     "shell.execute_reply": "2021-10-18T02:07:26.984523Z"
    },
    "papermill": {
     "duration": 0.031339,
     "end_time": "2021-10-18T02:07:26.984671",
     "exception": false,
     "start_time": "2021-10-18T02:07:26.953332",
     "status": "completed"
    },
    "tags": []
   },
   "outputs": [],
   "source": [
    "#hide\n",
    "%load_ext autoreload\n",
    "%autoreload 2"
   ]
  },
  {
   "cell_type": "code",
   "execution_count": 2,
   "id": "overall-advancement",
   "metadata": {
    "execution": {
     "iopub.execute_input": "2021-10-18T02:07:27.009583Z",
     "iopub.status.busy": "2021-10-18T02:07:27.009037Z",
     "iopub.status.idle": "2021-10-18T02:07:28.301966Z",
     "shell.execute_reply": "2021-10-18T02:07:28.301418Z"
    },
    "papermill": {
     "duration": 1.306917,
     "end_time": "2021-10-18T02:07:28.302109",
     "exception": false,
     "start_time": "2021-10-18T02:07:26.995192",
     "status": "completed"
    },
    "tags": []
   },
   "outputs": [],
   "source": [
    "#hide\n",
    "from scripts.read_data import read_api\n",
    "from IPython.display import HTML\n",
    "import plotly.graph_objects as go\n"
   ]
  },
  {
   "cell_type": "code",
   "execution_count": 3,
   "id": "light-crazy",
   "metadata": {
    "execution": {
     "iopub.execute_input": "2021-10-18T02:07:28.333952Z",
     "iopub.status.busy": "2021-10-18T02:07:28.331531Z",
     "iopub.status.idle": "2021-10-18T02:07:28.352722Z",
     "shell.execute_reply": "2021-10-18T02:07:28.352278Z"
    },
    "papermill": {
     "duration": 0.039297,
     "end_time": "2021-10-18T02:07:28.352847",
     "exception": false,
     "start_time": "2021-10-18T02:07:28.313550",
     "status": "completed"
    },
    "tags": []
   },
   "outputs": [],
   "source": [
    "#hide\n",
    "### ICO koreliacija"
   ]
  },
  {
   "cell_type": "code",
   "execution_count": 4,
   "id": "likely-bahrain",
   "metadata": {
    "execution": {
     "iopub.execute_input": "2021-10-18T02:07:28.397977Z",
     "iopub.status.busy": "2021-10-18T02:07:28.390007Z",
     "iopub.status.idle": "2021-10-18T02:07:29.189480Z",
     "shell.execute_reply": "2021-10-18T02:07:29.188976Z"
    },
    "papermill": {
     "duration": 0.826246,
     "end_time": "2021-10-18T02:07:29.189701",
     "exception": false,
     "start_time": "2021-10-18T02:07:28.363455",
     "status": "completed"
    },
    "tags": []
   },
   "outputs": [],
   "source": [
    "#hide\n",
    "import matplotlib.pyplot as plt\n",
    "import numpy as np\n",
    "import pandas as pd\n",
    "import seaborn as sns\n",
    "import matplotlib.pyplot as plt \n",
    "import matplotlib.dates as mdates\n",
    "import matplotlib.pyplot as plt"
   ]
  },
  {
   "cell_type": "code",
   "execution_count": 5,
   "id": "superior-blanket",
   "metadata": {
    "execution": {
     "iopub.execute_input": "2021-10-18T02:07:29.219973Z",
     "iopub.status.busy": "2021-10-18T02:07:29.218918Z",
     "iopub.status.idle": "2021-10-18T02:07:40.697717Z",
     "shell.execute_reply": "2021-10-18T02:07:40.697157Z"
    },
    "papermill": {
     "duration": 11.496948,
     "end_time": "2021-10-18T02:07:40.697843",
     "exception": false,
     "start_time": "2021-10-18T02:07:29.200895",
     "status": "completed"
    },
    "tags": []
   },
   "outputs": [
    {
     "name": "stderr",
     "output_type": "stream",
     "text": [
      "/home/runner/work/corr-app/corr-app/_notebooks/scripts/read_data.py:187: SettingWithCopyWarning:\n",
      "\n",
      "\n",
      "A value is trying to be set on a copy of a slice from a DataFrame.\n",
      "Try using .loc[row_indexer,col_indexer] = value instead\n",
      "\n",
      "See the caveats in the documentation: https://pandas.pydata.org/pandas-docs/stable/user_guide/indexing.html#returning-a-view-versus-a-copy\n",
      "\n"
     ]
    },
    {
     "name": "stderr",
     "output_type": "stream",
     "text": [
      "/home/runner/work/corr-app/corr-app/_notebooks/scripts/read_data.py:215: SettingWithCopyWarning:\n",
      "\n",
      "\n",
      "A value is trying to be set on a copy of a slice from a DataFrame.\n",
      "Try using .loc[row_indexer,col_indexer] = value instead\n",
      "\n",
      "See the caveats in the documentation: https://pandas.pydata.org/pandas-docs/stable/user_guide/indexing.html#returning-a-view-versus-a-copy\n",
      "\n"
     ]
    }
   ],
   "source": [
    "#hide\n",
    "df_all = read_api()\n",
    "#df_all = df_all.drop(['SP500', 'XAU', 'ETH', 'BTC'], axis=1)\n",
    "\n"
   ]
  },
  {
   "cell_type": "code",
   "execution_count": 6,
   "id": "mature-alert",
   "metadata": {
    "execution": {
     "iopub.execute_input": "2021-10-18T02:07:40.725099Z",
     "iopub.status.busy": "2021-10-18T02:07:40.724566Z",
     "iopub.status.idle": "2021-10-18T02:07:40.756603Z",
     "shell.execute_reply": "2021-10-18T02:07:40.757060Z"
    },
    "papermill": {
     "duration": 0.047415,
     "end_time": "2021-10-18T02:07:40.757208",
     "exception": false,
     "start_time": "2021-10-18T02:07:40.709793",
     "status": "completed"
    },
    "tags": []
   },
   "outputs": [],
   "source": [
    "#hide_input\n",
    "sum_corr = df_all.corr().sum().sort_values(ascending=True).index.values\n",
    "#df_all[sum_corr].corr()"
   ]
  },
  {
   "cell_type": "markdown",
   "id": "complex-syndicate",
   "metadata": {
    "papermill": {
     "duration": 0.010928,
     "end_time": "2021-10-18T02:07:40.780047",
     "exception": false,
     "start_time": "2021-10-18T02:07:40.769119",
     "status": "completed"
    },
    "tags": []
   },
   "source": [
    "## Išplėstinė koreliacijų matrica. "
   ]
  },
  {
   "cell_type": "code",
   "execution_count": 7,
   "id": "atomic-omaha",
   "metadata": {
    "execution": {
     "iopub.execute_input": "2021-10-18T02:07:40.806120Z",
     "iopub.status.busy": "2021-10-18T02:07:40.805607Z",
     "iopub.status.idle": "2021-10-18T02:07:42.036079Z",
     "shell.execute_reply": "2021-10-18T02:07:42.036503Z"
    },
    "papermill": {
     "duration": 1.24551,
     "end_time": "2021-10-18T02:07:42.036646",
     "exception": false,
     "start_time": "2021-10-18T02:07:40.791136",
     "status": "completed"
    },
    "tags": []
   },
   "outputs": [
    {
     "data": {
      "image/png": "[encoded data removed]",
      "text/plain": [
       "<Figure size 1080x792 with 2 Axes>"
      ]
     },
     "metadata": {
      "needs_background": "light"
     },
     "output_type": "display_data"
    }
   ],
   "source": [
    "#hide_input\n",
    "plt.figure(figsize=(15, 11))\n",
    "sns.heatmap(df_all[sum_corr].corr(), annot=True, cmap=\"cubehelix\") \n",
    "sns.set(font_scale=1.25)\n",
    "plt.savefig('corr_matrix.png', format='eps')"
   ]
  },
  {
   "cell_type": "code",
   "execution_count": 8,
   "id": "arbitrary-sullivan",
   "metadata": {
    "execution": {
     "iopub.execute_input": "2021-10-18T02:07:42.070119Z",
     "iopub.status.busy": "2021-10-18T02:07:42.065981Z",
     "iopub.status.idle": "2021-10-18T02:07:42.094851Z",
     "shell.execute_reply": "2021-10-18T02:07:42.094090Z"
    },
    "papermill": {
     "duration": 0.045207,
     "end_time": "2021-10-18T02:07:42.095224",
     "exception": false,
     "start_time": "2021-10-18T02:07:42.050017",
     "status": "completed"
    },
    "tags": []
   },
   "outputs": [],
   "source": [
    "#hide\n",
    "#df_all_mrk = read_api()"
   ]
  },
  {
   "cell_type": "code",
   "execution_count": 9,
   "id": "delayed-adapter",
   "metadata": {
    "execution": {
     "iopub.execute_input": "2021-10-18T02:07:42.132858Z",
     "iopub.status.busy": "2021-10-18T02:07:42.132319Z",
     "iopub.status.idle": "2021-10-18T02:07:42.154611Z",
     "shell.execute_reply": "2021-10-18T02:07:42.153882Z"
    },
    "papermill": {
     "duration": 0.04617,
     "end_time": "2021-10-18T02:07:42.154734",
     "exception": false,
     "start_time": "2021-10-18T02:07:42.108564",
     "status": "completed"
    },
    "tags": []
   },
   "outputs": [],
   "source": [
    "#hide\n",
    "#Koreliacijų koeficientai"
   ]
  },
  {
   "cell_type": "code",
   "execution_count": 10,
   "id": "seeing-celebration",
   "metadata": {
    "execution": {
     "iopub.execute_input": "2021-10-18T02:07:42.189287Z",
     "iopub.status.busy": "2021-10-18T02:07:42.188743Z",
     "iopub.status.idle": "2021-10-18T02:07:42.213572Z",
     "shell.execute_reply": "2021-10-18T02:07:42.212349Z"
    },
    "papermill": {
     "duration": 0.045541,
     "end_time": "2021-10-18T02:07:42.213702",
     "exception": false,
     "start_time": "2021-10-18T02:07:42.168161",
     "status": "completed"
    },
    "tags": []
   },
   "outputs": [],
   "source": [
    "#hide_input\n",
    "#sum_corr = df_all_mrk.corr().sum().sort_values(ascending=True).index.values\n",
    "#df_all_mrk[sum_corr].corr()"
   ]
  },
  {
   "cell_type": "code",
   "execution_count": 11,
   "id": "other-painting",
   "metadata": {
    "execution": {
     "iopub.execute_input": "2021-10-18T02:07:42.249455Z",
     "iopub.status.busy": "2021-10-18T02:07:42.243365Z",
     "iopub.status.idle": "2021-10-18T02:07:42.267980Z",
     "shell.execute_reply": "2021-10-18T02:07:42.267553Z"
    },
    "papermill": {
     "duration": 0.041295,
     "end_time": "2021-10-18T02:07:42.268099",
     "exception": false,
     "start_time": "2021-10-18T02:07:42.226804",
     "status": "completed"
    },
    "tags": []
   },
   "outputs": [],
   "source": [
    "#hide\n",
    "#Koreliacijos matrica. "
   ]
  },
  {
   "cell_type": "code",
   "execution_count": 12,
   "id": "modular-magnitude",
   "metadata": {
    "execution": {
     "iopub.execute_input": "2021-10-18T02:07:42.297487Z",
     "iopub.status.busy": "2021-10-18T02:07:42.296946Z",
     "iopub.status.idle": "2021-10-18T02:07:42.322003Z",
     "shell.execute_reply": "2021-10-18T02:07:42.321496Z"
    },
    "papermill": {
     "duration": 0.040459,
     "end_time": "2021-10-18T02:07:42.322136",
     "exception": false,
     "start_time": "2021-10-18T02:07:42.281677",
     "status": "completed"
    },
    "tags": []
   },
   "outputs": [],
   "source": [
    "#hide_input\n",
    "#plt.figure(figsize=(15, 8))\n",
    "#sns.heatmap(df_all_mrk[sum_corr].corr(), annot=True, cmap=\"BrBG\");\n",
    "#plt.savefig('corr_matrix_all.eps', format='eps')"
   ]
  },
  {
   "cell_type": "code",
   "execution_count": null,
   "id": "original-senator",
   "metadata": {
    "papermill": {
     "duration": 0.012899,
     "end_time": "2021-10-18T02:07:42.349053",
     "exception": false,
     "start_time": "2021-10-18T02:07:42.336154",
     "status": "completed"
    },
    "tags": []
   },
   "outputs": [],
   "source": []
  },
  {
   "cell_type": "code",
   "execution_count": null,
   "id": "saving-secretariat",
   "metadata": {
    "papermill": {
     "duration": 0.012904,
     "end_time": "2021-10-18T02:07:42.374855",
     "exception": false,
     "start_time": "2021-10-18T02:07:42.361951",
     "status": "completed"
    },
    "tags": []
   },
   "outputs": [],
   "source": []
  }
 ],
 "metadata": {
  "kernelspec": {
   "display_name": "Python 3",
   "language": "python",
   "name": "python3"
  },
  "language_info": {
   "codemirror_mode": {
    "name": "ipython",
    "version": 3
   },
   "file_extension": ".py",
   "mimetype": "text/x-python",
   "name": "python",
   "nbconvert_exporter": "python",
   "pygments_lexer": "ipython3",
   "version": "3.6.15"
  },
  "papermill": {
   "default_parameters": {},
   "duration": 16.944289,
   "end_time": "2021-10-18T02:07:42.896502",
   "environment_variables": {},
   "exception": null,
   "input_path": "App-Correlation_charts.ipynb",
   "output_path": "App-Correlation_charts.ipynb",
   "parameters": {},
   "start_time": "2021-10-18T02:07:25.952213",
   "version": "2.2.2"
  }
 },
 "nbformat": 4,
 "nbformat_minor": 5
}