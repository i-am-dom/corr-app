{
 "cells": [
  {
   "cell_type": "markdown",
   "id": "touched-facility",
   "metadata": {
    "papermill": {
     "duration": 0.015318,
     "end_time": "2022-03-21T02:28:41.960976",
     "exception": false,
     "start_time": "2022-03-21T02:28:41.945658",
     "status": "completed"
    },
    "tags": []
   },
   "source": [
    "# Koreliacijų matrica\n",
    "> Išplėstinė koreliacijų matrica. \n",
    "\n",
    "- toc: true \n",
    "- badges: true\n",
    "- comments: false\n",
    "- categories: [Dominykas Tautkus]\n",
    "- image: images/matrix.png"
   ]
  },
  {
   "cell_type": "code",
   "execution_count": null,
   "id": "premium-weekend",
   "metadata": {
    "papermill": {
     "duration": 0.012439,
     "end_time": "2022-03-21T02:28:41.986156",
     "exception": false,
     "start_time": "2022-03-21T02:28:41.973717",
     "status": "completed"
    },
    "tags": []
   },
   "outputs": [],
   "source": []
  },
  {
   "cell_type": "code",
   "execution_count": 1,
   "id": "vertical-rebate",
   "metadata": {
    "execution": {
     "iopub.execute_input": "2022-03-21T02:28:42.020945Z",
     "iopub.status.busy": "2022-03-21T02:28:42.020339Z",
     "iopub.status.idle": "2022-03-21T02:28:42.032581Z",
     "shell.execute_reply": "2022-03-21T02:28:42.031804Z"
    },
    "papermill": {
     "duration": 0.034839,
     "end_time": "2022-03-21T02:28:42.032734",
     "exception": false,
     "start_time": "2022-03-21T02:28:41.997895",
     "status": "completed"
    },
    "tags": []
   },
   "outputs": [],
   "source": [
    "#hide\n",
    "%load_ext autoreload\n",
    "%autoreload 2"
   ]
  },
  {
   "cell_type": "code",
   "execution_count": 2,
   "id": "overall-advancement",
   "metadata": {
    "execution": {
     "iopub.execute_input": "2022-03-21T02:28:42.066182Z",
     "iopub.status.busy": "2022-03-21T02:28:42.065589Z",
     "iopub.status.idle": "2022-03-21T02:28:43.391859Z",
     "shell.execute_reply": "2022-03-21T02:28:43.392394Z"
    },
    "papermill": {
     "duration": 1.347788,
     "end_time": "2022-03-21T02:28:43.392569",
     "exception": false,
     "start_time": "2022-03-21T02:28:42.044781",
     "status": "completed"
    },
    "tags": []
   },
   "outputs": [],
   "source": [
    "#hide\n",
    "from scripts.read_data import read_api\n",
    "from IPython.display import HTML\n",
    "import plotly.graph_objects as go\n"
   ]
  },
  {
   "cell_type": "code",
   "execution_count": 3,
   "id": "light-crazy",
   "metadata": {
    "execution": {
     "iopub.execute_input": "2022-03-21T02:28:43.423639Z",
     "iopub.status.busy": "2022-03-21T02:28:43.422548Z",
     "iopub.status.idle": "2022-03-21T02:28:43.444721Z",
     "shell.execute_reply": "2022-03-21T02:28:43.445302Z"
    },
    "papermill": {
     "duration": 0.040389,
     "end_time": "2022-03-21T02:28:43.445474",
     "exception": false,
     "start_time": "2022-03-21T02:28:43.405085",
     "status": "completed"
    },
    "tags": []
   },
   "outputs": [],
   "source": [
    "#hide\n",
    "### ICO koreliacija"
   ]
  },
  {
   "cell_type": "code",
   "execution_count": 4,
   "id": "likely-bahrain",
   "metadata": {
    "execution": {
     "iopub.execute_input": "2022-03-21T02:28:43.481571Z",
     "iopub.status.busy": "2022-03-21T02:28:43.478261Z",
     "iopub.status.idle": "2022-03-21T02:28:44.424991Z",
     "shell.execute_reply": "2022-03-21T02:28:44.425471Z"
    },
    "papermill": {
     "duration": 0.968452,
     "end_time": "2022-03-21T02:28:44.425636",
     "exception": false,
     "start_time": "2022-03-21T02:28:43.457184",
     "status": "completed"
    },
    "tags": []
   },
   "outputs": [],
   "source": [
    "#hide\n",
    "import matplotlib.pyplot as plt\n",
    "import numpy as np\n",
    "import pandas as pd\n",
    "import seaborn as sns\n",
    "import matplotlib.pyplot as plt \n",
    "import matplotlib.dates as mdates\n",
    "import matplotlib.pyplot as plt"
   ]
  },
  {
   "cell_type": "code",
   "execution_count": 5,
   "id": "superior-blanket",
   "metadata": {
    "execution": {
     "iopub.execute_input": "2022-03-21T02:28:44.459528Z",
     "iopub.status.busy": "2022-03-21T02:28:44.457478Z",
     "iopub.status.idle": "2022-03-21T02:29:00.225522Z",
     "shell.execute_reply": "2022-03-21T02:29:00.224836Z"
    },
    "papermill": {
     "duration": 15.787742,
     "end_time": "2022-03-21T02:29:00.225696",
     "exception": false,
     "start_time": "2022-03-21T02:28:44.437954",
     "status": "completed"
    },
    "tags": []
   },
   "outputs": [
    {
     "name": "stderr",
     "output_type": "stream",
     "text": [
      "/home/runner/work/corr-app/corr-app/_notebooks/scripts/read_data.py:187: SettingWithCopyWarning:\n",
      "\n",
      "\n",
      "A value is trying to be set on a copy of a slice from a DataFrame.\n",
      "Try using .loc[row_indexer,col_indexer] = value instead\n",
      "\n",
      "See the caveats in the documentation: https://pandas.pydata.org/pandas-docs/stable/user_guide/indexing.html#returning-a-view-versus-a-copy\n",
      "\n"
     ]
    },
    {
     "name": "stderr",
     "output_type": "stream",
     "text": [
      "/home/runner/work/corr-app/corr-app/_notebooks/scripts/read_data.py:215: SettingWithCopyWarning:\n",
      "\n",
      "\n",
      "A value is trying to be set on a copy of a slice from a DataFrame.\n",
      "Try using .loc[row_indexer,col_indexer] = value instead\n",
      "\n",
      "See the caveats in the documentation: https://pandas.pydata.org/pandas-docs/stable/user_guide/indexing.html#returning-a-view-versus-a-copy\n",
      "\n"
     ]
    }
   ],
   "source": [
    "#hide\n",
    "df_all = read_api()\n",
    "#df_all = df_all.drop(['SP500', 'XAU', 'ETH', 'BTC'], axis=1)\n",
    "\n"
   ]
  },
  {
   "cell_type": "code",
   "execution_count": 6,
   "id": "mature-alert",
   "metadata": {
    "execution": {
     "iopub.execute_input": "2022-03-21T02:29:00.266097Z",
     "iopub.status.busy": "2022-03-21T02:29:00.264692Z",
     "iopub.status.idle": "2022-03-21T02:29:00.289017Z",
     "shell.execute_reply": "2022-03-21T02:29:00.289469Z"
    },
    "papermill": {
     "duration": 0.049829,
     "end_time": "2022-03-21T02:29:00.289602",
     "exception": false,
     "start_time": "2022-03-21T02:29:00.239773",
     "status": "completed"
    },
    "tags": []
   },
   "outputs": [],
   "source": [
    "#hide_input\n",
    "sum_corr = df_all.corr().sum().sort_values(ascending=True).index.values\n",
    "#df_all[sum_corr].corr()"
   ]
  },
  {
   "cell_type": "markdown",
   "id": "complex-syndicate",
   "metadata": {
    "papermill": {
     "duration": 0.012526,
     "end_time": "2022-03-21T02:29:00.314562",
     "exception": false,
     "start_time": "2022-03-21T02:29:00.302036",
     "status": "completed"
    },
    "tags": []
   },
   "source": [
    "## Išplėstinė koreliacijų matrica. "
   ]
  },
  {
   "cell_type": "code",
   "execution_count": 7,
   "id": "atomic-omaha",
   "metadata": {
    "execution": {
     "iopub.execute_input": "2022-03-21T02:29:00.345039Z",
     "iopub.status.busy": "2022-03-21T02:29:00.344418Z",
     "iopub.status.idle": "2022-03-21T02:29:01.833904Z",
     "shell.execute_reply": "2022-03-21T02:29:01.834359Z"
    },
    "papermill": {
     "duration": 1.506777,
     "end_time": "2022-03-21T02:29:01.834515",
     "exception": false,
     "start_time": "2022-03-21T02:29:00.327738",
     "status": "completed"
    },
    "tags": []
   },
   "outputs": [
    {
     "data": {
      "image/png": "[encoded data removed]",
      "text/plain": [
       "<Figure size 1080x792 with 2 Axes>"
      ]
     },
     "metadata": {
      "needs_background": "light"
     },
     "output_type": "display_data"
    }
   ],
   "source": [
    "#hide_input\n",
    "plt.figure(figsize=(15, 11))\n",
    "sns.heatmap(df_all[sum_corr].corr(), annot=True, cmap=\"cubehelix\") \n",
    "sns.set(font_scale=1.25)\n",
    "plt.savefig('corr_matrix.png', format='eps')"
   ]
  },
  {
   "cell_type": "code",
   "execution_count": 8,
   "id": "arbitrary-sullivan",
   "metadata": {
    "execution": {
     "iopub.execute_input": "2022-03-21T02:29:01.867002Z",
     "iopub.status.busy": "2022-03-21T02:29:01.866411Z",
     "iopub.status.idle": "2022-03-21T02:29:01.892726Z",
     "shell.execute_reply": "2022-03-21T02:29:01.893182Z"
    },
    "papermill": {
     "duration": 0.044461,
     "end_time": "2022-03-21T02:29:01.893320",
     "exception": false,
     "start_time": "2022-03-21T02:29:01.848859",
     "status": "completed"
    },
    "tags": []
   },
   "outputs": [],
   "source": [
    "#hide\n",
    "#df_all_mrk = read_api()"
   ]
  },
  {
   "cell_type": "code",
   "execution_count": 9,
   "id": "delayed-adapter",
   "metadata": {
    "execution": {
     "iopub.execute_input": "2022-03-21T02:29:01.927541Z",
     "iopub.status.busy": "2022-03-21T02:29:01.926952Z",
     "iopub.status.idle": "2022-03-21T02:29:01.951521Z",
     "shell.execute_reply": "2022-03-21T02:29:01.951018Z"
    },
    "papermill": {
     "duration": 0.043568,
     "end_time": "2022-03-21T02:29:01.951634",
     "exception": false,
     "start_time": "2022-03-21T02:29:01.908066",
     "status": "completed"
    },
    "tags": []
   },
   "outputs": [],
   "source": [
    "#hide\n",
    "#Koreliacijų koeficientai"
   ]
  },
  {
   "cell_type": "code",
   "execution_count": 10,
   "id": "seeing-celebration",
   "metadata": {
    "execution": {
     "iopub.execute_input": "2022-03-21T02:29:01.985633Z",
     "iopub.status.busy": "2022-03-21T02:29:01.984931Z",
     "iopub.status.idle": "2022-03-21T02:29:02.010250Z",
     "shell.execute_reply": "2022-03-21T02:29:02.010707Z"
    },
    "papermill": {
     "duration": 0.043696,
     "end_time": "2022-03-21T02:29:02.010838",
     "exception": false,
     "start_time": "2022-03-21T02:29:01.967142",
     "status": "completed"
    },
    "tags": []
   },
   "outputs": [],
   "source": [
    "#hide_input\n",
    "#sum_corr = df_all_mrk.corr().sum().sort_values(ascending=True).index.values\n",
    "#df_all_mrk[sum_corr].corr()"
   ]
  },
  {
   "cell_type": "code",
   "execution_count": 11,
   "id": "other-painting",
   "metadata": {
    "execution": {
     "iopub.execute_input": "2022-03-21T02:29:02.044719Z",
     "iopub.status.busy": "2022-03-21T02:29:02.044102Z",
     "iopub.status.idle": "2022-03-21T02:29:02.070006Z",
     "shell.execute_reply": "2022-03-21T02:29:02.069510Z"
    },
    "papermill": {
     "duration": 0.043343,
     "end_time": "2022-03-21T02:29:02.070121",
     "exception": false,
     "start_time": "2022-03-21T02:29:02.026778",
     "status": "completed"
    },
    "tags": []
   },
   "outputs": [],
   "source": [
    "#hide\n",
    "#Koreliacijos matrica. "
   ]
  },
  {
   "cell_type": "code",
   "execution_count": 12,
   "id": "modular-magnitude",
   "metadata": {
    "execution": {
     "iopub.execute_input": "2022-03-21T02:29:02.112945Z",
     "iopub.status.busy": "2022-03-21T02:29:02.107465Z",
     "iopub.status.idle": "2022-03-21T02:29:02.133931Z",
     "shell.execute_reply": "2022-03-21T02:29:02.134390Z"
    },
    "papermill": {
     "duration": 0.048898,
     "end_time": "2022-03-21T02:29:02.134533",
     "exception": false,
     "start_time": "2022-03-21T02:29:02.085635",
     "status": "completed"
    },
    "tags": []
   },
   "outputs": [],
   "source": [
    "#hide_input\n",
    "#plt.figure(figsize=(15, 8))\n",
    "#sns.heatmap(df_all_mrk[sum_corr].corr(), annot=True, cmap=\"BrBG\");\n",
    "#plt.savefig('corr_matrix_all.eps', format='eps')"
   ]
  },
  {
   "cell_type": "code",
   "execution_count": null,
   "id": "original-senator",
   "metadata": {
    "papermill": {
     "duration": 0.014835,
     "end_time": "2022-03-21T02:29:02.164530",
     "exception": false,
     "start_time": "2022-03-21T02:29:02.149695",
     "status": "completed"
    },
    "tags": []
   },
   "outputs": [],
   "source": []
  },
  {
   "cell_type": "code",
   "execution_count": null,
   "id": "saving-secretariat",
   "metadata": {
    "papermill": {
     "duration": 0.017818,
     "end_time": "2022-03-21T02:29:02.196760",
     "exception": false,
     "start_time": "2022-03-21T02:29:02.178942",
     "status": "completed"
    },
    "tags": []
   },
   "outputs": [],
   "source": []
  }
 ],
 "metadata": {
  "kernelspec": {
   "display_name": "Python 3",
   "language": "python",
   "name": "python3"
  },
  "language_info": {
   "codemirror_mode": {
    "name": "ipython",
    "version": 3
   },
   "file_extension": ".py",
   "mimetype": "text/x-python",
   "name": "python",
   "nbconvert_exporter": "python",
   "pygments_lexer": "ipython3",
   "version": "3.6.15"
  },
  "papermill": {
   "default_parameters": {},
   "duration": 22.193506,
   "end_time": "2022-03-21T02:29:02.835231",
   "environment_variables": {},
   "exception": null,
   "input_path": "App-Correlation_charts.ipynb",
   "output_path": "App-Correlation_charts.ipynb",
   "parameters": {},
   "start_time": "2022-03-21T02:28:40.641725",
   "version": "2.2.2"
  }
 },
 "nbformat": 4,
 "nbformat_minor": 5
}