{
 "cells": [
  {
   "cell_type": "markdown",
   "id": "touched-facility",
   "metadata": {
    "papermill": {
     "duration": 0.016926,
     "end_time": "2022-04-20T03:09:56.757610",
     "exception": false,
     "start_time": "2022-04-20T03:09:56.740684",
     "status": "completed"
    },
    "tags": []
   },
   "source": [
    "# Koreliacijų matrica\n",
    "> Išplėstinė koreliacijų matrica. \n",
    "\n",
    "- toc: true \n",
    "- badges: true\n",
    "- comments: false\n",
    "- categories: [Dominykas Tautkus]\n",
    "- image: images/matrix.png"
   ]
  },
  {
   "cell_type": "code",
   "execution_count": null,
   "id": "premium-weekend",
   "metadata": {
    "papermill": {
     "duration": 0.011702,
     "end_time": "2022-04-20T03:09:56.780895",
     "exception": false,
     "start_time": "2022-04-20T03:09:56.769193",
     "status": "completed"
    },
    "tags": []
   },
   "outputs": [],
   "source": []
  },
  {
   "cell_type": "code",
   "execution_count": 1,
   "id": "vertical-rebate",
   "metadata": {
    "execution": {
     "iopub.execute_input": "2022-04-20T03:09:56.813730Z",
     "iopub.status.busy": "2022-04-20T03:09:56.811111Z",
     "iopub.status.idle": "2022-04-20T03:09:56.825545Z",
     "shell.execute_reply": "2022-04-20T03:09:56.825018Z"
    },
    "papermill": {
     "duration": 0.033693,
     "end_time": "2022-04-20T03:09:56.825681",
     "exception": false,
     "start_time": "2022-04-20T03:09:56.791988",
     "status": "completed"
    },
    "tags": []
   },
   "outputs": [],
   "source": [
    "#hide\n",
    "%load_ext autoreload\n",
    "%autoreload 2"
   ]
  },
  {
   "cell_type": "code",
   "execution_count": 2,
   "id": "overall-advancement",
   "metadata": {
    "execution": {
     "iopub.execute_input": "2022-04-20T03:09:56.852566Z",
     "iopub.status.busy": "2022-04-20T03:09:56.851964Z",
     "iopub.status.idle": "2022-04-20T03:09:58.436742Z",
     "shell.execute_reply": "2022-04-20T03:09:58.435852Z"
    },
    "papermill": {
     "duration": 1.59975,
     "end_time": "2022-04-20T03:09:58.436869",
     "exception": false,
     "start_time": "2022-04-20T03:09:56.837119",
     "status": "completed"
    },
    "tags": []
   },
   "outputs": [],
   "source": [
    "#hide\n",
    "from scripts.read_data import read_api\n",
    "from IPython.display import HTML\n",
    "import plotly.graph_objects as go\n"
   ]
  },
  {
   "cell_type": "code",
   "execution_count": 3,
   "id": "light-crazy",
   "metadata": {
    "execution": {
     "iopub.execute_input": "2022-04-20T03:09:58.462382Z",
     "iopub.status.busy": "2022-04-20T03:09:58.461760Z",
     "iopub.status.idle": "2022-04-20T03:09:58.484161Z",
     "shell.execute_reply": "2022-04-20T03:09:58.484655Z"
    },
    "papermill": {
     "duration": 0.037167,
     "end_time": "2022-04-20T03:09:58.484805",
     "exception": false,
     "start_time": "2022-04-20T03:09:58.447638",
     "status": "completed"
    },
    "tags": []
   },
   "outputs": [],
   "source": [
    "#hide\n",
    "### ICO koreliacija"
   ]
  },
  {
   "cell_type": "code",
   "execution_count": 4,
   "id": "likely-bahrain",
   "metadata": {
    "execution": {
     "iopub.execute_input": "2022-04-20T03:09:58.511663Z",
     "iopub.status.busy": "2022-04-20T03:09:58.511064Z",
     "iopub.status.idle": "2022-04-20T03:09:59.370128Z",
     "shell.execute_reply": "2022-04-20T03:09:59.369208Z"
    },
    "papermill": {
     "duration": 0.87385,
     "end_time": "2022-04-20T03:09:59.370353",
     "exception": false,
     "start_time": "2022-04-20T03:09:58.496503",
     "status": "completed"
    },
    "tags": []
   },
   "outputs": [],
   "source": [
    "#hide\n",
    "import matplotlib.pyplot as plt\n",
    "import numpy as np\n",
    "import pandas as pd\n",
    "import seaborn as sns\n",
    "import matplotlib.pyplot as plt \n",
    "import matplotlib.dates as mdates\n",
    "import matplotlib.pyplot as plt"
   ]
  },
  {
   "cell_type": "code",
   "execution_count": 5,
   "id": "superior-blanket",
   "metadata": {
    "execution": {
     "iopub.execute_input": "2022-04-20T03:09:59.397317Z",
     "iopub.status.busy": "2022-04-20T03:09:59.396744Z",
     "iopub.status.idle": "2022-04-20T03:10:08.258069Z",
     "shell.execute_reply": "2022-04-20T03:10:08.257468Z"
    },
    "papermill": {
     "duration": 8.876218,
     "end_time": "2022-04-20T03:10:08.258198",
     "exception": false,
     "start_time": "2022-04-20T03:09:59.381980",
     "status": "completed"
    },
    "tags": []
   },
   "outputs": [
    {
     "name": "stderr",
     "output_type": "stream",
     "text": [
      "/home/runner/work/corr-app/corr-app/_notebooks/scripts/read_data.py:187: SettingWithCopyWarning:\n",
      "\n",
      "\n",
      "A value is trying to be set on a copy of a slice from a DataFrame.\n",
      "Try using .loc[row_indexer,col_indexer] = value instead\n",
      "\n",
      "See the caveats in the documentation: https://pandas.pydata.org/pandas-docs/stable/user_guide/indexing.html#returning-a-view-versus-a-copy\n",
      "\n"
     ]
    },
    {
     "name": "stderr",
     "output_type": "stream",
     "text": [
      "/home/runner/work/corr-app/corr-app/_notebooks/scripts/read_data.py:215: SettingWithCopyWarning:\n",
      "\n",
      "\n",
      "A value is trying to be set on a copy of a slice from a DataFrame.\n",
      "Try using .loc[row_indexer,col_indexer] = value instead\n",
      "\n",
      "See the caveats in the documentation: https://pandas.pydata.org/pandas-docs/stable/user_guide/indexing.html#returning-a-view-versus-a-copy\n",
      "\n"
     ]
    }
   ],
   "source": [
    "#hide\n",
    "df_all = read_api()\n",
    "#df_all = df_all.drop(['SP500', 'XAU', 'ETH', 'BTC'], axis=1)\n",
    "\n"
   ]
  },
  {
   "cell_type": "code",
   "execution_count": 6,
   "id": "mature-alert",
   "metadata": {
    "execution": {
     "iopub.execute_input": "2022-04-20T03:10:08.290217Z",
     "iopub.status.busy": "2022-04-20T03:10:08.289662Z",
     "iopub.status.idle": "2022-04-20T03:10:08.325059Z",
     "shell.execute_reply": "2022-04-20T03:10:08.324152Z"
    },
    "papermill": {
     "duration": 0.054423,
     "end_time": "2022-04-20T03:10:08.325192",
     "exception": false,
     "start_time": "2022-04-20T03:10:08.270769",
     "status": "completed"
    },
    "tags": []
   },
   "outputs": [],
   "source": [
    "#hide_input\n",
    "sum_corr = df_all.corr().sum().sort_values(ascending=True).index.values\n",
    "#df_all[sum_corr].corr()"
   ]
  },
  {
   "cell_type": "markdown",
   "id": "complex-syndicate",
   "metadata": {
    "papermill": {
     "duration": 0.011959,
     "end_time": "2022-04-20T03:10:08.349286",
     "exception": false,
     "start_time": "2022-04-20T03:10:08.337327",
     "status": "completed"
    },
    "tags": []
   },
   "source": [
    "## Išplėstinė koreliacijų matrica. "
   ]
  },
  {
   "cell_type": "code",
   "execution_count": 7,
   "id": "atomic-omaha",
   "metadata": {
    "execution": {
     "iopub.execute_input": "2022-04-20T03:10:08.377680Z",
     "iopub.status.busy": "2022-04-20T03:10:08.377063Z",
     "iopub.status.idle": "2022-04-20T03:10:09.778150Z",
     "shell.execute_reply": "2022-04-20T03:10:09.777614Z"
    },
    "papermill": {
     "duration": 1.417008,
     "end_time": "2022-04-20T03:10:09.778283",
     "exception": false,
     "start_time": "2022-04-20T03:10:08.361275",
     "status": "completed"
    },
    "tags": []
   },
   "outputs": [
    {
     "data": {
      "image/png": "[encoded data removed]",
      "text/plain": [
       "<Figure size 1080x792 with 2 Axes>"
      ]
     },
     "metadata": {
      "needs_background": "light"
     },
     "output_type": "display_data"
    }
   ],
   "source": [
    "#hide_input\n",
    "plt.figure(figsize=(15, 11))\n",
    "sns.heatmap(df_all[sum_corr].corr(), annot=True, cmap=\"cubehelix\") \n",
    "sns.set(font_scale=1.25)\n",
    "plt.savefig('corr_matrix.png', format='eps')"
   ]
  },
  {
   "cell_type": "code",
   "execution_count": 8,
   "id": "arbitrary-sullivan",
   "metadata": {
    "execution": {
     "iopub.execute_input": "2022-04-20T03:10:09.814245Z",
     "iopub.status.busy": "2022-04-20T03:10:09.813360Z",
     "iopub.status.idle": "2022-04-20T03:10:09.845082Z",
     "shell.execute_reply": "2022-04-20T03:10:09.845590Z"
    },
    "papermill": {
     "duration": 0.052339,
     "end_time": "2022-04-20T03:10:09.845748",
     "exception": false,
     "start_time": "2022-04-20T03:10:09.793409",
     "status": "completed"
    },
    "tags": []
   },
   "outputs": [],
   "source": [
    "#hide\n",
    "#df_all_mrk = read_api()"
   ]
  },
  {
   "cell_type": "code",
   "execution_count": 9,
   "id": "delayed-adapter",
   "metadata": {
    "execution": {
     "iopub.execute_input": "2022-04-20T03:10:09.885766Z",
     "iopub.status.busy": "2022-04-20T03:10:09.884786Z",
     "iopub.status.idle": "2022-04-20T03:10:09.913861Z",
     "shell.execute_reply": "2022-04-20T03:10:09.913174Z"
    },
    "papermill": {
     "duration": 0.053131,
     "end_time": "2022-04-20T03:10:09.914036",
     "exception": false,
     "start_time": "2022-04-20T03:10:09.860905",
     "status": "completed"
    },
    "tags": []
   },
   "outputs": [],
   "source": [
    "#hide\n",
    "#Koreliacijų koeficientai"
   ]
  },
  {
   "cell_type": "code",
   "execution_count": 10,
   "id": "seeing-celebration",
   "metadata": {
    "execution": {
     "iopub.execute_input": "2022-04-20T03:10:09.950479Z",
     "iopub.status.busy": "2022-04-20T03:10:09.949872Z",
     "iopub.status.idle": "2022-04-20T03:10:09.980214Z",
     "shell.execute_reply": "2022-04-20T03:10:09.979674Z"
    },
    "papermill": {
     "duration": 0.04871,
     "end_time": "2022-04-20T03:10:09.980342",
     "exception": false,
     "start_time": "2022-04-20T03:10:09.931632",
     "status": "completed"
    },
    "tags": []
   },
   "outputs": [],
   "source": [
    "#hide_input\n",
    "#sum_corr = df_all_mrk.corr().sum().sort_values(ascending=True).index.values\n",
    "#df_all_mrk[sum_corr].corr()"
   ]
  },
  {
   "cell_type": "code",
   "execution_count": 11,
   "id": "other-painting",
   "metadata": {
    "execution": {
     "iopub.execute_input": "2022-04-20T03:10:10.015012Z",
     "iopub.status.busy": "2022-04-20T03:10:10.014403Z",
     "iopub.status.idle": "2022-04-20T03:10:10.045210Z",
     "shell.execute_reply": "2022-04-20T03:10:10.045968Z"
    },
    "papermill": {
     "duration": 0.050375,
     "end_time": "2022-04-20T03:10:10.046206",
     "exception": false,
     "start_time": "2022-04-20T03:10:09.995831",
     "status": "completed"
    },
    "tags": []
   },
   "outputs": [],
   "source": [
    "#hide\n",
    "#Koreliacijos matrica. "
   ]
  },
  {
   "cell_type": "code",
   "execution_count": 12,
   "id": "modular-magnitude",
   "metadata": {
    "execution": {
     "iopub.execute_input": "2022-04-20T03:10:10.082414Z",
     "iopub.status.busy": "2022-04-20T03:10:10.081805Z",
     "iopub.status.idle": "2022-04-20T03:10:10.112396Z",
     "shell.execute_reply": "2022-04-20T03:10:10.111885Z"
    },
    "papermill": {
     "duration": 0.049599,
     "end_time": "2022-04-20T03:10:10.112536",
     "exception": false,
     "start_time": "2022-04-20T03:10:10.062937",
     "status": "completed"
    },
    "tags": []
   },
   "outputs": [],
   "source": [
    "#hide_input\n",
    "#plt.figure(figsize=(15, 8))\n",
    "#sns.heatmap(df_all_mrk[sum_corr].corr(), annot=True, cmap=\"BrBG\");\n",
    "#plt.savefig('corr_matrix_all.eps', format='eps')"
   ]
  },
  {
   "cell_type": "code",
   "execution_count": null,
   "id": "original-senator",
   "metadata": {
    "papermill": {
     "duration": 0.014993,
     "end_time": "2022-04-20T03:10:10.142884",
     "exception": false,
     "start_time": "2022-04-20T03:10:10.127891",
     "status": "completed"
    },
    "tags": []
   },
   "outputs": [],
   "source": []
  },
  {
   "cell_type": "code",
   "execution_count": null,
   "id": "saving-secretariat",
   "metadata": {
    "papermill": {
     "duration": 0.015295,
     "end_time": "2022-04-20T03:10:10.173189",
     "exception": false,
     "start_time": "2022-04-20T03:10:10.157894",
     "status": "completed"
    },
    "tags": []
   },
   "outputs": [],
   "source": []
  }
 ],
 "metadata": {
  "kernelspec": {
   "display_name": "Python 3",
   "language": "python",
   "name": "python3"
  },
  "language_info": {
   "codemirror_mode": {
    "name": "ipython",
    "version": 3
   },
   "file_extension": ".py",
   "mimetype": "text/x-python",
   "name": "python",
   "nbconvert_exporter": "python",
   "pygments_lexer": "ipython3",
   "version": "3.6.15"
  },
  "papermill": {
   "default_parameters": {},
   "duration": 14.939248,
   "end_time": "2022-04-20T03:10:10.710003",
   "environment_variables": {},
   "exception": null,
   "input_path": "App-Correlation_charts.ipynb",
   "output_path": "App-Correlation_charts.ipynb",
   "parameters": {},
   "start_time": "2022-04-20T03:09:55.770755",
   "version": "2.2.2"
  }
 },
 "nbformat": 4,
 "nbformat_minor": 5
}