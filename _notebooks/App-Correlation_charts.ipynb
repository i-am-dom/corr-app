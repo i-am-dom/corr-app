{
 "cells": [
  {
   "cell_type": "markdown",
   "id": "touched-facility",
   "metadata": {
    "papermill": {
     "duration": 0.01602,
     "end_time": "2022-04-12T02:41:31.493048",
     "exception": false,
     "start_time": "2022-04-12T02:41:31.477028",
     "status": "completed"
    },
    "tags": []
   },
   "source": [
    "# Koreliacijų matrica\n",
    "> Išplėstinė koreliacijų matrica. \n",
    "\n",
    "- toc: true \n",
    "- badges: true\n",
    "- comments: false\n",
    "- categories: [Dominykas Tautkus]\n",
    "- image: images/matrix.png"
   ]
  },
  {
   "cell_type": "code",
   "execution_count": null,
   "id": "premium-weekend",
   "metadata": {
    "papermill": {
     "duration": 0.012953,
     "end_time": "2022-04-12T02:41:31.520647",
     "exception": false,
     "start_time": "2022-04-12T02:41:31.507694",
     "status": "completed"
    },
    "tags": []
   },
   "outputs": [],
   "source": []
  },
  {
   "cell_type": "code",
   "execution_count": 1,
   "id": "vertical-rebate",
   "metadata": {
    "execution": {
     "iopub.execute_input": "2022-04-12T02:41:31.557422Z",
     "iopub.status.busy": "2022-04-12T02:41:31.556861Z",
     "iopub.status.idle": "2022-04-12T02:41:31.569769Z",
     "shell.execute_reply": "2022-04-12T02:41:31.569172Z"
    },
    "papermill": {
     "duration": 0.036661,
     "end_time": "2022-04-12T02:41:31.569914",
     "exception": false,
     "start_time": "2022-04-12T02:41:31.533253",
     "status": "completed"
    },
    "tags": []
   },
   "outputs": [],
   "source": [
    "#hide\n",
    "%load_ext autoreload\n",
    "%autoreload 2"
   ]
  },
  {
   "cell_type": "code",
   "execution_count": 2,
   "id": "overall-advancement",
   "metadata": {
    "execution": {
     "iopub.execute_input": "2022-04-12T02:41:31.599220Z",
     "iopub.status.busy": "2022-04-12T02:41:31.598569Z",
     "iopub.status.idle": "2022-04-12T02:41:32.963310Z",
     "shell.execute_reply": "2022-04-12T02:41:32.962747Z"
    },
    "papermill": {
     "duration": 1.381032,
     "end_time": "2022-04-12T02:41:32.963444",
     "exception": false,
     "start_time": "2022-04-12T02:41:31.582412",
     "status": "completed"
    },
    "tags": []
   },
   "outputs": [],
   "source": [
    "#hide\n",
    "from scripts.read_data import read_api\n",
    "from IPython.display import HTML\n",
    "import plotly.graph_objects as go\n"
   ]
  },
  {
   "cell_type": "code",
   "execution_count": 3,
   "id": "light-crazy",
   "metadata": {
    "execution": {
     "iopub.execute_input": "2022-04-12T02:41:32.995087Z",
     "iopub.status.busy": "2022-04-12T02:41:32.994481Z",
     "iopub.status.idle": "2022-04-12T02:41:33.017990Z",
     "shell.execute_reply": "2022-04-12T02:41:33.018456Z"
    },
    "papermill": {
     "duration": 0.041727,
     "end_time": "2022-04-12T02:41:33.018596",
     "exception": false,
     "start_time": "2022-04-12T02:41:32.976869",
     "status": "completed"
    },
    "tags": []
   },
   "outputs": [],
   "source": [
    "#hide\n",
    "### ICO koreliacija"
   ]
  },
  {
   "cell_type": "code",
   "execution_count": 4,
   "id": "likely-bahrain",
   "metadata": {
    "execution": {
     "iopub.execute_input": "2022-04-12T02:41:33.048956Z",
     "iopub.status.busy": "2022-04-12T02:41:33.048320Z",
     "iopub.status.idle": "2022-04-12T02:41:34.069456Z",
     "shell.execute_reply": "2022-04-12T02:41:34.068756Z"
    },
    "papermill": {
     "duration": 1.038206,
     "end_time": "2022-04-12T02:41:34.069665",
     "exception": false,
     "start_time": "2022-04-12T02:41:33.031459",
     "status": "completed"
    },
    "tags": []
   },
   "outputs": [],
   "source": [
    "#hide\n",
    "import matplotlib.pyplot as plt\n",
    "import numpy as np\n",
    "import pandas as pd\n",
    "import seaborn as sns\n",
    "import matplotlib.pyplot as plt \n",
    "import matplotlib.dates as mdates\n",
    "import matplotlib.pyplot as plt"
   ]
  },
  {
   "cell_type": "code",
   "execution_count": 5,
   "id": "superior-blanket",
   "metadata": {
    "execution": {
     "iopub.execute_input": "2022-04-12T02:41:34.101980Z",
     "iopub.status.busy": "2022-04-12T02:41:34.101296Z",
     "iopub.status.idle": "2022-04-12T02:41:44.423152Z",
     "shell.execute_reply": "2022-04-12T02:41:44.423698Z"
    },
    "papermill": {
     "duration": 10.340544,
     "end_time": "2022-04-12T02:41:44.423926",
     "exception": false,
     "start_time": "2022-04-12T02:41:34.083382",
     "status": "completed"
    },
    "tags": []
   },
   "outputs": [
    {
     "name": "stderr",
     "output_type": "stream",
     "text": [
      "/home/runner/work/corr-app/corr-app/_notebooks/scripts/read_data.py:187: SettingWithCopyWarning:\n",
      "\n",
      "\n",
      "A value is trying to be set on a copy of a slice from a DataFrame.\n",
      "Try using .loc[row_indexer,col_indexer] = value instead\n",
      "\n",
      "See the caveats in the documentation: https://pandas.pydata.org/pandas-docs/stable/user_guide/indexing.html#returning-a-view-versus-a-copy\n",
      "\n"
     ]
    },
    {
     "name": "stderr",
     "output_type": "stream",
     "text": [
      "/home/runner/work/corr-app/corr-app/_notebooks/scripts/read_data.py:215: SettingWithCopyWarning:\n",
      "\n",
      "\n",
      "A value is trying to be set on a copy of a slice from a DataFrame.\n",
      "Try using .loc[row_indexer,col_indexer] = value instead\n",
      "\n",
      "See the caveats in the documentation: https://pandas.pydata.org/pandas-docs/stable/user_guide/indexing.html#returning-a-view-versus-a-copy\n",
      "\n"
     ]
    }
   ],
   "source": [
    "#hide\n",
    "df_all = read_api()\n",
    "#df_all = df_all.drop(['SP500', 'XAU', 'ETH', 'BTC'], axis=1)\n",
    "\n"
   ]
  },
  {
   "cell_type": "code",
   "execution_count": 6,
   "id": "mature-alert",
   "metadata": {
    "execution": {
     "iopub.execute_input": "2022-04-12T02:41:44.457514Z",
     "iopub.status.busy": "2022-04-12T02:41:44.456877Z",
     "iopub.status.idle": "2022-04-12T02:41:44.492287Z",
     "shell.execute_reply": "2022-04-12T02:41:44.491693Z"
    },
    "papermill": {
     "duration": 0.054356,
     "end_time": "2022-04-12T02:41:44.492490",
     "exception": false,
     "start_time": "2022-04-12T02:41:44.438134",
     "status": "completed"
    },
    "tags": []
   },
   "outputs": [],
   "source": [
    "#hide_input\n",
    "sum_corr = df_all.corr().sum().sort_values(ascending=True).index.values\n",
    "#df_all[sum_corr].corr()"
   ]
  },
  {
   "cell_type": "markdown",
   "id": "complex-syndicate",
   "metadata": {
    "papermill": {
     "duration": 0.013963,
     "end_time": "2022-04-12T02:41:44.521572",
     "exception": false,
     "start_time": "2022-04-12T02:41:44.507609",
     "status": "completed"
    },
    "tags": []
   },
   "source": [
    "## Išplėstinė koreliacijų matrica. "
   ]
  },
  {
   "cell_type": "code",
   "execution_count": 7,
   "id": "atomic-omaha",
   "metadata": {
    "execution": {
     "iopub.execute_input": "2022-04-12T02:41:44.555202Z",
     "iopub.status.busy": "2022-04-12T02:41:44.554495Z",
     "iopub.status.idle": "2022-04-12T02:41:46.239518Z",
     "shell.execute_reply": "2022-04-12T02:41:46.238937Z"
    },
    "papermill": {
     "duration": 1.703962,
     "end_time": "2022-04-12T02:41:46.239661",
     "exception": false,
     "start_time": "2022-04-12T02:41:44.535699",
     "status": "completed"
    },
    "tags": []
   },
   "outputs": [
    {
     "data": {
      "image/png": "[encoded data removed]",
      "text/plain": [
       "<Figure size 1080x792 with 2 Axes>"
      ]
     },
     "metadata": {
      "needs_background": "light"
     },
     "output_type": "display_data"
    }
   ],
   "source": [
    "#hide_input\n",
    "plt.figure(figsize=(15, 11))\n",
    "sns.heatmap(df_all[sum_corr].corr(), annot=True, cmap=\"cubehelix\") \n",
    "sns.set(font_scale=1.25)\n",
    "plt.savefig('corr_matrix.png', format='eps')"
   ]
  },
  {
   "cell_type": "code",
   "execution_count": 8,
   "id": "arbitrary-sullivan",
   "metadata": {
    "execution": {
     "iopub.execute_input": "2022-04-12T02:41:46.280541Z",
     "iopub.status.busy": "2022-04-12T02:41:46.279843Z",
     "iopub.status.idle": "2022-04-12T02:41:46.312219Z",
     "shell.execute_reply": "2022-04-12T02:41:46.311634Z"
    },
    "papermill": {
     "duration": 0.054694,
     "end_time": "2022-04-12T02:41:46.312394",
     "exception": false,
     "start_time": "2022-04-12T02:41:46.257700",
     "status": "completed"
    },
    "tags": []
   },
   "outputs": [],
   "source": [
    "#hide\n",
    "#df_all_mrk = read_api()"
   ]
  },
  {
   "cell_type": "code",
   "execution_count": 9,
   "id": "delayed-adapter",
   "metadata": {
    "execution": {
     "iopub.execute_input": "2022-04-12T02:41:46.352358Z",
     "iopub.status.busy": "2022-04-12T02:41:46.351683Z",
     "iopub.status.idle": "2022-04-12T02:41:46.385915Z",
     "shell.execute_reply": "2022-04-12T02:41:46.385290Z"
    },
    "papermill": {
     "duration": 0.056596,
     "end_time": "2022-04-12T02:41:46.386074",
     "exception": false,
     "start_time": "2022-04-12T02:41:46.329478",
     "status": "completed"
    },
    "tags": []
   },
   "outputs": [],
   "source": [
    "#hide\n",
    "#Koreliacijų koeficientai"
   ]
  },
  {
   "cell_type": "code",
   "execution_count": 10,
   "id": "seeing-celebration",
   "metadata": {
    "execution": {
     "iopub.execute_input": "2022-04-12T02:41:46.433862Z",
     "iopub.status.busy": "2022-04-12T02:41:46.430592Z",
     "iopub.status.idle": "2022-04-12T02:41:46.460038Z",
     "shell.execute_reply": "2022-04-12T02:41:46.459465Z"
    },
    "papermill": {
     "duration": 0.055437,
     "end_time": "2022-04-12T02:41:46.460193",
     "exception": false,
     "start_time": "2022-04-12T02:41:46.404756",
     "status": "completed"
    },
    "tags": []
   },
   "outputs": [],
   "source": [
    "#hide_input\n",
    "#sum_corr = df_all_mrk.corr().sum().sort_values(ascending=True).index.values\n",
    "#df_all_mrk[sum_corr].corr()"
   ]
  },
  {
   "cell_type": "code",
   "execution_count": 11,
   "id": "other-painting",
   "metadata": {
    "execution": {
     "iopub.execute_input": "2022-04-12T02:41:46.499487Z",
     "iopub.status.busy": "2022-04-12T02:41:46.498784Z",
     "iopub.status.idle": "2022-04-12T02:41:46.530605Z",
     "shell.execute_reply": "2022-04-12T02:41:46.531123Z"
    },
    "papermill": {
     "duration": 0.052375,
     "end_time": "2022-04-12T02:41:46.531310",
     "exception": false,
     "start_time": "2022-04-12T02:41:46.478935",
     "status": "completed"
    },
    "tags": []
   },
   "outputs": [],
   "source": [
    "#hide\n",
    "#Koreliacijos matrica. "
   ]
  },
  {
   "cell_type": "code",
   "execution_count": 12,
   "id": "modular-magnitude",
   "metadata": {
    "execution": {
     "iopub.execute_input": "2022-04-12T02:41:46.570373Z",
     "iopub.status.busy": "2022-04-12T02:41:46.569751Z",
     "iopub.status.idle": "2022-04-12T02:41:46.600022Z",
     "shell.execute_reply": "2022-04-12T02:41:46.599448Z"
    },
    "papermill": {
     "duration": 0.052041,
     "end_time": "2022-04-12T02:41:46.600162",
     "exception": false,
     "start_time": "2022-04-12T02:41:46.548121",
     "status": "completed"
    },
    "tags": []
   },
   "outputs": [],
   "source": [
    "#hide_input\n",
    "#plt.figure(figsize=(15, 8))\n",
    "#sns.heatmap(df_all_mrk[sum_corr].corr(), annot=True, cmap=\"BrBG\");\n",
    "#plt.savefig('corr_matrix_all.eps', format='eps')"
   ]
  },
  {
   "cell_type": "code",
   "execution_count": null,
   "id": "original-senator",
   "metadata": {
    "papermill": {
     "duration": 0.016575,
     "end_time": "2022-04-12T02:41:46.633276",
     "exception": false,
     "start_time": "2022-04-12T02:41:46.616701",
     "status": "completed"
    },
    "tags": []
   },
   "outputs": [],
   "source": []
  },
  {
   "cell_type": "code",
   "execution_count": null,
   "id": "saving-secretariat",
   "metadata": {
    "papermill": {
     "duration": 0.01551,
     "end_time": "2022-04-12T02:41:46.665375",
     "exception": false,
     "start_time": "2022-04-12T02:41:46.649865",
     "status": "completed"
    },
    "tags": []
   },
   "outputs": [],
   "source": []
  }
 ],
 "metadata": {
  "kernelspec": {
   "display_name": "Python 3",
   "language": "python",
   "name": "python3"
  },
  "language_info": {
   "codemirror_mode": {
    "name": "ipython",
    "version": 3
   },
   "file_extension": ".py",
   "mimetype": "text/x-python",
   "name": "python",
   "nbconvert_exporter": "python",
   "pygments_lexer": "ipython3",
   "version": "3.6.15"
  },
  "papermill": {
   "default_parameters": {},
   "duration": 17.117885,
   "end_time": "2022-04-12T02:41:47.301070",
   "environment_variables": {},
   "exception": null,
   "input_path": "App-Correlation_charts.ipynb",
   "output_path": "App-Correlation_charts.ipynb",
   "parameters": {},
   "start_time": "2022-04-12T02:41:30.183185",
   "version": "2.2.2"
  }
 },
 "nbformat": 4,
 "nbformat_minor": 5
}