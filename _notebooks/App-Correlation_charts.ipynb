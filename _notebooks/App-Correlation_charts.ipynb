{
 "cells": [
  {
   "cell_type": "markdown",
   "id": "touched-facility",
   "metadata": {
    "papermill": {
     "duration": 0.016616,
     "end_time": "2021-11-04T01:59:59.171928",
     "exception": false,
     "start_time": "2021-11-04T01:59:59.155312",
     "status": "completed"
    },
    "tags": []
   },
   "source": [
    "# Koreliacijų matrica\n",
    "> Išplėstinė koreliacijų matrica. \n",
    "\n",
    "- toc: true \n",
    "- badges: true\n",
    "- comments: false\n",
    "- categories: [Dominykas Tautkus]\n",
    "- image: images/matrix.png"
   ]
  },
  {
   "cell_type": "code",
   "execution_count": null,
   "id": "premium-weekend",
   "metadata": {
    "papermill": {
     "duration": 0.011839,
     "end_time": "2021-11-04T01:59:59.196946",
     "exception": false,
     "start_time": "2021-11-04T01:59:59.185107",
     "status": "completed"
    },
    "tags": []
   },
   "outputs": [],
   "source": []
  },
  {
   "cell_type": "code",
   "execution_count": 1,
   "id": "vertical-rebate",
   "metadata": {
    "execution": {
     "iopub.execute_input": "2021-11-04T01:59:59.232378Z",
     "iopub.status.busy": "2021-11-04T01:59:59.231791Z",
     "iopub.status.idle": "2021-11-04T01:59:59.242545Z",
     "shell.execute_reply": "2021-11-04T01:59:59.241961Z"
    },
    "papermill": {
     "duration": 0.033433,
     "end_time": "2021-11-04T01:59:59.242676",
     "exception": false,
     "start_time": "2021-11-04T01:59:59.209243",
     "status": "completed"
    },
    "tags": []
   },
   "outputs": [],
   "source": [
    "#hide\n",
    "%load_ext autoreload\n",
    "%autoreload 2"
   ]
  },
  {
   "cell_type": "code",
   "execution_count": 2,
   "id": "overall-advancement",
   "metadata": {
    "execution": {
     "iopub.execute_input": "2021-11-04T01:59:59.279807Z",
     "iopub.status.busy": "2021-11-04T01:59:59.276400Z",
     "iopub.status.idle": "2021-11-04T02:00:00.673162Z",
     "shell.execute_reply": "2021-11-04T02:00:00.672611Z"
    },
    "papermill": {
     "duration": 1.419178,
     "end_time": "2021-11-04T02:00:00.673298",
     "exception": false,
     "start_time": "2021-11-04T01:59:59.254120",
     "status": "completed"
    },
    "tags": []
   },
   "outputs": [],
   "source": [
    "#hide\n",
    "from scripts.read_data import read_api\n",
    "from IPython.display import HTML\n",
    "import plotly.graph_objects as go\n"
   ]
  },
  {
   "cell_type": "code",
   "execution_count": 3,
   "id": "light-crazy",
   "metadata": {
    "execution": {
     "iopub.execute_input": "2021-11-04T02:00:00.701343Z",
     "iopub.status.busy": "2021-11-04T02:00:00.700697Z",
     "iopub.status.idle": "2021-11-04T02:00:00.723608Z",
     "shell.execute_reply": "2021-11-04T02:00:00.724066Z"
    },
    "papermill": {
     "duration": 0.038877,
     "end_time": "2021-11-04T02:00:00.724193",
     "exception": false,
     "start_time": "2021-11-04T02:00:00.685316",
     "status": "completed"
    },
    "tags": []
   },
   "outputs": [],
   "source": [
    "#hide\n",
    "### ICO koreliacija"
   ]
  },
  {
   "cell_type": "code",
   "execution_count": 4,
   "id": "likely-bahrain",
   "metadata": {
    "execution": {
     "iopub.execute_input": "2021-11-04T02:00:00.752132Z",
     "iopub.status.busy": "2021-11-04T02:00:00.751480Z",
     "iopub.status.idle": "2021-11-04T02:00:01.716674Z",
     "shell.execute_reply": "2021-11-04T02:00:01.716143Z"
    },
    "papermill": {
     "duration": 0.981097,
     "end_time": "2021-11-04T02:00:01.716815",
     "exception": false,
     "start_time": "2021-11-04T02:00:00.735718",
     "status": "completed"
    },
    "tags": []
   },
   "outputs": [],
   "source": [
    "#hide\n",
    "import matplotlib.pyplot as plt\n",
    "import numpy as np\n",
    "import pandas as pd\n",
    "import seaborn as sns\n",
    "import matplotlib.pyplot as plt \n",
    "import matplotlib.dates as mdates\n",
    "import matplotlib.pyplot as plt"
   ]
  },
  {
   "cell_type": "code",
   "execution_count": 5,
   "id": "superior-blanket",
   "metadata": {
    "execution": {
     "iopub.execute_input": "2021-11-04T02:00:01.745988Z",
     "iopub.status.busy": "2021-11-04T02:00:01.745373Z",
     "iopub.status.idle": "2021-11-04T02:00:19.974146Z",
     "shell.execute_reply": "2021-11-04T02:00:19.973458Z"
    },
    "papermill": {
     "duration": 18.24494,
     "end_time": "2021-11-04T02:00:19.974289",
     "exception": false,
     "start_time": "2021-11-04T02:00:01.729349",
     "status": "completed"
    },
    "tags": []
   },
   "outputs": [
    {
     "name": "stderr",
     "output_type": "stream",
     "text": [
      "/home/runner/work/corr-app/corr-app/_notebooks/scripts/read_data.py:187: SettingWithCopyWarning:\n",
      "\n",
      "\n",
      "A value is trying to be set on a copy of a slice from a DataFrame.\n",
      "Try using .loc[row_indexer,col_indexer] = value instead\n",
      "\n",
      "See the caveats in the documentation: https://pandas.pydata.org/pandas-docs/stable/user_guide/indexing.html#returning-a-view-versus-a-copy\n",
      "\n"
     ]
    },
    {
     "name": "stderr",
     "output_type": "stream",
     "text": [
      "/home/runner/work/corr-app/corr-app/_notebooks/scripts/read_data.py:215: SettingWithCopyWarning:\n",
      "\n",
      "\n",
      "A value is trying to be set on a copy of a slice from a DataFrame.\n",
      "Try using .loc[row_indexer,col_indexer] = value instead\n",
      "\n",
      "See the caveats in the documentation: https://pandas.pydata.org/pandas-docs/stable/user_guide/indexing.html#returning-a-view-versus-a-copy\n",
      "\n"
     ]
    }
   ],
   "source": [
    "#hide\n",
    "df_all = read_api()\n",
    "#df_all = df_all.drop(['SP500', 'XAU', 'ETH', 'BTC'], axis=1)\n",
    "\n"
   ]
  },
  {
   "cell_type": "code",
   "execution_count": 6,
   "id": "mature-alert",
   "metadata": {
    "execution": {
     "iopub.execute_input": "2021-11-04T02:00:20.008731Z",
     "iopub.status.busy": "2021-11-04T02:00:20.004828Z",
     "iopub.status.idle": "2021-11-04T02:00:20.036431Z",
     "shell.execute_reply": "2021-11-04T02:00:20.037297Z"
    },
    "papermill": {
     "duration": 0.049966,
     "end_time": "2021-11-04T02:00:20.037455",
     "exception": false,
     "start_time": "2021-11-04T02:00:19.987489",
     "status": "completed"
    },
    "tags": []
   },
   "outputs": [],
   "source": [
    "#hide_input\n",
    "sum_corr = df_all.corr().sum().sort_values(ascending=True).index.values\n",
    "#df_all[sum_corr].corr()"
   ]
  },
  {
   "cell_type": "markdown",
   "id": "complex-syndicate",
   "metadata": {
    "papermill": {
     "duration": 0.015057,
     "end_time": "2021-11-04T02:00:20.065275",
     "exception": false,
     "start_time": "2021-11-04T02:00:20.050218",
     "status": "completed"
    },
    "tags": []
   },
   "source": [
    "## Išplėstinė koreliacijų matrica. "
   ]
  },
  {
   "cell_type": "code",
   "execution_count": 7,
   "id": "atomic-omaha",
   "metadata": {
    "execution": {
     "iopub.execute_input": "2021-11-04T02:00:20.110498Z",
     "iopub.status.busy": "2021-11-04T02:00:20.109872Z",
     "iopub.status.idle": "2021-11-04T02:00:21.583486Z",
     "shell.execute_reply": "2021-11-04T02:00:21.583985Z"
    },
    "papermill": {
     "duration": 1.505602,
     "end_time": "2021-11-04T02:00:21.584153",
     "exception": false,
     "start_time": "2021-11-04T02:00:20.078551",
     "status": "completed"
    },
    "tags": []
   },
   "outputs": [
    {
     "data": {
      "image/png": "[encoded data removed]",
      "text/plain": [
       "<Figure size 1080x792 with 2 Axes>"
      ]
     },
     "metadata": {
      "needs_background": "light"
     },
     "output_type": "display_data"
    }
   ],
   "source": [
    "#hide_input\n",
    "plt.figure(figsize=(15, 11))\n",
    "sns.heatmap(df_all[sum_corr].corr(), annot=True, cmap=\"cubehelix\") \n",
    "sns.set(font_scale=1.25)\n",
    "plt.savefig('corr_matrix.png', format='eps')"
   ]
  },
  {
   "cell_type": "code",
   "execution_count": 8,
   "id": "arbitrary-sullivan",
   "metadata": {
    "execution": {
     "iopub.execute_input": "2021-11-04T02:00:21.619159Z",
     "iopub.status.busy": "2021-11-04T02:00:21.618568Z",
     "iopub.status.idle": "2021-11-04T02:00:21.645092Z",
     "shell.execute_reply": "2021-11-04T02:00:21.644597Z"
    },
    "papermill": {
     "duration": 0.045992,
     "end_time": "2021-11-04T02:00:21.645203",
     "exception": false,
     "start_time": "2021-11-04T02:00:21.599211",
     "status": "completed"
    },
    "tags": []
   },
   "outputs": [],
   "source": [
    "#hide\n",
    "#df_all_mrk = read_api()"
   ]
  },
  {
   "cell_type": "code",
   "execution_count": 9,
   "id": "delayed-adapter",
   "metadata": {
    "execution": {
     "iopub.execute_input": "2021-11-04T02:00:21.684894Z",
     "iopub.status.busy": "2021-11-04T02:00:21.684275Z",
     "iopub.status.idle": "2021-11-04T02:00:21.712365Z",
     "shell.execute_reply": "2021-11-04T02:00:21.711850Z"
    },
    "papermill": {
     "duration": 0.051009,
     "end_time": "2021-11-04T02:00:21.712493",
     "exception": false,
     "start_time": "2021-11-04T02:00:21.661484",
     "status": "completed"
    },
    "tags": []
   },
   "outputs": [],
   "source": [
    "#hide\n",
    "#Koreliacijų koeficientai"
   ]
  },
  {
   "cell_type": "code",
   "execution_count": 10,
   "id": "seeing-celebration",
   "metadata": {
    "execution": {
     "iopub.execute_input": "2021-11-04T02:00:21.746694Z",
     "iopub.status.busy": "2021-11-04T02:00:21.746041Z",
     "iopub.status.idle": "2021-11-04T02:00:21.773830Z",
     "shell.execute_reply": "2021-11-04T02:00:21.773273Z"
    },
    "papermill": {
     "duration": 0.046036,
     "end_time": "2021-11-04T02:00:21.773986",
     "exception": false,
     "start_time": "2021-11-04T02:00:21.727950",
     "status": "completed"
    },
    "tags": []
   },
   "outputs": [],
   "source": [
    "#hide_input\n",
    "#sum_corr = df_all_mrk.corr().sum().sort_values(ascending=True).index.values\n",
    "#df_all_mrk[sum_corr].corr()"
   ]
  },
  {
   "cell_type": "code",
   "execution_count": 11,
   "id": "other-painting",
   "metadata": {
    "execution": {
     "iopub.execute_input": "2021-11-04T02:00:21.815512Z",
     "iopub.status.busy": "2021-11-04T02:00:21.814842Z",
     "iopub.status.idle": "2021-11-04T02:00:21.842738Z",
     "shell.execute_reply": "2021-11-04T02:00:21.842167Z"
    },
    "papermill": {
     "duration": 0.050698,
     "end_time": "2021-11-04T02:00:21.842876",
     "exception": false,
     "start_time": "2021-11-04T02:00:21.792178",
     "status": "completed"
    },
    "tags": []
   },
   "outputs": [],
   "source": [
    "#hide\n",
    "#Koreliacijos matrica. "
   ]
  },
  {
   "cell_type": "code",
   "execution_count": 12,
   "id": "modular-magnitude",
   "metadata": {
    "execution": {
     "iopub.execute_input": "2021-11-04T02:00:21.881215Z",
     "iopub.status.busy": "2021-11-04T02:00:21.880548Z",
     "iopub.status.idle": "2021-11-04T02:00:21.908950Z",
     "shell.execute_reply": "2021-11-04T02:00:21.908396Z"
    },
    "papermill": {
     "duration": 0.050143,
     "end_time": "2021-11-04T02:00:21.909199",
     "exception": false,
     "start_time": "2021-11-04T02:00:21.859056",
     "status": "completed"
    },
    "tags": []
   },
   "outputs": [],
   "source": [
    "#hide_input\n",
    "#plt.figure(figsize=(15, 8))\n",
    "#sns.heatmap(df_all_mrk[sum_corr].corr(), annot=True, cmap=\"BrBG\");\n",
    "#plt.savefig('corr_matrix_all.eps', format='eps')"
   ]
  },
  {
   "cell_type": "code",
   "execution_count": null,
   "id": "original-senator",
   "metadata": {
    "papermill": {
     "duration": 0.01588,
     "end_time": "2021-11-04T02:00:21.941730",
     "exception": false,
     "start_time": "2021-11-04T02:00:21.925850",
     "status": "completed"
    },
    "tags": []
   },
   "outputs": [],
   "source": []
  },
  {
   "cell_type": "code",
   "execution_count": null,
   "id": "saving-secretariat",
   "metadata": {
    "papermill": {
     "duration": 0.016009,
     "end_time": "2021-11-04T02:00:21.973201",
     "exception": false,
     "start_time": "2021-11-04T02:00:21.957192",
     "status": "completed"
    },
    "tags": []
   },
   "outputs": [],
   "source": []
  }
 ],
 "metadata": {
  "kernelspec": {
   "display_name": "Python 3",
   "language": "python",
   "name": "python3"
  },
  "language_info": {
   "codemirror_mode": {
    "name": "ipython",
    "version": 3
   },
   "file_extension": ".py",
   "mimetype": "text/x-python",
   "name": "python",
   "nbconvert_exporter": "python",
   "pygments_lexer": "ipython3",
   "version": "3.6.15"
  },
  "papermill": {
   "default_parameters": {},
   "duration": 24.409471,
   "end_time": "2021-11-04T02:00:22.499909",
   "environment_variables": {},
   "exception": null,
   "input_path": "App-Correlation_charts.ipynb",
   "output_path": "App-Correlation_charts.ipynb",
   "parameters": {},
   "start_time": "2021-11-04T01:59:58.090438",
   "version": "2.2.2"
  }
 },
 "nbformat": 4,
 "nbformat_minor": 5
}