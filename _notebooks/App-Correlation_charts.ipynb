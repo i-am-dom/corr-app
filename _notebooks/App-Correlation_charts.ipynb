{
 "cells": [
  {
   "cell_type": "markdown",
   "id": "touched-facility",
   "metadata": {
    "papermill": {
     "duration": 0.014862,
     "end_time": "2022-09-27T03:33:48.711786",
     "exception": false,
     "start_time": "2022-09-27T03:33:48.696924",
     "status": "completed"
    },
    "tags": []
   },
   "source": [
    "# Koreliacijų matrica\n",
    "> Išplėstinė koreliacijų matrica. \n",
    "\n",
    "- toc: true \n",
    "- badges: true\n",
    "- comments: false\n",
    "- categories: [Dominykas Tautkus]\n",
    "- image: images/matrix.png"
   ]
  },
  {
   "cell_type": "code",
   "execution_count": null,
   "id": "premium-weekend",
   "metadata": {
    "papermill": {
     "duration": 0.010664,
     "end_time": "2022-09-27T03:33:48.733811",
     "exception": false,
     "start_time": "2022-09-27T03:33:48.723147",
     "status": "completed"
    },
    "tags": []
   },
   "outputs": [],
   "source": []
  },
  {
   "cell_type": "code",
   "execution_count": 1,
   "id": "vertical-rebate",
   "metadata": {
    "execution": {
     "iopub.execute_input": "2022-09-27T03:33:48.765865Z",
     "iopub.status.busy": "2022-09-27T03:33:48.765278Z",
     "iopub.status.idle": "2022-09-27T03:33:48.776499Z",
     "shell.execute_reply": "2022-09-27T03:33:48.775999Z"
    },
    "papermill": {
     "duration": 0.0322,
     "end_time": "2022-09-27T03:33:48.776623",
     "exception": false,
     "start_time": "2022-09-27T03:33:48.744423",
     "status": "completed"
    },
    "tags": []
   },
   "outputs": [],
   "source": [
    "#hide\n",
    "%load_ext autoreload\n",
    "%autoreload 2"
   ]
  },
  {
   "cell_type": "code",
   "execution_count": 2,
   "id": "overall-advancement",
   "metadata": {
    "execution": {
     "iopub.execute_input": "2022-09-27T03:33:48.803139Z",
     "iopub.status.busy": "2022-09-27T03:33:48.802538Z",
     "iopub.status.idle": "2022-09-27T03:33:49.948700Z",
     "shell.execute_reply": "2022-09-27T03:33:49.947600Z"
    },
    "papermill": {
     "duration": 1.161627,
     "end_time": "2022-09-27T03:33:49.948845",
     "exception": false,
     "start_time": "2022-09-27T03:33:48.787218",
     "status": "completed"
    },
    "tags": []
   },
   "outputs": [],
   "source": [
    "#hide\n",
    "from scripts.read_data import read_api\n",
    "from IPython.display import HTML\n",
    "import plotly.graph_objects as go\n"
   ]
  },
  {
   "cell_type": "code",
   "execution_count": 3,
   "id": "light-crazy",
   "metadata": {
    "execution": {
     "iopub.execute_input": "2022-09-27T03:33:49.975970Z",
     "iopub.status.busy": "2022-09-27T03:33:49.975296Z",
     "iopub.status.idle": "2022-09-27T03:33:49.998025Z",
     "shell.execute_reply": "2022-09-27T03:33:49.997440Z"
    },
    "papermill": {
     "duration": 0.038251,
     "end_time": "2022-09-27T03:33:49.998152",
     "exception": false,
     "start_time": "2022-09-27T03:33:49.959901",
     "status": "completed"
    },
    "tags": []
   },
   "outputs": [],
   "source": [
    "#hide\n",
    "### ICO koreliacija"
   ]
  },
  {
   "cell_type": "code",
   "execution_count": 4,
   "id": "likely-bahrain",
   "metadata": {
    "execution": {
     "iopub.execute_input": "2022-09-27T03:33:50.024202Z",
     "iopub.status.busy": "2022-09-27T03:33:50.023618Z",
     "iopub.status.idle": "2022-09-27T03:33:50.920748Z",
     "shell.execute_reply": "2022-09-27T03:33:50.920167Z"
    },
    "papermill": {
     "duration": 0.911794,
     "end_time": "2022-09-27T03:33:50.920893",
     "exception": false,
     "start_time": "2022-09-27T03:33:50.009099",
     "status": "completed"
    },
    "tags": []
   },
   "outputs": [],
   "source": [
    "#hide\n",
    "import matplotlib.pyplot as plt\n",
    "import numpy as np\n",
    "import pandas as pd\n",
    "import seaborn as sns\n",
    "import matplotlib.pyplot as plt \n",
    "import matplotlib.dates as mdates\n",
    "import matplotlib.pyplot as plt"
   ]
  },
  {
   "cell_type": "code",
   "execution_count": 5,
   "id": "superior-blanket",
   "metadata": {
    "execution": {
     "iopub.execute_input": "2022-09-27T03:33:50.948292Z",
     "iopub.status.busy": "2022-09-27T03:33:50.947692Z",
     "iopub.status.idle": "2022-09-27T03:34:00.651771Z",
     "shell.execute_reply": "2022-09-27T03:34:00.650985Z"
    },
    "papermill": {
     "duration": 9.719377,
     "end_time": "2022-09-27T03:34:00.651911",
     "exception": false,
     "start_time": "2022-09-27T03:33:50.932534",
     "status": "completed"
    },
    "tags": []
   },
   "outputs": [
    {
     "name": "stderr",
     "output_type": "stream",
     "text": [
      "/home/runner/work/corr-app/corr-app/_notebooks/scripts/read_data.py:187: SettingWithCopyWarning:\n",
      "\n",
      "\n",
      "A value is trying to be set on a copy of a slice from a DataFrame.\n",
      "Try using .loc[row_indexer,col_indexer] = value instead\n",
      "\n",
      "See the caveats in the documentation: https://pandas.pydata.org/pandas-docs/stable/user_guide/indexing.html#returning-a-view-versus-a-copy\n",
      "\n"
     ]
    },
    {
     "name": "stderr",
     "output_type": "stream",
     "text": [
      "/home/runner/work/corr-app/corr-app/_notebooks/scripts/read_data.py:215: SettingWithCopyWarning:\n",
      "\n",
      "\n",
      "A value is trying to be set on a copy of a slice from a DataFrame.\n",
      "Try using .loc[row_indexer,col_indexer] = value instead\n",
      "\n",
      "See the caveats in the documentation: https://pandas.pydata.org/pandas-docs/stable/user_guide/indexing.html#returning-a-view-versus-a-copy\n",
      "\n"
     ]
    }
   ],
   "source": [
    "#hide\n",
    "df_all = read_api()\n",
    "#df_all = df_all.drop(['SP500', 'XAU', 'ETH', 'BTC'], axis=1)\n",
    "\n"
   ]
  },
  {
   "cell_type": "code",
   "execution_count": 6,
   "id": "mature-alert",
   "metadata": {
    "execution": {
     "iopub.execute_input": "2022-09-27T03:34:00.735974Z",
     "iopub.status.busy": "2022-09-27T03:34:00.735321Z",
     "iopub.status.idle": "2022-09-27T03:34:00.760277Z",
     "shell.execute_reply": "2022-09-27T03:34:00.759735Z"
    },
    "papermill": {
     "duration": 0.08157,
     "end_time": "2022-09-27T03:34:00.760398",
     "exception": false,
     "start_time": "2022-09-27T03:34:00.678828",
     "status": "completed"
    },
    "tags": []
   },
   "outputs": [],
   "source": [
    "#hide_input\n",
    "sum_corr = df_all.corr().sum().sort_values(ascending=True).index.values\n",
    "#df_all[sum_corr].corr()"
   ]
  },
  {
   "cell_type": "markdown",
   "id": "complex-syndicate",
   "metadata": {
    "papermill": {
     "duration": 0.013012,
     "end_time": "2022-09-27T03:34:00.787183",
     "exception": false,
     "start_time": "2022-09-27T03:34:00.774171",
     "status": "completed"
    },
    "tags": []
   },
   "source": [
    "## Išplėstinė koreliacijų matrica. "
   ]
  },
  {
   "cell_type": "code",
   "execution_count": 7,
   "id": "atomic-omaha",
   "metadata": {
    "execution": {
     "iopub.execute_input": "2022-09-27T03:34:00.882249Z",
     "iopub.status.busy": "2022-09-27T03:34:00.881632Z",
     "iopub.status.idle": "2022-09-27T03:34:02.114206Z",
     "shell.execute_reply": "2022-09-27T03:34:02.113728Z"
    },
    "papermill": {
     "duration": 1.276795,
     "end_time": "2022-09-27T03:34:02.114328",
     "exception": false,
     "start_time": "2022-09-27T03:34:00.837533",
     "status": "completed"
    },
    "tags": []
   },
   "outputs": [
    {
     "data": {
      "image/png": "[encoded data removed]",
      "text/plain": [
       "<Figure size 1080x792 with 2 Axes>"
      ]
     },
     "metadata": {
      "needs_background": "light"
     },
     "output_type": "display_data"
    }
   ],
   "source": [
    "#hide_input\n",
    "plt.figure(figsize=(15, 11))\n",
    "sns.heatmap(df_all[sum_corr].corr(), annot=True, cmap=\"cubehelix\") \n",
    "sns.set(font_scale=1.25)\n",
    "plt.savefig('corr_matrix.png', format='eps')"
   ]
  },
  {
   "cell_type": "code",
   "execution_count": 8,
   "id": "arbitrary-sullivan",
   "metadata": {
    "execution": {
     "iopub.execute_input": "2022-09-27T03:34:02.164920Z",
     "iopub.status.busy": "2022-09-27T03:34:02.163576Z",
     "iopub.status.idle": "2022-09-27T03:34:02.179517Z",
     "shell.execute_reply": "2022-09-27T03:34:02.179944Z"
    },
    "papermill": {
     "duration": 0.051914,
     "end_time": "2022-09-27T03:34:02.180085",
     "exception": false,
     "start_time": "2022-09-27T03:34:02.128171",
     "status": "completed"
    },
    "tags": []
   },
   "outputs": [],
   "source": [
    "#hide\n",
    "#df_all_mrk = read_api()"
   ]
  },
  {
   "cell_type": "code",
   "execution_count": 9,
   "id": "delayed-adapter",
   "metadata": {
    "execution": {
     "iopub.execute_input": "2022-09-27T03:34:02.211151Z",
     "iopub.status.busy": "2022-09-27T03:34:02.210109Z",
     "iopub.status.idle": "2022-09-27T03:34:02.238073Z",
     "shell.execute_reply": "2022-09-27T03:34:02.237228Z"
    },
    "papermill": {
     "duration": 0.044749,
     "end_time": "2022-09-27T03:34:02.238207",
     "exception": false,
     "start_time": "2022-09-27T03:34:02.193458",
     "status": "completed"
    },
    "tags": []
   },
   "outputs": [],
   "source": [
    "#hide\n",
    "#Koreliacijų koeficientai"
   ]
  },
  {
   "cell_type": "code",
   "execution_count": 10,
   "id": "seeing-celebration",
   "metadata": {
    "execution": {
     "iopub.execute_input": "2022-09-27T03:34:02.269462Z",
     "iopub.status.busy": "2022-09-27T03:34:02.268893Z",
     "iopub.status.idle": "2022-09-27T03:34:02.296909Z",
     "shell.execute_reply": "2022-09-27T03:34:02.296434Z"
    },
    "papermill": {
     "duration": 0.044305,
     "end_time": "2022-09-27T03:34:02.297020",
     "exception": false,
     "start_time": "2022-09-27T03:34:02.252715",
     "status": "completed"
    },
    "tags": []
   },
   "outputs": [],
   "source": [
    "#hide_input\n",
    "#sum_corr = df_all_mrk.corr().sum().sort_values(ascending=True).index.values\n",
    "#df_all_mrk[sum_corr].corr()"
   ]
  },
  {
   "cell_type": "code",
   "execution_count": 11,
   "id": "other-painting",
   "metadata": {
    "execution": {
     "iopub.execute_input": "2022-09-27T03:34:02.331935Z",
     "iopub.status.busy": "2022-09-27T03:34:02.331367Z",
     "iopub.status.idle": "2022-09-27T03:34:02.355187Z",
     "shell.execute_reply": "2022-09-27T03:34:02.354527Z"
    },
    "papermill": {
     "duration": 0.045108,
     "end_time": "2022-09-27T03:34:02.355315",
     "exception": false,
     "start_time": "2022-09-27T03:34:02.310207",
     "status": "completed"
    },
    "tags": []
   },
   "outputs": [],
   "source": [
    "#hide\n",
    "#Koreliacijos matrica. "
   ]
  },
  {
   "cell_type": "code",
   "execution_count": 12,
   "id": "modular-magnitude",
   "metadata": {
    "execution": {
     "iopub.execute_input": "2022-09-27T03:34:02.385345Z",
     "iopub.status.busy": "2022-09-27T03:34:02.384782Z",
     "iopub.status.idle": "2022-09-27T03:34:02.411534Z",
     "shell.execute_reply": "2022-09-27T03:34:02.410887Z"
    },
    "papermill": {
     "duration": 0.042649,
     "end_time": "2022-09-27T03:34:02.411654",
     "exception": false,
     "start_time": "2022-09-27T03:34:02.369005",
     "status": "completed"
    },
    "tags": []
   },
   "outputs": [],
   "source": [
    "#hide_input\n",
    "#plt.figure(figsize=(15, 8))\n",
    "#sns.heatmap(df_all_mrk[sum_corr].corr(), annot=True, cmap=\"BrBG\");\n",
    "#plt.savefig('corr_matrix_all.eps', format='eps')"
   ]
  },
  {
   "cell_type": "code",
   "execution_count": null,
   "id": "original-senator",
   "metadata": {
    "papermill": {
     "duration": 0.013163,
     "end_time": "2022-09-27T03:34:02.438959",
     "exception": false,
     "start_time": "2022-09-27T03:34:02.425796",
     "status": "completed"
    },
    "tags": []
   },
   "outputs": [],
   "source": []
  },
  {
   "cell_type": "code",
   "execution_count": null,
   "id": "saving-secretariat",
   "metadata": {
    "papermill": {
     "duration": 0.013095,
     "end_time": "2022-09-27T03:34:02.465191",
     "exception": false,
     "start_time": "2022-09-27T03:34:02.452096",
     "status": "completed"
    },
    "tags": []
   },
   "outputs": [],
   "source": []
  }
 ],
 "metadata": {
  "kernelspec": {
   "display_name": "Python 3",
   "language": "python",
   "name": "python3"
  },
  "language_info": {
   "codemirror_mode": {
    "name": "ipython",
    "version": 3
   },
   "file_extension": ".py",
   "mimetype": "text/x-python",
   "name": "python",
   "nbconvert_exporter": "python",
   "pygments_lexer": "ipython3",
   "version": "3.6.15"
  },
  "papermill": {
   "default_parameters": {},
   "duration": 15.243047,
   "end_time": "2022-09-27T03:34:03.000893",
   "environment_variables": {},
   "exception": null,
   "input_path": "App-Correlation_charts.ipynb",
   "output_path": "App-Correlation_charts.ipynb",
   "parameters": {},
   "start_time": "2022-09-27T03:33:47.757846",
   "version": "2.2.2"
  }
 },
 "nbformat": 4,
 "nbformat_minor": 5
}