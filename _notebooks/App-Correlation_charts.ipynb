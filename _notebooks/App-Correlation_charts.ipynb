{
 "cells": [
  {
   "cell_type": "markdown",
   "id": "touched-facility",
   "metadata": {
    "papermill": {
     "duration": 0.014568,
     "end_time": "2022-07-23T03:07:14.794143",
     "exception": false,
     "start_time": "2022-07-23T03:07:14.779575",
     "status": "completed"
    },
    "tags": []
   },
   "source": [
    "# Koreliacijų matrica\n",
    "> Išplėstinė koreliacijų matrica. \n",
    "\n",
    "- toc: true \n",
    "- badges: true\n",
    "- comments: false\n",
    "- categories: [Dominykas Tautkus]\n",
    "- image: images/matrix.png"
   ]
  },
  {
   "cell_type": "code",
   "execution_count": null,
   "id": "premium-weekend",
   "metadata": {
    "papermill": {
     "duration": 0.010552,
     "end_time": "2022-07-23T03:07:14.816162",
     "exception": false,
     "start_time": "2022-07-23T03:07:14.805610",
     "status": "completed"
    },
    "tags": []
   },
   "outputs": [],
   "source": []
  },
  {
   "cell_type": "code",
   "execution_count": 1,
   "id": "vertical-rebate",
   "metadata": {
    "execution": {
     "iopub.execute_input": "2022-07-23T03:07:14.847489Z",
     "iopub.status.busy": "2022-07-23T03:07:14.846927Z",
     "iopub.status.idle": "2022-07-23T03:07:14.857761Z",
     "shell.execute_reply": "2022-07-23T03:07:14.858320Z"
    },
    "papermill": {
     "duration": 0.031566,
     "end_time": "2022-07-23T03:07:14.858450",
     "exception": false,
     "start_time": "2022-07-23T03:07:14.826884",
     "status": "completed"
    },
    "tags": []
   },
   "outputs": [],
   "source": [
    "#hide\n",
    "%load_ext autoreload\n",
    "%autoreload 2"
   ]
  },
  {
   "cell_type": "code",
   "execution_count": 2,
   "id": "overall-advancement",
   "metadata": {
    "execution": {
     "iopub.execute_input": "2022-07-23T03:07:14.883327Z",
     "iopub.status.busy": "2022-07-23T03:07:14.882771Z",
     "iopub.status.idle": "2022-07-23T03:07:15.971047Z",
     "shell.execute_reply": "2022-07-23T03:07:15.971863Z"
    },
    "papermill": {
     "duration": 1.102829,
     "end_time": "2022-07-23T03:07:15.972012",
     "exception": false,
     "start_time": "2022-07-23T03:07:14.869183",
     "status": "completed"
    },
    "tags": []
   },
   "outputs": [],
   "source": [
    "#hide\n",
    "from scripts.read_data import read_api\n",
    "from IPython.display import HTML\n",
    "import plotly.graph_objects as go\n"
   ]
  },
  {
   "cell_type": "code",
   "execution_count": 3,
   "id": "light-crazy",
   "metadata": {
    "execution": {
     "iopub.execute_input": "2022-07-23T03:07:15.997664Z",
     "iopub.status.busy": "2022-07-23T03:07:15.997104Z",
     "iopub.status.idle": "2022-07-23T03:07:16.022279Z",
     "shell.execute_reply": "2022-07-23T03:07:16.021837Z"
    },
    "papermill": {
     "duration": 0.039296,
     "end_time": "2022-07-23T03:07:16.022389",
     "exception": false,
     "start_time": "2022-07-23T03:07:15.983093",
     "status": "completed"
    },
    "tags": []
   },
   "outputs": [],
   "source": [
    "#hide\n",
    "### ICO koreliacija"
   ]
  },
  {
   "cell_type": "code",
   "execution_count": 4,
   "id": "likely-bahrain",
   "metadata": {
    "execution": {
     "iopub.execute_input": "2022-07-23T03:07:16.047883Z",
     "iopub.status.busy": "2022-07-23T03:07:16.047321Z",
     "iopub.status.idle": "2022-07-23T03:07:16.873660Z",
     "shell.execute_reply": "2022-07-23T03:07:16.874503Z"
    },
    "papermill": {
     "duration": 0.841378,
     "end_time": "2022-07-23T03:07:16.874649",
     "exception": false,
     "start_time": "2022-07-23T03:07:16.033271",
     "status": "completed"
    },
    "tags": []
   },
   "outputs": [],
   "source": [
    "#hide\n",
    "import matplotlib.pyplot as plt\n",
    "import numpy as np\n",
    "import pandas as pd\n",
    "import seaborn as sns\n",
    "import matplotlib.pyplot as plt \n",
    "import matplotlib.dates as mdates\n",
    "import matplotlib.pyplot as plt"
   ]
  },
  {
   "cell_type": "code",
   "execution_count": 5,
   "id": "superior-blanket",
   "metadata": {
    "execution": {
     "iopub.execute_input": "2022-07-23T03:07:16.901285Z",
     "iopub.status.busy": "2022-07-23T03:07:16.900704Z",
     "iopub.status.idle": "2022-07-23T03:07:34.385662Z",
     "shell.execute_reply": "2022-07-23T03:07:34.385161Z"
    },
    "papermill": {
     "duration": 17.499512,
     "end_time": "2022-07-23T03:07:34.385777",
     "exception": false,
     "start_time": "2022-07-23T03:07:16.886265",
     "status": "completed"
    },
    "tags": []
   },
   "outputs": [
    {
     "name": "stderr",
     "output_type": "stream",
     "text": [
      "/home/runner/work/corr-app/corr-app/_notebooks/scripts/read_data.py:187: SettingWithCopyWarning:\n",
      "\n",
      "\n",
      "A value is trying to be set on a copy of a slice from a DataFrame.\n",
      "Try using .loc[row_indexer,col_indexer] = value instead\n",
      "\n",
      "See the caveats in the documentation: https://pandas.pydata.org/pandas-docs/stable/user_guide/indexing.html#returning-a-view-versus-a-copy\n",
      "\n"
     ]
    },
    {
     "name": "stderr",
     "output_type": "stream",
     "text": [
      "/home/runner/work/corr-app/corr-app/_notebooks/scripts/read_data.py:215: SettingWithCopyWarning:\n",
      "\n",
      "\n",
      "A value is trying to be set on a copy of a slice from a DataFrame.\n",
      "Try using .loc[row_indexer,col_indexer] = value instead\n",
      "\n",
      "See the caveats in the documentation: https://pandas.pydata.org/pandas-docs/stable/user_guide/indexing.html#returning-a-view-versus-a-copy\n",
      "\n"
     ]
    }
   ],
   "source": [
    "#hide\n",
    "df_all = read_api()\n",
    "#df_all = df_all.drop(['SP500', 'XAU', 'ETH', 'BTC'], axis=1)\n",
    "\n"
   ]
  },
  {
   "cell_type": "code",
   "execution_count": 6,
   "id": "mature-alert",
   "metadata": {
    "execution": {
     "iopub.execute_input": "2022-07-23T03:07:34.413459Z",
     "iopub.status.busy": "2022-07-23T03:07:34.412898Z",
     "iopub.status.idle": "2022-07-23T03:07:34.446270Z",
     "shell.execute_reply": "2022-07-23T03:07:34.445799Z"
    },
    "papermill": {
     "duration": 0.047829,
     "end_time": "2022-07-23T03:07:34.446380",
     "exception": false,
     "start_time": "2022-07-23T03:07:34.398551",
     "status": "completed"
    },
    "tags": []
   },
   "outputs": [],
   "source": [
    "#hide_input\n",
    "sum_corr = df_all.corr().sum().sort_values(ascending=True).index.values\n",
    "#df_all[sum_corr].corr()"
   ]
  },
  {
   "cell_type": "markdown",
   "id": "complex-syndicate",
   "metadata": {
    "papermill": {
     "duration": 0.015369,
     "end_time": "2022-07-23T03:07:34.473140",
     "exception": false,
     "start_time": "2022-07-23T03:07:34.457771",
     "status": "completed"
    },
    "tags": []
   },
   "source": [
    "## Išplėstinė koreliacijų matrica. "
   ]
  },
  {
   "cell_type": "code",
   "execution_count": 7,
   "id": "atomic-omaha",
   "metadata": {
    "execution": {
     "iopub.execute_input": "2022-07-23T03:07:34.500983Z",
     "iopub.status.busy": "2022-07-23T03:07:34.499917Z",
     "iopub.status.idle": "2022-07-23T03:07:35.712656Z",
     "shell.execute_reply": "2022-07-23T03:07:35.712154Z"
    },
    "papermill": {
     "duration": 1.228313,
     "end_time": "2022-07-23T03:07:35.712769",
     "exception": false,
     "start_time": "2022-07-23T03:07:34.484456",
     "status": "completed"
    },
    "tags": []
   },
   "outputs": [
    {
     "data": {
      "image/png": "[encoded data removed]",
      "text/plain": [
       "<Figure size 1080x792 with 2 Axes>"
      ]
     },
     "metadata": {
      "needs_background": "light"
     },
     "output_type": "display_data"
    }
   ],
   "source": [
    "#hide_input\n",
    "plt.figure(figsize=(15, 11))\n",
    "sns.heatmap(df_all[sum_corr].corr(), annot=True, cmap=\"cubehelix\") \n",
    "sns.set(font_scale=1.25)\n",
    "plt.savefig('corr_matrix.png', format='eps')"
   ]
  },
  {
   "cell_type": "code",
   "execution_count": 8,
   "id": "arbitrary-sullivan",
   "metadata": {
    "execution": {
     "iopub.execute_input": "2022-07-23T03:07:35.808502Z",
     "iopub.status.busy": "2022-07-23T03:07:35.807872Z",
     "iopub.status.idle": "2022-07-23T03:07:35.840455Z",
     "shell.execute_reply": "2022-07-23T03:07:35.839352Z"
    },
    "papermill": {
     "duration": 0.085912,
     "end_time": "2022-07-23T03:07:35.840577",
     "exception": false,
     "start_time": "2022-07-23T03:07:35.754665",
     "status": "completed"
    },
    "tags": []
   },
   "outputs": [],
   "source": [
    "#hide\n",
    "#df_all_mrk = read_api()"
   ]
  },
  {
   "cell_type": "code",
   "execution_count": 9,
   "id": "delayed-adapter",
   "metadata": {
    "execution": {
     "iopub.execute_input": "2022-07-23T03:07:35.877522Z",
     "iopub.status.busy": "2022-07-23T03:07:35.876956Z",
     "iopub.status.idle": "2022-07-23T03:07:35.900833Z",
     "shell.execute_reply": "2022-07-23T03:07:35.900110Z"
    },
    "papermill": {
     "duration": 0.04702,
     "end_time": "2022-07-23T03:07:35.900948",
     "exception": false,
     "start_time": "2022-07-23T03:07:35.853928",
     "status": "completed"
    },
    "tags": []
   },
   "outputs": [],
   "source": [
    "#hide\n",
    "#Koreliacijų koeficientai"
   ]
  },
  {
   "cell_type": "code",
   "execution_count": 10,
   "id": "seeing-celebration",
   "metadata": {
    "execution": {
     "iopub.execute_input": "2022-07-23T03:07:35.931972Z",
     "iopub.status.busy": "2022-07-23T03:07:35.931411Z",
     "iopub.status.idle": "2022-07-23T03:07:35.960429Z",
     "shell.execute_reply": "2022-07-23T03:07:35.959848Z"
    },
    "papermill": {
     "duration": 0.046025,
     "end_time": "2022-07-23T03:07:35.960538",
     "exception": false,
     "start_time": "2022-07-23T03:07:35.914513",
     "status": "completed"
    },
    "tags": []
   },
   "outputs": [],
   "source": [
    "#hide_input\n",
    "#sum_corr = df_all_mrk.corr().sum().sort_values(ascending=True).index.values\n",
    "#df_all_mrk[sum_corr].corr()"
   ]
  },
  {
   "cell_type": "code",
   "execution_count": 11,
   "id": "other-painting",
   "metadata": {
    "execution": {
     "iopub.execute_input": "2022-07-23T03:07:35.990763Z",
     "iopub.status.busy": "2022-07-23T03:07:35.990211Z",
     "iopub.status.idle": "2022-07-23T03:07:36.018656Z",
     "shell.execute_reply": "2022-07-23T03:07:36.019070Z"
    },
    "papermill": {
     "duration": 0.045372,
     "end_time": "2022-07-23T03:07:36.019194",
     "exception": false,
     "start_time": "2022-07-23T03:07:35.973822",
     "status": "completed"
    },
    "tags": []
   },
   "outputs": [],
   "source": [
    "#hide\n",
    "#Koreliacijos matrica. "
   ]
  },
  {
   "cell_type": "code",
   "execution_count": 12,
   "id": "modular-magnitude",
   "metadata": {
    "execution": {
     "iopub.execute_input": "2022-07-23T03:07:36.051204Z",
     "iopub.status.busy": "2022-07-23T03:07:36.050597Z",
     "iopub.status.idle": "2022-07-23T03:07:36.082047Z",
     "shell.execute_reply": "2022-07-23T03:07:36.082735Z"
    },
    "papermill": {
     "duration": 0.050221,
     "end_time": "2022-07-23T03:07:36.082861",
     "exception": false,
     "start_time": "2022-07-23T03:07:36.032640",
     "status": "completed"
    },
    "tags": []
   },
   "outputs": [],
   "source": [
    "#hide_input\n",
    "#plt.figure(figsize=(15, 8))\n",
    "#sns.heatmap(df_all_mrk[sum_corr].corr(), annot=True, cmap=\"BrBG\");\n",
    "#plt.savefig('corr_matrix_all.eps', format='eps')"
   ]
  },
  {
   "cell_type": "code",
   "execution_count": null,
   "id": "original-senator",
   "metadata": {
    "papermill": {
     "duration": 0.01314,
     "end_time": "2022-07-23T03:07:36.109195",
     "exception": false,
     "start_time": "2022-07-23T03:07:36.096055",
     "status": "completed"
    },
    "tags": []
   },
   "outputs": [],
   "source": []
  },
  {
   "cell_type": "code",
   "execution_count": null,
   "id": "saving-secretariat",
   "metadata": {
    "papermill": {
     "duration": 0.013197,
     "end_time": "2022-07-23T03:07:36.135605",
     "exception": false,
     "start_time": "2022-07-23T03:07:36.122408",
     "status": "completed"
    },
    "tags": []
   },
   "outputs": [],
   "source": []
  }
 ],
 "metadata": {
  "kernelspec": {
   "display_name": "Python 3",
   "language": "python",
   "name": "python3"
  },
  "language_info": {
   "codemirror_mode": {
    "name": "ipython",
    "version": 3
   },
   "file_extension": ".py",
   "mimetype": "text/x-python",
   "name": "python",
   "nbconvert_exporter": "python",
   "pygments_lexer": "ipython3",
   "version": "3.6.15"
  },
  "papermill": {
   "default_parameters": {},
   "duration": 22.930911,
   "end_time": "2022-07-23T03:07:36.567046",
   "environment_variables": {},
   "exception": null,
   "input_path": "App-Correlation_charts.ipynb",
   "output_path": "App-Correlation_charts.ipynb",
   "parameters": {},
   "start_time": "2022-07-23T03:07:13.636135",
   "version": "2.2.2"
  }
 },
 "nbformat": 4,
 "nbformat_minor": 5
}