{
 "cells": [
  {
   "cell_type": "markdown",
   "id": "touched-facility",
   "metadata": {
    "papermill": {
     "duration": 0.021184,
     "end_time": "2022-11-01T03:32:34.089965",
     "exception": false,
     "start_time": "2022-11-01T03:32:34.068781",
     "status": "completed"
    },
    "tags": []
   },
   "source": [
    "# Koreliacijų matrica\n",
    "> Išplėstinė koreliacijų matrica. \n",
    "\n",
    "- toc: true \n",
    "- badges: true\n",
    "- comments: false\n",
    "- categories: [Dominykas Tautkus]\n",
    "- image: images/matrix.png"
   ]
  },
  {
   "cell_type": "code",
   "execution_count": null,
   "id": "premium-weekend",
   "metadata": {
    "papermill": {
     "duration": 0.088939,
     "end_time": "2022-11-01T03:32:34.191118",
     "exception": false,
     "start_time": "2022-11-01T03:32:34.102179",
     "status": "completed"
    },
    "tags": []
   },
   "outputs": [],
   "source": []
  },
  {
   "cell_type": "code",
   "execution_count": 1,
   "id": "vertical-rebate",
   "metadata": {
    "execution": {
     "iopub.execute_input": "2022-11-01T03:32:34.319303Z",
     "iopub.status.busy": "2022-11-01T03:32:34.318686Z",
     "iopub.status.idle": "2022-11-01T03:32:34.328805Z",
     "shell.execute_reply": "2022-11-01T03:32:34.329294Z"
    },
    "papermill": {
     "duration": 0.033967,
     "end_time": "2022-11-01T03:32:34.329440",
     "exception": false,
     "start_time": "2022-11-01T03:32:34.295473",
     "status": "completed"
    },
    "tags": []
   },
   "outputs": [],
   "source": [
    "#hide\n",
    "%load_ext autoreload\n",
    "%autoreload 2"
   ]
  },
  {
   "cell_type": "code",
   "execution_count": 2,
   "id": "overall-advancement",
   "metadata": {
    "execution": {
     "iopub.execute_input": "2022-11-01T03:32:34.447474Z",
     "iopub.status.busy": "2022-11-01T03:32:34.446788Z",
     "iopub.status.idle": "2022-11-01T03:32:36.175055Z",
     "shell.execute_reply": "2022-11-01T03:32:36.174036Z"
    },
    "papermill": {
     "duration": 1.832251,
     "end_time": "2022-11-01T03:32:36.175191",
     "exception": false,
     "start_time": "2022-11-01T03:32:34.342940",
     "status": "completed"
    },
    "tags": []
   },
   "outputs": [],
   "source": [
    "#hide\n",
    "from scripts.read_data import read_api\n",
    "from IPython.display import HTML\n",
    "import plotly.graph_objects as go\n"
   ]
  },
  {
   "cell_type": "code",
   "execution_count": 3,
   "id": "light-crazy",
   "metadata": {
    "execution": {
     "iopub.execute_input": "2022-11-01T03:32:36.203989Z",
     "iopub.status.busy": "2022-11-01T03:32:36.201161Z",
     "iopub.status.idle": "2022-11-01T03:32:36.224249Z",
     "shell.execute_reply": "2022-11-01T03:32:36.223798Z"
    },
    "papermill": {
     "duration": 0.038275,
     "end_time": "2022-11-01T03:32:36.224362",
     "exception": false,
     "start_time": "2022-11-01T03:32:36.186087",
     "status": "completed"
    },
    "tags": []
   },
   "outputs": [],
   "source": [
    "#hide\n",
    "### ICO koreliacija"
   ]
  },
  {
   "cell_type": "code",
   "execution_count": 4,
   "id": "likely-bahrain",
   "metadata": {
    "execution": {
     "iopub.execute_input": "2022-11-01T03:32:36.260354Z",
     "iopub.status.busy": "2022-11-01T03:32:36.248459Z",
     "iopub.status.idle": "2022-11-01T03:32:37.091422Z",
     "shell.execute_reply": "2022-11-01T03:32:37.090865Z"
    },
    "papermill": {
     "duration": 0.85662,
     "end_time": "2022-11-01T03:32:37.091560",
     "exception": false,
     "start_time": "2022-11-01T03:32:36.234940",
     "status": "completed"
    },
    "tags": []
   },
   "outputs": [],
   "source": [
    "#hide\n",
    "import matplotlib.pyplot as plt\n",
    "import numpy as np\n",
    "import pandas as pd\n",
    "import seaborn as sns\n",
    "import matplotlib.pyplot as plt \n",
    "import matplotlib.dates as mdates\n",
    "import matplotlib.pyplot as plt"
   ]
  },
  {
   "cell_type": "code",
   "execution_count": 5,
   "id": "superior-blanket",
   "metadata": {
    "execution": {
     "iopub.execute_input": "2022-11-01T03:32:37.119986Z",
     "iopub.status.busy": "2022-11-01T03:32:37.118190Z",
     "iopub.status.idle": "2022-11-01T03:32:50.640076Z",
     "shell.execute_reply": "2022-11-01T03:32:50.639541Z"
    },
    "papermill": {
     "duration": 13.536929,
     "end_time": "2022-11-01T03:32:50.640194",
     "exception": false,
     "start_time": "2022-11-01T03:32:37.103265",
     "status": "completed"
    },
    "tags": []
   },
   "outputs": [
    {
     "name": "stderr",
     "output_type": "stream",
     "text": [
      "/home/runner/work/corr-app/corr-app/_notebooks/scripts/read_data.py:187: SettingWithCopyWarning:\n",
      "\n",
      "\n",
      "A value is trying to be set on a copy of a slice from a DataFrame.\n",
      "Try using .loc[row_indexer,col_indexer] = value instead\n",
      "\n",
      "See the caveats in the documentation: https://pandas.pydata.org/pandas-docs/stable/user_guide/indexing.html#returning-a-view-versus-a-copy\n",
      "\n"
     ]
    },
    {
     "name": "stderr",
     "output_type": "stream",
     "text": [
      "/home/runner/work/corr-app/corr-app/_notebooks/scripts/read_data.py:215: SettingWithCopyWarning:\n",
      "\n",
      "\n",
      "A value is trying to be set on a copy of a slice from a DataFrame.\n",
      "Try using .loc[row_indexer,col_indexer] = value instead\n",
      "\n",
      "See the caveats in the documentation: https://pandas.pydata.org/pandas-docs/stable/user_guide/indexing.html#returning-a-view-versus-a-copy\n",
      "\n"
     ]
    }
   ],
   "source": [
    "#hide\n",
    "df_all = read_api()\n",
    "#df_all = df_all.drop(['SP500', 'XAU', 'ETH', 'BTC'], axis=1)\n",
    "\n"
   ]
  },
  {
   "cell_type": "code",
   "execution_count": 6,
   "id": "mature-alert",
   "metadata": {
    "execution": {
     "iopub.execute_input": "2022-11-01T03:32:50.671226Z",
     "iopub.status.busy": "2022-11-01T03:32:50.670176Z",
     "iopub.status.idle": "2022-11-01T03:32:50.699702Z",
     "shell.execute_reply": "2022-11-01T03:32:50.699122Z"
    },
    "papermill": {
     "duration": 0.046924,
     "end_time": "2022-11-01T03:32:50.699830",
     "exception": false,
     "start_time": "2022-11-01T03:32:50.652906",
     "status": "completed"
    },
    "tags": []
   },
   "outputs": [],
   "source": [
    "#hide_input\n",
    "sum_corr = df_all.corr().sum().sort_values(ascending=True).index.values\n",
    "#df_all[sum_corr].corr()"
   ]
  },
  {
   "cell_type": "markdown",
   "id": "complex-syndicate",
   "metadata": {
    "papermill": {
     "duration": 0.011227,
     "end_time": "2022-11-01T03:32:50.722355",
     "exception": false,
     "start_time": "2022-11-01T03:32:50.711128",
     "status": "completed"
    },
    "tags": []
   },
   "source": [
    "## Išplėstinė koreliacijų matrica. "
   ]
  },
  {
   "cell_type": "code",
   "execution_count": 7,
   "id": "atomic-omaha",
   "metadata": {
    "execution": {
     "iopub.execute_input": "2022-11-01T03:32:50.749150Z",
     "iopub.status.busy": "2022-11-01T03:32:50.748521Z",
     "iopub.status.idle": "2022-11-01T03:32:51.935731Z",
     "shell.execute_reply": "2022-11-01T03:32:51.935130Z"
    },
    "papermill": {
     "duration": 1.202342,
     "end_time": "2022-11-01T03:32:51.935850",
     "exception": false,
     "start_time": "2022-11-01T03:32:50.733508",
     "status": "completed"
    },
    "tags": []
   },
   "outputs": [
    {
     "data": {
      "image/png": "[encoded data removed]",
      "text/plain": [
       "<Figure size 1080x792 with 2 Axes>"
      ]
     },
     "metadata": {
      "needs_background": "light"
     },
     "output_type": "display_data"
    }
   ],
   "source": [
    "#hide_input\n",
    "plt.figure(figsize=(15, 11))\n",
    "sns.heatmap(df_all[sum_corr].corr(), annot=True, cmap=\"cubehelix\") \n",
    "sns.set(font_scale=1.25)\n",
    "plt.savefig('corr_matrix.png', format='eps')"
   ]
  },
  {
   "cell_type": "code",
   "execution_count": 8,
   "id": "arbitrary-sullivan",
   "metadata": {
    "execution": {
     "iopub.execute_input": "2022-11-01T03:32:51.968490Z",
     "iopub.status.busy": "2022-11-01T03:32:51.967044Z",
     "iopub.status.idle": "2022-11-01T03:32:51.994063Z",
     "shell.execute_reply": "2022-11-01T03:32:51.993478Z"
    },
    "papermill": {
     "duration": 0.044689,
     "end_time": "2022-11-01T03:32:51.994188",
     "exception": false,
     "start_time": "2022-11-01T03:32:51.949499",
     "status": "completed"
    },
    "tags": []
   },
   "outputs": [],
   "source": [
    "#hide\n",
    "#df_all_mrk = read_api()"
   ]
  },
  {
   "cell_type": "code",
   "execution_count": 9,
   "id": "delayed-adapter",
   "metadata": {
    "execution": {
     "iopub.execute_input": "2022-11-01T03:32:52.025231Z",
     "iopub.status.busy": "2022-11-01T03:32:52.024597Z",
     "iopub.status.idle": "2022-11-01T03:32:52.052194Z",
     "shell.execute_reply": "2022-11-01T03:32:52.051519Z"
    },
    "papermill": {
     "duration": 0.044546,
     "end_time": "2022-11-01T03:32:52.052323",
     "exception": false,
     "start_time": "2022-11-01T03:32:52.007777",
     "status": "completed"
    },
    "tags": []
   },
   "outputs": [],
   "source": [
    "#hide\n",
    "#Koreliacijų koeficientai"
   ]
  },
  {
   "cell_type": "code",
   "execution_count": 10,
   "id": "seeing-celebration",
   "metadata": {
    "execution": {
     "iopub.execute_input": "2022-11-01T03:32:52.083541Z",
     "iopub.status.busy": "2022-11-01T03:32:52.082960Z",
     "iopub.status.idle": "2022-11-01T03:32:52.110918Z",
     "shell.execute_reply": "2022-11-01T03:32:52.110236Z"
    },
    "papermill": {
     "duration": 0.044419,
     "end_time": "2022-11-01T03:32:52.111045",
     "exception": false,
     "start_time": "2022-11-01T03:32:52.066626",
     "status": "completed"
    },
    "tags": []
   },
   "outputs": [],
   "source": [
    "#hide_input\n",
    "#sum_corr = df_all_mrk.corr().sum().sort_values(ascending=True).index.values\n",
    "#df_all_mrk[sum_corr].corr()"
   ]
  },
  {
   "cell_type": "code",
   "execution_count": 11,
   "id": "other-painting",
   "metadata": {
    "execution": {
     "iopub.execute_input": "2022-11-01T03:32:52.144078Z",
     "iopub.status.busy": "2022-11-01T03:32:52.143486Z",
     "iopub.status.idle": "2022-11-01T03:32:52.170101Z",
     "shell.execute_reply": "2022-11-01T03:32:52.169615Z"
    },
    "papermill": {
     "duration": 0.044805,
     "end_time": "2022-11-01T03:32:52.170216",
     "exception": false,
     "start_time": "2022-11-01T03:32:52.125411",
     "status": "completed"
    },
    "tags": []
   },
   "outputs": [],
   "source": [
    "#hide\n",
    "#Koreliacijos matrica. "
   ]
  },
  {
   "cell_type": "code",
   "execution_count": 12,
   "id": "modular-magnitude",
   "metadata": {
    "execution": {
     "iopub.execute_input": "2022-11-01T03:32:52.200430Z",
     "iopub.status.busy": "2022-11-01T03:32:52.199847Z",
     "iopub.status.idle": "2022-11-01T03:32:52.226671Z",
     "shell.execute_reply": "2022-11-01T03:32:52.226093Z"
    },
    "papermill": {
     "duration": 0.043165,
     "end_time": "2022-11-01T03:32:52.226801",
     "exception": false,
     "start_time": "2022-11-01T03:32:52.183636",
     "status": "completed"
    },
    "tags": []
   },
   "outputs": [],
   "source": [
    "#hide_input\n",
    "#plt.figure(figsize=(15, 8))\n",
    "#sns.heatmap(df_all_mrk[sum_corr].corr(), annot=True, cmap=\"BrBG\");\n",
    "#plt.savefig('corr_matrix_all.eps', format='eps')"
   ]
  },
  {
   "cell_type": "code",
   "execution_count": null,
   "id": "original-senator",
   "metadata": {
    "papermill": {
     "duration": 0.013214,
     "end_time": "2022-11-01T03:32:52.253804",
     "exception": false,
     "start_time": "2022-11-01T03:32:52.240590",
     "status": "completed"
    },
    "tags": []
   },
   "outputs": [],
   "source": []
  },
  {
   "cell_type": "code",
   "execution_count": null,
   "id": "saving-secretariat",
   "metadata": {
    "papermill": {
     "duration": 0.013151,
     "end_time": "2022-11-01T03:32:52.280230",
     "exception": false,
     "start_time": "2022-11-01T03:32:52.267079",
     "status": "completed"
    },
    "tags": []
   },
   "outputs": [],
   "source": []
  }
 ],
 "metadata": {
  "kernelspec": {
   "display_name": "Python 3",
   "language": "python",
   "name": "python3"
  },
  "language_info": {
   "codemirror_mode": {
    "name": "ipython",
    "version": 3
   },
   "file_extension": ".py",
   "mimetype": "text/x-python",
   "name": "python",
   "nbconvert_exporter": "python",
   "pygments_lexer": "ipython3",
   "version": "3.6.15"
  },
  "papermill": {
   "default_parameters": {},
   "duration": 19.677438,
   "end_time": "2022-11-01T03:32:52.813291",
   "environment_variables": {},
   "exception": null,
   "input_path": "App-Correlation_charts.ipynb",
   "output_path": "App-Correlation_charts.ipynb",
   "parameters": {},
   "start_time": "2022-11-01T03:32:33.135853",
   "version": "2.2.2"
  }
 },
 "nbformat": 4,
 "nbformat_minor": 5
}