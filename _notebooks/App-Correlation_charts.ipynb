{
 "cells": [
  {
   "cell_type": "markdown",
   "id": "touched-facility",
   "metadata": {
    "papermill": {
     "duration": 0.018258,
     "end_time": "2022-09-03T03:30:58.367488",
     "exception": false,
     "start_time": "2022-09-03T03:30:58.349230",
     "status": "completed"
    },
    "tags": []
   },
   "source": [
    "# Koreliacijų matrica\n",
    "> Išplėstinė koreliacijų matrica. \n",
    "\n",
    "- toc: true \n",
    "- badges: true\n",
    "- comments: false\n",
    "- categories: [Dominykas Tautkus]\n",
    "- image: images/matrix.png"
   ]
  },
  {
   "cell_type": "code",
   "execution_count": null,
   "id": "premium-weekend",
   "metadata": {
    "papermill": {
     "duration": 0.013063,
     "end_time": "2022-09-03T03:30:58.394734",
     "exception": false,
     "start_time": "2022-09-03T03:30:58.381671",
     "status": "completed"
    },
    "tags": []
   },
   "outputs": [],
   "source": []
  },
  {
   "cell_type": "code",
   "execution_count": 1,
   "id": "vertical-rebate",
   "metadata": {
    "execution": {
     "iopub.execute_input": "2022-09-03T03:30:58.441357Z",
     "iopub.status.busy": "2022-09-03T03:30:58.440589Z",
     "iopub.status.idle": "2022-09-03T03:30:58.453512Z",
     "shell.execute_reply": "2022-09-03T03:30:58.452882Z"
    },
    "papermill": {
     "duration": 0.040712,
     "end_time": "2022-09-03T03:30:58.453664",
     "exception": false,
     "start_time": "2022-09-03T03:30:58.412952",
     "status": "completed"
    },
    "tags": []
   },
   "outputs": [],
   "source": [
    "#hide\n",
    "%load_ext autoreload\n",
    "%autoreload 2"
   ]
  },
  {
   "cell_type": "code",
   "execution_count": 2,
   "id": "overall-advancement",
   "metadata": {
    "execution": {
     "iopub.execute_input": "2022-09-03T03:30:58.492338Z",
     "iopub.status.busy": "2022-09-03T03:30:58.491583Z",
     "iopub.status.idle": "2022-09-03T03:31:00.255626Z",
     "shell.execute_reply": "2022-09-03T03:31:00.254971Z"
    },
    "papermill": {
     "duration": 1.787192,
     "end_time": "2022-09-03T03:31:00.255774",
     "exception": false,
     "start_time": "2022-09-03T03:30:58.468582",
     "status": "completed"
    },
    "tags": []
   },
   "outputs": [],
   "source": [
    "#hide\n",
    "from scripts.read_data import read_api\n",
    "from IPython.display import HTML\n",
    "import plotly.graph_objects as go\n"
   ]
  },
  {
   "cell_type": "code",
   "execution_count": 3,
   "id": "light-crazy",
   "metadata": {
    "execution": {
     "iopub.execute_input": "2022-09-03T03:31:00.291119Z",
     "iopub.status.busy": "2022-09-03T03:31:00.290366Z",
     "iopub.status.idle": "2022-09-03T03:31:00.315501Z",
     "shell.execute_reply": "2022-09-03T03:31:00.316137Z"
    },
    "papermill": {
     "duration": 0.046867,
     "end_time": "2022-09-03T03:31:00.316309",
     "exception": false,
     "start_time": "2022-09-03T03:31:00.269442",
     "status": "completed"
    },
    "tags": []
   },
   "outputs": [],
   "source": [
    "#hide\n",
    "### ICO koreliacija"
   ]
  },
  {
   "cell_type": "code",
   "execution_count": 4,
   "id": "likely-bahrain",
   "metadata": {
    "execution": {
     "iopub.execute_input": "2022-09-03T03:31:00.351473Z",
     "iopub.status.busy": "2022-09-03T03:31:00.350727Z",
     "iopub.status.idle": "2022-09-03T03:31:01.389047Z",
     "shell.execute_reply": "2022-09-03T03:31:01.388433Z"
    },
    "papermill": {
     "duration": 1.057165,
     "end_time": "2022-09-03T03:31:01.389197",
     "exception": false,
     "start_time": "2022-09-03T03:31:00.332032",
     "status": "completed"
    },
    "tags": []
   },
   "outputs": [],
   "source": [
    "#hide\n",
    "import matplotlib.pyplot as plt\n",
    "import numpy as np\n",
    "import pandas as pd\n",
    "import seaborn as sns\n",
    "import matplotlib.pyplot as plt \n",
    "import matplotlib.dates as mdates\n",
    "import matplotlib.pyplot as plt"
   ]
  },
  {
   "cell_type": "code",
   "execution_count": 5,
   "id": "superior-blanket",
   "metadata": {
    "execution": {
     "iopub.execute_input": "2022-09-03T03:31:01.422685Z",
     "iopub.status.busy": "2022-09-03T03:31:01.421962Z",
     "iopub.status.idle": "2022-09-03T03:31:17.070794Z",
     "shell.execute_reply": "2022-09-03T03:31:17.070114Z"
    },
    "papermill": {
     "duration": 15.668001,
     "end_time": "2022-09-03T03:31:17.070935",
     "exception": false,
     "start_time": "2022-09-03T03:31:01.402934",
     "status": "completed"
    },
    "tags": []
   },
   "outputs": [
    {
     "name": "stderr",
     "output_type": "stream",
     "text": [
      "/home/runner/work/corr-app/corr-app/_notebooks/scripts/read_data.py:187: SettingWithCopyWarning:\n",
      "\n",
      "\n",
      "A value is trying to be set on a copy of a slice from a DataFrame.\n",
      "Try using .loc[row_indexer,col_indexer] = value instead\n",
      "\n",
      "See the caveats in the documentation: https://pandas.pydata.org/pandas-docs/stable/user_guide/indexing.html#returning-a-view-versus-a-copy\n",
      "\n"
     ]
    },
    {
     "name": "stderr",
     "output_type": "stream",
     "text": [
      "/home/runner/work/corr-app/corr-app/_notebooks/scripts/read_data.py:215: SettingWithCopyWarning:\n",
      "\n",
      "\n",
      "A value is trying to be set on a copy of a slice from a DataFrame.\n",
      "Try using .loc[row_indexer,col_indexer] = value instead\n",
      "\n",
      "See the caveats in the documentation: https://pandas.pydata.org/pandas-docs/stable/user_guide/indexing.html#returning-a-view-versus-a-copy\n",
      "\n"
     ]
    }
   ],
   "source": [
    "#hide\n",
    "df_all = read_api()\n",
    "#df_all = df_all.drop(['SP500', 'XAU', 'ETH', 'BTC'], axis=1)\n",
    "\n"
   ]
  },
  {
   "cell_type": "code",
   "execution_count": 6,
   "id": "mature-alert",
   "metadata": {
    "execution": {
     "iopub.execute_input": "2022-09-03T03:31:17.118922Z",
     "iopub.status.busy": "2022-09-03T03:31:17.111760Z",
     "iopub.status.idle": "2022-09-03T03:31:17.149642Z",
     "shell.execute_reply": "2022-09-03T03:31:17.148588Z"
    },
    "papermill": {
     "duration": 0.062944,
     "end_time": "2022-09-03T03:31:17.149790",
     "exception": false,
     "start_time": "2022-09-03T03:31:17.086846",
     "status": "completed"
    },
    "tags": []
   },
   "outputs": [],
   "source": [
    "#hide_input\n",
    "sum_corr = df_all.corr().sum().sort_values(ascending=True).index.values\n",
    "#df_all[sum_corr].corr()"
   ]
  },
  {
   "cell_type": "markdown",
   "id": "complex-syndicate",
   "metadata": {
    "papermill": {
     "duration": 0.014091,
     "end_time": "2022-09-03T03:31:17.178122",
     "exception": false,
     "start_time": "2022-09-03T03:31:17.164031",
     "status": "completed"
    },
    "tags": []
   },
   "source": [
    "## Išplėstinė koreliacijų matrica. "
   ]
  },
  {
   "cell_type": "code",
   "execution_count": 7,
   "id": "atomic-omaha",
   "metadata": {
    "execution": {
     "iopub.execute_input": "2022-09-03T03:31:17.215635Z",
     "iopub.status.busy": "2022-09-03T03:31:17.214141Z",
     "iopub.status.idle": "2022-09-03T03:31:18.861748Z",
     "shell.execute_reply": "2022-09-03T03:31:18.861172Z"
    },
    "papermill": {
     "duration": 1.66967,
     "end_time": "2022-09-03T03:31:18.861889",
     "exception": false,
     "start_time": "2022-09-03T03:31:17.192219",
     "status": "completed"
    },
    "tags": []
   },
   "outputs": [
    {
     "data": {
      "image/png": "[encoded data removed]",
      "text/plain": [
       "<Figure size 1080x792 with 2 Axes>"
      ]
     },
     "metadata": {
      "needs_background": "light"
     },
     "output_type": "display_data"
    }
   ],
   "source": [
    "#hide_input\n",
    "plt.figure(figsize=(15, 11))\n",
    "sns.heatmap(df_all[sum_corr].corr(), annot=True, cmap=\"cubehelix\") \n",
    "sns.set(font_scale=1.25)\n",
    "plt.savefig('corr_matrix.png', format='eps')"
   ]
  },
  {
   "cell_type": "code",
   "execution_count": 8,
   "id": "arbitrary-sullivan",
   "metadata": {
    "execution": {
     "iopub.execute_input": "2022-09-03T03:31:18.912772Z",
     "iopub.status.busy": "2022-09-03T03:31:18.912016Z",
     "iopub.status.idle": "2022-09-03T03:31:18.941383Z",
     "shell.execute_reply": "2022-09-03T03:31:18.940167Z"
    },
    "papermill": {
     "duration": 0.063478,
     "end_time": "2022-09-03T03:31:18.941534",
     "exception": false,
     "start_time": "2022-09-03T03:31:18.878056",
     "status": "completed"
    },
    "tags": []
   },
   "outputs": [],
   "source": [
    "#hide\n",
    "#df_all_mrk = read_api()"
   ]
  },
  {
   "cell_type": "code",
   "execution_count": 9,
   "id": "delayed-adapter",
   "metadata": {
    "execution": {
     "iopub.execute_input": "2022-09-03T03:31:18.985052Z",
     "iopub.status.busy": "2022-09-03T03:31:18.984300Z",
     "iopub.status.idle": "2022-09-03T03:31:19.011735Z",
     "shell.execute_reply": "2022-09-03T03:31:19.011151Z"
    },
    "papermill": {
     "duration": 0.053609,
     "end_time": "2022-09-03T03:31:19.011958",
     "exception": false,
     "start_time": "2022-09-03T03:31:18.958349",
     "status": "completed"
    },
    "tags": []
   },
   "outputs": [],
   "source": [
    "#hide\n",
    "#Koreliacijų koeficientai"
   ]
  },
  {
   "cell_type": "code",
   "execution_count": 10,
   "id": "seeing-celebration",
   "metadata": {
    "execution": {
     "iopub.execute_input": "2022-09-03T03:31:19.054226Z",
     "iopub.status.busy": "2022-09-03T03:31:19.053470Z",
     "iopub.status.idle": "2022-09-03T03:31:19.081641Z",
     "shell.execute_reply": "2022-09-03T03:31:19.081039Z"
    },
    "papermill": {
     "duration": 0.054099,
     "end_time": "2022-09-03T03:31:19.081776",
     "exception": false,
     "start_time": "2022-09-03T03:31:19.027677",
     "status": "completed"
    },
    "tags": []
   },
   "outputs": [],
   "source": [
    "#hide_input\n",
    "#sum_corr = df_all_mrk.corr().sum().sort_values(ascending=True).index.values\n",
    "#df_all_mrk[sum_corr].corr()"
   ]
  },
  {
   "cell_type": "code",
   "execution_count": 11,
   "id": "other-painting",
   "metadata": {
    "execution": {
     "iopub.execute_input": "2022-09-03T03:31:19.122611Z",
     "iopub.status.busy": "2022-09-03T03:31:19.121863Z",
     "iopub.status.idle": "2022-09-03T03:31:19.150183Z",
     "shell.execute_reply": "2022-09-03T03:31:19.149537Z"
    },
    "papermill": {
     "duration": 0.051915,
     "end_time": "2022-09-03T03:31:19.150323",
     "exception": false,
     "start_time": "2022-09-03T03:31:19.098408",
     "status": "completed"
    },
    "tags": []
   },
   "outputs": [],
   "source": [
    "#hide\n",
    "#Koreliacijos matrica. "
   ]
  },
  {
   "cell_type": "code",
   "execution_count": 12,
   "id": "modular-magnitude",
   "metadata": {
    "execution": {
     "iopub.execute_input": "2022-09-03T03:31:19.193459Z",
     "iopub.status.busy": "2022-09-03T03:31:19.192724Z",
     "iopub.status.idle": "2022-09-03T03:31:19.220008Z",
     "shell.execute_reply": "2022-09-03T03:31:19.220580Z"
    },
    "papermill": {
     "duration": 0.053193,
     "end_time": "2022-09-03T03:31:19.220741",
     "exception": false,
     "start_time": "2022-09-03T03:31:19.167548",
     "status": "completed"
    },
    "tags": []
   },
   "outputs": [],
   "source": [
    "#hide_input\n",
    "#plt.figure(figsize=(15, 8))\n",
    "#sns.heatmap(df_all_mrk[sum_corr].corr(), annot=True, cmap=\"BrBG\");\n",
    "#plt.savefig('corr_matrix_all.eps', format='eps')"
   ]
  },
  {
   "cell_type": "code",
   "execution_count": null,
   "id": "original-senator",
   "metadata": {
    "papermill": {
     "duration": 0.016626,
     "end_time": "2022-09-03T03:31:19.253386",
     "exception": false,
     "start_time": "2022-09-03T03:31:19.236760",
     "status": "completed"
    },
    "tags": []
   },
   "outputs": [],
   "source": []
  },
  {
   "cell_type": "code",
   "execution_count": null,
   "id": "saving-secretariat",
   "metadata": {
    "papermill": {
     "duration": 0.016523,
     "end_time": "2022-09-03T03:31:19.287455",
     "exception": false,
     "start_time": "2022-09-03T03:31:19.270932",
     "status": "completed"
    },
    "tags": []
   },
   "outputs": [],
   "source": []
  }
 ],
 "metadata": {
  "kernelspec": {
   "display_name": "Python 3",
   "language": "python",
   "name": "python3"
  },
  "language_info": {
   "codemirror_mode": {
    "name": "ipython",
    "version": 3
   },
   "file_extension": ".py",
   "mimetype": "text/x-python",
   "name": "python",
   "nbconvert_exporter": "python",
   "pygments_lexer": "ipython3",
   "version": "3.6.15"
  },
  "papermill": {
   "default_parameters": {},
   "duration": 22.905322,
   "end_time": "2022-09-03T03:31:19.925421",
   "environment_variables": {},
   "exception": null,
   "input_path": "App-Correlation_charts.ipynb",
   "output_path": "App-Correlation_charts.ipynb",
   "parameters": {},
   "start_time": "2022-09-03T03:30:57.020099",
   "version": "2.2.2"
  }
 },
 "nbformat": 4,
 "nbformat_minor": 5
}