{
 "cells": [
  {
   "cell_type": "markdown",
   "id": "touched-facility",
   "metadata": {
    "papermill": {
     "duration": 0.016233,
     "end_time": "2022-11-04T03:10:31.561977",
     "exception": false,
     "start_time": "2022-11-04T03:10:31.545744",
     "status": "completed"
    },
    "tags": []
   },
   "source": [
    "# Koreliacijų matrica\n",
    "> Išplėstinė koreliacijų matrica. \n",
    "\n",
    "- toc: true \n",
    "- badges: true\n",
    "- comments: false\n",
    "- categories: [Dominykas Tautkus]\n",
    "- image: images/matrix.png"
   ]
  },
  {
   "cell_type": "code",
   "execution_count": null,
   "id": "premium-weekend",
   "metadata": {
    "papermill": {
     "duration": 0.011932,
     "end_time": "2022-11-04T03:10:31.587480",
     "exception": false,
     "start_time": "2022-11-04T03:10:31.575548",
     "status": "completed"
    },
    "tags": []
   },
   "outputs": [],
   "source": []
  },
  {
   "cell_type": "code",
   "execution_count": 1,
   "id": "vertical-rebate",
   "metadata": {
    "execution": {
     "iopub.execute_input": "2022-11-04T03:10:31.627066Z",
     "iopub.status.busy": "2022-11-04T03:10:31.626333Z",
     "iopub.status.idle": "2022-11-04T03:10:31.640029Z",
     "shell.execute_reply": "2022-11-04T03:10:31.639490Z"
    },
    "papermill": {
     "duration": 0.038893,
     "end_time": "2022-11-04T03:10:31.640174",
     "exception": false,
     "start_time": "2022-11-04T03:10:31.601281",
     "status": "completed"
    },
    "tags": []
   },
   "outputs": [],
   "source": [
    "#hide\n",
    "%load_ext autoreload\n",
    "%autoreload 2"
   ]
  },
  {
   "cell_type": "code",
   "execution_count": 2,
   "id": "overall-advancement",
   "metadata": {
    "execution": {
     "iopub.execute_input": "2022-11-04T03:10:31.669593Z",
     "iopub.status.busy": "2022-11-04T03:10:31.668890Z",
     "iopub.status.idle": "2022-11-04T03:10:33.496076Z",
     "shell.execute_reply": "2022-11-04T03:10:33.495034Z"
    },
    "papermill": {
     "duration": 1.844006,
     "end_time": "2022-11-04T03:10:33.496216",
     "exception": false,
     "start_time": "2022-11-04T03:10:31.652210",
     "status": "completed"
    },
    "tags": []
   },
   "outputs": [],
   "source": [
    "#hide\n",
    "from scripts.read_data import read_api\n",
    "from IPython.display import HTML\n",
    "import plotly.graph_objects as go\n"
   ]
  },
  {
   "cell_type": "code",
   "execution_count": 3,
   "id": "light-crazy",
   "metadata": {
    "execution": {
     "iopub.execute_input": "2022-11-04T03:10:33.529835Z",
     "iopub.status.busy": "2022-11-04T03:10:33.529048Z",
     "iopub.status.idle": "2022-11-04T03:10:33.559549Z",
     "shell.execute_reply": "2022-11-04T03:10:33.558798Z"
    },
    "papermill": {
     "duration": 0.047724,
     "end_time": "2022-11-04T03:10:33.559731",
     "exception": false,
     "start_time": "2022-11-04T03:10:33.512007",
     "status": "completed"
    },
    "tags": []
   },
   "outputs": [],
   "source": [
    "#hide\n",
    "### ICO koreliacija"
   ]
  },
  {
   "cell_type": "code",
   "execution_count": 4,
   "id": "likely-bahrain",
   "metadata": {
    "execution": {
     "iopub.execute_input": "2022-11-04T03:10:33.594218Z",
     "iopub.status.busy": "2022-11-04T03:10:33.593558Z",
     "iopub.status.idle": "2022-11-04T03:10:34.669775Z",
     "shell.execute_reply": "2022-11-04T03:10:34.669182Z"
    },
    "papermill": {
     "duration": 1.096562,
     "end_time": "2022-11-04T03:10:34.669931",
     "exception": false,
     "start_time": "2022-11-04T03:10:33.573369",
     "status": "completed"
    },
    "tags": []
   },
   "outputs": [],
   "source": [
    "#hide\n",
    "import matplotlib.pyplot as plt\n",
    "import numpy as np\n",
    "import pandas as pd\n",
    "import seaborn as sns\n",
    "import matplotlib.pyplot as plt \n",
    "import matplotlib.dates as mdates\n",
    "import matplotlib.pyplot as plt"
   ]
  },
  {
   "cell_type": "code",
   "execution_count": 5,
   "id": "superior-blanket",
   "metadata": {
    "execution": {
     "iopub.execute_input": "2022-11-04T03:10:34.702209Z",
     "iopub.status.busy": "2022-11-04T03:10:34.701354Z",
     "iopub.status.idle": "2022-11-04T03:10:45.510221Z",
     "shell.execute_reply": "2022-11-04T03:10:45.509386Z"
    },
    "papermill": {
     "duration": 10.827426,
     "end_time": "2022-11-04T03:10:45.510400",
     "exception": false,
     "start_time": "2022-11-04T03:10:34.682974",
     "status": "completed"
    },
    "tags": []
   },
   "outputs": [
    {
     "name": "stderr",
     "output_type": "stream",
     "text": [
      "/home/runner/work/corr-app/corr-app/_notebooks/scripts/read_data.py:187: SettingWithCopyWarning:\n",
      "\n",
      "\n",
      "A value is trying to be set on a copy of a slice from a DataFrame.\n",
      "Try using .loc[row_indexer,col_indexer] = value instead\n",
      "\n",
      "See the caveats in the documentation: https://pandas.pydata.org/pandas-docs/stable/user_guide/indexing.html#returning-a-view-versus-a-copy\n",
      "\n"
     ]
    },
    {
     "name": "stderr",
     "output_type": "stream",
     "text": [
      "/home/runner/work/corr-app/corr-app/_notebooks/scripts/read_data.py:215: SettingWithCopyWarning:\n",
      "\n",
      "\n",
      "A value is trying to be set on a copy of a slice from a DataFrame.\n",
      "Try using .loc[row_indexer,col_indexer] = value instead\n",
      "\n",
      "See the caveats in the documentation: https://pandas.pydata.org/pandas-docs/stable/user_guide/indexing.html#returning-a-view-versus-a-copy\n",
      "\n"
     ]
    }
   ],
   "source": [
    "#hide\n",
    "df_all = read_api()\n",
    "#df_all = df_all.drop(['SP500', 'XAU', 'ETH', 'BTC'], axis=1)\n",
    "\n"
   ]
  },
  {
   "cell_type": "code",
   "execution_count": 6,
   "id": "mature-alert",
   "metadata": {
    "execution": {
     "iopub.execute_input": "2022-11-04T03:10:45.546776Z",
     "iopub.status.busy": "2022-11-04T03:10:45.546055Z",
     "iopub.status.idle": "2022-11-04T03:10:45.583107Z",
     "shell.execute_reply": "2022-11-04T03:10:45.582046Z"
    },
    "papermill": {
     "duration": 0.058457,
     "end_time": "2022-11-04T03:10:45.583253",
     "exception": false,
     "start_time": "2022-11-04T03:10:45.524796",
     "status": "completed"
    },
    "tags": []
   },
   "outputs": [],
   "source": [
    "#hide_input\n",
    "sum_corr = df_all.corr().sum().sort_values(ascending=True).index.values\n",
    "#df_all[sum_corr].corr()"
   ]
  },
  {
   "cell_type": "markdown",
   "id": "complex-syndicate",
   "metadata": {
    "papermill": {
     "duration": 0.016463,
     "end_time": "2022-11-04T03:10:45.615183",
     "exception": false,
     "start_time": "2022-11-04T03:10:45.598720",
     "status": "completed"
    },
    "tags": []
   },
   "source": [
    "## Išplėstinė koreliacijų matrica. "
   ]
  },
  {
   "cell_type": "code",
   "execution_count": 7,
   "id": "atomic-omaha",
   "metadata": {
    "execution": {
     "iopub.execute_input": "2022-11-04T03:10:45.651467Z",
     "iopub.status.busy": "2022-11-04T03:10:45.648398Z",
     "iopub.status.idle": "2022-11-04T03:10:47.411695Z",
     "shell.execute_reply": "2022-11-04T03:10:47.412324Z"
    },
    "papermill": {
     "duration": 1.7831,
     "end_time": "2022-11-04T03:10:47.412524",
     "exception": false,
     "start_time": "2022-11-04T03:10:45.629424",
     "status": "completed"
    },
    "tags": []
   },
   "outputs": [
    {
     "data": {
      "image/png": "[encoded data removed]",
      "text/plain": [
       "<Figure size 1080x792 with 2 Axes>"
      ]
     },
     "metadata": {
      "needs_background": "light"
     },
     "output_type": "display_data"
    }
   ],
   "source": [
    "#hide_input\n",
    "plt.figure(figsize=(15, 11))\n",
    "sns.heatmap(df_all[sum_corr].corr(), annot=True, cmap=\"cubehelix\") \n",
    "sns.set(font_scale=1.25)\n",
    "plt.savefig('corr_matrix.png', format='eps')"
   ]
  },
  {
   "cell_type": "code",
   "execution_count": 8,
   "id": "arbitrary-sullivan",
   "metadata": {
    "execution": {
     "iopub.execute_input": "2022-11-04T03:10:47.455720Z",
     "iopub.status.busy": "2022-11-04T03:10:47.455001Z",
     "iopub.status.idle": "2022-11-04T03:10:47.489289Z",
     "shell.execute_reply": "2022-11-04T03:10:47.488610Z"
    },
    "papermill": {
     "duration": 0.058685,
     "end_time": "2022-11-04T03:10:47.489446",
     "exception": false,
     "start_time": "2022-11-04T03:10:47.430761",
     "status": "completed"
    },
    "tags": []
   },
   "outputs": [],
   "source": [
    "#hide\n",
    "#df_all_mrk = read_api()"
   ]
  },
  {
   "cell_type": "code",
   "execution_count": 9,
   "id": "delayed-adapter",
   "metadata": {
    "execution": {
     "iopub.execute_input": "2022-11-04T03:10:47.532187Z",
     "iopub.status.busy": "2022-11-04T03:10:47.530681Z",
     "iopub.status.idle": "2022-11-04T03:10:47.566000Z",
     "shell.execute_reply": "2022-11-04T03:10:47.565382Z"
    },
    "papermill": {
     "duration": 0.05816,
     "end_time": "2022-11-04T03:10:47.566202",
     "exception": false,
     "start_time": "2022-11-04T03:10:47.508042",
     "status": "completed"
    },
    "tags": []
   },
   "outputs": [],
   "source": [
    "#hide\n",
    "#Koreliacijų koeficientai"
   ]
  },
  {
   "cell_type": "code",
   "execution_count": 10,
   "id": "seeing-celebration",
   "metadata": {
    "execution": {
     "iopub.execute_input": "2022-11-04T03:10:47.606225Z",
     "iopub.status.busy": "2022-11-04T03:10:47.605418Z",
     "iopub.status.idle": "2022-11-04T03:10:47.639020Z",
     "shell.execute_reply": "2022-11-04T03:10:47.638399Z"
    },
    "papermill": {
     "duration": 0.056243,
     "end_time": "2022-11-04T03:10:47.639159",
     "exception": false,
     "start_time": "2022-11-04T03:10:47.582916",
     "status": "completed"
    },
    "tags": []
   },
   "outputs": [],
   "source": [
    "#hide_input\n",
    "#sum_corr = df_all_mrk.corr().sum().sort_values(ascending=True).index.values\n",
    "#df_all_mrk[sum_corr].corr()"
   ]
  },
  {
   "cell_type": "code",
   "execution_count": 11,
   "id": "other-painting",
   "metadata": {
    "execution": {
     "iopub.execute_input": "2022-11-04T03:10:47.677789Z",
     "iopub.status.busy": "2022-11-04T03:10:47.676933Z",
     "iopub.status.idle": "2022-11-04T03:10:47.710957Z",
     "shell.execute_reply": "2022-11-04T03:10:47.711527Z"
    },
    "papermill": {
     "duration": 0.056226,
     "end_time": "2022-11-04T03:10:47.711703",
     "exception": false,
     "start_time": "2022-11-04T03:10:47.655477",
     "status": "completed"
    },
    "tags": []
   },
   "outputs": [],
   "source": [
    "#hide\n",
    "#Koreliacijos matrica. "
   ]
  },
  {
   "cell_type": "code",
   "execution_count": 12,
   "id": "modular-magnitude",
   "metadata": {
    "execution": {
     "iopub.execute_input": "2022-11-04T03:10:47.752496Z",
     "iopub.status.busy": "2022-11-04T03:10:47.751777Z",
     "iopub.status.idle": "2022-11-04T03:10:47.784353Z",
     "shell.execute_reply": "2022-11-04T03:10:47.783551Z"
    },
    "papermill": {
     "duration": 0.055338,
     "end_time": "2022-11-04T03:10:47.784506",
     "exception": false,
     "start_time": "2022-11-04T03:10:47.729168",
     "status": "completed"
    },
    "tags": []
   },
   "outputs": [],
   "source": [
    "#hide_input\n",
    "#plt.figure(figsize=(15, 8))\n",
    "#sns.heatmap(df_all_mrk[sum_corr].corr(), annot=True, cmap=\"BrBG\");\n",
    "#plt.savefig('corr_matrix_all.eps', format='eps')"
   ]
  },
  {
   "cell_type": "code",
   "execution_count": null,
   "id": "original-senator",
   "metadata": {
    "papermill": {
     "duration": 0.017849,
     "end_time": "2022-11-04T03:10:47.819876",
     "exception": false,
     "start_time": "2022-11-04T03:10:47.802027",
     "status": "completed"
    },
    "tags": []
   },
   "outputs": [],
   "source": []
  },
  {
   "cell_type": "code",
   "execution_count": null,
   "id": "saving-secretariat",
   "metadata": {
    "papermill": {
     "duration": 0.016649,
     "end_time": "2022-11-04T03:10:47.853500",
     "exception": false,
     "start_time": "2022-11-04T03:10:47.836851",
     "status": "completed"
    },
    "tags": []
   },
   "outputs": [],
   "source": []
  }
 ],
 "metadata": {
  "kernelspec": {
   "display_name": "Python 3",
   "language": "python",
   "name": "python3"
  },
  "language_info": {
   "codemirror_mode": {
    "name": "ipython",
    "version": 3
   },
   "file_extension": ".py",
   "mimetype": "text/x-python",
   "name": "python",
   "nbconvert_exporter": "python",
   "pygments_lexer": "ipython3",
   "version": "3.6.15"
  },
  "papermill": {
   "default_parameters": {},
   "duration": 18.230965,
   "end_time": "2022-11-04T03:10:48.492682",
   "environment_variables": {},
   "exception": null,
   "input_path": "App-Correlation_charts.ipynb",
   "output_path": "App-Correlation_charts.ipynb",
   "parameters": {},
   "start_time": "2022-11-04T03:10:30.261717",
   "version": "2.2.2"
  }
 },
 "nbformat": 4,
 "nbformat_minor": 5
}