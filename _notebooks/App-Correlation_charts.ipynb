{
 "cells": [
  {
   "cell_type": "markdown",
   "id": "touched-facility",
   "metadata": {
    "papermill": {
     "duration": 0.015913,
     "end_time": "2021-11-09T01:57:30.001567",
     "exception": false,
     "start_time": "2021-11-09T01:57:29.985654",
     "status": "completed"
    },
    "tags": []
   },
   "source": [
    "# Koreliacijų matrica\n",
    "> Išplėstinė koreliacijų matrica. \n",
    "\n",
    "- toc: true \n",
    "- badges: true\n",
    "- comments: false\n",
    "- categories: [Dominykas Tautkus]\n",
    "- image: images/matrix.png"
   ]
  },
  {
   "cell_type": "code",
   "execution_count": null,
   "id": "premium-weekend",
   "metadata": {
    "papermill": {
     "duration": 0.011697,
     "end_time": "2021-11-09T01:57:30.026015",
     "exception": false,
     "start_time": "2021-11-09T01:57:30.014318",
     "status": "completed"
    },
    "tags": []
   },
   "outputs": [],
   "source": []
  },
  {
   "cell_type": "code",
   "execution_count": 1,
   "id": "vertical-rebate",
   "metadata": {
    "execution": {
     "iopub.execute_input": "2021-11-09T01:57:30.062777Z",
     "iopub.status.busy": "2021-11-09T01:57:30.061950Z",
     "iopub.status.idle": "2021-11-09T01:57:30.073604Z",
     "shell.execute_reply": "2021-11-09T01:57:30.073102Z"
    },
    "papermill": {
     "duration": 0.034856,
     "end_time": "2021-11-09T01:57:30.073738",
     "exception": false,
     "start_time": "2021-11-09T01:57:30.038882",
     "status": "completed"
    },
    "tags": []
   },
   "outputs": [],
   "source": [
    "#hide\n",
    "%load_ext autoreload\n",
    "%autoreload 2"
   ]
  },
  {
   "cell_type": "code",
   "execution_count": 2,
   "id": "overall-advancement",
   "metadata": {
    "execution": {
     "iopub.execute_input": "2021-11-09T01:57:30.102163Z",
     "iopub.status.busy": "2021-11-09T01:57:30.101549Z",
     "iopub.status.idle": "2021-11-09T01:57:31.405979Z",
     "shell.execute_reply": "2021-11-09T01:57:31.405455Z"
    },
    "papermill": {
     "duration": 1.319987,
     "end_time": "2021-11-09T01:57:31.406112",
     "exception": false,
     "start_time": "2021-11-09T01:57:30.086125",
     "status": "completed"
    },
    "tags": []
   },
   "outputs": [],
   "source": [
    "#hide\n",
    "from scripts.read_data import read_api\n",
    "from IPython.display import HTML\n",
    "import plotly.graph_objects as go\n"
   ]
  },
  {
   "cell_type": "code",
   "execution_count": 3,
   "id": "light-crazy",
   "metadata": {
    "execution": {
     "iopub.execute_input": "2021-11-09T01:57:31.437586Z",
     "iopub.status.busy": "2021-11-09T01:57:31.436721Z",
     "iopub.status.idle": "2021-11-09T01:57:31.462171Z",
     "shell.execute_reply": "2021-11-09T01:57:31.462613Z"
    },
    "papermill": {
     "duration": 0.043281,
     "end_time": "2021-11-09T01:57:31.462744",
     "exception": false,
     "start_time": "2021-11-09T01:57:31.419463",
     "status": "completed"
    },
    "tags": []
   },
   "outputs": [],
   "source": [
    "#hide\n",
    "### ICO koreliacija"
   ]
  },
  {
   "cell_type": "code",
   "execution_count": 4,
   "id": "likely-bahrain",
   "metadata": {
    "execution": {
     "iopub.execute_input": "2021-11-09T01:57:31.493299Z",
     "iopub.status.busy": "2021-11-09T01:57:31.492665Z",
     "iopub.status.idle": "2021-11-09T01:57:32.378238Z",
     "shell.execute_reply": "2021-11-09T01:57:32.377043Z"
    },
    "papermill": {
     "duration": 0.903446,
     "end_time": "2021-11-09T01:57:32.378370",
     "exception": false,
     "start_time": "2021-11-09T01:57:31.474924",
     "status": "completed"
    },
    "tags": []
   },
   "outputs": [],
   "source": [
    "#hide\n",
    "import matplotlib.pyplot as plt\n",
    "import numpy as np\n",
    "import pandas as pd\n",
    "import seaborn as sns\n",
    "import matplotlib.pyplot as plt \n",
    "import matplotlib.dates as mdates\n",
    "import matplotlib.pyplot as plt"
   ]
  },
  {
   "cell_type": "code",
   "execution_count": 5,
   "id": "superior-blanket",
   "metadata": {
    "execution": {
     "iopub.execute_input": "2021-11-09T01:57:32.409353Z",
     "iopub.status.busy": "2021-11-09T01:57:32.408726Z",
     "iopub.status.idle": "2021-11-09T01:57:43.358069Z",
     "shell.execute_reply": "2021-11-09T01:57:43.357555Z"
    },
    "papermill": {
     "duration": 10.966728,
     "end_time": "2021-11-09T01:57:43.358198",
     "exception": false,
     "start_time": "2021-11-09T01:57:32.391470",
     "status": "completed"
    },
    "tags": []
   },
   "outputs": [
    {
     "name": "stderr",
     "output_type": "stream",
     "text": [
      "/home/runner/work/corr-app/corr-app/_notebooks/scripts/read_data.py:187: SettingWithCopyWarning:\n",
      "\n",
      "\n",
      "A value is trying to be set on a copy of a slice from a DataFrame.\n",
      "Try using .loc[row_indexer,col_indexer] = value instead\n",
      "\n",
      "See the caveats in the documentation: https://pandas.pydata.org/pandas-docs/stable/user_guide/indexing.html#returning-a-view-versus-a-copy\n",
      "\n"
     ]
    },
    {
     "name": "stderr",
     "output_type": "stream",
     "text": [
      "/home/runner/work/corr-app/corr-app/_notebooks/scripts/read_data.py:215: SettingWithCopyWarning:\n",
      "\n",
      "\n",
      "A value is trying to be set on a copy of a slice from a DataFrame.\n",
      "Try using .loc[row_indexer,col_indexer] = value instead\n",
      "\n",
      "See the caveats in the documentation: https://pandas.pydata.org/pandas-docs/stable/user_guide/indexing.html#returning-a-view-versus-a-copy\n",
      "\n"
     ]
    }
   ],
   "source": [
    "#hide\n",
    "df_all = read_api()\n",
    "#df_all = df_all.drop(['SP500', 'XAU', 'ETH', 'BTC'], axis=1)\n",
    "\n"
   ]
  },
  {
   "cell_type": "code",
   "execution_count": 6,
   "id": "mature-alert",
   "metadata": {
    "execution": {
     "iopub.execute_input": "2021-11-09T01:57:43.393951Z",
     "iopub.status.busy": "2021-11-09T01:57:43.391383Z",
     "iopub.status.idle": "2021-11-09T01:57:43.423424Z",
     "shell.execute_reply": "2021-11-09T01:57:43.423931Z"
    },
    "papermill": {
     "duration": 0.051976,
     "end_time": "2021-11-09T01:57:43.424079",
     "exception": false,
     "start_time": "2021-11-09T01:57:43.372103",
     "status": "completed"
    },
    "tags": []
   },
   "outputs": [],
   "source": [
    "#hide_input\n",
    "sum_corr = df_all.corr().sum().sort_values(ascending=True).index.values\n",
    "#df_all[sum_corr].corr()"
   ]
  },
  {
   "cell_type": "markdown",
   "id": "complex-syndicate",
   "metadata": {
    "papermill": {
     "duration": 0.012982,
     "end_time": "2021-11-09T01:57:43.449718",
     "exception": false,
     "start_time": "2021-11-09T01:57:43.436736",
     "status": "completed"
    },
    "tags": []
   },
   "source": [
    "## Išplėstinė koreliacijų matrica. "
   ]
  },
  {
   "cell_type": "code",
   "execution_count": 7,
   "id": "atomic-omaha",
   "metadata": {
    "execution": {
     "iopub.execute_input": "2021-11-09T01:57:43.482269Z",
     "iopub.status.busy": "2021-11-09T01:57:43.478616Z",
     "iopub.status.idle": "2021-11-09T01:57:45.037701Z",
     "shell.execute_reply": "2021-11-09T01:57:45.037269Z"
    },
    "papermill": {
     "duration": 1.575465,
     "end_time": "2021-11-09T01:57:45.037821",
     "exception": false,
     "start_time": "2021-11-09T01:57:43.462356",
     "status": "completed"
    },
    "tags": []
   },
   "outputs": [
    {
     "data": {
      "image/png": "[encoded data removed]",
      "text/plain": [
       "<Figure size 1080x792 with 2 Axes>"
      ]
     },
     "metadata": {
      "needs_background": "light"
     },
     "output_type": "display_data"
    }
   ],
   "source": [
    "#hide_input\n",
    "plt.figure(figsize=(15, 11))\n",
    "sns.heatmap(df_all[sum_corr].corr(), annot=True, cmap=\"cubehelix\") \n",
    "sns.set(font_scale=1.25)\n",
    "plt.savefig('corr_matrix.png', format='eps')"
   ]
  },
  {
   "cell_type": "code",
   "execution_count": 8,
   "id": "arbitrary-sullivan",
   "metadata": {
    "execution": {
     "iopub.execute_input": "2021-11-09T01:57:45.072850Z",
     "iopub.status.busy": "2021-11-09T01:57:45.071386Z",
     "iopub.status.idle": "2021-11-09T01:57:45.098309Z",
     "shell.execute_reply": "2021-11-09T01:57:45.097744Z"
    },
    "papermill": {
     "duration": 0.045953,
     "end_time": "2021-11-09T01:57:45.098429",
     "exception": false,
     "start_time": "2021-11-09T01:57:45.052476",
     "status": "completed"
    },
    "tags": []
   },
   "outputs": [],
   "source": [
    "#hide\n",
    "#df_all_mrk = read_api()"
   ]
  },
  {
   "cell_type": "code",
   "execution_count": 9,
   "id": "delayed-adapter",
   "metadata": {
    "execution": {
     "iopub.execute_input": "2021-11-09T01:57:45.133461Z",
     "iopub.status.busy": "2021-11-09T01:57:45.132901Z",
     "iopub.status.idle": "2021-11-09T01:57:45.158022Z",
     "shell.execute_reply": "2021-11-09T01:57:45.157543Z"
    },
    "papermill": {
     "duration": 0.04319,
     "end_time": "2021-11-09T01:57:45.158131",
     "exception": false,
     "start_time": "2021-11-09T01:57:45.114941",
     "status": "completed"
    },
    "tags": []
   },
   "outputs": [],
   "source": [
    "#hide\n",
    "#Koreliacijų koeficientai"
   ]
  },
  {
   "cell_type": "code",
   "execution_count": 10,
   "id": "seeing-celebration",
   "metadata": {
    "execution": {
     "iopub.execute_input": "2021-11-09T01:57:45.190816Z",
     "iopub.status.busy": "2021-11-09T01:57:45.190252Z",
     "iopub.status.idle": "2021-11-09T01:57:45.213730Z",
     "shell.execute_reply": "2021-11-09T01:57:45.214187Z"
    },
    "papermill": {
     "duration": 0.041497,
     "end_time": "2021-11-09T01:57:45.214307",
     "exception": false,
     "start_time": "2021-11-09T01:57:45.172810",
     "status": "completed"
    },
    "tags": []
   },
   "outputs": [],
   "source": [
    "#hide_input\n",
    "#sum_corr = df_all_mrk.corr().sum().sort_values(ascending=True).index.values\n",
    "#df_all_mrk[sum_corr].corr()"
   ]
  },
  {
   "cell_type": "code",
   "execution_count": 11,
   "id": "other-painting",
   "metadata": {
    "execution": {
     "iopub.execute_input": "2021-11-09T01:57:45.250723Z",
     "iopub.status.busy": "2021-11-09T01:57:45.249952Z",
     "iopub.status.idle": "2021-11-09T01:57:45.272990Z",
     "shell.execute_reply": "2021-11-09T01:57:45.272381Z"
    },
    "papermill": {
     "duration": 0.044486,
     "end_time": "2021-11-09T01:57:45.273104",
     "exception": false,
     "start_time": "2021-11-09T01:57:45.228618",
     "status": "completed"
    },
    "tags": []
   },
   "outputs": [],
   "source": [
    "#hide\n",
    "#Koreliacijos matrica. "
   ]
  },
  {
   "cell_type": "code",
   "execution_count": 12,
   "id": "modular-magnitude",
   "metadata": {
    "execution": {
     "iopub.execute_input": "2021-11-09T01:57:45.308708Z",
     "iopub.status.busy": "2021-11-09T01:57:45.308130Z",
     "iopub.status.idle": "2021-11-09T01:57:45.334603Z",
     "shell.execute_reply": "2021-11-09T01:57:45.335146Z"
    },
    "papermill": {
     "duration": 0.047253,
     "end_time": "2021-11-09T01:57:45.335285",
     "exception": false,
     "start_time": "2021-11-09T01:57:45.288032",
     "status": "completed"
    },
    "tags": []
   },
   "outputs": [],
   "source": [
    "#hide_input\n",
    "#plt.figure(figsize=(15, 8))\n",
    "#sns.heatmap(df_all_mrk[sum_corr].corr(), annot=True, cmap=\"BrBG\");\n",
    "#plt.savefig('corr_matrix_all.eps', format='eps')"
   ]
  },
  {
   "cell_type": "code",
   "execution_count": null,
   "id": "original-senator",
   "metadata": {
    "papermill": {
     "duration": 0.015157,
     "end_time": "2021-11-09T01:57:45.366190",
     "exception": false,
     "start_time": "2021-11-09T01:57:45.351033",
     "status": "completed"
    },
    "tags": []
   },
   "outputs": [],
   "source": []
  },
  {
   "cell_type": "code",
   "execution_count": null,
   "id": "saving-secretariat",
   "metadata": {
    "papermill": {
     "duration": 0.015094,
     "end_time": "2021-11-09T01:57:45.396281",
     "exception": false,
     "start_time": "2021-11-09T01:57:45.381187",
     "status": "completed"
    },
    "tags": []
   },
   "outputs": [],
   "source": []
  }
 ],
 "metadata": {
  "kernelspec": {
   "display_name": "Python 3",
   "language": "python",
   "name": "python3"
  },
  "language_info": {
   "codemirror_mode": {
    "name": "ipython",
    "version": 3
   },
   "file_extension": ".py",
   "mimetype": "text/x-python",
   "name": "python",
   "nbconvert_exporter": "python",
   "pygments_lexer": "ipython3",
   "version": "3.6.15"
  },
  "papermill": {
   "default_parameters": {},
   "duration": 17.020741,
   "end_time": "2021-11-09T01:57:45.920765",
   "environment_variables": {},
   "exception": null,
   "input_path": "App-Correlation_charts.ipynb",
   "output_path": "App-Correlation_charts.ipynb",
   "parameters": {},
   "start_time": "2021-11-09T01:57:28.900024",
   "version": "2.2.2"
  }
 },
 "nbformat": 4,
 "nbformat_minor": 5
}