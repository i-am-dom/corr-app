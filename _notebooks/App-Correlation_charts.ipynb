{
 "cells": [
  {
   "cell_type": "markdown",
   "id": "touched-facility",
   "metadata": {
    "papermill": {
     "duration": 0.019536,
     "end_time": "2021-08-10T01:59:54.000685",
     "exception": false,
     "start_time": "2021-08-10T01:59:53.981149",
     "status": "completed"
    },
    "tags": []
   },
   "source": [
    "# Koreliacijų matrica\n",
    "> Išplėstinė koreliacijų matrica. \n",
    "\n",
    "- toc: true \n",
    "- badges: true\n",
    "- comments: false\n",
    "- categories: [Dominykas Tautkus]\n",
    "- image: images/matrix.png"
   ]
  },
  {
   "cell_type": "code",
   "execution_count": null,
   "id": "premium-weekend",
   "metadata": {
    "papermill": {
     "duration": 0.012093,
     "end_time": "2021-08-10T01:59:54.025426",
     "exception": false,
     "start_time": "2021-08-10T01:59:54.013333",
     "status": "completed"
    },
    "tags": []
   },
   "outputs": [],
   "source": []
  },
  {
   "cell_type": "code",
   "execution_count": 1,
   "id": "vertical-rebate",
   "metadata": {
    "execution": {
     "iopub.execute_input": "2021-08-10T01:59:54.062639Z",
     "iopub.status.busy": "2021-08-10T01:59:54.058549Z",
     "iopub.status.idle": "2021-08-10T01:59:54.072980Z",
     "shell.execute_reply": "2021-08-10T01:59:54.073520Z"
    },
    "papermill": {
     "duration": 0.036289,
     "end_time": "2021-08-10T01:59:54.073677",
     "exception": false,
     "start_time": "2021-08-10T01:59:54.037388",
     "status": "completed"
    },
    "tags": []
   },
   "outputs": [],
   "source": [
    "#hide\n",
    "%load_ext autoreload\n",
    "%autoreload 2"
   ]
  },
  {
   "cell_type": "code",
   "execution_count": 2,
   "id": "overall-advancement",
   "metadata": {
    "execution": {
     "iopub.execute_input": "2021-08-10T01:59:54.101761Z",
     "iopub.status.busy": "2021-08-10T01:59:54.101185Z",
     "iopub.status.idle": "2021-08-10T01:59:55.451241Z",
     "shell.execute_reply": "2021-08-10T01:59:55.450364Z"
    },
    "papermill": {
     "duration": 1.365756,
     "end_time": "2021-08-10T01:59:55.451383",
     "exception": false,
     "start_time": "2021-08-10T01:59:54.085627",
     "status": "completed"
    },
    "tags": []
   },
   "outputs": [],
   "source": [
    "#hide\n",
    "from scripts.read_data import read_api\n",
    "from IPython.display import HTML\n",
    "import plotly.graph_objects as go\n"
   ]
  },
  {
   "cell_type": "code",
   "execution_count": 3,
   "id": "light-crazy",
   "metadata": {
    "execution": {
     "iopub.execute_input": "2021-08-10T01:59:55.480669Z",
     "iopub.status.busy": "2021-08-10T01:59:55.480021Z",
     "iopub.status.idle": "2021-08-10T01:59:55.501395Z",
     "shell.execute_reply": "2021-08-10T01:59:55.501833Z"
    },
    "papermill": {
     "duration": 0.03857,
     "end_time": "2021-08-10T01:59:55.501995",
     "exception": false,
     "start_time": "2021-08-10T01:59:55.463425",
     "status": "completed"
    },
    "tags": []
   },
   "outputs": [],
   "source": [
    "#hide\n",
    "### ICO koreliacija"
   ]
  },
  {
   "cell_type": "code",
   "execution_count": 4,
   "id": "likely-bahrain",
   "metadata": {
    "execution": {
     "iopub.execute_input": "2021-08-10T01:59:55.528681Z",
     "iopub.status.busy": "2021-08-10T01:59:55.528111Z",
     "iopub.status.idle": "2021-08-10T01:59:56.438115Z",
     "shell.execute_reply": "2021-08-10T01:59:56.437536Z"
    },
    "papermill": {
     "duration": 0.92395,
     "end_time": "2021-08-10T01:59:56.438265",
     "exception": false,
     "start_time": "2021-08-10T01:59:55.514315",
     "status": "completed"
    },
    "tags": []
   },
   "outputs": [],
   "source": [
    "#hide\n",
    "import matplotlib.pyplot as plt\n",
    "import numpy as np\n",
    "import pandas as pd\n",
    "import seaborn as sns\n",
    "import matplotlib.pyplot as plt \n",
    "import matplotlib.dates as mdates\n",
    "import matplotlib.pyplot as plt"
   ]
  },
  {
   "cell_type": "code",
   "execution_count": 5,
   "id": "superior-blanket",
   "metadata": {
    "execution": {
     "iopub.execute_input": "2021-08-10T01:59:56.470459Z",
     "iopub.status.busy": "2021-08-10T01:59:56.467801Z",
     "iopub.status.idle": "2021-08-10T02:00:11.353146Z",
     "shell.execute_reply": "2021-08-10T02:00:11.352219Z"
    },
    "papermill": {
     "duration": 14.902341,
     "end_time": "2021-08-10T02:00:11.353281",
     "exception": false,
     "start_time": "2021-08-10T01:59:56.450940",
     "status": "completed"
    },
    "tags": []
   },
   "outputs": [
    {
     "name": "stderr",
     "output_type": "stream",
     "text": [
      "/home/runner/work/corr-app/corr-app/_notebooks/scripts/read_data.py:187: SettingWithCopyWarning:\n",
      "\n",
      "\n",
      "A value is trying to be set on a copy of a slice from a DataFrame.\n",
      "Try using .loc[row_indexer,col_indexer] = value instead\n",
      "\n",
      "See the caveats in the documentation: https://pandas.pydata.org/pandas-docs/stable/user_guide/indexing.html#returning-a-view-versus-a-copy\n",
      "\n"
     ]
    },
    {
     "name": "stderr",
     "output_type": "stream",
     "text": [
      "/home/runner/work/corr-app/corr-app/_notebooks/scripts/read_data.py:215: SettingWithCopyWarning:\n",
      "\n",
      "\n",
      "A value is trying to be set on a copy of a slice from a DataFrame.\n",
      "Try using .loc[row_indexer,col_indexer] = value instead\n",
      "\n",
      "See the caveats in the documentation: https://pandas.pydata.org/pandas-docs/stable/user_guide/indexing.html#returning-a-view-versus-a-copy\n",
      "\n"
     ]
    }
   ],
   "source": [
    "#hide\n",
    "df_all = read_api()\n",
    "#df_all = df_all.drop(['SP500', 'XAU', 'ETH', 'BTC'], axis=1)\n",
    "\n"
   ]
  },
  {
   "cell_type": "code",
   "execution_count": 6,
   "id": "mature-alert",
   "metadata": {
    "execution": {
     "iopub.execute_input": "2021-08-10T02:00:11.381802Z",
     "iopub.status.busy": "2021-08-10T02:00:11.381249Z",
     "iopub.status.idle": "2021-08-10T02:00:11.413072Z",
     "shell.execute_reply": "2021-08-10T02:00:11.412292Z"
    },
    "papermill": {
     "duration": 0.047416,
     "end_time": "2021-08-10T02:00:11.413189",
     "exception": false,
     "start_time": "2021-08-10T02:00:11.365773",
     "status": "completed"
    },
    "tags": []
   },
   "outputs": [],
   "source": [
    "#hide_input\n",
    "sum_corr = df_all.corr().sum().sort_values(ascending=True).index.values\n",
    "#df_all[sum_corr].corr()"
   ]
  },
  {
   "cell_type": "markdown",
   "id": "complex-syndicate",
   "metadata": {
    "papermill": {
     "duration": 0.012577,
     "end_time": "2021-08-10T02:00:11.438625",
     "exception": false,
     "start_time": "2021-08-10T02:00:11.426048",
     "status": "completed"
    },
    "tags": []
   },
   "source": [
    "## Išplėstinė koreliacijų matrica. "
   ]
  },
  {
   "cell_type": "code",
   "execution_count": 7,
   "id": "atomic-omaha",
   "metadata": {
    "execution": {
     "iopub.execute_input": "2021-08-10T02:00:11.470408Z",
     "iopub.status.busy": "2021-08-10T02:00:11.469788Z",
     "iopub.status.idle": "2021-08-10T02:00:12.766002Z",
     "shell.execute_reply": "2021-08-10T02:00:12.765369Z"
    },
    "papermill": {
     "duration": 1.315016,
     "end_time": "2021-08-10T02:00:12.766135",
     "exception": false,
     "start_time": "2021-08-10T02:00:11.451119",
     "status": "completed"
    },
    "tags": []
   },
   "outputs": [
    {
     "data": {
      "image/png": "[encoded data removed]",
      "text/plain": [
       "<Figure size 1080x792 with 2 Axes>"
      ]
     },
     "metadata": {
      "needs_background": "light"
     },
     "output_type": "display_data"
    }
   ],
   "source": [
    "#hide_input\n",
    "plt.figure(figsize=(15, 11))\n",
    "sns.heatmap(df_all[sum_corr].corr(), annot=True, cmap=\"cubehelix\") \n",
    "sns.set(font_scale=1.25)\n",
    "plt.savefig('corr_matrix.png', format='eps')"
   ]
  },
  {
   "cell_type": "code",
   "execution_count": 8,
   "id": "arbitrary-sullivan",
   "metadata": {
    "execution": {
     "iopub.execute_input": "2021-08-10T02:00:12.800650Z",
     "iopub.status.busy": "2021-08-10T02:00:12.800070Z",
     "iopub.status.idle": "2021-08-10T02:00:12.831930Z",
     "shell.execute_reply": "2021-08-10T02:00:12.831043Z"
    },
    "papermill": {
     "duration": 0.050898,
     "end_time": "2021-08-10T02:00:12.832133",
     "exception": false,
     "start_time": "2021-08-10T02:00:12.781235",
     "status": "completed"
    },
    "tags": []
   },
   "outputs": [],
   "source": [
    "#hide\n",
    "#df_all_mrk = read_api()"
   ]
  },
  {
   "cell_type": "code",
   "execution_count": 9,
   "id": "delayed-adapter",
   "metadata": {
    "execution": {
     "iopub.execute_input": "2021-08-10T02:00:12.868080Z",
     "iopub.status.busy": "2021-08-10T02:00:12.867502Z",
     "iopub.status.idle": "2021-08-10T02:00:12.895067Z",
     "shell.execute_reply": "2021-08-10T02:00:12.895607Z"
    },
    "papermill": {
     "duration": 0.046267,
     "end_time": "2021-08-10T02:00:12.895774",
     "exception": false,
     "start_time": "2021-08-10T02:00:12.849507",
     "status": "completed"
    },
    "tags": []
   },
   "outputs": [],
   "source": [
    "#hide\n",
    "#Koreliacijų koeficientai"
   ]
  },
  {
   "cell_type": "code",
   "execution_count": 10,
   "id": "seeing-celebration",
   "metadata": {
    "execution": {
     "iopub.execute_input": "2021-08-10T02:00:12.934908Z",
     "iopub.status.busy": "2021-08-10T02:00:12.929929Z",
     "iopub.status.idle": "2021-08-10T02:00:12.957734Z",
     "shell.execute_reply": "2021-08-10T02:00:12.958364Z"
    },
    "papermill": {
     "duration": 0.047481,
     "end_time": "2021-08-10T02:00:12.958553",
     "exception": false,
     "start_time": "2021-08-10T02:00:12.911072",
     "status": "completed"
    },
    "tags": []
   },
   "outputs": [],
   "source": [
    "#hide_input\n",
    "#sum_corr = df_all_mrk.corr().sum().sort_values(ascending=True).index.values\n",
    "#df_all_mrk[sum_corr].corr()"
   ]
  },
  {
   "cell_type": "code",
   "execution_count": 11,
   "id": "other-painting",
   "metadata": {
    "execution": {
     "iopub.execute_input": "2021-08-10T02:00:12.990762Z",
     "iopub.status.busy": "2021-08-10T02:00:12.990207Z",
     "iopub.status.idle": "2021-08-10T02:00:13.017425Z",
     "shell.execute_reply": "2021-08-10T02:00:13.018067Z"
    },
    "papermill": {
     "duration": 0.044879,
     "end_time": "2021-08-10T02:00:13.018256",
     "exception": false,
     "start_time": "2021-08-10T02:00:12.973377",
     "status": "completed"
    },
    "tags": []
   },
   "outputs": [],
   "source": [
    "#hide\n",
    "#Koreliacijos matrica. "
   ]
  },
  {
   "cell_type": "code",
   "execution_count": 12,
   "id": "modular-magnitude",
   "metadata": {
    "execution": {
     "iopub.execute_input": "2021-08-10T02:00:13.051309Z",
     "iopub.status.busy": "2021-08-10T02:00:13.050782Z",
     "iopub.status.idle": "2021-08-10T02:00:13.078306Z",
     "shell.execute_reply": "2021-08-10T02:00:13.077593Z"
    },
    "papermill": {
     "duration": 0.045055,
     "end_time": "2021-08-10T02:00:13.078468",
     "exception": false,
     "start_time": "2021-08-10T02:00:13.033413",
     "status": "completed"
    },
    "tags": []
   },
   "outputs": [],
   "source": [
    "#hide_input\n",
    "#plt.figure(figsize=(15, 8))\n",
    "#sns.heatmap(df_all_mrk[sum_corr].corr(), annot=True, cmap=\"BrBG\");\n",
    "#plt.savefig('corr_matrix_all.eps', format='eps')"
   ]
  },
  {
   "cell_type": "code",
   "execution_count": null,
   "id": "original-senator",
   "metadata": {
    "papermill": {
     "duration": 0.01447,
     "end_time": "2021-08-10T02:00:13.107912",
     "exception": false,
     "start_time": "2021-08-10T02:00:13.093442",
     "status": "completed"
    },
    "tags": []
   },
   "outputs": [],
   "source": []
  },
  {
   "cell_type": "code",
   "execution_count": null,
   "id": "saving-secretariat",
   "metadata": {
    "papermill": {
     "duration": 0.014652,
     "end_time": "2021-08-10T02:00:13.137540",
     "exception": false,
     "start_time": "2021-08-10T02:00:13.122888",
     "status": "completed"
    },
    "tags": []
   },
   "outputs": [],
   "source": []
  }
 ],
 "metadata": {
  "kernelspec": {
   "display_name": "Python 3",
   "language": "python",
   "name": "python3"
  },
  "language_info": {
   "codemirror_mode": {
    "name": "ipython",
    "version": 3
   },
   "file_extension": ".py",
   "mimetype": "text/x-python",
   "name": "python",
   "nbconvert_exporter": "python",
   "pygments_lexer": "ipython3",
   "version": "3.6.14"
  },
  "papermill": {
   "default_parameters": {},
   "duration": 20.753573,
   "end_time": "2021-08-10T02:00:13.662282",
   "environment_variables": {},
   "exception": null,
   "input_path": "App-Correlation_charts.ipynb",
   "output_path": "App-Correlation_charts.ipynb",
   "parameters": {},
   "start_time": "2021-08-10T01:59:52.908709",
   "version": "2.2.2"
  }
 },
 "nbformat": 4,
 "nbformat_minor": 5
}