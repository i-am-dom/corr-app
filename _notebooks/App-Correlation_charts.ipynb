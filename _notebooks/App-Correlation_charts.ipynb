{
 "cells": [
  {
   "cell_type": "markdown",
   "id": "touched-facility",
   "metadata": {
    "papermill": {
     "duration": 0.015339,
     "end_time": "2021-10-22T02:10:47.711940",
     "exception": false,
     "start_time": "2021-10-22T02:10:47.696601",
     "status": "completed"
    },
    "tags": []
   },
   "source": [
    "# Koreliacijų matrica\n",
    "> Išplėstinė koreliacijų matrica. \n",
    "\n",
    "- toc: true \n",
    "- badges: true\n",
    "- comments: false\n",
    "- categories: [Dominykas Tautkus]\n",
    "- image: images/matrix.png"
   ]
  },
  {
   "cell_type": "code",
   "execution_count": null,
   "id": "premium-weekend",
   "metadata": {
    "papermill": {
     "duration": 0.010568,
     "end_time": "2021-10-22T02:10:47.734029",
     "exception": false,
     "start_time": "2021-10-22T02:10:47.723461",
     "status": "completed"
    },
    "tags": []
   },
   "outputs": [],
   "source": []
  },
  {
   "cell_type": "code",
   "execution_count": 1,
   "id": "vertical-rebate",
   "metadata": {
    "execution": {
     "iopub.execute_input": "2021-10-22T02:10:47.766650Z",
     "iopub.status.busy": "2021-10-22T02:10:47.766088Z",
     "iopub.status.idle": "2021-10-22T02:10:47.776356Z",
     "shell.execute_reply": "2021-10-22T02:10:47.775929Z"
    },
    "papermill": {
     "duration": 0.03187,
     "end_time": "2021-10-22T02:10:47.776489",
     "exception": false,
     "start_time": "2021-10-22T02:10:47.744619",
     "status": "completed"
    },
    "tags": []
   },
   "outputs": [],
   "source": [
    "#hide\n",
    "%load_ext autoreload\n",
    "%autoreload 2"
   ]
  },
  {
   "cell_type": "code",
   "execution_count": 2,
   "id": "overall-advancement",
   "metadata": {
    "execution": {
     "iopub.execute_input": "2021-10-22T02:10:47.801873Z",
     "iopub.status.busy": "2021-10-22T02:10:47.801346Z",
     "iopub.status.idle": "2021-10-22T02:10:49.269843Z",
     "shell.execute_reply": "2021-10-22T02:10:49.268910Z"
    },
    "papermill": {
     "duration": 1.482654,
     "end_time": "2021-10-22T02:10:49.269990",
     "exception": false,
     "start_time": "2021-10-22T02:10:47.787336",
     "status": "completed"
    },
    "tags": []
   },
   "outputs": [],
   "source": [
    "#hide\n",
    "from scripts.read_data import read_api\n",
    "from IPython.display import HTML\n",
    "import plotly.graph_objects as go\n"
   ]
  },
  {
   "cell_type": "code",
   "execution_count": 3,
   "id": "light-crazy",
   "metadata": {
    "execution": {
     "iopub.execute_input": "2021-10-22T02:10:49.296792Z",
     "iopub.status.busy": "2021-10-22T02:10:49.296250Z",
     "iopub.status.idle": "2021-10-22T02:10:49.318690Z",
     "shell.execute_reply": "2021-10-22T02:10:49.318171Z"
    },
    "papermill": {
     "duration": 0.037774,
     "end_time": "2021-10-22T02:10:49.318829",
     "exception": false,
     "start_time": "2021-10-22T02:10:49.281055",
     "status": "completed"
    },
    "tags": []
   },
   "outputs": [],
   "source": [
    "#hide\n",
    "### ICO koreliacija"
   ]
  },
  {
   "cell_type": "code",
   "execution_count": 4,
   "id": "likely-bahrain",
   "metadata": {
    "execution": {
     "iopub.execute_input": "2021-10-22T02:10:49.351759Z",
     "iopub.status.busy": "2021-10-22T02:10:49.350944Z",
     "iopub.status.idle": "2021-10-22T02:10:50.264107Z",
     "shell.execute_reply": "2021-10-22T02:10:50.264586Z"
    },
    "papermill": {
     "duration": 0.93514,
     "end_time": "2021-10-22T02:10:50.264762",
     "exception": false,
     "start_time": "2021-10-22T02:10:49.329622",
     "status": "completed"
    },
    "tags": []
   },
   "outputs": [],
   "source": [
    "#hide\n",
    "import matplotlib.pyplot as plt\n",
    "import numpy as np\n",
    "import pandas as pd\n",
    "import seaborn as sns\n",
    "import matplotlib.pyplot as plt \n",
    "import matplotlib.dates as mdates\n",
    "import matplotlib.pyplot as plt"
   ]
  },
  {
   "cell_type": "code",
   "execution_count": 5,
   "id": "superior-blanket",
   "metadata": {
    "execution": {
     "iopub.execute_input": "2021-10-22T02:10:50.291047Z",
     "iopub.status.busy": "2021-10-22T02:10:50.290531Z",
     "iopub.status.idle": "2021-10-22T02:11:01.554246Z",
     "shell.execute_reply": "2021-10-22T02:11:01.553744Z"
    },
    "papermill": {
     "duration": 11.278438,
     "end_time": "2021-10-22T02:11:01.554370",
     "exception": false,
     "start_time": "2021-10-22T02:10:50.275932",
     "status": "completed"
    },
    "tags": []
   },
   "outputs": [
    {
     "name": "stderr",
     "output_type": "stream",
     "text": [
      "/home/runner/work/corr-app/corr-app/_notebooks/scripts/read_data.py:187: SettingWithCopyWarning:\n",
      "\n",
      "\n",
      "A value is trying to be set on a copy of a slice from a DataFrame.\n",
      "Try using .loc[row_indexer,col_indexer] = value instead\n",
      "\n",
      "See the caveats in the documentation: https://pandas.pydata.org/pandas-docs/stable/user_guide/indexing.html#returning-a-view-versus-a-copy\n",
      "\n"
     ]
    },
    {
     "name": "stderr",
     "output_type": "stream",
     "text": [
      "/home/runner/work/corr-app/corr-app/_notebooks/scripts/read_data.py:215: SettingWithCopyWarning:\n",
      "\n",
      "\n",
      "A value is trying to be set on a copy of a slice from a DataFrame.\n",
      "Try using .loc[row_indexer,col_indexer] = value instead\n",
      "\n",
      "See the caveats in the documentation: https://pandas.pydata.org/pandas-docs/stable/user_guide/indexing.html#returning-a-view-versus-a-copy\n",
      "\n"
     ]
    }
   ],
   "source": [
    "#hide\n",
    "df_all = read_api()\n",
    "#df_all = df_all.drop(['SP500', 'XAU', 'ETH', 'BTC'], axis=1)\n",
    "\n"
   ]
  },
  {
   "cell_type": "code",
   "execution_count": 6,
   "id": "mature-alert",
   "metadata": {
    "execution": {
     "iopub.execute_input": "2021-10-22T02:11:01.584027Z",
     "iopub.status.busy": "2021-10-22T02:11:01.583509Z",
     "iopub.status.idle": "2021-10-22T02:11:01.612059Z",
     "shell.execute_reply": "2021-10-22T02:11:01.611612Z"
    },
    "papermill": {
     "duration": 0.046109,
     "end_time": "2021-10-22T02:11:01.612186",
     "exception": false,
     "start_time": "2021-10-22T02:11:01.566077",
     "status": "completed"
    },
    "tags": []
   },
   "outputs": [],
   "source": [
    "#hide_input\n",
    "sum_corr = df_all.corr().sum().sort_values(ascending=True).index.values\n",
    "#df_all[sum_corr].corr()"
   ]
  },
  {
   "cell_type": "markdown",
   "id": "complex-syndicate",
   "metadata": {
    "papermill": {
     "duration": 0.011482,
     "end_time": "2021-10-22T02:11:01.635183",
     "exception": false,
     "start_time": "2021-10-22T02:11:01.623701",
     "status": "completed"
    },
    "tags": []
   },
   "source": [
    "## Išplėstinė koreliacijų matrica. "
   ]
  },
  {
   "cell_type": "code",
   "execution_count": 7,
   "id": "atomic-omaha",
   "metadata": {
    "execution": {
     "iopub.execute_input": "2021-10-22T02:11:01.663305Z",
     "iopub.status.busy": "2021-10-22T02:11:01.662770Z",
     "iopub.status.idle": "2021-10-22T02:11:02.854452Z",
     "shell.execute_reply": "2021-10-22T02:11:02.854009Z"
    },
    "papermill": {
     "duration": 1.20802,
     "end_time": "2021-10-22T02:11:02.854600",
     "exception": false,
     "start_time": "2021-10-22T02:11:01.646580",
     "status": "completed"
    },
    "tags": []
   },
   "outputs": [
    {
     "data": {
      "image/png": "[encoded data removed]",
      "text/plain": [
       "<Figure size 1080x792 with 2 Axes>"
      ]
     },
     "metadata": {
      "needs_background": "light"
     },
     "output_type": "display_data"
    }
   ],
   "source": [
    "#hide_input\n",
    "plt.figure(figsize=(15, 11))\n",
    "sns.heatmap(df_all[sum_corr].corr(), annot=True, cmap=\"cubehelix\") \n",
    "sns.set(font_scale=1.25)\n",
    "plt.savefig('corr_matrix.png', format='eps')"
   ]
  },
  {
   "cell_type": "code",
   "execution_count": 8,
   "id": "arbitrary-sullivan",
   "metadata": {
    "execution": {
     "iopub.execute_input": "2021-10-22T02:11:02.904170Z",
     "iopub.status.busy": "2021-10-22T02:11:02.903369Z",
     "iopub.status.idle": "2021-10-22T02:11:02.918367Z",
     "shell.execute_reply": "2021-10-22T02:11:02.917698Z"
    },
    "papermill": {
     "duration": 0.050155,
     "end_time": "2021-10-22T02:11:02.918504",
     "exception": false,
     "start_time": "2021-10-22T02:11:02.868349",
     "status": "completed"
    },
    "tags": []
   },
   "outputs": [],
   "source": [
    "#hide\n",
    "#df_all_mrk = read_api()"
   ]
  },
  {
   "cell_type": "code",
   "execution_count": 9,
   "id": "delayed-adapter",
   "metadata": {
    "execution": {
     "iopub.execute_input": "2021-10-22T02:11:02.949192Z",
     "iopub.status.busy": "2021-10-22T02:11:02.948689Z",
     "iopub.status.idle": "2021-10-22T02:11:02.974479Z",
     "shell.execute_reply": "2021-10-22T02:11:02.973990Z"
    },
    "papermill": {
     "duration": 0.042712,
     "end_time": "2021-10-22T02:11:02.974623",
     "exception": false,
     "start_time": "2021-10-22T02:11:02.931911",
     "status": "completed"
    },
    "tags": []
   },
   "outputs": [],
   "source": [
    "#hide\n",
    "#Koreliacijų koeficientai"
   ]
  },
  {
   "cell_type": "code",
   "execution_count": 10,
   "id": "seeing-celebration",
   "metadata": {
    "execution": {
     "iopub.execute_input": "2021-10-22T02:11:03.005778Z",
     "iopub.status.busy": "2021-10-22T02:11:03.005266Z",
     "iopub.status.idle": "2021-10-22T02:11:03.032206Z",
     "shell.execute_reply": "2021-10-22T02:11:03.031764Z"
    },
    "papermill": {
     "duration": 0.044057,
     "end_time": "2021-10-22T02:11:03.032320",
     "exception": false,
     "start_time": "2021-10-22T02:11:02.988263",
     "status": "completed"
    },
    "tags": []
   },
   "outputs": [],
   "source": [
    "#hide_input\n",
    "#sum_corr = df_all_mrk.corr().sum().sort_values(ascending=True).index.values\n",
    "#df_all_mrk[sum_corr].corr()"
   ]
  },
  {
   "cell_type": "code",
   "execution_count": 11,
   "id": "other-painting",
   "metadata": {
    "execution": {
     "iopub.execute_input": "2021-10-22T02:11:03.062724Z",
     "iopub.status.busy": "2021-10-22T02:11:03.062094Z",
     "iopub.status.idle": "2021-10-22T02:11:03.090621Z",
     "shell.execute_reply": "2021-10-22T02:11:03.090085Z"
    },
    "papermill": {
     "duration": 0.045091,
     "end_time": "2021-10-22T02:11:03.090751",
     "exception": false,
     "start_time": "2021-10-22T02:11:03.045660",
     "status": "completed"
    },
    "tags": []
   },
   "outputs": [],
   "source": [
    "#hide\n",
    "#Koreliacijos matrica. "
   ]
  },
  {
   "cell_type": "code",
   "execution_count": 12,
   "id": "modular-magnitude",
   "metadata": {
    "execution": {
     "iopub.execute_input": "2021-10-22T02:11:03.121788Z",
     "iopub.status.busy": "2021-10-22T02:11:03.121254Z",
     "iopub.status.idle": "2021-10-22T02:11:03.146907Z",
     "shell.execute_reply": "2021-10-22T02:11:03.146457Z"
    },
    "papermill": {
     "duration": 0.042542,
     "end_time": "2021-10-22T02:11:03.147029",
     "exception": false,
     "start_time": "2021-10-22T02:11:03.104487",
     "status": "completed"
    },
    "tags": []
   },
   "outputs": [],
   "source": [
    "#hide_input\n",
    "#plt.figure(figsize=(15, 8))\n",
    "#sns.heatmap(df_all_mrk[sum_corr].corr(), annot=True, cmap=\"BrBG\");\n",
    "#plt.savefig('corr_matrix_all.eps', format='eps')"
   ]
  },
  {
   "cell_type": "code",
   "execution_count": null,
   "id": "original-senator",
   "metadata": {
    "papermill": {
     "duration": 0.013152,
     "end_time": "2021-10-22T02:11:03.173444",
     "exception": false,
     "start_time": "2021-10-22T02:11:03.160292",
     "status": "completed"
    },
    "tags": []
   },
   "outputs": [],
   "source": []
  },
  {
   "cell_type": "code",
   "execution_count": null,
   "id": "saving-secretariat",
   "metadata": {
    "papermill": {
     "duration": 0.013136,
     "end_time": "2021-10-22T02:11:03.199905",
     "exception": false,
     "start_time": "2021-10-22T02:11:03.186769",
     "status": "completed"
    },
    "tags": []
   },
   "outputs": [],
   "source": []
  }
 ],
 "metadata": {
  "kernelspec": {
   "display_name": "Python 3",
   "language": "python",
   "name": "python3"
  },
  "language_info": {
   "codemirror_mode": {
    "name": "ipython",
    "version": 3
   },
   "file_extension": ".py",
   "mimetype": "text/x-python",
   "name": "python",
   "nbconvert_exporter": "python",
   "pygments_lexer": "ipython3",
   "version": "3.6.15"
  },
  "papermill": {
   "default_parameters": {},
   "duration": 17.306934,
   "end_time": "2021-10-22T02:11:03.823015",
   "environment_variables": {},
   "exception": null,
   "input_path": "App-Correlation_charts.ipynb",
   "output_path": "App-Correlation_charts.ipynb",
   "parameters": {},
   "start_time": "2021-10-22T02:10:46.516081",
   "version": "2.2.2"
  }
 },
 "nbformat": 4,
 "nbformat_minor": 5
}