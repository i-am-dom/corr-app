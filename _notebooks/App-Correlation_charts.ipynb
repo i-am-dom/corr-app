{
 "cells": [
  {
   "cell_type": "markdown",
   "id": "touched-facility",
   "metadata": {
    "papermill": {
     "duration": 0.015353,
     "end_time": "2022-02-15T02:09:07.097235",
     "exception": false,
     "start_time": "2022-02-15T02:09:07.081882",
     "status": "completed"
    },
    "tags": []
   },
   "source": [
    "# Koreliacijų matrica\n",
    "> Išplėstinė koreliacijų matrica. \n",
    "\n",
    "- toc: true \n",
    "- badges: true\n",
    "- comments: false\n",
    "- categories: [Dominykas Tautkus]\n",
    "- image: images/matrix.png"
   ]
  },
  {
   "cell_type": "code",
   "execution_count": null,
   "id": "premium-weekend",
   "metadata": {
    "papermill": {
     "duration": 0.011475,
     "end_time": "2022-02-15T02:09:07.120418",
     "exception": false,
     "start_time": "2022-02-15T02:09:07.108943",
     "status": "completed"
    },
    "tags": []
   },
   "outputs": [],
   "source": []
  },
  {
   "cell_type": "code",
   "execution_count": 1,
   "id": "vertical-rebate",
   "metadata": {
    "execution": {
     "iopub.execute_input": "2022-02-15T02:09:07.153884Z",
     "iopub.status.busy": "2022-02-15T02:09:07.153272Z",
     "iopub.status.idle": "2022-02-15T02:09:07.165825Z",
     "shell.execute_reply": "2022-02-15T02:09:07.165294Z"
    },
    "papermill": {
     "duration": 0.034569,
     "end_time": "2022-02-15T02:09:07.165969",
     "exception": false,
     "start_time": "2022-02-15T02:09:07.131400",
     "status": "completed"
    },
    "tags": []
   },
   "outputs": [],
   "source": [
    "#hide\n",
    "%load_ext autoreload\n",
    "%autoreload 2"
   ]
  },
  {
   "cell_type": "code",
   "execution_count": 2,
   "id": "overall-advancement",
   "metadata": {
    "execution": {
     "iopub.execute_input": "2022-02-15T02:09:07.202610Z",
     "iopub.status.busy": "2022-02-15T02:09:07.197930Z",
     "iopub.status.idle": "2022-02-15T02:09:08.459669Z",
     "shell.execute_reply": "2022-02-15T02:09:08.459118Z"
    },
    "papermill": {
     "duration": 1.282909,
     "end_time": "2022-02-15T02:09:08.459822",
     "exception": false,
     "start_time": "2022-02-15T02:09:07.176913",
     "status": "completed"
    },
    "tags": []
   },
   "outputs": [],
   "source": [
    "#hide\n",
    "from scripts.read_data import read_api\n",
    "from IPython.display import HTML\n",
    "import plotly.graph_objects as go\n"
   ]
  },
  {
   "cell_type": "code",
   "execution_count": 3,
   "id": "light-crazy",
   "metadata": {
    "execution": {
     "iopub.execute_input": "2022-02-15T02:09:08.488163Z",
     "iopub.status.busy": "2022-02-15T02:09:08.487489Z",
     "iopub.status.idle": "2022-02-15T02:09:08.511353Z",
     "shell.execute_reply": "2022-02-15T02:09:08.510829Z"
    },
    "papermill": {
     "duration": 0.040232,
     "end_time": "2022-02-15T02:09:08.511497",
     "exception": false,
     "start_time": "2022-02-15T02:09:08.471265",
     "status": "completed"
    },
    "tags": []
   },
   "outputs": [],
   "source": [
    "#hide\n",
    "### ICO koreliacija"
   ]
  },
  {
   "cell_type": "code",
   "execution_count": 4,
   "id": "likely-bahrain",
   "metadata": {
    "execution": {
     "iopub.execute_input": "2022-02-15T02:09:08.538638Z",
     "iopub.status.busy": "2022-02-15T02:09:08.538066Z",
     "iopub.status.idle": "2022-02-15T02:09:09.493436Z",
     "shell.execute_reply": "2022-02-15T02:09:09.492839Z"
    },
    "papermill": {
     "duration": 0.971106,
     "end_time": "2022-02-15T02:09:09.493589",
     "exception": false,
     "start_time": "2022-02-15T02:09:08.522483",
     "status": "completed"
    },
    "tags": []
   },
   "outputs": [],
   "source": [
    "#hide\n",
    "import matplotlib.pyplot as plt\n",
    "import numpy as np\n",
    "import pandas as pd\n",
    "import seaborn as sns\n",
    "import matplotlib.pyplot as plt \n",
    "import matplotlib.dates as mdates\n",
    "import matplotlib.pyplot as plt"
   ]
  },
  {
   "cell_type": "code",
   "execution_count": 5,
   "id": "superior-blanket",
   "metadata": {
    "execution": {
     "iopub.execute_input": "2022-02-15T02:09:09.526360Z",
     "iopub.status.busy": "2022-02-15T02:09:09.525741Z",
     "iopub.status.idle": "2022-02-15T02:09:24.603342Z",
     "shell.execute_reply": "2022-02-15T02:09:24.602797Z"
    },
    "papermill": {
     "duration": 15.097978,
     "end_time": "2022-02-15T02:09:24.603487",
     "exception": false,
     "start_time": "2022-02-15T02:09:09.505509",
     "status": "completed"
    },
    "tags": []
   },
   "outputs": [
    {
     "name": "stderr",
     "output_type": "stream",
     "text": [
      "/home/runner/work/corr-app/corr-app/_notebooks/scripts/read_data.py:187: SettingWithCopyWarning:\n",
      "\n",
      "\n",
      "A value is trying to be set on a copy of a slice from a DataFrame.\n",
      "Try using .loc[row_indexer,col_indexer] = value instead\n",
      "\n",
      "See the caveats in the documentation: https://pandas.pydata.org/pandas-docs/stable/user_guide/indexing.html#returning-a-view-versus-a-copy\n",
      "\n"
     ]
    },
    {
     "name": "stderr",
     "output_type": "stream",
     "text": [
      "/home/runner/work/corr-app/corr-app/_notebooks/scripts/read_data.py:215: SettingWithCopyWarning:\n",
      "\n",
      "\n",
      "A value is trying to be set on a copy of a slice from a DataFrame.\n",
      "Try using .loc[row_indexer,col_indexer] = value instead\n",
      "\n",
      "See the caveats in the documentation: https://pandas.pydata.org/pandas-docs/stable/user_guide/indexing.html#returning-a-view-versus-a-copy\n",
      "\n"
     ]
    }
   ],
   "source": [
    "#hide\n",
    "df_all = read_api()\n",
    "#df_all = df_all.drop(['SP500', 'XAU', 'ETH', 'BTC'], axis=1)\n",
    "\n"
   ]
  },
  {
   "cell_type": "code",
   "execution_count": 6,
   "id": "mature-alert",
   "metadata": {
    "execution": {
     "iopub.execute_input": "2022-02-15T02:09:24.639109Z",
     "iopub.status.busy": "2022-02-15T02:09:24.638037Z",
     "iopub.status.idle": "2022-02-15T02:09:24.666814Z",
     "shell.execute_reply": "2022-02-15T02:09:24.665848Z"
    },
    "papermill": {
     "duration": 0.050753,
     "end_time": "2022-02-15T02:09:24.666970",
     "exception": false,
     "start_time": "2022-02-15T02:09:24.616217",
     "status": "completed"
    },
    "tags": []
   },
   "outputs": [],
   "source": [
    "#hide_input\n",
    "sum_corr = df_all.corr().sum().sort_values(ascending=True).index.values\n",
    "#df_all[sum_corr].corr()"
   ]
  },
  {
   "cell_type": "markdown",
   "id": "complex-syndicate",
   "metadata": {
    "papermill": {
     "duration": 0.011574,
     "end_time": "2022-02-15T02:09:24.690852",
     "exception": false,
     "start_time": "2022-02-15T02:09:24.679278",
     "status": "completed"
    },
    "tags": []
   },
   "source": [
    "## Išplėstinė koreliacijų matrica. "
   ]
  },
  {
   "cell_type": "code",
   "execution_count": 7,
   "id": "atomic-omaha",
   "metadata": {
    "execution": {
     "iopub.execute_input": "2022-02-15T02:09:24.722440Z",
     "iopub.status.busy": "2022-02-15T02:09:24.721869Z",
     "iopub.status.idle": "2022-02-15T02:09:26.007508Z",
     "shell.execute_reply": "2022-02-15T02:09:26.007027Z"
    },
    "papermill": {
     "duration": 1.30528,
     "end_time": "2022-02-15T02:09:26.007641",
     "exception": false,
     "start_time": "2022-02-15T02:09:24.702361",
     "status": "completed"
    },
    "tags": []
   },
   "outputs": [
    {
     "data": {
      "image/png": "[encoded data removed]",
      "text/plain": [
       "<Figure size 1080x792 with 2 Axes>"
      ]
     },
     "metadata": {
      "needs_background": "light"
     },
     "output_type": "display_data"
    }
   ],
   "source": [
    "#hide_input\n",
    "plt.figure(figsize=(15, 11))\n",
    "sns.heatmap(df_all[sum_corr].corr(), annot=True, cmap=\"cubehelix\") \n",
    "sns.set(font_scale=1.25)\n",
    "plt.savefig('corr_matrix.png', format='eps')"
   ]
  },
  {
   "cell_type": "code",
   "execution_count": 8,
   "id": "arbitrary-sullivan",
   "metadata": {
    "execution": {
     "iopub.execute_input": "2022-02-15T02:09:26.042835Z",
     "iopub.status.busy": "2022-02-15T02:09:26.041001Z",
     "iopub.status.idle": "2022-02-15T02:09:26.068479Z",
     "shell.execute_reply": "2022-02-15T02:09:26.067903Z"
    },
    "papermill": {
     "duration": 0.046974,
     "end_time": "2022-02-15T02:09:26.068628",
     "exception": false,
     "start_time": "2022-02-15T02:09:26.021654",
     "status": "completed"
    },
    "tags": []
   },
   "outputs": [],
   "source": [
    "#hide\n",
    "#df_all_mrk = read_api()"
   ]
  },
  {
   "cell_type": "code",
   "execution_count": 9,
   "id": "delayed-adapter",
   "metadata": {
    "execution": {
     "iopub.execute_input": "2022-02-15T02:09:26.110747Z",
     "iopub.status.busy": "2022-02-15T02:09:26.109622Z",
     "iopub.status.idle": "2022-02-15T02:09:26.133342Z",
     "shell.execute_reply": "2022-02-15T02:09:26.132258Z"
    },
    "papermill": {
     "duration": 0.050156,
     "end_time": "2022-02-15T02:09:26.133498",
     "exception": false,
     "start_time": "2022-02-15T02:09:26.083342",
     "status": "completed"
    },
    "tags": []
   },
   "outputs": [],
   "source": [
    "#hide\n",
    "#Koreliacijų koeficientai"
   ]
  },
  {
   "cell_type": "code",
   "execution_count": 10,
   "id": "seeing-celebration",
   "metadata": {
    "execution": {
     "iopub.execute_input": "2022-02-15T02:09:26.172489Z",
     "iopub.status.busy": "2022-02-15T02:09:26.165710Z",
     "iopub.status.idle": "2022-02-15T02:09:26.194253Z",
     "shell.execute_reply": "2022-02-15T02:09:26.193699Z"
    },
    "papermill": {
     "duration": 0.04596,
     "end_time": "2022-02-15T02:09:26.194410",
     "exception": false,
     "start_time": "2022-02-15T02:09:26.148450",
     "status": "completed"
    },
    "tags": []
   },
   "outputs": [],
   "source": [
    "#hide_input\n",
    "#sum_corr = df_all_mrk.corr().sum().sort_values(ascending=True).index.values\n",
    "#df_all_mrk[sum_corr].corr()"
   ]
  },
  {
   "cell_type": "code",
   "execution_count": 11,
   "id": "other-painting",
   "metadata": {
    "execution": {
     "iopub.execute_input": "2022-02-15T02:09:26.242235Z",
     "iopub.status.busy": "2022-02-15T02:09:26.232204Z",
     "iopub.status.idle": "2022-02-15T02:09:26.260076Z",
     "shell.execute_reply": "2022-02-15T02:09:26.259568Z"
    },
    "papermill": {
     "duration": 0.051379,
     "end_time": "2022-02-15T02:09:26.260209",
     "exception": false,
     "start_time": "2022-02-15T02:09:26.208830",
     "status": "completed"
    },
    "tags": []
   },
   "outputs": [],
   "source": [
    "#hide\n",
    "#Koreliacijos matrica. "
   ]
  },
  {
   "cell_type": "code",
   "execution_count": 12,
   "id": "modular-magnitude",
   "metadata": {
    "execution": {
     "iopub.execute_input": "2022-02-15T02:09:26.292462Z",
     "iopub.status.busy": "2022-02-15T02:09:26.291891Z",
     "iopub.status.idle": "2022-02-15T02:09:26.321293Z",
     "shell.execute_reply": "2022-02-15T02:09:26.320275Z"
    },
    "papermill": {
     "duration": 0.047377,
     "end_time": "2022-02-15T02:09:26.321451",
     "exception": false,
     "start_time": "2022-02-15T02:09:26.274074",
     "status": "completed"
    },
    "tags": []
   },
   "outputs": [],
   "source": [
    "#hide_input\n",
    "#plt.figure(figsize=(15, 8))\n",
    "#sns.heatmap(df_all_mrk[sum_corr].corr(), annot=True, cmap=\"BrBG\");\n",
    "#plt.savefig('corr_matrix_all.eps', format='eps')"
   ]
  },
  {
   "cell_type": "code",
   "execution_count": null,
   "id": "original-senator",
   "metadata": {
    "papermill": {
     "duration": 0.013526,
     "end_time": "2022-02-15T02:09:26.348628",
     "exception": false,
     "start_time": "2022-02-15T02:09:26.335102",
     "status": "completed"
    },
    "tags": []
   },
   "outputs": [],
   "source": []
  },
  {
   "cell_type": "code",
   "execution_count": null,
   "id": "saving-secretariat",
   "metadata": {
    "papermill": {
     "duration": 0.013585,
     "end_time": "2022-02-15T02:09:26.375835",
     "exception": false,
     "start_time": "2022-02-15T02:09:26.362250",
     "status": "completed"
    },
    "tags": []
   },
   "outputs": [],
   "source": []
  }
 ],
 "metadata": {
  "kernelspec": {
   "display_name": "Python 3",
   "language": "python",
   "name": "python3"
  },
  "language_info": {
   "codemirror_mode": {
    "name": "ipython",
    "version": 3
   },
   "file_extension": ".py",
   "mimetype": "text/x-python",
   "name": "python",
   "nbconvert_exporter": "python",
   "pygments_lexer": "ipython3",
   "version": "3.6.15"
  },
  "papermill": {
   "default_parameters": {},
   "duration": 21.200596,
   "end_time": "2022-02-15T02:09:27.009966",
   "environment_variables": {},
   "exception": null,
   "input_path": "App-Correlation_charts.ipynb",
   "output_path": "App-Correlation_charts.ipynb",
   "parameters": {},
   "start_time": "2022-02-15T02:09:05.809370",
   "version": "2.2.2"
  }
 },
 "nbformat": 4,
 "nbformat_minor": 5
}