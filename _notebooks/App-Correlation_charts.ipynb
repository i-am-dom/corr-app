{
 "cells": [
  {
   "cell_type": "markdown",
   "id": "touched-facility",
   "metadata": {
    "papermill": {
     "duration": 0.01542,
     "end_time": "2021-12-17T02:04:17.199455",
     "exception": false,
     "start_time": "2021-12-17T02:04:17.184035",
     "status": "completed"
    },
    "tags": []
   },
   "source": [
    "# Koreliacijų matrica\n",
    "> Išplėstinė koreliacijų matrica. \n",
    "\n",
    "- toc: true \n",
    "- badges: true\n",
    "- comments: false\n",
    "- categories: [Dominykas Tautkus]\n",
    "- image: images/matrix.png"
   ]
  },
  {
   "cell_type": "code",
   "execution_count": null,
   "id": "premium-weekend",
   "metadata": {
    "papermill": {
     "duration": 0.010482,
     "end_time": "2021-12-17T02:04:17.221383",
     "exception": false,
     "start_time": "2021-12-17T02:04:17.210901",
     "status": "completed"
    },
    "tags": []
   },
   "outputs": [],
   "source": []
  },
  {
   "cell_type": "code",
   "execution_count": 1,
   "id": "vertical-rebate",
   "metadata": {
    "execution": {
     "iopub.execute_input": "2021-12-17T02:04:17.254942Z",
     "iopub.status.busy": "2021-12-17T02:04:17.251753Z",
     "iopub.status.idle": "2021-12-17T02:04:17.265870Z",
     "shell.execute_reply": "2021-12-17T02:04:17.266285Z"
    },
    "papermill": {
     "duration": 0.034513,
     "end_time": "2021-12-17T02:04:17.266425",
     "exception": false,
     "start_time": "2021-12-17T02:04:17.231912",
     "status": "completed"
    },
    "tags": []
   },
   "outputs": [],
   "source": [
    "#hide\n",
    "%load_ext autoreload\n",
    "%autoreload 2"
   ]
  },
  {
   "cell_type": "code",
   "execution_count": 2,
   "id": "overall-advancement",
   "metadata": {
    "execution": {
     "iopub.execute_input": "2021-12-17T02:04:17.295762Z",
     "iopub.status.busy": "2021-12-17T02:04:17.295248Z",
     "iopub.status.idle": "2021-12-17T02:04:18.675639Z",
     "shell.execute_reply": "2021-12-17T02:04:18.675074Z"
    },
    "papermill": {
     "duration": 1.398798,
     "end_time": "2021-12-17T02:04:18.675785",
     "exception": false,
     "start_time": "2021-12-17T02:04:17.276987",
     "status": "completed"
    },
    "tags": []
   },
   "outputs": [],
   "source": [
    "#hide\n",
    "from scripts.read_data import read_api\n",
    "from IPython.display import HTML\n",
    "import plotly.graph_objects as go\n"
   ]
  },
  {
   "cell_type": "code",
   "execution_count": 3,
   "id": "light-crazy",
   "metadata": {
    "execution": {
     "iopub.execute_input": "2021-12-17T02:04:18.708982Z",
     "iopub.status.busy": "2021-12-17T02:04:18.707576Z",
     "iopub.status.idle": "2021-12-17T02:04:18.726494Z",
     "shell.execute_reply": "2021-12-17T02:04:18.725835Z"
    },
    "papermill": {
     "duration": 0.03977,
     "end_time": "2021-12-17T02:04:18.726641",
     "exception": false,
     "start_time": "2021-12-17T02:04:18.686871",
     "status": "completed"
    },
    "tags": []
   },
   "outputs": [],
   "source": [
    "#hide\n",
    "### ICO koreliacija"
   ]
  },
  {
   "cell_type": "code",
   "execution_count": 4,
   "id": "likely-bahrain",
   "metadata": {
    "execution": {
     "iopub.execute_input": "2021-12-17T02:04:18.760236Z",
     "iopub.status.busy": "2021-12-17T02:04:18.751182Z",
     "iopub.status.idle": "2021-12-17T02:04:19.648014Z",
     "shell.execute_reply": "2021-12-17T02:04:19.647475Z"
    },
    "papermill": {
     "duration": 0.910822,
     "end_time": "2021-12-17T02:04:19.648159",
     "exception": false,
     "start_time": "2021-12-17T02:04:18.737337",
     "status": "completed"
    },
    "tags": []
   },
   "outputs": [],
   "source": [
    "#hide\n",
    "import matplotlib.pyplot as plt\n",
    "import numpy as np\n",
    "import pandas as pd\n",
    "import seaborn as sns\n",
    "import matplotlib.pyplot as plt \n",
    "import matplotlib.dates as mdates\n",
    "import matplotlib.pyplot as plt"
   ]
  },
  {
   "cell_type": "code",
   "execution_count": 5,
   "id": "superior-blanket",
   "metadata": {
    "execution": {
     "iopub.execute_input": "2021-12-17T02:04:19.681379Z",
     "iopub.status.busy": "2021-12-17T02:04:19.680075Z",
     "iopub.status.idle": "2021-12-17T02:04:29.993368Z",
     "shell.execute_reply": "2021-12-17T02:04:29.993830Z"
    },
    "papermill": {
     "duration": 10.334506,
     "end_time": "2021-12-17T02:04:29.993982",
     "exception": false,
     "start_time": "2021-12-17T02:04:19.659476",
     "status": "completed"
    },
    "tags": []
   },
   "outputs": [
    {
     "name": "stderr",
     "output_type": "stream",
     "text": [
      "/home/runner/work/corr-app/corr-app/_notebooks/scripts/read_data.py:187: SettingWithCopyWarning:\n",
      "\n",
      "\n",
      "A value is trying to be set on a copy of a slice from a DataFrame.\n",
      "Try using .loc[row_indexer,col_indexer] = value instead\n",
      "\n",
      "See the caveats in the documentation: https://pandas.pydata.org/pandas-docs/stable/user_guide/indexing.html#returning-a-view-versus-a-copy\n",
      "\n"
     ]
    },
    {
     "name": "stderr",
     "output_type": "stream",
     "text": [
      "/home/runner/work/corr-app/corr-app/_notebooks/scripts/read_data.py:215: SettingWithCopyWarning:\n",
      "\n",
      "\n",
      "A value is trying to be set on a copy of a slice from a DataFrame.\n",
      "Try using .loc[row_indexer,col_indexer] = value instead\n",
      "\n",
      "See the caveats in the documentation: https://pandas.pydata.org/pandas-docs/stable/user_guide/indexing.html#returning-a-view-versus-a-copy\n",
      "\n"
     ]
    }
   ],
   "source": [
    "#hide\n",
    "df_all = read_api()\n",
    "#df_all = df_all.drop(['SP500', 'XAU', 'ETH', 'BTC'], axis=1)\n",
    "\n"
   ]
  },
  {
   "cell_type": "code",
   "execution_count": 6,
   "id": "mature-alert",
   "metadata": {
    "execution": {
     "iopub.execute_input": "2021-12-17T02:04:30.027964Z",
     "iopub.status.busy": "2021-12-17T02:04:30.026812Z",
     "iopub.status.idle": "2021-12-17T02:04:30.052675Z",
     "shell.execute_reply": "2021-12-17T02:04:30.053116Z"
    },
    "papermill": {
     "duration": 0.047643,
     "end_time": "2021-12-17T02:04:30.053264",
     "exception": false,
     "start_time": "2021-12-17T02:04:30.005621",
     "status": "completed"
    },
    "tags": []
   },
   "outputs": [],
   "source": [
    "#hide_input\n",
    "sum_corr = df_all.corr().sum().sort_values(ascending=True).index.values\n",
    "#df_all[sum_corr].corr()"
   ]
  },
  {
   "cell_type": "markdown",
   "id": "complex-syndicate",
   "metadata": {
    "papermill": {
     "duration": 0.011147,
     "end_time": "2021-12-17T02:04:30.076112",
     "exception": false,
     "start_time": "2021-12-17T02:04:30.064965",
     "status": "completed"
    },
    "tags": []
   },
   "source": [
    "## Išplėstinė koreliacijų matrica. "
   ]
  },
  {
   "cell_type": "code",
   "execution_count": 7,
   "id": "atomic-omaha",
   "metadata": {
    "execution": {
     "iopub.execute_input": "2021-12-17T02:04:30.109981Z",
     "iopub.status.busy": "2021-12-17T02:04:30.109470Z",
     "iopub.status.idle": "2021-12-17T02:04:31.393517Z",
     "shell.execute_reply": "2021-12-17T02:04:31.392752Z"
    },
    "papermill": {
     "duration": 1.306345,
     "end_time": "2021-12-17T02:04:31.393652",
     "exception": false,
     "start_time": "2021-12-17T02:04:30.087307",
     "status": "completed"
    },
    "tags": []
   },
   "outputs": [
    {
     "data": {
      "image/png": "[encoded data removed]",
      "text/plain": [
       "<Figure size 1080x792 with 2 Axes>"
      ]
     },
     "metadata": {
      "needs_background": "light"
     },
     "output_type": "display_data"
    }
   ],
   "source": [
    "#hide_input\n",
    "plt.figure(figsize=(15, 11))\n",
    "sns.heatmap(df_all[sum_corr].corr(), annot=True, cmap=\"cubehelix\") \n",
    "sns.set(font_scale=1.25)\n",
    "plt.savefig('corr_matrix.png', format='eps')"
   ]
  },
  {
   "cell_type": "code",
   "execution_count": 8,
   "id": "arbitrary-sullivan",
   "metadata": {
    "execution": {
     "iopub.execute_input": "2021-12-17T02:04:31.431668Z",
     "iopub.status.busy": "2021-12-17T02:04:31.431148Z",
     "iopub.status.idle": "2021-12-17T02:04:31.454332Z",
     "shell.execute_reply": "2021-12-17T02:04:31.453627Z"
    },
    "papermill": {
     "duration": 0.047118,
     "end_time": "2021-12-17T02:04:31.454452",
     "exception": false,
     "start_time": "2021-12-17T02:04:31.407334",
     "status": "completed"
    },
    "tags": []
   },
   "outputs": [],
   "source": [
    "#hide\n",
    "#df_all_mrk = read_api()"
   ]
  },
  {
   "cell_type": "code",
   "execution_count": 9,
   "id": "delayed-adapter",
   "metadata": {
    "execution": {
     "iopub.execute_input": "2021-12-17T02:04:31.491762Z",
     "iopub.status.busy": "2021-12-17T02:04:31.488163Z",
     "iopub.status.idle": "2021-12-17T02:04:31.512599Z",
     "shell.execute_reply": "2021-12-17T02:04:31.512113Z"
    },
    "papermill": {
     "duration": 0.045053,
     "end_time": "2021-12-17T02:04:31.512725",
     "exception": false,
     "start_time": "2021-12-17T02:04:31.467672",
     "status": "completed"
    },
    "tags": []
   },
   "outputs": [],
   "source": [
    "#hide\n",
    "#Koreliacijų koeficientai"
   ]
  },
  {
   "cell_type": "code",
   "execution_count": 10,
   "id": "seeing-celebration",
   "metadata": {
    "execution": {
     "iopub.execute_input": "2021-12-17T02:04:31.543146Z",
     "iopub.status.busy": "2021-12-17T02:04:31.542621Z",
     "iopub.status.idle": "2021-12-17T02:04:31.569282Z",
     "shell.execute_reply": "2021-12-17T02:04:31.568858Z"
    },
    "papermill": {
     "duration": 0.042574,
     "end_time": "2021-12-17T02:04:31.569389",
     "exception": false,
     "start_time": "2021-12-17T02:04:31.526815",
     "status": "completed"
    },
    "tags": []
   },
   "outputs": [],
   "source": [
    "#hide_input\n",
    "#sum_corr = df_all_mrk.corr().sum().sort_values(ascending=True).index.values\n",
    "#df_all_mrk[sum_corr].corr()"
   ]
  },
  {
   "cell_type": "code",
   "execution_count": 11,
   "id": "other-painting",
   "metadata": {
    "execution": {
     "iopub.execute_input": "2021-12-17T02:04:31.600404Z",
     "iopub.status.busy": "2021-12-17T02:04:31.599905Z",
     "iopub.status.idle": "2021-12-17T02:04:31.623548Z",
     "shell.execute_reply": "2021-12-17T02:04:31.623989Z"
    },
    "papermill": {
     "duration": 0.041755,
     "end_time": "2021-12-17T02:04:31.624123",
     "exception": false,
     "start_time": "2021-12-17T02:04:31.582368",
     "status": "completed"
    },
    "tags": []
   },
   "outputs": [],
   "source": [
    "#hide\n",
    "#Koreliacijos matrica. "
   ]
  },
  {
   "cell_type": "code",
   "execution_count": 12,
   "id": "modular-magnitude",
   "metadata": {
    "execution": {
     "iopub.execute_input": "2021-12-17T02:04:31.653816Z",
     "iopub.status.busy": "2021-12-17T02:04:31.653315Z",
     "iopub.status.idle": "2021-12-17T02:04:31.678754Z",
     "shell.execute_reply": "2021-12-17T02:04:31.678266Z"
    },
    "papermill": {
     "duration": 0.040813,
     "end_time": "2021-12-17T02:04:31.678878",
     "exception": false,
     "start_time": "2021-12-17T02:04:31.638065",
     "status": "completed"
    },
    "tags": []
   },
   "outputs": [],
   "source": [
    "#hide_input\n",
    "#plt.figure(figsize=(15, 8))\n",
    "#sns.heatmap(df_all_mrk[sum_corr].corr(), annot=True, cmap=\"BrBG\");\n",
    "#plt.savefig('corr_matrix_all.eps', format='eps')"
   ]
  },
  {
   "cell_type": "code",
   "execution_count": null,
   "id": "original-senator",
   "metadata": {
    "papermill": {
     "duration": 0.01294,
     "end_time": "2021-12-17T02:04:31.705072",
     "exception": false,
     "start_time": "2021-12-17T02:04:31.692132",
     "status": "completed"
    },
    "tags": []
   },
   "outputs": [],
   "source": []
  },
  {
   "cell_type": "code",
   "execution_count": null,
   "id": "saving-secretariat",
   "metadata": {
    "papermill": {
     "duration": 0.012937,
     "end_time": "2021-12-17T02:04:31.732179",
     "exception": false,
     "start_time": "2021-12-17T02:04:31.719242",
     "status": "completed"
    },
    "tags": []
   },
   "outputs": [],
   "source": []
  }
 ],
 "metadata": {
  "kernelspec": {
   "display_name": "Python 3",
   "language": "python",
   "name": "python3"
  },
  "language_info": {
   "codemirror_mode": {
    "name": "ipython",
    "version": 3
   },
   "file_extension": ".py",
   "mimetype": "text/x-python",
   "name": "python",
   "nbconvert_exporter": "python",
   "pygments_lexer": "ipython3",
   "version": "3.6.15"
  },
  "papermill": {
   "default_parameters": {},
   "duration": 15.995825,
   "end_time": "2021-12-17T02:04:32.254779",
   "environment_variables": {},
   "exception": null,
   "input_path": "App-Correlation_charts.ipynb",
   "output_path": "App-Correlation_charts.ipynb",
   "parameters": {},
   "start_time": "2021-12-17T02:04:16.258954",
   "version": "2.2.2"
  }
 },
 "nbformat": 4,
 "nbformat_minor": 5
}