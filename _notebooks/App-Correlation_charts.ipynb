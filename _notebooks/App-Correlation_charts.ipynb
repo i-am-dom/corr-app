{
 "cells": [
  {
   "cell_type": "markdown",
   "id": "touched-facility",
   "metadata": {
    "papermill": {
     "duration": 0.014864,
     "end_time": "2022-02-23T02:10:42.222098",
     "exception": false,
     "start_time": "2022-02-23T02:10:42.207234",
     "status": "completed"
    },
    "tags": []
   },
   "source": [
    "# Koreliacijų matrica\n",
    "> Išplėstinė koreliacijų matrica. \n",
    "\n",
    "- toc: true \n",
    "- badges: true\n",
    "- comments: false\n",
    "- categories: [Dominykas Tautkus]\n",
    "- image: images/matrix.png"
   ]
  },
  {
   "cell_type": "code",
   "execution_count": null,
   "id": "premium-weekend",
   "metadata": {
    "papermill": {
     "duration": 0.010858,
     "end_time": "2022-02-23T02:10:42.244381",
     "exception": false,
     "start_time": "2022-02-23T02:10:42.233523",
     "status": "completed"
    },
    "tags": []
   },
   "outputs": [],
   "source": []
  },
  {
   "cell_type": "code",
   "execution_count": 1,
   "id": "vertical-rebate",
   "metadata": {
    "execution": {
     "iopub.execute_input": "2022-02-23T02:10:42.277020Z",
     "iopub.status.busy": "2022-02-23T02:10:42.276484Z",
     "iopub.status.idle": "2022-02-23T02:10:42.286842Z",
     "shell.execute_reply": "2022-02-23T02:10:42.286408Z"
    },
    "papermill": {
     "duration": 0.031457,
     "end_time": "2022-02-23T02:10:42.286970",
     "exception": false,
     "start_time": "2022-02-23T02:10:42.255513",
     "status": "completed"
    },
    "tags": []
   },
   "outputs": [],
   "source": [
    "#hide\n",
    "%load_ext autoreload\n",
    "%autoreload 2"
   ]
  },
  {
   "cell_type": "code",
   "execution_count": 2,
   "id": "overall-advancement",
   "metadata": {
    "execution": {
     "iopub.execute_input": "2022-02-23T02:10:42.314695Z",
     "iopub.status.busy": "2022-02-23T02:10:42.314179Z",
     "iopub.status.idle": "2022-02-23T02:10:43.677091Z",
     "shell.execute_reply": "2022-02-23T02:10:43.676204Z"
    },
    "papermill": {
     "duration": 1.379568,
     "end_time": "2022-02-23T02:10:43.677241",
     "exception": false,
     "start_time": "2022-02-23T02:10:42.297673",
     "status": "completed"
    },
    "tags": []
   },
   "outputs": [],
   "source": [
    "#hide\n",
    "from scripts.read_data import read_api\n",
    "from IPython.display import HTML\n",
    "import plotly.graph_objects as go\n"
   ]
  },
  {
   "cell_type": "code",
   "execution_count": 3,
   "id": "light-crazy",
   "metadata": {
    "execution": {
     "iopub.execute_input": "2022-02-23T02:10:43.711680Z",
     "iopub.status.busy": "2022-02-23T02:10:43.708909Z",
     "iopub.status.idle": "2022-02-23T02:10:43.728924Z",
     "shell.execute_reply": "2022-02-23T02:10:43.728471Z"
    },
    "papermill": {
     "duration": 0.04061,
     "end_time": "2022-02-23T02:10:43.729049",
     "exception": false,
     "start_time": "2022-02-23T02:10:43.688439",
     "status": "completed"
    },
    "tags": []
   },
   "outputs": [],
   "source": [
    "#hide\n",
    "### ICO koreliacija"
   ]
  },
  {
   "cell_type": "code",
   "execution_count": 4,
   "id": "likely-bahrain",
   "metadata": {
    "execution": {
     "iopub.execute_input": "2022-02-23T02:10:43.758193Z",
     "iopub.status.busy": "2022-02-23T02:10:43.756660Z",
     "iopub.status.idle": "2022-02-23T02:10:44.629625Z",
     "shell.execute_reply": "2022-02-23T02:10:44.629093Z"
    },
    "papermill": {
     "duration": 0.889788,
     "end_time": "2022-02-23T02:10:44.629768",
     "exception": false,
     "start_time": "2022-02-23T02:10:43.739980",
     "status": "completed"
    },
    "tags": []
   },
   "outputs": [],
   "source": [
    "#hide\n",
    "import matplotlib.pyplot as plt\n",
    "import numpy as np\n",
    "import pandas as pd\n",
    "import seaborn as sns\n",
    "import matplotlib.pyplot as plt \n",
    "import matplotlib.dates as mdates\n",
    "import matplotlib.pyplot as plt"
   ]
  },
  {
   "cell_type": "code",
   "execution_count": 5,
   "id": "superior-blanket",
   "metadata": {
    "execution": {
     "iopub.execute_input": "2022-02-23T02:10:44.658276Z",
     "iopub.status.busy": "2022-02-23T02:10:44.656712Z",
     "iopub.status.idle": "2022-02-23T02:11:00.833423Z",
     "shell.execute_reply": "2022-02-23T02:11:00.832909Z"
    },
    "papermill": {
     "duration": 16.192194,
     "end_time": "2022-02-23T02:11:00.833545",
     "exception": false,
     "start_time": "2022-02-23T02:10:44.641351",
     "status": "completed"
    },
    "tags": []
   },
   "outputs": [
    {
     "name": "stderr",
     "output_type": "stream",
     "text": [
      "/home/runner/work/corr-app/corr-app/_notebooks/scripts/read_data.py:187: SettingWithCopyWarning:\n",
      "\n",
      "\n",
      "A value is trying to be set on a copy of a slice from a DataFrame.\n",
      "Try using .loc[row_indexer,col_indexer] = value instead\n",
      "\n",
      "See the caveats in the documentation: https://pandas.pydata.org/pandas-docs/stable/user_guide/indexing.html#returning-a-view-versus-a-copy\n",
      "\n"
     ]
    },
    {
     "name": "stderr",
     "output_type": "stream",
     "text": [
      "/home/runner/work/corr-app/corr-app/_notebooks/scripts/read_data.py:215: SettingWithCopyWarning:\n",
      "\n",
      "\n",
      "A value is trying to be set on a copy of a slice from a DataFrame.\n",
      "Try using .loc[row_indexer,col_indexer] = value instead\n",
      "\n",
      "See the caveats in the documentation: https://pandas.pydata.org/pandas-docs/stable/user_guide/indexing.html#returning-a-view-versus-a-copy\n",
      "\n"
     ]
    }
   ],
   "source": [
    "#hide\n",
    "df_all = read_api()\n",
    "#df_all = df_all.drop(['SP500', 'XAU', 'ETH', 'BTC'], axis=1)\n",
    "\n"
   ]
  },
  {
   "cell_type": "code",
   "execution_count": 6,
   "id": "mature-alert",
   "metadata": {
    "execution": {
     "iopub.execute_input": "2022-02-23T02:11:00.876640Z",
     "iopub.status.busy": "2022-02-23T02:11:00.867231Z",
     "iopub.status.idle": "2022-02-23T02:11:00.896105Z",
     "shell.execute_reply": "2022-02-23T02:11:00.896509Z"
    },
    "papermill": {
     "duration": 0.05129,
     "end_time": "2022-02-23T02:11:00.896655",
     "exception": false,
     "start_time": "2022-02-23T02:11:00.845365",
     "status": "completed"
    },
    "tags": []
   },
   "outputs": [],
   "source": [
    "#hide_input\n",
    "sum_corr = df_all.corr().sum().sort_values(ascending=True).index.values\n",
    "#df_all[sum_corr].corr()"
   ]
  },
  {
   "cell_type": "markdown",
   "id": "complex-syndicate",
   "metadata": {
    "papermill": {
     "duration": 0.011408,
     "end_time": "2022-02-23T02:11:00.919564",
     "exception": false,
     "start_time": "2022-02-23T02:11:00.908156",
     "status": "completed"
    },
    "tags": []
   },
   "source": [
    "## Išplėstinė koreliacijų matrica. "
   ]
  },
  {
   "cell_type": "code",
   "execution_count": 7,
   "id": "atomic-omaha",
   "metadata": {
    "execution": {
     "iopub.execute_input": "2022-02-23T02:11:00.948627Z",
     "iopub.status.busy": "2022-02-23T02:11:00.946197Z",
     "iopub.status.idle": "2022-02-23T02:11:02.183143Z",
     "shell.execute_reply": "2022-02-23T02:11:02.182667Z"
    },
    "papermill": {
     "duration": 1.252305,
     "end_time": "2022-02-23T02:11:02.183267",
     "exception": false,
     "start_time": "2022-02-23T02:11:00.930962",
     "status": "completed"
    },
    "tags": []
   },
   "outputs": [
    {
     "data": {
      "image/png": "[encoded data removed]",
      "text/plain": [
       "<Figure size 1080x792 with 2 Axes>"
      ]
     },
     "metadata": {
      "needs_background": "light"
     },
     "output_type": "display_data"
    }
   ],
   "source": [
    "#hide_input\n",
    "plt.figure(figsize=(15, 11))\n",
    "sns.heatmap(df_all[sum_corr].corr(), annot=True, cmap=\"cubehelix\") \n",
    "sns.set(font_scale=1.25)\n",
    "plt.savefig('corr_matrix.png', format='eps')"
   ]
  },
  {
   "cell_type": "code",
   "execution_count": 8,
   "id": "arbitrary-sullivan",
   "metadata": {
    "execution": {
     "iopub.execute_input": "2022-02-23T02:11:02.216897Z",
     "iopub.status.busy": "2022-02-23T02:11:02.213368Z",
     "iopub.status.idle": "2022-02-23T02:11:02.238736Z",
     "shell.execute_reply": "2022-02-23T02:11:02.239190Z"
    },
    "papermill": {
     "duration": 0.042345,
     "end_time": "2022-02-23T02:11:02.239347",
     "exception": false,
     "start_time": "2022-02-23T02:11:02.197002",
     "status": "completed"
    },
    "tags": []
   },
   "outputs": [],
   "source": [
    "#hide\n",
    "#df_all_mrk = read_api()"
   ]
  },
  {
   "cell_type": "code",
   "execution_count": 9,
   "id": "delayed-adapter",
   "metadata": {
    "execution": {
     "iopub.execute_input": "2022-02-23T02:11:02.284707Z",
     "iopub.status.busy": "2022-02-23T02:11:02.276611Z",
     "iopub.status.idle": "2022-02-23T02:11:02.298436Z",
     "shell.execute_reply": "2022-02-23T02:11:02.297957Z"
    },
    "papermill": {
     "duration": 0.045159,
     "end_time": "2022-02-23T02:11:02.298570",
     "exception": false,
     "start_time": "2022-02-23T02:11:02.253411",
     "status": "completed"
    },
    "tags": []
   },
   "outputs": [],
   "source": [
    "#hide\n",
    "#Koreliacijų koeficientai"
   ]
  },
  {
   "cell_type": "code",
   "execution_count": 10,
   "id": "seeing-celebration",
   "metadata": {
    "execution": {
     "iopub.execute_input": "2022-02-23T02:11:02.332050Z",
     "iopub.status.busy": "2022-02-23T02:11:02.331496Z",
     "iopub.status.idle": "2022-02-23T02:11:02.357790Z",
     "shell.execute_reply": "2022-02-23T02:11:02.357328Z"
    },
    "papermill": {
     "duration": 0.043446,
     "end_time": "2022-02-23T02:11:02.357913",
     "exception": false,
     "start_time": "2022-02-23T02:11:02.314467",
     "status": "completed"
    },
    "tags": []
   },
   "outputs": [],
   "source": [
    "#hide_input\n",
    "#sum_corr = df_all_mrk.corr().sum().sort_values(ascending=True).index.values\n",
    "#df_all_mrk[sum_corr].corr()"
   ]
  },
  {
   "cell_type": "code",
   "execution_count": 11,
   "id": "other-painting",
   "metadata": {
    "execution": {
     "iopub.execute_input": "2022-02-23T02:11:02.391954Z",
     "iopub.status.busy": "2022-02-23T02:11:02.391403Z",
     "iopub.status.idle": "2022-02-23T02:11:02.415779Z",
     "shell.execute_reply": "2022-02-23T02:11:02.415263Z"
    },
    "papermill": {
     "duration": 0.044164,
     "end_time": "2022-02-23T02:11:02.415937",
     "exception": false,
     "start_time": "2022-02-23T02:11:02.371773",
     "status": "completed"
    },
    "tags": []
   },
   "outputs": [],
   "source": [
    "#hide\n",
    "#Koreliacijos matrica. "
   ]
  },
  {
   "cell_type": "code",
   "execution_count": 12,
   "id": "modular-magnitude",
   "metadata": {
    "execution": {
     "iopub.execute_input": "2022-02-23T02:11:02.449261Z",
     "iopub.status.busy": "2022-02-23T02:11:02.448746Z",
     "iopub.status.idle": "2022-02-23T02:11:02.473305Z",
     "shell.execute_reply": "2022-02-23T02:11:02.472760Z"
    },
    "papermill": {
     "duration": 0.043482,
     "end_time": "2022-02-23T02:11:02.473435",
     "exception": false,
     "start_time": "2022-02-23T02:11:02.429953",
     "status": "completed"
    },
    "tags": []
   },
   "outputs": [],
   "source": [
    "#hide_input\n",
    "#plt.figure(figsize=(15, 8))\n",
    "#sns.heatmap(df_all_mrk[sum_corr].corr(), annot=True, cmap=\"BrBG\");\n",
    "#plt.savefig('corr_matrix_all.eps', format='eps')"
   ]
  },
  {
   "cell_type": "code",
   "execution_count": null,
   "id": "original-senator",
   "metadata": {
    "papermill": {
     "duration": 0.013259,
     "end_time": "2022-02-23T02:11:02.500814",
     "exception": false,
     "start_time": "2022-02-23T02:11:02.487555",
     "status": "completed"
    },
    "tags": []
   },
   "outputs": [],
   "source": []
  },
  {
   "cell_type": "code",
   "execution_count": null,
   "id": "saving-secretariat",
   "metadata": {
    "papermill": {
     "duration": 0.013232,
     "end_time": "2022-02-23T02:11:02.527389",
     "exception": false,
     "start_time": "2022-02-23T02:11:02.514157",
     "status": "completed"
    },
    "tags": []
   },
   "outputs": [],
   "source": []
  }
 ],
 "metadata": {
  "kernelspec": {
   "display_name": "Python 3",
   "language": "python",
   "name": "python3"
  },
  "language_info": {
   "codemirror_mode": {
    "name": "ipython",
    "version": 3
   },
   "file_extension": ".py",
   "mimetype": "text/x-python",
   "name": "python",
   "nbconvert_exporter": "python",
   "pygments_lexer": "ipython3",
   "version": "3.6.15"
  },
  "papermill": {
   "default_parameters": {},
   "duration": 21.795715,
   "end_time": "2022-02-23T02:11:03.059542",
   "environment_variables": {},
   "exception": null,
   "input_path": "App-Correlation_charts.ipynb",
   "output_path": "App-Correlation_charts.ipynb",
   "parameters": {},
   "start_time": "2022-02-23T02:10:41.263827",
   "version": "2.2.2"
  }
 },
 "nbformat": 4,
 "nbformat_minor": 5
}