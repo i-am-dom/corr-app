{
 "cells": [
  {
   "cell_type": "markdown",
   "id": "touched-facility",
   "metadata": {
    "papermill": {
     "duration": 0.018847,
     "end_time": "2022-03-25T02:21:31.224963",
     "exception": false,
     "start_time": "2022-03-25T02:21:31.206116",
     "status": "completed"
    },
    "tags": []
   },
   "source": [
    "# Koreliacijų matrica\n",
    "> Išplėstinė koreliacijų matrica. \n",
    "\n",
    "- toc: true \n",
    "- badges: true\n",
    "- comments: false\n",
    "- categories: [Dominykas Tautkus]\n",
    "- image: images/matrix.png"
   ]
  },
  {
   "cell_type": "code",
   "execution_count": null,
   "id": "premium-weekend",
   "metadata": {
    "papermill": {
     "duration": 0.012218,
     "end_time": "2022-03-25T02:21:31.250121",
     "exception": false,
     "start_time": "2022-03-25T02:21:31.237903",
     "status": "completed"
    },
    "tags": []
   },
   "outputs": [],
   "source": []
  },
  {
   "cell_type": "code",
   "execution_count": 1,
   "id": "vertical-rebate",
   "metadata": {
    "execution": {
     "iopub.execute_input": "2022-03-25T02:21:31.288120Z",
     "iopub.status.busy": "2022-03-25T02:21:31.287499Z",
     "iopub.status.idle": "2022-03-25T02:21:31.299066Z",
     "shell.execute_reply": "2022-03-25T02:21:31.299627Z"
    },
    "papermill": {
     "duration": 0.037686,
     "end_time": "2022-03-25T02:21:31.299786",
     "exception": false,
     "start_time": "2022-03-25T02:21:31.262100",
     "status": "completed"
    },
    "tags": []
   },
   "outputs": [],
   "source": [
    "#hide\n",
    "%load_ext autoreload\n",
    "%autoreload 2"
   ]
  },
  {
   "cell_type": "code",
   "execution_count": 2,
   "id": "overall-advancement",
   "metadata": {
    "execution": {
     "iopub.execute_input": "2022-03-25T02:21:31.327804Z",
     "iopub.status.busy": "2022-03-25T02:21:31.326748Z",
     "iopub.status.idle": "2022-03-25T02:21:32.667084Z",
     "shell.execute_reply": "2022-03-25T02:21:32.666181Z"
    },
    "papermill": {
     "duration": 1.35558,
     "end_time": "2022-03-25T02:21:32.667309",
     "exception": false,
     "start_time": "2022-03-25T02:21:31.311729",
     "status": "completed"
    },
    "tags": []
   },
   "outputs": [],
   "source": [
    "#hide\n",
    "from scripts.read_data import read_api\n",
    "from IPython.display import HTML\n",
    "import plotly.graph_objects as go\n"
   ]
  },
  {
   "cell_type": "code",
   "execution_count": 3,
   "id": "light-crazy",
   "metadata": {
    "execution": {
     "iopub.execute_input": "2022-03-25T02:21:32.699755Z",
     "iopub.status.busy": "2022-03-25T02:21:32.699063Z",
     "iopub.status.idle": "2022-03-25T02:21:32.726506Z",
     "shell.execute_reply": "2022-03-25T02:21:32.725779Z"
    },
    "papermill": {
     "duration": 0.044933,
     "end_time": "2022-03-25T02:21:32.726671",
     "exception": false,
     "start_time": "2022-03-25T02:21:32.681738",
     "status": "completed"
    },
    "tags": []
   },
   "outputs": [],
   "source": [
    "#hide\n",
    "### ICO koreliacija"
   ]
  },
  {
   "cell_type": "code",
   "execution_count": 4,
   "id": "likely-bahrain",
   "metadata": {
    "execution": {
     "iopub.execute_input": "2022-03-25T02:21:32.761657Z",
     "iopub.status.busy": "2022-03-25T02:21:32.760502Z",
     "iopub.status.idle": "2022-03-25T02:21:33.774867Z",
     "shell.execute_reply": "2022-03-25T02:21:33.775446Z"
    },
    "papermill": {
     "duration": 1.034789,
     "end_time": "2022-03-25T02:21:33.775635",
     "exception": false,
     "start_time": "2022-03-25T02:21:32.740846",
     "status": "completed"
    },
    "tags": []
   },
   "outputs": [],
   "source": [
    "#hide\n",
    "import matplotlib.pyplot as plt\n",
    "import numpy as np\n",
    "import pandas as pd\n",
    "import seaborn as sns\n",
    "import matplotlib.pyplot as plt \n",
    "import matplotlib.dates as mdates\n",
    "import matplotlib.pyplot as plt"
   ]
  },
  {
   "cell_type": "code",
   "execution_count": 5,
   "id": "superior-blanket",
   "metadata": {
    "execution": {
     "iopub.execute_input": "2022-03-25T02:21:33.808300Z",
     "iopub.status.busy": "2022-03-25T02:21:33.807692Z",
     "iopub.status.idle": "2022-03-25T02:21:43.589790Z",
     "shell.execute_reply": "2022-03-25T02:21:43.588644Z"
    },
    "papermill": {
     "duration": 9.80073,
     "end_time": "2022-03-25T02:21:43.589942",
     "exception": false,
     "start_time": "2022-03-25T02:21:33.789212",
     "status": "completed"
    },
    "tags": []
   },
   "outputs": [
    {
     "name": "stderr",
     "output_type": "stream",
     "text": [
      "/home/runner/work/corr-app/corr-app/_notebooks/scripts/read_data.py:187: SettingWithCopyWarning:\n",
      "\n",
      "\n",
      "A value is trying to be set on a copy of a slice from a DataFrame.\n",
      "Try using .loc[row_indexer,col_indexer] = value instead\n",
      "\n",
      "See the caveats in the documentation: https://pandas.pydata.org/pandas-docs/stable/user_guide/indexing.html#returning-a-view-versus-a-copy\n",
      "\n"
     ]
    },
    {
     "name": "stderr",
     "output_type": "stream",
     "text": [
      "/home/runner/work/corr-app/corr-app/_notebooks/scripts/read_data.py:215: SettingWithCopyWarning:\n",
      "\n",
      "\n",
      "A value is trying to be set on a copy of a slice from a DataFrame.\n",
      "Try using .loc[row_indexer,col_indexer] = value instead\n",
      "\n",
      "See the caveats in the documentation: https://pandas.pydata.org/pandas-docs/stable/user_guide/indexing.html#returning-a-view-versus-a-copy\n",
      "\n"
     ]
    }
   ],
   "source": [
    "#hide\n",
    "df_all = read_api()\n",
    "#df_all = df_all.drop(['SP500', 'XAU', 'ETH', 'BTC'], axis=1)\n",
    "\n"
   ]
  },
  {
   "cell_type": "code",
   "execution_count": 6,
   "id": "mature-alert",
   "metadata": {
    "execution": {
     "iopub.execute_input": "2022-03-25T02:21:43.622495Z",
     "iopub.status.busy": "2022-03-25T02:21:43.621381Z",
     "iopub.status.idle": "2022-03-25T02:21:43.654121Z",
     "shell.execute_reply": "2022-03-25T02:21:43.654612Z"
    },
    "papermill": {
     "duration": 0.051599,
     "end_time": "2022-03-25T02:21:43.654780",
     "exception": false,
     "start_time": "2022-03-25T02:21:43.603181",
     "status": "completed"
    },
    "tags": []
   },
   "outputs": [],
   "source": [
    "#hide_input\n",
    "sum_corr = df_all.corr().sum().sort_values(ascending=True).index.values\n",
    "#df_all[sum_corr].corr()"
   ]
  },
  {
   "cell_type": "markdown",
   "id": "complex-syndicate",
   "metadata": {
    "papermill": {
     "duration": 0.01281,
     "end_time": "2022-03-25T02:21:43.680529",
     "exception": false,
     "start_time": "2022-03-25T02:21:43.667719",
     "status": "completed"
    },
    "tags": []
   },
   "source": [
    "## Išplėstinė koreliacijų matrica. "
   ]
  },
  {
   "cell_type": "code",
   "execution_count": 7,
   "id": "atomic-omaha",
   "metadata": {
    "execution": {
     "iopub.execute_input": "2022-03-25T02:21:43.711857Z",
     "iopub.status.busy": "2022-03-25T02:21:43.711245Z",
     "iopub.status.idle": "2022-03-25T02:21:45.139860Z",
     "shell.execute_reply": "2022-03-25T02:21:45.139355Z"
    },
    "papermill": {
     "duration": 1.446757,
     "end_time": "2022-03-25T02:21:45.139998",
     "exception": false,
     "start_time": "2022-03-25T02:21:43.693241",
     "status": "completed"
    },
    "tags": []
   },
   "outputs": [
    {
     "data": {
      "image/png": "[encoded data removed]",
      "text/plain": [
       "<Figure size 1080x792 with 2 Axes>"
      ]
     },
     "metadata": {
      "needs_background": "light"
     },
     "output_type": "display_data"
    }
   ],
   "source": [
    "#hide_input\n",
    "plt.figure(figsize=(15, 11))\n",
    "sns.heatmap(df_all[sum_corr].corr(), annot=True, cmap=\"cubehelix\") \n",
    "sns.set(font_scale=1.25)\n",
    "plt.savefig('corr_matrix.png', format='eps')"
   ]
  },
  {
   "cell_type": "code",
   "execution_count": 8,
   "id": "arbitrary-sullivan",
   "metadata": {
    "execution": {
     "iopub.execute_input": "2022-03-25T02:21:45.176038Z",
     "iopub.status.busy": "2022-03-25T02:21:45.175389Z",
     "iopub.status.idle": "2022-03-25T02:21:45.205090Z",
     "shell.execute_reply": "2022-03-25T02:21:45.204474Z"
    },
    "papermill": {
     "duration": 0.049723,
     "end_time": "2022-03-25T02:21:45.205229",
     "exception": false,
     "start_time": "2022-03-25T02:21:45.155506",
     "status": "completed"
    },
    "tags": []
   },
   "outputs": [],
   "source": [
    "#hide\n",
    "#df_all_mrk = read_api()"
   ]
  },
  {
   "cell_type": "code",
   "execution_count": 9,
   "id": "delayed-adapter",
   "metadata": {
    "execution": {
     "iopub.execute_input": "2022-03-25T02:21:45.241160Z",
     "iopub.status.busy": "2022-03-25T02:21:45.240531Z",
     "iopub.status.idle": "2022-03-25T02:21:45.273193Z",
     "shell.execute_reply": "2022-03-25T02:21:45.272455Z"
    },
    "papermill": {
     "duration": 0.051735,
     "end_time": "2022-03-25T02:21:45.273376",
     "exception": false,
     "start_time": "2022-03-25T02:21:45.221641",
     "status": "completed"
    },
    "tags": []
   },
   "outputs": [],
   "source": [
    "#hide\n",
    "#Koreliacijų koeficientai"
   ]
  },
  {
   "cell_type": "code",
   "execution_count": 10,
   "id": "seeing-celebration",
   "metadata": {
    "execution": {
     "iopub.execute_input": "2022-03-25T02:21:45.311130Z",
     "iopub.status.busy": "2022-03-25T02:21:45.310501Z",
     "iopub.status.idle": "2022-03-25T02:21:45.340590Z",
     "shell.execute_reply": "2022-03-25T02:21:45.341310Z"
    },
    "papermill": {
     "duration": 0.050928,
     "end_time": "2022-03-25T02:21:45.341514",
     "exception": false,
     "start_time": "2022-03-25T02:21:45.290586",
     "status": "completed"
    },
    "tags": []
   },
   "outputs": [],
   "source": [
    "#hide_input\n",
    "#sum_corr = df_all_mrk.corr().sum().sort_values(ascending=True).index.values\n",
    "#df_all_mrk[sum_corr].corr()"
   ]
  },
  {
   "cell_type": "code",
   "execution_count": 11,
   "id": "other-painting",
   "metadata": {
    "execution": {
     "iopub.execute_input": "2022-03-25T02:21:45.377501Z",
     "iopub.status.busy": "2022-03-25T02:21:45.376864Z",
     "iopub.status.idle": "2022-03-25T02:21:45.406543Z",
     "shell.execute_reply": "2022-03-25T02:21:45.405840Z"
    },
    "papermill": {
     "duration": 0.048036,
     "end_time": "2022-03-25T02:21:45.406705",
     "exception": false,
     "start_time": "2022-03-25T02:21:45.358669",
     "status": "completed"
    },
    "tags": []
   },
   "outputs": [],
   "source": [
    "#hide\n",
    "#Koreliacijos matrica. "
   ]
  },
  {
   "cell_type": "code",
   "execution_count": 12,
   "id": "modular-magnitude",
   "metadata": {
    "execution": {
     "iopub.execute_input": "2022-03-25T02:21:45.442000Z",
     "iopub.status.busy": "2022-03-25T02:21:45.441316Z",
     "iopub.status.idle": "2022-03-25T02:21:45.471555Z",
     "shell.execute_reply": "2022-03-25T02:21:45.470943Z"
    },
    "papermill": {
     "duration": 0.048993,
     "end_time": "2022-03-25T02:21:45.471705",
     "exception": false,
     "start_time": "2022-03-25T02:21:45.422712",
     "status": "completed"
    },
    "tags": []
   },
   "outputs": [],
   "source": [
    "#hide_input\n",
    "#plt.figure(figsize=(15, 8))\n",
    "#sns.heatmap(df_all_mrk[sum_corr].corr(), annot=True, cmap=\"BrBG\");\n",
    "#plt.savefig('corr_matrix_all.eps', format='eps')"
   ]
  },
  {
   "cell_type": "code",
   "execution_count": null,
   "id": "original-senator",
   "metadata": {
    "papermill": {
     "duration": 0.015558,
     "end_time": "2022-03-25T02:21:45.504157",
     "exception": false,
     "start_time": "2022-03-25T02:21:45.488599",
     "status": "completed"
    },
    "tags": []
   },
   "outputs": [],
   "source": []
  },
  {
   "cell_type": "code",
   "execution_count": null,
   "id": "saving-secretariat",
   "metadata": {
    "papermill": {
     "duration": 0.014793,
     "end_time": "2022-03-25T02:21:45.533900",
     "exception": false,
     "start_time": "2022-03-25T02:21:45.519107",
     "status": "completed"
    },
    "tags": []
   },
   "outputs": [],
   "source": []
  }
 ],
 "metadata": {
  "kernelspec": {
   "display_name": "Python 3",
   "language": "python",
   "name": "python3"
  },
  "language_info": {
   "codemirror_mode": {
    "name": "ipython",
    "version": 3
   },
   "file_extension": ".py",
   "mimetype": "text/x-python",
   "name": "python",
   "nbconvert_exporter": "python",
   "pygments_lexer": "ipython3",
   "version": "3.6.15"
  },
  "papermill": {
   "default_parameters": {},
   "duration": 16.182253,
   "end_time": "2022-03-25T02:21:46.069445",
   "environment_variables": {},
   "exception": null,
   "input_path": "App-Correlation_charts.ipynb",
   "output_path": "App-Correlation_charts.ipynb",
   "parameters": {},
   "start_time": "2022-03-25T02:21:29.887192",
   "version": "2.2.2"
  }
 },
 "nbformat": 4,
 "nbformat_minor": 5
}