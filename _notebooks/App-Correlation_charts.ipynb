{
 "cells": [
  {
   "cell_type": "markdown",
   "id": "touched-facility",
   "metadata": {
    "papermill": {
     "duration": 0.018179,
     "end_time": "2022-08-29T03:39:15.294619",
     "exception": false,
     "start_time": "2022-08-29T03:39:15.276440",
     "status": "completed"
    },
    "tags": []
   },
   "source": [
    "# Koreliacijų matrica\n",
    "> Išplėstinė koreliacijų matrica. \n",
    "\n",
    "- toc: true \n",
    "- badges: true\n",
    "- comments: false\n",
    "- categories: [Dominykas Tautkus]\n",
    "- image: images/matrix.png"
   ]
  },
  {
   "cell_type": "code",
   "execution_count": null,
   "id": "premium-weekend",
   "metadata": {
    "papermill": {
     "duration": 0.01375,
     "end_time": "2022-08-29T03:39:15.322568",
     "exception": false,
     "start_time": "2022-08-29T03:39:15.308818",
     "status": "completed"
    },
    "tags": []
   },
   "outputs": [],
   "source": []
  },
  {
   "cell_type": "code",
   "execution_count": 1,
   "id": "vertical-rebate",
   "metadata": {
    "execution": {
     "iopub.execute_input": "2022-08-29T03:39:15.361767Z",
     "iopub.status.busy": "2022-08-29T03:39:15.360921Z",
     "iopub.status.idle": "2022-08-29T03:39:15.375330Z",
     "shell.execute_reply": "2022-08-29T03:39:15.374172Z"
    },
    "papermill": {
     "duration": 0.039396,
     "end_time": "2022-08-29T03:39:15.375553",
     "exception": false,
     "start_time": "2022-08-29T03:39:15.336157",
     "status": "completed"
    },
    "tags": []
   },
   "outputs": [],
   "source": [
    "#hide\n",
    "%load_ext autoreload\n",
    "%autoreload 2"
   ]
  },
  {
   "cell_type": "code",
   "execution_count": 2,
   "id": "overall-advancement",
   "metadata": {
    "execution": {
     "iopub.execute_input": "2022-08-29T03:39:15.409202Z",
     "iopub.status.busy": "2022-08-29T03:39:15.408413Z",
     "iopub.status.idle": "2022-08-29T03:39:17.049103Z",
     "shell.execute_reply": "2022-08-29T03:39:17.048483Z"
    },
    "papermill": {
     "duration": 1.660221,
     "end_time": "2022-08-29T03:39:17.049279",
     "exception": false,
     "start_time": "2022-08-29T03:39:15.389058",
     "status": "completed"
    },
    "tags": []
   },
   "outputs": [],
   "source": [
    "#hide\n",
    "from scripts.read_data import read_api\n",
    "from IPython.display import HTML\n",
    "import plotly.graph_objects as go\n"
   ]
  },
  {
   "cell_type": "code",
   "execution_count": 3,
   "id": "light-crazy",
   "metadata": {
    "execution": {
     "iopub.execute_input": "2022-08-29T03:39:17.088096Z",
     "iopub.status.busy": "2022-08-29T03:39:17.087344Z",
     "iopub.status.idle": "2022-08-29T03:39:17.111521Z",
     "shell.execute_reply": "2022-08-29T03:39:17.110807Z"
    },
    "papermill": {
     "duration": 0.048188,
     "end_time": "2022-08-29T03:39:17.111651",
     "exception": false,
     "start_time": "2022-08-29T03:39:17.063463",
     "status": "completed"
    },
    "tags": []
   },
   "outputs": [],
   "source": [
    "#hide\n",
    "### ICO koreliacija"
   ]
  },
  {
   "cell_type": "code",
   "execution_count": 4,
   "id": "likely-bahrain",
   "metadata": {
    "execution": {
     "iopub.execute_input": "2022-08-29T03:39:17.143200Z",
     "iopub.status.busy": "2022-08-29T03:39:17.142461Z",
     "iopub.status.idle": "2022-08-29T03:39:18.191725Z",
     "shell.execute_reply": "2022-08-29T03:39:18.191078Z"
    },
    "papermill": {
     "duration": 1.067027,
     "end_time": "2022-08-29T03:39:18.191871",
     "exception": false,
     "start_time": "2022-08-29T03:39:17.124844",
     "status": "completed"
    },
    "tags": []
   },
   "outputs": [],
   "source": [
    "#hide\n",
    "import matplotlib.pyplot as plt\n",
    "import numpy as np\n",
    "import pandas as pd\n",
    "import seaborn as sns\n",
    "import matplotlib.pyplot as plt \n",
    "import matplotlib.dates as mdates\n",
    "import matplotlib.pyplot as plt"
   ]
  },
  {
   "cell_type": "code",
   "execution_count": 5,
   "id": "superior-blanket",
   "metadata": {
    "execution": {
     "iopub.execute_input": "2022-08-29T03:39:18.226181Z",
     "iopub.status.busy": "2022-08-29T03:39:18.225358Z",
     "iopub.status.idle": "2022-08-29T03:39:32.662076Z",
     "shell.execute_reply": "2022-08-29T03:39:32.662986Z"
    },
    "papermill": {
     "duration": 14.457356,
     "end_time": "2022-08-29T03:39:32.663151",
     "exception": false,
     "start_time": "2022-08-29T03:39:18.205795",
     "status": "completed"
    },
    "tags": []
   },
   "outputs": [
    {
     "name": "stderr",
     "output_type": "stream",
     "text": [
      "/home/runner/work/corr-app/corr-app/_notebooks/scripts/read_data.py:187: SettingWithCopyWarning:\n",
      "\n",
      "\n",
      "A value is trying to be set on a copy of a slice from a DataFrame.\n",
      "Try using .loc[row_indexer,col_indexer] = value instead\n",
      "\n",
      "See the caveats in the documentation: https://pandas.pydata.org/pandas-docs/stable/user_guide/indexing.html#returning-a-view-versus-a-copy\n",
      "\n"
     ]
    },
    {
     "name": "stderr",
     "output_type": "stream",
     "text": [
      "/home/runner/work/corr-app/corr-app/_notebooks/scripts/read_data.py:215: SettingWithCopyWarning:\n",
      "\n",
      "\n",
      "A value is trying to be set on a copy of a slice from a DataFrame.\n",
      "Try using .loc[row_indexer,col_indexer] = value instead\n",
      "\n",
      "See the caveats in the documentation: https://pandas.pydata.org/pandas-docs/stable/user_guide/indexing.html#returning-a-view-versus-a-copy\n",
      "\n"
     ]
    }
   ],
   "source": [
    "#hide\n",
    "df_all = read_api()\n",
    "#df_all = df_all.drop(['SP500', 'XAU', 'ETH', 'BTC'], axis=1)\n",
    "\n"
   ]
  },
  {
   "cell_type": "code",
   "execution_count": 6,
   "id": "mature-alert",
   "metadata": {
    "execution": {
     "iopub.execute_input": "2022-08-29T03:39:32.700121Z",
     "iopub.status.busy": "2022-08-29T03:39:32.699374Z",
     "iopub.status.idle": "2022-08-29T03:39:32.733476Z",
     "shell.execute_reply": "2022-08-29T03:39:32.732861Z"
    },
    "papermill": {
     "duration": 0.055193,
     "end_time": "2022-08-29T03:39:32.733617",
     "exception": false,
     "start_time": "2022-08-29T03:39:32.678424",
     "status": "completed"
    },
    "tags": []
   },
   "outputs": [],
   "source": [
    "#hide_input\n",
    "sum_corr = df_all.corr().sum().sort_values(ascending=True).index.values\n",
    "#df_all[sum_corr].corr()"
   ]
  },
  {
   "cell_type": "markdown",
   "id": "complex-syndicate",
   "metadata": {
    "papermill": {
     "duration": 0.014677,
     "end_time": "2022-08-29T03:39:32.763913",
     "exception": false,
     "start_time": "2022-08-29T03:39:32.749236",
     "status": "completed"
    },
    "tags": []
   },
   "source": [
    "## Išplėstinė koreliacijų matrica. "
   ]
  },
  {
   "cell_type": "code",
   "execution_count": 7,
   "id": "atomic-omaha",
   "metadata": {
    "execution": {
     "iopub.execute_input": "2022-08-29T03:39:32.798647Z",
     "iopub.status.busy": "2022-08-29T03:39:32.797896Z",
     "iopub.status.idle": "2022-08-29T03:39:34.434880Z",
     "shell.execute_reply": "2022-08-29T03:39:34.435480Z"
    },
    "papermill": {
     "duration": 1.657221,
     "end_time": "2022-08-29T03:39:34.435655",
     "exception": false,
     "start_time": "2022-08-29T03:39:32.778434",
     "status": "completed"
    },
    "tags": []
   },
   "outputs": [
    {
     "data": {
      "image/png": "[encoded data removed]",
      "text/plain": [
       "<Figure size 1080x792 with 2 Axes>"
      ]
     },
     "metadata": {
      "needs_background": "light"
     },
     "output_type": "display_data"
    }
   ],
   "source": [
    "#hide_input\n",
    "plt.figure(figsize=(15, 11))\n",
    "sns.heatmap(df_all[sum_corr].corr(), annot=True, cmap=\"cubehelix\") \n",
    "sns.set(font_scale=1.25)\n",
    "plt.savefig('corr_matrix.png', format='eps')"
   ]
  },
  {
   "cell_type": "code",
   "execution_count": 8,
   "id": "arbitrary-sullivan",
   "metadata": {
    "execution": {
     "iopub.execute_input": "2022-08-29T03:39:34.505064Z",
     "iopub.status.busy": "2022-08-29T03:39:34.504321Z",
     "iopub.status.idle": "2022-08-29T03:39:34.538984Z",
     "shell.execute_reply": "2022-08-29T03:39:34.538382Z"
    },
    "papermill": {
     "duration": 0.070444,
     "end_time": "2022-08-29T03:39:34.539131",
     "exception": false,
     "start_time": "2022-08-29T03:39:34.468687",
     "status": "completed"
    },
    "tags": []
   },
   "outputs": [],
   "source": [
    "#hide\n",
    "#df_all_mrk = read_api()"
   ]
  },
  {
   "cell_type": "code",
   "execution_count": 9,
   "id": "delayed-adapter",
   "metadata": {
    "execution": {
     "iopub.execute_input": "2022-08-29T03:39:34.608668Z",
     "iopub.status.busy": "2022-08-29T03:39:34.607902Z",
     "iopub.status.idle": "2022-08-29T03:39:34.647103Z",
     "shell.execute_reply": "2022-08-29T03:39:34.647889Z"
    },
    "papermill": {
     "duration": 0.083412,
     "end_time": "2022-08-29T03:39:34.648062",
     "exception": false,
     "start_time": "2022-08-29T03:39:34.564650",
     "status": "completed"
    },
    "tags": []
   },
   "outputs": [],
   "source": [
    "#hide\n",
    "#Koreliacijų koeficientai"
   ]
  },
  {
   "cell_type": "code",
   "execution_count": 10,
   "id": "seeing-celebration",
   "metadata": {
    "execution": {
     "iopub.execute_input": "2022-08-29T03:39:34.765301Z",
     "iopub.status.busy": "2022-08-29T03:39:34.764500Z",
     "iopub.status.idle": "2022-08-29T03:39:34.797526Z",
     "shell.execute_reply": "2022-08-29T03:39:34.796852Z"
    },
    "papermill": {
     "duration": 0.092118,
     "end_time": "2022-08-29T03:39:34.797667",
     "exception": false,
     "start_time": "2022-08-29T03:39:34.705549",
     "status": "completed"
    },
    "tags": []
   },
   "outputs": [],
   "source": [
    "#hide_input\n",
    "#sum_corr = df_all_mrk.corr().sum().sort_values(ascending=True).index.values\n",
    "#df_all_mrk[sum_corr].corr()"
   ]
  },
  {
   "cell_type": "code",
   "execution_count": 11,
   "id": "other-painting",
   "metadata": {
    "execution": {
     "iopub.execute_input": "2022-08-29T03:39:34.877930Z",
     "iopub.status.busy": "2022-08-29T03:39:34.877177Z",
     "iopub.status.idle": "2022-08-29T03:39:34.908585Z",
     "shell.execute_reply": "2022-08-29T03:39:34.907997Z"
    },
    "papermill": {
     "duration": 0.086355,
     "end_time": "2022-08-29T03:39:34.908726",
     "exception": false,
     "start_time": "2022-08-29T03:39:34.822371",
     "status": "completed"
    },
    "tags": []
   },
   "outputs": [],
   "source": [
    "#hide\n",
    "#Koreliacijos matrica. "
   ]
  },
  {
   "cell_type": "code",
   "execution_count": 12,
   "id": "modular-magnitude",
   "metadata": {
    "execution": {
     "iopub.execute_input": "2022-08-29T03:39:35.020150Z",
     "iopub.status.busy": "2022-08-29T03:39:35.019392Z",
     "iopub.status.idle": "2022-08-29T03:39:35.053284Z",
     "shell.execute_reply": "2022-08-29T03:39:35.052617Z"
    },
    "papermill": {
     "duration": 0.087103,
     "end_time": "2022-08-29T03:39:35.053430",
     "exception": false,
     "start_time": "2022-08-29T03:39:34.966327",
     "status": "completed"
    },
    "tags": []
   },
   "outputs": [],
   "source": [
    "#hide_input\n",
    "#plt.figure(figsize=(15, 8))\n",
    "#sns.heatmap(df_all_mrk[sum_corr].corr(), annot=True, cmap=\"BrBG\");\n",
    "#plt.savefig('corr_matrix_all.eps', format='eps')"
   ]
  },
  {
   "cell_type": "code",
   "execution_count": null,
   "id": "original-senator",
   "metadata": {
    "papermill": {
     "duration": 0.019429,
     "end_time": "2022-08-29T03:39:35.095693",
     "exception": false,
     "start_time": "2022-08-29T03:39:35.076264",
     "status": "completed"
    },
    "tags": []
   },
   "outputs": [],
   "source": []
  },
  {
   "cell_type": "code",
   "execution_count": null,
   "id": "saving-secretariat",
   "metadata": {
    "papermill": {
     "duration": 0.01768,
     "end_time": "2022-08-29T03:39:35.130611",
     "exception": false,
     "start_time": "2022-08-29T03:39:35.112931",
     "status": "completed"
    },
    "tags": []
   },
   "outputs": [],
   "source": []
  }
 ],
 "metadata": {
  "kernelspec": {
   "display_name": "Python 3",
   "language": "python",
   "name": "python3"
  },
  "language_info": {
   "codemirror_mode": {
    "name": "ipython",
    "version": 3
   },
   "file_extension": ".py",
   "mimetype": "text/x-python",
   "name": "python",
   "nbconvert_exporter": "python",
   "pygments_lexer": "ipython3",
   "version": "3.6.15"
  },
  "papermill": {
   "default_parameters": {},
   "duration": 21.712186,
   "end_time": "2022-08-29T03:39:35.675337",
   "environment_variables": {},
   "exception": null,
   "input_path": "App-Correlation_charts.ipynb",
   "output_path": "App-Correlation_charts.ipynb",
   "parameters": {},
   "start_time": "2022-08-29T03:39:13.963151",
   "version": "2.2.2"
  }
 },
 "nbformat": 4,
 "nbformat_minor": 5
}