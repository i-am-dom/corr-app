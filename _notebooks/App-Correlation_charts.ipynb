{
 "cells": [
  {
   "cell_type": "markdown",
   "id": "touched-facility",
   "metadata": {
    "papermill": {
     "duration": 0.014458,
     "end_time": "2022-08-19T03:19:19.199047",
     "exception": false,
     "start_time": "2022-08-19T03:19:19.184589",
     "status": "completed"
    },
    "tags": []
   },
   "source": [
    "# Koreliacijų matrica\n",
    "> Išplėstinė koreliacijų matrica. \n",
    "\n",
    "- toc: true \n",
    "- badges: true\n",
    "- comments: false\n",
    "- categories: [Dominykas Tautkus]\n",
    "- image: images/matrix.png"
   ]
  },
  {
   "cell_type": "code",
   "execution_count": null,
   "id": "premium-weekend",
   "metadata": {
    "papermill": {
     "duration": 0.010736,
     "end_time": "2022-08-19T03:19:19.221194",
     "exception": false,
     "start_time": "2022-08-19T03:19:19.210458",
     "status": "completed"
    },
    "tags": []
   },
   "outputs": [],
   "source": []
  },
  {
   "cell_type": "code",
   "execution_count": 1,
   "id": "vertical-rebate",
   "metadata": {
    "execution": {
     "iopub.execute_input": "2022-08-19T03:19:19.252696Z",
     "iopub.status.busy": "2022-08-19T03:19:19.252123Z",
     "iopub.status.idle": "2022-08-19T03:19:19.262595Z",
     "shell.execute_reply": "2022-08-19T03:19:19.263022Z"
    },
    "papermill": {
     "duration": 0.031232,
     "end_time": "2022-08-19T03:19:19.263165",
     "exception": false,
     "start_time": "2022-08-19T03:19:19.231933",
     "status": "completed"
    },
    "tags": []
   },
   "outputs": [],
   "source": [
    "#hide\n",
    "%load_ext autoreload\n",
    "%autoreload 2"
   ]
  },
  {
   "cell_type": "code",
   "execution_count": 2,
   "id": "overall-advancement",
   "metadata": {
    "execution": {
     "iopub.execute_input": "2022-08-19T03:19:19.288555Z",
     "iopub.status.busy": "2022-08-19T03:19:19.287970Z",
     "iopub.status.idle": "2022-08-19T03:19:20.672787Z",
     "shell.execute_reply": "2022-08-19T03:19:20.671770Z"
    },
    "papermill": {
     "duration": 1.39906,
     "end_time": "2022-08-19T03:19:20.672922",
     "exception": false,
     "start_time": "2022-08-19T03:19:19.273862",
     "status": "completed"
    },
    "tags": []
   },
   "outputs": [],
   "source": [
    "#hide\n",
    "from scripts.read_data import read_api\n",
    "from IPython.display import HTML\n",
    "import plotly.graph_objects as go\n"
   ]
  },
  {
   "cell_type": "code",
   "execution_count": 3,
   "id": "light-crazy",
   "metadata": {
    "execution": {
     "iopub.execute_input": "2022-08-19T03:19:20.699630Z",
     "iopub.status.busy": "2022-08-19T03:19:20.699034Z",
     "iopub.status.idle": "2022-08-19T03:19:20.721132Z",
     "shell.execute_reply": "2022-08-19T03:19:20.720672Z"
    },
    "papermill": {
     "duration": 0.03727,
     "end_time": "2022-08-19T03:19:20.721245",
     "exception": false,
     "start_time": "2022-08-19T03:19:20.683975",
     "status": "completed"
    },
    "tags": []
   },
   "outputs": [],
   "source": [
    "#hide\n",
    "### ICO koreliacija"
   ]
  },
  {
   "cell_type": "code",
   "execution_count": 4,
   "id": "likely-bahrain",
   "metadata": {
    "execution": {
     "iopub.execute_input": "2022-08-19T03:19:20.749616Z",
     "iopub.status.busy": "2022-08-19T03:19:20.748256Z",
     "iopub.status.idle": "2022-08-19T03:19:21.574863Z",
     "shell.execute_reply": "2022-08-19T03:19:21.573608Z"
    },
    "papermill": {
     "duration": 0.842886,
     "end_time": "2022-08-19T03:19:21.575005",
     "exception": false,
     "start_time": "2022-08-19T03:19:20.732119",
     "status": "completed"
    },
    "tags": []
   },
   "outputs": [],
   "source": [
    "#hide\n",
    "import matplotlib.pyplot as plt\n",
    "import numpy as np\n",
    "import pandas as pd\n",
    "import seaborn as sns\n",
    "import matplotlib.pyplot as plt \n",
    "import matplotlib.dates as mdates\n",
    "import matplotlib.pyplot as plt"
   ]
  },
  {
   "cell_type": "code",
   "execution_count": 5,
   "id": "superior-blanket",
   "metadata": {
    "execution": {
     "iopub.execute_input": "2022-08-19T03:19:21.603722Z",
     "iopub.status.busy": "2022-08-19T03:19:21.602006Z",
     "iopub.status.idle": "2022-08-19T03:19:31.642173Z",
     "shell.execute_reply": "2022-08-19T03:19:31.641698Z"
    },
    "papermill": {
     "duration": 10.056236,
     "end_time": "2022-08-19T03:19:31.642287",
     "exception": false,
     "start_time": "2022-08-19T03:19:21.586051",
     "status": "completed"
    },
    "tags": []
   },
   "outputs": [
    {
     "name": "stderr",
     "output_type": "stream",
     "text": [
      "/home/runner/work/corr-app/corr-app/_notebooks/scripts/read_data.py:187: SettingWithCopyWarning:\n",
      "\n",
      "\n",
      "A value is trying to be set on a copy of a slice from a DataFrame.\n",
      "Try using .loc[row_indexer,col_indexer] = value instead\n",
      "\n",
      "See the caveats in the documentation: https://pandas.pydata.org/pandas-docs/stable/user_guide/indexing.html#returning-a-view-versus-a-copy\n",
      "\n"
     ]
    },
    {
     "name": "stderr",
     "output_type": "stream",
     "text": [
      "/home/runner/work/corr-app/corr-app/_notebooks/scripts/read_data.py:215: SettingWithCopyWarning:\n",
      "\n",
      "\n",
      "A value is trying to be set on a copy of a slice from a DataFrame.\n",
      "Try using .loc[row_indexer,col_indexer] = value instead\n",
      "\n",
      "See the caveats in the documentation: https://pandas.pydata.org/pandas-docs/stable/user_guide/indexing.html#returning-a-view-versus-a-copy\n",
      "\n"
     ]
    }
   ],
   "source": [
    "#hide\n",
    "df_all = read_api()\n",
    "#df_all = df_all.drop(['SP500', 'XAU', 'ETH', 'BTC'], axis=1)\n",
    "\n"
   ]
  },
  {
   "cell_type": "code",
   "execution_count": 6,
   "id": "mature-alert",
   "metadata": {
    "execution": {
     "iopub.execute_input": "2022-08-19T03:19:31.673620Z",
     "iopub.status.busy": "2022-08-19T03:19:31.671218Z",
     "iopub.status.idle": "2022-08-19T03:19:31.701693Z",
     "shell.execute_reply": "2022-08-19T03:19:31.701188Z"
    },
    "papermill": {
     "duration": 0.046909,
     "end_time": "2022-08-19T03:19:31.701801",
     "exception": false,
     "start_time": "2022-08-19T03:19:31.654892",
     "status": "completed"
    },
    "tags": []
   },
   "outputs": [],
   "source": [
    "#hide_input\n",
    "sum_corr = df_all.corr().sum().sort_values(ascending=True).index.values\n",
    "#df_all[sum_corr].corr()"
   ]
  },
  {
   "cell_type": "markdown",
   "id": "complex-syndicate",
   "metadata": {
    "papermill": {
     "duration": 0.011234,
     "end_time": "2022-08-19T03:19:31.724426",
     "exception": false,
     "start_time": "2022-08-19T03:19:31.713192",
     "status": "completed"
    },
    "tags": []
   },
   "source": [
    "## Išplėstinė koreliacijų matrica. "
   ]
  },
  {
   "cell_type": "code",
   "execution_count": 7,
   "id": "atomic-omaha",
   "metadata": {
    "execution": {
     "iopub.execute_input": "2022-08-19T03:19:31.751316Z",
     "iopub.status.busy": "2022-08-19T03:19:31.750728Z",
     "iopub.status.idle": "2022-08-19T03:19:32.869389Z",
     "shell.execute_reply": "2022-08-19T03:19:32.869857Z"
    },
    "papermill": {
     "duration": 1.134327,
     "end_time": "2022-08-19T03:19:32.869985",
     "exception": false,
     "start_time": "2022-08-19T03:19:31.735658",
     "status": "completed"
    },
    "tags": []
   },
   "outputs": [
    {
     "data": {
      "image/png": "[encoded data removed]",
      "text/plain": [
       "<Figure size 1080x792 with 2 Axes>"
      ]
     },
     "metadata": {
      "needs_background": "light"
     },
     "output_type": "display_data"
    }
   ],
   "source": [
    "#hide_input\n",
    "plt.figure(figsize=(15, 11))\n",
    "sns.heatmap(df_all[sum_corr].corr(), annot=True, cmap=\"cubehelix\") \n",
    "sns.set(font_scale=1.25)\n",
    "plt.savefig('corr_matrix.png', format='eps')"
   ]
  },
  {
   "cell_type": "code",
   "execution_count": 8,
   "id": "arbitrary-sullivan",
   "metadata": {
    "execution": {
     "iopub.execute_input": "2022-08-19T03:19:32.903887Z",
     "iopub.status.busy": "2022-08-19T03:19:32.900036Z",
     "iopub.status.idle": "2022-08-19T03:19:32.925833Z",
     "shell.execute_reply": "2022-08-19T03:19:32.925368Z"
    },
    "papermill": {
     "duration": 0.042221,
     "end_time": "2022-08-19T03:19:32.925939",
     "exception": false,
     "start_time": "2022-08-19T03:19:32.883718",
     "status": "completed"
    },
    "tags": []
   },
   "outputs": [],
   "source": [
    "#hide\n",
    "#df_all_mrk = read_api()"
   ]
  },
  {
   "cell_type": "code",
   "execution_count": 9,
   "id": "delayed-adapter",
   "metadata": {
    "execution": {
     "iopub.execute_input": "2022-08-19T03:19:32.956101Z",
     "iopub.status.busy": "2022-08-19T03:19:32.955521Z",
     "iopub.status.idle": "2022-08-19T03:19:32.981494Z",
     "shell.execute_reply": "2022-08-19T03:19:32.981029Z"
    },
    "papermill": {
     "duration": 0.042428,
     "end_time": "2022-08-19T03:19:32.981597",
     "exception": false,
     "start_time": "2022-08-19T03:19:32.939169",
     "status": "completed"
    },
    "tags": []
   },
   "outputs": [],
   "source": [
    "#hide\n",
    "#Koreliacijų koeficientai"
   ]
  },
  {
   "cell_type": "code",
   "execution_count": 10,
   "id": "seeing-celebration",
   "metadata": {
    "execution": {
     "iopub.execute_input": "2022-08-19T03:19:33.012061Z",
     "iopub.status.busy": "2022-08-19T03:19:33.011488Z",
     "iopub.status.idle": "2022-08-19T03:19:33.037401Z",
     "shell.execute_reply": "2022-08-19T03:19:33.036924Z"
    },
    "papermill": {
     "duration": 0.042499,
     "end_time": "2022-08-19T03:19:33.037507",
     "exception": false,
     "start_time": "2022-08-19T03:19:32.995008",
     "status": "completed"
    },
    "tags": []
   },
   "outputs": [],
   "source": [
    "#hide_input\n",
    "#sum_corr = df_all_mrk.corr().sum().sort_values(ascending=True).index.values\n",
    "#df_all_mrk[sum_corr].corr()"
   ]
  },
  {
   "cell_type": "code",
   "execution_count": 11,
   "id": "other-painting",
   "metadata": {
    "execution": {
     "iopub.execute_input": "2022-08-19T03:19:33.067380Z",
     "iopub.status.busy": "2022-08-19T03:19:33.066795Z",
     "iopub.status.idle": "2022-08-19T03:19:33.092331Z",
     "shell.execute_reply": "2022-08-19T03:19:33.091858Z"
    },
    "papermill": {
     "duration": 0.041605,
     "end_time": "2022-08-19T03:19:33.092437",
     "exception": false,
     "start_time": "2022-08-19T03:19:33.050832",
     "status": "completed"
    },
    "tags": []
   },
   "outputs": [],
   "source": [
    "#hide\n",
    "#Koreliacijos matrica. "
   ]
  },
  {
   "cell_type": "code",
   "execution_count": 12,
   "id": "modular-magnitude",
   "metadata": {
    "execution": {
     "iopub.execute_input": "2022-08-19T03:19:33.122434Z",
     "iopub.status.busy": "2022-08-19T03:19:33.121872Z",
     "iopub.status.idle": "2022-08-19T03:19:33.148213Z",
     "shell.execute_reply": "2022-08-19T03:19:33.147708Z"
    },
    "papermill": {
     "duration": 0.042467,
     "end_time": "2022-08-19T03:19:33.148323",
     "exception": false,
     "start_time": "2022-08-19T03:19:33.105856",
     "status": "completed"
    },
    "tags": []
   },
   "outputs": [],
   "source": [
    "#hide_input\n",
    "#plt.figure(figsize=(15, 8))\n",
    "#sns.heatmap(df_all_mrk[sum_corr].corr(), annot=True, cmap=\"BrBG\");\n",
    "#plt.savefig('corr_matrix_all.eps', format='eps')"
   ]
  },
  {
   "cell_type": "code",
   "execution_count": null,
   "id": "original-senator",
   "metadata": {
    "papermill": {
     "duration": 0.013171,
     "end_time": "2022-08-19T03:19:33.174855",
     "exception": false,
     "start_time": "2022-08-19T03:19:33.161684",
     "status": "completed"
    },
    "tags": []
   },
   "outputs": [],
   "source": []
  },
  {
   "cell_type": "code",
   "execution_count": null,
   "id": "saving-secretariat",
   "metadata": {
    "papermill": {
     "duration": 0.013066,
     "end_time": "2022-08-19T03:19:33.201101",
     "exception": false,
     "start_time": "2022-08-19T03:19:33.188035",
     "status": "completed"
    },
    "tags": []
   },
   "outputs": [],
   "source": []
  }
 ],
 "metadata": {
  "kernelspec": {
   "display_name": "Python 3",
   "language": "python",
   "name": "python3"
  },
  "language_info": {
   "codemirror_mode": {
    "name": "ipython",
    "version": 3
   },
   "file_extension": ".py",
   "mimetype": "text/x-python",
   "name": "python",
   "nbconvert_exporter": "python",
   "pygments_lexer": "ipython3",
   "version": "3.6.15"
  },
  "papermill": {
   "default_parameters": {},
   "duration": 15.375896,
   "end_time": "2022-08-19T03:19:33.632868",
   "environment_variables": {},
   "exception": null,
   "input_path": "App-Correlation_charts.ipynb",
   "output_path": "App-Correlation_charts.ipynb",
   "parameters": {},
   "start_time": "2022-08-19T03:19:18.256972",
   "version": "2.2.2"
  }
 },
 "nbformat": 4,
 "nbformat_minor": 5
}