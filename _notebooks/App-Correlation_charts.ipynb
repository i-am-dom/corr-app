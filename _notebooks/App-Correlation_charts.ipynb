{
 "cells": [
  {
   "cell_type": "markdown",
   "id": "touched-facility",
   "metadata": {
    "papermill": {
     "duration": 0.017261,
     "end_time": "2022-10-24T03:52:40.437770",
     "exception": false,
     "start_time": "2022-10-24T03:52:40.420509",
     "status": "completed"
    },
    "tags": []
   },
   "source": [
    "# Koreliacijų matrica\n",
    "> Išplėstinė koreliacijų matrica. \n",
    "\n",
    "- toc: true \n",
    "- badges: true\n",
    "- comments: false\n",
    "- categories: [Dominykas Tautkus]\n",
    "- image: images/matrix.png"
   ]
  },
  {
   "cell_type": "code",
   "execution_count": null,
   "id": "premium-weekend",
   "metadata": {
    "papermill": {
     "duration": 0.012884,
     "end_time": "2022-10-24T03:52:40.467314",
     "exception": false,
     "start_time": "2022-10-24T03:52:40.454430",
     "status": "completed"
    },
    "tags": []
   },
   "outputs": [],
   "source": []
  },
  {
   "cell_type": "code",
   "execution_count": 1,
   "id": "vertical-rebate",
   "metadata": {
    "execution": {
     "iopub.execute_input": "2022-10-24T03:52:40.504661Z",
     "iopub.status.busy": "2022-10-24T03:52:40.503944Z",
     "iopub.status.idle": "2022-10-24T03:52:40.519457Z",
     "shell.execute_reply": "2022-10-24T03:52:40.520051Z"
    },
    "papermill": {
     "duration": 0.040442,
     "end_time": "2022-10-24T03:52:40.520221",
     "exception": false,
     "start_time": "2022-10-24T03:52:40.479779",
     "status": "completed"
    },
    "tags": []
   },
   "outputs": [],
   "source": [
    "#hide\n",
    "%load_ext autoreload\n",
    "%autoreload 2"
   ]
  },
  {
   "cell_type": "code",
   "execution_count": 2,
   "id": "overall-advancement",
   "metadata": {
    "execution": {
     "iopub.execute_input": "2022-10-24T03:52:40.560485Z",
     "iopub.status.busy": "2022-10-24T03:52:40.559672Z",
     "iopub.status.idle": "2022-10-24T03:52:42.271711Z",
     "shell.execute_reply": "2022-10-24T03:52:42.272291Z"
    },
    "papermill": {
     "duration": 1.739516,
     "end_time": "2022-10-24T03:52:42.272462",
     "exception": false,
     "start_time": "2022-10-24T03:52:40.532946",
     "status": "completed"
    },
    "tags": []
   },
   "outputs": [],
   "source": [
    "#hide\n",
    "from scripts.read_data import read_api\n",
    "from IPython.display import HTML\n",
    "import plotly.graph_objects as go\n"
   ]
  },
  {
   "cell_type": "code",
   "execution_count": 3,
   "id": "light-crazy",
   "metadata": {
    "execution": {
     "iopub.execute_input": "2022-10-24T03:52:42.308986Z",
     "iopub.status.busy": "2022-10-24T03:52:42.307722Z",
     "iopub.status.idle": "2022-10-24T03:52:42.333865Z",
     "shell.execute_reply": "2022-10-24T03:52:42.332421Z"
    },
    "papermill": {
     "duration": 0.047853,
     "end_time": "2022-10-24T03:52:42.334024",
     "exception": false,
     "start_time": "2022-10-24T03:52:42.286171",
     "status": "completed"
    },
    "tags": []
   },
   "outputs": [],
   "source": [
    "#hide\n",
    "### ICO koreliacija"
   ]
  },
  {
   "cell_type": "code",
   "execution_count": 4,
   "id": "likely-bahrain",
   "metadata": {
    "execution": {
     "iopub.execute_input": "2022-10-24T03:52:42.377533Z",
     "iopub.status.busy": "2022-10-24T03:52:42.366265Z",
     "iopub.status.idle": "2022-10-24T03:52:43.361375Z",
     "shell.execute_reply": "2022-10-24T03:52:43.361934Z"
    },
    "papermill": {
     "duration": 1.01458,
     "end_time": "2022-10-24T03:52:43.362120",
     "exception": false,
     "start_time": "2022-10-24T03:52:42.347540",
     "status": "completed"
    },
    "tags": []
   },
   "outputs": [],
   "source": [
    "#hide\n",
    "import matplotlib.pyplot as plt\n",
    "import numpy as np\n",
    "import pandas as pd\n",
    "import seaborn as sns\n",
    "import matplotlib.pyplot as plt \n",
    "import matplotlib.dates as mdates\n",
    "import matplotlib.pyplot as plt"
   ]
  },
  {
   "cell_type": "code",
   "execution_count": 5,
   "id": "superior-blanket",
   "metadata": {
    "execution": {
     "iopub.execute_input": "2022-10-24T03:52:43.392631Z",
     "iopub.status.busy": "2022-10-24T03:52:43.391846Z",
     "iopub.status.idle": "2022-10-24T03:53:00.231706Z",
     "shell.execute_reply": "2022-10-24T03:53:00.230790Z"
    },
    "papermill": {
     "duration": 16.856702,
     "end_time": "2022-10-24T03:53:00.231846",
     "exception": false,
     "start_time": "2022-10-24T03:52:43.375144",
     "status": "completed"
    },
    "tags": []
   },
   "outputs": [
    {
     "name": "stderr",
     "output_type": "stream",
     "text": [
      "/home/runner/work/corr-app/corr-app/_notebooks/scripts/read_data.py:187: SettingWithCopyWarning:\n",
      "\n",
      "\n",
      "A value is trying to be set on a copy of a slice from a DataFrame.\n",
      "Try using .loc[row_indexer,col_indexer] = value instead\n",
      "\n",
      "See the caveats in the documentation: https://pandas.pydata.org/pandas-docs/stable/user_guide/indexing.html#returning-a-view-versus-a-copy\n",
      "\n"
     ]
    },
    {
     "name": "stderr",
     "output_type": "stream",
     "text": [
      "/home/runner/work/corr-app/corr-app/_notebooks/scripts/read_data.py:215: SettingWithCopyWarning:\n",
      "\n",
      "\n",
      "A value is trying to be set on a copy of a slice from a DataFrame.\n",
      "Try using .loc[row_indexer,col_indexer] = value instead\n",
      "\n",
      "See the caveats in the documentation: https://pandas.pydata.org/pandas-docs/stable/user_guide/indexing.html#returning-a-view-versus-a-copy\n",
      "\n"
     ]
    }
   ],
   "source": [
    "#hide\n",
    "df_all = read_api()\n",
    "#df_all = df_all.drop(['SP500', 'XAU', 'ETH', 'BTC'], axis=1)\n",
    "\n"
   ]
  },
  {
   "cell_type": "code",
   "execution_count": 6,
   "id": "mature-alert",
   "metadata": {
    "execution": {
     "iopub.execute_input": "2022-10-24T03:53:00.273212Z",
     "iopub.status.busy": "2022-10-24T03:53:00.271652Z",
     "iopub.status.idle": "2022-10-24T03:53:00.303503Z",
     "shell.execute_reply": "2022-10-24T03:53:00.304051Z"
    },
    "papermill": {
     "duration": 0.057449,
     "end_time": "2022-10-24T03:53:00.304202",
     "exception": false,
     "start_time": "2022-10-24T03:53:00.246753",
     "status": "completed"
    },
    "tags": []
   },
   "outputs": [],
   "source": [
    "#hide_input\n",
    "sum_corr = df_all.corr().sum().sort_values(ascending=True).index.values\n",
    "#df_all[sum_corr].corr()"
   ]
  },
  {
   "cell_type": "markdown",
   "id": "complex-syndicate",
   "metadata": {
    "papermill": {
     "duration": 0.012894,
     "end_time": "2022-10-24T03:53:00.331309",
     "exception": false,
     "start_time": "2022-10-24T03:53:00.318415",
     "status": "completed"
    },
    "tags": []
   },
   "source": [
    "## Išplėstinė koreliacijų matrica. "
   ]
  },
  {
   "cell_type": "code",
   "execution_count": 7,
   "id": "atomic-omaha",
   "metadata": {
    "execution": {
     "iopub.execute_input": "2022-10-24T03:53:00.367495Z",
     "iopub.status.busy": "2022-10-24T03:53:00.366297Z",
     "iopub.status.idle": "2022-10-24T03:53:01.906216Z",
     "shell.execute_reply": "2022-10-24T03:53:01.905257Z"
    },
    "papermill": {
     "duration": 1.562295,
     "end_time": "2022-10-24T03:53:01.906371",
     "exception": false,
     "start_time": "2022-10-24T03:53:00.344076",
     "status": "completed"
    },
    "tags": []
   },
   "outputs": [
    {
     "data": {
      "image/png": "[encoded data removed]",
      "text/plain": [
       "<Figure size 1080x792 with 2 Axes>"
      ]
     },
     "metadata": {
      "needs_background": "light"
     },
     "output_type": "display_data"
    }
   ],
   "source": [
    "#hide_input\n",
    "plt.figure(figsize=(15, 11))\n",
    "sns.heatmap(df_all[sum_corr].corr(), annot=True, cmap=\"cubehelix\") \n",
    "sns.set(font_scale=1.25)\n",
    "plt.savefig('corr_matrix.png', format='eps')"
   ]
  },
  {
   "cell_type": "code",
   "execution_count": 8,
   "id": "arbitrary-sullivan",
   "metadata": {
    "execution": {
     "iopub.execute_input": "2022-10-24T03:53:01.943721Z",
     "iopub.status.busy": "2022-10-24T03:53:01.942956Z",
     "iopub.status.idle": "2022-10-24T03:53:01.972784Z",
     "shell.execute_reply": "2022-10-24T03:53:01.972215Z"
    },
    "papermill": {
     "duration": 0.050106,
     "end_time": "2022-10-24T03:53:01.972916",
     "exception": false,
     "start_time": "2022-10-24T03:53:01.922810",
     "status": "completed"
    },
    "tags": []
   },
   "outputs": [],
   "source": [
    "#hide\n",
    "#df_all_mrk = read_api()"
   ]
  },
  {
   "cell_type": "code",
   "execution_count": 9,
   "id": "delayed-adapter",
   "metadata": {
    "execution": {
     "iopub.execute_input": "2022-10-24T03:53:02.014213Z",
     "iopub.status.busy": "2022-10-24T03:53:02.012569Z",
     "iopub.status.idle": "2022-10-24T03:53:02.036280Z",
     "shell.execute_reply": "2022-10-24T03:53:02.036804Z"
    },
    "papermill": {
     "duration": 0.048777,
     "end_time": "2022-10-24T03:53:02.036928",
     "exception": false,
     "start_time": "2022-10-24T03:53:01.988151",
     "status": "completed"
    },
    "tags": []
   },
   "outputs": [],
   "source": [
    "#hide\n",
    "#Koreliacijų koeficientai"
   ]
  },
  {
   "cell_type": "code",
   "execution_count": 10,
   "id": "seeing-celebration",
   "metadata": {
    "execution": {
     "iopub.execute_input": "2022-10-24T03:53:02.087824Z",
     "iopub.status.busy": "2022-10-24T03:53:02.081722Z",
     "iopub.status.idle": "2022-10-24T03:53:02.108681Z",
     "shell.execute_reply": "2022-10-24T03:53:02.109209Z"
    },
    "papermill": {
     "duration": 0.056758,
     "end_time": "2022-10-24T03:53:02.109476",
     "exception": false,
     "start_time": "2022-10-24T03:53:02.052718",
     "status": "completed"
    },
    "tags": []
   },
   "outputs": [],
   "source": [
    "#hide_input\n",
    "#sum_corr = df_all_mrk.corr().sum().sort_values(ascending=True).index.values\n",
    "#df_all_mrk[sum_corr].corr()"
   ]
  },
  {
   "cell_type": "code",
   "execution_count": 11,
   "id": "other-painting",
   "metadata": {
    "execution": {
     "iopub.execute_input": "2022-10-24T03:53:02.153617Z",
     "iopub.status.busy": "2022-10-24T03:53:02.152909Z",
     "iopub.status.idle": "2022-10-24T03:53:02.177736Z",
     "shell.execute_reply": "2022-10-24T03:53:02.178700Z"
    },
    "papermill": {
     "duration": 0.052836,
     "end_time": "2022-10-24T03:53:02.178883",
     "exception": false,
     "start_time": "2022-10-24T03:53:02.126047",
     "status": "completed"
    },
    "tags": []
   },
   "outputs": [],
   "source": [
    "#hide\n",
    "#Koreliacijos matrica. "
   ]
  },
  {
   "cell_type": "code",
   "execution_count": 12,
   "id": "modular-magnitude",
   "metadata": {
    "execution": {
     "iopub.execute_input": "2022-10-24T03:53:02.227210Z",
     "iopub.status.busy": "2022-10-24T03:53:02.216988Z",
     "iopub.status.idle": "2022-10-24T03:53:02.248042Z",
     "shell.execute_reply": "2022-10-24T03:53:02.247497Z"
    },
    "papermill": {
     "duration": 0.052849,
     "end_time": "2022-10-24T03:53:02.248180",
     "exception": false,
     "start_time": "2022-10-24T03:53:02.195331",
     "status": "completed"
    },
    "tags": []
   },
   "outputs": [],
   "source": [
    "#hide_input\n",
    "#plt.figure(figsize=(15, 8))\n",
    "#sns.heatmap(df_all_mrk[sum_corr].corr(), annot=True, cmap=\"BrBG\");\n",
    "#plt.savefig('corr_matrix_all.eps', format='eps')"
   ]
  },
  {
   "cell_type": "code",
   "execution_count": null,
   "id": "original-senator",
   "metadata": {
    "papermill": {
     "duration": 0.015234,
     "end_time": "2022-10-24T03:53:02.279959",
     "exception": false,
     "start_time": "2022-10-24T03:53:02.264725",
     "status": "completed"
    },
    "tags": []
   },
   "outputs": [],
   "source": []
  },
  {
   "cell_type": "code",
   "execution_count": null,
   "id": "saving-secretariat",
   "metadata": {
    "papermill": {
     "duration": 0.014782,
     "end_time": "2022-10-24T03:53:02.312115",
     "exception": false,
     "start_time": "2022-10-24T03:53:02.297333",
     "status": "completed"
    },
    "tags": []
   },
   "outputs": [],
   "source": []
  }
 ],
 "metadata": {
  "kernelspec": {
   "display_name": "Python 3",
   "language": "python",
   "name": "python3"
  },
  "language_info": {
   "codemirror_mode": {
    "name": "ipython",
    "version": 3
   },
   "file_extension": ".py",
   "mimetype": "text/x-python",
   "name": "python",
   "nbconvert_exporter": "python",
   "pygments_lexer": "ipython3",
   "version": "3.6.15"
  },
  "papermill": {
   "default_parameters": {},
   "duration": 23.712728,
   "end_time": "2022-10-24T03:53:02.847438",
   "environment_variables": {},
   "exception": null,
   "input_path": "App-Correlation_charts.ipynb",
   "output_path": "App-Correlation_charts.ipynb",
   "parameters": {},
   "start_time": "2022-10-24T03:52:39.134710",
   "version": "2.2.2"
  }
 },
 "nbformat": 4,
 "nbformat_minor": 5
}