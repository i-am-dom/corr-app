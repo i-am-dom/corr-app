{
 "cells": [
  {
   "cell_type": "markdown",
   "id": "touched-facility",
   "metadata": {
    "papermill": {
     "duration": 0.022693,
     "end_time": "2022-10-25T03:48:45.490556",
     "exception": false,
     "start_time": "2022-10-25T03:48:45.467863",
     "status": "completed"
    },
    "tags": []
   },
   "source": [
    "# Koreliacijų matrica\n",
    "> Išplėstinė koreliacijų matrica. \n",
    "\n",
    "- toc: true \n",
    "- badges: true\n",
    "- comments: false\n",
    "- categories: [Dominykas Tautkus]\n",
    "- image: images/matrix.png"
   ]
  },
  {
   "cell_type": "code",
   "execution_count": null,
   "id": "premium-weekend",
   "metadata": {
    "papermill": {
     "duration": 0.015381,
     "end_time": "2022-10-25T03:48:45.521444",
     "exception": false,
     "start_time": "2022-10-25T03:48:45.506063",
     "status": "completed"
    },
    "tags": []
   },
   "outputs": [],
   "source": []
  },
  {
   "cell_type": "code",
   "execution_count": 1,
   "id": "vertical-rebate",
   "metadata": {
    "execution": {
     "iopub.execute_input": "2022-10-25T03:48:45.569712Z",
     "iopub.status.busy": "2022-10-25T03:48:45.568610Z",
     "iopub.status.idle": "2022-10-25T03:48:45.583903Z",
     "shell.execute_reply": "2022-10-25T03:48:45.583170Z"
    },
    "papermill": {
     "duration": 0.047023,
     "end_time": "2022-10-25T03:48:45.584076",
     "exception": false,
     "start_time": "2022-10-25T03:48:45.537053",
     "status": "completed"
    },
    "tags": []
   },
   "outputs": [],
   "source": [
    "#hide\n",
    "%load_ext autoreload\n",
    "%autoreload 2"
   ]
  },
  {
   "cell_type": "code",
   "execution_count": 2,
   "id": "overall-advancement",
   "metadata": {
    "execution": {
     "iopub.execute_input": "2022-10-25T03:48:45.639112Z",
     "iopub.status.busy": "2022-10-25T03:48:45.638212Z",
     "iopub.status.idle": "2022-10-25T03:48:47.572095Z",
     "shell.execute_reply": "2022-10-25T03:48:47.571460Z"
    },
    "papermill": {
     "duration": 1.963651,
     "end_time": "2022-10-25T03:48:47.572247",
     "exception": false,
     "start_time": "2022-10-25T03:48:45.608596",
     "status": "completed"
    },
    "tags": []
   },
   "outputs": [],
   "source": [
    "#hide\n",
    "from scripts.read_data import read_api\n",
    "from IPython.display import HTML\n",
    "import plotly.graph_objects as go\n"
   ]
  },
  {
   "cell_type": "code",
   "execution_count": 3,
   "id": "light-crazy",
   "metadata": {
    "execution": {
     "iopub.execute_input": "2022-10-25T03:48:47.609048Z",
     "iopub.status.busy": "2022-10-25T03:48:47.608244Z",
     "iopub.status.idle": "2022-10-25T03:48:47.645187Z",
     "shell.execute_reply": "2022-10-25T03:48:47.644421Z"
    },
    "papermill": {
     "duration": 0.056397,
     "end_time": "2022-10-25T03:48:47.645348",
     "exception": false,
     "start_time": "2022-10-25T03:48:47.588951",
     "status": "completed"
    },
    "tags": []
   },
   "outputs": [],
   "source": [
    "#hide\n",
    "### ICO koreliacija"
   ]
  },
  {
   "cell_type": "code",
   "execution_count": 4,
   "id": "likely-bahrain",
   "metadata": {
    "execution": {
     "iopub.execute_input": "2022-10-25T03:48:47.683221Z",
     "iopub.status.busy": "2022-10-25T03:48:47.682237Z",
     "iopub.status.idle": "2022-10-25T03:48:48.859547Z",
     "shell.execute_reply": "2022-10-25T03:48:48.858934Z"
    },
    "papermill": {
     "duration": 1.198052,
     "end_time": "2022-10-25T03:48:48.859690",
     "exception": false,
     "start_time": "2022-10-25T03:48:47.661638",
     "status": "completed"
    },
    "tags": []
   },
   "outputs": [],
   "source": [
    "#hide\n",
    "import matplotlib.pyplot as plt\n",
    "import numpy as np\n",
    "import pandas as pd\n",
    "import seaborn as sns\n",
    "import matplotlib.pyplot as plt \n",
    "import matplotlib.dates as mdates\n",
    "import matplotlib.pyplot as plt"
   ]
  },
  {
   "cell_type": "code",
   "execution_count": 5,
   "id": "superior-blanket",
   "metadata": {
    "execution": {
     "iopub.execute_input": "2022-10-25T03:48:48.897782Z",
     "iopub.status.busy": "2022-10-25T03:48:48.896838Z",
     "iopub.status.idle": "2022-10-25T03:49:03.212806Z",
     "shell.execute_reply": "2022-10-25T03:49:03.213576Z"
    },
    "papermill": {
     "duration": 14.339029,
     "end_time": "2022-10-25T03:49:03.213798",
     "exception": false,
     "start_time": "2022-10-25T03:48:48.874769",
     "status": "completed"
    },
    "tags": []
   },
   "outputs": [
    {
     "name": "stderr",
     "output_type": "stream",
     "text": [
      "/home/runner/work/corr-app/corr-app/_notebooks/scripts/read_data.py:187: SettingWithCopyWarning:\n",
      "\n",
      "\n",
      "A value is trying to be set on a copy of a slice from a DataFrame.\n",
      "Try using .loc[row_indexer,col_indexer] = value instead\n",
      "\n",
      "See the caveats in the documentation: https://pandas.pydata.org/pandas-docs/stable/user_guide/indexing.html#returning-a-view-versus-a-copy\n",
      "\n"
     ]
    },
    {
     "name": "stderr",
     "output_type": "stream",
     "text": [
      "/home/runner/work/corr-app/corr-app/_notebooks/scripts/read_data.py:215: SettingWithCopyWarning:\n",
      "\n",
      "\n",
      "A value is trying to be set on a copy of a slice from a DataFrame.\n",
      "Try using .loc[row_indexer,col_indexer] = value instead\n",
      "\n",
      "See the caveats in the documentation: https://pandas.pydata.org/pandas-docs/stable/user_guide/indexing.html#returning-a-view-versus-a-copy\n",
      "\n"
     ]
    }
   ],
   "source": [
    "#hide\n",
    "df_all = read_api()\n",
    "#df_all = df_all.drop(['SP500', 'XAU', 'ETH', 'BTC'], axis=1)\n",
    "\n"
   ]
  },
  {
   "cell_type": "code",
   "execution_count": 6,
   "id": "mature-alert",
   "metadata": {
    "execution": {
     "iopub.execute_input": "2022-10-25T03:49:03.256925Z",
     "iopub.status.busy": "2022-10-25T03:49:03.255838Z",
     "iopub.status.idle": "2022-10-25T03:49:03.300764Z",
     "shell.execute_reply": "2022-10-25T03:49:03.301548Z"
    },
    "papermill": {
     "duration": 0.069297,
     "end_time": "2022-10-25T03:49:03.301878",
     "exception": false,
     "start_time": "2022-10-25T03:49:03.232581",
     "status": "completed"
    },
    "tags": []
   },
   "outputs": [],
   "source": [
    "#hide_input\n",
    "sum_corr = df_all.corr().sum().sort_values(ascending=True).index.values\n",
    "#df_all[sum_corr].corr()"
   ]
  },
  {
   "cell_type": "markdown",
   "id": "complex-syndicate",
   "metadata": {
    "papermill": {
     "duration": 0.015655,
     "end_time": "2022-10-25T03:49:03.334214",
     "exception": false,
     "start_time": "2022-10-25T03:49:03.318559",
     "status": "completed"
    },
    "tags": []
   },
   "source": [
    "## Išplėstinė koreliacijų matrica. "
   ]
  },
  {
   "cell_type": "code",
   "execution_count": 7,
   "id": "atomic-omaha",
   "metadata": {
    "execution": {
     "iopub.execute_input": "2022-10-25T03:49:03.374001Z",
     "iopub.status.busy": "2022-10-25T03:49:03.373000Z",
     "iopub.status.idle": "2022-10-25T03:49:05.387056Z",
     "shell.execute_reply": "2022-10-25T03:49:05.386313Z"
    },
    "papermill": {
     "duration": 2.036902,
     "end_time": "2022-10-25T03:49:05.387237",
     "exception": false,
     "start_time": "2022-10-25T03:49:03.350335",
     "status": "completed"
    },
    "tags": []
   },
   "outputs": [
    {
     "data": {
      "image/png": "[encoded data removed]",
      "text/plain": [
       "<Figure size 1080x792 with 2 Axes>"
      ]
     },
     "metadata": {
      "needs_background": "light"
     },
     "output_type": "display_data"
    }
   ],
   "source": [
    "#hide_input\n",
    "plt.figure(figsize=(15, 11))\n",
    "sns.heatmap(df_all[sum_corr].corr(), annot=True, cmap=\"cubehelix\") \n",
    "sns.set(font_scale=1.25)\n",
    "plt.savefig('corr_matrix.png', format='eps')"
   ]
  },
  {
   "cell_type": "code",
   "execution_count": 8,
   "id": "arbitrary-sullivan",
   "metadata": {
    "execution": {
     "iopub.execute_input": "2022-10-25T03:49:05.436246Z",
     "iopub.status.busy": "2022-10-25T03:49:05.434815Z",
     "iopub.status.idle": "2022-10-25T03:49:05.476243Z",
     "shell.execute_reply": "2022-10-25T03:49:05.475612Z"
    },
    "papermill": {
     "duration": 0.06679,
     "end_time": "2022-10-25T03:49:05.476387",
     "exception": false,
     "start_time": "2022-10-25T03:49:05.409597",
     "status": "completed"
    },
    "tags": []
   },
   "outputs": [],
   "source": [
    "#hide\n",
    "#df_all_mrk = read_api()"
   ]
  },
  {
   "cell_type": "code",
   "execution_count": 9,
   "id": "delayed-adapter",
   "metadata": {
    "execution": {
     "iopub.execute_input": "2022-10-25T03:49:05.520064Z",
     "iopub.status.busy": "2022-10-25T03:49:05.519270Z",
     "iopub.status.idle": "2022-10-25T03:49:05.558545Z",
     "shell.execute_reply": "2022-10-25T03:49:05.559380Z"
    },
    "papermill": {
     "duration": 0.064065,
     "end_time": "2022-10-25T03:49:05.559650",
     "exception": false,
     "start_time": "2022-10-25T03:49:05.495585",
     "status": "completed"
    },
    "tags": []
   },
   "outputs": [],
   "source": [
    "#hide\n",
    "#Koreliacijų koeficientai"
   ]
  },
  {
   "cell_type": "code",
   "execution_count": 10,
   "id": "seeing-celebration",
   "metadata": {
    "execution": {
     "iopub.execute_input": "2022-10-25T03:49:05.603963Z",
     "iopub.status.busy": "2022-10-25T03:49:05.602936Z",
     "iopub.status.idle": "2022-10-25T03:49:05.640800Z",
     "shell.execute_reply": "2022-10-25T03:49:05.641438Z"
    },
    "papermill": {
     "duration": 0.063084,
     "end_time": "2022-10-25T03:49:05.641619",
     "exception": false,
     "start_time": "2022-10-25T03:49:05.578535",
     "status": "completed"
    },
    "tags": []
   },
   "outputs": [],
   "source": [
    "#hide_input\n",
    "#sum_corr = df_all_mrk.corr().sum().sort_values(ascending=True).index.values\n",
    "#df_all_mrk[sum_corr].corr()"
   ]
  },
  {
   "cell_type": "code",
   "execution_count": 11,
   "id": "other-painting",
   "metadata": {
    "execution": {
     "iopub.execute_input": "2022-10-25T03:49:05.684539Z",
     "iopub.status.busy": "2022-10-25T03:49:05.683686Z",
     "iopub.status.idle": "2022-10-25T03:49:05.721445Z",
     "shell.execute_reply": "2022-10-25T03:49:05.722218Z"
    },
    "papermill": {
     "duration": 0.062533,
     "end_time": "2022-10-25T03:49:05.722704",
     "exception": false,
     "start_time": "2022-10-25T03:49:05.660171",
     "status": "completed"
    },
    "tags": []
   },
   "outputs": [],
   "source": [
    "#hide\n",
    "#Koreliacijos matrica. "
   ]
  },
  {
   "cell_type": "code",
   "execution_count": 12,
   "id": "modular-magnitude",
   "metadata": {
    "execution": {
     "iopub.execute_input": "2022-10-25T03:49:05.767739Z",
     "iopub.status.busy": "2022-10-25T03:49:05.766898Z",
     "iopub.status.idle": "2022-10-25T03:49:05.803478Z",
     "shell.execute_reply": "2022-10-25T03:49:05.804237Z"
    },
    "papermill": {
     "duration": 0.062066,
     "end_time": "2022-10-25T03:49:05.804433",
     "exception": false,
     "start_time": "2022-10-25T03:49:05.742367",
     "status": "completed"
    },
    "tags": []
   },
   "outputs": [],
   "source": [
    "#hide_input\n",
    "#plt.figure(figsize=(15, 8))\n",
    "#sns.heatmap(df_all_mrk[sum_corr].corr(), annot=True, cmap=\"BrBG\");\n",
    "#plt.savefig('corr_matrix_all.eps', format='eps')"
   ]
  },
  {
   "cell_type": "code",
   "execution_count": null,
   "id": "original-senator",
   "metadata": {
    "papermill": {
     "duration": 0.019148,
     "end_time": "2022-10-25T03:49:05.843395",
     "exception": false,
     "start_time": "2022-10-25T03:49:05.824247",
     "status": "completed"
    },
    "tags": []
   },
   "outputs": [],
   "source": []
  },
  {
   "cell_type": "code",
   "execution_count": null,
   "id": "saving-secretariat",
   "metadata": {
    "papermill": {
     "duration": 0.019985,
     "end_time": "2022-10-25T03:49:05.882644",
     "exception": false,
     "start_time": "2022-10-25T03:49:05.862659",
     "status": "completed"
    },
    "tags": []
   },
   "outputs": [],
   "source": []
  }
 ],
 "metadata": {
  "kernelspec": {
   "display_name": "Python 3",
   "language": "python",
   "name": "python3"
  },
  "language_info": {
   "codemirror_mode": {
    "name": "ipython",
    "version": 3
   },
   "file_extension": ".py",
   "mimetype": "text/x-python",
   "name": "python",
   "nbconvert_exporter": "python",
   "pygments_lexer": "ipython3",
   "version": "3.6.15"
  },
  "papermill": {
   "default_parameters": {},
   "duration": 22.445741,
   "end_time": "2022-10-25T03:49:06.626502",
   "environment_variables": {},
   "exception": null,
   "input_path": "App-Correlation_charts.ipynb",
   "output_path": "App-Correlation_charts.ipynb",
   "parameters": {},
   "start_time": "2022-10-25T03:48:44.180761",
   "version": "2.2.2"
  }
 },
 "nbformat": 4,
 "nbformat_minor": 5
}