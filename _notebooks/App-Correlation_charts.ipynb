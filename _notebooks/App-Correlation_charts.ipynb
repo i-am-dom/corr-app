{
 "cells": [
  {
   "cell_type": "markdown",
   "id": "touched-facility",
   "metadata": {
    "papermill": {
     "duration": 0.017616,
     "end_time": "2021-10-19T02:02:35.425748",
     "exception": false,
     "start_time": "2021-10-19T02:02:35.408132",
     "status": "completed"
    },
    "tags": []
   },
   "source": [
    "# Koreliacijų matrica\n",
    "> Išplėstinė koreliacijų matrica. \n",
    "\n",
    "- toc: true \n",
    "- badges: true\n",
    "- comments: false\n",
    "- categories: [Dominykas Tautkus]\n",
    "- image: images/matrix.png"
   ]
  },
  {
   "cell_type": "code",
   "execution_count": null,
   "id": "premium-weekend",
   "metadata": {
    "papermill": {
     "duration": 0.01217,
     "end_time": "2021-10-19T02:02:35.450843",
     "exception": false,
     "start_time": "2021-10-19T02:02:35.438673",
     "status": "completed"
    },
    "tags": []
   },
   "outputs": [],
   "source": []
  },
  {
   "cell_type": "code",
   "execution_count": 1,
   "id": "vertical-rebate",
   "metadata": {
    "execution": {
     "iopub.execute_input": "2021-10-19T02:02:35.486493Z",
     "iopub.status.busy": "2021-10-19T02:02:35.485872Z",
     "iopub.status.idle": "2021-10-19T02:02:35.497790Z",
     "shell.execute_reply": "2021-10-19T02:02:35.497277Z"
    },
    "papermill": {
     "duration": 0.034967,
     "end_time": "2021-10-19T02:02:35.497936",
     "exception": false,
     "start_time": "2021-10-19T02:02:35.462969",
     "status": "completed"
    },
    "tags": []
   },
   "outputs": [],
   "source": [
    "#hide\n",
    "%load_ext autoreload\n",
    "%autoreload 2"
   ]
  },
  {
   "cell_type": "code",
   "execution_count": 2,
   "id": "overall-advancement",
   "metadata": {
    "execution": {
     "iopub.execute_input": "2021-10-19T02:02:35.526173Z",
     "iopub.status.busy": "2021-10-19T02:02:35.525571Z",
     "iopub.status.idle": "2021-10-19T02:02:36.951263Z",
     "shell.execute_reply": "2021-10-19T02:02:36.950574Z"
    },
    "papermill": {
     "duration": 1.441614,
     "end_time": "2021-10-19T02:02:36.951433",
     "exception": false,
     "start_time": "2021-10-19T02:02:35.509819",
     "status": "completed"
    },
    "tags": []
   },
   "outputs": [],
   "source": [
    "#hide\n",
    "from scripts.read_data import read_api\n",
    "from IPython.display import HTML\n",
    "import plotly.graph_objects as go\n"
   ]
  },
  {
   "cell_type": "code",
   "execution_count": 3,
   "id": "light-crazy",
   "metadata": {
    "execution": {
     "iopub.execute_input": "2021-10-19T02:02:36.982114Z",
     "iopub.status.busy": "2021-10-19T02:02:36.981363Z",
     "iopub.status.idle": "2021-10-19T02:02:37.007354Z",
     "shell.execute_reply": "2021-10-19T02:02:37.006786Z"
    },
    "papermill": {
     "duration": 0.042763,
     "end_time": "2021-10-19T02:02:37.007490",
     "exception": false,
     "start_time": "2021-10-19T02:02:36.964727",
     "status": "completed"
    },
    "tags": []
   },
   "outputs": [],
   "source": [
    "#hide\n",
    "### ICO koreliacija"
   ]
  },
  {
   "cell_type": "code",
   "execution_count": 4,
   "id": "likely-bahrain",
   "metadata": {
    "execution": {
     "iopub.execute_input": "2021-10-19T02:02:37.037122Z",
     "iopub.status.busy": "2021-10-19T02:02:37.036564Z",
     "iopub.status.idle": "2021-10-19T02:02:38.031516Z",
     "shell.execute_reply": "2021-10-19T02:02:38.030784Z"
    },
    "papermill": {
     "duration": 1.011661,
     "end_time": "2021-10-19T02:02:38.031686",
     "exception": false,
     "start_time": "2021-10-19T02:02:37.020025",
     "status": "completed"
    },
    "tags": []
   },
   "outputs": [],
   "source": [
    "#hide\n",
    "import matplotlib.pyplot as plt\n",
    "import numpy as np\n",
    "import pandas as pd\n",
    "import seaborn as sns\n",
    "import matplotlib.pyplot as plt \n",
    "import matplotlib.dates as mdates\n",
    "import matplotlib.pyplot as plt"
   ]
  },
  {
   "cell_type": "code",
   "execution_count": 5,
   "id": "superior-blanket",
   "metadata": {
    "execution": {
     "iopub.execute_input": "2021-10-19T02:02:38.064435Z",
     "iopub.status.busy": "2021-10-19T02:02:38.062426Z",
     "iopub.status.idle": "2021-10-19T02:02:52.809647Z",
     "shell.execute_reply": "2021-10-19T02:02:52.808981Z"
    },
    "papermill": {
     "duration": 14.765521,
     "end_time": "2021-10-19T02:02:52.809784",
     "exception": false,
     "start_time": "2021-10-19T02:02:38.044263",
     "status": "completed"
    },
    "tags": []
   },
   "outputs": [
    {
     "name": "stderr",
     "output_type": "stream",
     "text": [
      "/home/runner/work/corr-app/corr-app/_notebooks/scripts/read_data.py:187: SettingWithCopyWarning:\n",
      "\n",
      "\n",
      "A value is trying to be set on a copy of a slice from a DataFrame.\n",
      "Try using .loc[row_indexer,col_indexer] = value instead\n",
      "\n",
      "See the caveats in the documentation: https://pandas.pydata.org/pandas-docs/stable/user_guide/indexing.html#returning-a-view-versus-a-copy\n",
      "\n"
     ]
    },
    {
     "name": "stderr",
     "output_type": "stream",
     "text": [
      "/home/runner/work/corr-app/corr-app/_notebooks/scripts/read_data.py:215: SettingWithCopyWarning:\n",
      "\n",
      "\n",
      "A value is trying to be set on a copy of a slice from a DataFrame.\n",
      "Try using .loc[row_indexer,col_indexer] = value instead\n",
      "\n",
      "See the caveats in the documentation: https://pandas.pydata.org/pandas-docs/stable/user_guide/indexing.html#returning-a-view-versus-a-copy\n",
      "\n"
     ]
    }
   ],
   "source": [
    "#hide\n",
    "df_all = read_api()\n",
    "#df_all = df_all.drop(['SP500', 'XAU', 'ETH', 'BTC'], axis=1)\n",
    "\n"
   ]
  },
  {
   "cell_type": "code",
   "execution_count": 6,
   "id": "mature-alert",
   "metadata": {
    "execution": {
     "iopub.execute_input": "2021-10-19T02:02:52.844741Z",
     "iopub.status.busy": "2021-10-19T02:02:52.843032Z",
     "iopub.status.idle": "2021-10-19T02:02:52.878651Z",
     "shell.execute_reply": "2021-10-19T02:02:52.878118Z"
    },
    "papermill": {
     "duration": 0.055456,
     "end_time": "2021-10-19T02:02:52.878795",
     "exception": false,
     "start_time": "2021-10-19T02:02:52.823339",
     "status": "completed"
    },
    "tags": []
   },
   "outputs": [],
   "source": [
    "#hide_input\n",
    "sum_corr = df_all.corr().sum().sort_values(ascending=True).index.values\n",
    "#df_all[sum_corr].corr()"
   ]
  },
  {
   "cell_type": "markdown",
   "id": "complex-syndicate",
   "metadata": {
    "papermill": {
     "duration": 0.012942,
     "end_time": "2021-10-19T02:02:52.904858",
     "exception": false,
     "start_time": "2021-10-19T02:02:52.891916",
     "status": "completed"
    },
    "tags": []
   },
   "source": [
    "## Išplėstinė koreliacijų matrica. "
   ]
  },
  {
   "cell_type": "code",
   "execution_count": 7,
   "id": "atomic-omaha",
   "metadata": {
    "execution": {
     "iopub.execute_input": "2021-10-19T02:02:52.936194Z",
     "iopub.status.busy": "2021-10-19T02:02:52.935587Z",
     "iopub.status.idle": "2021-10-19T02:02:54.340759Z",
     "shell.execute_reply": "2021-10-19T02:02:54.341252Z"
    },
    "papermill": {
     "duration": 1.423392,
     "end_time": "2021-10-19T02:02:54.341413",
     "exception": false,
     "start_time": "2021-10-19T02:02:52.918021",
     "status": "completed"
    },
    "tags": []
   },
   "outputs": [
    {
     "data": {
      "image/png": "[encoded data removed]",
      "text/plain": [
       "<Figure size 1080x792 with 2 Axes>"
      ]
     },
     "metadata": {
      "needs_background": "light"
     },
     "output_type": "display_data"
    }
   ],
   "source": [
    "#hide_input\n",
    "plt.figure(figsize=(15, 11))\n",
    "sns.heatmap(df_all[sum_corr].corr(), annot=True, cmap=\"cubehelix\") \n",
    "sns.set(font_scale=1.25)\n",
    "plt.savefig('corr_matrix.png', format='eps')"
   ]
  },
  {
   "cell_type": "code",
   "execution_count": 8,
   "id": "arbitrary-sullivan",
   "metadata": {
    "execution": {
     "iopub.execute_input": "2021-10-19T02:02:54.378893Z",
     "iopub.status.busy": "2021-10-19T02:02:54.377356Z",
     "iopub.status.idle": "2021-10-19T02:02:54.407194Z",
     "shell.execute_reply": "2021-10-19T02:02:54.406544Z"
    },
    "papermill": {
     "duration": 0.050416,
     "end_time": "2021-10-19T02:02:54.407359",
     "exception": false,
     "start_time": "2021-10-19T02:02:54.356943",
     "status": "completed"
    },
    "tags": []
   },
   "outputs": [],
   "source": [
    "#hide\n",
    "#df_all_mrk = read_api()"
   ]
  },
  {
   "cell_type": "code",
   "execution_count": 9,
   "id": "delayed-adapter",
   "metadata": {
    "execution": {
     "iopub.execute_input": "2021-10-19T02:02:54.447570Z",
     "iopub.status.busy": "2021-10-19T02:02:54.446894Z",
     "iopub.status.idle": "2021-10-19T02:02:54.476496Z",
     "shell.execute_reply": "2021-10-19T02:02:54.475876Z"
    },
    "papermill": {
     "duration": 0.053067,
     "end_time": "2021-10-19T02:02:54.476649",
     "exception": false,
     "start_time": "2021-10-19T02:02:54.423582",
     "status": "completed"
    },
    "tags": []
   },
   "outputs": [],
   "source": [
    "#hide\n",
    "#Koreliacijų koeficientai"
   ]
  },
  {
   "cell_type": "code",
   "execution_count": 10,
   "id": "seeing-celebration",
   "metadata": {
    "execution": {
     "iopub.execute_input": "2021-10-19T02:02:54.512385Z",
     "iopub.status.busy": "2021-10-19T02:02:54.511777Z",
     "iopub.status.idle": "2021-10-19T02:02:54.542557Z",
     "shell.execute_reply": "2021-10-19T02:02:54.542022Z"
    },
    "papermill": {
     "duration": 0.049687,
     "end_time": "2021-10-19T02:02:54.542700",
     "exception": false,
     "start_time": "2021-10-19T02:02:54.493013",
     "status": "completed"
    },
    "tags": []
   },
   "outputs": [],
   "source": [
    "#hide_input\n",
    "#sum_corr = df_all_mrk.corr().sum().sort_values(ascending=True).index.values\n",
    "#df_all_mrk[sum_corr].corr()"
   ]
  },
  {
   "cell_type": "code",
   "execution_count": 11,
   "id": "other-painting",
   "metadata": {
    "execution": {
     "iopub.execute_input": "2021-10-19T02:02:54.577085Z",
     "iopub.status.busy": "2021-10-19T02:02:54.576524Z",
     "iopub.status.idle": "2021-10-19T02:02:54.607148Z",
     "shell.execute_reply": "2021-10-19T02:02:54.606527Z"
    },
    "papermill": {
     "duration": 0.048971,
     "end_time": "2021-10-19T02:02:54.607358",
     "exception": false,
     "start_time": "2021-10-19T02:02:54.558387",
     "status": "completed"
    },
    "tags": []
   },
   "outputs": [],
   "source": [
    "#hide\n",
    "#Koreliacijos matrica. "
   ]
  },
  {
   "cell_type": "code",
   "execution_count": 12,
   "id": "modular-magnitude",
   "metadata": {
    "execution": {
     "iopub.execute_input": "2021-10-19T02:02:54.643620Z",
     "iopub.status.busy": "2021-10-19T02:02:54.643039Z",
     "iopub.status.idle": "2021-10-19T02:02:54.676929Z",
     "shell.execute_reply": "2021-10-19T02:02:54.676309Z"
    },
    "papermill": {
     "duration": 0.053466,
     "end_time": "2021-10-19T02:02:54.677091",
     "exception": false,
     "start_time": "2021-10-19T02:02:54.623625",
     "status": "completed"
    },
    "tags": []
   },
   "outputs": [],
   "source": [
    "#hide_input\n",
    "#plt.figure(figsize=(15, 8))\n",
    "#sns.heatmap(df_all_mrk[sum_corr].corr(), annot=True, cmap=\"BrBG\");\n",
    "#plt.savefig('corr_matrix_all.eps', format='eps')"
   ]
  },
  {
   "cell_type": "code",
   "execution_count": null,
   "id": "original-senator",
   "metadata": {
    "papermill": {
     "duration": 0.015383,
     "end_time": "2021-10-19T02:02:54.709635",
     "exception": false,
     "start_time": "2021-10-19T02:02:54.694252",
     "status": "completed"
    },
    "tags": []
   },
   "outputs": [],
   "source": []
  },
  {
   "cell_type": "code",
   "execution_count": null,
   "id": "saving-secretariat",
   "metadata": {
    "papermill": {
     "duration": 0.0155,
     "end_time": "2021-10-19T02:02:54.740559",
     "exception": false,
     "start_time": "2021-10-19T02:02:54.725059",
     "status": "completed"
    },
    "tags": []
   },
   "outputs": [],
   "source": []
  }
 ],
 "metadata": {
  "kernelspec": {
   "display_name": "Python 3",
   "language": "python",
   "name": "python3"
  },
  "language_info": {
   "codemirror_mode": {
    "name": "ipython",
    "version": 3
   },
   "file_extension": ".py",
   "mimetype": "text/x-python",
   "name": "python",
   "nbconvert_exporter": "python",
   "pygments_lexer": "ipython3",
   "version": "3.6.15"
  },
  "papermill": {
   "default_parameters": {},
   "duration": 21.040472,
   "end_time": "2021-10-19T02:02:55.366811",
   "environment_variables": {},
   "exception": null,
   "input_path": "App-Correlation_charts.ipynb",
   "output_path": "App-Correlation_charts.ipynb",
   "parameters": {},
   "start_time": "2021-10-19T02:02:34.326339",
   "version": "2.2.2"
  }
 },
 "nbformat": 4,
 "nbformat_minor": 5
}