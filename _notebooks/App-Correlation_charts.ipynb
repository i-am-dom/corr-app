{
 "cells": [
  {
   "cell_type": "markdown",
   "id": "touched-facility",
   "metadata": {
    "papermill": {
     "duration": 0.020675,
     "end_time": "2022-04-22T03:14:38.685810",
     "exception": false,
     "start_time": "2022-04-22T03:14:38.665135",
     "status": "completed"
    },
    "tags": []
   },
   "source": [
    "# Koreliacijų matrica\n",
    "> Išplėstinė koreliacijų matrica. \n",
    "\n",
    "- toc: true \n",
    "- badges: true\n",
    "- comments: false\n",
    "- categories: [Dominykas Tautkus]\n",
    "- image: images/matrix.png"
   ]
  },
  {
   "cell_type": "code",
   "execution_count": null,
   "id": "premium-weekend",
   "metadata": {
    "papermill": {
     "duration": 0.012318,
     "end_time": "2022-04-22T03:14:38.713147",
     "exception": false,
     "start_time": "2022-04-22T03:14:38.700829",
     "status": "completed"
    },
    "tags": []
   },
   "outputs": [],
   "source": []
  },
  {
   "cell_type": "code",
   "execution_count": 1,
   "id": "vertical-rebate",
   "metadata": {
    "execution": {
     "iopub.execute_input": "2022-04-22T03:14:38.748512Z",
     "iopub.status.busy": "2022-04-22T03:14:38.747863Z",
     "iopub.status.idle": "2022-04-22T03:14:38.760449Z",
     "shell.execute_reply": "2022-04-22T03:14:38.761019Z"
    },
    "papermill": {
     "duration": 0.036178,
     "end_time": "2022-04-22T03:14:38.761188",
     "exception": false,
     "start_time": "2022-04-22T03:14:38.725010",
     "status": "completed"
    },
    "tags": []
   },
   "outputs": [],
   "source": [
    "#hide\n",
    "%load_ext autoreload\n",
    "%autoreload 2"
   ]
  },
  {
   "cell_type": "code",
   "execution_count": 2,
   "id": "overall-advancement",
   "metadata": {
    "execution": {
     "iopub.execute_input": "2022-04-22T03:14:38.791753Z",
     "iopub.status.busy": "2022-04-22T03:14:38.791128Z",
     "iopub.status.idle": "2022-04-22T03:14:40.176843Z",
     "shell.execute_reply": "2022-04-22T03:14:40.177570Z"
    },
    "papermill": {
     "duration": 1.404398,
     "end_time": "2022-04-22T03:14:40.177737",
     "exception": false,
     "start_time": "2022-04-22T03:14:38.773339",
     "status": "completed"
    },
    "tags": []
   },
   "outputs": [],
   "source": [
    "#hide\n",
    "from scripts.read_data import read_api\n",
    "from IPython.display import HTML\n",
    "import plotly.graph_objects as go\n"
   ]
  },
  {
   "cell_type": "code",
   "execution_count": 3,
   "id": "light-crazy",
   "metadata": {
    "execution": {
     "iopub.execute_input": "2022-04-22T03:14:40.204754Z",
     "iopub.status.busy": "2022-04-22T03:14:40.204169Z",
     "iopub.status.idle": "2022-04-22T03:14:40.228047Z",
     "shell.execute_reply": "2022-04-22T03:14:40.227597Z"
    },
    "papermill": {
     "duration": 0.038975,
     "end_time": "2022-04-22T03:14:40.228160",
     "exception": false,
     "start_time": "2022-04-22T03:14:40.189185",
     "status": "completed"
    },
    "tags": []
   },
   "outputs": [],
   "source": [
    "#hide\n",
    "### ICO koreliacija"
   ]
  },
  {
   "cell_type": "code",
   "execution_count": 4,
   "id": "likely-bahrain",
   "metadata": {
    "execution": {
     "iopub.execute_input": "2022-04-22T03:14:40.254692Z",
     "iopub.status.busy": "2022-04-22T03:14:40.254109Z",
     "iopub.status.idle": "2022-04-22T03:14:41.202804Z",
     "shell.execute_reply": "2022-04-22T03:14:41.202259Z"
    },
    "papermill": {
     "duration": 0.963862,
     "end_time": "2022-04-22T03:14:41.202961",
     "exception": false,
     "start_time": "2022-04-22T03:14:40.239099",
     "status": "completed"
    },
    "tags": []
   },
   "outputs": [],
   "source": [
    "#hide\n",
    "import matplotlib.pyplot as plt\n",
    "import numpy as np\n",
    "import pandas as pd\n",
    "import seaborn as sns\n",
    "import matplotlib.pyplot as plt \n",
    "import matplotlib.dates as mdates\n",
    "import matplotlib.pyplot as plt"
   ]
  },
  {
   "cell_type": "code",
   "execution_count": 5,
   "id": "superior-blanket",
   "metadata": {
    "execution": {
     "iopub.execute_input": "2022-04-22T03:14:41.230824Z",
     "iopub.status.busy": "2022-04-22T03:14:41.230301Z",
     "iopub.status.idle": "2022-04-22T03:14:54.160901Z",
     "shell.execute_reply": "2022-04-22T03:14:54.159645Z"
    },
    "papermill": {
     "duration": 12.945946,
     "end_time": "2022-04-22T03:14:54.161048",
     "exception": false,
     "start_time": "2022-04-22T03:14:41.215102",
     "status": "completed"
    },
    "tags": []
   },
   "outputs": [
    {
     "name": "stderr",
     "output_type": "stream",
     "text": [
      "/home/runner/work/corr-app/corr-app/_notebooks/scripts/read_data.py:187: SettingWithCopyWarning:\n",
      "\n",
      "\n",
      "A value is trying to be set on a copy of a slice from a DataFrame.\n",
      "Try using .loc[row_indexer,col_indexer] = value instead\n",
      "\n",
      "See the caveats in the documentation: https://pandas.pydata.org/pandas-docs/stable/user_guide/indexing.html#returning-a-view-versus-a-copy\n",
      "\n"
     ]
    },
    {
     "name": "stderr",
     "output_type": "stream",
     "text": [
      "/home/runner/work/corr-app/corr-app/_notebooks/scripts/read_data.py:215: SettingWithCopyWarning:\n",
      "\n",
      "\n",
      "A value is trying to be set on a copy of a slice from a DataFrame.\n",
      "Try using .loc[row_indexer,col_indexer] = value instead\n",
      "\n",
      "See the caveats in the documentation: https://pandas.pydata.org/pandas-docs/stable/user_guide/indexing.html#returning-a-view-versus-a-copy\n",
      "\n"
     ]
    }
   ],
   "source": [
    "#hide\n",
    "df_all = read_api()\n",
    "#df_all = df_all.drop(['SP500', 'XAU', 'ETH', 'BTC'], axis=1)\n",
    "\n"
   ]
  },
  {
   "cell_type": "code",
   "execution_count": 6,
   "id": "mature-alert",
   "metadata": {
    "execution": {
     "iopub.execute_input": "2022-04-22T03:14:54.197382Z",
     "iopub.status.busy": "2022-04-22T03:14:54.189516Z",
     "iopub.status.idle": "2022-04-22T03:14:54.222782Z",
     "shell.execute_reply": "2022-04-22T03:14:54.222076Z"
    },
    "papermill": {
     "duration": 0.049185,
     "end_time": "2022-04-22T03:14:54.222943",
     "exception": false,
     "start_time": "2022-04-22T03:14:54.173758",
     "status": "completed"
    },
    "tags": []
   },
   "outputs": [],
   "source": [
    "#hide_input\n",
    "sum_corr = df_all.corr().sum().sort_values(ascending=True).index.values\n",
    "#df_all[sum_corr].corr()"
   ]
  },
  {
   "cell_type": "markdown",
   "id": "complex-syndicate",
   "metadata": {
    "papermill": {
     "duration": 0.012141,
     "end_time": "2022-04-22T03:14:54.248543",
     "exception": false,
     "start_time": "2022-04-22T03:14:54.236402",
     "status": "completed"
    },
    "tags": []
   },
   "source": [
    "## Išplėstinė koreliacijų matrica. "
   ]
  },
  {
   "cell_type": "code",
   "execution_count": 7,
   "id": "atomic-omaha",
   "metadata": {
    "execution": {
     "iopub.execute_input": "2022-04-22T03:14:54.278935Z",
     "iopub.status.busy": "2022-04-22T03:14:54.278342Z",
     "iopub.status.idle": "2022-04-22T03:14:55.591932Z",
     "shell.execute_reply": "2022-04-22T03:14:55.591419Z"
    },
    "papermill": {
     "duration": 1.331313,
     "end_time": "2022-04-22T03:14:55.592062",
     "exception": false,
     "start_time": "2022-04-22T03:14:54.260749",
     "status": "completed"
    },
    "tags": []
   },
   "outputs": [
    {
     "data": {
      "image/png": "[encoded data removed]",
      "text/plain": [
       "<Figure size 1080x792 with 2 Axes>"
      ]
     },
     "metadata": {
      "needs_background": "light"
     },
     "output_type": "display_data"
    }
   ],
   "source": [
    "#hide_input\n",
    "plt.figure(figsize=(15, 11))\n",
    "sns.heatmap(df_all[sum_corr].corr(), annot=True, cmap=\"cubehelix\") \n",
    "sns.set(font_scale=1.25)\n",
    "plt.savefig('corr_matrix.png', format='eps')"
   ]
  },
  {
   "cell_type": "code",
   "execution_count": 8,
   "id": "arbitrary-sullivan",
   "metadata": {
    "execution": {
     "iopub.execute_input": "2022-04-22T03:14:55.624279Z",
     "iopub.status.busy": "2022-04-22T03:14:55.623354Z",
     "iopub.status.idle": "2022-04-22T03:14:55.651541Z",
     "shell.execute_reply": "2022-04-22T03:14:55.651122Z"
    },
    "papermill": {
     "duration": 0.045677,
     "end_time": "2022-04-22T03:14:55.651651",
     "exception": false,
     "start_time": "2022-04-22T03:14:55.605974",
     "status": "completed"
    },
    "tags": []
   },
   "outputs": [],
   "source": [
    "#hide\n",
    "#df_all_mrk = read_api()"
   ]
  },
  {
   "cell_type": "code",
   "execution_count": 9,
   "id": "delayed-adapter",
   "metadata": {
    "execution": {
     "iopub.execute_input": "2022-04-22T03:14:55.685812Z",
     "iopub.status.busy": "2022-04-22T03:14:55.685207Z",
     "iopub.status.idle": "2022-04-22T03:14:55.713637Z",
     "shell.execute_reply": "2022-04-22T03:14:55.714263Z"
    },
    "papermill": {
     "duration": 0.048962,
     "end_time": "2022-04-22T03:14:55.714443",
     "exception": false,
     "start_time": "2022-04-22T03:14:55.665481",
     "status": "completed"
    },
    "tags": []
   },
   "outputs": [],
   "source": [
    "#hide\n",
    "#Koreliacijų koeficientai"
   ]
  },
  {
   "cell_type": "code",
   "execution_count": 10,
   "id": "seeing-celebration",
   "metadata": {
    "execution": {
     "iopub.execute_input": "2022-04-22T03:14:55.750384Z",
     "iopub.status.busy": "2022-04-22T03:14:55.749783Z",
     "iopub.status.idle": "2022-04-22T03:14:55.778926Z",
     "shell.execute_reply": "2022-04-22T03:14:55.778217Z"
    },
    "papermill": {
     "duration": 0.04639,
     "end_time": "2022-04-22T03:14:55.779086",
     "exception": false,
     "start_time": "2022-04-22T03:14:55.732696",
     "status": "completed"
    },
    "tags": []
   },
   "outputs": [],
   "source": [
    "#hide_input\n",
    "#sum_corr = df_all_mrk.corr().sum().sort_values(ascending=True).index.values\n",
    "#df_all_mrk[sum_corr].corr()"
   ]
  },
  {
   "cell_type": "code",
   "execution_count": 11,
   "id": "other-painting",
   "metadata": {
    "execution": {
     "iopub.execute_input": "2022-04-22T03:14:55.816288Z",
     "iopub.status.busy": "2022-04-22T03:14:55.815701Z",
     "iopub.status.idle": "2022-04-22T03:14:55.847148Z",
     "shell.execute_reply": "2022-04-22T03:14:55.846272Z"
    },
    "papermill": {
     "duration": 0.049417,
     "end_time": "2022-04-22T03:14:55.847343",
     "exception": false,
     "start_time": "2022-04-22T03:14:55.797926",
     "status": "completed"
    },
    "tags": []
   },
   "outputs": [],
   "source": [
    "#hide\n",
    "#Koreliacijos matrica. "
   ]
  },
  {
   "cell_type": "code",
   "execution_count": 12,
   "id": "modular-magnitude",
   "metadata": {
    "execution": {
     "iopub.execute_input": "2022-04-22T03:14:55.880591Z",
     "iopub.status.busy": "2022-04-22T03:14:55.879931Z",
     "iopub.status.idle": "2022-04-22T03:14:55.907281Z",
     "shell.execute_reply": "2022-04-22T03:14:55.906763Z"
    },
    "papermill": {
     "duration": 0.043937,
     "end_time": "2022-04-22T03:14:55.907407",
     "exception": false,
     "start_time": "2022-04-22T03:14:55.863470",
     "status": "completed"
    },
    "tags": []
   },
   "outputs": [],
   "source": [
    "#hide_input\n",
    "#plt.figure(figsize=(15, 8))\n",
    "#sns.heatmap(df_all_mrk[sum_corr].corr(), annot=True, cmap=\"BrBG\");\n",
    "#plt.savefig('corr_matrix_all.eps', format='eps')"
   ]
  },
  {
   "cell_type": "code",
   "execution_count": null,
   "id": "original-senator",
   "metadata": {
    "papermill": {
     "duration": 0.01402,
     "end_time": "2022-04-22T03:14:55.936303",
     "exception": false,
     "start_time": "2022-04-22T03:14:55.922283",
     "status": "completed"
    },
    "tags": []
   },
   "outputs": [],
   "source": []
  },
  {
   "cell_type": "code",
   "execution_count": null,
   "id": "saving-secretariat",
   "metadata": {
    "papermill": {
     "duration": 0.01344,
     "end_time": "2022-04-22T03:14:55.964250",
     "exception": false,
     "start_time": "2022-04-22T03:14:55.950810",
     "status": "completed"
    },
    "tags": []
   },
   "outputs": [],
   "source": []
  }
 ],
 "metadata": {
  "kernelspec": {
   "display_name": "Python 3",
   "language": "python",
   "name": "python3"
  },
  "language_info": {
   "codemirror_mode": {
    "name": "ipython",
    "version": 3
   },
   "file_extension": ".py",
   "mimetype": "text/x-python",
   "name": "python",
   "nbconvert_exporter": "python",
   "pygments_lexer": "ipython3",
   "version": "3.6.15"
  },
  "papermill": {
   "default_parameters": {},
   "duration": 19.129971,
   "end_time": "2022-04-22T03:14:56.497556",
   "environment_variables": {},
   "exception": null,
   "input_path": "App-Correlation_charts.ipynb",
   "output_path": "App-Correlation_charts.ipynb",
   "parameters": {},
   "start_time": "2022-04-22T03:14:37.367585",
   "version": "2.2.2"
  }
 },
 "nbformat": 4,
 "nbformat_minor": 5
}