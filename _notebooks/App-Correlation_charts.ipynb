{
 "cells": [
  {
   "cell_type": "markdown",
   "id": "touched-facility",
   "metadata": {
    "papermill": {
     "duration": 0.01539,
     "end_time": "2022-03-04T02:18:59.217834",
     "exception": false,
     "start_time": "2022-03-04T02:18:59.202444",
     "status": "completed"
    },
    "tags": []
   },
   "source": [
    "# Koreliacijų matrica\n",
    "> Išplėstinė koreliacijų matrica. \n",
    "\n",
    "- toc: true \n",
    "- badges: true\n",
    "- comments: false\n",
    "- categories: [Dominykas Tautkus]\n",
    "- image: images/matrix.png"
   ]
  },
  {
   "cell_type": "code",
   "execution_count": null,
   "id": "premium-weekend",
   "metadata": {
    "papermill": {
     "duration": 0.012197,
     "end_time": "2022-03-04T02:18:59.241604",
     "exception": false,
     "start_time": "2022-03-04T02:18:59.229407",
     "status": "completed"
    },
    "tags": []
   },
   "outputs": [],
   "source": []
  },
  {
   "cell_type": "code",
   "execution_count": 1,
   "id": "vertical-rebate",
   "metadata": {
    "execution": {
     "iopub.execute_input": "2022-03-04T02:18:59.273840Z",
     "iopub.status.busy": "2022-03-04T02:18:59.273295Z",
     "iopub.status.idle": "2022-03-04T02:18:59.283676Z",
     "shell.execute_reply": "2022-03-04T02:18:59.284103Z"
    },
    "papermill": {
     "duration": 0.031973,
     "end_time": "2022-03-04T02:18:59.284263",
     "exception": false,
     "start_time": "2022-03-04T02:18:59.252290",
     "status": "completed"
    },
    "tags": []
   },
   "outputs": [],
   "source": [
    "#hide\n",
    "%load_ext autoreload\n",
    "%autoreload 2"
   ]
  },
  {
   "cell_type": "code",
   "execution_count": 2,
   "id": "overall-advancement",
   "metadata": {
    "execution": {
     "iopub.execute_input": "2022-03-04T02:18:59.313009Z",
     "iopub.status.busy": "2022-03-04T02:18:59.312462Z",
     "iopub.status.idle": "2022-03-04T02:19:01.403266Z",
     "shell.execute_reply": "2022-03-04T02:19:01.402792Z"
    },
    "papermill": {
     "duration": 2.108336,
     "end_time": "2022-03-04T02:19:01.403396",
     "exception": false,
     "start_time": "2022-03-04T02:18:59.295060",
     "status": "completed"
    },
    "tags": []
   },
   "outputs": [],
   "source": [
    "#hide\n",
    "from scripts.read_data import read_api\n",
    "from IPython.display import HTML\n",
    "import plotly.graph_objects as go\n"
   ]
  },
  {
   "cell_type": "code",
   "execution_count": 3,
   "id": "light-crazy",
   "metadata": {
    "execution": {
     "iopub.execute_input": "2022-03-04T02:19:01.473364Z",
     "iopub.status.busy": "2022-03-04T02:19:01.472823Z",
     "iopub.status.idle": "2022-03-04T02:19:01.494781Z",
     "shell.execute_reply": "2022-03-04T02:19:01.493712Z"
    },
    "papermill": {
     "duration": 0.043592,
     "end_time": "2022-03-04T02:19:01.494919",
     "exception": false,
     "start_time": "2022-03-04T02:19:01.451327",
     "status": "completed"
    },
    "tags": []
   },
   "outputs": [],
   "source": [
    "#hide\n",
    "### ICO koreliacija"
   ]
  },
  {
   "cell_type": "code",
   "execution_count": 4,
   "id": "likely-bahrain",
   "metadata": {
    "execution": {
     "iopub.execute_input": "2022-03-04T02:19:01.559671Z",
     "iopub.status.busy": "2022-03-04T02:19:01.559122Z",
     "iopub.status.idle": "2022-03-04T02:19:02.452541Z",
     "shell.execute_reply": "2022-03-04T02:19:02.452963Z"
    },
    "papermill": {
     "duration": 0.946574,
     "end_time": "2022-03-04T02:19:02.453121",
     "exception": false,
     "start_time": "2022-03-04T02:19:01.506547",
     "status": "completed"
    },
    "tags": []
   },
   "outputs": [],
   "source": [
    "#hide\n",
    "import matplotlib.pyplot as plt\n",
    "import numpy as np\n",
    "import pandas as pd\n",
    "import seaborn as sns\n",
    "import matplotlib.pyplot as plt \n",
    "import matplotlib.dates as mdates\n",
    "import matplotlib.pyplot as plt"
   ]
  },
  {
   "cell_type": "code",
   "execution_count": 5,
   "id": "superior-blanket",
   "metadata": {
    "execution": {
     "iopub.execute_input": "2022-03-04T02:19:02.481463Z",
     "iopub.status.busy": "2022-03-04T02:19:02.480937Z",
     "iopub.status.idle": "2022-03-04T02:19:13.512406Z",
     "shell.execute_reply": "2022-03-04T02:19:13.511874Z"
    },
    "papermill": {
     "duration": 11.048361,
     "end_time": "2022-03-04T02:19:13.512547",
     "exception": false,
     "start_time": "2022-03-04T02:19:02.464186",
     "status": "completed"
    },
    "tags": []
   },
   "outputs": [
    {
     "name": "stderr",
     "output_type": "stream",
     "text": [
      "/home/runner/work/corr-app/corr-app/_notebooks/scripts/read_data.py:187: SettingWithCopyWarning:\n",
      "\n",
      "\n",
      "A value is trying to be set on a copy of a slice from a DataFrame.\n",
      "Try using .loc[row_indexer,col_indexer] = value instead\n",
      "\n",
      "See the caveats in the documentation: https://pandas.pydata.org/pandas-docs/stable/user_guide/indexing.html#returning-a-view-versus-a-copy\n",
      "\n"
     ]
    },
    {
     "name": "stderr",
     "output_type": "stream",
     "text": [
      "/home/runner/work/corr-app/corr-app/_notebooks/scripts/read_data.py:215: SettingWithCopyWarning:\n",
      "\n",
      "\n",
      "A value is trying to be set on a copy of a slice from a DataFrame.\n",
      "Try using .loc[row_indexer,col_indexer] = value instead\n",
      "\n",
      "See the caveats in the documentation: https://pandas.pydata.org/pandas-docs/stable/user_guide/indexing.html#returning-a-view-versus-a-copy\n",
      "\n"
     ]
    }
   ],
   "source": [
    "#hide\n",
    "df_all = read_api()\n",
    "#df_all = df_all.drop(['SP500', 'XAU', 'ETH', 'BTC'], axis=1)\n",
    "\n"
   ]
  },
  {
   "cell_type": "code",
   "execution_count": 6,
   "id": "mature-alert",
   "metadata": {
    "execution": {
     "iopub.execute_input": "2022-03-04T02:19:13.543189Z",
     "iopub.status.busy": "2022-03-04T02:19:13.542673Z",
     "iopub.status.idle": "2022-03-04T02:19:13.571801Z",
     "shell.execute_reply": "2022-03-04T02:19:13.571292Z"
    },
    "papermill": {
     "duration": 0.047165,
     "end_time": "2022-03-04T02:19:13.571967",
     "exception": false,
     "start_time": "2022-03-04T02:19:13.524802",
     "status": "completed"
    },
    "tags": []
   },
   "outputs": [],
   "source": [
    "#hide_input\n",
    "sum_corr = df_all.corr().sum().sort_values(ascending=True).index.values\n",
    "#df_all[sum_corr].corr()"
   ]
  },
  {
   "cell_type": "markdown",
   "id": "complex-syndicate",
   "metadata": {
    "papermill": {
     "duration": 0.011357,
     "end_time": "2022-03-04T02:19:13.595525",
     "exception": false,
     "start_time": "2022-03-04T02:19:13.584168",
     "status": "completed"
    },
    "tags": []
   },
   "source": [
    "## Išplėstinė koreliacijų matrica. "
   ]
  },
  {
   "cell_type": "code",
   "execution_count": 7,
   "id": "atomic-omaha",
   "metadata": {
    "execution": {
     "iopub.execute_input": "2022-03-04T02:19:13.636282Z",
     "iopub.status.busy": "2022-03-04T02:19:13.631061Z",
     "iopub.status.idle": "2022-03-04T02:19:14.885273Z",
     "shell.execute_reply": "2022-03-04T02:19:14.885746Z"
    },
    "papermill": {
     "duration": 1.279071,
     "end_time": "2022-03-04T02:19:14.885898",
     "exception": false,
     "start_time": "2022-03-04T02:19:13.606827",
     "status": "completed"
    },
    "tags": []
   },
   "outputs": [
    {
     "data": {
      "image/png": "[encoded data removed]",
      "text/plain": [
       "<Figure size 1080x792 with 2 Axes>"
      ]
     },
     "metadata": {
      "needs_background": "light"
     },
     "output_type": "display_data"
    }
   ],
   "source": [
    "#hide_input\n",
    "plt.figure(figsize=(15, 11))\n",
    "sns.heatmap(df_all[sum_corr].corr(), annot=True, cmap=\"cubehelix\") \n",
    "sns.set(font_scale=1.25)\n",
    "plt.savefig('corr_matrix.png', format='eps')"
   ]
  },
  {
   "cell_type": "code",
   "execution_count": 8,
   "id": "arbitrary-sullivan",
   "metadata": {
    "execution": {
     "iopub.execute_input": "2022-03-04T02:19:14.919873Z",
     "iopub.status.busy": "2022-03-04T02:19:14.919331Z",
     "iopub.status.idle": "2022-03-04T02:19:14.944201Z",
     "shell.execute_reply": "2022-03-04T02:19:14.943671Z"
    },
    "papermill": {
     "duration": 0.044738,
     "end_time": "2022-03-04T02:19:14.944337",
     "exception": false,
     "start_time": "2022-03-04T02:19:14.899599",
     "status": "completed"
    },
    "tags": []
   },
   "outputs": [],
   "source": [
    "#hide\n",
    "#df_all_mrk = read_api()"
   ]
  },
  {
   "cell_type": "code",
   "execution_count": 9,
   "id": "delayed-adapter",
   "metadata": {
    "execution": {
     "iopub.execute_input": "2022-03-04T02:19:14.977083Z",
     "iopub.status.busy": "2022-03-04T02:19:14.976562Z",
     "iopub.status.idle": "2022-03-04T02:19:15.001225Z",
     "shell.execute_reply": "2022-03-04T02:19:15.000749Z"
    },
    "papermill": {
     "duration": 0.043341,
     "end_time": "2022-03-04T02:19:15.001360",
     "exception": false,
     "start_time": "2022-03-04T02:19:14.958019",
     "status": "completed"
    },
    "tags": []
   },
   "outputs": [],
   "source": [
    "#hide\n",
    "#Koreliacijų koeficientai"
   ]
  },
  {
   "cell_type": "code",
   "execution_count": 10,
   "id": "seeing-celebration",
   "metadata": {
    "execution": {
     "iopub.execute_input": "2022-03-04T02:19:15.036498Z",
     "iopub.status.busy": "2022-03-04T02:19:15.035895Z",
     "iopub.status.idle": "2022-03-04T02:19:15.060437Z",
     "shell.execute_reply": "2022-03-04T02:19:15.059955Z"
    },
    "papermill": {
     "duration": 0.043727,
     "end_time": "2022-03-04T02:19:15.060570",
     "exception": false,
     "start_time": "2022-03-04T02:19:15.016843",
     "status": "completed"
    },
    "tags": []
   },
   "outputs": [],
   "source": [
    "#hide_input\n",
    "#sum_corr = df_all_mrk.corr().sum().sort_values(ascending=True).index.values\n",
    "#df_all_mrk[sum_corr].corr()"
   ]
  },
  {
   "cell_type": "code",
   "execution_count": 11,
   "id": "other-painting",
   "metadata": {
    "execution": {
     "iopub.execute_input": "2022-03-04T02:19:15.097349Z",
     "iopub.status.busy": "2022-03-04T02:19:15.096811Z",
     "iopub.status.idle": "2022-03-04T02:19:15.120366Z",
     "shell.execute_reply": "2022-03-04T02:19:15.120796Z"
    },
    "papermill": {
     "duration": 0.045831,
     "end_time": "2022-03-04T02:19:15.120952",
     "exception": false,
     "start_time": "2022-03-04T02:19:15.075121",
     "status": "completed"
    },
    "tags": []
   },
   "outputs": [],
   "source": [
    "#hide\n",
    "#Koreliacijos matrica. "
   ]
  },
  {
   "cell_type": "code",
   "execution_count": 12,
   "id": "modular-magnitude",
   "metadata": {
    "execution": {
     "iopub.execute_input": "2022-03-04T02:19:15.154849Z",
     "iopub.status.busy": "2022-03-04T02:19:15.154308Z",
     "iopub.status.idle": "2022-03-04T02:19:15.180706Z",
     "shell.execute_reply": "2022-03-04T02:19:15.180222Z"
    },
    "papermill": {
     "duration": 0.045999,
     "end_time": "2022-03-04T02:19:15.180829",
     "exception": false,
     "start_time": "2022-03-04T02:19:15.134830",
     "status": "completed"
    },
    "tags": []
   },
   "outputs": [],
   "source": [
    "#hide_input\n",
    "#plt.figure(figsize=(15, 8))\n",
    "#sns.heatmap(df_all_mrk[sum_corr].corr(), annot=True, cmap=\"BrBG\");\n",
    "#plt.savefig('corr_matrix_all.eps', format='eps')"
   ]
  },
  {
   "cell_type": "code",
   "execution_count": null,
   "id": "original-senator",
   "metadata": {
    "papermill": {
     "duration": 0.013432,
     "end_time": "2022-03-04T02:19:15.207869",
     "exception": false,
     "start_time": "2022-03-04T02:19:15.194437",
     "status": "completed"
    },
    "tags": []
   },
   "outputs": [],
   "source": []
  },
  {
   "cell_type": "code",
   "execution_count": null,
   "id": "saving-secretariat",
   "metadata": {
    "papermill": {
     "duration": 0.013256,
     "end_time": "2022-03-04T02:19:15.234479",
     "exception": false,
     "start_time": "2022-03-04T02:19:15.221223",
     "status": "completed"
    },
    "tags": []
   },
   "outputs": [],
   "source": []
  }
 ],
 "metadata": {
  "kernelspec": {
   "display_name": "Python 3",
   "language": "python",
   "name": "python3"
  },
  "language_info": {
   "codemirror_mode": {
    "name": "ipython",
    "version": 3
   },
   "file_extension": ".py",
   "mimetype": "text/x-python",
   "name": "python",
   "nbconvert_exporter": "python",
   "pygments_lexer": "ipython3",
   "version": "3.6.15"
  },
  "papermill": {
   "default_parameters": {},
   "duration": 17.620316,
   "end_time": "2022-03-04T02:19:15.868120",
   "environment_variables": {},
   "exception": null,
   "input_path": "App-Correlation_charts.ipynb",
   "output_path": "App-Correlation_charts.ipynb",
   "parameters": {},
   "start_time": "2022-03-04T02:18:58.247804",
   "version": "2.2.2"
  }
 },
 "nbformat": 4,
 "nbformat_minor": 5
}