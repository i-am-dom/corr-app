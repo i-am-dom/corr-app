{
 "cells": [
  {
   "cell_type": "markdown",
   "id": "touched-facility",
   "metadata": {
    "papermill": {
     "duration": 0.01483,
     "end_time": "2022-05-02T03:25:46.746143",
     "exception": false,
     "start_time": "2022-05-02T03:25:46.731313",
     "status": "completed"
    },
    "tags": []
   },
   "source": [
    "# Koreliacijų matrica\n",
    "> Išplėstinė koreliacijų matrica. \n",
    "\n",
    "- toc: true \n",
    "- badges: true\n",
    "- comments: false\n",
    "- categories: [Dominykas Tautkus]\n",
    "- image: images/matrix.png"
   ]
  },
  {
   "cell_type": "code",
   "execution_count": null,
   "id": "premium-weekend",
   "metadata": {
    "papermill": {
     "duration": 0.011179,
     "end_time": "2022-05-02T03:25:46.773281",
     "exception": false,
     "start_time": "2022-05-02T03:25:46.762102",
     "status": "completed"
    },
    "tags": []
   },
   "outputs": [],
   "source": []
  },
  {
   "cell_type": "code",
   "execution_count": 1,
   "id": "vertical-rebate",
   "metadata": {
    "execution": {
     "iopub.execute_input": "2022-05-02T03:25:46.806422Z",
     "iopub.status.busy": "2022-05-02T03:25:46.805850Z",
     "iopub.status.idle": "2022-05-02T03:25:46.816475Z",
     "shell.execute_reply": "2022-05-02T03:25:46.816883Z"
    },
    "papermill": {
     "duration": 0.032911,
     "end_time": "2022-05-02T03:25:46.817050",
     "exception": false,
     "start_time": "2022-05-02T03:25:46.784139",
     "status": "completed"
    },
    "tags": []
   },
   "outputs": [],
   "source": [
    "#hide\n",
    "%load_ext autoreload\n",
    "%autoreload 2"
   ]
  },
  {
   "cell_type": "code",
   "execution_count": 2,
   "id": "overall-advancement",
   "metadata": {
    "execution": {
     "iopub.execute_input": "2022-05-02T03:25:46.845059Z",
     "iopub.status.busy": "2022-05-02T03:25:46.844528Z",
     "iopub.status.idle": "2022-05-02T03:25:48.116224Z",
     "shell.execute_reply": "2022-05-02T03:25:48.115672Z"
    },
    "papermill": {
     "duration": 1.288349,
     "end_time": "2022-05-02T03:25:48.116371",
     "exception": false,
     "start_time": "2022-05-02T03:25:46.828022",
     "status": "completed"
    },
    "tags": []
   },
   "outputs": [],
   "source": [
    "#hide\n",
    "from scripts.read_data import read_api\n",
    "from IPython.display import HTML\n",
    "import plotly.graph_objects as go\n"
   ]
  },
  {
   "cell_type": "code",
   "execution_count": 3,
   "id": "light-crazy",
   "metadata": {
    "execution": {
     "iopub.execute_input": "2022-05-02T03:25:48.150882Z",
     "iopub.status.busy": "2022-05-02T03:25:48.150260Z",
     "iopub.status.idle": "2022-05-02T03:25:48.170395Z",
     "shell.execute_reply": "2022-05-02T03:25:48.170829Z"
    },
    "papermill": {
     "duration": 0.0431,
     "end_time": "2022-05-02T03:25:48.170989",
     "exception": false,
     "start_time": "2022-05-02T03:25:48.127889",
     "status": "completed"
    },
    "tags": []
   },
   "outputs": [],
   "source": [
    "#hide\n",
    "### ICO koreliacija"
   ]
  },
  {
   "cell_type": "code",
   "execution_count": 4,
   "id": "likely-bahrain",
   "metadata": {
    "execution": {
     "iopub.execute_input": "2022-05-02T03:25:48.199819Z",
     "iopub.status.busy": "2022-05-02T03:25:48.199210Z",
     "iopub.status.idle": "2022-05-02T03:25:49.083618Z",
     "shell.execute_reply": "2022-05-02T03:25:49.084082Z"
    },
    "papermill": {
     "duration": 0.902121,
     "end_time": "2022-05-02T03:25:49.084230",
     "exception": false,
     "start_time": "2022-05-02T03:25:48.182109",
     "status": "completed"
    },
    "tags": []
   },
   "outputs": [],
   "source": [
    "#hide\n",
    "import matplotlib.pyplot as plt\n",
    "import numpy as np\n",
    "import pandas as pd\n",
    "import seaborn as sns\n",
    "import matplotlib.pyplot as plt \n",
    "import matplotlib.dates as mdates\n",
    "import matplotlib.pyplot as plt"
   ]
  },
  {
   "cell_type": "code",
   "execution_count": 5,
   "id": "superior-blanket",
   "metadata": {
    "execution": {
     "iopub.execute_input": "2022-05-02T03:25:49.111026Z",
     "iopub.status.busy": "2022-05-02T03:25:49.110445Z",
     "iopub.status.idle": "2022-05-02T03:26:01.686506Z",
     "shell.execute_reply": "2022-05-02T03:26:01.686991Z"
    },
    "papermill": {
     "duration": 12.591731,
     "end_time": "2022-05-02T03:26:01.687157",
     "exception": false,
     "start_time": "2022-05-02T03:25:49.095426",
     "status": "completed"
    },
    "tags": []
   },
   "outputs": [
    {
     "name": "stderr",
     "output_type": "stream",
     "text": [
      "/home/runner/work/corr-app/corr-app/_notebooks/scripts/read_data.py:187: SettingWithCopyWarning:\n",
      "\n",
      "\n",
      "A value is trying to be set on a copy of a slice from a DataFrame.\n",
      "Try using .loc[row_indexer,col_indexer] = value instead\n",
      "\n",
      "See the caveats in the documentation: https://pandas.pydata.org/pandas-docs/stable/user_guide/indexing.html#returning-a-view-versus-a-copy\n",
      "\n"
     ]
    },
    {
     "name": "stderr",
     "output_type": "stream",
     "text": [
      "/home/runner/work/corr-app/corr-app/_notebooks/scripts/read_data.py:215: SettingWithCopyWarning:\n",
      "\n",
      "\n",
      "A value is trying to be set on a copy of a slice from a DataFrame.\n",
      "Try using .loc[row_indexer,col_indexer] = value instead\n",
      "\n",
      "See the caveats in the documentation: https://pandas.pydata.org/pandas-docs/stable/user_guide/indexing.html#returning-a-view-versus-a-copy\n",
      "\n"
     ]
    }
   ],
   "source": [
    "#hide\n",
    "df_all = read_api()\n",
    "#df_all = df_all.drop(['SP500', 'XAU', 'ETH', 'BTC'], axis=1)\n",
    "\n"
   ]
  },
  {
   "cell_type": "code",
   "execution_count": 6,
   "id": "mature-alert",
   "metadata": {
    "execution": {
     "iopub.execute_input": "2022-05-02T03:26:01.725379Z",
     "iopub.status.busy": "2022-05-02T03:26:01.724748Z",
     "iopub.status.idle": "2022-05-02T03:26:01.751907Z",
     "shell.execute_reply": "2022-05-02T03:26:01.750999Z"
    },
    "papermill": {
     "duration": 0.052176,
     "end_time": "2022-05-02T03:26:01.752053",
     "exception": false,
     "start_time": "2022-05-02T03:26:01.699877",
     "status": "completed"
    },
    "tags": []
   },
   "outputs": [],
   "source": [
    "#hide_input\n",
    "sum_corr = df_all.corr().sum().sort_values(ascending=True).index.values\n",
    "#df_all[sum_corr].corr()"
   ]
  },
  {
   "cell_type": "markdown",
   "id": "complex-syndicate",
   "metadata": {
    "papermill": {
     "duration": 0.011516,
     "end_time": "2022-05-02T03:26:01.775607",
     "exception": false,
     "start_time": "2022-05-02T03:26:01.764091",
     "status": "completed"
    },
    "tags": []
   },
   "source": [
    "## Išplėstinė koreliacijų matrica. "
   ]
  },
  {
   "cell_type": "code",
   "execution_count": 7,
   "id": "atomic-omaha",
   "metadata": {
    "execution": {
     "iopub.execute_input": "2022-05-02T03:26:01.806748Z",
     "iopub.status.busy": "2022-05-02T03:26:01.806209Z",
     "iopub.status.idle": "2022-05-02T03:26:03.000317Z",
     "shell.execute_reply": "2022-05-02T03:26:02.999857Z"
    },
    "papermill": {
     "duration": 1.213279,
     "end_time": "2022-05-02T03:26:03.000432",
     "exception": false,
     "start_time": "2022-05-02T03:26:01.787153",
     "status": "completed"
    },
    "tags": []
   },
   "outputs": [
    {
     "data": {
      "image/png": "[encoded data removed]",
      "text/plain": [
       "<Figure size 1080x792 with 2 Axes>"
      ]
     },
     "metadata": {
      "needs_background": "light"
     },
     "output_type": "display_data"
    }
   ],
   "source": [
    "#hide_input\n",
    "plt.figure(figsize=(15, 11))\n",
    "sns.heatmap(df_all[sum_corr].corr(), annot=True, cmap=\"cubehelix\") \n",
    "sns.set(font_scale=1.25)\n",
    "plt.savefig('corr_matrix.png', format='eps')"
   ]
  },
  {
   "cell_type": "code",
   "execution_count": 8,
   "id": "arbitrary-sullivan",
   "metadata": {
    "execution": {
     "iopub.execute_input": "2022-05-02T03:26:03.031835Z",
     "iopub.status.busy": "2022-05-02T03:26:03.030778Z",
     "iopub.status.idle": "2022-05-02T03:26:03.059647Z",
     "shell.execute_reply": "2022-05-02T03:26:03.059114Z"
    },
    "papermill": {
     "duration": 0.045529,
     "end_time": "2022-05-02T03:26:03.059798",
     "exception": false,
     "start_time": "2022-05-02T03:26:03.014269",
     "status": "completed"
    },
    "tags": []
   },
   "outputs": [],
   "source": [
    "#hide\n",
    "#df_all_mrk = read_api()"
   ]
  },
  {
   "cell_type": "code",
   "execution_count": 9,
   "id": "delayed-adapter",
   "metadata": {
    "execution": {
     "iopub.execute_input": "2022-05-02T03:26:03.092202Z",
     "iopub.status.busy": "2022-05-02T03:26:03.091655Z",
     "iopub.status.idle": "2022-05-02T03:26:03.120023Z",
     "shell.execute_reply": "2022-05-02T03:26:03.120499Z"
    },
    "papermill": {
     "duration": 0.046243,
     "end_time": "2022-05-02T03:26:03.120666",
     "exception": false,
     "start_time": "2022-05-02T03:26:03.074423",
     "status": "completed"
    },
    "tags": []
   },
   "outputs": [],
   "source": [
    "#hide\n",
    "#Koreliacijų koeficientai"
   ]
  },
  {
   "cell_type": "code",
   "execution_count": 10,
   "id": "seeing-celebration",
   "metadata": {
    "execution": {
     "iopub.execute_input": "2022-05-02T03:26:03.158759Z",
     "iopub.status.busy": "2022-05-02T03:26:03.158143Z",
     "iopub.status.idle": "2022-05-02T03:26:03.184478Z",
     "shell.execute_reply": "2022-05-02T03:26:03.184975Z"
    },
    "papermill": {
     "duration": 0.048703,
     "end_time": "2022-05-02T03:26:03.185123",
     "exception": false,
     "start_time": "2022-05-02T03:26:03.136420",
     "status": "completed"
    },
    "tags": []
   },
   "outputs": [],
   "source": [
    "#hide_input\n",
    "#sum_corr = df_all_mrk.corr().sum().sort_values(ascending=True).index.values\n",
    "#df_all_mrk[sum_corr].corr()"
   ]
  },
  {
   "cell_type": "code",
   "execution_count": 11,
   "id": "other-painting",
   "metadata": {
    "execution": {
     "iopub.execute_input": "2022-05-02T03:26:03.221305Z",
     "iopub.status.busy": "2022-05-02T03:26:03.220733Z",
     "iopub.status.idle": "2022-05-02T03:26:03.247495Z",
     "shell.execute_reply": "2022-05-02T03:26:03.246983Z"
    },
    "papermill": {
     "duration": 0.046806,
     "end_time": "2022-05-02T03:26:03.247634",
     "exception": false,
     "start_time": "2022-05-02T03:26:03.200828",
     "status": "completed"
    },
    "tags": []
   },
   "outputs": [],
   "source": [
    "#hide\n",
    "#Koreliacijos matrica. "
   ]
  },
  {
   "cell_type": "code",
   "execution_count": 12,
   "id": "modular-magnitude",
   "metadata": {
    "execution": {
     "iopub.execute_input": "2022-05-02T03:26:03.294550Z",
     "iopub.status.busy": "2022-05-02T03:26:03.290138Z",
     "iopub.status.idle": "2022-05-02T03:26:03.313347Z",
     "shell.execute_reply": "2022-05-02T03:26:03.312769Z"
    },
    "papermill": {
     "duration": 0.051986,
     "end_time": "2022-05-02T03:26:03.313486",
     "exception": false,
     "start_time": "2022-05-02T03:26:03.261500",
     "status": "completed"
    },
    "tags": []
   },
   "outputs": [],
   "source": [
    "#hide_input\n",
    "#plt.figure(figsize=(15, 8))\n",
    "#sns.heatmap(df_all_mrk[sum_corr].corr(), annot=True, cmap=\"BrBG\");\n",
    "#plt.savefig('corr_matrix_all.eps', format='eps')"
   ]
  },
  {
   "cell_type": "code",
   "execution_count": null,
   "id": "original-senator",
   "metadata": {
    "papermill": {
     "duration": 0.013478,
     "end_time": "2022-05-02T03:26:03.341284",
     "exception": false,
     "start_time": "2022-05-02T03:26:03.327806",
     "status": "completed"
    },
    "tags": []
   },
   "outputs": [],
   "source": []
  },
  {
   "cell_type": "code",
   "execution_count": null,
   "id": "saving-secretariat",
   "metadata": {
    "papermill": {
     "duration": 0.013422,
     "end_time": "2022-05-02T03:26:03.368116",
     "exception": false,
     "start_time": "2022-05-02T03:26:03.354694",
     "status": "completed"
    },
    "tags": []
   },
   "outputs": [],
   "source": []
  }
 ],
 "metadata": {
  "kernelspec": {
   "display_name": "Python 3",
   "language": "python",
   "name": "python3"
  },
  "language_info": {
   "codemirror_mode": {
    "name": "ipython",
    "version": 3
   },
   "file_extension": ".py",
   "mimetype": "text/x-python",
   "name": "python",
   "nbconvert_exporter": "python",
   "pygments_lexer": "ipython3",
   "version": "3.6.15"
  },
  "papermill": {
   "default_parameters": {},
   "duration": 18.237758,
   "end_time": "2022-05-02T03:26:04.002432",
   "environment_variables": {},
   "exception": null,
   "input_path": "App-Correlation_charts.ipynb",
   "output_path": "App-Correlation_charts.ipynb",
   "parameters": {},
   "start_time": "2022-05-02T03:25:45.764674",
   "version": "2.2.2"
  }
 },
 "nbformat": 4,
 "nbformat_minor": 5
}