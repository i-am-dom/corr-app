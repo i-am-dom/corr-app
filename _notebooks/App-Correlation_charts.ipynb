{
 "cells": [
  {
   "cell_type": "markdown",
   "id": "touched-facility",
   "metadata": {
    "papermill": {
     "duration": 0.014128,
     "end_time": "2022-02-01T02:01:23.551086",
     "exception": false,
     "start_time": "2022-02-01T02:01:23.536958",
     "status": "completed"
    },
    "tags": []
   },
   "source": [
    "# Koreliacijų matrica\n",
    "> Išplėstinė koreliacijų matrica. \n",
    "\n",
    "- toc: true \n",
    "- badges: true\n",
    "- comments: false\n",
    "- categories: [Dominykas Tautkus]\n",
    "- image: images/matrix.png"
   ]
  },
  {
   "cell_type": "code",
   "execution_count": null,
   "id": "premium-weekend",
   "metadata": {
    "papermill": {
     "duration": 0.012597,
     "end_time": "2022-02-01T02:01:23.575565",
     "exception": false,
     "start_time": "2022-02-01T02:01:23.562968",
     "status": "completed"
    },
    "tags": []
   },
   "outputs": [],
   "source": []
  },
  {
   "cell_type": "code",
   "execution_count": 1,
   "id": "vertical-rebate",
   "metadata": {
    "execution": {
     "iopub.execute_input": "2022-02-01T02:01:23.606802Z",
     "iopub.status.busy": "2022-02-01T02:01:23.606285Z",
     "iopub.status.idle": "2022-02-01T02:01:23.617230Z",
     "shell.execute_reply": "2022-02-01T02:01:23.616783Z"
    },
    "papermill": {
     "duration": 0.030967,
     "end_time": "2022-02-01T02:01:23.617352",
     "exception": false,
     "start_time": "2022-02-01T02:01:23.586385",
     "status": "completed"
    },
    "tags": []
   },
   "outputs": [],
   "source": [
    "#hide\n",
    "%load_ext autoreload\n",
    "%autoreload 2"
   ]
  },
  {
   "cell_type": "code",
   "execution_count": 2,
   "id": "overall-advancement",
   "metadata": {
    "execution": {
     "iopub.execute_input": "2022-02-01T02:01:23.642089Z",
     "iopub.status.busy": "2022-02-01T02:01:23.641561Z",
     "iopub.status.idle": "2022-02-01T02:01:24.893272Z",
     "shell.execute_reply": "2022-02-01T02:01:24.892292Z"
    },
    "papermill": {
     "duration": 1.265381,
     "end_time": "2022-02-01T02:01:24.893396",
     "exception": false,
     "start_time": "2022-02-01T02:01:23.628015",
     "status": "completed"
    },
    "tags": []
   },
   "outputs": [],
   "source": [
    "#hide\n",
    "from scripts.read_data import read_api\n",
    "from IPython.display import HTML\n",
    "import plotly.graph_objects as go\n"
   ]
  },
  {
   "cell_type": "code",
   "execution_count": 3,
   "id": "light-crazy",
   "metadata": {
    "execution": {
     "iopub.execute_input": "2022-02-01T02:01:24.923852Z",
     "iopub.status.busy": "2022-02-01T02:01:24.922431Z",
     "iopub.status.idle": "2022-02-01T02:01:24.942459Z",
     "shell.execute_reply": "2022-02-01T02:01:24.942903Z"
    },
    "papermill": {
     "duration": 0.037541,
     "end_time": "2022-02-01T02:01:24.943024",
     "exception": false,
     "start_time": "2022-02-01T02:01:24.905483",
     "status": "completed"
    },
    "tags": []
   },
   "outputs": [],
   "source": [
    "#hide\n",
    "### ICO koreliacija"
   ]
  },
  {
   "cell_type": "code",
   "execution_count": 4,
   "id": "likely-bahrain",
   "metadata": {
    "execution": {
     "iopub.execute_input": "2022-02-01T02:01:24.972418Z",
     "iopub.status.busy": "2022-02-01T02:01:24.971815Z",
     "iopub.status.idle": "2022-02-01T02:01:25.922692Z",
     "shell.execute_reply": "2022-02-01T02:01:25.921702Z"
    },
    "papermill": {
     "duration": 0.967513,
     "end_time": "2022-02-01T02:01:25.922820",
     "exception": false,
     "start_time": "2022-02-01T02:01:24.955307",
     "status": "completed"
    },
    "tags": []
   },
   "outputs": [],
   "source": [
    "#hide\n",
    "import matplotlib.pyplot as plt\n",
    "import numpy as np\n",
    "import pandas as pd\n",
    "import seaborn as sns\n",
    "import matplotlib.pyplot as plt \n",
    "import matplotlib.dates as mdates\n",
    "import matplotlib.pyplot as plt"
   ]
  },
  {
   "cell_type": "code",
   "execution_count": 5,
   "id": "superior-blanket",
   "metadata": {
    "execution": {
     "iopub.execute_input": "2022-02-01T02:01:25.948916Z",
     "iopub.status.busy": "2022-02-01T02:01:25.948357Z",
     "iopub.status.idle": "2022-02-01T02:01:42.612815Z",
     "shell.execute_reply": "2022-02-01T02:01:42.612322Z"
    },
    "papermill": {
     "duration": 16.678719,
     "end_time": "2022-02-01T02:01:42.612945",
     "exception": false,
     "start_time": "2022-02-01T02:01:25.934226",
     "status": "completed"
    },
    "tags": []
   },
   "outputs": [
    {
     "name": "stderr",
     "output_type": "stream",
     "text": [
      "/home/runner/work/corr-app/corr-app/_notebooks/scripts/read_data.py:187: SettingWithCopyWarning:\n",
      "\n",
      "\n",
      "A value is trying to be set on a copy of a slice from a DataFrame.\n",
      "Try using .loc[row_indexer,col_indexer] = value instead\n",
      "\n",
      "See the caveats in the documentation: https://pandas.pydata.org/pandas-docs/stable/user_guide/indexing.html#returning-a-view-versus-a-copy\n",
      "\n"
     ]
    },
    {
     "name": "stderr",
     "output_type": "stream",
     "text": [
      "/home/runner/work/corr-app/corr-app/_notebooks/scripts/read_data.py:215: SettingWithCopyWarning:\n",
      "\n",
      "\n",
      "A value is trying to be set on a copy of a slice from a DataFrame.\n",
      "Try using .loc[row_indexer,col_indexer] = value instead\n",
      "\n",
      "See the caveats in the documentation: https://pandas.pydata.org/pandas-docs/stable/user_guide/indexing.html#returning-a-view-versus-a-copy\n",
      "\n"
     ]
    }
   ],
   "source": [
    "#hide\n",
    "df_all = read_api()\n",
    "#df_all = df_all.drop(['SP500', 'XAU', 'ETH', 'BTC'], axis=1)\n",
    "\n"
   ]
  },
  {
   "cell_type": "code",
   "execution_count": 6,
   "id": "mature-alert",
   "metadata": {
    "execution": {
     "iopub.execute_input": "2022-02-01T02:01:42.641240Z",
     "iopub.status.busy": "2022-02-01T02:01:42.640679Z",
     "iopub.status.idle": "2022-02-01T02:01:42.669117Z",
     "shell.execute_reply": "2022-02-01T02:01:42.669680Z"
    },
    "papermill": {
     "duration": 0.044672,
     "end_time": "2022-02-01T02:01:42.669862",
     "exception": false,
     "start_time": "2022-02-01T02:01:42.625190",
     "status": "completed"
    },
    "tags": []
   },
   "outputs": [],
   "source": [
    "#hide_input\n",
    "sum_corr = df_all.corr().sum().sort_values(ascending=True).index.values\n",
    "#df_all[sum_corr].corr()"
   ]
  },
  {
   "cell_type": "markdown",
   "id": "complex-syndicate",
   "metadata": {
    "papermill": {
     "duration": 0.01176,
     "end_time": "2022-02-01T02:01:42.693941",
     "exception": false,
     "start_time": "2022-02-01T02:01:42.682181",
     "status": "completed"
    },
    "tags": []
   },
   "source": [
    "## Išplėstinė koreliacijų matrica. "
   ]
  },
  {
   "cell_type": "code",
   "execution_count": 7,
   "id": "atomic-omaha",
   "metadata": {
    "execution": {
     "iopub.execute_input": "2022-02-01T02:01:42.721769Z",
     "iopub.status.busy": "2022-02-01T02:01:42.721214Z",
     "iopub.status.idle": "2022-02-01T02:01:44.316516Z",
     "shell.execute_reply": "2022-02-01T02:01:44.316943Z"
    },
    "papermill": {
     "duration": 1.611406,
     "end_time": "2022-02-01T02:01:44.317082",
     "exception": false,
     "start_time": "2022-02-01T02:01:42.705676",
     "status": "completed"
    },
    "tags": []
   },
   "outputs": [
    {
     "data": {
      "image/png": "[encoded data removed]",
      "text/plain": [
       "<Figure size 1080x792 with 2 Axes>"
      ]
     },
     "metadata": {
      "needs_background": "light"
     },
     "output_type": "display_data"
    }
   ],
   "source": [
    "#hide_input\n",
    "plt.figure(figsize=(15, 11))\n",
    "sns.heatmap(df_all[sum_corr].corr(), annot=True, cmap=\"cubehelix\") \n",
    "sns.set(font_scale=1.25)\n",
    "plt.savefig('corr_matrix.png', format='eps')"
   ]
  },
  {
   "cell_type": "code",
   "execution_count": 8,
   "id": "arbitrary-sullivan",
   "metadata": {
    "execution": {
     "iopub.execute_input": "2022-02-01T02:01:44.348514Z",
     "iopub.status.busy": "2022-02-01T02:01:44.346905Z",
     "iopub.status.idle": "2022-02-01T02:01:44.370244Z",
     "shell.execute_reply": "2022-02-01T02:01:44.370651Z"
    },
    "papermill": {
     "duration": 0.040461,
     "end_time": "2022-02-01T02:01:44.370773",
     "exception": false,
     "start_time": "2022-02-01T02:01:44.330312",
     "status": "completed"
    },
    "tags": []
   },
   "outputs": [],
   "source": [
    "#hide\n",
    "#df_all_mrk = read_api()"
   ]
  },
  {
   "cell_type": "code",
   "execution_count": 9,
   "id": "delayed-adapter",
   "metadata": {
    "execution": {
     "iopub.execute_input": "2022-02-01T02:01:44.400911Z",
     "iopub.status.busy": "2022-02-01T02:01:44.400367Z",
     "iopub.status.idle": "2022-02-01T02:01:44.424437Z",
     "shell.execute_reply": "2022-02-01T02:01:44.425035Z"
    },
    "papermill": {
     "duration": 0.041412,
     "end_time": "2022-02-01T02:01:44.425224",
     "exception": false,
     "start_time": "2022-02-01T02:01:44.383812",
     "status": "completed"
    },
    "tags": []
   },
   "outputs": [],
   "source": [
    "#hide\n",
    "#Koreliacijų koeficientai"
   ]
  },
  {
   "cell_type": "code",
   "execution_count": 10,
   "id": "seeing-celebration",
   "metadata": {
    "execution": {
     "iopub.execute_input": "2022-02-01T02:01:44.459104Z",
     "iopub.status.busy": "2022-02-01T02:01:44.458546Z",
     "iopub.status.idle": "2022-02-01T02:01:44.481760Z",
     "shell.execute_reply": "2022-02-01T02:01:44.482212Z"
    },
    "papermill": {
     "duration": 0.0406,
     "end_time": "2022-02-01T02:01:44.482345",
     "exception": false,
     "start_time": "2022-02-01T02:01:44.441745",
     "status": "completed"
    },
    "tags": []
   },
   "outputs": [],
   "source": [
    "#hide_input\n",
    "#sum_corr = df_all_mrk.corr().sum().sort_values(ascending=True).index.values\n",
    "#df_all_mrk[sum_corr].corr()"
   ]
  },
  {
   "cell_type": "code",
   "execution_count": 11,
   "id": "other-painting",
   "metadata": {
    "execution": {
     "iopub.execute_input": "2022-02-01T02:01:44.513993Z",
     "iopub.status.busy": "2022-02-01T02:01:44.513333Z",
     "iopub.status.idle": "2022-02-01T02:01:44.537800Z",
     "shell.execute_reply": "2022-02-01T02:01:44.537294Z"
    },
    "papermill": {
     "duration": 0.041488,
     "end_time": "2022-02-01T02:01:44.537953",
     "exception": false,
     "start_time": "2022-02-01T02:01:44.496465",
     "status": "completed"
    },
    "tags": []
   },
   "outputs": [],
   "source": [
    "#hide\n",
    "#Koreliacijos matrica. "
   ]
  },
  {
   "cell_type": "code",
   "execution_count": 12,
   "id": "modular-magnitude",
   "metadata": {
    "execution": {
     "iopub.execute_input": "2022-02-01T02:01:44.567070Z",
     "iopub.status.busy": "2022-02-01T02:01:44.566547Z",
     "iopub.status.idle": "2022-02-01T02:01:44.590180Z",
     "shell.execute_reply": "2022-02-01T02:01:44.589668Z"
    },
    "papermill": {
     "duration": 0.039171,
     "end_time": "2022-02-01T02:01:44.590302",
     "exception": false,
     "start_time": "2022-02-01T02:01:44.551131",
     "status": "completed"
    },
    "tags": []
   },
   "outputs": [],
   "source": [
    "#hide_input\n",
    "#plt.figure(figsize=(15, 8))\n",
    "#sns.heatmap(df_all_mrk[sum_corr].corr(), annot=True, cmap=\"BrBG\");\n",
    "#plt.savefig('corr_matrix_all.eps', format='eps')"
   ]
  },
  {
   "cell_type": "code",
   "execution_count": null,
   "id": "original-senator",
   "metadata": {
    "papermill": {
     "duration": 0.013129,
     "end_time": "2022-02-01T02:01:44.616525",
     "exception": false,
     "start_time": "2022-02-01T02:01:44.603396",
     "status": "completed"
    },
    "tags": []
   },
   "outputs": [],
   "source": []
  },
  {
   "cell_type": "code",
   "execution_count": null,
   "id": "saving-secretariat",
   "metadata": {
    "papermill": {
     "duration": 0.014261,
     "end_time": "2022-02-01T02:01:44.644082",
     "exception": false,
     "start_time": "2022-02-01T02:01:44.629821",
     "status": "completed"
    },
    "tags": []
   },
   "outputs": [],
   "source": []
  }
 ],
 "metadata": {
  "kernelspec": {
   "display_name": "Python 3",
   "language": "python",
   "name": "python3"
  },
  "language_info": {
   "codemirror_mode": {
    "name": "ipython",
    "version": 3
   },
   "file_extension": ".py",
   "mimetype": "text/x-python",
   "name": "python",
   "nbconvert_exporter": "python",
   "pygments_lexer": "ipython3",
   "version": "3.6.15"
  },
  "papermill": {
   "default_parameters": {},
   "duration": 22.593825,
   "end_time": "2022-02-01T02:01:45.175930",
   "environment_variables": {},
   "exception": null,
   "input_path": "App-Correlation_charts.ipynb",
   "output_path": "App-Correlation_charts.ipynb",
   "parameters": {},
   "start_time": "2022-02-01T02:01:22.582105",
   "version": "2.2.2"
  }
 },
 "nbformat": 4,
 "nbformat_minor": 5
}