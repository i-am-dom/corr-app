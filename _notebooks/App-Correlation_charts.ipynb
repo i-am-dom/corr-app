{
 "cells": [
  {
   "cell_type": "markdown",
   "id": "touched-facility",
   "metadata": {
    "papermill": {
     "duration": 0.014457,
     "end_time": "2022-01-25T02:04:22.646170",
     "exception": false,
     "start_time": "2022-01-25T02:04:22.631713",
     "status": "completed"
    },
    "tags": []
   },
   "source": [
    "# Koreliacijų matrica\n",
    "> Išplėstinė koreliacijų matrica. \n",
    "\n",
    "- toc: true \n",
    "- badges: true\n",
    "- comments: false\n",
    "- categories: [Dominykas Tautkus]\n",
    "- image: images/matrix.png"
   ]
  },
  {
   "cell_type": "code",
   "execution_count": null,
   "id": "premium-weekend",
   "metadata": {
    "papermill": {
     "duration": 0.010475,
     "end_time": "2022-01-25T02:04:22.667787",
     "exception": false,
     "start_time": "2022-01-25T02:04:22.657312",
     "status": "completed"
    },
    "tags": []
   },
   "outputs": [],
   "source": []
  },
  {
   "cell_type": "code",
   "execution_count": 1,
   "id": "vertical-rebate",
   "metadata": {
    "execution": {
     "iopub.execute_input": "2022-01-25T02:04:22.699169Z",
     "iopub.status.busy": "2022-01-25T02:04:22.698653Z",
     "iopub.status.idle": "2022-01-25T02:04:22.708625Z",
     "shell.execute_reply": "2022-01-25T02:04:22.709035Z"
    },
    "papermill": {
     "duration": 0.030984,
     "end_time": "2022-01-25T02:04:22.709218",
     "exception": false,
     "start_time": "2022-01-25T02:04:22.678234",
     "status": "completed"
    },
    "tags": []
   },
   "outputs": [],
   "source": [
    "#hide\n",
    "%load_ext autoreload\n",
    "%autoreload 2"
   ]
  },
  {
   "cell_type": "code",
   "execution_count": 2,
   "id": "overall-advancement",
   "metadata": {
    "execution": {
     "iopub.execute_input": "2022-01-25T02:04:22.737480Z",
     "iopub.status.busy": "2022-01-25T02:04:22.736944Z",
     "iopub.status.idle": "2022-01-25T02:04:23.850322Z",
     "shell.execute_reply": "2022-01-25T02:04:23.849780Z"
    },
    "papermill": {
     "duration": 1.130712,
     "end_time": "2022-01-25T02:04:23.850462",
     "exception": false,
     "start_time": "2022-01-25T02:04:22.719750",
     "status": "completed"
    },
    "tags": []
   },
   "outputs": [],
   "source": [
    "#hide\n",
    "from scripts.read_data import read_api\n",
    "from IPython.display import HTML\n",
    "import plotly.graph_objects as go\n"
   ]
  },
  {
   "cell_type": "code",
   "execution_count": 3,
   "id": "light-crazy",
   "metadata": {
    "execution": {
     "iopub.execute_input": "2022-01-25T02:04:23.885777Z",
     "iopub.status.busy": "2022-01-25T02:04:23.884866Z",
     "iopub.status.idle": "2022-01-25T02:04:23.902193Z",
     "shell.execute_reply": "2022-01-25T02:04:23.902594Z"
    },
    "papermill": {
     "duration": 0.040753,
     "end_time": "2022-01-25T02:04:23.902729",
     "exception": false,
     "start_time": "2022-01-25T02:04:23.861976",
     "status": "completed"
    },
    "tags": []
   },
   "outputs": [],
   "source": [
    "#hide\n",
    "### ICO koreliacija"
   ]
  },
  {
   "cell_type": "code",
   "execution_count": 4,
   "id": "likely-bahrain",
   "metadata": {
    "execution": {
     "iopub.execute_input": "2022-01-25T02:04:23.927915Z",
     "iopub.status.busy": "2022-01-25T02:04:23.927398Z",
     "iopub.status.idle": "2022-01-25T02:04:24.800468Z",
     "shell.execute_reply": "2022-01-25T02:04:24.799931Z"
    },
    "papermill": {
     "duration": 0.887292,
     "end_time": "2022-01-25T02:04:24.800609",
     "exception": false,
     "start_time": "2022-01-25T02:04:23.913317",
     "status": "completed"
    },
    "tags": []
   },
   "outputs": [],
   "source": [
    "#hide\n",
    "import matplotlib.pyplot as plt\n",
    "import numpy as np\n",
    "import pandas as pd\n",
    "import seaborn as sns\n",
    "import matplotlib.pyplot as plt \n",
    "import matplotlib.dates as mdates\n",
    "import matplotlib.pyplot as plt"
   ]
  },
  {
   "cell_type": "code",
   "execution_count": 5,
   "id": "superior-blanket",
   "metadata": {
    "execution": {
     "iopub.execute_input": "2022-01-25T02:04:24.829363Z",
     "iopub.status.busy": "2022-01-25T02:04:24.828821Z",
     "iopub.status.idle": "2022-01-25T02:04:37.469449Z",
     "shell.execute_reply": "2022-01-25T02:04:37.468894Z"
    },
    "papermill": {
     "duration": 12.657205,
     "end_time": "2022-01-25T02:04:37.469592",
     "exception": false,
     "start_time": "2022-01-25T02:04:24.812387",
     "status": "completed"
    },
    "tags": []
   },
   "outputs": [
    {
     "name": "stderr",
     "output_type": "stream",
     "text": [
      "/home/runner/work/corr-app/corr-app/_notebooks/scripts/read_data.py:187: SettingWithCopyWarning:\n",
      "\n",
      "\n",
      "A value is trying to be set on a copy of a slice from a DataFrame.\n",
      "Try using .loc[row_indexer,col_indexer] = value instead\n",
      "\n",
      "See the caveats in the documentation: https://pandas.pydata.org/pandas-docs/stable/user_guide/indexing.html#returning-a-view-versus-a-copy\n",
      "\n"
     ]
    },
    {
     "name": "stderr",
     "output_type": "stream",
     "text": [
      "/home/runner/work/corr-app/corr-app/_notebooks/scripts/read_data.py:215: SettingWithCopyWarning:\n",
      "\n",
      "\n",
      "A value is trying to be set on a copy of a slice from a DataFrame.\n",
      "Try using .loc[row_indexer,col_indexer] = value instead\n",
      "\n",
      "See the caveats in the documentation: https://pandas.pydata.org/pandas-docs/stable/user_guide/indexing.html#returning-a-view-versus-a-copy\n",
      "\n"
     ]
    }
   ],
   "source": [
    "#hide\n",
    "df_all = read_api()\n",
    "#df_all = df_all.drop(['SP500', 'XAU', 'ETH', 'BTC'], axis=1)\n",
    "\n"
   ]
  },
  {
   "cell_type": "code",
   "execution_count": 6,
   "id": "mature-alert",
   "metadata": {
    "execution": {
     "iopub.execute_input": "2022-01-25T02:04:37.509772Z",
     "iopub.status.busy": "2022-01-25T02:04:37.505089Z",
     "iopub.status.idle": "2022-01-25T02:04:37.533229Z",
     "shell.execute_reply": "2022-01-25T02:04:37.532735Z"
    },
    "papermill": {
     "duration": 0.051399,
     "end_time": "2022-01-25T02:04:37.533360",
     "exception": false,
     "start_time": "2022-01-25T02:04:37.481961",
     "status": "completed"
    },
    "tags": []
   },
   "outputs": [],
   "source": [
    "#hide_input\n",
    "sum_corr = df_all.corr().sum().sort_values(ascending=True).index.values\n",
    "#df_all[sum_corr].corr()"
   ]
  },
  {
   "cell_type": "markdown",
   "id": "complex-syndicate",
   "metadata": {
    "papermill": {
     "duration": 0.011096,
     "end_time": "2022-01-25T02:04:37.555764",
     "exception": false,
     "start_time": "2022-01-25T02:04:37.544668",
     "status": "completed"
    },
    "tags": []
   },
   "source": [
    "## Išplėstinė koreliacijų matrica. "
   ]
  },
  {
   "cell_type": "code",
   "execution_count": 7,
   "id": "atomic-omaha",
   "metadata": {
    "execution": {
     "iopub.execute_input": "2022-01-25T02:04:37.588263Z",
     "iopub.status.busy": "2022-01-25T02:04:37.587733Z",
     "iopub.status.idle": "2022-01-25T02:04:38.827591Z",
     "shell.execute_reply": "2022-01-25T02:04:38.827985Z"
    },
    "papermill": {
     "duration": 1.261332,
     "end_time": "2022-01-25T02:04:38.828129",
     "exception": false,
     "start_time": "2022-01-25T02:04:37.566797",
     "status": "completed"
    },
    "tags": []
   },
   "outputs": [
    {
     "data": {
      "image/png": "[encoded data removed]",
      "text/plain": [
       "<Figure size 1080x792 with 2 Axes>"
      ]
     },
     "metadata": {
      "needs_background": "light"
     },
     "output_type": "display_data"
    }
   ],
   "source": [
    "#hide_input\n",
    "plt.figure(figsize=(15, 11))\n",
    "sns.heatmap(df_all[sum_corr].corr(), annot=True, cmap=\"cubehelix\") \n",
    "sns.set(font_scale=1.25)\n",
    "plt.savefig('corr_matrix.png', format='eps')"
   ]
  },
  {
   "cell_type": "code",
   "execution_count": 8,
   "id": "arbitrary-sullivan",
   "metadata": {
    "execution": {
     "iopub.execute_input": "2022-01-25T02:04:38.858442Z",
     "iopub.status.busy": "2022-01-25T02:04:38.857849Z",
     "iopub.status.idle": "2022-01-25T02:04:38.883863Z",
     "shell.execute_reply": "2022-01-25T02:04:38.884321Z"
    },
    "papermill": {
     "duration": 0.042862,
     "end_time": "2022-01-25T02:04:38.884472",
     "exception": false,
     "start_time": "2022-01-25T02:04:38.841610",
     "status": "completed"
    },
    "tags": []
   },
   "outputs": [],
   "source": [
    "#hide\n",
    "#df_all_mrk = read_api()"
   ]
  },
  {
   "cell_type": "code",
   "execution_count": 9,
   "id": "delayed-adapter",
   "metadata": {
    "execution": {
     "iopub.execute_input": "2022-01-25T02:04:38.914171Z",
     "iopub.status.busy": "2022-01-25T02:04:38.913664Z",
     "iopub.status.idle": "2022-01-25T02:04:38.940332Z",
     "shell.execute_reply": "2022-01-25T02:04:38.939820Z"
    },
    "papermill": {
     "duration": 0.042494,
     "end_time": "2022-01-25T02:04:38.940456",
     "exception": false,
     "start_time": "2022-01-25T02:04:38.897962",
     "status": "completed"
    },
    "tags": []
   },
   "outputs": [],
   "source": [
    "#hide\n",
    "#Koreliacijų koeficientai"
   ]
  },
  {
   "cell_type": "code",
   "execution_count": 10,
   "id": "seeing-celebration",
   "metadata": {
    "execution": {
     "iopub.execute_input": "2022-01-25T02:04:38.971374Z",
     "iopub.status.busy": "2022-01-25T02:04:38.970849Z",
     "iopub.status.idle": "2022-01-25T02:04:38.997338Z",
     "shell.execute_reply": "2022-01-25T02:04:38.996858Z"
    },
    "papermill": {
     "duration": 0.042791,
     "end_time": "2022-01-25T02:04:38.997465",
     "exception": false,
     "start_time": "2022-01-25T02:04:38.954674",
     "status": "completed"
    },
    "tags": []
   },
   "outputs": [],
   "source": [
    "#hide_input\n",
    "#sum_corr = df_all_mrk.corr().sum().sort_values(ascending=True).index.values\n",
    "#df_all_mrk[sum_corr].corr()"
   ]
  },
  {
   "cell_type": "code",
   "execution_count": 11,
   "id": "other-painting",
   "metadata": {
    "execution": {
     "iopub.execute_input": "2022-01-25T02:04:39.041753Z",
     "iopub.status.busy": "2022-01-25T02:04:39.037909Z",
     "iopub.status.idle": "2022-01-25T02:04:39.059979Z",
     "shell.execute_reply": "2022-01-25T02:04:39.059562Z"
    },
    "papermill": {
     "duration": 0.049284,
     "end_time": "2022-01-25T02:04:39.060099",
     "exception": false,
     "start_time": "2022-01-25T02:04:39.010815",
     "status": "completed"
    },
    "tags": []
   },
   "outputs": [],
   "source": [
    "#hide\n",
    "#Koreliacijos matrica. "
   ]
  },
  {
   "cell_type": "code",
   "execution_count": 12,
   "id": "modular-magnitude",
   "metadata": {
    "execution": {
     "iopub.execute_input": "2022-01-25T02:04:39.091675Z",
     "iopub.status.busy": "2022-01-25T02:04:39.091171Z",
     "iopub.status.idle": "2022-01-25T02:04:39.116674Z",
     "shell.execute_reply": "2022-01-25T02:04:39.116200Z"
    },
    "papermill": {
     "duration": 0.043228,
     "end_time": "2022-01-25T02:04:39.116804",
     "exception": false,
     "start_time": "2022-01-25T02:04:39.073576",
     "status": "completed"
    },
    "tags": []
   },
   "outputs": [],
   "source": [
    "#hide_input\n",
    "#plt.figure(figsize=(15, 8))\n",
    "#sns.heatmap(df_all_mrk[sum_corr].corr(), annot=True, cmap=\"BrBG\");\n",
    "#plt.savefig('corr_matrix_all.eps', format='eps')"
   ]
  },
  {
   "cell_type": "code",
   "execution_count": null,
   "id": "original-senator",
   "metadata": {
    "papermill": {
     "duration": 0.012992,
     "end_time": "2022-01-25T02:04:39.143456",
     "exception": false,
     "start_time": "2022-01-25T02:04:39.130464",
     "status": "completed"
    },
    "tags": []
   },
   "outputs": [],
   "source": []
  },
  {
   "cell_type": "code",
   "execution_count": null,
   "id": "saving-secretariat",
   "metadata": {
    "papermill": {
     "duration": 0.013873,
     "end_time": "2022-01-25T02:04:39.170312",
     "exception": false,
     "start_time": "2022-01-25T02:04:39.156439",
     "status": "completed"
    },
    "tags": []
   },
   "outputs": [],
   "source": []
  }
 ],
 "metadata": {
  "kernelspec": {
   "display_name": "Python 3",
   "language": "python",
   "name": "python3"
  },
  "language_info": {
   "codemirror_mode": {
    "name": "ipython",
    "version": 3
   },
   "file_extension": ".py",
   "mimetype": "text/x-python",
   "name": "python",
   "nbconvert_exporter": "python",
   "pygments_lexer": "ipython3",
   "version": "3.6.15"
  },
  "papermill": {
   "default_parameters": {},
   "duration": 18.00196,
   "end_time": "2022-01-25T02:04:39.703526",
   "environment_variables": {},
   "exception": null,
   "input_path": "App-Correlation_charts.ipynb",
   "output_path": "App-Correlation_charts.ipynb",
   "parameters": {},
   "start_time": "2022-01-25T02:04:21.701566",
   "version": "2.2.2"
  }
 },
 "nbformat": 4,
 "nbformat_minor": 5
}