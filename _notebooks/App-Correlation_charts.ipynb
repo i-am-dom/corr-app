{
 "cells": [
  {
   "cell_type": "markdown",
   "id": "touched-facility",
   "metadata": {
    "papermill": {
     "duration": 0.018477,
     "end_time": "2022-05-07T02:38:11.287954",
     "exception": false,
     "start_time": "2022-05-07T02:38:11.269477",
     "status": "completed"
    },
    "tags": []
   },
   "source": [
    "# Koreliacijų matrica\n",
    "> Išplėstinė koreliacijų matrica. \n",
    "\n",
    "- toc: true \n",
    "- badges: true\n",
    "- comments: false\n",
    "- categories: [Dominykas Tautkus]\n",
    "- image: images/matrix.png"
   ]
  },
  {
   "cell_type": "code",
   "execution_count": null,
   "id": "premium-weekend",
   "metadata": {
    "papermill": {
     "duration": 0.01532,
     "end_time": "2022-05-07T02:38:11.319803",
     "exception": false,
     "start_time": "2022-05-07T02:38:11.304483",
     "status": "completed"
    },
    "tags": []
   },
   "outputs": [],
   "source": []
  },
  {
   "cell_type": "code",
   "execution_count": 1,
   "id": "vertical-rebate",
   "metadata": {
    "execution": {
     "iopub.execute_input": "2022-05-07T02:38:11.361632Z",
     "iopub.status.busy": "2022-05-07T02:38:11.360886Z",
     "iopub.status.idle": "2022-05-07T02:38:11.373890Z",
     "shell.execute_reply": "2022-05-07T02:38:11.373181Z"
    },
    "papermill": {
     "duration": 0.038203,
     "end_time": "2022-05-07T02:38:11.374098",
     "exception": false,
     "start_time": "2022-05-07T02:38:11.335895",
     "status": "completed"
    },
    "tags": []
   },
   "outputs": [],
   "source": [
    "#hide\n",
    "%load_ext autoreload\n",
    "%autoreload 2"
   ]
  },
  {
   "cell_type": "code",
   "execution_count": 2,
   "id": "overall-advancement",
   "metadata": {
    "execution": {
     "iopub.execute_input": "2022-05-07T02:38:11.406629Z",
     "iopub.status.busy": "2022-05-07T02:38:11.405761Z",
     "iopub.status.idle": "2022-05-07T02:38:13.311708Z",
     "shell.execute_reply": "2022-05-07T02:38:13.310397Z"
    },
    "papermill": {
     "duration": 1.924241,
     "end_time": "2022-05-07T02:38:13.311904",
     "exception": false,
     "start_time": "2022-05-07T02:38:11.387663",
     "status": "completed"
    },
    "tags": []
   },
   "outputs": [],
   "source": [
    "#hide\n",
    "from scripts.read_data import read_api\n",
    "from IPython.display import HTML\n",
    "import plotly.graph_objects as go\n"
   ]
  },
  {
   "cell_type": "code",
   "execution_count": 3,
   "id": "light-crazy",
   "metadata": {
    "execution": {
     "iopub.execute_input": "2022-05-07T02:38:13.350334Z",
     "iopub.status.busy": "2022-05-07T02:38:13.349680Z",
     "iopub.status.idle": "2022-05-07T02:38:13.378424Z",
     "shell.execute_reply": "2022-05-07T02:38:13.377720Z"
    },
    "papermill": {
     "duration": 0.050062,
     "end_time": "2022-05-07T02:38:13.378574",
     "exception": false,
     "start_time": "2022-05-07T02:38:13.328512",
     "status": "completed"
    },
    "tags": []
   },
   "outputs": [],
   "source": [
    "#hide\n",
    "### ICO koreliacija"
   ]
  },
  {
   "cell_type": "code",
   "execution_count": 4,
   "id": "likely-bahrain",
   "metadata": {
    "execution": {
     "iopub.execute_input": "2022-05-07T02:38:13.414664Z",
     "iopub.status.busy": "2022-05-07T02:38:13.413918Z",
     "iopub.status.idle": "2022-05-07T02:38:14.846947Z",
     "shell.execute_reply": "2022-05-07T02:38:14.846004Z"
    },
    "papermill": {
     "duration": 1.453812,
     "end_time": "2022-05-07T02:38:14.847094",
     "exception": false,
     "start_time": "2022-05-07T02:38:13.393282",
     "status": "completed"
    },
    "tags": []
   },
   "outputs": [],
   "source": [
    "#hide\n",
    "import matplotlib.pyplot as plt\n",
    "import numpy as np\n",
    "import pandas as pd\n",
    "import seaborn as sns\n",
    "import matplotlib.pyplot as plt \n",
    "import matplotlib.dates as mdates\n",
    "import matplotlib.pyplot as plt"
   ]
  },
  {
   "cell_type": "code",
   "execution_count": 5,
   "id": "superior-blanket",
   "metadata": {
    "execution": {
     "iopub.execute_input": "2022-05-07T02:38:14.881436Z",
     "iopub.status.busy": "2022-05-07T02:38:14.880419Z",
     "iopub.status.idle": "2022-05-07T02:38:24.102548Z",
     "shell.execute_reply": "2022-05-07T02:38:24.101921Z"
    },
    "papermill": {
     "duration": 9.239876,
     "end_time": "2022-05-07T02:38:24.102950",
     "exception": false,
     "start_time": "2022-05-07T02:38:14.863074",
     "status": "completed"
    },
    "tags": []
   },
   "outputs": [
    {
     "name": "stderr",
     "output_type": "stream",
     "text": [
      "/home/runner/work/corr-app/corr-app/_notebooks/scripts/read_data.py:187: SettingWithCopyWarning:\n",
      "\n",
      "\n",
      "A value is trying to be set on a copy of a slice from a DataFrame.\n",
      "Try using .loc[row_indexer,col_indexer] = value instead\n",
      "\n",
      "See the caveats in the documentation: https://pandas.pydata.org/pandas-docs/stable/user_guide/indexing.html#returning-a-view-versus-a-copy\n",
      "\n"
     ]
    },
    {
     "name": "stderr",
     "output_type": "stream",
     "text": [
      "/home/runner/work/corr-app/corr-app/_notebooks/scripts/read_data.py:215: SettingWithCopyWarning:\n",
      "\n",
      "\n",
      "A value is trying to be set on a copy of a slice from a DataFrame.\n",
      "Try using .loc[row_indexer,col_indexer] = value instead\n",
      "\n",
      "See the caveats in the documentation: https://pandas.pydata.org/pandas-docs/stable/user_guide/indexing.html#returning-a-view-versus-a-copy\n",
      "\n"
     ]
    }
   ],
   "source": [
    "#hide\n",
    "df_all = read_api()\n",
    "#df_all = df_all.drop(['SP500', 'XAU', 'ETH', 'BTC'], axis=1)\n",
    "\n"
   ]
  },
  {
   "cell_type": "code",
   "execution_count": 6,
   "id": "mature-alert",
   "metadata": {
    "execution": {
     "iopub.execute_input": "2022-05-07T02:38:24.146489Z",
     "iopub.status.busy": "2022-05-07T02:38:24.145731Z",
     "iopub.status.idle": "2022-05-07T02:38:24.187546Z",
     "shell.execute_reply": "2022-05-07T02:38:24.186821Z"
    },
    "papermill": {
     "duration": 0.067868,
     "end_time": "2022-05-07T02:38:24.187698",
     "exception": false,
     "start_time": "2022-05-07T02:38:24.119830",
     "status": "completed"
    },
    "tags": []
   },
   "outputs": [],
   "source": [
    "#hide_input\n",
    "sum_corr = df_all.corr().sum().sort_values(ascending=True).index.values\n",
    "#df_all[sum_corr].corr()"
   ]
  },
  {
   "cell_type": "markdown",
   "id": "complex-syndicate",
   "metadata": {
    "papermill": {
     "duration": 0.015766,
     "end_time": "2022-05-07T02:38:24.217570",
     "exception": false,
     "start_time": "2022-05-07T02:38:24.201804",
     "status": "completed"
    },
    "tags": []
   },
   "source": [
    "## Išplėstinė koreliacijų matrica. "
   ]
  },
  {
   "cell_type": "code",
   "execution_count": 7,
   "id": "atomic-omaha",
   "metadata": {
    "execution": {
     "iopub.execute_input": "2022-05-07T02:38:24.253678Z",
     "iopub.status.busy": "2022-05-07T02:38:24.253065Z",
     "iopub.status.idle": "2022-05-07T02:38:26.058874Z",
     "shell.execute_reply": "2022-05-07T02:38:26.059506Z"
    },
    "papermill": {
     "duration": 1.826786,
     "end_time": "2022-05-07T02:38:26.059690",
     "exception": false,
     "start_time": "2022-05-07T02:38:24.232904",
     "status": "completed"
    },
    "tags": []
   },
   "outputs": [
    {
     "data": {
      "image/png": "[encoded data removed]",
      "text/plain": [
       "<Figure size 1080x792 with 2 Axes>"
      ]
     },
     "metadata": {
      "needs_background": "light"
     },
     "output_type": "display_data"
    }
   ],
   "source": [
    "#hide_input\n",
    "plt.figure(figsize=(15, 11))\n",
    "sns.heatmap(df_all[sum_corr].corr(), annot=True, cmap=\"cubehelix\") \n",
    "sns.set(font_scale=1.25)\n",
    "plt.savefig('corr_matrix.png', format='eps')"
   ]
  },
  {
   "cell_type": "code",
   "execution_count": 8,
   "id": "arbitrary-sullivan",
   "metadata": {
    "execution": {
     "iopub.execute_input": "2022-05-07T02:38:26.102748Z",
     "iopub.status.busy": "2022-05-07T02:38:26.102057Z",
     "iopub.status.idle": "2022-05-07T02:38:26.141930Z",
     "shell.execute_reply": "2022-05-07T02:38:26.141341Z"
    },
    "papermill": {
     "duration": 0.063886,
     "end_time": "2022-05-07T02:38:26.142089",
     "exception": false,
     "start_time": "2022-05-07T02:38:26.078203",
     "status": "completed"
    },
    "tags": []
   },
   "outputs": [],
   "source": [
    "#hide\n",
    "#df_all_mrk = read_api()"
   ]
  },
  {
   "cell_type": "code",
   "execution_count": 9,
   "id": "delayed-adapter",
   "metadata": {
    "execution": {
     "iopub.execute_input": "2022-05-07T02:38:26.183396Z",
     "iopub.status.busy": "2022-05-07T02:38:26.182707Z",
     "iopub.status.idle": "2022-05-07T02:38:26.218185Z",
     "shell.execute_reply": "2022-05-07T02:38:26.217491Z"
    },
    "papermill": {
     "duration": 0.057094,
     "end_time": "2022-05-07T02:38:26.218339",
     "exception": false,
     "start_time": "2022-05-07T02:38:26.161245",
     "status": "completed"
    },
    "tags": []
   },
   "outputs": [],
   "source": [
    "#hide\n",
    "#Koreliacijų koeficientai"
   ]
  },
  {
   "cell_type": "code",
   "execution_count": 10,
   "id": "seeing-celebration",
   "metadata": {
    "execution": {
     "iopub.execute_input": "2022-05-07T02:38:26.272297Z",
     "iopub.status.busy": "2022-05-07T02:38:26.271560Z",
     "iopub.status.idle": "2022-05-07T02:38:26.305453Z",
     "shell.execute_reply": "2022-05-07T02:38:26.305983Z"
    },
    "papermill": {
     "duration": 0.062764,
     "end_time": "2022-05-07T02:38:26.306142",
     "exception": false,
     "start_time": "2022-05-07T02:38:26.243378",
     "status": "completed"
    },
    "tags": []
   },
   "outputs": [],
   "source": [
    "#hide_input\n",
    "#sum_corr = df_all_mrk.corr().sum().sort_values(ascending=True).index.values\n",
    "#df_all_mrk[sum_corr].corr()"
   ]
  },
  {
   "cell_type": "code",
   "execution_count": 11,
   "id": "other-painting",
   "metadata": {
    "execution": {
     "iopub.execute_input": "2022-05-07T02:38:26.359655Z",
     "iopub.status.busy": "2022-05-07T02:38:26.358913Z",
     "iopub.status.idle": "2022-05-07T02:38:26.394183Z",
     "shell.execute_reply": "2022-05-07T02:38:26.393417Z"
    },
    "papermill": {
     "duration": 0.068232,
     "end_time": "2022-05-07T02:38:26.394331",
     "exception": false,
     "start_time": "2022-05-07T02:38:26.326099",
     "status": "completed"
    },
    "tags": []
   },
   "outputs": [],
   "source": [
    "#hide\n",
    "#Koreliacijos matrica. "
   ]
  },
  {
   "cell_type": "code",
   "execution_count": 12,
   "id": "modular-magnitude",
   "metadata": {
    "execution": {
     "iopub.execute_input": "2022-05-07T02:38:26.438858Z",
     "iopub.status.busy": "2022-05-07T02:38:26.438039Z",
     "iopub.status.idle": "2022-05-07T02:38:26.476344Z",
     "shell.execute_reply": "2022-05-07T02:38:26.476877Z"
    },
    "papermill": {
     "duration": 0.065274,
     "end_time": "2022-05-07T02:38:26.477052",
     "exception": false,
     "start_time": "2022-05-07T02:38:26.411778",
     "status": "completed"
    },
    "tags": []
   },
   "outputs": [],
   "source": [
    "#hide_input\n",
    "#plt.figure(figsize=(15, 8))\n",
    "#sns.heatmap(df_all_mrk[sum_corr].corr(), annot=True, cmap=\"BrBG\");\n",
    "#plt.savefig('corr_matrix_all.eps', format='eps')"
   ]
  },
  {
   "cell_type": "code",
   "execution_count": null,
   "id": "original-senator",
   "metadata": {
    "papermill": {
     "duration": 0.018509,
     "end_time": "2022-05-07T02:38:26.514576",
     "exception": false,
     "start_time": "2022-05-07T02:38:26.496067",
     "status": "completed"
    },
    "tags": []
   },
   "outputs": [],
   "source": []
  },
  {
   "cell_type": "code",
   "execution_count": null,
   "id": "saving-secretariat",
   "metadata": {
    "papermill": {
     "duration": 0.018441,
     "end_time": "2022-05-07T02:38:26.551423",
     "exception": false,
     "start_time": "2022-05-07T02:38:26.532982",
     "status": "completed"
    },
    "tags": []
   },
   "outputs": [],
   "source": []
  }
 ],
 "metadata": {
  "kernelspec": {
   "display_name": "Python 3",
   "language": "python",
   "name": "python3"
  },
  "language_info": {
   "codemirror_mode": {
    "name": "ipython",
    "version": 3
   },
   "file_extension": ".py",
   "mimetype": "text/x-python",
   "name": "python",
   "nbconvert_exporter": "python",
   "pygments_lexer": "ipython3",
   "version": "3.6.15"
  },
  "papermill": {
   "default_parameters": {},
   "duration": 17.185352,
   "end_time": "2022-05-07T02:38:27.291214",
   "environment_variables": {},
   "exception": null,
   "input_path": "App-Correlation_charts.ipynb",
   "output_path": "App-Correlation_charts.ipynb",
   "parameters": {},
   "start_time": "2022-05-07T02:38:10.105862",
   "version": "2.2.2"
  }
 },
 "nbformat": 4,
 "nbformat_minor": 5
}