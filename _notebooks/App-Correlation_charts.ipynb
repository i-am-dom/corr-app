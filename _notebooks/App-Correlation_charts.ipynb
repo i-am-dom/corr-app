{
 "cells": [
  {
   "cell_type": "markdown",
   "id": "touched-facility",
   "metadata": {
    "papermill": {
     "duration": 0.023511,
     "end_time": "2022-09-01T03:35:55.190417",
     "exception": false,
     "start_time": "2022-09-01T03:35:55.166906",
     "status": "completed"
    },
    "tags": []
   },
   "source": [
    "# Koreliacijų matrica\n",
    "> Išplėstinė koreliacijų matrica. \n",
    "\n",
    "- toc: true \n",
    "- badges: true\n",
    "- comments: false\n",
    "- categories: [Dominykas Tautkus]\n",
    "- image: images/matrix.png"
   ]
  },
  {
   "cell_type": "code",
   "execution_count": null,
   "id": "premium-weekend",
   "metadata": {
    "papermill": {
     "duration": 0.012778,
     "end_time": "2022-09-01T03:35:55.219378",
     "exception": false,
     "start_time": "2022-09-01T03:35:55.206600",
     "status": "completed"
    },
    "tags": []
   },
   "outputs": [],
   "source": []
  },
  {
   "cell_type": "code",
   "execution_count": 1,
   "id": "vertical-rebate",
   "metadata": {
    "execution": {
     "iopub.execute_input": "2022-09-01T03:35:55.263889Z",
     "iopub.status.busy": "2022-09-01T03:35:55.263108Z",
     "iopub.status.idle": "2022-09-01T03:35:55.275029Z",
     "shell.execute_reply": "2022-09-01T03:35:55.275574Z"
    },
    "papermill": {
     "duration": 0.037346,
     "end_time": "2022-09-01T03:35:55.275738",
     "exception": false,
     "start_time": "2022-09-01T03:35:55.238392",
     "status": "completed"
    },
    "tags": []
   },
   "outputs": [],
   "source": [
    "#hide\n",
    "%load_ext autoreload\n",
    "%autoreload 2"
   ]
  },
  {
   "cell_type": "code",
   "execution_count": 2,
   "id": "overall-advancement",
   "metadata": {
    "execution": {
     "iopub.execute_input": "2022-09-01T03:35:55.307193Z",
     "iopub.status.busy": "2022-09-01T03:35:55.306461Z",
     "iopub.status.idle": "2022-09-01T03:35:57.094570Z",
     "shell.execute_reply": "2022-09-01T03:35:57.093930Z"
    },
    "papermill": {
     "duration": 1.806006,
     "end_time": "2022-09-01T03:35:57.094725",
     "exception": false,
     "start_time": "2022-09-01T03:35:55.288719",
     "status": "completed"
    },
    "tags": []
   },
   "outputs": [],
   "source": [
    "#hide\n",
    "from scripts.read_data import read_api\n",
    "from IPython.display import HTML\n",
    "import plotly.graph_objects as go\n"
   ]
  },
  {
   "cell_type": "code",
   "execution_count": 3,
   "id": "light-crazy",
   "metadata": {
    "execution": {
     "iopub.execute_input": "2022-09-01T03:35:57.138035Z",
     "iopub.status.busy": "2022-09-01T03:35:57.135786Z",
     "iopub.status.idle": "2022-09-01T03:35:57.157484Z",
     "shell.execute_reply": "2022-09-01T03:35:57.156794Z"
    },
    "papermill": {
     "duration": 0.048922,
     "end_time": "2022-09-01T03:35:57.157625",
     "exception": false,
     "start_time": "2022-09-01T03:35:57.108703",
     "status": "completed"
    },
    "tags": []
   },
   "outputs": [],
   "source": [
    "#hide\n",
    "### ICO koreliacija"
   ]
  },
  {
   "cell_type": "code",
   "execution_count": 4,
   "id": "likely-bahrain",
   "metadata": {
    "execution": {
     "iopub.execute_input": "2022-09-01T03:35:57.196346Z",
     "iopub.status.busy": "2022-09-01T03:35:57.193623Z",
     "iopub.status.idle": "2022-09-01T03:35:58.229861Z",
     "shell.execute_reply": "2022-09-01T03:35:58.230491Z"
    },
    "papermill": {
     "duration": 1.059579,
     "end_time": "2022-09-01T03:35:58.230693",
     "exception": false,
     "start_time": "2022-09-01T03:35:57.171114",
     "status": "completed"
    },
    "tags": []
   },
   "outputs": [],
   "source": [
    "#hide\n",
    "import matplotlib.pyplot as plt\n",
    "import numpy as np\n",
    "import pandas as pd\n",
    "import seaborn as sns\n",
    "import matplotlib.pyplot as plt \n",
    "import matplotlib.dates as mdates\n",
    "import matplotlib.pyplot as plt"
   ]
  },
  {
   "cell_type": "code",
   "execution_count": 5,
   "id": "superior-blanket",
   "metadata": {
    "execution": {
     "iopub.execute_input": "2022-09-01T03:35:58.276280Z",
     "iopub.status.busy": "2022-09-01T03:35:58.275009Z",
     "iopub.status.idle": "2022-09-01T03:36:14.419671Z",
     "shell.execute_reply": "2022-09-01T03:36:14.419033Z"
    },
    "papermill": {
     "duration": 16.174134,
     "end_time": "2022-09-01T03:36:14.419835",
     "exception": false,
     "start_time": "2022-09-01T03:35:58.245701",
     "status": "completed"
    },
    "tags": []
   },
   "outputs": [
    {
     "name": "stderr",
     "output_type": "stream",
     "text": [
      "/home/runner/work/corr-app/corr-app/_notebooks/scripts/read_data.py:187: SettingWithCopyWarning:\n",
      "\n",
      "\n",
      "A value is trying to be set on a copy of a slice from a DataFrame.\n",
      "Try using .loc[row_indexer,col_indexer] = value instead\n",
      "\n",
      "See the caveats in the documentation: https://pandas.pydata.org/pandas-docs/stable/user_guide/indexing.html#returning-a-view-versus-a-copy\n",
      "\n"
     ]
    },
    {
     "name": "stderr",
     "output_type": "stream",
     "text": [
      "/home/runner/work/corr-app/corr-app/_notebooks/scripts/read_data.py:215: SettingWithCopyWarning:\n",
      "\n",
      "\n",
      "A value is trying to be set on a copy of a slice from a DataFrame.\n",
      "Try using .loc[row_indexer,col_indexer] = value instead\n",
      "\n",
      "See the caveats in the documentation: https://pandas.pydata.org/pandas-docs/stable/user_guide/indexing.html#returning-a-view-versus-a-copy\n",
      "\n"
     ]
    }
   ],
   "source": [
    "#hide\n",
    "df_all = read_api()\n",
    "#df_all = df_all.drop(['SP500', 'XAU', 'ETH', 'BTC'], axis=1)\n",
    "\n"
   ]
  },
  {
   "cell_type": "code",
   "execution_count": 6,
   "id": "mature-alert",
   "metadata": {
    "execution": {
     "iopub.execute_input": "2022-09-01T03:36:14.455507Z",
     "iopub.status.busy": "2022-09-01T03:36:14.454833Z",
     "iopub.status.idle": "2022-09-01T03:36:14.491303Z",
     "shell.execute_reply": "2022-09-01T03:36:14.491854Z"
    },
    "papermill": {
     "duration": 0.056679,
     "end_time": "2022-09-01T03:36:14.492001",
     "exception": false,
     "start_time": "2022-09-01T03:36:14.435322",
     "status": "completed"
    },
    "tags": []
   },
   "outputs": [],
   "source": [
    "#hide_input\n",
    "sum_corr = df_all.corr().sum().sort_values(ascending=True).index.values\n",
    "#df_all[sum_corr].corr()"
   ]
  },
  {
   "cell_type": "markdown",
   "id": "complex-syndicate",
   "metadata": {
    "papermill": {
     "duration": 0.015882,
     "end_time": "2022-09-01T03:36:14.521773",
     "exception": false,
     "start_time": "2022-09-01T03:36:14.505891",
     "status": "completed"
    },
    "tags": []
   },
   "source": [
    "## Išplėstinė koreliacijų matrica. "
   ]
  },
  {
   "cell_type": "code",
   "execution_count": 7,
   "id": "atomic-omaha",
   "metadata": {
    "execution": {
     "iopub.execute_input": "2022-09-01T03:36:14.557281Z",
     "iopub.status.busy": "2022-09-01T03:36:14.556372Z",
     "iopub.status.idle": "2022-09-01T03:36:16.151731Z",
     "shell.execute_reply": "2022-09-01T03:36:16.150947Z"
    },
    "papermill": {
     "duration": 1.613837,
     "end_time": "2022-09-01T03:36:16.151882",
     "exception": false,
     "start_time": "2022-09-01T03:36:14.538045",
     "status": "completed"
    },
    "tags": []
   },
   "outputs": [
    {
     "data": {
      "image/png": "[encoded data removed]",
      "text/plain": [
       "<Figure size 1080x792 with 2 Axes>"
      ]
     },
     "metadata": {
      "needs_background": "light"
     },
     "output_type": "display_data"
    }
   ],
   "source": [
    "#hide_input\n",
    "plt.figure(figsize=(15, 11))\n",
    "sns.heatmap(df_all[sum_corr].corr(), annot=True, cmap=\"cubehelix\") \n",
    "sns.set(font_scale=1.25)\n",
    "plt.savefig('corr_matrix.png', format='eps')"
   ]
  },
  {
   "cell_type": "code",
   "execution_count": 8,
   "id": "arbitrary-sullivan",
   "metadata": {
    "execution": {
     "iopub.execute_input": "2022-09-01T03:36:16.189610Z",
     "iopub.status.busy": "2022-09-01T03:36:16.188884Z",
     "iopub.status.idle": "2022-09-01T03:36:16.218350Z",
     "shell.execute_reply": "2022-09-01T03:36:16.218864Z"
    },
    "papermill": {
     "duration": 0.050955,
     "end_time": "2022-09-01T03:36:16.219026",
     "exception": false,
     "start_time": "2022-09-01T03:36:16.168071",
     "status": "completed"
    },
    "tags": []
   },
   "outputs": [],
   "source": [
    "#hide\n",
    "#df_all_mrk = read_api()"
   ]
  },
  {
   "cell_type": "code",
   "execution_count": 9,
   "id": "delayed-adapter",
   "metadata": {
    "execution": {
     "iopub.execute_input": "2022-09-01T03:36:16.268824Z",
     "iopub.status.busy": "2022-09-01T03:36:16.268078Z",
     "iopub.status.idle": "2022-09-01T03:36:16.296942Z",
     "shell.execute_reply": "2022-09-01T03:36:16.296308Z"
    },
    "papermill": {
     "duration": 0.061321,
     "end_time": "2022-09-01T03:36:16.297079",
     "exception": false,
     "start_time": "2022-09-01T03:36:16.235758",
     "status": "completed"
    },
    "tags": []
   },
   "outputs": [],
   "source": [
    "#hide\n",
    "#Koreliacijų koeficientai"
   ]
  },
  {
   "cell_type": "code",
   "execution_count": 10,
   "id": "seeing-celebration",
   "metadata": {
    "execution": {
     "iopub.execute_input": "2022-09-01T03:36:16.338405Z",
     "iopub.status.busy": "2022-09-01T03:36:16.337606Z",
     "iopub.status.idle": "2022-09-01T03:36:16.367021Z",
     "shell.execute_reply": "2022-09-01T03:36:16.366352Z"
    },
    "papermill": {
     "duration": 0.050623,
     "end_time": "2022-09-01T03:36:16.367152",
     "exception": false,
     "start_time": "2022-09-01T03:36:16.316529",
     "status": "completed"
    },
    "tags": []
   },
   "outputs": [],
   "source": [
    "#hide_input\n",
    "#sum_corr = df_all_mrk.corr().sum().sort_values(ascending=True).index.values\n",
    "#df_all_mrk[sum_corr].corr()"
   ]
  },
  {
   "cell_type": "code",
   "execution_count": 11,
   "id": "other-painting",
   "metadata": {
    "execution": {
     "iopub.execute_input": "2022-09-01T03:36:16.407879Z",
     "iopub.status.busy": "2022-09-01T03:36:16.407160Z",
     "iopub.status.idle": "2022-09-01T03:36:16.439592Z",
     "shell.execute_reply": "2022-09-01T03:36:16.438943Z"
    },
    "papermill": {
     "duration": 0.052692,
     "end_time": "2022-09-01T03:36:16.439741",
     "exception": false,
     "start_time": "2022-09-01T03:36:16.387049",
     "status": "completed"
    },
    "tags": []
   },
   "outputs": [],
   "source": [
    "#hide\n",
    "#Koreliacijos matrica. "
   ]
  },
  {
   "cell_type": "code",
   "execution_count": 12,
   "id": "modular-magnitude",
   "metadata": {
    "execution": {
     "iopub.execute_input": "2022-09-01T03:36:16.487278Z",
     "iopub.status.busy": "2022-09-01T03:36:16.486535Z",
     "iopub.status.idle": "2022-09-01T03:36:16.521365Z",
     "shell.execute_reply": "2022-09-01T03:36:16.520673Z"
    },
    "papermill": {
     "duration": 0.064977,
     "end_time": "2022-09-01T03:36:16.521523",
     "exception": false,
     "start_time": "2022-09-01T03:36:16.456546",
     "status": "completed"
    },
    "tags": []
   },
   "outputs": [],
   "source": [
    "#hide_input\n",
    "#plt.figure(figsize=(15, 8))\n",
    "#sns.heatmap(df_all_mrk[sum_corr].corr(), annot=True, cmap=\"BrBG\");\n",
    "#plt.savefig('corr_matrix_all.eps', format='eps')"
   ]
  },
  {
   "cell_type": "code",
   "execution_count": null,
   "id": "original-senator",
   "metadata": {
    "papermill": {
     "duration": 0.02063,
     "end_time": "2022-09-01T03:36:16.558005",
     "exception": false,
     "start_time": "2022-09-01T03:36:16.537375",
     "status": "completed"
    },
    "tags": []
   },
   "outputs": [],
   "source": []
  },
  {
   "cell_type": "code",
   "execution_count": null,
   "id": "saving-secretariat",
   "metadata": {
    "papermill": {
     "duration": 0.016343,
     "end_time": "2022-09-01T03:36:16.592293",
     "exception": false,
     "start_time": "2022-09-01T03:36:16.575950",
     "status": "completed"
    },
    "tags": []
   },
   "outputs": [],
   "source": []
  }
 ],
 "metadata": {
  "kernelspec": {
   "display_name": "Python 3",
   "language": "python",
   "name": "python3"
  },
  "language_info": {
   "codemirror_mode": {
    "name": "ipython",
    "version": 3
   },
   "file_extension": ".py",
   "mimetype": "text/x-python",
   "name": "python",
   "nbconvert_exporter": "python",
   "pygments_lexer": "ipython3",
   "version": "3.6.15"
  },
  "papermill": {
   "default_parameters": {},
   "duration": 23.283004,
   "end_time": "2022-09-01T03:36:17.129676",
   "environment_variables": {},
   "exception": null,
   "input_path": "App-Correlation_charts.ipynb",
   "output_path": "App-Correlation_charts.ipynb",
   "parameters": {},
   "start_time": "2022-09-01T03:35:53.846672",
   "version": "2.2.2"
  }
 },
 "nbformat": 4,
 "nbformat_minor": 5
}