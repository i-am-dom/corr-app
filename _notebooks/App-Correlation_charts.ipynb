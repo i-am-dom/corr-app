{
 "cells": [
  {
   "cell_type": "markdown",
   "id": "touched-facility",
   "metadata": {
    "papermill": {
     "duration": 0.016843,
     "end_time": "2021-12-08T02:02:38.799833",
     "exception": false,
     "start_time": "2021-12-08T02:02:38.782990",
     "status": "completed"
    },
    "tags": []
   },
   "source": [
    "# Koreliacijų matrica\n",
    "> Išplėstinė koreliacijų matrica. \n",
    "\n",
    "- toc: true \n",
    "- badges: true\n",
    "- comments: false\n",
    "- categories: [Dominykas Tautkus]\n",
    "- image: images/matrix.png"
   ]
  },
  {
   "cell_type": "code",
   "execution_count": null,
   "id": "premium-weekend",
   "metadata": {
    "papermill": {
     "duration": 0.01151,
     "end_time": "2021-12-08T02:02:38.823998",
     "exception": false,
     "start_time": "2021-12-08T02:02:38.812488",
     "status": "completed"
    },
    "tags": []
   },
   "outputs": [],
   "source": []
  },
  {
   "cell_type": "code",
   "execution_count": 1,
   "id": "vertical-rebate",
   "metadata": {
    "execution": {
     "iopub.execute_input": "2021-12-08T02:02:38.860758Z",
     "iopub.status.busy": "2021-12-08T02:02:38.860140Z",
     "iopub.status.idle": "2021-12-08T02:02:38.871600Z",
     "shell.execute_reply": "2021-12-08T02:02:38.871109Z"
    },
    "papermill": {
     "duration": 0.036323,
     "end_time": "2021-12-08T02:02:38.871741",
     "exception": false,
     "start_time": "2021-12-08T02:02:38.835418",
     "status": "completed"
    },
    "tags": []
   },
   "outputs": [],
   "source": [
    "#hide\n",
    "%load_ext autoreload\n",
    "%autoreload 2"
   ]
  },
  {
   "cell_type": "code",
   "execution_count": 2,
   "id": "overall-advancement",
   "metadata": {
    "execution": {
     "iopub.execute_input": "2021-12-08T02:02:38.899130Z",
     "iopub.status.busy": "2021-12-08T02:02:38.898573Z",
     "iopub.status.idle": "2021-12-08T02:02:40.191971Z",
     "shell.execute_reply": "2021-12-08T02:02:40.190823Z"
    },
    "papermill": {
     "duration": 1.308865,
     "end_time": "2021-12-08T02:02:40.192116",
     "exception": false,
     "start_time": "2021-12-08T02:02:38.883251",
     "status": "completed"
    },
    "tags": []
   },
   "outputs": [],
   "source": [
    "#hide\n",
    "from scripts.read_data import read_api\n",
    "from IPython.display import HTML\n",
    "import plotly.graph_objects as go\n"
   ]
  },
  {
   "cell_type": "code",
   "execution_count": 3,
   "id": "light-crazy",
   "metadata": {
    "execution": {
     "iopub.execute_input": "2021-12-08T02:02:40.219606Z",
     "iopub.status.busy": "2021-12-08T02:02:40.218856Z",
     "iopub.status.idle": "2021-12-08T02:02:40.243159Z",
     "shell.execute_reply": "2021-12-08T02:02:40.242303Z"
    },
    "papermill": {
     "duration": 0.039903,
     "end_time": "2021-12-08T02:02:40.243354",
     "exception": false,
     "start_time": "2021-12-08T02:02:40.203451",
     "status": "completed"
    },
    "tags": []
   },
   "outputs": [],
   "source": [
    "#hide\n",
    "### ICO koreliacija"
   ]
  },
  {
   "cell_type": "code",
   "execution_count": 4,
   "id": "likely-bahrain",
   "metadata": {
    "execution": {
     "iopub.execute_input": "2021-12-08T02:02:40.272860Z",
     "iopub.status.busy": "2021-12-08T02:02:40.272260Z",
     "iopub.status.idle": "2021-12-08T02:02:41.329870Z",
     "shell.execute_reply": "2021-12-08T02:02:41.328932Z"
    },
    "papermill": {
     "duration": 1.073699,
     "end_time": "2021-12-08T02:02:41.330100",
     "exception": false,
     "start_time": "2021-12-08T02:02:40.256401",
     "status": "completed"
    },
    "tags": []
   },
   "outputs": [],
   "source": [
    "#hide\n",
    "import matplotlib.pyplot as plt\n",
    "import numpy as np\n",
    "import pandas as pd\n",
    "import seaborn as sns\n",
    "import matplotlib.pyplot as plt \n",
    "import matplotlib.dates as mdates\n",
    "import matplotlib.pyplot as plt"
   ]
  },
  {
   "cell_type": "code",
   "execution_count": 5,
   "id": "superior-blanket",
   "metadata": {
    "execution": {
     "iopub.execute_input": "2021-12-08T02:02:41.360057Z",
     "iopub.status.busy": "2021-12-08T02:02:41.359455Z",
     "iopub.status.idle": "2021-12-08T02:02:52.560752Z",
     "shell.execute_reply": "2021-12-08T02:02:52.560131Z"
    },
    "papermill": {
     "duration": 11.218575,
     "end_time": "2021-12-08T02:02:52.560891",
     "exception": false,
     "start_time": "2021-12-08T02:02:41.342316",
     "status": "completed"
    },
    "tags": []
   },
   "outputs": [
    {
     "name": "stderr",
     "output_type": "stream",
     "text": [
      "/home/runner/work/corr-app/corr-app/_notebooks/scripts/read_data.py:187: SettingWithCopyWarning:\n",
      "\n",
      "\n",
      "A value is trying to be set on a copy of a slice from a DataFrame.\n",
      "Try using .loc[row_indexer,col_indexer] = value instead\n",
      "\n",
      "See the caveats in the documentation: https://pandas.pydata.org/pandas-docs/stable/user_guide/indexing.html#returning-a-view-versus-a-copy\n",
      "\n"
     ]
    },
    {
     "name": "stderr",
     "output_type": "stream",
     "text": [
      "/home/runner/work/corr-app/corr-app/_notebooks/scripts/read_data.py:215: SettingWithCopyWarning:\n",
      "\n",
      "\n",
      "A value is trying to be set on a copy of a slice from a DataFrame.\n",
      "Try using .loc[row_indexer,col_indexer] = value instead\n",
      "\n",
      "See the caveats in the documentation: https://pandas.pydata.org/pandas-docs/stable/user_guide/indexing.html#returning-a-view-versus-a-copy\n",
      "\n"
     ]
    }
   ],
   "source": [
    "#hide\n",
    "df_all = read_api()\n",
    "#df_all = df_all.drop(['SP500', 'XAU', 'ETH', 'BTC'], axis=1)\n",
    "\n"
   ]
  },
  {
   "cell_type": "code",
   "execution_count": 6,
   "id": "mature-alert",
   "metadata": {
    "execution": {
     "iopub.execute_input": "2021-12-08T02:02:52.593026Z",
     "iopub.status.busy": "2021-12-08T02:02:52.592392Z",
     "iopub.status.idle": "2021-12-08T02:02:52.627086Z",
     "shell.execute_reply": "2021-12-08T02:02:52.626554Z"
    },
    "papermill": {
     "duration": 0.053184,
     "end_time": "2021-12-08T02:02:52.627216",
     "exception": false,
     "start_time": "2021-12-08T02:02:52.574032",
     "status": "completed"
    },
    "tags": []
   },
   "outputs": [],
   "source": [
    "#hide_input\n",
    "sum_corr = df_all.corr().sum().sort_values(ascending=True).index.values\n",
    "#df_all[sum_corr].corr()"
   ]
  },
  {
   "cell_type": "markdown",
   "id": "complex-syndicate",
   "metadata": {
    "papermill": {
     "duration": 0.012699,
     "end_time": "2021-12-08T02:02:52.653067",
     "exception": false,
     "start_time": "2021-12-08T02:02:52.640368",
     "status": "completed"
    },
    "tags": []
   },
   "source": [
    "## Išplėstinė koreliacijų matrica. "
   ]
  },
  {
   "cell_type": "code",
   "execution_count": 7,
   "id": "atomic-omaha",
   "metadata": {
    "execution": {
     "iopub.execute_input": "2021-12-08T02:02:52.683657Z",
     "iopub.status.busy": "2021-12-08T02:02:52.682493Z",
     "iopub.status.idle": "2021-12-08T02:02:53.996443Z",
     "shell.execute_reply": "2021-12-08T02:02:53.996026Z"
    },
    "papermill": {
     "duration": 1.330749,
     "end_time": "2021-12-08T02:02:53.996571",
     "exception": false,
     "start_time": "2021-12-08T02:02:52.665822",
     "status": "completed"
    },
    "tags": []
   },
   "outputs": [
    {
     "data": {
      "image/png": "[encoded data removed]",
      "text/plain": [
       "<Figure size 1080x792 with 2 Axes>"
      ]
     },
     "metadata": {
      "needs_background": "light"
     },
     "output_type": "display_data"
    }
   ],
   "source": [
    "#hide_input\n",
    "plt.figure(figsize=(15, 11))\n",
    "sns.heatmap(df_all[sum_corr].corr(), annot=True, cmap=\"cubehelix\") \n",
    "sns.set(font_scale=1.25)\n",
    "plt.savefig('corr_matrix.png', format='eps')"
   ]
  },
  {
   "cell_type": "code",
   "execution_count": 8,
   "id": "arbitrary-sullivan",
   "metadata": {
    "execution": {
     "iopub.execute_input": "2021-12-08T02:02:54.027338Z",
     "iopub.status.busy": "2021-12-08T02:02:54.026781Z",
     "iopub.status.idle": "2021-12-08T02:02:54.056984Z",
     "shell.execute_reply": "2021-12-08T02:02:54.056195Z"
    },
    "papermill": {
     "duration": 0.047252,
     "end_time": "2021-12-08T02:02:54.057181",
     "exception": false,
     "start_time": "2021-12-08T02:02:54.009929",
     "status": "completed"
    },
    "tags": []
   },
   "outputs": [],
   "source": [
    "#hide\n",
    "#df_all_mrk = read_api()"
   ]
  },
  {
   "cell_type": "code",
   "execution_count": 9,
   "id": "delayed-adapter",
   "metadata": {
    "execution": {
     "iopub.execute_input": "2021-12-08T02:02:54.091495Z",
     "iopub.status.busy": "2021-12-08T02:02:54.090460Z",
     "iopub.status.idle": "2021-12-08T02:02:54.116528Z",
     "shell.execute_reply": "2021-12-08T02:02:54.115793Z"
    },
    "papermill": {
     "duration": 0.044233,
     "end_time": "2021-12-08T02:02:54.116698",
     "exception": false,
     "start_time": "2021-12-08T02:02:54.072465",
     "status": "completed"
    },
    "tags": []
   },
   "outputs": [],
   "source": [
    "#hide\n",
    "#Koreliacijų koeficientai"
   ]
  },
  {
   "cell_type": "code",
   "execution_count": 10,
   "id": "seeing-celebration",
   "metadata": {
    "execution": {
     "iopub.execute_input": "2021-12-08T02:02:54.150895Z",
     "iopub.status.busy": "2021-12-08T02:02:54.150341Z",
     "iopub.status.idle": "2021-12-08T02:02:54.178236Z",
     "shell.execute_reply": "2021-12-08T02:02:54.177575Z"
    },
    "papermill": {
     "duration": 0.045114,
     "end_time": "2021-12-08T02:02:54.178385",
     "exception": false,
     "start_time": "2021-12-08T02:02:54.133271",
     "status": "completed"
    },
    "tags": []
   },
   "outputs": [],
   "source": [
    "#hide_input\n",
    "#sum_corr = df_all_mrk.corr().sum().sort_values(ascending=True).index.values\n",
    "#df_all_mrk[sum_corr].corr()"
   ]
  },
  {
   "cell_type": "code",
   "execution_count": 11,
   "id": "other-painting",
   "metadata": {
    "execution": {
     "iopub.execute_input": "2021-12-08T02:02:54.213824Z",
     "iopub.status.busy": "2021-12-08T02:02:54.213217Z",
     "iopub.status.idle": "2021-12-08T02:02:54.239872Z",
     "shell.execute_reply": "2021-12-08T02:02:54.239289Z"
    },
    "papermill": {
     "duration": 0.046568,
     "end_time": "2021-12-08T02:02:54.240026",
     "exception": false,
     "start_time": "2021-12-08T02:02:54.193458",
     "status": "completed"
    },
    "tags": []
   },
   "outputs": [],
   "source": [
    "#hide\n",
    "#Koreliacijos matrica. "
   ]
  },
  {
   "cell_type": "code",
   "execution_count": 12,
   "id": "modular-magnitude",
   "metadata": {
    "execution": {
     "iopub.execute_input": "2021-12-08T02:02:54.271868Z",
     "iopub.status.busy": "2021-12-08T02:02:54.271266Z",
     "iopub.status.idle": "2021-12-08T02:02:54.298550Z",
     "shell.execute_reply": "2021-12-08T02:02:54.299167Z"
    },
    "papermill": {
     "duration": 0.044068,
     "end_time": "2021-12-08T02:02:54.299351",
     "exception": false,
     "start_time": "2021-12-08T02:02:54.255283",
     "status": "completed"
    },
    "tags": []
   },
   "outputs": [],
   "source": [
    "#hide_input\n",
    "#plt.figure(figsize=(15, 8))\n",
    "#sns.heatmap(df_all_mrk[sum_corr].corr(), annot=True, cmap=\"BrBG\");\n",
    "#plt.savefig('corr_matrix_all.eps', format='eps')"
   ]
  },
  {
   "cell_type": "code",
   "execution_count": null,
   "id": "original-senator",
   "metadata": {
    "papermill": {
     "duration": 0.014159,
     "end_time": "2021-12-08T02:02:54.329489",
     "exception": false,
     "start_time": "2021-12-08T02:02:54.315330",
     "status": "completed"
    },
    "tags": []
   },
   "outputs": [],
   "source": []
  },
  {
   "cell_type": "code",
   "execution_count": null,
   "id": "saving-secretariat",
   "metadata": {
    "papermill": {
     "duration": 0.014505,
     "end_time": "2021-12-08T02:02:54.357124",
     "exception": false,
     "start_time": "2021-12-08T02:02:54.342619",
     "status": "completed"
    },
    "tags": []
   },
   "outputs": [],
   "source": []
  }
 ],
 "metadata": {
  "kernelspec": {
   "display_name": "Python 3",
   "language": "python",
   "name": "python3"
  },
  "language_info": {
   "codemirror_mode": {
    "name": "ipython",
    "version": 3
   },
   "file_extension": ".py",
   "mimetype": "text/x-python",
   "name": "python",
   "nbconvert_exporter": "python",
   "pygments_lexer": "ipython3",
   "version": "3.6.15"
  },
  "papermill": {
   "default_parameters": {},
   "duration": 17.386389,
   "end_time": "2021-12-08T02:02:54.880885",
   "environment_variables": {},
   "exception": null,
   "input_path": "App-Correlation_charts.ipynb",
   "output_path": "App-Correlation_charts.ipynb",
   "parameters": {},
   "start_time": "2021-12-08T02:02:37.494496",
   "version": "2.2.2"
  }
 },
 "nbformat": 4,
 "nbformat_minor": 5
}