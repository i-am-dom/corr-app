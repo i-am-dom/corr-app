{
 "cells": [
  {
   "cell_type": "markdown",
   "id": "touched-facility",
   "metadata": {
    "papermill": {
     "duration": 0.014423,
     "end_time": "2022-08-21T03:15:43.272527",
     "exception": false,
     "start_time": "2022-08-21T03:15:43.258104",
     "status": "completed"
    },
    "tags": []
   },
   "source": [
    "# Koreliacijų matrica\n",
    "> Išplėstinė koreliacijų matrica. \n",
    "\n",
    "- toc: true \n",
    "- badges: true\n",
    "- comments: false\n",
    "- categories: [Dominykas Tautkus]\n",
    "- image: images/matrix.png"
   ]
  },
  {
   "cell_type": "code",
   "execution_count": null,
   "id": "premium-weekend",
   "metadata": {
    "papermill": {
     "duration": 0.011022,
     "end_time": "2022-08-21T03:15:43.295209",
     "exception": false,
     "start_time": "2022-08-21T03:15:43.284187",
     "status": "completed"
    },
    "tags": []
   },
   "outputs": [],
   "source": []
  },
  {
   "cell_type": "code",
   "execution_count": 1,
   "id": "vertical-rebate",
   "metadata": {
    "execution": {
     "iopub.execute_input": "2022-08-21T03:15:43.327428Z",
     "iopub.status.busy": "2022-08-21T03:15:43.326832Z",
     "iopub.status.idle": "2022-08-21T03:15:43.337666Z",
     "shell.execute_reply": "2022-08-21T03:15:43.337165Z"
    },
    "papermill": {
     "duration": 0.031578,
     "end_time": "2022-08-21T03:15:43.337783",
     "exception": false,
     "start_time": "2022-08-21T03:15:43.306205",
     "status": "completed"
    },
    "tags": []
   },
   "outputs": [],
   "source": [
    "#hide\n",
    "%load_ext autoreload\n",
    "%autoreload 2"
   ]
  },
  {
   "cell_type": "code",
   "execution_count": 2,
   "id": "overall-advancement",
   "metadata": {
    "execution": {
     "iopub.execute_input": "2022-08-21T03:15:43.363870Z",
     "iopub.status.busy": "2022-08-21T03:15:43.363302Z",
     "iopub.status.idle": "2022-08-21T03:15:44.784675Z",
     "shell.execute_reply": "2022-08-21T03:15:44.783690Z"
    },
    "papermill": {
     "duration": 1.436001,
     "end_time": "2022-08-21T03:15:44.784800",
     "exception": false,
     "start_time": "2022-08-21T03:15:43.348799",
     "status": "completed"
    },
    "tags": []
   },
   "outputs": [],
   "source": [
    "#hide\n",
    "from scripts.read_data import read_api\n",
    "from IPython.display import HTML\n",
    "import plotly.graph_objects as go\n"
   ]
  },
  {
   "cell_type": "code",
   "execution_count": 3,
   "id": "light-crazy",
   "metadata": {
    "execution": {
     "iopub.execute_input": "2022-08-21T03:15:44.814983Z",
     "iopub.status.busy": "2022-08-21T03:15:44.811834Z",
     "iopub.status.idle": "2022-08-21T03:15:44.834659Z",
     "shell.execute_reply": "2022-08-21T03:15:44.835092Z"
    },
    "papermill": {
     "duration": 0.039218,
     "end_time": "2022-08-21T03:15:44.835225",
     "exception": false,
     "start_time": "2022-08-21T03:15:44.796007",
     "status": "completed"
    },
    "tags": []
   },
   "outputs": [],
   "source": [
    "#hide\n",
    "### ICO koreliacija"
   ]
  },
  {
   "cell_type": "code",
   "execution_count": 4,
   "id": "likely-bahrain",
   "metadata": {
    "execution": {
     "iopub.execute_input": "2022-08-21T03:15:44.865509Z",
     "iopub.status.busy": "2022-08-21T03:15:44.864923Z",
     "iopub.status.idle": "2022-08-21T03:15:45.722356Z",
     "shell.execute_reply": "2022-08-21T03:15:45.721371Z"
    },
    "papermill": {
     "duration": 0.872006,
     "end_time": "2022-08-21T03:15:45.722484",
     "exception": false,
     "start_time": "2022-08-21T03:15:44.850478",
     "status": "completed"
    },
    "tags": []
   },
   "outputs": [],
   "source": [
    "#hide\n",
    "import matplotlib.pyplot as plt\n",
    "import numpy as np\n",
    "import pandas as pd\n",
    "import seaborn as sns\n",
    "import matplotlib.pyplot as plt \n",
    "import matplotlib.dates as mdates\n",
    "import matplotlib.pyplot as plt"
   ]
  },
  {
   "cell_type": "code",
   "execution_count": 5,
   "id": "superior-blanket",
   "metadata": {
    "execution": {
     "iopub.execute_input": "2022-08-21T03:15:45.751876Z",
     "iopub.status.busy": "2022-08-21T03:15:45.749258Z",
     "iopub.status.idle": "2022-08-21T03:15:58.526921Z",
     "shell.execute_reply": "2022-08-21T03:15:58.525728Z"
    },
    "papermill": {
     "duration": 12.793387,
     "end_time": "2022-08-21T03:15:58.527042",
     "exception": false,
     "start_time": "2022-08-21T03:15:45.733655",
     "status": "completed"
    },
    "tags": []
   },
   "outputs": [
    {
     "name": "stderr",
     "output_type": "stream",
     "text": [
      "/home/runner/work/corr-app/corr-app/_notebooks/scripts/read_data.py:187: SettingWithCopyWarning:\n",
      "\n",
      "\n",
      "A value is trying to be set on a copy of a slice from a DataFrame.\n",
      "Try using .loc[row_indexer,col_indexer] = value instead\n",
      "\n",
      "See the caveats in the documentation: https://pandas.pydata.org/pandas-docs/stable/user_guide/indexing.html#returning-a-view-versus-a-copy\n",
      "\n"
     ]
    },
    {
     "name": "stderr",
     "output_type": "stream",
     "text": [
      "/home/runner/work/corr-app/corr-app/_notebooks/scripts/read_data.py:215: SettingWithCopyWarning:\n",
      "\n",
      "\n",
      "A value is trying to be set on a copy of a slice from a DataFrame.\n",
      "Try using .loc[row_indexer,col_indexer] = value instead\n",
      "\n",
      "See the caveats in the documentation: https://pandas.pydata.org/pandas-docs/stable/user_guide/indexing.html#returning-a-view-versus-a-copy\n",
      "\n"
     ]
    }
   ],
   "source": [
    "#hide\n",
    "df_all = read_api()\n",
    "#df_all = df_all.drop(['SP500', 'XAU', 'ETH', 'BTC'], axis=1)\n",
    "\n"
   ]
  },
  {
   "cell_type": "code",
   "execution_count": 6,
   "id": "mature-alert",
   "metadata": {
    "execution": {
     "iopub.execute_input": "2022-08-21T03:15:58.558142Z",
     "iopub.status.busy": "2022-08-21T03:15:58.556854Z",
     "iopub.status.idle": "2022-08-21T03:15:58.586202Z",
     "shell.execute_reply": "2022-08-21T03:15:58.585695Z"
    },
    "papermill": {
     "duration": 0.046385,
     "end_time": "2022-08-21T03:15:58.586323",
     "exception": false,
     "start_time": "2022-08-21T03:15:58.539938",
     "status": "completed"
    },
    "tags": []
   },
   "outputs": [],
   "source": [
    "#hide_input\n",
    "sum_corr = df_all.corr().sum().sort_values(ascending=True).index.values\n",
    "#df_all[sum_corr].corr()"
   ]
  },
  {
   "cell_type": "markdown",
   "id": "complex-syndicate",
   "metadata": {
    "papermill": {
     "duration": 0.011535,
     "end_time": "2022-08-21T03:15:58.609424",
     "exception": false,
     "start_time": "2022-08-21T03:15:58.597889",
     "status": "completed"
    },
    "tags": []
   },
   "source": [
    "## Išplėstinė koreliacijų matrica. "
   ]
  },
  {
   "cell_type": "code",
   "execution_count": 7,
   "id": "atomic-omaha",
   "metadata": {
    "execution": {
     "iopub.execute_input": "2022-08-21T03:15:58.636531Z",
     "iopub.status.busy": "2022-08-21T03:15:58.635958Z",
     "iopub.status.idle": "2022-08-21T03:15:59.761652Z",
     "shell.execute_reply": "2022-08-21T03:15:59.760738Z"
    },
    "papermill": {
     "duration": 1.140718,
     "end_time": "2022-08-21T03:15:59.761773",
     "exception": false,
     "start_time": "2022-08-21T03:15:58.621055",
     "status": "completed"
    },
    "tags": []
   },
   "outputs": [
    {
     "data": {
      "image/png": "[encoded data removed]",
      "text/plain": [
       "<Figure size 1080x792 with 2 Axes>"
      ]
     },
     "metadata": {
      "needs_background": "light"
     },
     "output_type": "display_data"
    }
   ],
   "source": [
    "#hide_input\n",
    "plt.figure(figsize=(15, 11))\n",
    "sns.heatmap(df_all[sum_corr].corr(), annot=True, cmap=\"cubehelix\") \n",
    "sns.set(font_scale=1.25)\n",
    "plt.savefig('corr_matrix.png', format='eps')"
   ]
  },
  {
   "cell_type": "code",
   "execution_count": 8,
   "id": "arbitrary-sullivan",
   "metadata": {
    "execution": {
     "iopub.execute_input": "2022-08-21T03:15:59.796094Z",
     "iopub.status.busy": "2022-08-21T03:15:59.793715Z",
     "iopub.status.idle": "2022-08-21T03:15:59.821161Z",
     "shell.execute_reply": "2022-08-21T03:15:59.820189Z"
    },
    "papermill": {
     "duration": 0.045647,
     "end_time": "2022-08-21T03:15:59.821286",
     "exception": false,
     "start_time": "2022-08-21T03:15:59.775639",
     "status": "completed"
    },
    "tags": []
   },
   "outputs": [],
   "source": [
    "#hide\n",
    "#df_all_mrk = read_api()"
   ]
  },
  {
   "cell_type": "code",
   "execution_count": 9,
   "id": "delayed-adapter",
   "metadata": {
    "execution": {
     "iopub.execute_input": "2022-08-21T03:15:59.852218Z",
     "iopub.status.busy": "2022-08-21T03:15:59.851334Z",
     "iopub.status.idle": "2022-08-21T03:15:59.877460Z",
     "shell.execute_reply": "2022-08-21T03:15:59.877005Z"
    },
    "papermill": {
     "duration": 0.04263,
     "end_time": "2022-08-21T03:15:59.877573",
     "exception": false,
     "start_time": "2022-08-21T03:15:59.834943",
     "status": "completed"
    },
    "tags": []
   },
   "outputs": [],
   "source": [
    "#hide\n",
    "#Koreliacijų koeficientai"
   ]
  },
  {
   "cell_type": "code",
   "execution_count": 10,
   "id": "seeing-celebration",
   "metadata": {
    "execution": {
     "iopub.execute_input": "2022-08-21T03:15:59.912876Z",
     "iopub.status.busy": "2022-08-21T03:15:59.909909Z",
     "iopub.status.idle": "2022-08-21T03:15:59.937987Z",
     "shell.execute_reply": "2022-08-21T03:15:59.937201Z"
    },
    "papermill": {
     "duration": 0.046703,
     "end_time": "2022-08-21T03:15:59.938122",
     "exception": false,
     "start_time": "2022-08-21T03:15:59.891419",
     "status": "completed"
    },
    "tags": []
   },
   "outputs": [],
   "source": [
    "#hide_input\n",
    "#sum_corr = df_all_mrk.corr().sum().sort_values(ascending=True).index.values\n",
    "#df_all_mrk[sum_corr].corr()"
   ]
  },
  {
   "cell_type": "code",
   "execution_count": 11,
   "id": "other-painting",
   "metadata": {
    "execution": {
     "iopub.execute_input": "2022-08-21T03:15:59.968890Z",
     "iopub.status.busy": "2022-08-21T03:15:59.968320Z",
     "iopub.status.idle": "2022-08-21T03:15:59.994628Z",
     "shell.execute_reply": "2022-08-21T03:15:59.994154Z"
    },
    "papermill": {
     "duration": 0.0431,
     "end_time": "2022-08-21T03:15:59.994742",
     "exception": false,
     "start_time": "2022-08-21T03:15:59.951642",
     "status": "completed"
    },
    "tags": []
   },
   "outputs": [],
   "source": [
    "#hide\n",
    "#Koreliacijos matrica. "
   ]
  },
  {
   "cell_type": "code",
   "execution_count": 12,
   "id": "modular-magnitude",
   "metadata": {
    "execution": {
     "iopub.execute_input": "2022-08-21T03:16:00.025746Z",
     "iopub.status.busy": "2022-08-21T03:16:00.025163Z",
     "iopub.status.idle": "2022-08-21T03:16:00.052630Z",
     "shell.execute_reply": "2022-08-21T03:16:00.052151Z"
    },
    "papermill": {
     "duration": 0.044342,
     "end_time": "2022-08-21T03:16:00.052740",
     "exception": false,
     "start_time": "2022-08-21T03:16:00.008398",
     "status": "completed"
    },
    "tags": []
   },
   "outputs": [],
   "source": [
    "#hide_input\n",
    "#plt.figure(figsize=(15, 8))\n",
    "#sns.heatmap(df_all_mrk[sum_corr].corr(), annot=True, cmap=\"BrBG\");\n",
    "#plt.savefig('corr_matrix_all.eps', format='eps')"
   ]
  },
  {
   "cell_type": "code",
   "execution_count": null,
   "id": "original-senator",
   "metadata": {
    "papermill": {
     "duration": 0.013473,
     "end_time": "2022-08-21T03:16:00.079847",
     "exception": false,
     "start_time": "2022-08-21T03:16:00.066374",
     "status": "completed"
    },
    "tags": []
   },
   "outputs": [],
   "source": []
  },
  {
   "cell_type": "code",
   "execution_count": null,
   "id": "saving-secretariat",
   "metadata": {
    "papermill": {
     "duration": 0.013398,
     "end_time": "2022-08-21T03:16:00.106694",
     "exception": false,
     "start_time": "2022-08-21T03:16:00.093296",
     "status": "completed"
    },
    "tags": []
   },
   "outputs": [],
   "source": []
  }
 ],
 "metadata": {
  "kernelspec": {
   "display_name": "Python 3",
   "language": "python",
   "name": "python3"
  },
  "language_info": {
   "codemirror_mode": {
    "name": "ipython",
    "version": 3
   },
   "file_extension": ".py",
   "mimetype": "text/x-python",
   "name": "python",
   "nbconvert_exporter": "python",
   "pygments_lexer": "ipython3",
   "version": "3.6.15"
  },
  "papermill": {
   "default_parameters": {},
   "duration": 18.522513,
   "end_time": "2022-08-21T03:16:00.639255",
   "environment_variables": {},
   "exception": null,
   "input_path": "App-Correlation_charts.ipynb",
   "output_path": "App-Correlation_charts.ipynb",
   "parameters": {},
   "start_time": "2022-08-21T03:15:42.116742",
   "version": "2.2.2"
  }
 },
 "nbformat": 4,
 "nbformat_minor": 5
}