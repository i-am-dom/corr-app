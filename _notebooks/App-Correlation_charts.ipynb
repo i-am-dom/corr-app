{
 "cells": [
  {
   "cell_type": "markdown",
   "id": "touched-facility",
   "metadata": {
    "papermill": {
     "duration": 0.019391,
     "end_time": "2022-01-21T01:59:26.853758",
     "exception": false,
     "start_time": "2022-01-21T01:59:26.834367",
     "status": "completed"
    },
    "tags": []
   },
   "source": [
    "# Koreliacijų matrica\n",
    "> Išplėstinė koreliacijų matrica. \n",
    "\n",
    "- toc: true \n",
    "- badges: true\n",
    "- comments: false\n",
    "- categories: [Dominykas Tautkus]\n",
    "- image: images/matrix.png"
   ]
  },
  {
   "cell_type": "code",
   "execution_count": null,
   "id": "premium-weekend",
   "metadata": {
    "papermill": {
     "duration": 0.014754,
     "end_time": "2022-01-21T01:59:26.883318",
     "exception": false,
     "start_time": "2022-01-21T01:59:26.868564",
     "status": "completed"
    },
    "tags": []
   },
   "outputs": [],
   "source": []
  },
  {
   "cell_type": "code",
   "execution_count": 1,
   "id": "vertical-rebate",
   "metadata": {
    "execution": {
     "iopub.execute_input": "2022-01-21T01:59:26.924085Z",
     "iopub.status.busy": "2022-01-21T01:59:26.923268Z",
     "iopub.status.idle": "2022-01-21T01:59:26.936553Z",
     "shell.execute_reply": "2022-01-21T01:59:26.935824Z"
    },
    "papermill": {
     "duration": 0.039666,
     "end_time": "2022-01-21T01:59:26.936714",
     "exception": false,
     "start_time": "2022-01-21T01:59:26.897048",
     "status": "completed"
    },
    "tags": []
   },
   "outputs": [],
   "source": [
    "#hide\n",
    "%load_ext autoreload\n",
    "%autoreload 2"
   ]
  },
  {
   "cell_type": "code",
   "execution_count": 2,
   "id": "overall-advancement",
   "metadata": {
    "execution": {
     "iopub.execute_input": "2022-01-21T01:59:26.973614Z",
     "iopub.status.busy": "2022-01-21T01:59:26.972719Z",
     "iopub.status.idle": "2022-01-21T01:59:28.507843Z",
     "shell.execute_reply": "2022-01-21T01:59:28.507256Z"
    },
    "papermill": {
     "duration": 1.556667,
     "end_time": "2022-01-21T01:59:28.507974",
     "exception": false,
     "start_time": "2022-01-21T01:59:26.951307",
     "status": "completed"
    },
    "tags": []
   },
   "outputs": [],
   "source": [
    "#hide\n",
    "from scripts.read_data import read_api\n",
    "from IPython.display import HTML\n",
    "import plotly.graph_objects as go\n"
   ]
  },
  {
   "cell_type": "code",
   "execution_count": 3,
   "id": "light-crazy",
   "metadata": {
    "execution": {
     "iopub.execute_input": "2022-01-21T01:59:28.545893Z",
     "iopub.status.busy": "2022-01-21T01:59:28.545164Z",
     "iopub.status.idle": "2022-01-21T01:59:28.571993Z",
     "shell.execute_reply": "2022-01-21T01:59:28.571418Z"
    },
    "papermill": {
     "duration": 0.047812,
     "end_time": "2022-01-21T01:59:28.572167",
     "exception": false,
     "start_time": "2022-01-21T01:59:28.524355",
     "status": "completed"
    },
    "tags": []
   },
   "outputs": [],
   "source": [
    "#hide\n",
    "### ICO koreliacija"
   ]
  },
  {
   "cell_type": "code",
   "execution_count": 4,
   "id": "likely-bahrain",
   "metadata": {
    "execution": {
     "iopub.execute_input": "2022-01-21T01:59:28.605355Z",
     "iopub.status.busy": "2022-01-21T01:59:28.604679Z",
     "iopub.status.idle": "2022-01-21T01:59:29.786704Z",
     "shell.execute_reply": "2022-01-21T01:59:29.787312Z"
    },
    "papermill": {
     "duration": 1.201086,
     "end_time": "2022-01-21T01:59:29.787498",
     "exception": false,
     "start_time": "2022-01-21T01:59:28.586412",
     "status": "completed"
    },
    "tags": []
   },
   "outputs": [],
   "source": [
    "#hide\n",
    "import matplotlib.pyplot as plt\n",
    "import numpy as np\n",
    "import pandas as pd\n",
    "import seaborn as sns\n",
    "import matplotlib.pyplot as plt \n",
    "import matplotlib.dates as mdates\n",
    "import matplotlib.pyplot as plt"
   ]
  },
  {
   "cell_type": "code",
   "execution_count": 5,
   "id": "superior-blanket",
   "metadata": {
    "execution": {
     "iopub.execute_input": "2022-01-21T01:59:29.831148Z",
     "iopub.status.busy": "2022-01-21T01:59:29.830405Z",
     "iopub.status.idle": "2022-01-21T01:59:45.607802Z",
     "shell.execute_reply": "2022-01-21T01:59:45.608319Z"
    },
    "papermill": {
     "duration": 15.80613,
     "end_time": "2022-01-21T01:59:45.608474",
     "exception": false,
     "start_time": "2022-01-21T01:59:29.802344",
     "status": "completed"
    },
    "tags": []
   },
   "outputs": [
    {
     "name": "stderr",
     "output_type": "stream",
     "text": [
      "/home/runner/work/corr-app/corr-app/_notebooks/scripts/read_data.py:187: SettingWithCopyWarning:\n",
      "\n",
      "\n",
      "A value is trying to be set on a copy of a slice from a DataFrame.\n",
      "Try using .loc[row_indexer,col_indexer] = value instead\n",
      "\n",
      "See the caveats in the documentation: https://pandas.pydata.org/pandas-docs/stable/user_guide/indexing.html#returning-a-view-versus-a-copy\n",
      "\n"
     ]
    },
    {
     "name": "stderr",
     "output_type": "stream",
     "text": [
      "/home/runner/work/corr-app/corr-app/_notebooks/scripts/read_data.py:215: SettingWithCopyWarning:\n",
      "\n",
      "\n",
      "A value is trying to be set on a copy of a slice from a DataFrame.\n",
      "Try using .loc[row_indexer,col_indexer] = value instead\n",
      "\n",
      "See the caveats in the documentation: https://pandas.pydata.org/pandas-docs/stable/user_guide/indexing.html#returning-a-view-versus-a-copy\n",
      "\n"
     ]
    }
   ],
   "source": [
    "#hide\n",
    "df_all = read_api()\n",
    "#df_all = df_all.drop(['SP500', 'XAU', 'ETH', 'BTC'], axis=1)\n",
    "\n"
   ]
  },
  {
   "cell_type": "code",
   "execution_count": 6,
   "id": "mature-alert",
   "metadata": {
    "execution": {
     "iopub.execute_input": "2022-01-21T01:59:45.643854Z",
     "iopub.status.busy": "2022-01-21T01:59:45.643027Z",
     "iopub.status.idle": "2022-01-21T01:59:45.676416Z",
     "shell.execute_reply": "2022-01-21T01:59:45.676904Z"
    },
    "papermill": {
     "duration": 0.054565,
     "end_time": "2022-01-21T01:59:45.677039",
     "exception": false,
     "start_time": "2022-01-21T01:59:45.622474",
     "status": "completed"
    },
    "tags": []
   },
   "outputs": [],
   "source": [
    "#hide_input\n",
    "sum_corr = df_all.corr().sum().sort_values(ascending=True).index.values\n",
    "#df_all[sum_corr].corr()"
   ]
  },
  {
   "cell_type": "markdown",
   "id": "complex-syndicate",
   "metadata": {
    "papermill": {
     "duration": 0.013628,
     "end_time": "2022-01-21T01:59:45.704382",
     "exception": false,
     "start_time": "2022-01-21T01:59:45.690754",
     "status": "completed"
    },
    "tags": []
   },
   "source": [
    "## Išplėstinė koreliacijų matrica. "
   ]
  },
  {
   "cell_type": "code",
   "execution_count": 7,
   "id": "atomic-omaha",
   "metadata": {
    "execution": {
     "iopub.execute_input": "2022-01-21T01:59:45.735795Z",
     "iopub.status.busy": "2022-01-21T01:59:45.735212Z",
     "iopub.status.idle": "2022-01-21T01:59:47.452491Z",
     "shell.execute_reply": "2022-01-21T01:59:47.451917Z"
    },
    "papermill": {
     "duration": 1.735604,
     "end_time": "2022-01-21T01:59:47.452736",
     "exception": false,
     "start_time": "2022-01-21T01:59:45.717132",
     "status": "completed"
    },
    "tags": []
   },
   "outputs": [
    {
     "data": {
      "image/png": "[encoded data removed]",
      "text/plain": [
       "<Figure size 1080x792 with 2 Axes>"
      ]
     },
     "metadata": {
      "needs_background": "light"
     },
     "output_type": "display_data"
    }
   ],
   "source": [
    "#hide_input\n",
    "plt.figure(figsize=(15, 11))\n",
    "sns.heatmap(df_all[sum_corr].corr(), annot=True, cmap=\"cubehelix\") \n",
    "sns.set(font_scale=1.25)\n",
    "plt.savefig('corr_matrix.png', format='eps')"
   ]
  },
  {
   "cell_type": "code",
   "execution_count": 8,
   "id": "arbitrary-sullivan",
   "metadata": {
    "execution": {
     "iopub.execute_input": "2022-01-21T01:59:47.492021Z",
     "iopub.status.busy": "2022-01-21T01:59:47.491265Z",
     "iopub.status.idle": "2022-01-21T01:59:47.520345Z",
     "shell.execute_reply": "2022-01-21T01:59:47.519838Z"
    },
    "papermill": {
     "duration": 0.050772,
     "end_time": "2022-01-21T01:59:47.520476",
     "exception": false,
     "start_time": "2022-01-21T01:59:47.469704",
     "status": "completed"
    },
    "tags": []
   },
   "outputs": [],
   "source": [
    "#hide\n",
    "#df_all_mrk = read_api()"
   ]
  },
  {
   "cell_type": "code",
   "execution_count": 9,
   "id": "delayed-adapter",
   "metadata": {
    "execution": {
     "iopub.execute_input": "2022-01-21T01:59:47.560124Z",
     "iopub.status.busy": "2022-01-21T01:59:47.559401Z",
     "iopub.status.idle": "2022-01-21T01:59:47.590408Z",
     "shell.execute_reply": "2022-01-21T01:59:47.589747Z"
    },
    "papermill": {
     "duration": 0.052312,
     "end_time": "2022-01-21T01:59:47.590542",
     "exception": false,
     "start_time": "2022-01-21T01:59:47.538230",
     "status": "completed"
    },
    "tags": []
   },
   "outputs": [],
   "source": [
    "#hide\n",
    "#Koreliacijų koeficientai"
   ]
  },
  {
   "cell_type": "code",
   "execution_count": 10,
   "id": "seeing-celebration",
   "metadata": {
    "execution": {
     "iopub.execute_input": "2022-01-21T01:59:47.627640Z",
     "iopub.status.busy": "2022-01-21T01:59:47.627002Z",
     "iopub.status.idle": "2022-01-21T01:59:47.659270Z",
     "shell.execute_reply": "2022-01-21T01:59:47.658709Z"
    },
    "papermill": {
     "duration": 0.052667,
     "end_time": "2022-01-21T01:59:47.659414",
     "exception": false,
     "start_time": "2022-01-21T01:59:47.606747",
     "status": "completed"
    },
    "tags": []
   },
   "outputs": [],
   "source": [
    "#hide_input\n",
    "#sum_corr = df_all_mrk.corr().sum().sort_values(ascending=True).index.values\n",
    "#df_all_mrk[sum_corr].corr()"
   ]
  },
  {
   "cell_type": "code",
   "execution_count": 11,
   "id": "other-painting",
   "metadata": {
    "execution": {
     "iopub.execute_input": "2022-01-21T01:59:47.696005Z",
     "iopub.status.busy": "2022-01-21T01:59:47.695289Z",
     "iopub.status.idle": "2022-01-21T01:59:47.724150Z",
     "shell.execute_reply": "2022-01-21T01:59:47.723565Z"
    },
    "papermill": {
     "duration": 0.048379,
     "end_time": "2022-01-21T01:59:47.724272",
     "exception": false,
     "start_time": "2022-01-21T01:59:47.675893",
     "status": "completed"
    },
    "tags": []
   },
   "outputs": [],
   "source": [
    "#hide\n",
    "#Koreliacijos matrica. "
   ]
  },
  {
   "cell_type": "code",
   "execution_count": 12,
   "id": "modular-magnitude",
   "metadata": {
    "execution": {
     "iopub.execute_input": "2022-01-21T01:59:47.760249Z",
     "iopub.status.busy": "2022-01-21T01:59:47.759638Z",
     "iopub.status.idle": "2022-01-21T01:59:47.786417Z",
     "shell.execute_reply": "2022-01-21T01:59:47.785936Z"
    },
    "papermill": {
     "duration": 0.045852,
     "end_time": "2022-01-21T01:59:47.786528",
     "exception": false,
     "start_time": "2022-01-21T01:59:47.740676",
     "status": "completed"
    },
    "tags": []
   },
   "outputs": [],
   "source": [
    "#hide_input\n",
    "#plt.figure(figsize=(15, 8))\n",
    "#sns.heatmap(df_all_mrk[sum_corr].corr(), annot=True, cmap=\"BrBG\");\n",
    "#plt.savefig('corr_matrix_all.eps', format='eps')"
   ]
  },
  {
   "cell_type": "code",
   "execution_count": null,
   "id": "original-senator",
   "metadata": {
    "papermill": {
     "duration": 0.017553,
     "end_time": "2022-01-21T01:59:47.821484",
     "exception": false,
     "start_time": "2022-01-21T01:59:47.803931",
     "status": "completed"
    },
    "tags": []
   },
   "outputs": [],
   "source": []
  },
  {
   "cell_type": "code",
   "execution_count": null,
   "id": "saving-secretariat",
   "metadata": {
    "papermill": {
     "duration": 0.015307,
     "end_time": "2022-01-21T01:59:47.852571",
     "exception": false,
     "start_time": "2022-01-21T01:59:47.837264",
     "status": "completed"
    },
    "tags": []
   },
   "outputs": [],
   "source": []
  }
 ],
 "metadata": {
  "kernelspec": {
   "display_name": "Python 3",
   "language": "python",
   "name": "python3"
  },
  "language_info": {
   "codemirror_mode": {
    "name": "ipython",
    "version": 3
   },
   "file_extension": ".py",
   "mimetype": "text/x-python",
   "name": "python",
   "nbconvert_exporter": "python",
   "pygments_lexer": "ipython3",
   "version": "3.6.15"
  },
  "papermill": {
   "default_parameters": {},
   "duration": 22.881234,
   "end_time": "2022-01-21T01:59:48.390130",
   "environment_variables": {},
   "exception": null,
   "input_path": "App-Correlation_charts.ipynb",
   "output_path": "App-Correlation_charts.ipynb",
   "parameters": {},
   "start_time": "2022-01-21T01:59:25.508896",
   "version": "2.2.2"
  }
 },
 "nbformat": 4,
 "nbformat_minor": 5
}