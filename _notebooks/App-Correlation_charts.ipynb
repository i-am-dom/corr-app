{
 "cells": [
  {
   "cell_type": "markdown",
   "id": "touched-facility",
   "metadata": {
    "papermill": {
     "duration": 0.014487,
     "end_time": "2022-08-11T02:57:48.290960",
     "exception": false,
     "start_time": "2022-08-11T02:57:48.276473",
     "status": "completed"
    },
    "tags": []
   },
   "source": [
    "# Koreliacijų matrica\n",
    "> Išplėstinė koreliacijų matrica. \n",
    "\n",
    "- toc: true \n",
    "- badges: true\n",
    "- comments: false\n",
    "- categories: [Dominykas Tautkus]\n",
    "- image: images/matrix.png"
   ]
  },
  {
   "cell_type": "code",
   "execution_count": null,
   "id": "premium-weekend",
   "metadata": {
    "papermill": {
     "duration": 0.010655,
     "end_time": "2022-08-11T02:57:48.313027",
     "exception": false,
     "start_time": "2022-08-11T02:57:48.302372",
     "status": "completed"
    },
    "tags": []
   },
   "outputs": [],
   "source": []
  },
  {
   "cell_type": "code",
   "execution_count": 1,
   "id": "vertical-rebate",
   "metadata": {
    "execution": {
     "iopub.execute_input": "2022-08-11T02:57:48.345352Z",
     "iopub.status.busy": "2022-08-11T02:57:48.344764Z",
     "iopub.status.idle": "2022-08-11T02:57:48.354764Z",
     "shell.execute_reply": "2022-08-11T02:57:48.355216Z"
    },
    "papermill": {
     "duration": 0.030542,
     "end_time": "2022-08-11T02:57:48.355342",
     "exception": false,
     "start_time": "2022-08-11T02:57:48.324800",
     "status": "completed"
    },
    "tags": []
   },
   "outputs": [],
   "source": [
    "#hide\n",
    "%load_ext autoreload\n",
    "%autoreload 2"
   ]
  },
  {
   "cell_type": "code",
   "execution_count": 2,
   "id": "overall-advancement",
   "metadata": {
    "execution": {
     "iopub.execute_input": "2022-08-11T02:57:48.379801Z",
     "iopub.status.busy": "2022-08-11T02:57:48.379269Z",
     "iopub.status.idle": "2022-08-11T02:57:49.663965Z",
     "shell.execute_reply": "2022-08-11T02:57:49.664419Z"
    },
    "papermill": {
     "duration": 1.298511,
     "end_time": "2022-08-11T02:57:49.664554",
     "exception": false,
     "start_time": "2022-08-11T02:57:48.366043",
     "status": "completed"
    },
    "tags": []
   },
   "outputs": [],
   "source": [
    "#hide\n",
    "from scripts.read_data import read_api\n",
    "from IPython.display import HTML\n",
    "import plotly.graph_objects as go\n"
   ]
  },
  {
   "cell_type": "code",
   "execution_count": 3,
   "id": "light-crazy",
   "metadata": {
    "execution": {
     "iopub.execute_input": "2022-08-11T02:57:49.689650Z",
     "iopub.status.busy": "2022-08-11T02:57:49.689055Z",
     "iopub.status.idle": "2022-08-11T02:57:49.709548Z",
     "shell.execute_reply": "2022-08-11T02:57:49.709952Z"
    },
    "papermill": {
     "duration": 0.034468,
     "end_time": "2022-08-11T02:57:49.710068",
     "exception": false,
     "start_time": "2022-08-11T02:57:49.675600",
     "status": "completed"
    },
    "tags": []
   },
   "outputs": [],
   "source": [
    "#hide\n",
    "### ICO koreliacija"
   ]
  },
  {
   "cell_type": "code",
   "execution_count": 4,
   "id": "likely-bahrain",
   "metadata": {
    "execution": {
     "iopub.execute_input": "2022-08-11T02:57:49.734632Z",
     "iopub.status.busy": "2022-08-11T02:57:49.734082Z",
     "iopub.status.idle": "2022-08-11T02:57:50.547134Z",
     "shell.execute_reply": "2022-08-11T02:57:50.545975Z"
    },
    "papermill": {
     "duration": 0.826482,
     "end_time": "2022-08-11T02:57:50.547257",
     "exception": false,
     "start_time": "2022-08-11T02:57:49.720775",
     "status": "completed"
    },
    "tags": []
   },
   "outputs": [],
   "source": [
    "#hide\n",
    "import matplotlib.pyplot as plt\n",
    "import numpy as np\n",
    "import pandas as pd\n",
    "import seaborn as sns\n",
    "import matplotlib.pyplot as plt \n",
    "import matplotlib.dates as mdates\n",
    "import matplotlib.pyplot as plt"
   ]
  },
  {
   "cell_type": "code",
   "execution_count": 5,
   "id": "superior-blanket",
   "metadata": {
    "execution": {
     "iopub.execute_input": "2022-08-11T02:57:50.575814Z",
     "iopub.status.busy": "2022-08-11T02:57:50.574259Z",
     "iopub.status.idle": "2022-08-11T02:58:01.946668Z",
     "shell.execute_reply": "2022-08-11T02:58:01.946175Z"
    },
    "papermill": {
     "duration": 11.388284,
     "end_time": "2022-08-11T02:58:01.946778",
     "exception": false,
     "start_time": "2022-08-11T02:57:50.558494",
     "status": "completed"
    },
    "tags": []
   },
   "outputs": [
    {
     "name": "stderr",
     "output_type": "stream",
     "text": [
      "/home/runner/work/corr-app/corr-app/_notebooks/scripts/read_data.py:187: SettingWithCopyWarning:\n",
      "\n",
      "\n",
      "A value is trying to be set on a copy of a slice from a DataFrame.\n",
      "Try using .loc[row_indexer,col_indexer] = value instead\n",
      "\n",
      "See the caveats in the documentation: https://pandas.pydata.org/pandas-docs/stable/user_guide/indexing.html#returning-a-view-versus-a-copy\n",
      "\n"
     ]
    },
    {
     "name": "stderr",
     "output_type": "stream",
     "text": [
      "/home/runner/work/corr-app/corr-app/_notebooks/scripts/read_data.py:215: SettingWithCopyWarning:\n",
      "\n",
      "\n",
      "A value is trying to be set on a copy of a slice from a DataFrame.\n",
      "Try using .loc[row_indexer,col_indexer] = value instead\n",
      "\n",
      "See the caveats in the documentation: https://pandas.pydata.org/pandas-docs/stable/user_guide/indexing.html#returning-a-view-versus-a-copy\n",
      "\n"
     ]
    }
   ],
   "source": [
    "#hide\n",
    "df_all = read_api()\n",
    "#df_all = df_all.drop(['SP500', 'XAU', 'ETH', 'BTC'], axis=1)\n",
    "\n"
   ]
  },
  {
   "cell_type": "code",
   "execution_count": 6,
   "id": "mature-alert",
   "metadata": {
    "execution": {
     "iopub.execute_input": "2022-08-11T02:58:01.974830Z",
     "iopub.status.busy": "2022-08-11T02:58:01.973785Z",
     "iopub.status.idle": "2022-08-11T02:58:02.002184Z",
     "shell.execute_reply": "2022-08-11T02:58:02.001731Z"
    },
    "papermill": {
     "duration": 0.042873,
     "end_time": "2022-08-11T02:58:02.002280",
     "exception": false,
     "start_time": "2022-08-11T02:58:01.959407",
     "status": "completed"
    },
    "tags": []
   },
   "outputs": [],
   "source": [
    "#hide_input\n",
    "sum_corr = df_all.corr().sum().sort_values(ascending=True).index.values\n",
    "#df_all[sum_corr].corr()"
   ]
  },
  {
   "cell_type": "markdown",
   "id": "complex-syndicate",
   "metadata": {
    "papermill": {
     "duration": 0.011222,
     "end_time": "2022-08-11T02:58:02.024818",
     "exception": false,
     "start_time": "2022-08-11T02:58:02.013596",
     "status": "completed"
    },
    "tags": []
   },
   "source": [
    "## Išplėstinė koreliacijų matrica. "
   ]
  },
  {
   "cell_type": "code",
   "execution_count": 7,
   "id": "atomic-omaha",
   "metadata": {
    "execution": {
     "iopub.execute_input": "2022-08-11T02:58:02.053873Z",
     "iopub.status.busy": "2022-08-11T02:58:02.050199Z",
     "iopub.status.idle": "2022-08-11T02:58:03.147593Z",
     "shell.execute_reply": "2022-08-11T02:58:03.147141Z"
    },
    "papermill": {
     "duration": 1.111609,
     "end_time": "2022-08-11T02:58:03.147697",
     "exception": false,
     "start_time": "2022-08-11T02:58:02.036088",
     "status": "completed"
    },
    "tags": []
   },
   "outputs": [
    {
     "data": {
      "image/png": "[encoded data removed]",
      "text/plain": [
       "<Figure size 1080x792 with 2 Axes>"
      ]
     },
     "metadata": {
      "needs_background": "light"
     },
     "output_type": "display_data"
    }
   ],
   "source": [
    "#hide_input\n",
    "plt.figure(figsize=(15, 11))\n",
    "sns.heatmap(df_all[sum_corr].corr(), annot=True, cmap=\"cubehelix\") \n",
    "sns.set(font_scale=1.25)\n",
    "plt.savefig('corr_matrix.png', format='eps')"
   ]
  },
  {
   "cell_type": "code",
   "execution_count": 8,
   "id": "arbitrary-sullivan",
   "metadata": {
    "execution": {
     "iopub.execute_input": "2022-08-11T02:58:03.181650Z",
     "iopub.status.busy": "2022-08-11T02:58:03.179216Z",
     "iopub.status.idle": "2022-08-11T02:58:03.204977Z",
     "shell.execute_reply": "2022-08-11T02:58:03.204433Z"
    },
    "papermill": {
     "duration": 0.043701,
     "end_time": "2022-08-11T02:58:03.205087",
     "exception": false,
     "start_time": "2022-08-11T02:58:03.161386",
     "status": "completed"
    },
    "tags": []
   },
   "outputs": [],
   "source": [
    "#hide\n",
    "#df_all_mrk = read_api()"
   ]
  },
  {
   "cell_type": "code",
   "execution_count": 9,
   "id": "delayed-adapter",
   "metadata": {
    "execution": {
     "iopub.execute_input": "2022-08-11T02:58:03.234100Z",
     "iopub.status.busy": "2022-08-11T02:58:03.233557Z",
     "iopub.status.idle": "2022-08-11T02:58:03.258252Z",
     "shell.execute_reply": "2022-08-11T02:58:03.257807Z"
    },
    "papermill": {
     "duration": 0.04012,
     "end_time": "2022-08-11T02:58:03.258343",
     "exception": false,
     "start_time": "2022-08-11T02:58:03.218223",
     "status": "completed"
    },
    "tags": []
   },
   "outputs": [],
   "source": [
    "#hide\n",
    "#Koreliacijų koeficientai"
   ]
  },
  {
   "cell_type": "code",
   "execution_count": 10,
   "id": "seeing-celebration",
   "metadata": {
    "execution": {
     "iopub.execute_input": "2022-08-11T02:58:03.287771Z",
     "iopub.status.busy": "2022-08-11T02:58:03.287190Z",
     "iopub.status.idle": "2022-08-11T02:58:03.311346Z",
     "shell.execute_reply": "2022-08-11T02:58:03.310886Z"
    },
    "papermill": {
     "duration": 0.039832,
     "end_time": "2022-08-11T02:58:03.311438",
     "exception": false,
     "start_time": "2022-08-11T02:58:03.271606",
     "status": "completed"
    },
    "tags": []
   },
   "outputs": [],
   "source": [
    "#hide_input\n",
    "#sum_corr = df_all_mrk.corr().sum().sort_values(ascending=True).index.values\n",
    "#df_all_mrk[sum_corr].corr()"
   ]
  },
  {
   "cell_type": "code",
   "execution_count": 11,
   "id": "other-painting",
   "metadata": {
    "execution": {
     "iopub.execute_input": "2022-08-11T02:58:03.340543Z",
     "iopub.status.busy": "2022-08-11T02:58:03.339997Z",
     "iopub.status.idle": "2022-08-11T02:58:03.363455Z",
     "shell.execute_reply": "2022-08-11T02:58:03.363849Z"
    },
    "papermill": {
     "duration": 0.039333,
     "end_time": "2022-08-11T02:58:03.363965",
     "exception": false,
     "start_time": "2022-08-11T02:58:03.324632",
     "status": "completed"
    },
    "tags": []
   },
   "outputs": [],
   "source": [
    "#hide\n",
    "#Koreliacijos matrica. "
   ]
  },
  {
   "cell_type": "code",
   "execution_count": 12,
   "id": "modular-magnitude",
   "metadata": {
    "execution": {
     "iopub.execute_input": "2022-08-11T02:58:03.393265Z",
     "iopub.status.busy": "2022-08-11T02:58:03.392661Z",
     "iopub.status.idle": "2022-08-11T02:58:03.415525Z",
     "shell.execute_reply": "2022-08-11T02:58:03.415065Z"
    },
    "papermill": {
     "duration": 0.038328,
     "end_time": "2022-08-11T02:58:03.415616",
     "exception": false,
     "start_time": "2022-08-11T02:58:03.377288",
     "status": "completed"
    },
    "tags": []
   },
   "outputs": [],
   "source": [
    "#hide_input\n",
    "#plt.figure(figsize=(15, 8))\n",
    "#sns.heatmap(df_all_mrk[sum_corr].corr(), annot=True, cmap=\"BrBG\");\n",
    "#plt.savefig('corr_matrix_all.eps', format='eps')"
   ]
  },
  {
   "cell_type": "code",
   "execution_count": null,
   "id": "original-senator",
   "metadata": {
    "papermill": {
     "duration": 0.013098,
     "end_time": "2022-08-11T02:58:03.441861",
     "exception": false,
     "start_time": "2022-08-11T02:58:03.428763",
     "status": "completed"
    },
    "tags": []
   },
   "outputs": [],
   "source": []
  },
  {
   "cell_type": "code",
   "execution_count": null,
   "id": "saving-secretariat",
   "metadata": {
    "papermill": {
     "duration": 0.013079,
     "end_time": "2022-08-11T02:58:03.468075",
     "exception": false,
     "start_time": "2022-08-11T02:58:03.454996",
     "status": "completed"
    },
    "tags": []
   },
   "outputs": [],
   "source": []
  }
 ],
 "metadata": {
  "kernelspec": {
   "display_name": "Python 3",
   "language": "python",
   "name": "python3"
  },
  "language_info": {
   "codemirror_mode": {
    "name": "ipython",
    "version": 3
   },
   "file_extension": ".py",
   "mimetype": "text/x-python",
   "name": "python",
   "nbconvert_exporter": "python",
   "pygments_lexer": "ipython3",
   "version": "3.6.15"
  },
  "papermill": {
   "default_parameters": {},
   "duration": 16.527957,
   "end_time": "2022-08-11T02:58:03.898065",
   "environment_variables": {},
   "exception": null,
   "input_path": "App-Correlation_charts.ipynb",
   "output_path": "App-Correlation_charts.ipynb",
   "parameters": {},
   "start_time": "2022-08-11T02:57:47.370108",
   "version": "2.2.2"
  }
 },
 "nbformat": 4,
 "nbformat_minor": 5
}