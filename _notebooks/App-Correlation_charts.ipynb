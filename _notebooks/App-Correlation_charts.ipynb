{
 "cells": [
  {
   "cell_type": "markdown",
   "id": "touched-facility",
   "metadata": {
    "papermill": {
     "duration": 0.016212,
     "end_time": "2022-08-02T03:34:16.908174",
     "exception": false,
     "start_time": "2022-08-02T03:34:16.891962",
     "status": "completed"
    },
    "tags": []
   },
   "source": [
    "# Koreliacijų matrica\n",
    "> Išplėstinė koreliacijų matrica. \n",
    "\n",
    "- toc: true \n",
    "- badges: true\n",
    "- comments: false\n",
    "- categories: [Dominykas Tautkus]\n",
    "- image: images/matrix.png"
   ]
  },
  {
   "cell_type": "code",
   "execution_count": null,
   "id": "premium-weekend",
   "metadata": {
    "papermill": {
     "duration": 0.010862,
     "end_time": "2022-08-02T03:34:16.930823",
     "exception": false,
     "start_time": "2022-08-02T03:34:16.919961",
     "status": "completed"
    },
    "tags": []
   },
   "outputs": [],
   "source": []
  },
  {
   "cell_type": "code",
   "execution_count": 1,
   "id": "vertical-rebate",
   "metadata": {
    "execution": {
     "iopub.execute_input": "2022-08-02T03:34:16.964043Z",
     "iopub.status.busy": "2022-08-02T03:34:16.963413Z",
     "iopub.status.idle": "2022-08-02T03:34:16.975858Z",
     "shell.execute_reply": "2022-08-02T03:34:16.975328Z"
    },
    "papermill": {
     "duration": 0.034551,
     "end_time": "2022-08-02T03:34:16.975996",
     "exception": false,
     "start_time": "2022-08-02T03:34:16.941445",
     "status": "completed"
    },
    "tags": []
   },
   "outputs": [],
   "source": [
    "#hide\n",
    "%load_ext autoreload\n",
    "%autoreload 2"
   ]
  },
  {
   "cell_type": "code",
   "execution_count": 2,
   "id": "overall-advancement",
   "metadata": {
    "execution": {
     "iopub.execute_input": "2022-08-02T03:34:17.013599Z",
     "iopub.status.busy": "2022-08-02T03:34:17.010286Z",
     "iopub.status.idle": "2022-08-02T03:34:18.378053Z",
     "shell.execute_reply": "2022-08-02T03:34:18.377377Z"
    },
    "papermill": {
     "duration": 1.391584,
     "end_time": "2022-08-02T03:34:18.378219",
     "exception": false,
     "start_time": "2022-08-02T03:34:16.986635",
     "status": "completed"
    },
    "tags": []
   },
   "outputs": [],
   "source": [
    "#hide\n",
    "from scripts.read_data import read_api\n",
    "from IPython.display import HTML\n",
    "import plotly.graph_objects as go\n"
   ]
  },
  {
   "cell_type": "code",
   "execution_count": 3,
   "id": "light-crazy",
   "metadata": {
    "execution": {
     "iopub.execute_input": "2022-08-02T03:34:18.414326Z",
     "iopub.status.busy": "2022-08-02T03:34:18.413283Z",
     "iopub.status.idle": "2022-08-02T03:34:18.436342Z",
     "shell.execute_reply": "2022-08-02T03:34:18.435774Z"
    },
    "papermill": {
     "duration": 0.04644,
     "end_time": "2022-08-02T03:34:18.436493",
     "exception": false,
     "start_time": "2022-08-02T03:34:18.390053",
     "status": "completed"
    },
    "tags": []
   },
   "outputs": [],
   "source": [
    "#hide\n",
    "### ICO koreliacija"
   ]
  },
  {
   "cell_type": "code",
   "execution_count": 4,
   "id": "likely-bahrain",
   "metadata": {
    "execution": {
     "iopub.execute_input": "2022-08-02T03:34:18.469437Z",
     "iopub.status.busy": "2022-08-02T03:34:18.462759Z",
     "iopub.status.idle": "2022-08-02T03:34:19.399888Z",
     "shell.execute_reply": "2022-08-02T03:34:19.399329Z"
    },
    "papermill": {
     "duration": 0.951985,
     "end_time": "2022-08-02T03:34:19.400043",
     "exception": false,
     "start_time": "2022-08-02T03:34:18.448058",
     "status": "completed"
    },
    "tags": []
   },
   "outputs": [],
   "source": [
    "#hide\n",
    "import matplotlib.pyplot as plt\n",
    "import numpy as np\n",
    "import pandas as pd\n",
    "import seaborn as sns\n",
    "import matplotlib.pyplot as plt \n",
    "import matplotlib.dates as mdates\n",
    "import matplotlib.pyplot as plt"
   ]
  },
  {
   "cell_type": "code",
   "execution_count": 5,
   "id": "superior-blanket",
   "metadata": {
    "execution": {
     "iopub.execute_input": "2022-08-02T03:34:19.453409Z",
     "iopub.status.busy": "2022-08-02T03:34:19.434012Z",
     "iopub.status.idle": "2022-08-02T03:34:32.303432Z",
     "shell.execute_reply": "2022-08-02T03:34:32.304427Z"
    },
    "papermill": {
     "duration": 12.89349,
     "end_time": "2022-08-02T03:34:32.304638",
     "exception": false,
     "start_time": "2022-08-02T03:34:19.411148",
     "status": "completed"
    },
    "tags": []
   },
   "outputs": [
    {
     "name": "stderr",
     "output_type": "stream",
     "text": [
      "/home/runner/work/corr-app/corr-app/_notebooks/scripts/read_data.py:187: SettingWithCopyWarning:\n",
      "\n",
      "\n",
      "A value is trying to be set on a copy of a slice from a DataFrame.\n",
      "Try using .loc[row_indexer,col_indexer] = value instead\n",
      "\n",
      "See the caveats in the documentation: https://pandas.pydata.org/pandas-docs/stable/user_guide/indexing.html#returning-a-view-versus-a-copy\n",
      "\n"
     ]
    },
    {
     "name": "stderr",
     "output_type": "stream",
     "text": [
      "/home/runner/work/corr-app/corr-app/_notebooks/scripts/read_data.py:215: SettingWithCopyWarning:\n",
      "\n",
      "\n",
      "A value is trying to be set on a copy of a slice from a DataFrame.\n",
      "Try using .loc[row_indexer,col_indexer] = value instead\n",
      "\n",
      "See the caveats in the documentation: https://pandas.pydata.org/pandas-docs/stable/user_guide/indexing.html#returning-a-view-versus-a-copy\n",
      "\n"
     ]
    }
   ],
   "source": [
    "#hide\n",
    "df_all = read_api()\n",
    "#df_all = df_all.drop(['SP500', 'XAU', 'ETH', 'BTC'], axis=1)\n",
    "\n"
   ]
  },
  {
   "cell_type": "code",
   "execution_count": 6,
   "id": "mature-alert",
   "metadata": {
    "execution": {
     "iopub.execute_input": "2022-08-02T03:34:32.345359Z",
     "iopub.status.busy": "2022-08-02T03:34:32.342994Z",
     "iopub.status.idle": "2022-08-02T03:34:32.374430Z",
     "shell.execute_reply": "2022-08-02T03:34:32.373570Z"
    },
    "papermill": {
     "duration": 0.056624,
     "end_time": "2022-08-02T03:34:32.374564",
     "exception": false,
     "start_time": "2022-08-02T03:34:32.317940",
     "status": "completed"
    },
    "tags": []
   },
   "outputs": [],
   "source": [
    "#hide_input\n",
    "sum_corr = df_all.corr().sum().sort_values(ascending=True).index.values\n",
    "#df_all[sum_corr].corr()"
   ]
  },
  {
   "cell_type": "markdown",
   "id": "complex-syndicate",
   "metadata": {
    "papermill": {
     "duration": 0.011089,
     "end_time": "2022-08-02T03:34:32.397142",
     "exception": false,
     "start_time": "2022-08-02T03:34:32.386053",
     "status": "completed"
    },
    "tags": []
   },
   "source": [
    "## Išplėstinė koreliacijų matrica. "
   ]
  },
  {
   "cell_type": "code",
   "execution_count": 7,
   "id": "atomic-omaha",
   "metadata": {
    "execution": {
     "iopub.execute_input": "2022-08-02T03:34:32.423900Z",
     "iopub.status.busy": "2022-08-02T03:34:32.423306Z",
     "iopub.status.idle": "2022-08-02T03:34:33.682813Z",
     "shell.execute_reply": "2022-08-02T03:34:33.683296Z"
    },
    "papermill": {
     "duration": 1.275363,
     "end_time": "2022-08-02T03:34:33.683465",
     "exception": false,
     "start_time": "2022-08-02T03:34:32.408102",
     "status": "completed"
    },
    "tags": []
   },
   "outputs": [
    {
     "data": {
      "image/png": "[encoded data removed]",
      "text/plain": [
       "<Figure size 1080x792 with 2 Axes>"
      ]
     },
     "metadata": {
      "needs_background": "light"
     },
     "output_type": "display_data"
    }
   ],
   "source": [
    "#hide_input\n",
    "plt.figure(figsize=(15, 11))\n",
    "sns.heatmap(df_all[sum_corr].corr(), annot=True, cmap=\"cubehelix\") \n",
    "sns.set(font_scale=1.25)\n",
    "plt.savefig('corr_matrix.png', format='eps')"
   ]
  },
  {
   "cell_type": "code",
   "execution_count": 8,
   "id": "arbitrary-sullivan",
   "metadata": {
    "execution": {
     "iopub.execute_input": "2022-08-02T03:34:33.727626Z",
     "iopub.status.busy": "2022-08-02T03:34:33.720855Z",
     "iopub.status.idle": "2022-08-02T03:34:33.749861Z",
     "shell.execute_reply": "2022-08-02T03:34:33.749351Z"
    },
    "papermill": {
     "duration": 0.052625,
     "end_time": "2022-08-02T03:34:33.750007",
     "exception": false,
     "start_time": "2022-08-02T03:34:33.697382",
     "status": "completed"
    },
    "tags": []
   },
   "outputs": [],
   "source": [
    "#hide\n",
    "#df_all_mrk = read_api()"
   ]
  },
  {
   "cell_type": "code",
   "execution_count": 9,
   "id": "delayed-adapter",
   "metadata": {
    "execution": {
     "iopub.execute_input": "2022-08-02T03:34:33.798197Z",
     "iopub.status.busy": "2022-08-02T03:34:33.797573Z",
     "iopub.status.idle": "2022-08-02T03:34:33.819866Z",
     "shell.execute_reply": "2022-08-02T03:34:33.819362Z"
    },
    "papermill": {
     "duration": 0.056425,
     "end_time": "2022-08-02T03:34:33.819993",
     "exception": false,
     "start_time": "2022-08-02T03:34:33.763568",
     "status": "completed"
    },
    "tags": []
   },
   "outputs": [],
   "source": [
    "#hide\n",
    "#Koreliacijų koeficientai"
   ]
  },
  {
   "cell_type": "code",
   "execution_count": 10,
   "id": "seeing-celebration",
   "metadata": {
    "execution": {
     "iopub.execute_input": "2022-08-02T03:34:33.854679Z",
     "iopub.status.busy": "2022-08-02T03:34:33.854082Z",
     "iopub.status.idle": "2022-08-02T03:34:33.883998Z",
     "shell.execute_reply": "2022-08-02T03:34:33.883429Z"
    },
    "papermill": {
     "duration": 0.050582,
     "end_time": "2022-08-02T03:34:33.884137",
     "exception": false,
     "start_time": "2022-08-02T03:34:33.833555",
     "status": "completed"
    },
    "tags": []
   },
   "outputs": [],
   "source": [
    "#hide_input\n",
    "#sum_corr = df_all_mrk.corr().sum().sort_values(ascending=True).index.values\n",
    "#df_all_mrk[sum_corr].corr()"
   ]
  },
  {
   "cell_type": "code",
   "execution_count": 11,
   "id": "other-painting",
   "metadata": {
    "execution": {
     "iopub.execute_input": "2022-08-02T03:34:33.915092Z",
     "iopub.status.busy": "2022-08-02T03:34:33.914505Z",
     "iopub.status.idle": "2022-08-02T03:34:33.946509Z",
     "shell.execute_reply": "2022-08-02T03:34:33.945824Z"
    },
    "papermill": {
     "duration": 0.04831,
     "end_time": "2022-08-02T03:34:33.946651",
     "exception": false,
     "start_time": "2022-08-02T03:34:33.898341",
     "status": "completed"
    },
    "tags": []
   },
   "outputs": [],
   "source": [
    "#hide\n",
    "#Koreliacijos matrica. "
   ]
  },
  {
   "cell_type": "code",
   "execution_count": 12,
   "id": "modular-magnitude",
   "metadata": {
    "execution": {
     "iopub.execute_input": "2022-08-02T03:34:33.977679Z",
     "iopub.status.busy": "2022-08-02T03:34:33.977078Z",
     "iopub.status.idle": "2022-08-02T03:34:34.009018Z",
     "shell.execute_reply": "2022-08-02T03:34:34.008410Z"
    },
    "papermill": {
     "duration": 0.048426,
     "end_time": "2022-08-02T03:34:34.009162",
     "exception": false,
     "start_time": "2022-08-02T03:34:33.960736",
     "status": "completed"
    },
    "tags": []
   },
   "outputs": [],
   "source": [
    "#hide_input\n",
    "#plt.figure(figsize=(15, 8))\n",
    "#sns.heatmap(df_all_mrk[sum_corr].corr(), annot=True, cmap=\"BrBG\");\n",
    "#plt.savefig('corr_matrix_all.eps', format='eps')"
   ]
  },
  {
   "cell_type": "code",
   "execution_count": null,
   "id": "original-senator",
   "metadata": {
    "papermill": {
     "duration": 0.013147,
     "end_time": "2022-08-02T03:34:34.036138",
     "exception": false,
     "start_time": "2022-08-02T03:34:34.022991",
     "status": "completed"
    },
    "tags": []
   },
   "outputs": [],
   "source": []
  },
  {
   "cell_type": "code",
   "execution_count": null,
   "id": "saving-secretariat",
   "metadata": {
    "papermill": {
     "duration": 0.012961,
     "end_time": "2022-08-02T03:34:34.062122",
     "exception": false,
     "start_time": "2022-08-02T03:34:34.049161",
     "status": "completed"
    },
    "tags": []
   },
   "outputs": [],
   "source": []
  }
 ],
 "metadata": {
  "kernelspec": {
   "display_name": "Python 3",
   "language": "python",
   "name": "python3"
  },
  "language_info": {
   "codemirror_mode": {
    "name": "ipython",
    "version": 3
   },
   "file_extension": ".py",
   "mimetype": "text/x-python",
   "name": "python",
   "nbconvert_exporter": "python",
   "pygments_lexer": "ipython3",
   "version": "3.6.15"
  },
  "papermill": {
   "default_parameters": {},
   "duration": 19.259496,
   "end_time": "2022-08-02T03:34:34.898321",
   "environment_variables": {},
   "exception": null,
   "input_path": "App-Correlation_charts.ipynb",
   "output_path": "App-Correlation_charts.ipynb",
   "parameters": {},
   "start_time": "2022-08-02T03:34:15.638825",
   "version": "2.2.2"
  }
 },
 "nbformat": 4,
 "nbformat_minor": 5
}