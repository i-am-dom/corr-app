{
 "cells": [
  {
   "cell_type": "markdown",
   "id": "touched-facility",
   "metadata": {
    "papermill": {
     "duration": 0.014602,
     "end_time": "2022-05-28T02:45:44.802181",
     "exception": false,
     "start_time": "2022-05-28T02:45:44.787579",
     "status": "completed"
    },
    "tags": []
   },
   "source": [
    "# Koreliacijų matrica\n",
    "> Išplėstinė koreliacijų matrica. \n",
    "\n",
    "- toc: true \n",
    "- badges: true\n",
    "- comments: false\n",
    "- categories: [Dominykas Tautkus]\n",
    "- image: images/matrix.png"
   ]
  },
  {
   "cell_type": "code",
   "execution_count": null,
   "id": "premium-weekend",
   "metadata": {
    "papermill": {
     "duration": 0.010486,
     "end_time": "2022-05-28T02:45:44.823967",
     "exception": false,
     "start_time": "2022-05-28T02:45:44.813481",
     "status": "completed"
    },
    "tags": []
   },
   "outputs": [],
   "source": []
  },
  {
   "cell_type": "code",
   "execution_count": 1,
   "id": "vertical-rebate",
   "metadata": {
    "execution": {
     "iopub.execute_input": "2022-05-28T02:45:44.855837Z",
     "iopub.status.busy": "2022-05-28T02:45:44.855248Z",
     "iopub.status.idle": "2022-05-28T02:45:44.866381Z",
     "shell.execute_reply": "2022-05-28T02:45:44.865894Z"
    },
    "papermill": {
     "duration": 0.031981,
     "end_time": "2022-05-28T02:45:44.866521",
     "exception": false,
     "start_time": "2022-05-28T02:45:44.834540",
     "status": "completed"
    },
    "tags": []
   },
   "outputs": [],
   "source": [
    "#hide\n",
    "%load_ext autoreload\n",
    "%autoreload 2"
   ]
  },
  {
   "cell_type": "code",
   "execution_count": 2,
   "id": "overall-advancement",
   "metadata": {
    "execution": {
     "iopub.execute_input": "2022-05-28T02:45:44.891372Z",
     "iopub.status.busy": "2022-05-28T02:45:44.890804Z",
     "iopub.status.idle": "2022-05-28T02:45:46.137950Z",
     "shell.execute_reply": "2022-05-28T02:45:46.136913Z"
    },
    "papermill": {
     "duration": 1.26111,
     "end_time": "2022-05-28T02:45:46.138089",
     "exception": false,
     "start_time": "2022-05-28T02:45:44.876979",
     "status": "completed"
    },
    "tags": []
   },
   "outputs": [],
   "source": [
    "#hide\n",
    "from scripts.read_data import read_api\n",
    "from IPython.display import HTML\n",
    "import plotly.graph_objects as go\n"
   ]
  },
  {
   "cell_type": "code",
   "execution_count": 3,
   "id": "light-crazy",
   "metadata": {
    "execution": {
     "iopub.execute_input": "2022-05-28T02:45:46.167001Z",
     "iopub.status.busy": "2022-05-28T02:45:46.164832Z",
     "iopub.status.idle": "2022-05-28T02:45:46.187573Z",
     "shell.execute_reply": "2022-05-28T02:45:46.186658Z"
    },
    "papermill": {
     "duration": 0.038718,
     "end_time": "2022-05-28T02:45:46.187690",
     "exception": false,
     "start_time": "2022-05-28T02:45:46.148972",
     "status": "completed"
    },
    "tags": []
   },
   "outputs": [],
   "source": [
    "#hide\n",
    "### ICO koreliacija"
   ]
  },
  {
   "cell_type": "code",
   "execution_count": 4,
   "id": "likely-bahrain",
   "metadata": {
    "execution": {
     "iopub.execute_input": "2022-05-28T02:45:46.213126Z",
     "iopub.status.busy": "2022-05-28T02:45:46.211866Z",
     "iopub.status.idle": "2022-05-28T02:45:47.042354Z",
     "shell.execute_reply": "2022-05-28T02:45:47.041774Z"
    },
    "papermill": {
     "duration": 0.844401,
     "end_time": "2022-05-28T02:45:47.042529",
     "exception": false,
     "start_time": "2022-05-28T02:45:46.198128",
     "status": "completed"
    },
    "tags": []
   },
   "outputs": [],
   "source": [
    "#hide\n",
    "import matplotlib.pyplot as plt\n",
    "import numpy as np\n",
    "import pandas as pd\n",
    "import seaborn as sns\n",
    "import matplotlib.pyplot as plt \n",
    "import matplotlib.dates as mdates\n",
    "import matplotlib.pyplot as plt"
   ]
  },
  {
   "cell_type": "code",
   "execution_count": 5,
   "id": "superior-blanket",
   "metadata": {
    "execution": {
     "iopub.execute_input": "2022-05-28T02:45:47.069727Z",
     "iopub.status.busy": "2022-05-28T02:45:47.069103Z",
     "iopub.status.idle": "2022-05-28T02:45:56.961205Z",
     "shell.execute_reply": "2022-05-28T02:45:56.960669Z"
    },
    "papermill": {
     "duration": 9.9077,
     "end_time": "2022-05-28T02:45:56.961327",
     "exception": false,
     "start_time": "2022-05-28T02:45:47.053627",
     "status": "completed"
    },
    "tags": []
   },
   "outputs": [
    {
     "name": "stderr",
     "output_type": "stream",
     "text": [
      "/home/runner/work/corr-app/corr-app/_notebooks/scripts/read_data.py:187: SettingWithCopyWarning:\n",
      "\n",
      "\n",
      "A value is trying to be set on a copy of a slice from a DataFrame.\n",
      "Try using .loc[row_indexer,col_indexer] = value instead\n",
      "\n",
      "See the caveats in the documentation: https://pandas.pydata.org/pandas-docs/stable/user_guide/indexing.html#returning-a-view-versus-a-copy\n",
      "\n"
     ]
    },
    {
     "name": "stderr",
     "output_type": "stream",
     "text": [
      "/home/runner/work/corr-app/corr-app/_notebooks/scripts/read_data.py:215: SettingWithCopyWarning:\n",
      "\n",
      "\n",
      "A value is trying to be set on a copy of a slice from a DataFrame.\n",
      "Try using .loc[row_indexer,col_indexer] = value instead\n",
      "\n",
      "See the caveats in the documentation: https://pandas.pydata.org/pandas-docs/stable/user_guide/indexing.html#returning-a-view-versus-a-copy\n",
      "\n"
     ]
    }
   ],
   "source": [
    "#hide\n",
    "df_all = read_api()\n",
    "#df_all = df_all.drop(['SP500', 'XAU', 'ETH', 'BTC'], axis=1)\n",
    "\n"
   ]
  },
  {
   "cell_type": "code",
   "execution_count": 6,
   "id": "mature-alert",
   "metadata": {
    "execution": {
     "iopub.execute_input": "2022-05-28T02:45:56.988322Z",
     "iopub.status.busy": "2022-05-28T02:45:56.987642Z",
     "iopub.status.idle": "2022-05-28T02:45:57.018571Z",
     "shell.execute_reply": "2022-05-28T02:45:57.017882Z"
    },
    "papermill": {
     "duration": 0.045757,
     "end_time": "2022-05-28T02:45:57.018700",
     "exception": false,
     "start_time": "2022-05-28T02:45:56.972943",
     "status": "completed"
    },
    "tags": []
   },
   "outputs": [],
   "source": [
    "#hide_input\n",
    "sum_corr = df_all.corr().sum().sort_values(ascending=True).index.values\n",
    "#df_all[sum_corr].corr()"
   ]
  },
  {
   "cell_type": "markdown",
   "id": "complex-syndicate",
   "metadata": {
    "papermill": {
     "duration": 0.012299,
     "end_time": "2022-05-28T02:45:57.042662",
     "exception": false,
     "start_time": "2022-05-28T02:45:57.030363",
     "status": "completed"
    },
    "tags": []
   },
   "source": [
    "## Išplėstinė koreliacijų matrica. "
   ]
  },
  {
   "cell_type": "code",
   "execution_count": 7,
   "id": "atomic-omaha",
   "metadata": {
    "execution": {
     "iopub.execute_input": "2022-05-28T02:45:57.075842Z",
     "iopub.status.busy": "2022-05-28T02:45:57.075263Z",
     "iopub.status.idle": "2022-05-28T02:45:58.292282Z",
     "shell.execute_reply": "2022-05-28T02:45:58.292792Z"
    },
    "papermill": {
     "duration": 1.239099,
     "end_time": "2022-05-28T02:45:58.292954",
     "exception": false,
     "start_time": "2022-05-28T02:45:57.053855",
     "status": "completed"
    },
    "tags": []
   },
   "outputs": [
    {
     "data": {
      "image/png": "[encoded data removed]",
      "text/plain": [
       "<Figure size 1080x792 with 2 Axes>"
      ]
     },
     "metadata": {
      "needs_background": "light"
     },
     "output_type": "display_data"
    }
   ],
   "source": [
    "#hide_input\n",
    "plt.figure(figsize=(15, 11))\n",
    "sns.heatmap(df_all[sum_corr].corr(), annot=True, cmap=\"cubehelix\") \n",
    "sns.set(font_scale=1.25)\n",
    "plt.savefig('corr_matrix.png', format='eps')"
   ]
  },
  {
   "cell_type": "code",
   "execution_count": 8,
   "id": "arbitrary-sullivan",
   "metadata": {
    "execution": {
     "iopub.execute_input": "2022-05-28T02:45:58.323197Z",
     "iopub.status.busy": "2022-05-28T02:45:58.322349Z",
     "iopub.status.idle": "2022-05-28T02:45:58.349485Z",
     "shell.execute_reply": "2022-05-28T02:45:58.350006Z"
    },
    "papermill": {
     "duration": 0.04369,
     "end_time": "2022-05-28T02:45:58.350161",
     "exception": false,
     "start_time": "2022-05-28T02:45:58.306471",
     "status": "completed"
    },
    "tags": []
   },
   "outputs": [],
   "source": [
    "#hide\n",
    "#df_all_mrk = read_api()"
   ]
  },
  {
   "cell_type": "code",
   "execution_count": 9,
   "id": "delayed-adapter",
   "metadata": {
    "execution": {
     "iopub.execute_input": "2022-05-28T02:45:58.380488Z",
     "iopub.status.busy": "2022-05-28T02:45:58.379914Z",
     "iopub.status.idle": "2022-05-28T02:45:58.407609Z",
     "shell.execute_reply": "2022-05-28T02:45:58.407037Z"
    },
    "papermill": {
     "duration": 0.043784,
     "end_time": "2022-05-28T02:45:58.407731",
     "exception": false,
     "start_time": "2022-05-28T02:45:58.363947",
     "status": "completed"
    },
    "tags": []
   },
   "outputs": [],
   "source": [
    "#hide\n",
    "#Koreliacijų koeficientai"
   ]
  },
  {
   "cell_type": "code",
   "execution_count": 10,
   "id": "seeing-celebration",
   "metadata": {
    "execution": {
     "iopub.execute_input": "2022-05-28T02:45:58.448656Z",
     "iopub.status.busy": "2022-05-28T02:45:58.447757Z",
     "iopub.status.idle": "2022-05-28T02:45:58.468526Z",
     "shell.execute_reply": "2022-05-28T02:45:58.468056Z"
    },
    "papermill": {
     "duration": 0.046779,
     "end_time": "2022-05-28T02:45:58.468632",
     "exception": false,
     "start_time": "2022-05-28T02:45:58.421853",
     "status": "completed"
    },
    "tags": []
   },
   "outputs": [],
   "source": [
    "#hide_input\n",
    "#sum_corr = df_all_mrk.corr().sum().sort_values(ascending=True).index.values\n",
    "#df_all_mrk[sum_corr].corr()"
   ]
  },
  {
   "cell_type": "code",
   "execution_count": 11,
   "id": "other-painting",
   "metadata": {
    "execution": {
     "iopub.execute_input": "2022-05-28T02:45:58.519150Z",
     "iopub.status.busy": "2022-05-28T02:45:58.497248Z",
     "iopub.status.idle": "2022-05-28T02:45:58.532564Z",
     "shell.execute_reply": "2022-05-28T02:45:58.532123Z"
    },
    "papermill": {
     "duration": 0.051046,
     "end_time": "2022-05-28T02:45:58.532669",
     "exception": false,
     "start_time": "2022-05-28T02:45:58.481623",
     "status": "completed"
    },
    "tags": []
   },
   "outputs": [],
   "source": [
    "#hide\n",
    "#Koreliacijos matrica. "
   ]
  },
  {
   "cell_type": "code",
   "execution_count": 12,
   "id": "modular-magnitude",
   "metadata": {
    "execution": {
     "iopub.execute_input": "2022-05-28T02:45:58.563233Z",
     "iopub.status.busy": "2022-05-28T02:45:58.561964Z",
     "iopub.status.idle": "2022-05-28T02:45:58.591805Z",
     "shell.execute_reply": "2022-05-28T02:45:58.591066Z"
    },
    "papermill": {
     "duration": 0.046109,
     "end_time": "2022-05-28T02:45:58.591919",
     "exception": false,
     "start_time": "2022-05-28T02:45:58.545810",
     "status": "completed"
    },
    "tags": []
   },
   "outputs": [],
   "source": [
    "#hide_input\n",
    "#plt.figure(figsize=(15, 8))\n",
    "#sns.heatmap(df_all_mrk[sum_corr].corr(), annot=True, cmap=\"BrBG\");\n",
    "#plt.savefig('corr_matrix_all.eps', format='eps')"
   ]
  },
  {
   "cell_type": "code",
   "execution_count": null,
   "id": "original-senator",
   "metadata": {
    "papermill": {
     "duration": 0.013111,
     "end_time": "2022-05-28T02:45:58.618178",
     "exception": false,
     "start_time": "2022-05-28T02:45:58.605067",
     "status": "completed"
    },
    "tags": []
   },
   "outputs": [],
   "source": []
  },
  {
   "cell_type": "code",
   "execution_count": null,
   "id": "saving-secretariat",
   "metadata": {
    "papermill": {
     "duration": 0.013042,
     "end_time": "2022-05-28T02:45:58.644231",
     "exception": false,
     "start_time": "2022-05-28T02:45:58.631189",
     "status": "completed"
    },
    "tags": []
   },
   "outputs": [],
   "source": []
  }
 ],
 "metadata": {
  "kernelspec": {
   "display_name": "Python 3",
   "language": "python",
   "name": "python3"
  },
  "language_info": {
   "codemirror_mode": {
    "name": "ipython",
    "version": 3
   },
   "file_extension": ".py",
   "mimetype": "text/x-python",
   "name": "python",
   "nbconvert_exporter": "python",
   "pygments_lexer": "ipython3",
   "version": "3.6.15"
  },
  "papermill": {
   "default_parameters": {},
   "duration": 15.489755,
   "end_time": "2022-05-28T02:45:59.176952",
   "environment_variables": {},
   "exception": null,
   "input_path": "App-Correlation_charts.ipynb",
   "output_path": "App-Correlation_charts.ipynb",
   "parameters": {},
   "start_time": "2022-05-28T02:45:43.687197",
   "version": "2.2.2"
  }
 },
 "nbformat": 4,
 "nbformat_minor": 5
}