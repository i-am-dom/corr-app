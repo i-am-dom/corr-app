{
 "cells": [
  {
   "cell_type": "markdown",
   "id": "touched-facility",
   "metadata": {
    "papermill": {
     "duration": 0.015188,
     "end_time": "2021-11-03T01:56:53.392429",
     "exception": false,
     "start_time": "2021-11-03T01:56:53.377241",
     "status": "completed"
    },
    "tags": []
   },
   "source": [
    "# Koreliacijų matrica\n",
    "> Išplėstinė koreliacijų matrica. \n",
    "\n",
    "- toc: true \n",
    "- badges: true\n",
    "- comments: false\n",
    "- categories: [Dominykas Tautkus]\n",
    "- image: images/matrix.png"
   ]
  },
  {
   "cell_type": "code",
   "execution_count": null,
   "id": "premium-weekend",
   "metadata": {
    "papermill": {
     "duration": 0.010695,
     "end_time": "2021-11-03T01:56:53.414662",
     "exception": false,
     "start_time": "2021-11-03T01:56:53.403967",
     "status": "completed"
    },
    "tags": []
   },
   "outputs": [],
   "source": []
  },
  {
   "cell_type": "code",
   "execution_count": 1,
   "id": "vertical-rebate",
   "metadata": {
    "execution": {
     "iopub.execute_input": "2021-11-03T01:56:53.446401Z",
     "iopub.status.busy": "2021-11-03T01:56:53.445880Z",
     "iopub.status.idle": "2021-11-03T01:56:53.456058Z",
     "shell.execute_reply": "2021-11-03T01:56:53.455600Z"
    },
    "papermill": {
     "duration": 0.030852,
     "end_time": "2021-11-03T01:56:53.456172",
     "exception": false,
     "start_time": "2021-11-03T01:56:53.425320",
     "status": "completed"
    },
    "tags": []
   },
   "outputs": [],
   "source": [
    "#hide\n",
    "%load_ext autoreload\n",
    "%autoreload 2"
   ]
  },
  {
   "cell_type": "code",
   "execution_count": 2,
   "id": "overall-advancement",
   "metadata": {
    "execution": {
     "iopub.execute_input": "2021-11-03T01:56:53.489615Z",
     "iopub.status.busy": "2021-11-03T01:56:53.485374Z",
     "iopub.status.idle": "2021-11-03T01:56:54.632684Z",
     "shell.execute_reply": "2021-11-03T01:56:54.632126Z"
    },
    "papermill": {
     "duration": 1.166063,
     "end_time": "2021-11-03T01:56:54.632833",
     "exception": false,
     "start_time": "2021-11-03T01:56:53.466770",
     "status": "completed"
    },
    "tags": []
   },
   "outputs": [],
   "source": [
    "#hide\n",
    "from scripts.read_data import read_api\n",
    "from IPython.display import HTML\n",
    "import plotly.graph_objects as go\n"
   ]
  },
  {
   "cell_type": "code",
   "execution_count": 3,
   "id": "light-crazy",
   "metadata": {
    "execution": {
     "iopub.execute_input": "2021-11-03T01:56:54.662389Z",
     "iopub.status.busy": "2021-11-03T01:56:54.661851Z",
     "iopub.status.idle": "2021-11-03T01:56:54.683602Z",
     "shell.execute_reply": "2021-11-03T01:56:54.682790Z"
    },
    "papermill": {
     "duration": 0.038676,
     "end_time": "2021-11-03T01:56:54.683736",
     "exception": false,
     "start_time": "2021-11-03T01:56:54.645060",
     "status": "completed"
    },
    "tags": []
   },
   "outputs": [],
   "source": [
    "#hide\n",
    "### ICO koreliacija"
   ]
  },
  {
   "cell_type": "code",
   "execution_count": 4,
   "id": "likely-bahrain",
   "metadata": {
    "execution": {
     "iopub.execute_input": "2021-11-03T01:56:54.712952Z",
     "iopub.status.busy": "2021-11-03T01:56:54.712441Z",
     "iopub.status.idle": "2021-11-03T01:56:55.518096Z",
     "shell.execute_reply": "2021-11-03T01:56:55.517002Z"
    },
    "papermill": {
     "duration": 0.822776,
     "end_time": "2021-11-03T01:56:55.518231",
     "exception": false,
     "start_time": "2021-11-03T01:56:54.695455",
     "status": "completed"
    },
    "tags": []
   },
   "outputs": [],
   "source": [
    "#hide\n",
    "import matplotlib.pyplot as plt\n",
    "import numpy as np\n",
    "import pandas as pd\n",
    "import seaborn as sns\n",
    "import matplotlib.pyplot as plt \n",
    "import matplotlib.dates as mdates\n",
    "import matplotlib.pyplot as plt"
   ]
  },
  {
   "cell_type": "code",
   "execution_count": 5,
   "id": "superior-blanket",
   "metadata": {
    "execution": {
     "iopub.execute_input": "2021-11-03T01:56:55.546975Z",
     "iopub.status.busy": "2021-11-03T01:56:55.543949Z",
     "iopub.status.idle": "2021-11-03T01:57:10.310706Z",
     "shell.execute_reply": "2021-11-03T01:57:10.311167Z"
    },
    "papermill": {
     "duration": 14.781915,
     "end_time": "2021-11-03T01:57:10.311316",
     "exception": false,
     "start_time": "2021-11-03T01:56:55.529401",
     "status": "completed"
    },
    "tags": []
   },
   "outputs": [
    {
     "name": "stderr",
     "output_type": "stream",
     "text": [
      "/home/runner/work/corr-app/corr-app/_notebooks/scripts/read_data.py:187: SettingWithCopyWarning:\n",
      "\n",
      "\n",
      "A value is trying to be set on a copy of a slice from a DataFrame.\n",
      "Try using .loc[row_indexer,col_indexer] = value instead\n",
      "\n",
      "See the caveats in the documentation: https://pandas.pydata.org/pandas-docs/stable/user_guide/indexing.html#returning-a-view-versus-a-copy\n",
      "\n"
     ]
    },
    {
     "name": "stderr",
     "output_type": "stream",
     "text": [
      "/home/runner/work/corr-app/corr-app/_notebooks/scripts/read_data.py:215: SettingWithCopyWarning:\n",
      "\n",
      "\n",
      "A value is trying to be set on a copy of a slice from a DataFrame.\n",
      "Try using .loc[row_indexer,col_indexer] = value instead\n",
      "\n",
      "See the caveats in the documentation: https://pandas.pydata.org/pandas-docs/stable/user_guide/indexing.html#returning-a-view-versus-a-copy\n",
      "\n"
     ]
    }
   ],
   "source": [
    "#hide\n",
    "df_all = read_api()\n",
    "#df_all = df_all.drop(['SP500', 'XAU', 'ETH', 'BTC'], axis=1)\n",
    "\n"
   ]
  },
  {
   "cell_type": "code",
   "execution_count": 6,
   "id": "mature-alert",
   "metadata": {
    "execution": {
     "iopub.execute_input": "2021-11-03T01:57:10.359284Z",
     "iopub.status.busy": "2021-11-03T01:57:10.355968Z",
     "iopub.status.idle": "2021-11-03T01:57:10.375742Z",
     "shell.execute_reply": "2021-11-03T01:57:10.376134Z"
    },
    "papermill": {
     "duration": 0.05296,
     "end_time": "2021-11-03T01:57:10.376269",
     "exception": false,
     "start_time": "2021-11-03T01:57:10.323309",
     "status": "completed"
    },
    "tags": []
   },
   "outputs": [],
   "source": [
    "#hide_input\n",
    "sum_corr = df_all.corr().sum().sort_values(ascending=True).index.values\n",
    "#df_all[sum_corr].corr()"
   ]
  },
  {
   "cell_type": "markdown",
   "id": "complex-syndicate",
   "metadata": {
    "papermill": {
     "duration": 0.011257,
     "end_time": "2021-11-03T01:57:10.398874",
     "exception": false,
     "start_time": "2021-11-03T01:57:10.387617",
     "status": "completed"
    },
    "tags": []
   },
   "source": [
    "## Išplėstinė koreliacijų matrica. "
   ]
  },
  {
   "cell_type": "code",
   "execution_count": 7,
   "id": "atomic-omaha",
   "metadata": {
    "execution": {
     "iopub.execute_input": "2021-11-03T01:57:10.428188Z",
     "iopub.status.busy": "2021-11-03T01:57:10.424348Z",
     "iopub.status.idle": "2021-11-03T01:57:11.589594Z",
     "shell.execute_reply": "2021-11-03T01:57:11.589158Z"
    },
    "papermill": {
     "duration": 1.179501,
     "end_time": "2021-11-03T01:57:11.589716",
     "exception": false,
     "start_time": "2021-11-03T01:57:10.410215",
     "status": "completed"
    },
    "tags": []
   },
   "outputs": [
    {
     "data": {
      "image/png": "[encoded data removed]",
      "text/plain": [
       "<Figure size 1080x792 with 2 Axes>"
      ]
     },
     "metadata": {
      "needs_background": "light"
     },
     "output_type": "display_data"
    }
   ],
   "source": [
    "#hide_input\n",
    "plt.figure(figsize=(15, 11))\n",
    "sns.heatmap(df_all[sum_corr].corr(), annot=True, cmap=\"cubehelix\") \n",
    "sns.set(font_scale=1.25)\n",
    "plt.savefig('corr_matrix.png', format='eps')"
   ]
  },
  {
   "cell_type": "code",
   "execution_count": 8,
   "id": "arbitrary-sullivan",
   "metadata": {
    "execution": {
     "iopub.execute_input": "2021-11-03T01:57:11.628246Z",
     "iopub.status.busy": "2021-11-03T01:57:11.620058Z",
     "iopub.status.idle": "2021-11-03T01:57:11.645744Z",
     "shell.execute_reply": "2021-11-03T01:57:11.645228Z"
    },
    "papermill": {
     "duration": 0.042342,
     "end_time": "2021-11-03T01:57:11.645859",
     "exception": false,
     "start_time": "2021-11-03T01:57:11.603517",
     "status": "completed"
    },
    "tags": []
   },
   "outputs": [],
   "source": [
    "#hide\n",
    "#df_all_mrk = read_api()"
   ]
  },
  {
   "cell_type": "code",
   "execution_count": 9,
   "id": "delayed-adapter",
   "metadata": {
    "execution": {
     "iopub.execute_input": "2021-11-03T01:57:11.679758Z",
     "iopub.status.busy": "2021-11-03T01:57:11.679145Z",
     "iopub.status.idle": "2021-11-03T01:57:11.701965Z",
     "shell.execute_reply": "2021-11-03T01:57:11.701387Z"
    },
    "papermill": {
     "duration": 0.042771,
     "end_time": "2021-11-03T01:57:11.702080",
     "exception": false,
     "start_time": "2021-11-03T01:57:11.659309",
     "status": "completed"
    },
    "tags": []
   },
   "outputs": [],
   "source": [
    "#hide\n",
    "#Koreliacijų koeficientai"
   ]
  },
  {
   "cell_type": "code",
   "execution_count": 10,
   "id": "seeing-celebration",
   "metadata": {
    "execution": {
     "iopub.execute_input": "2021-11-03T01:57:11.736667Z",
     "iopub.status.busy": "2021-11-03T01:57:11.736163Z",
     "iopub.status.idle": "2021-11-03T01:57:11.760530Z",
     "shell.execute_reply": "2021-11-03T01:57:11.760021Z"
    },
    "papermill": {
     "duration": 0.044374,
     "end_time": "2021-11-03T01:57:11.760635",
     "exception": false,
     "start_time": "2021-11-03T01:57:11.716261",
     "status": "completed"
    },
    "tags": []
   },
   "outputs": [],
   "source": [
    "#hide_input\n",
    "#sum_corr = df_all_mrk.corr().sum().sort_values(ascending=True).index.values\n",
    "#df_all_mrk[sum_corr].corr()"
   ]
  },
  {
   "cell_type": "code",
   "execution_count": 11,
   "id": "other-painting",
   "metadata": {
    "execution": {
     "iopub.execute_input": "2021-11-03T01:57:11.790031Z",
     "iopub.status.busy": "2021-11-03T01:57:11.789527Z",
     "iopub.status.idle": "2021-11-03T01:57:11.814714Z",
     "shell.execute_reply": "2021-11-03T01:57:11.814309Z"
    },
    "papermill": {
     "duration": 0.040845,
     "end_time": "2021-11-03T01:57:11.814822",
     "exception": false,
     "start_time": "2021-11-03T01:57:11.773977",
     "status": "completed"
    },
    "tags": []
   },
   "outputs": [],
   "source": [
    "#hide\n",
    "#Koreliacijos matrica. "
   ]
  },
  {
   "cell_type": "code",
   "execution_count": 12,
   "id": "modular-magnitude",
   "metadata": {
    "execution": {
     "iopub.execute_input": "2021-11-03T01:57:11.844672Z",
     "iopub.status.busy": "2021-11-03T01:57:11.844171Z",
     "iopub.status.idle": "2021-11-03T01:57:11.868956Z",
     "shell.execute_reply": "2021-11-03T01:57:11.869401Z"
    },
    "papermill": {
     "duration": 0.041257,
     "end_time": "2021-11-03T01:57:11.869544",
     "exception": false,
     "start_time": "2021-11-03T01:57:11.828287",
     "status": "completed"
    },
    "tags": []
   },
   "outputs": [],
   "source": [
    "#hide_input\n",
    "#plt.figure(figsize=(15, 8))\n",
    "#sns.heatmap(df_all_mrk[sum_corr].corr(), annot=True, cmap=\"BrBG\");\n",
    "#plt.savefig('corr_matrix_all.eps', format='eps')"
   ]
  },
  {
   "cell_type": "code",
   "execution_count": null,
   "id": "original-senator",
   "metadata": {
    "papermill": {
     "duration": 0.01318,
     "end_time": "2021-11-03T01:57:11.896145",
     "exception": false,
     "start_time": "2021-11-03T01:57:11.882965",
     "status": "completed"
    },
    "tags": []
   },
   "outputs": [],
   "source": []
  },
  {
   "cell_type": "code",
   "execution_count": null,
   "id": "saving-secretariat",
   "metadata": {
    "papermill": {
     "duration": 0.013151,
     "end_time": "2021-11-03T01:57:11.922521",
     "exception": false,
     "start_time": "2021-11-03T01:57:11.909370",
     "status": "completed"
    },
    "tags": []
   },
   "outputs": [],
   "source": []
  }
 ],
 "metadata": {
  "kernelspec": {
   "display_name": "Python 3",
   "language": "python",
   "name": "python3"
  },
  "language_info": {
   "codemirror_mode": {
    "name": "ipython",
    "version": 3
   },
   "file_extension": ".py",
   "mimetype": "text/x-python",
   "name": "python",
   "nbconvert_exporter": "python",
   "pygments_lexer": "ipython3",
   "version": "3.6.15"
  },
  "papermill": {
   "default_parameters": {},
   "duration": 20.028398,
   "end_time": "2021-11-03T01:57:12.444937",
   "environment_variables": {},
   "exception": null,
   "input_path": "App-Correlation_charts.ipynb",
   "output_path": "App-Correlation_charts.ipynb",
   "parameters": {},
   "start_time": "2021-11-03T01:56:52.416539",
   "version": "2.2.2"
  }
 },
 "nbformat": 4,
 "nbformat_minor": 5
}