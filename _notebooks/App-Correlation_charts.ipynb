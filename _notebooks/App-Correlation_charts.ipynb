{
 "cells": [
  {
   "cell_type": "markdown",
   "id": "touched-facility",
   "metadata": {
    "papermill": {
     "duration": 0.018232,
     "end_time": "2022-04-24T02:30:47.676827",
     "exception": false,
     "start_time": "2022-04-24T02:30:47.658595",
     "status": "completed"
    },
    "tags": []
   },
   "source": [
    "# Koreliacijų matrica\n",
    "> Išplėstinė koreliacijų matrica. \n",
    "\n",
    "- toc: true \n",
    "- badges: true\n",
    "- comments: false\n",
    "- categories: [Dominykas Tautkus]\n",
    "- image: images/matrix.png"
   ]
  },
  {
   "cell_type": "code",
   "execution_count": null,
   "id": "premium-weekend",
   "metadata": {
    "papermill": {
     "duration": 0.013894,
     "end_time": "2022-04-24T02:30:47.704985",
     "exception": false,
     "start_time": "2022-04-24T02:30:47.691091",
     "status": "completed"
    },
    "tags": []
   },
   "outputs": [],
   "source": []
  },
  {
   "cell_type": "code",
   "execution_count": 1,
   "id": "vertical-rebate",
   "metadata": {
    "execution": {
     "iopub.execute_input": "2022-04-24T02:30:47.746060Z",
     "iopub.status.busy": "2022-04-24T02:30:47.745341Z",
     "iopub.status.idle": "2022-04-24T02:30:47.757415Z",
     "shell.execute_reply": "2022-04-24T02:30:47.756807Z"
    },
    "papermill": {
     "duration": 0.038665,
     "end_time": "2022-04-24T02:30:47.757573",
     "exception": false,
     "start_time": "2022-04-24T02:30:47.718908",
     "status": "completed"
    },
    "tags": []
   },
   "outputs": [],
   "source": [
    "#hide\n",
    "%load_ext autoreload\n",
    "%autoreload 2"
   ]
  },
  {
   "cell_type": "code",
   "execution_count": 2,
   "id": "overall-advancement",
   "metadata": {
    "execution": {
     "iopub.execute_input": "2022-04-24T02:30:47.790004Z",
     "iopub.status.busy": "2022-04-24T02:30:47.789336Z",
     "iopub.status.idle": "2022-04-24T02:30:49.214461Z",
     "shell.execute_reply": "2022-04-24T02:30:49.213875Z"
    },
    "papermill": {
     "duration": 1.442637,
     "end_time": "2022-04-24T02:30:49.214623",
     "exception": false,
     "start_time": "2022-04-24T02:30:47.771986",
     "status": "completed"
    },
    "tags": []
   },
   "outputs": [],
   "source": [
    "#hide\n",
    "from scripts.read_data import read_api\n",
    "from IPython.display import HTML\n",
    "import plotly.graph_objects as go\n"
   ]
  },
  {
   "cell_type": "code",
   "execution_count": 3,
   "id": "light-crazy",
   "metadata": {
    "execution": {
     "iopub.execute_input": "2022-04-24T02:30:49.251008Z",
     "iopub.status.busy": "2022-04-24T02:30:49.250286Z",
     "iopub.status.idle": "2022-04-24T02:30:49.276956Z",
     "shell.execute_reply": "2022-04-24T02:30:49.277495Z"
    },
    "papermill": {
     "duration": 0.048795,
     "end_time": "2022-04-24T02:30:49.277642",
     "exception": false,
     "start_time": "2022-04-24T02:30:49.228847",
     "status": "completed"
    },
    "tags": []
   },
   "outputs": [],
   "source": [
    "#hide\n",
    "### ICO koreliacija"
   ]
  },
  {
   "cell_type": "code",
   "execution_count": 4,
   "id": "likely-bahrain",
   "metadata": {
    "execution": {
     "iopub.execute_input": "2022-04-24T02:30:49.309642Z",
     "iopub.status.busy": "2022-04-24T02:30:49.308993Z",
     "iopub.status.idle": "2022-04-24T02:30:50.362718Z",
     "shell.execute_reply": "2022-04-24T02:30:50.361673Z"
    },
    "papermill": {
     "duration": 1.071949,
     "end_time": "2022-04-24T02:30:50.363027",
     "exception": false,
     "start_time": "2022-04-24T02:30:49.291078",
     "status": "completed"
    },
    "tags": []
   },
   "outputs": [],
   "source": [
    "#hide\n",
    "import matplotlib.pyplot as plt\n",
    "import numpy as np\n",
    "import pandas as pd\n",
    "import seaborn as sns\n",
    "import matplotlib.pyplot as plt \n",
    "import matplotlib.dates as mdates\n",
    "import matplotlib.pyplot as plt"
   ]
  },
  {
   "cell_type": "code",
   "execution_count": 5,
   "id": "superior-blanket",
   "metadata": {
    "execution": {
     "iopub.execute_input": "2022-04-24T02:30:50.396651Z",
     "iopub.status.busy": "2022-04-24T02:30:50.395905Z",
     "iopub.status.idle": "2022-04-24T02:31:03.437974Z",
     "shell.execute_reply": "2022-04-24T02:31:03.438502Z"
    },
    "papermill": {
     "duration": 13.061062,
     "end_time": "2022-04-24T02:31:03.438833",
     "exception": false,
     "start_time": "2022-04-24T02:30:50.377771",
     "status": "completed"
    },
    "tags": []
   },
   "outputs": [
    {
     "name": "stderr",
     "output_type": "stream",
     "text": [
      "/home/runner/work/corr-app/corr-app/_notebooks/scripts/read_data.py:187: SettingWithCopyWarning:\n",
      "\n",
      "\n",
      "A value is trying to be set on a copy of a slice from a DataFrame.\n",
      "Try using .loc[row_indexer,col_indexer] = value instead\n",
      "\n",
      "See the caveats in the documentation: https://pandas.pydata.org/pandas-docs/stable/user_guide/indexing.html#returning-a-view-versus-a-copy\n",
      "\n"
     ]
    },
    {
     "name": "stderr",
     "output_type": "stream",
     "text": [
      "/home/runner/work/corr-app/corr-app/_notebooks/scripts/read_data.py:215: SettingWithCopyWarning:\n",
      "\n",
      "\n",
      "A value is trying to be set on a copy of a slice from a DataFrame.\n",
      "Try using .loc[row_indexer,col_indexer] = value instead\n",
      "\n",
      "See the caveats in the documentation: https://pandas.pydata.org/pandas-docs/stable/user_guide/indexing.html#returning-a-view-versus-a-copy\n",
      "\n"
     ]
    }
   ],
   "source": [
    "#hide\n",
    "df_all = read_api()\n",
    "#df_all = df_all.drop(['SP500', 'XAU', 'ETH', 'BTC'], axis=1)\n",
    "\n"
   ]
  },
  {
   "cell_type": "code",
   "execution_count": 6,
   "id": "mature-alert",
   "metadata": {
    "execution": {
     "iopub.execute_input": "2022-04-24T02:31:03.473427Z",
     "iopub.status.busy": "2022-04-24T02:31:03.472710Z",
     "iopub.status.idle": "2022-04-24T02:31:03.510452Z",
     "shell.execute_reply": "2022-04-24T02:31:03.510954Z"
    },
    "papermill": {
     "duration": 0.05691,
     "end_time": "2022-04-24T02:31:03.511130",
     "exception": false,
     "start_time": "2022-04-24T02:31:03.454220",
     "status": "completed"
    },
    "tags": []
   },
   "outputs": [],
   "source": [
    "#hide_input\n",
    "sum_corr = df_all.corr().sum().sort_values(ascending=True).index.values\n",
    "#df_all[sum_corr].corr()"
   ]
  },
  {
   "cell_type": "markdown",
   "id": "complex-syndicate",
   "metadata": {
    "papermill": {
     "duration": 0.014216,
     "end_time": "2022-04-24T02:31:03.541608",
     "exception": false,
     "start_time": "2022-04-24T02:31:03.527392",
     "status": "completed"
    },
    "tags": []
   },
   "source": [
    "## Išplėstinė koreliacijų matrica. "
   ]
  },
  {
   "cell_type": "code",
   "execution_count": 7,
   "id": "atomic-omaha",
   "metadata": {
    "execution": {
     "iopub.execute_input": "2022-04-24T02:31:03.575299Z",
     "iopub.status.busy": "2022-04-24T02:31:03.574627Z",
     "iopub.status.idle": "2022-04-24T02:31:05.265823Z",
     "shell.execute_reply": "2022-04-24T02:31:05.266381Z"
    },
    "papermill": {
     "duration": 1.710694,
     "end_time": "2022-04-24T02:31:05.266576",
     "exception": false,
     "start_time": "2022-04-24T02:31:03.555882",
     "status": "completed"
    },
    "tags": []
   },
   "outputs": [
    {
     "data": {
      "image/png": "[encoded data removed]",
      "text/plain": [
       "<Figure size 1080x792 with 2 Axes>"
      ]
     },
     "metadata": {
      "needs_background": "light"
     },
     "output_type": "display_data"
    }
   ],
   "source": [
    "#hide_input\n",
    "plt.figure(figsize=(15, 11))\n",
    "sns.heatmap(df_all[sum_corr].corr(), annot=True, cmap=\"cubehelix\") \n",
    "sns.set(font_scale=1.25)\n",
    "plt.savefig('corr_matrix.png', format='eps')"
   ]
  },
  {
   "cell_type": "code",
   "execution_count": 8,
   "id": "arbitrary-sullivan",
   "metadata": {
    "execution": {
     "iopub.execute_input": "2022-04-24T02:31:05.304881Z",
     "iopub.status.busy": "2022-04-24T02:31:05.304197Z",
     "iopub.status.idle": "2022-04-24T02:31:05.336826Z",
     "shell.execute_reply": "2022-04-24T02:31:05.336217Z"
    },
    "papermill": {
     "duration": 0.053742,
     "end_time": "2022-04-24T02:31:05.336964",
     "exception": false,
     "start_time": "2022-04-24T02:31:05.283222",
     "status": "completed"
    },
    "tags": []
   },
   "outputs": [],
   "source": [
    "#hide\n",
    "#df_all_mrk = read_api()"
   ]
  },
  {
   "cell_type": "code",
   "execution_count": 9,
   "id": "delayed-adapter",
   "metadata": {
    "execution": {
     "iopub.execute_input": "2022-04-24T02:31:05.374135Z",
     "iopub.status.busy": "2022-04-24T02:31:05.373346Z",
     "iopub.status.idle": "2022-04-24T02:31:05.400802Z",
     "shell.execute_reply": "2022-04-24T02:31:05.401398Z"
    },
    "papermill": {
     "duration": 0.047467,
     "end_time": "2022-04-24T02:31:05.401535",
     "exception": false,
     "start_time": "2022-04-24T02:31:05.354068",
     "status": "completed"
    },
    "tags": []
   },
   "outputs": [],
   "source": [
    "#hide\n",
    "#Koreliacijų koeficientai"
   ]
  },
  {
   "cell_type": "code",
   "execution_count": 10,
   "id": "seeing-celebration",
   "metadata": {
    "execution": {
     "iopub.execute_input": "2022-04-24T02:31:05.440553Z",
     "iopub.status.busy": "2022-04-24T02:31:05.439781Z",
     "iopub.status.idle": "2022-04-24T02:31:05.469822Z",
     "shell.execute_reply": "2022-04-24T02:31:05.470448Z"
    },
    "papermill": {
     "duration": 0.051467,
     "end_time": "2022-04-24T02:31:05.470610",
     "exception": false,
     "start_time": "2022-04-24T02:31:05.419143",
     "status": "completed"
    },
    "tags": []
   },
   "outputs": [],
   "source": [
    "#hide_input\n",
    "#sum_corr = df_all_mrk.corr().sum().sort_values(ascending=True).index.values\n",
    "#df_all_mrk[sum_corr].corr()"
   ]
  },
  {
   "cell_type": "code",
   "execution_count": 11,
   "id": "other-painting",
   "metadata": {
    "execution": {
     "iopub.execute_input": "2022-04-24T02:31:05.512385Z",
     "iopub.status.busy": "2022-04-24T02:31:05.511521Z",
     "iopub.status.idle": "2022-04-24T02:31:05.542748Z",
     "shell.execute_reply": "2022-04-24T02:31:05.541933Z"
    },
    "papermill": {
     "duration": 0.050266,
     "end_time": "2022-04-24T02:31:05.542888",
     "exception": false,
     "start_time": "2022-04-24T02:31:05.492622",
     "status": "completed"
    },
    "tags": []
   },
   "outputs": [],
   "source": [
    "#hide\n",
    "#Koreliacijos matrica. "
   ]
  },
  {
   "cell_type": "code",
   "execution_count": 12,
   "id": "modular-magnitude",
   "metadata": {
    "execution": {
     "iopub.execute_input": "2022-04-24T02:31:05.579959Z",
     "iopub.status.busy": "2022-04-24T02:31:05.579207Z",
     "iopub.status.idle": "2022-04-24T02:31:05.609043Z",
     "shell.execute_reply": "2022-04-24T02:31:05.608412Z"
    },
    "papermill": {
     "duration": 0.049827,
     "end_time": "2022-04-24T02:31:05.609183",
     "exception": false,
     "start_time": "2022-04-24T02:31:05.559356",
     "status": "completed"
    },
    "tags": []
   },
   "outputs": [],
   "source": [
    "#hide_input\n",
    "#plt.figure(figsize=(15, 8))\n",
    "#sns.heatmap(df_all_mrk[sum_corr].corr(), annot=True, cmap=\"BrBG\");\n",
    "#plt.savefig('corr_matrix_all.eps', format='eps')"
   ]
  },
  {
   "cell_type": "code",
   "execution_count": null,
   "id": "original-senator",
   "metadata": {
    "papermill": {
     "duration": 0.015996,
     "end_time": "2022-04-24T02:31:05.641570",
     "exception": false,
     "start_time": "2022-04-24T02:31:05.625574",
     "status": "completed"
    },
    "tags": []
   },
   "outputs": [],
   "source": []
  },
  {
   "cell_type": "code",
   "execution_count": null,
   "id": "saving-secretariat",
   "metadata": {
    "papermill": {
     "duration": 0.016539,
     "end_time": "2022-04-24T02:31:05.674794",
     "exception": false,
     "start_time": "2022-04-24T02:31:05.658255",
     "status": "completed"
    },
    "tags": []
   },
   "outputs": [],
   "source": []
  }
 ],
 "metadata": {
  "kernelspec": {
   "display_name": "Python 3",
   "language": "python",
   "name": "python3"
  },
  "language_info": {
   "codemirror_mode": {
    "name": "ipython",
    "version": 3
   },
   "file_extension": ".py",
   "mimetype": "text/x-python",
   "name": "python",
   "nbconvert_exporter": "python",
   "pygments_lexer": "ipython3",
   "version": "3.6.15"
  },
  "papermill": {
   "default_parameters": {},
   "duration": 19.886639,
   "end_time": "2022-04-24T02:31:06.212247",
   "environment_variables": {},
   "exception": null,
   "input_path": "App-Correlation_charts.ipynb",
   "output_path": "App-Correlation_charts.ipynb",
   "parameters": {},
   "start_time": "2022-04-24T02:30:46.325608",
   "version": "2.2.2"
  }
 },
 "nbformat": 4,
 "nbformat_minor": 5
}