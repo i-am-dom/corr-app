{
 "cells": [
  {
   "cell_type": "markdown",
   "id": "touched-facility",
   "metadata": {
    "papermill": {
     "duration": 0.015616,
     "end_time": "2022-09-13T03:47:22.340222",
     "exception": false,
     "start_time": "2022-09-13T03:47:22.324606",
     "status": "completed"
    },
    "tags": []
   },
   "source": [
    "# Koreliacijų matrica\n",
    "> Išplėstinė koreliacijų matrica. \n",
    "\n",
    "- toc: true \n",
    "- badges: true\n",
    "- comments: false\n",
    "- categories: [Dominykas Tautkus]\n",
    "- image: images/matrix.png"
   ]
  },
  {
   "cell_type": "code",
   "execution_count": null,
   "id": "premium-weekend",
   "metadata": {
    "papermill": {
     "duration": 0.010811,
     "end_time": "2022-09-13T03:47:22.362238",
     "exception": false,
     "start_time": "2022-09-13T03:47:22.351427",
     "status": "completed"
    },
    "tags": []
   },
   "outputs": [],
   "source": []
  },
  {
   "cell_type": "code",
   "execution_count": 1,
   "id": "vertical-rebate",
   "metadata": {
    "execution": {
     "iopub.execute_input": "2022-09-13T03:47:22.394039Z",
     "iopub.status.busy": "2022-09-13T03:47:22.393434Z",
     "iopub.status.idle": "2022-09-13T03:47:22.403943Z",
     "shell.execute_reply": "2022-09-13T03:47:22.404386Z"
    },
    "papermill": {
     "duration": 0.031791,
     "end_time": "2022-09-13T03:47:22.404540",
     "exception": false,
     "start_time": "2022-09-13T03:47:22.372749",
     "status": "completed"
    },
    "tags": []
   },
   "outputs": [],
   "source": [
    "#hide\n",
    "%load_ext autoreload\n",
    "%autoreload 2"
   ]
  },
  {
   "cell_type": "code",
   "execution_count": 2,
   "id": "overall-advancement",
   "metadata": {
    "execution": {
     "iopub.execute_input": "2022-09-13T03:47:22.429446Z",
     "iopub.status.busy": "2022-09-13T03:47:22.428858Z",
     "iopub.status.idle": "2022-09-13T03:47:23.775993Z",
     "shell.execute_reply": "2022-09-13T03:47:23.774930Z"
    },
    "papermill": {
     "duration": 1.361119,
     "end_time": "2022-09-13T03:47:23.776144",
     "exception": false,
     "start_time": "2022-09-13T03:47:22.415025",
     "status": "completed"
    },
    "tags": []
   },
   "outputs": [],
   "source": [
    "#hide\n",
    "from scripts.read_data import read_api\n",
    "from IPython.display import HTML\n",
    "import plotly.graph_objects as go\n"
   ]
  },
  {
   "cell_type": "code",
   "execution_count": 3,
   "id": "light-crazy",
   "metadata": {
    "execution": {
     "iopub.execute_input": "2022-09-13T03:47:23.802434Z",
     "iopub.status.busy": "2022-09-13T03:47:23.801798Z",
     "iopub.status.idle": "2022-09-13T03:47:23.824520Z",
     "shell.execute_reply": "2022-09-13T03:47:23.825020Z"
    },
    "papermill": {
     "duration": 0.038204,
     "end_time": "2022-09-13T03:47:23.825169",
     "exception": false,
     "start_time": "2022-09-13T03:47:23.786965",
     "status": "completed"
    },
    "tags": []
   },
   "outputs": [],
   "source": [
    "#hide\n",
    "### ICO koreliacija"
   ]
  },
  {
   "cell_type": "code",
   "execution_count": 4,
   "id": "likely-bahrain",
   "metadata": {
    "execution": {
     "iopub.execute_input": "2022-09-13T03:47:23.858054Z",
     "iopub.status.busy": "2022-09-13T03:47:23.857148Z",
     "iopub.status.idle": "2022-09-13T03:47:24.715118Z",
     "shell.execute_reply": "2022-09-13T03:47:24.715587Z"
    },
    "papermill": {
     "duration": 0.880142,
     "end_time": "2022-09-13T03:47:24.715782",
     "exception": false,
     "start_time": "2022-09-13T03:47:23.835640",
     "status": "completed"
    },
    "tags": []
   },
   "outputs": [],
   "source": [
    "#hide\n",
    "import matplotlib.pyplot as plt\n",
    "import numpy as np\n",
    "import pandas as pd\n",
    "import seaborn as sns\n",
    "import matplotlib.pyplot as plt \n",
    "import matplotlib.dates as mdates\n",
    "import matplotlib.pyplot as plt"
   ]
  },
  {
   "cell_type": "code",
   "execution_count": 5,
   "id": "superior-blanket",
   "metadata": {
    "execution": {
     "iopub.execute_input": "2022-09-13T03:47:24.741940Z",
     "iopub.status.busy": "2022-09-13T03:47:24.741342Z",
     "iopub.status.idle": "2022-09-13T03:47:38.103976Z",
     "shell.execute_reply": "2022-09-13T03:47:38.103369Z"
    },
    "papermill": {
     "duration": 13.377483,
     "end_time": "2022-09-13T03:47:38.104112",
     "exception": false,
     "start_time": "2022-09-13T03:47:24.726629",
     "status": "completed"
    },
    "tags": []
   },
   "outputs": [
    {
     "name": "stderr",
     "output_type": "stream",
     "text": [
      "/home/runner/work/corr-app/corr-app/_notebooks/scripts/read_data.py:187: SettingWithCopyWarning:\n",
      "\n",
      "\n",
      "A value is trying to be set on a copy of a slice from a DataFrame.\n",
      "Try using .loc[row_indexer,col_indexer] = value instead\n",
      "\n",
      "See the caveats in the documentation: https://pandas.pydata.org/pandas-docs/stable/user_guide/indexing.html#returning-a-view-versus-a-copy\n",
      "\n"
     ]
    },
    {
     "name": "stderr",
     "output_type": "stream",
     "text": [
      "/home/runner/work/corr-app/corr-app/_notebooks/scripts/read_data.py:215: SettingWithCopyWarning:\n",
      "\n",
      "\n",
      "A value is trying to be set on a copy of a slice from a DataFrame.\n",
      "Try using .loc[row_indexer,col_indexer] = value instead\n",
      "\n",
      "See the caveats in the documentation: https://pandas.pydata.org/pandas-docs/stable/user_guide/indexing.html#returning-a-view-versus-a-copy\n",
      "\n"
     ]
    }
   ],
   "source": [
    "#hide\n",
    "df_all = read_api()\n",
    "#df_all = df_all.drop(['SP500', 'XAU', 'ETH', 'BTC'], axis=1)\n",
    "\n"
   ]
  },
  {
   "cell_type": "code",
   "execution_count": 6,
   "id": "mature-alert",
   "metadata": {
    "execution": {
     "iopub.execute_input": "2022-09-13T03:47:38.149004Z",
     "iopub.status.busy": "2022-09-13T03:47:38.140337Z",
     "iopub.status.idle": "2022-09-13T03:47:38.170353Z",
     "shell.execute_reply": "2022-09-13T03:47:38.170807Z"
    },
    "papermill": {
     "duration": 0.054003,
     "end_time": "2022-09-13T03:47:38.170963",
     "exception": false,
     "start_time": "2022-09-13T03:47:38.116960",
     "status": "completed"
    },
    "tags": []
   },
   "outputs": [],
   "source": [
    "#hide_input\n",
    "sum_corr = df_all.corr().sum().sort_values(ascending=True).index.values\n",
    "#df_all[sum_corr].corr()"
   ]
  },
  {
   "cell_type": "markdown",
   "id": "complex-syndicate",
   "metadata": {
    "papermill": {
     "duration": 0.011304,
     "end_time": "2022-09-13T03:47:38.193620",
     "exception": false,
     "start_time": "2022-09-13T03:47:38.182316",
     "status": "completed"
    },
    "tags": []
   },
   "source": [
    "## Išplėstinė koreliacijų matrica. "
   ]
  },
  {
   "cell_type": "code",
   "execution_count": 7,
   "id": "atomic-omaha",
   "metadata": {
    "execution": {
     "iopub.execute_input": "2022-09-13T03:47:38.225292Z",
     "iopub.status.busy": "2022-09-13T03:47:38.224673Z",
     "iopub.status.idle": "2022-09-13T03:47:39.427121Z",
     "shell.execute_reply": "2022-09-13T03:47:39.426646Z"
    },
    "papermill": {
     "duration": 1.222319,
     "end_time": "2022-09-13T03:47:39.427248",
     "exception": false,
     "start_time": "2022-09-13T03:47:38.204929",
     "status": "completed"
    },
    "tags": []
   },
   "outputs": [
    {
     "data": {
      "image/png": "[encoded data removed]",
      "text/plain": [
       "<Figure size 1080x792 with 2 Axes>"
      ]
     },
     "metadata": {
      "needs_background": "light"
     },
     "output_type": "display_data"
    }
   ],
   "source": [
    "#hide_input\n",
    "plt.figure(figsize=(15, 11))\n",
    "sns.heatmap(df_all[sum_corr].corr(), annot=True, cmap=\"cubehelix\") \n",
    "sns.set(font_scale=1.25)\n",
    "plt.savefig('corr_matrix.png', format='eps')"
   ]
  },
  {
   "cell_type": "code",
   "execution_count": 8,
   "id": "arbitrary-sullivan",
   "metadata": {
    "execution": {
     "iopub.execute_input": "2022-09-13T03:47:39.458192Z",
     "iopub.status.busy": "2022-09-13T03:47:39.457507Z",
     "iopub.status.idle": "2022-09-13T03:47:39.485459Z",
     "shell.execute_reply": "2022-09-13T03:47:39.484905Z"
    },
    "papermill": {
     "duration": 0.04486,
     "end_time": "2022-09-13T03:47:39.485599",
     "exception": false,
     "start_time": "2022-09-13T03:47:39.440739",
     "status": "completed"
    },
    "tags": []
   },
   "outputs": [],
   "source": [
    "#hide\n",
    "#df_all_mrk = read_api()"
   ]
  },
  {
   "cell_type": "code",
   "execution_count": 9,
   "id": "delayed-adapter",
   "metadata": {
    "execution": {
     "iopub.execute_input": "2022-09-13T03:47:39.517309Z",
     "iopub.status.busy": "2022-09-13T03:47:39.516717Z",
     "iopub.status.idle": "2022-09-13T03:47:39.544748Z",
     "shell.execute_reply": "2022-09-13T03:47:39.544268Z"
    },
    "papermill": {
     "duration": 0.044889,
     "end_time": "2022-09-13T03:47:39.544873",
     "exception": false,
     "start_time": "2022-09-13T03:47:39.499984",
     "status": "completed"
    },
    "tags": []
   },
   "outputs": [],
   "source": [
    "#hide\n",
    "#Koreliacijų koeficientai"
   ]
  },
  {
   "cell_type": "code",
   "execution_count": 10,
   "id": "seeing-celebration",
   "metadata": {
    "execution": {
     "iopub.execute_input": "2022-09-13T03:47:39.583706Z",
     "iopub.status.busy": "2022-09-13T03:47:39.583087Z",
     "iopub.status.idle": "2022-09-13T03:47:39.604230Z",
     "shell.execute_reply": "2022-09-13T03:47:39.604657Z"
    },
    "papermill": {
     "duration": 0.046688,
     "end_time": "2022-09-13T03:47:39.604790",
     "exception": false,
     "start_time": "2022-09-13T03:47:39.558102",
     "status": "completed"
    },
    "tags": []
   },
   "outputs": [],
   "source": [
    "#hide_input\n",
    "#sum_corr = df_all_mrk.corr().sum().sort_values(ascending=True).index.values\n",
    "#df_all_mrk[sum_corr].corr()"
   ]
  },
  {
   "cell_type": "code",
   "execution_count": 11,
   "id": "other-painting",
   "metadata": {
    "execution": {
     "iopub.execute_input": "2022-09-13T03:47:39.637143Z",
     "iopub.status.busy": "2022-09-13T03:47:39.633905Z",
     "iopub.status.idle": "2022-09-13T03:47:39.662237Z",
     "shell.execute_reply": "2022-09-13T03:47:39.661678Z"
    },
    "papermill": {
     "duration": 0.044397,
     "end_time": "2022-09-13T03:47:39.662365",
     "exception": false,
     "start_time": "2022-09-13T03:47:39.617968",
     "status": "completed"
    },
    "tags": []
   },
   "outputs": [],
   "source": [
    "#hide\n",
    "#Koreliacijos matrica. "
   ]
  },
  {
   "cell_type": "code",
   "execution_count": 12,
   "id": "modular-magnitude",
   "metadata": {
    "execution": {
     "iopub.execute_input": "2022-09-13T03:47:39.704556Z",
     "iopub.status.busy": "2022-09-13T03:47:39.695951Z",
     "iopub.status.idle": "2022-09-13T03:47:39.721641Z",
     "shell.execute_reply": "2022-09-13T03:47:39.721152Z"
    },
    "papermill": {
     "duration": 0.045531,
     "end_time": "2022-09-13T03:47:39.721760",
     "exception": false,
     "start_time": "2022-09-13T03:47:39.676229",
     "status": "completed"
    },
    "tags": []
   },
   "outputs": [],
   "source": [
    "#hide_input\n",
    "#plt.figure(figsize=(15, 8))\n",
    "#sns.heatmap(df_all_mrk[sum_corr].corr(), annot=True, cmap=\"BrBG\");\n",
    "#plt.savefig('corr_matrix_all.eps', format='eps')"
   ]
  },
  {
   "cell_type": "code",
   "execution_count": null,
   "id": "original-senator",
   "metadata": {
    "papermill": {
     "duration": 0.012963,
     "end_time": "2022-09-13T03:47:39.747813",
     "exception": false,
     "start_time": "2022-09-13T03:47:39.734850",
     "status": "completed"
    },
    "tags": []
   },
   "outputs": [],
   "source": []
  },
  {
   "cell_type": "code",
   "execution_count": null,
   "id": "saving-secretariat",
   "metadata": {
    "papermill": {
     "duration": 0.012869,
     "end_time": "2022-09-13T03:47:39.773642",
     "exception": false,
     "start_time": "2022-09-13T03:47:39.760773",
     "status": "completed"
    },
    "tags": []
   },
   "outputs": [],
   "source": []
  }
 ],
 "metadata": {
  "kernelspec": {
   "display_name": "Python 3",
   "language": "python",
   "name": "python3"
  },
  "language_info": {
   "codemirror_mode": {
    "name": "ipython",
    "version": 3
   },
   "file_extension": ".py",
   "mimetype": "text/x-python",
   "name": "python",
   "nbconvert_exporter": "python",
   "pygments_lexer": "ipython3",
   "version": "3.6.15"
  },
  "papermill": {
   "default_parameters": {},
   "duration": 19.320001,
   "end_time": "2022-09-13T03:47:40.406737",
   "environment_variables": {},
   "exception": null,
   "input_path": "App-Correlation_charts.ipynb",
   "output_path": "App-Correlation_charts.ipynb",
   "parameters": {},
   "start_time": "2022-09-13T03:47:21.086736",
   "version": "2.2.2"
  }
 },
 "nbformat": 4,
 "nbformat_minor": 5
}