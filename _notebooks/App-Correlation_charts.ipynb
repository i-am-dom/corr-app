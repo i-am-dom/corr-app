{
 "cells": [
  {
   "cell_type": "markdown",
   "id": "touched-facility",
   "metadata": {
    "papermill": {
     "duration": 0.01619,
     "end_time": "2021-12-13T02:01:13.406384",
     "exception": false,
     "start_time": "2021-12-13T02:01:13.390194",
     "status": "completed"
    },
    "tags": []
   },
   "source": [
    "# Koreliacijų matrica\n",
    "> Išplėstinė koreliacijų matrica. \n",
    "\n",
    "- toc: true \n",
    "- badges: true\n",
    "- comments: false\n",
    "- categories: [Dominykas Tautkus]\n",
    "- image: images/matrix.png"
   ]
  },
  {
   "cell_type": "code",
   "execution_count": null,
   "id": "premium-weekend",
   "metadata": {
    "papermill": {
     "duration": 0.012257,
     "end_time": "2021-12-13T02:01:13.431426",
     "exception": false,
     "start_time": "2021-12-13T02:01:13.419169",
     "status": "completed"
    },
    "tags": []
   },
   "outputs": [],
   "source": []
  },
  {
   "cell_type": "code",
   "execution_count": 1,
   "id": "vertical-rebate",
   "metadata": {
    "execution": {
     "iopub.execute_input": "2021-12-13T02:01:13.467800Z",
     "iopub.status.busy": "2021-12-13T02:01:13.465387Z",
     "iopub.status.idle": "2021-12-13T02:01:13.479060Z",
     "shell.execute_reply": "2021-12-13T02:01:13.478000Z"
    },
    "papermill": {
     "duration": 0.036097,
     "end_time": "2021-12-13T02:01:13.479207",
     "exception": false,
     "start_time": "2021-12-13T02:01:13.443110",
     "status": "completed"
    },
    "tags": []
   },
   "outputs": [],
   "source": [
    "#hide\n",
    "%load_ext autoreload\n",
    "%autoreload 2"
   ]
  },
  {
   "cell_type": "code",
   "execution_count": 2,
   "id": "overall-advancement",
   "metadata": {
    "execution": {
     "iopub.execute_input": "2021-12-13T02:01:13.506224Z",
     "iopub.status.busy": "2021-12-13T02:01:13.505616Z",
     "iopub.status.idle": "2021-12-13T02:01:14.947673Z",
     "shell.execute_reply": "2021-12-13T02:01:14.947123Z"
    },
    "papermill": {
     "duration": 1.457043,
     "end_time": "2021-12-13T02:01:14.947817",
     "exception": false,
     "start_time": "2021-12-13T02:01:13.490774",
     "status": "completed"
    },
    "tags": []
   },
   "outputs": [],
   "source": [
    "#hide\n",
    "from scripts.read_data import read_api\n",
    "from IPython.display import HTML\n",
    "import plotly.graph_objects as go\n"
   ]
  },
  {
   "cell_type": "code",
   "execution_count": 3,
   "id": "light-crazy",
   "metadata": {
    "execution": {
     "iopub.execute_input": "2021-12-13T02:01:14.977077Z",
     "iopub.status.busy": "2021-12-13T02:01:14.976491Z",
     "iopub.status.idle": "2021-12-13T02:01:15.001578Z",
     "shell.execute_reply": "2021-12-13T02:01:15.001054Z"
    },
    "papermill": {
     "duration": 0.041167,
     "end_time": "2021-12-13T02:01:15.001741",
     "exception": false,
     "start_time": "2021-12-13T02:01:14.960574",
     "status": "completed"
    },
    "tags": []
   },
   "outputs": [],
   "source": [
    "#hide\n",
    "### ICO koreliacija"
   ]
  },
  {
   "cell_type": "code",
   "execution_count": 4,
   "id": "likely-bahrain",
   "metadata": {
    "execution": {
     "iopub.execute_input": "2021-12-13T02:01:15.031423Z",
     "iopub.status.busy": "2021-12-13T02:01:15.030828Z",
     "iopub.status.idle": "2021-12-13T02:01:16.057104Z",
     "shell.execute_reply": "2021-12-13T02:01:16.056224Z"
    },
    "papermill": {
     "duration": 1.043144,
     "end_time": "2021-12-13T02:01:16.057327",
     "exception": false,
     "start_time": "2021-12-13T02:01:15.014183",
     "status": "completed"
    },
    "tags": []
   },
   "outputs": [],
   "source": [
    "#hide\n",
    "import matplotlib.pyplot as plt\n",
    "import numpy as np\n",
    "import pandas as pd\n",
    "import seaborn as sns\n",
    "import matplotlib.pyplot as plt \n",
    "import matplotlib.dates as mdates\n",
    "import matplotlib.pyplot as plt"
   ]
  },
  {
   "cell_type": "code",
   "execution_count": 5,
   "id": "superior-blanket",
   "metadata": {
    "execution": {
     "iopub.execute_input": "2021-12-13T02:01:16.091987Z",
     "iopub.status.busy": "2021-12-13T02:01:16.091390Z",
     "iopub.status.idle": "2021-12-13T02:01:29.840541Z",
     "shell.execute_reply": "2021-12-13T02:01:29.839945Z"
    },
    "papermill": {
     "duration": 13.768235,
     "end_time": "2021-12-13T02:01:29.840680",
     "exception": false,
     "start_time": "2021-12-13T02:01:16.072445",
     "status": "completed"
    },
    "tags": []
   },
   "outputs": [
    {
     "name": "stderr",
     "output_type": "stream",
     "text": [
      "/home/runner/work/corr-app/corr-app/_notebooks/scripts/read_data.py:187: SettingWithCopyWarning:\n",
      "\n",
      "\n",
      "A value is trying to be set on a copy of a slice from a DataFrame.\n",
      "Try using .loc[row_indexer,col_indexer] = value instead\n",
      "\n",
      "See the caveats in the documentation: https://pandas.pydata.org/pandas-docs/stable/user_guide/indexing.html#returning-a-view-versus-a-copy\n",
      "\n"
     ]
    },
    {
     "name": "stderr",
     "output_type": "stream",
     "text": [
      "/home/runner/work/corr-app/corr-app/_notebooks/scripts/read_data.py:215: SettingWithCopyWarning:\n",
      "\n",
      "\n",
      "A value is trying to be set on a copy of a slice from a DataFrame.\n",
      "Try using .loc[row_indexer,col_indexer] = value instead\n",
      "\n",
      "See the caveats in the documentation: https://pandas.pydata.org/pandas-docs/stable/user_guide/indexing.html#returning-a-view-versus-a-copy\n",
      "\n"
     ]
    }
   ],
   "source": [
    "#hide\n",
    "df_all = read_api()\n",
    "#df_all = df_all.drop(['SP500', 'XAU', 'ETH', 'BTC'], axis=1)\n",
    "\n"
   ]
  },
  {
   "cell_type": "code",
   "execution_count": 6,
   "id": "mature-alert",
   "metadata": {
    "execution": {
     "iopub.execute_input": "2021-12-13T02:01:29.873396Z",
     "iopub.status.busy": "2021-12-13T02:01:29.872780Z",
     "iopub.status.idle": "2021-12-13T02:01:29.908971Z",
     "shell.execute_reply": "2021-12-13T02:01:29.907545Z"
    },
    "papermill": {
     "duration": 0.053192,
     "end_time": "2021-12-13T02:01:29.909217",
     "exception": false,
     "start_time": "2021-12-13T02:01:29.856025",
     "status": "completed"
    },
    "tags": []
   },
   "outputs": [],
   "source": [
    "#hide_input\n",
    "sum_corr = df_all.corr().sum().sort_values(ascending=True).index.values\n",
    "#df_all[sum_corr].corr()"
   ]
  },
  {
   "cell_type": "markdown",
   "id": "complex-syndicate",
   "metadata": {
    "papermill": {
     "duration": 0.013129,
     "end_time": "2021-12-13T02:01:29.937894",
     "exception": false,
     "start_time": "2021-12-13T02:01:29.924765",
     "status": "completed"
    },
    "tags": []
   },
   "source": [
    "## Išplėstinė koreliacijų matrica. "
   ]
  },
  {
   "cell_type": "code",
   "execution_count": 7,
   "id": "atomic-omaha",
   "metadata": {
    "execution": {
     "iopub.execute_input": "2021-12-13T02:01:29.970017Z",
     "iopub.status.busy": "2021-12-13T02:01:29.969353Z",
     "iopub.status.idle": "2021-12-13T02:01:31.427328Z",
     "shell.execute_reply": "2021-12-13T02:01:31.427809Z"
    },
    "papermill": {
     "duration": 1.477066,
     "end_time": "2021-12-13T02:01:31.427965",
     "exception": false,
     "start_time": "2021-12-13T02:01:29.950899",
     "status": "completed"
    },
    "tags": []
   },
   "outputs": [
    {
     "data": {
      "image/png": "[encoded data removed]",
      "text/plain": [
       "<Figure size 1080x792 with 2 Axes>"
      ]
     },
     "metadata": {
      "needs_background": "light"
     },
     "output_type": "display_data"
    }
   ],
   "source": [
    "#hide_input\n",
    "plt.figure(figsize=(15, 11))\n",
    "sns.heatmap(df_all[sum_corr].corr(), annot=True, cmap=\"cubehelix\") \n",
    "sns.set(font_scale=1.25)\n",
    "plt.savefig('corr_matrix.png', format='eps')"
   ]
  },
  {
   "cell_type": "code",
   "execution_count": 8,
   "id": "arbitrary-sullivan",
   "metadata": {
    "execution": {
     "iopub.execute_input": "2021-12-13T02:01:31.469346Z",
     "iopub.status.busy": "2021-12-13T02:01:31.463189Z",
     "iopub.status.idle": "2021-12-13T02:01:31.494622Z",
     "shell.execute_reply": "2021-12-13T02:01:31.494111Z"
    },
    "papermill": {
     "duration": 0.0508,
     "end_time": "2021-12-13T02:01:31.494760",
     "exception": false,
     "start_time": "2021-12-13T02:01:31.443960",
     "status": "completed"
    },
    "tags": []
   },
   "outputs": [],
   "source": [
    "#hide\n",
    "#df_all_mrk = read_api()"
   ]
  },
  {
   "cell_type": "code",
   "execution_count": 9,
   "id": "delayed-adapter",
   "metadata": {
    "execution": {
     "iopub.execute_input": "2021-12-13T02:01:31.531359Z",
     "iopub.status.busy": "2021-12-13T02:01:31.530743Z",
     "iopub.status.idle": "2021-12-13T02:01:31.562849Z",
     "shell.execute_reply": "2021-12-13T02:01:31.562036Z"
    },
    "papermill": {
     "duration": 0.05294,
     "end_time": "2021-12-13T02:01:31.563057",
     "exception": false,
     "start_time": "2021-12-13T02:01:31.510117",
     "status": "completed"
    },
    "tags": []
   },
   "outputs": [],
   "source": [
    "#hide\n",
    "#Koreliacijų koeficientai"
   ]
  },
  {
   "cell_type": "code",
   "execution_count": 10,
   "id": "seeing-celebration",
   "metadata": {
    "execution": {
     "iopub.execute_input": "2021-12-13T02:01:31.604252Z",
     "iopub.status.busy": "2021-12-13T02:01:31.603439Z",
     "iopub.status.idle": "2021-12-13T02:01:31.634836Z",
     "shell.execute_reply": "2021-12-13T02:01:31.633969Z"
    },
    "papermill": {
     "duration": 0.053887,
     "end_time": "2021-12-13T02:01:31.635041",
     "exception": false,
     "start_time": "2021-12-13T02:01:31.581154",
     "status": "completed"
    },
    "tags": []
   },
   "outputs": [],
   "source": [
    "#hide_input\n",
    "#sum_corr = df_all_mrk.corr().sum().sort_values(ascending=True).index.values\n",
    "#df_all_mrk[sum_corr].corr()"
   ]
  },
  {
   "cell_type": "code",
   "execution_count": 11,
   "id": "other-painting",
   "metadata": {
    "execution": {
     "iopub.execute_input": "2021-12-13T02:01:31.673169Z",
     "iopub.status.busy": "2021-12-13T02:01:31.672549Z",
     "iopub.status.idle": "2021-12-13T02:01:31.704198Z",
     "shell.execute_reply": "2021-12-13T02:01:31.703627Z"
    },
    "papermill": {
     "duration": 0.051588,
     "end_time": "2021-12-13T02:01:31.704337",
     "exception": false,
     "start_time": "2021-12-13T02:01:31.652749",
     "status": "completed"
    },
    "tags": []
   },
   "outputs": [],
   "source": [
    "#hide\n",
    "#Koreliacijos matrica. "
   ]
  },
  {
   "cell_type": "code",
   "execution_count": 12,
   "id": "modular-magnitude",
   "metadata": {
    "execution": {
     "iopub.execute_input": "2021-12-13T02:01:31.739579Z",
     "iopub.status.busy": "2021-12-13T02:01:31.738980Z",
     "iopub.status.idle": "2021-12-13T02:01:31.771272Z",
     "shell.execute_reply": "2021-12-13T02:01:31.770510Z"
    },
    "papermill": {
     "duration": 0.051656,
     "end_time": "2021-12-13T02:01:31.771451",
     "exception": false,
     "start_time": "2021-12-13T02:01:31.719795",
     "status": "completed"
    },
    "tags": []
   },
   "outputs": [],
   "source": [
    "#hide_input\n",
    "#plt.figure(figsize=(15, 8))\n",
    "#sns.heatmap(df_all_mrk[sum_corr].corr(), annot=True, cmap=\"BrBG\");\n",
    "#plt.savefig('corr_matrix_all.eps', format='eps')"
   ]
  },
  {
   "cell_type": "code",
   "execution_count": null,
   "id": "original-senator",
   "metadata": {
    "papermill": {
     "duration": 0.015132,
     "end_time": "2021-12-13T02:01:31.802400",
     "exception": false,
     "start_time": "2021-12-13T02:01:31.787268",
     "status": "completed"
    },
    "tags": []
   },
   "outputs": [],
   "source": []
  },
  {
   "cell_type": "code",
   "execution_count": null,
   "id": "saving-secretariat",
   "metadata": {
    "papermill": {
     "duration": 0.015696,
     "end_time": "2021-12-13T02:01:31.833196",
     "exception": false,
     "start_time": "2021-12-13T02:01:31.817500",
     "status": "completed"
    },
    "tags": []
   },
   "outputs": [],
   "source": []
  }
 ],
 "metadata": {
  "kernelspec": {
   "display_name": "Python 3",
   "language": "python",
   "name": "python3"
  },
  "language_info": {
   "codemirror_mode": {
    "name": "ipython",
    "version": 3
   },
   "file_extension": ".py",
   "mimetype": "text/x-python",
   "name": "python",
   "nbconvert_exporter": "python",
   "pygments_lexer": "ipython3",
   "version": "3.6.15"
  },
  "papermill": {
   "default_parameters": {},
   "duration": 20.358185,
   "end_time": "2021-12-13T02:01:32.459805",
   "environment_variables": {},
   "exception": null,
   "input_path": "App-Correlation_charts.ipynb",
   "output_path": "App-Correlation_charts.ipynb",
   "parameters": {},
   "start_time": "2021-12-13T02:01:12.101620",
   "version": "2.2.2"
  }
 },
 "nbformat": 4,
 "nbformat_minor": 5
}