{
 "cells": [
  {
   "cell_type": "markdown",
   "id": "touched-facility",
   "metadata": {
    "papermill": {
     "duration": 0.014257,
     "end_time": "2022-10-29T03:06:09.969408",
     "exception": false,
     "start_time": "2022-10-29T03:06:09.955151",
     "status": "completed"
    },
    "tags": []
   },
   "source": [
    "# Koreliacijų matrica\n",
    "> Išplėstinė koreliacijų matrica. \n",
    "\n",
    "- toc: true \n",
    "- badges: true\n",
    "- comments: false\n",
    "- categories: [Dominykas Tautkus]\n",
    "- image: images/matrix.png"
   ]
  },
  {
   "cell_type": "code",
   "execution_count": null,
   "id": "premium-weekend",
   "metadata": {
    "papermill": {
     "duration": 0.010718,
     "end_time": "2022-10-29T03:06:09.991508",
     "exception": false,
     "start_time": "2022-10-29T03:06:09.980790",
     "status": "completed"
    },
    "tags": []
   },
   "outputs": [],
   "source": []
  },
  {
   "cell_type": "code",
   "execution_count": 1,
   "id": "vertical-rebate",
   "metadata": {
    "execution": {
     "iopub.execute_input": "2022-10-29T03:06:10.023454Z",
     "iopub.status.busy": "2022-10-29T03:06:10.022863Z",
     "iopub.status.idle": "2022-10-29T03:06:10.033696Z",
     "shell.execute_reply": "2022-10-29T03:06:10.033217Z"
    },
    "papermill": {
     "duration": 0.031571,
     "end_time": "2022-10-29T03:06:10.033809",
     "exception": false,
     "start_time": "2022-10-29T03:06:10.002238",
     "status": "completed"
    },
    "tags": []
   },
   "outputs": [],
   "source": [
    "#hide\n",
    "%load_ext autoreload\n",
    "%autoreload 2"
   ]
  },
  {
   "cell_type": "code",
   "execution_count": 2,
   "id": "overall-advancement",
   "metadata": {
    "execution": {
     "iopub.execute_input": "2022-10-29T03:06:10.058083Z",
     "iopub.status.busy": "2022-10-29T03:06:10.057481Z",
     "iopub.status.idle": "2022-10-29T03:06:11.546441Z",
     "shell.execute_reply": "2022-10-29T03:06:11.545410Z"
    },
    "papermill": {
     "duration": 1.502181,
     "end_time": "2022-10-29T03:06:11.546575",
     "exception": false,
     "start_time": "2022-10-29T03:06:10.044394",
     "status": "completed"
    },
    "tags": []
   },
   "outputs": [],
   "source": [
    "#hide\n",
    "from scripts.read_data import read_api\n",
    "from IPython.display import HTML\n",
    "import plotly.graph_objects as go\n"
   ]
  },
  {
   "cell_type": "code",
   "execution_count": 3,
   "id": "light-crazy",
   "metadata": {
    "execution": {
     "iopub.execute_input": "2022-10-29T03:06:11.575628Z",
     "iopub.status.busy": "2022-10-29T03:06:11.573111Z",
     "iopub.status.idle": "2022-10-29T03:06:11.594677Z",
     "shell.execute_reply": "2022-10-29T03:06:11.593984Z"
    },
    "papermill": {
     "duration": 0.037256,
     "end_time": "2022-10-29T03:06:11.594798",
     "exception": false,
     "start_time": "2022-10-29T03:06:11.557542",
     "status": "completed"
    },
    "tags": []
   },
   "outputs": [],
   "source": [
    "#hide\n",
    "### ICO koreliacija"
   ]
  },
  {
   "cell_type": "code",
   "execution_count": 4,
   "id": "likely-bahrain",
   "metadata": {
    "execution": {
     "iopub.execute_input": "2022-10-29T03:06:11.630614Z",
     "iopub.status.busy": "2022-10-29T03:06:11.622038Z",
     "iopub.status.idle": "2022-10-29T03:06:12.439318Z",
     "shell.execute_reply": "2022-10-29T03:06:12.438336Z"
    },
    "papermill": {
     "duration": 0.833267,
     "end_time": "2022-10-29T03:06:12.439455",
     "exception": false,
     "start_time": "2022-10-29T03:06:11.606188",
     "status": "completed"
    },
    "tags": []
   },
   "outputs": [],
   "source": [
    "#hide\n",
    "import matplotlib.pyplot as plt\n",
    "import numpy as np\n",
    "import pandas as pd\n",
    "import seaborn as sns\n",
    "import matplotlib.pyplot as plt \n",
    "import matplotlib.dates as mdates\n",
    "import matplotlib.pyplot as plt"
   ]
  },
  {
   "cell_type": "code",
   "execution_count": 5,
   "id": "superior-blanket",
   "metadata": {
    "execution": {
     "iopub.execute_input": "2022-10-29T03:06:12.469759Z",
     "iopub.status.busy": "2022-10-29T03:06:12.468592Z",
     "iopub.status.idle": "2022-10-29T03:06:22.587539Z",
     "shell.execute_reply": "2022-10-29T03:06:22.587011Z"
    },
    "papermill": {
     "duration": 10.137233,
     "end_time": "2022-10-29T03:06:22.587657",
     "exception": false,
     "start_time": "2022-10-29T03:06:12.450424",
     "status": "completed"
    },
    "tags": []
   },
   "outputs": [
    {
     "name": "stderr",
     "output_type": "stream",
     "text": [
      "/home/runner/work/corr-app/corr-app/_notebooks/scripts/read_data.py:187: SettingWithCopyWarning:\n",
      "\n",
      "\n",
      "A value is trying to be set on a copy of a slice from a DataFrame.\n",
      "Try using .loc[row_indexer,col_indexer] = value instead\n",
      "\n",
      "See the caveats in the documentation: https://pandas.pydata.org/pandas-docs/stable/user_guide/indexing.html#returning-a-view-versus-a-copy\n",
      "\n"
     ]
    },
    {
     "name": "stderr",
     "output_type": "stream",
     "text": [
      "/home/runner/work/corr-app/corr-app/_notebooks/scripts/read_data.py:215: SettingWithCopyWarning:\n",
      "\n",
      "\n",
      "A value is trying to be set on a copy of a slice from a DataFrame.\n",
      "Try using .loc[row_indexer,col_indexer] = value instead\n",
      "\n",
      "See the caveats in the documentation: https://pandas.pydata.org/pandas-docs/stable/user_guide/indexing.html#returning-a-view-versus-a-copy\n",
      "\n"
     ]
    }
   ],
   "source": [
    "#hide\n",
    "df_all = read_api()\n",
    "#df_all = df_all.drop(['SP500', 'XAU', 'ETH', 'BTC'], axis=1)\n",
    "\n"
   ]
  },
  {
   "cell_type": "code",
   "execution_count": 6,
   "id": "mature-alert",
   "metadata": {
    "execution": {
     "iopub.execute_input": "2022-10-29T03:06:22.616806Z",
     "iopub.status.busy": "2022-10-29T03:06:22.616183Z",
     "iopub.status.idle": "2022-10-29T03:06:22.645544Z",
     "shell.execute_reply": "2022-10-29T03:06:22.644898Z"
    },
    "papermill": {
     "duration": 0.045269,
     "end_time": "2022-10-29T03:06:22.645662",
     "exception": false,
     "start_time": "2022-10-29T03:06:22.600393",
     "status": "completed"
    },
    "tags": []
   },
   "outputs": [],
   "source": [
    "#hide_input\n",
    "sum_corr = df_all.corr().sum().sort_values(ascending=True).index.values\n",
    "#df_all[sum_corr].corr()"
   ]
  },
  {
   "cell_type": "markdown",
   "id": "complex-syndicate",
   "metadata": {
    "papermill": {
     "duration": 0.011081,
     "end_time": "2022-10-29T03:06:22.668132",
     "exception": false,
     "start_time": "2022-10-29T03:06:22.657051",
     "status": "completed"
    },
    "tags": []
   },
   "source": [
    "## Išplėstinė koreliacijų matrica. "
   ]
  },
  {
   "cell_type": "code",
   "execution_count": 7,
   "id": "atomic-omaha",
   "metadata": {
    "execution": {
     "iopub.execute_input": "2022-10-29T03:06:22.694259Z",
     "iopub.status.busy": "2022-10-29T03:06:22.693647Z",
     "iopub.status.idle": "2022-10-29T03:06:23.884731Z",
     "shell.execute_reply": "2022-10-29T03:06:23.884150Z"
    },
    "papermill": {
     "duration": 1.205563,
     "end_time": "2022-10-29T03:06:23.884847",
     "exception": false,
     "start_time": "2022-10-29T03:06:22.679284",
     "status": "completed"
    },
    "tags": []
   },
   "outputs": [
    {
     "data": {
      "image/png": "[encoded data removed]",
      "text/plain": [
       "<Figure size 1080x792 with 2 Axes>"
      ]
     },
     "metadata": {
      "needs_background": "light"
     },
     "output_type": "display_data"
    }
   ],
   "source": [
    "#hide_input\n",
    "plt.figure(figsize=(15, 11))\n",
    "sns.heatmap(df_all[sum_corr].corr(), annot=True, cmap=\"cubehelix\") \n",
    "sns.set(font_scale=1.25)\n",
    "plt.savefig('corr_matrix.png', format='eps')"
   ]
  },
  {
   "cell_type": "code",
   "execution_count": 8,
   "id": "arbitrary-sullivan",
   "metadata": {
    "execution": {
     "iopub.execute_input": "2022-10-29T03:06:23.920186Z",
     "iopub.status.busy": "2022-10-29T03:06:23.919609Z",
     "iopub.status.idle": "2022-10-29T03:06:23.942691Z",
     "shell.execute_reply": "2022-10-29T03:06:23.942146Z"
    },
    "papermill": {
     "duration": 0.044281,
     "end_time": "2022-10-29T03:06:23.942811",
     "exception": false,
     "start_time": "2022-10-29T03:06:23.898530",
     "status": "completed"
    },
    "tags": []
   },
   "outputs": [],
   "source": [
    "#hide\n",
    "#df_all_mrk = read_api()"
   ]
  },
  {
   "cell_type": "code",
   "execution_count": 9,
   "id": "delayed-adapter",
   "metadata": {
    "execution": {
     "iopub.execute_input": "2022-10-29T03:06:23.980144Z",
     "iopub.status.busy": "2022-10-29T03:06:23.979566Z",
     "iopub.status.idle": "2022-10-29T03:06:24.002376Z",
     "shell.execute_reply": "2022-10-29T03:06:24.001644Z"
    },
    "papermill": {
     "duration": 0.046113,
     "end_time": "2022-10-29T03:06:24.002486",
     "exception": false,
     "start_time": "2022-10-29T03:06:23.956373",
     "status": "completed"
    },
    "tags": []
   },
   "outputs": [],
   "source": [
    "#hide\n",
    "#Koreliacijų koeficientai"
   ]
  },
  {
   "cell_type": "code",
   "execution_count": 10,
   "id": "seeing-celebration",
   "metadata": {
    "execution": {
     "iopub.execute_input": "2022-10-29T03:06:24.034694Z",
     "iopub.status.busy": "2022-10-29T03:06:24.032028Z",
     "iopub.status.idle": "2022-10-29T03:06:24.057048Z",
     "shell.execute_reply": "2022-10-29T03:06:24.057482Z"
    },
    "papermill": {
     "duration": 0.04177,
     "end_time": "2022-10-29T03:06:24.057608",
     "exception": false,
     "start_time": "2022-10-29T03:06:24.015838",
     "status": "completed"
    },
    "tags": []
   },
   "outputs": [],
   "source": [
    "#hide_input\n",
    "#sum_corr = df_all_mrk.corr().sum().sort_values(ascending=True).index.values\n",
    "#df_all_mrk[sum_corr].corr()"
   ]
  },
  {
   "cell_type": "code",
   "execution_count": 11,
   "id": "other-painting",
   "metadata": {
    "execution": {
     "iopub.execute_input": "2022-10-29T03:06:24.091159Z",
     "iopub.status.busy": "2022-10-29T03:06:24.090594Z",
     "iopub.status.idle": "2022-10-29T03:06:24.113599Z",
     "shell.execute_reply": "2022-10-29T03:06:24.113087Z"
    },
    "papermill": {
     "duration": 0.042949,
     "end_time": "2022-10-29T03:06:24.113725",
     "exception": false,
     "start_time": "2022-10-29T03:06:24.070776",
     "status": "completed"
    },
    "tags": []
   },
   "outputs": [],
   "source": [
    "#hide\n",
    "#Koreliacijos matrica. "
   ]
  },
  {
   "cell_type": "code",
   "execution_count": 12,
   "id": "modular-magnitude",
   "metadata": {
    "execution": {
     "iopub.execute_input": "2022-10-29T03:06:24.144095Z",
     "iopub.status.busy": "2022-10-29T03:06:24.143532Z",
     "iopub.status.idle": "2022-10-29T03:06:24.169880Z",
     "shell.execute_reply": "2022-10-29T03:06:24.169344Z"
    },
    "papermill": {
     "duration": 0.042271,
     "end_time": "2022-10-29T03:06:24.169992",
     "exception": false,
     "start_time": "2022-10-29T03:06:24.127721",
     "status": "completed"
    },
    "tags": []
   },
   "outputs": [],
   "source": [
    "#hide_input\n",
    "#plt.figure(figsize=(15, 8))\n",
    "#sns.heatmap(df_all_mrk[sum_corr].corr(), annot=True, cmap=\"BrBG\");\n",
    "#plt.savefig('corr_matrix_all.eps', format='eps')"
   ]
  },
  {
   "cell_type": "code",
   "execution_count": null,
   "id": "original-senator",
   "metadata": {
    "papermill": {
     "duration": 0.013036,
     "end_time": "2022-10-29T03:06:24.196197",
     "exception": false,
     "start_time": "2022-10-29T03:06:24.183161",
     "status": "completed"
    },
    "tags": []
   },
   "outputs": [],
   "source": []
  },
  {
   "cell_type": "code",
   "execution_count": null,
   "id": "saving-secretariat",
   "metadata": {
    "papermill": {
     "duration": 0.013075,
     "end_time": "2022-10-29T03:06:24.222420",
     "exception": false,
     "start_time": "2022-10-29T03:06:24.209345",
     "status": "completed"
    },
    "tags": []
   },
   "outputs": [],
   "source": []
  }
 ],
 "metadata": {
  "kernelspec": {
   "display_name": "Python 3",
   "language": "python",
   "name": "python3"
  },
  "language_info": {
   "codemirror_mode": {
    "name": "ipython",
    "version": 3
   },
   "file_extension": ".py",
   "mimetype": "text/x-python",
   "name": "python",
   "nbconvert_exporter": "python",
   "pygments_lexer": "ipython3",
   "version": "3.6.15"
  },
  "papermill": {
   "default_parameters": {},
   "duration": 15.720715,
   "end_time": "2022-10-29T03:06:24.755441",
   "environment_variables": {},
   "exception": null,
   "input_path": "App-Correlation_charts.ipynb",
   "output_path": "App-Correlation_charts.ipynb",
   "parameters": {},
   "start_time": "2022-10-29T03:06:09.034726",
   "version": "2.2.2"
  }
 },
 "nbformat": 4,
 "nbformat_minor": 5
}