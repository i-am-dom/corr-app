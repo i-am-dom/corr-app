{
 "cells": [
  {
   "cell_type": "markdown",
   "id": "touched-facility",
   "metadata": {
    "papermill": {
     "duration": 0.015906,
     "end_time": "2021-07-27T02:03:31.101056",
     "exception": false,
     "start_time": "2021-07-27T02:03:31.085150",
     "status": "completed"
    },
    "tags": []
   },
   "source": [
    "# Koreliacijų matrica\n",
    "> Išplėstinė koreliacijų matrica. \n",
    "\n",
    "- toc: true \n",
    "- badges: true\n",
    "- comments: false\n",
    "- categories: [Dominykas Tautkus]\n",
    "- image: images/matrix.png"
   ]
  },
  {
   "cell_type": "code",
   "execution_count": null,
   "id": "premium-weekend",
   "metadata": {
    "papermill": {
     "duration": 0.011943,
     "end_time": "2021-07-27T02:03:31.126227",
     "exception": false,
     "start_time": "2021-07-27T02:03:31.114284",
     "status": "completed"
    },
    "tags": []
   },
   "outputs": [],
   "source": []
  },
  {
   "cell_type": "code",
   "execution_count": 1,
   "id": "vertical-rebate",
   "metadata": {
    "execution": {
     "iopub.execute_input": "2021-07-27T02:03:31.161318Z",
     "iopub.status.busy": "2021-07-27T02:03:31.160742Z",
     "iopub.status.idle": "2021-07-27T02:03:31.171567Z",
     "shell.execute_reply": "2021-07-27T02:03:31.171046Z"
    },
    "papermill": {
     "duration": 0.033182,
     "end_time": "2021-07-27T02:03:31.171694",
     "exception": false,
     "start_time": "2021-07-27T02:03:31.138512",
     "status": "completed"
    },
    "tags": []
   },
   "outputs": [],
   "source": [
    "#hide\n",
    "%load_ext autoreload\n",
    "%autoreload 2"
   ]
  },
  {
   "cell_type": "code",
   "execution_count": 2,
   "id": "overall-advancement",
   "metadata": {
    "execution": {
     "iopub.execute_input": "2021-07-27T02:03:31.200563Z",
     "iopub.status.busy": "2021-07-27T02:03:31.199895Z",
     "iopub.status.idle": "2021-07-27T02:03:32.889658Z",
     "shell.execute_reply": "2021-07-27T02:03:32.889071Z"
    },
    "papermill": {
     "duration": 1.706102,
     "end_time": "2021-07-27T02:03:32.889806",
     "exception": false,
     "start_time": "2021-07-27T02:03:31.183704",
     "status": "completed"
    },
    "tags": []
   },
   "outputs": [],
   "source": [
    "#hide\n",
    "from scripts.read_data import read_api\n",
    "from IPython.display import HTML\n",
    "import plotly.graph_objects as go\n"
   ]
  },
  {
   "cell_type": "code",
   "execution_count": 3,
   "id": "light-crazy",
   "metadata": {
    "execution": {
     "iopub.execute_input": "2021-07-27T02:03:32.921133Z",
     "iopub.status.busy": "2021-07-27T02:03:32.920481Z",
     "iopub.status.idle": "2021-07-27T02:03:32.942414Z",
     "shell.execute_reply": "2021-07-27T02:03:32.942902Z"
    },
    "papermill": {
     "duration": 0.039683,
     "end_time": "2021-07-27T02:03:32.943041",
     "exception": false,
     "start_time": "2021-07-27T02:03:32.903358",
     "status": "completed"
    },
    "tags": []
   },
   "outputs": [],
   "source": [
    "#hide\n",
    "### ICO koreliacija"
   ]
  },
  {
   "cell_type": "code",
   "execution_count": 4,
   "id": "likely-bahrain",
   "metadata": {
    "execution": {
     "iopub.execute_input": "2021-07-27T02:03:33.022112Z",
     "iopub.status.busy": "2021-07-27T02:03:33.021475Z",
     "iopub.status.idle": "2021-07-27T02:03:33.822313Z",
     "shell.execute_reply": "2021-07-27T02:03:33.821772Z"
    },
    "papermill": {
     "duration": 0.867163,
     "end_time": "2021-07-27T02:03:33.822453",
     "exception": false,
     "start_time": "2021-07-27T02:03:32.955290",
     "status": "completed"
    },
    "tags": []
   },
   "outputs": [],
   "source": [
    "#hide\n",
    "import matplotlib.pyplot as plt\n",
    "import numpy as np\n",
    "import pandas as pd\n",
    "import seaborn as sns\n",
    "import matplotlib.pyplot as plt \n",
    "import matplotlib.dates as mdates\n",
    "import matplotlib.pyplot as plt"
   ]
  },
  {
   "cell_type": "code",
   "execution_count": 5,
   "id": "superior-blanket",
   "metadata": {
    "execution": {
     "iopub.execute_input": "2021-07-27T02:03:33.858904Z",
     "iopub.status.busy": "2021-07-27T02:03:33.856745Z",
     "iopub.status.idle": "2021-07-27T02:03:46.854268Z",
     "shell.execute_reply": "2021-07-27T02:03:46.853407Z"
    },
    "papermill": {
     "duration": 13.01754,
     "end_time": "2021-07-27T02:03:46.854413",
     "exception": false,
     "start_time": "2021-07-27T02:03:33.836873",
     "status": "completed"
    },
    "tags": []
   },
   "outputs": [
    {
     "name": "stderr",
     "output_type": "stream",
     "text": [
      "/home/runner/work/corr-app/corr-app/_notebooks/scripts/read_data.py:187: SettingWithCopyWarning:\n",
      "\n",
      "\n",
      "A value is trying to be set on a copy of a slice from a DataFrame.\n",
      "Try using .loc[row_indexer,col_indexer] = value instead\n",
      "\n",
      "See the caveats in the documentation: https://pandas.pydata.org/pandas-docs/stable/user_guide/indexing.html#returning-a-view-versus-a-copy\n",
      "\n"
     ]
    },
    {
     "name": "stderr",
     "output_type": "stream",
     "text": [
      "/home/runner/work/corr-app/corr-app/_notebooks/scripts/read_data.py:215: SettingWithCopyWarning:\n",
      "\n",
      "\n",
      "A value is trying to be set on a copy of a slice from a DataFrame.\n",
      "Try using .loc[row_indexer,col_indexer] = value instead\n",
      "\n",
      "See the caveats in the documentation: https://pandas.pydata.org/pandas-docs/stable/user_guide/indexing.html#returning-a-view-versus-a-copy\n",
      "\n"
     ]
    }
   ],
   "source": [
    "#hide\n",
    "df_all = read_api()\n",
    "#df_all = df_all.drop(['SP500', 'XAU', 'ETH', 'BTC'], axis=1)\n",
    "\n"
   ]
  },
  {
   "cell_type": "code",
   "execution_count": 6,
   "id": "mature-alert",
   "metadata": {
    "execution": {
     "iopub.execute_input": "2021-07-27T02:03:46.886354Z",
     "iopub.status.busy": "2021-07-27T02:03:46.885745Z",
     "iopub.status.idle": "2021-07-27T02:03:46.914955Z",
     "shell.execute_reply": "2021-07-27T02:03:46.914453Z"
    },
    "papermill": {
     "duration": 0.04657,
     "end_time": "2021-07-27T02:03:46.915072",
     "exception": false,
     "start_time": "2021-07-27T02:03:46.868502",
     "status": "completed"
    },
    "tags": []
   },
   "outputs": [],
   "source": [
    "#hide_input\n",
    "sum_corr = df_all.corr().sum().sort_values(ascending=True).index.values\n",
    "#df_all[sum_corr].corr()"
   ]
  },
  {
   "cell_type": "markdown",
   "id": "complex-syndicate",
   "metadata": {
    "papermill": {
     "duration": 0.01295,
     "end_time": "2021-07-27T02:03:46.940938",
     "exception": false,
     "start_time": "2021-07-27T02:03:46.927988",
     "status": "completed"
    },
    "tags": []
   },
   "source": [
    "## Išplėstinė koreliacijų matrica. "
   ]
  },
  {
   "cell_type": "code",
   "execution_count": 7,
   "id": "atomic-omaha",
   "metadata": {
    "execution": {
     "iopub.execute_input": "2021-07-27T02:03:46.970194Z",
     "iopub.status.busy": "2021-07-27T02:03:46.969624Z",
     "iopub.status.idle": "2021-07-27T02:03:48.375140Z",
     "shell.execute_reply": "2021-07-27T02:03:48.374548Z"
    },
    "papermill": {
     "duration": 1.42173,
     "end_time": "2021-07-27T02:03:48.375264",
     "exception": false,
     "start_time": "2021-07-27T02:03:46.953534",
     "status": "completed"
    },
    "tags": []
   },
   "outputs": [
    {
     "data": {
      "image/png": "[encoded data removed]",
      "text/plain": [
       "<Figure size 1080x792 with 2 Axes>"
      ]
     },
     "metadata": {
      "needs_background": "light"
     },
     "output_type": "display_data"
    }
   ],
   "source": [
    "#hide_input\n",
    "plt.figure(figsize=(15, 11))\n",
    "sns.heatmap(df_all[sum_corr].corr(), annot=True, cmap=\"cubehelix\") \n",
    "sns.set(font_scale=1.25)\n",
    "plt.savefig('corr_matrix.png', format='eps')"
   ]
  },
  {
   "cell_type": "code",
   "execution_count": 8,
   "id": "arbitrary-sullivan",
   "metadata": {
    "execution": {
     "iopub.execute_input": "2021-07-27T02:03:48.411615Z",
     "iopub.status.busy": "2021-07-27T02:03:48.407914Z",
     "iopub.status.idle": "2021-07-27T02:03:48.432921Z",
     "shell.execute_reply": "2021-07-27T02:03:48.433389Z"
    },
    "papermill": {
     "duration": 0.04271,
     "end_time": "2021-07-27T02:03:48.433524",
     "exception": false,
     "start_time": "2021-07-27T02:03:48.390814",
     "status": "completed"
    },
    "tags": []
   },
   "outputs": [],
   "source": [
    "#hide\n",
    "#df_all_mrk = read_api()"
   ]
  },
  {
   "cell_type": "code",
   "execution_count": 9,
   "id": "delayed-adapter",
   "metadata": {
    "execution": {
     "iopub.execute_input": "2021-07-27T02:03:48.491540Z",
     "iopub.status.busy": "2021-07-27T02:03:48.479562Z",
     "iopub.status.idle": "2021-07-27T02:03:48.497005Z",
     "shell.execute_reply": "2021-07-27T02:03:48.496519Z"
    },
    "papermill": {
     "duration": 0.04914,
     "end_time": "2021-07-27T02:03:48.497112",
     "exception": false,
     "start_time": "2021-07-27T02:03:48.447972",
     "status": "completed"
    },
    "tags": []
   },
   "outputs": [],
   "source": [
    "#hide\n",
    "#Koreliacijų koeficientai"
   ]
  },
  {
   "cell_type": "code",
   "execution_count": 10,
   "id": "seeing-celebration",
   "metadata": {
    "execution": {
     "iopub.execute_input": "2021-07-27T02:03:48.528801Z",
     "iopub.status.busy": "2021-07-27T02:03:48.528023Z",
     "iopub.status.idle": "2021-07-27T02:03:48.551010Z",
     "shell.execute_reply": "2021-07-27T02:03:48.551454Z"
    },
    "papermill": {
     "duration": 0.039744,
     "end_time": "2021-07-27T02:03:48.551579",
     "exception": false,
     "start_time": "2021-07-27T02:03:48.511835",
     "status": "completed"
    },
    "tags": []
   },
   "outputs": [],
   "source": [
    "#hide_input\n",
    "#sum_corr = df_all_mrk.corr().sum().sort_values(ascending=True).index.values\n",
    "#df_all_mrk[sum_corr].corr()"
   ]
  },
  {
   "cell_type": "code",
   "execution_count": 11,
   "id": "other-painting",
   "metadata": {
    "execution": {
     "iopub.execute_input": "2021-07-27T02:03:48.582664Z",
     "iopub.status.busy": "2021-07-27T02:03:48.582099Z",
     "iopub.status.idle": "2021-07-27T02:03:48.605342Z",
     "shell.execute_reply": "2021-07-27T02:03:48.604769Z"
    },
    "papermill": {
     "duration": 0.039813,
     "end_time": "2021-07-27T02:03:48.605449",
     "exception": false,
     "start_time": "2021-07-27T02:03:48.565636",
     "status": "completed"
    },
    "tags": []
   },
   "outputs": [],
   "source": [
    "#hide\n",
    "#Koreliacijos matrica. "
   ]
  },
  {
   "cell_type": "code",
   "execution_count": 12,
   "id": "modular-magnitude",
   "metadata": {
    "execution": {
     "iopub.execute_input": "2021-07-27T02:03:48.636687Z",
     "iopub.status.busy": "2021-07-27T02:03:48.636097Z",
     "iopub.status.idle": "2021-07-27T02:03:48.660447Z",
     "shell.execute_reply": "2021-07-27T02:03:48.659958Z"
    },
    "papermill": {
     "duration": 0.040763,
     "end_time": "2021-07-27T02:03:48.660555",
     "exception": false,
     "start_time": "2021-07-27T02:03:48.619792",
     "status": "completed"
    },
    "tags": []
   },
   "outputs": [],
   "source": [
    "#hide_input\n",
    "#plt.figure(figsize=(15, 8))\n",
    "#sns.heatmap(df_all_mrk[sum_corr].corr(), annot=True, cmap=\"BrBG\");\n",
    "#plt.savefig('corr_matrix_all.eps', format='eps')"
   ]
  },
  {
   "cell_type": "code",
   "execution_count": null,
   "id": "original-senator",
   "metadata": {
    "papermill": {
     "duration": 0.014388,
     "end_time": "2021-07-27T02:03:48.689482",
     "exception": false,
     "start_time": "2021-07-27T02:03:48.675094",
     "status": "completed"
    },
    "tags": []
   },
   "outputs": [],
   "source": []
  },
  {
   "cell_type": "code",
   "execution_count": null,
   "id": "saving-secretariat",
   "metadata": {
    "papermill": {
     "duration": 0.014171,
     "end_time": "2021-07-27T02:03:48.718422",
     "exception": false,
     "start_time": "2021-07-27T02:03:48.704251",
     "status": "completed"
    },
    "tags": []
   },
   "outputs": [],
   "source": []
  }
 ],
 "metadata": {
  "kernelspec": {
   "display_name": "Python 3",
   "language": "python",
   "name": "python3"
  },
  "language_info": {
   "codemirror_mode": {
    "name": "ipython",
    "version": 3
   },
   "file_extension": ".py",
   "mimetype": "text/x-python",
   "name": "python",
   "nbconvert_exporter": "python",
   "pygments_lexer": "ipython3",
   "version": "3.6.14"
  },
  "papermill": {
   "default_parameters": {},
   "duration": 19.213022,
   "end_time": "2021-07-27T02:03:49.240090",
   "environment_variables": {},
   "exception": null,
   "input_path": "App-Correlation_charts.ipynb",
   "output_path": "App-Correlation_charts.ipynb",
   "parameters": {},
   "start_time": "2021-07-27T02:03:30.027068",
   "version": "2.2.2"
  }
 },
 "nbformat": 4,
 "nbformat_minor": 5
}