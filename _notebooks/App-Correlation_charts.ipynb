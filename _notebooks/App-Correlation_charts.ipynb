{
 "cells": [
  {
   "cell_type": "markdown",
   "id": "touched-facility",
   "metadata": {
    "papermill": {
     "duration": 0.016582,
     "end_time": "2022-08-15T03:26:09.491009",
     "exception": false,
     "start_time": "2022-08-15T03:26:09.474427",
     "status": "completed"
    },
    "tags": []
   },
   "source": [
    "# Koreliacijų matrica\n",
    "> Išplėstinė koreliacijų matrica. \n",
    "\n",
    "- toc: true \n",
    "- badges: true\n",
    "- comments: false\n",
    "- categories: [Dominykas Tautkus]\n",
    "- image: images/matrix.png"
   ]
  },
  {
   "cell_type": "code",
   "execution_count": null,
   "id": "premium-weekend",
   "metadata": {
    "papermill": {
     "duration": 0.012145,
     "end_time": "2022-08-15T03:26:09.515875",
     "exception": false,
     "start_time": "2022-08-15T03:26:09.503730",
     "status": "completed"
    },
    "tags": []
   },
   "outputs": [],
   "source": []
  },
  {
   "cell_type": "code",
   "execution_count": 1,
   "id": "vertical-rebate",
   "metadata": {
    "execution": {
     "iopub.execute_input": "2022-08-15T03:26:09.550475Z",
     "iopub.status.busy": "2022-08-15T03:26:09.549826Z",
     "iopub.status.idle": "2022-08-15T03:26:09.561971Z",
     "shell.execute_reply": "2022-08-15T03:26:09.561432Z"
    },
    "papermill": {
     "duration": 0.034364,
     "end_time": "2022-08-15T03:26:09.562094",
     "exception": false,
     "start_time": "2022-08-15T03:26:09.527730",
     "status": "completed"
    },
    "tags": []
   },
   "outputs": [],
   "source": [
    "#hide\n",
    "%load_ext autoreload\n",
    "%autoreload 2"
   ]
  },
  {
   "cell_type": "code",
   "execution_count": 2,
   "id": "overall-advancement",
   "metadata": {
    "execution": {
     "iopub.execute_input": "2022-08-15T03:26:09.588976Z",
     "iopub.status.busy": "2022-08-15T03:26:09.588310Z",
     "iopub.status.idle": "2022-08-15T03:26:10.842550Z",
     "shell.execute_reply": "2022-08-15T03:26:10.841604Z"
    },
    "papermill": {
     "duration": 1.269284,
     "end_time": "2022-08-15T03:26:10.842693",
     "exception": false,
     "start_time": "2022-08-15T03:26:09.573409",
     "status": "completed"
    },
    "tags": []
   },
   "outputs": [],
   "source": [
    "#hide\n",
    "from scripts.read_data import read_api\n",
    "from IPython.display import HTML\n",
    "import plotly.graph_objects as go\n"
   ]
  },
  {
   "cell_type": "code",
   "execution_count": 3,
   "id": "light-crazy",
   "metadata": {
    "execution": {
     "iopub.execute_input": "2022-08-15T03:26:10.873797Z",
     "iopub.status.busy": "2022-08-15T03:26:10.871990Z",
     "iopub.status.idle": "2022-08-15T03:26:10.896199Z",
     "shell.execute_reply": "2022-08-15T03:26:10.896707Z"
    },
    "papermill": {
     "duration": 0.041995,
     "end_time": "2022-08-15T03:26:10.896864",
     "exception": false,
     "start_time": "2022-08-15T03:26:10.854869",
     "status": "completed"
    },
    "tags": []
   },
   "outputs": [],
   "source": [
    "#hide\n",
    "### ICO koreliacija"
   ]
  },
  {
   "cell_type": "code",
   "execution_count": 4,
   "id": "likely-bahrain",
   "metadata": {
    "execution": {
     "iopub.execute_input": "2022-08-15T03:26:10.924556Z",
     "iopub.status.busy": "2022-08-15T03:26:10.923927Z",
     "iopub.status.idle": "2022-08-15T03:26:11.870111Z",
     "shell.execute_reply": "2022-08-15T03:26:11.868710Z"
    },
    "papermill": {
     "duration": 0.961686,
     "end_time": "2022-08-15T03:26:11.870254",
     "exception": false,
     "start_time": "2022-08-15T03:26:10.908568",
     "status": "completed"
    },
    "tags": []
   },
   "outputs": [],
   "source": [
    "#hide\n",
    "import matplotlib.pyplot as plt\n",
    "import numpy as np\n",
    "import pandas as pd\n",
    "import seaborn as sns\n",
    "import matplotlib.pyplot as plt \n",
    "import matplotlib.dates as mdates\n",
    "import matplotlib.pyplot as plt"
   ]
  },
  {
   "cell_type": "code",
   "execution_count": 5,
   "id": "superior-blanket",
   "metadata": {
    "execution": {
     "iopub.execute_input": "2022-08-15T03:26:11.900722Z",
     "iopub.status.busy": "2022-08-15T03:26:11.899048Z",
     "iopub.status.idle": "2022-08-15T03:26:27.114334Z",
     "shell.execute_reply": "2022-08-15T03:26:27.113701Z"
    },
    "papermill": {
     "duration": 15.232532,
     "end_time": "2022-08-15T03:26:27.114472",
     "exception": false,
     "start_time": "2022-08-15T03:26:11.881940",
     "status": "completed"
    },
    "tags": []
   },
   "outputs": [
    {
     "name": "stderr",
     "output_type": "stream",
     "text": [
      "/home/runner/work/corr-app/corr-app/_notebooks/scripts/read_data.py:187: SettingWithCopyWarning:\n",
      "\n",
      "\n",
      "A value is trying to be set on a copy of a slice from a DataFrame.\n",
      "Try using .loc[row_indexer,col_indexer] = value instead\n",
      "\n",
      "See the caveats in the documentation: https://pandas.pydata.org/pandas-docs/stable/user_guide/indexing.html#returning-a-view-versus-a-copy\n",
      "\n"
     ]
    },
    {
     "name": "stderr",
     "output_type": "stream",
     "text": [
      "/home/runner/work/corr-app/corr-app/_notebooks/scripts/read_data.py:215: SettingWithCopyWarning:\n",
      "\n",
      "\n",
      "A value is trying to be set on a copy of a slice from a DataFrame.\n",
      "Try using .loc[row_indexer,col_indexer] = value instead\n",
      "\n",
      "See the caveats in the documentation: https://pandas.pydata.org/pandas-docs/stable/user_guide/indexing.html#returning-a-view-versus-a-copy\n",
      "\n"
     ]
    }
   ],
   "source": [
    "#hide\n",
    "df_all = read_api()\n",
    "#df_all = df_all.drop(['SP500', 'XAU', 'ETH', 'BTC'], axis=1)\n",
    "\n"
   ]
  },
  {
   "cell_type": "code",
   "execution_count": 6,
   "id": "mature-alert",
   "metadata": {
    "execution": {
     "iopub.execute_input": "2022-08-15T03:26:27.145020Z",
     "iopub.status.busy": "2022-08-15T03:26:27.144329Z",
     "iopub.status.idle": "2022-08-15T03:26:27.178251Z",
     "shell.execute_reply": "2022-08-15T03:26:27.177697Z"
    },
    "papermill": {
     "duration": 0.050502,
     "end_time": "2022-08-15T03:26:27.178382",
     "exception": false,
     "start_time": "2022-08-15T03:26:27.127880",
     "status": "completed"
    },
    "tags": []
   },
   "outputs": [],
   "source": [
    "#hide_input\n",
    "sum_corr = df_all.corr().sum().sort_values(ascending=True).index.values\n",
    "#df_all[sum_corr].corr()"
   ]
  },
  {
   "cell_type": "markdown",
   "id": "complex-syndicate",
   "metadata": {
    "papermill": {
     "duration": 0.012485,
     "end_time": "2022-08-15T03:26:27.203520",
     "exception": false,
     "start_time": "2022-08-15T03:26:27.191035",
     "status": "completed"
    },
    "tags": []
   },
   "source": [
    "## Išplėstinė koreliacijų matrica. "
   ]
  },
  {
   "cell_type": "code",
   "execution_count": 7,
   "id": "atomic-omaha",
   "metadata": {
    "execution": {
     "iopub.execute_input": "2022-08-15T03:26:27.232863Z",
     "iopub.status.busy": "2022-08-15T03:26:27.232182Z",
     "iopub.status.idle": "2022-08-15T03:26:28.565972Z",
     "shell.execute_reply": "2022-08-15T03:26:28.565264Z"
    },
    "papermill": {
     "duration": 1.350368,
     "end_time": "2022-08-15T03:26:28.566107",
     "exception": false,
     "start_time": "2022-08-15T03:26:27.215739",
     "status": "completed"
    },
    "tags": []
   },
   "outputs": [
    {
     "data": {
      "image/png": "[encoded data removed]",
      "text/plain": [
       "<Figure size 1080x792 with 2 Axes>"
      ]
     },
     "metadata": {
      "needs_background": "light"
     },
     "output_type": "display_data"
    }
   ],
   "source": [
    "#hide_input\n",
    "plt.figure(figsize=(15, 11))\n",
    "sns.heatmap(df_all[sum_corr].corr(), annot=True, cmap=\"cubehelix\") \n",
    "sns.set(font_scale=1.25)\n",
    "plt.savefig('corr_matrix.png', format='eps')"
   ]
  },
  {
   "cell_type": "code",
   "execution_count": 8,
   "id": "arbitrary-sullivan",
   "metadata": {
    "execution": {
     "iopub.execute_input": "2022-08-15T03:26:28.601701Z",
     "iopub.status.busy": "2022-08-15T03:26:28.601017Z",
     "iopub.status.idle": "2022-08-15T03:26:28.630083Z",
     "shell.execute_reply": "2022-08-15T03:26:28.629562Z"
    },
    "papermill": {
     "duration": 0.049705,
     "end_time": "2022-08-15T03:26:28.630195",
     "exception": false,
     "start_time": "2022-08-15T03:26:28.580490",
     "status": "completed"
    },
    "tags": []
   },
   "outputs": [],
   "source": [
    "#hide\n",
    "#df_all_mrk = read_api()"
   ]
  },
  {
   "cell_type": "code",
   "execution_count": 9,
   "id": "delayed-adapter",
   "metadata": {
    "execution": {
     "iopub.execute_input": "2022-08-15T03:26:28.666208Z",
     "iopub.status.busy": "2022-08-15T03:26:28.662493Z",
     "iopub.status.idle": "2022-08-15T03:26:28.691172Z",
     "shell.execute_reply": "2022-08-15T03:26:28.691756Z"
    },
    "papermill": {
     "duration": 0.046831,
     "end_time": "2022-08-15T03:26:28.691913",
     "exception": false,
     "start_time": "2022-08-15T03:26:28.645082",
     "status": "completed"
    },
    "tags": []
   },
   "outputs": [],
   "source": [
    "#hide\n",
    "#Koreliacijų koeficientai"
   ]
  },
  {
   "cell_type": "code",
   "execution_count": 10,
   "id": "seeing-celebration",
   "metadata": {
    "execution": {
     "iopub.execute_input": "2022-08-15T03:26:28.727158Z",
     "iopub.status.busy": "2022-08-15T03:26:28.725442Z",
     "iopub.status.idle": "2022-08-15T03:26:28.753664Z",
     "shell.execute_reply": "2022-08-15T03:26:28.753009Z"
    },
    "papermill": {
     "duration": 0.047133,
     "end_time": "2022-08-15T03:26:28.753809",
     "exception": false,
     "start_time": "2022-08-15T03:26:28.706676",
     "status": "completed"
    },
    "tags": []
   },
   "outputs": [],
   "source": [
    "#hide_input\n",
    "#sum_corr = df_all_mrk.corr().sum().sort_values(ascending=True).index.values\n",
    "#df_all_mrk[sum_corr].corr()"
   ]
  },
  {
   "cell_type": "code",
   "execution_count": 11,
   "id": "other-painting",
   "metadata": {
    "execution": {
     "iopub.execute_input": "2022-08-15T03:26:28.786083Z",
     "iopub.status.busy": "2022-08-15T03:26:28.785460Z",
     "iopub.status.idle": "2022-08-15T03:26:28.813697Z",
     "shell.execute_reply": "2022-08-15T03:26:28.814313Z"
    },
    "papermill": {
     "duration": 0.045775,
     "end_time": "2022-08-15T03:26:28.814467",
     "exception": false,
     "start_time": "2022-08-15T03:26:28.768692",
     "status": "completed"
    },
    "tags": []
   },
   "outputs": [],
   "source": [
    "#hide\n",
    "#Koreliacijos matrica. "
   ]
  },
  {
   "cell_type": "code",
   "execution_count": 12,
   "id": "modular-magnitude",
   "metadata": {
    "execution": {
     "iopub.execute_input": "2022-08-15T03:26:28.847940Z",
     "iopub.status.busy": "2022-08-15T03:26:28.847288Z",
     "iopub.status.idle": "2022-08-15T03:26:28.875769Z",
     "shell.execute_reply": "2022-08-15T03:26:28.876368Z"
    },
    "papermill": {
     "duration": 0.047121,
     "end_time": "2022-08-15T03:26:28.876528",
     "exception": false,
     "start_time": "2022-08-15T03:26:28.829407",
     "status": "completed"
    },
    "tags": []
   },
   "outputs": [],
   "source": [
    "#hide_input\n",
    "#plt.figure(figsize=(15, 8))\n",
    "#sns.heatmap(df_all_mrk[sum_corr].corr(), annot=True, cmap=\"BrBG\");\n",
    "#plt.savefig('corr_matrix_all.eps', format='eps')"
   ]
  },
  {
   "cell_type": "code",
   "execution_count": null,
   "id": "original-senator",
   "metadata": {
    "papermill": {
     "duration": 0.013852,
     "end_time": "2022-08-15T03:26:28.904940",
     "exception": false,
     "start_time": "2022-08-15T03:26:28.891088",
     "status": "completed"
    },
    "tags": []
   },
   "outputs": [],
   "source": []
  },
  {
   "cell_type": "code",
   "execution_count": null,
   "id": "saving-secretariat",
   "metadata": {
    "papermill": {
     "duration": 0.013682,
     "end_time": "2022-08-15T03:26:28.932852",
     "exception": false,
     "start_time": "2022-08-15T03:26:28.919170",
     "status": "completed"
    },
    "tags": []
   },
   "outputs": [],
   "source": []
  }
 ],
 "metadata": {
  "kernelspec": {
   "display_name": "Python 3",
   "language": "python",
   "name": "python3"
  },
  "language_info": {
   "codemirror_mode": {
    "name": "ipython",
    "version": 3
   },
   "file_extension": ".py",
   "mimetype": "text/x-python",
   "name": "python",
   "nbconvert_exporter": "python",
   "pygments_lexer": "ipython3",
   "version": "3.6.15"
  },
  "papermill": {
   "default_parameters": {},
   "duration": 21.262635,
   "end_time": "2022-08-15T03:26:29.466747",
   "environment_variables": {},
   "exception": null,
   "input_path": "App-Correlation_charts.ipynb",
   "output_path": "App-Correlation_charts.ipynb",
   "parameters": {},
   "start_time": "2022-08-15T03:26:08.204112",
   "version": "2.2.2"
  }
 },
 "nbformat": 4,
 "nbformat_minor": 5
}