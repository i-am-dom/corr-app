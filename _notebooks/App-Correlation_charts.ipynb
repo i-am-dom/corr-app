{
 "cells": [
  {
   "cell_type": "markdown",
   "id": "touched-facility",
   "metadata": {
    "papermill": {
     "duration": 0.014502,
     "end_time": "2022-06-05T02:50:46.693235",
     "exception": false,
     "start_time": "2022-06-05T02:50:46.678733",
     "status": "completed"
    },
    "tags": []
   },
   "source": [
    "# Koreliacijų matrica\n",
    "> Išplėstinė koreliacijų matrica. \n",
    "\n",
    "- toc: true \n",
    "- badges: true\n",
    "- comments: false\n",
    "- categories: [Dominykas Tautkus]\n",
    "- image: images/matrix.png"
   ]
  },
  {
   "cell_type": "code",
   "execution_count": null,
   "id": "premium-weekend",
   "metadata": {
    "papermill": {
     "duration": 0.010871,
     "end_time": "2022-06-05T02:50:46.715741",
     "exception": false,
     "start_time": "2022-06-05T02:50:46.704870",
     "status": "completed"
    },
    "tags": []
   },
   "outputs": [],
   "source": []
  },
  {
   "cell_type": "code",
   "execution_count": 1,
   "id": "vertical-rebate",
   "metadata": {
    "execution": {
     "iopub.execute_input": "2022-06-05T02:50:46.756424Z",
     "iopub.status.busy": "2022-06-05T02:50:46.755800Z",
     "iopub.status.idle": "2022-06-05T02:50:46.765777Z",
     "shell.execute_reply": "2022-06-05T02:50:46.765338Z"
    },
    "papermill": {
     "duration": 0.030677,
     "end_time": "2022-06-05T02:50:46.765886",
     "exception": false,
     "start_time": "2022-06-05T02:50:46.735209",
     "status": "completed"
    },
    "tags": []
   },
   "outputs": [],
   "source": [
    "#hide\n",
    "%load_ext autoreload\n",
    "%autoreload 2"
   ]
  },
  {
   "cell_type": "code",
   "execution_count": 2,
   "id": "overall-advancement",
   "metadata": {
    "execution": {
     "iopub.execute_input": "2022-06-05T02:50:46.788003Z",
     "iopub.status.busy": "2022-06-05T02:50:46.787454Z",
     "iopub.status.idle": "2022-06-05T02:50:47.944663Z",
     "shell.execute_reply": "2022-06-05T02:50:47.945206Z"
    },
    "papermill": {
     "duration": 1.170047,
     "end_time": "2022-06-05T02:50:47.945381",
     "exception": false,
     "start_time": "2022-06-05T02:50:46.775334",
     "status": "completed"
    },
    "tags": []
   },
   "outputs": [],
   "source": [
    "#hide\n",
    "from scripts.read_data import read_api\n",
    "from IPython.display import HTML\n",
    "import plotly.graph_objects as go\n"
   ]
  },
  {
   "cell_type": "code",
   "execution_count": 3,
   "id": "light-crazy",
   "metadata": {
    "execution": {
     "iopub.execute_input": "2022-06-05T02:50:47.973360Z",
     "iopub.status.busy": "2022-06-05T02:50:47.972830Z",
     "iopub.status.idle": "2022-06-05T02:50:47.992050Z",
     "shell.execute_reply": "2022-06-05T02:50:47.991570Z"
    },
    "papermill": {
     "duration": 0.036752,
     "end_time": "2022-06-05T02:50:47.992166",
     "exception": false,
     "start_time": "2022-06-05T02:50:47.955414",
     "status": "completed"
    },
    "tags": []
   },
   "outputs": [],
   "source": [
    "#hide\n",
    "### ICO koreliacija"
   ]
  },
  {
   "cell_type": "code",
   "execution_count": 4,
   "id": "likely-bahrain",
   "metadata": {
    "execution": {
     "iopub.execute_input": "2022-06-05T02:50:48.017046Z",
     "iopub.status.busy": "2022-06-05T02:50:48.016027Z",
     "iopub.status.idle": "2022-06-05T02:50:48.848636Z",
     "shell.execute_reply": "2022-06-05T02:50:48.847578Z"
    },
    "papermill": {
     "duration": 0.84699,
     "end_time": "2022-06-05T02:50:48.848787",
     "exception": false,
     "start_time": "2022-06-05T02:50:48.001797",
     "status": "completed"
    },
    "tags": []
   },
   "outputs": [],
   "source": [
    "#hide\n",
    "import matplotlib.pyplot as plt\n",
    "import numpy as np\n",
    "import pandas as pd\n",
    "import seaborn as sns\n",
    "import matplotlib.pyplot as plt \n",
    "import matplotlib.dates as mdates\n",
    "import matplotlib.pyplot as plt"
   ]
  },
  {
   "cell_type": "code",
   "execution_count": 5,
   "id": "superior-blanket",
   "metadata": {
    "execution": {
     "iopub.execute_input": "2022-06-05T02:50:48.873259Z",
     "iopub.status.busy": "2022-06-05T02:50:48.872728Z",
     "iopub.status.idle": "2022-06-05T02:51:03.561386Z",
     "shell.execute_reply": "2022-06-05T02:51:03.560838Z"
    },
    "papermill": {
     "duration": 14.702739,
     "end_time": "2022-06-05T02:51:03.561508",
     "exception": false,
     "start_time": "2022-06-05T02:50:48.858769",
     "status": "completed"
    },
    "tags": []
   },
   "outputs": [
    {
     "name": "stderr",
     "output_type": "stream",
     "text": [
      "/home/runner/work/corr-app/corr-app/_notebooks/scripts/read_data.py:187: SettingWithCopyWarning:\n",
      "\n",
      "\n",
      "A value is trying to be set on a copy of a slice from a DataFrame.\n",
      "Try using .loc[row_indexer,col_indexer] = value instead\n",
      "\n",
      "See the caveats in the documentation: https://pandas.pydata.org/pandas-docs/stable/user_guide/indexing.html#returning-a-view-versus-a-copy\n",
      "\n"
     ]
    },
    {
     "name": "stderr",
     "output_type": "stream",
     "text": [
      "/home/runner/work/corr-app/corr-app/_notebooks/scripts/read_data.py:215: SettingWithCopyWarning:\n",
      "\n",
      "\n",
      "A value is trying to be set on a copy of a slice from a DataFrame.\n",
      "Try using .loc[row_indexer,col_indexer] = value instead\n",
      "\n",
      "See the caveats in the documentation: https://pandas.pydata.org/pandas-docs/stable/user_guide/indexing.html#returning-a-view-versus-a-copy\n",
      "\n"
     ]
    }
   ],
   "source": [
    "#hide\n",
    "df_all = read_api()\n",
    "#df_all = df_all.drop(['SP500', 'XAU', 'ETH', 'BTC'], axis=1)\n",
    "\n"
   ]
  },
  {
   "cell_type": "code",
   "execution_count": 6,
   "id": "mature-alert",
   "metadata": {
    "execution": {
     "iopub.execute_input": "2022-06-05T02:51:03.591069Z",
     "iopub.status.busy": "2022-06-05T02:51:03.590460Z",
     "iopub.status.idle": "2022-06-05T02:51:03.619647Z",
     "shell.execute_reply": "2022-06-05T02:51:03.618969Z"
    },
    "papermill": {
     "duration": 0.046586,
     "end_time": "2022-06-05T02:51:03.619806",
     "exception": false,
     "start_time": "2022-06-05T02:51:03.573220",
     "status": "completed"
    },
    "tags": []
   },
   "outputs": [],
   "source": [
    "#hide_input\n",
    "sum_corr = df_all.corr().sum().sort_values(ascending=True).index.values\n",
    "#df_all[sum_corr].corr()"
   ]
  },
  {
   "cell_type": "markdown",
   "id": "complex-syndicate",
   "metadata": {
    "papermill": {
     "duration": 0.01004,
     "end_time": "2022-06-05T02:51:03.640905",
     "exception": false,
     "start_time": "2022-06-05T02:51:03.630865",
     "status": "completed"
    },
    "tags": []
   },
   "source": [
    "## Išplėstinė koreliacijų matrica. "
   ]
  },
  {
   "cell_type": "code",
   "execution_count": 7,
   "id": "atomic-omaha",
   "metadata": {
    "execution": {
     "iopub.execute_input": "2022-06-05T02:51:03.665357Z",
     "iopub.status.busy": "2022-06-05T02:51:03.664842Z",
     "iopub.status.idle": "2022-06-05T02:51:04.750676Z",
     "shell.execute_reply": "2022-06-05T02:51:04.750134Z"
    },
    "papermill": {
     "duration": 1.099934,
     "end_time": "2022-06-05T02:51:04.750788",
     "exception": false,
     "start_time": "2022-06-05T02:51:03.650854",
     "status": "completed"
    },
    "tags": []
   },
   "outputs": [
    {
     "data": {
      "image/png": "[encoded data removed]",
      "text/plain": [
       "<Figure size 1080x792 with 2 Axes>"
      ]
     },
     "metadata": {
      "needs_background": "light"
     },
     "output_type": "display_data"
    }
   ],
   "source": [
    "#hide_input\n",
    "plt.figure(figsize=(15, 11))\n",
    "sns.heatmap(df_all[sum_corr].corr(), annot=True, cmap=\"cubehelix\") \n",
    "sns.set(font_scale=1.25)\n",
    "plt.savefig('corr_matrix.png', format='eps')"
   ]
  },
  {
   "cell_type": "code",
   "execution_count": 8,
   "id": "arbitrary-sullivan",
   "metadata": {
    "execution": {
     "iopub.execute_input": "2022-06-05T02:51:04.779760Z",
     "iopub.status.busy": "2022-06-05T02:51:04.778826Z",
     "iopub.status.idle": "2022-06-05T02:51:04.804309Z",
     "shell.execute_reply": "2022-06-05T02:51:04.803815Z"
    },
    "papermill": {
     "duration": 0.041354,
     "end_time": "2022-06-05T02:51:04.804416",
     "exception": false,
     "start_time": "2022-06-05T02:51:04.763062",
     "status": "completed"
    },
    "tags": []
   },
   "outputs": [],
   "source": [
    "#hide\n",
    "#df_all_mrk = read_api()"
   ]
  },
  {
   "cell_type": "code",
   "execution_count": 9,
   "id": "delayed-adapter",
   "metadata": {
    "execution": {
     "iopub.execute_input": "2022-06-05T02:51:04.835373Z",
     "iopub.status.busy": "2022-06-05T02:51:04.834850Z",
     "iopub.status.idle": "2022-06-05T02:51:04.861249Z",
     "shell.execute_reply": "2022-06-05T02:51:04.860765Z"
    },
    "papermill": {
     "duration": 0.04364,
     "end_time": "2022-06-05T02:51:04.861361",
     "exception": false,
     "start_time": "2022-06-05T02:51:04.817721",
     "status": "completed"
    },
    "tags": []
   },
   "outputs": [],
   "source": [
    "#hide\n",
    "#Koreliacijų koeficientai"
   ]
  },
  {
   "cell_type": "code",
   "execution_count": 10,
   "id": "seeing-celebration",
   "metadata": {
    "execution": {
     "iopub.execute_input": "2022-06-05T02:51:04.897109Z",
     "iopub.status.busy": "2022-06-05T02:51:04.896546Z",
     "iopub.status.idle": "2022-06-05T02:51:04.918324Z",
     "shell.execute_reply": "2022-06-05T02:51:04.917892Z"
    },
    "papermill": {
     "duration": 0.044913,
     "end_time": "2022-06-05T02:51:04.918438",
     "exception": false,
     "start_time": "2022-06-05T02:51:04.873525",
     "status": "completed"
    },
    "tags": []
   },
   "outputs": [],
   "source": [
    "#hide_input\n",
    "#sum_corr = df_all_mrk.corr().sum().sort_values(ascending=True).index.values\n",
    "#df_all_mrk[sum_corr].corr()"
   ]
  },
  {
   "cell_type": "code",
   "execution_count": 11,
   "id": "other-painting",
   "metadata": {
    "execution": {
     "iopub.execute_input": "2022-06-05T02:51:04.946693Z",
     "iopub.status.busy": "2022-06-05T02:51:04.946179Z",
     "iopub.status.idle": "2022-06-05T02:51:04.971838Z",
     "shell.execute_reply": "2022-06-05T02:51:04.971342Z"
    },
    "papermill": {
     "duration": 0.04162,
     "end_time": "2022-06-05T02:51:04.971953",
     "exception": false,
     "start_time": "2022-06-05T02:51:04.930333",
     "status": "completed"
    },
    "tags": []
   },
   "outputs": [],
   "source": [
    "#hide\n",
    "#Koreliacijos matrica. "
   ]
  },
  {
   "cell_type": "code",
   "execution_count": 12,
   "id": "modular-magnitude",
   "metadata": {
    "execution": {
     "iopub.execute_input": "2022-06-05T02:51:05.000894Z",
     "iopub.status.busy": "2022-06-05T02:51:05.000371Z",
     "iopub.status.idle": "2022-06-05T02:51:05.026393Z",
     "shell.execute_reply": "2022-06-05T02:51:05.025835Z"
    },
    "papermill": {
     "duration": 0.042516,
     "end_time": "2022-06-05T02:51:05.026523",
     "exception": false,
     "start_time": "2022-06-05T02:51:04.984007",
     "status": "completed"
    },
    "tags": []
   },
   "outputs": [],
   "source": [
    "#hide_input\n",
    "#plt.figure(figsize=(15, 8))\n",
    "#sns.heatmap(df_all_mrk[sum_corr].corr(), annot=True, cmap=\"BrBG\");\n",
    "#plt.savefig('corr_matrix_all.eps', format='eps')"
   ]
  },
  {
   "cell_type": "code",
   "execution_count": null,
   "id": "original-senator",
   "metadata": {
    "papermill": {
     "duration": 0.011925,
     "end_time": "2022-06-05T02:51:05.052420",
     "exception": false,
     "start_time": "2022-06-05T02:51:05.040495",
     "status": "completed"
    },
    "tags": []
   },
   "outputs": [],
   "source": []
  },
  {
   "cell_type": "code",
   "execution_count": null,
   "id": "saving-secretariat",
   "metadata": {
    "papermill": {
     "duration": 0.01177,
     "end_time": "2022-06-05T02:51:05.076055",
     "exception": false,
     "start_time": "2022-06-05T02:51:05.064285",
     "status": "completed"
    },
    "tags": []
   },
   "outputs": [],
   "source": []
  }
 ],
 "metadata": {
  "kernelspec": {
   "display_name": "Python 3",
   "language": "python",
   "name": "python3"
  },
  "language_info": {
   "codemirror_mode": {
    "name": "ipython",
    "version": 3
   },
   "file_extension": ".py",
   "mimetype": "text/x-python",
   "name": "python",
   "nbconvert_exporter": "python",
   "pygments_lexer": "ipython3",
   "version": "3.6.15"
  },
  "papermill": {
   "default_parameters": {},
   "duration": 19.938353,
   "end_time": "2022-06-05T02:51:05.709517",
   "environment_variables": {},
   "exception": null,
   "input_path": "App-Correlation_charts.ipynb",
   "output_path": "App-Correlation_charts.ipynb",
   "parameters": {},
   "start_time": "2022-06-05T02:50:45.771164",
   "version": "2.2.2"
  }
 },
 "nbformat": 4,
 "nbformat_minor": 5
}