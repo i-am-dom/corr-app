{
 "cells": [
  {
   "cell_type": "markdown",
   "id": "touched-facility",
   "metadata": {
    "papermill": {
     "duration": 0.015603,
     "end_time": "2022-05-13T03:16:16.105383",
     "exception": false,
     "start_time": "2022-05-13T03:16:16.089780",
     "status": "completed"
    },
    "tags": []
   },
   "source": [
    "# Koreliacijų matrica\n",
    "> Išplėstinė koreliacijų matrica. \n",
    "\n",
    "- toc: true \n",
    "- badges: true\n",
    "- comments: false\n",
    "- categories: [Dominykas Tautkus]\n",
    "- image: images/matrix.png"
   ]
  },
  {
   "cell_type": "code",
   "execution_count": null,
   "id": "premium-weekend",
   "metadata": {
    "papermill": {
     "duration": 0.01059,
     "end_time": "2022-05-13T03:16:16.127306",
     "exception": false,
     "start_time": "2022-05-13T03:16:16.116716",
     "status": "completed"
    },
    "tags": []
   },
   "outputs": [],
   "source": []
  },
  {
   "cell_type": "code",
   "execution_count": 1,
   "id": "vertical-rebate",
   "metadata": {
    "execution": {
     "iopub.execute_input": "2022-05-13T03:16:16.158602Z",
     "iopub.status.busy": "2022-05-13T03:16:16.158064Z",
     "iopub.status.idle": "2022-05-13T03:16:16.168471Z",
     "shell.execute_reply": "2022-05-13T03:16:16.168046Z"
    },
    "papermill": {
     "duration": 0.030752,
     "end_time": "2022-05-13T03:16:16.168593",
     "exception": false,
     "start_time": "2022-05-13T03:16:16.137841",
     "status": "completed"
    },
    "tags": []
   },
   "outputs": [],
   "source": [
    "#hide\n",
    "%load_ext autoreload\n",
    "%autoreload 2"
   ]
  },
  {
   "cell_type": "code",
   "execution_count": 2,
   "id": "overall-advancement",
   "metadata": {
    "execution": {
     "iopub.execute_input": "2022-05-13T03:16:16.195306Z",
     "iopub.status.busy": "2022-05-13T03:16:16.194799Z",
     "iopub.status.idle": "2022-05-13T03:16:17.251699Z",
     "shell.execute_reply": "2022-05-13T03:16:17.252174Z"
    },
    "papermill": {
     "duration": 1.073186,
     "end_time": "2022-05-13T03:16:17.252331",
     "exception": false,
     "start_time": "2022-05-13T03:16:16.179145",
     "status": "completed"
    },
    "tags": []
   },
   "outputs": [],
   "source": [
    "#hide\n",
    "from scripts.read_data import read_api\n",
    "from IPython.display import HTML\n",
    "import plotly.graph_objects as go\n"
   ]
  },
  {
   "cell_type": "code",
   "execution_count": 3,
   "id": "light-crazy",
   "metadata": {
    "execution": {
     "iopub.execute_input": "2022-05-13T03:16:17.278615Z",
     "iopub.status.busy": "2022-05-13T03:16:17.278085Z",
     "iopub.status.idle": "2022-05-13T03:16:17.301510Z",
     "shell.execute_reply": "2022-05-13T03:16:17.301019Z"
    },
    "papermill": {
     "duration": 0.038046,
     "end_time": "2022-05-13T03:16:17.301635",
     "exception": false,
     "start_time": "2022-05-13T03:16:17.263589",
     "status": "completed"
    },
    "tags": []
   },
   "outputs": [],
   "source": [
    "#hide\n",
    "### ICO koreliacija"
   ]
  },
  {
   "cell_type": "code",
   "execution_count": 4,
   "id": "likely-bahrain",
   "metadata": {
    "execution": {
     "iopub.execute_input": "2022-05-13T03:16:17.332909Z",
     "iopub.status.busy": "2022-05-13T03:16:17.331051Z",
     "iopub.status.idle": "2022-05-13T03:16:18.148425Z",
     "shell.execute_reply": "2022-05-13T03:16:18.148913Z"
    },
    "papermill": {
     "duration": 0.836158,
     "end_time": "2022-05-13T03:16:18.149063",
     "exception": false,
     "start_time": "2022-05-13T03:16:17.312905",
     "status": "completed"
    },
    "tags": []
   },
   "outputs": [],
   "source": [
    "#hide\n",
    "import matplotlib.pyplot as plt\n",
    "import numpy as np\n",
    "import pandas as pd\n",
    "import seaborn as sns\n",
    "import matplotlib.pyplot as plt \n",
    "import matplotlib.dates as mdates\n",
    "import matplotlib.pyplot as plt"
   ]
  },
  {
   "cell_type": "code",
   "execution_count": 5,
   "id": "superior-blanket",
   "metadata": {
    "execution": {
     "iopub.execute_input": "2022-05-13T03:16:18.175889Z",
     "iopub.status.busy": "2022-05-13T03:16:18.174835Z",
     "iopub.status.idle": "2022-05-13T03:16:29.402133Z",
     "shell.execute_reply": "2022-05-13T03:16:29.401650Z"
    },
    "papermill": {
     "duration": 11.242339,
     "end_time": "2022-05-13T03:16:29.402250",
     "exception": false,
     "start_time": "2022-05-13T03:16:18.159911",
     "status": "completed"
    },
    "tags": []
   },
   "outputs": [
    {
     "name": "stderr",
     "output_type": "stream",
     "text": [
      "/home/runner/work/corr-app/corr-app/_notebooks/scripts/read_data.py:187: SettingWithCopyWarning:\n",
      "\n",
      "\n",
      "A value is trying to be set on a copy of a slice from a DataFrame.\n",
      "Try using .loc[row_indexer,col_indexer] = value instead\n",
      "\n",
      "See the caveats in the documentation: https://pandas.pydata.org/pandas-docs/stable/user_guide/indexing.html#returning-a-view-versus-a-copy\n",
      "\n"
     ]
    },
    {
     "name": "stderr",
     "output_type": "stream",
     "text": [
      "/home/runner/work/corr-app/corr-app/_notebooks/scripts/read_data.py:215: SettingWithCopyWarning:\n",
      "\n",
      "\n",
      "A value is trying to be set on a copy of a slice from a DataFrame.\n",
      "Try using .loc[row_indexer,col_indexer] = value instead\n",
      "\n",
      "See the caveats in the documentation: https://pandas.pydata.org/pandas-docs/stable/user_guide/indexing.html#returning-a-view-versus-a-copy\n",
      "\n"
     ]
    }
   ],
   "source": [
    "#hide\n",
    "df_all = read_api()\n",
    "#df_all = df_all.drop(['SP500', 'XAU', 'ETH', 'BTC'], axis=1)\n",
    "\n"
   ]
  },
  {
   "cell_type": "code",
   "execution_count": 6,
   "id": "mature-alert",
   "metadata": {
    "execution": {
     "iopub.execute_input": "2022-05-13T03:16:29.478662Z",
     "iopub.status.busy": "2022-05-13T03:16:29.478121Z",
     "iopub.status.idle": "2022-05-13T03:16:29.508374Z",
     "shell.execute_reply": "2022-05-13T03:16:29.507867Z"
    },
    "papermill": {
     "duration": 0.047837,
     "end_time": "2022-05-13T03:16:29.508495",
     "exception": false,
     "start_time": "2022-05-13T03:16:29.460658",
     "status": "completed"
    },
    "tags": []
   },
   "outputs": [],
   "source": [
    "#hide_input\n",
    "sum_corr = df_all.corr().sum().sort_values(ascending=True).index.values\n",
    "#df_all[sum_corr].corr()"
   ]
  },
  {
   "cell_type": "markdown",
   "id": "complex-syndicate",
   "metadata": {
    "papermill": {
     "duration": 0.011155,
     "end_time": "2022-05-13T03:16:29.531246",
     "exception": false,
     "start_time": "2022-05-13T03:16:29.520091",
     "status": "completed"
    },
    "tags": []
   },
   "source": [
    "## Išplėstinė koreliacijų matrica. "
   ]
  },
  {
   "cell_type": "code",
   "execution_count": 7,
   "id": "atomic-omaha",
   "metadata": {
    "execution": {
     "iopub.execute_input": "2022-05-13T03:16:29.562006Z",
     "iopub.status.busy": "2022-05-13T03:16:29.561498Z",
     "iopub.status.idle": "2022-05-13T03:16:30.763431Z",
     "shell.execute_reply": "2022-05-13T03:16:30.763962Z"
    },
    "papermill": {
     "duration": 1.221732,
     "end_time": "2022-05-13T03:16:30.764104",
     "exception": false,
     "start_time": "2022-05-13T03:16:29.542372",
     "status": "completed"
    },
    "tags": []
   },
   "outputs": [
    {
     "data": {
      "image/png": "[encoded data removed]",
      "text/plain": [
       "<Figure size 1080x792 with 2 Axes>"
      ]
     },
     "metadata": {
      "needs_background": "light"
     },
     "output_type": "display_data"
    }
   ],
   "source": [
    "#hide_input\n",
    "plt.figure(figsize=(15, 11))\n",
    "sns.heatmap(df_all[sum_corr].corr(), annot=True, cmap=\"cubehelix\") \n",
    "sns.set(font_scale=1.25)\n",
    "plt.savefig('corr_matrix.png', format='eps')"
   ]
  },
  {
   "cell_type": "code",
   "execution_count": 8,
   "id": "arbitrary-sullivan",
   "metadata": {
    "execution": {
     "iopub.execute_input": "2022-05-13T03:16:30.794808Z",
     "iopub.status.busy": "2022-05-13T03:16:30.794299Z",
     "iopub.status.idle": "2022-05-13T03:16:30.821714Z",
     "shell.execute_reply": "2022-05-13T03:16:30.821266Z"
    },
    "papermill": {
     "duration": 0.044214,
     "end_time": "2022-05-13T03:16:30.821825",
     "exception": false,
     "start_time": "2022-05-13T03:16:30.777611",
     "status": "completed"
    },
    "tags": []
   },
   "outputs": [],
   "source": [
    "#hide\n",
    "#df_all_mrk = read_api()"
   ]
  },
  {
   "cell_type": "code",
   "execution_count": 9,
   "id": "delayed-adapter",
   "metadata": {
    "execution": {
     "iopub.execute_input": "2022-05-13T03:16:30.857194Z",
     "iopub.status.busy": "2022-05-13T03:16:30.856574Z",
     "iopub.status.idle": "2022-05-13T03:16:30.878531Z",
     "shell.execute_reply": "2022-05-13T03:16:30.878063Z"
    },
    "papermill": {
     "duration": 0.043573,
     "end_time": "2022-05-13T03:16:30.878644",
     "exception": false,
     "start_time": "2022-05-13T03:16:30.835071",
     "status": "completed"
    },
    "tags": []
   },
   "outputs": [],
   "source": [
    "#hide\n",
    "#Koreliacijų koeficientai"
   ]
  },
  {
   "cell_type": "code",
   "execution_count": 10,
   "id": "seeing-celebration",
   "metadata": {
    "execution": {
     "iopub.execute_input": "2022-05-13T03:16:30.912856Z",
     "iopub.status.busy": "2022-05-13T03:16:30.910827Z",
     "iopub.status.idle": "2022-05-13T03:16:30.936211Z",
     "shell.execute_reply": "2022-05-13T03:16:30.935792Z"
    },
    "papermill": {
     "duration": 0.042907,
     "end_time": "2022-05-13T03:16:30.936319",
     "exception": false,
     "start_time": "2022-05-13T03:16:30.893412",
     "status": "completed"
    },
    "tags": []
   },
   "outputs": [],
   "source": [
    "#hide_input\n",
    "#sum_corr = df_all_mrk.corr().sum().sort_values(ascending=True).index.values\n",
    "#df_all_mrk[sum_corr].corr()"
   ]
  },
  {
   "cell_type": "code",
   "execution_count": 11,
   "id": "other-painting",
   "metadata": {
    "execution": {
     "iopub.execute_input": "2022-05-13T03:16:30.970023Z",
     "iopub.status.busy": "2022-05-13T03:16:30.969510Z",
     "iopub.status.idle": "2022-05-13T03:16:30.992552Z",
     "shell.execute_reply": "2022-05-13T03:16:30.992084Z"
    },
    "papermill": {
     "duration": 0.042937,
     "end_time": "2022-05-13T03:16:30.992669",
     "exception": false,
     "start_time": "2022-05-13T03:16:30.949732",
     "status": "completed"
    },
    "tags": []
   },
   "outputs": [],
   "source": [
    "#hide\n",
    "#Koreliacijos matrica. "
   ]
  },
  {
   "cell_type": "code",
   "execution_count": 12,
   "id": "modular-magnitude",
   "metadata": {
    "execution": {
     "iopub.execute_input": "2022-05-13T03:16:31.025977Z",
     "iopub.status.busy": "2022-05-13T03:16:31.025478Z",
     "iopub.status.idle": "2022-05-13T03:16:31.049187Z",
     "shell.execute_reply": "2022-05-13T03:16:31.048649Z"
    },
    "papermill": {
     "duration": 0.042919,
     "end_time": "2022-05-13T03:16:31.049303",
     "exception": false,
     "start_time": "2022-05-13T03:16:31.006384",
     "status": "completed"
    },
    "tags": []
   },
   "outputs": [],
   "source": [
    "#hide_input\n",
    "#plt.figure(figsize=(15, 8))\n",
    "#sns.heatmap(df_all_mrk[sum_corr].corr(), annot=True, cmap=\"BrBG\");\n",
    "#plt.savefig('corr_matrix_all.eps', format='eps')"
   ]
  },
  {
   "cell_type": "code",
   "execution_count": null,
   "id": "original-senator",
   "metadata": {
    "papermill": {
     "duration": 0.012878,
     "end_time": "2022-05-13T03:16:31.076232",
     "exception": false,
     "start_time": "2022-05-13T03:16:31.063354",
     "status": "completed"
    },
    "tags": []
   },
   "outputs": [],
   "source": []
  },
  {
   "cell_type": "code",
   "execution_count": null,
   "id": "saving-secretariat",
   "metadata": {
    "papermill": {
     "duration": 0.012957,
     "end_time": "2022-05-13T03:16:31.102151",
     "exception": false,
     "start_time": "2022-05-13T03:16:31.089194",
     "status": "completed"
    },
    "tags": []
   },
   "outputs": [],
   "source": []
  }
 ],
 "metadata": {
  "kernelspec": {
   "display_name": "Python 3",
   "language": "python",
   "name": "python3"
  },
  "language_info": {
   "codemirror_mode": {
    "name": "ipython",
    "version": 3
   },
   "file_extension": ".py",
   "mimetype": "text/x-python",
   "name": "python",
   "nbconvert_exporter": "python",
   "pygments_lexer": "ipython3",
   "version": "3.6.15"
  },
  "papermill": {
   "default_parameters": {},
   "duration": 16.464442,
   "end_time": "2022-05-13T03:16:31.633920",
   "environment_variables": {},
   "exception": null,
   "input_path": "App-Correlation_charts.ipynb",
   "output_path": "App-Correlation_charts.ipynb",
   "parameters": {},
   "start_time": "2022-05-13T03:16:15.169478",
   "version": "2.2.2"
  }
 },
 "nbformat": 4,
 "nbformat_minor": 5
}