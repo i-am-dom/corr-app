{
 "cells": [
  {
   "cell_type": "markdown",
   "id": "touched-facility",
   "metadata": {
    "papermill": {
     "duration": 0.017342,
     "end_time": "2022-07-18T03:12:39.768301",
     "exception": false,
     "start_time": "2022-07-18T03:12:39.750959",
     "status": "completed"
    },
    "tags": []
   },
   "source": [
    "# Koreliacijų matrica\n",
    "> Išplėstinė koreliacijų matrica. \n",
    "\n",
    "- toc: true \n",
    "- badges: true\n",
    "- comments: false\n",
    "- categories: [Dominykas Tautkus]\n",
    "- image: images/matrix.png"
   ]
  },
  {
   "cell_type": "code",
   "execution_count": null,
   "id": "premium-weekend",
   "metadata": {
    "papermill": {
     "duration": 0.012095,
     "end_time": "2022-07-18T03:12:39.792822",
     "exception": false,
     "start_time": "2022-07-18T03:12:39.780727",
     "status": "completed"
    },
    "tags": []
   },
   "outputs": [],
   "source": []
  },
  {
   "cell_type": "code",
   "execution_count": 1,
   "id": "vertical-rebate",
   "metadata": {
    "execution": {
     "iopub.execute_input": "2022-07-18T03:12:39.827627Z",
     "iopub.status.busy": "2022-07-18T03:12:39.826944Z",
     "iopub.status.idle": "2022-07-18T03:12:39.838042Z",
     "shell.execute_reply": "2022-07-18T03:12:39.838727Z"
    },
    "papermill": {
     "duration": 0.035192,
     "end_time": "2022-07-18T03:12:39.838887",
     "exception": false,
     "start_time": "2022-07-18T03:12:39.803695",
     "status": "completed"
    },
    "tags": []
   },
   "outputs": [],
   "source": [
    "#hide\n",
    "%load_ext autoreload\n",
    "%autoreload 2"
   ]
  },
  {
   "cell_type": "code",
   "execution_count": 2,
   "id": "overall-advancement",
   "metadata": {
    "execution": {
     "iopub.execute_input": "2022-07-18T03:12:39.864694Z",
     "iopub.status.busy": "2022-07-18T03:12:39.864067Z",
     "iopub.status.idle": "2022-07-18T03:12:41.232515Z",
     "shell.execute_reply": "2022-07-18T03:12:41.231335Z"
    },
    "papermill": {
     "duration": 1.382763,
     "end_time": "2022-07-18T03:12:41.232672",
     "exception": false,
     "start_time": "2022-07-18T03:12:39.849909",
     "status": "completed"
    },
    "tags": []
   },
   "outputs": [],
   "source": [
    "#hide\n",
    "from scripts.read_data import read_api\n",
    "from IPython.display import HTML\n",
    "import plotly.graph_objects as go\n"
   ]
  },
  {
   "cell_type": "code",
   "execution_count": 3,
   "id": "light-crazy",
   "metadata": {
    "execution": {
     "iopub.execute_input": "2022-07-18T03:12:41.259110Z",
     "iopub.status.busy": "2022-07-18T03:12:41.258246Z",
     "iopub.status.idle": "2022-07-18T03:12:41.283188Z",
     "shell.execute_reply": "2022-07-18T03:12:41.282509Z"
    },
    "papermill": {
     "duration": 0.039611,
     "end_time": "2022-07-18T03:12:41.283345",
     "exception": false,
     "start_time": "2022-07-18T03:12:41.243734",
     "status": "completed"
    },
    "tags": []
   },
   "outputs": [],
   "source": [
    "#hide\n",
    "### ICO koreliacija"
   ]
  },
  {
   "cell_type": "code",
   "execution_count": 4,
   "id": "likely-bahrain",
   "metadata": {
    "execution": {
     "iopub.execute_input": "2022-07-18T03:12:41.312448Z",
     "iopub.status.busy": "2022-07-18T03:12:41.311830Z",
     "iopub.status.idle": "2022-07-18T03:12:42.214910Z",
     "shell.execute_reply": "2022-07-18T03:12:42.212855Z"
    },
    "papermill": {
     "duration": 0.91949,
     "end_time": "2022-07-18T03:12:42.215140",
     "exception": false,
     "start_time": "2022-07-18T03:12:41.295650",
     "status": "completed"
    },
    "tags": []
   },
   "outputs": [],
   "source": [
    "#hide\n",
    "import matplotlib.pyplot as plt\n",
    "import numpy as np\n",
    "import pandas as pd\n",
    "import seaborn as sns\n",
    "import matplotlib.pyplot as plt \n",
    "import matplotlib.dates as mdates\n",
    "import matplotlib.pyplot as plt"
   ]
  },
  {
   "cell_type": "code",
   "execution_count": 5,
   "id": "superior-blanket",
   "metadata": {
    "execution": {
     "iopub.execute_input": "2022-07-18T03:12:42.246673Z",
     "iopub.status.busy": "2022-07-18T03:12:42.246099Z",
     "iopub.status.idle": "2022-07-18T03:12:57.956150Z",
     "shell.execute_reply": "2022-07-18T03:12:57.955070Z"
    },
    "papermill": {
     "duration": 15.727183,
     "end_time": "2022-07-18T03:12:57.956295",
     "exception": false,
     "start_time": "2022-07-18T03:12:42.229112",
     "status": "completed"
    },
    "tags": []
   },
   "outputs": [
    {
     "name": "stderr",
     "output_type": "stream",
     "text": [
      "/home/runner/work/corr-app/corr-app/_notebooks/scripts/read_data.py:187: SettingWithCopyWarning:\n",
      "\n",
      "\n",
      "A value is trying to be set on a copy of a slice from a DataFrame.\n",
      "Try using .loc[row_indexer,col_indexer] = value instead\n",
      "\n",
      "See the caveats in the documentation: https://pandas.pydata.org/pandas-docs/stable/user_guide/indexing.html#returning-a-view-versus-a-copy\n",
      "\n"
     ]
    },
    {
     "name": "stderr",
     "output_type": "stream",
     "text": [
      "/home/runner/work/corr-app/corr-app/_notebooks/scripts/read_data.py:215: SettingWithCopyWarning:\n",
      "\n",
      "\n",
      "A value is trying to be set on a copy of a slice from a DataFrame.\n",
      "Try using .loc[row_indexer,col_indexer] = value instead\n",
      "\n",
      "See the caveats in the documentation: https://pandas.pydata.org/pandas-docs/stable/user_guide/indexing.html#returning-a-view-versus-a-copy\n",
      "\n"
     ]
    }
   ],
   "source": [
    "#hide\n",
    "df_all = read_api()\n",
    "#df_all = df_all.drop(['SP500', 'XAU', 'ETH', 'BTC'], axis=1)\n",
    "\n"
   ]
  },
  {
   "cell_type": "code",
   "execution_count": 6,
   "id": "mature-alert",
   "metadata": {
    "execution": {
     "iopub.execute_input": "2022-07-18T03:12:57.988964Z",
     "iopub.status.busy": "2022-07-18T03:12:57.988407Z",
     "iopub.status.idle": "2022-07-18T03:12:58.021035Z",
     "shell.execute_reply": "2022-07-18T03:12:58.020061Z"
    },
    "papermill": {
     "duration": 0.052263,
     "end_time": "2022-07-18T03:12:58.021242",
     "exception": false,
     "start_time": "2022-07-18T03:12:57.968979",
     "status": "completed"
    },
    "tags": []
   },
   "outputs": [],
   "source": [
    "#hide_input\n",
    "sum_corr = df_all.corr().sum().sort_values(ascending=True).index.values\n",
    "#df_all[sum_corr].corr()"
   ]
  },
  {
   "cell_type": "markdown",
   "id": "complex-syndicate",
   "metadata": {
    "papermill": {
     "duration": 0.013095,
     "end_time": "2022-07-18T03:12:58.048825",
     "exception": false,
     "start_time": "2022-07-18T03:12:58.035730",
     "status": "completed"
    },
    "tags": []
   },
   "source": [
    "## Išplėstinė koreliacijų matrica. "
   ]
  },
  {
   "cell_type": "code",
   "execution_count": 7,
   "id": "atomic-omaha",
   "metadata": {
    "execution": {
     "iopub.execute_input": "2022-07-18T03:12:58.080512Z",
     "iopub.status.busy": "2022-07-18T03:12:58.079824Z",
     "iopub.status.idle": "2022-07-18T03:12:59.424868Z",
     "shell.execute_reply": "2022-07-18T03:12:59.425442Z"
    },
    "papermill": {
     "duration": 1.364201,
     "end_time": "2022-07-18T03:12:59.425601",
     "exception": false,
     "start_time": "2022-07-18T03:12:58.061400",
     "status": "completed"
    },
    "tags": []
   },
   "outputs": [
    {
     "data": {
      "image/png": "[encoded data removed]",
      "text/plain": [
       "<Figure size 1080x792 with 2 Axes>"
      ]
     },
     "metadata": {
      "needs_background": "light"
     },
     "output_type": "display_data"
    }
   ],
   "source": [
    "#hide_input\n",
    "plt.figure(figsize=(15, 11))\n",
    "sns.heatmap(df_all[sum_corr].corr(), annot=True, cmap=\"cubehelix\") \n",
    "sns.set(font_scale=1.25)\n",
    "plt.savefig('corr_matrix.png', format='eps')"
   ]
  },
  {
   "cell_type": "code",
   "execution_count": 8,
   "id": "arbitrary-sullivan",
   "metadata": {
    "execution": {
     "iopub.execute_input": "2022-07-18T03:12:59.463716Z",
     "iopub.status.busy": "2022-07-18T03:12:59.463032Z",
     "iopub.status.idle": "2022-07-18T03:12:59.489099Z",
     "shell.execute_reply": "2022-07-18T03:12:59.488533Z"
    },
    "papermill": {
     "duration": 0.048482,
     "end_time": "2022-07-18T03:12:59.489224",
     "exception": false,
     "start_time": "2022-07-18T03:12:59.440742",
     "status": "completed"
    },
    "tags": []
   },
   "outputs": [],
   "source": [
    "#hide\n",
    "#df_all_mrk = read_api()"
   ]
  },
  {
   "cell_type": "code",
   "execution_count": 9,
   "id": "delayed-adapter",
   "metadata": {
    "execution": {
     "iopub.execute_input": "2022-07-18T03:12:59.521302Z",
     "iopub.status.busy": "2022-07-18T03:12:59.520717Z",
     "iopub.status.idle": "2022-07-18T03:12:59.548969Z",
     "shell.execute_reply": "2022-07-18T03:12:59.549471Z"
    },
    "papermill": {
     "duration": 0.046085,
     "end_time": "2022-07-18T03:12:59.549608",
     "exception": false,
     "start_time": "2022-07-18T03:12:59.503523",
     "status": "completed"
    },
    "tags": []
   },
   "outputs": [],
   "source": [
    "#hide\n",
    "#Koreliacijų koeficientai"
   ]
  },
  {
   "cell_type": "code",
   "execution_count": 10,
   "id": "seeing-celebration",
   "metadata": {
    "execution": {
     "iopub.execute_input": "2022-07-18T03:12:59.596547Z",
     "iopub.status.busy": "2022-07-18T03:12:59.595863Z",
     "iopub.status.idle": "2022-07-18T03:12:59.625795Z",
     "shell.execute_reply": "2022-07-18T03:12:59.625021Z"
    },
    "papermill": {
     "duration": 0.057802,
     "end_time": "2022-07-18T03:12:59.625961",
     "exception": false,
     "start_time": "2022-07-18T03:12:59.568159",
     "status": "completed"
    },
    "tags": []
   },
   "outputs": [],
   "source": [
    "#hide_input\n",
    "#sum_corr = df_all_mrk.corr().sum().sort_values(ascending=True).index.values\n",
    "#df_all_mrk[sum_corr].corr()"
   ]
  },
  {
   "cell_type": "code",
   "execution_count": 11,
   "id": "other-painting",
   "metadata": {
    "execution": {
     "iopub.execute_input": "2022-07-18T03:12:59.661443Z",
     "iopub.status.busy": "2022-07-18T03:12:59.660777Z",
     "iopub.status.idle": "2022-07-18T03:12:59.690254Z",
     "shell.execute_reply": "2022-07-18T03:12:59.691073Z"
    },
    "papermill": {
     "duration": 0.049398,
     "end_time": "2022-07-18T03:12:59.691230",
     "exception": false,
     "start_time": "2022-07-18T03:12:59.641832",
     "status": "completed"
    },
    "tags": []
   },
   "outputs": [],
   "source": [
    "#hide\n",
    "#Koreliacijos matrica. "
   ]
  },
  {
   "cell_type": "code",
   "execution_count": 12,
   "id": "modular-magnitude",
   "metadata": {
    "execution": {
     "iopub.execute_input": "2022-07-18T03:12:59.728161Z",
     "iopub.status.busy": "2022-07-18T03:12:59.727461Z",
     "iopub.status.idle": "2022-07-18T03:12:59.758486Z",
     "shell.execute_reply": "2022-07-18T03:12:59.759014Z"
    },
    "papermill": {
     "duration": 0.050156,
     "end_time": "2022-07-18T03:12:59.759169",
     "exception": false,
     "start_time": "2022-07-18T03:12:59.709013",
     "status": "completed"
    },
    "tags": []
   },
   "outputs": [],
   "source": [
    "#hide_input\n",
    "#plt.figure(figsize=(15, 8))\n",
    "#sns.heatmap(df_all_mrk[sum_corr].corr(), annot=True, cmap=\"BrBG\");\n",
    "#plt.savefig('corr_matrix_all.eps', format='eps')"
   ]
  },
  {
   "cell_type": "code",
   "execution_count": null,
   "id": "original-senator",
   "metadata": {
    "papermill": {
     "duration": 0.015447,
     "end_time": "2022-07-18T03:12:59.790481",
     "exception": false,
     "start_time": "2022-07-18T03:12:59.775034",
     "status": "completed"
    },
    "tags": []
   },
   "outputs": [],
   "source": []
  },
  {
   "cell_type": "code",
   "execution_count": null,
   "id": "saving-secretariat",
   "metadata": {
    "papermill": {
     "duration": 0.015327,
     "end_time": "2022-07-18T03:12:59.820943",
     "exception": false,
     "start_time": "2022-07-18T03:12:59.805616",
     "status": "completed"
    },
    "tags": []
   },
   "outputs": [],
   "source": []
  }
 ],
 "metadata": {
  "kernelspec": {
   "display_name": "Python 3",
   "language": "python",
   "name": "python3"
  },
  "language_info": {
   "codemirror_mode": {
    "name": "ipython",
    "version": 3
   },
   "file_extension": ".py",
   "mimetype": "text/x-python",
   "name": "python",
   "nbconvert_exporter": "python",
   "pygments_lexer": "ipython3",
   "version": "3.6.15"
  },
  "papermill": {
   "default_parameters": {},
   "duration": 21.735006,
   "end_time": "2022-07-18T03:13:00.357302",
   "environment_variables": {},
   "exception": null,
   "input_path": "App-Correlation_charts.ipynb",
   "output_path": "App-Correlation_charts.ipynb",
   "parameters": {},
   "start_time": "2022-07-18T03:12:38.622296",
   "version": "2.2.2"
  }
 },
 "nbformat": 4,
 "nbformat_minor": 5
}