{
 "cells": [
  {
   "cell_type": "markdown",
   "id": "touched-facility",
   "metadata": {
    "papermill": {
     "duration": 0.015195,
     "end_time": "2022-01-22T01:53:55.623391",
     "exception": false,
     "start_time": "2022-01-22T01:53:55.608196",
     "status": "completed"
    },
    "tags": []
   },
   "source": [
    "# Koreliacijų matrica\n",
    "> Išplėstinė koreliacijų matrica. \n",
    "\n",
    "- toc: true \n",
    "- badges: true\n",
    "- comments: false\n",
    "- categories: [Dominykas Tautkus]\n",
    "- image: images/matrix.png"
   ]
  },
  {
   "cell_type": "code",
   "execution_count": null,
   "id": "premium-weekend",
   "metadata": {
    "papermill": {
     "duration": 0.010555,
     "end_time": "2022-01-22T01:53:55.645254",
     "exception": false,
     "start_time": "2022-01-22T01:53:55.634699",
     "status": "completed"
    },
    "tags": []
   },
   "outputs": [],
   "source": []
  },
  {
   "cell_type": "code",
   "execution_count": 1,
   "id": "vertical-rebate",
   "metadata": {
    "execution": {
     "iopub.execute_input": "2022-01-22T01:53:55.676680Z",
     "iopub.status.busy": "2022-01-22T01:53:55.676141Z",
     "iopub.status.idle": "2022-01-22T01:53:55.685943Z",
     "shell.execute_reply": "2022-01-22T01:53:55.686356Z"
    },
    "papermill": {
     "duration": 0.030754,
     "end_time": "2022-01-22T01:53:55.686518",
     "exception": false,
     "start_time": "2022-01-22T01:53:55.655764",
     "status": "completed"
    },
    "tags": []
   },
   "outputs": [],
   "source": [
    "#hide\n",
    "%load_ext autoreload\n",
    "%autoreload 2"
   ]
  },
  {
   "cell_type": "code",
   "execution_count": 2,
   "id": "overall-advancement",
   "metadata": {
    "execution": {
     "iopub.execute_input": "2022-01-22T01:53:55.711376Z",
     "iopub.status.busy": "2022-01-22T01:53:55.710857Z",
     "iopub.status.idle": "2022-01-22T01:53:56.863489Z",
     "shell.execute_reply": "2022-01-22T01:53:56.862982Z"
    },
    "papermill": {
     "duration": 1.166555,
     "end_time": "2022-01-22T01:53:56.863625",
     "exception": false,
     "start_time": "2022-01-22T01:53:55.697070",
     "status": "completed"
    },
    "tags": []
   },
   "outputs": [],
   "source": [
    "#hide\n",
    "from scripts.read_data import read_api\n",
    "from IPython.display import HTML\n",
    "import plotly.graph_objects as go\n"
   ]
  },
  {
   "cell_type": "code",
   "execution_count": 3,
   "id": "light-crazy",
   "metadata": {
    "execution": {
     "iopub.execute_input": "2022-01-22T01:53:56.890366Z",
     "iopub.status.busy": "2022-01-22T01:53:56.889838Z",
     "iopub.status.idle": "2022-01-22T01:53:56.912685Z",
     "shell.execute_reply": "2022-01-22T01:53:56.912252Z"
    },
    "papermill": {
     "duration": 0.03725,
     "end_time": "2022-01-22T01:53:56.912805",
     "exception": false,
     "start_time": "2022-01-22T01:53:56.875555",
     "status": "completed"
    },
    "tags": []
   },
   "outputs": [],
   "source": [
    "#hide\n",
    "### ICO koreliacija"
   ]
  },
  {
   "cell_type": "code",
   "execution_count": 4,
   "id": "likely-bahrain",
   "metadata": {
    "execution": {
     "iopub.execute_input": "2022-01-22T01:53:56.938120Z",
     "iopub.status.busy": "2022-01-22T01:53:56.937556Z",
     "iopub.status.idle": "2022-01-22T01:53:57.808539Z",
     "shell.execute_reply": "2022-01-22T01:53:57.808078Z"
    },
    "papermill": {
     "duration": 0.885252,
     "end_time": "2022-01-22T01:53:57.808662",
     "exception": false,
     "start_time": "2022-01-22T01:53:56.923410",
     "status": "completed"
    },
    "tags": []
   },
   "outputs": [],
   "source": [
    "#hide\n",
    "import matplotlib.pyplot as plt\n",
    "import numpy as np\n",
    "import pandas as pd\n",
    "import seaborn as sns\n",
    "import matplotlib.pyplot as plt \n",
    "import matplotlib.dates as mdates\n",
    "import matplotlib.pyplot as plt"
   ]
  },
  {
   "cell_type": "code",
   "execution_count": 5,
   "id": "superior-blanket",
   "metadata": {
    "execution": {
     "iopub.execute_input": "2022-01-22T01:53:57.840437Z",
     "iopub.status.busy": "2022-01-22T01:53:57.839387Z",
     "iopub.status.idle": "2022-01-22T01:54:10.742392Z",
     "shell.execute_reply": "2022-01-22T01:54:10.741895Z"
    },
    "papermill": {
     "duration": 12.922844,
     "end_time": "2022-01-22T01:54:10.742513",
     "exception": false,
     "start_time": "2022-01-22T01:53:57.819669",
     "status": "completed"
    },
    "tags": []
   },
   "outputs": [
    {
     "name": "stderr",
     "output_type": "stream",
     "text": [
      "/home/runner/work/corr-app/corr-app/_notebooks/scripts/read_data.py:187: SettingWithCopyWarning:\n",
      "\n",
      "\n",
      "A value is trying to be set on a copy of a slice from a DataFrame.\n",
      "Try using .loc[row_indexer,col_indexer] = value instead\n",
      "\n",
      "See the caveats in the documentation: https://pandas.pydata.org/pandas-docs/stable/user_guide/indexing.html#returning-a-view-versus-a-copy\n",
      "\n"
     ]
    },
    {
     "name": "stderr",
     "output_type": "stream",
     "text": [
      "/home/runner/work/corr-app/corr-app/_notebooks/scripts/read_data.py:215: SettingWithCopyWarning:\n",
      "\n",
      "\n",
      "A value is trying to be set on a copy of a slice from a DataFrame.\n",
      "Try using .loc[row_indexer,col_indexer] = value instead\n",
      "\n",
      "See the caveats in the documentation: https://pandas.pydata.org/pandas-docs/stable/user_guide/indexing.html#returning-a-view-versus-a-copy\n",
      "\n"
     ]
    }
   ],
   "source": [
    "#hide\n",
    "df_all = read_api()\n",
    "#df_all = df_all.drop(['SP500', 'XAU', 'ETH', 'BTC'], axis=1)\n",
    "\n"
   ]
  },
  {
   "cell_type": "code",
   "execution_count": 6,
   "id": "mature-alert",
   "metadata": {
    "execution": {
     "iopub.execute_input": "2022-01-22T01:54:10.770481Z",
     "iopub.status.busy": "2022-01-22T01:54:10.769911Z",
     "iopub.status.idle": "2022-01-22T01:54:10.799517Z",
     "shell.execute_reply": "2022-01-22T01:54:10.799032Z"
    },
    "papermill": {
     "duration": 0.045725,
     "end_time": "2022-01-22T01:54:10.799650",
     "exception": false,
     "start_time": "2022-01-22T01:54:10.753925",
     "status": "completed"
    },
    "tags": []
   },
   "outputs": [],
   "source": [
    "#hide_input\n",
    "sum_corr = df_all.corr().sum().sort_values(ascending=True).index.values\n",
    "#df_all[sum_corr].corr()"
   ]
  },
  {
   "cell_type": "markdown",
   "id": "complex-syndicate",
   "metadata": {
    "papermill": {
     "duration": 0.01109,
     "end_time": "2022-01-22T01:54:10.822348",
     "exception": false,
     "start_time": "2022-01-22T01:54:10.811258",
     "status": "completed"
    },
    "tags": []
   },
   "source": [
    "## Išplėstinė koreliacijų matrica. "
   ]
  },
  {
   "cell_type": "code",
   "execution_count": 7,
   "id": "atomic-omaha",
   "metadata": {
    "execution": {
     "iopub.execute_input": "2022-01-22T01:54:10.848927Z",
     "iopub.status.busy": "2022-01-22T01:54:10.848401Z",
     "iopub.status.idle": "2022-01-22T01:54:12.100825Z",
     "shell.execute_reply": "2022-01-22T01:54:12.100370Z"
    },
    "papermill": {
     "duration": 1.26742,
     "end_time": "2022-01-22T01:54:12.100941",
     "exception": false,
     "start_time": "2022-01-22T01:54:10.833521",
     "status": "completed"
    },
    "tags": []
   },
   "outputs": [
    {
     "data": {
      "image/png": "[encoded data removed]",
      "text/plain": [
       "<Figure size 1080x792 with 2 Axes>"
      ]
     },
     "metadata": {
      "needs_background": "light"
     },
     "output_type": "display_data"
    }
   ],
   "source": [
    "#hide_input\n",
    "plt.figure(figsize=(15, 11))\n",
    "sns.heatmap(df_all[sum_corr].corr(), annot=True, cmap=\"cubehelix\") \n",
    "sns.set(font_scale=1.25)\n",
    "plt.savefig('corr_matrix.png', format='eps')"
   ]
  },
  {
   "cell_type": "code",
   "execution_count": 8,
   "id": "arbitrary-sullivan",
   "metadata": {
    "execution": {
     "iopub.execute_input": "2022-01-22T01:54:12.133990Z",
     "iopub.status.busy": "2022-01-22T01:54:12.132433Z",
     "iopub.status.idle": "2022-01-22T01:54:12.158056Z",
     "shell.execute_reply": "2022-01-22T01:54:12.157559Z"
    },
    "papermill": {
     "duration": 0.043829,
     "end_time": "2022-01-22T01:54:12.158190",
     "exception": false,
     "start_time": "2022-01-22T01:54:12.114361",
     "status": "completed"
    },
    "tags": []
   },
   "outputs": [],
   "source": [
    "#hide\n",
    "#df_all_mrk = read_api()"
   ]
  },
  {
   "cell_type": "code",
   "execution_count": 9,
   "id": "delayed-adapter",
   "metadata": {
    "execution": {
     "iopub.execute_input": "2022-01-22T01:54:12.198661Z",
     "iopub.status.busy": "2022-01-22T01:54:12.195471Z",
     "iopub.status.idle": "2022-01-22T01:54:12.216638Z",
     "shell.execute_reply": "2022-01-22T01:54:12.216196Z"
    },
    "papermill": {
     "duration": 0.045444,
     "end_time": "2022-01-22T01:54:12.216758",
     "exception": false,
     "start_time": "2022-01-22T01:54:12.171314",
     "status": "completed"
    },
    "tags": []
   },
   "outputs": [],
   "source": [
    "#hide\n",
    "#Koreliacijų koeficientai"
   ]
  },
  {
   "cell_type": "code",
   "execution_count": 10,
   "id": "seeing-celebration",
   "metadata": {
    "execution": {
     "iopub.execute_input": "2022-01-22T01:54:12.250555Z",
     "iopub.status.busy": "2022-01-22T01:54:12.250013Z",
     "iopub.status.idle": "2022-01-22T01:54:12.273780Z",
     "shell.execute_reply": "2022-01-22T01:54:12.273278Z"
    },
    "papermill": {
     "duration": 0.043755,
     "end_time": "2022-01-22T01:54:12.273915",
     "exception": false,
     "start_time": "2022-01-22T01:54:12.230160",
     "status": "completed"
    },
    "tags": []
   },
   "outputs": [],
   "source": [
    "#hide_input\n",
    "#sum_corr = df_all_mrk.corr().sum().sort_values(ascending=True).index.values\n",
    "#df_all_mrk[sum_corr].corr()"
   ]
  },
  {
   "cell_type": "code",
   "execution_count": 11,
   "id": "other-painting",
   "metadata": {
    "execution": {
     "iopub.execute_input": "2022-01-22T01:54:12.313463Z",
     "iopub.status.busy": "2022-01-22T01:54:12.312939Z",
     "iopub.status.idle": "2022-01-22T01:54:12.333577Z",
     "shell.execute_reply": "2022-01-22T01:54:12.334059Z"
    },
    "papermill": {
     "duration": 0.046424,
     "end_time": "2022-01-22T01:54:12.334221",
     "exception": false,
     "start_time": "2022-01-22T01:54:12.287797",
     "status": "completed"
    },
    "tags": []
   },
   "outputs": [],
   "source": [
    "#hide\n",
    "#Koreliacijos matrica. "
   ]
  },
  {
   "cell_type": "code",
   "execution_count": 12,
   "id": "modular-magnitude",
   "metadata": {
    "execution": {
     "iopub.execute_input": "2022-01-22T01:54:12.374557Z",
     "iopub.status.busy": "2022-01-22T01:54:12.364531Z",
     "iopub.status.idle": "2022-01-22T01:54:12.395117Z",
     "shell.execute_reply": "2022-01-22T01:54:12.395573Z"
    },
    "papermill": {
     "duration": 0.04736,
     "end_time": "2022-01-22T01:54:12.395733",
     "exception": false,
     "start_time": "2022-01-22T01:54:12.348373",
     "status": "completed"
    },
    "tags": []
   },
   "outputs": [],
   "source": [
    "#hide_input\n",
    "#plt.figure(figsize=(15, 8))\n",
    "#sns.heatmap(df_all_mrk[sum_corr].corr(), annot=True, cmap=\"BrBG\");\n",
    "#plt.savefig('corr_matrix_all.eps', format='eps')"
   ]
  },
  {
   "cell_type": "code",
   "execution_count": null,
   "id": "original-senator",
   "metadata": {
    "papermill": {
     "duration": 0.013859,
     "end_time": "2022-01-22T01:54:12.424498",
     "exception": false,
     "start_time": "2022-01-22T01:54:12.410639",
     "status": "completed"
    },
    "tags": []
   },
   "outputs": [],
   "source": []
  },
  {
   "cell_type": "code",
   "execution_count": null,
   "id": "saving-secretariat",
   "metadata": {
    "papermill": {
     "duration": 0.012937,
     "end_time": "2022-01-22T01:54:12.450421",
     "exception": false,
     "start_time": "2022-01-22T01:54:12.437484",
     "status": "completed"
    },
    "tags": []
   },
   "outputs": [],
   "source": []
  }
 ],
 "metadata": {
  "kernelspec": {
   "display_name": "Python 3",
   "language": "python",
   "name": "python3"
  },
  "language_info": {
   "codemirror_mode": {
    "name": "ipython",
    "version": 3
   },
   "file_extension": ".py",
   "mimetype": "text/x-python",
   "name": "python",
   "nbconvert_exporter": "python",
   "pygments_lexer": "ipython3",
   "version": "3.6.15"
  },
  "papermill": {
   "default_parameters": {},
   "duration": 18.30899,
   "end_time": "2022-01-22T01:54:12.983245",
   "environment_variables": {},
   "exception": null,
   "input_path": "App-Correlation_charts.ipynb",
   "output_path": "App-Correlation_charts.ipynb",
   "parameters": {},
   "start_time": "2022-01-22T01:53:54.674255",
   "version": "2.2.2"
  }
 },
 "nbformat": 4,
 "nbformat_minor": 5
}