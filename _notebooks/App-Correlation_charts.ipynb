{
 "cells": [
  {
   "cell_type": "markdown",
   "id": "touched-facility",
   "metadata": {
    "papermill": {
     "duration": 0.014986,
     "end_time": "2022-11-16T03:20:59.346255",
     "exception": false,
     "start_time": "2022-11-16T03:20:59.331269",
     "status": "completed"
    },
    "tags": []
   },
   "source": [
    "# Koreliacijų matrica\n",
    "> Išplėstinė koreliacijų matrica. \n",
    "\n",
    "- toc: true \n",
    "- badges: true\n",
    "- comments: false\n",
    "- categories: [Dominykas Tautkus]\n",
    "- image: images/matrix.png"
   ]
  },
  {
   "cell_type": "code",
   "execution_count": null,
   "id": "premium-weekend",
   "metadata": {
    "papermill": {
     "duration": 0.010553,
     "end_time": "2022-11-16T03:20:59.368192",
     "exception": false,
     "start_time": "2022-11-16T03:20:59.357639",
     "status": "completed"
    },
    "tags": []
   },
   "outputs": [],
   "source": []
  },
  {
   "cell_type": "code",
   "execution_count": 1,
   "id": "vertical-rebate",
   "metadata": {
    "execution": {
     "iopub.execute_input": "2022-11-16T03:20:59.400807Z",
     "iopub.status.busy": "2022-11-16T03:20:59.400218Z",
     "iopub.status.idle": "2022-11-16T03:20:59.411633Z",
     "shell.execute_reply": "2022-11-16T03:20:59.411144Z"
    },
    "papermill": {
     "duration": 0.032977,
     "end_time": "2022-11-16T03:20:59.411759",
     "exception": false,
     "start_time": "2022-11-16T03:20:59.378782",
     "status": "completed"
    },
    "tags": []
   },
   "outputs": [],
   "source": [
    "#hide\n",
    "%load_ext autoreload\n",
    "%autoreload 2"
   ]
  },
  {
   "cell_type": "code",
   "execution_count": 2,
   "id": "overall-advancement",
   "metadata": {
    "execution": {
     "iopub.execute_input": "2022-11-16T03:20:59.437524Z",
     "iopub.status.busy": "2022-11-16T03:20:59.436850Z",
     "iopub.status.idle": "2022-11-16T03:21:00.674819Z",
     "shell.execute_reply": "2022-11-16T03:21:00.673855Z"
    },
    "papermill": {
     "duration": 1.252721,
     "end_time": "2022-11-16T03:21:00.674964",
     "exception": false,
     "start_time": "2022-11-16T03:20:59.422243",
     "status": "completed"
    },
    "tags": []
   },
   "outputs": [],
   "source": [
    "#hide\n",
    "from scripts.read_data import read_api\n",
    "from IPython.display import HTML\n",
    "import plotly.graph_objects as go\n"
   ]
  },
  {
   "cell_type": "code",
   "execution_count": 3,
   "id": "light-crazy",
   "metadata": {
    "execution": {
     "iopub.execute_input": "2022-11-16T03:21:00.701451Z",
     "iopub.status.busy": "2022-11-16T03:21:00.700848Z",
     "iopub.status.idle": "2022-11-16T03:21:00.724445Z",
     "shell.execute_reply": "2022-11-16T03:21:00.723936Z"
    },
    "papermill": {
     "duration": 0.038539,
     "end_time": "2022-11-16T03:21:00.724570",
     "exception": false,
     "start_time": "2022-11-16T03:21:00.686031",
     "status": "completed"
    },
    "tags": []
   },
   "outputs": [],
   "source": [
    "#hide\n",
    "### ICO koreliacija"
   ]
  },
  {
   "cell_type": "code",
   "execution_count": 4,
   "id": "likely-bahrain",
   "metadata": {
    "execution": {
     "iopub.execute_input": "2022-11-16T03:21:00.749383Z",
     "iopub.status.busy": "2022-11-16T03:21:00.748820Z",
     "iopub.status.idle": "2022-11-16T03:21:01.595795Z",
     "shell.execute_reply": "2022-11-16T03:21:01.595224Z"
    },
    "papermill": {
     "duration": 0.860609,
     "end_time": "2022-11-16T03:21:01.595937",
     "exception": false,
     "start_time": "2022-11-16T03:21:00.735328",
     "status": "completed"
    },
    "tags": []
   },
   "outputs": [],
   "source": [
    "#hide\n",
    "import matplotlib.pyplot as plt\n",
    "import numpy as np\n",
    "import pandas as pd\n",
    "import seaborn as sns\n",
    "import matplotlib.pyplot as plt \n",
    "import matplotlib.dates as mdates\n",
    "import matplotlib.pyplot as plt"
   ]
  },
  {
   "cell_type": "code",
   "execution_count": 5,
   "id": "superior-blanket",
   "metadata": {
    "execution": {
     "iopub.execute_input": "2022-11-16T03:21:01.623805Z",
     "iopub.status.busy": "2022-11-16T03:21:01.623171Z",
     "iopub.status.idle": "2022-11-16T03:21:12.993361Z",
     "shell.execute_reply": "2022-11-16T03:21:12.992823Z"
    },
    "papermill": {
     "duration": 11.385821,
     "end_time": "2022-11-16T03:21:12.993487",
     "exception": false,
     "start_time": "2022-11-16T03:21:01.607666",
     "status": "completed"
    },
    "tags": []
   },
   "outputs": [
    {
     "name": "stderr",
     "output_type": "stream",
     "text": [
      "/home/runner/work/corr-app/corr-app/_notebooks/scripts/read_data.py:187: SettingWithCopyWarning:\n",
      "\n",
      "\n",
      "A value is trying to be set on a copy of a slice from a DataFrame.\n",
      "Try using .loc[row_indexer,col_indexer] = value instead\n",
      "\n",
      "See the caveats in the documentation: https://pandas.pydata.org/pandas-docs/stable/user_guide/indexing.html#returning-a-view-versus-a-copy\n",
      "\n"
     ]
    },
    {
     "name": "stderr",
     "output_type": "stream",
     "text": [
      "/home/runner/work/corr-app/corr-app/_notebooks/scripts/read_data.py:215: SettingWithCopyWarning:\n",
      "\n",
      "\n",
      "A value is trying to be set on a copy of a slice from a DataFrame.\n",
      "Try using .loc[row_indexer,col_indexer] = value instead\n",
      "\n",
      "See the caveats in the documentation: https://pandas.pydata.org/pandas-docs/stable/user_guide/indexing.html#returning-a-view-versus-a-copy\n",
      "\n"
     ]
    }
   ],
   "source": [
    "#hide\n",
    "df_all = read_api()\n",
    "#df_all = df_all.drop(['SP500', 'XAU', 'ETH', 'BTC'], axis=1)\n",
    "\n"
   ]
  },
  {
   "cell_type": "code",
   "execution_count": 6,
   "id": "mature-alert",
   "metadata": {
    "execution": {
     "iopub.execute_input": "2022-11-16T03:21:13.022411Z",
     "iopub.status.busy": "2022-11-16T03:21:13.021800Z",
     "iopub.status.idle": "2022-11-16T03:21:13.053389Z",
     "shell.execute_reply": "2022-11-16T03:21:13.052721Z"
    },
    "papermill": {
     "duration": 0.047262,
     "end_time": "2022-11-16T03:21:13.053518",
     "exception": false,
     "start_time": "2022-11-16T03:21:13.006256",
     "status": "completed"
    },
    "tags": []
   },
   "outputs": [],
   "source": [
    "#hide_input\n",
    "sum_corr = df_all.corr().sum().sort_values(ascending=True).index.values\n",
    "#df_all[sum_corr].corr()"
   ]
  },
  {
   "cell_type": "markdown",
   "id": "complex-syndicate",
   "metadata": {
    "papermill": {
     "duration": 0.011047,
     "end_time": "2022-11-16T03:21:13.076155",
     "exception": false,
     "start_time": "2022-11-16T03:21:13.065108",
     "status": "completed"
    },
    "tags": []
   },
   "source": [
    "## Išplėstinė koreliacijų matrica. "
   ]
  },
  {
   "cell_type": "code",
   "execution_count": 7,
   "id": "atomic-omaha",
   "metadata": {
    "execution": {
     "iopub.execute_input": "2022-11-16T03:21:13.102254Z",
     "iopub.status.busy": "2022-11-16T03:21:13.101642Z",
     "iopub.status.idle": "2022-11-16T03:21:14.316640Z",
     "shell.execute_reply": "2022-11-16T03:21:14.317076Z"
    },
    "papermill": {
     "duration": 1.230095,
     "end_time": "2022-11-16T03:21:14.317223",
     "exception": false,
     "start_time": "2022-11-16T03:21:13.087128",
     "status": "completed"
    },
    "tags": []
   },
   "outputs": [
    {
     "data": {
      "image/png": "[encoded data removed]",
      "text/plain": [
       "<Figure size 1080x792 with 2 Axes>"
      ]
     },
     "metadata": {
      "needs_background": "light"
     },
     "output_type": "display_data"
    }
   ],
   "source": [
    "#hide_input\n",
    "plt.figure(figsize=(15, 11))\n",
    "sns.heatmap(df_all[sum_corr].corr(), annot=True, cmap=\"cubehelix\") \n",
    "sns.set(font_scale=1.25)\n",
    "plt.savefig('corr_matrix.png', format='eps')"
   ]
  },
  {
   "cell_type": "code",
   "execution_count": 8,
   "id": "arbitrary-sullivan",
   "metadata": {
    "execution": {
     "iopub.execute_input": "2022-11-16T03:21:14.348726Z",
     "iopub.status.busy": "2022-11-16T03:21:14.348128Z",
     "iopub.status.idle": "2022-11-16T03:21:14.375692Z",
     "shell.execute_reply": "2022-11-16T03:21:14.375145Z"
    },
    "papermill": {
     "duration": 0.044887,
     "end_time": "2022-11-16T03:21:14.375818",
     "exception": false,
     "start_time": "2022-11-16T03:21:14.330931",
     "status": "completed"
    },
    "tags": []
   },
   "outputs": [],
   "source": [
    "#hide\n",
    "#df_all_mrk = read_api()"
   ]
  },
  {
   "cell_type": "code",
   "execution_count": 9,
   "id": "delayed-adapter",
   "metadata": {
    "execution": {
     "iopub.execute_input": "2022-11-16T03:21:14.405779Z",
     "iopub.status.busy": "2022-11-16T03:21:14.405177Z",
     "iopub.status.idle": "2022-11-16T03:21:14.432981Z",
     "shell.execute_reply": "2022-11-16T03:21:14.432431Z"
    },
    "papermill": {
     "duration": 0.043955,
     "end_time": "2022-11-16T03:21:14.433111",
     "exception": false,
     "start_time": "2022-11-16T03:21:14.389156",
     "status": "completed"
    },
    "tags": []
   },
   "outputs": [],
   "source": [
    "#hide\n",
    "#Koreliacijų koeficientai"
   ]
  },
  {
   "cell_type": "code",
   "execution_count": 10,
   "id": "seeing-celebration",
   "metadata": {
    "execution": {
     "iopub.execute_input": "2022-11-16T03:21:14.467760Z",
     "iopub.status.busy": "2022-11-16T03:21:14.464296Z",
     "iopub.status.idle": "2022-11-16T03:21:14.492165Z",
     "shell.execute_reply": "2022-11-16T03:21:14.491655Z"
    },
    "papermill": {
     "duration": 0.045203,
     "end_time": "2022-11-16T03:21:14.492295",
     "exception": false,
     "start_time": "2022-11-16T03:21:14.447092",
     "status": "completed"
    },
    "tags": []
   },
   "outputs": [],
   "source": [
    "#hide_input\n",
    "#sum_corr = df_all_mrk.corr().sum().sort_values(ascending=True).index.values\n",
    "#df_all_mrk[sum_corr].corr()"
   ]
  },
  {
   "cell_type": "code",
   "execution_count": 11,
   "id": "other-painting",
   "metadata": {
    "execution": {
     "iopub.execute_input": "2022-11-16T03:21:14.531039Z",
     "iopub.status.busy": "2022-11-16T03:21:14.530463Z",
     "iopub.status.idle": "2022-11-16T03:21:14.552017Z",
     "shell.execute_reply": "2022-11-16T03:21:14.552520Z"
    },
    "papermill": {
     "duration": 0.046563,
     "end_time": "2022-11-16T03:21:14.552665",
     "exception": false,
     "start_time": "2022-11-16T03:21:14.506102",
     "status": "completed"
    },
    "tags": []
   },
   "outputs": [],
   "source": [
    "#hide\n",
    "#Koreliacijos matrica. "
   ]
  },
  {
   "cell_type": "code",
   "execution_count": 12,
   "id": "modular-magnitude",
   "metadata": {
    "execution": {
     "iopub.execute_input": "2022-11-16T03:21:14.583062Z",
     "iopub.status.busy": "2022-11-16T03:21:14.582487Z",
     "iopub.status.idle": "2022-11-16T03:21:14.609795Z",
     "shell.execute_reply": "2022-11-16T03:21:14.609224Z"
    },
    "papermill": {
     "duration": 0.043208,
     "end_time": "2022-11-16T03:21:14.609917",
     "exception": false,
     "start_time": "2022-11-16T03:21:14.566709",
     "status": "completed"
    },
    "tags": []
   },
   "outputs": [],
   "source": [
    "#hide_input\n",
    "#plt.figure(figsize=(15, 8))\n",
    "#sns.heatmap(df_all_mrk[sum_corr].corr(), annot=True, cmap=\"BrBG\");\n",
    "#plt.savefig('corr_matrix_all.eps', format='eps')"
   ]
  },
  {
   "cell_type": "code",
   "execution_count": null,
   "id": "original-senator",
   "metadata": {
    "papermill": {
     "duration": 0.012952,
     "end_time": "2022-11-16T03:21:14.635803",
     "exception": false,
     "start_time": "2022-11-16T03:21:14.622851",
     "status": "completed"
    },
    "tags": []
   },
   "outputs": [],
   "source": []
  },
  {
   "cell_type": "code",
   "execution_count": null,
   "id": "saving-secretariat",
   "metadata": {
    "papermill": {
     "duration": 0.013027,
     "end_time": "2022-11-16T03:21:14.661836",
     "exception": false,
     "start_time": "2022-11-16T03:21:14.648809",
     "status": "completed"
    },
    "tags": []
   },
   "outputs": [],
   "source": []
  }
 ],
 "metadata": {
  "kernelspec": {
   "display_name": "Python 3",
   "language": "python",
   "name": "python3"
  },
  "language_info": {
   "codemirror_mode": {
    "name": "ipython",
    "version": 3
   },
   "file_extension": ".py",
   "mimetype": "text/x-python",
   "name": "python",
   "nbconvert_exporter": "python",
   "pygments_lexer": "ipython3",
   "version": "3.6.15"
  },
  "papermill": {
   "default_parameters": {},
   "duration": 17.005478,
   "end_time": "2022-11-16T03:21:15.194349",
   "environment_variables": {},
   "exception": null,
   "input_path": "App-Correlation_charts.ipynb",
   "output_path": "App-Correlation_charts.ipynb",
   "parameters": {},
   "start_time": "2022-11-16T03:20:58.188871",
   "version": "2.2.2"
  }
 },
 "nbformat": 4,
 "nbformat_minor": 5
}