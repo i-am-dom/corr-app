{
 "cells": [
  {
   "cell_type": "markdown",
   "id": "touched-facility",
   "metadata": {
    "papermill": {
     "duration": 0.016237,
     "end_time": "2022-08-10T02:43:56.342802",
     "exception": false,
     "start_time": "2022-08-10T02:43:56.326565",
     "status": "completed"
    },
    "tags": []
   },
   "source": [
    "# Koreliacijų matrica\n",
    "> Išplėstinė koreliacijų matrica. \n",
    "\n",
    "- toc: true \n",
    "- badges: true\n",
    "- comments: false\n",
    "- categories: [Dominykas Tautkus]\n",
    "- image: images/matrix.png"
   ]
  },
  {
   "cell_type": "code",
   "execution_count": null,
   "id": "premium-weekend",
   "metadata": {
    "papermill": {
     "duration": 0.011278,
     "end_time": "2022-08-10T02:43:56.366120",
     "exception": false,
     "start_time": "2022-08-10T02:43:56.354842",
     "status": "completed"
    },
    "tags": []
   },
   "outputs": [],
   "source": []
  },
  {
   "cell_type": "code",
   "execution_count": 1,
   "id": "vertical-rebate",
   "metadata": {
    "execution": {
     "iopub.execute_input": "2022-08-10T02:43:56.400504Z",
     "iopub.status.busy": "2022-08-10T02:43:56.399860Z",
     "iopub.status.idle": "2022-08-10T02:43:56.411484Z",
     "shell.execute_reply": "2022-08-10T02:43:56.410953Z"
    },
    "papermill": {
     "duration": 0.034595,
     "end_time": "2022-08-10T02:43:56.411624",
     "exception": false,
     "start_time": "2022-08-10T02:43:56.377029",
     "status": "completed"
    },
    "tags": []
   },
   "outputs": [],
   "source": [
    "#hide\n",
    "%load_ext autoreload\n",
    "%autoreload 2"
   ]
  },
  {
   "cell_type": "code",
   "execution_count": 2,
   "id": "overall-advancement",
   "metadata": {
    "execution": {
     "iopub.execute_input": "2022-08-10T02:43:56.449905Z",
     "iopub.status.busy": "2022-08-10T02:43:56.446481Z",
     "iopub.status.idle": "2022-08-10T02:43:58.021075Z",
     "shell.execute_reply": "2022-08-10T02:43:58.020456Z"
    },
    "papermill": {
     "duration": 1.598848,
     "end_time": "2022-08-10T02:43:58.021227",
     "exception": false,
     "start_time": "2022-08-10T02:43:56.422379",
     "status": "completed"
    },
    "tags": []
   },
   "outputs": [],
   "source": [
    "#hide\n",
    "from scripts.read_data import read_api\n",
    "from IPython.display import HTML\n",
    "import plotly.graph_objects as go\n"
   ]
  },
  {
   "cell_type": "code",
   "execution_count": 3,
   "id": "light-crazy",
   "metadata": {
    "execution": {
     "iopub.execute_input": "2022-08-10T02:43:58.063990Z",
     "iopub.status.busy": "2022-08-10T02:43:58.061134Z",
     "iopub.status.idle": "2022-08-10T02:43:58.079211Z",
     "shell.execute_reply": "2022-08-10T02:43:58.079675Z"
    },
    "papermill": {
     "duration": 0.047547,
     "end_time": "2022-08-10T02:43:58.079849",
     "exception": false,
     "start_time": "2022-08-10T02:43:58.032302",
     "status": "completed"
    },
    "tags": []
   },
   "outputs": [],
   "source": [
    "#hide\n",
    "### ICO koreliacija"
   ]
  },
  {
   "cell_type": "code",
   "execution_count": 4,
   "id": "likely-bahrain",
   "metadata": {
    "execution": {
     "iopub.execute_input": "2022-08-10T02:43:58.122244Z",
     "iopub.status.busy": "2022-08-10T02:43:58.113402Z",
     "iopub.status.idle": "2022-08-10T02:43:59.022941Z",
     "shell.execute_reply": "2022-08-10T02:43:59.023508Z"
    },
    "papermill": {
     "duration": 0.932835,
     "end_time": "2022-08-10T02:43:59.023707",
     "exception": false,
     "start_time": "2022-08-10T02:43:58.090872",
     "status": "completed"
    },
    "tags": []
   },
   "outputs": [],
   "source": [
    "#hide\n",
    "import matplotlib.pyplot as plt\n",
    "import numpy as np\n",
    "import pandas as pd\n",
    "import seaborn as sns\n",
    "import matplotlib.pyplot as plt \n",
    "import matplotlib.dates as mdates\n",
    "import matplotlib.pyplot as plt"
   ]
  },
  {
   "cell_type": "code",
   "execution_count": 5,
   "id": "superior-blanket",
   "metadata": {
    "execution": {
     "iopub.execute_input": "2022-08-10T02:43:59.058719Z",
     "iopub.status.busy": "2022-08-10T02:43:59.057758Z",
     "iopub.status.idle": "2022-08-10T02:44:08.658634Z",
     "shell.execute_reply": "2022-08-10T02:44:08.658027Z"
    },
    "papermill": {
     "duration": 9.623053,
     "end_time": "2022-08-10T02:44:08.658773",
     "exception": false,
     "start_time": "2022-08-10T02:43:59.035720",
     "status": "completed"
    },
    "tags": []
   },
   "outputs": [
    {
     "name": "stderr",
     "output_type": "stream",
     "text": [
      "/home/runner/work/corr-app/corr-app/_notebooks/scripts/read_data.py:187: SettingWithCopyWarning:\n",
      "\n",
      "\n",
      "A value is trying to be set on a copy of a slice from a DataFrame.\n",
      "Try using .loc[row_indexer,col_indexer] = value instead\n",
      "\n",
      "See the caveats in the documentation: https://pandas.pydata.org/pandas-docs/stable/user_guide/indexing.html#returning-a-view-versus-a-copy\n",
      "\n"
     ]
    },
    {
     "name": "stderr",
     "output_type": "stream",
     "text": [
      "/home/runner/work/corr-app/corr-app/_notebooks/scripts/read_data.py:215: SettingWithCopyWarning:\n",
      "\n",
      "\n",
      "A value is trying to be set on a copy of a slice from a DataFrame.\n",
      "Try using .loc[row_indexer,col_indexer] = value instead\n",
      "\n",
      "See the caveats in the documentation: https://pandas.pydata.org/pandas-docs/stable/user_guide/indexing.html#returning-a-view-versus-a-copy\n",
      "\n"
     ]
    }
   ],
   "source": [
    "#hide\n",
    "df_all = read_api()\n",
    "#df_all = df_all.drop(['SP500', 'XAU', 'ETH', 'BTC'], axis=1)\n",
    "\n"
   ]
  },
  {
   "cell_type": "code",
   "execution_count": 6,
   "id": "mature-alert",
   "metadata": {
    "execution": {
     "iopub.execute_input": "2022-08-10T02:44:08.689946Z",
     "iopub.status.busy": "2022-08-10T02:44:08.689306Z",
     "iopub.status.idle": "2022-08-10T02:44:08.725921Z",
     "shell.execute_reply": "2022-08-10T02:44:08.725196Z"
    },
    "papermill": {
     "duration": 0.054027,
     "end_time": "2022-08-10T02:44:08.726066",
     "exception": false,
     "start_time": "2022-08-10T02:44:08.672039",
     "status": "completed"
    },
    "tags": []
   },
   "outputs": [],
   "source": [
    "#hide_input\n",
    "sum_corr = df_all.corr().sum().sort_values(ascending=True).index.values\n",
    "#df_all[sum_corr].corr()"
   ]
  },
  {
   "cell_type": "markdown",
   "id": "complex-syndicate",
   "metadata": {
    "papermill": {
     "duration": 0.011231,
     "end_time": "2022-08-10T02:44:08.749608",
     "exception": false,
     "start_time": "2022-08-10T02:44:08.738377",
     "status": "completed"
    },
    "tags": []
   },
   "source": [
    "## Išplėstinė koreliacijų matrica. "
   ]
  },
  {
   "cell_type": "code",
   "execution_count": 7,
   "id": "atomic-omaha",
   "metadata": {
    "execution": {
     "iopub.execute_input": "2022-08-10T02:44:08.797625Z",
     "iopub.status.busy": "2022-08-10T02:44:08.791643Z",
     "iopub.status.idle": "2022-08-10T02:44:10.005274Z",
     "shell.execute_reply": "2022-08-10T02:44:10.004603Z"
    },
    "papermill": {
     "duration": 1.244689,
     "end_time": "2022-08-10T02:44:10.005414",
     "exception": false,
     "start_time": "2022-08-10T02:44:08.760725",
     "status": "completed"
    },
    "tags": []
   },
   "outputs": [
    {
     "data": {
      "image/png": "[encoded data removed]",
      "text/plain": [
       "<Figure size 1080x792 with 2 Axes>"
      ]
     },
     "metadata": {
      "needs_background": "light"
     },
     "output_type": "display_data"
    }
   ],
   "source": [
    "#hide_input\n",
    "plt.figure(figsize=(15, 11))\n",
    "sns.heatmap(df_all[sum_corr].corr(), annot=True, cmap=\"cubehelix\") \n",
    "sns.set(font_scale=1.25)\n",
    "plt.savefig('corr_matrix.png', format='eps')"
   ]
  },
  {
   "cell_type": "code",
   "execution_count": 8,
   "id": "arbitrary-sullivan",
   "metadata": {
    "execution": {
     "iopub.execute_input": "2022-08-10T02:44:10.040002Z",
     "iopub.status.busy": "2022-08-10T02:44:10.038974Z",
     "iopub.status.idle": "2022-08-10T02:44:10.068125Z",
     "shell.execute_reply": "2022-08-10T02:44:10.067430Z"
    },
    "papermill": {
     "duration": 0.048926,
     "end_time": "2022-08-10T02:44:10.068263",
     "exception": false,
     "start_time": "2022-08-10T02:44:10.019337",
     "status": "completed"
    },
    "tags": []
   },
   "outputs": [],
   "source": [
    "#hide\n",
    "#df_all_mrk = read_api()"
   ]
  },
  {
   "cell_type": "code",
   "execution_count": 9,
   "id": "delayed-adapter",
   "metadata": {
    "execution": {
     "iopub.execute_input": "2022-08-10T02:44:10.105089Z",
     "iopub.status.busy": "2022-08-10T02:44:10.104293Z",
     "iopub.status.idle": "2022-08-10T02:44:10.132580Z",
     "shell.execute_reply": "2022-08-10T02:44:10.133133Z"
    },
    "papermill": {
     "duration": 0.050624,
     "end_time": "2022-08-10T02:44:10.133314",
     "exception": false,
     "start_time": "2022-08-10T02:44:10.082690",
     "status": "completed"
    },
    "tags": []
   },
   "outputs": [],
   "source": [
    "#hide\n",
    "#Koreliacijų koeficientai"
   ]
  },
  {
   "cell_type": "code",
   "execution_count": 10,
   "id": "seeing-celebration",
   "metadata": {
    "execution": {
     "iopub.execute_input": "2022-08-10T02:44:10.169367Z",
     "iopub.status.busy": "2022-08-10T02:44:10.168662Z",
     "iopub.status.idle": "2022-08-10T02:44:10.197453Z",
     "shell.execute_reply": "2022-08-10T02:44:10.196780Z"
    },
    "papermill": {
     "duration": 0.050223,
     "end_time": "2022-08-10T02:44:10.197602",
     "exception": false,
     "start_time": "2022-08-10T02:44:10.147379",
     "status": "completed"
    },
    "tags": []
   },
   "outputs": [],
   "source": [
    "#hide_input\n",
    "#sum_corr = df_all_mrk.corr().sum().sort_values(ascending=True).index.values\n",
    "#df_all_mrk[sum_corr].corr()"
   ]
  },
  {
   "cell_type": "code",
   "execution_count": 11,
   "id": "other-painting",
   "metadata": {
    "execution": {
     "iopub.execute_input": "2022-08-10T02:44:10.246797Z",
     "iopub.status.busy": "2022-08-10T02:44:10.245670Z",
     "iopub.status.idle": "2022-08-10T02:44:10.265086Z",
     "shell.execute_reply": "2022-08-10T02:44:10.265874Z"
    },
    "papermill": {
     "duration": 0.054683,
     "end_time": "2022-08-10T02:44:10.266047",
     "exception": false,
     "start_time": "2022-08-10T02:44:10.211364",
     "status": "completed"
    },
    "tags": []
   },
   "outputs": [],
   "source": [
    "#hide\n",
    "#Koreliacijos matrica. "
   ]
  },
  {
   "cell_type": "code",
   "execution_count": 12,
   "id": "modular-magnitude",
   "metadata": {
    "execution": {
     "iopub.execute_input": "2022-08-10T02:44:10.301712Z",
     "iopub.status.busy": "2022-08-10T02:44:10.297389Z",
     "iopub.status.idle": "2022-08-10T02:44:10.327625Z",
     "shell.execute_reply": "2022-08-10T02:44:10.327057Z"
    },
    "papermill": {
     "duration": 0.04805,
     "end_time": "2022-08-10T02:44:10.327774",
     "exception": false,
     "start_time": "2022-08-10T02:44:10.279724",
     "status": "completed"
    },
    "tags": []
   },
   "outputs": [],
   "source": [
    "#hide_input\n",
    "#plt.figure(figsize=(15, 8))\n",
    "#sns.heatmap(df_all_mrk[sum_corr].corr(), annot=True, cmap=\"BrBG\");\n",
    "#plt.savefig('corr_matrix_all.eps', format='eps')"
   ]
  },
  {
   "cell_type": "code",
   "execution_count": null,
   "id": "original-senator",
   "metadata": {
    "papermill": {
     "duration": 0.013344,
     "end_time": "2022-08-10T02:44:10.354975",
     "exception": false,
     "start_time": "2022-08-10T02:44:10.341631",
     "status": "completed"
    },
    "tags": []
   },
   "outputs": [],
   "source": []
  },
  {
   "cell_type": "code",
   "execution_count": null,
   "id": "saving-secretariat",
   "metadata": {
    "papermill": {
     "duration": 0.013169,
     "end_time": "2022-08-10T02:44:10.381606",
     "exception": false,
     "start_time": "2022-08-10T02:44:10.368437",
     "status": "completed"
    },
    "tags": []
   },
   "outputs": [],
   "source": []
  }
 ],
 "metadata": {
  "kernelspec": {
   "display_name": "Python 3",
   "language": "python",
   "name": "python3"
  },
  "language_info": {
   "codemirror_mode": {
    "name": "ipython",
    "version": 3
   },
   "file_extension": ".py",
   "mimetype": "text/x-python",
   "name": "python",
   "nbconvert_exporter": "python",
   "pygments_lexer": "ipython3",
   "version": "3.6.15"
  },
  "papermill": {
   "default_parameters": {},
   "duration": 16.044151,
   "end_time": "2022-08-10T02:44:11.116508",
   "environment_variables": {},
   "exception": null,
   "input_path": "App-Correlation_charts.ipynb",
   "output_path": "App-Correlation_charts.ipynb",
   "parameters": {},
   "start_time": "2022-08-10T02:43:55.072357",
   "version": "2.2.2"
  }
 },
 "nbformat": 4,
 "nbformat_minor": 5
}