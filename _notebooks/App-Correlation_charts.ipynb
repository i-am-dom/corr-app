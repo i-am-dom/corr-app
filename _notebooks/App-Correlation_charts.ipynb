{
 "cells": [
  {
   "cell_type": "markdown",
   "id": "touched-facility",
   "metadata": {
    "papermill": {
     "duration": 0.019303,
     "end_time": "2021-12-30T02:02:55.202783",
     "exception": false,
     "start_time": "2021-12-30T02:02:55.183480",
     "status": "completed"
    },
    "tags": []
   },
   "source": [
    "# Koreliacijų matrica\n",
    "> Išplėstinė koreliacijų matrica. \n",
    "\n",
    "- toc: true \n",
    "- badges: true\n",
    "- comments: false\n",
    "- categories: [Dominykas Tautkus]\n",
    "- image: images/matrix.png"
   ]
  },
  {
   "cell_type": "code",
   "execution_count": null,
   "id": "premium-weekend",
   "metadata": {
    "papermill": {
     "duration": 0.012931,
     "end_time": "2021-12-30T02:02:55.229539",
     "exception": false,
     "start_time": "2021-12-30T02:02:55.216608",
     "status": "completed"
    },
    "tags": []
   },
   "outputs": [],
   "source": []
  },
  {
   "cell_type": "code",
   "execution_count": 1,
   "id": "vertical-rebate",
   "metadata": {
    "execution": {
     "iopub.execute_input": "2021-12-30T02:02:55.267892Z",
     "iopub.status.busy": "2021-12-30T02:02:55.266411Z",
     "iopub.status.idle": "2021-12-30T02:02:55.277821Z",
     "shell.execute_reply": "2021-12-30T02:02:55.278294Z"
    },
    "papermill": {
     "duration": 0.036433,
     "end_time": "2021-12-30T02:02:55.278473",
     "exception": false,
     "start_time": "2021-12-30T02:02:55.242040",
     "status": "completed"
    },
    "tags": []
   },
   "outputs": [],
   "source": [
    "#hide\n",
    "%load_ext autoreload\n",
    "%autoreload 2"
   ]
  },
  {
   "cell_type": "code",
   "execution_count": 2,
   "id": "overall-advancement",
   "metadata": {
    "execution": {
     "iopub.execute_input": "2021-12-30T02:02:55.312808Z",
     "iopub.status.busy": "2021-12-30T02:02:55.312190Z",
     "iopub.status.idle": "2021-12-30T02:02:56.742769Z",
     "shell.execute_reply": "2021-12-30T02:02:56.741958Z"
    },
    "papermill": {
     "duration": 1.448422,
     "end_time": "2021-12-30T02:02:56.742975",
     "exception": false,
     "start_time": "2021-12-30T02:02:55.294553",
     "status": "completed"
    },
    "tags": []
   },
   "outputs": [],
   "source": [
    "#hide\n",
    "from scripts.read_data import read_api\n",
    "from IPython.display import HTML\n",
    "import plotly.graph_objects as go\n"
   ]
  },
  {
   "cell_type": "code",
   "execution_count": 3,
   "id": "light-crazy",
   "metadata": {
    "execution": {
     "iopub.execute_input": "2021-12-30T02:02:56.775638Z",
     "iopub.status.busy": "2021-12-30T02:02:56.774970Z",
     "iopub.status.idle": "2021-12-30T02:02:56.800626Z",
     "shell.execute_reply": "2021-12-30T02:02:56.800092Z"
    },
    "papermill": {
     "duration": 0.043026,
     "end_time": "2021-12-30T02:02:56.800753",
     "exception": false,
     "start_time": "2021-12-30T02:02:56.757727",
     "status": "completed"
    },
    "tags": []
   },
   "outputs": [],
   "source": [
    "#hide\n",
    "### ICO koreliacija"
   ]
  },
  {
   "cell_type": "code",
   "execution_count": 4,
   "id": "likely-bahrain",
   "metadata": {
    "execution": {
     "iopub.execute_input": "2021-12-30T02:02:56.831124Z",
     "iopub.status.busy": "2021-12-30T02:02:56.830525Z",
     "iopub.status.idle": "2021-12-30T02:02:57.951851Z",
     "shell.execute_reply": "2021-12-30T02:02:57.950749Z"
    },
    "papermill": {
     "duration": 1.13933,
     "end_time": "2021-12-30T02:02:57.952201",
     "exception": false,
     "start_time": "2021-12-30T02:02:56.812871",
     "status": "completed"
    },
    "tags": []
   },
   "outputs": [],
   "source": [
    "#hide\n",
    "import matplotlib.pyplot as plt\n",
    "import numpy as np\n",
    "import pandas as pd\n",
    "import seaborn as sns\n",
    "import matplotlib.pyplot as plt \n",
    "import matplotlib.dates as mdates\n",
    "import matplotlib.pyplot as plt"
   ]
  },
  {
   "cell_type": "code",
   "execution_count": 5,
   "id": "superior-blanket",
   "metadata": {
    "execution": {
     "iopub.execute_input": "2021-12-30T02:02:57.986411Z",
     "iopub.status.busy": "2021-12-30T02:02:57.985844Z",
     "iopub.status.idle": "2021-12-30T02:03:10.730875Z",
     "shell.execute_reply": "2021-12-30T02:03:10.730299Z"
    },
    "papermill": {
     "duration": 12.764058,
     "end_time": "2021-12-30T02:03:10.731011",
     "exception": false,
     "start_time": "2021-12-30T02:02:57.966953",
     "status": "completed"
    },
    "tags": []
   },
   "outputs": [
    {
     "name": "stderr",
     "output_type": "stream",
     "text": [
      "/home/runner/work/corr-app/corr-app/_notebooks/scripts/read_data.py:187: SettingWithCopyWarning:\n",
      "\n",
      "\n",
      "A value is trying to be set on a copy of a slice from a DataFrame.\n",
      "Try using .loc[row_indexer,col_indexer] = value instead\n",
      "\n",
      "See the caveats in the documentation: https://pandas.pydata.org/pandas-docs/stable/user_guide/indexing.html#returning-a-view-versus-a-copy\n",
      "\n"
     ]
    },
    {
     "name": "stderr",
     "output_type": "stream",
     "text": [
      "/home/runner/work/corr-app/corr-app/_notebooks/scripts/read_data.py:215: SettingWithCopyWarning:\n",
      "\n",
      "\n",
      "A value is trying to be set on a copy of a slice from a DataFrame.\n",
      "Try using .loc[row_indexer,col_indexer] = value instead\n",
      "\n",
      "See the caveats in the documentation: https://pandas.pydata.org/pandas-docs/stable/user_guide/indexing.html#returning-a-view-versus-a-copy\n",
      "\n"
     ]
    }
   ],
   "source": [
    "#hide\n",
    "df_all = read_api()\n",
    "#df_all = df_all.drop(['SP500', 'XAU', 'ETH', 'BTC'], axis=1)\n",
    "\n"
   ]
  },
  {
   "cell_type": "code",
   "execution_count": 6,
   "id": "mature-alert",
   "metadata": {
    "execution": {
     "iopub.execute_input": "2021-12-30T02:03:10.764300Z",
     "iopub.status.busy": "2021-12-30T02:03:10.763696Z",
     "iopub.status.idle": "2021-12-30T02:03:10.799120Z",
     "shell.execute_reply": "2021-12-30T02:03:10.798400Z"
    },
    "papermill": {
     "duration": 0.054813,
     "end_time": "2021-12-30T02:03:10.799248",
     "exception": false,
     "start_time": "2021-12-30T02:03:10.744435",
     "status": "completed"
    },
    "tags": []
   },
   "outputs": [],
   "source": [
    "#hide_input\n",
    "sum_corr = df_all.corr().sum().sort_values(ascending=True).index.values\n",
    "#df_all[sum_corr].corr()"
   ]
  },
  {
   "cell_type": "markdown",
   "id": "complex-syndicate",
   "metadata": {
    "papermill": {
     "duration": 0.01257,
     "end_time": "2021-12-30T02:03:10.824606",
     "exception": false,
     "start_time": "2021-12-30T02:03:10.812036",
     "status": "completed"
    },
    "tags": []
   },
   "source": [
    "## Išplėstinė koreliacijų matrica. "
   ]
  },
  {
   "cell_type": "code",
   "execution_count": 7,
   "id": "atomic-omaha",
   "metadata": {
    "execution": {
     "iopub.execute_input": "2021-12-30T02:03:10.856911Z",
     "iopub.status.busy": "2021-12-30T02:03:10.856350Z",
     "iopub.status.idle": "2021-12-30T02:03:12.390043Z",
     "shell.execute_reply": "2021-12-30T02:03:12.390508Z"
    },
    "papermill": {
     "duration": 1.553443,
     "end_time": "2021-12-30T02:03:12.390670",
     "exception": false,
     "start_time": "2021-12-30T02:03:10.837227",
     "status": "completed"
    },
    "tags": []
   },
   "outputs": [
    {
     "data": {
      "image/png": "[encoded data removed]",
      "text/plain": [
       "<Figure size 1080x792 with 2 Axes>"
      ]
     },
     "metadata": {
      "needs_background": "light"
     },
     "output_type": "display_data"
    }
   ],
   "source": [
    "#hide_input\n",
    "plt.figure(figsize=(15, 11))\n",
    "sns.heatmap(df_all[sum_corr].corr(), annot=True, cmap=\"cubehelix\") \n",
    "sns.set(font_scale=1.25)\n",
    "plt.savefig('corr_matrix.png', format='eps')"
   ]
  },
  {
   "cell_type": "code",
   "execution_count": 8,
   "id": "arbitrary-sullivan",
   "metadata": {
    "execution": {
     "iopub.execute_input": "2021-12-30T02:03:12.426600Z",
     "iopub.status.busy": "2021-12-30T02:03:12.425984Z",
     "iopub.status.idle": "2021-12-30T02:03:12.457805Z",
     "shell.execute_reply": "2021-12-30T02:03:12.457264Z"
    },
    "papermill": {
     "duration": 0.051512,
     "end_time": "2021-12-30T02:03:12.457935",
     "exception": false,
     "start_time": "2021-12-30T02:03:12.406423",
     "status": "completed"
    },
    "tags": []
   },
   "outputs": [],
   "source": [
    "#hide\n",
    "#df_all_mrk = read_api()"
   ]
  },
  {
   "cell_type": "code",
   "execution_count": 9,
   "id": "delayed-adapter",
   "metadata": {
    "execution": {
     "iopub.execute_input": "2021-12-30T02:03:12.493329Z",
     "iopub.status.busy": "2021-12-30T02:03:12.492747Z",
     "iopub.status.idle": "2021-12-30T02:03:12.526328Z",
     "shell.execute_reply": "2021-12-30T02:03:12.525746Z"
    },
    "papermill": {
     "duration": 0.053075,
     "end_time": "2021-12-30T02:03:12.526474",
     "exception": false,
     "start_time": "2021-12-30T02:03:12.473399",
     "status": "completed"
    },
    "tags": []
   },
   "outputs": [],
   "source": [
    "#hide\n",
    "#Koreliacijų koeficientai"
   ]
  },
  {
   "cell_type": "code",
   "execution_count": 10,
   "id": "seeing-celebration",
   "metadata": {
    "execution": {
     "iopub.execute_input": "2021-12-30T02:03:12.562415Z",
     "iopub.status.busy": "2021-12-30T02:03:12.561732Z",
     "iopub.status.idle": "2021-12-30T02:03:12.596659Z",
     "shell.execute_reply": "2021-12-30T02:03:12.595707Z"
    },
    "papermill": {
     "duration": 0.054406,
     "end_time": "2021-12-30T02:03:12.596871",
     "exception": false,
     "start_time": "2021-12-30T02:03:12.542465",
     "status": "completed"
    },
    "tags": []
   },
   "outputs": [],
   "source": [
    "#hide_input\n",
    "#sum_corr = df_all_mrk.corr().sum().sort_values(ascending=True).index.values\n",
    "#df_all_mrk[sum_corr].corr()"
   ]
  },
  {
   "cell_type": "code",
   "execution_count": 11,
   "id": "other-painting",
   "metadata": {
    "execution": {
     "iopub.execute_input": "2021-12-30T02:03:12.635270Z",
     "iopub.status.busy": "2021-12-30T02:03:12.634666Z",
     "iopub.status.idle": "2021-12-30T02:03:12.667724Z",
     "shell.execute_reply": "2021-12-30T02:03:12.668243Z"
    },
    "papermill": {
     "duration": 0.052904,
     "end_time": "2021-12-30T02:03:12.668396",
     "exception": false,
     "start_time": "2021-12-30T02:03:12.615492",
     "status": "completed"
    },
    "tags": []
   },
   "outputs": [],
   "source": [
    "#hide\n",
    "#Koreliacijos matrica. "
   ]
  },
  {
   "cell_type": "code",
   "execution_count": 12,
   "id": "modular-magnitude",
   "metadata": {
    "execution": {
     "iopub.execute_input": "2021-12-30T02:03:12.704375Z",
     "iopub.status.busy": "2021-12-30T02:03:12.703776Z",
     "iopub.status.idle": "2021-12-30T02:03:12.736785Z",
     "shell.execute_reply": "2021-12-30T02:03:12.735854Z"
    },
    "papermill": {
     "duration": 0.05309,
     "end_time": "2021-12-30T02:03:12.736998",
     "exception": false,
     "start_time": "2021-12-30T02:03:12.683908",
     "status": "completed"
    },
    "tags": []
   },
   "outputs": [],
   "source": [
    "#hide_input\n",
    "#plt.figure(figsize=(15, 8))\n",
    "#sns.heatmap(df_all_mrk[sum_corr].corr(), annot=True, cmap=\"BrBG\");\n",
    "#plt.savefig('corr_matrix_all.eps', format='eps')"
   ]
  },
  {
   "cell_type": "code",
   "execution_count": null,
   "id": "original-senator",
   "metadata": {
    "papermill": {
     "duration": 0.01515,
     "end_time": "2021-12-30T02:03:12.769120",
     "exception": false,
     "start_time": "2021-12-30T02:03:12.753970",
     "status": "completed"
    },
    "tags": []
   },
   "outputs": [],
   "source": []
  },
  {
   "cell_type": "code",
   "execution_count": null,
   "id": "saving-secretariat",
   "metadata": {
    "papermill": {
     "duration": 0.015714,
     "end_time": "2021-12-30T02:03:12.799075",
     "exception": false,
     "start_time": "2021-12-30T02:03:12.783361",
     "status": "completed"
    },
    "tags": []
   },
   "outputs": [],
   "source": []
  }
 ],
 "metadata": {
  "kernelspec": {
   "display_name": "Python 3",
   "language": "python",
   "name": "python3"
  },
  "language_info": {
   "codemirror_mode": {
    "name": "ipython",
    "version": 3
   },
   "file_extension": ".py",
   "mimetype": "text/x-python",
   "name": "python",
   "nbconvert_exporter": "python",
   "pygments_lexer": "ipython3",
   "version": "3.6.15"
  },
  "papermill": {
   "default_parameters": {},
   "duration": 19.564763,
   "end_time": "2021-12-30T02:03:13.423996",
   "environment_variables": {},
   "exception": null,
   "input_path": "App-Correlation_charts.ipynb",
   "output_path": "App-Correlation_charts.ipynb",
   "parameters": {},
   "start_time": "2021-12-30T02:02:53.859233",
   "version": "2.2.2"
  }
 },
 "nbformat": 4,
 "nbformat_minor": 5
}