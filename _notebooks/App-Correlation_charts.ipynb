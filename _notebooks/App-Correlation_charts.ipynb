{
 "cells": [
  {
   "cell_type": "markdown",
   "id": "touched-facility",
   "metadata": {
    "papermill": {
     "duration": 0.015056,
     "end_time": "2022-06-17T03:04:19.613179",
     "exception": false,
     "start_time": "2022-06-17T03:04:19.598123",
     "status": "completed"
    },
    "tags": []
   },
   "source": [
    "# Koreliacijų matrica\n",
    "> Išplėstinė koreliacijų matrica. \n",
    "\n",
    "- toc: true \n",
    "- badges: true\n",
    "- comments: false\n",
    "- categories: [Dominykas Tautkus]\n",
    "- image: images/matrix.png"
   ]
  },
  {
   "cell_type": "code",
   "execution_count": null,
   "id": "premium-weekend",
   "metadata": {
    "papermill": {
     "duration": 0.011843,
     "end_time": "2022-06-17T03:04:19.637064",
     "exception": false,
     "start_time": "2022-06-17T03:04:19.625221",
     "status": "completed"
    },
    "tags": []
   },
   "outputs": [],
   "source": []
  },
  {
   "cell_type": "code",
   "execution_count": 1,
   "id": "vertical-rebate",
   "metadata": {
    "execution": {
     "iopub.execute_input": "2022-06-17T03:04:19.671141Z",
     "iopub.status.busy": "2022-06-17T03:04:19.670446Z",
     "iopub.status.idle": "2022-06-17T03:04:19.682818Z",
     "shell.execute_reply": "2022-06-17T03:04:19.682279Z"
    },
    "papermill": {
     "duration": 0.034433,
     "end_time": "2022-06-17T03:04:19.682967",
     "exception": false,
     "start_time": "2022-06-17T03:04:19.648534",
     "status": "completed"
    },
    "tags": []
   },
   "outputs": [],
   "source": [
    "#hide\n",
    "%load_ext autoreload\n",
    "%autoreload 2"
   ]
  },
  {
   "cell_type": "code",
   "execution_count": 2,
   "id": "overall-advancement",
   "metadata": {
    "execution": {
     "iopub.execute_input": "2022-06-17T03:04:19.710487Z",
     "iopub.status.busy": "2022-06-17T03:04:19.709829Z",
     "iopub.status.idle": "2022-06-17T03:04:21.040755Z",
     "shell.execute_reply": "2022-06-17T03:04:21.040205Z"
    },
    "papermill": {
     "duration": 1.346687,
     "end_time": "2022-06-17T03:04:21.040890",
     "exception": false,
     "start_time": "2022-06-17T03:04:19.694203",
     "status": "completed"
    },
    "tags": []
   },
   "outputs": [],
   "source": [
    "#hide\n",
    "from scripts.read_data import read_api\n",
    "from IPython.display import HTML\n",
    "import plotly.graph_objects as go\n"
   ]
  },
  {
   "cell_type": "code",
   "execution_count": 3,
   "id": "light-crazy",
   "metadata": {
    "execution": {
     "iopub.execute_input": "2022-06-17T03:04:21.070878Z",
     "iopub.status.busy": "2022-06-17T03:04:21.070075Z",
     "iopub.status.idle": "2022-06-17T03:04:21.094802Z",
     "shell.execute_reply": "2022-06-17T03:04:21.094264Z"
    },
    "papermill": {
     "duration": 0.042468,
     "end_time": "2022-06-17T03:04:21.094935",
     "exception": false,
     "start_time": "2022-06-17T03:04:21.052467",
     "status": "completed"
    },
    "tags": []
   },
   "outputs": [],
   "source": [
    "#hide\n",
    "### ICO koreliacija"
   ]
  },
  {
   "cell_type": "code",
   "execution_count": 4,
   "id": "likely-bahrain",
   "metadata": {
    "execution": {
     "iopub.execute_input": "2022-06-17T03:04:21.123610Z",
     "iopub.status.busy": "2022-06-17T03:04:21.122960Z",
     "iopub.status.idle": "2022-06-17T03:04:22.015725Z",
     "shell.execute_reply": "2022-06-17T03:04:22.015177Z"
    },
    "papermill": {
     "duration": 0.90929,
     "end_time": "2022-06-17T03:04:22.015863",
     "exception": false,
     "start_time": "2022-06-17T03:04:21.106573",
     "status": "completed"
    },
    "tags": []
   },
   "outputs": [],
   "source": [
    "#hide\n",
    "import matplotlib.pyplot as plt\n",
    "import numpy as np\n",
    "import pandas as pd\n",
    "import seaborn as sns\n",
    "import matplotlib.pyplot as plt \n",
    "import matplotlib.dates as mdates\n",
    "import matplotlib.pyplot as plt"
   ]
  },
  {
   "cell_type": "code",
   "execution_count": 5,
   "id": "superior-blanket",
   "metadata": {
    "execution": {
     "iopub.execute_input": "2022-06-17T03:04:22.046849Z",
     "iopub.status.busy": "2022-06-17T03:04:22.044811Z",
     "iopub.status.idle": "2022-06-17T03:04:36.368504Z",
     "shell.execute_reply": "2022-06-17T03:04:36.367611Z"
    },
    "papermill": {
     "duration": 14.341081,
     "end_time": "2022-06-17T03:04:36.368650",
     "exception": false,
     "start_time": "2022-06-17T03:04:22.027569",
     "status": "completed"
    },
    "tags": []
   },
   "outputs": [
    {
     "name": "stderr",
     "output_type": "stream",
     "text": [
      "/home/runner/work/corr-app/corr-app/_notebooks/scripts/read_data.py:187: SettingWithCopyWarning:\n",
      "\n",
      "\n",
      "A value is trying to be set on a copy of a slice from a DataFrame.\n",
      "Try using .loc[row_indexer,col_indexer] = value instead\n",
      "\n",
      "See the caveats in the documentation: https://pandas.pydata.org/pandas-docs/stable/user_guide/indexing.html#returning-a-view-versus-a-copy\n",
      "\n"
     ]
    },
    {
     "name": "stderr",
     "output_type": "stream",
     "text": [
      "/home/runner/work/corr-app/corr-app/_notebooks/scripts/read_data.py:215: SettingWithCopyWarning:\n",
      "\n",
      "\n",
      "A value is trying to be set on a copy of a slice from a DataFrame.\n",
      "Try using .loc[row_indexer,col_indexer] = value instead\n",
      "\n",
      "See the caveats in the documentation: https://pandas.pydata.org/pandas-docs/stable/user_guide/indexing.html#returning-a-view-versus-a-copy\n",
      "\n"
     ]
    }
   ],
   "source": [
    "#hide\n",
    "df_all = read_api()\n",
    "#df_all = df_all.drop(['SP500', 'XAU', 'ETH', 'BTC'], axis=1)\n",
    "\n"
   ]
  },
  {
   "cell_type": "code",
   "execution_count": 6,
   "id": "mature-alert",
   "metadata": {
    "execution": {
     "iopub.execute_input": "2022-06-17T03:04:36.402862Z",
     "iopub.status.busy": "2022-06-17T03:04:36.399389Z",
     "iopub.status.idle": "2022-06-17T03:04:36.432345Z",
     "shell.execute_reply": "2022-06-17T03:04:36.432826Z"
    },
    "papermill": {
     "duration": 0.052118,
     "end_time": "2022-06-17T03:04:36.432989",
     "exception": false,
     "start_time": "2022-06-17T03:04:36.380871",
     "status": "completed"
    },
    "tags": []
   },
   "outputs": [],
   "source": [
    "#hide_input\n",
    "sum_corr = df_all.corr().sum().sort_values(ascending=True).index.values\n",
    "#df_all[sum_corr].corr()"
   ]
  },
  {
   "cell_type": "markdown",
   "id": "complex-syndicate",
   "metadata": {
    "papermill": {
     "duration": 0.012556,
     "end_time": "2022-06-17T03:04:36.457457",
     "exception": false,
     "start_time": "2022-06-17T03:04:36.444901",
     "status": "completed"
    },
    "tags": []
   },
   "source": [
    "## Išplėstinė koreliacijų matrica. "
   ]
  },
  {
   "cell_type": "code",
   "execution_count": 7,
   "id": "atomic-omaha",
   "metadata": {
    "execution": {
     "iopub.execute_input": "2022-06-17T03:04:36.491519Z",
     "iopub.status.busy": "2022-06-17T03:04:36.487173Z",
     "iopub.status.idle": "2022-06-17T03:04:37.630825Z",
     "shell.execute_reply": "2022-06-17T03:04:37.631299Z"
    },
    "papermill": {
     "duration": 1.162271,
     "end_time": "2022-06-17T03:04:37.631449",
     "exception": false,
     "start_time": "2022-06-17T03:04:36.469178",
     "status": "completed"
    },
    "tags": []
   },
   "outputs": [
    {
     "data": {
      "image/png": "[encoded data removed]",
      "text/plain": [
       "<Figure size 1080x792 with 2 Axes>"
      ]
     },
     "metadata": {
      "needs_background": "light"
     },
     "output_type": "display_data"
    }
   ],
   "source": [
    "#hide_input\n",
    "plt.figure(figsize=(15, 11))\n",
    "sns.heatmap(df_all[sum_corr].corr(), annot=True, cmap=\"cubehelix\") \n",
    "sns.set(font_scale=1.25)\n",
    "plt.savefig('corr_matrix.png', format='eps')"
   ]
  },
  {
   "cell_type": "code",
   "execution_count": 8,
   "id": "arbitrary-sullivan",
   "metadata": {
    "execution": {
     "iopub.execute_input": "2022-06-17T03:04:37.667166Z",
     "iopub.status.busy": "2022-06-17T03:04:37.666496Z",
     "iopub.status.idle": "2022-06-17T03:04:37.692437Z",
     "shell.execute_reply": "2022-06-17T03:04:37.691882Z"
    },
    "papermill": {
     "duration": 0.046568,
     "end_time": "2022-06-17T03:04:37.692565",
     "exception": false,
     "start_time": "2022-06-17T03:04:37.645997",
     "status": "completed"
    },
    "tags": []
   },
   "outputs": [],
   "source": [
    "#hide\n",
    "#df_all_mrk = read_api()"
   ]
  },
  {
   "cell_type": "code",
   "execution_count": 9,
   "id": "delayed-adapter",
   "metadata": {
    "execution": {
     "iopub.execute_input": "2022-06-17T03:04:37.724572Z",
     "iopub.status.busy": "2022-06-17T03:04:37.723918Z",
     "iopub.status.idle": "2022-06-17T03:04:37.754186Z",
     "shell.execute_reply": "2022-06-17T03:04:37.753609Z"
    },
    "papermill": {
     "duration": 0.047993,
     "end_time": "2022-06-17T03:04:37.754323",
     "exception": false,
     "start_time": "2022-06-17T03:04:37.706330",
     "status": "completed"
    },
    "tags": []
   },
   "outputs": [],
   "source": [
    "#hide\n",
    "#Koreliacijų koeficientai"
   ]
  },
  {
   "cell_type": "code",
   "execution_count": 10,
   "id": "seeing-celebration",
   "metadata": {
    "execution": {
     "iopub.execute_input": "2022-06-17T03:04:37.787415Z",
     "iopub.status.busy": "2022-06-17T03:04:37.786765Z",
     "iopub.status.idle": "2022-06-17T03:04:37.815200Z",
     "shell.execute_reply": "2022-06-17T03:04:37.814637Z"
    },
    "papermill": {
     "duration": 0.046886,
     "end_time": "2022-06-17T03:04:37.815325",
     "exception": false,
     "start_time": "2022-06-17T03:04:37.768439",
     "status": "completed"
    },
    "tags": []
   },
   "outputs": [],
   "source": [
    "#hide_input\n",
    "#sum_corr = df_all_mrk.corr().sum().sort_values(ascending=True).index.values\n",
    "#df_all_mrk[sum_corr].corr()"
   ]
  },
  {
   "cell_type": "code",
   "execution_count": 11,
   "id": "other-painting",
   "metadata": {
    "execution": {
     "iopub.execute_input": "2022-06-17T03:04:37.847207Z",
     "iopub.status.busy": "2022-06-17T03:04:37.846565Z",
     "iopub.status.idle": "2022-06-17T03:04:37.875417Z",
     "shell.execute_reply": "2022-06-17T03:04:37.874897Z"
    },
    "papermill": {
     "duration": 0.046512,
     "end_time": "2022-06-17T03:04:37.875551",
     "exception": false,
     "start_time": "2022-06-17T03:04:37.829039",
     "status": "completed"
    },
    "tags": []
   },
   "outputs": [],
   "source": [
    "#hide\n",
    "#Koreliacijos matrica. "
   ]
  },
  {
   "cell_type": "code",
   "execution_count": 12,
   "id": "modular-magnitude",
   "metadata": {
    "execution": {
     "iopub.execute_input": "2022-06-17T03:04:37.907940Z",
     "iopub.status.busy": "2022-06-17T03:04:37.907304Z",
     "iopub.status.idle": "2022-06-17T03:04:37.935752Z",
     "shell.execute_reply": "2022-06-17T03:04:37.935251Z"
    },
    "papermill": {
     "duration": 0.046086,
     "end_time": "2022-06-17T03:04:37.935883",
     "exception": false,
     "start_time": "2022-06-17T03:04:37.889797",
     "status": "completed"
    },
    "tags": []
   },
   "outputs": [],
   "source": [
    "#hide_input\n",
    "#plt.figure(figsize=(15, 8))\n",
    "#sns.heatmap(df_all_mrk[sum_corr].corr(), annot=True, cmap=\"BrBG\");\n",
    "#plt.savefig('corr_matrix_all.eps', format='eps')"
   ]
  },
  {
   "cell_type": "code",
   "execution_count": null,
   "id": "original-senator",
   "metadata": {
    "papermill": {
     "duration": 0.013688,
     "end_time": "2022-06-17T03:04:37.963533",
     "exception": false,
     "start_time": "2022-06-17T03:04:37.949845",
     "status": "completed"
    },
    "tags": []
   },
   "outputs": [],
   "source": []
  },
  {
   "cell_type": "code",
   "execution_count": null,
   "id": "saving-secretariat",
   "metadata": {
    "papermill": {
     "duration": 0.013694,
     "end_time": "2022-06-17T03:04:37.990925",
     "exception": false,
     "start_time": "2022-06-17T03:04:37.977231",
     "status": "completed"
    },
    "tags": []
   },
   "outputs": [],
   "source": []
  }
 ],
 "metadata": {
  "kernelspec": {
   "display_name": "Python 3",
   "language": "python",
   "name": "python3"
  },
  "language_info": {
   "codemirror_mode": {
    "name": "ipython",
    "version": 3
   },
   "file_extension": ".py",
   "mimetype": "text/x-python",
   "name": "python",
   "nbconvert_exporter": "python",
   "pygments_lexer": "ipython3",
   "version": "3.6.15"
  },
  "papermill": {
   "default_parameters": {},
   "duration": 20.288372,
   "end_time": "2022-06-17T03:04:38.624775",
   "environment_variables": {},
   "exception": null,
   "input_path": "App-Correlation_charts.ipynb",
   "output_path": "App-Correlation_charts.ipynb",
   "parameters": {},
   "start_time": "2022-06-17T03:04:18.336403",
   "version": "2.2.2"
  }
 },
 "nbformat": 4,
 "nbformat_minor": 5
}