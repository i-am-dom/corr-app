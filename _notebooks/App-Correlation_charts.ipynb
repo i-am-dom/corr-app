{
 "cells": [
  {
   "cell_type": "markdown",
   "id": "touched-facility",
   "metadata": {
    "papermill": {
     "duration": 0.015453,
     "end_time": "2021-11-23T01:57:56.489381",
     "exception": false,
     "start_time": "2021-11-23T01:57:56.473928",
     "status": "completed"
    },
    "tags": []
   },
   "source": [
    "# Koreliacijų matrica\n",
    "> Išplėstinė koreliacijų matrica. \n",
    "\n",
    "- toc: true \n",
    "- badges: true\n",
    "- comments: false\n",
    "- categories: [Dominykas Tautkus]\n",
    "- image: images/matrix.png"
   ]
  },
  {
   "cell_type": "code",
   "execution_count": null,
   "id": "premium-weekend",
   "metadata": {
    "papermill": {
     "duration": 0.010788,
     "end_time": "2021-11-23T01:57:56.511861",
     "exception": false,
     "start_time": "2021-11-23T01:57:56.501073",
     "status": "completed"
    },
    "tags": []
   },
   "outputs": [],
   "source": []
  },
  {
   "cell_type": "code",
   "execution_count": 1,
   "id": "vertical-rebate",
   "metadata": {
    "execution": {
     "iopub.execute_input": "2021-11-23T01:57:56.544828Z",
     "iopub.status.busy": "2021-11-23T01:57:56.544250Z",
     "iopub.status.idle": "2021-11-23T01:57:56.554124Z",
     "shell.execute_reply": "2021-11-23T01:57:56.554558Z"
    },
    "papermill": {
     "duration": 0.031681,
     "end_time": "2021-11-23T01:57:56.554714",
     "exception": false,
     "start_time": "2021-11-23T01:57:56.523033",
     "status": "completed"
    },
    "tags": []
   },
   "outputs": [],
   "source": [
    "#hide\n",
    "%load_ext autoreload\n",
    "%autoreload 2"
   ]
  },
  {
   "cell_type": "code",
   "execution_count": 2,
   "id": "overall-advancement",
   "metadata": {
    "execution": {
     "iopub.execute_input": "2021-11-23T01:57:56.582538Z",
     "iopub.status.busy": "2021-11-23T01:57:56.582026Z",
     "iopub.status.idle": "2021-11-23T01:57:57.857358Z",
     "shell.execute_reply": "2021-11-23T01:57:57.856795Z"
    },
    "papermill": {
     "duration": 1.291955,
     "end_time": "2021-11-23T01:57:57.857505",
     "exception": false,
     "start_time": "2021-11-23T01:57:56.565550",
     "status": "completed"
    },
    "tags": []
   },
   "outputs": [],
   "source": [
    "#hide\n",
    "from scripts.read_data import read_api\n",
    "from IPython.display import HTML\n",
    "import plotly.graph_objects as go\n"
   ]
  },
  {
   "cell_type": "code",
   "execution_count": 3,
   "id": "light-crazy",
   "metadata": {
    "execution": {
     "iopub.execute_input": "2021-11-23T01:57:57.884458Z",
     "iopub.status.busy": "2021-11-23T01:57:57.883927Z",
     "iopub.status.idle": "2021-11-23T01:57:57.907865Z",
     "shell.execute_reply": "2021-11-23T01:57:57.907343Z"
    },
    "papermill": {
     "duration": 0.038746,
     "end_time": "2021-11-23T01:57:57.908004",
     "exception": false,
     "start_time": "2021-11-23T01:57:57.869258",
     "status": "completed"
    },
    "tags": []
   },
   "outputs": [],
   "source": [
    "#hide\n",
    "### ICO koreliacija"
   ]
  },
  {
   "cell_type": "code",
   "execution_count": 4,
   "id": "likely-bahrain",
   "metadata": {
    "execution": {
     "iopub.execute_input": "2021-11-23T01:57:57.935086Z",
     "iopub.status.busy": "2021-11-23T01:57:57.934547Z",
     "iopub.status.idle": "2021-11-23T01:57:58.816564Z",
     "shell.execute_reply": "2021-11-23T01:57:58.816029Z"
    },
    "papermill": {
     "duration": 0.8971,
     "end_time": "2021-11-23T01:57:58.816731",
     "exception": false,
     "start_time": "2021-11-23T01:57:57.919631",
     "status": "completed"
    },
    "tags": []
   },
   "outputs": [],
   "source": [
    "#hide\n",
    "import matplotlib.pyplot as plt\n",
    "import numpy as np\n",
    "import pandas as pd\n",
    "import seaborn as sns\n",
    "import matplotlib.pyplot as plt \n",
    "import matplotlib.dates as mdates\n",
    "import matplotlib.pyplot as plt"
   ]
  },
  {
   "cell_type": "code",
   "execution_count": 5,
   "id": "superior-blanket",
   "metadata": {
    "execution": {
     "iopub.execute_input": "2021-11-23T01:57:58.848046Z",
     "iopub.status.busy": "2021-11-23T01:57:58.847525Z",
     "iopub.status.idle": "2021-11-23T01:58:12.799991Z",
     "shell.execute_reply": "2021-11-23T01:58:12.799474Z"
    },
    "papermill": {
     "duration": 13.971647,
     "end_time": "2021-11-23T01:58:12.800116",
     "exception": false,
     "start_time": "2021-11-23T01:57:58.828469",
     "status": "completed"
    },
    "tags": []
   },
   "outputs": [
    {
     "name": "stderr",
     "output_type": "stream",
     "text": [
      "/home/runner/work/corr-app/corr-app/_notebooks/scripts/read_data.py:187: SettingWithCopyWarning:\n",
      "\n",
      "\n",
      "A value is trying to be set on a copy of a slice from a DataFrame.\n",
      "Try using .loc[row_indexer,col_indexer] = value instead\n",
      "\n",
      "See the caveats in the documentation: https://pandas.pydata.org/pandas-docs/stable/user_guide/indexing.html#returning-a-view-versus-a-copy\n",
      "\n"
     ]
    },
    {
     "name": "stderr",
     "output_type": "stream",
     "text": [
      "/home/runner/work/corr-app/corr-app/_notebooks/scripts/read_data.py:215: SettingWithCopyWarning:\n",
      "\n",
      "\n",
      "A value is trying to be set on a copy of a slice from a DataFrame.\n",
      "Try using .loc[row_indexer,col_indexer] = value instead\n",
      "\n",
      "See the caveats in the documentation: https://pandas.pydata.org/pandas-docs/stable/user_guide/indexing.html#returning-a-view-versus-a-copy\n",
      "\n"
     ]
    }
   ],
   "source": [
    "#hide\n",
    "df_all = read_api()\n",
    "#df_all = df_all.drop(['SP500', 'XAU', 'ETH', 'BTC'], axis=1)\n",
    "\n"
   ]
  },
  {
   "cell_type": "code",
   "execution_count": 6,
   "id": "mature-alert",
   "metadata": {
    "execution": {
     "iopub.execute_input": "2021-11-23T01:58:12.841453Z",
     "iopub.status.busy": "2021-11-23T01:58:12.838717Z",
     "iopub.status.idle": "2021-11-23T01:58:12.864442Z",
     "shell.execute_reply": "2021-11-23T01:58:12.863190Z"
    },
    "papermill": {
     "duration": 0.052457,
     "end_time": "2021-11-23T01:58:12.864589",
     "exception": false,
     "start_time": "2021-11-23T01:58:12.812132",
     "status": "completed"
    },
    "tags": []
   },
   "outputs": [],
   "source": [
    "#hide_input\n",
    "sum_corr = df_all.corr().sum().sort_values(ascending=True).index.values\n",
    "#df_all[sum_corr].corr()"
   ]
  },
  {
   "cell_type": "markdown",
   "id": "complex-syndicate",
   "metadata": {
    "papermill": {
     "duration": 0.011573,
     "end_time": "2021-11-23T01:58:12.887886",
     "exception": false,
     "start_time": "2021-11-23T01:58:12.876313",
     "status": "completed"
    },
    "tags": []
   },
   "source": [
    "## Išplėstinė koreliacijų matrica. "
   ]
  },
  {
   "cell_type": "code",
   "execution_count": 7,
   "id": "atomic-omaha",
   "metadata": {
    "execution": {
     "iopub.execute_input": "2021-11-23T01:58:12.916044Z",
     "iopub.status.busy": "2021-11-23T01:58:12.914944Z",
     "iopub.status.idle": "2021-11-23T01:58:14.219628Z",
     "shell.execute_reply": "2021-11-23T01:58:14.219172Z"
    },
    "papermill": {
     "duration": 1.320356,
     "end_time": "2021-11-23T01:58:14.219751",
     "exception": false,
     "start_time": "2021-11-23T01:58:12.899395",
     "status": "completed"
    },
    "tags": []
   },
   "outputs": [
    {
     "data": {
      "image/png": "[encoded data removed]",
      "text/plain": [
       "<Figure size 1080x792 with 2 Axes>"
      ]
     },
     "metadata": {
      "needs_background": "light"
     },
     "output_type": "display_data"
    }
   ],
   "source": [
    "#hide_input\n",
    "plt.figure(figsize=(15, 11))\n",
    "sns.heatmap(df_all[sum_corr].corr(), annot=True, cmap=\"cubehelix\") \n",
    "sns.set(font_scale=1.25)\n",
    "plt.savefig('corr_matrix.png', format='eps')"
   ]
  },
  {
   "cell_type": "code",
   "execution_count": 8,
   "id": "arbitrary-sullivan",
   "metadata": {
    "execution": {
     "iopub.execute_input": "2021-11-23T01:58:14.251981Z",
     "iopub.status.busy": "2021-11-23T01:58:14.251463Z",
     "iopub.status.idle": "2021-11-23T01:58:14.277793Z",
     "shell.execute_reply": "2021-11-23T01:58:14.277347Z"
    },
    "papermill": {
     "duration": 0.044235,
     "end_time": "2021-11-23T01:58:14.277920",
     "exception": false,
     "start_time": "2021-11-23T01:58:14.233685",
     "status": "completed"
    },
    "tags": []
   },
   "outputs": [],
   "source": [
    "#hide\n",
    "#df_all_mrk = read_api()"
   ]
  },
  {
   "cell_type": "code",
   "execution_count": 9,
   "id": "delayed-adapter",
   "metadata": {
    "execution": {
     "iopub.execute_input": "2021-11-23T01:58:14.309339Z",
     "iopub.status.busy": "2021-11-23T01:58:14.308806Z",
     "iopub.status.idle": "2021-11-23T01:58:14.336639Z",
     "shell.execute_reply": "2021-11-23T01:58:14.336197Z"
    },
    "papermill": {
     "duration": 0.045084,
     "end_time": "2021-11-23T01:58:14.336792",
     "exception": false,
     "start_time": "2021-11-23T01:58:14.291708",
     "status": "completed"
    },
    "tags": []
   },
   "outputs": [],
   "source": [
    "#hide\n",
    "#Koreliacijų koeficientai"
   ]
  },
  {
   "cell_type": "code",
   "execution_count": 10,
   "id": "seeing-celebration",
   "metadata": {
    "execution": {
     "iopub.execute_input": "2021-11-23T01:58:14.378297Z",
     "iopub.status.busy": "2021-11-23T01:58:14.377724Z",
     "iopub.status.idle": "2021-11-23T01:58:14.399204Z",
     "shell.execute_reply": "2021-11-23T01:58:14.398755Z"
    },
    "papermill": {
     "duration": 0.048691,
     "end_time": "2021-11-23T01:58:14.399333",
     "exception": false,
     "start_time": "2021-11-23T01:58:14.350642",
     "status": "completed"
    },
    "tags": []
   },
   "outputs": [],
   "source": [
    "#hide_input\n",
    "#sum_corr = df_all_mrk.corr().sum().sort_values(ascending=True).index.values\n",
    "#df_all_mrk[sum_corr].corr()"
   ]
  },
  {
   "cell_type": "code",
   "execution_count": 11,
   "id": "other-painting",
   "metadata": {
    "execution": {
     "iopub.execute_input": "2021-11-23T01:58:14.430640Z",
     "iopub.status.busy": "2021-11-23T01:58:14.430121Z",
     "iopub.status.idle": "2021-11-23T01:58:14.458078Z",
     "shell.execute_reply": "2021-11-23T01:58:14.457581Z"
    },
    "papermill": {
     "duration": 0.044891,
     "end_time": "2021-11-23T01:58:14.458215",
     "exception": false,
     "start_time": "2021-11-23T01:58:14.413324",
     "status": "completed"
    },
    "tags": []
   },
   "outputs": [],
   "source": [
    "#hide\n",
    "#Koreliacijos matrica. "
   ]
  },
  {
   "cell_type": "code",
   "execution_count": 12,
   "id": "modular-magnitude",
   "metadata": {
    "execution": {
     "iopub.execute_input": "2021-11-23T01:58:14.493984Z",
     "iopub.status.busy": "2021-11-23T01:58:14.493465Z",
     "iopub.status.idle": "2021-11-23T01:58:14.516925Z",
     "shell.execute_reply": "2021-11-23T01:58:14.516422Z"
    },
    "papermill": {
     "duration": 0.045075,
     "end_time": "2021-11-23T01:58:14.517061",
     "exception": false,
     "start_time": "2021-11-23T01:58:14.471986",
     "status": "completed"
    },
    "tags": []
   },
   "outputs": [],
   "source": [
    "#hide_input\n",
    "#plt.figure(figsize=(15, 8))\n",
    "#sns.heatmap(df_all_mrk[sum_corr].corr(), annot=True, cmap=\"BrBG\");\n",
    "#plt.savefig('corr_matrix_all.eps', format='eps')"
   ]
  },
  {
   "cell_type": "code",
   "execution_count": null,
   "id": "original-senator",
   "metadata": {
    "papermill": {
     "duration": 0.013234,
     "end_time": "2021-11-23T01:58:14.544149",
     "exception": false,
     "start_time": "2021-11-23T01:58:14.530915",
     "status": "completed"
    },
    "tags": []
   },
   "outputs": [],
   "source": []
  },
  {
   "cell_type": "code",
   "execution_count": null,
   "id": "saving-secretariat",
   "metadata": {
    "papermill": {
     "duration": 0.013178,
     "end_time": "2021-11-23T01:58:14.570642",
     "exception": false,
     "start_time": "2021-11-23T01:58:14.557464",
     "status": "completed"
    },
    "tags": []
   },
   "outputs": [],
   "source": []
  }
 ],
 "metadata": {
  "kernelspec": {
   "display_name": "Python 3",
   "language": "python",
   "name": "python3"
  },
  "language_info": {
   "codemirror_mode": {
    "name": "ipython",
    "version": 3
   },
   "file_extension": ".py",
   "mimetype": "text/x-python",
   "name": "python",
   "nbconvert_exporter": "python",
   "pygments_lexer": "ipython3",
   "version": "3.6.15"
  },
  "papermill": {
   "default_parameters": {},
   "duration": 19.78143,
   "end_time": "2021-11-23T01:58:15.092013",
   "environment_variables": {},
   "exception": null,
   "input_path": "App-Correlation_charts.ipynb",
   "output_path": "App-Correlation_charts.ipynb",
   "parameters": {},
   "start_time": "2021-11-23T01:57:55.310583",
   "version": "2.2.2"
  }
 },
 "nbformat": 4,
 "nbformat_minor": 5
}