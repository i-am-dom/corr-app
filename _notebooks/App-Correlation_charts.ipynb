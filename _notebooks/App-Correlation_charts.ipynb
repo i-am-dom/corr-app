{
 "cells": [
  {
   "cell_type": "markdown",
   "id": "touched-facility",
   "metadata": {
    "papermill": {
     "duration": 0.016107,
     "end_time": "2021-11-15T01:57:11.879543",
     "exception": false,
     "start_time": "2021-11-15T01:57:11.863436",
     "status": "completed"
    },
    "tags": []
   },
   "source": [
    "# Koreliacijų matrica\n",
    "> Išplėstinė koreliacijų matrica. \n",
    "\n",
    "- toc: true \n",
    "- badges: true\n",
    "- comments: false\n",
    "- categories: [Dominykas Tautkus]\n",
    "- image: images/matrix.png"
   ]
  },
  {
   "cell_type": "code",
   "execution_count": null,
   "id": "premium-weekend",
   "metadata": {
    "papermill": {
     "duration": 0.010711,
     "end_time": "2021-11-15T01:57:11.901536",
     "exception": false,
     "start_time": "2021-11-15T01:57:11.890825",
     "status": "completed"
    },
    "tags": []
   },
   "outputs": [],
   "source": []
  },
  {
   "cell_type": "code",
   "execution_count": 1,
   "id": "vertical-rebate",
   "metadata": {
    "execution": {
     "iopub.execute_input": "2021-11-15T01:57:11.932233Z",
     "iopub.status.busy": "2021-11-15T01:57:11.931720Z",
     "iopub.status.idle": "2021-11-15T01:57:11.941304Z",
     "shell.execute_reply": "2021-11-15T01:57:11.941746Z"
    },
    "papermill": {
     "duration": 0.029795,
     "end_time": "2021-11-15T01:57:11.941888",
     "exception": false,
     "start_time": "2021-11-15T01:57:11.912093",
     "status": "completed"
    },
    "tags": []
   },
   "outputs": [],
   "source": [
    "#hide\n",
    "%load_ext autoreload\n",
    "%autoreload 2"
   ]
  },
  {
   "cell_type": "code",
   "execution_count": 2,
   "id": "overall-advancement",
   "metadata": {
    "execution": {
     "iopub.execute_input": "2021-11-15T01:57:11.966143Z",
     "iopub.status.busy": "2021-11-15T01:57:11.965635Z",
     "iopub.status.idle": "2021-11-15T01:57:13.136441Z",
     "shell.execute_reply": "2021-11-15T01:57:13.135465Z"
    },
    "papermill": {
     "duration": 1.184124,
     "end_time": "2021-11-15T01:57:13.136592",
     "exception": false,
     "start_time": "2021-11-15T01:57:11.952468",
     "status": "completed"
    },
    "tags": []
   },
   "outputs": [],
   "source": [
    "#hide\n",
    "from scripts.read_data import read_api\n",
    "from IPython.display import HTML\n",
    "import plotly.graph_objects as go\n"
   ]
  },
  {
   "cell_type": "code",
   "execution_count": 3,
   "id": "light-crazy",
   "metadata": {
    "execution": {
     "iopub.execute_input": "2021-11-15T01:57:13.162359Z",
     "iopub.status.busy": "2021-11-15T01:57:13.161753Z",
     "iopub.status.idle": "2021-11-15T01:57:13.182153Z",
     "shell.execute_reply": "2021-11-15T01:57:13.182592Z"
    },
    "papermill": {
     "duration": 0.035027,
     "end_time": "2021-11-15T01:57:13.182735",
     "exception": false,
     "start_time": "2021-11-15T01:57:13.147708",
     "status": "completed"
    },
    "tags": []
   },
   "outputs": [],
   "source": [
    "#hide\n",
    "### ICO koreliacija"
   ]
  },
  {
   "cell_type": "code",
   "execution_count": 4,
   "id": "likely-bahrain",
   "metadata": {
    "execution": {
     "iopub.execute_input": "2021-11-15T01:57:13.210650Z",
     "iopub.status.busy": "2021-11-15T01:57:13.210147Z",
     "iopub.status.idle": "2021-11-15T01:57:14.011346Z",
     "shell.execute_reply": "2021-11-15T01:57:14.010805Z"
    },
    "papermill": {
     "duration": 0.817345,
     "end_time": "2021-11-15T01:57:14.011494",
     "exception": false,
     "start_time": "2021-11-15T01:57:13.194149",
     "status": "completed"
    },
    "tags": []
   },
   "outputs": [],
   "source": [
    "#hide\n",
    "import matplotlib.pyplot as plt\n",
    "import numpy as np\n",
    "import pandas as pd\n",
    "import seaborn as sns\n",
    "import matplotlib.pyplot as plt \n",
    "import matplotlib.dates as mdates\n",
    "import matplotlib.pyplot as plt"
   ]
  },
  {
   "cell_type": "code",
   "execution_count": 5,
   "id": "superior-blanket",
   "metadata": {
    "execution": {
     "iopub.execute_input": "2021-11-15T01:57:14.041211Z",
     "iopub.status.busy": "2021-11-15T01:57:14.040668Z",
     "iopub.status.idle": "2021-11-15T01:57:25.291605Z",
     "shell.execute_reply": "2021-11-15T01:57:25.291113Z"
    },
    "papermill": {
     "duration": 11.268018,
     "end_time": "2021-11-15T01:57:25.291730",
     "exception": false,
     "start_time": "2021-11-15T01:57:14.023712",
     "status": "completed"
    },
    "tags": []
   },
   "outputs": [
    {
     "name": "stderr",
     "output_type": "stream",
     "text": [
      "/home/runner/work/corr-app/corr-app/_notebooks/scripts/read_data.py:187: SettingWithCopyWarning:\n",
      "\n",
      "\n",
      "A value is trying to be set on a copy of a slice from a DataFrame.\n",
      "Try using .loc[row_indexer,col_indexer] = value instead\n",
      "\n",
      "See the caveats in the documentation: https://pandas.pydata.org/pandas-docs/stable/user_guide/indexing.html#returning-a-view-versus-a-copy\n",
      "\n"
     ]
    },
    {
     "name": "stderr",
     "output_type": "stream",
     "text": [
      "/home/runner/work/corr-app/corr-app/_notebooks/scripts/read_data.py:215: SettingWithCopyWarning:\n",
      "\n",
      "\n",
      "A value is trying to be set on a copy of a slice from a DataFrame.\n",
      "Try using .loc[row_indexer,col_indexer] = value instead\n",
      "\n",
      "See the caveats in the documentation: https://pandas.pydata.org/pandas-docs/stable/user_guide/indexing.html#returning-a-view-versus-a-copy\n",
      "\n"
     ]
    }
   ],
   "source": [
    "#hide\n",
    "df_all = read_api()\n",
    "#df_all = df_all.drop(['SP500', 'XAU', 'ETH', 'BTC'], axis=1)\n",
    "\n"
   ]
  },
  {
   "cell_type": "code",
   "execution_count": 6,
   "id": "mature-alert",
   "metadata": {
    "execution": {
     "iopub.execute_input": "2021-11-15T01:57:25.326208Z",
     "iopub.status.busy": "2021-11-15T01:57:25.323056Z",
     "iopub.status.idle": "2021-11-15T01:57:25.351235Z",
     "shell.execute_reply": "2021-11-15T01:57:25.350765Z"
    },
    "papermill": {
     "duration": 0.047881,
     "end_time": "2021-11-15T01:57:25.351360",
     "exception": false,
     "start_time": "2021-11-15T01:57:25.303479",
     "status": "completed"
    },
    "tags": []
   },
   "outputs": [],
   "source": [
    "#hide_input\n",
    "sum_corr = df_all.corr().sum().sort_values(ascending=True).index.values\n",
    "#df_all[sum_corr].corr()"
   ]
  },
  {
   "cell_type": "markdown",
   "id": "complex-syndicate",
   "metadata": {
    "papermill": {
     "duration": 0.011206,
     "end_time": "2021-11-15T01:57:25.374257",
     "exception": false,
     "start_time": "2021-11-15T01:57:25.363051",
     "status": "completed"
    },
    "tags": []
   },
   "source": [
    "## Išplėstinė koreliacijų matrica. "
   ]
  },
  {
   "cell_type": "code",
   "execution_count": 7,
   "id": "atomic-omaha",
   "metadata": {
    "execution": {
     "iopub.execute_input": "2021-11-15T01:57:25.405011Z",
     "iopub.status.busy": "2021-11-15T01:57:25.399769Z",
     "iopub.status.idle": "2021-11-15T01:57:26.639307Z",
     "shell.execute_reply": "2021-11-15T01:57:26.638825Z"
    },
    "papermill": {
     "duration": 1.254006,
     "end_time": "2021-11-15T01:57:26.639426",
     "exception": false,
     "start_time": "2021-11-15T01:57:25.385420",
     "status": "completed"
    },
    "tags": []
   },
   "outputs": [
    {
     "data": {
      "image/png": "[encoded data removed]",
      "text/plain": [
       "<Figure size 1080x792 with 2 Axes>"
      ]
     },
     "metadata": {
      "needs_background": "light"
     },
     "output_type": "display_data"
    }
   ],
   "source": [
    "#hide_input\n",
    "plt.figure(figsize=(15, 11))\n",
    "sns.heatmap(df_all[sum_corr].corr(), annot=True, cmap=\"cubehelix\") \n",
    "sns.set(font_scale=1.25)\n",
    "plt.savefig('corr_matrix.png', format='eps')"
   ]
  },
  {
   "cell_type": "code",
   "execution_count": 8,
   "id": "arbitrary-sullivan",
   "metadata": {
    "execution": {
     "iopub.execute_input": "2021-11-15T01:57:26.734320Z",
     "iopub.status.busy": "2021-11-15T01:57:26.733785Z",
     "iopub.status.idle": "2021-11-15T01:57:26.755519Z",
     "shell.execute_reply": "2021-11-15T01:57:26.755024Z"
    },
    "papermill": {
     "duration": 0.090744,
     "end_time": "2021-11-15T01:57:26.755638",
     "exception": false,
     "start_time": "2021-11-15T01:57:26.664894",
     "status": "completed"
    },
    "tags": []
   },
   "outputs": [],
   "source": [
    "#hide\n",
    "#df_all_mrk = read_api()"
   ]
  },
  {
   "cell_type": "code",
   "execution_count": 9,
   "id": "delayed-adapter",
   "metadata": {
    "execution": {
     "iopub.execute_input": "2021-11-15T01:57:26.787150Z",
     "iopub.status.busy": "2021-11-15T01:57:26.786646Z",
     "iopub.status.idle": "2021-11-15T01:57:26.810395Z",
     "shell.execute_reply": "2021-11-15T01:57:26.810834Z"
    },
    "papermill": {
     "duration": 0.04032,
     "end_time": "2021-11-15T01:57:26.810971",
     "exception": false,
     "start_time": "2021-11-15T01:57:26.770651",
     "status": "completed"
    },
    "tags": []
   },
   "outputs": [],
   "source": [
    "#hide\n",
    "#Koreliacijų koeficientai"
   ]
  },
  {
   "cell_type": "code",
   "execution_count": 10,
   "id": "seeing-celebration",
   "metadata": {
    "execution": {
     "iopub.execute_input": "2021-11-15T01:57:26.846366Z",
     "iopub.status.busy": "2021-11-15T01:57:26.845332Z",
     "iopub.status.idle": "2021-11-15T01:57:26.865985Z",
     "shell.execute_reply": "2021-11-15T01:57:26.865553Z"
    },
    "papermill": {
     "duration": 0.041557,
     "end_time": "2021-11-15T01:57:26.866084",
     "exception": false,
     "start_time": "2021-11-15T01:57:26.824527",
     "status": "completed"
    },
    "tags": []
   },
   "outputs": [],
   "source": [
    "#hide_input\n",
    "#sum_corr = df_all_mrk.corr().sum().sort_values(ascending=True).index.values\n",
    "#df_all_mrk[sum_corr].corr()"
   ]
  },
  {
   "cell_type": "code",
   "execution_count": 11,
   "id": "other-painting",
   "metadata": {
    "execution": {
     "iopub.execute_input": "2021-11-15T01:57:26.898081Z",
     "iopub.status.busy": "2021-11-15T01:57:26.897283Z",
     "iopub.status.idle": "2021-11-15T01:57:26.919890Z",
     "shell.execute_reply": "2021-11-15T01:57:26.919425Z"
    },
    "papermill": {
     "duration": 0.040646,
     "end_time": "2021-11-15T01:57:26.920009",
     "exception": false,
     "start_time": "2021-11-15T01:57:26.879363",
     "status": "completed"
    },
    "tags": []
   },
   "outputs": [],
   "source": [
    "#hide\n",
    "#Koreliacijos matrica. "
   ]
  },
  {
   "cell_type": "code",
   "execution_count": 12,
   "id": "modular-magnitude",
   "metadata": {
    "execution": {
     "iopub.execute_input": "2021-11-15T01:57:26.955062Z",
     "iopub.status.busy": "2021-11-15T01:57:26.954563Z",
     "iopub.status.idle": "2021-11-15T01:57:26.974688Z",
     "shell.execute_reply": "2021-11-15T01:57:26.974283Z"
    },
    "papermill": {
     "duration": 0.041073,
     "end_time": "2021-11-15T01:57:26.974787",
     "exception": false,
     "start_time": "2021-11-15T01:57:26.933714",
     "status": "completed"
    },
    "tags": []
   },
   "outputs": [],
   "source": [
    "#hide_input\n",
    "#plt.figure(figsize=(15, 8))\n",
    "#sns.heatmap(df_all_mrk[sum_corr].corr(), annot=True, cmap=\"BrBG\");\n",
    "#plt.savefig('corr_matrix_all.eps', format='eps')"
   ]
  },
  {
   "cell_type": "code",
   "execution_count": null,
   "id": "original-senator",
   "metadata": {
    "papermill": {
     "duration": 0.013071,
     "end_time": "2021-11-15T01:57:27.001053",
     "exception": false,
     "start_time": "2021-11-15T01:57:26.987982",
     "status": "completed"
    },
    "tags": []
   },
   "outputs": [],
   "source": []
  },
  {
   "cell_type": "code",
   "execution_count": null,
   "id": "saving-secretariat",
   "metadata": {
    "papermill": {
     "duration": 0.013029,
     "end_time": "2021-11-15T01:57:27.027259",
     "exception": false,
     "start_time": "2021-11-15T01:57:27.014230",
     "status": "completed"
    },
    "tags": []
   },
   "outputs": [],
   "source": []
  }
 ],
 "metadata": {
  "kernelspec": {
   "display_name": "Python 3",
   "language": "python",
   "name": "python3"
  },
  "language_info": {
   "codemirror_mode": {
    "name": "ipython",
    "version": 3
   },
   "file_extension": ".py",
   "mimetype": "text/x-python",
   "name": "python",
   "nbconvert_exporter": "python",
   "pygments_lexer": "ipython3",
   "version": "3.6.15"
  },
  "papermill": {
   "default_parameters": {},
   "duration": 16.646097,
   "end_time": "2021-11-15T01:57:27.548731",
   "environment_variables": {},
   "exception": null,
   "input_path": "App-Correlation_charts.ipynb",
   "output_path": "App-Correlation_charts.ipynb",
   "parameters": {},
   "start_time": "2021-11-15T01:57:10.902634",
   "version": "2.2.2"
  }
 },
 "nbformat": 4,
 "nbformat_minor": 5
}