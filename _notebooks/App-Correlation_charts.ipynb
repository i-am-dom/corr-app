{
 "cells": [
  {
   "cell_type": "markdown",
   "id": "touched-facility",
   "metadata": {
    "papermill": {
     "duration": 0.016541,
     "end_time": "2022-10-06T03:08:54.742237",
     "exception": false,
     "start_time": "2022-10-06T03:08:54.725696",
     "status": "completed"
    },
    "tags": []
   },
   "source": [
    "# Koreliacijų matrica\n",
    "> Išplėstinė koreliacijų matrica. \n",
    "\n",
    "- toc: true \n",
    "- badges: true\n",
    "- comments: false\n",
    "- categories: [Dominykas Tautkus]\n",
    "- image: images/matrix.png"
   ]
  },
  {
   "cell_type": "code",
   "execution_count": null,
   "id": "premium-weekend",
   "metadata": {
    "papermill": {
     "duration": 0.012721,
     "end_time": "2022-10-06T03:08:54.768152",
     "exception": false,
     "start_time": "2022-10-06T03:08:54.755431",
     "status": "completed"
    },
    "tags": []
   },
   "outputs": [],
   "source": []
  },
  {
   "cell_type": "code",
   "execution_count": 1,
   "id": "vertical-rebate",
   "metadata": {
    "execution": {
     "iopub.execute_input": "2022-10-06T03:08:54.806191Z",
     "iopub.status.busy": "2022-10-06T03:08:54.805329Z",
     "iopub.status.idle": "2022-10-06T03:08:54.818284Z",
     "shell.execute_reply": "2022-10-06T03:08:54.817700Z"
    },
    "papermill": {
     "duration": 0.037439,
     "end_time": "2022-10-06T03:08:54.818417",
     "exception": false,
     "start_time": "2022-10-06T03:08:54.780978",
     "status": "completed"
    },
    "tags": []
   },
   "outputs": [],
   "source": [
    "#hide\n",
    "%load_ext autoreload\n",
    "%autoreload 2"
   ]
  },
  {
   "cell_type": "code",
   "execution_count": 2,
   "id": "overall-advancement",
   "metadata": {
    "execution": {
     "iopub.execute_input": "2022-10-06T03:08:54.850980Z",
     "iopub.status.busy": "2022-10-06T03:08:54.850263Z",
     "iopub.status.idle": "2022-10-06T03:08:56.298634Z",
     "shell.execute_reply": "2022-10-06T03:08:56.297420Z"
    },
    "papermill": {
     "duration": 1.467921,
     "end_time": "2022-10-06T03:08:56.298828",
     "exception": false,
     "start_time": "2022-10-06T03:08:54.830907",
     "status": "completed"
    },
    "tags": []
   },
   "outputs": [],
   "source": [
    "#hide\n",
    "from scripts.read_data import read_api\n",
    "from IPython.display import HTML\n",
    "import plotly.graph_objects as go\n"
   ]
  },
  {
   "cell_type": "code",
   "execution_count": 3,
   "id": "light-crazy",
   "metadata": {
    "execution": {
     "iopub.execute_input": "2022-10-06T03:08:56.340093Z",
     "iopub.status.busy": "2022-10-06T03:08:56.333354Z",
     "iopub.status.idle": "2022-10-06T03:08:56.359609Z",
     "shell.execute_reply": "2022-10-06T03:08:56.360146Z"
    },
    "papermill": {
     "duration": 0.047326,
     "end_time": "2022-10-06T03:08:56.360293",
     "exception": false,
     "start_time": "2022-10-06T03:08:56.312967",
     "status": "completed"
    },
    "tags": []
   },
   "outputs": [],
   "source": [
    "#hide\n",
    "### ICO koreliacija"
   ]
  },
  {
   "cell_type": "code",
   "execution_count": 4,
   "id": "likely-bahrain",
   "metadata": {
    "execution": {
     "iopub.execute_input": "2022-10-06T03:08:56.396640Z",
     "iopub.status.busy": "2022-10-06T03:08:56.395232Z",
     "iopub.status.idle": "2022-10-06T03:08:57.387775Z",
     "shell.execute_reply": "2022-10-06T03:08:57.388325Z"
    },
    "papermill": {
     "duration": 1.014466,
     "end_time": "2022-10-06T03:08:57.388509",
     "exception": false,
     "start_time": "2022-10-06T03:08:56.374043",
     "status": "completed"
    },
    "tags": []
   },
   "outputs": [],
   "source": [
    "#hide\n",
    "import matplotlib.pyplot as plt\n",
    "import numpy as np\n",
    "import pandas as pd\n",
    "import seaborn as sns\n",
    "import matplotlib.pyplot as plt \n",
    "import matplotlib.dates as mdates\n",
    "import matplotlib.pyplot as plt"
   ]
  },
  {
   "cell_type": "code",
   "execution_count": 5,
   "id": "superior-blanket",
   "metadata": {
    "execution": {
     "iopub.execute_input": "2022-10-06T03:08:57.433871Z",
     "iopub.status.busy": "2022-10-06T03:08:57.432585Z",
     "iopub.status.idle": "2022-10-06T03:09:10.167472Z",
     "shell.execute_reply": "2022-10-06T03:09:10.168113Z"
    },
    "papermill": {
     "duration": 12.766533,
     "end_time": "2022-10-06T03:09:10.168275",
     "exception": false,
     "start_time": "2022-10-06T03:08:57.401742",
     "status": "completed"
    },
    "tags": []
   },
   "outputs": [
    {
     "name": "stderr",
     "output_type": "stream",
     "text": [
      "/home/runner/work/corr-app/corr-app/_notebooks/scripts/read_data.py:187: SettingWithCopyWarning:\n",
      "\n",
      "\n",
      "A value is trying to be set on a copy of a slice from a DataFrame.\n",
      "Try using .loc[row_indexer,col_indexer] = value instead\n",
      "\n",
      "See the caveats in the documentation: https://pandas.pydata.org/pandas-docs/stable/user_guide/indexing.html#returning-a-view-versus-a-copy\n",
      "\n"
     ]
    },
    {
     "name": "stderr",
     "output_type": "stream",
     "text": [
      "/home/runner/work/corr-app/corr-app/_notebooks/scripts/read_data.py:215: SettingWithCopyWarning:\n",
      "\n",
      "\n",
      "A value is trying to be set on a copy of a slice from a DataFrame.\n",
      "Try using .loc[row_indexer,col_indexer] = value instead\n",
      "\n",
      "See the caveats in the documentation: https://pandas.pydata.org/pandas-docs/stable/user_guide/indexing.html#returning-a-view-versus-a-copy\n",
      "\n"
     ]
    }
   ],
   "source": [
    "#hide\n",
    "df_all = read_api()\n",
    "#df_all = df_all.drop(['SP500', 'XAU', 'ETH', 'BTC'], axis=1)\n",
    "\n"
   ]
  },
  {
   "cell_type": "code",
   "execution_count": 6,
   "id": "mature-alert",
   "metadata": {
    "execution": {
     "iopub.execute_input": "2022-10-06T03:09:10.210791Z",
     "iopub.status.busy": "2022-10-06T03:09:10.208037Z",
     "iopub.status.idle": "2022-10-06T03:09:10.240307Z",
     "shell.execute_reply": "2022-10-06T03:09:10.239643Z"
    },
    "papermill": {
     "duration": 0.056801,
     "end_time": "2022-10-06T03:09:10.240439",
     "exception": false,
     "start_time": "2022-10-06T03:09:10.183638",
     "status": "completed"
    },
    "tags": []
   },
   "outputs": [],
   "source": [
    "#hide_input\n",
    "sum_corr = df_all.corr().sum().sort_values(ascending=True).index.values\n",
    "#df_all[sum_corr].corr()"
   ]
  },
  {
   "cell_type": "markdown",
   "id": "complex-syndicate",
   "metadata": {
    "papermill": {
     "duration": 0.013314,
     "end_time": "2022-10-06T03:09:10.269457",
     "exception": false,
     "start_time": "2022-10-06T03:09:10.256143",
     "status": "completed"
    },
    "tags": []
   },
   "source": [
    "## Išplėstinė koreliacijų matrica. "
   ]
  },
  {
   "cell_type": "code",
   "execution_count": 7,
   "id": "atomic-omaha",
   "metadata": {
    "execution": {
     "iopub.execute_input": "2022-10-06T03:09:10.313999Z",
     "iopub.status.busy": "2022-10-06T03:09:10.304678Z",
     "iopub.status.idle": "2022-10-06T03:09:11.795593Z",
     "shell.execute_reply": "2022-10-06T03:09:11.795055Z"
    },
    "papermill": {
     "duration": 1.512984,
     "end_time": "2022-10-06T03:09:11.795764",
     "exception": false,
     "start_time": "2022-10-06T03:09:10.282780",
     "status": "completed"
    },
    "tags": []
   },
   "outputs": [
    {
     "data": {
      "image/png": "[encoded data removed]",
      "text/plain": [
       "<Figure size 1080x792 with 2 Axes>"
      ]
     },
     "metadata": {
      "needs_background": "light"
     },
     "output_type": "display_data"
    }
   ],
   "source": [
    "#hide_input\n",
    "plt.figure(figsize=(15, 11))\n",
    "sns.heatmap(df_all[sum_corr].corr(), annot=True, cmap=\"cubehelix\") \n",
    "sns.set(font_scale=1.25)\n",
    "plt.savefig('corr_matrix.png', format='eps')"
   ]
  },
  {
   "cell_type": "code",
   "execution_count": 8,
   "id": "arbitrary-sullivan",
   "metadata": {
    "execution": {
     "iopub.execute_input": "2022-10-06T03:09:11.835606Z",
     "iopub.status.busy": "2022-10-06T03:09:11.834765Z",
     "iopub.status.idle": "2022-10-06T03:09:11.862611Z",
     "shell.execute_reply": "2022-10-06T03:09:11.862082Z"
    },
    "papermill": {
     "duration": 0.051502,
     "end_time": "2022-10-06T03:09:11.862738",
     "exception": false,
     "start_time": "2022-10-06T03:09:11.811236",
     "status": "completed"
    },
    "tags": []
   },
   "outputs": [],
   "source": [
    "#hide\n",
    "#df_all_mrk = read_api()"
   ]
  },
  {
   "cell_type": "code",
   "execution_count": 9,
   "id": "delayed-adapter",
   "metadata": {
    "execution": {
     "iopub.execute_input": "2022-10-06T03:09:11.897007Z",
     "iopub.status.busy": "2022-10-06T03:09:11.896320Z",
     "iopub.status.idle": "2022-10-06T03:09:11.924304Z",
     "shell.execute_reply": "2022-10-06T03:09:11.924967Z"
    },
    "papermill": {
     "duration": 0.046667,
     "end_time": "2022-10-06T03:09:11.925130",
     "exception": false,
     "start_time": "2022-10-06T03:09:11.878463",
     "status": "completed"
    },
    "tags": []
   },
   "outputs": [],
   "source": [
    "#hide\n",
    "#Koreliacijų koeficientai"
   ]
  },
  {
   "cell_type": "code",
   "execution_count": 10,
   "id": "seeing-celebration",
   "metadata": {
    "execution": {
     "iopub.execute_input": "2022-10-06T03:09:11.974632Z",
     "iopub.status.busy": "2022-10-06T03:09:11.965869Z",
     "iopub.status.idle": "2022-10-06T03:09:11.995878Z",
     "shell.execute_reply": "2022-10-06T03:09:11.996427Z"
    },
    "papermill": {
     "duration": 0.055752,
     "end_time": "2022-10-06T03:09:11.996563",
     "exception": false,
     "start_time": "2022-10-06T03:09:11.940811",
     "status": "completed"
    },
    "tags": []
   },
   "outputs": [],
   "source": [
    "#hide_input\n",
    "#sum_corr = df_all_mrk.corr().sum().sort_values(ascending=True).index.values\n",
    "#df_all_mrk[sum_corr].corr()"
   ]
  },
  {
   "cell_type": "code",
   "execution_count": 11,
   "id": "other-painting",
   "metadata": {
    "execution": {
     "iopub.execute_input": "2022-10-06T03:09:12.048723Z",
     "iopub.status.busy": "2022-10-06T03:09:12.045929Z",
     "iopub.status.idle": "2022-10-06T03:09:12.071568Z",
     "shell.execute_reply": "2022-10-06T03:09:12.070962Z"
    },
    "papermill": {
     "duration": 0.059331,
     "end_time": "2022-10-06T03:09:12.071751",
     "exception": false,
     "start_time": "2022-10-06T03:09:12.012420",
     "status": "completed"
    },
    "tags": []
   },
   "outputs": [],
   "source": [
    "#hide\n",
    "#Koreliacijos matrica. "
   ]
  },
  {
   "cell_type": "code",
   "execution_count": 12,
   "id": "modular-magnitude",
   "metadata": {
    "execution": {
     "iopub.execute_input": "2022-10-06T03:09:12.118021Z",
     "iopub.status.busy": "2022-10-06T03:09:12.108933Z",
     "iopub.status.idle": "2022-10-06T03:09:12.142548Z",
     "shell.execute_reply": "2022-10-06T03:09:12.143170Z"
    },
    "papermill": {
     "duration": 0.054833,
     "end_time": "2022-10-06T03:09:12.143342",
     "exception": false,
     "start_time": "2022-10-06T03:09:12.088509",
     "status": "completed"
    },
    "tags": []
   },
   "outputs": [],
   "source": [
    "#hide_input\n",
    "#plt.figure(figsize=(15, 8))\n",
    "#sns.heatmap(df_all_mrk[sum_corr].corr(), annot=True, cmap=\"BrBG\");\n",
    "#plt.savefig('corr_matrix_all.eps', format='eps')"
   ]
  },
  {
   "cell_type": "code",
   "execution_count": null,
   "id": "original-senator",
   "metadata": {
    "papermill": {
     "duration": 0.016163,
     "end_time": "2022-10-06T03:09:12.176034",
     "exception": false,
     "start_time": "2022-10-06T03:09:12.159871",
     "status": "completed"
    },
    "tags": []
   },
   "outputs": [],
   "source": []
  },
  {
   "cell_type": "code",
   "execution_count": null,
   "id": "saving-secretariat",
   "metadata": {
    "papermill": {
     "duration": 0.015067,
     "end_time": "2022-10-06T03:09:12.207061",
     "exception": false,
     "start_time": "2022-10-06T03:09:12.191994",
     "status": "completed"
    },
    "tags": []
   },
   "outputs": [],
   "source": []
  }
 ],
 "metadata": {
  "kernelspec": {
   "display_name": "Python 3",
   "language": "python",
   "name": "python3"
  },
  "language_info": {
   "codemirror_mode": {
    "name": "ipython",
    "version": 3
   },
   "file_extension": ".py",
   "mimetype": "text/x-python",
   "name": "python",
   "nbconvert_exporter": "python",
   "pygments_lexer": "ipython3",
   "version": "3.6.15"
  },
  "papermill": {
   "default_parameters": {},
   "duration": 19.320688,
   "end_time": "2022-10-06T03:09:12.742006",
   "environment_variables": {},
   "exception": null,
   "input_path": "App-Correlation_charts.ipynb",
   "output_path": "App-Correlation_charts.ipynb",
   "parameters": {},
   "start_time": "2022-10-06T03:08:53.421318",
   "version": "2.2.2"
  }
 },
 "nbformat": 4,
 "nbformat_minor": 5
}