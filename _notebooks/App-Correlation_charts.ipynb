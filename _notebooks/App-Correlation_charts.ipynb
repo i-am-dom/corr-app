{
 "cells": [
  {
   "cell_type": "markdown",
   "id": "touched-facility",
   "metadata": {
    "papermill": {
     "duration": 0.014943,
     "end_time": "2022-10-16T03:44:37.428982",
     "exception": false,
     "start_time": "2022-10-16T03:44:37.414039",
     "status": "completed"
    },
    "tags": []
   },
   "source": [
    "# Koreliacijų matrica\n",
    "> Išplėstinė koreliacijų matrica. \n",
    "\n",
    "- toc: true \n",
    "- badges: true\n",
    "- comments: false\n",
    "- categories: [Dominykas Tautkus]\n",
    "- image: images/matrix.png"
   ]
  },
  {
   "cell_type": "code",
   "execution_count": null,
   "id": "premium-weekend",
   "metadata": {
    "papermill": {
     "duration": 0.010488,
     "end_time": "2022-10-16T03:44:37.450721",
     "exception": false,
     "start_time": "2022-10-16T03:44:37.440233",
     "status": "completed"
    },
    "tags": []
   },
   "outputs": [],
   "source": []
  },
  {
   "cell_type": "code",
   "execution_count": 1,
   "id": "vertical-rebate",
   "metadata": {
    "execution": {
     "iopub.execute_input": "2022-10-16T03:44:37.482611Z",
     "iopub.status.busy": "2022-10-16T03:44:37.482020Z",
     "iopub.status.idle": "2022-10-16T03:44:37.492050Z",
     "shell.execute_reply": "2022-10-16T03:44:37.492607Z"
    },
    "papermill": {
     "duration": 0.031466,
     "end_time": "2022-10-16T03:44:37.492743",
     "exception": false,
     "start_time": "2022-10-16T03:44:37.461277",
     "status": "completed"
    },
    "tags": []
   },
   "outputs": [],
   "source": [
    "#hide\n",
    "%load_ext autoreload\n",
    "%autoreload 2"
   ]
  },
  {
   "cell_type": "code",
   "execution_count": 2,
   "id": "overall-advancement",
   "metadata": {
    "execution": {
     "iopub.execute_input": "2022-10-16T03:44:37.517126Z",
     "iopub.status.busy": "2022-10-16T03:44:37.516567Z",
     "iopub.status.idle": "2022-10-16T03:44:38.765318Z",
     "shell.execute_reply": "2022-10-16T03:44:38.764347Z"
    },
    "papermill": {
     "duration": 1.262238,
     "end_time": "2022-10-16T03:44:38.765449",
     "exception": false,
     "start_time": "2022-10-16T03:44:37.503211",
     "status": "completed"
    },
    "tags": []
   },
   "outputs": [],
   "source": [
    "#hide\n",
    "from scripts.read_data import read_api\n",
    "from IPython.display import HTML\n",
    "import plotly.graph_objects as go\n"
   ]
  },
  {
   "cell_type": "code",
   "execution_count": 3,
   "id": "light-crazy",
   "metadata": {
    "execution": {
     "iopub.execute_input": "2022-10-16T03:44:38.792884Z",
     "iopub.status.busy": "2022-10-16T03:44:38.791286Z",
     "iopub.status.idle": "2022-10-16T03:44:38.813293Z",
     "shell.execute_reply": "2022-10-16T03:44:38.812634Z"
    },
    "papermill": {
     "duration": 0.037078,
     "end_time": "2022-10-16T03:44:38.813411",
     "exception": false,
     "start_time": "2022-10-16T03:44:38.776333",
     "status": "completed"
    },
    "tags": []
   },
   "outputs": [],
   "source": [
    "#hide\n",
    "### ICO koreliacija"
   ]
  },
  {
   "cell_type": "code",
   "execution_count": 4,
   "id": "likely-bahrain",
   "metadata": {
    "execution": {
     "iopub.execute_input": "2022-10-16T03:44:38.839062Z",
     "iopub.status.busy": "2022-10-16T03:44:38.838489Z",
     "iopub.status.idle": "2022-10-16T03:44:39.664731Z",
     "shell.execute_reply": "2022-10-16T03:44:39.663511Z"
    },
    "papermill": {
     "duration": 0.840013,
     "end_time": "2022-10-16T03:44:39.664859",
     "exception": false,
     "start_time": "2022-10-16T03:44:38.824846",
     "status": "completed"
    },
    "tags": []
   },
   "outputs": [],
   "source": [
    "#hide\n",
    "import matplotlib.pyplot as plt\n",
    "import numpy as np\n",
    "import pandas as pd\n",
    "import seaborn as sns\n",
    "import matplotlib.pyplot as plt \n",
    "import matplotlib.dates as mdates\n",
    "import matplotlib.pyplot as plt"
   ]
  },
  {
   "cell_type": "code",
   "execution_count": 5,
   "id": "superior-blanket",
   "metadata": {
    "execution": {
     "iopub.execute_input": "2022-10-16T03:44:39.698728Z",
     "iopub.status.busy": "2022-10-16T03:44:39.689081Z",
     "iopub.status.idle": "2022-10-16T03:44:48.773222Z",
     "shell.execute_reply": "2022-10-16T03:44:48.774100Z"
    },
    "papermill": {
     "duration": 9.09853,
     "end_time": "2022-10-16T03:44:48.774245",
     "exception": false,
     "start_time": "2022-10-16T03:44:39.675715",
     "status": "completed"
    },
    "tags": []
   },
   "outputs": [
    {
     "name": "stderr",
     "output_type": "stream",
     "text": [
      "/home/runner/work/corr-app/corr-app/_notebooks/scripts/read_data.py:187: SettingWithCopyWarning:\n",
      "\n",
      "\n",
      "A value is trying to be set on a copy of a slice from a DataFrame.\n",
      "Try using .loc[row_indexer,col_indexer] = value instead\n",
      "\n",
      "See the caveats in the documentation: https://pandas.pydata.org/pandas-docs/stable/user_guide/indexing.html#returning-a-view-versus-a-copy\n",
      "\n"
     ]
    },
    {
     "name": "stderr",
     "output_type": "stream",
     "text": [
      "/home/runner/work/corr-app/corr-app/_notebooks/scripts/read_data.py:215: SettingWithCopyWarning:\n",
      "\n",
      "\n",
      "A value is trying to be set on a copy of a slice from a DataFrame.\n",
      "Try using .loc[row_indexer,col_indexer] = value instead\n",
      "\n",
      "See the caveats in the documentation: https://pandas.pydata.org/pandas-docs/stable/user_guide/indexing.html#returning-a-view-versus-a-copy\n",
      "\n"
     ]
    }
   ],
   "source": [
    "#hide\n",
    "df_all = read_api()\n",
    "#df_all = df_all.drop(['SP500', 'XAU', 'ETH', 'BTC'], axis=1)\n",
    "\n"
   ]
  },
  {
   "cell_type": "code",
   "execution_count": 6,
   "id": "mature-alert",
   "metadata": {
    "execution": {
     "iopub.execute_input": "2022-10-16T03:44:48.806241Z",
     "iopub.status.busy": "2022-10-16T03:44:48.805615Z",
     "iopub.status.idle": "2022-10-16T03:44:48.833330Z",
     "shell.execute_reply": "2022-10-16T03:44:48.832688Z"
    },
    "papermill": {
     "duration": 0.046732,
     "end_time": "2022-10-16T03:44:48.833445",
     "exception": false,
     "start_time": "2022-10-16T03:44:48.786713",
     "status": "completed"
    },
    "tags": []
   },
   "outputs": [],
   "source": [
    "#hide_input\n",
    "sum_corr = df_all.corr().sum().sort_values(ascending=True).index.values\n",
    "#df_all[sum_corr].corr()"
   ]
  },
  {
   "cell_type": "markdown",
   "id": "complex-syndicate",
   "metadata": {
    "papermill": {
     "duration": 0.010981,
     "end_time": "2022-10-16T03:44:48.855600",
     "exception": false,
     "start_time": "2022-10-16T03:44:48.844619",
     "status": "completed"
    },
    "tags": []
   },
   "source": [
    "## Išplėstinė koreliacijų matrica. "
   ]
  },
  {
   "cell_type": "code",
   "execution_count": 7,
   "id": "atomic-omaha",
   "metadata": {
    "execution": {
     "iopub.execute_input": "2022-10-16T03:44:48.881457Z",
     "iopub.status.busy": "2022-10-16T03:44:48.880898Z",
     "iopub.status.idle": "2022-10-16T03:44:50.105235Z",
     "shell.execute_reply": "2022-10-16T03:44:50.105678Z"
    },
    "papermill": {
     "duration": 1.239218,
     "end_time": "2022-10-16T03:44:50.105810",
     "exception": false,
     "start_time": "2022-10-16T03:44:48.866592",
     "status": "completed"
    },
    "tags": []
   },
   "outputs": [
    {
     "data": {
      "image/png": "[encoded data removed]",
      "text/plain": [
       "<Figure size 1080x792 with 2 Axes>"
      ]
     },
     "metadata": {
      "needs_background": "light"
     },
     "output_type": "display_data"
    }
   ],
   "source": [
    "#hide_input\n",
    "plt.figure(figsize=(15, 11))\n",
    "sns.heatmap(df_all[sum_corr].corr(), annot=True, cmap=\"cubehelix\") \n",
    "sns.set(font_scale=1.25)\n",
    "plt.savefig('corr_matrix.png', format='eps')"
   ]
  },
  {
   "cell_type": "code",
   "execution_count": 8,
   "id": "arbitrary-sullivan",
   "metadata": {
    "execution": {
     "iopub.execute_input": "2022-10-16T03:44:50.186073Z",
     "iopub.status.busy": "2022-10-16T03:44:50.185451Z",
     "iopub.status.idle": "2022-10-16T03:44:50.205608Z",
     "shell.execute_reply": "2022-10-16T03:44:50.204954Z"
    },
    "papermill": {
     "duration": 0.079588,
     "end_time": "2022-10-16T03:44:50.205729",
     "exception": false,
     "start_time": "2022-10-16T03:44:50.126141",
     "status": "completed"
    },
    "tags": []
   },
   "outputs": [],
   "source": [
    "#hide\n",
    "#df_all_mrk = read_api()"
   ]
  },
  {
   "cell_type": "code",
   "execution_count": 9,
   "id": "delayed-adapter",
   "metadata": {
    "execution": {
     "iopub.execute_input": "2022-10-16T03:44:50.246876Z",
     "iopub.status.busy": "2022-10-16T03:44:50.245520Z",
     "iopub.status.idle": "2022-10-16T03:44:50.271070Z",
     "shell.execute_reply": "2022-10-16T03:44:50.270546Z"
    },
    "papermill": {
     "duration": 0.043665,
     "end_time": "2022-10-16T03:44:50.271197",
     "exception": false,
     "start_time": "2022-10-16T03:44:50.227532",
     "status": "completed"
    },
    "tags": []
   },
   "outputs": [],
   "source": [
    "#hide\n",
    "#Koreliacijų koeficientai"
   ]
  },
  {
   "cell_type": "code",
   "execution_count": 10,
   "id": "seeing-celebration",
   "metadata": {
    "execution": {
     "iopub.execute_input": "2022-10-16T03:44:50.432615Z",
     "iopub.status.busy": "2022-10-16T03:44:50.432020Z",
     "iopub.status.idle": "2022-10-16T03:44:50.458318Z",
     "shell.execute_reply": "2022-10-16T03:44:50.458755Z"
    },
    "papermill": {
     "duration": 0.174238,
     "end_time": "2022-10-16T03:44:50.458890",
     "exception": false,
     "start_time": "2022-10-16T03:44:50.284652",
     "status": "completed"
    },
    "tags": []
   },
   "outputs": [],
   "source": [
    "#hide_input\n",
    "#sum_corr = df_all_mrk.corr().sum().sort_values(ascending=True).index.values\n",
    "#df_all_mrk[sum_corr].corr()"
   ]
  },
  {
   "cell_type": "code",
   "execution_count": 11,
   "id": "other-painting",
   "metadata": {
    "execution": {
     "iopub.execute_input": "2022-10-16T03:44:50.588862Z",
     "iopub.status.busy": "2022-10-16T03:44:50.588285Z",
     "iopub.status.idle": "2022-10-16T03:44:50.613020Z",
     "shell.execute_reply": "2022-10-16T03:44:50.612463Z"
    },
    "papermill": {
     "duration": 0.073453,
     "end_time": "2022-10-16T03:44:50.613141",
     "exception": false,
     "start_time": "2022-10-16T03:44:50.539688",
     "status": "completed"
    },
    "tags": []
   },
   "outputs": [],
   "source": [
    "#hide\n",
    "#Koreliacijos matrica. "
   ]
  },
  {
   "cell_type": "code",
   "execution_count": 12,
   "id": "modular-magnitude",
   "metadata": {
    "execution": {
     "iopub.execute_input": "2022-10-16T03:44:50.729780Z",
     "iopub.status.busy": "2022-10-16T03:44:50.729105Z",
     "iopub.status.idle": "2022-10-16T03:44:50.755541Z",
     "shell.execute_reply": "2022-10-16T03:44:50.754978Z"
    },
    "papermill": {
     "duration": 0.124392,
     "end_time": "2022-10-16T03:44:50.755666",
     "exception": false,
     "start_time": "2022-10-16T03:44:50.631274",
     "status": "completed"
    },
    "tags": []
   },
   "outputs": [],
   "source": [
    "#hide_input\n",
    "#plt.figure(figsize=(15, 8))\n",
    "#sns.heatmap(df_all_mrk[sum_corr].corr(), annot=True, cmap=\"BrBG\");\n",
    "#plt.savefig('corr_matrix_all.eps', format='eps')"
   ]
  },
  {
   "cell_type": "code",
   "execution_count": null,
   "id": "original-senator",
   "metadata": {
    "papermill": {
     "duration": 0.013492,
     "end_time": "2022-10-16T03:44:50.802369",
     "exception": false,
     "start_time": "2022-10-16T03:44:50.788877",
     "status": "completed"
    },
    "tags": []
   },
   "outputs": [],
   "source": []
  },
  {
   "cell_type": "code",
   "execution_count": null,
   "id": "saving-secretariat",
   "metadata": {
    "papermill": {
     "duration": 0.012997,
     "end_time": "2022-10-16T03:44:50.828449",
     "exception": false,
     "start_time": "2022-10-16T03:44:50.815452",
     "status": "completed"
    },
    "tags": []
   },
   "outputs": [],
   "source": []
  }
 ],
 "metadata": {
  "kernelspec": {
   "display_name": "Python 3",
   "language": "python",
   "name": "python3"
  },
  "language_info": {
   "codemirror_mode": {
    "name": "ipython",
    "version": 3
   },
   "file_extension": ".py",
   "mimetype": "text/x-python",
   "name": "python",
   "nbconvert_exporter": "python",
   "pygments_lexer": "ipython3",
   "version": "3.6.15"
  },
  "papermill": {
   "default_parameters": {},
   "duration": 14.869769,
   "end_time": "2022-10-16T03:44:51.360368",
   "environment_variables": {},
   "exception": null,
   "input_path": "App-Correlation_charts.ipynb",
   "output_path": "App-Correlation_charts.ipynb",
   "parameters": {},
   "start_time": "2022-10-16T03:44:36.490599",
   "version": "2.2.2"
  }
 },
 "nbformat": 4,
 "nbformat_minor": 5
}