{
 "cells": [
  {
   "cell_type": "markdown",
   "id": "touched-facility",
   "metadata": {
    "papermill": {
     "duration": 0.017699,
     "end_time": "2022-04-11T02:49:02.801767",
     "exception": false,
     "start_time": "2022-04-11T02:49:02.784068",
     "status": "completed"
    },
    "tags": []
   },
   "source": [
    "# Koreliacijų matrica\n",
    "> Išplėstinė koreliacijų matrica. \n",
    "\n",
    "- toc: true \n",
    "- badges: true\n",
    "- comments: false\n",
    "- categories: [Dominykas Tautkus]\n",
    "- image: images/matrix.png"
   ]
  },
  {
   "cell_type": "code",
   "execution_count": null,
   "id": "premium-weekend",
   "metadata": {
    "papermill": {
     "duration": 0.011969,
     "end_time": "2022-04-11T02:49:02.826863",
     "exception": false,
     "start_time": "2022-04-11T02:49:02.814894",
     "status": "completed"
    },
    "tags": []
   },
   "outputs": [],
   "source": []
  },
  {
   "cell_type": "code",
   "execution_count": 1,
   "id": "vertical-rebate",
   "metadata": {
    "execution": {
     "iopub.execute_input": "2022-04-11T02:49:02.865107Z",
     "iopub.status.busy": "2022-04-11T02:49:02.864446Z",
     "iopub.status.idle": "2022-04-11T02:49:02.875906Z",
     "shell.execute_reply": "2022-04-11T02:49:02.875381Z"
    },
    "papermill": {
     "duration": 0.037219,
     "end_time": "2022-04-11T02:49:02.876038",
     "exception": false,
     "start_time": "2022-04-11T02:49:02.838819",
     "status": "completed"
    },
    "tags": []
   },
   "outputs": [],
   "source": [
    "#hide\n",
    "%load_ext autoreload\n",
    "%autoreload 2"
   ]
  },
  {
   "cell_type": "code",
   "execution_count": 2,
   "id": "overall-advancement",
   "metadata": {
    "execution": {
     "iopub.execute_input": "2022-04-11T02:49:02.904493Z",
     "iopub.status.busy": "2022-04-11T02:49:02.903908Z",
     "iopub.status.idle": "2022-04-11T02:49:04.153882Z",
     "shell.execute_reply": "2022-04-11T02:49:04.154672Z"
    },
    "papermill": {
     "duration": 1.266956,
     "end_time": "2022-04-11T02:49:04.154915",
     "exception": false,
     "start_time": "2022-04-11T02:49:02.887959",
     "status": "completed"
    },
    "tags": []
   },
   "outputs": [],
   "source": [
    "#hide\n",
    "from scripts.read_data import read_api\n",
    "from IPython.display import HTML\n",
    "import plotly.graph_objects as go\n"
   ]
  },
  {
   "cell_type": "code",
   "execution_count": 3,
   "id": "light-crazy",
   "metadata": {
    "execution": {
     "iopub.execute_input": "2022-04-11T02:49:04.189752Z",
     "iopub.status.busy": "2022-04-11T02:49:04.189148Z",
     "iopub.status.idle": "2022-04-11T02:49:04.213419Z",
     "shell.execute_reply": "2022-04-11T02:49:04.212675Z"
    },
    "papermill": {
     "duration": 0.044282,
     "end_time": "2022-04-11T02:49:04.213580",
     "exception": false,
     "start_time": "2022-04-11T02:49:04.169298",
     "status": "completed"
    },
    "tags": []
   },
   "outputs": [],
   "source": [
    "#hide\n",
    "### ICO koreliacija"
   ]
  },
  {
   "cell_type": "code",
   "execution_count": 4,
   "id": "likely-bahrain",
   "metadata": {
    "execution": {
     "iopub.execute_input": "2022-04-11T02:49:04.244454Z",
     "iopub.status.busy": "2022-04-11T02:49:04.243848Z",
     "iopub.status.idle": "2022-04-11T02:49:05.224516Z",
     "shell.execute_reply": "2022-04-11T02:49:05.223707Z"
    },
    "papermill": {
     "duration": 0.99769,
     "end_time": "2022-04-11T02:49:05.224657",
     "exception": false,
     "start_time": "2022-04-11T02:49:04.226967",
     "status": "completed"
    },
    "tags": []
   },
   "outputs": [],
   "source": [
    "#hide\n",
    "import matplotlib.pyplot as plt\n",
    "import numpy as np\n",
    "import pandas as pd\n",
    "import seaborn as sns\n",
    "import matplotlib.pyplot as plt \n",
    "import matplotlib.dates as mdates\n",
    "import matplotlib.pyplot as plt"
   ]
  },
  {
   "cell_type": "code",
   "execution_count": 5,
   "id": "superior-blanket",
   "metadata": {
    "execution": {
     "iopub.execute_input": "2022-04-11T02:49:05.254147Z",
     "iopub.status.busy": "2022-04-11T02:49:05.253317Z",
     "iopub.status.idle": "2022-04-11T02:49:15.583492Z",
     "shell.execute_reply": "2022-04-11T02:49:15.582592Z"
    },
    "papermill": {
     "duration": 10.346661,
     "end_time": "2022-04-11T02:49:15.583636",
     "exception": false,
     "start_time": "2022-04-11T02:49:05.236975",
     "status": "completed"
    },
    "tags": []
   },
   "outputs": [
    {
     "name": "stderr",
     "output_type": "stream",
     "text": [
      "/home/runner/work/corr-app/corr-app/_notebooks/scripts/read_data.py:187: SettingWithCopyWarning:\n",
      "\n",
      "\n",
      "A value is trying to be set on a copy of a slice from a DataFrame.\n",
      "Try using .loc[row_indexer,col_indexer] = value instead\n",
      "\n",
      "See the caveats in the documentation: https://pandas.pydata.org/pandas-docs/stable/user_guide/indexing.html#returning-a-view-versus-a-copy\n",
      "\n"
     ]
    },
    {
     "name": "stderr",
     "output_type": "stream",
     "text": [
      "/home/runner/work/corr-app/corr-app/_notebooks/scripts/read_data.py:215: SettingWithCopyWarning:\n",
      "\n",
      "\n",
      "A value is trying to be set on a copy of a slice from a DataFrame.\n",
      "Try using .loc[row_indexer,col_indexer] = value instead\n",
      "\n",
      "See the caveats in the documentation: https://pandas.pydata.org/pandas-docs/stable/user_guide/indexing.html#returning-a-view-versus-a-copy\n",
      "\n"
     ]
    }
   ],
   "source": [
    "#hide\n",
    "df_all = read_api()\n",
    "#df_all = df_all.drop(['SP500', 'XAU', 'ETH', 'BTC'], axis=1)\n",
    "\n"
   ]
  },
  {
   "cell_type": "code",
   "execution_count": 6,
   "id": "mature-alert",
   "metadata": {
    "execution": {
     "iopub.execute_input": "2022-04-11T02:49:15.614725Z",
     "iopub.status.busy": "2022-04-11T02:49:15.614127Z",
     "iopub.status.idle": "2022-04-11T02:49:15.650787Z",
     "shell.execute_reply": "2022-04-11T02:49:15.651388Z"
    },
    "papermill": {
     "duration": 0.054846,
     "end_time": "2022-04-11T02:49:15.651568",
     "exception": false,
     "start_time": "2022-04-11T02:49:15.596722",
     "status": "completed"
    },
    "tags": []
   },
   "outputs": [],
   "source": [
    "#hide_input\n",
    "sum_corr = df_all.corr().sum().sort_values(ascending=True).index.values\n",
    "#df_all[sum_corr].corr()"
   ]
  },
  {
   "cell_type": "markdown",
   "id": "complex-syndicate",
   "metadata": {
    "papermill": {
     "duration": 0.012627,
     "end_time": "2022-04-11T02:49:15.676901",
     "exception": false,
     "start_time": "2022-04-11T02:49:15.664274",
     "status": "completed"
    },
    "tags": []
   },
   "source": [
    "## Išplėstinė koreliacijų matrica. "
   ]
  },
  {
   "cell_type": "code",
   "execution_count": 7,
   "id": "atomic-omaha",
   "metadata": {
    "execution": {
     "iopub.execute_input": "2022-04-11T02:49:15.710166Z",
     "iopub.status.busy": "2022-04-11T02:49:15.709570Z",
     "iopub.status.idle": "2022-04-11T02:49:17.075722Z",
     "shell.execute_reply": "2022-04-11T02:49:17.075121Z"
    },
    "papermill": {
     "duration": 1.386342,
     "end_time": "2022-04-11T02:49:17.075848",
     "exception": false,
     "start_time": "2022-04-11T02:49:15.689506",
     "status": "completed"
    },
    "tags": []
   },
   "outputs": [
    {
     "data": {
      "image/png": "[encoded data removed]",
      "text/plain": [
       "<Figure size 1080x792 with 2 Axes>"
      ]
     },
     "metadata": {
      "needs_background": "light"
     },
     "output_type": "display_data"
    }
   ],
   "source": [
    "#hide_input\n",
    "plt.figure(figsize=(15, 11))\n",
    "sns.heatmap(df_all[sum_corr].corr(), annot=True, cmap=\"cubehelix\") \n",
    "sns.set(font_scale=1.25)\n",
    "plt.savefig('corr_matrix.png', format='eps')"
   ]
  },
  {
   "cell_type": "code",
   "execution_count": 8,
   "id": "arbitrary-sullivan",
   "metadata": {
    "execution": {
     "iopub.execute_input": "2022-04-11T02:49:17.116056Z",
     "iopub.status.busy": "2022-04-11T02:49:17.115455Z",
     "iopub.status.idle": "2022-04-11T02:49:17.143495Z",
     "shell.execute_reply": "2022-04-11T02:49:17.144118Z"
    },
    "papermill": {
     "duration": 0.053053,
     "end_time": "2022-04-11T02:49:17.144310",
     "exception": false,
     "start_time": "2022-04-11T02:49:17.091257",
     "status": "completed"
    },
    "tags": []
   },
   "outputs": [],
   "source": [
    "#hide\n",
    "#df_all_mrk = read_api()"
   ]
  },
  {
   "cell_type": "code",
   "execution_count": 9,
   "id": "delayed-adapter",
   "metadata": {
    "execution": {
     "iopub.execute_input": "2022-04-11T02:49:17.178143Z",
     "iopub.status.busy": "2022-04-11T02:49:17.177546Z",
     "iopub.status.idle": "2022-04-11T02:49:17.211427Z",
     "shell.execute_reply": "2022-04-11T02:49:17.210618Z"
    },
    "papermill": {
     "duration": 0.052083,
     "end_time": "2022-04-11T02:49:17.211624",
     "exception": false,
     "start_time": "2022-04-11T02:49:17.159541",
     "status": "completed"
    },
    "tags": []
   },
   "outputs": [],
   "source": [
    "#hide\n",
    "#Koreliacijų koeficientai"
   ]
  },
  {
   "cell_type": "code",
   "execution_count": 10,
   "id": "seeing-celebration",
   "metadata": {
    "execution": {
     "iopub.execute_input": "2022-04-11T02:49:17.250635Z",
     "iopub.status.busy": "2022-04-11T02:49:17.249822Z",
     "iopub.status.idle": "2022-04-11T02:49:17.278428Z",
     "shell.execute_reply": "2022-04-11T02:49:17.277734Z"
    },
    "papermill": {
     "duration": 0.048255,
     "end_time": "2022-04-11T02:49:17.278578",
     "exception": false,
     "start_time": "2022-04-11T02:49:17.230323",
     "status": "completed"
    },
    "tags": []
   },
   "outputs": [],
   "source": [
    "#hide_input\n",
    "#sum_corr = df_all_mrk.corr().sum().sort_values(ascending=True).index.values\n",
    "#df_all_mrk[sum_corr].corr()"
   ]
  },
  {
   "cell_type": "code",
   "execution_count": 11,
   "id": "other-painting",
   "metadata": {
    "execution": {
     "iopub.execute_input": "2022-04-11T02:49:17.317226Z",
     "iopub.status.busy": "2022-04-11T02:49:17.316595Z",
     "iopub.status.idle": "2022-04-11T02:49:17.346412Z",
     "shell.execute_reply": "2022-04-11T02:49:17.345606Z"
    },
    "papermill": {
     "duration": 0.047584,
     "end_time": "2022-04-11T02:49:17.346568",
     "exception": false,
     "start_time": "2022-04-11T02:49:17.298984",
     "status": "completed"
    },
    "tags": []
   },
   "outputs": [],
   "source": [
    "#hide\n",
    "#Koreliacijos matrica. "
   ]
  },
  {
   "cell_type": "code",
   "execution_count": 12,
   "id": "modular-magnitude",
   "metadata": {
    "execution": {
     "iopub.execute_input": "2022-04-11T02:49:17.380239Z",
     "iopub.status.busy": "2022-04-11T02:49:17.379656Z",
     "iopub.status.idle": "2022-04-11T02:49:17.408675Z",
     "shell.execute_reply": "2022-04-11T02:49:17.407995Z"
    },
    "papermill": {
     "duration": 0.04671,
     "end_time": "2022-04-11T02:49:17.408844",
     "exception": false,
     "start_time": "2022-04-11T02:49:17.362134",
     "status": "completed"
    },
    "tags": []
   },
   "outputs": [],
   "source": [
    "#hide_input\n",
    "#plt.figure(figsize=(15, 8))\n",
    "#sns.heatmap(df_all_mrk[sum_corr].corr(), annot=True, cmap=\"BrBG\");\n",
    "#plt.savefig('corr_matrix_all.eps', format='eps')"
   ]
  },
  {
   "cell_type": "code",
   "execution_count": null,
   "id": "original-senator",
   "metadata": {
    "papermill": {
     "duration": 0.014756,
     "end_time": "2022-04-11T02:49:17.438425",
     "exception": false,
     "start_time": "2022-04-11T02:49:17.423669",
     "status": "completed"
    },
    "tags": []
   },
   "outputs": [],
   "source": []
  },
  {
   "cell_type": "code",
   "execution_count": null,
   "id": "saving-secretariat",
   "metadata": {
    "papermill": {
     "duration": 0.014815,
     "end_time": "2022-04-11T02:49:17.468130",
     "exception": false,
     "start_time": "2022-04-11T02:49:17.453315",
     "status": "completed"
    },
    "tags": []
   },
   "outputs": [],
   "source": []
  }
 ],
 "metadata": {
  "kernelspec": {
   "display_name": "Python 3",
   "language": "python",
   "name": "python3"
  },
  "language_info": {
   "codemirror_mode": {
    "name": "ipython",
    "version": 3
   },
   "file_extension": ".py",
   "mimetype": "text/x-python",
   "name": "python",
   "nbconvert_exporter": "python",
   "pygments_lexer": "ipython3",
   "version": "3.6.15"
  },
  "papermill": {
   "default_parameters": {},
   "duration": 16.510761,
   "end_time": "2022-04-11T02:49:18.004361",
   "environment_variables": {},
   "exception": null,
   "input_path": "App-Correlation_charts.ipynb",
   "output_path": "App-Correlation_charts.ipynb",
   "parameters": {},
   "start_time": "2022-04-11T02:49:01.493600",
   "version": "2.2.2"
  }
 },
 "nbformat": 4,
 "nbformat_minor": 5
}