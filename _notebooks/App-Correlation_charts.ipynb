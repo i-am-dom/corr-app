{
 "cells": [
  {
   "cell_type": "markdown",
   "id": "touched-facility",
   "metadata": {
    "papermill": {
     "duration": 0.014884,
     "end_time": "2021-07-17T01:54:38.357622",
     "exception": false,
     "start_time": "2021-07-17T01:54:38.342738",
     "status": "completed"
    },
    "tags": []
   },
   "source": [
    "# Koreliacijų matrica\n",
    "> Išplėstinė koreliacijų matrica. \n",
    "\n",
    "- toc: true \n",
    "- badges: true\n",
    "- comments: false\n",
    "- categories: [Dominykas Tautkus]\n",
    "- image: images/matrix.png"
   ]
  },
  {
   "cell_type": "code",
   "execution_count": null,
   "id": "premium-weekend",
   "metadata": {
    "papermill": {
     "duration": 0.010349,
     "end_time": "2021-07-17T01:54:38.379069",
     "exception": false,
     "start_time": "2021-07-17T01:54:38.368720",
     "status": "completed"
    },
    "tags": []
   },
   "outputs": [],
   "source": []
  },
  {
   "cell_type": "code",
   "execution_count": 1,
   "id": "vertical-rebate",
   "metadata": {
    "execution": {
     "iopub.execute_input": "2021-07-17T01:54:38.402583Z",
     "iopub.status.busy": "2021-07-17T01:54:38.402080Z",
     "iopub.status.idle": "2021-07-17T01:54:38.418987Z",
     "shell.execute_reply": "2021-07-17T01:54:38.418574Z"
    },
    "papermill": {
     "duration": 0.029619,
     "end_time": "2021-07-17T01:54:38.419102",
     "exception": false,
     "start_time": "2021-07-17T01:54:38.389483",
     "status": "completed"
    },
    "tags": []
   },
   "outputs": [],
   "source": [
    "#hide\n",
    "%load_ext autoreload\n",
    "%autoreload 2"
   ]
  },
  {
   "cell_type": "code",
   "execution_count": 2,
   "id": "overall-advancement",
   "metadata": {
    "execution": {
     "iopub.execute_input": "2021-07-17T01:54:38.443160Z",
     "iopub.status.busy": "2021-07-17T01:54:38.442666Z",
     "iopub.status.idle": "2021-07-17T01:54:39.526700Z",
     "shell.execute_reply": "2021-07-17T01:54:39.526201Z"
    },
    "papermill": {
     "duration": 1.097308,
     "end_time": "2021-07-17T01:54:39.526834",
     "exception": false,
     "start_time": "2021-07-17T01:54:38.429526",
     "status": "completed"
    },
    "tags": []
   },
   "outputs": [],
   "source": [
    "#hide\n",
    "from scripts.read_data import read_api\n",
    "from IPython.display import HTML\n",
    "import plotly.graph_objects as go\n"
   ]
  },
  {
   "cell_type": "code",
   "execution_count": 3,
   "id": "light-crazy",
   "metadata": {
    "execution": {
     "iopub.execute_input": "2021-07-17T01:54:39.553493Z",
     "iopub.status.busy": "2021-07-17T01:54:39.552759Z",
     "iopub.status.idle": "2021-07-17T01:54:39.573516Z",
     "shell.execute_reply": "2021-07-17T01:54:39.573014Z"
    },
    "papermill": {
     "duration": 0.035237,
     "end_time": "2021-07-17T01:54:39.573622",
     "exception": false,
     "start_time": "2021-07-17T01:54:39.538385",
     "status": "completed"
    },
    "tags": []
   },
   "outputs": [],
   "source": [
    "#hide\n",
    "### ICO koreliacija"
   ]
  },
  {
   "cell_type": "code",
   "execution_count": 4,
   "id": "likely-bahrain",
   "metadata": {
    "execution": {
     "iopub.execute_input": "2021-07-17T01:54:39.655142Z",
     "iopub.status.busy": "2021-07-17T01:54:39.652852Z",
     "iopub.status.idle": "2021-07-17T01:54:40.513289Z",
     "shell.execute_reply": "2021-07-17T01:54:40.512420Z"
    },
    "papermill": {
     "duration": 0.929323,
     "end_time": "2021-07-17T01:54:40.513426",
     "exception": false,
     "start_time": "2021-07-17T01:54:39.584103",
     "status": "completed"
    },
    "tags": []
   },
   "outputs": [],
   "source": [
    "#hide\n",
    "import matplotlib.pyplot as plt\n",
    "import numpy as np\n",
    "import pandas as pd\n",
    "import seaborn as sns\n",
    "import matplotlib.pyplot as plt \n",
    "import matplotlib.dates as mdates\n",
    "import matplotlib.pyplot as plt"
   ]
  },
  {
   "cell_type": "code",
   "execution_count": 5,
   "id": "superior-blanket",
   "metadata": {
    "execution": {
     "iopub.execute_input": "2021-07-17T01:54:40.540609Z",
     "iopub.status.busy": "2021-07-17T01:54:40.538909Z",
     "iopub.status.idle": "2021-07-17T01:54:51.208337Z",
     "shell.execute_reply": "2021-07-17T01:54:51.207865Z"
    },
    "papermill": {
     "duration": 10.684256,
     "end_time": "2021-07-17T01:54:51.208454",
     "exception": false,
     "start_time": "2021-07-17T01:54:40.524198",
     "status": "completed"
    },
    "tags": []
   },
   "outputs": [
    {
     "name": "stderr",
     "output_type": "stream",
     "text": [
      "/home/runner/work/corr-app/corr-app/_notebooks/scripts/read_data.py:187: SettingWithCopyWarning:\n",
      "\n",
      "\n",
      "A value is trying to be set on a copy of a slice from a DataFrame.\n",
      "Try using .loc[row_indexer,col_indexer] = value instead\n",
      "\n",
      "See the caveats in the documentation: https://pandas.pydata.org/pandas-docs/stable/user_guide/indexing.html#returning-a-view-versus-a-copy\n",
      "\n"
     ]
    },
    {
     "name": "stderr",
     "output_type": "stream",
     "text": [
      "/home/runner/work/corr-app/corr-app/_notebooks/scripts/read_data.py:215: SettingWithCopyWarning:\n",
      "\n",
      "\n",
      "A value is trying to be set on a copy of a slice from a DataFrame.\n",
      "Try using .loc[row_indexer,col_indexer] = value instead\n",
      "\n",
      "See the caveats in the documentation: https://pandas.pydata.org/pandas-docs/stable/user_guide/indexing.html#returning-a-view-versus-a-copy\n",
      "\n"
     ]
    }
   ],
   "source": [
    "#hide\n",
    "df_all = read_api()\n",
    "#df_all = df_all.drop(['SP500', 'XAU', 'ETH', 'BTC'], axis=1)\n",
    "\n"
   ]
  },
  {
   "cell_type": "code",
   "execution_count": 6,
   "id": "mature-alert",
   "metadata": {
    "execution": {
     "iopub.execute_input": "2021-07-17T01:54:51.234179Z",
     "iopub.status.busy": "2021-07-17T01:54:51.233660Z",
     "iopub.status.idle": "2021-07-17T01:54:51.262202Z",
     "shell.execute_reply": "2021-07-17T01:54:51.261738Z"
    },
    "papermill": {
     "duration": 0.042412,
     "end_time": "2021-07-17T01:54:51.262314",
     "exception": false,
     "start_time": "2021-07-17T01:54:51.219902",
     "status": "completed"
    },
    "tags": []
   },
   "outputs": [],
   "source": [
    "#hide_input\n",
    "sum_corr = df_all.corr().sum().sort_values(ascending=True).index.values\n",
    "#df_all[sum_corr].corr()"
   ]
  },
  {
   "cell_type": "markdown",
   "id": "complex-syndicate",
   "metadata": {
    "papermill": {
     "duration": 0.011131,
     "end_time": "2021-07-17T01:54:51.284616",
     "exception": false,
     "start_time": "2021-07-17T01:54:51.273485",
     "status": "completed"
    },
    "tags": []
   },
   "source": [
    "## Išplėstinė koreliacijų matrica. "
   ]
  },
  {
   "cell_type": "code",
   "execution_count": 7,
   "id": "atomic-omaha",
   "metadata": {
    "execution": {
     "iopub.execute_input": "2021-07-17T01:54:51.310714Z",
     "iopub.status.busy": "2021-07-17T01:54:51.310219Z",
     "iopub.status.idle": "2021-07-17T01:54:52.452817Z",
     "shell.execute_reply": "2021-07-17T01:54:52.452397Z"
    },
    "papermill": {
     "duration": 1.157191,
     "end_time": "2021-07-17T01:54:52.452936",
     "exception": false,
     "start_time": "2021-07-17T01:54:51.295745",
     "status": "completed"
    },
    "tags": []
   },
   "outputs": [
    {
     "data": {
      "image/png": "[encoded data removed]",
      "text/plain": [
       "<Figure size 1080x792 with 2 Axes>"
      ]
     },
     "metadata": {
      "needs_background": "light"
     },
     "output_type": "display_data"
    }
   ],
   "source": [
    "#hide_input\n",
    "plt.figure(figsize=(15, 11))\n",
    "sns.heatmap(df_all[sum_corr].corr(), annot=True, cmap=\"cubehelix\") \n",
    "sns.set(font_scale=1.25)\n",
    "plt.savefig('corr_matrix.png', format='eps')"
   ]
  },
  {
   "cell_type": "code",
   "execution_count": 8,
   "id": "arbitrary-sullivan",
   "metadata": {
    "execution": {
     "iopub.execute_input": "2021-07-17T01:54:52.486000Z",
     "iopub.status.busy": "2021-07-17T01:54:52.481817Z",
     "iopub.status.idle": "2021-07-17T01:54:52.505725Z",
     "shell.execute_reply": "2021-07-17T01:54:52.506101Z"
    },
    "papermill": {
     "duration": 0.039935,
     "end_time": "2021-07-17T01:54:52.506224",
     "exception": false,
     "start_time": "2021-07-17T01:54:52.466289",
     "status": "completed"
    },
    "tags": []
   },
   "outputs": [],
   "source": [
    "#hide\n",
    "#df_all_mrk = read_api()"
   ]
  },
  {
   "cell_type": "code",
   "execution_count": 9,
   "id": "delayed-adapter",
   "metadata": {
    "execution": {
     "iopub.execute_input": "2021-07-17T01:54:52.537799Z",
     "iopub.status.busy": "2021-07-17T01:54:52.537291Z",
     "iopub.status.idle": "2021-07-17T01:54:52.560133Z",
     "shell.execute_reply": "2021-07-17T01:54:52.559648Z"
    },
    "papermill": {
     "duration": 0.041177,
     "end_time": "2021-07-17T01:54:52.560247",
     "exception": false,
     "start_time": "2021-07-17T01:54:52.519070",
     "status": "completed"
    },
    "tags": []
   },
   "outputs": [],
   "source": [
    "#hide\n",
    "#Koreliacijų koeficientai"
   ]
  },
  {
   "cell_type": "code",
   "execution_count": 10,
   "id": "seeing-celebration",
   "metadata": {
    "execution": {
     "iopub.execute_input": "2021-07-17T01:54:52.589840Z",
     "iopub.status.busy": "2021-07-17T01:54:52.589343Z",
     "iopub.status.idle": "2021-07-17T01:54:52.613973Z",
     "shell.execute_reply": "2021-07-17T01:54:52.613513Z"
    },
    "papermill": {
     "duration": 0.040107,
     "end_time": "2021-07-17T01:54:52.614090",
     "exception": false,
     "start_time": "2021-07-17T01:54:52.573983",
     "status": "completed"
    },
    "tags": []
   },
   "outputs": [],
   "source": [
    "#hide_input\n",
    "#sum_corr = df_all_mrk.corr().sum().sort_values(ascending=True).index.values\n",
    "#df_all_mrk[sum_corr].corr()"
   ]
  },
  {
   "cell_type": "code",
   "execution_count": 11,
   "id": "other-painting",
   "metadata": {
    "execution": {
     "iopub.execute_input": "2021-07-17T01:54:52.662674Z",
     "iopub.status.busy": "2021-07-17T01:54:52.661946Z",
     "iopub.status.idle": "2021-07-17T01:54:52.671379Z",
     "shell.execute_reply": "2021-07-17T01:54:52.670985Z"
    },
    "papermill": {
     "duration": 0.044116,
     "end_time": "2021-07-17T01:54:52.671484",
     "exception": false,
     "start_time": "2021-07-17T01:54:52.627368",
     "status": "completed"
    },
    "tags": []
   },
   "outputs": [],
   "source": [
    "#hide\n",
    "#Koreliacijos matrica. "
   ]
  },
  {
   "cell_type": "code",
   "execution_count": 12,
   "id": "modular-magnitude",
   "metadata": {
    "execution": {
     "iopub.execute_input": "2021-07-17T01:54:52.710107Z",
     "iopub.status.busy": "2021-07-17T01:54:52.706902Z",
     "iopub.status.idle": "2021-07-17T01:54:52.727656Z",
     "shell.execute_reply": "2021-07-17T01:54:52.726999Z"
    },
    "papermill": {
     "duration": 0.043202,
     "end_time": "2021-07-17T01:54:52.727762",
     "exception": false,
     "start_time": "2021-07-17T01:54:52.684560",
     "status": "completed"
    },
    "tags": []
   },
   "outputs": [],
   "source": [
    "#hide_input\n",
    "#plt.figure(figsize=(15, 8))\n",
    "#sns.heatmap(df_all_mrk[sum_corr].corr(), annot=True, cmap=\"BrBG\");\n",
    "#plt.savefig('corr_matrix_all.eps', format='eps')"
   ]
  },
  {
   "cell_type": "code",
   "execution_count": null,
   "id": "original-senator",
   "metadata": {
    "papermill": {
     "duration": 0.012834,
     "end_time": "2021-07-17T01:54:52.753562",
     "exception": false,
     "start_time": "2021-07-17T01:54:52.740728",
     "status": "completed"
    },
    "tags": []
   },
   "outputs": [],
   "source": []
  },
  {
   "cell_type": "code",
   "execution_count": null,
   "id": "saving-secretariat",
   "metadata": {
    "papermill": {
     "duration": 0.012822,
     "end_time": "2021-07-17T01:54:52.779149",
     "exception": false,
     "start_time": "2021-07-17T01:54:52.766327",
     "status": "completed"
    },
    "tags": []
   },
   "outputs": [],
   "source": []
  }
 ],
 "metadata": {
  "kernelspec": {
   "display_name": "Python 3",
   "language": "python",
   "name": "python3"
  },
  "language_info": {
   "codemirror_mode": {
    "name": "ipython",
    "version": 3
   },
   "file_extension": ".py",
   "mimetype": "text/x-python",
   "name": "python",
   "nbconvert_exporter": "python",
   "pygments_lexer": "ipython3",
   "version": "3.6.14"
  },
  "papermill": {
   "default_parameters": {},
   "duration": 15.914395,
   "end_time": "2021-07-17T01:54:53.299457",
   "environment_variables": {},
   "exception": null,
   "input_path": "App-Correlation_charts.ipynb",
   "output_path": "App-Correlation_charts.ipynb",
   "parameters": {},
   "start_time": "2021-07-17T01:54:37.385062",
   "version": "2.2.2"
  }
 },
 "nbformat": 4,
 "nbformat_minor": 5
}