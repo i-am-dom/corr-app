{
 "cells": [
  {
   "cell_type": "markdown",
   "id": "touched-facility",
   "metadata": {
    "papermill": {
     "duration": 0.014921,
     "end_time": "2021-09-21T01:59:10.564651",
     "exception": false,
     "start_time": "2021-09-21T01:59:10.549730",
     "status": "completed"
    },
    "tags": []
   },
   "source": [
    "# Koreliacijų matrica\n",
    "> Išplėstinė koreliacijų matrica. \n",
    "\n",
    "- toc: true \n",
    "- badges: true\n",
    "- comments: false\n",
    "- categories: [Dominykas Tautkus]\n",
    "- image: images/matrix.png"
   ]
  },
  {
   "cell_type": "code",
   "execution_count": null,
   "id": "premium-weekend",
   "metadata": {
    "papermill": {
     "duration": 0.010498,
     "end_time": "2021-09-21T01:59:10.586287",
     "exception": false,
     "start_time": "2021-09-21T01:59:10.575789",
     "status": "completed"
    },
    "tags": []
   },
   "outputs": [],
   "source": []
  },
  {
   "cell_type": "code",
   "execution_count": 1,
   "id": "vertical-rebate",
   "metadata": {
    "execution": {
     "iopub.execute_input": "2021-09-21T01:59:10.618075Z",
     "iopub.status.busy": "2021-09-21T01:59:10.617569Z",
     "iopub.status.idle": "2021-09-21T01:59:10.627575Z",
     "shell.execute_reply": "2021-09-21T01:59:10.627163Z"
    },
    "papermill": {
     "duration": 0.030967,
     "end_time": "2021-09-21T01:59:10.627689",
     "exception": false,
     "start_time": "2021-09-21T01:59:10.596722",
     "status": "completed"
    },
    "tags": []
   },
   "outputs": [],
   "source": [
    "#hide\n",
    "%load_ext autoreload\n",
    "%autoreload 2"
   ]
  },
  {
   "cell_type": "code",
   "execution_count": 2,
   "id": "overall-advancement",
   "metadata": {
    "execution": {
     "iopub.execute_input": "2021-09-21T01:59:10.651342Z",
     "iopub.status.busy": "2021-09-21T01:59:10.650851Z",
     "iopub.status.idle": "2021-09-21T01:59:11.741741Z",
     "shell.execute_reply": "2021-09-21T01:59:11.741216Z"
    },
    "papermill": {
     "duration": 1.103785,
     "end_time": "2021-09-21T01:59:11.741879",
     "exception": false,
     "start_time": "2021-09-21T01:59:10.638094",
     "status": "completed"
    },
    "tags": []
   },
   "outputs": [],
   "source": [
    "#hide\n",
    "from scripts.read_data import read_api\n",
    "from IPython.display import HTML\n",
    "import plotly.graph_objects as go\n"
   ]
  },
  {
   "cell_type": "code",
   "execution_count": 3,
   "id": "light-crazy",
   "metadata": {
    "execution": {
     "iopub.execute_input": "2021-09-21T01:59:11.768228Z",
     "iopub.status.busy": "2021-09-21T01:59:11.767703Z",
     "iopub.status.idle": "2021-09-21T01:59:11.788145Z",
     "shell.execute_reply": "2021-09-21T01:59:11.788598Z"
    },
    "papermill": {
     "duration": 0.035619,
     "end_time": "2021-09-21T01:59:11.788732",
     "exception": false,
     "start_time": "2021-09-21T01:59:11.753113",
     "status": "completed"
    },
    "tags": []
   },
   "outputs": [],
   "source": [
    "#hide\n",
    "### ICO koreliacija"
   ]
  },
  {
   "cell_type": "code",
   "execution_count": 4,
   "id": "likely-bahrain",
   "metadata": {
    "execution": {
     "iopub.execute_input": "2021-09-21T01:59:11.814045Z",
     "iopub.status.busy": "2021-09-21T01:59:11.813554Z",
     "iopub.status.idle": "2021-09-21T01:59:12.603429Z",
     "shell.execute_reply": "2021-09-21T01:59:12.603907Z"
    },
    "papermill": {
     "duration": 0.804041,
     "end_time": "2021-09-21T01:59:12.604068",
     "exception": false,
     "start_time": "2021-09-21T01:59:11.800027",
     "status": "completed"
    },
    "tags": []
   },
   "outputs": [],
   "source": [
    "#hide\n",
    "import matplotlib.pyplot as plt\n",
    "import numpy as np\n",
    "import pandas as pd\n",
    "import seaborn as sns\n",
    "import matplotlib.pyplot as plt \n",
    "import matplotlib.dates as mdates\n",
    "import matplotlib.pyplot as plt"
   ]
  },
  {
   "cell_type": "code",
   "execution_count": 5,
   "id": "superior-blanket",
   "metadata": {
    "execution": {
     "iopub.execute_input": "2021-09-21T01:59:12.629951Z",
     "iopub.status.busy": "2021-09-21T01:59:12.629350Z",
     "iopub.status.idle": "2021-09-21T01:59:25.128706Z",
     "shell.execute_reply": "2021-09-21T01:59:25.128184Z"
    },
    "papermill": {
     "duration": 12.513606,
     "end_time": "2021-09-21T01:59:25.128838",
     "exception": false,
     "start_time": "2021-09-21T01:59:12.615232",
     "status": "completed"
    },
    "tags": []
   },
   "outputs": [
    {
     "name": "stderr",
     "output_type": "stream",
     "text": [
      "/home/runner/work/corr-app/corr-app/_notebooks/scripts/read_data.py:187: SettingWithCopyWarning:\n",
      "\n",
      "\n",
      "A value is trying to be set on a copy of a slice from a DataFrame.\n",
      "Try using .loc[row_indexer,col_indexer] = value instead\n",
      "\n",
      "See the caveats in the documentation: https://pandas.pydata.org/pandas-docs/stable/user_guide/indexing.html#returning-a-view-versus-a-copy\n",
      "\n"
     ]
    },
    {
     "name": "stderr",
     "output_type": "stream",
     "text": [
      "/home/runner/work/corr-app/corr-app/_notebooks/scripts/read_data.py:215: SettingWithCopyWarning:\n",
      "\n",
      "\n",
      "A value is trying to be set on a copy of a slice from a DataFrame.\n",
      "Try using .loc[row_indexer,col_indexer] = value instead\n",
      "\n",
      "See the caveats in the documentation: https://pandas.pydata.org/pandas-docs/stable/user_guide/indexing.html#returning-a-view-versus-a-copy\n",
      "\n"
     ]
    }
   ],
   "source": [
    "#hide\n",
    "df_all = read_api()\n",
    "#df_all = df_all.drop(['SP500', 'XAU', 'ETH', 'BTC'], axis=1)\n",
    "\n"
   ]
  },
  {
   "cell_type": "code",
   "execution_count": 6,
   "id": "mature-alert",
   "metadata": {
    "execution": {
     "iopub.execute_input": "2021-09-21T01:59:25.163981Z",
     "iopub.status.busy": "2021-09-21T01:59:25.163202Z",
     "iopub.status.idle": "2021-09-21T01:59:25.188032Z",
     "shell.execute_reply": "2021-09-21T01:59:25.187567Z"
    },
    "papermill": {
     "duration": 0.047364,
     "end_time": "2021-09-21T01:59:25.188156",
     "exception": false,
     "start_time": "2021-09-21T01:59:25.140792",
     "status": "completed"
    },
    "tags": []
   },
   "outputs": [],
   "source": [
    "#hide_input\n",
    "sum_corr = df_all.corr().sum().sort_values(ascending=True).index.values\n",
    "#df_all[sum_corr].corr()"
   ]
  },
  {
   "cell_type": "markdown",
   "id": "complex-syndicate",
   "metadata": {
    "papermill": {
     "duration": 0.011028,
     "end_time": "2021-09-21T01:59:25.210629",
     "exception": false,
     "start_time": "2021-09-21T01:59:25.199601",
     "status": "completed"
    },
    "tags": []
   },
   "source": [
    "## Išplėstinė koreliacijų matrica. "
   ]
  },
  {
   "cell_type": "code",
   "execution_count": 7,
   "id": "atomic-omaha",
   "metadata": {
    "execution": {
     "iopub.execute_input": "2021-09-21T01:59:25.241003Z",
     "iopub.status.busy": "2021-09-21T01:59:25.240474Z",
     "iopub.status.idle": "2021-09-21T01:59:26.378216Z",
     "shell.execute_reply": "2021-09-21T01:59:26.378631Z"
    },
    "papermill": {
     "duration": 1.15716,
     "end_time": "2021-09-21T01:59:26.378768",
     "exception": false,
     "start_time": "2021-09-21T01:59:25.221608",
     "status": "completed"
    },
    "tags": []
   },
   "outputs": [
    {
     "data": {
      "image/png": "[encoded data removed]",
      "text/plain": [
       "<Figure size 1080x792 with 2 Axes>"
      ]
     },
     "metadata": {
      "needs_background": "light"
     },
     "output_type": "display_data"
    }
   ],
   "source": [
    "#hide_input\n",
    "plt.figure(figsize=(15, 11))\n",
    "sns.heatmap(df_all[sum_corr].corr(), annot=True, cmap=\"cubehelix\") \n",
    "sns.set(font_scale=1.25)\n",
    "plt.savefig('corr_matrix.png', format='eps')"
   ]
  },
  {
   "cell_type": "code",
   "execution_count": 8,
   "id": "arbitrary-sullivan",
   "metadata": {
    "execution": {
     "iopub.execute_input": "2021-09-21T01:59:26.409058Z",
     "iopub.status.busy": "2021-09-21T01:59:26.408109Z",
     "iopub.status.idle": "2021-09-21T01:59:26.433586Z",
     "shell.execute_reply": "2021-09-21T01:59:26.433067Z"
    },
    "papermill": {
     "duration": 0.041055,
     "end_time": "2021-09-21T01:59:26.433699",
     "exception": false,
     "start_time": "2021-09-21T01:59:26.392644",
     "status": "completed"
    },
    "tags": []
   },
   "outputs": [],
   "source": [
    "#hide\n",
    "#df_all_mrk = read_api()"
   ]
  },
  {
   "cell_type": "code",
   "execution_count": 9,
   "id": "delayed-adapter",
   "metadata": {
    "execution": {
     "iopub.execute_input": "2021-09-21T01:59:26.463017Z",
     "iopub.status.busy": "2021-09-21T01:59:26.462522Z",
     "iopub.status.idle": "2021-09-21T01:59:26.487592Z",
     "shell.execute_reply": "2021-09-21T01:59:26.487099Z"
    },
    "papermill": {
     "duration": 0.040009,
     "end_time": "2021-09-21T01:59:26.487704",
     "exception": false,
     "start_time": "2021-09-21T01:59:26.447695",
     "status": "completed"
    },
    "tags": []
   },
   "outputs": [],
   "source": [
    "#hide\n",
    "#Koreliacijų koeficientai"
   ]
  },
  {
   "cell_type": "code",
   "execution_count": 10,
   "id": "seeing-celebration",
   "metadata": {
    "execution": {
     "iopub.execute_input": "2021-09-21T01:59:26.517011Z",
     "iopub.status.busy": "2021-09-21T01:59:26.516490Z",
     "iopub.status.idle": "2021-09-21T01:59:26.538602Z",
     "shell.execute_reply": "2021-09-21T01:59:26.538173Z"
    },
    "papermill": {
     "duration": 0.037623,
     "end_time": "2021-09-21T01:59:26.538700",
     "exception": false,
     "start_time": "2021-09-21T01:59:26.501077",
     "status": "completed"
    },
    "tags": []
   },
   "outputs": [],
   "source": [
    "#hide_input\n",
    "#sum_corr = df_all_mrk.corr().sum().sort_values(ascending=True).index.values\n",
    "#df_all_mrk[sum_corr].corr()"
   ]
  },
  {
   "cell_type": "code",
   "execution_count": 11,
   "id": "other-painting",
   "metadata": {
    "execution": {
     "iopub.execute_input": "2021-09-21T01:59:26.571447Z",
     "iopub.status.busy": "2021-09-21T01:59:26.570954Z",
     "iopub.status.idle": "2021-09-21T01:59:26.590375Z",
     "shell.execute_reply": "2021-09-21T01:59:26.590755Z"
    },
    "papermill": {
     "duration": 0.039228,
     "end_time": "2021-09-21T01:59:26.590865",
     "exception": false,
     "start_time": "2021-09-21T01:59:26.551637",
     "status": "completed"
    },
    "tags": []
   },
   "outputs": [],
   "source": [
    "#hide\n",
    "#Koreliacijos matrica. "
   ]
  },
  {
   "cell_type": "code",
   "execution_count": 12,
   "id": "modular-magnitude",
   "metadata": {
    "execution": {
     "iopub.execute_input": "2021-09-21T01:59:26.621649Z",
     "iopub.status.busy": "2021-09-21T01:59:26.621153Z",
     "iopub.status.idle": "2021-09-21T01:59:26.641963Z",
     "shell.execute_reply": "2021-09-21T01:59:26.641544Z"
    },
    "papermill": {
     "duration": 0.038154,
     "end_time": "2021-09-21T01:59:26.642058",
     "exception": false,
     "start_time": "2021-09-21T01:59:26.603904",
     "status": "completed"
    },
    "tags": []
   },
   "outputs": [],
   "source": [
    "#hide_input\n",
    "#plt.figure(figsize=(15, 8))\n",
    "#sns.heatmap(df_all_mrk[sum_corr].corr(), annot=True, cmap=\"BrBG\");\n",
    "#plt.savefig('corr_matrix_all.eps', format='eps')"
   ]
  },
  {
   "cell_type": "code",
   "execution_count": null,
   "id": "original-senator",
   "metadata": {
    "papermill": {
     "duration": 0.01284,
     "end_time": "2021-09-21T01:59:26.667749",
     "exception": false,
     "start_time": "2021-09-21T01:59:26.654909",
     "status": "completed"
    },
    "tags": []
   },
   "outputs": [],
   "source": []
  },
  {
   "cell_type": "code",
   "execution_count": null,
   "id": "saving-secretariat",
   "metadata": {
    "papermill": {
     "duration": 0.012878,
     "end_time": "2021-09-21T01:59:26.693483",
     "exception": false,
     "start_time": "2021-09-21T01:59:26.680605",
     "status": "completed"
    },
    "tags": []
   },
   "outputs": [],
   "source": []
  }
 ],
 "metadata": {
  "kernelspec": {
   "display_name": "Python 3",
   "language": "python",
   "name": "python3"
  },
  "language_info": {
   "codemirror_mode": {
    "name": "ipython",
    "version": 3
   },
   "file_extension": ".py",
   "mimetype": "text/x-python",
   "name": "python",
   "nbconvert_exporter": "python",
   "pygments_lexer": "ipython3",
   "version": "3.6.15"
  },
  "papermill": {
   "default_parameters": {},
   "duration": 17.690571,
   "end_time": "2021-09-21T01:59:27.215175",
   "environment_variables": {},
   "exception": null,
   "input_path": "App-Correlation_charts.ipynb",
   "output_path": "App-Correlation_charts.ipynb",
   "parameters": {},
   "start_time": "2021-09-21T01:59:09.524604",
   "version": "2.2.2"
  }
 },
 "nbformat": 4,
 "nbformat_minor": 5
}