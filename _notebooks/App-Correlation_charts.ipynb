{
 "cells": [
  {
   "cell_type": "markdown",
   "id": "touched-facility",
   "metadata": {
    "papermill": {
     "duration": 0.014925,
     "end_time": "2022-01-13T02:09:28.337769",
     "exception": false,
     "start_time": "2022-01-13T02:09:28.322844",
     "status": "completed"
    },
    "tags": []
   },
   "source": [
    "# Koreliacijų matrica\n",
    "> Išplėstinė koreliacijų matrica. \n",
    "\n",
    "- toc: true \n",
    "- badges: true\n",
    "- comments: false\n",
    "- categories: [Dominykas Tautkus]\n",
    "- image: images/matrix.png"
   ]
  },
  {
   "cell_type": "code",
   "execution_count": null,
   "id": "premium-weekend",
   "metadata": {
    "papermill": {
     "duration": 0.010926,
     "end_time": "2022-01-13T02:09:28.360106",
     "exception": false,
     "start_time": "2022-01-13T02:09:28.349180",
     "status": "completed"
    },
    "tags": []
   },
   "outputs": [],
   "source": []
  },
  {
   "cell_type": "code",
   "execution_count": 1,
   "id": "vertical-rebate",
   "metadata": {
    "execution": {
     "iopub.execute_input": "2022-01-13T02:09:28.391810Z",
     "iopub.status.busy": "2022-01-13T02:09:28.391296Z",
     "iopub.status.idle": "2022-01-13T02:09:28.400869Z",
     "shell.execute_reply": "2022-01-13T02:09:28.401363Z"
    },
    "papermill": {
     "duration": 0.030834,
     "end_time": "2022-01-13T02:09:28.401497",
     "exception": false,
     "start_time": "2022-01-13T02:09:28.370663",
     "status": "completed"
    },
    "tags": []
   },
   "outputs": [],
   "source": [
    "#hide\n",
    "%load_ext autoreload\n",
    "%autoreload 2"
   ]
  },
  {
   "cell_type": "code",
   "execution_count": 2,
   "id": "overall-advancement",
   "metadata": {
    "execution": {
     "iopub.execute_input": "2022-01-13T02:09:28.425491Z",
     "iopub.status.busy": "2022-01-13T02:09:28.424986Z",
     "iopub.status.idle": "2022-01-13T02:09:29.599238Z",
     "shell.execute_reply": "2022-01-13T02:09:29.599721Z"
    },
    "papermill": {
     "duration": 1.187948,
     "end_time": "2022-01-13T02:09:29.599893",
     "exception": false,
     "start_time": "2022-01-13T02:09:28.411945",
     "status": "completed"
    },
    "tags": []
   },
   "outputs": [],
   "source": [
    "#hide\n",
    "from scripts.read_data import read_api\n",
    "from IPython.display import HTML\n",
    "import plotly.graph_objects as go\n"
   ]
  },
  {
   "cell_type": "code",
   "execution_count": 3,
   "id": "light-crazy",
   "metadata": {
    "execution": {
     "iopub.execute_input": "2022-01-13T02:09:29.630968Z",
     "iopub.status.busy": "2022-01-13T02:09:29.630427Z",
     "iopub.status.idle": "2022-01-13T02:09:29.650365Z",
     "shell.execute_reply": "2022-01-13T02:09:29.649761Z"
    },
    "papermill": {
     "duration": 0.038857,
     "end_time": "2022-01-13T02:09:29.650489",
     "exception": false,
     "start_time": "2022-01-13T02:09:29.611632",
     "status": "completed"
    },
    "tags": []
   },
   "outputs": [],
   "source": [
    "#hide\n",
    "### ICO koreliacija"
   ]
  },
  {
   "cell_type": "code",
   "execution_count": 4,
   "id": "likely-bahrain",
   "metadata": {
    "execution": {
     "iopub.execute_input": "2022-01-13T02:09:29.677053Z",
     "iopub.status.busy": "2022-01-13T02:09:29.676551Z",
     "iopub.status.idle": "2022-01-13T02:09:30.558837Z",
     "shell.execute_reply": "2022-01-13T02:09:30.557795Z"
    },
    "papermill": {
     "duration": 0.896993,
     "end_time": "2022-01-13T02:09:30.558992",
     "exception": false,
     "start_time": "2022-01-13T02:09:29.661999",
     "status": "completed"
    },
    "tags": []
   },
   "outputs": [],
   "source": [
    "#hide\n",
    "import matplotlib.pyplot as plt\n",
    "import numpy as np\n",
    "import pandas as pd\n",
    "import seaborn as sns\n",
    "import matplotlib.pyplot as plt \n",
    "import matplotlib.dates as mdates\n",
    "import matplotlib.pyplot as plt"
   ]
  },
  {
   "cell_type": "code",
   "execution_count": 5,
   "id": "superior-blanket",
   "metadata": {
    "execution": {
     "iopub.execute_input": "2022-01-13T02:09:30.585171Z",
     "iopub.status.busy": "2022-01-13T02:09:30.584656Z",
     "iopub.status.idle": "2022-01-13T02:09:42.623624Z",
     "shell.execute_reply": "2022-01-13T02:09:42.623105Z"
    },
    "papermill": {
     "duration": 12.053588,
     "end_time": "2022-01-13T02:09:42.623763",
     "exception": false,
     "start_time": "2022-01-13T02:09:30.570175",
     "status": "completed"
    },
    "tags": []
   },
   "outputs": [
    {
     "name": "stderr",
     "output_type": "stream",
     "text": [
      "/home/runner/work/corr-app/corr-app/_notebooks/scripts/read_data.py:187: SettingWithCopyWarning:\n",
      "\n",
      "\n",
      "A value is trying to be set on a copy of a slice from a DataFrame.\n",
      "Try using .loc[row_indexer,col_indexer] = value instead\n",
      "\n",
      "See the caveats in the documentation: https://pandas.pydata.org/pandas-docs/stable/user_guide/indexing.html#returning-a-view-versus-a-copy\n",
      "\n"
     ]
    },
    {
     "name": "stderr",
     "output_type": "stream",
     "text": [
      "/home/runner/work/corr-app/corr-app/_notebooks/scripts/read_data.py:215: SettingWithCopyWarning:\n",
      "\n",
      "\n",
      "A value is trying to be set on a copy of a slice from a DataFrame.\n",
      "Try using .loc[row_indexer,col_indexer] = value instead\n",
      "\n",
      "See the caveats in the documentation: https://pandas.pydata.org/pandas-docs/stable/user_guide/indexing.html#returning-a-view-versus-a-copy\n",
      "\n"
     ]
    }
   ],
   "source": [
    "#hide\n",
    "df_all = read_api()\n",
    "#df_all = df_all.drop(['SP500', 'XAU', 'ETH', 'BTC'], axis=1)\n",
    "\n"
   ]
  },
  {
   "cell_type": "code",
   "execution_count": 6,
   "id": "mature-alert",
   "metadata": {
    "execution": {
     "iopub.execute_input": "2022-01-13T02:09:42.669762Z",
     "iopub.status.busy": "2022-01-13T02:09:42.668899Z",
     "iopub.status.idle": "2022-01-13T02:09:42.689035Z",
     "shell.execute_reply": "2022-01-13T02:09:42.688601Z"
    },
    "papermill": {
     "duration": 0.053105,
     "end_time": "2022-01-13T02:09:42.689141",
     "exception": false,
     "start_time": "2022-01-13T02:09:42.636036",
     "status": "completed"
    },
    "tags": []
   },
   "outputs": [],
   "source": [
    "#hide_input\n",
    "sum_corr = df_all.corr().sum().sort_values(ascending=True).index.values\n",
    "#df_all[sum_corr].corr()"
   ]
  },
  {
   "cell_type": "markdown",
   "id": "complex-syndicate",
   "metadata": {
    "papermill": {
     "duration": 0.010999,
     "end_time": "2022-01-13T02:09:42.711260",
     "exception": false,
     "start_time": "2022-01-13T02:09:42.700261",
     "status": "completed"
    },
    "tags": []
   },
   "source": [
    "## Išplėstinė koreliacijų matrica. "
   ]
  },
  {
   "cell_type": "code",
   "execution_count": 7,
   "id": "atomic-omaha",
   "metadata": {
    "execution": {
     "iopub.execute_input": "2022-01-13T02:09:42.748074Z",
     "iopub.status.busy": "2022-01-13T02:09:42.736665Z",
     "iopub.status.idle": "2022-01-13T02:09:44.007168Z",
     "shell.execute_reply": "2022-01-13T02:09:44.006327Z"
    },
    "papermill": {
     "duration": 1.285038,
     "end_time": "2022-01-13T02:09:44.007308",
     "exception": false,
     "start_time": "2022-01-13T02:09:42.722270",
     "status": "completed"
    },
    "tags": []
   },
   "outputs": [
    {
     "data": {
      "image/png": "[encoded data removed]",
      "text/plain": [
       "<Figure size 1080x792 with 2 Axes>"
      ]
     },
     "metadata": {
      "needs_background": "light"
     },
     "output_type": "display_data"
    }
   ],
   "source": [
    "#hide_input\n",
    "plt.figure(figsize=(15, 11))\n",
    "sns.heatmap(df_all[sum_corr].corr(), annot=True, cmap=\"cubehelix\") \n",
    "sns.set(font_scale=1.25)\n",
    "plt.savefig('corr_matrix.png', format='eps')"
   ]
  },
  {
   "cell_type": "code",
   "execution_count": 8,
   "id": "arbitrary-sullivan",
   "metadata": {
    "execution": {
     "iopub.execute_input": "2022-01-13T02:09:44.039975Z",
     "iopub.status.busy": "2022-01-13T02:09:44.038538Z",
     "iopub.status.idle": "2022-01-13T02:09:44.063816Z",
     "shell.execute_reply": "2022-01-13T02:09:44.064228Z"
    },
    "papermill": {
     "duration": 0.043492,
     "end_time": "2022-01-13T02:09:44.064366",
     "exception": false,
     "start_time": "2022-01-13T02:09:44.020874",
     "status": "completed"
    },
    "tags": []
   },
   "outputs": [],
   "source": [
    "#hide\n",
    "#df_all_mrk = read_api()"
   ]
  },
  {
   "cell_type": "code",
   "execution_count": 9,
   "id": "delayed-adapter",
   "metadata": {
    "execution": {
     "iopub.execute_input": "2022-01-13T02:09:44.105813Z",
     "iopub.status.busy": "2022-01-13T02:09:44.104856Z",
     "iopub.status.idle": "2022-01-13T02:09:44.123603Z",
     "shell.execute_reply": "2022-01-13T02:09:44.123989Z"
    },
    "papermill": {
     "duration": 0.046745,
     "end_time": "2022-01-13T02:09:44.124151",
     "exception": false,
     "start_time": "2022-01-13T02:09:44.077406",
     "status": "completed"
    },
    "tags": []
   },
   "outputs": [],
   "source": [
    "#hide\n",
    "#Koreliacijų koeficientai"
   ]
  },
  {
   "cell_type": "code",
   "execution_count": 10,
   "id": "seeing-celebration",
   "metadata": {
    "execution": {
     "iopub.execute_input": "2022-01-13T02:09:44.162750Z",
     "iopub.status.busy": "2022-01-13T02:09:44.160682Z",
     "iopub.status.idle": "2022-01-13T02:09:44.183208Z",
     "shell.execute_reply": "2022-01-13T02:09:44.182794Z"
    },
    "papermill": {
     "duration": 0.04563,
     "end_time": "2022-01-13T02:09:44.183321",
     "exception": false,
     "start_time": "2022-01-13T02:09:44.137691",
     "status": "completed"
    },
    "tags": []
   },
   "outputs": [],
   "source": [
    "#hide_input\n",
    "#sum_corr = df_all_mrk.corr().sum().sort_values(ascending=True).index.values\n",
    "#df_all_mrk[sum_corr].corr()"
   ]
  },
  {
   "cell_type": "code",
   "execution_count": 11,
   "id": "other-painting",
   "metadata": {
    "execution": {
     "iopub.execute_input": "2022-01-13T02:09:44.225570Z",
     "iopub.status.busy": "2022-01-13T02:09:44.224800Z",
     "iopub.status.idle": "2022-01-13T02:09:44.243462Z",
     "shell.execute_reply": "2022-01-13T02:09:44.243846Z"
    },
    "papermill": {
     "duration": 0.047551,
     "end_time": "2022-01-13T02:09:44.243975",
     "exception": false,
     "start_time": "2022-01-13T02:09:44.196424",
     "status": "completed"
    },
    "tags": []
   },
   "outputs": [],
   "source": [
    "#hide\n",
    "#Koreliacijos matrica. "
   ]
  },
  {
   "cell_type": "code",
   "execution_count": 12,
   "id": "modular-magnitude",
   "metadata": {
    "execution": {
     "iopub.execute_input": "2022-01-13T02:09:44.284759Z",
     "iopub.status.busy": "2022-01-13T02:09:44.272555Z",
     "iopub.status.idle": "2022-01-13T02:09:44.303164Z",
     "shell.execute_reply": "2022-01-13T02:09:44.302468Z"
    },
    "papermill": {
     "duration": 0.046094,
     "end_time": "2022-01-13T02:09:44.303276",
     "exception": false,
     "start_time": "2022-01-13T02:09:44.257182",
     "status": "completed"
    },
    "tags": []
   },
   "outputs": [],
   "source": [
    "#hide_input\n",
    "#plt.figure(figsize=(15, 8))\n",
    "#sns.heatmap(df_all_mrk[sum_corr].corr(), annot=True, cmap=\"BrBG\");\n",
    "#plt.savefig('corr_matrix_all.eps', format='eps')"
   ]
  },
  {
   "cell_type": "code",
   "execution_count": null,
   "id": "original-senator",
   "metadata": {
    "papermill": {
     "duration": 0.012939,
     "end_time": "2022-01-13T02:09:44.329253",
     "exception": false,
     "start_time": "2022-01-13T02:09:44.316314",
     "status": "completed"
    },
    "tags": []
   },
   "outputs": [],
   "source": []
  },
  {
   "cell_type": "code",
   "execution_count": null,
   "id": "saving-secretariat",
   "metadata": {
    "papermill": {
     "duration": 0.013812,
     "end_time": "2022-01-13T02:09:44.356036",
     "exception": false,
     "start_time": "2022-01-13T02:09:44.342224",
     "status": "completed"
    },
    "tags": []
   },
   "outputs": [],
   "source": []
  }
 ],
 "metadata": {
  "kernelspec": {
   "display_name": "Python 3",
   "language": "python",
   "name": "python3"
  },
  "language_info": {
   "codemirror_mode": {
    "name": "ipython",
    "version": 3
   },
   "file_extension": ".py",
   "mimetype": "text/x-python",
   "name": "python",
   "nbconvert_exporter": "python",
   "pygments_lexer": "ipython3",
   "version": "3.6.15"
  },
  "papermill": {
   "default_parameters": {},
   "duration": 17.483775,
   "end_time": "2022-01-13T02:09:44.877565",
   "environment_variables": {},
   "exception": null,
   "input_path": "App-Correlation_charts.ipynb",
   "output_path": "App-Correlation_charts.ipynb",
   "parameters": {},
   "start_time": "2022-01-13T02:09:27.393790",
   "version": "2.2.2"
  }
 },
 "nbformat": 4,
 "nbformat_minor": 5
}