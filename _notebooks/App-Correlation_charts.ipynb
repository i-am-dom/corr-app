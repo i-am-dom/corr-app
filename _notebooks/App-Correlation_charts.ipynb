{
 "cells": [
  {
   "cell_type": "markdown",
   "id": "touched-facility",
   "metadata": {
    "papermill": {
     "duration": 0.013017,
     "end_time": "2022-05-15T02:53:53.095115",
     "exception": false,
     "start_time": "2022-05-15T02:53:53.082098",
     "status": "completed"
    },
    "tags": []
   },
   "source": [
    "# Koreliacijų matrica\n",
    "> Išplėstinė koreliacijų matrica. \n",
    "\n",
    "- toc: true \n",
    "- badges: true\n",
    "- comments: false\n",
    "- categories: [Dominykas Tautkus]\n",
    "- image: images/matrix.png"
   ]
  },
  {
   "cell_type": "code",
   "execution_count": null,
   "id": "premium-weekend",
   "metadata": {
    "papermill": {
     "duration": 0.009368,
     "end_time": "2022-05-15T02:53:53.114539",
     "exception": false,
     "start_time": "2022-05-15T02:53:53.105171",
     "status": "completed"
    },
    "tags": []
   },
   "outputs": [],
   "source": []
  },
  {
   "cell_type": "code",
   "execution_count": 1,
   "id": "vertical-rebate",
   "metadata": {
    "execution": {
     "iopub.execute_input": "2022-05-15T02:53:53.144078Z",
     "iopub.status.busy": "2022-05-15T02:53:53.143611Z",
     "iopub.status.idle": "2022-05-15T02:53:53.153635Z",
     "shell.execute_reply": "2022-05-15T02:53:53.154076Z"
    },
    "papermill": {
     "duration": 0.030336,
     "end_time": "2022-05-15T02:53:53.154206",
     "exception": false,
     "start_time": "2022-05-15T02:53:53.123870",
     "status": "completed"
    },
    "tags": []
   },
   "outputs": [],
   "source": [
    "#hide\n",
    "%load_ext autoreload\n",
    "%autoreload 2"
   ]
  },
  {
   "cell_type": "code",
   "execution_count": 2,
   "id": "overall-advancement",
   "metadata": {
    "execution": {
     "iopub.execute_input": "2022-05-15T02:53:53.175752Z",
     "iopub.status.busy": "2022-05-15T02:53:53.175306Z",
     "iopub.status.idle": "2022-05-15T02:53:54.260506Z",
     "shell.execute_reply": "2022-05-15T02:53:54.259968Z"
    },
    "papermill": {
     "duration": 1.097114,
     "end_time": "2022-05-15T02:53:54.260649",
     "exception": false,
     "start_time": "2022-05-15T02:53:53.163535",
     "status": "completed"
    },
    "tags": []
   },
   "outputs": [],
   "source": [
    "#hide\n",
    "from scripts.read_data import read_api\n",
    "from IPython.display import HTML\n",
    "import plotly.graph_objects as go\n"
   ]
  },
  {
   "cell_type": "code",
   "execution_count": 3,
   "id": "light-crazy",
   "metadata": {
    "execution": {
     "iopub.execute_input": "2022-05-15T02:53:54.283786Z",
     "iopub.status.busy": "2022-05-15T02:53:54.283336Z",
     "iopub.status.idle": "2022-05-15T02:53:54.306802Z",
     "shell.execute_reply": "2022-05-15T02:53:54.306316Z"
    },
    "papermill": {
     "duration": 0.036292,
     "end_time": "2022-05-15T02:53:54.306933",
     "exception": false,
     "start_time": "2022-05-15T02:53:54.270641",
     "status": "completed"
    },
    "tags": []
   },
   "outputs": [],
   "source": [
    "#hide\n",
    "### ICO koreliacija"
   ]
  },
  {
   "cell_type": "code",
   "execution_count": 4,
   "id": "likely-bahrain",
   "metadata": {
    "execution": {
     "iopub.execute_input": "2022-05-15T02:53:54.342536Z",
     "iopub.status.busy": "2022-05-15T02:53:54.341812Z",
     "iopub.status.idle": "2022-05-15T02:53:55.165521Z",
     "shell.execute_reply": "2022-05-15T02:53:55.164952Z"
    },
    "papermill": {
     "duration": 0.848048,
     "end_time": "2022-05-15T02:53:55.165669",
     "exception": false,
     "start_time": "2022-05-15T02:53:54.317621",
     "status": "completed"
    },
    "tags": []
   },
   "outputs": [],
   "source": [
    "#hide\n",
    "import matplotlib.pyplot as plt\n",
    "import numpy as np\n",
    "import pandas as pd\n",
    "import seaborn as sns\n",
    "import matplotlib.pyplot as plt \n",
    "import matplotlib.dates as mdates\n",
    "import matplotlib.pyplot as plt"
   ]
  },
  {
   "cell_type": "code",
   "execution_count": 5,
   "id": "superior-blanket",
   "metadata": {
    "execution": {
     "iopub.execute_input": "2022-05-15T02:53:55.190853Z",
     "iopub.status.busy": "2022-05-15T02:53:55.190385Z",
     "iopub.status.idle": "2022-05-15T02:54:05.270586Z",
     "shell.execute_reply": "2022-05-15T02:54:05.271025Z"
    },
    "papermill": {
     "duration": 10.093943,
     "end_time": "2022-05-15T02:54:05.271186",
     "exception": false,
     "start_time": "2022-05-15T02:53:55.177243",
     "status": "completed"
    },
    "tags": []
   },
   "outputs": [
    {
     "name": "stderr",
     "output_type": "stream",
     "text": [
      "/home/runner/work/corr-app/corr-app/_notebooks/scripts/read_data.py:187: SettingWithCopyWarning:\n",
      "\n",
      "\n",
      "A value is trying to be set on a copy of a slice from a DataFrame.\n",
      "Try using .loc[row_indexer,col_indexer] = value instead\n",
      "\n",
      "See the caveats in the documentation: https://pandas.pydata.org/pandas-docs/stable/user_guide/indexing.html#returning-a-view-versus-a-copy\n",
      "\n"
     ]
    },
    {
     "name": "stderr",
     "output_type": "stream",
     "text": [
      "/home/runner/work/corr-app/corr-app/_notebooks/scripts/read_data.py:215: SettingWithCopyWarning:\n",
      "\n",
      "\n",
      "A value is trying to be set on a copy of a slice from a DataFrame.\n",
      "Try using .loc[row_indexer,col_indexer] = value instead\n",
      "\n",
      "See the caveats in the documentation: https://pandas.pydata.org/pandas-docs/stable/user_guide/indexing.html#returning-a-view-versus-a-copy\n",
      "\n"
     ]
    }
   ],
   "source": [
    "#hide\n",
    "df_all = read_api()\n",
    "#df_all = df_all.drop(['SP500', 'XAU', 'ETH', 'BTC'], axis=1)\n",
    "\n"
   ]
  },
  {
   "cell_type": "code",
   "execution_count": 6,
   "id": "mature-alert",
   "metadata": {
    "execution": {
     "iopub.execute_input": "2022-05-15T02:54:05.297421Z",
     "iopub.status.busy": "2022-05-15T02:54:05.296923Z",
     "iopub.status.idle": "2022-05-15T02:54:05.327792Z",
     "shell.execute_reply": "2022-05-15T02:54:05.327293Z"
    },
    "papermill": {
     "duration": 0.044982,
     "end_time": "2022-05-15T02:54:05.327925",
     "exception": false,
     "start_time": "2022-05-15T02:54:05.282943",
     "status": "completed"
    },
    "tags": []
   },
   "outputs": [],
   "source": [
    "#hide_input\n",
    "sum_corr = df_all.corr().sum().sort_values(ascending=True).index.values\n",
    "#df_all[sum_corr].corr()"
   ]
  },
  {
   "cell_type": "markdown",
   "id": "complex-syndicate",
   "metadata": {
    "papermill": {
     "duration": 0.009879,
     "end_time": "2022-05-15T02:54:05.348690",
     "exception": false,
     "start_time": "2022-05-15T02:54:05.338811",
     "status": "completed"
    },
    "tags": []
   },
   "source": [
    "## Išplėstinė koreliacijų matrica. "
   ]
  },
  {
   "cell_type": "code",
   "execution_count": 7,
   "id": "atomic-omaha",
   "metadata": {
    "execution": {
     "iopub.execute_input": "2022-05-15T02:54:05.379797Z",
     "iopub.status.busy": "2022-05-15T02:54:05.379340Z",
     "iopub.status.idle": "2022-05-15T02:54:10.639115Z",
     "shell.execute_reply": "2022-05-15T02:54:10.638608Z"
    },
    "papermill": {
     "duration": 5.279777,
     "end_time": "2022-05-15T02:54:10.639245",
     "exception": false,
     "start_time": "2022-05-15T02:54:05.359468",
     "status": "completed"
    },
    "tags": []
   },
   "outputs": [
    {
     "data": {
      "image/png": "[encoded data removed]",
      "text/plain": [
       "<Figure size 1080x792 with 2 Axes>"
      ]
     },
     "metadata": {
      "needs_background": "light"
     },
     "output_type": "display_data"
    }
   ],
   "source": [
    "#hide_input\n",
    "plt.figure(figsize=(15, 11))\n",
    "sns.heatmap(df_all[sum_corr].corr(), annot=True, cmap=\"cubehelix\") \n",
    "sns.set(font_scale=1.25)\n",
    "plt.savefig('corr_matrix.png', format='eps')"
   ]
  },
  {
   "cell_type": "code",
   "execution_count": 8,
   "id": "arbitrary-sullivan",
   "metadata": {
    "execution": {
     "iopub.execute_input": "2022-05-15T02:54:10.671890Z",
     "iopub.status.busy": "2022-05-15T02:54:10.667603Z",
     "iopub.status.idle": "2022-05-15T02:54:10.696899Z",
     "shell.execute_reply": "2022-05-15T02:54:10.697356Z"
    },
    "papermill": {
     "duration": 0.044943,
     "end_time": "2022-05-15T02:54:10.697506",
     "exception": false,
     "start_time": "2022-05-15T02:54:10.652563",
     "status": "completed"
    },
    "tags": []
   },
   "outputs": [],
   "source": [
    "#hide\n",
    "#df_all_mrk = read_api()"
   ]
  },
  {
   "cell_type": "code",
   "execution_count": 9,
   "id": "delayed-adapter",
   "metadata": {
    "execution": {
     "iopub.execute_input": "2022-05-15T02:54:10.737252Z",
     "iopub.status.busy": "2022-05-15T02:54:10.736680Z",
     "iopub.status.idle": "2022-05-15T02:54:10.757820Z",
     "shell.execute_reply": "2022-05-15T02:54:10.757399Z"
    },
    "papermill": {
     "duration": 0.046543,
     "end_time": "2022-05-15T02:54:10.757941",
     "exception": false,
     "start_time": "2022-05-15T02:54:10.711398",
     "status": "completed"
    },
    "tags": []
   },
   "outputs": [],
   "source": [
    "#hide\n",
    "#Koreliacijų koeficientai"
   ]
  },
  {
   "cell_type": "code",
   "execution_count": 10,
   "id": "seeing-celebration",
   "metadata": {
    "execution": {
     "iopub.execute_input": "2022-05-15T02:54:10.795887Z",
     "iopub.status.busy": "2022-05-15T02:54:10.795234Z",
     "iopub.status.idle": "2022-05-15T02:54:10.819764Z",
     "shell.execute_reply": "2022-05-15T02:54:10.819232Z"
    },
    "papermill": {
     "duration": 0.046338,
     "end_time": "2022-05-15T02:54:10.819895",
     "exception": false,
     "start_time": "2022-05-15T02:54:10.773557",
     "status": "completed"
    },
    "tags": []
   },
   "outputs": [],
   "source": [
    "#hide_input\n",
    "#sum_corr = df_all_mrk.corr().sum().sort_values(ascending=True).index.values\n",
    "#df_all_mrk[sum_corr].corr()"
   ]
  },
  {
   "cell_type": "code",
   "execution_count": 11,
   "id": "other-painting",
   "metadata": {
    "execution": {
     "iopub.execute_input": "2022-05-15T02:54:10.848689Z",
     "iopub.status.busy": "2022-05-15T02:54:10.848243Z",
     "iopub.status.idle": "2022-05-15T02:54:10.873929Z",
     "shell.execute_reply": "2022-05-15T02:54:10.874381Z"
    },
    "papermill": {
     "duration": 0.040416,
     "end_time": "2022-05-15T02:54:10.874524",
     "exception": false,
     "start_time": "2022-05-15T02:54:10.834108",
     "status": "completed"
    },
    "tags": []
   },
   "outputs": [],
   "source": [
    "#hide\n",
    "#Koreliacijos matrica. "
   ]
  },
  {
   "cell_type": "code",
   "execution_count": 12,
   "id": "modular-magnitude",
   "metadata": {
    "execution": {
     "iopub.execute_input": "2022-05-15T02:54:10.906703Z",
     "iopub.status.busy": "2022-05-15T02:54:10.906253Z",
     "iopub.status.idle": "2022-05-15T02:54:10.927890Z",
     "shell.execute_reply": "2022-05-15T02:54:10.928253Z"
    },
    "papermill": {
     "duration": 0.041285,
     "end_time": "2022-05-15T02:54:10.928368",
     "exception": false,
     "start_time": "2022-05-15T02:54:10.887083",
     "status": "completed"
    },
    "tags": []
   },
   "outputs": [],
   "source": [
    "#hide_input\n",
    "#plt.figure(figsize=(15, 8))\n",
    "#sns.heatmap(df_all_mrk[sum_corr].corr(), annot=True, cmap=\"BrBG\");\n",
    "#plt.savefig('corr_matrix_all.eps', format='eps')"
   ]
  },
  {
   "cell_type": "code",
   "execution_count": null,
   "id": "original-senator",
   "metadata": {
    "papermill": {
     "duration": 0.012228,
     "end_time": "2022-05-15T02:54:10.952227",
     "exception": false,
     "start_time": "2022-05-15T02:54:10.939999",
     "status": "completed"
    },
    "tags": []
   },
   "outputs": [],
   "source": []
  },
  {
   "cell_type": "code",
   "execution_count": null,
   "id": "saving-secretariat",
   "metadata": {
    "papermill": {
     "duration": 0.011569,
     "end_time": "2022-05-15T02:54:10.975713",
     "exception": false,
     "start_time": "2022-05-15T02:54:10.964144",
     "status": "completed"
    },
    "tags": []
   },
   "outputs": [],
   "source": []
  }
 ],
 "metadata": {
  "kernelspec": {
   "display_name": "Python 3",
   "language": "python",
   "name": "python3"
  },
  "language_info": {
   "codemirror_mode": {
    "name": "ipython",
    "version": 3
   },
   "file_extension": ".py",
   "mimetype": "text/x-python",
   "name": "python",
   "nbconvert_exporter": "python",
   "pygments_lexer": "ipython3",
   "version": "3.6.15"
  },
  "papermill": {
   "default_parameters": {},
   "duration": 19.324908,
   "end_time": "2022-05-15T02:54:11.506942",
   "environment_variables": {},
   "exception": null,
   "input_path": "App-Correlation_charts.ipynb",
   "output_path": "App-Correlation_charts.ipynb",
   "parameters": {},
   "start_time": "2022-05-15T02:53:52.182034",
   "version": "2.2.2"
  }
 },
 "nbformat": 4,
 "nbformat_minor": 5
}