{
 "cells": [
  {
   "cell_type": "markdown",
   "id": "touched-facility",
   "metadata": {
    "papermill": {
     "duration": 0.015696,
     "end_time": "2022-09-07T03:47:50.828835",
     "exception": false,
     "start_time": "2022-09-07T03:47:50.813139",
     "status": "completed"
    },
    "tags": []
   },
   "source": [
    "# Koreliacijų matrica\n",
    "> Išplėstinė koreliacijų matrica. \n",
    "\n",
    "- toc: true \n",
    "- badges: true\n",
    "- comments: false\n",
    "- categories: [Dominykas Tautkus]\n",
    "- image: images/matrix.png"
   ]
  },
  {
   "cell_type": "code",
   "execution_count": null,
   "id": "premium-weekend",
   "metadata": {
    "papermill": {
     "duration": 0.010633,
     "end_time": "2022-09-07T03:47:50.850944",
     "exception": false,
     "start_time": "2022-09-07T03:47:50.840311",
     "status": "completed"
    },
    "tags": []
   },
   "outputs": [],
   "source": []
  },
  {
   "cell_type": "code",
   "execution_count": 1,
   "id": "vertical-rebate",
   "metadata": {
    "execution": {
     "iopub.execute_input": "2022-09-07T03:47:50.882321Z",
     "iopub.status.busy": "2022-09-07T03:47:50.879964Z",
     "iopub.status.idle": "2022-09-07T03:47:50.892571Z",
     "shell.execute_reply": "2022-09-07T03:47:50.893081Z"
    },
    "papermill": {
     "duration": 0.031566,
     "end_time": "2022-09-07T03:47:50.893228",
     "exception": false,
     "start_time": "2022-09-07T03:47:50.861662",
     "status": "completed"
    },
    "tags": []
   },
   "outputs": [],
   "source": [
    "#hide\n",
    "%load_ext autoreload\n",
    "%autoreload 2"
   ]
  },
  {
   "cell_type": "code",
   "execution_count": 2,
   "id": "overall-advancement",
   "metadata": {
    "execution": {
     "iopub.execute_input": "2022-09-07T03:47:50.917742Z",
     "iopub.status.busy": "2022-09-07T03:47:50.917167Z",
     "iopub.status.idle": "2022-09-07T03:47:52.334132Z",
     "shell.execute_reply": "2022-09-07T03:47:52.333544Z"
    },
    "papermill": {
     "duration": 1.430502,
     "end_time": "2022-09-07T03:47:52.334279",
     "exception": false,
     "start_time": "2022-09-07T03:47:50.903777",
     "status": "completed"
    },
    "tags": []
   },
   "outputs": [],
   "source": [
    "#hide\n",
    "from scripts.read_data import read_api\n",
    "from IPython.display import HTML\n",
    "import plotly.graph_objects as go\n"
   ]
  },
  {
   "cell_type": "code",
   "execution_count": 3,
   "id": "light-crazy",
   "metadata": {
    "execution": {
     "iopub.execute_input": "2022-09-07T03:47:52.361394Z",
     "iopub.status.busy": "2022-09-07T03:47:52.360796Z",
     "iopub.status.idle": "2022-09-07T03:47:52.383946Z",
     "shell.execute_reply": "2022-09-07T03:47:52.383431Z"
    },
    "papermill": {
     "duration": 0.038434,
     "end_time": "2022-09-07T03:47:52.384071",
     "exception": false,
     "start_time": "2022-09-07T03:47:52.345637",
     "status": "completed"
    },
    "tags": []
   },
   "outputs": [],
   "source": [
    "#hide\n",
    "### ICO koreliacija"
   ]
  },
  {
   "cell_type": "code",
   "execution_count": 4,
   "id": "likely-bahrain",
   "metadata": {
    "execution": {
     "iopub.execute_input": "2022-09-07T03:47:52.409379Z",
     "iopub.status.busy": "2022-09-07T03:47:52.408793Z",
     "iopub.status.idle": "2022-09-07T03:47:53.251141Z",
     "shell.execute_reply": "2022-09-07T03:47:53.249863Z"
    },
    "papermill": {
     "duration": 0.856201,
     "end_time": "2022-09-07T03:47:53.251278",
     "exception": false,
     "start_time": "2022-09-07T03:47:52.395077",
     "status": "completed"
    },
    "tags": []
   },
   "outputs": [],
   "source": [
    "#hide\n",
    "import matplotlib.pyplot as plt\n",
    "import numpy as np\n",
    "import pandas as pd\n",
    "import seaborn as sns\n",
    "import matplotlib.pyplot as plt \n",
    "import matplotlib.dates as mdates\n",
    "import matplotlib.pyplot as plt"
   ]
  },
  {
   "cell_type": "code",
   "execution_count": 5,
   "id": "superior-blanket",
   "metadata": {
    "execution": {
     "iopub.execute_input": "2022-09-07T03:47:53.282835Z",
     "iopub.status.busy": "2022-09-07T03:47:53.282234Z",
     "iopub.status.idle": "2022-09-07T03:48:03.976154Z",
     "shell.execute_reply": "2022-09-07T03:48:03.975599Z"
    },
    "papermill": {
     "duration": 10.713546,
     "end_time": "2022-09-07T03:48:03.976321",
     "exception": false,
     "start_time": "2022-09-07T03:47:53.262775",
     "status": "completed"
    },
    "tags": []
   },
   "outputs": [
    {
     "name": "stderr",
     "output_type": "stream",
     "text": [
      "/home/runner/work/corr-app/corr-app/_notebooks/scripts/read_data.py:187: SettingWithCopyWarning:\n",
      "\n",
      "\n",
      "A value is trying to be set on a copy of a slice from a DataFrame.\n",
      "Try using .loc[row_indexer,col_indexer] = value instead\n",
      "\n",
      "See the caveats in the documentation: https://pandas.pydata.org/pandas-docs/stable/user_guide/indexing.html#returning-a-view-versus-a-copy\n",
      "\n"
     ]
    },
    {
     "name": "stderr",
     "output_type": "stream",
     "text": [
      "/home/runner/work/corr-app/corr-app/_notebooks/scripts/read_data.py:215: SettingWithCopyWarning:\n",
      "\n",
      "\n",
      "A value is trying to be set on a copy of a slice from a DataFrame.\n",
      "Try using .loc[row_indexer,col_indexer] = value instead\n",
      "\n",
      "See the caveats in the documentation: https://pandas.pydata.org/pandas-docs/stable/user_guide/indexing.html#returning-a-view-versus-a-copy\n",
      "\n"
     ]
    }
   ],
   "source": [
    "#hide\n",
    "df_all = read_api()\n",
    "#df_all = df_all.drop(['SP500', 'XAU', 'ETH', 'BTC'], axis=1)\n",
    "\n"
   ]
  },
  {
   "cell_type": "code",
   "execution_count": 6,
   "id": "mature-alert",
   "metadata": {
    "execution": {
     "iopub.execute_input": "2022-09-07T03:48:04.015501Z",
     "iopub.status.busy": "2022-09-07T03:48:04.014714Z",
     "iopub.status.idle": "2022-09-07T03:48:04.045415Z",
     "shell.execute_reply": "2022-09-07T03:48:04.045889Z"
    },
    "papermill": {
     "duration": 0.052979,
     "end_time": "2022-09-07T03:48:04.046029",
     "exception": false,
     "start_time": "2022-09-07T03:48:03.993050",
     "status": "completed"
    },
    "tags": []
   },
   "outputs": [],
   "source": [
    "#hide_input\n",
    "sum_corr = df_all.corr().sum().sort_values(ascending=True).index.values\n",
    "#df_all[sum_corr].corr()"
   ]
  },
  {
   "cell_type": "markdown",
   "id": "complex-syndicate",
   "metadata": {
    "papermill": {
     "duration": 0.011992,
     "end_time": "2022-09-07T03:48:04.070708",
     "exception": false,
     "start_time": "2022-09-07T03:48:04.058716",
     "status": "completed"
    },
    "tags": []
   },
   "source": [
    "## Išplėstinė koreliacijų matrica. "
   ]
  },
  {
   "cell_type": "code",
   "execution_count": 7,
   "id": "atomic-omaha",
   "metadata": {
    "execution": {
     "iopub.execute_input": "2022-09-07T03:48:04.110189Z",
     "iopub.status.busy": "2022-09-07T03:48:04.109464Z",
     "iopub.status.idle": "2022-09-07T03:48:05.319568Z",
     "shell.execute_reply": "2022-09-07T03:48:05.320048Z"
    },
    "papermill": {
     "duration": 1.233134,
     "end_time": "2022-09-07T03:48:05.320198",
     "exception": false,
     "start_time": "2022-09-07T03:48:04.087064",
     "status": "completed"
    },
    "tags": []
   },
   "outputs": [
    {
     "data": {
      "image/png": "[encoded data removed]",
      "text/plain": [
       "<Figure size 1080x792 with 2 Axes>"
      ]
     },
     "metadata": {
      "needs_background": "light"
     },
     "output_type": "display_data"
    }
   ],
   "source": [
    "#hide_input\n",
    "plt.figure(figsize=(15, 11))\n",
    "sns.heatmap(df_all[sum_corr].corr(), annot=True, cmap=\"cubehelix\") \n",
    "sns.set(font_scale=1.25)\n",
    "plt.savefig('corr_matrix.png', format='eps')"
   ]
  },
  {
   "cell_type": "code",
   "execution_count": 8,
   "id": "arbitrary-sullivan",
   "metadata": {
    "execution": {
     "iopub.execute_input": "2022-09-07T03:48:05.351743Z",
     "iopub.status.busy": "2022-09-07T03:48:05.351137Z",
     "iopub.status.idle": "2022-09-07T03:48:05.378335Z",
     "shell.execute_reply": "2022-09-07T03:48:05.379506Z"
    },
    "papermill": {
     "duration": 0.045717,
     "end_time": "2022-09-07T03:48:05.379675",
     "exception": false,
     "start_time": "2022-09-07T03:48:05.333958",
     "status": "completed"
    },
    "tags": []
   },
   "outputs": [],
   "source": [
    "#hide\n",
    "#df_all_mrk = read_api()"
   ]
  },
  {
   "cell_type": "code",
   "execution_count": 9,
   "id": "delayed-adapter",
   "metadata": {
    "execution": {
     "iopub.execute_input": "2022-09-07T03:48:05.410047Z",
     "iopub.status.busy": "2022-09-07T03:48:05.409477Z",
     "iopub.status.idle": "2022-09-07T03:48:05.436449Z",
     "shell.execute_reply": "2022-09-07T03:48:05.435960Z"
    },
    "papermill": {
     "duration": 0.043002,
     "end_time": "2022-09-07T03:48:05.436558",
     "exception": false,
     "start_time": "2022-09-07T03:48:05.393556",
     "status": "completed"
    },
    "tags": []
   },
   "outputs": [],
   "source": [
    "#hide\n",
    "#Koreliacijų koeficientai"
   ]
  },
  {
   "cell_type": "code",
   "execution_count": 10,
   "id": "seeing-celebration",
   "metadata": {
    "execution": {
     "iopub.execute_input": "2022-09-07T03:48:05.474560Z",
     "iopub.status.busy": "2022-09-07T03:48:05.473493Z",
     "iopub.status.idle": "2022-09-07T03:48:05.495448Z",
     "shell.execute_reply": "2022-09-07T03:48:05.494966Z"
    },
    "papermill": {
     "duration": 0.045657,
     "end_time": "2022-09-07T03:48:05.495560",
     "exception": false,
     "start_time": "2022-09-07T03:48:05.449903",
     "status": "completed"
    },
    "tags": []
   },
   "outputs": [],
   "source": [
    "#hide_input\n",
    "#sum_corr = df_all_mrk.corr().sum().sort_values(ascending=True).index.values\n",
    "#df_all_mrk[sum_corr].corr()"
   ]
  },
  {
   "cell_type": "code",
   "execution_count": 11,
   "id": "other-painting",
   "metadata": {
    "execution": {
     "iopub.execute_input": "2022-09-07T03:48:05.533487Z",
     "iopub.status.busy": "2022-09-07T03:48:05.527346Z",
     "iopub.status.idle": "2022-09-07T03:48:05.556215Z",
     "shell.execute_reply": "2022-09-07T03:48:05.555494Z"
    },
    "papermill": {
     "duration": 0.047526,
     "end_time": "2022-09-07T03:48:05.556331",
     "exception": false,
     "start_time": "2022-09-07T03:48:05.508805",
     "status": "completed"
    },
    "tags": []
   },
   "outputs": [],
   "source": [
    "#hide\n",
    "#Koreliacijos matrica. "
   ]
  },
  {
   "cell_type": "code",
   "execution_count": 12,
   "id": "modular-magnitude",
   "metadata": {
    "execution": {
     "iopub.execute_input": "2022-09-07T03:48:05.590130Z",
     "iopub.status.busy": "2022-09-07T03:48:05.589526Z",
     "iopub.status.idle": "2022-09-07T03:48:05.614819Z",
     "shell.execute_reply": "2022-09-07T03:48:05.614282Z"
    },
    "papermill": {
     "duration": 0.04513,
     "end_time": "2022-09-07T03:48:05.614943",
     "exception": false,
     "start_time": "2022-09-07T03:48:05.569813",
     "status": "completed"
    },
    "tags": []
   },
   "outputs": [],
   "source": [
    "#hide_input\n",
    "#plt.figure(figsize=(15, 8))\n",
    "#sns.heatmap(df_all_mrk[sum_corr].corr(), annot=True, cmap=\"BrBG\");\n",
    "#plt.savefig('corr_matrix_all.eps', format='eps')"
   ]
  },
  {
   "cell_type": "code",
   "execution_count": null,
   "id": "original-senator",
   "metadata": {
    "papermill": {
     "duration": 0.013679,
     "end_time": "2022-09-07T03:48:05.642255",
     "exception": false,
     "start_time": "2022-09-07T03:48:05.628576",
     "status": "completed"
    },
    "tags": []
   },
   "outputs": [],
   "source": []
  },
  {
   "cell_type": "code",
   "execution_count": null,
   "id": "saving-secretariat",
   "metadata": {
    "papermill": {
     "duration": 0.013141,
     "end_time": "2022-09-07T03:48:05.668809",
     "exception": false,
     "start_time": "2022-09-07T03:48:05.655668",
     "status": "completed"
    },
    "tags": []
   },
   "outputs": [],
   "source": []
  }
 ],
 "metadata": {
  "kernelspec": {
   "display_name": "Python 3",
   "language": "python",
   "name": "python3"
  },
  "language_info": {
   "codemirror_mode": {
    "name": "ipython",
    "version": 3
   },
   "file_extension": ".py",
   "mimetype": "text/x-python",
   "name": "python",
   "nbconvert_exporter": "python",
   "pygments_lexer": "ipython3",
   "version": "3.6.15"
  },
  "papermill": {
   "default_parameters": {},
   "duration": 16.31814,
   "end_time": "2022-09-07T03:48:06.202162",
   "environment_variables": {},
   "exception": null,
   "input_path": "App-Correlation_charts.ipynb",
   "output_path": "App-Correlation_charts.ipynb",
   "parameters": {},
   "start_time": "2022-09-07T03:47:49.884022",
   "version": "2.2.2"
  }
 },
 "nbformat": 4,
 "nbformat_minor": 5
}