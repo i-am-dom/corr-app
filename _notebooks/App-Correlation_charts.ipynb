{
 "cells": [
  {
   "cell_type": "markdown",
   "id": "touched-facility",
   "metadata": {
    "papermill": {
     "duration": 0.020477,
     "end_time": "2021-12-09T02:01:55.212761",
     "exception": false,
     "start_time": "2021-12-09T02:01:55.192284",
     "status": "completed"
    },
    "tags": []
   },
   "source": [
    "# Koreliacijų matrica\n",
    "> Išplėstinė koreliacijų matrica. \n",
    "\n",
    "- toc: true \n",
    "- badges: true\n",
    "- comments: false\n",
    "- categories: [Dominykas Tautkus]\n",
    "- image: images/matrix.png"
   ]
  },
  {
   "cell_type": "code",
   "execution_count": null,
   "id": "premium-weekend",
   "metadata": {
    "papermill": {
     "duration": 0.012207,
     "end_time": "2021-12-09T02:01:55.238462",
     "exception": false,
     "start_time": "2021-12-09T02:01:55.226255",
     "status": "completed"
    },
    "tags": []
   },
   "outputs": [],
   "source": []
  },
  {
   "cell_type": "code",
   "execution_count": 1,
   "id": "vertical-rebate",
   "metadata": {
    "execution": {
     "iopub.execute_input": "2021-12-09T02:01:55.278563Z",
     "iopub.status.busy": "2021-12-09T02:01:55.276546Z",
     "iopub.status.idle": "2021-12-09T02:01:55.290415Z",
     "shell.execute_reply": "2021-12-09T02:01:55.289831Z"
    },
    "papermill": {
     "duration": 0.039904,
     "end_time": "2021-12-09T02:01:55.290568",
     "exception": false,
     "start_time": "2021-12-09T02:01:55.250664",
     "status": "completed"
    },
    "tags": []
   },
   "outputs": [],
   "source": [
    "#hide\n",
    "%load_ext autoreload\n",
    "%autoreload 2"
   ]
  },
  {
   "cell_type": "code",
   "execution_count": 2,
   "id": "overall-advancement",
   "metadata": {
    "execution": {
     "iopub.execute_input": "2021-12-09T02:01:55.319940Z",
     "iopub.status.busy": "2021-12-09T02:01:55.319252Z",
     "iopub.status.idle": "2021-12-09T02:01:56.768415Z",
     "shell.execute_reply": "2021-12-09T02:01:56.767870Z"
    },
    "papermill": {
     "duration": 1.465333,
     "end_time": "2021-12-09T02:01:56.768553",
     "exception": false,
     "start_time": "2021-12-09T02:01:55.303220",
     "status": "completed"
    },
    "tags": []
   },
   "outputs": [],
   "source": [
    "#hide\n",
    "from scripts.read_data import read_api\n",
    "from IPython.display import HTML\n",
    "import plotly.graph_objects as go\n"
   ]
  },
  {
   "cell_type": "code",
   "execution_count": 3,
   "id": "light-crazy",
   "metadata": {
    "execution": {
     "iopub.execute_input": "2021-12-09T02:01:56.800109Z",
     "iopub.status.busy": "2021-12-09T02:01:56.799450Z",
     "iopub.status.idle": "2021-12-09T02:01:56.825008Z",
     "shell.execute_reply": "2021-12-09T02:01:56.824291Z"
    },
    "papermill": {
     "duration": 0.043867,
     "end_time": "2021-12-09T02:01:56.825182",
     "exception": false,
     "start_time": "2021-12-09T02:01:56.781315",
     "status": "completed"
    },
    "tags": []
   },
   "outputs": [],
   "source": [
    "#hide\n",
    "### ICO koreliacija"
   ]
  },
  {
   "cell_type": "code",
   "execution_count": 4,
   "id": "likely-bahrain",
   "metadata": {
    "execution": {
     "iopub.execute_input": "2021-12-09T02:01:56.858569Z",
     "iopub.status.busy": "2021-12-09T02:01:56.857558Z",
     "iopub.status.idle": "2021-12-09T02:01:57.910941Z",
     "shell.execute_reply": "2021-12-09T02:01:57.909831Z"
    },
    "papermill": {
     "duration": 1.072283,
     "end_time": "2021-12-09T02:01:57.911124",
     "exception": false,
     "start_time": "2021-12-09T02:01:56.838841",
     "status": "completed"
    },
    "tags": []
   },
   "outputs": [],
   "source": [
    "#hide\n",
    "import matplotlib.pyplot as plt\n",
    "import numpy as np\n",
    "import pandas as pd\n",
    "import seaborn as sns\n",
    "import matplotlib.pyplot as plt \n",
    "import matplotlib.dates as mdates\n",
    "import matplotlib.pyplot as plt"
   ]
  },
  {
   "cell_type": "code",
   "execution_count": 5,
   "id": "superior-blanket",
   "metadata": {
    "execution": {
     "iopub.execute_input": "2021-12-09T02:01:57.942131Z",
     "iopub.status.busy": "2021-12-09T02:01:57.941428Z",
     "iopub.status.idle": "2021-12-09T02:02:10.692448Z",
     "shell.execute_reply": "2021-12-09T02:02:10.691884Z"
    },
    "papermill": {
     "duration": 12.768937,
     "end_time": "2021-12-09T02:02:10.692581",
     "exception": false,
     "start_time": "2021-12-09T02:01:57.923644",
     "status": "completed"
    },
    "tags": []
   },
   "outputs": [
    {
     "name": "stderr",
     "output_type": "stream",
     "text": [
      "/home/runner/work/corr-app/corr-app/_notebooks/scripts/read_data.py:187: SettingWithCopyWarning:\n",
      "\n",
      "\n",
      "A value is trying to be set on a copy of a slice from a DataFrame.\n",
      "Try using .loc[row_indexer,col_indexer] = value instead\n",
      "\n",
      "See the caveats in the documentation: https://pandas.pydata.org/pandas-docs/stable/user_guide/indexing.html#returning-a-view-versus-a-copy\n",
      "\n"
     ]
    },
    {
     "name": "stderr",
     "output_type": "stream",
     "text": [
      "/home/runner/work/corr-app/corr-app/_notebooks/scripts/read_data.py:215: SettingWithCopyWarning:\n",
      "\n",
      "\n",
      "A value is trying to be set on a copy of a slice from a DataFrame.\n",
      "Try using .loc[row_indexer,col_indexer] = value instead\n",
      "\n",
      "See the caveats in the documentation: https://pandas.pydata.org/pandas-docs/stable/user_guide/indexing.html#returning-a-view-versus-a-copy\n",
      "\n"
     ]
    }
   ],
   "source": [
    "#hide\n",
    "df_all = read_api()\n",
    "#df_all = df_all.drop(['SP500', 'XAU', 'ETH', 'BTC'], axis=1)\n",
    "\n"
   ]
  },
  {
   "cell_type": "code",
   "execution_count": 6,
   "id": "mature-alert",
   "metadata": {
    "execution": {
     "iopub.execute_input": "2021-12-09T02:02:10.723419Z",
     "iopub.status.busy": "2021-12-09T02:02:10.722743Z",
     "iopub.status.idle": "2021-12-09T02:02:10.756527Z",
     "shell.execute_reply": "2021-12-09T02:02:10.755987Z"
    },
    "papermill": {
     "duration": 0.050919,
     "end_time": "2021-12-09T02:02:10.756667",
     "exception": false,
     "start_time": "2021-12-09T02:02:10.705748",
     "status": "completed"
    },
    "tags": []
   },
   "outputs": [],
   "source": [
    "#hide_input\n",
    "sum_corr = df_all.corr().sum().sort_values(ascending=True).index.values\n",
    "#df_all[sum_corr].corr()"
   ]
  },
  {
   "cell_type": "markdown",
   "id": "complex-syndicate",
   "metadata": {
    "papermill": {
     "duration": 0.015205,
     "end_time": "2021-12-09T02:02:10.787497",
     "exception": false,
     "start_time": "2021-12-09T02:02:10.772292",
     "status": "completed"
    },
    "tags": []
   },
   "source": [
    "## Išplėstinė koreliacijų matrica. "
   ]
  },
  {
   "cell_type": "code",
   "execution_count": 7,
   "id": "atomic-omaha",
   "metadata": {
    "execution": {
     "iopub.execute_input": "2021-12-09T02:02:10.820081Z",
     "iopub.status.busy": "2021-12-09T02:02:10.819469Z",
     "iopub.status.idle": "2021-12-09T02:02:12.296189Z",
     "shell.execute_reply": "2021-12-09T02:02:12.296695Z"
    },
    "papermill": {
     "duration": 1.496042,
     "end_time": "2021-12-09T02:02:12.296852",
     "exception": false,
     "start_time": "2021-12-09T02:02:10.800810",
     "status": "completed"
    },
    "tags": []
   },
   "outputs": [
    {
     "data": {
      "image/png": "[encoded data removed]",
      "text/plain": [
       "<Figure size 1080x792 with 2 Axes>"
      ]
     },
     "metadata": {
      "needs_background": "light"
     },
     "output_type": "display_data"
    }
   ],
   "source": [
    "#hide_input\n",
    "plt.figure(figsize=(15, 11))\n",
    "sns.heatmap(df_all[sum_corr].corr(), annot=True, cmap=\"cubehelix\") \n",
    "sns.set(font_scale=1.25)\n",
    "plt.savefig('corr_matrix.png', format='eps')"
   ]
  },
  {
   "cell_type": "code",
   "execution_count": 8,
   "id": "arbitrary-sullivan",
   "metadata": {
    "execution": {
     "iopub.execute_input": "2021-12-09T02:02:12.332903Z",
     "iopub.status.busy": "2021-12-09T02:02:12.331611Z",
     "iopub.status.idle": "2021-12-09T02:02:12.361618Z",
     "shell.execute_reply": "2021-12-09T02:02:12.361044Z"
    },
    "papermill": {
     "duration": 0.049163,
     "end_time": "2021-12-09T02:02:12.361752",
     "exception": false,
     "start_time": "2021-12-09T02:02:12.312589",
     "status": "completed"
    },
    "tags": []
   },
   "outputs": [],
   "source": [
    "#hide\n",
    "#df_all_mrk = read_api()"
   ]
  },
  {
   "cell_type": "code",
   "execution_count": 9,
   "id": "delayed-adapter",
   "metadata": {
    "execution": {
     "iopub.execute_input": "2021-12-09T02:02:12.399448Z",
     "iopub.status.busy": "2021-12-09T02:02:12.398786Z",
     "iopub.status.idle": "2021-12-09T02:02:12.431020Z",
     "shell.execute_reply": "2021-12-09T02:02:12.430463Z"
    },
    "papermill": {
     "duration": 0.051617,
     "end_time": "2021-12-09T02:02:12.431165",
     "exception": false,
     "start_time": "2021-12-09T02:02:12.379548",
     "status": "completed"
    },
    "tags": []
   },
   "outputs": [],
   "source": [
    "#hide\n",
    "#Koreliacijų koeficientai"
   ]
  },
  {
   "cell_type": "code",
   "execution_count": 10,
   "id": "seeing-celebration",
   "metadata": {
    "execution": {
     "iopub.execute_input": "2021-12-09T02:02:12.468008Z",
     "iopub.status.busy": "2021-12-09T02:02:12.467360Z",
     "iopub.status.idle": "2021-12-09T02:02:12.498849Z",
     "shell.execute_reply": "2021-12-09T02:02:12.498293Z"
    },
    "papermill": {
     "duration": 0.051829,
     "end_time": "2021-12-09T02:02:12.499008",
     "exception": false,
     "start_time": "2021-12-09T02:02:12.447179",
     "status": "completed"
    },
    "tags": []
   },
   "outputs": [],
   "source": [
    "#hide_input\n",
    "#sum_corr = df_all_mrk.corr().sum().sort_values(ascending=True).index.values\n",
    "#df_all_mrk[sum_corr].corr()"
   ]
  },
  {
   "cell_type": "code",
   "execution_count": 11,
   "id": "other-painting",
   "metadata": {
    "execution": {
     "iopub.execute_input": "2021-12-09T02:02:12.534315Z",
     "iopub.status.busy": "2021-12-09T02:02:12.533663Z",
     "iopub.status.idle": "2021-12-09T02:02:12.566331Z",
     "shell.execute_reply": "2021-12-09T02:02:12.565120Z"
    },
    "papermill": {
     "duration": 0.051954,
     "end_time": "2021-12-09T02:02:12.566476",
     "exception": false,
     "start_time": "2021-12-09T02:02:12.514522",
     "status": "completed"
    },
    "tags": []
   },
   "outputs": [],
   "source": [
    "#hide\n",
    "#Koreliacijos matrica. "
   ]
  },
  {
   "cell_type": "code",
   "execution_count": 12,
   "id": "modular-magnitude",
   "metadata": {
    "execution": {
     "iopub.execute_input": "2021-12-09T02:02:12.602817Z",
     "iopub.status.busy": "2021-12-09T02:02:12.602203Z",
     "iopub.status.idle": "2021-12-09T02:02:12.632360Z",
     "shell.execute_reply": "2021-12-09T02:02:12.631826Z"
    },
    "papermill": {
     "duration": 0.04979,
     "end_time": "2021-12-09T02:02:12.632498",
     "exception": false,
     "start_time": "2021-12-09T02:02:12.582708",
     "status": "completed"
    },
    "tags": []
   },
   "outputs": [],
   "source": [
    "#hide_input\n",
    "#plt.figure(figsize=(15, 8))\n",
    "#sns.heatmap(df_all_mrk[sum_corr].corr(), annot=True, cmap=\"BrBG\");\n",
    "#plt.savefig('corr_matrix_all.eps', format='eps')"
   ]
  },
  {
   "cell_type": "code",
   "execution_count": null,
   "id": "original-senator",
   "metadata": {
    "papermill": {
     "duration": 0.016119,
     "end_time": "2021-12-09T02:02:12.664373",
     "exception": false,
     "start_time": "2021-12-09T02:02:12.648254",
     "status": "completed"
    },
    "tags": []
   },
   "outputs": [],
   "source": []
  },
  {
   "cell_type": "code",
   "execution_count": null,
   "id": "saving-secretariat",
   "metadata": {
    "papermill": {
     "duration": 0.015734,
     "end_time": "2021-12-09T02:02:12.695623",
     "exception": false,
     "start_time": "2021-12-09T02:02:12.679889",
     "status": "completed"
    },
    "tags": []
   },
   "outputs": [],
   "source": []
  }
 ],
 "metadata": {
  "kernelspec": {
   "display_name": "Python 3",
   "language": "python",
   "name": "python3"
  },
  "language_info": {
   "codemirror_mode": {
    "name": "ipython",
    "version": 3
   },
   "file_extension": ".py",
   "mimetype": "text/x-python",
   "name": "python",
   "nbconvert_exporter": "python",
   "pygments_lexer": "ipython3",
   "version": "3.6.15"
  },
  "papermill": {
   "default_parameters": {},
   "duration": 19.426498,
   "end_time": "2021-12-09T02:02:13.321747",
   "environment_variables": {},
   "exception": null,
   "input_path": "App-Correlation_charts.ipynb",
   "output_path": "App-Correlation_charts.ipynb",
   "parameters": {},
   "start_time": "2021-12-09T02:01:53.895249",
   "version": "2.2.2"
  }
 },
 "nbformat": 4,
 "nbformat_minor": 5
}