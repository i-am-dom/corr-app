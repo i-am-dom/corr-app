{
 "cells": [
  {
   "cell_type": "markdown",
   "id": "touched-facility",
   "metadata": {
    "papermill": {
     "duration": 0.015433,
     "end_time": "2022-08-22T03:26:47.482233",
     "exception": false,
     "start_time": "2022-08-22T03:26:47.466800",
     "status": "completed"
    },
    "tags": []
   },
   "source": [
    "# Koreliacijų matrica\n",
    "> Išplėstinė koreliacijų matrica. \n",
    "\n",
    "- toc: true \n",
    "- badges: true\n",
    "- comments: false\n",
    "- categories: [Dominykas Tautkus]\n",
    "- image: images/matrix.png"
   ]
  },
  {
   "cell_type": "code",
   "execution_count": null,
   "id": "premium-weekend",
   "metadata": {
    "papermill": {
     "duration": 0.011281,
     "end_time": "2022-08-22T03:26:47.505243",
     "exception": false,
     "start_time": "2022-08-22T03:26:47.493962",
     "status": "completed"
    },
    "tags": []
   },
   "outputs": [],
   "source": []
  },
  {
   "cell_type": "code",
   "execution_count": 1,
   "id": "vertical-rebate",
   "metadata": {
    "execution": {
     "iopub.execute_input": "2022-08-22T03:26:47.539215Z",
     "iopub.status.busy": "2022-08-22T03:26:47.538561Z",
     "iopub.status.idle": "2022-08-22T03:26:47.549308Z",
     "shell.execute_reply": "2022-08-22T03:26:47.549824Z"
    },
    "papermill": {
     "duration": 0.033559,
     "end_time": "2022-08-22T03:26:47.549984",
     "exception": false,
     "start_time": "2022-08-22T03:26:47.516425",
     "status": "completed"
    },
    "tags": []
   },
   "outputs": [],
   "source": [
    "#hide\n",
    "%load_ext autoreload\n",
    "%autoreload 2"
   ]
  },
  {
   "cell_type": "code",
   "execution_count": 2,
   "id": "overall-advancement",
   "metadata": {
    "execution": {
     "iopub.execute_input": "2022-08-22T03:26:47.586525Z",
     "iopub.status.busy": "2022-08-22T03:26:47.585857Z",
     "iopub.status.idle": "2022-08-22T03:26:49.091335Z",
     "shell.execute_reply": "2022-08-22T03:26:49.090288Z"
    },
    "papermill": {
     "duration": 1.530508,
     "end_time": "2022-08-22T03:26:49.091474",
     "exception": false,
     "start_time": "2022-08-22T03:26:47.560966",
     "status": "completed"
    },
    "tags": []
   },
   "outputs": [],
   "source": [
    "#hide\n",
    "from scripts.read_data import read_api\n",
    "from IPython.display import HTML\n",
    "import plotly.graph_objects as go\n"
   ]
  },
  {
   "cell_type": "code",
   "execution_count": 3,
   "id": "light-crazy",
   "metadata": {
    "execution": {
     "iopub.execute_input": "2022-08-22T03:26:49.121943Z",
     "iopub.status.busy": "2022-08-22T03:26:49.119035Z",
     "iopub.status.idle": "2022-08-22T03:26:49.142808Z",
     "shell.execute_reply": "2022-08-22T03:26:49.143272Z"
    },
    "papermill": {
     "duration": 0.040874,
     "end_time": "2022-08-22T03:26:49.143424",
     "exception": false,
     "start_time": "2022-08-22T03:26:49.102550",
     "status": "completed"
    },
    "tags": []
   },
   "outputs": [],
   "source": [
    "#hide\n",
    "### ICO koreliacija"
   ]
  },
  {
   "cell_type": "code",
   "execution_count": 4,
   "id": "likely-bahrain",
   "metadata": {
    "execution": {
     "iopub.execute_input": "2022-08-22T03:26:49.177202Z",
     "iopub.status.busy": "2022-08-22T03:26:49.169416Z",
     "iopub.status.idle": "2022-08-22T03:26:50.020511Z",
     "shell.execute_reply": "2022-08-22T03:26:50.020987Z"
    },
    "papermill": {
     "duration": 0.866667,
     "end_time": "2022-08-22T03:26:50.021143",
     "exception": false,
     "start_time": "2022-08-22T03:26:49.154476",
     "status": "completed"
    },
    "tags": []
   },
   "outputs": [],
   "source": [
    "#hide\n",
    "import matplotlib.pyplot as plt\n",
    "import numpy as np\n",
    "import pandas as pd\n",
    "import seaborn as sns\n",
    "import matplotlib.pyplot as plt \n",
    "import matplotlib.dates as mdates\n",
    "import matplotlib.pyplot as plt"
   ]
  },
  {
   "cell_type": "code",
   "execution_count": 5,
   "id": "superior-blanket",
   "metadata": {
    "execution": {
     "iopub.execute_input": "2022-08-22T03:26:50.048650Z",
     "iopub.status.busy": "2022-08-22T03:26:50.047989Z",
     "iopub.status.idle": "2022-08-22T03:27:06.358091Z",
     "shell.execute_reply": "2022-08-22T03:27:06.357120Z"
    },
    "papermill": {
     "duration": 16.325879,
     "end_time": "2022-08-22T03:27:06.358235",
     "exception": false,
     "start_time": "2022-08-22T03:26:50.032356",
     "status": "completed"
    },
    "tags": []
   },
   "outputs": [
    {
     "name": "stderr",
     "output_type": "stream",
     "text": [
      "/home/runner/work/corr-app/corr-app/_notebooks/scripts/read_data.py:187: SettingWithCopyWarning:\n",
      "\n",
      "\n",
      "A value is trying to be set on a copy of a slice from a DataFrame.\n",
      "Try using .loc[row_indexer,col_indexer] = value instead\n",
      "\n",
      "See the caveats in the documentation: https://pandas.pydata.org/pandas-docs/stable/user_guide/indexing.html#returning-a-view-versus-a-copy\n",
      "\n"
     ]
    },
    {
     "name": "stderr",
     "output_type": "stream",
     "text": [
      "/home/runner/work/corr-app/corr-app/_notebooks/scripts/read_data.py:215: SettingWithCopyWarning:\n",
      "\n",
      "\n",
      "A value is trying to be set on a copy of a slice from a DataFrame.\n",
      "Try using .loc[row_indexer,col_indexer] = value instead\n",
      "\n",
      "See the caveats in the documentation: https://pandas.pydata.org/pandas-docs/stable/user_guide/indexing.html#returning-a-view-versus-a-copy\n",
      "\n"
     ]
    }
   ],
   "source": [
    "#hide\n",
    "df_all = read_api()\n",
    "#df_all = df_all.drop(['SP500', 'XAU', 'ETH', 'BTC'], axis=1)\n",
    "\n"
   ]
  },
  {
   "cell_type": "code",
   "execution_count": 6,
   "id": "mature-alert",
   "metadata": {
    "execution": {
     "iopub.execute_input": "2022-08-22T03:27:06.387260Z",
     "iopub.status.busy": "2022-08-22T03:27:06.386671Z",
     "iopub.status.idle": "2022-08-22T03:27:06.417479Z",
     "shell.execute_reply": "2022-08-22T03:27:06.416894Z"
    },
    "papermill": {
     "duration": 0.045928,
     "end_time": "2022-08-22T03:27:06.417600",
     "exception": false,
     "start_time": "2022-08-22T03:27:06.371672",
     "status": "completed"
    },
    "tags": []
   },
   "outputs": [],
   "source": [
    "#hide_input\n",
    "sum_corr = df_all.corr().sum().sort_values(ascending=True).index.values\n",
    "#df_all[sum_corr].corr()"
   ]
  },
  {
   "cell_type": "markdown",
   "id": "complex-syndicate",
   "metadata": {
    "papermill": {
     "duration": 0.0112,
     "end_time": "2022-08-22T03:27:06.441052",
     "exception": false,
     "start_time": "2022-08-22T03:27:06.429852",
     "status": "completed"
    },
    "tags": []
   },
   "source": [
    "## Išplėstinė koreliacijų matrica. "
   ]
  },
  {
   "cell_type": "code",
   "execution_count": 7,
   "id": "atomic-omaha",
   "metadata": {
    "execution": {
     "iopub.execute_input": "2022-08-22T03:27:06.467984Z",
     "iopub.status.busy": "2022-08-22T03:27:06.467400Z",
     "iopub.status.idle": "2022-08-22T03:27:07.738523Z",
     "shell.execute_reply": "2022-08-22T03:27:07.738001Z"
    },
    "papermill": {
     "duration": 1.28638,
     "end_time": "2022-08-22T03:27:07.738644",
     "exception": false,
     "start_time": "2022-08-22T03:27:06.452264",
     "status": "completed"
    },
    "tags": []
   },
   "outputs": [
    {
     "data": {
      "image/png": "[encoded data removed]",
      "text/plain": [
       "<Figure size 1080x792 with 2 Axes>"
      ]
     },
     "metadata": {
      "needs_background": "light"
     },
     "output_type": "display_data"
    }
   ],
   "source": [
    "#hide_input\n",
    "plt.figure(figsize=(15, 11))\n",
    "sns.heatmap(df_all[sum_corr].corr(), annot=True, cmap=\"cubehelix\") \n",
    "sns.set(font_scale=1.25)\n",
    "plt.savefig('corr_matrix.png', format='eps')"
   ]
  },
  {
   "cell_type": "code",
   "execution_count": 8,
   "id": "arbitrary-sullivan",
   "metadata": {
    "execution": {
     "iopub.execute_input": "2022-08-22T03:27:07.825371Z",
     "iopub.status.busy": "2022-08-22T03:27:07.822512Z",
     "iopub.status.idle": "2022-08-22T03:27:07.849688Z",
     "shell.execute_reply": "2022-08-22T03:27:07.849198Z"
    },
    "papermill": {
     "duration": 0.07996,
     "end_time": "2022-08-22T03:27:07.849813",
     "exception": false,
     "start_time": "2022-08-22T03:27:07.769853",
     "status": "completed"
    },
    "tags": []
   },
   "outputs": [],
   "source": [
    "#hide\n",
    "#df_all_mrk = read_api()"
   ]
  },
  {
   "cell_type": "code",
   "execution_count": 9,
   "id": "delayed-adapter",
   "metadata": {
    "execution": {
     "iopub.execute_input": "2022-08-22T03:27:07.918197Z",
     "iopub.status.busy": "2022-08-22T03:27:07.917485Z",
     "iopub.status.idle": "2022-08-22T03:27:07.942464Z",
     "shell.execute_reply": "2022-08-22T03:27:07.941911Z"
    },
    "papermill": {
     "duration": 0.07875,
     "end_time": "2022-08-22T03:27:07.942597",
     "exception": false,
     "start_time": "2022-08-22T03:27:07.863847",
     "status": "completed"
    },
    "tags": []
   },
   "outputs": [],
   "source": [
    "#hide\n",
    "#Koreliacijų koeficientai"
   ]
  },
  {
   "cell_type": "code",
   "execution_count": 10,
   "id": "seeing-celebration",
   "metadata": {
    "execution": {
     "iopub.execute_input": "2022-08-22T03:27:08.029755Z",
     "iopub.status.busy": "2022-08-22T03:27:08.029079Z",
     "iopub.status.idle": "2022-08-22T03:27:08.052734Z",
     "shell.execute_reply": "2022-08-22T03:27:08.053177Z"
    },
    "papermill": {
     "duration": 0.094569,
     "end_time": "2022-08-22T03:27:08.053318",
     "exception": false,
     "start_time": "2022-08-22T03:27:07.958749",
     "status": "completed"
    },
    "tags": []
   },
   "outputs": [],
   "source": [
    "#hide_input\n",
    "#sum_corr = df_all_mrk.corr().sum().sort_values(ascending=True).index.values\n",
    "#df_all_mrk[sum_corr].corr()"
   ]
  },
  {
   "cell_type": "code",
   "execution_count": 11,
   "id": "other-painting",
   "metadata": {
    "execution": {
     "iopub.execute_input": "2022-08-22T03:27:08.123519Z",
     "iopub.status.busy": "2022-08-22T03:27:08.121414Z",
     "iopub.status.idle": "2022-08-22T03:27:08.147285Z",
     "shell.execute_reply": "2022-08-22T03:27:08.146712Z"
    },
    "papermill": {
     "duration": 0.078448,
     "end_time": "2022-08-22T03:27:08.147397",
     "exception": false,
     "start_time": "2022-08-22T03:27:08.068949",
     "status": "completed"
    },
    "tags": []
   },
   "outputs": [],
   "source": [
    "#hide\n",
    "#Koreliacijos matrica. "
   ]
  },
  {
   "cell_type": "code",
   "execution_count": 12,
   "id": "modular-magnitude",
   "metadata": {
    "execution": {
     "iopub.execute_input": "2022-08-22T03:27:08.202646Z",
     "iopub.status.busy": "2022-08-22T03:27:08.202037Z",
     "iopub.status.idle": "2022-08-22T03:27:08.231226Z",
     "shell.execute_reply": "2022-08-22T03:27:08.230650Z"
    },
    "papermill": {
     "duration": 0.068461,
     "end_time": "2022-08-22T03:27:08.231353",
     "exception": false,
     "start_time": "2022-08-22T03:27:08.162892",
     "status": "completed"
    },
    "tags": []
   },
   "outputs": [],
   "source": [
    "#hide_input\n",
    "#plt.figure(figsize=(15, 8))\n",
    "#sns.heatmap(df_all_mrk[sum_corr].corr(), annot=True, cmap=\"BrBG\");\n",
    "#plt.savefig('corr_matrix_all.eps', format='eps')"
   ]
  },
  {
   "cell_type": "code",
   "execution_count": null,
   "id": "original-senator",
   "metadata": {
    "papermill": {
     "duration": 0.014279,
     "end_time": "2022-08-22T03:27:08.287649",
     "exception": false,
     "start_time": "2022-08-22T03:27:08.273370",
     "status": "completed"
    },
    "tags": []
   },
   "outputs": [],
   "source": []
  },
  {
   "cell_type": "code",
   "execution_count": null,
   "id": "saving-secretariat",
   "metadata": {
    "papermill": {
     "duration": 0.013357,
     "end_time": "2022-08-22T03:27:08.314452",
     "exception": false,
     "start_time": "2022-08-22T03:27:08.301095",
     "status": "completed"
    },
    "tags": []
   },
   "outputs": [],
   "source": []
  }
 ],
 "metadata": {
  "kernelspec": {
   "display_name": "Python 3",
   "language": "python",
   "name": "python3"
  },
  "language_info": {
   "codemirror_mode": {
    "name": "ipython",
    "version": 3
   },
   "file_extension": ".py",
   "mimetype": "text/x-python",
   "name": "python",
   "nbconvert_exporter": "python",
   "pygments_lexer": "ipython3",
   "version": "3.6.15"
  },
  "papermill": {
   "default_parameters": {},
   "duration": 22.627222,
   "end_time": "2022-08-22T03:27:08.848008",
   "environment_variables": {},
   "exception": null,
   "input_path": "App-Correlation_charts.ipynb",
   "output_path": "App-Correlation_charts.ipynb",
   "parameters": {},
   "start_time": "2022-08-22T03:26:46.220786",
   "version": "2.2.2"
  }
 },
 "nbformat": 4,
 "nbformat_minor": 5
}