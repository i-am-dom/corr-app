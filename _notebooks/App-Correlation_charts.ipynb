{
 "cells": [
  {
   "cell_type": "markdown",
   "id": "touched-facility",
   "metadata": {
    "papermill": {
     "duration": 0.014417,
     "end_time": "2022-08-13T02:57:35.136454",
     "exception": false,
     "start_time": "2022-08-13T02:57:35.122037",
     "status": "completed"
    },
    "tags": []
   },
   "source": [
    "# Koreliacijų matrica\n",
    "> Išplėstinė koreliacijų matrica. \n",
    "\n",
    "- toc: true \n",
    "- badges: true\n",
    "- comments: false\n",
    "- categories: [Dominykas Tautkus]\n",
    "- image: images/matrix.png"
   ]
  },
  {
   "cell_type": "code",
   "execution_count": null,
   "id": "premium-weekend",
   "metadata": {
    "papermill": {
     "duration": 0.010763,
     "end_time": "2022-08-13T02:57:35.158761",
     "exception": false,
     "start_time": "2022-08-13T02:57:35.147998",
     "status": "completed"
    },
    "tags": []
   },
   "outputs": [],
   "source": []
  },
  {
   "cell_type": "code",
   "execution_count": 1,
   "id": "vertical-rebate",
   "metadata": {
    "execution": {
     "iopub.execute_input": "2022-08-13T02:57:35.190515Z",
     "iopub.status.busy": "2022-08-13T02:57:35.189948Z",
     "iopub.status.idle": "2022-08-13T02:57:35.200116Z",
     "shell.execute_reply": "2022-08-13T02:57:35.199641Z"
    },
    "papermill": {
     "duration": 0.030621,
     "end_time": "2022-08-13T02:57:35.200226",
     "exception": false,
     "start_time": "2022-08-13T02:57:35.169605",
     "status": "completed"
    },
    "tags": []
   },
   "outputs": [],
   "source": [
    "#hide\n",
    "%load_ext autoreload\n",
    "%autoreload 2"
   ]
  },
  {
   "cell_type": "code",
   "execution_count": 2,
   "id": "overall-advancement",
   "metadata": {
    "execution": {
     "iopub.execute_input": "2022-08-13T02:57:35.225059Z",
     "iopub.status.busy": "2022-08-13T02:57:35.224508Z",
     "iopub.status.idle": "2022-08-13T02:57:36.257427Z",
     "shell.execute_reply": "2022-08-13T02:57:36.257882Z"
    },
    "papermill": {
     "duration": 1.04697,
     "end_time": "2022-08-13T02:57:36.258015",
     "exception": false,
     "start_time": "2022-08-13T02:57:35.211045",
     "status": "completed"
    },
    "tags": []
   },
   "outputs": [],
   "source": [
    "#hide\n",
    "from scripts.read_data import read_api\n",
    "from IPython.display import HTML\n",
    "import plotly.graph_objects as go\n"
   ]
  },
  {
   "cell_type": "code",
   "execution_count": 3,
   "id": "light-crazy",
   "metadata": {
    "execution": {
     "iopub.execute_input": "2022-08-13T02:57:36.284110Z",
     "iopub.status.busy": "2022-08-13T02:57:36.283536Z",
     "iopub.status.idle": "2022-08-13T02:57:36.304035Z",
     "shell.execute_reply": "2022-08-13T02:57:36.304442Z"
    },
    "papermill": {
     "duration": 0.035571,
     "end_time": "2022-08-13T02:57:36.304556",
     "exception": false,
     "start_time": "2022-08-13T02:57:36.268985",
     "status": "completed"
    },
    "tags": []
   },
   "outputs": [],
   "source": [
    "#hide\n",
    "### ICO koreliacija"
   ]
  },
  {
   "cell_type": "code",
   "execution_count": 4,
   "id": "likely-bahrain",
   "metadata": {
    "execution": {
     "iopub.execute_input": "2022-08-13T02:57:36.329227Z",
     "iopub.status.busy": "2022-08-13T02:57:36.328647Z",
     "iopub.status.idle": "2022-08-13T02:57:37.137595Z",
     "shell.execute_reply": "2022-08-13T02:57:37.136626Z"
    },
    "papermill": {
     "duration": 0.822387,
     "end_time": "2022-08-13T02:57:37.137719",
     "exception": false,
     "start_time": "2022-08-13T02:57:36.315332",
     "status": "completed"
    },
    "tags": []
   },
   "outputs": [],
   "source": [
    "#hide\n",
    "import matplotlib.pyplot as plt\n",
    "import numpy as np\n",
    "import pandas as pd\n",
    "import seaborn as sns\n",
    "import matplotlib.pyplot as plt \n",
    "import matplotlib.dates as mdates\n",
    "import matplotlib.pyplot as plt"
   ]
  },
  {
   "cell_type": "code",
   "execution_count": 5,
   "id": "superior-blanket",
   "metadata": {
    "execution": {
     "iopub.execute_input": "2022-08-13T02:57:37.166912Z",
     "iopub.status.busy": "2022-08-13T02:57:37.164065Z",
     "iopub.status.idle": "2022-08-13T02:57:48.310383Z",
     "shell.execute_reply": "2022-08-13T02:57:48.310849Z"
    },
    "papermill": {
     "duration": 11.162158,
     "end_time": "2022-08-13T02:57:48.310978",
     "exception": false,
     "start_time": "2022-08-13T02:57:37.148820",
     "status": "completed"
    },
    "tags": []
   },
   "outputs": [
    {
     "name": "stderr",
     "output_type": "stream",
     "text": [
      "/home/runner/work/corr-app/corr-app/_notebooks/scripts/read_data.py:187: SettingWithCopyWarning:\n",
      "\n",
      "\n",
      "A value is trying to be set on a copy of a slice from a DataFrame.\n",
      "Try using .loc[row_indexer,col_indexer] = value instead\n",
      "\n",
      "See the caveats in the documentation: https://pandas.pydata.org/pandas-docs/stable/user_guide/indexing.html#returning-a-view-versus-a-copy\n",
      "\n"
     ]
    },
    {
     "name": "stderr",
     "output_type": "stream",
     "text": [
      "/home/runner/work/corr-app/corr-app/_notebooks/scripts/read_data.py:215: SettingWithCopyWarning:\n",
      "\n",
      "\n",
      "A value is trying to be set on a copy of a slice from a DataFrame.\n",
      "Try using .loc[row_indexer,col_indexer] = value instead\n",
      "\n",
      "See the caveats in the documentation: https://pandas.pydata.org/pandas-docs/stable/user_guide/indexing.html#returning-a-view-versus-a-copy\n",
      "\n"
     ]
    }
   ],
   "source": [
    "#hide\n",
    "df_all = read_api()\n",
    "#df_all = df_all.drop(['SP500', 'XAU', 'ETH', 'BTC'], axis=1)\n",
    "\n"
   ]
  },
  {
   "cell_type": "code",
   "execution_count": 6,
   "id": "mature-alert",
   "metadata": {
    "execution": {
     "iopub.execute_input": "2022-08-13T02:57:48.339152Z",
     "iopub.status.busy": "2022-08-13T02:57:48.338598Z",
     "iopub.status.idle": "2022-08-13T02:57:48.367874Z",
     "shell.execute_reply": "2022-08-13T02:57:48.367304Z"
    },
    "papermill": {
     "duration": 0.044239,
     "end_time": "2022-08-13T02:57:48.367982",
     "exception": false,
     "start_time": "2022-08-13T02:57:48.323743",
     "status": "completed"
    },
    "tags": []
   },
   "outputs": [],
   "source": [
    "#hide_input\n",
    "sum_corr = df_all.corr().sum().sort_values(ascending=True).index.values\n",
    "#df_all[sum_corr].corr()"
   ]
  },
  {
   "cell_type": "markdown",
   "id": "complex-syndicate",
   "metadata": {
    "papermill": {
     "duration": 0.011261,
     "end_time": "2022-08-13T02:57:48.390700",
     "exception": false,
     "start_time": "2022-08-13T02:57:48.379439",
     "status": "completed"
    },
    "tags": []
   },
   "source": [
    "## Išplėstinė koreliacijų matrica. "
   ]
  },
  {
   "cell_type": "code",
   "execution_count": 7,
   "id": "atomic-omaha",
   "metadata": {
    "execution": {
     "iopub.execute_input": "2022-08-13T02:57:48.416931Z",
     "iopub.status.busy": "2022-08-13T02:57:48.416377Z",
     "iopub.status.idle": "2022-08-13T02:57:49.542835Z",
     "shell.execute_reply": "2022-08-13T02:57:49.543293Z"
    },
    "papermill": {
     "duration": 1.141426,
     "end_time": "2022-08-13T02:57:49.543422",
     "exception": false,
     "start_time": "2022-08-13T02:57:48.401996",
     "status": "completed"
    },
    "tags": []
   },
   "outputs": [
    {
     "data": {
      "image/png": "[encoded data removed]",
      "text/plain": [
       "<Figure size 1080x792 with 2 Axes>"
      ]
     },
     "metadata": {
      "needs_background": "light"
     },
     "output_type": "display_data"
    }
   ],
   "source": [
    "#hide_input\n",
    "plt.figure(figsize=(15, 11))\n",
    "sns.heatmap(df_all[sum_corr].corr(), annot=True, cmap=\"cubehelix\") \n",
    "sns.set(font_scale=1.25)\n",
    "plt.savefig('corr_matrix.png', format='eps')"
   ]
  },
  {
   "cell_type": "code",
   "execution_count": 8,
   "id": "arbitrary-sullivan",
   "metadata": {
    "execution": {
     "iopub.execute_input": "2022-08-13T02:57:49.574399Z",
     "iopub.status.busy": "2022-08-13T02:57:49.573845Z",
     "iopub.status.idle": "2022-08-13T02:57:49.598647Z",
     "shell.execute_reply": "2022-08-13T02:57:49.598187Z"
    },
    "papermill": {
     "duration": 0.041706,
     "end_time": "2022-08-13T02:57:49.598754",
     "exception": false,
     "start_time": "2022-08-13T02:57:49.557048",
     "status": "completed"
    },
    "tags": []
   },
   "outputs": [],
   "source": [
    "#hide\n",
    "#df_all_mrk = read_api()"
   ]
  },
  {
   "cell_type": "code",
   "execution_count": 9,
   "id": "delayed-adapter",
   "metadata": {
    "execution": {
     "iopub.execute_input": "2022-08-13T02:57:49.628845Z",
     "iopub.status.busy": "2022-08-13T02:57:49.628294Z",
     "iopub.status.idle": "2022-08-13T02:57:49.653996Z",
     "shell.execute_reply": "2022-08-13T02:57:49.653435Z"
    },
    "papermill": {
     "duration": 0.042001,
     "end_time": "2022-08-13T02:57:49.654101",
     "exception": false,
     "start_time": "2022-08-13T02:57:49.612100",
     "status": "completed"
    },
    "tags": []
   },
   "outputs": [],
   "source": [
    "#hide\n",
    "#Koreliacijų koeficientai"
   ]
  },
  {
   "cell_type": "code",
   "execution_count": 10,
   "id": "seeing-celebration",
   "metadata": {
    "execution": {
     "iopub.execute_input": "2022-08-13T02:57:49.684530Z",
     "iopub.status.busy": "2022-08-13T02:57:49.683946Z",
     "iopub.status.idle": "2022-08-13T02:57:49.710751Z",
     "shell.execute_reply": "2022-08-13T02:57:49.709539Z"
    },
    "papermill": {
     "duration": 0.04321,
     "end_time": "2022-08-13T02:57:49.710902",
     "exception": false,
     "start_time": "2022-08-13T02:57:49.667692",
     "status": "completed"
    },
    "tags": []
   },
   "outputs": [],
   "source": [
    "#hide_input\n",
    "#sum_corr = df_all_mrk.corr().sum().sort_values(ascending=True).index.values\n",
    "#df_all_mrk[sum_corr].corr()"
   ]
  },
  {
   "cell_type": "code",
   "execution_count": 11,
   "id": "other-painting",
   "metadata": {
    "execution": {
     "iopub.execute_input": "2022-08-13T02:57:49.741035Z",
     "iopub.status.busy": "2022-08-13T02:57:49.740475Z",
     "iopub.status.idle": "2022-08-13T02:57:49.765967Z",
     "shell.execute_reply": "2022-08-13T02:57:49.765508Z"
    },
    "papermill": {
     "duration": 0.041764,
     "end_time": "2022-08-13T02:57:49.766072",
     "exception": false,
     "start_time": "2022-08-13T02:57:49.724308",
     "status": "completed"
    },
    "tags": []
   },
   "outputs": [],
   "source": [
    "#hide\n",
    "#Koreliacijos matrica. "
   ]
  },
  {
   "cell_type": "code",
   "execution_count": 12,
   "id": "modular-magnitude",
   "metadata": {
    "execution": {
     "iopub.execute_input": "2022-08-13T02:57:49.796108Z",
     "iopub.status.busy": "2022-08-13T02:57:49.795569Z",
     "iopub.status.idle": "2022-08-13T02:57:49.820899Z",
     "shell.execute_reply": "2022-08-13T02:57:49.820346Z"
    },
    "papermill": {
     "duration": 0.041391,
     "end_time": "2022-08-13T02:57:49.820999",
     "exception": false,
     "start_time": "2022-08-13T02:57:49.779608",
     "status": "completed"
    },
    "tags": []
   },
   "outputs": [],
   "source": [
    "#hide_input\n",
    "#plt.figure(figsize=(15, 8))\n",
    "#sns.heatmap(df_all_mrk[sum_corr].corr(), annot=True, cmap=\"BrBG\");\n",
    "#plt.savefig('corr_matrix_all.eps', format='eps')"
   ]
  },
  {
   "cell_type": "code",
   "execution_count": null,
   "id": "original-senator",
   "metadata": {
    "papermill": {
     "duration": 0.013261,
     "end_time": "2022-08-13T02:57:49.847424",
     "exception": false,
     "start_time": "2022-08-13T02:57:49.834163",
     "status": "completed"
    },
    "tags": []
   },
   "outputs": [],
   "source": []
  },
  {
   "cell_type": "code",
   "execution_count": null,
   "id": "saving-secretariat",
   "metadata": {
    "papermill": {
     "duration": 0.013047,
     "end_time": "2022-08-13T02:57:49.873677",
     "exception": false,
     "start_time": "2022-08-13T02:57:49.860630",
     "status": "completed"
    },
    "tags": []
   },
   "outputs": [],
   "source": []
  }
 ],
 "metadata": {
  "kernelspec": {
   "display_name": "Python 3",
   "language": "python",
   "name": "python3"
  },
  "language_info": {
   "codemirror_mode": {
    "name": "ipython",
    "version": 3
   },
   "file_extension": ".py",
   "mimetype": "text/x-python",
   "name": "python",
   "nbconvert_exporter": "python",
   "pygments_lexer": "ipython3",
   "version": "3.6.15"
  },
  "papermill": {
   "default_parameters": {},
   "duration": 16.113836,
   "end_time": "2022-08-13T02:57:50.304658",
   "environment_variables": {},
   "exception": null,
   "input_path": "App-Correlation_charts.ipynb",
   "output_path": "App-Correlation_charts.ipynb",
   "parameters": {},
   "start_time": "2022-08-13T02:57:34.190822",
   "version": "2.2.2"
  }
 },
 "nbformat": 4,
 "nbformat_minor": 5
}