{
 "cells": [
  {
   "cell_type": "markdown",
   "id": "touched-facility",
   "metadata": {
    "papermill": {
     "duration": 0.017268,
     "end_time": "2022-09-11T03:35:28.931784",
     "exception": false,
     "start_time": "2022-09-11T03:35:28.914516",
     "status": "completed"
    },
    "tags": []
   },
   "source": [
    "# Koreliacijų matrica\n",
    "> Išplėstinė koreliacijų matrica. \n",
    "\n",
    "- toc: true \n",
    "- badges: true\n",
    "- comments: false\n",
    "- categories: [Dominykas Tautkus]\n",
    "- image: images/matrix.png"
   ]
  },
  {
   "cell_type": "code",
   "execution_count": null,
   "id": "premium-weekend",
   "metadata": {
    "papermill": {
     "duration": 0.01268,
     "end_time": "2022-09-11T03:35:28.959020",
     "exception": false,
     "start_time": "2022-09-11T03:35:28.946340",
     "status": "completed"
    },
    "tags": []
   },
   "outputs": [],
   "source": []
  },
  {
   "cell_type": "code",
   "execution_count": 1,
   "id": "vertical-rebate",
   "metadata": {
    "execution": {
     "iopub.execute_input": "2022-09-11T03:35:28.999937Z",
     "iopub.status.busy": "2022-09-11T03:35:28.999048Z",
     "iopub.status.idle": "2022-09-11T03:35:29.012571Z",
     "shell.execute_reply": "2022-09-11T03:35:29.011963Z"
    },
    "papermill": {
     "duration": 0.040522,
     "end_time": "2022-09-11T03:35:29.012707",
     "exception": false,
     "start_time": "2022-09-11T03:35:28.972185",
     "status": "completed"
    },
    "tags": []
   },
   "outputs": [],
   "source": [
    "#hide\n",
    "%load_ext autoreload\n",
    "%autoreload 2"
   ]
  },
  {
   "cell_type": "code",
   "execution_count": 2,
   "id": "overall-advancement",
   "metadata": {
    "execution": {
     "iopub.execute_input": "2022-09-11T03:35:29.042992Z",
     "iopub.status.busy": "2022-09-11T03:35:29.042259Z",
     "iopub.status.idle": "2022-09-11T03:35:30.581953Z",
     "shell.execute_reply": "2022-09-11T03:35:30.581001Z"
    },
    "papermill": {
     "duration": 1.556435,
     "end_time": "2022-09-11T03:35:30.582110",
     "exception": false,
     "start_time": "2022-09-11T03:35:29.025675",
     "status": "completed"
    },
    "tags": []
   },
   "outputs": [],
   "source": [
    "#hide\n",
    "from scripts.read_data import read_api\n",
    "from IPython.display import HTML\n",
    "import plotly.graph_objects as go\n"
   ]
  },
  {
   "cell_type": "code",
   "execution_count": 3,
   "id": "light-crazy",
   "metadata": {
    "execution": {
     "iopub.execute_input": "2022-09-11T03:35:30.613032Z",
     "iopub.status.busy": "2022-09-11T03:35:30.612102Z",
     "iopub.status.idle": "2022-09-11T03:35:30.637700Z",
     "shell.execute_reply": "2022-09-11T03:35:30.638399Z"
    },
    "papermill": {
     "duration": 0.043725,
     "end_time": "2022-09-11T03:35:30.638561",
     "exception": false,
     "start_time": "2022-09-11T03:35:30.594836",
     "status": "completed"
    },
    "tags": []
   },
   "outputs": [],
   "source": [
    "#hide\n",
    "### ICO koreliacija"
   ]
  },
  {
   "cell_type": "code",
   "execution_count": 4,
   "id": "likely-bahrain",
   "metadata": {
    "execution": {
     "iopub.execute_input": "2022-09-11T03:35:30.669484Z",
     "iopub.status.busy": "2022-09-11T03:35:30.668557Z",
     "iopub.status.idle": "2022-09-11T03:35:31.676281Z",
     "shell.execute_reply": "2022-09-11T03:35:31.675666Z"
    },
    "papermill": {
     "duration": 1.02514,
     "end_time": "2022-09-11T03:35:31.676432",
     "exception": false,
     "start_time": "2022-09-11T03:35:30.651292",
     "status": "completed"
    },
    "tags": []
   },
   "outputs": [],
   "source": [
    "#hide\n",
    "import matplotlib.pyplot as plt\n",
    "import numpy as np\n",
    "import pandas as pd\n",
    "import seaborn as sns\n",
    "import matplotlib.pyplot as plt \n",
    "import matplotlib.dates as mdates\n",
    "import matplotlib.pyplot as plt"
   ]
  },
  {
   "cell_type": "code",
   "execution_count": 5,
   "id": "superior-blanket",
   "metadata": {
    "execution": {
     "iopub.execute_input": "2022-09-11T03:35:31.707890Z",
     "iopub.status.busy": "2022-09-11T03:35:31.706862Z",
     "iopub.status.idle": "2022-09-11T03:35:43.637532Z",
     "shell.execute_reply": "2022-09-11T03:35:43.636817Z"
    },
    "papermill": {
     "duration": 11.947694,
     "end_time": "2022-09-11T03:35:43.637692",
     "exception": false,
     "start_time": "2022-09-11T03:35:31.689998",
     "status": "completed"
    },
    "tags": []
   },
   "outputs": [
    {
     "name": "stderr",
     "output_type": "stream",
     "text": [
      "/home/runner/work/corr-app/corr-app/_notebooks/scripts/read_data.py:187: SettingWithCopyWarning:\n",
      "\n",
      "\n",
      "A value is trying to be set on a copy of a slice from a DataFrame.\n",
      "Try using .loc[row_indexer,col_indexer] = value instead\n",
      "\n",
      "See the caveats in the documentation: https://pandas.pydata.org/pandas-docs/stable/user_guide/indexing.html#returning-a-view-versus-a-copy\n",
      "\n"
     ]
    },
    {
     "name": "stderr",
     "output_type": "stream",
     "text": [
      "/home/runner/work/corr-app/corr-app/_notebooks/scripts/read_data.py:215: SettingWithCopyWarning:\n",
      "\n",
      "\n",
      "A value is trying to be set on a copy of a slice from a DataFrame.\n",
      "Try using .loc[row_indexer,col_indexer] = value instead\n",
      "\n",
      "See the caveats in the documentation: https://pandas.pydata.org/pandas-docs/stable/user_guide/indexing.html#returning-a-view-versus-a-copy\n",
      "\n"
     ]
    }
   ],
   "source": [
    "#hide\n",
    "df_all = read_api()\n",
    "#df_all = df_all.drop(['SP500', 'XAU', 'ETH', 'BTC'], axis=1)\n",
    "\n"
   ]
  },
  {
   "cell_type": "code",
   "execution_count": 6,
   "id": "mature-alert",
   "metadata": {
    "execution": {
     "iopub.execute_input": "2022-09-11T03:35:43.679282Z",
     "iopub.status.busy": "2022-09-11T03:35:43.678374Z",
     "iopub.status.idle": "2022-09-11T03:35:43.719097Z",
     "shell.execute_reply": "2022-09-11T03:35:43.718417Z"
    },
    "papermill": {
     "duration": 0.061715,
     "end_time": "2022-09-11T03:35:43.719241",
     "exception": false,
     "start_time": "2022-09-11T03:35:43.657526",
     "status": "completed"
    },
    "tags": []
   },
   "outputs": [],
   "source": [
    "#hide_input\n",
    "sum_corr = df_all.corr().sum().sort_values(ascending=True).index.values\n",
    "#df_all[sum_corr].corr()"
   ]
  },
  {
   "cell_type": "markdown",
   "id": "complex-syndicate",
   "metadata": {
    "papermill": {
     "duration": 0.014372,
     "end_time": "2022-09-11T03:35:43.750477",
     "exception": false,
     "start_time": "2022-09-11T03:35:43.736105",
     "status": "completed"
    },
    "tags": []
   },
   "source": [
    "## Išplėstinė koreliacijų matrica. "
   ]
  },
  {
   "cell_type": "code",
   "execution_count": 7,
   "id": "atomic-omaha",
   "metadata": {
    "execution": {
     "iopub.execute_input": "2022-09-11T03:35:43.785616Z",
     "iopub.status.busy": "2022-09-11T03:35:43.784790Z",
     "iopub.status.idle": "2022-09-11T03:35:45.620078Z",
     "shell.execute_reply": "2022-09-11T03:35:45.619321Z"
    },
    "papermill": {
     "duration": 1.854963,
     "end_time": "2022-09-11T03:35:45.620283",
     "exception": false,
     "start_time": "2022-09-11T03:35:43.765320",
     "status": "completed"
    },
    "tags": []
   },
   "outputs": [
    {
     "data": {
      "image/png": "[encoded data removed]",
      "text/plain": [
       "<Figure size 1080x792 with 2 Axes>"
      ]
     },
     "metadata": {
      "needs_background": "light"
     },
     "output_type": "display_data"
    }
   ],
   "source": [
    "#hide_input\n",
    "plt.figure(figsize=(15, 11))\n",
    "sns.heatmap(df_all[sum_corr].corr(), annot=True, cmap=\"cubehelix\") \n",
    "sns.set(font_scale=1.25)\n",
    "plt.savefig('corr_matrix.png', format='eps')"
   ]
  },
  {
   "cell_type": "code",
   "execution_count": 8,
   "id": "arbitrary-sullivan",
   "metadata": {
    "execution": {
     "iopub.execute_input": "2022-09-11T03:35:45.658912Z",
     "iopub.status.busy": "2022-09-11T03:35:45.658208Z",
     "iopub.status.idle": "2022-09-11T03:35:45.693047Z",
     "shell.execute_reply": "2022-09-11T03:35:45.692412Z"
    },
    "papermill": {
     "duration": 0.056241,
     "end_time": "2022-09-11T03:35:45.693188",
     "exception": false,
     "start_time": "2022-09-11T03:35:45.636947",
     "status": "completed"
    },
    "tags": []
   },
   "outputs": [],
   "source": [
    "#hide\n",
    "#df_all_mrk = read_api()"
   ]
  },
  {
   "cell_type": "code",
   "execution_count": 9,
   "id": "delayed-adapter",
   "metadata": {
    "execution": {
     "iopub.execute_input": "2022-09-11T03:35:45.730479Z",
     "iopub.status.busy": "2022-09-11T03:35:45.729709Z",
     "iopub.status.idle": "2022-09-11T03:35:45.761953Z",
     "shell.execute_reply": "2022-09-11T03:35:45.761168Z"
    },
    "papermill": {
     "duration": 0.052864,
     "end_time": "2022-09-11T03:35:45.762131",
     "exception": false,
     "start_time": "2022-09-11T03:35:45.709267",
     "status": "completed"
    },
    "tags": []
   },
   "outputs": [],
   "source": [
    "#hide\n",
    "#Koreliacijų koeficientai"
   ]
  },
  {
   "cell_type": "code",
   "execution_count": 10,
   "id": "seeing-celebration",
   "metadata": {
    "execution": {
     "iopub.execute_input": "2022-09-11T03:35:45.802753Z",
     "iopub.status.busy": "2022-09-11T03:35:45.802019Z",
     "iopub.status.idle": "2022-09-11T03:35:45.832349Z",
     "shell.execute_reply": "2022-09-11T03:35:45.832971Z"
    },
    "papermill": {
     "duration": 0.053608,
     "end_time": "2022-09-11T03:35:45.833135",
     "exception": false,
     "start_time": "2022-09-11T03:35:45.779527",
     "status": "completed"
    },
    "tags": []
   },
   "outputs": [],
   "source": [
    "#hide_input\n",
    "#sum_corr = df_all_mrk.corr().sum().sort_values(ascending=True).index.values\n",
    "#df_all_mrk[sum_corr].corr()"
   ]
  },
  {
   "cell_type": "code",
   "execution_count": 11,
   "id": "other-painting",
   "metadata": {
    "execution": {
     "iopub.execute_input": "2022-09-11T03:35:45.869561Z",
     "iopub.status.busy": "2022-09-11T03:35:45.868789Z",
     "iopub.status.idle": "2022-09-11T03:35:45.901462Z",
     "shell.execute_reply": "2022-09-11T03:35:45.900924Z"
    },
    "papermill": {
     "duration": 0.051922,
     "end_time": "2022-09-11T03:35:45.901597",
     "exception": false,
     "start_time": "2022-09-11T03:35:45.849675",
     "status": "completed"
    },
    "tags": []
   },
   "outputs": [],
   "source": [
    "#hide\n",
    "#Koreliacijos matrica. "
   ]
  },
  {
   "cell_type": "code",
   "execution_count": 12,
   "id": "modular-magnitude",
   "metadata": {
    "execution": {
     "iopub.execute_input": "2022-09-11T03:35:45.938960Z",
     "iopub.status.busy": "2022-09-11T03:35:45.938242Z",
     "iopub.status.idle": "2022-09-11T03:35:45.970013Z",
     "shell.execute_reply": "2022-09-11T03:35:45.969412Z"
    },
    "papermill": {
     "duration": 0.051429,
     "end_time": "2022-09-11T03:35:45.970158",
     "exception": false,
     "start_time": "2022-09-11T03:35:45.918729",
     "status": "completed"
    },
    "tags": []
   },
   "outputs": [],
   "source": [
    "#hide_input\n",
    "#plt.figure(figsize=(15, 8))\n",
    "#sns.heatmap(df_all_mrk[sum_corr].corr(), annot=True, cmap=\"BrBG\");\n",
    "#plt.savefig('corr_matrix_all.eps', format='eps')"
   ]
  },
  {
   "cell_type": "code",
   "execution_count": null,
   "id": "original-senator",
   "metadata": {
    "papermill": {
     "duration": 0.015641,
     "end_time": "2022-09-11T03:35:46.001288",
     "exception": false,
     "start_time": "2022-09-11T03:35:45.985647",
     "status": "completed"
    },
    "tags": []
   },
   "outputs": [],
   "source": []
  },
  {
   "cell_type": "code",
   "execution_count": null,
   "id": "saving-secretariat",
   "metadata": {
    "papermill": {
     "duration": 0.017416,
     "end_time": "2022-09-11T03:35:46.034466",
     "exception": false,
     "start_time": "2022-09-11T03:35:46.017050",
     "status": "completed"
    },
    "tags": []
   },
   "outputs": [],
   "source": []
  }
 ],
 "metadata": {
  "kernelspec": {
   "display_name": "Python 3",
   "language": "python",
   "name": "python3"
  },
  "language_info": {
   "codemirror_mode": {
    "name": "ipython",
    "version": 3
   },
   "file_extension": ".py",
   "mimetype": "text/x-python",
   "name": "python",
   "nbconvert_exporter": "python",
   "pygments_lexer": "ipython3",
   "version": "3.6.15"
  },
  "papermill": {
   "default_parameters": {},
   "duration": 19.060898,
   "end_time": "2022-09-11T03:35:46.670666",
   "environment_variables": {},
   "exception": null,
   "input_path": "App-Correlation_charts.ipynb",
   "output_path": "App-Correlation_charts.ipynb",
   "parameters": {},
   "start_time": "2022-09-11T03:35:27.609768",
   "version": "2.2.2"
  }
 },
 "nbformat": 4,
 "nbformat_minor": 5
}