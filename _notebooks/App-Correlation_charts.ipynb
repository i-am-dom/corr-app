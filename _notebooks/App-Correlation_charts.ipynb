{
 "cells": [
  {
   "cell_type": "markdown",
   "id": "touched-facility",
   "metadata": {
    "papermill": {
     "duration": 0.016827,
     "end_time": "2022-09-08T03:38:07.527953",
     "exception": false,
     "start_time": "2022-09-08T03:38:07.511126",
     "status": "completed"
    },
    "tags": []
   },
   "source": [
    "# Koreliacijų matrica\n",
    "> Išplėstinė koreliacijų matrica. \n",
    "\n",
    "- toc: true \n",
    "- badges: true\n",
    "- comments: false\n",
    "- categories: [Dominykas Tautkus]\n",
    "- image: images/matrix.png"
   ]
  },
  {
   "cell_type": "code",
   "execution_count": null,
   "id": "premium-weekend",
   "metadata": {
    "papermill": {
     "duration": 0.011866,
     "end_time": "2022-09-08T03:38:07.553205",
     "exception": false,
     "start_time": "2022-09-08T03:38:07.541339",
     "status": "completed"
    },
    "tags": []
   },
   "outputs": [],
   "source": []
  },
  {
   "cell_type": "code",
   "execution_count": 1,
   "id": "vertical-rebate",
   "metadata": {
    "execution": {
     "iopub.execute_input": "2022-09-08T03:38:07.591595Z",
     "iopub.status.busy": "2022-09-08T03:38:07.590892Z",
     "iopub.status.idle": "2022-09-08T03:38:07.602959Z",
     "shell.execute_reply": "2022-09-08T03:38:07.603526Z"
    },
    "papermill": {
     "duration": 0.0385,
     "end_time": "2022-09-08T03:38:07.603685",
     "exception": false,
     "start_time": "2022-09-08T03:38:07.565185",
     "status": "completed"
    },
    "tags": []
   },
   "outputs": [],
   "source": [
    "#hide\n",
    "%load_ext autoreload\n",
    "%autoreload 2"
   ]
  },
  {
   "cell_type": "code",
   "execution_count": 2,
   "id": "overall-advancement",
   "metadata": {
    "execution": {
     "iopub.execute_input": "2022-09-08T03:38:07.631631Z",
     "iopub.status.busy": "2022-09-08T03:38:07.630971Z",
     "iopub.status.idle": "2022-09-08T03:38:09.116103Z",
     "shell.execute_reply": "2022-09-08T03:38:09.115128Z"
    },
    "papermill": {
     "duration": 1.500681,
     "end_time": "2022-09-08T03:38:09.116322",
     "exception": false,
     "start_time": "2022-09-08T03:38:07.615641",
     "status": "completed"
    },
    "tags": []
   },
   "outputs": [],
   "source": [
    "#hide\n",
    "from scripts.read_data import read_api\n",
    "from IPython.display import HTML\n",
    "import plotly.graph_objects as go\n"
   ]
  },
  {
   "cell_type": "code",
   "execution_count": 3,
   "id": "light-crazy",
   "metadata": {
    "execution": {
     "iopub.execute_input": "2022-09-08T03:38:09.145907Z",
     "iopub.status.busy": "2022-09-08T03:38:09.145219Z",
     "iopub.status.idle": "2022-09-08T03:38:09.172773Z",
     "shell.execute_reply": "2022-09-08T03:38:09.172064Z"
    },
    "papermill": {
     "duration": 0.04328,
     "end_time": "2022-09-08T03:38:09.172938",
     "exception": false,
     "start_time": "2022-09-08T03:38:09.129658",
     "status": "completed"
    },
    "tags": []
   },
   "outputs": [],
   "source": [
    "#hide\n",
    "### ICO koreliacija"
   ]
  },
  {
   "cell_type": "code",
   "execution_count": 4,
   "id": "likely-bahrain",
   "metadata": {
    "execution": {
     "iopub.execute_input": "2022-09-08T03:38:09.205154Z",
     "iopub.status.busy": "2022-09-08T03:38:09.204473Z",
     "iopub.status.idle": "2022-09-08T03:38:10.185172Z",
     "shell.execute_reply": "2022-09-08T03:38:10.185763Z"
    },
    "papermill": {
     "duration": 0.999153,
     "end_time": "2022-09-08T03:38:10.185923",
     "exception": false,
     "start_time": "2022-09-08T03:38:09.186770",
     "status": "completed"
    },
    "tags": []
   },
   "outputs": [],
   "source": [
    "#hide\n",
    "import matplotlib.pyplot as plt\n",
    "import numpy as np\n",
    "import pandas as pd\n",
    "import seaborn as sns\n",
    "import matplotlib.pyplot as plt \n",
    "import matplotlib.dates as mdates\n",
    "import matplotlib.pyplot as plt"
   ]
  },
  {
   "cell_type": "code",
   "execution_count": 5,
   "id": "superior-blanket",
   "metadata": {
    "execution": {
     "iopub.execute_input": "2022-09-08T03:38:10.218566Z",
     "iopub.status.busy": "2022-09-08T03:38:10.216836Z",
     "iopub.status.idle": "2022-09-08T03:38:23.240825Z",
     "shell.execute_reply": "2022-09-08T03:38:23.240222Z"
    },
    "papermill": {
     "duration": 13.041548,
     "end_time": "2022-09-08T03:38:23.240971",
     "exception": false,
     "start_time": "2022-09-08T03:38:10.199423",
     "status": "completed"
    },
    "tags": []
   },
   "outputs": [
    {
     "name": "stderr",
     "output_type": "stream",
     "text": [
      "/home/runner/work/corr-app/corr-app/_notebooks/scripts/read_data.py:187: SettingWithCopyWarning:\n",
      "\n",
      "\n",
      "A value is trying to be set on a copy of a slice from a DataFrame.\n",
      "Try using .loc[row_indexer,col_indexer] = value instead\n",
      "\n",
      "See the caveats in the documentation: https://pandas.pydata.org/pandas-docs/stable/user_guide/indexing.html#returning-a-view-versus-a-copy\n",
      "\n"
     ]
    },
    {
     "name": "stderr",
     "output_type": "stream",
     "text": [
      "/home/runner/work/corr-app/corr-app/_notebooks/scripts/read_data.py:215: SettingWithCopyWarning:\n",
      "\n",
      "\n",
      "A value is trying to be set on a copy of a slice from a DataFrame.\n",
      "Try using .loc[row_indexer,col_indexer] = value instead\n",
      "\n",
      "See the caveats in the documentation: https://pandas.pydata.org/pandas-docs/stable/user_guide/indexing.html#returning-a-view-versus-a-copy\n",
      "\n"
     ]
    }
   ],
   "source": [
    "#hide\n",
    "df_all = read_api()\n",
    "#df_all = df_all.drop(['SP500', 'XAU', 'ETH', 'BTC'], axis=1)\n",
    "\n"
   ]
  },
  {
   "cell_type": "code",
   "execution_count": 6,
   "id": "mature-alert",
   "metadata": {
    "execution": {
     "iopub.execute_input": "2022-09-08T03:38:23.275781Z",
     "iopub.status.busy": "2022-09-08T03:38:23.274620Z",
     "iopub.status.idle": "2022-09-08T03:38:23.310969Z",
     "shell.execute_reply": "2022-09-08T03:38:23.311527Z"
    },
    "papermill": {
     "duration": 0.056022,
     "end_time": "2022-09-08T03:38:23.311692",
     "exception": false,
     "start_time": "2022-09-08T03:38:23.255670",
     "status": "completed"
    },
    "tags": []
   },
   "outputs": [],
   "source": [
    "#hide_input\n",
    "sum_corr = df_all.corr().sum().sort_values(ascending=True).index.values\n",
    "#df_all[sum_corr].corr()"
   ]
  },
  {
   "cell_type": "markdown",
   "id": "complex-syndicate",
   "metadata": {
    "papermill": {
     "duration": 0.01502,
     "end_time": "2022-09-08T03:38:23.340294",
     "exception": false,
     "start_time": "2022-09-08T03:38:23.325274",
     "status": "completed"
    },
    "tags": []
   },
   "source": [
    "## Išplėstinė koreliacijų matrica. "
   ]
  },
  {
   "cell_type": "code",
   "execution_count": 7,
   "id": "atomic-omaha",
   "metadata": {
    "execution": {
     "iopub.execute_input": "2022-09-08T03:38:23.374183Z",
     "iopub.status.busy": "2022-09-08T03:38:23.373429Z",
     "iopub.status.idle": "2022-09-08T03:38:24.833897Z",
     "shell.execute_reply": "2022-09-08T03:38:24.834487Z"
    },
    "papermill": {
     "duration": 1.479929,
     "end_time": "2022-09-08T03:38:24.834655",
     "exception": false,
     "start_time": "2022-09-08T03:38:23.354726",
     "status": "completed"
    },
    "tags": []
   },
   "outputs": [
    {
     "data": {
      "image/png": "[encoded data removed]",
      "text/plain": [
       "<Figure size 1080x792 with 2 Axes>"
      ]
     },
     "metadata": {
      "needs_background": "light"
     },
     "output_type": "display_data"
    }
   ],
   "source": [
    "#hide_input\n",
    "plt.figure(figsize=(15, 11))\n",
    "sns.heatmap(df_all[sum_corr].corr(), annot=True, cmap=\"cubehelix\") \n",
    "sns.set(font_scale=1.25)\n",
    "plt.savefig('corr_matrix.png', format='eps')"
   ]
  },
  {
   "cell_type": "code",
   "execution_count": 8,
   "id": "arbitrary-sullivan",
   "metadata": {
    "execution": {
     "iopub.execute_input": "2022-09-08T03:38:24.871822Z",
     "iopub.status.busy": "2022-09-08T03:38:24.869547Z",
     "iopub.status.idle": "2022-09-08T03:38:24.901981Z",
     "shell.execute_reply": "2022-09-08T03:38:24.901330Z"
    },
    "papermill": {
     "duration": 0.051667,
     "end_time": "2022-09-08T03:38:24.902120",
     "exception": false,
     "start_time": "2022-09-08T03:38:24.850453",
     "status": "completed"
    },
    "tags": []
   },
   "outputs": [],
   "source": [
    "#hide\n",
    "#df_all_mrk = read_api()"
   ]
  },
  {
   "cell_type": "code",
   "execution_count": 9,
   "id": "delayed-adapter",
   "metadata": {
    "execution": {
     "iopub.execute_input": "2022-09-08T03:38:24.940640Z",
     "iopub.status.busy": "2022-09-08T03:38:24.939903Z",
     "iopub.status.idle": "2022-09-08T03:38:24.971828Z",
     "shell.execute_reply": "2022-09-08T03:38:24.970981Z"
    },
    "papermill": {
     "duration": 0.054411,
     "end_time": "2022-09-08T03:38:24.972005",
     "exception": false,
     "start_time": "2022-09-08T03:38:24.917594",
     "status": "completed"
    },
    "tags": []
   },
   "outputs": [],
   "source": [
    "#hide\n",
    "#Koreliacijų koeficientai"
   ]
  },
  {
   "cell_type": "code",
   "execution_count": 10,
   "id": "seeing-celebration",
   "metadata": {
    "execution": {
     "iopub.execute_input": "2022-09-08T03:38:25.010743Z",
     "iopub.status.busy": "2022-09-08T03:38:25.009958Z",
     "iopub.status.idle": "2022-09-08T03:38:25.040008Z",
     "shell.execute_reply": "2022-09-08T03:38:25.040544Z"
    },
    "papermill": {
     "duration": 0.051844,
     "end_time": "2022-09-08T03:38:25.040716",
     "exception": false,
     "start_time": "2022-09-08T03:38:24.988872",
     "status": "completed"
    },
    "tags": []
   },
   "outputs": [],
   "source": [
    "#hide_input\n",
    "#sum_corr = df_all_mrk.corr().sum().sort_values(ascending=True).index.values\n",
    "#df_all_mrk[sum_corr].corr()"
   ]
  },
  {
   "cell_type": "code",
   "execution_count": 11,
   "id": "other-painting",
   "metadata": {
    "execution": {
     "iopub.execute_input": "2022-09-08T03:38:25.078231Z",
     "iopub.status.busy": "2022-09-08T03:38:25.077525Z",
     "iopub.status.idle": "2022-09-08T03:38:25.109970Z",
     "shell.execute_reply": "2022-09-08T03:38:25.109374Z"
    },
    "papermill": {
     "duration": 0.053835,
     "end_time": "2022-09-08T03:38:25.110119",
     "exception": false,
     "start_time": "2022-09-08T03:38:25.056284",
     "status": "completed"
    },
    "tags": []
   },
   "outputs": [],
   "source": [
    "#hide\n",
    "#Koreliacijos matrica. "
   ]
  },
  {
   "cell_type": "code",
   "execution_count": 12,
   "id": "modular-magnitude",
   "metadata": {
    "execution": {
     "iopub.execute_input": "2022-09-08T03:38:25.147845Z",
     "iopub.status.busy": "2022-09-08T03:38:25.146978Z",
     "iopub.status.idle": "2022-09-08T03:38:25.180188Z",
     "shell.execute_reply": "2022-09-08T03:38:25.179364Z"
    },
    "papermill": {
     "duration": 0.054538,
     "end_time": "2022-09-08T03:38:25.180340",
     "exception": false,
     "start_time": "2022-09-08T03:38:25.125802",
     "status": "completed"
    },
    "tags": []
   },
   "outputs": [],
   "source": [
    "#hide_input\n",
    "#plt.figure(figsize=(15, 8))\n",
    "#sns.heatmap(df_all_mrk[sum_corr].corr(), annot=True, cmap=\"BrBG\");\n",
    "#plt.savefig('corr_matrix_all.eps', format='eps')"
   ]
  },
  {
   "cell_type": "code",
   "execution_count": null,
   "id": "original-senator",
   "metadata": {
    "papermill": {
     "duration": 0.015457,
     "end_time": "2022-09-08T03:38:25.211246",
     "exception": false,
     "start_time": "2022-09-08T03:38:25.195789",
     "status": "completed"
    },
    "tags": []
   },
   "outputs": [],
   "source": []
  },
  {
   "cell_type": "code",
   "execution_count": null,
   "id": "saving-secretariat",
   "metadata": {
    "papermill": {
     "duration": 0.0156,
     "end_time": "2022-09-08T03:38:25.242471",
     "exception": false,
     "start_time": "2022-09-08T03:38:25.226871",
     "status": "completed"
    },
    "tags": []
   },
   "outputs": [],
   "source": []
  }
 ],
 "metadata": {
  "kernelspec": {
   "display_name": "Python 3",
   "language": "python",
   "name": "python3"
  },
  "language_info": {
   "codemirror_mode": {
    "name": "ipython",
    "version": 3
   },
   "file_extension": ".py",
   "mimetype": "text/x-python",
   "name": "python",
   "nbconvert_exporter": "python",
   "pygments_lexer": "ipython3",
   "version": "3.6.15"
  },
  "papermill": {
   "default_parameters": {},
   "duration": 19.646878,
   "end_time": "2022-09-08T03:38:25.879215",
   "environment_variables": {},
   "exception": null,
   "input_path": "App-Correlation_charts.ipynb",
   "output_path": "App-Correlation_charts.ipynb",
   "parameters": {},
   "start_time": "2022-09-08T03:38:06.232337",
   "version": "2.2.2"
  }
 },
 "nbformat": 4,
 "nbformat_minor": 5
}