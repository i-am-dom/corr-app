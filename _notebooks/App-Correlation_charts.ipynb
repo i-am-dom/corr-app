{
 "cells": [
  {
   "cell_type": "markdown",
   "id": "touched-facility",
   "metadata": {
    "papermill": {
     "duration": 0.015133,
     "end_time": "2022-03-18T02:21:58.405604",
     "exception": false,
     "start_time": "2022-03-18T02:21:58.390471",
     "status": "completed"
    },
    "tags": []
   },
   "source": [
    "# Koreliacijų matrica\n",
    "> Išplėstinė koreliacijų matrica. \n",
    "\n",
    "- toc: true \n",
    "- badges: true\n",
    "- comments: false\n",
    "- categories: [Dominykas Tautkus]\n",
    "- image: images/matrix.png"
   ]
  },
  {
   "cell_type": "code",
   "execution_count": null,
   "id": "premium-weekend",
   "metadata": {
    "papermill": {
     "duration": 0.011867,
     "end_time": "2022-03-18T02:21:58.430145",
     "exception": false,
     "start_time": "2022-03-18T02:21:58.418278",
     "status": "completed"
    },
    "tags": []
   },
   "outputs": [],
   "source": []
  },
  {
   "cell_type": "code",
   "execution_count": 1,
   "id": "vertical-rebate",
   "metadata": {
    "execution": {
     "iopub.execute_input": "2022-03-18T02:21:58.468398Z",
     "iopub.status.busy": "2022-03-18T02:21:58.467768Z",
     "iopub.status.idle": "2022-03-18T02:21:58.478218Z",
     "shell.execute_reply": "2022-03-18T02:21:58.478733Z"
    },
    "papermill": {
     "duration": 0.037381,
     "end_time": "2022-03-18T02:21:58.478906",
     "exception": false,
     "start_time": "2022-03-18T02:21:58.441525",
     "status": "completed"
    },
    "tags": []
   },
   "outputs": [],
   "source": [
    "#hide\n",
    "%load_ext autoreload\n",
    "%autoreload 2"
   ]
  },
  {
   "cell_type": "code",
   "execution_count": 2,
   "id": "overall-advancement",
   "metadata": {
    "execution": {
     "iopub.execute_input": "2022-03-18T02:21:58.504959Z",
     "iopub.status.busy": "2022-03-18T02:21:58.504372Z",
     "iopub.status.idle": "2022-03-18T02:21:59.897348Z",
     "shell.execute_reply": "2022-03-18T02:21:59.896766Z"
    },
    "papermill": {
     "duration": 1.407527,
     "end_time": "2022-03-18T02:21:59.897489",
     "exception": false,
     "start_time": "2022-03-18T02:21:58.489962",
     "status": "completed"
    },
    "tags": []
   },
   "outputs": [],
   "source": [
    "#hide\n",
    "from scripts.read_data import read_api\n",
    "from IPython.display import HTML\n",
    "import plotly.graph_objects as go\n"
   ]
  },
  {
   "cell_type": "code",
   "execution_count": 3,
   "id": "light-crazy",
   "metadata": {
    "execution": {
     "iopub.execute_input": "2022-03-18T02:21:59.928354Z",
     "iopub.status.busy": "2022-03-18T02:21:59.927739Z",
     "iopub.status.idle": "2022-03-18T02:21:59.956642Z",
     "shell.execute_reply": "2022-03-18T02:21:59.955965Z"
    },
    "papermill": {
     "duration": 0.045984,
     "end_time": "2022-03-18T02:21:59.956801",
     "exception": false,
     "start_time": "2022-03-18T02:21:59.910817",
     "status": "completed"
    },
    "tags": []
   },
   "outputs": [],
   "source": [
    "#hide\n",
    "### ICO koreliacija"
   ]
  },
  {
   "cell_type": "code",
   "execution_count": 4,
   "id": "likely-bahrain",
   "metadata": {
    "execution": {
     "iopub.execute_input": "2022-03-18T02:21:59.987071Z",
     "iopub.status.busy": "2022-03-18T02:21:59.986467Z",
     "iopub.status.idle": "2022-03-18T02:22:00.989457Z",
     "shell.execute_reply": "2022-03-18T02:22:00.989936Z"
    },
    "papermill": {
     "duration": 1.019636,
     "end_time": "2022-03-18T02:22:00.990093",
     "exception": false,
     "start_time": "2022-03-18T02:21:59.970457",
     "status": "completed"
    },
    "tags": []
   },
   "outputs": [],
   "source": [
    "#hide\n",
    "import matplotlib.pyplot as plt\n",
    "import numpy as np\n",
    "import pandas as pd\n",
    "import seaborn as sns\n",
    "import matplotlib.pyplot as plt \n",
    "import matplotlib.dates as mdates\n",
    "import matplotlib.pyplot as plt"
   ]
  },
  {
   "cell_type": "code",
   "execution_count": 5,
   "id": "superior-blanket",
   "metadata": {
    "execution": {
     "iopub.execute_input": "2022-03-18T02:22:01.019590Z",
     "iopub.status.busy": "2022-03-18T02:22:01.018983Z",
     "iopub.status.idle": "2022-03-18T02:22:10.783678Z",
     "shell.execute_reply": "2022-03-18T02:22:10.783095Z"
    },
    "papermill": {
     "duration": 9.781375,
     "end_time": "2022-03-18T02:22:10.783813",
     "exception": false,
     "start_time": "2022-03-18T02:22:01.002438",
     "status": "completed"
    },
    "tags": []
   },
   "outputs": [
    {
     "name": "stderr",
     "output_type": "stream",
     "text": [
      "/home/runner/work/corr-app/corr-app/_notebooks/scripts/read_data.py:187: SettingWithCopyWarning:\n",
      "\n",
      "\n",
      "A value is trying to be set on a copy of a slice from a DataFrame.\n",
      "Try using .loc[row_indexer,col_indexer] = value instead\n",
      "\n",
      "See the caveats in the documentation: https://pandas.pydata.org/pandas-docs/stable/user_guide/indexing.html#returning-a-view-versus-a-copy\n",
      "\n"
     ]
    },
    {
     "name": "stderr",
     "output_type": "stream",
     "text": [
      "/home/runner/work/corr-app/corr-app/_notebooks/scripts/read_data.py:215: SettingWithCopyWarning:\n",
      "\n",
      "\n",
      "A value is trying to be set on a copy of a slice from a DataFrame.\n",
      "Try using .loc[row_indexer,col_indexer] = value instead\n",
      "\n",
      "See the caveats in the documentation: https://pandas.pydata.org/pandas-docs/stable/user_guide/indexing.html#returning-a-view-versus-a-copy\n",
      "\n"
     ]
    }
   ],
   "source": [
    "#hide\n",
    "df_all = read_api()\n",
    "#df_all = df_all.drop(['SP500', 'XAU', 'ETH', 'BTC'], axis=1)\n",
    "\n"
   ]
  },
  {
   "cell_type": "code",
   "execution_count": 6,
   "id": "mature-alert",
   "metadata": {
    "execution": {
     "iopub.execute_input": "2022-03-18T02:22:10.815009Z",
     "iopub.status.busy": "2022-03-18T02:22:10.814271Z",
     "iopub.status.idle": "2022-03-18T02:22:10.847177Z",
     "shell.execute_reply": "2022-03-18T02:22:10.846452Z"
    },
    "papermill": {
     "duration": 0.051057,
     "end_time": "2022-03-18T02:22:10.847347",
     "exception": false,
     "start_time": "2022-03-18T02:22:10.796290",
     "status": "completed"
    },
    "tags": []
   },
   "outputs": [],
   "source": [
    "#hide_input\n",
    "sum_corr = df_all.corr().sum().sort_values(ascending=True).index.values\n",
    "#df_all[sum_corr].corr()"
   ]
  },
  {
   "cell_type": "markdown",
   "id": "complex-syndicate",
   "metadata": {
    "papermill": {
     "duration": 0.019521,
     "end_time": "2022-03-18T02:22:10.879571",
     "exception": false,
     "start_time": "2022-03-18T02:22:10.860050",
     "status": "completed"
    },
    "tags": []
   },
   "source": [
    "## Išplėstinė koreliacijų matrica. "
   ]
  },
  {
   "cell_type": "code",
   "execution_count": 7,
   "id": "atomic-omaha",
   "metadata": {
    "execution": {
     "iopub.execute_input": "2022-03-18T02:22:10.907922Z",
     "iopub.status.busy": "2022-03-18T02:22:10.907370Z",
     "iopub.status.idle": "2022-03-18T02:22:12.252548Z",
     "shell.execute_reply": "2022-03-18T02:22:12.251695Z"
    },
    "papermill": {
     "duration": 1.360622,
     "end_time": "2022-03-18T02:22:12.252681",
     "exception": false,
     "start_time": "2022-03-18T02:22:10.892059",
     "status": "completed"
    },
    "tags": []
   },
   "outputs": [
    {
     "data": {
      "image/png": "[encoded data removed]",
      "text/plain": [
       "<Figure size 1080x792 with 2 Axes>"
      ]
     },
     "metadata": {
      "needs_background": "light"
     },
     "output_type": "display_data"
    }
   ],
   "source": [
    "#hide_input\n",
    "plt.figure(figsize=(15, 11))\n",
    "sns.heatmap(df_all[sum_corr].corr(), annot=True, cmap=\"cubehelix\") \n",
    "sns.set(font_scale=1.25)\n",
    "plt.savefig('corr_matrix.png', format='eps')"
   ]
  },
  {
   "cell_type": "code",
   "execution_count": 8,
   "id": "arbitrary-sullivan",
   "metadata": {
    "execution": {
     "iopub.execute_input": "2022-03-18T02:22:12.285130Z",
     "iopub.status.busy": "2022-03-18T02:22:12.284178Z",
     "iopub.status.idle": "2022-03-18T02:22:12.312853Z",
     "shell.execute_reply": "2022-03-18T02:22:12.312027Z"
    },
    "papermill": {
     "duration": 0.046378,
     "end_time": "2022-03-18T02:22:12.313044",
     "exception": false,
     "start_time": "2022-03-18T02:22:12.266666",
     "status": "completed"
    },
    "tags": []
   },
   "outputs": [],
   "source": [
    "#hide\n",
    "#df_all_mrk = read_api()"
   ]
  },
  {
   "cell_type": "code",
   "execution_count": 9,
   "id": "delayed-adapter",
   "metadata": {
    "execution": {
     "iopub.execute_input": "2022-03-18T02:22:12.348107Z",
     "iopub.status.busy": "2022-03-18T02:22:12.347525Z",
     "iopub.status.idle": "2022-03-18T02:22:12.376182Z",
     "shell.execute_reply": "2022-03-18T02:22:12.376793Z"
    },
    "papermill": {
     "duration": 0.046956,
     "end_time": "2022-03-18T02:22:12.376979",
     "exception": false,
     "start_time": "2022-03-18T02:22:12.330023",
     "status": "completed"
    },
    "tags": []
   },
   "outputs": [],
   "source": [
    "#hide\n",
    "#Koreliacijų koeficientai"
   ]
  },
  {
   "cell_type": "code",
   "execution_count": 10,
   "id": "seeing-celebration",
   "metadata": {
    "execution": {
     "iopub.execute_input": "2022-03-18T02:22:12.410597Z",
     "iopub.status.busy": "2022-03-18T02:22:12.410053Z",
     "iopub.status.idle": "2022-03-18T02:22:12.438376Z",
     "shell.execute_reply": "2022-03-18T02:22:12.437743Z"
    },
    "papermill": {
     "duration": 0.045426,
     "end_time": "2022-03-18T02:22:12.438523",
     "exception": false,
     "start_time": "2022-03-18T02:22:12.393097",
     "status": "completed"
    },
    "tags": []
   },
   "outputs": [],
   "source": [
    "#hide_input\n",
    "#sum_corr = df_all_mrk.corr().sum().sort_values(ascending=True).index.values\n",
    "#df_all_mrk[sum_corr].corr()"
   ]
  },
  {
   "cell_type": "code",
   "execution_count": 11,
   "id": "other-painting",
   "metadata": {
    "execution": {
     "iopub.execute_input": "2022-03-18T02:22:12.468643Z",
     "iopub.status.busy": "2022-03-18T02:22:12.468064Z",
     "iopub.status.idle": "2022-03-18T02:22:12.495751Z",
     "shell.execute_reply": "2022-03-18T02:22:12.495106Z"
    },
    "papermill": {
     "duration": 0.043295,
     "end_time": "2022-03-18T02:22:12.495923",
     "exception": false,
     "start_time": "2022-03-18T02:22:12.452628",
     "status": "completed"
    },
    "tags": []
   },
   "outputs": [],
   "source": [
    "#hide\n",
    "#Koreliacijos matrica. "
   ]
  },
  {
   "cell_type": "code",
   "execution_count": 12,
   "id": "modular-magnitude",
   "metadata": {
    "execution": {
     "iopub.execute_input": "2022-03-18T02:22:12.527794Z",
     "iopub.status.busy": "2022-03-18T02:22:12.527378Z",
     "iopub.status.idle": "2022-03-18T02:22:12.555900Z",
     "shell.execute_reply": "2022-03-18T02:22:12.556509Z"
    },
    "papermill": {
     "duration": 0.046007,
     "end_time": "2022-03-18T02:22:12.556689",
     "exception": false,
     "start_time": "2022-03-18T02:22:12.510682",
     "status": "completed"
    },
    "tags": []
   },
   "outputs": [],
   "source": [
    "#hide_input\n",
    "#plt.figure(figsize=(15, 8))\n",
    "#sns.heatmap(df_all_mrk[sum_corr].corr(), annot=True, cmap=\"BrBG\");\n",
    "#plt.savefig('corr_matrix_all.eps', format='eps')"
   ]
  },
  {
   "cell_type": "code",
   "execution_count": null,
   "id": "original-senator",
   "metadata": {
    "papermill": {
     "duration": 0.013927,
     "end_time": "2022-03-18T02:22:12.586708",
     "exception": false,
     "start_time": "2022-03-18T02:22:12.572781",
     "status": "completed"
    },
    "tags": []
   },
   "outputs": [],
   "source": []
  },
  {
   "cell_type": "code",
   "execution_count": null,
   "id": "saving-secretariat",
   "metadata": {
    "papermill": {
     "duration": 0.013999,
     "end_time": "2022-03-18T02:22:12.615189",
     "exception": false,
     "start_time": "2022-03-18T02:22:12.601190",
     "status": "completed"
    },
    "tags": []
   },
   "outputs": [],
   "source": []
  }
 ],
 "metadata": {
  "kernelspec": {
   "display_name": "Python 3",
   "language": "python",
   "name": "python3"
  },
  "language_info": {
   "codemirror_mode": {
    "name": "ipython",
    "version": 3
   },
   "file_extension": ".py",
   "mimetype": "text/x-python",
   "name": "python",
   "nbconvert_exporter": "python",
   "pygments_lexer": "ipython3",
   "version": "3.6.15"
  },
  "papermill": {
   "default_parameters": {},
   "duration": 15.909358,
   "end_time": "2022-03-18T02:22:13.150698",
   "environment_variables": {},
   "exception": null,
   "input_path": "App-Correlation_charts.ipynb",
   "output_path": "App-Correlation_charts.ipynb",
   "parameters": {},
   "start_time": "2022-03-18T02:21:57.241340",
   "version": "2.2.2"
  }
 },
 "nbformat": 4,
 "nbformat_minor": 5
}