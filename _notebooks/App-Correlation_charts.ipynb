{
 "cells": [
  {
   "cell_type": "markdown",
   "id": "touched-facility",
   "metadata": {
    "papermill": {
     "duration": 0.015585,
     "end_time": "2022-01-07T02:11:53.224396",
     "exception": false,
     "start_time": "2022-01-07T02:11:53.208811",
     "status": "completed"
    },
    "tags": []
   },
   "source": [
    "# Koreliacijų matrica\n",
    "> Išplėstinė koreliacijų matrica. \n",
    "\n",
    "- toc: true \n",
    "- badges: true\n",
    "- comments: false\n",
    "- categories: [Dominykas Tautkus]\n",
    "- image: images/matrix.png"
   ]
  },
  {
   "cell_type": "code",
   "execution_count": null,
   "id": "premium-weekend",
   "metadata": {
    "papermill": {
     "duration": 0.010964,
     "end_time": "2022-01-07T02:11:53.246783",
     "exception": false,
     "start_time": "2022-01-07T02:11:53.235819",
     "status": "completed"
    },
    "tags": []
   },
   "outputs": [],
   "source": []
  },
  {
   "cell_type": "code",
   "execution_count": 1,
   "id": "vertical-rebate",
   "metadata": {
    "execution": {
     "iopub.execute_input": "2022-01-07T02:11:53.279146Z",
     "iopub.status.busy": "2022-01-07T02:11:53.278627Z",
     "iopub.status.idle": "2022-01-07T02:11:53.288258Z",
     "shell.execute_reply": "2022-01-07T02:11:53.288645Z"
    },
    "papermill": {
     "duration": 0.031336,
     "end_time": "2022-01-07T02:11:53.288780",
     "exception": false,
     "start_time": "2022-01-07T02:11:53.257444",
     "status": "completed"
    },
    "tags": []
   },
   "outputs": [],
   "source": [
    "#hide\n",
    "%load_ext autoreload\n",
    "%autoreload 2"
   ]
  },
  {
   "cell_type": "code",
   "execution_count": 2,
   "id": "overall-advancement",
   "metadata": {
    "execution": {
     "iopub.execute_input": "2022-01-07T02:11:53.312876Z",
     "iopub.status.busy": "2022-01-07T02:11:53.312375Z",
     "iopub.status.idle": "2022-01-07T02:11:54.413447Z",
     "shell.execute_reply": "2022-01-07T02:11:54.412524Z"
    },
    "papermill": {
     "duration": 1.114157,
     "end_time": "2022-01-07T02:11:54.413586",
     "exception": false,
     "start_time": "2022-01-07T02:11:53.299429",
     "status": "completed"
    },
    "tags": []
   },
   "outputs": [],
   "source": [
    "#hide\n",
    "from scripts.read_data import read_api\n",
    "from IPython.display import HTML\n",
    "import plotly.graph_objects as go\n"
   ]
  },
  {
   "cell_type": "code",
   "execution_count": 3,
   "id": "light-crazy",
   "metadata": {
    "execution": {
     "iopub.execute_input": "2022-01-07T02:11:54.444732Z",
     "iopub.status.busy": "2022-01-07T02:11:54.441199Z",
     "iopub.status.idle": "2022-01-07T02:11:54.462063Z",
     "shell.execute_reply": "2022-01-07T02:11:54.461625Z"
    },
    "papermill": {
     "duration": 0.03746,
     "end_time": "2022-01-07T02:11:54.462173",
     "exception": false,
     "start_time": "2022-01-07T02:11:54.424713",
     "status": "completed"
    },
    "tags": []
   },
   "outputs": [],
   "source": [
    "#hide\n",
    "### ICO koreliacija"
   ]
  },
  {
   "cell_type": "code",
   "execution_count": 4,
   "id": "likely-bahrain",
   "metadata": {
    "execution": {
     "iopub.execute_input": "2022-01-07T02:11:54.485706Z",
     "iopub.status.busy": "2022-01-07T02:11:54.485197Z",
     "iopub.status.idle": "2022-01-07T02:11:55.333633Z",
     "shell.execute_reply": "2022-01-07T02:11:55.334140Z"
    },
    "papermill": {
     "duration": 0.86152,
     "end_time": "2022-01-07T02:11:55.334308",
     "exception": false,
     "start_time": "2022-01-07T02:11:54.472788",
     "status": "completed"
    },
    "tags": []
   },
   "outputs": [],
   "source": [
    "#hide\n",
    "import matplotlib.pyplot as plt\n",
    "import numpy as np\n",
    "import pandas as pd\n",
    "import seaborn as sns\n",
    "import matplotlib.pyplot as plt \n",
    "import matplotlib.dates as mdates\n",
    "import matplotlib.pyplot as plt"
   ]
  },
  {
   "cell_type": "code",
   "execution_count": 5,
   "id": "superior-blanket",
   "metadata": {
    "execution": {
     "iopub.execute_input": "2022-01-07T02:11:55.363346Z",
     "iopub.status.busy": "2022-01-07T02:11:55.362749Z",
     "iopub.status.idle": "2022-01-07T02:12:09.044607Z",
     "shell.execute_reply": "2022-01-07T02:12:09.044113Z"
    },
    "papermill": {
     "duration": 13.699181,
     "end_time": "2022-01-07T02:12:09.044725",
     "exception": false,
     "start_time": "2022-01-07T02:11:55.345544",
     "status": "completed"
    },
    "tags": []
   },
   "outputs": [
    {
     "name": "stderr",
     "output_type": "stream",
     "text": [
      "/home/runner/work/corr-app/corr-app/_notebooks/scripts/read_data.py:187: SettingWithCopyWarning:\n",
      "\n",
      "\n",
      "A value is trying to be set on a copy of a slice from a DataFrame.\n",
      "Try using .loc[row_indexer,col_indexer] = value instead\n",
      "\n",
      "See the caveats in the documentation: https://pandas.pydata.org/pandas-docs/stable/user_guide/indexing.html#returning-a-view-versus-a-copy\n",
      "\n"
     ]
    },
    {
     "name": "stderr",
     "output_type": "stream",
     "text": [
      "/home/runner/work/corr-app/corr-app/_notebooks/scripts/read_data.py:215: SettingWithCopyWarning:\n",
      "\n",
      "\n",
      "A value is trying to be set on a copy of a slice from a DataFrame.\n",
      "Try using .loc[row_indexer,col_indexer] = value instead\n",
      "\n",
      "See the caveats in the documentation: https://pandas.pydata.org/pandas-docs/stable/user_guide/indexing.html#returning-a-view-versus-a-copy\n",
      "\n"
     ]
    }
   ],
   "source": [
    "#hide\n",
    "df_all = read_api()\n",
    "#df_all = df_all.drop(['SP500', 'XAU', 'ETH', 'BTC'], axis=1)\n",
    "\n"
   ]
  },
  {
   "cell_type": "code",
   "execution_count": 6,
   "id": "mature-alert",
   "metadata": {
    "execution": {
     "iopub.execute_input": "2022-01-07T02:12:09.074038Z",
     "iopub.status.busy": "2022-01-07T02:12:09.073485Z",
     "iopub.status.idle": "2022-01-07T02:12:09.100718Z",
     "shell.execute_reply": "2022-01-07T02:12:09.100247Z"
    },
    "papermill": {
     "duration": 0.04443,
     "end_time": "2022-01-07T02:12:09.100838",
     "exception": false,
     "start_time": "2022-01-07T02:12:09.056408",
     "status": "completed"
    },
    "tags": []
   },
   "outputs": [],
   "source": [
    "#hide_input\n",
    "sum_corr = df_all.corr().sum().sort_values(ascending=True).index.values\n",
    "#df_all[sum_corr].corr()"
   ]
  },
  {
   "cell_type": "markdown",
   "id": "complex-syndicate",
   "metadata": {
    "papermill": {
     "duration": 0.011155,
     "end_time": "2022-01-07T02:12:09.124218",
     "exception": false,
     "start_time": "2022-01-07T02:12:09.113063",
     "status": "completed"
    },
    "tags": []
   },
   "source": [
    "## Išplėstinė koreliacijų matrica. "
   ]
  },
  {
   "cell_type": "code",
   "execution_count": 7,
   "id": "atomic-omaha",
   "metadata": {
    "execution": {
     "iopub.execute_input": "2022-01-07T02:12:09.150401Z",
     "iopub.status.busy": "2022-01-07T02:12:09.149784Z",
     "iopub.status.idle": "2022-01-07T02:12:10.364580Z",
     "shell.execute_reply": "2022-01-07T02:12:10.364992Z"
    },
    "papermill": {
     "duration": 1.229733,
     "end_time": "2022-01-07T02:12:10.365126",
     "exception": false,
     "start_time": "2022-01-07T02:12:09.135393",
     "status": "completed"
    },
    "tags": []
   },
   "outputs": [
    {
     "data": {
      "image/png": "[encoded data removed]",
      "text/plain": [
       "<Figure size 1080x792 with 2 Axes>"
      ]
     },
     "metadata": {
      "needs_background": "light"
     },
     "output_type": "display_data"
    }
   ],
   "source": [
    "#hide_input\n",
    "plt.figure(figsize=(15, 11))\n",
    "sns.heatmap(df_all[sum_corr].corr(), annot=True, cmap=\"cubehelix\") \n",
    "sns.set(font_scale=1.25)\n",
    "plt.savefig('corr_matrix.png', format='eps')"
   ]
  },
  {
   "cell_type": "code",
   "execution_count": 8,
   "id": "arbitrary-sullivan",
   "metadata": {
    "execution": {
     "iopub.execute_input": "2022-01-07T02:12:10.395332Z",
     "iopub.status.busy": "2022-01-07T02:12:10.394290Z",
     "iopub.status.idle": "2022-01-07T02:12:10.419194Z",
     "shell.execute_reply": "2022-01-07T02:12:10.418674Z"
    },
    "papermill": {
     "duration": 0.04063,
     "end_time": "2022-01-07T02:12:10.419304",
     "exception": false,
     "start_time": "2022-01-07T02:12:10.378674",
     "status": "completed"
    },
    "tags": []
   },
   "outputs": [],
   "source": [
    "#hide\n",
    "#df_all_mrk = read_api()"
   ]
  },
  {
   "cell_type": "code",
   "execution_count": 9,
   "id": "delayed-adapter",
   "metadata": {
    "execution": {
     "iopub.execute_input": "2022-01-07T02:12:10.450593Z",
     "iopub.status.busy": "2022-01-07T02:12:10.450083Z",
     "iopub.status.idle": "2022-01-07T02:12:10.475168Z",
     "shell.execute_reply": "2022-01-07T02:12:10.474706Z"
    },
    "papermill": {
     "duration": 0.041809,
     "end_time": "2022-01-07T02:12:10.475284",
     "exception": false,
     "start_time": "2022-01-07T02:12:10.433475",
     "status": "completed"
    },
    "tags": []
   },
   "outputs": [],
   "source": [
    "#hide\n",
    "#Koreliacijų koeficientai"
   ]
  },
  {
   "cell_type": "code",
   "execution_count": 10,
   "id": "seeing-celebration",
   "metadata": {
    "execution": {
     "iopub.execute_input": "2022-01-07T02:12:10.505109Z",
     "iopub.status.busy": "2022-01-07T02:12:10.504599Z",
     "iopub.status.idle": "2022-01-07T02:12:10.528325Z",
     "shell.execute_reply": "2022-01-07T02:12:10.528715Z"
    },
    "papermill": {
     "duration": 0.039916,
     "end_time": "2022-01-07T02:12:10.528830",
     "exception": false,
     "start_time": "2022-01-07T02:12:10.488914",
     "status": "completed"
    },
    "tags": []
   },
   "outputs": [],
   "source": [
    "#hide_input\n",
    "#sum_corr = df_all_mrk.corr().sum().sort_values(ascending=True).index.values\n",
    "#df_all_mrk[sum_corr].corr()"
   ]
  },
  {
   "cell_type": "code",
   "execution_count": 11,
   "id": "other-painting",
   "metadata": {
    "execution": {
     "iopub.execute_input": "2022-01-07T02:12:10.558864Z",
     "iopub.status.busy": "2022-01-07T02:12:10.558367Z",
     "iopub.status.idle": "2022-01-07T02:12:10.581529Z",
     "shell.execute_reply": "2022-01-07T02:12:10.581062Z"
    },
    "papermill": {
     "duration": 0.03962,
     "end_time": "2022-01-07T02:12:10.581645",
     "exception": false,
     "start_time": "2022-01-07T02:12:10.542025",
     "status": "completed"
    },
    "tags": []
   },
   "outputs": [],
   "source": [
    "#hide\n",
    "#Koreliacijos matrica. "
   ]
  },
  {
   "cell_type": "code",
   "execution_count": 12,
   "id": "modular-magnitude",
   "metadata": {
    "execution": {
     "iopub.execute_input": "2022-01-07T02:12:10.622761Z",
     "iopub.status.busy": "2022-01-07T02:12:10.619469Z",
     "iopub.status.idle": "2022-01-07T02:12:10.639135Z",
     "shell.execute_reply": "2022-01-07T02:12:10.638736Z"
    },
    "papermill": {
     "duration": 0.04336,
     "end_time": "2022-01-07T02:12:10.639235",
     "exception": false,
     "start_time": "2022-01-07T02:12:10.595875",
     "status": "completed"
    },
    "tags": []
   },
   "outputs": [],
   "source": [
    "#hide_input\n",
    "#plt.figure(figsize=(15, 8))\n",
    "#sns.heatmap(df_all_mrk[sum_corr].corr(), annot=True, cmap=\"BrBG\");\n",
    "#plt.savefig('corr_matrix_all.eps', format='eps')"
   ]
  },
  {
   "cell_type": "code",
   "execution_count": null,
   "id": "original-senator",
   "metadata": {
    "papermill": {
     "duration": 0.013106,
     "end_time": "2022-01-07T02:12:10.665379",
     "exception": false,
     "start_time": "2022-01-07T02:12:10.652273",
     "status": "completed"
    },
    "tags": []
   },
   "outputs": [],
   "source": []
  },
  {
   "cell_type": "code",
   "execution_count": null,
   "id": "saving-secretariat",
   "metadata": {
    "papermill": {
     "duration": 0.013832,
     "end_time": "2022-01-07T02:12:10.692295",
     "exception": false,
     "start_time": "2022-01-07T02:12:10.678463",
     "status": "completed"
    },
    "tags": []
   },
   "outputs": [],
   "source": []
  }
 ],
 "metadata": {
  "kernelspec": {
   "display_name": "Python 3",
   "language": "python",
   "name": "python3"
  },
  "language_info": {
   "codemirror_mode": {
    "name": "ipython",
    "version": 3
   },
   "file_extension": ".py",
   "mimetype": "text/x-python",
   "name": "python",
   "nbconvert_exporter": "python",
   "pygments_lexer": "ipython3",
   "version": "3.6.15"
  },
  "papermill": {
   "default_parameters": {},
   "duration": 18.916078,
   "end_time": "2022-01-07T02:12:11.212455",
   "environment_variables": {},
   "exception": null,
   "input_path": "App-Correlation_charts.ipynb",
   "output_path": "App-Correlation_charts.ipynb",
   "parameters": {},
   "start_time": "2022-01-07T02:11:52.296377",
   "version": "2.2.2"
  }
 },
 "nbformat": 4,
 "nbformat_minor": 5
}