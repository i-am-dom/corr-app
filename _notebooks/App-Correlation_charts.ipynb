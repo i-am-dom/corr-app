{
 "cells": [
  {
   "cell_type": "markdown",
   "id": "touched-facility",
   "metadata": {
    "papermill": {
     "duration": 0.01666,
     "end_time": "2022-05-21T02:21:27.676103",
     "exception": false,
     "start_time": "2022-05-21T02:21:27.659443",
     "status": "completed"
    },
    "tags": []
   },
   "source": [
    "# Koreliacijų matrica\n",
    "> Išplėstinė koreliacijų matrica. \n",
    "\n",
    "- toc: true \n",
    "- badges: true\n",
    "- comments: false\n",
    "- categories: [Dominykas Tautkus]\n",
    "- image: images/matrix.png"
   ]
  },
  {
   "cell_type": "code",
   "execution_count": null,
   "id": "premium-weekend",
   "metadata": {
    "papermill": {
     "duration": 0.013316,
     "end_time": "2022-05-21T02:21:27.703185",
     "exception": false,
     "start_time": "2022-05-21T02:21:27.689869",
     "status": "completed"
    },
    "tags": []
   },
   "outputs": [],
   "source": []
  },
  {
   "cell_type": "code",
   "execution_count": 1,
   "id": "vertical-rebate",
   "metadata": {
    "execution": {
     "iopub.execute_input": "2022-05-21T02:21:27.740729Z",
     "iopub.status.busy": "2022-05-21T02:21:27.740002Z",
     "iopub.status.idle": "2022-05-21T02:21:27.753776Z",
     "shell.execute_reply": "2022-05-21T02:21:27.753095Z"
    },
    "papermill": {
     "duration": 0.037683,
     "end_time": "2022-05-21T02:21:27.753957",
     "exception": false,
     "start_time": "2022-05-21T02:21:27.716274",
     "status": "completed"
    },
    "tags": []
   },
   "outputs": [],
   "source": [
    "#hide\n",
    "%load_ext autoreload\n",
    "%autoreload 2"
   ]
  },
  {
   "cell_type": "code",
   "execution_count": 2,
   "id": "overall-advancement",
   "metadata": {
    "execution": {
     "iopub.execute_input": "2022-05-21T02:21:27.784336Z",
     "iopub.status.busy": "2022-05-21T02:21:27.783587Z",
     "iopub.status.idle": "2022-05-21T02:21:29.298968Z",
     "shell.execute_reply": "2022-05-21T02:21:29.299579Z"
    },
    "papermill": {
     "duration": 1.533303,
     "end_time": "2022-05-21T02:21:29.299826",
     "exception": false,
     "start_time": "2022-05-21T02:21:27.766523",
     "status": "completed"
    },
    "tags": []
   },
   "outputs": [],
   "source": [
    "#hide\n",
    "from scripts.read_data import read_api\n",
    "from IPython.display import HTML\n",
    "import plotly.graph_objects as go\n"
   ]
  },
  {
   "cell_type": "code",
   "execution_count": 3,
   "id": "light-crazy",
   "metadata": {
    "execution": {
     "iopub.execute_input": "2022-05-21T02:21:29.332735Z",
     "iopub.status.busy": "2022-05-21T02:21:29.331936Z",
     "iopub.status.idle": "2022-05-21T02:21:29.355677Z",
     "shell.execute_reply": "2022-05-21T02:21:29.354942Z"
    },
    "papermill": {
     "duration": 0.041752,
     "end_time": "2022-05-21T02:21:29.355814",
     "exception": false,
     "start_time": "2022-05-21T02:21:29.314062",
     "status": "completed"
    },
    "tags": []
   },
   "outputs": [],
   "source": [
    "#hide\n",
    "### ICO koreliacija"
   ]
  },
  {
   "cell_type": "code",
   "execution_count": 4,
   "id": "likely-bahrain",
   "metadata": {
    "execution": {
     "iopub.execute_input": "2022-05-21T02:21:29.387127Z",
     "iopub.status.busy": "2022-05-21T02:21:29.386474Z",
     "iopub.status.idle": "2022-05-21T02:21:30.397177Z",
     "shell.execute_reply": "2022-05-21T02:21:30.395660Z"
    },
    "papermill": {
     "duration": 1.029152,
     "end_time": "2022-05-21T02:21:30.397375",
     "exception": false,
     "start_time": "2022-05-21T02:21:29.368223",
     "status": "completed"
    },
    "tags": []
   },
   "outputs": [],
   "source": [
    "#hide\n",
    "import matplotlib.pyplot as plt\n",
    "import numpy as np\n",
    "import pandas as pd\n",
    "import seaborn as sns\n",
    "import matplotlib.pyplot as plt \n",
    "import matplotlib.dates as mdates\n",
    "import matplotlib.pyplot as plt"
   ]
  },
  {
   "cell_type": "code",
   "execution_count": 5,
   "id": "superior-blanket",
   "metadata": {
    "execution": {
     "iopub.execute_input": "2022-05-21T02:21:30.430658Z",
     "iopub.status.busy": "2022-05-21T02:21:30.429933Z",
     "iopub.status.idle": "2022-05-21T02:21:40.266076Z",
     "shell.execute_reply": "2022-05-21T02:21:40.265439Z"
    },
    "papermill": {
     "duration": 9.854616,
     "end_time": "2022-05-21T02:21:40.266228",
     "exception": false,
     "start_time": "2022-05-21T02:21:30.411612",
     "status": "completed"
    },
    "tags": []
   },
   "outputs": [
    {
     "name": "stderr",
     "output_type": "stream",
     "text": [
      "/home/runner/work/corr-app/corr-app/_notebooks/scripts/read_data.py:187: SettingWithCopyWarning:\n",
      "\n",
      "\n",
      "A value is trying to be set on a copy of a slice from a DataFrame.\n",
      "Try using .loc[row_indexer,col_indexer] = value instead\n",
      "\n",
      "See the caveats in the documentation: https://pandas.pydata.org/pandas-docs/stable/user_guide/indexing.html#returning-a-view-versus-a-copy\n",
      "\n"
     ]
    },
    {
     "name": "stderr",
     "output_type": "stream",
     "text": [
      "/home/runner/work/corr-app/corr-app/_notebooks/scripts/read_data.py:215: SettingWithCopyWarning:\n",
      "\n",
      "\n",
      "A value is trying to be set on a copy of a slice from a DataFrame.\n",
      "Try using .loc[row_indexer,col_indexer] = value instead\n",
      "\n",
      "See the caveats in the documentation: https://pandas.pydata.org/pandas-docs/stable/user_guide/indexing.html#returning-a-view-versus-a-copy\n",
      "\n"
     ]
    }
   ],
   "source": [
    "#hide\n",
    "df_all = read_api()\n",
    "#df_all = df_all.drop(['SP500', 'XAU', 'ETH', 'BTC'], axis=1)\n",
    "\n"
   ]
  },
  {
   "cell_type": "code",
   "execution_count": 6,
   "id": "mature-alert",
   "metadata": {
    "execution": {
     "iopub.execute_input": "2022-05-21T02:21:40.301709Z",
     "iopub.status.busy": "2022-05-21T02:21:40.300982Z",
     "iopub.status.idle": "2022-05-21T02:21:40.334959Z",
     "shell.execute_reply": "2022-05-21T02:21:40.334421Z"
    },
    "papermill": {
     "duration": 0.055294,
     "end_time": "2022-05-21T02:21:40.335092",
     "exception": false,
     "start_time": "2022-05-21T02:21:40.279798",
     "status": "completed"
    },
    "tags": []
   },
   "outputs": [],
   "source": [
    "#hide_input\n",
    "sum_corr = df_all.corr().sum().sort_values(ascending=True).index.values\n",
    "#df_all[sum_corr].corr()"
   ]
  },
  {
   "cell_type": "markdown",
   "id": "complex-syndicate",
   "metadata": {
    "papermill": {
     "duration": 0.014288,
     "end_time": "2022-05-21T02:21:40.362055",
     "exception": false,
     "start_time": "2022-05-21T02:21:40.347767",
     "status": "completed"
    },
    "tags": []
   },
   "source": [
    "## Išplėstinė koreliacijų matrica. "
   ]
  },
  {
   "cell_type": "code",
   "execution_count": 7,
   "id": "atomic-omaha",
   "metadata": {
    "execution": {
     "iopub.execute_input": "2022-05-21T02:21:40.396096Z",
     "iopub.status.busy": "2022-05-21T02:21:40.395163Z",
     "iopub.status.idle": "2022-05-21T02:21:42.202968Z",
     "shell.execute_reply": "2022-05-21T02:21:42.202344Z"
    },
    "papermill": {
     "duration": 1.82825,
     "end_time": "2022-05-21T02:21:42.203150",
     "exception": false,
     "start_time": "2022-05-21T02:21:40.374900",
     "status": "completed"
    },
    "tags": []
   },
   "outputs": [
    {
     "data": {
      "image/png": "[encoded data removed]",
      "text/plain": [
       "<Figure size 1080x792 with 2 Axes>"
      ]
     },
     "metadata": {
      "needs_background": "light"
     },
     "output_type": "display_data"
    }
   ],
   "source": [
    "#hide_input\n",
    "plt.figure(figsize=(15, 11))\n",
    "sns.heatmap(df_all[sum_corr].corr(), annot=True, cmap=\"cubehelix\") \n",
    "sns.set(font_scale=1.25)\n",
    "plt.savefig('corr_matrix.png', format='eps')"
   ]
  },
  {
   "cell_type": "code",
   "execution_count": 8,
   "id": "arbitrary-sullivan",
   "metadata": {
    "execution": {
     "iopub.execute_input": "2022-05-21T02:21:42.248129Z",
     "iopub.status.busy": "2022-05-21T02:21:42.247356Z",
     "iopub.status.idle": "2022-05-21T02:21:42.278322Z",
     "shell.execute_reply": "2022-05-21T02:21:42.277735Z"
    },
    "papermill": {
     "duration": 0.059971,
     "end_time": "2022-05-21T02:21:42.278485",
     "exception": false,
     "start_time": "2022-05-21T02:21:42.218514",
     "status": "completed"
    },
    "tags": []
   },
   "outputs": [],
   "source": [
    "#hide\n",
    "#df_all_mrk = read_api()"
   ]
  },
  {
   "cell_type": "code",
   "execution_count": 9,
   "id": "delayed-adapter",
   "metadata": {
    "execution": {
     "iopub.execute_input": "2022-05-21T02:21:42.313376Z",
     "iopub.status.busy": "2022-05-21T02:21:42.312755Z",
     "iopub.status.idle": "2022-05-21T02:21:42.342279Z",
     "shell.execute_reply": "2022-05-21T02:21:42.341525Z"
    },
    "papermill": {
     "duration": 0.047788,
     "end_time": "2022-05-21T02:21:42.342510",
     "exception": false,
     "start_time": "2022-05-21T02:21:42.294722",
     "status": "completed"
    },
    "tags": []
   },
   "outputs": [],
   "source": [
    "#hide\n",
    "#Koreliacijų koeficientai"
   ]
  },
  {
   "cell_type": "code",
   "execution_count": 10,
   "id": "seeing-celebration",
   "metadata": {
    "execution": {
     "iopub.execute_input": "2022-05-21T02:21:42.381025Z",
     "iopub.status.busy": "2022-05-21T02:21:42.380270Z",
     "iopub.status.idle": "2022-05-21T02:21:42.407447Z",
     "shell.execute_reply": "2022-05-21T02:21:42.406811Z"
    },
    "papermill": {
     "duration": 0.047962,
     "end_time": "2022-05-21T02:21:42.407622",
     "exception": false,
     "start_time": "2022-05-21T02:21:42.359660",
     "status": "completed"
    },
    "tags": []
   },
   "outputs": [],
   "source": [
    "#hide_input\n",
    "#sum_corr = df_all_mrk.corr().sum().sort_values(ascending=True).index.values\n",
    "#df_all_mrk[sum_corr].corr()"
   ]
  },
  {
   "cell_type": "code",
   "execution_count": 11,
   "id": "other-painting",
   "metadata": {
    "execution": {
     "iopub.execute_input": "2022-05-21T02:21:42.449245Z",
     "iopub.status.busy": "2022-05-21T02:21:42.448498Z",
     "iopub.status.idle": "2022-05-21T02:21:42.477627Z",
     "shell.execute_reply": "2022-05-21T02:21:42.476957Z"
    },
    "papermill": {
     "duration": 0.053068,
     "end_time": "2022-05-21T02:21:42.477746",
     "exception": false,
     "start_time": "2022-05-21T02:21:42.424678",
     "status": "completed"
    },
    "tags": []
   },
   "outputs": [],
   "source": [
    "#hide\n",
    "#Koreliacijos matrica. "
   ]
  },
  {
   "cell_type": "code",
   "execution_count": 12,
   "id": "modular-magnitude",
   "metadata": {
    "execution": {
     "iopub.execute_input": "2022-05-21T02:21:42.513084Z",
     "iopub.status.busy": "2022-05-21T02:21:42.512357Z",
     "iopub.status.idle": "2022-05-21T02:21:42.545263Z",
     "shell.execute_reply": "2022-05-21T02:21:42.544663Z"
    },
    "papermill": {
     "duration": 0.052184,
     "end_time": "2022-05-21T02:21:42.545414",
     "exception": false,
     "start_time": "2022-05-21T02:21:42.493230",
     "status": "completed"
    },
    "tags": []
   },
   "outputs": [],
   "source": [
    "#hide_input\n",
    "#plt.figure(figsize=(15, 8))\n",
    "#sns.heatmap(df_all_mrk[sum_corr].corr(), annot=True, cmap=\"BrBG\");\n",
    "#plt.savefig('corr_matrix_all.eps', format='eps')"
   ]
  },
  {
   "cell_type": "code",
   "execution_count": null,
   "id": "original-senator",
   "metadata": {
    "papermill": {
     "duration": 0.015165,
     "end_time": "2022-05-21T02:21:42.575770",
     "exception": false,
     "start_time": "2022-05-21T02:21:42.560605",
     "status": "completed"
    },
    "tags": []
   },
   "outputs": [],
   "source": []
  },
  {
   "cell_type": "code",
   "execution_count": null,
   "id": "saving-secretariat",
   "metadata": {
    "papermill": {
     "duration": 0.015408,
     "end_time": "2022-05-21T02:21:42.605915",
     "exception": false,
     "start_time": "2022-05-21T02:21:42.590507",
     "status": "completed"
    },
    "tags": []
   },
   "outputs": [],
   "source": []
  }
 ],
 "metadata": {
  "kernelspec": {
   "display_name": "Python 3",
   "language": "python",
   "name": "python3"
  },
  "language_info": {
   "codemirror_mode": {
    "name": "ipython",
    "version": 3
   },
   "file_extension": ".py",
   "mimetype": "text/x-python",
   "name": "python",
   "nbconvert_exporter": "python",
   "pygments_lexer": "ipython3",
   "version": "3.6.15"
  },
  "papermill": {
   "default_parameters": {},
   "duration": 16.799567,
   "end_time": "2022-05-21T02:21:43.146680",
   "environment_variables": {},
   "exception": null,
   "input_path": "App-Correlation_charts.ipynb",
   "output_path": "App-Correlation_charts.ipynb",
   "parameters": {},
   "start_time": "2022-05-21T02:21:26.347113",
   "version": "2.2.2"
  }
 },
 "nbformat": 4,
 "nbformat_minor": 5
}