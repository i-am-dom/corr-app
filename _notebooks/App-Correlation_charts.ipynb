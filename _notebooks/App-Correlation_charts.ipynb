{
 "cells": [
  {
   "cell_type": "markdown",
   "id": "touched-facility",
   "metadata": {
    "papermill": {
     "duration": 0.015549,
     "end_time": "2021-09-29T01:53:54.776176",
     "exception": false,
     "start_time": "2021-09-29T01:53:54.760627",
     "status": "completed"
    },
    "tags": []
   },
   "source": [
    "# Koreliacijų matrica\n",
    "> Išplėstinė koreliacijų matrica. \n",
    "\n",
    "- toc: true \n",
    "- badges: true\n",
    "- comments: false\n",
    "- categories: [Dominykas Tautkus]\n",
    "- image: images/matrix.png"
   ]
  },
  {
   "cell_type": "code",
   "execution_count": null,
   "id": "premium-weekend",
   "metadata": {
    "papermill": {
     "duration": 0.012073,
     "end_time": "2021-09-29T01:53:54.801009",
     "exception": false,
     "start_time": "2021-09-29T01:53:54.788936",
     "status": "completed"
    },
    "tags": []
   },
   "outputs": [],
   "source": []
  },
  {
   "cell_type": "code",
   "execution_count": 1,
   "id": "vertical-rebate",
   "metadata": {
    "execution": {
     "iopub.execute_input": "2021-09-29T01:53:54.838947Z",
     "iopub.status.busy": "2021-09-29T01:53:54.838340Z",
     "iopub.status.idle": "2021-09-29T01:53:54.849665Z",
     "shell.execute_reply": "2021-09-29T01:53:54.850148Z"
    },
    "papermill": {
     "duration": 0.037373,
     "end_time": "2021-09-29T01:53:54.850308",
     "exception": false,
     "start_time": "2021-09-29T01:53:54.812935",
     "status": "completed"
    },
    "tags": []
   },
   "outputs": [],
   "source": [
    "#hide\n",
    "%load_ext autoreload\n",
    "%autoreload 2"
   ]
  },
  {
   "cell_type": "code",
   "execution_count": 2,
   "id": "overall-advancement",
   "metadata": {
    "execution": {
     "iopub.execute_input": "2021-09-29T01:53:54.880533Z",
     "iopub.status.busy": "2021-09-29T01:53:54.879903Z",
     "iopub.status.idle": "2021-09-29T01:53:56.207261Z",
     "shell.execute_reply": "2021-09-29T01:53:56.205992Z"
    },
    "papermill": {
     "duration": 1.345171,
     "end_time": "2021-09-29T01:53:56.207425",
     "exception": false,
     "start_time": "2021-09-29T01:53:54.862254",
     "status": "completed"
    },
    "tags": []
   },
   "outputs": [],
   "source": [
    "#hide\n",
    "from scripts.read_data import read_api\n",
    "from IPython.display import HTML\n",
    "import plotly.graph_objects as go\n"
   ]
  },
  {
   "cell_type": "code",
   "execution_count": 3,
   "id": "light-crazy",
   "metadata": {
    "execution": {
     "iopub.execute_input": "2021-09-29T01:53:56.236953Z",
     "iopub.status.busy": "2021-09-29T01:53:56.236058Z",
     "iopub.status.idle": "2021-09-29T01:53:56.265865Z",
     "shell.execute_reply": "2021-09-29T01:53:56.264951Z"
    },
    "papermill": {
     "duration": 0.045987,
     "end_time": "2021-09-29T01:53:56.266070",
     "exception": false,
     "start_time": "2021-09-29T01:53:56.220083",
     "status": "completed"
    },
    "tags": []
   },
   "outputs": [],
   "source": [
    "#hide\n",
    "### ICO koreliacija"
   ]
  },
  {
   "cell_type": "code",
   "execution_count": 4,
   "id": "likely-bahrain",
   "metadata": {
    "execution": {
     "iopub.execute_input": "2021-09-29T01:53:56.297639Z",
     "iopub.status.busy": "2021-09-29T01:53:56.297053Z",
     "iopub.status.idle": "2021-09-29T01:53:57.253610Z",
     "shell.execute_reply": "2021-09-29T01:53:57.252095Z"
    },
    "papermill": {
     "duration": 0.974118,
     "end_time": "2021-09-29T01:53:57.253837",
     "exception": false,
     "start_time": "2021-09-29T01:53:56.279719",
     "status": "completed"
    },
    "tags": []
   },
   "outputs": [],
   "source": [
    "#hide\n",
    "import matplotlib.pyplot as plt\n",
    "import numpy as np\n",
    "import pandas as pd\n",
    "import seaborn as sns\n",
    "import matplotlib.pyplot as plt \n",
    "import matplotlib.dates as mdates\n",
    "import matplotlib.pyplot as plt"
   ]
  },
  {
   "cell_type": "code",
   "execution_count": 5,
   "id": "superior-blanket",
   "metadata": {
    "execution": {
     "iopub.execute_input": "2021-09-29T01:53:57.285240Z",
     "iopub.status.busy": "2021-09-29T01:53:57.284635Z",
     "iopub.status.idle": "2021-09-29T01:54:08.590126Z",
     "shell.execute_reply": "2021-09-29T01:54:08.589559Z"
    },
    "papermill": {
     "duration": 11.324009,
     "end_time": "2021-09-29T01:54:08.590263",
     "exception": false,
     "start_time": "2021-09-29T01:53:57.266254",
     "status": "completed"
    },
    "tags": []
   },
   "outputs": [
    {
     "name": "stderr",
     "output_type": "stream",
     "text": [
      "/home/runner/work/corr-app/corr-app/_notebooks/scripts/read_data.py:187: SettingWithCopyWarning:\n",
      "\n",
      "\n",
      "A value is trying to be set on a copy of a slice from a DataFrame.\n",
      "Try using .loc[row_indexer,col_indexer] = value instead\n",
      "\n",
      "See the caveats in the documentation: https://pandas.pydata.org/pandas-docs/stable/user_guide/indexing.html#returning-a-view-versus-a-copy\n",
      "\n"
     ]
    },
    {
     "name": "stderr",
     "output_type": "stream",
     "text": [
      "/home/runner/work/corr-app/corr-app/_notebooks/scripts/read_data.py:215: SettingWithCopyWarning:\n",
      "\n",
      "\n",
      "A value is trying to be set on a copy of a slice from a DataFrame.\n",
      "Try using .loc[row_indexer,col_indexer] = value instead\n",
      "\n",
      "See the caveats in the documentation: https://pandas.pydata.org/pandas-docs/stable/user_guide/indexing.html#returning-a-view-versus-a-copy\n",
      "\n"
     ]
    }
   ],
   "source": [
    "#hide\n",
    "df_all = read_api()\n",
    "#df_all = df_all.drop(['SP500', 'XAU', 'ETH', 'BTC'], axis=1)\n",
    "\n"
   ]
  },
  {
   "cell_type": "code",
   "execution_count": 6,
   "id": "mature-alert",
   "metadata": {
    "execution": {
     "iopub.execute_input": "2021-09-29T01:54:08.623268Z",
     "iopub.status.busy": "2021-09-29T01:54:08.621879Z",
     "iopub.status.idle": "2021-09-29T01:54:08.656359Z",
     "shell.execute_reply": "2021-09-29T01:54:08.655040Z"
    },
    "papermill": {
     "duration": 0.053023,
     "end_time": "2021-09-29T01:54:08.656506",
     "exception": false,
     "start_time": "2021-09-29T01:54:08.603483",
     "status": "completed"
    },
    "tags": []
   },
   "outputs": [],
   "source": [
    "#hide_input\n",
    "sum_corr = df_all.corr().sum().sort_values(ascending=True).index.values\n",
    "#df_all[sum_corr].corr()"
   ]
  },
  {
   "cell_type": "markdown",
   "id": "complex-syndicate",
   "metadata": {
    "papermill": {
     "duration": 0.012565,
     "end_time": "2021-09-29T01:54:08.681603",
     "exception": false,
     "start_time": "2021-09-29T01:54:08.669038",
     "status": "completed"
    },
    "tags": []
   },
   "source": [
    "## Išplėstinė koreliacijų matrica. "
   ]
  },
  {
   "cell_type": "code",
   "execution_count": 7,
   "id": "atomic-omaha",
   "metadata": {
    "execution": {
     "iopub.execute_input": "2021-09-29T01:54:08.714466Z",
     "iopub.status.busy": "2021-09-29T01:54:08.713870Z",
     "iopub.status.idle": "2021-09-29T01:54:10.056986Z",
     "shell.execute_reply": "2021-09-29T01:54:10.057443Z"
    },
    "papermill": {
     "duration": 1.363583,
     "end_time": "2021-09-29T01:54:10.057601",
     "exception": false,
     "start_time": "2021-09-29T01:54:08.694018",
     "status": "completed"
    },
    "tags": []
   },
   "outputs": [
    {
     "data": {
      "image/png": "[encoded data removed]",
      "text/plain": [
       "<Figure size 1080x792 with 2 Axes>"
      ]
     },
     "metadata": {
      "needs_background": "light"
     },
     "output_type": "display_data"
    }
   ],
   "source": [
    "#hide_input\n",
    "plt.figure(figsize=(15, 11))\n",
    "sns.heatmap(df_all[sum_corr].corr(), annot=True, cmap=\"cubehelix\") \n",
    "sns.set(font_scale=1.25)\n",
    "plt.savefig('corr_matrix.png', format='eps')"
   ]
  },
  {
   "cell_type": "code",
   "execution_count": 8,
   "id": "arbitrary-sullivan",
   "metadata": {
    "execution": {
     "iopub.execute_input": "2021-09-29T01:54:10.092510Z",
     "iopub.status.busy": "2021-09-29T01:54:10.091814Z",
     "iopub.status.idle": "2021-09-29T01:54:10.121439Z",
     "shell.execute_reply": "2021-09-29T01:54:10.120906Z"
    },
    "papermill": {
     "duration": 0.048578,
     "end_time": "2021-09-29T01:54:10.121566",
     "exception": false,
     "start_time": "2021-09-29T01:54:10.072988",
     "status": "completed"
    },
    "tags": []
   },
   "outputs": [],
   "source": [
    "#hide\n",
    "#df_all_mrk = read_api()"
   ]
  },
  {
   "cell_type": "code",
   "execution_count": 9,
   "id": "delayed-adapter",
   "metadata": {
    "execution": {
     "iopub.execute_input": "2021-09-29T01:54:10.158084Z",
     "iopub.status.busy": "2021-09-29T01:54:10.157484Z",
     "iopub.status.idle": "2021-09-29T01:54:10.190643Z",
     "shell.execute_reply": "2021-09-29T01:54:10.190100Z"
    },
    "papermill": {
     "duration": 0.054105,
     "end_time": "2021-09-29T01:54:10.190773",
     "exception": false,
     "start_time": "2021-09-29T01:54:10.136668",
     "status": "completed"
    },
    "tags": []
   },
   "outputs": [],
   "source": [
    "#hide\n",
    "#Koreliacijų koeficientai"
   ]
  },
  {
   "cell_type": "code",
   "execution_count": 10,
   "id": "seeing-celebration",
   "metadata": {
    "execution": {
     "iopub.execute_input": "2021-09-29T01:54:10.227809Z",
     "iopub.status.busy": "2021-09-29T01:54:10.227192Z",
     "iopub.status.idle": "2021-09-29T01:54:10.259367Z",
     "shell.execute_reply": "2021-09-29T01:54:10.258472Z"
    },
    "papermill": {
     "duration": 0.053375,
     "end_time": "2021-09-29T01:54:10.259581",
     "exception": false,
     "start_time": "2021-09-29T01:54:10.206206",
     "status": "completed"
    },
    "tags": []
   },
   "outputs": [],
   "source": [
    "#hide_input\n",
    "#sum_corr = df_all_mrk.corr().sum().sort_values(ascending=True).index.values\n",
    "#df_all_mrk[sum_corr].corr()"
   ]
  },
  {
   "cell_type": "code",
   "execution_count": 11,
   "id": "other-painting",
   "metadata": {
    "execution": {
     "iopub.execute_input": "2021-09-29T01:54:10.296541Z",
     "iopub.status.busy": "2021-09-29T01:54:10.295483Z",
     "iopub.status.idle": "2021-09-29T01:54:10.330602Z",
     "shell.execute_reply": "2021-09-29T01:54:10.329748Z"
    },
    "papermill": {
     "duration": 0.05414,
     "end_time": "2021-09-29T01:54:10.330820",
     "exception": false,
     "start_time": "2021-09-29T01:54:10.276680",
     "status": "completed"
    },
    "tags": []
   },
   "outputs": [],
   "source": [
    "#hide\n",
    "#Koreliacijos matrica. "
   ]
  },
  {
   "cell_type": "code",
   "execution_count": 12,
   "id": "modular-magnitude",
   "metadata": {
    "execution": {
     "iopub.execute_input": "2021-09-29T01:54:10.368410Z",
     "iopub.status.busy": "2021-09-29T01:54:10.367784Z",
     "iopub.status.idle": "2021-09-29T01:54:10.398550Z",
     "shell.execute_reply": "2021-09-29T01:54:10.397885Z"
    },
    "papermill": {
     "duration": 0.050349,
     "end_time": "2021-09-29T01:54:10.398723",
     "exception": false,
     "start_time": "2021-09-29T01:54:10.348374",
     "status": "completed"
    },
    "tags": []
   },
   "outputs": [],
   "source": [
    "#hide_input\n",
    "#plt.figure(figsize=(15, 8))\n",
    "#sns.heatmap(df_all_mrk[sum_corr].corr(), annot=True, cmap=\"BrBG\");\n",
    "#plt.savefig('corr_matrix_all.eps', format='eps')"
   ]
  },
  {
   "cell_type": "code",
   "execution_count": null,
   "id": "original-senator",
   "metadata": {
    "papermill": {
     "duration": 0.014979,
     "end_time": "2021-09-29T01:54:10.430720",
     "exception": false,
     "start_time": "2021-09-29T01:54:10.415741",
     "status": "completed"
    },
    "tags": []
   },
   "outputs": [],
   "source": []
  },
  {
   "cell_type": "code",
   "execution_count": null,
   "id": "saving-secretariat",
   "metadata": {
    "papermill": {
     "duration": 0.014968,
     "end_time": "2021-09-29T01:54:10.460677",
     "exception": false,
     "start_time": "2021-09-29T01:54:10.445709",
     "status": "completed"
    },
    "tags": []
   },
   "outputs": [],
   "source": []
  }
 ],
 "metadata": {
  "kernelspec": {
   "display_name": "Python 3",
   "language": "python",
   "name": "python3"
  },
  "language_info": {
   "codemirror_mode": {
    "name": "ipython",
    "version": 3
   },
   "file_extension": ".py",
   "mimetype": "text/x-python",
   "name": "python",
   "nbconvert_exporter": "python",
   "pygments_lexer": "ipython3",
   "version": "3.6.15"
  },
  "papermill": {
   "default_parameters": {},
   "duration": 17.299367,
   "end_time": "2021-09-29T01:54:10.987813",
   "environment_variables": {},
   "exception": null,
   "input_path": "App-Correlation_charts.ipynb",
   "output_path": "App-Correlation_charts.ipynb",
   "parameters": {},
   "start_time": "2021-09-29T01:53:53.688446",
   "version": "2.2.2"
  }
 },
 "nbformat": 4,
 "nbformat_minor": 5
}