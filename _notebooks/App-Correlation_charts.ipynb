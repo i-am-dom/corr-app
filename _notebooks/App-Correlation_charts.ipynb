{
 "cells": [
  {
   "cell_type": "markdown",
   "id": "touched-facility",
   "metadata": {
    "papermill": {
     "duration": 0.016862,
     "end_time": "2022-11-18T02:53:44.641898",
     "exception": false,
     "start_time": "2022-11-18T02:53:44.625036",
     "status": "completed"
    },
    "tags": []
   },
   "source": [
    "# Koreliacijų matrica\n",
    "> Išplėstinė koreliacijų matrica. \n",
    "\n",
    "- toc: true \n",
    "- badges: true\n",
    "- comments: false\n",
    "- categories: [Dominykas Tautkus]\n",
    "- image: images/matrix.png"
   ]
  },
  {
   "cell_type": "code",
   "execution_count": null,
   "id": "premium-weekend",
   "metadata": {
    "papermill": {
     "duration": 0.013206,
     "end_time": "2022-11-18T02:53:44.668961",
     "exception": false,
     "start_time": "2022-11-18T02:53:44.655755",
     "status": "completed"
    },
    "tags": []
   },
   "outputs": [],
   "source": []
  },
  {
   "cell_type": "code",
   "execution_count": 1,
   "id": "vertical-rebate",
   "metadata": {
    "execution": {
     "iopub.execute_input": "2022-11-18T02:53:44.708615Z",
     "iopub.status.busy": "2022-11-18T02:53:44.707862Z",
     "iopub.status.idle": "2022-11-18T02:53:44.720957Z",
     "shell.execute_reply": "2022-11-18T02:53:44.720360Z"
    },
    "papermill": {
     "duration": 0.039758,
     "end_time": "2022-11-18T02:53:44.721120",
     "exception": false,
     "start_time": "2022-11-18T02:53:44.681362",
     "status": "completed"
    },
    "tags": []
   },
   "outputs": [],
   "source": [
    "#hide\n",
    "%load_ext autoreload\n",
    "%autoreload 2"
   ]
  },
  {
   "cell_type": "code",
   "execution_count": 2,
   "id": "overall-advancement",
   "metadata": {
    "execution": {
     "iopub.execute_input": "2022-11-18T02:53:44.751889Z",
     "iopub.status.busy": "2022-11-18T02:53:44.751224Z",
     "iopub.status.idle": "2022-11-18T02:53:46.535365Z",
     "shell.execute_reply": "2022-11-18T02:53:46.534769Z"
    },
    "papermill": {
     "duration": 1.800409,
     "end_time": "2022-11-18T02:53:46.535532",
     "exception": false,
     "start_time": "2022-11-18T02:53:44.735123",
     "status": "completed"
    },
    "tags": []
   },
   "outputs": [],
   "source": [
    "#hide\n",
    "from scripts.read_data import read_api\n",
    "from IPython.display import HTML\n",
    "import plotly.graph_objects as go\n"
   ]
  },
  {
   "cell_type": "code",
   "execution_count": 3,
   "id": "light-crazy",
   "metadata": {
    "execution": {
     "iopub.execute_input": "2022-11-18T02:53:46.570844Z",
     "iopub.status.busy": "2022-11-18T02:53:46.570102Z",
     "iopub.status.idle": "2022-11-18T02:53:46.594758Z",
     "shell.execute_reply": "2022-11-18T02:53:46.594180Z"
    },
    "papermill": {
     "duration": 0.0449,
     "end_time": "2022-11-18T02:53:46.594877",
     "exception": false,
     "start_time": "2022-11-18T02:53:46.549977",
     "status": "completed"
    },
    "tags": []
   },
   "outputs": [],
   "source": [
    "#hide\n",
    "### ICO koreliacija"
   ]
  },
  {
   "cell_type": "code",
   "execution_count": 4,
   "id": "likely-bahrain",
   "metadata": {
    "execution": {
     "iopub.execute_input": "2022-11-18T02:53:46.625330Z",
     "iopub.status.busy": "2022-11-18T02:53:46.624591Z",
     "iopub.status.idle": "2022-11-18T02:53:47.584295Z",
     "shell.execute_reply": "2022-11-18T02:53:47.583550Z"
    },
    "papermill": {
     "duration": 0.97644,
     "end_time": "2022-11-18T02:53:47.584533",
     "exception": false,
     "start_time": "2022-11-18T02:53:46.608093",
     "status": "completed"
    },
    "tags": []
   },
   "outputs": [],
   "source": [
    "#hide\n",
    "import matplotlib.pyplot as plt\n",
    "import numpy as np\n",
    "import pandas as pd\n",
    "import seaborn as sns\n",
    "import matplotlib.pyplot as plt \n",
    "import matplotlib.dates as mdates\n",
    "import matplotlib.pyplot as plt"
   ]
  },
  {
   "cell_type": "code",
   "execution_count": 5,
   "id": "superior-blanket",
   "metadata": {
    "execution": {
     "iopub.execute_input": "2022-11-18T02:53:47.618809Z",
     "iopub.status.busy": "2022-11-18T02:53:47.616061Z",
     "iopub.status.idle": "2022-11-18T02:53:58.049934Z",
     "shell.execute_reply": "2022-11-18T02:53:58.050460Z"
    },
    "papermill": {
     "duration": 10.452228,
     "end_time": "2022-11-18T02:53:58.050607",
     "exception": false,
     "start_time": "2022-11-18T02:53:47.598379",
     "status": "completed"
    },
    "tags": []
   },
   "outputs": [
    {
     "name": "stderr",
     "output_type": "stream",
     "text": [
      "/home/runner/work/corr-app/corr-app/_notebooks/scripts/read_data.py:187: SettingWithCopyWarning:\n",
      "\n",
      "\n",
      "A value is trying to be set on a copy of a slice from a DataFrame.\n",
      "Try using .loc[row_indexer,col_indexer] = value instead\n",
      "\n",
      "See the caveats in the documentation: https://pandas.pydata.org/pandas-docs/stable/user_guide/indexing.html#returning-a-view-versus-a-copy\n",
      "\n"
     ]
    },
    {
     "name": "stderr",
     "output_type": "stream",
     "text": [
      "/home/runner/work/corr-app/corr-app/_notebooks/scripts/read_data.py:215: SettingWithCopyWarning:\n",
      "\n",
      "\n",
      "A value is trying to be set on a copy of a slice from a DataFrame.\n",
      "Try using .loc[row_indexer,col_indexer] = value instead\n",
      "\n",
      "See the caveats in the documentation: https://pandas.pydata.org/pandas-docs/stable/user_guide/indexing.html#returning-a-view-versus-a-copy\n",
      "\n"
     ]
    }
   ],
   "source": [
    "#hide\n",
    "df_all = read_api()\n",
    "#df_all = df_all.drop(['SP500', 'XAU', 'ETH', 'BTC'], axis=1)\n",
    "\n"
   ]
  },
  {
   "cell_type": "code",
   "execution_count": 6,
   "id": "mature-alert",
   "metadata": {
    "execution": {
     "iopub.execute_input": "2022-11-18T02:53:58.086961Z",
     "iopub.status.busy": "2022-11-18T02:53:58.085821Z",
     "iopub.status.idle": "2022-11-18T02:53:58.122812Z",
     "shell.execute_reply": "2022-11-18T02:53:58.122160Z"
    },
    "papermill": {
     "duration": 0.055939,
     "end_time": "2022-11-18T02:53:58.122943",
     "exception": false,
     "start_time": "2022-11-18T02:53:58.067004",
     "status": "completed"
    },
    "tags": []
   },
   "outputs": [],
   "source": [
    "#hide_input\n",
    "sum_corr = df_all.corr().sum().sort_values(ascending=True).index.values\n",
    "#df_all[sum_corr].corr()"
   ]
  },
  {
   "cell_type": "markdown",
   "id": "complex-syndicate",
   "metadata": {
    "papermill": {
     "duration": 0.013609,
     "end_time": "2022-11-18T02:53:58.149981",
     "exception": false,
     "start_time": "2022-11-18T02:53:58.136372",
     "status": "completed"
    },
    "tags": []
   },
   "source": [
    "## Išplėstinė koreliacijų matrica. "
   ]
  },
  {
   "cell_type": "code",
   "execution_count": 7,
   "id": "atomic-omaha",
   "metadata": {
    "execution": {
     "iopub.execute_input": "2022-11-18T02:53:58.177647Z",
     "iopub.status.busy": "2022-11-18T02:53:58.176993Z",
     "iopub.status.idle": "2022-11-18T02:53:59.840501Z",
     "shell.execute_reply": "2022-11-18T02:53:59.841142Z"
    },
    "papermill": {
     "duration": 1.67989,
     "end_time": "2022-11-18T02:53:59.841369",
     "exception": false,
     "start_time": "2022-11-18T02:53:58.161479",
     "status": "completed"
    },
    "tags": []
   },
   "outputs": [
    {
     "data": {
      "image/png": "[encoded data removed]",
      "text/plain": [
       "<Figure size 1080x792 with 2 Axes>"
      ]
     },
     "metadata": {
      "needs_background": "light"
     },
     "output_type": "display_data"
    }
   ],
   "source": [
    "#hide_input\n",
    "plt.figure(figsize=(15, 11))\n",
    "sns.heatmap(df_all[sum_corr].corr(), annot=True, cmap=\"cubehelix\") \n",
    "sns.set(font_scale=1.25)\n",
    "plt.savefig('corr_matrix.png', format='eps')"
   ]
  },
  {
   "cell_type": "code",
   "execution_count": 8,
   "id": "arbitrary-sullivan",
   "metadata": {
    "execution": {
     "iopub.execute_input": "2022-11-18T02:53:59.882044Z",
     "iopub.status.busy": "2022-11-18T02:53:59.881223Z",
     "iopub.status.idle": "2022-11-18T02:53:59.918253Z",
     "shell.execute_reply": "2022-11-18T02:53:59.917696Z"
    },
    "papermill": {
     "duration": 0.060707,
     "end_time": "2022-11-18T02:53:59.918385",
     "exception": false,
     "start_time": "2022-11-18T02:53:59.857678",
     "status": "completed"
    },
    "tags": []
   },
   "outputs": [],
   "source": [
    "#hide\n",
    "#df_all_mrk = read_api()"
   ]
  },
  {
   "cell_type": "code",
   "execution_count": 9,
   "id": "delayed-adapter",
   "metadata": {
    "execution": {
     "iopub.execute_input": "2022-11-18T02:53:59.961828Z",
     "iopub.status.busy": "2022-11-18T02:53:59.961050Z",
     "iopub.status.idle": "2022-11-18T02:53:59.991601Z",
     "shell.execute_reply": "2022-11-18T02:53:59.992262Z"
    },
    "papermill": {
     "duration": 0.053938,
     "end_time": "2022-11-18T02:53:59.992439",
     "exception": false,
     "start_time": "2022-11-18T02:53:59.938501",
     "status": "completed"
    },
    "tags": []
   },
   "outputs": [],
   "source": [
    "#hide\n",
    "#Koreliacijų koeficientai"
   ]
  },
  {
   "cell_type": "code",
   "execution_count": 10,
   "id": "seeing-celebration",
   "metadata": {
    "execution": {
     "iopub.execute_input": "2022-11-18T02:54:00.029752Z",
     "iopub.status.busy": "2022-11-18T02:54:00.028947Z",
     "iopub.status.idle": "2022-11-18T02:54:00.058000Z",
     "shell.execute_reply": "2022-11-18T02:54:00.058469Z"
    },
    "papermill": {
     "duration": 0.051221,
     "end_time": "2022-11-18T02:54:00.058604",
     "exception": false,
     "start_time": "2022-11-18T02:54:00.007383",
     "status": "completed"
    },
    "tags": []
   },
   "outputs": [],
   "source": [
    "#hide_input\n",
    "#sum_corr = df_all_mrk.corr().sum().sort_values(ascending=True).index.values\n",
    "#df_all_mrk[sum_corr].corr()"
   ]
  },
  {
   "cell_type": "code",
   "execution_count": 11,
   "id": "other-painting",
   "metadata": {
    "execution": {
     "iopub.execute_input": "2022-11-18T02:54:00.099891Z",
     "iopub.status.busy": "2022-11-18T02:54:00.099240Z",
     "iopub.status.idle": "2022-11-18T02:54:00.127462Z",
     "shell.execute_reply": "2022-11-18T02:54:00.126961Z"
    },
    "papermill": {
     "duration": 0.050138,
     "end_time": "2022-11-18T02:54:00.127576",
     "exception": false,
     "start_time": "2022-11-18T02:54:00.077438",
     "status": "completed"
    },
    "tags": []
   },
   "outputs": [],
   "source": [
    "#hide\n",
    "#Koreliacijos matrica. "
   ]
  },
  {
   "cell_type": "code",
   "execution_count": 12,
   "id": "modular-magnitude",
   "metadata": {
    "execution": {
     "iopub.execute_input": "2022-11-18T02:54:00.162031Z",
     "iopub.status.busy": "2022-11-18T02:54:00.161250Z",
     "iopub.status.idle": "2022-11-18T02:54:00.187089Z",
     "shell.execute_reply": "2022-11-18T02:54:00.186512Z"
    },
    "papermill": {
     "duration": 0.044019,
     "end_time": "2022-11-18T02:54:00.187194",
     "exception": false,
     "start_time": "2022-11-18T02:54:00.143175",
     "status": "completed"
    },
    "tags": []
   },
   "outputs": [],
   "source": [
    "#hide_input\n",
    "#plt.figure(figsize=(15, 8))\n",
    "#sns.heatmap(df_all_mrk[sum_corr].corr(), annot=True, cmap=\"BrBG\");\n",
    "#plt.savefig('corr_matrix_all.eps', format='eps')"
   ]
  },
  {
   "cell_type": "code",
   "execution_count": null,
   "id": "original-senator",
   "metadata": {
    "papermill": {
     "duration": 0.014861,
     "end_time": "2022-11-18T02:54:00.216709",
     "exception": false,
     "start_time": "2022-11-18T02:54:00.201848",
     "status": "completed"
    },
    "tags": []
   },
   "outputs": [],
   "source": []
  },
  {
   "cell_type": "code",
   "execution_count": null,
   "id": "saving-secretariat",
   "metadata": {
    "papermill": {
     "duration": 0.016436,
     "end_time": "2022-11-18T02:54:00.246517",
     "exception": false,
     "start_time": "2022-11-18T02:54:00.230081",
     "status": "completed"
    },
    "tags": []
   },
   "outputs": [],
   "source": []
  }
 ],
 "metadata": {
  "kernelspec": {
   "display_name": "Python 3",
   "language": "python",
   "name": "python3"
  },
  "language_info": {
   "codemirror_mode": {
    "name": "ipython",
    "version": 3
   },
   "file_extension": ".py",
   "mimetype": "text/x-python",
   "name": "python",
   "nbconvert_exporter": "python",
   "pygments_lexer": "ipython3",
   "version": "3.6.15"
  },
  "papermill": {
   "default_parameters": {},
   "duration": 17.433467,
   "end_time": "2022-11-18T02:54:00.781154",
   "environment_variables": {},
   "exception": null,
   "input_path": "App-Correlation_charts.ipynb",
   "output_path": "App-Correlation_charts.ipynb",
   "parameters": {},
   "start_time": "2022-11-18T02:53:43.347687",
   "version": "2.2.2"
  }
 },
 "nbformat": 4,
 "nbformat_minor": 5
}