{
 "cells": [
  {
   "cell_type": "markdown",
   "id": "touched-facility",
   "metadata": {
    "papermill": {
     "duration": 0.015467,
     "end_time": "2022-09-29T03:43:53.573335",
     "exception": false,
     "start_time": "2022-09-29T03:43:53.557868",
     "status": "completed"
    },
    "tags": []
   },
   "source": [
    "# Koreliacijų matrica\n",
    "> Išplėstinė koreliacijų matrica. \n",
    "\n",
    "- toc: true \n",
    "- badges: true\n",
    "- comments: false\n",
    "- categories: [Dominykas Tautkus]\n",
    "- image: images/matrix.png"
   ]
  },
  {
   "cell_type": "code",
   "execution_count": null,
   "id": "premium-weekend",
   "metadata": {
    "papermill": {
     "duration": 0.010564,
     "end_time": "2022-09-29T03:43:53.595205",
     "exception": false,
     "start_time": "2022-09-29T03:43:53.584641",
     "status": "completed"
    },
    "tags": []
   },
   "outputs": [],
   "source": []
  },
  {
   "cell_type": "code",
   "execution_count": 1,
   "id": "vertical-rebate",
   "metadata": {
    "execution": {
     "iopub.execute_input": "2022-09-29T03:43:53.627283Z",
     "iopub.status.busy": "2022-09-29T03:43:53.626613Z",
     "iopub.status.idle": "2022-09-29T03:43:53.637239Z",
     "shell.execute_reply": "2022-09-29T03:43:53.636739Z"
    },
    "papermill": {
     "duration": 0.031492,
     "end_time": "2022-09-29T03:43:53.637371",
     "exception": false,
     "start_time": "2022-09-29T03:43:53.605879",
     "status": "completed"
    },
    "tags": []
   },
   "outputs": [],
   "source": [
    "#hide\n",
    "%load_ext autoreload\n",
    "%autoreload 2"
   ]
  },
  {
   "cell_type": "code",
   "execution_count": 2,
   "id": "overall-advancement",
   "metadata": {
    "execution": {
     "iopub.execute_input": "2022-09-29T03:43:53.662072Z",
     "iopub.status.busy": "2022-09-29T03:43:53.661482Z",
     "iopub.status.idle": "2022-09-29T03:43:55.171579Z",
     "shell.execute_reply": "2022-09-29T03:43:55.171046Z"
    },
    "papermill": {
     "duration": 1.523669,
     "end_time": "2022-09-29T03:43:55.171710",
     "exception": false,
     "start_time": "2022-09-29T03:43:53.648041",
     "status": "completed"
    },
    "tags": []
   },
   "outputs": [],
   "source": [
    "#hide\n",
    "from scripts.read_data import read_api\n",
    "from IPython.display import HTML\n",
    "import plotly.graph_objects as go\n"
   ]
  },
  {
   "cell_type": "code",
   "execution_count": 3,
   "id": "light-crazy",
   "metadata": {
    "execution": {
     "iopub.execute_input": "2022-09-29T03:43:55.202412Z",
     "iopub.status.busy": "2022-09-29T03:43:55.201809Z",
     "iopub.status.idle": "2022-09-29T03:43:55.222119Z",
     "shell.execute_reply": "2022-09-29T03:43:55.222590Z"
    },
    "papermill": {
     "duration": 0.040092,
     "end_time": "2022-09-29T03:43:55.222741",
     "exception": false,
     "start_time": "2022-09-29T03:43:55.182649",
     "status": "completed"
    },
    "tags": []
   },
   "outputs": [],
   "source": [
    "#hide\n",
    "### ICO koreliacija"
   ]
  },
  {
   "cell_type": "code",
   "execution_count": 4,
   "id": "likely-bahrain",
   "metadata": {
    "execution": {
     "iopub.execute_input": "2022-09-29T03:43:55.249049Z",
     "iopub.status.busy": "2022-09-29T03:43:55.248448Z",
     "iopub.status.idle": "2022-09-29T03:43:56.074723Z",
     "shell.execute_reply": "2022-09-29T03:43:56.073675Z"
    },
    "papermill": {
     "duration": 0.841333,
     "end_time": "2022-09-29T03:43:56.074900",
     "exception": false,
     "start_time": "2022-09-29T03:43:55.233567",
     "status": "completed"
    },
    "tags": []
   },
   "outputs": [],
   "source": [
    "#hide\n",
    "import matplotlib.pyplot as plt\n",
    "import numpy as np\n",
    "import pandas as pd\n",
    "import seaborn as sns\n",
    "import matplotlib.pyplot as plt \n",
    "import matplotlib.dates as mdates\n",
    "import matplotlib.pyplot as plt"
   ]
  },
  {
   "cell_type": "code",
   "execution_count": 5,
   "id": "superior-blanket",
   "metadata": {
    "execution": {
     "iopub.execute_input": "2022-09-29T03:43:56.104013Z",
     "iopub.status.busy": "2022-09-29T03:43:56.101348Z",
     "iopub.status.idle": "2022-09-29T03:44:05.837873Z",
     "shell.execute_reply": "2022-09-29T03:44:05.837003Z"
    },
    "papermill": {
     "duration": 9.752066,
     "end_time": "2022-09-29T03:44:05.838006",
     "exception": false,
     "start_time": "2022-09-29T03:43:56.085940",
     "status": "completed"
    },
    "tags": []
   },
   "outputs": [
    {
     "name": "stderr",
     "output_type": "stream",
     "text": [
      "/home/runner/work/corr-app/corr-app/_notebooks/scripts/read_data.py:187: SettingWithCopyWarning:\n",
      "\n",
      "\n",
      "A value is trying to be set on a copy of a slice from a DataFrame.\n",
      "Try using .loc[row_indexer,col_indexer] = value instead\n",
      "\n",
      "See the caveats in the documentation: https://pandas.pydata.org/pandas-docs/stable/user_guide/indexing.html#returning-a-view-versus-a-copy\n",
      "\n"
     ]
    },
    {
     "name": "stderr",
     "output_type": "stream",
     "text": [
      "/home/runner/work/corr-app/corr-app/_notebooks/scripts/read_data.py:215: SettingWithCopyWarning:\n",
      "\n",
      "\n",
      "A value is trying to be set on a copy of a slice from a DataFrame.\n",
      "Try using .loc[row_indexer,col_indexer] = value instead\n",
      "\n",
      "See the caveats in the documentation: https://pandas.pydata.org/pandas-docs/stable/user_guide/indexing.html#returning-a-view-versus-a-copy\n",
      "\n"
     ]
    }
   ],
   "source": [
    "#hide\n",
    "df_all = read_api()\n",
    "#df_all = df_all.drop(['SP500', 'XAU', 'ETH', 'BTC'], axis=1)\n",
    "\n"
   ]
  },
  {
   "cell_type": "code",
   "execution_count": 6,
   "id": "mature-alert",
   "metadata": {
    "execution": {
     "iopub.execute_input": "2022-09-29T03:44:05.872923Z",
     "iopub.status.busy": "2022-09-29T03:44:05.871924Z",
     "iopub.status.idle": "2022-09-29T03:44:05.898830Z",
     "shell.execute_reply": "2022-09-29T03:44:05.897940Z"
    },
    "papermill": {
     "duration": 0.048313,
     "end_time": "2022-09-29T03:44:05.898967",
     "exception": false,
     "start_time": "2022-09-29T03:44:05.850654",
     "status": "completed"
    },
    "tags": []
   },
   "outputs": [],
   "source": [
    "#hide_input\n",
    "sum_corr = df_all.corr().sum().sort_values(ascending=True).index.values\n",
    "#df_all[sum_corr].corr()"
   ]
  },
  {
   "cell_type": "markdown",
   "id": "complex-syndicate",
   "metadata": {
    "papermill": {
     "duration": 0.011184,
     "end_time": "2022-09-29T03:44:05.923027",
     "exception": false,
     "start_time": "2022-09-29T03:44:05.911843",
     "status": "completed"
    },
    "tags": []
   },
   "source": [
    "## Išplėstinė koreliacijų matrica. "
   ]
  },
  {
   "cell_type": "code",
   "execution_count": 7,
   "id": "atomic-omaha",
   "metadata": {
    "execution": {
     "iopub.execute_input": "2022-09-29T03:44:05.949931Z",
     "iopub.status.busy": "2022-09-29T03:44:05.949351Z",
     "iopub.status.idle": "2022-09-29T03:44:07.150816Z",
     "shell.execute_reply": "2022-09-29T03:44:07.151282Z"
    },
    "papermill": {
     "duration": 1.217168,
     "end_time": "2022-09-29T03:44:07.151421",
     "exception": false,
     "start_time": "2022-09-29T03:44:05.934253",
     "status": "completed"
    },
    "tags": []
   },
   "outputs": [
    {
     "data": {
      "image/png": "[encoded data removed]",
      "text/plain": [
       "<Figure size 1080x792 with 2 Axes>"
      ]
     },
     "metadata": {
      "needs_background": "light"
     },
     "output_type": "display_data"
    }
   ],
   "source": [
    "#hide_input\n",
    "plt.figure(figsize=(15, 11))\n",
    "sns.heatmap(df_all[sum_corr].corr(), annot=True, cmap=\"cubehelix\") \n",
    "sns.set(font_scale=1.25)\n",
    "plt.savefig('corr_matrix.png', format='eps')"
   ]
  },
  {
   "cell_type": "code",
   "execution_count": 8,
   "id": "arbitrary-sullivan",
   "metadata": {
    "execution": {
     "iopub.execute_input": "2022-09-29T03:44:07.190990Z",
     "iopub.status.busy": "2022-09-29T03:44:07.181169Z",
     "iopub.status.idle": "2022-09-29T03:44:07.211017Z",
     "shell.execute_reply": "2022-09-29T03:44:07.210481Z"
    },
    "papermill": {
     "duration": 0.046095,
     "end_time": "2022-09-29T03:44:07.211138",
     "exception": false,
     "start_time": "2022-09-29T03:44:07.165043",
     "status": "completed"
    },
    "tags": []
   },
   "outputs": [],
   "source": [
    "#hide\n",
    "#df_all_mrk = read_api()"
   ]
  },
  {
   "cell_type": "code",
   "execution_count": 9,
   "id": "delayed-adapter",
   "metadata": {
    "execution": {
     "iopub.execute_input": "2022-09-29T03:44:07.242155Z",
     "iopub.status.busy": "2022-09-29T03:44:07.240853Z",
     "iopub.status.idle": "2022-09-29T03:44:07.267287Z",
     "shell.execute_reply": "2022-09-29T03:44:07.266351Z"
    },
    "papermill": {
     "duration": 0.042651,
     "end_time": "2022-09-29T03:44:07.267421",
     "exception": false,
     "start_time": "2022-09-29T03:44:07.224770",
     "status": "completed"
    },
    "tags": []
   },
   "outputs": [],
   "source": [
    "#hide\n",
    "#Koreliacijų koeficientai"
   ]
  },
  {
   "cell_type": "code",
   "execution_count": 10,
   "id": "seeing-celebration",
   "metadata": {
    "execution": {
     "iopub.execute_input": "2022-09-29T03:44:07.304078Z",
     "iopub.status.busy": "2022-09-29T03:44:07.299370Z",
     "iopub.status.idle": "2022-09-29T03:44:07.326681Z",
     "shell.execute_reply": "2022-09-29T03:44:07.326189Z"
    },
    "papermill": {
     "duration": 0.045386,
     "end_time": "2022-09-29T03:44:07.326820",
     "exception": false,
     "start_time": "2022-09-29T03:44:07.281434",
     "status": "completed"
    },
    "tags": []
   },
   "outputs": [],
   "source": [
    "#hide_input\n",
    "#sum_corr = df_all_mrk.corr().sum().sort_values(ascending=True).index.values\n",
    "#df_all_mrk[sum_corr].corr()"
   ]
  },
  {
   "cell_type": "code",
   "execution_count": 11,
   "id": "other-painting",
   "metadata": {
    "execution": {
     "iopub.execute_input": "2022-09-29T03:44:07.367578Z",
     "iopub.status.busy": "2022-09-29T03:44:07.359277Z",
     "iopub.status.idle": "2022-09-29T03:44:07.383922Z",
     "shell.execute_reply": "2022-09-29T03:44:07.383434Z"
    },
    "papermill": {
     "duration": 0.04399,
     "end_time": "2022-09-29T03:44:07.384042",
     "exception": false,
     "start_time": "2022-09-29T03:44:07.340052",
     "status": "completed"
    },
    "tags": []
   },
   "outputs": [],
   "source": [
    "#hide\n",
    "#Koreliacijos matrica. "
   ]
  },
  {
   "cell_type": "code",
   "execution_count": 12,
   "id": "modular-magnitude",
   "metadata": {
    "execution": {
     "iopub.execute_input": "2022-09-29T03:44:07.414206Z",
     "iopub.status.busy": "2022-09-29T03:44:07.413627Z",
     "iopub.status.idle": "2022-09-29T03:44:07.439799Z",
     "shell.execute_reply": "2022-09-29T03:44:07.439255Z"
    },
    "papermill": {
     "duration": 0.042294,
     "end_time": "2022-09-29T03:44:07.439925",
     "exception": false,
     "start_time": "2022-09-29T03:44:07.397631",
     "status": "completed"
    },
    "tags": []
   },
   "outputs": [],
   "source": [
    "#hide_input\n",
    "#plt.figure(figsize=(15, 8))\n",
    "#sns.heatmap(df_all_mrk[sum_corr].corr(), annot=True, cmap=\"BrBG\");\n",
    "#plt.savefig('corr_matrix_all.eps', format='eps')"
   ]
  },
  {
   "cell_type": "code",
   "execution_count": null,
   "id": "original-senator",
   "metadata": {
    "papermill": {
     "duration": 0.013124,
     "end_time": "2022-09-29T03:44:07.466692",
     "exception": false,
     "start_time": "2022-09-29T03:44:07.453568",
     "status": "completed"
    },
    "tags": []
   },
   "outputs": [],
   "source": []
  },
  {
   "cell_type": "code",
   "execution_count": null,
   "id": "saving-secretariat",
   "metadata": {
    "papermill": {
     "duration": 0.013104,
     "end_time": "2022-09-29T03:44:07.492963",
     "exception": false,
     "start_time": "2022-09-29T03:44:07.479859",
     "status": "completed"
    },
    "tags": []
   },
   "outputs": [],
   "source": []
  }
 ],
 "metadata": {
  "kernelspec": {
   "display_name": "Python 3",
   "language": "python",
   "name": "python3"
  },
  "language_info": {
   "codemirror_mode": {
    "name": "ipython",
    "version": 3
   },
   "file_extension": ".py",
   "mimetype": "text/x-python",
   "name": "python",
   "nbconvert_exporter": "python",
   "pygments_lexer": "ipython3",
   "version": "3.6.15"
  },
  "papermill": {
   "default_parameters": {},
   "duration": 15.398104,
   "end_time": "2022-09-29T03:44:08.025531",
   "environment_variables": {},
   "exception": null,
   "input_path": "App-Correlation_charts.ipynb",
   "output_path": "App-Correlation_charts.ipynb",
   "parameters": {},
   "start_time": "2022-09-29T03:43:52.627427",
   "version": "2.2.2"
  }
 },
 "nbformat": 4,
 "nbformat_minor": 5
}