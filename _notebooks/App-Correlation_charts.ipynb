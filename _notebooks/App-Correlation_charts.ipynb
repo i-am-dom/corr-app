{
 "cells": [
  {
   "cell_type": "markdown",
   "id": "touched-facility",
   "metadata": {
    "papermill": {
     "duration": 0.014732,
     "end_time": "2022-08-03T03:22:33.281607",
     "exception": false,
     "start_time": "2022-08-03T03:22:33.266875",
     "status": "completed"
    },
    "tags": []
   },
   "source": [
    "# Koreliacijų matrica\n",
    "> Išplėstinė koreliacijų matrica. \n",
    "\n",
    "- toc: true \n",
    "- badges: true\n",
    "- comments: false\n",
    "- categories: [Dominykas Tautkus]\n",
    "- image: images/matrix.png"
   ]
  },
  {
   "cell_type": "code",
   "execution_count": null,
   "id": "premium-weekend",
   "metadata": {
    "papermill": {
     "duration": 0.010723,
     "end_time": "2022-08-03T03:22:33.303863",
     "exception": false,
     "start_time": "2022-08-03T03:22:33.293140",
     "status": "completed"
    },
    "tags": []
   },
   "outputs": [],
   "source": []
  },
  {
   "cell_type": "code",
   "execution_count": 1,
   "id": "vertical-rebate",
   "metadata": {
    "execution": {
     "iopub.execute_input": "2022-08-03T03:22:33.335624Z",
     "iopub.status.busy": "2022-08-03T03:22:33.335061Z",
     "iopub.status.idle": "2022-08-03T03:22:33.345934Z",
     "shell.execute_reply": "2022-08-03T03:22:33.347662Z"
    },
    "papermill": {
     "duration": 0.033036,
     "end_time": "2022-08-03T03:22:33.347795",
     "exception": false,
     "start_time": "2022-08-03T03:22:33.314759",
     "status": "completed"
    },
    "tags": []
   },
   "outputs": [],
   "source": [
    "#hide\n",
    "%load_ext autoreload\n",
    "%autoreload 2"
   ]
  },
  {
   "cell_type": "code",
   "execution_count": 2,
   "id": "overall-advancement",
   "metadata": {
    "execution": {
     "iopub.execute_input": "2022-08-03T03:22:33.372678Z",
     "iopub.status.busy": "2022-08-03T03:22:33.372135Z",
     "iopub.status.idle": "2022-08-03T03:22:34.714865Z",
     "shell.execute_reply": "2022-08-03T03:22:34.714382Z"
    },
    "papermill": {
     "duration": 1.356288,
     "end_time": "2022-08-03T03:22:34.714977",
     "exception": false,
     "start_time": "2022-08-03T03:22:33.358689",
     "status": "completed"
    },
    "tags": []
   },
   "outputs": [],
   "source": [
    "#hide\n",
    "from scripts.read_data import read_api\n",
    "from IPython.display import HTML\n",
    "import plotly.graph_objects as go\n"
   ]
  },
  {
   "cell_type": "code",
   "execution_count": 3,
   "id": "light-crazy",
   "metadata": {
    "execution": {
     "iopub.execute_input": "2022-08-03T03:22:34.742201Z",
     "iopub.status.busy": "2022-08-03T03:22:34.741624Z",
     "iopub.status.idle": "2022-08-03T03:22:34.762662Z",
     "shell.execute_reply": "2022-08-03T03:22:34.763075Z"
    },
    "papermill": {
     "duration": 0.037068,
     "end_time": "2022-08-03T03:22:34.763202",
     "exception": false,
     "start_time": "2022-08-03T03:22:34.726134",
     "status": "completed"
    },
    "tags": []
   },
   "outputs": [],
   "source": [
    "#hide\n",
    "### ICO koreliacija"
   ]
  },
  {
   "cell_type": "code",
   "execution_count": 4,
   "id": "likely-bahrain",
   "metadata": {
    "execution": {
     "iopub.execute_input": "2022-08-03T03:22:34.789039Z",
     "iopub.status.busy": "2022-08-03T03:22:34.788486Z",
     "iopub.status.idle": "2022-08-03T03:22:35.626900Z",
     "shell.execute_reply": "2022-08-03T03:22:35.626415Z"
    },
    "papermill": {
     "duration": 0.852351,
     "end_time": "2022-08-03T03:22:35.627015",
     "exception": false,
     "start_time": "2022-08-03T03:22:34.774664",
     "status": "completed"
    },
    "tags": []
   },
   "outputs": [],
   "source": [
    "#hide\n",
    "import matplotlib.pyplot as plt\n",
    "import numpy as np\n",
    "import pandas as pd\n",
    "import seaborn as sns\n",
    "import matplotlib.pyplot as plt \n",
    "import matplotlib.dates as mdates\n",
    "import matplotlib.pyplot as plt"
   ]
  },
  {
   "cell_type": "code",
   "execution_count": 5,
   "id": "superior-blanket",
   "metadata": {
    "execution": {
     "iopub.execute_input": "2022-08-03T03:22:35.652765Z",
     "iopub.status.busy": "2022-08-03T03:22:35.652207Z",
     "iopub.status.idle": "2022-08-03T03:22:44.392727Z",
     "shell.execute_reply": "2022-08-03T03:22:44.392228Z"
    },
    "papermill": {
     "duration": 8.754512,
     "end_time": "2022-08-03T03:22:44.392837",
     "exception": false,
     "start_time": "2022-08-03T03:22:35.638325",
     "status": "completed"
    },
    "tags": []
   },
   "outputs": [
    {
     "name": "stderr",
     "output_type": "stream",
     "text": [
      "/home/runner/work/corr-app/corr-app/_notebooks/scripts/read_data.py:187: SettingWithCopyWarning:\n",
      "\n",
      "\n",
      "A value is trying to be set on a copy of a slice from a DataFrame.\n",
      "Try using .loc[row_indexer,col_indexer] = value instead\n",
      "\n",
      "See the caveats in the documentation: https://pandas.pydata.org/pandas-docs/stable/user_guide/indexing.html#returning-a-view-versus-a-copy\n",
      "\n"
     ]
    },
    {
     "name": "stderr",
     "output_type": "stream",
     "text": [
      "/home/runner/work/corr-app/corr-app/_notebooks/scripts/read_data.py:215: SettingWithCopyWarning:\n",
      "\n",
      "\n",
      "A value is trying to be set on a copy of a slice from a DataFrame.\n",
      "Try using .loc[row_indexer,col_indexer] = value instead\n",
      "\n",
      "See the caveats in the documentation: https://pandas.pydata.org/pandas-docs/stable/user_guide/indexing.html#returning-a-view-versus-a-copy\n",
      "\n"
     ]
    }
   ],
   "source": [
    "#hide\n",
    "df_all = read_api()\n",
    "#df_all = df_all.drop(['SP500', 'XAU', 'ETH', 'BTC'], axis=1)\n",
    "\n"
   ]
  },
  {
   "cell_type": "code",
   "execution_count": 6,
   "id": "mature-alert",
   "metadata": {
    "execution": {
     "iopub.execute_input": "2022-08-03T03:22:44.421040Z",
     "iopub.status.busy": "2022-08-03T03:22:44.420485Z",
     "iopub.status.idle": "2022-08-03T03:22:44.449536Z",
     "shell.execute_reply": "2022-08-03T03:22:44.449057Z"
    },
    "papermill": {
     "duration": 0.043936,
     "end_time": "2022-08-03T03:22:44.449637",
     "exception": false,
     "start_time": "2022-08-03T03:22:44.405701",
     "status": "completed"
    },
    "tags": []
   },
   "outputs": [],
   "source": [
    "#hide_input\n",
    "sum_corr = df_all.corr().sum().sort_values(ascending=True).index.values\n",
    "#df_all[sum_corr].corr()"
   ]
  },
  {
   "cell_type": "markdown",
   "id": "complex-syndicate",
   "metadata": {
    "papermill": {
     "duration": 0.011385,
     "end_time": "2022-08-03T03:22:44.472480",
     "exception": false,
     "start_time": "2022-08-03T03:22:44.461095",
     "status": "completed"
    },
    "tags": []
   },
   "source": [
    "## Išplėstinė koreliacijų matrica. "
   ]
  },
  {
   "cell_type": "code",
   "execution_count": 7,
   "id": "atomic-omaha",
   "metadata": {
    "execution": {
     "iopub.execute_input": "2022-08-03T03:22:44.499059Z",
     "iopub.status.busy": "2022-08-03T03:22:44.498508Z",
     "iopub.status.idle": "2022-08-03T03:22:45.632243Z",
     "shell.execute_reply": "2022-08-03T03:22:45.631790Z"
    },
    "papermill": {
     "duration": 1.14842,
     "end_time": "2022-08-03T03:22:45.632355",
     "exception": false,
     "start_time": "2022-08-03T03:22:44.483935",
     "status": "completed"
    },
    "tags": []
   },
   "outputs": [
    {
     "data": {
      "image/png": "[encoded data removed]",
      "text/plain": [
       "<Figure size 1080x792 with 2 Axes>"
      ]
     },
     "metadata": {
      "needs_background": "light"
     },
     "output_type": "display_data"
    }
   ],
   "source": [
    "#hide_input\n",
    "plt.figure(figsize=(15, 11))\n",
    "sns.heatmap(df_all[sum_corr].corr(), annot=True, cmap=\"cubehelix\") \n",
    "sns.set(font_scale=1.25)\n",
    "plt.savefig('corr_matrix.png', format='eps')"
   ]
  },
  {
   "cell_type": "code",
   "execution_count": 8,
   "id": "arbitrary-sullivan",
   "metadata": {
    "execution": {
     "iopub.execute_input": "2022-08-03T03:22:45.666692Z",
     "iopub.status.busy": "2022-08-03T03:22:45.665125Z",
     "iopub.status.idle": "2022-08-03T03:22:45.689632Z",
     "shell.execute_reply": "2022-08-03T03:22:45.690044Z"
    },
    "papermill": {
     "duration": 0.043931,
     "end_time": "2022-08-03T03:22:45.690167",
     "exception": false,
     "start_time": "2022-08-03T03:22:45.646236",
     "status": "completed"
    },
    "tags": []
   },
   "outputs": [],
   "source": [
    "#hide\n",
    "#df_all_mrk = read_api()"
   ]
  },
  {
   "cell_type": "code",
   "execution_count": 9,
   "id": "delayed-adapter",
   "metadata": {
    "execution": {
     "iopub.execute_input": "2022-08-03T03:22:45.720097Z",
     "iopub.status.busy": "2022-08-03T03:22:45.719528Z",
     "iopub.status.idle": "2022-08-03T03:22:45.744636Z",
     "shell.execute_reply": "2022-08-03T03:22:45.745043Z"
    },
    "papermill": {
     "duration": 0.041604,
     "end_time": "2022-08-03T03:22:45.745163",
     "exception": false,
     "start_time": "2022-08-03T03:22:45.703559",
     "status": "completed"
    },
    "tags": []
   },
   "outputs": [],
   "source": [
    "#hide\n",
    "#Koreliacijų koeficientai"
   ]
  },
  {
   "cell_type": "code",
   "execution_count": 10,
   "id": "seeing-celebration",
   "metadata": {
    "execution": {
     "iopub.execute_input": "2022-08-03T03:22:45.775482Z",
     "iopub.status.busy": "2022-08-03T03:22:45.774930Z",
     "iopub.status.idle": "2022-08-03T03:22:45.800829Z",
     "shell.execute_reply": "2022-08-03T03:22:45.800380Z"
    },
    "papermill": {
     "duration": 0.042218,
     "end_time": "2022-08-03T03:22:45.800939",
     "exception": false,
     "start_time": "2022-08-03T03:22:45.758721",
     "status": "completed"
    },
    "tags": []
   },
   "outputs": [],
   "source": [
    "#hide_input\n",
    "#sum_corr = df_all_mrk.corr().sum().sort_values(ascending=True).index.values\n",
    "#df_all_mrk[sum_corr].corr()"
   ]
  },
  {
   "cell_type": "code",
   "execution_count": 11,
   "id": "other-painting",
   "metadata": {
    "execution": {
     "iopub.execute_input": "2022-08-03T03:22:45.831225Z",
     "iopub.status.busy": "2022-08-03T03:22:45.830660Z",
     "iopub.status.idle": "2022-08-03T03:22:45.857015Z",
     "shell.execute_reply": "2022-08-03T03:22:45.856446Z"
    },
    "papermill": {
     "duration": 0.042706,
     "end_time": "2022-08-03T03:22:45.857125",
     "exception": false,
     "start_time": "2022-08-03T03:22:45.814419",
     "status": "completed"
    },
    "tags": []
   },
   "outputs": [],
   "source": [
    "#hide\n",
    "#Koreliacijos matrica. "
   ]
  },
  {
   "cell_type": "code",
   "execution_count": 12,
   "id": "modular-magnitude",
   "metadata": {
    "execution": {
     "iopub.execute_input": "2022-08-03T03:22:45.888155Z",
     "iopub.status.busy": "2022-08-03T03:22:45.887596Z",
     "iopub.status.idle": "2022-08-03T03:22:45.913425Z",
     "shell.execute_reply": "2022-08-03T03:22:45.912949Z"
    },
    "papermill": {
     "duration": 0.042584,
     "end_time": "2022-08-03T03:22:45.913531",
     "exception": false,
     "start_time": "2022-08-03T03:22:45.870947",
     "status": "completed"
    },
    "tags": []
   },
   "outputs": [],
   "source": [
    "#hide_input\n",
    "#plt.figure(figsize=(15, 8))\n",
    "#sns.heatmap(df_all_mrk[sum_corr].corr(), annot=True, cmap=\"BrBG\");\n",
    "#plt.savefig('corr_matrix_all.eps', format='eps')"
   ]
  },
  {
   "cell_type": "code",
   "execution_count": null,
   "id": "original-senator",
   "metadata": {
    "papermill": {
     "duration": 0.013446,
     "end_time": "2022-08-03T03:22:45.940450",
     "exception": false,
     "start_time": "2022-08-03T03:22:45.927004",
     "status": "completed"
    },
    "tags": []
   },
   "outputs": [],
   "source": []
  },
  {
   "cell_type": "code",
   "execution_count": null,
   "id": "saving-secretariat",
   "metadata": {
    "papermill": {
     "duration": 0.013329,
     "end_time": "2022-08-03T03:22:45.967207",
     "exception": false,
     "start_time": "2022-08-03T03:22:45.953878",
     "status": "completed"
    },
    "tags": []
   },
   "outputs": [],
   "source": []
  }
 ],
 "metadata": {
  "kernelspec": {
   "display_name": "Python 3",
   "language": "python",
   "name": "python3"
  },
  "language_info": {
   "codemirror_mode": {
    "name": "ipython",
    "version": 3
   },
   "file_extension": ".py",
   "mimetype": "text/x-python",
   "name": "python",
   "nbconvert_exporter": "python",
   "pygments_lexer": "ipython3",
   "version": "3.6.15"
  },
  "papermill": {
   "default_parameters": {},
   "duration": 14.050092,
   "end_time": "2022-08-03T03:22:46.401141",
   "environment_variables": {},
   "exception": null,
   "input_path": "App-Correlation_charts.ipynb",
   "output_path": "App-Correlation_charts.ipynb",
   "parameters": {},
   "start_time": "2022-08-03T03:22:32.351049",
   "version": "2.2.2"
  }
 },
 "nbformat": 4,
 "nbformat_minor": 5
}