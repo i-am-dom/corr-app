{
 "cells": [
  {
   "cell_type": "markdown",
   "id": "touched-facility",
   "metadata": {
    "papermill": {
     "duration": 0.015481,
     "end_time": "2022-06-24T03:11:13.855731",
     "exception": false,
     "start_time": "2022-06-24T03:11:13.840250",
     "status": "completed"
    },
    "tags": []
   },
   "source": [
    "# Koreliacijų matrica\n",
    "> Išplėstinė koreliacijų matrica. \n",
    "\n",
    "- toc: true \n",
    "- badges: true\n",
    "- comments: false\n",
    "- categories: [Dominykas Tautkus]\n",
    "- image: images/matrix.png"
   ]
  },
  {
   "cell_type": "code",
   "execution_count": null,
   "id": "premium-weekend",
   "metadata": {
    "papermill": {
     "duration": 0.010658,
     "end_time": "2022-06-24T03:11:13.877739",
     "exception": false,
     "start_time": "2022-06-24T03:11:13.867081",
     "status": "completed"
    },
    "tags": []
   },
   "outputs": [],
   "source": []
  },
  {
   "cell_type": "code",
   "execution_count": 1,
   "id": "vertical-rebate",
   "metadata": {
    "execution": {
     "iopub.execute_input": "2022-06-24T03:11:13.911007Z",
     "iopub.status.busy": "2022-06-24T03:11:13.910408Z",
     "iopub.status.idle": "2022-06-24T03:11:13.921467Z",
     "shell.execute_reply": "2022-06-24T03:11:13.920982Z"
    },
    "papermill": {
     "duration": 0.032447,
     "end_time": "2022-06-24T03:11:13.921581",
     "exception": false,
     "start_time": "2022-06-24T03:11:13.889134",
     "status": "completed"
    },
    "tags": []
   },
   "outputs": [],
   "source": [
    "#hide\n",
    "%load_ext autoreload\n",
    "%autoreload 2"
   ]
  },
  {
   "cell_type": "code",
   "execution_count": 2,
   "id": "overall-advancement",
   "metadata": {
    "execution": {
     "iopub.execute_input": "2022-06-24T03:11:13.946089Z",
     "iopub.status.busy": "2022-06-24T03:11:13.945515Z",
     "iopub.status.idle": "2022-06-24T03:11:15.189735Z",
     "shell.execute_reply": "2022-06-24T03:11:15.188748Z"
    },
    "papermill": {
     "duration": 1.257808,
     "end_time": "2022-06-24T03:11:15.189875",
     "exception": false,
     "start_time": "2022-06-24T03:11:13.932067",
     "status": "completed"
    },
    "tags": []
   },
   "outputs": [],
   "source": [
    "#hide\n",
    "from scripts.read_data import read_api\n",
    "from IPython.display import HTML\n",
    "import plotly.graph_objects as go\n"
   ]
  },
  {
   "cell_type": "code",
   "execution_count": 3,
   "id": "light-crazy",
   "metadata": {
    "execution": {
     "iopub.execute_input": "2022-06-24T03:11:15.216150Z",
     "iopub.status.busy": "2022-06-24T03:11:15.215567Z",
     "iopub.status.idle": "2022-06-24T03:11:15.238031Z",
     "shell.execute_reply": "2022-06-24T03:11:15.238448Z"
    },
    "papermill": {
     "duration": 0.037438,
     "end_time": "2022-06-24T03:11:15.238569",
     "exception": false,
     "start_time": "2022-06-24T03:11:15.201131",
     "status": "completed"
    },
    "tags": []
   },
   "outputs": [],
   "source": [
    "#hide\n",
    "### ICO koreliacija"
   ]
  },
  {
   "cell_type": "code",
   "execution_count": 4,
   "id": "likely-bahrain",
   "metadata": {
    "execution": {
     "iopub.execute_input": "2022-06-24T03:11:15.265708Z",
     "iopub.status.busy": "2022-06-24T03:11:15.265110Z",
     "iopub.status.idle": "2022-06-24T03:11:16.093693Z",
     "shell.execute_reply": "2022-06-24T03:11:16.093135Z"
    },
    "papermill": {
     "duration": 0.844649,
     "end_time": "2022-06-24T03:11:16.093822",
     "exception": false,
     "start_time": "2022-06-24T03:11:15.249173",
     "status": "completed"
    },
    "tags": []
   },
   "outputs": [],
   "source": [
    "#hide\n",
    "import matplotlib.pyplot as plt\n",
    "import numpy as np\n",
    "import pandas as pd\n",
    "import seaborn as sns\n",
    "import matplotlib.pyplot as plt \n",
    "import matplotlib.dates as mdates\n",
    "import matplotlib.pyplot as plt"
   ]
  },
  {
   "cell_type": "code",
   "execution_count": 5,
   "id": "superior-blanket",
   "metadata": {
    "execution": {
     "iopub.execute_input": "2022-06-24T03:11:16.121860Z",
     "iopub.status.busy": "2022-06-24T03:11:16.120749Z",
     "iopub.status.idle": "2022-06-24T03:11:29.977496Z",
     "shell.execute_reply": "2022-06-24T03:11:29.976643Z"
    },
    "papermill": {
     "duration": 13.872763,
     "end_time": "2022-06-24T03:11:29.977633",
     "exception": false,
     "start_time": "2022-06-24T03:11:16.104870",
     "status": "completed"
    },
    "tags": []
   },
   "outputs": [
    {
     "name": "stderr",
     "output_type": "stream",
     "text": [
      "/home/runner/work/corr-app/corr-app/_notebooks/scripts/read_data.py:187: SettingWithCopyWarning:\n",
      "\n",
      "\n",
      "A value is trying to be set on a copy of a slice from a DataFrame.\n",
      "Try using .loc[row_indexer,col_indexer] = value instead\n",
      "\n",
      "See the caveats in the documentation: https://pandas.pydata.org/pandas-docs/stable/user_guide/indexing.html#returning-a-view-versus-a-copy\n",
      "\n"
     ]
    },
    {
     "name": "stderr",
     "output_type": "stream",
     "text": [
      "/home/runner/work/corr-app/corr-app/_notebooks/scripts/read_data.py:215: SettingWithCopyWarning:\n",
      "\n",
      "\n",
      "A value is trying to be set on a copy of a slice from a DataFrame.\n",
      "Try using .loc[row_indexer,col_indexer] = value instead\n",
      "\n",
      "See the caveats in the documentation: https://pandas.pydata.org/pandas-docs/stable/user_guide/indexing.html#returning-a-view-versus-a-copy\n",
      "\n"
     ]
    }
   ],
   "source": [
    "#hide\n",
    "df_all = read_api()\n",
    "#df_all = df_all.drop(['SP500', 'XAU', 'ETH', 'BTC'], axis=1)\n",
    "\n"
   ]
  },
  {
   "cell_type": "code",
   "execution_count": 6,
   "id": "mature-alert",
   "metadata": {
    "execution": {
     "iopub.execute_input": "2022-06-24T03:11:30.005872Z",
     "iopub.status.busy": "2022-06-24T03:11:30.005275Z",
     "iopub.status.idle": "2022-06-24T03:11:30.036325Z",
     "shell.execute_reply": "2022-06-24T03:11:30.035668Z"
    },
    "papermill": {
     "duration": 0.047131,
     "end_time": "2022-06-24T03:11:30.036436",
     "exception": false,
     "start_time": "2022-06-24T03:11:29.989305",
     "status": "completed"
    },
    "tags": []
   },
   "outputs": [],
   "source": [
    "#hide_input\n",
    "sum_corr = df_all.corr().sum().sort_values(ascending=True).index.values\n",
    "#df_all[sum_corr].corr()"
   ]
  },
  {
   "cell_type": "markdown",
   "id": "complex-syndicate",
   "metadata": {
    "papermill": {
     "duration": 0.011106,
     "end_time": "2022-06-24T03:11:30.058700",
     "exception": false,
     "start_time": "2022-06-24T03:11:30.047594",
     "status": "completed"
    },
    "tags": []
   },
   "source": [
    "## Išplėstinė koreliacijų matrica. "
   ]
  },
  {
   "cell_type": "code",
   "execution_count": 7,
   "id": "atomic-omaha",
   "metadata": {
    "execution": {
     "iopub.execute_input": "2022-06-24T03:11:30.086168Z",
     "iopub.status.busy": "2022-06-24T03:11:30.085586Z",
     "iopub.status.idle": "2022-06-24T03:11:31.275744Z",
     "shell.execute_reply": "2022-06-24T03:11:31.275243Z"
    },
    "papermill": {
     "duration": 1.206072,
     "end_time": "2022-06-24T03:11:31.275865",
     "exception": false,
     "start_time": "2022-06-24T03:11:30.069793",
     "status": "completed"
    },
    "tags": []
   },
   "outputs": [
    {
     "data": {
      "image/png": "[encoded data removed]",
      "text/plain": [
       "<Figure size 1080x792 with 2 Axes>"
      ]
     },
     "metadata": {
      "needs_background": "light"
     },
     "output_type": "display_data"
    }
   ],
   "source": [
    "#hide_input\n",
    "plt.figure(figsize=(15, 11))\n",
    "sns.heatmap(df_all[sum_corr].corr(), annot=True, cmap=\"cubehelix\") \n",
    "sns.set(font_scale=1.25)\n",
    "plt.savefig('corr_matrix.png', format='eps')"
   ]
  },
  {
   "cell_type": "code",
   "execution_count": 8,
   "id": "arbitrary-sullivan",
   "metadata": {
    "execution": {
     "iopub.execute_input": "2022-06-24T03:11:31.306235Z",
     "iopub.status.busy": "2022-06-24T03:11:31.305647Z",
     "iopub.status.idle": "2022-06-24T03:11:31.333932Z",
     "shell.execute_reply": "2022-06-24T03:11:31.333399Z"
    },
    "papermill": {
     "duration": 0.044576,
     "end_time": "2022-06-24T03:11:31.334048",
     "exception": false,
     "start_time": "2022-06-24T03:11:31.289472",
     "status": "completed"
    },
    "tags": []
   },
   "outputs": [],
   "source": [
    "#hide\n",
    "#df_all_mrk = read_api()"
   ]
  },
  {
   "cell_type": "code",
   "execution_count": 9,
   "id": "delayed-adapter",
   "metadata": {
    "execution": {
     "iopub.execute_input": "2022-06-24T03:11:31.363190Z",
     "iopub.status.busy": "2022-06-24T03:11:31.362616Z",
     "iopub.status.idle": "2022-06-24T03:11:31.389264Z",
     "shell.execute_reply": "2022-06-24T03:11:31.388688Z"
    },
    "papermill": {
     "duration": 0.04217,
     "end_time": "2022-06-24T03:11:31.389388",
     "exception": false,
     "start_time": "2022-06-24T03:11:31.347218",
     "status": "completed"
    },
    "tags": []
   },
   "outputs": [],
   "source": [
    "#hide\n",
    "#Koreliacijų koeficientai"
   ]
  },
  {
   "cell_type": "code",
   "execution_count": 10,
   "id": "seeing-celebration",
   "metadata": {
    "execution": {
     "iopub.execute_input": "2022-06-24T03:11:31.420170Z",
     "iopub.status.busy": "2022-06-24T03:11:31.419516Z",
     "iopub.status.idle": "2022-06-24T03:11:31.445213Z",
     "shell.execute_reply": "2022-06-24T03:11:31.444670Z"
    },
    "papermill": {
     "duration": 0.041891,
     "end_time": "2022-06-24T03:11:31.445324",
     "exception": false,
     "start_time": "2022-06-24T03:11:31.403433",
     "status": "completed"
    },
    "tags": []
   },
   "outputs": [],
   "source": [
    "#hide_input\n",
    "#sum_corr = df_all_mrk.corr().sum().sort_values(ascending=True).index.values\n",
    "#df_all_mrk[sum_corr].corr()"
   ]
  },
  {
   "cell_type": "code",
   "execution_count": 11,
   "id": "other-painting",
   "metadata": {
    "execution": {
     "iopub.execute_input": "2022-06-24T03:11:31.477553Z",
     "iopub.status.busy": "2022-06-24T03:11:31.476940Z",
     "iopub.status.idle": "2022-06-24T03:11:31.500644Z",
     "shell.execute_reply": "2022-06-24T03:11:31.500146Z"
    },
    "papermill": {
     "duration": 0.042368,
     "end_time": "2022-06-24T03:11:31.500750",
     "exception": false,
     "start_time": "2022-06-24T03:11:31.458382",
     "status": "completed"
    },
    "tags": []
   },
   "outputs": [],
   "source": [
    "#hide\n",
    "#Koreliacijos matrica. "
   ]
  },
  {
   "cell_type": "code",
   "execution_count": 12,
   "id": "modular-magnitude",
   "metadata": {
    "execution": {
     "iopub.execute_input": "2022-06-24T03:11:31.530726Z",
     "iopub.status.busy": "2022-06-24T03:11:31.530069Z",
     "iopub.status.idle": "2022-06-24T03:11:31.555502Z",
     "shell.execute_reply": "2022-06-24T03:11:31.554937Z"
    },
    "papermill": {
     "duration": 0.041323,
     "end_time": "2022-06-24T03:11:31.555616",
     "exception": false,
     "start_time": "2022-06-24T03:11:31.514293",
     "status": "completed"
    },
    "tags": []
   },
   "outputs": [],
   "source": [
    "#hide_input\n",
    "#plt.figure(figsize=(15, 8))\n",
    "#sns.heatmap(df_all_mrk[sum_corr].corr(), annot=True, cmap=\"BrBG\");\n",
    "#plt.savefig('corr_matrix_all.eps', format='eps')"
   ]
  },
  {
   "cell_type": "code",
   "execution_count": null,
   "id": "original-senator",
   "metadata": {
    "papermill": {
     "duration": 0.013029,
     "end_time": "2022-06-24T03:11:31.582023",
     "exception": false,
     "start_time": "2022-06-24T03:11:31.568994",
     "status": "completed"
    },
    "tags": []
   },
   "outputs": [],
   "source": []
  },
  {
   "cell_type": "code",
   "execution_count": null,
   "id": "saving-secretariat",
   "metadata": {
    "papermill": {
     "duration": 0.013003,
     "end_time": "2022-06-24T03:11:31.608052",
     "exception": false,
     "start_time": "2022-06-24T03:11:31.595049",
     "status": "completed"
    },
    "tags": []
   },
   "outputs": [],
   "source": []
  }
 ],
 "metadata": {
  "kernelspec": {
   "display_name": "Python 3",
   "language": "python",
   "name": "python3"
  },
  "language_info": {
   "codemirror_mode": {
    "name": "ipython",
    "version": 3
   },
   "file_extension": ".py",
   "mimetype": "text/x-python",
   "name": "python",
   "nbconvert_exporter": "python",
   "pygments_lexer": "ipython3",
   "version": "3.6.15"
  },
  "papermill": {
   "default_parameters": {},
   "duration": 19.221527,
   "end_time": "2022-06-24T03:11:32.141103",
   "environment_variables": {},
   "exception": null,
   "input_path": "App-Correlation_charts.ipynb",
   "output_path": "App-Correlation_charts.ipynb",
   "parameters": {},
   "start_time": "2022-06-24T03:11:12.919576",
   "version": "2.2.2"
  }
 },
 "nbformat": 4,
 "nbformat_minor": 5
}