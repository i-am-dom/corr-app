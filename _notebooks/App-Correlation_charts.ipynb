{
 "cells": [
  {
   "cell_type": "markdown",
   "id": "touched-facility",
   "metadata": {
    "papermill": {
     "duration": 0.018268,
     "end_time": "2022-10-12T03:35:27.779345",
     "exception": false,
     "start_time": "2022-10-12T03:35:27.761077",
     "status": "completed"
    },
    "tags": []
   },
   "source": [
    "# Koreliacijų matrica\n",
    "> Išplėstinė koreliacijų matrica. \n",
    "\n",
    "- toc: true \n",
    "- badges: true\n",
    "- comments: false\n",
    "- categories: [Dominykas Tautkus]\n",
    "- image: images/matrix.png"
   ]
  },
  {
   "cell_type": "code",
   "execution_count": null,
   "id": "premium-weekend",
   "metadata": {
    "papermill": {
     "duration": 0.014327,
     "end_time": "2022-10-12T03:35:27.809077",
     "exception": false,
     "start_time": "2022-10-12T03:35:27.794750",
     "status": "completed"
    },
    "tags": []
   },
   "outputs": [],
   "source": []
  },
  {
   "cell_type": "code",
   "execution_count": 1,
   "id": "vertical-rebate",
   "metadata": {
    "execution": {
     "iopub.execute_input": "2022-10-12T03:35:27.850704Z",
     "iopub.status.busy": "2022-10-12T03:35:27.849925Z",
     "iopub.status.idle": "2022-10-12T03:35:27.867935Z",
     "shell.execute_reply": "2022-10-12T03:35:27.868710Z"
    },
    "papermill": {
     "duration": 0.045169,
     "end_time": "2022-10-12T03:35:27.868904",
     "exception": false,
     "start_time": "2022-10-12T03:35:27.823735",
     "status": "completed"
    },
    "tags": []
   },
   "outputs": [],
   "source": [
    "#hide\n",
    "%load_ext autoreload\n",
    "%autoreload 2"
   ]
  },
  {
   "cell_type": "code",
   "execution_count": 2,
   "id": "overall-advancement",
   "metadata": {
    "execution": {
     "iopub.execute_input": "2022-10-12T03:35:27.901115Z",
     "iopub.status.busy": "2022-10-12T03:35:27.899813Z",
     "iopub.status.idle": "2022-10-12T03:35:29.659074Z",
     "shell.execute_reply": "2022-10-12T03:35:29.658435Z"
    },
    "papermill": {
     "duration": 1.776896,
     "end_time": "2022-10-12T03:35:29.659215",
     "exception": false,
     "start_time": "2022-10-12T03:35:27.882319",
     "status": "completed"
    },
    "tags": []
   },
   "outputs": [],
   "source": [
    "#hide\n",
    "from scripts.read_data import read_api\n",
    "from IPython.display import HTML\n",
    "import plotly.graph_objects as go\n"
   ]
  },
  {
   "cell_type": "code",
   "execution_count": 3,
   "id": "light-crazy",
   "metadata": {
    "execution": {
     "iopub.execute_input": "2022-10-12T03:35:29.695576Z",
     "iopub.status.busy": "2022-10-12T03:35:29.694895Z",
     "iopub.status.idle": "2022-10-12T03:35:29.723060Z",
     "shell.execute_reply": "2022-10-12T03:35:29.722279Z"
    },
    "papermill": {
     "duration": 0.050187,
     "end_time": "2022-10-12T03:35:29.723199",
     "exception": false,
     "start_time": "2022-10-12T03:35:29.673012",
     "status": "completed"
    },
    "tags": []
   },
   "outputs": [],
   "source": [
    "#hide\n",
    "### ICO koreliacija"
   ]
  },
  {
   "cell_type": "code",
   "execution_count": 4,
   "id": "likely-bahrain",
   "metadata": {
    "execution": {
     "iopub.execute_input": "2022-10-12T03:35:29.756821Z",
     "iopub.status.busy": "2022-10-12T03:35:29.755932Z",
     "iopub.status.idle": "2022-10-12T03:35:30.864424Z",
     "shell.execute_reply": "2022-10-12T03:35:30.865130Z"
    },
    "papermill": {
     "duration": 1.128545,
     "end_time": "2022-10-12T03:35:30.865330",
     "exception": false,
     "start_time": "2022-10-12T03:35:29.736785",
     "status": "completed"
    },
    "tags": []
   },
   "outputs": [],
   "source": [
    "#hide\n",
    "import matplotlib.pyplot as plt\n",
    "import numpy as np\n",
    "import pandas as pd\n",
    "import seaborn as sns\n",
    "import matplotlib.pyplot as plt \n",
    "import matplotlib.dates as mdates\n",
    "import matplotlib.pyplot as plt"
   ]
  },
  {
   "cell_type": "code",
   "execution_count": 5,
   "id": "superior-blanket",
   "metadata": {
    "execution": {
     "iopub.execute_input": "2022-10-12T03:35:30.902151Z",
     "iopub.status.busy": "2022-10-12T03:35:30.901256Z",
     "iopub.status.idle": "2022-10-12T03:35:42.728896Z",
     "shell.execute_reply": "2022-10-12T03:35:42.728299Z"
    },
    "papermill": {
     "duration": 11.849797,
     "end_time": "2022-10-12T03:35:42.729034",
     "exception": false,
     "start_time": "2022-10-12T03:35:30.879237",
     "status": "completed"
    },
    "tags": []
   },
   "outputs": [
    {
     "name": "stderr",
     "output_type": "stream",
     "text": [
      "/home/runner/work/corr-app/corr-app/_notebooks/scripts/read_data.py:187: SettingWithCopyWarning:\n",
      "\n",
      "\n",
      "A value is trying to be set on a copy of a slice from a DataFrame.\n",
      "Try using .loc[row_indexer,col_indexer] = value instead\n",
      "\n",
      "See the caveats in the documentation: https://pandas.pydata.org/pandas-docs/stable/user_guide/indexing.html#returning-a-view-versus-a-copy\n",
      "\n"
     ]
    },
    {
     "name": "stderr",
     "output_type": "stream",
     "text": [
      "/home/runner/work/corr-app/corr-app/_notebooks/scripts/read_data.py:215: SettingWithCopyWarning:\n",
      "\n",
      "\n",
      "A value is trying to be set on a copy of a slice from a DataFrame.\n",
      "Try using .loc[row_indexer,col_indexer] = value instead\n",
      "\n",
      "See the caveats in the documentation: https://pandas.pydata.org/pandas-docs/stable/user_guide/indexing.html#returning-a-view-versus-a-copy\n",
      "\n"
     ]
    }
   ],
   "source": [
    "#hide\n",
    "df_all = read_api()\n",
    "#df_all = df_all.drop(['SP500', 'XAU', 'ETH', 'BTC'], axis=1)\n",
    "\n"
   ]
  },
  {
   "cell_type": "code",
   "execution_count": 6,
   "id": "mature-alert",
   "metadata": {
    "execution": {
     "iopub.execute_input": "2022-10-12T03:35:42.775124Z",
     "iopub.status.busy": "2022-10-12T03:35:42.772927Z",
     "iopub.status.idle": "2022-10-12T03:35:42.816010Z",
     "shell.execute_reply": "2022-10-12T03:35:42.815306Z"
    },
    "papermill": {
     "duration": 0.067687,
     "end_time": "2022-10-12T03:35:42.816177",
     "exception": false,
     "start_time": "2022-10-12T03:35:42.748490",
     "status": "completed"
    },
    "tags": []
   },
   "outputs": [],
   "source": [
    "#hide_input\n",
    "sum_corr = df_all.corr().sum().sort_values(ascending=True).index.values\n",
    "#df_all[sum_corr].corr()"
   ]
  },
  {
   "cell_type": "markdown",
   "id": "complex-syndicate",
   "metadata": {
    "papermill": {
     "duration": 0.015157,
     "end_time": "2022-10-12T03:35:42.845948",
     "exception": false,
     "start_time": "2022-10-12T03:35:42.830791",
     "status": "completed"
    },
    "tags": []
   },
   "source": [
    "## Išplėstinė koreliacijų matrica. "
   ]
  },
  {
   "cell_type": "code",
   "execution_count": 7,
   "id": "atomic-omaha",
   "metadata": {
    "execution": {
     "iopub.execute_input": "2022-10-12T03:35:42.880150Z",
     "iopub.status.busy": "2022-10-12T03:35:42.879250Z",
     "iopub.status.idle": "2022-10-12T03:35:44.786741Z",
     "shell.execute_reply": "2022-10-12T03:35:44.785942Z"
    },
    "papermill": {
     "duration": 1.926771,
     "end_time": "2022-10-12T03:35:44.786876",
     "exception": false,
     "start_time": "2022-10-12T03:35:42.860105",
     "status": "completed"
    },
    "tags": []
   },
   "outputs": [
    {
     "data": {
      "image/png": "[encoded data removed]",
      "text/plain": [
       "<Figure size 1080x792 with 2 Axes>"
      ]
     },
     "metadata": {
      "needs_background": "light"
     },
     "output_type": "display_data"
    }
   ],
   "source": [
    "#hide_input\n",
    "plt.figure(figsize=(15, 11))\n",
    "sns.heatmap(df_all[sum_corr].corr(), annot=True, cmap=\"cubehelix\") \n",
    "sns.set(font_scale=1.25)\n",
    "plt.savefig('corr_matrix.png', format='eps')"
   ]
  },
  {
   "cell_type": "code",
   "execution_count": 8,
   "id": "arbitrary-sullivan",
   "metadata": {
    "execution": {
     "iopub.execute_input": "2022-10-12T03:35:44.824059Z",
     "iopub.status.busy": "2022-10-12T03:35:44.823208Z",
     "iopub.status.idle": "2022-10-12T03:35:44.854870Z",
     "shell.execute_reply": "2022-10-12T03:35:44.854177Z"
    },
    "papermill": {
     "duration": 0.051566,
     "end_time": "2022-10-12T03:35:44.855037",
     "exception": false,
     "start_time": "2022-10-12T03:35:44.803471",
     "status": "completed"
    },
    "tags": []
   },
   "outputs": [],
   "source": [
    "#hide\n",
    "#df_all_mrk = read_api()"
   ]
  },
  {
   "cell_type": "code",
   "execution_count": 9,
   "id": "delayed-adapter",
   "metadata": {
    "execution": {
     "iopub.execute_input": "2022-10-12T03:35:44.895241Z",
     "iopub.status.busy": "2022-10-12T03:35:44.894597Z",
     "iopub.status.idle": "2022-10-12T03:35:44.927904Z",
     "shell.execute_reply": "2022-10-12T03:35:44.927120Z"
    },
    "papermill": {
     "duration": 0.055954,
     "end_time": "2022-10-12T03:35:44.928032",
     "exception": false,
     "start_time": "2022-10-12T03:35:44.872078",
     "status": "completed"
    },
    "tags": []
   },
   "outputs": [],
   "source": [
    "#hide\n",
    "#Koreliacijų koeficientai"
   ]
  },
  {
   "cell_type": "code",
   "execution_count": 10,
   "id": "seeing-celebration",
   "metadata": {
    "execution": {
     "iopub.execute_input": "2022-10-12T03:35:44.976396Z",
     "iopub.status.busy": "2022-10-12T03:35:44.970476Z",
     "iopub.status.idle": "2022-10-12T03:35:45.000743Z",
     "shell.execute_reply": "2022-10-12T03:35:45.000123Z"
    },
    "papermill": {
     "duration": 0.057505,
     "end_time": "2022-10-12T03:35:45.000895",
     "exception": false,
     "start_time": "2022-10-12T03:35:44.943390",
     "status": "completed"
    },
    "tags": []
   },
   "outputs": [],
   "source": [
    "#hide_input\n",
    "#sum_corr = df_all_mrk.corr().sum().sort_values(ascending=True).index.values\n",
    "#df_all_mrk[sum_corr].corr()"
   ]
  },
  {
   "cell_type": "code",
   "execution_count": 11,
   "id": "other-painting",
   "metadata": {
    "execution": {
     "iopub.execute_input": "2022-10-12T03:35:45.040059Z",
     "iopub.status.busy": "2022-10-12T03:35:45.039290Z",
     "iopub.status.idle": "2022-10-12T03:35:45.074062Z",
     "shell.execute_reply": "2022-10-12T03:35:45.073340Z"
    },
    "papermill": {
     "duration": 0.056027,
     "end_time": "2022-10-12T03:35:45.074203",
     "exception": false,
     "start_time": "2022-10-12T03:35:45.018176",
     "status": "completed"
    },
    "tags": []
   },
   "outputs": [],
   "source": [
    "#hide\n",
    "#Koreliacijos matrica. "
   ]
  },
  {
   "cell_type": "code",
   "execution_count": 12,
   "id": "modular-magnitude",
   "metadata": {
    "execution": {
     "iopub.execute_input": "2022-10-12T03:35:45.128214Z",
     "iopub.status.busy": "2022-10-12T03:35:45.127426Z",
     "iopub.status.idle": "2022-10-12T03:35:45.158315Z",
     "shell.execute_reply": "2022-10-12T03:35:45.157152Z"
    },
    "papermill": {
     "duration": 0.06218,
     "end_time": "2022-10-12T03:35:45.158471",
     "exception": false,
     "start_time": "2022-10-12T03:35:45.096291",
     "status": "completed"
    },
    "tags": []
   },
   "outputs": [],
   "source": [
    "#hide_input\n",
    "#plt.figure(figsize=(15, 8))\n",
    "#sns.heatmap(df_all_mrk[sum_corr].corr(), annot=True, cmap=\"BrBG\");\n",
    "#plt.savefig('corr_matrix_all.eps', format='eps')"
   ]
  },
  {
   "cell_type": "code",
   "execution_count": null,
   "id": "original-senator",
   "metadata": {
    "papermill": {
     "duration": 0.01705,
     "end_time": "2022-10-12T03:35:45.193065",
     "exception": false,
     "start_time": "2022-10-12T03:35:45.176015",
     "status": "completed"
    },
    "tags": []
   },
   "outputs": [],
   "source": []
  },
  {
   "cell_type": "code",
   "execution_count": null,
   "id": "saving-secretariat",
   "metadata": {
    "papermill": {
     "duration": 0.016296,
     "end_time": "2022-10-12T03:35:45.227134",
     "exception": false,
     "start_time": "2022-10-12T03:35:45.210838",
     "status": "completed"
    },
    "tags": []
   },
   "outputs": [],
   "source": []
  }
 ],
 "metadata": {
  "kernelspec": {
   "display_name": "Python 3",
   "language": "python",
   "name": "python3"
  },
  "language_info": {
   "codemirror_mode": {
    "name": "ipython",
    "version": 3
   },
   "file_extension": ".py",
   "mimetype": "text/x-python",
   "name": "python",
   "nbconvert_exporter": "python",
   "pygments_lexer": "ipython3",
   "version": "3.6.15"
  },
  "papermill": {
   "default_parameters": {},
   "duration": 19.260626,
   "end_time": "2022-10-12T03:35:45.867900",
   "environment_variables": {},
   "exception": null,
   "input_path": "App-Correlation_charts.ipynb",
   "output_path": "App-Correlation_charts.ipynb",
   "parameters": {},
   "start_time": "2022-10-12T03:35:26.607274",
   "version": "2.2.2"
  }
 },
 "nbformat": 4,
 "nbformat_minor": 5
}