{
 "cells": [
  {
   "cell_type": "markdown",
   "id": "touched-facility",
   "metadata": {
    "papermill": {
     "duration": 0.023679,
     "end_time": "2021-08-31T01:55:18.787351",
     "exception": false,
     "start_time": "2021-08-31T01:55:18.763672",
     "status": "completed"
    },
    "tags": []
   },
   "source": [
    "# Koreliacijų matrica\n",
    "> Išplėstinė koreliacijų matrica. \n",
    "\n",
    "- toc: true \n",
    "- badges: true\n",
    "- comments: false\n",
    "- categories: [Dominykas Tautkus]\n",
    "- image: images/matrix.png"
   ]
  },
  {
   "cell_type": "code",
   "execution_count": null,
   "id": "premium-weekend",
   "metadata": {
    "papermill": {
     "duration": 0.01162,
     "end_time": "2021-08-31T01:55:18.811172",
     "exception": false,
     "start_time": "2021-08-31T01:55:18.799552",
     "status": "completed"
    },
    "tags": []
   },
   "outputs": [],
   "source": []
  },
  {
   "cell_type": "code",
   "execution_count": 1,
   "id": "vertical-rebate",
   "metadata": {
    "execution": {
     "iopub.execute_input": "2021-08-31T01:55:18.848542Z",
     "iopub.status.busy": "2021-08-31T01:55:18.845295Z",
     "iopub.status.idle": "2021-08-31T01:55:18.859284Z",
     "shell.execute_reply": "2021-08-31T01:55:18.858853Z"
    },
    "papermill": {
     "duration": 0.035082,
     "end_time": "2021-08-31T01:55:18.859421",
     "exception": false,
     "start_time": "2021-08-31T01:55:18.824339",
     "status": "completed"
    },
    "tags": []
   },
   "outputs": [],
   "source": [
    "#hide\n",
    "%load_ext autoreload\n",
    "%autoreload 2"
   ]
  },
  {
   "cell_type": "code",
   "execution_count": 2,
   "id": "overall-advancement",
   "metadata": {
    "execution": {
     "iopub.execute_input": "2021-08-31T01:55:18.889155Z",
     "iopub.status.busy": "2021-08-31T01:55:18.888293Z",
     "iopub.status.idle": "2021-08-31T01:55:20.437320Z",
     "shell.execute_reply": "2021-08-31T01:55:20.436758Z"
    },
    "papermill": {
     "duration": 1.566076,
     "end_time": "2021-08-31T01:55:20.437454",
     "exception": false,
     "start_time": "2021-08-31T01:55:18.871378",
     "status": "completed"
    },
    "tags": []
   },
   "outputs": [],
   "source": [
    "#hide\n",
    "from scripts.read_data import read_api\n",
    "from IPython.display import HTML\n",
    "import plotly.graph_objects as go\n"
   ]
  },
  {
   "cell_type": "code",
   "execution_count": 3,
   "id": "light-crazy",
   "metadata": {
    "execution": {
     "iopub.execute_input": "2021-08-31T01:55:20.467992Z",
     "iopub.status.busy": "2021-08-31T01:55:20.467382Z",
     "iopub.status.idle": "2021-08-31T01:55:20.492319Z",
     "shell.execute_reply": "2021-08-31T01:55:20.491611Z"
    },
    "papermill": {
     "duration": 0.042807,
     "end_time": "2021-08-31T01:55:20.492486",
     "exception": false,
     "start_time": "2021-08-31T01:55:20.449679",
     "status": "completed"
    },
    "tags": []
   },
   "outputs": [],
   "source": [
    "#hide\n",
    "### ICO koreliacija"
   ]
  },
  {
   "cell_type": "code",
   "execution_count": 4,
   "id": "likely-bahrain",
   "metadata": {
    "execution": {
     "iopub.execute_input": "2021-08-31T01:55:20.519472Z",
     "iopub.status.busy": "2021-08-31T01:55:20.518898Z",
     "iopub.status.idle": "2021-08-31T01:55:21.471460Z",
     "shell.execute_reply": "2021-08-31T01:55:21.470372Z"
    },
    "papermill": {
     "duration": 0.966077,
     "end_time": "2021-08-31T01:55:21.471608",
     "exception": false,
     "start_time": "2021-08-31T01:55:20.505531",
     "status": "completed"
    },
    "tags": []
   },
   "outputs": [],
   "source": [
    "#hide\n",
    "import matplotlib.pyplot as plt\n",
    "import numpy as np\n",
    "import pandas as pd\n",
    "import seaborn as sns\n",
    "import matplotlib.pyplot as plt \n",
    "import matplotlib.dates as mdates\n",
    "import matplotlib.pyplot as plt"
   ]
  },
  {
   "cell_type": "code",
   "execution_count": 5,
   "id": "superior-blanket",
   "metadata": {
    "execution": {
     "iopub.execute_input": "2021-08-31T01:55:21.502110Z",
     "iopub.status.busy": "2021-08-31T01:55:21.501331Z",
     "iopub.status.idle": "2021-08-31T01:55:32.955772Z",
     "shell.execute_reply": "2021-08-31T01:55:32.954897Z"
    },
    "papermill": {
     "duration": 11.470572,
     "end_time": "2021-08-31T01:55:32.955991",
     "exception": false,
     "start_time": "2021-08-31T01:55:21.485419",
     "status": "completed"
    },
    "tags": []
   },
   "outputs": [
    {
     "name": "stderr",
     "output_type": "stream",
     "text": [
      "/home/runner/work/corr-app/corr-app/_notebooks/scripts/read_data.py:187: SettingWithCopyWarning:\n",
      "\n",
      "\n",
      "A value is trying to be set on a copy of a slice from a DataFrame.\n",
      "Try using .loc[row_indexer,col_indexer] = value instead\n",
      "\n",
      "See the caveats in the documentation: https://pandas.pydata.org/pandas-docs/stable/user_guide/indexing.html#returning-a-view-versus-a-copy\n",
      "\n"
     ]
    },
    {
     "name": "stderr",
     "output_type": "stream",
     "text": [
      "/home/runner/work/corr-app/corr-app/_notebooks/scripts/read_data.py:215: SettingWithCopyWarning:\n",
      "\n",
      "\n",
      "A value is trying to be set on a copy of a slice from a DataFrame.\n",
      "Try using .loc[row_indexer,col_indexer] = value instead\n",
      "\n",
      "See the caveats in the documentation: https://pandas.pydata.org/pandas-docs/stable/user_guide/indexing.html#returning-a-view-versus-a-copy\n",
      "\n"
     ]
    }
   ],
   "source": [
    "#hide\n",
    "df_all = read_api()\n",
    "#df_all = df_all.drop(['SP500', 'XAU', 'ETH', 'BTC'], axis=1)\n",
    "\n"
   ]
  },
  {
   "cell_type": "code",
   "execution_count": 6,
   "id": "mature-alert",
   "metadata": {
    "execution": {
     "iopub.execute_input": "2021-08-31T01:55:32.989416Z",
     "iopub.status.busy": "2021-08-31T01:55:32.987951Z",
     "iopub.status.idle": "2021-08-31T01:55:33.018736Z",
     "shell.execute_reply": "2021-08-31T01:55:33.019225Z"
    },
    "papermill": {
     "duration": 0.049281,
     "end_time": "2021-08-31T01:55:33.019384",
     "exception": false,
     "start_time": "2021-08-31T01:55:32.970103",
     "status": "completed"
    },
    "tags": []
   },
   "outputs": [],
   "source": [
    "#hide_input\n",
    "sum_corr = df_all.corr().sum().sort_values(ascending=True).index.values\n",
    "#df_all[sum_corr].corr()"
   ]
  },
  {
   "cell_type": "markdown",
   "id": "complex-syndicate",
   "metadata": {
    "papermill": {
     "duration": 0.012582,
     "end_time": "2021-08-31T01:55:33.045859",
     "exception": false,
     "start_time": "2021-08-31T01:55:33.033277",
     "status": "completed"
    },
    "tags": []
   },
   "source": [
    "## Išplėstinė koreliacijų matrica. "
   ]
  },
  {
   "cell_type": "code",
   "execution_count": 7,
   "id": "atomic-omaha",
   "metadata": {
    "execution": {
     "iopub.execute_input": "2021-08-31T01:55:33.082830Z",
     "iopub.status.busy": "2021-08-31T01:55:33.082204Z",
     "iopub.status.idle": "2021-08-31T01:55:34.410949Z",
     "shell.execute_reply": "2021-08-31T01:55:34.411465Z"
    },
    "papermill": {
     "duration": 1.35332,
     "end_time": "2021-08-31T01:55:34.411624",
     "exception": false,
     "start_time": "2021-08-31T01:55:33.058304",
     "status": "completed"
    },
    "tags": []
   },
   "outputs": [
    {
     "data": {
      "image/png": "[encoded data removed]",
      "text/plain": [
       "<Figure size 1080x792 with 2 Axes>"
      ]
     },
     "metadata": {
      "needs_background": "light"
     },
     "output_type": "display_data"
    }
   ],
   "source": [
    "#hide_input\n",
    "plt.figure(figsize=(15, 11))\n",
    "sns.heatmap(df_all[sum_corr].corr(), annot=True, cmap=\"cubehelix\") \n",
    "sns.set(font_scale=1.25)\n",
    "plt.savefig('corr_matrix.png', format='eps')"
   ]
  },
  {
   "cell_type": "code",
   "execution_count": 8,
   "id": "arbitrary-sullivan",
   "metadata": {
    "execution": {
     "iopub.execute_input": "2021-08-31T01:55:34.446082Z",
     "iopub.status.busy": "2021-08-31T01:55:34.445461Z",
     "iopub.status.idle": "2021-08-31T01:55:34.474984Z",
     "shell.execute_reply": "2021-08-31T01:55:34.474323Z"
    },
    "papermill": {
     "duration": 0.047978,
     "end_time": "2021-08-31T01:55:34.475153",
     "exception": false,
     "start_time": "2021-08-31T01:55:34.427175",
     "status": "completed"
    },
    "tags": []
   },
   "outputs": [],
   "source": [
    "#hide\n",
    "#df_all_mrk = read_api()"
   ]
  },
  {
   "cell_type": "code",
   "execution_count": 9,
   "id": "delayed-adapter",
   "metadata": {
    "execution": {
     "iopub.execute_input": "2021-08-31T01:55:34.512739Z",
     "iopub.status.busy": "2021-08-31T01:55:34.512156Z",
     "iopub.status.idle": "2021-08-31T01:55:34.541538Z",
     "shell.execute_reply": "2021-08-31T01:55:34.540759Z"
    },
    "papermill": {
     "duration": 0.049496,
     "end_time": "2021-08-31T01:55:34.541671",
     "exception": false,
     "start_time": "2021-08-31T01:55:34.492175",
     "status": "completed"
    },
    "tags": []
   },
   "outputs": [],
   "source": [
    "#hide\n",
    "#Koreliacijų koeficientai"
   ]
  },
  {
   "cell_type": "code",
   "execution_count": 10,
   "id": "seeing-celebration",
   "metadata": {
    "execution": {
     "iopub.execute_input": "2021-08-31T01:55:34.586018Z",
     "iopub.status.busy": "2021-08-31T01:55:34.578050Z",
     "iopub.status.idle": "2021-08-31T01:55:34.605526Z",
     "shell.execute_reply": "2021-08-31T01:55:34.605971Z"
    },
    "papermill": {
     "duration": 0.049097,
     "end_time": "2021-08-31T01:55:34.606110",
     "exception": false,
     "start_time": "2021-08-31T01:55:34.557013",
     "status": "completed"
    },
    "tags": []
   },
   "outputs": [],
   "source": [
    "#hide_input\n",
    "#sum_corr = df_all_mrk.corr().sum().sort_values(ascending=True).index.values\n",
    "#df_all_mrk[sum_corr].corr()"
   ]
  },
  {
   "cell_type": "code",
   "execution_count": 11,
   "id": "other-painting",
   "metadata": {
    "execution": {
     "iopub.execute_input": "2021-08-31T01:55:34.653586Z",
     "iopub.status.busy": "2021-08-31T01:55:34.643011Z",
     "iopub.status.idle": "2021-08-31T01:55:34.669705Z",
     "shell.execute_reply": "2021-08-31T01:55:34.668992Z"
    },
    "papermill": {
     "duration": 0.048597,
     "end_time": "2021-08-31T01:55:34.669840",
     "exception": false,
     "start_time": "2021-08-31T01:55:34.621243",
     "status": "completed"
    },
    "tags": []
   },
   "outputs": [],
   "source": [
    "#hide\n",
    "#Koreliacijos matrica. "
   ]
  },
  {
   "cell_type": "code",
   "execution_count": 12,
   "id": "modular-magnitude",
   "metadata": {
    "execution": {
     "iopub.execute_input": "2021-08-31T01:55:34.705028Z",
     "iopub.status.busy": "2021-08-31T01:55:34.704420Z",
     "iopub.status.idle": "2021-08-31T01:55:34.732327Z",
     "shell.execute_reply": "2021-08-31T01:55:34.731620Z"
    },
    "papermill": {
     "duration": 0.047355,
     "end_time": "2021-08-31T01:55:34.732494",
     "exception": false,
     "start_time": "2021-08-31T01:55:34.685139",
     "status": "completed"
    },
    "tags": []
   },
   "outputs": [],
   "source": [
    "#hide_input\n",
    "#plt.figure(figsize=(15, 8))\n",
    "#sns.heatmap(df_all_mrk[sum_corr].corr(), annot=True, cmap=\"BrBG\");\n",
    "#plt.savefig('corr_matrix_all.eps', format='eps')"
   ]
  },
  {
   "cell_type": "code",
   "execution_count": null,
   "id": "original-senator",
   "metadata": {
    "papermill": {
     "duration": 0.015543,
     "end_time": "2021-08-31T01:55:34.763438",
     "exception": false,
     "start_time": "2021-08-31T01:55:34.747895",
     "status": "completed"
    },
    "tags": []
   },
   "outputs": [],
   "source": []
  },
  {
   "cell_type": "code",
   "execution_count": null,
   "id": "saving-secretariat",
   "metadata": {
    "papermill": {
     "duration": 0.014607,
     "end_time": "2021-08-31T01:55:34.792626",
     "exception": false,
     "start_time": "2021-08-31T01:55:34.778019",
     "status": "completed"
    },
    "tags": []
   },
   "outputs": [],
   "source": []
  }
 ],
 "metadata": {
  "kernelspec": {
   "display_name": "Python 3",
   "language": "python",
   "name": "python3"
  },
  "language_info": {
   "codemirror_mode": {
    "name": "ipython",
    "version": 3
   },
   "file_extension": ".py",
   "mimetype": "text/x-python",
   "name": "python",
   "nbconvert_exporter": "python",
   "pygments_lexer": "ipython3",
   "version": "3.6.14"
  },
  "papermill": {
   "default_parameters": {},
   "duration": 17.594163,
   "end_time": "2021-08-31T01:55:35.316247",
   "environment_variables": {},
   "exception": null,
   "input_path": "App-Correlation_charts.ipynb",
   "output_path": "App-Correlation_charts.ipynb",
   "parameters": {},
   "start_time": "2021-08-31T01:55:17.722084",
   "version": "2.2.2"
  }
 },
 "nbformat": 4,
 "nbformat_minor": 5
}