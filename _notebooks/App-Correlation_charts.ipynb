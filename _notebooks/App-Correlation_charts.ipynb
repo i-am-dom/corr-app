{
 "cells": [
  {
   "cell_type": "markdown",
   "id": "touched-facility",
   "metadata": {
    "papermill": {
     "duration": 0.014566,
     "end_time": "2022-04-25T02:53:55.313503",
     "exception": false,
     "start_time": "2022-04-25T02:53:55.298937",
     "status": "completed"
    },
    "tags": []
   },
   "source": [
    "# Koreliacijų matrica\n",
    "> Išplėstinė koreliacijų matrica. \n",
    "\n",
    "- toc: true \n",
    "- badges: true\n",
    "- comments: false\n",
    "- categories: [Dominykas Tautkus]\n",
    "- image: images/matrix.png"
   ]
  },
  {
   "cell_type": "code",
   "execution_count": null,
   "id": "premium-weekend",
   "metadata": {
    "papermill": {
     "duration": 0.010701,
     "end_time": "2022-04-25T02:53:55.335732",
     "exception": false,
     "start_time": "2022-04-25T02:53:55.325031",
     "status": "completed"
    },
    "tags": []
   },
   "outputs": [],
   "source": []
  },
  {
   "cell_type": "code",
   "execution_count": 1,
   "id": "vertical-rebate",
   "metadata": {
    "execution": {
     "iopub.execute_input": "2022-04-25T02:53:55.368081Z",
     "iopub.status.busy": "2022-04-25T02:53:55.367516Z",
     "iopub.status.idle": "2022-04-25T02:53:55.378315Z",
     "shell.execute_reply": "2022-04-25T02:53:55.377851Z"
    },
    "papermill": {
     "duration": 0.031986,
     "end_time": "2022-04-25T02:53:55.378450",
     "exception": false,
     "start_time": "2022-04-25T02:53:55.346464",
     "status": "completed"
    },
    "tags": []
   },
   "outputs": [],
   "source": [
    "#hide\n",
    "%load_ext autoreload\n",
    "%autoreload 2"
   ]
  },
  {
   "cell_type": "code",
   "execution_count": 2,
   "id": "overall-advancement",
   "metadata": {
    "execution": {
     "iopub.execute_input": "2022-04-25T02:53:55.404320Z",
     "iopub.status.busy": "2022-04-25T02:53:55.403785Z",
     "iopub.status.idle": "2022-04-25T02:53:56.660781Z",
     "shell.execute_reply": "2022-04-25T02:53:56.661303Z"
    },
    "papermill": {
     "duration": 1.27222,
     "end_time": "2022-04-25T02:53:56.661480",
     "exception": false,
     "start_time": "2022-04-25T02:53:55.389260",
     "status": "completed"
    },
    "tags": []
   },
   "outputs": [],
   "source": [
    "#hide\n",
    "from scripts.read_data import read_api\n",
    "from IPython.display import HTML\n",
    "import plotly.graph_objects as go\n"
   ]
  },
  {
   "cell_type": "code",
   "execution_count": 3,
   "id": "light-crazy",
   "metadata": {
    "execution": {
     "iopub.execute_input": "2022-04-25T02:53:56.698446Z",
     "iopub.status.busy": "2022-04-25T02:53:56.697543Z",
     "iopub.status.idle": "2022-04-25T02:53:56.714391Z",
     "shell.execute_reply": "2022-04-25T02:53:56.713960Z"
    },
    "papermill": {
     "duration": 0.041641,
     "end_time": "2022-04-25T02:53:56.714511",
     "exception": false,
     "start_time": "2022-04-25T02:53:56.672870",
     "status": "completed"
    },
    "tags": []
   },
   "outputs": [],
   "source": [
    "#hide\n",
    "### ICO koreliacija"
   ]
  },
  {
   "cell_type": "code",
   "execution_count": 4,
   "id": "likely-bahrain",
   "metadata": {
    "execution": {
     "iopub.execute_input": "2022-04-25T02:53:56.750344Z",
     "iopub.status.busy": "2022-04-25T02:53:56.744166Z",
     "iopub.status.idle": "2022-04-25T02:53:57.620934Z",
     "shell.execute_reply": "2022-04-25T02:53:57.621449Z"
    },
    "papermill": {
     "duration": 0.896306,
     "end_time": "2022-04-25T02:53:57.621623",
     "exception": false,
     "start_time": "2022-04-25T02:53:56.725317",
     "status": "completed"
    },
    "tags": []
   },
   "outputs": [],
   "source": [
    "#hide\n",
    "import matplotlib.pyplot as plt\n",
    "import numpy as np\n",
    "import pandas as pd\n",
    "import seaborn as sns\n",
    "import matplotlib.pyplot as plt \n",
    "import matplotlib.dates as mdates\n",
    "import matplotlib.pyplot as plt"
   ]
  },
  {
   "cell_type": "code",
   "execution_count": 5,
   "id": "superior-blanket",
   "metadata": {
    "execution": {
     "iopub.execute_input": "2022-04-25T02:53:57.650065Z",
     "iopub.status.busy": "2022-04-25T02:53:57.649527Z",
     "iopub.status.idle": "2022-04-25T02:54:07.114588Z",
     "shell.execute_reply": "2022-04-25T02:54:07.114070Z"
    },
    "papermill": {
     "duration": 9.48122,
     "end_time": "2022-04-25T02:54:07.114716",
     "exception": false,
     "start_time": "2022-04-25T02:53:57.633496",
     "status": "completed"
    },
    "tags": []
   },
   "outputs": [
    {
     "name": "stderr",
     "output_type": "stream",
     "text": [
      "/home/runner/work/corr-app/corr-app/_notebooks/scripts/read_data.py:187: SettingWithCopyWarning:\n",
      "\n",
      "\n",
      "A value is trying to be set on a copy of a slice from a DataFrame.\n",
      "Try using .loc[row_indexer,col_indexer] = value instead\n",
      "\n",
      "See the caveats in the documentation: https://pandas.pydata.org/pandas-docs/stable/user_guide/indexing.html#returning-a-view-versus-a-copy\n",
      "\n"
     ]
    },
    {
     "name": "stderr",
     "output_type": "stream",
     "text": [
      "/home/runner/work/corr-app/corr-app/_notebooks/scripts/read_data.py:215: SettingWithCopyWarning:\n",
      "\n",
      "\n",
      "A value is trying to be set on a copy of a slice from a DataFrame.\n",
      "Try using .loc[row_indexer,col_indexer] = value instead\n",
      "\n",
      "See the caveats in the documentation: https://pandas.pydata.org/pandas-docs/stable/user_guide/indexing.html#returning-a-view-versus-a-copy\n",
      "\n"
     ]
    }
   ],
   "source": [
    "#hide\n",
    "df_all = read_api()\n",
    "#df_all = df_all.drop(['SP500', 'XAU', 'ETH', 'BTC'], axis=1)\n",
    "\n"
   ]
  },
  {
   "cell_type": "code",
   "execution_count": 6,
   "id": "mature-alert",
   "metadata": {
    "execution": {
     "iopub.execute_input": "2022-04-25T02:54:07.142781Z",
     "iopub.status.busy": "2022-04-25T02:54:07.142237Z",
     "iopub.status.idle": "2022-04-25T02:54:07.172703Z",
     "shell.execute_reply": "2022-04-25T02:54:07.172195Z"
    },
    "papermill": {
     "duration": 0.046286,
     "end_time": "2022-04-25T02:54:07.172841",
     "exception": false,
     "start_time": "2022-04-25T02:54:07.126555",
     "status": "completed"
    },
    "tags": []
   },
   "outputs": [],
   "source": [
    "#hide_input\n",
    "sum_corr = df_all.corr().sum().sort_values(ascending=True).index.values\n",
    "#df_all[sum_corr].corr()"
   ]
  },
  {
   "cell_type": "markdown",
   "id": "complex-syndicate",
   "metadata": {
    "papermill": {
     "duration": 0.011226,
     "end_time": "2022-04-25T02:54:07.195448",
     "exception": false,
     "start_time": "2022-04-25T02:54:07.184222",
     "status": "completed"
    },
    "tags": []
   },
   "source": [
    "## Išplėstinė koreliacijų matrica. "
   ]
  },
  {
   "cell_type": "code",
   "execution_count": 7,
   "id": "atomic-omaha",
   "metadata": {
    "execution": {
     "iopub.execute_input": "2022-04-25T02:54:07.224024Z",
     "iopub.status.busy": "2022-04-25T02:54:07.223504Z",
     "iopub.status.idle": "2022-04-25T02:54:08.416805Z",
     "shell.execute_reply": "2022-04-25T02:54:08.417247Z"
    },
    "papermill": {
     "duration": 1.210739,
     "end_time": "2022-04-25T02:54:08.417392",
     "exception": false,
     "start_time": "2022-04-25T02:54:07.206653",
     "status": "completed"
    },
    "tags": []
   },
   "outputs": [
    {
     "data": {
      "image/png": "[encoded data removed]",
      "text/plain": [
       "<Figure size 1080x792 with 2 Axes>"
      ]
     },
     "metadata": {
      "needs_background": "light"
     },
     "output_type": "display_data"
    }
   ],
   "source": [
    "#hide_input\n",
    "plt.figure(figsize=(15, 11))\n",
    "sns.heatmap(df_all[sum_corr].corr(), annot=True, cmap=\"cubehelix\") \n",
    "sns.set(font_scale=1.25)\n",
    "plt.savefig('corr_matrix.png', format='eps')"
   ]
  },
  {
   "cell_type": "code",
   "execution_count": 8,
   "id": "arbitrary-sullivan",
   "metadata": {
    "execution": {
     "iopub.execute_input": "2022-04-25T02:54:08.454245Z",
     "iopub.status.busy": "2022-04-25T02:54:08.453710Z",
     "iopub.status.idle": "2022-04-25T02:54:08.478142Z",
     "shell.execute_reply": "2022-04-25T02:54:08.477197Z"
    },
    "papermill": {
     "duration": 0.046111,
     "end_time": "2022-04-25T02:54:08.478282",
     "exception": false,
     "start_time": "2022-04-25T02:54:08.432171",
     "status": "completed"
    },
    "tags": []
   },
   "outputs": [],
   "source": [
    "#hide\n",
    "#df_all_mrk = read_api()"
   ]
  },
  {
   "cell_type": "code",
   "execution_count": 9,
   "id": "delayed-adapter",
   "metadata": {
    "execution": {
     "iopub.execute_input": "2022-04-25T02:54:08.545936Z",
     "iopub.status.busy": "2022-04-25T02:54:08.545396Z",
     "iopub.status.idle": "2022-04-25T02:54:08.568172Z",
     "shell.execute_reply": "2022-04-25T02:54:08.567731Z"
    },
    "papermill": {
     "duration": 0.073009,
     "end_time": "2022-04-25T02:54:08.568293",
     "exception": false,
     "start_time": "2022-04-25T02:54:08.495284",
     "status": "completed"
    },
    "tags": []
   },
   "outputs": [],
   "source": [
    "#hide\n",
    "#Koreliacijų koeficientai"
   ]
  },
  {
   "cell_type": "code",
   "execution_count": 10,
   "id": "seeing-celebration",
   "metadata": {
    "execution": {
     "iopub.execute_input": "2022-04-25T02:54:08.642464Z",
     "iopub.status.busy": "2022-04-25T02:54:08.641773Z",
     "iopub.status.idle": "2022-04-25T02:54:08.667603Z",
     "shell.execute_reply": "2022-04-25T02:54:08.667153Z"
    },
    "papermill": {
     "duration": 0.072103,
     "end_time": "2022-04-25T02:54:08.667727",
     "exception": false,
     "start_time": "2022-04-25T02:54:08.595624",
     "status": "completed"
    },
    "tags": []
   },
   "outputs": [],
   "source": [
    "#hide_input\n",
    "#sum_corr = df_all_mrk.corr().sum().sort_values(ascending=True).index.values\n",
    "#df_all_mrk[sum_corr].corr()"
   ]
  },
  {
   "cell_type": "code",
   "execution_count": 11,
   "id": "other-painting",
   "metadata": {
    "execution": {
     "iopub.execute_input": "2022-04-25T02:54:08.744604Z",
     "iopub.status.busy": "2022-04-25T02:54:08.744006Z",
     "iopub.status.idle": "2022-04-25T02:54:08.770976Z",
     "shell.execute_reply": "2022-04-25T02:54:08.770456Z"
    },
    "papermill": {
     "duration": 0.069976,
     "end_time": "2022-04-25T02:54:08.771105",
     "exception": false,
     "start_time": "2022-04-25T02:54:08.701129",
     "status": "completed"
    },
    "tags": []
   },
   "outputs": [],
   "source": [
    "#hide\n",
    "#Koreliacijos matrica. "
   ]
  },
  {
   "cell_type": "code",
   "execution_count": 12,
   "id": "modular-magnitude",
   "metadata": {
    "execution": {
     "iopub.execute_input": "2022-04-25T02:54:08.906841Z",
     "iopub.status.busy": "2022-04-25T02:54:08.906215Z",
     "iopub.status.idle": "2022-04-25T02:54:08.932978Z",
     "shell.execute_reply": "2022-04-25T02:54:08.932450Z"
    },
    "papermill": {
     "duration": 0.088943,
     "end_time": "2022-04-25T02:54:08.933120",
     "exception": false,
     "start_time": "2022-04-25T02:54:08.844177",
     "status": "completed"
    },
    "tags": []
   },
   "outputs": [],
   "source": [
    "#hide_input\n",
    "#plt.figure(figsize=(15, 8))\n",
    "#sns.heatmap(df_all_mrk[sum_corr].corr(), annot=True, cmap=\"BrBG\");\n",
    "#plt.savefig('corr_matrix_all.eps', format='eps')"
   ]
  },
  {
   "cell_type": "code",
   "execution_count": null,
   "id": "original-senator",
   "metadata": {
    "papermill": {
     "duration": 0.051646,
     "end_time": "2022-04-25T02:54:08.999751",
     "exception": false,
     "start_time": "2022-04-25T02:54:08.948105",
     "status": "completed"
    },
    "tags": []
   },
   "outputs": [],
   "source": []
  },
  {
   "cell_type": "code",
   "execution_count": null,
   "id": "saving-secretariat",
   "metadata": {
    "papermill": {
     "duration": 0.027126,
     "end_time": "2022-04-25T02:54:09.040649",
     "exception": false,
     "start_time": "2022-04-25T02:54:09.013523",
     "status": "completed"
    },
    "tags": []
   },
   "outputs": [],
   "source": []
  }
 ],
 "metadata": {
  "kernelspec": {
   "display_name": "Python 3",
   "language": "python",
   "name": "python3"
  },
  "language_info": {
   "codemirror_mode": {
    "name": "ipython",
    "version": 3
   },
   "file_extension": ".py",
   "mimetype": "text/x-python",
   "name": "python",
   "nbconvert_exporter": "python",
   "pygments_lexer": "ipython3",
   "version": "3.6.15"
  },
  "papermill": {
   "default_parameters": {},
   "duration": 15.31119,
   "end_time": "2022-04-25T02:54:09.673795",
   "environment_variables": {},
   "exception": null,
   "input_path": "App-Correlation_charts.ipynb",
   "output_path": "App-Correlation_charts.ipynb",
   "parameters": {},
   "start_time": "2022-04-25T02:53:54.362605",
   "version": "2.2.2"
  }
 },
 "nbformat": 4,
 "nbformat_minor": 5
}