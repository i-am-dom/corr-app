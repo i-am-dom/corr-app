{
 "cells": [
  {
   "cell_type": "markdown",
   "id": "touched-facility",
   "metadata": {
    "papermill": {
     "duration": 0.015079,
     "end_time": "2021-08-24T01:51:48.806131",
     "exception": false,
     "start_time": "2021-08-24T01:51:48.791052",
     "status": "completed"
    },
    "tags": []
   },
   "source": [
    "# Koreliacijų matrica\n",
    "> Išplėstinė koreliacijų matrica. \n",
    "\n",
    "- toc: true \n",
    "- badges: true\n",
    "- comments: false\n",
    "- categories: [Dominykas Tautkus]\n",
    "- image: images/matrix.png"
   ]
  },
  {
   "cell_type": "code",
   "execution_count": null,
   "id": "premium-weekend",
   "metadata": {
    "papermill": {
     "duration": 0.010631,
     "end_time": "2021-08-24T01:51:48.828214",
     "exception": false,
     "start_time": "2021-08-24T01:51:48.817583",
     "status": "completed"
    },
    "tags": []
   },
   "outputs": [],
   "source": []
  },
  {
   "cell_type": "code",
   "execution_count": 1,
   "id": "vertical-rebate",
   "metadata": {
    "execution": {
     "iopub.execute_input": "2021-08-24T01:51:48.860267Z",
     "iopub.status.busy": "2021-08-24T01:51:48.859703Z",
     "iopub.status.idle": "2021-08-24T01:51:48.870313Z",
     "shell.execute_reply": "2021-08-24T01:51:48.869895Z"
    },
    "papermill": {
     "duration": 0.031639,
     "end_time": "2021-08-24T01:51:48.870445",
     "exception": false,
     "start_time": "2021-08-24T01:51:48.838806",
     "status": "completed"
    },
    "tags": []
   },
   "outputs": [],
   "source": [
    "#hide\n",
    "%load_ext autoreload\n",
    "%autoreload 2"
   ]
  },
  {
   "cell_type": "code",
   "execution_count": 2,
   "id": "overall-advancement",
   "metadata": {
    "execution": {
     "iopub.execute_input": "2021-08-24T01:51:48.900679Z",
     "iopub.status.busy": "2021-08-24T01:51:48.900151Z",
     "iopub.status.idle": "2021-08-24T01:51:49.972181Z",
     "shell.execute_reply": "2021-08-24T01:51:49.971615Z"
    },
    "papermill": {
     "duration": 1.091259,
     "end_time": "2021-08-24T01:51:49.972329",
     "exception": false,
     "start_time": "2021-08-24T01:51:48.881070",
     "status": "completed"
    },
    "tags": []
   },
   "outputs": [],
   "source": [
    "#hide\n",
    "from scripts.read_data import read_api\n",
    "from IPython.display import HTML\n",
    "import plotly.graph_objects as go\n"
   ]
  },
  {
   "cell_type": "code",
   "execution_count": 3,
   "id": "light-crazy",
   "metadata": {
    "execution": {
     "iopub.execute_input": "2021-08-24T01:51:49.998380Z",
     "iopub.status.busy": "2021-08-24T01:51:49.997853Z",
     "iopub.status.idle": "2021-08-24T01:51:50.019887Z",
     "shell.execute_reply": "2021-08-24T01:51:50.019389Z"
    },
    "papermill": {
     "duration": 0.036212,
     "end_time": "2021-08-24T01:51:50.020009",
     "exception": false,
     "start_time": "2021-08-24T01:51:49.983797",
     "status": "completed"
    },
    "tags": []
   },
   "outputs": [],
   "source": [
    "#hide\n",
    "### ICO koreliacija"
   ]
  },
  {
   "cell_type": "code",
   "execution_count": 4,
   "id": "likely-bahrain",
   "metadata": {
    "execution": {
     "iopub.execute_input": "2021-08-24T01:51:50.047293Z",
     "iopub.status.busy": "2021-08-24T01:51:50.046302Z",
     "iopub.status.idle": "2021-08-24T01:51:50.842113Z",
     "shell.execute_reply": "2021-08-24T01:51:50.841603Z"
    },
    "papermill": {
     "duration": 0.810668,
     "end_time": "2021-08-24T01:51:50.842246",
     "exception": false,
     "start_time": "2021-08-24T01:51:50.031578",
     "status": "completed"
    },
    "tags": []
   },
   "outputs": [],
   "source": [
    "#hide\n",
    "import matplotlib.pyplot as plt\n",
    "import numpy as np\n",
    "import pandas as pd\n",
    "import seaborn as sns\n",
    "import matplotlib.pyplot as plt \n",
    "import matplotlib.dates as mdates\n",
    "import matplotlib.pyplot as plt"
   ]
  },
  {
   "cell_type": "code",
   "execution_count": 5,
   "id": "superior-blanket",
   "metadata": {
    "execution": {
     "iopub.execute_input": "2021-08-24T01:51:50.869848Z",
     "iopub.status.busy": "2021-08-24T01:51:50.869331Z",
     "iopub.status.idle": "2021-08-24T01:52:05.250745Z",
     "shell.execute_reply": "2021-08-24T01:52:05.250265Z"
    },
    "papermill": {
     "duration": 14.396912,
     "end_time": "2021-08-24T01:52:05.250866",
     "exception": false,
     "start_time": "2021-08-24T01:51:50.853954",
     "status": "completed"
    },
    "tags": []
   },
   "outputs": [
    {
     "name": "stderr",
     "output_type": "stream",
     "text": [
      "/home/runner/work/corr-app/corr-app/_notebooks/scripts/read_data.py:187: SettingWithCopyWarning:\n",
      "\n",
      "\n",
      "A value is trying to be set on a copy of a slice from a DataFrame.\n",
      "Try using .loc[row_indexer,col_indexer] = value instead\n",
      "\n",
      "See the caveats in the documentation: https://pandas.pydata.org/pandas-docs/stable/user_guide/indexing.html#returning-a-view-versus-a-copy\n",
      "\n"
     ]
    },
    {
     "name": "stderr",
     "output_type": "stream",
     "text": [
      "/home/runner/work/corr-app/corr-app/_notebooks/scripts/read_data.py:215: SettingWithCopyWarning:\n",
      "\n",
      "\n",
      "A value is trying to be set on a copy of a slice from a DataFrame.\n",
      "Try using .loc[row_indexer,col_indexer] = value instead\n",
      "\n",
      "See the caveats in the documentation: https://pandas.pydata.org/pandas-docs/stable/user_guide/indexing.html#returning-a-view-versus-a-copy\n",
      "\n"
     ]
    }
   ],
   "source": [
    "#hide\n",
    "df_all = read_api()\n",
    "#df_all = df_all.drop(['SP500', 'XAU', 'ETH', 'BTC'], axis=1)\n",
    "\n"
   ]
  },
  {
   "cell_type": "code",
   "execution_count": 6,
   "id": "mature-alert",
   "metadata": {
    "execution": {
     "iopub.execute_input": "2021-08-24T01:52:05.287198Z",
     "iopub.status.busy": "2021-08-24T01:52:05.286441Z",
     "iopub.status.idle": "2021-08-24T01:52:05.310072Z",
     "shell.execute_reply": "2021-08-24T01:52:05.311459Z"
    },
    "papermill": {
     "duration": 0.049148,
     "end_time": "2021-08-24T01:52:05.311618",
     "exception": false,
     "start_time": "2021-08-24T01:52:05.262470",
     "status": "completed"
    },
    "tags": []
   },
   "outputs": [],
   "source": [
    "#hide_input\n",
    "sum_corr = df_all.corr().sum().sort_values(ascending=True).index.values\n",
    "#df_all[sum_corr].corr()"
   ]
  },
  {
   "cell_type": "markdown",
   "id": "complex-syndicate",
   "metadata": {
    "papermill": {
     "duration": 0.010976,
     "end_time": "2021-08-24T01:52:05.335458",
     "exception": false,
     "start_time": "2021-08-24T01:52:05.324482",
     "status": "completed"
    },
    "tags": []
   },
   "source": [
    "## Išplėstinė koreliacijų matrica. "
   ]
  },
  {
   "cell_type": "code",
   "execution_count": 7,
   "id": "atomic-omaha",
   "metadata": {
    "execution": {
     "iopub.execute_input": "2021-08-24T01:52:05.369165Z",
     "iopub.status.busy": "2021-08-24T01:52:05.368581Z",
     "iopub.status.idle": "2021-08-24T01:52:06.531801Z",
     "shell.execute_reply": "2021-08-24T01:52:06.531371Z"
    },
    "papermill": {
     "duration": 1.185421,
     "end_time": "2021-08-24T01:52:06.531917",
     "exception": false,
     "start_time": "2021-08-24T01:52:05.346496",
     "status": "completed"
    },
    "tags": []
   },
   "outputs": [
    {
     "data": {
      "image/png": "[encoded data removed]",
      "text/plain": [
       "<Figure size 1080x792 with 2 Axes>"
      ]
     },
     "metadata": {
      "needs_background": "light"
     },
     "output_type": "display_data"
    }
   ],
   "source": [
    "#hide_input\n",
    "plt.figure(figsize=(15, 11))\n",
    "sns.heatmap(df_all[sum_corr].corr(), annot=True, cmap=\"cubehelix\") \n",
    "sns.set(font_scale=1.25)\n",
    "plt.savefig('corr_matrix.png', format='eps')"
   ]
  },
  {
   "cell_type": "code",
   "execution_count": 8,
   "id": "arbitrary-sullivan",
   "metadata": {
    "execution": {
     "iopub.execute_input": "2021-08-24T01:52:06.569369Z",
     "iopub.status.busy": "2021-08-24T01:52:06.568850Z",
     "iopub.status.idle": "2021-08-24T01:52:06.591656Z",
     "shell.execute_reply": "2021-08-24T01:52:06.591215Z"
    },
    "papermill": {
     "duration": 0.046411,
     "end_time": "2021-08-24T01:52:06.591768",
     "exception": false,
     "start_time": "2021-08-24T01:52:06.545357",
     "status": "completed"
    },
    "tags": []
   },
   "outputs": [],
   "source": [
    "#hide\n",
    "#df_all_mrk = read_api()"
   ]
  },
  {
   "cell_type": "code",
   "execution_count": 9,
   "id": "delayed-adapter",
   "metadata": {
    "execution": {
     "iopub.execute_input": "2021-08-24T01:52:06.632805Z",
     "iopub.status.busy": "2021-08-24T01:52:06.620237Z",
     "iopub.status.idle": "2021-08-24T01:52:06.649481Z",
     "shell.execute_reply": "2021-08-24T01:52:06.649084Z"
    },
    "papermill": {
     "duration": 0.04467,
     "end_time": "2021-08-24T01:52:06.649588",
     "exception": false,
     "start_time": "2021-08-24T01:52:06.604918",
     "status": "completed"
    },
    "tags": []
   },
   "outputs": [],
   "source": [
    "#hide\n",
    "#Koreliacijų koeficientai"
   ]
  },
  {
   "cell_type": "code",
   "execution_count": 10,
   "id": "seeing-celebration",
   "metadata": {
    "execution": {
     "iopub.execute_input": "2021-08-24T01:52:06.678500Z",
     "iopub.status.busy": "2021-08-24T01:52:06.678010Z",
     "iopub.status.idle": "2021-08-24T01:52:06.702101Z",
     "shell.execute_reply": "2021-08-24T01:52:06.702535Z"
    },
    "papermill": {
     "duration": 0.039951,
     "end_time": "2021-08-24T01:52:06.702676",
     "exception": false,
     "start_time": "2021-08-24T01:52:06.662725",
     "status": "completed"
    },
    "tags": []
   },
   "outputs": [],
   "source": [
    "#hide_input\n",
    "#sum_corr = df_all_mrk.corr().sum().sort_values(ascending=True).index.values\n",
    "#df_all_mrk[sum_corr].corr()"
   ]
  },
  {
   "cell_type": "code",
   "execution_count": 11,
   "id": "other-painting",
   "metadata": {
    "execution": {
     "iopub.execute_input": "2021-08-24T01:52:06.741721Z",
     "iopub.status.busy": "2021-08-24T01:52:06.741233Z",
     "iopub.status.idle": "2021-08-24T01:52:06.760176Z",
     "shell.execute_reply": "2021-08-24T01:52:06.759763Z"
    },
    "papermill": {
     "duration": 0.043462,
     "end_time": "2021-08-24T01:52:06.760282",
     "exception": false,
     "start_time": "2021-08-24T01:52:06.716820",
     "status": "completed"
    },
    "tags": []
   },
   "outputs": [],
   "source": [
    "#hide\n",
    "#Koreliacijos matrica. "
   ]
  },
  {
   "cell_type": "code",
   "execution_count": 12,
   "id": "modular-magnitude",
   "metadata": {
    "execution": {
     "iopub.execute_input": "2021-08-24T01:52:06.793678Z",
     "iopub.status.busy": "2021-08-24T01:52:06.793187Z",
     "iopub.status.idle": "2021-08-24T01:52:06.814582Z",
     "shell.execute_reply": "2021-08-24T01:52:06.814129Z"
    },
    "papermill": {
     "duration": 0.041297,
     "end_time": "2021-08-24T01:52:06.814698",
     "exception": false,
     "start_time": "2021-08-24T01:52:06.773401",
     "status": "completed"
    },
    "tags": []
   },
   "outputs": [],
   "source": [
    "#hide_input\n",
    "#plt.figure(figsize=(15, 8))\n",
    "#sns.heatmap(df_all_mrk[sum_corr].corr(), annot=True, cmap=\"BrBG\");\n",
    "#plt.savefig('corr_matrix_all.eps', format='eps')"
   ]
  },
  {
   "cell_type": "code",
   "execution_count": null,
   "id": "original-senator",
   "metadata": {
    "papermill": {
     "duration": 0.012908,
     "end_time": "2021-08-24T01:52:06.842622",
     "exception": false,
     "start_time": "2021-08-24T01:52:06.829714",
     "status": "completed"
    },
    "tags": []
   },
   "outputs": [],
   "source": []
  },
  {
   "cell_type": "code",
   "execution_count": null,
   "id": "saving-secretariat",
   "metadata": {
    "papermill": {
     "duration": 0.012974,
     "end_time": "2021-08-24T01:52:06.868595",
     "exception": false,
     "start_time": "2021-08-24T01:52:06.855621",
     "status": "completed"
    },
    "tags": []
   },
   "outputs": [],
   "source": []
  }
 ],
 "metadata": {
  "kernelspec": {
   "display_name": "Python 3",
   "language": "python",
   "name": "python3"
  },
  "language_info": {
   "codemirror_mode": {
    "name": "ipython",
    "version": 3
   },
   "file_extension": ".py",
   "mimetype": "text/x-python",
   "name": "python",
   "nbconvert_exporter": "python",
   "pygments_lexer": "ipython3",
   "version": "3.6.14"
  },
  "papermill": {
   "default_parameters": {},
   "duration": 19.630631,
   "end_time": "2021-08-24T01:52:07.389534",
   "environment_variables": {},
   "exception": null,
   "input_path": "App-Correlation_charts.ipynb",
   "output_path": "App-Correlation_charts.ipynb",
   "parameters": {},
   "start_time": "2021-08-24T01:51:47.758903",
   "version": "2.2.2"
  }
 },
 "nbformat": 4,
 "nbformat_minor": 5
}