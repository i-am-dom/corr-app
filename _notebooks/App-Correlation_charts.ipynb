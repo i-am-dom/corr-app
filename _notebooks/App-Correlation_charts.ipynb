{
 "cells": [
  {
   "cell_type": "markdown",
   "id": "touched-facility",
   "metadata": {
    "papermill": {
     "duration": 0.018258,
     "end_time": "2022-07-25T03:17:37.560396",
     "exception": false,
     "start_time": "2022-07-25T03:17:37.542138",
     "status": "completed"
    },
    "tags": []
   },
   "source": [
    "# Koreliacijų matrica\n",
    "> Išplėstinė koreliacijų matrica. \n",
    "\n",
    "- toc: true \n",
    "- badges: true\n",
    "- comments: false\n",
    "- categories: [Dominykas Tautkus]\n",
    "- image: images/matrix.png"
   ]
  },
  {
   "cell_type": "code",
   "execution_count": null,
   "id": "premium-weekend",
   "metadata": {
    "papermill": {
     "duration": 0.018326,
     "end_time": "2022-07-25T03:17:37.594655",
     "exception": false,
     "start_time": "2022-07-25T03:17:37.576329",
     "status": "completed"
    },
    "tags": []
   },
   "outputs": [],
   "source": []
  },
  {
   "cell_type": "code",
   "execution_count": 1,
   "id": "vertical-rebate",
   "metadata": {
    "execution": {
     "iopub.execute_input": "2022-07-25T03:17:37.635861Z",
     "iopub.status.busy": "2022-07-25T03:17:37.634886Z",
     "iopub.status.idle": "2022-07-25T03:17:37.650595Z",
     "shell.execute_reply": "2022-07-25T03:17:37.649912Z"
    },
    "papermill": {
     "duration": 0.042123,
     "end_time": "2022-07-25T03:17:37.650749",
     "exception": false,
     "start_time": "2022-07-25T03:17:37.608626",
     "status": "completed"
    },
    "tags": []
   },
   "outputs": [],
   "source": [
    "#hide\n",
    "%load_ext autoreload\n",
    "%autoreload 2"
   ]
  },
  {
   "cell_type": "code",
   "execution_count": 2,
   "id": "overall-advancement",
   "metadata": {
    "execution": {
     "iopub.execute_input": "2022-07-25T03:17:37.686344Z",
     "iopub.status.busy": "2022-07-25T03:17:37.685539Z",
     "iopub.status.idle": "2022-07-25T03:17:39.820206Z",
     "shell.execute_reply": "2022-07-25T03:17:39.820864Z"
    },
    "papermill": {
     "duration": 2.15556,
     "end_time": "2022-07-25T03:17:39.821070",
     "exception": false,
     "start_time": "2022-07-25T03:17:37.665510",
     "status": "completed"
    },
    "tags": []
   },
   "outputs": [],
   "source": [
    "#hide\n",
    "from scripts.read_data import read_api\n",
    "from IPython.display import HTML\n",
    "import plotly.graph_objects as go\n"
   ]
  },
  {
   "cell_type": "code",
   "execution_count": 3,
   "id": "light-crazy",
   "metadata": {
    "execution": {
     "iopub.execute_input": "2022-07-25T03:17:39.856908Z",
     "iopub.status.busy": "2022-07-25T03:17:39.856155Z",
     "iopub.status.idle": "2022-07-25T03:17:39.887817Z",
     "shell.execute_reply": "2022-07-25T03:17:39.888623Z"
    },
    "papermill": {
     "duration": 0.051493,
     "end_time": "2022-07-25T03:17:39.888808",
     "exception": false,
     "start_time": "2022-07-25T03:17:39.837315",
     "status": "completed"
    },
    "tags": []
   },
   "outputs": [],
   "source": [
    "#hide\n",
    "### ICO koreliacija"
   ]
  },
  {
   "cell_type": "code",
   "execution_count": 4,
   "id": "likely-bahrain",
   "metadata": {
    "execution": {
     "iopub.execute_input": "2022-07-25T03:17:39.923224Z",
     "iopub.status.busy": "2022-07-25T03:17:39.922395Z",
     "iopub.status.idle": "2022-07-25T03:17:40.992259Z",
     "shell.execute_reply": "2022-07-25T03:17:40.993157Z"
    },
    "papermill": {
     "duration": 1.090042,
     "end_time": "2022-07-25T03:17:40.993355",
     "exception": false,
     "start_time": "2022-07-25T03:17:39.903313",
     "status": "completed"
    },
    "tags": []
   },
   "outputs": [],
   "source": [
    "#hide\n",
    "import matplotlib.pyplot as plt\n",
    "import numpy as np\n",
    "import pandas as pd\n",
    "import seaborn as sns\n",
    "import matplotlib.pyplot as plt \n",
    "import matplotlib.dates as mdates\n",
    "import matplotlib.pyplot as plt"
   ]
  },
  {
   "cell_type": "code",
   "execution_count": 5,
   "id": "superior-blanket",
   "metadata": {
    "execution": {
     "iopub.execute_input": "2022-07-25T03:17:41.029160Z",
     "iopub.status.busy": "2022-07-25T03:17:41.028431Z",
     "iopub.status.idle": "2022-07-25T03:17:55.430303Z",
     "shell.execute_reply": "2022-07-25T03:17:55.430945Z"
    },
    "papermill": {
     "duration": 14.422236,
     "end_time": "2022-07-25T03:17:55.431120",
     "exception": false,
     "start_time": "2022-07-25T03:17:41.008884",
     "status": "completed"
    },
    "tags": []
   },
   "outputs": [
    {
     "name": "stderr",
     "output_type": "stream",
     "text": [
      "/home/runner/work/corr-app/corr-app/_notebooks/scripts/read_data.py:187: SettingWithCopyWarning:\n",
      "\n",
      "\n",
      "A value is trying to be set on a copy of a slice from a DataFrame.\n",
      "Try using .loc[row_indexer,col_indexer] = value instead\n",
      "\n",
      "See the caveats in the documentation: https://pandas.pydata.org/pandas-docs/stable/user_guide/indexing.html#returning-a-view-versus-a-copy\n",
      "\n"
     ]
    },
    {
     "name": "stderr",
     "output_type": "stream",
     "text": [
      "/home/runner/work/corr-app/corr-app/_notebooks/scripts/read_data.py:215: SettingWithCopyWarning:\n",
      "\n",
      "\n",
      "A value is trying to be set on a copy of a slice from a DataFrame.\n",
      "Try using .loc[row_indexer,col_indexer] = value instead\n",
      "\n",
      "See the caveats in the documentation: https://pandas.pydata.org/pandas-docs/stable/user_guide/indexing.html#returning-a-view-versus-a-copy\n",
      "\n"
     ]
    }
   ],
   "source": [
    "#hide\n",
    "df_all = read_api()\n",
    "#df_all = df_all.drop(['SP500', 'XAU', 'ETH', 'BTC'], axis=1)\n",
    "\n"
   ]
  },
  {
   "cell_type": "code",
   "execution_count": 6,
   "id": "mature-alert",
   "metadata": {
    "execution": {
     "iopub.execute_input": "2022-07-25T03:17:55.466332Z",
     "iopub.status.busy": "2022-07-25T03:17:55.465553Z",
     "iopub.status.idle": "2022-07-25T03:17:55.513379Z",
     "shell.execute_reply": "2022-07-25T03:17:55.512728Z"
    },
    "papermill": {
     "duration": 0.066578,
     "end_time": "2022-07-25T03:17:55.513567",
     "exception": false,
     "start_time": "2022-07-25T03:17:55.446989",
     "status": "completed"
    },
    "tags": []
   },
   "outputs": [],
   "source": [
    "#hide_input\n",
    "sum_corr = df_all.corr().sum().sort_values(ascending=True).index.values\n",
    "#df_all[sum_corr].corr()"
   ]
  },
  {
   "cell_type": "markdown",
   "id": "complex-syndicate",
   "metadata": {
    "papermill": {
     "duration": 0.018646,
     "end_time": "2022-07-25T03:17:55.548386",
     "exception": false,
     "start_time": "2022-07-25T03:17:55.529740",
     "status": "completed"
    },
    "tags": []
   },
   "source": [
    "## Išplėstinė koreliacijų matrica. "
   ]
  },
  {
   "cell_type": "code",
   "execution_count": 7,
   "id": "atomic-omaha",
   "metadata": {
    "execution": {
     "iopub.execute_input": "2022-07-25T03:17:55.583505Z",
     "iopub.status.busy": "2022-07-25T03:17:55.582683Z",
     "iopub.status.idle": "2022-07-25T03:17:57.334974Z",
     "shell.execute_reply": "2022-07-25T03:17:57.334364Z"
    },
    "papermill": {
     "duration": 1.772212,
     "end_time": "2022-07-25T03:17:57.335130",
     "exception": false,
     "start_time": "2022-07-25T03:17:55.562918",
     "status": "completed"
    },
    "tags": []
   },
   "outputs": [
    {
     "data": {
      "image/png": "[encoded data removed]",
      "text/plain": [
       "<Figure size 1080x792 with 2 Axes>"
      ]
     },
     "metadata": {
      "needs_background": "light"
     },
     "output_type": "display_data"
    }
   ],
   "source": [
    "#hide_input\n",
    "plt.figure(figsize=(15, 11))\n",
    "sns.heatmap(df_all[sum_corr].corr(), annot=True, cmap=\"cubehelix\") \n",
    "sns.set(font_scale=1.25)\n",
    "plt.savefig('corr_matrix.png', format='eps')"
   ]
  },
  {
   "cell_type": "code",
   "execution_count": 8,
   "id": "arbitrary-sullivan",
   "metadata": {
    "execution": {
     "iopub.execute_input": "2022-07-25T03:17:57.373059Z",
     "iopub.status.busy": "2022-07-25T03:17:57.372279Z",
     "iopub.status.idle": "2022-07-25T03:17:57.412737Z",
     "shell.execute_reply": "2022-07-25T03:17:57.413335Z"
    },
    "papermill": {
     "duration": 0.061472,
     "end_time": "2022-07-25T03:17:57.413524",
     "exception": false,
     "start_time": "2022-07-25T03:17:57.352052",
     "status": "completed"
    },
    "tags": []
   },
   "outputs": [],
   "source": [
    "#hide\n",
    "#df_all_mrk = read_api()"
   ]
  },
  {
   "cell_type": "code",
   "execution_count": 9,
   "id": "delayed-adapter",
   "metadata": {
    "execution": {
     "iopub.execute_input": "2022-07-25T03:17:57.451421Z",
     "iopub.status.busy": "2022-07-25T03:17:57.450697Z",
     "iopub.status.idle": "2022-07-25T03:17:57.485407Z",
     "shell.execute_reply": "2022-07-25T03:17:57.486111Z"
    },
    "papermill": {
     "duration": 0.055687,
     "end_time": "2022-07-25T03:17:57.486288",
     "exception": false,
     "start_time": "2022-07-25T03:17:57.430601",
     "status": "completed"
    },
    "tags": []
   },
   "outputs": [],
   "source": [
    "#hide\n",
    "#Koreliacijų koeficientai"
   ]
  },
  {
   "cell_type": "code",
   "execution_count": 10,
   "id": "seeing-celebration",
   "metadata": {
    "execution": {
     "iopub.execute_input": "2022-07-25T03:17:57.524404Z",
     "iopub.status.busy": "2022-07-25T03:17:57.523534Z",
     "iopub.status.idle": "2022-07-25T03:17:57.562172Z",
     "shell.execute_reply": "2022-07-25T03:17:57.561558Z"
    },
    "papermill": {
     "duration": 0.058754,
     "end_time": "2022-07-25T03:17:57.562341",
     "exception": false,
     "start_time": "2022-07-25T03:17:57.503587",
     "status": "completed"
    },
    "tags": []
   },
   "outputs": [],
   "source": [
    "#hide_input\n",
    "#sum_corr = df_all_mrk.corr().sum().sort_values(ascending=True).index.values\n",
    "#df_all_mrk[sum_corr].corr()"
   ]
  },
  {
   "cell_type": "code",
   "execution_count": 11,
   "id": "other-painting",
   "metadata": {
    "execution": {
     "iopub.execute_input": "2022-07-25T03:17:57.598141Z",
     "iopub.status.busy": "2022-07-25T03:17:57.597409Z",
     "iopub.status.idle": "2022-07-25T03:17:57.635753Z",
     "shell.execute_reply": "2022-07-25T03:17:57.636381Z"
    },
    "papermill": {
     "duration": 0.058176,
     "end_time": "2022-07-25T03:17:57.636574",
     "exception": false,
     "start_time": "2022-07-25T03:17:57.578398",
     "status": "completed"
    },
    "tags": []
   },
   "outputs": [],
   "source": [
    "#hide\n",
    "#Koreliacijos matrica. "
   ]
  },
  {
   "cell_type": "code",
   "execution_count": 12,
   "id": "modular-magnitude",
   "metadata": {
    "execution": {
     "iopub.execute_input": "2022-07-25T03:17:57.676502Z",
     "iopub.status.busy": "2022-07-25T03:17:57.675700Z",
     "iopub.status.idle": "2022-07-25T03:17:57.714493Z",
     "shell.execute_reply": "2022-07-25T03:17:57.715258Z"
    },
    "papermill": {
     "duration": 0.06147,
     "end_time": "2022-07-25T03:17:57.715437",
     "exception": false,
     "start_time": "2022-07-25T03:17:57.653967",
     "status": "completed"
    },
    "tags": []
   },
   "outputs": [],
   "source": [
    "#hide_input\n",
    "#plt.figure(figsize=(15, 8))\n",
    "#sns.heatmap(df_all_mrk[sum_corr].corr(), annot=True, cmap=\"BrBG\");\n",
    "#plt.savefig('corr_matrix_all.eps', format='eps')"
   ]
  },
  {
   "cell_type": "code",
   "execution_count": null,
   "id": "original-senator",
   "metadata": {
    "papermill": {
     "duration": 0.017572,
     "end_time": "2022-07-25T03:17:57.749384",
     "exception": false,
     "start_time": "2022-07-25T03:17:57.731812",
     "status": "completed"
    },
    "tags": []
   },
   "outputs": [],
   "source": []
  },
  {
   "cell_type": "code",
   "execution_count": null,
   "id": "saving-secretariat",
   "metadata": {
    "papermill": {
     "duration": 0.016273,
     "end_time": "2022-07-25T03:17:57.783100",
     "exception": false,
     "start_time": "2022-07-25T03:17:57.766827",
     "status": "completed"
    },
    "tags": []
   },
   "outputs": [],
   "source": []
  }
 ],
 "metadata": {
  "kernelspec": {
   "display_name": "Python 3",
   "language": "python",
   "name": "python3"
  },
  "language_info": {
   "codemirror_mode": {
    "name": "ipython",
    "version": 3
   },
   "file_extension": ".py",
   "mimetype": "text/x-python",
   "name": "python",
   "nbconvert_exporter": "python",
   "pygments_lexer": "ipython3",
   "version": "3.6.15"
  },
  "papermill": {
   "default_parameters": {},
   "duration": 21.946356,
   "end_time": "2022-07-25T03:17:58.321175",
   "environment_variables": {},
   "exception": null,
   "input_path": "App-Correlation_charts.ipynb",
   "output_path": "App-Correlation_charts.ipynb",
   "parameters": {},
   "start_time": "2022-07-25T03:17:36.374819",
   "version": "2.2.2"
  }
 },
 "nbformat": 4,
 "nbformat_minor": 5
}