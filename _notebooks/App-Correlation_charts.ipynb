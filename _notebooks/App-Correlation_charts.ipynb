{
 "cells": [
  {
   "cell_type": "markdown",
   "id": "touched-facility",
   "metadata": {
    "papermill": {
     "duration": 0.014646,
     "end_time": "2022-04-02T02:29:42.051563",
     "exception": false,
     "start_time": "2022-04-02T02:29:42.036917",
     "status": "completed"
    },
    "tags": []
   },
   "source": [
    "# Koreliacijų matrica\n",
    "> Išplėstinė koreliacijų matrica. \n",
    "\n",
    "- toc: true \n",
    "- badges: true\n",
    "- comments: false\n",
    "- categories: [Dominykas Tautkus]\n",
    "- image: images/matrix.png"
   ]
  },
  {
   "cell_type": "code",
   "execution_count": null,
   "id": "premium-weekend",
   "metadata": {
    "papermill": {
     "duration": 0.010912,
     "end_time": "2022-04-02T02:29:42.074006",
     "exception": false,
     "start_time": "2022-04-02T02:29:42.063094",
     "status": "completed"
    },
    "tags": []
   },
   "outputs": [],
   "source": []
  },
  {
   "cell_type": "code",
   "execution_count": 1,
   "id": "vertical-rebate",
   "metadata": {
    "execution": {
     "iopub.execute_input": "2022-04-02T02:29:42.106538Z",
     "iopub.status.busy": "2022-04-02T02:29:42.105938Z",
     "iopub.status.idle": "2022-04-02T02:29:42.120322Z",
     "shell.execute_reply": "2022-04-02T02:29:42.119787Z"
    },
    "papermill": {
     "duration": 0.035719,
     "end_time": "2022-04-02T02:29:42.120448",
     "exception": false,
     "start_time": "2022-04-02T02:29:42.084729",
     "status": "completed"
    },
    "tags": []
   },
   "outputs": [],
   "source": [
    "#hide\n",
    "%load_ext autoreload\n",
    "%autoreload 2"
   ]
  },
  {
   "cell_type": "code",
   "execution_count": 2,
   "id": "overall-advancement",
   "metadata": {
    "execution": {
     "iopub.execute_input": "2022-04-02T02:29:42.153735Z",
     "iopub.status.busy": "2022-04-02T02:29:42.149253Z",
     "iopub.status.idle": "2022-04-02T02:29:43.317830Z",
     "shell.execute_reply": "2022-04-02T02:29:43.317307Z"
    },
    "papermill": {
     "duration": 1.186461,
     "end_time": "2022-04-02T02:29:43.317966",
     "exception": false,
     "start_time": "2022-04-02T02:29:42.131505",
     "status": "completed"
    },
    "tags": []
   },
   "outputs": [],
   "source": [
    "#hide\n",
    "from scripts.read_data import read_api\n",
    "from IPython.display import HTML\n",
    "import plotly.graph_objects as go\n"
   ]
  },
  {
   "cell_type": "code",
   "execution_count": 3,
   "id": "light-crazy",
   "metadata": {
    "execution": {
     "iopub.execute_input": "2022-04-02T02:29:43.453123Z",
     "iopub.status.busy": "2022-04-02T02:29:43.452571Z",
     "iopub.status.idle": "2022-04-02T02:29:43.476998Z",
     "shell.execute_reply": "2022-04-02T02:29:43.476115Z"
    },
    "papermill": {
     "duration": 0.13234,
     "end_time": "2022-04-02T02:29:43.477129",
     "exception": false,
     "start_time": "2022-04-02T02:29:43.344789",
     "status": "completed"
    },
    "tags": []
   },
   "outputs": [],
   "source": [
    "#hide\n",
    "### ICO koreliacija"
   ]
  },
  {
   "cell_type": "code",
   "execution_count": 4,
   "id": "likely-bahrain",
   "metadata": {
    "execution": {
     "iopub.execute_input": "2022-04-02T02:29:43.597256Z",
     "iopub.status.busy": "2022-04-02T02:29:43.596709Z",
     "iopub.status.idle": "2022-04-02T02:29:44.763401Z",
     "shell.execute_reply": "2022-04-02T02:29:44.762938Z"
    },
    "papermill": {
     "duration": 1.224735,
     "end_time": "2022-04-02T02:29:44.763524",
     "exception": false,
     "start_time": "2022-04-02T02:29:43.538789",
     "status": "completed"
    },
    "tags": []
   },
   "outputs": [],
   "source": [
    "#hide\n",
    "import matplotlib.pyplot as plt\n",
    "import numpy as np\n",
    "import pandas as pd\n",
    "import seaborn as sns\n",
    "import matplotlib.pyplot as plt \n",
    "import matplotlib.dates as mdates\n",
    "import matplotlib.pyplot as plt"
   ]
  },
  {
   "cell_type": "code",
   "execution_count": 5,
   "id": "superior-blanket",
   "metadata": {
    "execution": {
     "iopub.execute_input": "2022-04-02T02:29:44.861946Z",
     "iopub.status.busy": "2022-04-02T02:29:44.861150Z",
     "iopub.status.idle": "2022-04-02T02:29:56.550716Z",
     "shell.execute_reply": "2022-04-02T02:29:56.550171Z"
    },
    "papermill": {
     "duration": 11.707835,
     "end_time": "2022-04-02T02:29:56.550839",
     "exception": false,
     "start_time": "2022-04-02T02:29:44.843004",
     "status": "completed"
    },
    "tags": []
   },
   "outputs": [
    {
     "name": "stderr",
     "output_type": "stream",
     "text": [
      "/home/runner/work/corr-app/corr-app/_notebooks/scripts/read_data.py:187: SettingWithCopyWarning:\n",
      "\n",
      "\n",
      "A value is trying to be set on a copy of a slice from a DataFrame.\n",
      "Try using .loc[row_indexer,col_indexer] = value instead\n",
      "\n",
      "See the caveats in the documentation: https://pandas.pydata.org/pandas-docs/stable/user_guide/indexing.html#returning-a-view-versus-a-copy\n",
      "\n"
     ]
    },
    {
     "name": "stderr",
     "output_type": "stream",
     "text": [
      "/home/runner/work/corr-app/corr-app/_notebooks/scripts/read_data.py:215: SettingWithCopyWarning:\n",
      "\n",
      "\n",
      "A value is trying to be set on a copy of a slice from a DataFrame.\n",
      "Try using .loc[row_indexer,col_indexer] = value instead\n",
      "\n",
      "See the caveats in the documentation: https://pandas.pydata.org/pandas-docs/stable/user_guide/indexing.html#returning-a-view-versus-a-copy\n",
      "\n"
     ]
    }
   ],
   "source": [
    "#hide\n",
    "df_all = read_api()\n",
    "#df_all = df_all.drop(['SP500', 'XAU', 'ETH', 'BTC'], axis=1)\n",
    "\n"
   ]
  },
  {
   "cell_type": "code",
   "execution_count": 6,
   "id": "mature-alert",
   "metadata": {
    "execution": {
     "iopub.execute_input": "2022-04-02T02:29:56.577949Z",
     "iopub.status.busy": "2022-04-02T02:29:56.577414Z",
     "iopub.status.idle": "2022-04-02T02:29:56.607810Z",
     "shell.execute_reply": "2022-04-02T02:29:56.607293Z"
    },
    "papermill": {
     "duration": 0.045328,
     "end_time": "2022-04-02T02:29:56.607948",
     "exception": false,
     "start_time": "2022-04-02T02:29:56.562620",
     "status": "completed"
    },
    "tags": []
   },
   "outputs": [],
   "source": [
    "#hide_input\n",
    "sum_corr = df_all.corr().sum().sort_values(ascending=True).index.values\n",
    "#df_all[sum_corr].corr()"
   ]
  },
  {
   "cell_type": "markdown",
   "id": "complex-syndicate",
   "metadata": {
    "papermill": {
     "duration": 0.011628,
     "end_time": "2022-04-02T02:29:56.631224",
     "exception": false,
     "start_time": "2022-04-02T02:29:56.619596",
     "status": "completed"
    },
    "tags": []
   },
   "source": [
    "## Išplėstinė koreliacijų matrica. "
   ]
  },
  {
   "cell_type": "code",
   "execution_count": 7,
   "id": "atomic-omaha",
   "metadata": {
    "execution": {
     "iopub.execute_input": "2022-04-02T02:29:56.659212Z",
     "iopub.status.busy": "2022-04-02T02:29:56.658680Z",
     "iopub.status.idle": "2022-04-02T02:29:57.929017Z",
     "shell.execute_reply": "2022-04-02T02:29:57.928583Z"
    },
    "papermill": {
     "duration": 1.285711,
     "end_time": "2022-04-02T02:29:57.929137",
     "exception": false,
     "start_time": "2022-04-02T02:29:56.643426",
     "status": "completed"
    },
    "tags": []
   },
   "outputs": [
    {
     "data": {
      "image/png": "[encoded data removed]",
      "text/plain": [
       "<Figure size 1080x792 with 2 Axes>"
      ]
     },
     "metadata": {
      "needs_background": "light"
     },
     "output_type": "display_data"
    }
   ],
   "source": [
    "#hide_input\n",
    "plt.figure(figsize=(15, 11))\n",
    "sns.heatmap(df_all[sum_corr].corr(), annot=True, cmap=\"cubehelix\") \n",
    "sns.set(font_scale=1.25)\n",
    "plt.savefig('corr_matrix.png', format='eps')"
   ]
  },
  {
   "cell_type": "code",
   "execution_count": 8,
   "id": "arbitrary-sullivan",
   "metadata": {
    "execution": {
     "iopub.execute_input": "2022-04-02T02:29:57.960319Z",
     "iopub.status.busy": "2022-04-02T02:29:57.959734Z",
     "iopub.status.idle": "2022-04-02T02:29:57.986014Z",
     "shell.execute_reply": "2022-04-02T02:29:57.985498Z"
    },
    "papermill": {
     "duration": 0.043224,
     "end_time": "2022-04-02T02:29:57.986159",
     "exception": false,
     "start_time": "2022-04-02T02:29:57.942935",
     "status": "completed"
    },
    "tags": []
   },
   "outputs": [],
   "source": [
    "#hide\n",
    "#df_all_mrk = read_api()"
   ]
  },
  {
   "cell_type": "code",
   "execution_count": 9,
   "id": "delayed-adapter",
   "metadata": {
    "execution": {
     "iopub.execute_input": "2022-04-02T02:29:58.021574Z",
     "iopub.status.busy": "2022-04-02T02:29:58.021043Z",
     "iopub.status.idle": "2022-04-02T02:29:58.045093Z",
     "shell.execute_reply": "2022-04-02T02:29:58.044601Z"
    },
    "papermill": {
     "duration": 0.044788,
     "end_time": "2022-04-02T02:29:58.045227",
     "exception": false,
     "start_time": "2022-04-02T02:29:58.000439",
     "status": "completed"
    },
    "tags": []
   },
   "outputs": [],
   "source": [
    "#hide\n",
    "#Koreliacijų koeficientai"
   ]
  },
  {
   "cell_type": "code",
   "execution_count": 10,
   "id": "seeing-celebration",
   "metadata": {
    "execution": {
     "iopub.execute_input": "2022-04-02T02:29:58.078053Z",
     "iopub.status.busy": "2022-04-02T02:29:58.077544Z",
     "iopub.status.idle": "2022-04-02T02:29:58.104278Z",
     "shell.execute_reply": "2022-04-02T02:29:58.103776Z"
    },
    "papermill": {
     "duration": 0.043706,
     "end_time": "2022-04-02T02:29:58.104415",
     "exception": false,
     "start_time": "2022-04-02T02:29:58.060709",
     "status": "completed"
    },
    "tags": []
   },
   "outputs": [],
   "source": [
    "#hide_input\n",
    "#sum_corr = df_all_mrk.corr().sum().sort_values(ascending=True).index.values\n",
    "#df_all_mrk[sum_corr].corr()"
   ]
  },
  {
   "cell_type": "code",
   "execution_count": 11,
   "id": "other-painting",
   "metadata": {
    "execution": {
     "iopub.execute_input": "2022-04-02T02:29:58.136239Z",
     "iopub.status.busy": "2022-04-02T02:29:58.135707Z",
     "iopub.status.idle": "2022-04-02T02:29:58.162032Z",
     "shell.execute_reply": "2022-04-02T02:29:58.162511Z"
    },
    "papermill": {
     "duration": 0.043648,
     "end_time": "2022-04-02T02:29:58.162658",
     "exception": false,
     "start_time": "2022-04-02T02:29:58.119010",
     "status": "completed"
    },
    "tags": []
   },
   "outputs": [],
   "source": [
    "#hide\n",
    "#Koreliacijos matrica. "
   ]
  },
  {
   "cell_type": "code",
   "execution_count": 12,
   "id": "modular-magnitude",
   "metadata": {
    "execution": {
     "iopub.execute_input": "2022-04-02T02:29:58.195349Z",
     "iopub.status.busy": "2022-04-02T02:29:58.194831Z",
     "iopub.status.idle": "2022-04-02T02:29:58.220236Z",
     "shell.execute_reply": "2022-04-02T02:29:58.219757Z"
    },
    "papermill": {
     "duration": 0.044145,
     "end_time": "2022-04-02T02:29:58.220369",
     "exception": false,
     "start_time": "2022-04-02T02:29:58.176224",
     "status": "completed"
    },
    "tags": []
   },
   "outputs": [],
   "source": [
    "#hide_input\n",
    "#plt.figure(figsize=(15, 8))\n",
    "#sns.heatmap(df_all_mrk[sum_corr].corr(), annot=True, cmap=\"BrBG\");\n",
    "#plt.savefig('corr_matrix_all.eps', format='eps')"
   ]
  },
  {
   "cell_type": "code",
   "execution_count": null,
   "id": "original-senator",
   "metadata": {
    "papermill": {
     "duration": 0.013288,
     "end_time": "2022-04-02T02:29:58.247574",
     "exception": false,
     "start_time": "2022-04-02T02:29:58.234286",
     "status": "completed"
    },
    "tags": []
   },
   "outputs": [],
   "source": []
  },
  {
   "cell_type": "code",
   "execution_count": null,
   "id": "saving-secretariat",
   "metadata": {
    "papermill": {
     "duration": 0.013269,
     "end_time": "2022-04-02T02:29:58.274094",
     "exception": false,
     "start_time": "2022-04-02T02:29:58.260825",
     "status": "completed"
    },
    "tags": []
   },
   "outputs": [],
   "source": []
  }
 ],
 "metadata": {
  "kernelspec": {
   "display_name": "Python 3",
   "language": "python",
   "name": "python3"
  },
  "language_info": {
   "codemirror_mode": {
    "name": "ipython",
    "version": 3
   },
   "file_extension": ".py",
   "mimetype": "text/x-python",
   "name": "python",
   "nbconvert_exporter": "python",
   "pygments_lexer": "ipython3",
   "version": "3.6.15"
  },
  "papermill": {
   "default_parameters": {},
   "duration": 17.710384,
   "end_time": "2022-04-02T02:29:58.806326",
   "environment_variables": {},
   "exception": null,
   "input_path": "App-Correlation_charts.ipynb",
   "output_path": "App-Correlation_charts.ipynb",
   "parameters": {},
   "start_time": "2022-04-02T02:29:41.095942",
   "version": "2.2.2"
  }
 },
 "nbformat": 4,
 "nbformat_minor": 5
}