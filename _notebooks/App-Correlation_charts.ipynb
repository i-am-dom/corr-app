{
 "cells": [
  {
   "cell_type": "markdown",
   "id": "touched-facility",
   "metadata": {
    "papermill": {
     "duration": 0.015266,
     "end_time": "2022-06-25T03:08:36.481564",
     "exception": false,
     "start_time": "2022-06-25T03:08:36.466298",
     "status": "completed"
    },
    "tags": []
   },
   "source": [
    "# Koreliacijų matrica\n",
    "> Išplėstinė koreliacijų matrica. \n",
    "\n",
    "- toc: true \n",
    "- badges: true\n",
    "- comments: false\n",
    "- categories: [Dominykas Tautkus]\n",
    "- image: images/matrix.png"
   ]
  },
  {
   "cell_type": "code",
   "execution_count": null,
   "id": "premium-weekend",
   "metadata": {
    "papermill": {
     "duration": 0.011216,
     "end_time": "2022-06-25T03:08:36.504578",
     "exception": false,
     "start_time": "2022-06-25T03:08:36.493362",
     "status": "completed"
    },
    "tags": []
   },
   "outputs": [],
   "source": []
  },
  {
   "cell_type": "code",
   "execution_count": 1,
   "id": "vertical-rebate",
   "metadata": {
    "execution": {
     "iopub.execute_input": "2022-06-25T03:08:36.537510Z",
     "iopub.status.busy": "2022-06-25T03:08:36.536950Z",
     "iopub.status.idle": "2022-06-25T03:08:36.547634Z",
     "shell.execute_reply": "2022-06-25T03:08:36.547164Z"
    },
    "papermill": {
     "duration": 0.031226,
     "end_time": "2022-06-25T03:08:36.547745",
     "exception": false,
     "start_time": "2022-06-25T03:08:36.516519",
     "status": "completed"
    },
    "tags": []
   },
   "outputs": [],
   "source": [
    "#hide\n",
    "%load_ext autoreload\n",
    "%autoreload 2"
   ]
  },
  {
   "cell_type": "code",
   "execution_count": 2,
   "id": "overall-advancement",
   "metadata": {
    "execution": {
     "iopub.execute_input": "2022-06-25T03:08:36.573409Z",
     "iopub.status.busy": "2022-06-25T03:08:36.572859Z",
     "iopub.status.idle": "2022-06-25T03:08:37.743312Z",
     "shell.execute_reply": "2022-06-25T03:08:37.742337Z"
    },
    "papermill": {
     "duration": 1.184655,
     "end_time": "2022-06-25T03:08:37.743440",
     "exception": false,
     "start_time": "2022-06-25T03:08:36.558785",
     "status": "completed"
    },
    "tags": []
   },
   "outputs": [],
   "source": [
    "#hide\n",
    "from scripts.read_data import read_api\n",
    "from IPython.display import HTML\n",
    "import plotly.graph_objects as go\n"
   ]
  },
  {
   "cell_type": "code",
   "execution_count": 3,
   "id": "light-crazy",
   "metadata": {
    "execution": {
     "iopub.execute_input": "2022-06-25T03:08:37.771881Z",
     "iopub.status.busy": "2022-06-25T03:08:37.771319Z",
     "iopub.status.idle": "2022-06-25T03:08:37.789960Z",
     "shell.execute_reply": "2022-06-25T03:08:37.790373Z"
    },
    "papermill": {
     "duration": 0.03591,
     "end_time": "2022-06-25T03:08:37.790499",
     "exception": false,
     "start_time": "2022-06-25T03:08:37.754589",
     "status": "completed"
    },
    "tags": []
   },
   "outputs": [],
   "source": [
    "#hide\n",
    "### ICO koreliacija"
   ]
  },
  {
   "cell_type": "code",
   "execution_count": 4,
   "id": "likely-bahrain",
   "metadata": {
    "execution": {
     "iopub.execute_input": "2022-06-25T03:08:37.816247Z",
     "iopub.status.busy": "2022-06-25T03:08:37.815704Z",
     "iopub.status.idle": "2022-06-25T03:08:38.622165Z",
     "shell.execute_reply": "2022-06-25T03:08:38.621354Z"
    },
    "papermill": {
     "duration": 0.820849,
     "end_time": "2022-06-25T03:08:38.622283",
     "exception": false,
     "start_time": "2022-06-25T03:08:37.801434",
     "status": "completed"
    },
    "tags": []
   },
   "outputs": [],
   "source": [
    "#hide\n",
    "import matplotlib.pyplot as plt\n",
    "import numpy as np\n",
    "import pandas as pd\n",
    "import seaborn as sns\n",
    "import matplotlib.pyplot as plt \n",
    "import matplotlib.dates as mdates\n",
    "import matplotlib.pyplot as plt"
   ]
  },
  {
   "cell_type": "code",
   "execution_count": 5,
   "id": "superior-blanket",
   "metadata": {
    "execution": {
     "iopub.execute_input": "2022-06-25T03:08:38.651015Z",
     "iopub.status.busy": "2022-06-25T03:08:38.648639Z",
     "iopub.status.idle": "2022-06-25T03:08:52.467684Z",
     "shell.execute_reply": "2022-06-25T03:08:52.467181Z"
    },
    "papermill": {
     "duration": 13.834431,
     "end_time": "2022-06-25T03:08:52.467791",
     "exception": false,
     "start_time": "2022-06-25T03:08:38.633360",
     "status": "completed"
    },
    "tags": []
   },
   "outputs": [
    {
     "name": "stderr",
     "output_type": "stream",
     "text": [
      "/home/runner/work/corr-app/corr-app/_notebooks/scripts/read_data.py:187: SettingWithCopyWarning:\n",
      "\n",
      "\n",
      "A value is trying to be set on a copy of a slice from a DataFrame.\n",
      "Try using .loc[row_indexer,col_indexer] = value instead\n",
      "\n",
      "See the caveats in the documentation: https://pandas.pydata.org/pandas-docs/stable/user_guide/indexing.html#returning-a-view-versus-a-copy\n",
      "\n"
     ]
    },
    {
     "name": "stderr",
     "output_type": "stream",
     "text": [
      "/home/runner/work/corr-app/corr-app/_notebooks/scripts/read_data.py:215: SettingWithCopyWarning:\n",
      "\n",
      "\n",
      "A value is trying to be set on a copy of a slice from a DataFrame.\n",
      "Try using .loc[row_indexer,col_indexer] = value instead\n",
      "\n",
      "See the caveats in the documentation: https://pandas.pydata.org/pandas-docs/stable/user_guide/indexing.html#returning-a-view-versus-a-copy\n",
      "\n"
     ]
    }
   ],
   "source": [
    "#hide\n",
    "df_all = read_api()\n",
    "#df_all = df_all.drop(['SP500', 'XAU', 'ETH', 'BTC'], axis=1)\n",
    "\n"
   ]
  },
  {
   "cell_type": "code",
   "execution_count": 6,
   "id": "mature-alert",
   "metadata": {
    "execution": {
     "iopub.execute_input": "2022-06-25T03:08:52.495996Z",
     "iopub.status.busy": "2022-06-25T03:08:52.495282Z",
     "iopub.status.idle": "2022-06-25T03:08:52.524478Z",
     "shell.execute_reply": "2022-06-25T03:08:52.523901Z"
    },
    "papermill": {
     "duration": 0.044979,
     "end_time": "2022-06-25T03:08:52.524585",
     "exception": false,
     "start_time": "2022-06-25T03:08:52.479606",
     "status": "completed"
    },
    "tags": []
   },
   "outputs": [],
   "source": [
    "#hide_input\n",
    "sum_corr = df_all.corr().sum().sort_values(ascending=True).index.values\n",
    "#df_all[sum_corr].corr()"
   ]
  },
  {
   "cell_type": "markdown",
   "id": "complex-syndicate",
   "metadata": {
    "papermill": {
     "duration": 0.015566,
     "end_time": "2022-06-25T03:08:52.551719",
     "exception": false,
     "start_time": "2022-06-25T03:08:52.536153",
     "status": "completed"
    },
    "tags": []
   },
   "source": [
    "## Išplėstinė koreliacijų matrica. "
   ]
  },
  {
   "cell_type": "code",
   "execution_count": 7,
   "id": "atomic-omaha",
   "metadata": {
    "execution": {
     "iopub.execute_input": "2022-06-25T03:08:52.579037Z",
     "iopub.status.busy": "2022-06-25T03:08:52.578454Z",
     "iopub.status.idle": "2022-06-25T03:08:53.680204Z",
     "shell.execute_reply": "2022-06-25T03:08:53.680628Z"
    },
    "papermill": {
     "duration": 1.117465,
     "end_time": "2022-06-25T03:08:53.680751",
     "exception": false,
     "start_time": "2022-06-25T03:08:52.563286",
     "status": "completed"
    },
    "tags": []
   },
   "outputs": [
    {
     "data": {
      "image/png": "[encoded data removed]",
      "text/plain": [
       "<Figure size 1080x792 with 2 Axes>"
      ]
     },
     "metadata": {
      "needs_background": "light"
     },
     "output_type": "display_data"
    }
   ],
   "source": [
    "#hide_input\n",
    "plt.figure(figsize=(15, 11))\n",
    "sns.heatmap(df_all[sum_corr].corr(), annot=True, cmap=\"cubehelix\") \n",
    "sns.set(font_scale=1.25)\n",
    "plt.savefig('corr_matrix.png', format='eps')"
   ]
  },
  {
   "cell_type": "code",
   "execution_count": 8,
   "id": "arbitrary-sullivan",
   "metadata": {
    "execution": {
     "iopub.execute_input": "2022-06-25T03:08:53.711355Z",
     "iopub.status.busy": "2022-06-25T03:08:53.710342Z",
     "iopub.status.idle": "2022-06-25T03:08:53.735810Z",
     "shell.execute_reply": "2022-06-25T03:08:53.735341Z"
    },
    "papermill": {
     "duration": 0.041509,
     "end_time": "2022-06-25T03:08:53.735914",
     "exception": false,
     "start_time": "2022-06-25T03:08:53.694405",
     "status": "completed"
    },
    "tags": []
   },
   "outputs": [],
   "source": [
    "#hide\n",
    "#df_all_mrk = read_api()"
   ]
  },
  {
   "cell_type": "code",
   "execution_count": 9,
   "id": "delayed-adapter",
   "metadata": {
    "execution": {
     "iopub.execute_input": "2022-06-25T03:08:53.768106Z",
     "iopub.status.busy": "2022-06-25T03:08:53.766514Z",
     "iopub.status.idle": "2022-06-25T03:08:53.791489Z",
     "shell.execute_reply": "2022-06-25T03:08:53.790931Z"
    },
    "papermill": {
     "duration": 0.042336,
     "end_time": "2022-06-25T03:08:53.791594",
     "exception": false,
     "start_time": "2022-06-25T03:08:53.749258",
     "status": "completed"
    },
    "tags": []
   },
   "outputs": [],
   "source": [
    "#hide\n",
    "#Koreliacijų koeficientai"
   ]
  },
  {
   "cell_type": "code",
   "execution_count": 10,
   "id": "seeing-celebration",
   "metadata": {
    "execution": {
     "iopub.execute_input": "2022-06-25T03:08:53.826022Z",
     "iopub.status.busy": "2022-06-25T03:08:53.822873Z",
     "iopub.status.idle": "2022-06-25T03:08:53.851420Z",
     "shell.execute_reply": "2022-06-25T03:08:53.851871Z"
    },
    "papermill": {
     "duration": 0.046907,
     "end_time": "2022-06-25T03:08:53.851999",
     "exception": false,
     "start_time": "2022-06-25T03:08:53.805092",
     "status": "completed"
    },
    "tags": []
   },
   "outputs": [],
   "source": [
    "#hide_input\n",
    "#sum_corr = df_all_mrk.corr().sum().sort_values(ascending=True).index.values\n",
    "#df_all_mrk[sum_corr].corr()"
   ]
  },
  {
   "cell_type": "code",
   "execution_count": 11,
   "id": "other-painting",
   "metadata": {
    "execution": {
     "iopub.execute_input": "2022-06-25T03:08:53.882061Z",
     "iopub.status.busy": "2022-06-25T03:08:53.881509Z",
     "iopub.status.idle": "2022-06-25T03:08:53.906792Z",
     "shell.execute_reply": "2022-06-25T03:08:53.906195Z"
    },
    "papermill": {
     "duration": 0.041495,
     "end_time": "2022-06-25T03:08:53.906900",
     "exception": false,
     "start_time": "2022-06-25T03:08:53.865405",
     "status": "completed"
    },
    "tags": []
   },
   "outputs": [],
   "source": [
    "#hide\n",
    "#Koreliacijos matrica. "
   ]
  },
  {
   "cell_type": "code",
   "execution_count": 12,
   "id": "modular-magnitude",
   "metadata": {
    "execution": {
     "iopub.execute_input": "2022-06-25T03:08:53.937065Z",
     "iopub.status.busy": "2022-06-25T03:08:53.936520Z",
     "iopub.status.idle": "2022-06-25T03:08:53.962493Z",
     "shell.execute_reply": "2022-06-25T03:08:53.962977Z"
    },
    "papermill": {
     "duration": 0.042663,
     "end_time": "2022-06-25T03:08:53.963119",
     "exception": false,
     "start_time": "2022-06-25T03:08:53.920456",
     "status": "completed"
    },
    "tags": []
   },
   "outputs": [],
   "source": [
    "#hide_input\n",
    "#plt.figure(figsize=(15, 8))\n",
    "#sns.heatmap(df_all_mrk[sum_corr].corr(), annot=True, cmap=\"BrBG\");\n",
    "#plt.savefig('corr_matrix_all.eps', format='eps')"
   ]
  },
  {
   "cell_type": "code",
   "execution_count": null,
   "id": "original-senator",
   "metadata": {
    "papermill": {
     "duration": 0.013326,
     "end_time": "2022-06-25T03:08:53.989966",
     "exception": false,
     "start_time": "2022-06-25T03:08:53.976640",
     "status": "completed"
    },
    "tags": []
   },
   "outputs": [],
   "source": []
  },
  {
   "cell_type": "code",
   "execution_count": null,
   "id": "saving-secretariat",
   "metadata": {
    "papermill": {
     "duration": 0.013167,
     "end_time": "2022-06-25T03:08:54.016537",
     "exception": false,
     "start_time": "2022-06-25T03:08:54.003370",
     "status": "completed"
    },
    "tags": []
   },
   "outputs": [],
   "source": []
  }
 ],
 "metadata": {
  "kernelspec": {
   "display_name": "Python 3",
   "language": "python",
   "name": "python3"
  },
  "language_info": {
   "codemirror_mode": {
    "name": "ipython",
    "version": 3
   },
   "file_extension": ".py",
   "mimetype": "text/x-python",
   "name": "python",
   "nbconvert_exporter": "python",
   "pygments_lexer": "ipython3",
   "version": "3.6.15"
  },
  "papermill": {
   "default_parameters": {},
   "duration": 18.899075,
   "end_time": "2022-06-25T03:08:54.451307",
   "environment_variables": {},
   "exception": null,
   "input_path": "App-Correlation_charts.ipynb",
   "output_path": "App-Correlation_charts.ipynb",
   "parameters": {},
   "start_time": "2022-06-25T03:08:35.552232",
   "version": "2.2.2"
  }
 },
 "nbformat": 4,
 "nbformat_minor": 5
}