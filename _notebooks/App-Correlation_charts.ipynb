{
 "cells": [
  {
   "cell_type": "markdown",
   "id": "touched-facility",
   "metadata": {
    "papermill": {
     "duration": 0.019433,
     "end_time": "2022-08-31T03:58:14.362437",
     "exception": false,
     "start_time": "2022-08-31T03:58:14.343004",
     "status": "completed"
    },
    "tags": []
   },
   "source": [
    "# Koreliacijų matrica\n",
    "> Išplėstinė koreliacijų matrica. \n",
    "\n",
    "- toc: true \n",
    "- badges: true\n",
    "- comments: false\n",
    "- categories: [Dominykas Tautkus]\n",
    "- image: images/matrix.png"
   ]
  },
  {
   "cell_type": "code",
   "execution_count": null,
   "id": "premium-weekend",
   "metadata": {
    "papermill": {
     "duration": 0.012052,
     "end_time": "2022-08-31T03:58:14.387755",
     "exception": false,
     "start_time": "2022-08-31T03:58:14.375703",
     "status": "completed"
    },
    "tags": []
   },
   "outputs": [],
   "source": []
  },
  {
   "cell_type": "code",
   "execution_count": 1,
   "id": "vertical-rebate",
   "metadata": {
    "execution": {
     "iopub.execute_input": "2022-08-31T03:58:14.427249Z",
     "iopub.status.busy": "2022-08-31T03:58:14.426490Z",
     "iopub.status.idle": "2022-08-31T03:58:14.440258Z",
     "shell.execute_reply": "2022-08-31T03:58:14.439639Z"
    },
    "papermill": {
     "duration": 0.040587,
     "end_time": "2022-08-31T03:58:14.440413",
     "exception": false,
     "start_time": "2022-08-31T03:58:14.399826",
     "status": "completed"
    },
    "tags": []
   },
   "outputs": [],
   "source": [
    "#hide\n",
    "%load_ext autoreload\n",
    "%autoreload 2"
   ]
  },
  {
   "cell_type": "code",
   "execution_count": 2,
   "id": "overall-advancement",
   "metadata": {
    "execution": {
     "iopub.execute_input": "2022-08-31T03:58:14.470488Z",
     "iopub.status.busy": "2022-08-31T03:58:14.469798Z",
     "iopub.status.idle": "2022-08-31T03:58:16.175445Z",
     "shell.execute_reply": "2022-08-31T03:58:16.175973Z"
    },
    "papermill": {
     "duration": 1.723516,
     "end_time": "2022-08-31T03:58:16.176141",
     "exception": false,
     "start_time": "2022-08-31T03:58:14.452625",
     "status": "completed"
    },
    "tags": []
   },
   "outputs": [],
   "source": [
    "#hide\n",
    "from scripts.read_data import read_api\n",
    "from IPython.display import HTML\n",
    "import plotly.graph_objects as go\n"
   ]
  },
  {
   "cell_type": "code",
   "execution_count": 3,
   "id": "light-crazy",
   "metadata": {
    "execution": {
     "iopub.execute_input": "2022-08-31T03:58:16.212518Z",
     "iopub.status.busy": "2022-08-31T03:58:16.211789Z",
     "iopub.status.idle": "2022-08-31T03:58:16.241606Z",
     "shell.execute_reply": "2022-08-31T03:58:16.240183Z"
    },
    "papermill": {
     "duration": 0.047122,
     "end_time": "2022-08-31T03:58:16.241773",
     "exception": false,
     "start_time": "2022-08-31T03:58:16.194651",
     "status": "completed"
    },
    "tags": []
   },
   "outputs": [],
   "source": [
    "#hide\n",
    "### ICO koreliacija"
   ]
  },
  {
   "cell_type": "code",
   "execution_count": 4,
   "id": "likely-bahrain",
   "metadata": {
    "execution": {
     "iopub.execute_input": "2022-08-31T03:58:16.271407Z",
     "iopub.status.busy": "2022-08-31T03:58:16.270724Z",
     "iopub.status.idle": "2022-08-31T03:58:17.256698Z",
     "shell.execute_reply": "2022-08-31T03:58:17.255921Z"
    },
    "papermill": {
     "duration": 1.002926,
     "end_time": "2022-08-31T03:58:17.256874",
     "exception": false,
     "start_time": "2022-08-31T03:58:16.253948",
     "status": "completed"
    },
    "tags": []
   },
   "outputs": [],
   "source": [
    "#hide\n",
    "import matplotlib.pyplot as plt\n",
    "import numpy as np\n",
    "import pandas as pd\n",
    "import seaborn as sns\n",
    "import matplotlib.pyplot as plt \n",
    "import matplotlib.dates as mdates\n",
    "import matplotlib.pyplot as plt"
   ]
  },
  {
   "cell_type": "code",
   "execution_count": 5,
   "id": "superior-blanket",
   "metadata": {
    "execution": {
     "iopub.execute_input": "2022-08-31T03:58:17.287777Z",
     "iopub.status.busy": "2022-08-31T03:58:17.287086Z",
     "iopub.status.idle": "2022-08-31T03:58:35.881281Z",
     "shell.execute_reply": "2022-08-31T03:58:35.880659Z"
    },
    "papermill": {
     "duration": 18.612161,
     "end_time": "2022-08-31T03:58:35.881419",
     "exception": false,
     "start_time": "2022-08-31T03:58:17.269258",
     "status": "completed"
    },
    "tags": []
   },
   "outputs": [
    {
     "name": "stderr",
     "output_type": "stream",
     "text": [
      "/home/runner/work/corr-app/corr-app/_notebooks/scripts/read_data.py:187: SettingWithCopyWarning:\n",
      "\n",
      "\n",
      "A value is trying to be set on a copy of a slice from a DataFrame.\n",
      "Try using .loc[row_indexer,col_indexer] = value instead\n",
      "\n",
      "See the caveats in the documentation: https://pandas.pydata.org/pandas-docs/stable/user_guide/indexing.html#returning-a-view-versus-a-copy\n",
      "\n"
     ]
    },
    {
     "name": "stderr",
     "output_type": "stream",
     "text": [
      "/home/runner/work/corr-app/corr-app/_notebooks/scripts/read_data.py:215: SettingWithCopyWarning:\n",
      "\n",
      "\n",
      "A value is trying to be set on a copy of a slice from a DataFrame.\n",
      "Try using .loc[row_indexer,col_indexer] = value instead\n",
      "\n",
      "See the caveats in the documentation: https://pandas.pydata.org/pandas-docs/stable/user_guide/indexing.html#returning-a-view-versus-a-copy\n",
      "\n"
     ]
    }
   ],
   "source": [
    "#hide\n",
    "df_all = read_api()\n",
    "#df_all = df_all.drop(['SP500', 'XAU', 'ETH', 'BTC'], axis=1)\n",
    "\n"
   ]
  },
  {
   "cell_type": "code",
   "execution_count": 6,
   "id": "mature-alert",
   "metadata": {
    "execution": {
     "iopub.execute_input": "2022-08-31T03:58:35.916029Z",
     "iopub.status.busy": "2022-08-31T03:58:35.914710Z",
     "iopub.status.idle": "2022-08-31T03:58:35.953049Z",
     "shell.execute_reply": "2022-08-31T03:58:35.952067Z"
    },
    "papermill": {
     "duration": 0.057354,
     "end_time": "2022-08-31T03:58:35.953274",
     "exception": false,
     "start_time": "2022-08-31T03:58:35.895920",
     "status": "completed"
    },
    "tags": []
   },
   "outputs": [],
   "source": [
    "#hide_input\n",
    "sum_corr = df_all.corr().sum().sort_values(ascending=True).index.values\n",
    "#df_all[sum_corr].corr()"
   ]
  },
  {
   "cell_type": "markdown",
   "id": "complex-syndicate",
   "metadata": {
    "papermill": {
     "duration": 0.012859,
     "end_time": "2022-08-31T03:58:35.979952",
     "exception": false,
     "start_time": "2022-08-31T03:58:35.967093",
     "status": "completed"
    },
    "tags": []
   },
   "source": [
    "## Išplėstinė koreliacijų matrica. "
   ]
  },
  {
   "cell_type": "code",
   "execution_count": 7,
   "id": "atomic-omaha",
   "metadata": {
    "execution": {
     "iopub.execute_input": "2022-08-31T03:58:36.013592Z",
     "iopub.status.busy": "2022-08-31T03:58:36.012881Z",
     "iopub.status.idle": "2022-08-31T03:58:37.486953Z",
     "shell.execute_reply": "2022-08-31T03:58:37.486386Z"
    },
    "papermill": {
     "duration": 1.49431,
     "end_time": "2022-08-31T03:58:37.487097",
     "exception": false,
     "start_time": "2022-08-31T03:58:35.992787",
     "status": "completed"
    },
    "tags": []
   },
   "outputs": [
    {
     "data": {
      "image/png": "[encoded data removed]",
      "text/plain": [
       "<Figure size 1080x792 with 2 Axes>"
      ]
     },
     "metadata": {
      "needs_background": "light"
     },
     "output_type": "display_data"
    }
   ],
   "source": [
    "#hide_input\n",
    "plt.figure(figsize=(15, 11))\n",
    "sns.heatmap(df_all[sum_corr].corr(), annot=True, cmap=\"cubehelix\") \n",
    "sns.set(font_scale=1.25)\n",
    "plt.savefig('corr_matrix.png', format='eps')"
   ]
  },
  {
   "cell_type": "code",
   "execution_count": 8,
   "id": "arbitrary-sullivan",
   "metadata": {
    "execution": {
     "iopub.execute_input": "2022-08-31T03:58:37.530450Z",
     "iopub.status.busy": "2022-08-31T03:58:37.529709Z",
     "iopub.status.idle": "2022-08-31T03:58:37.560783Z",
     "shell.execute_reply": "2022-08-31T03:58:37.560161Z"
    },
    "papermill": {
     "duration": 0.053227,
     "end_time": "2022-08-31T03:58:37.560929",
     "exception": false,
     "start_time": "2022-08-31T03:58:37.507702",
     "status": "completed"
    },
    "tags": []
   },
   "outputs": [],
   "source": [
    "#hide\n",
    "#df_all_mrk = read_api()"
   ]
  },
  {
   "cell_type": "code",
   "execution_count": 9,
   "id": "delayed-adapter",
   "metadata": {
    "execution": {
     "iopub.execute_input": "2022-08-31T03:58:37.599843Z",
     "iopub.status.busy": "2022-08-31T03:58:37.599139Z",
     "iopub.status.idle": "2022-08-31T03:58:37.631916Z",
     "shell.execute_reply": "2022-08-31T03:58:37.631324Z"
    },
    "papermill": {
     "duration": 0.054336,
     "end_time": "2022-08-31T03:58:37.632051",
     "exception": false,
     "start_time": "2022-08-31T03:58:37.577715",
     "status": "completed"
    },
    "tags": []
   },
   "outputs": [],
   "source": [
    "#hide\n",
    "#Koreliacijų koeficientai"
   ]
  },
  {
   "cell_type": "code",
   "execution_count": 10,
   "id": "seeing-celebration",
   "metadata": {
    "execution": {
     "iopub.execute_input": "2022-08-31T03:58:37.668050Z",
     "iopub.status.busy": "2022-08-31T03:58:37.667350Z",
     "iopub.status.idle": "2022-08-31T03:58:37.701095Z",
     "shell.execute_reply": "2022-08-31T03:58:37.701781Z"
    },
    "papermill": {
     "duration": 0.054469,
     "end_time": "2022-08-31T03:58:37.701948",
     "exception": false,
     "start_time": "2022-08-31T03:58:37.647479",
     "status": "completed"
    },
    "tags": []
   },
   "outputs": [],
   "source": [
    "#hide_input\n",
    "#sum_corr = df_all_mrk.corr().sum().sort_values(ascending=True).index.values\n",
    "#df_all_mrk[sum_corr].corr()"
   ]
  },
  {
   "cell_type": "code",
   "execution_count": 11,
   "id": "other-painting",
   "metadata": {
    "execution": {
     "iopub.execute_input": "2022-08-31T03:58:37.739462Z",
     "iopub.status.busy": "2022-08-31T03:58:37.738757Z",
     "iopub.status.idle": "2022-08-31T03:58:37.773512Z",
     "shell.execute_reply": "2022-08-31T03:58:37.772508Z"
    },
    "papermill": {
     "duration": 0.056475,
     "end_time": "2022-08-31T03:58:37.773649",
     "exception": false,
     "start_time": "2022-08-31T03:58:37.717174",
     "status": "completed"
    },
    "tags": []
   },
   "outputs": [],
   "source": [
    "#hide\n",
    "#Koreliacijos matrica. "
   ]
  },
  {
   "cell_type": "code",
   "execution_count": 12,
   "id": "modular-magnitude",
   "metadata": {
    "execution": {
     "iopub.execute_input": "2022-08-31T03:58:37.809027Z",
     "iopub.status.busy": "2022-08-31T03:58:37.808318Z",
     "iopub.status.idle": "2022-08-31T03:58:37.843725Z",
     "shell.execute_reply": "2022-08-31T03:58:37.842741Z"
    },
    "papermill": {
     "duration": 0.054827,
     "end_time": "2022-08-31T03:58:37.843939",
     "exception": false,
     "start_time": "2022-08-31T03:58:37.789112",
     "status": "completed"
    },
    "tags": []
   },
   "outputs": [],
   "source": [
    "#hide_input\n",
    "#plt.figure(figsize=(15, 8))\n",
    "#sns.heatmap(df_all_mrk[sum_corr].corr(), annot=True, cmap=\"BrBG\");\n",
    "#plt.savefig('corr_matrix_all.eps', format='eps')"
   ]
  },
  {
   "cell_type": "code",
   "execution_count": null,
   "id": "original-senator",
   "metadata": {
    "papermill": {
     "duration": 0.015176,
     "end_time": "2022-08-31T03:58:37.874464",
     "exception": false,
     "start_time": "2022-08-31T03:58:37.859288",
     "status": "completed"
    },
    "tags": []
   },
   "outputs": [],
   "source": []
  },
  {
   "cell_type": "code",
   "execution_count": null,
   "id": "saving-secretariat",
   "metadata": {
    "papermill": {
     "duration": 0.014993,
     "end_time": "2022-08-31T03:58:37.905325",
     "exception": false,
     "start_time": "2022-08-31T03:58:37.890332",
     "status": "completed"
    },
    "tags": []
   },
   "outputs": [],
   "source": []
  }
 ],
 "metadata": {
  "kernelspec": {
   "display_name": "Python 3",
   "language": "python",
   "name": "python3"
  },
  "language_info": {
   "codemirror_mode": {
    "name": "ipython",
    "version": 3
   },
   "file_extension": ".py",
   "mimetype": "text/x-python",
   "name": "python",
   "nbconvert_exporter": "python",
   "pygments_lexer": "ipython3",
   "version": "3.6.15"
  },
  "papermill": {
   "default_parameters": {},
   "duration": 25.499454,
   "end_time": "2022-08-31T03:58:38.541895",
   "environment_variables": {},
   "exception": null,
   "input_path": "App-Correlation_charts.ipynb",
   "output_path": "App-Correlation_charts.ipynb",
   "parameters": {},
   "start_time": "2022-08-31T03:58:13.042441",
   "version": "2.2.2"
  }
 },
 "nbformat": 4,
 "nbformat_minor": 5
}