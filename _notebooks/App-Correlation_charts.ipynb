{
 "cells": [
  {
   "cell_type": "markdown",
   "id": "touched-facility",
   "metadata": {
    "papermill": {
     "duration": 0.014317,
     "end_time": "2022-07-22T03:19:53.695585",
     "exception": false,
     "start_time": "2022-07-22T03:19:53.681268",
     "status": "completed"
    },
    "tags": []
   },
   "source": [
    "# Koreliacijų matrica\n",
    "> Išplėstinė koreliacijų matrica. \n",
    "\n",
    "- toc: true \n",
    "- badges: true\n",
    "- comments: false\n",
    "- categories: [Dominykas Tautkus]\n",
    "- image: images/matrix.png"
   ]
  },
  {
   "cell_type": "code",
   "execution_count": null,
   "id": "premium-weekend",
   "metadata": {
    "papermill": {
     "duration": 0.010664,
     "end_time": "2022-07-22T03:19:53.717746",
     "exception": false,
     "start_time": "2022-07-22T03:19:53.707082",
     "status": "completed"
    },
    "tags": []
   },
   "outputs": [],
   "source": []
  },
  {
   "cell_type": "code",
   "execution_count": 1,
   "id": "vertical-rebate",
   "metadata": {
    "execution": {
     "iopub.execute_input": "2022-07-22T03:19:53.749363Z",
     "iopub.status.busy": "2022-07-22T03:19:53.748772Z",
     "iopub.status.idle": "2022-07-22T03:19:53.760020Z",
     "shell.execute_reply": "2022-07-22T03:19:53.759563Z"
    },
    "papermill": {
     "duration": 0.031617,
     "end_time": "2022-07-22T03:19:53.760126",
     "exception": false,
     "start_time": "2022-07-22T03:19:53.728509",
     "status": "completed"
    },
    "tags": []
   },
   "outputs": [],
   "source": [
    "#hide\n",
    "%load_ext autoreload\n",
    "%autoreload 2"
   ]
  },
  {
   "cell_type": "code",
   "execution_count": 2,
   "id": "overall-advancement",
   "metadata": {
    "execution": {
     "iopub.execute_input": "2022-07-22T03:19:53.784941Z",
     "iopub.status.busy": "2022-07-22T03:19:53.784347Z",
     "iopub.status.idle": "2022-07-22T03:19:55.052869Z",
     "shell.execute_reply": "2022-07-22T03:19:55.053333Z"
    },
    "papermill": {
     "duration": 1.28262,
     "end_time": "2022-07-22T03:19:55.053472",
     "exception": false,
     "start_time": "2022-07-22T03:19:53.770852",
     "status": "completed"
    },
    "tags": []
   },
   "outputs": [],
   "source": [
    "#hide\n",
    "from scripts.read_data import read_api\n",
    "from IPython.display import HTML\n",
    "import plotly.graph_objects as go\n"
   ]
  },
  {
   "cell_type": "code",
   "execution_count": 3,
   "id": "light-crazy",
   "metadata": {
    "execution": {
     "iopub.execute_input": "2022-07-22T03:19:55.080323Z",
     "iopub.status.busy": "2022-07-22T03:19:55.079755Z",
     "iopub.status.idle": "2022-07-22T03:19:55.104803Z",
     "shell.execute_reply": "2022-07-22T03:19:55.104328Z"
    },
    "papermill": {
     "duration": 0.040349,
     "end_time": "2022-07-22T03:19:55.104909",
     "exception": false,
     "start_time": "2022-07-22T03:19:55.064560",
     "status": "completed"
    },
    "tags": []
   },
   "outputs": [],
   "source": [
    "#hide\n",
    "### ICO koreliacija"
   ]
  },
  {
   "cell_type": "code",
   "execution_count": 4,
   "id": "likely-bahrain",
   "metadata": {
    "execution": {
     "iopub.execute_input": "2022-07-22T03:19:55.130595Z",
     "iopub.status.busy": "2022-07-22T03:19:55.130030Z",
     "iopub.status.idle": "2022-07-22T03:19:55.954637Z",
     "shell.execute_reply": "2022-07-22T03:19:55.954124Z"
    },
    "papermill": {
     "duration": 0.839054,
     "end_time": "2022-07-22T03:19:55.954750",
     "exception": false,
     "start_time": "2022-07-22T03:19:55.115696",
     "status": "completed"
    },
    "tags": []
   },
   "outputs": [],
   "source": [
    "#hide\n",
    "import matplotlib.pyplot as plt\n",
    "import numpy as np\n",
    "import pandas as pd\n",
    "import seaborn as sns\n",
    "import matplotlib.pyplot as plt \n",
    "import matplotlib.dates as mdates\n",
    "import matplotlib.pyplot as plt"
   ]
  },
  {
   "cell_type": "code",
   "execution_count": 5,
   "id": "superior-blanket",
   "metadata": {
    "execution": {
     "iopub.execute_input": "2022-07-22T03:19:55.980809Z",
     "iopub.status.busy": "2022-07-22T03:19:55.980199Z",
     "iopub.status.idle": "2022-07-22T03:20:06.501058Z",
     "shell.execute_reply": "2022-07-22T03:20:06.501535Z"
    },
    "papermill": {
     "duration": 10.535832,
     "end_time": "2022-07-22T03:20:06.501668",
     "exception": false,
     "start_time": "2022-07-22T03:19:55.965836",
     "status": "completed"
    },
    "tags": []
   },
   "outputs": [
    {
     "name": "stderr",
     "output_type": "stream",
     "text": [
      "/home/runner/work/corr-app/corr-app/_notebooks/scripts/read_data.py:187: SettingWithCopyWarning:\n",
      "\n",
      "\n",
      "A value is trying to be set on a copy of a slice from a DataFrame.\n",
      "Try using .loc[row_indexer,col_indexer] = value instead\n",
      "\n",
      "See the caveats in the documentation: https://pandas.pydata.org/pandas-docs/stable/user_guide/indexing.html#returning-a-view-versus-a-copy\n",
      "\n"
     ]
    },
    {
     "name": "stderr",
     "output_type": "stream",
     "text": [
      "/home/runner/work/corr-app/corr-app/_notebooks/scripts/read_data.py:215: SettingWithCopyWarning:\n",
      "\n",
      "\n",
      "A value is trying to be set on a copy of a slice from a DataFrame.\n",
      "Try using .loc[row_indexer,col_indexer] = value instead\n",
      "\n",
      "See the caveats in the documentation: https://pandas.pydata.org/pandas-docs/stable/user_guide/indexing.html#returning-a-view-versus-a-copy\n",
      "\n"
     ]
    }
   ],
   "source": [
    "#hide\n",
    "df_all = read_api()\n",
    "#df_all = df_all.drop(['SP500', 'XAU', 'ETH', 'BTC'], axis=1)\n",
    "\n"
   ]
  },
  {
   "cell_type": "code",
   "execution_count": 6,
   "id": "mature-alert",
   "metadata": {
    "execution": {
     "iopub.execute_input": "2022-07-22T03:20:06.530312Z",
     "iopub.status.busy": "2022-07-22T03:20:06.529717Z",
     "iopub.status.idle": "2022-07-22T03:20:06.563954Z",
     "shell.execute_reply": "2022-07-22T03:20:06.563479Z"
    },
    "papermill": {
     "duration": 0.049041,
     "end_time": "2022-07-22T03:20:06.564060",
     "exception": false,
     "start_time": "2022-07-22T03:20:06.515019",
     "status": "completed"
    },
    "tags": []
   },
   "outputs": [],
   "source": [
    "#hide_input\n",
    "sum_corr = df_all.corr().sum().sort_values(ascending=True).index.values\n",
    "#df_all[sum_corr].corr()"
   ]
  },
  {
   "cell_type": "markdown",
   "id": "complex-syndicate",
   "metadata": {
    "papermill": {
     "duration": 0.01126,
     "end_time": "2022-07-22T03:20:06.586721",
     "exception": false,
     "start_time": "2022-07-22T03:20:06.575461",
     "status": "completed"
    },
    "tags": []
   },
   "source": [
    "## Išplėstinė koreliacijų matrica. "
   ]
  },
  {
   "cell_type": "code",
   "execution_count": 7,
   "id": "atomic-omaha",
   "metadata": {
    "execution": {
     "iopub.execute_input": "2022-07-22T03:20:06.612933Z",
     "iopub.status.busy": "2022-07-22T03:20:06.612332Z",
     "iopub.status.idle": "2022-07-22T03:20:07.832849Z",
     "shell.execute_reply": "2022-07-22T03:20:07.833295Z"
    },
    "papermill": {
     "duration": 1.235379,
     "end_time": "2022-07-22T03:20:07.833422",
     "exception": false,
     "start_time": "2022-07-22T03:20:06.598043",
     "status": "completed"
    },
    "tags": []
   },
   "outputs": [
    {
     "data": {
      "image/png": "[encoded data removed]",
      "text/plain": [
       "<Figure size 1080x792 with 2 Axes>"
      ]
     },
     "metadata": {
      "needs_background": "light"
     },
     "output_type": "display_data"
    }
   ],
   "source": [
    "#hide_input\n",
    "plt.figure(figsize=(15, 11))\n",
    "sns.heatmap(df_all[sum_corr].corr(), annot=True, cmap=\"cubehelix\") \n",
    "sns.set(font_scale=1.25)\n",
    "plt.savefig('corr_matrix.png', format='eps')"
   ]
  },
  {
   "cell_type": "code",
   "execution_count": 8,
   "id": "arbitrary-sullivan",
   "metadata": {
    "execution": {
     "iopub.execute_input": "2022-07-22T03:20:07.863928Z",
     "iopub.status.busy": "2022-07-22T03:20:07.863363Z",
     "iopub.status.idle": "2022-07-22T03:20:07.893079Z",
     "shell.execute_reply": "2022-07-22T03:20:07.893555Z"
    },
    "papermill": {
     "duration": 0.046573,
     "end_time": "2022-07-22T03:20:07.893683",
     "exception": false,
     "start_time": "2022-07-22T03:20:07.847110",
     "status": "completed"
    },
    "tags": []
   },
   "outputs": [],
   "source": [
    "#hide\n",
    "#df_all_mrk = read_api()"
   ]
  },
  {
   "cell_type": "code",
   "execution_count": 9,
   "id": "delayed-adapter",
   "metadata": {
    "execution": {
     "iopub.execute_input": "2022-07-22T03:20:07.959541Z",
     "iopub.status.busy": "2022-07-22T03:20:07.958962Z",
     "iopub.status.idle": "2022-07-22T03:20:07.988766Z",
     "shell.execute_reply": "2022-07-22T03:20:07.989276Z"
    },
    "papermill": {
     "duration": 0.08148,
     "end_time": "2022-07-22T03:20:07.989413",
     "exception": false,
     "start_time": "2022-07-22T03:20:07.907933",
     "status": "completed"
    },
    "tags": []
   },
   "outputs": [],
   "source": [
    "#hide\n",
    "#Koreliacijų koeficientai"
   ]
  },
  {
   "cell_type": "code",
   "execution_count": 10,
   "id": "seeing-celebration",
   "metadata": {
    "execution": {
     "iopub.execute_input": "2022-07-22T03:20:08.069653Z",
     "iopub.status.busy": "2022-07-22T03:20:08.063508Z",
     "iopub.status.idle": "2022-07-22T03:20:08.092728Z",
     "shell.execute_reply": "2022-07-22T03:20:08.093157Z"
    },
    "papermill": {
     "duration": 0.074571,
     "end_time": "2022-07-22T03:20:08.093283",
     "exception": false,
     "start_time": "2022-07-22T03:20:08.018712",
     "status": "completed"
    },
    "tags": []
   },
   "outputs": [],
   "source": [
    "#hide_input\n",
    "#sum_corr = df_all_mrk.corr().sum().sort_values(ascending=True).index.values\n",
    "#df_all_mrk[sum_corr].corr()"
   ]
  },
  {
   "cell_type": "code",
   "execution_count": 11,
   "id": "other-painting",
   "metadata": {
    "execution": {
     "iopub.execute_input": "2022-07-22T03:20:08.165643Z",
     "iopub.status.busy": "2022-07-22T03:20:08.165071Z",
     "iopub.status.idle": "2022-07-22T03:20:08.197573Z",
     "shell.execute_reply": "2022-07-22T03:20:08.196454Z"
    },
    "papermill": {
     "duration": 0.084834,
     "end_time": "2022-07-22T03:20:08.197694",
     "exception": false,
     "start_time": "2022-07-22T03:20:08.112860",
     "status": "completed"
    },
    "tags": []
   },
   "outputs": [],
   "source": [
    "#hide\n",
    "#Koreliacijos matrica. "
   ]
  },
  {
   "cell_type": "code",
   "execution_count": 12,
   "id": "modular-magnitude",
   "metadata": {
    "execution": {
     "iopub.execute_input": "2022-07-22T03:20:08.267395Z",
     "iopub.status.busy": "2022-07-22T03:20:08.266789Z",
     "iopub.status.idle": "2022-07-22T03:20:08.292815Z",
     "shell.execute_reply": "2022-07-22T03:20:08.293253Z"
    },
    "papermill": {
     "duration": 0.081977,
     "end_time": "2022-07-22T03:20:08.293384",
     "exception": false,
     "start_time": "2022-07-22T03:20:08.211407",
     "status": "completed"
    },
    "tags": []
   },
   "outputs": [],
   "source": [
    "#hide_input\n",
    "#plt.figure(figsize=(15, 8))\n",
    "#sns.heatmap(df_all_mrk[sum_corr].corr(), annot=True, cmap=\"BrBG\");\n",
    "#plt.savefig('corr_matrix_all.eps', format='eps')"
   ]
  },
  {
   "cell_type": "code",
   "execution_count": null,
   "id": "original-senator",
   "metadata": {
    "papermill": {
     "duration": 0.053685,
     "end_time": "2022-07-22T03:20:08.367759",
     "exception": false,
     "start_time": "2022-07-22T03:20:08.314074",
     "status": "completed"
    },
    "tags": []
   },
   "outputs": [],
   "source": []
  },
  {
   "cell_type": "code",
   "execution_count": null,
   "id": "saving-secretariat",
   "metadata": {
    "papermill": {
     "duration": 0.047493,
     "end_time": "2022-07-22T03:20:08.462126",
     "exception": false,
     "start_time": "2022-07-22T03:20:08.414633",
     "status": "completed"
    },
    "tags": []
   },
   "outputs": [],
   "source": []
  }
 ],
 "metadata": {
  "kernelspec": {
   "display_name": "Python 3",
   "language": "python",
   "name": "python3"
  },
  "language_info": {
   "codemirror_mode": {
    "name": "ipython",
    "version": 3
   },
   "file_extension": ".py",
   "mimetype": "text/x-python",
   "name": "python",
   "nbconvert_exporter": "python",
   "pygments_lexer": "ipython3",
   "version": "3.6.15"
  },
  "papermill": {
   "default_parameters": {},
   "duration": 16.380503,
   "end_time": "2022-07-22T03:20:08.928958",
   "environment_variables": {},
   "exception": null,
   "input_path": "App-Correlation_charts.ipynb",
   "output_path": "App-Correlation_charts.ipynb",
   "parameters": {},
   "start_time": "2022-07-22T03:19:52.548455",
   "version": "2.2.2"
  }
 },
 "nbformat": 4,
 "nbformat_minor": 5
}