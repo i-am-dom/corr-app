{
 "cells": [
  {
   "cell_type": "markdown",
   "id": "touched-facility",
   "metadata": {
    "papermill": {
     "duration": 0.016693,
     "end_time": "2022-10-14T03:49:10.599860",
     "exception": false,
     "start_time": "2022-10-14T03:49:10.583167",
     "status": "completed"
    },
    "tags": []
   },
   "source": [
    "# Koreliacijų matrica\n",
    "> Išplėstinė koreliacijų matrica. \n",
    "\n",
    "- toc: true \n",
    "- badges: true\n",
    "- comments: false\n",
    "- categories: [Dominykas Tautkus]\n",
    "- image: images/matrix.png"
   ]
  },
  {
   "cell_type": "code",
   "execution_count": null,
   "id": "premium-weekend",
   "metadata": {
    "papermill": {
     "duration": 0.012922,
     "end_time": "2022-10-14T03:49:10.627636",
     "exception": false,
     "start_time": "2022-10-14T03:49:10.614714",
     "status": "completed"
    },
    "tags": []
   },
   "outputs": [],
   "source": []
  },
  {
   "cell_type": "code",
   "execution_count": 1,
   "id": "vertical-rebate",
   "metadata": {
    "execution": {
     "iopub.execute_input": "2022-10-14T03:49:10.667557Z",
     "iopub.status.busy": "2022-10-14T03:49:10.666894Z",
     "iopub.status.idle": "2022-10-14T03:49:10.679998Z",
     "shell.execute_reply": "2022-10-14T03:49:10.679417Z"
    },
    "papermill": {
     "duration": 0.03952,
     "end_time": "2022-10-14T03:49:10.680137",
     "exception": false,
     "start_time": "2022-10-14T03:49:10.640617",
     "status": "completed"
    },
    "tags": []
   },
   "outputs": [],
   "source": [
    "#hide\n",
    "%load_ext autoreload\n",
    "%autoreload 2"
   ]
  },
  {
   "cell_type": "code",
   "execution_count": 2,
   "id": "overall-advancement",
   "metadata": {
    "execution": {
     "iopub.execute_input": "2022-10-14T03:49:10.713812Z",
     "iopub.status.busy": "2022-10-14T03:49:10.713093Z",
     "iopub.status.idle": "2022-10-14T03:49:12.152680Z",
     "shell.execute_reply": "2022-10-14T03:49:12.153209Z"
    },
    "papermill": {
     "duration": 1.457717,
     "end_time": "2022-10-14T03:49:12.153487",
     "exception": false,
     "start_time": "2022-10-14T03:49:10.695770",
     "status": "completed"
    },
    "tags": []
   },
   "outputs": [],
   "source": [
    "#hide\n",
    "from scripts.read_data import read_api\n",
    "from IPython.display import HTML\n",
    "import plotly.graph_objects as go\n"
   ]
  },
  {
   "cell_type": "code",
   "execution_count": 3,
   "id": "light-crazy",
   "metadata": {
    "execution": {
     "iopub.execute_input": "2022-10-14T03:49:12.184791Z",
     "iopub.status.busy": "2022-10-14T03:49:12.184041Z",
     "iopub.status.idle": "2022-10-14T03:49:12.211520Z",
     "shell.execute_reply": "2022-10-14T03:49:12.212036Z"
    },
    "papermill": {
     "duration": 0.044814,
     "end_time": "2022-10-14T03:49:12.212184",
     "exception": false,
     "start_time": "2022-10-14T03:49:12.167370",
     "status": "completed"
    },
    "tags": []
   },
   "outputs": [],
   "source": [
    "#hide\n",
    "### ICO koreliacija"
   ]
  },
  {
   "cell_type": "code",
   "execution_count": 4,
   "id": "likely-bahrain",
   "metadata": {
    "execution": {
     "iopub.execute_input": "2022-10-14T03:49:12.246034Z",
     "iopub.status.busy": "2022-10-14T03:49:12.245299Z",
     "iopub.status.idle": "2022-10-14T03:49:13.267259Z",
     "shell.execute_reply": "2022-10-14T03:49:13.267868Z"
    },
    "papermill": {
     "duration": 1.042848,
     "end_time": "2022-10-14T03:49:13.268038",
     "exception": false,
     "start_time": "2022-10-14T03:49:12.225190",
     "status": "completed"
    },
    "tags": []
   },
   "outputs": [],
   "source": [
    "#hide\n",
    "import matplotlib.pyplot as plt\n",
    "import numpy as np\n",
    "import pandas as pd\n",
    "import seaborn as sns\n",
    "import matplotlib.pyplot as plt \n",
    "import matplotlib.dates as mdates\n",
    "import matplotlib.pyplot as plt"
   ]
  },
  {
   "cell_type": "code",
   "execution_count": 5,
   "id": "superior-blanket",
   "metadata": {
    "execution": {
     "iopub.execute_input": "2022-10-14T03:49:13.302478Z",
     "iopub.status.busy": "2022-10-14T03:49:13.301725Z",
     "iopub.status.idle": "2022-10-14T03:49:27.519525Z",
     "shell.execute_reply": "2022-10-14T03:49:27.518904Z"
    },
    "papermill": {
     "duration": 14.237251,
     "end_time": "2022-10-14T03:49:27.519661",
     "exception": false,
     "start_time": "2022-10-14T03:49:13.282410",
     "status": "completed"
    },
    "tags": []
   },
   "outputs": [
    {
     "name": "stderr",
     "output_type": "stream",
     "text": [
      "/home/runner/work/corr-app/corr-app/_notebooks/scripts/read_data.py:187: SettingWithCopyWarning:\n",
      "\n",
      "\n",
      "A value is trying to be set on a copy of a slice from a DataFrame.\n",
      "Try using .loc[row_indexer,col_indexer] = value instead\n",
      "\n",
      "See the caveats in the documentation: https://pandas.pydata.org/pandas-docs/stable/user_guide/indexing.html#returning-a-view-versus-a-copy\n",
      "\n"
     ]
    },
    {
     "name": "stderr",
     "output_type": "stream",
     "text": [
      "/home/runner/work/corr-app/corr-app/_notebooks/scripts/read_data.py:215: SettingWithCopyWarning:\n",
      "\n",
      "\n",
      "A value is trying to be set on a copy of a slice from a DataFrame.\n",
      "Try using .loc[row_indexer,col_indexer] = value instead\n",
      "\n",
      "See the caveats in the documentation: https://pandas.pydata.org/pandas-docs/stable/user_guide/indexing.html#returning-a-view-versus-a-copy\n",
      "\n"
     ]
    }
   ],
   "source": [
    "#hide\n",
    "df_all = read_api()\n",
    "#df_all = df_all.drop(['SP500', 'XAU', 'ETH', 'BTC'], axis=1)\n",
    "\n"
   ]
  },
  {
   "cell_type": "code",
   "execution_count": 6,
   "id": "mature-alert",
   "metadata": {
    "execution": {
     "iopub.execute_input": "2022-10-14T03:49:27.554130Z",
     "iopub.status.busy": "2022-10-14T03:49:27.553392Z",
     "iopub.status.idle": "2022-10-14T03:49:27.589066Z",
     "shell.execute_reply": "2022-10-14T03:49:27.588419Z"
    },
    "papermill": {
     "duration": 0.054501,
     "end_time": "2022-10-14T03:49:27.589196",
     "exception": false,
     "start_time": "2022-10-14T03:49:27.534695",
     "status": "completed"
    },
    "tags": []
   },
   "outputs": [],
   "source": [
    "#hide_input\n",
    "sum_corr = df_all.corr().sum().sort_values(ascending=True).index.values\n",
    "#df_all[sum_corr].corr()"
   ]
  },
  {
   "cell_type": "markdown",
   "id": "complex-syndicate",
   "metadata": {
    "papermill": {
     "duration": 0.014486,
     "end_time": "2022-10-14T03:49:27.617861",
     "exception": false,
     "start_time": "2022-10-14T03:49:27.603375",
     "status": "completed"
    },
    "tags": []
   },
   "source": [
    "## Išplėstinė koreliacijų matrica. "
   ]
  },
  {
   "cell_type": "code",
   "execution_count": 7,
   "id": "atomic-omaha",
   "metadata": {
    "execution": {
     "iopub.execute_input": "2022-10-14T03:49:27.648456Z",
     "iopub.status.busy": "2022-10-14T03:49:27.647793Z",
     "iopub.status.idle": "2022-10-14T03:49:29.361088Z",
     "shell.execute_reply": "2022-10-14T03:49:29.357578Z"
    },
    "papermill": {
     "duration": 1.729868,
     "end_time": "2022-10-14T03:49:29.361247",
     "exception": false,
     "start_time": "2022-10-14T03:49:27.631379",
     "status": "completed"
    },
    "tags": []
   },
   "outputs": [
    {
     "data": {
      "image/png": "[encoded data removed]",
      "text/plain": [
       "<Figure size 1080x792 with 2 Axes>"
      ]
     },
     "metadata": {
      "needs_background": "light"
     },
     "output_type": "display_data"
    }
   ],
   "source": [
    "#hide_input\n",
    "plt.figure(figsize=(15, 11))\n",
    "sns.heatmap(df_all[sum_corr].corr(), annot=True, cmap=\"cubehelix\") \n",
    "sns.set(font_scale=1.25)\n",
    "plt.savefig('corr_matrix.png', format='eps')"
   ]
  },
  {
   "cell_type": "code",
   "execution_count": 8,
   "id": "arbitrary-sullivan",
   "metadata": {
    "execution": {
     "iopub.execute_input": "2022-10-14T03:49:29.398087Z",
     "iopub.status.busy": "2022-10-14T03:49:29.397483Z",
     "iopub.status.idle": "2022-10-14T03:49:29.428252Z",
     "shell.execute_reply": "2022-10-14T03:49:29.427483Z"
    },
    "papermill": {
     "duration": 0.051176,
     "end_time": "2022-10-14T03:49:29.428414",
     "exception": false,
     "start_time": "2022-10-14T03:49:29.377238",
     "status": "completed"
    },
    "tags": []
   },
   "outputs": [],
   "source": [
    "#hide\n",
    "#df_all_mrk = read_api()"
   ]
  },
  {
   "cell_type": "code",
   "execution_count": 9,
   "id": "delayed-adapter",
   "metadata": {
    "execution": {
     "iopub.execute_input": "2022-10-14T03:49:29.466444Z",
     "iopub.status.busy": "2022-10-14T03:49:29.465794Z",
     "iopub.status.idle": "2022-10-14T03:49:29.494364Z",
     "shell.execute_reply": "2022-10-14T03:49:29.494934Z"
    },
    "papermill": {
     "duration": 0.049722,
     "end_time": "2022-10-14T03:49:29.495074",
     "exception": false,
     "start_time": "2022-10-14T03:49:29.445352",
     "status": "completed"
    },
    "tags": []
   },
   "outputs": [],
   "source": [
    "#hide\n",
    "#Koreliacijų koeficientai"
   ]
  },
  {
   "cell_type": "code",
   "execution_count": 10,
   "id": "seeing-celebration",
   "metadata": {
    "execution": {
     "iopub.execute_input": "2022-10-14T03:49:29.532372Z",
     "iopub.status.busy": "2022-10-14T03:49:29.531709Z",
     "iopub.status.idle": "2022-10-14T03:49:29.563779Z",
     "shell.execute_reply": "2022-10-14T03:49:29.563265Z"
    },
    "papermill": {
     "duration": 0.052485,
     "end_time": "2022-10-14T03:49:29.563910",
     "exception": false,
     "start_time": "2022-10-14T03:49:29.511425",
     "status": "completed"
    },
    "tags": []
   },
   "outputs": [],
   "source": [
    "#hide_input\n",
    "#sum_corr = df_all_mrk.corr().sum().sort_values(ascending=True).index.values\n",
    "#df_all_mrk[sum_corr].corr()"
   ]
  },
  {
   "cell_type": "code",
   "execution_count": 11,
   "id": "other-painting",
   "metadata": {
    "execution": {
     "iopub.execute_input": "2022-10-14T03:49:29.603280Z",
     "iopub.status.busy": "2022-10-14T03:49:29.602265Z",
     "iopub.status.idle": "2022-10-14T03:49:29.632144Z",
     "shell.execute_reply": "2022-10-14T03:49:29.631573Z"
    },
    "papermill": {
     "duration": 0.052568,
     "end_time": "2022-10-14T03:49:29.632274",
     "exception": false,
     "start_time": "2022-10-14T03:49:29.579706",
     "status": "completed"
    },
    "tags": []
   },
   "outputs": [],
   "source": [
    "#hide\n",
    "#Koreliacijos matrica. "
   ]
  },
  {
   "cell_type": "code",
   "execution_count": 12,
   "id": "modular-magnitude",
   "metadata": {
    "execution": {
     "iopub.execute_input": "2022-10-14T03:49:29.673928Z",
     "iopub.status.busy": "2022-10-14T03:49:29.673252Z",
     "iopub.status.idle": "2022-10-14T03:49:29.701363Z",
     "shell.execute_reply": "2022-10-14T03:49:29.700768Z"
    },
    "papermill": {
     "duration": 0.054427,
     "end_time": "2022-10-14T03:49:29.701572",
     "exception": false,
     "start_time": "2022-10-14T03:49:29.647145",
     "status": "completed"
    },
    "tags": []
   },
   "outputs": [],
   "source": [
    "#hide_input\n",
    "#plt.figure(figsize=(15, 8))\n",
    "#sns.heatmap(df_all_mrk[sum_corr].corr(), annot=True, cmap=\"BrBG\");\n",
    "#plt.savefig('corr_matrix_all.eps', format='eps')"
   ]
  },
  {
   "cell_type": "code",
   "execution_count": null,
   "id": "original-senator",
   "metadata": {
    "papermill": {
     "duration": 0.016964,
     "end_time": "2022-10-14T03:49:29.734994",
     "exception": false,
     "start_time": "2022-10-14T03:49:29.718030",
     "status": "completed"
    },
    "tags": []
   },
   "outputs": [],
   "source": []
  },
  {
   "cell_type": "code",
   "execution_count": null,
   "id": "saving-secretariat",
   "metadata": {
    "papermill": {
     "duration": 0.015716,
     "end_time": "2022-10-14T03:49:29.767086",
     "exception": false,
     "start_time": "2022-10-14T03:49:29.751370",
     "status": "completed"
    },
    "tags": []
   },
   "outputs": [],
   "source": []
  }
 ],
 "metadata": {
  "kernelspec": {
   "display_name": "Python 3",
   "language": "python",
   "name": "python3"
  },
  "language_info": {
   "codemirror_mode": {
    "name": "ipython",
    "version": 3
   },
   "file_extension": ".py",
   "mimetype": "text/x-python",
   "name": "python",
   "nbconvert_exporter": "python",
   "pygments_lexer": "ipython3",
   "version": "3.6.15"
  },
  "papermill": {
   "default_parameters": {},
   "duration": 21.180686,
   "end_time": "2022-10-14T03:49:30.408631",
   "environment_variables": {},
   "exception": null,
   "input_path": "App-Correlation_charts.ipynb",
   "output_path": "App-Correlation_charts.ipynb",
   "parameters": {},
   "start_time": "2022-10-14T03:49:09.227945",
   "version": "2.2.2"
  }
 },
 "nbformat": 4,
 "nbformat_minor": 5
}