{
 "cells": [
  {
   "cell_type": "markdown",
   "id": "touched-facility",
   "metadata": {
    "papermill": {
     "duration": 0.01765,
     "end_time": "2022-09-28T03:41:16.363788",
     "exception": false,
     "start_time": "2022-09-28T03:41:16.346138",
     "status": "completed"
    },
    "tags": []
   },
   "source": [
    "# Koreliacijų matrica\n",
    "> Išplėstinė koreliacijų matrica. \n",
    "\n",
    "- toc: true \n",
    "- badges: true\n",
    "- comments: false\n",
    "- categories: [Dominykas Tautkus]\n",
    "- image: images/matrix.png"
   ]
  },
  {
   "cell_type": "code",
   "execution_count": null,
   "id": "premium-weekend",
   "metadata": {
    "papermill": {
     "duration": 0.013091,
     "end_time": "2022-09-28T03:41:16.393114",
     "exception": false,
     "start_time": "2022-09-28T03:41:16.380023",
     "status": "completed"
    },
    "tags": []
   },
   "outputs": [],
   "source": []
  },
  {
   "cell_type": "code",
   "execution_count": 1,
   "id": "vertical-rebate",
   "metadata": {
    "execution": {
     "iopub.execute_input": "2022-09-28T03:41:16.429414Z",
     "iopub.status.busy": "2022-09-28T03:41:16.428740Z",
     "iopub.status.idle": "2022-09-28T03:41:16.440158Z",
     "shell.execute_reply": "2022-09-28T03:41:16.439595Z"
    },
    "papermill": {
     "duration": 0.034656,
     "end_time": "2022-09-28T03:41:16.440291",
     "exception": false,
     "start_time": "2022-09-28T03:41:16.405635",
     "status": "completed"
    },
    "tags": []
   },
   "outputs": [],
   "source": [
    "#hide\n",
    "%load_ext autoreload\n",
    "%autoreload 2"
   ]
  },
  {
   "cell_type": "code",
   "execution_count": 2,
   "id": "overall-advancement",
   "metadata": {
    "execution": {
     "iopub.execute_input": "2022-09-28T03:41:16.469037Z",
     "iopub.status.busy": "2022-09-28T03:41:16.468267Z",
     "iopub.status.idle": "2022-09-28T03:41:17.907663Z",
     "shell.execute_reply": "2022-09-28T03:41:17.906532Z"
    },
    "papermill": {
     "duration": 1.455235,
     "end_time": "2022-09-28T03:41:17.907815",
     "exception": false,
     "start_time": "2022-09-28T03:41:16.452580",
     "status": "completed"
    },
    "tags": []
   },
   "outputs": [],
   "source": [
    "#hide\n",
    "from scripts.read_data import read_api\n",
    "from IPython.display import HTML\n",
    "import plotly.graph_objects as go\n"
   ]
  },
  {
   "cell_type": "code",
   "execution_count": 3,
   "id": "light-crazy",
   "metadata": {
    "execution": {
     "iopub.execute_input": "2022-09-28T03:41:17.940173Z",
     "iopub.status.busy": "2022-09-28T03:41:17.938931Z",
     "iopub.status.idle": "2022-09-28T03:41:17.962136Z",
     "shell.execute_reply": "2022-09-28T03:41:17.962753Z"
    },
    "papermill": {
     "duration": 0.041651,
     "end_time": "2022-09-28T03:41:17.962889",
     "exception": false,
     "start_time": "2022-09-28T03:41:17.921238",
     "status": "completed"
    },
    "tags": []
   },
   "outputs": [],
   "source": [
    "#hide\n",
    "### ICO koreliacija"
   ]
  },
  {
   "cell_type": "code",
   "execution_count": 4,
   "id": "likely-bahrain",
   "metadata": {
    "execution": {
     "iopub.execute_input": "2022-09-28T03:41:17.998160Z",
     "iopub.status.busy": "2022-09-28T03:41:17.996464Z",
     "iopub.status.idle": "2022-09-28T03:41:18.954192Z",
     "shell.execute_reply": "2022-09-28T03:41:18.953597Z"
    },
    "papermill": {
     "duration": 0.978965,
     "end_time": "2022-09-28T03:41:18.954327",
     "exception": false,
     "start_time": "2022-09-28T03:41:17.975362",
     "status": "completed"
    },
    "tags": []
   },
   "outputs": [],
   "source": [
    "#hide\n",
    "import matplotlib.pyplot as plt\n",
    "import numpy as np\n",
    "import pandas as pd\n",
    "import seaborn as sns\n",
    "import matplotlib.pyplot as plt \n",
    "import matplotlib.dates as mdates\n",
    "import matplotlib.pyplot as plt"
   ]
  },
  {
   "cell_type": "code",
   "execution_count": 5,
   "id": "superior-blanket",
   "metadata": {
    "execution": {
     "iopub.execute_input": "2022-09-28T03:41:18.986558Z",
     "iopub.status.busy": "2022-09-28T03:41:18.985788Z",
     "iopub.status.idle": "2022-09-28T03:41:38.563050Z",
     "shell.execute_reply": "2022-09-28T03:41:38.563916Z"
    },
    "papermill": {
     "duration": 19.597033,
     "end_time": "2022-09-28T03:41:38.564075",
     "exception": false,
     "start_time": "2022-09-28T03:41:18.967042",
     "status": "completed"
    },
    "tags": []
   },
   "outputs": [
    {
     "name": "stderr",
     "output_type": "stream",
     "text": [
      "/home/runner/work/corr-app/corr-app/_notebooks/scripts/read_data.py:187: SettingWithCopyWarning:\n",
      "\n",
      "\n",
      "A value is trying to be set on a copy of a slice from a DataFrame.\n",
      "Try using .loc[row_indexer,col_indexer] = value instead\n",
      "\n",
      "See the caveats in the documentation: https://pandas.pydata.org/pandas-docs/stable/user_guide/indexing.html#returning-a-view-versus-a-copy\n",
      "\n"
     ]
    },
    {
     "name": "stderr",
     "output_type": "stream",
     "text": [
      "/home/runner/work/corr-app/corr-app/_notebooks/scripts/read_data.py:215: SettingWithCopyWarning:\n",
      "\n",
      "\n",
      "A value is trying to be set on a copy of a slice from a DataFrame.\n",
      "Try using .loc[row_indexer,col_indexer] = value instead\n",
      "\n",
      "See the caveats in the documentation: https://pandas.pydata.org/pandas-docs/stable/user_guide/indexing.html#returning-a-view-versus-a-copy\n",
      "\n"
     ]
    }
   ],
   "source": [
    "#hide\n",
    "df_all = read_api()\n",
    "#df_all = df_all.drop(['SP500', 'XAU', 'ETH', 'BTC'], axis=1)\n",
    "\n"
   ]
  },
  {
   "cell_type": "code",
   "execution_count": 6,
   "id": "mature-alert",
   "metadata": {
    "execution": {
     "iopub.execute_input": "2022-09-28T03:41:38.603777Z",
     "iopub.status.busy": "2022-09-28T03:41:38.602687Z",
     "iopub.status.idle": "2022-09-28T03:41:38.634355Z",
     "shell.execute_reply": "2022-09-28T03:41:38.633268Z"
    },
    "papermill": {
     "duration": 0.055614,
     "end_time": "2022-09-28T03:41:38.634504",
     "exception": false,
     "start_time": "2022-09-28T03:41:38.578890",
     "status": "completed"
    },
    "tags": []
   },
   "outputs": [],
   "source": [
    "#hide_input\n",
    "sum_corr = df_all.corr().sum().sort_values(ascending=True).index.values\n",
    "#df_all[sum_corr].corr()"
   ]
  },
  {
   "cell_type": "markdown",
   "id": "complex-syndicate",
   "metadata": {
    "papermill": {
     "duration": 0.012732,
     "end_time": "2022-09-28T03:41:38.660771",
     "exception": false,
     "start_time": "2022-09-28T03:41:38.648039",
     "status": "completed"
    },
    "tags": []
   },
   "source": [
    "## Išplėstinė koreliacijų matrica. "
   ]
  },
  {
   "cell_type": "code",
   "execution_count": 7,
   "id": "atomic-omaha",
   "metadata": {
    "execution": {
     "iopub.execute_input": "2022-09-28T03:41:38.692334Z",
     "iopub.status.busy": "2022-09-28T03:41:38.691033Z",
     "iopub.status.idle": "2022-09-28T03:41:40.271903Z",
     "shell.execute_reply": "2022-09-28T03:41:40.272399Z"
    },
    "papermill": {
     "duration": 1.598263,
     "end_time": "2022-09-28T03:41:40.272555",
     "exception": false,
     "start_time": "2022-09-28T03:41:38.674292",
     "status": "completed"
    },
    "tags": []
   },
   "outputs": [
    {
     "data": {
      "image/png": "[encoded data removed]",
      "text/plain": [
       "<Figure size 1080x792 with 2 Axes>"
      ]
     },
     "metadata": {
      "needs_background": "light"
     },
     "output_type": "display_data"
    }
   ],
   "source": [
    "#hide_input\n",
    "plt.figure(figsize=(15, 11))\n",
    "sns.heatmap(df_all[sum_corr].corr(), annot=True, cmap=\"cubehelix\") \n",
    "sns.set(font_scale=1.25)\n",
    "plt.savefig('corr_matrix.png', format='eps')"
   ]
  },
  {
   "cell_type": "code",
   "execution_count": 8,
   "id": "arbitrary-sullivan",
   "metadata": {
    "execution": {
     "iopub.execute_input": "2022-09-28T03:41:40.310368Z",
     "iopub.status.busy": "2022-09-28T03:41:40.309391Z",
     "iopub.status.idle": "2022-09-28T03:41:40.339969Z",
     "shell.execute_reply": "2022-09-28T03:41:40.339269Z"
    },
    "papermill": {
     "duration": 0.051533,
     "end_time": "2022-09-28T03:41:40.340108",
     "exception": false,
     "start_time": "2022-09-28T03:41:40.288575",
     "status": "completed"
    },
    "tags": []
   },
   "outputs": [],
   "source": [
    "#hide\n",
    "#df_all_mrk = read_api()"
   ]
  },
  {
   "cell_type": "code",
   "execution_count": 9,
   "id": "delayed-adapter",
   "metadata": {
    "execution": {
     "iopub.execute_input": "2022-09-28T03:41:40.377208Z",
     "iopub.status.busy": "2022-09-28T03:41:40.376377Z",
     "iopub.status.idle": "2022-09-28T03:41:40.406929Z",
     "shell.execute_reply": "2022-09-28T03:41:40.406333Z"
    },
    "papermill": {
     "duration": 0.051321,
     "end_time": "2022-09-28T03:41:40.407147",
     "exception": false,
     "start_time": "2022-09-28T03:41:40.355826",
     "status": "completed"
    },
    "tags": []
   },
   "outputs": [],
   "source": [
    "#hide\n",
    "#Koreliacijų koeficientai"
   ]
  },
  {
   "cell_type": "code",
   "execution_count": 10,
   "id": "seeing-celebration",
   "metadata": {
    "execution": {
     "iopub.execute_input": "2022-09-28T03:41:40.440776Z",
     "iopub.status.busy": "2022-09-28T03:41:40.439965Z",
     "iopub.status.idle": "2022-09-28T03:41:40.468235Z",
     "shell.execute_reply": "2022-09-28T03:41:40.468763Z"
    },
    "papermill": {
     "duration": 0.04688,
     "end_time": "2022-09-28T03:41:40.468896",
     "exception": false,
     "start_time": "2022-09-28T03:41:40.422016",
     "status": "completed"
    },
    "tags": []
   },
   "outputs": [],
   "source": [
    "#hide_input\n",
    "#sum_corr = df_all_mrk.corr().sum().sort_values(ascending=True).index.values\n",
    "#df_all_mrk[sum_corr].corr()"
   ]
  },
  {
   "cell_type": "code",
   "execution_count": 11,
   "id": "other-painting",
   "metadata": {
    "execution": {
     "iopub.execute_input": "2022-09-28T03:41:40.505450Z",
     "iopub.status.busy": "2022-09-28T03:41:40.503865Z",
     "iopub.status.idle": "2022-09-28T03:41:40.532540Z",
     "shell.execute_reply": "2022-09-28T03:41:40.532025Z"
    },
    "papermill": {
     "duration": 0.048478,
     "end_time": "2022-09-28T03:41:40.532662",
     "exception": false,
     "start_time": "2022-09-28T03:41:40.484184",
     "status": "completed"
    },
    "tags": []
   },
   "outputs": [],
   "source": [
    "#hide\n",
    "#Koreliacijos matrica. "
   ]
  },
  {
   "cell_type": "code",
   "execution_count": 12,
   "id": "modular-magnitude",
   "metadata": {
    "execution": {
     "iopub.execute_input": "2022-09-28T03:41:40.568373Z",
     "iopub.status.busy": "2022-09-28T03:41:40.567503Z",
     "iopub.status.idle": "2022-09-28T03:41:40.594821Z",
     "shell.execute_reply": "2022-09-28T03:41:40.594278Z"
    },
    "papermill": {
     "duration": 0.047123,
     "end_time": "2022-09-28T03:41:40.594943",
     "exception": false,
     "start_time": "2022-09-28T03:41:40.547820",
     "status": "completed"
    },
    "tags": []
   },
   "outputs": [],
   "source": [
    "#hide_input\n",
    "#plt.figure(figsize=(15, 8))\n",
    "#sns.heatmap(df_all_mrk[sum_corr].corr(), annot=True, cmap=\"BrBG\");\n",
    "#plt.savefig('corr_matrix_all.eps', format='eps')"
   ]
  },
  {
   "cell_type": "code",
   "execution_count": null,
   "id": "original-senator",
   "metadata": {
    "papermill": {
     "duration": 0.014636,
     "end_time": "2022-09-28T03:41:40.624326",
     "exception": false,
     "start_time": "2022-09-28T03:41:40.609690",
     "status": "completed"
    },
    "tags": []
   },
   "outputs": [],
   "source": []
  },
  {
   "cell_type": "code",
   "execution_count": null,
   "id": "saving-secretariat",
   "metadata": {
    "papermill": {
     "duration": 0.017475,
     "end_time": "2022-09-28T03:41:40.656947",
     "exception": false,
     "start_time": "2022-09-28T03:41:40.639472",
     "status": "completed"
    },
    "tags": []
   },
   "outputs": [],
   "source": []
  }
 ],
 "metadata": {
  "kernelspec": {
   "display_name": "Python 3",
   "language": "python",
   "name": "python3"
  },
  "language_info": {
   "codemirror_mode": {
    "name": "ipython",
    "version": 3
   },
   "file_extension": ".py",
   "mimetype": "text/x-python",
   "name": "python",
   "nbconvert_exporter": "python",
   "pygments_lexer": "ipython3",
   "version": "3.6.15"
  },
  "papermill": {
   "default_parameters": {},
   "duration": 26.117865,
   "end_time": "2022-09-28T03:41:41.192177",
   "environment_variables": {},
   "exception": null,
   "input_path": "App-Correlation_charts.ipynb",
   "output_path": "App-Correlation_charts.ipynb",
   "parameters": {},
   "start_time": "2022-09-28T03:41:15.074312",
   "version": "2.2.2"
  }
 },
 "nbformat": 4,
 "nbformat_minor": 5
}