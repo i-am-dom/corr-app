{
 "cells": [
  {
   "cell_type": "markdown",
   "id": "touched-facility",
   "metadata": {
    "papermill": {
     "duration": 0.016386,
     "end_time": "2022-10-18T03:43:41.834090",
     "exception": false,
     "start_time": "2022-10-18T03:43:41.817704",
     "status": "completed"
    },
    "tags": []
   },
   "source": [
    "# Koreliacijų matrica\n",
    "> Išplėstinė koreliacijų matrica. \n",
    "\n",
    "- toc: true \n",
    "- badges: true\n",
    "- comments: false\n",
    "- categories: [Dominykas Tautkus]\n",
    "- image: images/matrix.png"
   ]
  },
  {
   "cell_type": "code",
   "execution_count": null,
   "id": "premium-weekend",
   "metadata": {
    "papermill": {
     "duration": 0.012358,
     "end_time": "2022-10-18T03:43:41.859815",
     "exception": false,
     "start_time": "2022-10-18T03:43:41.847457",
     "status": "completed"
    },
    "tags": []
   },
   "outputs": [],
   "source": []
  },
  {
   "cell_type": "code",
   "execution_count": 1,
   "id": "vertical-rebate",
   "metadata": {
    "execution": {
     "iopub.execute_input": "2022-10-18T03:43:41.897363Z",
     "iopub.status.busy": "2022-10-18T03:43:41.896641Z",
     "iopub.status.idle": "2022-10-18T03:43:41.909158Z",
     "shell.execute_reply": "2022-10-18T03:43:41.909707Z"
    },
    "papermill": {
     "duration": 0.03792,
     "end_time": "2022-10-18T03:43:41.909879",
     "exception": false,
     "start_time": "2022-10-18T03:43:41.871959",
     "status": "completed"
    },
    "tags": []
   },
   "outputs": [],
   "source": [
    "#hide\n",
    "%load_ext autoreload\n",
    "%autoreload 2"
   ]
  },
  {
   "cell_type": "code",
   "execution_count": 2,
   "id": "overall-advancement",
   "metadata": {
    "execution": {
     "iopub.execute_input": "2022-10-18T03:43:41.941765Z",
     "iopub.status.busy": "2022-10-18T03:43:41.941068Z",
     "iopub.status.idle": "2022-10-18T03:43:43.375117Z",
     "shell.execute_reply": "2022-10-18T03:43:43.375658Z"
    },
    "papermill": {
     "duration": 1.453819,
     "end_time": "2022-10-18T03:43:43.375824",
     "exception": false,
     "start_time": "2022-10-18T03:43:41.922005",
     "status": "completed"
    },
    "tags": []
   },
   "outputs": [],
   "source": [
    "#hide\n",
    "from scripts.read_data import read_api\n",
    "from IPython.display import HTML\n",
    "import plotly.graph_objects as go\n"
   ]
  },
  {
   "cell_type": "code",
   "execution_count": 3,
   "id": "light-crazy",
   "metadata": {
    "execution": {
     "iopub.execute_input": "2022-10-18T03:43:43.412729Z",
     "iopub.status.busy": "2022-10-18T03:43:43.411687Z",
     "iopub.status.idle": "2022-10-18T03:43:43.440320Z",
     "shell.execute_reply": "2022-10-18T03:43:43.439488Z"
    },
    "papermill": {
     "duration": 0.046624,
     "end_time": "2022-10-18T03:43:43.440500",
     "exception": false,
     "start_time": "2022-10-18T03:43:43.393876",
     "status": "completed"
    },
    "tags": []
   },
   "outputs": [],
   "source": [
    "#hide\n",
    "### ICO koreliacija"
   ]
  },
  {
   "cell_type": "code",
   "execution_count": 4,
   "id": "likely-bahrain",
   "metadata": {
    "execution": {
     "iopub.execute_input": "2022-10-18T03:43:43.471396Z",
     "iopub.status.busy": "2022-10-18T03:43:43.470705Z",
     "iopub.status.idle": "2022-10-18T03:43:44.462448Z",
     "shell.execute_reply": "2022-10-18T03:43:44.461014Z"
    },
    "papermill": {
     "duration": 1.009001,
     "end_time": "2022-10-18T03:43:44.462597",
     "exception": false,
     "start_time": "2022-10-18T03:43:43.453596",
     "status": "completed"
    },
    "tags": []
   },
   "outputs": [],
   "source": [
    "#hide\n",
    "import matplotlib.pyplot as plt\n",
    "import numpy as np\n",
    "import pandas as pd\n",
    "import seaborn as sns\n",
    "import matplotlib.pyplot as plt \n",
    "import matplotlib.dates as mdates\n",
    "import matplotlib.pyplot as plt"
   ]
  },
  {
   "cell_type": "code",
   "execution_count": 5,
   "id": "superior-blanket",
   "metadata": {
    "execution": {
     "iopub.execute_input": "2022-10-18T03:43:44.493340Z",
     "iopub.status.busy": "2022-10-18T03:43:44.492637Z",
     "iopub.status.idle": "2022-10-18T03:43:56.869337Z",
     "shell.execute_reply": "2022-10-18T03:43:56.868724Z"
    },
    "papermill": {
     "duration": 12.394502,
     "end_time": "2022-10-18T03:43:56.869470",
     "exception": false,
     "start_time": "2022-10-18T03:43:44.474968",
     "status": "completed"
    },
    "tags": []
   },
   "outputs": [
    {
     "name": "stderr",
     "output_type": "stream",
     "text": [
      "/home/runner/work/corr-app/corr-app/_notebooks/scripts/read_data.py:187: SettingWithCopyWarning:\n",
      "\n",
      "\n",
      "A value is trying to be set on a copy of a slice from a DataFrame.\n",
      "Try using .loc[row_indexer,col_indexer] = value instead\n",
      "\n",
      "See the caveats in the documentation: https://pandas.pydata.org/pandas-docs/stable/user_guide/indexing.html#returning-a-view-versus-a-copy\n",
      "\n"
     ]
    },
    {
     "name": "stderr",
     "output_type": "stream",
     "text": [
      "/home/runner/work/corr-app/corr-app/_notebooks/scripts/read_data.py:215: SettingWithCopyWarning:\n",
      "\n",
      "\n",
      "A value is trying to be set on a copy of a slice from a DataFrame.\n",
      "Try using .loc[row_indexer,col_indexer] = value instead\n",
      "\n",
      "See the caveats in the documentation: https://pandas.pydata.org/pandas-docs/stable/user_guide/indexing.html#returning-a-view-versus-a-copy\n",
      "\n"
     ]
    }
   ],
   "source": [
    "#hide\n",
    "df_all = read_api()\n",
    "#df_all = df_all.drop(['SP500', 'XAU', 'ETH', 'BTC'], axis=1)\n",
    "\n"
   ]
  },
  {
   "cell_type": "code",
   "execution_count": 6,
   "id": "mature-alert",
   "metadata": {
    "execution": {
     "iopub.execute_input": "2022-10-18T03:43:56.902540Z",
     "iopub.status.busy": "2022-10-18T03:43:56.901857Z",
     "iopub.status.idle": "2022-10-18T03:43:56.937298Z",
     "shell.execute_reply": "2022-10-18T03:43:56.936399Z"
    },
    "papermill": {
     "duration": 0.053383,
     "end_time": "2022-10-18T03:43:56.937474",
     "exception": false,
     "start_time": "2022-10-18T03:43:56.884091",
     "status": "completed"
    },
    "tags": []
   },
   "outputs": [],
   "source": [
    "#hide_input\n",
    "sum_corr = df_all.corr().sum().sort_values(ascending=True).index.values\n",
    "#df_all[sum_corr].corr()"
   ]
  },
  {
   "cell_type": "markdown",
   "id": "complex-syndicate",
   "metadata": {
    "papermill": {
     "duration": 0.012595,
     "end_time": "2022-10-18T03:43:56.963454",
     "exception": false,
     "start_time": "2022-10-18T03:43:56.950859",
     "status": "completed"
    },
    "tags": []
   },
   "source": [
    "## Išplėstinė koreliacijų matrica. "
   ]
  },
  {
   "cell_type": "code",
   "execution_count": 7,
   "id": "atomic-omaha",
   "metadata": {
    "execution": {
     "iopub.execute_input": "2022-10-18T03:43:56.994561Z",
     "iopub.status.busy": "2022-10-18T03:43:56.993880Z",
     "iopub.status.idle": "2022-10-18T03:43:58.387134Z",
     "shell.execute_reply": "2022-10-18T03:43:58.387673Z"
    },
    "papermill": {
     "duration": 1.411785,
     "end_time": "2022-10-18T03:43:58.387829",
     "exception": false,
     "start_time": "2022-10-18T03:43:56.976044",
     "status": "completed"
    },
    "tags": []
   },
   "outputs": [
    {
     "data": {
      "image/png": "[encoded data removed]",
      "text/plain": [
       "<Figure size 1080x792 with 2 Axes>"
      ]
     },
     "metadata": {
      "needs_background": "light"
     },
     "output_type": "display_data"
    }
   ],
   "source": [
    "#hide_input\n",
    "plt.figure(figsize=(15, 11))\n",
    "sns.heatmap(df_all[sum_corr].corr(), annot=True, cmap=\"cubehelix\") \n",
    "sns.set(font_scale=1.25)\n",
    "plt.savefig('corr_matrix.png', format='eps')"
   ]
  },
  {
   "cell_type": "code",
   "execution_count": 8,
   "id": "arbitrary-sullivan",
   "metadata": {
    "execution": {
     "iopub.execute_input": "2022-10-18T03:43:58.425525Z",
     "iopub.status.busy": "2022-10-18T03:43:58.421973Z",
     "iopub.status.idle": "2022-10-18T03:43:58.452915Z",
     "shell.execute_reply": "2022-10-18T03:43:58.452361Z"
    },
    "papermill": {
     "duration": 0.049649,
     "end_time": "2022-10-18T03:43:58.453046",
     "exception": false,
     "start_time": "2022-10-18T03:43:58.403397",
     "status": "completed"
    },
    "tags": []
   },
   "outputs": [],
   "source": [
    "#hide\n",
    "#df_all_mrk = read_api()"
   ]
  },
  {
   "cell_type": "code",
   "execution_count": 9,
   "id": "delayed-adapter",
   "metadata": {
    "execution": {
     "iopub.execute_input": "2022-10-18T03:43:58.494725Z",
     "iopub.status.busy": "2022-10-18T03:43:58.494048Z",
     "iopub.status.idle": "2022-10-18T03:43:58.523432Z",
     "shell.execute_reply": "2022-10-18T03:43:58.522697Z"
    },
    "papermill": {
     "duration": 0.055504,
     "end_time": "2022-10-18T03:43:58.523568",
     "exception": false,
     "start_time": "2022-10-18T03:43:58.468064",
     "status": "completed"
    },
    "tags": []
   },
   "outputs": [],
   "source": [
    "#hide\n",
    "#Koreliacijų koeficientai"
   ]
  },
  {
   "cell_type": "code",
   "execution_count": 10,
   "id": "seeing-celebration",
   "metadata": {
    "execution": {
     "iopub.execute_input": "2022-10-18T03:43:58.561552Z",
     "iopub.status.busy": "2022-10-18T03:43:58.560614Z",
     "iopub.status.idle": "2022-10-18T03:43:58.591128Z",
     "shell.execute_reply": "2022-10-18T03:43:58.590353Z"
    },
    "papermill": {
     "duration": 0.052183,
     "end_time": "2022-10-18T03:43:58.591296",
     "exception": false,
     "start_time": "2022-10-18T03:43:58.539113",
     "status": "completed"
    },
    "tags": []
   },
   "outputs": [],
   "source": [
    "#hide_input\n",
    "#sum_corr = df_all_mrk.corr().sum().sort_values(ascending=True).index.values\n",
    "#df_all_mrk[sum_corr].corr()"
   ]
  },
  {
   "cell_type": "code",
   "execution_count": 11,
   "id": "other-painting",
   "metadata": {
    "execution": {
     "iopub.execute_input": "2022-10-18T03:43:58.627087Z",
     "iopub.status.busy": "2022-10-18T03:43:58.626395Z",
     "iopub.status.idle": "2022-10-18T03:43:58.657372Z",
     "shell.execute_reply": "2022-10-18T03:43:58.656844Z"
    },
    "papermill": {
     "duration": 0.050404,
     "end_time": "2022-10-18T03:43:58.657493",
     "exception": false,
     "start_time": "2022-10-18T03:43:58.607089",
     "status": "completed"
    },
    "tags": []
   },
   "outputs": [],
   "source": [
    "#hide\n",
    "#Koreliacijos matrica. "
   ]
  },
  {
   "cell_type": "code",
   "execution_count": 12,
   "id": "modular-magnitude",
   "metadata": {
    "execution": {
     "iopub.execute_input": "2022-10-18T03:43:58.690750Z",
     "iopub.status.busy": "2022-10-18T03:43:58.690135Z",
     "iopub.status.idle": "2022-10-18T03:43:58.721241Z",
     "shell.execute_reply": "2022-10-18T03:43:58.720334Z"
    },
    "papermill": {
     "duration": 0.049243,
     "end_time": "2022-10-18T03:43:58.721433",
     "exception": false,
     "start_time": "2022-10-18T03:43:58.672190",
     "status": "completed"
    },
    "tags": []
   },
   "outputs": [],
   "source": [
    "#hide_input\n",
    "#plt.figure(figsize=(15, 8))\n",
    "#sns.heatmap(df_all_mrk[sum_corr].corr(), annot=True, cmap=\"BrBG\");\n",
    "#plt.savefig('corr_matrix_all.eps', format='eps')"
   ]
  },
  {
   "cell_type": "code",
   "execution_count": null,
   "id": "original-senator",
   "metadata": {
    "papermill": {
     "duration": 0.014958,
     "end_time": "2022-10-18T03:43:58.753121",
     "exception": false,
     "start_time": "2022-10-18T03:43:58.738163",
     "status": "completed"
    },
    "tags": []
   },
   "outputs": [],
   "source": []
  },
  {
   "cell_type": "code",
   "execution_count": null,
   "id": "saving-secretariat",
   "metadata": {
    "papermill": {
     "duration": 0.014873,
     "end_time": "2022-10-18T03:43:58.782909",
     "exception": false,
     "start_time": "2022-10-18T03:43:58.768036",
     "status": "completed"
    },
    "tags": []
   },
   "outputs": [],
   "source": []
  }
 ],
 "metadata": {
  "kernelspec": {
   "display_name": "Python 3",
   "language": "python",
   "name": "python3"
  },
  "language_info": {
   "codemirror_mode": {
    "name": "ipython",
    "version": 3
   },
   "file_extension": ".py",
   "mimetype": "text/x-python",
   "name": "python",
   "nbconvert_exporter": "python",
   "pygments_lexer": "ipython3",
   "version": "3.6.15"
  },
  "papermill": {
   "default_parameters": {},
   "duration": 18.810514,
   "end_time": "2022-10-18T03:43:59.321511",
   "environment_variables": {},
   "exception": null,
   "input_path": "App-Correlation_charts.ipynb",
   "output_path": "App-Correlation_charts.ipynb",
   "parameters": {},
   "start_time": "2022-10-18T03:43:40.510997",
   "version": "2.2.2"
  }
 },
 "nbformat": 4,
 "nbformat_minor": 5
}