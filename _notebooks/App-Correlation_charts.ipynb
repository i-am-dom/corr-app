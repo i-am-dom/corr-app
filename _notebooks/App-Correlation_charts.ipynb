{
 "cells": [
  {
   "cell_type": "markdown",
   "id": "touched-facility",
   "metadata": {
    "papermill": {
     "duration": 0.015098,
     "end_time": "2022-05-03T03:02:04.880922",
     "exception": false,
     "start_time": "2022-05-03T03:02:04.865824",
     "status": "completed"
    },
    "tags": []
   },
   "source": [
    "# Koreliacijų matrica\n",
    "> Išplėstinė koreliacijų matrica. \n",
    "\n",
    "- toc: true \n",
    "- badges: true\n",
    "- comments: false\n",
    "- categories: [Dominykas Tautkus]\n",
    "- image: images/matrix.png"
   ]
  },
  {
   "cell_type": "code",
   "execution_count": null,
   "id": "premium-weekend",
   "metadata": {
    "papermill": {
     "duration": 0.010875,
     "end_time": "2022-05-03T03:02:04.903254",
     "exception": false,
     "start_time": "2022-05-03T03:02:04.892379",
     "status": "completed"
    },
    "tags": []
   },
   "outputs": [],
   "source": []
  },
  {
   "cell_type": "code",
   "execution_count": 1,
   "id": "vertical-rebate",
   "metadata": {
    "execution": {
     "iopub.execute_input": "2022-05-03T03:02:04.935560Z",
     "iopub.status.busy": "2022-05-03T03:02:04.935007Z",
     "iopub.status.idle": "2022-05-03T03:02:04.945746Z",
     "shell.execute_reply": "2022-05-03T03:02:04.945310Z"
    },
    "papermill": {
     "duration": 0.031976,
     "end_time": "2022-05-03T03:02:04.945871",
     "exception": false,
     "start_time": "2022-05-03T03:02:04.913895",
     "status": "completed"
    },
    "tags": []
   },
   "outputs": [],
   "source": [
    "#hide\n",
    "%load_ext autoreload\n",
    "%autoreload 2"
   ]
  },
  {
   "cell_type": "code",
   "execution_count": 2,
   "id": "overall-advancement",
   "metadata": {
    "execution": {
     "iopub.execute_input": "2022-05-03T03:02:04.970756Z",
     "iopub.status.busy": "2022-05-03T03:02:04.970247Z",
     "iopub.status.idle": "2022-05-03T03:02:06.295938Z",
     "shell.execute_reply": "2022-05-03T03:02:06.295410Z"
    },
    "papermill": {
     "duration": 1.339502,
     "end_time": "2022-05-03T03:02:06.296087",
     "exception": false,
     "start_time": "2022-05-03T03:02:04.956585",
     "status": "completed"
    },
    "tags": []
   },
   "outputs": [],
   "source": [
    "#hide\n",
    "from scripts.read_data import read_api\n",
    "from IPython.display import HTML\n",
    "import plotly.graph_objects as go\n"
   ]
  },
  {
   "cell_type": "code",
   "execution_count": 3,
   "id": "light-crazy",
   "metadata": {
    "execution": {
     "iopub.execute_input": "2022-05-03T03:02:06.323600Z",
     "iopub.status.busy": "2022-05-03T03:02:06.322449Z",
     "iopub.status.idle": "2022-05-03T03:02:06.345878Z",
     "shell.execute_reply": "2022-05-03T03:02:06.345400Z"
    },
    "papermill": {
     "duration": 0.038921,
     "end_time": "2022-05-03T03:02:06.345994",
     "exception": false,
     "start_time": "2022-05-03T03:02:06.307073",
     "status": "completed"
    },
    "tags": []
   },
   "outputs": [],
   "source": [
    "#hide\n",
    "### ICO koreliacija"
   ]
  },
  {
   "cell_type": "code",
   "execution_count": 4,
   "id": "likely-bahrain",
   "metadata": {
    "execution": {
     "iopub.execute_input": "2022-05-03T03:02:06.372089Z",
     "iopub.status.busy": "2022-05-03T03:02:06.371452Z",
     "iopub.status.idle": "2022-05-03T03:02:07.204437Z",
     "shell.execute_reply": "2022-05-03T03:02:07.203867Z"
    },
    "papermill": {
     "duration": 0.84784,
     "end_time": "2022-05-03T03:02:07.204579",
     "exception": false,
     "start_time": "2022-05-03T03:02:06.356739",
     "status": "completed"
    },
    "tags": []
   },
   "outputs": [],
   "source": [
    "#hide\n",
    "import matplotlib.pyplot as plt\n",
    "import numpy as np\n",
    "import pandas as pd\n",
    "import seaborn as sns\n",
    "import matplotlib.pyplot as plt \n",
    "import matplotlib.dates as mdates\n",
    "import matplotlib.pyplot as plt"
   ]
  },
  {
   "cell_type": "code",
   "execution_count": 5,
   "id": "superior-blanket",
   "metadata": {
    "execution": {
     "iopub.execute_input": "2022-05-03T03:02:07.232544Z",
     "iopub.status.busy": "2022-05-03T03:02:07.231966Z",
     "iopub.status.idle": "2022-05-03T03:02:16.756602Z",
     "shell.execute_reply": "2022-05-03T03:02:16.757101Z"
    },
    "papermill": {
     "duration": 9.541092,
     "end_time": "2022-05-03T03:02:16.757265",
     "exception": false,
     "start_time": "2022-05-03T03:02:07.216173",
     "status": "completed"
    },
    "tags": []
   },
   "outputs": [
    {
     "name": "stderr",
     "output_type": "stream",
     "text": [
      "/home/runner/work/corr-app/corr-app/_notebooks/scripts/read_data.py:187: SettingWithCopyWarning:\n",
      "\n",
      "\n",
      "A value is trying to be set on a copy of a slice from a DataFrame.\n",
      "Try using .loc[row_indexer,col_indexer] = value instead\n",
      "\n",
      "See the caveats in the documentation: https://pandas.pydata.org/pandas-docs/stable/user_guide/indexing.html#returning-a-view-versus-a-copy\n",
      "\n"
     ]
    },
    {
     "name": "stderr",
     "output_type": "stream",
     "text": [
      "/home/runner/work/corr-app/corr-app/_notebooks/scripts/read_data.py:215: SettingWithCopyWarning:\n",
      "\n",
      "\n",
      "A value is trying to be set on a copy of a slice from a DataFrame.\n",
      "Try using .loc[row_indexer,col_indexer] = value instead\n",
      "\n",
      "See the caveats in the documentation: https://pandas.pydata.org/pandas-docs/stable/user_guide/indexing.html#returning-a-view-versus-a-copy\n",
      "\n"
     ]
    }
   ],
   "source": [
    "#hide\n",
    "df_all = read_api()\n",
    "#df_all = df_all.drop(['SP500', 'XAU', 'ETH', 'BTC'], axis=1)\n",
    "\n"
   ]
  },
  {
   "cell_type": "code",
   "execution_count": 6,
   "id": "mature-alert",
   "metadata": {
    "execution": {
     "iopub.execute_input": "2022-05-03T03:02:16.785395Z",
     "iopub.status.busy": "2022-05-03T03:02:16.784798Z",
     "iopub.status.idle": "2022-05-03T03:02:16.813908Z",
     "shell.execute_reply": "2022-05-03T03:02:16.813359Z"
    },
    "papermill": {
     "duration": 0.044962,
     "end_time": "2022-05-03T03:02:16.814033",
     "exception": false,
     "start_time": "2022-05-03T03:02:16.769071",
     "status": "completed"
    },
    "tags": []
   },
   "outputs": [],
   "source": [
    "#hide_input\n",
    "sum_corr = df_all.corr().sum().sort_values(ascending=True).index.values\n",
    "#df_all[sum_corr].corr()"
   ]
  },
  {
   "cell_type": "markdown",
   "id": "complex-syndicate",
   "metadata": {
    "papermill": {
     "duration": 0.011264,
     "end_time": "2022-05-03T03:02:16.837367",
     "exception": false,
     "start_time": "2022-05-03T03:02:16.826103",
     "status": "completed"
    },
    "tags": []
   },
   "source": [
    "## Išplėstinė koreliacijų matrica. "
   ]
  },
  {
   "cell_type": "code",
   "execution_count": 7,
   "id": "atomic-omaha",
   "metadata": {
    "execution": {
     "iopub.execute_input": "2022-05-03T03:02:16.864486Z",
     "iopub.status.busy": "2022-05-03T03:02:16.863871Z",
     "iopub.status.idle": "2022-05-03T03:02:18.077951Z",
     "shell.execute_reply": "2022-05-03T03:02:18.077522Z"
    },
    "papermill": {
     "duration": 1.229581,
     "end_time": "2022-05-03T03:02:18.078068",
     "exception": false,
     "start_time": "2022-05-03T03:02:16.848487",
     "status": "completed"
    },
    "tags": []
   },
   "outputs": [
    {
     "data": {
      "image/png": "[encoded data removed]",
      "text/plain": [
       "<Figure size 1080x792 with 2 Axes>"
      ]
     },
     "metadata": {
      "needs_background": "light"
     },
     "output_type": "display_data"
    }
   ],
   "source": [
    "#hide_input\n",
    "plt.figure(figsize=(15, 11))\n",
    "sns.heatmap(df_all[sum_corr].corr(), annot=True, cmap=\"cubehelix\") \n",
    "sns.set(font_scale=1.25)\n",
    "plt.savefig('corr_matrix.png', format='eps')"
   ]
  },
  {
   "cell_type": "code",
   "execution_count": 8,
   "id": "arbitrary-sullivan",
   "metadata": {
    "execution": {
     "iopub.execute_input": "2022-05-03T03:02:18.113029Z",
     "iopub.status.busy": "2022-05-03T03:02:18.107886Z",
     "iopub.status.idle": "2022-05-03T03:02:18.135017Z",
     "shell.execute_reply": "2022-05-03T03:02:18.134476Z"
    },
    "papermill": {
     "duration": 0.043537,
     "end_time": "2022-05-03T03:02:18.135145",
     "exception": false,
     "start_time": "2022-05-03T03:02:18.091608",
     "status": "completed"
    },
    "tags": []
   },
   "outputs": [],
   "source": [
    "#hide\n",
    "#df_all_mrk = read_api()"
   ]
  },
  {
   "cell_type": "code",
   "execution_count": 9,
   "id": "delayed-adapter",
   "metadata": {
    "execution": {
     "iopub.execute_input": "2022-05-03T03:02:18.166998Z",
     "iopub.status.busy": "2022-05-03T03:02:18.166480Z",
     "iopub.status.idle": "2022-05-03T03:02:18.192819Z",
     "shell.execute_reply": "2022-05-03T03:02:18.192328Z"
    },
    "papermill": {
     "duration": 0.044211,
     "end_time": "2022-05-03T03:02:18.192944",
     "exception": false,
     "start_time": "2022-05-03T03:02:18.148733",
     "status": "completed"
    },
    "tags": []
   },
   "outputs": [],
   "source": [
    "#hide\n",
    "#Koreliacijų koeficientai"
   ]
  },
  {
   "cell_type": "code",
   "execution_count": 10,
   "id": "seeing-celebration",
   "metadata": {
    "execution": {
     "iopub.execute_input": "2022-05-03T03:02:18.228717Z",
     "iopub.status.busy": "2022-05-03T03:02:18.227993Z",
     "iopub.status.idle": "2022-05-03T03:02:18.252812Z",
     "shell.execute_reply": "2022-05-03T03:02:18.252259Z"
    },
    "papermill": {
     "duration": 0.045355,
     "end_time": "2022-05-03T03:02:18.252953",
     "exception": false,
     "start_time": "2022-05-03T03:02:18.207598",
     "status": "completed"
    },
    "tags": []
   },
   "outputs": [],
   "source": [
    "#hide_input\n",
    "#sum_corr = df_all_mrk.corr().sum().sort_values(ascending=True).index.values\n",
    "#df_all_mrk[sum_corr].corr()"
   ]
  },
  {
   "cell_type": "code",
   "execution_count": 11,
   "id": "other-painting",
   "metadata": {
    "execution": {
     "iopub.execute_input": "2022-05-03T03:02:18.287157Z",
     "iopub.status.busy": "2022-05-03T03:02:18.286652Z",
     "iopub.status.idle": "2022-05-03T03:02:18.312465Z",
     "shell.execute_reply": "2022-05-03T03:02:18.311936Z"
    },
    "papermill": {
     "duration": 0.044313,
     "end_time": "2022-05-03T03:02:18.312599",
     "exception": false,
     "start_time": "2022-05-03T03:02:18.268286",
     "status": "completed"
    },
    "tags": []
   },
   "outputs": [],
   "source": [
    "#hide\n",
    "#Koreliacijos matrica. "
   ]
  },
  {
   "cell_type": "code",
   "execution_count": 12,
   "id": "modular-magnitude",
   "metadata": {
    "execution": {
     "iopub.execute_input": "2022-05-03T03:02:18.356845Z",
     "iopub.status.busy": "2022-05-03T03:02:18.355939Z",
     "iopub.status.idle": "2022-05-03T03:02:18.374061Z",
     "shell.execute_reply": "2022-05-03T03:02:18.373576Z"
    },
    "papermill": {
     "duration": 0.047233,
     "end_time": "2022-05-03T03:02:18.374193",
     "exception": false,
     "start_time": "2022-05-03T03:02:18.326960",
     "status": "completed"
    },
    "tags": []
   },
   "outputs": [],
   "source": [
    "#hide_input\n",
    "#plt.figure(figsize=(15, 8))\n",
    "#sns.heatmap(df_all_mrk[sum_corr].corr(), annot=True, cmap=\"BrBG\");\n",
    "#plt.savefig('corr_matrix_all.eps', format='eps')"
   ]
  },
  {
   "cell_type": "code",
   "execution_count": null,
   "id": "original-senator",
   "metadata": {
    "papermill": {
     "duration": 0.013181,
     "end_time": "2022-05-03T03:02:18.401599",
     "exception": false,
     "start_time": "2022-05-03T03:02:18.388418",
     "status": "completed"
    },
    "tags": []
   },
   "outputs": [],
   "source": []
  },
  {
   "cell_type": "code",
   "execution_count": null,
   "id": "saving-secretariat",
   "metadata": {
    "papermill": {
     "duration": 0.013266,
     "end_time": "2022-05-03T03:02:18.428140",
     "exception": false,
     "start_time": "2022-05-03T03:02:18.414874",
     "status": "completed"
    },
    "tags": []
   },
   "outputs": [],
   "source": []
  }
 ],
 "metadata": {
  "kernelspec": {
   "display_name": "Python 3",
   "language": "python",
   "name": "python3"
  },
  "language_info": {
   "codemirror_mode": {
    "name": "ipython",
    "version": 3
   },
   "file_extension": ".py",
   "mimetype": "text/x-python",
   "name": "python",
   "nbconvert_exporter": "python",
   "pygments_lexer": "ipython3",
   "version": "3.6.15"
  },
  "papermill": {
   "default_parameters": {},
   "duration": 15.021451,
   "end_time": "2022-05-03T03:02:18.959890",
   "environment_variables": {},
   "exception": null,
   "input_path": "App-Correlation_charts.ipynb",
   "output_path": "App-Correlation_charts.ipynb",
   "parameters": {},
   "start_time": "2022-05-03T03:02:03.938439",
   "version": "2.2.2"
  }
 },
 "nbformat": 4,
 "nbformat_minor": 5
}