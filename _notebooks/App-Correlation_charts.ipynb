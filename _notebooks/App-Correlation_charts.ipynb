{
 "cells": [
  {
   "cell_type": "markdown",
   "id": "touched-facility",
   "metadata": {
    "papermill": {
     "duration": 0.015807,
     "end_time": "2021-07-16T02:00:04.648150",
     "exception": false,
     "start_time": "2021-07-16T02:00:04.632343",
     "status": "completed"
    },
    "tags": []
   },
   "source": [
    "# Koreliacijų matrica\n",
    "> Išplėstinė koreliacijų matrica. \n",
    "\n",
    "- toc: true \n",
    "- badges: true\n",
    "- comments: false\n",
    "- categories: [Dominykas Tautkus]\n",
    "- image: images/matrix.png"
   ]
  },
  {
   "cell_type": "code",
   "execution_count": null,
   "id": "premium-weekend",
   "metadata": {
    "papermill": {
     "duration": 0.01078,
     "end_time": "2021-07-16T02:00:04.670213",
     "exception": false,
     "start_time": "2021-07-16T02:00:04.659433",
     "status": "completed"
    },
    "tags": []
   },
   "outputs": [],
   "source": []
  },
  {
   "cell_type": "code",
   "execution_count": 1,
   "id": "vertical-rebate",
   "metadata": {
    "execution": {
     "iopub.execute_input": "2021-07-16T02:00:04.703603Z",
     "iopub.status.busy": "2021-07-16T02:00:04.703069Z",
     "iopub.status.idle": "2021-07-16T02:00:04.713519Z",
     "shell.execute_reply": "2021-07-16T02:00:04.713926Z"
    },
    "papermill": {
     "duration": 0.033249,
     "end_time": "2021-07-16T02:00:04.714069",
     "exception": false,
     "start_time": "2021-07-16T02:00:04.680820",
     "status": "completed"
    },
    "tags": []
   },
   "outputs": [],
   "source": [
    "#hide\n",
    "%load_ext autoreload\n",
    "%autoreload 2"
   ]
  },
  {
   "cell_type": "code",
   "execution_count": 2,
   "id": "overall-advancement",
   "metadata": {
    "execution": {
     "iopub.execute_input": "2021-07-16T02:00:04.739059Z",
     "iopub.status.busy": "2021-07-16T02:00:04.738554Z",
     "iopub.status.idle": "2021-07-16T02:00:05.867414Z",
     "shell.execute_reply": "2021-07-16T02:00:05.866904Z"
    },
    "papermill": {
     "duration": 1.142817,
     "end_time": "2021-07-16T02:00:05.867551",
     "exception": false,
     "start_time": "2021-07-16T02:00:04.724734",
     "status": "completed"
    },
    "tags": []
   },
   "outputs": [],
   "source": [
    "#hide\n",
    "from scripts.read_data import read_api\n",
    "from IPython.display import HTML\n",
    "import plotly.graph_objects as go\n"
   ]
  },
  {
   "cell_type": "code",
   "execution_count": 3,
   "id": "light-crazy",
   "metadata": {
    "execution": {
     "iopub.execute_input": "2021-07-16T02:00:05.897131Z",
     "iopub.status.busy": "2021-07-16T02:00:05.895157Z",
     "iopub.status.idle": "2021-07-16T02:00:05.916504Z",
     "shell.execute_reply": "2021-07-16T02:00:05.916064Z"
    },
    "papermill": {
     "duration": 0.037207,
     "end_time": "2021-07-16T02:00:05.916626",
     "exception": false,
     "start_time": "2021-07-16T02:00:05.879419",
     "status": "completed"
    },
    "tags": []
   },
   "outputs": [],
   "source": [
    "#hide\n",
    "### ICO koreliacija"
   ]
  },
  {
   "cell_type": "code",
   "execution_count": 4,
   "id": "likely-bahrain",
   "metadata": {
    "execution": {
     "iopub.execute_input": "2021-07-16T02:00:05.997985Z",
     "iopub.status.busy": "2021-07-16T02:00:05.997364Z",
     "iopub.status.idle": "2021-07-16T02:00:06.851493Z",
     "shell.execute_reply": "2021-07-16T02:00:06.850620Z"
    },
    "papermill": {
     "duration": 0.923938,
     "end_time": "2021-07-16T02:00:06.851622",
     "exception": false,
     "start_time": "2021-07-16T02:00:05.927684",
     "status": "completed"
    },
    "tags": []
   },
   "outputs": [],
   "source": [
    "#hide\n",
    "import matplotlib.pyplot as plt\n",
    "import numpy as np\n",
    "import pandas as pd\n",
    "import seaborn as sns\n",
    "import matplotlib.pyplot as plt \n",
    "import matplotlib.dates as mdates\n",
    "import matplotlib.pyplot as plt"
   ]
  },
  {
   "cell_type": "code",
   "execution_count": 5,
   "id": "superior-blanket",
   "metadata": {
    "execution": {
     "iopub.execute_input": "2021-07-16T02:00:06.878524Z",
     "iopub.status.busy": "2021-07-16T02:00:06.877452Z",
     "iopub.status.idle": "2021-07-16T02:00:17.095728Z",
     "shell.execute_reply": "2021-07-16T02:00:17.095247Z"
    },
    "papermill": {
     "duration": 10.23318,
     "end_time": "2021-07-16T02:00:17.095843",
     "exception": false,
     "start_time": "2021-07-16T02:00:06.862663",
     "status": "completed"
    },
    "tags": []
   },
   "outputs": [
    {
     "name": "stderr",
     "output_type": "stream",
     "text": [
      "/home/runner/work/corr-app/corr-app/_notebooks/scripts/read_data.py:187: SettingWithCopyWarning:\n",
      "\n",
      "\n",
      "A value is trying to be set on a copy of a slice from a DataFrame.\n",
      "Try using .loc[row_indexer,col_indexer] = value instead\n",
      "\n",
      "See the caveats in the documentation: https://pandas.pydata.org/pandas-docs/stable/user_guide/indexing.html#returning-a-view-versus-a-copy\n",
      "\n"
     ]
    },
    {
     "name": "stderr",
     "output_type": "stream",
     "text": [
      "/home/runner/work/corr-app/corr-app/_notebooks/scripts/read_data.py:215: SettingWithCopyWarning:\n",
      "\n",
      "\n",
      "A value is trying to be set on a copy of a slice from a DataFrame.\n",
      "Try using .loc[row_indexer,col_indexer] = value instead\n",
      "\n",
      "See the caveats in the documentation: https://pandas.pydata.org/pandas-docs/stable/user_guide/indexing.html#returning-a-view-versus-a-copy\n",
      "\n"
     ]
    }
   ],
   "source": [
    "#hide\n",
    "df_all = read_api()\n",
    "#df_all = df_all.drop(['SP500', 'XAU', 'ETH', 'BTC'], axis=1)\n",
    "\n"
   ]
  },
  {
   "cell_type": "code",
   "execution_count": 6,
   "id": "mature-alert",
   "metadata": {
    "execution": {
     "iopub.execute_input": "2021-07-16T02:00:17.124657Z",
     "iopub.status.busy": "2021-07-16T02:00:17.123138Z",
     "iopub.status.idle": "2021-07-16T02:00:17.153435Z",
     "shell.execute_reply": "2021-07-16T02:00:17.152969Z"
    },
    "papermill": {
     "duration": 0.046111,
     "end_time": "2021-07-16T02:00:17.153561",
     "exception": false,
     "start_time": "2021-07-16T02:00:17.107450",
     "status": "completed"
    },
    "tags": []
   },
   "outputs": [],
   "source": [
    "#hide_input\n",
    "sum_corr = df_all.corr().sum().sort_values(ascending=True).index.values\n",
    "#df_all[sum_corr].corr()"
   ]
  },
  {
   "cell_type": "markdown",
   "id": "complex-syndicate",
   "metadata": {
    "papermill": {
     "duration": 0.011139,
     "end_time": "2021-07-16T02:00:17.176359",
     "exception": false,
     "start_time": "2021-07-16T02:00:17.165220",
     "status": "completed"
    },
    "tags": []
   },
   "source": [
    "## Išplėstinė koreliacijų matrica. "
   ]
  },
  {
   "cell_type": "code",
   "execution_count": 7,
   "id": "atomic-omaha",
   "metadata": {
    "execution": {
     "iopub.execute_input": "2021-07-16T02:00:17.213417Z",
     "iopub.status.busy": "2021-07-16T02:00:17.208957Z",
     "iopub.status.idle": "2021-07-16T02:00:18.350398Z",
     "shell.execute_reply": "2021-07-16T02:00:18.350804Z"
    },
    "papermill": {
     "duration": 1.163413,
     "end_time": "2021-07-16T02:00:18.350938",
     "exception": false,
     "start_time": "2021-07-16T02:00:17.187525",
     "status": "completed"
    },
    "tags": []
   },
   "outputs": [
    {
     "data": {
      "image/png": "[encoded data removed]",
      "text/plain": [
       "<Figure size 1080x792 with 2 Axes>"
      ]
     },
     "metadata": {
      "needs_background": "light"
     },
     "output_type": "display_data"
    }
   ],
   "source": [
    "#hide_input\n",
    "plt.figure(figsize=(15, 11))\n",
    "sns.heatmap(df_all[sum_corr].corr(), annot=True, cmap=\"cubehelix\") \n",
    "sns.set(font_scale=1.25)\n",
    "plt.savefig('corr_matrix.png', format='eps')"
   ]
  },
  {
   "cell_type": "code",
   "execution_count": 8,
   "id": "arbitrary-sullivan",
   "metadata": {
    "execution": {
     "iopub.execute_input": "2021-07-16T02:00:18.385620Z",
     "iopub.status.busy": "2021-07-16T02:00:18.380347Z",
     "iopub.status.idle": "2021-07-16T02:00:18.404205Z",
     "shell.execute_reply": "2021-07-16T02:00:18.404650Z"
    },
    "papermill": {
     "duration": 0.040411,
     "end_time": "2021-07-16T02:00:18.404821",
     "exception": false,
     "start_time": "2021-07-16T02:00:18.364410",
     "status": "completed"
    },
    "tags": []
   },
   "outputs": [],
   "source": [
    "#hide\n",
    "#df_all_mrk = read_api()"
   ]
  },
  {
   "cell_type": "code",
   "execution_count": 9,
   "id": "delayed-adapter",
   "metadata": {
    "execution": {
     "iopub.execute_input": "2021-07-16T02:00:18.435025Z",
     "iopub.status.busy": "2021-07-16T02:00:18.434511Z",
     "iopub.status.idle": "2021-07-16T02:00:18.459344Z",
     "shell.execute_reply": "2021-07-16T02:00:18.458890Z"
    },
    "papermill": {
     "duration": 0.040792,
     "end_time": "2021-07-16T02:00:18.459465",
     "exception": false,
     "start_time": "2021-07-16T02:00:18.418673",
     "status": "completed"
    },
    "tags": []
   },
   "outputs": [],
   "source": [
    "#hide\n",
    "#Koreliacijų koeficientai"
   ]
  },
  {
   "cell_type": "code",
   "execution_count": 10,
   "id": "seeing-celebration",
   "metadata": {
    "execution": {
     "iopub.execute_input": "2021-07-16T02:00:18.489047Z",
     "iopub.status.busy": "2021-07-16T02:00:18.488511Z",
     "iopub.status.idle": "2021-07-16T02:00:18.513284Z",
     "shell.execute_reply": "2021-07-16T02:00:18.512793Z"
    },
    "papermill": {
     "duration": 0.040566,
     "end_time": "2021-07-16T02:00:18.513403",
     "exception": false,
     "start_time": "2021-07-16T02:00:18.472837",
     "status": "completed"
    },
    "tags": []
   },
   "outputs": [],
   "source": [
    "#hide_input\n",
    "#sum_corr = df_all_mrk.corr().sum().sort_values(ascending=True).index.values\n",
    "#df_all_mrk[sum_corr].corr()"
   ]
  },
  {
   "cell_type": "code",
   "execution_count": 11,
   "id": "other-painting",
   "metadata": {
    "execution": {
     "iopub.execute_input": "2021-07-16T02:00:18.551707Z",
     "iopub.status.busy": "2021-07-16T02:00:18.551212Z",
     "iopub.status.idle": "2021-07-16T02:00:18.570862Z",
     "shell.execute_reply": "2021-07-16T02:00:18.570429Z"
    },
    "papermill": {
     "duration": 0.043388,
     "end_time": "2021-07-16T02:00:18.570966",
     "exception": false,
     "start_time": "2021-07-16T02:00:18.527578",
     "status": "completed"
    },
    "tags": []
   },
   "outputs": [],
   "source": [
    "#hide\n",
    "#Koreliacijos matrica. "
   ]
  },
  {
   "cell_type": "code",
   "execution_count": 12,
   "id": "modular-magnitude",
   "metadata": {
    "execution": {
     "iopub.execute_input": "2021-07-16T02:00:18.605363Z",
     "iopub.status.busy": "2021-07-16T02:00:18.602664Z",
     "iopub.status.idle": "2021-07-16T02:00:18.625465Z",
     "shell.execute_reply": "2021-07-16T02:00:18.625010Z"
    },
    "papermill": {
     "duration": 0.04123,
     "end_time": "2021-07-16T02:00:18.625589",
     "exception": false,
     "start_time": "2021-07-16T02:00:18.584359",
     "status": "completed"
    },
    "tags": []
   },
   "outputs": [],
   "source": [
    "#hide_input\n",
    "#plt.figure(figsize=(15, 8))\n",
    "#sns.heatmap(df_all_mrk[sum_corr].corr(), annot=True, cmap=\"BrBG\");\n",
    "#plt.savefig('corr_matrix_all.eps', format='eps')"
   ]
  },
  {
   "cell_type": "code",
   "execution_count": null,
   "id": "original-senator",
   "metadata": {
    "papermill": {
     "duration": 0.013036,
     "end_time": "2021-07-16T02:00:18.652709",
     "exception": false,
     "start_time": "2021-07-16T02:00:18.639673",
     "status": "completed"
    },
    "tags": []
   },
   "outputs": [],
   "source": []
  },
  {
   "cell_type": "code",
   "execution_count": null,
   "id": "saving-secretariat",
   "metadata": {
    "papermill": {
     "duration": 0.013067,
     "end_time": "2021-07-16T02:00:18.678803",
     "exception": false,
     "start_time": "2021-07-16T02:00:18.665736",
     "status": "completed"
    },
    "tags": []
   },
   "outputs": [],
   "source": []
  }
 ],
 "metadata": {
  "kernelspec": {
   "display_name": "Python 3",
   "language": "python",
   "name": "python3"
  },
  "language_info": {
   "codemirror_mode": {
    "name": "ipython",
    "version": 3
   },
   "file_extension": ".py",
   "mimetype": "text/x-python",
   "name": "python",
   "nbconvert_exporter": "python",
   "pygments_lexer": "ipython3",
   "version": "3.6.14"
  },
  "papermill": {
   "default_parameters": {},
   "duration": 16.270273,
   "end_time": "2021-07-16T02:00:19.943015",
   "environment_variables": {},
   "exception": null,
   "input_path": "App-Correlation_charts.ipynb",
   "output_path": "App-Correlation_charts.ipynb",
   "parameters": {},
   "start_time": "2021-07-16T02:00:03.672742",
   "version": "2.2.2"
  }
 },
 "nbformat": 4,
 "nbformat_minor": 5
}