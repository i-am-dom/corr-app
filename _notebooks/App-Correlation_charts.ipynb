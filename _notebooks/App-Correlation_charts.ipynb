{
 "cells": [
  {
   "cell_type": "markdown",
   "id": "touched-facility",
   "metadata": {
    "papermill": {
     "duration": 0.017274,
     "end_time": "2022-07-02T03:13:56.967477",
     "exception": false,
     "start_time": "2022-07-02T03:13:56.950203",
     "status": "completed"
    },
    "tags": []
   },
   "source": [
    "# Koreliacijų matrica\n",
    "> Išplėstinė koreliacijų matrica. \n",
    "\n",
    "- toc: true \n",
    "- badges: true\n",
    "- comments: false\n",
    "- categories: [Dominykas Tautkus]\n",
    "- image: images/matrix.png"
   ]
  },
  {
   "cell_type": "code",
   "execution_count": null,
   "id": "premium-weekend",
   "metadata": {
    "papermill": {
     "duration": 0.012144,
     "end_time": "2022-07-02T03:13:56.992698",
     "exception": false,
     "start_time": "2022-07-02T03:13:56.980554",
     "status": "completed"
    },
    "tags": []
   },
   "outputs": [],
   "source": []
  },
  {
   "cell_type": "code",
   "execution_count": 1,
   "id": "vertical-rebate",
   "metadata": {
    "execution": {
     "iopub.execute_input": "2022-07-02T03:13:57.029298Z",
     "iopub.status.busy": "2022-07-02T03:13:57.028586Z",
     "iopub.status.idle": "2022-07-02T03:13:57.040623Z",
     "shell.execute_reply": "2022-07-02T03:13:57.041387Z"
    },
    "papermill": {
     "duration": 0.036965,
     "end_time": "2022-07-02T03:13:57.041551",
     "exception": false,
     "start_time": "2022-07-02T03:13:57.004586",
     "status": "completed"
    },
    "tags": []
   },
   "outputs": [],
   "source": [
    "#hide\n",
    "%load_ext autoreload\n",
    "%autoreload 2"
   ]
  },
  {
   "cell_type": "code",
   "execution_count": 2,
   "id": "overall-advancement",
   "metadata": {
    "execution": {
     "iopub.execute_input": "2022-07-02T03:13:57.074107Z",
     "iopub.status.busy": "2022-07-02T03:13:57.073423Z",
     "iopub.status.idle": "2022-07-02T03:13:58.566428Z",
     "shell.execute_reply": "2022-07-02T03:13:58.565734Z"
    },
    "papermill": {
     "duration": 1.513178,
     "end_time": "2022-07-02T03:13:58.566555",
     "exception": false,
     "start_time": "2022-07-02T03:13:57.053377",
     "status": "completed"
    },
    "tags": []
   },
   "outputs": [],
   "source": [
    "#hide\n",
    "from scripts.read_data import read_api\n",
    "from IPython.display import HTML\n",
    "import plotly.graph_objects as go\n"
   ]
  },
  {
   "cell_type": "code",
   "execution_count": 3,
   "id": "light-crazy",
   "metadata": {
    "execution": {
     "iopub.execute_input": "2022-07-02T03:13:58.595759Z",
     "iopub.status.busy": "2022-07-02T03:13:58.594769Z",
     "iopub.status.idle": "2022-07-02T03:13:58.619444Z",
     "shell.execute_reply": "2022-07-02T03:13:58.618951Z"
    },
    "papermill": {
     "duration": 0.040713,
     "end_time": "2022-07-02T03:13:58.619559",
     "exception": false,
     "start_time": "2022-07-02T03:13:58.578846",
     "status": "completed"
    },
    "tags": []
   },
   "outputs": [],
   "source": [
    "#hide\n",
    "### ICO koreliacija"
   ]
  },
  {
   "cell_type": "code",
   "execution_count": 4,
   "id": "likely-bahrain",
   "metadata": {
    "execution": {
     "iopub.execute_input": "2022-07-02T03:13:58.645235Z",
     "iopub.status.busy": "2022-07-02T03:13:58.644593Z",
     "iopub.status.idle": "2022-07-02T03:13:59.570370Z",
     "shell.execute_reply": "2022-07-02T03:13:59.569215Z"
    },
    "papermill": {
     "duration": 0.940591,
     "end_time": "2022-07-02T03:13:59.570518",
     "exception": false,
     "start_time": "2022-07-02T03:13:58.629927",
     "status": "completed"
    },
    "tags": []
   },
   "outputs": [],
   "source": [
    "#hide\n",
    "import matplotlib.pyplot as plt\n",
    "import numpy as np\n",
    "import pandas as pd\n",
    "import seaborn as sns\n",
    "import matplotlib.pyplot as plt \n",
    "import matplotlib.dates as mdates\n",
    "import matplotlib.pyplot as plt"
   ]
  },
  {
   "cell_type": "code",
   "execution_count": 5,
   "id": "superior-blanket",
   "metadata": {
    "execution": {
     "iopub.execute_input": "2022-07-02T03:13:59.600473Z",
     "iopub.status.busy": "2022-07-02T03:13:59.599285Z",
     "iopub.status.idle": "2022-07-02T03:14:11.627551Z",
     "shell.execute_reply": "2022-07-02T03:14:11.626854Z"
    },
    "papermill": {
     "duration": 12.04494,
     "end_time": "2022-07-02T03:14:11.627697",
     "exception": false,
     "start_time": "2022-07-02T03:13:59.582757",
     "status": "completed"
    },
    "tags": []
   },
   "outputs": [
    {
     "name": "stderr",
     "output_type": "stream",
     "text": [
      "/home/runner/work/corr-app/corr-app/_notebooks/scripts/read_data.py:187: SettingWithCopyWarning:\n",
      "\n",
      "\n",
      "A value is trying to be set on a copy of a slice from a DataFrame.\n",
      "Try using .loc[row_indexer,col_indexer] = value instead\n",
      "\n",
      "See the caveats in the documentation: https://pandas.pydata.org/pandas-docs/stable/user_guide/indexing.html#returning-a-view-versus-a-copy\n",
      "\n"
     ]
    },
    {
     "name": "stderr",
     "output_type": "stream",
     "text": [
      "/home/runner/work/corr-app/corr-app/_notebooks/scripts/read_data.py:215: SettingWithCopyWarning:\n",
      "\n",
      "\n",
      "A value is trying to be set on a copy of a slice from a DataFrame.\n",
      "Try using .loc[row_indexer,col_indexer] = value instead\n",
      "\n",
      "See the caveats in the documentation: https://pandas.pydata.org/pandas-docs/stable/user_guide/indexing.html#returning-a-view-versus-a-copy\n",
      "\n"
     ]
    }
   ],
   "source": [
    "#hide\n",
    "df_all = read_api()\n",
    "#df_all = df_all.drop(['SP500', 'XAU', 'ETH', 'BTC'], axis=1)\n",
    "\n"
   ]
  },
  {
   "cell_type": "code",
   "execution_count": 6,
   "id": "mature-alert",
   "metadata": {
    "execution": {
     "iopub.execute_input": "2022-07-02T03:14:11.660132Z",
     "iopub.status.busy": "2022-07-02T03:14:11.659446Z",
     "iopub.status.idle": "2022-07-02T03:14:11.694963Z",
     "shell.execute_reply": "2022-07-02T03:14:11.694252Z"
    },
    "papermill": {
     "duration": 0.05298,
     "end_time": "2022-07-02T03:14:11.695113",
     "exception": false,
     "start_time": "2022-07-02T03:14:11.642133",
     "status": "completed"
    },
    "tags": []
   },
   "outputs": [],
   "source": [
    "#hide_input\n",
    "sum_corr = df_all.corr().sum().sort_values(ascending=True).index.values\n",
    "#df_all[sum_corr].corr()"
   ]
  },
  {
   "cell_type": "markdown",
   "id": "complex-syndicate",
   "metadata": {
    "papermill": {
     "duration": 0.012597,
     "end_time": "2022-07-02T03:14:11.721024",
     "exception": false,
     "start_time": "2022-07-02T03:14:11.708427",
     "status": "completed"
    },
    "tags": []
   },
   "source": [
    "## Išplėstinė koreliacijų matrica. "
   ]
  },
  {
   "cell_type": "code",
   "execution_count": 7,
   "id": "atomic-omaha",
   "metadata": {
    "execution": {
     "iopub.execute_input": "2022-07-02T03:14:11.752197Z",
     "iopub.status.busy": "2022-07-02T03:14:11.751468Z",
     "iopub.status.idle": "2022-07-02T03:14:13.118428Z",
     "shell.execute_reply": "2022-07-02T03:14:13.117597Z"
    },
    "papermill": {
     "duration": 1.385197,
     "end_time": "2022-07-02T03:14:13.118574",
     "exception": false,
     "start_time": "2022-07-02T03:14:11.733377",
     "status": "completed"
    },
    "tags": []
   },
   "outputs": [
    {
     "data": {
      "image/png": "[encoded data removed]",
      "text/plain": [
       "<Figure size 1080x792 with 2 Axes>"
      ]
     },
     "metadata": {
      "needs_background": "light"
     },
     "output_type": "display_data"
    }
   ],
   "source": [
    "#hide_input\n",
    "plt.figure(figsize=(15, 11))\n",
    "sns.heatmap(df_all[sum_corr].corr(), annot=True, cmap=\"cubehelix\") \n",
    "sns.set(font_scale=1.25)\n",
    "plt.savefig('corr_matrix.png', format='eps')"
   ]
  },
  {
   "cell_type": "code",
   "execution_count": 8,
   "id": "arbitrary-sullivan",
   "metadata": {
    "execution": {
     "iopub.execute_input": "2022-07-02T03:14:13.155966Z",
     "iopub.status.busy": "2022-07-02T03:14:13.152816Z",
     "iopub.status.idle": "2022-07-02T03:14:13.184510Z",
     "shell.execute_reply": "2022-07-02T03:14:13.183701Z"
    },
    "papermill": {
     "duration": 0.050359,
     "end_time": "2022-07-02T03:14:13.184640",
     "exception": false,
     "start_time": "2022-07-02T03:14:13.134281",
     "status": "completed"
    },
    "tags": []
   },
   "outputs": [],
   "source": [
    "#hide\n",
    "#df_all_mrk = read_api()"
   ]
  },
  {
   "cell_type": "code",
   "execution_count": 9,
   "id": "delayed-adapter",
   "metadata": {
    "execution": {
     "iopub.execute_input": "2022-07-02T03:14:13.219794Z",
     "iopub.status.busy": "2022-07-02T03:14:13.218838Z",
     "iopub.status.idle": "2022-07-02T03:14:13.250823Z",
     "shell.execute_reply": "2022-07-02T03:14:13.251456Z"
    },
    "papermill": {
     "duration": 0.051769,
     "end_time": "2022-07-02T03:14:13.251631",
     "exception": false,
     "start_time": "2022-07-02T03:14:13.199862",
     "status": "completed"
    },
    "tags": []
   },
   "outputs": [],
   "source": [
    "#hide\n",
    "#Koreliacijų koeficientai"
   ]
  },
  {
   "cell_type": "code",
   "execution_count": 10,
   "id": "seeing-celebration",
   "metadata": {
    "execution": {
     "iopub.execute_input": "2022-07-02T03:14:13.286824Z",
     "iopub.status.busy": "2022-07-02T03:14:13.286157Z",
     "iopub.status.idle": "2022-07-02T03:14:13.316316Z",
     "shell.execute_reply": "2022-07-02T03:14:13.315612Z"
    },
    "papermill": {
     "duration": 0.048928,
     "end_time": "2022-07-02T03:14:13.316451",
     "exception": false,
     "start_time": "2022-07-02T03:14:13.267523",
     "status": "completed"
    },
    "tags": []
   },
   "outputs": [],
   "source": [
    "#hide_input\n",
    "#sum_corr = df_all_mrk.corr().sum().sort_values(ascending=True).index.values\n",
    "#df_all_mrk[sum_corr].corr()"
   ]
  },
  {
   "cell_type": "code",
   "execution_count": 11,
   "id": "other-painting",
   "metadata": {
    "execution": {
     "iopub.execute_input": "2022-07-02T03:14:13.359849Z",
     "iopub.status.busy": "2022-07-02T03:14:13.358443Z",
     "iopub.status.idle": "2022-07-02T03:14:13.384668Z",
     "shell.execute_reply": "2022-07-02T03:14:13.383926Z"
    },
    "papermill": {
     "duration": 0.053079,
     "end_time": "2022-07-02T03:14:13.384825",
     "exception": false,
     "start_time": "2022-07-02T03:14:13.331746",
     "status": "completed"
    },
    "tags": []
   },
   "outputs": [],
   "source": [
    "#hide\n",
    "#Koreliacijos matrica. "
   ]
  },
  {
   "cell_type": "code",
   "execution_count": 12,
   "id": "modular-magnitude",
   "metadata": {
    "execution": {
     "iopub.execute_input": "2022-07-02T03:14:13.419003Z",
     "iopub.status.busy": "2022-07-02T03:14:13.418306Z",
     "iopub.status.idle": "2022-07-02T03:14:13.447917Z",
     "shell.execute_reply": "2022-07-02T03:14:13.447239Z"
    },
    "papermill": {
     "duration": 0.047685,
     "end_time": "2022-07-02T03:14:13.448060",
     "exception": false,
     "start_time": "2022-07-02T03:14:13.400375",
     "status": "completed"
    },
    "tags": []
   },
   "outputs": [],
   "source": [
    "#hide_input\n",
    "#plt.figure(figsize=(15, 8))\n",
    "#sns.heatmap(df_all_mrk[sum_corr].corr(), annot=True, cmap=\"BrBG\");\n",
    "#plt.savefig('corr_matrix_all.eps', format='eps')"
   ]
  },
  {
   "cell_type": "code",
   "execution_count": null,
   "id": "original-senator",
   "metadata": {
    "papermill": {
     "duration": 0.014709,
     "end_time": "2022-07-02T03:14:13.477702",
     "exception": false,
     "start_time": "2022-07-02T03:14:13.462993",
     "status": "completed"
    },
    "tags": []
   },
   "outputs": [],
   "source": []
  },
  {
   "cell_type": "code",
   "execution_count": null,
   "id": "saving-secretariat",
   "metadata": {
    "papermill": {
     "duration": 0.013713,
     "end_time": "2022-07-02T03:14:13.506039",
     "exception": false,
     "start_time": "2022-07-02T03:14:13.492326",
     "status": "completed"
    },
    "tags": []
   },
   "outputs": [],
   "source": []
  }
 ],
 "metadata": {
  "kernelspec": {
   "display_name": "Python 3",
   "language": "python",
   "name": "python3"
  },
  "language_info": {
   "codemirror_mode": {
    "name": "ipython",
    "version": 3
   },
   "file_extension": ".py",
   "mimetype": "text/x-python",
   "name": "python",
   "nbconvert_exporter": "python",
   "pygments_lexer": "ipython3",
   "version": "3.6.15"
  },
  "papermill": {
   "default_parameters": {},
   "duration": 18.358164,
   "end_time": "2022-07-02T03:14:14.041323",
   "environment_variables": {},
   "exception": null,
   "input_path": "App-Correlation_charts.ipynb",
   "output_path": "App-Correlation_charts.ipynb",
   "parameters": {},
   "start_time": "2022-07-02T03:13:55.683159",
   "version": "2.2.2"
  }
 },
 "nbformat": 4,
 "nbformat_minor": 5
}