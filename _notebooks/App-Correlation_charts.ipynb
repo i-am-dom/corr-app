{
 "cells": [
  {
   "cell_type": "markdown",
   "id": "touched-facility",
   "metadata": {
    "papermill": {
     "duration": 0.016636,
     "end_time": "2021-11-05T01:57:58.280607",
     "exception": false,
     "start_time": "2021-11-05T01:57:58.263971",
     "status": "completed"
    },
    "tags": []
   },
   "source": [
    "# Koreliacijų matrica\n",
    "> Išplėstinė koreliacijų matrica. \n",
    "\n",
    "- toc: true \n",
    "- badges: true\n",
    "- comments: false\n",
    "- categories: [Dominykas Tautkus]\n",
    "- image: images/matrix.png"
   ]
  },
  {
   "cell_type": "code",
   "execution_count": null,
   "id": "premium-weekend",
   "metadata": {
    "papermill": {
     "duration": 0.012201,
     "end_time": "2021-11-05T01:57:58.306361",
     "exception": false,
     "start_time": "2021-11-05T01:57:58.294160",
     "status": "completed"
    },
    "tags": []
   },
   "outputs": [],
   "source": []
  },
  {
   "cell_type": "code",
   "execution_count": 1,
   "id": "vertical-rebate",
   "metadata": {
    "execution": {
     "iopub.execute_input": "2021-11-05T01:57:58.346634Z",
     "iopub.status.busy": "2021-11-05T01:57:58.344903Z",
     "iopub.status.idle": "2021-11-05T01:57:58.357411Z",
     "shell.execute_reply": "2021-11-05T01:57:58.356851Z"
    },
    "papermill": {
     "duration": 0.037336,
     "end_time": "2021-11-05T01:57:58.357790",
     "exception": false,
     "start_time": "2021-11-05T01:57:58.320454",
     "status": "completed"
    },
    "tags": []
   },
   "outputs": [],
   "source": [
    "#hide\n",
    "%load_ext autoreload\n",
    "%autoreload 2"
   ]
  },
  {
   "cell_type": "code",
   "execution_count": 2,
   "id": "overall-advancement",
   "metadata": {
    "execution": {
     "iopub.execute_input": "2021-11-05T01:57:58.393100Z",
     "iopub.status.busy": "2021-11-05T01:57:58.392453Z",
     "iopub.status.idle": "2021-11-05T01:57:59.650228Z",
     "shell.execute_reply": "2021-11-05T01:57:59.649687Z"
    },
    "papermill": {
     "duration": 1.279304,
     "end_time": "2021-11-05T01:57:59.650370",
     "exception": false,
     "start_time": "2021-11-05T01:57:58.371066",
     "status": "completed"
    },
    "tags": []
   },
   "outputs": [],
   "source": [
    "#hide\n",
    "from scripts.read_data import read_api\n",
    "from IPython.display import HTML\n",
    "import plotly.graph_objects as go\n"
   ]
  },
  {
   "cell_type": "code",
   "execution_count": 3,
   "id": "light-crazy",
   "metadata": {
    "execution": {
     "iopub.execute_input": "2021-11-05T01:57:59.691111Z",
     "iopub.status.busy": "2021-11-05T01:57:59.690501Z",
     "iopub.status.idle": "2021-11-05T01:57:59.714601Z",
     "shell.execute_reply": "2021-11-05T01:57:59.713899Z"
    },
    "papermill": {
     "duration": 0.049779,
     "end_time": "2021-11-05T01:57:59.714770",
     "exception": false,
     "start_time": "2021-11-05T01:57:59.664991",
     "status": "completed"
    },
    "tags": []
   },
   "outputs": [],
   "source": [
    "#hide\n",
    "### ICO koreliacija"
   ]
  },
  {
   "cell_type": "code",
   "execution_count": 4,
   "id": "likely-bahrain",
   "metadata": {
    "execution": {
     "iopub.execute_input": "2021-11-05T01:57:59.748193Z",
     "iopub.status.busy": "2021-11-05T01:57:59.747601Z",
     "iopub.status.idle": "2021-11-05T01:58:00.693669Z",
     "shell.execute_reply": "2021-11-05T01:58:00.693136Z"
    },
    "papermill": {
     "duration": 0.965571,
     "end_time": "2021-11-05T01:58:00.693812",
     "exception": false,
     "start_time": "2021-11-05T01:57:59.728241",
     "status": "completed"
    },
    "tags": []
   },
   "outputs": [],
   "source": [
    "#hide\n",
    "import matplotlib.pyplot as plt\n",
    "import numpy as np\n",
    "import pandas as pd\n",
    "import seaborn as sns\n",
    "import matplotlib.pyplot as plt \n",
    "import matplotlib.dates as mdates\n",
    "import matplotlib.pyplot as plt"
   ]
  },
  {
   "cell_type": "code",
   "execution_count": 5,
   "id": "superior-blanket",
   "metadata": {
    "execution": {
     "iopub.execute_input": "2021-11-05T01:58:00.730257Z",
     "iopub.status.busy": "2021-11-05T01:58:00.728855Z",
     "iopub.status.idle": "2021-11-05T01:58:14.788983Z",
     "shell.execute_reply": "2021-11-05T01:58:14.788403Z"
    },
    "papermill": {
     "duration": 14.079284,
     "end_time": "2021-11-05T01:58:14.789132",
     "exception": false,
     "start_time": "2021-11-05T01:58:00.709848",
     "status": "completed"
    },
    "tags": []
   },
   "outputs": [
    {
     "name": "stderr",
     "output_type": "stream",
     "text": [
      "/home/runner/work/corr-app/corr-app/_notebooks/scripts/read_data.py:187: SettingWithCopyWarning:\n",
      "\n",
      "\n",
      "A value is trying to be set on a copy of a slice from a DataFrame.\n",
      "Try using .loc[row_indexer,col_indexer] = value instead\n",
      "\n",
      "See the caveats in the documentation: https://pandas.pydata.org/pandas-docs/stable/user_guide/indexing.html#returning-a-view-versus-a-copy\n",
      "\n"
     ]
    },
    {
     "name": "stderr",
     "output_type": "stream",
     "text": [
      "/home/runner/work/corr-app/corr-app/_notebooks/scripts/read_data.py:215: SettingWithCopyWarning:\n",
      "\n",
      "\n",
      "A value is trying to be set on a copy of a slice from a DataFrame.\n",
      "Try using .loc[row_indexer,col_indexer] = value instead\n",
      "\n",
      "See the caveats in the documentation: https://pandas.pydata.org/pandas-docs/stable/user_guide/indexing.html#returning-a-view-versus-a-copy\n",
      "\n"
     ]
    }
   ],
   "source": [
    "#hide\n",
    "df_all = read_api()\n",
    "#df_all = df_all.drop(['SP500', 'XAU', 'ETH', 'BTC'], axis=1)\n",
    "\n"
   ]
  },
  {
   "cell_type": "code",
   "execution_count": 6,
   "id": "mature-alert",
   "metadata": {
    "execution": {
     "iopub.execute_input": "2021-11-05T01:58:14.821698Z",
     "iopub.status.busy": "2021-11-05T01:58:14.820958Z",
     "iopub.status.idle": "2021-11-05T01:58:14.854565Z",
     "shell.execute_reply": "2021-11-05T01:58:14.853983Z"
    },
    "papermill": {
     "duration": 0.052275,
     "end_time": "2021-11-05T01:58:14.854766",
     "exception": false,
     "start_time": "2021-11-05T01:58:14.802491",
     "status": "completed"
    },
    "tags": []
   },
   "outputs": [],
   "source": [
    "#hide_input\n",
    "sum_corr = df_all.corr().sum().sort_values(ascending=True).index.values\n",
    "#df_all[sum_corr].corr()"
   ]
  },
  {
   "cell_type": "markdown",
   "id": "complex-syndicate",
   "metadata": {
    "papermill": {
     "duration": 0.012745,
     "end_time": "2021-11-05T01:58:14.880692",
     "exception": false,
     "start_time": "2021-11-05T01:58:14.867947",
     "status": "completed"
    },
    "tags": []
   },
   "source": [
    "## Išplėstinė koreliacijų matrica. "
   ]
  },
  {
   "cell_type": "code",
   "execution_count": 7,
   "id": "atomic-omaha",
   "metadata": {
    "execution": {
     "iopub.execute_input": "2021-11-05T01:58:14.910889Z",
     "iopub.status.busy": "2021-11-05T01:58:14.910277Z",
     "iopub.status.idle": "2021-11-05T01:58:16.242916Z",
     "shell.execute_reply": "2021-11-05T01:58:16.242392Z"
    },
    "papermill": {
     "duration": 1.349452,
     "end_time": "2021-11-05T01:58:16.243050",
     "exception": false,
     "start_time": "2021-11-05T01:58:14.893598",
     "status": "completed"
    },
    "tags": []
   },
   "outputs": [
    {
     "data": {
      "image/png": "[encoded data removed]",
      "text/plain": [
       "<Figure size 1080x792 with 2 Axes>"
      ]
     },
     "metadata": {
      "needs_background": "light"
     },
     "output_type": "display_data"
    }
   ],
   "source": [
    "#hide_input\n",
    "plt.figure(figsize=(15, 11))\n",
    "sns.heatmap(df_all[sum_corr].corr(), annot=True, cmap=\"cubehelix\") \n",
    "sns.set(font_scale=1.25)\n",
    "plt.savefig('corr_matrix.png', format='eps')"
   ]
  },
  {
   "cell_type": "code",
   "execution_count": 8,
   "id": "arbitrary-sullivan",
   "metadata": {
    "execution": {
     "iopub.execute_input": "2021-11-05T01:58:16.280871Z",
     "iopub.status.busy": "2021-11-05T01:58:16.278607Z",
     "iopub.status.idle": "2021-11-05T01:58:16.308166Z",
     "shell.execute_reply": "2021-11-05T01:58:16.307309Z"
    },
    "papermill": {
     "duration": 0.050646,
     "end_time": "2021-11-05T01:58:16.309394",
     "exception": false,
     "start_time": "2021-11-05T01:58:16.258748",
     "status": "completed"
    },
    "tags": []
   },
   "outputs": [],
   "source": [
    "#hide\n",
    "#df_all_mrk = read_api()"
   ]
  },
  {
   "cell_type": "code",
   "execution_count": 9,
   "id": "delayed-adapter",
   "metadata": {
    "execution": {
     "iopub.execute_input": "2021-11-05T01:58:16.345786Z",
     "iopub.status.busy": "2021-11-05T01:58:16.345035Z",
     "iopub.status.idle": "2021-11-05T01:58:16.375519Z",
     "shell.execute_reply": "2021-11-05T01:58:16.374837Z"
    },
    "papermill": {
     "duration": 0.050347,
     "end_time": "2021-11-05T01:58:16.375683",
     "exception": false,
     "start_time": "2021-11-05T01:58:16.325336",
     "status": "completed"
    },
    "tags": []
   },
   "outputs": [],
   "source": [
    "#hide\n",
    "#Koreliacijų koeficientai"
   ]
  },
  {
   "cell_type": "code",
   "execution_count": 10,
   "id": "seeing-celebration",
   "metadata": {
    "execution": {
     "iopub.execute_input": "2021-11-05T01:58:16.410344Z",
     "iopub.status.busy": "2021-11-05T01:58:16.409753Z",
     "iopub.status.idle": "2021-11-05T01:58:16.438760Z",
     "shell.execute_reply": "2021-11-05T01:58:16.438174Z"
    },
    "papermill": {
     "duration": 0.047871,
     "end_time": "2021-11-05T01:58:16.438884",
     "exception": false,
     "start_time": "2021-11-05T01:58:16.391013",
     "status": "completed"
    },
    "tags": []
   },
   "outputs": [],
   "source": [
    "#hide_input\n",
    "#sum_corr = df_all_mrk.corr().sum().sort_values(ascending=True).index.values\n",
    "#df_all_mrk[sum_corr].corr()"
   ]
  },
  {
   "cell_type": "code",
   "execution_count": 11,
   "id": "other-painting",
   "metadata": {
    "execution": {
     "iopub.execute_input": "2021-11-05T01:58:16.475525Z",
     "iopub.status.busy": "2021-11-05T01:58:16.474945Z",
     "iopub.status.idle": "2021-11-05T01:58:16.504627Z",
     "shell.execute_reply": "2021-11-05T01:58:16.503828Z"
    },
    "papermill": {
     "duration": 0.050888,
     "end_time": "2021-11-05T01:58:16.504812",
     "exception": false,
     "start_time": "2021-11-05T01:58:16.453924",
     "status": "completed"
    },
    "tags": []
   },
   "outputs": [],
   "source": [
    "#hide\n",
    "#Koreliacijos matrica. "
   ]
  },
  {
   "cell_type": "code",
   "execution_count": 12,
   "id": "modular-magnitude",
   "metadata": {
    "execution": {
     "iopub.execute_input": "2021-11-05T01:58:16.539924Z",
     "iopub.status.busy": "2021-11-05T01:58:16.539341Z",
     "iopub.status.idle": "2021-11-05T01:58:16.567092Z",
     "shell.execute_reply": "2021-11-05T01:58:16.566589Z"
    },
    "papermill": {
     "duration": 0.045587,
     "end_time": "2021-11-05T01:58:16.567213",
     "exception": false,
     "start_time": "2021-11-05T01:58:16.521626",
     "status": "completed"
    },
    "tags": []
   },
   "outputs": [],
   "source": [
    "#hide_input\n",
    "#plt.figure(figsize=(15, 8))\n",
    "#sns.heatmap(df_all_mrk[sum_corr].corr(), annot=True, cmap=\"BrBG\");\n",
    "#plt.savefig('corr_matrix_all.eps', format='eps')"
   ]
  },
  {
   "cell_type": "code",
   "execution_count": null,
   "id": "original-senator",
   "metadata": {
    "papermill": {
     "duration": 0.014817,
     "end_time": "2021-11-05T01:58:16.597045",
     "exception": false,
     "start_time": "2021-11-05T01:58:16.582228",
     "status": "completed"
    },
    "tags": []
   },
   "outputs": [],
   "source": []
  },
  {
   "cell_type": "code",
   "execution_count": null,
   "id": "saving-secretariat",
   "metadata": {
    "papermill": {
     "duration": 0.014911,
     "end_time": "2021-11-05T01:58:16.626854",
     "exception": false,
     "start_time": "2021-11-05T01:58:16.611943",
     "status": "completed"
    },
    "tags": []
   },
   "outputs": [],
   "source": []
  }
 ],
 "metadata": {
  "kernelspec": {
   "display_name": "Python 3",
   "language": "python",
   "name": "python3"
  },
  "language_info": {
   "codemirror_mode": {
    "name": "ipython",
    "version": 3
   },
   "file_extension": ".py",
   "mimetype": "text/x-python",
   "name": "python",
   "nbconvert_exporter": "python",
   "pygments_lexer": "ipython3",
   "version": "3.6.15"
  },
  "papermill": {
   "default_parameters": {},
   "duration": 19.970857,
   "end_time": "2021-11-05T01:58:17.153774",
   "environment_variables": {},
   "exception": null,
   "input_path": "App-Correlation_charts.ipynb",
   "output_path": "App-Correlation_charts.ipynb",
   "parameters": {},
   "start_time": "2021-11-05T01:57:57.182917",
   "version": "2.2.2"
  }
 },
 "nbformat": 4,
 "nbformat_minor": 5
}