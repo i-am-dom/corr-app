{
 "cells": [
  {
   "cell_type": "markdown",
   "id": "touched-facility",
   "metadata": {
    "papermill": {
     "duration": 0.016928,
     "end_time": "2022-10-15T03:38:03.907058",
     "exception": false,
     "start_time": "2022-10-15T03:38:03.890130",
     "status": "completed"
    },
    "tags": []
   },
   "source": [
    "# Koreliacijų matrica\n",
    "> Išplėstinė koreliacijų matrica. \n",
    "\n",
    "- toc: true \n",
    "- badges: true\n",
    "- comments: false\n",
    "- categories: [Dominykas Tautkus]\n",
    "- image: images/matrix.png"
   ]
  },
  {
   "cell_type": "code",
   "execution_count": null,
   "id": "premium-weekend",
   "metadata": {
    "papermill": {
     "duration": 0.012727,
     "end_time": "2022-10-15T03:38:03.935396",
     "exception": false,
     "start_time": "2022-10-15T03:38:03.922669",
     "status": "completed"
    },
    "tags": []
   },
   "outputs": [],
   "source": []
  },
  {
   "cell_type": "code",
   "execution_count": 1,
   "id": "vertical-rebate",
   "metadata": {
    "execution": {
     "iopub.execute_input": "2022-10-15T03:38:03.972154Z",
     "iopub.status.busy": "2022-10-15T03:38:03.971420Z",
     "iopub.status.idle": "2022-10-15T03:38:03.983996Z",
     "shell.execute_reply": "2022-10-15T03:38:03.983437Z"
    },
    "papermill": {
     "duration": 0.036,
     "end_time": "2022-10-15T03:38:03.984180",
     "exception": false,
     "start_time": "2022-10-15T03:38:03.948180",
     "status": "completed"
    },
    "tags": []
   },
   "outputs": [],
   "source": [
    "#hide\n",
    "%load_ext autoreload\n",
    "%autoreload 2"
   ]
  },
  {
   "cell_type": "code",
   "execution_count": 2,
   "id": "overall-advancement",
   "metadata": {
    "execution": {
     "iopub.execute_input": "2022-10-15T03:38:04.021442Z",
     "iopub.status.busy": "2022-10-15T03:38:04.020696Z",
     "iopub.status.idle": "2022-10-15T03:38:05.745329Z",
     "shell.execute_reply": "2022-10-15T03:38:05.744758Z"
    },
    "papermill": {
     "duration": 1.749339,
     "end_time": "2022-10-15T03:38:05.745470",
     "exception": false,
     "start_time": "2022-10-15T03:38:03.996131",
     "status": "completed"
    },
    "tags": []
   },
   "outputs": [],
   "source": [
    "#hide\n",
    "from scripts.read_data import read_api\n",
    "from IPython.display import HTML\n",
    "import plotly.graph_objects as go\n"
   ]
  },
  {
   "cell_type": "code",
   "execution_count": 3,
   "id": "light-crazy",
   "metadata": {
    "execution": {
     "iopub.execute_input": "2022-10-15T03:38:05.782676Z",
     "iopub.status.busy": "2022-10-15T03:38:05.774933Z",
     "iopub.status.idle": "2022-10-15T03:38:05.804205Z",
     "shell.execute_reply": "2022-10-15T03:38:05.803360Z"
    },
    "papermill": {
     "duration": 0.046509,
     "end_time": "2022-10-15T03:38:05.804337",
     "exception": false,
     "start_time": "2022-10-15T03:38:05.757828",
     "status": "completed"
    },
    "tags": []
   },
   "outputs": [],
   "source": [
    "#hide\n",
    "### ICO koreliacija"
   ]
  },
  {
   "cell_type": "code",
   "execution_count": 4,
   "id": "likely-bahrain",
   "metadata": {
    "execution": {
     "iopub.execute_input": "2022-10-15T03:38:05.833627Z",
     "iopub.status.busy": "2022-10-15T03:38:05.832943Z",
     "iopub.status.idle": "2022-10-15T03:38:06.820374Z",
     "shell.execute_reply": "2022-10-15T03:38:06.820912Z"
    },
    "papermill": {
     "duration": 1.004615,
     "end_time": "2022-10-15T03:38:06.821081",
     "exception": false,
     "start_time": "2022-10-15T03:38:05.816466",
     "status": "completed"
    },
    "tags": []
   },
   "outputs": [],
   "source": [
    "#hide\n",
    "import matplotlib.pyplot as plt\n",
    "import numpy as np\n",
    "import pandas as pd\n",
    "import seaborn as sns\n",
    "import matplotlib.pyplot as plt \n",
    "import matplotlib.dates as mdates\n",
    "import matplotlib.pyplot as plt"
   ]
  },
  {
   "cell_type": "code",
   "execution_count": 5,
   "id": "superior-blanket",
   "metadata": {
    "execution": {
     "iopub.execute_input": "2022-10-15T03:38:06.866158Z",
     "iopub.status.busy": "2022-10-15T03:38:06.859980Z",
     "iopub.status.idle": "2022-10-15T03:38:20.684561Z",
     "shell.execute_reply": "2022-10-15T03:38:20.683942Z"
    },
    "papermill": {
     "duration": 13.849222,
     "end_time": "2022-10-15T03:38:20.684703",
     "exception": false,
     "start_time": "2022-10-15T03:38:06.835481",
     "status": "completed"
    },
    "tags": []
   },
   "outputs": [
    {
     "name": "stderr",
     "output_type": "stream",
     "text": [
      "/home/runner/work/corr-app/corr-app/_notebooks/scripts/read_data.py:187: SettingWithCopyWarning:\n",
      "\n",
      "\n",
      "A value is trying to be set on a copy of a slice from a DataFrame.\n",
      "Try using .loc[row_indexer,col_indexer] = value instead\n",
      "\n",
      "See the caveats in the documentation: https://pandas.pydata.org/pandas-docs/stable/user_guide/indexing.html#returning-a-view-versus-a-copy\n",
      "\n"
     ]
    },
    {
     "name": "stderr",
     "output_type": "stream",
     "text": [
      "/home/runner/work/corr-app/corr-app/_notebooks/scripts/read_data.py:215: SettingWithCopyWarning:\n",
      "\n",
      "\n",
      "A value is trying to be set on a copy of a slice from a DataFrame.\n",
      "Try using .loc[row_indexer,col_indexer] = value instead\n",
      "\n",
      "See the caveats in the documentation: https://pandas.pydata.org/pandas-docs/stable/user_guide/indexing.html#returning-a-view-versus-a-copy\n",
      "\n"
     ]
    }
   ],
   "source": [
    "#hide\n",
    "df_all = read_api()\n",
    "#df_all = df_all.drop(['SP500', 'XAU', 'ETH', 'BTC'], axis=1)\n",
    "\n"
   ]
  },
  {
   "cell_type": "code",
   "execution_count": 6,
   "id": "mature-alert",
   "metadata": {
    "execution": {
     "iopub.execute_input": "2022-10-15T03:38:20.724906Z",
     "iopub.status.busy": "2022-10-15T03:38:20.720851Z",
     "iopub.status.idle": "2022-10-15T03:38:20.756623Z",
     "shell.execute_reply": "2022-10-15T03:38:20.759471Z"
    },
    "papermill": {
     "duration": 0.058689,
     "end_time": "2022-10-15T03:38:20.759649",
     "exception": false,
     "start_time": "2022-10-15T03:38:20.700960",
     "status": "completed"
    },
    "tags": []
   },
   "outputs": [],
   "source": [
    "#hide_input\n",
    "sum_corr = df_all.corr().sum().sort_values(ascending=True).index.values\n",
    "#df_all[sum_corr].corr()"
   ]
  },
  {
   "cell_type": "markdown",
   "id": "complex-syndicate",
   "metadata": {
    "papermill": {
     "duration": 0.013152,
     "end_time": "2022-10-15T03:38:20.789018",
     "exception": false,
     "start_time": "2022-10-15T03:38:20.775866",
     "status": "completed"
    },
    "tags": []
   },
   "source": [
    "## Išplėstinė koreliacijų matrica. "
   ]
  },
  {
   "cell_type": "code",
   "execution_count": 7,
   "id": "atomic-omaha",
   "metadata": {
    "execution": {
     "iopub.execute_input": "2022-10-15T03:38:20.824490Z",
     "iopub.status.busy": "2022-10-15T03:38:20.819583Z",
     "iopub.status.idle": "2022-10-15T03:38:22.374653Z",
     "shell.execute_reply": "2022-10-15T03:38:22.374003Z"
    },
    "papermill": {
     "duration": 1.57275,
     "end_time": "2022-10-15T03:38:22.374786",
     "exception": false,
     "start_time": "2022-10-15T03:38:20.802036",
     "status": "completed"
    },
    "tags": []
   },
   "outputs": [
    {
     "data": {
      "image/png": "[encoded data removed]",
      "text/plain": [
       "<Figure size 1080x792 with 2 Axes>"
      ]
     },
     "metadata": {
      "needs_background": "light"
     },
     "output_type": "display_data"
    }
   ],
   "source": [
    "#hide_input\n",
    "plt.figure(figsize=(15, 11))\n",
    "sns.heatmap(df_all[sum_corr].corr(), annot=True, cmap=\"cubehelix\") \n",
    "sns.set(font_scale=1.25)\n",
    "plt.savefig('corr_matrix.png', format='eps')"
   ]
  },
  {
   "cell_type": "code",
   "execution_count": 8,
   "id": "arbitrary-sullivan",
   "metadata": {
    "execution": {
     "iopub.execute_input": "2022-10-15T03:38:22.413431Z",
     "iopub.status.busy": "2022-10-15T03:38:22.408930Z",
     "iopub.status.idle": "2022-10-15T03:38:22.438766Z",
     "shell.execute_reply": "2022-10-15T03:38:22.437848Z"
    },
    "papermill": {
     "duration": 0.048265,
     "end_time": "2022-10-15T03:38:22.438901",
     "exception": false,
     "start_time": "2022-10-15T03:38:22.390636",
     "status": "completed"
    },
    "tags": []
   },
   "outputs": [],
   "source": [
    "#hide\n",
    "#df_all_mrk = read_api()"
   ]
  },
  {
   "cell_type": "code",
   "execution_count": 9,
   "id": "delayed-adapter",
   "metadata": {
    "execution": {
     "iopub.execute_input": "2022-10-15T03:38:22.485809Z",
     "iopub.status.busy": "2022-10-15T03:38:22.485116Z",
     "iopub.status.idle": "2022-10-15T03:38:22.509021Z",
     "shell.execute_reply": "2022-10-15T03:38:22.509545Z"
    },
    "papermill": {
     "duration": 0.056417,
     "end_time": "2022-10-15T03:38:22.509690",
     "exception": false,
     "start_time": "2022-10-15T03:38:22.453273",
     "status": "completed"
    },
    "tags": []
   },
   "outputs": [],
   "source": [
    "#hide\n",
    "#Koreliacijų koeficientai"
   ]
  },
  {
   "cell_type": "code",
   "execution_count": 10,
   "id": "seeing-celebration",
   "metadata": {
    "execution": {
     "iopub.execute_input": "2022-10-15T03:38:22.546542Z",
     "iopub.status.busy": "2022-10-15T03:38:22.545807Z",
     "iopub.status.idle": "2022-10-15T03:38:22.572451Z",
     "shell.execute_reply": "2022-10-15T03:38:22.571881Z"
    },
    "papermill": {
     "duration": 0.048089,
     "end_time": "2022-10-15T03:38:22.572587",
     "exception": false,
     "start_time": "2022-10-15T03:38:22.524498",
     "status": "completed"
    },
    "tags": []
   },
   "outputs": [],
   "source": [
    "#hide_input\n",
    "#sum_corr = df_all_mrk.corr().sum().sort_values(ascending=True).index.values\n",
    "#df_all_mrk[sum_corr].corr()"
   ]
  },
  {
   "cell_type": "code",
   "execution_count": 11,
   "id": "other-painting",
   "metadata": {
    "execution": {
     "iopub.execute_input": "2022-10-15T03:38:22.610112Z",
     "iopub.status.busy": "2022-10-15T03:38:22.609240Z",
     "iopub.status.idle": "2022-10-15T03:38:22.637173Z",
     "shell.execute_reply": "2022-10-15T03:38:22.636418Z"
    },
    "papermill": {
     "duration": 0.049774,
     "end_time": "2022-10-15T03:38:22.637321",
     "exception": false,
     "start_time": "2022-10-15T03:38:22.587547",
     "status": "completed"
    },
    "tags": []
   },
   "outputs": [],
   "source": [
    "#hide\n",
    "#Koreliacijos matrica. "
   ]
  },
  {
   "cell_type": "code",
   "execution_count": 12,
   "id": "modular-magnitude",
   "metadata": {
    "execution": {
     "iopub.execute_input": "2022-10-15T03:38:22.688965Z",
     "iopub.status.busy": "2022-10-15T03:38:22.681748Z",
     "iopub.status.idle": "2022-10-15T03:38:22.704901Z",
     "shell.execute_reply": "2022-10-15T03:38:22.705425Z"
    },
    "papermill": {
     "duration": 0.052571,
     "end_time": "2022-10-15T03:38:22.705570",
     "exception": false,
     "start_time": "2022-10-15T03:38:22.652999",
     "status": "completed"
    },
    "tags": []
   },
   "outputs": [],
   "source": [
    "#hide_input\n",
    "#plt.figure(figsize=(15, 8))\n",
    "#sns.heatmap(df_all_mrk[sum_corr].corr(), annot=True, cmap=\"BrBG\");\n",
    "#plt.savefig('corr_matrix_all.eps', format='eps')"
   ]
  },
  {
   "cell_type": "code",
   "execution_count": null,
   "id": "original-senator",
   "metadata": {
    "papermill": {
     "duration": 0.015179,
     "end_time": "2022-10-15T03:38:22.737396",
     "exception": false,
     "start_time": "2022-10-15T03:38:22.722217",
     "status": "completed"
    },
    "tags": []
   },
   "outputs": [],
   "source": []
  },
  {
   "cell_type": "code",
   "execution_count": null,
   "id": "saving-secretariat",
   "metadata": {
    "papermill": {
     "duration": 0.016026,
     "end_time": "2022-10-15T03:38:22.768595",
     "exception": false,
     "start_time": "2022-10-15T03:38:22.752569",
     "status": "completed"
    },
    "tags": []
   },
   "outputs": [],
   "source": []
  }
 ],
 "metadata": {
  "kernelspec": {
   "display_name": "Python 3",
   "language": "python",
   "name": "python3"
  },
  "language_info": {
   "codemirror_mode": {
    "name": "ipython",
    "version": 3
   },
   "file_extension": ".py",
   "mimetype": "text/x-python",
   "name": "python",
   "nbconvert_exporter": "python",
   "pygments_lexer": "ipython3",
   "version": "3.6.15"
  },
  "papermill": {
   "default_parameters": {},
   "duration": 20.80908,
   "end_time": "2022-10-15T03:38:23.404824",
   "environment_variables": {},
   "exception": null,
   "input_path": "App-Correlation_charts.ipynb",
   "output_path": "App-Correlation_charts.ipynb",
   "parameters": {},
   "start_time": "2022-10-15T03:38:02.595744",
   "version": "2.2.2"
  }
 },
 "nbformat": 4,
 "nbformat_minor": 5
}