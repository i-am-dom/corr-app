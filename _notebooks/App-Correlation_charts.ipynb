{
 "cells": [
  {
   "cell_type": "markdown",
   "id": "touched-facility",
   "metadata": {
    "papermill": {
     "duration": 0.016794,
     "end_time": "2021-11-13T01:55:50.190987",
     "exception": false,
     "start_time": "2021-11-13T01:55:50.174193",
     "status": "completed"
    },
    "tags": []
   },
   "source": [
    "# Koreliacijų matrica\n",
    "> Išplėstinė koreliacijų matrica. \n",
    "\n",
    "- toc: true \n",
    "- badges: true\n",
    "- comments: false\n",
    "- categories: [Dominykas Tautkus]\n",
    "- image: images/matrix.png"
   ]
  },
  {
   "cell_type": "code",
   "execution_count": null,
   "id": "premium-weekend",
   "metadata": {
    "papermill": {
     "duration": 0.01232,
     "end_time": "2021-11-13T01:55:50.215510",
     "exception": false,
     "start_time": "2021-11-13T01:55:50.203190",
     "status": "completed"
    },
    "tags": []
   },
   "outputs": [],
   "source": []
  },
  {
   "cell_type": "code",
   "execution_count": 1,
   "id": "vertical-rebate",
   "metadata": {
    "execution": {
     "iopub.execute_input": "2021-11-13T01:55:50.248044Z",
     "iopub.status.busy": "2021-11-13T01:55:50.247507Z",
     "iopub.status.idle": "2021-11-13T01:55:50.257560Z",
     "shell.execute_reply": "2021-11-13T01:55:50.258063Z"
    },
    "papermill": {
     "duration": 0.03219,
     "end_time": "2021-11-13T01:55:50.258200",
     "exception": false,
     "start_time": "2021-11-13T01:55:50.226010",
     "status": "completed"
    },
    "tags": []
   },
   "outputs": [],
   "source": [
    "#hide\n",
    "%load_ext autoreload\n",
    "%autoreload 2"
   ]
  },
  {
   "cell_type": "code",
   "execution_count": 2,
   "id": "overall-advancement",
   "metadata": {
    "execution": {
     "iopub.execute_input": "2021-11-13T01:55:50.284613Z",
     "iopub.status.busy": "2021-11-13T01:55:50.283932Z",
     "iopub.status.idle": "2021-11-13T01:55:51.565877Z",
     "shell.execute_reply": "2021-11-13T01:55:51.566489Z"
    },
    "papermill": {
     "duration": 1.296733,
     "end_time": "2021-11-13T01:55:51.566688",
     "exception": false,
     "start_time": "2021-11-13T01:55:50.269955",
     "status": "completed"
    },
    "tags": []
   },
   "outputs": [],
   "source": [
    "#hide\n",
    "from scripts.read_data import read_api\n",
    "from IPython.display import HTML\n",
    "import plotly.graph_objects as go\n"
   ]
  },
  {
   "cell_type": "code",
   "execution_count": 3,
   "id": "light-crazy",
   "metadata": {
    "execution": {
     "iopub.execute_input": "2021-11-13T01:55:51.595792Z",
     "iopub.status.busy": "2021-11-13T01:55:51.595094Z",
     "iopub.status.idle": "2021-11-13T01:55:51.617776Z",
     "shell.execute_reply": "2021-11-13T01:55:51.618193Z"
    },
    "papermill": {
     "duration": 0.038943,
     "end_time": "2021-11-13T01:55:51.618344",
     "exception": false,
     "start_time": "2021-11-13T01:55:51.579401",
     "status": "completed"
    },
    "tags": []
   },
   "outputs": [],
   "source": [
    "#hide\n",
    "### ICO koreliacija"
   ]
  },
  {
   "cell_type": "code",
   "execution_count": 4,
   "id": "likely-bahrain",
   "metadata": {
    "execution": {
     "iopub.execute_input": "2021-11-13T01:55:51.648965Z",
     "iopub.status.busy": "2021-11-13T01:55:51.648395Z",
     "iopub.status.idle": "2021-11-13T01:55:52.535725Z",
     "shell.execute_reply": "2021-11-13T01:55:52.535135Z"
    },
    "papermill": {
     "duration": 0.904611,
     "end_time": "2021-11-13T01:55:52.535889",
     "exception": false,
     "start_time": "2021-11-13T01:55:51.631278",
     "status": "completed"
    },
    "tags": []
   },
   "outputs": [],
   "source": [
    "#hide\n",
    "import matplotlib.pyplot as plt\n",
    "import numpy as np\n",
    "import pandas as pd\n",
    "import seaborn as sns\n",
    "import matplotlib.pyplot as plt \n",
    "import matplotlib.dates as mdates\n",
    "import matplotlib.pyplot as plt"
   ]
  },
  {
   "cell_type": "code",
   "execution_count": 5,
   "id": "superior-blanket",
   "metadata": {
    "execution": {
     "iopub.execute_input": "2021-11-13T01:55:52.563373Z",
     "iopub.status.busy": "2021-11-13T01:55:52.562832Z",
     "iopub.status.idle": "2021-11-13T01:56:05.291037Z",
     "shell.execute_reply": "2021-11-13T01:56:05.290313Z"
    },
    "papermill": {
     "duration": 12.74346,
     "end_time": "2021-11-13T01:56:05.291164",
     "exception": false,
     "start_time": "2021-11-13T01:55:52.547704",
     "status": "completed"
    },
    "tags": []
   },
   "outputs": [
    {
     "name": "stderr",
     "output_type": "stream",
     "text": [
      "/home/runner/work/corr-app/corr-app/_notebooks/scripts/read_data.py:187: SettingWithCopyWarning:\n",
      "\n",
      "\n",
      "A value is trying to be set on a copy of a slice from a DataFrame.\n",
      "Try using .loc[row_indexer,col_indexer] = value instead\n",
      "\n",
      "See the caveats in the documentation: https://pandas.pydata.org/pandas-docs/stable/user_guide/indexing.html#returning-a-view-versus-a-copy\n",
      "\n"
     ]
    },
    {
     "name": "stderr",
     "output_type": "stream",
     "text": [
      "/home/runner/work/corr-app/corr-app/_notebooks/scripts/read_data.py:215: SettingWithCopyWarning:\n",
      "\n",
      "\n",
      "A value is trying to be set on a copy of a slice from a DataFrame.\n",
      "Try using .loc[row_indexer,col_indexer] = value instead\n",
      "\n",
      "See the caveats in the documentation: https://pandas.pydata.org/pandas-docs/stable/user_guide/indexing.html#returning-a-view-versus-a-copy\n",
      "\n"
     ]
    }
   ],
   "source": [
    "#hide\n",
    "df_all = read_api()\n",
    "#df_all = df_all.drop(['SP500', 'XAU', 'ETH', 'BTC'], axis=1)\n",
    "\n"
   ]
  },
  {
   "cell_type": "code",
   "execution_count": 6,
   "id": "mature-alert",
   "metadata": {
    "execution": {
     "iopub.execute_input": "2021-11-13T01:56:05.322548Z",
     "iopub.status.busy": "2021-11-13T01:56:05.321791Z",
     "iopub.status.idle": "2021-11-13T01:56:05.354750Z",
     "shell.execute_reply": "2021-11-13T01:56:05.354195Z"
    },
    "papermill": {
     "duration": 0.049583,
     "end_time": "2021-11-13T01:56:05.354881",
     "exception": false,
     "start_time": "2021-11-13T01:56:05.305298",
     "status": "completed"
    },
    "tags": []
   },
   "outputs": [],
   "source": [
    "#hide_input\n",
    "sum_corr = df_all.corr().sum().sort_values(ascending=True).index.values\n",
    "#df_all[sum_corr].corr()"
   ]
  },
  {
   "cell_type": "markdown",
   "id": "complex-syndicate",
   "metadata": {
    "papermill": {
     "duration": 0.013502,
     "end_time": "2021-11-13T01:56:05.380593",
     "exception": false,
     "start_time": "2021-11-13T01:56:05.367091",
     "status": "completed"
    },
    "tags": []
   },
   "source": [
    "## Išplėstinė koreliacijų matrica. "
   ]
  },
  {
   "cell_type": "code",
   "execution_count": 7,
   "id": "atomic-omaha",
   "metadata": {
    "execution": {
     "iopub.execute_input": "2021-11-13T01:56:05.411755Z",
     "iopub.status.busy": "2021-11-13T01:56:05.411044Z",
     "iopub.status.idle": "2021-11-13T01:56:06.965461Z",
     "shell.execute_reply": "2021-11-13T01:56:06.965879Z"
    },
    "papermill": {
     "duration": 1.571639,
     "end_time": "2021-11-13T01:56:06.966059",
     "exception": false,
     "start_time": "2021-11-13T01:56:05.394420",
     "status": "completed"
    },
    "tags": []
   },
   "outputs": [
    {
     "data": {
      "image/png": "[encoded data removed]",
      "text/plain": [
       "<Figure size 1080x792 with 2 Axes>"
      ]
     },
     "metadata": {
      "needs_background": "light"
     },
     "output_type": "display_data"
    }
   ],
   "source": [
    "#hide_input\n",
    "plt.figure(figsize=(15, 11))\n",
    "sns.heatmap(df_all[sum_corr].corr(), annot=True, cmap=\"cubehelix\") \n",
    "sns.set(font_scale=1.25)\n",
    "plt.savefig('corr_matrix.png', format='eps')"
   ]
  },
  {
   "cell_type": "code",
   "execution_count": 8,
   "id": "arbitrary-sullivan",
   "metadata": {
    "execution": {
     "iopub.execute_input": "2021-11-13T01:56:07.002209Z",
     "iopub.status.busy": "2021-11-13T01:56:07.001537Z",
     "iopub.status.idle": "2021-11-13T01:56:07.031475Z",
     "shell.execute_reply": "2021-11-13T01:56:07.032045Z"
    },
    "papermill": {
     "duration": 0.048957,
     "end_time": "2021-11-13T01:56:07.032176",
     "exception": false,
     "start_time": "2021-11-13T01:56:06.983219",
     "status": "completed"
    },
    "tags": []
   },
   "outputs": [],
   "source": [
    "#hide\n",
    "#df_all_mrk = read_api()"
   ]
  },
  {
   "cell_type": "code",
   "execution_count": 9,
   "id": "delayed-adapter",
   "metadata": {
    "execution": {
     "iopub.execute_input": "2021-11-13T01:56:07.068329Z",
     "iopub.status.busy": "2021-11-13T01:56:07.067703Z",
     "iopub.status.idle": "2021-11-13T01:56:07.091869Z",
     "shell.execute_reply": "2021-11-13T01:56:07.092958Z"
    },
    "papermill": {
     "duration": 0.044913,
     "end_time": "2021-11-13T01:56:07.093153",
     "exception": false,
     "start_time": "2021-11-13T01:56:07.048240",
     "status": "completed"
    },
    "tags": []
   },
   "outputs": [],
   "source": [
    "#hide\n",
    "#Koreliacijų koeficientai"
   ]
  },
  {
   "cell_type": "code",
   "execution_count": 10,
   "id": "seeing-celebration",
   "metadata": {
    "execution": {
     "iopub.execute_input": "2021-11-13T01:56:07.130588Z",
     "iopub.status.busy": "2021-11-13T01:56:07.130001Z",
     "iopub.status.idle": "2021-11-13T01:56:07.152987Z",
     "shell.execute_reply": "2021-11-13T01:56:07.152488Z"
    },
    "papermill": {
     "duration": 0.044713,
     "end_time": "2021-11-13T01:56:07.153087",
     "exception": false,
     "start_time": "2021-11-13T01:56:07.108374",
     "status": "completed"
    },
    "tags": []
   },
   "outputs": [],
   "source": [
    "#hide_input\n",
    "#sum_corr = df_all_mrk.corr().sum().sort_values(ascending=True).index.values\n",
    "#df_all_mrk[sum_corr].corr()"
   ]
  },
  {
   "cell_type": "code",
   "execution_count": 11,
   "id": "other-painting",
   "metadata": {
    "execution": {
     "iopub.execute_input": "2021-11-13T01:56:07.186786Z",
     "iopub.status.busy": "2021-11-13T01:56:07.186131Z",
     "iopub.status.idle": "2021-11-13T01:56:07.209307Z",
     "shell.execute_reply": "2021-11-13T01:56:07.208758Z"
    },
    "papermill": {
     "duration": 0.041466,
     "end_time": "2021-11-13T01:56:07.209450",
     "exception": false,
     "start_time": "2021-11-13T01:56:07.167984",
     "status": "completed"
    },
    "tags": []
   },
   "outputs": [],
   "source": [
    "#hide\n",
    "#Koreliacijos matrica. "
   ]
  },
  {
   "cell_type": "code",
   "execution_count": 12,
   "id": "modular-magnitude",
   "metadata": {
    "execution": {
     "iopub.execute_input": "2021-11-13T01:56:07.238833Z",
     "iopub.status.busy": "2021-11-13T01:56:07.238251Z",
     "iopub.status.idle": "2021-11-13T01:56:07.259819Z",
     "shell.execute_reply": "2021-11-13T01:56:07.259410Z"
    },
    "papermill": {
     "duration": 0.036605,
     "end_time": "2021-11-13T01:56:07.259916",
     "exception": false,
     "start_time": "2021-11-13T01:56:07.223311",
     "status": "completed"
    },
    "tags": []
   },
   "outputs": [],
   "source": [
    "#hide_input\n",
    "#plt.figure(figsize=(15, 8))\n",
    "#sns.heatmap(df_all_mrk[sum_corr].corr(), annot=True, cmap=\"BrBG\");\n",
    "#plt.savefig('corr_matrix_all.eps', format='eps')"
   ]
  },
  {
   "cell_type": "code",
   "execution_count": null,
   "id": "original-senator",
   "metadata": {
    "papermill": {
     "duration": 0.013672,
     "end_time": "2021-11-13T01:56:07.286784",
     "exception": false,
     "start_time": "2021-11-13T01:56:07.273112",
     "status": "completed"
    },
    "tags": []
   },
   "outputs": [],
   "source": []
  },
  {
   "cell_type": "code",
   "execution_count": null,
   "id": "saving-secretariat",
   "metadata": {
    "papermill": {
     "duration": 0.013733,
     "end_time": "2021-11-13T01:56:07.313876",
     "exception": false,
     "start_time": "2021-11-13T01:56:07.300143",
     "status": "completed"
    },
    "tags": []
   },
   "outputs": [],
   "source": []
  }
 ],
 "metadata": {
  "kernelspec": {
   "display_name": "Python 3",
   "language": "python",
   "name": "python3"
  },
  "language_info": {
   "codemirror_mode": {
    "name": "ipython",
    "version": 3
   },
   "file_extension": ".py",
   "mimetype": "text/x-python",
   "name": "python",
   "nbconvert_exporter": "python",
   "pygments_lexer": "ipython3",
   "version": "3.6.15"
  },
  "papermill": {
   "default_parameters": {},
   "duration": 18.723759,
   "end_time": "2021-11-13T01:56:07.841377",
   "environment_variables": {},
   "exception": null,
   "input_path": "App-Correlation_charts.ipynb",
   "output_path": "App-Correlation_charts.ipynb",
   "parameters": {},
   "start_time": "2021-11-13T01:55:49.117618",
   "version": "2.2.2"
  }
 },
 "nbformat": 4,
 "nbformat_minor": 5
}