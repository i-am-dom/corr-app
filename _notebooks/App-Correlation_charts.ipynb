{
 "cells": [
  {
   "cell_type": "markdown",
   "id": "touched-facility",
   "metadata": {
    "papermill": {
     "duration": 0.012846,
     "end_time": "2022-03-28T02:39:36.769235",
     "exception": false,
     "start_time": "2022-03-28T02:39:36.756389",
     "status": "completed"
    },
    "tags": []
   },
   "source": [
    "# Koreliacijų matrica\n",
    "> Išplėstinė koreliacijų matrica. \n",
    "\n",
    "- toc: true \n",
    "- badges: true\n",
    "- comments: false\n",
    "- categories: [Dominykas Tautkus]\n",
    "- image: images/matrix.png"
   ]
  },
  {
   "cell_type": "code",
   "execution_count": null,
   "id": "premium-weekend",
   "metadata": {
    "papermill": {
     "duration": 0.009179,
     "end_time": "2022-03-28T02:39:36.788300",
     "exception": false,
     "start_time": "2022-03-28T02:39:36.779121",
     "status": "completed"
    },
    "tags": []
   },
   "outputs": [],
   "source": []
  },
  {
   "cell_type": "code",
   "execution_count": 1,
   "id": "vertical-rebate",
   "metadata": {
    "execution": {
     "iopub.execute_input": "2022-03-28T02:39:36.815973Z",
     "iopub.status.busy": "2022-03-28T02:39:36.815463Z",
     "iopub.status.idle": "2022-03-28T02:39:36.824715Z",
     "shell.execute_reply": "2022-03-28T02:39:36.825073Z"
    },
    "papermill": {
     "duration": 0.027668,
     "end_time": "2022-03-28T02:39:36.825194",
     "exception": false,
     "start_time": "2022-03-28T02:39:36.797526",
     "status": "completed"
    },
    "tags": []
   },
   "outputs": [],
   "source": [
    "#hide\n",
    "%load_ext autoreload\n",
    "%autoreload 2"
   ]
  },
  {
   "cell_type": "code",
   "execution_count": 2,
   "id": "overall-advancement",
   "metadata": {
    "execution": {
     "iopub.execute_input": "2022-03-28T02:39:36.851991Z",
     "iopub.status.busy": "2022-03-28T02:39:36.851538Z",
     "iopub.status.idle": "2022-03-28T02:39:38.072702Z",
     "shell.execute_reply": "2022-03-28T02:39:38.072176Z"
    },
    "papermill": {
     "duration": 1.23861,
     "end_time": "2022-03-28T02:39:38.072840",
     "exception": false,
     "start_time": "2022-03-28T02:39:36.834230",
     "status": "completed"
    },
    "tags": []
   },
   "outputs": [],
   "source": [
    "#hide\n",
    "from scripts.read_data import read_api\n",
    "from IPython.display import HTML\n",
    "import plotly.graph_objects as go\n"
   ]
  },
  {
   "cell_type": "code",
   "execution_count": 3,
   "id": "light-crazy",
   "metadata": {
    "execution": {
     "iopub.execute_input": "2022-03-28T02:39:38.100326Z",
     "iopub.status.busy": "2022-03-28T02:39:38.096665Z",
     "iopub.status.idle": "2022-03-28T02:39:38.117032Z",
     "shell.execute_reply": "2022-03-28T02:39:38.116667Z"
    },
    "papermill": {
     "duration": 0.033973,
     "end_time": "2022-03-28T02:39:38.117137",
     "exception": false,
     "start_time": "2022-03-28T02:39:38.083164",
     "status": "completed"
    },
    "tags": []
   },
   "outputs": [],
   "source": [
    "#hide\n",
    "### ICO koreliacija"
   ]
  },
  {
   "cell_type": "code",
   "execution_count": 4,
   "id": "likely-bahrain",
   "metadata": {
    "execution": {
     "iopub.execute_input": "2022-03-28T02:39:38.138847Z",
     "iopub.status.busy": "2022-03-28T02:39:38.138368Z",
     "iopub.status.idle": "2022-03-28T02:39:38.925763Z",
     "shell.execute_reply": "2022-03-28T02:39:38.925356Z"
    },
    "papermill": {
     "duration": 0.799476,
     "end_time": "2022-03-28T02:39:38.925876",
     "exception": false,
     "start_time": "2022-03-28T02:39:38.126400",
     "status": "completed"
    },
    "tags": []
   },
   "outputs": [],
   "source": [
    "#hide\n",
    "import matplotlib.pyplot as plt\n",
    "import numpy as np\n",
    "import pandas as pd\n",
    "import seaborn as sns\n",
    "import matplotlib.pyplot as plt \n",
    "import matplotlib.dates as mdates\n",
    "import matplotlib.pyplot as plt"
   ]
  },
  {
   "cell_type": "code",
   "execution_count": 5,
   "id": "superior-blanket",
   "metadata": {
    "execution": {
     "iopub.execute_input": "2022-03-28T02:39:38.953312Z",
     "iopub.status.busy": "2022-03-28T02:39:38.952832Z",
     "iopub.status.idle": "2022-03-28T02:39:51.793023Z",
     "shell.execute_reply": "2022-03-28T02:39:51.792577Z"
    },
    "papermill": {
     "duration": 12.857609,
     "end_time": "2022-03-28T02:39:51.793133",
     "exception": false,
     "start_time": "2022-03-28T02:39:38.935524",
     "status": "completed"
    },
    "tags": []
   },
   "outputs": [
    {
     "name": "stderr",
     "output_type": "stream",
     "text": [
      "/home/runner/work/corr-app/corr-app/_notebooks/scripts/read_data.py:187: SettingWithCopyWarning:\n",
      "\n",
      "\n",
      "A value is trying to be set on a copy of a slice from a DataFrame.\n",
      "Try using .loc[row_indexer,col_indexer] = value instead\n",
      "\n",
      "See the caveats in the documentation: https://pandas.pydata.org/pandas-docs/stable/user_guide/indexing.html#returning-a-view-versus-a-copy\n",
      "\n"
     ]
    },
    {
     "name": "stderr",
     "output_type": "stream",
     "text": [
      "/home/runner/work/corr-app/corr-app/_notebooks/scripts/read_data.py:215: SettingWithCopyWarning:\n",
      "\n",
      "\n",
      "A value is trying to be set on a copy of a slice from a DataFrame.\n",
      "Try using .loc[row_indexer,col_indexer] = value instead\n",
      "\n",
      "See the caveats in the documentation: https://pandas.pydata.org/pandas-docs/stable/user_guide/indexing.html#returning-a-view-versus-a-copy\n",
      "\n"
     ]
    }
   ],
   "source": [
    "#hide\n",
    "df_all = read_api()\n",
    "#df_all = df_all.drop(['SP500', 'XAU', 'ETH', 'BTC'], axis=1)\n",
    "\n"
   ]
  },
  {
   "cell_type": "code",
   "execution_count": 6,
   "id": "mature-alert",
   "metadata": {
    "execution": {
     "iopub.execute_input": "2022-03-28T02:39:51.816754Z",
     "iopub.status.busy": "2022-03-28T02:39:51.816294Z",
     "iopub.status.idle": "2022-03-28T02:39:51.842914Z",
     "shell.execute_reply": "2022-03-28T02:39:51.843284Z"
    },
    "papermill": {
     "duration": 0.0399,
     "end_time": "2022-03-28T02:39:51.843398",
     "exception": false,
     "start_time": "2022-03-28T02:39:51.803498",
     "status": "completed"
    },
    "tags": []
   },
   "outputs": [],
   "source": [
    "#hide_input\n",
    "sum_corr = df_all.corr().sum().sort_values(ascending=True).index.values\n",
    "#df_all[sum_corr].corr()"
   ]
  },
  {
   "cell_type": "markdown",
   "id": "complex-syndicate",
   "metadata": {
    "papermill": {
     "duration": 0.009746,
     "end_time": "2022-03-28T02:39:51.863114",
     "exception": false,
     "start_time": "2022-03-28T02:39:51.853368",
     "status": "completed"
    },
    "tags": []
   },
   "source": [
    "## Išplėstinė koreliacijų matrica. "
   ]
  },
  {
   "cell_type": "code",
   "execution_count": 7,
   "id": "atomic-omaha",
   "metadata": {
    "execution": {
     "iopub.execute_input": "2022-03-28T02:39:51.890535Z",
     "iopub.status.busy": "2022-03-28T02:39:51.890076Z",
     "iopub.status.idle": "2022-03-28T02:39:53.026499Z",
     "shell.execute_reply": "2022-03-28T02:39:53.025772Z"
    },
    "papermill": {
     "duration": 1.153669,
     "end_time": "2022-03-28T02:39:53.026618",
     "exception": false,
     "start_time": "2022-03-28T02:39:51.872949",
     "status": "completed"
    },
    "tags": []
   },
   "outputs": [
    {
     "data": {
      "image/png": "[encoded data removed]",
      "text/plain": [
       "<Figure size 1080x792 with 2 Axes>"
      ]
     },
     "metadata": {
      "needs_background": "light"
     },
     "output_type": "display_data"
    }
   ],
   "source": [
    "#hide_input\n",
    "plt.figure(figsize=(15, 11))\n",
    "sns.heatmap(df_all[sum_corr].corr(), annot=True, cmap=\"cubehelix\") \n",
    "sns.set(font_scale=1.25)\n",
    "plt.savefig('corr_matrix.png', format='eps')"
   ]
  },
  {
   "cell_type": "code",
   "execution_count": 8,
   "id": "arbitrary-sullivan",
   "metadata": {
    "execution": {
     "iopub.execute_input": "2022-03-28T02:39:53.053311Z",
     "iopub.status.busy": "2022-03-28T02:39:53.052814Z",
     "iopub.status.idle": "2022-03-28T02:39:53.076638Z",
     "shell.execute_reply": "2022-03-28T02:39:53.076243Z"
    },
    "papermill": {
     "duration": 0.038103,
     "end_time": "2022-03-28T02:39:53.076740",
     "exception": false,
     "start_time": "2022-03-28T02:39:53.038637",
     "status": "completed"
    },
    "tags": []
   },
   "outputs": [],
   "source": [
    "#hide\n",
    "#df_all_mrk = read_api()"
   ]
  },
  {
   "cell_type": "code",
   "execution_count": 9,
   "id": "delayed-adapter",
   "metadata": {
    "execution": {
     "iopub.execute_input": "2022-03-28T02:39:53.109821Z",
     "iopub.status.busy": "2022-03-28T02:39:53.108633Z",
     "iopub.status.idle": "2022-03-28T02:39:53.128733Z",
     "shell.execute_reply": "2022-03-28T02:39:53.128098Z"
    },
    "papermill": {
     "duration": 0.040458,
     "end_time": "2022-03-28T02:39:53.128838",
     "exception": false,
     "start_time": "2022-03-28T02:39:53.088380",
     "status": "completed"
    },
    "tags": []
   },
   "outputs": [],
   "source": [
    "#hide\n",
    "#Koreliacijų koeficientai"
   ]
  },
  {
   "cell_type": "code",
   "execution_count": 10,
   "id": "seeing-celebration",
   "metadata": {
    "execution": {
     "iopub.execute_input": "2022-03-28T02:39:53.157097Z",
     "iopub.status.busy": "2022-03-28T02:39:53.156604Z",
     "iopub.status.idle": "2022-03-28T02:39:53.178668Z",
     "shell.execute_reply": "2022-03-28T02:39:53.178227Z"
    },
    "papermill": {
     "duration": 0.037406,
     "end_time": "2022-03-28T02:39:53.178761",
     "exception": false,
     "start_time": "2022-03-28T02:39:53.141355",
     "status": "completed"
    },
    "tags": []
   },
   "outputs": [],
   "source": [
    "#hide_input\n",
    "#sum_corr = df_all_mrk.corr().sum().sort_values(ascending=True).index.values\n",
    "#df_all_mrk[sum_corr].corr()"
   ]
  },
  {
   "cell_type": "code",
   "execution_count": 11,
   "id": "other-painting",
   "metadata": {
    "execution": {
     "iopub.execute_input": "2022-03-28T02:39:53.210840Z",
     "iopub.status.busy": "2022-03-28T02:39:53.209180Z",
     "iopub.status.idle": "2022-03-28T02:39:53.228770Z",
     "shell.execute_reply": "2022-03-28T02:39:53.228375Z"
    },
    "papermill": {
     "duration": 0.03873,
     "end_time": "2022-03-28T02:39:53.228861",
     "exception": false,
     "start_time": "2022-03-28T02:39:53.190131",
     "status": "completed"
    },
    "tags": []
   },
   "outputs": [],
   "source": [
    "#hide\n",
    "#Koreliacijos matrica. "
   ]
  },
  {
   "cell_type": "code",
   "execution_count": 12,
   "id": "modular-magnitude",
   "metadata": {
    "execution": {
     "iopub.execute_input": "2022-03-28T02:39:53.256603Z",
     "iopub.status.busy": "2022-03-28T02:39:53.256152Z",
     "iopub.status.idle": "2022-03-28T02:39:53.276974Z",
     "shell.execute_reply": "2022-03-28T02:39:53.276617Z"
    },
    "papermill": {
     "duration": 0.036994,
     "end_time": "2022-03-28T02:39:53.277067",
     "exception": false,
     "start_time": "2022-03-28T02:39:53.240073",
     "status": "completed"
    },
    "tags": []
   },
   "outputs": [],
   "source": [
    "#hide_input\n",
    "#plt.figure(figsize=(15, 8))\n",
    "#sns.heatmap(df_all_mrk[sum_corr].corr(), annot=True, cmap=\"BrBG\");\n",
    "#plt.savefig('corr_matrix_all.eps', format='eps')"
   ]
  },
  {
   "cell_type": "code",
   "execution_count": null,
   "id": "original-senator",
   "metadata": {
    "papermill": {
     "duration": 0.011437,
     "end_time": "2022-03-28T02:39:53.300050",
     "exception": false,
     "start_time": "2022-03-28T02:39:53.288613",
     "status": "completed"
    },
    "tags": []
   },
   "outputs": [],
   "source": []
  },
  {
   "cell_type": "code",
   "execution_count": null,
   "id": "saving-secretariat",
   "metadata": {
    "papermill": {
     "duration": 0.011428,
     "end_time": "2022-03-28T02:39:53.322896",
     "exception": false,
     "start_time": "2022-03-28T02:39:53.311468",
     "status": "completed"
    },
    "tags": []
   },
   "outputs": [],
   "source": []
  }
 ],
 "metadata": {
  "kernelspec": {
   "display_name": "Python 3",
   "language": "python",
   "name": "python3"
  },
  "language_info": {
   "codemirror_mode": {
    "name": "ipython",
    "version": 3
   },
   "file_extension": ".py",
   "mimetype": "text/x-python",
   "name": "python",
   "nbconvert_exporter": "python",
   "pygments_lexer": "ipython3",
   "version": "3.6.15"
  },
  "papermill": {
   "default_parameters": {},
   "duration": 18.177359,
   "end_time": "2022-03-28T02:39:53.851827",
   "environment_variables": {},
   "exception": null,
   "input_path": "App-Correlation_charts.ipynb",
   "output_path": "App-Correlation_charts.ipynb",
   "parameters": {},
   "start_time": "2022-03-28T02:39:35.674468",
   "version": "2.2.2"
  }
 },
 "nbformat": 4,
 "nbformat_minor": 5
}