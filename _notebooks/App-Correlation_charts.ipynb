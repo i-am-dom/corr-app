{
 "cells": [
  {
   "cell_type": "markdown",
   "id": "touched-facility",
   "metadata": {
    "papermill": {
     "duration": 0.01476,
     "end_time": "2022-07-04T03:18:47.525983",
     "exception": false,
     "start_time": "2022-07-04T03:18:47.511223",
     "status": "completed"
    },
    "tags": []
   },
   "source": [
    "# Koreliacijų matrica\n",
    "> Išplėstinė koreliacijų matrica. \n",
    "\n",
    "- toc: true \n",
    "- badges: true\n",
    "- comments: false\n",
    "- categories: [Dominykas Tautkus]\n",
    "- image: images/matrix.png"
   ]
  },
  {
   "cell_type": "code",
   "execution_count": null,
   "id": "premium-weekend",
   "metadata": {
    "papermill": {
     "duration": 0.011013,
     "end_time": "2022-07-04T03:18:47.548665",
     "exception": false,
     "start_time": "2022-07-04T03:18:47.537652",
     "status": "completed"
    },
    "tags": []
   },
   "outputs": [],
   "source": []
  },
  {
   "cell_type": "code",
   "execution_count": 1,
   "id": "vertical-rebate",
   "metadata": {
    "execution": {
     "iopub.execute_input": "2022-07-04T03:18:47.581045Z",
     "iopub.status.busy": "2022-07-04T03:18:47.580444Z",
     "iopub.status.idle": "2022-07-04T03:18:47.591612Z",
     "shell.execute_reply": "2022-07-04T03:18:47.591128Z"
    },
    "papermill": {
     "duration": 0.03204,
     "end_time": "2022-07-04T03:18:47.591733",
     "exception": false,
     "start_time": "2022-07-04T03:18:47.559693",
     "status": "completed"
    },
    "tags": []
   },
   "outputs": [],
   "source": [
    "#hide\n",
    "%load_ext autoreload\n",
    "%autoreload 2"
   ]
  },
  {
   "cell_type": "code",
   "execution_count": 2,
   "id": "overall-advancement",
   "metadata": {
    "execution": {
     "iopub.execute_input": "2022-07-04T03:18:47.617716Z",
     "iopub.status.busy": "2022-07-04T03:18:47.617129Z",
     "iopub.status.idle": "2022-07-04T03:18:48.760614Z",
     "shell.execute_reply": "2022-07-04T03:18:48.759763Z"
    },
    "papermill": {
     "duration": 1.157931,
     "end_time": "2022-07-04T03:18:48.760745",
     "exception": false,
     "start_time": "2022-07-04T03:18:47.602814",
     "status": "completed"
    },
    "tags": []
   },
   "outputs": [],
   "source": [
    "#hide\n",
    "from scripts.read_data import read_api\n",
    "from IPython.display import HTML\n",
    "import plotly.graph_objects as go\n"
   ]
  },
  {
   "cell_type": "code",
   "execution_count": 3,
   "id": "light-crazy",
   "metadata": {
    "execution": {
     "iopub.execute_input": "2022-07-04T03:18:48.791285Z",
     "iopub.status.busy": "2022-07-04T03:18:48.788446Z",
     "iopub.status.idle": "2022-07-04T03:18:48.811738Z",
     "shell.execute_reply": "2022-07-04T03:18:48.810714Z"
    },
    "papermill": {
     "duration": 0.039728,
     "end_time": "2022-07-04T03:18:48.811897",
     "exception": false,
     "start_time": "2022-07-04T03:18:48.772169",
     "status": "completed"
    },
    "tags": []
   },
   "outputs": [],
   "source": [
    "#hide\n",
    "### ICO koreliacija"
   ]
  },
  {
   "cell_type": "code",
   "execution_count": 4,
   "id": "likely-bahrain",
   "metadata": {
    "execution": {
     "iopub.execute_input": "2022-07-04T03:18:48.840407Z",
     "iopub.status.busy": "2022-07-04T03:18:48.837581Z",
     "iopub.status.idle": "2022-07-04T03:18:49.671875Z",
     "shell.execute_reply": "2022-07-04T03:18:49.670892Z"
    },
    "papermill": {
     "duration": 0.849032,
     "end_time": "2022-07-04T03:18:49.672005",
     "exception": false,
     "start_time": "2022-07-04T03:18:48.822973",
     "status": "completed"
    },
    "tags": []
   },
   "outputs": [],
   "source": [
    "#hide\n",
    "import matplotlib.pyplot as plt\n",
    "import numpy as np\n",
    "import pandas as pd\n",
    "import seaborn as sns\n",
    "import matplotlib.pyplot as plt \n",
    "import matplotlib.dates as mdates\n",
    "import matplotlib.pyplot as plt"
   ]
  },
  {
   "cell_type": "code",
   "execution_count": 5,
   "id": "superior-blanket",
   "metadata": {
    "execution": {
     "iopub.execute_input": "2022-07-04T03:18:49.701235Z",
     "iopub.status.busy": "2022-07-04T03:18:49.699284Z",
     "iopub.status.idle": "2022-07-04T03:19:02.810041Z",
     "shell.execute_reply": "2022-07-04T03:19:02.808826Z"
    },
    "papermill": {
     "duration": 13.126815,
     "end_time": "2022-07-04T03:19:02.810162",
     "exception": false,
     "start_time": "2022-07-04T03:18:49.683347",
     "status": "completed"
    },
    "tags": []
   },
   "outputs": [
    {
     "name": "stderr",
     "output_type": "stream",
     "text": [
      "/home/runner/work/corr-app/corr-app/_notebooks/scripts/read_data.py:187: SettingWithCopyWarning:\n",
      "\n",
      "\n",
      "A value is trying to be set on a copy of a slice from a DataFrame.\n",
      "Try using .loc[row_indexer,col_indexer] = value instead\n",
      "\n",
      "See the caveats in the documentation: https://pandas.pydata.org/pandas-docs/stable/user_guide/indexing.html#returning-a-view-versus-a-copy\n",
      "\n"
     ]
    },
    {
     "name": "stderr",
     "output_type": "stream",
     "text": [
      "/home/runner/work/corr-app/corr-app/_notebooks/scripts/read_data.py:215: SettingWithCopyWarning:\n",
      "\n",
      "\n",
      "A value is trying to be set on a copy of a slice from a DataFrame.\n",
      "Try using .loc[row_indexer,col_indexer] = value instead\n",
      "\n",
      "See the caveats in the documentation: https://pandas.pydata.org/pandas-docs/stable/user_guide/indexing.html#returning-a-view-versus-a-copy\n",
      "\n"
     ]
    }
   ],
   "source": [
    "#hide\n",
    "df_all = read_api()\n",
    "#df_all = df_all.drop(['SP500', 'XAU', 'ETH', 'BTC'], axis=1)\n",
    "\n"
   ]
  },
  {
   "cell_type": "code",
   "execution_count": 6,
   "id": "mature-alert",
   "metadata": {
    "execution": {
     "iopub.execute_input": "2022-07-04T03:19:02.844697Z",
     "iopub.status.busy": "2022-07-04T03:19:02.839705Z",
     "iopub.status.idle": "2022-07-04T03:19:02.869363Z",
     "shell.execute_reply": "2022-07-04T03:19:02.868892Z"
    },
    "papermill": {
     "duration": 0.046398,
     "end_time": "2022-07-04T03:19:02.869487",
     "exception": false,
     "start_time": "2022-07-04T03:19:02.823089",
     "status": "completed"
    },
    "tags": []
   },
   "outputs": [],
   "source": [
    "#hide_input\n",
    "sum_corr = df_all.corr().sum().sort_values(ascending=True).index.values\n",
    "#df_all[sum_corr].corr()"
   ]
  },
  {
   "cell_type": "markdown",
   "id": "complex-syndicate",
   "metadata": {
    "papermill": {
     "duration": 0.011561,
     "end_time": "2022-07-04T03:19:02.892916",
     "exception": false,
     "start_time": "2022-07-04T03:19:02.881355",
     "status": "completed"
    },
    "tags": []
   },
   "source": [
    "## Išplėstinė koreliacijų matrica. "
   ]
  },
  {
   "cell_type": "code",
   "execution_count": 7,
   "id": "atomic-omaha",
   "metadata": {
    "execution": {
     "iopub.execute_input": "2022-07-04T03:19:02.919121Z",
     "iopub.status.busy": "2022-07-04T03:19:02.918541Z",
     "iopub.status.idle": "2022-07-04T03:19:04.035729Z",
     "shell.execute_reply": "2022-07-04T03:19:04.035214Z"
    },
    "papermill": {
     "duration": 1.13135,
     "end_time": "2022-07-04T03:19:04.035845",
     "exception": false,
     "start_time": "2022-07-04T03:19:02.904495",
     "status": "completed"
    },
    "tags": []
   },
   "outputs": [
    {
     "data": {
      "image/png": "[encoded data removed]",
      "text/plain": [
       "<Figure size 1080x792 with 2 Axes>"
      ]
     },
     "metadata": {
      "needs_background": "light"
     },
     "output_type": "display_data"
    }
   ],
   "source": [
    "#hide_input\n",
    "plt.figure(figsize=(15, 11))\n",
    "sns.heatmap(df_all[sum_corr].corr(), annot=True, cmap=\"cubehelix\") \n",
    "sns.set(font_scale=1.25)\n",
    "plt.savefig('corr_matrix.png', format='eps')"
   ]
  },
  {
   "cell_type": "code",
   "execution_count": 8,
   "id": "arbitrary-sullivan",
   "metadata": {
    "execution": {
     "iopub.execute_input": "2022-07-04T03:19:04.068825Z",
     "iopub.status.busy": "2022-07-04T03:19:04.066268Z",
     "iopub.status.idle": "2022-07-04T03:19:04.092957Z",
     "shell.execute_reply": "2022-07-04T03:19:04.092448Z"
    },
    "papermill": {
     "duration": 0.043322,
     "end_time": "2022-07-04T03:19:04.093080",
     "exception": false,
     "start_time": "2022-07-04T03:19:04.049758",
     "status": "completed"
    },
    "tags": []
   },
   "outputs": [],
   "source": [
    "#hide\n",
    "#df_all_mrk = read_api()"
   ]
  },
  {
   "cell_type": "code",
   "execution_count": 9,
   "id": "delayed-adapter",
   "metadata": {
    "execution": {
     "iopub.execute_input": "2022-07-04T03:19:04.123465Z",
     "iopub.status.busy": "2022-07-04T03:19:04.122872Z",
     "iopub.status.idle": "2022-07-04T03:19:04.149057Z",
     "shell.execute_reply": "2022-07-04T03:19:04.148550Z"
    },
    "papermill": {
     "duration": 0.042614,
     "end_time": "2022-07-04T03:19:04.149177",
     "exception": false,
     "start_time": "2022-07-04T03:19:04.106563",
     "status": "completed"
    },
    "tags": []
   },
   "outputs": [],
   "source": [
    "#hide\n",
    "#Koreliacijų koeficientai"
   ]
  },
  {
   "cell_type": "code",
   "execution_count": 10,
   "id": "seeing-celebration",
   "metadata": {
    "execution": {
     "iopub.execute_input": "2022-07-04T03:19:04.183611Z",
     "iopub.status.busy": "2022-07-04T03:19:04.181842Z",
     "iopub.status.idle": "2022-07-04T03:19:04.207561Z",
     "shell.execute_reply": "2022-07-04T03:19:04.207030Z"
    },
    "papermill": {
     "duration": 0.044748,
     "end_time": "2022-07-04T03:19:04.207677",
     "exception": false,
     "start_time": "2022-07-04T03:19:04.162929",
     "status": "completed"
    },
    "tags": []
   },
   "outputs": [],
   "source": [
    "#hide_input\n",
    "#sum_corr = df_all_mrk.corr().sum().sort_values(ascending=True).index.values\n",
    "#df_all_mrk[sum_corr].corr()"
   ]
  },
  {
   "cell_type": "code",
   "execution_count": 11,
   "id": "other-painting",
   "metadata": {
    "execution": {
     "iopub.execute_input": "2022-07-04T03:19:04.238395Z",
     "iopub.status.busy": "2022-07-04T03:19:04.237821Z",
     "iopub.status.idle": "2022-07-04T03:19:04.264030Z",
     "shell.execute_reply": "2022-07-04T03:19:04.263548Z"
    },
    "papermill": {
     "duration": 0.042915,
     "end_time": "2022-07-04T03:19:04.264138",
     "exception": false,
     "start_time": "2022-07-04T03:19:04.221223",
     "status": "completed"
    },
    "tags": []
   },
   "outputs": [],
   "source": [
    "#hide\n",
    "#Koreliacijos matrica. "
   ]
  },
  {
   "cell_type": "code",
   "execution_count": 12,
   "id": "modular-magnitude",
   "metadata": {
    "execution": {
     "iopub.execute_input": "2022-07-04T03:19:04.294632Z",
     "iopub.status.busy": "2022-07-04T03:19:04.294077Z",
     "iopub.status.idle": "2022-07-04T03:19:04.320377Z",
     "shell.execute_reply": "2022-07-04T03:19:04.319892Z"
    },
    "papermill": {
     "duration": 0.042652,
     "end_time": "2022-07-04T03:19:04.320488",
     "exception": false,
     "start_time": "2022-07-04T03:19:04.277836",
     "status": "completed"
    },
    "tags": []
   },
   "outputs": [],
   "source": [
    "#hide_input\n",
    "#plt.figure(figsize=(15, 8))\n",
    "#sns.heatmap(df_all_mrk[sum_corr].corr(), annot=True, cmap=\"BrBG\");\n",
    "#plt.savefig('corr_matrix_all.eps', format='eps')"
   ]
  },
  {
   "cell_type": "code",
   "execution_count": null,
   "id": "original-senator",
   "metadata": {
    "papermill": {
     "duration": 0.013413,
     "end_time": "2022-07-04T03:19:04.347325",
     "exception": false,
     "start_time": "2022-07-04T03:19:04.333912",
     "status": "completed"
    },
    "tags": []
   },
   "outputs": [],
   "source": []
  },
  {
   "cell_type": "code",
   "execution_count": null,
   "id": "saving-secretariat",
   "metadata": {
    "papermill": {
     "duration": 0.013266,
     "end_time": "2022-07-04T03:19:04.374052",
     "exception": false,
     "start_time": "2022-07-04T03:19:04.360786",
     "status": "completed"
    },
    "tags": []
   },
   "outputs": [],
   "source": []
  }
 ],
 "metadata": {
  "kernelspec": {
   "display_name": "Python 3",
   "language": "python",
   "name": "python3"
  },
  "language_info": {
   "codemirror_mode": {
    "name": "ipython",
    "version": 3
   },
   "file_extension": ".py",
   "mimetype": "text/x-python",
   "name": "python",
   "nbconvert_exporter": "python",
   "pygments_lexer": "ipython3",
   "version": "3.6.15"
  },
  "papermill": {
   "default_parameters": {},
   "duration": 18.425675,
   "end_time": "2022-07-04T03:19:04.905754",
   "environment_variables": {},
   "exception": null,
   "input_path": "App-Correlation_charts.ipynb",
   "output_path": "App-Correlation_charts.ipynb",
   "parameters": {},
   "start_time": "2022-07-04T03:18:46.480079",
   "version": "2.2.2"
  }
 },
 "nbformat": 4,
 "nbformat_minor": 5
}