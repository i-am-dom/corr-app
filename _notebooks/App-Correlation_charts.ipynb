{
 "cells": [
  {
   "cell_type": "markdown",
   "id": "touched-facility",
   "metadata": {
    "papermill": {
     "duration": 0.018001,
     "end_time": "2021-10-15T02:02:11.320449",
     "exception": false,
     "start_time": "2021-10-15T02:02:11.302448",
     "status": "completed"
    },
    "tags": []
   },
   "source": [
    "# Koreliacijų matrica\n",
    "> Išplėstinė koreliacijų matrica. \n",
    "\n",
    "- toc: true \n",
    "- badges: true\n",
    "- comments: false\n",
    "- categories: [Dominykas Tautkus]\n",
    "- image: images/matrix.png"
   ]
  },
  {
   "cell_type": "code",
   "execution_count": null,
   "id": "premium-weekend",
   "metadata": {
    "papermill": {
     "duration": 0.01403,
     "end_time": "2021-10-15T02:02:11.349854",
     "exception": false,
     "start_time": "2021-10-15T02:02:11.335824",
     "status": "completed"
    },
    "tags": []
   },
   "outputs": [],
   "source": []
  },
  {
   "cell_type": "code",
   "execution_count": 1,
   "id": "vertical-rebate",
   "metadata": {
    "execution": {
     "iopub.execute_input": "2021-10-15T02:02:11.389347Z",
     "iopub.status.busy": "2021-10-15T02:02:11.388641Z",
     "iopub.status.idle": "2021-10-15T02:02:11.400064Z",
     "shell.execute_reply": "2021-10-15T02:02:11.400625Z"
    },
    "papermill": {
     "duration": 0.037065,
     "end_time": "2021-10-15T02:02:11.400813",
     "exception": false,
     "start_time": "2021-10-15T02:02:11.363748",
     "status": "completed"
    },
    "tags": []
   },
   "outputs": [],
   "source": [
    "#hide\n",
    "%load_ext autoreload\n",
    "%autoreload 2"
   ]
  },
  {
   "cell_type": "code",
   "execution_count": 2,
   "id": "overall-advancement",
   "metadata": {
    "execution": {
     "iopub.execute_input": "2021-10-15T02:02:11.435595Z",
     "iopub.status.busy": "2021-10-15T02:02:11.432510Z",
     "iopub.status.idle": "2021-10-15T02:02:13.255664Z",
     "shell.execute_reply": "2021-10-15T02:02:13.255067Z"
    },
    "papermill": {
     "duration": 1.841716,
     "end_time": "2021-10-15T02:02:13.255823",
     "exception": false,
     "start_time": "2021-10-15T02:02:11.414107",
     "status": "completed"
    },
    "tags": []
   },
   "outputs": [],
   "source": [
    "#hide\n",
    "from scripts.read_data import read_api\n",
    "from IPython.display import HTML\n",
    "import plotly.graph_objects as go\n"
   ]
  },
  {
   "cell_type": "code",
   "execution_count": 3,
   "id": "light-crazy",
   "metadata": {
    "execution": {
     "iopub.execute_input": "2021-10-15T02:02:13.290149Z",
     "iopub.status.busy": "2021-10-15T02:02:13.289440Z",
     "iopub.status.idle": "2021-10-15T02:02:13.316457Z",
     "shell.execute_reply": "2021-10-15T02:02:13.317160Z"
    },
    "papermill": {
     "duration": 0.045953,
     "end_time": "2021-10-15T02:02:13.317388",
     "exception": false,
     "start_time": "2021-10-15T02:02:13.271435",
     "status": "completed"
    },
    "tags": []
   },
   "outputs": [],
   "source": [
    "#hide\n",
    "### ICO koreliacija"
   ]
  },
  {
   "cell_type": "code",
   "execution_count": 4,
   "id": "likely-bahrain",
   "metadata": {
    "execution": {
     "iopub.execute_input": "2021-10-15T02:02:13.351680Z",
     "iopub.status.busy": "2021-10-15T02:02:13.351023Z",
     "iopub.status.idle": "2021-10-15T02:02:14.600671Z",
     "shell.execute_reply": "2021-10-15T02:02:14.600097Z"
    },
    "papermill": {
     "duration": 1.269285,
     "end_time": "2021-10-15T02:02:14.600825",
     "exception": false,
     "start_time": "2021-10-15T02:02:13.331540",
     "status": "completed"
    },
    "tags": []
   },
   "outputs": [],
   "source": [
    "#hide\n",
    "import matplotlib.pyplot as plt\n",
    "import numpy as np\n",
    "import pandas as pd\n",
    "import seaborn as sns\n",
    "import matplotlib.pyplot as plt \n",
    "import matplotlib.dates as mdates\n",
    "import matplotlib.pyplot as plt"
   ]
  },
  {
   "cell_type": "code",
   "execution_count": 5,
   "id": "superior-blanket",
   "metadata": {
    "execution": {
     "iopub.execute_input": "2021-10-15T02:02:14.632550Z",
     "iopub.status.busy": "2021-10-15T02:02:14.631895Z",
     "iopub.status.idle": "2021-10-15T02:02:25.938800Z",
     "shell.execute_reply": "2021-10-15T02:02:25.939350Z"
    },
    "papermill": {
     "duration": 11.32515,
     "end_time": "2021-10-15T02:02:25.939538",
     "exception": false,
     "start_time": "2021-10-15T02:02:14.614388",
     "status": "completed"
    },
    "tags": []
   },
   "outputs": [
    {
     "name": "stderr",
     "output_type": "stream",
     "text": [
      "/home/runner/work/corr-app/corr-app/_notebooks/scripts/read_data.py:187: SettingWithCopyWarning:\n",
      "\n",
      "\n",
      "A value is trying to be set on a copy of a slice from a DataFrame.\n",
      "Try using .loc[row_indexer,col_indexer] = value instead\n",
      "\n",
      "See the caveats in the documentation: https://pandas.pydata.org/pandas-docs/stable/user_guide/indexing.html#returning-a-view-versus-a-copy\n",
      "\n"
     ]
    },
    {
     "name": "stderr",
     "output_type": "stream",
     "text": [
      "/home/runner/work/corr-app/corr-app/_notebooks/scripts/read_data.py:215: SettingWithCopyWarning:\n",
      "\n",
      "\n",
      "A value is trying to be set on a copy of a slice from a DataFrame.\n",
      "Try using .loc[row_indexer,col_indexer] = value instead\n",
      "\n",
      "See the caveats in the documentation: https://pandas.pydata.org/pandas-docs/stable/user_guide/indexing.html#returning-a-view-versus-a-copy\n",
      "\n"
     ]
    }
   ],
   "source": [
    "#hide\n",
    "df_all = read_api()\n",
    "#df_all = df_all.drop(['SP500', 'XAU', 'ETH', 'BTC'], axis=1)\n",
    "\n"
   ]
  },
  {
   "cell_type": "code",
   "execution_count": 6,
   "id": "mature-alert",
   "metadata": {
    "execution": {
     "iopub.execute_input": "2021-10-15T02:02:25.974145Z",
     "iopub.status.busy": "2021-10-15T02:02:25.973437Z",
     "iopub.status.idle": "2021-10-15T02:02:26.011929Z",
     "shell.execute_reply": "2021-10-15T02:02:26.012459Z"
    },
    "papermill": {
     "duration": 0.057461,
     "end_time": "2021-10-15T02:02:26.012638",
     "exception": false,
     "start_time": "2021-10-15T02:02:25.955177",
     "status": "completed"
    },
    "tags": []
   },
   "outputs": [],
   "source": [
    "#hide_input\n",
    "sum_corr = df_all.corr().sum().sort_values(ascending=True).index.values\n",
    "#df_all[sum_corr].corr()"
   ]
  },
  {
   "cell_type": "markdown",
   "id": "complex-syndicate",
   "metadata": {
    "papermill": {
     "duration": 0.014524,
     "end_time": "2021-10-15T02:02:26.041628",
     "exception": false,
     "start_time": "2021-10-15T02:02:26.027104",
     "status": "completed"
    },
    "tags": []
   },
   "source": [
    "## Išplėstinė koreliacijų matrica. "
   ]
  },
  {
   "cell_type": "code",
   "execution_count": 7,
   "id": "atomic-omaha",
   "metadata": {
    "execution": {
     "iopub.execute_input": "2021-10-15T02:02:26.081725Z",
     "iopub.status.busy": "2021-10-15T02:02:26.081032Z",
     "iopub.status.idle": "2021-10-15T02:02:27.774651Z",
     "shell.execute_reply": "2021-10-15T02:02:27.775174Z"
    },
    "papermill": {
     "duration": 1.719091,
     "end_time": "2021-10-15T02:02:27.775358",
     "exception": false,
     "start_time": "2021-10-15T02:02:26.056267",
     "status": "completed"
    },
    "tags": []
   },
   "outputs": [
    {
     "data": {
      "image/png": "[encoded data removed]",
      "text/plain": [
       "<Figure size 1080x792 with 2 Axes>"
      ]
     },
     "metadata": {
      "needs_background": "light"
     },
     "output_type": "display_data"
    }
   ],
   "source": [
    "#hide_input\n",
    "plt.figure(figsize=(15, 11))\n",
    "sns.heatmap(df_all[sum_corr].corr(), annot=True, cmap=\"cubehelix\") \n",
    "sns.set(font_scale=1.25)\n",
    "plt.savefig('corr_matrix.png', format='eps')"
   ]
  },
  {
   "cell_type": "code",
   "execution_count": 8,
   "id": "arbitrary-sullivan",
   "metadata": {
    "execution": {
     "iopub.execute_input": "2021-10-15T02:02:27.817216Z",
     "iopub.status.busy": "2021-10-15T02:02:27.816546Z",
     "iopub.status.idle": "2021-10-15T02:02:27.852682Z",
     "shell.execute_reply": "2021-10-15T02:02:27.852111Z"
    },
    "papermill": {
     "duration": 0.059622,
     "end_time": "2021-10-15T02:02:27.852839",
     "exception": false,
     "start_time": "2021-10-15T02:02:27.793217",
     "status": "completed"
    },
    "tags": []
   },
   "outputs": [],
   "source": [
    "#hide\n",
    "#df_all_mrk = read_api()"
   ]
  },
  {
   "cell_type": "code",
   "execution_count": 9,
   "id": "delayed-adapter",
   "metadata": {
    "execution": {
     "iopub.execute_input": "2021-10-15T02:02:27.901005Z",
     "iopub.status.busy": "2021-10-15T02:02:27.900349Z",
     "iopub.status.idle": "2021-10-15T02:02:27.930208Z",
     "shell.execute_reply": "2021-10-15T02:02:27.929340Z"
    },
    "papermill": {
     "duration": 0.055495,
     "end_time": "2021-10-15T02:02:27.930368",
     "exception": false,
     "start_time": "2021-10-15T02:02:27.874873",
     "status": "completed"
    },
    "tags": []
   },
   "outputs": [],
   "source": [
    "#hide\n",
    "#Koreliacijų koeficientai"
   ]
  },
  {
   "cell_type": "code",
   "execution_count": 10,
   "id": "seeing-celebration",
   "metadata": {
    "execution": {
     "iopub.execute_input": "2021-10-15T02:02:27.967401Z",
     "iopub.status.busy": "2021-10-15T02:02:27.966754Z",
     "iopub.status.idle": "2021-10-15T02:02:28.011334Z",
     "shell.execute_reply": "2021-10-15T02:02:28.012288Z"
    },
    "papermill": {
     "duration": 0.065139,
     "end_time": "2021-10-15T02:02:28.012476",
     "exception": false,
     "start_time": "2021-10-15T02:02:27.947337",
     "status": "completed"
    },
    "tags": []
   },
   "outputs": [],
   "source": [
    "#hide_input\n",
    "#sum_corr = df_all_mrk.corr().sum().sort_values(ascending=True).index.values\n",
    "#df_all_mrk[sum_corr].corr()"
   ]
  },
  {
   "cell_type": "code",
   "execution_count": 11,
   "id": "other-painting",
   "metadata": {
    "execution": {
     "iopub.execute_input": "2021-10-15T02:02:28.048035Z",
     "iopub.status.busy": "2021-10-15T02:02:28.047382Z",
     "iopub.status.idle": "2021-10-15T02:02:28.084849Z",
     "shell.execute_reply": "2021-10-15T02:02:28.084237Z"
    },
    "papermill": {
     "duration": 0.056491,
     "end_time": "2021-10-15T02:02:28.085004",
     "exception": false,
     "start_time": "2021-10-15T02:02:28.028513",
     "status": "completed"
    },
    "tags": []
   },
   "outputs": [],
   "source": [
    "#hide\n",
    "#Koreliacijos matrica. "
   ]
  },
  {
   "cell_type": "code",
   "execution_count": 12,
   "id": "modular-magnitude",
   "metadata": {
    "execution": {
     "iopub.execute_input": "2021-10-15T02:02:28.127586Z",
     "iopub.status.busy": "2021-10-15T02:02:28.126933Z",
     "iopub.status.idle": "2021-10-15T02:02:28.161507Z",
     "shell.execute_reply": "2021-10-15T02:02:28.160922Z"
    },
    "papermill": {
     "duration": 0.057983,
     "end_time": "2021-10-15T02:02:28.161679",
     "exception": false,
     "start_time": "2021-10-15T02:02:28.103696",
     "status": "completed"
    },
    "tags": []
   },
   "outputs": [],
   "source": [
    "#hide_input\n",
    "#plt.figure(figsize=(15, 8))\n",
    "#sns.heatmap(df_all_mrk[sum_corr].corr(), annot=True, cmap=\"BrBG\");\n",
    "#plt.savefig('corr_matrix_all.eps', format='eps')"
   ]
  },
  {
   "cell_type": "code",
   "execution_count": null,
   "id": "original-senator",
   "metadata": {
    "papermill": {
     "duration": 0.016696,
     "end_time": "2021-10-15T02:02:28.202427",
     "exception": false,
     "start_time": "2021-10-15T02:02:28.185731",
     "status": "completed"
    },
    "tags": []
   },
   "outputs": [],
   "source": []
  },
  {
   "cell_type": "code",
   "execution_count": null,
   "id": "saving-secretariat",
   "metadata": {
    "papermill": {
     "duration": 0.016775,
     "end_time": "2021-10-15T02:02:28.236451",
     "exception": false,
     "start_time": "2021-10-15T02:02:28.219676",
     "status": "completed"
    },
    "tags": []
   },
   "outputs": [],
   "source": []
  }
 ],
 "metadata": {
  "kernelspec": {
   "display_name": "Python 3",
   "language": "python",
   "name": "python3"
  },
  "language_info": {
   "codemirror_mode": {
    "name": "ipython",
    "version": 3
   },
   "file_extension": ".py",
   "mimetype": "text/x-python",
   "name": "python",
   "nbconvert_exporter": "python",
   "pygments_lexer": "ipython3",
   "version": "3.6.15"
  },
  "papermill": {
   "default_parameters": {},
   "duration": 18.960931,
   "end_time": "2021-10-15T02:02:28.862693",
   "environment_variables": {},
   "exception": null,
   "input_path": "App-Correlation_charts.ipynb",
   "output_path": "App-Correlation_charts.ipynb",
   "parameters": {},
   "start_time": "2021-10-15T02:02:09.901762",
   "version": "2.2.2"
  }
 },
 "nbformat": 4,
 "nbformat_minor": 5
}