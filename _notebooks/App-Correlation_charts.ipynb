{
 "cells": [
  {
   "cell_type": "markdown",
   "id": "touched-facility",
   "metadata": {
    "papermill": {
     "duration": 0.015147,
     "end_time": "2022-11-12T02:56:36.672139",
     "exception": false,
     "start_time": "2022-11-12T02:56:36.656992",
     "status": "completed"
    },
    "tags": []
   },
   "source": [
    "# Koreliacijų matrica\n",
    "> Išplėstinė koreliacijų matrica. \n",
    "\n",
    "- toc: true \n",
    "- badges: true\n",
    "- comments: false\n",
    "- categories: [Dominykas Tautkus]\n",
    "- image: images/matrix.png"
   ]
  },
  {
   "cell_type": "code",
   "execution_count": null,
   "id": "premium-weekend",
   "metadata": {
    "papermill": {
     "duration": 0.010455,
     "end_time": "2022-11-12T02:56:36.693937",
     "exception": false,
     "start_time": "2022-11-12T02:56:36.683482",
     "status": "completed"
    },
    "tags": []
   },
   "outputs": [],
   "source": []
  },
  {
   "cell_type": "code",
   "execution_count": 1,
   "id": "vertical-rebate",
   "metadata": {
    "execution": {
     "iopub.execute_input": "2022-11-12T02:56:36.726629Z",
     "iopub.status.busy": "2022-11-12T02:56:36.726045Z",
     "iopub.status.idle": "2022-11-12T02:56:36.737356Z",
     "shell.execute_reply": "2022-11-12T02:56:36.736866Z"
    },
    "papermill": {
     "duration": 0.03301,
     "end_time": "2022-11-12T02:56:36.737470",
     "exception": false,
     "start_time": "2022-11-12T02:56:36.704460",
     "status": "completed"
    },
    "tags": []
   },
   "outputs": [],
   "source": [
    "#hide\n",
    "%load_ext autoreload\n",
    "%autoreload 2"
   ]
  },
  {
   "cell_type": "code",
   "execution_count": 2,
   "id": "overall-advancement",
   "metadata": {
    "execution": {
     "iopub.execute_input": "2022-11-12T02:56:36.761654Z",
     "iopub.status.busy": "2022-11-12T02:56:36.761070Z",
     "iopub.status.idle": "2022-11-12T02:56:37.970257Z",
     "shell.execute_reply": "2022-11-12T02:56:37.969648Z"
    },
    "papermill": {
     "duration": 1.222514,
     "end_time": "2022-11-12T02:56:37.970400",
     "exception": false,
     "start_time": "2022-11-12T02:56:36.747886",
     "status": "completed"
    },
    "tags": []
   },
   "outputs": [],
   "source": [
    "#hide\n",
    "from scripts.read_data import read_api\n",
    "from IPython.display import HTML\n",
    "import plotly.graph_objects as go\n"
   ]
  },
  {
   "cell_type": "code",
   "execution_count": 3,
   "id": "light-crazy",
   "metadata": {
    "execution": {
     "iopub.execute_input": "2022-11-12T02:56:37.997644Z",
     "iopub.status.busy": "2022-11-12T02:56:37.997026Z",
     "iopub.status.idle": "2022-11-12T02:56:38.020101Z",
     "shell.execute_reply": "2022-11-12T02:56:38.019564Z"
    },
    "papermill": {
     "duration": 0.038415,
     "end_time": "2022-11-12T02:56:38.020217",
     "exception": false,
     "start_time": "2022-11-12T02:56:37.981802",
     "status": "completed"
    },
    "tags": []
   },
   "outputs": [],
   "source": [
    "#hide\n",
    "### ICO koreliacija"
   ]
  },
  {
   "cell_type": "code",
   "execution_count": 4,
   "id": "likely-bahrain",
   "metadata": {
    "execution": {
     "iopub.execute_input": "2022-11-12T02:56:38.046050Z",
     "iopub.status.busy": "2022-11-12T02:56:38.045483Z",
     "iopub.status.idle": "2022-11-12T02:56:38.896573Z",
     "shell.execute_reply": "2022-11-12T02:56:38.896008Z"
    },
    "papermill": {
     "duration": 0.86535,
     "end_time": "2022-11-12T02:56:38.896697",
     "exception": false,
     "start_time": "2022-11-12T02:56:38.031347",
     "status": "completed"
    },
    "tags": []
   },
   "outputs": [],
   "source": [
    "#hide\n",
    "import matplotlib.pyplot as plt\n",
    "import numpy as np\n",
    "import pandas as pd\n",
    "import seaborn as sns\n",
    "import matplotlib.pyplot as plt \n",
    "import matplotlib.dates as mdates\n",
    "import matplotlib.pyplot as plt"
   ]
  },
  {
   "cell_type": "code",
   "execution_count": 5,
   "id": "superior-blanket",
   "metadata": {
    "execution": {
     "iopub.execute_input": "2022-11-12T02:56:38.922805Z",
     "iopub.status.busy": "2022-11-12T02:56:38.922219Z",
     "iopub.status.idle": "2022-11-12T02:56:48.367458Z",
     "shell.execute_reply": "2022-11-12T02:56:48.366829Z"
    },
    "papermill": {
     "duration": 9.459691,
     "end_time": "2022-11-12T02:56:48.367587",
     "exception": false,
     "start_time": "2022-11-12T02:56:38.907896",
     "status": "completed"
    },
    "tags": []
   },
   "outputs": [
    {
     "name": "stderr",
     "output_type": "stream",
     "text": [
      "/home/runner/work/corr-app/corr-app/_notebooks/scripts/read_data.py:187: SettingWithCopyWarning:\n",
      "\n",
      "\n",
      "A value is trying to be set on a copy of a slice from a DataFrame.\n",
      "Try using .loc[row_indexer,col_indexer] = value instead\n",
      "\n",
      "See the caveats in the documentation: https://pandas.pydata.org/pandas-docs/stable/user_guide/indexing.html#returning-a-view-versus-a-copy\n",
      "\n"
     ]
    },
    {
     "name": "stderr",
     "output_type": "stream",
     "text": [
      "/home/runner/work/corr-app/corr-app/_notebooks/scripts/read_data.py:215: SettingWithCopyWarning:\n",
      "\n",
      "\n",
      "A value is trying to be set on a copy of a slice from a DataFrame.\n",
      "Try using .loc[row_indexer,col_indexer] = value instead\n",
      "\n",
      "See the caveats in the documentation: https://pandas.pydata.org/pandas-docs/stable/user_guide/indexing.html#returning-a-view-versus-a-copy\n",
      "\n"
     ]
    }
   ],
   "source": [
    "#hide\n",
    "df_all = read_api()\n",
    "#df_all = df_all.drop(['SP500', 'XAU', 'ETH', 'BTC'], axis=1)\n",
    "\n"
   ]
  },
  {
   "cell_type": "code",
   "execution_count": 6,
   "id": "mature-alert",
   "metadata": {
    "execution": {
     "iopub.execute_input": "2022-11-12T02:56:48.396860Z",
     "iopub.status.busy": "2022-11-12T02:56:48.396228Z",
     "iopub.status.idle": "2022-11-12T02:56:48.427071Z",
     "shell.execute_reply": "2022-11-12T02:56:48.426513Z"
    },
    "papermill": {
     "duration": 0.046786,
     "end_time": "2022-11-12T02:56:48.427197",
     "exception": false,
     "start_time": "2022-11-12T02:56:48.380411",
     "status": "completed"
    },
    "tags": []
   },
   "outputs": [],
   "source": [
    "#hide_input\n",
    "sum_corr = df_all.corr().sum().sort_values(ascending=True).index.values\n",
    "#df_all[sum_corr].corr()"
   ]
  },
  {
   "cell_type": "markdown",
   "id": "complex-syndicate",
   "metadata": {
    "papermill": {
     "duration": 0.011062,
     "end_time": "2022-11-12T02:56:48.449586",
     "exception": false,
     "start_time": "2022-11-12T02:56:48.438524",
     "status": "completed"
    },
    "tags": []
   },
   "source": [
    "## Išplėstinė koreliacijų matrica. "
   ]
  },
  {
   "cell_type": "code",
   "execution_count": 7,
   "id": "atomic-omaha",
   "metadata": {
    "execution": {
     "iopub.execute_input": "2022-11-12T02:56:48.477784Z",
     "iopub.status.busy": "2022-11-12T02:56:48.477106Z",
     "iopub.status.idle": "2022-11-12T02:56:49.652003Z",
     "shell.execute_reply": "2022-11-12T02:56:49.651197Z"
    },
    "papermill": {
     "duration": 1.191518,
     "end_time": "2022-11-12T02:56:49.652134",
     "exception": false,
     "start_time": "2022-11-12T02:56:48.460616",
     "status": "completed"
    },
    "tags": []
   },
   "outputs": [
    {
     "data": {
      "image/png": "[encoded data removed]",
      "text/plain": [
       "<Figure size 1080x792 with 2 Axes>"
      ]
     },
     "metadata": {
      "needs_background": "light"
     },
     "output_type": "display_data"
    }
   ],
   "source": [
    "#hide_input\n",
    "plt.figure(figsize=(15, 11))\n",
    "sns.heatmap(df_all[sum_corr].corr(), annot=True, cmap=\"cubehelix\") \n",
    "sns.set(font_scale=1.25)\n",
    "plt.savefig('corr_matrix.png', format='eps')"
   ]
  },
  {
   "cell_type": "code",
   "execution_count": 8,
   "id": "arbitrary-sullivan",
   "metadata": {
    "execution": {
     "iopub.execute_input": "2022-11-12T02:56:49.682603Z",
     "iopub.status.busy": "2022-11-12T02:56:49.682025Z",
     "iopub.status.idle": "2022-11-12T02:56:49.709898Z",
     "shell.execute_reply": "2022-11-12T02:56:49.709390Z"
    },
    "papermill": {
     "duration": 0.044262,
     "end_time": "2022-11-12T02:56:49.710020",
     "exception": false,
     "start_time": "2022-11-12T02:56:49.665758",
     "status": "completed"
    },
    "tags": []
   },
   "outputs": [],
   "source": [
    "#hide\n",
    "#df_all_mrk = read_api()"
   ]
  },
  {
   "cell_type": "code",
   "execution_count": 9,
   "id": "delayed-adapter",
   "metadata": {
    "execution": {
     "iopub.execute_input": "2022-11-12T02:56:49.740560Z",
     "iopub.status.busy": "2022-11-12T02:56:49.739988Z",
     "iopub.status.idle": "2022-11-12T02:56:49.767653Z",
     "shell.execute_reply": "2022-11-12T02:56:49.767001Z"
    },
    "papermill": {
     "duration": 0.043749,
     "end_time": "2022-11-12T02:56:49.767771",
     "exception": false,
     "start_time": "2022-11-12T02:56:49.724022",
     "status": "completed"
    },
    "tags": []
   },
   "outputs": [],
   "source": [
    "#hide\n",
    "#Koreliacijų koeficientai"
   ]
  },
  {
   "cell_type": "code",
   "execution_count": 10,
   "id": "seeing-celebration",
   "metadata": {
    "execution": {
     "iopub.execute_input": "2022-11-12T02:56:49.810355Z",
     "iopub.status.busy": "2022-11-12T02:56:49.809480Z",
     "iopub.status.idle": "2022-11-12T02:56:49.827737Z",
     "shell.execute_reply": "2022-11-12T02:56:49.827268Z"
    },
    "papermill": {
     "duration": 0.046784,
     "end_time": "2022-11-12T02:56:49.827838",
     "exception": false,
     "start_time": "2022-11-12T02:56:49.781054",
     "status": "completed"
    },
    "tags": []
   },
   "outputs": [],
   "source": [
    "#hide_input\n",
    "#sum_corr = df_all_mrk.corr().sum().sort_values(ascending=True).index.values\n",
    "#df_all_mrk[sum_corr].corr()"
   ]
  },
  {
   "cell_type": "code",
   "execution_count": 11,
   "id": "other-painting",
   "metadata": {
    "execution": {
     "iopub.execute_input": "2022-11-12T02:56:49.862058Z",
     "iopub.status.busy": "2022-11-12T02:56:49.857282Z",
     "iopub.status.idle": "2022-11-12T02:56:49.882437Z",
     "shell.execute_reply": "2022-11-12T02:56:49.881903Z"
    },
    "papermill": {
     "duration": 0.041671,
     "end_time": "2022-11-12T02:56:49.882551",
     "exception": false,
     "start_time": "2022-11-12T02:56:49.840880",
     "status": "completed"
    },
    "tags": []
   },
   "outputs": [],
   "source": [
    "#hide\n",
    "#Koreliacijos matrica. "
   ]
  },
  {
   "cell_type": "code",
   "execution_count": 12,
   "id": "modular-magnitude",
   "metadata": {
    "execution": {
     "iopub.execute_input": "2022-11-12T02:56:49.925136Z",
     "iopub.status.busy": "2022-11-12T02:56:49.919915Z",
     "iopub.status.idle": "2022-11-12T02:56:49.941847Z",
     "shell.execute_reply": "2022-11-12T02:56:49.942271Z"
    },
    "papermill": {
     "duration": 0.045757,
     "end_time": "2022-11-12T02:56:49.942385",
     "exception": false,
     "start_time": "2022-11-12T02:56:49.896628",
     "status": "completed"
    },
    "tags": []
   },
   "outputs": [],
   "source": [
    "#hide_input\n",
    "#plt.figure(figsize=(15, 8))\n",
    "#sns.heatmap(df_all_mrk[sum_corr].corr(), annot=True, cmap=\"BrBG\");\n",
    "#plt.savefig('corr_matrix_all.eps', format='eps')"
   ]
  },
  {
   "cell_type": "code",
   "execution_count": null,
   "id": "original-senator",
   "metadata": {
    "papermill": {
     "duration": 0.012971,
     "end_time": "2022-11-12T02:56:49.968299",
     "exception": false,
     "start_time": "2022-11-12T02:56:49.955328",
     "status": "completed"
    },
    "tags": []
   },
   "outputs": [],
   "source": []
  },
  {
   "cell_type": "code",
   "execution_count": null,
   "id": "saving-secretariat",
   "metadata": {
    "papermill": {
     "duration": 0.012923,
     "end_time": "2022-11-12T02:56:49.994215",
     "exception": false,
     "start_time": "2022-11-12T02:56:49.981292",
     "status": "completed"
    },
    "tags": []
   },
   "outputs": [],
   "source": []
  }
 ],
 "metadata": {
  "kernelspec": {
   "display_name": "Python 3",
   "language": "python",
   "name": "python3"
  },
  "language_info": {
   "codemirror_mode": {
    "name": "ipython",
    "version": 3
   },
   "file_extension": ".py",
   "mimetype": "text/x-python",
   "name": "python",
   "nbconvert_exporter": "python",
   "pygments_lexer": "ipython3",
   "version": "3.6.15"
  },
  "papermill": {
   "default_parameters": {},
   "duration": 14.803481,
   "end_time": "2022-11-12T02:56:50.526801",
   "environment_variables": {},
   "exception": null,
   "input_path": "App-Correlation_charts.ipynb",
   "output_path": "App-Correlation_charts.ipynb",
   "parameters": {},
   "start_time": "2022-11-12T02:56:35.723320",
   "version": "2.2.2"
  }
 },
 "nbformat": 4,
 "nbformat_minor": 5
}