{
 "cells": [
  {
   "cell_type": "markdown",
   "id": "touched-facility",
   "metadata": {
    "papermill": {
     "duration": 0.014952,
     "end_time": "2022-02-07T01:57:46.115636",
     "exception": false,
     "start_time": "2022-02-07T01:57:46.100684",
     "status": "completed"
    },
    "tags": []
   },
   "source": [
    "# Koreliacijų matrica\n",
    "> Išplėstinė koreliacijų matrica. \n",
    "\n",
    "- toc: true \n",
    "- badges: true\n",
    "- comments: false\n",
    "- categories: [Dominykas Tautkus]\n",
    "- image: images/matrix.png"
   ]
  },
  {
   "cell_type": "code",
   "execution_count": null,
   "id": "premium-weekend",
   "metadata": {
    "papermill": {
     "duration": 0.010864,
     "end_time": "2022-02-07T01:57:46.137902",
     "exception": false,
     "start_time": "2022-02-07T01:57:46.127038",
     "status": "completed"
    },
    "tags": []
   },
   "outputs": [],
   "source": []
  },
  {
   "cell_type": "code",
   "execution_count": 1,
   "id": "vertical-rebate",
   "metadata": {
    "execution": {
     "iopub.execute_input": "2022-02-07T01:57:46.170707Z",
     "iopub.status.busy": "2022-02-07T01:57:46.170189Z",
     "iopub.status.idle": "2022-02-07T01:57:46.180624Z",
     "shell.execute_reply": "2022-02-07T01:57:46.181029Z"
    },
    "papermill": {
     "duration": 0.032646,
     "end_time": "2022-02-07T01:57:46.181167",
     "exception": false,
     "start_time": "2022-02-07T01:57:46.148521",
     "status": "completed"
    },
    "tags": []
   },
   "outputs": [],
   "source": [
    "#hide\n",
    "%load_ext autoreload\n",
    "%autoreload 2"
   ]
  },
  {
   "cell_type": "code",
   "execution_count": 2,
   "id": "overall-advancement",
   "metadata": {
    "execution": {
     "iopub.execute_input": "2022-02-07T01:57:46.208497Z",
     "iopub.status.busy": "2022-02-07T01:57:46.208002Z",
     "iopub.status.idle": "2022-02-07T01:57:47.460436Z",
     "shell.execute_reply": "2022-02-07T01:57:47.459519Z"
    },
    "papermill": {
     "duration": 1.268838,
     "end_time": "2022-02-07T01:57:47.460576",
     "exception": false,
     "start_time": "2022-02-07T01:57:46.191738",
     "status": "completed"
    },
    "tags": []
   },
   "outputs": [],
   "source": [
    "#hide\n",
    "from scripts.read_data import read_api\n",
    "from IPython.display import HTML\n",
    "import plotly.graph_objects as go\n"
   ]
  },
  {
   "cell_type": "code",
   "execution_count": 3,
   "id": "light-crazy",
   "metadata": {
    "execution": {
     "iopub.execute_input": "2022-02-07T01:57:47.489624Z",
     "iopub.status.busy": "2022-02-07T01:57:47.487936Z",
     "iopub.status.idle": "2022-02-07T01:57:47.509832Z",
     "shell.execute_reply": "2022-02-07T01:57:47.509355Z"
    },
    "papermill": {
     "duration": 0.038254,
     "end_time": "2022-02-07T01:57:47.509959",
     "exception": false,
     "start_time": "2022-02-07T01:57:47.471705",
     "status": "completed"
    },
    "tags": []
   },
   "outputs": [],
   "source": [
    "#hide\n",
    "### ICO koreliacija"
   ]
  },
  {
   "cell_type": "code",
   "execution_count": 4,
   "id": "likely-bahrain",
   "metadata": {
    "execution": {
     "iopub.execute_input": "2022-02-07T01:57:47.542261Z",
     "iopub.status.busy": "2022-02-07T01:57:47.541676Z",
     "iopub.status.idle": "2022-02-07T01:57:48.423040Z",
     "shell.execute_reply": "2022-02-07T01:57:48.422477Z"
    },
    "papermill": {
     "duration": 0.901735,
     "end_time": "2022-02-07T01:57:48.423173",
     "exception": false,
     "start_time": "2022-02-07T01:57:47.521438",
     "status": "completed"
    },
    "tags": []
   },
   "outputs": [],
   "source": [
    "#hide\n",
    "import matplotlib.pyplot as plt\n",
    "import numpy as np\n",
    "import pandas as pd\n",
    "import seaborn as sns\n",
    "import matplotlib.pyplot as plt \n",
    "import matplotlib.dates as mdates\n",
    "import matplotlib.pyplot as plt"
   ]
  },
  {
   "cell_type": "code",
   "execution_count": 5,
   "id": "superior-blanket",
   "metadata": {
    "execution": {
     "iopub.execute_input": "2022-02-07T01:57:48.455255Z",
     "iopub.status.busy": "2022-02-07T01:57:48.454731Z",
     "iopub.status.idle": "2022-02-07T01:58:01.287140Z",
     "shell.execute_reply": "2022-02-07T01:58:01.286642Z"
    },
    "papermill": {
     "duration": 12.85266,
     "end_time": "2022-02-07T01:58:01.287263",
     "exception": false,
     "start_time": "2022-02-07T01:57:48.434603",
     "status": "completed"
    },
    "tags": []
   },
   "outputs": [
    {
     "name": "stderr",
     "output_type": "stream",
     "text": [
      "/home/runner/work/corr-app/corr-app/_notebooks/scripts/read_data.py:187: SettingWithCopyWarning:\n",
      "\n",
      "\n",
      "A value is trying to be set on a copy of a slice from a DataFrame.\n",
      "Try using .loc[row_indexer,col_indexer] = value instead\n",
      "\n",
      "See the caveats in the documentation: https://pandas.pydata.org/pandas-docs/stable/user_guide/indexing.html#returning-a-view-versus-a-copy\n",
      "\n"
     ]
    },
    {
     "name": "stderr",
     "output_type": "stream",
     "text": [
      "/home/runner/work/corr-app/corr-app/_notebooks/scripts/read_data.py:215: SettingWithCopyWarning:\n",
      "\n",
      "\n",
      "A value is trying to be set on a copy of a slice from a DataFrame.\n",
      "Try using .loc[row_indexer,col_indexer] = value instead\n",
      "\n",
      "See the caveats in the documentation: https://pandas.pydata.org/pandas-docs/stable/user_guide/indexing.html#returning-a-view-versus-a-copy\n",
      "\n"
     ]
    }
   ],
   "source": [
    "#hide\n",
    "df_all = read_api()\n",
    "#df_all = df_all.drop(['SP500', 'XAU', 'ETH', 'BTC'], axis=1)\n",
    "\n"
   ]
  },
  {
   "cell_type": "code",
   "execution_count": 6,
   "id": "mature-alert",
   "metadata": {
    "execution": {
     "iopub.execute_input": "2022-02-07T01:58:01.330880Z",
     "iopub.status.busy": "2022-02-07T01:58:01.330041Z",
     "iopub.status.idle": "2022-02-07T01:58:01.352106Z",
     "shell.execute_reply": "2022-02-07T01:58:01.351325Z"
    },
    "papermill": {
     "duration": 0.053079,
     "end_time": "2022-02-07T01:58:01.352230",
     "exception": false,
     "start_time": "2022-02-07T01:58:01.299151",
     "status": "completed"
    },
    "tags": []
   },
   "outputs": [],
   "source": [
    "#hide_input\n",
    "sum_corr = df_all.corr().sum().sort_values(ascending=True).index.values\n",
    "#df_all[sum_corr].corr()"
   ]
  },
  {
   "cell_type": "markdown",
   "id": "complex-syndicate",
   "metadata": {
    "papermill": {
     "duration": 0.011196,
     "end_time": "2022-02-07T01:58:01.374771",
     "exception": false,
     "start_time": "2022-02-07T01:58:01.363575",
     "status": "completed"
    },
    "tags": []
   },
   "source": [
    "## Išplėstinė koreliacijų matrica. "
   ]
  },
  {
   "cell_type": "code",
   "execution_count": 7,
   "id": "atomic-omaha",
   "metadata": {
    "execution": {
     "iopub.execute_input": "2022-02-07T01:58:01.401663Z",
     "iopub.status.busy": "2022-02-07T01:58:01.400441Z",
     "iopub.status.idle": "2022-02-07T01:58:02.700790Z",
     "shell.execute_reply": "2022-02-07T01:58:02.701224Z"
    },
    "papermill": {
     "duration": 1.315389,
     "end_time": "2022-02-07T01:58:02.701368",
     "exception": false,
     "start_time": "2022-02-07T01:58:01.385979",
     "status": "completed"
    },
    "tags": []
   },
   "outputs": [
    {
     "data": {
      "image/png": "[encoded data removed]",
      "text/plain": [
       "<Figure size 1080x792 with 2 Axes>"
      ]
     },
     "metadata": {
      "needs_background": "light"
     },
     "output_type": "display_data"
    }
   ],
   "source": [
    "#hide_input\n",
    "plt.figure(figsize=(15, 11))\n",
    "sns.heatmap(df_all[sum_corr].corr(), annot=True, cmap=\"cubehelix\") \n",
    "sns.set(font_scale=1.25)\n",
    "plt.savefig('corr_matrix.png', format='eps')"
   ]
  },
  {
   "cell_type": "code",
   "execution_count": 8,
   "id": "arbitrary-sullivan",
   "metadata": {
    "execution": {
     "iopub.execute_input": "2022-02-07T01:58:02.733147Z",
     "iopub.status.busy": "2022-02-07T01:58:02.732611Z",
     "iopub.status.idle": "2022-02-07T01:58:02.758800Z",
     "shell.execute_reply": "2022-02-07T01:58:02.758271Z"
    },
    "papermill": {
     "duration": 0.043744,
     "end_time": "2022-02-07T01:58:02.758920",
     "exception": false,
     "start_time": "2022-02-07T01:58:02.715176",
     "status": "completed"
    },
    "tags": []
   },
   "outputs": [],
   "source": [
    "#hide\n",
    "#df_all_mrk = read_api()"
   ]
  },
  {
   "cell_type": "code",
   "execution_count": 9,
   "id": "delayed-adapter",
   "metadata": {
    "execution": {
     "iopub.execute_input": "2022-02-07T01:58:02.792528Z",
     "iopub.status.busy": "2022-02-07T01:58:02.792026Z",
     "iopub.status.idle": "2022-02-07T01:58:02.815496Z",
     "shell.execute_reply": "2022-02-07T01:58:02.815072Z"
    },
    "papermill": {
     "duration": 0.043295,
     "end_time": "2022-02-07T01:58:02.815598",
     "exception": false,
     "start_time": "2022-02-07T01:58:02.772303",
     "status": "completed"
    },
    "tags": []
   },
   "outputs": [],
   "source": [
    "#hide\n",
    "#Koreliacijų koeficientai"
   ]
  },
  {
   "cell_type": "code",
   "execution_count": 10,
   "id": "seeing-celebration",
   "metadata": {
    "execution": {
     "iopub.execute_input": "2022-02-07T01:58:02.853044Z",
     "iopub.status.busy": "2022-02-07T01:58:02.844786Z",
     "iopub.status.idle": "2022-02-07T01:58:02.873507Z",
     "shell.execute_reply": "2022-02-07T01:58:02.872717Z"
    },
    "papermill": {
     "duration": 0.044668,
     "end_time": "2022-02-07T01:58:02.873619",
     "exception": false,
     "start_time": "2022-02-07T01:58:02.828951",
     "status": "completed"
    },
    "tags": []
   },
   "outputs": [],
   "source": [
    "#hide_input\n",
    "#sum_corr = df_all_mrk.corr().sum().sort_values(ascending=True).index.values\n",
    "#df_all_mrk[sum_corr].corr()"
   ]
  },
  {
   "cell_type": "code",
   "execution_count": 11,
   "id": "other-painting",
   "metadata": {
    "execution": {
     "iopub.execute_input": "2022-02-07T01:58:02.903092Z",
     "iopub.status.busy": "2022-02-07T01:58:02.902200Z",
     "iopub.status.idle": "2022-02-07T01:58:02.926695Z",
     "shell.execute_reply": "2022-02-07T01:58:02.927128Z"
    },
    "papermill": {
     "duration": 0.040457,
     "end_time": "2022-02-07T01:58:02.927258",
     "exception": false,
     "start_time": "2022-02-07T01:58:02.886801",
     "status": "completed"
    },
    "tags": []
   },
   "outputs": [],
   "source": [
    "#hide\n",
    "#Koreliacijos matrica. "
   ]
  },
  {
   "cell_type": "code",
   "execution_count": 12,
   "id": "modular-magnitude",
   "metadata": {
    "execution": {
     "iopub.execute_input": "2022-02-07T01:58:02.965977Z",
     "iopub.status.busy": "2022-02-07T01:58:02.962414Z",
     "iopub.status.idle": "2022-02-07T01:58:02.985529Z",
     "shell.execute_reply": "2022-02-07T01:58:02.985051Z"
    },
    "papermill": {
     "duration": 0.044412,
     "end_time": "2022-02-07T01:58:02.985647",
     "exception": false,
     "start_time": "2022-02-07T01:58:02.941235",
     "status": "completed"
    },
    "tags": []
   },
   "outputs": [],
   "source": [
    "#hide_input\n",
    "#plt.figure(figsize=(15, 8))\n",
    "#sns.heatmap(df_all_mrk[sum_corr].corr(), annot=True, cmap=\"BrBG\");\n",
    "#plt.savefig('corr_matrix_all.eps', format='eps')"
   ]
  },
  {
   "cell_type": "code",
   "execution_count": null,
   "id": "original-senator",
   "metadata": {
    "papermill": {
     "duration": 0.013103,
     "end_time": "2022-02-07T01:58:03.012727",
     "exception": false,
     "start_time": "2022-02-07T01:58:02.999624",
     "status": "completed"
    },
    "tags": []
   },
   "outputs": [],
   "source": []
  },
  {
   "cell_type": "code",
   "execution_count": null,
   "id": "saving-secretariat",
   "metadata": {
    "papermill": {
     "duration": 0.014097,
     "end_time": "2022-02-07T01:58:03.039959",
     "exception": false,
     "start_time": "2022-02-07T01:58:03.025862",
     "status": "completed"
    },
    "tags": []
   },
   "outputs": [],
   "source": []
  }
 ],
 "metadata": {
  "kernelspec": {
   "display_name": "Python 3",
   "language": "python",
   "name": "python3"
  },
  "language_info": {
   "codemirror_mode": {
    "name": "ipython",
    "version": 3
   },
   "file_extension": ".py",
   "mimetype": "text/x-python",
   "name": "python",
   "nbconvert_exporter": "python",
   "pygments_lexer": "ipython3",
   "version": "3.6.15"
  },
  "papermill": {
   "default_parameters": {},
   "duration": 18.39148,
   "end_time": "2022-02-07T01:58:03.571756",
   "environment_variables": {},
   "exception": null,
   "input_path": "App-Correlation_charts.ipynb",
   "output_path": "App-Correlation_charts.ipynb",
   "parameters": {},
   "start_time": "2022-02-07T01:57:45.180276",
   "version": "2.2.2"
  }
 },
 "nbformat": 4,
 "nbformat_minor": 5
}