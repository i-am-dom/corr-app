{
 "cells": [
  {
   "cell_type": "markdown",
   "id": "touched-facility",
   "metadata": {
    "papermill": {
     "duration": 0.014646,
     "end_time": "2021-08-19T01:47:02.888491",
     "exception": false,
     "start_time": "2021-08-19T01:47:02.873845",
     "status": "completed"
    },
    "tags": []
   },
   "source": [
    "# Koreliacijų matrica\n",
    "> Išplėstinė koreliacijų matrica. \n",
    "\n",
    "- toc: true \n",
    "- badges: true\n",
    "- comments: false\n",
    "- categories: [Dominykas Tautkus]\n",
    "- image: images/matrix.png"
   ]
  },
  {
   "cell_type": "code",
   "execution_count": null,
   "id": "premium-weekend",
   "metadata": {
    "papermill": {
     "duration": 0.010536,
     "end_time": "2021-08-19T01:47:02.910334",
     "exception": false,
     "start_time": "2021-08-19T01:47:02.899798",
     "status": "completed"
    },
    "tags": []
   },
   "outputs": [],
   "source": []
  },
  {
   "cell_type": "code",
   "execution_count": 1,
   "id": "vertical-rebate",
   "metadata": {
    "execution": {
     "iopub.execute_input": "2021-08-19T01:47:02.942945Z",
     "iopub.status.busy": "2021-08-19T01:47:02.942442Z",
     "iopub.status.idle": "2021-08-19T01:47:02.952439Z",
     "shell.execute_reply": "2021-08-19T01:47:02.952030Z"
    },
    "papermill": {
     "duration": 0.031589,
     "end_time": "2021-08-19T01:47:02.952553",
     "exception": false,
     "start_time": "2021-08-19T01:47:02.920964",
     "status": "completed"
    },
    "tags": []
   },
   "outputs": [],
   "source": [
    "#hide\n",
    "%load_ext autoreload\n",
    "%autoreload 2"
   ]
  },
  {
   "cell_type": "code",
   "execution_count": 2,
   "id": "overall-advancement",
   "metadata": {
    "execution": {
     "iopub.execute_input": "2021-08-19T01:47:02.976439Z",
     "iopub.status.busy": "2021-08-19T01:47:02.975945Z",
     "iopub.status.idle": "2021-08-19T01:47:04.081456Z",
     "shell.execute_reply": "2021-08-19T01:47:04.080928Z"
    },
    "papermill": {
     "duration": 1.118525,
     "end_time": "2021-08-19T01:47:04.081593",
     "exception": false,
     "start_time": "2021-08-19T01:47:02.963068",
     "status": "completed"
    },
    "tags": []
   },
   "outputs": [],
   "source": [
    "#hide\n",
    "from scripts.read_data import read_api\n",
    "from IPython.display import HTML\n",
    "import plotly.graph_objects as go\n"
   ]
  },
  {
   "cell_type": "code",
   "execution_count": 3,
   "id": "light-crazy",
   "metadata": {
    "execution": {
     "iopub.execute_input": "2021-08-19T01:47:04.111335Z",
     "iopub.status.busy": "2021-08-19T01:47:04.110839Z",
     "iopub.status.idle": "2021-08-19T01:47:04.129857Z",
     "shell.execute_reply": "2021-08-19T01:47:04.129462Z"
    },
    "papermill": {
     "duration": 0.036897,
     "end_time": "2021-08-19T01:47:04.129962",
     "exception": false,
     "start_time": "2021-08-19T01:47:04.093065",
     "status": "completed"
    },
    "tags": []
   },
   "outputs": [],
   "source": [
    "#hide\n",
    "### ICO koreliacija"
   ]
  },
  {
   "cell_type": "code",
   "execution_count": 4,
   "id": "likely-bahrain",
   "metadata": {
    "execution": {
     "iopub.execute_input": "2021-08-19T01:47:04.154160Z",
     "iopub.status.busy": "2021-08-19T01:47:04.153673Z",
     "iopub.status.idle": "2021-08-19T01:47:04.940125Z",
     "shell.execute_reply": "2021-08-19T01:47:04.939609Z"
    },
    "papermill": {
     "duration": 0.799745,
     "end_time": "2021-08-19T01:47:04.940258",
     "exception": false,
     "start_time": "2021-08-19T01:47:04.140513",
     "status": "completed"
    },
    "tags": []
   },
   "outputs": [],
   "source": [
    "#hide\n",
    "import matplotlib.pyplot as plt\n",
    "import numpy as np\n",
    "import pandas as pd\n",
    "import seaborn as sns\n",
    "import matplotlib.pyplot as plt \n",
    "import matplotlib.dates as mdates\n",
    "import matplotlib.pyplot as plt"
   ]
  },
  {
   "cell_type": "code",
   "execution_count": 5,
   "id": "superior-blanket",
   "metadata": {
    "execution": {
     "iopub.execute_input": "2021-08-19T01:47:04.971778Z",
     "iopub.status.busy": "2021-08-19T01:47:04.971237Z",
     "iopub.status.idle": "2021-08-19T01:47:16.967587Z",
     "shell.execute_reply": "2021-08-19T01:47:16.967102Z"
    },
    "papermill": {
     "duration": 12.015467,
     "end_time": "2021-08-19T01:47:16.967704",
     "exception": false,
     "start_time": "2021-08-19T01:47:04.952237",
     "status": "completed"
    },
    "tags": []
   },
   "outputs": [
    {
     "name": "stderr",
     "output_type": "stream",
     "text": [
      "/home/runner/work/corr-app/corr-app/_notebooks/scripts/read_data.py:187: SettingWithCopyWarning:\n",
      "\n",
      "\n",
      "A value is trying to be set on a copy of a slice from a DataFrame.\n",
      "Try using .loc[row_indexer,col_indexer] = value instead\n",
      "\n",
      "See the caveats in the documentation: https://pandas.pydata.org/pandas-docs/stable/user_guide/indexing.html#returning-a-view-versus-a-copy\n",
      "\n"
     ]
    },
    {
     "name": "stderr",
     "output_type": "stream",
     "text": [
      "/home/runner/work/corr-app/corr-app/_notebooks/scripts/read_data.py:215: SettingWithCopyWarning:\n",
      "\n",
      "\n",
      "A value is trying to be set on a copy of a slice from a DataFrame.\n",
      "Try using .loc[row_indexer,col_indexer] = value instead\n",
      "\n",
      "See the caveats in the documentation: https://pandas.pydata.org/pandas-docs/stable/user_guide/indexing.html#returning-a-view-versus-a-copy\n",
      "\n"
     ]
    }
   ],
   "source": [
    "#hide\n",
    "df_all = read_api()\n",
    "#df_all = df_all.drop(['SP500', 'XAU', 'ETH', 'BTC'], axis=1)\n",
    "\n"
   ]
  },
  {
   "cell_type": "code",
   "execution_count": 6,
   "id": "mature-alert",
   "metadata": {
    "execution": {
     "iopub.execute_input": "2021-08-19T01:47:17.009453Z",
     "iopub.status.busy": "2021-08-19T01:47:17.005570Z",
     "iopub.status.idle": "2021-08-19T01:47:17.028761Z",
     "shell.execute_reply": "2021-08-19T01:47:17.028095Z"
    },
    "papermill": {
     "duration": 0.049582,
     "end_time": "2021-08-19T01:47:17.028905",
     "exception": false,
     "start_time": "2021-08-19T01:47:16.979323",
     "status": "completed"
    },
    "tags": []
   },
   "outputs": [],
   "source": [
    "#hide_input\n",
    "sum_corr = df_all.corr().sum().sort_values(ascending=True).index.values\n",
    "#df_all[sum_corr].corr()"
   ]
  },
  {
   "cell_type": "markdown",
   "id": "complex-syndicate",
   "metadata": {
    "papermill": {
     "duration": 0.011263,
     "end_time": "2021-08-19T01:47:17.051501",
     "exception": false,
     "start_time": "2021-08-19T01:47:17.040238",
     "status": "completed"
    },
    "tags": []
   },
   "source": [
    "## Išplėstinė koreliacijų matrica. "
   ]
  },
  {
   "cell_type": "code",
   "execution_count": 7,
   "id": "atomic-omaha",
   "metadata": {
    "execution": {
     "iopub.execute_input": "2021-08-19T01:47:17.077915Z",
     "iopub.status.busy": "2021-08-19T01:47:17.076834Z",
     "iopub.status.idle": "2021-08-19T01:47:18.224782Z",
     "shell.execute_reply": "2021-08-19T01:47:18.225270Z"
    },
    "papermill": {
     "duration": 1.162778,
     "end_time": "2021-08-19T01:47:18.225422",
     "exception": false,
     "start_time": "2021-08-19T01:47:17.062644",
     "status": "completed"
    },
    "tags": []
   },
   "outputs": [
    {
     "data": {
      "image/png": "[encoded data removed]",
      "text/plain": [
       "<Figure size 1080x792 with 2 Axes>"
      ]
     },
     "metadata": {
      "needs_background": "light"
     },
     "output_type": "display_data"
    }
   ],
   "source": [
    "#hide_input\n",
    "plt.figure(figsize=(15, 11))\n",
    "sns.heatmap(df_all[sum_corr].corr(), annot=True, cmap=\"cubehelix\") \n",
    "sns.set(font_scale=1.25)\n",
    "plt.savefig('corr_matrix.png', format='eps')"
   ]
  },
  {
   "cell_type": "code",
   "execution_count": 8,
   "id": "arbitrary-sullivan",
   "metadata": {
    "execution": {
     "iopub.execute_input": "2021-08-19T01:47:18.261477Z",
     "iopub.status.busy": "2021-08-19T01:47:18.260945Z",
     "iopub.status.idle": "2021-08-19T01:47:18.283029Z",
     "shell.execute_reply": "2021-08-19T01:47:18.282547Z"
    },
    "papermill": {
     "duration": 0.043572,
     "end_time": "2021-08-19T01:47:18.283150",
     "exception": false,
     "start_time": "2021-08-19T01:47:18.239578",
     "status": "completed"
    },
    "tags": []
   },
   "outputs": [],
   "source": [
    "#hide\n",
    "#df_all_mrk = read_api()"
   ]
  },
  {
   "cell_type": "code",
   "execution_count": 9,
   "id": "delayed-adapter",
   "metadata": {
    "execution": {
     "iopub.execute_input": "2021-08-19T01:47:18.319081Z",
     "iopub.status.busy": "2021-08-19T01:47:18.312425Z",
     "iopub.status.idle": "2021-08-19T01:47:18.340217Z",
     "shell.execute_reply": "2021-08-19T01:47:18.339797Z"
    },
    "papermill": {
     "duration": 0.043063,
     "end_time": "2021-08-19T01:47:18.340313",
     "exception": false,
     "start_time": "2021-08-19T01:47:18.297250",
     "status": "completed"
    },
    "tags": []
   },
   "outputs": [],
   "source": [
    "#hide\n",
    "#Koreliacijų koeficientai"
   ]
  },
  {
   "cell_type": "code",
   "execution_count": 10,
   "id": "seeing-celebration",
   "metadata": {
    "execution": {
     "iopub.execute_input": "2021-08-19T01:47:18.369896Z",
     "iopub.status.busy": "2021-08-19T01:47:18.369413Z",
     "iopub.status.idle": "2021-08-19T01:47:18.392073Z",
     "shell.execute_reply": "2021-08-19T01:47:18.391677Z"
    },
    "papermill": {
     "duration": 0.038654,
     "end_time": "2021-08-19T01:47:18.392172",
     "exception": false,
     "start_time": "2021-08-19T01:47:18.353518",
     "status": "completed"
    },
    "tags": []
   },
   "outputs": [],
   "source": [
    "#hide_input\n",
    "#sum_corr = df_all_mrk.corr().sum().sort_values(ascending=True).index.values\n",
    "#df_all_mrk[sum_corr].corr()"
   ]
  },
  {
   "cell_type": "code",
   "execution_count": 11,
   "id": "other-painting",
   "metadata": {
    "execution": {
     "iopub.execute_input": "2021-08-19T01:47:18.423417Z",
     "iopub.status.busy": "2021-08-19T01:47:18.422934Z",
     "iopub.status.idle": "2021-08-19T01:47:18.445137Z",
     "shell.execute_reply": "2021-08-19T01:47:18.445532Z"
    },
    "papermill": {
     "duration": 0.040473,
     "end_time": "2021-08-19T01:47:18.445640",
     "exception": false,
     "start_time": "2021-08-19T01:47:18.405167",
     "status": "completed"
    },
    "tags": []
   },
   "outputs": [],
   "source": [
    "#hide\n",
    "#Koreliacijos matrica. "
   ]
  },
  {
   "cell_type": "code",
   "execution_count": 12,
   "id": "modular-magnitude",
   "metadata": {
    "execution": {
     "iopub.execute_input": "2021-08-19T01:47:18.474512Z",
     "iopub.status.busy": "2021-08-19T01:47:18.474032Z",
     "iopub.status.idle": "2021-08-19T01:47:18.497063Z",
     "shell.execute_reply": "2021-08-19T01:47:18.496592Z"
    },
    "papermill": {
     "duration": 0.038428,
     "end_time": "2021-08-19T01:47:18.497178",
     "exception": false,
     "start_time": "2021-08-19T01:47:18.458750",
     "status": "completed"
    },
    "tags": []
   },
   "outputs": [],
   "source": [
    "#hide_input\n",
    "#plt.figure(figsize=(15, 8))\n",
    "#sns.heatmap(df_all_mrk[sum_corr].corr(), annot=True, cmap=\"BrBG\");\n",
    "#plt.savefig('corr_matrix_all.eps', format='eps')"
   ]
  },
  {
   "cell_type": "code",
   "execution_count": null,
   "id": "original-senator",
   "metadata": {
    "papermill": {
     "duration": 0.013052,
     "end_time": "2021-08-19T01:47:18.524190",
     "exception": false,
     "start_time": "2021-08-19T01:47:18.511138",
     "status": "completed"
    },
    "tags": []
   },
   "outputs": [],
   "source": []
  },
  {
   "cell_type": "code",
   "execution_count": null,
   "id": "saving-secretariat",
   "metadata": {
    "papermill": {
     "duration": 0.013033,
     "end_time": "2021-08-19T01:47:18.550364",
     "exception": false,
     "start_time": "2021-08-19T01:47:18.537331",
     "status": "completed"
    },
    "tags": []
   },
   "outputs": [],
   "source": []
  }
 ],
 "metadata": {
  "kernelspec": {
   "display_name": "Python 3",
   "language": "python",
   "name": "python3"
  },
  "language_info": {
   "codemirror_mode": {
    "name": "ipython",
    "version": 3
   },
   "file_extension": ".py",
   "mimetype": "text/x-python",
   "name": "python",
   "nbconvert_exporter": "python",
   "pygments_lexer": "ipython3",
   "version": "3.6.14"
  },
  "papermill": {
   "default_parameters": {},
   "duration": 17.22858,
   "end_time": "2021-08-19T01:47:19.071345",
   "environment_variables": {},
   "exception": null,
   "input_path": "App-Correlation_charts.ipynb",
   "output_path": "App-Correlation_charts.ipynb",
   "parameters": {},
   "start_time": "2021-08-19T01:47:01.842765",
   "version": "2.2.2"
  }
 },
 "nbformat": 4,
 "nbformat_minor": 5
}