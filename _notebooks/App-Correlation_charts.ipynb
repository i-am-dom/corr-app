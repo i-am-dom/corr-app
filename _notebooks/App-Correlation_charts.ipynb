{
 "cells": [
  {
   "cell_type": "markdown",
   "id": "touched-facility",
   "metadata": {
    "papermill": {
     "duration": 0.014724,
     "end_time": "2022-08-20T03:10:39.629116",
     "exception": false,
     "start_time": "2022-08-20T03:10:39.614392",
     "status": "completed"
    },
    "tags": []
   },
   "source": [
    "# Koreliacijų matrica\n",
    "> Išplėstinė koreliacijų matrica. \n",
    "\n",
    "- toc: true \n",
    "- badges: true\n",
    "- comments: false\n",
    "- categories: [Dominykas Tautkus]\n",
    "- image: images/matrix.png"
   ]
  },
  {
   "cell_type": "code",
   "execution_count": null,
   "id": "premium-weekend",
   "metadata": {
    "papermill": {
     "duration": 0.012097,
     "end_time": "2022-08-20T03:10:39.653173",
     "exception": false,
     "start_time": "2022-08-20T03:10:39.641076",
     "status": "completed"
    },
    "tags": []
   },
   "outputs": [],
   "source": []
  },
  {
   "cell_type": "code",
   "execution_count": 1,
   "id": "vertical-rebate",
   "metadata": {
    "execution": {
     "iopub.execute_input": "2022-08-20T03:10:39.687020Z",
     "iopub.status.busy": "2022-08-20T03:10:39.686295Z",
     "iopub.status.idle": "2022-08-20T03:10:39.698745Z",
     "shell.execute_reply": "2022-08-20T03:10:39.698174Z"
    },
    "papermill": {
     "duration": 0.034185,
     "end_time": "2022-08-20T03:10:39.698885",
     "exception": false,
     "start_time": "2022-08-20T03:10:39.664700",
     "status": "completed"
    },
    "tags": []
   },
   "outputs": [],
   "source": [
    "#hide\n",
    "%load_ext autoreload\n",
    "%autoreload 2"
   ]
  },
  {
   "cell_type": "code",
   "execution_count": 2,
   "id": "overall-advancement",
   "metadata": {
    "execution": {
     "iopub.execute_input": "2022-08-20T03:10:39.725906Z",
     "iopub.status.busy": "2022-08-20T03:10:39.725231Z",
     "iopub.status.idle": "2022-08-20T03:10:41.213013Z",
     "shell.execute_reply": "2022-08-20T03:10:41.213506Z"
    },
    "papermill": {
     "duration": 1.503547,
     "end_time": "2022-08-20T03:10:41.213664",
     "exception": false,
     "start_time": "2022-08-20T03:10:39.710117",
     "status": "completed"
    },
    "tags": []
   },
   "outputs": [],
   "source": [
    "#hide\n",
    "from scripts.read_data import read_api\n",
    "from IPython.display import HTML\n",
    "import plotly.graph_objects as go\n"
   ]
  },
  {
   "cell_type": "code",
   "execution_count": 3,
   "id": "light-crazy",
   "metadata": {
    "execution": {
     "iopub.execute_input": "2022-08-20T03:10:41.244294Z",
     "iopub.status.busy": "2022-08-20T03:10:41.243532Z",
     "iopub.status.idle": "2022-08-20T03:10:41.268973Z",
     "shell.execute_reply": "2022-08-20T03:10:41.268439Z"
    },
    "papermill": {
     "duration": 0.041797,
     "end_time": "2022-08-20T03:10:41.269121",
     "exception": false,
     "start_time": "2022-08-20T03:10:41.227324",
     "status": "completed"
    },
    "tags": []
   },
   "outputs": [],
   "source": [
    "#hide\n",
    "### ICO koreliacija"
   ]
  },
  {
   "cell_type": "code",
   "execution_count": 4,
   "id": "likely-bahrain",
   "metadata": {
    "execution": {
     "iopub.execute_input": "2022-08-20T03:10:41.300277Z",
     "iopub.status.busy": "2022-08-20T03:10:41.298891Z",
     "iopub.status.idle": "2022-08-20T03:10:42.201098Z",
     "shell.execute_reply": "2022-08-20T03:10:42.200554Z"
    },
    "papermill": {
     "duration": 0.920519,
     "end_time": "2022-08-20T03:10:42.201245",
     "exception": false,
     "start_time": "2022-08-20T03:10:41.280726",
     "status": "completed"
    },
    "tags": []
   },
   "outputs": [],
   "source": [
    "#hide\n",
    "import matplotlib.pyplot as plt\n",
    "import numpy as np\n",
    "import pandas as pd\n",
    "import seaborn as sns\n",
    "import matplotlib.pyplot as plt \n",
    "import matplotlib.dates as mdates\n",
    "import matplotlib.pyplot as plt"
   ]
  },
  {
   "cell_type": "code",
   "execution_count": 5,
   "id": "superior-blanket",
   "metadata": {
    "execution": {
     "iopub.execute_input": "2022-08-20T03:10:42.229729Z",
     "iopub.status.busy": "2022-08-20T03:10:42.229014Z",
     "iopub.status.idle": "2022-08-20T03:10:55.558215Z",
     "shell.execute_reply": "2022-08-20T03:10:55.557664Z"
    },
    "papermill": {
     "duration": 13.345594,
     "end_time": "2022-08-20T03:10:55.558336",
     "exception": false,
     "start_time": "2022-08-20T03:10:42.212742",
     "status": "completed"
    },
    "tags": []
   },
   "outputs": [
    {
     "name": "stderr",
     "output_type": "stream",
     "text": [
      "/home/runner/work/corr-app/corr-app/_notebooks/scripts/read_data.py:187: SettingWithCopyWarning:\n",
      "\n",
      "\n",
      "A value is trying to be set on a copy of a slice from a DataFrame.\n",
      "Try using .loc[row_indexer,col_indexer] = value instead\n",
      "\n",
      "See the caveats in the documentation: https://pandas.pydata.org/pandas-docs/stable/user_guide/indexing.html#returning-a-view-versus-a-copy\n",
      "\n"
     ]
    },
    {
     "name": "stderr",
     "output_type": "stream",
     "text": [
      "/home/runner/work/corr-app/corr-app/_notebooks/scripts/read_data.py:215: SettingWithCopyWarning:\n",
      "\n",
      "\n",
      "A value is trying to be set on a copy of a slice from a DataFrame.\n",
      "Try using .loc[row_indexer,col_indexer] = value instead\n",
      "\n",
      "See the caveats in the documentation: https://pandas.pydata.org/pandas-docs/stable/user_guide/indexing.html#returning-a-view-versus-a-copy\n",
      "\n"
     ]
    }
   ],
   "source": [
    "#hide\n",
    "df_all = read_api()\n",
    "#df_all = df_all.drop(['SP500', 'XAU', 'ETH', 'BTC'], axis=1)\n",
    "\n"
   ]
  },
  {
   "cell_type": "code",
   "execution_count": 6,
   "id": "mature-alert",
   "metadata": {
    "execution": {
     "iopub.execute_input": "2022-08-20T03:10:55.588644Z",
     "iopub.status.busy": "2022-08-20T03:10:55.587737Z",
     "iopub.status.idle": "2022-08-20T03:10:55.621111Z",
     "shell.execute_reply": "2022-08-20T03:10:55.620580Z"
    },
    "papermill": {
     "duration": 0.049471,
     "end_time": "2022-08-20T03:10:55.621242",
     "exception": false,
     "start_time": "2022-08-20T03:10:55.571771",
     "status": "completed"
    },
    "tags": []
   },
   "outputs": [],
   "source": [
    "#hide_input\n",
    "sum_corr = df_all.corr().sum().sort_values(ascending=True).index.values\n",
    "#df_all[sum_corr].corr()"
   ]
  },
  {
   "cell_type": "markdown",
   "id": "complex-syndicate",
   "metadata": {
    "papermill": {
     "duration": 0.011791,
     "end_time": "2022-08-20T03:10:55.644860",
     "exception": false,
     "start_time": "2022-08-20T03:10:55.633069",
     "status": "completed"
    },
    "tags": []
   },
   "source": [
    "## Išplėstinė koreliacijų matrica. "
   ]
  },
  {
   "cell_type": "code",
   "execution_count": 7,
   "id": "atomic-omaha",
   "metadata": {
    "execution": {
     "iopub.execute_input": "2022-08-20T03:10:55.675941Z",
     "iopub.status.busy": "2022-08-20T03:10:55.675195Z",
     "iopub.status.idle": "2022-08-20T03:10:56.879039Z",
     "shell.execute_reply": "2022-08-20T03:10:56.879499Z"
    },
    "papermill": {
     "duration": 1.222769,
     "end_time": "2022-08-20T03:10:56.879693",
     "exception": false,
     "start_time": "2022-08-20T03:10:55.656924",
     "status": "completed"
    },
    "tags": []
   },
   "outputs": [
    {
     "data": {
      "image/png": "[encoded data removed]",
      "text/plain": [
       "<Figure size 1080x792 with 2 Axes>"
      ]
     },
     "metadata": {
      "needs_background": "light"
     },
     "output_type": "display_data"
    }
   ],
   "source": [
    "#hide_input\n",
    "plt.figure(figsize=(15, 11))\n",
    "sns.heatmap(df_all[sum_corr].corr(), annot=True, cmap=\"cubehelix\") \n",
    "sns.set(font_scale=1.25)\n",
    "plt.savefig('corr_matrix.png', format='eps')"
   ]
  },
  {
   "cell_type": "code",
   "execution_count": 8,
   "id": "arbitrary-sullivan",
   "metadata": {
    "execution": {
     "iopub.execute_input": "2022-08-20T03:10:56.915852Z",
     "iopub.status.busy": "2022-08-20T03:10:56.913947Z",
     "iopub.status.idle": "2022-08-20T03:10:56.943329Z",
     "shell.execute_reply": "2022-08-20T03:10:56.942779Z"
    },
    "papermill": {
     "duration": 0.049452,
     "end_time": "2022-08-20T03:10:56.943461",
     "exception": false,
     "start_time": "2022-08-20T03:10:56.894009",
     "status": "completed"
    },
    "tags": []
   },
   "outputs": [],
   "source": [
    "#hide\n",
    "#df_all_mrk = read_api()"
   ]
  },
  {
   "cell_type": "code",
   "execution_count": 9,
   "id": "delayed-adapter",
   "metadata": {
    "execution": {
     "iopub.execute_input": "2022-08-20T03:10:56.975875Z",
     "iopub.status.busy": "2022-08-20T03:10:56.975067Z",
     "iopub.status.idle": "2022-08-20T03:10:57.004885Z",
     "shell.execute_reply": "2022-08-20T03:10:57.005435Z"
    },
    "papermill": {
     "duration": 0.048144,
     "end_time": "2022-08-20T03:10:57.005578",
     "exception": false,
     "start_time": "2022-08-20T03:10:56.957434",
     "status": "completed"
    },
    "tags": []
   },
   "outputs": [],
   "source": [
    "#hide\n",
    "#Koreliacijų koeficientai"
   ]
  },
  {
   "cell_type": "code",
   "execution_count": 10,
   "id": "seeing-celebration",
   "metadata": {
    "execution": {
     "iopub.execute_input": "2022-08-20T03:10:57.038081Z",
     "iopub.status.busy": "2022-08-20T03:10:57.037423Z",
     "iopub.status.idle": "2022-08-20T03:10:57.066555Z",
     "shell.execute_reply": "2022-08-20T03:10:57.066011Z"
    },
    "papermill": {
     "duration": 0.047192,
     "end_time": "2022-08-20T03:10:57.066698",
     "exception": false,
     "start_time": "2022-08-20T03:10:57.019506",
     "status": "completed"
    },
    "tags": []
   },
   "outputs": [],
   "source": [
    "#hide_input\n",
    "#sum_corr = df_all_mrk.corr().sum().sort_values(ascending=True).index.values\n",
    "#df_all_mrk[sum_corr].corr()"
   ]
  },
  {
   "cell_type": "code",
   "execution_count": 11,
   "id": "other-painting",
   "metadata": {
    "execution": {
     "iopub.execute_input": "2022-08-20T03:10:57.099612Z",
     "iopub.status.busy": "2022-08-20T03:10:57.098892Z",
     "iopub.status.idle": "2022-08-20T03:10:57.127567Z",
     "shell.execute_reply": "2022-08-20T03:10:57.127008Z"
    },
    "papermill": {
     "duration": 0.047219,
     "end_time": "2022-08-20T03:10:57.127724",
     "exception": false,
     "start_time": "2022-08-20T03:10:57.080505",
     "status": "completed"
    },
    "tags": []
   },
   "outputs": [],
   "source": [
    "#hide\n",
    "#Koreliacijos matrica. "
   ]
  },
  {
   "cell_type": "code",
   "execution_count": 12,
   "id": "modular-magnitude",
   "metadata": {
    "execution": {
     "iopub.execute_input": "2022-08-20T03:10:57.160016Z",
     "iopub.status.busy": "2022-08-20T03:10:57.159315Z",
     "iopub.status.idle": "2022-08-20T03:10:57.186075Z",
     "shell.execute_reply": "2022-08-20T03:10:57.186538Z"
    },
    "papermill": {
     "duration": 0.045116,
     "end_time": "2022-08-20T03:10:57.186681",
     "exception": false,
     "start_time": "2022-08-20T03:10:57.141565",
     "status": "completed"
    },
    "tags": []
   },
   "outputs": [],
   "source": [
    "#hide_input\n",
    "#plt.figure(figsize=(15, 8))\n",
    "#sns.heatmap(df_all_mrk[sum_corr].corr(), annot=True, cmap=\"BrBG\");\n",
    "#plt.savefig('corr_matrix_all.eps', format='eps')"
   ]
  },
  {
   "cell_type": "code",
   "execution_count": null,
   "id": "original-senator",
   "metadata": {
    "papermill": {
     "duration": 0.013661,
     "end_time": "2022-08-20T03:10:57.218282",
     "exception": false,
     "start_time": "2022-08-20T03:10:57.204621",
     "status": "completed"
    },
    "tags": []
   },
   "outputs": [],
   "source": []
  },
  {
   "cell_type": "code",
   "execution_count": null,
   "id": "saving-secretariat",
   "metadata": {
    "papermill": {
     "duration": 0.013569,
     "end_time": "2022-08-20T03:10:57.245750",
     "exception": false,
     "start_time": "2022-08-20T03:10:57.232181",
     "status": "completed"
    },
    "tags": []
   },
   "outputs": [],
   "source": []
  }
 ],
 "metadata": {
  "kernelspec": {
   "display_name": "Python 3",
   "language": "python",
   "name": "python3"
  },
  "language_info": {
   "codemirror_mode": {
    "name": "ipython",
    "version": 3
   },
   "file_extension": ".py",
   "mimetype": "text/x-python",
   "name": "python",
   "nbconvert_exporter": "python",
   "pygments_lexer": "ipython3",
   "version": "3.6.15"
  },
  "papermill": {
   "default_parameters": {},
   "duration": 19.530614,
   "end_time": "2022-08-20T03:10:57.880725",
   "environment_variables": {},
   "exception": null,
   "input_path": "App-Correlation_charts.ipynb",
   "output_path": "App-Correlation_charts.ipynb",
   "parameters": {},
   "start_time": "2022-08-20T03:10:38.350111",
   "version": "2.2.2"
  }
 },
 "nbformat": 4,
 "nbformat_minor": 5
}