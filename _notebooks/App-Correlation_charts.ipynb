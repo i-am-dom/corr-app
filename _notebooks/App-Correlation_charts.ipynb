{
 "cells": [
  {
   "cell_type": "markdown",
   "id": "touched-facility",
   "metadata": {
    "papermill": {
     "duration": 0.021452,
     "end_time": "2021-08-07T01:52:25.553048",
     "exception": false,
     "start_time": "2021-08-07T01:52:25.531596",
     "status": "completed"
    },
    "tags": []
   },
   "source": [
    "# Koreliacijų matrica\n",
    "> Išplėstinė koreliacijų matrica. \n",
    "\n",
    "- toc: true \n",
    "- badges: true\n",
    "- comments: false\n",
    "- categories: [Dominykas Tautkus]\n",
    "- image: images/matrix.png"
   ]
  },
  {
   "cell_type": "code",
   "execution_count": null,
   "id": "premium-weekend",
   "metadata": {
    "papermill": {
     "duration": 0.012024,
     "end_time": "2021-08-07T01:52:25.577938",
     "exception": false,
     "start_time": "2021-08-07T01:52:25.565914",
     "status": "completed"
    },
    "tags": []
   },
   "outputs": [],
   "source": []
  },
  {
   "cell_type": "code",
   "execution_count": 1,
   "id": "vertical-rebate",
   "metadata": {
    "execution": {
     "iopub.execute_input": "2021-08-07T01:52:25.610298Z",
     "iopub.status.busy": "2021-08-07T01:52:25.609694Z",
     "iopub.status.idle": "2021-08-07T01:52:25.628673Z",
     "shell.execute_reply": "2021-08-07T01:52:25.628129Z"
    },
    "papermill": {
     "duration": 0.038958,
     "end_time": "2021-08-07T01:52:25.628812",
     "exception": false,
     "start_time": "2021-08-07T01:52:25.589854",
     "status": "completed"
    },
    "tags": []
   },
   "outputs": [],
   "source": [
    "#hide\n",
    "%load_ext autoreload\n",
    "%autoreload 2"
   ]
  },
  {
   "cell_type": "code",
   "execution_count": 2,
   "id": "overall-advancement",
   "metadata": {
    "execution": {
     "iopub.execute_input": "2021-08-07T01:52:25.659758Z",
     "iopub.status.busy": "2021-08-07T01:52:25.659177Z",
     "iopub.status.idle": "2021-08-07T01:52:26.897865Z",
     "shell.execute_reply": "2021-08-07T01:52:26.898367Z"
    },
    "papermill": {
     "duration": 1.256408,
     "end_time": "2021-08-07T01:52:26.898532",
     "exception": false,
     "start_time": "2021-08-07T01:52:25.642124",
     "status": "completed"
    },
    "tags": []
   },
   "outputs": [],
   "source": [
    "#hide\n",
    "from scripts.read_data import read_api\n",
    "from IPython.display import HTML\n",
    "import plotly.graph_objects as go\n"
   ]
  },
  {
   "cell_type": "code",
   "execution_count": 3,
   "id": "light-crazy",
   "metadata": {
    "execution": {
     "iopub.execute_input": "2021-08-07T01:52:26.929220Z",
     "iopub.status.busy": "2021-08-07T01:52:26.928553Z",
     "iopub.status.idle": "2021-08-07T01:52:26.960164Z",
     "shell.execute_reply": "2021-08-07T01:52:26.959387Z"
    },
    "papermill": {
     "duration": 0.049478,
     "end_time": "2021-08-07T01:52:26.960346",
     "exception": false,
     "start_time": "2021-08-07T01:52:26.910868",
     "status": "completed"
    },
    "tags": []
   },
   "outputs": [],
   "source": [
    "#hide\n",
    "### ICO koreliacija"
   ]
  },
  {
   "cell_type": "code",
   "execution_count": 4,
   "id": "likely-bahrain",
   "metadata": {
    "execution": {
     "iopub.execute_input": "2021-08-07T01:52:26.990496Z",
     "iopub.status.busy": "2021-08-07T01:52:26.989877Z",
     "iopub.status.idle": "2021-08-07T01:52:27.956527Z",
     "shell.execute_reply": "2021-08-07T01:52:27.956004Z"
    },
    "papermill": {
     "duration": 0.983194,
     "end_time": "2021-08-07T01:52:27.956662",
     "exception": false,
     "start_time": "2021-08-07T01:52:26.973468",
     "status": "completed"
    },
    "tags": []
   },
   "outputs": [],
   "source": [
    "#hide\n",
    "import matplotlib.pyplot as plt\n",
    "import numpy as np\n",
    "import pandas as pd\n",
    "import seaborn as sns\n",
    "import matplotlib.pyplot as plt \n",
    "import matplotlib.dates as mdates\n",
    "import matplotlib.pyplot as plt"
   ]
  },
  {
   "cell_type": "code",
   "execution_count": 5,
   "id": "superior-blanket",
   "metadata": {
    "execution": {
     "iopub.execute_input": "2021-08-07T01:52:27.987270Z",
     "iopub.status.busy": "2021-08-07T01:52:27.986663Z",
     "iopub.status.idle": "2021-08-07T01:52:38.561841Z",
     "shell.execute_reply": "2021-08-07T01:52:38.561293Z"
    },
    "papermill": {
     "duration": 10.592636,
     "end_time": "2021-08-07T01:52:38.561973",
     "exception": false,
     "start_time": "2021-08-07T01:52:27.969337",
     "status": "completed"
    },
    "tags": []
   },
   "outputs": [
    {
     "name": "stderr",
     "output_type": "stream",
     "text": [
      "/home/runner/work/corr-app/corr-app/_notebooks/scripts/read_data.py:187: SettingWithCopyWarning:\n",
      "\n",
      "\n",
      "A value is trying to be set on a copy of a slice from a DataFrame.\n",
      "Try using .loc[row_indexer,col_indexer] = value instead\n",
      "\n",
      "See the caveats in the documentation: https://pandas.pydata.org/pandas-docs/stable/user_guide/indexing.html#returning-a-view-versus-a-copy\n",
      "\n"
     ]
    },
    {
     "name": "stderr",
     "output_type": "stream",
     "text": [
      "/home/runner/work/corr-app/corr-app/_notebooks/scripts/read_data.py:215: SettingWithCopyWarning:\n",
      "\n",
      "\n",
      "A value is trying to be set on a copy of a slice from a DataFrame.\n",
      "Try using .loc[row_indexer,col_indexer] = value instead\n",
      "\n",
      "See the caveats in the documentation: https://pandas.pydata.org/pandas-docs/stable/user_guide/indexing.html#returning-a-view-versus-a-copy\n",
      "\n"
     ]
    }
   ],
   "source": [
    "#hide\n",
    "df_all = read_api()\n",
    "#df_all = df_all.drop(['SP500', 'XAU', 'ETH', 'BTC'], axis=1)\n",
    "\n"
   ]
  },
  {
   "cell_type": "code",
   "execution_count": 6,
   "id": "mature-alert",
   "metadata": {
    "execution": {
     "iopub.execute_input": "2021-08-07T01:52:38.592609Z",
     "iopub.status.busy": "2021-08-07T01:52:38.592021Z",
     "iopub.status.idle": "2021-08-07T01:52:38.628958Z",
     "shell.execute_reply": "2021-08-07T01:52:38.628431Z"
    },
    "papermill": {
     "duration": 0.053926,
     "end_time": "2021-08-07T01:52:38.629095",
     "exception": false,
     "start_time": "2021-08-07T01:52:38.575169",
     "status": "completed"
    },
    "tags": []
   },
   "outputs": [],
   "source": [
    "#hide_input\n",
    "sum_corr = df_all.corr().sum().sort_values(ascending=True).index.values\n",
    "#df_all[sum_corr].corr()"
   ]
  },
  {
   "cell_type": "markdown",
   "id": "complex-syndicate",
   "metadata": {
    "papermill": {
     "duration": 0.014438,
     "end_time": "2021-08-07T01:52:38.658857",
     "exception": false,
     "start_time": "2021-08-07T01:52:38.644419",
     "status": "completed"
    },
    "tags": []
   },
   "source": [
    "## Išplėstinė koreliacijų matrica. "
   ]
  },
  {
   "cell_type": "code",
   "execution_count": 7,
   "id": "atomic-omaha",
   "metadata": {
    "execution": {
     "iopub.execute_input": "2021-08-07T01:52:38.690760Z",
     "iopub.status.busy": "2021-08-07T01:52:38.690095Z",
     "iopub.status.idle": "2021-08-07T01:52:40.054880Z",
     "shell.execute_reply": "2021-08-07T01:52:40.054349Z"
    },
    "papermill": {
     "duration": 1.383144,
     "end_time": "2021-08-07T01:52:40.055006",
     "exception": false,
     "start_time": "2021-08-07T01:52:38.671862",
     "status": "completed"
    },
    "tags": []
   },
   "outputs": [
    {
     "data": {
      "image/png": "[encoded data removed]",
      "text/plain": [
       "<Figure size 1080x792 with 2 Axes>"
      ]
     },
     "metadata": {
      "needs_background": "light"
     },
     "output_type": "display_data"
    }
   ],
   "source": [
    "#hide_input\n",
    "plt.figure(figsize=(15, 11))\n",
    "sns.heatmap(df_all[sum_corr].corr(), annot=True, cmap=\"cubehelix\") \n",
    "sns.set(font_scale=1.25)\n",
    "plt.savefig('corr_matrix.png', format='eps')"
   ]
  },
  {
   "cell_type": "code",
   "execution_count": 8,
   "id": "arbitrary-sullivan",
   "metadata": {
    "execution": {
     "iopub.execute_input": "2021-08-07T01:52:40.091860Z",
     "iopub.status.busy": "2021-08-07T01:52:40.091214Z",
     "iopub.status.idle": "2021-08-07T01:52:40.130403Z",
     "shell.execute_reply": "2021-08-07T01:52:40.129366Z"
    },
    "papermill": {
     "duration": 0.060227,
     "end_time": "2021-08-07T01:52:40.130555",
     "exception": false,
     "start_time": "2021-08-07T01:52:40.070328",
     "status": "completed"
    },
    "tags": []
   },
   "outputs": [],
   "source": [
    "#hide\n",
    "#df_all_mrk = read_api()"
   ]
  },
  {
   "cell_type": "code",
   "execution_count": 9,
   "id": "delayed-adapter",
   "metadata": {
    "execution": {
     "iopub.execute_input": "2021-08-07T01:52:40.165665Z",
     "iopub.status.busy": "2021-08-07T01:52:40.164555Z",
     "iopub.status.idle": "2021-08-07T01:52:40.193038Z",
     "shell.execute_reply": "2021-08-07T01:52:40.192062Z"
    },
    "papermill": {
     "duration": 0.047514,
     "end_time": "2021-08-07T01:52:40.193179",
     "exception": false,
     "start_time": "2021-08-07T01:52:40.145665",
     "status": "completed"
    },
    "tags": []
   },
   "outputs": [],
   "source": [
    "#hide\n",
    "#Koreliacijų koeficientai"
   ]
  },
  {
   "cell_type": "code",
   "execution_count": 10,
   "id": "seeing-celebration",
   "metadata": {
    "execution": {
     "iopub.execute_input": "2021-08-07T01:52:40.228418Z",
     "iopub.status.busy": "2021-08-07T01:52:40.227377Z",
     "iopub.status.idle": "2021-08-07T01:52:40.255348Z",
     "shell.execute_reply": "2021-08-07T01:52:40.254701Z"
    },
    "papermill": {
     "duration": 0.046923,
     "end_time": "2021-08-07T01:52:40.255477",
     "exception": false,
     "start_time": "2021-08-07T01:52:40.208554",
     "status": "completed"
    },
    "tags": []
   },
   "outputs": [],
   "source": [
    "#hide_input\n",
    "#sum_corr = df_all_mrk.corr().sum().sort_values(ascending=True).index.values\n",
    "#df_all_mrk[sum_corr].corr()"
   ]
  },
  {
   "cell_type": "code",
   "execution_count": 11,
   "id": "other-painting",
   "metadata": {
    "execution": {
     "iopub.execute_input": "2021-08-07T01:52:40.303195Z",
     "iopub.status.busy": "2021-08-07T01:52:40.299896Z",
     "iopub.status.idle": "2021-08-07T01:52:40.330258Z",
     "shell.execute_reply": "2021-08-07T01:52:40.329745Z"
    },
    "papermill": {
     "duration": 0.049946,
     "end_time": "2021-08-07T01:52:40.330416",
     "exception": false,
     "start_time": "2021-08-07T01:52:40.280470",
     "status": "completed"
    },
    "tags": []
   },
   "outputs": [],
   "source": [
    "#hide\n",
    "#Koreliacijos matrica. "
   ]
  },
  {
   "cell_type": "code",
   "execution_count": 12,
   "id": "modular-magnitude",
   "metadata": {
    "execution": {
     "iopub.execute_input": "2021-08-07T01:52:40.366759Z",
     "iopub.status.busy": "2021-08-07T01:52:40.366119Z",
     "iopub.status.idle": "2021-08-07T01:52:40.401476Z",
     "shell.execute_reply": "2021-08-07T01:52:40.396277Z"
    },
    "papermill": {
     "duration": 0.055698,
     "end_time": "2021-08-07T01:52:40.401637",
     "exception": false,
     "start_time": "2021-08-07T01:52:40.345939",
     "status": "completed"
    },
    "tags": []
   },
   "outputs": [],
   "source": [
    "#hide_input\n",
    "#plt.figure(figsize=(15, 8))\n",
    "#sns.heatmap(df_all_mrk[sum_corr].corr(), annot=True, cmap=\"BrBG\");\n",
    "#plt.savefig('corr_matrix_all.eps', format='eps')"
   ]
  },
  {
   "cell_type": "code",
   "execution_count": null,
   "id": "original-senator",
   "metadata": {
    "papermill": {
     "duration": 0.017976,
     "end_time": "2021-08-07T01:52:40.435423",
     "exception": false,
     "start_time": "2021-08-07T01:52:40.417447",
     "status": "completed"
    },
    "tags": []
   },
   "outputs": [],
   "source": []
  },
  {
   "cell_type": "code",
   "execution_count": null,
   "id": "saving-secretariat",
   "metadata": {
    "papermill": {
     "duration": 0.017926,
     "end_time": "2021-08-07T01:52:40.469533",
     "exception": false,
     "start_time": "2021-08-07T01:52:40.451607",
     "status": "completed"
    },
    "tags": []
   },
   "outputs": [],
   "source": []
  }
 ],
 "metadata": {
  "kernelspec": {
   "display_name": "Python 3",
   "language": "python",
   "name": "python3"
  },
  "language_info": {
   "codemirror_mode": {
    "name": "ipython",
    "version": 3
   },
   "file_extension": ".py",
   "mimetype": "text/x-python",
   "name": "python",
   "nbconvert_exporter": "python",
   "pygments_lexer": "ipython3",
   "version": "3.6.14"
  },
  "papermill": {
   "default_parameters": {},
   "duration": 17.321028,
   "end_time": "2021-08-07T01:52:41.776815",
   "environment_variables": {},
   "exception": null,
   "input_path": "App-Correlation_charts.ipynb",
   "output_path": "App-Correlation_charts.ipynb",
   "parameters": {},
   "start_time": "2021-08-07T01:52:24.455787",
   "version": "2.2.2"
  }
 },
 "nbformat": 4,
 "nbformat_minor": 5
}