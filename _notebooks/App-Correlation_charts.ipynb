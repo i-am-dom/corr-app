{
 "cells": [
  {
   "cell_type": "markdown",
   "id": "touched-facility",
   "metadata": {
    "papermill": {
     "duration": 0.020092,
     "end_time": "2022-04-17T02:34:28.073776",
     "exception": false,
     "start_time": "2022-04-17T02:34:28.053684",
     "status": "completed"
    },
    "tags": []
   },
   "source": [
    "# Koreliacijų matrica\n",
    "> Išplėstinė koreliacijų matrica. \n",
    "\n",
    "- toc: true \n",
    "- badges: true\n",
    "- comments: false\n",
    "- categories: [Dominykas Tautkus]\n",
    "- image: images/matrix.png"
   ]
  },
  {
   "cell_type": "code",
   "execution_count": null,
   "id": "premium-weekend",
   "metadata": {
    "papermill": {
     "duration": 0.011791,
     "end_time": "2022-04-17T02:34:28.099143",
     "exception": false,
     "start_time": "2022-04-17T02:34:28.087352",
     "status": "completed"
    },
    "tags": []
   },
   "outputs": [],
   "source": []
  },
  {
   "cell_type": "code",
   "execution_count": 1,
   "id": "vertical-rebate",
   "metadata": {
    "execution": {
     "iopub.execute_input": "2022-04-17T02:34:28.134329Z",
     "iopub.status.busy": "2022-04-17T02:34:28.133644Z",
     "iopub.status.idle": "2022-04-17T02:34:28.144719Z",
     "shell.execute_reply": "2022-04-17T02:34:28.145316Z"
    },
    "papermill": {
     "duration": 0.034553,
     "end_time": "2022-04-17T02:34:28.145574",
     "exception": false,
     "start_time": "2022-04-17T02:34:28.111021",
     "status": "completed"
    },
    "tags": []
   },
   "outputs": [],
   "source": [
    "#hide\n",
    "%load_ext autoreload\n",
    "%autoreload 2"
   ]
  },
  {
   "cell_type": "code",
   "execution_count": 2,
   "id": "overall-advancement",
   "metadata": {
    "execution": {
     "iopub.execute_input": "2022-04-17T02:34:28.172348Z",
     "iopub.status.busy": "2022-04-17T02:34:28.171803Z",
     "iopub.status.idle": "2022-04-17T02:34:29.645526Z",
     "shell.execute_reply": "2022-04-17T02:34:29.644959Z"
    },
    "papermill": {
     "duration": 1.488825,
     "end_time": "2022-04-17T02:34:29.645679",
     "exception": false,
     "start_time": "2022-04-17T02:34:28.156854",
     "status": "completed"
    },
    "tags": []
   },
   "outputs": [],
   "source": [
    "#hide\n",
    "from scripts.read_data import read_api\n",
    "from IPython.display import HTML\n",
    "import plotly.graph_objects as go\n"
   ]
  },
  {
   "cell_type": "code",
   "execution_count": 3,
   "id": "light-crazy",
   "metadata": {
    "execution": {
     "iopub.execute_input": "2022-04-17T02:34:29.677034Z",
     "iopub.status.busy": "2022-04-17T02:34:29.676413Z",
     "iopub.status.idle": "2022-04-17T02:34:29.699249Z",
     "shell.execute_reply": "2022-04-17T02:34:29.699720Z"
    },
    "papermill": {
     "duration": 0.04118,
     "end_time": "2022-04-17T02:34:29.699853",
     "exception": false,
     "start_time": "2022-04-17T02:34:29.658673",
     "status": "completed"
    },
    "tags": []
   },
   "outputs": [],
   "source": [
    "#hide\n",
    "### ICO koreliacija"
   ]
  },
  {
   "cell_type": "code",
   "execution_count": 4,
   "id": "likely-bahrain",
   "metadata": {
    "execution": {
     "iopub.execute_input": "2022-04-17T02:34:29.743079Z",
     "iopub.status.busy": "2022-04-17T02:34:29.740469Z",
     "iopub.status.idle": "2022-04-17T02:34:30.738622Z",
     "shell.execute_reply": "2022-04-17T02:34:30.738075Z"
    },
    "papermill": {
     "duration": 1.02643,
     "end_time": "2022-04-17T02:34:30.738777",
     "exception": false,
     "start_time": "2022-04-17T02:34:29.712347",
     "status": "completed"
    },
    "tags": []
   },
   "outputs": [],
   "source": [
    "#hide\n",
    "import matplotlib.pyplot as plt\n",
    "import numpy as np\n",
    "import pandas as pd\n",
    "import seaborn as sns\n",
    "import matplotlib.pyplot as plt \n",
    "import matplotlib.dates as mdates\n",
    "import matplotlib.pyplot as plt"
   ]
  },
  {
   "cell_type": "code",
   "execution_count": 5,
   "id": "superior-blanket",
   "metadata": {
    "execution": {
     "iopub.execute_input": "2022-04-17T02:34:30.772640Z",
     "iopub.status.busy": "2022-04-17T02:34:30.771951Z",
     "iopub.status.idle": "2022-04-17T02:34:42.012705Z",
     "shell.execute_reply": "2022-04-17T02:34:42.011547Z"
    },
    "papermill": {
     "duration": 11.260153,
     "end_time": "2022-04-17T02:34:42.012852",
     "exception": false,
     "start_time": "2022-04-17T02:34:30.752699",
     "status": "completed"
    },
    "tags": []
   },
   "outputs": [
    {
     "name": "stderr",
     "output_type": "stream",
     "text": [
      "/home/runner/work/corr-app/corr-app/_notebooks/scripts/read_data.py:187: SettingWithCopyWarning:\n",
      "\n",
      "\n",
      "A value is trying to be set on a copy of a slice from a DataFrame.\n",
      "Try using .loc[row_indexer,col_indexer] = value instead\n",
      "\n",
      "See the caveats in the documentation: https://pandas.pydata.org/pandas-docs/stable/user_guide/indexing.html#returning-a-view-versus-a-copy\n",
      "\n"
     ]
    },
    {
     "name": "stderr",
     "output_type": "stream",
     "text": [
      "/home/runner/work/corr-app/corr-app/_notebooks/scripts/read_data.py:215: SettingWithCopyWarning:\n",
      "\n",
      "\n",
      "A value is trying to be set on a copy of a slice from a DataFrame.\n",
      "Try using .loc[row_indexer,col_indexer] = value instead\n",
      "\n",
      "See the caveats in the documentation: https://pandas.pydata.org/pandas-docs/stable/user_guide/indexing.html#returning-a-view-versus-a-copy\n",
      "\n"
     ]
    }
   ],
   "source": [
    "#hide\n",
    "df_all = read_api()\n",
    "#df_all = df_all.drop(['SP500', 'XAU', 'ETH', 'BTC'], axis=1)\n",
    "\n"
   ]
  },
  {
   "cell_type": "code",
   "execution_count": 6,
   "id": "mature-alert",
   "metadata": {
    "execution": {
     "iopub.execute_input": "2022-04-17T02:34:42.050207Z",
     "iopub.status.busy": "2022-04-17T02:34:42.047545Z",
     "iopub.status.idle": "2022-04-17T02:34:42.089317Z",
     "shell.execute_reply": "2022-04-17T02:34:42.088719Z"
    },
    "papermill": {
     "duration": 0.060718,
     "end_time": "2022-04-17T02:34:42.089521",
     "exception": false,
     "start_time": "2022-04-17T02:34:42.028803",
     "status": "completed"
    },
    "tags": []
   },
   "outputs": [],
   "source": [
    "#hide_input\n",
    "sum_corr = df_all.corr().sum().sort_values(ascending=True).index.values\n",
    "#df_all[sum_corr].corr()"
   ]
  },
  {
   "cell_type": "markdown",
   "id": "complex-syndicate",
   "metadata": {
    "papermill": {
     "duration": 0.015338,
     "end_time": "2022-04-17T02:34:42.118880",
     "exception": false,
     "start_time": "2022-04-17T02:34:42.103542",
     "status": "completed"
    },
    "tags": []
   },
   "source": [
    "## Išplėstinė koreliacijų matrica. "
   ]
  },
  {
   "cell_type": "code",
   "execution_count": 7,
   "id": "atomic-omaha",
   "metadata": {
    "execution": {
     "iopub.execute_input": "2022-04-17T02:34:42.152639Z",
     "iopub.status.busy": "2022-04-17T02:34:42.151951Z",
     "iopub.status.idle": "2022-04-17T02:34:43.840799Z",
     "shell.execute_reply": "2022-04-17T02:34:43.839784Z"
    },
    "papermill": {
     "duration": 1.708969,
     "end_time": "2022-04-17T02:34:43.840981",
     "exception": false,
     "start_time": "2022-04-17T02:34:42.132012",
     "status": "completed"
    },
    "tags": []
   },
   "outputs": [
    {
     "data": {
      "image/png": "[encoded data removed]",
      "text/plain": [
       "<Figure size 1080x792 with 2 Axes>"
      ]
     },
     "metadata": {
      "needs_background": "light"
     },
     "output_type": "display_data"
    }
   ],
   "source": [
    "#hide_input\n",
    "plt.figure(figsize=(15, 11))\n",
    "sns.heatmap(df_all[sum_corr].corr(), annot=True, cmap=\"cubehelix\") \n",
    "sns.set(font_scale=1.25)\n",
    "plt.savefig('corr_matrix.png', format='eps')"
   ]
  },
  {
   "cell_type": "code",
   "execution_count": 8,
   "id": "arbitrary-sullivan",
   "metadata": {
    "execution": {
     "iopub.execute_input": "2022-04-17T02:34:43.886651Z",
     "iopub.status.busy": "2022-04-17T02:34:43.886044Z",
     "iopub.status.idle": "2022-04-17T02:34:43.921446Z",
     "shell.execute_reply": "2022-04-17T02:34:43.920841Z"
    },
    "papermill": {
     "duration": 0.057727,
     "end_time": "2022-04-17T02:34:43.921605",
     "exception": false,
     "start_time": "2022-04-17T02:34:43.863878",
     "status": "completed"
    },
    "tags": []
   },
   "outputs": [],
   "source": [
    "#hide\n",
    "#df_all_mrk = read_api()"
   ]
  },
  {
   "cell_type": "code",
   "execution_count": 9,
   "id": "delayed-adapter",
   "metadata": {
    "execution": {
     "iopub.execute_input": "2022-04-17T02:34:43.958089Z",
     "iopub.status.busy": "2022-04-17T02:34:43.957452Z",
     "iopub.status.idle": "2022-04-17T02:34:43.995916Z",
     "shell.execute_reply": "2022-04-17T02:34:43.995326Z"
    },
    "papermill": {
     "duration": 0.058203,
     "end_time": "2022-04-17T02:34:43.996149",
     "exception": false,
     "start_time": "2022-04-17T02:34:43.937946",
     "status": "completed"
    },
    "tags": []
   },
   "outputs": [],
   "source": [
    "#hide\n",
    "#Koreliacijų koeficientai"
   ]
  },
  {
   "cell_type": "code",
   "execution_count": 10,
   "id": "seeing-celebration",
   "metadata": {
    "execution": {
     "iopub.execute_input": "2022-04-17T02:34:44.042409Z",
     "iopub.status.busy": "2022-04-17T02:34:44.033009Z",
     "iopub.status.idle": "2022-04-17T02:34:44.072222Z",
     "shell.execute_reply": "2022-04-17T02:34:44.071730Z"
    },
    "papermill": {
     "duration": 0.059172,
     "end_time": "2022-04-17T02:34:44.072352",
     "exception": false,
     "start_time": "2022-04-17T02:34:44.013180",
     "status": "completed"
    },
    "tags": []
   },
   "outputs": [],
   "source": [
    "#hide_input\n",
    "#sum_corr = df_all_mrk.corr().sum().sort_values(ascending=True).index.values\n",
    "#df_all_mrk[sum_corr].corr()"
   ]
  },
  {
   "cell_type": "code",
   "execution_count": 11,
   "id": "other-painting",
   "metadata": {
    "execution": {
     "iopub.execute_input": "2022-04-17T02:34:44.126711Z",
     "iopub.status.busy": "2022-04-17T02:34:44.117077Z",
     "iopub.status.idle": "2022-04-17T02:34:44.148745Z",
     "shell.execute_reply": "2022-04-17T02:34:44.149385Z"
    },
    "papermill": {
     "duration": 0.05673,
     "end_time": "2022-04-17T02:34:44.149665",
     "exception": false,
     "start_time": "2022-04-17T02:34:44.092935",
     "status": "completed"
    },
    "tags": []
   },
   "outputs": [],
   "source": [
    "#hide\n",
    "#Koreliacijos matrica. "
   ]
  },
  {
   "cell_type": "code",
   "execution_count": 12,
   "id": "modular-magnitude",
   "metadata": {
    "execution": {
     "iopub.execute_input": "2022-04-17T02:34:44.191538Z",
     "iopub.status.busy": "2022-04-17T02:34:44.190906Z",
     "iopub.status.idle": "2022-04-17T02:34:44.221982Z",
     "shell.execute_reply": "2022-04-17T02:34:44.222438Z"
    },
    "papermill": {
     "duration": 0.054192,
     "end_time": "2022-04-17T02:34:44.222594",
     "exception": false,
     "start_time": "2022-04-17T02:34:44.168402",
     "status": "completed"
    },
    "tags": []
   },
   "outputs": [],
   "source": [
    "#hide_input\n",
    "#plt.figure(figsize=(15, 8))\n",
    "#sns.heatmap(df_all_mrk[sum_corr].corr(), annot=True, cmap=\"BrBG\");\n",
    "#plt.savefig('corr_matrix_all.eps', format='eps')"
   ]
  },
  {
   "cell_type": "code",
   "execution_count": null,
   "id": "original-senator",
   "metadata": {
    "papermill": {
     "duration": 0.014858,
     "end_time": "2022-04-17T02:34:44.252554",
     "exception": false,
     "start_time": "2022-04-17T02:34:44.237696",
     "status": "completed"
    },
    "tags": []
   },
   "outputs": [],
   "source": []
  },
  {
   "cell_type": "code",
   "execution_count": null,
   "id": "saving-secretariat",
   "metadata": {
    "papermill": {
     "duration": 0.014878,
     "end_time": "2022-04-17T02:34:44.282331",
     "exception": false,
     "start_time": "2022-04-17T02:34:44.267453",
     "status": "completed"
    },
    "tags": []
   },
   "outputs": [],
   "source": []
  }
 ],
 "metadata": {
  "kernelspec": {
   "display_name": "Python 3",
   "language": "python",
   "name": "python3"
  },
  "language_info": {
   "codemirror_mode": {
    "name": "ipython",
    "version": 3
   },
   "file_extension": ".py",
   "mimetype": "text/x-python",
   "name": "python",
   "nbconvert_exporter": "python",
   "pygments_lexer": "ipython3",
   "version": "3.6.15"
  },
  "papermill": {
   "default_parameters": {},
   "duration": 18.316206,
   "end_time": "2022-04-17T02:34:45.018499",
   "environment_variables": {},
   "exception": null,
   "input_path": "App-Correlation_charts.ipynb",
   "output_path": "App-Correlation_charts.ipynb",
   "parameters": {},
   "start_time": "2022-04-17T02:34:26.702293",
   "version": "2.2.2"
  }
 },
 "nbformat": 4,
 "nbformat_minor": 5
}