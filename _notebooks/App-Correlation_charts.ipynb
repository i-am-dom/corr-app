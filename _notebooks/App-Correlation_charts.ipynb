{
 "cells": [
  {
   "cell_type": "markdown",
   "id": "touched-facility",
   "metadata": {
    "papermill": {
     "duration": 0.021511,
     "end_time": "2022-09-25T03:39:42.694666",
     "exception": false,
     "start_time": "2022-09-25T03:39:42.673155",
     "status": "completed"
    },
    "tags": []
   },
   "source": [
    "# Koreliacijų matrica\n",
    "> Išplėstinė koreliacijų matrica. \n",
    "\n",
    "- toc: true \n",
    "- badges: true\n",
    "- comments: false\n",
    "- categories: [Dominykas Tautkus]\n",
    "- image: images/matrix.png"
   ]
  },
  {
   "cell_type": "code",
   "execution_count": null,
   "id": "premium-weekend",
   "metadata": {
    "papermill": {
     "duration": 0.012822,
     "end_time": "2022-09-25T03:39:42.721105",
     "exception": false,
     "start_time": "2022-09-25T03:39:42.708283",
     "status": "completed"
    },
    "tags": []
   },
   "outputs": [],
   "source": []
  },
  {
   "cell_type": "code",
   "execution_count": 1,
   "id": "vertical-rebate",
   "metadata": {
    "execution": {
     "iopub.execute_input": "2022-09-25T03:39:42.762417Z",
     "iopub.status.busy": "2022-09-25T03:39:42.761531Z",
     "iopub.status.idle": "2022-09-25T03:39:42.778605Z",
     "shell.execute_reply": "2022-09-25T03:39:42.777376Z"
    },
    "papermill": {
     "duration": 0.044761,
     "end_time": "2022-09-25T03:39:42.778777",
     "exception": false,
     "start_time": "2022-09-25T03:39:42.734016",
     "status": "completed"
    },
    "tags": []
   },
   "outputs": [],
   "source": [
    "#hide\n",
    "%load_ext autoreload\n",
    "%autoreload 2"
   ]
  },
  {
   "cell_type": "code",
   "execution_count": 2,
   "id": "overall-advancement",
   "metadata": {
    "execution": {
     "iopub.execute_input": "2022-09-25T03:39:42.808420Z",
     "iopub.status.busy": "2022-09-25T03:39:42.807590Z",
     "iopub.status.idle": "2022-09-25T03:39:44.225453Z",
     "shell.execute_reply": "2022-09-25T03:39:44.224466Z"
    },
    "papermill": {
     "duration": 1.43436,
     "end_time": "2022-09-25T03:39:44.225595",
     "exception": false,
     "start_time": "2022-09-25T03:39:42.791235",
     "status": "completed"
    },
    "tags": []
   },
   "outputs": [],
   "source": [
    "#hide\n",
    "from scripts.read_data import read_api\n",
    "from IPython.display import HTML\n",
    "import plotly.graph_objects as go\n"
   ]
  },
  {
   "cell_type": "code",
   "execution_count": 3,
   "id": "light-crazy",
   "metadata": {
    "execution": {
     "iopub.execute_input": "2022-09-25T03:39:44.259513Z",
     "iopub.status.busy": "2022-09-25T03:39:44.256904Z",
     "iopub.status.idle": "2022-09-25T03:39:44.285150Z",
     "shell.execute_reply": "2022-09-25T03:39:44.284307Z"
    },
    "papermill": {
     "duration": 0.046328,
     "end_time": "2022-09-25T03:39:44.285304",
     "exception": false,
     "start_time": "2022-09-25T03:39:44.238976",
     "status": "completed"
    },
    "tags": []
   },
   "outputs": [],
   "source": [
    "#hide\n",
    "### ICO koreliacija"
   ]
  },
  {
   "cell_type": "code",
   "execution_count": 4,
   "id": "likely-bahrain",
   "metadata": {
    "execution": {
     "iopub.execute_input": "2022-09-25T03:39:44.316983Z",
     "iopub.status.busy": "2022-09-25T03:39:44.316261Z",
     "iopub.status.idle": "2022-09-25T03:39:45.343536Z",
     "shell.execute_reply": "2022-09-25T03:39:45.342283Z"
    },
    "papermill": {
     "duration": 1.045314,
     "end_time": "2022-09-25T03:39:45.343706",
     "exception": false,
     "start_time": "2022-09-25T03:39:44.298392",
     "status": "completed"
    },
    "tags": []
   },
   "outputs": [],
   "source": [
    "#hide\n",
    "import matplotlib.pyplot as plt\n",
    "import numpy as np\n",
    "import pandas as pd\n",
    "import seaborn as sns\n",
    "import matplotlib.pyplot as plt \n",
    "import matplotlib.dates as mdates\n",
    "import matplotlib.pyplot as plt"
   ]
  },
  {
   "cell_type": "code",
   "execution_count": 5,
   "id": "superior-blanket",
   "metadata": {
    "execution": {
     "iopub.execute_input": "2022-09-25T03:39:45.375229Z",
     "iopub.status.busy": "2022-09-25T03:39:45.374386Z",
     "iopub.status.idle": "2022-09-25T03:39:57.097972Z",
     "shell.execute_reply": "2022-09-25T03:39:57.096778Z"
    },
    "papermill": {
     "duration": 11.741696,
     "end_time": "2022-09-25T03:39:57.098130",
     "exception": false,
     "start_time": "2022-09-25T03:39:45.356434",
     "status": "completed"
    },
    "tags": []
   },
   "outputs": [
    {
     "name": "stderr",
     "output_type": "stream",
     "text": [
      "/home/runner/work/corr-app/corr-app/_notebooks/scripts/read_data.py:187: SettingWithCopyWarning:\n",
      "\n",
      "\n",
      "A value is trying to be set on a copy of a slice from a DataFrame.\n",
      "Try using .loc[row_indexer,col_indexer] = value instead\n",
      "\n",
      "See the caveats in the documentation: https://pandas.pydata.org/pandas-docs/stable/user_guide/indexing.html#returning-a-view-versus-a-copy\n",
      "\n"
     ]
    },
    {
     "name": "stderr",
     "output_type": "stream",
     "text": [
      "/home/runner/work/corr-app/corr-app/_notebooks/scripts/read_data.py:215: SettingWithCopyWarning:\n",
      "\n",
      "\n",
      "A value is trying to be set on a copy of a slice from a DataFrame.\n",
      "Try using .loc[row_indexer,col_indexer] = value instead\n",
      "\n",
      "See the caveats in the documentation: https://pandas.pydata.org/pandas-docs/stable/user_guide/indexing.html#returning-a-view-versus-a-copy\n",
      "\n"
     ]
    }
   ],
   "source": [
    "#hide\n",
    "df_all = read_api()\n",
    "#df_all = df_all.drop(['SP500', 'XAU', 'ETH', 'BTC'], axis=1)\n",
    "\n"
   ]
  },
  {
   "cell_type": "code",
   "execution_count": 6,
   "id": "mature-alert",
   "metadata": {
    "execution": {
     "iopub.execute_input": "2022-09-25T03:39:57.133384Z",
     "iopub.status.busy": "2022-09-25T03:39:57.130968Z",
     "iopub.status.idle": "2022-09-25T03:39:57.167256Z",
     "shell.execute_reply": "2022-09-25T03:39:57.167816Z"
    },
    "papermill": {
     "duration": 0.054876,
     "end_time": "2022-09-25T03:39:57.167988",
     "exception": false,
     "start_time": "2022-09-25T03:39:57.113112",
     "status": "completed"
    },
    "tags": []
   },
   "outputs": [],
   "source": [
    "#hide_input\n",
    "sum_corr = df_all.corr().sum().sort_values(ascending=True).index.values\n",
    "#df_all[sum_corr].corr()"
   ]
  },
  {
   "cell_type": "markdown",
   "id": "complex-syndicate",
   "metadata": {
    "papermill": {
     "duration": 0.014086,
     "end_time": "2022-09-25T03:39:57.197426",
     "exception": false,
     "start_time": "2022-09-25T03:39:57.183340",
     "status": "completed"
    },
    "tags": []
   },
   "source": [
    "## Išplėstinė koreliacijų matrica. "
   ]
  },
  {
   "cell_type": "code",
   "execution_count": 7,
   "id": "atomic-omaha",
   "metadata": {
    "execution": {
     "iopub.execute_input": "2022-09-25T03:39:57.230461Z",
     "iopub.status.busy": "2022-09-25T03:39:57.229748Z",
     "iopub.status.idle": "2022-09-25T03:39:58.650761Z",
     "shell.execute_reply": "2022-09-25T03:39:58.651303Z"
    },
    "papermill": {
     "duration": 1.440521,
     "end_time": "2022-09-25T03:39:58.651464",
     "exception": false,
     "start_time": "2022-09-25T03:39:57.210943",
     "status": "completed"
    },
    "tags": []
   },
   "outputs": [
    {
     "data": {
      "image/png": "[encoded data removed]",
      "text/plain": [
       "<Figure size 1080x792 with 2 Axes>"
      ]
     },
     "metadata": {
      "needs_background": "light"
     },
     "output_type": "display_data"
    }
   ],
   "source": [
    "#hide_input\n",
    "plt.figure(figsize=(15, 11))\n",
    "sns.heatmap(df_all[sum_corr].corr(), annot=True, cmap=\"cubehelix\") \n",
    "sns.set(font_scale=1.25)\n",
    "plt.savefig('corr_matrix.png', format='eps')"
   ]
  },
  {
   "cell_type": "code",
   "execution_count": 8,
   "id": "arbitrary-sullivan",
   "metadata": {
    "execution": {
     "iopub.execute_input": "2022-09-25T03:39:58.687950Z",
     "iopub.status.busy": "2022-09-25T03:39:58.687243Z",
     "iopub.status.idle": "2022-09-25T03:39:58.719881Z",
     "shell.execute_reply": "2022-09-25T03:39:58.719262Z"
    },
    "papermill": {
     "duration": 0.052507,
     "end_time": "2022-09-25T03:39:58.720021",
     "exception": false,
     "start_time": "2022-09-25T03:39:58.667514",
     "status": "completed"
    },
    "tags": []
   },
   "outputs": [],
   "source": [
    "#hide\n",
    "#df_all_mrk = read_api()"
   ]
  },
  {
   "cell_type": "code",
   "execution_count": 9,
   "id": "delayed-adapter",
   "metadata": {
    "execution": {
     "iopub.execute_input": "2022-09-25T03:39:58.757927Z",
     "iopub.status.busy": "2022-09-25T03:39:58.757215Z",
     "iopub.status.idle": "2022-09-25T03:39:58.791370Z",
     "shell.execute_reply": "2022-09-25T03:39:58.790670Z"
    },
    "papermill": {
     "duration": 0.055622,
     "end_time": "2022-09-25T03:39:58.791543",
     "exception": false,
     "start_time": "2022-09-25T03:39:58.735921",
     "status": "completed"
    },
    "tags": []
   },
   "outputs": [],
   "source": [
    "#hide\n",
    "#Koreliacijų koeficientai"
   ]
  },
  {
   "cell_type": "code",
   "execution_count": 10,
   "id": "seeing-celebration",
   "metadata": {
    "execution": {
     "iopub.execute_input": "2022-09-25T03:39:58.829853Z",
     "iopub.status.busy": "2022-09-25T03:39:58.829156Z",
     "iopub.status.idle": "2022-09-25T03:39:58.862761Z",
     "shell.execute_reply": "2022-09-25T03:39:58.862036Z"
    },
    "papermill": {
     "duration": 0.055347,
     "end_time": "2022-09-25T03:39:58.862898",
     "exception": false,
     "start_time": "2022-09-25T03:39:58.807551",
     "status": "completed"
    },
    "tags": []
   },
   "outputs": [],
   "source": [
    "#hide_input\n",
    "#sum_corr = df_all_mrk.corr().sum().sort_values(ascending=True).index.values\n",
    "#df_all_mrk[sum_corr].corr()"
   ]
  },
  {
   "cell_type": "code",
   "execution_count": 11,
   "id": "other-painting",
   "metadata": {
    "execution": {
     "iopub.execute_input": "2022-09-25T03:39:58.905377Z",
     "iopub.status.busy": "2022-09-25T03:39:58.904658Z",
     "iopub.status.idle": "2022-09-25T03:39:58.935449Z",
     "shell.execute_reply": "2022-09-25T03:39:58.934850Z"
    },
    "papermill": {
     "duration": 0.056888,
     "end_time": "2022-09-25T03:39:58.935584",
     "exception": false,
     "start_time": "2022-09-25T03:39:58.878696",
     "status": "completed"
    },
    "tags": []
   },
   "outputs": [],
   "source": [
    "#hide\n",
    "#Koreliacijos matrica. "
   ]
  },
  {
   "cell_type": "code",
   "execution_count": 12,
   "id": "modular-magnitude",
   "metadata": {
    "execution": {
     "iopub.execute_input": "2022-09-25T03:39:58.972512Z",
     "iopub.status.busy": "2022-09-25T03:39:58.971773Z",
     "iopub.status.idle": "2022-09-25T03:39:59.003866Z",
     "shell.execute_reply": "2022-09-25T03:39:59.003159Z"
    },
    "papermill": {
     "duration": 0.052291,
     "end_time": "2022-09-25T03:39:59.004021",
     "exception": false,
     "start_time": "2022-09-25T03:39:58.951730",
     "status": "completed"
    },
    "tags": []
   },
   "outputs": [],
   "source": [
    "#hide_input\n",
    "#plt.figure(figsize=(15, 8))\n",
    "#sns.heatmap(df_all_mrk[sum_corr].corr(), annot=True, cmap=\"BrBG\");\n",
    "#plt.savefig('corr_matrix_all.eps', format='eps')"
   ]
  },
  {
   "cell_type": "code",
   "execution_count": null,
   "id": "original-senator",
   "metadata": {
    "papermill": {
     "duration": 0.015774,
     "end_time": "2022-09-25T03:39:59.040498",
     "exception": false,
     "start_time": "2022-09-25T03:39:59.024724",
     "status": "completed"
    },
    "tags": []
   },
   "outputs": [],
   "source": []
  },
  {
   "cell_type": "code",
   "execution_count": null,
   "id": "saving-secretariat",
   "metadata": {
    "papermill": {
     "duration": 0.015605,
     "end_time": "2022-09-25T03:39:59.071864",
     "exception": false,
     "start_time": "2022-09-25T03:39:59.056259",
     "status": "completed"
    },
    "tags": []
   },
   "outputs": [],
   "source": []
  }
 ],
 "metadata": {
  "kernelspec": {
   "display_name": "Python 3",
   "language": "python",
   "name": "python3"
  },
  "language_info": {
   "codemirror_mode": {
    "name": "ipython",
    "version": 3
   },
   "file_extension": ".py",
   "mimetype": "text/x-python",
   "name": "python",
   "nbconvert_exporter": "python",
   "pygments_lexer": "ipython3",
   "version": "3.6.15"
  },
  "papermill": {
   "default_parameters": {},
   "duration": 18.344254,
   "end_time": "2022-09-25T03:39:59.709666",
   "environment_variables": {},
   "exception": null,
   "input_path": "App-Correlation_charts.ipynb",
   "output_path": "App-Correlation_charts.ipynb",
   "parameters": {},
   "start_time": "2022-09-25T03:39:41.365412",
   "version": "2.2.2"
  }
 },
 "nbformat": 4,
 "nbformat_minor": 5
}