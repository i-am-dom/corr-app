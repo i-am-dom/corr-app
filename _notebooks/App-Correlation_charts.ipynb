{
 "cells": [
  {
   "cell_type": "markdown",
   "id": "touched-facility",
   "metadata": {
    "papermill": {
     "duration": 0.014895,
     "end_time": "2022-08-06T02:57:32.237536",
     "exception": false,
     "start_time": "2022-08-06T02:57:32.222641",
     "status": "completed"
    },
    "tags": []
   },
   "source": [
    "# Koreliacijų matrica\n",
    "> Išplėstinė koreliacijų matrica. \n",
    "\n",
    "- toc: true \n",
    "- badges: true\n",
    "- comments: false\n",
    "- categories: [Dominykas Tautkus]\n",
    "- image: images/matrix.png"
   ]
  },
  {
   "cell_type": "code",
   "execution_count": null,
   "id": "premium-weekend",
   "metadata": {
    "papermill": {
     "duration": 0.010543,
     "end_time": "2022-08-06T02:57:32.259271",
     "exception": false,
     "start_time": "2022-08-06T02:57:32.248728",
     "status": "completed"
    },
    "tags": []
   },
   "outputs": [],
   "source": []
  },
  {
   "cell_type": "code",
   "execution_count": 1,
   "id": "vertical-rebate",
   "metadata": {
    "execution": {
     "iopub.execute_input": "2022-08-06T02:57:32.290776Z",
     "iopub.status.busy": "2022-08-06T02:57:32.290147Z",
     "iopub.status.idle": "2022-08-06T02:57:32.301338Z",
     "shell.execute_reply": "2022-08-06T02:57:32.300817Z"
    },
    "papermill": {
     "duration": 0.031762,
     "end_time": "2022-08-06T02:57:32.301473",
     "exception": false,
     "start_time": "2022-08-06T02:57:32.269711",
     "status": "completed"
    },
    "tags": []
   },
   "outputs": [],
   "source": [
    "#hide\n",
    "%load_ext autoreload\n",
    "%autoreload 2"
   ]
  },
  {
   "cell_type": "code",
   "execution_count": 2,
   "id": "overall-advancement",
   "metadata": {
    "execution": {
     "iopub.execute_input": "2022-08-06T02:57:32.326560Z",
     "iopub.status.busy": "2022-08-06T02:57:32.325972Z",
     "iopub.status.idle": "2022-08-06T02:57:33.533026Z",
     "shell.execute_reply": "2022-08-06T02:57:33.532000Z"
    },
    "papermill": {
     "duration": 1.221116,
     "end_time": "2022-08-06T02:57:33.533169",
     "exception": false,
     "start_time": "2022-08-06T02:57:32.312053",
     "status": "completed"
    },
    "tags": []
   },
   "outputs": [],
   "source": [
    "#hide\n",
    "from scripts.read_data import read_api\n",
    "from IPython.display import HTML\n",
    "import plotly.graph_objects as go\n"
   ]
  },
  {
   "cell_type": "code",
   "execution_count": 3,
   "id": "light-crazy",
   "metadata": {
    "execution": {
     "iopub.execute_input": "2022-08-06T02:57:33.562836Z",
     "iopub.status.busy": "2022-08-06T02:57:33.559011Z",
     "iopub.status.idle": "2022-08-06T02:57:33.583459Z",
     "shell.execute_reply": "2022-08-06T02:57:33.582583Z"
    },
    "papermill": {
     "duration": 0.039641,
     "end_time": "2022-08-06T02:57:33.583588",
     "exception": false,
     "start_time": "2022-08-06T02:57:33.543947",
     "status": "completed"
    },
    "tags": []
   },
   "outputs": [],
   "source": [
    "#hide\n",
    "### ICO koreliacija"
   ]
  },
  {
   "cell_type": "code",
   "execution_count": 4,
   "id": "likely-bahrain",
   "metadata": {
    "execution": {
     "iopub.execute_input": "2022-08-06T02:57:33.609009Z",
     "iopub.status.busy": "2022-08-06T02:57:33.608286Z",
     "iopub.status.idle": "2022-08-06T02:57:34.489029Z",
     "shell.execute_reply": "2022-08-06T02:57:34.488519Z"
    },
    "papermill": {
     "duration": 0.895042,
     "end_time": "2022-08-06T02:57:34.489157",
     "exception": false,
     "start_time": "2022-08-06T02:57:33.594115",
     "status": "completed"
    },
    "tags": []
   },
   "outputs": [],
   "source": [
    "#hide\n",
    "import matplotlib.pyplot as plt\n",
    "import numpy as np\n",
    "import pandas as pd\n",
    "import seaborn as sns\n",
    "import matplotlib.pyplot as plt \n",
    "import matplotlib.dates as mdates\n",
    "import matplotlib.pyplot as plt"
   ]
  },
  {
   "cell_type": "code",
   "execution_count": 5,
   "id": "superior-blanket",
   "metadata": {
    "execution": {
     "iopub.execute_input": "2022-08-06T02:57:34.524138Z",
     "iopub.status.busy": "2022-08-06T02:57:34.514938Z",
     "iopub.status.idle": "2022-08-06T02:57:44.178220Z",
     "shell.execute_reply": "2022-08-06T02:57:44.177374Z"
    },
    "papermill": {
     "duration": 9.678378,
     "end_time": "2022-08-06T02:57:44.178347",
     "exception": false,
     "start_time": "2022-08-06T02:57:34.499969",
     "status": "completed"
    },
    "tags": []
   },
   "outputs": [
    {
     "name": "stderr",
     "output_type": "stream",
     "text": [
      "/home/runner/work/corr-app/corr-app/_notebooks/scripts/read_data.py:187: SettingWithCopyWarning:\n",
      "\n",
      "\n",
      "A value is trying to be set on a copy of a slice from a DataFrame.\n",
      "Try using .loc[row_indexer,col_indexer] = value instead\n",
      "\n",
      "See the caveats in the documentation: https://pandas.pydata.org/pandas-docs/stable/user_guide/indexing.html#returning-a-view-versus-a-copy\n",
      "\n"
     ]
    },
    {
     "name": "stderr",
     "output_type": "stream",
     "text": [
      "/home/runner/work/corr-app/corr-app/_notebooks/scripts/read_data.py:215: SettingWithCopyWarning:\n",
      "\n",
      "\n",
      "A value is trying to be set on a copy of a slice from a DataFrame.\n",
      "Try using .loc[row_indexer,col_indexer] = value instead\n",
      "\n",
      "See the caveats in the documentation: https://pandas.pydata.org/pandas-docs/stable/user_guide/indexing.html#returning-a-view-versus-a-copy\n",
      "\n"
     ]
    }
   ],
   "source": [
    "#hide\n",
    "df_all = read_api()\n",
    "#df_all = df_all.drop(['SP500', 'XAU', 'ETH', 'BTC'], axis=1)\n",
    "\n"
   ]
  },
  {
   "cell_type": "code",
   "execution_count": 6,
   "id": "mature-alert",
   "metadata": {
    "execution": {
     "iopub.execute_input": "2022-08-06T02:57:44.207457Z",
     "iopub.status.busy": "2022-08-06T02:57:44.206540Z",
     "iopub.status.idle": "2022-08-06T02:57:44.237862Z",
     "shell.execute_reply": "2022-08-06T02:57:44.237213Z"
    },
    "papermill": {
     "duration": 0.047169,
     "end_time": "2022-08-06T02:57:44.237997",
     "exception": false,
     "start_time": "2022-08-06T02:57:44.190828",
     "status": "completed"
    },
    "tags": []
   },
   "outputs": [],
   "source": [
    "#hide_input\n",
    "sum_corr = df_all.corr().sum().sort_values(ascending=True).index.values\n",
    "#df_all[sum_corr].corr()"
   ]
  },
  {
   "cell_type": "markdown",
   "id": "complex-syndicate",
   "metadata": {
    "papermill": {
     "duration": 0.011108,
     "end_time": "2022-08-06T02:57:44.260894",
     "exception": false,
     "start_time": "2022-08-06T02:57:44.249786",
     "status": "completed"
    },
    "tags": []
   },
   "source": [
    "## Išplėstinė koreliacijų matrica. "
   ]
  },
  {
   "cell_type": "code",
   "execution_count": 7,
   "id": "atomic-omaha",
   "metadata": {
    "execution": {
     "iopub.execute_input": "2022-08-06T02:57:44.300041Z",
     "iopub.status.busy": "2022-08-06T02:57:44.292082Z",
     "iopub.status.idle": "2022-08-06T02:57:45.511552Z",
     "shell.execute_reply": "2022-08-06T02:57:45.512015Z"
    },
    "papermill": {
     "duration": 1.240276,
     "end_time": "2022-08-06T02:57:45.512154",
     "exception": false,
     "start_time": "2022-08-06T02:57:44.271878",
     "status": "completed"
    },
    "tags": []
   },
   "outputs": [
    {
     "data": {
      "image/png": "[encoded data removed]",
      "text/plain": [
       "<Figure size 1080x792 with 2 Axes>"
      ]
     },
     "metadata": {
      "needs_background": "light"
     },
     "output_type": "display_data"
    }
   ],
   "source": [
    "#hide_input\n",
    "plt.figure(figsize=(15, 11))\n",
    "sns.heatmap(df_all[sum_corr].corr(), annot=True, cmap=\"cubehelix\") \n",
    "sns.set(font_scale=1.25)\n",
    "plt.savefig('corr_matrix.png', format='eps')"
   ]
  },
  {
   "cell_type": "code",
   "execution_count": 8,
   "id": "arbitrary-sullivan",
   "metadata": {
    "execution": {
     "iopub.execute_input": "2022-08-06T02:57:45.548156Z",
     "iopub.status.busy": "2022-08-06T02:57:45.543699Z",
     "iopub.status.idle": "2022-08-06T02:57:45.572697Z",
     "shell.execute_reply": "2022-08-06T02:57:45.572022Z"
    },
    "papermill": {
     "duration": 0.047305,
     "end_time": "2022-08-06T02:57:45.572825",
     "exception": false,
     "start_time": "2022-08-06T02:57:45.525520",
     "status": "completed"
    },
    "tags": []
   },
   "outputs": [],
   "source": [
    "#hide\n",
    "#df_all_mrk = read_api()"
   ]
  },
  {
   "cell_type": "code",
   "execution_count": 9,
   "id": "delayed-adapter",
   "metadata": {
    "execution": {
     "iopub.execute_input": "2022-08-06T02:57:45.602871Z",
     "iopub.status.busy": "2022-08-06T02:57:45.602288Z",
     "iopub.status.idle": "2022-08-06T02:57:45.629613Z",
     "shell.execute_reply": "2022-08-06T02:57:45.629028Z"
    },
    "papermill": {
     "duration": 0.043133,
     "end_time": "2022-08-06T02:57:45.629724",
     "exception": false,
     "start_time": "2022-08-06T02:57:45.586591",
     "status": "completed"
    },
    "tags": []
   },
   "outputs": [],
   "source": [
    "#hide\n",
    "#Koreliacijų koeficientai"
   ]
  },
  {
   "cell_type": "code",
   "execution_count": 10,
   "id": "seeing-celebration",
   "metadata": {
    "execution": {
     "iopub.execute_input": "2022-08-06T02:57:45.660810Z",
     "iopub.status.busy": "2022-08-06T02:57:45.660228Z",
     "iopub.status.idle": "2022-08-06T02:57:45.686156Z",
     "shell.execute_reply": "2022-08-06T02:57:45.685614Z"
    },
    "papermill": {
     "duration": 0.043416,
     "end_time": "2022-08-06T02:57:45.686282",
     "exception": false,
     "start_time": "2022-08-06T02:57:45.642866",
     "status": "completed"
    },
    "tags": []
   },
   "outputs": [],
   "source": [
    "#hide_input\n",
    "#sum_corr = df_all_mrk.corr().sum().sort_values(ascending=True).index.values\n",
    "#df_all_mrk[sum_corr].corr()"
   ]
  },
  {
   "cell_type": "code",
   "execution_count": 11,
   "id": "other-painting",
   "metadata": {
    "execution": {
     "iopub.execute_input": "2022-08-06T02:57:45.716591Z",
     "iopub.status.busy": "2022-08-06T02:57:45.716012Z",
     "iopub.status.idle": "2022-08-06T02:57:45.743295Z",
     "shell.execute_reply": "2022-08-06T02:57:45.742605Z"
    },
    "papermill": {
     "duration": 0.043543,
     "end_time": "2022-08-06T02:57:45.743425",
     "exception": false,
     "start_time": "2022-08-06T02:57:45.699882",
     "status": "completed"
    },
    "tags": []
   },
   "outputs": [],
   "source": [
    "#hide\n",
    "#Koreliacijos matrica. "
   ]
  },
  {
   "cell_type": "code",
   "execution_count": 12,
   "id": "modular-magnitude",
   "metadata": {
    "execution": {
     "iopub.execute_input": "2022-08-06T02:57:45.774426Z",
     "iopub.status.busy": "2022-08-06T02:57:45.773833Z",
     "iopub.status.idle": "2022-08-06T02:57:45.801818Z",
     "shell.execute_reply": "2022-08-06T02:57:45.802289Z"
    },
    "papermill": {
     "duration": 0.044784,
     "end_time": "2022-08-06T02:57:45.802425",
     "exception": false,
     "start_time": "2022-08-06T02:57:45.757641",
     "status": "completed"
    },
    "tags": []
   },
   "outputs": [],
   "source": [
    "#hide_input\n",
    "#plt.figure(figsize=(15, 8))\n",
    "#sns.heatmap(df_all_mrk[sum_corr].corr(), annot=True, cmap=\"BrBG\");\n",
    "#plt.savefig('corr_matrix_all.eps', format='eps')"
   ]
  },
  {
   "cell_type": "code",
   "execution_count": null,
   "id": "original-senator",
   "metadata": {
    "papermill": {
     "duration": 0.014743,
     "end_time": "2022-08-06T02:57:45.830222",
     "exception": false,
     "start_time": "2022-08-06T02:57:45.815479",
     "status": "completed"
    },
    "tags": []
   },
   "outputs": [],
   "source": []
  },
  {
   "cell_type": "code",
   "execution_count": null,
   "id": "saving-secretariat",
   "metadata": {
    "papermill": {
     "duration": 0.012916,
     "end_time": "2022-08-06T02:57:45.856802",
     "exception": false,
     "start_time": "2022-08-06T02:57:45.843886",
     "status": "completed"
    },
    "tags": []
   },
   "outputs": [],
   "source": []
  }
 ],
 "metadata": {
  "kernelspec": {
   "display_name": "Python 3",
   "language": "python",
   "name": "python3"
  },
  "language_info": {
   "codemirror_mode": {
    "name": "ipython",
    "version": 3
   },
   "file_extension": ".py",
   "mimetype": "text/x-python",
   "name": "python",
   "nbconvert_exporter": "python",
   "pygments_lexer": "ipython3",
   "version": "3.6.15"
  },
  "papermill": {
   "default_parameters": {},
   "duration": 15.099945,
   "end_time": "2022-08-06T02:57:46.389223",
   "environment_variables": {},
   "exception": null,
   "input_path": "App-Correlation_charts.ipynb",
   "output_path": "App-Correlation_charts.ipynb",
   "parameters": {},
   "start_time": "2022-08-06T02:57:31.289278",
   "version": "2.2.2"
  }
 },
 "nbformat": 4,
 "nbformat_minor": 5
}