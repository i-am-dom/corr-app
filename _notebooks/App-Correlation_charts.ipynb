{
 "cells": [
  {
   "cell_type": "markdown",
   "id": "touched-facility",
   "metadata": {
    "papermill": {
     "duration": 0.017614,
     "end_time": "2022-01-09T02:10:11.826213",
     "exception": false,
     "start_time": "2022-01-09T02:10:11.808599",
     "status": "completed"
    },
    "tags": []
   },
   "source": [
    "# Koreliacijų matrica\n",
    "> Išplėstinė koreliacijų matrica. \n",
    "\n",
    "- toc: true \n",
    "- badges: true\n",
    "- comments: false\n",
    "- categories: [Dominykas Tautkus]\n",
    "- image: images/matrix.png"
   ]
  },
  {
   "cell_type": "code",
   "execution_count": null,
   "id": "premium-weekend",
   "metadata": {
    "papermill": {
     "duration": 0.014242,
     "end_time": "2022-01-09T02:10:11.856158",
     "exception": false,
     "start_time": "2022-01-09T02:10:11.841916",
     "status": "completed"
    },
    "tags": []
   },
   "outputs": [],
   "source": []
  },
  {
   "cell_type": "code",
   "execution_count": 1,
   "id": "vertical-rebate",
   "metadata": {
    "execution": {
     "iopub.execute_input": "2022-01-09T02:10:11.899091Z",
     "iopub.status.busy": "2022-01-09T02:10:11.898450Z",
     "iopub.status.idle": "2022-01-09T02:10:11.909871Z",
     "shell.execute_reply": "2022-01-09T02:10:11.910430Z"
    },
    "papermill": {
     "duration": 0.04002,
     "end_time": "2022-01-09T02:10:11.910590",
     "exception": false,
     "start_time": "2022-01-09T02:10:11.870570",
     "status": "completed"
    },
    "tags": []
   },
   "outputs": [],
   "source": [
    "#hide\n",
    "%load_ext autoreload\n",
    "%autoreload 2"
   ]
  },
  {
   "cell_type": "code",
   "execution_count": 2,
   "id": "overall-advancement",
   "metadata": {
    "execution": {
     "iopub.execute_input": "2022-01-09T02:10:11.944132Z",
     "iopub.status.busy": "2022-01-09T02:10:11.943497Z",
     "iopub.status.idle": "2022-01-09T02:10:13.408392Z",
     "shell.execute_reply": "2022-01-09T02:10:13.407829Z"
    },
    "papermill": {
     "duration": 1.48439,
     "end_time": "2022-01-09T02:10:13.408590",
     "exception": false,
     "start_time": "2022-01-09T02:10:11.924200",
     "status": "completed"
    },
    "tags": []
   },
   "outputs": [],
   "source": [
    "#hide\n",
    "from scripts.read_data import read_api\n",
    "from IPython.display import HTML\n",
    "import plotly.graph_objects as go\n"
   ]
  },
  {
   "cell_type": "code",
   "execution_count": 3,
   "id": "light-crazy",
   "metadata": {
    "execution": {
     "iopub.execute_input": "2022-01-09T02:10:13.440778Z",
     "iopub.status.busy": "2022-01-09T02:10:13.440092Z",
     "iopub.status.idle": "2022-01-09T02:10:13.467512Z",
     "shell.execute_reply": "2022-01-09T02:10:13.466974Z"
    },
    "papermill": {
     "duration": 0.045137,
     "end_time": "2022-01-09T02:10:13.467636",
     "exception": false,
     "start_time": "2022-01-09T02:10:13.422499",
     "status": "completed"
    },
    "tags": []
   },
   "outputs": [],
   "source": [
    "#hide\n",
    "### ICO koreliacija"
   ]
  },
  {
   "cell_type": "code",
   "execution_count": 4,
   "id": "likely-bahrain",
   "metadata": {
    "execution": {
     "iopub.execute_input": "2022-01-09T02:10:13.500691Z",
     "iopub.status.busy": "2022-01-09T02:10:13.500091Z",
     "iopub.status.idle": "2022-01-09T02:10:14.595404Z",
     "shell.execute_reply": "2022-01-09T02:10:14.594852Z"
    },
    "papermill": {
     "duration": 1.114015,
     "end_time": "2022-01-09T02:10:14.595564",
     "exception": false,
     "start_time": "2022-01-09T02:10:13.481549",
     "status": "completed"
    },
    "tags": []
   },
   "outputs": [],
   "source": [
    "#hide\n",
    "import matplotlib.pyplot as plt\n",
    "import numpy as np\n",
    "import pandas as pd\n",
    "import seaborn as sns\n",
    "import matplotlib.pyplot as plt \n",
    "import matplotlib.dates as mdates\n",
    "import matplotlib.pyplot as plt"
   ]
  },
  {
   "cell_type": "code",
   "execution_count": 5,
   "id": "superior-blanket",
   "metadata": {
    "execution": {
     "iopub.execute_input": "2022-01-09T02:10:14.632099Z",
     "iopub.status.busy": "2022-01-09T02:10:14.631437Z",
     "iopub.status.idle": "2022-01-09T02:10:25.811802Z",
     "shell.execute_reply": "2022-01-09T02:10:25.812309Z"
    },
    "papermill": {
     "duration": 11.20121,
     "end_time": "2022-01-09T02:10:25.812474",
     "exception": false,
     "start_time": "2022-01-09T02:10:14.611264",
     "status": "completed"
    },
    "tags": []
   },
   "outputs": [
    {
     "name": "stderr",
     "output_type": "stream",
     "text": [
      "/home/runner/work/corr-app/corr-app/_notebooks/scripts/read_data.py:187: SettingWithCopyWarning:\n",
      "\n",
      "\n",
      "A value is trying to be set on a copy of a slice from a DataFrame.\n",
      "Try using .loc[row_indexer,col_indexer] = value instead\n",
      "\n",
      "See the caveats in the documentation: https://pandas.pydata.org/pandas-docs/stable/user_guide/indexing.html#returning-a-view-versus-a-copy\n",
      "\n"
     ]
    },
    {
     "name": "stderr",
     "output_type": "stream",
     "text": [
      "/home/runner/work/corr-app/corr-app/_notebooks/scripts/read_data.py:215: SettingWithCopyWarning:\n",
      "\n",
      "\n",
      "A value is trying to be set on a copy of a slice from a DataFrame.\n",
      "Try using .loc[row_indexer,col_indexer] = value instead\n",
      "\n",
      "See the caveats in the documentation: https://pandas.pydata.org/pandas-docs/stable/user_guide/indexing.html#returning-a-view-versus-a-copy\n",
      "\n"
     ]
    }
   ],
   "source": [
    "#hide\n",
    "df_all = read_api()\n",
    "#df_all = df_all.drop(['SP500', 'XAU', 'ETH', 'BTC'], axis=1)\n",
    "\n"
   ]
  },
  {
   "cell_type": "code",
   "execution_count": 6,
   "id": "mature-alert",
   "metadata": {
    "execution": {
     "iopub.execute_input": "2022-01-09T02:10:25.853487Z",
     "iopub.status.busy": "2022-01-09T02:10:25.852665Z",
     "iopub.status.idle": "2022-01-09T02:10:25.887509Z",
     "shell.execute_reply": "2022-01-09T02:10:25.886890Z"
    },
    "papermill": {
     "duration": 0.06139,
     "end_time": "2022-01-09T02:10:25.887650",
     "exception": false,
     "start_time": "2022-01-09T02:10:25.826260",
     "status": "completed"
    },
    "tags": []
   },
   "outputs": [],
   "source": [
    "#hide_input\n",
    "sum_corr = df_all.corr().sum().sort_values(ascending=True).index.values\n",
    "#df_all[sum_corr].corr()"
   ]
  },
  {
   "cell_type": "markdown",
   "id": "complex-syndicate",
   "metadata": {
    "papermill": {
     "duration": 0.014182,
     "end_time": "2022-01-09T02:10:25.916656",
     "exception": false,
     "start_time": "2022-01-09T02:10:25.902474",
     "status": "completed"
    },
    "tags": []
   },
   "source": [
    "## Išplėstinė koreliacijų matrica. "
   ]
  },
  {
   "cell_type": "code",
   "execution_count": 7,
   "id": "atomic-omaha",
   "metadata": {
    "execution": {
     "iopub.execute_input": "2022-01-09T02:10:25.952113Z",
     "iopub.status.busy": "2022-01-09T02:10:25.951389Z",
     "iopub.status.idle": "2022-01-09T02:10:27.734965Z",
     "shell.execute_reply": "2022-01-09T02:10:27.734305Z"
    },
    "papermill": {
     "duration": 1.803665,
     "end_time": "2022-01-09T02:10:27.735103",
     "exception": false,
     "start_time": "2022-01-09T02:10:25.931438",
     "status": "completed"
    },
    "tags": []
   },
   "outputs": [
    {
     "data": {
      "image/png": "[encoded data removed]",
      "text/plain": [
       "<Figure size 1080x792 with 2 Axes>"
      ]
     },
     "metadata": {
      "needs_background": "light"
     },
     "output_type": "display_data"
    }
   ],
   "source": [
    "#hide_input\n",
    "plt.figure(figsize=(15, 11))\n",
    "sns.heatmap(df_all[sum_corr].corr(), annot=True, cmap=\"cubehelix\") \n",
    "sns.set(font_scale=1.25)\n",
    "plt.savefig('corr_matrix.png', format='eps')"
   ]
  },
  {
   "cell_type": "code",
   "execution_count": 8,
   "id": "arbitrary-sullivan",
   "metadata": {
    "execution": {
     "iopub.execute_input": "2022-01-09T02:10:27.775159Z",
     "iopub.status.busy": "2022-01-09T02:10:27.773580Z",
     "iopub.status.idle": "2022-01-09T02:10:27.803670Z",
     "shell.execute_reply": "2022-01-09T02:10:27.803084Z"
    },
    "papermill": {
     "duration": 0.052166,
     "end_time": "2022-01-09T02:10:27.803800",
     "exception": false,
     "start_time": "2022-01-09T02:10:27.751634",
     "status": "completed"
    },
    "tags": []
   },
   "outputs": [],
   "source": [
    "#hide\n",
    "#df_all_mrk = read_api()"
   ]
  },
  {
   "cell_type": "code",
   "execution_count": 9,
   "id": "delayed-adapter",
   "metadata": {
    "execution": {
     "iopub.execute_input": "2022-01-09T02:10:27.840062Z",
     "iopub.status.busy": "2022-01-09T02:10:27.839433Z",
     "iopub.status.idle": "2022-01-09T02:10:27.871043Z",
     "shell.execute_reply": "2022-01-09T02:10:27.870488Z"
    },
    "papermill": {
     "duration": 0.051132,
     "end_time": "2022-01-09T02:10:27.871261",
     "exception": false,
     "start_time": "2022-01-09T02:10:27.820129",
     "status": "completed"
    },
    "tags": []
   },
   "outputs": [],
   "source": [
    "#hide\n",
    "#Koreliacijų koeficientai"
   ]
  },
  {
   "cell_type": "code",
   "execution_count": 10,
   "id": "seeing-celebration",
   "metadata": {
    "execution": {
     "iopub.execute_input": "2022-01-09T02:10:27.908686Z",
     "iopub.status.busy": "2022-01-09T02:10:27.908082Z",
     "iopub.status.idle": "2022-01-09T02:10:27.938143Z",
     "shell.execute_reply": "2022-01-09T02:10:27.937659Z"
    },
    "papermill": {
     "duration": 0.049725,
     "end_time": "2022-01-09T02:10:27.938265",
     "exception": false,
     "start_time": "2022-01-09T02:10:27.888540",
     "status": "completed"
    },
    "tags": []
   },
   "outputs": [],
   "source": [
    "#hide_input\n",
    "#sum_corr = df_all_mrk.corr().sum().sort_values(ascending=True).index.values\n",
    "#df_all_mrk[sum_corr].corr()"
   ]
  },
  {
   "cell_type": "code",
   "execution_count": 11,
   "id": "other-painting",
   "metadata": {
    "execution": {
     "iopub.execute_input": "2022-01-09T02:10:27.977047Z",
     "iopub.status.busy": "2022-01-09T02:10:27.976425Z",
     "iopub.status.idle": "2022-01-09T02:10:28.006228Z",
     "shell.execute_reply": "2022-01-09T02:10:28.006714Z"
    },
    "papermill": {
     "duration": 0.05333,
     "end_time": "2022-01-09T02:10:28.006882",
     "exception": false,
     "start_time": "2022-01-09T02:10:27.953552",
     "status": "completed"
    },
    "tags": []
   },
   "outputs": [],
   "source": [
    "#hide\n",
    "#Koreliacijos matrica. "
   ]
  },
  {
   "cell_type": "code",
   "execution_count": 12,
   "id": "modular-magnitude",
   "metadata": {
    "execution": {
     "iopub.execute_input": "2022-01-09T02:10:28.042512Z",
     "iopub.status.busy": "2022-01-09T02:10:28.041936Z",
     "iopub.status.idle": "2022-01-09T02:10:28.074242Z",
     "shell.execute_reply": "2022-01-09T02:10:28.073569Z"
    },
    "papermill": {
     "duration": 0.052265,
     "end_time": "2022-01-09T02:10:28.074404",
     "exception": false,
     "start_time": "2022-01-09T02:10:28.022139",
     "status": "completed"
    },
    "tags": []
   },
   "outputs": [],
   "source": [
    "#hide_input\n",
    "#plt.figure(figsize=(15, 8))\n",
    "#sns.heatmap(df_all_mrk[sum_corr].corr(), annot=True, cmap=\"BrBG\");\n",
    "#plt.savefig('corr_matrix_all.eps', format='eps')"
   ]
  },
  {
   "cell_type": "code",
   "execution_count": null,
   "id": "original-senator",
   "metadata": {
    "papermill": {
     "duration": 0.015865,
     "end_time": "2022-01-09T02:10:28.106356",
     "exception": false,
     "start_time": "2022-01-09T02:10:28.090491",
     "status": "completed"
    },
    "tags": []
   },
   "outputs": [],
   "source": []
  },
  {
   "cell_type": "code",
   "execution_count": null,
   "id": "saving-secretariat",
   "metadata": {
    "papermill": {
     "duration": 0.016522,
     "end_time": "2022-01-09T02:10:28.138625",
     "exception": false,
     "start_time": "2022-01-09T02:10:28.122103",
     "status": "completed"
    },
    "tags": []
   },
   "outputs": [],
   "source": []
  }
 ],
 "metadata": {
  "kernelspec": {
   "display_name": "Python 3",
   "language": "python",
   "name": "python3"
  },
  "language_info": {
   "codemirror_mode": {
    "name": "ipython",
    "version": 3
   },
   "file_extension": ".py",
   "mimetype": "text/x-python",
   "name": "python",
   "nbconvert_exporter": "python",
   "pygments_lexer": "ipython3",
   "version": "3.6.15"
  },
  "papermill": {
   "default_parameters": {},
   "duration": 18.185077,
   "end_time": "2022-01-09T02:10:28.663516",
   "environment_variables": {},
   "exception": null,
   "input_path": "App-Correlation_charts.ipynb",
   "output_path": "App-Correlation_charts.ipynb",
   "parameters": {},
   "start_time": "2022-01-09T02:10:10.478439",
   "version": "2.2.2"
  }
 },
 "nbformat": 4,
 "nbformat_minor": 5
}