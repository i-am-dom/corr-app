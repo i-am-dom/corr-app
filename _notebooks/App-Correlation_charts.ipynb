{
 "cells": [
  {
   "cell_type": "markdown",
   "id": "touched-facility",
   "metadata": {
    "papermill": {
     "duration": 0.019671,
     "end_time": "2022-01-01T02:07:21.804710",
     "exception": false,
     "start_time": "2022-01-01T02:07:21.785039",
     "status": "completed"
    },
    "tags": []
   },
   "source": [
    "# Koreliacijų matrica\n",
    "> Išplėstinė koreliacijų matrica. \n",
    "\n",
    "- toc: true \n",
    "- badges: true\n",
    "- comments: false\n",
    "- categories: [Dominykas Tautkus]\n",
    "- image: images/matrix.png"
   ]
  },
  {
   "cell_type": "code",
   "execution_count": null,
   "id": "premium-weekend",
   "metadata": {
    "papermill": {
     "duration": 0.012471,
     "end_time": "2022-01-01T02:07:21.830738",
     "exception": false,
     "start_time": "2022-01-01T02:07:21.818267",
     "status": "completed"
    },
    "tags": []
   },
   "outputs": [],
   "source": []
  },
  {
   "cell_type": "code",
   "execution_count": 1,
   "id": "vertical-rebate",
   "metadata": {
    "execution": {
     "iopub.execute_input": "2022-01-01T02:07:21.869899Z",
     "iopub.status.busy": "2022-01-01T02:07:21.869201Z",
     "iopub.status.idle": "2022-01-01T02:07:21.880992Z",
     "shell.execute_reply": "2022-01-01T02:07:21.880411Z"
    },
    "papermill": {
     "duration": 0.038515,
     "end_time": "2022-01-01T02:07:21.881139",
     "exception": false,
     "start_time": "2022-01-01T02:07:21.842624",
     "status": "completed"
    },
    "tags": []
   },
   "outputs": [],
   "source": [
    "#hide\n",
    "%load_ext autoreload\n",
    "%autoreload 2"
   ]
  },
  {
   "cell_type": "code",
   "execution_count": 2,
   "id": "overall-advancement",
   "metadata": {
    "execution": {
     "iopub.execute_input": "2022-01-01T02:07:21.909989Z",
     "iopub.status.busy": "2022-01-01T02:07:21.909348Z",
     "iopub.status.idle": "2022-01-01T02:07:23.339412Z",
     "shell.execute_reply": "2022-01-01T02:07:23.338408Z"
    },
    "papermill": {
     "duration": 1.445689,
     "end_time": "2022-01-01T02:07:23.339561",
     "exception": false,
     "start_time": "2022-01-01T02:07:21.893872",
     "status": "completed"
    },
    "tags": []
   },
   "outputs": [],
   "source": [
    "#hide\n",
    "from scripts.read_data import read_api\n",
    "from IPython.display import HTML\n",
    "import plotly.graph_objects as go\n"
   ]
  },
  {
   "cell_type": "code",
   "execution_count": 3,
   "id": "light-crazy",
   "metadata": {
    "execution": {
     "iopub.execute_input": "2022-01-01T02:07:23.369352Z",
     "iopub.status.busy": "2022-01-01T02:07:23.368513Z",
     "iopub.status.idle": "2022-01-01T02:07:23.394849Z",
     "shell.execute_reply": "2022-01-01T02:07:23.393907Z"
    },
    "papermill": {
     "duration": 0.043041,
     "end_time": "2022-01-01T02:07:23.395055",
     "exception": false,
     "start_time": "2022-01-01T02:07:23.352014",
     "status": "completed"
    },
    "tags": []
   },
   "outputs": [],
   "source": [
    "#hide\n",
    "### ICO koreliacija"
   ]
  },
  {
   "cell_type": "code",
   "execution_count": 4,
   "id": "likely-bahrain",
   "metadata": {
    "execution": {
     "iopub.execute_input": "2022-01-01T02:07:23.424190Z",
     "iopub.status.busy": "2022-01-01T02:07:23.423592Z",
     "iopub.status.idle": "2022-01-01T02:07:24.509894Z",
     "shell.execute_reply": "2022-01-01T02:07:24.508955Z"
    },
    "papermill": {
     "duration": 1.102729,
     "end_time": "2022-01-01T02:07:24.510126",
     "exception": false,
     "start_time": "2022-01-01T02:07:23.407397",
     "status": "completed"
    },
    "tags": []
   },
   "outputs": [],
   "source": [
    "#hide\n",
    "import matplotlib.pyplot as plt\n",
    "import numpy as np\n",
    "import pandas as pd\n",
    "import seaborn as sns\n",
    "import matplotlib.pyplot as plt \n",
    "import matplotlib.dates as mdates\n",
    "import matplotlib.pyplot as plt"
   ]
  },
  {
   "cell_type": "code",
   "execution_count": 5,
   "id": "superior-blanket",
   "metadata": {
    "execution": {
     "iopub.execute_input": "2022-01-01T02:07:24.543253Z",
     "iopub.status.busy": "2022-01-01T02:07:24.541336Z",
     "iopub.status.idle": "2022-01-01T02:07:38.815011Z",
     "shell.execute_reply": "2022-01-01T02:07:38.816303Z"
    },
    "papermill": {
     "duration": 14.293516,
     "end_time": "2022-01-01T02:07:38.816545",
     "exception": false,
     "start_time": "2022-01-01T02:07:24.523029",
     "status": "completed"
    },
    "tags": []
   },
   "outputs": [
    {
     "name": "stderr",
     "output_type": "stream",
     "text": [
      "/home/runner/work/corr-app/corr-app/_notebooks/scripts/read_data.py:187: SettingWithCopyWarning:\n",
      "\n",
      "\n",
      "A value is trying to be set on a copy of a slice from a DataFrame.\n",
      "Try using .loc[row_indexer,col_indexer] = value instead\n",
      "\n",
      "See the caveats in the documentation: https://pandas.pydata.org/pandas-docs/stable/user_guide/indexing.html#returning-a-view-versus-a-copy\n",
      "\n"
     ]
    },
    {
     "name": "stderr",
     "output_type": "stream",
     "text": [
      "/home/runner/work/corr-app/corr-app/_notebooks/scripts/read_data.py:215: SettingWithCopyWarning:\n",
      "\n",
      "\n",
      "A value is trying to be set on a copy of a slice from a DataFrame.\n",
      "Try using .loc[row_indexer,col_indexer] = value instead\n",
      "\n",
      "See the caveats in the documentation: https://pandas.pydata.org/pandas-docs/stable/user_guide/indexing.html#returning-a-view-versus-a-copy\n",
      "\n"
     ]
    }
   ],
   "source": [
    "#hide\n",
    "df_all = read_api()\n",
    "#df_all = df_all.drop(['SP500', 'XAU', 'ETH', 'BTC'], axis=1)\n",
    "\n"
   ]
  },
  {
   "cell_type": "code",
   "execution_count": 6,
   "id": "mature-alert",
   "metadata": {
    "execution": {
     "iopub.execute_input": "2022-01-01T02:07:38.848998Z",
     "iopub.status.busy": "2022-01-01T02:07:38.848405Z",
     "iopub.status.idle": "2022-01-01T02:07:38.884265Z",
     "shell.execute_reply": "2022-01-01T02:07:38.883438Z"
    },
    "papermill": {
     "duration": 0.052559,
     "end_time": "2022-01-01T02:07:38.884451",
     "exception": false,
     "start_time": "2022-01-01T02:07:38.831892",
     "status": "completed"
    },
    "tags": []
   },
   "outputs": [],
   "source": [
    "#hide_input\n",
    "sum_corr = df_all.corr().sum().sort_values(ascending=True).index.values\n",
    "#df_all[sum_corr].corr()"
   ]
  },
  {
   "cell_type": "markdown",
   "id": "complex-syndicate",
   "metadata": {
    "papermill": {
     "duration": 0.012778,
     "end_time": "2022-01-01T02:07:38.913049",
     "exception": false,
     "start_time": "2022-01-01T02:07:38.900271",
     "status": "completed"
    },
    "tags": []
   },
   "source": [
    "## Išplėstinė koreliacijų matrica. "
   ]
  },
  {
   "cell_type": "code",
   "execution_count": 7,
   "id": "atomic-omaha",
   "metadata": {
    "execution": {
     "iopub.execute_input": "2022-01-01T02:07:38.943997Z",
     "iopub.status.busy": "2022-01-01T02:07:38.943394Z",
     "iopub.status.idle": "2022-01-01T02:07:40.405010Z",
     "shell.execute_reply": "2022-01-01T02:07:40.404503Z"
    },
    "papermill": {
     "duration": 1.479255,
     "end_time": "2022-01-01T02:07:40.405146",
     "exception": false,
     "start_time": "2022-01-01T02:07:38.925891",
     "status": "completed"
    },
    "tags": []
   },
   "outputs": [
    {
     "data": {
      "image/png": "[encoded data removed]",
      "text/plain": [
       "<Figure size 1080x792 with 2 Axes>"
      ]
     },
     "metadata": {
      "needs_background": "light"
     },
     "output_type": "display_data"
    }
   ],
   "source": [
    "#hide_input\n",
    "plt.figure(figsize=(15, 11))\n",
    "sns.heatmap(df_all[sum_corr].corr(), annot=True, cmap=\"cubehelix\") \n",
    "sns.set(font_scale=1.25)\n",
    "plt.savefig('corr_matrix.png', format='eps')"
   ]
  },
  {
   "cell_type": "code",
   "execution_count": 8,
   "id": "arbitrary-sullivan",
   "metadata": {
    "execution": {
     "iopub.execute_input": "2022-01-01T02:07:40.446157Z",
     "iopub.status.busy": "2022-01-01T02:07:40.444659Z",
     "iopub.status.idle": "2022-01-01T02:07:40.473861Z",
     "shell.execute_reply": "2022-01-01T02:07:40.473120Z"
    },
    "papermill": {
     "duration": 0.053461,
     "end_time": "2022-01-01T02:07:40.474044",
     "exception": false,
     "start_time": "2022-01-01T02:07:40.420583",
     "status": "completed"
    },
    "tags": []
   },
   "outputs": [],
   "source": [
    "#hide\n",
    "#df_all_mrk = read_api()"
   ]
  },
  {
   "cell_type": "code",
   "execution_count": 9,
   "id": "delayed-adapter",
   "metadata": {
    "execution": {
     "iopub.execute_input": "2022-01-01T02:07:40.514280Z",
     "iopub.status.busy": "2022-01-01T02:07:40.513617Z",
     "iopub.status.idle": "2022-01-01T02:07:40.543138Z",
     "shell.execute_reply": "2022-01-01T02:07:40.542561Z"
    },
    "papermill": {
     "duration": 0.051515,
     "end_time": "2022-01-01T02:07:40.543271",
     "exception": false,
     "start_time": "2022-01-01T02:07:40.491756",
     "status": "completed"
    },
    "tags": []
   },
   "outputs": [],
   "source": [
    "#hide\n",
    "#Koreliacijų koeficientai"
   ]
  },
  {
   "cell_type": "code",
   "execution_count": 10,
   "id": "seeing-celebration",
   "metadata": {
    "execution": {
     "iopub.execute_input": "2022-01-01T02:07:40.581758Z",
     "iopub.status.busy": "2022-01-01T02:07:40.581112Z",
     "iopub.status.idle": "2022-01-01T02:07:40.612458Z",
     "shell.execute_reply": "2022-01-01T02:07:40.611692Z"
    },
    "papermill": {
     "duration": 0.053858,
     "end_time": "2022-01-01T02:07:40.612635",
     "exception": false,
     "start_time": "2022-01-01T02:07:40.558777",
     "status": "completed"
    },
    "tags": []
   },
   "outputs": [],
   "source": [
    "#hide_input\n",
    "#sum_corr = df_all_mrk.corr().sum().sort_values(ascending=True).index.values\n",
    "#df_all_mrk[sum_corr].corr()"
   ]
  },
  {
   "cell_type": "code",
   "execution_count": 11,
   "id": "other-painting",
   "metadata": {
    "execution": {
     "iopub.execute_input": "2022-01-01T02:07:40.647378Z",
     "iopub.status.busy": "2022-01-01T02:07:40.646772Z",
     "iopub.status.idle": "2022-01-01T02:07:40.678056Z",
     "shell.execute_reply": "2022-01-01T02:07:40.677100Z"
    },
    "papermill": {
     "duration": 0.050153,
     "end_time": "2022-01-01T02:07:40.678272",
     "exception": false,
     "start_time": "2022-01-01T02:07:40.628119",
     "status": "completed"
    },
    "tags": []
   },
   "outputs": [],
   "source": [
    "#hide\n",
    "#Koreliacijos matrica. "
   ]
  },
  {
   "cell_type": "code",
   "execution_count": 12,
   "id": "modular-magnitude",
   "metadata": {
    "execution": {
     "iopub.execute_input": "2022-01-01T02:07:40.715919Z",
     "iopub.status.busy": "2022-01-01T02:07:40.715311Z",
     "iopub.status.idle": "2022-01-01T02:07:40.745525Z",
     "shell.execute_reply": "2022-01-01T02:07:40.744983Z"
    },
    "papermill": {
     "duration": 0.049199,
     "end_time": "2022-01-01T02:07:40.745676",
     "exception": false,
     "start_time": "2022-01-01T02:07:40.696477",
     "status": "completed"
    },
    "tags": []
   },
   "outputs": [],
   "source": [
    "#hide_input\n",
    "#plt.figure(figsize=(15, 8))\n",
    "#sns.heatmap(df_all_mrk[sum_corr].corr(), annot=True, cmap=\"BrBG\");\n",
    "#plt.savefig('corr_matrix_all.eps', format='eps')"
   ]
  },
  {
   "cell_type": "code",
   "execution_count": null,
   "id": "original-senator",
   "metadata": {
    "papermill": {
     "duration": 0.015019,
     "end_time": "2022-01-01T02:07:40.775899",
     "exception": false,
     "start_time": "2022-01-01T02:07:40.760880",
     "status": "completed"
    },
    "tags": []
   },
   "outputs": [],
   "source": []
  },
  {
   "cell_type": "code",
   "execution_count": null,
   "id": "saving-secretariat",
   "metadata": {
    "papermill": {
     "duration": 0.015844,
     "end_time": "2022-01-01T02:07:40.806618",
     "exception": false,
     "start_time": "2022-01-01T02:07:40.790774",
     "status": "completed"
    },
    "tags": []
   },
   "outputs": [],
   "source": []
  }
 ],
 "metadata": {
  "kernelspec": {
   "display_name": "Python 3",
   "language": "python",
   "name": "python3"
  },
  "language_info": {
   "codemirror_mode": {
    "name": "ipython",
    "version": 3
   },
   "file_extension": ".py",
   "mimetype": "text/x-python",
   "name": "python",
   "nbconvert_exporter": "python",
   "pygments_lexer": "ipython3",
   "version": "3.6.15"
  },
  "papermill": {
   "default_parameters": {},
   "duration": 20.84142,
   "end_time": "2022-01-01T02:07:41.331731",
   "environment_variables": {},
   "exception": null,
   "input_path": "App-Correlation_charts.ipynb",
   "output_path": "App-Correlation_charts.ipynb",
   "parameters": {},
   "start_time": "2022-01-01T02:07:20.490311",
   "version": "2.2.2"
  }
 },
 "nbformat": 4,
 "nbformat_minor": 5
}