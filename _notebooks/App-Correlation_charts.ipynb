{
 "cells": [
  {
   "cell_type": "markdown",
   "id": "touched-facility",
   "metadata": {
    "papermill": {
     "duration": 0.01456,
     "end_time": "2022-01-28T01:58:24.057947",
     "exception": false,
     "start_time": "2022-01-28T01:58:24.043387",
     "status": "completed"
    },
    "tags": []
   },
   "source": [
    "# Koreliacijų matrica\n",
    "> Išplėstinė koreliacijų matrica. \n",
    "\n",
    "- toc: true \n",
    "- badges: true\n",
    "- comments: false\n",
    "- categories: [Dominykas Tautkus]\n",
    "- image: images/matrix.png"
   ]
  },
  {
   "cell_type": "code",
   "execution_count": null,
   "id": "premium-weekend",
   "metadata": {
    "papermill": {
     "duration": 0.010955,
     "end_time": "2022-01-28T01:58:24.080487",
     "exception": false,
     "start_time": "2022-01-28T01:58:24.069532",
     "status": "completed"
    },
    "tags": []
   },
   "outputs": [],
   "source": []
  },
  {
   "cell_type": "code",
   "execution_count": 1,
   "id": "vertical-rebate",
   "metadata": {
    "execution": {
     "iopub.execute_input": "2022-01-28T01:58:24.112827Z",
     "iopub.status.busy": "2022-01-28T01:58:24.112287Z",
     "iopub.status.idle": "2022-01-28T01:58:24.122614Z",
     "shell.execute_reply": "2022-01-28T01:58:24.122170Z"
    },
    "papermill": {
     "duration": 0.031408,
     "end_time": "2022-01-28T01:58:24.122749",
     "exception": false,
     "start_time": "2022-01-28T01:58:24.091341",
     "status": "completed"
    },
    "tags": []
   },
   "outputs": [],
   "source": [
    "#hide\n",
    "%load_ext autoreload\n",
    "%autoreload 2"
   ]
  },
  {
   "cell_type": "code",
   "execution_count": 2,
   "id": "overall-advancement",
   "metadata": {
    "execution": {
     "iopub.execute_input": "2022-01-28T01:58:24.147781Z",
     "iopub.status.busy": "2022-01-28T01:58:24.147266Z",
     "iopub.status.idle": "2022-01-28T01:58:25.338036Z",
     "shell.execute_reply": "2022-01-28T01:58:25.338537Z"
    },
    "papermill": {
     "duration": 1.205207,
     "end_time": "2022-01-28T01:58:25.338710",
     "exception": false,
     "start_time": "2022-01-28T01:58:24.133503",
     "status": "completed"
    },
    "tags": []
   },
   "outputs": [],
   "source": [
    "#hide\n",
    "from scripts.read_data import read_api\n",
    "from IPython.display import HTML\n",
    "import plotly.graph_objects as go\n"
   ]
  },
  {
   "cell_type": "code",
   "execution_count": 3,
   "id": "light-crazy",
   "metadata": {
    "execution": {
     "iopub.execute_input": "2022-01-28T01:58:25.367309Z",
     "iopub.status.busy": "2022-01-28T01:58:25.366780Z",
     "iopub.status.idle": "2022-01-28T01:58:25.389712Z",
     "shell.execute_reply": "2022-01-28T01:58:25.389223Z"
    },
    "papermill": {
     "duration": 0.038937,
     "end_time": "2022-01-28T01:58:25.389850",
     "exception": false,
     "start_time": "2022-01-28T01:58:25.350913",
     "status": "completed"
    },
    "tags": []
   },
   "outputs": [],
   "source": [
    "#hide\n",
    "### ICO koreliacija"
   ]
  },
  {
   "cell_type": "code",
   "execution_count": 4,
   "id": "likely-bahrain",
   "metadata": {
    "execution": {
     "iopub.execute_input": "2022-01-28T01:58:25.424735Z",
     "iopub.status.busy": "2022-01-28T01:58:25.423707Z",
     "iopub.status.idle": "2022-01-28T01:58:26.361283Z",
     "shell.execute_reply": "2022-01-28T01:58:26.360266Z"
    },
    "papermill": {
     "duration": 0.960648,
     "end_time": "2022-01-28T01:58:26.361438",
     "exception": false,
     "start_time": "2022-01-28T01:58:25.400790",
     "status": "completed"
    },
    "tags": []
   },
   "outputs": [],
   "source": [
    "#hide\n",
    "import matplotlib.pyplot as plt\n",
    "import numpy as np\n",
    "import pandas as pd\n",
    "import seaborn as sns\n",
    "import matplotlib.pyplot as plt \n",
    "import matplotlib.dates as mdates\n",
    "import matplotlib.pyplot as plt"
   ]
  },
  {
   "cell_type": "code",
   "execution_count": 5,
   "id": "superior-blanket",
   "metadata": {
    "execution": {
     "iopub.execute_input": "2022-01-28T01:58:26.387882Z",
     "iopub.status.busy": "2022-01-28T01:58:26.387347Z",
     "iopub.status.idle": "2022-01-28T01:58:39.625486Z",
     "shell.execute_reply": "2022-01-28T01:58:39.625982Z"
    },
    "papermill": {
     "duration": 13.253591,
     "end_time": "2022-01-28T01:58:39.626139",
     "exception": false,
     "start_time": "2022-01-28T01:58:26.372548",
     "status": "completed"
    },
    "tags": []
   },
   "outputs": [
    {
     "name": "stderr",
     "output_type": "stream",
     "text": [
      "/home/runner/work/corr-app/corr-app/_notebooks/scripts/read_data.py:187: SettingWithCopyWarning:\n",
      "\n",
      "\n",
      "A value is trying to be set on a copy of a slice from a DataFrame.\n",
      "Try using .loc[row_indexer,col_indexer] = value instead\n",
      "\n",
      "See the caveats in the documentation: https://pandas.pydata.org/pandas-docs/stable/user_guide/indexing.html#returning-a-view-versus-a-copy\n",
      "\n"
     ]
    },
    {
     "name": "stderr",
     "output_type": "stream",
     "text": [
      "/home/runner/work/corr-app/corr-app/_notebooks/scripts/read_data.py:215: SettingWithCopyWarning:\n",
      "\n",
      "\n",
      "A value is trying to be set on a copy of a slice from a DataFrame.\n",
      "Try using .loc[row_indexer,col_indexer] = value instead\n",
      "\n",
      "See the caveats in the documentation: https://pandas.pydata.org/pandas-docs/stable/user_guide/indexing.html#returning-a-view-versus-a-copy\n",
      "\n"
     ]
    }
   ],
   "source": [
    "#hide\n",
    "df_all = read_api()\n",
    "#df_all = df_all.drop(['SP500', 'XAU', 'ETH', 'BTC'], axis=1)\n",
    "\n"
   ]
  },
  {
   "cell_type": "code",
   "execution_count": 6,
   "id": "mature-alert",
   "metadata": {
    "execution": {
     "iopub.execute_input": "2022-01-28T01:58:39.664820Z",
     "iopub.status.busy": "2022-01-28T01:58:39.662393Z",
     "iopub.status.idle": "2022-01-28T01:58:39.689310Z",
     "shell.execute_reply": "2022-01-28T01:58:39.688417Z"
    },
    "papermill": {
     "duration": 0.051482,
     "end_time": "2022-01-28T01:58:39.689450",
     "exception": false,
     "start_time": "2022-01-28T01:58:39.637968",
     "status": "completed"
    },
    "tags": []
   },
   "outputs": [],
   "source": [
    "#hide_input\n",
    "sum_corr = df_all.corr().sum().sort_values(ascending=True).index.values\n",
    "#df_all[sum_corr].corr()"
   ]
  },
  {
   "cell_type": "markdown",
   "id": "complex-syndicate",
   "metadata": {
    "papermill": {
     "duration": 0.011478,
     "end_time": "2022-01-28T01:58:39.712493",
     "exception": false,
     "start_time": "2022-01-28T01:58:39.701015",
     "status": "completed"
    },
    "tags": []
   },
   "source": [
    "## Išplėstinė koreliacijų matrica. "
   ]
  },
  {
   "cell_type": "code",
   "execution_count": 7,
   "id": "atomic-omaha",
   "metadata": {
    "execution": {
     "iopub.execute_input": "2022-01-28T01:58:39.742975Z",
     "iopub.status.busy": "2022-01-28T01:58:39.741914Z",
     "iopub.status.idle": "2022-01-28T01:58:41.021247Z",
     "shell.execute_reply": "2022-01-28T01:58:41.021673Z"
    },
    "papermill": {
     "duration": 1.297887,
     "end_time": "2022-01-28T01:58:41.021822",
     "exception": false,
     "start_time": "2022-01-28T01:58:39.723935",
     "status": "completed"
    },
    "tags": []
   },
   "outputs": [
    {
     "data": {
      "image/png": "[encoded data removed]",
      "text/plain": [
       "<Figure size 1080x792 with 2 Axes>"
      ]
     },
     "metadata": {
      "needs_background": "light"
     },
     "output_type": "display_data"
    }
   ],
   "source": [
    "#hide_input\n",
    "plt.figure(figsize=(15, 11))\n",
    "sns.heatmap(df_all[sum_corr].corr(), annot=True, cmap=\"cubehelix\") \n",
    "sns.set(font_scale=1.25)\n",
    "plt.savefig('corr_matrix.png', format='eps')"
   ]
  },
  {
   "cell_type": "code",
   "execution_count": 8,
   "id": "arbitrary-sullivan",
   "metadata": {
    "execution": {
     "iopub.execute_input": "2022-01-28T01:58:41.056695Z",
     "iopub.status.busy": "2022-01-28T01:58:41.051772Z",
     "iopub.status.idle": "2022-01-28T01:58:41.081665Z",
     "shell.execute_reply": "2022-01-28T01:58:41.081163Z"
    },
    "papermill": {
     "duration": 0.046359,
     "end_time": "2022-01-28T01:58:41.081794",
     "exception": false,
     "start_time": "2022-01-28T01:58:41.035435",
     "status": "completed"
    },
    "tags": []
   },
   "outputs": [],
   "source": [
    "#hide\n",
    "#df_all_mrk = read_api()"
   ]
  },
  {
   "cell_type": "code",
   "execution_count": 9,
   "id": "delayed-adapter",
   "metadata": {
    "execution": {
     "iopub.execute_input": "2022-01-28T01:58:41.114395Z",
     "iopub.status.busy": "2022-01-28T01:58:41.113867Z",
     "iopub.status.idle": "2022-01-28T01:58:41.139475Z",
     "shell.execute_reply": "2022-01-28T01:58:41.138966Z"
    },
    "papermill": {
     "duration": 0.044273,
     "end_time": "2022-01-28T01:58:41.139604",
     "exception": false,
     "start_time": "2022-01-28T01:58:41.095331",
     "status": "completed"
    },
    "tags": []
   },
   "outputs": [],
   "source": [
    "#hide\n",
    "#Koreliacijų koeficientai"
   ]
  },
  {
   "cell_type": "code",
   "execution_count": 10,
   "id": "seeing-celebration",
   "metadata": {
    "execution": {
     "iopub.execute_input": "2022-01-28T01:58:41.174438Z",
     "iopub.status.busy": "2022-01-28T01:58:41.173898Z",
     "iopub.status.idle": "2022-01-28T01:58:41.198820Z",
     "shell.execute_reply": "2022-01-28T01:58:41.198259Z"
    },
    "papermill": {
     "duration": 0.045336,
     "end_time": "2022-01-28T01:58:41.198955",
     "exception": false,
     "start_time": "2022-01-28T01:58:41.153619",
     "status": "completed"
    },
    "tags": []
   },
   "outputs": [],
   "source": [
    "#hide_input\n",
    "#sum_corr = df_all_mrk.corr().sum().sort_values(ascending=True).index.values\n",
    "#df_all_mrk[sum_corr].corr()"
   ]
  },
  {
   "cell_type": "code",
   "execution_count": 11,
   "id": "other-painting",
   "metadata": {
    "execution": {
     "iopub.execute_input": "2022-01-28T01:58:41.238059Z",
     "iopub.status.busy": "2022-01-28T01:58:41.235096Z",
     "iopub.status.idle": "2022-01-28T01:58:41.258887Z",
     "shell.execute_reply": "2022-01-28T01:58:41.258354Z"
    },
    "papermill": {
     "duration": 0.045675,
     "end_time": "2022-01-28T01:58:41.259021",
     "exception": false,
     "start_time": "2022-01-28T01:58:41.213346",
     "status": "completed"
    },
    "tags": []
   },
   "outputs": [],
   "source": [
    "#hide\n",
    "#Koreliacijos matrica. "
   ]
  },
  {
   "cell_type": "code",
   "execution_count": 12,
   "id": "modular-magnitude",
   "metadata": {
    "execution": {
     "iopub.execute_input": "2022-01-28T01:58:41.289945Z",
     "iopub.status.busy": "2022-01-28T01:58:41.289419Z",
     "iopub.status.idle": "2022-01-28T01:58:41.316645Z",
     "shell.execute_reply": "2022-01-28T01:58:41.316138Z"
    },
    "papermill": {
     "duration": 0.043462,
     "end_time": "2022-01-28T01:58:41.316776",
     "exception": false,
     "start_time": "2022-01-28T01:58:41.273314",
     "status": "completed"
    },
    "tags": []
   },
   "outputs": [],
   "source": [
    "#hide_input\n",
    "#plt.figure(figsize=(15, 8))\n",
    "#sns.heatmap(df_all_mrk[sum_corr].corr(), annot=True, cmap=\"BrBG\");\n",
    "#plt.savefig('corr_matrix_all.eps', format='eps')"
   ]
  },
  {
   "cell_type": "code",
   "execution_count": null,
   "id": "original-senator",
   "metadata": {
    "papermill": {
     "duration": 0.013176,
     "end_time": "2022-01-28T01:58:41.344333",
     "exception": false,
     "start_time": "2022-01-28T01:58:41.331157",
     "status": "completed"
    },
    "tags": []
   },
   "outputs": [],
   "source": []
  },
  {
   "cell_type": "code",
   "execution_count": null,
   "id": "saving-secretariat",
   "metadata": {
    "papermill": {
     "duration": 0.014228,
     "end_time": "2022-01-28T01:58:41.371823",
     "exception": false,
     "start_time": "2022-01-28T01:58:41.357595",
     "status": "completed"
    },
    "tags": []
   },
   "outputs": [],
   "source": []
  }
 ],
 "metadata": {
  "kernelspec": {
   "display_name": "Python 3",
   "language": "python",
   "name": "python3"
  },
  "language_info": {
   "codemirror_mode": {
    "name": "ipython",
    "version": 3
   },
   "file_extension": ".py",
   "mimetype": "text/x-python",
   "name": "python",
   "nbconvert_exporter": "python",
   "pygments_lexer": "ipython3",
   "version": "3.6.15"
  },
  "papermill": {
   "default_parameters": {},
   "duration": 18.874077,
   "end_time": "2022-01-28T01:58:42.005976",
   "environment_variables": {},
   "exception": null,
   "input_path": "App-Correlation_charts.ipynb",
   "output_path": "App-Correlation_charts.ipynb",
   "parameters": {},
   "start_time": "2022-01-28T01:58:23.131899",
   "version": "2.2.2"
  }
 },
 "nbformat": 4,
 "nbformat_minor": 5
}