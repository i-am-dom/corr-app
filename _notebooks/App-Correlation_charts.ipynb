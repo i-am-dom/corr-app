{
 "cells": [
  {
   "cell_type": "markdown",
   "id": "touched-facility",
   "metadata": {
    "papermill": {
     "duration": 0.022108,
     "end_time": "2022-05-06T02:45:39.818734",
     "exception": false,
     "start_time": "2022-05-06T02:45:39.796626",
     "status": "completed"
    },
    "tags": []
   },
   "source": [
    "# Koreliacijų matrica\n",
    "> Išplėstinė koreliacijų matrica. \n",
    "\n",
    "- toc: true \n",
    "- badges: true\n",
    "- comments: false\n",
    "- categories: [Dominykas Tautkus]\n",
    "- image: images/matrix.png"
   ]
  },
  {
   "cell_type": "code",
   "execution_count": null,
   "id": "premium-weekend",
   "metadata": {
    "papermill": {
     "duration": 0.014935,
     "end_time": "2022-05-06T02:45:39.849383",
     "exception": false,
     "start_time": "2022-05-06T02:45:39.834448",
     "status": "completed"
    },
    "tags": []
   },
   "outputs": [],
   "source": []
  },
  {
   "cell_type": "code",
   "execution_count": 1,
   "id": "vertical-rebate",
   "metadata": {
    "execution": {
     "iopub.execute_input": "2022-05-06T02:45:39.896721Z",
     "iopub.status.busy": "2022-05-06T02:45:39.895962Z",
     "iopub.status.idle": "2022-05-06T02:45:39.909396Z",
     "shell.execute_reply": "2022-05-06T02:45:39.908762Z"
    },
    "papermill": {
     "duration": 0.043916,
     "end_time": "2022-05-06T02:45:39.909567",
     "exception": false,
     "start_time": "2022-05-06T02:45:39.865651",
     "status": "completed"
    },
    "tags": []
   },
   "outputs": [],
   "source": [
    "#hide\n",
    "%load_ext autoreload\n",
    "%autoreload 2"
   ]
  },
  {
   "cell_type": "code",
   "execution_count": 2,
   "id": "overall-advancement",
   "metadata": {
    "execution": {
     "iopub.execute_input": "2022-05-06T02:45:39.944329Z",
     "iopub.status.busy": "2022-05-06T02:45:39.943481Z",
     "iopub.status.idle": "2022-05-06T02:45:41.782603Z",
     "shell.execute_reply": "2022-05-06T02:45:41.783200Z"
    },
    "papermill": {
     "duration": 1.858119,
     "end_time": "2022-05-06T02:45:41.783383",
     "exception": false,
     "start_time": "2022-05-06T02:45:39.925264",
     "status": "completed"
    },
    "tags": []
   },
   "outputs": [],
   "source": [
    "#hide\n",
    "from scripts.read_data import read_api\n",
    "from IPython.display import HTML\n",
    "import plotly.graph_objects as go\n"
   ]
  },
  {
   "cell_type": "code",
   "execution_count": 3,
   "id": "light-crazy",
   "metadata": {
    "execution": {
     "iopub.execute_input": "2022-05-06T02:45:41.819181Z",
     "iopub.status.busy": "2022-05-06T02:45:41.818436Z",
     "iopub.status.idle": "2022-05-06T02:45:41.846167Z",
     "shell.execute_reply": "2022-05-06T02:45:41.845566Z"
    },
    "papermill": {
     "duration": 0.047559,
     "end_time": "2022-05-06T02:45:41.846319",
     "exception": false,
     "start_time": "2022-05-06T02:45:41.798760",
     "status": "completed"
    },
    "tags": []
   },
   "outputs": [],
   "source": [
    "#hide\n",
    "### ICO koreliacija"
   ]
  },
  {
   "cell_type": "code",
   "execution_count": 4,
   "id": "likely-bahrain",
   "metadata": {
    "execution": {
     "iopub.execute_input": "2022-05-06T02:45:41.884063Z",
     "iopub.status.busy": "2022-05-06T02:45:41.883269Z",
     "iopub.status.idle": "2022-05-06T02:45:42.984244Z",
     "shell.execute_reply": "2022-05-06T02:45:42.984792Z"
    },
    "papermill": {
     "duration": 1.122828,
     "end_time": "2022-05-06T02:45:42.984965",
     "exception": false,
     "start_time": "2022-05-06T02:45:41.862137",
     "status": "completed"
    },
    "tags": []
   },
   "outputs": [],
   "source": [
    "#hide\n",
    "import matplotlib.pyplot as plt\n",
    "import numpy as np\n",
    "import pandas as pd\n",
    "import seaborn as sns\n",
    "import matplotlib.pyplot as plt \n",
    "import matplotlib.dates as mdates\n",
    "import matplotlib.pyplot as plt"
   ]
  },
  {
   "cell_type": "code",
   "execution_count": 5,
   "id": "superior-blanket",
   "metadata": {
    "execution": {
     "iopub.execute_input": "2022-05-06T02:45:43.021757Z",
     "iopub.status.busy": "2022-05-06T02:45:43.021072Z",
     "iopub.status.idle": "2022-05-06T02:45:58.114151Z",
     "shell.execute_reply": "2022-05-06T02:45:58.114748Z"
    },
    "papermill": {
     "duration": 15.114182,
     "end_time": "2022-05-06T02:45:58.114921",
     "exception": false,
     "start_time": "2022-05-06T02:45:43.000739",
     "status": "completed"
    },
    "tags": []
   },
   "outputs": [
    {
     "name": "stderr",
     "output_type": "stream",
     "text": [
      "/home/runner/work/corr-app/corr-app/_notebooks/scripts/read_data.py:187: SettingWithCopyWarning:\n",
      "\n",
      "\n",
      "A value is trying to be set on a copy of a slice from a DataFrame.\n",
      "Try using .loc[row_indexer,col_indexer] = value instead\n",
      "\n",
      "See the caveats in the documentation: https://pandas.pydata.org/pandas-docs/stable/user_guide/indexing.html#returning-a-view-versus-a-copy\n",
      "\n"
     ]
    },
    {
     "name": "stderr",
     "output_type": "stream",
     "text": [
      "/home/runner/work/corr-app/corr-app/_notebooks/scripts/read_data.py:215: SettingWithCopyWarning:\n",
      "\n",
      "\n",
      "A value is trying to be set on a copy of a slice from a DataFrame.\n",
      "Try using .loc[row_indexer,col_indexer] = value instead\n",
      "\n",
      "See the caveats in the documentation: https://pandas.pydata.org/pandas-docs/stable/user_guide/indexing.html#returning-a-view-versus-a-copy\n",
      "\n"
     ]
    }
   ],
   "source": [
    "#hide\n",
    "df_all = read_api()\n",
    "#df_all = df_all.drop(['SP500', 'XAU', 'ETH', 'BTC'], axis=1)\n",
    "\n"
   ]
  },
  {
   "cell_type": "code",
   "execution_count": 6,
   "id": "mature-alert",
   "metadata": {
    "execution": {
     "iopub.execute_input": "2022-05-06T02:45:58.156521Z",
     "iopub.status.busy": "2022-05-06T02:45:58.153287Z",
     "iopub.status.idle": "2022-05-06T02:45:58.202649Z",
     "shell.execute_reply": "2022-05-06T02:45:58.201954Z"
    },
    "papermill": {
     "duration": 0.069506,
     "end_time": "2022-05-06T02:45:58.202804",
     "exception": false,
     "start_time": "2022-05-06T02:45:58.133298",
     "status": "completed"
    },
    "tags": []
   },
   "outputs": [],
   "source": [
    "#hide_input\n",
    "sum_corr = df_all.corr().sum().sort_values(ascending=True).index.values\n",
    "#df_all[sum_corr].corr()"
   ]
  },
  {
   "cell_type": "markdown",
   "id": "complex-syndicate",
   "metadata": {
    "papermill": {
     "duration": 0.020887,
     "end_time": "2022-05-06T02:45:58.243281",
     "exception": false,
     "start_time": "2022-05-06T02:45:58.222394",
     "status": "completed"
    },
    "tags": []
   },
   "source": [
    "## Išplėstinė koreliacijų matrica. "
   ]
  },
  {
   "cell_type": "code",
   "execution_count": 7,
   "id": "atomic-omaha",
   "metadata": {
    "execution": {
     "iopub.execute_input": "2022-05-06T02:45:58.283877Z",
     "iopub.status.busy": "2022-05-06T02:45:58.283162Z",
     "iopub.status.idle": "2022-05-06T02:46:00.006458Z",
     "shell.execute_reply": "2022-05-06T02:46:00.005201Z"
    },
    "papermill": {
     "duration": 1.744573,
     "end_time": "2022-05-06T02:46:00.006709",
     "exception": false,
     "start_time": "2022-05-06T02:45:58.262136",
     "status": "completed"
    },
    "tags": []
   },
   "outputs": [
    {
     "data": {
      "image/png": "[encoded data removed]",
      "text/plain": [
       "<Figure size 1080x792 with 2 Axes>"
      ]
     },
     "metadata": {
      "needs_background": "light"
     },
     "output_type": "display_data"
    }
   ],
   "source": [
    "#hide_input\n",
    "plt.figure(figsize=(15, 11))\n",
    "sns.heatmap(df_all[sum_corr].corr(), annot=True, cmap=\"cubehelix\") \n",
    "sns.set(font_scale=1.25)\n",
    "plt.savefig('corr_matrix.png', format='eps')"
   ]
  },
  {
   "cell_type": "code",
   "execution_count": 8,
   "id": "arbitrary-sullivan",
   "metadata": {
    "execution": {
     "iopub.execute_input": "2022-05-06T02:46:00.048497Z",
     "iopub.status.busy": "2022-05-06T02:46:00.047829Z",
     "iopub.status.idle": "2022-05-06T02:46:00.086627Z",
     "shell.execute_reply": "2022-05-06T02:46:00.085180Z"
    },
    "papermill": {
     "duration": 0.061181,
     "end_time": "2022-05-06T02:46:00.086796",
     "exception": false,
     "start_time": "2022-05-06T02:46:00.025615",
     "status": "completed"
    },
    "tags": []
   },
   "outputs": [],
   "source": [
    "#hide\n",
    "#df_all_mrk = read_api()"
   ]
  },
  {
   "cell_type": "code",
   "execution_count": 9,
   "id": "delayed-adapter",
   "metadata": {
    "execution": {
     "iopub.execute_input": "2022-05-06T02:46:00.131809Z",
     "iopub.status.busy": "2022-05-06T02:46:00.128215Z",
     "iopub.status.idle": "2022-05-06T02:46:00.164919Z",
     "shell.execute_reply": "2022-05-06T02:46:00.164324Z"
    },
    "papermill": {
     "duration": 0.059933,
     "end_time": "2022-05-06T02:46:00.165077",
     "exception": false,
     "start_time": "2022-05-06T02:46:00.105144",
     "status": "completed"
    },
    "tags": []
   },
   "outputs": [],
   "source": [
    "#hide\n",
    "#Koreliacijų koeficientai"
   ]
  },
  {
   "cell_type": "code",
   "execution_count": 10,
   "id": "seeing-celebration",
   "metadata": {
    "execution": {
     "iopub.execute_input": "2022-05-06T02:46:00.209625Z",
     "iopub.status.busy": "2022-05-06T02:46:00.208879Z",
     "iopub.status.idle": "2022-05-06T02:46:00.243277Z",
     "shell.execute_reply": "2022-05-06T02:46:00.243895Z"
    },
    "papermill": {
     "duration": 0.059022,
     "end_time": "2022-05-06T02:46:00.244128",
     "exception": false,
     "start_time": "2022-05-06T02:46:00.185106",
     "status": "completed"
    },
    "tags": []
   },
   "outputs": [],
   "source": [
    "#hide_input\n",
    "#sum_corr = df_all_mrk.corr().sum().sort_values(ascending=True).index.values\n",
    "#df_all_mrk[sum_corr].corr()"
   ]
  },
  {
   "cell_type": "code",
   "execution_count": 11,
   "id": "other-painting",
   "metadata": {
    "execution": {
     "iopub.execute_input": "2022-05-06T02:46:00.283780Z",
     "iopub.status.busy": "2022-05-06T02:46:00.283097Z",
     "iopub.status.idle": "2022-05-06T02:46:00.316792Z",
     "shell.execute_reply": "2022-05-06T02:46:00.317387Z"
    },
    "papermill": {
     "duration": 0.055848,
     "end_time": "2022-05-06T02:46:00.317579",
     "exception": false,
     "start_time": "2022-05-06T02:46:00.261731",
     "status": "completed"
    },
    "tags": []
   },
   "outputs": [],
   "source": [
    "#hide\n",
    "#Koreliacijos matrica. "
   ]
  },
  {
   "cell_type": "code",
   "execution_count": 12,
   "id": "modular-magnitude",
   "metadata": {
    "execution": {
     "iopub.execute_input": "2022-05-06T02:46:00.355184Z",
     "iopub.status.busy": "2022-05-06T02:46:00.354494Z",
     "iopub.status.idle": "2022-05-06T02:46:00.390443Z",
     "shell.execute_reply": "2022-05-06T02:46:00.389606Z"
    },
    "papermill": {
     "duration": 0.055851,
     "end_time": "2022-05-06T02:46:00.390632",
     "exception": false,
     "start_time": "2022-05-06T02:46:00.334781",
     "status": "completed"
    },
    "tags": []
   },
   "outputs": [],
   "source": [
    "#hide_input\n",
    "#plt.figure(figsize=(15, 8))\n",
    "#sns.heatmap(df_all_mrk[sum_corr].corr(), annot=True, cmap=\"BrBG\");\n",
    "#plt.savefig('corr_matrix_all.eps', format='eps')"
   ]
  },
  {
   "cell_type": "code",
   "execution_count": null,
   "id": "original-senator",
   "metadata": {
    "papermill": {
     "duration": 0.016244,
     "end_time": "2022-05-06T02:46:00.423492",
     "exception": false,
     "start_time": "2022-05-06T02:46:00.407248",
     "status": "completed"
    },
    "tags": []
   },
   "outputs": [],
   "source": []
  },
  {
   "cell_type": "code",
   "execution_count": null,
   "id": "saving-secretariat",
   "metadata": {
    "papermill": {
     "duration": 0.016881,
     "end_time": "2022-05-06T02:46:00.457266",
     "exception": false,
     "start_time": "2022-05-06T02:46:00.440385",
     "status": "completed"
    },
    "tags": []
   },
   "outputs": [],
   "source": []
  }
 ],
 "metadata": {
  "kernelspec": {
   "display_name": "Python 3",
   "language": "python",
   "name": "python3"
  },
  "language_info": {
   "codemirror_mode": {
    "name": "ipython",
    "version": 3
   },
   "file_extension": ".py",
   "mimetype": "text/x-python",
   "name": "python",
   "nbconvert_exporter": "python",
   "pygments_lexer": "ipython3",
   "version": "3.6.15"
  },
  "papermill": {
   "default_parameters": {},
   "duration": 22.453708,
   "end_time": "2022-05-06T02:46:00.994240",
   "environment_variables": {},
   "exception": null,
   "input_path": "App-Correlation_charts.ipynb",
   "output_path": "App-Correlation_charts.ipynb",
   "parameters": {},
   "start_time": "2022-05-06T02:45:38.540532",
   "version": "2.2.2"
  }
 },
 "nbformat": 4,
 "nbformat_minor": 5
}