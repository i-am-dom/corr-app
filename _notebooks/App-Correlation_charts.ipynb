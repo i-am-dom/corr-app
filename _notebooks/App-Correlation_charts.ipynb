{
 "cells": [
  {
   "cell_type": "markdown",
   "id": "touched-facility",
   "metadata": {
    "papermill": {
     "duration": 0.01987,
     "end_time": "2022-02-05T01:38:56.627552",
     "exception": false,
     "start_time": "2022-02-05T01:38:56.607682",
     "status": "completed"
    },
    "tags": []
   },
   "source": [
    "# Koreliacijų matrica\n",
    "> Išplėstinė koreliacijų matrica. \n",
    "\n",
    "- toc: true \n",
    "- badges: true\n",
    "- comments: false\n",
    "- categories: [Dominykas Tautkus]\n",
    "- image: images/matrix.png"
   ]
  },
  {
   "cell_type": "code",
   "execution_count": null,
   "id": "premium-weekend",
   "metadata": {
    "papermill": {
     "duration": 0.01249,
     "end_time": "2022-02-05T01:38:56.653382",
     "exception": false,
     "start_time": "2022-02-05T01:38:56.640892",
     "status": "completed"
    },
    "tags": []
   },
   "outputs": [],
   "source": []
  },
  {
   "cell_type": "code",
   "execution_count": 1,
   "id": "vertical-rebate",
   "metadata": {
    "execution": {
     "iopub.execute_input": "2022-02-05T01:38:56.689583Z",
     "iopub.status.busy": "2022-02-05T01:38:56.688954Z",
     "iopub.status.idle": "2022-02-05T01:38:56.700971Z",
     "shell.execute_reply": "2022-02-05T01:38:56.700440Z"
    },
    "papermill": {
     "duration": 0.035576,
     "end_time": "2022-02-05T01:38:56.701116",
     "exception": false,
     "start_time": "2022-02-05T01:38:56.665540",
     "status": "completed"
    },
    "tags": []
   },
   "outputs": [],
   "source": [
    "#hide\n",
    "%load_ext autoreload\n",
    "%autoreload 2"
   ]
  },
  {
   "cell_type": "code",
   "execution_count": 2,
   "id": "overall-advancement",
   "metadata": {
    "execution": {
     "iopub.execute_input": "2022-02-05T01:38:56.731125Z",
     "iopub.status.busy": "2022-02-05T01:38:56.730498Z",
     "iopub.status.idle": "2022-02-05T01:38:58.630608Z",
     "shell.execute_reply": "2022-02-05T01:38:58.629402Z"
    },
    "papermill": {
     "duration": 1.91732,
     "end_time": "2022-02-05T01:38:58.630762",
     "exception": false,
     "start_time": "2022-02-05T01:38:56.713442",
     "status": "completed"
    },
    "tags": []
   },
   "outputs": [],
   "source": [
    "#hide\n",
    "from scripts.read_data import read_api\n",
    "from IPython.display import HTML\n",
    "import plotly.graph_objects as go\n"
   ]
  },
  {
   "cell_type": "code",
   "execution_count": 3,
   "id": "light-crazy",
   "metadata": {
    "execution": {
     "iopub.execute_input": "2022-02-05T01:38:58.663390Z",
     "iopub.status.busy": "2022-02-05T01:38:58.661100Z",
     "iopub.status.idle": "2022-02-05T01:38:58.687673Z",
     "shell.execute_reply": "2022-02-05T01:38:58.686927Z"
    },
    "papermill": {
     "duration": 0.044595,
     "end_time": "2022-02-05T01:38:58.687815",
     "exception": false,
     "start_time": "2022-02-05T01:38:58.643220",
     "status": "completed"
    },
    "tags": []
   },
   "outputs": [],
   "source": [
    "#hide\n",
    "### ICO koreliacija"
   ]
  },
  {
   "cell_type": "code",
   "execution_count": 4,
   "id": "likely-bahrain",
   "metadata": {
    "execution": {
     "iopub.execute_input": "2022-02-05T01:38:58.725663Z",
     "iopub.status.busy": "2022-02-05T01:38:58.725061Z",
     "iopub.status.idle": "2022-02-05T01:38:59.738500Z",
     "shell.execute_reply": "2022-02-05T01:38:59.737933Z"
    },
    "papermill": {
     "duration": 1.037305,
     "end_time": "2022-02-05T01:38:59.738643",
     "exception": false,
     "start_time": "2022-02-05T01:38:58.701338",
     "status": "completed"
    },
    "tags": []
   },
   "outputs": [],
   "source": [
    "#hide\n",
    "import matplotlib.pyplot as plt\n",
    "import numpy as np\n",
    "import pandas as pd\n",
    "import seaborn as sns\n",
    "import matplotlib.pyplot as plt \n",
    "import matplotlib.dates as mdates\n",
    "import matplotlib.pyplot as plt"
   ]
  },
  {
   "cell_type": "code",
   "execution_count": 5,
   "id": "superior-blanket",
   "metadata": {
    "execution": {
     "iopub.execute_input": "2022-02-05T01:38:59.771138Z",
     "iopub.status.busy": "2022-02-05T01:38:59.769528Z",
     "iopub.status.idle": "2022-02-05T01:39:09.969713Z",
     "shell.execute_reply": "2022-02-05T01:39:09.968818Z"
    },
    "papermill": {
     "duration": 10.21877,
     "end_time": "2022-02-05T01:39:09.969855",
     "exception": false,
     "start_time": "2022-02-05T01:38:59.751085",
     "status": "completed"
    },
    "tags": []
   },
   "outputs": [
    {
     "name": "stderr",
     "output_type": "stream",
     "text": [
      "/home/runner/work/corr-app/corr-app/_notebooks/scripts/read_data.py:187: SettingWithCopyWarning:\n",
      "\n",
      "\n",
      "A value is trying to be set on a copy of a slice from a DataFrame.\n",
      "Try using .loc[row_indexer,col_indexer] = value instead\n",
      "\n",
      "See the caveats in the documentation: https://pandas.pydata.org/pandas-docs/stable/user_guide/indexing.html#returning-a-view-versus-a-copy\n",
      "\n"
     ]
    },
    {
     "name": "stderr",
     "output_type": "stream",
     "text": [
      "/home/runner/work/corr-app/corr-app/_notebooks/scripts/read_data.py:215: SettingWithCopyWarning:\n",
      "\n",
      "\n",
      "A value is trying to be set on a copy of a slice from a DataFrame.\n",
      "Try using .loc[row_indexer,col_indexer] = value instead\n",
      "\n",
      "See the caveats in the documentation: https://pandas.pydata.org/pandas-docs/stable/user_guide/indexing.html#returning-a-view-versus-a-copy\n",
      "\n"
     ]
    }
   ],
   "source": [
    "#hide\n",
    "df_all = read_api()\n",
    "#df_all = df_all.drop(['SP500', 'XAU', 'ETH', 'BTC'], axis=1)\n",
    "\n"
   ]
  },
  {
   "cell_type": "code",
   "execution_count": 6,
   "id": "mature-alert",
   "metadata": {
    "execution": {
     "iopub.execute_input": "2022-02-05T01:39:10.003482Z",
     "iopub.status.busy": "2022-02-05T01:39:10.001768Z",
     "iopub.status.idle": "2022-02-05T01:39:10.037317Z",
     "shell.execute_reply": "2022-02-05T01:39:10.036464Z"
    },
    "papermill": {
     "duration": 0.054336,
     "end_time": "2022-02-05T01:39:10.037516",
     "exception": false,
     "start_time": "2022-02-05T01:39:09.983180",
     "status": "completed"
    },
    "tags": []
   },
   "outputs": [],
   "source": [
    "#hide_input\n",
    "sum_corr = df_all.corr().sum().sort_values(ascending=True).index.values\n",
    "#df_all[sum_corr].corr()"
   ]
  },
  {
   "cell_type": "markdown",
   "id": "complex-syndicate",
   "metadata": {
    "papermill": {
     "duration": 0.013002,
     "end_time": "2022-02-05T01:39:10.064479",
     "exception": false,
     "start_time": "2022-02-05T01:39:10.051477",
     "status": "completed"
    },
    "tags": []
   },
   "source": [
    "## Išplėstinė koreliacijų matrica. "
   ]
  },
  {
   "cell_type": "code",
   "execution_count": 7,
   "id": "atomic-omaha",
   "metadata": {
    "execution": {
     "iopub.execute_input": "2022-02-05T01:39:10.096921Z",
     "iopub.status.busy": "2022-02-05T01:39:10.096308Z",
     "iopub.status.idle": "2022-02-05T01:39:11.629513Z",
     "shell.execute_reply": "2022-02-05T01:39:11.629009Z"
    },
    "papermill": {
     "duration": 1.552093,
     "end_time": "2022-02-05T01:39:11.629650",
     "exception": false,
     "start_time": "2022-02-05T01:39:10.077557",
     "status": "completed"
    },
    "tags": []
   },
   "outputs": [
    {
     "data": {
      "image/png": "[encoded data removed]",
      "text/plain": [
       "<Figure size 1080x792 with 2 Axes>"
      ]
     },
     "metadata": {
      "needs_background": "light"
     },
     "output_type": "display_data"
    }
   ],
   "source": [
    "#hide_input\n",
    "plt.figure(figsize=(15, 11))\n",
    "sns.heatmap(df_all[sum_corr].corr(), annot=True, cmap=\"cubehelix\") \n",
    "sns.set(font_scale=1.25)\n",
    "plt.savefig('corr_matrix.png', format='eps')"
   ]
  },
  {
   "cell_type": "code",
   "execution_count": 8,
   "id": "arbitrary-sullivan",
   "metadata": {
    "execution": {
     "iopub.execute_input": "2022-02-05T01:39:11.667134Z",
     "iopub.status.busy": "2022-02-05T01:39:11.665602Z",
     "iopub.status.idle": "2022-02-05T01:39:11.697099Z",
     "shell.execute_reply": "2022-02-05T01:39:11.696437Z"
    },
    "papermill": {
     "duration": 0.05203,
     "end_time": "2022-02-05T01:39:11.697228",
     "exception": false,
     "start_time": "2022-02-05T01:39:11.645198",
     "status": "completed"
    },
    "tags": []
   },
   "outputs": [],
   "source": [
    "#hide\n",
    "#df_all_mrk = read_api()"
   ]
  },
  {
   "cell_type": "code",
   "execution_count": 9,
   "id": "delayed-adapter",
   "metadata": {
    "execution": {
     "iopub.execute_input": "2022-02-05T01:39:11.732647Z",
     "iopub.status.busy": "2022-02-05T01:39:11.732030Z",
     "iopub.status.idle": "2022-02-05T01:39:11.764024Z",
     "shell.execute_reply": "2022-02-05T01:39:11.763470Z"
    },
    "papermill": {
     "duration": 0.051528,
     "end_time": "2022-02-05T01:39:11.764155",
     "exception": false,
     "start_time": "2022-02-05T01:39:11.712627",
     "status": "completed"
    },
    "tags": []
   },
   "outputs": [],
   "source": [
    "#hide\n",
    "#Koreliacijų koeficientai"
   ]
  },
  {
   "cell_type": "code",
   "execution_count": 10,
   "id": "seeing-celebration",
   "metadata": {
    "execution": {
     "iopub.execute_input": "2022-02-05T01:39:11.799002Z",
     "iopub.status.busy": "2022-02-05T01:39:11.798374Z",
     "iopub.status.idle": "2022-02-05T01:39:11.828890Z",
     "shell.execute_reply": "2022-02-05T01:39:11.828216Z"
    },
    "papermill": {
     "duration": 0.049298,
     "end_time": "2022-02-05T01:39:11.829062",
     "exception": false,
     "start_time": "2022-02-05T01:39:11.779764",
     "status": "completed"
    },
    "tags": []
   },
   "outputs": [],
   "source": [
    "#hide_input\n",
    "#sum_corr = df_all_mrk.corr().sum().sort_values(ascending=True).index.values\n",
    "#df_all_mrk[sum_corr].corr()"
   ]
  },
  {
   "cell_type": "code",
   "execution_count": 11,
   "id": "other-painting",
   "metadata": {
    "execution": {
     "iopub.execute_input": "2022-02-05T01:39:11.864569Z",
     "iopub.status.busy": "2022-02-05T01:39:11.863951Z",
     "iopub.status.idle": "2022-02-05T01:39:11.898117Z",
     "shell.execute_reply": "2022-02-05T01:39:11.897233Z"
    },
    "papermill": {
     "duration": 0.053728,
     "end_time": "2022-02-05T01:39:11.898376",
     "exception": false,
     "start_time": "2022-02-05T01:39:11.844648",
     "status": "completed"
    },
    "tags": []
   },
   "outputs": [],
   "source": [
    "#hide\n",
    "#Koreliacijos matrica. "
   ]
  },
  {
   "cell_type": "code",
   "execution_count": 12,
   "id": "modular-magnitude",
   "metadata": {
    "execution": {
     "iopub.execute_input": "2022-02-05T01:39:11.937029Z",
     "iopub.status.busy": "2022-02-05T01:39:11.936414Z",
     "iopub.status.idle": "2022-02-05T01:39:11.968076Z",
     "shell.execute_reply": "2022-02-05T01:39:11.967184Z"
    },
    "papermill": {
     "duration": 0.053189,
     "end_time": "2022-02-05T01:39:11.968282",
     "exception": false,
     "start_time": "2022-02-05T01:39:11.915093",
     "status": "completed"
    },
    "tags": []
   },
   "outputs": [],
   "source": [
    "#hide_input\n",
    "#plt.figure(figsize=(15, 8))\n",
    "#sns.heatmap(df_all_mrk[sum_corr].corr(), annot=True, cmap=\"BrBG\");\n",
    "#plt.savefig('corr_matrix_all.eps', format='eps')"
   ]
  },
  {
   "cell_type": "code",
   "execution_count": null,
   "id": "original-senator",
   "metadata": {
    "papermill": {
     "duration": 0.015135,
     "end_time": "2022-02-05T01:39:12.001650",
     "exception": false,
     "start_time": "2022-02-05T01:39:11.986515",
     "status": "completed"
    },
    "tags": []
   },
   "outputs": [],
   "source": []
  },
  {
   "cell_type": "code",
   "execution_count": null,
   "id": "saving-secretariat",
   "metadata": {
    "papermill": {
     "duration": 0.015167,
     "end_time": "2022-02-05T01:39:12.032302",
     "exception": false,
     "start_time": "2022-02-05T01:39:12.017135",
     "status": "completed"
    },
    "tags": []
   },
   "outputs": [],
   "source": []
  }
 ],
 "metadata": {
  "kernelspec": {
   "display_name": "Python 3",
   "language": "python",
   "name": "python3"
  },
  "language_info": {
   "codemirror_mode": {
    "name": "ipython",
    "version": 3
   },
   "file_extension": ".py",
   "mimetype": "text/x-python",
   "name": "python",
   "nbconvert_exporter": "python",
   "pygments_lexer": "ipython3",
   "version": "3.6.15"
  },
  "papermill": {
   "default_parameters": {},
   "duration": 17.356052,
   "end_time": "2022-02-05T01:39:12.672089",
   "environment_variables": {},
   "exception": null,
   "input_path": "App-Correlation_charts.ipynb",
   "output_path": "App-Correlation_charts.ipynb",
   "parameters": {},
   "start_time": "2022-02-05T01:38:55.316037",
   "version": "2.2.2"
  }
 },
 "nbformat": 4,
 "nbformat_minor": 5
}