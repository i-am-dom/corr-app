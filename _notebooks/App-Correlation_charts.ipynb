{
 "cells": [
  {
   "cell_type": "markdown",
   "id": "touched-facility",
   "metadata": {
    "papermill": {
     "duration": 0.019754,
     "end_time": "2022-07-27T03:21:08.641005",
     "exception": false,
     "start_time": "2022-07-27T03:21:08.621251",
     "status": "completed"
    },
    "tags": []
   },
   "source": [
    "# Koreliacijų matrica\n",
    "> Išplėstinė koreliacijų matrica. \n",
    "\n",
    "- toc: true \n",
    "- badges: true\n",
    "- comments: false\n",
    "- categories: [Dominykas Tautkus]\n",
    "- image: images/matrix.png"
   ]
  },
  {
   "cell_type": "code",
   "execution_count": null,
   "id": "premium-weekend",
   "metadata": {
    "papermill": {
     "duration": 0.013427,
     "end_time": "2022-07-27T03:21:08.669892",
     "exception": false,
     "start_time": "2022-07-27T03:21:08.656465",
     "status": "completed"
    },
    "tags": []
   },
   "outputs": [],
   "source": []
  },
  {
   "cell_type": "code",
   "execution_count": 1,
   "id": "vertical-rebate",
   "metadata": {
    "execution": {
     "iopub.execute_input": "2022-07-27T03:21:08.709226Z",
     "iopub.status.busy": "2022-07-27T03:21:08.708540Z",
     "iopub.status.idle": "2022-07-27T03:21:08.721684Z",
     "shell.execute_reply": "2022-07-27T03:21:08.721113Z"
    },
    "papermill": {
     "duration": 0.038634,
     "end_time": "2022-07-27T03:21:08.721838",
     "exception": false,
     "start_time": "2022-07-27T03:21:08.683204",
     "status": "completed"
    },
    "tags": []
   },
   "outputs": [],
   "source": [
    "#hide\n",
    "%load_ext autoreload\n",
    "%autoreload 2"
   ]
  },
  {
   "cell_type": "code",
   "execution_count": 2,
   "id": "overall-advancement",
   "metadata": {
    "execution": {
     "iopub.execute_input": "2022-07-27T03:21:08.750903Z",
     "iopub.status.busy": "2022-07-27T03:21:08.750224Z",
     "iopub.status.idle": "2022-07-27T03:21:10.334199Z",
     "shell.execute_reply": "2022-07-27T03:21:10.333653Z"
    },
    "papermill": {
     "duration": 1.600058,
     "end_time": "2022-07-27T03:21:10.334337",
     "exception": false,
     "start_time": "2022-07-27T03:21:08.734279",
     "status": "completed"
    },
    "tags": []
   },
   "outputs": [],
   "source": [
    "#hide\n",
    "from scripts.read_data import read_api\n",
    "from IPython.display import HTML\n",
    "import plotly.graph_objects as go\n"
   ]
  },
  {
   "cell_type": "code",
   "execution_count": 3,
   "id": "light-crazy",
   "metadata": {
    "execution": {
     "iopub.execute_input": "2022-07-27T03:21:10.366646Z",
     "iopub.status.busy": "2022-07-27T03:21:10.365868Z",
     "iopub.status.idle": "2022-07-27T03:21:10.393732Z",
     "shell.execute_reply": "2022-07-27T03:21:10.393211Z"
    },
    "papermill": {
     "duration": 0.046276,
     "end_time": "2022-07-27T03:21:10.393862",
     "exception": false,
     "start_time": "2022-07-27T03:21:10.347586",
     "status": "completed"
    },
    "tags": []
   },
   "outputs": [],
   "source": [
    "#hide\n",
    "### ICO koreliacija"
   ]
  },
  {
   "cell_type": "code",
   "execution_count": 4,
   "id": "likely-bahrain",
   "metadata": {
    "execution": {
     "iopub.execute_input": "2022-07-27T03:21:10.428940Z",
     "iopub.status.busy": "2022-07-27T03:21:10.427070Z",
     "iopub.status.idle": "2022-07-27T03:21:11.430768Z",
     "shell.execute_reply": "2022-07-27T03:21:11.428926Z"
    },
    "papermill": {
     "duration": 1.024329,
     "end_time": "2022-07-27T03:21:11.430971",
     "exception": false,
     "start_time": "2022-07-27T03:21:10.406642",
     "status": "completed"
    },
    "tags": []
   },
   "outputs": [],
   "source": [
    "#hide\n",
    "import matplotlib.pyplot as plt\n",
    "import numpy as np\n",
    "import pandas as pd\n",
    "import seaborn as sns\n",
    "import matplotlib.pyplot as plt \n",
    "import matplotlib.dates as mdates\n",
    "import matplotlib.pyplot as plt"
   ]
  },
  {
   "cell_type": "code",
   "execution_count": 5,
   "id": "superior-blanket",
   "metadata": {
    "execution": {
     "iopub.execute_input": "2022-07-27T03:21:11.465807Z",
     "iopub.status.busy": "2022-07-27T03:21:11.465116Z",
     "iopub.status.idle": "2022-07-27T03:21:23.980789Z",
     "shell.execute_reply": "2022-07-27T03:21:23.981498Z"
    },
    "papermill": {
     "duration": 12.535602,
     "end_time": "2022-07-27T03:21:23.981686",
     "exception": false,
     "start_time": "2022-07-27T03:21:11.446084",
     "status": "completed"
    },
    "tags": []
   },
   "outputs": [
    {
     "name": "stderr",
     "output_type": "stream",
     "text": [
      "/home/runner/work/corr-app/corr-app/_notebooks/scripts/read_data.py:187: SettingWithCopyWarning:\n",
      "\n",
      "\n",
      "A value is trying to be set on a copy of a slice from a DataFrame.\n",
      "Try using .loc[row_indexer,col_indexer] = value instead\n",
      "\n",
      "See the caveats in the documentation: https://pandas.pydata.org/pandas-docs/stable/user_guide/indexing.html#returning-a-view-versus-a-copy\n",
      "\n"
     ]
    },
    {
     "name": "stderr",
     "output_type": "stream",
     "text": [
      "/home/runner/work/corr-app/corr-app/_notebooks/scripts/read_data.py:215: SettingWithCopyWarning:\n",
      "\n",
      "\n",
      "A value is trying to be set on a copy of a slice from a DataFrame.\n",
      "Try using .loc[row_indexer,col_indexer] = value instead\n",
      "\n",
      "See the caveats in the documentation: https://pandas.pydata.org/pandas-docs/stable/user_guide/indexing.html#returning-a-view-versus-a-copy\n",
      "\n"
     ]
    }
   ],
   "source": [
    "#hide\n",
    "df_all = read_api()\n",
    "#df_all = df_all.drop(['SP500', 'XAU', 'ETH', 'BTC'], axis=1)\n",
    "\n"
   ]
  },
  {
   "cell_type": "code",
   "execution_count": 6,
   "id": "mature-alert",
   "metadata": {
    "execution": {
     "iopub.execute_input": "2022-07-27T03:21:24.023337Z",
     "iopub.status.busy": "2022-07-27T03:21:24.022492Z",
     "iopub.status.idle": "2022-07-27T03:21:24.056567Z",
     "shell.execute_reply": "2022-07-27T03:21:24.057185Z"
    },
    "papermill": {
     "duration": 0.055744,
     "end_time": "2022-07-27T03:21:24.057354",
     "exception": false,
     "start_time": "2022-07-27T03:21:24.001610",
     "status": "completed"
    },
    "tags": []
   },
   "outputs": [],
   "source": [
    "#hide_input\n",
    "sum_corr = df_all.corr().sum().sort_values(ascending=True).index.values\n",
    "#df_all[sum_corr].corr()"
   ]
  },
  {
   "cell_type": "markdown",
   "id": "complex-syndicate",
   "metadata": {
    "papermill": {
     "duration": 0.013418,
     "end_time": "2022-07-27T03:21:24.091036",
     "exception": false,
     "start_time": "2022-07-27T03:21:24.077618",
     "status": "completed"
    },
    "tags": []
   },
   "source": [
    "## Išplėstinė koreliacijų matrica. "
   ]
  },
  {
   "cell_type": "code",
   "execution_count": 7,
   "id": "atomic-omaha",
   "metadata": {
    "execution": {
     "iopub.execute_input": "2022-07-27T03:21:24.123821Z",
     "iopub.status.busy": "2022-07-27T03:21:24.123126Z",
     "iopub.status.idle": "2022-07-27T03:21:25.906705Z",
     "shell.execute_reply": "2022-07-27T03:21:25.906196Z"
    },
    "papermill": {
     "duration": 1.801506,
     "end_time": "2022-07-27T03:21:25.906853",
     "exception": false,
     "start_time": "2022-07-27T03:21:24.105347",
     "status": "completed"
    },
    "tags": []
   },
   "outputs": [
    {
     "data": {
      "image/png": "[encoded data removed]",
      "text/plain": [
       "<Figure size 1080x792 with 2 Axes>"
      ]
     },
     "metadata": {
      "needs_background": "light"
     },
     "output_type": "display_data"
    }
   ],
   "source": [
    "#hide_input\n",
    "plt.figure(figsize=(15, 11))\n",
    "sns.heatmap(df_all[sum_corr].corr(), annot=True, cmap=\"cubehelix\") \n",
    "sns.set(font_scale=1.25)\n",
    "plt.savefig('corr_matrix.png', format='eps')"
   ]
  },
  {
   "cell_type": "code",
   "execution_count": 8,
   "id": "arbitrary-sullivan",
   "metadata": {
    "execution": {
     "iopub.execute_input": "2022-07-27T03:21:25.944062Z",
     "iopub.status.busy": "2022-07-27T03:21:25.943450Z",
     "iopub.status.idle": "2022-07-27T03:21:25.969140Z",
     "shell.execute_reply": "2022-07-27T03:21:25.968650Z"
    },
    "papermill": {
     "duration": 0.047758,
     "end_time": "2022-07-27T03:21:25.969249",
     "exception": false,
     "start_time": "2022-07-27T03:21:25.921491",
     "status": "completed"
    },
    "tags": []
   },
   "outputs": [],
   "source": [
    "#hide\n",
    "#df_all_mrk = read_api()"
   ]
  },
  {
   "cell_type": "code",
   "execution_count": 9,
   "id": "delayed-adapter",
   "metadata": {
    "execution": {
     "iopub.execute_input": "2022-07-27T03:21:26.002386Z",
     "iopub.status.busy": "2022-07-27T03:21:26.001797Z",
     "iopub.status.idle": "2022-07-27T03:21:26.028786Z",
     "shell.execute_reply": "2022-07-27T03:21:26.028195Z"
    },
    "papermill": {
     "duration": 0.044602,
     "end_time": "2022-07-27T03:21:26.028898",
     "exception": false,
     "start_time": "2022-07-27T03:21:25.984296",
     "status": "completed"
    },
    "tags": []
   },
   "outputs": [],
   "source": [
    "#hide\n",
    "#Koreliacijų koeficientai"
   ]
  },
  {
   "cell_type": "code",
   "execution_count": 10,
   "id": "seeing-celebration",
   "metadata": {
    "execution": {
     "iopub.execute_input": "2022-07-27T03:21:26.070811Z",
     "iopub.status.busy": "2022-07-27T03:21:26.070180Z",
     "iopub.status.idle": "2022-07-27T03:21:26.101265Z",
     "shell.execute_reply": "2022-07-27T03:21:26.101706Z"
    },
    "papermill": {
     "duration": 0.054652,
     "end_time": "2022-07-27T03:21:26.101852",
     "exception": false,
     "start_time": "2022-07-27T03:21:26.047200",
     "status": "completed"
    },
    "tags": []
   },
   "outputs": [],
   "source": [
    "#hide_input\n",
    "#sum_corr = df_all_mrk.corr().sum().sort_values(ascending=True).index.values\n",
    "#df_all_mrk[sum_corr].corr()"
   ]
  },
  {
   "cell_type": "code",
   "execution_count": 11,
   "id": "other-painting",
   "metadata": {
    "execution": {
     "iopub.execute_input": "2022-07-27T03:21:26.136271Z",
     "iopub.status.busy": "2022-07-27T03:21:26.135407Z",
     "iopub.status.idle": "2022-07-27T03:21:26.169469Z",
     "shell.execute_reply": "2022-07-27T03:21:26.169937Z"
    },
    "papermill": {
     "duration": 0.053928,
     "end_time": "2022-07-27T03:21:26.170083",
     "exception": false,
     "start_time": "2022-07-27T03:21:26.116155",
     "status": "completed"
    },
    "tags": []
   },
   "outputs": [],
   "source": [
    "#hide\n",
    "#Koreliacijos matrica. "
   ]
  },
  {
   "cell_type": "code",
   "execution_count": 12,
   "id": "modular-magnitude",
   "metadata": {
    "execution": {
     "iopub.execute_input": "2022-07-27T03:21:26.201775Z",
     "iopub.status.busy": "2022-07-27T03:21:26.201181Z",
     "iopub.status.idle": "2022-07-27T03:21:26.231792Z",
     "shell.execute_reply": "2022-07-27T03:21:26.232311Z"
    },
    "papermill": {
     "duration": 0.048741,
     "end_time": "2022-07-27T03:21:26.232455",
     "exception": false,
     "start_time": "2022-07-27T03:21:26.183714",
     "status": "completed"
    },
    "tags": []
   },
   "outputs": [],
   "source": [
    "#hide_input\n",
    "#plt.figure(figsize=(15, 8))\n",
    "#sns.heatmap(df_all_mrk[sum_corr].corr(), annot=True, cmap=\"BrBG\");\n",
    "#plt.savefig('corr_matrix_all.eps', format='eps')"
   ]
  },
  {
   "cell_type": "code",
   "execution_count": null,
   "id": "original-senator",
   "metadata": {
    "papermill": {
     "duration": 0.019016,
     "end_time": "2022-07-27T03:21:26.273879",
     "exception": false,
     "start_time": "2022-07-27T03:21:26.254863",
     "status": "completed"
    },
    "tags": []
   },
   "outputs": [],
   "source": []
  },
  {
   "cell_type": "code",
   "execution_count": null,
   "id": "saving-secretariat",
   "metadata": {
    "papermill": {
     "duration": 0.016422,
     "end_time": "2022-07-27T03:21:26.307729",
     "exception": false,
     "start_time": "2022-07-27T03:21:26.291307",
     "status": "completed"
    },
    "tags": []
   },
   "outputs": [],
   "source": []
  }
 ],
 "metadata": {
  "kernelspec": {
   "display_name": "Python 3",
   "language": "python",
   "name": "python3"
  },
  "language_info": {
   "codemirror_mode": {
    "name": "ipython",
    "version": 3
   },
   "file_extension": ".py",
   "mimetype": "text/x-python",
   "name": "python",
   "nbconvert_exporter": "python",
   "pygments_lexer": "ipython3",
   "version": "3.6.15"
  },
  "papermill": {
   "default_parameters": {},
   "duration": 19.519236,
   "end_time": "2022-07-27T03:21:26.847756",
   "environment_variables": {},
   "exception": null,
   "input_path": "App-Correlation_charts.ipynb",
   "output_path": "App-Correlation_charts.ipynb",
   "parameters": {},
   "start_time": "2022-07-27T03:21:07.328520",
   "version": "2.2.2"
  }
 },
 "nbformat": 4,
 "nbformat_minor": 5
}