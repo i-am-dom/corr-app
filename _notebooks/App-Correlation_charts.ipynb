{
 "cells": [
  {
   "cell_type": "markdown",
   "id": "touched-facility",
   "metadata": {
    "papermill": {
     "duration": 0.019533,
     "end_time": "2022-03-09T02:16:51.468779",
     "exception": false,
     "start_time": "2022-03-09T02:16:51.449246",
     "status": "completed"
    },
    "tags": []
   },
   "source": [
    "# Koreliacijų matrica\n",
    "> Išplėstinė koreliacijų matrica. \n",
    "\n",
    "- toc: true \n",
    "- badges: true\n",
    "- comments: false\n",
    "- categories: [Dominykas Tautkus]\n",
    "- image: images/matrix.png"
   ]
  },
  {
   "cell_type": "code",
   "execution_count": null,
   "id": "premium-weekend",
   "metadata": {
    "papermill": {
     "duration": 0.014056,
     "end_time": "2022-03-09T02:16:51.498449",
     "exception": false,
     "start_time": "2022-03-09T02:16:51.484393",
     "status": "completed"
    },
    "tags": []
   },
   "outputs": [],
   "source": []
  },
  {
   "cell_type": "code",
   "execution_count": 1,
   "id": "vertical-rebate",
   "metadata": {
    "execution": {
     "iopub.execute_input": "2022-03-09T02:16:51.542132Z",
     "iopub.status.busy": "2022-03-09T02:16:51.541374Z",
     "iopub.status.idle": "2022-03-09T02:16:51.556782Z",
     "shell.execute_reply": "2022-03-09T02:16:51.556149Z"
    },
    "papermill": {
     "duration": 0.043904,
     "end_time": "2022-03-09T02:16:51.556975",
     "exception": false,
     "start_time": "2022-03-09T02:16:51.513071",
     "status": "completed"
    },
    "tags": []
   },
   "outputs": [],
   "source": [
    "#hide\n",
    "%load_ext autoreload\n",
    "%autoreload 2"
   ]
  },
  {
   "cell_type": "code",
   "execution_count": 2,
   "id": "overall-advancement",
   "metadata": {
    "execution": {
     "iopub.execute_input": "2022-03-09T02:16:51.591126Z",
     "iopub.status.busy": "2022-03-09T02:16:51.590418Z",
     "iopub.status.idle": "2022-03-09T02:16:53.529127Z",
     "shell.execute_reply": "2022-03-09T02:16:53.529699Z"
    },
    "papermill": {
     "duration": 1.957462,
     "end_time": "2022-03-09T02:16:53.529896",
     "exception": false,
     "start_time": "2022-03-09T02:16:51.572434",
     "status": "completed"
    },
    "tags": []
   },
   "outputs": [],
   "source": [
    "#hide\n",
    "from scripts.read_data import read_api\n",
    "from IPython.display import HTML\n",
    "import plotly.graph_objects as go\n"
   ]
  },
  {
   "cell_type": "code",
   "execution_count": 3,
   "id": "light-crazy",
   "metadata": {
    "execution": {
     "iopub.execute_input": "2022-03-09T02:16:53.566456Z",
     "iopub.status.busy": "2022-03-09T02:16:53.565805Z",
     "iopub.status.idle": "2022-03-09T02:16:53.593092Z",
     "shell.execute_reply": "2022-03-09T02:16:53.593610Z"
    },
    "papermill": {
     "duration": 0.049092,
     "end_time": "2022-03-09T02:16:53.593789",
     "exception": false,
     "start_time": "2022-03-09T02:16:53.544697",
     "status": "completed"
    },
    "tags": []
   },
   "outputs": [],
   "source": [
    "#hide\n",
    "### ICO koreliacija"
   ]
  },
  {
   "cell_type": "code",
   "execution_count": 4,
   "id": "likely-bahrain",
   "metadata": {
    "execution": {
     "iopub.execute_input": "2022-03-09T02:16:53.629651Z",
     "iopub.status.busy": "2022-03-09T02:16:53.628988Z",
     "iopub.status.idle": "2022-03-09T02:16:54.875341Z",
     "shell.execute_reply": "2022-03-09T02:16:54.874312Z"
    },
    "papermill": {
     "duration": 1.26661,
     "end_time": "2022-03-09T02:16:54.875489",
     "exception": false,
     "start_time": "2022-03-09T02:16:53.608879",
     "status": "completed"
    },
    "tags": []
   },
   "outputs": [],
   "source": [
    "#hide\n",
    "import matplotlib.pyplot as plt\n",
    "import numpy as np\n",
    "import pandas as pd\n",
    "import seaborn as sns\n",
    "import matplotlib.pyplot as plt \n",
    "import matplotlib.dates as mdates\n",
    "import matplotlib.pyplot as plt"
   ]
  },
  {
   "cell_type": "code",
   "execution_count": 5,
   "id": "superior-blanket",
   "metadata": {
    "execution": {
     "iopub.execute_input": "2022-03-09T02:16:54.911367Z",
     "iopub.status.busy": "2022-03-09T02:16:54.910701Z",
     "iopub.status.idle": "2022-03-09T02:17:04.348187Z",
     "shell.execute_reply": "2022-03-09T02:17:04.349296Z"
    },
    "papermill": {
     "duration": 9.457946,
     "end_time": "2022-03-09T02:17:04.349533",
     "exception": false,
     "start_time": "2022-03-09T02:16:54.891587",
     "status": "completed"
    },
    "tags": []
   },
   "outputs": [
    {
     "name": "stderr",
     "output_type": "stream",
     "text": [
      "/home/runner/work/corr-app/corr-app/_notebooks/scripts/read_data.py:187: SettingWithCopyWarning:\n",
      "\n",
      "\n",
      "A value is trying to be set on a copy of a slice from a DataFrame.\n",
      "Try using .loc[row_indexer,col_indexer] = value instead\n",
      "\n",
      "See the caveats in the documentation: https://pandas.pydata.org/pandas-docs/stable/user_guide/indexing.html#returning-a-view-versus-a-copy\n",
      "\n"
     ]
    },
    {
     "name": "stderr",
     "output_type": "stream",
     "text": [
      "/home/runner/work/corr-app/corr-app/_notebooks/scripts/read_data.py:215: SettingWithCopyWarning:\n",
      "\n",
      "\n",
      "A value is trying to be set on a copy of a slice from a DataFrame.\n",
      "Try using .loc[row_indexer,col_indexer] = value instead\n",
      "\n",
      "See the caveats in the documentation: https://pandas.pydata.org/pandas-docs/stable/user_guide/indexing.html#returning-a-view-versus-a-copy\n",
      "\n"
     ]
    }
   ],
   "source": [
    "#hide\n",
    "df_all = read_api()\n",
    "#df_all = df_all.drop(['SP500', 'XAU', 'ETH', 'BTC'], axis=1)\n",
    "\n"
   ]
  },
  {
   "cell_type": "code",
   "execution_count": 6,
   "id": "mature-alert",
   "metadata": {
    "execution": {
     "iopub.execute_input": "2022-03-09T02:17:04.387648Z",
     "iopub.status.busy": "2022-03-09T02:17:04.386591Z",
     "iopub.status.idle": "2022-03-09T02:17:04.425949Z",
     "shell.execute_reply": "2022-03-09T02:17:04.425219Z"
    },
    "papermill": {
     "duration": 0.059286,
     "end_time": "2022-03-09T02:17:04.426090",
     "exception": false,
     "start_time": "2022-03-09T02:17:04.366804",
     "status": "completed"
    },
    "tags": []
   },
   "outputs": [],
   "source": [
    "#hide_input\n",
    "sum_corr = df_all.corr().sum().sort_values(ascending=True).index.values\n",
    "#df_all[sum_corr].corr()"
   ]
  },
  {
   "cell_type": "markdown",
   "id": "complex-syndicate",
   "metadata": {
    "papermill": {
     "duration": 0.016551,
     "end_time": "2022-03-09T02:17:04.459433",
     "exception": false,
     "start_time": "2022-03-09T02:17:04.442882",
     "status": "completed"
    },
    "tags": []
   },
   "source": [
    "## Išplėstinė koreliacijų matrica. "
   ]
  },
  {
   "cell_type": "code",
   "execution_count": 7,
   "id": "atomic-omaha",
   "metadata": {
    "execution": {
     "iopub.execute_input": "2022-03-09T02:17:04.496171Z",
     "iopub.status.busy": "2022-03-09T02:17:04.495510Z",
     "iopub.status.idle": "2022-03-09T02:17:06.414440Z",
     "shell.execute_reply": "2022-03-09T02:17:06.413596Z"
    },
    "papermill": {
     "duration": 1.940283,
     "end_time": "2022-03-09T02:17:06.414728",
     "exception": false,
     "start_time": "2022-03-09T02:17:04.474445",
     "status": "completed"
    },
    "tags": []
   },
   "outputs": [
    {
     "data": {
      "image/png": "[encoded data removed]",
      "text/plain": [
       "<Figure size 1080x792 with 2 Axes>"
      ]
     },
     "metadata": {
      "needs_background": "light"
     },
     "output_type": "display_data"
    }
   ],
   "source": [
    "#hide_input\n",
    "plt.figure(figsize=(15, 11))\n",
    "sns.heatmap(df_all[sum_corr].corr(), annot=True, cmap=\"cubehelix\") \n",
    "sns.set(font_scale=1.25)\n",
    "plt.savefig('corr_matrix.png', format='eps')"
   ]
  },
  {
   "cell_type": "code",
   "execution_count": 8,
   "id": "arbitrary-sullivan",
   "metadata": {
    "execution": {
     "iopub.execute_input": "2022-03-09T02:17:06.462528Z",
     "iopub.status.busy": "2022-03-09T02:17:06.461744Z",
     "iopub.status.idle": "2022-03-09T02:17:06.493572Z",
     "shell.execute_reply": "2022-03-09T02:17:06.492825Z"
    },
    "papermill": {
     "duration": 0.059378,
     "end_time": "2022-03-09T02:17:06.493779",
     "exception": false,
     "start_time": "2022-03-09T02:17:06.434401",
     "status": "completed"
    },
    "tags": []
   },
   "outputs": [],
   "source": [
    "#hide\n",
    "#df_all_mrk = read_api()"
   ]
  },
  {
   "cell_type": "code",
   "execution_count": 9,
   "id": "delayed-adapter",
   "metadata": {
    "execution": {
     "iopub.execute_input": "2022-03-09T02:17:06.536596Z",
     "iopub.status.busy": "2022-03-09T02:17:06.535897Z",
     "iopub.status.idle": "2022-03-09T02:17:06.572333Z",
     "shell.execute_reply": "2022-03-09T02:17:06.571711Z"
    },
    "papermill": {
     "duration": 0.058303,
     "end_time": "2022-03-09T02:17:06.572492",
     "exception": false,
     "start_time": "2022-03-09T02:17:06.514189",
     "status": "completed"
    },
    "tags": []
   },
   "outputs": [],
   "source": [
    "#hide\n",
    "#Koreliacijų koeficientai"
   ]
  },
  {
   "cell_type": "code",
   "execution_count": 10,
   "id": "seeing-celebration",
   "metadata": {
    "execution": {
     "iopub.execute_input": "2022-03-09T02:17:06.615705Z",
     "iopub.status.busy": "2022-03-09T02:17:06.614893Z",
     "iopub.status.idle": "2022-03-09T02:17:06.647367Z",
     "shell.execute_reply": "2022-03-09T02:17:06.647950Z"
    },
    "papermill": {
     "duration": 0.05587,
     "end_time": "2022-03-09T02:17:06.648131",
     "exception": false,
     "start_time": "2022-03-09T02:17:06.592261",
     "status": "completed"
    },
    "tags": []
   },
   "outputs": [],
   "source": [
    "#hide_input\n",
    "#sum_corr = df_all_mrk.corr().sum().sort_values(ascending=True).index.values\n",
    "#df_all_mrk[sum_corr].corr()"
   ]
  },
  {
   "cell_type": "code",
   "execution_count": 11,
   "id": "other-painting",
   "metadata": {
    "execution": {
     "iopub.execute_input": "2022-03-09T02:17:06.688684Z",
     "iopub.status.busy": "2022-03-09T02:17:06.688018Z",
     "iopub.status.idle": "2022-03-09T02:17:06.720102Z",
     "shell.execute_reply": "2022-03-09T02:17:06.719548Z"
    },
    "papermill": {
     "duration": 0.053288,
     "end_time": "2022-03-09T02:17:06.720685",
     "exception": false,
     "start_time": "2022-03-09T02:17:06.667397",
     "status": "completed"
    },
    "tags": []
   },
   "outputs": [],
   "source": [
    "#hide\n",
    "#Koreliacijos matrica. "
   ]
  },
  {
   "cell_type": "code",
   "execution_count": 12,
   "id": "modular-magnitude",
   "metadata": {
    "execution": {
     "iopub.execute_input": "2022-03-09T02:17:06.763549Z",
     "iopub.status.busy": "2022-03-09T02:17:06.762834Z",
     "iopub.status.idle": "2022-03-09T02:17:06.795900Z",
     "shell.execute_reply": "2022-03-09T02:17:06.795231Z"
    },
    "papermill": {
     "duration": 0.056832,
     "end_time": "2022-03-09T02:17:06.796057",
     "exception": false,
     "start_time": "2022-03-09T02:17:06.739225",
     "status": "completed"
    },
    "tags": []
   },
   "outputs": [],
   "source": [
    "#hide_input\n",
    "#plt.figure(figsize=(15, 8))\n",
    "#sns.heatmap(df_all_mrk[sum_corr].corr(), annot=True, cmap=\"BrBG\");\n",
    "#plt.savefig('corr_matrix_all.eps', format='eps')"
   ]
  },
  {
   "cell_type": "code",
   "execution_count": null,
   "id": "original-senator",
   "metadata": {
    "papermill": {
     "duration": 0.017292,
     "end_time": "2022-03-09T02:17:06.830664",
     "exception": false,
     "start_time": "2022-03-09T02:17:06.813372",
     "status": "completed"
    },
    "tags": []
   },
   "outputs": [],
   "source": []
  },
  {
   "cell_type": "code",
   "execution_count": null,
   "id": "saving-secretariat",
   "metadata": {
    "papermill": {
     "duration": 0.019431,
     "end_time": "2022-03-09T02:17:06.867703",
     "exception": false,
     "start_time": "2022-03-09T02:17:06.848272",
     "status": "completed"
    },
    "tags": []
   },
   "outputs": [],
   "source": []
  }
 ],
 "metadata": {
  "kernelspec": {
   "display_name": "Python 3",
   "language": "python",
   "name": "python3"
  },
  "language_info": {
   "codemirror_mode": {
    "name": "ipython",
    "version": 3
   },
   "file_extension": ".py",
   "mimetype": "text/x-python",
   "name": "python",
   "nbconvert_exporter": "python",
   "pygments_lexer": "ipython3",
   "version": "3.6.15"
  },
  "papermill": {
   "default_parameters": {},
   "duration": 17.303256,
   "end_time": "2022-03-09T02:17:07.506211",
   "environment_variables": {},
   "exception": null,
   "input_path": "App-Correlation_charts.ipynb",
   "output_path": "App-Correlation_charts.ipynb",
   "parameters": {},
   "start_time": "2022-03-09T02:16:50.202955",
   "version": "2.2.2"
  }
 },
 "nbformat": 4,
 "nbformat_minor": 5
}