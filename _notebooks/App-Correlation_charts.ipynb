{
 "cells": [
  {
   "cell_type": "markdown",
   "id": "touched-facility",
   "metadata": {
    "papermill": {
     "duration": 0.014426,
     "end_time": "2022-04-01T02:56:37.535673",
     "exception": false,
     "start_time": "2022-04-01T02:56:37.521247",
     "status": "completed"
    },
    "tags": []
   },
   "source": [
    "# Koreliacijų matrica\n",
    "> Išplėstinė koreliacijų matrica. \n",
    "\n",
    "- toc: true \n",
    "- badges: true\n",
    "- comments: false\n",
    "- categories: [Dominykas Tautkus]\n",
    "- image: images/matrix.png"
   ]
  },
  {
   "cell_type": "code",
   "execution_count": null,
   "id": "premium-weekend",
   "metadata": {
    "papermill": {
     "duration": 0.011104,
     "end_time": "2022-04-01T02:56:37.558506",
     "exception": false,
     "start_time": "2022-04-01T02:56:37.547402",
     "status": "completed"
    },
    "tags": []
   },
   "outputs": [],
   "source": []
  },
  {
   "cell_type": "code",
   "execution_count": 1,
   "id": "vertical-rebate",
   "metadata": {
    "execution": {
     "iopub.execute_input": "2022-04-01T02:56:37.590266Z",
     "iopub.status.busy": "2022-04-01T02:56:37.589724Z",
     "iopub.status.idle": "2022-04-01T02:56:37.599397Z",
     "shell.execute_reply": "2022-04-01T02:56:37.599790Z"
    },
    "papermill": {
     "duration": 0.030435,
     "end_time": "2022-04-01T02:56:37.599922",
     "exception": false,
     "start_time": "2022-04-01T02:56:37.569487",
     "status": "completed"
    },
    "tags": []
   },
   "outputs": [],
   "source": [
    "#hide\n",
    "%load_ext autoreload\n",
    "%autoreload 2"
   ]
  },
  {
   "cell_type": "code",
   "execution_count": 2,
   "id": "overall-advancement",
   "metadata": {
    "execution": {
     "iopub.execute_input": "2022-04-01T02:56:37.624969Z",
     "iopub.status.busy": "2022-04-01T02:56:37.624472Z",
     "iopub.status.idle": "2022-04-01T02:56:38.765408Z",
     "shell.execute_reply": "2022-04-01T02:56:38.764945Z"
    },
    "papermill": {
     "duration": 1.15467,
     "end_time": "2022-04-01T02:56:38.765528",
     "exception": false,
     "start_time": "2022-04-01T02:56:37.610858",
     "status": "completed"
    },
    "tags": []
   },
   "outputs": [],
   "source": [
    "#hide\n",
    "from scripts.read_data import read_api\n",
    "from IPython.display import HTML\n",
    "import plotly.graph_objects as go\n"
   ]
  },
  {
   "cell_type": "code",
   "execution_count": 3,
   "id": "light-crazy",
   "metadata": {
    "execution": {
     "iopub.execute_input": "2022-04-01T02:56:38.791485Z",
     "iopub.status.busy": "2022-04-01T02:56:38.790979Z",
     "iopub.status.idle": "2022-04-01T02:56:38.812443Z",
     "shell.execute_reply": "2022-04-01T02:56:38.812841Z"
    },
    "papermill": {
     "duration": 0.036193,
     "end_time": "2022-04-01T02:56:38.812963",
     "exception": false,
     "start_time": "2022-04-01T02:56:38.776770",
     "status": "completed"
    },
    "tags": []
   },
   "outputs": [],
   "source": [
    "#hide\n",
    "### ICO koreliacija"
   ]
  },
  {
   "cell_type": "code",
   "execution_count": 4,
   "id": "likely-bahrain",
   "metadata": {
    "execution": {
     "iopub.execute_input": "2022-04-01T02:56:38.838032Z",
     "iopub.status.busy": "2022-04-01T02:56:38.837522Z",
     "iopub.status.idle": "2022-04-01T02:56:39.689324Z",
     "shell.execute_reply": "2022-04-01T02:56:39.688878Z"
    },
    "papermill": {
     "duration": 0.865549,
     "end_time": "2022-04-01T02:56:39.689458",
     "exception": false,
     "start_time": "2022-04-01T02:56:38.823909",
     "status": "completed"
    },
    "tags": []
   },
   "outputs": [],
   "source": [
    "#hide\n",
    "import matplotlib.pyplot as plt\n",
    "import numpy as np\n",
    "import pandas as pd\n",
    "import seaborn as sns\n",
    "import matplotlib.pyplot as plt \n",
    "import matplotlib.dates as mdates\n",
    "import matplotlib.pyplot as plt"
   ]
  },
  {
   "cell_type": "code",
   "execution_count": 5,
   "id": "superior-blanket",
   "metadata": {
    "execution": {
     "iopub.execute_input": "2022-04-01T02:56:39.716804Z",
     "iopub.status.busy": "2022-04-01T02:56:39.715694Z",
     "iopub.status.idle": "2022-04-01T02:56:52.062648Z",
     "shell.execute_reply": "2022-04-01T02:56:52.062184Z"
    },
    "papermill": {
     "duration": 12.362061,
     "end_time": "2022-04-01T02:56:52.062760",
     "exception": false,
     "start_time": "2022-04-01T02:56:39.700699",
     "status": "completed"
    },
    "tags": []
   },
   "outputs": [
    {
     "name": "stderr",
     "output_type": "stream",
     "text": [
      "/home/runner/work/corr-app/corr-app/_notebooks/scripts/read_data.py:187: SettingWithCopyWarning:\n",
      "\n",
      "\n",
      "A value is trying to be set on a copy of a slice from a DataFrame.\n",
      "Try using .loc[row_indexer,col_indexer] = value instead\n",
      "\n",
      "See the caveats in the documentation: https://pandas.pydata.org/pandas-docs/stable/user_guide/indexing.html#returning-a-view-versus-a-copy\n",
      "\n"
     ]
    },
    {
     "name": "stderr",
     "output_type": "stream",
     "text": [
      "/home/runner/work/corr-app/corr-app/_notebooks/scripts/read_data.py:215: SettingWithCopyWarning:\n",
      "\n",
      "\n",
      "A value is trying to be set on a copy of a slice from a DataFrame.\n",
      "Try using .loc[row_indexer,col_indexer] = value instead\n",
      "\n",
      "See the caveats in the documentation: https://pandas.pydata.org/pandas-docs/stable/user_guide/indexing.html#returning-a-view-versus-a-copy\n",
      "\n"
     ]
    }
   ],
   "source": [
    "#hide\n",
    "df_all = read_api()\n",
    "#df_all = df_all.drop(['SP500', 'XAU', 'ETH', 'BTC'], axis=1)\n",
    "\n"
   ]
  },
  {
   "cell_type": "code",
   "execution_count": 6,
   "id": "mature-alert",
   "metadata": {
    "execution": {
     "iopub.execute_input": "2022-04-01T02:56:52.089924Z",
     "iopub.status.busy": "2022-04-01T02:56:52.089402Z",
     "iopub.status.idle": "2022-04-01T02:56:52.118830Z",
     "shell.execute_reply": "2022-04-01T02:56:52.119250Z"
    },
    "papermill": {
     "duration": 0.044615,
     "end_time": "2022-04-01T02:56:52.119381",
     "exception": false,
     "start_time": "2022-04-01T02:56:52.074766",
     "status": "completed"
    },
    "tags": []
   },
   "outputs": [],
   "source": [
    "#hide_input\n",
    "sum_corr = df_all.corr().sum().sort_values(ascending=True).index.values\n",
    "#df_all[sum_corr].corr()"
   ]
  },
  {
   "cell_type": "markdown",
   "id": "complex-syndicate",
   "metadata": {
    "papermill": {
     "duration": 0.011469,
     "end_time": "2022-04-01T02:56:52.142473",
     "exception": false,
     "start_time": "2022-04-01T02:56:52.131004",
     "status": "completed"
    },
    "tags": []
   },
   "source": [
    "## Išplėstinė koreliacijų matrica. "
   ]
  },
  {
   "cell_type": "code",
   "execution_count": 7,
   "id": "atomic-omaha",
   "metadata": {
    "execution": {
     "iopub.execute_input": "2022-04-01T02:56:52.170084Z",
     "iopub.status.busy": "2022-04-01T02:56:52.169347Z",
     "iopub.status.idle": "2022-04-01T02:56:53.336023Z",
     "shell.execute_reply": "2022-04-01T02:56:53.335591Z"
    },
    "papermill": {
     "duration": 1.182168,
     "end_time": "2022-04-01T02:56:53.336135",
     "exception": false,
     "start_time": "2022-04-01T02:56:52.153967",
     "status": "completed"
    },
    "tags": []
   },
   "outputs": [
    {
     "data": {
      "image/png": "[encoded data removed]",
      "text/plain": [
       "<Figure size 1080x792 with 2 Axes>"
      ]
     },
     "metadata": {
      "needs_background": "light"
     },
     "output_type": "display_data"
    }
   ],
   "source": [
    "#hide_input\n",
    "plt.figure(figsize=(15, 11))\n",
    "sns.heatmap(df_all[sum_corr].corr(), annot=True, cmap=\"cubehelix\") \n",
    "sns.set(font_scale=1.25)\n",
    "plt.savefig('corr_matrix.png', format='eps')"
   ]
  },
  {
   "cell_type": "code",
   "execution_count": 8,
   "id": "arbitrary-sullivan",
   "metadata": {
    "execution": {
     "iopub.execute_input": "2022-04-01T02:56:53.370477Z",
     "iopub.status.busy": "2022-04-01T02:56:53.369980Z",
     "iopub.status.idle": "2022-04-01T02:56:53.390974Z",
     "shell.execute_reply": "2022-04-01T02:56:53.390568Z"
    },
    "papermill": {
     "duration": 0.041051,
     "end_time": "2022-04-01T02:56:53.391082",
     "exception": false,
     "start_time": "2022-04-01T02:56:53.350031",
     "status": "completed"
    },
    "tags": []
   },
   "outputs": [],
   "source": [
    "#hide\n",
    "#df_all_mrk = read_api()"
   ]
  },
  {
   "cell_type": "code",
   "execution_count": 9,
   "id": "delayed-adapter",
   "metadata": {
    "execution": {
     "iopub.execute_input": "2022-04-01T02:56:53.421401Z",
     "iopub.status.busy": "2022-04-01T02:56:53.420883Z",
     "iopub.status.idle": "2022-04-01T02:56:53.446005Z",
     "shell.execute_reply": "2022-04-01T02:56:53.445596Z"
    },
    "papermill": {
     "duration": 0.04136,
     "end_time": "2022-04-01T02:56:53.446111",
     "exception": false,
     "start_time": "2022-04-01T02:56:53.404751",
     "status": "completed"
    },
    "tags": []
   },
   "outputs": [],
   "source": [
    "#hide\n",
    "#Koreliacijų koeficientai"
   ]
  },
  {
   "cell_type": "code",
   "execution_count": 10,
   "id": "seeing-celebration",
   "metadata": {
    "execution": {
     "iopub.execute_input": "2022-04-01T02:56:53.476969Z",
     "iopub.status.busy": "2022-04-01T02:56:53.476464Z",
     "iopub.status.idle": "2022-04-01T02:56:53.500384Z",
     "shell.execute_reply": "2022-04-01T02:56:53.500776Z"
    },
    "papermill": {
     "duration": 0.04035,
     "end_time": "2022-04-01T02:56:53.500900",
     "exception": false,
     "start_time": "2022-04-01T02:56:53.460550",
     "status": "completed"
    },
    "tags": []
   },
   "outputs": [],
   "source": [
    "#hide_input\n",
    "#sum_corr = df_all_mrk.corr().sum().sort_values(ascending=True).index.values\n",
    "#df_all_mrk[sum_corr].corr()"
   ]
  },
  {
   "cell_type": "code",
   "execution_count": 11,
   "id": "other-painting",
   "metadata": {
    "execution": {
     "iopub.execute_input": "2022-04-01T02:56:53.530425Z",
     "iopub.status.busy": "2022-04-01T02:56:53.529934Z",
     "iopub.status.idle": "2022-04-01T02:56:53.554222Z",
     "shell.execute_reply": "2022-04-01T02:56:53.553815Z"
    },
    "papermill": {
     "duration": 0.039985,
     "end_time": "2022-04-01T02:56:53.554330",
     "exception": false,
     "start_time": "2022-04-01T02:56:53.514345",
     "status": "completed"
    },
    "tags": []
   },
   "outputs": [],
   "source": [
    "#hide\n",
    "#Koreliacijos matrica. "
   ]
  },
  {
   "cell_type": "code",
   "execution_count": 12,
   "id": "modular-magnitude",
   "metadata": {
    "execution": {
     "iopub.execute_input": "2022-04-01T02:56:53.583988Z",
     "iopub.status.busy": "2022-04-01T02:56:53.583495Z",
     "iopub.status.idle": "2022-04-01T02:56:53.608023Z",
     "shell.execute_reply": "2022-04-01T02:56:53.607608Z"
    },
    "papermill": {
     "duration": 0.040253,
     "end_time": "2022-04-01T02:56:53.608131",
     "exception": false,
     "start_time": "2022-04-01T02:56:53.567878",
     "status": "completed"
    },
    "tags": []
   },
   "outputs": [],
   "source": [
    "#hide_input\n",
    "#plt.figure(figsize=(15, 8))\n",
    "#sns.heatmap(df_all_mrk[sum_corr].corr(), annot=True, cmap=\"BrBG\");\n",
    "#plt.savefig('corr_matrix_all.eps', format='eps')"
   ]
  },
  {
   "cell_type": "code",
   "execution_count": null,
   "id": "original-senator",
   "metadata": {
    "papermill": {
     "duration": 0.013257,
     "end_time": "2022-04-01T02:56:53.634863",
     "exception": false,
     "start_time": "2022-04-01T02:56:53.621606",
     "status": "completed"
    },
    "tags": []
   },
   "outputs": [],
   "source": []
  },
  {
   "cell_type": "code",
   "execution_count": null,
   "id": "saving-secretariat",
   "metadata": {
    "papermill": {
     "duration": 0.013403,
     "end_time": "2022-04-01T02:56:53.661677",
     "exception": false,
     "start_time": "2022-04-01T02:56:53.648274",
     "status": "completed"
    },
    "tags": []
   },
   "outputs": [],
   "source": []
  }
 ],
 "metadata": {
  "kernelspec": {
   "display_name": "Python 3",
   "language": "python",
   "name": "python3"
  },
  "language_info": {
   "codemirror_mode": {
    "name": "ipython",
    "version": 3
   },
   "file_extension": ".py",
   "mimetype": "text/x-python",
   "name": "python",
   "nbconvert_exporter": "python",
   "pygments_lexer": "ipython3",
   "version": "3.6.15"
  },
  "papermill": {
   "default_parameters": {},
   "duration": 17.487693,
   "end_time": "2022-04-01T02:56:54.093230",
   "environment_variables": {},
   "exception": null,
   "input_path": "App-Correlation_charts.ipynb",
   "output_path": "App-Correlation_charts.ipynb",
   "parameters": {},
   "start_time": "2022-04-01T02:56:36.605537",
   "version": "2.2.2"
  }
 },
 "nbformat": 4,
 "nbformat_minor": 5
}