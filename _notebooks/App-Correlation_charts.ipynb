{
 "cells": [
  {
   "cell_type": "markdown",
   "id": "touched-facility",
   "metadata": {
    "papermill": {
     "duration": 0.014519,
     "end_time": "2022-05-11T02:58:29.183507",
     "exception": false,
     "start_time": "2022-05-11T02:58:29.168988",
     "status": "completed"
    },
    "tags": []
   },
   "source": [
    "# Koreliacijų matrica\n",
    "> Išplėstinė koreliacijų matrica. \n",
    "\n",
    "- toc: true \n",
    "- badges: true\n",
    "- comments: false\n",
    "- categories: [Dominykas Tautkus]\n",
    "- image: images/matrix.png"
   ]
  },
  {
   "cell_type": "code",
   "execution_count": null,
   "id": "premium-weekend",
   "metadata": {
    "papermill": {
     "duration": 0.010827,
     "end_time": "2022-05-11T02:58:29.206033",
     "exception": false,
     "start_time": "2022-05-11T02:58:29.195206",
     "status": "completed"
    },
    "tags": []
   },
   "outputs": [],
   "source": []
  },
  {
   "cell_type": "code",
   "execution_count": 1,
   "id": "vertical-rebate",
   "metadata": {
    "execution": {
     "iopub.execute_input": "2022-05-11T02:58:29.237951Z",
     "iopub.status.busy": "2022-05-11T02:58:29.237448Z",
     "iopub.status.idle": "2022-05-11T02:58:29.248183Z",
     "shell.execute_reply": "2022-05-11T02:58:29.247685Z"
    },
    "papermill": {
     "duration": 0.031437,
     "end_time": "2022-05-11T02:58:29.248294",
     "exception": false,
     "start_time": "2022-05-11T02:58:29.216857",
     "status": "completed"
    },
    "tags": []
   },
   "outputs": [],
   "source": [
    "#hide\n",
    "%load_ext autoreload\n",
    "%autoreload 2"
   ]
  },
  {
   "cell_type": "code",
   "execution_count": 2,
   "id": "overall-advancement",
   "metadata": {
    "execution": {
     "iopub.execute_input": "2022-05-11T02:58:29.272924Z",
     "iopub.status.busy": "2022-05-11T02:58:29.272427Z",
     "iopub.status.idle": "2022-05-11T02:58:30.958706Z",
     "shell.execute_reply": "2022-05-11T02:58:30.958202Z"
    },
    "papermill": {
     "duration": 1.699701,
     "end_time": "2022-05-11T02:58:30.958834",
     "exception": false,
     "start_time": "2022-05-11T02:58:29.259133",
     "status": "completed"
    },
    "tags": []
   },
   "outputs": [],
   "source": [
    "#hide\n",
    "from scripts.read_data import read_api\n",
    "from IPython.display import HTML\n",
    "import plotly.graph_objects as go\n"
   ]
  },
  {
   "cell_type": "code",
   "execution_count": 3,
   "id": "light-crazy",
   "metadata": {
    "execution": {
     "iopub.execute_input": "2022-05-11T02:58:30.984485Z",
     "iopub.status.busy": "2022-05-11T02:58:30.983979Z",
     "iopub.status.idle": "2022-05-11T02:58:31.010185Z",
     "shell.execute_reply": "2022-05-11T02:58:31.010578Z"
    },
    "papermill": {
     "duration": 0.040477,
     "end_time": "2022-05-11T02:58:31.010705",
     "exception": false,
     "start_time": "2022-05-11T02:58:30.970228",
     "status": "completed"
    },
    "tags": []
   },
   "outputs": [],
   "source": [
    "#hide\n",
    "### ICO koreliacija"
   ]
  },
  {
   "cell_type": "code",
   "execution_count": 4,
   "id": "likely-bahrain",
   "metadata": {
    "execution": {
     "iopub.execute_input": "2022-05-11T02:58:31.035601Z",
     "iopub.status.busy": "2022-05-11T02:58:31.035075Z",
     "iopub.status.idle": "2022-05-11T02:58:31.881227Z",
     "shell.execute_reply": "2022-05-11T02:58:31.880410Z"
    },
    "papermill": {
     "duration": 0.859763,
     "end_time": "2022-05-11T02:58:31.881359",
     "exception": false,
     "start_time": "2022-05-11T02:58:31.021596",
     "status": "completed"
    },
    "tags": []
   },
   "outputs": [],
   "source": [
    "#hide\n",
    "import matplotlib.pyplot as plt\n",
    "import numpy as np\n",
    "import pandas as pd\n",
    "import seaborn as sns\n",
    "import matplotlib.pyplot as plt \n",
    "import matplotlib.dates as mdates\n",
    "import matplotlib.pyplot as plt"
   ]
  },
  {
   "cell_type": "code",
   "execution_count": 5,
   "id": "superior-blanket",
   "metadata": {
    "execution": {
     "iopub.execute_input": "2022-05-11T02:58:31.908606Z",
     "iopub.status.busy": "2022-05-11T02:58:31.907444Z",
     "iopub.status.idle": "2022-05-11T02:58:43.988227Z",
     "shell.execute_reply": "2022-05-11T02:58:43.987768Z"
    },
    "papermill": {
     "duration": 12.095578,
     "end_time": "2022-05-11T02:58:43.988351",
     "exception": false,
     "start_time": "2022-05-11T02:58:31.892773",
     "status": "completed"
    },
    "tags": []
   },
   "outputs": [
    {
     "name": "stderr",
     "output_type": "stream",
     "text": [
      "/home/runner/work/corr-app/corr-app/_notebooks/scripts/read_data.py:187: SettingWithCopyWarning:\n",
      "\n",
      "\n",
      "A value is trying to be set on a copy of a slice from a DataFrame.\n",
      "Try using .loc[row_indexer,col_indexer] = value instead\n",
      "\n",
      "See the caveats in the documentation: https://pandas.pydata.org/pandas-docs/stable/user_guide/indexing.html#returning-a-view-versus-a-copy\n",
      "\n"
     ]
    },
    {
     "name": "stderr",
     "output_type": "stream",
     "text": [
      "/home/runner/work/corr-app/corr-app/_notebooks/scripts/read_data.py:215: SettingWithCopyWarning:\n",
      "\n",
      "\n",
      "A value is trying to be set on a copy of a slice from a DataFrame.\n",
      "Try using .loc[row_indexer,col_indexer] = value instead\n",
      "\n",
      "See the caveats in the documentation: https://pandas.pydata.org/pandas-docs/stable/user_guide/indexing.html#returning-a-view-versus-a-copy\n",
      "\n"
     ]
    }
   ],
   "source": [
    "#hide\n",
    "df_all = read_api()\n",
    "#df_all = df_all.drop(['SP500', 'XAU', 'ETH', 'BTC'], axis=1)\n",
    "\n"
   ]
  },
  {
   "cell_type": "code",
   "execution_count": 6,
   "id": "mature-alert",
   "metadata": {
    "execution": {
     "iopub.execute_input": "2022-05-11T02:58:44.017600Z",
     "iopub.status.busy": "2022-05-11T02:58:44.016418Z",
     "iopub.status.idle": "2022-05-11T02:58:44.046704Z",
     "shell.execute_reply": "2022-05-11T02:58:44.047085Z"
    },
    "papermill": {
     "duration": 0.046625,
     "end_time": "2022-05-11T02:58:44.047235",
     "exception": false,
     "start_time": "2022-05-11T02:58:44.000610",
     "status": "completed"
    },
    "tags": []
   },
   "outputs": [],
   "source": [
    "#hide_input\n",
    "sum_corr = df_all.corr().sum().sort_values(ascending=True).index.values\n",
    "#df_all[sum_corr].corr()"
   ]
  },
  {
   "cell_type": "markdown",
   "id": "complex-syndicate",
   "metadata": {
    "papermill": {
     "duration": 0.011386,
     "end_time": "2022-05-11T02:58:44.070070",
     "exception": false,
     "start_time": "2022-05-11T02:58:44.058684",
     "status": "completed"
    },
    "tags": []
   },
   "source": [
    "## Išplėstinė koreliacijų matrica. "
   ]
  },
  {
   "cell_type": "code",
   "execution_count": 7,
   "id": "atomic-omaha",
   "metadata": {
    "execution": {
     "iopub.execute_input": "2022-05-11T02:58:44.096504Z",
     "iopub.status.busy": "2022-05-11T02:58:44.096021Z",
     "iopub.status.idle": "2022-05-11T02:58:45.212847Z",
     "shell.execute_reply": "2022-05-11T02:58:45.213251Z"
    },
    "papermill": {
     "duration": 1.131925,
     "end_time": "2022-05-11T02:58:45.213389",
     "exception": false,
     "start_time": "2022-05-11T02:58:44.081464",
     "status": "completed"
    },
    "tags": []
   },
   "outputs": [
    {
     "data": {
      "image/png": "[encoded data removed]",
      "text/plain": [
       "<Figure size 1080x792 with 2 Axes>"
      ]
     },
     "metadata": {
      "needs_background": "light"
     },
     "output_type": "display_data"
    }
   ],
   "source": [
    "#hide_input\n",
    "plt.figure(figsize=(15, 11))\n",
    "sns.heatmap(df_all[sum_corr].corr(), annot=True, cmap=\"cubehelix\") \n",
    "sns.set(font_scale=1.25)\n",
    "plt.savefig('corr_matrix.png', format='eps')"
   ]
  },
  {
   "cell_type": "code",
   "execution_count": 8,
   "id": "arbitrary-sullivan",
   "metadata": {
    "execution": {
     "iopub.execute_input": "2022-05-11T02:58:45.247899Z",
     "iopub.status.busy": "2022-05-11T02:58:45.244313Z",
     "iopub.status.idle": "2022-05-11T02:58:45.272032Z",
     "shell.execute_reply": "2022-05-11T02:58:45.272412Z"
    },
    "papermill": {
     "duration": 0.045259,
     "end_time": "2022-05-11T02:58:45.272554",
     "exception": false,
     "start_time": "2022-05-11T02:58:45.227295",
     "status": "completed"
    },
    "tags": []
   },
   "outputs": [],
   "source": [
    "#hide\n",
    "#df_all_mrk = read_api()"
   ]
  },
  {
   "cell_type": "code",
   "execution_count": 9,
   "id": "delayed-adapter",
   "metadata": {
    "execution": {
     "iopub.execute_input": "2022-05-11T02:58:45.302533Z",
     "iopub.status.busy": "2022-05-11T02:58:45.302031Z",
     "iopub.status.idle": "2022-05-11T02:58:45.329393Z",
     "shell.execute_reply": "2022-05-11T02:58:45.329784Z"
    },
    "papermill": {
     "duration": 0.043843,
     "end_time": "2022-05-11T02:58:45.329915",
     "exception": false,
     "start_time": "2022-05-11T02:58:45.286072",
     "status": "completed"
    },
    "tags": []
   },
   "outputs": [],
   "source": [
    "#hide\n",
    "#Koreliacijų koeficientai"
   ]
  },
  {
   "cell_type": "code",
   "execution_count": 10,
   "id": "seeing-celebration",
   "metadata": {
    "execution": {
     "iopub.execute_input": "2022-05-11T02:58:45.362431Z",
     "iopub.status.busy": "2022-05-11T02:58:45.361832Z",
     "iopub.status.idle": "2022-05-11T02:58:45.388916Z",
     "shell.execute_reply": "2022-05-11T02:58:45.388427Z"
    },
    "papermill": {
     "duration": 0.044584,
     "end_time": "2022-05-11T02:58:45.389018",
     "exception": false,
     "start_time": "2022-05-11T02:58:45.344434",
     "status": "completed"
    },
    "tags": []
   },
   "outputs": [],
   "source": [
    "#hide_input\n",
    "#sum_corr = df_all_mrk.corr().sum().sort_values(ascending=True).index.values\n",
    "#df_all_mrk[sum_corr].corr()"
   ]
  },
  {
   "cell_type": "code",
   "execution_count": 11,
   "id": "other-painting",
   "metadata": {
    "execution": {
     "iopub.execute_input": "2022-05-11T02:58:45.418517Z",
     "iopub.status.busy": "2022-05-11T02:58:45.418042Z",
     "iopub.status.idle": "2022-05-11T02:58:45.443227Z",
     "shell.execute_reply": "2022-05-11T02:58:45.443604Z"
    },
    "papermill": {
     "duration": 0.041385,
     "end_time": "2022-05-11T02:58:45.443723",
     "exception": false,
     "start_time": "2022-05-11T02:58:45.402338",
     "status": "completed"
    },
    "tags": []
   },
   "outputs": [],
   "source": [
    "#hide\n",
    "#Koreliacijos matrica. "
   ]
  },
  {
   "cell_type": "code",
   "execution_count": 12,
   "id": "modular-magnitude",
   "metadata": {
    "execution": {
     "iopub.execute_input": "2022-05-11T02:58:45.473187Z",
     "iopub.status.busy": "2022-05-11T02:58:45.472704Z",
     "iopub.status.idle": "2022-05-11T02:58:45.498679Z",
     "shell.execute_reply": "2022-05-11T02:58:45.498266Z"
    },
    "papermill": {
     "duration": 0.041622,
     "end_time": "2022-05-11T02:58:45.498780",
     "exception": false,
     "start_time": "2022-05-11T02:58:45.457158",
     "status": "completed"
    },
    "tags": []
   },
   "outputs": [],
   "source": [
    "#hide_input\n",
    "#plt.figure(figsize=(15, 8))\n",
    "#sns.heatmap(df_all_mrk[sum_corr].corr(), annot=True, cmap=\"BrBG\");\n",
    "#plt.savefig('corr_matrix_all.eps', format='eps')"
   ]
  },
  {
   "cell_type": "code",
   "execution_count": null,
   "id": "original-senator",
   "metadata": {
    "papermill": {
     "duration": 0.013191,
     "end_time": "2022-05-11T02:58:45.525413",
     "exception": false,
     "start_time": "2022-05-11T02:58:45.512222",
     "status": "completed"
    },
    "tags": []
   },
   "outputs": [],
   "source": []
  },
  {
   "cell_type": "code",
   "execution_count": null,
   "id": "saving-secretariat",
   "metadata": {
    "papermill": {
     "duration": 0.013235,
     "end_time": "2022-05-11T02:58:45.552122",
     "exception": false,
     "start_time": "2022-05-11T02:58:45.538887",
     "status": "completed"
    },
    "tags": []
   },
   "outputs": [],
   "source": []
  }
 ],
 "metadata": {
  "kernelspec": {
   "display_name": "Python 3",
   "language": "python",
   "name": "python3"
  },
  "language_info": {
   "codemirror_mode": {
    "name": "ipython",
    "version": 3
   },
   "file_extension": ".py",
   "mimetype": "text/x-python",
   "name": "python",
   "nbconvert_exporter": "python",
   "pygments_lexer": "ipython3",
   "version": "3.6.15"
  },
  "papermill": {
   "default_parameters": {},
   "duration": 17.834896,
   "end_time": "2022-05-11T02:58:46.082576",
   "environment_variables": {},
   "exception": null,
   "input_path": "App-Correlation_charts.ipynb",
   "output_path": "App-Correlation_charts.ipynb",
   "parameters": {},
   "start_time": "2022-05-11T02:58:28.247680",
   "version": "2.2.2"
  }
 },
 "nbformat": 4,
 "nbformat_minor": 5
}