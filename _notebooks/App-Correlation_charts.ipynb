{
 "cells": [
  {
   "cell_type": "markdown",
   "id": "touched-facility",
   "metadata": {
    "papermill": {
     "duration": 0.015081,
     "end_time": "2021-11-14T01:59:04.362614",
     "exception": false,
     "start_time": "2021-11-14T01:59:04.347533",
     "status": "completed"
    },
    "tags": []
   },
   "source": [
    "# Koreliacijų matrica\n",
    "> Išplėstinė koreliacijų matrica. \n",
    "\n",
    "- toc: true \n",
    "- badges: true\n",
    "- comments: false\n",
    "- categories: [Dominykas Tautkus]\n",
    "- image: images/matrix.png"
   ]
  },
  {
   "cell_type": "code",
   "execution_count": null,
   "id": "premium-weekend",
   "metadata": {
    "papermill": {
     "duration": 0.011073,
     "end_time": "2021-11-14T01:59:04.386233",
     "exception": false,
     "start_time": "2021-11-14T01:59:04.375160",
     "status": "completed"
    },
    "tags": []
   },
   "outputs": [],
   "source": []
  },
  {
   "cell_type": "code",
   "execution_count": 1,
   "id": "vertical-rebate",
   "metadata": {
    "execution": {
     "iopub.execute_input": "2021-11-14T01:59:04.417066Z",
     "iopub.status.busy": "2021-11-14T01:59:04.416555Z",
     "iopub.status.idle": "2021-11-14T01:59:04.425905Z",
     "shell.execute_reply": "2021-11-14T01:59:04.425488Z"
    },
    "papermill": {
     "duration": 0.029068,
     "end_time": "2021-11-14T01:59:04.426024",
     "exception": false,
     "start_time": "2021-11-14T01:59:04.396956",
     "status": "completed"
    },
    "tags": []
   },
   "outputs": [],
   "source": [
    "#hide\n",
    "%load_ext autoreload\n",
    "%autoreload 2"
   ]
  },
  {
   "cell_type": "code",
   "execution_count": 2,
   "id": "overall-advancement",
   "metadata": {
    "execution": {
     "iopub.execute_input": "2021-11-14T01:59:04.450073Z",
     "iopub.status.busy": "2021-11-14T01:59:04.449571Z",
     "iopub.status.idle": "2021-11-14T01:59:05.537829Z",
     "shell.execute_reply": "2021-11-14T01:59:05.537298Z"
    },
    "papermill": {
     "duration": 1.101293,
     "end_time": "2021-11-14T01:59:05.537976",
     "exception": false,
     "start_time": "2021-11-14T01:59:04.436683",
     "status": "completed"
    },
    "tags": []
   },
   "outputs": [],
   "source": [
    "#hide\n",
    "from scripts.read_data import read_api\n",
    "from IPython.display import HTML\n",
    "import plotly.graph_objects as go\n"
   ]
  },
  {
   "cell_type": "code",
   "execution_count": 3,
   "id": "light-crazy",
   "metadata": {
    "execution": {
     "iopub.execute_input": "2021-11-14T01:59:05.566226Z",
     "iopub.status.busy": "2021-11-14T01:59:05.565689Z",
     "iopub.status.idle": "2021-11-14T01:59:05.583024Z",
     "shell.execute_reply": "2021-11-14T01:59:05.582618Z"
    },
    "papermill": {
     "duration": 0.033262,
     "end_time": "2021-11-14T01:59:05.583130",
     "exception": false,
     "start_time": "2021-11-14T01:59:05.549868",
     "status": "completed"
    },
    "tags": []
   },
   "outputs": [],
   "source": [
    "#hide\n",
    "### ICO koreliacija"
   ]
  },
  {
   "cell_type": "code",
   "execution_count": 4,
   "id": "likely-bahrain",
   "metadata": {
    "execution": {
     "iopub.execute_input": "2021-11-14T01:59:05.615975Z",
     "iopub.status.busy": "2021-11-14T01:59:05.615172Z",
     "iopub.status.idle": "2021-11-14T01:59:06.356283Z",
     "shell.execute_reply": "2021-11-14T01:59:06.355348Z"
    },
    "papermill": {
     "duration": 0.762618,
     "end_time": "2021-11-14T01:59:06.356424",
     "exception": false,
     "start_time": "2021-11-14T01:59:05.593806",
     "status": "completed"
    },
    "tags": []
   },
   "outputs": [],
   "source": [
    "#hide\n",
    "import matplotlib.pyplot as plt\n",
    "import numpy as np\n",
    "import pandas as pd\n",
    "import seaborn as sns\n",
    "import matplotlib.pyplot as plt \n",
    "import matplotlib.dates as mdates\n",
    "import matplotlib.pyplot as plt"
   ]
  },
  {
   "cell_type": "code",
   "execution_count": 5,
   "id": "superior-blanket",
   "metadata": {
    "execution": {
     "iopub.execute_input": "2021-11-14T01:59:06.379227Z",
     "iopub.status.busy": "2021-11-14T01:59:06.378610Z",
     "iopub.status.idle": "2021-11-14T01:59:19.003993Z",
     "shell.execute_reply": "2021-11-14T01:59:19.004567Z"
    },
    "papermill": {
     "duration": 12.638798,
     "end_time": "2021-11-14T01:59:19.004732",
     "exception": false,
     "start_time": "2021-11-14T01:59:06.365934",
     "status": "completed"
    },
    "tags": []
   },
   "outputs": [
    {
     "name": "stderr",
     "output_type": "stream",
     "text": [
      "/home/runner/work/corr-app/corr-app/_notebooks/scripts/read_data.py:187: SettingWithCopyWarning:\n",
      "\n",
      "\n",
      "A value is trying to be set on a copy of a slice from a DataFrame.\n",
      "Try using .loc[row_indexer,col_indexer] = value instead\n",
      "\n",
      "See the caveats in the documentation: https://pandas.pydata.org/pandas-docs/stable/user_guide/indexing.html#returning-a-view-versus-a-copy\n",
      "\n"
     ]
    },
    {
     "name": "stderr",
     "output_type": "stream",
     "text": [
      "/home/runner/work/corr-app/corr-app/_notebooks/scripts/read_data.py:215: SettingWithCopyWarning:\n",
      "\n",
      "\n",
      "A value is trying to be set on a copy of a slice from a DataFrame.\n",
      "Try using .loc[row_indexer,col_indexer] = value instead\n",
      "\n",
      "See the caveats in the documentation: https://pandas.pydata.org/pandas-docs/stable/user_guide/indexing.html#returning-a-view-versus-a-copy\n",
      "\n"
     ]
    }
   ],
   "source": [
    "#hide\n",
    "df_all = read_api()\n",
    "#df_all = df_all.drop(['SP500', 'XAU', 'ETH', 'BTC'], axis=1)\n",
    "\n"
   ]
  },
  {
   "cell_type": "code",
   "execution_count": 6,
   "id": "mature-alert",
   "metadata": {
    "execution": {
     "iopub.execute_input": "2021-11-14T01:59:19.034917Z",
     "iopub.status.busy": "2021-11-14T01:59:19.034055Z",
     "iopub.status.idle": "2021-11-14T01:59:19.058838Z",
     "shell.execute_reply": "2021-11-14T01:59:19.059306Z"
    },
    "papermill": {
     "duration": 0.041347,
     "end_time": "2021-11-14T01:59:19.059445",
     "exception": false,
     "start_time": "2021-11-14T01:59:19.018098",
     "status": "completed"
    },
    "tags": []
   },
   "outputs": [],
   "source": [
    "#hide_input\n",
    "sum_corr = df_all.corr().sum().sort_values(ascending=True).index.values\n",
    "#df_all[sum_corr].corr()"
   ]
  },
  {
   "cell_type": "markdown",
   "id": "complex-syndicate",
   "metadata": {
    "papermill": {
     "duration": 0.011268,
     "end_time": "2021-11-14T01:59:19.082346",
     "exception": false,
     "start_time": "2021-11-14T01:59:19.071078",
     "status": "completed"
    },
    "tags": []
   },
   "source": [
    "## Išplėstinė koreliacijų matrica. "
   ]
  },
  {
   "cell_type": "code",
   "execution_count": 7,
   "id": "atomic-omaha",
   "metadata": {
    "execution": {
     "iopub.execute_input": "2021-11-14T01:59:19.116826Z",
     "iopub.status.busy": "2021-11-14T01:59:19.113597Z",
     "iopub.status.idle": "2021-11-14T01:59:20.125738Z",
     "shell.execute_reply": "2021-11-14T01:59:20.126126Z"
    },
    "papermill": {
     "duration": 1.032696,
     "end_time": "2021-11-14T01:59:20.126253",
     "exception": false,
     "start_time": "2021-11-14T01:59:19.093557",
     "status": "completed"
    },
    "tags": []
   },
   "outputs": [
    {
     "data": {
      "image/png": "[encoded data removed]",
      "text/plain": [
       "<Figure size 1080x792 with 2 Axes>"
      ]
     },
     "metadata": {
      "needs_background": "light"
     },
     "output_type": "display_data"
    }
   ],
   "source": [
    "#hide_input\n",
    "plt.figure(figsize=(15, 11))\n",
    "sns.heatmap(df_all[sum_corr].corr(), annot=True, cmap=\"cubehelix\") \n",
    "sns.set(font_scale=1.25)\n",
    "plt.savefig('corr_matrix.png', format='eps')"
   ]
  },
  {
   "cell_type": "code",
   "execution_count": 8,
   "id": "arbitrary-sullivan",
   "metadata": {
    "execution": {
     "iopub.execute_input": "2021-11-14T01:59:20.156977Z",
     "iopub.status.busy": "2021-11-14T01:59:20.152124Z",
     "iopub.status.idle": "2021-11-14T01:59:20.174434Z",
     "shell.execute_reply": "2021-11-14T01:59:20.174024Z"
    },
    "papermill": {
     "duration": 0.03653,
     "end_time": "2021-11-14T01:59:20.174541",
     "exception": false,
     "start_time": "2021-11-14T01:59:20.138011",
     "status": "completed"
    },
    "tags": []
   },
   "outputs": [],
   "source": [
    "#hide\n",
    "#df_all_mrk = read_api()"
   ]
  },
  {
   "cell_type": "code",
   "execution_count": 9,
   "id": "delayed-adapter",
   "metadata": {
    "execution": {
     "iopub.execute_input": "2021-11-14T01:59:20.203630Z",
     "iopub.status.busy": "2021-11-14T01:59:20.203128Z",
     "iopub.status.idle": "2021-11-14T01:59:20.225450Z",
     "shell.execute_reply": "2021-11-14T01:59:20.225832Z"
    },
    "papermill": {
     "duration": 0.038223,
     "end_time": "2021-11-14T01:59:20.225951",
     "exception": false,
     "start_time": "2021-11-14T01:59:20.187728",
     "status": "completed"
    },
    "tags": []
   },
   "outputs": [],
   "source": [
    "#hide\n",
    "#Koreliacijų koeficientai"
   ]
  },
  {
   "cell_type": "code",
   "execution_count": 10,
   "id": "seeing-celebration",
   "metadata": {
    "execution": {
     "iopub.execute_input": "2021-11-14T01:59:20.256990Z",
     "iopub.status.busy": "2021-11-14T01:59:20.253143Z",
     "iopub.status.idle": "2021-11-14T01:59:20.273718Z",
     "shell.execute_reply": "2021-11-14T01:59:20.274156Z"
    },
    "papermill": {
     "duration": 0.035028,
     "end_time": "2021-11-14T01:59:20.274289",
     "exception": false,
     "start_time": "2021-11-14T01:59:20.239261",
     "status": "completed"
    },
    "tags": []
   },
   "outputs": [],
   "source": [
    "#hide_input\n",
    "#sum_corr = df_all_mrk.corr().sum().sort_values(ascending=True).index.values\n",
    "#df_all_mrk[sum_corr].corr()"
   ]
  },
  {
   "cell_type": "code",
   "execution_count": 11,
   "id": "other-painting",
   "metadata": {
    "execution": {
     "iopub.execute_input": "2021-11-14T01:59:20.303722Z",
     "iopub.status.busy": "2021-11-14T01:59:20.303224Z",
     "iopub.status.idle": "2021-11-14T01:59:20.324432Z",
     "shell.execute_reply": "2021-11-14T01:59:20.323949Z"
    },
    "papermill": {
     "duration": 0.036582,
     "end_time": "2021-11-14T01:59:20.324549",
     "exception": false,
     "start_time": "2021-11-14T01:59:20.287967",
     "status": "completed"
    },
    "tags": []
   },
   "outputs": [],
   "source": [
    "#hide\n",
    "#Koreliacijos matrica. "
   ]
  },
  {
   "cell_type": "code",
   "execution_count": 12,
   "id": "modular-magnitude",
   "metadata": {
    "execution": {
     "iopub.execute_input": "2021-11-14T01:59:20.358363Z",
     "iopub.status.busy": "2021-11-14T01:59:20.357866Z",
     "iopub.status.idle": "2021-11-14T01:59:20.376191Z",
     "shell.execute_reply": "2021-11-14T01:59:20.375740Z"
    },
    "papermill": {
     "duration": 0.037936,
     "end_time": "2021-11-14T01:59:20.376295",
     "exception": false,
     "start_time": "2021-11-14T01:59:20.338359",
     "status": "completed"
    },
    "tags": []
   },
   "outputs": [],
   "source": [
    "#hide_input\n",
    "#plt.figure(figsize=(15, 8))\n",
    "#sns.heatmap(df_all_mrk[sum_corr].corr(), annot=True, cmap=\"BrBG\");\n",
    "#plt.savefig('corr_matrix_all.eps', format='eps')"
   ]
  },
  {
   "cell_type": "code",
   "execution_count": null,
   "id": "original-senator",
   "metadata": {
    "papermill": {
     "duration": 0.013253,
     "end_time": "2021-11-14T01:59:20.402828",
     "exception": false,
     "start_time": "2021-11-14T01:59:20.389575",
     "status": "completed"
    },
    "tags": []
   },
   "outputs": [],
   "source": []
  },
  {
   "cell_type": "code",
   "execution_count": null,
   "id": "saving-secretariat",
   "metadata": {
    "papermill": {
     "duration": 0.013048,
     "end_time": "2021-11-14T01:59:20.429038",
     "exception": false,
     "start_time": "2021-11-14T01:59:20.415990",
     "status": "completed"
    },
    "tags": []
   },
   "outputs": [],
   "source": []
  }
 ],
 "metadata": {
  "kernelspec": {
   "display_name": "Python 3",
   "language": "python",
   "name": "python3"
  },
  "language_info": {
   "codemirror_mode": {
    "name": "ipython",
    "version": 3
   },
   "file_extension": ".py",
   "mimetype": "text/x-python",
   "name": "python",
   "nbconvert_exporter": "python",
   "pygments_lexer": "ipython3",
   "version": "3.6.15"
  },
  "papermill": {
   "default_parameters": {},
   "duration": 17.801243,
   "end_time": "2021-11-14T01:59:20.950714",
   "environment_variables": {},
   "exception": null,
   "input_path": "App-Correlation_charts.ipynb",
   "output_path": "App-Correlation_charts.ipynb",
   "parameters": {},
   "start_time": "2021-11-14T01:59:03.149471",
   "version": "2.2.2"
  }
 },
 "nbformat": 4,
 "nbformat_minor": 5
}