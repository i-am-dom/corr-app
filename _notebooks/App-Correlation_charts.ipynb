{
 "cells": [
  {
   "cell_type": "markdown",
   "id": "touched-facility",
   "metadata": {
    "papermill": {
     "duration": 0.015219,
     "end_time": "2022-01-08T02:05:12.115550",
     "exception": false,
     "start_time": "2022-01-08T02:05:12.100331",
     "status": "completed"
    },
    "tags": []
   },
   "source": [
    "# Koreliacijų matrica\n",
    "> Išplėstinė koreliacijų matrica. \n",
    "\n",
    "- toc: true \n",
    "- badges: true\n",
    "- comments: false\n",
    "- categories: [Dominykas Tautkus]\n",
    "- image: images/matrix.png"
   ]
  },
  {
   "cell_type": "code",
   "execution_count": null,
   "id": "premium-weekend",
   "metadata": {
    "papermill": {
     "duration": 0.011363,
     "end_time": "2022-01-08T02:05:12.138300",
     "exception": false,
     "start_time": "2022-01-08T02:05:12.126937",
     "status": "completed"
    },
    "tags": []
   },
   "outputs": [],
   "source": []
  },
  {
   "cell_type": "code",
   "execution_count": 1,
   "id": "vertical-rebate",
   "metadata": {
    "execution": {
     "iopub.execute_input": "2022-01-08T02:05:12.169766Z",
     "iopub.status.busy": "2022-01-08T02:05:12.169251Z",
     "iopub.status.idle": "2022-01-08T02:05:12.179668Z",
     "shell.execute_reply": "2022-01-08T02:05:12.180050Z"
    },
    "papermill": {
     "duration": 0.031284,
     "end_time": "2022-01-08T02:05:12.180194",
     "exception": false,
     "start_time": "2022-01-08T02:05:12.148910",
     "status": "completed"
    },
    "tags": []
   },
   "outputs": [],
   "source": [
    "#hide\n",
    "%load_ext autoreload\n",
    "%autoreload 2"
   ]
  },
  {
   "cell_type": "code",
   "execution_count": 2,
   "id": "overall-advancement",
   "metadata": {
    "execution": {
     "iopub.execute_input": "2022-01-08T02:05:12.208872Z",
     "iopub.status.busy": "2022-01-08T02:05:12.208346Z",
     "iopub.status.idle": "2022-01-08T02:05:13.341626Z",
     "shell.execute_reply": "2022-01-08T02:05:13.341091Z"
    },
    "papermill": {
     "duration": 1.151085,
     "end_time": "2022-01-08T02:05:13.341770",
     "exception": false,
     "start_time": "2022-01-08T02:05:12.190685",
     "status": "completed"
    },
    "tags": []
   },
   "outputs": [],
   "source": [
    "#hide\n",
    "from scripts.read_data import read_api\n",
    "from IPython.display import HTML\n",
    "import plotly.graph_objects as go\n"
   ]
  },
  {
   "cell_type": "code",
   "execution_count": 3,
   "id": "light-crazy",
   "metadata": {
    "execution": {
     "iopub.execute_input": "2022-01-08T02:05:13.369429Z",
     "iopub.status.busy": "2022-01-08T02:05:13.368865Z",
     "iopub.status.idle": "2022-01-08T02:05:13.389215Z",
     "shell.execute_reply": "2022-01-08T02:05:13.389658Z"
    },
    "papermill": {
     "duration": 0.036439,
     "end_time": "2022-01-08T02:05:13.389805",
     "exception": false,
     "start_time": "2022-01-08T02:05:13.353366",
     "status": "completed"
    },
    "tags": []
   },
   "outputs": [],
   "source": [
    "#hide\n",
    "### ICO koreliacija"
   ]
  },
  {
   "cell_type": "code",
   "execution_count": 4,
   "id": "likely-bahrain",
   "metadata": {
    "execution": {
     "iopub.execute_input": "2022-01-08T02:05:13.414910Z",
     "iopub.status.busy": "2022-01-08T02:05:13.414416Z",
     "iopub.status.idle": "2022-01-08T02:05:14.289769Z",
     "shell.execute_reply": "2022-01-08T02:05:14.289230Z"
    },
    "papermill": {
     "duration": 0.888758,
     "end_time": "2022-01-08T02:05:14.289911",
     "exception": false,
     "start_time": "2022-01-08T02:05:13.401153",
     "status": "completed"
    },
    "tags": []
   },
   "outputs": [],
   "source": [
    "#hide\n",
    "import matplotlib.pyplot as plt\n",
    "import numpy as np\n",
    "import pandas as pd\n",
    "import seaborn as sns\n",
    "import matplotlib.pyplot as plt \n",
    "import matplotlib.dates as mdates\n",
    "import matplotlib.pyplot as plt"
   ]
  },
  {
   "cell_type": "code",
   "execution_count": 5,
   "id": "superior-blanket",
   "metadata": {
    "execution": {
     "iopub.execute_input": "2022-01-08T02:05:14.416220Z",
     "iopub.status.busy": "2022-01-08T02:05:14.415293Z",
     "iopub.status.idle": "2022-01-08T02:05:26.653623Z",
     "shell.execute_reply": "2022-01-08T02:05:26.653107Z"
    },
    "papermill": {
     "duration": 12.34841,
     "end_time": "2022-01-08T02:05:26.653750",
     "exception": false,
     "start_time": "2022-01-08T02:05:14.305340",
     "status": "completed"
    },
    "tags": []
   },
   "outputs": [
    {
     "name": "stderr",
     "output_type": "stream",
     "text": [
      "/home/runner/work/corr-app/corr-app/_notebooks/scripts/read_data.py:187: SettingWithCopyWarning:\n",
      "\n",
      "\n",
      "A value is trying to be set on a copy of a slice from a DataFrame.\n",
      "Try using .loc[row_indexer,col_indexer] = value instead\n",
      "\n",
      "See the caveats in the documentation: https://pandas.pydata.org/pandas-docs/stable/user_guide/indexing.html#returning-a-view-versus-a-copy\n",
      "\n"
     ]
    },
    {
     "name": "stderr",
     "output_type": "stream",
     "text": [
      "/home/runner/work/corr-app/corr-app/_notebooks/scripts/read_data.py:215: SettingWithCopyWarning:\n",
      "\n",
      "\n",
      "A value is trying to be set on a copy of a slice from a DataFrame.\n",
      "Try using .loc[row_indexer,col_indexer] = value instead\n",
      "\n",
      "See the caveats in the documentation: https://pandas.pydata.org/pandas-docs/stable/user_guide/indexing.html#returning-a-view-versus-a-copy\n",
      "\n"
     ]
    }
   ],
   "source": [
    "#hide\n",
    "df_all = read_api()\n",
    "#df_all = df_all.drop(['SP500', 'XAU', 'ETH', 'BTC'], axis=1)\n",
    "\n"
   ]
  },
  {
   "cell_type": "code",
   "execution_count": 6,
   "id": "mature-alert",
   "metadata": {
    "execution": {
     "iopub.execute_input": "2022-01-08T02:05:26.697131Z",
     "iopub.status.busy": "2022-01-08T02:05:26.687325Z",
     "iopub.status.idle": "2022-01-08T02:05:26.715959Z",
     "shell.execute_reply": "2022-01-08T02:05:26.715530Z"
    },
    "papermill": {
     "duration": 0.050592,
     "end_time": "2022-01-08T02:05:26.716068",
     "exception": false,
     "start_time": "2022-01-08T02:05:26.665476",
     "status": "completed"
    },
    "tags": []
   },
   "outputs": [],
   "source": [
    "#hide_input\n",
    "sum_corr = df_all.corr().sum().sort_values(ascending=True).index.values\n",
    "#df_all[sum_corr].corr()"
   ]
  },
  {
   "cell_type": "markdown",
   "id": "complex-syndicate",
   "metadata": {
    "papermill": {
     "duration": 0.010986,
     "end_time": "2022-01-08T02:05:26.738179",
     "exception": false,
     "start_time": "2022-01-08T02:05:26.727193",
     "status": "completed"
    },
    "tags": []
   },
   "source": [
    "## Išplėstinė koreliacijų matrica. "
   ]
  },
  {
   "cell_type": "code",
   "execution_count": 7,
   "id": "atomic-omaha",
   "metadata": {
    "execution": {
     "iopub.execute_input": "2022-01-08T02:05:26.769254Z",
     "iopub.status.busy": "2022-01-08T02:05:26.765720Z",
     "iopub.status.idle": "2022-01-08T02:05:28.007073Z",
     "shell.execute_reply": "2022-01-08T02:05:28.007469Z"
    },
    "papermill": {
     "duration": 1.258419,
     "end_time": "2022-01-08T02:05:28.007618",
     "exception": false,
     "start_time": "2022-01-08T02:05:26.749199",
     "status": "completed"
    },
    "tags": []
   },
   "outputs": [
    {
     "data": {
      "image/png": "[encoded data removed]",
      "text/plain": [
       "<Figure size 1080x792 with 2 Axes>"
      ]
     },
     "metadata": {
      "needs_background": "light"
     },
     "output_type": "display_data"
    }
   ],
   "source": [
    "#hide_input\n",
    "plt.figure(figsize=(15, 11))\n",
    "sns.heatmap(df_all[sum_corr].corr(), annot=True, cmap=\"cubehelix\") \n",
    "sns.set(font_scale=1.25)\n",
    "plt.savefig('corr_matrix.png', format='eps')"
   ]
  },
  {
   "cell_type": "code",
   "execution_count": 8,
   "id": "arbitrary-sullivan",
   "metadata": {
    "execution": {
     "iopub.execute_input": "2022-01-08T02:05:28.041668Z",
     "iopub.status.busy": "2022-01-08T02:05:28.041154Z",
     "iopub.status.idle": "2022-01-08T02:05:28.065825Z",
     "shell.execute_reply": "2022-01-08T02:05:28.066233Z"
    },
    "papermill": {
     "duration": 0.045214,
     "end_time": "2022-01-08T02:05:28.066364",
     "exception": false,
     "start_time": "2022-01-08T02:05:28.021150",
     "status": "completed"
    },
    "tags": []
   },
   "outputs": [],
   "source": [
    "#hide\n",
    "#df_all_mrk = read_api()"
   ]
  },
  {
   "cell_type": "code",
   "execution_count": 9,
   "id": "delayed-adapter",
   "metadata": {
    "execution": {
     "iopub.execute_input": "2022-01-08T02:05:28.109192Z",
     "iopub.status.busy": "2022-01-08T02:05:28.098577Z",
     "iopub.status.idle": "2022-01-08T02:05:28.126001Z",
     "shell.execute_reply": "2022-01-08T02:05:28.125597Z"
    },
    "papermill": {
     "duration": 0.045807,
     "end_time": "2022-01-08T02:05:28.126108",
     "exception": false,
     "start_time": "2022-01-08T02:05:28.080301",
     "status": "completed"
    },
    "tags": []
   },
   "outputs": [],
   "source": [
    "#hide\n",
    "#Koreliacijų koeficientai"
   ]
  },
  {
   "cell_type": "code",
   "execution_count": 10,
   "id": "seeing-celebration",
   "metadata": {
    "execution": {
     "iopub.execute_input": "2022-01-08T02:05:28.155964Z",
     "iopub.status.busy": "2022-01-08T02:05:28.155466Z",
     "iopub.status.idle": "2022-01-08T02:05:28.181899Z",
     "shell.execute_reply": "2022-01-08T02:05:28.181452Z"
    },
    "papermill": {
     "duration": 0.042745,
     "end_time": "2022-01-08T02:05:28.182017",
     "exception": false,
     "start_time": "2022-01-08T02:05:28.139272",
     "status": "completed"
    },
    "tags": []
   },
   "outputs": [],
   "source": [
    "#hide_input\n",
    "#sum_corr = df_all_mrk.corr().sum().sort_values(ascending=True).index.values\n",
    "#df_all_mrk[sum_corr].corr()"
   ]
  },
  {
   "cell_type": "code",
   "execution_count": 11,
   "id": "other-painting",
   "metadata": {
    "execution": {
     "iopub.execute_input": "2022-01-08T02:05:28.213686Z",
     "iopub.status.busy": "2022-01-08T02:05:28.213181Z",
     "iopub.status.idle": "2022-01-08T02:05:28.238331Z",
     "shell.execute_reply": "2022-01-08T02:05:28.237903Z"
    },
    "papermill": {
     "duration": 0.042949,
     "end_time": "2022-01-08T02:05:28.238435",
     "exception": false,
     "start_time": "2022-01-08T02:05:28.195486",
     "status": "completed"
    },
    "tags": []
   },
   "outputs": [],
   "source": [
    "#hide\n",
    "#Koreliacijos matrica. "
   ]
  },
  {
   "cell_type": "code",
   "execution_count": 12,
   "id": "modular-magnitude",
   "metadata": {
    "execution": {
     "iopub.execute_input": "2022-01-08T02:05:28.273174Z",
     "iopub.status.busy": "2022-01-08T02:05:28.269102Z",
     "iopub.status.idle": "2022-01-08T02:05:28.294903Z",
     "shell.execute_reply": "2022-01-08T02:05:28.294438Z"
    },
    "papermill": {
     "duration": 0.043414,
     "end_time": "2022-01-08T02:05:28.295027",
     "exception": false,
     "start_time": "2022-01-08T02:05:28.251613",
     "status": "completed"
    },
    "tags": []
   },
   "outputs": [],
   "source": [
    "#hide_input\n",
    "#plt.figure(figsize=(15, 8))\n",
    "#sns.heatmap(df_all_mrk[sum_corr].corr(), annot=True, cmap=\"BrBG\");\n",
    "#plt.savefig('corr_matrix_all.eps', format='eps')"
   ]
  },
  {
   "cell_type": "code",
   "execution_count": null,
   "id": "original-senator",
   "metadata": {
    "papermill": {
     "duration": 0.012885,
     "end_time": "2022-01-08T02:05:28.321948",
     "exception": false,
     "start_time": "2022-01-08T02:05:28.309063",
     "status": "completed"
    },
    "tags": []
   },
   "outputs": [],
   "source": []
  },
  {
   "cell_type": "code",
   "execution_count": null,
   "id": "saving-secretariat",
   "metadata": {
    "papermill": {
     "duration": 0.013811,
     "end_time": "2022-01-08T02:05:28.348711",
     "exception": false,
     "start_time": "2022-01-08T02:05:28.334900",
     "status": "completed"
    },
    "tags": []
   },
   "outputs": [],
   "source": []
  }
 ],
 "metadata": {
  "kernelspec": {
   "display_name": "Python 3",
   "language": "python",
   "name": "python3"
  },
  "language_info": {
   "codemirror_mode": {
    "name": "ipython",
    "version": 3
   },
   "file_extension": ".py",
   "mimetype": "text/x-python",
   "name": "python",
   "nbconvert_exporter": "python",
   "pygments_lexer": "ipython3",
   "version": "3.6.15"
  },
  "papermill": {
   "default_parameters": {},
   "duration": 17.689921,
   "end_time": "2022-01-08T02:05:28.870457",
   "environment_variables": {},
   "exception": null,
   "input_path": "App-Correlation_charts.ipynb",
   "output_path": "App-Correlation_charts.ipynb",
   "parameters": {},
   "start_time": "2022-01-08T02:05:11.180536",
   "version": "2.2.2"
  }
 },
 "nbformat": 4,
 "nbformat_minor": 5
}