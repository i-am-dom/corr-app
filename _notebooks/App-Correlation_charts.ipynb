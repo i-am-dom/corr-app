{
 "cells": [
  {
   "cell_type": "markdown",
   "id": "touched-facility",
   "metadata": {
    "papermill": {
     "duration": 0.014655,
     "end_time": "2022-08-25T03:35:45.431219",
     "exception": false,
     "start_time": "2022-08-25T03:35:45.416564",
     "status": "completed"
    },
    "tags": []
   },
   "source": [
    "# Koreliacijų matrica\n",
    "> Išplėstinė koreliacijų matrica. \n",
    "\n",
    "- toc: true \n",
    "- badges: true\n",
    "- comments: false\n",
    "- categories: [Dominykas Tautkus]\n",
    "- image: images/matrix.png"
   ]
  },
  {
   "cell_type": "code",
   "execution_count": null,
   "id": "premium-weekend",
   "metadata": {
    "papermill": {
     "duration": 0.010715,
     "end_time": "2022-08-25T03:35:45.453713",
     "exception": false,
     "start_time": "2022-08-25T03:35:45.442998",
     "status": "completed"
    },
    "tags": []
   },
   "outputs": [],
   "source": []
  },
  {
   "cell_type": "code",
   "execution_count": 1,
   "id": "vertical-rebate",
   "metadata": {
    "execution": {
     "iopub.execute_input": "2022-08-25T03:35:45.485235Z",
     "iopub.status.busy": "2022-08-25T03:35:45.484662Z",
     "iopub.status.idle": "2022-08-25T03:35:45.495376Z",
     "shell.execute_reply": "2022-08-25T03:35:45.494908Z"
    },
    "papermill": {
     "duration": 0.030942,
     "end_time": "2022-08-25T03:35:45.495487",
     "exception": false,
     "start_time": "2022-08-25T03:35:45.464545",
     "status": "completed"
    },
    "tags": []
   },
   "outputs": [],
   "source": [
    "#hide\n",
    "%load_ext autoreload\n",
    "%autoreload 2"
   ]
  },
  {
   "cell_type": "code",
   "execution_count": 2,
   "id": "overall-advancement",
   "metadata": {
    "execution": {
     "iopub.execute_input": "2022-08-25T03:35:45.520746Z",
     "iopub.status.busy": "2022-08-25T03:35:45.520190Z",
     "iopub.status.idle": "2022-08-25T03:35:46.644517Z",
     "shell.execute_reply": "2022-08-25T03:35:46.644043Z"
    },
    "papermill": {
     "duration": 1.138231,
     "end_time": "2022-08-25T03:35:46.644634",
     "exception": false,
     "start_time": "2022-08-25T03:35:45.506403",
     "status": "completed"
    },
    "tags": []
   },
   "outputs": [],
   "source": [
    "#hide\n",
    "from scripts.read_data import read_api\n",
    "from IPython.display import HTML\n",
    "import plotly.graph_objects as go\n"
   ]
  },
  {
   "cell_type": "code",
   "execution_count": 3,
   "id": "light-crazy",
   "metadata": {
    "execution": {
     "iopub.execute_input": "2022-08-25T03:35:46.672513Z",
     "iopub.status.busy": "2022-08-25T03:35:46.671632Z",
     "iopub.status.idle": "2022-08-25T03:35:46.692543Z",
     "shell.execute_reply": "2022-08-25T03:35:46.692961Z"
    },
    "papermill": {
     "duration": 0.03738,
     "end_time": "2022-08-25T03:35:46.693090",
     "exception": false,
     "start_time": "2022-08-25T03:35:46.655710",
     "status": "completed"
    },
    "tags": []
   },
   "outputs": [],
   "source": [
    "#hide\n",
    "### ICO koreliacija"
   ]
  },
  {
   "cell_type": "code",
   "execution_count": 4,
   "id": "likely-bahrain",
   "metadata": {
    "execution": {
     "iopub.execute_input": "2022-08-25T03:35:46.718624Z",
     "iopub.status.busy": "2022-08-25T03:35:46.718064Z",
     "iopub.status.idle": "2022-08-25T03:35:47.539235Z",
     "shell.execute_reply": "2022-08-25T03:35:47.538756Z"
    },
    "papermill": {
     "duration": 0.835392,
     "end_time": "2022-08-25T03:35:47.539351",
     "exception": false,
     "start_time": "2022-08-25T03:35:46.703959",
     "status": "completed"
    },
    "tags": []
   },
   "outputs": [],
   "source": [
    "#hide\n",
    "import matplotlib.pyplot as plt\n",
    "import numpy as np\n",
    "import pandas as pd\n",
    "import seaborn as sns\n",
    "import matplotlib.pyplot as plt \n",
    "import matplotlib.dates as mdates\n",
    "import matplotlib.pyplot as plt"
   ]
  },
  {
   "cell_type": "code",
   "execution_count": 5,
   "id": "superior-blanket",
   "metadata": {
    "execution": {
     "iopub.execute_input": "2022-08-25T03:35:47.566491Z",
     "iopub.status.busy": "2022-08-25T03:35:47.565895Z",
     "iopub.status.idle": "2022-08-25T03:35:58.985557Z",
     "shell.execute_reply": "2022-08-25T03:35:58.984573Z"
    },
    "papermill": {
     "duration": 11.435189,
     "end_time": "2022-08-25T03:35:58.985692",
     "exception": false,
     "start_time": "2022-08-25T03:35:47.550503",
     "status": "completed"
    },
    "tags": []
   },
   "outputs": [
    {
     "name": "stderr",
     "output_type": "stream",
     "text": [
      "/home/runner/work/corr-app/corr-app/_notebooks/scripts/read_data.py:187: SettingWithCopyWarning:\n",
      "\n",
      "\n",
      "A value is trying to be set on a copy of a slice from a DataFrame.\n",
      "Try using .loc[row_indexer,col_indexer] = value instead\n",
      "\n",
      "See the caveats in the documentation: https://pandas.pydata.org/pandas-docs/stable/user_guide/indexing.html#returning-a-view-versus-a-copy\n",
      "\n"
     ]
    },
    {
     "name": "stderr",
     "output_type": "stream",
     "text": [
      "/home/runner/work/corr-app/corr-app/_notebooks/scripts/read_data.py:215: SettingWithCopyWarning:\n",
      "\n",
      "\n",
      "A value is trying to be set on a copy of a slice from a DataFrame.\n",
      "Try using .loc[row_indexer,col_indexer] = value instead\n",
      "\n",
      "See the caveats in the documentation: https://pandas.pydata.org/pandas-docs/stable/user_guide/indexing.html#returning-a-view-versus-a-copy\n",
      "\n"
     ]
    }
   ],
   "source": [
    "#hide\n",
    "df_all = read_api()\n",
    "#df_all = df_all.drop(['SP500', 'XAU', 'ETH', 'BTC'], axis=1)\n",
    "\n"
   ]
  },
  {
   "cell_type": "code",
   "execution_count": 6,
   "id": "mature-alert",
   "metadata": {
    "execution": {
     "iopub.execute_input": "2022-08-25T03:35:59.013878Z",
     "iopub.status.busy": "2022-08-25T03:35:59.013273Z",
     "iopub.status.idle": "2022-08-25T03:35:59.042803Z",
     "shell.execute_reply": "2022-08-25T03:35:59.042290Z"
    },
    "papermill": {
     "duration": 0.044391,
     "end_time": "2022-08-25T03:35:59.042913",
     "exception": false,
     "start_time": "2022-08-25T03:35:58.998522",
     "status": "completed"
    },
    "tags": []
   },
   "outputs": [],
   "source": [
    "#hide_input\n",
    "sum_corr = df_all.corr().sum().sort_values(ascending=True).index.values\n",
    "#df_all[sum_corr].corr()"
   ]
  },
  {
   "cell_type": "markdown",
   "id": "complex-syndicate",
   "metadata": {
    "papermill": {
     "duration": 0.011461,
     "end_time": "2022-08-25T03:35:59.065937",
     "exception": false,
     "start_time": "2022-08-25T03:35:59.054476",
     "status": "completed"
    },
    "tags": []
   },
   "source": [
    "## Išplėstinė koreliacijų matrica. "
   ]
  },
  {
   "cell_type": "code",
   "execution_count": 7,
   "id": "atomic-omaha",
   "metadata": {
    "execution": {
     "iopub.execute_input": "2022-08-25T03:35:59.094038Z",
     "iopub.status.busy": "2022-08-25T03:35:59.093455Z",
     "iopub.status.idle": "2022-08-25T03:36:00.228269Z",
     "shell.execute_reply": "2022-08-25T03:36:00.227798Z"
    },
    "papermill": {
     "duration": 1.15096,
     "end_time": "2022-08-25T03:36:00.228387",
     "exception": false,
     "start_time": "2022-08-25T03:35:59.077427",
     "status": "completed"
    },
    "tags": []
   },
   "outputs": [
    {
     "data": {
      "image/png": "[encoded data removed]",
      "text/plain": [
       "<Figure size 1080x792 with 2 Axes>"
      ]
     },
     "metadata": {
      "needs_background": "light"
     },
     "output_type": "display_data"
    }
   ],
   "source": [
    "#hide_input\n",
    "plt.figure(figsize=(15, 11))\n",
    "sns.heatmap(df_all[sum_corr].corr(), annot=True, cmap=\"cubehelix\") \n",
    "sns.set(font_scale=1.25)\n",
    "plt.savefig('corr_matrix.png', format='eps')"
   ]
  },
  {
   "cell_type": "code",
   "execution_count": 8,
   "id": "arbitrary-sullivan",
   "metadata": {
    "execution": {
     "iopub.execute_input": "2022-08-25T03:36:00.266461Z",
     "iopub.status.busy": "2022-08-25T03:36:00.259007Z",
     "iopub.status.idle": "2022-08-25T03:36:00.285483Z",
     "shell.execute_reply": "2022-08-25T03:36:00.284863Z"
    },
    "papermill": {
     "duration": 0.043381,
     "end_time": "2022-08-25T03:36:00.285601",
     "exception": false,
     "start_time": "2022-08-25T03:36:00.242220",
     "status": "completed"
    },
    "tags": []
   },
   "outputs": [],
   "source": [
    "#hide\n",
    "#df_all_mrk = read_api()"
   ]
  },
  {
   "cell_type": "code",
   "execution_count": 9,
   "id": "delayed-adapter",
   "metadata": {
    "execution": {
     "iopub.execute_input": "2022-08-25T03:36:00.315834Z",
     "iopub.status.busy": "2022-08-25T03:36:00.315270Z",
     "iopub.status.idle": "2022-08-25T03:36:00.341157Z",
     "shell.execute_reply": "2022-08-25T03:36:00.340689Z"
    },
    "papermill": {
     "duration": 0.042139,
     "end_time": "2022-08-25T03:36:00.341272",
     "exception": false,
     "start_time": "2022-08-25T03:36:00.299133",
     "status": "completed"
    },
    "tags": []
   },
   "outputs": [],
   "source": [
    "#hide\n",
    "#Koreliacijų koeficientai"
   ]
  },
  {
   "cell_type": "code",
   "execution_count": 10,
   "id": "seeing-celebration",
   "metadata": {
    "execution": {
     "iopub.execute_input": "2022-08-25T03:36:00.374323Z",
     "iopub.status.busy": "2022-08-25T03:36:00.372208Z",
     "iopub.status.idle": "2022-08-25T03:36:00.398132Z",
     "shell.execute_reply": "2022-08-25T03:36:00.397576Z"
    },
    "papermill": {
     "duration": 0.043201,
     "end_time": "2022-08-25T03:36:00.398243",
     "exception": false,
     "start_time": "2022-08-25T03:36:00.355042",
     "status": "completed"
    },
    "tags": []
   },
   "outputs": [],
   "source": [
    "#hide_input\n",
    "#sum_corr = df_all_mrk.corr().sum().sort_values(ascending=True).index.values\n",
    "#df_all_mrk[sum_corr].corr()"
   ]
  },
  {
   "cell_type": "code",
   "execution_count": 11,
   "id": "other-painting",
   "metadata": {
    "execution": {
     "iopub.execute_input": "2022-08-25T03:36:00.428418Z",
     "iopub.status.busy": "2022-08-25T03:36:00.427861Z",
     "iopub.status.idle": "2022-08-25T03:36:00.453686Z",
     "shell.execute_reply": "2022-08-25T03:36:00.453186Z"
    },
    "papermill": {
     "duration": 0.042122,
     "end_time": "2022-08-25T03:36:00.453798",
     "exception": false,
     "start_time": "2022-08-25T03:36:00.411676",
     "status": "completed"
    },
    "tags": []
   },
   "outputs": [],
   "source": [
    "#hide\n",
    "#Koreliacijos matrica. "
   ]
  },
  {
   "cell_type": "code",
   "execution_count": 12,
   "id": "modular-magnitude",
   "metadata": {
    "execution": {
     "iopub.execute_input": "2022-08-25T03:36:00.484527Z",
     "iopub.status.busy": "2022-08-25T03:36:00.483963Z",
     "iopub.status.idle": "2022-08-25T03:36:00.509990Z",
     "shell.execute_reply": "2022-08-25T03:36:00.509488Z"
    },
    "papermill": {
     "duration": 0.042702,
     "end_time": "2022-08-25T03:36:00.510102",
     "exception": false,
     "start_time": "2022-08-25T03:36:00.467400",
     "status": "completed"
    },
    "tags": []
   },
   "outputs": [],
   "source": [
    "#hide_input\n",
    "#plt.figure(figsize=(15, 8))\n",
    "#sns.heatmap(df_all_mrk[sum_corr].corr(), annot=True, cmap=\"BrBG\");\n",
    "#plt.savefig('corr_matrix_all.eps', format='eps')"
   ]
  },
  {
   "cell_type": "code",
   "execution_count": null,
   "id": "original-senator",
   "metadata": {
    "papermill": {
     "duration": 0.013318,
     "end_time": "2022-08-25T03:36:00.536869",
     "exception": false,
     "start_time": "2022-08-25T03:36:00.523551",
     "status": "completed"
    },
    "tags": []
   },
   "outputs": [],
   "source": []
  },
  {
   "cell_type": "code",
   "execution_count": null,
   "id": "saving-secretariat",
   "metadata": {
    "papermill": {
     "duration": 0.01332,
     "end_time": "2022-08-25T03:36:00.563577",
     "exception": false,
     "start_time": "2022-08-25T03:36:00.550257",
     "status": "completed"
    },
    "tags": []
   },
   "outputs": [],
   "source": []
  }
 ],
 "metadata": {
  "kernelspec": {
   "display_name": "Python 3",
   "language": "python",
   "name": "python3"
  },
  "language_info": {
   "codemirror_mode": {
    "name": "ipython",
    "version": 3
   },
   "file_extension": ".py",
   "mimetype": "text/x-python",
   "name": "python",
   "nbconvert_exporter": "python",
   "pygments_lexer": "ipython3",
   "version": "3.6.15"
  },
  "papermill": {
   "default_parameters": {},
   "duration": 16.598775,
   "end_time": "2022-08-25T03:36:01.095298",
   "environment_variables": {},
   "exception": null,
   "input_path": "App-Correlation_charts.ipynb",
   "output_path": "App-Correlation_charts.ipynb",
   "parameters": {},
   "start_time": "2022-08-25T03:35:44.496523",
   "version": "2.2.2"
  }
 },
 "nbformat": 4,
 "nbformat_minor": 5
}