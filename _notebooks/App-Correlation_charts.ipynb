{
 "cells": [
  {
   "cell_type": "markdown",
   "id": "touched-facility",
   "metadata": {
    "papermill": {
     "duration": 0.014931,
     "end_time": "2021-07-23T02:00:00.134292",
     "exception": false,
     "start_time": "2021-07-23T02:00:00.119361",
     "status": "completed"
    },
    "tags": []
   },
   "source": [
    "# Koreliacijų matrica\n",
    "> Išplėstinė koreliacijų matrica. \n",
    "\n",
    "- toc: true \n",
    "- badges: true\n",
    "- comments: false\n",
    "- categories: [Dominykas Tautkus]\n",
    "- image: images/matrix.png"
   ]
  },
  {
   "cell_type": "code",
   "execution_count": null,
   "id": "premium-weekend",
   "metadata": {
    "papermill": {
     "duration": 0.010427,
     "end_time": "2021-07-23T02:00:00.155965",
     "exception": false,
     "start_time": "2021-07-23T02:00:00.145538",
     "status": "completed"
    },
    "tags": []
   },
   "outputs": [],
   "source": []
  },
  {
   "cell_type": "code",
   "execution_count": 1,
   "id": "vertical-rebate",
   "metadata": {
    "execution": {
     "iopub.execute_input": "2021-07-23T02:00:00.187874Z",
     "iopub.status.busy": "2021-07-23T02:00:00.187376Z",
     "iopub.status.idle": "2021-07-23T02:00:00.197278Z",
     "shell.execute_reply": "2021-07-23T02:00:00.196820Z"
    },
    "papermill": {
     "duration": 0.030897,
     "end_time": "2021-07-23T02:00:00.197394",
     "exception": false,
     "start_time": "2021-07-23T02:00:00.166497",
     "status": "completed"
    },
    "tags": []
   },
   "outputs": [],
   "source": [
    "#hide\n",
    "%load_ext autoreload\n",
    "%autoreload 2"
   ]
  },
  {
   "cell_type": "code",
   "execution_count": 2,
   "id": "overall-advancement",
   "metadata": {
    "execution": {
     "iopub.execute_input": "2021-07-23T02:00:00.225510Z",
     "iopub.status.busy": "2021-07-23T02:00:00.225006Z",
     "iopub.status.idle": "2021-07-23T02:00:01.531802Z",
     "shell.execute_reply": "2021-07-23T02:00:01.530904Z"
    },
    "papermill": {
     "duration": 1.32403,
     "end_time": "2021-07-23T02:00:01.531950",
     "exception": false,
     "start_time": "2021-07-23T02:00:00.207920",
     "status": "completed"
    },
    "tags": []
   },
   "outputs": [],
   "source": [
    "#hide\n",
    "from scripts.read_data import read_api\n",
    "from IPython.display import HTML\n",
    "import plotly.graph_objects as go\n"
   ]
  },
  {
   "cell_type": "code",
   "execution_count": 3,
   "id": "light-crazy",
   "metadata": {
    "execution": {
     "iopub.execute_input": "2021-07-23T02:00:01.564026Z",
     "iopub.status.busy": "2021-07-23T02:00:01.563409Z",
     "iopub.status.idle": "2021-07-23T02:00:01.582626Z",
     "shell.execute_reply": "2021-07-23T02:00:01.582113Z"
    },
    "papermill": {
     "duration": 0.039523,
     "end_time": "2021-07-23T02:00:01.582732",
     "exception": false,
     "start_time": "2021-07-23T02:00:01.543209",
     "status": "completed"
    },
    "tags": []
   },
   "outputs": [],
   "source": [
    "#hide\n",
    "### ICO koreliacija"
   ]
  },
  {
   "cell_type": "code",
   "execution_count": 4,
   "id": "likely-bahrain",
   "metadata": {
    "execution": {
     "iopub.execute_input": "2021-07-23T02:00:01.673289Z",
     "iopub.status.busy": "2021-07-23T02:00:01.672603Z",
     "iopub.status.idle": "2021-07-23T02:00:02.457525Z",
     "shell.execute_reply": "2021-07-23T02:00:02.456551Z"
    },
    "papermill": {
     "duration": 0.86409,
     "end_time": "2021-07-23T02:00:02.457664",
     "exception": false,
     "start_time": "2021-07-23T02:00:01.593574",
     "status": "completed"
    },
    "tags": []
   },
   "outputs": [],
   "source": [
    "#hide\n",
    "import matplotlib.pyplot as plt\n",
    "import numpy as np\n",
    "import pandas as pd\n",
    "import seaborn as sns\n",
    "import matplotlib.pyplot as plt \n",
    "import matplotlib.dates as mdates\n",
    "import matplotlib.pyplot as plt"
   ]
  },
  {
   "cell_type": "code",
   "execution_count": 5,
   "id": "superior-blanket",
   "metadata": {
    "execution": {
     "iopub.execute_input": "2021-07-23T02:00:02.482910Z",
     "iopub.status.busy": "2021-07-23T02:00:02.482399Z",
     "iopub.status.idle": "2021-07-23T02:00:13.058647Z",
     "shell.execute_reply": "2021-07-23T02:00:13.059088Z"
    },
    "papermill": {
     "duration": 10.590543,
     "end_time": "2021-07-23T02:00:13.059229",
     "exception": false,
     "start_time": "2021-07-23T02:00:02.468686",
     "status": "completed"
    },
    "tags": []
   },
   "outputs": [
    {
     "name": "stderr",
     "output_type": "stream",
     "text": [
      "/home/runner/work/corr-app/corr-app/_notebooks/scripts/read_data.py:187: SettingWithCopyWarning:\n",
      "\n",
      "\n",
      "A value is trying to be set on a copy of a slice from a DataFrame.\n",
      "Try using .loc[row_indexer,col_indexer] = value instead\n",
      "\n",
      "See the caveats in the documentation: https://pandas.pydata.org/pandas-docs/stable/user_guide/indexing.html#returning-a-view-versus-a-copy\n",
      "\n"
     ]
    },
    {
     "name": "stderr",
     "output_type": "stream",
     "text": [
      "/home/runner/work/corr-app/corr-app/_notebooks/scripts/read_data.py:215: SettingWithCopyWarning:\n",
      "\n",
      "\n",
      "A value is trying to be set on a copy of a slice from a DataFrame.\n",
      "Try using .loc[row_indexer,col_indexer] = value instead\n",
      "\n",
      "See the caveats in the documentation: https://pandas.pydata.org/pandas-docs/stable/user_guide/indexing.html#returning-a-view-versus-a-copy\n",
      "\n"
     ]
    }
   ],
   "source": [
    "#hide\n",
    "df_all = read_api()\n",
    "#df_all = df_all.drop(['SP500', 'XAU', 'ETH', 'BTC'], axis=1)\n",
    "\n"
   ]
  },
  {
   "cell_type": "code",
   "execution_count": 6,
   "id": "mature-alert",
   "metadata": {
    "execution": {
     "iopub.execute_input": "2021-07-23T02:00:13.102473Z",
     "iopub.status.busy": "2021-07-23T02:00:13.101683Z",
     "iopub.status.idle": "2021-07-23T02:00:13.120949Z",
     "shell.execute_reply": "2021-07-23T02:00:13.120318Z"
    },
    "papermill": {
     "duration": 0.050196,
     "end_time": "2021-07-23T02:00:13.121071",
     "exception": false,
     "start_time": "2021-07-23T02:00:13.070875",
     "status": "completed"
    },
    "tags": []
   },
   "outputs": [],
   "source": [
    "#hide_input\n",
    "sum_corr = df_all.corr().sum().sort_values(ascending=True).index.values\n",
    "#df_all[sum_corr].corr()"
   ]
  },
  {
   "cell_type": "markdown",
   "id": "complex-syndicate",
   "metadata": {
    "papermill": {
     "duration": 0.011114,
     "end_time": "2021-07-23T02:00:13.143310",
     "exception": false,
     "start_time": "2021-07-23T02:00:13.132196",
     "status": "completed"
    },
    "tags": []
   },
   "source": [
    "## Išplėstinė koreliacijų matrica. "
   ]
  },
  {
   "cell_type": "code",
   "execution_count": 7,
   "id": "atomic-omaha",
   "metadata": {
    "execution": {
     "iopub.execute_input": "2021-07-23T02:00:13.170106Z",
     "iopub.status.busy": "2021-07-23T02:00:13.169612Z",
     "iopub.status.idle": "2021-07-23T02:00:14.364547Z",
     "shell.execute_reply": "2021-07-23T02:00:14.364106Z"
    },
    "papermill": {
     "duration": 1.210218,
     "end_time": "2021-07-23T02:00:14.364662",
     "exception": false,
     "start_time": "2021-07-23T02:00:13.154444",
     "status": "completed"
    },
    "tags": []
   },
   "outputs": [
    {
     "data": {
      "image/png": "[encoded data removed]",
      "text/plain": [
       "<Figure size 1080x792 with 2 Axes>"
      ]
     },
     "metadata": {
      "needs_background": "light"
     },
     "output_type": "display_data"
    }
   ],
   "source": [
    "#hide_input\n",
    "plt.figure(figsize=(15, 11))\n",
    "sns.heatmap(df_all[sum_corr].corr(), annot=True, cmap=\"cubehelix\") \n",
    "sns.set(font_scale=1.25)\n",
    "plt.savefig('corr_matrix.png', format='eps')"
   ]
  },
  {
   "cell_type": "code",
   "execution_count": 8,
   "id": "arbitrary-sullivan",
   "metadata": {
    "execution": {
     "iopub.execute_input": "2021-07-23T02:00:14.401432Z",
     "iopub.status.busy": "2021-07-23T02:00:14.400904Z",
     "iopub.status.idle": "2021-07-23T02:00:14.423464Z",
     "shell.execute_reply": "2021-07-23T02:00:14.423037Z"
    },
    "papermill": {
     "duration": 0.045348,
     "end_time": "2021-07-23T02:00:14.423568",
     "exception": false,
     "start_time": "2021-07-23T02:00:14.378220",
     "status": "completed"
    },
    "tags": []
   },
   "outputs": [],
   "source": [
    "#hide\n",
    "#df_all_mrk = read_api()"
   ]
  },
  {
   "cell_type": "code",
   "execution_count": 9,
   "id": "delayed-adapter",
   "metadata": {
    "execution": {
     "iopub.execute_input": "2021-07-23T02:00:14.462658Z",
     "iopub.status.busy": "2021-07-23T02:00:14.461648Z",
     "iopub.status.idle": "2021-07-23T02:00:14.479764Z",
     "shell.execute_reply": "2021-07-23T02:00:14.479112Z"
    },
    "papermill": {
     "duration": 0.043299,
     "end_time": "2021-07-23T02:00:14.479873",
     "exception": false,
     "start_time": "2021-07-23T02:00:14.436574",
     "status": "completed"
    },
    "tags": []
   },
   "outputs": [],
   "source": [
    "#hide\n",
    "#Koreliacijų koeficientai"
   ]
  },
  {
   "cell_type": "code",
   "execution_count": 10,
   "id": "seeing-celebration",
   "metadata": {
    "execution": {
     "iopub.execute_input": "2021-07-23T02:00:14.522906Z",
     "iopub.status.busy": "2021-07-23T02:00:14.516510Z",
     "iopub.status.idle": "2021-07-23T02:00:14.537376Z",
     "shell.execute_reply": "2021-07-23T02:00:14.536737Z"
    },
    "papermill": {
     "duration": 0.044236,
     "end_time": "2021-07-23T02:00:14.537482",
     "exception": false,
     "start_time": "2021-07-23T02:00:14.493246",
     "status": "completed"
    },
    "tags": []
   },
   "outputs": [],
   "source": [
    "#hide_input\n",
    "#sum_corr = df_all_mrk.corr().sum().sort_values(ascending=True).index.values\n",
    "#df_all_mrk[sum_corr].corr()"
   ]
  },
  {
   "cell_type": "code",
   "execution_count": 11,
   "id": "other-painting",
   "metadata": {
    "execution": {
     "iopub.execute_input": "2021-07-23T02:00:14.581695Z",
     "iopub.status.busy": "2021-07-23T02:00:14.573765Z",
     "iopub.status.idle": "2021-07-23T02:00:14.595726Z",
     "shell.execute_reply": "2021-07-23T02:00:14.595327Z"
    },
    "papermill": {
     "duration": 0.045315,
     "end_time": "2021-07-23T02:00:14.595829",
     "exception": false,
     "start_time": "2021-07-23T02:00:14.550514",
     "status": "completed"
    },
    "tags": []
   },
   "outputs": [],
   "source": [
    "#hide\n",
    "#Koreliacijos matrica. "
   ]
  },
  {
   "cell_type": "code",
   "execution_count": 12,
   "id": "modular-magnitude",
   "metadata": {
    "execution": {
     "iopub.execute_input": "2021-07-23T02:00:14.633347Z",
     "iopub.status.busy": "2021-07-23T02:00:14.632832Z",
     "iopub.status.idle": "2021-07-23T02:00:14.654531Z",
     "shell.execute_reply": "2021-07-23T02:00:14.654076Z"
    },
    "papermill": {
     "duration": 0.045236,
     "end_time": "2021-07-23T02:00:14.654649",
     "exception": false,
     "start_time": "2021-07-23T02:00:14.609413",
     "status": "completed"
    },
    "tags": []
   },
   "outputs": [],
   "source": [
    "#hide_input\n",
    "#plt.figure(figsize=(15, 8))\n",
    "#sns.heatmap(df_all_mrk[sum_corr].corr(), annot=True, cmap=\"BrBG\");\n",
    "#plt.savefig('corr_matrix_all.eps', format='eps')"
   ]
  },
  {
   "cell_type": "code",
   "execution_count": null,
   "id": "original-senator",
   "metadata": {
    "papermill": {
     "duration": 0.012965,
     "end_time": "2021-07-23T02:00:14.681847",
     "exception": false,
     "start_time": "2021-07-23T02:00:14.668882",
     "status": "completed"
    },
    "tags": []
   },
   "outputs": [],
   "source": []
  },
  {
   "cell_type": "code",
   "execution_count": null,
   "id": "saving-secretariat",
   "metadata": {
    "papermill": {
     "duration": 0.012947,
     "end_time": "2021-07-23T02:00:14.707779",
     "exception": false,
     "start_time": "2021-07-23T02:00:14.694832",
     "status": "completed"
    },
    "tags": []
   },
   "outputs": [],
   "source": []
  }
 ],
 "metadata": {
  "kernelspec": {
   "display_name": "Python 3",
   "language": "python",
   "name": "python3"
  },
  "language_info": {
   "codemirror_mode": {
    "name": "ipython",
    "version": 3
   },
   "file_extension": ".py",
   "mimetype": "text/x-python",
   "name": "python",
   "nbconvert_exporter": "python",
   "pygments_lexer": "ipython3",
   "version": "3.6.14"
  },
  "papermill": {
   "default_parameters": {},
   "duration": 16.134061,
   "end_time": "2021-07-23T02:00:15.228406",
   "environment_variables": {},
   "exception": null,
   "input_path": "App-Correlation_charts.ipynb",
   "output_path": "App-Correlation_charts.ipynb",
   "parameters": {},
   "start_time": "2021-07-23T01:59:59.094345",
   "version": "2.2.2"
  }
 },
 "nbformat": 4,
 "nbformat_minor": 5
}