{
 "cells": [
  {
   "cell_type": "markdown",
   "id": "touched-facility",
   "metadata": {
    "papermill": {
     "duration": 0.015925,
     "end_time": "2022-11-14T03:00:09.100556",
     "exception": false,
     "start_time": "2022-11-14T03:00:09.084631",
     "status": "completed"
    },
    "tags": []
   },
   "source": [
    "# Koreliacijų matrica\n",
    "> Išplėstinė koreliacijų matrica. \n",
    "\n",
    "- toc: true \n",
    "- badges: true\n",
    "- comments: false\n",
    "- categories: [Dominykas Tautkus]\n",
    "- image: images/matrix.png"
   ]
  },
  {
   "cell_type": "code",
   "execution_count": null,
   "id": "premium-weekend",
   "metadata": {
    "papermill": {
     "duration": 0.012155,
     "end_time": "2022-11-14T03:00:09.125373",
     "exception": false,
     "start_time": "2022-11-14T03:00:09.113218",
     "status": "completed"
    },
    "tags": []
   },
   "outputs": [],
   "source": []
  },
  {
   "cell_type": "code",
   "execution_count": 1,
   "id": "vertical-rebate",
   "metadata": {
    "execution": {
     "iopub.execute_input": "2022-11-14T03:00:09.161345Z",
     "iopub.status.busy": "2022-11-14T03:00:09.160639Z",
     "iopub.status.idle": "2022-11-14T03:00:09.173978Z",
     "shell.execute_reply": "2022-11-14T03:00:09.173203Z"
    },
    "papermill": {
     "duration": 0.036505,
     "end_time": "2022-11-14T03:00:09.174134",
     "exception": false,
     "start_time": "2022-11-14T03:00:09.137629",
     "status": "completed"
    },
    "tags": []
   },
   "outputs": [],
   "source": [
    "#hide\n",
    "%load_ext autoreload\n",
    "%autoreload 2"
   ]
  },
  {
   "cell_type": "code",
   "execution_count": 2,
   "id": "overall-advancement",
   "metadata": {
    "execution": {
     "iopub.execute_input": "2022-11-14T03:00:09.203410Z",
     "iopub.status.busy": "2022-11-14T03:00:09.202708Z",
     "iopub.status.idle": "2022-11-14T03:00:10.862897Z",
     "shell.execute_reply": "2022-11-14T03:00:10.861697Z"
    },
    "papermill": {
     "duration": 1.676684,
     "end_time": "2022-11-14T03:00:10.863049",
     "exception": false,
     "start_time": "2022-11-14T03:00:09.186365",
     "status": "completed"
    },
    "tags": []
   },
   "outputs": [],
   "source": [
    "#hide\n",
    "from scripts.read_data import read_api\n",
    "from IPython.display import HTML\n",
    "import plotly.graph_objects as go\n"
   ]
  },
  {
   "cell_type": "code",
   "execution_count": 3,
   "id": "light-crazy",
   "metadata": {
    "execution": {
     "iopub.execute_input": "2022-11-14T03:00:10.892899Z",
     "iopub.status.busy": "2022-11-14T03:00:10.892217Z",
     "iopub.status.idle": "2022-11-14T03:00:10.917356Z",
     "shell.execute_reply": "2022-11-14T03:00:10.916837Z"
    },
    "papermill": {
     "duration": 0.042338,
     "end_time": "2022-11-14T03:00:10.917488",
     "exception": false,
     "start_time": "2022-11-14T03:00:10.875150",
     "status": "completed"
    },
    "tags": []
   },
   "outputs": [],
   "source": [
    "#hide\n",
    "### ICO koreliacija"
   ]
  },
  {
   "cell_type": "code",
   "execution_count": 4,
   "id": "likely-bahrain",
   "metadata": {
    "execution": {
     "iopub.execute_input": "2022-11-14T03:00:10.963547Z",
     "iopub.status.busy": "2022-11-14T03:00:10.962717Z",
     "iopub.status.idle": "2022-11-14T03:00:11.920846Z",
     "shell.execute_reply": "2022-11-14T03:00:11.921427Z"
    },
    "papermill": {
     "duration": 0.986634,
     "end_time": "2022-11-14T03:00:11.921592",
     "exception": false,
     "start_time": "2022-11-14T03:00:10.934958",
     "status": "completed"
    },
    "tags": []
   },
   "outputs": [],
   "source": [
    "#hide\n",
    "import matplotlib.pyplot as plt\n",
    "import numpy as np\n",
    "import pandas as pd\n",
    "import seaborn as sns\n",
    "import matplotlib.pyplot as plt \n",
    "import matplotlib.dates as mdates\n",
    "import matplotlib.pyplot as plt"
   ]
  },
  {
   "cell_type": "code",
   "execution_count": 5,
   "id": "superior-blanket",
   "metadata": {
    "execution": {
     "iopub.execute_input": "2022-11-14T03:00:11.952262Z",
     "iopub.status.busy": "2022-11-14T03:00:11.951486Z",
     "iopub.status.idle": "2022-11-14T03:00:25.823499Z",
     "shell.execute_reply": "2022-11-14T03:00:25.822778Z"
    },
    "papermill": {
     "duration": 13.890269,
     "end_time": "2022-11-14T03:00:25.823681",
     "exception": false,
     "start_time": "2022-11-14T03:00:11.933412",
     "status": "completed"
    },
    "tags": []
   },
   "outputs": [
    {
     "name": "stderr",
     "output_type": "stream",
     "text": [
      "/home/runner/work/corr-app/corr-app/_notebooks/scripts/read_data.py:187: SettingWithCopyWarning:\n",
      "\n",
      "\n",
      "A value is trying to be set on a copy of a slice from a DataFrame.\n",
      "Try using .loc[row_indexer,col_indexer] = value instead\n",
      "\n",
      "See the caveats in the documentation: https://pandas.pydata.org/pandas-docs/stable/user_guide/indexing.html#returning-a-view-versus-a-copy\n",
      "\n"
     ]
    },
    {
     "name": "stderr",
     "output_type": "stream",
     "text": [
      "/home/runner/work/corr-app/corr-app/_notebooks/scripts/read_data.py:215: SettingWithCopyWarning:\n",
      "\n",
      "\n",
      "A value is trying to be set on a copy of a slice from a DataFrame.\n",
      "Try using .loc[row_indexer,col_indexer] = value instead\n",
      "\n",
      "See the caveats in the documentation: https://pandas.pydata.org/pandas-docs/stable/user_guide/indexing.html#returning-a-view-versus-a-copy\n",
      "\n"
     ]
    }
   ],
   "source": [
    "#hide\n",
    "df_all = read_api()\n",
    "#df_all = df_all.drop(['SP500', 'XAU', 'ETH', 'BTC'], axis=1)\n",
    "\n"
   ]
  },
  {
   "cell_type": "code",
   "execution_count": 6,
   "id": "mature-alert",
   "metadata": {
    "execution": {
     "iopub.execute_input": "2022-11-14T03:00:25.860568Z",
     "iopub.status.busy": "2022-11-14T03:00:25.859885Z",
     "iopub.status.idle": "2022-11-14T03:00:25.896022Z",
     "shell.execute_reply": "2022-11-14T03:00:25.895372Z"
    },
    "papermill": {
     "duration": 0.053303,
     "end_time": "2022-11-14T03:00:25.896159",
     "exception": false,
     "start_time": "2022-11-14T03:00:25.842856",
     "status": "completed"
    },
    "tags": []
   },
   "outputs": [],
   "source": [
    "#hide_input\n",
    "sum_corr = df_all.corr().sum().sort_values(ascending=True).index.values\n",
    "#df_all[sum_corr].corr()"
   ]
  },
  {
   "cell_type": "markdown",
   "id": "complex-syndicate",
   "metadata": {
    "papermill": {
     "duration": 0.012525,
     "end_time": "2022-11-14T03:00:25.921118",
     "exception": false,
     "start_time": "2022-11-14T03:00:25.908593",
     "status": "completed"
    },
    "tags": []
   },
   "source": [
    "## Išplėstinė koreliacijų matrica. "
   ]
  },
  {
   "cell_type": "code",
   "execution_count": 7,
   "id": "atomic-omaha",
   "metadata": {
    "execution": {
     "iopub.execute_input": "2022-11-14T03:00:25.951848Z",
     "iopub.status.busy": "2022-11-14T03:00:25.951135Z",
     "iopub.status.idle": "2022-11-14T03:00:27.390416Z",
     "shell.execute_reply": "2022-11-14T03:00:27.389729Z"
    },
    "papermill": {
     "duration": 1.456726,
     "end_time": "2022-11-14T03:00:27.390550",
     "exception": false,
     "start_time": "2022-11-14T03:00:25.933824",
     "status": "completed"
    },
    "tags": []
   },
   "outputs": [
    {
     "data": {
      "image/png": "[encoded data removed]",
      "text/plain": [
       "<Figure size 1080x792 with 2 Axes>"
      ]
     },
     "metadata": {
      "needs_background": "light"
     },
     "output_type": "display_data"
    }
   ],
   "source": [
    "#hide_input\n",
    "plt.figure(figsize=(15, 11))\n",
    "sns.heatmap(df_all[sum_corr].corr(), annot=True, cmap=\"cubehelix\") \n",
    "sns.set(font_scale=1.25)\n",
    "plt.savefig('corr_matrix.png', format='eps')"
   ]
  },
  {
   "cell_type": "code",
   "execution_count": 8,
   "id": "arbitrary-sullivan",
   "metadata": {
    "execution": {
     "iopub.execute_input": "2022-11-14T03:00:27.432114Z",
     "iopub.status.busy": "2022-11-14T03:00:27.430928Z",
     "iopub.status.idle": "2022-11-14T03:00:27.462260Z",
     "shell.execute_reply": "2022-11-14T03:00:27.461658Z"
    },
    "papermill": {
     "duration": 0.053854,
     "end_time": "2022-11-14T03:00:27.462395",
     "exception": false,
     "start_time": "2022-11-14T03:00:27.408541",
     "status": "completed"
    },
    "tags": []
   },
   "outputs": [],
   "source": [
    "#hide\n",
    "#df_all_mrk = read_api()"
   ]
  },
  {
   "cell_type": "code",
   "execution_count": 9,
   "id": "delayed-adapter",
   "metadata": {
    "execution": {
     "iopub.execute_input": "2022-11-14T03:00:27.500945Z",
     "iopub.status.busy": "2022-11-14T03:00:27.500270Z",
     "iopub.status.idle": "2022-11-14T03:00:27.533164Z",
     "shell.execute_reply": "2022-11-14T03:00:27.532318Z"
    },
    "papermill": {
     "duration": 0.055555,
     "end_time": "2022-11-14T03:00:27.533338",
     "exception": false,
     "start_time": "2022-11-14T03:00:27.477783",
     "status": "completed"
    },
    "tags": []
   },
   "outputs": [],
   "source": [
    "#hide\n",
    "#Koreliacijų koeficientai"
   ]
  },
  {
   "cell_type": "code",
   "execution_count": 10,
   "id": "seeing-celebration",
   "metadata": {
    "execution": {
     "iopub.execute_input": "2022-11-14T03:00:27.570542Z",
     "iopub.status.busy": "2022-11-14T03:00:27.569850Z",
     "iopub.status.idle": "2022-11-14T03:00:27.599351Z",
     "shell.execute_reply": "2022-11-14T03:00:27.598769Z"
    },
    "papermill": {
     "duration": 0.049463,
     "end_time": "2022-11-14T03:00:27.599487",
     "exception": false,
     "start_time": "2022-11-14T03:00:27.550024",
     "status": "completed"
    },
    "tags": []
   },
   "outputs": [],
   "source": [
    "#hide_input\n",
    "#sum_corr = df_all_mrk.corr().sum().sort_values(ascending=True).index.values\n",
    "#df_all_mrk[sum_corr].corr()"
   ]
  },
  {
   "cell_type": "code",
   "execution_count": 11,
   "id": "other-painting",
   "metadata": {
    "execution": {
     "iopub.execute_input": "2022-11-14T03:00:27.641647Z",
     "iopub.status.busy": "2022-11-14T03:00:27.640932Z",
     "iopub.status.idle": "2022-11-14T03:00:27.670284Z",
     "shell.execute_reply": "2022-11-14T03:00:27.669636Z"
    },
    "papermill": {
     "duration": 0.055303,
     "end_time": "2022-11-14T03:00:27.670428",
     "exception": false,
     "start_time": "2022-11-14T03:00:27.615125",
     "status": "completed"
    },
    "tags": []
   },
   "outputs": [],
   "source": [
    "#hide\n",
    "#Koreliacijos matrica. "
   ]
  },
  {
   "cell_type": "code",
   "execution_count": 12,
   "id": "modular-magnitude",
   "metadata": {
    "execution": {
     "iopub.execute_input": "2022-11-14T03:00:27.706935Z",
     "iopub.status.busy": "2022-11-14T03:00:27.706255Z",
     "iopub.status.idle": "2022-11-14T03:00:27.736351Z",
     "shell.execute_reply": "2022-11-14T03:00:27.735532Z"
    },
    "papermill": {
     "duration": 0.050412,
     "end_time": "2022-11-14T03:00:27.736514",
     "exception": false,
     "start_time": "2022-11-14T03:00:27.686102",
     "status": "completed"
    },
    "tags": []
   },
   "outputs": [],
   "source": [
    "#hide_input\n",
    "#plt.figure(figsize=(15, 8))\n",
    "#sns.heatmap(df_all_mrk[sum_corr].corr(), annot=True, cmap=\"BrBG\");\n",
    "#plt.savefig('corr_matrix_all.eps', format='eps')"
   ]
  },
  {
   "cell_type": "code",
   "execution_count": null,
   "id": "original-senator",
   "metadata": {
    "papermill": {
     "duration": 0.019083,
     "end_time": "2022-11-14T03:00:27.775179",
     "exception": false,
     "start_time": "2022-11-14T03:00:27.756096",
     "status": "completed"
    },
    "tags": []
   },
   "outputs": [],
   "source": []
  },
  {
   "cell_type": "code",
   "execution_count": null,
   "id": "saving-secretariat",
   "metadata": {
    "papermill": {
     "duration": 0.016187,
     "end_time": "2022-11-14T03:00:27.807451",
     "exception": false,
     "start_time": "2022-11-14T03:00:27.791264",
     "status": "completed"
    },
    "tags": []
   },
   "outputs": [],
   "source": []
  }
 ],
 "metadata": {
  "kernelspec": {
   "display_name": "Python 3",
   "language": "python",
   "name": "python3"
  },
  "language_info": {
   "codemirror_mode": {
    "name": "ipython",
    "version": 3
   },
   "file_extension": ".py",
   "mimetype": "text/x-python",
   "name": "python",
   "nbconvert_exporter": "python",
   "pygments_lexer": "ipython3",
   "version": "3.6.15"
  },
  "papermill": {
   "default_parameters": {},
   "duration": 20.505472,
   "end_time": "2022-11-14T03:00:28.443222",
   "environment_variables": {},
   "exception": null,
   "input_path": "App-Correlation_charts.ipynb",
   "output_path": "App-Correlation_charts.ipynb",
   "parameters": {},
   "start_time": "2022-11-14T03:00:07.937750",
   "version": "2.2.2"
  }
 },
 "nbformat": 4,
 "nbformat_minor": 5
}