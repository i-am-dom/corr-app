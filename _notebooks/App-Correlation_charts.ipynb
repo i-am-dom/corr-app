{
 "cells": [
  {
   "cell_type": "markdown",
   "id": "touched-facility",
   "metadata": {
    "papermill": {
     "duration": 0.014001,
     "end_time": "2022-02-19T02:00:39.927624",
     "exception": false,
     "start_time": "2022-02-19T02:00:39.913623",
     "status": "completed"
    },
    "tags": []
   },
   "source": [
    "# Koreliacijų matrica\n",
    "> Išplėstinė koreliacijų matrica. \n",
    "\n",
    "- toc: true \n",
    "- badges: true\n",
    "- comments: false\n",
    "- categories: [Dominykas Tautkus]\n",
    "- image: images/matrix.png"
   ]
  },
  {
   "cell_type": "code",
   "execution_count": null,
   "id": "premium-weekend",
   "metadata": {
    "papermill": {
     "duration": 0.009267,
     "end_time": "2022-02-19T02:00:39.946848",
     "exception": false,
     "start_time": "2022-02-19T02:00:39.937581",
     "status": "completed"
    },
    "tags": []
   },
   "outputs": [],
   "source": []
  },
  {
   "cell_type": "code",
   "execution_count": 1,
   "id": "vertical-rebate",
   "metadata": {
    "execution": {
     "iopub.execute_input": "2022-02-19T02:00:39.975989Z",
     "iopub.status.busy": "2022-02-19T02:00:39.975500Z",
     "iopub.status.idle": "2022-02-19T02:00:39.985677Z",
     "shell.execute_reply": "2022-02-19T02:00:39.986046Z"
    },
    "papermill": {
     "duration": 0.030058,
     "end_time": "2022-02-19T02:00:39.986179",
     "exception": false,
     "start_time": "2022-02-19T02:00:39.956121",
     "status": "completed"
    },
    "tags": []
   },
   "outputs": [],
   "source": [
    "#hide\n",
    "%load_ext autoreload\n",
    "%autoreload 2"
   ]
  },
  {
   "cell_type": "code",
   "execution_count": 2,
   "id": "overall-advancement",
   "metadata": {
    "execution": {
     "iopub.execute_input": "2022-02-19T02:00:40.013260Z",
     "iopub.status.busy": "2022-02-19T02:00:40.012811Z",
     "iopub.status.idle": "2022-02-19T02:00:41.097874Z",
     "shell.execute_reply": "2022-02-19T02:00:41.098370Z"
    },
    "papermill": {
     "duration": 1.103123,
     "end_time": "2022-02-19T02:00:41.098540",
     "exception": false,
     "start_time": "2022-02-19T02:00:39.995417",
     "status": "completed"
    },
    "tags": []
   },
   "outputs": [],
   "source": [
    "#hide\n",
    "from scripts.read_data import read_api\n",
    "from IPython.display import HTML\n",
    "import plotly.graph_objects as go\n"
   ]
  },
  {
   "cell_type": "code",
   "execution_count": 3,
   "id": "light-crazy",
   "metadata": {
    "execution": {
     "iopub.execute_input": "2022-02-19T02:00:41.125052Z",
     "iopub.status.busy": "2022-02-19T02:00:41.124529Z",
     "iopub.status.idle": "2022-02-19T02:00:41.143836Z",
     "shell.execute_reply": "2022-02-19T02:00:41.144246Z"
    },
    "papermill": {
     "duration": 0.034212,
     "end_time": "2022-02-19T02:00:41.144383",
     "exception": false,
     "start_time": "2022-02-19T02:00:41.110171",
     "status": "completed"
    },
    "tags": []
   },
   "outputs": [],
   "source": [
    "#hide\n",
    "### ICO koreliacija"
   ]
  },
  {
   "cell_type": "code",
   "execution_count": 4,
   "id": "likely-bahrain",
   "metadata": {
    "execution": {
     "iopub.execute_input": "2022-02-19T02:00:41.169268Z",
     "iopub.status.busy": "2022-02-19T02:00:41.168684Z",
     "iopub.status.idle": "2022-02-19T02:00:42.039036Z",
     "shell.execute_reply": "2022-02-19T02:00:42.038501Z"
    },
    "papermill": {
     "duration": 0.884353,
     "end_time": "2022-02-19T02:00:42.039180",
     "exception": false,
     "start_time": "2022-02-19T02:00:41.154827",
     "status": "completed"
    },
    "tags": []
   },
   "outputs": [],
   "source": [
    "#hide\n",
    "import matplotlib.pyplot as plt\n",
    "import numpy as np\n",
    "import pandas as pd\n",
    "import seaborn as sns\n",
    "import matplotlib.pyplot as plt \n",
    "import matplotlib.dates as mdates\n",
    "import matplotlib.pyplot as plt"
   ]
  },
  {
   "cell_type": "code",
   "execution_count": 5,
   "id": "superior-blanket",
   "metadata": {
    "execution": {
     "iopub.execute_input": "2022-02-19T02:00:42.062437Z",
     "iopub.status.busy": "2022-02-19T02:00:42.061818Z",
     "iopub.status.idle": "2022-02-19T02:01:00.708977Z",
     "shell.execute_reply": "2022-02-19T02:01:00.708197Z"
    },
    "papermill": {
     "duration": 18.660162,
     "end_time": "2022-02-19T02:01:00.709108",
     "exception": false,
     "start_time": "2022-02-19T02:00:42.048946",
     "status": "completed"
    },
    "tags": []
   },
   "outputs": [
    {
     "name": "stderr",
     "output_type": "stream",
     "text": [
      "/home/runner/work/corr-app/corr-app/_notebooks/scripts/read_data.py:187: SettingWithCopyWarning:\n",
      "\n",
      "\n",
      "A value is trying to be set on a copy of a slice from a DataFrame.\n",
      "Try using .loc[row_indexer,col_indexer] = value instead\n",
      "\n",
      "See the caveats in the documentation: https://pandas.pydata.org/pandas-docs/stable/user_guide/indexing.html#returning-a-view-versus-a-copy\n",
      "\n"
     ]
    },
    {
     "name": "stderr",
     "output_type": "stream",
     "text": [
      "/home/runner/work/corr-app/corr-app/_notebooks/scripts/read_data.py:215: SettingWithCopyWarning:\n",
      "\n",
      "\n",
      "A value is trying to be set on a copy of a slice from a DataFrame.\n",
      "Try using .loc[row_indexer,col_indexer] = value instead\n",
      "\n",
      "See the caveats in the documentation: https://pandas.pydata.org/pandas-docs/stable/user_guide/indexing.html#returning-a-view-versus-a-copy\n",
      "\n"
     ]
    }
   ],
   "source": [
    "#hide\n",
    "df_all = read_api()\n",
    "#df_all = df_all.drop(['SP500', 'XAU', 'ETH', 'BTC'], axis=1)\n",
    "\n"
   ]
  },
  {
   "cell_type": "code",
   "execution_count": 6,
   "id": "mature-alert",
   "metadata": {
    "execution": {
     "iopub.execute_input": "2022-02-19T02:01:00.737781Z",
     "iopub.status.busy": "2022-02-19T02:01:00.737268Z",
     "iopub.status.idle": "2022-02-19T02:01:00.764958Z",
     "shell.execute_reply": "2022-02-19T02:01:00.764428Z"
    },
    "papermill": {
     "duration": 0.044318,
     "end_time": "2022-02-19T02:01:00.765085",
     "exception": false,
     "start_time": "2022-02-19T02:01:00.720767",
     "status": "completed"
    },
    "tags": []
   },
   "outputs": [],
   "source": [
    "#hide_input\n",
    "sum_corr = df_all.corr().sum().sort_values(ascending=True).index.values\n",
    "#df_all[sum_corr].corr()"
   ]
  },
  {
   "cell_type": "markdown",
   "id": "complex-syndicate",
   "metadata": {
    "papermill": {
     "duration": 0.011054,
     "end_time": "2022-02-19T02:01:00.788347",
     "exception": false,
     "start_time": "2022-02-19T02:01:00.777293",
     "status": "completed"
    },
    "tags": []
   },
   "source": [
    "## Išplėstinė koreliacijų matrica. "
   ]
  },
  {
   "cell_type": "code",
   "execution_count": 7,
   "id": "atomic-omaha",
   "metadata": {
    "execution": {
     "iopub.execute_input": "2022-02-19T02:01:00.814763Z",
     "iopub.status.busy": "2022-02-19T02:01:00.814262Z",
     "iopub.status.idle": "2022-02-19T02:01:01.978724Z",
     "shell.execute_reply": "2022-02-19T02:01:01.978329Z"
    },
    "papermill": {
     "duration": 1.179494,
     "end_time": "2022-02-19T02:01:01.978840",
     "exception": false,
     "start_time": "2022-02-19T02:01:00.799346",
     "status": "completed"
    },
    "tags": []
   },
   "outputs": [
    {
     "data": {
      "image/png": "[encoded data removed]",
      "text/plain": [
       "<Figure size 1080x792 with 2 Axes>"
      ]
     },
     "metadata": {
      "needs_background": "light"
     },
     "output_type": "display_data"
    }
   ],
   "source": [
    "#hide_input\n",
    "plt.figure(figsize=(15, 11))\n",
    "sns.heatmap(df_all[sum_corr].corr(), annot=True, cmap=\"cubehelix\") \n",
    "sns.set(font_scale=1.25)\n",
    "plt.savefig('corr_matrix.png', format='eps')"
   ]
  },
  {
   "cell_type": "code",
   "execution_count": 8,
   "id": "arbitrary-sullivan",
   "metadata": {
    "execution": {
     "iopub.execute_input": "2022-02-19T02:01:02.009246Z",
     "iopub.status.busy": "2022-02-19T02:01:02.008778Z",
     "iopub.status.idle": "2022-02-19T02:01:02.030992Z",
     "shell.execute_reply": "2022-02-19T02:01:02.030601Z"
    },
    "papermill": {
     "duration": 0.040229,
     "end_time": "2022-02-19T02:01:02.031092",
     "exception": false,
     "start_time": "2022-02-19T02:01:01.990863",
     "status": "completed"
    },
    "tags": []
   },
   "outputs": [],
   "source": [
    "#hide\n",
    "#df_all_mrk = read_api()"
   ]
  },
  {
   "cell_type": "code",
   "execution_count": 9,
   "id": "delayed-adapter",
   "metadata": {
    "execution": {
     "iopub.execute_input": "2022-02-19T02:01:02.057283Z",
     "iopub.status.busy": "2022-02-19T02:01:02.056806Z",
     "iopub.status.idle": "2022-02-19T02:01:02.083400Z",
     "shell.execute_reply": "2022-02-19T02:01:02.083837Z"
    },
    "papermill": {
     "duration": 0.041275,
     "end_time": "2022-02-19T02:01:02.083975",
     "exception": false,
     "start_time": "2022-02-19T02:01:02.042700",
     "status": "completed"
    },
    "tags": []
   },
   "outputs": [],
   "source": [
    "#hide\n",
    "#Koreliacijų koeficientai"
   ]
  },
  {
   "cell_type": "code",
   "execution_count": 10,
   "id": "seeing-celebration",
   "metadata": {
    "execution": {
     "iopub.execute_input": "2022-02-19T02:01:02.111889Z",
     "iopub.status.busy": "2022-02-19T02:01:02.111425Z",
     "iopub.status.idle": "2022-02-19T02:01:02.136557Z",
     "shell.execute_reply": "2022-02-19T02:01:02.136996Z"
    },
    "papermill": {
     "duration": 0.040036,
     "end_time": "2022-02-19T02:01:02.137133",
     "exception": false,
     "start_time": "2022-02-19T02:01:02.097097",
     "status": "completed"
    },
    "tags": []
   },
   "outputs": [],
   "source": [
    "#hide_input\n",
    "#sum_corr = df_all_mrk.corr().sum().sort_values(ascending=True).index.values\n",
    "#df_all_mrk[sum_corr].corr()"
   ]
  },
  {
   "cell_type": "code",
   "execution_count": 11,
   "id": "other-painting",
   "metadata": {
    "execution": {
     "iopub.execute_input": "2022-02-19T02:01:02.169078Z",
     "iopub.status.busy": "2022-02-19T02:01:02.168573Z",
     "iopub.status.idle": "2022-02-19T02:01:02.188226Z",
     "shell.execute_reply": "2022-02-19T02:01:02.188624Z"
    },
    "papermill": {
     "duration": 0.038084,
     "end_time": "2022-02-19T02:01:02.188743",
     "exception": false,
     "start_time": "2022-02-19T02:01:02.150659",
     "status": "completed"
    },
    "tags": []
   },
   "outputs": [],
   "source": [
    "#hide\n",
    "#Koreliacijos matrica. "
   ]
  },
  {
   "cell_type": "code",
   "execution_count": 12,
   "id": "modular-magnitude",
   "metadata": {
    "execution": {
     "iopub.execute_input": "2022-02-19T02:01:02.218249Z",
     "iopub.status.busy": "2022-02-19T02:01:02.217749Z",
     "iopub.status.idle": "2022-02-19T02:01:02.240119Z",
     "shell.execute_reply": "2022-02-19T02:01:02.239619Z"
    },
    "papermill": {
     "duration": 0.038421,
     "end_time": "2022-02-19T02:01:02.240255",
     "exception": false,
     "start_time": "2022-02-19T02:01:02.201834",
     "status": "completed"
    },
    "tags": []
   },
   "outputs": [],
   "source": [
    "#hide_input\n",
    "#plt.figure(figsize=(15, 8))\n",
    "#sns.heatmap(df_all_mrk[sum_corr].corr(), annot=True, cmap=\"BrBG\");\n",
    "#plt.savefig('corr_matrix_all.eps', format='eps')"
   ]
  },
  {
   "cell_type": "code",
   "execution_count": null,
   "id": "original-senator",
   "metadata": {
    "papermill": {
     "duration": 0.012901,
     "end_time": "2022-02-19T02:01:02.267026",
     "exception": false,
     "start_time": "2022-02-19T02:01:02.254125",
     "status": "completed"
    },
    "tags": []
   },
   "outputs": [],
   "source": []
  },
  {
   "cell_type": "code",
   "execution_count": null,
   "id": "saving-secretariat",
   "metadata": {
    "papermill": {
     "duration": 0.013248,
     "end_time": "2022-02-19T02:01:02.293249",
     "exception": false,
     "start_time": "2022-02-19T02:01:02.280001",
     "status": "completed"
    },
    "tags": []
   },
   "outputs": [],
   "source": []
  }
 ],
 "metadata": {
  "kernelspec": {
   "display_name": "Python 3",
   "language": "python",
   "name": "python3"
  },
  "language_info": {
   "codemirror_mode": {
    "name": "ipython",
    "version": 3
   },
   "file_extension": ".py",
   "mimetype": "text/x-python",
   "name": "python",
   "nbconvert_exporter": "python",
   "pygments_lexer": "ipython3",
   "version": "3.6.15"
  },
  "papermill": {
   "default_parameters": {},
   "duration": 23.825337,
   "end_time": "2022-02-19T02:01:02.825175",
   "environment_variables": {},
   "exception": null,
   "input_path": "App-Correlation_charts.ipynb",
   "output_path": "App-Correlation_charts.ipynb",
   "parameters": {},
   "start_time": "2022-02-19T02:00:38.999838",
   "version": "2.2.2"
  }
 },
 "nbformat": 4,
 "nbformat_minor": 5
}