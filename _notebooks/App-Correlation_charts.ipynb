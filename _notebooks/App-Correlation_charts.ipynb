{
 "cells": [
  {
   "cell_type": "markdown",
   "id": "touched-facility",
   "metadata": {
    "papermill": {
     "duration": 0.015044,
     "end_time": "2021-12-19T02:08:01.166847",
     "exception": false,
     "start_time": "2021-12-19T02:08:01.151803",
     "status": "completed"
    },
    "tags": []
   },
   "source": [
    "# Koreliacijų matrica\n",
    "> Išplėstinė koreliacijų matrica. \n",
    "\n",
    "- toc: true \n",
    "- badges: true\n",
    "- comments: false\n",
    "- categories: [Dominykas Tautkus]\n",
    "- image: images/matrix.png"
   ]
  },
  {
   "cell_type": "code",
   "execution_count": null,
   "id": "premium-weekend",
   "metadata": {
    "papermill": {
     "duration": 0.010735,
     "end_time": "2021-12-19T02:08:01.189072",
     "exception": false,
     "start_time": "2021-12-19T02:08:01.178337",
     "status": "completed"
    },
    "tags": []
   },
   "outputs": [],
   "source": []
  },
  {
   "cell_type": "code",
   "execution_count": 1,
   "id": "vertical-rebate",
   "metadata": {
    "execution": {
     "iopub.execute_input": "2021-12-19T02:08:01.221529Z",
     "iopub.status.busy": "2021-12-19T02:08:01.220984Z",
     "iopub.status.idle": "2021-12-19T02:08:01.231325Z",
     "shell.execute_reply": "2021-12-19T02:08:01.231712Z"
    },
    "papermill": {
     "duration": 0.032169,
     "end_time": "2021-12-19T02:08:01.231868",
     "exception": false,
     "start_time": "2021-12-19T02:08:01.199699",
     "status": "completed"
    },
    "tags": []
   },
   "outputs": [],
   "source": [
    "#hide\n",
    "%load_ext autoreload\n",
    "%autoreload 2"
   ]
  },
  {
   "cell_type": "code",
   "execution_count": 2,
   "id": "overall-advancement",
   "metadata": {
    "execution": {
     "iopub.execute_input": "2021-12-19T02:08:01.263364Z",
     "iopub.status.busy": "2021-12-19T02:08:01.262851Z",
     "iopub.status.idle": "2021-12-19T02:08:02.352666Z",
     "shell.execute_reply": "2021-12-19T02:08:02.352136Z"
    },
    "papermill": {
     "duration": 1.110297,
     "end_time": "2021-12-19T02:08:02.352804",
     "exception": false,
     "start_time": "2021-12-19T02:08:01.242507",
     "status": "completed"
    },
    "tags": []
   },
   "outputs": [],
   "source": [
    "#hide\n",
    "from scripts.read_data import read_api\n",
    "from IPython.display import HTML\n",
    "import plotly.graph_objects as go\n"
   ]
  },
  {
   "cell_type": "code",
   "execution_count": 3,
   "id": "light-crazy",
   "metadata": {
    "execution": {
     "iopub.execute_input": "2021-12-19T02:08:02.379488Z",
     "iopub.status.busy": "2021-12-19T02:08:02.378945Z",
     "iopub.status.idle": "2021-12-19T02:08:02.402031Z",
     "shell.execute_reply": "2021-12-19T02:08:02.401557Z"
    },
    "papermill": {
     "duration": 0.038063,
     "end_time": "2021-12-19T02:08:02.402159",
     "exception": false,
     "start_time": "2021-12-19T02:08:02.364096",
     "status": "completed"
    },
    "tags": []
   },
   "outputs": [],
   "source": [
    "#hide\n",
    "### ICO koreliacija"
   ]
  },
  {
   "cell_type": "code",
   "execution_count": 4,
   "id": "likely-bahrain",
   "metadata": {
    "execution": {
     "iopub.execute_input": "2021-12-19T02:08:02.432415Z",
     "iopub.status.busy": "2021-12-19T02:08:02.431886Z",
     "iopub.status.idle": "2021-12-19T02:08:03.316247Z",
     "shell.execute_reply": "2021-12-19T02:08:03.316704Z"
    },
    "papermill": {
     "duration": 0.902608,
     "end_time": "2021-12-19T02:08:03.316848",
     "exception": false,
     "start_time": "2021-12-19T02:08:02.414240",
     "status": "completed"
    },
    "tags": []
   },
   "outputs": [],
   "source": [
    "#hide\n",
    "import matplotlib.pyplot as plt\n",
    "import numpy as np\n",
    "import pandas as pd\n",
    "import seaborn as sns\n",
    "import matplotlib.pyplot as plt \n",
    "import matplotlib.dates as mdates\n",
    "import matplotlib.pyplot as plt"
   ]
  },
  {
   "cell_type": "code",
   "execution_count": 5,
   "id": "superior-blanket",
   "metadata": {
    "execution": {
     "iopub.execute_input": "2021-12-19T02:08:03.353464Z",
     "iopub.status.busy": "2021-12-19T02:08:03.352397Z",
     "iopub.status.idle": "2021-12-19T02:08:15.490454Z",
     "shell.execute_reply": "2021-12-19T02:08:15.489932Z"
    },
    "papermill": {
     "duration": 12.162744,
     "end_time": "2021-12-19T02:08:15.490587",
     "exception": false,
     "start_time": "2021-12-19T02:08:03.327843",
     "status": "completed"
    },
    "tags": []
   },
   "outputs": [
    {
     "name": "stderr",
     "output_type": "stream",
     "text": [
      "/home/runner/work/corr-app/corr-app/_notebooks/scripts/read_data.py:187: SettingWithCopyWarning:\n",
      "\n",
      "\n",
      "A value is trying to be set on a copy of a slice from a DataFrame.\n",
      "Try using .loc[row_indexer,col_indexer] = value instead\n",
      "\n",
      "See the caveats in the documentation: https://pandas.pydata.org/pandas-docs/stable/user_guide/indexing.html#returning-a-view-versus-a-copy\n",
      "\n"
     ]
    },
    {
     "name": "stderr",
     "output_type": "stream",
     "text": [
      "/home/runner/work/corr-app/corr-app/_notebooks/scripts/read_data.py:215: SettingWithCopyWarning:\n",
      "\n",
      "\n",
      "A value is trying to be set on a copy of a slice from a DataFrame.\n",
      "Try using .loc[row_indexer,col_indexer] = value instead\n",
      "\n",
      "See the caveats in the documentation: https://pandas.pydata.org/pandas-docs/stable/user_guide/indexing.html#returning-a-view-versus-a-copy\n",
      "\n"
     ]
    }
   ],
   "source": [
    "#hide\n",
    "df_all = read_api()\n",
    "#df_all = df_all.drop(['SP500', 'XAU', 'ETH', 'BTC'], axis=1)\n",
    "\n"
   ]
  },
  {
   "cell_type": "code",
   "execution_count": 6,
   "id": "mature-alert",
   "metadata": {
    "execution": {
     "iopub.execute_input": "2021-12-19T02:08:15.526916Z",
     "iopub.status.busy": "2021-12-19T02:08:15.526087Z",
     "iopub.status.idle": "2021-12-19T02:08:15.551856Z",
     "shell.execute_reply": "2021-12-19T02:08:15.551403Z"
    },
    "papermill": {
     "duration": 0.04967,
     "end_time": "2021-12-19T02:08:15.551983",
     "exception": false,
     "start_time": "2021-12-19T02:08:15.502313",
     "status": "completed"
    },
    "tags": []
   },
   "outputs": [],
   "source": [
    "#hide_input\n",
    "sum_corr = df_all.corr().sum().sort_values(ascending=True).index.values\n",
    "#df_all[sum_corr].corr()"
   ]
  },
  {
   "cell_type": "markdown",
   "id": "complex-syndicate",
   "metadata": {
    "papermill": {
     "duration": 0.011147,
     "end_time": "2021-12-19T02:08:15.574359",
     "exception": false,
     "start_time": "2021-12-19T02:08:15.563212",
     "status": "completed"
    },
    "tags": []
   },
   "source": [
    "## Išplėstinė koreliacijų matrica. "
   ]
  },
  {
   "cell_type": "code",
   "execution_count": 7,
   "id": "atomic-omaha",
   "metadata": {
    "execution": {
     "iopub.execute_input": "2021-12-19T02:08:15.611628Z",
     "iopub.status.busy": "2021-12-19T02:08:15.602802Z",
     "iopub.status.idle": "2021-12-19T02:08:16.853094Z",
     "shell.execute_reply": "2021-12-19T02:08:16.853494Z"
    },
    "papermill": {
     "duration": 1.268018,
     "end_time": "2021-12-19T02:08:16.853640",
     "exception": false,
     "start_time": "2021-12-19T02:08:15.585622",
     "status": "completed"
    },
    "tags": []
   },
   "outputs": [
    {
     "data": {
      "image/png": "[encoded data removed]",
      "text/plain": [
       "<Figure size 1080x792 with 2 Axes>"
      ]
     },
     "metadata": {
      "needs_background": "light"
     },
     "output_type": "display_data"
    }
   ],
   "source": [
    "#hide_input\n",
    "plt.figure(figsize=(15, 11))\n",
    "sns.heatmap(df_all[sum_corr].corr(), annot=True, cmap=\"cubehelix\") \n",
    "sns.set(font_scale=1.25)\n",
    "plt.savefig('corr_matrix.png', format='eps')"
   ]
  },
  {
   "cell_type": "code",
   "execution_count": 8,
   "id": "arbitrary-sullivan",
   "metadata": {
    "execution": {
     "iopub.execute_input": "2021-12-19T02:08:16.883835Z",
     "iopub.status.busy": "2021-12-19T02:08:16.883282Z",
     "iopub.status.idle": "2021-12-19T02:08:16.911269Z",
     "shell.execute_reply": "2021-12-19T02:08:16.910798Z"
    },
    "papermill": {
     "duration": 0.044123,
     "end_time": "2021-12-19T02:08:16.911395",
     "exception": false,
     "start_time": "2021-12-19T02:08:16.867272",
     "status": "completed"
    },
    "tags": []
   },
   "outputs": [],
   "source": [
    "#hide\n",
    "#df_all_mrk = read_api()"
   ]
  },
  {
   "cell_type": "code",
   "execution_count": 9,
   "id": "delayed-adapter",
   "metadata": {
    "execution": {
     "iopub.execute_input": "2021-12-19T02:08:16.940867Z",
     "iopub.status.busy": "2021-12-19T02:08:16.940366Z",
     "iopub.status.idle": "2021-12-19T02:08:16.967655Z",
     "shell.execute_reply": "2021-12-19T02:08:16.967193Z"
    },
    "papermill": {
     "duration": 0.043082,
     "end_time": "2021-12-19T02:08:16.967775",
     "exception": false,
     "start_time": "2021-12-19T02:08:16.924693",
     "status": "completed"
    },
    "tags": []
   },
   "outputs": [],
   "source": [
    "#hide\n",
    "#Koreliacijų koeficientai"
   ]
  },
  {
   "cell_type": "code",
   "execution_count": 10,
   "id": "seeing-celebration",
   "metadata": {
    "execution": {
     "iopub.execute_input": "2021-12-19T02:08:17.012127Z",
     "iopub.status.busy": "2021-12-19T02:08:17.011367Z",
     "iopub.status.idle": "2021-12-19T02:08:17.029495Z",
     "shell.execute_reply": "2021-12-19T02:08:17.029879Z"
    },
    "papermill": {
     "duration": 0.048119,
     "end_time": "2021-12-19T02:08:17.030002",
     "exception": false,
     "start_time": "2021-12-19T02:08:16.981883",
     "status": "completed"
    },
    "tags": []
   },
   "outputs": [],
   "source": [
    "#hide_input\n",
    "#sum_corr = df_all_mrk.corr().sum().sort_values(ascending=True).index.values\n",
    "#df_all_mrk[sum_corr].corr()"
   ]
  },
  {
   "cell_type": "code",
   "execution_count": 11,
   "id": "other-painting",
   "metadata": {
    "execution": {
     "iopub.execute_input": "2021-12-19T02:08:17.067755Z",
     "iopub.status.busy": "2021-12-19T02:08:17.067261Z",
     "iopub.status.idle": "2021-12-19T02:08:17.088346Z",
     "shell.execute_reply": "2021-12-19T02:08:17.088810Z"
    },
    "papermill": {
     "duration": 0.045862,
     "end_time": "2021-12-19T02:08:17.088941",
     "exception": false,
     "start_time": "2021-12-19T02:08:17.043079",
     "status": "completed"
    },
    "tags": []
   },
   "outputs": [],
   "source": [
    "#hide\n",
    "#Koreliacijos matrica. "
   ]
  },
  {
   "cell_type": "code",
   "execution_count": 12,
   "id": "modular-magnitude",
   "metadata": {
    "execution": {
     "iopub.execute_input": "2021-12-19T02:08:17.131587Z",
     "iopub.status.busy": "2021-12-19T02:08:17.126496Z",
     "iopub.status.idle": "2021-12-19T02:08:17.149764Z",
     "shell.execute_reply": "2021-12-19T02:08:17.149301Z"
    },
    "papermill": {
     "duration": 0.046857,
     "end_time": "2021-12-19T02:08:17.149882",
     "exception": false,
     "start_time": "2021-12-19T02:08:17.103025",
     "status": "completed"
    },
    "tags": []
   },
   "outputs": [],
   "source": [
    "#hide_input\n",
    "#plt.figure(figsize=(15, 8))\n",
    "#sns.heatmap(df_all_mrk[sum_corr].corr(), annot=True, cmap=\"BrBG\");\n",
    "#plt.savefig('corr_matrix_all.eps', format='eps')"
   ]
  },
  {
   "cell_type": "code",
   "execution_count": null,
   "id": "original-senator",
   "metadata": {
    "papermill": {
     "duration": 0.013019,
     "end_time": "2021-12-19T02:08:17.176996",
     "exception": false,
     "start_time": "2021-12-19T02:08:17.163977",
     "status": "completed"
    },
    "tags": []
   },
   "outputs": [],
   "source": []
  },
  {
   "cell_type": "code",
   "execution_count": null,
   "id": "saving-secretariat",
   "metadata": {
    "papermill": {
     "duration": 0.012955,
     "end_time": "2021-12-19T02:08:17.204551",
     "exception": false,
     "start_time": "2021-12-19T02:08:17.191596",
     "status": "completed"
    },
    "tags": []
   },
   "outputs": [],
   "source": []
  }
 ],
 "metadata": {
  "kernelspec": {
   "display_name": "Python 3",
   "language": "python",
   "name": "python3"
  },
  "language_info": {
   "codemirror_mode": {
    "name": "ipython",
    "version": 3
   },
   "file_extension": ".py",
   "mimetype": "text/x-python",
   "name": "python",
   "nbconvert_exporter": "python",
   "pygments_lexer": "ipython3",
   "version": "3.6.15"
  },
  "papermill": {
   "default_parameters": {},
   "duration": 17.509204,
   "end_time": "2021-12-19T02:08:17.725932",
   "environment_variables": {},
   "exception": null,
   "input_path": "App-Correlation_charts.ipynb",
   "output_path": "App-Correlation_charts.ipynb",
   "parameters": {},
   "start_time": "2021-12-19T02:08:00.216728",
   "version": "2.2.2"
  }
 },
 "nbformat": 4,
 "nbformat_minor": 5
}