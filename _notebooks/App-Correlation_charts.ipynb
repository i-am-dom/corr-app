{
 "cells": [
  {
   "cell_type": "markdown",
   "id": "touched-facility",
   "metadata": {
    "papermill": {
     "duration": 0.016114,
     "end_time": "2022-05-08T02:53:45.557135",
     "exception": false,
     "start_time": "2022-05-08T02:53:45.541021",
     "status": "completed"
    },
    "tags": []
   },
   "source": [
    "# Koreliacijų matrica\n",
    "> Išplėstinė koreliacijų matrica. \n",
    "\n",
    "- toc: true \n",
    "- badges: true\n",
    "- comments: false\n",
    "- categories: [Dominykas Tautkus]\n",
    "- image: images/matrix.png"
   ]
  },
  {
   "cell_type": "code",
   "execution_count": null,
   "id": "premium-weekend",
   "metadata": {
    "papermill": {
     "duration": 0.012455,
     "end_time": "2022-05-08T02:53:45.583206",
     "exception": false,
     "start_time": "2022-05-08T02:53:45.570751",
     "status": "completed"
    },
    "tags": []
   },
   "outputs": [],
   "source": []
  },
  {
   "cell_type": "code",
   "execution_count": 1,
   "id": "vertical-rebate",
   "metadata": {
    "execution": {
     "iopub.execute_input": "2022-05-08T02:53:45.619998Z",
     "iopub.status.busy": "2022-05-08T02:53:45.619342Z",
     "iopub.status.idle": "2022-05-08T02:53:45.631837Z",
     "shell.execute_reply": "2022-05-08T02:53:45.632322Z"
    },
    "papermill": {
     "duration": 0.037032,
     "end_time": "2022-05-08T02:53:45.632509",
     "exception": false,
     "start_time": "2022-05-08T02:53:45.595477",
     "status": "completed"
    },
    "tags": []
   },
   "outputs": [],
   "source": [
    "#hide\n",
    "%load_ext autoreload\n",
    "%autoreload 2"
   ]
  },
  {
   "cell_type": "code",
   "execution_count": 2,
   "id": "overall-advancement",
   "metadata": {
    "execution": {
     "iopub.execute_input": "2022-05-08T02:53:45.661988Z",
     "iopub.status.busy": "2022-05-08T02:53:45.661350Z",
     "iopub.status.idle": "2022-05-08T02:53:47.131875Z",
     "shell.execute_reply": "2022-05-08T02:53:47.130851Z"
    },
    "papermill": {
     "duration": 1.48692,
     "end_time": "2022-05-08T02:53:47.132031",
     "exception": false,
     "start_time": "2022-05-08T02:53:45.645111",
     "status": "completed"
    },
    "tags": []
   },
   "outputs": [],
   "source": [
    "#hide\n",
    "from scripts.read_data import read_api\n",
    "from IPython.display import HTML\n",
    "import plotly.graph_objects as go\n"
   ]
  },
  {
   "cell_type": "code",
   "execution_count": 3,
   "id": "light-crazy",
   "metadata": {
    "execution": {
     "iopub.execute_input": "2022-05-08T02:53:47.163482Z",
     "iopub.status.busy": "2022-05-08T02:53:47.162575Z",
     "iopub.status.idle": "2022-05-08T02:53:47.189331Z",
     "shell.execute_reply": "2022-05-08T02:53:47.188770Z"
    },
    "papermill": {
     "duration": 0.044858,
     "end_time": "2022-05-08T02:53:47.189466",
     "exception": false,
     "start_time": "2022-05-08T02:53:47.144608",
     "status": "completed"
    },
    "tags": []
   },
   "outputs": [],
   "source": [
    "#hide\n",
    "### ICO koreliacija"
   ]
  },
  {
   "cell_type": "code",
   "execution_count": 4,
   "id": "likely-bahrain",
   "metadata": {
    "execution": {
     "iopub.execute_input": "2022-05-08T02:53:47.222798Z",
     "iopub.status.busy": "2022-05-08T02:53:47.222143Z",
     "iopub.status.idle": "2022-05-08T02:53:48.225548Z",
     "shell.execute_reply": "2022-05-08T02:53:48.224413Z"
    },
    "papermill": {
     "duration": 1.021465,
     "end_time": "2022-05-08T02:53:48.225699",
     "exception": false,
     "start_time": "2022-05-08T02:53:47.204234",
     "status": "completed"
    },
    "tags": []
   },
   "outputs": [],
   "source": [
    "#hide\n",
    "import matplotlib.pyplot as plt\n",
    "import numpy as np\n",
    "import pandas as pd\n",
    "import seaborn as sns\n",
    "import matplotlib.pyplot as plt \n",
    "import matplotlib.dates as mdates\n",
    "import matplotlib.pyplot as plt"
   ]
  },
  {
   "cell_type": "code",
   "execution_count": 5,
   "id": "superior-blanket",
   "metadata": {
    "execution": {
     "iopub.execute_input": "2022-05-08T02:53:48.267745Z",
     "iopub.status.busy": "2022-05-08T02:53:48.266638Z",
     "iopub.status.idle": "2022-05-08T02:53:57.493174Z",
     "shell.execute_reply": "2022-05-08T02:53:57.492599Z"
    },
    "papermill": {
     "duration": 9.25504,
     "end_time": "2022-05-08T02:53:57.493309",
     "exception": false,
     "start_time": "2022-05-08T02:53:48.238269",
     "status": "completed"
    },
    "tags": []
   },
   "outputs": [
    {
     "name": "stderr",
     "output_type": "stream",
     "text": [
      "/home/runner/work/corr-app/corr-app/_notebooks/scripts/read_data.py:187: SettingWithCopyWarning:\n",
      "\n",
      "\n",
      "A value is trying to be set on a copy of a slice from a DataFrame.\n",
      "Try using .loc[row_indexer,col_indexer] = value instead\n",
      "\n",
      "See the caveats in the documentation: https://pandas.pydata.org/pandas-docs/stable/user_guide/indexing.html#returning-a-view-versus-a-copy\n",
      "\n"
     ]
    },
    {
     "name": "stderr",
     "output_type": "stream",
     "text": [
      "/home/runner/work/corr-app/corr-app/_notebooks/scripts/read_data.py:215: SettingWithCopyWarning:\n",
      "\n",
      "\n",
      "A value is trying to be set on a copy of a slice from a DataFrame.\n",
      "Try using .loc[row_indexer,col_indexer] = value instead\n",
      "\n",
      "See the caveats in the documentation: https://pandas.pydata.org/pandas-docs/stable/user_guide/indexing.html#returning-a-view-versus-a-copy\n",
      "\n"
     ]
    }
   ],
   "source": [
    "#hide\n",
    "df_all = read_api()\n",
    "#df_all = df_all.drop(['SP500', 'XAU', 'ETH', 'BTC'], axis=1)\n",
    "\n"
   ]
  },
  {
   "cell_type": "code",
   "execution_count": 6,
   "id": "mature-alert",
   "metadata": {
    "execution": {
     "iopub.execute_input": "2022-05-08T02:53:57.524107Z",
     "iopub.status.busy": "2022-05-08T02:53:57.523482Z",
     "iopub.status.idle": "2022-05-08T02:53:57.561361Z",
     "shell.execute_reply": "2022-05-08T02:53:57.561880Z"
    },
    "papermill": {
     "duration": 0.055629,
     "end_time": "2022-05-08T02:53:57.562035",
     "exception": false,
     "start_time": "2022-05-08T02:53:57.506406",
     "status": "completed"
    },
    "tags": []
   },
   "outputs": [],
   "source": [
    "#hide_input\n",
    "sum_corr = df_all.corr().sum().sort_values(ascending=True).index.values\n",
    "#df_all[sum_corr].corr()"
   ]
  },
  {
   "cell_type": "markdown",
   "id": "complex-syndicate",
   "metadata": {
    "papermill": {
     "duration": 0.013201,
     "end_time": "2022-05-08T02:53:57.588481",
     "exception": false,
     "start_time": "2022-05-08T02:53:57.575280",
     "status": "completed"
    },
    "tags": []
   },
   "source": [
    "## Išplėstinė koreliacijų matrica. "
   ]
  },
  {
   "cell_type": "code",
   "execution_count": 7,
   "id": "atomic-omaha",
   "metadata": {
    "execution": {
     "iopub.execute_input": "2022-05-08T02:53:57.619705Z",
     "iopub.status.busy": "2022-05-08T02:53:57.618242Z",
     "iopub.status.idle": "2022-05-08T02:53:59.038510Z",
     "shell.execute_reply": "2022-05-08T02:53:59.037989Z"
    },
    "papermill": {
     "duration": 1.437409,
     "end_time": "2022-05-08T02:53:59.038677",
     "exception": false,
     "start_time": "2022-05-08T02:53:57.601268",
     "status": "completed"
    },
    "tags": []
   },
   "outputs": [
    {
     "data": {
      "image/png": "[encoded data removed]",
      "text/plain": [
       "<Figure size 1080x792 with 2 Axes>"
      ]
     },
     "metadata": {
      "needs_background": "light"
     },
     "output_type": "display_data"
    }
   ],
   "source": [
    "#hide_input\n",
    "plt.figure(figsize=(15, 11))\n",
    "sns.heatmap(df_all[sum_corr].corr(), annot=True, cmap=\"cubehelix\") \n",
    "sns.set(font_scale=1.25)\n",
    "plt.savefig('corr_matrix.png', format='eps')"
   ]
  },
  {
   "cell_type": "code",
   "execution_count": 8,
   "id": "arbitrary-sullivan",
   "metadata": {
    "execution": {
     "iopub.execute_input": "2022-05-08T02:53:59.074953Z",
     "iopub.status.busy": "2022-05-08T02:53:59.074077Z",
     "iopub.status.idle": "2022-05-08T02:53:59.106805Z",
     "shell.execute_reply": "2022-05-08T02:53:59.106061Z"
    },
    "papermill": {
     "duration": 0.052519,
     "end_time": "2022-05-08T02:53:59.106973",
     "exception": false,
     "start_time": "2022-05-08T02:53:59.054454",
     "status": "completed"
    },
    "tags": []
   },
   "outputs": [],
   "source": [
    "#hide\n",
    "#df_all_mrk = read_api()"
   ]
  },
  {
   "cell_type": "code",
   "execution_count": 9,
   "id": "delayed-adapter",
   "metadata": {
    "execution": {
     "iopub.execute_input": "2022-05-08T02:53:59.144489Z",
     "iopub.status.busy": "2022-05-08T02:53:59.143878Z",
     "iopub.status.idle": "2022-05-08T02:53:59.180741Z",
     "shell.execute_reply": "2022-05-08T02:53:59.176814Z"
    },
    "papermill": {
     "duration": 0.057916,
     "end_time": "2022-05-08T02:53:59.180907",
     "exception": false,
     "start_time": "2022-05-08T02:53:59.122991",
     "status": "completed"
    },
    "tags": []
   },
   "outputs": [],
   "source": [
    "#hide\n",
    "#Koreliacijų koeficientai"
   ]
  },
  {
   "cell_type": "code",
   "execution_count": 10,
   "id": "seeing-celebration",
   "metadata": {
    "execution": {
     "iopub.execute_input": "2022-05-08T02:53:59.224656Z",
     "iopub.status.busy": "2022-05-08T02:53:59.223784Z",
     "iopub.status.idle": "2022-05-08T02:53:59.255535Z",
     "shell.execute_reply": "2022-05-08T02:53:59.254789Z"
    },
    "papermill": {
     "duration": 0.05633,
     "end_time": "2022-05-08T02:53:59.255709",
     "exception": false,
     "start_time": "2022-05-08T02:53:59.199379",
     "status": "completed"
    },
    "tags": []
   },
   "outputs": [],
   "source": [
    "#hide_input\n",
    "#sum_corr = df_all_mrk.corr().sum().sort_values(ascending=True).index.values\n",
    "#df_all_mrk[sum_corr].corr()"
   ]
  },
  {
   "cell_type": "code",
   "execution_count": 11,
   "id": "other-painting",
   "metadata": {
    "execution": {
     "iopub.execute_input": "2022-05-08T02:53:59.295898Z",
     "iopub.status.busy": "2022-05-08T02:53:59.295289Z",
     "iopub.status.idle": "2022-05-08T02:53:59.333645Z",
     "shell.execute_reply": "2022-05-08T02:53:59.333109Z"
    },
    "papermill": {
     "duration": 0.059366,
     "end_time": "2022-05-08T02:53:59.333786",
     "exception": false,
     "start_time": "2022-05-08T02:53:59.274420",
     "status": "completed"
    },
    "tags": []
   },
   "outputs": [],
   "source": [
    "#hide\n",
    "#Koreliacijos matrica. "
   ]
  },
  {
   "cell_type": "code",
   "execution_count": 12,
   "id": "modular-magnitude",
   "metadata": {
    "execution": {
     "iopub.execute_input": "2022-05-08T02:53:59.369688Z",
     "iopub.status.busy": "2022-05-08T02:53:59.369071Z",
     "iopub.status.idle": "2022-05-08T02:53:59.400535Z",
     "shell.execute_reply": "2022-05-08T02:53:59.400004Z"
    },
    "papermill": {
     "duration": 0.051121,
     "end_time": "2022-05-08T02:53:59.400675",
     "exception": false,
     "start_time": "2022-05-08T02:53:59.349554",
     "status": "completed"
    },
    "tags": []
   },
   "outputs": [],
   "source": [
    "#hide_input\n",
    "#plt.figure(figsize=(15, 8))\n",
    "#sns.heatmap(df_all_mrk[sum_corr].corr(), annot=True, cmap=\"BrBG\");\n",
    "#plt.savefig('corr_matrix_all.eps', format='eps')"
   ]
  },
  {
   "cell_type": "code",
   "execution_count": null,
   "id": "original-senator",
   "metadata": {
    "papermill": {
     "duration": 0.015139,
     "end_time": "2022-05-08T02:53:59.431124",
     "exception": false,
     "start_time": "2022-05-08T02:53:59.415985",
     "status": "completed"
    },
    "tags": []
   },
   "outputs": [],
   "source": []
  },
  {
   "cell_type": "code",
   "execution_count": null,
   "id": "saving-secretariat",
   "metadata": {
    "papermill": {
     "duration": 0.01513,
     "end_time": "2022-05-08T02:53:59.461458",
     "exception": false,
     "start_time": "2022-05-08T02:53:59.446328",
     "status": "completed"
    },
    "tags": []
   },
   "outputs": [],
   "source": []
  }
 ],
 "metadata": {
  "kernelspec": {
   "display_name": "Python 3",
   "language": "python",
   "name": "python3"
  },
  "language_info": {
   "codemirror_mode": {
    "name": "ipython",
    "version": 3
   },
   "file_extension": ".py",
   "mimetype": "text/x-python",
   "name": "python",
   "nbconvert_exporter": "python",
   "pygments_lexer": "ipython3",
   "version": "3.6.15"
  },
  "papermill": {
   "default_parameters": {},
   "duration": 15.877551,
   "end_time": "2022-05-08T02:54:00.099016",
   "environment_variables": {},
   "exception": null,
   "input_path": "App-Correlation_charts.ipynb",
   "output_path": "App-Correlation_charts.ipynb",
   "parameters": {},
   "start_time": "2022-05-08T02:53:44.221465",
   "version": "2.2.2"
  }
 },
 "nbformat": 4,
 "nbformat_minor": 5
}