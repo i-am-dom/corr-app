{
 "cells": [
  {
   "cell_type": "markdown",
   "id": "touched-facility",
   "metadata": {
    "papermill": {
     "duration": 0.020596,
     "end_time": "2022-09-26T03:51:42.817475",
     "exception": false,
     "start_time": "2022-09-26T03:51:42.796879",
     "status": "completed"
    },
    "tags": []
   },
   "source": [
    "# Koreliacijų matrica\n",
    "> Išplėstinė koreliacijų matrica. \n",
    "\n",
    "- toc: true \n",
    "- badges: true\n",
    "- comments: false\n",
    "- categories: [Dominykas Tautkus]\n",
    "- image: images/matrix.png"
   ]
  },
  {
   "cell_type": "code",
   "execution_count": null,
   "id": "premium-weekend",
   "metadata": {
    "papermill": {
     "duration": 0.012474,
     "end_time": "2022-09-26T03:51:42.843934",
     "exception": false,
     "start_time": "2022-09-26T03:51:42.831460",
     "status": "completed"
    },
    "tags": []
   },
   "outputs": [],
   "source": []
  },
  {
   "cell_type": "code",
   "execution_count": 1,
   "id": "vertical-rebate",
   "metadata": {
    "execution": {
     "iopub.execute_input": "2022-09-26T03:51:42.883722Z",
     "iopub.status.busy": "2022-09-26T03:51:42.883020Z",
     "iopub.status.idle": "2022-09-26T03:51:42.896773Z",
     "shell.execute_reply": "2022-09-26T03:51:42.896192Z"
    },
    "papermill": {
     "duration": 0.040354,
     "end_time": "2022-09-26T03:51:42.896915",
     "exception": false,
     "start_time": "2022-09-26T03:51:42.856561",
     "status": "completed"
    },
    "tags": []
   },
   "outputs": [],
   "source": [
    "#hide\n",
    "%load_ext autoreload\n",
    "%autoreload 2"
   ]
  },
  {
   "cell_type": "code",
   "execution_count": 2,
   "id": "overall-advancement",
   "metadata": {
    "execution": {
     "iopub.execute_input": "2022-09-26T03:51:42.926656Z",
     "iopub.status.busy": "2022-09-26T03:51:42.925956Z",
     "iopub.status.idle": "2022-09-26T03:51:44.418203Z",
     "shell.execute_reply": "2022-09-26T03:51:44.417167Z"
    },
    "papermill": {
     "duration": 1.509082,
     "end_time": "2022-09-26T03:51:44.418434",
     "exception": false,
     "start_time": "2022-09-26T03:51:42.909352",
     "status": "completed"
    },
    "tags": []
   },
   "outputs": [],
   "source": [
    "#hide\n",
    "from scripts.read_data import read_api\n",
    "from IPython.display import HTML\n",
    "import plotly.graph_objects as go\n"
   ]
  },
  {
   "cell_type": "code",
   "execution_count": 3,
   "id": "light-crazy",
   "metadata": {
    "execution": {
     "iopub.execute_input": "2022-09-26T03:51:44.451691Z",
     "iopub.status.busy": "2022-09-26T03:51:44.450979Z",
     "iopub.status.idle": "2022-09-26T03:51:44.479489Z",
     "shell.execute_reply": "2022-09-26T03:51:44.478691Z"
    },
    "papermill": {
     "duration": 0.046936,
     "end_time": "2022-09-26T03:51:44.479659",
     "exception": false,
     "start_time": "2022-09-26T03:51:44.432723",
     "status": "completed"
    },
    "tags": []
   },
   "outputs": [],
   "source": [
    "#hide\n",
    "### ICO koreliacija"
   ]
  },
  {
   "cell_type": "code",
   "execution_count": 4,
   "id": "likely-bahrain",
   "metadata": {
    "execution": {
     "iopub.execute_input": "2022-09-26T03:51:44.515713Z",
     "iopub.status.busy": "2022-09-26T03:51:44.515003Z",
     "iopub.status.idle": "2022-09-26T03:51:45.530796Z",
     "shell.execute_reply": "2022-09-26T03:51:45.530156Z"
    },
    "papermill": {
     "duration": 1.037929,
     "end_time": "2022-09-26T03:51:45.530939",
     "exception": false,
     "start_time": "2022-09-26T03:51:44.493010",
     "status": "completed"
    },
    "tags": []
   },
   "outputs": [],
   "source": [
    "#hide\n",
    "import matplotlib.pyplot as plt\n",
    "import numpy as np\n",
    "import pandas as pd\n",
    "import seaborn as sns\n",
    "import matplotlib.pyplot as plt \n",
    "import matplotlib.dates as mdates\n",
    "import matplotlib.pyplot as plt"
   ]
  },
  {
   "cell_type": "code",
   "execution_count": 5,
   "id": "superior-blanket",
   "metadata": {
    "execution": {
     "iopub.execute_input": "2022-09-26T03:51:45.565221Z",
     "iopub.status.busy": "2022-09-26T03:51:45.561849Z",
     "iopub.status.idle": "2022-09-26T03:51:57.896590Z",
     "shell.execute_reply": "2022-09-26T03:51:57.895410Z"
    },
    "papermill": {
     "duration": 12.352885,
     "end_time": "2022-09-26T03:51:57.896754",
     "exception": false,
     "start_time": "2022-09-26T03:51:45.543869",
     "status": "completed"
    },
    "tags": []
   },
   "outputs": [
    {
     "name": "stderr",
     "output_type": "stream",
     "text": [
      "/home/runner/work/corr-app/corr-app/_notebooks/scripts/read_data.py:187: SettingWithCopyWarning:\n",
      "\n",
      "\n",
      "A value is trying to be set on a copy of a slice from a DataFrame.\n",
      "Try using .loc[row_indexer,col_indexer] = value instead\n",
      "\n",
      "See the caveats in the documentation: https://pandas.pydata.org/pandas-docs/stable/user_guide/indexing.html#returning-a-view-versus-a-copy\n",
      "\n"
     ]
    },
    {
     "name": "stderr",
     "output_type": "stream",
     "text": [
      "/home/runner/work/corr-app/corr-app/_notebooks/scripts/read_data.py:215: SettingWithCopyWarning:\n",
      "\n",
      "\n",
      "A value is trying to be set on a copy of a slice from a DataFrame.\n",
      "Try using .loc[row_indexer,col_indexer] = value instead\n",
      "\n",
      "See the caveats in the documentation: https://pandas.pydata.org/pandas-docs/stable/user_guide/indexing.html#returning-a-view-versus-a-copy\n",
      "\n"
     ]
    }
   ],
   "source": [
    "#hide\n",
    "df_all = read_api()\n",
    "#df_all = df_all.drop(['SP500', 'XAU', 'ETH', 'BTC'], axis=1)\n",
    "\n"
   ]
  },
  {
   "cell_type": "code",
   "execution_count": 6,
   "id": "mature-alert",
   "metadata": {
    "execution": {
     "iopub.execute_input": "2022-09-26T03:51:57.930413Z",
     "iopub.status.busy": "2022-09-26T03:51:57.929178Z",
     "iopub.status.idle": "2022-09-26T03:51:57.965924Z",
     "shell.execute_reply": "2022-09-26T03:51:57.964939Z"
    },
    "papermill": {
     "duration": 0.054357,
     "end_time": "2022-09-26T03:51:57.966143",
     "exception": false,
     "start_time": "2022-09-26T03:51:57.911786",
     "status": "completed"
    },
    "tags": []
   },
   "outputs": [],
   "source": [
    "#hide_input\n",
    "sum_corr = df_all.corr().sum().sort_values(ascending=True).index.values\n",
    "#df_all[sum_corr].corr()"
   ]
  },
  {
   "cell_type": "markdown",
   "id": "complex-syndicate",
   "metadata": {
    "papermill": {
     "duration": 0.013112,
     "end_time": "2022-09-26T03:51:57.993258",
     "exception": false,
     "start_time": "2022-09-26T03:51:57.980146",
     "status": "completed"
    },
    "tags": []
   },
   "source": [
    "## Išplėstinė koreliacijų matrica. "
   ]
  },
  {
   "cell_type": "code",
   "execution_count": 7,
   "id": "atomic-omaha",
   "metadata": {
    "execution": {
     "iopub.execute_input": "2022-09-26T03:51:58.031226Z",
     "iopub.status.busy": "2022-09-26T03:51:58.030523Z",
     "iopub.status.idle": "2022-09-26T03:51:59.460743Z",
     "shell.execute_reply": "2022-09-26T03:51:59.461274Z"
    },
    "papermill": {
     "duration": 1.455035,
     "end_time": "2022-09-26T03:51:59.461443",
     "exception": false,
     "start_time": "2022-09-26T03:51:58.006408",
     "status": "completed"
    },
    "tags": []
   },
   "outputs": [
    {
     "data": {
      "image/png": "[encoded data removed]",
      "text/plain": [
       "<Figure size 1080x792 with 2 Axes>"
      ]
     },
     "metadata": {
      "needs_background": "light"
     },
     "output_type": "display_data"
    }
   ],
   "source": [
    "#hide_input\n",
    "plt.figure(figsize=(15, 11))\n",
    "sns.heatmap(df_all[sum_corr].corr(), annot=True, cmap=\"cubehelix\") \n",
    "sns.set(font_scale=1.25)\n",
    "plt.savefig('corr_matrix.png', format='eps')"
   ]
  },
  {
   "cell_type": "code",
   "execution_count": 8,
   "id": "arbitrary-sullivan",
   "metadata": {
    "execution": {
     "iopub.execute_input": "2022-09-26T03:51:59.498564Z",
     "iopub.status.busy": "2022-09-26T03:51:59.497841Z",
     "iopub.status.idle": "2022-09-26T03:51:59.529749Z",
     "shell.execute_reply": "2022-09-26T03:51:59.530765Z"
    },
    "papermill": {
     "duration": 0.053185,
     "end_time": "2022-09-26T03:51:59.530985",
     "exception": false,
     "start_time": "2022-09-26T03:51:59.477800",
     "status": "completed"
    },
    "tags": []
   },
   "outputs": [],
   "source": [
    "#hide\n",
    "#df_all_mrk = read_api()"
   ]
  },
  {
   "cell_type": "code",
   "execution_count": 9,
   "id": "delayed-adapter",
   "metadata": {
    "execution": {
     "iopub.execute_input": "2022-09-26T03:51:59.571884Z",
     "iopub.status.busy": "2022-09-26T03:51:59.571155Z",
     "iopub.status.idle": "2022-09-26T03:51:59.600942Z",
     "shell.execute_reply": "2022-09-26T03:51:59.600314Z"
    },
    "papermill": {
     "duration": 0.053563,
     "end_time": "2022-09-26T03:51:59.601085",
     "exception": false,
     "start_time": "2022-09-26T03:51:59.547522",
     "status": "completed"
    },
    "tags": []
   },
   "outputs": [],
   "source": [
    "#hide\n",
    "#Koreliacijų koeficientai"
   ]
  },
  {
   "cell_type": "code",
   "execution_count": 10,
   "id": "seeing-celebration",
   "metadata": {
    "execution": {
     "iopub.execute_input": "2022-09-26T03:51:59.640447Z",
     "iopub.status.busy": "2022-09-26T03:51:59.638768Z",
     "iopub.status.idle": "2022-09-26T03:51:59.672296Z",
     "shell.execute_reply": "2022-09-26T03:51:59.671662Z"
    },
    "papermill": {
     "duration": 0.055194,
     "end_time": "2022-09-26T03:51:59.672439",
     "exception": false,
     "start_time": "2022-09-26T03:51:59.617245",
     "status": "completed"
    },
    "tags": []
   },
   "outputs": [],
   "source": [
    "#hide_input\n",
    "#sum_corr = df_all_mrk.corr().sum().sort_values(ascending=True).index.values\n",
    "#df_all_mrk[sum_corr].corr()"
   ]
  },
  {
   "cell_type": "code",
   "execution_count": 11,
   "id": "other-painting",
   "metadata": {
    "execution": {
     "iopub.execute_input": "2022-09-26T03:51:59.716431Z",
     "iopub.status.busy": "2022-09-26T03:51:59.715685Z",
     "iopub.status.idle": "2022-09-26T03:51:59.747343Z",
     "shell.execute_reply": "2022-09-26T03:51:59.746738Z"
    },
    "papermill": {
     "duration": 0.059021,
     "end_time": "2022-09-26T03:51:59.747486",
     "exception": false,
     "start_time": "2022-09-26T03:51:59.688465",
     "status": "completed"
    },
    "tags": []
   },
   "outputs": [],
   "source": [
    "#hide\n",
    "#Koreliacijos matrica. "
   ]
  },
  {
   "cell_type": "code",
   "execution_count": 12,
   "id": "modular-magnitude",
   "metadata": {
    "execution": {
     "iopub.execute_input": "2022-09-26T03:51:59.788151Z",
     "iopub.status.busy": "2022-09-26T03:51:59.783655Z",
     "iopub.status.idle": "2022-09-26T03:51:59.816765Z",
     "shell.execute_reply": "2022-09-26T03:51:59.816171Z"
    },
    "papermill": {
     "duration": 0.053253,
     "end_time": "2022-09-26T03:51:59.816901",
     "exception": false,
     "start_time": "2022-09-26T03:51:59.763648",
     "status": "completed"
    },
    "tags": []
   },
   "outputs": [],
   "source": [
    "#hide_input\n",
    "#plt.figure(figsize=(15, 8))\n",
    "#sns.heatmap(df_all_mrk[sum_corr].corr(), annot=True, cmap=\"BrBG\");\n",
    "#plt.savefig('corr_matrix_all.eps', format='eps')"
   ]
  },
  {
   "cell_type": "code",
   "execution_count": null,
   "id": "original-senator",
   "metadata": {
    "papermill": {
     "duration": 0.016144,
     "end_time": "2022-09-26T03:51:59.848823",
     "exception": false,
     "start_time": "2022-09-26T03:51:59.832679",
     "status": "completed"
    },
    "tags": []
   },
   "outputs": [],
   "source": []
  },
  {
   "cell_type": "code",
   "execution_count": null,
   "id": "saving-secretariat",
   "metadata": {
    "papermill": {
     "duration": 0.015586,
     "end_time": "2022-09-26T03:51:59.880423",
     "exception": false,
     "start_time": "2022-09-26T03:51:59.864837",
     "status": "completed"
    },
    "tags": []
   },
   "outputs": [],
   "source": []
  }
 ],
 "metadata": {
  "kernelspec": {
   "display_name": "Python 3",
   "language": "python",
   "name": "python3"
  },
  "language_info": {
   "codemirror_mode": {
    "name": "ipython",
    "version": 3
   },
   "file_extension": ".py",
   "mimetype": "text/x-python",
   "name": "python",
   "nbconvert_exporter": "python",
   "pygments_lexer": "ipython3",
   "version": "3.6.15"
  },
  "papermill": {
   "default_parameters": {},
   "duration": 19.015969,
   "end_time": "2022-09-26T03:52:00.517933",
   "environment_variables": {},
   "exception": null,
   "input_path": "App-Correlation_charts.ipynb",
   "output_path": "App-Correlation_charts.ipynb",
   "parameters": {},
   "start_time": "2022-09-26T03:51:41.501964",
   "version": "2.2.2"
  }
 },
 "nbformat": 4,
 "nbformat_minor": 5
}