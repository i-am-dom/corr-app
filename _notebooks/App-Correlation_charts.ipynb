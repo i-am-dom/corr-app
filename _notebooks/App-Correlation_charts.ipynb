{
 "cells": [
  {
   "cell_type": "markdown",
   "id": "touched-facility",
   "metadata": {
    "papermill": {
     "duration": 0.01819,
     "end_time": "2022-07-11T03:10:37.484078",
     "exception": false,
     "start_time": "2022-07-11T03:10:37.465888",
     "status": "completed"
    },
    "tags": []
   },
   "source": [
    "# Koreliacijų matrica\n",
    "> Išplėstinė koreliacijų matrica. \n",
    "\n",
    "- toc: true \n",
    "- badges: true\n",
    "- comments: false\n",
    "- categories: [Dominykas Tautkus]\n",
    "- image: images/matrix.png"
   ]
  },
  {
   "cell_type": "code",
   "execution_count": null,
   "id": "premium-weekend",
   "metadata": {
    "papermill": {
     "duration": 0.017929,
     "end_time": "2022-07-11T03:10:37.522699",
     "exception": false,
     "start_time": "2022-07-11T03:10:37.504770",
     "status": "completed"
    },
    "tags": []
   },
   "outputs": [],
   "source": []
  },
  {
   "cell_type": "code",
   "execution_count": 1,
   "id": "vertical-rebate",
   "metadata": {
    "execution": {
     "iopub.execute_input": "2022-07-11T03:10:37.562979Z",
     "iopub.status.busy": "2022-07-11T03:10:37.562198Z",
     "iopub.status.idle": "2022-07-11T03:10:37.575649Z",
     "shell.execute_reply": "2022-07-11T03:10:37.576399Z"
    },
    "papermill": {
     "duration": 0.039384,
     "end_time": "2022-07-11T03:10:37.576583",
     "exception": false,
     "start_time": "2022-07-11T03:10:37.537199",
     "status": "completed"
    },
    "tags": []
   },
   "outputs": [],
   "source": [
    "#hide\n",
    "%load_ext autoreload\n",
    "%autoreload 2"
   ]
  },
  {
   "cell_type": "code",
   "execution_count": 2,
   "id": "overall-advancement",
   "metadata": {
    "execution": {
     "iopub.execute_input": "2022-07-11T03:10:37.609184Z",
     "iopub.status.busy": "2022-07-11T03:10:37.608391Z",
     "iopub.status.idle": "2022-07-11T03:10:39.193519Z",
     "shell.execute_reply": "2022-07-11T03:10:39.192801Z"
    },
    "papermill": {
     "duration": 1.602755,
     "end_time": "2022-07-11T03:10:39.193691",
     "exception": false,
     "start_time": "2022-07-11T03:10:37.590936",
     "status": "completed"
    },
    "tags": []
   },
   "outputs": [],
   "source": [
    "#hide\n",
    "from scripts.read_data import read_api\n",
    "from IPython.display import HTML\n",
    "import plotly.graph_objects as go\n"
   ]
  },
  {
   "cell_type": "code",
   "execution_count": 3,
   "id": "light-crazy",
   "metadata": {
    "execution": {
     "iopub.execute_input": "2022-07-11T03:10:39.229320Z",
     "iopub.status.busy": "2022-07-11T03:10:39.228524Z",
     "iopub.status.idle": "2022-07-11T03:10:39.257886Z",
     "shell.execute_reply": "2022-07-11T03:10:39.257194Z"
    },
    "papermill": {
     "duration": 0.048515,
     "end_time": "2022-07-11T03:10:39.258044",
     "exception": false,
     "start_time": "2022-07-11T03:10:39.209529",
     "status": "completed"
    },
    "tags": []
   },
   "outputs": [],
   "source": [
    "#hide\n",
    "### ICO koreliacija"
   ]
  },
  {
   "cell_type": "code",
   "execution_count": 4,
   "id": "likely-bahrain",
   "metadata": {
    "execution": {
     "iopub.execute_input": "2022-07-11T03:10:39.293165Z",
     "iopub.status.busy": "2022-07-11T03:10:39.292313Z",
     "iopub.status.idle": "2022-07-11T03:10:40.331474Z",
     "shell.execute_reply": "2022-07-11T03:10:40.330796Z"
    },
    "papermill": {
     "duration": 1.059433,
     "end_time": "2022-07-11T03:10:40.331626",
     "exception": false,
     "start_time": "2022-07-11T03:10:39.272193",
     "status": "completed"
    },
    "tags": []
   },
   "outputs": [],
   "source": [
    "#hide\n",
    "import matplotlib.pyplot as plt\n",
    "import numpy as np\n",
    "import pandas as pd\n",
    "import seaborn as sns\n",
    "import matplotlib.pyplot as plt \n",
    "import matplotlib.dates as mdates\n",
    "import matplotlib.pyplot as plt"
   ]
  },
  {
   "cell_type": "code",
   "execution_count": 5,
   "id": "superior-blanket",
   "metadata": {
    "execution": {
     "iopub.execute_input": "2022-07-11T03:10:40.369959Z",
     "iopub.status.busy": "2022-07-11T03:10:40.369176Z",
     "iopub.status.idle": "2022-07-11T03:10:55.903779Z",
     "shell.execute_reply": "2022-07-11T03:10:55.903087Z"
    },
    "papermill": {
     "duration": 15.558365,
     "end_time": "2022-07-11T03:10:55.903931",
     "exception": false,
     "start_time": "2022-07-11T03:10:40.345566",
     "status": "completed"
    },
    "tags": []
   },
   "outputs": [
    {
     "name": "stderr",
     "output_type": "stream",
     "text": [
      "/home/runner/work/corr-app/corr-app/_notebooks/scripts/read_data.py:187: SettingWithCopyWarning:\n",
      "\n",
      "\n",
      "A value is trying to be set on a copy of a slice from a DataFrame.\n",
      "Try using .loc[row_indexer,col_indexer] = value instead\n",
      "\n",
      "See the caveats in the documentation: https://pandas.pydata.org/pandas-docs/stable/user_guide/indexing.html#returning-a-view-versus-a-copy\n",
      "\n"
     ]
    },
    {
     "name": "stderr",
     "output_type": "stream",
     "text": [
      "/home/runner/work/corr-app/corr-app/_notebooks/scripts/read_data.py:215: SettingWithCopyWarning:\n",
      "\n",
      "\n",
      "A value is trying to be set on a copy of a slice from a DataFrame.\n",
      "Try using .loc[row_indexer,col_indexer] = value instead\n",
      "\n",
      "See the caveats in the documentation: https://pandas.pydata.org/pandas-docs/stable/user_guide/indexing.html#returning-a-view-versus-a-copy\n",
      "\n"
     ]
    }
   ],
   "source": [
    "#hide\n",
    "df_all = read_api()\n",
    "#df_all = df_all.drop(['SP500', 'XAU', 'ETH', 'BTC'], axis=1)\n",
    "\n"
   ]
  },
  {
   "cell_type": "code",
   "execution_count": 6,
   "id": "mature-alert",
   "metadata": {
    "execution": {
     "iopub.execute_input": "2022-07-11T03:10:55.951742Z",
     "iopub.status.busy": "2022-07-11T03:10:55.948614Z",
     "iopub.status.idle": "2022-07-11T03:10:55.986157Z",
     "shell.execute_reply": "2022-07-11T03:10:55.985515Z"
    },
    "papermill": {
     "duration": 0.061857,
     "end_time": "2022-07-11T03:10:55.986323",
     "exception": false,
     "start_time": "2022-07-11T03:10:55.924466",
     "status": "completed"
    },
    "tags": []
   },
   "outputs": [],
   "source": [
    "#hide_input\n",
    "sum_corr = df_all.corr().sum().sort_values(ascending=True).index.values\n",
    "#df_all[sum_corr].corr()"
   ]
  },
  {
   "cell_type": "markdown",
   "id": "complex-syndicate",
   "metadata": {
    "papermill": {
     "duration": 0.01439,
     "end_time": "2022-07-11T03:10:56.015895",
     "exception": false,
     "start_time": "2022-07-11T03:10:56.001505",
     "status": "completed"
    },
    "tags": []
   },
   "source": [
    "## Išplėstinė koreliacijų matrica. "
   ]
  },
  {
   "cell_type": "code",
   "execution_count": 7,
   "id": "atomic-omaha",
   "metadata": {
    "execution": {
     "iopub.execute_input": "2022-07-11T03:10:56.059247Z",
     "iopub.status.busy": "2022-07-11T03:10:56.051387Z",
     "iopub.status.idle": "2022-07-11T03:10:57.648918Z",
     "shell.execute_reply": "2022-07-11T03:10:57.648287Z"
    },
    "papermill": {
     "duration": 1.618103,
     "end_time": "2022-07-11T03:10:57.649103",
     "exception": false,
     "start_time": "2022-07-11T03:10:56.031000",
     "status": "completed"
    },
    "tags": []
   },
   "outputs": [
    {
     "data": {
      "image/png": "[encoded data removed]",
      "text/plain": [
       "<Figure size 1080x792 with 2 Axes>"
      ]
     },
     "metadata": {
      "needs_background": "light"
     },
     "output_type": "display_data"
    }
   ],
   "source": [
    "#hide_input\n",
    "plt.figure(figsize=(15, 11))\n",
    "sns.heatmap(df_all[sum_corr].corr(), annot=True, cmap=\"cubehelix\") \n",
    "sns.set(font_scale=1.25)\n",
    "plt.savefig('corr_matrix.png', format='eps')"
   ]
  },
  {
   "cell_type": "code",
   "execution_count": 8,
   "id": "arbitrary-sullivan",
   "metadata": {
    "execution": {
     "iopub.execute_input": "2022-07-11T03:10:57.692583Z",
     "iopub.status.busy": "2022-07-11T03:10:57.691824Z",
     "iopub.status.idle": "2022-07-11T03:10:57.721599Z",
     "shell.execute_reply": "2022-07-11T03:10:57.720900Z"
    },
    "papermill": {
     "duration": 0.055318,
     "end_time": "2022-07-11T03:10:57.721749",
     "exception": false,
     "start_time": "2022-07-11T03:10:57.666431",
     "status": "completed"
    },
    "tags": []
   },
   "outputs": [],
   "source": [
    "#hide\n",
    "#df_all_mrk = read_api()"
   ]
  },
  {
   "cell_type": "code",
   "execution_count": 9,
   "id": "delayed-adapter",
   "metadata": {
    "execution": {
     "iopub.execute_input": "2022-07-11T03:10:57.764520Z",
     "iopub.status.busy": "2022-07-11T03:10:57.762815Z",
     "iopub.status.idle": "2022-07-11T03:10:57.795242Z",
     "shell.execute_reply": "2022-07-11T03:10:57.794611Z"
    },
    "papermill": {
     "duration": 0.055319,
     "end_time": "2022-07-11T03:10:57.795412",
     "exception": false,
     "start_time": "2022-07-11T03:10:57.740093",
     "status": "completed"
    },
    "tags": []
   },
   "outputs": [],
   "source": [
    "#hide\n",
    "#Koreliacijų koeficientai"
   ]
  },
  {
   "cell_type": "code",
   "execution_count": 10,
   "id": "seeing-celebration",
   "metadata": {
    "execution": {
     "iopub.execute_input": "2022-07-11T03:10:57.836550Z",
     "iopub.status.busy": "2022-07-11T03:10:57.835614Z",
     "iopub.status.idle": "2022-07-11T03:10:57.867895Z",
     "shell.execute_reply": "2022-07-11T03:10:57.868494Z"
    },
    "papermill": {
     "duration": 0.055939,
     "end_time": "2022-07-11T03:10:57.868672",
     "exception": false,
     "start_time": "2022-07-11T03:10:57.812733",
     "status": "completed"
    },
    "tags": []
   },
   "outputs": [],
   "source": [
    "#hide_input\n",
    "#sum_corr = df_all_mrk.corr().sum().sort_values(ascending=True).index.values\n",
    "#df_all_mrk[sum_corr].corr()"
   ]
  },
  {
   "cell_type": "code",
   "execution_count": 11,
   "id": "other-painting",
   "metadata": {
    "execution": {
     "iopub.execute_input": "2022-07-11T03:10:57.918089Z",
     "iopub.status.busy": "2022-07-11T03:10:57.914080Z",
     "iopub.status.idle": "2022-07-11T03:10:57.939404Z",
     "shell.execute_reply": "2022-07-11T03:10:57.939933Z"
    },
    "papermill": {
     "duration": 0.05465,
     "end_time": "2022-07-11T03:10:57.940074",
     "exception": false,
     "start_time": "2022-07-11T03:10:57.885424",
     "status": "completed"
    },
    "tags": []
   },
   "outputs": [],
   "source": [
    "#hide\n",
    "#Koreliacijos matrica. "
   ]
  },
  {
   "cell_type": "code",
   "execution_count": 12,
   "id": "modular-magnitude",
   "metadata": {
    "execution": {
     "iopub.execute_input": "2022-07-11T03:10:57.981941Z",
     "iopub.status.busy": "2022-07-11T03:10:57.977861Z",
     "iopub.status.idle": "2022-07-11T03:10:58.010454Z",
     "shell.execute_reply": "2022-07-11T03:10:58.009800Z"
    },
    "papermill": {
     "duration": 0.053931,
     "end_time": "2022-07-11T03:10:58.010613",
     "exception": false,
     "start_time": "2022-07-11T03:10:57.956682",
     "status": "completed"
    },
    "tags": []
   },
   "outputs": [],
   "source": [
    "#hide_input\n",
    "#plt.figure(figsize=(15, 8))\n",
    "#sns.heatmap(df_all_mrk[sum_corr].corr(), annot=True, cmap=\"BrBG\");\n",
    "#plt.savefig('corr_matrix_all.eps', format='eps')"
   ]
  },
  {
   "cell_type": "code",
   "execution_count": null,
   "id": "original-senator",
   "metadata": {
    "papermill": {
     "duration": 0.01576,
     "end_time": "2022-07-11T03:10:58.043046",
     "exception": false,
     "start_time": "2022-07-11T03:10:58.027286",
     "status": "completed"
    },
    "tags": []
   },
   "outputs": [],
   "source": []
  },
  {
   "cell_type": "code",
   "execution_count": null,
   "id": "saving-secretariat",
   "metadata": {
    "papermill": {
     "duration": 0.016793,
     "end_time": "2022-07-11T03:10:58.076677",
     "exception": false,
     "start_time": "2022-07-11T03:10:58.059884",
     "status": "completed"
    },
    "tags": []
   },
   "outputs": [],
   "source": []
  }
 ],
 "metadata": {
  "kernelspec": {
   "display_name": "Python 3",
   "language": "python",
   "name": "python3"
  },
  "language_info": {
   "codemirror_mode": {
    "name": "ipython",
    "version": 3
   },
   "file_extension": ".py",
   "mimetype": "text/x-python",
   "name": "python",
   "nbconvert_exporter": "python",
   "pygments_lexer": "ipython3",
   "version": "3.6.15"
  },
  "papermill": {
   "default_parameters": {},
   "duration": 22.60043,
   "end_time": "2022-07-11T03:10:58.714090",
   "environment_variables": {},
   "exception": null,
   "input_path": "App-Correlation_charts.ipynb",
   "output_path": "App-Correlation_charts.ipynb",
   "parameters": {},
   "start_time": "2022-07-11T03:10:36.113660",
   "version": "2.2.2"
  }
 },
 "nbformat": 4,
 "nbformat_minor": 5
}