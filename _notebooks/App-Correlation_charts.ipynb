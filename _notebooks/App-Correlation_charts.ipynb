{
 "cells": [
  {
   "cell_type": "markdown",
   "id": "touched-facility",
   "metadata": {
    "papermill": {
     "duration": 0.015146,
     "end_time": "2022-02-03T01:55:04.192064",
     "exception": false,
     "start_time": "2022-02-03T01:55:04.176918",
     "status": "completed"
    },
    "tags": []
   },
   "source": [
    "# Koreliacijų matrica\n",
    "> Išplėstinė koreliacijų matrica. \n",
    "\n",
    "- toc: true \n",
    "- badges: true\n",
    "- comments: false\n",
    "- categories: [Dominykas Tautkus]\n",
    "- image: images/matrix.png"
   ]
  },
  {
   "cell_type": "code",
   "execution_count": null,
   "id": "premium-weekend",
   "metadata": {
    "papermill": {
     "duration": 0.011202,
     "end_time": "2022-02-03T01:55:04.214937",
     "exception": false,
     "start_time": "2022-02-03T01:55:04.203735",
     "status": "completed"
    },
    "tags": []
   },
   "outputs": [],
   "source": []
  },
  {
   "cell_type": "code",
   "execution_count": 1,
   "id": "vertical-rebate",
   "metadata": {
    "execution": {
     "iopub.execute_input": "2022-02-03T01:55:04.247026Z",
     "iopub.status.busy": "2022-02-03T01:55:04.246473Z",
     "iopub.status.idle": "2022-02-03T01:55:04.255709Z",
     "shell.execute_reply": "2022-02-03T01:55:04.255281Z"
    },
    "papermill": {
     "duration": 0.030036,
     "end_time": "2022-02-03T01:55:04.255836",
     "exception": false,
     "start_time": "2022-02-03T01:55:04.225800",
     "status": "completed"
    },
    "tags": []
   },
   "outputs": [],
   "source": [
    "#hide\n",
    "%load_ext autoreload\n",
    "%autoreload 2"
   ]
  },
  {
   "cell_type": "code",
   "execution_count": 2,
   "id": "overall-advancement",
   "metadata": {
    "execution": {
     "iopub.execute_input": "2022-02-03T01:55:04.280627Z",
     "iopub.status.busy": "2022-02-03T01:55:04.280120Z",
     "iopub.status.idle": "2022-02-03T01:55:05.628418Z",
     "shell.execute_reply": "2022-02-03T01:55:05.627893Z"
    },
    "papermill": {
     "duration": 1.361952,
     "end_time": "2022-02-03T01:55:05.628562",
     "exception": false,
     "start_time": "2022-02-03T01:55:04.266610",
     "status": "completed"
    },
    "tags": []
   },
   "outputs": [],
   "source": [
    "#hide\n",
    "from scripts.read_data import read_api\n",
    "from IPython.display import HTML\n",
    "import plotly.graph_objects as go\n"
   ]
  },
  {
   "cell_type": "code",
   "execution_count": 3,
   "id": "light-crazy",
   "metadata": {
    "execution": {
     "iopub.execute_input": "2022-02-03T01:55:05.660195Z",
     "iopub.status.busy": "2022-02-03T01:55:05.659712Z",
     "iopub.status.idle": "2022-02-03T01:55:05.677811Z",
     "shell.execute_reply": "2022-02-03T01:55:05.677394Z"
    },
    "papermill": {
     "duration": 0.038229,
     "end_time": "2022-02-03T01:55:05.677912",
     "exception": false,
     "start_time": "2022-02-03T01:55:05.639683",
     "status": "completed"
    },
    "tags": []
   },
   "outputs": [],
   "source": [
    "#hide\n",
    "### ICO koreliacija"
   ]
  },
  {
   "cell_type": "code",
   "execution_count": 4,
   "id": "likely-bahrain",
   "metadata": {
    "execution": {
     "iopub.execute_input": "2022-02-03T01:55:05.701533Z",
     "iopub.status.busy": "2022-02-03T01:55:05.700679Z",
     "iopub.status.idle": "2022-02-03T01:55:06.617738Z",
     "shell.execute_reply": "2022-02-03T01:55:06.616792Z"
    },
    "papermill": {
     "duration": 0.930434,
     "end_time": "2022-02-03T01:55:06.617876",
     "exception": false,
     "start_time": "2022-02-03T01:55:05.687442",
     "status": "completed"
    },
    "tags": []
   },
   "outputs": [],
   "source": [
    "#hide\n",
    "import matplotlib.pyplot as plt\n",
    "import numpy as np\n",
    "import pandas as pd\n",
    "import seaborn as sns\n",
    "import matplotlib.pyplot as plt \n",
    "import matplotlib.dates as mdates\n",
    "import matplotlib.pyplot as plt"
   ]
  },
  {
   "cell_type": "code",
   "execution_count": 5,
   "id": "superior-blanket",
   "metadata": {
    "execution": {
     "iopub.execute_input": "2022-02-03T01:55:06.643652Z",
     "iopub.status.busy": "2022-02-03T01:55:06.643161Z",
     "iopub.status.idle": "2022-02-03T01:55:21.370255Z",
     "shell.execute_reply": "2022-02-03T01:55:21.369765Z"
    },
    "papermill": {
     "duration": 14.741432,
     "end_time": "2022-02-03T01:55:21.370375",
     "exception": false,
     "start_time": "2022-02-03T01:55:06.628943",
     "status": "completed"
    },
    "tags": []
   },
   "outputs": [
    {
     "name": "stderr",
     "output_type": "stream",
     "text": [
      "/home/runner/work/corr-app/corr-app/_notebooks/scripts/read_data.py:187: SettingWithCopyWarning:\n",
      "\n",
      "\n",
      "A value is trying to be set on a copy of a slice from a DataFrame.\n",
      "Try using .loc[row_indexer,col_indexer] = value instead\n",
      "\n",
      "See the caveats in the documentation: https://pandas.pydata.org/pandas-docs/stable/user_guide/indexing.html#returning-a-view-versus-a-copy\n",
      "\n"
     ]
    },
    {
     "name": "stderr",
     "output_type": "stream",
     "text": [
      "/home/runner/work/corr-app/corr-app/_notebooks/scripts/read_data.py:215: SettingWithCopyWarning:\n",
      "\n",
      "\n",
      "A value is trying to be set on a copy of a slice from a DataFrame.\n",
      "Try using .loc[row_indexer,col_indexer] = value instead\n",
      "\n",
      "See the caveats in the documentation: https://pandas.pydata.org/pandas-docs/stable/user_guide/indexing.html#returning-a-view-versus-a-copy\n",
      "\n"
     ]
    }
   ],
   "source": [
    "#hide\n",
    "df_all = read_api()\n",
    "#df_all = df_all.drop(['SP500', 'XAU', 'ETH', 'BTC'], axis=1)\n",
    "\n"
   ]
  },
  {
   "cell_type": "code",
   "execution_count": 6,
   "id": "mature-alert",
   "metadata": {
    "execution": {
     "iopub.execute_input": "2022-02-03T01:55:21.401620Z",
     "iopub.status.busy": "2022-02-03T01:55:21.400448Z",
     "iopub.status.idle": "2022-02-03T01:55:21.427211Z",
     "shell.execute_reply": "2022-02-03T01:55:21.426730Z"
    },
    "papermill": {
     "duration": 0.045113,
     "end_time": "2022-02-03T01:55:21.427341",
     "exception": false,
     "start_time": "2022-02-03T01:55:21.382228",
     "status": "completed"
    },
    "tags": []
   },
   "outputs": [],
   "source": [
    "#hide_input\n",
    "sum_corr = df_all.corr().sum().sort_values(ascending=True).index.values\n",
    "#df_all[sum_corr].corr()"
   ]
  },
  {
   "cell_type": "markdown",
   "id": "complex-syndicate",
   "metadata": {
    "papermill": {
     "duration": 0.011304,
     "end_time": "2022-02-03T01:55:21.451108",
     "exception": false,
     "start_time": "2022-02-03T01:55:21.439804",
     "status": "completed"
    },
    "tags": []
   },
   "source": [
    "## Išplėstinė koreliacijų matrica. "
   ]
  },
  {
   "cell_type": "code",
   "execution_count": 7,
   "id": "atomic-omaha",
   "metadata": {
    "execution": {
     "iopub.execute_input": "2022-02-03T01:55:21.477952Z",
     "iopub.status.busy": "2022-02-03T01:55:21.477424Z",
     "iopub.status.idle": "2022-02-03T01:55:22.669637Z",
     "shell.execute_reply": "2022-02-03T01:55:22.668759Z"
    },
    "papermill": {
     "duration": 1.207404,
     "end_time": "2022-02-03T01:55:22.669778",
     "exception": false,
     "start_time": "2022-02-03T01:55:21.462374",
     "status": "completed"
    },
    "tags": []
   },
   "outputs": [
    {
     "data": {
      "image/png": "[encoded data removed]",
      "text/plain": [
       "<Figure size 1080x792 with 2 Axes>"
      ]
     },
     "metadata": {
      "needs_background": "light"
     },
     "output_type": "display_data"
    }
   ],
   "source": [
    "#hide_input\n",
    "plt.figure(figsize=(15, 11))\n",
    "sns.heatmap(df_all[sum_corr].corr(), annot=True, cmap=\"cubehelix\") \n",
    "sns.set(font_scale=1.25)\n",
    "plt.savefig('corr_matrix.png', format='eps')"
   ]
  },
  {
   "cell_type": "code",
   "execution_count": 8,
   "id": "arbitrary-sullivan",
   "metadata": {
    "execution": {
     "iopub.execute_input": "2022-02-03T01:55:22.705085Z",
     "iopub.status.busy": "2022-02-03T01:55:22.702477Z",
     "iopub.status.idle": "2022-02-03T01:55:22.728917Z",
     "shell.execute_reply": "2022-02-03T01:55:22.728051Z"
    },
    "papermill": {
     "duration": 0.045094,
     "end_time": "2022-02-03T01:55:22.729049",
     "exception": false,
     "start_time": "2022-02-03T01:55:22.683955",
     "status": "completed"
    },
    "tags": []
   },
   "outputs": [],
   "source": [
    "#hide\n",
    "#df_all_mrk = read_api()"
   ]
  },
  {
   "cell_type": "code",
   "execution_count": 9,
   "id": "delayed-adapter",
   "metadata": {
    "execution": {
     "iopub.execute_input": "2022-02-03T01:55:22.759782Z",
     "iopub.status.busy": "2022-02-03T01:55:22.759250Z",
     "iopub.status.idle": "2022-02-03T01:55:22.784710Z",
     "shell.execute_reply": "2022-02-03T01:55:22.784236Z"
    },
    "papermill": {
     "duration": 0.042245,
     "end_time": "2022-02-03T01:55:22.784836",
     "exception": false,
     "start_time": "2022-02-03T01:55:22.742591",
     "status": "completed"
    },
    "tags": []
   },
   "outputs": [],
   "source": [
    "#hide\n",
    "#Koreliacijų koeficientai"
   ]
  },
  {
   "cell_type": "code",
   "execution_count": 10,
   "id": "seeing-celebration",
   "metadata": {
    "execution": {
     "iopub.execute_input": "2022-02-03T01:55:22.815922Z",
     "iopub.status.busy": "2022-02-03T01:55:22.815416Z",
     "iopub.status.idle": "2022-02-03T01:55:22.841539Z",
     "shell.execute_reply": "2022-02-03T01:55:22.841071Z"
    },
    "papermill": {
     "duration": 0.043104,
     "end_time": "2022-02-03T01:55:22.841666",
     "exception": false,
     "start_time": "2022-02-03T01:55:22.798562",
     "status": "completed"
    },
    "tags": []
   },
   "outputs": [],
   "source": [
    "#hide_input\n",
    "#sum_corr = df_all_mrk.corr().sum().sort_values(ascending=True).index.values\n",
    "#df_all_mrk[sum_corr].corr()"
   ]
  },
  {
   "cell_type": "code",
   "execution_count": 11,
   "id": "other-painting",
   "metadata": {
    "execution": {
     "iopub.execute_input": "2022-02-03T01:55:22.875232Z",
     "iopub.status.busy": "2022-02-03T01:55:22.874690Z",
     "iopub.status.idle": "2022-02-03T01:55:22.897240Z",
     "shell.execute_reply": "2022-02-03T01:55:22.896804Z"
    },
    "papermill": {
     "duration": 0.042055,
     "end_time": "2022-02-03T01:55:22.897360",
     "exception": false,
     "start_time": "2022-02-03T01:55:22.855305",
     "status": "completed"
    },
    "tags": []
   },
   "outputs": [],
   "source": [
    "#hide\n",
    "#Koreliacijos matrica. "
   ]
  },
  {
   "cell_type": "code",
   "execution_count": 12,
   "id": "modular-magnitude",
   "metadata": {
    "execution": {
     "iopub.execute_input": "2022-02-03T01:55:22.929190Z",
     "iopub.status.busy": "2022-02-03T01:55:22.928670Z",
     "iopub.status.idle": "2022-02-03T01:55:22.951863Z",
     "shell.execute_reply": "2022-02-03T01:55:22.951391Z"
    },
    "papermill": {
     "duration": 0.040929,
     "end_time": "2022-02-03T01:55:22.951993",
     "exception": false,
     "start_time": "2022-02-03T01:55:22.911064",
     "status": "completed"
    },
    "tags": []
   },
   "outputs": [],
   "source": [
    "#hide_input\n",
    "#plt.figure(figsize=(15, 8))\n",
    "#sns.heatmap(df_all_mrk[sum_corr].corr(), annot=True, cmap=\"BrBG\");\n",
    "#plt.savefig('corr_matrix_all.eps', format='eps')"
   ]
  },
  {
   "cell_type": "code",
   "execution_count": null,
   "id": "original-senator",
   "metadata": {
    "papermill": {
     "duration": 0.013389,
     "end_time": "2022-02-03T01:55:22.979664",
     "exception": false,
     "start_time": "2022-02-03T01:55:22.966275",
     "status": "completed"
    },
    "tags": []
   },
   "outputs": [],
   "source": []
  },
  {
   "cell_type": "code",
   "execution_count": null,
   "id": "saving-secretariat",
   "metadata": {
    "papermill": {
     "duration": 0.014149,
     "end_time": "2022-02-03T01:55:23.007131",
     "exception": false,
     "start_time": "2022-02-03T01:55:22.992982",
     "status": "completed"
    },
    "tags": []
   },
   "outputs": [],
   "source": []
  }
 ],
 "metadata": {
  "kernelspec": {
   "display_name": "Python 3",
   "language": "python",
   "name": "python3"
  },
  "language_info": {
   "codemirror_mode": {
    "name": "ipython",
    "version": 3
   },
   "file_extension": ".py",
   "mimetype": "text/x-python",
   "name": "python",
   "nbconvert_exporter": "python",
   "pygments_lexer": "ipython3",
   "version": "3.6.15"
  },
  "papermill": {
   "default_parameters": {},
   "duration": 20.253996,
   "end_time": "2022-02-03T01:55:23.539245",
   "environment_variables": {},
   "exception": null,
   "input_path": "App-Correlation_charts.ipynb",
   "output_path": "App-Correlation_charts.ipynb",
   "parameters": {},
   "start_time": "2022-02-03T01:55:03.285249",
   "version": "2.2.2"
  }
 },
 "nbformat": 4,
 "nbformat_minor": 5
}