{
 "cells": [
  {
   "cell_type": "markdown",
   "id": "touched-facility",
   "metadata": {
    "papermill": {
     "duration": 0.018761,
     "end_time": "2021-12-10T01:58:16.411417",
     "exception": false,
     "start_time": "2021-12-10T01:58:16.392656",
     "status": "completed"
    },
    "tags": []
   },
   "source": [
    "# Koreliacijų matrica\n",
    "> Išplėstinė koreliacijų matrica. \n",
    "\n",
    "- toc: true \n",
    "- badges: true\n",
    "- comments: false\n",
    "- categories: [Dominykas Tautkus]\n",
    "- image: images/matrix.png"
   ]
  },
  {
   "cell_type": "code",
   "execution_count": null,
   "id": "premium-weekend",
   "metadata": {
    "papermill": {
     "duration": 0.010808,
     "end_time": "2021-12-10T01:58:16.433767",
     "exception": false,
     "start_time": "2021-12-10T01:58:16.422959",
     "status": "completed"
    },
    "tags": []
   },
   "outputs": [],
   "source": []
  },
  {
   "cell_type": "code",
   "execution_count": 1,
   "id": "vertical-rebate",
   "metadata": {
    "execution": {
     "iopub.execute_input": "2021-12-10T01:58:16.467901Z",
     "iopub.status.busy": "2021-12-10T01:58:16.467408Z",
     "iopub.status.idle": "2021-12-10T01:58:16.478802Z",
     "shell.execute_reply": "2021-12-10T01:58:16.478400Z"
    },
    "papermill": {
     "duration": 0.034392,
     "end_time": "2021-12-10T01:58:16.478915",
     "exception": false,
     "start_time": "2021-12-10T01:58:16.444523",
     "status": "completed"
    },
    "tags": []
   },
   "outputs": [],
   "source": [
    "#hide\n",
    "%load_ext autoreload\n",
    "%autoreload 2"
   ]
  },
  {
   "cell_type": "code",
   "execution_count": 2,
   "id": "overall-advancement",
   "metadata": {
    "execution": {
     "iopub.execute_input": "2021-12-10T01:58:16.502910Z",
     "iopub.status.busy": "2021-12-10T01:58:16.502365Z",
     "iopub.status.idle": "2021-12-10T01:58:17.822172Z",
     "shell.execute_reply": "2021-12-10T01:58:17.820797Z"
    },
    "papermill": {
     "duration": 1.33354,
     "end_time": "2021-12-10T01:58:17.822345",
     "exception": false,
     "start_time": "2021-12-10T01:58:16.488805",
     "status": "completed"
    },
    "tags": []
   },
   "outputs": [],
   "source": [
    "#hide\n",
    "from scripts.read_data import read_api\n",
    "from IPython.display import HTML\n",
    "import plotly.graph_objects as go\n"
   ]
  },
  {
   "cell_type": "code",
   "execution_count": 3,
   "id": "light-crazy",
   "metadata": {
    "execution": {
     "iopub.execute_input": "2021-12-10T01:58:17.850450Z",
     "iopub.status.busy": "2021-12-10T01:58:17.849734Z",
     "iopub.status.idle": "2021-12-10T01:58:17.872428Z",
     "shell.execute_reply": "2021-12-10T01:58:17.871941Z"
    },
    "papermill": {
     "duration": 0.038883,
     "end_time": "2021-12-10T01:58:17.872545",
     "exception": false,
     "start_time": "2021-12-10T01:58:17.833662",
     "status": "completed"
    },
    "tags": []
   },
   "outputs": [],
   "source": [
    "#hide\n",
    "### ICO koreliacija"
   ]
  },
  {
   "cell_type": "code",
   "execution_count": 4,
   "id": "likely-bahrain",
   "metadata": {
    "execution": {
     "iopub.execute_input": "2021-12-10T01:58:17.902183Z",
     "iopub.status.busy": "2021-12-10T01:58:17.901437Z",
     "iopub.status.idle": "2021-12-10T01:58:18.837526Z",
     "shell.execute_reply": "2021-12-10T01:58:18.836953Z"
    },
    "papermill": {
     "duration": 0.954946,
     "end_time": "2021-12-10T01:58:18.837663",
     "exception": false,
     "start_time": "2021-12-10T01:58:17.882717",
     "status": "completed"
    },
    "tags": []
   },
   "outputs": [],
   "source": [
    "#hide\n",
    "import matplotlib.pyplot as plt\n",
    "import numpy as np\n",
    "import pandas as pd\n",
    "import seaborn as sns\n",
    "import matplotlib.pyplot as plt \n",
    "import matplotlib.dates as mdates\n",
    "import matplotlib.pyplot as plt"
   ]
  },
  {
   "cell_type": "code",
   "execution_count": 5,
   "id": "superior-blanket",
   "metadata": {
    "execution": {
     "iopub.execute_input": "2021-12-10T01:58:18.861833Z",
     "iopub.status.busy": "2021-12-10T01:58:18.861270Z",
     "iopub.status.idle": "2021-12-10T01:58:31.602247Z",
     "shell.execute_reply": "2021-12-10T01:58:31.601240Z"
    },
    "papermill": {
     "duration": 12.754298,
     "end_time": "2021-12-10T01:58:31.602377",
     "exception": false,
     "start_time": "2021-12-10T01:58:18.848079",
     "status": "completed"
    },
    "tags": []
   },
   "outputs": [
    {
     "name": "stderr",
     "output_type": "stream",
     "text": [
      "/home/runner/work/corr-app/corr-app/_notebooks/scripts/read_data.py:187: SettingWithCopyWarning:\n",
      "\n",
      "\n",
      "A value is trying to be set on a copy of a slice from a DataFrame.\n",
      "Try using .loc[row_indexer,col_indexer] = value instead\n",
      "\n",
      "See the caveats in the documentation: https://pandas.pydata.org/pandas-docs/stable/user_guide/indexing.html#returning-a-view-versus-a-copy\n",
      "\n"
     ]
    },
    {
     "name": "stderr",
     "output_type": "stream",
     "text": [
      "/home/runner/work/corr-app/corr-app/_notebooks/scripts/read_data.py:215: SettingWithCopyWarning:\n",
      "\n",
      "\n",
      "A value is trying to be set on a copy of a slice from a DataFrame.\n",
      "Try using .loc[row_indexer,col_indexer] = value instead\n",
      "\n",
      "See the caveats in the documentation: https://pandas.pydata.org/pandas-docs/stable/user_guide/indexing.html#returning-a-view-versus-a-copy\n",
      "\n"
     ]
    }
   ],
   "source": [
    "#hide\n",
    "df_all = read_api()\n",
    "#df_all = df_all.drop(['SP500', 'XAU', 'ETH', 'BTC'], axis=1)\n",
    "\n"
   ]
  },
  {
   "cell_type": "code",
   "execution_count": 6,
   "id": "mature-alert",
   "metadata": {
    "execution": {
     "iopub.execute_input": "2021-12-10T01:58:31.629433Z",
     "iopub.status.busy": "2021-12-10T01:58:31.628826Z",
     "iopub.status.idle": "2021-12-10T01:58:31.660910Z",
     "shell.execute_reply": "2021-12-10T01:58:31.659983Z"
    },
    "papermill": {
     "duration": 0.046825,
     "end_time": "2021-12-10T01:58:31.661070",
     "exception": false,
     "start_time": "2021-12-10T01:58:31.614245",
     "status": "completed"
    },
    "tags": []
   },
   "outputs": [],
   "source": [
    "#hide_input\n",
    "sum_corr = df_all.corr().sum().sort_values(ascending=True).index.values\n",
    "#df_all[sum_corr].corr()"
   ]
  },
  {
   "cell_type": "markdown",
   "id": "complex-syndicate",
   "metadata": {
    "papermill": {
     "duration": 0.011869,
     "end_time": "2021-12-10T01:58:31.684459",
     "exception": false,
     "start_time": "2021-12-10T01:58:31.672590",
     "status": "completed"
    },
    "tags": []
   },
   "source": [
    "## Išplėstinė koreliacijų matrica. "
   ]
  },
  {
   "cell_type": "code",
   "execution_count": 7,
   "id": "atomic-omaha",
   "metadata": {
    "execution": {
     "iopub.execute_input": "2021-12-10T01:58:31.717906Z",
     "iopub.status.busy": "2021-12-10T01:58:31.717361Z",
     "iopub.status.idle": "2021-12-10T01:58:32.991727Z",
     "shell.execute_reply": "2021-12-10T01:58:32.992102Z"
    },
    "papermill": {
     "duration": 1.29285,
     "end_time": "2021-12-10T01:58:32.992237",
     "exception": false,
     "start_time": "2021-12-10T01:58:31.699387",
     "status": "completed"
    },
    "tags": []
   },
   "outputs": [
    {
     "data": {
      "image/png": "[encoded data removed]",
      "text/plain": [
       "<Figure size 1080x792 with 2 Axes>"
      ]
     },
     "metadata": {
      "needs_background": "light"
     },
     "output_type": "display_data"
    }
   ],
   "source": [
    "#hide_input\n",
    "plt.figure(figsize=(15, 11))\n",
    "sns.heatmap(df_all[sum_corr].corr(), annot=True, cmap=\"cubehelix\") \n",
    "sns.set(font_scale=1.25)\n",
    "plt.savefig('corr_matrix.png', format='eps')"
   ]
  },
  {
   "cell_type": "code",
   "execution_count": 8,
   "id": "arbitrary-sullivan",
   "metadata": {
    "execution": {
     "iopub.execute_input": "2021-12-10T01:58:33.024033Z",
     "iopub.status.busy": "2021-12-10T01:58:33.022551Z",
     "iopub.status.idle": "2021-12-10T01:58:33.053976Z",
     "shell.execute_reply": "2021-12-10T01:58:33.054665Z"
    },
    "papermill": {
     "duration": 0.049694,
     "end_time": "2021-12-10T01:58:33.054867",
     "exception": false,
     "start_time": "2021-12-10T01:58:33.005173",
     "status": "completed"
    },
    "tags": []
   },
   "outputs": [],
   "source": [
    "#hide\n",
    "#df_all_mrk = read_api()"
   ]
  },
  {
   "cell_type": "code",
   "execution_count": 9,
   "id": "delayed-adapter",
   "metadata": {
    "execution": {
     "iopub.execute_input": "2021-12-10T01:58:33.089919Z",
     "iopub.status.busy": "2021-12-10T01:58:33.089372Z",
     "iopub.status.idle": "2021-12-10T01:58:33.119176Z",
     "shell.execute_reply": "2021-12-10T01:58:33.118498Z"
    },
    "papermill": {
     "duration": 0.046889,
     "end_time": "2021-12-10T01:58:33.119325",
     "exception": false,
     "start_time": "2021-12-10T01:58:33.072436",
     "status": "completed"
    },
    "tags": []
   },
   "outputs": [],
   "source": [
    "#hide\n",
    "#Koreliacijų koeficientai"
   ]
  },
  {
   "cell_type": "code",
   "execution_count": 10,
   "id": "seeing-celebration",
   "metadata": {
    "execution": {
     "iopub.execute_input": "2021-12-10T01:58:33.150104Z",
     "iopub.status.busy": "2021-12-10T01:58:33.149603Z",
     "iopub.status.idle": "2021-12-10T01:58:33.175292Z",
     "shell.execute_reply": "2021-12-10T01:58:33.174835Z"
    },
    "papermill": {
     "duration": 0.041516,
     "end_time": "2021-12-10T01:58:33.175398",
     "exception": false,
     "start_time": "2021-12-10T01:58:33.133882",
     "status": "completed"
    },
    "tags": []
   },
   "outputs": [],
   "source": [
    "#hide_input\n",
    "#sum_corr = df_all_mrk.corr().sum().sort_values(ascending=True).index.values\n",
    "#df_all_mrk[sum_corr].corr()"
   ]
  },
  {
   "cell_type": "code",
   "execution_count": 11,
   "id": "other-painting",
   "metadata": {
    "execution": {
     "iopub.execute_input": "2021-12-10T01:58:33.204681Z",
     "iopub.status.busy": "2021-12-10T01:58:33.204155Z",
     "iopub.status.idle": "2021-12-10T01:58:33.228801Z",
     "shell.execute_reply": "2021-12-10T01:58:33.228246Z"
    },
    "papermill": {
     "duration": 0.040145,
     "end_time": "2021-12-10T01:58:33.228923",
     "exception": false,
     "start_time": "2021-12-10T01:58:33.188778",
     "status": "completed"
    },
    "tags": []
   },
   "outputs": [],
   "source": [
    "#hide\n",
    "#Koreliacijos matrica. "
   ]
  },
  {
   "cell_type": "code",
   "execution_count": 12,
   "id": "modular-magnitude",
   "metadata": {
    "execution": {
     "iopub.execute_input": "2021-12-10T01:58:33.260113Z",
     "iopub.status.busy": "2021-12-10T01:58:33.259641Z",
     "iopub.status.idle": "2021-12-10T01:58:33.287363Z",
     "shell.execute_reply": "2021-12-10T01:58:33.286773Z"
    },
    "papermill": {
     "duration": 0.044398,
     "end_time": "2021-12-10T01:58:33.287492",
     "exception": false,
     "start_time": "2021-12-10T01:58:33.243094",
     "status": "completed"
    },
    "tags": []
   },
   "outputs": [],
   "source": [
    "#hide_input\n",
    "#plt.figure(figsize=(15, 8))\n",
    "#sns.heatmap(df_all_mrk[sum_corr].corr(), annot=True, cmap=\"BrBG\");\n",
    "#plt.savefig('corr_matrix_all.eps', format='eps')"
   ]
  },
  {
   "cell_type": "code",
   "execution_count": null,
   "id": "original-senator",
   "metadata": {
    "papermill": {
     "duration": 0.012842,
     "end_time": "2021-12-10T01:58:33.315589",
     "exception": false,
     "start_time": "2021-12-10T01:58:33.302747",
     "status": "completed"
    },
    "tags": []
   },
   "outputs": [],
   "source": []
  },
  {
   "cell_type": "code",
   "execution_count": null,
   "id": "saving-secretariat",
   "metadata": {
    "papermill": {
     "duration": 0.012496,
     "end_time": "2021-12-10T01:58:33.340751",
     "exception": false,
     "start_time": "2021-12-10T01:58:33.328255",
     "status": "completed"
    },
    "tags": []
   },
   "outputs": [],
   "source": []
  }
 ],
 "metadata": {
  "kernelspec": {
   "display_name": "Python 3",
   "language": "python",
   "name": "python3"
  },
  "language_info": {
   "codemirror_mode": {
    "name": "ipython",
    "version": 3
   },
   "file_extension": ".py",
   "mimetype": "text/x-python",
   "name": "python",
   "nbconvert_exporter": "python",
   "pygments_lexer": "ipython3",
   "version": "3.6.15"
  },
  "papermill": {
   "default_parameters": {},
   "duration": 18.409933,
   "end_time": "2021-12-10T01:58:33.862366",
   "environment_variables": {},
   "exception": null,
   "input_path": "App-Correlation_charts.ipynb",
   "output_path": "App-Correlation_charts.ipynb",
   "parameters": {},
   "start_time": "2021-12-10T01:58:15.452433",
   "version": "2.2.2"
  }
 },
 "nbformat": 4,
 "nbformat_minor": 5
}