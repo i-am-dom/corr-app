{
 "cells": [
  {
   "cell_type": "markdown",
   "id": "touched-facility",
   "metadata": {
    "papermill": {
     "duration": 0.014707,
     "end_time": "2022-08-04T03:03:21.676292",
     "exception": false,
     "start_time": "2022-08-04T03:03:21.661585",
     "status": "completed"
    },
    "tags": []
   },
   "source": [
    "# Koreliacijų matrica\n",
    "> Išplėstinė koreliacijų matrica. \n",
    "\n",
    "- toc: true \n",
    "- badges: true\n",
    "- comments: false\n",
    "- categories: [Dominykas Tautkus]\n",
    "- image: images/matrix.png"
   ]
  },
  {
   "cell_type": "code",
   "execution_count": null,
   "id": "premium-weekend",
   "metadata": {
    "papermill": {
     "duration": 0.01087,
     "end_time": "2022-08-04T03:03:21.698692",
     "exception": false,
     "start_time": "2022-08-04T03:03:21.687822",
     "status": "completed"
    },
    "tags": []
   },
   "outputs": [],
   "source": []
  },
  {
   "cell_type": "code",
   "execution_count": 1,
   "id": "vertical-rebate",
   "metadata": {
    "execution": {
     "iopub.execute_input": "2022-08-04T03:03:21.730139Z",
     "iopub.status.busy": "2022-08-04T03:03:21.728054Z",
     "iopub.status.idle": "2022-08-04T03:03:21.740413Z",
     "shell.execute_reply": "2022-08-04T03:03:21.739908Z"
    },
    "papermill": {
     "duration": 0.030642,
     "end_time": "2022-08-04T03:03:21.740524",
     "exception": false,
     "start_time": "2022-08-04T03:03:21.709882",
     "status": "completed"
    },
    "tags": []
   },
   "outputs": [],
   "source": [
    "#hide\n",
    "%load_ext autoreload\n",
    "%autoreload 2"
   ]
  },
  {
   "cell_type": "code",
   "execution_count": 2,
   "id": "overall-advancement",
   "metadata": {
    "execution": {
     "iopub.execute_input": "2022-08-04T03:03:21.765190Z",
     "iopub.status.busy": "2022-08-04T03:03:21.764637Z",
     "iopub.status.idle": "2022-08-04T03:03:22.996688Z",
     "shell.execute_reply": "2022-08-04T03:03:22.995704Z"
    },
    "papermill": {
     "duration": 1.245507,
     "end_time": "2022-08-04T03:03:22.996811",
     "exception": false,
     "start_time": "2022-08-04T03:03:21.751304",
     "status": "completed"
    },
    "tags": []
   },
   "outputs": [],
   "source": [
    "#hide\n",
    "from scripts.read_data import read_api\n",
    "from IPython.display import HTML\n",
    "import plotly.graph_objects as go\n"
   ]
  },
  {
   "cell_type": "code",
   "execution_count": 3,
   "id": "light-crazy",
   "metadata": {
    "execution": {
     "iopub.execute_input": "2022-08-04T03:03:23.026079Z",
     "iopub.status.busy": "2022-08-04T03:03:23.024362Z",
     "iopub.status.idle": "2022-08-04T03:03:23.046156Z",
     "shell.execute_reply": "2022-08-04T03:03:23.045692Z"
    },
    "papermill": {
     "duration": 0.038094,
     "end_time": "2022-08-04T03:03:23.046266",
     "exception": false,
     "start_time": "2022-08-04T03:03:23.008172",
     "status": "completed"
    },
    "tags": []
   },
   "outputs": [],
   "source": [
    "#hide\n",
    "### ICO koreliacija"
   ]
  },
  {
   "cell_type": "code",
   "execution_count": 4,
   "id": "likely-bahrain",
   "metadata": {
    "execution": {
     "iopub.execute_input": "2022-08-04T03:03:23.071973Z",
     "iopub.status.busy": "2022-08-04T03:03:23.071416Z",
     "iopub.status.idle": "2022-08-04T03:03:23.874580Z",
     "shell.execute_reply": "2022-08-04T03:03:23.874104Z"
    },
    "papermill": {
     "duration": 0.817492,
     "end_time": "2022-08-04T03:03:23.874694",
     "exception": false,
     "start_time": "2022-08-04T03:03:23.057202",
     "status": "completed"
    },
    "tags": []
   },
   "outputs": [],
   "source": [
    "#hide\n",
    "import matplotlib.pyplot as plt\n",
    "import numpy as np\n",
    "import pandas as pd\n",
    "import seaborn as sns\n",
    "import matplotlib.pyplot as plt \n",
    "import matplotlib.dates as mdates\n",
    "import matplotlib.pyplot as plt"
   ]
  },
  {
   "cell_type": "code",
   "execution_count": 5,
   "id": "superior-blanket",
   "metadata": {
    "execution": {
     "iopub.execute_input": "2022-08-04T03:03:23.902928Z",
     "iopub.status.busy": "2022-08-04T03:03:23.902007Z",
     "iopub.status.idle": "2022-08-04T03:03:38.085081Z",
     "shell.execute_reply": "2022-08-04T03:03:38.084320Z"
    },
    "papermill": {
     "duration": 14.19944,
     "end_time": "2022-08-04T03:03:38.085195",
     "exception": false,
     "start_time": "2022-08-04T03:03:23.885755",
     "status": "completed"
    },
    "tags": []
   },
   "outputs": [
    {
     "name": "stderr",
     "output_type": "stream",
     "text": [
      "/home/runner/work/corr-app/corr-app/_notebooks/scripts/read_data.py:187: SettingWithCopyWarning:\n",
      "\n",
      "\n",
      "A value is trying to be set on a copy of a slice from a DataFrame.\n",
      "Try using .loc[row_indexer,col_indexer] = value instead\n",
      "\n",
      "See the caveats in the documentation: https://pandas.pydata.org/pandas-docs/stable/user_guide/indexing.html#returning-a-view-versus-a-copy\n",
      "\n"
     ]
    },
    {
     "name": "stderr",
     "output_type": "stream",
     "text": [
      "/home/runner/work/corr-app/corr-app/_notebooks/scripts/read_data.py:215: SettingWithCopyWarning:\n",
      "\n",
      "\n",
      "A value is trying to be set on a copy of a slice from a DataFrame.\n",
      "Try using .loc[row_indexer,col_indexer] = value instead\n",
      "\n",
      "See the caveats in the documentation: https://pandas.pydata.org/pandas-docs/stable/user_guide/indexing.html#returning-a-view-versus-a-copy\n",
      "\n"
     ]
    }
   ],
   "source": [
    "#hide\n",
    "df_all = read_api()\n",
    "#df_all = df_all.drop(['SP500', 'XAU', 'ETH', 'BTC'], axis=1)\n",
    "\n"
   ]
  },
  {
   "cell_type": "code",
   "execution_count": 6,
   "id": "mature-alert",
   "metadata": {
    "execution": {
     "iopub.execute_input": "2022-08-04T03:03:38.113208Z",
     "iopub.status.busy": "2022-08-04T03:03:38.112656Z",
     "iopub.status.idle": "2022-08-04T03:03:38.141104Z",
     "shell.execute_reply": "2022-08-04T03:03:38.140664Z"
    },
    "papermill": {
     "duration": 0.043293,
     "end_time": "2022-08-04T03:03:38.141206",
     "exception": false,
     "start_time": "2022-08-04T03:03:38.097913",
     "status": "completed"
    },
    "tags": []
   },
   "outputs": [],
   "source": [
    "#hide_input\n",
    "sum_corr = df_all.corr().sum().sort_values(ascending=True).index.values\n",
    "#df_all[sum_corr].corr()"
   ]
  },
  {
   "cell_type": "markdown",
   "id": "complex-syndicate",
   "metadata": {
    "papermill": {
     "duration": 0.011304,
     "end_time": "2022-08-04T03:03:38.163963",
     "exception": false,
     "start_time": "2022-08-04T03:03:38.152659",
     "status": "completed"
    },
    "tags": []
   },
   "source": [
    "## Išplėstinė koreliacijų matrica. "
   ]
  },
  {
   "cell_type": "code",
   "execution_count": 7,
   "id": "atomic-omaha",
   "metadata": {
    "execution": {
     "iopub.execute_input": "2022-08-04T03:03:38.190706Z",
     "iopub.status.busy": "2022-08-04T03:03:38.190142Z",
     "iopub.status.idle": "2022-08-04T03:03:39.321780Z",
     "shell.execute_reply": "2022-08-04T03:03:39.322210Z"
    },
    "papermill": {
     "duration": 1.147099,
     "end_time": "2022-08-04T03:03:39.322333",
     "exception": false,
     "start_time": "2022-08-04T03:03:38.175234",
     "status": "completed"
    },
    "tags": []
   },
   "outputs": [
    {
     "data": {
      "image/png": "[encoded data removed]",
      "text/plain": [
       "<Figure size 1080x792 with 2 Axes>"
      ]
     },
     "metadata": {
      "needs_background": "light"
     },
     "output_type": "display_data"
    }
   ],
   "source": [
    "#hide_input\n",
    "plt.figure(figsize=(15, 11))\n",
    "sns.heatmap(df_all[sum_corr].corr(), annot=True, cmap=\"cubehelix\") \n",
    "sns.set(font_scale=1.25)\n",
    "plt.savefig('corr_matrix.png', format='eps')"
   ]
  },
  {
   "cell_type": "code",
   "execution_count": 8,
   "id": "arbitrary-sullivan",
   "metadata": {
    "execution": {
     "iopub.execute_input": "2022-08-04T03:03:39.352810Z",
     "iopub.status.busy": "2022-08-04T03:03:39.351815Z",
     "iopub.status.idle": "2022-08-04T03:03:39.376983Z",
     "shell.execute_reply": "2022-08-04T03:03:39.377436Z"
    },
    "papermill": {
     "duration": 0.041533,
     "end_time": "2022-08-04T03:03:39.377559",
     "exception": false,
     "start_time": "2022-08-04T03:03:39.336026",
     "status": "completed"
    },
    "tags": []
   },
   "outputs": [],
   "source": [
    "#hide\n",
    "#df_all_mrk = read_api()"
   ]
  },
  {
   "cell_type": "code",
   "execution_count": 9,
   "id": "delayed-adapter",
   "metadata": {
    "execution": {
     "iopub.execute_input": "2022-08-04T03:03:39.407228Z",
     "iopub.status.busy": "2022-08-04T03:03:39.406662Z",
     "iopub.status.idle": "2022-08-04T03:03:39.431629Z",
     "shell.execute_reply": "2022-08-04T03:03:39.431187Z"
    },
    "papermill": {
     "duration": 0.040786,
     "end_time": "2022-08-04T03:03:39.431733",
     "exception": false,
     "start_time": "2022-08-04T03:03:39.390947",
     "status": "completed"
    },
    "tags": []
   },
   "outputs": [],
   "source": [
    "#hide\n",
    "#Koreliacijų koeficientai"
   ]
  },
  {
   "cell_type": "code",
   "execution_count": 10,
   "id": "seeing-celebration",
   "metadata": {
    "execution": {
     "iopub.execute_input": "2022-08-04T03:03:39.465479Z",
     "iopub.status.busy": "2022-08-04T03:03:39.463814Z",
     "iopub.status.idle": "2022-08-04T03:03:39.488375Z",
     "shell.execute_reply": "2022-08-04T03:03:39.487874Z"
    },
    "papermill": {
     "duration": 0.043252,
     "end_time": "2022-08-04T03:03:39.488481",
     "exception": false,
     "start_time": "2022-08-04T03:03:39.445229",
     "status": "completed"
    },
    "tags": []
   },
   "outputs": [],
   "source": [
    "#hide_input\n",
    "#sum_corr = df_all_mrk.corr().sum().sort_values(ascending=True).index.values\n",
    "#df_all_mrk[sum_corr].corr()"
   ]
  },
  {
   "cell_type": "code",
   "execution_count": 11,
   "id": "other-painting",
   "metadata": {
    "execution": {
     "iopub.execute_input": "2022-08-04T03:03:39.518898Z",
     "iopub.status.busy": "2022-08-04T03:03:39.518345Z",
     "iopub.status.idle": "2022-08-04T03:03:39.543925Z",
     "shell.execute_reply": "2022-08-04T03:03:39.543457Z"
    },
    "papermill": {
     "duration": 0.042095,
     "end_time": "2022-08-04T03:03:39.544047",
     "exception": false,
     "start_time": "2022-08-04T03:03:39.501952",
     "status": "completed"
    },
    "tags": []
   },
   "outputs": [],
   "source": [
    "#hide\n",
    "#Koreliacijos matrica. "
   ]
  },
  {
   "cell_type": "code",
   "execution_count": 12,
   "id": "modular-magnitude",
   "metadata": {
    "execution": {
     "iopub.execute_input": "2022-08-04T03:03:39.574465Z",
     "iopub.status.busy": "2022-08-04T03:03:39.573905Z",
     "iopub.status.idle": "2022-08-04T03:03:39.599106Z",
     "shell.execute_reply": "2022-08-04T03:03:39.599523Z"
    },
    "papermill": {
     "duration": 0.04203,
     "end_time": "2022-08-04T03:03:39.599642",
     "exception": false,
     "start_time": "2022-08-04T03:03:39.557612",
     "status": "completed"
    },
    "tags": []
   },
   "outputs": [],
   "source": [
    "#hide_input\n",
    "#plt.figure(figsize=(15, 8))\n",
    "#sns.heatmap(df_all_mrk[sum_corr].corr(), annot=True, cmap=\"BrBG\");\n",
    "#plt.savefig('corr_matrix_all.eps', format='eps')"
   ]
  },
  {
   "cell_type": "code",
   "execution_count": null,
   "id": "original-senator",
   "metadata": {
    "papermill": {
     "duration": 0.013158,
     "end_time": "2022-08-04T03:03:39.626088",
     "exception": false,
     "start_time": "2022-08-04T03:03:39.612930",
     "status": "completed"
    },
    "tags": []
   },
   "outputs": [],
   "source": []
  },
  {
   "cell_type": "code",
   "execution_count": null,
   "id": "saving-secretariat",
   "metadata": {
    "papermill": {
     "duration": 0.014374,
     "end_time": "2022-08-04T03:03:39.653753",
     "exception": false,
     "start_time": "2022-08-04T03:03:39.639379",
     "status": "completed"
    },
    "tags": []
   },
   "outputs": [],
   "source": []
  }
 ],
 "metadata": {
  "kernelspec": {
   "display_name": "Python 3",
   "language": "python",
   "name": "python3"
  },
  "language_info": {
   "codemirror_mode": {
    "name": "ipython",
    "version": 3
   },
   "file_extension": ".py",
   "mimetype": "text/x-python",
   "name": "python",
   "nbconvert_exporter": "python",
   "pygments_lexer": "ipython3",
   "version": "3.6.15"
  },
  "papermill": {
   "default_parameters": {},
   "duration": 19.33647,
   "end_time": "2022-08-04T03:03:40.085067",
   "environment_variables": {},
   "exception": null,
   "input_path": "App-Correlation_charts.ipynb",
   "output_path": "App-Correlation_charts.ipynb",
   "parameters": {},
   "start_time": "2022-08-04T03:03:20.748597",
   "version": "2.2.2"
  }
 },
 "nbformat": 4,
 "nbformat_minor": 5
}