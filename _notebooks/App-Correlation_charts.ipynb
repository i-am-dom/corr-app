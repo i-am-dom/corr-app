{
 "cells": [
  {
   "cell_type": "markdown",
   "id": "touched-facility",
   "metadata": {
    "papermill": {
     "duration": 0.01902,
     "end_time": "2022-02-13T02:02:50.557565",
     "exception": false,
     "start_time": "2022-02-13T02:02:50.538545",
     "status": "completed"
    },
    "tags": []
   },
   "source": [
    "# Koreliacijų matrica\n",
    "> Išplėstinė koreliacijų matrica. \n",
    "\n",
    "- toc: true \n",
    "- badges: true\n",
    "- comments: false\n",
    "- categories: [Dominykas Tautkus]\n",
    "- image: images/matrix.png"
   ]
  },
  {
   "cell_type": "code",
   "execution_count": null,
   "id": "premium-weekend",
   "metadata": {
    "papermill": {
     "duration": 0.011212,
     "end_time": "2022-02-13T02:02:50.580115",
     "exception": false,
     "start_time": "2022-02-13T02:02:50.568903",
     "status": "completed"
    },
    "tags": []
   },
   "outputs": [],
   "source": []
  },
  {
   "cell_type": "code",
   "execution_count": 1,
   "id": "vertical-rebate",
   "metadata": {
    "execution": {
     "iopub.execute_input": "2022-02-13T02:02:50.614414Z",
     "iopub.status.busy": "2022-02-13T02:02:50.613911Z",
     "iopub.status.idle": "2022-02-13T02:02:50.625384Z",
     "shell.execute_reply": "2022-02-13T02:02:50.624886Z"
    },
    "papermill": {
     "duration": 0.034503,
     "end_time": "2022-02-13T02:02:50.625518",
     "exception": false,
     "start_time": "2022-02-13T02:02:50.591015",
     "status": "completed"
    },
    "tags": []
   },
   "outputs": [],
   "source": [
    "#hide\n",
    "%load_ext autoreload\n",
    "%autoreload 2"
   ]
  },
  {
   "cell_type": "code",
   "execution_count": 2,
   "id": "overall-advancement",
   "metadata": {
    "execution": {
     "iopub.execute_input": "2022-02-13T02:02:50.650203Z",
     "iopub.status.busy": "2022-02-13T02:02:50.649598Z",
     "iopub.status.idle": "2022-02-13T02:02:52.026001Z",
     "shell.execute_reply": "2022-02-13T02:02:52.025092Z"
    },
    "papermill": {
     "duration": 1.38986,
     "end_time": "2022-02-13T02:02:52.026207",
     "exception": false,
     "start_time": "2022-02-13T02:02:50.636347",
     "status": "completed"
    },
    "tags": []
   },
   "outputs": [],
   "source": [
    "#hide\n",
    "from scripts.read_data import read_api\n",
    "from IPython.display import HTML\n",
    "import plotly.graph_objects as go\n"
   ]
  },
  {
   "cell_type": "code",
   "execution_count": 3,
   "id": "light-crazy",
   "metadata": {
    "execution": {
     "iopub.execute_input": "2022-02-13T02:02:52.055101Z",
     "iopub.status.busy": "2022-02-13T02:02:52.053848Z",
     "iopub.status.idle": "2022-02-13T02:02:52.077504Z",
     "shell.execute_reply": "2022-02-13T02:02:52.077968Z"
    },
    "papermill": {
     "duration": 0.040458,
     "end_time": "2022-02-13T02:02:52.078111",
     "exception": false,
     "start_time": "2022-02-13T02:02:52.037653",
     "status": "completed"
    },
    "tags": []
   },
   "outputs": [],
   "source": [
    "#hide\n",
    "### ICO koreliacija"
   ]
  },
  {
   "cell_type": "code",
   "execution_count": 4,
   "id": "likely-bahrain",
   "metadata": {
    "execution": {
     "iopub.execute_input": "2022-02-13T02:02:52.107309Z",
     "iopub.status.busy": "2022-02-13T02:02:52.106718Z",
     "iopub.status.idle": "2022-02-13T02:02:53.046879Z",
     "shell.execute_reply": "2022-02-13T02:02:53.047315Z"
    },
    "papermill": {
     "duration": 0.957815,
     "end_time": "2022-02-13T02:02:53.047451",
     "exception": false,
     "start_time": "2022-02-13T02:02:52.089636",
     "status": "completed"
    },
    "tags": []
   },
   "outputs": [],
   "source": [
    "#hide\n",
    "import matplotlib.pyplot as plt\n",
    "import numpy as np\n",
    "import pandas as pd\n",
    "import seaborn as sns\n",
    "import matplotlib.pyplot as plt \n",
    "import matplotlib.dates as mdates\n",
    "import matplotlib.pyplot as plt"
   ]
  },
  {
   "cell_type": "code",
   "execution_count": 5,
   "id": "superior-blanket",
   "metadata": {
    "execution": {
     "iopub.execute_input": "2022-02-13T02:02:53.073279Z",
     "iopub.status.busy": "2022-02-13T02:02:53.072712Z",
     "iopub.status.idle": "2022-02-13T02:03:14.313468Z",
     "shell.execute_reply": "2022-02-13T02:03:14.312892Z"
    },
    "papermill": {
     "duration": 21.255252,
     "end_time": "2022-02-13T02:03:14.313607",
     "exception": false,
     "start_time": "2022-02-13T02:02:53.058355",
     "status": "completed"
    },
    "tags": []
   },
   "outputs": [
    {
     "name": "stderr",
     "output_type": "stream",
     "text": [
      "/home/runner/work/corr-app/corr-app/_notebooks/scripts/read_data.py:187: SettingWithCopyWarning:\n",
      "\n",
      "\n",
      "A value is trying to be set on a copy of a slice from a DataFrame.\n",
      "Try using .loc[row_indexer,col_indexer] = value instead\n",
      "\n",
      "See the caveats in the documentation: https://pandas.pydata.org/pandas-docs/stable/user_guide/indexing.html#returning-a-view-versus-a-copy\n",
      "\n"
     ]
    },
    {
     "name": "stderr",
     "output_type": "stream",
     "text": [
      "/home/runner/work/corr-app/corr-app/_notebooks/scripts/read_data.py:215: SettingWithCopyWarning:\n",
      "\n",
      "\n",
      "A value is trying to be set on a copy of a slice from a DataFrame.\n",
      "Try using .loc[row_indexer,col_indexer] = value instead\n",
      "\n",
      "See the caveats in the documentation: https://pandas.pydata.org/pandas-docs/stable/user_guide/indexing.html#returning-a-view-versus-a-copy\n",
      "\n"
     ]
    }
   ],
   "source": [
    "#hide\n",
    "df_all = read_api()\n",
    "#df_all = df_all.drop(['SP500', 'XAU', 'ETH', 'BTC'], axis=1)\n",
    "\n"
   ]
  },
  {
   "cell_type": "code",
   "execution_count": 6,
   "id": "mature-alert",
   "metadata": {
    "execution": {
     "iopub.execute_input": "2022-02-13T02:03:14.346092Z",
     "iopub.status.busy": "2022-02-13T02:03:14.345491Z",
     "iopub.status.idle": "2022-02-13T02:03:14.379592Z",
     "shell.execute_reply": "2022-02-13T02:03:14.378919Z"
    },
    "papermill": {
     "duration": 0.051588,
     "end_time": "2022-02-13T02:03:14.379762",
     "exception": false,
     "start_time": "2022-02-13T02:03:14.328174",
     "status": "completed"
    },
    "tags": []
   },
   "outputs": [],
   "source": [
    "#hide_input\n",
    "sum_corr = df_all.corr().sum().sort_values(ascending=True).index.values\n",
    "#df_all[sum_corr].corr()"
   ]
  },
  {
   "cell_type": "markdown",
   "id": "complex-syndicate",
   "metadata": {
    "papermill": {
     "duration": 0.012481,
     "end_time": "2022-02-13T02:03:14.404686",
     "exception": false,
     "start_time": "2022-02-13T02:03:14.392205",
     "status": "completed"
    },
    "tags": []
   },
   "source": [
    "## Išplėstinė koreliacijų matrica. "
   ]
  },
  {
   "cell_type": "code",
   "execution_count": 7,
   "id": "atomic-omaha",
   "metadata": {
    "execution": {
     "iopub.execute_input": "2022-02-13T02:03:14.436737Z",
     "iopub.status.busy": "2022-02-13T02:03:14.436192Z",
     "iopub.status.idle": "2022-02-13T02:03:15.781189Z",
     "shell.execute_reply": "2022-02-13T02:03:15.781663Z"
    },
    "papermill": {
     "duration": 1.364843,
     "end_time": "2022-02-13T02:03:15.781836",
     "exception": false,
     "start_time": "2022-02-13T02:03:14.416993",
     "status": "completed"
    },
    "tags": []
   },
   "outputs": [
    {
     "data": {
      "image/png": "[encoded data removed]",
      "text/plain": [
       "<Figure size 1080x792 with 2 Axes>"
      ]
     },
     "metadata": {
      "needs_background": "light"
     },
     "output_type": "display_data"
    }
   ],
   "source": [
    "#hide_input\n",
    "plt.figure(figsize=(15, 11))\n",
    "sns.heatmap(df_all[sum_corr].corr(), annot=True, cmap=\"cubehelix\") \n",
    "sns.set(font_scale=1.25)\n",
    "plt.savefig('corr_matrix.png', format='eps')"
   ]
  },
  {
   "cell_type": "code",
   "execution_count": 8,
   "id": "arbitrary-sullivan",
   "metadata": {
    "execution": {
     "iopub.execute_input": "2022-02-13T02:03:15.815781Z",
     "iopub.status.busy": "2022-02-13T02:03:15.815189Z",
     "iopub.status.idle": "2022-02-13T02:03:15.846807Z",
     "shell.execute_reply": "2022-02-13T02:03:15.847333Z"
    },
    "papermill": {
     "duration": 0.050622,
     "end_time": "2022-02-13T02:03:15.847496",
     "exception": false,
     "start_time": "2022-02-13T02:03:15.796874",
     "status": "completed"
    },
    "tags": []
   },
   "outputs": [],
   "source": [
    "#hide\n",
    "#df_all_mrk = read_api()"
   ]
  },
  {
   "cell_type": "code",
   "execution_count": 9,
   "id": "delayed-adapter",
   "metadata": {
    "execution": {
     "iopub.execute_input": "2022-02-13T02:03:15.883093Z",
     "iopub.status.busy": "2022-02-13T02:03:15.882544Z",
     "iopub.status.idle": "2022-02-13T02:03:15.911510Z",
     "shell.execute_reply": "2022-02-13T02:03:15.910841Z"
    },
    "papermill": {
     "duration": 0.049228,
     "end_time": "2022-02-13T02:03:15.911675",
     "exception": false,
     "start_time": "2022-02-13T02:03:15.862447",
     "status": "completed"
    },
    "tags": []
   },
   "outputs": [],
   "source": [
    "#hide\n",
    "#Koreliacijų koeficientai"
   ]
  },
  {
   "cell_type": "code",
   "execution_count": 10,
   "id": "seeing-celebration",
   "metadata": {
    "execution": {
     "iopub.execute_input": "2022-02-13T02:03:15.946970Z",
     "iopub.status.busy": "2022-02-13T02:03:15.946308Z",
     "iopub.status.idle": "2022-02-13T02:03:15.975696Z",
     "shell.execute_reply": "2022-02-13T02:03:15.974897Z"
    },
    "papermill": {
     "duration": 0.047962,
     "end_time": "2022-02-13T02:03:15.975873",
     "exception": false,
     "start_time": "2022-02-13T02:03:15.927911",
     "status": "completed"
    },
    "tags": []
   },
   "outputs": [],
   "source": [
    "#hide_input\n",
    "#sum_corr = df_all_mrk.corr().sum().sort_values(ascending=True).index.values\n",
    "#df_all_mrk[sum_corr].corr()"
   ]
  },
  {
   "cell_type": "code",
   "execution_count": 11,
   "id": "other-painting",
   "metadata": {
    "execution": {
     "iopub.execute_input": "2022-02-13T02:03:16.011625Z",
     "iopub.status.busy": "2022-02-13T02:03:16.011042Z",
     "iopub.status.idle": "2022-02-13T02:03:16.040345Z",
     "shell.execute_reply": "2022-02-13T02:03:16.040972Z"
    },
    "papermill": {
     "duration": 0.048039,
     "end_time": "2022-02-13T02:03:16.041159",
     "exception": false,
     "start_time": "2022-02-13T02:03:15.993120",
     "status": "completed"
    },
    "tags": []
   },
   "outputs": [],
   "source": [
    "#hide\n",
    "#Koreliacijos matrica. "
   ]
  },
  {
   "cell_type": "code",
   "execution_count": 12,
   "id": "modular-magnitude",
   "metadata": {
    "execution": {
     "iopub.execute_input": "2022-02-13T02:03:16.074533Z",
     "iopub.status.busy": "2022-02-13T02:03:16.073980Z",
     "iopub.status.idle": "2022-02-13T02:03:16.102379Z",
     "shell.execute_reply": "2022-02-13T02:03:16.101777Z"
    },
    "papermill": {
     "duration": 0.045809,
     "end_time": "2022-02-13T02:03:16.102528",
     "exception": false,
     "start_time": "2022-02-13T02:03:16.056719",
     "status": "completed"
    },
    "tags": []
   },
   "outputs": [],
   "source": [
    "#hide_input\n",
    "#plt.figure(figsize=(15, 8))\n",
    "#sns.heatmap(df_all_mrk[sum_corr].corr(), annot=True, cmap=\"BrBG\");\n",
    "#plt.savefig('corr_matrix_all.eps', format='eps')"
   ]
  },
  {
   "cell_type": "code",
   "execution_count": null,
   "id": "original-senator",
   "metadata": {
    "papermill": {
     "duration": 0.014525,
     "end_time": "2022-02-13T02:03:16.132449",
     "exception": false,
     "start_time": "2022-02-13T02:03:16.117924",
     "status": "completed"
    },
    "tags": []
   },
   "outputs": [],
   "source": []
  },
  {
   "cell_type": "code",
   "execution_count": null,
   "id": "saving-secretariat",
   "metadata": {
    "papermill": {
     "duration": 0.014277,
     "end_time": "2022-02-13T02:03:16.161037",
     "exception": false,
     "start_time": "2022-02-13T02:03:16.146760",
     "status": "completed"
    },
    "tags": []
   },
   "outputs": [],
   "source": []
  }
 ],
 "metadata": {
  "kernelspec": {
   "display_name": "Python 3",
   "language": "python",
   "name": "python3"
  },
  "language_info": {
   "codemirror_mode": {
    "name": "ipython",
    "version": 3
   },
   "file_extension": ".py",
   "mimetype": "text/x-python",
   "name": "python",
   "nbconvert_exporter": "python",
   "pygments_lexer": "ipython3",
   "version": "3.6.15"
  },
  "papermill": {
   "default_parameters": {},
   "duration": 27.429309,
   "end_time": "2022-02-13T02:03:16.695491",
   "environment_variables": {},
   "exception": null,
   "input_path": "App-Correlation_charts.ipynb",
   "output_path": "App-Correlation_charts.ipynb",
   "parameters": {},
   "start_time": "2022-02-13T02:02:49.266182",
   "version": "2.2.2"
  }
 },
 "nbformat": 4,
 "nbformat_minor": 5
}