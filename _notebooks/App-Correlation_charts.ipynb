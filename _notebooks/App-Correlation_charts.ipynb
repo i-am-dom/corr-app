{
 "cells": [
  {
   "cell_type": "markdown",
   "id": "touched-facility",
   "metadata": {
    "papermill": {
     "duration": 0.01684,
     "end_time": "2021-12-12T02:04:17.700028",
     "exception": false,
     "start_time": "2021-12-12T02:04:17.683188",
     "status": "completed"
    },
    "tags": []
   },
   "source": [
    "# Koreliacijų matrica\n",
    "> Išplėstinė koreliacijų matrica. \n",
    "\n",
    "- toc: true \n",
    "- badges: true\n",
    "- comments: false\n",
    "- categories: [Dominykas Tautkus]\n",
    "- image: images/matrix.png"
   ]
  },
  {
   "cell_type": "code",
   "execution_count": null,
   "id": "premium-weekend",
   "metadata": {
    "papermill": {
     "duration": 0.01353,
     "end_time": "2021-12-12T02:04:17.727395",
     "exception": false,
     "start_time": "2021-12-12T02:04:17.713865",
     "status": "completed"
    },
    "tags": []
   },
   "outputs": [],
   "source": []
  },
  {
   "cell_type": "code",
   "execution_count": 1,
   "id": "vertical-rebate",
   "metadata": {
    "execution": {
     "iopub.execute_input": "2021-12-12T02:04:17.764075Z",
     "iopub.status.busy": "2021-12-12T02:04:17.763441Z",
     "iopub.status.idle": "2021-12-12T02:04:17.774844Z",
     "shell.execute_reply": "2021-12-12T02:04:17.774322Z"
    },
    "papermill": {
     "duration": 0.034784,
     "end_time": "2021-12-12T02:04:17.774983",
     "exception": false,
     "start_time": "2021-12-12T02:04:17.740199",
     "status": "completed"
    },
    "tags": []
   },
   "outputs": [],
   "source": [
    "#hide\n",
    "%load_ext autoreload\n",
    "%autoreload 2"
   ]
  },
  {
   "cell_type": "code",
   "execution_count": 2,
   "id": "overall-advancement",
   "metadata": {
    "execution": {
     "iopub.execute_input": "2021-12-12T02:04:17.803026Z",
     "iopub.status.busy": "2021-12-12T02:04:17.802407Z",
     "iopub.status.idle": "2021-12-12T02:04:19.246165Z",
     "shell.execute_reply": "2021-12-12T02:04:19.245611Z"
    },
    "papermill": {
     "duration": 1.459062,
     "end_time": "2021-12-12T02:04:19.246307",
     "exception": false,
     "start_time": "2021-12-12T02:04:17.787245",
     "status": "completed"
    },
    "tags": []
   },
   "outputs": [],
   "source": [
    "#hide\n",
    "from scripts.read_data import read_api\n",
    "from IPython.display import HTML\n",
    "import plotly.graph_objects as go\n"
   ]
  },
  {
   "cell_type": "code",
   "execution_count": 3,
   "id": "light-crazy",
   "metadata": {
    "execution": {
     "iopub.execute_input": "2021-12-12T02:04:19.282888Z",
     "iopub.status.busy": "2021-12-12T02:04:19.280174Z",
     "iopub.status.idle": "2021-12-12T02:04:19.303495Z",
     "shell.execute_reply": "2021-12-12T02:04:19.303987Z"
    },
    "papermill": {
     "duration": 0.044512,
     "end_time": "2021-12-12T02:04:19.304151",
     "exception": false,
     "start_time": "2021-12-12T02:04:19.259639",
     "status": "completed"
    },
    "tags": []
   },
   "outputs": [],
   "source": [
    "#hide\n",
    "### ICO koreliacija"
   ]
  },
  {
   "cell_type": "code",
   "execution_count": 4,
   "id": "likely-bahrain",
   "metadata": {
    "execution": {
     "iopub.execute_input": "2021-12-12T02:04:19.349438Z",
     "iopub.status.busy": "2021-12-12T02:04:19.341855Z",
     "iopub.status.idle": "2021-12-12T02:04:20.349880Z",
     "shell.execute_reply": "2021-12-12T02:04:20.350453Z"
    },
    "papermill": {
     "duration": 1.033159,
     "end_time": "2021-12-12T02:04:20.350618",
     "exception": false,
     "start_time": "2021-12-12T02:04:19.317459",
     "status": "completed"
    },
    "tags": []
   },
   "outputs": [],
   "source": [
    "#hide\n",
    "import matplotlib.pyplot as plt\n",
    "import numpy as np\n",
    "import pandas as pd\n",
    "import seaborn as sns\n",
    "import matplotlib.pyplot as plt \n",
    "import matplotlib.dates as mdates\n",
    "import matplotlib.pyplot as plt"
   ]
  },
  {
   "cell_type": "code",
   "execution_count": 5,
   "id": "superior-blanket",
   "metadata": {
    "execution": {
     "iopub.execute_input": "2021-12-12T02:04:20.386721Z",
     "iopub.status.busy": "2021-12-12T02:04:20.382192Z",
     "iopub.status.idle": "2021-12-12T02:04:32.848975Z",
     "shell.execute_reply": "2021-12-12T02:04:32.848339Z"
    },
    "papermill": {
     "duration": 12.485422,
     "end_time": "2021-12-12T02:04:32.849110",
     "exception": false,
     "start_time": "2021-12-12T02:04:20.363688",
     "status": "completed"
    },
    "tags": []
   },
   "outputs": [
    {
     "name": "stderr",
     "output_type": "stream",
     "text": [
      "/home/runner/work/corr-app/corr-app/_notebooks/scripts/read_data.py:187: SettingWithCopyWarning:\n",
      "\n",
      "\n",
      "A value is trying to be set on a copy of a slice from a DataFrame.\n",
      "Try using .loc[row_indexer,col_indexer] = value instead\n",
      "\n",
      "See the caveats in the documentation: https://pandas.pydata.org/pandas-docs/stable/user_guide/indexing.html#returning-a-view-versus-a-copy\n",
      "\n"
     ]
    },
    {
     "name": "stderr",
     "output_type": "stream",
     "text": [
      "/home/runner/work/corr-app/corr-app/_notebooks/scripts/read_data.py:215: SettingWithCopyWarning:\n",
      "\n",
      "\n",
      "A value is trying to be set on a copy of a slice from a DataFrame.\n",
      "Try using .loc[row_indexer,col_indexer] = value instead\n",
      "\n",
      "See the caveats in the documentation: https://pandas.pydata.org/pandas-docs/stable/user_guide/indexing.html#returning-a-view-versus-a-copy\n",
      "\n"
     ]
    }
   ],
   "source": [
    "#hide\n",
    "df_all = read_api()\n",
    "#df_all = df_all.drop(['SP500', 'XAU', 'ETH', 'BTC'], axis=1)\n",
    "\n"
   ]
  },
  {
   "cell_type": "code",
   "execution_count": 6,
   "id": "mature-alert",
   "metadata": {
    "execution": {
     "iopub.execute_input": "2021-12-12T02:04:32.881805Z",
     "iopub.status.busy": "2021-12-12T02:04:32.881171Z",
     "iopub.status.idle": "2021-12-12T02:04:32.912155Z",
     "shell.execute_reply": "2021-12-12T02:04:32.911572Z"
    },
    "papermill": {
     "duration": 0.049728,
     "end_time": "2021-12-12T02:04:32.912301",
     "exception": false,
     "start_time": "2021-12-12T02:04:32.862573",
     "status": "completed"
    },
    "tags": []
   },
   "outputs": [],
   "source": [
    "#hide_input\n",
    "sum_corr = df_all.corr().sum().sort_values(ascending=True).index.values\n",
    "#df_all[sum_corr].corr()"
   ]
  },
  {
   "cell_type": "markdown",
   "id": "complex-syndicate",
   "metadata": {
    "papermill": {
     "duration": 0.017491,
     "end_time": "2021-12-12T02:04:32.945264",
     "exception": false,
     "start_time": "2021-12-12T02:04:32.927773",
     "status": "completed"
    },
    "tags": []
   },
   "source": [
    "## Išplėstinė koreliacijų matrica. "
   ]
  },
  {
   "cell_type": "code",
   "execution_count": 7,
   "id": "atomic-omaha",
   "metadata": {
    "execution": {
     "iopub.execute_input": "2021-12-12T02:04:32.978896Z",
     "iopub.status.busy": "2021-12-12T02:04:32.978243Z",
     "iopub.status.idle": "2021-12-12T02:04:34.583536Z",
     "shell.execute_reply": "2021-12-12T02:04:34.583047Z"
    },
    "papermill": {
     "duration": 1.6246,
     "end_time": "2021-12-12T02:04:34.583669",
     "exception": false,
     "start_time": "2021-12-12T02:04:32.959069",
     "status": "completed"
    },
    "tags": []
   },
   "outputs": [
    {
     "data": {
      "image/png": "[encoded data removed]",
      "text/plain": [
       "<Figure size 1080x792 with 2 Axes>"
      ]
     },
     "metadata": {
      "needs_background": "light"
     },
     "output_type": "display_data"
    }
   ],
   "source": [
    "#hide_input\n",
    "plt.figure(figsize=(15, 11))\n",
    "sns.heatmap(df_all[sum_corr].corr(), annot=True, cmap=\"cubehelix\") \n",
    "sns.set(font_scale=1.25)\n",
    "plt.savefig('corr_matrix.png', format='eps')"
   ]
  },
  {
   "cell_type": "code",
   "execution_count": 8,
   "id": "arbitrary-sullivan",
   "metadata": {
    "execution": {
     "iopub.execute_input": "2021-12-12T02:04:34.622732Z",
     "iopub.status.busy": "2021-12-12T02:04:34.622072Z",
     "iopub.status.idle": "2021-12-12T02:04:34.649195Z",
     "shell.execute_reply": "2021-12-12T02:04:34.649675Z"
    },
    "papermill": {
     "duration": 0.051067,
     "end_time": "2021-12-12T02:04:34.649829",
     "exception": false,
     "start_time": "2021-12-12T02:04:34.598762",
     "status": "completed"
    },
    "tags": []
   },
   "outputs": [],
   "source": [
    "#hide\n",
    "#df_all_mrk = read_api()"
   ]
  },
  {
   "cell_type": "code",
   "execution_count": 9,
   "id": "delayed-adapter",
   "metadata": {
    "execution": {
     "iopub.execute_input": "2021-12-12T02:04:34.687509Z",
     "iopub.status.busy": "2021-12-12T02:04:34.686860Z",
     "iopub.status.idle": "2021-12-12T02:04:34.722620Z",
     "shell.execute_reply": "2021-12-12T02:04:34.721219Z"
    },
    "papermill": {
     "duration": 0.056977,
     "end_time": "2021-12-12T02:04:34.722769",
     "exception": false,
     "start_time": "2021-12-12T02:04:34.665792",
     "status": "completed"
    },
    "tags": []
   },
   "outputs": [],
   "source": [
    "#hide\n",
    "#Koreliacijų koeficientai"
   ]
  },
  {
   "cell_type": "code",
   "execution_count": 10,
   "id": "seeing-celebration",
   "metadata": {
    "execution": {
     "iopub.execute_input": "2021-12-12T02:04:34.763150Z",
     "iopub.status.busy": "2021-12-12T02:04:34.762529Z",
     "iopub.status.idle": "2021-12-12T02:04:34.794180Z",
     "shell.execute_reply": "2021-12-12T02:04:34.793546Z"
    },
    "papermill": {
     "duration": 0.055459,
     "end_time": "2021-12-12T02:04:34.794319",
     "exception": false,
     "start_time": "2021-12-12T02:04:34.738860",
     "status": "completed"
    },
    "tags": []
   },
   "outputs": [],
   "source": [
    "#hide_input\n",
    "#sum_corr = df_all_mrk.corr().sum().sort_values(ascending=True).index.values\n",
    "#df_all_mrk[sum_corr].corr()"
   ]
  },
  {
   "cell_type": "code",
   "execution_count": 11,
   "id": "other-painting",
   "metadata": {
    "execution": {
     "iopub.execute_input": "2021-12-12T02:04:34.829384Z",
     "iopub.status.busy": "2021-12-12T02:04:34.828768Z",
     "iopub.status.idle": "2021-12-12T02:04:34.856014Z",
     "shell.execute_reply": "2021-12-12T02:04:34.855479Z"
    },
    "papermill": {
     "duration": 0.04607,
     "end_time": "2021-12-12T02:04:34.856145",
     "exception": false,
     "start_time": "2021-12-12T02:04:34.810075",
     "status": "completed"
    },
    "tags": []
   },
   "outputs": [],
   "source": [
    "#hide\n",
    "#Koreliacijos matrica. "
   ]
  },
  {
   "cell_type": "code",
   "execution_count": 12,
   "id": "modular-magnitude",
   "metadata": {
    "execution": {
     "iopub.execute_input": "2021-12-12T02:04:34.893812Z",
     "iopub.status.busy": "2021-12-12T02:04:34.893005Z",
     "iopub.status.idle": "2021-12-12T02:04:34.923235Z",
     "shell.execute_reply": "2021-12-12T02:04:34.922551Z"
    },
    "papermill": {
     "duration": 0.052009,
     "end_time": "2021-12-12T02:04:34.923957",
     "exception": false,
     "start_time": "2021-12-12T02:04:34.871948",
     "status": "completed"
    },
    "tags": []
   },
   "outputs": [],
   "source": [
    "#hide_input\n",
    "#plt.figure(figsize=(15, 8))\n",
    "#sns.heatmap(df_all_mrk[sum_corr].corr(), annot=True, cmap=\"BrBG\");\n",
    "#plt.savefig('corr_matrix_all.eps', format='eps')"
   ]
  },
  {
   "cell_type": "code",
   "execution_count": null,
   "id": "original-senator",
   "metadata": {
    "papermill": {
     "duration": 0.016024,
     "end_time": "2021-12-12T02:04:34.955816",
     "exception": false,
     "start_time": "2021-12-12T02:04:34.939792",
     "status": "completed"
    },
    "tags": []
   },
   "outputs": [],
   "source": []
  },
  {
   "cell_type": "code",
   "execution_count": null,
   "id": "saving-secretariat",
   "metadata": {
    "papermill": {
     "duration": 0.016922,
     "end_time": "2021-12-12T02:04:34.989017",
     "exception": false,
     "start_time": "2021-12-12T02:04:34.972095",
     "status": "completed"
    },
    "tags": []
   },
   "outputs": [],
   "source": []
  }
 ],
 "metadata": {
  "kernelspec": {
   "display_name": "Python 3",
   "language": "python",
   "name": "python3"
  },
  "language_info": {
   "codemirror_mode": {
    "name": "ipython",
    "version": 3
   },
   "file_extension": ".py",
   "mimetype": "text/x-python",
   "name": "python",
   "nbconvert_exporter": "python",
   "pygments_lexer": "ipython3",
   "version": "3.6.15"
  },
  "papermill": {
   "default_parameters": {},
   "duration": 18.999568,
   "end_time": "2021-12-12T02:04:35.515084",
   "environment_variables": {},
   "exception": null,
   "input_path": "App-Correlation_charts.ipynb",
   "output_path": "App-Correlation_charts.ipynb",
   "parameters": {},
   "start_time": "2021-12-12T02:04:16.515516",
   "version": "2.2.2"
  }
 },
 "nbformat": 4,
 "nbformat_minor": 5
}