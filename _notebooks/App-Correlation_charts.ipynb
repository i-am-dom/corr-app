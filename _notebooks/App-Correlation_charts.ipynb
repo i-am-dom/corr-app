{
 "cells": [
  {
   "cell_type": "markdown",
   "id": "touched-facility",
   "metadata": {
    "papermill": {
     "duration": 0.014335,
     "end_time": "2022-09-09T03:33:25.704489",
     "exception": false,
     "start_time": "2022-09-09T03:33:25.690154",
     "status": "completed"
    },
    "tags": []
   },
   "source": [
    "# Koreliacijų matrica\n",
    "> Išplėstinė koreliacijų matrica. \n",
    "\n",
    "- toc: true \n",
    "- badges: true\n",
    "- comments: false\n",
    "- categories: [Dominykas Tautkus]\n",
    "- image: images/matrix.png"
   ]
  },
  {
   "cell_type": "code",
   "execution_count": null,
   "id": "premium-weekend",
   "metadata": {
    "papermill": {
     "duration": 0.01085,
     "end_time": "2022-09-09T03:33:25.726864",
     "exception": false,
     "start_time": "2022-09-09T03:33:25.716014",
     "status": "completed"
    },
    "tags": []
   },
   "outputs": [],
   "source": []
  },
  {
   "cell_type": "code",
   "execution_count": 1,
   "id": "vertical-rebate",
   "metadata": {
    "execution": {
     "iopub.execute_input": "2022-09-09T03:33:25.758719Z",
     "iopub.status.busy": "2022-09-09T03:33:25.758145Z",
     "iopub.status.idle": "2022-09-09T03:33:25.768839Z",
     "shell.execute_reply": "2022-09-09T03:33:25.768372Z"
    },
    "papermill": {
     "duration": 0.031239,
     "end_time": "2022-09-09T03:33:25.768956",
     "exception": false,
     "start_time": "2022-09-09T03:33:25.737717",
     "status": "completed"
    },
    "tags": []
   },
   "outputs": [],
   "source": [
    "#hide\n",
    "%load_ext autoreload\n",
    "%autoreload 2"
   ]
  },
  {
   "cell_type": "code",
   "execution_count": 2,
   "id": "overall-advancement",
   "metadata": {
    "execution": {
     "iopub.execute_input": "2022-09-09T03:33:25.794595Z",
     "iopub.status.busy": "2022-09-09T03:33:25.794038Z",
     "iopub.status.idle": "2022-09-09T03:33:27.261563Z",
     "shell.execute_reply": "2022-09-09T03:33:27.260547Z"
    },
    "papermill": {
     "duration": 1.481753,
     "end_time": "2022-09-09T03:33:27.261693",
     "exception": false,
     "start_time": "2022-09-09T03:33:25.779940",
     "status": "completed"
    },
    "tags": []
   },
   "outputs": [],
   "source": [
    "#hide\n",
    "from scripts.read_data import read_api\n",
    "from IPython.display import HTML\n",
    "import plotly.graph_objects as go\n"
   ]
  },
  {
   "cell_type": "code",
   "execution_count": 3,
   "id": "light-crazy",
   "metadata": {
    "execution": {
     "iopub.execute_input": "2022-09-09T03:33:27.291784Z",
     "iopub.status.busy": "2022-09-09T03:33:27.288762Z",
     "iopub.status.idle": "2022-09-09T03:33:27.312473Z",
     "shell.execute_reply": "2022-09-09T03:33:27.311676Z"
    },
    "papermill": {
     "duration": 0.039844,
     "end_time": "2022-09-09T03:33:27.312588",
     "exception": false,
     "start_time": "2022-09-09T03:33:27.272744",
     "status": "completed"
    },
    "tags": []
   },
   "outputs": [],
   "source": [
    "#hide\n",
    "### ICO koreliacija"
   ]
  },
  {
   "cell_type": "code",
   "execution_count": 4,
   "id": "likely-bahrain",
   "metadata": {
    "execution": {
     "iopub.execute_input": "2022-09-09T03:33:27.338061Z",
     "iopub.status.busy": "2022-09-09T03:33:27.337454Z",
     "iopub.status.idle": "2022-09-09T03:33:28.165100Z",
     "shell.execute_reply": "2022-09-09T03:33:28.164619Z"
    },
    "papermill": {
     "duration": 0.841725,
     "end_time": "2022-09-09T03:33:28.165216",
     "exception": false,
     "start_time": "2022-09-09T03:33:27.323491",
     "status": "completed"
    },
    "tags": []
   },
   "outputs": [],
   "source": [
    "#hide\n",
    "import matplotlib.pyplot as plt\n",
    "import numpy as np\n",
    "import pandas as pd\n",
    "import seaborn as sns\n",
    "import matplotlib.pyplot as plt \n",
    "import matplotlib.dates as mdates\n",
    "import matplotlib.pyplot as plt"
   ]
  },
  {
   "cell_type": "code",
   "execution_count": 5,
   "id": "superior-blanket",
   "metadata": {
    "execution": {
     "iopub.execute_input": "2022-09-09T03:33:28.194207Z",
     "iopub.status.busy": "2022-09-09T03:33:28.192751Z",
     "iopub.status.idle": "2022-09-09T03:33:37.771983Z",
     "shell.execute_reply": "2022-09-09T03:33:37.771481Z"
    },
    "papermill": {
     "duration": 9.595668,
     "end_time": "2022-09-09T03:33:37.772095",
     "exception": false,
     "start_time": "2022-09-09T03:33:28.176427",
     "status": "completed"
    },
    "tags": []
   },
   "outputs": [
    {
     "name": "stderr",
     "output_type": "stream",
     "text": [
      "/home/runner/work/corr-app/corr-app/_notebooks/scripts/read_data.py:187: SettingWithCopyWarning:\n",
      "\n",
      "\n",
      "A value is trying to be set on a copy of a slice from a DataFrame.\n",
      "Try using .loc[row_indexer,col_indexer] = value instead\n",
      "\n",
      "See the caveats in the documentation: https://pandas.pydata.org/pandas-docs/stable/user_guide/indexing.html#returning-a-view-versus-a-copy\n",
      "\n"
     ]
    },
    {
     "name": "stderr",
     "output_type": "stream",
     "text": [
      "/home/runner/work/corr-app/corr-app/_notebooks/scripts/read_data.py:215: SettingWithCopyWarning:\n",
      "\n",
      "\n",
      "A value is trying to be set on a copy of a slice from a DataFrame.\n",
      "Try using .loc[row_indexer,col_indexer] = value instead\n",
      "\n",
      "See the caveats in the documentation: https://pandas.pydata.org/pandas-docs/stable/user_guide/indexing.html#returning-a-view-versus-a-copy\n",
      "\n"
     ]
    }
   ],
   "source": [
    "#hide\n",
    "df_all = read_api()\n",
    "#df_all = df_all.drop(['SP500', 'XAU', 'ETH', 'BTC'], axis=1)\n",
    "\n"
   ]
  },
  {
   "cell_type": "code",
   "execution_count": 6,
   "id": "mature-alert",
   "metadata": {
    "execution": {
     "iopub.execute_input": "2022-09-09T03:33:37.806315Z",
     "iopub.status.busy": "2022-09-09T03:33:37.801821Z",
     "iopub.status.idle": "2022-09-09T03:33:37.831971Z",
     "shell.execute_reply": "2022-09-09T03:33:37.831476Z"
    },
    "papermill": {
     "duration": 0.045081,
     "end_time": "2022-09-09T03:33:37.832085",
     "exception": false,
     "start_time": "2022-09-09T03:33:37.787004",
     "status": "completed"
    },
    "tags": []
   },
   "outputs": [],
   "source": [
    "#hide_input\n",
    "sum_corr = df_all.corr().sum().sort_values(ascending=True).index.values\n",
    "#df_all[sum_corr].corr()"
   ]
  },
  {
   "cell_type": "markdown",
   "id": "complex-syndicate",
   "metadata": {
    "papermill": {
     "duration": 0.011391,
     "end_time": "2022-09-09T03:33:37.855029",
     "exception": false,
     "start_time": "2022-09-09T03:33:37.843638",
     "status": "completed"
    },
    "tags": []
   },
   "source": [
    "## Išplėstinė koreliacijų matrica. "
   ]
  },
  {
   "cell_type": "code",
   "execution_count": 7,
   "id": "atomic-omaha",
   "metadata": {
    "execution": {
     "iopub.execute_input": "2022-09-09T03:33:37.891064Z",
     "iopub.status.busy": "2022-09-09T03:33:37.890473Z",
     "iopub.status.idle": "2022-09-09T03:33:39.024335Z",
     "shell.execute_reply": "2022-09-09T03:33:39.023844Z"
    },
    "papermill": {
     "duration": 1.157817,
     "end_time": "2022-09-09T03:33:39.024442",
     "exception": false,
     "start_time": "2022-09-09T03:33:37.866625",
     "status": "completed"
    },
    "tags": []
   },
   "outputs": [
    {
     "data": {
      "image/png": "[encoded data removed]",
      "text/plain": [
       "<Figure size 1080x792 with 2 Axes>"
      ]
     },
     "metadata": {
      "needs_background": "light"
     },
     "output_type": "display_data"
    }
   ],
   "source": [
    "#hide_input\n",
    "plt.figure(figsize=(15, 11))\n",
    "sns.heatmap(df_all[sum_corr].corr(), annot=True, cmap=\"cubehelix\") \n",
    "sns.set(font_scale=1.25)\n",
    "plt.savefig('corr_matrix.png', format='eps')"
   ]
  },
  {
   "cell_type": "code",
   "execution_count": 8,
   "id": "arbitrary-sullivan",
   "metadata": {
    "execution": {
     "iopub.execute_input": "2022-09-09T03:33:39.058871Z",
     "iopub.status.busy": "2022-09-09T03:33:39.058269Z",
     "iopub.status.idle": "2022-09-09T03:33:39.081441Z",
     "shell.execute_reply": "2022-09-09T03:33:39.080876Z"
    },
    "papermill": {
     "duration": 0.043243,
     "end_time": "2022-09-09T03:33:39.081574",
     "exception": false,
     "start_time": "2022-09-09T03:33:39.038331",
     "status": "completed"
    },
    "tags": []
   },
   "outputs": [],
   "source": [
    "#hide\n",
    "#df_all_mrk = read_api()"
   ]
  },
  {
   "cell_type": "code",
   "execution_count": 9,
   "id": "delayed-adapter",
   "metadata": {
    "execution": {
     "iopub.execute_input": "2022-09-09T03:33:39.118729Z",
     "iopub.status.busy": "2022-09-09T03:33:39.116091Z",
     "iopub.status.idle": "2022-09-09T03:33:39.142196Z",
     "shell.execute_reply": "2022-09-09T03:33:39.141737Z"
    },
    "papermill": {
     "duration": 0.042929,
     "end_time": "2022-09-09T03:33:39.142309",
     "exception": false,
     "start_time": "2022-09-09T03:33:39.099380",
     "status": "completed"
    },
    "tags": []
   },
   "outputs": [],
   "source": [
    "#hide\n",
    "#Koreliacijų koeficientai"
   ]
  },
  {
   "cell_type": "code",
   "execution_count": 10,
   "id": "seeing-celebration",
   "metadata": {
    "execution": {
     "iopub.execute_input": "2022-09-09T03:33:39.173075Z",
     "iopub.status.busy": "2022-09-09T03:33:39.172495Z",
     "iopub.status.idle": "2022-09-09T03:33:39.199504Z",
     "shell.execute_reply": "2022-09-09T03:33:39.198988Z"
    },
    "papermill": {
     "duration": 0.043749,
     "end_time": "2022-09-09T03:33:39.199617",
     "exception": false,
     "start_time": "2022-09-09T03:33:39.155868",
     "status": "completed"
    },
    "tags": []
   },
   "outputs": [],
   "source": [
    "#hide_input\n",
    "#sum_corr = df_all_mrk.corr().sum().sort_values(ascending=True).index.values\n",
    "#df_all_mrk[sum_corr].corr()"
   ]
  },
  {
   "cell_type": "code",
   "execution_count": 11,
   "id": "other-painting",
   "metadata": {
    "execution": {
     "iopub.execute_input": "2022-09-09T03:33:39.231435Z",
     "iopub.status.busy": "2022-09-09T03:33:39.230839Z",
     "iopub.status.idle": "2022-09-09T03:33:39.255976Z",
     "shell.execute_reply": "2022-09-09T03:33:39.255496Z"
    },
    "papermill": {
     "duration": 0.04293,
     "end_time": "2022-09-09T03:33:39.256087",
     "exception": false,
     "start_time": "2022-09-09T03:33:39.213157",
     "status": "completed"
    },
    "tags": []
   },
   "outputs": [],
   "source": [
    "#hide\n",
    "#Koreliacijos matrica. "
   ]
  },
  {
   "cell_type": "code",
   "execution_count": 12,
   "id": "modular-magnitude",
   "metadata": {
    "execution": {
     "iopub.execute_input": "2022-09-09T03:33:39.291607Z",
     "iopub.status.busy": "2022-09-09T03:33:39.289330Z",
     "iopub.status.idle": "2022-09-09T03:33:39.317378Z",
     "shell.execute_reply": "2022-09-09T03:33:39.316870Z"
    },
    "papermill": {
     "duration": 0.047718,
     "end_time": "2022-09-09T03:33:39.317491",
     "exception": false,
     "start_time": "2022-09-09T03:33:39.269773",
     "status": "completed"
    },
    "tags": []
   },
   "outputs": [],
   "source": [
    "#hide_input\n",
    "#plt.figure(figsize=(15, 8))\n",
    "#sns.heatmap(df_all_mrk[sum_corr].corr(), annot=True, cmap=\"BrBG\");\n",
    "#plt.savefig('corr_matrix_all.eps', format='eps')"
   ]
  },
  {
   "cell_type": "code",
   "execution_count": null,
   "id": "original-senator",
   "metadata": {
    "papermill": {
     "duration": 0.013365,
     "end_time": "2022-09-09T03:33:39.344408",
     "exception": false,
     "start_time": "2022-09-09T03:33:39.331043",
     "status": "completed"
    },
    "tags": []
   },
   "outputs": [],
   "source": []
  },
  {
   "cell_type": "code",
   "execution_count": null,
   "id": "saving-secretariat",
   "metadata": {
    "papermill": {
     "duration": 0.013564,
     "end_time": "2022-09-09T03:33:39.371381",
     "exception": false,
     "start_time": "2022-09-09T03:33:39.357817",
     "status": "completed"
    },
    "tags": []
   },
   "outputs": [],
   "source": []
  }
 ],
 "metadata": {
  "kernelspec": {
   "display_name": "Python 3",
   "language": "python",
   "name": "python3"
  },
  "language_info": {
   "codemirror_mode": {
    "name": "ipython",
    "version": 3
   },
   "file_extension": ".py",
   "mimetype": "text/x-python",
   "name": "python",
   "nbconvert_exporter": "python",
   "pygments_lexer": "ipython3",
   "version": "3.6.15"
  },
  "papermill": {
   "default_parameters": {},
   "duration": 15.239461,
   "end_time": "2022-09-09T03:33:39.903783",
   "environment_variables": {},
   "exception": null,
   "input_path": "App-Correlation_charts.ipynb",
   "output_path": "App-Correlation_charts.ipynb",
   "parameters": {},
   "start_time": "2022-09-09T03:33:24.664322",
   "version": "2.2.2"
  }
 },
 "nbformat": 4,
 "nbformat_minor": 5
}