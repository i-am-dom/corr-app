{
 "cells": [
  {
   "cell_type": "markdown",
   "id": "touched-facility",
   "metadata": {
    "papermill": {
     "duration": 0.019177,
     "end_time": "2021-11-02T02:01:35.370602",
     "exception": false,
     "start_time": "2021-11-02T02:01:35.351425",
     "status": "completed"
    },
    "tags": []
   },
   "source": [
    "# Koreliacijų matrica\n",
    "> Išplėstinė koreliacijų matrica. \n",
    "\n",
    "- toc: true \n",
    "- badges: true\n",
    "- comments: false\n",
    "- categories: [Dominykas Tautkus]\n",
    "- image: images/matrix.png"
   ]
  },
  {
   "cell_type": "code",
   "execution_count": null,
   "id": "premium-weekend",
   "metadata": {
    "papermill": {
     "duration": 0.014123,
     "end_time": "2021-11-02T02:01:35.399508",
     "exception": false,
     "start_time": "2021-11-02T02:01:35.385385",
     "status": "completed"
    },
    "tags": []
   },
   "outputs": [],
   "source": []
  },
  {
   "cell_type": "code",
   "execution_count": 1,
   "id": "vertical-rebate",
   "metadata": {
    "execution": {
     "iopub.execute_input": "2021-11-02T02:01:35.440952Z",
     "iopub.status.busy": "2021-11-02T02:01:35.440186Z",
     "iopub.status.idle": "2021-11-02T02:01:35.453349Z",
     "shell.execute_reply": "2021-11-02T02:01:35.453828Z"
    },
    "papermill": {
     "duration": 0.040392,
     "end_time": "2021-11-02T02:01:35.454006",
     "exception": false,
     "start_time": "2021-11-02T02:01:35.413614",
     "status": "completed"
    },
    "tags": []
   },
   "outputs": [],
   "source": [
    "#hide\n",
    "%load_ext autoreload\n",
    "%autoreload 2"
   ]
  },
  {
   "cell_type": "code",
   "execution_count": 2,
   "id": "overall-advancement",
   "metadata": {
    "execution": {
     "iopub.execute_input": "2021-11-02T02:01:35.487286Z",
     "iopub.status.busy": "2021-11-02T02:01:35.486547Z",
     "iopub.status.idle": "2021-11-02T02:01:37.136182Z",
     "shell.execute_reply": "2021-11-02T02:01:37.135552Z"
    },
    "papermill": {
     "duration": 1.669144,
     "end_time": "2021-11-02T02:01:37.136331",
     "exception": false,
     "start_time": "2021-11-02T02:01:35.467187",
     "status": "completed"
    },
    "tags": []
   },
   "outputs": [],
   "source": [
    "#hide\n",
    "from scripts.read_data import read_api\n",
    "from IPython.display import HTML\n",
    "import plotly.graph_objects as go\n"
   ]
  },
  {
   "cell_type": "code",
   "execution_count": 3,
   "id": "light-crazy",
   "metadata": {
    "execution": {
     "iopub.execute_input": "2021-11-02T02:01:37.172128Z",
     "iopub.status.busy": "2021-11-02T02:01:37.171424Z",
     "iopub.status.idle": "2021-11-02T02:01:37.199176Z",
     "shell.execute_reply": "2021-11-02T02:01:37.198447Z"
    },
    "papermill": {
     "duration": 0.047643,
     "end_time": "2021-11-02T02:01:37.199359",
     "exception": false,
     "start_time": "2021-11-02T02:01:37.151716",
     "status": "completed"
    },
    "tags": []
   },
   "outputs": [],
   "source": [
    "#hide\n",
    "### ICO koreliacija"
   ]
  },
  {
   "cell_type": "code",
   "execution_count": 4,
   "id": "likely-bahrain",
   "metadata": {
    "execution": {
     "iopub.execute_input": "2021-11-02T02:01:37.233337Z",
     "iopub.status.busy": "2021-11-02T02:01:37.232582Z",
     "iopub.status.idle": "2021-11-02T02:01:38.294421Z",
     "shell.execute_reply": "2021-11-02T02:01:38.293766Z"
    },
    "papermill": {
     "duration": 1.080657,
     "end_time": "2021-11-02T02:01:38.294576",
     "exception": false,
     "start_time": "2021-11-02T02:01:37.213919",
     "status": "completed"
    },
    "tags": []
   },
   "outputs": [],
   "source": [
    "#hide\n",
    "import matplotlib.pyplot as plt\n",
    "import numpy as np\n",
    "import pandas as pd\n",
    "import seaborn as sns\n",
    "import matplotlib.pyplot as plt \n",
    "import matplotlib.dates as mdates\n",
    "import matplotlib.pyplot as plt"
   ]
  },
  {
   "cell_type": "code",
   "execution_count": 5,
   "id": "superior-blanket",
   "metadata": {
    "execution": {
     "iopub.execute_input": "2021-11-02T02:01:38.328493Z",
     "iopub.status.busy": "2021-11-02T02:01:38.327878Z",
     "iopub.status.idle": "2021-11-02T02:01:57.642664Z",
     "shell.execute_reply": "2021-11-02T02:01:57.642018Z"
    },
    "papermill": {
     "duration": 19.333498,
     "end_time": "2021-11-02T02:01:57.642833",
     "exception": false,
     "start_time": "2021-11-02T02:01:38.309335",
     "status": "completed"
    },
    "tags": []
   },
   "outputs": [
    {
     "name": "stderr",
     "output_type": "stream",
     "text": [
      "/home/runner/work/corr-app/corr-app/_notebooks/scripts/read_data.py:187: SettingWithCopyWarning:\n",
      "\n",
      "\n",
      "A value is trying to be set on a copy of a slice from a DataFrame.\n",
      "Try using .loc[row_indexer,col_indexer] = value instead\n",
      "\n",
      "See the caveats in the documentation: https://pandas.pydata.org/pandas-docs/stable/user_guide/indexing.html#returning-a-view-versus-a-copy\n",
      "\n"
     ]
    },
    {
     "name": "stderr",
     "output_type": "stream",
     "text": [
      "/home/runner/work/corr-app/corr-app/_notebooks/scripts/read_data.py:215: SettingWithCopyWarning:\n",
      "\n",
      "\n",
      "A value is trying to be set on a copy of a slice from a DataFrame.\n",
      "Try using .loc[row_indexer,col_indexer] = value instead\n",
      "\n",
      "See the caveats in the documentation: https://pandas.pydata.org/pandas-docs/stable/user_guide/indexing.html#returning-a-view-versus-a-copy\n",
      "\n"
     ]
    }
   ],
   "source": [
    "#hide\n",
    "df_all = read_api()\n",
    "#df_all = df_all.drop(['SP500', 'XAU', 'ETH', 'BTC'], axis=1)\n",
    "\n"
   ]
  },
  {
   "cell_type": "code",
   "execution_count": 6,
   "id": "mature-alert",
   "metadata": {
    "execution": {
     "iopub.execute_input": "2021-11-02T02:01:57.678432Z",
     "iopub.status.busy": "2021-11-02T02:01:57.677701Z",
     "iopub.status.idle": "2021-11-02T02:01:57.715748Z",
     "shell.execute_reply": "2021-11-02T02:01:57.715106Z"
    },
    "papermill": {
     "duration": 0.057733,
     "end_time": "2021-11-02T02:01:57.715941",
     "exception": false,
     "start_time": "2021-11-02T02:01:57.658208",
     "status": "completed"
    },
    "tags": []
   },
   "outputs": [],
   "source": [
    "#hide_input\n",
    "sum_corr = df_all.corr().sum().sort_values(ascending=True).index.values\n",
    "#df_all[sum_corr].corr()"
   ]
  },
  {
   "cell_type": "markdown",
   "id": "complex-syndicate",
   "metadata": {
    "papermill": {
     "duration": 0.013633,
     "end_time": "2021-11-02T02:01:57.744443",
     "exception": false,
     "start_time": "2021-11-02T02:01:57.730810",
     "status": "completed"
    },
    "tags": []
   },
   "source": [
    "## Išplėstinė koreliacijų matrica. "
   ]
  },
  {
   "cell_type": "code",
   "execution_count": 7,
   "id": "atomic-omaha",
   "metadata": {
    "execution": {
     "iopub.execute_input": "2021-11-02T02:01:57.782273Z",
     "iopub.status.busy": "2021-11-02T02:01:57.781521Z",
     "iopub.status.idle": "2021-11-02T02:01:59.549337Z",
     "shell.execute_reply": "2021-11-02T02:01:59.549941Z"
    },
    "papermill": {
     "duration": 1.79033,
     "end_time": "2021-11-02T02:01:59.550113",
     "exception": false,
     "start_time": "2021-11-02T02:01:57.759783",
     "status": "completed"
    },
    "tags": []
   },
   "outputs": [
    {
     "data": {
      "image/png": "[encoded data removed]",
      "text/plain": [
       "<Figure size 1080x792 with 2 Axes>"
      ]
     },
     "metadata": {
      "needs_background": "light"
     },
     "output_type": "display_data"
    }
   ],
   "source": [
    "#hide_input\n",
    "plt.figure(figsize=(15, 11))\n",
    "sns.heatmap(df_all[sum_corr].corr(), annot=True, cmap=\"cubehelix\") \n",
    "sns.set(font_scale=1.25)\n",
    "plt.savefig('corr_matrix.png', format='eps')"
   ]
  },
  {
   "cell_type": "code",
   "execution_count": 8,
   "id": "arbitrary-sullivan",
   "metadata": {
    "execution": {
     "iopub.execute_input": "2021-11-02T02:01:59.598222Z",
     "iopub.status.busy": "2021-11-02T02:01:59.597596Z",
     "iopub.status.idle": "2021-11-02T02:01:59.625839Z",
     "shell.execute_reply": "2021-11-02T02:01:59.624561Z"
    },
    "papermill": {
     "duration": 0.057714,
     "end_time": "2021-11-02T02:01:59.625991",
     "exception": false,
     "start_time": "2021-11-02T02:01:59.568277",
     "status": "completed"
    },
    "tags": []
   },
   "outputs": [],
   "source": [
    "#hide\n",
    "#df_all_mrk = read_api()"
   ]
  },
  {
   "cell_type": "code",
   "execution_count": 9,
   "id": "delayed-adapter",
   "metadata": {
    "execution": {
     "iopub.execute_input": "2021-11-02T02:01:59.669863Z",
     "iopub.status.busy": "2021-11-02T02:01:59.664971Z",
     "iopub.status.idle": "2021-11-02T02:01:59.696272Z",
     "shell.execute_reply": "2021-11-02T02:01:59.695613Z"
    },
    "papermill": {
     "duration": 0.052854,
     "end_time": "2021-11-02T02:01:59.696423",
     "exception": false,
     "start_time": "2021-11-02T02:01:59.643569",
     "status": "completed"
    },
    "tags": []
   },
   "outputs": [],
   "source": [
    "#hide\n",
    "#Koreliacijų koeficientai"
   ]
  },
  {
   "cell_type": "code",
   "execution_count": 10,
   "id": "seeing-celebration",
   "metadata": {
    "execution": {
     "iopub.execute_input": "2021-11-02T02:01:59.738087Z",
     "iopub.status.busy": "2021-11-02T02:01:59.737401Z",
     "iopub.status.idle": "2021-11-02T02:01:59.770151Z",
     "shell.execute_reply": "2021-11-02T02:01:59.769444Z"
    },
    "papermill": {
     "duration": 0.055474,
     "end_time": "2021-11-02T02:01:59.770314",
     "exception": false,
     "start_time": "2021-11-02T02:01:59.714840",
     "status": "completed"
    },
    "tags": []
   },
   "outputs": [],
   "source": [
    "#hide_input\n",
    "#sum_corr = df_all_mrk.corr().sum().sort_values(ascending=True).index.values\n",
    "#df_all_mrk[sum_corr].corr()"
   ]
  },
  {
   "cell_type": "code",
   "execution_count": 11,
   "id": "other-painting",
   "metadata": {
    "execution": {
     "iopub.execute_input": "2021-11-02T02:01:59.809954Z",
     "iopub.status.busy": "2021-11-02T02:01:59.809266Z",
     "iopub.status.idle": "2021-11-02T02:01:59.841330Z",
     "shell.execute_reply": "2021-11-02T02:01:59.840735Z"
    },
    "papermill": {
     "duration": 0.053611,
     "end_time": "2021-11-02T02:01:59.841489",
     "exception": false,
     "start_time": "2021-11-02T02:01:59.787878",
     "status": "completed"
    },
    "tags": []
   },
   "outputs": [],
   "source": [
    "#hide\n",
    "#Koreliacijos matrica. "
   ]
  },
  {
   "cell_type": "code",
   "execution_count": 12,
   "id": "modular-magnitude",
   "metadata": {
    "execution": {
     "iopub.execute_input": "2021-11-02T02:01:59.881102Z",
     "iopub.status.busy": "2021-11-02T02:01:59.880384Z",
     "iopub.status.idle": "2021-11-02T02:01:59.913734Z",
     "shell.execute_reply": "2021-11-02T02:01:59.913178Z"
    },
    "papermill": {
     "duration": 0.054861,
     "end_time": "2021-11-02T02:01:59.913877",
     "exception": false,
     "start_time": "2021-11-02T02:01:59.859016",
     "status": "completed"
    },
    "tags": []
   },
   "outputs": [],
   "source": [
    "#hide_input\n",
    "#plt.figure(figsize=(15, 8))\n",
    "#sns.heatmap(df_all_mrk[sum_corr].corr(), annot=True, cmap=\"BrBG\");\n",
    "#plt.savefig('corr_matrix_all.eps', format='eps')"
   ]
  },
  {
   "cell_type": "code",
   "execution_count": null,
   "id": "original-senator",
   "metadata": {
    "papermill": {
     "duration": 0.016945,
     "end_time": "2021-11-02T02:01:59.948187",
     "exception": false,
     "start_time": "2021-11-02T02:01:59.931242",
     "status": "completed"
    },
    "tags": []
   },
   "outputs": [],
   "source": []
  },
  {
   "cell_type": "code",
   "execution_count": null,
   "id": "saving-secretariat",
   "metadata": {
    "papermill": {
     "duration": 0.017464,
     "end_time": "2021-11-02T02:01:59.982898",
     "exception": false,
     "start_time": "2021-11-02T02:01:59.965434",
     "status": "completed"
    },
    "tags": []
   },
   "outputs": [],
   "source": []
  }
 ],
 "metadata": {
  "kernelspec": {
   "display_name": "Python 3",
   "language": "python",
   "name": "python3"
  },
  "language_info": {
   "codemirror_mode": {
    "name": "ipython",
    "version": 3
   },
   "file_extension": ".py",
   "mimetype": "text/x-python",
   "name": "python",
   "nbconvert_exporter": "python",
   "pygments_lexer": "ipython3",
   "version": "3.6.15"
  },
  "papermill": {
   "default_parameters": {},
   "duration": 26.582011,
   "end_time": "2021-11-02T02:02:00.609660",
   "environment_variables": {},
   "exception": null,
   "input_path": "App-Correlation_charts.ipynb",
   "output_path": "App-Correlation_charts.ipynb",
   "parameters": {},
   "start_time": "2021-11-02T02:01:34.027649",
   "version": "2.2.2"
  }
 },
 "nbformat": 4,
 "nbformat_minor": 5
}