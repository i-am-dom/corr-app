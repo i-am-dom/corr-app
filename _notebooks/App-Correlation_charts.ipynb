{
 "cells": [
  {
   "cell_type": "markdown",
   "id": "touched-facility",
   "metadata": {
    "papermill": {
     "duration": 0.019402,
     "end_time": "2022-11-05T02:59:46.489627",
     "exception": false,
     "start_time": "2022-11-05T02:59:46.470225",
     "status": "completed"
    },
    "tags": []
   },
   "source": [
    "# Koreliacijų matrica\n",
    "> Išplėstinė koreliacijų matrica. \n",
    "\n",
    "- toc: true \n",
    "- badges: true\n",
    "- comments: false\n",
    "- categories: [Dominykas Tautkus]\n",
    "- image: images/matrix.png"
   ]
  },
  {
   "cell_type": "code",
   "execution_count": null,
   "id": "premium-weekend",
   "metadata": {
    "papermill": {
     "duration": 0.011796,
     "end_time": "2022-11-05T02:59:46.514522",
     "exception": false,
     "start_time": "2022-11-05T02:59:46.502726",
     "status": "completed"
    },
    "tags": []
   },
   "outputs": [],
   "source": []
  },
  {
   "cell_type": "code",
   "execution_count": 1,
   "id": "vertical-rebate",
   "metadata": {
    "execution": {
     "iopub.execute_input": "2022-11-05T02:59:46.550930Z",
     "iopub.status.busy": "2022-11-05T02:59:46.549079Z",
     "iopub.status.idle": "2022-11-05T02:59:46.561081Z",
     "shell.execute_reply": "2022-11-05T02:59:46.560534Z"
    },
    "papermill": {
     "duration": 0.035183,
     "end_time": "2022-11-05T02:59:46.561220",
     "exception": false,
     "start_time": "2022-11-05T02:59:46.526037",
     "status": "completed"
    },
    "tags": []
   },
   "outputs": [],
   "source": [
    "#hide\n",
    "%load_ext autoreload\n",
    "%autoreload 2"
   ]
  },
  {
   "cell_type": "code",
   "execution_count": 2,
   "id": "overall-advancement",
   "metadata": {
    "execution": {
     "iopub.execute_input": "2022-11-05T02:59:46.593197Z",
     "iopub.status.busy": "2022-11-05T02:59:46.592514Z",
     "iopub.status.idle": "2022-11-05T02:59:48.321938Z",
     "shell.execute_reply": "2022-11-05T02:59:48.322517Z"
    },
    "papermill": {
     "duration": 1.750078,
     "end_time": "2022-11-05T02:59:48.322678",
     "exception": false,
     "start_time": "2022-11-05T02:59:46.572600",
     "status": "completed"
    },
    "tags": []
   },
   "outputs": [],
   "source": [
    "#hide\n",
    "from scripts.read_data import read_api\n",
    "from IPython.display import HTML\n",
    "import plotly.graph_objects as go\n"
   ]
  },
  {
   "cell_type": "code",
   "execution_count": 3,
   "id": "light-crazy",
   "metadata": {
    "execution": {
     "iopub.execute_input": "2022-11-05T02:59:48.355157Z",
     "iopub.status.busy": "2022-11-05T02:59:48.352111Z",
     "iopub.status.idle": "2022-11-05T02:59:48.378999Z",
     "shell.execute_reply": "2022-11-05T02:59:48.379670Z"
    },
    "papermill": {
     "duration": 0.044867,
     "end_time": "2022-11-05T02:59:48.379862",
     "exception": false,
     "start_time": "2022-11-05T02:59:48.334995",
     "status": "completed"
    },
    "tags": []
   },
   "outputs": [],
   "source": [
    "#hide\n",
    "### ICO koreliacija"
   ]
  },
  {
   "cell_type": "code",
   "execution_count": 4,
   "id": "likely-bahrain",
   "metadata": {
    "execution": {
     "iopub.execute_input": "2022-11-05T02:59:48.415713Z",
     "iopub.status.busy": "2022-11-05T02:59:48.413474Z",
     "iopub.status.idle": "2022-11-05T02:59:49.367418Z",
     "shell.execute_reply": "2022-11-05T02:59:49.366801Z"
    },
    "papermill": {
     "duration": 0.974617,
     "end_time": "2022-11-05T02:59:49.367554",
     "exception": false,
     "start_time": "2022-11-05T02:59:48.392937",
     "status": "completed"
    },
    "tags": []
   },
   "outputs": [],
   "source": [
    "#hide\n",
    "import matplotlib.pyplot as plt\n",
    "import numpy as np\n",
    "import pandas as pd\n",
    "import seaborn as sns\n",
    "import matplotlib.pyplot as plt \n",
    "import matplotlib.dates as mdates\n",
    "import matplotlib.pyplot as plt"
   ]
  },
  {
   "cell_type": "code",
   "execution_count": 5,
   "id": "superior-blanket",
   "metadata": {
    "execution": {
     "iopub.execute_input": "2022-11-05T02:59:49.401727Z",
     "iopub.status.busy": "2022-11-05T02:59:49.400142Z",
     "iopub.status.idle": "2022-11-05T03:00:03.626573Z",
     "shell.execute_reply": "2022-11-05T03:00:03.625969Z"
    },
    "papermill": {
     "duration": 14.246719,
     "end_time": "2022-11-05T03:00:03.626727",
     "exception": false,
     "start_time": "2022-11-05T02:59:49.380008",
     "status": "completed"
    },
    "tags": []
   },
   "outputs": [
    {
     "name": "stderr",
     "output_type": "stream",
     "text": [
      "/home/runner/work/corr-app/corr-app/_notebooks/scripts/read_data.py:187: SettingWithCopyWarning:\n",
      "\n",
      "\n",
      "A value is trying to be set on a copy of a slice from a DataFrame.\n",
      "Try using .loc[row_indexer,col_indexer] = value instead\n",
      "\n",
      "See the caveats in the documentation: https://pandas.pydata.org/pandas-docs/stable/user_guide/indexing.html#returning-a-view-versus-a-copy\n",
      "\n"
     ]
    },
    {
     "name": "stderr",
     "output_type": "stream",
     "text": [
      "/home/runner/work/corr-app/corr-app/_notebooks/scripts/read_data.py:215: SettingWithCopyWarning:\n",
      "\n",
      "\n",
      "A value is trying to be set on a copy of a slice from a DataFrame.\n",
      "Try using .loc[row_indexer,col_indexer] = value instead\n",
      "\n",
      "See the caveats in the documentation: https://pandas.pydata.org/pandas-docs/stable/user_guide/indexing.html#returning-a-view-versus-a-copy\n",
      "\n"
     ]
    }
   ],
   "source": [
    "#hide\n",
    "df_all = read_api()\n",
    "#df_all = df_all.drop(['SP500', 'XAU', 'ETH', 'BTC'], axis=1)\n",
    "\n"
   ]
  },
  {
   "cell_type": "code",
   "execution_count": 6,
   "id": "mature-alert",
   "metadata": {
    "execution": {
     "iopub.execute_input": "2022-11-05T03:00:03.658760Z",
     "iopub.status.busy": "2022-11-05T03:00:03.658068Z",
     "iopub.status.idle": "2022-11-05T03:00:03.694072Z",
     "shell.execute_reply": "2022-11-05T03:00:03.693049Z"
    },
    "papermill": {
     "duration": 0.05313,
     "end_time": "2022-11-05T03:00:03.694279",
     "exception": false,
     "start_time": "2022-11-05T03:00:03.641149",
     "status": "completed"
    },
    "tags": []
   },
   "outputs": [],
   "source": [
    "#hide_input\n",
    "sum_corr = df_all.corr().sum().sort_values(ascending=True).index.values\n",
    "#df_all[sum_corr].corr()"
   ]
  },
  {
   "cell_type": "markdown",
   "id": "complex-syndicate",
   "metadata": {
    "papermill": {
     "duration": 0.012633,
     "end_time": "2022-11-05T03:00:03.721802",
     "exception": false,
     "start_time": "2022-11-05T03:00:03.709169",
     "status": "completed"
    },
    "tags": []
   },
   "source": [
    "## Išplėstinė koreliacijų matrica. "
   ]
  },
  {
   "cell_type": "code",
   "execution_count": 7,
   "id": "atomic-omaha",
   "metadata": {
    "execution": {
     "iopub.execute_input": "2022-11-05T03:00:03.752325Z",
     "iopub.status.busy": "2022-11-05T03:00:03.751642Z",
     "iopub.status.idle": "2022-11-05T03:00:05.140042Z",
     "shell.execute_reply": "2022-11-05T03:00:05.139467Z"
    },
    "papermill": {
     "duration": 1.405702,
     "end_time": "2022-11-05T03:00:05.140172",
     "exception": false,
     "start_time": "2022-11-05T03:00:03.734470",
     "status": "completed"
    },
    "tags": []
   },
   "outputs": [
    {
     "data": {
      "image/png": "[encoded data removed]",
      "text/plain": [
       "<Figure size 1080x792 with 2 Axes>"
      ]
     },
     "metadata": {
      "needs_background": "light"
     },
     "output_type": "display_data"
    }
   ],
   "source": [
    "#hide_input\n",
    "plt.figure(figsize=(15, 11))\n",
    "sns.heatmap(df_all[sum_corr].corr(), annot=True, cmap=\"cubehelix\") \n",
    "sns.set(font_scale=1.25)\n",
    "plt.savefig('corr_matrix.png', format='eps')"
   ]
  },
  {
   "cell_type": "code",
   "execution_count": 8,
   "id": "arbitrary-sullivan",
   "metadata": {
    "execution": {
     "iopub.execute_input": "2022-11-05T03:00:05.175489Z",
     "iopub.status.busy": "2022-11-05T03:00:05.174464Z",
     "iopub.status.idle": "2022-11-05T03:00:05.204157Z",
     "shell.execute_reply": "2022-11-05T03:00:05.204704Z"
    },
    "papermill": {
     "duration": 0.049201,
     "end_time": "2022-11-05T03:00:05.204860",
     "exception": false,
     "start_time": "2022-11-05T03:00:05.155659",
     "status": "completed"
    },
    "tags": []
   },
   "outputs": [],
   "source": [
    "#hide\n",
    "#df_all_mrk = read_api()"
   ]
  },
  {
   "cell_type": "code",
   "execution_count": 9,
   "id": "delayed-adapter",
   "metadata": {
    "execution": {
     "iopub.execute_input": "2022-11-05T03:00:05.239325Z",
     "iopub.status.busy": "2022-11-05T03:00:05.238638Z",
     "iopub.status.idle": "2022-11-05T03:00:05.269210Z",
     "shell.execute_reply": "2022-11-05T03:00:05.269934Z"
    },
    "papermill": {
     "duration": 0.050089,
     "end_time": "2022-11-05T03:00:05.270132",
     "exception": false,
     "start_time": "2022-11-05T03:00:05.220043",
     "status": "completed"
    },
    "tags": []
   },
   "outputs": [],
   "source": [
    "#hide\n",
    "#Koreliacijų koeficientai"
   ]
  },
  {
   "cell_type": "code",
   "execution_count": 10,
   "id": "seeing-celebration",
   "metadata": {
    "execution": {
     "iopub.execute_input": "2022-11-05T03:00:05.308626Z",
     "iopub.status.busy": "2022-11-05T03:00:05.306904Z",
     "iopub.status.idle": "2022-11-05T03:00:05.335848Z",
     "shell.execute_reply": "2022-11-05T03:00:05.336370Z"
    },
    "papermill": {
     "duration": 0.05015,
     "end_time": "2022-11-05T03:00:05.336523",
     "exception": false,
     "start_time": "2022-11-05T03:00:05.286373",
     "status": "completed"
    },
    "tags": []
   },
   "outputs": [],
   "source": [
    "#hide_input\n",
    "#sum_corr = df_all_mrk.corr().sum().sort_values(ascending=True).index.values\n",
    "#df_all_mrk[sum_corr].corr()"
   ]
  },
  {
   "cell_type": "code",
   "execution_count": 11,
   "id": "other-painting",
   "metadata": {
    "execution": {
     "iopub.execute_input": "2022-11-05T03:00:05.370557Z",
     "iopub.status.busy": "2022-11-05T03:00:05.369879Z",
     "iopub.status.idle": "2022-11-05T03:00:05.400171Z",
     "shell.execute_reply": "2022-11-05T03:00:05.399426Z"
    },
    "papermill": {
     "duration": 0.048793,
     "end_time": "2022-11-05T03:00:05.400332",
     "exception": false,
     "start_time": "2022-11-05T03:00:05.351539",
     "status": "completed"
    },
    "tags": []
   },
   "outputs": [],
   "source": [
    "#hide\n",
    "#Koreliacijos matrica. "
   ]
  },
  {
   "cell_type": "code",
   "execution_count": 12,
   "id": "modular-magnitude",
   "metadata": {
    "execution": {
     "iopub.execute_input": "2022-11-05T03:00:05.436548Z",
     "iopub.status.busy": "2022-11-05T03:00:05.435840Z",
     "iopub.status.idle": "2022-11-05T03:00:05.466165Z",
     "shell.execute_reply": "2022-11-05T03:00:05.465583Z"
    },
    "papermill": {
     "duration": 0.049651,
     "end_time": "2022-11-05T03:00:05.466286",
     "exception": false,
     "start_time": "2022-11-05T03:00:05.416635",
     "status": "completed"
    },
    "tags": []
   },
   "outputs": [],
   "source": [
    "#hide_input\n",
    "#plt.figure(figsize=(15, 8))\n",
    "#sns.heatmap(df_all_mrk[sum_corr].corr(), annot=True, cmap=\"BrBG\");\n",
    "#plt.savefig('corr_matrix_all.eps', format='eps')"
   ]
  },
  {
   "cell_type": "code",
   "execution_count": null,
   "id": "original-senator",
   "metadata": {
    "papermill": {
     "duration": 0.014904,
     "end_time": "2022-11-05T03:00:05.496148",
     "exception": false,
     "start_time": "2022-11-05T03:00:05.481244",
     "status": "completed"
    },
    "tags": []
   },
   "outputs": [],
   "source": []
  },
  {
   "cell_type": "code",
   "execution_count": null,
   "id": "saving-secretariat",
   "metadata": {
    "papermill": {
     "duration": 0.015304,
     "end_time": "2022-11-05T03:00:05.526391",
     "exception": false,
     "start_time": "2022-11-05T03:00:05.511087",
     "status": "completed"
    },
    "tags": []
   },
   "outputs": [],
   "source": []
  }
 ],
 "metadata": {
  "kernelspec": {
   "display_name": "Python 3",
   "language": "python",
   "name": "python3"
  },
  "language_info": {
   "codemirror_mode": {
    "name": "ipython",
    "version": 3
   },
   "file_extension": ".py",
   "mimetype": "text/x-python",
   "name": "python",
   "nbconvert_exporter": "python",
   "pygments_lexer": "ipython3",
   "version": "3.6.15"
  },
  "papermill": {
   "default_parameters": {},
   "duration": 20.870811,
   "end_time": "2022-11-05T03:00:06.063055",
   "environment_variables": {},
   "exception": null,
   "input_path": "App-Correlation_charts.ipynb",
   "output_path": "App-Correlation_charts.ipynb",
   "parameters": {},
   "start_time": "2022-11-05T02:59:45.192244",
   "version": "2.2.2"
  }
 },
 "nbformat": 4,
 "nbformat_minor": 5
}