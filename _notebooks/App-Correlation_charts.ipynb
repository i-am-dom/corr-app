{
 "cells": [
  {
   "cell_type": "markdown",
   "id": "touched-facility",
   "metadata": {
    "papermill": {
     "duration": 0.016076,
     "end_time": "2022-06-08T02:59:44.247081",
     "exception": false,
     "start_time": "2022-06-08T02:59:44.231005",
     "status": "completed"
    },
    "tags": []
   },
   "source": [
    "# Koreliacijų matrica\n",
    "> Išplėstinė koreliacijų matrica. \n",
    "\n",
    "- toc: true \n",
    "- badges: true\n",
    "- comments: false\n",
    "- categories: [Dominykas Tautkus]\n",
    "- image: images/matrix.png"
   ]
  },
  {
   "cell_type": "code",
   "execution_count": null,
   "id": "premium-weekend",
   "metadata": {
    "papermill": {
     "duration": 0.012916,
     "end_time": "2022-06-08T02:59:44.273789",
     "exception": false,
     "start_time": "2022-06-08T02:59:44.260873",
     "status": "completed"
    },
    "tags": []
   },
   "outputs": [],
   "source": []
  },
  {
   "cell_type": "code",
   "execution_count": 1,
   "id": "vertical-rebate",
   "metadata": {
    "execution": {
     "iopub.execute_input": "2022-06-08T02:59:44.312605Z",
     "iopub.status.busy": "2022-06-08T02:59:44.311901Z",
     "iopub.status.idle": "2022-06-08T02:59:44.323530Z",
     "shell.execute_reply": "2022-06-08T02:59:44.324145Z"
    },
    "papermill": {
     "duration": 0.035806,
     "end_time": "2022-06-08T02:59:44.324360",
     "exception": false,
     "start_time": "2022-06-08T02:59:44.288554",
     "status": "completed"
    },
    "tags": []
   },
   "outputs": [],
   "source": [
    "#hide\n",
    "%load_ext autoreload\n",
    "%autoreload 2"
   ]
  },
  {
   "cell_type": "code",
   "execution_count": 2,
   "id": "overall-advancement",
   "metadata": {
    "execution": {
     "iopub.execute_input": "2022-06-08T02:59:44.353554Z",
     "iopub.status.busy": "2022-06-08T02:59:44.352791Z",
     "iopub.status.idle": "2022-06-08T02:59:45.863180Z",
     "shell.execute_reply": "2022-06-08T02:59:45.862592Z"
    },
    "papermill": {
     "duration": 1.526884,
     "end_time": "2022-06-08T02:59:45.863324",
     "exception": false,
     "start_time": "2022-06-08T02:59:44.336440",
     "status": "completed"
    },
    "tags": []
   },
   "outputs": [],
   "source": [
    "#hide\n",
    "from scripts.read_data import read_api\n",
    "from IPython.display import HTML\n",
    "import plotly.graph_objects as go\n"
   ]
  },
  {
   "cell_type": "code",
   "execution_count": 3,
   "id": "light-crazy",
   "metadata": {
    "execution": {
     "iopub.execute_input": "2022-06-08T02:59:45.895736Z",
     "iopub.status.busy": "2022-06-08T02:59:45.894991Z",
     "iopub.status.idle": "2022-06-08T02:59:45.922196Z",
     "shell.execute_reply": "2022-06-08T02:59:45.921539Z"
    },
    "papermill": {
     "duration": 0.045856,
     "end_time": "2022-06-08T02:59:45.922325",
     "exception": false,
     "start_time": "2022-06-08T02:59:45.876469",
     "status": "completed"
    },
    "tags": []
   },
   "outputs": [],
   "source": [
    "#hide\n",
    "### ICO koreliacija"
   ]
  },
  {
   "cell_type": "code",
   "execution_count": 4,
   "id": "likely-bahrain",
   "metadata": {
    "execution": {
     "iopub.execute_input": "2022-06-08T02:59:45.957812Z",
     "iopub.status.busy": "2022-06-08T02:59:45.956335Z",
     "iopub.status.idle": "2022-06-08T02:59:46.933032Z",
     "shell.execute_reply": "2022-06-08T02:59:46.932416Z"
    },
    "papermill": {
     "duration": 0.998485,
     "end_time": "2022-06-08T02:59:46.933186",
     "exception": false,
     "start_time": "2022-06-08T02:59:45.934701",
     "status": "completed"
    },
    "tags": []
   },
   "outputs": [],
   "source": [
    "#hide\n",
    "import matplotlib.pyplot as plt\n",
    "import numpy as np\n",
    "import pandas as pd\n",
    "import seaborn as sns\n",
    "import matplotlib.pyplot as plt \n",
    "import matplotlib.dates as mdates\n",
    "import matplotlib.pyplot as plt"
   ]
  },
  {
   "cell_type": "code",
   "execution_count": 5,
   "id": "superior-blanket",
   "metadata": {
    "execution": {
     "iopub.execute_input": "2022-06-08T02:59:46.977751Z",
     "iopub.status.busy": "2022-06-08T02:59:46.976700Z",
     "iopub.status.idle": "2022-06-08T02:59:57.009889Z",
     "shell.execute_reply": "2022-06-08T02:59:57.010463Z"
    },
    "papermill": {
     "duration": 10.064161,
     "end_time": "2022-06-08T02:59:57.010652",
     "exception": false,
     "start_time": "2022-06-08T02:59:46.946491",
     "status": "completed"
    },
    "tags": []
   },
   "outputs": [
    {
     "name": "stderr",
     "output_type": "stream",
     "text": [
      "/home/runner/work/corr-app/corr-app/_notebooks/scripts/read_data.py:187: SettingWithCopyWarning:\n",
      "\n",
      "\n",
      "A value is trying to be set on a copy of a slice from a DataFrame.\n",
      "Try using .loc[row_indexer,col_indexer] = value instead\n",
      "\n",
      "See the caveats in the documentation: https://pandas.pydata.org/pandas-docs/stable/user_guide/indexing.html#returning-a-view-versus-a-copy\n",
      "\n"
     ]
    },
    {
     "name": "stderr",
     "output_type": "stream",
     "text": [
      "/home/runner/work/corr-app/corr-app/_notebooks/scripts/read_data.py:215: SettingWithCopyWarning:\n",
      "\n",
      "\n",
      "A value is trying to be set on a copy of a slice from a DataFrame.\n",
      "Try using .loc[row_indexer,col_indexer] = value instead\n",
      "\n",
      "See the caveats in the documentation: https://pandas.pydata.org/pandas-docs/stable/user_guide/indexing.html#returning-a-view-versus-a-copy\n",
      "\n"
     ]
    }
   ],
   "source": [
    "#hide\n",
    "df_all = read_api()\n",
    "#df_all = df_all.drop(['SP500', 'XAU', 'ETH', 'BTC'], axis=1)\n",
    "\n"
   ]
  },
  {
   "cell_type": "code",
   "execution_count": 6,
   "id": "mature-alert",
   "metadata": {
    "execution": {
     "iopub.execute_input": "2022-06-08T02:59:57.048865Z",
     "iopub.status.busy": "2022-06-08T02:59:57.047807Z",
     "iopub.status.idle": "2022-06-08T02:59:57.079160Z",
     "shell.execute_reply": "2022-06-08T02:59:57.079664Z"
    },
    "papermill": {
     "duration": 0.054926,
     "end_time": "2022-06-08T02:59:57.079824",
     "exception": false,
     "start_time": "2022-06-08T02:59:57.024898",
     "status": "completed"
    },
    "tags": []
   },
   "outputs": [],
   "source": [
    "#hide_input\n",
    "sum_corr = df_all.corr().sum().sort_values(ascending=True).index.values\n",
    "#df_all[sum_corr].corr()"
   ]
  },
  {
   "cell_type": "markdown",
   "id": "complex-syndicate",
   "metadata": {
    "papermill": {
     "duration": 0.01361,
     "end_time": "2022-06-08T02:59:57.106907",
     "exception": false,
     "start_time": "2022-06-08T02:59:57.093297",
     "status": "completed"
    },
    "tags": []
   },
   "source": [
    "## Išplėstinė koreliacijų matrica. "
   ]
  },
  {
   "cell_type": "code",
   "execution_count": 7,
   "id": "atomic-omaha",
   "metadata": {
    "execution": {
     "iopub.execute_input": "2022-06-08T02:59:57.148942Z",
     "iopub.status.busy": "2022-06-08T02:59:57.140027Z",
     "iopub.status.idle": "2022-06-08T02:59:58.637060Z",
     "shell.execute_reply": "2022-06-08T02:59:58.635558Z"
    },
    "papermill": {
     "duration": 1.516831,
     "end_time": "2022-06-08T02:59:58.637216",
     "exception": false,
     "start_time": "2022-06-08T02:59:57.120385",
     "status": "completed"
    },
    "tags": []
   },
   "outputs": [
    {
     "data": {
      "image/png": "[encoded data removed]",
      "text/plain": [
       "<Figure size 1080x792 with 2 Axes>"
      ]
     },
     "metadata": {
      "needs_background": "light"
     },
     "output_type": "display_data"
    }
   ],
   "source": [
    "#hide_input\n",
    "plt.figure(figsize=(15, 11))\n",
    "sns.heatmap(df_all[sum_corr].corr(), annot=True, cmap=\"cubehelix\") \n",
    "sns.set(font_scale=1.25)\n",
    "plt.savefig('corr_matrix.png', format='eps')"
   ]
  },
  {
   "cell_type": "code",
   "execution_count": 8,
   "id": "arbitrary-sullivan",
   "metadata": {
    "execution": {
     "iopub.execute_input": "2022-06-08T02:59:58.681208Z",
     "iopub.status.busy": "2022-06-08T02:59:58.675451Z",
     "iopub.status.idle": "2022-06-08T02:59:58.702149Z",
     "shell.execute_reply": "2022-06-08T02:59:58.701613Z"
    },
    "papermill": {
     "duration": 0.049722,
     "end_time": "2022-06-08T02:59:58.702281",
     "exception": false,
     "start_time": "2022-06-08T02:59:58.652559",
     "status": "completed"
    },
    "tags": []
   },
   "outputs": [],
   "source": [
    "#hide\n",
    "#df_all_mrk = read_api()"
   ]
  },
  {
   "cell_type": "code",
   "execution_count": 9,
   "id": "delayed-adapter",
   "metadata": {
    "execution": {
     "iopub.execute_input": "2022-06-08T02:59:58.745033Z",
     "iopub.status.busy": "2022-06-08T02:59:58.739678Z",
     "iopub.status.idle": "2022-06-08T02:59:58.763823Z",
     "shell.execute_reply": "2022-06-08T02:59:58.762823Z"
    },
    "papermill": {
     "duration": 0.0472,
     "end_time": "2022-06-08T02:59:58.763942",
     "exception": false,
     "start_time": "2022-06-08T02:59:58.716742",
     "status": "completed"
    },
    "tags": []
   },
   "outputs": [],
   "source": [
    "#hide\n",
    "#Koreliacijų koeficientai"
   ]
  },
  {
   "cell_type": "code",
   "execution_count": 10,
   "id": "seeing-celebration",
   "metadata": {
    "execution": {
     "iopub.execute_input": "2022-06-08T02:59:58.802590Z",
     "iopub.status.busy": "2022-06-08T02:59:58.801905Z",
     "iopub.status.idle": "2022-06-08T02:59:58.829965Z",
     "shell.execute_reply": "2022-06-08T02:59:58.829418Z"
    },
    "papermill": {
     "duration": 0.0486,
     "end_time": "2022-06-08T02:59:58.830087",
     "exception": false,
     "start_time": "2022-06-08T02:59:58.781487",
     "status": "completed"
    },
    "tags": []
   },
   "outputs": [],
   "source": [
    "#hide_input\n",
    "#sum_corr = df_all_mrk.corr().sum().sort_values(ascending=True).index.values\n",
    "#df_all_mrk[sum_corr].corr()"
   ]
  },
  {
   "cell_type": "code",
   "execution_count": 11,
   "id": "other-painting",
   "metadata": {
    "execution": {
     "iopub.execute_input": "2022-06-08T02:59:58.866125Z",
     "iopub.status.busy": "2022-06-08T02:59:58.865455Z",
     "iopub.status.idle": "2022-06-08T02:59:58.896323Z",
     "shell.execute_reply": "2022-06-08T02:59:58.895727Z"
    },
    "papermill": {
     "duration": 0.051524,
     "end_time": "2022-06-08T02:59:58.896454",
     "exception": false,
     "start_time": "2022-06-08T02:59:58.844930",
     "status": "completed"
    },
    "tags": []
   },
   "outputs": [],
   "source": [
    "#hide\n",
    "#Koreliacijos matrica. "
   ]
  },
  {
   "cell_type": "code",
   "execution_count": 12,
   "id": "modular-magnitude",
   "metadata": {
    "execution": {
     "iopub.execute_input": "2022-06-08T02:59:58.936067Z",
     "iopub.status.busy": "2022-06-08T02:59:58.935366Z",
     "iopub.status.idle": "2022-06-08T02:59:58.958856Z",
     "shell.execute_reply": "2022-06-08T02:59:58.959451Z"
    },
    "papermill": {
     "duration": 0.048389,
     "end_time": "2022-06-08T02:59:58.959658",
     "exception": false,
     "start_time": "2022-06-08T02:59:58.911269",
     "status": "completed"
    },
    "tags": []
   },
   "outputs": [],
   "source": [
    "#hide_input\n",
    "#plt.figure(figsize=(15, 8))\n",
    "#sns.heatmap(df_all_mrk[sum_corr].corr(), annot=True, cmap=\"BrBG\");\n",
    "#plt.savefig('corr_matrix_all.eps', format='eps')"
   ]
  },
  {
   "cell_type": "code",
   "execution_count": null,
   "id": "original-senator",
   "metadata": {
    "papermill": {
     "duration": 0.015005,
     "end_time": "2022-06-08T02:59:58.989388",
     "exception": false,
     "start_time": "2022-06-08T02:59:58.974383",
     "status": "completed"
    },
    "tags": []
   },
   "outputs": [],
   "source": []
  },
  {
   "cell_type": "code",
   "execution_count": null,
   "id": "saving-secretariat",
   "metadata": {
    "papermill": {
     "duration": 0.014143,
     "end_time": "2022-06-08T02:59:59.018462",
     "exception": false,
     "start_time": "2022-06-08T02:59:59.004319",
     "status": "completed"
    },
    "tags": []
   },
   "outputs": [],
   "source": []
  }
 ],
 "metadata": {
  "kernelspec": {
   "display_name": "Python 3",
   "language": "python",
   "name": "python3"
  },
  "language_info": {
   "codemirror_mode": {
    "name": "ipython",
    "version": 3
   },
   "file_extension": ".py",
   "mimetype": "text/x-python",
   "name": "python",
   "nbconvert_exporter": "python",
   "pygments_lexer": "ipython3",
   "version": "3.6.15"
  },
  "papermill": {
   "default_parameters": {},
   "duration": 16.596036,
   "end_time": "2022-06-08T02:59:59.552581",
   "environment_variables": {},
   "exception": null,
   "input_path": "App-Correlation_charts.ipynb",
   "output_path": "App-Correlation_charts.ipynb",
   "parameters": {},
   "start_time": "2022-06-08T02:59:42.956545",
   "version": "2.2.2"
  }
 },
 "nbformat": 4,
 "nbformat_minor": 5
}