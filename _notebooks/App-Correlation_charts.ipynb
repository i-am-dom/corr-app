{
 "cells": [
  {
   "cell_type": "markdown",
   "id": "touched-facility",
   "metadata": {
    "papermill": {
     "duration": 0.01593,
     "end_time": "2021-11-26T01:56:11.547278",
     "exception": false,
     "start_time": "2021-11-26T01:56:11.531348",
     "status": "completed"
    },
    "tags": []
   },
   "source": [
    "# Koreliacijų matrica\n",
    "> Išplėstinė koreliacijų matrica. \n",
    "\n",
    "- toc: true \n",
    "- badges: true\n",
    "- comments: false\n",
    "- categories: [Dominykas Tautkus]\n",
    "- image: images/matrix.png"
   ]
  },
  {
   "cell_type": "code",
   "execution_count": null,
   "id": "premium-weekend",
   "metadata": {
    "papermill": {
     "duration": 0.011196,
     "end_time": "2021-11-26T01:56:11.570770",
     "exception": false,
     "start_time": "2021-11-26T01:56:11.559574",
     "status": "completed"
    },
    "tags": []
   },
   "outputs": [],
   "source": []
  },
  {
   "cell_type": "code",
   "execution_count": 1,
   "id": "vertical-rebate",
   "metadata": {
    "execution": {
     "iopub.execute_input": "2021-11-26T01:56:11.603195Z",
     "iopub.status.busy": "2021-11-26T01:56:11.602662Z",
     "iopub.status.idle": "2021-11-26T01:56:11.612996Z",
     "shell.execute_reply": "2021-11-26T01:56:11.612573Z"
    },
    "papermill": {
     "duration": 0.03153,
     "end_time": "2021-11-26T01:56:11.613119",
     "exception": false,
     "start_time": "2021-11-26T01:56:11.581589",
     "status": "completed"
    },
    "tags": []
   },
   "outputs": [],
   "source": [
    "#hide\n",
    "%load_ext autoreload\n",
    "%autoreload 2"
   ]
  },
  {
   "cell_type": "code",
   "execution_count": 2,
   "id": "overall-advancement",
   "metadata": {
    "execution": {
     "iopub.execute_input": "2021-11-26T01:56:11.638154Z",
     "iopub.status.busy": "2021-11-26T01:56:11.637617Z",
     "iopub.status.idle": "2021-11-26T01:56:12.905080Z",
     "shell.execute_reply": "2021-11-26T01:56:12.904146Z"
    },
    "papermill": {
     "duration": 1.281139,
     "end_time": "2021-11-26T01:56:12.905216",
     "exception": false,
     "start_time": "2021-11-26T01:56:11.624077",
     "status": "completed"
    },
    "tags": []
   },
   "outputs": [],
   "source": [
    "#hide\n",
    "from scripts.read_data import read_api\n",
    "from IPython.display import HTML\n",
    "import plotly.graph_objects as go\n"
   ]
  },
  {
   "cell_type": "code",
   "execution_count": 3,
   "id": "light-crazy",
   "metadata": {
    "execution": {
     "iopub.execute_input": "2021-11-26T01:56:12.931799Z",
     "iopub.status.busy": "2021-11-26T01:56:12.931161Z",
     "iopub.status.idle": "2021-11-26T01:56:12.954307Z",
     "shell.execute_reply": "2021-11-26T01:56:12.953759Z"
    },
    "papermill": {
     "duration": 0.038001,
     "end_time": "2021-11-26T01:56:12.954451",
     "exception": false,
     "start_time": "2021-11-26T01:56:12.916450",
     "status": "completed"
    },
    "tags": []
   },
   "outputs": [],
   "source": [
    "#hide\n",
    "### ICO koreliacija"
   ]
  },
  {
   "cell_type": "code",
   "execution_count": 4,
   "id": "likely-bahrain",
   "metadata": {
    "execution": {
     "iopub.execute_input": "2021-11-26T01:56:12.982740Z",
     "iopub.status.busy": "2021-11-26T01:56:12.982213Z",
     "iopub.status.idle": "2021-11-26T01:56:13.897333Z",
     "shell.execute_reply": "2021-11-26T01:56:13.896820Z"
    },
    "papermill": {
     "duration": 0.93127,
     "end_time": "2021-11-26T01:56:13.897467",
     "exception": false,
     "start_time": "2021-11-26T01:56:12.966197",
     "status": "completed"
    },
    "tags": []
   },
   "outputs": [],
   "source": [
    "#hide\n",
    "import matplotlib.pyplot as plt\n",
    "import numpy as np\n",
    "import pandas as pd\n",
    "import seaborn as sns\n",
    "import matplotlib.pyplot as plt \n",
    "import matplotlib.dates as mdates\n",
    "import matplotlib.pyplot as plt"
   ]
  },
  {
   "cell_type": "code",
   "execution_count": 5,
   "id": "superior-blanket",
   "metadata": {
    "execution": {
     "iopub.execute_input": "2021-11-26T01:56:13.925133Z",
     "iopub.status.busy": "2021-11-26T01:56:13.924613Z",
     "iopub.status.idle": "2021-11-26T01:56:26.664998Z",
     "shell.execute_reply": "2021-11-26T01:56:26.664502Z"
    },
    "papermill": {
     "duration": 12.755781,
     "end_time": "2021-11-26T01:56:26.665118",
     "exception": false,
     "start_time": "2021-11-26T01:56:13.909337",
     "status": "completed"
    },
    "tags": []
   },
   "outputs": [
    {
     "name": "stderr",
     "output_type": "stream",
     "text": [
      "/home/runner/work/corr-app/corr-app/_notebooks/scripts/read_data.py:187: SettingWithCopyWarning:\n",
      "\n",
      "\n",
      "A value is trying to be set on a copy of a slice from a DataFrame.\n",
      "Try using .loc[row_indexer,col_indexer] = value instead\n",
      "\n",
      "See the caveats in the documentation: https://pandas.pydata.org/pandas-docs/stable/user_guide/indexing.html#returning-a-view-versus-a-copy\n",
      "\n"
     ]
    },
    {
     "name": "stderr",
     "output_type": "stream",
     "text": [
      "/home/runner/work/corr-app/corr-app/_notebooks/scripts/read_data.py:215: SettingWithCopyWarning:\n",
      "\n",
      "\n",
      "A value is trying to be set on a copy of a slice from a DataFrame.\n",
      "Try using .loc[row_indexer,col_indexer] = value instead\n",
      "\n",
      "See the caveats in the documentation: https://pandas.pydata.org/pandas-docs/stable/user_guide/indexing.html#returning-a-view-versus-a-copy\n",
      "\n"
     ]
    }
   ],
   "source": [
    "#hide\n",
    "df_all = read_api()\n",
    "#df_all = df_all.drop(['SP500', 'XAU', 'ETH', 'BTC'], axis=1)\n",
    "\n"
   ]
  },
  {
   "cell_type": "code",
   "execution_count": 6,
   "id": "mature-alert",
   "metadata": {
    "execution": {
     "iopub.execute_input": "2021-11-26T01:56:26.694697Z",
     "iopub.status.busy": "2021-11-26T01:56:26.693263Z",
     "iopub.status.idle": "2021-11-26T01:56:26.726667Z",
     "shell.execute_reply": "2021-11-26T01:56:26.726177Z"
    },
    "papermill": {
     "duration": 0.049807,
     "end_time": "2021-11-26T01:56:26.726796",
     "exception": false,
     "start_time": "2021-11-26T01:56:26.676989",
     "status": "completed"
    },
    "tags": []
   },
   "outputs": [],
   "source": [
    "#hide_input\n",
    "sum_corr = df_all.corr().sum().sort_values(ascending=True).index.values\n",
    "#df_all[sum_corr].corr()"
   ]
  },
  {
   "cell_type": "markdown",
   "id": "complex-syndicate",
   "metadata": {
    "papermill": {
     "duration": 0.011333,
     "end_time": "2021-11-26T01:56:26.749822",
     "exception": false,
     "start_time": "2021-11-26T01:56:26.738489",
     "status": "completed"
    },
    "tags": []
   },
   "source": [
    "## Išplėstinė koreliacijų matrica. "
   ]
  },
  {
   "cell_type": "code",
   "execution_count": 7,
   "id": "atomic-omaha",
   "metadata": {
    "execution": {
     "iopub.execute_input": "2021-11-26T01:56:26.777479Z",
     "iopub.status.busy": "2021-11-26T01:56:26.776957Z",
     "iopub.status.idle": "2021-11-26T01:56:28.047151Z",
     "shell.execute_reply": "2021-11-26T01:56:28.046723Z"
    },
    "papermill": {
     "duration": 1.285975,
     "end_time": "2021-11-26T01:56:28.047270",
     "exception": false,
     "start_time": "2021-11-26T01:56:26.761295",
     "status": "completed"
    },
    "tags": []
   },
   "outputs": [
    {
     "data": {
      "image/png": "[encoded data removed]",
      "text/plain": [
       "<Figure size 1080x792 with 2 Axes>"
      ]
     },
     "metadata": {
      "needs_background": "light"
     },
     "output_type": "display_data"
    }
   ],
   "source": [
    "#hide_input\n",
    "plt.figure(figsize=(15, 11))\n",
    "sns.heatmap(df_all[sum_corr].corr(), annot=True, cmap=\"cubehelix\") \n",
    "sns.set(font_scale=1.25)\n",
    "plt.savefig('corr_matrix.png', format='eps')"
   ]
  },
  {
   "cell_type": "code",
   "execution_count": 8,
   "id": "arbitrary-sullivan",
   "metadata": {
    "execution": {
     "iopub.execute_input": "2021-11-26T01:56:28.079583Z",
     "iopub.status.busy": "2021-11-26T01:56:28.079018Z",
     "iopub.status.idle": "2021-11-26T01:56:28.105663Z",
     "shell.execute_reply": "2021-11-26T01:56:28.105100Z"
    },
    "papermill": {
     "duration": 0.044738,
     "end_time": "2021-11-26T01:56:28.105779",
     "exception": false,
     "start_time": "2021-11-26T01:56:28.061041",
     "status": "completed"
    },
    "tags": []
   },
   "outputs": [],
   "source": [
    "#hide\n",
    "#df_all_mrk = read_api()"
   ]
  },
  {
   "cell_type": "code",
   "execution_count": 9,
   "id": "delayed-adapter",
   "metadata": {
    "execution": {
     "iopub.execute_input": "2021-11-26T01:56:28.141560Z",
     "iopub.status.busy": "2021-11-26T01:56:28.135937Z",
     "iopub.status.idle": "2021-11-26T01:56:28.163330Z",
     "shell.execute_reply": "2021-11-26T01:56:28.163816Z"
    },
    "papermill": {
     "duration": 0.044574,
     "end_time": "2021-11-26T01:56:28.163978",
     "exception": false,
     "start_time": "2021-11-26T01:56:28.119404",
     "status": "completed"
    },
    "tags": []
   },
   "outputs": [],
   "source": [
    "#hide\n",
    "#Koreliacijų koeficientai"
   ]
  },
  {
   "cell_type": "code",
   "execution_count": 10,
   "id": "seeing-celebration",
   "metadata": {
    "execution": {
     "iopub.execute_input": "2021-11-26T01:56:28.206980Z",
     "iopub.status.busy": "2021-11-26T01:56:28.203191Z",
     "iopub.status.idle": "2021-11-26T01:56:28.226273Z",
     "shell.execute_reply": "2021-11-26T01:56:28.225776Z"
    },
    "papermill": {
     "duration": 0.046949,
     "end_time": "2021-11-26T01:56:28.226400",
     "exception": false,
     "start_time": "2021-11-26T01:56:28.179451",
     "status": "completed"
    },
    "tags": []
   },
   "outputs": [],
   "source": [
    "#hide_input\n",
    "#sum_corr = df_all_mrk.corr().sum().sort_values(ascending=True).index.values\n",
    "#df_all_mrk[sum_corr].corr()"
   ]
  },
  {
   "cell_type": "code",
   "execution_count": 11,
   "id": "other-painting",
   "metadata": {
    "execution": {
     "iopub.execute_input": "2021-11-26T01:56:28.265316Z",
     "iopub.status.busy": "2021-11-26T01:56:28.264684Z",
     "iopub.status.idle": "2021-11-26T01:56:28.287941Z",
     "shell.execute_reply": "2021-11-26T01:56:28.287411Z"
    },
    "papermill": {
     "duration": 0.04735,
     "end_time": "2021-11-26T01:56:28.288079",
     "exception": false,
     "start_time": "2021-11-26T01:56:28.240729",
     "status": "completed"
    },
    "tags": []
   },
   "outputs": [],
   "source": [
    "#hide\n",
    "#Koreliacijos matrica. "
   ]
  },
  {
   "cell_type": "code",
   "execution_count": 12,
   "id": "modular-magnitude",
   "metadata": {
    "execution": {
     "iopub.execute_input": "2021-11-26T01:56:28.322027Z",
     "iopub.status.busy": "2021-11-26T01:56:28.321456Z",
     "iopub.status.idle": "2021-11-26T01:56:28.347886Z",
     "shell.execute_reply": "2021-11-26T01:56:28.347401Z"
    },
    "papermill": {
     "duration": 0.043841,
     "end_time": "2021-11-26T01:56:28.348012",
     "exception": false,
     "start_time": "2021-11-26T01:56:28.304171",
     "status": "completed"
    },
    "tags": []
   },
   "outputs": [],
   "source": [
    "#hide_input\n",
    "#plt.figure(figsize=(15, 8))\n",
    "#sns.heatmap(df_all_mrk[sum_corr].corr(), annot=True, cmap=\"BrBG\");\n",
    "#plt.savefig('corr_matrix_all.eps', format='eps')"
   ]
  },
  {
   "cell_type": "code",
   "execution_count": null,
   "id": "original-senator",
   "metadata": {
    "papermill": {
     "duration": 0.014112,
     "end_time": "2021-11-26T01:56:28.377452",
     "exception": false,
     "start_time": "2021-11-26T01:56:28.363340",
     "status": "completed"
    },
    "tags": []
   },
   "outputs": [],
   "source": []
  },
  {
   "cell_type": "code",
   "execution_count": null,
   "id": "saving-secretariat",
   "metadata": {
    "papermill": {
     "duration": 0.015007,
     "end_time": "2021-11-26T01:56:28.407007",
     "exception": false,
     "start_time": "2021-11-26T01:56:28.392000",
     "status": "completed"
    },
    "tags": []
   },
   "outputs": [],
   "source": []
  }
 ],
 "metadata": {
  "kernelspec": {
   "display_name": "Python 3",
   "language": "python",
   "name": "python3"
  },
  "language_info": {
   "codemirror_mode": {
    "name": "ipython",
    "version": 3
   },
   "file_extension": ".py",
   "mimetype": "text/x-python",
   "name": "python",
   "nbconvert_exporter": "python",
   "pygments_lexer": "ipython3",
   "version": "3.6.15"
  },
  "papermill": {
   "default_parameters": {},
   "duration": 18.452518,
   "end_time": "2021-11-26T01:56:28.931194",
   "environment_variables": {},
   "exception": null,
   "input_path": "App-Correlation_charts.ipynb",
   "output_path": "App-Correlation_charts.ipynb",
   "parameters": {},
   "start_time": "2021-11-26T01:56:10.478676",
   "version": "2.2.2"
  }
 },
 "nbformat": 4,
 "nbformat_minor": 5
}