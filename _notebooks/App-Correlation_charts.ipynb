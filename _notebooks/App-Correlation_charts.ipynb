{
 "cells": [
  {
   "cell_type": "markdown",
   "id": "touched-facility",
   "metadata": {
    "papermill": {
     "duration": 0.019729,
     "end_time": "2022-07-05T03:15:29.240301",
     "exception": false,
     "start_time": "2022-07-05T03:15:29.220572",
     "status": "completed"
    },
    "tags": []
   },
   "source": [
    "# Koreliacijų matrica\n",
    "> Išplėstinė koreliacijų matrica. \n",
    "\n",
    "- toc: true \n",
    "- badges: true\n",
    "- comments: false\n",
    "- categories: [Dominykas Tautkus]\n",
    "- image: images/matrix.png"
   ]
  },
  {
   "cell_type": "code",
   "execution_count": null,
   "id": "premium-weekend",
   "metadata": {
    "papermill": {
     "duration": 0.012045,
     "end_time": "2022-07-05T03:15:29.267215",
     "exception": false,
     "start_time": "2022-07-05T03:15:29.255170",
     "status": "completed"
    },
    "tags": []
   },
   "outputs": [],
   "source": []
  },
  {
   "cell_type": "code",
   "execution_count": 1,
   "id": "vertical-rebate",
   "metadata": {
    "execution": {
     "iopub.execute_input": "2022-07-05T03:15:29.308727Z",
     "iopub.status.busy": "2022-07-05T03:15:29.307981Z",
     "iopub.status.idle": "2022-07-05T03:15:29.319306Z",
     "shell.execute_reply": "2022-07-05T03:15:29.320049Z"
    },
    "papermill": {
     "duration": 0.039907,
     "end_time": "2022-07-05T03:15:29.320240",
     "exception": false,
     "start_time": "2022-07-05T03:15:29.280333",
     "status": "completed"
    },
    "tags": []
   },
   "outputs": [],
   "source": [
    "#hide\n",
    "%load_ext autoreload\n",
    "%autoreload 2"
   ]
  },
  {
   "cell_type": "code",
   "execution_count": 2,
   "id": "overall-advancement",
   "metadata": {
    "execution": {
     "iopub.execute_input": "2022-07-05T03:15:29.350658Z",
     "iopub.status.busy": "2022-07-05T03:15:29.349914Z",
     "iopub.status.idle": "2022-07-05T03:15:30.882743Z",
     "shell.execute_reply": "2022-07-05T03:15:30.882139Z"
    },
    "papermill": {
     "duration": 1.54956,
     "end_time": "2022-07-05T03:15:30.882899",
     "exception": false,
     "start_time": "2022-07-05T03:15:29.333339",
     "status": "completed"
    },
    "tags": []
   },
   "outputs": [],
   "source": [
    "#hide\n",
    "from scripts.read_data import read_api\n",
    "from IPython.display import HTML\n",
    "import plotly.graph_objects as go\n"
   ]
  },
  {
   "cell_type": "code",
   "execution_count": 3,
   "id": "light-crazy",
   "metadata": {
    "execution": {
     "iopub.execute_input": "2022-07-05T03:15:30.913364Z",
     "iopub.status.busy": "2022-07-05T03:15:30.912606Z",
     "iopub.status.idle": "2022-07-05T03:15:30.936802Z",
     "shell.execute_reply": "2022-07-05T03:15:30.936119Z"
    },
    "papermill": {
     "duration": 0.04128,
     "end_time": "2022-07-05T03:15:30.936926",
     "exception": false,
     "start_time": "2022-07-05T03:15:30.895646",
     "status": "completed"
    },
    "tags": []
   },
   "outputs": [],
   "source": [
    "#hide\n",
    "### ICO koreliacija"
   ]
  },
  {
   "cell_type": "code",
   "execution_count": 4,
   "id": "likely-bahrain",
   "metadata": {
    "execution": {
     "iopub.execute_input": "2022-07-05T03:15:30.978099Z",
     "iopub.status.busy": "2022-07-05T03:15:30.977344Z",
     "iopub.status.idle": "2022-07-05T03:15:31.960180Z",
     "shell.execute_reply": "2022-07-05T03:15:31.960723Z"
    },
    "papermill": {
     "duration": 1.011742,
     "end_time": "2022-07-05T03:15:31.960892",
     "exception": false,
     "start_time": "2022-07-05T03:15:30.949150",
     "status": "completed"
    },
    "tags": []
   },
   "outputs": [],
   "source": [
    "#hide\n",
    "import matplotlib.pyplot as plt\n",
    "import numpy as np\n",
    "import pandas as pd\n",
    "import seaborn as sns\n",
    "import matplotlib.pyplot as plt \n",
    "import matplotlib.dates as mdates\n",
    "import matplotlib.pyplot as plt"
   ]
  },
  {
   "cell_type": "code",
   "execution_count": 5,
   "id": "superior-blanket",
   "metadata": {
    "execution": {
     "iopub.execute_input": "2022-07-05T03:15:31.995799Z",
     "iopub.status.busy": "2022-07-05T03:15:31.995038Z",
     "iopub.status.idle": "2022-07-05T03:15:46.123464Z",
     "shell.execute_reply": "2022-07-05T03:15:46.122753Z"
    },
    "papermill": {
     "duration": 14.147315,
     "end_time": "2022-07-05T03:15:46.123630",
     "exception": false,
     "start_time": "2022-07-05T03:15:31.976315",
     "status": "completed"
    },
    "tags": []
   },
   "outputs": [
    {
     "name": "stderr",
     "output_type": "stream",
     "text": [
      "/home/runner/work/corr-app/corr-app/_notebooks/scripts/read_data.py:187: SettingWithCopyWarning:\n",
      "\n",
      "\n",
      "A value is trying to be set on a copy of a slice from a DataFrame.\n",
      "Try using .loc[row_indexer,col_indexer] = value instead\n",
      "\n",
      "See the caveats in the documentation: https://pandas.pydata.org/pandas-docs/stable/user_guide/indexing.html#returning-a-view-versus-a-copy\n",
      "\n"
     ]
    },
    {
     "name": "stderr",
     "output_type": "stream",
     "text": [
      "/home/runner/work/corr-app/corr-app/_notebooks/scripts/read_data.py:215: SettingWithCopyWarning:\n",
      "\n",
      "\n",
      "A value is trying to be set on a copy of a slice from a DataFrame.\n",
      "Try using .loc[row_indexer,col_indexer] = value instead\n",
      "\n",
      "See the caveats in the documentation: https://pandas.pydata.org/pandas-docs/stable/user_guide/indexing.html#returning-a-view-versus-a-copy\n",
      "\n"
     ]
    }
   ],
   "source": [
    "#hide\n",
    "df_all = read_api()\n",
    "#df_all = df_all.drop(['SP500', 'XAU', 'ETH', 'BTC'], axis=1)\n",
    "\n"
   ]
  },
  {
   "cell_type": "code",
   "execution_count": 6,
   "id": "mature-alert",
   "metadata": {
    "execution": {
     "iopub.execute_input": "2022-07-05T03:15:46.160170Z",
     "iopub.status.busy": "2022-07-05T03:15:46.159444Z",
     "iopub.status.idle": "2022-07-05T03:15:46.189554Z",
     "shell.execute_reply": "2022-07-05T03:15:46.188695Z"
    },
    "papermill": {
     "duration": 0.050696,
     "end_time": "2022-07-05T03:15:46.189728",
     "exception": false,
     "start_time": "2022-07-05T03:15:46.139032",
     "status": "completed"
    },
    "tags": []
   },
   "outputs": [],
   "source": [
    "#hide_input\n",
    "sum_corr = df_all.corr().sum().sort_values(ascending=True).index.values\n",
    "#df_all[sum_corr].corr()"
   ]
  },
  {
   "cell_type": "markdown",
   "id": "complex-syndicate",
   "metadata": {
    "papermill": {
     "duration": 0.012906,
     "end_time": "2022-07-05T03:15:46.215225",
     "exception": false,
     "start_time": "2022-07-05T03:15:46.202319",
     "status": "completed"
    },
    "tags": []
   },
   "source": [
    "## Išplėstinė koreliacijų matrica. "
   ]
  },
  {
   "cell_type": "code",
   "execution_count": 7,
   "id": "atomic-omaha",
   "metadata": {
    "execution": {
     "iopub.execute_input": "2022-07-05T03:15:46.245852Z",
     "iopub.status.busy": "2022-07-05T03:15:46.245140Z",
     "iopub.status.idle": "2022-07-05T03:15:47.819549Z",
     "shell.execute_reply": "2022-07-05T03:15:47.818981Z"
    },
    "papermill": {
     "duration": 1.591375,
     "end_time": "2022-07-05T03:15:47.819679",
     "exception": false,
     "start_time": "2022-07-05T03:15:46.228304",
     "status": "completed"
    },
    "tags": []
   },
   "outputs": [
    {
     "data": {
      "image/png": "[encoded data removed]",
      "text/plain": [
       "<Figure size 1080x792 with 2 Axes>"
      ]
     },
     "metadata": {
      "needs_background": "light"
     },
     "output_type": "display_data"
    }
   ],
   "source": [
    "#hide_input\n",
    "plt.figure(figsize=(15, 11))\n",
    "sns.heatmap(df_all[sum_corr].corr(), annot=True, cmap=\"cubehelix\") \n",
    "sns.set(font_scale=1.25)\n",
    "plt.savefig('corr_matrix.png', format='eps')"
   ]
  },
  {
   "cell_type": "code",
   "execution_count": 8,
   "id": "arbitrary-sullivan",
   "metadata": {
    "execution": {
     "iopub.execute_input": "2022-07-05T03:15:47.853238Z",
     "iopub.status.busy": "2022-07-05T03:15:47.852538Z",
     "iopub.status.idle": "2022-07-05T03:15:47.882223Z",
     "shell.execute_reply": "2022-07-05T03:15:47.881689Z"
    },
    "papermill": {
     "duration": 0.047906,
     "end_time": "2022-07-05T03:15:47.882345",
     "exception": false,
     "start_time": "2022-07-05T03:15:47.834439",
     "status": "completed"
    },
    "tags": []
   },
   "outputs": [],
   "source": [
    "#hide\n",
    "#df_all_mrk = read_api()"
   ]
  },
  {
   "cell_type": "code",
   "execution_count": 9,
   "id": "delayed-adapter",
   "metadata": {
    "execution": {
     "iopub.execute_input": "2022-07-05T03:15:47.916140Z",
     "iopub.status.busy": "2022-07-05T03:15:47.915379Z",
     "iopub.status.idle": "2022-07-05T03:15:47.945553Z",
     "shell.execute_reply": "2022-07-05T03:15:47.946112Z"
    },
    "papermill": {
     "duration": 0.049179,
     "end_time": "2022-07-05T03:15:47.946246",
     "exception": false,
     "start_time": "2022-07-05T03:15:47.897067",
     "status": "completed"
    },
    "tags": []
   },
   "outputs": [],
   "source": [
    "#hide\n",
    "#Koreliacijų koeficientai"
   ]
  },
  {
   "cell_type": "code",
   "execution_count": 10,
   "id": "seeing-celebration",
   "metadata": {
    "execution": {
     "iopub.execute_input": "2022-07-05T03:15:47.981128Z",
     "iopub.status.busy": "2022-07-05T03:15:47.980465Z",
     "iopub.status.idle": "2022-07-05T03:15:48.008073Z",
     "shell.execute_reply": "2022-07-05T03:15:48.008627Z"
    },
    "papermill": {
     "duration": 0.048186,
     "end_time": "2022-07-05T03:15:48.008905",
     "exception": false,
     "start_time": "2022-07-05T03:15:47.960719",
     "status": "completed"
    },
    "tags": []
   },
   "outputs": [],
   "source": [
    "#hide_input\n",
    "#sum_corr = df_all_mrk.corr().sum().sort_values(ascending=True).index.values\n",
    "#df_all_mrk[sum_corr].corr()"
   ]
  },
  {
   "cell_type": "code",
   "execution_count": 11,
   "id": "other-painting",
   "metadata": {
    "execution": {
     "iopub.execute_input": "2022-07-05T03:15:48.041180Z",
     "iopub.status.busy": "2022-07-05T03:15:48.040290Z",
     "iopub.status.idle": "2022-07-05T03:15:48.071804Z",
     "shell.execute_reply": "2022-07-05T03:15:48.071236Z"
    },
    "papermill": {
     "duration": 0.048913,
     "end_time": "2022-07-05T03:15:48.071930",
     "exception": false,
     "start_time": "2022-07-05T03:15:48.023017",
     "status": "completed"
    },
    "tags": []
   },
   "outputs": [],
   "source": [
    "#hide\n",
    "#Koreliacijos matrica. "
   ]
  },
  {
   "cell_type": "code",
   "execution_count": 12,
   "id": "modular-magnitude",
   "metadata": {
    "execution": {
     "iopub.execute_input": "2022-07-05T03:15:48.107657Z",
     "iopub.status.busy": "2022-07-05T03:15:48.106904Z",
     "iopub.status.idle": "2022-07-05T03:15:48.135910Z",
     "shell.execute_reply": "2022-07-05T03:15:48.135345Z"
    },
    "papermill": {
     "duration": 0.047535,
     "end_time": "2022-07-05T03:15:48.136033",
     "exception": false,
     "start_time": "2022-07-05T03:15:48.088498",
     "status": "completed"
    },
    "tags": []
   },
   "outputs": [],
   "source": [
    "#hide_input\n",
    "#plt.figure(figsize=(15, 8))\n",
    "#sns.heatmap(df_all_mrk[sum_corr].corr(), annot=True, cmap=\"BrBG\");\n",
    "#plt.savefig('corr_matrix_all.eps', format='eps')"
   ]
  },
  {
   "cell_type": "code",
   "execution_count": null,
   "id": "original-senator",
   "metadata": {
    "papermill": {
     "duration": 0.014317,
     "end_time": "2022-07-05T03:15:48.164806",
     "exception": false,
     "start_time": "2022-07-05T03:15:48.150489",
     "status": "completed"
    },
    "tags": []
   },
   "outputs": [],
   "source": []
  },
  {
   "cell_type": "code",
   "execution_count": null,
   "id": "saving-secretariat",
   "metadata": {
    "papermill": {
     "duration": 0.015102,
     "end_time": "2022-07-05T03:15:48.194377",
     "exception": false,
     "start_time": "2022-07-05T03:15:48.179275",
     "status": "completed"
    },
    "tags": []
   },
   "outputs": [],
   "source": []
  }
 ],
 "metadata": {
  "kernelspec": {
   "display_name": "Python 3",
   "language": "python",
   "name": "python3"
  },
  "language_info": {
   "codemirror_mode": {
    "name": "ipython",
    "version": 3
   },
   "file_extension": ".py",
   "mimetype": "text/x-python",
   "name": "python",
   "nbconvert_exporter": "python",
   "pygments_lexer": "ipython3",
   "version": "3.6.15"
  },
  "papermill": {
   "default_parameters": {},
   "duration": 20.830649,
   "end_time": "2022-07-05T03:15:48.728736",
   "environment_variables": {},
   "exception": null,
   "input_path": "App-Correlation_charts.ipynb",
   "output_path": "App-Correlation_charts.ipynb",
   "parameters": {},
   "start_time": "2022-07-05T03:15:27.898087",
   "version": "2.2.2"
  }
 },
 "nbformat": 4,
 "nbformat_minor": 5
}