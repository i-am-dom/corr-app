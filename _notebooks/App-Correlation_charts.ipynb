{
 "cells": [
  {
   "cell_type": "markdown",
   "id": "touched-facility",
   "metadata": {
    "papermill": {
     "duration": 0.015831,
     "end_time": "2021-11-07T02:00:46.389314",
     "exception": false,
     "start_time": "2021-11-07T02:00:46.373483",
     "status": "completed"
    },
    "tags": []
   },
   "source": [
    "# Koreliacijų matrica\n",
    "> Išplėstinė koreliacijų matrica. \n",
    "\n",
    "- toc: true \n",
    "- badges: true\n",
    "- comments: false\n",
    "- categories: [Dominykas Tautkus]\n",
    "- image: images/matrix.png"
   ]
  },
  {
   "cell_type": "code",
   "execution_count": null,
   "id": "premium-weekend",
   "metadata": {
    "papermill": {
     "duration": 0.010869,
     "end_time": "2021-11-07T02:00:46.411863",
     "exception": false,
     "start_time": "2021-11-07T02:00:46.400994",
     "status": "completed"
    },
    "tags": []
   },
   "outputs": [],
   "source": []
  },
  {
   "cell_type": "code",
   "execution_count": 1,
   "id": "vertical-rebate",
   "metadata": {
    "execution": {
     "iopub.execute_input": "2021-11-07T02:00:46.444638Z",
     "iopub.status.busy": "2021-11-07T02:00:46.444080Z",
     "iopub.status.idle": "2021-11-07T02:00:46.454692Z",
     "shell.execute_reply": "2021-11-07T02:00:46.454254Z"
    },
    "papermill": {
     "duration": 0.032158,
     "end_time": "2021-11-07T02:00:46.454828",
     "exception": false,
     "start_time": "2021-11-07T02:00:46.422670",
     "status": "completed"
    },
    "tags": []
   },
   "outputs": [],
   "source": [
    "#hide\n",
    "%load_ext autoreload\n",
    "%autoreload 2"
   ]
  },
  {
   "cell_type": "code",
   "execution_count": 2,
   "id": "overall-advancement",
   "metadata": {
    "execution": {
     "iopub.execute_input": "2021-11-07T02:00:46.480128Z",
     "iopub.status.busy": "2021-11-07T02:00:46.479606Z",
     "iopub.status.idle": "2021-11-07T02:00:47.626250Z",
     "shell.execute_reply": "2021-11-07T02:00:47.626672Z"
    },
    "papermill": {
     "duration": 1.161186,
     "end_time": "2021-11-07T02:00:47.626832",
     "exception": false,
     "start_time": "2021-11-07T02:00:46.465646",
     "status": "completed"
    },
    "tags": []
   },
   "outputs": [],
   "source": [
    "#hide\n",
    "from scripts.read_data import read_api\n",
    "from IPython.display import HTML\n",
    "import plotly.graph_objects as go\n"
   ]
  },
  {
   "cell_type": "code",
   "execution_count": 3,
   "id": "light-crazy",
   "metadata": {
    "execution": {
     "iopub.execute_input": "2021-11-07T02:00:47.658185Z",
     "iopub.status.busy": "2021-11-07T02:00:47.657268Z",
     "iopub.status.idle": "2021-11-07T02:00:47.676588Z",
     "shell.execute_reply": "2021-11-07T02:00:47.676989Z"
    },
    "papermill": {
     "duration": 0.039221,
     "end_time": "2021-11-07T02:00:47.677162",
     "exception": false,
     "start_time": "2021-11-07T02:00:47.637941",
     "status": "completed"
    },
    "tags": []
   },
   "outputs": [],
   "source": [
    "#hide\n",
    "### ICO koreliacija"
   ]
  },
  {
   "cell_type": "code",
   "execution_count": 4,
   "id": "likely-bahrain",
   "metadata": {
    "execution": {
     "iopub.execute_input": "2021-11-07T02:00:47.703642Z",
     "iopub.status.busy": "2021-11-07T02:00:47.703132Z",
     "iopub.status.idle": "2021-11-07T02:00:48.532949Z",
     "shell.execute_reply": "2021-11-07T02:00:48.533455Z"
    },
    "papermill": {
     "duration": 0.84478,
     "end_time": "2021-11-07T02:00:48.533617",
     "exception": false,
     "start_time": "2021-11-07T02:00:47.688837",
     "status": "completed"
    },
    "tags": []
   },
   "outputs": [],
   "source": [
    "#hide\n",
    "import matplotlib.pyplot as plt\n",
    "import numpy as np\n",
    "import pandas as pd\n",
    "import seaborn as sns\n",
    "import matplotlib.pyplot as plt \n",
    "import matplotlib.dates as mdates\n",
    "import matplotlib.pyplot as plt"
   ]
  },
  {
   "cell_type": "code",
   "execution_count": 5,
   "id": "superior-blanket",
   "metadata": {
    "execution": {
     "iopub.execute_input": "2021-11-07T02:00:48.566295Z",
     "iopub.status.busy": "2021-11-07T02:00:48.564116Z",
     "iopub.status.idle": "2021-11-07T02:01:19.024364Z",
     "shell.execute_reply": "2021-11-07T02:01:19.023362Z"
    },
    "papermill": {
     "duration": 30.479465,
     "end_time": "2021-11-07T02:01:19.024508",
     "exception": false,
     "start_time": "2021-11-07T02:00:48.545043",
     "status": "completed"
    },
    "tags": []
   },
   "outputs": [
    {
     "name": "stderr",
     "output_type": "stream",
     "text": [
      "/home/runner/work/corr-app/corr-app/_notebooks/scripts/read_data.py:187: SettingWithCopyWarning:\n",
      "\n",
      "\n",
      "A value is trying to be set on a copy of a slice from a DataFrame.\n",
      "Try using .loc[row_indexer,col_indexer] = value instead\n",
      "\n",
      "See the caveats in the documentation: https://pandas.pydata.org/pandas-docs/stable/user_guide/indexing.html#returning-a-view-versus-a-copy\n",
      "\n"
     ]
    },
    {
     "name": "stderr",
     "output_type": "stream",
     "text": [
      "/home/runner/work/corr-app/corr-app/_notebooks/scripts/read_data.py:215: SettingWithCopyWarning:\n",
      "\n",
      "\n",
      "A value is trying to be set on a copy of a slice from a DataFrame.\n",
      "Try using .loc[row_indexer,col_indexer] = value instead\n",
      "\n",
      "See the caveats in the documentation: https://pandas.pydata.org/pandas-docs/stable/user_guide/indexing.html#returning-a-view-versus-a-copy\n",
      "\n"
     ]
    }
   ],
   "source": [
    "#hide\n",
    "df_all = read_api()\n",
    "#df_all = df_all.drop(['SP500', 'XAU', 'ETH', 'BTC'], axis=1)\n",
    "\n"
   ]
  },
  {
   "cell_type": "code",
   "execution_count": 6,
   "id": "mature-alert",
   "metadata": {
    "execution": {
     "iopub.execute_input": "2021-11-07T02:01:19.055633Z",
     "iopub.status.busy": "2021-11-07T02:01:19.053303Z",
     "iopub.status.idle": "2021-11-07T02:01:19.084845Z",
     "shell.execute_reply": "2021-11-07T02:01:19.084305Z"
    },
    "papermill": {
     "duration": 0.048535,
     "end_time": "2021-11-07T02:01:19.084974",
     "exception": false,
     "start_time": "2021-11-07T02:01:19.036439",
     "status": "completed"
    },
    "tags": []
   },
   "outputs": [],
   "source": [
    "#hide_input\n",
    "sum_corr = df_all.corr().sum().sort_values(ascending=True).index.values\n",
    "#df_all[sum_corr].corr()"
   ]
  },
  {
   "cell_type": "markdown",
   "id": "complex-syndicate",
   "metadata": {
    "papermill": {
     "duration": 0.01178,
     "end_time": "2021-11-07T02:01:19.108527",
     "exception": false,
     "start_time": "2021-11-07T02:01:19.096747",
     "status": "completed"
    },
    "tags": []
   },
   "source": [
    "## Išplėstinė koreliacijų matrica. "
   ]
  },
  {
   "cell_type": "code",
   "execution_count": 7,
   "id": "atomic-omaha",
   "metadata": {
    "execution": {
     "iopub.execute_input": "2021-11-07T02:01:19.137154Z",
     "iopub.status.busy": "2021-11-07T02:01:19.136607Z",
     "iopub.status.idle": "2021-11-07T02:01:20.311574Z",
     "shell.execute_reply": "2021-11-07T02:01:20.311969Z"
    },
    "papermill": {
     "duration": 1.191946,
     "end_time": "2021-11-07T02:01:20.312119",
     "exception": false,
     "start_time": "2021-11-07T02:01:19.120173",
     "status": "completed"
    },
    "tags": []
   },
   "outputs": [
    {
     "data": {
      "image/png": "[encoded data removed]",
      "text/plain": [
       "<Figure size 1080x792 with 2 Axes>"
      ]
     },
     "metadata": {
      "needs_background": "light"
     },
     "output_type": "display_data"
    }
   ],
   "source": [
    "#hide_input\n",
    "plt.figure(figsize=(15, 11))\n",
    "sns.heatmap(df_all[sum_corr].corr(), annot=True, cmap=\"cubehelix\") \n",
    "sns.set(font_scale=1.25)\n",
    "plt.savefig('corr_matrix.png', format='eps')"
   ]
  },
  {
   "cell_type": "code",
   "execution_count": 8,
   "id": "arbitrary-sullivan",
   "metadata": {
    "execution": {
     "iopub.execute_input": "2021-11-07T02:01:20.354297Z",
     "iopub.status.busy": "2021-11-07T02:01:20.350008Z",
     "iopub.status.idle": "2021-11-07T02:01:20.372644Z",
     "shell.execute_reply": "2021-11-07T02:01:20.373094Z"
    },
    "papermill": {
     "duration": 0.047398,
     "end_time": "2021-11-07T02:01:20.373247",
     "exception": false,
     "start_time": "2021-11-07T02:01:20.325849",
     "status": "completed"
    },
    "tags": []
   },
   "outputs": [],
   "source": [
    "#hide\n",
    "#df_all_mrk = read_api()"
   ]
  },
  {
   "cell_type": "code",
   "execution_count": 9,
   "id": "delayed-adapter",
   "metadata": {
    "execution": {
     "iopub.execute_input": "2021-11-07T02:01:20.410800Z",
     "iopub.status.busy": "2021-11-07T02:01:20.403248Z",
     "iopub.status.idle": "2021-11-07T02:01:20.431343Z",
     "shell.execute_reply": "2021-11-07T02:01:20.430580Z"
    },
    "papermill": {
     "duration": 0.04399,
     "end_time": "2021-11-07T02:01:20.431459",
     "exception": false,
     "start_time": "2021-11-07T02:01:20.387469",
     "status": "completed"
    },
    "tags": []
   },
   "outputs": [],
   "source": [
    "#hide\n",
    "#Koreliacijų koeficientai"
   ]
  },
  {
   "cell_type": "code",
   "execution_count": 10,
   "id": "seeing-celebration",
   "metadata": {
    "execution": {
     "iopub.execute_input": "2021-11-07T02:01:20.461442Z",
     "iopub.status.busy": "2021-11-07T02:01:20.460467Z",
     "iopub.status.idle": "2021-11-07T02:01:20.484781Z",
     "shell.execute_reply": "2021-11-07T02:01:20.485259Z"
    },
    "papermill": {
     "duration": 0.040586,
     "end_time": "2021-11-07T02:01:20.485414",
     "exception": false,
     "start_time": "2021-11-07T02:01:20.444828",
     "status": "completed"
    },
    "tags": []
   },
   "outputs": [],
   "source": [
    "#hide_input\n",
    "#sum_corr = df_all_mrk.corr().sum().sort_values(ascending=True).index.values\n",
    "#df_all_mrk[sum_corr].corr()"
   ]
  },
  {
   "cell_type": "code",
   "execution_count": 11,
   "id": "other-painting",
   "metadata": {
    "execution": {
     "iopub.execute_input": "2021-11-07T02:01:20.518403Z",
     "iopub.status.busy": "2021-11-07T02:01:20.517900Z",
     "iopub.status.idle": "2021-11-07T02:01:20.540548Z",
     "shell.execute_reply": "2021-11-07T02:01:20.540950Z"
    },
    "papermill": {
     "duration": 0.041908,
     "end_time": "2021-11-07T02:01:20.541115",
     "exception": false,
     "start_time": "2021-11-07T02:01:20.499207",
     "status": "completed"
    },
    "tags": []
   },
   "outputs": [],
   "source": [
    "#hide\n",
    "#Koreliacijos matrica. "
   ]
  },
  {
   "cell_type": "code",
   "execution_count": 12,
   "id": "modular-magnitude",
   "metadata": {
    "execution": {
     "iopub.execute_input": "2021-11-07T02:01:20.573851Z",
     "iopub.status.busy": "2021-11-07T02:01:20.570748Z",
     "iopub.status.idle": "2021-11-07T02:01:20.596214Z",
     "shell.execute_reply": "2021-11-07T02:01:20.595736Z"
    },
    "papermill": {
     "duration": 0.041771,
     "end_time": "2021-11-07T02:01:20.596340",
     "exception": false,
     "start_time": "2021-11-07T02:01:20.554569",
     "status": "completed"
    },
    "tags": []
   },
   "outputs": [],
   "source": [
    "#hide_input\n",
    "#plt.figure(figsize=(15, 8))\n",
    "#sns.heatmap(df_all_mrk[sum_corr].corr(), annot=True, cmap=\"BrBG\");\n",
    "#plt.savefig('corr_matrix_all.eps', format='eps')"
   ]
  },
  {
   "cell_type": "code",
   "execution_count": null,
   "id": "original-senator",
   "metadata": {
    "papermill": {
     "duration": 0.013153,
     "end_time": "2021-11-07T02:01:20.623483",
     "exception": false,
     "start_time": "2021-11-07T02:01:20.610330",
     "status": "completed"
    },
    "tags": []
   },
   "outputs": [],
   "source": []
  },
  {
   "cell_type": "code",
   "execution_count": null,
   "id": "saving-secretariat",
   "metadata": {
    "papermill": {
     "duration": 0.013151,
     "end_time": "2021-11-07T02:01:20.650136",
     "exception": false,
     "start_time": "2021-11-07T02:01:20.636985",
     "status": "completed"
    },
    "tags": []
   },
   "outputs": [],
   "source": []
  }
 ],
 "metadata": {
  "kernelspec": {
   "display_name": "Python 3",
   "language": "python",
   "name": "python3"
  },
  "language_info": {
   "codemirror_mode": {
    "name": "ipython",
    "version": 3
   },
   "file_extension": ".py",
   "mimetype": "text/x-python",
   "name": "python",
   "nbconvert_exporter": "python",
   "pygments_lexer": "ipython3",
   "version": "3.6.15"
  },
  "papermill": {
   "default_parameters": {},
   "duration": 35.842345,
   "end_time": "2021-11-07T02:01:21.171859",
   "environment_variables": {},
   "exception": null,
   "input_path": "App-Correlation_charts.ipynb",
   "output_path": "App-Correlation_charts.ipynb",
   "parameters": {},
   "start_time": "2021-11-07T02:00:45.329514",
   "version": "2.2.2"
  }
 },
 "nbformat": 4,
 "nbformat_minor": 5
}