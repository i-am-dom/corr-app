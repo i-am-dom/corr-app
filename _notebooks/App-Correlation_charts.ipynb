{
 "cells": [
  {
   "cell_type": "markdown",
   "id": "touched-facility",
   "metadata": {
    "papermill": {
     "duration": 0.014787,
     "end_time": "2022-06-28T03:10:32.455221",
     "exception": false,
     "start_time": "2022-06-28T03:10:32.440434",
     "status": "completed"
    },
    "tags": []
   },
   "source": [
    "# Koreliacijų matrica\n",
    "> Išplėstinė koreliacijų matrica. \n",
    "\n",
    "- toc: true \n",
    "- badges: true\n",
    "- comments: false\n",
    "- categories: [Dominykas Tautkus]\n",
    "- image: images/matrix.png"
   ]
  },
  {
   "cell_type": "code",
   "execution_count": null,
   "id": "premium-weekend",
   "metadata": {
    "papermill": {
     "duration": 0.0106,
     "end_time": "2022-06-28T03:10:32.477349",
     "exception": false,
     "start_time": "2022-06-28T03:10:32.466749",
     "status": "completed"
    },
    "tags": []
   },
   "outputs": [],
   "source": []
  },
  {
   "cell_type": "code",
   "execution_count": 1,
   "id": "vertical-rebate",
   "metadata": {
    "execution": {
     "iopub.execute_input": "2022-06-28T03:10:32.509262Z",
     "iopub.status.busy": "2022-06-28T03:10:32.507097Z",
     "iopub.status.idle": "2022-06-28T03:10:32.519740Z",
     "shell.execute_reply": "2022-06-28T03:10:32.519276Z"
    },
    "papermill": {
     "duration": 0.031733,
     "end_time": "2022-06-28T03:10:32.519850",
     "exception": false,
     "start_time": "2022-06-28T03:10:32.488117",
     "status": "completed"
    },
    "tags": []
   },
   "outputs": [],
   "source": [
    "#hide\n",
    "%load_ext autoreload\n",
    "%autoreload 2"
   ]
  },
  {
   "cell_type": "code",
   "execution_count": 2,
   "id": "overall-advancement",
   "metadata": {
    "execution": {
     "iopub.execute_input": "2022-06-28T03:10:32.544841Z",
     "iopub.status.busy": "2022-06-28T03:10:32.544249Z",
     "iopub.status.idle": "2022-06-28T03:10:33.591137Z",
     "shell.execute_reply": "2022-06-28T03:10:33.590231Z"
    },
    "papermill": {
     "duration": 1.060656,
     "end_time": "2022-06-28T03:10:33.591261",
     "exception": false,
     "start_time": "2022-06-28T03:10:32.530605",
     "status": "completed"
    },
    "tags": []
   },
   "outputs": [],
   "source": [
    "#hide\n",
    "from scripts.read_data import read_api\n",
    "from IPython.display import HTML\n",
    "import plotly.graph_objects as go\n"
   ]
  },
  {
   "cell_type": "code",
   "execution_count": 3,
   "id": "light-crazy",
   "metadata": {
    "execution": {
     "iopub.execute_input": "2022-06-28T03:10:33.618663Z",
     "iopub.status.busy": "2022-06-28T03:10:33.618068Z",
     "iopub.status.idle": "2022-06-28T03:10:33.639041Z",
     "shell.execute_reply": "2022-06-28T03:10:33.638608Z"
    },
    "papermill": {
     "duration": 0.036713,
     "end_time": "2022-06-28T03:10:33.639149",
     "exception": false,
     "start_time": "2022-06-28T03:10:33.602436",
     "status": "completed"
    },
    "tags": []
   },
   "outputs": [],
   "source": [
    "#hide\n",
    "### ICO koreliacija"
   ]
  },
  {
   "cell_type": "code",
   "execution_count": 4,
   "id": "likely-bahrain",
   "metadata": {
    "execution": {
     "iopub.execute_input": "2022-06-28T03:10:33.664082Z",
     "iopub.status.busy": "2022-06-28T03:10:33.663520Z",
     "iopub.status.idle": "2022-06-28T03:10:34.477202Z",
     "shell.execute_reply": "2022-06-28T03:10:34.476058Z"
    },
    "papermill": {
     "duration": 0.827251,
     "end_time": "2022-06-28T03:10:34.477322",
     "exception": false,
     "start_time": "2022-06-28T03:10:33.650071",
     "status": "completed"
    },
    "tags": []
   },
   "outputs": [],
   "source": [
    "#hide\n",
    "import matplotlib.pyplot as plt\n",
    "import numpy as np\n",
    "import pandas as pd\n",
    "import seaborn as sns\n",
    "import matplotlib.pyplot as plt \n",
    "import matplotlib.dates as mdates\n",
    "import matplotlib.pyplot as plt"
   ]
  },
  {
   "cell_type": "code",
   "execution_count": 5,
   "id": "superior-blanket",
   "metadata": {
    "execution": {
     "iopub.execute_input": "2022-06-28T03:10:34.505951Z",
     "iopub.status.busy": "2022-06-28T03:10:34.503599Z",
     "iopub.status.idle": "2022-06-28T03:10:50.802295Z",
     "shell.execute_reply": "2022-06-28T03:10:50.801822Z"
    },
    "papermill": {
     "duration": 16.314088,
     "end_time": "2022-06-28T03:10:50.802412",
     "exception": false,
     "start_time": "2022-06-28T03:10:34.488324",
     "status": "completed"
    },
    "tags": []
   },
   "outputs": [
    {
     "name": "stderr",
     "output_type": "stream",
     "text": [
      "/home/runner/work/corr-app/corr-app/_notebooks/scripts/read_data.py:187: SettingWithCopyWarning:\n",
      "\n",
      "\n",
      "A value is trying to be set on a copy of a slice from a DataFrame.\n",
      "Try using .loc[row_indexer,col_indexer] = value instead\n",
      "\n",
      "See the caveats in the documentation: https://pandas.pydata.org/pandas-docs/stable/user_guide/indexing.html#returning-a-view-versus-a-copy\n",
      "\n"
     ]
    },
    {
     "name": "stderr",
     "output_type": "stream",
     "text": [
      "/home/runner/work/corr-app/corr-app/_notebooks/scripts/read_data.py:215: SettingWithCopyWarning:\n",
      "\n",
      "\n",
      "A value is trying to be set on a copy of a slice from a DataFrame.\n",
      "Try using .loc[row_indexer,col_indexer] = value instead\n",
      "\n",
      "See the caveats in the documentation: https://pandas.pydata.org/pandas-docs/stable/user_guide/indexing.html#returning-a-view-versus-a-copy\n",
      "\n"
     ]
    }
   ],
   "source": [
    "#hide\n",
    "df_all = read_api()\n",
    "#df_all = df_all.drop(['SP500', 'XAU', 'ETH', 'BTC'], axis=1)\n",
    "\n"
   ]
  },
  {
   "cell_type": "code",
   "execution_count": 6,
   "id": "mature-alert",
   "metadata": {
    "execution": {
     "iopub.execute_input": "2022-06-28T03:10:50.830602Z",
     "iopub.status.busy": "2022-06-28T03:10:50.829952Z",
     "iopub.status.idle": "2022-06-28T03:10:50.859490Z",
     "shell.execute_reply": "2022-06-28T03:10:50.859022Z"
    },
    "papermill": {
     "duration": 0.044428,
     "end_time": "2022-06-28T03:10:50.859597",
     "exception": false,
     "start_time": "2022-06-28T03:10:50.815169",
     "status": "completed"
    },
    "tags": []
   },
   "outputs": [],
   "source": [
    "#hide_input\n",
    "sum_corr = df_all.corr().sum().sort_values(ascending=True).index.values\n",
    "#df_all[sum_corr].corr()"
   ]
  },
  {
   "cell_type": "markdown",
   "id": "complex-syndicate",
   "metadata": {
    "papermill": {
     "duration": 0.011251,
     "end_time": "2022-06-28T03:10:50.882230",
     "exception": false,
     "start_time": "2022-06-28T03:10:50.870979",
     "status": "completed"
    },
    "tags": []
   },
   "source": [
    "## Išplėstinė koreliacijų matrica. "
   ]
  },
  {
   "cell_type": "code",
   "execution_count": 7,
   "id": "atomic-omaha",
   "metadata": {
    "execution": {
     "iopub.execute_input": "2022-06-28T03:10:50.908696Z",
     "iopub.status.busy": "2022-06-28T03:10:50.908093Z",
     "iopub.status.idle": "2022-06-28T03:10:52.007693Z",
     "shell.execute_reply": "2022-06-28T03:10:52.006784Z"
    },
    "papermill": {
     "duration": 1.114322,
     "end_time": "2022-06-28T03:10:52.007814",
     "exception": false,
     "start_time": "2022-06-28T03:10:50.893492",
     "status": "completed"
    },
    "tags": []
   },
   "outputs": [
    {
     "data": {
      "image/png": "[encoded data removed]",
      "text/plain": [
       "<Figure size 1080x792 with 2 Axes>"
      ]
     },
     "metadata": {
      "needs_background": "light"
     },
     "output_type": "display_data"
    }
   ],
   "source": [
    "#hide_input\n",
    "plt.figure(figsize=(15, 11))\n",
    "sns.heatmap(df_all[sum_corr].corr(), annot=True, cmap=\"cubehelix\") \n",
    "sns.set(font_scale=1.25)\n",
    "plt.savefig('corr_matrix.png', format='eps')"
   ]
  },
  {
   "cell_type": "code",
   "execution_count": 8,
   "id": "arbitrary-sullivan",
   "metadata": {
    "execution": {
     "iopub.execute_input": "2022-06-28T03:10:52.040076Z",
     "iopub.status.busy": "2022-06-28T03:10:52.038696Z",
     "iopub.status.idle": "2022-06-28T03:10:52.063433Z",
     "shell.execute_reply": "2022-06-28T03:10:52.063857Z"
    },
    "papermill": {
     "duration": 0.042598,
     "end_time": "2022-06-28T03:10:52.063986",
     "exception": false,
     "start_time": "2022-06-28T03:10:52.021388",
     "status": "completed"
    },
    "tags": []
   },
   "outputs": [],
   "source": [
    "#hide\n",
    "#df_all_mrk = read_api()"
   ]
  },
  {
   "cell_type": "code",
   "execution_count": 9,
   "id": "delayed-adapter",
   "metadata": {
    "execution": {
     "iopub.execute_input": "2022-06-28T03:10:52.093510Z",
     "iopub.status.busy": "2022-06-28T03:10:52.092952Z",
     "iopub.status.idle": "2022-06-28T03:10:52.117934Z",
     "shell.execute_reply": "2022-06-28T03:10:52.117482Z"
    },
    "papermill": {
     "duration": 0.040848,
     "end_time": "2022-06-28T03:10:52.118034",
     "exception": false,
     "start_time": "2022-06-28T03:10:52.077186",
     "status": "completed"
    },
    "tags": []
   },
   "outputs": [],
   "source": [
    "#hide\n",
    "#Koreliacijų koeficientai"
   ]
  },
  {
   "cell_type": "code",
   "execution_count": 10,
   "id": "seeing-celebration",
   "metadata": {
    "execution": {
     "iopub.execute_input": "2022-06-28T03:10:52.147682Z",
     "iopub.status.busy": "2022-06-28T03:10:52.147123Z",
     "iopub.status.idle": "2022-06-28T03:10:52.172061Z",
     "shell.execute_reply": "2022-06-28T03:10:52.171628Z"
    },
    "papermill": {
     "duration": 0.040819,
     "end_time": "2022-06-28T03:10:52.172165",
     "exception": false,
     "start_time": "2022-06-28T03:10:52.131346",
     "status": "completed"
    },
    "tags": []
   },
   "outputs": [],
   "source": [
    "#hide_input\n",
    "#sum_corr = df_all_mrk.corr().sum().sort_values(ascending=True).index.values\n",
    "#df_all_mrk[sum_corr].corr()"
   ]
  },
  {
   "cell_type": "code",
   "execution_count": 11,
   "id": "other-painting",
   "metadata": {
    "execution": {
     "iopub.execute_input": "2022-06-28T03:10:52.201357Z",
     "iopub.status.busy": "2022-06-28T03:10:52.200811Z",
     "iopub.status.idle": "2022-06-28T03:10:52.225943Z",
     "shell.execute_reply": "2022-06-28T03:10:52.225480Z"
    },
    "papermill": {
     "duration": 0.04075,
     "end_time": "2022-06-28T03:10:52.226047",
     "exception": false,
     "start_time": "2022-06-28T03:10:52.185297",
     "status": "completed"
    },
    "tags": []
   },
   "outputs": [],
   "source": [
    "#hide\n",
    "#Koreliacijos matrica. "
   ]
  },
  {
   "cell_type": "code",
   "execution_count": 12,
   "id": "modular-magnitude",
   "metadata": {
    "execution": {
     "iopub.execute_input": "2022-06-28T03:10:52.255410Z",
     "iopub.status.busy": "2022-06-28T03:10:52.254816Z",
     "iopub.status.idle": "2022-06-28T03:10:52.279775Z",
     "shell.execute_reply": "2022-06-28T03:10:52.279225Z"
    },
    "papermill": {
     "duration": 0.040493,
     "end_time": "2022-06-28T03:10:52.279877",
     "exception": false,
     "start_time": "2022-06-28T03:10:52.239384",
     "status": "completed"
    },
    "tags": []
   },
   "outputs": [],
   "source": [
    "#hide_input\n",
    "#plt.figure(figsize=(15, 8))\n",
    "#sns.heatmap(df_all_mrk[sum_corr].corr(), annot=True, cmap=\"BrBG\");\n",
    "#plt.savefig('corr_matrix_all.eps', format='eps')"
   ]
  },
  {
   "cell_type": "code",
   "execution_count": null,
   "id": "original-senator",
   "metadata": {
    "papermill": {
     "duration": 0.013079,
     "end_time": "2022-06-28T03:10:52.306295",
     "exception": false,
     "start_time": "2022-06-28T03:10:52.293216",
     "status": "completed"
    },
    "tags": []
   },
   "outputs": [],
   "source": []
  },
  {
   "cell_type": "code",
   "execution_count": null,
   "id": "saving-secretariat",
   "metadata": {
    "papermill": {
     "duration": 0.013061,
     "end_time": "2022-06-28T03:10:52.332478",
     "exception": false,
     "start_time": "2022-06-28T03:10:52.319417",
     "status": "completed"
    },
    "tags": []
   },
   "outputs": [],
   "source": []
  }
 ],
 "metadata": {
  "kernelspec": {
   "display_name": "Python 3",
   "language": "python",
   "name": "python3"
  },
  "language_info": {
   "codemirror_mode": {
    "name": "ipython",
    "version": 3
   },
   "file_extension": ".py",
   "mimetype": "text/x-python",
   "name": "python",
   "nbconvert_exporter": "python",
   "pygments_lexer": "ipython3",
   "version": "3.6.15"
  },
  "papermill": {
   "default_parameters": {},
   "duration": 21.23208,
   "end_time": "2022-06-28T03:10:52.762221",
   "environment_variables": {},
   "exception": null,
   "input_path": "App-Correlation_charts.ipynb",
   "output_path": "App-Correlation_charts.ipynb",
   "parameters": {},
   "start_time": "2022-06-28T03:10:31.530141",
   "version": "2.2.2"
  }
 },
 "nbformat": 4,
 "nbformat_minor": 5
}