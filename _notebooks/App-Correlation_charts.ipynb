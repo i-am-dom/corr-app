{
 "cells": [
  {
   "cell_type": "markdown",
   "id": "touched-facility",
   "metadata": {
    "papermill": {
     "duration": 0.017975,
     "end_time": "2022-08-24T03:36:32.237170",
     "exception": false,
     "start_time": "2022-08-24T03:36:32.219195",
     "status": "completed"
    },
    "tags": []
   },
   "source": [
    "# Koreliacijų matrica\n",
    "> Išplėstinė koreliacijų matrica. \n",
    "\n",
    "- toc: true \n",
    "- badges: true\n",
    "- comments: false\n",
    "- categories: [Dominykas Tautkus]\n",
    "- image: images/matrix.png"
   ]
  },
  {
   "cell_type": "code",
   "execution_count": null,
   "id": "premium-weekend",
   "metadata": {
    "papermill": {
     "duration": 0.013862,
     "end_time": "2022-08-24T03:36:32.266159",
     "exception": false,
     "start_time": "2022-08-24T03:36:32.252297",
     "status": "completed"
    },
    "tags": []
   },
   "outputs": [],
   "source": []
  },
  {
   "cell_type": "code",
   "execution_count": 1,
   "id": "vertical-rebate",
   "metadata": {
    "execution": {
     "iopub.execute_input": "2022-08-24T03:36:32.306053Z",
     "iopub.status.busy": "2022-08-24T03:36:32.305296Z",
     "iopub.status.idle": "2022-08-24T03:36:32.318746Z",
     "shell.execute_reply": "2022-08-24T03:36:32.318075Z"
    },
    "papermill": {
     "duration": 0.03861,
     "end_time": "2022-08-24T03:36:32.318901",
     "exception": false,
     "start_time": "2022-08-24T03:36:32.280291",
     "status": "completed"
    },
    "tags": []
   },
   "outputs": [],
   "source": [
    "#hide\n",
    "%load_ext autoreload\n",
    "%autoreload 2"
   ]
  },
  {
   "cell_type": "code",
   "execution_count": 2,
   "id": "overall-advancement",
   "metadata": {
    "execution": {
     "iopub.execute_input": "2022-08-24T03:36:32.351033Z",
     "iopub.status.busy": "2022-08-24T03:36:32.350259Z",
     "iopub.status.idle": "2022-08-24T03:36:34.217412Z",
     "shell.execute_reply": "2022-08-24T03:36:34.216787Z"
    },
    "papermill": {
     "duration": 1.884774,
     "end_time": "2022-08-24T03:36:34.217560",
     "exception": false,
     "start_time": "2022-08-24T03:36:32.332786",
     "status": "completed"
    },
    "tags": []
   },
   "outputs": [],
   "source": [
    "#hide\n",
    "from scripts.read_data import read_api\n",
    "from IPython.display import HTML\n",
    "import plotly.graph_objects as go\n"
   ]
  },
  {
   "cell_type": "code",
   "execution_count": 3,
   "id": "light-crazy",
   "metadata": {
    "execution": {
     "iopub.execute_input": "2022-08-24T03:36:34.253322Z",
     "iopub.status.busy": "2022-08-24T03:36:34.252198Z",
     "iopub.status.idle": "2022-08-24T03:36:34.279741Z",
     "shell.execute_reply": "2022-08-24T03:36:34.278981Z"
    },
    "papermill": {
     "duration": 0.046204,
     "end_time": "2022-08-24T03:36:34.279873",
     "exception": false,
     "start_time": "2022-08-24T03:36:34.233669",
     "status": "completed"
    },
    "tags": []
   },
   "outputs": [],
   "source": [
    "#hide\n",
    "### ICO koreliacija"
   ]
  },
  {
   "cell_type": "code",
   "execution_count": 4,
   "id": "likely-bahrain",
   "metadata": {
    "execution": {
     "iopub.execute_input": "2022-08-24T03:36:34.315689Z",
     "iopub.status.busy": "2022-08-24T03:36:34.313732Z",
     "iopub.status.idle": "2022-08-24T03:36:35.400524Z",
     "shell.execute_reply": "2022-08-24T03:36:35.399340Z"
    },
    "papermill": {
     "duration": 1.107025,
     "end_time": "2022-08-24T03:36:35.400673",
     "exception": false,
     "start_time": "2022-08-24T03:36:34.293648",
     "status": "completed"
    },
    "tags": []
   },
   "outputs": [],
   "source": [
    "#hide\n",
    "import matplotlib.pyplot as plt\n",
    "import numpy as np\n",
    "import pandas as pd\n",
    "import seaborn as sns\n",
    "import matplotlib.pyplot as plt \n",
    "import matplotlib.dates as mdates\n",
    "import matplotlib.pyplot as plt"
   ]
  },
  {
   "cell_type": "code",
   "execution_count": 5,
   "id": "superior-blanket",
   "metadata": {
    "execution": {
     "iopub.execute_input": "2022-08-24T03:36:35.434148Z",
     "iopub.status.busy": "2022-08-24T03:36:35.433359Z",
     "iopub.status.idle": "2022-08-24T03:36:48.944907Z",
     "shell.execute_reply": "2022-08-24T03:36:48.944151Z"
    },
    "papermill": {
     "duration": 13.529687,
     "end_time": "2022-08-24T03:36:48.945056",
     "exception": false,
     "start_time": "2022-08-24T03:36:35.415369",
     "status": "completed"
    },
    "tags": []
   },
   "outputs": [
    {
     "name": "stderr",
     "output_type": "stream",
     "text": [
      "/home/runner/work/corr-app/corr-app/_notebooks/scripts/read_data.py:187: SettingWithCopyWarning:\n",
      "\n",
      "\n",
      "A value is trying to be set on a copy of a slice from a DataFrame.\n",
      "Try using .loc[row_indexer,col_indexer] = value instead\n",
      "\n",
      "See the caveats in the documentation: https://pandas.pydata.org/pandas-docs/stable/user_guide/indexing.html#returning-a-view-versus-a-copy\n",
      "\n"
     ]
    },
    {
     "name": "stderr",
     "output_type": "stream",
     "text": [
      "/home/runner/work/corr-app/corr-app/_notebooks/scripts/read_data.py:215: SettingWithCopyWarning:\n",
      "\n",
      "\n",
      "A value is trying to be set on a copy of a slice from a DataFrame.\n",
      "Try using .loc[row_indexer,col_indexer] = value instead\n",
      "\n",
      "See the caveats in the documentation: https://pandas.pydata.org/pandas-docs/stable/user_guide/indexing.html#returning-a-view-versus-a-copy\n",
      "\n"
     ]
    }
   ],
   "source": [
    "#hide\n",
    "df_all = read_api()\n",
    "#df_all = df_all.drop(['SP500', 'XAU', 'ETH', 'BTC'], axis=1)\n",
    "\n"
   ]
  },
  {
   "cell_type": "code",
   "execution_count": 6,
   "id": "mature-alert",
   "metadata": {
    "execution": {
     "iopub.execute_input": "2022-08-24T03:36:48.981840Z",
     "iopub.status.busy": "2022-08-24T03:36:48.981008Z",
     "iopub.status.idle": "2022-08-24T03:36:49.019001Z",
     "shell.execute_reply": "2022-08-24T03:36:49.018324Z"
    },
    "papermill": {
     "duration": 0.057672,
     "end_time": "2022-08-24T03:36:49.019145",
     "exception": false,
     "start_time": "2022-08-24T03:36:48.961473",
     "status": "completed"
    },
    "tags": []
   },
   "outputs": [],
   "source": [
    "#hide_input\n",
    "sum_corr = df_all.corr().sum().sort_values(ascending=True).index.values\n",
    "#df_all[sum_corr].corr()"
   ]
  },
  {
   "cell_type": "markdown",
   "id": "complex-syndicate",
   "metadata": {
    "papermill": {
     "duration": 0.015827,
     "end_time": "2022-08-24T03:36:49.056529",
     "exception": false,
     "start_time": "2022-08-24T03:36:49.040702",
     "status": "completed"
    },
    "tags": []
   },
   "source": [
    "## Išplėstinė koreliacijų matrica. "
   ]
  },
  {
   "cell_type": "code",
   "execution_count": 7,
   "id": "atomic-omaha",
   "metadata": {
    "execution": {
     "iopub.execute_input": "2022-08-24T03:36:49.093996Z",
     "iopub.status.busy": "2022-08-24T03:36:49.093189Z",
     "iopub.status.idle": "2022-08-24T03:36:50.754140Z",
     "shell.execute_reply": "2022-08-24T03:36:50.753503Z"
    },
    "papermill": {
     "duration": 1.682693,
     "end_time": "2022-08-24T03:36:50.754302",
     "exception": false,
     "start_time": "2022-08-24T03:36:49.071609",
     "status": "completed"
    },
    "tags": []
   },
   "outputs": [
    {
     "data": {
      "image/png": "[encoded data removed]",
      "text/plain": [
       "<Figure size 1080x792 with 2 Axes>"
      ]
     },
     "metadata": {
      "needs_background": "light"
     },
     "output_type": "display_data"
    }
   ],
   "source": [
    "#hide_input\n",
    "plt.figure(figsize=(15, 11))\n",
    "sns.heatmap(df_all[sum_corr].corr(), annot=True, cmap=\"cubehelix\") \n",
    "sns.set(font_scale=1.25)\n",
    "plt.savefig('corr_matrix.png', format='eps')"
   ]
  },
  {
   "cell_type": "code",
   "execution_count": 8,
   "id": "arbitrary-sullivan",
   "metadata": {
    "execution": {
     "iopub.execute_input": "2022-08-24T03:36:50.796817Z",
     "iopub.status.busy": "2022-08-24T03:36:50.796030Z",
     "iopub.status.idle": "2022-08-24T03:36:50.828193Z",
     "shell.execute_reply": "2022-08-24T03:36:50.827575Z"
    },
    "papermill": {
     "duration": 0.056012,
     "end_time": "2022-08-24T03:36:50.828363",
     "exception": false,
     "start_time": "2022-08-24T03:36:50.772351",
     "status": "completed"
    },
    "tags": []
   },
   "outputs": [],
   "source": [
    "#hide\n",
    "#df_all_mrk = read_api()"
   ]
  },
  {
   "cell_type": "code",
   "execution_count": 9,
   "id": "delayed-adapter",
   "metadata": {
    "execution": {
     "iopub.execute_input": "2022-08-24T03:36:50.867225Z",
     "iopub.status.busy": "2022-08-24T03:36:50.866452Z",
     "iopub.status.idle": "2022-08-24T03:36:50.900034Z",
     "shell.execute_reply": "2022-08-24T03:36:50.899355Z"
    },
    "papermill": {
     "duration": 0.054557,
     "end_time": "2022-08-24T03:36:50.900188",
     "exception": false,
     "start_time": "2022-08-24T03:36:50.845631",
     "status": "completed"
    },
    "tags": []
   },
   "outputs": [],
   "source": [
    "#hide\n",
    "#Koreliacijų koeficientai"
   ]
  },
  {
   "cell_type": "code",
   "execution_count": 10,
   "id": "seeing-celebration",
   "metadata": {
    "execution": {
     "iopub.execute_input": "2022-08-24T03:36:50.939051Z",
     "iopub.status.busy": "2022-08-24T03:36:50.938216Z",
     "iopub.status.idle": "2022-08-24T03:36:50.969197Z",
     "shell.execute_reply": "2022-08-24T03:36:50.968612Z"
    },
    "papermill": {
     "duration": 0.051311,
     "end_time": "2022-08-24T03:36:50.969343",
     "exception": false,
     "start_time": "2022-08-24T03:36:50.918032",
     "status": "completed"
    },
    "tags": []
   },
   "outputs": [],
   "source": [
    "#hide_input\n",
    "#sum_corr = df_all_mrk.corr().sum().sort_values(ascending=True).index.values\n",
    "#df_all_mrk[sum_corr].corr()"
   ]
  },
  {
   "cell_type": "code",
   "execution_count": 11,
   "id": "other-painting",
   "metadata": {
    "execution": {
     "iopub.execute_input": "2022-08-24T03:36:51.008136Z",
     "iopub.status.busy": "2022-08-24T03:36:51.007408Z",
     "iopub.status.idle": "2022-08-24T03:36:51.045774Z",
     "shell.execute_reply": "2022-08-24T03:36:51.046546Z"
    },
    "papermill": {
     "duration": 0.059594,
     "end_time": "2022-08-24T03:36:51.046720",
     "exception": false,
     "start_time": "2022-08-24T03:36:50.987126",
     "status": "completed"
    },
    "tags": []
   },
   "outputs": [],
   "source": [
    "#hide\n",
    "#Koreliacijos matrica. "
   ]
  },
  {
   "cell_type": "code",
   "execution_count": 12,
   "id": "modular-magnitude",
   "metadata": {
    "execution": {
     "iopub.execute_input": "2022-08-24T03:36:51.145732Z",
     "iopub.status.busy": "2022-08-24T03:36:51.144679Z",
     "iopub.status.idle": "2022-08-24T03:36:51.183131Z",
     "shell.execute_reply": "2022-08-24T03:36:51.182514Z"
    },
    "papermill": {
     "duration": 0.092539,
     "end_time": "2022-08-24T03:36:51.183291",
     "exception": false,
     "start_time": "2022-08-24T03:36:51.090752",
     "status": "completed"
    },
    "tags": []
   },
   "outputs": [],
   "source": [
    "#hide_input\n",
    "#plt.figure(figsize=(15, 8))\n",
    "#sns.heatmap(df_all_mrk[sum_corr].corr(), annot=True, cmap=\"BrBG\");\n",
    "#plt.savefig('corr_matrix_all.eps', format='eps')"
   ]
  },
  {
   "cell_type": "code",
   "execution_count": null,
   "id": "original-senator",
   "metadata": {
    "papermill": {
     "duration": 0.019192,
     "end_time": "2022-08-24T03:36:51.222292",
     "exception": false,
     "start_time": "2022-08-24T03:36:51.203100",
     "status": "completed"
    },
    "tags": []
   },
   "outputs": [],
   "source": []
  },
  {
   "cell_type": "code",
   "execution_count": null,
   "id": "saving-secretariat",
   "metadata": {
    "papermill": {
     "duration": 0.017512,
     "end_time": "2022-08-24T03:36:51.257991",
     "exception": false,
     "start_time": "2022-08-24T03:36:51.240479",
     "status": "completed"
    },
    "tags": []
   },
   "outputs": [],
   "source": []
  }
 ],
 "metadata": {
  "kernelspec": {
   "display_name": "Python 3",
   "language": "python",
   "name": "python3"
  },
  "language_info": {
   "codemirror_mode": {
    "name": "ipython",
    "version": 3
   },
   "file_extension": ".py",
   "mimetype": "text/x-python",
   "name": "python",
   "nbconvert_exporter": "python",
   "pygments_lexer": "ipython3",
   "version": "3.6.15"
  },
  "papermill": {
   "default_parameters": {},
   "duration": 20.86918,
   "end_time": "2022-08-24T03:36:51.897531",
   "environment_variables": {},
   "exception": null,
   "input_path": "App-Correlation_charts.ipynb",
   "output_path": "App-Correlation_charts.ipynb",
   "parameters": {},
   "start_time": "2022-08-24T03:36:31.028351",
   "version": "2.2.2"
  }
 },
 "nbformat": 4,
 "nbformat_minor": 5
}