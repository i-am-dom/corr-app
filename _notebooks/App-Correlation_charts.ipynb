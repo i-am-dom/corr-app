{
 "cells": [
  {
   "cell_type": "markdown",
   "id": "touched-facility",
   "metadata": {
    "papermill": {
     "duration": 0.018427,
     "end_time": "2022-11-07T03:02:41.094236",
     "exception": false,
     "start_time": "2022-11-07T03:02:41.075809",
     "status": "completed"
    },
    "tags": []
   },
   "source": [
    "# Koreliacijų matrica\n",
    "> Išplėstinė koreliacijų matrica. \n",
    "\n",
    "- toc: true \n",
    "- badges: true\n",
    "- comments: false\n",
    "- categories: [Dominykas Tautkus]\n",
    "- image: images/matrix.png"
   ]
  },
  {
   "cell_type": "code",
   "execution_count": null,
   "id": "premium-weekend",
   "metadata": {
    "papermill": {
     "duration": 0.011855,
     "end_time": "2022-11-07T03:02:41.118398",
     "exception": false,
     "start_time": "2022-11-07T03:02:41.106543",
     "status": "completed"
    },
    "tags": []
   },
   "outputs": [],
   "source": []
  },
  {
   "cell_type": "code",
   "execution_count": 1,
   "id": "vertical-rebate",
   "metadata": {
    "execution": {
     "iopub.execute_input": "2022-11-07T03:02:41.149443Z",
     "iopub.status.busy": "2022-11-07T03:02:41.148777Z",
     "iopub.status.idle": "2022-11-07T03:02:41.160555Z",
     "shell.execute_reply": "2022-11-07T03:02:41.161195Z"
    },
    "papermill": {
     "duration": 0.032398,
     "end_time": "2022-11-07T03:02:41.161361",
     "exception": false,
     "start_time": "2022-11-07T03:02:41.128963",
     "status": "completed"
    },
    "tags": []
   },
   "outputs": [],
   "source": [
    "#hide\n",
    "%load_ext autoreload\n",
    "%autoreload 2"
   ]
  },
  {
   "cell_type": "code",
   "execution_count": 2,
   "id": "overall-advancement",
   "metadata": {
    "execution": {
     "iopub.execute_input": "2022-11-07T03:02:41.185285Z",
     "iopub.status.busy": "2022-11-07T03:02:41.184703Z",
     "iopub.status.idle": "2022-11-07T03:02:43.123343Z",
     "shell.execute_reply": "2022-11-07T03:02:43.122150Z"
    },
    "papermill": {
     "duration": 1.95156,
     "end_time": "2022-11-07T03:02:43.123464",
     "exception": false,
     "start_time": "2022-11-07T03:02:41.171904",
     "status": "completed"
    },
    "tags": []
   },
   "outputs": [],
   "source": [
    "#hide\n",
    "from scripts.read_data import read_api\n",
    "from IPython.display import HTML\n",
    "import plotly.graph_objects as go\n"
   ]
  },
  {
   "cell_type": "code",
   "execution_count": 3,
   "id": "light-crazy",
   "metadata": {
    "execution": {
     "iopub.execute_input": "2022-11-07T03:02:43.150605Z",
     "iopub.status.busy": "2022-11-07T03:02:43.149918Z",
     "iopub.status.idle": "2022-11-07T03:02:43.177070Z",
     "shell.execute_reply": "2022-11-07T03:02:43.177646Z"
    },
    "papermill": {
     "duration": 0.044044,
     "end_time": "2022-11-07T03:02:43.177796",
     "exception": false,
     "start_time": "2022-11-07T03:02:43.133752",
     "status": "completed"
    },
    "tags": []
   },
   "outputs": [],
   "source": [
    "#hide\n",
    "### ICO koreliacija"
   ]
  },
  {
   "cell_type": "code",
   "execution_count": 4,
   "id": "likely-bahrain",
   "metadata": {
    "execution": {
     "iopub.execute_input": "2022-11-07T03:02:43.206972Z",
     "iopub.status.busy": "2022-11-07T03:02:43.205986Z",
     "iopub.status.idle": "2022-11-07T03:02:44.204768Z",
     "shell.execute_reply": "2022-11-07T03:02:44.203759Z"
    },
    "papermill": {
     "duration": 1.016072,
     "end_time": "2022-11-07T03:02:44.204998",
     "exception": false,
     "start_time": "2022-11-07T03:02:43.188926",
     "status": "completed"
    },
    "tags": []
   },
   "outputs": [],
   "source": [
    "#hide\n",
    "import matplotlib.pyplot as plt\n",
    "import numpy as np\n",
    "import pandas as pd\n",
    "import seaborn as sns\n",
    "import matplotlib.pyplot as plt \n",
    "import matplotlib.dates as mdates\n",
    "import matplotlib.pyplot as plt"
   ]
  },
  {
   "cell_type": "code",
   "execution_count": 5,
   "id": "superior-blanket",
   "metadata": {
    "execution": {
     "iopub.execute_input": "2022-11-07T03:02:44.233324Z",
     "iopub.status.busy": "2022-11-07T03:02:44.232747Z",
     "iopub.status.idle": "2022-11-07T03:02:59.900893Z",
     "shell.execute_reply": "2022-11-07T03:02:59.901985Z"
    },
    "papermill": {
     "duration": 15.685014,
     "end_time": "2022-11-07T03:02:59.902305",
     "exception": false,
     "start_time": "2022-11-07T03:02:44.217291",
     "status": "completed"
    },
    "tags": []
   },
   "outputs": [
    {
     "name": "stderr",
     "output_type": "stream",
     "text": [
      "/home/runner/work/corr-app/corr-app/_notebooks/scripts/read_data.py:187: SettingWithCopyWarning:\n",
      "\n",
      "\n",
      "A value is trying to be set on a copy of a slice from a DataFrame.\n",
      "Try using .loc[row_indexer,col_indexer] = value instead\n",
      "\n",
      "See the caveats in the documentation: https://pandas.pydata.org/pandas-docs/stable/user_guide/indexing.html#returning-a-view-versus-a-copy\n",
      "\n"
     ]
    },
    {
     "name": "stderr",
     "output_type": "stream",
     "text": [
      "/home/runner/work/corr-app/corr-app/_notebooks/scripts/read_data.py:215: SettingWithCopyWarning:\n",
      "\n",
      "\n",
      "A value is trying to be set on a copy of a slice from a DataFrame.\n",
      "Try using .loc[row_indexer,col_indexer] = value instead\n",
      "\n",
      "See the caveats in the documentation: https://pandas.pydata.org/pandas-docs/stable/user_guide/indexing.html#returning-a-view-versus-a-copy\n",
      "\n"
     ]
    }
   ],
   "source": [
    "#hide\n",
    "df_all = read_api()\n",
    "#df_all = df_all.drop(['SP500', 'XAU', 'ETH', 'BTC'], axis=1)\n",
    "\n"
   ]
  },
  {
   "cell_type": "code",
   "execution_count": 6,
   "id": "mature-alert",
   "metadata": {
    "execution": {
     "iopub.execute_input": "2022-11-07T03:02:59.939107Z",
     "iopub.status.busy": "2022-11-07T03:02:59.938306Z",
     "iopub.status.idle": "2022-11-07T03:02:59.977893Z",
     "shell.execute_reply": "2022-11-07T03:02:59.977265Z"
    },
    "papermill": {
     "duration": 0.060025,
     "end_time": "2022-11-07T03:02:59.978046",
     "exception": false,
     "start_time": "2022-11-07T03:02:59.918021",
     "status": "completed"
    },
    "tags": []
   },
   "outputs": [],
   "source": [
    "#hide_input\n",
    "sum_corr = df_all.corr().sum().sort_values(ascending=True).index.values\n",
    "#df_all[sum_corr].corr()"
   ]
  },
  {
   "cell_type": "markdown",
   "id": "complex-syndicate",
   "metadata": {
    "papermill": {
     "duration": 0.016001,
     "end_time": "2022-11-07T03:03:00.007362",
     "exception": false,
     "start_time": "2022-11-07T03:02:59.991361",
     "status": "completed"
    },
    "tags": []
   },
   "source": [
    "## Išplėstinė koreliacijų matrica. "
   ]
  },
  {
   "cell_type": "code",
   "execution_count": 7,
   "id": "atomic-omaha",
   "metadata": {
    "execution": {
     "iopub.execute_input": "2022-11-07T03:03:00.040011Z",
     "iopub.status.busy": "2022-11-07T03:03:00.039309Z",
     "iopub.status.idle": "2022-11-07T03:03:01.485694Z",
     "shell.execute_reply": "2022-11-07T03:03:01.483990Z"
    },
    "papermill": {
     "duration": 1.464542,
     "end_time": "2022-11-07T03:03:01.485856",
     "exception": false,
     "start_time": "2022-11-07T03:03:00.021314",
     "status": "completed"
    },
    "tags": []
   },
   "outputs": [
    {
     "data": {
      "image/png": "[encoded data removed]",
      "text/plain": [
       "<Figure size 1080x792 with 2 Axes>"
      ]
     },
     "metadata": {
      "needs_background": "light"
     },
     "output_type": "display_data"
    }
   ],
   "source": [
    "#hide_input\n",
    "plt.figure(figsize=(15, 11))\n",
    "sns.heatmap(df_all[sum_corr].corr(), annot=True, cmap=\"cubehelix\") \n",
    "sns.set(font_scale=1.25)\n",
    "plt.savefig('corr_matrix.png', format='eps')"
   ]
  },
  {
   "cell_type": "code",
   "execution_count": 8,
   "id": "arbitrary-sullivan",
   "metadata": {
    "execution": {
     "iopub.execute_input": "2022-11-07T03:03:01.527143Z",
     "iopub.status.busy": "2022-11-07T03:03:01.525838Z",
     "iopub.status.idle": "2022-11-07T03:03:01.563409Z",
     "shell.execute_reply": "2022-11-07T03:03:01.563987Z"
    },
    "papermill": {
     "duration": 0.061086,
     "end_time": "2022-11-07T03:03:01.564193",
     "exception": false,
     "start_time": "2022-11-07T03:03:01.503107",
     "status": "completed"
    },
    "tags": []
   },
   "outputs": [],
   "source": [
    "#hide\n",
    "#df_all_mrk = read_api()"
   ]
  },
  {
   "cell_type": "code",
   "execution_count": 9,
   "id": "delayed-adapter",
   "metadata": {
    "execution": {
     "iopub.execute_input": "2022-11-07T03:03:01.609712Z",
     "iopub.status.busy": "2022-11-07T03:03:01.608917Z",
     "iopub.status.idle": "2022-11-07T03:03:01.641989Z",
     "shell.execute_reply": "2022-11-07T03:03:01.640954Z"
    },
    "papermill": {
     "duration": 0.06046,
     "end_time": "2022-11-07T03:03:01.642140",
     "exception": false,
     "start_time": "2022-11-07T03:03:01.581680",
     "status": "completed"
    },
    "tags": []
   },
   "outputs": [],
   "source": [
    "#hide\n",
    "#Koreliacijų koeficientai"
   ]
  },
  {
   "cell_type": "code",
   "execution_count": 10,
   "id": "seeing-celebration",
   "metadata": {
    "execution": {
     "iopub.execute_input": "2022-11-07T03:03:01.679674Z",
     "iopub.status.busy": "2022-11-07T03:03:01.678896Z",
     "iopub.status.idle": "2022-11-07T03:03:01.711396Z",
     "shell.execute_reply": "2022-11-07T03:03:01.710769Z"
    },
    "papermill": {
     "duration": 0.053662,
     "end_time": "2022-11-07T03:03:01.711537",
     "exception": false,
     "start_time": "2022-11-07T03:03:01.657875",
     "status": "completed"
    },
    "tags": []
   },
   "outputs": [],
   "source": [
    "#hide_input\n",
    "#sum_corr = df_all_mrk.corr().sum().sort_values(ascending=True).index.values\n",
    "#df_all_mrk[sum_corr].corr()"
   ]
  },
  {
   "cell_type": "code",
   "execution_count": 11,
   "id": "other-painting",
   "metadata": {
    "execution": {
     "iopub.execute_input": "2022-11-07T03:03:01.748732Z",
     "iopub.status.busy": "2022-11-07T03:03:01.747895Z",
     "iopub.status.idle": "2022-11-07T03:03:01.782013Z",
     "shell.execute_reply": "2022-11-07T03:03:01.781413Z"
    },
    "papermill": {
     "duration": 0.055238,
     "end_time": "2022-11-07T03:03:01.782163",
     "exception": false,
     "start_time": "2022-11-07T03:03:01.726925",
     "status": "completed"
    },
    "tags": []
   },
   "outputs": [],
   "source": [
    "#hide\n",
    "#Koreliacijos matrica. "
   ]
  },
  {
   "cell_type": "code",
   "execution_count": 12,
   "id": "modular-magnitude",
   "metadata": {
    "execution": {
     "iopub.execute_input": "2022-11-07T03:03:01.820321Z",
     "iopub.status.busy": "2022-11-07T03:03:01.819526Z",
     "iopub.status.idle": "2022-11-07T03:03:01.852692Z",
     "shell.execute_reply": "2022-11-07T03:03:01.852012Z"
    },
    "papermill": {
     "duration": 0.055069,
     "end_time": "2022-11-07T03:03:01.852837",
     "exception": false,
     "start_time": "2022-11-07T03:03:01.797768",
     "status": "completed"
    },
    "tags": []
   },
   "outputs": [],
   "source": [
    "#hide_input\n",
    "#plt.figure(figsize=(15, 8))\n",
    "#sns.heatmap(df_all_mrk[sum_corr].corr(), annot=True, cmap=\"BrBG\");\n",
    "#plt.savefig('corr_matrix_all.eps', format='eps')"
   ]
  },
  {
   "cell_type": "code",
   "execution_count": null,
   "id": "original-senator",
   "metadata": {
    "papermill": {
     "duration": 0.015374,
     "end_time": "2022-11-07T03:03:01.883625",
     "exception": false,
     "start_time": "2022-11-07T03:03:01.868251",
     "status": "completed"
    },
    "tags": []
   },
   "outputs": [],
   "source": []
  },
  {
   "cell_type": "code",
   "execution_count": null,
   "id": "saving-secretariat",
   "metadata": {
    "papermill": {
     "duration": 0.015462,
     "end_time": "2022-11-07T03:03:01.914700",
     "exception": false,
     "start_time": "2022-11-07T03:03:01.899238",
     "status": "completed"
    },
    "tags": []
   },
   "outputs": [],
   "source": []
  }
 ],
 "metadata": {
  "kernelspec": {
   "display_name": "Python 3",
   "language": "python",
   "name": "python3"
  },
  "language_info": {
   "codemirror_mode": {
    "name": "ipython",
    "version": 3
   },
   "file_extension": ".py",
   "mimetype": "text/x-python",
   "name": "python",
   "nbconvert_exporter": "python",
   "pygments_lexer": "ipython3",
   "version": "3.6.15"
  },
  "papermill": {
   "default_parameters": {},
   "duration": 22.854153,
   "end_time": "2022-11-07T03:03:02.653354",
   "environment_variables": {},
   "exception": null,
   "input_path": "App-Correlation_charts.ipynb",
   "output_path": "App-Correlation_charts.ipynb",
   "parameters": {},
   "start_time": "2022-11-07T03:02:39.799201",
   "version": "2.2.2"
  }
 },
 "nbformat": 4,
 "nbformat_minor": 5
}