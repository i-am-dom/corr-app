{
 "cells": [
  {
   "cell_type": "markdown",
   "id": "touched-facility",
   "metadata": {
    "papermill": {
     "duration": 0.019031,
     "end_time": "2021-09-02T01:55:07.353036",
     "exception": false,
     "start_time": "2021-09-02T01:55:07.334005",
     "status": "completed"
    },
    "tags": []
   },
   "source": [
    "# Koreliacijų matrica\n",
    "> Išplėstinė koreliacijų matrica. \n",
    "\n",
    "- toc: true \n",
    "- badges: true\n",
    "- comments: false\n",
    "- categories: [Dominykas Tautkus]\n",
    "- image: images/matrix.png"
   ]
  },
  {
   "cell_type": "code",
   "execution_count": null,
   "id": "premium-weekend",
   "metadata": {
    "papermill": {
     "duration": 0.012927,
     "end_time": "2021-09-02T01:55:07.381212",
     "exception": false,
     "start_time": "2021-09-02T01:55:07.368285",
     "status": "completed"
    },
    "tags": []
   },
   "outputs": [],
   "source": []
  },
  {
   "cell_type": "code",
   "execution_count": 1,
   "id": "vertical-rebate",
   "metadata": {
    "execution": {
     "iopub.execute_input": "2021-09-02T01:55:07.420731Z",
     "iopub.status.busy": "2021-09-02T01:55:07.419886Z",
     "iopub.status.idle": "2021-09-02T01:55:07.432603Z",
     "shell.execute_reply": "2021-09-02T01:55:07.431960Z"
    },
    "papermill": {
     "duration": 0.038841,
     "end_time": "2021-09-02T01:55:07.432760",
     "exception": false,
     "start_time": "2021-09-02T01:55:07.393919",
     "status": "completed"
    },
    "tags": []
   },
   "outputs": [],
   "source": [
    "#hide\n",
    "%load_ext autoreload\n",
    "%autoreload 2"
   ]
  },
  {
   "cell_type": "code",
   "execution_count": 2,
   "id": "overall-advancement",
   "metadata": {
    "execution": {
     "iopub.execute_input": "2021-09-02T01:55:07.463657Z",
     "iopub.status.busy": "2021-09-02T01:55:07.463052Z",
     "iopub.status.idle": "2021-09-02T01:55:08.913558Z",
     "shell.execute_reply": "2021-09-02T01:55:08.912863Z"
    },
    "papermill": {
     "duration": 1.467706,
     "end_time": "2021-09-02T01:55:08.913721",
     "exception": false,
     "start_time": "2021-09-02T01:55:07.446015",
     "status": "completed"
    },
    "tags": []
   },
   "outputs": [],
   "source": [
    "#hide\n",
    "from scripts.read_data import read_api\n",
    "from IPython.display import HTML\n",
    "import plotly.graph_objects as go\n"
   ]
  },
  {
   "cell_type": "code",
   "execution_count": 3,
   "id": "light-crazy",
   "metadata": {
    "execution": {
     "iopub.execute_input": "2021-09-02T01:55:08.948539Z",
     "iopub.status.busy": "2021-09-02T01:55:08.947316Z",
     "iopub.status.idle": "2021-09-02T01:55:08.973351Z",
     "shell.execute_reply": "2021-09-02T01:55:08.972839Z"
    },
    "papermill": {
     "duration": 0.044441,
     "end_time": "2021-09-02T01:55:08.973481",
     "exception": false,
     "start_time": "2021-09-02T01:55:08.929040",
     "status": "completed"
    },
    "tags": []
   },
   "outputs": [],
   "source": [
    "#hide\n",
    "### ICO koreliacija"
   ]
  },
  {
   "cell_type": "code",
   "execution_count": 4,
   "id": "likely-bahrain",
   "metadata": {
    "execution": {
     "iopub.execute_input": "2021-09-02T01:55:09.008088Z",
     "iopub.status.busy": "2021-09-02T01:55:09.007393Z",
     "iopub.status.idle": "2021-09-02T01:55:10.049688Z",
     "shell.execute_reply": "2021-09-02T01:55:10.049099Z"
    },
    "papermill": {
     "duration": 1.060153,
     "end_time": "2021-09-02T01:55:10.049899",
     "exception": false,
     "start_time": "2021-09-02T01:55:08.989746",
     "status": "completed"
    },
    "tags": []
   },
   "outputs": [],
   "source": [
    "#hide\n",
    "import matplotlib.pyplot as plt\n",
    "import numpy as np\n",
    "import pandas as pd\n",
    "import seaborn as sns\n",
    "import matplotlib.pyplot as plt \n",
    "import matplotlib.dates as mdates\n",
    "import matplotlib.pyplot as plt"
   ]
  },
  {
   "cell_type": "code",
   "execution_count": 5,
   "id": "superior-blanket",
   "metadata": {
    "execution": {
     "iopub.execute_input": "2021-09-02T01:55:10.093396Z",
     "iopub.status.busy": "2021-09-02T01:55:10.092467Z",
     "iopub.status.idle": "2021-09-02T01:55:25.914159Z",
     "shell.execute_reply": "2021-09-02T01:55:25.913219Z"
    },
    "papermill": {
     "duration": 15.845115,
     "end_time": "2021-09-02T01:55:25.914303",
     "exception": false,
     "start_time": "2021-09-02T01:55:10.069188",
     "status": "completed"
    },
    "tags": []
   },
   "outputs": [
    {
     "name": "stderr",
     "output_type": "stream",
     "text": [
      "/home/runner/work/corr-app/corr-app/_notebooks/scripts/read_data.py:187: SettingWithCopyWarning:\n",
      "\n",
      "\n",
      "A value is trying to be set on a copy of a slice from a DataFrame.\n",
      "Try using .loc[row_indexer,col_indexer] = value instead\n",
      "\n",
      "See the caveats in the documentation: https://pandas.pydata.org/pandas-docs/stable/user_guide/indexing.html#returning-a-view-versus-a-copy\n",
      "\n"
     ]
    },
    {
     "name": "stderr",
     "output_type": "stream",
     "text": [
      "/home/runner/work/corr-app/corr-app/_notebooks/scripts/read_data.py:215: SettingWithCopyWarning:\n",
      "\n",
      "\n",
      "A value is trying to be set on a copy of a slice from a DataFrame.\n",
      "Try using .loc[row_indexer,col_indexer] = value instead\n",
      "\n",
      "See the caveats in the documentation: https://pandas.pydata.org/pandas-docs/stable/user_guide/indexing.html#returning-a-view-versus-a-copy\n",
      "\n"
     ]
    }
   ],
   "source": [
    "#hide\n",
    "df_all = read_api()\n",
    "#df_all = df_all.drop(['SP500', 'XAU', 'ETH', 'BTC'], axis=1)\n",
    "\n"
   ]
  },
  {
   "cell_type": "code",
   "execution_count": 6,
   "id": "mature-alert",
   "metadata": {
    "execution": {
     "iopub.execute_input": "2021-09-02T01:55:25.951886Z",
     "iopub.status.busy": "2021-09-02T01:55:25.947124Z",
     "iopub.status.idle": "2021-09-02T01:55:25.982153Z",
     "shell.execute_reply": "2021-09-02T01:55:25.981439Z"
    },
    "papermill": {
     "duration": 0.053093,
     "end_time": "2021-09-02T01:55:25.982344",
     "exception": false,
     "start_time": "2021-09-02T01:55:25.929251",
     "status": "completed"
    },
    "tags": []
   },
   "outputs": [],
   "source": [
    "#hide_input\n",
    "sum_corr = df_all.corr().sum().sort_values(ascending=True).index.values\n",
    "#df_all[sum_corr].corr()"
   ]
  },
  {
   "cell_type": "markdown",
   "id": "complex-syndicate",
   "metadata": {
    "papermill": {
     "duration": 0.015007,
     "end_time": "2021-09-02T01:55:26.012926",
     "exception": false,
     "start_time": "2021-09-02T01:55:25.997919",
     "status": "completed"
    },
    "tags": []
   },
   "source": [
    "## Išplėstinė koreliacijų matrica. "
   ]
  },
  {
   "cell_type": "code",
   "execution_count": 7,
   "id": "atomic-omaha",
   "metadata": {
    "execution": {
     "iopub.execute_input": "2021-09-02T01:55:26.047246Z",
     "iopub.status.busy": "2021-09-02T01:55:26.046592Z",
     "iopub.status.idle": "2021-09-02T01:55:27.785989Z",
     "shell.execute_reply": "2021-09-02T01:55:27.785412Z"
    },
    "papermill": {
     "duration": 1.758384,
     "end_time": "2021-09-02T01:55:27.786128",
     "exception": false,
     "start_time": "2021-09-02T01:55:26.027744",
     "status": "completed"
    },
    "tags": []
   },
   "outputs": [
    {
     "data": {
      "image/png": "[encoded data removed]",
      "text/plain": [
       "<Figure size 1080x792 with 2 Axes>"
      ]
     },
     "metadata": {
      "needs_background": "light"
     },
     "output_type": "display_data"
    }
   ],
   "source": [
    "#hide_input\n",
    "plt.figure(figsize=(15, 11))\n",
    "sns.heatmap(df_all[sum_corr].corr(), annot=True, cmap=\"cubehelix\") \n",
    "sns.set(font_scale=1.25)\n",
    "plt.savefig('corr_matrix.png', format='eps')"
   ]
  },
  {
   "cell_type": "code",
   "execution_count": 8,
   "id": "arbitrary-sullivan",
   "metadata": {
    "execution": {
     "iopub.execute_input": "2021-09-02T01:55:27.826765Z",
     "iopub.status.busy": "2021-09-02T01:55:27.826095Z",
     "iopub.status.idle": "2021-09-02T01:55:27.855794Z",
     "shell.execute_reply": "2021-09-02T01:55:27.856424Z"
    },
    "papermill": {
     "duration": 0.053451,
     "end_time": "2021-09-02T01:55:27.856641",
     "exception": false,
     "start_time": "2021-09-02T01:55:27.803190",
     "status": "completed"
    },
    "tags": []
   },
   "outputs": [],
   "source": [
    "#hide\n",
    "#df_all_mrk = read_api()"
   ]
  },
  {
   "cell_type": "code",
   "execution_count": 9,
   "id": "delayed-adapter",
   "metadata": {
    "execution": {
     "iopub.execute_input": "2021-09-02T01:55:27.897256Z",
     "iopub.status.busy": "2021-09-02T01:55:27.896573Z",
     "iopub.status.idle": "2021-09-02T01:55:27.928107Z",
     "shell.execute_reply": "2021-09-02T01:55:27.927551Z"
    },
    "papermill": {
     "duration": 0.05461,
     "end_time": "2021-09-02T01:55:27.928286",
     "exception": false,
     "start_time": "2021-09-02T01:55:27.873676",
     "status": "completed"
    },
    "tags": []
   },
   "outputs": [],
   "source": [
    "#hide\n",
    "#Koreliacijų koeficientai"
   ]
  },
  {
   "cell_type": "code",
   "execution_count": 10,
   "id": "seeing-celebration",
   "metadata": {
    "execution": {
     "iopub.execute_input": "2021-09-02T01:55:27.968448Z",
     "iopub.status.busy": "2021-09-02T01:55:27.967779Z",
     "iopub.status.idle": "2021-09-02T01:55:27.998061Z",
     "shell.execute_reply": "2021-09-02T01:55:27.997449Z"
    },
    "papermill": {
     "duration": 0.051297,
     "end_time": "2021-09-02T01:55:27.998218",
     "exception": false,
     "start_time": "2021-09-02T01:55:27.946921",
     "status": "completed"
    },
    "tags": []
   },
   "outputs": [],
   "source": [
    "#hide_input\n",
    "#sum_corr = df_all_mrk.corr().sum().sort_values(ascending=True).index.values\n",
    "#df_all_mrk[sum_corr].corr()"
   ]
  },
  {
   "cell_type": "code",
   "execution_count": 11,
   "id": "other-painting",
   "metadata": {
    "execution": {
     "iopub.execute_input": "2021-09-02T01:55:28.035712Z",
     "iopub.status.busy": "2021-09-02T01:55:28.035110Z",
     "iopub.status.idle": "2021-09-02T01:55:28.072393Z",
     "shell.execute_reply": "2021-09-02T01:55:28.071794Z"
    },
    "papermill": {
     "duration": 0.057167,
     "end_time": "2021-09-02T01:55:28.072564",
     "exception": false,
     "start_time": "2021-09-02T01:55:28.015397",
     "status": "completed"
    },
    "tags": []
   },
   "outputs": [],
   "source": [
    "#hide\n",
    "#Koreliacijos matrica. "
   ]
  },
  {
   "cell_type": "code",
   "execution_count": 12,
   "id": "modular-magnitude",
   "metadata": {
    "execution": {
     "iopub.execute_input": "2021-09-02T01:55:28.122962Z",
     "iopub.status.busy": "2021-09-02T01:55:28.118268Z",
     "iopub.status.idle": "2021-09-02T01:55:28.147913Z",
     "shell.execute_reply": "2021-09-02T01:55:28.147120Z"
    },
    "papermill": {
     "duration": 0.053771,
     "end_time": "2021-09-02T01:55:28.148103",
     "exception": false,
     "start_time": "2021-09-02T01:55:28.094332",
     "status": "completed"
    },
    "tags": []
   },
   "outputs": [],
   "source": [
    "#hide_input\n",
    "#plt.figure(figsize=(15, 8))\n",
    "#sns.heatmap(df_all_mrk[sum_corr].corr(), annot=True, cmap=\"BrBG\");\n",
    "#plt.savefig('corr_matrix_all.eps', format='eps')"
   ]
  },
  {
   "cell_type": "code",
   "execution_count": null,
   "id": "original-senator",
   "metadata": {
    "papermill": {
     "duration": 0.021749,
     "end_time": "2021-09-02T01:55:28.187670",
     "exception": false,
     "start_time": "2021-09-02T01:55:28.165921",
     "status": "completed"
    },
    "tags": []
   },
   "outputs": [],
   "source": []
  },
  {
   "cell_type": "code",
   "execution_count": null,
   "id": "saving-secretariat",
   "metadata": {
    "papermill": {
     "duration": 0.015831,
     "end_time": "2021-09-02T01:55:28.220402",
     "exception": false,
     "start_time": "2021-09-02T01:55:28.204571",
     "status": "completed"
    },
    "tags": []
   },
   "outputs": [],
   "source": []
  }
 ],
 "metadata": {
  "kernelspec": {
   "display_name": "Python 3",
   "language": "python",
   "name": "python3"
  },
  "language_info": {
   "codemirror_mode": {
    "name": "ipython",
    "version": 3
   },
   "file_extension": ".py",
   "mimetype": "text/x-python",
   "name": "python",
   "nbconvert_exporter": "python",
   "pygments_lexer": "ipython3",
   "version": "3.6.14"
  },
  "papermill": {
   "default_parameters": {},
   "duration": 22.570824,
   "end_time": "2021-09-02T01:55:28.746601",
   "environment_variables": {},
   "exception": null,
   "input_path": "App-Correlation_charts.ipynb",
   "output_path": "App-Correlation_charts.ipynb",
   "parameters": {},
   "start_time": "2021-09-02T01:55:06.175777",
   "version": "2.2.2"
  }
 },
 "nbformat": 4,
 "nbformat_minor": 5
}