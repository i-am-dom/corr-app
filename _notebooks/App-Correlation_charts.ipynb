{
 "cells": [
  {
   "cell_type": "markdown",
   "id": "touched-facility",
   "metadata": {
    "papermill": {
     "duration": 0.013755,
     "end_time": "2021-12-23T02:03:52.126456",
     "exception": false,
     "start_time": "2021-12-23T02:03:52.112701",
     "status": "completed"
    },
    "tags": []
   },
   "source": [
    "# Koreliacijų matrica\n",
    "> Išplėstinė koreliacijų matrica. \n",
    "\n",
    "- toc: true \n",
    "- badges: true\n",
    "- comments: false\n",
    "- categories: [Dominykas Tautkus]\n",
    "- image: images/matrix.png"
   ]
  },
  {
   "cell_type": "code",
   "execution_count": null,
   "id": "premium-weekend",
   "metadata": {
    "papermill": {
     "duration": 0.009217,
     "end_time": "2021-12-23T02:03:52.145690",
     "exception": false,
     "start_time": "2021-12-23T02:03:52.136473",
     "status": "completed"
    },
    "tags": []
   },
   "outputs": [],
   "source": []
  },
  {
   "cell_type": "code",
   "execution_count": 1,
   "id": "vertical-rebate",
   "metadata": {
    "execution": {
     "iopub.execute_input": "2021-12-23T02:03:52.174781Z",
     "iopub.status.busy": "2021-12-23T02:03:52.174301Z",
     "iopub.status.idle": "2021-12-23T02:03:52.184049Z",
     "shell.execute_reply": "2021-12-23T02:03:52.184397Z"
    },
    "papermill": {
     "duration": 0.029611,
     "end_time": "2021-12-23T02:03:52.184541",
     "exception": false,
     "start_time": "2021-12-23T02:03:52.154930",
     "status": "completed"
    },
    "tags": []
   },
   "outputs": [],
   "source": [
    "#hide\n",
    "%load_ext autoreload\n",
    "%autoreload 2"
   ]
  },
  {
   "cell_type": "code",
   "execution_count": 2,
   "id": "overall-advancement",
   "metadata": {
    "execution": {
     "iopub.execute_input": "2021-12-23T02:03:52.206543Z",
     "iopub.status.busy": "2021-12-23T02:03:52.206089Z",
     "iopub.status.idle": "2021-12-23T02:03:53.502160Z",
     "shell.execute_reply": "2021-12-23T02:03:53.501722Z"
    },
    "papermill": {
     "duration": 1.308395,
     "end_time": "2021-12-23T02:03:53.502277",
     "exception": false,
     "start_time": "2021-12-23T02:03:52.193882",
     "status": "completed"
    },
    "tags": []
   },
   "outputs": [],
   "source": [
    "#hide\n",
    "from scripts.read_data import read_api\n",
    "from IPython.display import HTML\n",
    "import plotly.graph_objects as go\n"
   ]
  },
  {
   "cell_type": "code",
   "execution_count": 3,
   "id": "light-crazy",
   "metadata": {
    "execution": {
     "iopub.execute_input": "2021-12-23T02:03:53.531974Z",
     "iopub.status.busy": "2021-12-23T02:03:53.531047Z",
     "iopub.status.idle": "2021-12-23T02:03:53.549872Z",
     "shell.execute_reply": "2021-12-23T02:03:53.549504Z"
    },
    "papermill": {
     "duration": 0.038048,
     "end_time": "2021-12-23T02:03:53.549974",
     "exception": false,
     "start_time": "2021-12-23T02:03:53.511926",
     "status": "completed"
    },
    "tags": []
   },
   "outputs": [],
   "source": [
    "#hide\n",
    "### ICO koreliacija"
   ]
  },
  {
   "cell_type": "code",
   "execution_count": 4,
   "id": "likely-bahrain",
   "metadata": {
    "execution": {
     "iopub.execute_input": "2021-12-23T02:03:53.575874Z",
     "iopub.status.busy": "2021-12-23T02:03:53.573599Z",
     "iopub.status.idle": "2021-12-23T02:03:54.448646Z",
     "shell.execute_reply": "2021-12-23T02:03:54.447678Z"
    },
    "papermill": {
     "duration": 0.889402,
     "end_time": "2021-12-23T02:03:54.448790",
     "exception": false,
     "start_time": "2021-12-23T02:03:53.559388",
     "status": "completed"
    },
    "tags": []
   },
   "outputs": [],
   "source": [
    "#hide\n",
    "import matplotlib.pyplot as plt\n",
    "import numpy as np\n",
    "import pandas as pd\n",
    "import seaborn as sns\n",
    "import matplotlib.pyplot as plt \n",
    "import matplotlib.dates as mdates\n",
    "import matplotlib.pyplot as plt"
   ]
  },
  {
   "cell_type": "code",
   "execution_count": 5,
   "id": "superior-blanket",
   "metadata": {
    "execution": {
     "iopub.execute_input": "2021-12-23T02:03:54.477997Z",
     "iopub.status.busy": "2021-12-23T02:03:54.477483Z",
     "iopub.status.idle": "2021-12-23T02:04:07.438413Z",
     "shell.execute_reply": "2021-12-23T02:04:07.437949Z"
    },
    "papermill": {
     "duration": 12.978778,
     "end_time": "2021-12-23T02:04:07.438526",
     "exception": false,
     "start_time": "2021-12-23T02:03:54.459748",
     "status": "completed"
    },
    "tags": []
   },
   "outputs": [
    {
     "name": "stderr",
     "output_type": "stream",
     "text": [
      "/home/runner/work/corr-app/corr-app/_notebooks/scripts/read_data.py:187: SettingWithCopyWarning:\n",
      "\n",
      "\n",
      "A value is trying to be set on a copy of a slice from a DataFrame.\n",
      "Try using .loc[row_indexer,col_indexer] = value instead\n",
      "\n",
      "See the caveats in the documentation: https://pandas.pydata.org/pandas-docs/stable/user_guide/indexing.html#returning-a-view-versus-a-copy\n",
      "\n"
     ]
    },
    {
     "name": "stderr",
     "output_type": "stream",
     "text": [
      "/home/runner/work/corr-app/corr-app/_notebooks/scripts/read_data.py:215: SettingWithCopyWarning:\n",
      "\n",
      "\n",
      "A value is trying to be set on a copy of a slice from a DataFrame.\n",
      "Try using .loc[row_indexer,col_indexer] = value instead\n",
      "\n",
      "See the caveats in the documentation: https://pandas.pydata.org/pandas-docs/stable/user_guide/indexing.html#returning-a-view-versus-a-copy\n",
      "\n"
     ]
    }
   ],
   "source": [
    "#hide\n",
    "df_all = read_api()\n",
    "#df_all = df_all.drop(['SP500', 'XAU', 'ETH', 'BTC'], axis=1)\n",
    "\n"
   ]
  },
  {
   "cell_type": "code",
   "execution_count": 6,
   "id": "mature-alert",
   "metadata": {
    "execution": {
     "iopub.execute_input": "2021-12-23T02:04:07.465937Z",
     "iopub.status.busy": "2021-12-23T02:04:07.465472Z",
     "iopub.status.idle": "2021-12-23T02:04:07.493266Z",
     "shell.execute_reply": "2021-12-23T02:04:07.493977Z"
    },
    "papermill": {
     "duration": 0.045496,
     "end_time": "2021-12-23T02:04:07.494128",
     "exception": false,
     "start_time": "2021-12-23T02:04:07.448632",
     "status": "completed"
    },
    "tags": []
   },
   "outputs": [],
   "source": [
    "#hide_input\n",
    "sum_corr = df_all.corr().sum().sort_values(ascending=True).index.values\n",
    "#df_all[sum_corr].corr()"
   ]
  },
  {
   "cell_type": "markdown",
   "id": "complex-syndicate",
   "metadata": {
    "papermill": {
     "duration": 0.011583,
     "end_time": "2021-12-23T02:04:07.516940",
     "exception": false,
     "start_time": "2021-12-23T02:04:07.505357",
     "status": "completed"
    },
    "tags": []
   },
   "source": [
    "## Išplėstinė koreliacijų matrica. "
   ]
  },
  {
   "cell_type": "code",
   "execution_count": 7,
   "id": "atomic-omaha",
   "metadata": {
    "execution": {
     "iopub.execute_input": "2021-12-23T02:04:07.543469Z",
     "iopub.status.busy": "2021-12-23T02:04:07.542465Z",
     "iopub.status.idle": "2021-12-23T02:04:08.804319Z",
     "shell.execute_reply": "2021-12-23T02:04:08.804727Z"
    },
    "papermill": {
     "duration": 1.276853,
     "end_time": "2021-12-23T02:04:08.804879",
     "exception": false,
     "start_time": "2021-12-23T02:04:07.528026",
     "status": "completed"
    },
    "tags": []
   },
   "outputs": [
    {
     "data": {
      "image/png": "[encoded data removed]",
      "text/plain": [
       "<Figure size 1080x792 with 2 Axes>"
      ]
     },
     "metadata": {
      "needs_background": "light"
     },
     "output_type": "display_data"
    }
   ],
   "source": [
    "#hide_input\n",
    "plt.figure(figsize=(15, 11))\n",
    "sns.heatmap(df_all[sum_corr].corr(), annot=True, cmap=\"cubehelix\") \n",
    "sns.set(font_scale=1.25)\n",
    "plt.savefig('corr_matrix.png', format='eps')"
   ]
  },
  {
   "cell_type": "code",
   "execution_count": 8,
   "id": "arbitrary-sullivan",
   "metadata": {
    "execution": {
     "iopub.execute_input": "2021-12-23T02:04:08.832667Z",
     "iopub.status.busy": "2021-12-23T02:04:08.832134Z",
     "iopub.status.idle": "2021-12-23T02:04:08.855430Z",
     "shell.execute_reply": "2021-12-23T02:04:08.854964Z"
    },
    "papermill": {
     "duration": 0.038551,
     "end_time": "2021-12-23T02:04:08.855554",
     "exception": false,
     "start_time": "2021-12-23T02:04:08.817003",
     "status": "completed"
    },
    "tags": []
   },
   "outputs": [],
   "source": [
    "#hide\n",
    "#df_all_mrk = read_api()"
   ]
  },
  {
   "cell_type": "code",
   "execution_count": 9,
   "id": "delayed-adapter",
   "metadata": {
    "execution": {
     "iopub.execute_input": "2021-12-23T02:04:08.885400Z",
     "iopub.status.busy": "2021-12-23T02:04:08.884875Z",
     "iopub.status.idle": "2021-12-23T02:04:08.910031Z",
     "shell.execute_reply": "2021-12-23T02:04:08.910456Z"
    },
    "papermill": {
     "duration": 0.041145,
     "end_time": "2021-12-23T02:04:08.910592",
     "exception": false,
     "start_time": "2021-12-23T02:04:08.869447",
     "status": "completed"
    },
    "tags": []
   },
   "outputs": [],
   "source": [
    "#hide\n",
    "#Koreliacijų koeficientai"
   ]
  },
  {
   "cell_type": "code",
   "execution_count": 10,
   "id": "seeing-celebration",
   "metadata": {
    "execution": {
     "iopub.execute_input": "2021-12-23T02:04:08.939626Z",
     "iopub.status.busy": "2021-12-23T02:04:08.939109Z",
     "iopub.status.idle": "2021-12-23T02:04:08.962353Z",
     "shell.execute_reply": "2021-12-23T02:04:08.961930Z"
    },
    "papermill": {
     "duration": 0.038552,
     "end_time": "2021-12-23T02:04:08.962466",
     "exception": false,
     "start_time": "2021-12-23T02:04:08.923914",
     "status": "completed"
    },
    "tags": []
   },
   "outputs": [],
   "source": [
    "#hide_input\n",
    "#sum_corr = df_all_mrk.corr().sum().sort_values(ascending=True).index.values\n",
    "#df_all_mrk[sum_corr].corr()"
   ]
  },
  {
   "cell_type": "code",
   "execution_count": 11,
   "id": "other-painting",
   "metadata": {
    "execution": {
     "iopub.execute_input": "2021-12-23T02:04:08.991794Z",
     "iopub.status.busy": "2021-12-23T02:04:08.991273Z",
     "iopub.status.idle": "2021-12-23T02:04:09.014735Z",
     "shell.execute_reply": "2021-12-23T02:04:09.014311Z"
    },
    "papermill": {
     "duration": 0.039475,
     "end_time": "2021-12-23T02:04:09.014849",
     "exception": false,
     "start_time": "2021-12-23T02:04:08.975374",
     "status": "completed"
    },
    "tags": []
   },
   "outputs": [],
   "source": [
    "#hide\n",
    "#Koreliacijos matrica. "
   ]
  },
  {
   "cell_type": "code",
   "execution_count": 12,
   "id": "modular-magnitude",
   "metadata": {
    "execution": {
     "iopub.execute_input": "2021-12-23T02:04:09.046243Z",
     "iopub.status.busy": "2021-12-23T02:04:09.045738Z",
     "iopub.status.idle": "2021-12-23T02:04:09.067979Z",
     "shell.execute_reply": "2021-12-23T02:04:09.067464Z"
    },
    "papermill": {
     "duration": 0.040139,
     "end_time": "2021-12-23T02:04:09.068097",
     "exception": false,
     "start_time": "2021-12-23T02:04:09.027958",
     "status": "completed"
    },
    "tags": []
   },
   "outputs": [],
   "source": [
    "#hide_input\n",
    "#plt.figure(figsize=(15, 8))\n",
    "#sns.heatmap(df_all_mrk[sum_corr].corr(), annot=True, cmap=\"BrBG\");\n",
    "#plt.savefig('corr_matrix_all.eps', format='eps')"
   ]
  },
  {
   "cell_type": "code",
   "execution_count": null,
   "id": "original-senator",
   "metadata": {
    "papermill": {
     "duration": 0.014207,
     "end_time": "2021-12-23T02:04:09.096304",
     "exception": false,
     "start_time": "2021-12-23T02:04:09.082097",
     "status": "completed"
    },
    "tags": []
   },
   "outputs": [],
   "source": []
  },
  {
   "cell_type": "code",
   "execution_count": null,
   "id": "saving-secretariat",
   "metadata": {
    "papermill": {
     "duration": 0.012885,
     "end_time": "2021-12-23T02:04:09.122117",
     "exception": false,
     "start_time": "2021-12-23T02:04:09.109232",
     "status": "completed"
    },
    "tags": []
   },
   "outputs": [],
   "source": []
  }
 ],
 "metadata": {
  "kernelspec": {
   "display_name": "Python 3",
   "language": "python",
   "name": "python3"
  },
  "language_info": {
   "codemirror_mode": {
    "name": "ipython",
    "version": 3
   },
   "file_extension": ".py",
   "mimetype": "text/x-python",
   "name": "python",
   "nbconvert_exporter": "python",
   "pygments_lexer": "ipython3",
   "version": "3.6.15"
  },
  "papermill": {
   "default_parameters": {},
   "duration": 18.65095,
   "end_time": "2021-12-23T02:04:09.643168",
   "environment_variables": {},
   "exception": null,
   "input_path": "App-Correlation_charts.ipynb",
   "output_path": "App-Correlation_charts.ipynb",
   "parameters": {},
   "start_time": "2021-12-23T02:03:50.992218",
   "version": "2.2.2"
  }
 },
 "nbformat": 4,
 "nbformat_minor": 5
}