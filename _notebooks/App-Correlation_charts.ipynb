{
 "cells": [
  {
   "cell_type": "markdown",
   "id": "touched-facility",
   "metadata": {
    "papermill": {
     "duration": 0.014592,
     "end_time": "2022-03-05T02:08:54.975993",
     "exception": false,
     "start_time": "2022-03-05T02:08:54.961401",
     "status": "completed"
    },
    "tags": []
   },
   "source": [
    "# Koreliacijų matrica\n",
    "> Išplėstinė koreliacijų matrica. \n",
    "\n",
    "- toc: true \n",
    "- badges: true\n",
    "- comments: false\n",
    "- categories: [Dominykas Tautkus]\n",
    "- image: images/matrix.png"
   ]
  },
  {
   "cell_type": "code",
   "execution_count": null,
   "id": "premium-weekend",
   "metadata": {
    "papermill": {
     "duration": 0.011319,
     "end_time": "2022-03-05T02:08:54.999205",
     "exception": false,
     "start_time": "2022-03-05T02:08:54.987886",
     "status": "completed"
    },
    "tags": []
   },
   "outputs": [],
   "source": []
  },
  {
   "cell_type": "code",
   "execution_count": 1,
   "id": "vertical-rebate",
   "metadata": {
    "execution": {
     "iopub.execute_input": "2022-03-05T02:08:55.032421Z",
     "iopub.status.busy": "2022-03-05T02:08:55.031904Z",
     "iopub.status.idle": "2022-03-05T02:08:55.041046Z",
     "shell.execute_reply": "2022-03-05T02:08:55.041488Z"
    },
    "papermill": {
     "duration": 0.030328,
     "end_time": "2022-03-05T02:08:55.041625",
     "exception": false,
     "start_time": "2022-03-05T02:08:55.011297",
     "status": "completed"
    },
    "tags": []
   },
   "outputs": [],
   "source": [
    "#hide\n",
    "%load_ext autoreload\n",
    "%autoreload 2"
   ]
  },
  {
   "cell_type": "code",
   "execution_count": 2,
   "id": "overall-advancement",
   "metadata": {
    "execution": {
     "iopub.execute_input": "2022-03-05T02:08:55.067100Z",
     "iopub.status.busy": "2022-03-05T02:08:55.066566Z",
     "iopub.status.idle": "2022-03-05T02:08:56.115458Z",
     "shell.execute_reply": "2022-03-05T02:08:56.115013Z"
    },
    "papermill": {
     "duration": 1.062681,
     "end_time": "2022-03-05T02:08:56.115569",
     "exception": false,
     "start_time": "2022-03-05T02:08:55.052888",
     "status": "completed"
    },
    "tags": []
   },
   "outputs": [],
   "source": [
    "#hide\n",
    "from scripts.read_data import read_api\n",
    "from IPython.display import HTML\n",
    "import plotly.graph_objects as go\n"
   ]
  },
  {
   "cell_type": "code",
   "execution_count": 3,
   "id": "light-crazy",
   "metadata": {
    "execution": {
     "iopub.execute_input": "2022-03-05T02:08:56.145747Z",
     "iopub.status.busy": "2022-03-05T02:08:56.142895Z",
     "iopub.status.idle": "2022-03-05T02:08:56.164896Z",
     "shell.execute_reply": "2022-03-05T02:08:56.164488Z"
    },
    "papermill": {
     "duration": 0.037951,
     "end_time": "2022-03-05T02:08:56.165002",
     "exception": false,
     "start_time": "2022-03-05T02:08:56.127051",
     "status": "completed"
    },
    "tags": []
   },
   "outputs": [],
   "source": [
    "#hide\n",
    "### ICO koreliacija"
   ]
  },
  {
   "cell_type": "code",
   "execution_count": 4,
   "id": "likely-bahrain",
   "metadata": {
    "execution": {
     "iopub.execute_input": "2022-03-05T02:08:56.191035Z",
     "iopub.status.busy": "2022-03-05T02:08:56.190517Z",
     "iopub.status.idle": "2022-03-05T02:08:57.041966Z",
     "shell.execute_reply": "2022-03-05T02:08:57.041496Z"
    },
    "papermill": {
     "duration": 0.86579,
     "end_time": "2022-03-05T02:08:57.042076",
     "exception": false,
     "start_time": "2022-03-05T02:08:56.176286",
     "status": "completed"
    },
    "tags": []
   },
   "outputs": [],
   "source": [
    "#hide\n",
    "import matplotlib.pyplot as plt\n",
    "import numpy as np\n",
    "import pandas as pd\n",
    "import seaborn as sns\n",
    "import matplotlib.pyplot as plt \n",
    "import matplotlib.dates as mdates\n",
    "import matplotlib.pyplot as plt"
   ]
  },
  {
   "cell_type": "code",
   "execution_count": 5,
   "id": "superior-blanket",
   "metadata": {
    "execution": {
     "iopub.execute_input": "2022-03-05T02:08:57.068046Z",
     "iopub.status.busy": "2022-03-05T02:08:57.067538Z",
     "iopub.status.idle": "2022-03-05T02:09:09.844316Z",
     "shell.execute_reply": "2022-03-05T02:09:09.843847Z"
    },
    "papermill": {
     "duration": 12.790924,
     "end_time": "2022-03-05T02:09:09.844426",
     "exception": false,
     "start_time": "2022-03-05T02:08:57.053502",
     "status": "completed"
    },
    "tags": []
   },
   "outputs": [
    {
     "name": "stderr",
     "output_type": "stream",
     "text": [
      "/home/runner/work/corr-app/corr-app/_notebooks/scripts/read_data.py:187: SettingWithCopyWarning:\n",
      "\n",
      "\n",
      "A value is trying to be set on a copy of a slice from a DataFrame.\n",
      "Try using .loc[row_indexer,col_indexer] = value instead\n",
      "\n",
      "See the caveats in the documentation: https://pandas.pydata.org/pandas-docs/stable/user_guide/indexing.html#returning-a-view-versus-a-copy\n",
      "\n"
     ]
    },
    {
     "name": "stderr",
     "output_type": "stream",
     "text": [
      "/home/runner/work/corr-app/corr-app/_notebooks/scripts/read_data.py:215: SettingWithCopyWarning:\n",
      "\n",
      "\n",
      "A value is trying to be set on a copy of a slice from a DataFrame.\n",
      "Try using .loc[row_indexer,col_indexer] = value instead\n",
      "\n",
      "See the caveats in the documentation: https://pandas.pydata.org/pandas-docs/stable/user_guide/indexing.html#returning-a-view-versus-a-copy\n",
      "\n"
     ]
    }
   ],
   "source": [
    "#hide\n",
    "df_all = read_api()\n",
    "#df_all = df_all.drop(['SP500', 'XAU', 'ETH', 'BTC'], axis=1)\n",
    "\n"
   ]
  },
  {
   "cell_type": "code",
   "execution_count": 6,
   "id": "mature-alert",
   "metadata": {
    "execution": {
     "iopub.execute_input": "2022-03-05T02:09:09.927025Z",
     "iopub.status.busy": "2022-03-05T02:09:09.926508Z",
     "iopub.status.idle": "2022-03-05T02:09:09.955626Z",
     "shell.execute_reply": "2022-03-05T02:09:09.955181Z"
    },
    "papermill": {
     "duration": 0.081374,
     "end_time": "2022-03-05T02:09:09.955735",
     "exception": false,
     "start_time": "2022-03-05T02:09:09.874361",
     "status": "completed"
    },
    "tags": []
   },
   "outputs": [],
   "source": [
    "#hide_input\n",
    "sum_corr = df_all.corr().sum().sort_values(ascending=True).index.values\n",
    "#df_all[sum_corr].corr()"
   ]
  },
  {
   "cell_type": "markdown",
   "id": "complex-syndicate",
   "metadata": {
    "papermill": {
     "duration": 0.013832,
     "end_time": "2022-03-05T02:09:09.984310",
     "exception": false,
     "start_time": "2022-03-05T02:09:09.970478",
     "status": "completed"
    },
    "tags": []
   },
   "source": [
    "## Išplėstinė koreliacijų matrica. "
   ]
  },
  {
   "cell_type": "code",
   "execution_count": 7,
   "id": "atomic-omaha",
   "metadata": {
    "execution": {
     "iopub.execute_input": "2022-03-05T02:09:10.051408Z",
     "iopub.status.busy": "2022-03-05T02:09:10.050906Z",
     "iopub.status.idle": "2022-03-05T02:09:11.188918Z",
     "shell.execute_reply": "2022-03-05T02:09:11.189331Z"
    },
    "papermill": {
     "duration": 1.154412,
     "end_time": "2022-03-05T02:09:11.189458",
     "exception": false,
     "start_time": "2022-03-05T02:09:10.035046",
     "status": "completed"
    },
    "tags": []
   },
   "outputs": [
    {
     "data": {
      "image/png": "[encoded data removed]",
      "text/plain": [
       "<Figure size 1080x792 with 2 Axes>"
      ]
     },
     "metadata": {
      "needs_background": "light"
     },
     "output_type": "display_data"
    }
   ],
   "source": [
    "#hide_input\n",
    "plt.figure(figsize=(15, 11))\n",
    "sns.heatmap(df_all[sum_corr].corr(), annot=True, cmap=\"cubehelix\") \n",
    "sns.set(font_scale=1.25)\n",
    "plt.savefig('corr_matrix.png', format='eps')"
   ]
  },
  {
   "cell_type": "code",
   "execution_count": 8,
   "id": "arbitrary-sullivan",
   "metadata": {
    "execution": {
     "iopub.execute_input": "2022-03-05T02:09:11.223670Z",
     "iopub.status.busy": "2022-03-05T02:09:11.221151Z",
     "iopub.status.idle": "2022-03-05T02:09:11.246341Z",
     "shell.execute_reply": "2022-03-05T02:09:11.245915Z"
    },
    "papermill": {
     "duration": 0.042999,
     "end_time": "2022-03-05T02:09:11.246451",
     "exception": false,
     "start_time": "2022-03-05T02:09:11.203452",
     "status": "completed"
    },
    "tags": []
   },
   "outputs": [],
   "source": [
    "#hide\n",
    "#df_all_mrk = read_api()"
   ]
  },
  {
   "cell_type": "code",
   "execution_count": 9,
   "id": "delayed-adapter",
   "metadata": {
    "execution": {
     "iopub.execute_input": "2022-03-05T02:09:11.277022Z",
     "iopub.status.busy": "2022-03-05T02:09:11.276516Z",
     "iopub.status.idle": "2022-03-05T02:09:11.301833Z",
     "shell.execute_reply": "2022-03-05T02:09:11.302253Z"
    },
    "papermill": {
     "duration": 0.042017,
     "end_time": "2022-03-05T02:09:11.302381",
     "exception": false,
     "start_time": "2022-03-05T02:09:11.260364",
     "status": "completed"
    },
    "tags": []
   },
   "outputs": [],
   "source": [
    "#hide\n",
    "#Koreliacijų koeficientai"
   ]
  },
  {
   "cell_type": "code",
   "execution_count": 10,
   "id": "seeing-celebration",
   "metadata": {
    "execution": {
     "iopub.execute_input": "2022-03-05T02:09:11.334388Z",
     "iopub.status.busy": "2022-03-05T02:09:11.333897Z",
     "iopub.status.idle": "2022-03-05T02:09:11.358136Z",
     "shell.execute_reply": "2022-03-05T02:09:11.357734Z"
    },
    "papermill": {
     "duration": 0.041112,
     "end_time": "2022-03-05T02:09:11.358240",
     "exception": false,
     "start_time": "2022-03-05T02:09:11.317128",
     "status": "completed"
    },
    "tags": []
   },
   "outputs": [],
   "source": [
    "#hide_input\n",
    "#sum_corr = df_all_mrk.corr().sum().sort_values(ascending=True).index.values\n",
    "#df_all_mrk[sum_corr].corr()"
   ]
  },
  {
   "cell_type": "code",
   "execution_count": 11,
   "id": "other-painting",
   "metadata": {
    "execution": {
     "iopub.execute_input": "2022-03-05T02:09:11.388518Z",
     "iopub.status.busy": "2022-03-05T02:09:11.388036Z",
     "iopub.status.idle": "2022-03-05T02:09:11.412986Z",
     "shell.execute_reply": "2022-03-05T02:09:11.412578Z"
    },
    "papermill": {
     "duration": 0.041165,
     "end_time": "2022-03-05T02:09:11.413095",
     "exception": false,
     "start_time": "2022-03-05T02:09:11.371930",
     "status": "completed"
    },
    "tags": []
   },
   "outputs": [],
   "source": [
    "#hide\n",
    "#Koreliacijos matrica. "
   ]
  },
  {
   "cell_type": "code",
   "execution_count": 12,
   "id": "modular-magnitude",
   "metadata": {
    "execution": {
     "iopub.execute_input": "2022-03-05T02:09:11.443930Z",
     "iopub.status.busy": "2022-03-05T02:09:11.443422Z",
     "iopub.status.idle": "2022-03-05T02:09:11.469305Z",
     "shell.execute_reply": "2022-03-05T02:09:11.468425Z"
    },
    "papermill": {
     "duration": 0.042449,
     "end_time": "2022-03-05T02:09:11.469411",
     "exception": false,
     "start_time": "2022-03-05T02:09:11.426962",
     "status": "completed"
    },
    "tags": []
   },
   "outputs": [],
   "source": [
    "#hide_input\n",
    "#plt.figure(figsize=(15, 8))\n",
    "#sns.heatmap(df_all_mrk[sum_corr].corr(), annot=True, cmap=\"BrBG\");\n",
    "#plt.savefig('corr_matrix_all.eps', format='eps')"
   ]
  },
  {
   "cell_type": "code",
   "execution_count": null,
   "id": "original-senator",
   "metadata": {
    "papermill": {
     "duration": 0.013601,
     "end_time": "2022-03-05T02:09:11.496635",
     "exception": false,
     "start_time": "2022-03-05T02:09:11.483034",
     "status": "completed"
    },
    "tags": []
   },
   "outputs": [],
   "source": []
  },
  {
   "cell_type": "code",
   "execution_count": null,
   "id": "saving-secretariat",
   "metadata": {
    "papermill": {
     "duration": 0.013588,
     "end_time": "2022-03-05T02:09:11.523803",
     "exception": false,
     "start_time": "2022-03-05T02:09:11.510215",
     "status": "completed"
    },
    "tags": []
   },
   "outputs": [],
   "source": []
  }
 ],
 "metadata": {
  "kernelspec": {
   "display_name": "Python 3",
   "language": "python",
   "name": "python3"
  },
  "language_info": {
   "codemirror_mode": {
    "name": "ipython",
    "version": 3
   },
   "file_extension": ".py",
   "mimetype": "text/x-python",
   "name": "python",
   "nbconvert_exporter": "python",
   "pygments_lexer": "ipython3",
   "version": "3.6.15"
  },
  "papermill": {
   "default_parameters": {},
   "duration": 17.905562,
   "end_time": "2022-03-05T02:09:11.954263",
   "environment_variables": {},
   "exception": null,
   "input_path": "App-Correlation_charts.ipynb",
   "output_path": "App-Correlation_charts.ipynb",
   "parameters": {},
   "start_time": "2022-03-05T02:08:54.048701",
   "version": "2.2.2"
  }
 },
 "nbformat": 4,
 "nbformat_minor": 5
}