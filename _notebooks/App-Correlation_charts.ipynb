{
 "cells": [
  {
   "cell_type": "markdown",
   "id": "touched-facility",
   "metadata": {
    "papermill": {
     "duration": 0.014114,
     "end_time": "2022-10-28T03:19:08.442118",
     "exception": false,
     "start_time": "2022-10-28T03:19:08.428004",
     "status": "completed"
    },
    "tags": []
   },
   "source": [
    "# Koreliacijų matrica\n",
    "> Išplėstinė koreliacijų matrica. \n",
    "\n",
    "- toc: true \n",
    "- badges: true\n",
    "- comments: false\n",
    "- categories: [Dominykas Tautkus]\n",
    "- image: images/matrix.png"
   ]
  },
  {
   "cell_type": "code",
   "execution_count": null,
   "id": "premium-weekend",
   "metadata": {
    "papermill": {
     "duration": 0.010683,
     "end_time": "2022-10-28T03:19:08.464155",
     "exception": false,
     "start_time": "2022-10-28T03:19:08.453472",
     "status": "completed"
    },
    "tags": []
   },
   "outputs": [],
   "source": []
  },
  {
   "cell_type": "code",
   "execution_count": 1,
   "id": "vertical-rebate",
   "metadata": {
    "execution": {
     "iopub.execute_input": "2022-10-28T03:19:08.495099Z",
     "iopub.status.busy": "2022-10-28T03:19:08.492786Z",
     "iopub.status.idle": "2022-10-28T03:19:08.504797Z",
     "shell.execute_reply": "2022-10-28T03:19:08.505233Z"
    },
    "papermill": {
     "duration": 0.030504,
     "end_time": "2022-10-28T03:19:08.505359",
     "exception": false,
     "start_time": "2022-10-28T03:19:08.474855",
     "status": "completed"
    },
    "tags": []
   },
   "outputs": [],
   "source": [
    "#hide\n",
    "%load_ext autoreload\n",
    "%autoreload 2"
   ]
  },
  {
   "cell_type": "code",
   "execution_count": 2,
   "id": "overall-advancement",
   "metadata": {
    "execution": {
     "iopub.execute_input": "2022-10-28T03:19:08.529717Z",
     "iopub.status.busy": "2022-10-28T03:19:08.529166Z",
     "iopub.status.idle": "2022-10-28T03:19:09.818145Z",
     "shell.execute_reply": "2022-10-28T03:19:09.817200Z"
    },
    "papermill": {
     "duration": 1.302295,
     "end_time": "2022-10-28T03:19:09.818287",
     "exception": false,
     "start_time": "2022-10-28T03:19:08.515992",
     "status": "completed"
    },
    "tags": []
   },
   "outputs": [],
   "source": [
    "#hide\n",
    "from scripts.read_data import read_api\n",
    "from IPython.display import HTML\n",
    "import plotly.graph_objects as go\n"
   ]
  },
  {
   "cell_type": "code",
   "execution_count": 3,
   "id": "light-crazy",
   "metadata": {
    "execution": {
     "iopub.execute_input": "2022-10-28T03:19:09.846806Z",
     "iopub.status.busy": "2022-10-28T03:19:09.844083Z",
     "iopub.status.idle": "2022-10-28T03:19:09.865469Z",
     "shell.execute_reply": "2022-10-28T03:19:09.865892Z"
    },
    "papermill": {
     "duration": 0.036784,
     "end_time": "2022-10-28T03:19:09.866011",
     "exception": false,
     "start_time": "2022-10-28T03:19:09.829227",
     "status": "completed"
    },
    "tags": []
   },
   "outputs": [],
   "source": [
    "#hide\n",
    "### ICO koreliacija"
   ]
  },
  {
   "cell_type": "code",
   "execution_count": 4,
   "id": "likely-bahrain",
   "metadata": {
    "execution": {
     "iopub.execute_input": "2022-10-28T03:19:09.891009Z",
     "iopub.status.busy": "2022-10-28T03:19:09.889955Z",
     "iopub.status.idle": "2022-10-28T03:19:10.732841Z",
     "shell.execute_reply": "2022-10-28T03:19:10.731875Z"
    },
    "papermill": {
     "duration": 0.85631,
     "end_time": "2022-10-28T03:19:10.732968",
     "exception": false,
     "start_time": "2022-10-28T03:19:09.876658",
     "status": "completed"
    },
    "tags": []
   },
   "outputs": [],
   "source": [
    "#hide\n",
    "import matplotlib.pyplot as plt\n",
    "import numpy as np\n",
    "import pandas as pd\n",
    "import seaborn as sns\n",
    "import matplotlib.pyplot as plt \n",
    "import matplotlib.dates as mdates\n",
    "import matplotlib.pyplot as plt"
   ]
  },
  {
   "cell_type": "code",
   "execution_count": 5,
   "id": "superior-blanket",
   "metadata": {
    "execution": {
     "iopub.execute_input": "2022-10-28T03:19:10.762048Z",
     "iopub.status.busy": "2022-10-28T03:19:10.759343Z",
     "iopub.status.idle": "2022-10-28T03:19:23.094972Z",
     "shell.execute_reply": "2022-10-28T03:19:23.094465Z"
    },
    "papermill": {
     "duration": 12.351137,
     "end_time": "2022-10-28T03:19:23.095083",
     "exception": false,
     "start_time": "2022-10-28T03:19:10.743946",
     "status": "completed"
    },
    "tags": []
   },
   "outputs": [
    {
     "name": "stderr",
     "output_type": "stream",
     "text": [
      "/home/runner/work/corr-app/corr-app/_notebooks/scripts/read_data.py:187: SettingWithCopyWarning:\n",
      "\n",
      "\n",
      "A value is trying to be set on a copy of a slice from a DataFrame.\n",
      "Try using .loc[row_indexer,col_indexer] = value instead\n",
      "\n",
      "See the caveats in the documentation: https://pandas.pydata.org/pandas-docs/stable/user_guide/indexing.html#returning-a-view-versus-a-copy\n",
      "\n"
     ]
    },
    {
     "name": "stderr",
     "output_type": "stream",
     "text": [
      "/home/runner/work/corr-app/corr-app/_notebooks/scripts/read_data.py:215: SettingWithCopyWarning:\n",
      "\n",
      "\n",
      "A value is trying to be set on a copy of a slice from a DataFrame.\n",
      "Try using .loc[row_indexer,col_indexer] = value instead\n",
      "\n",
      "See the caveats in the documentation: https://pandas.pydata.org/pandas-docs/stable/user_guide/indexing.html#returning-a-view-versus-a-copy\n",
      "\n"
     ]
    }
   ],
   "source": [
    "#hide\n",
    "df_all = read_api()\n",
    "#df_all = df_all.drop(['SP500', 'XAU', 'ETH', 'BTC'], axis=1)\n",
    "\n"
   ]
  },
  {
   "cell_type": "code",
   "execution_count": 6,
   "id": "mature-alert",
   "metadata": {
    "execution": {
     "iopub.execute_input": "2022-10-28T03:19:23.125749Z",
     "iopub.status.busy": "2022-10-28T03:19:23.123356Z",
     "iopub.status.idle": "2022-10-28T03:19:23.151668Z",
     "shell.execute_reply": "2022-10-28T03:19:23.151209Z"
    },
    "papermill": {
     "duration": 0.044075,
     "end_time": "2022-10-28T03:19:23.151765",
     "exception": false,
     "start_time": "2022-10-28T03:19:23.107690",
     "status": "completed"
    },
    "tags": []
   },
   "outputs": [],
   "source": [
    "#hide_input\n",
    "sum_corr = df_all.corr().sum().sort_values(ascending=True).index.values\n",
    "#df_all[sum_corr].corr()"
   ]
  },
  {
   "cell_type": "markdown",
   "id": "complex-syndicate",
   "metadata": {
    "papermill": {
     "duration": 0.011101,
     "end_time": "2022-10-28T03:19:23.174104",
     "exception": false,
     "start_time": "2022-10-28T03:19:23.163003",
     "status": "completed"
    },
    "tags": []
   },
   "source": [
    "## Išplėstinė koreliacijų matrica. "
   ]
  },
  {
   "cell_type": "code",
   "execution_count": 7,
   "id": "atomic-omaha",
   "metadata": {
    "execution": {
     "iopub.execute_input": "2022-10-28T03:19:23.200027Z",
     "iopub.status.busy": "2022-10-28T03:19:23.199476Z",
     "iopub.status.idle": "2022-10-28T03:19:24.315915Z",
     "shell.execute_reply": "2022-10-28T03:19:24.316380Z"
    },
    "papermill": {
     "duration": 1.131243,
     "end_time": "2022-10-28T03:19:24.316511",
     "exception": false,
     "start_time": "2022-10-28T03:19:23.185268",
     "status": "completed"
    },
    "tags": []
   },
   "outputs": [
    {
     "data": {
      "image/png": "[encoded data removed]",
      "text/plain": [
       "<Figure size 1080x792 with 2 Axes>"
      ]
     },
     "metadata": {
      "needs_background": "light"
     },
     "output_type": "display_data"
    }
   ],
   "source": [
    "#hide_input\n",
    "plt.figure(figsize=(15, 11))\n",
    "sns.heatmap(df_all[sum_corr].corr(), annot=True, cmap=\"cubehelix\") \n",
    "sns.set(font_scale=1.25)\n",
    "plt.savefig('corr_matrix.png', format='eps')"
   ]
  },
  {
   "cell_type": "code",
   "execution_count": 8,
   "id": "arbitrary-sullivan",
   "metadata": {
    "execution": {
     "iopub.execute_input": "2022-10-28T03:19:24.350948Z",
     "iopub.status.busy": "2022-10-28T03:19:24.345960Z",
     "iopub.status.idle": "2022-10-28T03:19:24.371519Z",
     "shell.execute_reply": "2022-10-28T03:19:24.371073Z"
    },
    "papermill": {
     "duration": 0.041505,
     "end_time": "2022-10-28T03:19:24.371624",
     "exception": false,
     "start_time": "2022-10-28T03:19:24.330119",
     "status": "completed"
    },
    "tags": []
   },
   "outputs": [],
   "source": [
    "#hide\n",
    "#df_all_mrk = read_api()"
   ]
  },
  {
   "cell_type": "code",
   "execution_count": 9,
   "id": "delayed-adapter",
   "metadata": {
    "execution": {
     "iopub.execute_input": "2022-10-28T03:19:24.400889Z",
     "iopub.status.busy": "2022-10-28T03:19:24.400332Z",
     "iopub.status.idle": "2022-10-28T03:19:24.424793Z",
     "shell.execute_reply": "2022-10-28T03:19:24.425196Z"
    },
    "papermill": {
     "duration": 0.040588,
     "end_time": "2022-10-28T03:19:24.425314",
     "exception": false,
     "start_time": "2022-10-28T03:19:24.384726",
     "status": "completed"
    },
    "tags": []
   },
   "outputs": [],
   "source": [
    "#hide\n",
    "#Koreliacijų koeficientai"
   ]
  },
  {
   "cell_type": "code",
   "execution_count": 10,
   "id": "seeing-celebration",
   "metadata": {
    "execution": {
     "iopub.execute_input": "2022-10-28T03:19:24.454936Z",
     "iopub.status.busy": "2022-10-28T03:19:24.454374Z",
     "iopub.status.idle": "2022-10-28T03:19:24.478869Z",
     "shell.execute_reply": "2022-10-28T03:19:24.478314Z"
    },
    "papermill": {
     "duration": 0.040247,
     "end_time": "2022-10-28T03:19:24.478966",
     "exception": false,
     "start_time": "2022-10-28T03:19:24.438719",
     "status": "completed"
    },
    "tags": []
   },
   "outputs": [],
   "source": [
    "#hide_input\n",
    "#sum_corr = df_all_mrk.corr().sum().sort_values(ascending=True).index.values\n",
    "#df_all_mrk[sum_corr].corr()"
   ]
  },
  {
   "cell_type": "code",
   "execution_count": 11,
   "id": "other-painting",
   "metadata": {
    "execution": {
     "iopub.execute_input": "2022-10-28T03:19:24.508994Z",
     "iopub.status.busy": "2022-10-28T03:19:24.508446Z",
     "iopub.status.idle": "2022-10-28T03:19:24.533897Z",
     "shell.execute_reply": "2022-10-28T03:19:24.533333Z"
    },
    "papermill": {
     "duration": 0.040938,
     "end_time": "2022-10-28T03:19:24.533997",
     "exception": false,
     "start_time": "2022-10-28T03:19:24.493059",
     "status": "completed"
    },
    "tags": []
   },
   "outputs": [],
   "source": [
    "#hide\n",
    "#Koreliacijos matrica. "
   ]
  },
  {
   "cell_type": "code",
   "execution_count": 12,
   "id": "modular-magnitude",
   "metadata": {
    "execution": {
     "iopub.execute_input": "2022-10-28T03:19:24.563538Z",
     "iopub.status.busy": "2022-10-28T03:19:24.562982Z",
     "iopub.status.idle": "2022-10-28T03:19:24.587981Z",
     "shell.execute_reply": "2022-10-28T03:19:24.588403Z"
    },
    "papermill": {
     "duration": 0.041231,
     "end_time": "2022-10-28T03:19:24.588529",
     "exception": false,
     "start_time": "2022-10-28T03:19:24.547298",
     "status": "completed"
    },
    "tags": []
   },
   "outputs": [],
   "source": [
    "#hide_input\n",
    "#plt.figure(figsize=(15, 8))\n",
    "#sns.heatmap(df_all_mrk[sum_corr].corr(), annot=True, cmap=\"BrBG\");\n",
    "#plt.savefig('corr_matrix_all.eps', format='eps')"
   ]
  },
  {
   "cell_type": "code",
   "execution_count": null,
   "id": "original-senator",
   "metadata": {
    "papermill": {
     "duration": 0.01315,
     "end_time": "2022-10-28T03:19:24.614889",
     "exception": false,
     "start_time": "2022-10-28T03:19:24.601739",
     "status": "completed"
    },
    "tags": []
   },
   "outputs": [],
   "source": []
  },
  {
   "cell_type": "code",
   "execution_count": null,
   "id": "saving-secretariat",
   "metadata": {
    "papermill": {
     "duration": 0.013009,
     "end_time": "2022-10-28T03:19:24.640979",
     "exception": false,
     "start_time": "2022-10-28T03:19:24.627970",
     "status": "completed"
    },
    "tags": []
   },
   "outputs": [],
   "source": []
  }
 ],
 "metadata": {
  "kernelspec": {
   "display_name": "Python 3",
   "language": "python",
   "name": "python3"
  },
  "language_info": {
   "codemirror_mode": {
    "name": "ipython",
    "version": 3
   },
   "file_extension": ".py",
   "mimetype": "text/x-python",
   "name": "python",
   "nbconvert_exporter": "python",
   "pygments_lexer": "ipython3",
   "version": "3.6.15"
  },
  "papermill": {
   "default_parameters": {},
   "duration": 17.544491,
   "end_time": "2022-10-28T03:19:25.071279",
   "environment_variables": {},
   "exception": null,
   "input_path": "App-Correlation_charts.ipynb",
   "output_path": "App-Correlation_charts.ipynb",
   "parameters": {},
   "start_time": "2022-10-28T03:19:07.526788",
   "version": "2.2.2"
  }
 },
 "nbformat": 4,
 "nbformat_minor": 5
}