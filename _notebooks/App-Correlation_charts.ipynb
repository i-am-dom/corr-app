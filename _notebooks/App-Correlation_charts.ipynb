{
 "cells": [
  {
   "cell_type": "markdown",
   "id": "touched-facility",
   "metadata": {
    "papermill": {
     "duration": 0.01957,
     "end_time": "2022-03-11T02:16:59.724078",
     "exception": false,
     "start_time": "2022-03-11T02:16:59.704508",
     "status": "completed"
    },
    "tags": []
   },
   "source": [
    "# Koreliacijų matrica\n",
    "> Išplėstinė koreliacijų matrica. \n",
    "\n",
    "- toc: true \n",
    "- badges: true\n",
    "- comments: false\n",
    "- categories: [Dominykas Tautkus]\n",
    "- image: images/matrix.png"
   ]
  },
  {
   "cell_type": "code",
   "execution_count": null,
   "id": "premium-weekend",
   "metadata": {
    "papermill": {
     "duration": 0.012754,
     "end_time": "2022-03-11T02:16:59.753518",
     "exception": false,
     "start_time": "2022-03-11T02:16:59.740764",
     "status": "completed"
    },
    "tags": []
   },
   "outputs": [],
   "source": []
  },
  {
   "cell_type": "code",
   "execution_count": 1,
   "id": "vertical-rebate",
   "metadata": {
    "execution": {
     "iopub.execute_input": "2022-03-11T02:16:59.790226Z",
     "iopub.status.busy": "2022-03-11T02:16:59.789296Z",
     "iopub.status.idle": "2022-03-11T02:16:59.804405Z",
     "shell.execute_reply": "2022-03-11T02:16:59.804970Z"
    },
    "papermill": {
     "duration": 0.039967,
     "end_time": "2022-03-11T02:16:59.805175",
     "exception": false,
     "start_time": "2022-03-11T02:16:59.765208",
     "status": "completed"
    },
    "tags": []
   },
   "outputs": [],
   "source": [
    "#hide\n",
    "%load_ext autoreload\n",
    "%autoreload 2"
   ]
  },
  {
   "cell_type": "code",
   "execution_count": 2,
   "id": "overall-advancement",
   "metadata": {
    "execution": {
     "iopub.execute_input": "2022-03-11T02:16:59.842537Z",
     "iopub.status.busy": "2022-03-11T02:16:59.841719Z",
     "iopub.status.idle": "2022-03-11T02:17:01.508815Z",
     "shell.execute_reply": "2022-03-11T02:17:01.507948Z"
    },
    "papermill": {
     "duration": 1.688721,
     "end_time": "2022-03-11T02:17:01.509016",
     "exception": false,
     "start_time": "2022-03-11T02:16:59.820295",
     "status": "completed"
    },
    "tags": []
   },
   "outputs": [],
   "source": [
    "#hide\n",
    "from scripts.read_data import read_api\n",
    "from IPython.display import HTML\n",
    "import plotly.graph_objects as go\n"
   ]
  },
  {
   "cell_type": "code",
   "execution_count": 3,
   "id": "light-crazy",
   "metadata": {
    "execution": {
     "iopub.execute_input": "2022-03-11T02:17:01.543761Z",
     "iopub.status.busy": "2022-03-11T02:17:01.542223Z",
     "iopub.status.idle": "2022-03-11T02:17:01.566865Z",
     "shell.execute_reply": "2022-03-11T02:17:01.566352Z"
    },
    "papermill": {
     "duration": 0.043397,
     "end_time": "2022-03-11T02:17:01.566993",
     "exception": false,
     "start_time": "2022-03-11T02:17:01.523596",
     "status": "completed"
    },
    "tags": []
   },
   "outputs": [],
   "source": [
    "#hide\n",
    "### ICO koreliacija"
   ]
  },
  {
   "cell_type": "code",
   "execution_count": 4,
   "id": "likely-bahrain",
   "metadata": {
    "execution": {
     "iopub.execute_input": "2022-03-11T02:17:01.602608Z",
     "iopub.status.busy": "2022-03-11T02:17:01.601999Z",
     "iopub.status.idle": "2022-03-11T02:17:02.660294Z",
     "shell.execute_reply": "2022-03-11T02:17:02.659743Z"
    },
    "papermill": {
     "duration": 1.079814,
     "end_time": "2022-03-11T02:17:02.660483",
     "exception": false,
     "start_time": "2022-03-11T02:17:01.580669",
     "status": "completed"
    },
    "tags": []
   },
   "outputs": [],
   "source": [
    "#hide\n",
    "import matplotlib.pyplot as plt\n",
    "import numpy as np\n",
    "import pandas as pd\n",
    "import seaborn as sns\n",
    "import matplotlib.pyplot as plt \n",
    "import matplotlib.dates as mdates\n",
    "import matplotlib.pyplot as plt"
   ]
  },
  {
   "cell_type": "code",
   "execution_count": 5,
   "id": "superior-blanket",
   "metadata": {
    "execution": {
     "iopub.execute_input": "2022-03-11T02:17:02.694246Z",
     "iopub.status.busy": "2022-03-11T02:17:02.693490Z",
     "iopub.status.idle": "2022-03-11T02:17:14.515398Z",
     "shell.execute_reply": "2022-03-11T02:17:14.514550Z"
    },
    "papermill": {
     "duration": 11.840741,
     "end_time": "2022-03-11T02:17:14.515595",
     "exception": false,
     "start_time": "2022-03-11T02:17:02.674854",
     "status": "completed"
    },
    "tags": []
   },
   "outputs": [
    {
     "name": "stderr",
     "output_type": "stream",
     "text": [
      "/home/runner/work/corr-app/corr-app/_notebooks/scripts/read_data.py:187: SettingWithCopyWarning:\n",
      "\n",
      "\n",
      "A value is trying to be set on a copy of a slice from a DataFrame.\n",
      "Try using .loc[row_indexer,col_indexer] = value instead\n",
      "\n",
      "See the caveats in the documentation: https://pandas.pydata.org/pandas-docs/stable/user_guide/indexing.html#returning-a-view-versus-a-copy\n",
      "\n"
     ]
    },
    {
     "name": "stderr",
     "output_type": "stream",
     "text": [
      "/home/runner/work/corr-app/corr-app/_notebooks/scripts/read_data.py:215: SettingWithCopyWarning:\n",
      "\n",
      "\n",
      "A value is trying to be set on a copy of a slice from a DataFrame.\n",
      "Try using .loc[row_indexer,col_indexer] = value instead\n",
      "\n",
      "See the caveats in the documentation: https://pandas.pydata.org/pandas-docs/stable/user_guide/indexing.html#returning-a-view-versus-a-copy\n",
      "\n"
     ]
    }
   ],
   "source": [
    "#hide\n",
    "df_all = read_api()\n",
    "#df_all = df_all.drop(['SP500', 'XAU', 'ETH', 'BTC'], axis=1)\n",
    "\n"
   ]
  },
  {
   "cell_type": "code",
   "execution_count": 6,
   "id": "mature-alert",
   "metadata": {
    "execution": {
     "iopub.execute_input": "2022-03-11T02:17:14.549514Z",
     "iopub.status.busy": "2022-03-11T02:17:14.548964Z",
     "iopub.status.idle": "2022-03-11T02:17:14.589415Z",
     "shell.execute_reply": "2022-03-11T02:17:14.588908Z"
    },
    "papermill": {
     "duration": 0.059496,
     "end_time": "2022-03-11T02:17:14.589564",
     "exception": false,
     "start_time": "2022-03-11T02:17:14.530068",
     "status": "completed"
    },
    "tags": []
   },
   "outputs": [],
   "source": [
    "#hide_input\n",
    "sum_corr = df_all.corr().sum().sort_values(ascending=True).index.values\n",
    "#df_all[sum_corr].corr()"
   ]
  },
  {
   "cell_type": "markdown",
   "id": "complex-syndicate",
   "metadata": {
    "papermill": {
     "duration": 0.012672,
     "end_time": "2022-03-11T02:17:14.615637",
     "exception": false,
     "start_time": "2022-03-11T02:17:14.602965",
     "status": "completed"
    },
    "tags": []
   },
   "source": [
    "## Išplėstinė koreliacijų matrica. "
   ]
  },
  {
   "cell_type": "code",
   "execution_count": 7,
   "id": "atomic-omaha",
   "metadata": {
    "execution": {
     "iopub.execute_input": "2022-03-11T02:17:14.652508Z",
     "iopub.status.busy": "2022-03-11T02:17:14.651914Z",
     "iopub.status.idle": "2022-03-11T02:17:16.485232Z",
     "shell.execute_reply": "2022-03-11T02:17:16.484313Z"
    },
    "papermill": {
     "duration": 1.856802,
     "end_time": "2022-03-11T02:17:16.485397",
     "exception": false,
     "start_time": "2022-03-11T02:17:14.628595",
     "status": "completed"
    },
    "tags": []
   },
   "outputs": [
    {
     "data": {
      "image/png": "[encoded data removed]",
      "text/plain": [
       "<Figure size 1080x792 with 2 Axes>"
      ]
     },
     "metadata": {
      "needs_background": "light"
     },
     "output_type": "display_data"
    }
   ],
   "source": [
    "#hide_input\n",
    "plt.figure(figsize=(15, 11))\n",
    "sns.heatmap(df_all[sum_corr].corr(), annot=True, cmap=\"cubehelix\") \n",
    "sns.set(font_scale=1.25)\n",
    "plt.savefig('corr_matrix.png', format='eps')"
   ]
  },
  {
   "cell_type": "code",
   "execution_count": 8,
   "id": "arbitrary-sullivan",
   "metadata": {
    "execution": {
     "iopub.execute_input": "2022-03-11T02:17:16.524493Z",
     "iopub.status.busy": "2022-03-11T02:17:16.523805Z",
     "iopub.status.idle": "2022-03-11T02:17:16.551577Z",
     "shell.execute_reply": "2022-03-11T02:17:16.552002Z"
    },
    "papermill": {
     "duration": 0.048264,
     "end_time": "2022-03-11T02:17:16.552152",
     "exception": false,
     "start_time": "2022-03-11T02:17:16.503888",
     "status": "completed"
    },
    "tags": []
   },
   "outputs": [],
   "source": [
    "#hide\n",
    "#df_all_mrk = read_api()"
   ]
  },
  {
   "cell_type": "code",
   "execution_count": 9,
   "id": "delayed-adapter",
   "metadata": {
    "execution": {
     "iopub.execute_input": "2022-03-11T02:17:16.590005Z",
     "iopub.status.busy": "2022-03-11T02:17:16.589232Z",
     "iopub.status.idle": "2022-03-11T02:17:16.620747Z",
     "shell.execute_reply": "2022-03-11T02:17:16.620139Z"
    },
    "papermill": {
     "duration": 0.053172,
     "end_time": "2022-03-11T02:17:16.620878",
     "exception": false,
     "start_time": "2022-03-11T02:17:16.567706",
     "status": "completed"
    },
    "tags": []
   },
   "outputs": [],
   "source": [
    "#hide\n",
    "#Koreliacijų koeficientai"
   ]
  },
  {
   "cell_type": "code",
   "execution_count": 10,
   "id": "seeing-celebration",
   "metadata": {
    "execution": {
     "iopub.execute_input": "2022-03-11T02:17:16.658121Z",
     "iopub.status.busy": "2022-03-11T02:17:16.657513Z",
     "iopub.status.idle": "2022-03-11T02:17:16.686108Z",
     "shell.execute_reply": "2022-03-11T02:17:16.685565Z"
    },
    "papermill": {
     "duration": 0.047809,
     "end_time": "2022-03-11T02:17:16.686216",
     "exception": false,
     "start_time": "2022-03-11T02:17:16.638407",
     "status": "completed"
    },
    "tags": []
   },
   "outputs": [],
   "source": [
    "#hide_input\n",
    "#sum_corr = df_all_mrk.corr().sum().sort_values(ascending=True).index.values\n",
    "#df_all_mrk[sum_corr].corr()"
   ]
  },
  {
   "cell_type": "code",
   "execution_count": 11,
   "id": "other-painting",
   "metadata": {
    "execution": {
     "iopub.execute_input": "2022-03-11T02:17:16.723776Z",
     "iopub.status.busy": "2022-03-11T02:17:16.723086Z",
     "iopub.status.idle": "2022-03-11T02:17:16.748648Z",
     "shell.execute_reply": "2022-03-11T02:17:16.748140Z"
    },
    "papermill": {
     "duration": 0.045874,
     "end_time": "2022-03-11T02:17:16.748752",
     "exception": false,
     "start_time": "2022-03-11T02:17:16.702878",
     "status": "completed"
    },
    "tags": []
   },
   "outputs": [],
   "source": [
    "#hide\n",
    "#Koreliacijos matrica. "
   ]
  },
  {
   "cell_type": "code",
   "execution_count": 12,
   "id": "modular-magnitude",
   "metadata": {
    "execution": {
     "iopub.execute_input": "2022-03-11T02:17:16.786557Z",
     "iopub.status.busy": "2022-03-11T02:17:16.785792Z",
     "iopub.status.idle": "2022-03-11T02:17:16.818387Z",
     "shell.execute_reply": "2022-03-11T02:17:16.819072Z"
    },
    "papermill": {
     "duration": 0.054296,
     "end_time": "2022-03-11T02:17:16.819269",
     "exception": false,
     "start_time": "2022-03-11T02:17:16.764973",
     "status": "completed"
    },
    "tags": []
   },
   "outputs": [],
   "source": [
    "#hide_input\n",
    "#plt.figure(figsize=(15, 8))\n",
    "#sns.heatmap(df_all_mrk[sum_corr].corr(), annot=True, cmap=\"BrBG\");\n",
    "#plt.savefig('corr_matrix_all.eps', format='eps')"
   ]
  },
  {
   "cell_type": "code",
   "execution_count": null,
   "id": "original-senator",
   "metadata": {
    "papermill": {
     "duration": 0.016165,
     "end_time": "2022-03-11T02:17:16.851854",
     "exception": false,
     "start_time": "2022-03-11T02:17:16.835689",
     "status": "completed"
    },
    "tags": []
   },
   "outputs": [],
   "source": []
  },
  {
   "cell_type": "code",
   "execution_count": null,
   "id": "saving-secretariat",
   "metadata": {
    "papermill": {
     "duration": 0.015239,
     "end_time": "2022-03-11T02:17:16.883204",
     "exception": false,
     "start_time": "2022-03-11T02:17:16.867965",
     "status": "completed"
    },
    "tags": []
   },
   "outputs": [],
   "source": []
  }
 ],
 "metadata": {
  "kernelspec": {
   "display_name": "Python 3",
   "language": "python",
   "name": "python3"
  },
  "language_info": {
   "codemirror_mode": {
    "name": "ipython",
    "version": 3
   },
   "file_extension": ".py",
   "mimetype": "text/x-python",
   "name": "python",
   "nbconvert_exporter": "python",
   "pygments_lexer": "ipython3",
   "version": "3.6.15"
  },
  "papermill": {
   "default_parameters": {},
   "duration": 19.080184,
   "end_time": "2022-03-11T02:17:17.423417",
   "environment_variables": {},
   "exception": null,
   "input_path": "App-Correlation_charts.ipynb",
   "output_path": "App-Correlation_charts.ipynb",
   "parameters": {},
   "start_time": "2022-03-11T02:16:58.343233",
   "version": "2.2.2"
  }
 },
 "nbformat": 4,
 "nbformat_minor": 5
}