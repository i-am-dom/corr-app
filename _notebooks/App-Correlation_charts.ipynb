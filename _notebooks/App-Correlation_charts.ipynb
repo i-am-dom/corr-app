{
 "cells": [
  {
   "cell_type": "markdown",
   "id": "touched-facility",
   "metadata": {
    "papermill": {
     "duration": 0.019289,
     "end_time": "2021-10-29T01:56:39.620663",
     "exception": false,
     "start_time": "2021-10-29T01:56:39.601374",
     "status": "completed"
    },
    "tags": []
   },
   "source": [
    "# Koreliacijų matrica\n",
    "> Išplėstinė koreliacijų matrica. \n",
    "\n",
    "- toc: true \n",
    "- badges: true\n",
    "- comments: false\n",
    "- categories: [Dominykas Tautkus]\n",
    "- image: images/matrix.png"
   ]
  },
  {
   "cell_type": "code",
   "execution_count": null,
   "id": "premium-weekend",
   "metadata": {
    "papermill": {
     "duration": 0.012385,
     "end_time": "2021-10-29T01:56:39.647547",
     "exception": false,
     "start_time": "2021-10-29T01:56:39.635162",
     "status": "completed"
    },
    "tags": []
   },
   "outputs": [],
   "source": []
  },
  {
   "cell_type": "code",
   "execution_count": 1,
   "id": "vertical-rebate",
   "metadata": {
    "execution": {
     "iopub.execute_input": "2021-10-29T01:56:39.684593Z",
     "iopub.status.busy": "2021-10-29T01:56:39.683978Z",
     "iopub.status.idle": "2021-10-29T01:56:39.694710Z",
     "shell.execute_reply": "2021-10-29T01:56:39.695202Z"
    },
    "papermill": {
     "duration": 0.034243,
     "end_time": "2021-10-29T01:56:39.695359",
     "exception": false,
     "start_time": "2021-10-29T01:56:39.661116",
     "status": "completed"
    },
    "tags": []
   },
   "outputs": [],
   "source": [
    "#hide\n",
    "%load_ext autoreload\n",
    "%autoreload 2"
   ]
  },
  {
   "cell_type": "code",
   "execution_count": 2,
   "id": "overall-advancement",
   "metadata": {
    "execution": {
     "iopub.execute_input": "2021-10-29T01:56:39.736974Z",
     "iopub.status.busy": "2021-10-29T01:56:39.736051Z",
     "iopub.status.idle": "2021-10-29T01:56:41.210559Z",
     "shell.execute_reply": "2021-10-29T01:56:41.209191Z"
    },
    "papermill": {
     "duration": 1.502597,
     "end_time": "2021-10-29T01:56:41.210730",
     "exception": false,
     "start_time": "2021-10-29T01:56:39.708133",
     "status": "completed"
    },
    "tags": []
   },
   "outputs": [],
   "source": [
    "#hide\n",
    "from scripts.read_data import read_api\n",
    "from IPython.display import HTML\n",
    "import plotly.graph_objects as go\n"
   ]
  },
  {
   "cell_type": "code",
   "execution_count": 3,
   "id": "light-crazy",
   "metadata": {
    "execution": {
     "iopub.execute_input": "2021-10-29T01:56:41.244495Z",
     "iopub.status.busy": "2021-10-29T01:56:41.243682Z",
     "iopub.status.idle": "2021-10-29T01:56:41.274452Z",
     "shell.execute_reply": "2021-10-29T01:56:41.273416Z"
    },
    "papermill": {
     "duration": 0.049465,
     "end_time": "2021-10-29T01:56:41.274612",
     "exception": false,
     "start_time": "2021-10-29T01:56:41.225147",
     "status": "completed"
    },
    "tags": []
   },
   "outputs": [],
   "source": [
    "#hide\n",
    "### ICO koreliacija"
   ]
  },
  {
   "cell_type": "code",
   "execution_count": 4,
   "id": "likely-bahrain",
   "metadata": {
    "execution": {
     "iopub.execute_input": "2021-10-29T01:56:41.307838Z",
     "iopub.status.busy": "2021-10-29T01:56:41.307247Z",
     "iopub.status.idle": "2021-10-29T01:56:42.426223Z",
     "shell.execute_reply": "2021-10-29T01:56:42.425707Z"
    },
    "papermill": {
     "duration": 1.139332,
     "end_time": "2021-10-29T01:56:42.426359",
     "exception": false,
     "start_time": "2021-10-29T01:56:41.287027",
     "status": "completed"
    },
    "tags": []
   },
   "outputs": [],
   "source": [
    "#hide\n",
    "import matplotlib.pyplot as plt\n",
    "import numpy as np\n",
    "import pandas as pd\n",
    "import seaborn as sns\n",
    "import matplotlib.pyplot as plt \n",
    "import matplotlib.dates as mdates\n",
    "import matplotlib.pyplot as plt"
   ]
  },
  {
   "cell_type": "code",
   "execution_count": 5,
   "id": "superior-blanket",
   "metadata": {
    "execution": {
     "iopub.execute_input": "2021-10-29T01:56:42.461921Z",
     "iopub.status.busy": "2021-10-29T01:56:42.461292Z",
     "iopub.status.idle": "2021-10-29T01:56:57.270503Z",
     "shell.execute_reply": "2021-10-29T01:56:57.271040Z"
    },
    "papermill": {
     "duration": 14.832325,
     "end_time": "2021-10-29T01:56:57.271223",
     "exception": false,
     "start_time": "2021-10-29T01:56:42.438898",
     "status": "completed"
    },
    "tags": []
   },
   "outputs": [
    {
     "name": "stderr",
     "output_type": "stream",
     "text": [
      "/home/runner/work/corr-app/corr-app/_notebooks/scripts/read_data.py:187: SettingWithCopyWarning:\n",
      "\n",
      "\n",
      "A value is trying to be set on a copy of a slice from a DataFrame.\n",
      "Try using .loc[row_indexer,col_indexer] = value instead\n",
      "\n",
      "See the caveats in the documentation: https://pandas.pydata.org/pandas-docs/stable/user_guide/indexing.html#returning-a-view-versus-a-copy\n",
      "\n"
     ]
    },
    {
     "name": "stderr",
     "output_type": "stream",
     "text": [
      "/home/runner/work/corr-app/corr-app/_notebooks/scripts/read_data.py:215: SettingWithCopyWarning:\n",
      "\n",
      "\n",
      "A value is trying to be set on a copy of a slice from a DataFrame.\n",
      "Try using .loc[row_indexer,col_indexer] = value instead\n",
      "\n",
      "See the caveats in the documentation: https://pandas.pydata.org/pandas-docs/stable/user_guide/indexing.html#returning-a-view-versus-a-copy\n",
      "\n"
     ]
    }
   ],
   "source": [
    "#hide\n",
    "df_all = read_api()\n",
    "#df_all = df_all.drop(['SP500', 'XAU', 'ETH', 'BTC'], axis=1)\n",
    "\n"
   ]
  },
  {
   "cell_type": "code",
   "execution_count": 6,
   "id": "mature-alert",
   "metadata": {
    "execution": {
     "iopub.execute_input": "2021-10-29T01:56:57.307132Z",
     "iopub.status.busy": "2021-10-29T01:56:57.306451Z",
     "iopub.status.idle": "2021-10-29T01:56:57.339263Z",
     "shell.execute_reply": "2021-10-29T01:56:57.339724Z"
    },
    "papermill": {
     "duration": 0.05307,
     "end_time": "2021-10-29T01:56:57.339898",
     "exception": false,
     "start_time": "2021-10-29T01:56:57.286828",
     "status": "completed"
    },
    "tags": []
   },
   "outputs": [],
   "source": [
    "#hide_input\n",
    "sum_corr = df_all.corr().sum().sort_values(ascending=True).index.values\n",
    "#df_all[sum_corr].corr()"
   ]
  },
  {
   "cell_type": "markdown",
   "id": "complex-syndicate",
   "metadata": {
    "papermill": {
     "duration": 0.016342,
     "end_time": "2021-10-29T01:56:57.369913",
     "exception": false,
     "start_time": "2021-10-29T01:56:57.353571",
     "status": "completed"
    },
    "tags": []
   },
   "source": [
    "## Išplėstinė koreliacijų matrica. "
   ]
  },
  {
   "cell_type": "code",
   "execution_count": 7,
   "id": "atomic-omaha",
   "metadata": {
    "execution": {
     "iopub.execute_input": "2021-10-29T01:56:57.404042Z",
     "iopub.status.busy": "2021-10-29T01:56:57.403318Z",
     "iopub.status.idle": "2021-10-29T01:56:59.044282Z",
     "shell.execute_reply": "2021-10-29T01:56:59.044995Z"
    },
    "papermill": {
     "duration": 1.66045,
     "end_time": "2021-10-29T01:56:59.045182",
     "exception": false,
     "start_time": "2021-10-29T01:56:57.384732",
     "status": "completed"
    },
    "tags": []
   },
   "outputs": [
    {
     "data": {
      "image/png": "[encoded data removed]",
      "text/plain": [
       "<Figure size 1080x792 with 2 Axes>"
      ]
     },
     "metadata": {
      "needs_background": "light"
     },
     "output_type": "display_data"
    }
   ],
   "source": [
    "#hide_input\n",
    "plt.figure(figsize=(15, 11))\n",
    "sns.heatmap(df_all[sum_corr].corr(), annot=True, cmap=\"cubehelix\") \n",
    "sns.set(font_scale=1.25)\n",
    "plt.savefig('corr_matrix.png', format='eps')"
   ]
  },
  {
   "cell_type": "code",
   "execution_count": 8,
   "id": "arbitrary-sullivan",
   "metadata": {
    "execution": {
     "iopub.execute_input": "2021-10-29T01:56:59.081616Z",
     "iopub.status.busy": "2021-10-29T01:56:59.080982Z",
     "iopub.status.idle": "2021-10-29T01:56:59.110612Z",
     "shell.execute_reply": "2021-10-29T01:56:59.110095Z"
    },
    "papermill": {
     "duration": 0.049554,
     "end_time": "2021-10-29T01:56:59.110763",
     "exception": false,
     "start_time": "2021-10-29T01:56:59.061209",
     "status": "completed"
    },
    "tags": []
   },
   "outputs": [],
   "source": [
    "#hide\n",
    "#df_all_mrk = read_api()"
   ]
  },
  {
   "cell_type": "code",
   "execution_count": 9,
   "id": "delayed-adapter",
   "metadata": {
    "execution": {
     "iopub.execute_input": "2021-10-29T01:56:59.152667Z",
     "iopub.status.busy": "2021-10-29T01:56:59.150051Z",
     "iopub.status.idle": "2021-10-29T01:56:59.175837Z",
     "shell.execute_reply": "2021-10-29T01:56:59.175324Z"
    },
    "papermill": {
     "duration": 0.048958,
     "end_time": "2021-10-29T01:56:59.175984",
     "exception": false,
     "start_time": "2021-10-29T01:56:59.127026",
     "status": "completed"
    },
    "tags": []
   },
   "outputs": [],
   "source": [
    "#hide\n",
    "#Koreliacijų koeficientai"
   ]
  },
  {
   "cell_type": "code",
   "execution_count": 10,
   "id": "seeing-celebration",
   "metadata": {
    "execution": {
     "iopub.execute_input": "2021-10-29T01:56:59.212757Z",
     "iopub.status.busy": "2021-10-29T01:56:59.210459Z",
     "iopub.status.idle": "2021-10-29T01:56:59.237359Z",
     "shell.execute_reply": "2021-10-29T01:56:59.236677Z"
    },
    "papermill": {
     "duration": 0.046466,
     "end_time": "2021-10-29T01:56:59.237527",
     "exception": false,
     "start_time": "2021-10-29T01:56:59.191061",
     "status": "completed"
    },
    "tags": []
   },
   "outputs": [],
   "source": [
    "#hide_input\n",
    "#sum_corr = df_all_mrk.corr().sum().sort_values(ascending=True).index.values\n",
    "#df_all_mrk[sum_corr].corr()"
   ]
  },
  {
   "cell_type": "code",
   "execution_count": 11,
   "id": "other-painting",
   "metadata": {
    "execution": {
     "iopub.execute_input": "2021-10-29T01:56:59.277771Z",
     "iopub.status.busy": "2021-10-29T01:56:59.276955Z",
     "iopub.status.idle": "2021-10-29T01:56:59.304139Z",
     "shell.execute_reply": "2021-10-29T01:56:59.303598Z"
    },
    "papermill": {
     "duration": 0.050617,
     "end_time": "2021-10-29T01:56:59.304262",
     "exception": false,
     "start_time": "2021-10-29T01:56:59.253645",
     "status": "completed"
    },
    "tags": []
   },
   "outputs": [],
   "source": [
    "#hide\n",
    "#Koreliacijos matrica. "
   ]
  },
  {
   "cell_type": "code",
   "execution_count": 12,
   "id": "modular-magnitude",
   "metadata": {
    "execution": {
     "iopub.execute_input": "2021-10-29T01:56:59.338427Z",
     "iopub.status.busy": "2021-10-29T01:56:59.337607Z",
     "iopub.status.idle": "2021-10-29T01:56:59.362613Z",
     "shell.execute_reply": "2021-10-29T01:56:59.362067Z"
    },
    "papermill": {
     "duration": 0.042691,
     "end_time": "2021-10-29T01:56:59.362754",
     "exception": false,
     "start_time": "2021-10-29T01:56:59.320063",
     "status": "completed"
    },
    "tags": []
   },
   "outputs": [],
   "source": [
    "#hide_input\n",
    "#plt.figure(figsize=(15, 8))\n",
    "#sns.heatmap(df_all_mrk[sum_corr].corr(), annot=True, cmap=\"BrBG\");\n",
    "#plt.savefig('corr_matrix_all.eps', format='eps')"
   ]
  },
  {
   "cell_type": "code",
   "execution_count": null,
   "id": "original-senator",
   "metadata": {
    "papermill": {
     "duration": 0.015781,
     "end_time": "2021-10-29T01:56:59.393926",
     "exception": false,
     "start_time": "2021-10-29T01:56:59.378145",
     "status": "completed"
    },
    "tags": []
   },
   "outputs": [],
   "source": []
  },
  {
   "cell_type": "code",
   "execution_count": null,
   "id": "saving-secretariat",
   "metadata": {
    "papermill": {
     "duration": 0.015427,
     "end_time": "2021-10-29T01:56:59.424327",
     "exception": false,
     "start_time": "2021-10-29T01:56:59.408900",
     "status": "completed"
    },
    "tags": []
   },
   "outputs": [],
   "source": []
  }
 ],
 "metadata": {
  "kernelspec": {
   "display_name": "Python 3",
   "language": "python",
   "name": "python3"
  },
  "language_info": {
   "codemirror_mode": {
    "name": "ipython",
    "version": 3
   },
   "file_extension": ".py",
   "mimetype": "text/x-python",
   "name": "python",
   "nbconvert_exporter": "python",
   "pygments_lexer": "ipython3",
   "version": "3.6.15"
  },
  "papermill": {
   "default_parameters": {},
   "duration": 21.422937,
   "end_time": "2021-10-29T01:56:59.948781",
   "environment_variables": {},
   "exception": null,
   "input_path": "App-Correlation_charts.ipynb",
   "output_path": "App-Correlation_charts.ipynb",
   "parameters": {},
   "start_time": "2021-10-29T01:56:38.525844",
   "version": "2.2.2"
  }
 },
 "nbformat": 4,
 "nbformat_minor": 5
}