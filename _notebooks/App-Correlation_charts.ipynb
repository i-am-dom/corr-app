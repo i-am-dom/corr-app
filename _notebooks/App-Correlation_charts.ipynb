{
 "cells": [
  {
   "cell_type": "markdown",
   "id": "touched-facility",
   "metadata": {
    "papermill": {
     "duration": 0.014817,
     "end_time": "2022-02-04T01:48:11.144465",
     "exception": false,
     "start_time": "2022-02-04T01:48:11.129648",
     "status": "completed"
    },
    "tags": []
   },
   "source": [
    "# Koreliacijų matrica\n",
    "> Išplėstinė koreliacijų matrica. \n",
    "\n",
    "- toc: true \n",
    "- badges: true\n",
    "- comments: false\n",
    "- categories: [Dominykas Tautkus]\n",
    "- image: images/matrix.png"
   ]
  },
  {
   "cell_type": "code",
   "execution_count": null,
   "id": "premium-weekend",
   "metadata": {
    "papermill": {
     "duration": 0.010815,
     "end_time": "2022-02-04T01:48:11.166920",
     "exception": false,
     "start_time": "2022-02-04T01:48:11.156105",
     "status": "completed"
    },
    "tags": []
   },
   "outputs": [],
   "source": []
  },
  {
   "cell_type": "code",
   "execution_count": 1,
   "id": "vertical-rebate",
   "metadata": {
    "execution": {
     "iopub.execute_input": "2022-02-04T01:48:11.199221Z",
     "iopub.status.busy": "2022-02-04T01:48:11.198690Z",
     "iopub.status.idle": "2022-02-04T01:48:11.208254Z",
     "shell.execute_reply": "2022-02-04T01:48:11.207819Z"
    },
    "papermill": {
     "duration": 0.030648,
     "end_time": "2022-02-04T01:48:11.208383",
     "exception": false,
     "start_time": "2022-02-04T01:48:11.177735",
     "status": "completed"
    },
    "tags": []
   },
   "outputs": [],
   "source": [
    "#hide\n",
    "%load_ext autoreload\n",
    "%autoreload 2"
   ]
  },
  {
   "cell_type": "code",
   "execution_count": 2,
   "id": "overall-advancement",
   "metadata": {
    "execution": {
     "iopub.execute_input": "2022-02-04T01:48:11.233747Z",
     "iopub.status.busy": "2022-02-04T01:48:11.233233Z",
     "iopub.status.idle": "2022-02-04T01:48:12.303977Z",
     "shell.execute_reply": "2022-02-04T01:48:12.303443Z"
    },
    "papermill": {
     "duration": 1.084937,
     "end_time": "2022-02-04T01:48:12.304122",
     "exception": false,
     "start_time": "2022-02-04T01:48:11.219185",
     "status": "completed"
    },
    "tags": []
   },
   "outputs": [],
   "source": [
    "#hide\n",
    "from scripts.read_data import read_api\n",
    "from IPython.display import HTML\n",
    "import plotly.graph_objects as go\n"
   ]
  },
  {
   "cell_type": "code",
   "execution_count": 3,
   "id": "light-crazy",
   "metadata": {
    "execution": {
     "iopub.execute_input": "2022-02-04T01:48:12.330696Z",
     "iopub.status.busy": "2022-02-04T01:48:12.330078Z",
     "iopub.status.idle": "2022-02-04T01:48:12.353172Z",
     "shell.execute_reply": "2022-02-04T01:48:12.352695Z"
    },
    "papermill": {
     "duration": 0.037656,
     "end_time": "2022-02-04T01:48:12.353302",
     "exception": false,
     "start_time": "2022-02-04T01:48:12.315646",
     "status": "completed"
    },
    "tags": []
   },
   "outputs": [],
   "source": [
    "#hide\n",
    "### ICO koreliacija"
   ]
  },
  {
   "cell_type": "code",
   "execution_count": 4,
   "id": "likely-bahrain",
   "metadata": {
    "execution": {
     "iopub.execute_input": "2022-02-04T01:48:12.383515Z",
     "iopub.status.busy": "2022-02-04T01:48:12.382503Z",
     "iopub.status.idle": "2022-02-04T01:48:13.277627Z",
     "shell.execute_reply": "2022-02-04T01:48:13.278060Z"
    },
    "papermill": {
     "duration": 0.914092,
     "end_time": "2022-02-04T01:48:13.278217",
     "exception": false,
     "start_time": "2022-02-04T01:48:12.364125",
     "status": "completed"
    },
    "tags": []
   },
   "outputs": [],
   "source": [
    "#hide\n",
    "import matplotlib.pyplot as plt\n",
    "import numpy as np\n",
    "import pandas as pd\n",
    "import seaborn as sns\n",
    "import matplotlib.pyplot as plt \n",
    "import matplotlib.dates as mdates\n",
    "import matplotlib.pyplot as plt"
   ]
  },
  {
   "cell_type": "code",
   "execution_count": 5,
   "id": "superior-blanket",
   "metadata": {
    "execution": {
     "iopub.execute_input": "2022-02-04T01:48:13.302472Z",
     "iopub.status.busy": "2022-02-04T01:48:13.301992Z",
     "iopub.status.idle": "2022-02-04T01:48:24.640180Z",
     "shell.execute_reply": "2022-02-04T01:48:24.639665Z"
    },
    "papermill": {
     "duration": 11.352182,
     "end_time": "2022-02-04T01:48:24.640306",
     "exception": false,
     "start_time": "2022-02-04T01:48:13.288124",
     "status": "completed"
    },
    "tags": []
   },
   "outputs": [
    {
     "name": "stderr",
     "output_type": "stream",
     "text": [
      "/home/runner/work/corr-app/corr-app/_notebooks/scripts/read_data.py:187: SettingWithCopyWarning:\n",
      "\n",
      "\n",
      "A value is trying to be set on a copy of a slice from a DataFrame.\n",
      "Try using .loc[row_indexer,col_indexer] = value instead\n",
      "\n",
      "See the caveats in the documentation: https://pandas.pydata.org/pandas-docs/stable/user_guide/indexing.html#returning-a-view-versus-a-copy\n",
      "\n"
     ]
    },
    {
     "name": "stderr",
     "output_type": "stream",
     "text": [
      "/home/runner/work/corr-app/corr-app/_notebooks/scripts/read_data.py:215: SettingWithCopyWarning:\n",
      "\n",
      "\n",
      "A value is trying to be set on a copy of a slice from a DataFrame.\n",
      "Try using .loc[row_indexer,col_indexer] = value instead\n",
      "\n",
      "See the caveats in the documentation: https://pandas.pydata.org/pandas-docs/stable/user_guide/indexing.html#returning-a-view-versus-a-copy\n",
      "\n"
     ]
    }
   ],
   "source": [
    "#hide\n",
    "df_all = read_api()\n",
    "#df_all = df_all.drop(['SP500', 'XAU', 'ETH', 'BTC'], axis=1)\n",
    "\n"
   ]
  },
  {
   "cell_type": "code",
   "execution_count": 6,
   "id": "mature-alert",
   "metadata": {
    "execution": {
     "iopub.execute_input": "2022-02-04T01:48:24.669324Z",
     "iopub.status.busy": "2022-02-04T01:48:24.668777Z",
     "iopub.status.idle": "2022-02-04T01:48:24.697922Z",
     "shell.execute_reply": "2022-02-04T01:48:24.697389Z"
    },
    "papermill": {
     "duration": 0.045905,
     "end_time": "2022-02-04T01:48:24.698068",
     "exception": false,
     "start_time": "2022-02-04T01:48:24.652163",
     "status": "completed"
    },
    "tags": []
   },
   "outputs": [],
   "source": [
    "#hide_input\n",
    "sum_corr = df_all.corr().sum().sort_values(ascending=True).index.values\n",
    "#df_all[sum_corr].corr()"
   ]
  },
  {
   "cell_type": "markdown",
   "id": "complex-syndicate",
   "metadata": {
    "papermill": {
     "duration": 0.011498,
     "end_time": "2022-02-04T01:48:24.721944",
     "exception": false,
     "start_time": "2022-02-04T01:48:24.710446",
     "status": "completed"
    },
    "tags": []
   },
   "source": [
    "## Išplėstinė koreliacijų matrica. "
   ]
  },
  {
   "cell_type": "code",
   "execution_count": 7,
   "id": "atomic-omaha",
   "metadata": {
    "execution": {
     "iopub.execute_input": "2022-02-04T01:48:24.749793Z",
     "iopub.status.busy": "2022-02-04T01:48:24.748869Z",
     "iopub.status.idle": "2022-02-04T01:48:25.915671Z",
     "shell.execute_reply": "2022-02-04T01:48:25.915281Z"
    },
    "papermill": {
     "duration": 1.182357,
     "end_time": "2022-02-04T01:48:25.915784",
     "exception": false,
     "start_time": "2022-02-04T01:48:24.733427",
     "status": "completed"
    },
    "tags": []
   },
   "outputs": [
    {
     "data": {
      "image/png": "[encoded data removed]",
      "text/plain": [
       "<Figure size 1080x792 with 2 Axes>"
      ]
     },
     "metadata": {
      "needs_background": "light"
     },
     "output_type": "display_data"
    }
   ],
   "source": [
    "#hide_input\n",
    "plt.figure(figsize=(15, 11))\n",
    "sns.heatmap(df_all[sum_corr].corr(), annot=True, cmap=\"cubehelix\") \n",
    "sns.set(font_scale=1.25)\n",
    "plt.savefig('corr_matrix.png', format='eps')"
   ]
  },
  {
   "cell_type": "code",
   "execution_count": 8,
   "id": "arbitrary-sullivan",
   "metadata": {
    "execution": {
     "iopub.execute_input": "2022-02-04T01:48:25.946514Z",
     "iopub.status.busy": "2022-02-04T01:48:25.944788Z",
     "iopub.status.idle": "2022-02-04T01:48:25.968696Z",
     "shell.execute_reply": "2022-02-04T01:48:25.968113Z"
    },
    "papermill": {
     "duration": 0.040842,
     "end_time": "2022-02-04T01:48:25.968820",
     "exception": false,
     "start_time": "2022-02-04T01:48:25.927978",
     "status": "completed"
    },
    "tags": []
   },
   "outputs": [],
   "source": [
    "#hide\n",
    "#df_all_mrk = read_api()"
   ]
  },
  {
   "cell_type": "code",
   "execution_count": 9,
   "id": "delayed-adapter",
   "metadata": {
    "execution": {
     "iopub.execute_input": "2022-02-04T01:48:25.999153Z",
     "iopub.status.busy": "2022-02-04T01:48:25.998632Z",
     "iopub.status.idle": "2022-02-04T01:48:26.023518Z",
     "shell.execute_reply": "2022-02-04T01:48:26.023936Z"
    },
    "papermill": {
     "duration": 0.041708,
     "end_time": "2022-02-04T01:48:26.024091",
     "exception": false,
     "start_time": "2022-02-04T01:48:25.982383",
     "status": "completed"
    },
    "tags": []
   },
   "outputs": [],
   "source": [
    "#hide\n",
    "#Koreliacijų koeficientai"
   ]
  },
  {
   "cell_type": "code",
   "execution_count": 10,
   "id": "seeing-celebration",
   "metadata": {
    "execution": {
     "iopub.execute_input": "2022-02-04T01:48:26.060503Z",
     "iopub.status.busy": "2022-02-04T01:48:26.059965Z",
     "iopub.status.idle": "2022-02-04T01:48:26.082763Z",
     "shell.execute_reply": "2022-02-04T01:48:26.082209Z"
    },
    "papermill": {
     "duration": 0.04461,
     "end_time": "2022-02-04T01:48:26.082899",
     "exception": false,
     "start_time": "2022-02-04T01:48:26.038289",
     "status": "completed"
    },
    "tags": []
   },
   "outputs": [],
   "source": [
    "#hide_input\n",
    "#sum_corr = df_all_mrk.corr().sum().sort_values(ascending=True).index.values\n",
    "#df_all_mrk[sum_corr].corr()"
   ]
  },
  {
   "cell_type": "code",
   "execution_count": 11,
   "id": "other-painting",
   "metadata": {
    "execution": {
     "iopub.execute_input": "2022-02-04T01:48:26.119248Z",
     "iopub.status.busy": "2022-02-04T01:48:26.118728Z",
     "iopub.status.idle": "2022-02-04T01:48:26.141692Z",
     "shell.execute_reply": "2022-02-04T01:48:26.141211Z"
    },
    "papermill": {
     "duration": 0.044178,
     "end_time": "2022-02-04T01:48:26.141818",
     "exception": false,
     "start_time": "2022-02-04T01:48:26.097640",
     "status": "completed"
    },
    "tags": []
   },
   "outputs": [],
   "source": [
    "#hide\n",
    "#Koreliacijos matrica. "
   ]
  },
  {
   "cell_type": "code",
   "execution_count": 12,
   "id": "modular-magnitude",
   "metadata": {
    "execution": {
     "iopub.execute_input": "2022-02-04T01:48:26.173754Z",
     "iopub.status.busy": "2022-02-04T01:48:26.173285Z",
     "iopub.status.idle": "2022-02-04T01:48:26.197276Z",
     "shell.execute_reply": "2022-02-04T01:48:26.197657Z"
    },
    "papermill": {
     "duration": 0.042306,
     "end_time": "2022-02-04T01:48:26.197785",
     "exception": false,
     "start_time": "2022-02-04T01:48:26.155479",
     "status": "completed"
    },
    "tags": []
   },
   "outputs": [],
   "source": [
    "#hide_input\n",
    "#plt.figure(figsize=(15, 8))\n",
    "#sns.heatmap(df_all_mrk[sum_corr].corr(), annot=True, cmap=\"BrBG\");\n",
    "#plt.savefig('corr_matrix_all.eps', format='eps')"
   ]
  },
  {
   "cell_type": "code",
   "execution_count": null,
   "id": "original-senator",
   "metadata": {
    "papermill": {
     "duration": 0.011948,
     "end_time": "2022-02-04T01:48:26.222674",
     "exception": false,
     "start_time": "2022-02-04T01:48:26.210726",
     "status": "completed"
    },
    "tags": []
   },
   "outputs": [],
   "source": []
  },
  {
   "cell_type": "code",
   "execution_count": null,
   "id": "saving-secretariat",
   "metadata": {
    "papermill": {
     "duration": 0.011779,
     "end_time": "2022-02-04T01:48:26.246265",
     "exception": false,
     "start_time": "2022-02-04T01:48:26.234486",
     "status": "completed"
    },
    "tags": []
   },
   "outputs": [],
   "source": []
  }
 ],
 "metadata": {
  "kernelspec": {
   "display_name": "Python 3",
   "language": "python",
   "name": "python3"
  },
  "language_info": {
   "codemirror_mode": {
    "name": "ipython",
    "version": 3
   },
   "file_extension": ".py",
   "mimetype": "text/x-python",
   "name": "python",
   "nbconvert_exporter": "python",
   "pygments_lexer": "ipython3",
   "version": "3.6.15"
  },
  "papermill": {
   "default_parameters": {},
   "duration": 16.859378,
   "end_time": "2022-02-04T01:48:26.878556",
   "environment_variables": {},
   "exception": null,
   "input_path": "App-Correlation_charts.ipynb",
   "output_path": "App-Correlation_charts.ipynb",
   "parameters": {},
   "start_time": "2022-02-04T01:48:10.019178",
   "version": "2.2.2"
  }
 },
 "nbformat": 4,
 "nbformat_minor": 5
}