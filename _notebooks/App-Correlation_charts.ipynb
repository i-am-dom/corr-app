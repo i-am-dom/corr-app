{
 "cells": [
  {
   "cell_type": "markdown",
   "id": "touched-facility",
   "metadata": {
    "papermill": {
     "duration": 0.013997,
     "end_time": "2022-05-01T03:14:30.287784",
     "exception": false,
     "start_time": "2022-05-01T03:14:30.273787",
     "status": "completed"
    },
    "tags": []
   },
   "source": [
    "# Koreliacijų matrica\n",
    "> Išplėstinė koreliacijų matrica. \n",
    "\n",
    "- toc: true \n",
    "- badges: true\n",
    "- comments: false\n",
    "- categories: [Dominykas Tautkus]\n",
    "- image: images/matrix.png"
   ]
  },
  {
   "cell_type": "code",
   "execution_count": null,
   "id": "premium-weekend",
   "metadata": {
    "papermill": {
     "duration": 0.010639,
     "end_time": "2022-05-01T03:14:30.309750",
     "exception": false,
     "start_time": "2022-05-01T03:14:30.299111",
     "status": "completed"
    },
    "tags": []
   },
   "outputs": [],
   "source": []
  },
  {
   "cell_type": "code",
   "execution_count": 1,
   "id": "vertical-rebate",
   "metadata": {
    "execution": {
     "iopub.execute_input": "2022-05-01T03:14:30.340850Z",
     "iopub.status.busy": "2022-05-01T03:14:30.333527Z",
     "iopub.status.idle": "2022-05-01T03:14:30.351369Z",
     "shell.execute_reply": "2022-05-01T03:14:30.350933Z"
    },
    "papermill": {
     "duration": 0.031082,
     "end_time": "2022-05-01T03:14:30.351495",
     "exception": false,
     "start_time": "2022-05-01T03:14:30.320413",
     "status": "completed"
    },
    "tags": []
   },
   "outputs": [],
   "source": [
    "#hide\n",
    "%load_ext autoreload\n",
    "%autoreload 2"
   ]
  },
  {
   "cell_type": "code",
   "execution_count": 2,
   "id": "overall-advancement",
   "metadata": {
    "execution": {
     "iopub.execute_input": "2022-05-01T03:14:30.376098Z",
     "iopub.status.busy": "2022-05-01T03:14:30.375585Z",
     "iopub.status.idle": "2022-05-01T03:14:32.777178Z",
     "shell.execute_reply": "2022-05-01T03:14:32.777597Z"
    },
    "papermill": {
     "duration": 2.415469,
     "end_time": "2022-05-01T03:14:32.777751",
     "exception": false,
     "start_time": "2022-05-01T03:14:30.362282",
     "status": "completed"
    },
    "tags": []
   },
   "outputs": [],
   "source": [
    "#hide\n",
    "from scripts.read_data import read_api\n",
    "from IPython.display import HTML\n",
    "import plotly.graph_objects as go\n"
   ]
  },
  {
   "cell_type": "code",
   "execution_count": 3,
   "id": "light-crazy",
   "metadata": {
    "execution": {
     "iopub.execute_input": "2022-05-01T03:14:32.805969Z",
     "iopub.status.busy": "2022-05-01T03:14:32.805450Z",
     "iopub.status.idle": "2022-05-01T03:14:32.862285Z",
     "shell.execute_reply": "2022-05-01T03:14:32.862731Z"
    },
    "papermill": {
     "duration": 0.074095,
     "end_time": "2022-05-01T03:14:32.862872",
     "exception": false,
     "start_time": "2022-05-01T03:14:32.788777",
     "status": "completed"
    },
    "tags": []
   },
   "outputs": [],
   "source": [
    "#hide\n",
    "### ICO koreliacija"
   ]
  },
  {
   "cell_type": "code",
   "execution_count": 4,
   "id": "likely-bahrain",
   "metadata": {
    "execution": {
     "iopub.execute_input": "2022-05-01T03:14:32.888763Z",
     "iopub.status.busy": "2022-05-01T03:14:32.888227Z",
     "iopub.status.idle": "2022-05-01T03:14:33.741381Z",
     "shell.execute_reply": "2022-05-01T03:14:33.740471Z"
    },
    "papermill": {
     "duration": 0.867916,
     "end_time": "2022-05-01T03:14:33.741518",
     "exception": false,
     "start_time": "2022-05-01T03:14:32.873602",
     "status": "completed"
    },
    "tags": []
   },
   "outputs": [],
   "source": [
    "#hide\n",
    "import matplotlib.pyplot as plt\n",
    "import numpy as np\n",
    "import pandas as pd\n",
    "import seaborn as sns\n",
    "import matplotlib.pyplot as plt \n",
    "import matplotlib.dates as mdates\n",
    "import matplotlib.pyplot as plt"
   ]
  },
  {
   "cell_type": "code",
   "execution_count": 5,
   "id": "superior-blanket",
   "metadata": {
    "execution": {
     "iopub.execute_input": "2022-05-01T03:14:33.768193Z",
     "iopub.status.busy": "2022-05-01T03:14:33.767028Z",
     "iopub.status.idle": "2022-05-01T03:14:45.881564Z",
     "shell.execute_reply": "2022-05-01T03:14:45.881058Z"
    },
    "papermill": {
     "duration": 12.129246,
     "end_time": "2022-05-01T03:14:45.881682",
     "exception": false,
     "start_time": "2022-05-01T03:14:33.752436",
     "status": "completed"
    },
    "tags": []
   },
   "outputs": [
    {
     "name": "stderr",
     "output_type": "stream",
     "text": [
      "/home/runner/work/corr-app/corr-app/_notebooks/scripts/read_data.py:187: SettingWithCopyWarning:\n",
      "\n",
      "\n",
      "A value is trying to be set on a copy of a slice from a DataFrame.\n",
      "Try using .loc[row_indexer,col_indexer] = value instead\n",
      "\n",
      "See the caveats in the documentation: https://pandas.pydata.org/pandas-docs/stable/user_guide/indexing.html#returning-a-view-versus-a-copy\n",
      "\n"
     ]
    },
    {
     "name": "stderr",
     "output_type": "stream",
     "text": [
      "/home/runner/work/corr-app/corr-app/_notebooks/scripts/read_data.py:215: SettingWithCopyWarning:\n",
      "\n",
      "\n",
      "A value is trying to be set on a copy of a slice from a DataFrame.\n",
      "Try using .loc[row_indexer,col_indexer] = value instead\n",
      "\n",
      "See the caveats in the documentation: https://pandas.pydata.org/pandas-docs/stable/user_guide/indexing.html#returning-a-view-versus-a-copy\n",
      "\n"
     ]
    }
   ],
   "source": [
    "#hide\n",
    "df_all = read_api()\n",
    "#df_all = df_all.drop(['SP500', 'XAU', 'ETH', 'BTC'], axis=1)\n",
    "\n"
   ]
  },
  {
   "cell_type": "code",
   "execution_count": 6,
   "id": "mature-alert",
   "metadata": {
    "execution": {
     "iopub.execute_input": "2022-05-01T03:14:45.918703Z",
     "iopub.status.busy": "2022-05-01T03:14:45.915297Z",
     "iopub.status.idle": "2022-05-01T03:14:45.942923Z",
     "shell.execute_reply": "2022-05-01T03:14:45.942325Z"
    },
    "papermill": {
     "duration": 0.049639,
     "end_time": "2022-05-01T03:14:45.943044",
     "exception": false,
     "start_time": "2022-05-01T03:14:45.893405",
     "status": "completed"
    },
    "tags": []
   },
   "outputs": [],
   "source": [
    "#hide_input\n",
    "sum_corr = df_all.corr().sum().sort_values(ascending=True).index.values\n",
    "#df_all[sum_corr].corr()"
   ]
  },
  {
   "cell_type": "markdown",
   "id": "complex-syndicate",
   "metadata": {
    "papermill": {
     "duration": 0.011362,
     "end_time": "2022-05-01T03:14:45.965854",
     "exception": false,
     "start_time": "2022-05-01T03:14:45.954492",
     "status": "completed"
    },
    "tags": []
   },
   "source": [
    "## Išplėstinė koreliacijų matrica. "
   ]
  },
  {
   "cell_type": "code",
   "execution_count": 7,
   "id": "atomic-omaha",
   "metadata": {
    "execution": {
     "iopub.execute_input": "2022-05-01T03:14:46.006877Z",
     "iopub.status.busy": "2022-05-01T03:14:45.992037Z",
     "iopub.status.idle": "2022-05-01T03:14:47.195582Z",
     "shell.execute_reply": "2022-05-01T03:14:47.195149Z"
    },
    "papermill": {
     "duration": 1.218596,
     "end_time": "2022-05-01T03:14:47.195704",
     "exception": false,
     "start_time": "2022-05-01T03:14:45.977108",
     "status": "completed"
    },
    "tags": []
   },
   "outputs": [
    {
     "data": {
      "image/png": "[encoded data removed]",
      "text/plain": [
       "<Figure size 1080x792 with 2 Axes>"
      ]
     },
     "metadata": {
      "needs_background": "light"
     },
     "output_type": "display_data"
    }
   ],
   "source": [
    "#hide_input\n",
    "plt.figure(figsize=(15, 11))\n",
    "sns.heatmap(df_all[sum_corr].corr(), annot=True, cmap=\"cubehelix\") \n",
    "sns.set(font_scale=1.25)\n",
    "plt.savefig('corr_matrix.png', format='eps')"
   ]
  },
  {
   "cell_type": "code",
   "execution_count": 8,
   "id": "arbitrary-sullivan",
   "metadata": {
    "execution": {
     "iopub.execute_input": "2022-05-01T03:14:47.230901Z",
     "iopub.status.busy": "2022-05-01T03:14:47.225288Z",
     "iopub.status.idle": "2022-05-01T03:14:47.251825Z",
     "shell.execute_reply": "2022-05-01T03:14:47.251336Z"
    },
    "papermill": {
     "duration": 0.042756,
     "end_time": "2022-05-01T03:14:47.251954",
     "exception": false,
     "start_time": "2022-05-01T03:14:47.209198",
     "status": "completed"
    },
    "tags": []
   },
   "outputs": [],
   "source": [
    "#hide\n",
    "#df_all_mrk = read_api()"
   ]
  },
  {
   "cell_type": "code",
   "execution_count": 9,
   "id": "delayed-adapter",
   "metadata": {
    "execution": {
     "iopub.execute_input": "2022-05-01T03:14:47.283125Z",
     "iopub.status.busy": "2022-05-01T03:14:47.282616Z",
     "iopub.status.idle": "2022-05-01T03:14:47.309455Z",
     "shell.execute_reply": "2022-05-01T03:14:47.308940Z"
    },
    "papermill": {
     "duration": 0.043175,
     "end_time": "2022-05-01T03:14:47.309591",
     "exception": false,
     "start_time": "2022-05-01T03:14:47.266416",
     "status": "completed"
    },
    "tags": []
   },
   "outputs": [],
   "source": [
    "#hide\n",
    "#Koreliacijų koeficientai"
   ]
  },
  {
   "cell_type": "code",
   "execution_count": 10,
   "id": "seeing-celebration",
   "metadata": {
    "execution": {
     "iopub.execute_input": "2022-05-01T03:14:47.355453Z",
     "iopub.status.busy": "2022-05-01T03:14:47.349701Z",
     "iopub.status.idle": "2022-05-01T03:14:47.373527Z",
     "shell.execute_reply": "2022-05-01T03:14:47.372998Z"
    },
    "papermill": {
     "duration": 0.049285,
     "end_time": "2022-05-01T03:14:47.373655",
     "exception": false,
     "start_time": "2022-05-01T03:14:47.324370",
     "status": "completed"
    },
    "tags": []
   },
   "outputs": [],
   "source": [
    "#hide_input\n",
    "#sum_corr = df_all_mrk.corr().sum().sort_values(ascending=True).index.values\n",
    "#df_all_mrk[sum_corr].corr()"
   ]
  },
  {
   "cell_type": "code",
   "execution_count": 11,
   "id": "other-painting",
   "metadata": {
    "execution": {
     "iopub.execute_input": "2022-05-01T03:14:47.407393Z",
     "iopub.status.busy": "2022-05-01T03:14:47.406869Z",
     "iopub.status.idle": "2022-05-01T03:14:47.434039Z",
     "shell.execute_reply": "2022-05-01T03:14:47.433515Z"
    },
    "papermill": {
     "duration": 0.045798,
     "end_time": "2022-05-01T03:14:47.434182",
     "exception": false,
     "start_time": "2022-05-01T03:14:47.388384",
     "status": "completed"
    },
    "tags": []
   },
   "outputs": [],
   "source": [
    "#hide\n",
    "#Koreliacijos matrica. "
   ]
  },
  {
   "cell_type": "code",
   "execution_count": 12,
   "id": "modular-magnitude",
   "metadata": {
    "execution": {
     "iopub.execute_input": "2022-05-01T03:14:47.464303Z",
     "iopub.status.busy": "2022-05-01T03:14:47.463788Z",
     "iopub.status.idle": "2022-05-01T03:14:47.490722Z",
     "shell.execute_reply": "2022-05-01T03:14:47.490226Z"
    },
    "papermill": {
     "duration": 0.043125,
     "end_time": "2022-05-01T03:14:47.490858",
     "exception": false,
     "start_time": "2022-05-01T03:14:47.447733",
     "status": "completed"
    },
    "tags": []
   },
   "outputs": [],
   "source": [
    "#hide_input\n",
    "#plt.figure(figsize=(15, 8))\n",
    "#sns.heatmap(df_all_mrk[sum_corr].corr(), annot=True, cmap=\"BrBG\");\n",
    "#plt.savefig('corr_matrix_all.eps', format='eps')"
   ]
  },
  {
   "cell_type": "code",
   "execution_count": null,
   "id": "original-senator",
   "metadata": {
    "papermill": {
     "duration": 0.013268,
     "end_time": "2022-05-01T03:14:47.518047",
     "exception": false,
     "start_time": "2022-05-01T03:14:47.504779",
     "status": "completed"
    },
    "tags": []
   },
   "outputs": [],
   "source": []
  },
  {
   "cell_type": "code",
   "execution_count": null,
   "id": "saving-secretariat",
   "metadata": {
    "papermill": {
     "duration": 0.013262,
     "end_time": "2022-05-01T03:14:47.544490",
     "exception": false,
     "start_time": "2022-05-01T03:14:47.531228",
     "status": "completed"
    },
    "tags": []
   },
   "outputs": [],
   "source": []
  }
 ],
 "metadata": {
  "kernelspec": {
   "display_name": "Python 3",
   "language": "python",
   "name": "python3"
  },
  "language_info": {
   "codemirror_mode": {
    "name": "ipython",
    "version": 3
   },
   "file_extension": ".py",
   "mimetype": "text/x-python",
   "name": "python",
   "nbconvert_exporter": "python",
   "pygments_lexer": "ipython3",
   "version": "3.6.15"
  },
  "papermill": {
   "default_parameters": {},
   "duration": 18.742045,
   "end_time": "2022-05-01T03:14:48.077191",
   "environment_variables": {},
   "exception": null,
   "input_path": "App-Correlation_charts.ipynb",
   "output_path": "App-Correlation_charts.ipynb",
   "parameters": {},
   "start_time": "2022-05-01T03:14:29.335146",
   "version": "2.2.2"
  }
 },
 "nbformat": 4,
 "nbformat_minor": 5
}