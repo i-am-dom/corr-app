{
 "cells": [
  {
   "cell_type": "markdown",
   "id": "touched-facility",
   "metadata": {
    "papermill": {
     "duration": 0.017491,
     "end_time": "2022-04-07T02:28:46.736086",
     "exception": false,
     "start_time": "2022-04-07T02:28:46.718595",
     "status": "completed"
    },
    "tags": []
   },
   "source": [
    "# Koreliacijų matrica\n",
    "> Išplėstinė koreliacijų matrica. \n",
    "\n",
    "- toc: true \n",
    "- badges: true\n",
    "- comments: false\n",
    "- categories: [Dominykas Tautkus]\n",
    "- image: images/matrix.png"
   ]
  },
  {
   "cell_type": "code",
   "execution_count": null,
   "id": "premium-weekend",
   "metadata": {
    "papermill": {
     "duration": 0.014904,
     "end_time": "2022-04-07T02:28:46.764834",
     "exception": false,
     "start_time": "2022-04-07T02:28:46.749930",
     "status": "completed"
    },
    "tags": []
   },
   "outputs": [],
   "source": []
  },
  {
   "cell_type": "code",
   "execution_count": 1,
   "id": "vertical-rebate",
   "metadata": {
    "execution": {
     "iopub.execute_input": "2022-04-07T02:28:46.805384Z",
     "iopub.status.busy": "2022-04-07T02:28:46.804722Z",
     "iopub.status.idle": "2022-04-07T02:28:46.817365Z",
     "shell.execute_reply": "2022-04-07T02:28:46.816728Z"
    },
    "papermill": {
     "duration": 0.039681,
     "end_time": "2022-04-07T02:28:46.817520",
     "exception": false,
     "start_time": "2022-04-07T02:28:46.777839",
     "status": "completed"
    },
    "tags": []
   },
   "outputs": [],
   "source": [
    "#hide\n",
    "%load_ext autoreload\n",
    "%autoreload 2"
   ]
  },
  {
   "cell_type": "code",
   "execution_count": 2,
   "id": "overall-advancement",
   "metadata": {
    "execution": {
     "iopub.execute_input": "2022-04-07T02:28:46.850174Z",
     "iopub.status.busy": "2022-04-07T02:28:46.849296Z",
     "iopub.status.idle": "2022-04-07T02:28:48.340208Z",
     "shell.execute_reply": "2022-04-07T02:28:48.341129Z"
    },
    "papermill": {
     "duration": 1.510294,
     "end_time": "2022-04-07T02:28:48.341310",
     "exception": false,
     "start_time": "2022-04-07T02:28:46.831016",
     "status": "completed"
    },
    "tags": []
   },
   "outputs": [],
   "source": [
    "#hide\n",
    "from scripts.read_data import read_api\n",
    "from IPython.display import HTML\n",
    "import plotly.graph_objects as go\n"
   ]
  },
  {
   "cell_type": "code",
   "execution_count": 3,
   "id": "light-crazy",
   "metadata": {
    "execution": {
     "iopub.execute_input": "2022-04-07T02:28:48.374286Z",
     "iopub.status.busy": "2022-04-07T02:28:48.372686Z",
     "iopub.status.idle": "2022-04-07T02:28:48.398876Z",
     "shell.execute_reply": "2022-04-07T02:28:48.399426Z"
    },
    "papermill": {
     "duration": 0.045382,
     "end_time": "2022-04-07T02:28:48.399646",
     "exception": false,
     "start_time": "2022-04-07T02:28:48.354264",
     "status": "completed"
    },
    "tags": []
   },
   "outputs": [],
   "source": [
    "#hide\n",
    "### ICO koreliacija"
   ]
  },
  {
   "cell_type": "code",
   "execution_count": 4,
   "id": "likely-bahrain",
   "metadata": {
    "execution": {
     "iopub.execute_input": "2022-04-07T02:28:48.432102Z",
     "iopub.status.busy": "2022-04-07T02:28:48.431369Z",
     "iopub.status.idle": "2022-04-07T02:28:49.496462Z",
     "shell.execute_reply": "2022-04-07T02:28:49.497004Z"
    },
    "papermill": {
     "duration": 1.082263,
     "end_time": "2022-04-07T02:28:49.497185",
     "exception": false,
     "start_time": "2022-04-07T02:28:48.414922",
     "status": "completed"
    },
    "tags": []
   },
   "outputs": [],
   "source": [
    "#hide\n",
    "import matplotlib.pyplot as plt\n",
    "import numpy as np\n",
    "import pandas as pd\n",
    "import seaborn as sns\n",
    "import matplotlib.pyplot as plt \n",
    "import matplotlib.dates as mdates\n",
    "import matplotlib.pyplot as plt"
   ]
  },
  {
   "cell_type": "code",
   "execution_count": 5,
   "id": "superior-blanket",
   "metadata": {
    "execution": {
     "iopub.execute_input": "2022-04-07T02:28:49.531367Z",
     "iopub.status.busy": "2022-04-07T02:28:49.529873Z",
     "iopub.status.idle": "2022-04-07T02:28:59.360595Z",
     "shell.execute_reply": "2022-04-07T02:28:59.359928Z"
    },
    "papermill": {
     "duration": 9.850263,
     "end_time": "2022-04-07T02:28:59.360741",
     "exception": false,
     "start_time": "2022-04-07T02:28:49.510478",
     "status": "completed"
    },
    "tags": []
   },
   "outputs": [
    {
     "name": "stderr",
     "output_type": "stream",
     "text": [
      "/home/runner/work/corr-app/corr-app/_notebooks/scripts/read_data.py:187: SettingWithCopyWarning:\n",
      "\n",
      "\n",
      "A value is trying to be set on a copy of a slice from a DataFrame.\n",
      "Try using .loc[row_indexer,col_indexer] = value instead\n",
      "\n",
      "See the caveats in the documentation: https://pandas.pydata.org/pandas-docs/stable/user_guide/indexing.html#returning-a-view-versus-a-copy\n",
      "\n"
     ]
    },
    {
     "name": "stderr",
     "output_type": "stream",
     "text": [
      "/home/runner/work/corr-app/corr-app/_notebooks/scripts/read_data.py:215: SettingWithCopyWarning:\n",
      "\n",
      "\n",
      "A value is trying to be set on a copy of a slice from a DataFrame.\n",
      "Try using .loc[row_indexer,col_indexer] = value instead\n",
      "\n",
      "See the caveats in the documentation: https://pandas.pydata.org/pandas-docs/stable/user_guide/indexing.html#returning-a-view-versus-a-copy\n",
      "\n"
     ]
    }
   ],
   "source": [
    "#hide\n",
    "df_all = read_api()\n",
    "#df_all = df_all.drop(['SP500', 'XAU', 'ETH', 'BTC'], axis=1)\n",
    "\n"
   ]
  },
  {
   "cell_type": "code",
   "execution_count": 6,
   "id": "mature-alert",
   "metadata": {
    "execution": {
     "iopub.execute_input": "2022-04-07T02:28:59.394226Z",
     "iopub.status.busy": "2022-04-07T02:28:59.393599Z",
     "iopub.status.idle": "2022-04-07T02:28:59.432770Z",
     "shell.execute_reply": "2022-04-07T02:28:59.432132Z"
    },
    "papermill": {
     "duration": 0.056989,
     "end_time": "2022-04-07T02:28:59.433016",
     "exception": false,
     "start_time": "2022-04-07T02:28:59.376027",
     "status": "completed"
    },
    "tags": []
   },
   "outputs": [],
   "source": [
    "#hide_input\n",
    "sum_corr = df_all.corr().sum().sort_values(ascending=True).index.values\n",
    "#df_all[sum_corr].corr()"
   ]
  },
  {
   "cell_type": "markdown",
   "id": "complex-syndicate",
   "metadata": {
    "papermill": {
     "duration": 0.014083,
     "end_time": "2022-04-07T02:28:59.460880",
     "exception": false,
     "start_time": "2022-04-07T02:28:59.446797",
     "status": "completed"
    },
    "tags": []
   },
   "source": [
    "## Išplėstinė koreliacijų matrica. "
   ]
  },
  {
   "cell_type": "code",
   "execution_count": 7,
   "id": "atomic-omaha",
   "metadata": {
    "execution": {
     "iopub.execute_input": "2022-04-07T02:28:59.495319Z",
     "iopub.status.busy": "2022-04-07T02:28:59.494687Z",
     "iopub.status.idle": "2022-04-07T02:29:01.013904Z",
     "shell.execute_reply": "2022-04-07T02:29:01.013320Z"
    },
    "papermill": {
     "duration": 1.539707,
     "end_time": "2022-04-07T02:29:01.014046",
     "exception": false,
     "start_time": "2022-04-07T02:28:59.474339",
     "status": "completed"
    },
    "tags": []
   },
   "outputs": [
    {
     "data": {
      "image/png": "[encoded data removed]",
      "text/plain": [
       "<Figure size 1080x792 with 2 Axes>"
      ]
     },
     "metadata": {
      "needs_background": "light"
     },
     "output_type": "display_data"
    }
   ],
   "source": [
    "#hide_input\n",
    "plt.figure(figsize=(15, 11))\n",
    "sns.heatmap(df_all[sum_corr].corr(), annot=True, cmap=\"cubehelix\") \n",
    "sns.set(font_scale=1.25)\n",
    "plt.savefig('corr_matrix.png', format='eps')"
   ]
  },
  {
   "cell_type": "code",
   "execution_count": 8,
   "id": "arbitrary-sullivan",
   "metadata": {
    "execution": {
     "iopub.execute_input": "2022-04-07T02:29:01.053241Z",
     "iopub.status.busy": "2022-04-07T02:29:01.052085Z",
     "iopub.status.idle": "2022-04-07T02:29:01.081417Z",
     "shell.execute_reply": "2022-04-07T02:29:01.081921Z"
    },
    "papermill": {
     "duration": 0.051975,
     "end_time": "2022-04-07T02:29:01.082087",
     "exception": false,
     "start_time": "2022-04-07T02:29:01.030112",
     "status": "completed"
    },
    "tags": []
   },
   "outputs": [],
   "source": [
    "#hide\n",
    "#df_all_mrk = read_api()"
   ]
  },
  {
   "cell_type": "code",
   "execution_count": 9,
   "id": "delayed-adapter",
   "metadata": {
    "execution": {
     "iopub.execute_input": "2022-04-07T02:29:01.121139Z",
     "iopub.status.busy": "2022-04-07T02:29:01.120508Z",
     "iopub.status.idle": "2022-04-07T02:29:01.154013Z",
     "shell.execute_reply": "2022-04-07T02:29:01.154524Z"
    },
    "papermill": {
     "duration": 0.055524,
     "end_time": "2022-04-07T02:29:01.154698",
     "exception": false,
     "start_time": "2022-04-07T02:29:01.099174",
     "status": "completed"
    },
    "tags": []
   },
   "outputs": [],
   "source": [
    "#hide\n",
    "#Koreliacijų koeficientai"
   ]
  },
  {
   "cell_type": "code",
   "execution_count": 10,
   "id": "seeing-celebration",
   "metadata": {
    "execution": {
     "iopub.execute_input": "2022-04-07T02:29:01.192813Z",
     "iopub.status.busy": "2022-04-07T02:29:01.192130Z",
     "iopub.status.idle": "2022-04-07T02:29:01.223941Z",
     "shell.execute_reply": "2022-04-07T02:29:01.223025Z"
    },
    "papermill": {
     "duration": 0.052188,
     "end_time": "2022-04-07T02:29:01.224165",
     "exception": false,
     "start_time": "2022-04-07T02:29:01.171977",
     "status": "completed"
    },
    "tags": []
   },
   "outputs": [],
   "source": [
    "#hide_input\n",
    "#sum_corr = df_all_mrk.corr().sum().sort_values(ascending=True).index.values\n",
    "#df_all_mrk[sum_corr].corr()"
   ]
  },
  {
   "cell_type": "code",
   "execution_count": 11,
   "id": "other-painting",
   "metadata": {
    "execution": {
     "iopub.execute_input": "2022-04-07T02:29:01.267587Z",
     "iopub.status.busy": "2022-04-07T02:29:01.266965Z",
     "iopub.status.idle": "2022-04-07T02:29:01.299184Z",
     "shell.execute_reply": "2022-04-07T02:29:01.298582Z"
    },
    "papermill": {
     "duration": 0.057702,
     "end_time": "2022-04-07T02:29:01.299320",
     "exception": false,
     "start_time": "2022-04-07T02:29:01.241618",
     "status": "completed"
    },
    "tags": []
   },
   "outputs": [],
   "source": [
    "#hide\n",
    "#Koreliacijos matrica. "
   ]
  },
  {
   "cell_type": "code",
   "execution_count": 12,
   "id": "modular-magnitude",
   "metadata": {
    "execution": {
     "iopub.execute_input": "2022-04-07T02:29:01.339098Z",
     "iopub.status.busy": "2022-04-07T02:29:01.338313Z",
     "iopub.status.idle": "2022-04-07T02:29:01.370965Z",
     "shell.execute_reply": "2022-04-07T02:29:01.370287Z"
    },
    "papermill": {
     "duration": 0.055116,
     "end_time": "2022-04-07T02:29:01.371101",
     "exception": false,
     "start_time": "2022-04-07T02:29:01.315985",
     "status": "completed"
    },
    "tags": []
   },
   "outputs": [],
   "source": [
    "#hide_input\n",
    "#plt.figure(figsize=(15, 8))\n",
    "#sns.heatmap(df_all_mrk[sum_corr].corr(), annot=True, cmap=\"BrBG\");\n",
    "#plt.savefig('corr_matrix_all.eps', format='eps')"
   ]
  },
  {
   "cell_type": "code",
   "execution_count": null,
   "id": "original-senator",
   "metadata": {
    "papermill": {
     "duration": 0.015814,
     "end_time": "2022-04-07T02:29:01.402711",
     "exception": false,
     "start_time": "2022-04-07T02:29:01.386897",
     "status": "completed"
    },
    "tags": []
   },
   "outputs": [],
   "source": []
  },
  {
   "cell_type": "code",
   "execution_count": null,
   "id": "saving-secretariat",
   "metadata": {
    "papermill": {
     "duration": 0.015674,
     "end_time": "2022-04-07T02:29:01.434335",
     "exception": false,
     "start_time": "2022-04-07T02:29:01.418661",
     "status": "completed"
    },
    "tags": []
   },
   "outputs": [],
   "source": []
  }
 ],
 "metadata": {
  "kernelspec": {
   "display_name": "Python 3",
   "language": "python",
   "name": "python3"
  },
  "language_info": {
   "codemirror_mode": {
    "name": "ipython",
    "version": 3
   },
   "file_extension": ".py",
   "mimetype": "text/x-python",
   "name": "python",
   "nbconvert_exporter": "python",
   "pygments_lexer": "ipython3",
   "version": "3.6.15"
  },
  "papermill": {
   "default_parameters": {},
   "duration": 16.597137,
   "end_time": "2022-04-07T02:29:02.072153",
   "environment_variables": {},
   "exception": null,
   "input_path": "App-Correlation_charts.ipynb",
   "output_path": "App-Correlation_charts.ipynb",
   "parameters": {},
   "start_time": "2022-04-07T02:28:45.475016",
   "version": "2.2.2"
  }
 },
 "nbformat": 4,
 "nbformat_minor": 5
}