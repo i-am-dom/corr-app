{
 "cells": [
  {
   "cell_type": "markdown",
   "id": "touched-facility",
   "metadata": {
    "papermill": {
     "duration": 0.014965,
     "end_time": "2022-01-11T02:07:50.952008",
     "exception": false,
     "start_time": "2022-01-11T02:07:50.937043",
     "status": "completed"
    },
    "tags": []
   },
   "source": [
    "# Koreliacijų matrica\n",
    "> Išplėstinė koreliacijų matrica. \n",
    "\n",
    "- toc: true \n",
    "- badges: true\n",
    "- comments: false\n",
    "- categories: [Dominykas Tautkus]\n",
    "- image: images/matrix.png"
   ]
  },
  {
   "cell_type": "code",
   "execution_count": null,
   "id": "premium-weekend",
   "metadata": {
    "papermill": {
     "duration": 0.011841,
     "end_time": "2022-01-11T02:07:50.976332",
     "exception": false,
     "start_time": "2022-01-11T02:07:50.964491",
     "status": "completed"
    },
    "tags": []
   },
   "outputs": [],
   "source": []
  },
  {
   "cell_type": "code",
   "execution_count": 1,
   "id": "vertical-rebate",
   "metadata": {
    "execution": {
     "iopub.execute_input": "2022-01-11T02:07:51.008499Z",
     "iopub.status.busy": "2022-01-11T02:07:51.007950Z",
     "iopub.status.idle": "2022-01-11T02:07:51.018162Z",
     "shell.execute_reply": "2022-01-11T02:07:51.017726Z"
    },
    "papermill": {
     "duration": 0.031319,
     "end_time": "2022-01-11T02:07:51.018291",
     "exception": false,
     "start_time": "2022-01-11T02:07:50.986972",
     "status": "completed"
    },
    "tags": []
   },
   "outputs": [],
   "source": [
    "#hide\n",
    "%load_ext autoreload\n",
    "%autoreload 2"
   ]
  },
  {
   "cell_type": "code",
   "execution_count": 2,
   "id": "overall-advancement",
   "metadata": {
    "execution": {
     "iopub.execute_input": "2022-01-11T02:07:51.044458Z",
     "iopub.status.busy": "2022-01-11T02:07:51.043930Z",
     "iopub.status.idle": "2022-01-11T02:07:52.329987Z",
     "shell.execute_reply": "2022-01-11T02:07:52.330471Z"
    },
    "papermill": {
     "duration": 1.301605,
     "end_time": "2022-01-11T02:07:52.330658",
     "exception": false,
     "start_time": "2022-01-11T02:07:51.029053",
     "status": "completed"
    },
    "tags": []
   },
   "outputs": [],
   "source": [
    "#hide\n",
    "from scripts.read_data import read_api\n",
    "from IPython.display import HTML\n",
    "import plotly.graph_objects as go\n"
   ]
  },
  {
   "cell_type": "code",
   "execution_count": 3,
   "id": "light-crazy",
   "metadata": {
    "execution": {
     "iopub.execute_input": "2022-01-11T02:07:52.360972Z",
     "iopub.status.busy": "2022-01-11T02:07:52.360441Z",
     "iopub.status.idle": "2022-01-11T02:07:52.381350Z",
     "shell.execute_reply": "2022-01-11T02:07:52.381767Z"
    },
    "papermill": {
     "duration": 0.039827,
     "end_time": "2022-01-11T02:07:52.381918",
     "exception": false,
     "start_time": "2022-01-11T02:07:52.342091",
     "status": "completed"
    },
    "tags": []
   },
   "outputs": [],
   "source": [
    "#hide\n",
    "### ICO koreliacija"
   ]
  },
  {
   "cell_type": "code",
   "execution_count": 4,
   "id": "likely-bahrain",
   "metadata": {
    "execution": {
     "iopub.execute_input": "2022-01-11T02:07:52.409745Z",
     "iopub.status.busy": "2022-01-11T02:07:52.409205Z",
     "iopub.status.idle": "2022-01-11T02:07:53.303685Z",
     "shell.execute_reply": "2022-01-11T02:07:53.303147Z"
    },
    "papermill": {
     "duration": 0.911046,
     "end_time": "2022-01-11T02:07:53.303862",
     "exception": false,
     "start_time": "2022-01-11T02:07:52.392816",
     "status": "completed"
    },
    "tags": []
   },
   "outputs": [],
   "source": [
    "#hide\n",
    "import matplotlib.pyplot as plt\n",
    "import numpy as np\n",
    "import pandas as pd\n",
    "import seaborn as sns\n",
    "import matplotlib.pyplot as plt \n",
    "import matplotlib.dates as mdates\n",
    "import matplotlib.pyplot as plt"
   ]
  },
  {
   "cell_type": "code",
   "execution_count": 5,
   "id": "superior-blanket",
   "metadata": {
    "execution": {
     "iopub.execute_input": "2022-01-11T02:07:53.334340Z",
     "iopub.status.busy": "2022-01-11T02:07:53.333782Z",
     "iopub.status.idle": "2022-01-11T02:08:05.140682Z",
     "shell.execute_reply": "2022-01-11T02:08:05.140161Z"
    },
    "papermill": {
     "duration": 11.825225,
     "end_time": "2022-01-11T02:08:05.140809",
     "exception": false,
     "start_time": "2022-01-11T02:07:53.315584",
     "status": "completed"
    },
    "tags": []
   },
   "outputs": [
    {
     "name": "stderr",
     "output_type": "stream",
     "text": [
      "/home/runner/work/corr-app/corr-app/_notebooks/scripts/read_data.py:187: SettingWithCopyWarning:\n",
      "\n",
      "\n",
      "A value is trying to be set on a copy of a slice from a DataFrame.\n",
      "Try using .loc[row_indexer,col_indexer] = value instead\n",
      "\n",
      "See the caveats in the documentation: https://pandas.pydata.org/pandas-docs/stable/user_guide/indexing.html#returning-a-view-versus-a-copy\n",
      "\n"
     ]
    },
    {
     "name": "stderr",
     "output_type": "stream",
     "text": [
      "/home/runner/work/corr-app/corr-app/_notebooks/scripts/read_data.py:215: SettingWithCopyWarning:\n",
      "\n",
      "\n",
      "A value is trying to be set on a copy of a slice from a DataFrame.\n",
      "Try using .loc[row_indexer,col_indexer] = value instead\n",
      "\n",
      "See the caveats in the documentation: https://pandas.pydata.org/pandas-docs/stable/user_guide/indexing.html#returning-a-view-versus-a-copy\n",
      "\n"
     ]
    }
   ],
   "source": [
    "#hide\n",
    "df_all = read_api()\n",
    "#df_all = df_all.drop(['SP500', 'XAU', 'ETH', 'BTC'], axis=1)\n",
    "\n"
   ]
  },
  {
   "cell_type": "code",
   "execution_count": 6,
   "id": "mature-alert",
   "metadata": {
    "execution": {
     "iopub.execute_input": "2022-01-11T02:08:05.170018Z",
     "iopub.status.busy": "2022-01-11T02:08:05.169453Z",
     "iopub.status.idle": "2022-01-11T02:08:05.199789Z",
     "shell.execute_reply": "2022-01-11T02:08:05.199261Z"
    },
    "papermill": {
     "duration": 0.047326,
     "end_time": "2022-01-11T02:08:05.199922",
     "exception": false,
     "start_time": "2022-01-11T02:08:05.152596",
     "status": "completed"
    },
    "tags": []
   },
   "outputs": [],
   "source": [
    "#hide_input\n",
    "sum_corr = df_all.corr().sum().sort_values(ascending=True).index.values\n",
    "#df_all[sum_corr].corr()"
   ]
  },
  {
   "cell_type": "markdown",
   "id": "complex-syndicate",
   "metadata": {
    "papermill": {
     "duration": 0.011371,
     "end_time": "2022-01-11T02:08:05.223306",
     "exception": false,
     "start_time": "2022-01-11T02:08:05.211935",
     "status": "completed"
    },
    "tags": []
   },
   "source": [
    "## Išplėstinė koreliacijų matrica. "
   ]
  },
  {
   "cell_type": "code",
   "execution_count": 7,
   "id": "atomic-omaha",
   "metadata": {
    "execution": {
     "iopub.execute_input": "2022-01-11T02:08:05.250692Z",
     "iopub.status.busy": "2022-01-11T02:08:05.250172Z",
     "iopub.status.idle": "2022-01-11T02:08:06.534077Z",
     "shell.execute_reply": "2022-01-11T02:08:06.533635Z"
    },
    "papermill": {
     "duration": 1.299598,
     "end_time": "2022-01-11T02:08:06.534202",
     "exception": false,
     "start_time": "2022-01-11T02:08:05.234604",
     "status": "completed"
    },
    "tags": []
   },
   "outputs": [
    {
     "data": {
      "image/png": "[encoded data removed]",
      "text/plain": [
       "<Figure size 1080x792 with 2 Axes>"
      ]
     },
     "metadata": {
      "needs_background": "light"
     },
     "output_type": "display_data"
    }
   ],
   "source": [
    "#hide_input\n",
    "plt.figure(figsize=(15, 11))\n",
    "sns.heatmap(df_all[sum_corr].corr(), annot=True, cmap=\"cubehelix\") \n",
    "sns.set(font_scale=1.25)\n",
    "plt.savefig('corr_matrix.png', format='eps')"
   ]
  },
  {
   "cell_type": "code",
   "execution_count": 8,
   "id": "arbitrary-sullivan",
   "metadata": {
    "execution": {
     "iopub.execute_input": "2022-01-11T02:08:06.565381Z",
     "iopub.status.busy": "2022-01-11T02:08:06.564771Z",
     "iopub.status.idle": "2022-01-11T02:08:06.591512Z",
     "shell.execute_reply": "2022-01-11T02:08:06.590967Z"
    },
    "papermill": {
     "duration": 0.043806,
     "end_time": "2022-01-11T02:08:06.591644",
     "exception": false,
     "start_time": "2022-01-11T02:08:06.547838",
     "status": "completed"
    },
    "tags": []
   },
   "outputs": [],
   "source": [
    "#hide\n",
    "#df_all_mrk = read_api()"
   ]
  },
  {
   "cell_type": "code",
   "execution_count": 9,
   "id": "delayed-adapter",
   "metadata": {
    "execution": {
     "iopub.execute_input": "2022-01-11T02:08:06.621962Z",
     "iopub.status.busy": "2022-01-11T02:08:06.621441Z",
     "iopub.status.idle": "2022-01-11T02:08:06.648591Z",
     "shell.execute_reply": "2022-01-11T02:08:06.648084Z"
    },
    "papermill": {
     "duration": 0.04339,
     "end_time": "2022-01-11T02:08:06.648726",
     "exception": false,
     "start_time": "2022-01-11T02:08:06.605336",
     "status": "completed"
    },
    "tags": []
   },
   "outputs": [],
   "source": [
    "#hide\n",
    "#Koreliacijų koeficientai"
   ]
  },
  {
   "cell_type": "code",
   "execution_count": 10,
   "id": "seeing-celebration",
   "metadata": {
    "execution": {
     "iopub.execute_input": "2022-01-11T02:08:06.684759Z",
     "iopub.status.busy": "2022-01-11T02:08:06.679898Z",
     "iopub.status.idle": "2022-01-11T02:08:06.706379Z",
     "shell.execute_reply": "2022-01-11T02:08:06.705893Z"
    },
    "papermill": {
     "duration": 0.043455,
     "end_time": "2022-01-11T02:08:06.706492",
     "exception": false,
     "start_time": "2022-01-11T02:08:06.663037",
     "status": "completed"
    },
    "tags": []
   },
   "outputs": [],
   "source": [
    "#hide_input\n",
    "#sum_corr = df_all_mrk.corr().sum().sort_values(ascending=True).index.values\n",
    "#df_all_mrk[sum_corr].corr()"
   ]
  },
  {
   "cell_type": "code",
   "execution_count": 11,
   "id": "other-painting",
   "metadata": {
    "execution": {
     "iopub.execute_input": "2022-01-11T02:08:06.749414Z",
     "iopub.status.busy": "2022-01-11T02:08:06.748472Z",
     "iopub.status.idle": "2022-01-11T02:08:06.768137Z",
     "shell.execute_reply": "2022-01-11T02:08:06.767672Z"
    },
    "papermill": {
     "duration": 0.048494,
     "end_time": "2022-01-11T02:08:06.768262",
     "exception": false,
     "start_time": "2022-01-11T02:08:06.719768",
     "status": "completed"
    },
    "tags": []
   },
   "outputs": [],
   "source": [
    "#hide\n",
    "#Koreliacijos matrica. "
   ]
  },
  {
   "cell_type": "code",
   "execution_count": 12,
   "id": "modular-magnitude",
   "metadata": {
    "execution": {
     "iopub.execute_input": "2022-01-11T02:08:06.799392Z",
     "iopub.status.busy": "2022-01-11T02:08:06.798883Z",
     "iopub.status.idle": "2022-01-11T02:08:06.824405Z",
     "shell.execute_reply": "2022-01-11T02:08:06.823922Z"
    },
    "papermill": {
     "duration": 0.042871,
     "end_time": "2022-01-11T02:08:06.824537",
     "exception": false,
     "start_time": "2022-01-11T02:08:06.781666",
     "status": "completed"
    },
    "tags": []
   },
   "outputs": [],
   "source": [
    "#hide_input\n",
    "#plt.figure(figsize=(15, 8))\n",
    "#sns.heatmap(df_all_mrk[sum_corr].corr(), annot=True, cmap=\"BrBG\");\n",
    "#plt.savefig('corr_matrix_all.eps', format='eps')"
   ]
  },
  {
   "cell_type": "code",
   "execution_count": null,
   "id": "original-senator",
   "metadata": {
    "papermill": {
     "duration": 0.013032,
     "end_time": "2022-01-11T02:08:06.851195",
     "exception": false,
     "start_time": "2022-01-11T02:08:06.838163",
     "status": "completed"
    },
    "tags": []
   },
   "outputs": [],
   "source": []
  },
  {
   "cell_type": "code",
   "execution_count": null,
   "id": "saving-secretariat",
   "metadata": {
    "papermill": {
     "duration": 0.013966,
     "end_time": "2022-01-11T02:08:06.878257",
     "exception": false,
     "start_time": "2022-01-11T02:08:06.864291",
     "status": "completed"
    },
    "tags": []
   },
   "outputs": [],
   "source": []
  }
 ],
 "metadata": {
  "kernelspec": {
   "display_name": "Python 3",
   "language": "python",
   "name": "python3"
  },
  "language_info": {
   "codemirror_mode": {
    "name": "ipython",
    "version": 3
   },
   "file_extension": ".py",
   "mimetype": "text/x-python",
   "name": "python",
   "nbconvert_exporter": "python",
   "pygments_lexer": "ipython3",
   "version": "3.6.15"
  },
  "papermill": {
   "default_parameters": {},
   "duration": 17.512013,
   "end_time": "2022-01-11T02:08:07.500636",
   "environment_variables": {},
   "exception": null,
   "input_path": "App-Correlation_charts.ipynb",
   "output_path": "App-Correlation_charts.ipynb",
   "parameters": {},
   "start_time": "2022-01-11T02:07:49.988623",
   "version": "2.2.2"
  }
 },
 "nbformat": 4,
 "nbformat_minor": 5
}