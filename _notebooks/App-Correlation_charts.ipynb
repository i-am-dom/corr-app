{
 "cells": [
  {
   "cell_type": "markdown",
   "id": "touched-facility",
   "metadata": {
    "papermill": {
     "duration": 0.017875,
     "end_time": "2021-11-22T01:58:39.162772",
     "exception": false,
     "start_time": "2021-11-22T01:58:39.144897",
     "status": "completed"
    },
    "tags": []
   },
   "source": [
    "# Koreliacijų matrica\n",
    "> Išplėstinė koreliacijų matrica. \n",
    "\n",
    "- toc: true \n",
    "- badges: true\n",
    "- comments: false\n",
    "- categories: [Dominykas Tautkus]\n",
    "- image: images/matrix.png"
   ]
  },
  {
   "cell_type": "code",
   "execution_count": null,
   "id": "premium-weekend",
   "metadata": {
    "papermill": {
     "duration": 0.012137,
     "end_time": "2021-11-22T01:58:39.188109",
     "exception": false,
     "start_time": "2021-11-22T01:58:39.175972",
     "status": "completed"
    },
    "tags": []
   },
   "outputs": [],
   "source": []
  },
  {
   "cell_type": "code",
   "execution_count": 1,
   "id": "vertical-rebate",
   "metadata": {
    "execution": {
     "iopub.execute_input": "2021-11-22T01:58:39.224442Z",
     "iopub.status.busy": "2021-11-22T01:58:39.223760Z",
     "iopub.status.idle": "2021-11-22T01:58:39.236761Z",
     "shell.execute_reply": "2021-11-22T01:58:39.236048Z"
    },
    "papermill": {
     "duration": 0.036562,
     "end_time": "2021-11-22T01:58:39.236951",
     "exception": false,
     "start_time": "2021-11-22T01:58:39.200389",
     "status": "completed"
    },
    "tags": []
   },
   "outputs": [],
   "source": [
    "#hide\n",
    "%load_ext autoreload\n",
    "%autoreload 2"
   ]
  },
  {
   "cell_type": "code",
   "execution_count": 2,
   "id": "overall-advancement",
   "metadata": {
    "execution": {
     "iopub.execute_input": "2021-11-22T01:58:39.265087Z",
     "iopub.status.busy": "2021-11-22T01:58:39.264530Z",
     "iopub.status.idle": "2021-11-22T01:58:40.471137Z",
     "shell.execute_reply": "2021-11-22T01:58:40.470566Z"
    },
    "papermill": {
     "duration": 1.221909,
     "end_time": "2021-11-22T01:58:40.471311",
     "exception": false,
     "start_time": "2021-11-22T01:58:39.249402",
     "status": "completed"
    },
    "tags": []
   },
   "outputs": [],
   "source": [
    "#hide\n",
    "from scripts.read_data import read_api\n",
    "from IPython.display import HTML\n",
    "import plotly.graph_objects as go\n"
   ]
  },
  {
   "cell_type": "code",
   "execution_count": 3,
   "id": "light-crazy",
   "metadata": {
    "execution": {
     "iopub.execute_input": "2021-11-22T01:58:40.501560Z",
     "iopub.status.busy": "2021-11-22T01:58:40.500951Z",
     "iopub.status.idle": "2021-11-22T01:58:40.522787Z",
     "shell.execute_reply": "2021-11-22T01:58:40.523237Z"
    },
    "papermill": {
     "duration": 0.038756,
     "end_time": "2021-11-22T01:58:40.523365",
     "exception": false,
     "start_time": "2021-11-22T01:58:40.484609",
     "status": "completed"
    },
    "tags": []
   },
   "outputs": [],
   "source": [
    "#hide\n",
    "### ICO koreliacija"
   ]
  },
  {
   "cell_type": "code",
   "execution_count": 4,
   "id": "likely-bahrain",
   "metadata": {
    "execution": {
     "iopub.execute_input": "2021-11-22T01:58:40.553852Z",
     "iopub.status.busy": "2021-11-22T01:58:40.552476Z",
     "iopub.status.idle": "2021-11-22T01:58:41.498617Z",
     "shell.execute_reply": "2021-11-22T01:58:41.497957Z"
    },
    "papermill": {
     "duration": 0.963133,
     "end_time": "2021-11-22T01:58:41.498743",
     "exception": false,
     "start_time": "2021-11-22T01:58:40.535610",
     "status": "completed"
    },
    "tags": []
   },
   "outputs": [],
   "source": [
    "#hide\n",
    "import matplotlib.pyplot as plt\n",
    "import numpy as np\n",
    "import pandas as pd\n",
    "import seaborn as sns\n",
    "import matplotlib.pyplot as plt \n",
    "import matplotlib.dates as mdates\n",
    "import matplotlib.pyplot as plt"
   ]
  },
  {
   "cell_type": "code",
   "execution_count": 5,
   "id": "superior-blanket",
   "metadata": {
    "execution": {
     "iopub.execute_input": "2021-11-22T01:58:41.525695Z",
     "iopub.status.busy": "2021-11-22T01:58:41.525176Z",
     "iopub.status.idle": "2021-11-22T01:58:54.475971Z",
     "shell.execute_reply": "2021-11-22T01:58:54.476644Z"
    },
    "papermill": {
     "duration": 12.966381,
     "end_time": "2021-11-22T01:58:54.476849",
     "exception": false,
     "start_time": "2021-11-22T01:58:41.510468",
     "status": "completed"
    },
    "tags": []
   },
   "outputs": [
    {
     "name": "stderr",
     "output_type": "stream",
     "text": [
      "/home/runner/work/corr-app/corr-app/_notebooks/scripts/read_data.py:187: SettingWithCopyWarning:\n",
      "\n",
      "\n",
      "A value is trying to be set on a copy of a slice from a DataFrame.\n",
      "Try using .loc[row_indexer,col_indexer] = value instead\n",
      "\n",
      "See the caveats in the documentation: https://pandas.pydata.org/pandas-docs/stable/user_guide/indexing.html#returning-a-view-versus-a-copy\n",
      "\n"
     ]
    },
    {
     "name": "stderr",
     "output_type": "stream",
     "text": [
      "/home/runner/work/corr-app/corr-app/_notebooks/scripts/read_data.py:215: SettingWithCopyWarning:\n",
      "\n",
      "\n",
      "A value is trying to be set on a copy of a slice from a DataFrame.\n",
      "Try using .loc[row_indexer,col_indexer] = value instead\n",
      "\n",
      "See the caveats in the documentation: https://pandas.pydata.org/pandas-docs/stable/user_guide/indexing.html#returning-a-view-versus-a-copy\n",
      "\n"
     ]
    }
   ],
   "source": [
    "#hide\n",
    "df_all = read_api()\n",
    "#df_all = df_all.drop(['SP500', 'XAU', 'ETH', 'BTC'], axis=1)\n",
    "\n"
   ]
  },
  {
   "cell_type": "code",
   "execution_count": 6,
   "id": "mature-alert",
   "metadata": {
    "execution": {
     "iopub.execute_input": "2021-11-22T01:58:54.507047Z",
     "iopub.status.busy": "2021-11-22T01:58:54.506355Z",
     "iopub.status.idle": "2021-11-22T01:58:54.537207Z",
     "shell.execute_reply": "2021-11-22T01:58:54.537676Z"
    },
    "papermill": {
     "duration": 0.047577,
     "end_time": "2021-11-22T01:58:54.537821",
     "exception": false,
     "start_time": "2021-11-22T01:58:54.490244",
     "status": "completed"
    },
    "tags": []
   },
   "outputs": [],
   "source": [
    "#hide_input\n",
    "sum_corr = df_all.corr().sum().sort_values(ascending=True).index.values\n",
    "#df_all[sum_corr].corr()"
   ]
  },
  {
   "cell_type": "markdown",
   "id": "complex-syndicate",
   "metadata": {
    "papermill": {
     "duration": 0.013963,
     "end_time": "2021-11-22T01:58:54.566824",
     "exception": false,
     "start_time": "2021-11-22T01:58:54.552861",
     "status": "completed"
    },
    "tags": []
   },
   "source": [
    "## Išplėstinė koreliacijų matrica. "
   ]
  },
  {
   "cell_type": "code",
   "execution_count": 7,
   "id": "atomic-omaha",
   "metadata": {
    "execution": {
     "iopub.execute_input": "2021-11-22T01:58:54.597898Z",
     "iopub.status.busy": "2021-11-22T01:58:54.597319Z",
     "iopub.status.idle": "2021-11-22T01:58:56.199730Z",
     "shell.execute_reply": "2021-11-22T01:58:56.199016Z"
    },
    "papermill": {
     "duration": 1.618896,
     "end_time": "2021-11-22T01:58:56.199925",
     "exception": false,
     "start_time": "2021-11-22T01:58:54.581029",
     "status": "completed"
    },
    "tags": []
   },
   "outputs": [
    {
     "data": {
      "image/png": "[encoded data removed]",
      "text/plain": [
       "<Figure size 1080x792 with 2 Axes>"
      ]
     },
     "metadata": {
      "needs_background": "light"
     },
     "output_type": "display_data"
    }
   ],
   "source": [
    "#hide_input\n",
    "plt.figure(figsize=(15, 11))\n",
    "sns.heatmap(df_all[sum_corr].corr(), annot=True, cmap=\"cubehelix\") \n",
    "sns.set(font_scale=1.25)\n",
    "plt.savefig('corr_matrix.png', format='eps')"
   ]
  },
  {
   "cell_type": "code",
   "execution_count": 8,
   "id": "arbitrary-sullivan",
   "metadata": {
    "execution": {
     "iopub.execute_input": "2021-11-22T01:58:56.237399Z",
     "iopub.status.busy": "2021-11-22T01:58:56.234941Z",
     "iopub.status.idle": "2021-11-22T01:58:56.262074Z",
     "shell.execute_reply": "2021-11-22T01:58:56.261633Z"
    },
    "papermill": {
     "duration": 0.046032,
     "end_time": "2021-11-22T01:58:56.262174",
     "exception": false,
     "start_time": "2021-11-22T01:58:56.216142",
     "status": "completed"
    },
    "tags": []
   },
   "outputs": [],
   "source": [
    "#hide\n",
    "#df_all_mrk = read_api()"
   ]
  },
  {
   "cell_type": "code",
   "execution_count": 9,
   "id": "delayed-adapter",
   "metadata": {
    "execution": {
     "iopub.execute_input": "2021-11-22T01:58:56.294243Z",
     "iopub.status.busy": "2021-11-22T01:58:56.293672Z",
     "iopub.status.idle": "2021-11-22T01:58:56.317621Z",
     "shell.execute_reply": "2021-11-22T01:58:56.318106Z"
    },
    "papermill": {
     "duration": 0.041612,
     "end_time": "2021-11-22T01:58:56.318285",
     "exception": false,
     "start_time": "2021-11-22T01:58:56.276673",
     "status": "completed"
    },
    "tags": []
   },
   "outputs": [],
   "source": [
    "#hide\n",
    "#Koreliacijų koeficientai"
   ]
  },
  {
   "cell_type": "code",
   "execution_count": 10,
   "id": "seeing-celebration",
   "metadata": {
    "execution": {
     "iopub.execute_input": "2021-11-22T01:58:56.352541Z",
     "iopub.status.busy": "2021-11-22T01:58:56.351299Z",
     "iopub.status.idle": "2021-11-22T01:58:56.376571Z",
     "shell.execute_reply": "2021-11-22T01:58:56.376992Z"
    },
    "papermill": {
     "duration": 0.04427,
     "end_time": "2021-11-22T01:58:56.377113",
     "exception": false,
     "start_time": "2021-11-22T01:58:56.332843",
     "status": "completed"
    },
    "tags": []
   },
   "outputs": [],
   "source": [
    "#hide_input\n",
    "#sum_corr = df_all_mrk.corr().sum().sort_values(ascending=True).index.values\n",
    "#df_all_mrk[sum_corr].corr()"
   ]
  },
  {
   "cell_type": "code",
   "execution_count": 11,
   "id": "other-painting",
   "metadata": {
    "execution": {
     "iopub.execute_input": "2021-11-22T01:58:56.412298Z",
     "iopub.status.busy": "2021-11-22T01:58:56.411570Z",
     "iopub.status.idle": "2021-11-22T01:58:56.439096Z",
     "shell.execute_reply": "2021-11-22T01:58:56.439674Z"
    },
    "papermill": {
     "duration": 0.047178,
     "end_time": "2021-11-22T01:58:56.439808",
     "exception": false,
     "start_time": "2021-11-22T01:58:56.392630",
     "status": "completed"
    },
    "tags": []
   },
   "outputs": [],
   "source": [
    "#hide\n",
    "#Koreliacijos matrica. "
   ]
  },
  {
   "cell_type": "code",
   "execution_count": 12,
   "id": "modular-magnitude",
   "metadata": {
    "execution": {
     "iopub.execute_input": "2021-11-22T01:58:56.473245Z",
     "iopub.status.busy": "2021-11-22T01:58:56.472618Z",
     "iopub.status.idle": "2021-11-22T01:58:56.499931Z",
     "shell.execute_reply": "2021-11-22T01:58:56.499370Z"
    },
    "papermill": {
     "duration": 0.045613,
     "end_time": "2021-11-22T01:58:56.500077",
     "exception": false,
     "start_time": "2021-11-22T01:58:56.454464",
     "status": "completed"
    },
    "tags": []
   },
   "outputs": [],
   "source": [
    "#hide_input\n",
    "#plt.figure(figsize=(15, 8))\n",
    "#sns.heatmap(df_all_mrk[sum_corr].corr(), annot=True, cmap=\"BrBG\");\n",
    "#plt.savefig('corr_matrix_all.eps', format='eps')"
   ]
  },
  {
   "cell_type": "code",
   "execution_count": null,
   "id": "original-senator",
   "metadata": {
    "papermill": {
     "duration": 0.016427,
     "end_time": "2021-11-22T01:58:56.531137",
     "exception": false,
     "start_time": "2021-11-22T01:58:56.514710",
     "status": "completed"
    },
    "tags": []
   },
   "outputs": [],
   "source": []
  },
  {
   "cell_type": "code",
   "execution_count": null,
   "id": "saving-secretariat",
   "metadata": {
    "papermill": {
     "duration": 0.015002,
     "end_time": "2021-11-22T01:58:56.560571",
     "exception": false,
     "start_time": "2021-11-22T01:58:56.545569",
     "status": "completed"
    },
    "tags": []
   },
   "outputs": [],
   "source": []
  }
 ],
 "metadata": {
  "kernelspec": {
   "display_name": "Python 3",
   "language": "python",
   "name": "python3"
  },
  "language_info": {
   "codemirror_mode": {
    "name": "ipython",
    "version": 3
   },
   "file_extension": ".py",
   "mimetype": "text/x-python",
   "name": "python",
   "nbconvert_exporter": "python",
   "pygments_lexer": "ipython3",
   "version": "3.6.15"
  },
  "papermill": {
   "default_parameters": {},
   "duration": 18.997935,
   "end_time": "2021-11-22T01:58:57.085607",
   "environment_variables": {},
   "exception": null,
   "input_path": "App-Correlation_charts.ipynb",
   "output_path": "App-Correlation_charts.ipynb",
   "parameters": {},
   "start_time": "2021-11-22T01:58:38.087672",
   "version": "2.2.2"
  }
 },
 "nbformat": 4,
 "nbformat_minor": 5
}