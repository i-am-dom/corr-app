{
 "cells": [
  {
   "cell_type": "markdown",
   "id": "touched-facility",
   "metadata": {
    "papermill": {
     "duration": 0.020644,
     "end_time": "2022-06-07T02:57:23.173935",
     "exception": false,
     "start_time": "2022-06-07T02:57:23.153291",
     "status": "completed"
    },
    "tags": []
   },
   "source": [
    "# Koreliacijų matrica\n",
    "> Išplėstinė koreliacijų matrica. \n",
    "\n",
    "- toc: true \n",
    "- badges: true\n",
    "- comments: false\n",
    "- categories: [Dominykas Tautkus]\n",
    "- image: images/matrix.png"
   ]
  },
  {
   "cell_type": "code",
   "execution_count": null,
   "id": "premium-weekend",
   "metadata": {
    "papermill": {
     "duration": 0.012948,
     "end_time": "2022-06-07T02:57:23.200223",
     "exception": false,
     "start_time": "2022-06-07T02:57:23.187275",
     "status": "completed"
    },
    "tags": []
   },
   "outputs": [],
   "source": []
  },
  {
   "cell_type": "code",
   "execution_count": 1,
   "id": "vertical-rebate",
   "metadata": {
    "execution": {
     "iopub.execute_input": "2022-06-07T02:57:23.238096Z",
     "iopub.status.busy": "2022-06-07T02:57:23.233166Z",
     "iopub.status.idle": "2022-06-07T02:57:23.251323Z",
     "shell.execute_reply": "2022-06-07T02:57:23.250719Z"
    },
    "papermill": {
     "duration": 0.039019,
     "end_time": "2022-06-07T02:57:23.251469",
     "exception": false,
     "start_time": "2022-06-07T02:57:23.212450",
     "status": "completed"
    },
    "tags": []
   },
   "outputs": [],
   "source": [
    "#hide\n",
    "%load_ext autoreload\n",
    "%autoreload 2"
   ]
  },
  {
   "cell_type": "code",
   "execution_count": 2,
   "id": "overall-advancement",
   "metadata": {
    "execution": {
     "iopub.execute_input": "2022-06-07T02:57:23.280723Z",
     "iopub.status.busy": "2022-06-07T02:57:23.279767Z",
     "iopub.status.idle": "2022-06-07T02:57:24.798344Z",
     "shell.execute_reply": "2022-06-07T02:57:24.797607Z"
    },
    "papermill": {
     "duration": 1.535043,
     "end_time": "2022-06-07T02:57:24.798485",
     "exception": false,
     "start_time": "2022-06-07T02:57:23.263442",
     "status": "completed"
    },
    "tags": []
   },
   "outputs": [],
   "source": [
    "#hide\n",
    "from scripts.read_data import read_api\n",
    "from IPython.display import HTML\n",
    "import plotly.graph_objects as go\n"
   ]
  },
  {
   "cell_type": "code",
   "execution_count": 3,
   "id": "light-crazy",
   "metadata": {
    "execution": {
     "iopub.execute_input": "2022-06-07T02:57:24.827659Z",
     "iopub.status.busy": "2022-06-07T02:57:24.826758Z",
     "iopub.status.idle": "2022-06-07T02:57:24.854866Z",
     "shell.execute_reply": "2022-06-07T02:57:24.854279Z"
    },
    "papermill": {
     "duration": 0.044245,
     "end_time": "2022-06-07T02:57:24.855011",
     "exception": false,
     "start_time": "2022-06-07T02:57:24.810766",
     "status": "completed"
    },
    "tags": []
   },
   "outputs": [],
   "source": [
    "#hide\n",
    "### ICO koreliacija"
   ]
  },
  {
   "cell_type": "code",
   "execution_count": 4,
   "id": "likely-bahrain",
   "metadata": {
    "execution": {
     "iopub.execute_input": "2022-06-07T02:57:24.883806Z",
     "iopub.status.busy": "2022-06-07T02:57:24.883054Z",
     "iopub.status.idle": "2022-06-07T02:57:25.869639Z",
     "shell.execute_reply": "2022-06-07T02:57:25.868531Z"
    },
    "papermill": {
     "duration": 1.002404,
     "end_time": "2022-06-07T02:57:25.869783",
     "exception": false,
     "start_time": "2022-06-07T02:57:24.867379",
     "status": "completed"
    },
    "tags": []
   },
   "outputs": [],
   "source": [
    "#hide\n",
    "import matplotlib.pyplot as plt\n",
    "import numpy as np\n",
    "import pandas as pd\n",
    "import seaborn as sns\n",
    "import matplotlib.pyplot as plt \n",
    "import matplotlib.dates as mdates\n",
    "import matplotlib.pyplot as plt"
   ]
  },
  {
   "cell_type": "code",
   "execution_count": 5,
   "id": "superior-blanket",
   "metadata": {
    "execution": {
     "iopub.execute_input": "2022-06-07T02:57:25.903880Z",
     "iopub.status.busy": "2022-06-07T02:57:25.903082Z",
     "iopub.status.idle": "2022-06-07T02:57:35.302069Z",
     "shell.execute_reply": "2022-06-07T02:57:35.300891Z"
    },
    "papermill": {
     "duration": 9.419908,
     "end_time": "2022-06-07T02:57:35.302221",
     "exception": false,
     "start_time": "2022-06-07T02:57:25.882313",
     "status": "completed"
    },
    "tags": []
   },
   "outputs": [
    {
     "name": "stderr",
     "output_type": "stream",
     "text": [
      "/home/runner/work/corr-app/corr-app/_notebooks/scripts/read_data.py:187: SettingWithCopyWarning:\n",
      "\n",
      "\n",
      "A value is trying to be set on a copy of a slice from a DataFrame.\n",
      "Try using .loc[row_indexer,col_indexer] = value instead\n",
      "\n",
      "See the caveats in the documentation: https://pandas.pydata.org/pandas-docs/stable/user_guide/indexing.html#returning-a-view-versus-a-copy\n",
      "\n"
     ]
    },
    {
     "name": "stderr",
     "output_type": "stream",
     "text": [
      "/home/runner/work/corr-app/corr-app/_notebooks/scripts/read_data.py:215: SettingWithCopyWarning:\n",
      "\n",
      "\n",
      "A value is trying to be set on a copy of a slice from a DataFrame.\n",
      "Try using .loc[row_indexer,col_indexer] = value instead\n",
      "\n",
      "See the caveats in the documentation: https://pandas.pydata.org/pandas-docs/stable/user_guide/indexing.html#returning-a-view-versus-a-copy\n",
      "\n"
     ]
    }
   ],
   "source": [
    "#hide\n",
    "df_all = read_api()\n",
    "#df_all = df_all.drop(['SP500', 'XAU', 'ETH', 'BTC'], axis=1)\n",
    "\n"
   ]
  },
  {
   "cell_type": "code",
   "execution_count": 6,
   "id": "mature-alert",
   "metadata": {
    "execution": {
     "iopub.execute_input": "2022-06-07T02:57:35.334757Z",
     "iopub.status.busy": "2022-06-07T02:57:35.333786Z",
     "iopub.status.idle": "2022-06-07T02:57:35.369449Z",
     "shell.execute_reply": "2022-06-07T02:57:35.368690Z"
    },
    "papermill": {
     "duration": 0.054588,
     "end_time": "2022-06-07T02:57:35.369591",
     "exception": false,
     "start_time": "2022-06-07T02:57:35.315003",
     "status": "completed"
    },
    "tags": []
   },
   "outputs": [],
   "source": [
    "#hide_input\n",
    "sum_corr = df_all.corr().sum().sort_values(ascending=True).index.values\n",
    "#df_all[sum_corr].corr()"
   ]
  },
  {
   "cell_type": "markdown",
   "id": "complex-syndicate",
   "metadata": {
    "papermill": {
     "duration": 0.012703,
     "end_time": "2022-06-07T02:57:35.395142",
     "exception": false,
     "start_time": "2022-06-07T02:57:35.382439",
     "status": "completed"
    },
    "tags": []
   },
   "source": [
    "## Išplėstinė koreliacijų matrica. "
   ]
  },
  {
   "cell_type": "code",
   "execution_count": 7,
   "id": "atomic-omaha",
   "metadata": {
    "execution": {
     "iopub.execute_input": "2022-06-07T02:57:35.425928Z",
     "iopub.status.busy": "2022-06-07T02:57:35.425246Z",
     "iopub.status.idle": "2022-06-07T02:57:36.802820Z",
     "shell.execute_reply": "2022-06-07T02:57:36.802239Z"
    },
    "papermill": {
     "duration": 1.394781,
     "end_time": "2022-06-07T02:57:36.802956",
     "exception": false,
     "start_time": "2022-06-07T02:57:35.408175",
     "status": "completed"
    },
    "tags": []
   },
   "outputs": [
    {
     "data": {
      "image/png": "[encoded data removed]",
      "text/plain": [
       "<Figure size 1080x792 with 2 Axes>"
      ]
     },
     "metadata": {
      "needs_background": "light"
     },
     "output_type": "display_data"
    }
   ],
   "source": [
    "#hide_input\n",
    "plt.figure(figsize=(15, 11))\n",
    "sns.heatmap(df_all[sum_corr].corr(), annot=True, cmap=\"cubehelix\") \n",
    "sns.set(font_scale=1.25)\n",
    "plt.savefig('corr_matrix.png', format='eps')"
   ]
  },
  {
   "cell_type": "code",
   "execution_count": 8,
   "id": "arbitrary-sullivan",
   "metadata": {
    "execution": {
     "iopub.execute_input": "2022-06-07T02:57:36.841306Z",
     "iopub.status.busy": "2022-06-07T02:57:36.839524Z",
     "iopub.status.idle": "2022-06-07T02:57:36.870921Z",
     "shell.execute_reply": "2022-06-07T02:57:36.870123Z"
    },
    "papermill": {
     "duration": 0.052562,
     "end_time": "2022-06-07T02:57:36.871111",
     "exception": false,
     "start_time": "2022-06-07T02:57:36.818549",
     "status": "completed"
    },
    "tags": []
   },
   "outputs": [],
   "source": [
    "#hide\n",
    "#df_all_mrk = read_api()"
   ]
  },
  {
   "cell_type": "code",
   "execution_count": 9,
   "id": "delayed-adapter",
   "metadata": {
    "execution": {
     "iopub.execute_input": "2022-06-07T02:57:36.908636Z",
     "iopub.status.busy": "2022-06-07T02:57:36.907955Z",
     "iopub.status.idle": "2022-06-07T02:57:36.940787Z",
     "shell.execute_reply": "2022-06-07T02:57:36.940046Z"
    },
    "papermill": {
     "duration": 0.053001,
     "end_time": "2022-06-07T02:57:36.940945",
     "exception": false,
     "start_time": "2022-06-07T02:57:36.887944",
     "status": "completed"
    },
    "tags": []
   },
   "outputs": [],
   "source": [
    "#hide\n",
    "#Koreliacijų koeficientai"
   ]
  },
  {
   "cell_type": "code",
   "execution_count": 10,
   "id": "seeing-celebration",
   "metadata": {
    "execution": {
     "iopub.execute_input": "2022-06-07T02:57:36.979044Z",
     "iopub.status.busy": "2022-06-07T02:57:36.978282Z",
     "iopub.status.idle": "2022-06-07T02:57:37.008718Z",
     "shell.execute_reply": "2022-06-07T02:57:37.008173Z"
    },
    "papermill": {
     "duration": 0.051577,
     "end_time": "2022-06-07T02:57:37.008857",
     "exception": false,
     "start_time": "2022-06-07T02:57:36.957280",
     "status": "completed"
    },
    "tags": []
   },
   "outputs": [],
   "source": [
    "#hide_input\n",
    "#sum_corr = df_all_mrk.corr().sum().sort_values(ascending=True).index.values\n",
    "#df_all_mrk[sum_corr].corr()"
   ]
  },
  {
   "cell_type": "code",
   "execution_count": 11,
   "id": "other-painting",
   "metadata": {
    "execution": {
     "iopub.execute_input": "2022-06-07T02:57:37.043748Z",
     "iopub.status.busy": "2022-06-07T02:57:37.043018Z",
     "iopub.status.idle": "2022-06-07T02:57:37.078611Z",
     "shell.execute_reply": "2022-06-07T02:57:37.077606Z"
    },
    "papermill": {
     "duration": 0.054804,
     "end_time": "2022-06-07T02:57:37.078833",
     "exception": false,
     "start_time": "2022-06-07T02:57:37.024029",
     "status": "completed"
    },
    "tags": []
   },
   "outputs": [],
   "source": [
    "#hide\n",
    "#Koreliacijos matrica. "
   ]
  },
  {
   "cell_type": "code",
   "execution_count": 12,
   "id": "modular-magnitude",
   "metadata": {
    "execution": {
     "iopub.execute_input": "2022-06-07T02:57:37.116250Z",
     "iopub.status.busy": "2022-06-07T02:57:37.115558Z",
     "iopub.status.idle": "2022-06-07T02:57:37.148424Z",
     "shell.execute_reply": "2022-06-07T02:57:37.147442Z"
    },
    "papermill": {
     "duration": 0.054107,
     "end_time": "2022-06-07T02:57:37.148638",
     "exception": false,
     "start_time": "2022-06-07T02:57:37.094531",
     "status": "completed"
    },
    "tags": []
   },
   "outputs": [],
   "source": [
    "#hide_input\n",
    "#plt.figure(figsize=(15, 8))\n",
    "#sns.heatmap(df_all_mrk[sum_corr].corr(), annot=True, cmap=\"BrBG\");\n",
    "#plt.savefig('corr_matrix_all.eps', format='eps')"
   ]
  },
  {
   "cell_type": "code",
   "execution_count": null,
   "id": "original-senator",
   "metadata": {
    "papermill": {
     "duration": 0.015031,
     "end_time": "2022-06-07T02:57:37.179828",
     "exception": false,
     "start_time": "2022-06-07T02:57:37.164797",
     "status": "completed"
    },
    "tags": []
   },
   "outputs": [],
   "source": []
  },
  {
   "cell_type": "code",
   "execution_count": null,
   "id": "saving-secretariat",
   "metadata": {
    "papermill": {
     "duration": 0.015044,
     "end_time": "2022-06-07T02:57:37.210174",
     "exception": false,
     "start_time": "2022-06-07T02:57:37.195130",
     "status": "completed"
    },
    "tags": []
   },
   "outputs": [],
   "source": []
  }
 ],
 "metadata": {
  "kernelspec": {
   "display_name": "Python 3",
   "language": "python",
   "name": "python3"
  },
  "language_info": {
   "codemirror_mode": {
    "name": "ipython",
    "version": 3
   },
   "file_extension": ".py",
   "mimetype": "text/x-python",
   "name": "python",
   "nbconvert_exporter": "python",
   "pygments_lexer": "ipython3",
   "version": "3.6.15"
  },
  "papermill": {
   "default_parameters": {},
   "duration": 15.876081,
   "end_time": "2022-06-07T02:57:37.746399",
   "environment_variables": {},
   "exception": null,
   "input_path": "App-Correlation_charts.ipynb",
   "output_path": "App-Correlation_charts.ipynb",
   "parameters": {},
   "start_time": "2022-06-07T02:57:21.870318",
   "version": "2.2.2"
  }
 },
 "nbformat": 4,
 "nbformat_minor": 5
}