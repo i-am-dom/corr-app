{
 "cells": [
  {
   "cell_type": "markdown",
   "id": "touched-facility",
   "metadata": {
    "papermill": {
     "duration": 0.014818,
     "end_time": "2022-02-27T02:06:22.377656",
     "exception": false,
     "start_time": "2022-02-27T02:06:22.362838",
     "status": "completed"
    },
    "tags": []
   },
   "source": [
    "# Koreliacijų matrica\n",
    "> Išplėstinė koreliacijų matrica. \n",
    "\n",
    "- toc: true \n",
    "- badges: true\n",
    "- comments: false\n",
    "- categories: [Dominykas Tautkus]\n",
    "- image: images/matrix.png"
   ]
  },
  {
   "cell_type": "code",
   "execution_count": null,
   "id": "premium-weekend",
   "metadata": {
    "papermill": {
     "duration": 0.010924,
     "end_time": "2022-02-27T02:06:22.400141",
     "exception": false,
     "start_time": "2022-02-27T02:06:22.389217",
     "status": "completed"
    },
    "tags": []
   },
   "outputs": [],
   "source": []
  },
  {
   "cell_type": "code",
   "execution_count": 1,
   "id": "vertical-rebate",
   "metadata": {
    "execution": {
     "iopub.execute_input": "2022-02-27T02:06:22.432688Z",
     "iopub.status.busy": "2022-02-27T02:06:22.432126Z",
     "iopub.status.idle": "2022-02-27T02:06:22.442409Z",
     "shell.execute_reply": "2022-02-27T02:06:22.442820Z"
    },
    "papermill": {
     "duration": 0.031986,
     "end_time": "2022-02-27T02:06:22.442988",
     "exception": false,
     "start_time": "2022-02-27T02:06:22.411002",
     "status": "completed"
    },
    "tags": []
   },
   "outputs": [],
   "source": [
    "#hide\n",
    "%load_ext autoreload\n",
    "%autoreload 2"
   ]
  },
  {
   "cell_type": "code",
   "execution_count": 2,
   "id": "overall-advancement",
   "metadata": {
    "execution": {
     "iopub.execute_input": "2022-02-27T02:06:22.470605Z",
     "iopub.status.busy": "2022-02-27T02:06:22.470080Z",
     "iopub.status.idle": "2022-02-27T02:06:23.894488Z",
     "shell.execute_reply": "2022-02-27T02:06:23.893954Z"
    },
    "papermill": {
     "duration": 1.440729,
     "end_time": "2022-02-27T02:06:23.894631",
     "exception": false,
     "start_time": "2022-02-27T02:06:22.453902",
     "status": "completed"
    },
    "tags": []
   },
   "outputs": [],
   "source": [
    "#hide\n",
    "from scripts.read_data import read_api\n",
    "from IPython.display import HTML\n",
    "import plotly.graph_objects as go\n"
   ]
  },
  {
   "cell_type": "code",
   "execution_count": 3,
   "id": "light-crazy",
   "metadata": {
    "execution": {
     "iopub.execute_input": "2022-02-27T02:06:23.929645Z",
     "iopub.status.busy": "2022-02-27T02:06:23.926913Z",
     "iopub.status.idle": "2022-02-27T02:06:23.947801Z",
     "shell.execute_reply": "2022-02-27T02:06:23.947339Z"
    },
    "papermill": {
     "duration": 0.041037,
     "end_time": "2022-02-27T02:06:23.947929",
     "exception": false,
     "start_time": "2022-02-27T02:06:23.906892",
     "status": "completed"
    },
    "tags": []
   },
   "outputs": [],
   "source": [
    "#hide\n",
    "### ICO koreliacija"
   ]
  },
  {
   "cell_type": "code",
   "execution_count": 4,
   "id": "likely-bahrain",
   "metadata": {
    "execution": {
     "iopub.execute_input": "2022-02-27T02:06:23.986200Z",
     "iopub.status.busy": "2022-02-27T02:06:23.974191Z",
     "iopub.status.idle": "2022-02-27T02:06:25.044086Z",
     "shell.execute_reply": "2022-02-27T02:06:25.043152Z"
    },
    "papermill": {
     "duration": 1.084441,
     "end_time": "2022-02-27T02:06:25.044224",
     "exception": false,
     "start_time": "2022-02-27T02:06:23.959783",
     "status": "completed"
    },
    "tags": []
   },
   "outputs": [],
   "source": [
    "#hide\n",
    "import matplotlib.pyplot as plt\n",
    "import numpy as np\n",
    "import pandas as pd\n",
    "import seaborn as sns\n",
    "import matplotlib.pyplot as plt \n",
    "import matplotlib.dates as mdates\n",
    "import matplotlib.pyplot as plt"
   ]
  },
  {
   "cell_type": "code",
   "execution_count": 5,
   "id": "superior-blanket",
   "metadata": {
    "execution": {
     "iopub.execute_input": "2022-02-27T02:06:25.073005Z",
     "iopub.status.busy": "2022-02-27T02:06:25.071065Z",
     "iopub.status.idle": "2022-02-27T02:06:41.159176Z",
     "shell.execute_reply": "2022-02-27T02:06:41.159650Z"
    },
    "papermill": {
     "duration": 16.104357,
     "end_time": "2022-02-27T02:06:41.159816",
     "exception": false,
     "start_time": "2022-02-27T02:06:25.055459",
     "status": "completed"
    },
    "tags": []
   },
   "outputs": [
    {
     "name": "stderr",
     "output_type": "stream",
     "text": [
      "/home/runner/work/corr-app/corr-app/_notebooks/scripts/read_data.py:187: SettingWithCopyWarning:\n",
      "\n",
      "\n",
      "A value is trying to be set on a copy of a slice from a DataFrame.\n",
      "Try using .loc[row_indexer,col_indexer] = value instead\n",
      "\n",
      "See the caveats in the documentation: https://pandas.pydata.org/pandas-docs/stable/user_guide/indexing.html#returning-a-view-versus-a-copy\n",
      "\n"
     ]
    },
    {
     "name": "stderr",
     "output_type": "stream",
     "text": [
      "/home/runner/work/corr-app/corr-app/_notebooks/scripts/read_data.py:215: SettingWithCopyWarning:\n",
      "\n",
      "\n",
      "A value is trying to be set on a copy of a slice from a DataFrame.\n",
      "Try using .loc[row_indexer,col_indexer] = value instead\n",
      "\n",
      "See the caveats in the documentation: https://pandas.pydata.org/pandas-docs/stable/user_guide/indexing.html#returning-a-view-versus-a-copy\n",
      "\n"
     ]
    }
   ],
   "source": [
    "#hide\n",
    "df_all = read_api()\n",
    "#df_all = df_all.drop(['SP500', 'XAU', 'ETH', 'BTC'], axis=1)\n",
    "\n"
   ]
  },
  {
   "cell_type": "code",
   "execution_count": 6,
   "id": "mature-alert",
   "metadata": {
    "execution": {
     "iopub.execute_input": "2022-02-27T02:06:41.192272Z",
     "iopub.status.busy": "2022-02-27T02:06:41.191031Z",
     "iopub.status.idle": "2022-02-27T02:06:41.219013Z",
     "shell.execute_reply": "2022-02-27T02:06:41.218494Z"
    },
    "papermill": {
     "duration": 0.047465,
     "end_time": "2022-02-27T02:06:41.219152",
     "exception": false,
     "start_time": "2022-02-27T02:06:41.171687",
     "status": "completed"
    },
    "tags": []
   },
   "outputs": [],
   "source": [
    "#hide_input\n",
    "sum_corr = df_all.corr().sum().sort_values(ascending=True).index.values\n",
    "#df_all[sum_corr].corr()"
   ]
  },
  {
   "cell_type": "markdown",
   "id": "complex-syndicate",
   "metadata": {
    "papermill": {
     "duration": 0.011492,
     "end_time": "2022-02-27T02:06:41.242516",
     "exception": false,
     "start_time": "2022-02-27T02:06:41.231024",
     "status": "completed"
    },
    "tags": []
   },
   "source": [
    "## Išplėstinė koreliacijų matrica. "
   ]
  },
  {
   "cell_type": "code",
   "execution_count": 7,
   "id": "atomic-omaha",
   "metadata": {
    "execution": {
     "iopub.execute_input": "2022-02-27T02:06:41.274297Z",
     "iopub.status.busy": "2022-02-27T02:06:41.273771Z",
     "iopub.status.idle": "2022-02-27T02:06:42.559537Z",
     "shell.execute_reply": "2022-02-27T02:06:42.559933Z"
    },
    "papermill": {
     "duration": 1.305975,
     "end_time": "2022-02-27T02:06:42.560079",
     "exception": false,
     "start_time": "2022-02-27T02:06:41.254104",
     "status": "completed"
    },
    "tags": []
   },
   "outputs": [
    {
     "data": {
      "image/png": "[encoded data removed]",
      "text/plain": [
       "<Figure size 1080x792 with 2 Axes>"
      ]
     },
     "metadata": {
      "needs_background": "light"
     },
     "output_type": "display_data"
    }
   ],
   "source": [
    "#hide_input\n",
    "plt.figure(figsize=(15, 11))\n",
    "sns.heatmap(df_all[sum_corr].corr(), annot=True, cmap=\"cubehelix\") \n",
    "sns.set(font_scale=1.25)\n",
    "plt.savefig('corr_matrix.png', format='eps')"
   ]
  },
  {
   "cell_type": "code",
   "execution_count": 8,
   "id": "arbitrary-sullivan",
   "metadata": {
    "execution": {
     "iopub.execute_input": "2022-02-27T02:06:42.593332Z",
     "iopub.status.busy": "2022-02-27T02:06:42.592753Z",
     "iopub.status.idle": "2022-02-27T02:06:42.618622Z",
     "shell.execute_reply": "2022-02-27T02:06:42.618148Z"
    },
    "papermill": {
     "duration": 0.044829,
     "end_time": "2022-02-27T02:06:42.618747",
     "exception": false,
     "start_time": "2022-02-27T02:06:42.573918",
     "status": "completed"
    },
    "tags": []
   },
   "outputs": [],
   "source": [
    "#hide\n",
    "#df_all_mrk = read_api()"
   ]
  },
  {
   "cell_type": "code",
   "execution_count": 9,
   "id": "delayed-adapter",
   "metadata": {
    "execution": {
     "iopub.execute_input": "2022-02-27T02:06:42.666983Z",
     "iopub.status.busy": "2022-02-27T02:06:42.666069Z",
     "iopub.status.idle": "2022-02-27T02:06:42.682946Z",
     "shell.execute_reply": "2022-02-27T02:06:42.682514Z"
    },
    "papermill": {
     "duration": 0.050745,
     "end_time": "2022-02-27T02:06:42.683067",
     "exception": false,
     "start_time": "2022-02-27T02:06:42.632322",
     "status": "completed"
    },
    "tags": []
   },
   "outputs": [],
   "source": [
    "#hide\n",
    "#Koreliacijų koeficientai"
   ]
  },
  {
   "cell_type": "code",
   "execution_count": 10,
   "id": "seeing-celebration",
   "metadata": {
    "execution": {
     "iopub.execute_input": "2022-02-27T02:06:42.726555Z",
     "iopub.status.busy": "2022-02-27T02:06:42.726027Z",
     "iopub.status.idle": "2022-02-27T02:06:42.746778Z",
     "shell.execute_reply": "2022-02-27T02:06:42.746310Z"
    },
    "papermill": {
     "duration": 0.049097,
     "end_time": "2022-02-27T02:06:42.746897",
     "exception": false,
     "start_time": "2022-02-27T02:06:42.697800",
     "status": "completed"
    },
    "tags": []
   },
   "outputs": [],
   "source": [
    "#hide_input\n",
    "#sum_corr = df_all_mrk.corr().sum().sort_values(ascending=True).index.values\n",
    "#df_all_mrk[sum_corr].corr()"
   ]
  },
  {
   "cell_type": "code",
   "execution_count": 11,
   "id": "other-painting",
   "metadata": {
    "execution": {
     "iopub.execute_input": "2022-02-27T02:06:42.778558Z",
     "iopub.status.busy": "2022-02-27T02:06:42.778035Z",
     "iopub.status.idle": "2022-02-27T02:06:42.804022Z",
     "shell.execute_reply": "2022-02-27T02:06:42.803524Z"
    },
    "papermill": {
     "duration": 0.043553,
     "end_time": "2022-02-27T02:06:42.804158",
     "exception": false,
     "start_time": "2022-02-27T02:06:42.760605",
     "status": "completed"
    },
    "tags": []
   },
   "outputs": [],
   "source": [
    "#hide\n",
    "#Koreliacijos matrica. "
   ]
  },
  {
   "cell_type": "code",
   "execution_count": 12,
   "id": "modular-magnitude",
   "metadata": {
    "execution": {
     "iopub.execute_input": "2022-02-27T02:06:42.847042Z",
     "iopub.status.busy": "2022-02-27T02:06:42.846466Z",
     "iopub.status.idle": "2022-02-27T02:06:42.867752Z",
     "shell.execute_reply": "2022-02-27T02:06:42.867251Z"
    },
    "papermill": {
     "duration": 0.049126,
     "end_time": "2022-02-27T02:06:42.867893",
     "exception": false,
     "start_time": "2022-02-27T02:06:42.818767",
     "status": "completed"
    },
    "tags": []
   },
   "outputs": [],
   "source": [
    "#hide_input\n",
    "#plt.figure(figsize=(15, 8))\n",
    "#sns.heatmap(df_all_mrk[sum_corr].corr(), annot=True, cmap=\"BrBG\");\n",
    "#plt.savefig('corr_matrix_all.eps', format='eps')"
   ]
  },
  {
   "cell_type": "code",
   "execution_count": null,
   "id": "original-senator",
   "metadata": {
    "papermill": {
     "duration": 0.013409,
     "end_time": "2022-02-27T02:06:42.895349",
     "exception": false,
     "start_time": "2022-02-27T02:06:42.881940",
     "status": "completed"
    },
    "tags": []
   },
   "outputs": [],
   "source": []
  },
  {
   "cell_type": "code",
   "execution_count": null,
   "id": "saving-secretariat",
   "metadata": {
    "papermill": {
     "duration": 0.013414,
     "end_time": "2022-02-27T02:06:42.922232",
     "exception": false,
     "start_time": "2022-02-27T02:06:42.908818",
     "status": "completed"
    },
    "tags": []
   },
   "outputs": [],
   "source": []
  }
 ],
 "metadata": {
  "kernelspec": {
   "display_name": "Python 3",
   "language": "python",
   "name": "python3"
  },
  "language_info": {
   "codemirror_mode": {
    "name": "ipython",
    "version": 3
   },
   "file_extension": ".py",
   "mimetype": "text/x-python",
   "name": "python",
   "nbconvert_exporter": "python",
   "pygments_lexer": "ipython3",
   "version": "3.6.15"
  },
  "papermill": {
   "default_parameters": {},
   "duration": 22.045141,
   "end_time": "2022-02-27T02:06:43.454914",
   "environment_variables": {},
   "exception": null,
   "input_path": "App-Correlation_charts.ipynb",
   "output_path": "App-Correlation_charts.ipynb",
   "parameters": {},
   "start_time": "2022-02-27T02:06:21.409773",
   "version": "2.2.2"
  }
 },
 "nbformat": 4,
 "nbformat_minor": 5
}