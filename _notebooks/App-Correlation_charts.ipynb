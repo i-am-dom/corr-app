{
 "cells": [
  {
   "cell_type": "markdown",
   "id": "touched-facility",
   "metadata": {
    "papermill": {
     "duration": 0.014597,
     "end_time": "2022-06-11T02:56:07.786391",
     "exception": false,
     "start_time": "2022-06-11T02:56:07.771794",
     "status": "completed"
    },
    "tags": []
   },
   "source": [
    "# Koreliacijų matrica\n",
    "> Išplėstinė koreliacijų matrica. \n",
    "\n",
    "- toc: true \n",
    "- badges: true\n",
    "- comments: false\n",
    "- categories: [Dominykas Tautkus]\n",
    "- image: images/matrix.png"
   ]
  },
  {
   "cell_type": "code",
   "execution_count": null,
   "id": "premium-weekend",
   "metadata": {
    "papermill": {
     "duration": 0.010778,
     "end_time": "2022-06-11T02:56:07.808640",
     "exception": false,
     "start_time": "2022-06-11T02:56:07.797862",
     "status": "completed"
    },
    "tags": []
   },
   "outputs": [],
   "source": []
  },
  {
   "cell_type": "code",
   "execution_count": 1,
   "id": "vertical-rebate",
   "metadata": {
    "execution": {
     "iopub.execute_input": "2022-06-11T02:56:07.841130Z",
     "iopub.status.busy": "2022-06-11T02:56:07.840499Z",
     "iopub.status.idle": "2022-06-11T02:56:07.851018Z",
     "shell.execute_reply": "2022-06-11T02:56:07.850514Z"
    },
    "papermill": {
     "duration": 0.031929,
     "end_time": "2022-06-11T02:56:07.851139",
     "exception": false,
     "start_time": "2022-06-11T02:56:07.819210",
     "status": "completed"
    },
    "tags": []
   },
   "outputs": [],
   "source": [
    "#hide\n",
    "%load_ext autoreload\n",
    "%autoreload 2"
   ]
  },
  {
   "cell_type": "code",
   "execution_count": 2,
   "id": "overall-advancement",
   "metadata": {
    "execution": {
     "iopub.execute_input": "2022-06-11T02:56:07.886447Z",
     "iopub.status.busy": "2022-06-11T02:56:07.884224Z",
     "iopub.status.idle": "2022-06-11T02:56:09.248771Z",
     "shell.execute_reply": "2022-06-11T02:56:09.249346Z"
    },
    "papermill": {
     "duration": 1.387787,
     "end_time": "2022-06-11T02:56:09.249523",
     "exception": false,
     "start_time": "2022-06-11T02:56:07.861736",
     "status": "completed"
    },
    "tags": []
   },
   "outputs": [],
   "source": [
    "#hide\n",
    "from scripts.read_data import read_api\n",
    "from IPython.display import HTML\n",
    "import plotly.graph_objects as go\n"
   ]
  },
  {
   "cell_type": "code",
   "execution_count": 3,
   "id": "light-crazy",
   "metadata": {
    "execution": {
     "iopub.execute_input": "2022-06-11T02:56:09.293843Z",
     "iopub.status.busy": "2022-06-11T02:56:09.286000Z",
     "iopub.status.idle": "2022-06-11T02:56:09.306862Z",
     "shell.execute_reply": "2022-06-11T02:56:09.306073Z"
    },
    "papermill": {
     "duration": 0.045511,
     "end_time": "2022-06-11T02:56:09.306986",
     "exception": false,
     "start_time": "2022-06-11T02:56:09.261475",
     "status": "completed"
    },
    "tags": []
   },
   "outputs": [],
   "source": [
    "#hide\n",
    "### ICO koreliacija"
   ]
  },
  {
   "cell_type": "code",
   "execution_count": 4,
   "id": "likely-bahrain",
   "metadata": {
    "execution": {
     "iopub.execute_input": "2022-06-11T02:56:09.332577Z",
     "iopub.status.busy": "2022-06-11T02:56:09.331510Z",
     "iopub.status.idle": "2022-06-11T02:56:10.178020Z",
     "shell.execute_reply": "2022-06-11T02:56:10.177148Z"
    },
    "papermill": {
     "duration": 0.860405,
     "end_time": "2022-06-11T02:56:10.178150",
     "exception": false,
     "start_time": "2022-06-11T02:56:09.317745",
     "status": "completed"
    },
    "tags": []
   },
   "outputs": [],
   "source": [
    "#hide\n",
    "import matplotlib.pyplot as plt\n",
    "import numpy as np\n",
    "import pandas as pd\n",
    "import seaborn as sns\n",
    "import matplotlib.pyplot as plt \n",
    "import matplotlib.dates as mdates\n",
    "import matplotlib.pyplot as plt"
   ]
  },
  {
   "cell_type": "code",
   "execution_count": 5,
   "id": "superior-blanket",
   "metadata": {
    "execution": {
     "iopub.execute_input": "2022-06-11T02:56:10.227154Z",
     "iopub.status.busy": "2022-06-11T02:56:10.226084Z",
     "iopub.status.idle": "2022-06-11T02:56:19.602409Z",
     "shell.execute_reply": "2022-06-11T02:56:19.601496Z"
    },
    "papermill": {
     "duration": 9.413461,
     "end_time": "2022-06-11T02:56:19.602549",
     "exception": false,
     "start_time": "2022-06-11T02:56:10.189088",
     "status": "completed"
    },
    "tags": []
   },
   "outputs": [
    {
     "name": "stderr",
     "output_type": "stream",
     "text": [
      "/home/runner/work/corr-app/corr-app/_notebooks/scripts/read_data.py:187: SettingWithCopyWarning:\n",
      "\n",
      "\n",
      "A value is trying to be set on a copy of a slice from a DataFrame.\n",
      "Try using .loc[row_indexer,col_indexer] = value instead\n",
      "\n",
      "See the caveats in the documentation: https://pandas.pydata.org/pandas-docs/stable/user_guide/indexing.html#returning-a-view-versus-a-copy\n",
      "\n"
     ]
    },
    {
     "name": "stderr",
     "output_type": "stream",
     "text": [
      "/home/runner/work/corr-app/corr-app/_notebooks/scripts/read_data.py:215: SettingWithCopyWarning:\n",
      "\n",
      "\n",
      "A value is trying to be set on a copy of a slice from a DataFrame.\n",
      "Try using .loc[row_indexer,col_indexer] = value instead\n",
      "\n",
      "See the caveats in the documentation: https://pandas.pydata.org/pandas-docs/stable/user_guide/indexing.html#returning-a-view-versus-a-copy\n",
      "\n"
     ]
    }
   ],
   "source": [
    "#hide\n",
    "df_all = read_api()\n",
    "#df_all = df_all.drop(['SP500', 'XAU', 'ETH', 'BTC'], axis=1)\n",
    "\n"
   ]
  },
  {
   "cell_type": "code",
   "execution_count": 6,
   "id": "mature-alert",
   "metadata": {
    "execution": {
     "iopub.execute_input": "2022-06-11T02:56:19.643363Z",
     "iopub.status.busy": "2022-06-11T02:56:19.642405Z",
     "iopub.status.idle": "2022-06-11T02:56:19.667201Z",
     "shell.execute_reply": "2022-06-11T02:56:19.666261Z"
    },
    "papermill": {
     "duration": 0.05319,
     "end_time": "2022-06-11T02:56:19.667341",
     "exception": false,
     "start_time": "2022-06-11T02:56:19.614151",
     "status": "completed"
    },
    "tags": []
   },
   "outputs": [],
   "source": [
    "#hide_input\n",
    "sum_corr = df_all.corr().sum().sort_values(ascending=True).index.values\n",
    "#df_all[sum_corr].corr()"
   ]
  },
  {
   "cell_type": "markdown",
   "id": "complex-syndicate",
   "metadata": {
    "papermill": {
     "duration": 0.0111,
     "end_time": "2022-06-11T02:56:19.690688",
     "exception": false,
     "start_time": "2022-06-11T02:56:19.679588",
     "status": "completed"
    },
    "tags": []
   },
   "source": [
    "## Išplėstinė koreliacijų matrica. "
   ]
  },
  {
   "cell_type": "code",
   "execution_count": 7,
   "id": "atomic-omaha",
   "metadata": {
    "execution": {
     "iopub.execute_input": "2022-06-11T02:56:19.729991Z",
     "iopub.status.busy": "2022-06-11T02:56:19.726276Z",
     "iopub.status.idle": "2022-06-11T02:56:20.943620Z",
     "shell.execute_reply": "2022-06-11T02:56:20.944149Z"
    },
    "papermill": {
     "duration": 1.242506,
     "end_time": "2022-06-11T02:56:20.944309",
     "exception": false,
     "start_time": "2022-06-11T02:56:19.701803",
     "status": "completed"
    },
    "tags": []
   },
   "outputs": [
    {
     "data": {
      "image/png": "[encoded data removed]",
      "text/plain": [
       "<Figure size 1080x792 with 2 Axes>"
      ]
     },
     "metadata": {
      "needs_background": "light"
     },
     "output_type": "display_data"
    }
   ],
   "source": [
    "#hide_input\n",
    "plt.figure(figsize=(15, 11))\n",
    "sns.heatmap(df_all[sum_corr].corr(), annot=True, cmap=\"cubehelix\") \n",
    "sns.set(font_scale=1.25)\n",
    "plt.savefig('corr_matrix.png', format='eps')"
   ]
  },
  {
   "cell_type": "code",
   "execution_count": 8,
   "id": "arbitrary-sullivan",
   "metadata": {
    "execution": {
     "iopub.execute_input": "2022-06-11T02:56:20.974805Z",
     "iopub.status.busy": "2022-06-11T02:56:20.974220Z",
     "iopub.status.idle": "2022-06-11T02:56:21.002339Z",
     "shell.execute_reply": "2022-06-11T02:56:21.001719Z"
    },
    "papermill": {
     "duration": 0.044456,
     "end_time": "2022-06-11T02:56:21.002473",
     "exception": false,
     "start_time": "2022-06-11T02:56:20.958017",
     "status": "completed"
    },
    "tags": []
   },
   "outputs": [],
   "source": [
    "#hide\n",
    "#df_all_mrk = read_api()"
   ]
  },
  {
   "cell_type": "code",
   "execution_count": 9,
   "id": "delayed-adapter",
   "metadata": {
    "execution": {
     "iopub.execute_input": "2022-06-11T02:56:21.046406Z",
     "iopub.status.busy": "2022-06-11T02:56:21.045793Z",
     "iopub.status.idle": "2022-06-11T02:56:21.065945Z",
     "shell.execute_reply": "2022-06-11T02:56:21.066410Z"
    },
    "papermill": {
     "duration": 0.050324,
     "end_time": "2022-06-11T02:56:21.066554",
     "exception": false,
     "start_time": "2022-06-11T02:56:21.016230",
     "status": "completed"
    },
    "tags": []
   },
   "outputs": [],
   "source": [
    "#hide\n",
    "#Koreliacijų koeficientai"
   ]
  },
  {
   "cell_type": "code",
   "execution_count": 10,
   "id": "seeing-celebration",
   "metadata": {
    "execution": {
     "iopub.execute_input": "2022-06-11T02:56:21.099706Z",
     "iopub.status.busy": "2022-06-11T02:56:21.096716Z",
     "iopub.status.idle": "2022-06-11T02:56:21.124357Z",
     "shell.execute_reply": "2022-06-11T02:56:21.123865Z"
    },
    "papermill": {
     "duration": 0.044451,
     "end_time": "2022-06-11T02:56:21.124472",
     "exception": false,
     "start_time": "2022-06-11T02:56:21.080021",
     "status": "completed"
    },
    "tags": []
   },
   "outputs": [],
   "source": [
    "#hide_input\n",
    "#sum_corr = df_all_mrk.corr().sum().sort_values(ascending=True).index.values\n",
    "#df_all_mrk[sum_corr].corr()"
   ]
  },
  {
   "cell_type": "code",
   "execution_count": 11,
   "id": "other-painting",
   "metadata": {
    "execution": {
     "iopub.execute_input": "2022-06-11T02:56:21.165082Z",
     "iopub.status.busy": "2022-06-11T02:56:21.164472Z",
     "iopub.status.idle": "2022-06-11T02:56:21.187525Z",
     "shell.execute_reply": "2022-06-11T02:56:21.187019Z"
    },
    "papermill": {
     "duration": 0.049977,
     "end_time": "2022-06-11T02:56:21.187649",
     "exception": false,
     "start_time": "2022-06-11T02:56:21.137672",
     "status": "completed"
    },
    "tags": []
   },
   "outputs": [],
   "source": [
    "#hide\n",
    "#Koreliacijos matrica. "
   ]
  },
  {
   "cell_type": "code",
   "execution_count": 12,
   "id": "modular-magnitude",
   "metadata": {
    "execution": {
     "iopub.execute_input": "2022-06-11T02:56:21.219843Z",
     "iopub.status.busy": "2022-06-11T02:56:21.218259Z",
     "iopub.status.idle": "2022-06-11T02:56:21.245441Z",
     "shell.execute_reply": "2022-06-11T02:56:21.244501Z"
    },
    "papermill": {
     "duration": 0.043923,
     "end_time": "2022-06-11T02:56:21.245566",
     "exception": false,
     "start_time": "2022-06-11T02:56:21.201643",
     "status": "completed"
    },
    "tags": []
   },
   "outputs": [],
   "source": [
    "#hide_input\n",
    "#plt.figure(figsize=(15, 8))\n",
    "#sns.heatmap(df_all_mrk[sum_corr].corr(), annot=True, cmap=\"BrBG\");\n",
    "#plt.savefig('corr_matrix_all.eps', format='eps')"
   ]
  },
  {
   "cell_type": "code",
   "execution_count": null,
   "id": "original-senator",
   "metadata": {
    "papermill": {
     "duration": 0.013007,
     "end_time": "2022-06-11T02:56:21.271709",
     "exception": false,
     "start_time": "2022-06-11T02:56:21.258702",
     "status": "completed"
    },
    "tags": []
   },
   "outputs": [],
   "source": []
  },
  {
   "cell_type": "code",
   "execution_count": null,
   "id": "saving-secretariat",
   "metadata": {
    "papermill": {
     "duration": 0.013793,
     "end_time": "2022-06-11T02:56:21.298566",
     "exception": false,
     "start_time": "2022-06-11T02:56:21.284773",
     "status": "completed"
    },
    "tags": []
   },
   "outputs": [],
   "source": []
  }
 ],
 "metadata": {
  "kernelspec": {
   "display_name": "Python 3",
   "language": "python",
   "name": "python3"
  },
  "language_info": {
   "codemirror_mode": {
    "name": "ipython",
    "version": 3
   },
   "file_extension": ".py",
   "mimetype": "text/x-python",
   "name": "python",
   "nbconvert_exporter": "python",
   "pygments_lexer": "ipython3",
   "version": "3.6.15"
  },
  "papermill": {
   "default_parameters": {},
   "duration": 15.31592,
   "end_time": "2022-06-11T02:56:21.940439",
   "environment_variables": {},
   "exception": null,
   "input_path": "App-Correlation_charts.ipynb",
   "output_path": "App-Correlation_charts.ipynb",
   "parameters": {},
   "start_time": "2022-06-11T02:56:06.624519",
   "version": "2.2.2"
  }
 },
 "nbformat": 4,
 "nbformat_minor": 5
}