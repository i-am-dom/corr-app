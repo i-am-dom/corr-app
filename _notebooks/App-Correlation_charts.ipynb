{
 "cells": [
  {
   "cell_type": "markdown",
   "id": "touched-facility",
   "metadata": {
    "papermill": {
     "duration": 0.015372,
     "end_time": "2022-05-05T02:55:57.459345",
     "exception": false,
     "start_time": "2022-05-05T02:55:57.443973",
     "status": "completed"
    },
    "tags": []
   },
   "source": [
    "# Koreliacijų matrica\n",
    "> Išplėstinė koreliacijų matrica. \n",
    "\n",
    "- toc: true \n",
    "- badges: true\n",
    "- comments: false\n",
    "- categories: [Dominykas Tautkus]\n",
    "- image: images/matrix.png"
   ]
  },
  {
   "cell_type": "code",
   "execution_count": null,
   "id": "premium-weekend",
   "metadata": {
    "papermill": {
     "duration": 0.009667,
     "end_time": "2022-05-05T02:55:57.479306",
     "exception": false,
     "start_time": "2022-05-05T02:55:57.469639",
     "status": "completed"
    },
    "tags": []
   },
   "outputs": [],
   "source": []
  },
  {
   "cell_type": "code",
   "execution_count": 1,
   "id": "vertical-rebate",
   "metadata": {
    "execution": {
     "iopub.execute_input": "2022-05-05T02:55:57.508641Z",
     "iopub.status.busy": "2022-05-05T02:55:57.508139Z",
     "iopub.status.idle": "2022-05-05T02:55:57.518932Z",
     "shell.execute_reply": "2022-05-05T02:55:57.518521Z"
    },
    "papermill": {
     "duration": 0.030223,
     "end_time": "2022-05-05T02:55:57.519037",
     "exception": false,
     "start_time": "2022-05-05T02:55:57.488814",
     "status": "completed"
    },
    "tags": []
   },
   "outputs": [],
   "source": [
    "#hide\n",
    "%load_ext autoreload\n",
    "%autoreload 2"
   ]
  },
  {
   "cell_type": "code",
   "execution_count": 2,
   "id": "overall-advancement",
   "metadata": {
    "execution": {
     "iopub.execute_input": "2022-05-05T02:55:57.547012Z",
     "iopub.status.busy": "2022-05-05T02:55:57.544581Z",
     "iopub.status.idle": "2022-05-05T02:55:58.649808Z",
     "shell.execute_reply": "2022-05-05T02:55:58.649255Z"
    },
    "papermill": {
     "duration": 1.121441,
     "end_time": "2022-05-05T02:55:58.649951",
     "exception": false,
     "start_time": "2022-05-05T02:55:57.528510",
     "status": "completed"
    },
    "tags": []
   },
   "outputs": [],
   "source": [
    "#hide\n",
    "from scripts.read_data import read_api\n",
    "from IPython.display import HTML\n",
    "import plotly.graph_objects as go\n"
   ]
  },
  {
   "cell_type": "code",
   "execution_count": 3,
   "id": "light-crazy",
   "metadata": {
    "execution": {
     "iopub.execute_input": "2022-05-05T02:55:58.675434Z",
     "iopub.status.busy": "2022-05-05T02:55:58.674973Z",
     "iopub.status.idle": "2022-05-05T02:55:58.695121Z",
     "shell.execute_reply": "2022-05-05T02:55:58.695478Z"
    },
    "papermill": {
     "duration": 0.034613,
     "end_time": "2022-05-05T02:55:58.695606",
     "exception": false,
     "start_time": "2022-05-05T02:55:58.660993",
     "status": "completed"
    },
    "tags": []
   },
   "outputs": [],
   "source": [
    "#hide\n",
    "### ICO koreliacija"
   ]
  },
  {
   "cell_type": "code",
   "execution_count": 4,
   "id": "likely-bahrain",
   "metadata": {
    "execution": {
     "iopub.execute_input": "2022-05-05T02:55:58.719524Z",
     "iopub.status.busy": "2022-05-05T02:55:58.719053Z",
     "iopub.status.idle": "2022-05-05T02:55:59.482677Z",
     "shell.execute_reply": "2022-05-05T02:55:59.483179Z"
    },
    "papermill": {
     "duration": 0.778222,
     "end_time": "2022-05-05T02:55:59.483346",
     "exception": false,
     "start_time": "2022-05-05T02:55:58.705124",
     "status": "completed"
    },
    "tags": []
   },
   "outputs": [],
   "source": [
    "#hide\n",
    "import matplotlib.pyplot as plt\n",
    "import numpy as np\n",
    "import pandas as pd\n",
    "import seaborn as sns\n",
    "import matplotlib.pyplot as plt \n",
    "import matplotlib.dates as mdates\n",
    "import matplotlib.pyplot as plt"
   ]
  },
  {
   "cell_type": "code",
   "execution_count": 5,
   "id": "superior-blanket",
   "metadata": {
    "execution": {
     "iopub.execute_input": "2022-05-05T02:55:59.510898Z",
     "iopub.status.busy": "2022-05-05T02:55:59.510275Z",
     "iopub.status.idle": "2022-05-05T02:56:08.351711Z",
     "shell.execute_reply": "2022-05-05T02:56:08.352131Z"
    },
    "papermill": {
     "duration": 8.857303,
     "end_time": "2022-05-05T02:56:08.352270",
     "exception": false,
     "start_time": "2022-05-05T02:55:59.494967",
     "status": "completed"
    },
    "tags": []
   },
   "outputs": [
    {
     "name": "stderr",
     "output_type": "stream",
     "text": [
      "/home/runner/work/corr-app/corr-app/_notebooks/scripts/read_data.py:187: SettingWithCopyWarning:\n",
      "\n",
      "\n",
      "A value is trying to be set on a copy of a slice from a DataFrame.\n",
      "Try using .loc[row_indexer,col_indexer] = value instead\n",
      "\n",
      "See the caveats in the documentation: https://pandas.pydata.org/pandas-docs/stable/user_guide/indexing.html#returning-a-view-versus-a-copy\n",
      "\n"
     ]
    },
    {
     "name": "stderr",
     "output_type": "stream",
     "text": [
      "/home/runner/work/corr-app/corr-app/_notebooks/scripts/read_data.py:215: SettingWithCopyWarning:\n",
      "\n",
      "\n",
      "A value is trying to be set on a copy of a slice from a DataFrame.\n",
      "Try using .loc[row_indexer,col_indexer] = value instead\n",
      "\n",
      "See the caveats in the documentation: https://pandas.pydata.org/pandas-docs/stable/user_guide/indexing.html#returning-a-view-versus-a-copy\n",
      "\n"
     ]
    }
   ],
   "source": [
    "#hide\n",
    "df_all = read_api()\n",
    "#df_all = df_all.drop(['SP500', 'XAU', 'ETH', 'BTC'], axis=1)\n",
    "\n"
   ]
  },
  {
   "cell_type": "code",
   "execution_count": 6,
   "id": "mature-alert",
   "metadata": {
    "execution": {
     "iopub.execute_input": "2022-05-05T02:56:08.377872Z",
     "iopub.status.busy": "2022-05-05T02:56:08.377405Z",
     "iopub.status.idle": "2022-05-05T02:56:08.405399Z",
     "shell.execute_reply": "2022-05-05T02:56:08.404889Z"
    },
    "papermill": {
     "duration": 0.042676,
     "end_time": "2022-05-05T02:56:08.405530",
     "exception": false,
     "start_time": "2022-05-05T02:56:08.362854",
     "status": "completed"
    },
    "tags": []
   },
   "outputs": [],
   "source": [
    "#hide_input\n",
    "sum_corr = df_all.corr().sum().sort_values(ascending=True).index.values\n",
    "#df_all[sum_corr].corr()"
   ]
  },
  {
   "cell_type": "markdown",
   "id": "complex-syndicate",
   "metadata": {
    "papermill": {
     "duration": 0.009879,
     "end_time": "2022-05-05T02:56:08.427517",
     "exception": false,
     "start_time": "2022-05-05T02:56:08.417638",
     "status": "completed"
    },
    "tags": []
   },
   "source": [
    "## Išplėstinė koreliacijų matrica. "
   ]
  },
  {
   "cell_type": "code",
   "execution_count": 7,
   "id": "atomic-omaha",
   "metadata": {
    "execution": {
     "iopub.execute_input": "2022-05-05T02:56:08.453795Z",
     "iopub.status.busy": "2022-05-05T02:56:08.453344Z",
     "iopub.status.idle": "2022-05-05T02:56:09.538795Z",
     "shell.execute_reply": "2022-05-05T02:56:09.539267Z"
    },
    "papermill": {
     "duration": 1.102066,
     "end_time": "2022-05-05T02:56:09.539420",
     "exception": false,
     "start_time": "2022-05-05T02:56:08.437354",
     "status": "completed"
    },
    "tags": []
   },
   "outputs": [
    {
     "data": {
      "image/png": "[encoded data removed]",
      "text/plain": [
       "<Figure size 1080x792 with 2 Axes>"
      ]
     },
     "metadata": {
      "needs_background": "light"
     },
     "output_type": "display_data"
    }
   ],
   "source": [
    "#hide_input\n",
    "plt.figure(figsize=(15, 11))\n",
    "sns.heatmap(df_all[sum_corr].corr(), annot=True, cmap=\"cubehelix\") \n",
    "sns.set(font_scale=1.25)\n",
    "plt.savefig('corr_matrix.png', format='eps')"
   ]
  },
  {
   "cell_type": "code",
   "execution_count": 8,
   "id": "arbitrary-sullivan",
   "metadata": {
    "execution": {
     "iopub.execute_input": "2022-05-05T02:56:09.577262Z",
     "iopub.status.busy": "2022-05-05T02:56:09.573354Z",
     "iopub.status.idle": "2022-05-05T02:56:09.595944Z",
     "shell.execute_reply": "2022-05-05T02:56:09.596366Z"
    },
    "papermill": {
     "duration": 0.044192,
     "end_time": "2022-05-05T02:56:09.596510",
     "exception": false,
     "start_time": "2022-05-05T02:56:09.552318",
     "status": "completed"
    },
    "tags": []
   },
   "outputs": [],
   "source": [
    "#hide\n",
    "#df_all_mrk = read_api()"
   ]
  },
  {
   "cell_type": "code",
   "execution_count": 9,
   "id": "delayed-adapter",
   "metadata": {
    "execution": {
     "iopub.execute_input": "2022-05-05T02:56:09.630719Z",
     "iopub.status.busy": "2022-05-05T02:56:09.624250Z",
     "iopub.status.idle": "2022-05-05T02:56:09.650317Z",
     "shell.execute_reply": "2022-05-05T02:56:09.650808Z"
    },
    "papermill": {
     "duration": 0.041275,
     "end_time": "2022-05-05T02:56:09.650954",
     "exception": false,
     "start_time": "2022-05-05T02:56:09.609679",
     "status": "completed"
    },
    "tags": []
   },
   "outputs": [],
   "source": [
    "#hide\n",
    "#Koreliacijų koeficientai"
   ]
  },
  {
   "cell_type": "code",
   "execution_count": 10,
   "id": "seeing-celebration",
   "metadata": {
    "execution": {
     "iopub.execute_input": "2022-05-05T02:56:09.695629Z",
     "iopub.status.busy": "2022-05-05T02:56:09.694738Z",
     "iopub.status.idle": "2022-05-05T02:56:09.710246Z",
     "shell.execute_reply": "2022-05-05T02:56:09.710634Z"
    },
    "papermill": {
     "duration": 0.045991,
     "end_time": "2022-05-05T02:56:09.710763",
     "exception": false,
     "start_time": "2022-05-05T02:56:09.664772",
     "status": "completed"
    },
    "tags": []
   },
   "outputs": [],
   "source": [
    "#hide_input\n",
    "#sum_corr = df_all_mrk.corr().sum().sort_values(ascending=True).index.values\n",
    "#df_all_mrk[sum_corr].corr()"
   ]
  },
  {
   "cell_type": "code",
   "execution_count": 11,
   "id": "other-painting",
   "metadata": {
    "execution": {
     "iopub.execute_input": "2022-05-05T02:56:09.739749Z",
     "iopub.status.busy": "2022-05-05T02:56:09.737234Z",
     "iopub.status.idle": "2022-05-05T02:56:09.765062Z",
     "shell.execute_reply": "2022-05-05T02:56:09.764697Z"
    },
    "papermill": {
     "duration": 0.041845,
     "end_time": "2022-05-05T02:56:09.765163",
     "exception": false,
     "start_time": "2022-05-05T02:56:09.723318",
     "status": "completed"
    },
    "tags": []
   },
   "outputs": [],
   "source": [
    "#hide\n",
    "#Koreliacijos matrica. "
   ]
  },
  {
   "cell_type": "code",
   "execution_count": 12,
   "id": "modular-magnitude",
   "metadata": {
    "execution": {
     "iopub.execute_input": "2022-05-05T02:56:09.799170Z",
     "iopub.status.busy": "2022-05-05T02:56:09.798710Z",
     "iopub.status.idle": "2022-05-05T02:56:09.819091Z",
     "shell.execute_reply": "2022-05-05T02:56:09.818629Z"
    },
    "papermill": {
     "duration": 0.042202,
     "end_time": "2022-05-05T02:56:09.819203",
     "exception": false,
     "start_time": "2022-05-05T02:56:09.777001",
     "status": "completed"
    },
    "tags": []
   },
   "outputs": [],
   "source": [
    "#hide_input\n",
    "#plt.figure(figsize=(15, 8))\n",
    "#sns.heatmap(df_all_mrk[sum_corr].corr(), annot=True, cmap=\"BrBG\");\n",
    "#plt.savefig('corr_matrix_all.eps', format='eps')"
   ]
  },
  {
   "cell_type": "code",
   "execution_count": null,
   "id": "original-senator",
   "metadata": {
    "papermill": {
     "duration": 0.011755,
     "end_time": "2022-05-05T02:56:09.844034",
     "exception": false,
     "start_time": "2022-05-05T02:56:09.832279",
     "status": "completed"
    },
    "tags": []
   },
   "outputs": [],
   "source": []
  },
  {
   "cell_type": "code",
   "execution_count": null,
   "id": "saving-secretariat",
   "metadata": {
    "papermill": {
     "duration": 0.011556,
     "end_time": "2022-05-05T02:56:09.867177",
     "exception": false,
     "start_time": "2022-05-05T02:56:09.855621",
     "status": "completed"
    },
    "tags": []
   },
   "outputs": [],
   "source": []
  }
 ],
 "metadata": {
  "kernelspec": {
   "display_name": "Python 3",
   "language": "python",
   "name": "python3"
  },
  "language_info": {
   "codemirror_mode": {
    "name": "ipython",
    "version": 3
   },
   "file_extension": ".py",
   "mimetype": "text/x-python",
   "name": "python",
   "nbconvert_exporter": "python",
   "pygments_lexer": "ipython3",
   "version": "3.6.15"
  },
  "papermill": {
   "default_parameters": {},
   "duration": 14.048569,
   "end_time": "2022-05-05T02:56:10.397141",
   "environment_variables": {},
   "exception": null,
   "input_path": "App-Correlation_charts.ipynb",
   "output_path": "App-Correlation_charts.ipynb",
   "parameters": {},
   "start_time": "2022-05-05T02:55:56.348572",
   "version": "2.2.2"
  }
 },
 "nbformat": 4,
 "nbformat_minor": 5
}