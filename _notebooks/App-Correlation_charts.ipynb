{
 "cells": [
  {
   "cell_type": "markdown",
   "id": "touched-facility",
   "metadata": {
    "papermill": {
     "duration": 0.017249,
     "end_time": "2022-02-12T02:04:07.410904",
     "exception": false,
     "start_time": "2022-02-12T02:04:07.393655",
     "status": "completed"
    },
    "tags": []
   },
   "source": [
    "# Koreliacijų matrica\n",
    "> Išplėstinė koreliacijų matrica. \n",
    "\n",
    "- toc: true \n",
    "- badges: true\n",
    "- comments: false\n",
    "- categories: [Dominykas Tautkus]\n",
    "- image: images/matrix.png"
   ]
  },
  {
   "cell_type": "code",
   "execution_count": null,
   "id": "premium-weekend",
   "metadata": {
    "papermill": {
     "duration": 0.011916,
     "end_time": "2022-02-12T02:04:07.435833",
     "exception": false,
     "start_time": "2022-02-12T02:04:07.423917",
     "status": "completed"
    },
    "tags": []
   },
   "outputs": [],
   "source": []
  },
  {
   "cell_type": "code",
   "execution_count": 1,
   "id": "vertical-rebate",
   "metadata": {
    "execution": {
     "iopub.execute_input": "2022-02-12T02:04:07.475641Z",
     "iopub.status.busy": "2022-02-12T02:04:07.474997Z",
     "iopub.status.idle": "2022-02-12T02:04:07.486585Z",
     "shell.execute_reply": "2022-02-12T02:04:07.486066Z"
    },
    "papermill": {
     "duration": 0.038055,
     "end_time": "2022-02-12T02:04:07.486718",
     "exception": false,
     "start_time": "2022-02-12T02:04:07.448663",
     "status": "completed"
    },
    "tags": []
   },
   "outputs": [],
   "source": [
    "#hide\n",
    "%load_ext autoreload\n",
    "%autoreload 2"
   ]
  },
  {
   "cell_type": "code",
   "execution_count": 2,
   "id": "overall-advancement",
   "metadata": {
    "execution": {
     "iopub.execute_input": "2022-02-12T02:04:07.514796Z",
     "iopub.status.busy": "2022-02-12T02:04:07.513970Z",
     "iopub.status.idle": "2022-02-12T02:04:08.771409Z",
     "shell.execute_reply": "2022-02-12T02:04:08.772228Z"
    },
    "papermill": {
     "duration": 1.27362,
     "end_time": "2022-02-12T02:04:08.772482",
     "exception": false,
     "start_time": "2022-02-12T02:04:07.498862",
     "status": "completed"
    },
    "tags": []
   },
   "outputs": [],
   "source": [
    "#hide\n",
    "from scripts.read_data import read_api\n",
    "from IPython.display import HTML\n",
    "import plotly.graph_objects as go\n"
   ]
  },
  {
   "cell_type": "code",
   "execution_count": 3,
   "id": "light-crazy",
   "metadata": {
    "execution": {
     "iopub.execute_input": "2022-02-12T02:04:08.804960Z",
     "iopub.status.busy": "2022-02-12T02:04:08.804335Z",
     "iopub.status.idle": "2022-02-12T02:04:08.828527Z",
     "shell.execute_reply": "2022-02-12T02:04:08.829185Z"
    },
    "papermill": {
     "duration": 0.043505,
     "end_time": "2022-02-12T02:04:08.829381",
     "exception": false,
     "start_time": "2022-02-12T02:04:08.785876",
     "status": "completed"
    },
    "tags": []
   },
   "outputs": [],
   "source": [
    "#hide\n",
    "### ICO koreliacija"
   ]
  },
  {
   "cell_type": "code",
   "execution_count": 4,
   "id": "likely-bahrain",
   "metadata": {
    "execution": {
     "iopub.execute_input": "2022-02-12T02:04:08.859877Z",
     "iopub.status.busy": "2022-02-12T02:04:08.859284Z",
     "iopub.status.idle": "2022-02-12T02:04:09.880140Z",
     "shell.execute_reply": "2022-02-12T02:04:09.879609Z"
    },
    "papermill": {
     "duration": 1.037292,
     "end_time": "2022-02-12T02:04:09.880276",
     "exception": false,
     "start_time": "2022-02-12T02:04:08.842984",
     "status": "completed"
    },
    "tags": []
   },
   "outputs": [],
   "source": [
    "#hide\n",
    "import matplotlib.pyplot as plt\n",
    "import numpy as np\n",
    "import pandas as pd\n",
    "import seaborn as sns\n",
    "import matplotlib.pyplot as plt \n",
    "import matplotlib.dates as mdates\n",
    "import matplotlib.pyplot as plt"
   ]
  },
  {
   "cell_type": "code",
   "execution_count": 5,
   "id": "superior-blanket",
   "metadata": {
    "execution": {
     "iopub.execute_input": "2022-02-12T02:04:09.910180Z",
     "iopub.status.busy": "2022-02-12T02:04:09.909584Z",
     "iopub.status.idle": "2022-02-12T02:04:26.104568Z",
     "shell.execute_reply": "2022-02-12T02:04:26.103820Z"
    },
    "papermill": {
     "duration": 16.211253,
     "end_time": "2022-02-12T02:04:26.104807",
     "exception": false,
     "start_time": "2022-02-12T02:04:09.893554",
     "status": "completed"
    },
    "tags": []
   },
   "outputs": [
    {
     "name": "stderr",
     "output_type": "stream",
     "text": [
      "/home/runner/work/corr-app/corr-app/_notebooks/scripts/read_data.py:187: SettingWithCopyWarning:\n",
      "\n",
      "\n",
      "A value is trying to be set on a copy of a slice from a DataFrame.\n",
      "Try using .loc[row_indexer,col_indexer] = value instead\n",
      "\n",
      "See the caveats in the documentation: https://pandas.pydata.org/pandas-docs/stable/user_guide/indexing.html#returning-a-view-versus-a-copy\n",
      "\n"
     ]
    },
    {
     "name": "stderr",
     "output_type": "stream",
     "text": [
      "/home/runner/work/corr-app/corr-app/_notebooks/scripts/read_data.py:215: SettingWithCopyWarning:\n",
      "\n",
      "\n",
      "A value is trying to be set on a copy of a slice from a DataFrame.\n",
      "Try using .loc[row_indexer,col_indexer] = value instead\n",
      "\n",
      "See the caveats in the documentation: https://pandas.pydata.org/pandas-docs/stable/user_guide/indexing.html#returning-a-view-versus-a-copy\n",
      "\n"
     ]
    }
   ],
   "source": [
    "#hide\n",
    "df_all = read_api()\n",
    "#df_all = df_all.drop(['SP500', 'XAU', 'ETH', 'BTC'], axis=1)\n",
    "\n"
   ]
  },
  {
   "cell_type": "code",
   "execution_count": 6,
   "id": "mature-alert",
   "metadata": {
    "execution": {
     "iopub.execute_input": "2022-02-12T02:04:26.139644Z",
     "iopub.status.busy": "2022-02-12T02:04:26.139052Z",
     "iopub.status.idle": "2022-02-12T02:04:26.173509Z",
     "shell.execute_reply": "2022-02-12T02:04:26.172995Z"
    },
    "papermill": {
     "duration": 0.053273,
     "end_time": "2022-02-12T02:04:26.173632",
     "exception": false,
     "start_time": "2022-02-12T02:04:26.120359",
     "status": "completed"
    },
    "tags": []
   },
   "outputs": [],
   "source": [
    "#hide_input\n",
    "sum_corr = df_all.corr().sum().sort_values(ascending=True).index.values\n",
    "#df_all[sum_corr].corr()"
   ]
  },
  {
   "cell_type": "markdown",
   "id": "complex-syndicate",
   "metadata": {
    "papermill": {
     "duration": 0.012676,
     "end_time": "2022-02-12T02:04:26.199210",
     "exception": false,
     "start_time": "2022-02-12T02:04:26.186534",
     "status": "completed"
    },
    "tags": []
   },
   "source": [
    "## Išplėstinė koreliacijų matrica. "
   ]
  },
  {
   "cell_type": "code",
   "execution_count": 7,
   "id": "atomic-omaha",
   "metadata": {
    "execution": {
     "iopub.execute_input": "2022-02-12T02:04:26.228764Z",
     "iopub.status.busy": "2022-02-12T02:04:26.228147Z",
     "iopub.status.idle": "2022-02-12T02:04:27.642789Z",
     "shell.execute_reply": "2022-02-12T02:04:27.643279Z"
    },
    "papermill": {
     "duration": 1.431692,
     "end_time": "2022-02-12T02:04:27.643434",
     "exception": false,
     "start_time": "2022-02-12T02:04:26.211742",
     "status": "completed"
    },
    "tags": []
   },
   "outputs": [
    {
     "data": {
      "image/png": "[encoded data removed]",
      "text/plain": [
       "<Figure size 1080x792 with 2 Axes>"
      ]
     },
     "metadata": {
      "needs_background": "light"
     },
     "output_type": "display_data"
    }
   ],
   "source": [
    "#hide_input\n",
    "plt.figure(figsize=(15, 11))\n",
    "sns.heatmap(df_all[sum_corr].corr(), annot=True, cmap=\"cubehelix\") \n",
    "sns.set(font_scale=1.25)\n",
    "plt.savefig('corr_matrix.png', format='eps')"
   ]
  },
  {
   "cell_type": "code",
   "execution_count": 8,
   "id": "arbitrary-sullivan",
   "metadata": {
    "execution": {
     "iopub.execute_input": "2022-02-12T02:04:27.681887Z",
     "iopub.status.busy": "2022-02-12T02:04:27.676873Z",
     "iopub.status.idle": "2022-02-12T02:04:27.705825Z",
     "shell.execute_reply": "2022-02-12T02:04:27.705225Z"
    },
    "papermill": {
     "duration": 0.047158,
     "end_time": "2022-02-12T02:04:27.705975",
     "exception": false,
     "start_time": "2022-02-12T02:04:27.658817",
     "status": "completed"
    },
    "tags": []
   },
   "outputs": [],
   "source": [
    "#hide\n",
    "#df_all_mrk = read_api()"
   ]
  },
  {
   "cell_type": "code",
   "execution_count": 9,
   "id": "delayed-adapter",
   "metadata": {
    "execution": {
     "iopub.execute_input": "2022-02-12T02:04:27.740405Z",
     "iopub.status.busy": "2022-02-12T02:04:27.739815Z",
     "iopub.status.idle": "2022-02-12T02:04:27.768464Z",
     "shell.execute_reply": "2022-02-12T02:04:27.769116Z"
    },
    "papermill": {
     "duration": 0.047179,
     "end_time": "2022-02-12T02:04:27.769324",
     "exception": false,
     "start_time": "2022-02-12T02:04:27.722145",
     "status": "completed"
    },
    "tags": []
   },
   "outputs": [],
   "source": [
    "#hide\n",
    "#Koreliacijų koeficientai"
   ]
  },
  {
   "cell_type": "code",
   "execution_count": 10,
   "id": "seeing-celebration",
   "metadata": {
    "execution": {
     "iopub.execute_input": "2022-02-12T02:04:27.806167Z",
     "iopub.status.busy": "2022-02-12T02:04:27.805579Z",
     "iopub.status.idle": "2022-02-12T02:04:27.834212Z",
     "shell.execute_reply": "2022-02-12T02:04:27.833638Z"
    },
    "papermill": {
     "duration": 0.047988,
     "end_time": "2022-02-12T02:04:27.834343",
     "exception": false,
     "start_time": "2022-02-12T02:04:27.786355",
     "status": "completed"
    },
    "tags": []
   },
   "outputs": [],
   "source": [
    "#hide_input\n",
    "#sum_corr = df_all_mrk.corr().sum().sort_values(ascending=True).index.values\n",
    "#df_all_mrk[sum_corr].corr()"
   ]
  },
  {
   "cell_type": "code",
   "execution_count": 11,
   "id": "other-painting",
   "metadata": {
    "execution": {
     "iopub.execute_input": "2022-02-12T02:04:27.872463Z",
     "iopub.status.busy": "2022-02-12T02:04:27.871870Z",
     "iopub.status.idle": "2022-02-12T02:04:27.900134Z",
     "shell.execute_reply": "2022-02-12T02:04:27.899491Z"
    },
    "papermill": {
     "duration": 0.049134,
     "end_time": "2022-02-12T02:04:27.900293",
     "exception": false,
     "start_time": "2022-02-12T02:04:27.851159",
     "status": "completed"
    },
    "tags": []
   },
   "outputs": [],
   "source": [
    "#hide\n",
    "#Koreliacijos matrica. "
   ]
  },
  {
   "cell_type": "code",
   "execution_count": 12,
   "id": "modular-magnitude",
   "metadata": {
    "execution": {
     "iopub.execute_input": "2022-02-12T02:04:27.934764Z",
     "iopub.status.busy": "2022-02-12T02:04:27.934180Z",
     "iopub.status.idle": "2022-02-12T02:04:27.962347Z",
     "shell.execute_reply": "2022-02-12T02:04:27.961704Z"
    },
    "papermill": {
     "duration": 0.046084,
     "end_time": "2022-02-12T02:04:27.962506",
     "exception": false,
     "start_time": "2022-02-12T02:04:27.916422",
     "status": "completed"
    },
    "tags": []
   },
   "outputs": [],
   "source": [
    "#hide_input\n",
    "#plt.figure(figsize=(15, 8))\n",
    "#sns.heatmap(df_all_mrk[sum_corr].corr(), annot=True, cmap=\"BrBG\");\n",
    "#plt.savefig('corr_matrix_all.eps', format='eps')"
   ]
  },
  {
   "cell_type": "code",
   "execution_count": null,
   "id": "original-senator",
   "metadata": {
    "papermill": {
     "duration": 0.014728,
     "end_time": "2022-02-12T02:04:27.992857",
     "exception": false,
     "start_time": "2022-02-12T02:04:27.978129",
     "status": "completed"
    },
    "tags": []
   },
   "outputs": [],
   "source": []
  },
  {
   "cell_type": "code",
   "execution_count": null,
   "id": "saving-secretariat",
   "metadata": {
    "papermill": {
     "duration": 0.014814,
     "end_time": "2022-02-12T02:04:28.022371",
     "exception": false,
     "start_time": "2022-02-12T02:04:28.007557",
     "status": "completed"
    },
    "tags": []
   },
   "outputs": [],
   "source": []
  }
 ],
 "metadata": {
  "kernelspec": {
   "display_name": "Python 3",
   "language": "python",
   "name": "python3"
  },
  "language_info": {
   "codemirror_mode": {
    "name": "ipython",
    "version": 3
   },
   "file_extension": ".py",
   "mimetype": "text/x-python",
   "name": "python",
   "nbconvert_exporter": "python",
   "pygments_lexer": "ipython3",
   "version": "3.6.15"
  },
  "papermill": {
   "default_parameters": {},
   "duration": 22.451156,
   "end_time": "2022-02-12T02:04:28.556981",
   "environment_variables": {},
   "exception": null,
   "input_path": "App-Correlation_charts.ipynb",
   "output_path": "App-Correlation_charts.ipynb",
   "parameters": {},
   "start_time": "2022-02-12T02:04:06.105825",
   "version": "2.2.2"
  }
 },
 "nbformat": 4,
 "nbformat_minor": 5
}