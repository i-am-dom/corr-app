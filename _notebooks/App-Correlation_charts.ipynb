{
 "cells": [
  {
   "cell_type": "markdown",
   "id": "touched-facility",
   "metadata": {
    "papermill": {
     "duration": 0.014304,
     "end_time": "2022-08-18T03:30:00.701060",
     "exception": false,
     "start_time": "2022-08-18T03:30:00.686756",
     "status": "completed"
    },
    "tags": []
   },
   "source": [
    "# Koreliacijų matrica\n",
    "> Išplėstinė koreliacijų matrica. \n",
    "\n",
    "- toc: true \n",
    "- badges: true\n",
    "- comments: false\n",
    "- categories: [Dominykas Tautkus]\n",
    "- image: images/matrix.png"
   ]
  },
  {
   "cell_type": "code",
   "execution_count": null,
   "id": "premium-weekend",
   "metadata": {
    "papermill": {
     "duration": 0.011213,
     "end_time": "2022-08-18T03:30:00.724612",
     "exception": false,
     "start_time": "2022-08-18T03:30:00.713399",
     "status": "completed"
    },
    "tags": []
   },
   "outputs": [],
   "source": []
  },
  {
   "cell_type": "code",
   "execution_count": 1,
   "id": "vertical-rebate",
   "metadata": {
    "execution": {
     "iopub.execute_input": "2022-08-18T03:30:00.756082Z",
     "iopub.status.busy": "2022-08-18T03:30:00.755515Z",
     "iopub.status.idle": "2022-08-18T03:30:00.767098Z",
     "shell.execute_reply": "2022-08-18T03:30:00.767529Z"
    },
    "papermill": {
     "duration": 0.032074,
     "end_time": "2022-08-18T03:30:00.767662",
     "exception": false,
     "start_time": "2022-08-18T03:30:00.735588",
     "status": "completed"
    },
    "tags": []
   },
   "outputs": [],
   "source": [
    "#hide\n",
    "%load_ext autoreload\n",
    "%autoreload 2"
   ]
  },
  {
   "cell_type": "code",
   "execution_count": 2,
   "id": "overall-advancement",
   "metadata": {
    "execution": {
     "iopub.execute_input": "2022-08-18T03:30:00.792196Z",
     "iopub.status.busy": "2022-08-18T03:30:00.791644Z",
     "iopub.status.idle": "2022-08-18T03:30:01.893292Z",
     "shell.execute_reply": "2022-08-18T03:30:01.892808Z"
    },
    "papermill": {
     "duration": 1.114991,
     "end_time": "2022-08-18T03:30:01.893417",
     "exception": false,
     "start_time": "2022-08-18T03:30:00.778426",
     "status": "completed"
    },
    "tags": []
   },
   "outputs": [],
   "source": [
    "#hide\n",
    "from scripts.read_data import read_api\n",
    "from IPython.display import HTML\n",
    "import plotly.graph_objects as go\n"
   ]
  },
  {
   "cell_type": "code",
   "execution_count": 3,
   "id": "light-crazy",
   "metadata": {
    "execution": {
     "iopub.execute_input": "2022-08-18T03:30:01.920634Z",
     "iopub.status.busy": "2022-08-18T03:30:01.920042Z",
     "iopub.status.idle": "2022-08-18T03:30:01.941317Z",
     "shell.execute_reply": "2022-08-18T03:30:01.941733Z"
    },
    "papermill": {
     "duration": 0.037172,
     "end_time": "2022-08-18T03:30:01.941851",
     "exception": false,
     "start_time": "2022-08-18T03:30:01.904679",
     "status": "completed"
    },
    "tags": []
   },
   "outputs": [],
   "source": [
    "#hide\n",
    "### ICO koreliacija"
   ]
  },
  {
   "cell_type": "code",
   "execution_count": 4,
   "id": "likely-bahrain",
   "metadata": {
    "execution": {
     "iopub.execute_input": "2022-08-18T03:30:01.966873Z",
     "iopub.status.busy": "2022-08-18T03:30:01.966281Z",
     "iopub.status.idle": "2022-08-18T03:30:02.781432Z",
     "shell.execute_reply": "2022-08-18T03:30:02.780376Z"
    },
    "papermill": {
     "duration": 0.828882,
     "end_time": "2022-08-18T03:30:02.781557",
     "exception": false,
     "start_time": "2022-08-18T03:30:01.952675",
     "status": "completed"
    },
    "tags": []
   },
   "outputs": [],
   "source": [
    "#hide\n",
    "import matplotlib.pyplot as plt\n",
    "import numpy as np\n",
    "import pandas as pd\n",
    "import seaborn as sns\n",
    "import matplotlib.pyplot as plt \n",
    "import matplotlib.dates as mdates\n",
    "import matplotlib.pyplot as plt"
   ]
  },
  {
   "cell_type": "code",
   "execution_count": 5,
   "id": "superior-blanket",
   "metadata": {
    "execution": {
     "iopub.execute_input": "2022-08-18T03:30:02.809939Z",
     "iopub.status.busy": "2022-08-18T03:30:02.808583Z",
     "iopub.status.idle": "2022-08-18T03:30:20.565731Z",
     "shell.execute_reply": "2022-08-18T03:30:20.566175Z"
    },
    "papermill": {
     "duration": 17.773549,
     "end_time": "2022-08-18T03:30:20.566332",
     "exception": false,
     "start_time": "2022-08-18T03:30:02.792783",
     "status": "completed"
    },
    "tags": []
   },
   "outputs": [
    {
     "name": "stderr",
     "output_type": "stream",
     "text": [
      "/home/runner/work/corr-app/corr-app/_notebooks/scripts/read_data.py:187: SettingWithCopyWarning:\n",
      "\n",
      "\n",
      "A value is trying to be set on a copy of a slice from a DataFrame.\n",
      "Try using .loc[row_indexer,col_indexer] = value instead\n",
      "\n",
      "See the caveats in the documentation: https://pandas.pydata.org/pandas-docs/stable/user_guide/indexing.html#returning-a-view-versus-a-copy\n",
      "\n"
     ]
    },
    {
     "name": "stderr",
     "output_type": "stream",
     "text": [
      "/home/runner/work/corr-app/corr-app/_notebooks/scripts/read_data.py:215: SettingWithCopyWarning:\n",
      "\n",
      "\n",
      "A value is trying to be set on a copy of a slice from a DataFrame.\n",
      "Try using .loc[row_indexer,col_indexer] = value instead\n",
      "\n",
      "See the caveats in the documentation: https://pandas.pydata.org/pandas-docs/stable/user_guide/indexing.html#returning-a-view-versus-a-copy\n",
      "\n"
     ]
    }
   ],
   "source": [
    "#hide\n",
    "df_all = read_api()\n",
    "#df_all = df_all.drop(['SP500', 'XAU', 'ETH', 'BTC'], axis=1)\n",
    "\n"
   ]
  },
  {
   "cell_type": "code",
   "execution_count": 6,
   "id": "mature-alert",
   "metadata": {
    "execution": {
     "iopub.execute_input": "2022-08-18T03:30:20.631606Z",
     "iopub.status.busy": "2022-08-18T03:30:20.631031Z",
     "iopub.status.idle": "2022-08-18T03:30:20.661437Z",
     "shell.execute_reply": "2022-08-18T03:30:20.660956Z"
    },
    "papermill": {
     "duration": 0.081352,
     "end_time": "2022-08-18T03:30:20.661543",
     "exception": false,
     "start_time": "2022-08-18T03:30:20.580191",
     "status": "completed"
    },
    "tags": []
   },
   "outputs": [],
   "source": [
    "#hide_input\n",
    "sum_corr = df_all.corr().sum().sort_values(ascending=True).index.values\n",
    "#df_all[sum_corr].corr()"
   ]
  },
  {
   "cell_type": "markdown",
   "id": "complex-syndicate",
   "metadata": {
    "papermill": {
     "duration": 0.047617,
     "end_time": "2022-08-18T03:30:20.723555",
     "exception": false,
     "start_time": "2022-08-18T03:30:20.675938",
     "status": "completed"
    },
    "tags": []
   },
   "source": [
    "## Išplėstinė koreliacijų matrica. "
   ]
  },
  {
   "cell_type": "code",
   "execution_count": 7,
   "id": "atomic-omaha",
   "metadata": {
    "execution": {
     "iopub.execute_input": "2022-08-18T03:30:20.824768Z",
     "iopub.status.busy": "2022-08-18T03:30:20.824184Z",
     "iopub.status.idle": "2022-08-18T03:30:21.957555Z",
     "shell.execute_reply": "2022-08-18T03:30:21.956808Z"
    },
    "papermill": {
     "duration": 1.185839,
     "end_time": "2022-08-18T03:30:21.957666",
     "exception": false,
     "start_time": "2022-08-18T03:30:20.771827",
     "status": "completed"
    },
    "tags": []
   },
   "outputs": [
    {
     "data": {
      "image/png": "[encoded data removed]",
      "text/plain": [
       "<Figure size 1080x792 with 2 Axes>"
      ]
     },
     "metadata": {
      "needs_background": "light"
     },
     "output_type": "display_data"
    }
   ],
   "source": [
    "#hide_input\n",
    "plt.figure(figsize=(15, 11))\n",
    "sns.heatmap(df_all[sum_corr].corr(), annot=True, cmap=\"cubehelix\") \n",
    "sns.set(font_scale=1.25)\n",
    "plt.savefig('corr_matrix.png', format='eps')"
   ]
  },
  {
   "cell_type": "code",
   "execution_count": 8,
   "id": "arbitrary-sullivan",
   "metadata": {
    "execution": {
     "iopub.execute_input": "2022-08-18T03:30:21.991509Z",
     "iopub.status.busy": "2022-08-18T03:30:21.990955Z",
     "iopub.status.idle": "2022-08-18T03:30:22.012956Z",
     "shell.execute_reply": "2022-08-18T03:30:22.013380Z"
    },
    "papermill": {
     "duration": 0.042093,
     "end_time": "2022-08-18T03:30:22.013509",
     "exception": false,
     "start_time": "2022-08-18T03:30:21.971416",
     "status": "completed"
    },
    "tags": []
   },
   "outputs": [],
   "source": [
    "#hide\n",
    "#df_all_mrk = read_api()"
   ]
  },
  {
   "cell_type": "code",
   "execution_count": 9,
   "id": "delayed-adapter",
   "metadata": {
    "execution": {
     "iopub.execute_input": "2022-08-18T03:30:22.046812Z",
     "iopub.status.busy": "2022-08-18T03:30:22.043891Z",
     "iopub.status.idle": "2022-08-18T03:30:22.069350Z",
     "shell.execute_reply": "2022-08-18T03:30:22.068882Z"
    },
    "papermill": {
     "duration": 0.042606,
     "end_time": "2022-08-18T03:30:22.069451",
     "exception": false,
     "start_time": "2022-08-18T03:30:22.026845",
     "status": "completed"
    },
    "tags": []
   },
   "outputs": [],
   "source": [
    "#hide\n",
    "#Koreliacijų koeficientai"
   ]
  },
  {
   "cell_type": "code",
   "execution_count": 10,
   "id": "seeing-celebration",
   "metadata": {
    "execution": {
     "iopub.execute_input": "2022-08-18T03:30:22.099263Z",
     "iopub.status.busy": "2022-08-18T03:30:22.098699Z",
     "iopub.status.idle": "2022-08-18T03:30:22.124585Z",
     "shell.execute_reply": "2022-08-18T03:30:22.123880Z"
    },
    "papermill": {
     "duration": 0.041769,
     "end_time": "2022-08-18T03:30:22.124688",
     "exception": false,
     "start_time": "2022-08-18T03:30:22.082919",
     "status": "completed"
    },
    "tags": []
   },
   "outputs": [],
   "source": [
    "#hide_input\n",
    "#sum_corr = df_all_mrk.corr().sum().sort_values(ascending=True).index.values\n",
    "#df_all_mrk[sum_corr].corr()"
   ]
  },
  {
   "cell_type": "code",
   "execution_count": 11,
   "id": "other-painting",
   "metadata": {
    "execution": {
     "iopub.execute_input": "2022-08-18T03:30:22.154809Z",
     "iopub.status.busy": "2022-08-18T03:30:22.153703Z",
     "iopub.status.idle": "2022-08-18T03:30:22.178648Z",
     "shell.execute_reply": "2022-08-18T03:30:22.178150Z"
    },
    "papermill": {
     "duration": 0.040662,
     "end_time": "2022-08-18T03:30:22.178749",
     "exception": false,
     "start_time": "2022-08-18T03:30:22.138087",
     "status": "completed"
    },
    "tags": []
   },
   "outputs": [],
   "source": [
    "#hide\n",
    "#Koreliacijos matrica. "
   ]
  },
  {
   "cell_type": "code",
   "execution_count": 12,
   "id": "modular-magnitude",
   "metadata": {
    "execution": {
     "iopub.execute_input": "2022-08-18T03:30:22.209205Z",
     "iopub.status.busy": "2022-08-18T03:30:22.208292Z",
     "iopub.status.idle": "2022-08-18T03:30:22.232603Z",
     "shell.execute_reply": "2022-08-18T03:30:22.232154Z"
    },
    "papermill": {
     "duration": 0.040544,
     "end_time": "2022-08-18T03:30:22.232698",
     "exception": false,
     "start_time": "2022-08-18T03:30:22.192154",
     "status": "completed"
    },
    "tags": []
   },
   "outputs": [],
   "source": [
    "#hide_input\n",
    "#plt.figure(figsize=(15, 8))\n",
    "#sns.heatmap(df_all_mrk[sum_corr].corr(), annot=True, cmap=\"BrBG\");\n",
    "#plt.savefig('corr_matrix_all.eps', format='eps')"
   ]
  },
  {
   "cell_type": "code",
   "execution_count": null,
   "id": "original-senator",
   "metadata": {
    "papermill": {
     "duration": 0.013086,
     "end_time": "2022-08-18T03:30:22.259045",
     "exception": false,
     "start_time": "2022-08-18T03:30:22.245959",
     "status": "completed"
    },
    "tags": []
   },
   "outputs": [],
   "source": []
  },
  {
   "cell_type": "code",
   "execution_count": null,
   "id": "saving-secretariat",
   "metadata": {
    "papermill": {
     "duration": 0.014578,
     "end_time": "2022-08-18T03:30:22.287911",
     "exception": false,
     "start_time": "2022-08-18T03:30:22.273333",
     "status": "completed"
    },
    "tags": []
   },
   "outputs": [],
   "source": []
  }
 ],
 "metadata": {
  "kernelspec": {
   "display_name": "Python 3",
   "language": "python",
   "name": "python3"
  },
  "language_info": {
   "codemirror_mode": {
    "name": "ipython",
    "version": 3
   },
   "file_extension": ".py",
   "mimetype": "text/x-python",
   "name": "python",
   "nbconvert_exporter": "python",
   "pygments_lexer": "ipython3",
   "version": "3.6.15"
  },
  "papermill": {
   "default_parameters": {},
   "duration": 22.934394,
   "end_time": "2022-08-18T03:30:22.719458",
   "environment_variables": {},
   "exception": null,
   "input_path": "App-Correlation_charts.ipynb",
   "output_path": "App-Correlation_charts.ipynb",
   "parameters": {},
   "start_time": "2022-08-18T03:29:59.785064",
   "version": "2.2.2"
  }
 },
 "nbformat": 4,
 "nbformat_minor": 5
}