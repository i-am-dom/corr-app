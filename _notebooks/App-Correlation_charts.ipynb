{
 "cells": [
  {
   "cell_type": "markdown",
   "id": "touched-facility",
   "metadata": {
    "papermill": {
     "duration": 0.016314,
     "end_time": "2022-10-05T03:10:35.834986",
     "exception": false,
     "start_time": "2022-10-05T03:10:35.818672",
     "status": "completed"
    },
    "tags": []
   },
   "source": [
    "# Koreliacijų matrica\n",
    "> Išplėstinė koreliacijų matrica. \n",
    "\n",
    "- toc: true \n",
    "- badges: true\n",
    "- comments: false\n",
    "- categories: [Dominykas Tautkus]\n",
    "- image: images/matrix.png"
   ]
  },
  {
   "cell_type": "code",
   "execution_count": null,
   "id": "premium-weekend",
   "metadata": {
    "papermill": {
     "duration": 0.012244,
     "end_time": "2022-10-05T03:10:35.859656",
     "exception": false,
     "start_time": "2022-10-05T03:10:35.847412",
     "status": "completed"
    },
    "tags": []
   },
   "outputs": [],
   "source": []
  },
  {
   "cell_type": "code",
   "execution_count": 1,
   "id": "vertical-rebate",
   "metadata": {
    "execution": {
     "iopub.execute_input": "2022-10-05T03:10:35.895131Z",
     "iopub.status.busy": "2022-10-05T03:10:35.894181Z",
     "iopub.status.idle": "2022-10-05T03:10:35.907301Z",
     "shell.execute_reply": "2022-10-05T03:10:35.906369Z"
    },
    "papermill": {
     "duration": 0.036493,
     "end_time": "2022-10-05T03:10:35.907485",
     "exception": false,
     "start_time": "2022-10-05T03:10:35.870992",
     "status": "completed"
    },
    "tags": []
   },
   "outputs": [],
   "source": [
    "#hide\n",
    "%load_ext autoreload\n",
    "%autoreload 2"
   ]
  },
  {
   "cell_type": "code",
   "execution_count": 2,
   "id": "overall-advancement",
   "metadata": {
    "execution": {
     "iopub.execute_input": "2022-10-05T03:10:35.937551Z",
     "iopub.status.busy": "2022-10-05T03:10:35.936882Z",
     "iopub.status.idle": "2022-10-05T03:10:37.388365Z",
     "shell.execute_reply": "2022-10-05T03:10:37.389073Z"
    },
    "papermill": {
     "duration": 1.468165,
     "end_time": "2022-10-05T03:10:37.389244",
     "exception": false,
     "start_time": "2022-10-05T03:10:35.921079",
     "status": "completed"
    },
    "tags": []
   },
   "outputs": [],
   "source": [
    "#hide\n",
    "from scripts.read_data import read_api\n",
    "from IPython.display import HTML\n",
    "import plotly.graph_objects as go\n"
   ]
  },
  {
   "cell_type": "code",
   "execution_count": 3,
   "id": "light-crazy",
   "metadata": {
    "execution": {
     "iopub.execute_input": "2022-10-05T03:10:37.420006Z",
     "iopub.status.busy": "2022-10-05T03:10:37.419287Z",
     "iopub.status.idle": "2022-10-05T03:10:37.447387Z",
     "shell.execute_reply": "2022-10-05T03:10:37.446634Z"
    },
    "papermill": {
     "duration": 0.045894,
     "end_time": "2022-10-05T03:10:37.447565",
     "exception": false,
     "start_time": "2022-10-05T03:10:37.401671",
     "status": "completed"
    },
    "tags": []
   },
   "outputs": [],
   "source": [
    "#hide\n",
    "### ICO koreliacija"
   ]
  },
  {
   "cell_type": "code",
   "execution_count": 4,
   "id": "likely-bahrain",
   "metadata": {
    "execution": {
     "iopub.execute_input": "2022-10-05T03:10:37.478837Z",
     "iopub.status.busy": "2022-10-05T03:10:37.477410Z",
     "iopub.status.idle": "2022-10-05T03:10:38.440731Z",
     "shell.execute_reply": "2022-10-05T03:10:38.440133Z"
    },
    "papermill": {
     "duration": 0.98061,
     "end_time": "2022-10-05T03:10:38.440874",
     "exception": false,
     "start_time": "2022-10-05T03:10:37.460264",
     "status": "completed"
    },
    "tags": []
   },
   "outputs": [],
   "source": [
    "#hide\n",
    "import matplotlib.pyplot as plt\n",
    "import numpy as np\n",
    "import pandas as pd\n",
    "import seaborn as sns\n",
    "import matplotlib.pyplot as plt \n",
    "import matplotlib.dates as mdates\n",
    "import matplotlib.pyplot as plt"
   ]
  },
  {
   "cell_type": "code",
   "execution_count": 5,
   "id": "superior-blanket",
   "metadata": {
    "execution": {
     "iopub.execute_input": "2022-10-05T03:10:38.470601Z",
     "iopub.status.busy": "2022-10-05T03:10:38.469886Z",
     "iopub.status.idle": "2022-10-05T03:10:51.490035Z",
     "shell.execute_reply": "2022-10-05T03:10:51.489441Z"
    },
    "papermill": {
     "duration": 13.036941,
     "end_time": "2022-10-05T03:10:51.490168",
     "exception": false,
     "start_time": "2022-10-05T03:10:38.453227",
     "status": "completed"
    },
    "tags": []
   },
   "outputs": [
    {
     "name": "stderr",
     "output_type": "stream",
     "text": [
      "/home/runner/work/corr-app/corr-app/_notebooks/scripts/read_data.py:187: SettingWithCopyWarning:\n",
      "\n",
      "\n",
      "A value is trying to be set on a copy of a slice from a DataFrame.\n",
      "Try using .loc[row_indexer,col_indexer] = value instead\n",
      "\n",
      "See the caveats in the documentation: https://pandas.pydata.org/pandas-docs/stable/user_guide/indexing.html#returning-a-view-versus-a-copy\n",
      "\n"
     ]
    },
    {
     "name": "stderr",
     "output_type": "stream",
     "text": [
      "/home/runner/work/corr-app/corr-app/_notebooks/scripts/read_data.py:215: SettingWithCopyWarning:\n",
      "\n",
      "\n",
      "A value is trying to be set on a copy of a slice from a DataFrame.\n",
      "Try using .loc[row_indexer,col_indexer] = value instead\n",
      "\n",
      "See the caveats in the documentation: https://pandas.pydata.org/pandas-docs/stable/user_guide/indexing.html#returning-a-view-versus-a-copy\n",
      "\n"
     ]
    }
   ],
   "source": [
    "#hide\n",
    "df_all = read_api()\n",
    "#df_all = df_all.drop(['SP500', 'XAU', 'ETH', 'BTC'], axis=1)\n",
    "\n"
   ]
  },
  {
   "cell_type": "code",
   "execution_count": 6,
   "id": "mature-alert",
   "metadata": {
    "execution": {
     "iopub.execute_input": "2022-10-05T03:10:51.526323Z",
     "iopub.status.busy": "2022-10-05T03:10:51.525093Z",
     "iopub.status.idle": "2022-10-05T03:10:51.560397Z",
     "shell.execute_reply": "2022-10-05T03:10:51.559148Z"
    },
    "papermill": {
     "duration": 0.055983,
     "end_time": "2022-10-05T03:10:51.560536",
     "exception": false,
     "start_time": "2022-10-05T03:10:51.504553",
     "status": "completed"
    },
    "tags": []
   },
   "outputs": [],
   "source": [
    "#hide_input\n",
    "sum_corr = df_all.corr().sum().sort_values(ascending=True).index.values\n",
    "#df_all[sum_corr].corr()"
   ]
  },
  {
   "cell_type": "markdown",
   "id": "complex-syndicate",
   "metadata": {
    "papermill": {
     "duration": 0.012651,
     "end_time": "2022-10-05T03:10:51.585956",
     "exception": false,
     "start_time": "2022-10-05T03:10:51.573305",
     "status": "completed"
    },
    "tags": []
   },
   "source": [
    "## Išplėstinė koreliacijų matrica. "
   ]
  },
  {
   "cell_type": "code",
   "execution_count": 7,
   "id": "atomic-omaha",
   "metadata": {
    "execution": {
     "iopub.execute_input": "2022-10-05T03:10:51.619618Z",
     "iopub.status.busy": "2022-10-05T03:10:51.616269Z",
     "iopub.status.idle": "2022-10-05T03:10:52.990699Z",
     "shell.execute_reply": "2022-10-05T03:10:52.991230Z"
    },
    "papermill": {
     "duration": 1.392672,
     "end_time": "2022-10-05T03:10:52.991383",
     "exception": false,
     "start_time": "2022-10-05T03:10:51.598711",
     "status": "completed"
    },
    "tags": []
   },
   "outputs": [
    {
     "data": {
      "image/png": "[encoded data removed]",
      "text/plain": [
       "<Figure size 1080x792 with 2 Axes>"
      ]
     },
     "metadata": {
      "needs_background": "light"
     },
     "output_type": "display_data"
    }
   ],
   "source": [
    "#hide_input\n",
    "plt.figure(figsize=(15, 11))\n",
    "sns.heatmap(df_all[sum_corr].corr(), annot=True, cmap=\"cubehelix\") \n",
    "sns.set(font_scale=1.25)\n",
    "plt.savefig('corr_matrix.png', format='eps')"
   ]
  },
  {
   "cell_type": "code",
   "execution_count": 8,
   "id": "arbitrary-sullivan",
   "metadata": {
    "execution": {
     "iopub.execute_input": "2022-10-05T03:10:53.026705Z",
     "iopub.status.busy": "2022-10-05T03:10:53.025237Z",
     "iopub.status.idle": "2022-10-05T03:10:53.056574Z",
     "shell.execute_reply": "2022-10-05T03:10:53.057366Z"
    },
    "papermill": {
     "duration": 0.050644,
     "end_time": "2022-10-05T03:10:53.057583",
     "exception": false,
     "start_time": "2022-10-05T03:10:53.006939",
     "status": "completed"
    },
    "tags": []
   },
   "outputs": [],
   "source": [
    "#hide\n",
    "#df_all_mrk = read_api()"
   ]
  },
  {
   "cell_type": "code",
   "execution_count": 9,
   "id": "delayed-adapter",
   "metadata": {
    "execution": {
     "iopub.execute_input": "2022-10-05T03:10:53.092212Z",
     "iopub.status.busy": "2022-10-05T03:10:53.091539Z",
     "iopub.status.idle": "2022-10-05T03:10:53.122403Z",
     "shell.execute_reply": "2022-10-05T03:10:53.121606Z"
    },
    "papermill": {
     "duration": 0.049577,
     "end_time": "2022-10-05T03:10:53.122574",
     "exception": false,
     "start_time": "2022-10-05T03:10:53.072997",
     "status": "completed"
    },
    "tags": []
   },
   "outputs": [],
   "source": [
    "#hide\n",
    "#Koreliacijų koeficientai"
   ]
  },
  {
   "cell_type": "code",
   "execution_count": 10,
   "id": "seeing-celebration",
   "metadata": {
    "execution": {
     "iopub.execute_input": "2022-10-05T03:10:53.159417Z",
     "iopub.status.busy": "2022-10-05T03:10:53.158726Z",
     "iopub.status.idle": "2022-10-05T03:10:53.189528Z",
     "shell.execute_reply": "2022-10-05T03:10:53.188773Z"
    },
    "papermill": {
     "duration": 0.050167,
     "end_time": "2022-10-05T03:10:53.189702",
     "exception": false,
     "start_time": "2022-10-05T03:10:53.139535",
     "status": "completed"
    },
    "tags": []
   },
   "outputs": [],
   "source": [
    "#hide_input\n",
    "#sum_corr = df_all_mrk.corr().sum().sort_values(ascending=True).index.values\n",
    "#df_all_mrk[sum_corr].corr()"
   ]
  },
  {
   "cell_type": "code",
   "execution_count": 11,
   "id": "other-painting",
   "metadata": {
    "execution": {
     "iopub.execute_input": "2022-10-05T03:10:53.225077Z",
     "iopub.status.busy": "2022-10-05T03:10:53.224404Z",
     "iopub.status.idle": "2022-10-05T03:10:53.259465Z",
     "shell.execute_reply": "2022-10-05T03:10:53.258536Z"
    },
    "papermill": {
     "duration": 0.054379,
     "end_time": "2022-10-05T03:10:53.259677",
     "exception": false,
     "start_time": "2022-10-05T03:10:53.205298",
     "status": "completed"
    },
    "tags": []
   },
   "outputs": [],
   "source": [
    "#hide\n",
    "#Koreliacijos matrica. "
   ]
  },
  {
   "cell_type": "code",
   "execution_count": 12,
   "id": "modular-magnitude",
   "metadata": {
    "execution": {
     "iopub.execute_input": "2022-10-05T03:10:53.295085Z",
     "iopub.status.busy": "2022-10-05T03:10:53.294448Z",
     "iopub.status.idle": "2022-10-05T03:10:53.324851Z",
     "shell.execute_reply": "2022-10-05T03:10:53.324167Z"
    },
    "papermill": {
     "duration": 0.048656,
     "end_time": "2022-10-05T03:10:53.324982",
     "exception": false,
     "start_time": "2022-10-05T03:10:53.276326",
     "status": "completed"
    },
    "tags": []
   },
   "outputs": [],
   "source": [
    "#hide_input\n",
    "#plt.figure(figsize=(15, 8))\n",
    "#sns.heatmap(df_all_mrk[sum_corr].corr(), annot=True, cmap=\"BrBG\");\n",
    "#plt.savefig('corr_matrix_all.eps', format='eps')"
   ]
  },
  {
   "cell_type": "code",
   "execution_count": null,
   "id": "original-senator",
   "metadata": {
    "papermill": {
     "duration": 0.015023,
     "end_time": "2022-10-05T03:10:53.355152",
     "exception": false,
     "start_time": "2022-10-05T03:10:53.340129",
     "status": "completed"
    },
    "tags": []
   },
   "outputs": [],
   "source": []
  },
  {
   "cell_type": "code",
   "execution_count": null,
   "id": "saving-secretariat",
   "metadata": {
    "papermill": {
     "duration": 0.014642,
     "end_time": "2022-10-05T03:10:53.384716",
     "exception": false,
     "start_time": "2022-10-05T03:10:53.370074",
     "status": "completed"
    },
    "tags": []
   },
   "outputs": [],
   "source": []
  }
 ],
 "metadata": {
  "kernelspec": {
   "display_name": "Python 3",
   "language": "python",
   "name": "python3"
  },
  "language_info": {
   "codemirror_mode": {
    "name": "ipython",
    "version": 3
   },
   "file_extension": ".py",
   "mimetype": "text/x-python",
   "name": "python",
   "nbconvert_exporter": "python",
   "pygments_lexer": "ipython3",
   "version": "3.6.15"
  },
  "papermill": {
   "default_parameters": {},
   "duration": 19.387566,
   "end_time": "2022-10-05T03:10:53.920985",
   "environment_variables": {},
   "exception": null,
   "input_path": "App-Correlation_charts.ipynb",
   "output_path": "App-Correlation_charts.ipynb",
   "parameters": {},
   "start_time": "2022-10-05T03:10:34.533419",
   "version": "2.2.2"
  }
 },
 "nbformat": 4,
 "nbformat_minor": 5
}