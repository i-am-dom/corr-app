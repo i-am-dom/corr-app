{
 "cells": [
  {
   "cell_type": "markdown",
   "id": "touched-facility",
   "metadata": {
    "papermill": {
     "duration": 0.066252,
     "end_time": "2022-03-26T02:22:07.584998",
     "exception": false,
     "start_time": "2022-03-26T02:22:07.518746",
     "status": "completed"
    },
    "tags": []
   },
   "source": [
    "# Koreliacijų matrica\n",
    "> Išplėstinė koreliacijų matrica. \n",
    "\n",
    "- toc: true \n",
    "- badges: true\n",
    "- comments: false\n",
    "- categories: [Dominykas Tautkus]\n",
    "- image: images/matrix.png"
   ]
  },
  {
   "cell_type": "code",
   "execution_count": null,
   "id": "premium-weekend",
   "metadata": {
    "papermill": {
     "duration": 0.031121,
     "end_time": "2022-03-26T02:22:07.627976",
     "exception": false,
     "start_time": "2022-03-26T02:22:07.596855",
     "status": "completed"
    },
    "tags": []
   },
   "outputs": [],
   "source": []
  },
  {
   "cell_type": "code",
   "execution_count": 1,
   "id": "vertical-rebate",
   "metadata": {
    "execution": {
     "iopub.execute_input": "2022-03-26T02:22:07.804300Z",
     "iopub.status.busy": "2022-03-26T02:22:07.803694Z",
     "iopub.status.idle": "2022-03-26T02:22:07.815739Z",
     "shell.execute_reply": "2022-03-26T02:22:07.815285Z"
    },
    "papermill": {
     "duration": 0.130679,
     "end_time": "2022-03-26T02:22:07.815859",
     "exception": false,
     "start_time": "2022-03-26T02:22:07.685180",
     "status": "completed"
    },
    "tags": []
   },
   "outputs": [],
   "source": [
    "#hide\n",
    "%load_ext autoreload\n",
    "%autoreload 2"
   ]
  },
  {
   "cell_type": "code",
   "execution_count": 2,
   "id": "overall-advancement",
   "metadata": {
    "execution": {
     "iopub.execute_input": "2022-03-26T02:22:07.899808Z",
     "iopub.status.busy": "2022-03-26T02:22:07.897656Z",
     "iopub.status.idle": "2022-03-26T02:22:09.858378Z",
     "shell.execute_reply": "2022-03-26T02:22:09.857442Z"
    },
    "papermill": {
     "duration": 2.030963,
     "end_time": "2022-03-26T02:22:09.858519",
     "exception": false,
     "start_time": "2022-03-26T02:22:07.827556",
     "status": "completed"
    },
    "tags": []
   },
   "outputs": [],
   "source": [
    "#hide\n",
    "from scripts.read_data import read_api\n",
    "from IPython.display import HTML\n",
    "import plotly.graph_objects as go\n"
   ]
  },
  {
   "cell_type": "code",
   "execution_count": 3,
   "id": "light-crazy",
   "metadata": {
    "execution": {
     "iopub.execute_input": "2022-03-26T02:22:09.888633Z",
     "iopub.status.busy": "2022-03-26T02:22:09.888109Z",
     "iopub.status.idle": "2022-03-26T02:22:09.907469Z",
     "shell.execute_reply": "2022-03-26T02:22:09.906991Z"
    },
    "papermill": {
     "duration": 0.037899,
     "end_time": "2022-03-26T02:22:09.907590",
     "exception": false,
     "start_time": "2022-03-26T02:22:09.869691",
     "status": "completed"
    },
    "tags": []
   },
   "outputs": [],
   "source": [
    "#hide\n",
    "### ICO koreliacija"
   ]
  },
  {
   "cell_type": "code",
   "execution_count": 4,
   "id": "likely-bahrain",
   "metadata": {
    "execution": {
     "iopub.execute_input": "2022-03-26T02:22:09.934033Z",
     "iopub.status.busy": "2022-03-26T02:22:09.933519Z",
     "iopub.status.idle": "2022-03-26T02:22:10.816409Z",
     "shell.execute_reply": "2022-03-26T02:22:10.815882Z"
    },
    "papermill": {
     "duration": 0.897748,
     "end_time": "2022-03-26T02:22:10.816547",
     "exception": false,
     "start_time": "2022-03-26T02:22:09.918799",
     "status": "completed"
    },
    "tags": []
   },
   "outputs": [],
   "source": [
    "#hide\n",
    "import matplotlib.pyplot as plt\n",
    "import numpy as np\n",
    "import pandas as pd\n",
    "import seaborn as sns\n",
    "import matplotlib.pyplot as plt \n",
    "import matplotlib.dates as mdates\n",
    "import matplotlib.pyplot as plt"
   ]
  },
  {
   "cell_type": "code",
   "execution_count": 5,
   "id": "superior-blanket",
   "metadata": {
    "execution": {
     "iopub.execute_input": "2022-03-26T02:22:10.843968Z",
     "iopub.status.busy": "2022-03-26T02:22:10.843370Z",
     "iopub.status.idle": "2022-03-26T02:22:20.489525Z",
     "shell.execute_reply": "2022-03-26T02:22:20.489982Z"
    },
    "papermill": {
     "duration": 9.662487,
     "end_time": "2022-03-26T02:22:20.490121",
     "exception": false,
     "start_time": "2022-03-26T02:22:10.827634",
     "status": "completed"
    },
    "tags": []
   },
   "outputs": [
    {
     "name": "stderr",
     "output_type": "stream",
     "text": [
      "/home/runner/work/corr-app/corr-app/_notebooks/scripts/read_data.py:187: SettingWithCopyWarning:\n",
      "\n",
      "\n",
      "A value is trying to be set on a copy of a slice from a DataFrame.\n",
      "Try using .loc[row_indexer,col_indexer] = value instead\n",
      "\n",
      "See the caveats in the documentation: https://pandas.pydata.org/pandas-docs/stable/user_guide/indexing.html#returning-a-view-versus-a-copy\n",
      "\n"
     ]
    },
    {
     "name": "stderr",
     "output_type": "stream",
     "text": [
      "/home/runner/work/corr-app/corr-app/_notebooks/scripts/read_data.py:215: SettingWithCopyWarning:\n",
      "\n",
      "\n",
      "A value is trying to be set on a copy of a slice from a DataFrame.\n",
      "Try using .loc[row_indexer,col_indexer] = value instead\n",
      "\n",
      "See the caveats in the documentation: https://pandas.pydata.org/pandas-docs/stable/user_guide/indexing.html#returning-a-view-versus-a-copy\n",
      "\n"
     ]
    }
   ],
   "source": [
    "#hide\n",
    "df_all = read_api()\n",
    "#df_all = df_all.drop(['SP500', 'XAU', 'ETH', 'BTC'], axis=1)\n",
    "\n"
   ]
  },
  {
   "cell_type": "code",
   "execution_count": 6,
   "id": "mature-alert",
   "metadata": {
    "execution": {
     "iopub.execute_input": "2022-03-26T02:22:20.522358Z",
     "iopub.status.busy": "2022-03-26T02:22:20.517626Z",
     "iopub.status.idle": "2022-03-26T02:22:20.548787Z",
     "shell.execute_reply": "2022-03-26T02:22:20.548334Z"
    },
    "papermill": {
     "duration": 0.047074,
     "end_time": "2022-03-26T02:22:20.548896",
     "exception": false,
     "start_time": "2022-03-26T02:22:20.501822",
     "status": "completed"
    },
    "tags": []
   },
   "outputs": [],
   "source": [
    "#hide_input\n",
    "sum_corr = df_all.corr().sum().sort_values(ascending=True).index.values\n",
    "#df_all[sum_corr].corr()"
   ]
  },
  {
   "cell_type": "markdown",
   "id": "complex-syndicate",
   "metadata": {
    "papermill": {
     "duration": 0.01126,
     "end_time": "2022-03-26T02:22:20.571495",
     "exception": false,
     "start_time": "2022-03-26T02:22:20.560235",
     "status": "completed"
    },
    "tags": []
   },
   "source": [
    "## Išplėstinė koreliacijų matrica. "
   ]
  },
  {
   "cell_type": "code",
   "execution_count": 7,
   "id": "atomic-omaha",
   "metadata": {
    "execution": {
     "iopub.execute_input": "2022-03-26T02:22:20.611170Z",
     "iopub.status.busy": "2022-03-26T02:22:20.600707Z",
     "iopub.status.idle": "2022-03-26T02:22:21.876007Z",
     "shell.execute_reply": "2022-03-26T02:22:21.875550Z"
    },
    "papermill": {
     "duration": 1.293414,
     "end_time": "2022-03-26T02:22:21.876124",
     "exception": false,
     "start_time": "2022-03-26T02:22:20.582710",
     "status": "completed"
    },
    "tags": []
   },
   "outputs": [
    {
     "data": {
      "image/png": "[encoded data removed]",
      "text/plain": [
       "<Figure size 1080x792 with 2 Axes>"
      ]
     },
     "metadata": {
      "needs_background": "light"
     },
     "output_type": "display_data"
    }
   ],
   "source": [
    "#hide_input\n",
    "plt.figure(figsize=(15, 11))\n",
    "sns.heatmap(df_all[sum_corr].corr(), annot=True, cmap=\"cubehelix\") \n",
    "sns.set(font_scale=1.25)\n",
    "plt.savefig('corr_matrix.png', format='eps')"
   ]
  },
  {
   "cell_type": "code",
   "execution_count": 8,
   "id": "arbitrary-sullivan",
   "metadata": {
    "execution": {
     "iopub.execute_input": "2022-03-26T02:22:21.907526Z",
     "iopub.status.busy": "2022-03-26T02:22:21.907000Z",
     "iopub.status.idle": "2022-03-26T02:22:21.932842Z",
     "shell.execute_reply": "2022-03-26T02:22:21.932401Z"
    },
    "papermill": {
     "duration": 0.043199,
     "end_time": "2022-03-26T02:22:21.932948",
     "exception": false,
     "start_time": "2022-03-26T02:22:21.889749",
     "status": "completed"
    },
    "tags": []
   },
   "outputs": [],
   "source": [
    "#hide\n",
    "#df_all_mrk = read_api()"
   ]
  },
  {
   "cell_type": "code",
   "execution_count": 9,
   "id": "delayed-adapter",
   "metadata": {
    "execution": {
     "iopub.execute_input": "2022-03-26T02:22:21.963728Z",
     "iopub.status.busy": "2022-03-26T02:22:21.963223Z",
     "iopub.status.idle": "2022-03-26T02:22:21.987393Z",
     "shell.execute_reply": "2022-03-26T02:22:21.987864Z"
    },
    "papermill": {
     "duration": 0.041654,
     "end_time": "2022-03-26T02:22:21.987994",
     "exception": false,
     "start_time": "2022-03-26T02:22:21.946340",
     "status": "completed"
    },
    "tags": []
   },
   "outputs": [],
   "source": [
    "#hide\n",
    "#Koreliacijų koeficientai"
   ]
  },
  {
   "cell_type": "code",
   "execution_count": 10,
   "id": "seeing-celebration",
   "metadata": {
    "execution": {
     "iopub.execute_input": "2022-03-26T02:22:22.018976Z",
     "iopub.status.busy": "2022-03-26T02:22:22.018458Z",
     "iopub.status.idle": "2022-03-26T02:22:22.041824Z",
     "shell.execute_reply": "2022-03-26T02:22:22.042254Z"
    },
    "papermill": {
     "duration": 0.039575,
     "end_time": "2022-03-26T02:22:22.042384",
     "exception": false,
     "start_time": "2022-03-26T02:22:22.002809",
     "status": "completed"
    },
    "tags": []
   },
   "outputs": [],
   "source": [
    "#hide_input\n",
    "#sum_corr = df_all_mrk.corr().sum().sort_values(ascending=True).index.values\n",
    "#df_all_mrk[sum_corr].corr()"
   ]
  },
  {
   "cell_type": "code",
   "execution_count": 11,
   "id": "other-painting",
   "metadata": {
    "execution": {
     "iopub.execute_input": "2022-03-26T02:22:22.075889Z",
     "iopub.status.busy": "2022-03-26T02:22:22.075387Z",
     "iopub.status.idle": "2022-03-26T02:22:22.097511Z",
     "shell.execute_reply": "2022-03-26T02:22:22.097956Z"
    },
    "papermill": {
     "duration": 0.042083,
     "end_time": "2022-03-26T02:22:22.098088",
     "exception": false,
     "start_time": "2022-03-26T02:22:22.056005",
     "status": "completed"
    },
    "tags": []
   },
   "outputs": [],
   "source": [
    "#hide\n",
    "#Koreliacijos matrica. "
   ]
  },
  {
   "cell_type": "code",
   "execution_count": 12,
   "id": "modular-magnitude",
   "metadata": {
    "execution": {
     "iopub.execute_input": "2022-03-26T02:22:22.128228Z",
     "iopub.status.busy": "2022-03-26T02:22:22.127688Z",
     "iopub.status.idle": "2022-03-26T02:22:22.152922Z",
     "shell.execute_reply": "2022-03-26T02:22:22.153331Z"
    },
    "papermill": {
     "duration": 0.041423,
     "end_time": "2022-03-26T02:22:22.153447",
     "exception": false,
     "start_time": "2022-03-26T02:22:22.112024",
     "status": "completed"
    },
    "tags": []
   },
   "outputs": [],
   "source": [
    "#hide_input\n",
    "#plt.figure(figsize=(15, 8))\n",
    "#sns.heatmap(df_all_mrk[sum_corr].corr(), annot=True, cmap=\"BrBG\");\n",
    "#plt.savefig('corr_matrix_all.eps', format='eps')"
   ]
  },
  {
   "cell_type": "code",
   "execution_count": null,
   "id": "original-senator",
   "metadata": {
    "papermill": {
     "duration": 0.013003,
     "end_time": "2022-03-26T02:22:22.179502",
     "exception": false,
     "start_time": "2022-03-26T02:22:22.166499",
     "status": "completed"
    },
    "tags": []
   },
   "outputs": [],
   "source": []
  },
  {
   "cell_type": "code",
   "execution_count": null,
   "id": "saving-secretariat",
   "metadata": {
    "papermill": {
     "duration": 0.013104,
     "end_time": "2022-03-26T02:22:22.205676",
     "exception": false,
     "start_time": "2022-03-26T02:22:22.192572",
     "status": "completed"
    },
    "tags": []
   },
   "outputs": [],
   "source": []
  }
 ],
 "metadata": {
  "kernelspec": {
   "display_name": "Python 3",
   "language": "python",
   "name": "python3"
  },
  "language_info": {
   "codemirror_mode": {
    "name": "ipython",
    "version": 3
   },
   "file_extension": ".py",
   "mimetype": "text/x-python",
   "name": "python",
   "nbconvert_exporter": "python",
   "pygments_lexer": "ipython3",
   "version": "3.6.15"
  },
  "papermill": {
   "default_parameters": {},
   "duration": 16.152087,
   "end_time": "2022-03-26T02:22:22.737163",
   "environment_variables": {},
   "exception": null,
   "input_path": "App-Correlation_charts.ipynb",
   "output_path": "App-Correlation_charts.ipynb",
   "parameters": {},
   "start_time": "2022-03-26T02:22:06.585076",
   "version": "2.2.2"
  }
 },
 "nbformat": 4,
 "nbformat_minor": 5
}