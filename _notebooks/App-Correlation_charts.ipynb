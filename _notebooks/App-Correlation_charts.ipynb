{
 "cells": [
  {
   "cell_type": "markdown",
   "id": "touched-facility",
   "metadata": {
    "papermill": {
     "duration": 0.014274,
     "end_time": "2022-05-10T02:22:00.553130",
     "exception": false,
     "start_time": "2022-05-10T02:22:00.538856",
     "status": "completed"
    },
    "tags": []
   },
   "source": [
    "# Koreliacijų matrica\n",
    "> Išplėstinė koreliacijų matrica. \n",
    "\n",
    "- toc: true \n",
    "- badges: true\n",
    "- comments: false\n",
    "- categories: [Dominykas Tautkus]\n",
    "- image: images/matrix.png"
   ]
  },
  {
   "cell_type": "code",
   "execution_count": null,
   "id": "premium-weekend",
   "metadata": {
    "papermill": {
     "duration": 0.010459,
     "end_time": "2022-05-10T02:22:00.574809",
     "exception": false,
     "start_time": "2022-05-10T02:22:00.564350",
     "status": "completed"
    },
    "tags": []
   },
   "outputs": [],
   "source": []
  },
  {
   "cell_type": "code",
   "execution_count": 1,
   "id": "vertical-rebate",
   "metadata": {
    "execution": {
     "iopub.execute_input": "2022-05-10T02:22:00.606211Z",
     "iopub.status.busy": "2022-05-10T02:22:00.605684Z",
     "iopub.status.idle": "2022-05-10T02:22:00.616190Z",
     "shell.execute_reply": "2022-05-10T02:22:00.615767Z"
    },
    "papermill": {
     "duration": 0.031123,
     "end_time": "2022-05-10T02:22:00.616308",
     "exception": false,
     "start_time": "2022-05-10T02:22:00.585185",
     "status": "completed"
    },
    "tags": []
   },
   "outputs": [],
   "source": [
    "#hide\n",
    "%load_ext autoreload\n",
    "%autoreload 2"
   ]
  },
  {
   "cell_type": "code",
   "execution_count": 2,
   "id": "overall-advancement",
   "metadata": {
    "execution": {
     "iopub.execute_input": "2022-05-10T02:22:00.639575Z",
     "iopub.status.busy": "2022-05-10T02:22:00.639073Z",
     "iopub.status.idle": "2022-05-10T02:22:01.832747Z",
     "shell.execute_reply": "2022-05-10T02:22:01.832254Z"
    },
    "papermill": {
     "duration": 1.206153,
     "end_time": "2022-05-10T02:22:01.832880",
     "exception": false,
     "start_time": "2022-05-10T02:22:00.626727",
     "status": "completed"
    },
    "tags": []
   },
   "outputs": [],
   "source": [
    "#hide\n",
    "from scripts.read_data import read_api\n",
    "from IPython.display import HTML\n",
    "import plotly.graph_objects as go\n"
   ]
  },
  {
   "cell_type": "code",
   "execution_count": 3,
   "id": "light-crazy",
   "metadata": {
    "execution": {
     "iopub.execute_input": "2022-05-10T02:22:01.859316Z",
     "iopub.status.busy": "2022-05-10T02:22:01.858758Z",
     "iopub.status.idle": "2022-05-10T02:22:01.880788Z",
     "shell.execute_reply": "2022-05-10T02:22:01.881134Z"
    },
    "papermill": {
     "duration": 0.037456,
     "end_time": "2022-05-10T02:22:01.881260",
     "exception": false,
     "start_time": "2022-05-10T02:22:01.843804",
     "status": "completed"
    },
    "tags": []
   },
   "outputs": [],
   "source": [
    "#hide\n",
    "### ICO koreliacija"
   ]
  },
  {
   "cell_type": "code",
   "execution_count": 4,
   "id": "likely-bahrain",
   "metadata": {
    "execution": {
     "iopub.execute_input": "2022-05-10T02:22:01.903889Z",
     "iopub.status.busy": "2022-05-10T02:22:01.903419Z",
     "iopub.status.idle": "2022-05-10T02:22:02.745642Z",
     "shell.execute_reply": "2022-05-10T02:22:02.746132Z"
    },
    "papermill": {
     "duration": 0.85556,
     "end_time": "2022-05-10T02:22:02.746308",
     "exception": false,
     "start_time": "2022-05-10T02:22:01.890748",
     "status": "completed"
    },
    "tags": []
   },
   "outputs": [],
   "source": [
    "#hide\n",
    "import matplotlib.pyplot as plt\n",
    "import numpy as np\n",
    "import pandas as pd\n",
    "import seaborn as sns\n",
    "import matplotlib.pyplot as plt \n",
    "import matplotlib.dates as mdates\n",
    "import matplotlib.pyplot as plt"
   ]
  },
  {
   "cell_type": "code",
   "execution_count": 5,
   "id": "superior-blanket",
   "metadata": {
    "execution": {
     "iopub.execute_input": "2022-05-10T02:22:02.772248Z",
     "iopub.status.busy": "2022-05-10T02:22:02.771650Z",
     "iopub.status.idle": "2022-05-10T02:22:13.763791Z",
     "shell.execute_reply": "2022-05-10T02:22:13.763273Z"
    },
    "papermill": {
     "duration": 11.006103,
     "end_time": "2022-05-10T02:22:13.763919",
     "exception": false,
     "start_time": "2022-05-10T02:22:02.757816",
     "status": "completed"
    },
    "tags": []
   },
   "outputs": [
    {
     "name": "stderr",
     "output_type": "stream",
     "text": [
      "/home/runner/work/corr-app/corr-app/_notebooks/scripts/read_data.py:187: SettingWithCopyWarning:\n",
      "\n",
      "\n",
      "A value is trying to be set on a copy of a slice from a DataFrame.\n",
      "Try using .loc[row_indexer,col_indexer] = value instead\n",
      "\n",
      "See the caveats in the documentation: https://pandas.pydata.org/pandas-docs/stable/user_guide/indexing.html#returning-a-view-versus-a-copy\n",
      "\n"
     ]
    },
    {
     "name": "stderr",
     "output_type": "stream",
     "text": [
      "/home/runner/work/corr-app/corr-app/_notebooks/scripts/read_data.py:215: SettingWithCopyWarning:\n",
      "\n",
      "\n",
      "A value is trying to be set on a copy of a slice from a DataFrame.\n",
      "Try using .loc[row_indexer,col_indexer] = value instead\n",
      "\n",
      "See the caveats in the documentation: https://pandas.pydata.org/pandas-docs/stable/user_guide/indexing.html#returning-a-view-versus-a-copy\n",
      "\n"
     ]
    }
   ],
   "source": [
    "#hide\n",
    "df_all = read_api()\n",
    "#df_all = df_all.drop(['SP500', 'XAU', 'ETH', 'BTC'], axis=1)\n",
    "\n"
   ]
  },
  {
   "cell_type": "code",
   "execution_count": 6,
   "id": "mature-alert",
   "metadata": {
    "execution": {
     "iopub.execute_input": "2022-05-10T02:22:13.791411Z",
     "iopub.status.busy": "2022-05-10T02:22:13.790871Z",
     "iopub.status.idle": "2022-05-10T02:22:13.820792Z",
     "shell.execute_reply": "2022-05-10T02:22:13.821229Z"
    },
    "papermill": {
     "duration": 0.045804,
     "end_time": "2022-05-10T02:22:13.821379",
     "exception": false,
     "start_time": "2022-05-10T02:22:13.775575",
     "status": "completed"
    },
    "tags": []
   },
   "outputs": [],
   "source": [
    "#hide_input\n",
    "sum_corr = df_all.corr().sum().sort_values(ascending=True).index.values\n",
    "#df_all[sum_corr].corr()"
   ]
  },
  {
   "cell_type": "markdown",
   "id": "complex-syndicate",
   "metadata": {
    "papermill": {
     "duration": 0.011001,
     "end_time": "2022-05-10T02:22:13.843794",
     "exception": false,
     "start_time": "2022-05-10T02:22:13.832793",
     "status": "completed"
    },
    "tags": []
   },
   "source": [
    "## Išplėstinė koreliacijų matrica. "
   ]
  },
  {
   "cell_type": "code",
   "execution_count": 7,
   "id": "atomic-omaha",
   "metadata": {
    "execution": {
     "iopub.execute_input": "2022-05-10T02:22:13.868163Z",
     "iopub.status.busy": "2022-05-10T02:22:13.867664Z",
     "iopub.status.idle": "2022-05-10T02:22:15.052237Z",
     "shell.execute_reply": "2022-05-10T02:22:15.051406Z"
    },
    "papermill": {
     "duration": 1.197594,
     "end_time": "2022-05-10T02:22:15.052376",
     "exception": false,
     "start_time": "2022-05-10T02:22:13.854782",
     "status": "completed"
    },
    "tags": []
   },
   "outputs": [
    {
     "data": {
      "image/png": "[encoded data removed]",
      "text/plain": [
       "<Figure size 1080x792 with 2 Axes>"
      ]
     },
     "metadata": {
      "needs_background": "light"
     },
     "output_type": "display_data"
    }
   ],
   "source": [
    "#hide_input\n",
    "plt.figure(figsize=(15, 11))\n",
    "sns.heatmap(df_all[sum_corr].corr(), annot=True, cmap=\"cubehelix\") \n",
    "sns.set(font_scale=1.25)\n",
    "plt.savefig('corr_matrix.png', format='eps')"
   ]
  },
  {
   "cell_type": "code",
   "execution_count": 8,
   "id": "arbitrary-sullivan",
   "metadata": {
    "execution": {
     "iopub.execute_input": "2022-05-10T02:22:15.088550Z",
     "iopub.status.busy": "2022-05-10T02:22:15.084155Z",
     "iopub.status.idle": "2022-05-10T02:22:15.112511Z",
     "shell.execute_reply": "2022-05-10T02:22:15.111724Z"
    },
    "papermill": {
     "duration": 0.046635,
     "end_time": "2022-05-10T02:22:15.112648",
     "exception": false,
     "start_time": "2022-05-10T02:22:15.066013",
     "status": "completed"
    },
    "tags": []
   },
   "outputs": [],
   "source": [
    "#hide\n",
    "#df_all_mrk = read_api()"
   ]
  },
  {
   "cell_type": "code",
   "execution_count": 9,
   "id": "delayed-adapter",
   "metadata": {
    "execution": {
     "iopub.execute_input": "2022-05-10T02:22:15.156164Z",
     "iopub.status.busy": "2022-05-10T02:22:15.155333Z",
     "iopub.status.idle": "2022-05-10T02:22:15.175605Z",
     "shell.execute_reply": "2022-05-10T02:22:15.175112Z"
    },
    "papermill": {
     "duration": 0.048932,
     "end_time": "2022-05-10T02:22:15.175727",
     "exception": false,
     "start_time": "2022-05-10T02:22:15.126795",
     "status": "completed"
    },
    "tags": []
   },
   "outputs": [],
   "source": [
    "#hide\n",
    "#Koreliacijų koeficientai"
   ]
  },
  {
   "cell_type": "code",
   "execution_count": 10,
   "id": "seeing-celebration",
   "metadata": {
    "execution": {
     "iopub.execute_input": "2022-05-10T02:22:15.209407Z",
     "iopub.status.busy": "2022-05-10T02:22:15.208797Z",
     "iopub.status.idle": "2022-05-10T02:22:15.235255Z",
     "shell.execute_reply": "2022-05-10T02:22:15.234742Z"
    },
    "papermill": {
     "duration": 0.044628,
     "end_time": "2022-05-10T02:22:15.235373",
     "exception": false,
     "start_time": "2022-05-10T02:22:15.190745",
     "status": "completed"
    },
    "tags": []
   },
   "outputs": [],
   "source": [
    "#hide_input\n",
    "#sum_corr = df_all_mrk.corr().sum().sort_values(ascending=True).index.values\n",
    "#df_all_mrk[sum_corr].corr()"
   ]
  },
  {
   "cell_type": "code",
   "execution_count": 11,
   "id": "other-painting",
   "metadata": {
    "execution": {
     "iopub.execute_input": "2022-05-10T02:22:15.271720Z",
     "iopub.status.busy": "2022-05-10T02:22:15.271146Z",
     "iopub.status.idle": "2022-05-10T02:22:15.293258Z",
     "shell.execute_reply": "2022-05-10T02:22:15.293649Z"
    },
    "papermill": {
     "duration": 0.044543,
     "end_time": "2022-05-10T02:22:15.293772",
     "exception": false,
     "start_time": "2022-05-10T02:22:15.249229",
     "status": "completed"
    },
    "tags": []
   },
   "outputs": [],
   "source": [
    "#hide\n",
    "#Koreliacijos matrica. "
   ]
  },
  {
   "cell_type": "code",
   "execution_count": 12,
   "id": "modular-magnitude",
   "metadata": {
    "execution": {
     "iopub.execute_input": "2022-05-10T02:22:15.323686Z",
     "iopub.status.busy": "2022-05-10T02:22:15.323005Z",
     "iopub.status.idle": "2022-05-10T02:22:15.349366Z",
     "shell.execute_reply": "2022-05-10T02:22:15.348846Z"
    },
    "papermill": {
     "duration": 0.042636,
     "end_time": "2022-05-10T02:22:15.349483",
     "exception": false,
     "start_time": "2022-05-10T02:22:15.306847",
     "status": "completed"
    },
    "tags": []
   },
   "outputs": [],
   "source": [
    "#hide_input\n",
    "#plt.figure(figsize=(15, 8))\n",
    "#sns.heatmap(df_all_mrk[sum_corr].corr(), annot=True, cmap=\"BrBG\");\n",
    "#plt.savefig('corr_matrix_all.eps', format='eps')"
   ]
  },
  {
   "cell_type": "code",
   "execution_count": null,
   "id": "original-senator",
   "metadata": {
    "papermill": {
     "duration": 0.012878,
     "end_time": "2022-05-10T02:22:15.375865",
     "exception": false,
     "start_time": "2022-05-10T02:22:15.362987",
     "status": "completed"
    },
    "tags": []
   },
   "outputs": [],
   "source": []
  },
  {
   "cell_type": "code",
   "execution_count": null,
   "id": "saving-secretariat",
   "metadata": {
    "papermill": {
     "duration": 0.01291,
     "end_time": "2022-05-10T02:22:15.401722",
     "exception": false,
     "start_time": "2022-05-10T02:22:15.388812",
     "status": "completed"
    },
    "tags": []
   },
   "outputs": [],
   "source": []
  }
 ],
 "metadata": {
  "kernelspec": {
   "display_name": "Python 3",
   "language": "python",
   "name": "python3"
  },
  "language_info": {
   "codemirror_mode": {
    "name": "ipython",
    "version": 3
   },
   "file_extension": ".py",
   "mimetype": "text/x-python",
   "name": "python",
   "nbconvert_exporter": "python",
   "pygments_lexer": "ipython3",
   "version": "3.6.15"
  },
  "papermill": {
   "default_parameters": {},
   "duration": 16.320258,
   "end_time": "2022-05-10T02:22:15.932741",
   "environment_variables": {},
   "exception": null,
   "input_path": "App-Correlation_charts.ipynb",
   "output_path": "App-Correlation_charts.ipynb",
   "parameters": {},
   "start_time": "2022-05-10T02:21:59.612483",
   "version": "2.2.2"
  }
 },
 "nbformat": 4,
 "nbformat_minor": 5
}