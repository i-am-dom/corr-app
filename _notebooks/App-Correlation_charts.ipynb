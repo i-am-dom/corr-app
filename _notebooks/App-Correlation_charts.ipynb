{
 "cells": [
  {
   "cell_type": "markdown",
   "id": "touched-facility",
   "metadata": {
    "papermill": {
     "duration": 0.017355,
     "end_time": "2021-08-17T01:54:36.679664",
     "exception": false,
     "start_time": "2021-08-17T01:54:36.662309",
     "status": "completed"
    },
    "tags": []
   },
   "source": [
    "# Koreliacijų matrica\n",
    "> Išplėstinė koreliacijų matrica. \n",
    "\n",
    "- toc: true \n",
    "- badges: true\n",
    "- comments: false\n",
    "- categories: [Dominykas Tautkus]\n",
    "- image: images/matrix.png"
   ]
  },
  {
   "cell_type": "code",
   "execution_count": null,
   "id": "premium-weekend",
   "metadata": {
    "papermill": {
     "duration": 0.012181,
     "end_time": "2021-08-17T01:54:36.704846",
     "exception": false,
     "start_time": "2021-08-17T01:54:36.692665",
     "status": "completed"
    },
    "tags": []
   },
   "outputs": [],
   "source": []
  },
  {
   "cell_type": "code",
   "execution_count": 1,
   "id": "vertical-rebate",
   "metadata": {
    "execution": {
     "iopub.execute_input": "2021-08-17T01:54:36.744692Z",
     "iopub.status.busy": "2021-08-17T01:54:36.744130Z",
     "iopub.status.idle": "2021-08-17T01:54:36.755084Z",
     "shell.execute_reply": "2021-08-17T01:54:36.754585Z"
    },
    "papermill": {
     "duration": 0.036376,
     "end_time": "2021-08-17T01:54:36.755222",
     "exception": false,
     "start_time": "2021-08-17T01:54:36.718846",
     "status": "completed"
    },
    "tags": []
   },
   "outputs": [],
   "source": [
    "#hide\n",
    "%load_ext autoreload\n",
    "%autoreload 2"
   ]
  },
  {
   "cell_type": "code",
   "execution_count": 2,
   "id": "overall-advancement",
   "metadata": {
    "execution": {
     "iopub.execute_input": "2021-08-17T01:54:36.781814Z",
     "iopub.status.busy": "2021-08-17T01:54:36.781198Z",
     "iopub.status.idle": "2021-08-17T01:54:38.069309Z",
     "shell.execute_reply": "2021-08-17T01:54:38.069903Z"
    },
    "papermill": {
     "duration": 1.304177,
     "end_time": "2021-08-17T01:54:38.070086",
     "exception": false,
     "start_time": "2021-08-17T01:54:36.765909",
     "status": "completed"
    },
    "tags": []
   },
   "outputs": [],
   "source": [
    "#hide\n",
    "from scripts.read_data import read_api\n",
    "from IPython.display import HTML\n",
    "import plotly.graph_objects as go\n"
   ]
  },
  {
   "cell_type": "code",
   "execution_count": 3,
   "id": "light-crazy",
   "metadata": {
    "execution": {
     "iopub.execute_input": "2021-08-17T01:54:38.102806Z",
     "iopub.status.busy": "2021-08-17T01:54:38.102150Z",
     "iopub.status.idle": "2021-08-17T01:54:38.127312Z",
     "shell.execute_reply": "2021-08-17T01:54:38.126780Z"
    },
    "papermill": {
     "duration": 0.042372,
     "end_time": "2021-08-17T01:54:38.127438",
     "exception": false,
     "start_time": "2021-08-17T01:54:38.085066",
     "status": "completed"
    },
    "tags": []
   },
   "outputs": [],
   "source": [
    "#hide\n",
    "### ICO koreliacija"
   ]
  },
  {
   "cell_type": "code",
   "execution_count": 4,
   "id": "likely-bahrain",
   "metadata": {
    "execution": {
     "iopub.execute_input": "2021-08-17T01:54:38.159088Z",
     "iopub.status.busy": "2021-08-17T01:54:38.158473Z",
     "iopub.status.idle": "2021-08-17T01:54:39.086130Z",
     "shell.execute_reply": "2021-08-17T01:54:39.085015Z"
    },
    "papermill": {
     "duration": 0.946621,
     "end_time": "2021-08-17T01:54:39.086272",
     "exception": false,
     "start_time": "2021-08-17T01:54:38.139651",
     "status": "completed"
    },
    "tags": []
   },
   "outputs": [],
   "source": [
    "#hide\n",
    "import matplotlib.pyplot as plt\n",
    "import numpy as np\n",
    "import pandas as pd\n",
    "import seaborn as sns\n",
    "import matplotlib.pyplot as plt \n",
    "import matplotlib.dates as mdates\n",
    "import matplotlib.pyplot as plt"
   ]
  },
  {
   "cell_type": "code",
   "execution_count": 5,
   "id": "superior-blanket",
   "metadata": {
    "execution": {
     "iopub.execute_input": "2021-08-17T01:54:39.116807Z",
     "iopub.status.busy": "2021-08-17T01:54:39.115395Z",
     "iopub.status.idle": "2021-08-17T01:54:52.260900Z",
     "shell.execute_reply": "2021-08-17T01:54:52.261399Z"
    },
    "papermill": {
     "duration": 13.162694,
     "end_time": "2021-08-17T01:54:52.261551",
     "exception": false,
     "start_time": "2021-08-17T01:54:39.098857",
     "status": "completed"
    },
    "tags": []
   },
   "outputs": [
    {
     "name": "stderr",
     "output_type": "stream",
     "text": [
      "/home/runner/work/corr-app/corr-app/_notebooks/scripts/read_data.py:187: SettingWithCopyWarning:\n",
      "\n",
      "\n",
      "A value is trying to be set on a copy of a slice from a DataFrame.\n",
      "Try using .loc[row_indexer,col_indexer] = value instead\n",
      "\n",
      "See the caveats in the documentation: https://pandas.pydata.org/pandas-docs/stable/user_guide/indexing.html#returning-a-view-versus-a-copy\n",
      "\n"
     ]
    },
    {
     "name": "stderr",
     "output_type": "stream",
     "text": [
      "/home/runner/work/corr-app/corr-app/_notebooks/scripts/read_data.py:215: SettingWithCopyWarning:\n",
      "\n",
      "\n",
      "A value is trying to be set on a copy of a slice from a DataFrame.\n",
      "Try using .loc[row_indexer,col_indexer] = value instead\n",
      "\n",
      "See the caveats in the documentation: https://pandas.pydata.org/pandas-docs/stable/user_guide/indexing.html#returning-a-view-versus-a-copy\n",
      "\n"
     ]
    }
   ],
   "source": [
    "#hide\n",
    "df_all = read_api()\n",
    "#df_all = df_all.drop(['SP500', 'XAU', 'ETH', 'BTC'], axis=1)\n",
    "\n"
   ]
  },
  {
   "cell_type": "code",
   "execution_count": 6,
   "id": "mature-alert",
   "metadata": {
    "execution": {
     "iopub.execute_input": "2021-08-17T01:54:52.292230Z",
     "iopub.status.busy": "2021-08-17T01:54:52.291631Z",
     "iopub.status.idle": "2021-08-17T01:54:52.326631Z",
     "shell.execute_reply": "2021-08-17T01:54:52.327473Z"
    },
    "papermill": {
     "duration": 0.05301,
     "end_time": "2021-08-17T01:54:52.327639",
     "exception": false,
     "start_time": "2021-08-17T01:54:52.274629",
     "status": "completed"
    },
    "tags": []
   },
   "outputs": [],
   "source": [
    "#hide_input\n",
    "sum_corr = df_all.corr().sum().sort_values(ascending=True).index.values\n",
    "#df_all[sum_corr].corr()"
   ]
  },
  {
   "cell_type": "markdown",
   "id": "complex-syndicate",
   "metadata": {
    "papermill": {
     "duration": 0.013104,
     "end_time": "2021-08-17T01:54:52.354200",
     "exception": false,
     "start_time": "2021-08-17T01:54:52.341096",
     "status": "completed"
    },
    "tags": []
   },
   "source": [
    "## Išplėstinė koreliacijų matrica. "
   ]
  },
  {
   "cell_type": "code",
   "execution_count": 7,
   "id": "atomic-omaha",
   "metadata": {
    "execution": {
     "iopub.execute_input": "2021-08-17T01:54:52.385453Z",
     "iopub.status.busy": "2021-08-17T01:54:52.384861Z",
     "iopub.status.idle": "2021-08-17T01:54:53.756025Z",
     "shell.execute_reply": "2021-08-17T01:54:53.755502Z"
    },
    "papermill": {
     "duration": 1.388416,
     "end_time": "2021-08-17T01:54:53.756150",
     "exception": false,
     "start_time": "2021-08-17T01:54:52.367734",
     "status": "completed"
    },
    "tags": []
   },
   "outputs": [
    {
     "data": {
      "image/png": "[encoded data removed]",
      "text/plain": [
       "<Figure size 1080x792 with 2 Axes>"
      ]
     },
     "metadata": {
      "needs_background": "light"
     },
     "output_type": "display_data"
    }
   ],
   "source": [
    "#hide_input\n",
    "plt.figure(figsize=(15, 11))\n",
    "sns.heatmap(df_all[sum_corr].corr(), annot=True, cmap=\"cubehelix\") \n",
    "sns.set(font_scale=1.25)\n",
    "plt.savefig('corr_matrix.png', format='eps')"
   ]
  },
  {
   "cell_type": "code",
   "execution_count": 8,
   "id": "arbitrary-sullivan",
   "metadata": {
    "execution": {
     "iopub.execute_input": "2021-08-17T01:54:53.789398Z",
     "iopub.status.busy": "2021-08-17T01:54:53.788213Z",
     "iopub.status.idle": "2021-08-17T01:54:53.816536Z",
     "shell.execute_reply": "2021-08-17T01:54:53.816004Z"
    },
    "papermill": {
     "duration": 0.046145,
     "end_time": "2021-08-17T01:54:53.816661",
     "exception": false,
     "start_time": "2021-08-17T01:54:53.770516",
     "status": "completed"
    },
    "tags": []
   },
   "outputs": [],
   "source": [
    "#hide\n",
    "#df_all_mrk = read_api()"
   ]
  },
  {
   "cell_type": "code",
   "execution_count": 9,
   "id": "delayed-adapter",
   "metadata": {
    "execution": {
     "iopub.execute_input": "2021-08-17T01:54:53.853037Z",
     "iopub.status.busy": "2021-08-17T01:54:53.852434Z",
     "iopub.status.idle": "2021-08-17T01:54:53.881703Z",
     "shell.execute_reply": "2021-08-17T01:54:53.881194Z"
    },
    "papermill": {
     "duration": 0.048531,
     "end_time": "2021-08-17T01:54:53.881836",
     "exception": false,
     "start_time": "2021-08-17T01:54:53.833305",
     "status": "completed"
    },
    "tags": []
   },
   "outputs": [],
   "source": [
    "#hide\n",
    "#Koreliacijų koeficientai"
   ]
  },
  {
   "cell_type": "code",
   "execution_count": 10,
   "id": "seeing-celebration",
   "metadata": {
    "execution": {
     "iopub.execute_input": "2021-08-17T01:54:53.916797Z",
     "iopub.status.busy": "2021-08-17T01:54:53.916260Z",
     "iopub.status.idle": "2021-08-17T01:54:53.944928Z",
     "shell.execute_reply": "2021-08-17T01:54:53.945377Z"
    },
    "papermill": {
     "duration": 0.048139,
     "end_time": "2021-08-17T01:54:53.945528",
     "exception": false,
     "start_time": "2021-08-17T01:54:53.897389",
     "status": "completed"
    },
    "tags": []
   },
   "outputs": [],
   "source": [
    "#hide_input\n",
    "#sum_corr = df_all_mrk.corr().sum().sort_values(ascending=True).index.values\n",
    "#df_all_mrk[sum_corr].corr()"
   ]
  },
  {
   "cell_type": "code",
   "execution_count": 11,
   "id": "other-painting",
   "metadata": {
    "execution": {
     "iopub.execute_input": "2021-08-17T01:54:53.981863Z",
     "iopub.status.busy": "2021-08-17T01:54:53.981250Z",
     "iopub.status.idle": "2021-08-17T01:54:54.009940Z",
     "shell.execute_reply": "2021-08-17T01:54:54.009325Z"
    },
    "papermill": {
     "duration": 0.049335,
     "end_time": "2021-08-17T01:54:54.010062",
     "exception": false,
     "start_time": "2021-08-17T01:54:53.960727",
     "status": "completed"
    },
    "tags": []
   },
   "outputs": [],
   "source": [
    "#hide\n",
    "#Koreliacijos matrica. "
   ]
  },
  {
   "cell_type": "code",
   "execution_count": 12,
   "id": "modular-magnitude",
   "metadata": {
    "execution": {
     "iopub.execute_input": "2021-08-17T01:54:54.048512Z",
     "iopub.status.busy": "2021-08-17T01:54:54.047935Z",
     "iopub.status.idle": "2021-08-17T01:54:54.074737Z",
     "shell.execute_reply": "2021-08-17T01:54:54.074117Z"
    },
    "papermill": {
     "duration": 0.049679,
     "end_time": "2021-08-17T01:54:54.074895",
     "exception": false,
     "start_time": "2021-08-17T01:54:54.025216",
     "status": "completed"
    },
    "tags": []
   },
   "outputs": [],
   "source": [
    "#hide_input\n",
    "#plt.figure(figsize=(15, 8))\n",
    "#sns.heatmap(df_all_mrk[sum_corr].corr(), annot=True, cmap=\"BrBG\");\n",
    "#plt.savefig('corr_matrix_all.eps', format='eps')"
   ]
  },
  {
   "cell_type": "code",
   "execution_count": null,
   "id": "original-senator",
   "metadata": {
    "papermill": {
     "duration": 0.018726,
     "end_time": "2021-08-17T01:54:54.111915",
     "exception": false,
     "start_time": "2021-08-17T01:54:54.093189",
     "status": "completed"
    },
    "tags": []
   },
   "outputs": [],
   "source": []
  },
  {
   "cell_type": "code",
   "execution_count": null,
   "id": "saving-secretariat",
   "metadata": {
    "papermill": {
     "duration": 0.014943,
     "end_time": "2021-08-17T01:54:54.142433",
     "exception": false,
     "start_time": "2021-08-17T01:54:54.127490",
     "status": "completed"
    },
    "tags": []
   },
   "outputs": [],
   "source": []
  }
 ],
 "metadata": {
  "kernelspec": {
   "display_name": "Python 3",
   "language": "python",
   "name": "python3"
  },
  "language_info": {
   "codemirror_mode": {
    "name": "ipython",
    "version": 3
   },
   "file_extension": ".py",
   "mimetype": "text/x-python",
   "name": "python",
   "nbconvert_exporter": "python",
   "pygments_lexer": "ipython3",
   "version": "3.6.14"
  },
  "papermill": {
   "default_parameters": {},
   "duration": 19.096721,
   "end_time": "2021-08-17T01:54:54.667076",
   "environment_variables": {},
   "exception": null,
   "input_path": "App-Correlation_charts.ipynb",
   "output_path": "App-Correlation_charts.ipynb",
   "parameters": {},
   "start_time": "2021-08-17T01:54:35.570355",
   "version": "2.2.2"
  }
 },
 "nbformat": 4,
 "nbformat_minor": 5
}