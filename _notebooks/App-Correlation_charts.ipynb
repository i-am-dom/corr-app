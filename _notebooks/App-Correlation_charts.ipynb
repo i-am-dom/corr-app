{
 "cells": [
  {
   "cell_type": "markdown",
   "id": "touched-facility",
   "metadata": {
    "papermill": {
     "duration": 0.014393,
     "end_time": "2022-03-22T02:27:45.379499",
     "exception": false,
     "start_time": "2022-03-22T02:27:45.365106",
     "status": "completed"
    },
    "tags": []
   },
   "source": [
    "# Koreliacijų matrica\n",
    "> Išplėstinė koreliacijų matrica. \n",
    "\n",
    "- toc: true \n",
    "- badges: true\n",
    "- comments: false\n",
    "- categories: [Dominykas Tautkus]\n",
    "- image: images/matrix.png"
   ]
  },
  {
   "cell_type": "code",
   "execution_count": null,
   "id": "premium-weekend",
   "metadata": {
    "papermill": {
     "duration": 0.012184,
     "end_time": "2022-03-22T02:27:45.403304",
     "exception": false,
     "start_time": "2022-03-22T02:27:45.391120",
     "status": "completed"
    },
    "tags": []
   },
   "outputs": [],
   "source": []
  },
  {
   "cell_type": "code",
   "execution_count": 1,
   "id": "vertical-rebate",
   "metadata": {
    "execution": {
     "iopub.execute_input": "2022-03-22T02:27:45.434916Z",
     "iopub.status.busy": "2022-03-22T02:27:45.434371Z",
     "iopub.status.idle": "2022-03-22T02:27:45.444445Z",
     "shell.execute_reply": "2022-03-22T02:27:45.444037Z"
    },
    "papermill": {
     "duration": 0.030339,
     "end_time": "2022-03-22T02:27:45.444554",
     "exception": false,
     "start_time": "2022-03-22T02:27:45.414215",
     "status": "completed"
    },
    "tags": []
   },
   "outputs": [],
   "source": [
    "#hide\n",
    "%load_ext autoreload\n",
    "%autoreload 2"
   ]
  },
  {
   "cell_type": "code",
   "execution_count": 2,
   "id": "overall-advancement",
   "metadata": {
    "execution": {
     "iopub.execute_input": "2022-03-22T02:27:45.469041Z",
     "iopub.status.busy": "2022-03-22T02:27:45.468554Z",
     "iopub.status.idle": "2022-03-22T02:27:46.540640Z",
     "shell.execute_reply": "2022-03-22T02:27:46.540197Z"
    },
    "papermill": {
     "duration": 1.085289,
     "end_time": "2022-03-22T02:27:46.540755",
     "exception": false,
     "start_time": "2022-03-22T02:27:45.455466",
     "status": "completed"
    },
    "tags": []
   },
   "outputs": [],
   "source": [
    "#hide\n",
    "from scripts.read_data import read_api\n",
    "from IPython.display import HTML\n",
    "import plotly.graph_objects as go\n"
   ]
  },
  {
   "cell_type": "code",
   "execution_count": 3,
   "id": "light-crazy",
   "metadata": {
    "execution": {
     "iopub.execute_input": "2022-03-22T02:27:46.570131Z",
     "iopub.status.busy": "2022-03-22T02:27:46.567497Z",
     "iopub.status.idle": "2022-03-22T02:27:46.588908Z",
     "shell.execute_reply": "2022-03-22T02:27:46.588507Z"
    },
    "papermill": {
     "duration": 0.03707,
     "end_time": "2022-03-22T02:27:46.589011",
     "exception": false,
     "start_time": "2022-03-22T02:27:46.551941",
     "status": "completed"
    },
    "tags": []
   },
   "outputs": [],
   "source": [
    "#hide\n",
    "### ICO koreliacija"
   ]
  },
  {
   "cell_type": "code",
   "execution_count": 4,
   "id": "likely-bahrain",
   "metadata": {
    "execution": {
     "iopub.execute_input": "2022-03-22T02:27:46.614202Z",
     "iopub.status.busy": "2022-03-22T02:27:46.613705Z",
     "iopub.status.idle": "2022-03-22T02:27:47.462358Z",
     "shell.execute_reply": "2022-03-22T02:27:47.461917Z"
    },
    "papermill": {
     "duration": 0.862404,
     "end_time": "2022-03-22T02:27:47.462474",
     "exception": false,
     "start_time": "2022-03-22T02:27:46.600070",
     "status": "completed"
    },
    "tags": []
   },
   "outputs": [],
   "source": [
    "#hide\n",
    "import matplotlib.pyplot as plt\n",
    "import numpy as np\n",
    "import pandas as pd\n",
    "import seaborn as sns\n",
    "import matplotlib.pyplot as plt \n",
    "import matplotlib.dates as mdates\n",
    "import matplotlib.pyplot as plt"
   ]
  },
  {
   "cell_type": "code",
   "execution_count": 5,
   "id": "superior-blanket",
   "metadata": {
    "execution": {
     "iopub.execute_input": "2022-03-22T02:27:47.589373Z",
     "iopub.status.busy": "2022-03-22T02:27:47.588848Z",
     "iopub.status.idle": "2022-03-22T02:27:56.921867Z",
     "shell.execute_reply": "2022-03-22T02:27:56.922315Z"
    },
    "papermill": {
     "duration": 9.440808,
     "end_time": "2022-03-22T02:27:56.922447",
     "exception": false,
     "start_time": "2022-03-22T02:27:47.481639",
     "status": "completed"
    },
    "tags": []
   },
   "outputs": [
    {
     "name": "stderr",
     "output_type": "stream",
     "text": [
      "/home/runner/work/corr-app/corr-app/_notebooks/scripts/read_data.py:187: SettingWithCopyWarning:\n",
      "\n",
      "\n",
      "A value is trying to be set on a copy of a slice from a DataFrame.\n",
      "Try using .loc[row_indexer,col_indexer] = value instead\n",
      "\n",
      "See the caveats in the documentation: https://pandas.pydata.org/pandas-docs/stable/user_guide/indexing.html#returning-a-view-versus-a-copy\n",
      "\n"
     ]
    },
    {
     "name": "stderr",
     "output_type": "stream",
     "text": [
      "/home/runner/work/corr-app/corr-app/_notebooks/scripts/read_data.py:215: SettingWithCopyWarning:\n",
      "\n",
      "\n",
      "A value is trying to be set on a copy of a slice from a DataFrame.\n",
      "Try using .loc[row_indexer,col_indexer] = value instead\n",
      "\n",
      "See the caveats in the documentation: https://pandas.pydata.org/pandas-docs/stable/user_guide/indexing.html#returning-a-view-versus-a-copy\n",
      "\n"
     ]
    }
   ],
   "source": [
    "#hide\n",
    "df_all = read_api()\n",
    "#df_all = df_all.drop(['SP500', 'XAU', 'ETH', 'BTC'], axis=1)\n",
    "\n"
   ]
  },
  {
   "cell_type": "code",
   "execution_count": 6,
   "id": "mature-alert",
   "metadata": {
    "execution": {
     "iopub.execute_input": "2022-03-22T02:27:56.951415Z",
     "iopub.status.busy": "2022-03-22T02:27:56.950870Z",
     "iopub.status.idle": "2022-03-22T02:27:56.979017Z",
     "shell.execute_reply": "2022-03-22T02:27:56.978580Z"
    },
    "papermill": {
     "duration": 0.044353,
     "end_time": "2022-03-22T02:27:56.979128",
     "exception": false,
     "start_time": "2022-03-22T02:27:56.934775",
     "status": "completed"
    },
    "tags": []
   },
   "outputs": [],
   "source": [
    "#hide_input\n",
    "sum_corr = df_all.corr().sum().sort_values(ascending=True).index.values\n",
    "#df_all[sum_corr].corr()"
   ]
  },
  {
   "cell_type": "markdown",
   "id": "complex-syndicate",
   "metadata": {
    "papermill": {
     "duration": 0.011508,
     "end_time": "2022-03-22T02:27:57.002366",
     "exception": false,
     "start_time": "2022-03-22T02:27:56.990858",
     "status": "completed"
    },
    "tags": []
   },
   "source": [
    "## Išplėstinė koreliacijų matrica. "
   ]
  },
  {
   "cell_type": "code",
   "execution_count": 7,
   "id": "atomic-omaha",
   "metadata": {
    "execution": {
     "iopub.execute_input": "2022-03-22T02:27:57.029519Z",
     "iopub.status.busy": "2022-03-22T02:27:57.029014Z",
     "iopub.status.idle": "2022-03-22T02:27:58.184866Z",
     "shell.execute_reply": "2022-03-22T02:27:58.185284Z"
    },
    "papermill": {
     "duration": 1.171581,
     "end_time": "2022-03-22T02:27:58.185412",
     "exception": false,
     "start_time": "2022-03-22T02:27:57.013831",
     "status": "completed"
    },
    "tags": []
   },
   "outputs": [
    {
     "data": {
      "image/png": "[encoded data removed]",
      "text/plain": [
       "<Figure size 1080x792 with 2 Axes>"
      ]
     },
     "metadata": {
      "needs_background": "light"
     },
     "output_type": "display_data"
    }
   ],
   "source": [
    "#hide_input\n",
    "plt.figure(figsize=(15, 11))\n",
    "sns.heatmap(df_all[sum_corr].corr(), annot=True, cmap=\"cubehelix\") \n",
    "sns.set(font_scale=1.25)\n",
    "plt.savefig('corr_matrix.png', format='eps')"
   ]
  },
  {
   "cell_type": "code",
   "execution_count": 8,
   "id": "arbitrary-sullivan",
   "metadata": {
    "execution": {
     "iopub.execute_input": "2022-03-22T02:27:58.215918Z",
     "iopub.status.busy": "2022-03-22T02:27:58.215389Z",
     "iopub.status.idle": "2022-03-22T02:27:58.240194Z",
     "shell.execute_reply": "2022-03-22T02:27:58.239764Z"
    },
    "papermill": {
     "duration": 0.041082,
     "end_time": "2022-03-22T02:27:58.240330",
     "exception": false,
     "start_time": "2022-03-22T02:27:58.199248",
     "status": "completed"
    },
    "tags": []
   },
   "outputs": [],
   "source": [
    "#hide\n",
    "#df_all_mrk = read_api()"
   ]
  },
  {
   "cell_type": "code",
   "execution_count": 9,
   "id": "delayed-adapter",
   "metadata": {
    "execution": {
     "iopub.execute_input": "2022-03-22T02:27:58.275463Z",
     "iopub.status.busy": "2022-03-22T02:27:58.274964Z",
     "iopub.status.idle": "2022-03-22T02:27:58.300703Z",
     "shell.execute_reply": "2022-03-22T02:27:58.300282Z"
    },
    "papermill": {
     "duration": 0.046162,
     "end_time": "2022-03-22T02:27:58.300813",
     "exception": false,
     "start_time": "2022-03-22T02:27:58.254651",
     "status": "completed"
    },
    "tags": []
   },
   "outputs": [],
   "source": [
    "#hide\n",
    "#Koreliacijų koeficientai"
   ]
  },
  {
   "cell_type": "code",
   "execution_count": 10,
   "id": "seeing-celebration",
   "metadata": {
    "execution": {
     "iopub.execute_input": "2022-03-22T02:27:58.331789Z",
     "iopub.status.busy": "2022-03-22T02:27:58.331284Z",
     "iopub.status.idle": "2022-03-22T02:27:58.355817Z",
     "shell.execute_reply": "2022-03-22T02:27:58.355392Z"
    },
    "papermill": {
     "duration": 0.040666,
     "end_time": "2022-03-22T02:27:58.355920",
     "exception": false,
     "start_time": "2022-03-22T02:27:58.315254",
     "status": "completed"
    },
    "tags": []
   },
   "outputs": [],
   "source": [
    "#hide_input\n",
    "#sum_corr = df_all_mrk.corr().sum().sort_values(ascending=True).index.values\n",
    "#df_all_mrk[sum_corr].corr()"
   ]
  },
  {
   "cell_type": "code",
   "execution_count": 11,
   "id": "other-painting",
   "metadata": {
    "execution": {
     "iopub.execute_input": "2022-03-22T02:27:58.395152Z",
     "iopub.status.busy": "2022-03-22T02:27:58.389800Z",
     "iopub.status.idle": "2022-03-22T02:27:58.414714Z",
     "shell.execute_reply": "2022-03-22T02:27:58.414253Z"
    },
    "papermill": {
     "duration": 0.041209,
     "end_time": "2022-03-22T02:27:58.414820",
     "exception": false,
     "start_time": "2022-03-22T02:27:58.373611",
     "status": "completed"
    },
    "tags": []
   },
   "outputs": [],
   "source": [
    "#hide\n",
    "#Koreliacijos matrica. "
   ]
  },
  {
   "cell_type": "code",
   "execution_count": 12,
   "id": "modular-magnitude",
   "metadata": {
    "execution": {
     "iopub.execute_input": "2022-03-22T02:27:58.445166Z",
     "iopub.status.busy": "2022-03-22T02:27:58.444670Z",
     "iopub.status.idle": "2022-03-22T02:27:58.468730Z",
     "shell.execute_reply": "2022-03-22T02:27:58.469124Z"
    },
    "papermill": {
     "duration": 0.04057,
     "end_time": "2022-03-22T02:27:58.469255",
     "exception": false,
     "start_time": "2022-03-22T02:27:58.428685",
     "status": "completed"
    },
    "tags": []
   },
   "outputs": [],
   "source": [
    "#hide_input\n",
    "#plt.figure(figsize=(15, 8))\n",
    "#sns.heatmap(df_all_mrk[sum_corr].corr(), annot=True, cmap=\"BrBG\");\n",
    "#plt.savefig('corr_matrix_all.eps', format='eps')"
   ]
  },
  {
   "cell_type": "code",
   "execution_count": null,
   "id": "original-senator",
   "metadata": {
    "papermill": {
     "duration": 0.013354,
     "end_time": "2022-03-22T02:27:58.496180",
     "exception": false,
     "start_time": "2022-03-22T02:27:58.482826",
     "status": "completed"
    },
    "tags": []
   },
   "outputs": [],
   "source": []
  },
  {
   "cell_type": "code",
   "execution_count": null,
   "id": "saving-secretariat",
   "metadata": {
    "papermill": {
     "duration": 0.013374,
     "end_time": "2022-03-22T02:27:58.522988",
     "exception": false,
     "start_time": "2022-03-22T02:27:58.509614",
     "status": "completed"
    },
    "tags": []
   },
   "outputs": [],
   "source": []
  }
 ],
 "metadata": {
  "kernelspec": {
   "display_name": "Python 3",
   "language": "python",
   "name": "python3"
  },
  "language_info": {
   "codemirror_mode": {
    "name": "ipython",
    "version": 3
   },
   "file_extension": ".py",
   "mimetype": "text/x-python",
   "name": "python",
   "nbconvert_exporter": "python",
   "pygments_lexer": "ipython3",
   "version": "3.6.15"
  },
  "papermill": {
   "default_parameters": {},
   "duration": 14.492585,
   "end_time": "2022-03-22T02:27:58.953019",
   "environment_variables": {},
   "exception": null,
   "input_path": "App-Correlation_charts.ipynb",
   "output_path": "App-Correlation_charts.ipynb",
   "parameters": {},
   "start_time": "2022-03-22T02:27:44.460434",
   "version": "2.2.2"
  }
 },
 "nbformat": 4,
 "nbformat_minor": 5
}