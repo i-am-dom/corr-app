{
 "cells": [
  {
   "cell_type": "markdown",
   "id": "touched-facility",
   "metadata": {
    "papermill": {
     "duration": 0.013302,
     "end_time": "2022-02-25T02:06:56.368626",
     "exception": false,
     "start_time": "2022-02-25T02:06:56.355324",
     "status": "completed"
    },
    "tags": []
   },
   "source": [
    "# Koreliacijų matrica\n",
    "> Išplėstinė koreliacijų matrica. \n",
    "\n",
    "- toc: true \n",
    "- badges: true\n",
    "- comments: false\n",
    "- categories: [Dominykas Tautkus]\n",
    "- image: images/matrix.png"
   ]
  },
  {
   "cell_type": "code",
   "execution_count": null,
   "id": "premium-weekend",
   "metadata": {
    "papermill": {
     "duration": 0.009537,
     "end_time": "2022-02-25T02:06:56.388284",
     "exception": false,
     "start_time": "2022-02-25T02:06:56.378747",
     "status": "completed"
    },
    "tags": []
   },
   "outputs": [],
   "source": []
  },
  {
   "cell_type": "code",
   "execution_count": 1,
   "id": "vertical-rebate",
   "metadata": {
    "execution": {
     "iopub.execute_input": "2022-02-25T02:06:56.417845Z",
     "iopub.status.busy": "2022-02-25T02:06:56.417373Z",
     "iopub.status.idle": "2022-02-25T02:06:56.428000Z",
     "shell.execute_reply": "2022-02-25T02:06:56.427619Z"
    },
    "papermill": {
     "duration": 0.030468,
     "end_time": "2022-02-25T02:06:56.428107",
     "exception": false,
     "start_time": "2022-02-25T02:06:56.397639",
     "status": "completed"
    },
    "tags": []
   },
   "outputs": [],
   "source": [
    "#hide\n",
    "%load_ext autoreload\n",
    "%autoreload 2"
   ]
  },
  {
   "cell_type": "code",
   "execution_count": 2,
   "id": "overall-advancement",
   "metadata": {
    "execution": {
     "iopub.execute_input": "2022-02-25T02:06:56.449736Z",
     "iopub.status.busy": "2022-02-25T02:06:56.449289Z",
     "iopub.status.idle": "2022-02-25T02:06:57.643522Z",
     "shell.execute_reply": "2022-02-25T02:06:57.644011Z"
    },
    "papermill": {
     "duration": 1.206795,
     "end_time": "2022-02-25T02:06:57.644190",
     "exception": false,
     "start_time": "2022-02-25T02:06:56.437395",
     "status": "completed"
    },
    "tags": []
   },
   "outputs": [],
   "source": [
    "#hide\n",
    "from scripts.read_data import read_api\n",
    "from IPython.display import HTML\n",
    "import plotly.graph_objects as go\n"
   ]
  },
  {
   "cell_type": "code",
   "execution_count": 3,
   "id": "light-crazy",
   "metadata": {
    "execution": {
     "iopub.execute_input": "2022-02-25T02:06:57.671336Z",
     "iopub.status.busy": "2022-02-25T02:06:57.670795Z",
     "iopub.status.idle": "2022-02-25T02:06:57.690534Z",
     "shell.execute_reply": "2022-02-25T02:06:57.690080Z"
    },
    "papermill": {
     "duration": 0.034944,
     "end_time": "2022-02-25T02:06:57.690648",
     "exception": false,
     "start_time": "2022-02-25T02:06:57.655704",
     "status": "completed"
    },
    "tags": []
   },
   "outputs": [],
   "source": [
    "#hide\n",
    "### ICO koreliacija"
   ]
  },
  {
   "cell_type": "code",
   "execution_count": 4,
   "id": "likely-bahrain",
   "metadata": {
    "execution": {
     "iopub.execute_input": "2022-02-25T02:06:57.720832Z",
     "iopub.status.busy": "2022-02-25T02:06:57.720274Z",
     "iopub.status.idle": "2022-02-25T02:06:58.558044Z",
     "shell.execute_reply": "2022-02-25T02:06:58.558527Z"
    },
    "papermill": {
     "duration": 0.857422,
     "end_time": "2022-02-25T02:06:58.558703",
     "exception": false,
     "start_time": "2022-02-25T02:06:57.701281",
     "status": "completed"
    },
    "tags": []
   },
   "outputs": [],
   "source": [
    "#hide\n",
    "import matplotlib.pyplot as plt\n",
    "import numpy as np\n",
    "import pandas as pd\n",
    "import seaborn as sns\n",
    "import matplotlib.pyplot as plt \n",
    "import matplotlib.dates as mdates\n",
    "import matplotlib.pyplot as plt"
   ]
  },
  {
   "cell_type": "code",
   "execution_count": 5,
   "id": "superior-blanket",
   "metadata": {
    "execution": {
     "iopub.execute_input": "2022-02-25T02:06:58.589213Z",
     "iopub.status.busy": "2022-02-25T02:06:58.588246Z",
     "iopub.status.idle": "2022-02-25T02:07:11.193225Z",
     "shell.execute_reply": "2022-02-25T02:07:11.192740Z"
    },
    "papermill": {
     "duration": 12.622821,
     "end_time": "2022-02-25T02:07:11.193346",
     "exception": false,
     "start_time": "2022-02-25T02:06:58.570525",
     "status": "completed"
    },
    "tags": []
   },
   "outputs": [
    {
     "name": "stderr",
     "output_type": "stream",
     "text": [
      "/home/runner/work/corr-app/corr-app/_notebooks/scripts/read_data.py:187: SettingWithCopyWarning:\n",
      "\n",
      "\n",
      "A value is trying to be set on a copy of a slice from a DataFrame.\n",
      "Try using .loc[row_indexer,col_indexer] = value instead\n",
      "\n",
      "See the caveats in the documentation: https://pandas.pydata.org/pandas-docs/stable/user_guide/indexing.html#returning-a-view-versus-a-copy\n",
      "\n"
     ]
    },
    {
     "name": "stderr",
     "output_type": "stream",
     "text": [
      "/home/runner/work/corr-app/corr-app/_notebooks/scripts/read_data.py:215: SettingWithCopyWarning:\n",
      "\n",
      "\n",
      "A value is trying to be set on a copy of a slice from a DataFrame.\n",
      "Try using .loc[row_indexer,col_indexer] = value instead\n",
      "\n",
      "See the caveats in the documentation: https://pandas.pydata.org/pandas-docs/stable/user_guide/indexing.html#returning-a-view-versus-a-copy\n",
      "\n"
     ]
    }
   ],
   "source": [
    "#hide\n",
    "df_all = read_api()\n",
    "#df_all = df_all.drop(['SP500', 'XAU', 'ETH', 'BTC'], axis=1)\n",
    "\n"
   ]
  },
  {
   "cell_type": "code",
   "execution_count": 6,
   "id": "mature-alert",
   "metadata": {
    "execution": {
     "iopub.execute_input": "2022-02-25T02:07:11.217373Z",
     "iopub.status.busy": "2022-02-25T02:07:11.216840Z",
     "iopub.status.idle": "2022-02-25T02:07:11.244618Z",
     "shell.execute_reply": "2022-02-25T02:07:11.243999Z"
    },
    "papermill": {
     "duration": 0.040947,
     "end_time": "2022-02-25T02:07:11.244744",
     "exception": false,
     "start_time": "2022-02-25T02:07:11.203797",
     "status": "completed"
    },
    "tags": []
   },
   "outputs": [],
   "source": [
    "#hide_input\n",
    "sum_corr = df_all.corr().sum().sort_values(ascending=True).index.values\n",
    "#df_all[sum_corr].corr()"
   ]
  },
  {
   "cell_type": "markdown",
   "id": "complex-syndicate",
   "metadata": {
    "papermill": {
     "duration": 0.011095,
     "end_time": "2022-02-25T02:07:11.267469",
     "exception": false,
     "start_time": "2022-02-25T02:07:11.256374",
     "status": "completed"
    },
    "tags": []
   },
   "source": [
    "## Išplėstinė koreliacijų matrica. "
   ]
  },
  {
   "cell_type": "code",
   "execution_count": 7,
   "id": "atomic-omaha",
   "metadata": {
    "execution": {
     "iopub.execute_input": "2022-02-25T02:07:11.295984Z",
     "iopub.status.busy": "2022-02-25T02:07:11.295410Z",
     "iopub.status.idle": "2022-02-25T02:07:12.497534Z",
     "shell.execute_reply": "2022-02-25T02:07:12.498018Z"
    },
    "papermill": {
     "duration": 1.219561,
     "end_time": "2022-02-25T02:07:12.498179",
     "exception": false,
     "start_time": "2022-02-25T02:07:11.278618",
     "status": "completed"
    },
    "tags": []
   },
   "outputs": [
    {
     "data": {
      "image/png": "[encoded data removed]",
      "text/plain": [
       "<Figure size 1080x792 with 2 Axes>"
      ]
     },
     "metadata": {
      "needs_background": "light"
     },
     "output_type": "display_data"
    }
   ],
   "source": [
    "#hide_input\n",
    "plt.figure(figsize=(15, 11))\n",
    "sns.heatmap(df_all[sum_corr].corr(), annot=True, cmap=\"cubehelix\") \n",
    "sns.set(font_scale=1.25)\n",
    "plt.savefig('corr_matrix.png', format='eps')"
   ]
  },
  {
   "cell_type": "code",
   "execution_count": 8,
   "id": "arbitrary-sullivan",
   "metadata": {
    "execution": {
     "iopub.execute_input": "2022-02-25T02:07:12.529286Z",
     "iopub.status.busy": "2022-02-25T02:07:12.528758Z",
     "iopub.status.idle": "2022-02-25T02:07:12.552696Z",
     "shell.execute_reply": "2022-02-25T02:07:12.552144Z"
    },
    "papermill": {
     "duration": 0.040872,
     "end_time": "2022-02-25T02:07:12.552835",
     "exception": false,
     "start_time": "2022-02-25T02:07:12.511963",
     "status": "completed"
    },
    "tags": []
   },
   "outputs": [],
   "source": [
    "#hide\n",
    "#df_all_mrk = read_api()"
   ]
  },
  {
   "cell_type": "code",
   "execution_count": 9,
   "id": "delayed-adapter",
   "metadata": {
    "execution": {
     "iopub.execute_input": "2022-02-25T02:07:12.583572Z",
     "iopub.status.busy": "2022-02-25T02:07:12.583108Z",
     "iopub.status.idle": "2022-02-25T02:07:12.608985Z",
     "shell.execute_reply": "2022-02-25T02:07:12.608465Z"
    },
    "papermill": {
     "duration": 0.042112,
     "end_time": "2022-02-25T02:07:12.609125",
     "exception": false,
     "start_time": "2022-02-25T02:07:12.567013",
     "status": "completed"
    },
    "tags": []
   },
   "outputs": [],
   "source": [
    "#hide\n",
    "#Koreliacijų koeficientai"
   ]
  },
  {
   "cell_type": "code",
   "execution_count": 10,
   "id": "seeing-celebration",
   "metadata": {
    "execution": {
     "iopub.execute_input": "2022-02-25T02:07:12.641816Z",
     "iopub.status.busy": "2022-02-25T02:07:12.641325Z",
     "iopub.status.idle": "2022-02-25T02:07:12.663920Z",
     "shell.execute_reply": "2022-02-25T02:07:12.664303Z"
    },
    "papermill": {
     "duration": 0.04188,
     "end_time": "2022-02-25T02:07:12.664439",
     "exception": false,
     "start_time": "2022-02-25T02:07:12.622559",
     "status": "completed"
    },
    "tags": []
   },
   "outputs": [],
   "source": [
    "#hide_input\n",
    "#sum_corr = df_all_mrk.corr().sum().sort_values(ascending=True).index.values\n",
    "#df_all_mrk[sum_corr].corr()"
   ]
  },
  {
   "cell_type": "code",
   "execution_count": 11,
   "id": "other-painting",
   "metadata": {
    "execution": {
     "iopub.execute_input": "2022-02-25T02:07:12.693083Z",
     "iopub.status.busy": "2022-02-25T02:07:12.692608Z",
     "iopub.status.idle": "2022-02-25T02:07:12.715717Z",
     "shell.execute_reply": "2022-02-25T02:07:12.716184Z"
    },
    "papermill": {
     "duration": 0.039652,
     "end_time": "2022-02-25T02:07:12.716353",
     "exception": false,
     "start_time": "2022-02-25T02:07:12.676701",
     "status": "completed"
    },
    "tags": []
   },
   "outputs": [],
   "source": [
    "#hide\n",
    "#Koreliacijos matrica. "
   ]
  },
  {
   "cell_type": "code",
   "execution_count": 12,
   "id": "modular-magnitude",
   "metadata": {
    "execution": {
     "iopub.execute_input": "2022-02-25T02:07:12.744670Z",
     "iopub.status.busy": "2022-02-25T02:07:12.744168Z",
     "iopub.status.idle": "2022-02-25T02:07:12.771125Z",
     "shell.execute_reply": "2022-02-25T02:07:12.770633Z"
    },
    "papermill": {
     "duration": 0.041245,
     "end_time": "2022-02-25T02:07:12.771259",
     "exception": false,
     "start_time": "2022-02-25T02:07:12.730014",
     "status": "completed"
    },
    "tags": []
   },
   "outputs": [],
   "source": [
    "#hide_input\n",
    "#plt.figure(figsize=(15, 8))\n",
    "#sns.heatmap(df_all_mrk[sum_corr].corr(), annot=True, cmap=\"BrBG\");\n",
    "#plt.savefig('corr_matrix_all.eps', format='eps')"
   ]
  },
  {
   "cell_type": "code",
   "execution_count": null,
   "id": "original-senator",
   "metadata": {
    "papermill": {
     "duration": 0.01153,
     "end_time": "2022-02-25T02:07:12.795025",
     "exception": false,
     "start_time": "2022-02-25T02:07:12.783495",
     "status": "completed"
    },
    "tags": []
   },
   "outputs": [],
   "source": []
  },
  {
   "cell_type": "code",
   "execution_count": null,
   "id": "saving-secretariat",
   "metadata": {
    "papermill": {
     "duration": 0.011599,
     "end_time": "2022-02-25T02:07:12.818186",
     "exception": false,
     "start_time": "2022-02-25T02:07:12.806587",
     "status": "completed"
    },
    "tags": []
   },
   "outputs": [],
   "source": []
  }
 ],
 "metadata": {
  "kernelspec": {
   "display_name": "Python 3",
   "language": "python",
   "name": "python3"
  },
  "language_info": {
   "codemirror_mode": {
    "name": "ipython",
    "version": 3
   },
   "file_extension": ".py",
   "mimetype": "text/x-python",
   "name": "python",
   "nbconvert_exporter": "python",
   "pygments_lexer": "ipython3",
   "version": "3.6.15"
  },
  "papermill": {
   "default_parameters": {},
   "duration": 17.900739,
   "end_time": "2022-02-25T02:07:13.348405",
   "environment_variables": {},
   "exception": null,
   "input_path": "App-Correlation_charts.ipynb",
   "output_path": "App-Correlation_charts.ipynb",
   "parameters": {},
   "start_time": "2022-02-25T02:06:55.447666",
   "version": "2.2.2"
  }
 },
 "nbformat": 4,
 "nbformat_minor": 5
}