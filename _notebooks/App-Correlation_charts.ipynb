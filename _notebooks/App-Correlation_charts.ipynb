{
 "cells": [
  {
   "cell_type": "markdown",
   "id": "touched-facility",
   "metadata": {
    "papermill": {
     "duration": 0.015788,
     "end_time": "2021-11-25T01:58:56.897986",
     "exception": false,
     "start_time": "2021-11-25T01:58:56.882198",
     "status": "completed"
    },
    "tags": []
   },
   "source": [
    "# Koreliacijų matrica\n",
    "> Išplėstinė koreliacijų matrica. \n",
    "\n",
    "- toc: true \n",
    "- badges: true\n",
    "- comments: false\n",
    "- categories: [Dominykas Tautkus]\n",
    "- image: images/matrix.png"
   ]
  },
  {
   "cell_type": "code",
   "execution_count": null,
   "id": "premium-weekend",
   "metadata": {
    "papermill": {
     "duration": 0.011079,
     "end_time": "2021-11-25T01:58:56.921001",
     "exception": false,
     "start_time": "2021-11-25T01:58:56.909922",
     "status": "completed"
    },
    "tags": []
   },
   "outputs": [],
   "source": []
  },
  {
   "cell_type": "code",
   "execution_count": 1,
   "id": "vertical-rebate",
   "metadata": {
    "execution": {
     "iopub.execute_input": "2021-11-25T01:58:56.954563Z",
     "iopub.status.busy": "2021-11-25T01:58:56.954012Z",
     "iopub.status.idle": "2021-11-25T01:58:56.965031Z",
     "shell.execute_reply": "2021-11-25T01:58:56.964531Z"
    },
    "papermill": {
     "duration": 0.033144,
     "end_time": "2021-11-25T01:58:56.965168",
     "exception": false,
     "start_time": "2021-11-25T01:58:56.932024",
     "status": "completed"
    },
    "tags": []
   },
   "outputs": [],
   "source": [
    "#hide\n",
    "%load_ext autoreload\n",
    "%autoreload 2"
   ]
  },
  {
   "cell_type": "code",
   "execution_count": 2,
   "id": "overall-advancement",
   "metadata": {
    "execution": {
     "iopub.execute_input": "2021-11-25T01:58:57.002636Z",
     "iopub.status.busy": "2021-11-25T01:58:56.999783Z",
     "iopub.status.idle": "2021-11-25T01:58:58.275446Z",
     "shell.execute_reply": "2021-11-25T01:58:58.274450Z"
    },
    "papermill": {
     "duration": 1.299217,
     "end_time": "2021-11-25T01:58:58.275591",
     "exception": false,
     "start_time": "2021-11-25T01:58:56.976374",
     "status": "completed"
    },
    "tags": []
   },
   "outputs": [],
   "source": [
    "#hide\n",
    "from scripts.read_data import read_api\n",
    "from IPython.display import HTML\n",
    "import plotly.graph_objects as go\n"
   ]
  },
  {
   "cell_type": "code",
   "execution_count": 3,
   "id": "light-crazy",
   "metadata": {
    "execution": {
     "iopub.execute_input": "2021-11-25T01:58:58.306416Z",
     "iopub.status.busy": "2021-11-25T01:58:58.304350Z",
     "iopub.status.idle": "2021-11-25T01:58:58.327299Z",
     "shell.execute_reply": "2021-11-25T01:58:58.326787Z"
    },
    "papermill": {
     "duration": 0.040155,
     "end_time": "2021-11-25T01:58:58.327437",
     "exception": false,
     "start_time": "2021-11-25T01:58:58.287282",
     "status": "completed"
    },
    "tags": []
   },
   "outputs": [],
   "source": [
    "#hide\n",
    "### ICO koreliacija"
   ]
  },
  {
   "cell_type": "code",
   "execution_count": 4,
   "id": "likely-bahrain",
   "metadata": {
    "execution": {
     "iopub.execute_input": "2021-11-25T01:58:58.364955Z",
     "iopub.status.busy": "2021-11-25T01:58:58.361120Z",
     "iopub.status.idle": "2021-11-25T01:58:59.252014Z",
     "shell.execute_reply": "2021-11-25T01:58:59.251484Z"
    },
    "papermill": {
     "duration": 0.913634,
     "end_time": "2021-11-25T01:58:59.252153",
     "exception": false,
     "start_time": "2021-11-25T01:58:58.338519",
     "status": "completed"
    },
    "tags": []
   },
   "outputs": [],
   "source": [
    "#hide\n",
    "import matplotlib.pyplot as plt\n",
    "import numpy as np\n",
    "import pandas as pd\n",
    "import seaborn as sns\n",
    "import matplotlib.pyplot as plt \n",
    "import matplotlib.dates as mdates\n",
    "import matplotlib.pyplot as plt"
   ]
  },
  {
   "cell_type": "code",
   "execution_count": 5,
   "id": "superior-blanket",
   "metadata": {
    "execution": {
     "iopub.execute_input": "2021-11-25T01:58:59.279283Z",
     "iopub.status.busy": "2021-11-25T01:58:59.278750Z",
     "iopub.status.idle": "2021-11-25T01:59:12.941702Z",
     "shell.execute_reply": "2021-11-25T01:59:12.941195Z"
    },
    "papermill": {
     "duration": 13.678128,
     "end_time": "2021-11-25T01:59:12.941827",
     "exception": false,
     "start_time": "2021-11-25T01:58:59.263699",
     "status": "completed"
    },
    "tags": []
   },
   "outputs": [
    {
     "name": "stderr",
     "output_type": "stream",
     "text": [
      "/home/runner/work/corr-app/corr-app/_notebooks/scripts/read_data.py:187: SettingWithCopyWarning:\n",
      "\n",
      "\n",
      "A value is trying to be set on a copy of a slice from a DataFrame.\n",
      "Try using .loc[row_indexer,col_indexer] = value instead\n",
      "\n",
      "See the caveats in the documentation: https://pandas.pydata.org/pandas-docs/stable/user_guide/indexing.html#returning-a-view-versus-a-copy\n",
      "\n"
     ]
    },
    {
     "name": "stderr",
     "output_type": "stream",
     "text": [
      "/home/runner/work/corr-app/corr-app/_notebooks/scripts/read_data.py:215: SettingWithCopyWarning:\n",
      "\n",
      "\n",
      "A value is trying to be set on a copy of a slice from a DataFrame.\n",
      "Try using .loc[row_indexer,col_indexer] = value instead\n",
      "\n",
      "See the caveats in the documentation: https://pandas.pydata.org/pandas-docs/stable/user_guide/indexing.html#returning-a-view-versus-a-copy\n",
      "\n"
     ]
    }
   ],
   "source": [
    "#hide\n",
    "df_all = read_api()\n",
    "#df_all = df_all.drop(['SP500', 'XAU', 'ETH', 'BTC'], axis=1)\n",
    "\n"
   ]
  },
  {
   "cell_type": "code",
   "execution_count": 6,
   "id": "mature-alert",
   "metadata": {
    "execution": {
     "iopub.execute_input": "2021-11-25T01:59:12.982199Z",
     "iopub.status.busy": "2021-11-25T01:59:12.981140Z",
     "iopub.status.idle": "2021-11-25T01:59:13.005349Z",
     "shell.execute_reply": "2021-11-25T01:59:13.004850Z"
    },
    "papermill": {
     "duration": 0.051639,
     "end_time": "2021-11-25T01:59:13.005492",
     "exception": false,
     "start_time": "2021-11-25T01:59:12.953853",
     "status": "completed"
    },
    "tags": []
   },
   "outputs": [],
   "source": [
    "#hide_input\n",
    "sum_corr = df_all.corr().sum().sort_values(ascending=True).index.values\n",
    "#df_all[sum_corr].corr()"
   ]
  },
  {
   "cell_type": "markdown",
   "id": "complex-syndicate",
   "metadata": {
    "papermill": {
     "duration": 0.011359,
     "end_time": "2021-11-25T01:59:13.028954",
     "exception": false,
     "start_time": "2021-11-25T01:59:13.017595",
     "status": "completed"
    },
    "tags": []
   },
   "source": [
    "## Išplėstinė koreliacijų matrica. "
   ]
  },
  {
   "cell_type": "code",
   "execution_count": 7,
   "id": "atomic-omaha",
   "metadata": {
    "execution": {
     "iopub.execute_input": "2021-11-25T01:59:13.069070Z",
     "iopub.status.busy": "2021-11-25T01:59:13.055125Z",
     "iopub.status.idle": "2021-11-25T01:59:14.322630Z",
     "shell.execute_reply": "2021-11-25T01:59:14.323048Z"
    },
    "papermill": {
     "duration": 1.282989,
     "end_time": "2021-11-25T01:59:14.323192",
     "exception": false,
     "start_time": "2021-11-25T01:59:13.040203",
     "status": "completed"
    },
    "tags": []
   },
   "outputs": [
    {
     "data": {
      "image/png": "[encoded data removed]",
      "text/plain": [
       "<Figure size 1080x792 with 2 Axes>"
      ]
     },
     "metadata": {
      "needs_background": "light"
     },
     "output_type": "display_data"
    }
   ],
   "source": [
    "#hide_input\n",
    "plt.figure(figsize=(15, 11))\n",
    "sns.heatmap(df_all[sum_corr].corr(), annot=True, cmap=\"cubehelix\") \n",
    "sns.set(font_scale=1.25)\n",
    "plt.savefig('corr_matrix.png', format='eps')"
   ]
  },
  {
   "cell_type": "code",
   "execution_count": 8,
   "id": "arbitrary-sullivan",
   "metadata": {
    "execution": {
     "iopub.execute_input": "2021-11-25T01:59:14.357647Z",
     "iopub.status.busy": "2021-11-25T01:59:14.357043Z",
     "iopub.status.idle": "2021-11-25T01:59:14.381246Z",
     "shell.execute_reply": "2021-11-25T01:59:14.380700Z"
    },
    "papermill": {
     "duration": 0.044417,
     "end_time": "2021-11-25T01:59:14.381392",
     "exception": false,
     "start_time": "2021-11-25T01:59:14.336975",
     "status": "completed"
    },
    "tags": []
   },
   "outputs": [],
   "source": [
    "#hide\n",
    "#df_all_mrk = read_api()"
   ]
  },
  {
   "cell_type": "code",
   "execution_count": 9,
   "id": "delayed-adapter",
   "metadata": {
    "execution": {
     "iopub.execute_input": "2021-11-25T01:59:14.421571Z",
     "iopub.status.busy": "2021-11-25T01:59:14.419408Z",
     "iopub.status.idle": "2021-11-25T01:59:14.444096Z",
     "shell.execute_reply": "2021-11-25T01:59:14.443574Z"
    },
    "papermill": {
     "duration": 0.047942,
     "end_time": "2021-11-25T01:59:14.444239",
     "exception": false,
     "start_time": "2021-11-25T01:59:14.396297",
     "status": "completed"
    },
    "tags": []
   },
   "outputs": [],
   "source": [
    "#hide\n",
    "#Koreliacijų koeficientai"
   ]
  },
  {
   "cell_type": "code",
   "execution_count": 10,
   "id": "seeing-celebration",
   "metadata": {
    "execution": {
     "iopub.execute_input": "2021-11-25T01:59:14.483638Z",
     "iopub.status.busy": "2021-11-25T01:59:14.483114Z",
     "iopub.status.idle": "2021-11-25T01:59:14.505113Z",
     "shell.execute_reply": "2021-11-25T01:59:14.504619Z"
    },
    "papermill": {
     "duration": 0.046299,
     "end_time": "2021-11-25T01:59:14.505245",
     "exception": false,
     "start_time": "2021-11-25T01:59:14.458946",
     "status": "completed"
    },
    "tags": []
   },
   "outputs": [],
   "source": [
    "#hide_input\n",
    "#sum_corr = df_all_mrk.corr().sum().sort_values(ascending=True).index.values\n",
    "#df_all_mrk[sum_corr].corr()"
   ]
  },
  {
   "cell_type": "code",
   "execution_count": 11,
   "id": "other-painting",
   "metadata": {
    "execution": {
     "iopub.execute_input": "2021-11-25T01:59:14.545476Z",
     "iopub.status.busy": "2021-11-25T01:59:14.544969Z",
     "iopub.status.idle": "2021-11-25T01:59:14.565122Z",
     "shell.execute_reply": "2021-11-25T01:59:14.564644Z"
    },
    "papermill": {
     "duration": 0.045726,
     "end_time": "2021-11-25T01:59:14.565241",
     "exception": false,
     "start_time": "2021-11-25T01:59:14.519515",
     "status": "completed"
    },
    "tags": []
   },
   "outputs": [],
   "source": [
    "#hide\n",
    "#Koreliacijos matrica. "
   ]
  },
  {
   "cell_type": "code",
   "execution_count": 12,
   "id": "modular-magnitude",
   "metadata": {
    "execution": {
     "iopub.execute_input": "2021-11-25T01:59:14.601455Z",
     "iopub.status.busy": "2021-11-25T01:59:14.600949Z",
     "iopub.status.idle": "2021-11-25T01:59:14.623487Z",
     "shell.execute_reply": "2021-11-25T01:59:14.623076Z"
    },
    "papermill": {
     "duration": 0.044093,
     "end_time": "2021-11-25T01:59:14.623598",
     "exception": false,
     "start_time": "2021-11-25T01:59:14.579505",
     "status": "completed"
    },
    "tags": []
   },
   "outputs": [],
   "source": [
    "#hide_input\n",
    "#plt.figure(figsize=(15, 8))\n",
    "#sns.heatmap(df_all_mrk[sum_corr].corr(), annot=True, cmap=\"BrBG\");\n",
    "#plt.savefig('corr_matrix_all.eps', format='eps')"
   ]
  },
  {
   "cell_type": "code",
   "execution_count": null,
   "id": "original-senator",
   "metadata": {
    "papermill": {
     "duration": 0.013137,
     "end_time": "2021-11-25T01:59:14.650064",
     "exception": false,
     "start_time": "2021-11-25T01:59:14.636927",
     "status": "completed"
    },
    "tags": []
   },
   "outputs": [],
   "source": []
  },
  {
   "cell_type": "code",
   "execution_count": null,
   "id": "saving-secretariat",
   "metadata": {
    "papermill": {
     "duration": 0.014055,
     "end_time": "2021-11-25T01:59:14.677259",
     "exception": false,
     "start_time": "2021-11-25T01:59:14.663204",
     "status": "completed"
    },
    "tags": []
   },
   "outputs": [],
   "source": []
  }
 ],
 "metadata": {
  "kernelspec": {
   "display_name": "Python 3",
   "language": "python",
   "name": "python3"
  },
  "language_info": {
   "codemirror_mode": {
    "name": "ipython",
    "version": 3
   },
   "file_extension": ".py",
   "mimetype": "text/x-python",
   "name": "python",
   "nbconvert_exporter": "python",
   "pygments_lexer": "ipython3",
   "version": "3.6.15"
  },
  "papermill": {
   "default_parameters": {},
   "duration": 19.469491,
   "end_time": "2021-11-25T01:59:15.299178",
   "environment_variables": {},
   "exception": null,
   "input_path": "App-Correlation_charts.ipynb",
   "output_path": "App-Correlation_charts.ipynb",
   "parameters": {},
   "start_time": "2021-11-25T01:58:55.829687",
   "version": "2.2.2"
  }
 },
 "nbformat": 4,
 "nbformat_minor": 5
}