{
 "cells": [
  {
   "cell_type": "markdown",
   "id": "touched-facility",
   "metadata": {
    "papermill": {
     "duration": 0.020392,
     "end_time": "2021-07-25T01:58:17.151183",
     "exception": false,
     "start_time": "2021-07-25T01:58:17.130791",
     "status": "completed"
    },
    "tags": []
   },
   "source": [
    "# Koreliacijų matrica\n",
    "> Išplėstinė koreliacijų matrica. \n",
    "\n",
    "- toc: true \n",
    "- badges: true\n",
    "- comments: false\n",
    "- categories: [Dominykas Tautkus]\n",
    "- image: images/matrix.png"
   ]
  },
  {
   "cell_type": "code",
   "execution_count": null,
   "id": "premium-weekend",
   "metadata": {
    "papermill": {
     "duration": 0.014287,
     "end_time": "2021-07-25T01:58:17.183072",
     "exception": false,
     "start_time": "2021-07-25T01:58:17.168785",
     "status": "completed"
    },
    "tags": []
   },
   "outputs": [],
   "source": []
  },
  {
   "cell_type": "code",
   "execution_count": 1,
   "id": "vertical-rebate",
   "metadata": {
    "execution": {
     "iopub.execute_input": "2021-07-25T01:58:17.226426Z",
     "iopub.status.busy": "2021-07-25T01:58:17.224732Z",
     "iopub.status.idle": "2021-07-25T01:58:17.244315Z",
     "shell.execute_reply": "2021-07-25T01:58:17.243624Z"
    },
    "papermill": {
     "duration": 0.046824,
     "end_time": "2021-07-25T01:58:17.244461",
     "exception": false,
     "start_time": "2021-07-25T01:58:17.197637",
     "status": "completed"
    },
    "tags": []
   },
   "outputs": [],
   "source": [
    "#hide\n",
    "%load_ext autoreload\n",
    "%autoreload 2"
   ]
  },
  {
   "cell_type": "code",
   "execution_count": 2,
   "id": "overall-advancement",
   "metadata": {
    "execution": {
     "iopub.execute_input": "2021-07-25T01:58:17.275577Z",
     "iopub.status.busy": "2021-07-25T01:58:17.274925Z",
     "iopub.status.idle": "2021-07-25T01:58:18.927892Z",
     "shell.execute_reply": "2021-07-25T01:58:18.927343Z"
    },
    "papermill": {
     "duration": 1.669338,
     "end_time": "2021-07-25T01:58:18.928118",
     "exception": false,
     "start_time": "2021-07-25T01:58:17.258780",
     "status": "completed"
    },
    "tags": []
   },
   "outputs": [],
   "source": [
    "#hide\n",
    "from scripts.read_data import read_api\n",
    "from IPython.display import HTML\n",
    "import plotly.graph_objects as go\n"
   ]
  },
  {
   "cell_type": "code",
   "execution_count": 3,
   "id": "light-crazy",
   "metadata": {
    "execution": {
     "iopub.execute_input": "2021-07-25T01:58:18.960773Z",
     "iopub.status.busy": "2021-07-25T01:58:18.960135Z",
     "iopub.status.idle": "2021-07-25T01:58:18.986840Z",
     "shell.execute_reply": "2021-07-25T01:58:18.986344Z"
    },
    "papermill": {
     "duration": 0.045556,
     "end_time": "2021-07-25T01:58:18.986961",
     "exception": false,
     "start_time": "2021-07-25T01:58:18.941405",
     "status": "completed"
    },
    "tags": []
   },
   "outputs": [],
   "source": [
    "#hide\n",
    "### ICO koreliacija"
   ]
  },
  {
   "cell_type": "code",
   "execution_count": 4,
   "id": "likely-bahrain",
   "metadata": {
    "execution": {
     "iopub.execute_input": "2021-07-25T01:58:19.076418Z",
     "iopub.status.busy": "2021-07-25T01:58:19.075546Z",
     "iopub.status.idle": "2021-07-25T01:58:20.125381Z",
     "shell.execute_reply": "2021-07-25T01:58:20.124270Z"
    },
    "papermill": {
     "duration": 1.125102,
     "end_time": "2021-07-25T01:58:20.125531",
     "exception": false,
     "start_time": "2021-07-25T01:58:19.000429",
     "status": "completed"
    },
    "tags": []
   },
   "outputs": [],
   "source": [
    "#hide\n",
    "import matplotlib.pyplot as plt\n",
    "import numpy as np\n",
    "import pandas as pd\n",
    "import seaborn as sns\n",
    "import matplotlib.pyplot as plt \n",
    "import matplotlib.dates as mdates\n",
    "import matplotlib.pyplot as plt"
   ]
  },
  {
   "cell_type": "code",
   "execution_count": 5,
   "id": "superior-blanket",
   "metadata": {
    "execution": {
     "iopub.execute_input": "2021-07-25T01:58:20.159196Z",
     "iopub.status.busy": "2021-07-25T01:58:20.157515Z",
     "iopub.status.idle": "2021-07-25T01:58:32.350194Z",
     "shell.execute_reply": "2021-07-25T01:58:32.350996Z"
    },
    "papermill": {
     "duration": 12.210864,
     "end_time": "2021-07-25T01:58:32.351157",
     "exception": false,
     "start_time": "2021-07-25T01:58:20.140293",
     "status": "completed"
    },
    "tags": []
   },
   "outputs": [
    {
     "name": "stderr",
     "output_type": "stream",
     "text": [
      "/home/runner/work/corr-app/corr-app/_notebooks/scripts/read_data.py:187: SettingWithCopyWarning:\n",
      "\n",
      "\n",
      "A value is trying to be set on a copy of a slice from a DataFrame.\n",
      "Try using .loc[row_indexer,col_indexer] = value instead\n",
      "\n",
      "See the caveats in the documentation: https://pandas.pydata.org/pandas-docs/stable/user_guide/indexing.html#returning-a-view-versus-a-copy\n",
      "\n"
     ]
    },
    {
     "name": "stderr",
     "output_type": "stream",
     "text": [
      "/home/runner/work/corr-app/corr-app/_notebooks/scripts/read_data.py:215: SettingWithCopyWarning:\n",
      "\n",
      "\n",
      "A value is trying to be set on a copy of a slice from a DataFrame.\n",
      "Try using .loc[row_indexer,col_indexer] = value instead\n",
      "\n",
      "See the caveats in the documentation: https://pandas.pydata.org/pandas-docs/stable/user_guide/indexing.html#returning-a-view-versus-a-copy\n",
      "\n"
     ]
    }
   ],
   "source": [
    "#hide\n",
    "df_all = read_api()\n",
    "#df_all = df_all.drop(['SP500', 'XAU', 'ETH', 'BTC'], axis=1)\n",
    "\n"
   ]
  },
  {
   "cell_type": "code",
   "execution_count": 6,
   "id": "mature-alert",
   "metadata": {
    "execution": {
     "iopub.execute_input": "2021-07-25T01:58:32.386280Z",
     "iopub.status.busy": "2021-07-25T01:58:32.385675Z",
     "iopub.status.idle": "2021-07-25T01:58:32.420064Z",
     "shell.execute_reply": "2021-07-25T01:58:32.420895Z"
    },
    "papermill": {
     "duration": 0.053732,
     "end_time": "2021-07-25T01:58:32.421109",
     "exception": false,
     "start_time": "2021-07-25T01:58:32.367377",
     "status": "completed"
    },
    "tags": []
   },
   "outputs": [],
   "source": [
    "#hide_input\n",
    "sum_corr = df_all.corr().sum().sort_values(ascending=True).index.values\n",
    "#df_all[sum_corr].corr()"
   ]
  },
  {
   "cell_type": "markdown",
   "id": "complex-syndicate",
   "metadata": {
    "papermill": {
     "duration": 0.015217,
     "end_time": "2021-07-25T01:58:32.450929",
     "exception": false,
     "start_time": "2021-07-25T01:58:32.435712",
     "status": "completed"
    },
    "tags": []
   },
   "source": [
    "## Išplėstinė koreliacijų matrica. "
   ]
  },
  {
   "cell_type": "code",
   "execution_count": 7,
   "id": "atomic-omaha",
   "metadata": {
    "execution": {
     "iopub.execute_input": "2021-07-25T01:58:32.496920Z",
     "iopub.status.busy": "2021-07-25T01:58:32.496227Z",
     "iopub.status.idle": "2021-07-25T01:58:34.275909Z",
     "shell.execute_reply": "2021-07-25T01:58:34.276403Z"
    },
    "papermill": {
     "duration": 1.804225,
     "end_time": "2021-07-25T01:58:34.276559",
     "exception": false,
     "start_time": "2021-07-25T01:58:32.472334",
     "status": "completed"
    },
    "tags": []
   },
   "outputs": [
    {
     "data": {
      "image/png": "[encoded data removed]",
      "text/plain": [
       "<Figure size 1080x792 with 2 Axes>"
      ]
     },
     "metadata": {
      "needs_background": "light"
     },
     "output_type": "display_data"
    }
   ],
   "source": [
    "#hide_input\n",
    "plt.figure(figsize=(15, 11))\n",
    "sns.heatmap(df_all[sum_corr].corr(), annot=True, cmap=\"cubehelix\") \n",
    "sns.set(font_scale=1.25)\n",
    "plt.savefig('corr_matrix.png', format='eps')"
   ]
  },
  {
   "cell_type": "code",
   "execution_count": 8,
   "id": "arbitrary-sullivan",
   "metadata": {
    "execution": {
     "iopub.execute_input": "2021-07-25T01:58:34.314854Z",
     "iopub.status.busy": "2021-07-25T01:58:34.314218Z",
     "iopub.status.idle": "2021-07-25T01:58:34.345717Z",
     "shell.execute_reply": "2021-07-25T01:58:34.346173Z"
    },
    "papermill": {
     "duration": 0.051512,
     "end_time": "2021-07-25T01:58:34.346326",
     "exception": false,
     "start_time": "2021-07-25T01:58:34.294814",
     "status": "completed"
    },
    "tags": []
   },
   "outputs": [],
   "source": [
    "#hide\n",
    "#df_all_mrk = read_api()"
   ]
  },
  {
   "cell_type": "code",
   "execution_count": 9,
   "id": "delayed-adapter",
   "metadata": {
    "execution": {
     "iopub.execute_input": "2021-07-25T01:58:34.387340Z",
     "iopub.status.busy": "2021-07-25T01:58:34.386556Z",
     "iopub.status.idle": "2021-07-25T01:58:34.417960Z",
     "shell.execute_reply": "2021-07-25T01:58:34.417465Z"
    },
    "papermill": {
     "duration": 0.052348,
     "end_time": "2021-07-25T01:58:34.418084",
     "exception": false,
     "start_time": "2021-07-25T01:58:34.365736",
     "status": "completed"
    },
    "tags": []
   },
   "outputs": [],
   "source": [
    "#hide\n",
    "#Koreliacijų koeficientai"
   ]
  },
  {
   "cell_type": "code",
   "execution_count": 10,
   "id": "seeing-celebration",
   "metadata": {
    "execution": {
     "iopub.execute_input": "2021-07-25T01:58:34.455439Z",
     "iopub.status.busy": "2021-07-25T01:58:34.454738Z",
     "iopub.status.idle": "2021-07-25T01:58:34.484490Z",
     "shell.execute_reply": "2021-07-25T01:58:34.485044Z"
    },
    "papermill": {
     "duration": 0.049709,
     "end_time": "2021-07-25T01:58:34.485191",
     "exception": false,
     "start_time": "2021-07-25T01:58:34.435482",
     "status": "completed"
    },
    "tags": []
   },
   "outputs": [],
   "source": [
    "#hide_input\n",
    "#sum_corr = df_all_mrk.corr().sum().sort_values(ascending=True).index.values\n",
    "#df_all_mrk[sum_corr].corr()"
   ]
  },
  {
   "cell_type": "code",
   "execution_count": 11,
   "id": "other-painting",
   "metadata": {
    "execution": {
     "iopub.execute_input": "2021-07-25T01:58:34.527154Z",
     "iopub.status.busy": "2021-07-25T01:58:34.526522Z",
     "iopub.status.idle": "2021-07-25T01:58:34.558808Z",
     "shell.execute_reply": "2021-07-25T01:58:34.558217Z"
    },
    "papermill": {
     "duration": 0.056407,
     "end_time": "2021-07-25T01:58:34.558938",
     "exception": false,
     "start_time": "2021-07-25T01:58:34.502531",
     "status": "completed"
    },
    "tags": []
   },
   "outputs": [],
   "source": [
    "#hide\n",
    "#Koreliacijos matrica. "
   ]
  },
  {
   "cell_type": "code",
   "execution_count": 12,
   "id": "modular-magnitude",
   "metadata": {
    "execution": {
     "iopub.execute_input": "2021-07-25T01:58:34.597471Z",
     "iopub.status.busy": "2021-07-25T01:58:34.596830Z",
     "iopub.status.idle": "2021-07-25T01:58:34.628258Z",
     "shell.execute_reply": "2021-07-25T01:58:34.627660Z"
    },
    "papermill": {
     "duration": 0.052256,
     "end_time": "2021-07-25T01:58:34.628440",
     "exception": false,
     "start_time": "2021-07-25T01:58:34.576184",
     "status": "completed"
    },
    "tags": []
   },
   "outputs": [],
   "source": [
    "#hide_input\n",
    "#plt.figure(figsize=(15, 8))\n",
    "#sns.heatmap(df_all_mrk[sum_corr].corr(), annot=True, cmap=\"BrBG\");\n",
    "#plt.savefig('corr_matrix_all.eps', format='eps')"
   ]
  },
  {
   "cell_type": "code",
   "execution_count": null,
   "id": "original-senator",
   "metadata": {
    "papermill": {
     "duration": 0.015872,
     "end_time": "2021-07-25T01:58:34.660899",
     "exception": false,
     "start_time": "2021-07-25T01:58:34.645027",
     "status": "completed"
    },
    "tags": []
   },
   "outputs": [],
   "source": []
  },
  {
   "cell_type": "code",
   "execution_count": null,
   "id": "saving-secretariat",
   "metadata": {
    "papermill": {
     "duration": 0.01569,
     "end_time": "2021-07-25T01:58:34.692636",
     "exception": false,
     "start_time": "2021-07-25T01:58:34.676946",
     "status": "completed"
    },
    "tags": []
   },
   "outputs": [],
   "source": []
  }
 ],
 "metadata": {
  "kernelspec": {
   "display_name": "Python 3",
   "language": "python",
   "name": "python3"
  },
  "language_info": {
   "codemirror_mode": {
    "name": "ipython",
    "version": 3
   },
   "file_extension": ".py",
   "mimetype": "text/x-python",
   "name": "python",
   "nbconvert_exporter": "python",
   "pygments_lexer": "ipython3",
   "version": "3.6.14"
  },
  "papermill": {
   "default_parameters": {},
   "duration": 20.371108,
   "end_time": "2021-07-25T01:58:36.118909",
   "environment_variables": {},
   "exception": null,
   "input_path": "App-Correlation_charts.ipynb",
   "output_path": "App-Correlation_charts.ipynb",
   "parameters": {},
   "start_time": "2021-07-25T01:58:15.747801",
   "version": "2.2.2"
  }
 },
 "nbformat": 4,
 "nbformat_minor": 5
}