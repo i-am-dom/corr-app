{
 "cells": [
  {
   "cell_type": "markdown",
   "id": "touched-facility",
   "metadata": {
    "papermill": {
     "duration": 0.018405,
     "end_time": "2021-07-29T02:00:02.509782",
     "exception": false,
     "start_time": "2021-07-29T02:00:02.491377",
     "status": "completed"
    },
    "tags": []
   },
   "source": [
    "# Koreliacijų matrica\n",
    "> Išplėstinė koreliacijų matrica. \n",
    "\n",
    "- toc: true \n",
    "- badges: true\n",
    "- comments: false\n",
    "- categories: [Dominykas Tautkus]\n",
    "- image: images/matrix.png"
   ]
  },
  {
   "cell_type": "code",
   "execution_count": null,
   "id": "premium-weekend",
   "metadata": {
    "papermill": {
     "duration": 0.013993,
     "end_time": "2021-07-29T02:00:02.538772",
     "exception": false,
     "start_time": "2021-07-29T02:00:02.524779",
     "status": "completed"
    },
    "tags": []
   },
   "outputs": [],
   "source": []
  },
  {
   "cell_type": "code",
   "execution_count": 1,
   "id": "vertical-rebate",
   "metadata": {
    "execution": {
     "iopub.execute_input": "2021-07-29T02:00:02.579321Z",
     "iopub.status.busy": "2021-07-29T02:00:02.578532Z",
     "iopub.status.idle": "2021-07-29T02:00:02.589818Z",
     "shell.execute_reply": "2021-07-29T02:00:02.589129Z"
    },
    "papermill": {
     "duration": 0.036634,
     "end_time": "2021-07-29T02:00:02.589967",
     "exception": false,
     "start_time": "2021-07-29T02:00:02.553333",
     "status": "completed"
    },
    "tags": []
   },
   "outputs": [],
   "source": [
    "#hide\n",
    "%load_ext autoreload\n",
    "%autoreload 2"
   ]
  },
  {
   "cell_type": "code",
   "execution_count": 2,
   "id": "overall-advancement",
   "metadata": {
    "execution": {
     "iopub.execute_input": "2021-07-29T02:00:02.626533Z",
     "iopub.status.busy": "2021-07-29T02:00:02.625734Z",
     "iopub.status.idle": "2021-07-29T02:00:03.941811Z",
     "shell.execute_reply": "2021-07-29T02:00:03.941148Z"
    },
    "papermill": {
     "duration": 1.337429,
     "end_time": "2021-07-29T02:00:03.941967",
     "exception": false,
     "start_time": "2021-07-29T02:00:02.604538",
     "status": "completed"
    },
    "tags": []
   },
   "outputs": [],
   "source": [
    "#hide\n",
    "from scripts.read_data import read_api\n",
    "from IPython.display import HTML\n",
    "import plotly.graph_objects as go\n"
   ]
  },
  {
   "cell_type": "code",
   "execution_count": 3,
   "id": "light-crazy",
   "metadata": {
    "execution": {
     "iopub.execute_input": "2021-07-29T02:00:03.975811Z",
     "iopub.status.busy": "2021-07-29T02:00:03.975080Z",
     "iopub.status.idle": "2021-07-29T02:00:03.999031Z",
     "shell.execute_reply": "2021-07-29T02:00:03.998213Z"
    },
    "papermill": {
     "duration": 0.043181,
     "end_time": "2021-07-29T02:00:03.999167",
     "exception": false,
     "start_time": "2021-07-29T02:00:03.955986",
     "status": "completed"
    },
    "tags": []
   },
   "outputs": [],
   "source": [
    "#hide\n",
    "### ICO koreliacija"
   ]
  },
  {
   "cell_type": "code",
   "execution_count": 4,
   "id": "likely-bahrain",
   "metadata": {
    "execution": {
     "iopub.execute_input": "2021-07-29T02:00:04.095892Z",
     "iopub.status.busy": "2021-07-29T02:00:04.095263Z",
     "iopub.status.idle": "2021-07-29T02:00:05.017168Z",
     "shell.execute_reply": "2021-07-29T02:00:05.016091Z"
    },
    "papermill": {
     "duration": 1.001733,
     "end_time": "2021-07-29T02:00:05.017316",
     "exception": false,
     "start_time": "2021-07-29T02:00:04.015583",
     "status": "completed"
    },
    "tags": []
   },
   "outputs": [],
   "source": [
    "#hide\n",
    "import matplotlib.pyplot as plt\n",
    "import numpy as np\n",
    "import pandas as pd\n",
    "import seaborn as sns\n",
    "import matplotlib.pyplot as plt \n",
    "import matplotlib.dates as mdates\n",
    "import matplotlib.pyplot as plt"
   ]
  },
  {
   "cell_type": "code",
   "execution_count": 5,
   "id": "superior-blanket",
   "metadata": {
    "execution": {
     "iopub.execute_input": "2021-07-29T02:00:05.154273Z",
     "iopub.status.busy": "2021-07-29T02:00:05.153630Z",
     "iopub.status.idle": "2021-07-29T02:00:19.353443Z",
     "shell.execute_reply": "2021-07-29T02:00:19.352904Z"
    },
    "papermill": {
     "duration": 14.323665,
     "end_time": "2021-07-29T02:00:19.353577",
     "exception": false,
     "start_time": "2021-07-29T02:00:05.029912",
     "status": "completed"
    },
    "tags": []
   },
   "outputs": [
    {
     "name": "stderr",
     "output_type": "stream",
     "text": [
      "/home/runner/work/corr-app/corr-app/_notebooks/scripts/read_data.py:187: SettingWithCopyWarning:\n",
      "\n",
      "\n",
      "A value is trying to be set on a copy of a slice from a DataFrame.\n",
      "Try using .loc[row_indexer,col_indexer] = value instead\n",
      "\n",
      "See the caveats in the documentation: https://pandas.pydata.org/pandas-docs/stable/user_guide/indexing.html#returning-a-view-versus-a-copy\n",
      "\n"
     ]
    },
    {
     "name": "stderr",
     "output_type": "stream",
     "text": [
      "/home/runner/work/corr-app/corr-app/_notebooks/scripts/read_data.py:215: SettingWithCopyWarning:\n",
      "\n",
      "\n",
      "A value is trying to be set on a copy of a slice from a DataFrame.\n",
      "Try using .loc[row_indexer,col_indexer] = value instead\n",
      "\n",
      "See the caveats in the documentation: https://pandas.pydata.org/pandas-docs/stable/user_guide/indexing.html#returning-a-view-versus-a-copy\n",
      "\n"
     ]
    }
   ],
   "source": [
    "#hide\n",
    "df_all = read_api()\n",
    "#df_all = df_all.drop(['SP500', 'XAU', 'ETH', 'BTC'], axis=1)\n",
    "\n"
   ]
  },
  {
   "cell_type": "code",
   "execution_count": 6,
   "id": "mature-alert",
   "metadata": {
    "execution": {
     "iopub.execute_input": "2021-07-29T02:00:19.387132Z",
     "iopub.status.busy": "2021-07-29T02:00:19.383422Z",
     "iopub.status.idle": "2021-07-29T02:00:19.418302Z",
     "shell.execute_reply": "2021-07-29T02:00:19.417447Z"
    },
    "papermill": {
     "duration": 0.05135,
     "end_time": "2021-07-29T02:00:19.418517",
     "exception": false,
     "start_time": "2021-07-29T02:00:19.367167",
     "status": "completed"
    },
    "tags": []
   },
   "outputs": [],
   "source": [
    "#hide_input\n",
    "sum_corr = df_all.corr().sum().sort_values(ascending=True).index.values\n",
    "#df_all[sum_corr].corr()"
   ]
  },
  {
   "cell_type": "markdown",
   "id": "complex-syndicate",
   "metadata": {
    "papermill": {
     "duration": 0.01272,
     "end_time": "2021-07-29T02:00:19.447114",
     "exception": false,
     "start_time": "2021-07-29T02:00:19.434394",
     "status": "completed"
    },
    "tags": []
   },
   "source": [
    "## Išplėstinė koreliacijų matrica. "
   ]
  },
  {
   "cell_type": "code",
   "execution_count": 7,
   "id": "atomic-omaha",
   "metadata": {
    "execution": {
     "iopub.execute_input": "2021-07-29T02:00:19.476800Z",
     "iopub.status.busy": "2021-07-29T02:00:19.476222Z",
     "iopub.status.idle": "2021-07-29T02:00:20.825086Z",
     "shell.execute_reply": "2021-07-29T02:00:20.824567Z"
    },
    "papermill": {
     "duration": 1.365485,
     "end_time": "2021-07-29T02:00:20.825217",
     "exception": false,
     "start_time": "2021-07-29T02:00:19.459732",
     "status": "completed"
    },
    "tags": []
   },
   "outputs": [
    {
     "data": {
      "image/png": "[encoded data removed]",
      "text/plain": [
       "<Figure size 1080x792 with 2 Axes>"
      ]
     },
     "metadata": {
      "needs_background": "light"
     },
     "output_type": "display_data"
    }
   ],
   "source": [
    "#hide_input\n",
    "plt.figure(figsize=(15, 11))\n",
    "sns.heatmap(df_all[sum_corr].corr(), annot=True, cmap=\"cubehelix\") \n",
    "sns.set(font_scale=1.25)\n",
    "plt.savefig('corr_matrix.png', format='eps')"
   ]
  },
  {
   "cell_type": "code",
   "execution_count": 8,
   "id": "arbitrary-sullivan",
   "metadata": {
    "execution": {
     "iopub.execute_input": "2021-07-29T02:00:20.859755Z",
     "iopub.status.busy": "2021-07-29T02:00:20.859180Z",
     "iopub.status.idle": "2021-07-29T02:00:20.889603Z",
     "shell.execute_reply": "2021-07-29T02:00:20.888729Z"
    },
    "papermill": {
     "duration": 0.049203,
     "end_time": "2021-07-29T02:00:20.889804",
     "exception": false,
     "start_time": "2021-07-29T02:00:20.840601",
     "status": "completed"
    },
    "tags": []
   },
   "outputs": [],
   "source": [
    "#hide\n",
    "#df_all_mrk = read_api()"
   ]
  },
  {
   "cell_type": "code",
   "execution_count": 9,
   "id": "delayed-adapter",
   "metadata": {
    "execution": {
     "iopub.execute_input": "2021-07-29T02:00:20.927377Z",
     "iopub.status.busy": "2021-07-29T02:00:20.926804Z",
     "iopub.status.idle": "2021-07-29T02:00:20.953073Z",
     "shell.execute_reply": "2021-07-29T02:00:20.953681Z"
    },
    "papermill": {
     "duration": 0.046511,
     "end_time": "2021-07-29T02:00:20.953859",
     "exception": false,
     "start_time": "2021-07-29T02:00:20.907348",
     "status": "completed"
    },
    "tags": []
   },
   "outputs": [],
   "source": [
    "#hide\n",
    "#Koreliacijų koeficientai"
   ]
  },
  {
   "cell_type": "code",
   "execution_count": 10,
   "id": "seeing-celebration",
   "metadata": {
    "execution": {
     "iopub.execute_input": "2021-07-29T02:00:20.987682Z",
     "iopub.status.busy": "2021-07-29T02:00:20.987101Z",
     "iopub.status.idle": "2021-07-29T02:00:21.015241Z",
     "shell.execute_reply": "2021-07-29T02:00:21.015709Z"
    },
    "papermill": {
     "duration": 0.046343,
     "end_time": "2021-07-29T02:00:21.015846",
     "exception": false,
     "start_time": "2021-07-29T02:00:20.969503",
     "status": "completed"
    },
    "tags": []
   },
   "outputs": [],
   "source": [
    "#hide_input\n",
    "#sum_corr = df_all_mrk.corr().sum().sort_values(ascending=True).index.values\n",
    "#df_all_mrk[sum_corr].corr()"
   ]
  },
  {
   "cell_type": "code",
   "execution_count": 11,
   "id": "other-painting",
   "metadata": {
    "execution": {
     "iopub.execute_input": "2021-07-29T02:00:21.049419Z",
     "iopub.status.busy": "2021-07-29T02:00:21.048853Z",
     "iopub.status.idle": "2021-07-29T02:00:21.075939Z",
     "shell.execute_reply": "2021-07-29T02:00:21.076555Z"
    },
    "papermill": {
     "duration": 0.046043,
     "end_time": "2021-07-29T02:00:21.076743",
     "exception": false,
     "start_time": "2021-07-29T02:00:21.030700",
     "status": "completed"
    },
    "tags": []
   },
   "outputs": [],
   "source": [
    "#hide\n",
    "#Koreliacijos matrica. "
   ]
  },
  {
   "cell_type": "code",
   "execution_count": 12,
   "id": "modular-magnitude",
   "metadata": {
    "execution": {
     "iopub.execute_input": "2021-07-29T02:00:21.112559Z",
     "iopub.status.busy": "2021-07-29T02:00:21.111991Z",
     "iopub.status.idle": "2021-07-29T02:00:21.141210Z",
     "shell.execute_reply": "2021-07-29T02:00:21.140406Z"
    },
    "papermill": {
     "duration": 0.049057,
     "end_time": "2021-07-29T02:00:21.141411",
     "exception": false,
     "start_time": "2021-07-29T02:00:21.092354",
     "status": "completed"
    },
    "tags": []
   },
   "outputs": [],
   "source": [
    "#hide_input\n",
    "#plt.figure(figsize=(15, 8))\n",
    "#sns.heatmap(df_all_mrk[sum_corr].corr(), annot=True, cmap=\"BrBG\");\n",
    "#plt.savefig('corr_matrix_all.eps', format='eps')"
   ]
  },
  {
   "cell_type": "code",
   "execution_count": null,
   "id": "original-senator",
   "metadata": {
    "papermill": {
     "duration": 0.014824,
     "end_time": "2021-07-29T02:00:21.174436",
     "exception": false,
     "start_time": "2021-07-29T02:00:21.159612",
     "status": "completed"
    },
    "tags": []
   },
   "outputs": [],
   "source": []
  },
  {
   "cell_type": "code",
   "execution_count": null,
   "id": "saving-secretariat",
   "metadata": {
    "papermill": {
     "duration": 0.014896,
     "end_time": "2021-07-29T02:00:21.204196",
     "exception": false,
     "start_time": "2021-07-29T02:00:21.189300",
     "status": "completed"
    },
    "tags": []
   },
   "outputs": [],
   "source": []
  }
 ],
 "metadata": {
  "kernelspec": {
   "display_name": "Python 3",
   "language": "python",
   "name": "python3"
  },
  "language_info": {
   "codemirror_mode": {
    "name": "ipython",
    "version": 3
   },
   "file_extension": ".py",
   "mimetype": "text/x-python",
   "name": "python",
   "nbconvert_exporter": "python",
   "pygments_lexer": "ipython3",
   "version": "3.6.14"
  },
  "papermill": {
   "default_parameters": {},
   "duration": 20.313,
   "end_time": "2021-07-29T02:00:21.729425",
   "environment_variables": {},
   "exception": null,
   "input_path": "App-Correlation_charts.ipynb",
   "output_path": "App-Correlation_charts.ipynb",
   "parameters": {},
   "start_time": "2021-07-29T02:00:01.416425",
   "version": "2.2.2"
  }
 },
 "nbformat": 4,
 "nbformat_minor": 5
}