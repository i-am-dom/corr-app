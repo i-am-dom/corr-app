{
 "cells": [
  {
   "cell_type": "markdown",
   "id": "touched-facility",
   "metadata": {
    "papermill": {
     "duration": 0.015983,
     "end_time": "2022-02-16T02:06:47.836576",
     "exception": false,
     "start_time": "2022-02-16T02:06:47.820593",
     "status": "completed"
    },
    "tags": []
   },
   "source": [
    "# Koreliacijų matrica\n",
    "> Išplėstinė koreliacijų matrica. \n",
    "\n",
    "- toc: true \n",
    "- badges: true\n",
    "- comments: false\n",
    "- categories: [Dominykas Tautkus]\n",
    "- image: images/matrix.png"
   ]
  },
  {
   "cell_type": "code",
   "execution_count": null,
   "id": "premium-weekend",
   "metadata": {
    "papermill": {
     "duration": 0.012709,
     "end_time": "2022-02-16T02:06:47.861762",
     "exception": false,
     "start_time": "2022-02-16T02:06:47.849053",
     "status": "completed"
    },
    "tags": []
   },
   "outputs": [],
   "source": []
  },
  {
   "cell_type": "code",
   "execution_count": 1,
   "id": "vertical-rebate",
   "metadata": {
    "execution": {
     "iopub.execute_input": "2022-02-16T02:06:47.896517Z",
     "iopub.status.busy": "2022-02-16T02:06:47.895707Z",
     "iopub.status.idle": "2022-02-16T02:06:47.905911Z",
     "shell.execute_reply": "2022-02-16T02:06:47.906489Z"
    },
    "papermill": {
     "duration": 0.032339,
     "end_time": "2022-02-16T02:06:47.906667",
     "exception": false,
     "start_time": "2022-02-16T02:06:47.874328",
     "status": "completed"
    },
    "tags": []
   },
   "outputs": [],
   "source": [
    "#hide\n",
    "%load_ext autoreload\n",
    "%autoreload 2"
   ]
  },
  {
   "cell_type": "code",
   "execution_count": 2,
   "id": "overall-advancement",
   "metadata": {
    "execution": {
     "iopub.execute_input": "2022-02-16T02:06:47.933923Z",
     "iopub.status.busy": "2022-02-16T02:06:47.933299Z",
     "iopub.status.idle": "2022-02-16T02:06:49.200522Z",
     "shell.execute_reply": "2022-02-16T02:06:49.199912Z"
    },
    "papermill": {
     "duration": 1.282302,
     "end_time": "2022-02-16T02:06:49.200678",
     "exception": false,
     "start_time": "2022-02-16T02:06:47.918376",
     "status": "completed"
    },
    "tags": []
   },
   "outputs": [],
   "source": [
    "#hide\n",
    "from scripts.read_data import read_api\n",
    "from IPython.display import HTML\n",
    "import plotly.graph_objects as go\n"
   ]
  },
  {
   "cell_type": "code",
   "execution_count": 3,
   "id": "light-crazy",
   "metadata": {
    "execution": {
     "iopub.execute_input": "2022-02-16T02:06:49.233541Z",
     "iopub.status.busy": "2022-02-16T02:06:49.232694Z",
     "iopub.status.idle": "2022-02-16T02:06:49.258973Z",
     "shell.execute_reply": "2022-02-16T02:06:49.259394Z"
    },
    "papermill": {
     "duration": 0.046045,
     "end_time": "2022-02-16T02:06:49.259533",
     "exception": false,
     "start_time": "2022-02-16T02:06:49.213488",
     "status": "completed"
    },
    "tags": []
   },
   "outputs": [],
   "source": [
    "#hide\n",
    "### ICO koreliacija"
   ]
  },
  {
   "cell_type": "code",
   "execution_count": 4,
   "id": "likely-bahrain",
   "metadata": {
    "execution": {
     "iopub.execute_input": "2022-02-16T02:06:49.297103Z",
     "iopub.status.busy": "2022-02-16T02:06:49.296501Z",
     "iopub.status.idle": "2022-02-16T02:06:50.225426Z",
     "shell.execute_reply": "2022-02-16T02:06:50.224844Z"
    },
    "papermill": {
     "duration": 0.949209,
     "end_time": "2022-02-16T02:06:50.225604",
     "exception": false,
     "start_time": "2022-02-16T02:06:49.276395",
     "status": "completed"
    },
    "tags": []
   },
   "outputs": [],
   "source": [
    "#hide\n",
    "import matplotlib.pyplot as plt\n",
    "import numpy as np\n",
    "import pandas as pd\n",
    "import seaborn as sns\n",
    "import matplotlib.pyplot as plt \n",
    "import matplotlib.dates as mdates\n",
    "import matplotlib.pyplot as plt"
   ]
  },
  {
   "cell_type": "code",
   "execution_count": 5,
   "id": "superior-blanket",
   "metadata": {
    "execution": {
     "iopub.execute_input": "2022-02-16T02:06:50.257595Z",
     "iopub.status.busy": "2022-02-16T02:06:50.256337Z",
     "iopub.status.idle": "2022-02-16T02:07:01.412576Z",
     "shell.execute_reply": "2022-02-16T02:07:01.411959Z"
    },
    "papermill": {
     "duration": 11.174555,
     "end_time": "2022-02-16T02:07:01.412732",
     "exception": false,
     "start_time": "2022-02-16T02:06:50.238177",
     "status": "completed"
    },
    "tags": []
   },
   "outputs": [
    {
     "name": "stderr",
     "output_type": "stream",
     "text": [
      "/home/runner/work/corr-app/corr-app/_notebooks/scripts/read_data.py:187: SettingWithCopyWarning:\n",
      "\n",
      "\n",
      "A value is trying to be set on a copy of a slice from a DataFrame.\n",
      "Try using .loc[row_indexer,col_indexer] = value instead\n",
      "\n",
      "See the caveats in the documentation: https://pandas.pydata.org/pandas-docs/stable/user_guide/indexing.html#returning-a-view-versus-a-copy\n",
      "\n"
     ]
    },
    {
     "name": "stderr",
     "output_type": "stream",
     "text": [
      "/home/runner/work/corr-app/corr-app/_notebooks/scripts/read_data.py:215: SettingWithCopyWarning:\n",
      "\n",
      "\n",
      "A value is trying to be set on a copy of a slice from a DataFrame.\n",
      "Try using .loc[row_indexer,col_indexer] = value instead\n",
      "\n",
      "See the caveats in the documentation: https://pandas.pydata.org/pandas-docs/stable/user_guide/indexing.html#returning-a-view-versus-a-copy\n",
      "\n"
     ]
    }
   ],
   "source": [
    "#hide\n",
    "df_all = read_api()\n",
    "#df_all = df_all.drop(['SP500', 'XAU', 'ETH', 'BTC'], axis=1)\n",
    "\n"
   ]
  },
  {
   "cell_type": "code",
   "execution_count": 6,
   "id": "mature-alert",
   "metadata": {
    "execution": {
     "iopub.execute_input": "2022-02-16T02:07:01.457884Z",
     "iopub.status.busy": "2022-02-16T02:07:01.453412Z",
     "iopub.status.idle": "2022-02-16T02:07:01.480610Z",
     "shell.execute_reply": "2022-02-16T02:07:01.481088Z"
    },
    "papermill": {
     "duration": 0.054235,
     "end_time": "2022-02-16T02:07:01.481220",
     "exception": false,
     "start_time": "2022-02-16T02:07:01.426985",
     "status": "completed"
    },
    "tags": []
   },
   "outputs": [],
   "source": [
    "#hide_input\n",
    "sum_corr = df_all.corr().sum().sort_values(ascending=True).index.values\n",
    "#df_all[sum_corr].corr()"
   ]
  },
  {
   "cell_type": "markdown",
   "id": "complex-syndicate",
   "metadata": {
    "papermill": {
     "duration": 0.013843,
     "end_time": "2022-02-16T02:07:01.507595",
     "exception": false,
     "start_time": "2022-02-16T02:07:01.493752",
     "status": "completed"
    },
    "tags": []
   },
   "source": [
    "## Išplėstinė koreliacijų matrica. "
   ]
  },
  {
   "cell_type": "code",
   "execution_count": 7,
   "id": "atomic-omaha",
   "metadata": {
    "execution": {
     "iopub.execute_input": "2022-02-16T02:07:01.545176Z",
     "iopub.status.busy": "2022-02-16T02:07:01.541154Z",
     "iopub.status.idle": "2022-02-16T02:07:03.223408Z",
     "shell.execute_reply": "2022-02-16T02:07:03.223900Z"
    },
    "papermill": {
     "duration": 1.703137,
     "end_time": "2022-02-16T02:07:03.224084",
     "exception": false,
     "start_time": "2022-02-16T02:07:01.520947",
     "status": "completed"
    },
    "tags": []
   },
   "outputs": [
    {
     "data": {
      "image/png": "[encoded data removed]",
      "text/plain": [
       "<Figure size 1080x792 with 2 Axes>"
      ]
     },
     "metadata": {
      "needs_background": "light"
     },
     "output_type": "display_data"
    }
   ],
   "source": [
    "#hide_input\n",
    "plt.figure(figsize=(15, 11))\n",
    "sns.heatmap(df_all[sum_corr].corr(), annot=True, cmap=\"cubehelix\") \n",
    "sns.set(font_scale=1.25)\n",
    "plt.savefig('corr_matrix.png', format='eps')"
   ]
  },
  {
   "cell_type": "code",
   "execution_count": 8,
   "id": "arbitrary-sullivan",
   "metadata": {
    "execution": {
     "iopub.execute_input": "2022-02-16T02:07:03.255052Z",
     "iopub.status.busy": "2022-02-16T02:07:03.254506Z",
     "iopub.status.idle": "2022-02-16T02:07:03.280112Z",
     "shell.execute_reply": "2022-02-16T02:07:03.279662Z"
    },
    "papermill": {
     "duration": 0.042478,
     "end_time": "2022-02-16T02:07:03.280210",
     "exception": false,
     "start_time": "2022-02-16T02:07:03.237732",
     "status": "completed"
    },
    "tags": []
   },
   "outputs": [],
   "source": [
    "#hide\n",
    "#df_all_mrk = read_api()"
   ]
  },
  {
   "cell_type": "code",
   "execution_count": 9,
   "id": "delayed-adapter",
   "metadata": {
    "execution": {
     "iopub.execute_input": "2022-02-16T02:07:03.309445Z",
     "iopub.status.busy": "2022-02-16T02:07:03.308842Z",
     "iopub.status.idle": "2022-02-16T02:07:03.331041Z",
     "shell.execute_reply": "2022-02-16T02:07:03.331459Z"
    },
    "papermill": {
     "duration": 0.038136,
     "end_time": "2022-02-16T02:07:03.331572",
     "exception": false,
     "start_time": "2022-02-16T02:07:03.293436",
     "status": "completed"
    },
    "tags": []
   },
   "outputs": [],
   "source": [
    "#hide\n",
    "#Koreliacijų koeficientai"
   ]
  },
  {
   "cell_type": "code",
   "execution_count": 10,
   "id": "seeing-celebration",
   "metadata": {
    "execution": {
     "iopub.execute_input": "2022-02-16T02:07:03.365531Z",
     "iopub.status.busy": "2022-02-16T02:07:03.364073Z",
     "iopub.status.idle": "2022-02-16T02:07:03.387491Z",
     "shell.execute_reply": "2022-02-16T02:07:03.387074Z"
    },
    "papermill": {
     "duration": 0.041154,
     "end_time": "2022-02-16T02:07:03.387592",
     "exception": false,
     "start_time": "2022-02-16T02:07:03.346438",
     "status": "completed"
    },
    "tags": []
   },
   "outputs": [],
   "source": [
    "#hide_input\n",
    "#sum_corr = df_all_mrk.corr().sum().sort_values(ascending=True).index.values\n",
    "#df_all_mrk[sum_corr].corr()"
   ]
  },
  {
   "cell_type": "code",
   "execution_count": 11,
   "id": "other-painting",
   "metadata": {
    "execution": {
     "iopub.execute_input": "2022-02-16T02:07:03.420807Z",
     "iopub.status.busy": "2022-02-16T02:07:03.420226Z",
     "iopub.status.idle": "2022-02-16T02:07:03.444984Z",
     "shell.execute_reply": "2022-02-16T02:07:03.445509Z"
    },
    "papermill": {
     "duration": 0.044269,
     "end_time": "2022-02-16T02:07:03.445713",
     "exception": false,
     "start_time": "2022-02-16T02:07:03.401444",
     "status": "completed"
    },
    "tags": []
   },
   "outputs": [],
   "source": [
    "#hide\n",
    "#Koreliacijos matrica. "
   ]
  },
  {
   "cell_type": "code",
   "execution_count": 12,
   "id": "modular-magnitude",
   "metadata": {
    "execution": {
     "iopub.execute_input": "2022-02-16T02:07:03.476062Z",
     "iopub.status.busy": "2022-02-16T02:07:03.475150Z",
     "iopub.status.idle": "2022-02-16T02:07:03.499314Z",
     "shell.execute_reply": "2022-02-16T02:07:03.499809Z"
    },
    "papermill": {
     "duration": 0.040775,
     "end_time": "2022-02-16T02:07:03.499920",
     "exception": false,
     "start_time": "2022-02-16T02:07:03.459145",
     "status": "completed"
    },
    "tags": []
   },
   "outputs": [],
   "source": [
    "#hide_input\n",
    "#plt.figure(figsize=(15, 8))\n",
    "#sns.heatmap(df_all_mrk[sum_corr].corr(), annot=True, cmap=\"BrBG\");\n",
    "#plt.savefig('corr_matrix_all.eps', format='eps')"
   ]
  },
  {
   "cell_type": "code",
   "execution_count": null,
   "id": "original-senator",
   "metadata": {
    "papermill": {
     "duration": 0.015346,
     "end_time": "2022-02-16T02:07:03.528675",
     "exception": false,
     "start_time": "2022-02-16T02:07:03.513329",
     "status": "completed"
    },
    "tags": []
   },
   "outputs": [],
   "source": []
  },
  {
   "cell_type": "code",
   "execution_count": null,
   "id": "saving-secretariat",
   "metadata": {
    "papermill": {
     "duration": 0.014282,
     "end_time": "2022-02-16T02:07:03.557043",
     "exception": false,
     "start_time": "2022-02-16T02:07:03.542761",
     "status": "completed"
    },
    "tags": []
   },
   "outputs": [],
   "source": []
  }
 ],
 "metadata": {
  "kernelspec": {
   "display_name": "Python 3",
   "language": "python",
   "name": "python3"
  },
  "language_info": {
   "codemirror_mode": {
    "name": "ipython",
    "version": 3
   },
   "file_extension": ".py",
   "mimetype": "text/x-python",
   "name": "python",
   "nbconvert_exporter": "python",
   "pygments_lexer": "ipython3",
   "version": "3.6.15"
  },
  "papermill": {
   "default_parameters": {},
   "duration": 17.426108,
   "end_time": "2022-02-16T02:07:03.989073",
   "environment_variables": {},
   "exception": null,
   "input_path": "App-Correlation_charts.ipynb",
   "output_path": "App-Correlation_charts.ipynb",
   "parameters": {},
   "start_time": "2022-02-16T02:06:46.562965",
   "version": "2.2.2"
  }
 },
 "nbformat": 4,
 "nbformat_minor": 5
}