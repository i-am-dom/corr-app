{
 "cells": [
  {
   "cell_type": "markdown",
   "id": "touched-facility",
   "metadata": {
    "papermill": {
     "duration": 0.020362,
     "end_time": "2022-05-30T03:09:32.074625",
     "exception": false,
     "start_time": "2022-05-30T03:09:32.054263",
     "status": "completed"
    },
    "tags": []
   },
   "source": [
    "# Koreliacijų matrica\n",
    "> Išplėstinė koreliacijų matrica. \n",
    "\n",
    "- toc: true \n",
    "- badges: true\n",
    "- comments: false\n",
    "- categories: [Dominykas Tautkus]\n",
    "- image: images/matrix.png"
   ]
  },
  {
   "cell_type": "code",
   "execution_count": null,
   "id": "premium-weekend",
   "metadata": {
    "papermill": {
     "duration": 0.014969,
     "end_time": "2022-05-30T03:09:32.106385",
     "exception": false,
     "start_time": "2022-05-30T03:09:32.091416",
     "status": "completed"
    },
    "tags": []
   },
   "outputs": [],
   "source": []
  },
  {
   "cell_type": "code",
   "execution_count": 1,
   "id": "vertical-rebate",
   "metadata": {
    "execution": {
     "iopub.execute_input": "2022-05-30T03:09:32.151198Z",
     "iopub.status.busy": "2022-05-30T03:09:32.150283Z",
     "iopub.status.idle": "2022-05-30T03:09:32.165359Z",
     "shell.execute_reply": "2022-05-30T03:09:32.164717Z"
    },
    "papermill": {
     "duration": 0.043825,
     "end_time": "2022-05-30T03:09:32.165554",
     "exception": false,
     "start_time": "2022-05-30T03:09:32.121729",
     "status": "completed"
    },
    "tags": []
   },
   "outputs": [],
   "source": [
    "#hide\n",
    "%load_ext autoreload\n",
    "%autoreload 2"
   ]
  },
  {
   "cell_type": "code",
   "execution_count": 2,
   "id": "overall-advancement",
   "metadata": {
    "execution": {
     "iopub.execute_input": "2022-05-30T03:09:32.207641Z",
     "iopub.status.busy": "2022-05-30T03:09:32.206803Z",
     "iopub.status.idle": "2022-05-30T03:09:33.952937Z",
     "shell.execute_reply": "2022-05-30T03:09:33.952163Z"
    },
    "papermill": {
     "duration": 1.771516,
     "end_time": "2022-05-30T03:09:33.953190",
     "exception": false,
     "start_time": "2022-05-30T03:09:32.181674",
     "status": "completed"
    },
    "tags": []
   },
   "outputs": [],
   "source": [
    "#hide\n",
    "from scripts.read_data import read_api\n",
    "from IPython.display import HTML\n",
    "import plotly.graph_objects as go\n"
   ]
  },
  {
   "cell_type": "code",
   "execution_count": 3,
   "id": "light-crazy",
   "metadata": {
    "execution": {
     "iopub.execute_input": "2022-05-30T03:09:33.993944Z",
     "iopub.status.busy": "2022-05-30T03:09:33.990890Z",
     "iopub.status.idle": "2022-05-30T03:09:34.021606Z",
     "shell.execute_reply": "2022-05-30T03:09:34.020829Z"
    },
    "papermill": {
     "duration": 0.053038,
     "end_time": "2022-05-30T03:09:34.021750",
     "exception": false,
     "start_time": "2022-05-30T03:09:33.968712",
     "status": "completed"
    },
    "tags": []
   },
   "outputs": [],
   "source": [
    "#hide\n",
    "### ICO koreliacija"
   ]
  },
  {
   "cell_type": "code",
   "execution_count": 4,
   "id": "likely-bahrain",
   "metadata": {
    "execution": {
     "iopub.execute_input": "2022-05-30T03:09:34.059613Z",
     "iopub.status.busy": "2022-05-30T03:09:34.058829Z",
     "iopub.status.idle": "2022-05-30T03:09:35.232467Z",
     "shell.execute_reply": "2022-05-30T03:09:35.233094Z"
    },
    "papermill": {
     "duration": 1.196592,
     "end_time": "2022-05-30T03:09:35.233286",
     "exception": false,
     "start_time": "2022-05-30T03:09:34.036694",
     "status": "completed"
    },
    "tags": []
   },
   "outputs": [],
   "source": [
    "#hide\n",
    "import matplotlib.pyplot as plt\n",
    "import numpy as np\n",
    "import pandas as pd\n",
    "import seaborn as sns\n",
    "import matplotlib.pyplot as plt \n",
    "import matplotlib.dates as mdates\n",
    "import matplotlib.pyplot as plt"
   ]
  },
  {
   "cell_type": "code",
   "execution_count": 5,
   "id": "superior-blanket",
   "metadata": {
    "execution": {
     "iopub.execute_input": "2022-05-30T03:09:35.268700Z",
     "iopub.status.busy": "2022-05-30T03:09:35.267944Z",
     "iopub.status.idle": "2022-05-30T03:09:49.382561Z",
     "shell.execute_reply": "2022-05-30T03:09:49.383294Z"
    },
    "papermill": {
     "duration": 14.135346,
     "end_time": "2022-05-30T03:09:49.383524",
     "exception": false,
     "start_time": "2022-05-30T03:09:35.248178",
     "status": "completed"
    },
    "tags": []
   },
   "outputs": [
    {
     "name": "stderr",
     "output_type": "stream",
     "text": [
      "/home/runner/work/corr-app/corr-app/_notebooks/scripts/read_data.py:187: SettingWithCopyWarning:\n",
      "\n",
      "\n",
      "A value is trying to be set on a copy of a slice from a DataFrame.\n",
      "Try using .loc[row_indexer,col_indexer] = value instead\n",
      "\n",
      "See the caveats in the documentation: https://pandas.pydata.org/pandas-docs/stable/user_guide/indexing.html#returning-a-view-versus-a-copy\n",
      "\n"
     ]
    },
    {
     "name": "stderr",
     "output_type": "stream",
     "text": [
      "/home/runner/work/corr-app/corr-app/_notebooks/scripts/read_data.py:215: SettingWithCopyWarning:\n",
      "\n",
      "\n",
      "A value is trying to be set on a copy of a slice from a DataFrame.\n",
      "Try using .loc[row_indexer,col_indexer] = value instead\n",
      "\n",
      "See the caveats in the documentation: https://pandas.pydata.org/pandas-docs/stable/user_guide/indexing.html#returning-a-view-versus-a-copy\n",
      "\n"
     ]
    }
   ],
   "source": [
    "#hide\n",
    "df_all = read_api()\n",
    "#df_all = df_all.drop(['SP500', 'XAU', 'ETH', 'BTC'], axis=1)\n",
    "\n"
   ]
  },
  {
   "cell_type": "code",
   "execution_count": 6,
   "id": "mature-alert",
   "metadata": {
    "execution": {
     "iopub.execute_input": "2022-05-30T03:09:49.419984Z",
     "iopub.status.busy": "2022-05-30T03:09:49.419149Z",
     "iopub.status.idle": "2022-05-30T03:09:49.458914Z",
     "shell.execute_reply": "2022-05-30T03:09:49.459612Z"
    },
    "papermill": {
     "duration": 0.059941,
     "end_time": "2022-05-30T03:09:49.459780",
     "exception": false,
     "start_time": "2022-05-30T03:09:49.399839",
     "status": "completed"
    },
    "tags": []
   },
   "outputs": [],
   "source": [
    "#hide_input\n",
    "sum_corr = df_all.corr().sum().sort_values(ascending=True).index.values\n",
    "#df_all[sum_corr].corr()"
   ]
  },
  {
   "cell_type": "markdown",
   "id": "complex-syndicate",
   "metadata": {
    "papermill": {
     "duration": 0.016666,
     "end_time": "2022-05-30T03:09:49.492989",
     "exception": false,
     "start_time": "2022-05-30T03:09:49.476323",
     "status": "completed"
    },
    "tags": []
   },
   "source": [
    "## Išplėstinė koreliacijų matrica. "
   ]
  },
  {
   "cell_type": "code",
   "execution_count": 7,
   "id": "atomic-omaha",
   "metadata": {
    "execution": {
     "iopub.execute_input": "2022-05-30T03:09:49.533463Z",
     "iopub.status.busy": "2022-05-30T03:09:49.532699Z",
     "iopub.status.idle": "2022-05-30T03:09:51.437834Z",
     "shell.execute_reply": "2022-05-30T03:09:51.438428Z"
    },
    "papermill": {
     "duration": 1.929119,
     "end_time": "2022-05-30T03:09:51.438595",
     "exception": false,
     "start_time": "2022-05-30T03:09:49.509476",
     "status": "completed"
    },
    "tags": []
   },
   "outputs": [
    {
     "data": {
      "image/png": "[encoded data removed]",
      "text/plain": [
       "<Figure size 1080x792 with 2 Axes>"
      ]
     },
     "metadata": {
      "needs_background": "light"
     },
     "output_type": "display_data"
    }
   ],
   "source": [
    "#hide_input\n",
    "plt.figure(figsize=(15, 11))\n",
    "sns.heatmap(df_all[sum_corr].corr(), annot=True, cmap=\"cubehelix\") \n",
    "sns.set(font_scale=1.25)\n",
    "plt.savefig('corr_matrix.png', format='eps')"
   ]
  },
  {
   "cell_type": "code",
   "execution_count": 8,
   "id": "arbitrary-sullivan",
   "metadata": {
    "execution": {
     "iopub.execute_input": "2022-05-30T03:09:51.483578Z",
     "iopub.status.busy": "2022-05-30T03:09:51.482623Z",
     "iopub.status.idle": "2022-05-30T03:09:51.517490Z",
     "shell.execute_reply": "2022-05-30T03:09:51.518184Z"
    },
    "papermill": {
     "duration": 0.05946,
     "end_time": "2022-05-30T03:09:51.518361",
     "exception": false,
     "start_time": "2022-05-30T03:09:51.458901",
     "status": "completed"
    },
    "tags": []
   },
   "outputs": [],
   "source": [
    "#hide\n",
    "#df_all_mrk = read_api()"
   ]
  },
  {
   "cell_type": "code",
   "execution_count": 9,
   "id": "delayed-adapter",
   "metadata": {
    "execution": {
     "iopub.execute_input": "2022-05-30T03:09:51.561385Z",
     "iopub.status.busy": "2022-05-30T03:09:51.560353Z",
     "iopub.status.idle": "2022-05-30T03:09:51.597961Z",
     "shell.execute_reply": "2022-05-30T03:09:51.597022Z"
    },
    "papermill": {
     "duration": 0.061168,
     "end_time": "2022-05-30T03:09:51.598122",
     "exception": false,
     "start_time": "2022-05-30T03:09:51.536954",
     "status": "completed"
    },
    "tags": []
   },
   "outputs": [],
   "source": [
    "#hide\n",
    "#Koreliacijų koeficientai"
   ]
  },
  {
   "cell_type": "code",
   "execution_count": 10,
   "id": "seeing-celebration",
   "metadata": {
    "execution": {
     "iopub.execute_input": "2022-05-30T03:09:51.638816Z",
     "iopub.status.busy": "2022-05-30T03:09:51.638023Z",
     "iopub.status.idle": "2022-05-30T03:09:51.672475Z",
     "shell.execute_reply": "2022-05-30T03:09:51.673177Z"
    },
    "papermill": {
     "duration": 0.057027,
     "end_time": "2022-05-30T03:09:51.673347",
     "exception": false,
     "start_time": "2022-05-30T03:09:51.616320",
     "status": "completed"
    },
    "tags": []
   },
   "outputs": [],
   "source": [
    "#hide_input\n",
    "#sum_corr = df_all_mrk.corr().sum().sort_values(ascending=True).index.values\n",
    "#df_all_mrk[sum_corr].corr()"
   ]
  },
  {
   "cell_type": "code",
   "execution_count": 11,
   "id": "other-painting",
   "metadata": {
    "execution": {
     "iopub.execute_input": "2022-05-30T03:09:51.717385Z",
     "iopub.status.busy": "2022-05-30T03:09:51.716572Z",
     "iopub.status.idle": "2022-05-30T03:09:51.750401Z",
     "shell.execute_reply": "2022-05-30T03:09:51.751098Z"
    },
    "papermill": {
     "duration": 0.059099,
     "end_time": "2022-05-30T03:09:51.751291",
     "exception": false,
     "start_time": "2022-05-30T03:09:51.692192",
     "status": "completed"
    },
    "tags": []
   },
   "outputs": [],
   "source": [
    "#hide\n",
    "#Koreliacijos matrica. "
   ]
  },
  {
   "cell_type": "code",
   "execution_count": 12,
   "id": "modular-magnitude",
   "metadata": {
    "execution": {
     "iopub.execute_input": "2022-05-30T03:09:51.795966Z",
     "iopub.status.busy": "2022-05-30T03:09:51.795173Z",
     "iopub.status.idle": "2022-05-30T03:09:51.832450Z",
     "shell.execute_reply": "2022-05-30T03:09:51.831758Z"
    },
    "papermill": {
     "duration": 0.062054,
     "end_time": "2022-05-30T03:09:51.832603",
     "exception": false,
     "start_time": "2022-05-30T03:09:51.770549",
     "status": "completed"
    },
    "tags": []
   },
   "outputs": [],
   "source": [
    "#hide_input\n",
    "#plt.figure(figsize=(15, 8))\n",
    "#sns.heatmap(df_all_mrk[sum_corr].corr(), annot=True, cmap=\"BrBG\");\n",
    "#plt.savefig('corr_matrix_all.eps', format='eps')"
   ]
  },
  {
   "cell_type": "code",
   "execution_count": null,
   "id": "original-senator",
   "metadata": {
    "papermill": {
     "duration": 0.020697,
     "end_time": "2022-05-30T03:09:51.872444",
     "exception": false,
     "start_time": "2022-05-30T03:09:51.851747",
     "status": "completed"
    },
    "tags": []
   },
   "outputs": [],
   "source": []
  },
  {
   "cell_type": "code",
   "execution_count": null,
   "id": "saving-secretariat",
   "metadata": {
    "papermill": {
     "duration": 0.01931,
     "end_time": "2022-05-30T03:09:51.911375",
     "exception": false,
     "start_time": "2022-05-30T03:09:51.892065",
     "status": "completed"
    },
    "tags": []
   },
   "outputs": [],
   "source": []
  }
 ],
 "metadata": {
  "kernelspec": {
   "display_name": "Python 3",
   "language": "python",
   "name": "python3"
  },
  "language_info": {
   "codemirror_mode": {
    "name": "ipython",
    "version": 3
   },
   "file_extension": ".py",
   "mimetype": "text/x-python",
   "name": "python",
   "nbconvert_exporter": "python",
   "pygments_lexer": "ipython3",
   "version": "3.6.15"
  },
  "papermill": {
   "default_parameters": {},
   "duration": 21.738593,
   "end_time": "2022-05-30T03:09:52.551423",
   "environment_variables": {},
   "exception": null,
   "input_path": "App-Correlation_charts.ipynb",
   "output_path": "App-Correlation_charts.ipynb",
   "parameters": {},
   "start_time": "2022-05-30T03:09:30.812830",
   "version": "2.2.2"
  }
 },
 "nbformat": 4,
 "nbformat_minor": 5
}