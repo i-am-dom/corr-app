{
 "cells": [
  {
   "cell_type": "markdown",
   "id": "touched-facility",
   "metadata": {
    "papermill": {
     "duration": 0.017564,
     "end_time": "2021-12-16T02:00:27.236939",
     "exception": false,
     "start_time": "2021-12-16T02:00:27.219375",
     "status": "completed"
    },
    "tags": []
   },
   "source": [
    "# Koreliacijų matrica\n",
    "> Išplėstinė koreliacijų matrica. \n",
    "\n",
    "- toc: true \n",
    "- badges: true\n",
    "- comments: false\n",
    "- categories: [Dominykas Tautkus]\n",
    "- image: images/matrix.png"
   ]
  },
  {
   "cell_type": "code",
   "execution_count": null,
   "id": "premium-weekend",
   "metadata": {
    "papermill": {
     "duration": 0.012198,
     "end_time": "2021-12-16T02:00:27.264365",
     "exception": false,
     "start_time": "2021-12-16T02:00:27.252167",
     "status": "completed"
    },
    "tags": []
   },
   "outputs": [],
   "source": []
  },
  {
   "cell_type": "code",
   "execution_count": 1,
   "id": "vertical-rebate",
   "metadata": {
    "execution": {
     "iopub.execute_input": "2021-12-16T02:00:27.311003Z",
     "iopub.status.busy": "2021-12-16T02:00:27.310240Z",
     "iopub.status.idle": "2021-12-16T02:00:27.322279Z",
     "shell.execute_reply": "2021-12-16T02:00:27.321644Z"
    },
    "papermill": {
     "duration": 0.045111,
     "end_time": "2021-12-16T02:00:27.322431",
     "exception": false,
     "start_time": "2021-12-16T02:00:27.277320",
     "status": "completed"
    },
    "tags": []
   },
   "outputs": [],
   "source": [
    "#hide\n",
    "%load_ext autoreload\n",
    "%autoreload 2"
   ]
  },
  {
   "cell_type": "code",
   "execution_count": 2,
   "id": "overall-advancement",
   "metadata": {
    "execution": {
     "iopub.execute_input": "2021-12-16T02:00:27.354069Z",
     "iopub.status.busy": "2021-12-16T02:00:27.353438Z",
     "iopub.status.idle": "2021-12-16T02:00:28.931940Z",
     "shell.execute_reply": "2021-12-16T02:00:28.931051Z"
    },
    "papermill": {
     "duration": 1.596036,
     "end_time": "2021-12-16T02:00:28.932096",
     "exception": false,
     "start_time": "2021-12-16T02:00:27.336060",
     "status": "completed"
    },
    "tags": []
   },
   "outputs": [],
   "source": [
    "#hide\n",
    "from scripts.read_data import read_api\n",
    "from IPython.display import HTML\n",
    "import plotly.graph_objects as go\n"
   ]
  },
  {
   "cell_type": "code",
   "execution_count": 3,
   "id": "light-crazy",
   "metadata": {
    "execution": {
     "iopub.execute_input": "2021-12-16T02:00:28.964948Z",
     "iopub.status.busy": "2021-12-16T02:00:28.964275Z",
     "iopub.status.idle": "2021-12-16T02:00:28.988557Z",
     "shell.execute_reply": "2021-12-16T02:00:28.988073Z"
    },
    "papermill": {
     "duration": 0.042415,
     "end_time": "2021-12-16T02:00:28.988678",
     "exception": false,
     "start_time": "2021-12-16T02:00:28.946263",
     "status": "completed"
    },
    "tags": []
   },
   "outputs": [],
   "source": [
    "#hide\n",
    "### ICO koreliacija"
   ]
  },
  {
   "cell_type": "code",
   "execution_count": 4,
   "id": "likely-bahrain",
   "metadata": {
    "execution": {
     "iopub.execute_input": "2021-12-16T02:00:29.023837Z",
     "iopub.status.busy": "2021-12-16T02:00:29.023097Z",
     "iopub.status.idle": "2021-12-16T02:00:30.059278Z",
     "shell.execute_reply": "2021-12-16T02:00:30.058762Z"
    },
    "papermill": {
     "duration": 1.055323,
     "end_time": "2021-12-16T02:00:30.059414",
     "exception": false,
     "start_time": "2021-12-16T02:00:29.004091",
     "status": "completed"
    },
    "tags": []
   },
   "outputs": [],
   "source": [
    "#hide\n",
    "import matplotlib.pyplot as plt\n",
    "import numpy as np\n",
    "import pandas as pd\n",
    "import seaborn as sns\n",
    "import matplotlib.pyplot as plt \n",
    "import matplotlib.dates as mdates\n",
    "import matplotlib.pyplot as plt"
   ]
  },
  {
   "cell_type": "code",
   "execution_count": 5,
   "id": "superior-blanket",
   "metadata": {
    "execution": {
     "iopub.execute_input": "2021-12-16T02:00:30.091981Z",
     "iopub.status.busy": "2021-12-16T02:00:30.091402Z",
     "iopub.status.idle": "2021-12-16T02:00:43.584438Z",
     "shell.execute_reply": "2021-12-16T02:00:43.583567Z"
    },
    "papermill": {
     "duration": 13.511103,
     "end_time": "2021-12-16T02:00:43.584714",
     "exception": false,
     "start_time": "2021-12-16T02:00:30.073611",
     "status": "completed"
    },
    "tags": []
   },
   "outputs": [
    {
     "name": "stderr",
     "output_type": "stream",
     "text": [
      "/home/runner/work/corr-app/corr-app/_notebooks/scripts/read_data.py:187: SettingWithCopyWarning:\n",
      "\n",
      "\n",
      "A value is trying to be set on a copy of a slice from a DataFrame.\n",
      "Try using .loc[row_indexer,col_indexer] = value instead\n",
      "\n",
      "See the caveats in the documentation: https://pandas.pydata.org/pandas-docs/stable/user_guide/indexing.html#returning-a-view-versus-a-copy\n",
      "\n"
     ]
    },
    {
     "name": "stderr",
     "output_type": "stream",
     "text": [
      "/home/runner/work/corr-app/corr-app/_notebooks/scripts/read_data.py:215: SettingWithCopyWarning:\n",
      "\n",
      "\n",
      "A value is trying to be set on a copy of a slice from a DataFrame.\n",
      "Try using .loc[row_indexer,col_indexer] = value instead\n",
      "\n",
      "See the caveats in the documentation: https://pandas.pydata.org/pandas-docs/stable/user_guide/indexing.html#returning-a-view-versus-a-copy\n",
      "\n"
     ]
    }
   ],
   "source": [
    "#hide\n",
    "df_all = read_api()\n",
    "#df_all = df_all.drop(['SP500', 'XAU', 'ETH', 'BTC'], axis=1)\n",
    "\n"
   ]
  },
  {
   "cell_type": "code",
   "execution_count": 6,
   "id": "mature-alert",
   "metadata": {
    "execution": {
     "iopub.execute_input": "2021-12-16T02:00:43.619963Z",
     "iopub.status.busy": "2021-12-16T02:00:43.618592Z",
     "iopub.status.idle": "2021-12-16T02:00:43.654338Z",
     "shell.execute_reply": "2021-12-16T02:00:43.653693Z"
    },
    "papermill": {
     "duration": 0.055744,
     "end_time": "2021-12-16T02:00:43.654475",
     "exception": false,
     "start_time": "2021-12-16T02:00:43.598731",
     "status": "completed"
    },
    "tags": []
   },
   "outputs": [],
   "source": [
    "#hide_input\n",
    "sum_corr = df_all.corr().sum().sort_values(ascending=True).index.values\n",
    "#df_all[sum_corr].corr()"
   ]
  },
  {
   "cell_type": "markdown",
   "id": "complex-syndicate",
   "metadata": {
    "papermill": {
     "duration": 0.0157,
     "end_time": "2021-12-16T02:00:43.686938",
     "exception": false,
     "start_time": "2021-12-16T02:00:43.671238",
     "status": "completed"
    },
    "tags": []
   },
   "source": [
    "## Išplėstinė koreliacijų matrica. "
   ]
  },
  {
   "cell_type": "code",
   "execution_count": 7,
   "id": "atomic-omaha",
   "metadata": {
    "execution": {
     "iopub.execute_input": "2021-12-16T02:00:43.722953Z",
     "iopub.status.busy": "2021-12-16T02:00:43.722370Z",
     "iopub.status.idle": "2021-12-16T02:00:45.474903Z",
     "shell.execute_reply": "2021-12-16T02:00:45.475443Z"
    },
    "papermill": {
     "duration": 1.774777,
     "end_time": "2021-12-16T02:00:45.475628",
     "exception": false,
     "start_time": "2021-12-16T02:00:43.700851",
     "status": "completed"
    },
    "tags": []
   },
   "outputs": [
    {
     "data": {
      "image/png": "[encoded data removed]",
      "text/plain": [
       "<Figure size 1080x792 with 2 Axes>"
      ]
     },
     "metadata": {
      "needs_background": "light"
     },
     "output_type": "display_data"
    }
   ],
   "source": [
    "#hide_input\n",
    "plt.figure(figsize=(15, 11))\n",
    "sns.heatmap(df_all[sum_corr].corr(), annot=True, cmap=\"cubehelix\") \n",
    "sns.set(font_scale=1.25)\n",
    "plt.savefig('corr_matrix.png', format='eps')"
   ]
  },
  {
   "cell_type": "code",
   "execution_count": 8,
   "id": "arbitrary-sullivan",
   "metadata": {
    "execution": {
     "iopub.execute_input": "2021-12-16T02:00:45.506876Z",
     "iopub.status.busy": "2021-12-16T02:00:45.506259Z",
     "iopub.status.idle": "2021-12-16T02:00:45.535036Z",
     "shell.execute_reply": "2021-12-16T02:00:45.535475Z"
    },
    "papermill": {
     "duration": 0.045692,
     "end_time": "2021-12-16T02:00:45.535603",
     "exception": false,
     "start_time": "2021-12-16T02:00:45.489911",
     "status": "completed"
    },
    "tags": []
   },
   "outputs": [],
   "source": [
    "#hide\n",
    "#df_all_mrk = read_api()"
   ]
  },
  {
   "cell_type": "code",
   "execution_count": 9,
   "id": "delayed-adapter",
   "metadata": {
    "execution": {
     "iopub.execute_input": "2021-12-16T02:00:45.567719Z",
     "iopub.status.busy": "2021-12-16T02:00:45.567158Z",
     "iopub.status.idle": "2021-12-16T02:00:45.591488Z",
     "shell.execute_reply": "2021-12-16T02:00:45.591981Z"
    },
    "papermill": {
     "duration": 0.04172,
     "end_time": "2021-12-16T02:00:45.592110",
     "exception": false,
     "start_time": "2021-12-16T02:00:45.550390",
     "status": "completed"
    },
    "tags": []
   },
   "outputs": [],
   "source": [
    "#hide\n",
    "#Koreliacijų koeficientai"
   ]
  },
  {
   "cell_type": "code",
   "execution_count": 10,
   "id": "seeing-celebration",
   "metadata": {
    "execution": {
     "iopub.execute_input": "2021-12-16T02:00:45.624996Z",
     "iopub.status.busy": "2021-12-16T02:00:45.624434Z",
     "iopub.status.idle": "2021-12-16T02:00:45.650512Z",
     "shell.execute_reply": "2021-12-16T02:00:45.649858Z"
    },
    "papermill": {
     "duration": 0.044169,
     "end_time": "2021-12-16T02:00:45.650698",
     "exception": false,
     "start_time": "2021-12-16T02:00:45.606529",
     "status": "completed"
    },
    "tags": []
   },
   "outputs": [],
   "source": [
    "#hide_input\n",
    "#sum_corr = df_all_mrk.corr().sum().sort_values(ascending=True).index.values\n",
    "#df_all_mrk[sum_corr].corr()"
   ]
  },
  {
   "cell_type": "code",
   "execution_count": 11,
   "id": "other-painting",
   "metadata": {
    "execution": {
     "iopub.execute_input": "2021-12-16T02:00:45.682993Z",
     "iopub.status.busy": "2021-12-16T02:00:45.682462Z",
     "iopub.status.idle": "2021-12-16T02:00:45.707973Z",
     "shell.execute_reply": "2021-12-16T02:00:45.708430Z"
    },
    "papermill": {
     "duration": 0.043303,
     "end_time": "2021-12-16T02:00:45.708561",
     "exception": false,
     "start_time": "2021-12-16T02:00:45.665258",
     "status": "completed"
    },
    "tags": []
   },
   "outputs": [],
   "source": [
    "#hide\n",
    "#Koreliacijos matrica. "
   ]
  },
  {
   "cell_type": "code",
   "execution_count": 12,
   "id": "modular-magnitude",
   "metadata": {
    "execution": {
     "iopub.execute_input": "2021-12-16T02:00:45.740043Z",
     "iopub.status.busy": "2021-12-16T02:00:45.739418Z",
     "iopub.status.idle": "2021-12-16T02:00:45.764173Z",
     "shell.execute_reply": "2021-12-16T02:00:45.764610Z"
    },
    "papermill": {
     "duration": 0.041525,
     "end_time": "2021-12-16T02:00:45.764735",
     "exception": false,
     "start_time": "2021-12-16T02:00:45.723210",
     "status": "completed"
    },
    "tags": []
   },
   "outputs": [],
   "source": [
    "#hide_input\n",
    "#plt.figure(figsize=(15, 8))\n",
    "#sns.heatmap(df_all_mrk[sum_corr].corr(), annot=True, cmap=\"BrBG\");\n",
    "#plt.savefig('corr_matrix_all.eps', format='eps')"
   ]
  },
  {
   "cell_type": "code",
   "execution_count": null,
   "id": "original-senator",
   "metadata": {
    "papermill": {
     "duration": 0.013823,
     "end_time": "2021-12-16T02:00:45.792282",
     "exception": false,
     "start_time": "2021-12-16T02:00:45.778459",
     "status": "completed"
    },
    "tags": []
   },
   "outputs": [],
   "source": []
  },
  {
   "cell_type": "code",
   "execution_count": null,
   "id": "saving-secretariat",
   "metadata": {
    "papermill": {
     "duration": 0.016431,
     "end_time": "2021-12-16T02:00:45.823281",
     "exception": false,
     "start_time": "2021-12-16T02:00:45.806850",
     "status": "completed"
    },
    "tags": []
   },
   "outputs": [],
   "source": []
  }
 ],
 "metadata": {
  "kernelspec": {
   "display_name": "Python 3",
   "language": "python",
   "name": "python3"
  },
  "language_info": {
   "codemirror_mode": {
    "name": "ipython",
    "version": 3
   },
   "file_extension": ".py",
   "mimetype": "text/x-python",
   "name": "python",
   "nbconvert_exporter": "python",
   "pygments_lexer": "ipython3",
   "version": "3.6.15"
  },
  "papermill": {
   "default_parameters": {},
   "duration": 20.426914,
   "end_time": "2021-12-16T02:00:46.354990",
   "environment_variables": {},
   "exception": null,
   "input_path": "App-Correlation_charts.ipynb",
   "output_path": "App-Correlation_charts.ipynb",
   "parameters": {},
   "start_time": "2021-12-16T02:00:25.928076",
   "version": "2.2.2"
  }
 },
 "nbformat": 4,
 "nbformat_minor": 5
}