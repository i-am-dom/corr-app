{
 "cells": [
  {
   "cell_type": "markdown",
   "id": "touched-facility",
   "metadata": {
    "papermill": {
     "duration": 0.015538,
     "end_time": "2022-07-29T03:24:23.732093",
     "exception": false,
     "start_time": "2022-07-29T03:24:23.716555",
     "status": "completed"
    },
    "tags": []
   },
   "source": [
    "# Koreliacijų matrica\n",
    "> Išplėstinė koreliacijų matrica. \n",
    "\n",
    "- toc: true \n",
    "- badges: true\n",
    "- comments: false\n",
    "- categories: [Dominykas Tautkus]\n",
    "- image: images/matrix.png"
   ]
  },
  {
   "cell_type": "code",
   "execution_count": null,
   "id": "premium-weekend",
   "metadata": {
    "papermill": {
     "duration": 0.010568,
     "end_time": "2022-07-29T03:24:23.753908",
     "exception": false,
     "start_time": "2022-07-29T03:24:23.743340",
     "status": "completed"
    },
    "tags": []
   },
   "outputs": [],
   "source": []
  },
  {
   "cell_type": "code",
   "execution_count": 1,
   "id": "vertical-rebate",
   "metadata": {
    "execution": {
     "iopub.execute_input": "2022-07-29T03:24:23.786189Z",
     "iopub.status.busy": "2022-07-29T03:24:23.785600Z",
     "iopub.status.idle": "2022-07-29T03:24:23.797037Z",
     "shell.execute_reply": "2022-07-29T03:24:23.796558Z"
    },
    "papermill": {
     "duration": 0.032752,
     "end_time": "2022-07-29T03:24:23.797155",
     "exception": false,
     "start_time": "2022-07-29T03:24:23.764403",
     "status": "completed"
    },
    "tags": []
   },
   "outputs": [],
   "source": [
    "#hide\n",
    "%load_ext autoreload\n",
    "%autoreload 2"
   ]
  },
  {
   "cell_type": "code",
   "execution_count": 2,
   "id": "overall-advancement",
   "metadata": {
    "execution": {
     "iopub.execute_input": "2022-07-29T03:24:23.821740Z",
     "iopub.status.busy": "2022-07-29T03:24:23.821168Z",
     "iopub.status.idle": "2022-07-29T03:24:25.094280Z",
     "shell.execute_reply": "2022-07-29T03:24:25.093692Z"
    },
    "papermill": {
     "duration": 1.286822,
     "end_time": "2022-07-29T03:24:25.094424",
     "exception": false,
     "start_time": "2022-07-29T03:24:23.807602",
     "status": "completed"
    },
    "tags": []
   },
   "outputs": [],
   "source": [
    "#hide\n",
    "from scripts.read_data import read_api\n",
    "from IPython.display import HTML\n",
    "import plotly.graph_objects as go\n"
   ]
  },
  {
   "cell_type": "code",
   "execution_count": 3,
   "id": "light-crazy",
   "metadata": {
    "execution": {
     "iopub.execute_input": "2022-07-29T03:24:25.137033Z",
     "iopub.status.busy": "2022-07-29T03:24:25.135972Z",
     "iopub.status.idle": "2022-07-29T03:24:25.151230Z",
     "shell.execute_reply": "2022-07-29T03:24:25.150371Z"
    },
    "papermill": {
     "duration": 0.045749,
     "end_time": "2022-07-29T03:24:25.151359",
     "exception": false,
     "start_time": "2022-07-29T03:24:25.105610",
     "status": "completed"
    },
    "tags": []
   },
   "outputs": [],
   "source": [
    "#hide\n",
    "### ICO koreliacija"
   ]
  },
  {
   "cell_type": "code",
   "execution_count": 4,
   "id": "likely-bahrain",
   "metadata": {
    "execution": {
     "iopub.execute_input": "2022-07-29T03:24:25.177466Z",
     "iopub.status.busy": "2022-07-29T03:24:25.176848Z",
     "iopub.status.idle": "2022-07-29T03:24:26.042043Z",
     "shell.execute_reply": "2022-07-29T03:24:26.041521Z"
    },
    "papermill": {
     "duration": 0.880145,
     "end_time": "2022-07-29T03:24:26.042177",
     "exception": false,
     "start_time": "2022-07-29T03:24:25.162032",
     "status": "completed"
    },
    "tags": []
   },
   "outputs": [],
   "source": [
    "#hide\n",
    "import matplotlib.pyplot as plt\n",
    "import numpy as np\n",
    "import pandas as pd\n",
    "import seaborn as sns\n",
    "import matplotlib.pyplot as plt \n",
    "import matplotlib.dates as mdates\n",
    "import matplotlib.pyplot as plt"
   ]
  },
  {
   "cell_type": "code",
   "execution_count": 5,
   "id": "superior-blanket",
   "metadata": {
    "execution": {
     "iopub.execute_input": "2022-07-29T03:24:26.069356Z",
     "iopub.status.busy": "2022-07-29T03:24:26.068752Z",
     "iopub.status.idle": "2022-07-29T03:24:37.751850Z",
     "shell.execute_reply": "2022-07-29T03:24:37.751110Z"
    },
    "papermill": {
     "duration": 11.698778,
     "end_time": "2022-07-29T03:24:37.751981",
     "exception": false,
     "start_time": "2022-07-29T03:24:26.053203",
     "status": "completed"
    },
    "tags": []
   },
   "outputs": [
    {
     "name": "stderr",
     "output_type": "stream",
     "text": [
      "/home/runner/work/corr-app/corr-app/_notebooks/scripts/read_data.py:187: SettingWithCopyWarning:\n",
      "\n",
      "\n",
      "A value is trying to be set on a copy of a slice from a DataFrame.\n",
      "Try using .loc[row_indexer,col_indexer] = value instead\n",
      "\n",
      "See the caveats in the documentation: https://pandas.pydata.org/pandas-docs/stable/user_guide/indexing.html#returning-a-view-versus-a-copy\n",
      "\n"
     ]
    },
    {
     "name": "stderr",
     "output_type": "stream",
     "text": [
      "/home/runner/work/corr-app/corr-app/_notebooks/scripts/read_data.py:215: SettingWithCopyWarning:\n",
      "\n",
      "\n",
      "A value is trying to be set on a copy of a slice from a DataFrame.\n",
      "Try using .loc[row_indexer,col_indexer] = value instead\n",
      "\n",
      "See the caveats in the documentation: https://pandas.pydata.org/pandas-docs/stable/user_guide/indexing.html#returning-a-view-versus-a-copy\n",
      "\n"
     ]
    }
   ],
   "source": [
    "#hide\n",
    "df_all = read_api()\n",
    "#df_all = df_all.drop(['SP500', 'XAU', 'ETH', 'BTC'], axis=1)\n",
    "\n"
   ]
  },
  {
   "cell_type": "code",
   "execution_count": 6,
   "id": "mature-alert",
   "metadata": {
    "execution": {
     "iopub.execute_input": "2022-07-29T03:24:37.792134Z",
     "iopub.status.busy": "2022-07-29T03:24:37.791517Z",
     "iopub.status.idle": "2022-07-29T03:24:37.824164Z",
     "shell.execute_reply": "2022-07-29T03:24:37.823555Z"
    },
    "papermill": {
     "duration": 0.050164,
     "end_time": "2022-07-29T03:24:37.824307",
     "exception": false,
     "start_time": "2022-07-29T03:24:37.774143",
     "status": "completed"
    },
    "tags": []
   },
   "outputs": [],
   "source": [
    "#hide_input\n",
    "sum_corr = df_all.corr().sum().sort_values(ascending=True).index.values\n",
    "#df_all[sum_corr].corr()"
   ]
  },
  {
   "cell_type": "markdown",
   "id": "complex-syndicate",
   "metadata": {
    "papermill": {
     "duration": 0.013457,
     "end_time": "2022-07-29T03:24:37.889310",
     "exception": false,
     "start_time": "2022-07-29T03:24:37.875853",
     "status": "completed"
    },
    "tags": []
   },
   "source": [
    "## Išplėstinė koreliacijų matrica. "
   ]
  },
  {
   "cell_type": "code",
   "execution_count": 7,
   "id": "atomic-omaha",
   "metadata": {
    "execution": {
     "iopub.execute_input": "2022-07-29T03:24:37.941144Z",
     "iopub.status.busy": "2022-07-29T03:24:37.940491Z",
     "iopub.status.idle": "2022-07-29T03:24:39.178086Z",
     "shell.execute_reply": "2022-07-29T03:24:39.177573Z"
    },
    "papermill": {
     "duration": 1.262413,
     "end_time": "2022-07-29T03:24:39.178210",
     "exception": false,
     "start_time": "2022-07-29T03:24:37.915797",
     "status": "completed"
    },
    "tags": []
   },
   "outputs": [
    {
     "data": {
      "image/png": "[encoded data removed]",
      "text/plain": [
       "<Figure size 1080x792 with 2 Axes>"
      ]
     },
     "metadata": {
      "needs_background": "light"
     },
     "output_type": "display_data"
    }
   ],
   "source": [
    "#hide_input\n",
    "plt.figure(figsize=(15, 11))\n",
    "sns.heatmap(df_all[sum_corr].corr(), annot=True, cmap=\"cubehelix\") \n",
    "sns.set(font_scale=1.25)\n",
    "plt.savefig('corr_matrix.png', format='eps')"
   ]
  },
  {
   "cell_type": "code",
   "execution_count": 8,
   "id": "arbitrary-sullivan",
   "metadata": {
    "execution": {
     "iopub.execute_input": "2022-07-29T03:24:39.212040Z",
     "iopub.status.busy": "2022-07-29T03:24:39.211343Z",
     "iopub.status.idle": "2022-07-29T03:24:39.237701Z",
     "shell.execute_reply": "2022-07-29T03:24:39.237194Z"
    },
    "papermill": {
     "duration": 0.045988,
     "end_time": "2022-07-29T03:24:39.237814",
     "exception": false,
     "start_time": "2022-07-29T03:24:39.191826",
     "status": "completed"
    },
    "tags": []
   },
   "outputs": [],
   "source": [
    "#hide\n",
    "#df_all_mrk = read_api()"
   ]
  },
  {
   "cell_type": "code",
   "execution_count": 9,
   "id": "delayed-adapter",
   "metadata": {
    "execution": {
     "iopub.execute_input": "2022-07-29T03:24:39.267543Z",
     "iopub.status.busy": "2022-07-29T03:24:39.266922Z",
     "iopub.status.idle": "2022-07-29T03:24:39.294444Z",
     "shell.execute_reply": "2022-07-29T03:24:39.293866Z"
    },
    "papermill": {
     "duration": 0.043742,
     "end_time": "2022-07-29T03:24:39.294576",
     "exception": false,
     "start_time": "2022-07-29T03:24:39.250834",
     "status": "completed"
    },
    "tags": []
   },
   "outputs": [],
   "source": [
    "#hide\n",
    "#Koreliacijų koeficientai"
   ]
  },
  {
   "cell_type": "code",
   "execution_count": 10,
   "id": "seeing-celebration",
   "metadata": {
    "execution": {
     "iopub.execute_input": "2022-07-29T03:24:39.329657Z",
     "iopub.status.busy": "2022-07-29T03:24:39.329074Z",
     "iopub.status.idle": "2022-07-29T03:24:39.352906Z",
     "shell.execute_reply": "2022-07-29T03:24:39.352361Z"
    },
    "papermill": {
     "duration": 0.044768,
     "end_time": "2022-07-29T03:24:39.353028",
     "exception": false,
     "start_time": "2022-07-29T03:24:39.308260",
     "status": "completed"
    },
    "tags": []
   },
   "outputs": [],
   "source": [
    "#hide_input\n",
    "#sum_corr = df_all_mrk.corr().sum().sort_values(ascending=True).index.values\n",
    "#df_all_mrk[sum_corr].corr()"
   ]
  },
  {
   "cell_type": "code",
   "execution_count": 11,
   "id": "other-painting",
   "metadata": {
    "execution": {
     "iopub.execute_input": "2022-07-29T03:24:39.388658Z",
     "iopub.status.busy": "2022-07-29T03:24:39.387987Z",
     "iopub.status.idle": "2022-07-29T03:24:39.411991Z",
     "shell.execute_reply": "2022-07-29T03:24:39.412439Z"
    },
    "papermill": {
     "duration": 0.045957,
     "end_time": "2022-07-29T03:24:39.412565",
     "exception": false,
     "start_time": "2022-07-29T03:24:39.366608",
     "status": "completed"
    },
    "tags": []
   },
   "outputs": [],
   "source": [
    "#hide\n",
    "#Koreliacijos matrica. "
   ]
  },
  {
   "cell_type": "code",
   "execution_count": 12,
   "id": "modular-magnitude",
   "metadata": {
    "execution": {
     "iopub.execute_input": "2022-07-29T03:24:39.443988Z",
     "iopub.status.busy": "2022-07-29T03:24:39.441373Z",
     "iopub.status.idle": "2022-07-29T03:24:39.468325Z",
     "shell.execute_reply": "2022-07-29T03:24:39.468838Z"
    },
    "papermill": {
     "duration": 0.043285,
     "end_time": "2022-07-29T03:24:39.468976",
     "exception": false,
     "start_time": "2022-07-29T03:24:39.425691",
     "status": "completed"
    },
    "tags": []
   },
   "outputs": [],
   "source": [
    "#hide_input\n",
    "#plt.figure(figsize=(15, 8))\n",
    "#sns.heatmap(df_all_mrk[sum_corr].corr(), annot=True, cmap=\"BrBG\");\n",
    "#plt.savefig('corr_matrix_all.eps', format='eps')"
   ]
  },
  {
   "cell_type": "code",
   "execution_count": null,
   "id": "original-senator",
   "metadata": {
    "papermill": {
     "duration": 0.012896,
     "end_time": "2022-07-29T03:24:39.494907",
     "exception": false,
     "start_time": "2022-07-29T03:24:39.482011",
     "status": "completed"
    },
    "tags": []
   },
   "outputs": [],
   "source": []
  },
  {
   "cell_type": "code",
   "execution_count": null,
   "id": "saving-secretariat",
   "metadata": {
    "papermill": {
     "duration": 0.012936,
     "end_time": "2022-07-29T03:24:39.520802",
     "exception": false,
     "start_time": "2022-07-29T03:24:39.507866",
     "status": "completed"
    },
    "tags": []
   },
   "outputs": [],
   "source": []
  }
 ],
 "metadata": {
  "kernelspec": {
   "display_name": "Python 3",
   "language": "python",
   "name": "python3"
  },
  "language_info": {
   "codemirror_mode": {
    "name": "ipython",
    "version": 3
   },
   "file_extension": ".py",
   "mimetype": "text/x-python",
   "name": "python",
   "nbconvert_exporter": "python",
   "pygments_lexer": "ipython3",
   "version": "3.6.15"
  },
  "papermill": {
   "default_parameters": {},
   "duration": 17.369141,
   "end_time": "2022-07-29T03:24:40.053590",
   "environment_variables": {},
   "exception": null,
   "input_path": "App-Correlation_charts.ipynb",
   "output_path": "App-Correlation_charts.ipynb",
   "parameters": {},
   "start_time": "2022-07-29T03:24:22.684449",
   "version": "2.2.2"
  }
 },
 "nbformat": 4,
 "nbformat_minor": 5
}