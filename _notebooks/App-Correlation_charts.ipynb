{
 "cells": [
  {
   "cell_type": "markdown",
   "id": "touched-facility",
   "metadata": {
    "papermill": {
     "duration": 0.014814,
     "end_time": "2022-04-14T02:45:35.622427",
     "exception": false,
     "start_time": "2022-04-14T02:45:35.607613",
     "status": "completed"
    },
    "tags": []
   },
   "source": [
    "# Koreliacijų matrica\n",
    "> Išplėstinė koreliacijų matrica. \n",
    "\n",
    "- toc: true \n",
    "- badges: true\n",
    "- comments: false\n",
    "- categories: [Dominykas Tautkus]\n",
    "- image: images/matrix.png"
   ]
  },
  {
   "cell_type": "code",
   "execution_count": null,
   "id": "premium-weekend",
   "metadata": {
    "papermill": {
     "duration": 0.010744,
     "end_time": "2022-04-14T02:45:35.644604",
     "exception": false,
     "start_time": "2022-04-14T02:45:35.633860",
     "status": "completed"
    },
    "tags": []
   },
   "outputs": [],
   "source": []
  },
  {
   "cell_type": "code",
   "execution_count": 1,
   "id": "vertical-rebate",
   "metadata": {
    "execution": {
     "iopub.execute_input": "2022-04-14T02:45:35.678000Z",
     "iopub.status.busy": "2022-04-14T02:45:35.677403Z",
     "iopub.status.idle": "2022-04-14T02:45:35.687843Z",
     "shell.execute_reply": "2022-04-14T02:45:35.687363Z"
    },
    "papermill": {
     "duration": 0.032744,
     "end_time": "2022-04-14T02:45:35.687970",
     "exception": false,
     "start_time": "2022-04-14T02:45:35.655226",
     "status": "completed"
    },
    "tags": []
   },
   "outputs": [],
   "source": [
    "#hide\n",
    "%load_ext autoreload\n",
    "%autoreload 2"
   ]
  },
  {
   "cell_type": "code",
   "execution_count": 2,
   "id": "overall-advancement",
   "metadata": {
    "execution": {
     "iopub.execute_input": "2022-04-14T02:45:35.735916Z",
     "iopub.status.busy": "2022-04-14T02:45:35.735370Z",
     "iopub.status.idle": "2022-04-14T02:45:37.897857Z",
     "shell.execute_reply": "2022-04-14T02:45:37.898700Z"
    },
    "papermill": {
     "duration": 2.190494,
     "end_time": "2022-04-14T02:45:37.898851",
     "exception": false,
     "start_time": "2022-04-14T02:45:35.708357",
     "status": "completed"
    },
    "tags": []
   },
   "outputs": [],
   "source": [
    "#hide\n",
    "from scripts.read_data import read_api\n",
    "from IPython.display import HTML\n",
    "import plotly.graph_objects as go\n"
   ]
  },
  {
   "cell_type": "code",
   "execution_count": 3,
   "id": "light-crazy",
   "metadata": {
    "execution": {
     "iopub.execute_input": "2022-04-14T02:45:37.929879Z",
     "iopub.status.busy": "2022-04-14T02:45:37.927314Z",
     "iopub.status.idle": "2022-04-14T02:45:37.950814Z",
     "shell.execute_reply": "2022-04-14T02:45:37.950343Z"
    },
    "papermill": {
     "duration": 0.040854,
     "end_time": "2022-04-14T02:45:37.950936",
     "exception": false,
     "start_time": "2022-04-14T02:45:37.910082",
     "status": "completed"
    },
    "tags": []
   },
   "outputs": [],
   "source": [
    "#hide\n",
    "### ICO koreliacija"
   ]
  },
  {
   "cell_type": "code",
   "execution_count": 4,
   "id": "likely-bahrain",
   "metadata": {
    "execution": {
     "iopub.execute_input": "2022-04-14T02:45:37.979799Z",
     "iopub.status.busy": "2022-04-14T02:45:37.979218Z",
     "iopub.status.idle": "2022-04-14T02:45:39.012255Z",
     "shell.execute_reply": "2022-04-14T02:45:39.011321Z"
    },
    "papermill": {
     "duration": 1.050558,
     "end_time": "2022-04-14T02:45:39.012390",
     "exception": false,
     "start_time": "2022-04-14T02:45:37.961832",
     "status": "completed"
    },
    "tags": []
   },
   "outputs": [],
   "source": [
    "#hide\n",
    "import matplotlib.pyplot as plt\n",
    "import numpy as np\n",
    "import pandas as pd\n",
    "import seaborn as sns\n",
    "import matplotlib.pyplot as plt \n",
    "import matplotlib.dates as mdates\n",
    "import matplotlib.pyplot as plt"
   ]
  },
  {
   "cell_type": "code",
   "execution_count": 5,
   "id": "superior-blanket",
   "metadata": {
    "execution": {
     "iopub.execute_input": "2022-04-14T02:45:39.039763Z",
     "iopub.status.busy": "2022-04-14T02:45:39.038520Z",
     "iopub.status.idle": "2022-04-14T02:45:48.171365Z",
     "shell.execute_reply": "2022-04-14T02:45:48.171882Z"
    },
    "papermill": {
     "duration": 9.148654,
     "end_time": "2022-04-14T02:45:48.172056",
     "exception": false,
     "start_time": "2022-04-14T02:45:39.023402",
     "status": "completed"
    },
    "tags": []
   },
   "outputs": [
    {
     "name": "stderr",
     "output_type": "stream",
     "text": [
      "/home/runner/work/corr-app/corr-app/_notebooks/scripts/read_data.py:187: SettingWithCopyWarning:\n",
      "\n",
      "\n",
      "A value is trying to be set on a copy of a slice from a DataFrame.\n",
      "Try using .loc[row_indexer,col_indexer] = value instead\n",
      "\n",
      "See the caveats in the documentation: https://pandas.pydata.org/pandas-docs/stable/user_guide/indexing.html#returning-a-view-versus-a-copy\n",
      "\n"
     ]
    },
    {
     "name": "stderr",
     "output_type": "stream",
     "text": [
      "/home/runner/work/corr-app/corr-app/_notebooks/scripts/read_data.py:215: SettingWithCopyWarning:\n",
      "\n",
      "\n",
      "A value is trying to be set on a copy of a slice from a DataFrame.\n",
      "Try using .loc[row_indexer,col_indexer] = value instead\n",
      "\n",
      "See the caveats in the documentation: https://pandas.pydata.org/pandas-docs/stable/user_guide/indexing.html#returning-a-view-versus-a-copy\n",
      "\n"
     ]
    }
   ],
   "source": [
    "#hide\n",
    "df_all = read_api()\n",
    "#df_all = df_all.drop(['SP500', 'XAU', 'ETH', 'BTC'], axis=1)\n",
    "\n"
   ]
  },
  {
   "cell_type": "code",
   "execution_count": 6,
   "id": "mature-alert",
   "metadata": {
    "execution": {
     "iopub.execute_input": "2022-04-14T02:45:48.203452Z",
     "iopub.status.busy": "2022-04-14T02:45:48.202658Z",
     "iopub.status.idle": "2022-04-14T02:45:48.230999Z",
     "shell.execute_reply": "2022-04-14T02:45:48.230515Z"
    },
    "papermill": {
     "duration": 0.047167,
     "end_time": "2022-04-14T02:45:48.231131",
     "exception": false,
     "start_time": "2022-04-14T02:45:48.183964",
     "status": "completed"
    },
    "tags": []
   },
   "outputs": [],
   "source": [
    "#hide_input\n",
    "sum_corr = df_all.corr().sum().sort_values(ascending=True).index.values\n",
    "#df_all[sum_corr].corr()"
   ]
  },
  {
   "cell_type": "markdown",
   "id": "complex-syndicate",
   "metadata": {
    "papermill": {
     "duration": 0.011247,
     "end_time": "2022-04-14T02:45:48.254326",
     "exception": false,
     "start_time": "2022-04-14T02:45:48.243079",
     "status": "completed"
    },
    "tags": []
   },
   "source": [
    "## Išplėstinė koreliacijų matrica. "
   ]
  },
  {
   "cell_type": "code",
   "execution_count": 7,
   "id": "atomic-omaha",
   "metadata": {
    "execution": {
     "iopub.execute_input": "2022-04-14T02:45:48.282198Z",
     "iopub.status.busy": "2022-04-14T02:45:48.281675Z",
     "iopub.status.idle": "2022-04-14T02:45:49.514243Z",
     "shell.execute_reply": "2022-04-14T02:45:49.513796Z"
    },
    "papermill": {
     "duration": 1.248804,
     "end_time": "2022-04-14T02:45:49.514364",
     "exception": false,
     "start_time": "2022-04-14T02:45:48.265560",
     "status": "completed"
    },
    "tags": []
   },
   "outputs": [
    {
     "data": {
      "image/png": "[encoded data removed]",
      "text/plain": [
       "<Figure size 1080x792 with 2 Axes>"
      ]
     },
     "metadata": {
      "needs_background": "light"
     },
     "output_type": "display_data"
    }
   ],
   "source": [
    "#hide_input\n",
    "plt.figure(figsize=(15, 11))\n",
    "sns.heatmap(df_all[sum_corr].corr(), annot=True, cmap=\"cubehelix\") \n",
    "sns.set(font_scale=1.25)\n",
    "plt.savefig('corr_matrix.png', format='eps')"
   ]
  },
  {
   "cell_type": "code",
   "execution_count": 8,
   "id": "arbitrary-sullivan",
   "metadata": {
    "execution": {
     "iopub.execute_input": "2022-04-14T02:45:49.545719Z",
     "iopub.status.busy": "2022-04-14T02:45:49.545166Z",
     "iopub.status.idle": "2022-04-14T02:45:49.573140Z",
     "shell.execute_reply": "2022-04-14T02:45:49.572675Z"
    },
    "papermill": {
     "duration": 0.04508,
     "end_time": "2022-04-14T02:45:49.573268",
     "exception": false,
     "start_time": "2022-04-14T02:45:49.528188",
     "status": "completed"
    },
    "tags": []
   },
   "outputs": [],
   "source": [
    "#hide\n",
    "#df_all_mrk = read_api()"
   ]
  },
  {
   "cell_type": "code",
   "execution_count": 9,
   "id": "delayed-adapter",
   "metadata": {
    "execution": {
     "iopub.execute_input": "2022-04-14T02:45:49.615154Z",
     "iopub.status.busy": "2022-04-14T02:45:49.612228Z",
     "iopub.status.idle": "2022-04-14T02:45:49.634629Z",
     "shell.execute_reply": "2022-04-14T02:45:49.635035Z"
    },
    "papermill": {
     "duration": 0.048403,
     "end_time": "2022-04-14T02:45:49.635179",
     "exception": false,
     "start_time": "2022-04-14T02:45:49.586776",
     "status": "completed"
    },
    "tags": []
   },
   "outputs": [],
   "source": [
    "#hide\n",
    "#Koreliacijų koeficientai"
   ]
  },
  {
   "cell_type": "code",
   "execution_count": 10,
   "id": "seeing-celebration",
   "metadata": {
    "execution": {
     "iopub.execute_input": "2022-04-14T02:45:49.669144Z",
     "iopub.status.busy": "2022-04-14T02:45:49.668586Z",
     "iopub.status.idle": "2022-04-14T02:45:49.694703Z",
     "shell.execute_reply": "2022-04-14T02:45:49.694161Z"
    },
    "papermill": {
     "duration": 0.044942,
     "end_time": "2022-04-14T02:45:49.694835",
     "exception": false,
     "start_time": "2022-04-14T02:45:49.649893",
     "status": "completed"
    },
    "tags": []
   },
   "outputs": [],
   "source": [
    "#hide_input\n",
    "#sum_corr = df_all_mrk.corr().sum().sort_values(ascending=True).index.values\n",
    "#df_all_mrk[sum_corr].corr()"
   ]
  },
  {
   "cell_type": "code",
   "execution_count": 11,
   "id": "other-painting",
   "metadata": {
    "execution": {
     "iopub.execute_input": "2022-04-14T02:45:49.731880Z",
     "iopub.status.busy": "2022-04-14T02:45:49.731309Z",
     "iopub.status.idle": "2022-04-14T02:45:49.757323Z",
     "shell.execute_reply": "2022-04-14T02:45:49.756804Z"
    },
    "papermill": {
     "duration": 0.045924,
     "end_time": "2022-04-14T02:45:49.757451",
     "exception": false,
     "start_time": "2022-04-14T02:45:49.711527",
     "status": "completed"
    },
    "tags": []
   },
   "outputs": [],
   "source": [
    "#hide\n",
    "#Koreliacijos matrica. "
   ]
  },
  {
   "cell_type": "code",
   "execution_count": 12,
   "id": "modular-magnitude",
   "metadata": {
    "execution": {
     "iopub.execute_input": "2022-04-14T02:45:49.800588Z",
     "iopub.status.busy": "2022-04-14T02:45:49.795805Z",
     "iopub.status.idle": "2022-04-14T02:45:49.817591Z",
     "shell.execute_reply": "2022-04-14T02:45:49.817144Z"
    },
    "papermill": {
     "duration": 0.046687,
     "end_time": "2022-04-14T02:45:49.817716",
     "exception": false,
     "start_time": "2022-04-14T02:45:49.771029",
     "status": "completed"
    },
    "tags": []
   },
   "outputs": [],
   "source": [
    "#hide_input\n",
    "#plt.figure(figsize=(15, 8))\n",
    "#sns.heatmap(df_all_mrk[sum_corr].corr(), annot=True, cmap=\"BrBG\");\n",
    "#plt.savefig('corr_matrix_all.eps', format='eps')"
   ]
  },
  {
   "cell_type": "code",
   "execution_count": null,
   "id": "original-senator",
   "metadata": {
    "papermill": {
     "duration": 0.013462,
     "end_time": "2022-04-14T02:45:49.844618",
     "exception": false,
     "start_time": "2022-04-14T02:45:49.831156",
     "status": "completed"
    },
    "tags": []
   },
   "outputs": [],
   "source": []
  },
  {
   "cell_type": "code",
   "execution_count": null,
   "id": "saving-secretariat",
   "metadata": {
    "papermill": {
     "duration": 0.013364,
     "end_time": "2022-04-14T02:45:49.871366",
     "exception": false,
     "start_time": "2022-04-14T02:45:49.858002",
     "status": "completed"
    },
    "tags": []
   },
   "outputs": [],
   "source": []
  }
 ],
 "metadata": {
  "kernelspec": {
   "display_name": "Python 3",
   "language": "python",
   "name": "python3"
  },
  "language_info": {
   "codemirror_mode": {
    "name": "ipython",
    "version": 3
   },
   "file_extension": ".py",
   "mimetype": "text/x-python",
   "name": "python",
   "nbconvert_exporter": "python",
   "pygments_lexer": "ipython3",
   "version": "3.6.15"
  },
  "papermill": {
   "default_parameters": {},
   "duration": 15.843093,
   "end_time": "2022-04-14T02:45:50.504451",
   "environment_variables": {},
   "exception": null,
   "input_path": "App-Correlation_charts.ipynb",
   "output_path": "App-Correlation_charts.ipynb",
   "parameters": {},
   "start_time": "2022-04-14T02:45:34.661358",
   "version": "2.2.2"
  }
 },
 "nbformat": 4,
 "nbformat_minor": 5
}