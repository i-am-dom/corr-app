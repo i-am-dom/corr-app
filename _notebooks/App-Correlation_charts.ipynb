{
 "cells": [
  {
   "cell_type": "markdown",
   "id": "touched-facility",
   "metadata": {
    "papermill": {
     "duration": 0.01448,
     "end_time": "2022-01-31T01:55:07.398893",
     "exception": false,
     "start_time": "2022-01-31T01:55:07.384413",
     "status": "completed"
    },
    "tags": []
   },
   "source": [
    "# Koreliacijų matrica\n",
    "> Išplėstinė koreliacijų matrica. \n",
    "\n",
    "- toc: true \n",
    "- badges: true\n",
    "- comments: false\n",
    "- categories: [Dominykas Tautkus]\n",
    "- image: images/matrix.png"
   ]
  },
  {
   "cell_type": "code",
   "execution_count": null,
   "id": "premium-weekend",
   "metadata": {
    "papermill": {
     "duration": 0.011219,
     "end_time": "2022-01-31T01:55:07.423677",
     "exception": false,
     "start_time": "2022-01-31T01:55:07.412458",
     "status": "completed"
    },
    "tags": []
   },
   "outputs": [],
   "source": []
  },
  {
   "cell_type": "code",
   "execution_count": 1,
   "id": "vertical-rebate",
   "metadata": {
    "execution": {
     "iopub.execute_input": "2022-01-31T01:55:07.456533Z",
     "iopub.status.busy": "2022-01-31T01:55:07.455876Z",
     "iopub.status.idle": "2022-01-31T01:55:07.466042Z",
     "shell.execute_reply": "2022-01-31T01:55:07.466495Z"
    },
    "papermill": {
     "duration": 0.032167,
     "end_time": "2022-01-31T01:55:07.466678",
     "exception": false,
     "start_time": "2022-01-31T01:55:07.434511",
     "status": "completed"
    },
    "tags": []
   },
   "outputs": [],
   "source": [
    "#hide\n",
    "%load_ext autoreload\n",
    "%autoreload 2"
   ]
  },
  {
   "cell_type": "code",
   "execution_count": 2,
   "id": "overall-advancement",
   "metadata": {
    "execution": {
     "iopub.execute_input": "2022-01-31T01:55:07.500403Z",
     "iopub.status.busy": "2022-01-31T01:55:07.499827Z",
     "iopub.status.idle": "2022-01-31T01:55:08.877098Z",
     "shell.execute_reply": "2022-01-31T01:55:08.876542Z"
    },
    "papermill": {
     "duration": 1.399664,
     "end_time": "2022-01-31T01:55:08.877247",
     "exception": false,
     "start_time": "2022-01-31T01:55:07.477583",
     "status": "completed"
    },
    "tags": []
   },
   "outputs": [],
   "source": [
    "#hide\n",
    "from scripts.read_data import read_api\n",
    "from IPython.display import HTML\n",
    "import plotly.graph_objects as go\n"
   ]
  },
  {
   "cell_type": "code",
   "execution_count": 3,
   "id": "light-crazy",
   "metadata": {
    "execution": {
     "iopub.execute_input": "2022-01-31T01:55:08.907458Z",
     "iopub.status.busy": "2022-01-31T01:55:08.906874Z",
     "iopub.status.idle": "2022-01-31T01:55:08.929650Z",
     "shell.execute_reply": "2022-01-31T01:55:08.930084Z"
    },
    "papermill": {
     "duration": 0.041386,
     "end_time": "2022-01-31T01:55:08.930241",
     "exception": false,
     "start_time": "2022-01-31T01:55:08.888855",
     "status": "completed"
    },
    "tags": []
   },
   "outputs": [],
   "source": [
    "#hide\n",
    "### ICO koreliacija"
   ]
  },
  {
   "cell_type": "code",
   "execution_count": 4,
   "id": "likely-bahrain",
   "metadata": {
    "execution": {
     "iopub.execute_input": "2022-01-31T01:55:08.959891Z",
     "iopub.status.busy": "2022-01-31T01:55:08.959304Z",
     "iopub.status.idle": "2022-01-31T01:55:09.873897Z",
     "shell.execute_reply": "2022-01-31T01:55:09.873353Z"
    },
    "papermill": {
     "duration": 0.932898,
     "end_time": "2022-01-31T01:55:09.874047",
     "exception": false,
     "start_time": "2022-01-31T01:55:08.941149",
     "status": "completed"
    },
    "tags": []
   },
   "outputs": [],
   "source": [
    "#hide\n",
    "import matplotlib.pyplot as plt\n",
    "import numpy as np\n",
    "import pandas as pd\n",
    "import seaborn as sns\n",
    "import matplotlib.pyplot as plt \n",
    "import matplotlib.dates as mdates\n",
    "import matplotlib.pyplot as plt"
   ]
  },
  {
   "cell_type": "code",
   "execution_count": 5,
   "id": "superior-blanket",
   "metadata": {
    "execution": {
     "iopub.execute_input": "2022-01-31T01:55:09.919748Z",
     "iopub.status.busy": "2022-01-31T01:55:09.910513Z",
     "iopub.status.idle": "2022-01-31T01:55:21.142333Z",
     "shell.execute_reply": "2022-01-31T01:55:21.142850Z"
    },
    "papermill": {
     "duration": 11.257339,
     "end_time": "2022-01-31T01:55:21.143018",
     "exception": false,
     "start_time": "2022-01-31T01:55:09.885679",
     "status": "completed"
    },
    "tags": []
   },
   "outputs": [
    {
     "name": "stderr",
     "output_type": "stream",
     "text": [
      "/home/runner/work/corr-app/corr-app/_notebooks/scripts/read_data.py:187: SettingWithCopyWarning:\n",
      "\n",
      "\n",
      "A value is trying to be set on a copy of a slice from a DataFrame.\n",
      "Try using .loc[row_indexer,col_indexer] = value instead\n",
      "\n",
      "See the caveats in the documentation: https://pandas.pydata.org/pandas-docs/stable/user_guide/indexing.html#returning-a-view-versus-a-copy\n",
      "\n"
     ]
    },
    {
     "name": "stderr",
     "output_type": "stream",
     "text": [
      "/home/runner/work/corr-app/corr-app/_notebooks/scripts/read_data.py:215: SettingWithCopyWarning:\n",
      "\n",
      "\n",
      "A value is trying to be set on a copy of a slice from a DataFrame.\n",
      "Try using .loc[row_indexer,col_indexer] = value instead\n",
      "\n",
      "See the caveats in the documentation: https://pandas.pydata.org/pandas-docs/stable/user_guide/indexing.html#returning-a-view-versus-a-copy\n",
      "\n"
     ]
    }
   ],
   "source": [
    "#hide\n",
    "df_all = read_api()\n",
    "#df_all = df_all.drop(['SP500', 'XAU', 'ETH', 'BTC'], axis=1)\n",
    "\n"
   ]
  },
  {
   "cell_type": "code",
   "execution_count": 6,
   "id": "mature-alert",
   "metadata": {
    "execution": {
     "iopub.execute_input": "2022-01-31T01:55:21.173436Z",
     "iopub.status.busy": "2022-01-31T01:55:21.172887Z",
     "iopub.status.idle": "2022-01-31T01:55:21.203804Z",
     "shell.execute_reply": "2022-01-31T01:55:21.203279Z"
    },
    "papermill": {
     "duration": 0.04921,
     "end_time": "2022-01-31T01:55:21.203946",
     "exception": false,
     "start_time": "2022-01-31T01:55:21.154736",
     "status": "completed"
    },
    "tags": []
   },
   "outputs": [],
   "source": [
    "#hide_input\n",
    "sum_corr = df_all.corr().sum().sort_values(ascending=True).index.values\n",
    "#df_all[sum_corr].corr()"
   ]
  },
  {
   "cell_type": "markdown",
   "id": "complex-syndicate",
   "metadata": {
    "papermill": {
     "duration": 0.011436,
     "end_time": "2022-01-31T01:55:21.227412",
     "exception": false,
     "start_time": "2022-01-31T01:55:21.215976",
     "status": "completed"
    },
    "tags": []
   },
   "source": [
    "## Išplėstinė koreliacijų matrica. "
   ]
  },
  {
   "cell_type": "code",
   "execution_count": 7,
   "id": "atomic-omaha",
   "metadata": {
    "execution": {
     "iopub.execute_input": "2022-01-31T01:55:21.259551Z",
     "iopub.status.busy": "2022-01-31T01:55:21.258986Z",
     "iopub.status.idle": "2022-01-31T01:55:22.563426Z",
     "shell.execute_reply": "2022-01-31T01:55:22.563981Z"
    },
    "papermill": {
     "duration": 1.325319,
     "end_time": "2022-01-31T01:55:22.564135",
     "exception": false,
     "start_time": "2022-01-31T01:55:21.238816",
     "status": "completed"
    },
    "tags": []
   },
   "outputs": [
    {
     "data": {
      "image/png": "[encoded data removed]",
      "text/plain": [
       "<Figure size 1080x792 with 2 Axes>"
      ]
     },
     "metadata": {
      "needs_background": "light"
     },
     "output_type": "display_data"
    }
   ],
   "source": [
    "#hide_input\n",
    "plt.figure(figsize=(15, 11))\n",
    "sns.heatmap(df_all[sum_corr].corr(), annot=True, cmap=\"cubehelix\") \n",
    "sns.set(font_scale=1.25)\n",
    "plt.savefig('corr_matrix.png', format='eps')"
   ]
  },
  {
   "cell_type": "code",
   "execution_count": 8,
   "id": "arbitrary-sullivan",
   "metadata": {
    "execution": {
     "iopub.execute_input": "2022-01-31T01:55:22.596264Z",
     "iopub.status.busy": "2022-01-31T01:55:22.595622Z",
     "iopub.status.idle": "2022-01-31T01:55:22.623208Z",
     "shell.execute_reply": "2022-01-31T01:55:22.622629Z"
    },
    "papermill": {
     "duration": 0.045209,
     "end_time": "2022-01-31T01:55:22.623349",
     "exception": false,
     "start_time": "2022-01-31T01:55:22.578140",
     "status": "completed"
    },
    "tags": []
   },
   "outputs": [],
   "source": [
    "#hide\n",
    "#df_all_mrk = read_api()"
   ]
  },
  {
   "cell_type": "code",
   "execution_count": 9,
   "id": "delayed-adapter",
   "metadata": {
    "execution": {
     "iopub.execute_input": "2022-01-31T01:55:22.664252Z",
     "iopub.status.busy": "2022-01-31T01:55:22.663149Z",
     "iopub.status.idle": "2022-01-31T01:55:22.685704Z",
     "shell.execute_reply": "2022-01-31T01:55:22.685177Z"
    },
    "papermill": {
     "duration": 0.049001,
     "end_time": "2022-01-31T01:55:22.685841",
     "exception": false,
     "start_time": "2022-01-31T01:55:22.636840",
     "status": "completed"
    },
    "tags": []
   },
   "outputs": [],
   "source": [
    "#hide\n",
    "#Koreliacijų koeficientai"
   ]
  },
  {
   "cell_type": "code",
   "execution_count": 10,
   "id": "seeing-celebration",
   "metadata": {
    "execution": {
     "iopub.execute_input": "2022-01-31T01:55:22.730321Z",
     "iopub.status.busy": "2022-01-31T01:55:22.727927Z",
     "iopub.status.idle": "2022-01-31T01:55:22.749784Z",
     "shell.execute_reply": "2022-01-31T01:55:22.749199Z"
    },
    "papermill": {
     "duration": 0.050408,
     "end_time": "2022-01-31T01:55:22.749911",
     "exception": false,
     "start_time": "2022-01-31T01:55:22.699503",
     "status": "completed"
    },
    "tags": []
   },
   "outputs": [],
   "source": [
    "#hide_input\n",
    "#sum_corr = df_all_mrk.corr().sum().sort_values(ascending=True).index.values\n",
    "#df_all_mrk[sum_corr].corr()"
   ]
  },
  {
   "cell_type": "code",
   "execution_count": 11,
   "id": "other-painting",
   "metadata": {
    "execution": {
     "iopub.execute_input": "2022-01-31T01:55:22.788602Z",
     "iopub.status.busy": "2022-01-31T01:55:22.787975Z",
     "iopub.status.idle": "2022-01-31T01:55:22.811448Z",
     "shell.execute_reply": "2022-01-31T01:55:22.810889Z"
    },
    "papermill": {
     "duration": 0.048027,
     "end_time": "2022-01-31T01:55:22.811618",
     "exception": false,
     "start_time": "2022-01-31T01:55:22.763591",
     "status": "completed"
    },
    "tags": []
   },
   "outputs": [],
   "source": [
    "#hide\n",
    "#Koreliacijos matrica. "
   ]
  },
  {
   "cell_type": "code",
   "execution_count": 12,
   "id": "modular-magnitude",
   "metadata": {
    "execution": {
     "iopub.execute_input": "2022-01-31T01:55:22.847860Z",
     "iopub.status.busy": "2022-01-31T01:55:22.847265Z",
     "iopub.status.idle": "2022-01-31T01:55:22.872534Z",
     "shell.execute_reply": "2022-01-31T01:55:22.871952Z"
    },
    "papermill": {
     "duration": 0.046698,
     "end_time": "2022-01-31T01:55:22.872678",
     "exception": false,
     "start_time": "2022-01-31T01:55:22.825980",
     "status": "completed"
    },
    "tags": []
   },
   "outputs": [],
   "source": [
    "#hide_input\n",
    "#plt.figure(figsize=(15, 8))\n",
    "#sns.heatmap(df_all_mrk[sum_corr].corr(), annot=True, cmap=\"BrBG\");\n",
    "#plt.savefig('corr_matrix_all.eps', format='eps')"
   ]
  },
  {
   "cell_type": "code",
   "execution_count": null,
   "id": "original-senator",
   "metadata": {
    "papermill": {
     "duration": 0.01347,
     "end_time": "2022-01-31T01:55:22.901361",
     "exception": false,
     "start_time": "2022-01-31T01:55:22.887891",
     "status": "completed"
    },
    "tags": []
   },
   "outputs": [],
   "source": []
  },
  {
   "cell_type": "code",
   "execution_count": null,
   "id": "saving-secretariat",
   "metadata": {
    "papermill": {
     "duration": 0.01338,
     "end_time": "2022-01-31T01:55:22.928122",
     "exception": false,
     "start_time": "2022-01-31T01:55:22.914742",
     "status": "completed"
    },
    "tags": []
   },
   "outputs": [],
   "source": []
  }
 ],
 "metadata": {
  "kernelspec": {
   "display_name": "Python 3",
   "language": "python",
   "name": "python3"
  },
  "language_info": {
   "codemirror_mode": {
    "name": "ipython",
    "version": 3
   },
   "file_extension": ".py",
   "mimetype": "text/x-python",
   "name": "python",
   "nbconvert_exporter": "python",
   "pygments_lexer": "ipython3",
   "version": "3.6.15"
  },
  "papermill": {
   "default_parameters": {},
   "duration": 17.449554,
   "end_time": "2022-01-31T01:55:23.561694",
   "environment_variables": {},
   "exception": null,
   "input_path": "App-Correlation_charts.ipynb",
   "output_path": "App-Correlation_charts.ipynb",
   "parameters": {},
   "start_time": "2022-01-31T01:55:06.112140",
   "version": "2.2.2"
  }
 },
 "nbformat": 4,
 "nbformat_minor": 5
}