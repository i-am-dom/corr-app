{
 "cells": [
  {
   "cell_type": "markdown",
   "id": "touched-facility",
   "metadata": {
    "papermill": {
     "duration": 0.016013,
     "end_time": "2021-12-21T02:06:21.331419",
     "exception": false,
     "start_time": "2021-12-21T02:06:21.315406",
     "status": "completed"
    },
    "tags": []
   },
   "source": [
    "# Koreliacijų matrica\n",
    "> Išplėstinė koreliacijų matrica. \n",
    "\n",
    "- toc: true \n",
    "- badges: true\n",
    "- comments: false\n",
    "- categories: [Dominykas Tautkus]\n",
    "- image: images/matrix.png"
   ]
  },
  {
   "cell_type": "code",
   "execution_count": null,
   "id": "premium-weekend",
   "metadata": {
    "papermill": {
     "duration": 0.013524,
     "end_time": "2021-12-21T02:06:21.358628",
     "exception": false,
     "start_time": "2021-12-21T02:06:21.345104",
     "status": "completed"
    },
    "tags": []
   },
   "outputs": [],
   "source": []
  },
  {
   "cell_type": "code",
   "execution_count": 1,
   "id": "vertical-rebate",
   "metadata": {
    "execution": {
     "iopub.execute_input": "2021-12-21T02:06:21.396308Z",
     "iopub.status.busy": "2021-12-21T02:06:21.395623Z",
     "iopub.status.idle": "2021-12-21T02:06:21.408912Z",
     "shell.execute_reply": "2021-12-21T02:06:21.409387Z"
    },
    "papermill": {
     "duration": 0.038336,
     "end_time": "2021-12-21T02:06:21.409557",
     "exception": false,
     "start_time": "2021-12-21T02:06:21.371221",
     "status": "completed"
    },
    "tags": []
   },
   "outputs": [],
   "source": [
    "#hide\n",
    "%load_ext autoreload\n",
    "%autoreload 2"
   ]
  },
  {
   "cell_type": "code",
   "execution_count": 2,
   "id": "overall-advancement",
   "metadata": {
    "execution": {
     "iopub.execute_input": "2021-12-21T02:06:21.439498Z",
     "iopub.status.busy": "2021-12-21T02:06:21.438879Z",
     "iopub.status.idle": "2021-12-21T02:06:23.643302Z",
     "shell.execute_reply": "2021-12-21T02:06:23.642348Z"
    },
    "papermill": {
     "duration": 2.221318,
     "end_time": "2021-12-21T02:06:23.643449",
     "exception": false,
     "start_time": "2021-12-21T02:06:21.422131",
     "status": "completed"
    },
    "tags": []
   },
   "outputs": [],
   "source": [
    "#hide\n",
    "from scripts.read_data import read_api\n",
    "from IPython.display import HTML\n",
    "import plotly.graph_objects as go\n"
   ]
  },
  {
   "cell_type": "code",
   "execution_count": 3,
   "id": "light-crazy",
   "metadata": {
    "execution": {
     "iopub.execute_input": "2021-12-21T02:06:23.716663Z",
     "iopub.status.busy": "2021-12-21T02:06:23.716020Z",
     "iopub.status.idle": "2021-12-21T02:06:23.741243Z",
     "shell.execute_reply": "2021-12-21T02:06:23.740429Z"
    },
    "papermill": {
     "duration": 0.07464,
     "end_time": "2021-12-21T02:06:23.741412",
     "exception": false,
     "start_time": "2021-12-21T02:06:23.666772",
     "status": "completed"
    },
    "tags": []
   },
   "outputs": [],
   "source": [
    "#hide\n",
    "### ICO koreliacija"
   ]
  },
  {
   "cell_type": "code",
   "execution_count": 4,
   "id": "likely-bahrain",
   "metadata": {
    "execution": {
     "iopub.execute_input": "2021-12-21T02:06:23.793386Z",
     "iopub.status.busy": "2021-12-21T02:06:23.790327Z",
     "iopub.status.idle": "2021-12-21T02:06:24.937235Z",
     "shell.execute_reply": "2021-12-21T02:06:24.936624Z"
    },
    "papermill": {
     "duration": 1.168667,
     "end_time": "2021-12-21T02:06:24.937364",
     "exception": false,
     "start_time": "2021-12-21T02:06:23.768697",
     "status": "completed"
    },
    "tags": []
   },
   "outputs": [],
   "source": [
    "#hide\n",
    "import matplotlib.pyplot as plt\n",
    "import numpy as np\n",
    "import pandas as pd\n",
    "import seaborn as sns\n",
    "import matplotlib.pyplot as plt \n",
    "import matplotlib.dates as mdates\n",
    "import matplotlib.pyplot as plt"
   ]
  },
  {
   "cell_type": "code",
   "execution_count": 5,
   "id": "superior-blanket",
   "metadata": {
    "execution": {
     "iopub.execute_input": "2021-12-21T02:06:24.970148Z",
     "iopub.status.busy": "2021-12-21T02:06:24.967651Z",
     "iopub.status.idle": "2021-12-21T02:06:35.358087Z",
     "shell.execute_reply": "2021-12-21T02:06:35.356886Z"
    },
    "papermill": {
     "duration": 10.408895,
     "end_time": "2021-12-21T02:06:35.358252",
     "exception": false,
     "start_time": "2021-12-21T02:06:24.949357",
     "status": "completed"
    },
    "tags": []
   },
   "outputs": [
    {
     "name": "stderr",
     "output_type": "stream",
     "text": [
      "/home/runner/work/corr-app/corr-app/_notebooks/scripts/read_data.py:187: SettingWithCopyWarning:\n",
      "\n",
      "\n",
      "A value is trying to be set on a copy of a slice from a DataFrame.\n",
      "Try using .loc[row_indexer,col_indexer] = value instead\n",
      "\n",
      "See the caveats in the documentation: https://pandas.pydata.org/pandas-docs/stable/user_guide/indexing.html#returning-a-view-versus-a-copy\n",
      "\n"
     ]
    },
    {
     "name": "stderr",
     "output_type": "stream",
     "text": [
      "/home/runner/work/corr-app/corr-app/_notebooks/scripts/read_data.py:215: SettingWithCopyWarning:\n",
      "\n",
      "\n",
      "A value is trying to be set on a copy of a slice from a DataFrame.\n",
      "Try using .loc[row_indexer,col_indexer] = value instead\n",
      "\n",
      "See the caveats in the documentation: https://pandas.pydata.org/pandas-docs/stable/user_guide/indexing.html#returning-a-view-versus-a-copy\n",
      "\n"
     ]
    }
   ],
   "source": [
    "#hide\n",
    "df_all = read_api()\n",
    "#df_all = df_all.drop(['SP500', 'XAU', 'ETH', 'BTC'], axis=1)\n",
    "\n"
   ]
  },
  {
   "cell_type": "code",
   "execution_count": 6,
   "id": "mature-alert",
   "metadata": {
    "execution": {
     "iopub.execute_input": "2021-12-21T02:06:35.390634Z",
     "iopub.status.busy": "2021-12-21T02:06:35.389968Z",
     "iopub.status.idle": "2021-12-21T02:06:35.423156Z",
     "shell.execute_reply": "2021-12-21T02:06:35.423620Z"
    },
    "papermill": {
     "duration": 0.052363,
     "end_time": "2021-12-21T02:06:35.423761",
     "exception": false,
     "start_time": "2021-12-21T02:06:35.371398",
     "status": "completed"
    },
    "tags": []
   },
   "outputs": [],
   "source": [
    "#hide_input\n",
    "sum_corr = df_all.corr().sum().sort_values(ascending=True).index.values\n",
    "#df_all[sum_corr].corr()"
   ]
  },
  {
   "cell_type": "markdown",
   "id": "complex-syndicate",
   "metadata": {
    "papermill": {
     "duration": 0.014673,
     "end_time": "2021-12-21T02:06:35.452323",
     "exception": false,
     "start_time": "2021-12-21T02:06:35.437650",
     "status": "completed"
    },
    "tags": []
   },
   "source": [
    "## Išplėstinė koreliacijų matrica. "
   ]
  },
  {
   "cell_type": "code",
   "execution_count": 7,
   "id": "atomic-omaha",
   "metadata": {
    "execution": {
     "iopub.execute_input": "2021-12-21T02:06:35.485939Z",
     "iopub.status.busy": "2021-12-21T02:06:35.485304Z",
     "iopub.status.idle": "2021-12-21T02:06:36.924131Z",
     "shell.execute_reply": "2021-12-21T02:06:36.923630Z"
    },
    "papermill": {
     "duration": 1.457,
     "end_time": "2021-12-21T02:06:36.924261",
     "exception": false,
     "start_time": "2021-12-21T02:06:35.467261",
     "status": "completed"
    },
    "tags": []
   },
   "outputs": [
    {
     "data": {
      "image/png": "[encoded data removed]",
      "text/plain": [
       "<Figure size 1080x792 with 2 Axes>"
      ]
     },
     "metadata": {
      "needs_background": "light"
     },
     "output_type": "display_data"
    }
   ],
   "source": [
    "#hide_input\n",
    "plt.figure(figsize=(15, 11))\n",
    "sns.heatmap(df_all[sum_corr].corr(), annot=True, cmap=\"cubehelix\") \n",
    "sns.set(font_scale=1.25)\n",
    "plt.savefig('corr_matrix.png', format='eps')"
   ]
  },
  {
   "cell_type": "code",
   "execution_count": 8,
   "id": "arbitrary-sullivan",
   "metadata": {
    "execution": {
     "iopub.execute_input": "2021-12-21T02:06:36.964141Z",
     "iopub.status.busy": "2021-12-21T02:06:36.963546Z",
     "iopub.status.idle": "2021-12-21T02:06:36.993568Z",
     "shell.execute_reply": "2021-12-21T02:06:36.992835Z"
    },
    "papermill": {
     "duration": 0.054372,
     "end_time": "2021-12-21T02:06:36.993740",
     "exception": false,
     "start_time": "2021-12-21T02:06:36.939368",
     "status": "completed"
    },
    "tags": []
   },
   "outputs": [],
   "source": [
    "#hide\n",
    "#df_all_mrk = read_api()"
   ]
  },
  {
   "cell_type": "code",
   "execution_count": 9,
   "id": "delayed-adapter",
   "metadata": {
    "execution": {
     "iopub.execute_input": "2021-12-21T02:06:37.031456Z",
     "iopub.status.busy": "2021-12-21T02:06:37.030825Z",
     "iopub.status.idle": "2021-12-21T02:06:37.061892Z",
     "shell.execute_reply": "2021-12-21T02:06:37.061395Z"
    },
    "papermill": {
     "duration": 0.050488,
     "end_time": "2021-12-21T02:06:37.062026",
     "exception": false,
     "start_time": "2021-12-21T02:06:37.011538",
     "status": "completed"
    },
    "tags": []
   },
   "outputs": [],
   "source": [
    "#hide\n",
    "#Koreliacijų koeficientai"
   ]
  },
  {
   "cell_type": "code",
   "execution_count": 10,
   "id": "seeing-celebration",
   "metadata": {
    "execution": {
     "iopub.execute_input": "2021-12-21T02:06:37.099760Z",
     "iopub.status.busy": "2021-12-21T02:06:37.099168Z",
     "iopub.status.idle": "2021-12-21T02:06:37.133754Z",
     "shell.execute_reply": "2021-12-21T02:06:37.133165Z"
    },
    "papermill": {
     "duration": 0.056837,
     "end_time": "2021-12-21T02:06:37.133911",
     "exception": false,
     "start_time": "2021-12-21T02:06:37.077074",
     "status": "completed"
    },
    "tags": []
   },
   "outputs": [],
   "source": [
    "#hide_input\n",
    "#sum_corr = df_all_mrk.corr().sum().sort_values(ascending=True).index.values\n",
    "#df_all_mrk[sum_corr].corr()"
   ]
  },
  {
   "cell_type": "code",
   "execution_count": 11,
   "id": "other-painting",
   "metadata": {
    "execution": {
     "iopub.execute_input": "2021-12-21T02:06:37.167870Z",
     "iopub.status.busy": "2021-12-21T02:06:37.167290Z",
     "iopub.status.idle": "2021-12-21T02:06:37.197790Z",
     "shell.execute_reply": "2021-12-21T02:06:37.197028Z"
    },
    "papermill": {
     "duration": 0.047993,
     "end_time": "2021-12-21T02:06:37.197957",
     "exception": false,
     "start_time": "2021-12-21T02:06:37.149964",
     "status": "completed"
    },
    "tags": []
   },
   "outputs": [],
   "source": [
    "#hide\n",
    "#Koreliacijos matrica. "
   ]
  },
  {
   "cell_type": "code",
   "execution_count": 12,
   "id": "modular-magnitude",
   "metadata": {
    "execution": {
     "iopub.execute_input": "2021-12-21T02:06:37.230774Z",
     "iopub.status.busy": "2021-12-21T02:06:37.230130Z",
     "iopub.status.idle": "2021-12-21T02:06:37.259784Z",
     "shell.execute_reply": "2021-12-21T02:06:37.259161Z"
    },
    "papermill": {
     "duration": 0.046411,
     "end_time": "2021-12-21T02:06:37.259925",
     "exception": false,
     "start_time": "2021-12-21T02:06:37.213514",
     "status": "completed"
    },
    "tags": []
   },
   "outputs": [],
   "source": [
    "#hide_input\n",
    "#plt.figure(figsize=(15, 8))\n",
    "#sns.heatmap(df_all_mrk[sum_corr].corr(), annot=True, cmap=\"BrBG\");\n",
    "#plt.savefig('corr_matrix_all.eps', format='eps')"
   ]
  },
  {
   "cell_type": "code",
   "execution_count": null,
   "id": "original-senator",
   "metadata": {
    "papermill": {
     "duration": 0.014256,
     "end_time": "2021-12-21T02:06:37.288779",
     "exception": false,
     "start_time": "2021-12-21T02:06:37.274523",
     "status": "completed"
    },
    "tags": []
   },
   "outputs": [],
   "source": []
  },
  {
   "cell_type": "code",
   "execution_count": null,
   "id": "saving-secretariat",
   "metadata": {
    "papermill": {
     "duration": 0.014483,
     "end_time": "2021-12-21T02:06:37.317050",
     "exception": false,
     "start_time": "2021-12-21T02:06:37.302567",
     "status": "completed"
    },
    "tags": []
   },
   "outputs": [],
   "source": []
  }
 ],
 "metadata": {
  "kernelspec": {
   "display_name": "Python 3",
   "language": "python",
   "name": "python3"
  },
  "language_info": {
   "codemirror_mode": {
    "name": "ipython",
    "version": 3
   },
   "file_extension": ".py",
   "mimetype": "text/x-python",
   "name": "python",
   "nbconvert_exporter": "python",
   "pygments_lexer": "ipython3",
   "version": "3.6.15"
  },
  "papermill": {
   "default_parameters": {},
   "duration": 17.827082,
   "end_time": "2021-12-21T02:06:37.841896",
   "environment_variables": {},
   "exception": null,
   "input_path": "App-Correlation_charts.ipynb",
   "output_path": "App-Correlation_charts.ipynb",
   "parameters": {},
   "start_time": "2021-12-21T02:06:20.014814",
   "version": "2.2.2"
  }
 },
 "nbformat": 4,
 "nbformat_minor": 5
}