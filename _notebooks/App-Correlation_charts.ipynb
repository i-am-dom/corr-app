{
 "cells": [
  {
   "cell_type": "markdown",
   "id": "touched-facility",
   "metadata": {
    "papermill": {
     "duration": 0.01507,
     "end_time": "2022-03-19T02:11:32.633975",
     "exception": false,
     "start_time": "2022-03-19T02:11:32.618905",
     "status": "completed"
    },
    "tags": []
   },
   "source": [
    "# Koreliacijų matrica\n",
    "> Išplėstinė koreliacijų matrica. \n",
    "\n",
    "- toc: true \n",
    "- badges: true\n",
    "- comments: false\n",
    "- categories: [Dominykas Tautkus]\n",
    "- image: images/matrix.png"
   ]
  },
  {
   "cell_type": "code",
   "execution_count": null,
   "id": "premium-weekend",
   "metadata": {
    "papermill": {
     "duration": 0.010876,
     "end_time": "2022-03-19T02:11:32.656397",
     "exception": false,
     "start_time": "2022-03-19T02:11:32.645521",
     "status": "completed"
    },
    "tags": []
   },
   "outputs": [],
   "source": []
  },
  {
   "cell_type": "code",
   "execution_count": 1,
   "id": "vertical-rebate",
   "metadata": {
    "execution": {
     "iopub.execute_input": "2022-03-19T02:11:32.688637Z",
     "iopub.status.busy": "2022-03-19T02:11:32.685512Z",
     "iopub.status.idle": "2022-03-19T02:11:32.698554Z",
     "shell.execute_reply": "2022-03-19T02:11:32.699024Z"
    },
    "papermill": {
     "duration": 0.032138,
     "end_time": "2022-03-19T02:11:32.699184",
     "exception": false,
     "start_time": "2022-03-19T02:11:32.667046",
     "status": "completed"
    },
    "tags": []
   },
   "outputs": [],
   "source": [
    "#hide\n",
    "%load_ext autoreload\n",
    "%autoreload 2"
   ]
  },
  {
   "cell_type": "code",
   "execution_count": 2,
   "id": "overall-advancement",
   "metadata": {
    "execution": {
     "iopub.execute_input": "2022-03-19T02:11:32.728996Z",
     "iopub.status.busy": "2022-03-19T02:11:32.728462Z",
     "iopub.status.idle": "2022-03-19T02:11:34.298041Z",
     "shell.execute_reply": "2022-03-19T02:11:34.297498Z"
    },
    "papermill": {
     "duration": 1.588345,
     "end_time": "2022-03-19T02:11:34.298187",
     "exception": false,
     "start_time": "2022-03-19T02:11:32.709842",
     "status": "completed"
    },
    "tags": []
   },
   "outputs": [],
   "source": [
    "#hide\n",
    "from scripts.read_data import read_api\n",
    "from IPython.display import HTML\n",
    "import plotly.graph_objects as go\n"
   ]
  },
  {
   "cell_type": "code",
   "execution_count": 3,
   "id": "light-crazy",
   "metadata": {
    "execution": {
     "iopub.execute_input": "2022-03-19T02:11:34.325984Z",
     "iopub.status.busy": "2022-03-19T02:11:34.325439Z",
     "iopub.status.idle": "2022-03-19T02:11:34.349018Z",
     "shell.execute_reply": "2022-03-19T02:11:34.348464Z"
    },
    "papermill": {
     "duration": 0.039401,
     "end_time": "2022-03-19T02:11:34.349153",
     "exception": false,
     "start_time": "2022-03-19T02:11:34.309752",
     "status": "completed"
    },
    "tags": []
   },
   "outputs": [],
   "source": [
    "#hide\n",
    "### ICO koreliacija"
   ]
  },
  {
   "cell_type": "code",
   "execution_count": 4,
   "id": "likely-bahrain",
   "metadata": {
    "execution": {
     "iopub.execute_input": "2022-03-19T02:11:34.375283Z",
     "iopub.status.busy": "2022-03-19T02:11:34.374715Z",
     "iopub.status.idle": "2022-03-19T02:11:35.335255Z",
     "shell.execute_reply": "2022-03-19T02:11:35.335751Z"
    },
    "papermill": {
     "duration": 0.975433,
     "end_time": "2022-03-19T02:11:35.335921",
     "exception": false,
     "start_time": "2022-03-19T02:11:34.360488",
     "status": "completed"
    },
    "tags": []
   },
   "outputs": [],
   "source": [
    "#hide\n",
    "import matplotlib.pyplot as plt\n",
    "import numpy as np\n",
    "import pandas as pd\n",
    "import seaborn as sns\n",
    "import matplotlib.pyplot as plt \n",
    "import matplotlib.dates as mdates\n",
    "import matplotlib.pyplot as plt"
   ]
  },
  {
   "cell_type": "code",
   "execution_count": 5,
   "id": "superior-blanket",
   "metadata": {
    "execution": {
     "iopub.execute_input": "2022-03-19T02:11:35.370049Z",
     "iopub.status.busy": "2022-03-19T02:11:35.369100Z",
     "iopub.status.idle": "2022-03-19T02:11:44.936881Z",
     "shell.execute_reply": "2022-03-19T02:11:44.936369Z"
    },
    "papermill": {
     "duration": 9.589762,
     "end_time": "2022-03-19T02:11:44.937009",
     "exception": false,
     "start_time": "2022-03-19T02:11:35.347247",
     "status": "completed"
    },
    "tags": []
   },
   "outputs": [
    {
     "name": "stderr",
     "output_type": "stream",
     "text": [
      "/home/runner/work/corr-app/corr-app/_notebooks/scripts/read_data.py:187: SettingWithCopyWarning:\n",
      "\n",
      "\n",
      "A value is trying to be set on a copy of a slice from a DataFrame.\n",
      "Try using .loc[row_indexer,col_indexer] = value instead\n",
      "\n",
      "See the caveats in the documentation: https://pandas.pydata.org/pandas-docs/stable/user_guide/indexing.html#returning-a-view-versus-a-copy\n",
      "\n"
     ]
    },
    {
     "name": "stderr",
     "output_type": "stream",
     "text": [
      "/home/runner/work/corr-app/corr-app/_notebooks/scripts/read_data.py:215: SettingWithCopyWarning:\n",
      "\n",
      "\n",
      "A value is trying to be set on a copy of a slice from a DataFrame.\n",
      "Try using .loc[row_indexer,col_indexer] = value instead\n",
      "\n",
      "See the caveats in the documentation: https://pandas.pydata.org/pandas-docs/stable/user_guide/indexing.html#returning-a-view-versus-a-copy\n",
      "\n"
     ]
    }
   ],
   "source": [
    "#hide\n",
    "df_all = read_api()\n",
    "#df_all = df_all.drop(['SP500', 'XAU', 'ETH', 'BTC'], axis=1)\n",
    "\n"
   ]
  },
  {
   "cell_type": "code",
   "execution_count": 6,
   "id": "mature-alert",
   "metadata": {
    "execution": {
     "iopub.execute_input": "2022-03-19T02:11:44.972182Z",
     "iopub.status.busy": "2022-03-19T02:11:44.968254Z",
     "iopub.status.idle": "2022-03-19T02:11:44.998175Z",
     "shell.execute_reply": "2022-03-19T02:11:44.997727Z"
    },
    "papermill": {
     "duration": 0.049499,
     "end_time": "2022-03-19T02:11:44.998306",
     "exception": false,
     "start_time": "2022-03-19T02:11:44.948807",
     "status": "completed"
    },
    "tags": []
   },
   "outputs": [],
   "source": [
    "#hide_input\n",
    "sum_corr = df_all.corr().sum().sort_values(ascending=True).index.values\n",
    "#df_all[sum_corr].corr()"
   ]
  },
  {
   "cell_type": "markdown",
   "id": "complex-syndicate",
   "metadata": {
    "papermill": {
     "duration": 0.011569,
     "end_time": "2022-03-19T02:11:45.021400",
     "exception": false,
     "start_time": "2022-03-19T02:11:45.009831",
     "status": "completed"
    },
    "tags": []
   },
   "source": [
    "## Išplėstinė koreliacijų matrica. "
   ]
  },
  {
   "cell_type": "code",
   "execution_count": 7,
   "id": "atomic-omaha",
   "metadata": {
    "execution": {
     "iopub.execute_input": "2022-03-19T02:11:45.059915Z",
     "iopub.status.busy": "2022-03-19T02:11:45.057136Z",
     "iopub.status.idle": "2022-03-19T02:11:46.333806Z",
     "shell.execute_reply": "2022-03-19T02:11:46.333365Z"
    },
    "papermill": {
     "duration": 1.301244,
     "end_time": "2022-03-19T02:11:46.333925",
     "exception": false,
     "start_time": "2022-03-19T02:11:45.032681",
     "status": "completed"
    },
    "tags": []
   },
   "outputs": [
    {
     "data": {
      "image/png": "[encoded data removed]",
      "text/plain": [
       "<Figure size 1080x792 with 2 Axes>"
      ]
     },
     "metadata": {
      "needs_background": "light"
     },
     "output_type": "display_data"
    }
   ],
   "source": [
    "#hide_input\n",
    "plt.figure(figsize=(15, 11))\n",
    "sns.heatmap(df_all[sum_corr].corr(), annot=True, cmap=\"cubehelix\") \n",
    "sns.set(font_scale=1.25)\n",
    "plt.savefig('corr_matrix.png', format='eps')"
   ]
  },
  {
   "cell_type": "code",
   "execution_count": 8,
   "id": "arbitrary-sullivan",
   "metadata": {
    "execution": {
     "iopub.execute_input": "2022-03-19T02:11:46.368154Z",
     "iopub.status.busy": "2022-03-19T02:11:46.367627Z",
     "iopub.status.idle": "2022-03-19T02:11:46.393718Z",
     "shell.execute_reply": "2022-03-19T02:11:46.393238Z"
    },
    "papermill": {
     "duration": 0.04619,
     "end_time": "2022-03-19T02:11:46.393846",
     "exception": false,
     "start_time": "2022-03-19T02:11:46.347656",
     "status": "completed"
    },
    "tags": []
   },
   "outputs": [],
   "source": [
    "#hide\n",
    "#df_all_mrk = read_api()"
   ]
  },
  {
   "cell_type": "code",
   "execution_count": 9,
   "id": "delayed-adapter",
   "metadata": {
    "execution": {
     "iopub.execute_input": "2022-03-19T02:11:46.424641Z",
     "iopub.status.busy": "2022-03-19T02:11:46.423766Z",
     "iopub.status.idle": "2022-03-19T02:11:46.451792Z",
     "shell.execute_reply": "2022-03-19T02:11:46.451296Z"
    },
    "papermill": {
     "duration": 0.044689,
     "end_time": "2022-03-19T02:11:46.451930",
     "exception": false,
     "start_time": "2022-03-19T02:11:46.407241",
     "status": "completed"
    },
    "tags": []
   },
   "outputs": [],
   "source": [
    "#hide\n",
    "#Koreliacijų koeficientai"
   ]
  },
  {
   "cell_type": "code",
   "execution_count": 10,
   "id": "seeing-celebration",
   "metadata": {
    "execution": {
     "iopub.execute_input": "2022-03-19T02:11:46.484334Z",
     "iopub.status.busy": "2022-03-19T02:11:46.483791Z",
     "iopub.status.idle": "2022-03-19T02:11:46.512515Z",
     "shell.execute_reply": "2022-03-19T02:11:46.511986Z"
    },
    "papermill": {
     "duration": 0.045462,
     "end_time": "2022-03-19T02:11:46.512659",
     "exception": false,
     "start_time": "2022-03-19T02:11:46.467197",
     "status": "completed"
    },
    "tags": []
   },
   "outputs": [],
   "source": [
    "#hide_input\n",
    "#sum_corr = df_all_mrk.corr().sum().sort_values(ascending=True).index.values\n",
    "#df_all_mrk[sum_corr].corr()"
   ]
  },
  {
   "cell_type": "code",
   "execution_count": 11,
   "id": "other-painting",
   "metadata": {
    "execution": {
     "iopub.execute_input": "2022-03-19T02:11:46.545099Z",
     "iopub.status.busy": "2022-03-19T02:11:46.544584Z",
     "iopub.status.idle": "2022-03-19T02:11:46.574160Z",
     "shell.execute_reply": "2022-03-19T02:11:46.574596Z"
    },
    "papermill": {
     "duration": 0.046501,
     "end_time": "2022-03-19T02:11:46.574741",
     "exception": false,
     "start_time": "2022-03-19T02:11:46.528240",
     "status": "completed"
    },
    "tags": []
   },
   "outputs": [],
   "source": [
    "#hide\n",
    "#Koreliacijos matrica. "
   ]
  },
  {
   "cell_type": "code",
   "execution_count": 12,
   "id": "modular-magnitude",
   "metadata": {
    "execution": {
     "iopub.execute_input": "2022-03-19T02:11:46.609361Z",
     "iopub.status.busy": "2022-03-19T02:11:46.608812Z",
     "iopub.status.idle": "2022-03-19T02:11:46.634055Z",
     "shell.execute_reply": "2022-03-19T02:11:46.633571Z"
    },
    "papermill": {
     "duration": 0.045901,
     "end_time": "2022-03-19T02:11:46.634192",
     "exception": false,
     "start_time": "2022-03-19T02:11:46.588291",
     "status": "completed"
    },
    "tags": []
   },
   "outputs": [],
   "source": [
    "#hide_input\n",
    "#plt.figure(figsize=(15, 8))\n",
    "#sns.heatmap(df_all_mrk[sum_corr].corr(), annot=True, cmap=\"BrBG\");\n",
    "#plt.savefig('corr_matrix_all.eps', format='eps')"
   ]
  },
  {
   "cell_type": "code",
   "execution_count": null,
   "id": "original-senator",
   "metadata": {
    "papermill": {
     "duration": 0.01318,
     "end_time": "2022-03-19T02:11:46.661453",
     "exception": false,
     "start_time": "2022-03-19T02:11:46.648273",
     "status": "completed"
    },
    "tags": []
   },
   "outputs": [],
   "source": []
  },
  {
   "cell_type": "code",
   "execution_count": null,
   "id": "saving-secretariat",
   "metadata": {
    "papermill": {
     "duration": 0.01313,
     "end_time": "2022-03-19T02:11:46.687655",
     "exception": false,
     "start_time": "2022-03-19T02:11:46.674525",
     "status": "completed"
    },
    "tags": []
   },
   "outputs": [],
   "source": []
  }
 ],
 "metadata": {
  "kernelspec": {
   "display_name": "Python 3",
   "language": "python",
   "name": "python3"
  },
  "language_info": {
   "codemirror_mode": {
    "name": "ipython",
    "version": 3
   },
   "file_extension": ".py",
   "mimetype": "text/x-python",
   "name": "python",
   "nbconvert_exporter": "python",
   "pygments_lexer": "ipython3",
   "version": "3.6.15"
  },
  "papermill": {
   "default_parameters": {},
   "duration": 15.656376,
   "end_time": "2022-03-19T02:11:47.320667",
   "environment_variables": {},
   "exception": null,
   "input_path": "App-Correlation_charts.ipynb",
   "output_path": "App-Correlation_charts.ipynb",
   "parameters": {},
   "start_time": "2022-03-19T02:11:31.664291",
   "version": "2.2.2"
  }
 },
 "nbformat": 4,
 "nbformat_minor": 5
}