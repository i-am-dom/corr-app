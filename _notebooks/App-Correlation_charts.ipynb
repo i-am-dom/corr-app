{
 "cells": [
  {
   "cell_type": "markdown",
   "id": "touched-facility",
   "metadata": {
    "papermill": {
     "duration": 0.016719,
     "end_time": "2022-06-21T03:09:33.830250",
     "exception": false,
     "start_time": "2022-06-21T03:09:33.813531",
     "status": "completed"
    },
    "tags": []
   },
   "source": [
    "# Koreliacijų matrica\n",
    "> Išplėstinė koreliacijų matrica. \n",
    "\n",
    "- toc: true \n",
    "- badges: true\n",
    "- comments: false\n",
    "- categories: [Dominykas Tautkus]\n",
    "- image: images/matrix.png"
   ]
  },
  {
   "cell_type": "code",
   "execution_count": null,
   "id": "premium-weekend",
   "metadata": {
    "papermill": {
     "duration": 0.012605,
     "end_time": "2022-06-21T03:09:33.860324",
     "exception": false,
     "start_time": "2022-06-21T03:09:33.847719",
     "status": "completed"
    },
    "tags": []
   },
   "outputs": [],
   "source": []
  },
  {
   "cell_type": "code",
   "execution_count": 1,
   "id": "vertical-rebate",
   "metadata": {
    "execution": {
     "iopub.execute_input": "2022-06-21T03:09:33.896880Z",
     "iopub.status.busy": "2022-06-21T03:09:33.896075Z",
     "iopub.status.idle": "2022-06-21T03:09:33.908742Z",
     "shell.execute_reply": "2022-06-21T03:09:33.908169Z"
    },
    "papermill": {
     "duration": 0.035996,
     "end_time": "2022-06-21T03:09:33.908870",
     "exception": false,
     "start_time": "2022-06-21T03:09:33.872874",
     "status": "completed"
    },
    "tags": []
   },
   "outputs": [],
   "source": [
    "#hide\n",
    "%load_ext autoreload\n",
    "%autoreload 2"
   ]
  },
  {
   "cell_type": "code",
   "execution_count": 2,
   "id": "overall-advancement",
   "metadata": {
    "execution": {
     "iopub.execute_input": "2022-06-21T03:09:33.938737Z",
     "iopub.status.busy": "2022-06-21T03:09:33.938010Z",
     "iopub.status.idle": "2022-06-21T03:09:35.377183Z",
     "shell.execute_reply": "2022-06-21T03:09:35.376520Z"
    },
    "papermill": {
     "duration": 1.455666,
     "end_time": "2022-06-21T03:09:35.377339",
     "exception": false,
     "start_time": "2022-06-21T03:09:33.921673",
     "status": "completed"
    },
    "tags": []
   },
   "outputs": [],
   "source": [
    "#hide\n",
    "from scripts.read_data import read_api\n",
    "from IPython.display import HTML\n",
    "import plotly.graph_objects as go\n"
   ]
  },
  {
   "cell_type": "code",
   "execution_count": 3,
   "id": "light-crazy",
   "metadata": {
    "execution": {
     "iopub.execute_input": "2022-06-21T03:09:35.408342Z",
     "iopub.status.busy": "2022-06-21T03:09:35.407674Z",
     "iopub.status.idle": "2022-06-21T03:09:35.431640Z",
     "shell.execute_reply": "2022-06-21T03:09:35.432143Z"
    },
    "papermill": {
     "duration": 0.041401,
     "end_time": "2022-06-21T03:09:35.432275",
     "exception": false,
     "start_time": "2022-06-21T03:09:35.390874",
     "status": "completed"
    },
    "tags": []
   },
   "outputs": [],
   "source": [
    "#hide\n",
    "### ICO koreliacija"
   ]
  },
  {
   "cell_type": "code",
   "execution_count": 4,
   "id": "likely-bahrain",
   "metadata": {
    "execution": {
     "iopub.execute_input": "2022-06-21T03:09:35.461169Z",
     "iopub.status.busy": "2022-06-21T03:09:35.460495Z",
     "iopub.status.idle": "2022-06-21T03:09:36.541299Z",
     "shell.execute_reply": "2022-06-21T03:09:36.541877Z"
    },
    "papermill": {
     "duration": 1.097217,
     "end_time": "2022-06-21T03:09:36.542095",
     "exception": false,
     "start_time": "2022-06-21T03:09:35.444878",
     "status": "completed"
    },
    "tags": []
   },
   "outputs": [],
   "source": [
    "#hide\n",
    "import matplotlib.pyplot as plt\n",
    "import numpy as np\n",
    "import pandas as pd\n",
    "import seaborn as sns\n",
    "import matplotlib.pyplot as plt \n",
    "import matplotlib.dates as mdates\n",
    "import matplotlib.pyplot as plt"
   ]
  },
  {
   "cell_type": "code",
   "execution_count": 5,
   "id": "superior-blanket",
   "metadata": {
    "execution": {
     "iopub.execute_input": "2022-06-21T03:09:36.572204Z",
     "iopub.status.busy": "2022-06-21T03:09:36.571531Z",
     "iopub.status.idle": "2022-06-21T03:09:51.254592Z",
     "shell.execute_reply": "2022-06-21T03:09:51.253972Z"
    },
    "papermill": {
     "duration": 14.699489,
     "end_time": "2022-06-21T03:09:51.254729",
     "exception": false,
     "start_time": "2022-06-21T03:09:36.555240",
     "status": "completed"
    },
    "tags": []
   },
   "outputs": [
    {
     "name": "stderr",
     "output_type": "stream",
     "text": [
      "/home/runner/work/corr-app/corr-app/_notebooks/scripts/read_data.py:187: SettingWithCopyWarning:\n",
      "\n",
      "\n",
      "A value is trying to be set on a copy of a slice from a DataFrame.\n",
      "Try using .loc[row_indexer,col_indexer] = value instead\n",
      "\n",
      "See the caveats in the documentation: https://pandas.pydata.org/pandas-docs/stable/user_guide/indexing.html#returning-a-view-versus-a-copy\n",
      "\n"
     ]
    },
    {
     "name": "stderr",
     "output_type": "stream",
     "text": [
      "/home/runner/work/corr-app/corr-app/_notebooks/scripts/read_data.py:215: SettingWithCopyWarning:\n",
      "\n",
      "\n",
      "A value is trying to be set on a copy of a slice from a DataFrame.\n",
      "Try using .loc[row_indexer,col_indexer] = value instead\n",
      "\n",
      "See the caveats in the documentation: https://pandas.pydata.org/pandas-docs/stable/user_guide/indexing.html#returning-a-view-versus-a-copy\n",
      "\n"
     ]
    }
   ],
   "source": [
    "#hide\n",
    "df_all = read_api()\n",
    "#df_all = df_all.drop(['SP500', 'XAU', 'ETH', 'BTC'], axis=1)\n",
    "\n"
   ]
  },
  {
   "cell_type": "code",
   "execution_count": 6,
   "id": "mature-alert",
   "metadata": {
    "execution": {
     "iopub.execute_input": "2022-06-21T03:09:51.291942Z",
     "iopub.status.busy": "2022-06-21T03:09:51.291165Z",
     "iopub.status.idle": "2022-06-21T03:09:51.326458Z",
     "shell.execute_reply": "2022-06-21T03:09:51.325820Z"
    },
    "papermill": {
     "duration": 0.058375,
     "end_time": "2022-06-21T03:09:51.326591",
     "exception": false,
     "start_time": "2022-06-21T03:09:51.268216",
     "status": "completed"
    },
    "tags": []
   },
   "outputs": [],
   "source": [
    "#hide_input\n",
    "sum_corr = df_all.corr().sum().sort_values(ascending=True).index.values\n",
    "#df_all[sum_corr].corr()"
   ]
  },
  {
   "cell_type": "markdown",
   "id": "complex-syndicate",
   "metadata": {
    "papermill": {
     "duration": 0.012612,
     "end_time": "2022-06-21T03:09:51.352836",
     "exception": false,
     "start_time": "2022-06-21T03:09:51.340224",
     "status": "completed"
    },
    "tags": []
   },
   "source": [
    "## Išplėstinė koreliacijų matrica. "
   ]
  },
  {
   "cell_type": "code",
   "execution_count": 7,
   "id": "atomic-omaha",
   "metadata": {
    "execution": {
     "iopub.execute_input": "2022-06-21T03:09:51.385614Z",
     "iopub.status.busy": "2022-06-21T03:09:51.384923Z",
     "iopub.status.idle": "2022-06-21T03:09:52.976517Z",
     "shell.execute_reply": "2022-06-21T03:09:52.977117Z"
    },
    "papermill": {
     "duration": 1.611451,
     "end_time": "2022-06-21T03:09:52.977282",
     "exception": false,
     "start_time": "2022-06-21T03:09:51.365831",
     "status": "completed"
    },
    "tags": []
   },
   "outputs": [
    {
     "data": {
      "image/png": "[encoded data removed]",
      "text/plain": [
       "<Figure size 1080x792 with 2 Axes>"
      ]
     },
     "metadata": {
      "needs_background": "light"
     },
     "output_type": "display_data"
    }
   ],
   "source": [
    "#hide_input\n",
    "plt.figure(figsize=(15, 11))\n",
    "sns.heatmap(df_all[sum_corr].corr(), annot=True, cmap=\"cubehelix\") \n",
    "sns.set(font_scale=1.25)\n",
    "plt.savefig('corr_matrix.png', format='eps')"
   ]
  },
  {
   "cell_type": "code",
   "execution_count": 8,
   "id": "arbitrary-sullivan",
   "metadata": {
    "execution": {
     "iopub.execute_input": "2022-06-21T03:09:53.015060Z",
     "iopub.status.busy": "2022-06-21T03:09:53.014323Z",
     "iopub.status.idle": "2022-06-21T03:09:53.045047Z",
     "shell.execute_reply": "2022-06-21T03:09:53.044290Z"
    },
    "papermill": {
     "duration": 0.051089,
     "end_time": "2022-06-21T03:09:53.045190",
     "exception": false,
     "start_time": "2022-06-21T03:09:52.994101",
     "status": "completed"
    },
    "tags": []
   },
   "outputs": [],
   "source": [
    "#hide\n",
    "#df_all_mrk = read_api()"
   ]
  },
  {
   "cell_type": "code",
   "execution_count": 9,
   "id": "delayed-adapter",
   "metadata": {
    "execution": {
     "iopub.execute_input": "2022-06-21T03:09:53.081310Z",
     "iopub.status.busy": "2022-06-21T03:09:53.080549Z",
     "iopub.status.idle": "2022-06-21T03:09:53.115599Z",
     "shell.execute_reply": "2022-06-21T03:09:53.114951Z"
    },
    "papermill": {
     "duration": 0.054379,
     "end_time": "2022-06-21T03:09:53.115746",
     "exception": false,
     "start_time": "2022-06-21T03:09:53.061367",
     "status": "completed"
    },
    "tags": []
   },
   "outputs": [],
   "source": [
    "#hide\n",
    "#Koreliacijų koeficientai"
   ]
  },
  {
   "cell_type": "code",
   "execution_count": 10,
   "id": "seeing-celebration",
   "metadata": {
    "execution": {
     "iopub.execute_input": "2022-06-21T03:09:53.155085Z",
     "iopub.status.busy": "2022-06-21T03:09:53.154338Z",
     "iopub.status.idle": "2022-06-21T03:09:53.184818Z",
     "shell.execute_reply": "2022-06-21T03:09:53.184080Z"
    },
    "papermill": {
     "duration": 0.052303,
     "end_time": "2022-06-21T03:09:53.184962",
     "exception": false,
     "start_time": "2022-06-21T03:09:53.132659",
     "status": "completed"
    },
    "tags": []
   },
   "outputs": [],
   "source": [
    "#hide_input\n",
    "#sum_corr = df_all_mrk.corr().sum().sort_values(ascending=True).index.values\n",
    "#df_all_mrk[sum_corr].corr()"
   ]
  },
  {
   "cell_type": "code",
   "execution_count": 11,
   "id": "other-painting",
   "metadata": {
    "execution": {
     "iopub.execute_input": "2022-06-21T03:09:53.222621Z",
     "iopub.status.busy": "2022-06-21T03:09:53.221841Z",
     "iopub.status.idle": "2022-06-21T03:09:53.253669Z",
     "shell.execute_reply": "2022-06-21T03:09:53.254721Z"
    },
    "papermill": {
     "duration": 0.053667,
     "end_time": "2022-06-21T03:09:53.254897",
     "exception": false,
     "start_time": "2022-06-21T03:09:53.201230",
     "status": "completed"
    },
    "tags": []
   },
   "outputs": [],
   "source": [
    "#hide\n",
    "#Koreliacijos matrica. "
   ]
  },
  {
   "cell_type": "code",
   "execution_count": 12,
   "id": "modular-magnitude",
   "metadata": {
    "execution": {
     "iopub.execute_input": "2022-06-21T03:09:53.297557Z",
     "iopub.status.busy": "2022-06-21T03:09:53.296802Z",
     "iopub.status.idle": "2022-06-21T03:09:53.326508Z",
     "shell.execute_reply": "2022-06-21T03:09:53.327087Z"
    },
    "papermill": {
     "duration": 0.055239,
     "end_time": "2022-06-21T03:09:53.327260",
     "exception": false,
     "start_time": "2022-06-21T03:09:53.272021",
     "status": "completed"
    },
    "tags": []
   },
   "outputs": [],
   "source": [
    "#hide_input\n",
    "#plt.figure(figsize=(15, 8))\n",
    "#sns.heatmap(df_all_mrk[sum_corr].corr(), annot=True, cmap=\"BrBG\");\n",
    "#plt.savefig('corr_matrix_all.eps', format='eps')"
   ]
  },
  {
   "cell_type": "code",
   "execution_count": null,
   "id": "original-senator",
   "metadata": {
    "papermill": {
     "duration": 0.017054,
     "end_time": "2022-06-21T03:09:53.361373",
     "exception": false,
     "start_time": "2022-06-21T03:09:53.344319",
     "status": "completed"
    },
    "tags": []
   },
   "outputs": [],
   "source": []
  },
  {
   "cell_type": "code",
   "execution_count": null,
   "id": "saving-secretariat",
   "metadata": {
    "papermill": {
     "duration": 0.015984,
     "end_time": "2022-06-21T03:09:53.393739",
     "exception": false,
     "start_time": "2022-06-21T03:09:53.377755",
     "status": "completed"
    },
    "tags": []
   },
   "outputs": [],
   "source": []
  }
 ],
 "metadata": {
  "kernelspec": {
   "display_name": "Python 3",
   "language": "python",
   "name": "python3"
  },
  "language_info": {
   "codemirror_mode": {
    "name": "ipython",
    "version": 3
   },
   "file_extension": ".py",
   "mimetype": "text/x-python",
   "name": "python",
   "nbconvert_exporter": "python",
   "pygments_lexer": "ipython3",
   "version": "3.6.15"
  },
  "papermill": {
   "default_parameters": {},
   "duration": 21.398291,
   "end_time": "2022-06-21T03:09:53.929095",
   "environment_variables": {},
   "exception": null,
   "input_path": "App-Correlation_charts.ipynb",
   "output_path": "App-Correlation_charts.ipynb",
   "parameters": {},
   "start_time": "2022-06-21T03:09:32.530804",
   "version": "2.2.2"
  }
 },
 "nbformat": 4,
 "nbformat_minor": 5
}