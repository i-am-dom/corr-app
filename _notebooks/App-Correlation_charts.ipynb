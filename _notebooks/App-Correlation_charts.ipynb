{
 "cells": [
  {
   "cell_type": "markdown",
   "id": "touched-facility",
   "metadata": {
    "papermill": {
     "duration": 0.016914,
     "end_time": "2022-04-29T03:05:15.721839",
     "exception": false,
     "start_time": "2022-04-29T03:05:15.704925",
     "status": "completed"
    },
    "tags": []
   },
   "source": [
    "# Koreliacijų matrica\n",
    "> Išplėstinė koreliacijų matrica. \n",
    "\n",
    "- toc: true \n",
    "- badges: true\n",
    "- comments: false\n",
    "- categories: [Dominykas Tautkus]\n",
    "- image: images/matrix.png"
   ]
  },
  {
   "cell_type": "code",
   "execution_count": null,
   "id": "premium-weekend",
   "metadata": {
    "papermill": {
     "duration": 0.013213,
     "end_time": "2022-04-29T03:05:15.750318",
     "exception": false,
     "start_time": "2022-04-29T03:05:15.737105",
     "status": "completed"
    },
    "tags": []
   },
   "outputs": [],
   "source": []
  },
  {
   "cell_type": "code",
   "execution_count": 1,
   "id": "vertical-rebate",
   "metadata": {
    "execution": {
     "iopub.execute_input": "2022-04-29T03:05:15.790106Z",
     "iopub.status.busy": "2022-04-29T03:05:15.789447Z",
     "iopub.status.idle": "2022-04-29T03:05:15.801929Z",
     "shell.execute_reply": "2022-04-29T03:05:15.801332Z"
    },
    "papermill": {
     "duration": 0.037432,
     "end_time": "2022-04-29T03:05:15.802081",
     "exception": false,
     "start_time": "2022-04-29T03:05:15.764649",
     "status": "completed"
    },
    "tags": []
   },
   "outputs": [],
   "source": [
    "#hide\n",
    "%load_ext autoreload\n",
    "%autoreload 2"
   ]
  },
  {
   "cell_type": "code",
   "execution_count": 2,
   "id": "overall-advancement",
   "metadata": {
    "execution": {
     "iopub.execute_input": "2022-04-29T03:05:15.832650Z",
     "iopub.status.busy": "2022-04-29T03:05:15.832012Z",
     "iopub.status.idle": "2022-04-29T03:05:17.504727Z",
     "shell.execute_reply": "2022-04-29T03:05:17.505533Z"
    },
    "papermill": {
     "duration": 1.690949,
     "end_time": "2022-04-29T03:05:17.505713",
     "exception": false,
     "start_time": "2022-04-29T03:05:15.814764",
     "status": "completed"
    },
    "tags": []
   },
   "outputs": [],
   "source": [
    "#hide\n",
    "from scripts.read_data import read_api\n",
    "from IPython.display import HTML\n",
    "import plotly.graph_objects as go\n"
   ]
  },
  {
   "cell_type": "code",
   "execution_count": 3,
   "id": "light-crazy",
   "metadata": {
    "execution": {
     "iopub.execute_input": "2022-04-29T03:05:17.535949Z",
     "iopub.status.busy": "2022-04-29T03:05:17.535305Z",
     "iopub.status.idle": "2022-04-29T03:05:17.563669Z",
     "shell.execute_reply": "2022-04-29T03:05:17.564150Z"
    },
    "papermill": {
     "duration": 0.045334,
     "end_time": "2022-04-29T03:05:17.564316",
     "exception": false,
     "start_time": "2022-04-29T03:05:17.518982",
     "status": "completed"
    },
    "tags": []
   },
   "outputs": [],
   "source": [
    "#hide\n",
    "### ICO koreliacija"
   ]
  },
  {
   "cell_type": "code",
   "execution_count": 4,
   "id": "likely-bahrain",
   "metadata": {
    "execution": {
     "iopub.execute_input": "2022-04-29T03:05:17.601243Z",
     "iopub.status.busy": "2022-04-29T03:05:17.599585Z",
     "iopub.status.idle": "2022-04-29T03:05:18.592283Z",
     "shell.execute_reply": "2022-04-29T03:05:18.590979Z"
    },
    "papermill": {
     "duration": 1.015622,
     "end_time": "2022-04-29T03:05:18.592456",
     "exception": false,
     "start_time": "2022-04-29T03:05:17.576834",
     "status": "completed"
    },
    "tags": []
   },
   "outputs": [],
   "source": [
    "#hide\n",
    "import matplotlib.pyplot as plt\n",
    "import numpy as np\n",
    "import pandas as pd\n",
    "import seaborn as sns\n",
    "import matplotlib.pyplot as plt \n",
    "import matplotlib.dates as mdates\n",
    "import matplotlib.pyplot as plt"
   ]
  },
  {
   "cell_type": "code",
   "execution_count": 5,
   "id": "superior-blanket",
   "metadata": {
    "execution": {
     "iopub.execute_input": "2022-04-29T03:05:18.624709Z",
     "iopub.status.busy": "2022-04-29T03:05:18.623121Z",
     "iopub.status.idle": "2022-04-29T03:05:27.861139Z",
     "shell.execute_reply": "2022-04-29T03:05:27.860539Z"
    },
    "papermill": {
     "duration": 9.256004,
     "end_time": "2022-04-29T03:05:27.861289",
     "exception": false,
     "start_time": "2022-04-29T03:05:18.605285",
     "status": "completed"
    },
    "tags": []
   },
   "outputs": [
    {
     "name": "stderr",
     "output_type": "stream",
     "text": [
      "/home/runner/work/corr-app/corr-app/_notebooks/scripts/read_data.py:187: SettingWithCopyWarning:\n",
      "\n",
      "\n",
      "A value is trying to be set on a copy of a slice from a DataFrame.\n",
      "Try using .loc[row_indexer,col_indexer] = value instead\n",
      "\n",
      "See the caveats in the documentation: https://pandas.pydata.org/pandas-docs/stable/user_guide/indexing.html#returning-a-view-versus-a-copy\n",
      "\n"
     ]
    },
    {
     "name": "stderr",
     "output_type": "stream",
     "text": [
      "/home/runner/work/corr-app/corr-app/_notebooks/scripts/read_data.py:215: SettingWithCopyWarning:\n",
      "\n",
      "\n",
      "A value is trying to be set on a copy of a slice from a DataFrame.\n",
      "Try using .loc[row_indexer,col_indexer] = value instead\n",
      "\n",
      "See the caveats in the documentation: https://pandas.pydata.org/pandas-docs/stable/user_guide/indexing.html#returning-a-view-versus-a-copy\n",
      "\n"
     ]
    }
   ],
   "source": [
    "#hide\n",
    "df_all = read_api()\n",
    "#df_all = df_all.drop(['SP500', 'XAU', 'ETH', 'BTC'], axis=1)\n",
    "\n"
   ]
  },
  {
   "cell_type": "code",
   "execution_count": 6,
   "id": "mature-alert",
   "metadata": {
    "execution": {
     "iopub.execute_input": "2022-04-29T03:05:27.895952Z",
     "iopub.status.busy": "2022-04-29T03:05:27.895293Z",
     "iopub.status.idle": "2022-04-29T03:05:27.930977Z",
     "shell.execute_reply": "2022-04-29T03:05:27.929883Z"
    },
    "papermill": {
     "duration": 0.056256,
     "end_time": "2022-04-29T03:05:27.931136",
     "exception": false,
     "start_time": "2022-04-29T03:05:27.874880",
     "status": "completed"
    },
    "tags": []
   },
   "outputs": [],
   "source": [
    "#hide_input\n",
    "sum_corr = df_all.corr().sum().sort_values(ascending=True).index.values\n",
    "#df_all[sum_corr].corr()"
   ]
  },
  {
   "cell_type": "markdown",
   "id": "complex-syndicate",
   "metadata": {
    "papermill": {
     "duration": 0.016703,
     "end_time": "2022-04-29T03:05:27.961386",
     "exception": false,
     "start_time": "2022-04-29T03:05:27.944683",
     "status": "completed"
    },
    "tags": []
   },
   "source": [
    "## Išplėstinė koreliacijų matrica. "
   ]
  },
  {
   "cell_type": "code",
   "execution_count": 7,
   "id": "atomic-omaha",
   "metadata": {
    "execution": {
     "iopub.execute_input": "2022-04-29T03:05:27.998048Z",
     "iopub.status.busy": "2022-04-29T03:05:27.994847Z",
     "iopub.status.idle": "2022-04-29T03:05:29.430186Z",
     "shell.execute_reply": "2022-04-29T03:05:29.429552Z"
    },
    "papermill": {
     "duration": 1.455686,
     "end_time": "2022-04-29T03:05:29.430350",
     "exception": false,
     "start_time": "2022-04-29T03:05:27.974664",
     "status": "completed"
    },
    "tags": []
   },
   "outputs": [
    {
     "data": {
      "image/png": "[encoded data removed]",
      "text/plain": [
       "<Figure size 1080x792 with 2 Axes>"
      ]
     },
     "metadata": {
      "needs_background": "light"
     },
     "output_type": "display_data"
    }
   ],
   "source": [
    "#hide_input\n",
    "plt.figure(figsize=(15, 11))\n",
    "sns.heatmap(df_all[sum_corr].corr(), annot=True, cmap=\"cubehelix\") \n",
    "sns.set(font_scale=1.25)\n",
    "plt.savefig('corr_matrix.png', format='eps')"
   ]
  },
  {
   "cell_type": "code",
   "execution_count": 8,
   "id": "arbitrary-sullivan",
   "metadata": {
    "execution": {
     "iopub.execute_input": "2022-04-29T03:05:29.468824Z",
     "iopub.status.busy": "2022-04-29T03:05:29.467933Z",
     "iopub.status.idle": "2022-04-29T03:05:29.505473Z",
     "shell.execute_reply": "2022-04-29T03:05:29.504893Z"
    },
    "papermill": {
     "duration": 0.058577,
     "end_time": "2022-04-29T03:05:29.505617",
     "exception": false,
     "start_time": "2022-04-29T03:05:29.447040",
     "status": "completed"
    },
    "tags": []
   },
   "outputs": [],
   "source": [
    "#hide\n",
    "#df_all_mrk = read_api()"
   ]
  },
  {
   "cell_type": "code",
   "execution_count": 9,
   "id": "delayed-adapter",
   "metadata": {
    "execution": {
     "iopub.execute_input": "2022-04-29T03:05:29.544374Z",
     "iopub.status.busy": "2022-04-29T03:05:29.543689Z",
     "iopub.status.idle": "2022-04-29T03:05:29.577434Z",
     "shell.execute_reply": "2022-04-29T03:05:29.576846Z"
    },
    "papermill": {
     "duration": 0.054276,
     "end_time": "2022-04-29T03:05:29.577579",
     "exception": false,
     "start_time": "2022-04-29T03:05:29.523303",
     "status": "completed"
    },
    "tags": []
   },
   "outputs": [],
   "source": [
    "#hide\n",
    "#Koreliacijų koeficientai"
   ]
  },
  {
   "cell_type": "code",
   "execution_count": 10,
   "id": "seeing-celebration",
   "metadata": {
    "execution": {
     "iopub.execute_input": "2022-04-29T03:05:29.625836Z",
     "iopub.status.busy": "2022-04-29T03:05:29.625095Z",
     "iopub.status.idle": "2022-04-29T03:05:29.659330Z",
     "shell.execute_reply": "2022-04-29T03:05:29.658476Z"
    },
    "papermill": {
     "duration": 0.058661,
     "end_time": "2022-04-29T03:05:29.659532",
     "exception": false,
     "start_time": "2022-04-29T03:05:29.600871",
     "status": "completed"
    },
    "tags": []
   },
   "outputs": [],
   "source": [
    "#hide_input\n",
    "#sum_corr = df_all_mrk.corr().sum().sort_values(ascending=True).index.values\n",
    "#df_all_mrk[sum_corr].corr()"
   ]
  },
  {
   "cell_type": "code",
   "execution_count": 11,
   "id": "other-painting",
   "metadata": {
    "execution": {
     "iopub.execute_input": "2022-04-29T03:05:29.694825Z",
     "iopub.status.busy": "2022-04-29T03:05:29.694217Z",
     "iopub.status.idle": "2022-04-29T03:05:29.730909Z",
     "shell.execute_reply": "2022-04-29T03:05:29.729948Z"
    },
    "papermill": {
     "duration": 0.055845,
     "end_time": "2022-04-29T03:05:29.731129",
     "exception": false,
     "start_time": "2022-04-29T03:05:29.675284",
     "status": "completed"
    },
    "tags": []
   },
   "outputs": [],
   "source": [
    "#hide\n",
    "#Koreliacijos matrica. "
   ]
  },
  {
   "cell_type": "code",
   "execution_count": 12,
   "id": "modular-magnitude",
   "metadata": {
    "execution": {
     "iopub.execute_input": "2022-04-29T03:05:29.767233Z",
     "iopub.status.busy": "2022-04-29T03:05:29.766588Z",
     "iopub.status.idle": "2022-04-29T03:05:29.799290Z",
     "shell.execute_reply": "2022-04-29T03:05:29.798415Z"
    },
    "papermill": {
     "duration": 0.052358,
     "end_time": "2022-04-29T03:05:29.799516",
     "exception": false,
     "start_time": "2022-04-29T03:05:29.747158",
     "status": "completed"
    },
    "tags": []
   },
   "outputs": [],
   "source": [
    "#hide_input\n",
    "#plt.figure(figsize=(15, 8))\n",
    "#sns.heatmap(df_all_mrk[sum_corr].corr(), annot=True, cmap=\"BrBG\");\n",
    "#plt.savefig('corr_matrix_all.eps', format='eps')"
   ]
  },
  {
   "cell_type": "code",
   "execution_count": null,
   "id": "original-senator",
   "metadata": {
    "papermill": {
     "duration": 0.015187,
     "end_time": "2022-04-29T03:05:29.831890",
     "exception": false,
     "start_time": "2022-04-29T03:05:29.816703",
     "status": "completed"
    },
    "tags": []
   },
   "outputs": [],
   "source": []
  },
  {
   "cell_type": "code",
   "execution_count": null,
   "id": "saving-secretariat",
   "metadata": {
    "papermill": {
     "duration": 0.015207,
     "end_time": "2022-04-29T03:05:29.862633",
     "exception": false,
     "start_time": "2022-04-29T03:05:29.847426",
     "status": "completed"
    },
    "tags": []
   },
   "outputs": [],
   "source": []
  }
 ],
 "metadata": {
  "kernelspec": {
   "display_name": "Python 3",
   "language": "python",
   "name": "python3"
  },
  "language_info": {
   "codemirror_mode": {
    "name": "ipython",
    "version": 3
   },
   "file_extension": ".py",
   "mimetype": "text/x-python",
   "name": "python",
   "nbconvert_exporter": "python",
   "pygments_lexer": "ipython3",
   "version": "3.6.15"
  },
  "papermill": {
   "default_parameters": {},
   "duration": 16.140901,
   "end_time": "2022-04-29T03:05:30.498226",
   "environment_variables": {},
   "exception": null,
   "input_path": "App-Correlation_charts.ipynb",
   "output_path": "App-Correlation_charts.ipynb",
   "parameters": {},
   "start_time": "2022-04-29T03:05:14.357325",
   "version": "2.2.2"
  }
 },
 "nbformat": 4,
 "nbformat_minor": 5
}