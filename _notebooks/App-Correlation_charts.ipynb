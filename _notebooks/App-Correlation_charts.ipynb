{
 "cells": [
  {
   "cell_type": "markdown",
   "id": "touched-facility",
   "metadata": {
    "papermill": {
     "duration": 0.014487,
     "end_time": "2022-11-10T03:03:05.681329",
     "exception": false,
     "start_time": "2022-11-10T03:03:05.666842",
     "status": "completed"
    },
    "tags": []
   },
   "source": [
    "# Koreliacijų matrica\n",
    "> Išplėstinė koreliacijų matrica. \n",
    "\n",
    "- toc: true \n",
    "- badges: true\n",
    "- comments: false\n",
    "- categories: [Dominykas Tautkus]\n",
    "- image: images/matrix.png"
   ]
  },
  {
   "cell_type": "code",
   "execution_count": null,
   "id": "premium-weekend",
   "metadata": {
    "papermill": {
     "duration": 0.01061,
     "end_time": "2022-11-10T03:03:05.703453",
     "exception": false,
     "start_time": "2022-11-10T03:03:05.692843",
     "status": "completed"
    },
    "tags": []
   },
   "outputs": [],
   "source": []
  },
  {
   "cell_type": "code",
   "execution_count": 1,
   "id": "vertical-rebate",
   "metadata": {
    "execution": {
     "iopub.execute_input": "2022-11-10T03:03:05.735530Z",
     "iopub.status.busy": "2022-11-10T03:03:05.732157Z",
     "iopub.status.idle": "2022-11-10T03:03:05.744622Z",
     "shell.execute_reply": "2022-11-10T03:03:05.744159Z"
    },
    "papermill": {
     "duration": 0.030586,
     "end_time": "2022-11-10T03:03:05.744729",
     "exception": false,
     "start_time": "2022-11-10T03:03:05.714143",
     "status": "completed"
    },
    "tags": []
   },
   "outputs": [],
   "source": [
    "#hide\n",
    "%load_ext autoreload\n",
    "%autoreload 2"
   ]
  },
  {
   "cell_type": "code",
   "execution_count": 2,
   "id": "overall-advancement",
   "metadata": {
    "execution": {
     "iopub.execute_input": "2022-11-10T03:03:05.769479Z",
     "iopub.status.busy": "2022-11-10T03:03:05.768930Z",
     "iopub.status.idle": "2022-11-10T03:03:07.115707Z",
     "shell.execute_reply": "2022-11-10T03:03:07.114757Z"
    },
    "papermill": {
     "duration": 1.360419,
     "end_time": "2022-11-10T03:03:07.115831",
     "exception": false,
     "start_time": "2022-11-10T03:03:05.755412",
     "status": "completed"
    },
    "tags": []
   },
   "outputs": [],
   "source": [
    "#hide\n",
    "from scripts.read_data import read_api\n",
    "from IPython.display import HTML\n",
    "import plotly.graph_objects as go\n"
   ]
  },
  {
   "cell_type": "code",
   "execution_count": 3,
   "id": "light-crazy",
   "metadata": {
    "execution": {
     "iopub.execute_input": "2022-11-10T03:03:07.145088Z",
     "iopub.status.busy": "2022-11-10T03:03:07.142026Z",
     "iopub.status.idle": "2022-11-10T03:03:07.163964Z",
     "shell.execute_reply": "2022-11-10T03:03:07.163518Z"
    },
    "papermill": {
     "duration": 0.037252,
     "end_time": "2022-11-10T03:03:07.164069",
     "exception": false,
     "start_time": "2022-11-10T03:03:07.126817",
     "status": "completed"
    },
    "tags": []
   },
   "outputs": [],
   "source": [
    "#hide\n",
    "### ICO koreliacija"
   ]
  },
  {
   "cell_type": "code",
   "execution_count": 4,
   "id": "likely-bahrain",
   "metadata": {
    "execution": {
     "iopub.execute_input": "2022-11-10T03:03:07.192148Z",
     "iopub.status.busy": "2022-11-10T03:03:07.188179Z",
     "iopub.status.idle": "2022-11-10T03:03:07.993421Z",
     "shell.execute_reply": "2022-11-10T03:03:07.992483Z"
    },
    "papermill": {
     "duration": 0.818717,
     "end_time": "2022-11-10T03:03:07.993545",
     "exception": false,
     "start_time": "2022-11-10T03:03:07.174828",
     "status": "completed"
    },
    "tags": []
   },
   "outputs": [],
   "source": [
    "#hide\n",
    "import matplotlib.pyplot as plt\n",
    "import numpy as np\n",
    "import pandas as pd\n",
    "import seaborn as sns\n",
    "import matplotlib.pyplot as plt \n",
    "import matplotlib.dates as mdates\n",
    "import matplotlib.pyplot as plt"
   ]
  },
  {
   "cell_type": "code",
   "execution_count": 5,
   "id": "superior-blanket",
   "metadata": {
    "execution": {
     "iopub.execute_input": "2022-11-10T03:03:08.019641Z",
     "iopub.status.busy": "2022-11-10T03:03:08.019047Z",
     "iopub.status.idle": "2022-11-10T03:03:18.753726Z",
     "shell.execute_reply": "2022-11-10T03:03:18.753230Z"
    },
    "papermill": {
     "duration": 10.749218,
     "end_time": "2022-11-10T03:03:18.753838",
     "exception": false,
     "start_time": "2022-11-10T03:03:08.004620",
     "status": "completed"
    },
    "tags": []
   },
   "outputs": [
    {
     "name": "stderr",
     "output_type": "stream",
     "text": [
      "/home/runner/work/corr-app/corr-app/_notebooks/scripts/read_data.py:187: SettingWithCopyWarning:\n",
      "\n",
      "\n",
      "A value is trying to be set on a copy of a slice from a DataFrame.\n",
      "Try using .loc[row_indexer,col_indexer] = value instead\n",
      "\n",
      "See the caveats in the documentation: https://pandas.pydata.org/pandas-docs/stable/user_guide/indexing.html#returning-a-view-versus-a-copy\n",
      "\n"
     ]
    },
    {
     "name": "stderr",
     "output_type": "stream",
     "text": [
      "/home/runner/work/corr-app/corr-app/_notebooks/scripts/read_data.py:215: SettingWithCopyWarning:\n",
      "\n",
      "\n",
      "A value is trying to be set on a copy of a slice from a DataFrame.\n",
      "Try using .loc[row_indexer,col_indexer] = value instead\n",
      "\n",
      "See the caveats in the documentation: https://pandas.pydata.org/pandas-docs/stable/user_guide/indexing.html#returning-a-view-versus-a-copy\n",
      "\n"
     ]
    }
   ],
   "source": [
    "#hide\n",
    "df_all = read_api()\n",
    "#df_all = df_all.drop(['SP500', 'XAU', 'ETH', 'BTC'], axis=1)\n",
    "\n"
   ]
  },
  {
   "cell_type": "code",
   "execution_count": 6,
   "id": "mature-alert",
   "metadata": {
    "execution": {
     "iopub.execute_input": "2022-11-10T03:03:18.783805Z",
     "iopub.status.busy": "2022-11-10T03:03:18.782305Z",
     "iopub.status.idle": "2022-11-10T03:03:18.810481Z",
     "shell.execute_reply": "2022-11-10T03:03:18.810042Z"
    },
    "papermill": {
     "duration": 0.04414,
     "end_time": "2022-11-10T03:03:18.810589",
     "exception": false,
     "start_time": "2022-11-10T03:03:18.766449",
     "status": "completed"
    },
    "tags": []
   },
   "outputs": [],
   "source": [
    "#hide_input\n",
    "sum_corr = df_all.corr().sum().sort_values(ascending=True).index.values\n",
    "#df_all[sum_corr].corr()"
   ]
  },
  {
   "cell_type": "markdown",
   "id": "complex-syndicate",
   "metadata": {
    "papermill": {
     "duration": 0.011251,
     "end_time": "2022-11-10T03:03:18.833227",
     "exception": false,
     "start_time": "2022-11-10T03:03:18.821976",
     "status": "completed"
    },
    "tags": []
   },
   "source": [
    "## Išplėstinė koreliacijų matrica. "
   ]
  },
  {
   "cell_type": "code",
   "execution_count": 7,
   "id": "atomic-omaha",
   "metadata": {
    "execution": {
     "iopub.execute_input": "2022-11-10T03:03:18.859523Z",
     "iopub.status.busy": "2022-11-10T03:03:18.858934Z",
     "iopub.status.idle": "2022-11-10T03:03:19.982458Z",
     "shell.execute_reply": "2022-11-10T03:03:19.981985Z"
    },
    "papermill": {
     "duration": 1.138106,
     "end_time": "2022-11-10T03:03:19.982566",
     "exception": false,
     "start_time": "2022-11-10T03:03:18.844460",
     "status": "completed"
    },
    "tags": []
   },
   "outputs": [
    {
     "data": {
      "image/png": "[encoded data removed]",
      "text/plain": [
       "<Figure size 1080x792 with 2 Axes>"
      ]
     },
     "metadata": {
      "needs_background": "light"
     },
     "output_type": "display_data"
    }
   ],
   "source": [
    "#hide_input\n",
    "plt.figure(figsize=(15, 11))\n",
    "sns.heatmap(df_all[sum_corr].corr(), annot=True, cmap=\"cubehelix\") \n",
    "sns.set(font_scale=1.25)\n",
    "plt.savefig('corr_matrix.png', format='eps')"
   ]
  },
  {
   "cell_type": "code",
   "execution_count": 8,
   "id": "arbitrary-sullivan",
   "metadata": {
    "execution": {
     "iopub.execute_input": "2022-11-10T03:03:20.014564Z",
     "iopub.status.busy": "2022-11-10T03:03:20.013269Z",
     "iopub.status.idle": "2022-11-10T03:03:20.038737Z",
     "shell.execute_reply": "2022-11-10T03:03:20.038187Z"
    },
    "papermill": {
     "duration": 0.042667,
     "end_time": "2022-11-10T03:03:20.038842",
     "exception": false,
     "start_time": "2022-11-10T03:03:19.996175",
     "status": "completed"
    },
    "tags": []
   },
   "outputs": [],
   "source": [
    "#hide\n",
    "#df_all_mrk = read_api()"
   ]
  },
  {
   "cell_type": "code",
   "execution_count": 9,
   "id": "delayed-adapter",
   "metadata": {
    "execution": {
     "iopub.execute_input": "2022-11-10T03:03:20.068021Z",
     "iopub.status.busy": "2022-11-10T03:03:20.067455Z",
     "iopub.status.idle": "2022-11-10T03:03:20.092586Z",
     "shell.execute_reply": "2022-11-10T03:03:20.092046Z"
    },
    "papermill": {
     "duration": 0.040631,
     "end_time": "2022-11-10T03:03:20.092685",
     "exception": false,
     "start_time": "2022-11-10T03:03:20.052054",
     "status": "completed"
    },
    "tags": []
   },
   "outputs": [],
   "source": [
    "#hide\n",
    "#Koreliacijų koeficientai"
   ]
  },
  {
   "cell_type": "code",
   "execution_count": 10,
   "id": "seeing-celebration",
   "metadata": {
    "execution": {
     "iopub.execute_input": "2022-11-10T03:03:20.124291Z",
     "iopub.status.busy": "2022-11-10T03:03:20.122904Z",
     "iopub.status.idle": "2022-11-10T03:03:20.147918Z",
     "shell.execute_reply": "2022-11-10T03:03:20.147356Z"
    },
    "papermill": {
     "duration": 0.042051,
     "end_time": "2022-11-10T03:03:20.148028",
     "exception": false,
     "start_time": "2022-11-10T03:03:20.105977",
     "status": "completed"
    },
    "tags": []
   },
   "outputs": [],
   "source": [
    "#hide_input\n",
    "#sum_corr = df_all_mrk.corr().sum().sort_values(ascending=True).index.values\n",
    "#df_all_mrk[sum_corr].corr()"
   ]
  },
  {
   "cell_type": "code",
   "execution_count": 11,
   "id": "other-painting",
   "metadata": {
    "execution": {
     "iopub.execute_input": "2022-11-10T03:03:20.179179Z",
     "iopub.status.busy": "2022-11-10T03:03:20.178625Z",
     "iopub.status.idle": "2022-11-10T03:03:20.203343Z",
     "shell.execute_reply": "2022-11-10T03:03:20.202871Z"
    },
    "papermill": {
     "duration": 0.042028,
     "end_time": "2022-11-10T03:03:20.203445",
     "exception": false,
     "start_time": "2022-11-10T03:03:20.161417",
     "status": "completed"
    },
    "tags": []
   },
   "outputs": [],
   "source": [
    "#hide\n",
    "#Koreliacijos matrica. "
   ]
  },
  {
   "cell_type": "code",
   "execution_count": 12,
   "id": "modular-magnitude",
   "metadata": {
    "execution": {
     "iopub.execute_input": "2022-11-10T03:03:20.233389Z",
     "iopub.status.busy": "2022-11-10T03:03:20.232847Z",
     "iopub.status.idle": "2022-11-10T03:03:20.257720Z",
     "shell.execute_reply": "2022-11-10T03:03:20.258127Z"
    },
    "papermill": {
     "duration": 0.041433,
     "end_time": "2022-11-10T03:03:20.258244",
     "exception": false,
     "start_time": "2022-11-10T03:03:20.216811",
     "status": "completed"
    },
    "tags": []
   },
   "outputs": [],
   "source": [
    "#hide_input\n",
    "#plt.figure(figsize=(15, 8))\n",
    "#sns.heatmap(df_all_mrk[sum_corr].corr(), annot=True, cmap=\"BrBG\");\n",
    "#plt.savefig('corr_matrix_all.eps', format='eps')"
   ]
  },
  {
   "cell_type": "code",
   "execution_count": null,
   "id": "original-senator",
   "metadata": {
    "papermill": {
     "duration": 0.013209,
     "end_time": "2022-11-10T03:03:20.284620",
     "exception": false,
     "start_time": "2022-11-10T03:03:20.271411",
     "status": "completed"
    },
    "tags": []
   },
   "outputs": [],
   "source": []
  },
  {
   "cell_type": "code",
   "execution_count": null,
   "id": "saving-secretariat",
   "metadata": {
    "papermill": {
     "duration": 0.013062,
     "end_time": "2022-11-10T03:03:20.310849",
     "exception": false,
     "start_time": "2022-11-10T03:03:20.297787",
     "status": "completed"
    },
    "tags": []
   },
   "outputs": [],
   "source": []
  }
 ],
 "metadata": {
  "kernelspec": {
   "display_name": "Python 3",
   "language": "python",
   "name": "python3"
  },
  "language_info": {
   "codemirror_mode": {
    "name": "ipython",
    "version": 3
   },
   "file_extension": ".py",
   "mimetype": "text/x-python",
   "name": "python",
   "nbconvert_exporter": "python",
   "pygments_lexer": "ipython3",
   "version": "3.6.15"
  },
  "papermill": {
   "default_parameters": {},
   "duration": 15.983217,
   "end_time": "2022-11-10T03:03:20.740532",
   "environment_variables": {},
   "exception": null,
   "input_path": "App-Correlation_charts.ipynb",
   "output_path": "App-Correlation_charts.ipynb",
   "parameters": {},
   "start_time": "2022-11-10T03:03:04.757315",
   "version": "2.2.2"
  }
 },
 "nbformat": 4,
 "nbformat_minor": 5
}