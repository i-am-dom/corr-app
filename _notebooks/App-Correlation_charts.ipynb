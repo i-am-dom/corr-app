{
 "cells": [
  {
   "cell_type": "markdown",
   "id": "touched-facility",
   "metadata": {
    "papermill": {
     "duration": 0.020646,
     "end_time": "2022-04-26T03:02:30.544927",
     "exception": false,
     "start_time": "2022-04-26T03:02:30.524281",
     "status": "completed"
    },
    "tags": []
   },
   "source": [
    "# Koreliacijų matrica\n",
    "> Išplėstinė koreliacijų matrica. \n",
    "\n",
    "- toc: true \n",
    "- badges: true\n",
    "- comments: false\n",
    "- categories: [Dominykas Tautkus]\n",
    "- image: images/matrix.png"
   ]
  },
  {
   "cell_type": "code",
   "execution_count": null,
   "id": "premium-weekend",
   "metadata": {
    "papermill": {
     "duration": 0.012396,
     "end_time": "2022-04-26T03:02:30.570519",
     "exception": false,
     "start_time": "2022-04-26T03:02:30.558123",
     "status": "completed"
    },
    "tags": []
   },
   "outputs": [],
   "source": []
  },
  {
   "cell_type": "code",
   "execution_count": 1,
   "id": "vertical-rebate",
   "metadata": {
    "execution": {
     "iopub.execute_input": "2022-04-26T03:02:30.606141Z",
     "iopub.status.busy": "2022-04-26T03:02:30.605530Z",
     "iopub.status.idle": "2022-04-26T03:02:30.617385Z",
     "shell.execute_reply": "2022-04-26T03:02:30.616862Z"
    },
    "papermill": {
     "duration": 0.034947,
     "end_time": "2022-04-26T03:02:30.617518",
     "exception": false,
     "start_time": "2022-04-26T03:02:30.582571",
     "status": "completed"
    },
    "tags": []
   },
   "outputs": [],
   "source": [
    "#hide\n",
    "%load_ext autoreload\n",
    "%autoreload 2"
   ]
  },
  {
   "cell_type": "code",
   "execution_count": 2,
   "id": "overall-advancement",
   "metadata": {
    "execution": {
     "iopub.execute_input": "2022-04-26T03:02:30.645615Z",
     "iopub.status.busy": "2022-04-26T03:02:30.645008Z",
     "iopub.status.idle": "2022-04-26T03:02:32.020536Z",
     "shell.execute_reply": "2022-04-26T03:02:32.019654Z"
    },
    "papermill": {
     "duration": 1.391226,
     "end_time": "2022-04-26T03:02:32.020811",
     "exception": false,
     "start_time": "2022-04-26T03:02:30.629585",
     "status": "completed"
    },
    "tags": []
   },
   "outputs": [],
   "source": [
    "#hide\n",
    "from scripts.read_data import read_api\n",
    "from IPython.display import HTML\n",
    "import plotly.graph_objects as go\n"
   ]
  },
  {
   "cell_type": "code",
   "execution_count": 3,
   "id": "light-crazy",
   "metadata": {
    "execution": {
     "iopub.execute_input": "2022-04-26T03:02:32.051564Z",
     "iopub.status.busy": "2022-04-26T03:02:32.050814Z",
     "iopub.status.idle": "2022-04-26T03:02:32.075693Z",
     "shell.execute_reply": "2022-04-26T03:02:32.076140Z"
    },
    "papermill": {
     "duration": 0.041028,
     "end_time": "2022-04-26T03:02:32.076282",
     "exception": false,
     "start_time": "2022-04-26T03:02:32.035254",
     "status": "completed"
    },
    "tags": []
   },
   "outputs": [],
   "source": [
    "#hide\n",
    "### ICO koreliacija"
   ]
  },
  {
   "cell_type": "code",
   "execution_count": 4,
   "id": "likely-bahrain",
   "metadata": {
    "execution": {
     "iopub.execute_input": "2022-04-26T03:02:32.104338Z",
     "iopub.status.busy": "2022-04-26T03:02:32.103749Z",
     "iopub.status.idle": "2022-04-26T03:02:33.093943Z",
     "shell.execute_reply": "2022-04-26T03:02:33.093050Z"
    },
    "papermill": {
     "duration": 1.005917,
     "end_time": "2022-04-26T03:02:33.094164",
     "exception": false,
     "start_time": "2022-04-26T03:02:32.088247",
     "status": "completed"
    },
    "tags": []
   },
   "outputs": [],
   "source": [
    "#hide\n",
    "import matplotlib.pyplot as plt\n",
    "import numpy as np\n",
    "import pandas as pd\n",
    "import seaborn as sns\n",
    "import matplotlib.pyplot as plt \n",
    "import matplotlib.dates as mdates\n",
    "import matplotlib.pyplot as plt"
   ]
  },
  {
   "cell_type": "code",
   "execution_count": 5,
   "id": "superior-blanket",
   "metadata": {
    "execution": {
     "iopub.execute_input": "2022-04-26T03:02:33.126166Z",
     "iopub.status.busy": "2022-04-26T03:02:33.125583Z",
     "iopub.status.idle": "2022-04-26T03:02:42.753124Z",
     "shell.execute_reply": "2022-04-26T03:02:42.752523Z"
    },
    "papermill": {
     "duration": 9.644654,
     "end_time": "2022-04-26T03:02:42.753265",
     "exception": false,
     "start_time": "2022-04-26T03:02:33.108611",
     "status": "completed"
    },
    "tags": []
   },
   "outputs": [
    {
     "name": "stderr",
     "output_type": "stream",
     "text": [
      "/home/runner/work/corr-app/corr-app/_notebooks/scripts/read_data.py:187: SettingWithCopyWarning:\n",
      "\n",
      "\n",
      "A value is trying to be set on a copy of a slice from a DataFrame.\n",
      "Try using .loc[row_indexer,col_indexer] = value instead\n",
      "\n",
      "See the caveats in the documentation: https://pandas.pydata.org/pandas-docs/stable/user_guide/indexing.html#returning-a-view-versus-a-copy\n",
      "\n"
     ]
    },
    {
     "name": "stderr",
     "output_type": "stream",
     "text": [
      "/home/runner/work/corr-app/corr-app/_notebooks/scripts/read_data.py:215: SettingWithCopyWarning:\n",
      "\n",
      "\n",
      "A value is trying to be set on a copy of a slice from a DataFrame.\n",
      "Try using .loc[row_indexer,col_indexer] = value instead\n",
      "\n",
      "See the caveats in the documentation: https://pandas.pydata.org/pandas-docs/stable/user_guide/indexing.html#returning-a-view-versus-a-copy\n",
      "\n"
     ]
    }
   ],
   "source": [
    "#hide\n",
    "df_all = read_api()\n",
    "#df_all = df_all.drop(['SP500', 'XAU', 'ETH', 'BTC'], axis=1)\n",
    "\n"
   ]
  },
  {
   "cell_type": "code",
   "execution_count": 6,
   "id": "mature-alert",
   "metadata": {
    "execution": {
     "iopub.execute_input": "2022-04-26T03:02:42.783256Z",
     "iopub.status.busy": "2022-04-26T03:02:42.782659Z",
     "iopub.status.idle": "2022-04-26T03:02:42.814976Z",
     "shell.execute_reply": "2022-04-26T03:02:42.815434Z"
    },
    "papermill": {
     "duration": 0.049094,
     "end_time": "2022-04-26T03:02:42.815582",
     "exception": false,
     "start_time": "2022-04-26T03:02:42.766488",
     "status": "completed"
    },
    "tags": []
   },
   "outputs": [],
   "source": [
    "#hide_input\n",
    "sum_corr = df_all.corr().sum().sort_values(ascending=True).index.values\n",
    "#df_all[sum_corr].corr()"
   ]
  },
  {
   "cell_type": "markdown",
   "id": "complex-syndicate",
   "metadata": {
    "papermill": {
     "duration": 0.012576,
     "end_time": "2022-04-26T03:02:42.841181",
     "exception": false,
     "start_time": "2022-04-26T03:02:42.828605",
     "status": "completed"
    },
    "tags": []
   },
   "source": [
    "## Išplėstinė koreliacijų matrica. "
   ]
  },
  {
   "cell_type": "code",
   "execution_count": 7,
   "id": "atomic-omaha",
   "metadata": {
    "execution": {
     "iopub.execute_input": "2022-04-26T03:02:42.876125Z",
     "iopub.status.busy": "2022-04-26T03:02:42.875534Z",
     "iopub.status.idle": "2022-04-26T03:02:44.291668Z",
     "shell.execute_reply": "2022-04-26T03:02:44.292132Z"
    },
    "papermill": {
     "duration": 1.438554,
     "end_time": "2022-04-26T03:02:44.292293",
     "exception": false,
     "start_time": "2022-04-26T03:02:42.853739",
     "status": "completed"
    },
    "tags": []
   },
   "outputs": [
    {
     "data": {
      "image/png": "[encoded data removed]",
      "text/plain": [
       "<Figure size 1080x792 with 2 Axes>"
      ]
     },
     "metadata": {
      "needs_background": "light"
     },
     "output_type": "display_data"
    }
   ],
   "source": [
    "#hide_input\n",
    "plt.figure(figsize=(15, 11))\n",
    "sns.heatmap(df_all[sum_corr].corr(), annot=True, cmap=\"cubehelix\") \n",
    "sns.set(font_scale=1.25)\n",
    "plt.savefig('corr_matrix.png', format='eps')"
   ]
  },
  {
   "cell_type": "code",
   "execution_count": 8,
   "id": "arbitrary-sullivan",
   "metadata": {
    "execution": {
     "iopub.execute_input": "2022-04-26T03:02:44.327102Z",
     "iopub.status.busy": "2022-04-26T03:02:44.326511Z",
     "iopub.status.idle": "2022-04-26T03:02:44.360478Z",
     "shell.execute_reply": "2022-04-26T03:02:44.359592Z"
    },
    "papermill": {
     "duration": 0.053116,
     "end_time": "2022-04-26T03:02:44.360682",
     "exception": false,
     "start_time": "2022-04-26T03:02:44.307566",
     "status": "completed"
    },
    "tags": []
   },
   "outputs": [],
   "source": [
    "#hide\n",
    "#df_all_mrk = read_api()"
   ]
  },
  {
   "cell_type": "code",
   "execution_count": 9,
   "id": "delayed-adapter",
   "metadata": {
    "execution": {
     "iopub.execute_input": "2022-04-26T03:02:44.395763Z",
     "iopub.status.busy": "2022-04-26T03:02:44.395169Z",
     "iopub.status.idle": "2022-04-26T03:02:44.424890Z",
     "shell.execute_reply": "2022-04-26T03:02:44.424345Z"
    },
    "papermill": {
     "duration": 0.047976,
     "end_time": "2022-04-26T03:02:44.425029",
     "exception": false,
     "start_time": "2022-04-26T03:02:44.377053",
     "status": "completed"
    },
    "tags": []
   },
   "outputs": [],
   "source": [
    "#hide\n",
    "#Koreliacijų koeficientai"
   ]
  },
  {
   "cell_type": "code",
   "execution_count": 10,
   "id": "seeing-celebration",
   "metadata": {
    "execution": {
     "iopub.execute_input": "2022-04-26T03:02:44.466210Z",
     "iopub.status.busy": "2022-04-26T03:02:44.463425Z",
     "iopub.status.idle": "2022-04-26T03:02:44.493156Z",
     "shell.execute_reply": "2022-04-26T03:02:44.492604Z"
    },
    "papermill": {
     "duration": 0.049935,
     "end_time": "2022-04-26T03:02:44.493278",
     "exception": false,
     "start_time": "2022-04-26T03:02:44.443343",
     "status": "completed"
    },
    "tags": []
   },
   "outputs": [],
   "source": [
    "#hide_input\n",
    "#sum_corr = df_all_mrk.corr().sum().sort_values(ascending=True).index.values\n",
    "#df_all_mrk[sum_corr].corr()"
   ]
  },
  {
   "cell_type": "code",
   "execution_count": 11,
   "id": "other-painting",
   "metadata": {
    "execution": {
     "iopub.execute_input": "2022-04-26T03:02:44.527250Z",
     "iopub.status.busy": "2022-04-26T03:02:44.526663Z",
     "iopub.status.idle": "2022-04-26T03:02:44.555835Z",
     "shell.execute_reply": "2022-04-26T03:02:44.555239Z"
    },
    "papermill": {
     "duration": 0.047851,
     "end_time": "2022-04-26T03:02:44.555949",
     "exception": false,
     "start_time": "2022-04-26T03:02:44.508098",
     "status": "completed"
    },
    "tags": []
   },
   "outputs": [],
   "source": [
    "#hide\n",
    "#Koreliacijos matrica. "
   ]
  },
  {
   "cell_type": "code",
   "execution_count": 12,
   "id": "modular-magnitude",
   "metadata": {
    "execution": {
     "iopub.execute_input": "2022-04-26T03:02:44.594095Z",
     "iopub.status.busy": "2022-04-26T03:02:44.593508Z",
     "iopub.status.idle": "2022-04-26T03:02:44.618907Z",
     "shell.execute_reply": "2022-04-26T03:02:44.619519Z"
    },
    "papermill": {
     "duration": 0.048914,
     "end_time": "2022-04-26T03:02:44.619698",
     "exception": false,
     "start_time": "2022-04-26T03:02:44.570784",
     "status": "completed"
    },
    "tags": []
   },
   "outputs": [],
   "source": [
    "#hide_input\n",
    "#plt.figure(figsize=(15, 8))\n",
    "#sns.heatmap(df_all_mrk[sum_corr].corr(), annot=True, cmap=\"BrBG\");\n",
    "#plt.savefig('corr_matrix_all.eps', format='eps')"
   ]
  },
  {
   "cell_type": "code",
   "execution_count": null,
   "id": "original-senator",
   "metadata": {
    "papermill": {
     "duration": 0.016474,
     "end_time": "2022-04-26T03:02:44.653078",
     "exception": false,
     "start_time": "2022-04-26T03:02:44.636604",
     "status": "completed"
    },
    "tags": []
   },
   "outputs": [],
   "source": []
  },
  {
   "cell_type": "code",
   "execution_count": null,
   "id": "saving-secretariat",
   "metadata": {
    "papermill": {
     "duration": 0.014633,
     "end_time": "2022-04-26T03:02:44.682582",
     "exception": false,
     "start_time": "2022-04-26T03:02:44.667949",
     "status": "completed"
    },
    "tags": []
   },
   "outputs": [],
   "source": []
  }
 ],
 "metadata": {
  "kernelspec": {
   "display_name": "Python 3",
   "language": "python",
   "name": "python3"
  },
  "language_info": {
   "codemirror_mode": {
    "name": "ipython",
    "version": 3
   },
   "file_extension": ".py",
   "mimetype": "text/x-python",
   "name": "python",
   "nbconvert_exporter": "python",
   "pygments_lexer": "ipython3",
   "version": "3.6.15"
  },
  "papermill": {
   "default_parameters": {},
   "duration": 15.860783,
   "end_time": "2022-04-26T03:02:45.219064",
   "environment_variables": {},
   "exception": null,
   "input_path": "App-Correlation_charts.ipynb",
   "output_path": "App-Correlation_charts.ipynb",
   "parameters": {},
   "start_time": "2022-04-26T03:02:29.358281",
   "version": "2.2.2"
  }
 },
 "nbformat": 4,
 "nbformat_minor": 5
}