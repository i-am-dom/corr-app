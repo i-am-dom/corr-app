{
 "cells": [
  {
   "cell_type": "markdown",
   "id": "touched-facility",
   "metadata": {
    "papermill": {
     "duration": 0.015313,
     "end_time": "2021-08-12T01:55:54.476833",
     "exception": false,
     "start_time": "2021-08-12T01:55:54.461520",
     "status": "completed"
    },
    "tags": []
   },
   "source": [
    "# Koreliacijų matrica\n",
    "> Išplėstinė koreliacijų matrica. \n",
    "\n",
    "- toc: true \n",
    "- badges: true\n",
    "- comments: false\n",
    "- categories: [Dominykas Tautkus]\n",
    "- image: images/matrix.png"
   ]
  },
  {
   "cell_type": "code",
   "execution_count": null,
   "id": "premium-weekend",
   "metadata": {
    "papermill": {
     "duration": 0.010631,
     "end_time": "2021-08-12T01:55:54.498726",
     "exception": false,
     "start_time": "2021-08-12T01:55:54.488095",
     "status": "completed"
    },
    "tags": []
   },
   "outputs": [],
   "source": []
  },
  {
   "cell_type": "code",
   "execution_count": 1,
   "id": "vertical-rebate",
   "metadata": {
    "execution": {
     "iopub.execute_input": "2021-08-12T01:55:54.531285Z",
     "iopub.status.busy": "2021-08-12T01:55:54.527196Z",
     "iopub.status.idle": "2021-08-12T01:55:54.541030Z",
     "shell.execute_reply": "2021-08-12T01:55:54.541436Z"
    },
    "papermill": {
     "duration": 0.032339,
     "end_time": "2021-08-12T01:55:54.541575",
     "exception": false,
     "start_time": "2021-08-12T01:55:54.509236",
     "status": "completed"
    },
    "tags": []
   },
   "outputs": [],
   "source": [
    "#hide\n",
    "%load_ext autoreload\n",
    "%autoreload 2"
   ]
  },
  {
   "cell_type": "code",
   "execution_count": 2,
   "id": "overall-advancement",
   "metadata": {
    "execution": {
     "iopub.execute_input": "2021-08-12T01:55:54.565732Z",
     "iopub.status.busy": "2021-08-12T01:55:54.565222Z",
     "iopub.status.idle": "2021-08-12T01:55:55.709829Z",
     "shell.execute_reply": "2021-08-12T01:55:55.709364Z"
    },
    "papermill": {
     "duration": 1.157722,
     "end_time": "2021-08-12T01:55:55.709956",
     "exception": false,
     "start_time": "2021-08-12T01:55:54.552234",
     "status": "completed"
    },
    "tags": []
   },
   "outputs": [],
   "source": [
    "#hide\n",
    "from scripts.read_data import read_api\n",
    "from IPython.display import HTML\n",
    "import plotly.graph_objects as go\n"
   ]
  },
  {
   "cell_type": "code",
   "execution_count": 3,
   "id": "light-crazy",
   "metadata": {
    "execution": {
     "iopub.execute_input": "2021-08-12T01:55:55.742472Z",
     "iopub.status.busy": "2021-08-12T01:55:55.741441Z",
     "iopub.status.idle": "2021-08-12T01:55:55.758847Z",
     "shell.execute_reply": "2021-08-12T01:55:55.758442Z"
    },
    "papermill": {
     "duration": 0.037919,
     "end_time": "2021-08-12T01:55:55.758959",
     "exception": false,
     "start_time": "2021-08-12T01:55:55.721040",
     "status": "completed"
    },
    "tags": []
   },
   "outputs": [],
   "source": [
    "#hide\n",
    "### ICO koreliacija"
   ]
  },
  {
   "cell_type": "code",
   "execution_count": 4,
   "id": "likely-bahrain",
   "metadata": {
    "execution": {
     "iopub.execute_input": "2021-08-12T01:55:55.789681Z",
     "iopub.status.busy": "2021-08-12T01:55:55.782795Z",
     "iopub.status.idle": "2021-08-12T01:55:56.594770Z",
     "shell.execute_reply": "2021-08-12T01:55:56.594248Z"
    },
    "papermill": {
     "duration": 0.825325,
     "end_time": "2021-08-12T01:55:56.594905",
     "exception": false,
     "start_time": "2021-08-12T01:55:55.769580",
     "status": "completed"
    },
    "tags": []
   },
   "outputs": [],
   "source": [
    "#hide\n",
    "import matplotlib.pyplot as plt\n",
    "import numpy as np\n",
    "import pandas as pd\n",
    "import seaborn as sns\n",
    "import matplotlib.pyplot as plt \n",
    "import matplotlib.dates as mdates\n",
    "import matplotlib.pyplot as plt"
   ]
  },
  {
   "cell_type": "code",
   "execution_count": 5,
   "id": "superior-blanket",
   "metadata": {
    "execution": {
     "iopub.execute_input": "2021-08-12T01:55:56.626762Z",
     "iopub.status.busy": "2021-08-12T01:55:56.626218Z",
     "iopub.status.idle": "2021-08-12T01:56:08.427785Z",
     "shell.execute_reply": "2021-08-12T01:56:08.427284Z"
    },
    "papermill": {
     "duration": 11.820964,
     "end_time": "2021-08-12T01:56:08.427909",
     "exception": false,
     "start_time": "2021-08-12T01:55:56.606945",
     "status": "completed"
    },
    "tags": []
   },
   "outputs": [
    {
     "name": "stderr",
     "output_type": "stream",
     "text": [
      "/home/runner/work/corr-app/corr-app/_notebooks/scripts/read_data.py:187: SettingWithCopyWarning:\n",
      "\n",
      "\n",
      "A value is trying to be set on a copy of a slice from a DataFrame.\n",
      "Try using .loc[row_indexer,col_indexer] = value instead\n",
      "\n",
      "See the caveats in the documentation: https://pandas.pydata.org/pandas-docs/stable/user_guide/indexing.html#returning-a-view-versus-a-copy\n",
      "\n"
     ]
    },
    {
     "name": "stderr",
     "output_type": "stream",
     "text": [
      "/home/runner/work/corr-app/corr-app/_notebooks/scripts/read_data.py:215: SettingWithCopyWarning:\n",
      "\n",
      "\n",
      "A value is trying to be set on a copy of a slice from a DataFrame.\n",
      "Try using .loc[row_indexer,col_indexer] = value instead\n",
      "\n",
      "See the caveats in the documentation: https://pandas.pydata.org/pandas-docs/stable/user_guide/indexing.html#returning-a-view-versus-a-copy\n",
      "\n"
     ]
    }
   ],
   "source": [
    "#hide\n",
    "df_all = read_api()\n",
    "#df_all = df_all.drop(['SP500', 'XAU', 'ETH', 'BTC'], axis=1)\n",
    "\n"
   ]
  },
  {
   "cell_type": "code",
   "execution_count": 6,
   "id": "mature-alert",
   "metadata": {
    "execution": {
     "iopub.execute_input": "2021-08-12T01:56:08.458622Z",
     "iopub.status.busy": "2021-08-12T01:56:08.457397Z",
     "iopub.status.idle": "2021-08-12T01:56:08.485383Z",
     "shell.execute_reply": "2021-08-12T01:56:08.484933Z"
    },
    "papermill": {
     "duration": 0.046004,
     "end_time": "2021-08-12T01:56:08.485505",
     "exception": false,
     "start_time": "2021-08-12T01:56:08.439501",
     "status": "completed"
    },
    "tags": []
   },
   "outputs": [],
   "source": [
    "#hide_input\n",
    "sum_corr = df_all.corr().sum().sort_values(ascending=True).index.values\n",
    "#df_all[sum_corr].corr()"
   ]
  },
  {
   "cell_type": "markdown",
   "id": "complex-syndicate",
   "metadata": {
    "papermill": {
     "duration": 0.011243,
     "end_time": "2021-08-12T01:56:08.508037",
     "exception": false,
     "start_time": "2021-08-12T01:56:08.496794",
     "status": "completed"
    },
    "tags": []
   },
   "source": [
    "## Išplėstinė koreliacijų matrica. "
   ]
  },
  {
   "cell_type": "code",
   "execution_count": 7,
   "id": "atomic-omaha",
   "metadata": {
    "execution": {
     "iopub.execute_input": "2021-08-12T01:56:08.535491Z",
     "iopub.status.busy": "2021-08-12T01:56:08.534992Z",
     "iopub.status.idle": "2021-08-12T01:56:09.725889Z",
     "shell.execute_reply": "2021-08-12T01:56:09.726371Z"
    },
    "papermill": {
     "duration": 1.207429,
     "end_time": "2021-08-12T01:56:09.726522",
     "exception": false,
     "start_time": "2021-08-12T01:56:08.519093",
     "status": "completed"
    },
    "tags": []
   },
   "outputs": [
    {
     "data": {
      "image/png": "[encoded data removed]",
      "text/plain": [
       "<Figure size 1080x792 with 2 Axes>"
      ]
     },
     "metadata": {
      "needs_background": "light"
     },
     "output_type": "display_data"
    }
   ],
   "source": [
    "#hide_input\n",
    "plt.figure(figsize=(15, 11))\n",
    "sns.heatmap(df_all[sum_corr].corr(), annot=True, cmap=\"cubehelix\") \n",
    "sns.set(font_scale=1.25)\n",
    "plt.savefig('corr_matrix.png', format='eps')"
   ]
  },
  {
   "cell_type": "code",
   "execution_count": 8,
   "id": "arbitrary-sullivan",
   "metadata": {
    "execution": {
     "iopub.execute_input": "2021-08-12T01:56:09.782174Z",
     "iopub.status.busy": "2021-08-12T01:56:09.769742Z",
     "iopub.status.idle": "2021-08-12T01:56:09.788102Z",
     "shell.execute_reply": "2021-08-12T01:56:09.788477Z"
    },
    "papermill": {
     "duration": 0.048544,
     "end_time": "2021-08-12T01:56:09.788600",
     "exception": false,
     "start_time": "2021-08-12T01:56:09.740056",
     "status": "completed"
    },
    "tags": []
   },
   "outputs": [],
   "source": [
    "#hide\n",
    "#df_all_mrk = read_api()"
   ]
  },
  {
   "cell_type": "code",
   "execution_count": 9,
   "id": "delayed-adapter",
   "metadata": {
    "execution": {
     "iopub.execute_input": "2021-08-12T01:56:09.825742Z",
     "iopub.status.busy": "2021-08-12T01:56:09.820452Z",
     "iopub.status.idle": "2021-08-12T01:56:09.842677Z",
     "shell.execute_reply": "2021-08-12T01:56:09.842202Z"
    },
    "papermill": {
     "duration": 0.04122,
     "end_time": "2021-08-12T01:56:09.842790",
     "exception": false,
     "start_time": "2021-08-12T01:56:09.801570",
     "status": "completed"
    },
    "tags": []
   },
   "outputs": [],
   "source": [
    "#hide\n",
    "#Koreliacijų koeficientai"
   ]
  },
  {
   "cell_type": "code",
   "execution_count": 10,
   "id": "seeing-celebration",
   "metadata": {
    "execution": {
     "iopub.execute_input": "2021-08-12T01:56:09.882293Z",
     "iopub.status.busy": "2021-08-12T01:56:09.879841Z",
     "iopub.status.idle": "2021-08-12T01:56:09.901209Z",
     "shell.execute_reply": "2021-08-12T01:56:09.900768Z"
    },
    "papermill": {
     "duration": 0.044733,
     "end_time": "2021-08-12T01:56:09.901317",
     "exception": false,
     "start_time": "2021-08-12T01:56:09.856584",
     "status": "completed"
    },
    "tags": []
   },
   "outputs": [],
   "source": [
    "#hide_input\n",
    "#sum_corr = df_all_mrk.corr().sum().sort_values(ascending=True).index.values\n",
    "#df_all_mrk[sum_corr].corr()"
   ]
  },
  {
   "cell_type": "code",
   "execution_count": 11,
   "id": "other-painting",
   "metadata": {
    "execution": {
     "iopub.execute_input": "2021-08-12T01:56:09.930568Z",
     "iopub.status.busy": "2021-08-12T01:56:09.930080Z",
     "iopub.status.idle": "2021-08-12T01:56:09.954231Z",
     "shell.execute_reply": "2021-08-12T01:56:09.954630Z"
    },
    "papermill": {
     "duration": 0.040456,
     "end_time": "2021-08-12T01:56:09.954745",
     "exception": false,
     "start_time": "2021-08-12T01:56:09.914289",
     "status": "completed"
    },
    "tags": []
   },
   "outputs": [],
   "source": [
    "#hide\n",
    "#Koreliacijos matrica. "
   ]
  },
  {
   "cell_type": "code",
   "execution_count": 12,
   "id": "modular-magnitude",
   "metadata": {
    "execution": {
     "iopub.execute_input": "2021-08-12T01:56:09.986326Z",
     "iopub.status.busy": "2021-08-12T01:56:09.983081Z",
     "iopub.status.idle": "2021-08-12T01:56:10.007768Z",
     "shell.execute_reply": "2021-08-12T01:56:10.007314Z"
    },
    "papermill": {
     "duration": 0.04007,
     "end_time": "2021-08-12T01:56:10.007883",
     "exception": false,
     "start_time": "2021-08-12T01:56:09.967813",
     "status": "completed"
    },
    "tags": []
   },
   "outputs": [],
   "source": [
    "#hide_input\n",
    "#plt.figure(figsize=(15, 8))\n",
    "#sns.heatmap(df_all_mrk[sum_corr].corr(), annot=True, cmap=\"BrBG\");\n",
    "#plt.savefig('corr_matrix_all.eps', format='eps')"
   ]
  },
  {
   "cell_type": "code",
   "execution_count": null,
   "id": "original-senator",
   "metadata": {
    "papermill": {
     "duration": 0.012855,
     "end_time": "2021-08-12T01:56:10.034003",
     "exception": false,
     "start_time": "2021-08-12T01:56:10.021148",
     "status": "completed"
    },
    "tags": []
   },
   "outputs": [],
   "source": []
  },
  {
   "cell_type": "code",
   "execution_count": null,
   "id": "saving-secretariat",
   "metadata": {
    "papermill": {
     "duration": 0.012861,
     "end_time": "2021-08-12T01:56:10.059797",
     "exception": false,
     "start_time": "2021-08-12T01:56:10.046936",
     "status": "completed"
    },
    "tags": []
   },
   "outputs": [],
   "source": []
  }
 ],
 "metadata": {
  "kernelspec": {
   "display_name": "Python 3",
   "language": "python",
   "name": "python3"
  },
  "language_info": {
   "codemirror_mode": {
    "name": "ipython",
    "version": 3
   },
   "file_extension": ".py",
   "mimetype": "text/x-python",
   "name": "python",
   "nbconvert_exporter": "python",
   "pygments_lexer": "ipython3",
   "version": "3.6.14"
  },
  "papermill": {
   "default_parameters": {},
   "duration": 17.147785,
   "end_time": "2021-08-12T01:56:10.580500",
   "environment_variables": {},
   "exception": null,
   "input_path": "App-Correlation_charts.ipynb",
   "output_path": "App-Correlation_charts.ipynb",
   "parameters": {},
   "start_time": "2021-08-12T01:55:53.432715",
   "version": "2.2.2"
  }
 },
 "nbformat": 4,
 "nbformat_minor": 5
}