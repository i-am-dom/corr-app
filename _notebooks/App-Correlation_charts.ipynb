{
 "cells": [
  {
   "cell_type": "markdown",
   "id": "touched-facility",
   "metadata": {
    "papermill": {
     "duration": 0.017548,
     "end_time": "2021-09-24T01:58:54.815223",
     "exception": false,
     "start_time": "2021-09-24T01:58:54.797675",
     "status": "completed"
    },
    "tags": []
   },
   "source": [
    "# Koreliacijų matrica\n",
    "> Išplėstinė koreliacijų matrica. \n",
    "\n",
    "- toc: true \n",
    "- badges: true\n",
    "- comments: false\n",
    "- categories: [Dominykas Tautkus]\n",
    "- image: images/matrix.png"
   ]
  },
  {
   "cell_type": "code",
   "execution_count": null,
   "id": "premium-weekend",
   "metadata": {
    "papermill": {
     "duration": 0.01326,
     "end_time": "2021-09-24T01:58:54.842623",
     "exception": false,
     "start_time": "2021-09-24T01:58:54.829363",
     "status": "completed"
    },
    "tags": []
   },
   "outputs": [],
   "source": []
  },
  {
   "cell_type": "code",
   "execution_count": 1,
   "id": "vertical-rebate",
   "metadata": {
    "execution": {
     "iopub.execute_input": "2021-09-24T01:58:54.880486Z",
     "iopub.status.busy": "2021-09-24T01:58:54.879788Z",
     "iopub.status.idle": "2021-09-24T01:58:54.891330Z",
     "shell.execute_reply": "2021-09-24T01:58:54.891962Z"
    },
    "papermill": {
     "duration": 0.036091,
     "end_time": "2021-09-24T01:58:54.892159",
     "exception": false,
     "start_time": "2021-09-24T01:58:54.856068",
     "status": "completed"
    },
    "tags": []
   },
   "outputs": [],
   "source": [
    "#hide\n",
    "%load_ext autoreload\n",
    "%autoreload 2"
   ]
  },
  {
   "cell_type": "code",
   "execution_count": 2,
   "id": "overall-advancement",
   "metadata": {
    "execution": {
     "iopub.execute_input": "2021-09-24T01:58:54.922829Z",
     "iopub.status.busy": "2021-09-24T01:58:54.922013Z",
     "iopub.status.idle": "2021-09-24T01:58:56.350496Z",
     "shell.execute_reply": "2021-09-24T01:58:56.349469Z"
    },
    "papermill": {
     "duration": 1.445086,
     "end_time": "2021-09-24T01:58:56.350642",
     "exception": false,
     "start_time": "2021-09-24T01:58:54.905556",
     "status": "completed"
    },
    "tags": []
   },
   "outputs": [],
   "source": [
    "#hide\n",
    "from scripts.read_data import read_api\n",
    "from IPython.display import HTML\n",
    "import plotly.graph_objects as go\n"
   ]
  },
  {
   "cell_type": "code",
   "execution_count": 3,
   "id": "light-crazy",
   "metadata": {
    "execution": {
     "iopub.execute_input": "2021-09-24T01:58:56.383222Z",
     "iopub.status.busy": "2021-09-24T01:58:56.382527Z",
     "iopub.status.idle": "2021-09-24T01:58:56.407490Z",
     "shell.execute_reply": "2021-09-24T01:58:56.406942Z"
    },
    "papermill": {
     "duration": 0.042943,
     "end_time": "2021-09-24T01:58:56.407635",
     "exception": false,
     "start_time": "2021-09-24T01:58:56.364692",
     "status": "completed"
    },
    "tags": []
   },
   "outputs": [],
   "source": [
    "#hide\n",
    "### ICO koreliacija"
   ]
  },
  {
   "cell_type": "code",
   "execution_count": 4,
   "id": "likely-bahrain",
   "metadata": {
    "execution": {
     "iopub.execute_input": "2021-09-24T01:58:56.440503Z",
     "iopub.status.busy": "2021-09-24T01:58:56.439539Z",
     "iopub.status.idle": "2021-09-24T01:58:57.400756Z",
     "shell.execute_reply": "2021-09-24T01:58:57.400166Z"
    },
    "papermill": {
     "duration": 0.979963,
     "end_time": "2021-09-24T01:58:57.400915",
     "exception": false,
     "start_time": "2021-09-24T01:58:56.420952",
     "status": "completed"
    },
    "tags": []
   },
   "outputs": [],
   "source": [
    "#hide\n",
    "import matplotlib.pyplot as plt\n",
    "import numpy as np\n",
    "import pandas as pd\n",
    "import seaborn as sns\n",
    "import matplotlib.pyplot as plt \n",
    "import matplotlib.dates as mdates\n",
    "import matplotlib.pyplot as plt"
   ]
  },
  {
   "cell_type": "code",
   "execution_count": 5,
   "id": "superior-blanket",
   "metadata": {
    "execution": {
     "iopub.execute_input": "2021-09-24T01:58:57.434785Z",
     "iopub.status.busy": "2021-09-24T01:58:57.434036Z",
     "iopub.status.idle": "2021-09-24T01:59:13.254538Z",
     "shell.execute_reply": "2021-09-24T01:59:13.253737Z"
    },
    "papermill": {
     "duration": 15.840167,
     "end_time": "2021-09-24T01:59:13.254694",
     "exception": false,
     "start_time": "2021-09-24T01:58:57.414527",
     "status": "completed"
    },
    "tags": []
   },
   "outputs": [
    {
     "name": "stderr",
     "output_type": "stream",
     "text": [
      "/home/runner/work/corr-app/corr-app/_notebooks/scripts/read_data.py:187: SettingWithCopyWarning:\n",
      "\n",
      "\n",
      "A value is trying to be set on a copy of a slice from a DataFrame.\n",
      "Try using .loc[row_indexer,col_indexer] = value instead\n",
      "\n",
      "See the caveats in the documentation: https://pandas.pydata.org/pandas-docs/stable/user_guide/indexing.html#returning-a-view-versus-a-copy\n",
      "\n"
     ]
    },
    {
     "name": "stderr",
     "output_type": "stream",
     "text": [
      "/home/runner/work/corr-app/corr-app/_notebooks/scripts/read_data.py:215: SettingWithCopyWarning:\n",
      "\n",
      "\n",
      "A value is trying to be set on a copy of a slice from a DataFrame.\n",
      "Try using .loc[row_indexer,col_indexer] = value instead\n",
      "\n",
      "See the caveats in the documentation: https://pandas.pydata.org/pandas-docs/stable/user_guide/indexing.html#returning-a-view-versus-a-copy\n",
      "\n"
     ]
    }
   ],
   "source": [
    "#hide\n",
    "df_all = read_api()\n",
    "#df_all = df_all.drop(['SP500', 'XAU', 'ETH', 'BTC'], axis=1)\n",
    "\n"
   ]
  },
  {
   "cell_type": "code",
   "execution_count": 6,
   "id": "mature-alert",
   "metadata": {
    "execution": {
     "iopub.execute_input": "2021-09-24T01:59:13.299082Z",
     "iopub.status.busy": "2021-09-24T01:59:13.297281Z",
     "iopub.status.idle": "2021-09-24T01:59:13.330213Z",
     "shell.execute_reply": "2021-09-24T01:59:13.329561Z"
    },
    "papermill": {
     "duration": 0.058654,
     "end_time": "2021-09-24T01:59:13.330367",
     "exception": false,
     "start_time": "2021-09-24T01:59:13.271713",
     "status": "completed"
    },
    "tags": []
   },
   "outputs": [],
   "source": [
    "#hide_input\n",
    "sum_corr = df_all.corr().sum().sort_values(ascending=True).index.values\n",
    "#df_all[sum_corr].corr()"
   ]
  },
  {
   "cell_type": "markdown",
   "id": "complex-syndicate",
   "metadata": {
    "papermill": {
     "duration": 0.014436,
     "end_time": "2021-09-24T01:59:13.359137",
     "exception": false,
     "start_time": "2021-09-24T01:59:13.344701",
     "status": "completed"
    },
    "tags": []
   },
   "source": [
    "## Išplėstinė koreliacijų matrica. "
   ]
  },
  {
   "cell_type": "code",
   "execution_count": 7,
   "id": "atomic-omaha",
   "metadata": {
    "execution": {
     "iopub.execute_input": "2021-09-24T01:59:13.393541Z",
     "iopub.status.busy": "2021-09-24T01:59:13.392280Z",
     "iopub.status.idle": "2021-09-24T01:59:14.913789Z",
     "shell.execute_reply": "2021-09-24T01:59:14.914368Z"
    },
    "papermill": {
     "duration": 1.54104,
     "end_time": "2021-09-24T01:59:14.914522",
     "exception": false,
     "start_time": "2021-09-24T01:59:13.373482",
     "status": "completed"
    },
    "tags": []
   },
   "outputs": [
    {
     "data": {
      "image/png": "[encoded data removed]",
      "text/plain": [
       "<Figure size 1080x792 with 2 Axes>"
      ]
     },
     "metadata": {
      "needs_background": "light"
     },
     "output_type": "display_data"
    }
   ],
   "source": [
    "#hide_input\n",
    "plt.figure(figsize=(15, 11))\n",
    "sns.heatmap(df_all[sum_corr].corr(), annot=True, cmap=\"cubehelix\") \n",
    "sns.set(font_scale=1.25)\n",
    "plt.savefig('corr_matrix.png', format='eps')"
   ]
  },
  {
   "cell_type": "code",
   "execution_count": 8,
   "id": "arbitrary-sullivan",
   "metadata": {
    "execution": {
     "iopub.execute_input": "2021-09-24T01:59:14.952493Z",
     "iopub.status.busy": "2021-09-24T01:59:14.951821Z",
     "iopub.status.idle": "2021-09-24T01:59:14.980744Z",
     "shell.execute_reply": "2021-09-24T01:59:14.980191Z"
    },
    "papermill": {
     "duration": 0.049789,
     "end_time": "2021-09-24T01:59:14.980888",
     "exception": false,
     "start_time": "2021-09-24T01:59:14.931099",
     "status": "completed"
    },
    "tags": []
   },
   "outputs": [],
   "source": [
    "#hide\n",
    "#df_all_mrk = read_api()"
   ]
  },
  {
   "cell_type": "code",
   "execution_count": 9,
   "id": "delayed-adapter",
   "metadata": {
    "execution": {
     "iopub.execute_input": "2021-09-24T01:59:15.020064Z",
     "iopub.status.busy": "2021-09-24T01:59:15.019284Z",
     "iopub.status.idle": "2021-09-24T01:59:15.047969Z",
     "shell.execute_reply": "2021-09-24T01:59:15.047431Z"
    },
    "papermill": {
     "duration": 0.050828,
     "end_time": "2021-09-24T01:59:15.048102",
     "exception": false,
     "start_time": "2021-09-24T01:59:14.997274",
     "status": "completed"
    },
    "tags": []
   },
   "outputs": [],
   "source": [
    "#hide\n",
    "#Koreliacijų koeficientai"
   ]
  },
  {
   "cell_type": "code",
   "execution_count": 10,
   "id": "seeing-celebration",
   "metadata": {
    "execution": {
     "iopub.execute_input": "2021-09-24T01:59:15.089539Z",
     "iopub.status.busy": "2021-09-24T01:59:15.088842Z",
     "iopub.status.idle": "2021-09-24T01:59:15.117214Z",
     "shell.execute_reply": "2021-09-24T01:59:15.116548Z"
    },
    "papermill": {
     "duration": 0.052683,
     "end_time": "2021-09-24T01:59:15.117353",
     "exception": false,
     "start_time": "2021-09-24T01:59:15.064670",
     "status": "completed"
    },
    "tags": []
   },
   "outputs": [],
   "source": [
    "#hide_input\n",
    "#sum_corr = df_all_mrk.corr().sum().sort_values(ascending=True).index.values\n",
    "#df_all_mrk[sum_corr].corr()"
   ]
  },
  {
   "cell_type": "code",
   "execution_count": 11,
   "id": "other-painting",
   "metadata": {
    "execution": {
     "iopub.execute_input": "2021-09-24T01:59:15.156447Z",
     "iopub.status.busy": "2021-09-24T01:59:15.155558Z",
     "iopub.status.idle": "2021-09-24T01:59:15.183906Z",
     "shell.execute_reply": "2021-09-24T01:59:15.183352Z"
    },
    "papermill": {
     "duration": 0.049939,
     "end_time": "2021-09-24T01:59:15.184050",
     "exception": false,
     "start_time": "2021-09-24T01:59:15.134111",
     "status": "completed"
    },
    "tags": []
   },
   "outputs": [],
   "source": [
    "#hide\n",
    "#Koreliacijos matrica. "
   ]
  },
  {
   "cell_type": "code",
   "execution_count": 12,
   "id": "modular-magnitude",
   "metadata": {
    "execution": {
     "iopub.execute_input": "2021-09-24T01:59:15.220909Z",
     "iopub.status.busy": "2021-09-24T01:59:15.220246Z",
     "iopub.status.idle": "2021-09-24T01:59:15.249593Z",
     "shell.execute_reply": "2021-09-24T01:59:15.249039Z"
    },
    "papermill": {
     "duration": 0.04895,
     "end_time": "2021-09-24T01:59:15.249754",
     "exception": false,
     "start_time": "2021-09-24T01:59:15.200804",
     "status": "completed"
    },
    "tags": []
   },
   "outputs": [],
   "source": [
    "#hide_input\n",
    "#plt.figure(figsize=(15, 8))\n",
    "#sns.heatmap(df_all_mrk[sum_corr].corr(), annot=True, cmap=\"BrBG\");\n",
    "#plt.savefig('corr_matrix_all.eps', format='eps')"
   ]
  },
  {
   "cell_type": "code",
   "execution_count": null,
   "id": "original-senator",
   "metadata": {
    "papermill": {
     "duration": 0.016009,
     "end_time": "2021-09-24T01:59:15.282076",
     "exception": false,
     "start_time": "2021-09-24T01:59:15.266067",
     "status": "completed"
    },
    "tags": []
   },
   "outputs": [],
   "source": []
  },
  {
   "cell_type": "code",
   "execution_count": null,
   "id": "saving-secretariat",
   "metadata": {
    "papermill": {
     "duration": 0.016124,
     "end_time": "2021-09-24T01:59:15.314026",
     "exception": false,
     "start_time": "2021-09-24T01:59:15.297902",
     "status": "completed"
    },
    "tags": []
   },
   "outputs": [],
   "source": []
  }
 ],
 "metadata": {
  "kernelspec": {
   "display_name": "Python 3",
   "language": "python",
   "name": "python3"
  },
  "language_info": {
   "codemirror_mode": {
    "name": "ipython",
    "version": 3
   },
   "file_extension": ".py",
   "mimetype": "text/x-python",
   "name": "python",
   "nbconvert_exporter": "python",
   "pygments_lexer": "ipython3",
   "version": "3.6.15"
  },
  "papermill": {
   "default_parameters": {},
   "duration": 22.133779,
   "end_time": "2021-09-24T01:59:15.839903",
   "environment_variables": {},
   "exception": null,
   "input_path": "App-Correlation_charts.ipynb",
   "output_path": "App-Correlation_charts.ipynb",
   "parameters": {},
   "start_time": "2021-09-24T01:58:53.706124",
   "version": "2.2.2"
  }
 },
 "nbformat": 4,
 "nbformat_minor": 5
}