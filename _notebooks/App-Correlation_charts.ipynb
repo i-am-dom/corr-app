{
 "cells": [
  {
   "cell_type": "markdown",
   "id": "touched-facility",
   "metadata": {
    "papermill": {
     "duration": 0.018434,
     "end_time": "2022-04-04T02:45:32.143456",
     "exception": false,
     "start_time": "2022-04-04T02:45:32.125022",
     "status": "completed"
    },
    "tags": []
   },
   "source": [
    "# Koreliacijų matrica\n",
    "> Išplėstinė koreliacijų matrica. \n",
    "\n",
    "- toc: true \n",
    "- badges: true\n",
    "- comments: false\n",
    "- categories: [Dominykas Tautkus]\n",
    "- image: images/matrix.png"
   ]
  },
  {
   "cell_type": "code",
   "execution_count": null,
   "id": "premium-weekend",
   "metadata": {
    "papermill": {
     "duration": 0.01244,
     "end_time": "2022-04-04T02:45:32.169460",
     "exception": false,
     "start_time": "2022-04-04T02:45:32.157020",
     "status": "completed"
    },
    "tags": []
   },
   "outputs": [],
   "source": []
  },
  {
   "cell_type": "code",
   "execution_count": 1,
   "id": "vertical-rebate",
   "metadata": {
    "execution": {
     "iopub.execute_input": "2022-04-04T02:45:32.215122Z",
     "iopub.status.busy": "2022-04-04T02:45:32.213023Z",
     "iopub.status.idle": "2022-04-04T02:45:32.225136Z",
     "shell.execute_reply": "2022-04-04T02:45:32.224530Z"
    },
    "papermill": {
     "duration": 0.043593,
     "end_time": "2022-04-04T02:45:32.225300",
     "exception": false,
     "start_time": "2022-04-04T02:45:32.181707",
     "status": "completed"
    },
    "tags": []
   },
   "outputs": [],
   "source": [
    "#hide\n",
    "%load_ext autoreload\n",
    "%autoreload 2"
   ]
  },
  {
   "cell_type": "code",
   "execution_count": 2,
   "id": "overall-advancement",
   "metadata": {
    "execution": {
     "iopub.execute_input": "2022-04-04T02:45:32.255207Z",
     "iopub.status.busy": "2022-04-04T02:45:32.254586Z",
     "iopub.status.idle": "2022-04-04T02:45:33.798538Z",
     "shell.execute_reply": "2022-04-04T02:45:33.797968Z"
    },
    "papermill": {
     "duration": 1.560358,
     "end_time": "2022-04-04T02:45:33.798687",
     "exception": false,
     "start_time": "2022-04-04T02:45:32.238329",
     "status": "completed"
    },
    "tags": []
   },
   "outputs": [],
   "source": [
    "#hide\n",
    "from scripts.read_data import read_api\n",
    "from IPython.display import HTML\n",
    "import plotly.graph_objects as go\n"
   ]
  },
  {
   "cell_type": "code",
   "execution_count": 3,
   "id": "light-crazy",
   "metadata": {
    "execution": {
     "iopub.execute_input": "2022-04-04T02:45:33.831182Z",
     "iopub.status.busy": "2022-04-04T02:45:33.830562Z",
     "iopub.status.idle": "2022-04-04T02:45:33.858104Z",
     "shell.execute_reply": "2022-04-04T02:45:33.856767Z"
    },
    "papermill": {
     "duration": 0.045718,
     "end_time": "2022-04-04T02:45:33.858296",
     "exception": false,
     "start_time": "2022-04-04T02:45:33.812578",
     "status": "completed"
    },
    "tags": []
   },
   "outputs": [],
   "source": [
    "#hide\n",
    "### ICO koreliacija"
   ]
  },
  {
   "cell_type": "code",
   "execution_count": 4,
   "id": "likely-bahrain",
   "metadata": {
    "execution": {
     "iopub.execute_input": "2022-04-04T02:45:33.889904Z",
     "iopub.status.busy": "2022-04-04T02:45:33.889274Z",
     "iopub.status.idle": "2022-04-04T02:45:34.955917Z",
     "shell.execute_reply": "2022-04-04T02:45:34.955359Z"
    },
    "papermill": {
     "duration": 1.084308,
     "end_time": "2022-04-04T02:45:34.956065",
     "exception": false,
     "start_time": "2022-04-04T02:45:33.871757",
     "status": "completed"
    },
    "tags": []
   },
   "outputs": [],
   "source": [
    "#hide\n",
    "import matplotlib.pyplot as plt\n",
    "import numpy as np\n",
    "import pandas as pd\n",
    "import seaborn as sns\n",
    "import matplotlib.pyplot as plt \n",
    "import matplotlib.dates as mdates\n",
    "import matplotlib.pyplot as plt"
   ]
  },
  {
   "cell_type": "code",
   "execution_count": 5,
   "id": "superior-blanket",
   "metadata": {
    "execution": {
     "iopub.execute_input": "2022-04-04T02:45:34.988000Z",
     "iopub.status.busy": "2022-04-04T02:45:34.987357Z",
     "iopub.status.idle": "2022-04-04T02:45:44.315620Z",
     "shell.execute_reply": "2022-04-04T02:45:44.316062Z"
    },
    "papermill": {
     "duration": 9.346974,
     "end_time": "2022-04-04T02:45:44.316206",
     "exception": false,
     "start_time": "2022-04-04T02:45:34.969232",
     "status": "completed"
    },
    "tags": []
   },
   "outputs": [
    {
     "name": "stderr",
     "output_type": "stream",
     "text": [
      "/home/runner/work/corr-app/corr-app/_notebooks/scripts/read_data.py:187: SettingWithCopyWarning:\n",
      "\n",
      "\n",
      "A value is trying to be set on a copy of a slice from a DataFrame.\n",
      "Try using .loc[row_indexer,col_indexer] = value instead\n",
      "\n",
      "See the caveats in the documentation: https://pandas.pydata.org/pandas-docs/stable/user_guide/indexing.html#returning-a-view-versus-a-copy\n",
      "\n"
     ]
    },
    {
     "name": "stderr",
     "output_type": "stream",
     "text": [
      "/home/runner/work/corr-app/corr-app/_notebooks/scripts/read_data.py:215: SettingWithCopyWarning:\n",
      "\n",
      "\n",
      "A value is trying to be set on a copy of a slice from a DataFrame.\n",
      "Try using .loc[row_indexer,col_indexer] = value instead\n",
      "\n",
      "See the caveats in the documentation: https://pandas.pydata.org/pandas-docs/stable/user_guide/indexing.html#returning-a-view-versus-a-copy\n",
      "\n"
     ]
    }
   ],
   "source": [
    "#hide\n",
    "df_all = read_api()\n",
    "#df_all = df_all.drop(['SP500', 'XAU', 'ETH', 'BTC'], axis=1)\n",
    "\n"
   ]
  },
  {
   "cell_type": "code",
   "execution_count": 6,
   "id": "mature-alert",
   "metadata": {
    "execution": {
     "iopub.execute_input": "2022-04-04T02:45:44.349654Z",
     "iopub.status.busy": "2022-04-04T02:45:44.349020Z",
     "iopub.status.idle": "2022-04-04T02:45:44.389956Z",
     "shell.execute_reply": "2022-04-04T02:45:44.389393Z"
    },
    "papermill": {
     "duration": 0.059903,
     "end_time": "2022-04-04T02:45:44.390105",
     "exception": false,
     "start_time": "2022-04-04T02:45:44.330202",
     "status": "completed"
    },
    "tags": []
   },
   "outputs": [],
   "source": [
    "#hide_input\n",
    "sum_corr = df_all.corr().sum().sort_values(ascending=True).index.values\n",
    "#df_all[sum_corr].corr()"
   ]
  },
  {
   "cell_type": "markdown",
   "id": "complex-syndicate",
   "metadata": {
    "papermill": {
     "duration": 0.01338,
     "end_time": "2022-04-04T02:45:44.418778",
     "exception": false,
     "start_time": "2022-04-04T02:45:44.405398",
     "status": "completed"
    },
    "tags": []
   },
   "source": [
    "## Išplėstinė koreliacijų matrica. "
   ]
  },
  {
   "cell_type": "code",
   "execution_count": 7,
   "id": "atomic-omaha",
   "metadata": {
    "execution": {
     "iopub.execute_input": "2022-04-04T02:45:44.452617Z",
     "iopub.status.busy": "2022-04-04T02:45:44.451999Z",
     "iopub.status.idle": "2022-04-04T02:45:45.952548Z",
     "shell.execute_reply": "2022-04-04T02:45:45.951981Z"
    },
    "papermill": {
     "duration": 1.518598,
     "end_time": "2022-04-04T02:45:45.952687",
     "exception": false,
     "start_time": "2022-04-04T02:45:44.434089",
     "status": "completed"
    },
    "tags": []
   },
   "outputs": [
    {
     "data": {
      "image/png": "[encoded data removed]",
      "text/plain": [
       "<Figure size 1080x792 with 2 Axes>"
      ]
     },
     "metadata": {
      "needs_background": "light"
     },
     "output_type": "display_data"
    }
   ],
   "source": [
    "#hide_input\n",
    "plt.figure(figsize=(15, 11))\n",
    "sns.heatmap(df_all[sum_corr].corr(), annot=True, cmap=\"cubehelix\") \n",
    "sns.set(font_scale=1.25)\n",
    "plt.savefig('corr_matrix.png', format='eps')"
   ]
  },
  {
   "cell_type": "code",
   "execution_count": 8,
   "id": "arbitrary-sullivan",
   "metadata": {
    "execution": {
     "iopub.execute_input": "2022-04-04T02:45:45.991648Z",
     "iopub.status.busy": "2022-04-04T02:45:45.991022Z",
     "iopub.status.idle": "2022-04-04T02:45:46.021899Z",
     "shell.execute_reply": "2022-04-04T02:45:46.021244Z"
    },
    "papermill": {
     "duration": 0.05142,
     "end_time": "2022-04-04T02:45:46.022058",
     "exception": false,
     "start_time": "2022-04-04T02:45:45.970638",
     "status": "completed"
    },
    "tags": []
   },
   "outputs": [],
   "source": [
    "#hide\n",
    "#df_all_mrk = read_api()"
   ]
  },
  {
   "cell_type": "code",
   "execution_count": 9,
   "id": "delayed-adapter",
   "metadata": {
    "execution": {
     "iopub.execute_input": "2022-04-04T02:45:46.057647Z",
     "iopub.status.busy": "2022-04-04T02:45:46.057035Z",
     "iopub.status.idle": "2022-04-04T02:45:46.094462Z",
     "shell.execute_reply": "2022-04-04T02:45:46.093698Z"
    },
    "papermill": {
     "duration": 0.056267,
     "end_time": "2022-04-04T02:45:46.094615",
     "exception": false,
     "start_time": "2022-04-04T02:45:46.038348",
     "status": "completed"
    },
    "tags": []
   },
   "outputs": [],
   "source": [
    "#hide\n",
    "#Koreliacijų koeficientai"
   ]
  },
  {
   "cell_type": "code",
   "execution_count": 10,
   "id": "seeing-celebration",
   "metadata": {
    "execution": {
     "iopub.execute_input": "2022-04-04T02:45:46.132802Z",
     "iopub.status.busy": "2022-04-04T02:45:46.132068Z",
     "iopub.status.idle": "2022-04-04T02:45:46.163942Z",
     "shell.execute_reply": "2022-04-04T02:45:46.164611Z"
    },
    "papermill": {
     "duration": 0.053294,
     "end_time": "2022-04-04T02:45:46.164860",
     "exception": false,
     "start_time": "2022-04-04T02:45:46.111566",
     "status": "completed"
    },
    "tags": []
   },
   "outputs": [],
   "source": [
    "#hide_input\n",
    "#sum_corr = df_all_mrk.corr().sum().sort_values(ascending=True).index.values\n",
    "#df_all_mrk[sum_corr].corr()"
   ]
  },
  {
   "cell_type": "code",
   "execution_count": 11,
   "id": "other-painting",
   "metadata": {
    "execution": {
     "iopub.execute_input": "2022-04-04T02:45:46.205075Z",
     "iopub.status.busy": "2022-04-04T02:45:46.204437Z",
     "iopub.status.idle": "2022-04-04T02:45:46.235079Z",
     "shell.execute_reply": "2022-04-04T02:45:46.234389Z"
    },
    "papermill": {
     "duration": 0.053577,
     "end_time": "2022-04-04T02:45:46.235256",
     "exception": false,
     "start_time": "2022-04-04T02:45:46.181679",
     "status": "completed"
    },
    "tags": []
   },
   "outputs": [],
   "source": [
    "#hide\n",
    "#Koreliacijos matrica. "
   ]
  },
  {
   "cell_type": "code",
   "execution_count": 12,
   "id": "modular-magnitude",
   "metadata": {
    "execution": {
     "iopub.execute_input": "2022-04-04T02:45:46.272403Z",
     "iopub.status.busy": "2022-04-04T02:45:46.271715Z",
     "iopub.status.idle": "2022-04-04T02:45:46.309492Z",
     "shell.execute_reply": "2022-04-04T02:45:46.308962Z"
    },
    "papermill": {
     "duration": 0.057877,
     "end_time": "2022-04-04T02:45:46.309634",
     "exception": false,
     "start_time": "2022-04-04T02:45:46.251757",
     "status": "completed"
    },
    "tags": []
   },
   "outputs": [],
   "source": [
    "#hide_input\n",
    "#plt.figure(figsize=(15, 8))\n",
    "#sns.heatmap(df_all_mrk[sum_corr].corr(), annot=True, cmap=\"BrBG\");\n",
    "#plt.savefig('corr_matrix_all.eps', format='eps')"
   ]
  },
  {
   "cell_type": "code",
   "execution_count": null,
   "id": "original-senator",
   "metadata": {
    "papermill": {
     "duration": 0.015813,
     "end_time": "2022-04-04T02:45:46.341289",
     "exception": false,
     "start_time": "2022-04-04T02:45:46.325476",
     "status": "completed"
    },
    "tags": []
   },
   "outputs": [],
   "source": []
  },
  {
   "cell_type": "code",
   "execution_count": null,
   "id": "saving-secretariat",
   "metadata": {
    "papermill": {
     "duration": 0.016156,
     "end_time": "2022-04-04T02:45:46.373498",
     "exception": false,
     "start_time": "2022-04-04T02:45:46.357342",
     "status": "completed"
    },
    "tags": []
   },
   "outputs": [],
   "source": []
  }
 ],
 "metadata": {
  "kernelspec": {
   "display_name": "Python 3",
   "language": "python",
   "name": "python3"
  },
  "language_info": {
   "codemirror_mode": {
    "name": "ipython",
    "version": 3
   },
   "file_extension": ".py",
   "mimetype": "text/x-python",
   "name": "python",
   "nbconvert_exporter": "python",
   "pygments_lexer": "ipython3",
   "version": "3.6.15"
  },
  "papermill": {
   "default_parameters": {},
   "duration": 16.203234,
   "end_time": "2022-04-04T02:45:47.010403",
   "environment_variables": {},
   "exception": null,
   "input_path": "App-Correlation_charts.ipynb",
   "output_path": "App-Correlation_charts.ipynb",
   "parameters": {},
   "start_time": "2022-04-04T02:45:30.807169",
   "version": "2.2.2"
  }
 },
 "nbformat": 4,
 "nbformat_minor": 5
}