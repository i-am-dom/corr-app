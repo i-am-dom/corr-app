{
 "cells": [
  {
   "cell_type": "markdown",
   "id": "touched-facility",
   "metadata": {
    "papermill": {
     "duration": 0.018113,
     "end_time": "2022-04-28T03:42:13.346818",
     "exception": false,
     "start_time": "2022-04-28T03:42:13.328705",
     "status": "completed"
    },
    "tags": []
   },
   "source": [
    "# Koreliacijų matrica\n",
    "> Išplėstinė koreliacijų matrica. \n",
    "\n",
    "- toc: true \n",
    "- badges: true\n",
    "- comments: false\n",
    "- categories: [Dominykas Tautkus]\n",
    "- image: images/matrix.png"
   ]
  },
  {
   "cell_type": "code",
   "execution_count": null,
   "id": "premium-weekend",
   "metadata": {
    "papermill": {
     "duration": 0.013037,
     "end_time": "2022-04-28T03:42:13.374191",
     "exception": false,
     "start_time": "2022-04-28T03:42:13.361154",
     "status": "completed"
    },
    "tags": []
   },
   "outputs": [],
   "source": []
  },
  {
   "cell_type": "code",
   "execution_count": 1,
   "id": "vertical-rebate",
   "metadata": {
    "execution": {
     "iopub.execute_input": "2022-04-28T03:42:13.411018Z",
     "iopub.status.busy": "2022-04-28T03:42:13.410399Z",
     "iopub.status.idle": "2022-04-28T03:42:13.422041Z",
     "shell.execute_reply": "2022-04-28T03:42:13.421448Z"
    },
    "papermill": {
     "duration": 0.035684,
     "end_time": "2022-04-28T03:42:13.422221",
     "exception": false,
     "start_time": "2022-04-28T03:42:13.386537",
     "status": "completed"
    },
    "tags": []
   },
   "outputs": [],
   "source": [
    "#hide\n",
    "%load_ext autoreload\n",
    "%autoreload 2"
   ]
  },
  {
   "cell_type": "code",
   "execution_count": 2,
   "id": "overall-advancement",
   "metadata": {
    "execution": {
     "iopub.execute_input": "2022-04-28T03:42:13.450360Z",
     "iopub.status.busy": "2022-04-28T03:42:13.449712Z",
     "iopub.status.idle": "2022-04-28T03:42:15.172853Z",
     "shell.execute_reply": "2022-04-28T03:42:15.172268Z"
    },
    "papermill": {
     "duration": 1.738125,
     "end_time": "2022-04-28T03:42:15.172995",
     "exception": false,
     "start_time": "2022-04-28T03:42:13.434870",
     "status": "completed"
    },
    "tags": []
   },
   "outputs": [],
   "source": [
    "#hide\n",
    "from scripts.read_data import read_api\n",
    "from IPython.display import HTML\n",
    "import plotly.graph_objects as go\n"
   ]
  },
  {
   "cell_type": "code",
   "execution_count": 3,
   "id": "light-crazy",
   "metadata": {
    "execution": {
     "iopub.execute_input": "2022-04-28T03:42:15.208126Z",
     "iopub.status.busy": "2022-04-28T03:42:15.207308Z",
     "iopub.status.idle": "2022-04-28T03:42:15.237880Z",
     "shell.execute_reply": "2022-04-28T03:42:15.238437Z"
    },
    "papermill": {
     "duration": 0.051932,
     "end_time": "2022-04-28T03:42:15.238608",
     "exception": false,
     "start_time": "2022-04-28T03:42:15.186676",
     "status": "completed"
    },
    "tags": []
   },
   "outputs": [],
   "source": [
    "#hide\n",
    "### ICO koreliacija"
   ]
  },
  {
   "cell_type": "code",
   "execution_count": 4,
   "id": "likely-bahrain",
   "metadata": {
    "execution": {
     "iopub.execute_input": "2022-04-28T03:42:15.270533Z",
     "iopub.status.busy": "2022-04-28T03:42:15.269829Z",
     "iopub.status.idle": "2022-04-28T03:42:16.574046Z",
     "shell.execute_reply": "2022-04-28T03:42:16.574582Z"
    },
    "papermill": {
     "duration": 1.322772,
     "end_time": "2022-04-28T03:42:16.574752",
     "exception": false,
     "start_time": "2022-04-28T03:42:15.251980",
     "status": "completed"
    },
    "tags": []
   },
   "outputs": [],
   "source": [
    "#hide\n",
    "import matplotlib.pyplot as plt\n",
    "import numpy as np\n",
    "import pandas as pd\n",
    "import seaborn as sns\n",
    "import matplotlib.pyplot as plt \n",
    "import matplotlib.dates as mdates\n",
    "import matplotlib.pyplot as plt"
   ]
  },
  {
   "cell_type": "code",
   "execution_count": 5,
   "id": "superior-blanket",
   "metadata": {
    "execution": {
     "iopub.execute_input": "2022-04-28T03:42:16.605006Z",
     "iopub.status.busy": "2022-04-28T03:42:16.604360Z",
     "iopub.status.idle": "2022-04-28T03:42:32.617608Z",
     "shell.execute_reply": "2022-04-28T03:42:32.617020Z"
    },
    "papermill": {
     "duration": 16.029261,
     "end_time": "2022-04-28T03:42:32.617762",
     "exception": false,
     "start_time": "2022-04-28T03:42:16.588501",
     "status": "completed"
    },
    "tags": []
   },
   "outputs": [
    {
     "name": "stderr",
     "output_type": "stream",
     "text": [
      "/home/runner/work/corr-app/corr-app/_notebooks/scripts/read_data.py:187: SettingWithCopyWarning:\n",
      "\n",
      "\n",
      "A value is trying to be set on a copy of a slice from a DataFrame.\n",
      "Try using .loc[row_indexer,col_indexer] = value instead\n",
      "\n",
      "See the caveats in the documentation: https://pandas.pydata.org/pandas-docs/stable/user_guide/indexing.html#returning-a-view-versus-a-copy\n",
      "\n"
     ]
    },
    {
     "name": "stderr",
     "output_type": "stream",
     "text": [
      "/home/runner/work/corr-app/corr-app/_notebooks/scripts/read_data.py:215: SettingWithCopyWarning:\n",
      "\n",
      "\n",
      "A value is trying to be set on a copy of a slice from a DataFrame.\n",
      "Try using .loc[row_indexer,col_indexer] = value instead\n",
      "\n",
      "See the caveats in the documentation: https://pandas.pydata.org/pandas-docs/stable/user_guide/indexing.html#returning-a-view-versus-a-copy\n",
      "\n"
     ]
    }
   ],
   "source": [
    "#hide\n",
    "df_all = read_api()\n",
    "#df_all = df_all.drop(['SP500', 'XAU', 'ETH', 'BTC'], axis=1)\n",
    "\n"
   ]
  },
  {
   "cell_type": "code",
   "execution_count": 6,
   "id": "mature-alert",
   "metadata": {
    "execution": {
     "iopub.execute_input": "2022-04-28T03:42:32.651957Z",
     "iopub.status.busy": "2022-04-28T03:42:32.651194Z",
     "iopub.status.idle": "2022-04-28T03:42:32.687223Z",
     "shell.execute_reply": "2022-04-28T03:42:32.687750Z"
    },
    "papermill": {
     "duration": 0.055538,
     "end_time": "2022-04-28T03:42:32.687926",
     "exception": false,
     "start_time": "2022-04-28T03:42:32.632388",
     "status": "completed"
    },
    "tags": []
   },
   "outputs": [],
   "source": [
    "#hide_input\n",
    "sum_corr = df_all.corr().sum().sort_values(ascending=True).index.values\n",
    "#df_all[sum_corr].corr()"
   ]
  },
  {
   "cell_type": "markdown",
   "id": "complex-syndicate",
   "metadata": {
    "papermill": {
     "duration": 0.015004,
     "end_time": "2022-04-28T03:42:32.717196",
     "exception": false,
     "start_time": "2022-04-28T03:42:32.702192",
     "status": "completed"
    },
    "tags": []
   },
   "source": [
    "## Išplėstinė koreliacijų matrica. "
   ]
  },
  {
   "cell_type": "code",
   "execution_count": 7,
   "id": "atomic-omaha",
   "metadata": {
    "execution": {
     "iopub.execute_input": "2022-04-28T03:42:32.751007Z",
     "iopub.status.busy": "2022-04-28T03:42:32.750324Z",
     "iopub.status.idle": "2022-04-28T03:42:34.376920Z",
     "shell.execute_reply": "2022-04-28T03:42:34.377651Z"
    },
    "papermill": {
     "duration": 1.646665,
     "end_time": "2022-04-28T03:42:34.377823",
     "exception": false,
     "start_time": "2022-04-28T03:42:32.731158",
     "status": "completed"
    },
    "tags": []
   },
   "outputs": [
    {
     "data": {
      "image/png": "[encoded data removed]",
      "text/plain": [
       "<Figure size 1080x792 with 2 Axes>"
      ]
     },
     "metadata": {
      "needs_background": "light"
     },
     "output_type": "display_data"
    }
   ],
   "source": [
    "#hide_input\n",
    "plt.figure(figsize=(15, 11))\n",
    "sns.heatmap(df_all[sum_corr].corr(), annot=True, cmap=\"cubehelix\") \n",
    "sns.set(font_scale=1.25)\n",
    "plt.savefig('corr_matrix.png', format='eps')"
   ]
  },
  {
   "cell_type": "code",
   "execution_count": 8,
   "id": "arbitrary-sullivan",
   "metadata": {
    "execution": {
     "iopub.execute_input": "2022-04-28T03:42:34.420724Z",
     "iopub.status.busy": "2022-04-28T03:42:34.420033Z",
     "iopub.status.idle": "2022-04-28T03:42:34.450858Z",
     "shell.execute_reply": "2022-04-28T03:42:34.448277Z"
    },
    "papermill": {
     "duration": 0.056925,
     "end_time": "2022-04-28T03:42:34.451981",
     "exception": false,
     "start_time": "2022-04-28T03:42:34.395056",
     "status": "completed"
    },
    "tags": []
   },
   "outputs": [],
   "source": [
    "#hide\n",
    "#df_all_mrk = read_api()"
   ]
  },
  {
   "cell_type": "code",
   "execution_count": 9,
   "id": "delayed-adapter",
   "metadata": {
    "execution": {
     "iopub.execute_input": "2022-04-28T03:42:34.493068Z",
     "iopub.status.busy": "2022-04-28T03:42:34.492394Z",
     "iopub.status.idle": "2022-04-28T03:42:34.523847Z",
     "shell.execute_reply": "2022-04-28T03:42:34.523239Z"
    },
    "papermill": {
     "duration": 0.051627,
     "end_time": "2022-04-28T03:42:34.524005",
     "exception": false,
     "start_time": "2022-04-28T03:42:34.472378",
     "status": "completed"
    },
    "tags": []
   },
   "outputs": [],
   "source": [
    "#hide\n",
    "#Koreliacijų koeficientai"
   ]
  },
  {
   "cell_type": "code",
   "execution_count": 10,
   "id": "seeing-celebration",
   "metadata": {
    "execution": {
     "iopub.execute_input": "2022-04-28T03:42:34.566064Z",
     "iopub.status.busy": "2022-04-28T03:42:34.565301Z",
     "iopub.status.idle": "2022-04-28T03:42:34.599265Z",
     "shell.execute_reply": "2022-04-28T03:42:34.598677Z"
    },
    "papermill": {
     "duration": 0.056538,
     "end_time": "2022-04-28T03:42:34.599423",
     "exception": false,
     "start_time": "2022-04-28T03:42:34.542885",
     "status": "completed"
    },
    "tags": []
   },
   "outputs": [],
   "source": [
    "#hide_input\n",
    "#sum_corr = df_all_mrk.corr().sum().sort_values(ascending=True).index.values\n",
    "#df_all_mrk[sum_corr].corr()"
   ]
  },
  {
   "cell_type": "code",
   "execution_count": 11,
   "id": "other-painting",
   "metadata": {
    "execution": {
     "iopub.execute_input": "2022-04-28T03:42:34.637572Z",
     "iopub.status.busy": "2022-04-28T03:42:34.636880Z",
     "iopub.status.idle": "2022-04-28T03:42:34.668967Z",
     "shell.execute_reply": "2022-04-28T03:42:34.668382Z"
    },
    "papermill": {
     "duration": 0.052487,
     "end_time": "2022-04-28T03:42:34.669127",
     "exception": false,
     "start_time": "2022-04-28T03:42:34.616640",
     "status": "completed"
    },
    "tags": []
   },
   "outputs": [],
   "source": [
    "#hide\n",
    "#Koreliacijos matrica. "
   ]
  },
  {
   "cell_type": "code",
   "execution_count": 12,
   "id": "modular-magnitude",
   "metadata": {
    "execution": {
     "iopub.execute_input": "2022-04-28T03:42:34.710389Z",
     "iopub.status.busy": "2022-04-28T03:42:34.709561Z",
     "iopub.status.idle": "2022-04-28T03:42:34.740300Z",
     "shell.execute_reply": "2022-04-28T03:42:34.739722Z"
    },
    "papermill": {
     "duration": 0.054188,
     "end_time": "2022-04-28T03:42:34.740452",
     "exception": false,
     "start_time": "2022-04-28T03:42:34.686264",
     "status": "completed"
    },
    "tags": []
   },
   "outputs": [],
   "source": [
    "#hide_input\n",
    "#plt.figure(figsize=(15, 8))\n",
    "#sns.heatmap(df_all_mrk[sum_corr].corr(), annot=True, cmap=\"BrBG\");\n",
    "#plt.savefig('corr_matrix_all.eps', format='eps')"
   ]
  },
  {
   "cell_type": "code",
   "execution_count": null,
   "id": "original-senator",
   "metadata": {
    "papermill": {
     "duration": 0.016595,
     "end_time": "2022-04-28T03:42:34.773342",
     "exception": false,
     "start_time": "2022-04-28T03:42:34.756747",
     "status": "completed"
    },
    "tags": []
   },
   "outputs": [],
   "source": []
  },
  {
   "cell_type": "code",
   "execution_count": null,
   "id": "saving-secretariat",
   "metadata": {
    "papermill": {
     "duration": 0.015917,
     "end_time": "2022-04-28T03:42:34.805807",
     "exception": false,
     "start_time": "2022-04-28T03:42:34.789890",
     "status": "completed"
    },
    "tags": []
   },
   "outputs": [],
   "source": []
  }
 ],
 "metadata": {
  "kernelspec": {
   "display_name": "Python 3",
   "language": "python",
   "name": "python3"
  },
  "language_info": {
   "codemirror_mode": {
    "name": "ipython",
    "version": 3
   },
   "file_extension": ".py",
   "mimetype": "text/x-python",
   "name": "python",
   "nbconvert_exporter": "python",
   "pygments_lexer": "ipython3",
   "version": "3.6.15"
  },
  "papermill": {
   "default_parameters": {},
   "duration": 23.433091,
   "end_time": "2022-04-28T03:42:35.442471",
   "environment_variables": {},
   "exception": null,
   "input_path": "App-Correlation_charts.ipynb",
   "output_path": "App-Correlation_charts.ipynb",
   "parameters": {},
   "start_time": "2022-04-28T03:42:12.009380",
   "version": "2.2.2"
  }
 },
 "nbformat": 4,
 "nbformat_minor": 5
}