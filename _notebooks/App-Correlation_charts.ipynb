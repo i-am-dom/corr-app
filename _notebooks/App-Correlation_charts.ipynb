{
 "cells": [
  {
   "cell_type": "markdown",
   "id": "touched-facility",
   "metadata": {
    "papermill": {
     "duration": 0.014548,
     "end_time": "2022-06-27T03:15:15.121407",
     "exception": false,
     "start_time": "2022-06-27T03:15:15.106859",
     "status": "completed"
    },
    "tags": []
   },
   "source": [
    "# Koreliacijų matrica\n",
    "> Išplėstinė koreliacijų matrica. \n",
    "\n",
    "- toc: true \n",
    "- badges: true\n",
    "- comments: false\n",
    "- categories: [Dominykas Tautkus]\n",
    "- image: images/matrix.png"
   ]
  },
  {
   "cell_type": "code",
   "execution_count": null,
   "id": "premium-weekend",
   "metadata": {
    "papermill": {
     "duration": 0.01077,
     "end_time": "2022-06-27T03:15:15.143669",
     "exception": false,
     "start_time": "2022-06-27T03:15:15.132899",
     "status": "completed"
    },
    "tags": []
   },
   "outputs": [],
   "source": []
  },
  {
   "cell_type": "code",
   "execution_count": 1,
   "id": "vertical-rebate",
   "metadata": {
    "execution": {
     "iopub.execute_input": "2022-06-27T03:15:15.176778Z",
     "iopub.status.busy": "2022-06-27T03:15:15.176094Z",
     "iopub.status.idle": "2022-06-27T03:15:15.187278Z",
     "shell.execute_reply": "2022-06-27T03:15:15.186756Z"
    },
    "papermill": {
     "duration": 0.031896,
     "end_time": "2022-06-27T03:15:15.187407",
     "exception": false,
     "start_time": "2022-06-27T03:15:15.155511",
     "status": "completed"
    },
    "tags": []
   },
   "outputs": [],
   "source": [
    "#hide\n",
    "%load_ext autoreload\n",
    "%autoreload 2"
   ]
  },
  {
   "cell_type": "code",
   "execution_count": 2,
   "id": "overall-advancement",
   "metadata": {
    "execution": {
     "iopub.execute_input": "2022-06-27T03:15:15.212856Z",
     "iopub.status.busy": "2022-06-27T03:15:15.212201Z",
     "iopub.status.idle": "2022-06-27T03:15:16.457744Z",
     "shell.execute_reply": "2022-06-27T03:15:16.458280Z"
    },
    "papermill": {
     "duration": 1.260268,
     "end_time": "2022-06-27T03:15:16.458450",
     "exception": false,
     "start_time": "2022-06-27T03:15:15.198182",
     "status": "completed"
    },
    "tags": []
   },
   "outputs": [],
   "source": [
    "#hide\n",
    "from scripts.read_data import read_api\n",
    "from IPython.display import HTML\n",
    "import plotly.graph_objects as go\n"
   ]
  },
  {
   "cell_type": "code",
   "execution_count": 3,
   "id": "light-crazy",
   "metadata": {
    "execution": {
     "iopub.execute_input": "2022-06-27T03:15:16.488752Z",
     "iopub.status.busy": "2022-06-27T03:15:16.486894Z",
     "iopub.status.idle": "2022-06-27T03:15:16.508298Z",
     "shell.execute_reply": "2022-06-27T03:15:16.507809Z"
    },
    "papermill": {
     "duration": 0.038047,
     "end_time": "2022-06-27T03:15:16.508444",
     "exception": false,
     "start_time": "2022-06-27T03:15:16.470397",
     "status": "completed"
    },
    "tags": []
   },
   "outputs": [],
   "source": [
    "#hide\n",
    "### ICO koreliacija"
   ]
  },
  {
   "cell_type": "code",
   "execution_count": 4,
   "id": "likely-bahrain",
   "metadata": {
    "execution": {
     "iopub.execute_input": "2022-06-27T03:15:16.543666Z",
     "iopub.status.busy": "2022-06-27T03:15:16.542899Z",
     "iopub.status.idle": "2022-06-27T03:15:17.415148Z",
     "shell.execute_reply": "2022-06-27T03:15:17.414567Z"
    },
    "papermill": {
     "duration": 0.895997,
     "end_time": "2022-06-27T03:15:17.415289",
     "exception": false,
     "start_time": "2022-06-27T03:15:16.519292",
     "status": "completed"
    },
    "tags": []
   },
   "outputs": [],
   "source": [
    "#hide\n",
    "import matplotlib.pyplot as plt\n",
    "import numpy as np\n",
    "import pandas as pd\n",
    "import seaborn as sns\n",
    "import matplotlib.pyplot as plt \n",
    "import matplotlib.dates as mdates\n",
    "import matplotlib.pyplot as plt"
   ]
  },
  {
   "cell_type": "code",
   "execution_count": 5,
   "id": "superior-blanket",
   "metadata": {
    "execution": {
     "iopub.execute_input": "2022-06-27T03:15:17.453297Z",
     "iopub.status.busy": "2022-06-27T03:15:17.450064Z",
     "iopub.status.idle": "2022-06-27T03:15:27.267591Z",
     "shell.execute_reply": "2022-06-27T03:15:27.266575Z"
    },
    "papermill": {
     "duration": 9.840627,
     "end_time": "2022-06-27T03:15:27.267727",
     "exception": false,
     "start_time": "2022-06-27T03:15:17.427100",
     "status": "completed"
    },
    "tags": []
   },
   "outputs": [
    {
     "name": "stderr",
     "output_type": "stream",
     "text": [
      "/home/runner/work/corr-app/corr-app/_notebooks/scripts/read_data.py:187: SettingWithCopyWarning:\n",
      "\n",
      "\n",
      "A value is trying to be set on a copy of a slice from a DataFrame.\n",
      "Try using .loc[row_indexer,col_indexer] = value instead\n",
      "\n",
      "See the caveats in the documentation: https://pandas.pydata.org/pandas-docs/stable/user_guide/indexing.html#returning-a-view-versus-a-copy\n",
      "\n"
     ]
    },
    {
     "name": "stderr",
     "output_type": "stream",
     "text": [
      "/home/runner/work/corr-app/corr-app/_notebooks/scripts/read_data.py:215: SettingWithCopyWarning:\n",
      "\n",
      "\n",
      "A value is trying to be set on a copy of a slice from a DataFrame.\n",
      "Try using .loc[row_indexer,col_indexer] = value instead\n",
      "\n",
      "See the caveats in the documentation: https://pandas.pydata.org/pandas-docs/stable/user_guide/indexing.html#returning-a-view-versus-a-copy\n",
      "\n"
     ]
    }
   ],
   "source": [
    "#hide\n",
    "df_all = read_api()\n",
    "#df_all = df_all.drop(['SP500', 'XAU', 'ETH', 'BTC'], axis=1)\n",
    "\n"
   ]
  },
  {
   "cell_type": "code",
   "execution_count": 6,
   "id": "mature-alert",
   "metadata": {
    "execution": {
     "iopub.execute_input": "2022-06-27T03:15:27.299148Z",
     "iopub.status.busy": "2022-06-27T03:15:27.296565Z",
     "iopub.status.idle": "2022-06-27T03:15:27.327574Z",
     "shell.execute_reply": "2022-06-27T03:15:27.326969Z"
    },
    "papermill": {
     "duration": 0.048418,
     "end_time": "2022-06-27T03:15:27.327711",
     "exception": false,
     "start_time": "2022-06-27T03:15:27.279293",
     "status": "completed"
    },
    "tags": []
   },
   "outputs": [],
   "source": [
    "#hide_input\n",
    "sum_corr = df_all.corr().sum().sort_values(ascending=True).index.values\n",
    "#df_all[sum_corr].corr()"
   ]
  },
  {
   "cell_type": "markdown",
   "id": "complex-syndicate",
   "metadata": {
    "papermill": {
     "duration": 0.011082,
     "end_time": "2022-06-27T03:15:27.350166",
     "exception": false,
     "start_time": "2022-06-27T03:15:27.339084",
     "status": "completed"
    },
    "tags": []
   },
   "source": [
    "## Išplėstinė koreliacijų matrica. "
   ]
  },
  {
   "cell_type": "code",
   "execution_count": 7,
   "id": "atomic-omaha",
   "metadata": {
    "execution": {
     "iopub.execute_input": "2022-06-27T03:15:27.378083Z",
     "iopub.status.busy": "2022-06-27T03:15:27.377479Z",
     "iopub.status.idle": "2022-06-27T03:15:28.697271Z",
     "shell.execute_reply": "2022-06-27T03:15:28.696639Z"
    },
    "papermill": {
     "duration": 1.336113,
     "end_time": "2022-06-27T03:15:28.697393",
     "exception": false,
     "start_time": "2022-06-27T03:15:27.361280",
     "status": "completed"
    },
    "tags": []
   },
   "outputs": [
    {
     "data": {
      "image/png": "[encoded data removed]",
      "text/plain": [
       "<Figure size 1080x792 with 2 Axes>"
      ]
     },
     "metadata": {
      "needs_background": "light"
     },
     "output_type": "display_data"
    }
   ],
   "source": [
    "#hide_input\n",
    "plt.figure(figsize=(15, 11))\n",
    "sns.heatmap(df_all[sum_corr].corr(), annot=True, cmap=\"cubehelix\") \n",
    "sns.set(font_scale=1.25)\n",
    "plt.savefig('corr_matrix.png', format='eps')"
   ]
  },
  {
   "cell_type": "code",
   "execution_count": 8,
   "id": "arbitrary-sullivan",
   "metadata": {
    "execution": {
     "iopub.execute_input": "2022-06-27T03:15:28.749376Z",
     "iopub.status.busy": "2022-06-27T03:15:28.743546Z",
     "iopub.status.idle": "2022-06-27T03:15:28.771689Z",
     "shell.execute_reply": "2022-06-27T03:15:28.771133Z"
    },
    "papermill": {
     "duration": 0.05147,
     "end_time": "2022-06-27T03:15:28.771811",
     "exception": false,
     "start_time": "2022-06-27T03:15:28.720341",
     "status": "completed"
    },
    "tags": []
   },
   "outputs": [],
   "source": [
    "#hide\n",
    "#df_all_mrk = read_api()"
   ]
  },
  {
   "cell_type": "code",
   "execution_count": 9,
   "id": "delayed-adapter",
   "metadata": {
    "execution": {
     "iopub.execute_input": "2022-06-27T03:15:28.913768Z",
     "iopub.status.busy": "2022-06-27T03:15:28.913102Z",
     "iopub.status.idle": "2022-06-27T03:15:28.933646Z",
     "shell.execute_reply": "2022-06-27T03:15:28.932831Z"
    },
    "papermill": {
     "duration": 0.126401,
     "end_time": "2022-06-27T03:15:28.933822",
     "exception": false,
     "start_time": "2022-06-27T03:15:28.807421",
     "status": "completed"
    },
    "tags": []
   },
   "outputs": [],
   "source": [
    "#hide\n",
    "#Koreliacijų koeficientai"
   ]
  },
  {
   "cell_type": "code",
   "execution_count": 10,
   "id": "seeing-celebration",
   "metadata": {
    "execution": {
     "iopub.execute_input": "2022-06-27T03:15:28.984144Z",
     "iopub.status.busy": "2022-06-27T03:15:28.983378Z",
     "iopub.status.idle": "2022-06-27T03:15:29.008942Z",
     "shell.execute_reply": "2022-06-27T03:15:29.008450Z"
    },
    "papermill": {
     "duration": 0.047171,
     "end_time": "2022-06-27T03:15:29.009063",
     "exception": false,
     "start_time": "2022-06-27T03:15:28.961892",
     "status": "completed"
    },
    "tags": []
   },
   "outputs": [],
   "source": [
    "#hide_input\n",
    "#sum_corr = df_all_mrk.corr().sum().sort_values(ascending=True).index.values\n",
    "#df_all_mrk[sum_corr].corr()"
   ]
  },
  {
   "cell_type": "code",
   "execution_count": 11,
   "id": "other-painting",
   "metadata": {
    "execution": {
     "iopub.execute_input": "2022-06-27T03:15:29.046665Z",
     "iopub.status.busy": "2022-06-27T03:15:29.046048Z",
     "iopub.status.idle": "2022-06-27T03:15:29.073774Z",
     "shell.execute_reply": "2022-06-27T03:15:29.073071Z"
    },
    "papermill": {
     "duration": 0.048566,
     "end_time": "2022-06-27T03:15:29.073960",
     "exception": false,
     "start_time": "2022-06-27T03:15:29.025394",
     "status": "completed"
    },
    "tags": []
   },
   "outputs": [],
   "source": [
    "#hide\n",
    "#Koreliacijos matrica. "
   ]
  },
  {
   "cell_type": "code",
   "execution_count": 12,
   "id": "modular-magnitude",
   "metadata": {
    "execution": {
     "iopub.execute_input": "2022-06-27T03:15:29.109880Z",
     "iopub.status.busy": "2022-06-27T03:15:29.109101Z",
     "iopub.status.idle": "2022-06-27T03:15:29.136322Z",
     "shell.execute_reply": "2022-06-27T03:15:29.135801Z"
    },
    "papermill": {
     "duration": 0.046715,
     "end_time": "2022-06-27T03:15:29.136465",
     "exception": false,
     "start_time": "2022-06-27T03:15:29.089750",
     "status": "completed"
    },
    "tags": []
   },
   "outputs": [],
   "source": [
    "#hide_input\n",
    "#plt.figure(figsize=(15, 8))\n",
    "#sns.heatmap(df_all_mrk[sum_corr].corr(), annot=True, cmap=\"BrBG\");\n",
    "#plt.savefig('corr_matrix_all.eps', format='eps')"
   ]
  },
  {
   "cell_type": "code",
   "execution_count": null,
   "id": "original-senator",
   "metadata": {
    "papermill": {
     "duration": 0.016267,
     "end_time": "2022-06-27T03:15:29.168184",
     "exception": false,
     "start_time": "2022-06-27T03:15:29.151917",
     "status": "completed"
    },
    "tags": []
   },
   "outputs": [],
   "source": []
  },
  {
   "cell_type": "code",
   "execution_count": null,
   "id": "saving-secretariat",
   "metadata": {
    "papermill": {
     "duration": 0.014595,
     "end_time": "2022-06-27T03:15:29.198114",
     "exception": false,
     "start_time": "2022-06-27T03:15:29.183519",
     "status": "completed"
    },
    "tags": []
   },
   "outputs": [],
   "source": []
  }
 ],
 "metadata": {
  "kernelspec": {
   "display_name": "Python 3",
   "language": "python",
   "name": "python3"
  },
  "language_info": {
   "codemirror_mode": {
    "name": "ipython",
    "version": 3
   },
   "file_extension": ".py",
   "mimetype": "text/x-python",
   "name": "python",
   "nbconvert_exporter": "python",
   "pygments_lexer": "ipython3",
   "version": "3.6.15"
  },
  "papermill": {
   "default_parameters": {},
   "duration": 15.564818,
   "end_time": "2022-06-27T03:15:29.733963",
   "environment_variables": {},
   "exception": null,
   "input_path": "App-Correlation_charts.ipynb",
   "output_path": "App-Correlation_charts.ipynb",
   "parameters": {},
   "start_time": "2022-06-27T03:15:14.169145",
   "version": "2.2.2"
  }
 },
 "nbformat": 4,
 "nbformat_minor": 5
}