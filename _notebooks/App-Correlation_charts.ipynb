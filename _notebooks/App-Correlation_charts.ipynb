{
 "cells": [
  {
   "cell_type": "markdown",
   "id": "touched-facility",
   "metadata": {
    "papermill": {
     "duration": 0.014795,
     "end_time": "2022-03-02T02:13:34.058186",
     "exception": false,
     "start_time": "2022-03-02T02:13:34.043391",
     "status": "completed"
    },
    "tags": []
   },
   "source": [
    "# Koreliacijų matrica\n",
    "> Išplėstinė koreliacijų matrica. \n",
    "\n",
    "- toc: true \n",
    "- badges: true\n",
    "- comments: false\n",
    "- categories: [Dominykas Tautkus]\n",
    "- image: images/matrix.png"
   ]
  },
  {
   "cell_type": "code",
   "execution_count": null,
   "id": "premium-weekend",
   "metadata": {
    "papermill": {
     "duration": 0.010651,
     "end_time": "2022-03-02T02:13:34.080376",
     "exception": false,
     "start_time": "2022-03-02T02:13:34.069725",
     "status": "completed"
    },
    "tags": []
   },
   "outputs": [],
   "source": []
  },
  {
   "cell_type": "code",
   "execution_count": 1,
   "id": "vertical-rebate",
   "metadata": {
    "execution": {
     "iopub.execute_input": "2022-03-02T02:13:34.111421Z",
     "iopub.status.busy": "2022-03-02T02:13:34.110909Z",
     "iopub.status.idle": "2022-03-02T02:13:34.121226Z",
     "shell.execute_reply": "2022-03-02T02:13:34.120786Z"
    },
    "papermill": {
     "duration": 0.030188,
     "end_time": "2022-03-02T02:13:34.121344",
     "exception": false,
     "start_time": "2022-03-02T02:13:34.091156",
     "status": "completed"
    },
    "tags": []
   },
   "outputs": [],
   "source": [
    "#hide\n",
    "%load_ext autoreload\n",
    "%autoreload 2"
   ]
  },
  {
   "cell_type": "code",
   "execution_count": 2,
   "id": "overall-advancement",
   "metadata": {
    "execution": {
     "iopub.execute_input": "2022-03-02T02:13:34.147043Z",
     "iopub.status.busy": "2022-03-02T02:13:34.146479Z",
     "iopub.status.idle": "2022-03-02T02:13:35.643280Z",
     "shell.execute_reply": "2022-03-02T02:13:35.642740Z"
    },
    "papermill": {
     "duration": 1.511579,
     "end_time": "2022-03-02T02:13:35.643422",
     "exception": false,
     "start_time": "2022-03-02T02:13:34.131843",
     "status": "completed"
    },
    "tags": []
   },
   "outputs": [],
   "source": [
    "#hide\n",
    "from scripts.read_data import read_api\n",
    "from IPython.display import HTML\n",
    "import plotly.graph_objects as go\n"
   ]
  },
  {
   "cell_type": "code",
   "execution_count": 3,
   "id": "light-crazy",
   "metadata": {
    "execution": {
     "iopub.execute_input": "2022-03-02T02:13:35.677328Z",
     "iopub.status.busy": "2022-03-02T02:13:35.676376Z",
     "iopub.status.idle": "2022-03-02T02:13:35.693341Z",
     "shell.execute_reply": "2022-03-02T02:13:35.693736Z"
    },
    "papermill": {
     "duration": 0.03916,
     "end_time": "2022-03-02T02:13:35.693856",
     "exception": false,
     "start_time": "2022-03-02T02:13:35.654696",
     "status": "completed"
    },
    "tags": []
   },
   "outputs": [],
   "source": [
    "#hide\n",
    "### ICO koreliacija"
   ]
  },
  {
   "cell_type": "code",
   "execution_count": 4,
   "id": "likely-bahrain",
   "metadata": {
    "execution": {
     "iopub.execute_input": "2022-03-02T02:13:35.726727Z",
     "iopub.status.busy": "2022-03-02T02:13:35.721790Z",
     "iopub.status.idle": "2022-03-02T02:13:36.631026Z",
     "shell.execute_reply": "2022-03-02T02:13:36.631518Z"
    },
    "papermill": {
     "duration": 0.92734,
     "end_time": "2022-03-02T02:13:36.631687",
     "exception": false,
     "start_time": "2022-03-02T02:13:35.704347",
     "status": "completed"
    },
    "tags": []
   },
   "outputs": [],
   "source": [
    "#hide\n",
    "import matplotlib.pyplot as plt\n",
    "import numpy as np\n",
    "import pandas as pd\n",
    "import seaborn as sns\n",
    "import matplotlib.pyplot as plt \n",
    "import matplotlib.dates as mdates\n",
    "import matplotlib.pyplot as plt"
   ]
  },
  {
   "cell_type": "code",
   "execution_count": 5,
   "id": "superior-blanket",
   "metadata": {
    "execution": {
     "iopub.execute_input": "2022-03-02T02:13:36.667425Z",
     "iopub.status.busy": "2022-03-02T02:13:36.659021Z",
     "iopub.status.idle": "2022-03-02T02:13:48.886474Z",
     "shell.execute_reply": "2022-03-02T02:13:48.885962Z"
    },
    "papermill": {
     "duration": 12.243251,
     "end_time": "2022-03-02T02:13:48.886596",
     "exception": false,
     "start_time": "2022-03-02T02:13:36.643345",
     "status": "completed"
    },
    "tags": []
   },
   "outputs": [
    {
     "name": "stderr",
     "output_type": "stream",
     "text": [
      "/home/runner/work/corr-app/corr-app/_notebooks/scripts/read_data.py:187: SettingWithCopyWarning:\n",
      "\n",
      "\n",
      "A value is trying to be set on a copy of a slice from a DataFrame.\n",
      "Try using .loc[row_indexer,col_indexer] = value instead\n",
      "\n",
      "See the caveats in the documentation: https://pandas.pydata.org/pandas-docs/stable/user_guide/indexing.html#returning-a-view-versus-a-copy\n",
      "\n"
     ]
    },
    {
     "name": "stderr",
     "output_type": "stream",
     "text": [
      "/home/runner/work/corr-app/corr-app/_notebooks/scripts/read_data.py:215: SettingWithCopyWarning:\n",
      "\n",
      "\n",
      "A value is trying to be set on a copy of a slice from a DataFrame.\n",
      "Try using .loc[row_indexer,col_indexer] = value instead\n",
      "\n",
      "See the caveats in the documentation: https://pandas.pydata.org/pandas-docs/stable/user_guide/indexing.html#returning-a-view-versus-a-copy\n",
      "\n"
     ]
    }
   ],
   "source": [
    "#hide\n",
    "df_all = read_api()\n",
    "#df_all = df_all.drop(['SP500', 'XAU', 'ETH', 'BTC'], axis=1)\n",
    "\n"
   ]
  },
  {
   "cell_type": "code",
   "execution_count": 6,
   "id": "mature-alert",
   "metadata": {
    "execution": {
     "iopub.execute_input": "2022-03-02T02:13:48.913976Z",
     "iopub.status.busy": "2022-03-02T02:13:48.913441Z",
     "iopub.status.idle": "2022-03-02T02:13:48.942521Z",
     "shell.execute_reply": "2022-03-02T02:13:48.942026Z"
    },
    "papermill": {
     "duration": 0.044231,
     "end_time": "2022-03-02T02:13:48.942641",
     "exception": false,
     "start_time": "2022-03-02T02:13:48.898410",
     "status": "completed"
    },
    "tags": []
   },
   "outputs": [],
   "source": [
    "#hide_input\n",
    "sum_corr = df_all.corr().sum().sort_values(ascending=True).index.values\n",
    "#df_all[sum_corr].corr()"
   ]
  },
  {
   "cell_type": "markdown",
   "id": "complex-syndicate",
   "metadata": {
    "papermill": {
     "duration": 0.011083,
     "end_time": "2022-03-02T02:13:48.965530",
     "exception": false,
     "start_time": "2022-03-02T02:13:48.954447",
     "status": "completed"
    },
    "tags": []
   },
   "source": [
    "## Išplėstinė koreliacijų matrica. "
   ]
  },
  {
   "cell_type": "code",
   "execution_count": 7,
   "id": "atomic-omaha",
   "metadata": {
    "execution": {
     "iopub.execute_input": "2022-03-02T02:13:48.991479Z",
     "iopub.status.busy": "2022-03-02T02:13:48.990979Z",
     "iopub.status.idle": "2022-03-02T02:13:50.244264Z",
     "shell.execute_reply": "2022-03-02T02:13:50.244724Z"
    },
    "papermill": {
     "duration": 1.268216,
     "end_time": "2022-03-02T02:13:50.244869",
     "exception": false,
     "start_time": "2022-03-02T02:13:48.976653",
     "status": "completed"
    },
    "tags": []
   },
   "outputs": [
    {
     "data": {
      "image/png": "[encoded data removed]",
      "text/plain": [
       "<Figure size 1080x792 with 2 Axes>"
      ]
     },
     "metadata": {
      "needs_background": "light"
     },
     "output_type": "display_data"
    }
   ],
   "source": [
    "#hide_input\n",
    "plt.figure(figsize=(15, 11))\n",
    "sns.heatmap(df_all[sum_corr].corr(), annot=True, cmap=\"cubehelix\") \n",
    "sns.set(font_scale=1.25)\n",
    "plt.savefig('corr_matrix.png', format='eps')"
   ]
  },
  {
   "cell_type": "code",
   "execution_count": 8,
   "id": "arbitrary-sullivan",
   "metadata": {
    "execution": {
     "iopub.execute_input": "2022-03-02T02:13:50.277481Z",
     "iopub.status.busy": "2022-03-02T02:13:50.276901Z",
     "iopub.status.idle": "2022-03-02T02:13:50.303354Z",
     "shell.execute_reply": "2022-03-02T02:13:50.302895Z"
    },
    "papermill": {
     "duration": 0.043445,
     "end_time": "2022-03-02T02:13:50.303489",
     "exception": false,
     "start_time": "2022-03-02T02:13:50.260044",
     "status": "completed"
    },
    "tags": []
   },
   "outputs": [],
   "source": [
    "#hide\n",
    "#df_all_mrk = read_api()"
   ]
  },
  {
   "cell_type": "code",
   "execution_count": 9,
   "id": "delayed-adapter",
   "metadata": {
    "execution": {
     "iopub.execute_input": "2022-03-02T02:13:50.341903Z",
     "iopub.status.busy": "2022-03-02T02:13:50.338632Z",
     "iopub.status.idle": "2022-03-02T02:13:50.361225Z",
     "shell.execute_reply": "2022-03-02T02:13:50.360733Z"
    },
    "papermill": {
     "duration": 0.044621,
     "end_time": "2022-03-02T02:13:50.361346",
     "exception": false,
     "start_time": "2022-03-02T02:13:50.316725",
     "status": "completed"
    },
    "tags": []
   },
   "outputs": [],
   "source": [
    "#hide\n",
    "#Koreliacijų koeficientai"
   ]
  },
  {
   "cell_type": "code",
   "execution_count": 10,
   "id": "seeing-celebration",
   "metadata": {
    "execution": {
     "iopub.execute_input": "2022-03-02T02:13:50.399105Z",
     "iopub.status.busy": "2022-03-02T02:13:50.397740Z",
     "iopub.status.idle": "2022-03-02T02:13:50.418738Z",
     "shell.execute_reply": "2022-03-02T02:13:50.418020Z"
    },
    "papermill": {
     "duration": 0.042531,
     "end_time": "2022-03-02T02:13:50.418843",
     "exception": false,
     "start_time": "2022-03-02T02:13:50.376312",
     "status": "completed"
    },
    "tags": []
   },
   "outputs": [],
   "source": [
    "#hide_input\n",
    "#sum_corr = df_all_mrk.corr().sum().sort_values(ascending=True).index.values\n",
    "#df_all_mrk[sum_corr].corr()"
   ]
  },
  {
   "cell_type": "code",
   "execution_count": 11,
   "id": "other-painting",
   "metadata": {
    "execution": {
     "iopub.execute_input": "2022-03-02T02:13:50.451549Z",
     "iopub.status.busy": "2022-03-02T02:13:50.450001Z",
     "iopub.status.idle": "2022-03-02T02:13:50.471110Z",
     "shell.execute_reply": "2022-03-02T02:13:50.471550Z"
    },
    "papermill": {
     "duration": 0.039545,
     "end_time": "2022-03-02T02:13:50.471675",
     "exception": false,
     "start_time": "2022-03-02T02:13:50.432130",
     "status": "completed"
    },
    "tags": []
   },
   "outputs": [],
   "source": [
    "#hide\n",
    "#Koreliacijos matrica. "
   ]
  },
  {
   "cell_type": "code",
   "execution_count": 12,
   "id": "modular-magnitude",
   "metadata": {
    "execution": {
     "iopub.execute_input": "2022-03-02T02:13:50.510436Z",
     "iopub.status.busy": "2022-03-02T02:13:50.509684Z",
     "iopub.status.idle": "2022-03-02T02:13:50.527150Z",
     "shell.execute_reply": "2022-03-02T02:13:50.527533Z"
    },
    "papermill": {
     "duration": 0.041983,
     "end_time": "2022-03-02T02:13:50.527643",
     "exception": false,
     "start_time": "2022-03-02T02:13:50.485660",
     "status": "completed"
    },
    "tags": []
   },
   "outputs": [],
   "source": [
    "#hide_input\n",
    "#plt.figure(figsize=(15, 8))\n",
    "#sns.heatmap(df_all_mrk[sum_corr].corr(), annot=True, cmap=\"BrBG\");\n",
    "#plt.savefig('corr_matrix_all.eps', format='eps')"
   ]
  },
  {
   "cell_type": "code",
   "execution_count": null,
   "id": "original-senator",
   "metadata": {
    "papermill": {
     "duration": 0.012932,
     "end_time": "2022-03-02T02:13:50.553497",
     "exception": false,
     "start_time": "2022-03-02T02:13:50.540565",
     "status": "completed"
    },
    "tags": []
   },
   "outputs": [],
   "source": []
  },
  {
   "cell_type": "code",
   "execution_count": null,
   "id": "saving-secretariat",
   "metadata": {
    "papermill": {
     "duration": 0.012989,
     "end_time": "2022-03-02T02:13:50.579481",
     "exception": false,
     "start_time": "2022-03-02T02:13:50.566492",
     "status": "completed"
    },
    "tags": []
   },
   "outputs": [],
   "source": []
  }
 ],
 "metadata": {
  "kernelspec": {
   "display_name": "Python 3",
   "language": "python",
   "name": "python3"
  },
  "language_info": {
   "codemirror_mode": {
    "name": "ipython",
    "version": 3
   },
   "file_extension": ".py",
   "mimetype": "text/x-python",
   "name": "python",
   "nbconvert_exporter": "python",
   "pygments_lexer": "ipython3",
   "version": "3.6.15"
  },
  "papermill": {
   "default_parameters": {},
   "duration": 17.99308,
   "end_time": "2022-03-02T02:13:51.110911",
   "environment_variables": {},
   "exception": null,
   "input_path": "App-Correlation_charts.ipynb",
   "output_path": "App-Correlation_charts.ipynb",
   "parameters": {},
   "start_time": "2022-03-02T02:13:33.117831",
   "version": "2.2.2"
  }
 },
 "nbformat": 4,
 "nbformat_minor": 5
}