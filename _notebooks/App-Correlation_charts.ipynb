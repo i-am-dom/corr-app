{
 "cells": [
  {
   "cell_type": "markdown",
   "id": "touched-facility",
   "metadata": {
    "papermill": {
     "duration": 0.019173,
     "end_time": "2022-03-12T02:03:23.597380",
     "exception": false,
     "start_time": "2022-03-12T02:03:23.578207",
     "status": "completed"
    },
    "tags": []
   },
   "source": [
    "# Koreliacijų matrica\n",
    "> Išplėstinė koreliacijų matrica. \n",
    "\n",
    "- toc: true \n",
    "- badges: true\n",
    "- comments: false\n",
    "- categories: [Dominykas Tautkus]\n",
    "- image: images/matrix.png"
   ]
  },
  {
   "cell_type": "code",
   "execution_count": null,
   "id": "premium-weekend",
   "metadata": {
    "papermill": {
     "duration": 0.014854,
     "end_time": "2022-03-12T02:03:23.628621",
     "exception": false,
     "start_time": "2022-03-12T02:03:23.613767",
     "status": "completed"
    },
    "tags": []
   },
   "outputs": [],
   "source": []
  },
  {
   "cell_type": "code",
   "execution_count": 1,
   "id": "vertical-rebate",
   "metadata": {
    "execution": {
     "iopub.execute_input": "2022-03-12T02:03:23.671207Z",
     "iopub.status.busy": "2022-03-12T02:03:23.670329Z",
     "iopub.status.idle": "2022-03-12T02:03:23.682695Z",
     "shell.execute_reply": "2022-03-12T02:03:23.683261Z"
    },
    "papermill": {
     "duration": 0.040475,
     "end_time": "2022-03-12T02:03:23.683450",
     "exception": false,
     "start_time": "2022-03-12T02:03:23.642975",
     "status": "completed"
    },
    "tags": []
   },
   "outputs": [],
   "source": [
    "#hide\n",
    "%load_ext autoreload\n",
    "%autoreload 2"
   ]
  },
  {
   "cell_type": "code",
   "execution_count": 2,
   "id": "overall-advancement",
   "metadata": {
    "execution": {
     "iopub.execute_input": "2022-03-12T02:03:23.721857Z",
     "iopub.status.busy": "2022-03-12T02:03:23.721129Z",
     "iopub.status.idle": "2022-03-12T02:03:25.290214Z",
     "shell.execute_reply": "2022-03-12T02:03:25.288516Z"
    },
    "papermill": {
     "duration": 1.59014,
     "end_time": "2022-03-12T02:03:25.290371",
     "exception": false,
     "start_time": "2022-03-12T02:03:23.700231",
     "status": "completed"
    },
    "tags": []
   },
   "outputs": [],
   "source": [
    "#hide\n",
    "from scripts.read_data import read_api\n",
    "from IPython.display import HTML\n",
    "import plotly.graph_objects as go\n"
   ]
  },
  {
   "cell_type": "code",
   "execution_count": 3,
   "id": "light-crazy",
   "metadata": {
    "execution": {
     "iopub.execute_input": "2022-03-12T02:03:25.339121Z",
     "iopub.status.busy": "2022-03-12T02:03:25.337419Z",
     "iopub.status.idle": "2022-03-12T02:03:25.364043Z",
     "shell.execute_reply": "2022-03-12T02:03:25.364770Z"
    },
    "papermill": {
     "duration": 0.053651,
     "end_time": "2022-03-12T02:03:25.364941",
     "exception": false,
     "start_time": "2022-03-12T02:03:25.311290",
     "status": "completed"
    },
    "tags": []
   },
   "outputs": [],
   "source": [
    "#hide\n",
    "### ICO koreliacija"
   ]
  },
  {
   "cell_type": "code",
   "execution_count": 4,
   "id": "likely-bahrain",
   "metadata": {
    "execution": {
     "iopub.execute_input": "2022-03-12T02:03:25.402747Z",
     "iopub.status.busy": "2022-03-12T02:03:25.401914Z",
     "iopub.status.idle": "2022-03-12T02:03:26.522853Z",
     "shell.execute_reply": "2022-03-12T02:03:26.521929Z"
    },
    "papermill": {
     "duration": 1.141753,
     "end_time": "2022-03-12T02:03:26.523008",
     "exception": false,
     "start_time": "2022-03-12T02:03:25.381255",
     "status": "completed"
    },
    "tags": []
   },
   "outputs": [],
   "source": [
    "#hide\n",
    "import matplotlib.pyplot as plt\n",
    "import numpy as np\n",
    "import pandas as pd\n",
    "import seaborn as sns\n",
    "import matplotlib.pyplot as plt \n",
    "import matplotlib.dates as mdates\n",
    "import matplotlib.pyplot as plt"
   ]
  },
  {
   "cell_type": "code",
   "execution_count": 5,
   "id": "superior-blanket",
   "metadata": {
    "execution": {
     "iopub.execute_input": "2022-03-12T02:03:26.557537Z",
     "iopub.status.busy": "2022-03-12T02:03:26.556714Z",
     "iopub.status.idle": "2022-03-12T02:03:38.633046Z",
     "shell.execute_reply": "2022-03-12T02:03:38.632447Z"
    },
    "papermill": {
     "duration": 12.095015,
     "end_time": "2022-03-12T02:03:38.633201",
     "exception": false,
     "start_time": "2022-03-12T02:03:26.538186",
     "status": "completed"
    },
    "tags": []
   },
   "outputs": [
    {
     "name": "stderr",
     "output_type": "stream",
     "text": [
      "/home/runner/work/corr-app/corr-app/_notebooks/scripts/read_data.py:187: SettingWithCopyWarning:\n",
      "\n",
      "\n",
      "A value is trying to be set on a copy of a slice from a DataFrame.\n",
      "Try using .loc[row_indexer,col_indexer] = value instead\n",
      "\n",
      "See the caveats in the documentation: https://pandas.pydata.org/pandas-docs/stable/user_guide/indexing.html#returning-a-view-versus-a-copy\n",
      "\n"
     ]
    },
    {
     "name": "stderr",
     "output_type": "stream",
     "text": [
      "/home/runner/work/corr-app/corr-app/_notebooks/scripts/read_data.py:215: SettingWithCopyWarning:\n",
      "\n",
      "\n",
      "A value is trying to be set on a copy of a slice from a DataFrame.\n",
      "Try using .loc[row_indexer,col_indexer] = value instead\n",
      "\n",
      "See the caveats in the documentation: https://pandas.pydata.org/pandas-docs/stable/user_guide/indexing.html#returning-a-view-versus-a-copy\n",
      "\n"
     ]
    }
   ],
   "source": [
    "#hide\n",
    "df_all = read_api()\n",
    "#df_all = df_all.drop(['SP500', 'XAU', 'ETH', 'BTC'], axis=1)\n",
    "\n"
   ]
  },
  {
   "cell_type": "code",
   "execution_count": 6,
   "id": "mature-alert",
   "metadata": {
    "execution": {
     "iopub.execute_input": "2022-03-12T02:03:38.669032Z",
     "iopub.status.busy": "2022-03-12T02:03:38.668198Z",
     "iopub.status.idle": "2022-03-12T02:03:38.704129Z",
     "shell.execute_reply": "2022-03-12T02:03:38.703506Z"
    },
    "papermill": {
     "duration": 0.055259,
     "end_time": "2022-03-12T02:03:38.704280",
     "exception": false,
     "start_time": "2022-03-12T02:03:38.649021",
     "status": "completed"
    },
    "tags": []
   },
   "outputs": [],
   "source": [
    "#hide_input\n",
    "sum_corr = df_all.corr().sum().sort_values(ascending=True).index.values\n",
    "#df_all[sum_corr].corr()"
   ]
  },
  {
   "cell_type": "markdown",
   "id": "complex-syndicate",
   "metadata": {
    "papermill": {
     "duration": 0.01562,
     "end_time": "2022-03-12T02:03:38.735017",
     "exception": false,
     "start_time": "2022-03-12T02:03:38.719397",
     "status": "completed"
    },
    "tags": []
   },
   "source": [
    "## Išplėstinė koreliacijų matrica. "
   ]
  },
  {
   "cell_type": "code",
   "execution_count": 7,
   "id": "atomic-omaha",
   "metadata": {
    "execution": {
     "iopub.execute_input": "2022-03-12T02:03:38.770514Z",
     "iopub.status.busy": "2022-03-12T02:03:38.769841Z",
     "iopub.status.idle": "2022-03-12T02:03:40.570068Z",
     "shell.execute_reply": "2022-03-12T02:03:40.570625Z"
    },
    "papermill": {
     "duration": 1.820667,
     "end_time": "2022-03-12T02:03:40.570868",
     "exception": false,
     "start_time": "2022-03-12T02:03:38.750201",
     "status": "completed"
    },
    "tags": []
   },
   "outputs": [
    {
     "data": {
      "image/png": "[encoded data removed]",
      "text/plain": [
       "<Figure size 1080x792 with 2 Axes>"
      ]
     },
     "metadata": {
      "needs_background": "light"
     },
     "output_type": "display_data"
    }
   ],
   "source": [
    "#hide_input\n",
    "plt.figure(figsize=(15, 11))\n",
    "sns.heatmap(df_all[sum_corr].corr(), annot=True, cmap=\"cubehelix\") \n",
    "sns.set(font_scale=1.25)\n",
    "plt.savefig('corr_matrix.png', format='eps')"
   ]
  },
  {
   "cell_type": "code",
   "execution_count": 8,
   "id": "arbitrary-sullivan",
   "metadata": {
    "execution": {
     "iopub.execute_input": "2022-03-12T02:03:40.615212Z",
     "iopub.status.busy": "2022-03-12T02:03:40.614494Z",
     "iopub.status.idle": "2022-03-12T02:03:40.641224Z",
     "shell.execute_reply": "2022-03-12T02:03:40.641786Z"
    },
    "papermill": {
     "duration": 0.053589,
     "end_time": "2022-03-12T02:03:40.641956",
     "exception": false,
     "start_time": "2022-03-12T02:03:40.588367",
     "status": "completed"
    },
    "tags": []
   },
   "outputs": [],
   "source": [
    "#hide\n",
    "#df_all_mrk = read_api()"
   ]
  },
  {
   "cell_type": "code",
   "execution_count": 9,
   "id": "delayed-adapter",
   "metadata": {
    "execution": {
     "iopub.execute_input": "2022-03-12T02:03:40.681962Z",
     "iopub.status.busy": "2022-03-12T02:03:40.681074Z",
     "iopub.status.idle": "2022-03-12T02:03:40.715029Z",
     "shell.execute_reply": "2022-03-12T02:03:40.714457Z"
    },
    "papermill": {
     "duration": 0.054404,
     "end_time": "2022-03-12T02:03:40.715196",
     "exception": false,
     "start_time": "2022-03-12T02:03:40.660792",
     "status": "completed"
    },
    "tags": []
   },
   "outputs": [],
   "source": [
    "#hide\n",
    "#Koreliacijų koeficientai"
   ]
  },
  {
   "cell_type": "code",
   "execution_count": 10,
   "id": "seeing-celebration",
   "metadata": {
    "execution": {
     "iopub.execute_input": "2022-03-12T02:03:40.758852Z",
     "iopub.status.busy": "2022-03-12T02:03:40.755401Z",
     "iopub.status.idle": "2022-03-12T02:03:40.787439Z",
     "shell.execute_reply": "2022-03-12T02:03:40.788054Z"
    },
    "papermill": {
     "duration": 0.054071,
     "end_time": "2022-03-12T02:03:40.788207",
     "exception": false,
     "start_time": "2022-03-12T02:03:40.734136",
     "status": "completed"
    },
    "tags": []
   },
   "outputs": [],
   "source": [
    "#hide_input\n",
    "#sum_corr = df_all_mrk.corr().sum().sort_values(ascending=True).index.values\n",
    "#df_all_mrk[sum_corr].corr()"
   ]
  },
  {
   "cell_type": "code",
   "execution_count": 11,
   "id": "other-painting",
   "metadata": {
    "execution": {
     "iopub.execute_input": "2022-03-12T02:03:40.825992Z",
     "iopub.status.busy": "2022-03-12T02:03:40.825263Z",
     "iopub.status.idle": "2022-03-12T02:03:40.857346Z",
     "shell.execute_reply": "2022-03-12T02:03:40.856634Z"
    },
    "papermill": {
     "duration": 0.051989,
     "end_time": "2022-03-12T02:03:40.857504",
     "exception": false,
     "start_time": "2022-03-12T02:03:40.805515",
     "status": "completed"
    },
    "tags": []
   },
   "outputs": [],
   "source": [
    "#hide\n",
    "#Koreliacijos matrica. "
   ]
  },
  {
   "cell_type": "code",
   "execution_count": 12,
   "id": "modular-magnitude",
   "metadata": {
    "execution": {
     "iopub.execute_input": "2022-03-12T02:03:40.900217Z",
     "iopub.status.busy": "2022-03-12T02:03:40.899388Z",
     "iopub.status.idle": "2022-03-12T02:03:40.931528Z",
     "shell.execute_reply": "2022-03-12T02:03:40.930882Z"
    },
    "papermill": {
     "duration": 0.056688,
     "end_time": "2022-03-12T02:03:40.931705",
     "exception": false,
     "start_time": "2022-03-12T02:03:40.875017",
     "status": "completed"
    },
    "tags": []
   },
   "outputs": [],
   "source": [
    "#hide_input\n",
    "#plt.figure(figsize=(15, 8))\n",
    "#sns.heatmap(df_all_mrk[sum_corr].corr(), annot=True, cmap=\"BrBG\");\n",
    "#plt.savefig('corr_matrix_all.eps', format='eps')"
   ]
  },
  {
   "cell_type": "code",
   "execution_count": null,
   "id": "original-senator",
   "metadata": {
    "papermill": {
     "duration": 0.017121,
     "end_time": "2022-03-12T02:03:40.965295",
     "exception": false,
     "start_time": "2022-03-12T02:03:40.948174",
     "status": "completed"
    },
    "tags": []
   },
   "outputs": [],
   "source": []
  },
  {
   "cell_type": "code",
   "execution_count": null,
   "id": "saving-secretariat",
   "metadata": {
    "papermill": {
     "duration": 0.016764,
     "end_time": "2022-03-12T02:03:40.999350",
     "exception": false,
     "start_time": "2022-03-12T02:03:40.982586",
     "status": "completed"
    },
    "tags": []
   },
   "outputs": [],
   "source": []
  }
 ],
 "metadata": {
  "kernelspec": {
   "display_name": "Python 3",
   "language": "python",
   "name": "python3"
  },
  "language_info": {
   "codemirror_mode": {
    "name": "ipython",
    "version": 3
   },
   "file_extension": ".py",
   "mimetype": "text/x-python",
   "name": "python",
   "nbconvert_exporter": "python",
   "pygments_lexer": "ipython3",
   "version": "3.6.15"
  },
  "papermill": {
   "default_parameters": {},
   "duration": 19.29112,
   "end_time": "2022-03-12T02:03:41.636192",
   "environment_variables": {},
   "exception": null,
   "input_path": "App-Correlation_charts.ipynb",
   "output_path": "App-Correlation_charts.ipynb",
   "parameters": {},
   "start_time": "2022-03-12T02:03:22.345072",
   "version": "2.2.2"
  }
 },
 "nbformat": 4,
 "nbformat_minor": 5
}