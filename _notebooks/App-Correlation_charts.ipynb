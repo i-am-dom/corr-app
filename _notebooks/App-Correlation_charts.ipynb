{
 "cells": [
  {
   "cell_type": "markdown",
   "id": "touched-facility",
   "metadata": {
    "papermill": {
     "duration": 0.019177,
     "end_time": "2022-10-09T03:33:40.093214",
     "exception": false,
     "start_time": "2022-10-09T03:33:40.074037",
     "status": "completed"
    },
    "tags": []
   },
   "source": [
    "# Koreliacijų matrica\n",
    "> Išplėstinė koreliacijų matrica. \n",
    "\n",
    "- toc: true \n",
    "- badges: true\n",
    "- comments: false\n",
    "- categories: [Dominykas Tautkus]\n",
    "- image: images/matrix.png"
   ]
  },
  {
   "cell_type": "code",
   "execution_count": null,
   "id": "premium-weekend",
   "metadata": {
    "papermill": {
     "duration": 0.013328,
     "end_time": "2022-10-09T03:33:40.126344",
     "exception": false,
     "start_time": "2022-10-09T03:33:40.113016",
     "status": "completed"
    },
    "tags": []
   },
   "outputs": [],
   "source": []
  },
  {
   "cell_type": "code",
   "execution_count": 1,
   "id": "vertical-rebate",
   "metadata": {
    "execution": {
     "iopub.execute_input": "2022-10-09T03:33:40.169979Z",
     "iopub.status.busy": "2022-10-09T03:33:40.168161Z",
     "iopub.status.idle": "2022-10-09T03:33:40.184018Z",
     "shell.execute_reply": "2022-10-09T03:33:40.183096Z"
    },
    "papermill": {
     "duration": 0.043659,
     "end_time": "2022-10-09T03:33:40.184211",
     "exception": false,
     "start_time": "2022-10-09T03:33:40.140552",
     "status": "completed"
    },
    "tags": []
   },
   "outputs": [],
   "source": [
    "#hide\n",
    "%load_ext autoreload\n",
    "%autoreload 2"
   ]
  },
  {
   "cell_type": "code",
   "execution_count": 2,
   "id": "overall-advancement",
   "metadata": {
    "execution": {
     "iopub.execute_input": "2022-10-09T03:33:40.227766Z",
     "iopub.status.busy": "2022-10-09T03:33:40.221613Z",
     "iopub.status.idle": "2022-10-09T03:33:41.975727Z",
     "shell.execute_reply": "2022-10-09T03:33:41.976303Z"
    },
    "papermill": {
     "duration": 1.776551,
     "end_time": "2022-10-09T03:33:41.976476",
     "exception": false,
     "start_time": "2022-10-09T03:33:40.199925",
     "status": "completed"
    },
    "tags": []
   },
   "outputs": [],
   "source": [
    "#hide\n",
    "from scripts.read_data import read_api\n",
    "from IPython.display import HTML\n",
    "import plotly.graph_objects as go\n"
   ]
  },
  {
   "cell_type": "code",
   "execution_count": 3,
   "id": "light-crazy",
   "metadata": {
    "execution": {
     "iopub.execute_input": "2022-10-09T03:33:42.015430Z",
     "iopub.status.busy": "2022-10-09T03:33:42.010260Z",
     "iopub.status.idle": "2022-10-09T03:33:42.040584Z",
     "shell.execute_reply": "2022-10-09T03:33:42.039828Z"
    },
    "papermill": {
     "duration": 0.050894,
     "end_time": "2022-10-09T03:33:42.040733",
     "exception": false,
     "start_time": "2022-10-09T03:33:41.989839",
     "status": "completed"
    },
    "tags": []
   },
   "outputs": [],
   "source": [
    "#hide\n",
    "### ICO koreliacija"
   ]
  },
  {
   "cell_type": "code",
   "execution_count": 4,
   "id": "likely-bahrain",
   "metadata": {
    "execution": {
     "iopub.execute_input": "2022-10-09T03:33:42.087037Z",
     "iopub.status.busy": "2022-10-09T03:33:42.085774Z",
     "iopub.status.idle": "2022-10-09T03:33:43.163164Z",
     "shell.execute_reply": "2022-10-09T03:33:43.163781Z"
    },
    "papermill": {
     "duration": 1.109789,
     "end_time": "2022-10-09T03:33:43.163961",
     "exception": false,
     "start_time": "2022-10-09T03:33:42.054172",
     "status": "completed"
    },
    "tags": []
   },
   "outputs": [],
   "source": [
    "#hide\n",
    "import matplotlib.pyplot as plt\n",
    "import numpy as np\n",
    "import pandas as pd\n",
    "import seaborn as sns\n",
    "import matplotlib.pyplot as plt \n",
    "import matplotlib.dates as mdates\n",
    "import matplotlib.pyplot as plt"
   ]
  },
  {
   "cell_type": "code",
   "execution_count": 5,
   "id": "superior-blanket",
   "metadata": {
    "execution": {
     "iopub.execute_input": "2022-10-09T03:33:43.203511Z",
     "iopub.status.busy": "2022-10-09T03:33:43.200787Z",
     "iopub.status.idle": "2022-10-09T03:33:57.733977Z",
     "shell.execute_reply": "2022-10-09T03:33:57.732862Z"
    },
    "papermill": {
     "duration": 14.554697,
     "end_time": "2022-10-09T03:33:57.734138",
     "exception": false,
     "start_time": "2022-10-09T03:33:43.179441",
     "status": "completed"
    },
    "tags": []
   },
   "outputs": [
    {
     "name": "stderr",
     "output_type": "stream",
     "text": [
      "/home/runner/work/corr-app/corr-app/_notebooks/scripts/read_data.py:187: SettingWithCopyWarning:\n",
      "\n",
      "\n",
      "A value is trying to be set on a copy of a slice from a DataFrame.\n",
      "Try using .loc[row_indexer,col_indexer] = value instead\n",
      "\n",
      "See the caveats in the documentation: https://pandas.pydata.org/pandas-docs/stable/user_guide/indexing.html#returning-a-view-versus-a-copy\n",
      "\n"
     ]
    },
    {
     "name": "stderr",
     "output_type": "stream",
     "text": [
      "/home/runner/work/corr-app/corr-app/_notebooks/scripts/read_data.py:215: SettingWithCopyWarning:\n",
      "\n",
      "\n",
      "A value is trying to be set on a copy of a slice from a DataFrame.\n",
      "Try using .loc[row_indexer,col_indexer] = value instead\n",
      "\n",
      "See the caveats in the documentation: https://pandas.pydata.org/pandas-docs/stable/user_guide/indexing.html#returning-a-view-versus-a-copy\n",
      "\n"
     ]
    }
   ],
   "source": [
    "#hide\n",
    "df_all = read_api()\n",
    "#df_all = df_all.drop(['SP500', 'XAU', 'ETH', 'BTC'], axis=1)\n",
    "\n"
   ]
  },
  {
   "cell_type": "code",
   "execution_count": 6,
   "id": "mature-alert",
   "metadata": {
    "execution": {
     "iopub.execute_input": "2022-10-09T03:33:57.773216Z",
     "iopub.status.busy": "2022-10-09T03:33:57.769367Z",
     "iopub.status.idle": "2022-10-09T03:33:57.808602Z",
     "shell.execute_reply": "2022-10-09T03:33:57.807510Z"
    },
    "papermill": {
     "duration": 0.058283,
     "end_time": "2022-10-09T03:33:57.808750",
     "exception": false,
     "start_time": "2022-10-09T03:33:57.750467",
     "status": "completed"
    },
    "tags": []
   },
   "outputs": [],
   "source": [
    "#hide_input\n",
    "sum_corr = df_all.corr().sum().sort_values(ascending=True).index.values\n",
    "#df_all[sum_corr].corr()"
   ]
  },
  {
   "cell_type": "markdown",
   "id": "complex-syndicate",
   "metadata": {
    "papermill": {
     "duration": 0.014248,
     "end_time": "2022-10-09T03:33:57.838540",
     "exception": false,
     "start_time": "2022-10-09T03:33:57.824292",
     "status": "completed"
    },
    "tags": []
   },
   "source": [
    "## Išplėstinė koreliacijų matrica. "
   ]
  },
  {
   "cell_type": "code",
   "execution_count": 7,
   "id": "atomic-omaha",
   "metadata": {
    "execution": {
     "iopub.execute_input": "2022-10-09T03:33:57.876521Z",
     "iopub.status.busy": "2022-10-09T03:33:57.875714Z",
     "iopub.status.idle": "2022-10-09T03:33:59.529057Z",
     "shell.execute_reply": "2022-10-09T03:33:59.529796Z"
    },
    "papermill": {
     "duration": 1.676901,
     "end_time": "2022-10-09T03:33:59.529959",
     "exception": false,
     "start_time": "2022-10-09T03:33:57.853058",
     "status": "completed"
    },
    "tags": []
   },
   "outputs": [
    {
     "data": {
      "image/png": "[encoded data removed]",
      "text/plain": [
       "<Figure size 1080x792 with 2 Axes>"
      ]
     },
     "metadata": {
      "needs_background": "light"
     },
     "output_type": "display_data"
    }
   ],
   "source": [
    "#hide_input\n",
    "plt.figure(figsize=(15, 11))\n",
    "sns.heatmap(df_all[sum_corr].corr(), annot=True, cmap=\"cubehelix\") \n",
    "sns.set(font_scale=1.25)\n",
    "plt.savefig('corr_matrix.png', format='eps')"
   ]
  },
  {
   "cell_type": "code",
   "execution_count": 8,
   "id": "arbitrary-sullivan",
   "metadata": {
    "execution": {
     "iopub.execute_input": "2022-10-09T03:33:59.573041Z",
     "iopub.status.busy": "2022-10-09T03:33:59.567954Z",
     "iopub.status.idle": "2022-10-09T03:33:59.602274Z",
     "shell.execute_reply": "2022-10-09T03:33:59.601598Z"
    },
    "papermill": {
     "duration": 0.055735,
     "end_time": "2022-10-09T03:33:59.602420",
     "exception": false,
     "start_time": "2022-10-09T03:33:59.546685",
     "status": "completed"
    },
    "tags": []
   },
   "outputs": [],
   "source": [
    "#hide\n",
    "#df_all_mrk = read_api()"
   ]
  },
  {
   "cell_type": "code",
   "execution_count": 9,
   "id": "delayed-adapter",
   "metadata": {
    "execution": {
     "iopub.execute_input": "2022-10-09T03:33:59.640206Z",
     "iopub.status.busy": "2022-10-09T03:33:59.639418Z",
     "iopub.status.idle": "2022-10-09T03:33:59.674669Z",
     "shell.execute_reply": "2022-10-09T03:33:59.675300Z"
    },
    "papermill": {
     "duration": 0.05577,
     "end_time": "2022-10-09T03:33:59.675482",
     "exception": false,
     "start_time": "2022-10-09T03:33:59.619712",
     "status": "completed"
    },
    "tags": []
   },
   "outputs": [],
   "source": [
    "#hide\n",
    "#Koreliacijų koeficientai"
   ]
  },
  {
   "cell_type": "code",
   "execution_count": 10,
   "id": "seeing-celebration",
   "metadata": {
    "execution": {
     "iopub.execute_input": "2022-10-09T03:33:59.717827Z",
     "iopub.status.busy": "2022-10-09T03:33:59.716915Z",
     "iopub.status.idle": "2022-10-09T03:33:59.750047Z",
     "shell.execute_reply": "2022-10-09T03:33:59.749343Z"
    },
    "papermill": {
     "duration": 0.05447,
     "end_time": "2022-10-09T03:33:59.750207",
     "exception": false,
     "start_time": "2022-10-09T03:33:59.695737",
     "status": "completed"
    },
    "tags": []
   },
   "outputs": [],
   "source": [
    "#hide_input\n",
    "#sum_corr = df_all_mrk.corr().sum().sort_values(ascending=True).index.values\n",
    "#df_all_mrk[sum_corr].corr()"
   ]
  },
  {
   "cell_type": "code",
   "execution_count": 11,
   "id": "other-painting",
   "metadata": {
    "execution": {
     "iopub.execute_input": "2022-10-09T03:33:59.798819Z",
     "iopub.status.busy": "2022-10-09T03:33:59.797867Z",
     "iopub.status.idle": "2022-10-09T03:33:59.829231Z",
     "shell.execute_reply": "2022-10-09T03:33:59.829941Z"
    },
    "papermill": {
     "duration": 0.056795,
     "end_time": "2022-10-09T03:33:59.830116",
     "exception": false,
     "start_time": "2022-10-09T03:33:59.773321",
     "status": "completed"
    },
    "tags": []
   },
   "outputs": [],
   "source": [
    "#hide\n",
    "#Koreliacijos matrica. "
   ]
  },
  {
   "cell_type": "code",
   "execution_count": 12,
   "id": "modular-magnitude",
   "metadata": {
    "execution": {
     "iopub.execute_input": "2022-10-09T03:33:59.869655Z",
     "iopub.status.busy": "2022-10-09T03:33:59.868881Z",
     "iopub.status.idle": "2022-10-09T03:33:59.902548Z",
     "shell.execute_reply": "2022-10-09T03:33:59.901813Z"
    },
    "papermill": {
     "duration": 0.055323,
     "end_time": "2022-10-09T03:33:59.902691",
     "exception": false,
     "start_time": "2022-10-09T03:33:59.847368",
     "status": "completed"
    },
    "tags": []
   },
   "outputs": [],
   "source": [
    "#hide_input\n",
    "#plt.figure(figsize=(15, 8))\n",
    "#sns.heatmap(df_all_mrk[sum_corr].corr(), annot=True, cmap=\"BrBG\");\n",
    "#plt.savefig('corr_matrix_all.eps', format='eps')"
   ]
  },
  {
   "cell_type": "code",
   "execution_count": null,
   "id": "original-senator",
   "metadata": {
    "papermill": {
     "duration": 0.016473,
     "end_time": "2022-10-09T03:33:59.936289",
     "exception": false,
     "start_time": "2022-10-09T03:33:59.919816",
     "status": "completed"
    },
    "tags": []
   },
   "outputs": [],
   "source": []
  },
  {
   "cell_type": "code",
   "execution_count": null,
   "id": "saving-secretariat",
   "metadata": {
    "papermill": {
     "duration": 0.016865,
     "end_time": "2022-10-09T03:33:59.970285",
     "exception": false,
     "start_time": "2022-10-09T03:33:59.953420",
     "status": "completed"
    },
    "tags": []
   },
   "outputs": [],
   "source": []
  }
 ],
 "metadata": {
  "kernelspec": {
   "display_name": "Python 3",
   "language": "python",
   "name": "python3"
  },
  "language_info": {
   "codemirror_mode": {
    "name": "ipython",
    "version": 3
   },
   "file_extension": ".py",
   "mimetype": "text/x-python",
   "name": "python",
   "nbconvert_exporter": "python",
   "pygments_lexer": "ipython3",
   "version": "3.6.15"
  },
  "papermill": {
   "default_parameters": {},
   "duration": 21.762665,
   "end_time": "2022-10-09T03:34:00.610123",
   "environment_variables": {},
   "exception": null,
   "input_path": "App-Correlation_charts.ipynb",
   "output_path": "App-Correlation_charts.ipynb",
   "parameters": {},
   "start_time": "2022-10-09T03:33:38.847458",
   "version": "2.2.2"
  }
 },
 "nbformat": 4,
 "nbformat_minor": 5
}