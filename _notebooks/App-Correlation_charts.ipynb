{
 "cells": [
  {
   "cell_type": "markdown",
   "id": "touched-facility",
   "metadata": {
    "papermill": {
     "duration": 0.01454,
     "end_time": "2022-02-02T01:58:51.206939",
     "exception": false,
     "start_time": "2022-02-02T01:58:51.192399",
     "status": "completed"
    },
    "tags": []
   },
   "source": [
    "# Koreliacijų matrica\n",
    "> Išplėstinė koreliacijų matrica. \n",
    "\n",
    "- toc: true \n",
    "- badges: true\n",
    "- comments: false\n",
    "- categories: [Dominykas Tautkus]\n",
    "- image: images/matrix.png"
   ]
  },
  {
   "cell_type": "code",
   "execution_count": null,
   "id": "premium-weekend",
   "metadata": {
    "papermill": {
     "duration": 0.011108,
     "end_time": "2022-02-02T01:58:51.229720",
     "exception": false,
     "start_time": "2022-02-02T01:58:51.218612",
     "status": "completed"
    },
    "tags": []
   },
   "outputs": [],
   "source": []
  },
  {
   "cell_type": "code",
   "execution_count": 1,
   "id": "vertical-rebate",
   "metadata": {
    "execution": {
     "iopub.execute_input": "2022-02-02T01:58:51.261147Z",
     "iopub.status.busy": "2022-02-02T01:58:51.260661Z",
     "iopub.status.idle": "2022-02-02T01:58:51.269931Z",
     "shell.execute_reply": "2022-02-02T01:58:51.270405Z"
    },
    "papermill": {
     "duration": 0.029883,
     "end_time": "2022-02-02T01:58:51.270533",
     "exception": false,
     "start_time": "2022-02-02T01:58:51.240650",
     "status": "completed"
    },
    "tags": []
   },
   "outputs": [],
   "source": [
    "#hide\n",
    "%load_ext autoreload\n",
    "%autoreload 2"
   ]
  },
  {
   "cell_type": "code",
   "execution_count": 2,
   "id": "overall-advancement",
   "metadata": {
    "execution": {
     "iopub.execute_input": "2022-02-02T01:58:51.295448Z",
     "iopub.status.busy": "2022-02-02T01:58:51.294942Z",
     "iopub.status.idle": "2022-02-02T01:58:52.327425Z",
     "shell.execute_reply": "2022-02-02T01:58:52.326990Z"
    },
    "papermill": {
     "duration": 1.045949,
     "end_time": "2022-02-02T01:58:52.327536",
     "exception": false,
     "start_time": "2022-02-02T01:58:51.281587",
     "status": "completed"
    },
    "tags": []
   },
   "outputs": [],
   "source": [
    "#hide\n",
    "from scripts.read_data import read_api\n",
    "from IPython.display import HTML\n",
    "import plotly.graph_objects as go\n"
   ]
  },
  {
   "cell_type": "code",
   "execution_count": 3,
   "id": "light-crazy",
   "metadata": {
    "execution": {
     "iopub.execute_input": "2022-02-02T01:58:52.353237Z",
     "iopub.status.busy": "2022-02-02T01:58:52.352714Z",
     "iopub.status.idle": "2022-02-02T01:58:52.373467Z",
     "shell.execute_reply": "2022-02-02T01:58:52.373885Z"
    },
    "papermill": {
     "duration": 0.035132,
     "end_time": "2022-02-02T01:58:52.374002",
     "exception": false,
     "start_time": "2022-02-02T01:58:52.338870",
     "status": "completed"
    },
    "tags": []
   },
   "outputs": [],
   "source": [
    "#hide\n",
    "### ICO koreliacija"
   ]
  },
  {
   "cell_type": "code",
   "execution_count": 4,
   "id": "likely-bahrain",
   "metadata": {
    "execution": {
     "iopub.execute_input": "2022-02-02T01:58:52.399186Z",
     "iopub.status.busy": "2022-02-02T01:58:52.398694Z",
     "iopub.status.idle": "2022-02-02T01:58:53.244175Z",
     "shell.execute_reply": "2022-02-02T01:58:53.243732Z"
    },
    "papermill": {
     "duration": 0.859294,
     "end_time": "2022-02-02T01:58:53.244288",
     "exception": false,
     "start_time": "2022-02-02T01:58:52.384994",
     "status": "completed"
    },
    "tags": []
   },
   "outputs": [],
   "source": [
    "#hide\n",
    "import matplotlib.pyplot as plt\n",
    "import numpy as np\n",
    "import pandas as pd\n",
    "import seaborn as sns\n",
    "import matplotlib.pyplot as plt \n",
    "import matplotlib.dates as mdates\n",
    "import matplotlib.pyplot as plt"
   ]
  },
  {
   "cell_type": "code",
   "execution_count": 5,
   "id": "superior-blanket",
   "metadata": {
    "execution": {
     "iopub.execute_input": "2022-02-02T01:58:53.269777Z",
     "iopub.status.busy": "2022-02-02T01:58:53.269287Z",
     "iopub.status.idle": "2022-02-02T01:59:10.123239Z",
     "shell.execute_reply": "2022-02-02T01:59:10.122533Z"
    },
    "papermill": {
     "duration": 16.867853,
     "end_time": "2022-02-02T01:59:10.123353",
     "exception": false,
     "start_time": "2022-02-02T01:58:53.255500",
     "status": "completed"
    },
    "tags": []
   },
   "outputs": [
    {
     "name": "stderr",
     "output_type": "stream",
     "text": [
      "/home/runner/work/corr-app/corr-app/_notebooks/scripts/read_data.py:187: SettingWithCopyWarning:\n",
      "\n",
      "\n",
      "A value is trying to be set on a copy of a slice from a DataFrame.\n",
      "Try using .loc[row_indexer,col_indexer] = value instead\n",
      "\n",
      "See the caveats in the documentation: https://pandas.pydata.org/pandas-docs/stable/user_guide/indexing.html#returning-a-view-versus-a-copy\n",
      "\n"
     ]
    },
    {
     "name": "stderr",
     "output_type": "stream",
     "text": [
      "/home/runner/work/corr-app/corr-app/_notebooks/scripts/read_data.py:215: SettingWithCopyWarning:\n",
      "\n",
      "\n",
      "A value is trying to be set on a copy of a slice from a DataFrame.\n",
      "Try using .loc[row_indexer,col_indexer] = value instead\n",
      "\n",
      "See the caveats in the documentation: https://pandas.pydata.org/pandas-docs/stable/user_guide/indexing.html#returning-a-view-versus-a-copy\n",
      "\n"
     ]
    }
   ],
   "source": [
    "#hide\n",
    "df_all = read_api()\n",
    "#df_all = df_all.drop(['SP500', 'XAU', 'ETH', 'BTC'], axis=1)\n",
    "\n"
   ]
  },
  {
   "cell_type": "code",
   "execution_count": 6,
   "id": "mature-alert",
   "metadata": {
    "execution": {
     "iopub.execute_input": "2022-02-02T01:59:10.153482Z",
     "iopub.status.busy": "2022-02-02T01:59:10.150946Z",
     "iopub.status.idle": "2022-02-02T01:59:10.178632Z",
     "shell.execute_reply": "2022-02-02T01:59:10.178150Z"
    },
    "papermill": {
     "duration": 0.043537,
     "end_time": "2022-02-02T01:59:10.178730",
     "exception": false,
     "start_time": "2022-02-02T01:59:10.135193",
     "status": "completed"
    },
    "tags": []
   },
   "outputs": [],
   "source": [
    "#hide_input\n",
    "sum_corr = df_all.corr().sum().sort_values(ascending=True).index.values\n",
    "#df_all[sum_corr].corr()"
   ]
  },
  {
   "cell_type": "markdown",
   "id": "complex-syndicate",
   "metadata": {
    "papermill": {
     "duration": 0.011406,
     "end_time": "2022-02-02T01:59:10.201619",
     "exception": false,
     "start_time": "2022-02-02T01:59:10.190213",
     "status": "completed"
    },
    "tags": []
   },
   "source": [
    "## Išplėstinė koreliacijų matrica. "
   ]
  },
  {
   "cell_type": "code",
   "execution_count": 7,
   "id": "atomic-omaha",
   "metadata": {
    "execution": {
     "iopub.execute_input": "2022-02-02T01:59:10.227819Z",
     "iopub.status.busy": "2022-02-02T01:59:10.227325Z",
     "iopub.status.idle": "2022-02-02T01:59:11.367101Z",
     "shell.execute_reply": "2022-02-02T01:59:11.367497Z"
    },
    "papermill": {
     "duration": 1.154518,
     "end_time": "2022-02-02T01:59:11.367618",
     "exception": false,
     "start_time": "2022-02-02T01:59:10.213100",
     "status": "completed"
    },
    "tags": []
   },
   "outputs": [
    {
     "data": {
      "image/png": "[encoded data removed]",
      "text/plain": [
       "<Figure size 1080x792 with 2 Axes>"
      ]
     },
     "metadata": {
      "needs_background": "light"
     },
     "output_type": "display_data"
    }
   ],
   "source": [
    "#hide_input\n",
    "plt.figure(figsize=(15, 11))\n",
    "sns.heatmap(df_all[sum_corr].corr(), annot=True, cmap=\"cubehelix\") \n",
    "sns.set(font_scale=1.25)\n",
    "plt.savefig('corr_matrix.png', format='eps')"
   ]
  },
  {
   "cell_type": "code",
   "execution_count": 8,
   "id": "arbitrary-sullivan",
   "metadata": {
    "execution": {
     "iopub.execute_input": "2022-02-02T01:59:11.398922Z",
     "iopub.status.busy": "2022-02-02T01:59:11.397366Z",
     "iopub.status.idle": "2022-02-02T01:59:11.421692Z",
     "shell.execute_reply": "2022-02-02T01:59:11.421281Z"
    },
    "papermill": {
     "duration": 0.040389,
     "end_time": "2022-02-02T01:59:11.421789",
     "exception": false,
     "start_time": "2022-02-02T01:59:11.381400",
     "status": "completed"
    },
    "tags": []
   },
   "outputs": [],
   "source": [
    "#hide\n",
    "#df_all_mrk = read_api()"
   ]
  },
  {
   "cell_type": "code",
   "execution_count": 9,
   "id": "delayed-adapter",
   "metadata": {
    "execution": {
     "iopub.execute_input": "2022-02-02T01:59:11.451251Z",
     "iopub.status.busy": "2022-02-02T01:59:11.450757Z",
     "iopub.status.idle": "2022-02-02T01:59:11.473383Z",
     "shell.execute_reply": "2022-02-02T01:59:11.473752Z"
    },
    "papermill": {
     "duration": 0.038686,
     "end_time": "2022-02-02T01:59:11.473866",
     "exception": false,
     "start_time": "2022-02-02T01:59:11.435180",
     "status": "completed"
    },
    "tags": []
   },
   "outputs": [],
   "source": [
    "#hide\n",
    "#Koreliacijų koeficientai"
   ]
  },
  {
   "cell_type": "code",
   "execution_count": 10,
   "id": "seeing-celebration",
   "metadata": {
    "execution": {
     "iopub.execute_input": "2022-02-02T01:59:11.503465Z",
     "iopub.status.busy": "2022-02-02T01:59:11.502974Z",
     "iopub.status.idle": "2022-02-02T01:59:11.524756Z",
     "shell.execute_reply": "2022-02-02T01:59:11.525124Z"
    },
    "papermill": {
     "duration": 0.037822,
     "end_time": "2022-02-02T01:59:11.525234",
     "exception": false,
     "start_time": "2022-02-02T01:59:11.487412",
     "status": "completed"
    },
    "tags": []
   },
   "outputs": [],
   "source": [
    "#hide_input\n",
    "#sum_corr = df_all_mrk.corr().sum().sort_values(ascending=True).index.values\n",
    "#df_all_mrk[sum_corr].corr()"
   ]
  },
  {
   "cell_type": "code",
   "execution_count": 11,
   "id": "other-painting",
   "metadata": {
    "execution": {
     "iopub.execute_input": "2022-02-02T01:59:11.554726Z",
     "iopub.status.busy": "2022-02-02T01:59:11.554227Z",
     "iopub.status.idle": "2022-02-02T01:59:11.576409Z",
     "shell.execute_reply": "2022-02-02T01:59:11.575997Z"
    },
    "papermill": {
     "duration": 0.037875,
     "end_time": "2022-02-02T01:59:11.576504",
     "exception": false,
     "start_time": "2022-02-02T01:59:11.538629",
     "status": "completed"
    },
    "tags": []
   },
   "outputs": [],
   "source": [
    "#hide\n",
    "#Koreliacijos matrica. "
   ]
  },
  {
   "cell_type": "code",
   "execution_count": 12,
   "id": "modular-magnitude",
   "metadata": {
    "execution": {
     "iopub.execute_input": "2022-02-02T01:59:11.606040Z",
     "iopub.status.busy": "2022-02-02T01:59:11.605540Z",
     "iopub.status.idle": "2022-02-02T01:59:11.629627Z",
     "shell.execute_reply": "2022-02-02T01:59:11.629130Z"
    },
    "papermill": {
     "duration": 0.039729,
     "end_time": "2022-02-02T01:59:11.629724",
     "exception": false,
     "start_time": "2022-02-02T01:59:11.589995",
     "status": "completed"
    },
    "tags": []
   },
   "outputs": [],
   "source": [
    "#hide_input\n",
    "#plt.figure(figsize=(15, 8))\n",
    "#sns.heatmap(df_all_mrk[sum_corr].corr(), annot=True, cmap=\"BrBG\");\n",
    "#plt.savefig('corr_matrix_all.eps', format='eps')"
   ]
  },
  {
   "cell_type": "code",
   "execution_count": null,
   "id": "original-senator",
   "metadata": {
    "papermill": {
     "duration": 0.013281,
     "end_time": "2022-02-02T01:59:11.656363",
     "exception": false,
     "start_time": "2022-02-02T01:59:11.643082",
     "status": "completed"
    },
    "tags": []
   },
   "outputs": [],
   "source": []
  },
  {
   "cell_type": "code",
   "execution_count": null,
   "id": "saving-secretariat",
   "metadata": {
    "papermill": {
     "duration": 0.014091,
     "end_time": "2022-02-02T01:59:11.683807",
     "exception": false,
     "start_time": "2022-02-02T01:59:11.669716",
     "status": "completed"
    },
    "tags": []
   },
   "outputs": [],
   "source": []
  }
 ],
 "metadata": {
  "kernelspec": {
   "display_name": "Python 3",
   "language": "python",
   "name": "python3"
  },
  "language_info": {
   "codemirror_mode": {
    "name": "ipython",
    "version": 3
   },
   "file_extension": ".py",
   "mimetype": "text/x-python",
   "name": "python",
   "nbconvert_exporter": "python",
   "pygments_lexer": "ipython3",
   "version": "3.6.15"
  },
  "papermill": {
   "default_parameters": {},
   "duration": 21.816181,
   "end_time": "2022-02-02T01:59:12.114717",
   "environment_variables": {},
   "exception": null,
   "input_path": "App-Correlation_charts.ipynb",
   "output_path": "App-Correlation_charts.ipynb",
   "parameters": {},
   "start_time": "2022-02-02T01:58:50.298536",
   "version": "2.2.2"
  }
 },
 "nbformat": 4,
 "nbformat_minor": 5
}