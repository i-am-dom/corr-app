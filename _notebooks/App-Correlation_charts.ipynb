{
 "cells": [
  {
   "cell_type": "markdown",
   "id": "touched-facility",
   "metadata": {
    "papermill": {
     "duration": 0.014929,
     "end_time": "2022-08-12T03:05:32.182432",
     "exception": false,
     "start_time": "2022-08-12T03:05:32.167503",
     "status": "completed"
    },
    "tags": []
   },
   "source": [
    "# Koreliacijų matrica\n",
    "> Išplėstinė koreliacijų matrica. \n",
    "\n",
    "- toc: true \n",
    "- badges: true\n",
    "- comments: false\n",
    "- categories: [Dominykas Tautkus]\n",
    "- image: images/matrix.png"
   ]
  },
  {
   "cell_type": "code",
   "execution_count": null,
   "id": "premium-weekend",
   "metadata": {
    "papermill": {
     "duration": 0.010902,
     "end_time": "2022-08-12T03:05:32.204824",
     "exception": false,
     "start_time": "2022-08-12T03:05:32.193922",
     "status": "completed"
    },
    "tags": []
   },
   "outputs": [],
   "source": []
  },
  {
   "cell_type": "code",
   "execution_count": 1,
   "id": "vertical-rebate",
   "metadata": {
    "execution": {
     "iopub.execute_input": "2022-08-12T03:05:32.236961Z",
     "iopub.status.busy": "2022-08-12T03:05:32.236357Z",
     "iopub.status.idle": "2022-08-12T03:05:32.247482Z",
     "shell.execute_reply": "2022-08-12T03:05:32.246983Z"
    },
    "papermill": {
     "duration": 0.032021,
     "end_time": "2022-08-12T03:05:32.247637",
     "exception": false,
     "start_time": "2022-08-12T03:05:32.215616",
     "status": "completed"
    },
    "tags": []
   },
   "outputs": [],
   "source": [
    "#hide\n",
    "%load_ext autoreload\n",
    "%autoreload 2"
   ]
  },
  {
   "cell_type": "code",
   "execution_count": 2,
   "id": "overall-advancement",
   "metadata": {
    "execution": {
     "iopub.execute_input": "2022-08-12T03:05:32.273154Z",
     "iopub.status.busy": "2022-08-12T03:05:32.272571Z",
     "iopub.status.idle": "2022-08-12T03:05:33.595364Z",
     "shell.execute_reply": "2022-08-12T03:05:33.594871Z"
    },
    "papermill": {
     "duration": 1.337018,
     "end_time": "2022-08-12T03:05:33.595488",
     "exception": false,
     "start_time": "2022-08-12T03:05:32.258470",
     "status": "completed"
    },
    "tags": []
   },
   "outputs": [],
   "source": [
    "#hide\n",
    "from scripts.read_data import read_api\n",
    "from IPython.display import HTML\n",
    "import plotly.graph_objects as go\n"
   ]
  },
  {
   "cell_type": "code",
   "execution_count": 3,
   "id": "light-crazy",
   "metadata": {
    "execution": {
     "iopub.execute_input": "2022-08-12T03:05:33.630910Z",
     "iopub.status.busy": "2022-08-12T03:05:33.628550Z",
     "iopub.status.idle": "2022-08-12T03:05:33.648352Z",
     "shell.execute_reply": "2022-08-12T03:05:33.647514Z"
    },
    "papermill": {
     "duration": 0.041972,
     "end_time": "2022-08-12T03:05:33.648475",
     "exception": false,
     "start_time": "2022-08-12T03:05:33.606503",
     "status": "completed"
    },
    "tags": []
   },
   "outputs": [],
   "source": [
    "#hide\n",
    "### ICO koreliacija"
   ]
  },
  {
   "cell_type": "code",
   "execution_count": 4,
   "id": "likely-bahrain",
   "metadata": {
    "execution": {
     "iopub.execute_input": "2022-08-12T03:05:33.675044Z",
     "iopub.status.busy": "2022-08-12T03:05:33.674456Z",
     "iopub.status.idle": "2022-08-12T03:05:34.517328Z",
     "shell.execute_reply": "2022-08-12T03:05:34.516766Z"
    },
    "papermill": {
     "duration": 0.85812,
     "end_time": "2022-08-12T03:05:34.517468",
     "exception": false,
     "start_time": "2022-08-12T03:05:33.659348",
     "status": "completed"
    },
    "tags": []
   },
   "outputs": [],
   "source": [
    "#hide\n",
    "import matplotlib.pyplot as plt\n",
    "import numpy as np\n",
    "import pandas as pd\n",
    "import seaborn as sns\n",
    "import matplotlib.pyplot as plt \n",
    "import matplotlib.dates as mdates\n",
    "import matplotlib.pyplot as plt"
   ]
  },
  {
   "cell_type": "code",
   "execution_count": 5,
   "id": "superior-blanket",
   "metadata": {
    "execution": {
     "iopub.execute_input": "2022-08-12T03:05:34.556514Z",
     "iopub.status.busy": "2022-08-12T03:05:34.554976Z",
     "iopub.status.idle": "2022-08-12T03:05:44.136549Z",
     "shell.execute_reply": "2022-08-12T03:05:44.136011Z"
    },
    "papermill": {
     "duration": 9.60763,
     "end_time": "2022-08-12T03:05:44.136668",
     "exception": false,
     "start_time": "2022-08-12T03:05:34.529038",
     "status": "completed"
    },
    "tags": []
   },
   "outputs": [
    {
     "name": "stderr",
     "output_type": "stream",
     "text": [
      "/home/runner/work/corr-app/corr-app/_notebooks/scripts/read_data.py:187: SettingWithCopyWarning:\n",
      "\n",
      "\n",
      "A value is trying to be set on a copy of a slice from a DataFrame.\n",
      "Try using .loc[row_indexer,col_indexer] = value instead\n",
      "\n",
      "See the caveats in the documentation: https://pandas.pydata.org/pandas-docs/stable/user_guide/indexing.html#returning-a-view-versus-a-copy\n",
      "\n"
     ]
    },
    {
     "name": "stderr",
     "output_type": "stream",
     "text": [
      "/home/runner/work/corr-app/corr-app/_notebooks/scripts/read_data.py:215: SettingWithCopyWarning:\n",
      "\n",
      "\n",
      "A value is trying to be set on a copy of a slice from a DataFrame.\n",
      "Try using .loc[row_indexer,col_indexer] = value instead\n",
      "\n",
      "See the caveats in the documentation: https://pandas.pydata.org/pandas-docs/stable/user_guide/indexing.html#returning-a-view-versus-a-copy\n",
      "\n"
     ]
    }
   ],
   "source": [
    "#hide\n",
    "df_all = read_api()\n",
    "#df_all = df_all.drop(['SP500', 'XAU', 'ETH', 'BTC'], axis=1)\n",
    "\n"
   ]
  },
  {
   "cell_type": "code",
   "execution_count": 6,
   "id": "mature-alert",
   "metadata": {
    "execution": {
     "iopub.execute_input": "2022-08-12T03:05:44.216666Z",
     "iopub.status.busy": "2022-08-12T03:05:44.216003Z",
     "iopub.status.idle": "2022-08-12T03:05:44.240439Z",
     "shell.execute_reply": "2022-08-12T03:05:44.239896Z"
    },
    "papermill": {
     "duration": 0.083622,
     "end_time": "2022-08-12T03:05:44.240556",
     "exception": false,
     "start_time": "2022-08-12T03:05:44.156934",
     "status": "completed"
    },
    "tags": []
   },
   "outputs": [],
   "source": [
    "#hide_input\n",
    "sum_corr = df_all.corr().sum().sort_values(ascending=True).index.values\n",
    "#df_all[sum_corr].corr()"
   ]
  },
  {
   "cell_type": "markdown",
   "id": "complex-syndicate",
   "metadata": {
    "papermill": {
     "duration": 0.044038,
     "end_time": "2022-08-12T03:05:44.299311",
     "exception": false,
     "start_time": "2022-08-12T03:05:44.255273",
     "status": "completed"
    },
    "tags": []
   },
   "source": [
    "## Išplėstinė koreliacijų matrica. "
   ]
  },
  {
   "cell_type": "code",
   "execution_count": 7,
   "id": "atomic-omaha",
   "metadata": {
    "execution": {
     "iopub.execute_input": "2022-08-12T03:05:44.337380Z",
     "iopub.status.busy": "2022-08-12T03:05:44.334470Z",
     "iopub.status.idle": "2022-08-12T03:05:45.528360Z",
     "shell.execute_reply": "2022-08-12T03:05:45.527804Z"
    },
    "papermill": {
     "duration": 1.214548,
     "end_time": "2022-08-12T03:05:45.528491",
     "exception": false,
     "start_time": "2022-08-12T03:05:44.313943",
     "status": "completed"
    },
    "tags": []
   },
   "outputs": [
    {
     "data": {
      "image/png": "[encoded data removed]",
      "text/plain": [
       "<Figure size 1080x792 with 2 Axes>"
      ]
     },
     "metadata": {
      "needs_background": "light"
     },
     "output_type": "display_data"
    }
   ],
   "source": [
    "#hide_input\n",
    "plt.figure(figsize=(15, 11))\n",
    "sns.heatmap(df_all[sum_corr].corr(), annot=True, cmap=\"cubehelix\") \n",
    "sns.set(font_scale=1.25)\n",
    "plt.savefig('corr_matrix.png', format='eps')"
   ]
  },
  {
   "cell_type": "code",
   "execution_count": 8,
   "id": "arbitrary-sullivan",
   "metadata": {
    "execution": {
     "iopub.execute_input": "2022-08-12T03:05:45.560810Z",
     "iopub.status.busy": "2022-08-12T03:05:45.560230Z",
     "iopub.status.idle": "2022-08-12T03:05:45.586170Z",
     "shell.execute_reply": "2022-08-12T03:05:45.585689Z"
    },
    "papermill": {
     "duration": 0.043812,
     "end_time": "2022-08-12T03:05:45.586291",
     "exception": false,
     "start_time": "2022-08-12T03:05:45.542479",
     "status": "completed"
    },
    "tags": []
   },
   "outputs": [],
   "source": [
    "#hide\n",
    "#df_all_mrk = read_api()"
   ]
  },
  {
   "cell_type": "code",
   "execution_count": 9,
   "id": "delayed-adapter",
   "metadata": {
    "execution": {
     "iopub.execute_input": "2022-08-12T03:05:45.624045Z",
     "iopub.status.busy": "2022-08-12T03:05:45.622561Z",
     "iopub.status.idle": "2022-08-12T03:05:45.646435Z",
     "shell.execute_reply": "2022-08-12T03:05:45.645539Z"
    },
    "papermill": {
     "duration": 0.046791,
     "end_time": "2022-08-12T03:05:45.646565",
     "exception": false,
     "start_time": "2022-08-12T03:05:45.599774",
     "status": "completed"
    },
    "tags": []
   },
   "outputs": [],
   "source": [
    "#hide\n",
    "#Koreliacijų koeficientai"
   ]
  },
  {
   "cell_type": "code",
   "execution_count": 10,
   "id": "seeing-celebration",
   "metadata": {
    "execution": {
     "iopub.execute_input": "2022-08-12T03:05:45.685055Z",
     "iopub.status.busy": "2022-08-12T03:05:45.684469Z",
     "iopub.status.idle": "2022-08-12T03:05:45.707085Z",
     "shell.execute_reply": "2022-08-12T03:05:45.706213Z"
    },
    "papermill": {
     "duration": 0.04663,
     "end_time": "2022-08-12T03:05:45.707217",
     "exception": false,
     "start_time": "2022-08-12T03:05:45.660587",
     "status": "completed"
    },
    "tags": []
   },
   "outputs": [],
   "source": [
    "#hide_input\n",
    "#sum_corr = df_all_mrk.corr().sum().sort_values(ascending=True).index.values\n",
    "#df_all_mrk[sum_corr].corr()"
   ]
  },
  {
   "cell_type": "code",
   "execution_count": 11,
   "id": "other-painting",
   "metadata": {
    "execution": {
     "iopub.execute_input": "2022-08-12T03:05:45.739684Z",
     "iopub.status.busy": "2022-08-12T03:05:45.739063Z",
     "iopub.status.idle": "2022-08-12T03:05:45.766118Z",
     "shell.execute_reply": "2022-08-12T03:05:45.765557Z"
    },
    "papermill": {
     "duration": 0.044841,
     "end_time": "2022-08-12T03:05:45.766244",
     "exception": false,
     "start_time": "2022-08-12T03:05:45.721403",
     "status": "completed"
    },
    "tags": []
   },
   "outputs": [],
   "source": [
    "#hide\n",
    "#Koreliacijos matrica. "
   ]
  },
  {
   "cell_type": "code",
   "execution_count": 12,
   "id": "modular-magnitude",
   "metadata": {
    "execution": {
     "iopub.execute_input": "2022-08-12T03:05:45.801098Z",
     "iopub.status.busy": "2022-08-12T03:05:45.800413Z",
     "iopub.status.idle": "2022-08-12T03:05:45.826998Z",
     "shell.execute_reply": "2022-08-12T03:05:45.826200Z"
    },
    "papermill": {
     "duration": 0.046329,
     "end_time": "2022-08-12T03:05:45.827118",
     "exception": false,
     "start_time": "2022-08-12T03:05:45.780789",
     "status": "completed"
    },
    "tags": []
   },
   "outputs": [],
   "source": [
    "#hide_input\n",
    "#plt.figure(figsize=(15, 8))\n",
    "#sns.heatmap(df_all_mrk[sum_corr].corr(), annot=True, cmap=\"BrBG\");\n",
    "#plt.savefig('corr_matrix_all.eps', format='eps')"
   ]
  },
  {
   "cell_type": "code",
   "execution_count": null,
   "id": "original-senator",
   "metadata": {
    "papermill": {
     "duration": 0.013509,
     "end_time": "2022-08-12T03:05:45.854103",
     "exception": false,
     "start_time": "2022-08-12T03:05:45.840594",
     "status": "completed"
    },
    "tags": []
   },
   "outputs": [],
   "source": []
  },
  {
   "cell_type": "code",
   "execution_count": null,
   "id": "saving-secretariat",
   "metadata": {
    "papermill": {
     "duration": 0.013394,
     "end_time": "2022-08-12T03:05:45.880993",
     "exception": false,
     "start_time": "2022-08-12T03:05:45.867599",
     "status": "completed"
    },
    "tags": []
   },
   "outputs": [],
   "source": []
  }
 ],
 "metadata": {
  "kernelspec": {
   "display_name": "Python 3",
   "language": "python",
   "name": "python3"
  },
  "language_info": {
   "codemirror_mode": {
    "name": "ipython",
    "version": 3
   },
   "file_extension": ".py",
   "mimetype": "text/x-python",
   "name": "python",
   "nbconvert_exporter": "python",
   "pygments_lexer": "ipython3",
   "version": "3.6.15"
  },
  "papermill": {
   "default_parameters": {},
   "duration": 15.276856,
   "end_time": "2022-08-12T03:05:46.413911",
   "environment_variables": {},
   "exception": null,
   "input_path": "App-Correlation_charts.ipynb",
   "output_path": "App-Correlation_charts.ipynb",
   "parameters": {},
   "start_time": "2022-08-12T03:05:31.137055",
   "version": "2.2.2"
  }
 },
 "nbformat": 4,
 "nbformat_minor": 5
}