{
 "cells": [
  {
   "cell_type": "markdown",
   "id": "touched-facility",
   "metadata": {
    "papermill": {
     "duration": 0.01449,
     "end_time": "2022-07-16T03:03:19.477725",
     "exception": false,
     "start_time": "2022-07-16T03:03:19.463235",
     "status": "completed"
    },
    "tags": []
   },
   "source": [
    "# Koreliacijų matrica\n",
    "> Išplėstinė koreliacijų matrica. \n",
    "\n",
    "- toc: true \n",
    "- badges: true\n",
    "- comments: false\n",
    "- categories: [Dominykas Tautkus]\n",
    "- image: images/matrix.png"
   ]
  },
  {
   "cell_type": "code",
   "execution_count": null,
   "id": "premium-weekend",
   "metadata": {
    "papermill": {
     "duration": 0.011174,
     "end_time": "2022-07-16T03:03:19.500412",
     "exception": false,
     "start_time": "2022-07-16T03:03:19.489238",
     "status": "completed"
    },
    "tags": []
   },
   "outputs": [],
   "source": []
  },
  {
   "cell_type": "code",
   "execution_count": 1,
   "id": "vertical-rebate",
   "metadata": {
    "execution": {
     "iopub.execute_input": "2022-07-16T03:03:19.531230Z",
     "iopub.status.busy": "2022-07-16T03:03:19.529044Z",
     "iopub.status.idle": "2022-07-16T03:03:19.541580Z",
     "shell.execute_reply": "2022-07-16T03:03:19.541123Z"
    },
    "papermill": {
     "duration": 0.030565,
     "end_time": "2022-07-16T03:03:19.541683",
     "exception": false,
     "start_time": "2022-07-16T03:03:19.511118",
     "status": "completed"
    },
    "tags": []
   },
   "outputs": [],
   "source": [
    "#hide\n",
    "%load_ext autoreload\n",
    "%autoreload 2"
   ]
  },
  {
   "cell_type": "code",
   "execution_count": 2,
   "id": "overall-advancement",
   "metadata": {
    "execution": {
     "iopub.execute_input": "2022-07-16T03:03:19.566000Z",
     "iopub.status.busy": "2022-07-16T03:03:19.565452Z",
     "iopub.status.idle": "2022-07-16T03:03:20.878837Z",
     "shell.execute_reply": "2022-07-16T03:03:20.878366Z"
    },
    "papermill": {
     "duration": 1.326539,
     "end_time": "2022-07-16T03:03:20.878954",
     "exception": false,
     "start_time": "2022-07-16T03:03:19.552415",
     "status": "completed"
    },
    "tags": []
   },
   "outputs": [],
   "source": [
    "#hide\n",
    "from scripts.read_data import read_api\n",
    "from IPython.display import HTML\n",
    "import plotly.graph_objects as go\n"
   ]
  },
  {
   "cell_type": "code",
   "execution_count": 3,
   "id": "light-crazy",
   "metadata": {
    "execution": {
     "iopub.execute_input": "2022-07-16T03:03:20.908405Z",
     "iopub.status.busy": "2022-07-16T03:03:20.905915Z",
     "iopub.status.idle": "2022-07-16T03:03:20.926534Z",
     "shell.execute_reply": "2022-07-16T03:03:20.926945Z"
    },
    "papermill": {
     "duration": 0.037004,
     "end_time": "2022-07-16T03:03:20.927061",
     "exception": false,
     "start_time": "2022-07-16T03:03:20.890057",
     "status": "completed"
    },
    "tags": []
   },
   "outputs": [],
   "source": [
    "#hide\n",
    "### ICO koreliacija"
   ]
  },
  {
   "cell_type": "code",
   "execution_count": 4,
   "id": "likely-bahrain",
   "metadata": {
    "execution": {
     "iopub.execute_input": "2022-07-16T03:03:20.952413Z",
     "iopub.status.busy": "2022-07-16T03:03:20.951857Z",
     "iopub.status.idle": "2022-07-16T03:03:21.749526Z",
     "shell.execute_reply": "2022-07-16T03:03:21.749055Z"
    },
    "papermill": {
     "duration": 0.811624,
     "end_time": "2022-07-16T03:03:21.749640",
     "exception": false,
     "start_time": "2022-07-16T03:03:20.938016",
     "status": "completed"
    },
    "tags": []
   },
   "outputs": [],
   "source": [
    "#hide\n",
    "import matplotlib.pyplot as plt\n",
    "import numpy as np\n",
    "import pandas as pd\n",
    "import seaborn as sns\n",
    "import matplotlib.pyplot as plt \n",
    "import matplotlib.dates as mdates\n",
    "import matplotlib.pyplot as plt"
   ]
  },
  {
   "cell_type": "code",
   "execution_count": 5,
   "id": "superior-blanket",
   "metadata": {
    "execution": {
     "iopub.execute_input": "2022-07-16T03:03:21.778990Z",
     "iopub.status.busy": "2022-07-16T03:03:21.776082Z",
     "iopub.status.idle": "2022-07-16T03:03:32.197325Z",
     "shell.execute_reply": "2022-07-16T03:03:32.196152Z"
    },
    "papermill": {
     "duration": 10.436643,
     "end_time": "2022-07-16T03:03:32.197448",
     "exception": false,
     "start_time": "2022-07-16T03:03:21.760805",
     "status": "completed"
    },
    "tags": []
   },
   "outputs": [
    {
     "name": "stderr",
     "output_type": "stream",
     "text": [
      "/home/runner/work/corr-app/corr-app/_notebooks/scripts/read_data.py:187: SettingWithCopyWarning:\n",
      "\n",
      "\n",
      "A value is trying to be set on a copy of a slice from a DataFrame.\n",
      "Try using .loc[row_indexer,col_indexer] = value instead\n",
      "\n",
      "See the caveats in the documentation: https://pandas.pydata.org/pandas-docs/stable/user_guide/indexing.html#returning-a-view-versus-a-copy\n",
      "\n"
     ]
    },
    {
     "name": "stderr",
     "output_type": "stream",
     "text": [
      "/home/runner/work/corr-app/corr-app/_notebooks/scripts/read_data.py:215: SettingWithCopyWarning:\n",
      "\n",
      "\n",
      "A value is trying to be set on a copy of a slice from a DataFrame.\n",
      "Try using .loc[row_indexer,col_indexer] = value instead\n",
      "\n",
      "See the caveats in the documentation: https://pandas.pydata.org/pandas-docs/stable/user_guide/indexing.html#returning-a-view-versus-a-copy\n",
      "\n"
     ]
    }
   ],
   "source": [
    "#hide\n",
    "df_all = read_api()\n",
    "#df_all = df_all.drop(['SP500', 'XAU', 'ETH', 'BTC'], axis=1)\n",
    "\n"
   ]
  },
  {
   "cell_type": "code",
   "execution_count": 6,
   "id": "mature-alert",
   "metadata": {
    "execution": {
     "iopub.execute_input": "2022-07-16T03:03:32.227756Z",
     "iopub.status.busy": "2022-07-16T03:03:32.225252Z",
     "iopub.status.idle": "2022-07-16T03:03:32.253903Z",
     "shell.execute_reply": "2022-07-16T03:03:32.253460Z"
    },
    "papermill": {
     "duration": 0.044886,
     "end_time": "2022-07-16T03:03:32.254009",
     "exception": false,
     "start_time": "2022-07-16T03:03:32.209123",
     "status": "completed"
    },
    "tags": []
   },
   "outputs": [],
   "source": [
    "#hide_input\n",
    "sum_corr = df_all.corr().sum().sort_values(ascending=True).index.values\n",
    "#df_all[sum_corr].corr()"
   ]
  },
  {
   "cell_type": "markdown",
   "id": "complex-syndicate",
   "metadata": {
    "papermill": {
     "duration": 0.012153,
     "end_time": "2022-07-16T03:03:32.277702",
     "exception": false,
     "start_time": "2022-07-16T03:03:32.265549",
     "status": "completed"
    },
    "tags": []
   },
   "source": [
    "## Išplėstinė koreliacijų matrica. "
   ]
  },
  {
   "cell_type": "code",
   "execution_count": 7,
   "id": "atomic-omaha",
   "metadata": {
    "execution": {
     "iopub.execute_input": "2022-07-16T03:03:32.303942Z",
     "iopub.status.busy": "2022-07-16T03:03:32.303351Z",
     "iopub.status.idle": "2022-07-16T03:03:33.418661Z",
     "shell.execute_reply": "2022-07-16T03:03:33.419087Z"
    },
    "papermill": {
     "duration": 1.130191,
     "end_time": "2022-07-16T03:03:33.419213",
     "exception": false,
     "start_time": "2022-07-16T03:03:32.289022",
     "status": "completed"
    },
    "tags": []
   },
   "outputs": [
    {
     "data": {
      "image/png": "[encoded data removed]",
      "text/plain": [
       "<Figure size 1080x792 with 2 Axes>"
      ]
     },
     "metadata": {
      "needs_background": "light"
     },
     "output_type": "display_data"
    }
   ],
   "source": [
    "#hide_input\n",
    "plt.figure(figsize=(15, 11))\n",
    "sns.heatmap(df_all[sum_corr].corr(), annot=True, cmap=\"cubehelix\") \n",
    "sns.set(font_scale=1.25)\n",
    "plt.savefig('corr_matrix.png', format='eps')"
   ]
  },
  {
   "cell_type": "code",
   "execution_count": 8,
   "id": "arbitrary-sullivan",
   "metadata": {
    "execution": {
     "iopub.execute_input": "2022-07-16T03:03:33.452245Z",
     "iopub.status.busy": "2022-07-16T03:03:33.448341Z",
     "iopub.status.idle": "2022-07-16T03:03:33.473365Z",
     "shell.execute_reply": "2022-07-16T03:03:33.473767Z"
    },
    "papermill": {
     "duration": 0.041106,
     "end_time": "2022-07-16T03:03:33.473881",
     "exception": false,
     "start_time": "2022-07-16T03:03:33.432775",
     "status": "completed"
    },
    "tags": []
   },
   "outputs": [],
   "source": [
    "#hide\n",
    "#df_all_mrk = read_api()"
   ]
  },
  {
   "cell_type": "code",
   "execution_count": 9,
   "id": "delayed-adapter",
   "metadata": {
    "execution": {
     "iopub.execute_input": "2022-07-16T03:03:33.503217Z",
     "iopub.status.busy": "2022-07-16T03:03:33.502677Z",
     "iopub.status.idle": "2022-07-16T03:03:33.527465Z",
     "shell.execute_reply": "2022-07-16T03:03:33.526990Z"
    },
    "papermill": {
     "duration": 0.040413,
     "end_time": "2022-07-16T03:03:33.527562",
     "exception": false,
     "start_time": "2022-07-16T03:03:33.487149",
     "status": "completed"
    },
    "tags": []
   },
   "outputs": [],
   "source": [
    "#hide\n",
    "#Koreliacijų koeficientai"
   ]
  },
  {
   "cell_type": "code",
   "execution_count": 10,
   "id": "seeing-celebration",
   "metadata": {
    "execution": {
     "iopub.execute_input": "2022-07-16T03:03:33.557248Z",
     "iopub.status.busy": "2022-07-16T03:03:33.556682Z",
     "iopub.status.idle": "2022-07-16T03:03:33.581482Z",
     "shell.execute_reply": "2022-07-16T03:03:33.581026Z"
    },
    "papermill": {
     "duration": 0.040696,
     "end_time": "2022-07-16T03:03:33.581577",
     "exception": false,
     "start_time": "2022-07-16T03:03:33.540881",
     "status": "completed"
    },
    "tags": []
   },
   "outputs": [],
   "source": [
    "#hide_input\n",
    "#sum_corr = df_all_mrk.corr().sum().sort_values(ascending=True).index.values\n",
    "#df_all_mrk[sum_corr].corr()"
   ]
  },
  {
   "cell_type": "code",
   "execution_count": 11,
   "id": "other-painting",
   "metadata": {
    "execution": {
     "iopub.execute_input": "2022-07-16T03:03:33.610830Z",
     "iopub.status.busy": "2022-07-16T03:03:33.610278Z",
     "iopub.status.idle": "2022-07-16T03:03:33.634529Z",
     "shell.execute_reply": "2022-07-16T03:03:33.634091Z"
    },
    "papermill": {
     "duration": 0.039799,
     "end_time": "2022-07-16T03:03:33.634622",
     "exception": false,
     "start_time": "2022-07-16T03:03:33.594823",
     "status": "completed"
    },
    "tags": []
   },
   "outputs": [],
   "source": [
    "#hide\n",
    "#Koreliacijos matrica. "
   ]
  },
  {
   "cell_type": "code",
   "execution_count": 12,
   "id": "modular-magnitude",
   "metadata": {
    "execution": {
     "iopub.execute_input": "2022-07-16T03:03:33.663862Z",
     "iopub.status.busy": "2022-07-16T03:03:33.663275Z",
     "iopub.status.idle": "2022-07-16T03:03:33.686910Z",
     "shell.execute_reply": "2022-07-16T03:03:33.686471Z"
    },
    "papermill": {
     "duration": 0.039055,
     "end_time": "2022-07-16T03:03:33.687003",
     "exception": false,
     "start_time": "2022-07-16T03:03:33.647948",
     "status": "completed"
    },
    "tags": []
   },
   "outputs": [],
   "source": [
    "#hide_input\n",
    "#plt.figure(figsize=(15, 8))\n",
    "#sns.heatmap(df_all_mrk[sum_corr].corr(), annot=True, cmap=\"BrBG\");\n",
    "#plt.savefig('corr_matrix_all.eps', format='eps')"
   ]
  },
  {
   "cell_type": "code",
   "execution_count": null,
   "id": "original-senator",
   "metadata": {
    "papermill": {
     "duration": 0.013123,
     "end_time": "2022-07-16T03:03:33.713398",
     "exception": false,
     "start_time": "2022-07-16T03:03:33.700275",
     "status": "completed"
    },
    "tags": []
   },
   "outputs": [],
   "source": []
  },
  {
   "cell_type": "code",
   "execution_count": null,
   "id": "saving-secretariat",
   "metadata": {
    "papermill": {
     "duration": 0.013136,
     "end_time": "2022-07-16T03:03:33.739979",
     "exception": false,
     "start_time": "2022-07-16T03:03:33.726843",
     "status": "completed"
    },
    "tags": []
   },
   "outputs": [],
   "source": []
  }
 ],
 "metadata": {
  "kernelspec": {
   "display_name": "Python 3",
   "language": "python",
   "name": "python3"
  },
  "language_info": {
   "codemirror_mode": {
    "name": "ipython",
    "version": 3
   },
   "file_extension": ".py",
   "mimetype": "text/x-python",
   "name": "python",
   "nbconvert_exporter": "python",
   "pygments_lexer": "ipython3",
   "version": "3.6.15"
  },
  "papermill": {
   "default_parameters": {},
   "duration": 15.610566,
   "end_time": "2022-07-16T03:03:34.170843",
   "environment_variables": {},
   "exception": null,
   "input_path": "App-Correlation_charts.ipynb",
   "output_path": "App-Correlation_charts.ipynb",
   "parameters": {},
   "start_time": "2022-07-16T03:03:18.560277",
   "version": "2.2.2"
  }
 },
 "nbformat": 4,
 "nbformat_minor": 5
}