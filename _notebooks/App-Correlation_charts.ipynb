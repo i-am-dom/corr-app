{
 "cells": [
  {
   "cell_type": "markdown",
   "id": "touched-facility",
   "metadata": {
    "papermill": {
     "duration": 0.015238,
     "end_time": "2021-08-28T01:49:52.653486",
     "exception": false,
     "start_time": "2021-08-28T01:49:52.638248",
     "status": "completed"
    },
    "tags": []
   },
   "source": [
    "# Koreliacijų matrica\n",
    "> Išplėstinė koreliacijų matrica. \n",
    "\n",
    "- toc: true \n",
    "- badges: true\n",
    "- comments: false\n",
    "- categories: [Dominykas Tautkus]\n",
    "- image: images/matrix.png"
   ]
  },
  {
   "cell_type": "code",
   "execution_count": null,
   "id": "premium-weekend",
   "metadata": {
    "papermill": {
     "duration": 0.011292,
     "end_time": "2021-08-28T01:49:52.677172",
     "exception": false,
     "start_time": "2021-08-28T01:49:52.665880",
     "status": "completed"
    },
    "tags": []
   },
   "outputs": [],
   "source": []
  },
  {
   "cell_type": "code",
   "execution_count": 1,
   "id": "vertical-rebate",
   "metadata": {
    "execution": {
     "iopub.execute_input": "2021-08-28T01:49:52.712282Z",
     "iopub.status.busy": "2021-08-28T01:49:52.711654Z",
     "iopub.status.idle": "2021-08-28T01:49:52.722478Z",
     "shell.execute_reply": "2021-08-28T01:49:52.722905Z"
    },
    "papermill": {
     "duration": 0.034739,
     "end_time": "2021-08-28T01:49:52.723056",
     "exception": false,
     "start_time": "2021-08-28T01:49:52.688317",
     "status": "completed"
    },
    "tags": []
   },
   "outputs": [],
   "source": [
    "#hide\n",
    "%load_ext autoreload\n",
    "%autoreload 2"
   ]
  },
  {
   "cell_type": "code",
   "execution_count": 2,
   "id": "overall-advancement",
   "metadata": {
    "execution": {
     "iopub.execute_input": "2021-08-28T01:49:52.752493Z",
     "iopub.status.busy": "2021-08-28T01:49:52.751144Z",
     "iopub.status.idle": "2021-08-28T01:49:54.003824Z",
     "shell.execute_reply": "2021-08-28T01:49:54.004314Z"
    },
    "papermill": {
     "duration": 1.269131,
     "end_time": "2021-08-28T01:49:54.004477",
     "exception": false,
     "start_time": "2021-08-28T01:49:52.735346",
     "status": "completed"
    },
    "tags": []
   },
   "outputs": [],
   "source": [
    "#hide\n",
    "from scripts.read_data import read_api\n",
    "from IPython.display import HTML\n",
    "import plotly.graph_objects as go\n"
   ]
  },
  {
   "cell_type": "code",
   "execution_count": 3,
   "id": "light-crazy",
   "metadata": {
    "execution": {
     "iopub.execute_input": "2021-08-28T01:49:54.036429Z",
     "iopub.status.busy": "2021-08-28T01:49:54.035854Z",
     "iopub.status.idle": "2021-08-28T01:49:54.057631Z",
     "shell.execute_reply": "2021-08-28T01:49:54.056695Z"
    },
    "papermill": {
     "duration": 0.041148,
     "end_time": "2021-08-28T01:49:54.057772",
     "exception": false,
     "start_time": "2021-08-28T01:49:54.016624",
     "status": "completed"
    },
    "tags": []
   },
   "outputs": [],
   "source": [
    "#hide\n",
    "### ICO koreliacija"
   ]
  },
  {
   "cell_type": "code",
   "execution_count": 4,
   "id": "likely-bahrain",
   "metadata": {
    "execution": {
     "iopub.execute_input": "2021-08-28T01:49:54.084703Z",
     "iopub.status.busy": "2021-08-28T01:49:54.083690Z",
     "iopub.status.idle": "2021-08-28T01:49:54.991245Z",
     "shell.execute_reply": "2021-08-28T01:49:54.990720Z"
    },
    "papermill": {
     "duration": 0.921725,
     "end_time": "2021-08-28T01:49:54.991373",
     "exception": false,
     "start_time": "2021-08-28T01:49:54.069648",
     "status": "completed"
    },
    "tags": []
   },
   "outputs": [],
   "source": [
    "#hide\n",
    "import matplotlib.pyplot as plt\n",
    "import numpy as np\n",
    "import pandas as pd\n",
    "import seaborn as sns\n",
    "import matplotlib.pyplot as plt \n",
    "import matplotlib.dates as mdates\n",
    "import matplotlib.pyplot as plt"
   ]
  },
  {
   "cell_type": "code",
   "execution_count": 5,
   "id": "superior-blanket",
   "metadata": {
    "execution": {
     "iopub.execute_input": "2021-08-28T01:49:55.020307Z",
     "iopub.status.busy": "2021-08-28T01:49:55.019754Z",
     "iopub.status.idle": "2021-08-28T01:50:06.737413Z",
     "shell.execute_reply": "2021-08-28T01:50:06.736755Z"
    },
    "papermill": {
     "duration": 11.733945,
     "end_time": "2021-08-28T01:50:06.737554",
     "exception": false,
     "start_time": "2021-08-28T01:49:55.003609",
     "status": "completed"
    },
    "tags": []
   },
   "outputs": [
    {
     "name": "stderr",
     "output_type": "stream",
     "text": [
      "/home/runner/work/corr-app/corr-app/_notebooks/scripts/read_data.py:187: SettingWithCopyWarning:\n",
      "\n",
      "\n",
      "A value is trying to be set on a copy of a slice from a DataFrame.\n",
      "Try using .loc[row_indexer,col_indexer] = value instead\n",
      "\n",
      "See the caveats in the documentation: https://pandas.pydata.org/pandas-docs/stable/user_guide/indexing.html#returning-a-view-versus-a-copy\n",
      "\n"
     ]
    },
    {
     "name": "stderr",
     "output_type": "stream",
     "text": [
      "/home/runner/work/corr-app/corr-app/_notebooks/scripts/read_data.py:215: SettingWithCopyWarning:\n",
      "\n",
      "\n",
      "A value is trying to be set on a copy of a slice from a DataFrame.\n",
      "Try using .loc[row_indexer,col_indexer] = value instead\n",
      "\n",
      "See the caveats in the documentation: https://pandas.pydata.org/pandas-docs/stable/user_guide/indexing.html#returning-a-view-versus-a-copy\n",
      "\n"
     ]
    }
   ],
   "source": [
    "#hide\n",
    "df_all = read_api()\n",
    "#df_all = df_all.drop(['SP500', 'XAU', 'ETH', 'BTC'], axis=1)\n",
    "\n"
   ]
  },
  {
   "cell_type": "code",
   "execution_count": 6,
   "id": "mature-alert",
   "metadata": {
    "execution": {
     "iopub.execute_input": "2021-08-28T01:50:06.764622Z",
     "iopub.status.busy": "2021-08-28T01:50:06.764021Z",
     "iopub.status.idle": "2021-08-28T01:50:06.796302Z",
     "shell.execute_reply": "2021-08-28T01:50:06.796924Z"
    },
    "papermill": {
     "duration": 0.047506,
     "end_time": "2021-08-28T01:50:06.797087",
     "exception": false,
     "start_time": "2021-08-28T01:50:06.749581",
     "status": "completed"
    },
    "tags": []
   },
   "outputs": [],
   "source": [
    "#hide_input\n",
    "sum_corr = df_all.corr().sum().sort_values(ascending=True).index.values\n",
    "#df_all[sum_corr].corr()"
   ]
  },
  {
   "cell_type": "markdown",
   "id": "complex-syndicate",
   "metadata": {
    "papermill": {
     "duration": 0.01251,
     "end_time": "2021-08-28T01:50:06.822182",
     "exception": false,
     "start_time": "2021-08-28T01:50:06.809672",
     "status": "completed"
    },
    "tags": []
   },
   "source": [
    "## Išplėstinė koreliacijų matrica. "
   ]
  },
  {
   "cell_type": "code",
   "execution_count": 7,
   "id": "atomic-omaha",
   "metadata": {
    "execution": {
     "iopub.execute_input": "2021-08-28T01:50:06.864369Z",
     "iopub.status.busy": "2021-08-28T01:50:06.856097Z",
     "iopub.status.idle": "2021-08-28T01:50:08.176715Z",
     "shell.execute_reply": "2021-08-28T01:50:08.177627Z"
    },
    "papermill": {
     "duration": 1.343658,
     "end_time": "2021-08-28T01:50:08.177784",
     "exception": false,
     "start_time": "2021-08-28T01:50:06.834126",
     "status": "completed"
    },
    "tags": []
   },
   "outputs": [
    {
     "data": {
      "image/png": "[encoded data removed]",
      "text/plain": [
       "<Figure size 1080x792 with 2 Axes>"
      ]
     },
     "metadata": {
      "needs_background": "light"
     },
     "output_type": "display_data"
    }
   ],
   "source": [
    "#hide_input\n",
    "plt.figure(figsize=(15, 11))\n",
    "sns.heatmap(df_all[sum_corr].corr(), annot=True, cmap=\"cubehelix\") \n",
    "sns.set(font_scale=1.25)\n",
    "plt.savefig('corr_matrix.png', format='eps')"
   ]
  },
  {
   "cell_type": "code",
   "execution_count": 8,
   "id": "arbitrary-sullivan",
   "metadata": {
    "execution": {
     "iopub.execute_input": "2021-08-28T01:50:08.212384Z",
     "iopub.status.busy": "2021-08-28T01:50:08.207711Z",
     "iopub.status.idle": "2021-08-28T01:50:08.235257Z",
     "shell.execute_reply": "2021-08-28T01:50:08.234552Z"
    },
    "papermill": {
     "duration": 0.044284,
     "end_time": "2021-08-28T01:50:08.235443",
     "exception": false,
     "start_time": "2021-08-28T01:50:08.191159",
     "status": "completed"
    },
    "tags": []
   },
   "outputs": [],
   "source": [
    "#hide\n",
    "#df_all_mrk = read_api()"
   ]
  },
  {
   "cell_type": "code",
   "execution_count": 9,
   "id": "delayed-adapter",
   "metadata": {
    "execution": {
     "iopub.execute_input": "2021-08-28T01:50:08.273986Z",
     "iopub.status.busy": "2021-08-28T01:50:08.272334Z",
     "iopub.status.idle": "2021-08-28T01:50:08.299198Z",
     "shell.execute_reply": "2021-08-28T01:50:08.298559Z"
    },
    "papermill": {
     "duration": 0.047519,
     "end_time": "2021-08-28T01:50:08.299351",
     "exception": false,
     "start_time": "2021-08-28T01:50:08.251832",
     "status": "completed"
    },
    "tags": []
   },
   "outputs": [],
   "source": [
    "#hide\n",
    "#Koreliacijų koeficientai"
   ]
  },
  {
   "cell_type": "code",
   "execution_count": 10,
   "id": "seeing-celebration",
   "metadata": {
    "execution": {
     "iopub.execute_input": "2021-08-28T01:50:08.333094Z",
     "iopub.status.busy": "2021-08-28T01:50:08.332497Z",
     "iopub.status.idle": "2021-08-28T01:50:08.359748Z",
     "shell.execute_reply": "2021-08-28T01:50:08.360314Z"
    },
    "papermill": {
     "duration": 0.045508,
     "end_time": "2021-08-28T01:50:08.360488",
     "exception": false,
     "start_time": "2021-08-28T01:50:08.314980",
     "status": "completed"
    },
    "tags": []
   },
   "outputs": [],
   "source": [
    "#hide_input\n",
    "#sum_corr = df_all_mrk.corr().sum().sort_values(ascending=True).index.values\n",
    "#df_all_mrk[sum_corr].corr()"
   ]
  },
  {
   "cell_type": "code",
   "execution_count": 11,
   "id": "other-painting",
   "metadata": {
    "execution": {
     "iopub.execute_input": "2021-08-28T01:50:08.392328Z",
     "iopub.status.busy": "2021-08-28T01:50:08.391823Z",
     "iopub.status.idle": "2021-08-28T01:50:08.419960Z",
     "shell.execute_reply": "2021-08-28T01:50:08.419246Z"
    },
    "papermill": {
     "duration": 0.044741,
     "end_time": "2021-08-28T01:50:08.420123",
     "exception": false,
     "start_time": "2021-08-28T01:50:08.375382",
     "status": "completed"
    },
    "tags": []
   },
   "outputs": [],
   "source": [
    "#hide\n",
    "#Koreliacijos matrica. "
   ]
  },
  {
   "cell_type": "code",
   "execution_count": 12,
   "id": "modular-magnitude",
   "metadata": {
    "execution": {
     "iopub.execute_input": "2021-08-28T01:50:08.453559Z",
     "iopub.status.busy": "2021-08-28T01:50:08.452987Z",
     "iopub.status.idle": "2021-08-28T01:50:08.479680Z",
     "shell.execute_reply": "2021-08-28T01:50:08.479033Z"
    },
    "papermill": {
     "duration": 0.04388,
     "end_time": "2021-08-28T01:50:08.479826",
     "exception": false,
     "start_time": "2021-08-28T01:50:08.435946",
     "status": "completed"
    },
    "tags": []
   },
   "outputs": [],
   "source": [
    "#hide_input\n",
    "#plt.figure(figsize=(15, 8))\n",
    "#sns.heatmap(df_all_mrk[sum_corr].corr(), annot=True, cmap=\"BrBG\");\n",
    "#plt.savefig('corr_matrix_all.eps', format='eps')"
   ]
  },
  {
   "cell_type": "code",
   "execution_count": null,
   "id": "original-senator",
   "metadata": {
    "papermill": {
     "duration": 0.013939,
     "end_time": "2021-08-28T01:50:08.509061",
     "exception": false,
     "start_time": "2021-08-28T01:50:08.495122",
     "status": "completed"
    },
    "tags": []
   },
   "outputs": [],
   "source": []
  },
  {
   "cell_type": "code",
   "execution_count": null,
   "id": "saving-secretariat",
   "metadata": {
    "papermill": {
     "duration": 0.01474,
     "end_time": "2021-08-28T01:50:08.536158",
     "exception": false,
     "start_time": "2021-08-28T01:50:08.521418",
     "status": "completed"
    },
    "tags": []
   },
   "outputs": [],
   "source": []
  }
 ],
 "metadata": {
  "kernelspec": {
   "display_name": "Python 3",
   "language": "python",
   "name": "python3"
  },
  "language_info": {
   "codemirror_mode": {
    "name": "ipython",
    "version": 3
   },
   "file_extension": ".py",
   "mimetype": "text/x-python",
   "name": "python",
   "nbconvert_exporter": "python",
   "pygments_lexer": "ipython3",
   "version": "3.6.14"
  },
  "papermill": {
   "default_parameters": {},
   "duration": 17.487999,
   "end_time": "2021-08-28T01:50:09.061236",
   "environment_variables": {},
   "exception": null,
   "input_path": "App-Correlation_charts.ipynb",
   "output_path": "App-Correlation_charts.ipynb",
   "parameters": {},
   "start_time": "2021-08-28T01:49:51.573237",
   "version": "2.2.2"
  }
 },
 "nbformat": 4,
 "nbformat_minor": 5
}