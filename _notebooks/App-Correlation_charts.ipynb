{
 "cells": [
  {
   "cell_type": "markdown",
   "id": "touched-facility",
   "metadata": {
    "papermill": {
     "duration": 0.014985,
     "end_time": "2022-06-04T02:46:43.733717",
     "exception": false,
     "start_time": "2022-06-04T02:46:43.718732",
     "status": "completed"
    },
    "tags": []
   },
   "source": [
    "# Koreliacijų matrica\n",
    "> Išplėstinė koreliacijų matrica. \n",
    "\n",
    "- toc: true \n",
    "- badges: true\n",
    "- comments: false\n",
    "- categories: [Dominykas Tautkus]\n",
    "- image: images/matrix.png"
   ]
  },
  {
   "cell_type": "code",
   "execution_count": null,
   "id": "premium-weekend",
   "metadata": {
    "papermill": {
     "duration": 0.011292,
     "end_time": "2022-06-04T02:46:43.756576",
     "exception": false,
     "start_time": "2022-06-04T02:46:43.745284",
     "status": "completed"
    },
    "tags": []
   },
   "outputs": [],
   "source": []
  },
  {
   "cell_type": "code",
   "execution_count": 1,
   "id": "vertical-rebate",
   "metadata": {
    "execution": {
     "iopub.execute_input": "2022-06-04T02:46:43.790044Z",
     "iopub.status.busy": "2022-06-04T02:46:43.789378Z",
     "iopub.status.idle": "2022-06-04T02:46:43.800507Z",
     "shell.execute_reply": "2022-06-04T02:46:43.800963Z"
    },
    "papermill": {
     "duration": 0.033775,
     "end_time": "2022-06-04T02:46:43.801133",
     "exception": false,
     "start_time": "2022-06-04T02:46:43.767358",
     "status": "completed"
    },
    "tags": []
   },
   "outputs": [],
   "source": [
    "#hide\n",
    "%load_ext autoreload\n",
    "%autoreload 2"
   ]
  },
  {
   "cell_type": "code",
   "execution_count": 2,
   "id": "overall-advancement",
   "metadata": {
    "execution": {
     "iopub.execute_input": "2022-06-04T02:46:43.828103Z",
     "iopub.status.busy": "2022-06-04T02:46:43.827511Z",
     "iopub.status.idle": "2022-06-04T02:46:44.990415Z",
     "shell.execute_reply": "2022-06-04T02:46:44.989340Z"
    },
    "papermill": {
     "duration": 1.178666,
     "end_time": "2022-06-04T02:46:44.990575",
     "exception": false,
     "start_time": "2022-06-04T02:46:43.811909",
     "status": "completed"
    },
    "tags": []
   },
   "outputs": [],
   "source": [
    "#hide\n",
    "from scripts.read_data import read_api\n",
    "from IPython.display import HTML\n",
    "import plotly.graph_objects as go\n"
   ]
  },
  {
   "cell_type": "code",
   "execution_count": 3,
   "id": "light-crazy",
   "metadata": {
    "execution": {
     "iopub.execute_input": "2022-06-04T02:46:45.018775Z",
     "iopub.status.busy": "2022-06-04T02:46:45.018016Z",
     "iopub.status.idle": "2022-06-04T02:46:45.041346Z",
     "shell.execute_reply": "2022-06-04T02:46:45.040769Z"
    },
    "papermill": {
     "duration": 0.039786,
     "end_time": "2022-06-04T02:46:45.041479",
     "exception": false,
     "start_time": "2022-06-04T02:46:45.001693",
     "status": "completed"
    },
    "tags": []
   },
   "outputs": [],
   "source": [
    "#hide\n",
    "### ICO koreliacija"
   ]
  },
  {
   "cell_type": "code",
   "execution_count": 4,
   "id": "likely-bahrain",
   "metadata": {
    "execution": {
     "iopub.execute_input": "2022-06-04T02:46:45.067860Z",
     "iopub.status.busy": "2022-06-04T02:46:45.067276Z",
     "iopub.status.idle": "2022-06-04T02:46:45.991126Z",
     "shell.execute_reply": "2022-06-04T02:46:45.990507Z"
    },
    "papermill": {
     "duration": 0.93851,
     "end_time": "2022-06-04T02:46:45.991276",
     "exception": false,
     "start_time": "2022-06-04T02:46:45.052766",
     "status": "completed"
    },
    "tags": []
   },
   "outputs": [],
   "source": [
    "#hide\n",
    "import matplotlib.pyplot as plt\n",
    "import numpy as np\n",
    "import pandas as pd\n",
    "import seaborn as sns\n",
    "import matplotlib.pyplot as plt \n",
    "import matplotlib.dates as mdates\n",
    "import matplotlib.pyplot as plt"
   ]
  },
  {
   "cell_type": "code",
   "execution_count": 5,
   "id": "superior-blanket",
   "metadata": {
    "execution": {
     "iopub.execute_input": "2022-06-04T02:46:46.019102Z",
     "iopub.status.busy": "2022-06-04T02:46:46.018458Z",
     "iopub.status.idle": "2022-06-04T02:46:58.297341Z",
     "shell.execute_reply": "2022-06-04T02:46:58.296756Z"
    },
    "papermill": {
     "duration": 12.294155,
     "end_time": "2022-06-04T02:46:58.297487",
     "exception": false,
     "start_time": "2022-06-04T02:46:46.003332",
     "status": "completed"
    },
    "tags": []
   },
   "outputs": [
    {
     "name": "stderr",
     "output_type": "stream",
     "text": [
      "/home/runner/work/corr-app/corr-app/_notebooks/scripts/read_data.py:187: SettingWithCopyWarning:\n",
      "\n",
      "\n",
      "A value is trying to be set on a copy of a slice from a DataFrame.\n",
      "Try using .loc[row_indexer,col_indexer] = value instead\n",
      "\n",
      "See the caveats in the documentation: https://pandas.pydata.org/pandas-docs/stable/user_guide/indexing.html#returning-a-view-versus-a-copy\n",
      "\n"
     ]
    },
    {
     "name": "stderr",
     "output_type": "stream",
     "text": [
      "/home/runner/work/corr-app/corr-app/_notebooks/scripts/read_data.py:215: SettingWithCopyWarning:\n",
      "\n",
      "\n",
      "A value is trying to be set on a copy of a slice from a DataFrame.\n",
      "Try using .loc[row_indexer,col_indexer] = value instead\n",
      "\n",
      "See the caveats in the documentation: https://pandas.pydata.org/pandas-docs/stable/user_guide/indexing.html#returning-a-view-versus-a-copy\n",
      "\n"
     ]
    }
   ],
   "source": [
    "#hide\n",
    "df_all = read_api()\n",
    "#df_all = df_all.drop(['SP500', 'XAU', 'ETH', 'BTC'], axis=1)\n",
    "\n"
   ]
  },
  {
   "cell_type": "code",
   "execution_count": 6,
   "id": "mature-alert",
   "metadata": {
    "execution": {
     "iopub.execute_input": "2022-06-04T02:46:58.326543Z",
     "iopub.status.busy": "2022-06-04T02:46:58.325955Z",
     "iopub.status.idle": "2022-06-04T02:46:58.358897Z",
     "shell.execute_reply": "2022-06-04T02:46:58.358258Z"
    },
    "papermill": {
     "duration": 0.04943,
     "end_time": "2022-06-04T02:46:58.359038",
     "exception": false,
     "start_time": "2022-06-04T02:46:58.309608",
     "status": "completed"
    },
    "tags": []
   },
   "outputs": [],
   "source": [
    "#hide_input\n",
    "sum_corr = df_all.corr().sum().sort_values(ascending=True).index.values\n",
    "#df_all[sum_corr].corr()"
   ]
  },
  {
   "cell_type": "markdown",
   "id": "complex-syndicate",
   "metadata": {
    "papermill": {
     "duration": 0.011371,
     "end_time": "2022-06-04T02:46:58.382167",
     "exception": false,
     "start_time": "2022-06-04T02:46:58.370796",
     "status": "completed"
    },
    "tags": []
   },
   "source": [
    "## Išplėstinė koreliacijų matrica. "
   ]
  },
  {
   "cell_type": "code",
   "execution_count": 7,
   "id": "atomic-omaha",
   "metadata": {
    "execution": {
     "iopub.execute_input": "2022-06-04T02:46:58.408940Z",
     "iopub.status.busy": "2022-06-04T02:46:58.407599Z",
     "iopub.status.idle": "2022-06-04T02:46:59.622138Z",
     "shell.execute_reply": "2022-06-04T02:46:59.621662Z"
    },
    "papermill": {
     "duration": 1.228852,
     "end_time": "2022-06-04T02:46:59.622268",
     "exception": false,
     "start_time": "2022-06-04T02:46:58.393416",
     "status": "completed"
    },
    "tags": []
   },
   "outputs": [
    {
     "data": {
      "image/png": "[encoded data removed]",
      "text/plain": [
       "<Figure size 1080x792 with 2 Axes>"
      ]
     },
     "metadata": {
      "needs_background": "light"
     },
     "output_type": "display_data"
    }
   ],
   "source": [
    "#hide_input\n",
    "plt.figure(figsize=(15, 11))\n",
    "sns.heatmap(df_all[sum_corr].corr(), annot=True, cmap=\"cubehelix\") \n",
    "sns.set(font_scale=1.25)\n",
    "plt.savefig('corr_matrix.png', format='eps')"
   ]
  },
  {
   "cell_type": "code",
   "execution_count": 8,
   "id": "arbitrary-sullivan",
   "metadata": {
    "execution": {
     "iopub.execute_input": "2022-06-04T02:46:59.665365Z",
     "iopub.status.busy": "2022-06-04T02:46:59.663278Z",
     "iopub.status.idle": "2022-06-04T02:46:59.687874Z",
     "shell.execute_reply": "2022-06-04T02:46:59.686416Z"
    },
    "papermill": {
     "duration": 0.051811,
     "end_time": "2022-06-04T02:46:59.688028",
     "exception": false,
     "start_time": "2022-06-04T02:46:59.636217",
     "status": "completed"
    },
    "tags": []
   },
   "outputs": [],
   "source": [
    "#hide\n",
    "#df_all_mrk = read_api()"
   ]
  },
  {
   "cell_type": "code",
   "execution_count": 9,
   "id": "delayed-adapter",
   "metadata": {
    "execution": {
     "iopub.execute_input": "2022-06-04T02:46:59.719855Z",
     "iopub.status.busy": "2022-06-04T02:46:59.719206Z",
     "iopub.status.idle": "2022-06-04T02:46:59.748712Z",
     "shell.execute_reply": "2022-06-04T02:46:59.748089Z"
    },
    "papermill": {
     "duration": 0.046787,
     "end_time": "2022-06-04T02:46:59.748855",
     "exception": false,
     "start_time": "2022-06-04T02:46:59.702068",
     "status": "completed"
    },
    "tags": []
   },
   "outputs": [],
   "source": [
    "#hide\n",
    "#Koreliacijų koeficientai"
   ]
  },
  {
   "cell_type": "code",
   "execution_count": 10,
   "id": "seeing-celebration",
   "metadata": {
    "execution": {
     "iopub.execute_input": "2022-06-04T02:46:59.799078Z",
     "iopub.status.busy": "2022-06-04T02:46:59.798415Z",
     "iopub.status.idle": "2022-06-04T02:46:59.817613Z",
     "shell.execute_reply": "2022-06-04T02:46:59.817132Z"
    },
    "papermill": {
     "duration": 0.054649,
     "end_time": "2022-06-04T02:46:59.817742",
     "exception": false,
     "start_time": "2022-06-04T02:46:59.763093",
     "status": "completed"
    },
    "tags": []
   },
   "outputs": [],
   "source": [
    "#hide_input\n",
    "#sum_corr = df_all_mrk.corr().sum().sort_values(ascending=True).index.values\n",
    "#df_all_mrk[sum_corr].corr()"
   ]
  },
  {
   "cell_type": "code",
   "execution_count": 11,
   "id": "other-painting",
   "metadata": {
    "execution": {
     "iopub.execute_input": "2022-06-04T02:46:59.849659Z",
     "iopub.status.busy": "2022-06-04T02:46:59.849071Z",
     "iopub.status.idle": "2022-06-04T02:46:59.877822Z",
     "shell.execute_reply": "2022-06-04T02:46:59.877316Z"
    },
    "papermill": {
     "duration": 0.046657,
     "end_time": "2022-06-04T02:46:59.877942",
     "exception": false,
     "start_time": "2022-06-04T02:46:59.831285",
     "status": "completed"
    },
    "tags": []
   },
   "outputs": [],
   "source": [
    "#hide\n",
    "#Koreliacijos matrica. "
   ]
  },
  {
   "cell_type": "code",
   "execution_count": 12,
   "id": "modular-magnitude",
   "metadata": {
    "execution": {
     "iopub.execute_input": "2022-06-04T02:46:59.909356Z",
     "iopub.status.busy": "2022-06-04T02:46:59.908757Z",
     "iopub.status.idle": "2022-06-04T02:46:59.937558Z",
     "shell.execute_reply": "2022-06-04T02:46:59.936990Z"
    },
    "papermill": {
     "duration": 0.046113,
     "end_time": "2022-06-04T02:46:59.937690",
     "exception": false,
     "start_time": "2022-06-04T02:46:59.891577",
     "status": "completed"
    },
    "tags": []
   },
   "outputs": [],
   "source": [
    "#hide_input\n",
    "#plt.figure(figsize=(15, 8))\n",
    "#sns.heatmap(df_all_mrk[sum_corr].corr(), annot=True, cmap=\"BrBG\");\n",
    "#plt.savefig('corr_matrix_all.eps', format='eps')"
   ]
  },
  {
   "cell_type": "code",
   "execution_count": null,
   "id": "original-senator",
   "metadata": {
    "papermill": {
     "duration": 0.013417,
     "end_time": "2022-06-04T02:46:59.964662",
     "exception": false,
     "start_time": "2022-06-04T02:46:59.951245",
     "status": "completed"
    },
    "tags": []
   },
   "outputs": [],
   "source": []
  },
  {
   "cell_type": "code",
   "execution_count": null,
   "id": "saving-secretariat",
   "metadata": {
    "papermill": {
     "duration": 0.013262,
     "end_time": "2022-06-04T02:46:59.991258",
     "exception": false,
     "start_time": "2022-06-04T02:46:59.977996",
     "status": "completed"
    },
    "tags": []
   },
   "outputs": [],
   "source": []
  }
 ],
 "metadata": {
  "kernelspec": {
   "display_name": "Python 3",
   "language": "python",
   "name": "python3"
  },
  "language_info": {
   "codemirror_mode": {
    "name": "ipython",
    "version": 3
   },
   "file_extension": ".py",
   "mimetype": "text/x-python",
   "name": "python",
   "nbconvert_exporter": "python",
   "pygments_lexer": "ipython3",
   "version": "3.6.15"
  },
  "papermill": {
   "default_parameters": {},
   "duration": 18.148523,
   "end_time": "2022-06-04T02:47:00.625296",
   "environment_variables": {},
   "exception": null,
   "input_path": "App-Correlation_charts.ipynb",
   "output_path": "App-Correlation_charts.ipynb",
   "parameters": {},
   "start_time": "2022-06-04T02:46:42.476773",
   "version": "2.2.2"
  }
 },
 "nbformat": 4,
 "nbformat_minor": 5
}