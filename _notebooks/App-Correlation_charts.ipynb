{
 "cells": [
  {
   "cell_type": "markdown",
   "id": "touched-facility",
   "metadata": {
    "papermill": {
     "duration": 0.015189,
     "end_time": "2022-09-10T03:38:42.435603",
     "exception": false,
     "start_time": "2022-09-10T03:38:42.420414",
     "status": "completed"
    },
    "tags": []
   },
   "source": [
    "# Koreliacijų matrica\n",
    "> Išplėstinė koreliacijų matrica. \n",
    "\n",
    "- toc: true \n",
    "- badges: true\n",
    "- comments: false\n",
    "- categories: [Dominykas Tautkus]\n",
    "- image: images/matrix.png"
   ]
  },
  {
   "cell_type": "code",
   "execution_count": null,
   "id": "premium-weekend",
   "metadata": {
    "papermill": {
     "duration": 0.011307,
     "end_time": "2022-09-10T03:38:42.459154",
     "exception": false,
     "start_time": "2022-09-10T03:38:42.447847",
     "status": "completed"
    },
    "tags": []
   },
   "outputs": [],
   "source": []
  },
  {
   "cell_type": "code",
   "execution_count": 1,
   "id": "vertical-rebate",
   "metadata": {
    "execution": {
     "iopub.execute_input": "2022-09-10T03:38:42.495411Z",
     "iopub.status.busy": "2022-09-10T03:38:42.494771Z",
     "iopub.status.idle": "2022-09-10T03:38:42.506605Z",
     "shell.execute_reply": "2022-09-10T03:38:42.505917Z"
    },
    "papermill": {
     "duration": 0.036278,
     "end_time": "2022-09-10T03:38:42.506739",
     "exception": false,
     "start_time": "2022-09-10T03:38:42.470461",
     "status": "completed"
    },
    "tags": []
   },
   "outputs": [],
   "source": [
    "#hide\n",
    "%load_ext autoreload\n",
    "%autoreload 2"
   ]
  },
  {
   "cell_type": "code",
   "execution_count": 2,
   "id": "overall-advancement",
   "metadata": {
    "execution": {
     "iopub.execute_input": "2022-09-10T03:38:42.533888Z",
     "iopub.status.busy": "2022-09-10T03:38:42.533242Z",
     "iopub.status.idle": "2022-09-10T03:38:43.876428Z",
     "shell.execute_reply": "2022-09-10T03:38:43.874918Z"
    },
    "papermill": {
     "duration": 1.358737,
     "end_time": "2022-09-10T03:38:43.876648",
     "exception": false,
     "start_time": "2022-09-10T03:38:42.517911",
     "status": "completed"
    },
    "tags": []
   },
   "outputs": [],
   "source": [
    "#hide\n",
    "from scripts.read_data import read_api\n",
    "from IPython.display import HTML\n",
    "import plotly.graph_objects as go\n"
   ]
  },
  {
   "cell_type": "code",
   "execution_count": 3,
   "id": "light-crazy",
   "metadata": {
    "execution": {
     "iopub.execute_input": "2022-09-10T03:38:43.908717Z",
     "iopub.status.busy": "2022-09-10T03:38:43.907618Z",
     "iopub.status.idle": "2022-09-10T03:38:43.933224Z",
     "shell.execute_reply": "2022-09-10T03:38:43.933913Z"
    },
    "papermill": {
     "duration": 0.043484,
     "end_time": "2022-09-10T03:38:43.934104",
     "exception": false,
     "start_time": "2022-09-10T03:38:43.890620",
     "status": "completed"
    },
    "tags": []
   },
   "outputs": [],
   "source": [
    "#hide\n",
    "### ICO koreliacija"
   ]
  },
  {
   "cell_type": "code",
   "execution_count": 4,
   "id": "likely-bahrain",
   "metadata": {
    "execution": {
     "iopub.execute_input": "2022-09-10T03:38:43.964427Z",
     "iopub.status.busy": "2022-09-10T03:38:43.963808Z",
     "iopub.status.idle": "2022-09-10T03:38:44.911279Z",
     "shell.execute_reply": "2022-09-10T03:38:44.910687Z"
    },
    "papermill": {
     "duration": 0.963127,
     "end_time": "2022-09-10T03:38:44.911407",
     "exception": false,
     "start_time": "2022-09-10T03:38:43.948280",
     "status": "completed"
    },
    "tags": []
   },
   "outputs": [],
   "source": [
    "#hide\n",
    "import matplotlib.pyplot as plt\n",
    "import numpy as np\n",
    "import pandas as pd\n",
    "import seaborn as sns\n",
    "import matplotlib.pyplot as plt \n",
    "import matplotlib.dates as mdates\n",
    "import matplotlib.pyplot as plt"
   ]
  },
  {
   "cell_type": "code",
   "execution_count": 5,
   "id": "superior-blanket",
   "metadata": {
    "execution": {
     "iopub.execute_input": "2022-09-10T03:38:44.943846Z",
     "iopub.status.busy": "2022-09-10T03:38:44.941617Z",
     "iopub.status.idle": "2022-09-10T03:38:57.615768Z",
     "shell.execute_reply": "2022-09-10T03:38:57.615198Z"
    },
    "papermill": {
     "duration": 12.692633,
     "end_time": "2022-09-10T03:38:57.615903",
     "exception": false,
     "start_time": "2022-09-10T03:38:44.923270",
     "status": "completed"
    },
    "tags": []
   },
   "outputs": [
    {
     "name": "stderr",
     "output_type": "stream",
     "text": [
      "/home/runner/work/corr-app/corr-app/_notebooks/scripts/read_data.py:187: SettingWithCopyWarning:\n",
      "\n",
      "\n",
      "A value is trying to be set on a copy of a slice from a DataFrame.\n",
      "Try using .loc[row_indexer,col_indexer] = value instead\n",
      "\n",
      "See the caveats in the documentation: https://pandas.pydata.org/pandas-docs/stable/user_guide/indexing.html#returning-a-view-versus-a-copy\n",
      "\n"
     ]
    },
    {
     "name": "stderr",
     "output_type": "stream",
     "text": [
      "/home/runner/work/corr-app/corr-app/_notebooks/scripts/read_data.py:215: SettingWithCopyWarning:\n",
      "\n",
      "\n",
      "A value is trying to be set on a copy of a slice from a DataFrame.\n",
      "Try using .loc[row_indexer,col_indexer] = value instead\n",
      "\n",
      "See the caveats in the documentation: https://pandas.pydata.org/pandas-docs/stable/user_guide/indexing.html#returning-a-view-versus-a-copy\n",
      "\n"
     ]
    }
   ],
   "source": [
    "#hide\n",
    "df_all = read_api()\n",
    "#df_all = df_all.drop(['SP500', 'XAU', 'ETH', 'BTC'], axis=1)\n",
    "\n"
   ]
  },
  {
   "cell_type": "code",
   "execution_count": 6,
   "id": "mature-alert",
   "metadata": {
    "execution": {
     "iopub.execute_input": "2022-09-10T03:38:57.650831Z",
     "iopub.status.busy": "2022-09-10T03:38:57.648280Z",
     "iopub.status.idle": "2022-09-10T03:38:57.682497Z",
     "shell.execute_reply": "2022-09-10T03:38:57.681581Z"
    },
    "papermill": {
     "duration": 0.052915,
     "end_time": "2022-09-10T03:38:57.682687",
     "exception": false,
     "start_time": "2022-09-10T03:38:57.629772",
     "status": "completed"
    },
    "tags": []
   },
   "outputs": [],
   "source": [
    "#hide_input\n",
    "sum_corr = df_all.corr().sum().sort_values(ascending=True).index.values\n",
    "#df_all[sum_corr].corr()"
   ]
  },
  {
   "cell_type": "markdown",
   "id": "complex-syndicate",
   "metadata": {
    "papermill": {
     "duration": 0.012895,
     "end_time": "2022-09-10T03:38:57.708787",
     "exception": false,
     "start_time": "2022-09-10T03:38:57.695892",
     "status": "completed"
    },
    "tags": []
   },
   "source": [
    "## Išplėstinė koreliacijų matrica. "
   ]
  },
  {
   "cell_type": "code",
   "execution_count": 7,
   "id": "atomic-omaha",
   "metadata": {
    "execution": {
     "iopub.execute_input": "2022-09-10T03:38:57.743445Z",
     "iopub.status.busy": "2022-09-10T03:38:57.738971Z",
     "iopub.status.idle": "2022-09-10T03:38:59.122061Z",
     "shell.execute_reply": "2022-09-10T03:38:59.121373Z"
    },
    "papermill": {
     "duration": 1.400854,
     "end_time": "2022-09-10T03:38:59.122193",
     "exception": false,
     "start_time": "2022-09-10T03:38:57.721339",
     "status": "completed"
    },
    "tags": []
   },
   "outputs": [
    {
     "data": {
      "image/png": "[encoded data removed]",
      "text/plain": [
       "<Figure size 1080x792 with 2 Axes>"
      ]
     },
     "metadata": {
      "needs_background": "light"
     },
     "output_type": "display_data"
    }
   ],
   "source": [
    "#hide_input\n",
    "plt.figure(figsize=(15, 11))\n",
    "sns.heatmap(df_all[sum_corr].corr(), annot=True, cmap=\"cubehelix\") \n",
    "sns.set(font_scale=1.25)\n",
    "plt.savefig('corr_matrix.png', format='eps')"
   ]
  },
  {
   "cell_type": "code",
   "execution_count": 8,
   "id": "arbitrary-sullivan",
   "metadata": {
    "execution": {
     "iopub.execute_input": "2022-09-10T03:38:59.159185Z",
     "iopub.status.busy": "2022-09-10T03:38:59.157941Z",
     "iopub.status.idle": "2022-09-10T03:38:59.189511Z",
     "shell.execute_reply": "2022-09-10T03:38:59.188968Z"
    },
    "papermill": {
     "duration": 0.052302,
     "end_time": "2022-09-10T03:38:59.189657",
     "exception": false,
     "start_time": "2022-09-10T03:38:59.137355",
     "status": "completed"
    },
    "tags": []
   },
   "outputs": [],
   "source": [
    "#hide\n",
    "#df_all_mrk = read_api()"
   ]
  },
  {
   "cell_type": "code",
   "execution_count": 9,
   "id": "delayed-adapter",
   "metadata": {
    "execution": {
     "iopub.execute_input": "2022-09-10T03:38:59.225381Z",
     "iopub.status.busy": "2022-09-10T03:38:59.224620Z",
     "iopub.status.idle": "2022-09-10T03:38:59.259748Z",
     "shell.execute_reply": "2022-09-10T03:38:59.258732Z"
    },
    "papermill": {
     "duration": 0.05487,
     "end_time": "2022-09-10T03:38:59.259956",
     "exception": false,
     "start_time": "2022-09-10T03:38:59.205086",
     "status": "completed"
    },
    "tags": []
   },
   "outputs": [],
   "source": [
    "#hide\n",
    "#Koreliacijų koeficientai"
   ]
  },
  {
   "cell_type": "code",
   "execution_count": 10,
   "id": "seeing-celebration",
   "metadata": {
    "execution": {
     "iopub.execute_input": "2022-09-10T03:38:59.295813Z",
     "iopub.status.busy": "2022-09-10T03:38:59.295122Z",
     "iopub.status.idle": "2022-09-10T03:38:59.327173Z",
     "shell.execute_reply": "2022-09-10T03:38:59.328009Z"
    },
    "papermill": {
     "duration": 0.052667,
     "end_time": "2022-09-10T03:38:59.328240",
     "exception": false,
     "start_time": "2022-09-10T03:38:59.275573",
     "status": "completed"
    },
    "tags": []
   },
   "outputs": [],
   "source": [
    "#hide_input\n",
    "#sum_corr = df_all_mrk.corr().sum().sort_values(ascending=True).index.values\n",
    "#df_all_mrk[sum_corr].corr()"
   ]
  },
  {
   "cell_type": "code",
   "execution_count": 11,
   "id": "other-painting",
   "metadata": {
    "execution": {
     "iopub.execute_input": "2022-09-10T03:38:59.363579Z",
     "iopub.status.busy": "2022-09-10T03:38:59.362916Z",
     "iopub.status.idle": "2022-09-10T03:38:59.394245Z",
     "shell.execute_reply": "2022-09-10T03:38:59.394806Z"
    },
    "papermill": {
     "duration": 0.050632,
     "end_time": "2022-09-10T03:38:59.394951",
     "exception": false,
     "start_time": "2022-09-10T03:38:59.344319",
     "status": "completed"
    },
    "tags": []
   },
   "outputs": [],
   "source": [
    "#hide\n",
    "#Koreliacijos matrica. "
   ]
  },
  {
   "cell_type": "code",
   "execution_count": 12,
   "id": "modular-magnitude",
   "metadata": {
    "execution": {
     "iopub.execute_input": "2022-09-10T03:38:59.429433Z",
     "iopub.status.busy": "2022-09-10T03:38:59.428769Z",
     "iopub.status.idle": "2022-09-10T03:38:59.462756Z",
     "shell.execute_reply": "2022-09-10T03:38:59.461817Z"
    },
    "papermill": {
     "duration": 0.052832,
     "end_time": "2022-09-10T03:38:59.462947",
     "exception": false,
     "start_time": "2022-09-10T03:38:59.410115",
     "status": "completed"
    },
    "tags": []
   },
   "outputs": [],
   "source": [
    "#hide_input\n",
    "#plt.figure(figsize=(15, 8))\n",
    "#sns.heatmap(df_all_mrk[sum_corr].corr(), annot=True, cmap=\"BrBG\");\n",
    "#plt.savefig('corr_matrix_all.eps', format='eps')"
   ]
  },
  {
   "cell_type": "code",
   "execution_count": null,
   "id": "original-senator",
   "metadata": {
    "papermill": {
     "duration": 0.015233,
     "end_time": "2022-09-10T03:38:59.493724",
     "exception": false,
     "start_time": "2022-09-10T03:38:59.478491",
     "status": "completed"
    },
    "tags": []
   },
   "outputs": [],
   "source": []
  },
  {
   "cell_type": "code",
   "execution_count": null,
   "id": "saving-secretariat",
   "metadata": {
    "papermill": {
     "duration": 0.014896,
     "end_time": "2022-09-10T03:38:59.523344",
     "exception": false,
     "start_time": "2022-09-10T03:38:59.508448",
     "status": "completed"
    },
    "tags": []
   },
   "outputs": [],
   "source": []
  }
 ],
 "metadata": {
  "kernelspec": {
   "display_name": "Python 3",
   "language": "python",
   "name": "python3"
  },
  "language_info": {
   "codemirror_mode": {
    "name": "ipython",
    "version": 3
   },
   "file_extension": ".py",
   "mimetype": "text/x-python",
   "name": "python",
   "nbconvert_exporter": "python",
   "pygments_lexer": "ipython3",
   "version": "3.6.15"
  },
  "papermill": {
   "default_parameters": {},
   "duration": 19.019961,
   "end_time": "2022-09-10T03:39:00.161718",
   "environment_variables": {},
   "exception": null,
   "input_path": "App-Correlation_charts.ipynb",
   "output_path": "App-Correlation_charts.ipynb",
   "parameters": {},
   "start_time": "2022-09-10T03:38:41.141757",
   "version": "2.2.2"
  }
 },
 "nbformat": 4,
 "nbformat_minor": 5
}