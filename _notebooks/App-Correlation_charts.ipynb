{
 "cells": [
  {
   "cell_type": "markdown",
   "id": "touched-facility",
   "metadata": {
    "papermill": {
     "duration": 0.01524,
     "end_time": "2021-12-18T02:05:32.794265",
     "exception": false,
     "start_time": "2021-12-18T02:05:32.779025",
     "status": "completed"
    },
    "tags": []
   },
   "source": [
    "# Koreliacijų matrica\n",
    "> Išplėstinė koreliacijų matrica. \n",
    "\n",
    "- toc: true \n",
    "- badges: true\n",
    "- comments: false\n",
    "- categories: [Dominykas Tautkus]\n",
    "- image: images/matrix.png"
   ]
  },
  {
   "cell_type": "code",
   "execution_count": null,
   "id": "premium-weekend",
   "metadata": {
    "papermill": {
     "duration": 0.010677,
     "end_time": "2021-12-18T02:05:32.817182",
     "exception": false,
     "start_time": "2021-12-18T02:05:32.806505",
     "status": "completed"
    },
    "tags": []
   },
   "outputs": [],
   "source": []
  },
  {
   "cell_type": "code",
   "execution_count": 1,
   "id": "vertical-rebate",
   "metadata": {
    "execution": {
     "iopub.execute_input": "2021-12-18T02:05:32.850316Z",
     "iopub.status.busy": "2021-12-18T02:05:32.849744Z",
     "iopub.status.idle": "2021-12-18T02:05:32.858589Z",
     "shell.execute_reply": "2021-12-18T02:05:32.859126Z"
    },
    "papermill": {
     "duration": 0.031289,
     "end_time": "2021-12-18T02:05:32.859265",
     "exception": false,
     "start_time": "2021-12-18T02:05:32.827976",
     "status": "completed"
    },
    "tags": []
   },
   "outputs": [],
   "source": [
    "#hide\n",
    "%load_ext autoreload\n",
    "%autoreload 2"
   ]
  },
  {
   "cell_type": "code",
   "execution_count": 2,
   "id": "overall-advancement",
   "metadata": {
    "execution": {
     "iopub.execute_input": "2021-12-18T02:05:32.890357Z",
     "iopub.status.busy": "2021-12-18T02:05:32.889786Z",
     "iopub.status.idle": "2021-12-18T02:05:34.267865Z",
     "shell.execute_reply": "2021-12-18T02:05:34.267333Z"
    },
    "papermill": {
     "duration": 1.396727,
     "end_time": "2021-12-18T02:05:34.268029",
     "exception": false,
     "start_time": "2021-12-18T02:05:32.871302",
     "status": "completed"
    },
    "tags": []
   },
   "outputs": [],
   "source": [
    "#hide\n",
    "from scripts.read_data import read_api\n",
    "from IPython.display import HTML\n",
    "import plotly.graph_objects as go\n"
   ]
  },
  {
   "cell_type": "code",
   "execution_count": 3,
   "id": "light-crazy",
   "metadata": {
    "execution": {
     "iopub.execute_input": "2021-12-18T02:05:34.299775Z",
     "iopub.status.busy": "2021-12-18T02:05:34.299133Z",
     "iopub.status.idle": "2021-12-18T02:05:34.323417Z",
     "shell.execute_reply": "2021-12-18T02:05:34.323976Z"
    },
    "papermill": {
     "duration": 0.042008,
     "end_time": "2021-12-18T02:05:34.324100",
     "exception": false,
     "start_time": "2021-12-18T02:05:34.282092",
     "status": "completed"
    },
    "tags": []
   },
   "outputs": [],
   "source": [
    "#hide\n",
    "### ICO koreliacija"
   ]
  },
  {
   "cell_type": "code",
   "execution_count": 4,
   "id": "likely-bahrain",
   "metadata": {
    "execution": {
     "iopub.execute_input": "2021-12-18T02:05:34.351627Z",
     "iopub.status.busy": "2021-12-18T02:05:34.351048Z",
     "iopub.status.idle": "2021-12-18T02:05:35.251884Z",
     "shell.execute_reply": "2021-12-18T02:05:35.252400Z"
    },
    "papermill": {
     "duration": 0.917326,
     "end_time": "2021-12-18T02:05:35.252551",
     "exception": false,
     "start_time": "2021-12-18T02:05:34.335225",
     "status": "completed"
    },
    "tags": []
   },
   "outputs": [],
   "source": [
    "#hide\n",
    "import matplotlib.pyplot as plt\n",
    "import numpy as np\n",
    "import pandas as pd\n",
    "import seaborn as sns\n",
    "import matplotlib.pyplot as plt \n",
    "import matplotlib.dates as mdates\n",
    "import matplotlib.pyplot as plt"
   ]
  },
  {
   "cell_type": "code",
   "execution_count": 5,
   "id": "superior-blanket",
   "metadata": {
    "execution": {
     "iopub.execute_input": "2021-12-18T02:05:35.284565Z",
     "iopub.status.busy": "2021-12-18T02:05:35.283419Z",
     "iopub.status.idle": "2021-12-18T02:05:46.698756Z",
     "shell.execute_reply": "2021-12-18T02:05:46.698087Z"
    },
    "papermill": {
     "duration": 11.434121,
     "end_time": "2021-12-18T02:05:46.698885",
     "exception": false,
     "start_time": "2021-12-18T02:05:35.264764",
     "status": "completed"
    },
    "tags": []
   },
   "outputs": [
    {
     "name": "stderr",
     "output_type": "stream",
     "text": [
      "/home/runner/work/corr-app/corr-app/_notebooks/scripts/read_data.py:187: SettingWithCopyWarning:\n",
      "\n",
      "\n",
      "A value is trying to be set on a copy of a slice from a DataFrame.\n",
      "Try using .loc[row_indexer,col_indexer] = value instead\n",
      "\n",
      "See the caveats in the documentation: https://pandas.pydata.org/pandas-docs/stable/user_guide/indexing.html#returning-a-view-versus-a-copy\n",
      "\n"
     ]
    },
    {
     "name": "stderr",
     "output_type": "stream",
     "text": [
      "/home/runner/work/corr-app/corr-app/_notebooks/scripts/read_data.py:215: SettingWithCopyWarning:\n",
      "\n",
      "\n",
      "A value is trying to be set on a copy of a slice from a DataFrame.\n",
      "Try using .loc[row_indexer,col_indexer] = value instead\n",
      "\n",
      "See the caveats in the documentation: https://pandas.pydata.org/pandas-docs/stable/user_guide/indexing.html#returning-a-view-versus-a-copy\n",
      "\n"
     ]
    }
   ],
   "source": [
    "#hide\n",
    "df_all = read_api()\n",
    "#df_all = df_all.drop(['SP500', 'XAU', 'ETH', 'BTC'], axis=1)\n",
    "\n"
   ]
  },
  {
   "cell_type": "code",
   "execution_count": 6,
   "id": "mature-alert",
   "metadata": {
    "execution": {
     "iopub.execute_input": "2021-12-18T02:05:46.729309Z",
     "iopub.status.busy": "2021-12-18T02:05:46.728717Z",
     "iopub.status.idle": "2021-12-18T02:05:46.757338Z",
     "shell.execute_reply": "2021-12-18T02:05:46.757824Z"
    },
    "papermill": {
     "duration": 0.045896,
     "end_time": "2021-12-18T02:05:46.757967",
     "exception": false,
     "start_time": "2021-12-18T02:05:46.712071",
     "status": "completed"
    },
    "tags": []
   },
   "outputs": [],
   "source": [
    "#hide_input\n",
    "sum_corr = df_all.corr().sum().sort_values(ascending=True).index.values\n",
    "#df_all[sum_corr].corr()"
   ]
  },
  {
   "cell_type": "markdown",
   "id": "complex-syndicate",
   "metadata": {
    "papermill": {
     "duration": 0.013321,
     "end_time": "2021-12-18T02:05:46.783552",
     "exception": false,
     "start_time": "2021-12-18T02:05:46.770231",
     "status": "completed"
    },
    "tags": []
   },
   "source": [
    "## Išplėstinė koreliacijų matrica. "
   ]
  },
  {
   "cell_type": "code",
   "execution_count": 7,
   "id": "atomic-omaha",
   "metadata": {
    "execution": {
     "iopub.execute_input": "2021-12-18T02:05:46.814930Z",
     "iopub.status.busy": "2021-12-18T02:05:46.814091Z",
     "iopub.status.idle": "2021-12-18T02:05:48.424360Z",
     "shell.execute_reply": "2021-12-18T02:05:48.423904Z"
    },
    "papermill": {
     "duration": 1.628503,
     "end_time": "2021-12-18T02:05:48.424485",
     "exception": false,
     "start_time": "2021-12-18T02:05:46.795982",
     "status": "completed"
    },
    "tags": []
   },
   "outputs": [
    {
     "data": {
      "image/png": "[encoded data removed]",
      "text/plain": [
       "<Figure size 1080x792 with 2 Axes>"
      ]
     },
     "metadata": {
      "needs_background": "light"
     },
     "output_type": "display_data"
    }
   ],
   "source": [
    "#hide_input\n",
    "plt.figure(figsize=(15, 11))\n",
    "sns.heatmap(df_all[sum_corr].corr(), annot=True, cmap=\"cubehelix\") \n",
    "sns.set(font_scale=1.25)\n",
    "plt.savefig('corr_matrix.png', format='eps')"
   ]
  },
  {
   "cell_type": "code",
   "execution_count": 8,
   "id": "arbitrary-sullivan",
   "metadata": {
    "execution": {
     "iopub.execute_input": "2021-12-18T02:05:48.487177Z",
     "iopub.status.busy": "2021-12-18T02:05:48.484927Z",
     "iopub.status.idle": "2021-12-18T02:05:48.515001Z",
     "shell.execute_reply": "2021-12-18T02:05:48.514369Z"
    },
    "papermill": {
     "duration": 0.068969,
     "end_time": "2021-12-18T02:05:48.515155",
     "exception": false,
     "start_time": "2021-12-18T02:05:48.446186",
     "status": "completed"
    },
    "tags": []
   },
   "outputs": [],
   "source": [
    "#hide\n",
    "#df_all_mrk = read_api()"
   ]
  },
  {
   "cell_type": "code",
   "execution_count": 9,
   "id": "delayed-adapter",
   "metadata": {
    "execution": {
     "iopub.execute_input": "2021-12-18T02:05:48.591814Z",
     "iopub.status.busy": "2021-12-18T02:05:48.590747Z",
     "iopub.status.idle": "2021-12-18T02:05:48.614582Z",
     "shell.execute_reply": "2021-12-18T02:05:48.615163Z"
    },
    "papermill": {
     "duration": 0.084628,
     "end_time": "2021-12-18T02:05:48.615293",
     "exception": false,
     "start_time": "2021-12-18T02:05:48.530665",
     "status": "completed"
    },
    "tags": []
   },
   "outputs": [],
   "source": [
    "#hide\n",
    "#Koreliacijų koeficientai"
   ]
  },
  {
   "cell_type": "code",
   "execution_count": 10,
   "id": "seeing-celebration",
   "metadata": {
    "execution": {
     "iopub.execute_input": "2021-12-18T02:05:48.696469Z",
     "iopub.status.busy": "2021-12-18T02:05:48.691677Z",
     "iopub.status.idle": "2021-12-18T02:05:48.719084Z",
     "shell.execute_reply": "2021-12-18T02:05:48.719493Z"
    },
    "papermill": {
     "duration": 0.085129,
     "end_time": "2021-12-18T02:05:48.719752",
     "exception": false,
     "start_time": "2021-12-18T02:05:48.634623",
     "status": "completed"
    },
    "tags": []
   },
   "outputs": [],
   "source": [
    "#hide_input\n",
    "#sum_corr = df_all_mrk.corr().sum().sort_values(ascending=True).index.values\n",
    "#df_all_mrk[sum_corr].corr()"
   ]
  },
  {
   "cell_type": "code",
   "execution_count": 11,
   "id": "other-painting",
   "metadata": {
    "execution": {
     "iopub.execute_input": "2021-12-18T02:05:48.751504Z",
     "iopub.status.busy": "2021-12-18T02:05:48.750917Z",
     "iopub.status.idle": "2021-12-18T02:05:48.774781Z",
     "shell.execute_reply": "2021-12-18T02:05:48.775184Z"
    },
    "papermill": {
     "duration": 0.042089,
     "end_time": "2021-12-18T02:05:48.775300",
     "exception": false,
     "start_time": "2021-12-18T02:05:48.733211",
     "status": "completed"
    },
    "tags": []
   },
   "outputs": [],
   "source": [
    "#hide\n",
    "#Koreliacijos matrica. "
   ]
  },
  {
   "cell_type": "code",
   "execution_count": 12,
   "id": "modular-magnitude",
   "metadata": {
    "execution": {
     "iopub.execute_input": "2021-12-18T02:05:48.804632Z",
     "iopub.status.busy": "2021-12-18T02:05:48.803507Z",
     "iopub.status.idle": "2021-12-18T02:05:48.828074Z",
     "shell.execute_reply": "2021-12-18T02:05:48.828500Z"
    },
    "papermill": {
     "duration": 0.040598,
     "end_time": "2021-12-18T02:05:48.828610",
     "exception": false,
     "start_time": "2021-12-18T02:05:48.788012",
     "status": "completed"
    },
    "tags": []
   },
   "outputs": [],
   "source": [
    "#hide_input\n",
    "#plt.figure(figsize=(15, 8))\n",
    "#sns.heatmap(df_all_mrk[sum_corr].corr(), annot=True, cmap=\"BrBG\");\n",
    "#plt.savefig('corr_matrix_all.eps', format='eps')"
   ]
  },
  {
   "cell_type": "code",
   "execution_count": null,
   "id": "original-senator",
   "metadata": {
    "papermill": {
     "duration": 0.01342,
     "end_time": "2021-12-18T02:05:48.855217",
     "exception": false,
     "start_time": "2021-12-18T02:05:48.841797",
     "status": "completed"
    },
    "tags": []
   },
   "outputs": [],
   "source": []
  },
  {
   "cell_type": "code",
   "execution_count": null,
   "id": "saving-secretariat",
   "metadata": {
    "papermill": {
     "duration": 0.014158,
     "end_time": "2021-12-18T02:05:48.883409",
     "exception": false,
     "start_time": "2021-12-18T02:05:48.869251",
     "status": "completed"
    },
    "tags": []
   },
   "outputs": [],
   "source": []
  }
 ],
 "metadata": {
  "kernelspec": {
   "display_name": "Python 3",
   "language": "python",
   "name": "python3"
  },
  "language_info": {
   "codemirror_mode": {
    "name": "ipython",
    "version": 3
   },
   "file_extension": ".py",
   "mimetype": "text/x-python",
   "name": "python",
   "nbconvert_exporter": "python",
   "pygments_lexer": "ipython3",
   "version": "3.6.15"
  },
  "papermill": {
   "default_parameters": {},
   "duration": 17.65037,
   "end_time": "2021-12-18T02:05:49.305673",
   "environment_variables": {},
   "exception": null,
   "input_path": "App-Correlation_charts.ipynb",
   "output_path": "App-Correlation_charts.ipynb",
   "parameters": {},
   "start_time": "2021-12-18T02:05:31.655303",
   "version": "2.2.2"
  }
 },
 "nbformat": 4,
 "nbformat_minor": 5
}