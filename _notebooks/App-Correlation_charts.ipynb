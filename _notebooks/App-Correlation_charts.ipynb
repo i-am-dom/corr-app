{
 "cells": [
  {
   "cell_type": "markdown",
   "id": "touched-facility",
   "metadata": {
    "papermill": {
     "duration": 0.017335,
     "end_time": "2021-11-24T01:58:03.834264",
     "exception": false,
     "start_time": "2021-11-24T01:58:03.816929",
     "status": "completed"
    },
    "tags": []
   },
   "source": [
    "# Koreliacijų matrica\n",
    "> Išplėstinė koreliacijų matrica. \n",
    "\n",
    "- toc: true \n",
    "- badges: true\n",
    "- comments: false\n",
    "- categories: [Dominykas Tautkus]\n",
    "- image: images/matrix.png"
   ]
  },
  {
   "cell_type": "code",
   "execution_count": null,
   "id": "premium-weekend",
   "metadata": {
    "papermill": {
     "duration": 0.012111,
     "end_time": "2021-11-24T01:58:03.861416",
     "exception": false,
     "start_time": "2021-11-24T01:58:03.849305",
     "status": "completed"
    },
    "tags": []
   },
   "outputs": [],
   "source": []
  },
  {
   "cell_type": "code",
   "execution_count": 1,
   "id": "vertical-rebate",
   "metadata": {
    "execution": {
     "iopub.execute_input": "2021-11-24T01:58:03.901485Z",
     "iopub.status.busy": "2021-11-24T01:58:03.900397Z",
     "iopub.status.idle": "2021-11-24T01:58:03.910635Z",
     "shell.execute_reply": "2021-11-24T01:58:03.910077Z"
    },
    "papermill": {
     "duration": 0.036684,
     "end_time": "2021-11-24T01:58:03.910781",
     "exception": false,
     "start_time": "2021-11-24T01:58:03.874097",
     "status": "completed"
    },
    "tags": []
   },
   "outputs": [],
   "source": [
    "#hide\n",
    "%load_ext autoreload\n",
    "%autoreload 2"
   ]
  },
  {
   "cell_type": "code",
   "execution_count": 2,
   "id": "overall-advancement",
   "metadata": {
    "execution": {
     "iopub.execute_input": "2021-11-24T01:58:03.941724Z",
     "iopub.status.busy": "2021-11-24T01:58:03.941118Z",
     "iopub.status.idle": "2021-11-24T01:58:05.327501Z",
     "shell.execute_reply": "2021-11-24T01:58:05.326451Z"
    },
    "papermill": {
     "duration": 1.40324,
     "end_time": "2021-11-24T01:58:05.327664",
     "exception": false,
     "start_time": "2021-11-24T01:58:03.924424",
     "status": "completed"
    },
    "tags": []
   },
   "outputs": [],
   "source": [
    "#hide\n",
    "from scripts.read_data import read_api\n",
    "from IPython.display import HTML\n",
    "import plotly.graph_objects as go\n"
   ]
  },
  {
   "cell_type": "code",
   "execution_count": 3,
   "id": "light-crazy",
   "metadata": {
    "execution": {
     "iopub.execute_input": "2021-11-24T01:58:05.357385Z",
     "iopub.status.busy": "2021-11-24T01:58:05.356784Z",
     "iopub.status.idle": "2021-11-24T01:58:05.383312Z",
     "shell.execute_reply": "2021-11-24T01:58:05.382699Z"
    },
    "papermill": {
     "duration": 0.042878,
     "end_time": "2021-11-24T01:58:05.383456",
     "exception": false,
     "start_time": "2021-11-24T01:58:05.340578",
     "status": "completed"
    },
    "tags": []
   },
   "outputs": [],
   "source": [
    "#hide\n",
    "### ICO koreliacija"
   ]
  },
  {
   "cell_type": "code",
   "execution_count": 4,
   "id": "likely-bahrain",
   "metadata": {
    "execution": {
     "iopub.execute_input": "2021-11-24T01:58:05.413338Z",
     "iopub.status.busy": "2021-11-24T01:58:05.412710Z",
     "iopub.status.idle": "2021-11-24T01:58:06.481384Z",
     "shell.execute_reply": "2021-11-24T01:58:06.480216Z"
    },
    "papermill": {
     "duration": 1.085976,
     "end_time": "2021-11-24T01:58:06.481534",
     "exception": false,
     "start_time": "2021-11-24T01:58:05.395558",
     "status": "completed"
    },
    "tags": []
   },
   "outputs": [],
   "source": [
    "#hide\n",
    "import matplotlib.pyplot as plt\n",
    "import numpy as np\n",
    "import pandas as pd\n",
    "import seaborn as sns\n",
    "import matplotlib.pyplot as plt \n",
    "import matplotlib.dates as mdates\n",
    "import matplotlib.pyplot as plt"
   ]
  },
  {
   "cell_type": "code",
   "execution_count": 5,
   "id": "superior-blanket",
   "metadata": {
    "execution": {
     "iopub.execute_input": "2021-11-24T01:58:06.511219Z",
     "iopub.status.busy": "2021-11-24T01:58:06.510373Z",
     "iopub.status.idle": "2021-11-24T01:58:17.620710Z",
     "shell.execute_reply": "2021-11-24T01:58:17.620081Z"
    },
    "papermill": {
     "duration": 11.126677,
     "end_time": "2021-11-24T01:58:17.620845",
     "exception": false,
     "start_time": "2021-11-24T01:58:06.494168",
     "status": "completed"
    },
    "tags": []
   },
   "outputs": [
    {
     "name": "stderr",
     "output_type": "stream",
     "text": [
      "/home/runner/work/corr-app/corr-app/_notebooks/scripts/read_data.py:187: SettingWithCopyWarning:\n",
      "\n",
      "\n",
      "A value is trying to be set on a copy of a slice from a DataFrame.\n",
      "Try using .loc[row_indexer,col_indexer] = value instead\n",
      "\n",
      "See the caveats in the documentation: https://pandas.pydata.org/pandas-docs/stable/user_guide/indexing.html#returning-a-view-versus-a-copy\n",
      "\n"
     ]
    },
    {
     "name": "stderr",
     "output_type": "stream",
     "text": [
      "/home/runner/work/corr-app/corr-app/_notebooks/scripts/read_data.py:215: SettingWithCopyWarning:\n",
      "\n",
      "\n",
      "A value is trying to be set on a copy of a slice from a DataFrame.\n",
      "Try using .loc[row_indexer,col_indexer] = value instead\n",
      "\n",
      "See the caveats in the documentation: https://pandas.pydata.org/pandas-docs/stable/user_guide/indexing.html#returning-a-view-versus-a-copy\n",
      "\n"
     ]
    }
   ],
   "source": [
    "#hide\n",
    "df_all = read_api()\n",
    "#df_all = df_all.drop(['SP500', 'XAU', 'ETH', 'BTC'], axis=1)\n",
    "\n"
   ]
  },
  {
   "cell_type": "code",
   "execution_count": 6,
   "id": "mature-alert",
   "metadata": {
    "execution": {
     "iopub.execute_input": "2021-11-24T01:58:17.652451Z",
     "iopub.status.busy": "2021-11-24T01:58:17.651857Z",
     "iopub.status.idle": "2021-11-24T01:58:17.688037Z",
     "shell.execute_reply": "2021-11-24T01:58:17.687139Z"
    },
    "papermill": {
     "duration": 0.053801,
     "end_time": "2021-11-24T01:58:17.688244",
     "exception": false,
     "start_time": "2021-11-24T01:58:17.634443",
     "status": "completed"
    },
    "tags": []
   },
   "outputs": [],
   "source": [
    "#hide_input\n",
    "sum_corr = df_all.corr().sum().sort_values(ascending=True).index.values\n",
    "#df_all[sum_corr].corr()"
   ]
  },
  {
   "cell_type": "markdown",
   "id": "complex-syndicate",
   "metadata": {
    "papermill": {
     "duration": 0.013167,
     "end_time": "2021-11-24T01:58:17.715915",
     "exception": false,
     "start_time": "2021-11-24T01:58:17.702748",
     "status": "completed"
    },
    "tags": []
   },
   "source": [
    "## Išplėstinė koreliacijų matrica. "
   ]
  },
  {
   "cell_type": "code",
   "execution_count": 7,
   "id": "atomic-omaha",
   "metadata": {
    "execution": {
     "iopub.execute_input": "2021-11-24T01:58:17.752296Z",
     "iopub.status.busy": "2021-11-24T01:58:17.751699Z",
     "iopub.status.idle": "2021-11-24T01:58:19.251966Z",
     "shell.execute_reply": "2021-11-24T01:58:19.252420Z"
    },
    "papermill": {
     "duration": 1.523147,
     "end_time": "2021-11-24T01:58:19.252583",
     "exception": false,
     "start_time": "2021-11-24T01:58:17.729436",
     "status": "completed"
    },
    "tags": []
   },
   "outputs": [
    {
     "data": {
      "image/png": "[encoded data removed]",
      "text/plain": [
       "<Figure size 1080x792 with 2 Axes>"
      ]
     },
     "metadata": {
      "needs_background": "light"
     },
     "output_type": "display_data"
    }
   ],
   "source": [
    "#hide_input\n",
    "plt.figure(figsize=(15, 11))\n",
    "sns.heatmap(df_all[sum_corr].corr(), annot=True, cmap=\"cubehelix\") \n",
    "sns.set(font_scale=1.25)\n",
    "plt.savefig('corr_matrix.png', format='eps')"
   ]
  },
  {
   "cell_type": "code",
   "execution_count": 8,
   "id": "arbitrary-sullivan",
   "metadata": {
    "execution": {
     "iopub.execute_input": "2021-11-24T01:58:19.289613Z",
     "iopub.status.busy": "2021-11-24T01:58:19.288799Z",
     "iopub.status.idle": "2021-11-24T01:58:19.319305Z",
     "shell.execute_reply": "2021-11-24T01:58:19.318387Z"
    },
    "papermill": {
     "duration": 0.051459,
     "end_time": "2021-11-24T01:58:19.319515",
     "exception": false,
     "start_time": "2021-11-24T01:58:19.268056",
     "status": "completed"
    },
    "tags": []
   },
   "outputs": [],
   "source": [
    "#hide\n",
    "#df_all_mrk = read_api()"
   ]
  },
  {
   "cell_type": "code",
   "execution_count": 9,
   "id": "delayed-adapter",
   "metadata": {
    "execution": {
     "iopub.execute_input": "2021-11-24T01:58:19.356921Z",
     "iopub.status.busy": "2021-11-24T01:58:19.356326Z",
     "iopub.status.idle": "2021-11-24T01:58:19.386431Z",
     "shell.execute_reply": "2021-11-24T01:58:19.385892Z"
    },
    "papermill": {
     "duration": 0.049263,
     "end_time": "2021-11-24T01:58:19.386580",
     "exception": false,
     "start_time": "2021-11-24T01:58:19.337317",
     "status": "completed"
    },
    "tags": []
   },
   "outputs": [],
   "source": [
    "#hide\n",
    "#Koreliacijų koeficientai"
   ]
  },
  {
   "cell_type": "code",
   "execution_count": 10,
   "id": "seeing-celebration",
   "metadata": {
    "execution": {
     "iopub.execute_input": "2021-11-24T01:58:19.428074Z",
     "iopub.status.busy": "2021-11-24T01:58:19.427466Z",
     "iopub.status.idle": "2021-11-24T01:58:19.457191Z",
     "shell.execute_reply": "2021-11-24T01:58:19.456667Z"
    },
    "papermill": {
     "duration": 0.053906,
     "end_time": "2021-11-24T01:58:19.457315",
     "exception": false,
     "start_time": "2021-11-24T01:58:19.403409",
     "status": "completed"
    },
    "tags": []
   },
   "outputs": [],
   "source": [
    "#hide_input\n",
    "#sum_corr = df_all_mrk.corr().sum().sort_values(ascending=True).index.values\n",
    "#df_all_mrk[sum_corr].corr()"
   ]
  },
  {
   "cell_type": "code",
   "execution_count": 11,
   "id": "other-painting",
   "metadata": {
    "execution": {
     "iopub.execute_input": "2021-11-24T01:58:19.492472Z",
     "iopub.status.busy": "2021-11-24T01:58:19.491878Z",
     "iopub.status.idle": "2021-11-24T01:58:19.524761Z",
     "shell.execute_reply": "2021-11-24T01:58:19.524076Z"
    },
    "papermill": {
     "duration": 0.051996,
     "end_time": "2021-11-24T01:58:19.524930",
     "exception": false,
     "start_time": "2021-11-24T01:58:19.472934",
     "status": "completed"
    },
    "tags": []
   },
   "outputs": [],
   "source": [
    "#hide\n",
    "#Koreliacijos matrica. "
   ]
  },
  {
   "cell_type": "code",
   "execution_count": 12,
   "id": "modular-magnitude",
   "metadata": {
    "execution": {
     "iopub.execute_input": "2021-11-24T01:58:19.560116Z",
     "iopub.status.busy": "2021-11-24T01:58:19.559565Z",
     "iopub.status.idle": "2021-11-24T01:58:19.588790Z",
     "shell.execute_reply": "2021-11-24T01:58:19.588291Z"
    },
    "papermill": {
     "duration": 0.047524,
     "end_time": "2021-11-24T01:58:19.588925",
     "exception": false,
     "start_time": "2021-11-24T01:58:19.541401",
     "status": "completed"
    },
    "tags": []
   },
   "outputs": [],
   "source": [
    "#hide_input\n",
    "#plt.figure(figsize=(15, 8))\n",
    "#sns.heatmap(df_all_mrk[sum_corr].corr(), annot=True, cmap=\"BrBG\");\n",
    "#plt.savefig('corr_matrix_all.eps', format='eps')"
   ]
  },
  {
   "cell_type": "code",
   "execution_count": null,
   "id": "original-senator",
   "metadata": {
    "papermill": {
     "duration": 0.015734,
     "end_time": "2021-11-24T01:58:19.624397",
     "exception": false,
     "start_time": "2021-11-24T01:58:19.608663",
     "status": "completed"
    },
    "tags": []
   },
   "outputs": [],
   "source": []
  },
  {
   "cell_type": "code",
   "execution_count": null,
   "id": "saving-secretariat",
   "metadata": {
    "papermill": {
     "duration": 0.015433,
     "end_time": "2021-11-24T01:58:19.655228",
     "exception": false,
     "start_time": "2021-11-24T01:58:19.639795",
     "status": "completed"
    },
    "tags": []
   },
   "outputs": [],
   "source": []
  }
 ],
 "metadata": {
  "kernelspec": {
   "display_name": "Python 3",
   "language": "python",
   "name": "python3"
  },
  "language_info": {
   "codemirror_mode": {
    "name": "ipython",
    "version": 3
   },
   "file_extension": ".py",
   "mimetype": "text/x-python",
   "name": "python",
   "nbconvert_exporter": "python",
   "pygments_lexer": "ipython3",
   "version": "3.6.15"
  },
  "papermill": {
   "default_parameters": {},
   "duration": 17.775689,
   "end_time": "2021-11-24T01:58:20.282800",
   "environment_variables": {},
   "exception": null,
   "input_path": "App-Correlation_charts.ipynb",
   "output_path": "App-Correlation_charts.ipynb",
   "parameters": {},
   "start_time": "2021-11-24T01:58:02.507111",
   "version": "2.2.2"
  }
 },
 "nbformat": 4,
 "nbformat_minor": 5
}