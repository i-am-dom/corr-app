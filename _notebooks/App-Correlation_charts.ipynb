{
 "cells": [
  {
   "cell_type": "markdown",
   "id": "touched-facility",
   "metadata": {
    "papermill": {
     "duration": 0.016227,
     "end_time": "2022-05-18T02:55:31.294420",
     "exception": false,
     "start_time": "2022-05-18T02:55:31.278193",
     "status": "completed"
    },
    "tags": []
   },
   "source": [
    "# Koreliacijų matrica\n",
    "> Išplėstinė koreliacijų matrica. \n",
    "\n",
    "- toc: true \n",
    "- badges: true\n",
    "- comments: false\n",
    "- categories: [Dominykas Tautkus]\n",
    "- image: images/matrix.png"
   ]
  },
  {
   "cell_type": "code",
   "execution_count": null,
   "id": "premium-weekend",
   "metadata": {
    "papermill": {
     "duration": 0.01084,
     "end_time": "2022-05-18T02:55:31.316724",
     "exception": false,
     "start_time": "2022-05-18T02:55:31.305884",
     "status": "completed"
    },
    "tags": []
   },
   "outputs": [],
   "source": []
  },
  {
   "cell_type": "code",
   "execution_count": 1,
   "id": "vertical-rebate",
   "metadata": {
    "execution": {
     "iopub.execute_input": "2022-05-18T02:55:31.348759Z",
     "iopub.status.busy": "2022-05-18T02:55:31.348190Z",
     "iopub.status.idle": "2022-05-18T02:55:31.358468Z",
     "shell.execute_reply": "2022-05-18T02:55:31.358050Z"
    },
    "papermill": {
     "duration": 0.031207,
     "end_time": "2022-05-18T02:55:31.358584",
     "exception": false,
     "start_time": "2022-05-18T02:55:31.327377",
     "status": "completed"
    },
    "tags": []
   },
   "outputs": [],
   "source": [
    "#hide\n",
    "%load_ext autoreload\n",
    "%autoreload 2"
   ]
  },
  {
   "cell_type": "code",
   "execution_count": 2,
   "id": "overall-advancement",
   "metadata": {
    "execution": {
     "iopub.execute_input": "2022-05-18T02:55:31.393618Z",
     "iopub.status.busy": "2022-05-18T02:55:31.393100Z",
     "iopub.status.idle": "2022-05-18T02:55:32.588069Z",
     "shell.execute_reply": "2022-05-18T02:55:32.587551Z"
    },
    "papermill": {
     "duration": 1.219035,
     "end_time": "2022-05-18T02:55:32.588208",
     "exception": false,
     "start_time": "2022-05-18T02:55:31.369173",
     "status": "completed"
    },
    "tags": []
   },
   "outputs": [],
   "source": [
    "#hide\n",
    "from scripts.read_data import read_api\n",
    "from IPython.display import HTML\n",
    "import plotly.graph_objects as go\n"
   ]
  },
  {
   "cell_type": "code",
   "execution_count": 3,
   "id": "light-crazy",
   "metadata": {
    "execution": {
     "iopub.execute_input": "2022-05-18T02:55:32.614819Z",
     "iopub.status.busy": "2022-05-18T02:55:32.614227Z",
     "iopub.status.idle": "2022-05-18T02:55:32.636047Z",
     "shell.execute_reply": "2022-05-18T02:55:32.636510Z"
    },
    "papermill": {
     "duration": 0.036314,
     "end_time": "2022-05-18T02:55:32.636650",
     "exception": false,
     "start_time": "2022-05-18T02:55:32.600336",
     "status": "completed"
    },
    "tags": []
   },
   "outputs": [],
   "source": [
    "#hide\n",
    "### ICO koreliacija"
   ]
  },
  {
   "cell_type": "code",
   "execution_count": 4,
   "id": "likely-bahrain",
   "metadata": {
    "execution": {
     "iopub.execute_input": "2022-05-18T02:55:32.669663Z",
     "iopub.status.busy": "2022-05-18T02:55:32.667147Z",
     "iopub.status.idle": "2022-05-18T02:55:33.484829Z",
     "shell.execute_reply": "2022-05-18T02:55:33.484256Z"
    },
    "papermill": {
     "duration": 0.83766,
     "end_time": "2022-05-18T02:55:33.484972",
     "exception": false,
     "start_time": "2022-05-18T02:55:32.647312",
     "status": "completed"
    },
    "tags": []
   },
   "outputs": [],
   "source": [
    "#hide\n",
    "import matplotlib.pyplot as plt\n",
    "import numpy as np\n",
    "import pandas as pd\n",
    "import seaborn as sns\n",
    "import matplotlib.pyplot as plt \n",
    "import matplotlib.dates as mdates\n",
    "import matplotlib.pyplot as plt"
   ]
  },
  {
   "cell_type": "code",
   "execution_count": 5,
   "id": "superior-blanket",
   "metadata": {
    "execution": {
     "iopub.execute_input": "2022-05-18T02:55:33.511676Z",
     "iopub.status.busy": "2022-05-18T02:55:33.511147Z",
     "iopub.status.idle": "2022-05-18T02:55:42.750584Z",
     "shell.execute_reply": "2022-05-18T02:55:42.750088Z"
    },
    "papermill": {
     "duration": 9.254225,
     "end_time": "2022-05-18T02:55:42.750702",
     "exception": false,
     "start_time": "2022-05-18T02:55:33.496477",
     "status": "completed"
    },
    "tags": []
   },
   "outputs": [
    {
     "name": "stderr",
     "output_type": "stream",
     "text": [
      "/home/runner/work/corr-app/corr-app/_notebooks/scripts/read_data.py:187: SettingWithCopyWarning:\n",
      "\n",
      "\n",
      "A value is trying to be set on a copy of a slice from a DataFrame.\n",
      "Try using .loc[row_indexer,col_indexer] = value instead\n",
      "\n",
      "See the caveats in the documentation: https://pandas.pydata.org/pandas-docs/stable/user_guide/indexing.html#returning-a-view-versus-a-copy\n",
      "\n"
     ]
    },
    {
     "name": "stderr",
     "output_type": "stream",
     "text": [
      "/home/runner/work/corr-app/corr-app/_notebooks/scripts/read_data.py:215: SettingWithCopyWarning:\n",
      "\n",
      "\n",
      "A value is trying to be set on a copy of a slice from a DataFrame.\n",
      "Try using .loc[row_indexer,col_indexer] = value instead\n",
      "\n",
      "See the caveats in the documentation: https://pandas.pydata.org/pandas-docs/stable/user_guide/indexing.html#returning-a-view-versus-a-copy\n",
      "\n"
     ]
    }
   ],
   "source": [
    "#hide\n",
    "df_all = read_api()\n",
    "#df_all = df_all.drop(['SP500', 'XAU', 'ETH', 'BTC'], axis=1)\n",
    "\n"
   ]
  },
  {
   "cell_type": "code",
   "execution_count": 6,
   "id": "mature-alert",
   "metadata": {
    "execution": {
     "iopub.execute_input": "2022-05-18T02:55:42.777738Z",
     "iopub.status.busy": "2022-05-18T02:55:42.777223Z",
     "iopub.status.idle": "2022-05-18T02:55:42.808440Z",
     "shell.execute_reply": "2022-05-18T02:55:42.807975Z"
    },
    "papermill": {
     "duration": 0.046057,
     "end_time": "2022-05-18T02:55:42.808551",
     "exception": false,
     "start_time": "2022-05-18T02:55:42.762494",
     "status": "completed"
    },
    "tags": []
   },
   "outputs": [],
   "source": [
    "#hide_input\n",
    "sum_corr = df_all.corr().sum().sort_values(ascending=True).index.values\n",
    "#df_all[sum_corr].corr()"
   ]
  },
  {
   "cell_type": "markdown",
   "id": "complex-syndicate",
   "metadata": {
    "papermill": {
     "duration": 0.011226,
     "end_time": "2022-05-18T02:55:42.832535",
     "exception": false,
     "start_time": "2022-05-18T02:55:42.821309",
     "status": "completed"
    },
    "tags": []
   },
   "source": [
    "## Išplėstinė koreliacijų matrica. "
   ]
  },
  {
   "cell_type": "code",
   "execution_count": 7,
   "id": "atomic-omaha",
   "metadata": {
    "execution": {
     "iopub.execute_input": "2022-05-18T02:55:42.873477Z",
     "iopub.status.busy": "2022-05-18T02:55:42.867089Z",
     "iopub.status.idle": "2022-05-18T02:55:44.191067Z",
     "shell.execute_reply": "2022-05-18T02:55:44.191462Z"
    },
    "papermill": {
     "duration": 1.346417,
     "end_time": "2022-05-18T02:55:44.191603",
     "exception": false,
     "start_time": "2022-05-18T02:55:42.845186",
     "status": "completed"
    },
    "tags": []
   },
   "outputs": [
    {
     "data": {
      "image/png": "[encoded data removed]",
      "text/plain": [
       "<Figure size 1080x792 with 2 Axes>"
      ]
     },
     "metadata": {
      "needs_background": "light"
     },
     "output_type": "display_data"
    }
   ],
   "source": [
    "#hide_input\n",
    "plt.figure(figsize=(15, 11))\n",
    "sns.heatmap(df_all[sum_corr].corr(), annot=True, cmap=\"cubehelix\") \n",
    "sns.set(font_scale=1.25)\n",
    "plt.savefig('corr_matrix.png', format='eps')"
   ]
  },
  {
   "cell_type": "code",
   "execution_count": 8,
   "id": "arbitrary-sullivan",
   "metadata": {
    "execution": {
     "iopub.execute_input": "2022-05-18T02:55:44.274284Z",
     "iopub.status.busy": "2022-05-18T02:55:44.273745Z",
     "iopub.status.idle": "2022-05-18T02:55:44.300425Z",
     "shell.execute_reply": "2022-05-18T02:55:44.300883Z"
    },
    "papermill": {
     "duration": 0.095762,
     "end_time": "2022-05-18T02:55:44.301028",
     "exception": false,
     "start_time": "2022-05-18T02:55:44.205266",
     "status": "completed"
    },
    "tags": []
   },
   "outputs": [],
   "source": [
    "#hide\n",
    "#df_all_mrk = read_api()"
   ]
  },
  {
   "cell_type": "code",
   "execution_count": 9,
   "id": "delayed-adapter",
   "metadata": {
    "execution": {
     "iopub.execute_input": "2022-05-18T02:55:44.521584Z",
     "iopub.status.busy": "2022-05-18T02:55:44.521040Z",
     "iopub.status.idle": "2022-05-18T02:55:44.544636Z",
     "shell.execute_reply": "2022-05-18T02:55:44.545056Z"
    },
    "papermill": {
     "duration": 0.193367,
     "end_time": "2022-05-18T02:55:44.545186",
     "exception": false,
     "start_time": "2022-05-18T02:55:44.351819",
     "status": "completed"
    },
    "tags": []
   },
   "outputs": [],
   "source": [
    "#hide\n",
    "#Koreliacijų koeficientai"
   ]
  },
  {
   "cell_type": "code",
   "execution_count": 10,
   "id": "seeing-celebration",
   "metadata": {
    "execution": {
     "iopub.execute_input": "2022-05-18T02:55:44.578272Z",
     "iopub.status.busy": "2022-05-18T02:55:44.577765Z",
     "iopub.status.idle": "2022-05-18T02:55:44.604254Z",
     "shell.execute_reply": "2022-05-18T02:55:44.604714Z"
    },
    "papermill": {
     "duration": 0.043973,
     "end_time": "2022-05-18T02:55:44.604853",
     "exception": false,
     "start_time": "2022-05-18T02:55:44.560880",
     "status": "completed"
    },
    "tags": []
   },
   "outputs": [],
   "source": [
    "#hide_input\n",
    "#sum_corr = df_all_mrk.corr().sum().sort_values(ascending=True).index.values\n",
    "#df_all_mrk[sum_corr].corr()"
   ]
  },
  {
   "cell_type": "code",
   "execution_count": 11,
   "id": "other-painting",
   "metadata": {
    "execution": {
     "iopub.execute_input": "2022-05-18T02:55:44.640437Z",
     "iopub.status.busy": "2022-05-18T02:55:44.639917Z",
     "iopub.status.idle": "2022-05-18T02:55:44.661124Z",
     "shell.execute_reply": "2022-05-18T02:55:44.661822Z"
    },
    "papermill": {
     "duration": 0.043608,
     "end_time": "2022-05-18T02:55:44.661949",
     "exception": false,
     "start_time": "2022-05-18T02:55:44.618341",
     "status": "completed"
    },
    "tags": []
   },
   "outputs": [],
   "source": [
    "#hide\n",
    "#Koreliacijos matrica. "
   ]
  },
  {
   "cell_type": "code",
   "execution_count": 12,
   "id": "modular-magnitude",
   "metadata": {
    "execution": {
     "iopub.execute_input": "2022-05-18T02:55:44.691793Z",
     "iopub.status.busy": "2022-05-18T02:55:44.691217Z",
     "iopub.status.idle": "2022-05-18T02:55:44.714134Z",
     "shell.execute_reply": "2022-05-18T02:55:44.714572Z"
    },
    "papermill": {
     "duration": 0.03904,
     "end_time": "2022-05-18T02:55:44.714702",
     "exception": false,
     "start_time": "2022-05-18T02:55:44.675662",
     "status": "completed"
    },
    "tags": []
   },
   "outputs": [],
   "source": [
    "#hide_input\n",
    "#plt.figure(figsize=(15, 8))\n",
    "#sns.heatmap(df_all_mrk[sum_corr].corr(), annot=True, cmap=\"BrBG\");\n",
    "#plt.savefig('corr_matrix_all.eps', format='eps')"
   ]
  },
  {
   "cell_type": "code",
   "execution_count": null,
   "id": "original-senator",
   "metadata": {
    "papermill": {
     "duration": 0.012971,
     "end_time": "2022-05-18T02:55:44.741370",
     "exception": false,
     "start_time": "2022-05-18T02:55:44.728399",
     "status": "completed"
    },
    "tags": []
   },
   "outputs": [],
   "source": []
  },
  {
   "cell_type": "code",
   "execution_count": null,
   "id": "saving-secretariat",
   "metadata": {
    "papermill": {
     "duration": 0.013089,
     "end_time": "2022-05-18T02:55:44.767479",
     "exception": false,
     "start_time": "2022-05-18T02:55:44.754390",
     "status": "completed"
    },
    "tags": []
   },
   "outputs": [],
   "source": []
  }
 ],
 "metadata": {
  "kernelspec": {
   "display_name": "Python 3",
   "language": "python",
   "name": "python3"
  },
  "language_info": {
   "codemirror_mode": {
    "name": "ipython",
    "version": 3
   },
   "file_extension": ".py",
   "mimetype": "text/x-python",
   "name": "python",
   "nbconvert_exporter": "python",
   "pygments_lexer": "ipython3",
   "version": "3.6.15"
  },
  "papermill": {
   "default_parameters": {},
   "duration": 14.834865,
   "end_time": "2022-05-18T02:55:45.199659",
   "environment_variables": {},
   "exception": null,
   "input_path": "App-Correlation_charts.ipynb",
   "output_path": "App-Correlation_charts.ipynb",
   "parameters": {},
   "start_time": "2022-05-18T02:55:30.364794",
   "version": "2.2.2"
  }
 },
 "nbformat": 4,
 "nbformat_minor": 5
}