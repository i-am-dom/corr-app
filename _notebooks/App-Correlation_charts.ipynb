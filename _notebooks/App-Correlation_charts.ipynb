{
 "cells": [
  {
   "cell_type": "markdown",
   "id": "touched-facility",
   "metadata": {
    "papermill": {
     "duration": 0.018171,
     "end_time": "2022-09-15T03:48:36.519598",
     "exception": false,
     "start_time": "2022-09-15T03:48:36.501427",
     "status": "completed"
    },
    "tags": []
   },
   "source": [
    "# Koreliacijų matrica\n",
    "> Išplėstinė koreliacijų matrica. \n",
    "\n",
    "- toc: true \n",
    "- badges: true\n",
    "- comments: false\n",
    "- categories: [Dominykas Tautkus]\n",
    "- image: images/matrix.png"
   ]
  },
  {
   "cell_type": "code",
   "execution_count": null,
   "id": "premium-weekend",
   "metadata": {
    "papermill": {
     "duration": 0.014804,
     "end_time": "2022-09-15T03:48:36.549458",
     "exception": false,
     "start_time": "2022-09-15T03:48:36.534654",
     "status": "completed"
    },
    "tags": []
   },
   "outputs": [],
   "source": []
  },
  {
   "cell_type": "code",
   "execution_count": 1,
   "id": "vertical-rebate",
   "metadata": {
    "execution": {
     "iopub.execute_input": "2022-09-15T03:48:36.591467Z",
     "iopub.status.busy": "2022-09-15T03:48:36.590646Z",
     "iopub.status.idle": "2022-09-15T03:48:36.605220Z",
     "shell.execute_reply": "2022-09-15T03:48:36.604342Z"
    },
    "papermill": {
     "duration": 0.042126,
     "end_time": "2022-09-15T03:48:36.605382",
     "exception": false,
     "start_time": "2022-09-15T03:48:36.563256",
     "status": "completed"
    },
    "tags": []
   },
   "outputs": [],
   "source": [
    "#hide\n",
    "%load_ext autoreload\n",
    "%autoreload 2"
   ]
  },
  {
   "cell_type": "code",
   "execution_count": 2,
   "id": "overall-advancement",
   "metadata": {
    "execution": {
     "iopub.execute_input": "2022-09-15T03:48:36.639254Z",
     "iopub.status.busy": "2022-09-15T03:48:36.638577Z",
     "iopub.status.idle": "2022-09-15T03:48:38.447942Z",
     "shell.execute_reply": "2022-09-15T03:48:38.447195Z"
    },
    "papermill": {
     "duration": 1.828437,
     "end_time": "2022-09-15T03:48:38.448192",
     "exception": false,
     "start_time": "2022-09-15T03:48:36.619755",
     "status": "completed"
    },
    "tags": []
   },
   "outputs": [],
   "source": [
    "#hide\n",
    "from scripts.read_data import read_api\n",
    "from IPython.display import HTML\n",
    "import plotly.graph_objects as go\n"
   ]
  },
  {
   "cell_type": "code",
   "execution_count": 3,
   "id": "light-crazy",
   "metadata": {
    "execution": {
     "iopub.execute_input": "2022-09-15T03:48:38.482682Z",
     "iopub.status.busy": "2022-09-15T03:48:38.481998Z",
     "iopub.status.idle": "2022-09-15T03:48:38.512053Z",
     "shell.execute_reply": "2022-09-15T03:48:38.511329Z"
    },
    "papermill": {
     "duration": 0.049559,
     "end_time": "2022-09-15T03:48:38.512206",
     "exception": false,
     "start_time": "2022-09-15T03:48:38.462647",
     "status": "completed"
    },
    "tags": []
   },
   "outputs": [],
   "source": [
    "#hide\n",
    "### ICO koreliacija"
   ]
  },
  {
   "cell_type": "code",
   "execution_count": 4,
   "id": "likely-bahrain",
   "metadata": {
    "execution": {
     "iopub.execute_input": "2022-09-15T03:48:38.547022Z",
     "iopub.status.busy": "2022-09-15T03:48:38.546331Z",
     "iopub.status.idle": "2022-09-15T03:48:39.667270Z",
     "shell.execute_reply": "2022-09-15T03:48:39.665790Z"
    },
    "papermill": {
     "duration": 1.140852,
     "end_time": "2022-09-15T03:48:39.667431",
     "exception": false,
     "start_time": "2022-09-15T03:48:38.526579",
     "status": "completed"
    },
    "tags": []
   },
   "outputs": [],
   "source": [
    "#hide\n",
    "import matplotlib.pyplot as plt\n",
    "import numpy as np\n",
    "import pandas as pd\n",
    "import seaborn as sns\n",
    "import matplotlib.pyplot as plt \n",
    "import matplotlib.dates as mdates\n",
    "import matplotlib.pyplot as plt"
   ]
  },
  {
   "cell_type": "code",
   "execution_count": 5,
   "id": "superior-blanket",
   "metadata": {
    "execution": {
     "iopub.execute_input": "2022-09-15T03:48:39.705870Z",
     "iopub.status.busy": "2022-09-15T03:48:39.705080Z",
     "iopub.status.idle": "2022-09-15T03:48:48.850118Z",
     "shell.execute_reply": "2022-09-15T03:48:48.850862Z"
    },
    "papermill": {
     "duration": 9.167761,
     "end_time": "2022-09-15T03:48:48.851067",
     "exception": false,
     "start_time": "2022-09-15T03:48:39.683306",
     "status": "completed"
    },
    "tags": []
   },
   "outputs": [
    {
     "name": "stderr",
     "output_type": "stream",
     "text": [
      "/home/runner/work/corr-app/corr-app/_notebooks/scripts/read_data.py:187: SettingWithCopyWarning:\n",
      "\n",
      "\n",
      "A value is trying to be set on a copy of a slice from a DataFrame.\n",
      "Try using .loc[row_indexer,col_indexer] = value instead\n",
      "\n",
      "See the caveats in the documentation: https://pandas.pydata.org/pandas-docs/stable/user_guide/indexing.html#returning-a-view-versus-a-copy\n",
      "\n"
     ]
    },
    {
     "name": "stderr",
     "output_type": "stream",
     "text": [
      "/home/runner/work/corr-app/corr-app/_notebooks/scripts/read_data.py:215: SettingWithCopyWarning:\n",
      "\n",
      "\n",
      "A value is trying to be set on a copy of a slice from a DataFrame.\n",
      "Try using .loc[row_indexer,col_indexer] = value instead\n",
      "\n",
      "See the caveats in the documentation: https://pandas.pydata.org/pandas-docs/stable/user_guide/indexing.html#returning-a-view-versus-a-copy\n",
      "\n"
     ]
    }
   ],
   "source": [
    "#hide\n",
    "df_all = read_api()\n",
    "#df_all = df_all.drop(['SP500', 'XAU', 'ETH', 'BTC'], axis=1)\n",
    "\n"
   ]
  },
  {
   "cell_type": "code",
   "execution_count": 6,
   "id": "mature-alert",
   "metadata": {
    "execution": {
     "iopub.execute_input": "2022-09-15T03:48:48.896849Z",
     "iopub.status.busy": "2022-09-15T03:48:48.895989Z",
     "iopub.status.idle": "2022-09-15T03:48:48.936071Z",
     "shell.execute_reply": "2022-09-15T03:48:48.936637Z"
    },
    "papermill": {
     "duration": 0.062668,
     "end_time": "2022-09-15T03:48:48.936815",
     "exception": false,
     "start_time": "2022-09-15T03:48:48.874147",
     "status": "completed"
    },
    "tags": []
   },
   "outputs": [],
   "source": [
    "#hide_input\n",
    "sum_corr = df_all.corr().sum().sort_values(ascending=True).index.values\n",
    "#df_all[sum_corr].corr()"
   ]
  },
  {
   "cell_type": "markdown",
   "id": "complex-syndicate",
   "metadata": {
    "papermill": {
     "duration": 0.014932,
     "end_time": "2022-09-15T03:48:48.967281",
     "exception": false,
     "start_time": "2022-09-15T03:48:48.952349",
     "status": "completed"
    },
    "tags": []
   },
   "source": [
    "## Išplėstinė koreliacijų matrica. "
   ]
  },
  {
   "cell_type": "code",
   "execution_count": 7,
   "id": "atomic-omaha",
   "metadata": {
    "execution": {
     "iopub.execute_input": "2022-09-15T03:48:49.011350Z",
     "iopub.status.busy": "2022-09-15T03:48:49.009705Z",
     "iopub.status.idle": "2022-09-15T03:48:50.872947Z",
     "shell.execute_reply": "2022-09-15T03:48:50.872311Z"
    },
    "papermill": {
     "duration": 1.889388,
     "end_time": "2022-09-15T03:48:50.873139",
     "exception": false,
     "start_time": "2022-09-15T03:48:48.983751",
     "status": "completed"
    },
    "tags": []
   },
   "outputs": [
    {
     "data": {
      "image/png": "[encoded data removed]",
      "text/plain": [
       "<Figure size 1080x792 with 2 Axes>"
      ]
     },
     "metadata": {
      "needs_background": "light"
     },
     "output_type": "display_data"
    }
   ],
   "source": [
    "#hide_input\n",
    "plt.figure(figsize=(15, 11))\n",
    "sns.heatmap(df_all[sum_corr].corr(), annot=True, cmap=\"cubehelix\") \n",
    "sns.set(font_scale=1.25)\n",
    "plt.savefig('corr_matrix.png', format='eps')"
   ]
  },
  {
   "cell_type": "code",
   "execution_count": 8,
   "id": "arbitrary-sullivan",
   "metadata": {
    "execution": {
     "iopub.execute_input": "2022-09-15T03:48:50.915886Z",
     "iopub.status.busy": "2022-09-15T03:48:50.915046Z",
     "iopub.status.idle": "2022-09-15T03:48:50.950193Z",
     "shell.execute_reply": "2022-09-15T03:48:50.949552Z"
    },
    "papermill": {
     "duration": 0.057978,
     "end_time": "2022-09-15T03:48:50.950352",
     "exception": false,
     "start_time": "2022-09-15T03:48:50.892374",
     "status": "completed"
    },
    "tags": []
   },
   "outputs": [],
   "source": [
    "#hide\n",
    "#df_all_mrk = read_api()"
   ]
  },
  {
   "cell_type": "code",
   "execution_count": 9,
   "id": "delayed-adapter",
   "metadata": {
    "execution": {
     "iopub.execute_input": "2022-09-15T03:48:50.993571Z",
     "iopub.status.busy": "2022-09-15T03:48:50.992627Z",
     "iopub.status.idle": "2022-09-15T03:48:51.025918Z",
     "shell.execute_reply": "2022-09-15T03:48:51.024960Z"
    },
    "papermill": {
     "duration": 0.057416,
     "end_time": "2022-09-15T03:48:51.026113",
     "exception": false,
     "start_time": "2022-09-15T03:48:50.968697",
     "status": "completed"
    },
    "tags": []
   },
   "outputs": [],
   "source": [
    "#hide\n",
    "#Koreliacijų koeficientai"
   ]
  },
  {
   "cell_type": "code",
   "execution_count": 10,
   "id": "seeing-celebration",
   "metadata": {
    "execution": {
     "iopub.execute_input": "2022-09-15T03:48:51.069363Z",
     "iopub.status.busy": "2022-09-15T03:48:51.067984Z",
     "iopub.status.idle": "2022-09-15T03:48:51.107836Z",
     "shell.execute_reply": "2022-09-15T03:48:51.107176Z"
    },
    "papermill": {
     "duration": 0.062726,
     "end_time": "2022-09-15T03:48:51.107982",
     "exception": false,
     "start_time": "2022-09-15T03:48:51.045256",
     "status": "completed"
    },
    "tags": []
   },
   "outputs": [],
   "source": [
    "#hide_input\n",
    "#sum_corr = df_all_mrk.corr().sum().sort_values(ascending=True).index.values\n",
    "#df_all_mrk[sum_corr].corr()"
   ]
  },
  {
   "cell_type": "code",
   "execution_count": 11,
   "id": "other-painting",
   "metadata": {
    "execution": {
     "iopub.execute_input": "2022-09-15T03:48:51.149908Z",
     "iopub.status.busy": "2022-09-15T03:48:51.149024Z",
     "iopub.status.idle": "2022-09-15T03:48:51.185582Z",
     "shell.execute_reply": "2022-09-15T03:48:51.186166Z"
    },
    "papermill": {
     "duration": 0.059079,
     "end_time": "2022-09-15T03:48:51.186342",
     "exception": false,
     "start_time": "2022-09-15T03:48:51.127263",
     "status": "completed"
    },
    "tags": []
   },
   "outputs": [],
   "source": [
    "#hide\n",
    "#Koreliacijos matrica. "
   ]
  },
  {
   "cell_type": "code",
   "execution_count": 12,
   "id": "modular-magnitude",
   "metadata": {
    "execution": {
     "iopub.execute_input": "2022-09-15T03:48:51.231228Z",
     "iopub.status.busy": "2022-09-15T03:48:51.230452Z",
     "iopub.status.idle": "2022-09-15T03:48:51.263268Z",
     "shell.execute_reply": "2022-09-15T03:48:51.262599Z"
    },
    "papermill": {
     "duration": 0.059051,
     "end_time": "2022-09-15T03:48:51.263415",
     "exception": false,
     "start_time": "2022-09-15T03:48:51.204364",
     "status": "completed"
    },
    "tags": []
   },
   "outputs": [],
   "source": [
    "#hide_input\n",
    "#plt.figure(figsize=(15, 8))\n",
    "#sns.heatmap(df_all_mrk[sum_corr].corr(), annot=True, cmap=\"BrBG\");\n",
    "#plt.savefig('corr_matrix_all.eps', format='eps')"
   ]
  },
  {
   "cell_type": "code",
   "execution_count": null,
   "id": "original-senator",
   "metadata": {
    "papermill": {
     "duration": 0.017145,
     "end_time": "2022-09-15T03:48:51.298427",
     "exception": false,
     "start_time": "2022-09-15T03:48:51.281282",
     "status": "completed"
    },
    "tags": []
   },
   "outputs": [],
   "source": []
  },
  {
   "cell_type": "code",
   "execution_count": null,
   "id": "saving-secretariat",
   "metadata": {
    "papermill": {
     "duration": 0.018936,
     "end_time": "2022-09-15T03:48:51.334792",
     "exception": false,
     "start_time": "2022-09-15T03:48:51.315856",
     "status": "completed"
    },
    "tags": []
   },
   "outputs": [],
   "source": []
  }
 ],
 "metadata": {
  "kernelspec": {
   "display_name": "Python 3",
   "language": "python",
   "name": "python3"
  },
  "language_info": {
   "codemirror_mode": {
    "name": "ipython",
    "version": 3
   },
   "file_extension": ".py",
   "mimetype": "text/x-python",
   "name": "python",
   "nbconvert_exporter": "python",
   "pygments_lexer": "ipython3",
   "version": "3.6.15"
  },
  "papermill": {
   "default_parameters": {},
   "duration": 16.696161,
   "end_time": "2022-09-15T03:48:51.974029",
   "environment_variables": {},
   "exception": null,
   "input_path": "App-Correlation_charts.ipynb",
   "output_path": "App-Correlation_charts.ipynb",
   "parameters": {},
   "start_time": "2022-09-15T03:48:35.277868",
   "version": "2.2.2"
  }
 },
 "nbformat": 4,
 "nbformat_minor": 5
}