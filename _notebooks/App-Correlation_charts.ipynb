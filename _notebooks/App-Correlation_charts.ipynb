{
 "cells": [
  {
   "cell_type": "markdown",
   "id": "touched-facility",
   "metadata": {
    "papermill": {
     "duration": 0.015563,
     "end_time": "2022-03-27T02:23:25.462415",
     "exception": false,
     "start_time": "2022-03-27T02:23:25.446852",
     "status": "completed"
    },
    "tags": []
   },
   "source": [
    "# Koreliacijų matrica\n",
    "> Išplėstinė koreliacijų matrica. \n",
    "\n",
    "- toc: true \n",
    "- badges: true\n",
    "- comments: false\n",
    "- categories: [Dominykas Tautkus]\n",
    "- image: images/matrix.png"
   ]
  },
  {
   "cell_type": "code",
   "execution_count": null,
   "id": "premium-weekend",
   "metadata": {
    "papermill": {
     "duration": 0.010977,
     "end_time": "2022-03-27T02:23:25.485369",
     "exception": false,
     "start_time": "2022-03-27T02:23:25.474392",
     "status": "completed"
    },
    "tags": []
   },
   "outputs": [],
   "source": []
  },
  {
   "cell_type": "code",
   "execution_count": 1,
   "id": "vertical-rebate",
   "metadata": {
    "execution": {
     "iopub.execute_input": "2022-03-27T02:23:25.518470Z",
     "iopub.status.busy": "2022-03-27T02:23:25.517872Z",
     "iopub.status.idle": "2022-03-27T02:23:25.528296Z",
     "shell.execute_reply": "2022-03-27T02:23:25.527848Z"
    },
    "papermill": {
     "duration": 0.032251,
     "end_time": "2022-03-27T02:23:25.528429",
     "exception": false,
     "start_time": "2022-03-27T02:23:25.496178",
     "status": "completed"
    },
    "tags": []
   },
   "outputs": [],
   "source": [
    "#hide\n",
    "%load_ext autoreload\n",
    "%autoreload 2"
   ]
  },
  {
   "cell_type": "code",
   "execution_count": 2,
   "id": "overall-advancement",
   "metadata": {
    "execution": {
     "iopub.execute_input": "2022-03-27T02:23:25.555271Z",
     "iopub.status.busy": "2022-03-27T02:23:25.554711Z",
     "iopub.status.idle": "2022-03-27T02:23:26.849640Z",
     "shell.execute_reply": "2022-03-27T02:23:26.850191Z"
    },
    "papermill": {
     "duration": 1.311007,
     "end_time": "2022-03-27T02:23:26.850371",
     "exception": false,
     "start_time": "2022-03-27T02:23:25.539364",
     "status": "completed"
    },
    "tags": []
   },
   "outputs": [],
   "source": [
    "#hide\n",
    "from scripts.read_data import read_api\n",
    "from IPython.display import HTML\n",
    "import plotly.graph_objects as go\n"
   ]
  },
  {
   "cell_type": "code",
   "execution_count": 3,
   "id": "light-crazy",
   "metadata": {
    "execution": {
     "iopub.execute_input": "2022-03-27T02:23:26.890499Z",
     "iopub.status.busy": "2022-03-27T02:23:26.885987Z",
     "iopub.status.idle": "2022-03-27T02:23:26.905981Z",
     "shell.execute_reply": "2022-03-27T02:23:26.905465Z"
    },
    "papermill": {
     "duration": 0.044319,
     "end_time": "2022-03-27T02:23:26.906107",
     "exception": false,
     "start_time": "2022-03-27T02:23:26.861788",
     "status": "completed"
    },
    "tags": []
   },
   "outputs": [],
   "source": [
    "#hide\n",
    "### ICO koreliacija"
   ]
  },
  {
   "cell_type": "code",
   "execution_count": 4,
   "id": "likely-bahrain",
   "metadata": {
    "execution": {
     "iopub.execute_input": "2022-03-27T02:23:26.942403Z",
     "iopub.status.busy": "2022-03-27T02:23:26.940691Z",
     "iopub.status.idle": "2022-03-27T02:23:27.866680Z",
     "shell.execute_reply": "2022-03-27T02:23:27.867470Z"
    },
    "papermill": {
     "duration": 0.950635,
     "end_time": "2022-03-27T02:23:27.867636",
     "exception": false,
     "start_time": "2022-03-27T02:23:26.917001",
     "status": "completed"
    },
    "tags": []
   },
   "outputs": [],
   "source": [
    "#hide\n",
    "import matplotlib.pyplot as plt\n",
    "import numpy as np\n",
    "import pandas as pd\n",
    "import seaborn as sns\n",
    "import matplotlib.pyplot as plt \n",
    "import matplotlib.dates as mdates\n",
    "import matplotlib.pyplot as plt"
   ]
  },
  {
   "cell_type": "code",
   "execution_count": 5,
   "id": "superior-blanket",
   "metadata": {
    "execution": {
     "iopub.execute_input": "2022-03-27T02:23:27.894497Z",
     "iopub.status.busy": "2022-03-27T02:23:27.893863Z",
     "iopub.status.idle": "2022-03-27T02:23:37.609031Z",
     "shell.execute_reply": "2022-03-27T02:23:37.609514Z"
    },
    "papermill": {
     "duration": 9.730773,
     "end_time": "2022-03-27T02:23:37.609669",
     "exception": false,
     "start_time": "2022-03-27T02:23:27.878896",
     "status": "completed"
    },
    "tags": []
   },
   "outputs": [
    {
     "name": "stderr",
     "output_type": "stream",
     "text": [
      "/home/runner/work/corr-app/corr-app/_notebooks/scripts/read_data.py:187: SettingWithCopyWarning:\n",
      "\n",
      "\n",
      "A value is trying to be set on a copy of a slice from a DataFrame.\n",
      "Try using .loc[row_indexer,col_indexer] = value instead\n",
      "\n",
      "See the caveats in the documentation: https://pandas.pydata.org/pandas-docs/stable/user_guide/indexing.html#returning-a-view-versus-a-copy\n",
      "\n"
     ]
    },
    {
     "name": "stderr",
     "output_type": "stream",
     "text": [
      "/home/runner/work/corr-app/corr-app/_notebooks/scripts/read_data.py:215: SettingWithCopyWarning:\n",
      "\n",
      "\n",
      "A value is trying to be set on a copy of a slice from a DataFrame.\n",
      "Try using .loc[row_indexer,col_indexer] = value instead\n",
      "\n",
      "See the caveats in the documentation: https://pandas.pydata.org/pandas-docs/stable/user_guide/indexing.html#returning-a-view-versus-a-copy\n",
      "\n"
     ]
    }
   ],
   "source": [
    "#hide\n",
    "df_all = read_api()\n",
    "#df_all = df_all.drop(['SP500', 'XAU', 'ETH', 'BTC'], axis=1)\n",
    "\n"
   ]
  },
  {
   "cell_type": "code",
   "execution_count": 6,
   "id": "mature-alert",
   "metadata": {
    "execution": {
     "iopub.execute_input": "2022-03-27T02:23:37.645374Z",
     "iopub.status.busy": "2022-03-27T02:23:37.641960Z",
     "iopub.status.idle": "2022-03-27T02:23:37.671433Z",
     "shell.execute_reply": "2022-03-27T02:23:37.671894Z"
    },
    "papermill": {
     "duration": 0.050319,
     "end_time": "2022-03-27T02:23:37.672054",
     "exception": false,
     "start_time": "2022-03-27T02:23:37.621735",
     "status": "completed"
    },
    "tags": []
   },
   "outputs": [],
   "source": [
    "#hide_input\n",
    "sum_corr = df_all.corr().sum().sort_values(ascending=True).index.values\n",
    "#df_all[sum_corr].corr()"
   ]
  },
  {
   "cell_type": "markdown",
   "id": "complex-syndicate",
   "metadata": {
    "papermill": {
     "duration": 0.011468,
     "end_time": "2022-03-27T02:23:37.695599",
     "exception": false,
     "start_time": "2022-03-27T02:23:37.684131",
     "status": "completed"
    },
    "tags": []
   },
   "source": [
    "## Išplėstinė koreliacijų matrica. "
   ]
  },
  {
   "cell_type": "code",
   "execution_count": 7,
   "id": "atomic-omaha",
   "metadata": {
    "execution": {
     "iopub.execute_input": "2022-03-27T02:23:37.735705Z",
     "iopub.status.busy": "2022-03-27T02:23:37.734808Z",
     "iopub.status.idle": "2022-03-27T02:23:39.000638Z",
     "shell.execute_reply": "2022-03-27T02:23:39.001112Z"
    },
    "papermill": {
     "duration": 1.294213,
     "end_time": "2022-03-27T02:23:39.001269",
     "exception": false,
     "start_time": "2022-03-27T02:23:37.707056",
     "status": "completed"
    },
    "tags": []
   },
   "outputs": [
    {
     "data": {
      "image/png": "[encoded data removed]",
      "text/plain": [
       "<Figure size 1080x792 with 2 Axes>"
      ]
     },
     "metadata": {
      "needs_background": "light"
     },
     "output_type": "display_data"
    }
   ],
   "source": [
    "#hide_input\n",
    "plt.figure(figsize=(15, 11))\n",
    "sns.heatmap(df_all[sum_corr].corr(), annot=True, cmap=\"cubehelix\") \n",
    "sns.set(font_scale=1.25)\n",
    "plt.savefig('corr_matrix.png', format='eps')"
   ]
  },
  {
   "cell_type": "code",
   "execution_count": 8,
   "id": "arbitrary-sullivan",
   "metadata": {
    "execution": {
     "iopub.execute_input": "2022-03-27T02:23:39.046823Z",
     "iopub.status.busy": "2022-03-27T02:23:39.038671Z",
     "iopub.status.idle": "2022-03-27T02:23:39.064833Z",
     "shell.execute_reply": "2022-03-27T02:23:39.064380Z"
    },
    "papermill": {
     "duration": 0.049427,
     "end_time": "2022-03-27T02:23:39.064962",
     "exception": false,
     "start_time": "2022-03-27T02:23:39.015535",
     "status": "completed"
    },
    "tags": []
   },
   "outputs": [],
   "source": [
    "#hide\n",
    "#df_all_mrk = read_api()"
   ]
  },
  {
   "cell_type": "code",
   "execution_count": 9,
   "id": "delayed-adapter",
   "metadata": {
    "execution": {
     "iopub.execute_input": "2022-03-27T02:23:39.096885Z",
     "iopub.status.busy": "2022-03-27T02:23:39.096349Z",
     "iopub.status.idle": "2022-03-27T02:23:39.122564Z",
     "shell.execute_reply": "2022-03-27T02:23:39.122059Z"
    },
    "papermill": {
     "duration": 0.044109,
     "end_time": "2022-03-27T02:23:39.122704",
     "exception": false,
     "start_time": "2022-03-27T02:23:39.078595",
     "status": "completed"
    },
    "tags": []
   },
   "outputs": [],
   "source": [
    "#hide\n",
    "#Koreliacijų koeficientai"
   ]
  },
  {
   "cell_type": "code",
   "execution_count": 10,
   "id": "seeing-celebration",
   "metadata": {
    "execution": {
     "iopub.execute_input": "2022-03-27T02:23:39.162983Z",
     "iopub.status.busy": "2022-03-27T02:23:39.162404Z",
     "iopub.status.idle": "2022-03-27T02:23:39.185242Z",
     "shell.execute_reply": "2022-03-27T02:23:39.184760Z"
    },
    "papermill": {
     "duration": 0.046956,
     "end_time": "2022-03-27T02:23:39.185376",
     "exception": false,
     "start_time": "2022-03-27T02:23:39.138420",
     "status": "completed"
    },
    "tags": []
   },
   "outputs": [],
   "source": [
    "#hide_input\n",
    "#sum_corr = df_all_mrk.corr().sum().sort_values(ascending=True).index.values\n",
    "#df_all_mrk[sum_corr].corr()"
   ]
  },
  {
   "cell_type": "code",
   "execution_count": 11,
   "id": "other-painting",
   "metadata": {
    "execution": {
     "iopub.execute_input": "2022-03-27T02:23:39.220017Z",
     "iopub.status.busy": "2022-03-27T02:23:39.219482Z",
     "iopub.status.idle": "2022-03-27T02:23:39.244309Z",
     "shell.execute_reply": "2022-03-27T02:23:39.243810Z"
    },
    "papermill": {
     "duration": 0.045394,
     "end_time": "2022-03-27T02:23:39.244449",
     "exception": false,
     "start_time": "2022-03-27T02:23:39.199055",
     "status": "completed"
    },
    "tags": []
   },
   "outputs": [],
   "source": [
    "#hide\n",
    "#Koreliacijos matrica. "
   ]
  },
  {
   "cell_type": "code",
   "execution_count": 12,
   "id": "modular-magnitude",
   "metadata": {
    "execution": {
     "iopub.execute_input": "2022-03-27T02:23:39.276850Z",
     "iopub.status.busy": "2022-03-27T02:23:39.276325Z",
     "iopub.status.idle": "2022-03-27T02:23:39.302983Z",
     "shell.execute_reply": "2022-03-27T02:23:39.302464Z"
    },
    "papermill": {
     "duration": 0.044479,
     "end_time": "2022-03-27T02:23:39.303121",
     "exception": false,
     "start_time": "2022-03-27T02:23:39.258642",
     "status": "completed"
    },
    "tags": []
   },
   "outputs": [],
   "source": [
    "#hide_input\n",
    "#plt.figure(figsize=(15, 8))\n",
    "#sns.heatmap(df_all_mrk[sum_corr].corr(), annot=True, cmap=\"BrBG\");\n",
    "#plt.savefig('corr_matrix_all.eps', format='eps')"
   ]
  },
  {
   "cell_type": "code",
   "execution_count": null,
   "id": "original-senator",
   "metadata": {
    "papermill": {
     "duration": 0.013311,
     "end_time": "2022-03-27T02:23:39.330832",
     "exception": false,
     "start_time": "2022-03-27T02:23:39.317521",
     "status": "completed"
    },
    "tags": []
   },
   "outputs": [],
   "source": []
  },
  {
   "cell_type": "code",
   "execution_count": null,
   "id": "saving-secretariat",
   "metadata": {
    "papermill": {
     "duration": 0.013283,
     "end_time": "2022-03-27T02:23:39.357377",
     "exception": false,
     "start_time": "2022-03-27T02:23:39.344094",
     "status": "completed"
    },
    "tags": []
   },
   "outputs": [],
   "source": []
  }
 ],
 "metadata": {
  "kernelspec": {
   "display_name": "Python 3",
   "language": "python",
   "name": "python3"
  },
  "language_info": {
   "codemirror_mode": {
    "name": "ipython",
    "version": 3
   },
   "file_extension": ".py",
   "mimetype": "text/x-python",
   "name": "python",
   "nbconvert_exporter": "python",
   "pygments_lexer": "ipython3",
   "version": "3.6.15"
  },
  "papermill": {
   "default_parameters": {},
   "duration": 15.823441,
   "end_time": "2022-03-27T02:23:39.990714",
   "environment_variables": {},
   "exception": null,
   "input_path": "App-Correlation_charts.ipynb",
   "output_path": "App-Correlation_charts.ipynb",
   "parameters": {},
   "start_time": "2022-03-27T02:23:24.167273",
   "version": "2.2.2"
  }
 },
 "nbformat": 4,
 "nbformat_minor": 5
}