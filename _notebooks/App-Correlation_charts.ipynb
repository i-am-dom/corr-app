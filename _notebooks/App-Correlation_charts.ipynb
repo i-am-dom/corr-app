{
 "cells": [
  {
   "cell_type": "markdown",
   "id": "touched-facility",
   "metadata": {
    "papermill": {
     "duration": 0.01505,
     "end_time": "2022-01-03T02:04:45.442947",
     "exception": false,
     "start_time": "2022-01-03T02:04:45.427897",
     "status": "completed"
    },
    "tags": []
   },
   "source": [
    "# Koreliacijų matrica\n",
    "> Išplėstinė koreliacijų matrica. \n",
    "\n",
    "- toc: true \n",
    "- badges: true\n",
    "- comments: false\n",
    "- categories: [Dominykas Tautkus]\n",
    "- image: images/matrix.png"
   ]
  },
  {
   "cell_type": "code",
   "execution_count": null,
   "id": "premium-weekend",
   "metadata": {
    "papermill": {
     "duration": 0.010819,
     "end_time": "2022-01-03T02:04:45.465277",
     "exception": false,
     "start_time": "2022-01-03T02:04:45.454458",
     "status": "completed"
    },
    "tags": []
   },
   "outputs": [],
   "source": []
  },
  {
   "cell_type": "code",
   "execution_count": 1,
   "id": "vertical-rebate",
   "metadata": {
    "execution": {
     "iopub.execute_input": "2022-01-03T02:04:45.497858Z",
     "iopub.status.busy": "2022-01-03T02:04:45.497337Z",
     "iopub.status.idle": "2022-01-03T02:04:45.507600Z",
     "shell.execute_reply": "2022-01-03T02:04:45.507185Z"
    },
    "papermill": {
     "duration": 0.031618,
     "end_time": "2022-01-03T02:04:45.507720",
     "exception": false,
     "start_time": "2022-01-03T02:04:45.476102",
     "status": "completed"
    },
    "tags": []
   },
   "outputs": [],
   "source": [
    "#hide\n",
    "%load_ext autoreload\n",
    "%autoreload 2"
   ]
  },
  {
   "cell_type": "code",
   "execution_count": 2,
   "id": "overall-advancement",
   "metadata": {
    "execution": {
     "iopub.execute_input": "2022-01-03T02:04:45.537138Z",
     "iopub.status.busy": "2022-01-03T02:04:45.536624Z",
     "iopub.status.idle": "2022-01-03T02:04:46.807611Z",
     "shell.execute_reply": "2022-01-03T02:04:46.807087Z"
    },
    "papermill": {
     "duration": 1.289082,
     "end_time": "2022-01-03T02:04:46.807758",
     "exception": false,
     "start_time": "2022-01-03T02:04:45.518676",
     "status": "completed"
    },
    "tags": []
   },
   "outputs": [],
   "source": [
    "#hide\n",
    "from scripts.read_data import read_api\n",
    "from IPython.display import HTML\n",
    "import plotly.graph_objects as go\n"
   ]
  },
  {
   "cell_type": "code",
   "execution_count": 3,
   "id": "light-crazy",
   "metadata": {
    "execution": {
     "iopub.execute_input": "2022-01-03T02:04:46.888343Z",
     "iopub.status.busy": "2022-01-03T02:04:46.887766Z",
     "iopub.status.idle": "2022-01-03T02:04:46.910354Z",
     "shell.execute_reply": "2022-01-03T02:04:46.909847Z"
    },
    "papermill": {
     "duration": 0.081953,
     "end_time": "2022-01-03T02:04:46.910490",
     "exception": false,
     "start_time": "2022-01-03T02:04:46.828537",
     "status": "completed"
    },
    "tags": []
   },
   "outputs": [],
   "source": [
    "#hide\n",
    "### ICO koreliacija"
   ]
  },
  {
   "cell_type": "code",
   "execution_count": 4,
   "id": "likely-bahrain",
   "metadata": {
    "execution": {
     "iopub.execute_input": "2022-01-03T02:04:47.023547Z",
     "iopub.status.busy": "2022-01-03T02:04:47.022445Z",
     "iopub.status.idle": "2022-01-03T02:04:48.189045Z",
     "shell.execute_reply": "2022-01-03T02:04:48.188540Z"
    },
    "papermill": {
     "duration": 1.22198,
     "end_time": "2022-01-03T02:04:48.189171",
     "exception": false,
     "start_time": "2022-01-03T02:04:46.967191",
     "status": "completed"
    },
    "tags": []
   },
   "outputs": [],
   "source": [
    "#hide\n",
    "import matplotlib.pyplot as plt\n",
    "import numpy as np\n",
    "import pandas as pd\n",
    "import seaborn as sns\n",
    "import matplotlib.pyplot as plt \n",
    "import matplotlib.dates as mdates\n",
    "import matplotlib.pyplot as plt"
   ]
  },
  {
   "cell_type": "code",
   "execution_count": 5,
   "id": "superior-blanket",
   "metadata": {
    "execution": {
     "iopub.execute_input": "2022-01-03T02:04:48.277659Z",
     "iopub.status.busy": "2022-01-03T02:04:48.277063Z",
     "iopub.status.idle": "2022-01-03T02:05:00.436360Z",
     "shell.execute_reply": "2022-01-03T02:05:00.435813Z"
    },
    "papermill": {
     "duration": 12.202421,
     "end_time": "2022-01-03T02:05:00.436495",
     "exception": false,
     "start_time": "2022-01-03T02:04:48.234074",
     "status": "completed"
    },
    "tags": []
   },
   "outputs": [
    {
     "name": "stderr",
     "output_type": "stream",
     "text": [
      "/home/runner/work/corr-app/corr-app/_notebooks/scripts/read_data.py:187: SettingWithCopyWarning:\n",
      "\n",
      "\n",
      "A value is trying to be set on a copy of a slice from a DataFrame.\n",
      "Try using .loc[row_indexer,col_indexer] = value instead\n",
      "\n",
      "See the caveats in the documentation: https://pandas.pydata.org/pandas-docs/stable/user_guide/indexing.html#returning-a-view-versus-a-copy\n",
      "\n"
     ]
    },
    {
     "name": "stderr",
     "output_type": "stream",
     "text": [
      "/home/runner/work/corr-app/corr-app/_notebooks/scripts/read_data.py:215: SettingWithCopyWarning:\n",
      "\n",
      "\n",
      "A value is trying to be set on a copy of a slice from a DataFrame.\n",
      "Try using .loc[row_indexer,col_indexer] = value instead\n",
      "\n",
      "See the caveats in the documentation: https://pandas.pydata.org/pandas-docs/stable/user_guide/indexing.html#returning-a-view-versus-a-copy\n",
      "\n"
     ]
    }
   ],
   "source": [
    "#hide\n",
    "df_all = read_api()\n",
    "#df_all = df_all.drop(['SP500', 'XAU', 'ETH', 'BTC'], axis=1)\n",
    "\n"
   ]
  },
  {
   "cell_type": "code",
   "execution_count": 6,
   "id": "mature-alert",
   "metadata": {
    "execution": {
     "iopub.execute_input": "2022-01-03T02:05:00.464770Z",
     "iopub.status.busy": "2022-01-03T02:05:00.464220Z",
     "iopub.status.idle": "2022-01-03T02:05:00.494065Z",
     "shell.execute_reply": "2022-01-03T02:05:00.493531Z"
    },
    "papermill": {
     "duration": 0.04579,
     "end_time": "2022-01-03T02:05:00.494191",
     "exception": false,
     "start_time": "2022-01-03T02:05:00.448401",
     "status": "completed"
    },
    "tags": []
   },
   "outputs": [],
   "source": [
    "#hide_input\n",
    "sum_corr = df_all.corr().sum().sort_values(ascending=True).index.values\n",
    "#df_all[sum_corr].corr()"
   ]
  },
  {
   "cell_type": "markdown",
   "id": "complex-syndicate",
   "metadata": {
    "papermill": {
     "duration": 0.011263,
     "end_time": "2022-01-03T02:05:00.517734",
     "exception": false,
     "start_time": "2022-01-03T02:05:00.506471",
     "status": "completed"
    },
    "tags": []
   },
   "source": [
    "## Išplėstinė koreliacijų matrica. "
   ]
  },
  {
   "cell_type": "code",
   "execution_count": 7,
   "id": "atomic-omaha",
   "metadata": {
    "execution": {
     "iopub.execute_input": "2022-01-03T02:05:00.549349Z",
     "iopub.status.busy": "2022-01-03T02:05:00.548832Z",
     "iopub.status.idle": "2022-01-03T02:05:01.805597Z",
     "shell.execute_reply": "2022-01-03T02:05:01.805135Z"
    },
    "papermill": {
     "duration": 1.276698,
     "end_time": "2022-01-03T02:05:01.805723",
     "exception": false,
     "start_time": "2022-01-03T02:05:00.529025",
     "status": "completed"
    },
    "tags": []
   },
   "outputs": [
    {
     "data": {
      "image/png": "[encoded data removed]",
      "text/plain": [
       "<Figure size 1080x792 with 2 Axes>"
      ]
     },
     "metadata": {
      "needs_background": "light"
     },
     "output_type": "display_data"
    }
   ],
   "source": [
    "#hide_input\n",
    "plt.figure(figsize=(15, 11))\n",
    "sns.heatmap(df_all[sum_corr].corr(), annot=True, cmap=\"cubehelix\") \n",
    "sns.set(font_scale=1.25)\n",
    "plt.savefig('corr_matrix.png', format='eps')"
   ]
  },
  {
   "cell_type": "code",
   "execution_count": 8,
   "id": "arbitrary-sullivan",
   "metadata": {
    "execution": {
     "iopub.execute_input": "2022-01-03T02:05:01.839189Z",
     "iopub.status.busy": "2022-01-03T02:05:01.837267Z",
     "iopub.status.idle": "2022-01-03T02:05:01.863523Z",
     "shell.execute_reply": "2022-01-03T02:05:01.863059Z"
    },
    "papermill": {
     "duration": 0.044187,
     "end_time": "2022-01-03T02:05:01.863647",
     "exception": false,
     "start_time": "2022-01-03T02:05:01.819460",
     "status": "completed"
    },
    "tags": []
   },
   "outputs": [],
   "source": [
    "#hide\n",
    "#df_all_mrk = read_api()"
   ]
  },
  {
   "cell_type": "code",
   "execution_count": 9,
   "id": "delayed-adapter",
   "metadata": {
    "execution": {
     "iopub.execute_input": "2022-01-03T02:05:01.895602Z",
     "iopub.status.busy": "2022-01-03T02:05:01.895095Z",
     "iopub.status.idle": "2022-01-03T02:05:01.919029Z",
     "shell.execute_reply": "2022-01-03T02:05:01.918554Z"
    },
    "papermill": {
     "duration": 0.041327,
     "end_time": "2022-01-03T02:05:01.919152",
     "exception": false,
     "start_time": "2022-01-03T02:05:01.877825",
     "status": "completed"
    },
    "tags": []
   },
   "outputs": [],
   "source": [
    "#hide\n",
    "#Koreliacijų koeficientai"
   ]
  },
  {
   "cell_type": "code",
   "execution_count": 10,
   "id": "seeing-celebration",
   "metadata": {
    "execution": {
     "iopub.execute_input": "2022-01-03T02:05:01.954638Z",
     "iopub.status.busy": "2022-01-03T02:05:01.954135Z",
     "iopub.status.idle": "2022-01-03T02:05:01.977570Z",
     "shell.execute_reply": "2022-01-03T02:05:01.976632Z"
    },
    "papermill": {
     "duration": 0.044554,
     "end_time": "2022-01-03T02:05:01.977686",
     "exception": false,
     "start_time": "2022-01-03T02:05:01.933132",
     "status": "completed"
    },
    "tags": []
   },
   "outputs": [],
   "source": [
    "#hide_input\n",
    "#sum_corr = df_all_mrk.corr().sum().sort_values(ascending=True).index.values\n",
    "#df_all_mrk[sum_corr].corr()"
   ]
  },
  {
   "cell_type": "code",
   "execution_count": 11,
   "id": "other-painting",
   "metadata": {
    "execution": {
     "iopub.execute_input": "2022-01-03T02:05:02.008208Z",
     "iopub.status.busy": "2022-01-03T02:05:02.007232Z",
     "iopub.status.idle": "2022-01-03T02:05:02.032692Z",
     "shell.execute_reply": "2022-01-03T02:05:02.032191Z"
    },
    "papermill": {
     "duration": 0.041696,
     "end_time": "2022-01-03T02:05:02.032822",
     "exception": false,
     "start_time": "2022-01-03T02:05:01.991126",
     "status": "completed"
    },
    "tags": []
   },
   "outputs": [],
   "source": [
    "#hide\n",
    "#Koreliacijos matrica. "
   ]
  },
  {
   "cell_type": "code",
   "execution_count": 12,
   "id": "modular-magnitude",
   "metadata": {
    "execution": {
     "iopub.execute_input": "2022-01-03T02:05:02.067139Z",
     "iopub.status.busy": "2022-01-03T02:05:02.062274Z",
     "iopub.status.idle": "2022-01-03T02:05:02.089935Z",
     "shell.execute_reply": "2022-01-03T02:05:02.089456Z"
    },
    "papermill": {
     "duration": 0.043648,
     "end_time": "2022-01-03T02:05:02.090065",
     "exception": false,
     "start_time": "2022-01-03T02:05:02.046417",
     "status": "completed"
    },
    "tags": []
   },
   "outputs": [],
   "source": [
    "#hide_input\n",
    "#plt.figure(figsize=(15, 8))\n",
    "#sns.heatmap(df_all_mrk[sum_corr].corr(), annot=True, cmap=\"BrBG\");\n",
    "#plt.savefig('corr_matrix_all.eps', format='eps')"
   ]
  },
  {
   "cell_type": "code",
   "execution_count": null,
   "id": "original-senator",
   "metadata": {
    "papermill": {
     "duration": 0.013244,
     "end_time": "2022-01-03T02:05:02.117258",
     "exception": false,
     "start_time": "2022-01-03T02:05:02.104014",
     "status": "completed"
    },
    "tags": []
   },
   "outputs": [],
   "source": []
  },
  {
   "cell_type": "code",
   "execution_count": null,
   "id": "saving-secretariat",
   "metadata": {
    "papermill": {
     "duration": 0.014114,
     "end_time": "2022-01-03T02:05:02.144624",
     "exception": false,
     "start_time": "2022-01-03T02:05:02.130510",
     "status": "completed"
    },
    "tags": []
   },
   "outputs": [],
   "source": []
  }
 ],
 "metadata": {
  "kernelspec": {
   "display_name": "Python 3",
   "language": "python",
   "name": "python3"
  },
  "language_info": {
   "codemirror_mode": {
    "name": "ipython",
    "version": 3
   },
   "file_extension": ".py",
   "mimetype": "text/x-python",
   "name": "python",
   "nbconvert_exporter": "python",
   "pygments_lexer": "ipython3",
   "version": "3.6.15"
  },
  "papermill": {
   "default_parameters": {},
   "duration": 18.163889,
   "end_time": "2022-01-03T02:05:02.666406",
   "environment_variables": {},
   "exception": null,
   "input_path": "App-Correlation_charts.ipynb",
   "output_path": "App-Correlation_charts.ipynb",
   "parameters": {},
   "start_time": "2022-01-03T02:04:44.502517",
   "version": "2.2.2"
  }
 },
 "nbformat": 4,
 "nbformat_minor": 5
}