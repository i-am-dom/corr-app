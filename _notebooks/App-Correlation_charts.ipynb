{
 "cells": [
  {
   "cell_type": "markdown",
   "id": "touched-facility",
   "metadata": {
    "papermill": {
     "duration": 0.015728,
     "end_time": "2021-07-26T02:00:44.174657",
     "exception": false,
     "start_time": "2021-07-26T02:00:44.158929",
     "status": "completed"
    },
    "tags": []
   },
   "source": [
    "# Koreliacijų matrica\n",
    "> Išplėstinė koreliacijų matrica. \n",
    "\n",
    "- toc: true \n",
    "- badges: true\n",
    "- comments: false\n",
    "- categories: [Dominykas Tautkus]\n",
    "- image: images/matrix.png"
   ]
  },
  {
   "cell_type": "code",
   "execution_count": null,
   "id": "premium-weekend",
   "metadata": {
    "papermill": {
     "duration": 0.010462,
     "end_time": "2021-07-26T02:00:44.196389",
     "exception": false,
     "start_time": "2021-07-26T02:00:44.185927",
     "status": "completed"
    },
    "tags": []
   },
   "outputs": [],
   "source": []
  },
  {
   "cell_type": "code",
   "execution_count": 1,
   "id": "vertical-rebate",
   "metadata": {
    "execution": {
     "iopub.execute_input": "2021-07-26T02:00:44.227356Z",
     "iopub.status.busy": "2021-07-26T02:00:44.226837Z",
     "iopub.status.idle": "2021-07-26T02:00:44.236922Z",
     "shell.execute_reply": "2021-07-26T02:00:44.236468Z"
    },
    "papermill": {
     "duration": 0.030097,
     "end_time": "2021-07-26T02:00:44.237036",
     "exception": false,
     "start_time": "2021-07-26T02:00:44.206939",
     "status": "completed"
    },
    "tags": []
   },
   "outputs": [],
   "source": [
    "#hide\n",
    "%load_ext autoreload\n",
    "%autoreload 2"
   ]
  },
  {
   "cell_type": "code",
   "execution_count": 2,
   "id": "overall-advancement",
   "metadata": {
    "execution": {
     "iopub.execute_input": "2021-07-26T02:00:44.262725Z",
     "iopub.status.busy": "2021-07-26T02:00:44.262229Z",
     "iopub.status.idle": "2021-07-26T02:00:45.531610Z",
     "shell.execute_reply": "2021-07-26T02:00:45.532079Z"
    },
    "papermill": {
     "duration": 1.284614,
     "end_time": "2021-07-26T02:00:45.532246",
     "exception": false,
     "start_time": "2021-07-26T02:00:44.247632",
     "status": "completed"
    },
    "tags": []
   },
   "outputs": [],
   "source": [
    "#hide\n",
    "from scripts.read_data import read_api\n",
    "from IPython.display import HTML\n",
    "import plotly.graph_objects as go\n"
   ]
  },
  {
   "cell_type": "code",
   "execution_count": 3,
   "id": "light-crazy",
   "metadata": {
    "execution": {
     "iopub.execute_input": "2021-07-26T02:00:45.563381Z",
     "iopub.status.busy": "2021-07-26T02:00:45.561933Z",
     "iopub.status.idle": "2021-07-26T02:00:45.581693Z",
     "shell.execute_reply": "2021-07-26T02:00:45.581206Z"
    },
    "papermill": {
     "duration": 0.037656,
     "end_time": "2021-07-26T02:00:45.581807",
     "exception": false,
     "start_time": "2021-07-26T02:00:45.544151",
     "status": "completed"
    },
    "tags": []
   },
   "outputs": [],
   "source": [
    "#hide\n",
    "### ICO koreliacija"
   ]
  },
  {
   "cell_type": "code",
   "execution_count": 4,
   "id": "likely-bahrain",
   "metadata": {
    "execution": {
     "iopub.execute_input": "2021-07-26T02:00:45.667991Z",
     "iopub.status.busy": "2021-07-26T02:00:45.666833Z",
     "iopub.status.idle": "2021-07-26T02:00:46.461573Z",
     "shell.execute_reply": "2021-07-26T02:00:46.460780Z"
    },
    "papermill": {
     "duration": 0.869202,
     "end_time": "2021-07-26T02:00:46.461701",
     "exception": false,
     "start_time": "2021-07-26T02:00:45.592499",
     "status": "completed"
    },
    "tags": []
   },
   "outputs": [],
   "source": [
    "#hide\n",
    "import matplotlib.pyplot as plt\n",
    "import numpy as np\n",
    "import pandas as pd\n",
    "import seaborn as sns\n",
    "import matplotlib.pyplot as plt \n",
    "import matplotlib.dates as mdates\n",
    "import matplotlib.pyplot as plt"
   ]
  },
  {
   "cell_type": "code",
   "execution_count": 5,
   "id": "superior-blanket",
   "metadata": {
    "execution": {
     "iopub.execute_input": "2021-07-26T02:00:46.493371Z",
     "iopub.status.busy": "2021-07-26T02:00:46.492226Z",
     "iopub.status.idle": "2021-07-26T02:00:59.521459Z",
     "shell.execute_reply": "2021-07-26T02:00:59.520958Z"
    },
    "papermill": {
     "duration": 13.048537,
     "end_time": "2021-07-26T02:00:59.521597",
     "exception": false,
     "start_time": "2021-07-26T02:00:46.473060",
     "status": "completed"
    },
    "tags": []
   },
   "outputs": [
    {
     "name": "stderr",
     "output_type": "stream",
     "text": [
      "/home/runner/work/corr-app/corr-app/_notebooks/scripts/read_data.py:187: SettingWithCopyWarning:\n",
      "\n",
      "\n",
      "A value is trying to be set on a copy of a slice from a DataFrame.\n",
      "Try using .loc[row_indexer,col_indexer] = value instead\n",
      "\n",
      "See the caveats in the documentation: https://pandas.pydata.org/pandas-docs/stable/user_guide/indexing.html#returning-a-view-versus-a-copy\n",
      "\n"
     ]
    },
    {
     "name": "stderr",
     "output_type": "stream",
     "text": [
      "/home/runner/work/corr-app/corr-app/_notebooks/scripts/read_data.py:215: SettingWithCopyWarning:\n",
      "\n",
      "\n",
      "A value is trying to be set on a copy of a slice from a DataFrame.\n",
      "Try using .loc[row_indexer,col_indexer] = value instead\n",
      "\n",
      "See the caveats in the documentation: https://pandas.pydata.org/pandas-docs/stable/user_guide/indexing.html#returning-a-view-versus-a-copy\n",
      "\n"
     ]
    }
   ],
   "source": [
    "#hide\n",
    "df_all = read_api()\n",
    "#df_all = df_all.drop(['SP500', 'XAU', 'ETH', 'BTC'], axis=1)\n",
    "\n"
   ]
  },
  {
   "cell_type": "code",
   "execution_count": 6,
   "id": "mature-alert",
   "metadata": {
    "execution": {
     "iopub.execute_input": "2021-07-26T02:00:59.554350Z",
     "iopub.status.busy": "2021-07-26T02:00:59.553845Z",
     "iopub.status.idle": "2021-07-26T02:00:59.579206Z",
     "shell.execute_reply": "2021-07-26T02:00:59.579642Z"
    },
    "papermill": {
     "duration": 0.046173,
     "end_time": "2021-07-26T02:00:59.579780",
     "exception": false,
     "start_time": "2021-07-26T02:00:59.533607",
     "status": "completed"
    },
    "tags": []
   },
   "outputs": [],
   "source": [
    "#hide_input\n",
    "sum_corr = df_all.corr().sum().sort_values(ascending=True).index.values\n",
    "#df_all[sum_corr].corr()"
   ]
  },
  {
   "cell_type": "markdown",
   "id": "complex-syndicate",
   "metadata": {
    "papermill": {
     "duration": 0.01125,
     "end_time": "2021-07-26T02:00:59.603087",
     "exception": false,
     "start_time": "2021-07-26T02:00:59.591837",
     "status": "completed"
    },
    "tags": []
   },
   "source": [
    "## Išplėstinė koreliacijų matrica. "
   ]
  },
  {
   "cell_type": "code",
   "execution_count": 7,
   "id": "atomic-omaha",
   "metadata": {
    "execution": {
     "iopub.execute_input": "2021-07-26T02:00:59.647405Z",
     "iopub.status.busy": "2021-07-26T02:00:59.639260Z",
     "iopub.status.idle": "2021-07-26T02:01:00.820105Z",
     "shell.execute_reply": "2021-07-26T02:01:00.820598Z"
    },
    "papermill": {
     "duration": 1.205224,
     "end_time": "2021-07-26T02:01:00.820758",
     "exception": false,
     "start_time": "2021-07-26T02:00:59.615534",
     "status": "completed"
    },
    "tags": []
   },
   "outputs": [
    {
     "data": {
      "image/png": "[encoded data removed]",
      "text/plain": [
       "<Figure size 1080x792 with 2 Axes>"
      ]
     },
     "metadata": {
      "needs_background": "light"
     },
     "output_type": "display_data"
    }
   ],
   "source": [
    "#hide_input\n",
    "plt.figure(figsize=(15, 11))\n",
    "sns.heatmap(df_all[sum_corr].corr(), annot=True, cmap=\"cubehelix\") \n",
    "sns.set(font_scale=1.25)\n",
    "plt.savefig('corr_matrix.png', format='eps')"
   ]
  },
  {
   "cell_type": "code",
   "execution_count": 8,
   "id": "arbitrary-sullivan",
   "metadata": {
    "execution": {
     "iopub.execute_input": "2021-07-26T02:01:00.856039Z",
     "iopub.status.busy": "2021-07-26T02:01:00.855545Z",
     "iopub.status.idle": "2021-07-26T02:01:00.878762Z",
     "shell.execute_reply": "2021-07-26T02:01:00.878288Z"
    },
    "papermill": {
     "duration": 0.044353,
     "end_time": "2021-07-26T02:01:00.878879",
     "exception": false,
     "start_time": "2021-07-26T02:01:00.834526",
     "status": "completed"
    },
    "tags": []
   },
   "outputs": [],
   "source": [
    "#hide\n",
    "#df_all_mrk = read_api()"
   ]
  },
  {
   "cell_type": "code",
   "execution_count": 9,
   "id": "delayed-adapter",
   "metadata": {
    "execution": {
     "iopub.execute_input": "2021-07-26T02:01:00.908657Z",
     "iopub.status.busy": "2021-07-26T02:01:00.908139Z",
     "iopub.status.idle": "2021-07-26T02:01:00.932621Z",
     "shell.execute_reply": "2021-07-26T02:01:00.932125Z"
    },
    "papermill": {
     "duration": 0.040136,
     "end_time": "2021-07-26T02:01:00.932736",
     "exception": false,
     "start_time": "2021-07-26T02:01:00.892600",
     "status": "completed"
    },
    "tags": []
   },
   "outputs": [],
   "source": [
    "#hide\n",
    "#Koreliacijų koeficientai"
   ]
  },
  {
   "cell_type": "code",
   "execution_count": 10,
   "id": "seeing-celebration",
   "metadata": {
    "execution": {
     "iopub.execute_input": "2021-07-26T02:01:00.965734Z",
     "iopub.status.busy": "2021-07-26T02:01:00.965251Z",
     "iopub.status.idle": "2021-07-26T02:01:00.987329Z",
     "shell.execute_reply": "2021-07-26T02:01:00.987767Z"
    },
    "papermill": {
     "duration": 0.041833,
     "end_time": "2021-07-26T02:01:00.987898",
     "exception": false,
     "start_time": "2021-07-26T02:01:00.946065",
     "status": "completed"
    },
    "tags": []
   },
   "outputs": [],
   "source": [
    "#hide_input\n",
    "#sum_corr = df_all_mrk.corr().sum().sort_values(ascending=True).index.values\n",
    "#df_all_mrk[sum_corr].corr()"
   ]
  },
  {
   "cell_type": "code",
   "execution_count": 11,
   "id": "other-painting",
   "metadata": {
    "execution": {
     "iopub.execute_input": "2021-07-26T02:01:01.017354Z",
     "iopub.status.busy": "2021-07-26T02:01:01.016863Z",
     "iopub.status.idle": "2021-07-26T02:01:01.041511Z",
     "shell.execute_reply": "2021-07-26T02:01:01.041933Z"
    },
    "papermill": {
     "duration": 0.040283,
     "end_time": "2021-07-26T02:01:01.042062",
     "exception": false,
     "start_time": "2021-07-26T02:01:01.001779",
     "status": "completed"
    },
    "tags": []
   },
   "outputs": [],
   "source": [
    "#hide\n",
    "#Koreliacijos matrica. "
   ]
  },
  {
   "cell_type": "code",
   "execution_count": 12,
   "id": "modular-magnitude",
   "metadata": {
    "execution": {
     "iopub.execute_input": "2021-07-26T02:01:01.085282Z",
     "iopub.status.busy": "2021-07-26T02:01:01.077567Z",
     "iopub.status.idle": "2021-07-26T02:01:01.097695Z",
     "shell.execute_reply": "2021-07-26T02:01:01.098091Z"
    },
    "papermill": {
     "duration": 0.042534,
     "end_time": "2021-07-26T02:01:01.098224",
     "exception": false,
     "start_time": "2021-07-26T02:01:01.055690",
     "status": "completed"
    },
    "tags": []
   },
   "outputs": [],
   "source": [
    "#hide_input\n",
    "#plt.figure(figsize=(15, 8))\n",
    "#sns.heatmap(df_all_mrk[sum_corr].corr(), annot=True, cmap=\"BrBG\");\n",
    "#plt.savefig('corr_matrix_all.eps', format='eps')"
   ]
  },
  {
   "cell_type": "code",
   "execution_count": null,
   "id": "original-senator",
   "metadata": {
    "papermill": {
     "duration": 0.012982,
     "end_time": "2021-07-26T02:01:01.124845",
     "exception": false,
     "start_time": "2021-07-26T02:01:01.111863",
     "status": "completed"
    },
    "tags": []
   },
   "outputs": [],
   "source": []
  },
  {
   "cell_type": "code",
   "execution_count": null,
   "id": "saving-secretariat",
   "metadata": {
    "papermill": {
     "duration": 0.012935,
     "end_time": "2021-07-26T02:01:01.150732",
     "exception": false,
     "start_time": "2021-07-26T02:01:01.137797",
     "status": "completed"
    },
    "tags": []
   },
   "outputs": [],
   "source": []
  }
 ],
 "metadata": {
  "kernelspec": {
   "display_name": "Python 3",
   "language": "python",
   "name": "python3"
  },
  "language_info": {
   "codemirror_mode": {
    "name": "ipython",
    "version": 3
   },
   "file_extension": ".py",
   "mimetype": "text/x-python",
   "name": "python",
   "nbconvert_exporter": "python",
   "pygments_lexer": "ipython3",
   "version": "3.6.14"
  },
  "papermill": {
   "default_parameters": {},
   "duration": 19.282316,
   "end_time": "2021-07-26T02:01:02.479208",
   "environment_variables": {},
   "exception": null,
   "input_path": "App-Correlation_charts.ipynb",
   "output_path": "App-Correlation_charts.ipynb",
   "parameters": {},
   "start_time": "2021-07-26T02:00:43.196892",
   "version": "2.2.2"
  }
 },
 "nbformat": 4,
 "nbformat_minor": 5
}