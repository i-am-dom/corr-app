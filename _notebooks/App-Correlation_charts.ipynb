{
 "cells": [
  {
   "cell_type": "markdown",
   "id": "touched-facility",
   "metadata": {
    "papermill": {
     "duration": 0.015377,
     "end_time": "2022-02-10T01:58:38.416343",
     "exception": false,
     "start_time": "2022-02-10T01:58:38.400966",
     "status": "completed"
    },
    "tags": []
   },
   "source": [
    "# Koreliacijų matrica\n",
    "> Išplėstinė koreliacijų matrica. \n",
    "\n",
    "- toc: true \n",
    "- badges: true\n",
    "- comments: false\n",
    "- categories: [Dominykas Tautkus]\n",
    "- image: images/matrix.png"
   ]
  },
  {
   "cell_type": "code",
   "execution_count": null,
   "id": "premium-weekend",
   "metadata": {
    "papermill": {
     "duration": 0.011811,
     "end_time": "2022-02-10T01:58:38.439715",
     "exception": false,
     "start_time": "2022-02-10T01:58:38.427904",
     "status": "completed"
    },
    "tags": []
   },
   "outputs": [],
   "source": []
  },
  {
   "cell_type": "code",
   "execution_count": 1,
   "id": "vertical-rebate",
   "metadata": {
    "execution": {
     "iopub.execute_input": "2022-02-10T01:58:38.471499Z",
     "iopub.status.busy": "2022-02-10T01:58:38.470899Z",
     "iopub.status.idle": "2022-02-10T01:58:38.481801Z",
     "shell.execute_reply": "2022-02-10T01:58:38.481303Z"
    },
    "papermill": {
     "duration": 0.032297,
     "end_time": "2022-02-10T01:58:38.481935",
     "exception": false,
     "start_time": "2022-02-10T01:58:38.449638",
     "status": "completed"
    },
    "tags": []
   },
   "outputs": [],
   "source": [
    "#hide\n",
    "%load_ext autoreload\n",
    "%autoreload 2"
   ]
  },
  {
   "cell_type": "code",
   "execution_count": 2,
   "id": "overall-advancement",
   "metadata": {
    "execution": {
     "iopub.execute_input": "2022-02-10T01:58:38.504729Z",
     "iopub.status.busy": "2022-02-10T01:58:38.504246Z",
     "iopub.status.idle": "2022-02-10T01:58:39.805915Z",
     "shell.execute_reply": "2022-02-10T01:58:39.804908Z"
    },
    "papermill": {
     "duration": 1.314419,
     "end_time": "2022-02-10T01:58:39.806056",
     "exception": false,
     "start_time": "2022-02-10T01:58:38.491637",
     "status": "completed"
    },
    "tags": []
   },
   "outputs": [],
   "source": [
    "#hide\n",
    "from scripts.read_data import read_api\n",
    "from IPython.display import HTML\n",
    "import plotly.graph_objects as go\n"
   ]
  },
  {
   "cell_type": "code",
   "execution_count": 3,
   "id": "light-crazy",
   "metadata": {
    "execution": {
     "iopub.execute_input": "2022-02-10T01:58:39.832351Z",
     "iopub.status.busy": "2022-02-10T01:58:39.831852Z",
     "iopub.status.idle": "2022-02-10T01:58:39.854489Z",
     "shell.execute_reply": "2022-02-10T01:58:39.853910Z"
    },
    "papermill": {
     "duration": 0.037755,
     "end_time": "2022-02-10T01:58:39.854615",
     "exception": false,
     "start_time": "2022-02-10T01:58:39.816860",
     "status": "completed"
    },
    "tags": []
   },
   "outputs": [],
   "source": [
    "#hide\n",
    "### ICO koreliacija"
   ]
  },
  {
   "cell_type": "code",
   "execution_count": 4,
   "id": "likely-bahrain",
   "metadata": {
    "execution": {
     "iopub.execute_input": "2022-02-10T01:58:39.882765Z",
     "iopub.status.busy": "2022-02-10T01:58:39.882178Z",
     "iopub.status.idle": "2022-02-10T01:58:40.843291Z",
     "shell.execute_reply": "2022-02-10T01:58:40.842408Z"
    },
    "papermill": {
     "duration": 0.976909,
     "end_time": "2022-02-10T01:58:40.843506",
     "exception": false,
     "start_time": "2022-02-10T01:58:39.866597",
     "status": "completed"
    },
    "tags": []
   },
   "outputs": [],
   "source": [
    "#hide\n",
    "import matplotlib.pyplot as plt\n",
    "import numpy as np\n",
    "import pandas as pd\n",
    "import seaborn as sns\n",
    "import matplotlib.pyplot as plt \n",
    "import matplotlib.dates as mdates\n",
    "import matplotlib.pyplot as plt"
   ]
  },
  {
   "cell_type": "code",
   "execution_count": 5,
   "id": "superior-blanket",
   "metadata": {
    "execution": {
     "iopub.execute_input": "2022-02-10T01:58:40.880833Z",
     "iopub.status.busy": "2022-02-10T01:58:40.879662Z",
     "iopub.status.idle": "2022-02-10T01:58:55.493841Z",
     "shell.execute_reply": "2022-02-10T01:58:55.492918Z"
    },
    "papermill": {
     "duration": 14.637059,
     "end_time": "2022-02-10T01:58:55.494061",
     "exception": false,
     "start_time": "2022-02-10T01:58:40.857002",
     "status": "completed"
    },
    "tags": []
   },
   "outputs": [
    {
     "name": "stderr",
     "output_type": "stream",
     "text": [
      "/home/runner/work/corr-app/corr-app/_notebooks/scripts/read_data.py:187: SettingWithCopyWarning:\n",
      "\n",
      "\n",
      "A value is trying to be set on a copy of a slice from a DataFrame.\n",
      "Try using .loc[row_indexer,col_indexer] = value instead\n",
      "\n",
      "See the caveats in the documentation: https://pandas.pydata.org/pandas-docs/stable/user_guide/indexing.html#returning-a-view-versus-a-copy\n",
      "\n"
     ]
    },
    {
     "name": "stderr",
     "output_type": "stream",
     "text": [
      "/home/runner/work/corr-app/corr-app/_notebooks/scripts/read_data.py:215: SettingWithCopyWarning:\n",
      "\n",
      "\n",
      "A value is trying to be set on a copy of a slice from a DataFrame.\n",
      "Try using .loc[row_indexer,col_indexer] = value instead\n",
      "\n",
      "See the caveats in the documentation: https://pandas.pydata.org/pandas-docs/stable/user_guide/indexing.html#returning-a-view-versus-a-copy\n",
      "\n"
     ]
    }
   ],
   "source": [
    "#hide\n",
    "df_all = read_api()\n",
    "#df_all = df_all.drop(['SP500', 'XAU', 'ETH', 'BTC'], axis=1)\n",
    "\n"
   ]
  },
  {
   "cell_type": "code",
   "execution_count": 6,
   "id": "mature-alert",
   "metadata": {
    "execution": {
     "iopub.execute_input": "2022-02-10T01:58:55.526687Z",
     "iopub.status.busy": "2022-02-10T01:58:55.526108Z",
     "iopub.status.idle": "2022-02-10T01:58:55.560508Z",
     "shell.execute_reply": "2022-02-10T01:58:55.559764Z"
    },
    "papermill": {
     "duration": 0.051222,
     "end_time": "2022-02-10T01:58:55.560688",
     "exception": false,
     "start_time": "2022-02-10T01:58:55.509466",
     "status": "completed"
    },
    "tags": []
   },
   "outputs": [],
   "source": [
    "#hide_input\n",
    "sum_corr = df_all.corr().sum().sort_values(ascending=True).index.values\n",
    "#df_all[sum_corr].corr()"
   ]
  },
  {
   "cell_type": "markdown",
   "id": "complex-syndicate",
   "metadata": {
    "papermill": {
     "duration": 0.011763,
     "end_time": "2022-02-10T01:58:55.584205",
     "exception": false,
     "start_time": "2022-02-10T01:58:55.572442",
     "status": "completed"
    },
    "tags": []
   },
   "source": [
    "## Išplėstinė koreliacijų matrica. "
   ]
  },
  {
   "cell_type": "code",
   "execution_count": 7,
   "id": "atomic-omaha",
   "metadata": {
    "execution": {
     "iopub.execute_input": "2022-02-10T01:58:55.612149Z",
     "iopub.status.busy": "2022-02-10T01:58:55.611673Z",
     "iopub.status.idle": "2022-02-10T01:58:56.959984Z",
     "shell.execute_reply": "2022-02-10T01:58:56.959506Z"
    },
    "papermill": {
     "duration": 1.364547,
     "end_time": "2022-02-10T01:58:56.960095",
     "exception": false,
     "start_time": "2022-02-10T01:58:55.595548",
     "status": "completed"
    },
    "tags": []
   },
   "outputs": [
    {
     "data": {
      "image/png": "[encoded data removed]",
      "text/plain": [
       "<Figure size 1080x792 with 2 Axes>"
      ]
     },
     "metadata": {
      "needs_background": "light"
     },
     "output_type": "display_data"
    }
   ],
   "source": [
    "#hide_input\n",
    "plt.figure(figsize=(15, 11))\n",
    "sns.heatmap(df_all[sum_corr].corr(), annot=True, cmap=\"cubehelix\") \n",
    "sns.set(font_scale=1.25)\n",
    "plt.savefig('corr_matrix.png', format='eps')"
   ]
  },
  {
   "cell_type": "code",
   "execution_count": 8,
   "id": "arbitrary-sullivan",
   "metadata": {
    "execution": {
     "iopub.execute_input": "2022-02-10T01:58:56.990922Z",
     "iopub.status.busy": "2022-02-10T01:58:56.990358Z",
     "iopub.status.idle": "2022-02-10T01:58:57.018923Z",
     "shell.execute_reply": "2022-02-10T01:58:57.019404Z"
    },
    "papermill": {
     "duration": 0.046036,
     "end_time": "2022-02-10T01:58:57.019550",
     "exception": false,
     "start_time": "2022-02-10T01:58:56.973514",
     "status": "completed"
    },
    "tags": []
   },
   "outputs": [],
   "source": [
    "#hide\n",
    "#df_all_mrk = read_api()"
   ]
  },
  {
   "cell_type": "code",
   "execution_count": 9,
   "id": "delayed-adapter",
   "metadata": {
    "execution": {
     "iopub.execute_input": "2022-02-10T01:58:57.050785Z",
     "iopub.status.busy": "2022-02-10T01:58:57.050188Z",
     "iopub.status.idle": "2022-02-10T01:58:57.079280Z",
     "shell.execute_reply": "2022-02-10T01:58:57.079771Z"
    },
    "papermill": {
     "duration": 0.04669,
     "end_time": "2022-02-10T01:58:57.079917",
     "exception": false,
     "start_time": "2022-02-10T01:58:57.033227",
     "status": "completed"
    },
    "tags": []
   },
   "outputs": [],
   "source": [
    "#hide\n",
    "#Koreliacijų koeficientai"
   ]
  },
  {
   "cell_type": "code",
   "execution_count": 10,
   "id": "seeing-celebration",
   "metadata": {
    "execution": {
     "iopub.execute_input": "2022-02-10T01:58:57.113874Z",
     "iopub.status.busy": "2022-02-10T01:58:57.113275Z",
     "iopub.status.idle": "2022-02-10T01:58:57.141764Z",
     "shell.execute_reply": "2022-02-10T01:58:57.140921Z"
    },
    "papermill": {
     "duration": 0.046729,
     "end_time": "2022-02-10T01:58:57.141922",
     "exception": false,
     "start_time": "2022-02-10T01:58:57.095193",
     "status": "completed"
    },
    "tags": []
   },
   "outputs": [],
   "source": [
    "#hide_input\n",
    "#sum_corr = df_all_mrk.corr().sum().sort_values(ascending=True).index.values\n",
    "#df_all_mrk[sum_corr].corr()"
   ]
  },
  {
   "cell_type": "code",
   "execution_count": 11,
   "id": "other-painting",
   "metadata": {
    "execution": {
     "iopub.execute_input": "2022-02-10T01:58:57.174698Z",
     "iopub.status.busy": "2022-02-10T01:58:57.174115Z",
     "iopub.status.idle": "2022-02-10T01:58:57.203329Z",
     "shell.execute_reply": "2022-02-10T01:58:57.202849Z"
    },
    "papermill": {
     "duration": 0.046775,
     "end_time": "2022-02-10T01:58:57.203449",
     "exception": false,
     "start_time": "2022-02-10T01:58:57.156674",
     "status": "completed"
    },
    "tags": []
   },
   "outputs": [],
   "source": [
    "#hide\n",
    "#Koreliacijos matrica. "
   ]
  },
  {
   "cell_type": "code",
   "execution_count": 12,
   "id": "modular-magnitude",
   "metadata": {
    "execution": {
     "iopub.execute_input": "2022-02-10T01:58:57.236956Z",
     "iopub.status.busy": "2022-02-10T01:58:57.236356Z",
     "iopub.status.idle": "2022-02-10T01:58:57.264351Z",
     "shell.execute_reply": "2022-02-10T01:58:57.263736Z"
    },
    "papermill": {
     "duration": 0.045454,
     "end_time": "2022-02-10T01:58:57.264496",
     "exception": false,
     "start_time": "2022-02-10T01:58:57.219042",
     "status": "completed"
    },
    "tags": []
   },
   "outputs": [],
   "source": [
    "#hide_input\n",
    "#plt.figure(figsize=(15, 8))\n",
    "#sns.heatmap(df_all_mrk[sum_corr].corr(), annot=True, cmap=\"BrBG\");\n",
    "#plt.savefig('corr_matrix_all.eps', format='eps')"
   ]
  },
  {
   "cell_type": "code",
   "execution_count": null,
   "id": "original-senator",
   "metadata": {
    "papermill": {
     "duration": 0.014262,
     "end_time": "2022-02-10T01:58:57.294004",
     "exception": false,
     "start_time": "2022-02-10T01:58:57.279742",
     "status": "completed"
    },
    "tags": []
   },
   "outputs": [],
   "source": []
  },
  {
   "cell_type": "code",
   "execution_count": null,
   "id": "saving-secretariat",
   "metadata": {
    "papermill": {
     "duration": 0.014688,
     "end_time": "2022-02-10T01:58:57.323526",
     "exception": false,
     "start_time": "2022-02-10T01:58:57.308838",
     "status": "completed"
    },
    "tags": []
   },
   "outputs": [],
   "source": []
  }
 ],
 "metadata": {
  "kernelspec": {
   "display_name": "Python 3",
   "language": "python",
   "name": "python3"
  },
  "language_info": {
   "codemirror_mode": {
    "name": "ipython",
    "version": 3
   },
   "file_extension": ".py",
   "mimetype": "text/x-python",
   "name": "python",
   "nbconvert_exporter": "python",
   "pygments_lexer": "ipython3",
   "version": "3.6.15"
  },
  "papermill": {
   "default_parameters": {},
   "duration": 20.728302,
   "end_time": "2022-02-10T01:58:57.858762",
   "environment_variables": {},
   "exception": null,
   "input_path": "App-Correlation_charts.ipynb",
   "output_path": "App-Correlation_charts.ipynb",
   "parameters": {},
   "start_time": "2022-02-10T01:58:37.130460",
   "version": "2.2.2"
  }
 },
 "nbformat": 4,
 "nbformat_minor": 5
}