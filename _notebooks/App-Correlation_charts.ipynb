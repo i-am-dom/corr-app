{
 "cells": [
  {
   "cell_type": "markdown",
   "id": "touched-facility",
   "metadata": {
    "papermill": {
     "duration": 0.014381,
     "end_time": "2022-05-29T03:07:31.982591",
     "exception": false,
     "start_time": "2022-05-29T03:07:31.968210",
     "status": "completed"
    },
    "tags": []
   },
   "source": [
    "# Koreliacijų matrica\n",
    "> Išplėstinė koreliacijų matrica. \n",
    "\n",
    "- toc: true \n",
    "- badges: true\n",
    "- comments: false\n",
    "- categories: [Dominykas Tautkus]\n",
    "- image: images/matrix.png"
   ]
  },
  {
   "cell_type": "code",
   "execution_count": null,
   "id": "premium-weekend",
   "metadata": {
    "papermill": {
     "duration": 0.010643,
     "end_time": "2022-05-29T03:07:32.004634",
     "exception": false,
     "start_time": "2022-05-29T03:07:31.993991",
     "status": "completed"
    },
    "tags": []
   },
   "outputs": [],
   "source": []
  },
  {
   "cell_type": "code",
   "execution_count": 1,
   "id": "vertical-rebate",
   "metadata": {
    "execution": {
     "iopub.execute_input": "2022-05-29T03:07:32.036993Z",
     "iopub.status.busy": "2022-05-29T03:07:32.036382Z",
     "iopub.status.idle": "2022-05-29T03:07:32.047517Z",
     "shell.execute_reply": "2022-05-29T03:07:32.047012Z"
    },
    "papermill": {
     "duration": 0.032339,
     "end_time": "2022-05-29T03:07:32.047647",
     "exception": false,
     "start_time": "2022-05-29T03:07:32.015308",
     "status": "completed"
    },
    "tags": []
   },
   "outputs": [],
   "source": [
    "#hide\n",
    "%load_ext autoreload\n",
    "%autoreload 2"
   ]
  },
  {
   "cell_type": "code",
   "execution_count": 2,
   "id": "overall-advancement",
   "metadata": {
    "execution": {
     "iopub.execute_input": "2022-05-29T03:07:32.079712Z",
     "iopub.status.busy": "2022-05-29T03:07:32.079070Z",
     "iopub.status.idle": "2022-05-29T03:07:33.417685Z",
     "shell.execute_reply": "2022-05-29T03:07:33.416624Z"
    },
    "papermill": {
     "duration": 1.359341,
     "end_time": "2022-05-29T03:07:33.417842",
     "exception": false,
     "start_time": "2022-05-29T03:07:32.058501",
     "status": "completed"
    },
    "tags": []
   },
   "outputs": [],
   "source": [
    "#hide\n",
    "from scripts.read_data import read_api\n",
    "from IPython.display import HTML\n",
    "import plotly.graph_objects as go\n"
   ]
  },
  {
   "cell_type": "code",
   "execution_count": 3,
   "id": "light-crazy",
   "metadata": {
    "execution": {
     "iopub.execute_input": "2022-05-29T03:07:33.445293Z",
     "iopub.status.busy": "2022-05-29T03:07:33.444693Z",
     "iopub.status.idle": "2022-05-29T03:07:33.468956Z",
     "shell.execute_reply": "2022-05-29T03:07:33.468374Z"
    },
    "papermill": {
     "duration": 0.040068,
     "end_time": "2022-05-29T03:07:33.469087",
     "exception": false,
     "start_time": "2022-05-29T03:07:33.429019",
     "status": "completed"
    },
    "tags": []
   },
   "outputs": [],
   "source": [
    "#hide\n",
    "### ICO koreliacija"
   ]
  },
  {
   "cell_type": "code",
   "execution_count": 4,
   "id": "likely-bahrain",
   "metadata": {
    "execution": {
     "iopub.execute_input": "2022-05-29T03:07:33.501268Z",
     "iopub.status.busy": "2022-05-29T03:07:33.500638Z",
     "iopub.status.idle": "2022-05-29T03:07:34.398999Z",
     "shell.execute_reply": "2022-05-29T03:07:34.398410Z"
    },
    "papermill": {
     "duration": 0.919163,
     "end_time": "2022-05-29T03:07:34.399150",
     "exception": false,
     "start_time": "2022-05-29T03:07:33.479987",
     "status": "completed"
    },
    "tags": []
   },
   "outputs": [],
   "source": [
    "#hide\n",
    "import matplotlib.pyplot as plt\n",
    "import numpy as np\n",
    "import pandas as pd\n",
    "import seaborn as sns\n",
    "import matplotlib.pyplot as plt \n",
    "import matplotlib.dates as mdates\n",
    "import matplotlib.pyplot as plt"
   ]
  },
  {
   "cell_type": "code",
   "execution_count": 5,
   "id": "superior-blanket",
   "metadata": {
    "execution": {
     "iopub.execute_input": "2022-05-29T03:07:34.440512Z",
     "iopub.status.busy": "2022-05-29T03:07:34.439015Z",
     "iopub.status.idle": "2022-05-29T03:07:46.450959Z",
     "shell.execute_reply": "2022-05-29T03:07:46.450382Z"
    },
    "papermill": {
     "duration": 12.040045,
     "end_time": "2022-05-29T03:07:46.451085",
     "exception": false,
     "start_time": "2022-05-29T03:07:34.411040",
     "status": "completed"
    },
    "tags": []
   },
   "outputs": [
    {
     "name": "stderr",
     "output_type": "stream",
     "text": [
      "/home/runner/work/corr-app/corr-app/_notebooks/scripts/read_data.py:187: SettingWithCopyWarning:\n",
      "\n",
      "\n",
      "A value is trying to be set on a copy of a slice from a DataFrame.\n",
      "Try using .loc[row_indexer,col_indexer] = value instead\n",
      "\n",
      "See the caveats in the documentation: https://pandas.pydata.org/pandas-docs/stable/user_guide/indexing.html#returning-a-view-versus-a-copy\n",
      "\n"
     ]
    },
    {
     "name": "stderr",
     "output_type": "stream",
     "text": [
      "/home/runner/work/corr-app/corr-app/_notebooks/scripts/read_data.py:215: SettingWithCopyWarning:\n",
      "\n",
      "\n",
      "A value is trying to be set on a copy of a slice from a DataFrame.\n",
      "Try using .loc[row_indexer,col_indexer] = value instead\n",
      "\n",
      "See the caveats in the documentation: https://pandas.pydata.org/pandas-docs/stable/user_guide/indexing.html#returning-a-view-versus-a-copy\n",
      "\n"
     ]
    }
   ],
   "source": [
    "#hide\n",
    "df_all = read_api()\n",
    "#df_all = df_all.drop(['SP500', 'XAU', 'ETH', 'BTC'], axis=1)\n",
    "\n"
   ]
  },
  {
   "cell_type": "code",
   "execution_count": 6,
   "id": "mature-alert",
   "metadata": {
    "execution": {
     "iopub.execute_input": "2022-05-29T03:07:46.478282Z",
     "iopub.status.busy": "2022-05-29T03:07:46.477653Z",
     "iopub.status.idle": "2022-05-29T03:07:46.508260Z",
     "shell.execute_reply": "2022-05-29T03:07:46.507763Z"
    },
    "papermill": {
     "duration": 0.04577,
     "end_time": "2022-05-29T03:07:46.508381",
     "exception": false,
     "start_time": "2022-05-29T03:07:46.462611",
     "status": "completed"
    },
    "tags": []
   },
   "outputs": [],
   "source": [
    "#hide_input\n",
    "sum_corr = df_all.corr().sum().sort_values(ascending=True).index.values\n",
    "#df_all[sum_corr].corr()"
   ]
  },
  {
   "cell_type": "markdown",
   "id": "complex-syndicate",
   "metadata": {
    "papermill": {
     "duration": 0.012165,
     "end_time": "2022-05-29T03:07:46.531713",
     "exception": false,
     "start_time": "2022-05-29T03:07:46.519548",
     "status": "completed"
    },
    "tags": []
   },
   "source": [
    "## Išplėstinė koreliacijų matrica. "
   ]
  },
  {
   "cell_type": "code",
   "execution_count": 7,
   "id": "atomic-omaha",
   "metadata": {
    "execution": {
     "iopub.execute_input": "2022-05-29T03:07:46.557954Z",
     "iopub.status.busy": "2022-05-29T03:07:46.557385Z",
     "iopub.status.idle": "2022-05-29T03:07:47.748758Z",
     "shell.execute_reply": "2022-05-29T03:07:47.749191Z"
    },
    "papermill": {
     "duration": 1.206592,
     "end_time": "2022-05-29T03:07:47.749340",
     "exception": false,
     "start_time": "2022-05-29T03:07:46.542748",
     "status": "completed"
    },
    "tags": []
   },
   "outputs": [
    {
     "data": {
      "image/png": "[encoded data removed]",
      "text/plain": [
       "<Figure size 1080x792 with 2 Axes>"
      ]
     },
     "metadata": {
      "needs_background": "light"
     },
     "output_type": "display_data"
    }
   ],
   "source": [
    "#hide_input\n",
    "plt.figure(figsize=(15, 11))\n",
    "sns.heatmap(df_all[sum_corr].corr(), annot=True, cmap=\"cubehelix\") \n",
    "sns.set(font_scale=1.25)\n",
    "plt.savefig('corr_matrix.png', format='eps')"
   ]
  },
  {
   "cell_type": "code",
   "execution_count": 8,
   "id": "arbitrary-sullivan",
   "metadata": {
    "execution": {
     "iopub.execute_input": "2022-05-29T03:07:47.782993Z",
     "iopub.status.busy": "2022-05-29T03:07:47.778703Z",
     "iopub.status.idle": "2022-05-29T03:07:47.806400Z",
     "shell.execute_reply": "2022-05-29T03:07:47.805801Z"
    },
    "papermill": {
     "duration": 0.043723,
     "end_time": "2022-05-29T03:07:47.806527",
     "exception": false,
     "start_time": "2022-05-29T03:07:47.762804",
     "status": "completed"
    },
    "tags": []
   },
   "outputs": [],
   "source": [
    "#hide\n",
    "#df_all_mrk = read_api()"
   ]
  },
  {
   "cell_type": "code",
   "execution_count": 9,
   "id": "delayed-adapter",
   "metadata": {
    "execution": {
     "iopub.execute_input": "2022-05-29T03:07:47.837934Z",
     "iopub.status.busy": "2022-05-29T03:07:47.837360Z",
     "iopub.status.idle": "2022-05-29T03:07:47.865463Z",
     "shell.execute_reply": "2022-05-29T03:07:47.864773Z"
    },
    "papermill": {
     "duration": 0.043993,
     "end_time": "2022-05-29T03:07:47.865576",
     "exception": false,
     "start_time": "2022-05-29T03:07:47.821583",
     "status": "completed"
    },
    "tags": []
   },
   "outputs": [],
   "source": [
    "#hide\n",
    "#Koreliacijų koeficientai"
   ]
  },
  {
   "cell_type": "code",
   "execution_count": 10,
   "id": "seeing-celebration",
   "metadata": {
    "execution": {
     "iopub.execute_input": "2022-05-29T03:07:47.896570Z",
     "iopub.status.busy": "2022-05-29T03:07:47.895966Z",
     "iopub.status.idle": "2022-05-29T03:07:47.923534Z",
     "shell.execute_reply": "2022-05-29T03:07:47.922970Z"
    },
    "papermill": {
     "duration": 0.044686,
     "end_time": "2022-05-29T03:07:47.923673",
     "exception": false,
     "start_time": "2022-05-29T03:07:47.878987",
     "status": "completed"
    },
    "tags": []
   },
   "outputs": [],
   "source": [
    "#hide_input\n",
    "#sum_corr = df_all_mrk.corr().sum().sort_values(ascending=True).index.values\n",
    "#df_all_mrk[sum_corr].corr()"
   ]
  },
  {
   "cell_type": "code",
   "execution_count": 11,
   "id": "other-painting",
   "metadata": {
    "execution": {
     "iopub.execute_input": "2022-05-29T03:07:47.955335Z",
     "iopub.status.busy": "2022-05-29T03:07:47.954755Z",
     "iopub.status.idle": "2022-05-29T03:07:47.981258Z",
     "shell.execute_reply": "2022-05-29T03:07:47.980678Z"
    },
    "papermill": {
     "duration": 0.04417,
     "end_time": "2022-05-29T03:07:47.981385",
     "exception": false,
     "start_time": "2022-05-29T03:07:47.937215",
     "status": "completed"
    },
    "tags": []
   },
   "outputs": [],
   "source": [
    "#hide\n",
    "#Koreliacijos matrica. "
   ]
  },
  {
   "cell_type": "code",
   "execution_count": 12,
   "id": "modular-magnitude",
   "metadata": {
    "execution": {
     "iopub.execute_input": "2022-05-29T03:07:48.020426Z",
     "iopub.status.busy": "2022-05-29T03:07:48.019838Z",
     "iopub.status.idle": "2022-05-29T03:07:48.042438Z",
     "shell.execute_reply": "2022-05-29T03:07:48.041845Z"
    },
    "papermill": {
     "duration": 0.047007,
     "end_time": "2022-05-29T03:07:48.042570",
     "exception": false,
     "start_time": "2022-05-29T03:07:47.995563",
     "status": "completed"
    },
    "tags": []
   },
   "outputs": [],
   "source": [
    "#hide_input\n",
    "#plt.figure(figsize=(15, 8))\n",
    "#sns.heatmap(df_all_mrk[sum_corr].corr(), annot=True, cmap=\"BrBG\");\n",
    "#plt.savefig('corr_matrix_all.eps', format='eps')"
   ]
  },
  {
   "cell_type": "code",
   "execution_count": null,
   "id": "original-senator",
   "metadata": {
    "papermill": {
     "duration": 0.012989,
     "end_time": "2022-05-29T03:07:48.069519",
     "exception": false,
     "start_time": "2022-05-29T03:07:48.056530",
     "status": "completed"
    },
    "tags": []
   },
   "outputs": [],
   "source": []
  },
  {
   "cell_type": "code",
   "execution_count": null,
   "id": "saving-secretariat",
   "metadata": {
    "papermill": {
     "duration": 0.012901,
     "end_time": "2022-05-29T03:07:48.095431",
     "exception": false,
     "start_time": "2022-05-29T03:07:48.082530",
     "status": "completed"
    },
    "tags": []
   },
   "outputs": [],
   "source": []
  }
 ],
 "metadata": {
  "kernelspec": {
   "display_name": "Python 3",
   "language": "python",
   "name": "python3"
  },
  "language_info": {
   "codemirror_mode": {
    "name": "ipython",
    "version": 3
   },
   "file_extension": ".py",
   "mimetype": "text/x-python",
   "name": "python",
   "nbconvert_exporter": "python",
   "pygments_lexer": "ipython3",
   "version": "3.6.15"
  },
  "papermill": {
   "default_parameters": {},
   "duration": 17.590613,
   "end_time": "2022-05-29T03:07:48.628188",
   "environment_variables": {},
   "exception": null,
   "input_path": "App-Correlation_charts.ipynb",
   "output_path": "App-Correlation_charts.ipynb",
   "parameters": {},
   "start_time": "2022-05-29T03:07:31.037575",
   "version": "2.2.2"
  }
 },
 "nbformat": 4,
 "nbformat_minor": 5
}