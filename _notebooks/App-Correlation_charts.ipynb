{
 "cells": [
  {
   "cell_type": "markdown",
   "id": "touched-facility",
   "metadata": {
    "papermill": {
     "duration": 0.015535,
     "end_time": "2022-05-22T02:47:36.614889",
     "exception": false,
     "start_time": "2022-05-22T02:47:36.599354",
     "status": "completed"
    },
    "tags": []
   },
   "source": [
    "# Koreliacijų matrica\n",
    "> Išplėstinė koreliacijų matrica. \n",
    "\n",
    "- toc: true \n",
    "- badges: true\n",
    "- comments: false\n",
    "- categories: [Dominykas Tautkus]\n",
    "- image: images/matrix.png"
   ]
  },
  {
   "cell_type": "code",
   "execution_count": null,
   "id": "premium-weekend",
   "metadata": {
    "papermill": {
     "duration": 0.010641,
     "end_time": "2022-05-22T02:47:36.636969",
     "exception": false,
     "start_time": "2022-05-22T02:47:36.626328",
     "status": "completed"
    },
    "tags": []
   },
   "outputs": [],
   "source": []
  },
  {
   "cell_type": "code",
   "execution_count": 1,
   "id": "vertical-rebate",
   "metadata": {
    "execution": {
     "iopub.execute_input": "2022-05-22T02:47:36.668607Z",
     "iopub.status.busy": "2022-05-22T02:47:36.668017Z",
     "iopub.status.idle": "2022-05-22T02:47:36.678897Z",
     "shell.execute_reply": "2022-05-22T02:47:36.678402Z"
    },
    "papermill": {
     "duration": 0.031386,
     "end_time": "2022-05-22T02:47:36.679019",
     "exception": false,
     "start_time": "2022-05-22T02:47:36.647633",
     "status": "completed"
    },
    "tags": []
   },
   "outputs": [],
   "source": [
    "#hide\n",
    "%load_ext autoreload\n",
    "%autoreload 2"
   ]
  },
  {
   "cell_type": "code",
   "execution_count": 2,
   "id": "overall-advancement",
   "metadata": {
    "execution": {
     "iopub.execute_input": "2022-05-22T02:47:36.703810Z",
     "iopub.status.busy": "2022-05-22T02:47:36.703242Z",
     "iopub.status.idle": "2022-05-22T02:47:37.910925Z",
     "shell.execute_reply": "2022-05-22T02:47:37.909984Z"
    },
    "papermill": {
     "duration": 1.221416,
     "end_time": "2022-05-22T02:47:37.911065",
     "exception": false,
     "start_time": "2022-05-22T02:47:36.689649",
     "status": "completed"
    },
    "tags": []
   },
   "outputs": [],
   "source": [
    "#hide\n",
    "from scripts.read_data import read_api\n",
    "from IPython.display import HTML\n",
    "import plotly.graph_objects as go\n"
   ]
  },
  {
   "cell_type": "code",
   "execution_count": 3,
   "id": "light-crazy",
   "metadata": {
    "execution": {
     "iopub.execute_input": "2022-05-22T02:47:37.937821Z",
     "iopub.status.busy": "2022-05-22T02:47:37.937177Z",
     "iopub.status.idle": "2022-05-22T02:47:37.962071Z",
     "shell.execute_reply": "2022-05-22T02:47:37.961445Z"
    },
    "papermill": {
     "duration": 0.039902,
     "end_time": "2022-05-22T02:47:37.962196",
     "exception": false,
     "start_time": "2022-05-22T02:47:37.922294",
     "status": "completed"
    },
    "tags": []
   },
   "outputs": [],
   "source": [
    "#hide\n",
    "### ICO koreliacija"
   ]
  },
  {
   "cell_type": "code",
   "execution_count": 4,
   "id": "likely-bahrain",
   "metadata": {
    "execution": {
     "iopub.execute_input": "2022-05-22T02:47:37.987545Z",
     "iopub.status.busy": "2022-05-22T02:47:37.986972Z",
     "iopub.status.idle": "2022-05-22T02:47:38.858474Z",
     "shell.execute_reply": "2022-05-22T02:47:38.857746Z"
    },
    "papermill": {
     "duration": 0.885614,
     "end_time": "2022-05-22T02:47:38.858608",
     "exception": false,
     "start_time": "2022-05-22T02:47:37.972994",
     "status": "completed"
    },
    "tags": []
   },
   "outputs": [],
   "source": [
    "#hide\n",
    "import matplotlib.pyplot as plt\n",
    "import numpy as np\n",
    "import pandas as pd\n",
    "import seaborn as sns\n",
    "import matplotlib.pyplot as plt \n",
    "import matplotlib.dates as mdates\n",
    "import matplotlib.pyplot as plt"
   ]
  },
  {
   "cell_type": "code",
   "execution_count": 5,
   "id": "superior-blanket",
   "metadata": {
    "execution": {
     "iopub.execute_input": "2022-05-22T02:47:38.883370Z",
     "iopub.status.busy": "2022-05-22T02:47:38.882805Z",
     "iopub.status.idle": "2022-05-22T02:47:50.130498Z",
     "shell.execute_reply": "2022-05-22T02:47:50.129867Z"
    },
    "papermill": {
     "duration": 11.260988,
     "end_time": "2022-05-22T02:47:50.130620",
     "exception": false,
     "start_time": "2022-05-22T02:47:38.869632",
     "status": "completed"
    },
    "tags": []
   },
   "outputs": [
    {
     "name": "stderr",
     "output_type": "stream",
     "text": [
      "/home/runner/work/corr-app/corr-app/_notebooks/scripts/read_data.py:187: SettingWithCopyWarning:\n",
      "\n",
      "\n",
      "A value is trying to be set on a copy of a slice from a DataFrame.\n",
      "Try using .loc[row_indexer,col_indexer] = value instead\n",
      "\n",
      "See the caveats in the documentation: https://pandas.pydata.org/pandas-docs/stable/user_guide/indexing.html#returning-a-view-versus-a-copy\n",
      "\n"
     ]
    },
    {
     "name": "stderr",
     "output_type": "stream",
     "text": [
      "/home/runner/work/corr-app/corr-app/_notebooks/scripts/read_data.py:215: SettingWithCopyWarning:\n",
      "\n",
      "\n",
      "A value is trying to be set on a copy of a slice from a DataFrame.\n",
      "Try using .loc[row_indexer,col_indexer] = value instead\n",
      "\n",
      "See the caveats in the documentation: https://pandas.pydata.org/pandas-docs/stable/user_guide/indexing.html#returning-a-view-versus-a-copy\n",
      "\n"
     ]
    }
   ],
   "source": [
    "#hide\n",
    "df_all = read_api()\n",
    "#df_all = df_all.drop(['SP500', 'XAU', 'ETH', 'BTC'], axis=1)\n",
    "\n"
   ]
  },
  {
   "cell_type": "code",
   "execution_count": 6,
   "id": "mature-alert",
   "metadata": {
    "execution": {
     "iopub.execute_input": "2022-05-22T02:47:50.158182Z",
     "iopub.status.busy": "2022-05-22T02:47:50.157565Z",
     "iopub.status.idle": "2022-05-22T02:47:50.188453Z",
     "shell.execute_reply": "2022-05-22T02:47:50.187938Z"
    },
    "papermill": {
     "duration": 0.046398,
     "end_time": "2022-05-22T02:47:50.188570",
     "exception": false,
     "start_time": "2022-05-22T02:47:50.142172",
     "status": "completed"
    },
    "tags": []
   },
   "outputs": [],
   "source": [
    "#hide_input\n",
    "sum_corr = df_all.corr().sum().sort_values(ascending=True).index.values\n",
    "#df_all[sum_corr].corr()"
   ]
  },
  {
   "cell_type": "markdown",
   "id": "complex-syndicate",
   "metadata": {
    "papermill": {
     "duration": 0.012135,
     "end_time": "2022-05-22T02:47:50.211984",
     "exception": false,
     "start_time": "2022-05-22T02:47:50.199849",
     "status": "completed"
    },
    "tags": []
   },
   "source": [
    "## Išplėstinė koreliacijų matrica. "
   ]
  },
  {
   "cell_type": "code",
   "execution_count": 7,
   "id": "atomic-omaha",
   "metadata": {
    "execution": {
     "iopub.execute_input": "2022-05-22T02:47:50.238428Z",
     "iopub.status.busy": "2022-05-22T02:47:50.237835Z",
     "iopub.status.idle": "2022-05-22T02:47:51.456896Z",
     "shell.execute_reply": "2022-05-22T02:47:51.456424Z"
    },
    "papermill": {
     "duration": 1.233915,
     "end_time": "2022-05-22T02:47:51.457017",
     "exception": false,
     "start_time": "2022-05-22T02:47:50.223102",
     "status": "completed"
    },
    "tags": []
   },
   "outputs": [
    {
     "data": {
      "image/png": "[encoded data removed]",
      "text/plain": [
       "<Figure size 1080x792 with 2 Axes>"
      ]
     },
     "metadata": {
      "needs_background": "light"
     },
     "output_type": "display_data"
    }
   ],
   "source": [
    "#hide_input\n",
    "plt.figure(figsize=(15, 11))\n",
    "sns.heatmap(df_all[sum_corr].corr(), annot=True, cmap=\"cubehelix\") \n",
    "sns.set(font_scale=1.25)\n",
    "plt.savefig('corr_matrix.png', format='eps')"
   ]
  },
  {
   "cell_type": "code",
   "execution_count": 8,
   "id": "arbitrary-sullivan",
   "metadata": {
    "execution": {
     "iopub.execute_input": "2022-05-22T02:47:51.498487Z",
     "iopub.status.busy": "2022-05-22T02:47:51.497568Z",
     "iopub.status.idle": "2022-05-22T02:47:51.518023Z",
     "shell.execute_reply": "2022-05-22T02:47:51.517078Z"
    },
    "papermill": {
     "duration": 0.047606,
     "end_time": "2022-05-22T02:47:51.518142",
     "exception": false,
     "start_time": "2022-05-22T02:47:51.470536",
     "status": "completed"
    },
    "tags": []
   },
   "outputs": [],
   "source": [
    "#hide\n",
    "#df_all_mrk = read_api()"
   ]
  },
  {
   "cell_type": "code",
   "execution_count": 9,
   "id": "delayed-adapter",
   "metadata": {
    "execution": {
     "iopub.execute_input": "2022-05-22T02:47:51.550114Z",
     "iopub.status.busy": "2022-05-22T02:47:51.549004Z",
     "iopub.status.idle": "2022-05-22T02:47:51.575928Z",
     "shell.execute_reply": "2022-05-22T02:47:51.575364Z"
    },
    "papermill": {
     "duration": 0.043011,
     "end_time": "2022-05-22T02:47:51.576064",
     "exception": false,
     "start_time": "2022-05-22T02:47:51.533053",
     "status": "completed"
    },
    "tags": []
   },
   "outputs": [],
   "source": [
    "#hide\n",
    "#Koreliacijų koeficientai"
   ]
  },
  {
   "cell_type": "code",
   "execution_count": 10,
   "id": "seeing-celebration",
   "metadata": {
    "execution": {
     "iopub.execute_input": "2022-05-22T02:47:51.611972Z",
     "iopub.status.busy": "2022-05-22T02:47:51.609366Z",
     "iopub.status.idle": "2022-05-22T02:47:51.636073Z",
     "shell.execute_reply": "2022-05-22T02:47:51.635188Z"
    },
    "papermill": {
     "duration": 0.046422,
     "end_time": "2022-05-22T02:47:51.636200",
     "exception": false,
     "start_time": "2022-05-22T02:47:51.589778",
     "status": "completed"
    },
    "tags": []
   },
   "outputs": [],
   "source": [
    "#hide_input\n",
    "#sum_corr = df_all_mrk.corr().sum().sort_values(ascending=True).index.values\n",
    "#df_all_mrk[sum_corr].corr()"
   ]
  },
  {
   "cell_type": "code",
   "execution_count": 11,
   "id": "other-painting",
   "metadata": {
    "execution": {
     "iopub.execute_input": "2022-05-22T02:47:51.678323Z",
     "iopub.status.busy": "2022-05-22T02:47:51.674844Z",
     "iopub.status.idle": "2022-05-22T02:47:51.698083Z",
     "shell.execute_reply": "2022-05-22T02:47:51.697608Z"
    },
    "papermill": {
     "duration": 0.048478,
     "end_time": "2022-05-22T02:47:51.698203",
     "exception": false,
     "start_time": "2022-05-22T02:47:51.649725",
     "status": "completed"
    },
    "tags": []
   },
   "outputs": [],
   "source": [
    "#hide\n",
    "#Koreliacijos matrica. "
   ]
  },
  {
   "cell_type": "code",
   "execution_count": 12,
   "id": "modular-magnitude",
   "metadata": {
    "execution": {
     "iopub.execute_input": "2022-05-22T02:47:51.728032Z",
     "iopub.status.busy": "2022-05-22T02:47:51.727465Z",
     "iopub.status.idle": "2022-05-22T02:47:51.754442Z",
     "shell.execute_reply": "2022-05-22T02:47:51.753780Z"
    },
    "papermill": {
     "duration": 0.042912,
     "end_time": "2022-05-22T02:47:51.754565",
     "exception": false,
     "start_time": "2022-05-22T02:47:51.711653",
     "status": "completed"
    },
    "tags": []
   },
   "outputs": [],
   "source": [
    "#hide_input\n",
    "#plt.figure(figsize=(15, 8))\n",
    "#sns.heatmap(df_all_mrk[sum_corr].corr(), annot=True, cmap=\"BrBG\");\n",
    "#plt.savefig('corr_matrix_all.eps', format='eps')"
   ]
  },
  {
   "cell_type": "code",
   "execution_count": null,
   "id": "original-senator",
   "metadata": {
    "papermill": {
     "duration": 0.013054,
     "end_time": "2022-05-22T02:47:51.781364",
     "exception": false,
     "start_time": "2022-05-22T02:47:51.768310",
     "status": "completed"
    },
    "tags": []
   },
   "outputs": [],
   "source": []
  },
  {
   "cell_type": "code",
   "execution_count": null,
   "id": "saving-secretariat",
   "metadata": {
    "papermill": {
     "duration": 0.013009,
     "end_time": "2022-05-22T02:47:51.807484",
     "exception": false,
     "start_time": "2022-05-22T02:47:51.794475",
     "status": "completed"
    },
    "tags": []
   },
   "outputs": [],
   "source": []
  }
 ],
 "metadata": {
  "kernelspec": {
   "display_name": "Python 3",
   "language": "python",
   "name": "python3"
  },
  "language_info": {
   "codemirror_mode": {
    "name": "ipython",
    "version": 3
   },
   "file_extension": ".py",
   "mimetype": "text/x-python",
   "name": "python",
   "nbconvert_exporter": "python",
   "pygments_lexer": "ipython3",
   "version": "3.6.15"
  },
  "papermill": {
   "default_parameters": {},
   "duration": 16.666251,
   "end_time": "2022-05-22T02:47:52.339855",
   "environment_variables": {},
   "exception": null,
   "input_path": "App-Correlation_charts.ipynb",
   "output_path": "App-Correlation_charts.ipynb",
   "parameters": {},
   "start_time": "2022-05-22T02:47:35.673604",
   "version": "2.2.2"
  }
 },
 "nbformat": 4,
 "nbformat_minor": 5
}