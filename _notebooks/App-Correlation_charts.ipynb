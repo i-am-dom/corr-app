{
 "cells": [
  {
   "cell_type": "markdown",
   "id": "touched-facility",
   "metadata": {
    "papermill": {
     "duration": 0.015072,
     "end_time": "2022-03-29T02:39:43.265813",
     "exception": false,
     "start_time": "2022-03-29T02:39:43.250741",
     "status": "completed"
    },
    "tags": []
   },
   "source": [
    "# Koreliacijų matrica\n",
    "> Išplėstinė koreliacijų matrica. \n",
    "\n",
    "- toc: true \n",
    "- badges: true\n",
    "- comments: false\n",
    "- categories: [Dominykas Tautkus]\n",
    "- image: images/matrix.png"
   ]
  },
  {
   "cell_type": "code",
   "execution_count": null,
   "id": "premium-weekend",
   "metadata": {
    "papermill": {
     "duration": 0.010581,
     "end_time": "2022-03-29T02:39:43.287648",
     "exception": false,
     "start_time": "2022-03-29T02:39:43.277067",
     "status": "completed"
    },
    "tags": []
   },
   "outputs": [],
   "source": []
  },
  {
   "cell_type": "code",
   "execution_count": 1,
   "id": "vertical-rebate",
   "metadata": {
    "execution": {
     "iopub.execute_input": "2022-03-29T02:39:43.318849Z",
     "iopub.status.busy": "2022-03-29T02:39:43.318317Z",
     "iopub.status.idle": "2022-03-29T02:39:43.329083Z",
     "shell.execute_reply": "2022-03-29T02:39:43.328642Z"
    },
    "papermill": {
     "duration": 0.031022,
     "end_time": "2022-03-29T02:39:43.329192",
     "exception": false,
     "start_time": "2022-03-29T02:39:43.298170",
     "status": "completed"
    },
    "tags": []
   },
   "outputs": [],
   "source": [
    "#hide\n",
    "%load_ext autoreload\n",
    "%autoreload 2"
   ]
  },
  {
   "cell_type": "code",
   "execution_count": 2,
   "id": "overall-advancement",
   "metadata": {
    "execution": {
     "iopub.execute_input": "2022-03-29T02:39:43.354345Z",
     "iopub.status.busy": "2022-03-29T02:39:43.353850Z",
     "iopub.status.idle": "2022-03-29T02:39:44.434796Z",
     "shell.execute_reply": "2022-03-29T02:39:44.434279Z"
    },
    "papermill": {
     "duration": 1.095239,
     "end_time": "2022-03-29T02:39:44.434928",
     "exception": false,
     "start_time": "2022-03-29T02:39:43.339689",
     "status": "completed"
    },
    "tags": []
   },
   "outputs": [],
   "source": [
    "#hide\n",
    "from scripts.read_data import read_api\n",
    "from IPython.display import HTML\n",
    "import plotly.graph_objects as go\n"
   ]
  },
  {
   "cell_type": "code",
   "execution_count": 3,
   "id": "light-crazy",
   "metadata": {
    "execution": {
     "iopub.execute_input": "2022-03-29T02:39:44.465312Z",
     "iopub.status.busy": "2022-03-29T02:39:44.464780Z",
     "iopub.status.idle": "2022-03-29T02:39:44.484209Z",
     "shell.execute_reply": "2022-03-29T02:39:44.484646Z"
    },
    "papermill": {
     "duration": 0.038004,
     "end_time": "2022-03-29T02:39:44.484778",
     "exception": false,
     "start_time": "2022-03-29T02:39:44.446774",
     "status": "completed"
    },
    "tags": []
   },
   "outputs": [],
   "source": [
    "#hide\n",
    "### ICO koreliacija"
   ]
  },
  {
   "cell_type": "code",
   "execution_count": 4,
   "id": "likely-bahrain",
   "metadata": {
    "execution": {
     "iopub.execute_input": "2022-03-29T02:39:44.512713Z",
     "iopub.status.busy": "2022-03-29T02:39:44.510924Z",
     "iopub.status.idle": "2022-03-29T02:39:45.355732Z",
     "shell.execute_reply": "2022-03-29T02:39:45.356247Z"
    },
    "papermill": {
     "duration": 0.860402,
     "end_time": "2022-03-29T02:39:45.356413",
     "exception": false,
     "start_time": "2022-03-29T02:39:44.496011",
     "status": "completed"
    },
    "tags": []
   },
   "outputs": [],
   "source": [
    "#hide\n",
    "import matplotlib.pyplot as plt\n",
    "import numpy as np\n",
    "import pandas as pd\n",
    "import seaborn as sns\n",
    "import matplotlib.pyplot as plt \n",
    "import matplotlib.dates as mdates\n",
    "import matplotlib.pyplot as plt"
   ]
  },
  {
   "cell_type": "code",
   "execution_count": 5,
   "id": "superior-blanket",
   "metadata": {
    "execution": {
     "iopub.execute_input": "2022-03-29T02:39:45.390484Z",
     "iopub.status.busy": "2022-03-29T02:39:45.389691Z",
     "iopub.status.idle": "2022-03-29T02:39:56.823396Z",
     "shell.execute_reply": "2022-03-29T02:39:56.823904Z"
    },
    "papermill": {
     "duration": 11.455855,
     "end_time": "2022-03-29T02:39:56.824083",
     "exception": false,
     "start_time": "2022-03-29T02:39:45.368228",
     "status": "completed"
    },
    "tags": []
   },
   "outputs": [
    {
     "name": "stderr",
     "output_type": "stream",
     "text": [
      "/home/runner/work/corr-app/corr-app/_notebooks/scripts/read_data.py:187: SettingWithCopyWarning:\n",
      "\n",
      "\n",
      "A value is trying to be set on a copy of a slice from a DataFrame.\n",
      "Try using .loc[row_indexer,col_indexer] = value instead\n",
      "\n",
      "See the caveats in the documentation: https://pandas.pydata.org/pandas-docs/stable/user_guide/indexing.html#returning-a-view-versus-a-copy\n",
      "\n"
     ]
    },
    {
     "name": "stderr",
     "output_type": "stream",
     "text": [
      "/home/runner/work/corr-app/corr-app/_notebooks/scripts/read_data.py:215: SettingWithCopyWarning:\n",
      "\n",
      "\n",
      "A value is trying to be set on a copy of a slice from a DataFrame.\n",
      "Try using .loc[row_indexer,col_indexer] = value instead\n",
      "\n",
      "See the caveats in the documentation: https://pandas.pydata.org/pandas-docs/stable/user_guide/indexing.html#returning-a-view-versus-a-copy\n",
      "\n"
     ]
    }
   ],
   "source": [
    "#hide\n",
    "df_all = read_api()\n",
    "#df_all = df_all.drop(['SP500', 'XAU', 'ETH', 'BTC'], axis=1)\n",
    "\n"
   ]
  },
  {
   "cell_type": "code",
   "execution_count": 6,
   "id": "mature-alert",
   "metadata": {
    "execution": {
     "iopub.execute_input": "2022-03-29T02:39:56.860626Z",
     "iopub.status.busy": "2022-03-29T02:39:56.856630Z",
     "iopub.status.idle": "2022-03-29T02:39:56.884138Z",
     "shell.execute_reply": "2022-03-29T02:39:56.884551Z"
    },
    "papermill": {
     "duration": 0.048604,
     "end_time": "2022-03-29T02:39:56.884678",
     "exception": false,
     "start_time": "2022-03-29T02:39:56.836074",
     "status": "completed"
    },
    "tags": []
   },
   "outputs": [],
   "source": [
    "#hide_input\n",
    "sum_corr = df_all.corr().sum().sort_values(ascending=True).index.values\n",
    "#df_all[sum_corr].corr()"
   ]
  },
  {
   "cell_type": "markdown",
   "id": "complex-syndicate",
   "metadata": {
    "papermill": {
     "duration": 0.011131,
     "end_time": "2022-03-29T02:39:56.907060",
     "exception": false,
     "start_time": "2022-03-29T02:39:56.895929",
     "status": "completed"
    },
    "tags": []
   },
   "source": [
    "## Išplėstinė koreliacijų matrica. "
   ]
  },
  {
   "cell_type": "code",
   "execution_count": 7,
   "id": "atomic-omaha",
   "metadata": {
    "execution": {
     "iopub.execute_input": "2022-03-29T02:39:56.948557Z",
     "iopub.status.busy": "2022-03-29T02:39:56.940555Z",
     "iopub.status.idle": "2022-03-29T02:39:58.144578Z",
     "shell.execute_reply": "2022-03-29T02:39:58.144994Z"
    },
    "papermill": {
     "duration": 1.22696,
     "end_time": "2022-03-29T02:39:58.145130",
     "exception": false,
     "start_time": "2022-03-29T02:39:56.918170",
     "status": "completed"
    },
    "tags": []
   },
   "outputs": [
    {
     "data": {
      "image/png": "[encoded data removed]",
      "text/plain": [
       "<Figure size 1080x792 with 2 Axes>"
      ]
     },
     "metadata": {
      "needs_background": "light"
     },
     "output_type": "display_data"
    }
   ],
   "source": [
    "#hide_input\n",
    "plt.figure(figsize=(15, 11))\n",
    "sns.heatmap(df_all[sum_corr].corr(), annot=True, cmap=\"cubehelix\") \n",
    "sns.set(font_scale=1.25)\n",
    "plt.savefig('corr_matrix.png', format='eps')"
   ]
  },
  {
   "cell_type": "code",
   "execution_count": 8,
   "id": "arbitrary-sullivan",
   "metadata": {
    "execution": {
     "iopub.execute_input": "2022-03-29T02:39:58.176782Z",
     "iopub.status.busy": "2022-03-29T02:39:58.174311Z",
     "iopub.status.idle": "2022-03-29T02:39:58.199885Z",
     "shell.execute_reply": "2022-03-29T02:39:58.199424Z"
    },
    "papermill": {
     "duration": 0.041284,
     "end_time": "2022-03-29T02:39:58.200022",
     "exception": false,
     "start_time": "2022-03-29T02:39:58.158738",
     "status": "completed"
    },
    "tags": []
   },
   "outputs": [],
   "source": [
    "#hide\n",
    "#df_all_mrk = read_api()"
   ]
  },
  {
   "cell_type": "code",
   "execution_count": 9,
   "id": "delayed-adapter",
   "metadata": {
    "execution": {
     "iopub.execute_input": "2022-03-29T02:39:58.233037Z",
     "iopub.status.busy": "2022-03-29T02:39:58.232534Z",
     "iopub.status.idle": "2022-03-29T02:39:58.255521Z",
     "shell.execute_reply": "2022-03-29T02:39:58.255114Z"
    },
    "papermill": {
     "duration": 0.042053,
     "end_time": "2022-03-29T02:39:58.255621",
     "exception": false,
     "start_time": "2022-03-29T02:39:58.213568",
     "status": "completed"
    },
    "tags": []
   },
   "outputs": [],
   "source": [
    "#hide\n",
    "#Koreliacijų koeficientai"
   ]
  },
  {
   "cell_type": "code",
   "execution_count": 10,
   "id": "seeing-celebration",
   "metadata": {
    "execution": {
     "iopub.execute_input": "2022-03-29T02:39:58.290114Z",
     "iopub.status.busy": "2022-03-29T02:39:58.289606Z",
     "iopub.status.idle": "2022-03-29T02:39:58.309695Z",
     "shell.execute_reply": "2022-03-29T02:39:58.310157Z"
    },
    "papermill": {
     "duration": 0.040581,
     "end_time": "2022-03-29T02:39:58.310280",
     "exception": false,
     "start_time": "2022-03-29T02:39:58.269699",
     "status": "completed"
    },
    "tags": []
   },
   "outputs": [],
   "source": [
    "#hide_input\n",
    "#sum_corr = df_all_mrk.corr().sum().sort_values(ascending=True).index.values\n",
    "#df_all_mrk[sum_corr].corr()"
   ]
  },
  {
   "cell_type": "code",
   "execution_count": 11,
   "id": "other-painting",
   "metadata": {
    "execution": {
     "iopub.execute_input": "2022-03-29T02:39:58.339684Z",
     "iopub.status.busy": "2022-03-29T02:39:58.339174Z",
     "iopub.status.idle": "2022-03-29T02:39:58.363509Z",
     "shell.execute_reply": "2022-03-29T02:39:58.363969Z"
    },
    "papermill": {
     "duration": 0.039597,
     "end_time": "2022-03-29T02:39:58.364099",
     "exception": false,
     "start_time": "2022-03-29T02:39:58.324502",
     "status": "completed"
    },
    "tags": []
   },
   "outputs": [],
   "source": [
    "#hide\n",
    "#Koreliacijos matrica. "
   ]
  },
  {
   "cell_type": "code",
   "execution_count": 12,
   "id": "modular-magnitude",
   "metadata": {
    "execution": {
     "iopub.execute_input": "2022-03-29T02:39:58.392918Z",
     "iopub.status.busy": "2022-03-29T02:39:58.392405Z",
     "iopub.status.idle": "2022-03-29T02:39:58.415349Z",
     "shell.execute_reply": "2022-03-29T02:39:58.414898Z"
    },
    "papermill": {
     "duration": 0.037997,
     "end_time": "2022-03-29T02:39:58.415450",
     "exception": false,
     "start_time": "2022-03-29T02:39:58.377453",
     "status": "completed"
    },
    "tags": []
   },
   "outputs": [],
   "source": [
    "#hide_input\n",
    "#plt.figure(figsize=(15, 8))\n",
    "#sns.heatmap(df_all_mrk[sum_corr].corr(), annot=True, cmap=\"BrBG\");\n",
    "#plt.savefig('corr_matrix_all.eps', format='eps')"
   ]
  },
  {
   "cell_type": "code",
   "execution_count": null,
   "id": "original-senator",
   "metadata": {
    "papermill": {
     "duration": 0.013045,
     "end_time": "2022-03-29T02:39:58.441486",
     "exception": false,
     "start_time": "2022-03-29T02:39:58.428441",
     "status": "completed"
    },
    "tags": []
   },
   "outputs": [],
   "source": []
  },
  {
   "cell_type": "code",
   "execution_count": null,
   "id": "saving-secretariat",
   "metadata": {
    "papermill": {
     "duration": 0.013054,
     "end_time": "2022-03-29T02:39:58.467566",
     "exception": false,
     "start_time": "2022-03-29T02:39:58.454512",
     "status": "completed"
    },
    "tags": []
   },
   "outputs": [],
   "source": []
  }
 ],
 "metadata": {
  "kernelspec": {
   "display_name": "Python 3",
   "language": "python",
   "name": "python3"
  },
  "language_info": {
   "codemirror_mode": {
    "name": "ipython",
    "version": 3
   },
   "file_extension": ".py",
   "mimetype": "text/x-python",
   "name": "python",
   "nbconvert_exporter": "python",
   "pygments_lexer": "ipython3",
   "version": "3.6.15"
  },
  "papermill": {
   "default_parameters": {},
   "duration": 16.557162,
   "end_time": "2022-03-29T02:39:58.898492",
   "environment_variables": {},
   "exception": null,
   "input_path": "App-Correlation_charts.ipynb",
   "output_path": "App-Correlation_charts.ipynb",
   "parameters": {},
   "start_time": "2022-03-29T02:39:42.341330",
   "version": "2.2.2"
  }
 },
 "nbformat": 4,
 "nbformat_minor": 5
}