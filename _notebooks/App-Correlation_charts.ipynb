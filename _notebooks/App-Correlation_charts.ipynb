{
 "cells": [
  {
   "cell_type": "markdown",
   "id": "touched-facility",
   "metadata": {
    "papermill": {
     "duration": 0.014834,
     "end_time": "2022-10-19T03:41:46.285518",
     "exception": false,
     "start_time": "2022-10-19T03:41:46.270684",
     "status": "completed"
    },
    "tags": []
   },
   "source": [
    "# Koreliacijų matrica\n",
    "> Išplėstinė koreliacijų matrica. \n",
    "\n",
    "- toc: true \n",
    "- badges: true\n",
    "- comments: false\n",
    "- categories: [Dominykas Tautkus]\n",
    "- image: images/matrix.png"
   ]
  },
  {
   "cell_type": "code",
   "execution_count": null,
   "id": "premium-weekend",
   "metadata": {
    "papermill": {
     "duration": 0.010533,
     "end_time": "2022-10-19T03:41:46.307323",
     "exception": false,
     "start_time": "2022-10-19T03:41:46.296790",
     "status": "completed"
    },
    "tags": []
   },
   "outputs": [],
   "source": []
  },
  {
   "cell_type": "code",
   "execution_count": 1,
   "id": "vertical-rebate",
   "metadata": {
    "execution": {
     "iopub.execute_input": "2022-10-19T03:41:46.339752Z",
     "iopub.status.busy": "2022-10-19T03:41:46.339166Z",
     "iopub.status.idle": "2022-10-19T03:41:46.349541Z",
     "shell.execute_reply": "2022-10-19T03:41:46.350021Z"
    },
    "papermill": {
     "duration": 0.032213,
     "end_time": "2022-10-19T03:41:46.350163",
     "exception": false,
     "start_time": "2022-10-19T03:41:46.317950",
     "status": "completed"
    },
    "tags": []
   },
   "outputs": [],
   "source": [
    "#hide\n",
    "%load_ext autoreload\n",
    "%autoreload 2"
   ]
  },
  {
   "cell_type": "code",
   "execution_count": 2,
   "id": "overall-advancement",
   "metadata": {
    "execution": {
     "iopub.execute_input": "2022-10-19T03:41:46.379392Z",
     "iopub.status.busy": "2022-10-19T03:41:46.378806Z",
     "iopub.status.idle": "2022-10-19T03:41:47.637766Z",
     "shell.execute_reply": "2022-10-19T03:41:47.636733Z"
    },
    "papermill": {
     "duration": 1.277192,
     "end_time": "2022-10-19T03:41:47.637897",
     "exception": false,
     "start_time": "2022-10-19T03:41:46.360705",
     "status": "completed"
    },
    "tags": []
   },
   "outputs": [],
   "source": [
    "#hide\n",
    "from scripts.read_data import read_api\n",
    "from IPython.display import HTML\n",
    "import plotly.graph_objects as go\n"
   ]
  },
  {
   "cell_type": "code",
   "execution_count": 3,
   "id": "light-crazy",
   "metadata": {
    "execution": {
     "iopub.execute_input": "2022-10-19T03:41:47.666610Z",
     "iopub.status.busy": "2022-10-19T03:41:47.664461Z",
     "iopub.status.idle": "2022-10-19T03:41:47.686265Z",
     "shell.execute_reply": "2022-10-19T03:41:47.685815Z"
    },
    "papermill": {
     "duration": 0.0376,
     "end_time": "2022-10-19T03:41:47.686373",
     "exception": false,
     "start_time": "2022-10-19T03:41:47.648773",
     "status": "completed"
    },
    "tags": []
   },
   "outputs": [],
   "source": [
    "#hide\n",
    "### ICO koreliacija"
   ]
  },
  {
   "cell_type": "code",
   "execution_count": 4,
   "id": "likely-bahrain",
   "metadata": {
    "execution": {
     "iopub.execute_input": "2022-10-19T03:41:47.717871Z",
     "iopub.status.busy": "2022-10-19T03:41:47.710622Z",
     "iopub.status.idle": "2022-10-19T03:41:48.545789Z",
     "shell.execute_reply": "2022-10-19T03:41:48.545161Z"
    },
    "papermill": {
     "duration": 0.848852,
     "end_time": "2022-10-19T03:41:48.545929",
     "exception": false,
     "start_time": "2022-10-19T03:41:47.697077",
     "status": "completed"
    },
    "tags": []
   },
   "outputs": [],
   "source": [
    "#hide\n",
    "import matplotlib.pyplot as plt\n",
    "import numpy as np\n",
    "import pandas as pd\n",
    "import seaborn as sns\n",
    "import matplotlib.pyplot as plt \n",
    "import matplotlib.dates as mdates\n",
    "import matplotlib.pyplot as plt"
   ]
  },
  {
   "cell_type": "code",
   "execution_count": 5,
   "id": "superior-blanket",
   "metadata": {
    "execution": {
     "iopub.execute_input": "2022-10-19T03:41:48.574134Z",
     "iopub.status.busy": "2022-10-19T03:41:48.572722Z",
     "iopub.status.idle": "2022-10-19T03:42:01.052568Z",
     "shell.execute_reply": "2022-10-19T03:42:01.051572Z"
    },
    "papermill": {
     "duration": 12.495283,
     "end_time": "2022-10-19T03:42:01.052705",
     "exception": false,
     "start_time": "2022-10-19T03:41:48.557422",
     "status": "completed"
    },
    "tags": []
   },
   "outputs": [
    {
     "name": "stderr",
     "output_type": "stream",
     "text": [
      "/home/runner/work/corr-app/corr-app/_notebooks/scripts/read_data.py:187: SettingWithCopyWarning:\n",
      "\n",
      "\n",
      "A value is trying to be set on a copy of a slice from a DataFrame.\n",
      "Try using .loc[row_indexer,col_indexer] = value instead\n",
      "\n",
      "See the caveats in the documentation: https://pandas.pydata.org/pandas-docs/stable/user_guide/indexing.html#returning-a-view-versus-a-copy\n",
      "\n"
     ]
    },
    {
     "name": "stderr",
     "output_type": "stream",
     "text": [
      "/home/runner/work/corr-app/corr-app/_notebooks/scripts/read_data.py:215: SettingWithCopyWarning:\n",
      "\n",
      "\n",
      "A value is trying to be set on a copy of a slice from a DataFrame.\n",
      "Try using .loc[row_indexer,col_indexer] = value instead\n",
      "\n",
      "See the caveats in the documentation: https://pandas.pydata.org/pandas-docs/stable/user_guide/indexing.html#returning-a-view-versus-a-copy\n",
      "\n"
     ]
    }
   ],
   "source": [
    "#hide\n",
    "df_all = read_api()\n",
    "#df_all = df_all.drop(['SP500', 'XAU', 'ETH', 'BTC'], axis=1)\n",
    "\n"
   ]
  },
  {
   "cell_type": "code",
   "execution_count": 6,
   "id": "mature-alert",
   "metadata": {
    "execution": {
     "iopub.execute_input": "2022-10-19T03:42:01.085190Z",
     "iopub.status.busy": "2022-10-19T03:42:01.083933Z",
     "iopub.status.idle": "2022-10-19T03:42:01.112742Z",
     "shell.execute_reply": "2022-10-19T03:42:01.111831Z"
    },
    "papermill": {
     "duration": 0.047448,
     "end_time": "2022-10-19T03:42:01.112876",
     "exception": false,
     "start_time": "2022-10-19T03:42:01.065428",
     "status": "completed"
    },
    "tags": []
   },
   "outputs": [],
   "source": [
    "#hide_input\n",
    "sum_corr = df_all.corr().sum().sort_values(ascending=True).index.values\n",
    "#df_all[sum_corr].corr()"
   ]
  },
  {
   "cell_type": "markdown",
   "id": "complex-syndicate",
   "metadata": {
    "papermill": {
     "duration": 0.011134,
     "end_time": "2022-10-19T03:42:01.136498",
     "exception": false,
     "start_time": "2022-10-19T03:42:01.125364",
     "status": "completed"
    },
    "tags": []
   },
   "source": [
    "## Išplėstinė koreliacijų matrica. "
   ]
  },
  {
   "cell_type": "code",
   "execution_count": 7,
   "id": "atomic-omaha",
   "metadata": {
    "execution": {
     "iopub.execute_input": "2022-10-19T03:42:01.182211Z",
     "iopub.status.busy": "2022-10-19T03:42:01.174057Z",
     "iopub.status.idle": "2022-10-19T03:42:02.350563Z",
     "shell.execute_reply": "2022-10-19T03:42:02.351012Z"
    },
    "papermill": {
     "duration": 1.203505,
     "end_time": "2022-10-19T03:42:02.351146",
     "exception": false,
     "start_time": "2022-10-19T03:42:01.147641",
     "status": "completed"
    },
    "tags": []
   },
   "outputs": [
    {
     "data": {
      "image/png": "[encoded data removed]",
      "text/plain": [
       "<Figure size 1080x792 with 2 Axes>"
      ]
     },
     "metadata": {
      "needs_background": "light"
     },
     "output_type": "display_data"
    }
   ],
   "source": [
    "#hide_input\n",
    "plt.figure(figsize=(15, 11))\n",
    "sns.heatmap(df_all[sum_corr].corr(), annot=True, cmap=\"cubehelix\") \n",
    "sns.set(font_scale=1.25)\n",
    "plt.savefig('corr_matrix.png', format='eps')"
   ]
  },
  {
   "cell_type": "code",
   "execution_count": 8,
   "id": "arbitrary-sullivan",
   "metadata": {
    "execution": {
     "iopub.execute_input": "2022-10-19T03:42:02.386187Z",
     "iopub.status.busy": "2022-10-19T03:42:02.381844Z",
     "iopub.status.idle": "2022-10-19T03:42:02.408375Z",
     "shell.execute_reply": "2022-10-19T03:42:02.407830Z"
    },
    "papermill": {
     "duration": 0.04383,
     "end_time": "2022-10-19T03:42:02.408505",
     "exception": false,
     "start_time": "2022-10-19T03:42:02.364675",
     "status": "completed"
    },
    "tags": []
   },
   "outputs": [],
   "source": [
    "#hide\n",
    "#df_all_mrk = read_api()"
   ]
  },
  {
   "cell_type": "code",
   "execution_count": 9,
   "id": "delayed-adapter",
   "metadata": {
    "execution": {
     "iopub.execute_input": "2022-10-19T03:42:02.438903Z",
     "iopub.status.busy": "2022-10-19T03:42:02.438260Z",
     "iopub.status.idle": "2022-10-19T03:42:02.464668Z",
     "shell.execute_reply": "2022-10-19T03:42:02.463998Z"
    },
    "papermill": {
     "duration": 0.042803,
     "end_time": "2022-10-19T03:42:02.464788",
     "exception": false,
     "start_time": "2022-10-19T03:42:02.421985",
     "status": "completed"
    },
    "tags": []
   },
   "outputs": [],
   "source": [
    "#hide\n",
    "#Koreliacijų koeficientai"
   ]
  },
  {
   "cell_type": "code",
   "execution_count": 10,
   "id": "seeing-celebration",
   "metadata": {
    "execution": {
     "iopub.execute_input": "2022-10-19T03:42:02.498604Z",
     "iopub.status.busy": "2022-10-19T03:42:02.496299Z",
     "iopub.status.idle": "2022-10-19T03:42:02.524381Z",
     "shell.execute_reply": "2022-10-19T03:42:02.523851Z"
    },
    "papermill": {
     "duration": 0.045418,
     "end_time": "2022-10-19T03:42:02.524495",
     "exception": false,
     "start_time": "2022-10-19T03:42:02.479077",
     "status": "completed"
    },
    "tags": []
   },
   "outputs": [],
   "source": [
    "#hide_input\n",
    "#sum_corr = df_all_mrk.corr().sum().sort_values(ascending=True).index.values\n",
    "#df_all_mrk[sum_corr].corr()"
   ]
  },
  {
   "cell_type": "code",
   "execution_count": 11,
   "id": "other-painting",
   "metadata": {
    "execution": {
     "iopub.execute_input": "2022-10-19T03:42:02.554822Z",
     "iopub.status.busy": "2022-10-19T03:42:02.554252Z",
     "iopub.status.idle": "2022-10-19T03:42:02.580269Z",
     "shell.execute_reply": "2022-10-19T03:42:02.579730Z"
    },
    "papermill": {
     "duration": 0.042632,
     "end_time": "2022-10-19T03:42:02.580388",
     "exception": false,
     "start_time": "2022-10-19T03:42:02.537756",
     "status": "completed"
    },
    "tags": []
   },
   "outputs": [],
   "source": [
    "#hide\n",
    "#Koreliacijos matrica. "
   ]
  },
  {
   "cell_type": "code",
   "execution_count": 12,
   "id": "modular-magnitude",
   "metadata": {
    "execution": {
     "iopub.execute_input": "2022-10-19T03:42:02.610601Z",
     "iopub.status.busy": "2022-10-19T03:42:02.610035Z",
     "iopub.status.idle": "2022-10-19T03:42:02.636937Z",
     "shell.execute_reply": "2022-10-19T03:42:02.636287Z"
    },
    "papermill": {
     "duration": 0.042867,
     "end_time": "2022-10-19T03:42:02.637055",
     "exception": false,
     "start_time": "2022-10-19T03:42:02.594188",
     "status": "completed"
    },
    "tags": []
   },
   "outputs": [],
   "source": [
    "#hide_input\n",
    "#plt.figure(figsize=(15, 8))\n",
    "#sns.heatmap(df_all_mrk[sum_corr].corr(), annot=True, cmap=\"BrBG\");\n",
    "#plt.savefig('corr_matrix_all.eps', format='eps')"
   ]
  },
  {
   "cell_type": "code",
   "execution_count": null,
   "id": "original-senator",
   "metadata": {
    "papermill": {
     "duration": 0.012949,
     "end_time": "2022-10-19T03:42:02.664037",
     "exception": false,
     "start_time": "2022-10-19T03:42:02.651088",
     "status": "completed"
    },
    "tags": []
   },
   "outputs": [],
   "source": []
  },
  {
   "cell_type": "code",
   "execution_count": null,
   "id": "saving-secretariat",
   "metadata": {
    "papermill": {
     "duration": 0.012933,
     "end_time": "2022-10-19T03:42:02.689988",
     "exception": false,
     "start_time": "2022-10-19T03:42:02.677055",
     "status": "completed"
    },
    "tags": []
   },
   "outputs": [],
   "source": []
  }
 ],
 "metadata": {
  "kernelspec": {
   "display_name": "Python 3",
   "language": "python",
   "name": "python3"
  },
  "language_info": {
   "codemirror_mode": {
    "name": "ipython",
    "version": 3
   },
   "file_extension": ".py",
   "mimetype": "text/x-python",
   "name": "python",
   "nbconvert_exporter": "python",
   "pygments_lexer": "ipython3",
   "version": "3.6.15"
  },
  "papermill": {
   "default_parameters": {},
   "duration": 17.880083,
   "end_time": "2022-10-19T03:42:03.223041",
   "environment_variables": {},
   "exception": null,
   "input_path": "App-Correlation_charts.ipynb",
   "output_path": "App-Correlation_charts.ipynb",
   "parameters": {},
   "start_time": "2022-10-19T03:41:45.342958",
   "version": "2.2.2"
  }
 },
 "nbformat": 4,
 "nbformat_minor": 5
}