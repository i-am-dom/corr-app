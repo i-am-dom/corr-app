{
 "cells": [
  {
   "cell_type": "markdown",
   "id": "touched-facility",
   "metadata": {
    "papermill": {
     "duration": 0.010626,
     "end_time": "2022-07-26T03:32:33.046096",
     "exception": false,
     "start_time": "2022-07-26T03:32:33.035470",
     "status": "completed"
    },
    "tags": []
   },
   "source": [
    "# Koreliacijų matrica\n",
    "> Išplėstinė koreliacijų matrica. \n",
    "\n",
    "- toc: true \n",
    "- badges: true\n",
    "- comments: false\n",
    "- categories: [Dominykas Tautkus]\n",
    "- image: images/matrix.png"
   ]
  },
  {
   "cell_type": "code",
   "execution_count": null,
   "id": "premium-weekend",
   "metadata": {
    "papermill": {
     "duration": 0.012021,
     "end_time": "2022-07-26T03:32:33.066346",
     "exception": false,
     "start_time": "2022-07-26T03:32:33.054325",
     "status": "completed"
    },
    "tags": []
   },
   "outputs": [],
   "source": []
  },
  {
   "cell_type": "code",
   "execution_count": 1,
   "id": "vertical-rebate",
   "metadata": {
    "execution": {
     "iopub.execute_input": "2022-07-26T03:32:33.093219Z",
     "iopub.status.busy": "2022-07-26T03:32:33.092763Z",
     "iopub.status.idle": "2022-07-26T03:32:33.102080Z",
     "shell.execute_reply": "2022-07-26T03:32:33.102431Z"
    },
    "papermill": {
     "duration": 0.024718,
     "end_time": "2022-07-26T03:32:33.102530",
     "exception": false,
     "start_time": "2022-07-26T03:32:33.077812",
     "status": "completed"
    },
    "tags": []
   },
   "outputs": [],
   "source": [
    "#hide\n",
    "%load_ext autoreload\n",
    "%autoreload 2"
   ]
  },
  {
   "cell_type": "code",
   "execution_count": 2,
   "id": "overall-advancement",
   "metadata": {
    "execution": {
     "iopub.execute_input": "2022-07-26T03:32:33.121023Z",
     "iopub.status.busy": "2022-07-26T03:32:33.120331Z",
     "iopub.status.idle": "2022-07-26T03:32:34.133473Z",
     "shell.execute_reply": "2022-07-26T03:32:34.133105Z"
    },
    "papermill": {
     "duration": 1.023331,
     "end_time": "2022-07-26T03:32:34.133566",
     "exception": false,
     "start_time": "2022-07-26T03:32:33.110235",
     "status": "completed"
    },
    "tags": []
   },
   "outputs": [],
   "source": [
    "#hide\n",
    "from scripts.read_data import read_api\n",
    "from IPython.display import HTML\n",
    "import plotly.graph_objects as go\n"
   ]
  },
  {
   "cell_type": "code",
   "execution_count": 3,
   "id": "light-crazy",
   "metadata": {
    "execution": {
     "iopub.execute_input": "2022-07-26T03:32:34.156924Z",
     "iopub.status.busy": "2022-07-26T03:32:34.156232Z",
     "iopub.status.idle": "2022-07-26T03:32:34.177286Z",
     "shell.execute_reply": "2022-07-26T03:32:34.177592Z"
    },
    "papermill": {
     "duration": 0.036097,
     "end_time": "2022-07-26T03:32:34.177686",
     "exception": false,
     "start_time": "2022-07-26T03:32:34.141589",
     "status": "completed"
    },
    "tags": []
   },
   "outputs": [],
   "source": [
    "#hide\n",
    "### ICO koreliacija"
   ]
  },
  {
   "cell_type": "code",
   "execution_count": 4,
   "id": "likely-bahrain",
   "metadata": {
    "execution": {
     "iopub.execute_input": "2022-07-26T03:32:34.196686Z",
     "iopub.status.busy": "2022-07-26T03:32:34.195981Z",
     "iopub.status.idle": "2022-07-26T03:32:34.971061Z",
     "shell.execute_reply": "2022-07-26T03:32:34.971650Z"
    },
    "papermill": {
     "duration": 0.786376,
     "end_time": "2022-07-26T03:32:34.971810",
     "exception": false,
     "start_time": "2022-07-26T03:32:34.185434",
     "status": "completed"
    },
    "tags": []
   },
   "outputs": [],
   "source": [
    "#hide\n",
    "import matplotlib.pyplot as plt\n",
    "import numpy as np\n",
    "import pandas as pd\n",
    "import seaborn as sns\n",
    "import matplotlib.pyplot as plt \n",
    "import matplotlib.dates as mdates\n",
    "import matplotlib.pyplot as plt"
   ]
  },
  {
   "cell_type": "code",
   "execution_count": 5,
   "id": "superior-blanket",
   "metadata": {
    "execution": {
     "iopub.execute_input": "2022-07-26T03:32:34.995083Z",
     "iopub.status.busy": "2022-07-26T03:32:34.994392Z",
     "iopub.status.idle": "2022-07-26T03:32:47.706473Z",
     "shell.execute_reply": "2022-07-26T03:32:47.706116Z"
    },
    "papermill": {
     "duration": 12.723704,
     "end_time": "2022-07-26T03:32:47.706563",
     "exception": false,
     "start_time": "2022-07-26T03:32:34.982859",
     "status": "completed"
    },
    "tags": []
   },
   "outputs": [
    {
     "name": "stderr",
     "output_type": "stream",
     "text": [
      "/home/runner/work/corr-app/corr-app/_notebooks/scripts/read_data.py:187: SettingWithCopyWarning:\n",
      "\n",
      "\n",
      "A value is trying to be set on a copy of a slice from a DataFrame.\n",
      "Try using .loc[row_indexer,col_indexer] = value instead\n",
      "\n",
      "See the caveats in the documentation: https://pandas.pydata.org/pandas-docs/stable/user_guide/indexing.html#returning-a-view-versus-a-copy\n",
      "\n"
     ]
    },
    {
     "name": "stderr",
     "output_type": "stream",
     "text": [
      "/home/runner/work/corr-app/corr-app/_notebooks/scripts/read_data.py:215: SettingWithCopyWarning:\n",
      "\n",
      "\n",
      "A value is trying to be set on a copy of a slice from a DataFrame.\n",
      "Try using .loc[row_indexer,col_indexer] = value instead\n",
      "\n",
      "See the caveats in the documentation: https://pandas.pydata.org/pandas-docs/stable/user_guide/indexing.html#returning-a-view-versus-a-copy\n",
      "\n"
     ]
    }
   ],
   "source": [
    "#hide\n",
    "df_all = read_api()\n",
    "#df_all = df_all.drop(['SP500', 'XAU', 'ETH', 'BTC'], axis=1)\n",
    "\n"
   ]
  },
  {
   "cell_type": "code",
   "execution_count": 6,
   "id": "mature-alert",
   "metadata": {
    "execution": {
     "iopub.execute_input": "2022-07-26T03:32:47.728656Z",
     "iopub.status.busy": "2022-07-26T03:32:47.727946Z",
     "iopub.status.idle": "2022-07-26T03:32:47.752326Z",
     "shell.execute_reply": "2022-07-26T03:32:47.751909Z"
    },
    "papermill": {
     "duration": 0.036485,
     "end_time": "2022-07-26T03:32:47.752405",
     "exception": false,
     "start_time": "2022-07-26T03:32:47.715920",
     "status": "completed"
    },
    "tags": []
   },
   "outputs": [],
   "source": [
    "#hide_input\n",
    "sum_corr = df_all.corr().sum().sort_values(ascending=True).index.values\n",
    "#df_all[sum_corr].corr()"
   ]
  },
  {
   "cell_type": "markdown",
   "id": "complex-syndicate",
   "metadata": {
    "papermill": {
     "duration": 0.013792,
     "end_time": "2022-07-26T03:32:47.777236",
     "exception": false,
     "start_time": "2022-07-26T03:32:47.763444",
     "status": "completed"
    },
    "tags": []
   },
   "source": [
    "## Išplėstinė koreliacijų matrica. "
   ]
  },
  {
   "cell_type": "code",
   "execution_count": 7,
   "id": "atomic-omaha",
   "metadata": {
    "execution": {
     "iopub.execute_input": "2022-07-26T03:32:47.801034Z",
     "iopub.status.busy": "2022-07-26T03:32:47.797497Z",
     "iopub.status.idle": "2022-07-26T03:32:48.763972Z",
     "shell.execute_reply": "2022-07-26T03:32:48.764487Z"
    },
    "papermill": {
     "duration": 0.97839,
     "end_time": "2022-07-26T03:32:48.764646",
     "exception": false,
     "start_time": "2022-07-26T03:32:47.786256",
     "status": "completed"
    },
    "tags": []
   },
   "outputs": [
    {
     "data": {
      "image/png": "[encoded data removed]",
      "text/plain": [
       "<Figure size 1080x792 with 2 Axes>"
      ]
     },
     "metadata": {
      "needs_background": "light"
     },
     "output_type": "display_data"
    }
   ],
   "source": [
    "#hide_input\n",
    "plt.figure(figsize=(15, 11))\n",
    "sns.heatmap(df_all[sum_corr].corr(), annot=True, cmap=\"cubehelix\") \n",
    "sns.set(font_scale=1.25)\n",
    "plt.savefig('corr_matrix.png', format='eps')"
   ]
  },
  {
   "cell_type": "code",
   "execution_count": 8,
   "id": "arbitrary-sullivan",
   "metadata": {
    "execution": {
     "iopub.execute_input": "2022-07-26T03:32:48.793802Z",
     "iopub.status.busy": "2022-07-26T03:32:48.793132Z",
     "iopub.status.idle": "2022-07-26T03:32:48.814718Z",
     "shell.execute_reply": "2022-07-26T03:32:48.815024Z"
    },
    "papermill": {
     "duration": 0.034581,
     "end_time": "2022-07-26T03:32:48.815119",
     "exception": false,
     "start_time": "2022-07-26T03:32:48.780538",
     "status": "completed"
    },
    "tags": []
   },
   "outputs": [],
   "source": [
    "#hide\n",
    "#df_all_mrk = read_api()"
   ]
  },
  {
   "cell_type": "code",
   "execution_count": 9,
   "id": "delayed-adapter",
   "metadata": {
    "execution": {
     "iopub.execute_input": "2022-07-26T03:32:48.837027Z",
     "iopub.status.busy": "2022-07-26T03:32:48.836348Z",
     "iopub.status.idle": "2022-07-26T03:32:48.857851Z",
     "shell.execute_reply": "2022-07-26T03:32:48.858169Z"
    },
    "papermill": {
     "duration": 0.033644,
     "end_time": "2022-07-26T03:32:48.858256",
     "exception": false,
     "start_time": "2022-07-26T03:32:48.824612",
     "status": "completed"
    },
    "tags": []
   },
   "outputs": [],
   "source": [
    "#hide\n",
    "#Koreliacijų koeficientai"
   ]
  },
  {
   "cell_type": "code",
   "execution_count": 10,
   "id": "seeing-celebration",
   "metadata": {
    "execution": {
     "iopub.execute_input": "2022-07-26T03:32:48.889255Z",
     "iopub.status.busy": "2022-07-26T03:32:48.888578Z",
     "iopub.status.idle": "2022-07-26T03:32:48.910012Z",
     "shell.execute_reply": "2022-07-26T03:32:48.909683Z"
    },
    "papermill": {
     "duration": 0.036463,
     "end_time": "2022-07-26T03:32:48.910093",
     "exception": false,
     "start_time": "2022-07-26T03:32:48.873630",
     "status": "completed"
    },
    "tags": []
   },
   "outputs": [],
   "source": [
    "#hide_input\n",
    "#sum_corr = df_all_mrk.corr().sum().sort_values(ascending=True).index.values\n",
    "#df_all_mrk[sum_corr].corr()"
   ]
  },
  {
   "cell_type": "code",
   "execution_count": 11,
   "id": "other-painting",
   "metadata": {
    "execution": {
     "iopub.execute_input": "2022-07-26T03:32:48.940422Z",
     "iopub.status.busy": "2022-07-26T03:32:48.933947Z",
     "iopub.status.idle": "2022-07-26T03:32:48.955718Z",
     "shell.execute_reply": "2022-07-26T03:32:48.955365Z"
    },
    "papermill": {
     "duration": 0.035711,
     "end_time": "2022-07-26T03:32:48.955798",
     "exception": false,
     "start_time": "2022-07-26T03:32:48.920087",
     "status": "completed"
    },
    "tags": []
   },
   "outputs": [],
   "source": [
    "#hide\n",
    "#Koreliacijos matrica. "
   ]
  },
  {
   "cell_type": "code",
   "execution_count": 12,
   "id": "modular-magnitude",
   "metadata": {
    "execution": {
     "iopub.execute_input": "2022-07-26T03:32:48.986116Z",
     "iopub.status.busy": "2022-07-26T03:32:48.985433Z",
     "iopub.status.idle": "2022-07-26T03:32:49.006815Z",
     "shell.execute_reply": "2022-07-26T03:32:49.006471Z"
    },
    "papermill": {
     "duration": 0.035473,
     "end_time": "2022-07-26T03:32:49.006892",
     "exception": false,
     "start_time": "2022-07-26T03:32:48.971419",
     "status": "completed"
    },
    "tags": []
   },
   "outputs": [],
   "source": [
    "#hide_input\n",
    "#plt.figure(figsize=(15, 8))\n",
    "#sns.heatmap(df_all_mrk[sum_corr].corr(), annot=True, cmap=\"BrBG\");\n",
    "#plt.savefig('corr_matrix_all.eps', format='eps')"
   ]
  },
  {
   "cell_type": "code",
   "execution_count": null,
   "id": "original-senator",
   "metadata": {
    "papermill": {
     "duration": 0.009621,
     "end_time": "2022-07-26T03:32:49.025982",
     "exception": false,
     "start_time": "2022-07-26T03:32:49.016361",
     "status": "completed"
    },
    "tags": []
   },
   "outputs": [],
   "source": []
  },
  {
   "cell_type": "code",
   "execution_count": null,
   "id": "saving-secretariat",
   "metadata": {
    "papermill": {
     "duration": 0.009609,
     "end_time": "2022-07-26T03:32:49.045292",
     "exception": false,
     "start_time": "2022-07-26T03:32:49.035683",
     "status": "completed"
    },
    "tags": []
   },
   "outputs": [],
   "source": []
  }
 ],
 "metadata": {
  "kernelspec": {
   "display_name": "Python 3",
   "language": "python",
   "name": "python3"
  },
  "language_info": {
   "codemirror_mode": {
    "name": "ipython",
    "version": 3
   },
   "file_extension": ".py",
   "mimetype": "text/x-python",
   "name": "python",
   "nbconvert_exporter": "python",
   "pygments_lexer": "ipython3",
   "version": "3.6.15"
  },
  "papermill": {
   "default_parameters": {},
   "duration": 17.42655,
   "end_time": "2022-07-26T03:32:49.472367",
   "environment_variables": {},
   "exception": null,
   "input_path": "App-Correlation_charts.ipynb",
   "output_path": "App-Correlation_charts.ipynb",
   "parameters": {},
   "start_time": "2022-07-26T03:32:32.045817",
   "version": "2.2.2"
  }
 },
 "nbformat": 4,
 "nbformat_minor": 5
}