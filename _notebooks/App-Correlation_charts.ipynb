{
 "cells": [
  {
   "cell_type": "markdown",
   "id": "touched-facility",
   "metadata": {
    "papermill": {
     "duration": 0.01547,
     "end_time": "2021-09-27T01:58:50.634299",
     "exception": false,
     "start_time": "2021-09-27T01:58:50.618829",
     "status": "completed"
    },
    "tags": []
   },
   "source": [
    "# Koreliacijų matrica\n",
    "> Išplėstinė koreliacijų matrica. \n",
    "\n",
    "- toc: true \n",
    "- badges: true\n",
    "- comments: false\n",
    "- categories: [Dominykas Tautkus]\n",
    "- image: images/matrix.png"
   ]
  },
  {
   "cell_type": "code",
   "execution_count": null,
   "id": "premium-weekend",
   "metadata": {
    "papermill": {
     "duration": 0.010707,
     "end_time": "2021-09-27T01:58:50.656443",
     "exception": false,
     "start_time": "2021-09-27T01:58:50.645736",
     "status": "completed"
    },
    "tags": []
   },
   "outputs": [],
   "source": []
  },
  {
   "cell_type": "code",
   "execution_count": 1,
   "id": "vertical-rebate",
   "metadata": {
    "execution": {
     "iopub.execute_input": "2021-09-27T01:58:50.692769Z",
     "iopub.status.busy": "2021-09-27T01:58:50.687388Z",
     "iopub.status.idle": "2021-09-27T01:58:50.699928Z",
     "shell.execute_reply": "2021-09-27T01:58:50.699487Z"
    },
    "papermill": {
     "duration": 0.033031,
     "end_time": "2021-09-27T01:58:50.700048",
     "exception": false,
     "start_time": "2021-09-27T01:58:50.667017",
     "status": "completed"
    },
    "tags": []
   },
   "outputs": [],
   "source": [
    "#hide\n",
    "%load_ext autoreload\n",
    "%autoreload 2"
   ]
  },
  {
   "cell_type": "code",
   "execution_count": 2,
   "id": "overall-advancement",
   "metadata": {
    "execution": {
     "iopub.execute_input": "2021-09-27T01:58:50.724855Z",
     "iopub.status.busy": "2021-09-27T01:58:50.724351Z",
     "iopub.status.idle": "2021-09-27T01:58:51.872042Z",
     "shell.execute_reply": "2021-09-27T01:58:51.871515Z"
    },
    "papermill": {
     "duration": 1.161559,
     "end_time": "2021-09-27T01:58:51.872185",
     "exception": false,
     "start_time": "2021-09-27T01:58:50.710626",
     "status": "completed"
    },
    "tags": []
   },
   "outputs": [],
   "source": [
    "#hide\n",
    "from scripts.read_data import read_api\n",
    "from IPython.display import HTML\n",
    "import plotly.graph_objects as go\n"
   ]
  },
  {
   "cell_type": "code",
   "execution_count": 3,
   "id": "light-crazy",
   "metadata": {
    "execution": {
     "iopub.execute_input": "2021-09-27T01:58:51.901474Z",
     "iopub.status.busy": "2021-09-27T01:58:51.900434Z",
     "iopub.status.idle": "2021-09-27T01:58:51.920781Z",
     "shell.execute_reply": "2021-09-27T01:58:51.920296Z"
    },
    "papermill": {
     "duration": 0.036847,
     "end_time": "2021-09-27T01:58:51.920893",
     "exception": false,
     "start_time": "2021-09-27T01:58:51.884046",
     "status": "completed"
    },
    "tags": []
   },
   "outputs": [],
   "source": [
    "#hide\n",
    "### ICO koreliacija"
   ]
  },
  {
   "cell_type": "code",
   "execution_count": 4,
   "id": "likely-bahrain",
   "metadata": {
    "execution": {
     "iopub.execute_input": "2021-09-27T01:58:51.946510Z",
     "iopub.status.busy": "2021-09-27T01:58:51.945976Z",
     "iopub.status.idle": "2021-09-27T01:58:52.761052Z",
     "shell.execute_reply": "2021-09-27T01:58:52.760539Z"
    },
    "papermill": {
     "duration": 0.828673,
     "end_time": "2021-09-27T01:58:52.761178",
     "exception": false,
     "start_time": "2021-09-27T01:58:51.932505",
     "status": "completed"
    },
    "tags": []
   },
   "outputs": [],
   "source": [
    "#hide\n",
    "import matplotlib.pyplot as plt\n",
    "import numpy as np\n",
    "import pandas as pd\n",
    "import seaborn as sns\n",
    "import matplotlib.pyplot as plt \n",
    "import matplotlib.dates as mdates\n",
    "import matplotlib.pyplot as plt"
   ]
  },
  {
   "cell_type": "code",
   "execution_count": 5,
   "id": "superior-blanket",
   "metadata": {
    "execution": {
     "iopub.execute_input": "2021-09-27T01:58:52.794931Z",
     "iopub.status.busy": "2021-09-27T01:58:52.793634Z",
     "iopub.status.idle": "2021-09-27T01:59:05.945448Z",
     "shell.execute_reply": "2021-09-27T01:59:05.944946Z"
    },
    "papermill": {
     "duration": 13.173323,
     "end_time": "2021-09-27T01:59:05.945573",
     "exception": false,
     "start_time": "2021-09-27T01:58:52.772250",
     "status": "completed"
    },
    "tags": []
   },
   "outputs": [
    {
     "name": "stderr",
     "output_type": "stream",
     "text": [
      "/home/runner/work/corr-app/corr-app/_notebooks/scripts/read_data.py:187: SettingWithCopyWarning:\n",
      "\n",
      "\n",
      "A value is trying to be set on a copy of a slice from a DataFrame.\n",
      "Try using .loc[row_indexer,col_indexer] = value instead\n",
      "\n",
      "See the caveats in the documentation: https://pandas.pydata.org/pandas-docs/stable/user_guide/indexing.html#returning-a-view-versus-a-copy\n",
      "\n"
     ]
    },
    {
     "name": "stderr",
     "output_type": "stream",
     "text": [
      "/home/runner/work/corr-app/corr-app/_notebooks/scripts/read_data.py:215: SettingWithCopyWarning:\n",
      "\n",
      "\n",
      "A value is trying to be set on a copy of a slice from a DataFrame.\n",
      "Try using .loc[row_indexer,col_indexer] = value instead\n",
      "\n",
      "See the caveats in the documentation: https://pandas.pydata.org/pandas-docs/stable/user_guide/indexing.html#returning-a-view-versus-a-copy\n",
      "\n"
     ]
    }
   ],
   "source": [
    "#hide\n",
    "df_all = read_api()\n",
    "#df_all = df_all.drop(['SP500', 'XAU', 'ETH', 'BTC'], axis=1)\n",
    "\n"
   ]
  },
  {
   "cell_type": "code",
   "execution_count": 6,
   "id": "mature-alert",
   "metadata": {
    "execution": {
     "iopub.execute_input": "2021-09-27T01:59:05.974065Z",
     "iopub.status.busy": "2021-09-27T01:59:05.973476Z",
     "iopub.status.idle": "2021-09-27T01:59:06.003572Z",
     "shell.execute_reply": "2021-09-27T01:59:06.003060Z"
    },
    "papermill": {
     "duration": 0.046309,
     "end_time": "2021-09-27T01:59:06.003712",
     "exception": false,
     "start_time": "2021-09-27T01:59:05.957403",
     "status": "completed"
    },
    "tags": []
   },
   "outputs": [],
   "source": [
    "#hide_input\n",
    "sum_corr = df_all.corr().sum().sort_values(ascending=True).index.values\n",
    "#df_all[sum_corr].corr()"
   ]
  },
  {
   "cell_type": "markdown",
   "id": "complex-syndicate",
   "metadata": {
    "papermill": {
     "duration": 0.011333,
     "end_time": "2021-09-27T01:59:06.026740",
     "exception": false,
     "start_time": "2021-09-27T01:59:06.015407",
     "status": "completed"
    },
    "tags": []
   },
   "source": [
    "## Išplėstinė koreliacijų matrica. "
   ]
  },
  {
   "cell_type": "code",
   "execution_count": 7,
   "id": "atomic-omaha",
   "metadata": {
    "execution": {
     "iopub.execute_input": "2021-09-27T01:59:06.054485Z",
     "iopub.status.busy": "2021-09-27T01:59:06.053938Z",
     "iopub.status.idle": "2021-09-27T01:59:07.201692Z",
     "shell.execute_reply": "2021-09-27T01:59:07.202110Z"
    },
    "papermill": {
     "duration": 1.164208,
     "end_time": "2021-09-27T01:59:07.202257",
     "exception": false,
     "start_time": "2021-09-27T01:59:06.038049",
     "status": "completed"
    },
    "tags": []
   },
   "outputs": [
    {
     "data": {
      "image/png": "[encoded data removed]",
      "text/plain": [
       "<Figure size 1080x792 with 2 Axes>"
      ]
     },
     "metadata": {
      "needs_background": "light"
     },
     "output_type": "display_data"
    }
   ],
   "source": [
    "#hide_input\n",
    "plt.figure(figsize=(15, 11))\n",
    "sns.heatmap(df_all[sum_corr].corr(), annot=True, cmap=\"cubehelix\") \n",
    "sns.set(font_scale=1.25)\n",
    "plt.savefig('corr_matrix.png', format='eps')"
   ]
  },
  {
   "cell_type": "code",
   "execution_count": 8,
   "id": "arbitrary-sullivan",
   "metadata": {
    "execution": {
     "iopub.execute_input": "2021-09-27T01:59:07.235350Z",
     "iopub.status.busy": "2021-09-27T01:59:07.231806Z",
     "iopub.status.idle": "2021-09-27T01:59:07.257900Z",
     "shell.execute_reply": "2021-09-27T01:59:07.257384Z"
    },
    "papermill": {
     "duration": 0.042158,
     "end_time": "2021-09-27T01:59:07.258004",
     "exception": false,
     "start_time": "2021-09-27T01:59:07.215846",
     "status": "completed"
    },
    "tags": []
   },
   "outputs": [],
   "source": [
    "#hide\n",
    "#df_all_mrk = read_api()"
   ]
  },
  {
   "cell_type": "code",
   "execution_count": 9,
   "id": "delayed-adapter",
   "metadata": {
    "execution": {
     "iopub.execute_input": "2021-09-27T01:59:07.291037Z",
     "iopub.status.busy": "2021-09-27T01:59:07.290522Z",
     "iopub.status.idle": "2021-09-27T01:59:07.313784Z",
     "shell.execute_reply": "2021-09-27T01:59:07.313279Z"
    },
    "papermill": {
     "duration": 0.042668,
     "end_time": "2021-09-27T01:59:07.313896",
     "exception": false,
     "start_time": "2021-09-27T01:59:07.271228",
     "status": "completed"
    },
    "tags": []
   },
   "outputs": [],
   "source": [
    "#hide\n",
    "#Koreliacijų koeficientai"
   ]
  },
  {
   "cell_type": "code",
   "execution_count": 10,
   "id": "seeing-celebration",
   "metadata": {
    "execution": {
     "iopub.execute_input": "2021-09-27T01:59:07.352722Z",
     "iopub.status.busy": "2021-09-27T01:59:07.352213Z",
     "iopub.status.idle": "2021-09-27T01:59:07.374092Z",
     "shell.execute_reply": "2021-09-27T01:59:07.373668Z"
    },
    "papermill": {
     "duration": 0.046286,
     "end_time": "2021-09-27T01:59:07.374192",
     "exception": false,
     "start_time": "2021-09-27T01:59:07.327906",
     "status": "completed"
    },
    "tags": []
   },
   "outputs": [],
   "source": [
    "#hide_input\n",
    "#sum_corr = df_all_mrk.corr().sum().sort_values(ascending=True).index.values\n",
    "#df_all_mrk[sum_corr].corr()"
   ]
  },
  {
   "cell_type": "code",
   "execution_count": 11,
   "id": "other-painting",
   "metadata": {
    "execution": {
     "iopub.execute_input": "2021-09-27T01:59:07.407591Z",
     "iopub.status.busy": "2021-09-27T01:59:07.407089Z",
     "iopub.status.idle": "2021-09-27T01:59:07.429154Z",
     "shell.execute_reply": "2021-09-27T01:59:07.428749Z"
    },
    "papermill": {
     "duration": 0.041905,
     "end_time": "2021-09-27T01:59:07.429253",
     "exception": false,
     "start_time": "2021-09-27T01:59:07.387348",
     "status": "completed"
    },
    "tags": []
   },
   "outputs": [],
   "source": [
    "#hide\n",
    "#Koreliacijos matrica. "
   ]
  },
  {
   "cell_type": "code",
   "execution_count": 12,
   "id": "modular-magnitude",
   "metadata": {
    "execution": {
     "iopub.execute_input": "2021-09-27T01:59:07.458883Z",
     "iopub.status.busy": "2021-09-27T01:59:07.458326Z",
     "iopub.status.idle": "2021-09-27T01:59:07.483127Z",
     "shell.execute_reply": "2021-09-27T01:59:07.483562Z"
    },
    "papermill": {
     "duration": 0.040872,
     "end_time": "2021-09-27T01:59:07.483690",
     "exception": false,
     "start_time": "2021-09-27T01:59:07.442818",
     "status": "completed"
    },
    "tags": []
   },
   "outputs": [],
   "source": [
    "#hide_input\n",
    "#plt.figure(figsize=(15, 8))\n",
    "#sns.heatmap(df_all_mrk[sum_corr].corr(), annot=True, cmap=\"BrBG\");\n",
    "#plt.savefig('corr_matrix_all.eps', format='eps')"
   ]
  },
  {
   "cell_type": "code",
   "execution_count": null,
   "id": "original-senator",
   "metadata": {
    "papermill": {
     "duration": 0.013021,
     "end_time": "2021-09-27T01:59:07.510779",
     "exception": false,
     "start_time": "2021-09-27T01:59:07.497758",
     "status": "completed"
    },
    "tags": []
   },
   "outputs": [],
   "source": []
  },
  {
   "cell_type": "code",
   "execution_count": null,
   "id": "saving-secretariat",
   "metadata": {
    "papermill": {
     "duration": 0.013057,
     "end_time": "2021-09-27T01:59:07.536848",
     "exception": false,
     "start_time": "2021-09-27T01:59:07.523791",
     "status": "completed"
    },
    "tags": []
   },
   "outputs": [],
   "source": []
  }
 ],
 "metadata": {
  "kernelspec": {
   "display_name": "Python 3",
   "language": "python",
   "name": "python3"
  },
  "language_info": {
   "codemirror_mode": {
    "name": "ipython",
    "version": 3
   },
   "file_extension": ".py",
   "mimetype": "text/x-python",
   "name": "python",
   "nbconvert_exporter": "python",
   "pygments_lexer": "ipython3",
   "version": "3.6.15"
  },
  "papermill": {
   "default_parameters": {},
   "duration": 18.480328,
   "end_time": "2021-09-27T01:59:08.058150",
   "environment_variables": {},
   "exception": null,
   "input_path": "App-Correlation_charts.ipynb",
   "output_path": "App-Correlation_charts.ipynb",
   "parameters": {},
   "start_time": "2021-09-27T01:58:49.577822",
   "version": "2.2.2"
  }
 },
 "nbformat": 4,
 "nbformat_minor": 5
}