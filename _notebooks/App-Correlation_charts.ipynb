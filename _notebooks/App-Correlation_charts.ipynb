{
 "cells": [
  {
   "cell_type": "markdown",
   "id": "touched-facility",
   "metadata": {
    "papermill": {
     "duration": 0.014334,
     "end_time": "2022-04-08T02:43:00.366463",
     "exception": false,
     "start_time": "2022-04-08T02:43:00.352129",
     "status": "completed"
    },
    "tags": []
   },
   "source": [
    "# Koreliacijų matrica\n",
    "> Išplėstinė koreliacijų matrica. \n",
    "\n",
    "- toc: true \n",
    "- badges: true\n",
    "- comments: false\n",
    "- categories: [Dominykas Tautkus]\n",
    "- image: images/matrix.png"
   ]
  },
  {
   "cell_type": "code",
   "execution_count": null,
   "id": "premium-weekend",
   "metadata": {
    "papermill": {
     "duration": 0.011329,
     "end_time": "2022-04-08T02:43:00.389568",
     "exception": false,
     "start_time": "2022-04-08T02:43:00.378239",
     "status": "completed"
    },
    "tags": []
   },
   "outputs": [],
   "source": []
  },
  {
   "cell_type": "code",
   "execution_count": 1,
   "id": "vertical-rebate",
   "metadata": {
    "execution": {
     "iopub.execute_input": "2022-04-08T02:43:00.422490Z",
     "iopub.status.busy": "2022-04-08T02:43:00.421934Z",
     "iopub.status.idle": "2022-04-08T02:43:00.432793Z",
     "shell.execute_reply": "2022-04-08T02:43:00.432353Z"
    },
    "papermill": {
     "duration": 0.032408,
     "end_time": "2022-04-08T02:43:00.432927",
     "exception": false,
     "start_time": "2022-04-08T02:43:00.400519",
     "status": "completed"
    },
    "tags": []
   },
   "outputs": [],
   "source": [
    "#hide\n",
    "%load_ext autoreload\n",
    "%autoreload 2"
   ]
  },
  {
   "cell_type": "code",
   "execution_count": 2,
   "id": "overall-advancement",
   "metadata": {
    "execution": {
     "iopub.execute_input": "2022-04-08T02:43:00.470802Z",
     "iopub.status.busy": "2022-04-08T02:43:00.467587Z",
     "iopub.status.idle": "2022-04-08T02:43:02.064501Z",
     "shell.execute_reply": "2022-04-08T02:43:02.063958Z"
    },
    "papermill": {
     "duration": 1.620675,
     "end_time": "2022-04-08T02:43:02.064645",
     "exception": false,
     "start_time": "2022-04-08T02:43:00.443970",
     "status": "completed"
    },
    "tags": []
   },
   "outputs": [],
   "source": [
    "#hide\n",
    "from scripts.read_data import read_api\n",
    "from IPython.display import HTML\n",
    "import plotly.graph_objects as go\n"
   ]
  },
  {
   "cell_type": "code",
   "execution_count": 3,
   "id": "light-crazy",
   "metadata": {
    "execution": {
     "iopub.execute_input": "2022-04-08T02:43:02.099220Z",
     "iopub.status.busy": "2022-04-08T02:43:02.098641Z",
     "iopub.status.idle": "2022-04-08T02:43:02.119265Z",
     "shell.execute_reply": "2022-04-08T02:43:02.119700Z"
    },
    "papermill": {
     "duration": 0.043473,
     "end_time": "2022-04-08T02:43:02.119860",
     "exception": false,
     "start_time": "2022-04-08T02:43:02.076387",
     "status": "completed"
    },
    "tags": []
   },
   "outputs": [],
   "source": [
    "#hide\n",
    "### ICO koreliacija"
   ]
  },
  {
   "cell_type": "code",
   "execution_count": 4,
   "id": "likely-bahrain",
   "metadata": {
    "execution": {
     "iopub.execute_input": "2022-04-08T02:43:02.151329Z",
     "iopub.status.busy": "2022-04-08T02:43:02.146723Z",
     "iopub.status.idle": "2022-04-08T02:43:03.365988Z",
     "shell.execute_reply": "2022-04-08T02:43:03.365430Z"
    },
    "papermill": {
     "duration": 1.235104,
     "end_time": "2022-04-08T02:43:03.366139",
     "exception": false,
     "start_time": "2022-04-08T02:43:02.131035",
     "status": "completed"
    },
    "tags": []
   },
   "outputs": [],
   "source": [
    "#hide\n",
    "import matplotlib.pyplot as plt\n",
    "import numpy as np\n",
    "import pandas as pd\n",
    "import seaborn as sns\n",
    "import matplotlib.pyplot as plt \n",
    "import matplotlib.dates as mdates\n",
    "import matplotlib.pyplot as plt"
   ]
  },
  {
   "cell_type": "code",
   "execution_count": 5,
   "id": "superior-blanket",
   "metadata": {
    "execution": {
     "iopub.execute_input": "2022-04-08T02:43:03.403577Z",
     "iopub.status.busy": "2022-04-08T02:43:03.398441Z",
     "iopub.status.idle": "2022-04-08T02:43:13.227926Z",
     "shell.execute_reply": "2022-04-08T02:43:13.228395Z"
    },
    "papermill": {
     "duration": 9.850947,
     "end_time": "2022-04-08T02:43:13.228551",
     "exception": false,
     "start_time": "2022-04-08T02:43:03.377604",
     "status": "completed"
    },
    "tags": []
   },
   "outputs": [
    {
     "name": "stderr",
     "output_type": "stream",
     "text": [
      "/home/runner/work/corr-app/corr-app/_notebooks/scripts/read_data.py:187: SettingWithCopyWarning:\n",
      "\n",
      "\n",
      "A value is trying to be set on a copy of a slice from a DataFrame.\n",
      "Try using .loc[row_indexer,col_indexer] = value instead\n",
      "\n",
      "See the caveats in the documentation: https://pandas.pydata.org/pandas-docs/stable/user_guide/indexing.html#returning-a-view-versus-a-copy\n",
      "\n"
     ]
    },
    {
     "name": "stderr",
     "output_type": "stream",
     "text": [
      "/home/runner/work/corr-app/corr-app/_notebooks/scripts/read_data.py:215: SettingWithCopyWarning:\n",
      "\n",
      "\n",
      "A value is trying to be set on a copy of a slice from a DataFrame.\n",
      "Try using .loc[row_indexer,col_indexer] = value instead\n",
      "\n",
      "See the caveats in the documentation: https://pandas.pydata.org/pandas-docs/stable/user_guide/indexing.html#returning-a-view-versus-a-copy\n",
      "\n"
     ]
    }
   ],
   "source": [
    "#hide\n",
    "df_all = read_api()\n",
    "#df_all = df_all.drop(['SP500', 'XAU', 'ETH', 'BTC'], axis=1)\n",
    "\n"
   ]
  },
  {
   "cell_type": "code",
   "execution_count": 6,
   "id": "mature-alert",
   "metadata": {
    "execution": {
     "iopub.execute_input": "2022-04-08T02:43:13.265228Z",
     "iopub.status.busy": "2022-04-08T02:43:13.262857Z",
     "iopub.status.idle": "2022-04-08T02:43:13.294082Z",
     "shell.execute_reply": "2022-04-08T02:43:13.294588Z"
    },
    "papermill": {
     "duration": 0.05406,
     "end_time": "2022-04-08T02:43:13.294749",
     "exception": false,
     "start_time": "2022-04-08T02:43:13.240689",
     "status": "completed"
    },
    "tags": []
   },
   "outputs": [],
   "source": [
    "#hide_input\n",
    "sum_corr = df_all.corr().sum().sort_values(ascending=True).index.values\n",
    "#df_all[sum_corr].corr()"
   ]
  },
  {
   "cell_type": "markdown",
   "id": "complex-syndicate",
   "metadata": {
    "papermill": {
     "duration": 0.011849,
     "end_time": "2022-04-08T02:43:13.318446",
     "exception": false,
     "start_time": "2022-04-08T02:43:13.306597",
     "status": "completed"
    },
    "tags": []
   },
   "source": [
    "## Išplėstinė koreliacijų matrica. "
   ]
  },
  {
   "cell_type": "code",
   "execution_count": 7,
   "id": "atomic-omaha",
   "metadata": {
    "execution": {
     "iopub.execute_input": "2022-04-08T02:43:13.353112Z",
     "iopub.status.busy": "2022-04-08T02:43:13.352516Z",
     "iopub.status.idle": "2022-04-08T02:43:14.698713Z",
     "shell.execute_reply": "2022-04-08T02:43:14.699106Z"
    },
    "papermill": {
     "duration": 1.368959,
     "end_time": "2022-04-08T02:43:14.699258",
     "exception": false,
     "start_time": "2022-04-08T02:43:13.330299",
     "status": "completed"
    },
    "tags": []
   },
   "outputs": [
    {
     "data": {
      "image/png": "[encoded data removed]",
      "text/plain": [
       "<Figure size 1080x792 with 2 Axes>"
      ]
     },
     "metadata": {
      "needs_background": "light"
     },
     "output_type": "display_data"
    }
   ],
   "source": [
    "#hide_input\n",
    "plt.figure(figsize=(15, 11))\n",
    "sns.heatmap(df_all[sum_corr].corr(), annot=True, cmap=\"cubehelix\") \n",
    "sns.set(font_scale=1.25)\n",
    "plt.savefig('corr_matrix.png', format='eps')"
   ]
  },
  {
   "cell_type": "code",
   "execution_count": 8,
   "id": "arbitrary-sullivan",
   "metadata": {
    "execution": {
     "iopub.execute_input": "2022-04-08T02:43:14.733240Z",
     "iopub.status.busy": "2022-04-08T02:43:14.732458Z",
     "iopub.status.idle": "2022-04-08T02:43:14.758407Z",
     "shell.execute_reply": "2022-04-08T02:43:14.758883Z"
    },
    "papermill": {
     "duration": 0.045942,
     "end_time": "2022-04-08T02:43:14.759057",
     "exception": false,
     "start_time": "2022-04-08T02:43:14.713115",
     "status": "completed"
    },
    "tags": []
   },
   "outputs": [],
   "source": [
    "#hide\n",
    "#df_all_mrk = read_api()"
   ]
  },
  {
   "cell_type": "code",
   "execution_count": 9,
   "id": "delayed-adapter",
   "metadata": {
    "execution": {
     "iopub.execute_input": "2022-04-08T02:43:14.791842Z",
     "iopub.status.busy": "2022-04-08T02:43:14.791320Z",
     "iopub.status.idle": "2022-04-08T02:43:14.818688Z",
     "shell.execute_reply": "2022-04-08T02:43:14.818195Z"
    },
    "papermill": {
     "duration": 0.045341,
     "end_time": "2022-04-08T02:43:14.818852",
     "exception": false,
     "start_time": "2022-04-08T02:43:14.773511",
     "status": "completed"
    },
    "tags": []
   },
   "outputs": [],
   "source": [
    "#hide\n",
    "#Koreliacijų koeficientai"
   ]
  },
  {
   "cell_type": "code",
   "execution_count": 10,
   "id": "seeing-celebration",
   "metadata": {
    "execution": {
     "iopub.execute_input": "2022-04-08T02:43:14.861073Z",
     "iopub.status.busy": "2022-04-08T02:43:14.860484Z",
     "iopub.status.idle": "2022-04-08T02:43:14.883273Z",
     "shell.execute_reply": "2022-04-08T02:43:14.882548Z"
    },
    "papermill": {
     "duration": 0.04811,
     "end_time": "2022-04-08T02:43:14.883418",
     "exception": false,
     "start_time": "2022-04-08T02:43:14.835308",
     "status": "completed"
    },
    "tags": []
   },
   "outputs": [],
   "source": [
    "#hide_input\n",
    "#sum_corr = df_all_mrk.corr().sum().sort_values(ascending=True).index.values\n",
    "#df_all_mrk[sum_corr].corr()"
   ]
  },
  {
   "cell_type": "code",
   "execution_count": 11,
   "id": "other-painting",
   "metadata": {
    "execution": {
     "iopub.execute_input": "2022-04-08T02:43:14.931182Z",
     "iopub.status.busy": "2022-04-08T02:43:14.928669Z",
     "iopub.status.idle": "2022-04-08T02:43:14.949139Z",
     "shell.execute_reply": "2022-04-08T02:43:14.948706Z"
    },
    "papermill": {
     "duration": 0.05122,
     "end_time": "2022-04-08T02:43:14.949268",
     "exception": false,
     "start_time": "2022-04-08T02:43:14.898048",
     "status": "completed"
    },
    "tags": []
   },
   "outputs": [],
   "source": [
    "#hide\n",
    "#Koreliacijos matrica. "
   ]
  },
  {
   "cell_type": "code",
   "execution_count": 12,
   "id": "modular-magnitude",
   "metadata": {
    "execution": {
     "iopub.execute_input": "2022-04-08T02:43:14.990572Z",
     "iopub.status.busy": "2022-04-08T02:43:14.988176Z",
     "iopub.status.idle": "2022-04-08T02:43:15.011477Z",
     "shell.execute_reply": "2022-04-08T02:43:15.010974Z"
    },
    "papermill": {
     "duration": 0.04861,
     "end_time": "2022-04-08T02:43:15.011632",
     "exception": false,
     "start_time": "2022-04-08T02:43:14.963022",
     "status": "completed"
    },
    "tags": []
   },
   "outputs": [],
   "source": [
    "#hide_input\n",
    "#plt.figure(figsize=(15, 8))\n",
    "#sns.heatmap(df_all_mrk[sum_corr].corr(), annot=True, cmap=\"BrBG\");\n",
    "#plt.savefig('corr_matrix_all.eps', format='eps')"
   ]
  },
  {
   "cell_type": "code",
   "execution_count": null,
   "id": "original-senator",
   "metadata": {
    "papermill": {
     "duration": 0.013438,
     "end_time": "2022-04-08T02:43:15.039613",
     "exception": false,
     "start_time": "2022-04-08T02:43:15.026175",
     "status": "completed"
    },
    "tags": []
   },
   "outputs": [],
   "source": []
  },
  {
   "cell_type": "code",
   "execution_count": null,
   "id": "saving-secretariat",
   "metadata": {
    "papermill": {
     "duration": 0.013414,
     "end_time": "2022-04-08T02:43:15.066466",
     "exception": false,
     "start_time": "2022-04-08T02:43:15.053052",
     "status": "completed"
    },
    "tags": []
   },
   "outputs": [],
   "source": []
  }
 ],
 "metadata": {
  "kernelspec": {
   "display_name": "Python 3",
   "language": "python",
   "name": "python3"
  },
  "language_info": {
   "codemirror_mode": {
    "name": "ipython",
    "version": 3
   },
   "file_extension": ".py",
   "mimetype": "text/x-python",
   "name": "python",
   "nbconvert_exporter": "python",
   "pygments_lexer": "ipython3",
   "version": "3.6.15"
  },
  "papermill": {
   "default_parameters": {},
   "duration": 16.612616,
   "end_time": "2022-04-08T02:43:15.699865",
   "environment_variables": {},
   "exception": null,
   "input_path": "App-Correlation_charts.ipynb",
   "output_path": "App-Correlation_charts.ipynb",
   "parameters": {},
   "start_time": "2022-04-08T02:42:59.087249",
   "version": "2.2.2"
  }
 },
 "nbformat": 4,
 "nbformat_minor": 5
}