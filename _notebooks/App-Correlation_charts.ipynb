{
 "cells": [
  {
   "cell_type": "markdown",
   "id": "touched-facility",
   "metadata": {
    "papermill": {
     "duration": 0.017836,
     "end_time": "2022-10-03T03:03:33.993186",
     "exception": false,
     "start_time": "2022-10-03T03:03:33.975350",
     "status": "completed"
    },
    "tags": []
   },
   "source": [
    "# Koreliacijų matrica\n",
    "> Išplėstinė koreliacijų matrica. \n",
    "\n",
    "- toc: true \n",
    "- badges: true\n",
    "- comments: false\n",
    "- categories: [Dominykas Tautkus]\n",
    "- image: images/matrix.png"
   ]
  },
  {
   "cell_type": "code",
   "execution_count": null,
   "id": "premium-weekend",
   "metadata": {
    "papermill": {
     "duration": 0.01199,
     "end_time": "2022-10-03T03:03:34.018336",
     "exception": false,
     "start_time": "2022-10-03T03:03:34.006346",
     "status": "completed"
    },
    "tags": []
   },
   "outputs": [],
   "source": []
  },
  {
   "cell_type": "code",
   "execution_count": 1,
   "id": "vertical-rebate",
   "metadata": {
    "execution": {
     "iopub.execute_input": "2022-10-03T03:03:34.057457Z",
     "iopub.status.busy": "2022-10-03T03:03:34.051552Z",
     "iopub.status.idle": "2022-10-03T03:03:34.069787Z",
     "shell.execute_reply": "2022-10-03T03:03:34.069067Z"
    },
    "papermill": {
     "duration": 0.039499,
     "end_time": "2022-10-03T03:03:34.069930",
     "exception": false,
     "start_time": "2022-10-03T03:03:34.030431",
     "status": "completed"
    },
    "tags": []
   },
   "outputs": [],
   "source": [
    "#hide\n",
    "%load_ext autoreload\n",
    "%autoreload 2"
   ]
  },
  {
   "cell_type": "code",
   "execution_count": 2,
   "id": "overall-advancement",
   "metadata": {
    "execution": {
     "iopub.execute_input": "2022-10-03T03:03:34.106190Z",
     "iopub.status.busy": "2022-10-03T03:03:34.103784Z",
     "iopub.status.idle": "2022-10-03T03:03:35.698459Z",
     "shell.execute_reply": "2022-10-03T03:03:35.697882Z"
    },
    "papermill": {
     "duration": 1.616601,
     "end_time": "2022-10-03T03:03:35.698599",
     "exception": false,
     "start_time": "2022-10-03T03:03:34.081998",
     "status": "completed"
    },
    "tags": []
   },
   "outputs": [],
   "source": [
    "#hide\n",
    "from scripts.read_data import read_api\n",
    "from IPython.display import HTML\n",
    "import plotly.graph_objects as go\n"
   ]
  },
  {
   "cell_type": "code",
   "execution_count": 3,
   "id": "light-crazy",
   "metadata": {
    "execution": {
     "iopub.execute_input": "2022-10-03T03:03:35.732277Z",
     "iopub.status.busy": "2022-10-03T03:03:35.729508Z",
     "iopub.status.idle": "2022-10-03T03:03:35.755860Z",
     "shell.execute_reply": "2022-10-03T03:03:35.756596Z"
    },
    "papermill": {
     "duration": 0.045724,
     "end_time": "2022-10-03T03:03:35.756760",
     "exception": false,
     "start_time": "2022-10-03T03:03:35.711036",
     "status": "completed"
    },
    "tags": []
   },
   "outputs": [],
   "source": [
    "#hide\n",
    "### ICO koreliacija"
   ]
  },
  {
   "cell_type": "code",
   "execution_count": 4,
   "id": "likely-bahrain",
   "metadata": {
    "execution": {
     "iopub.execute_input": "2022-10-03T03:03:35.788799Z",
     "iopub.status.busy": "2022-10-03T03:03:35.787602Z",
     "iopub.status.idle": "2022-10-03T03:03:36.747726Z",
     "shell.execute_reply": "2022-10-03T03:03:36.747109Z"
    },
    "papermill": {
     "duration": 0.978368,
     "end_time": "2022-10-03T03:03:36.747866",
     "exception": false,
     "start_time": "2022-10-03T03:03:35.769498",
     "status": "completed"
    },
    "tags": []
   },
   "outputs": [],
   "source": [
    "#hide\n",
    "import matplotlib.pyplot as plt\n",
    "import numpy as np\n",
    "import pandas as pd\n",
    "import seaborn as sns\n",
    "import matplotlib.pyplot as plt \n",
    "import matplotlib.dates as mdates\n",
    "import matplotlib.pyplot as plt"
   ]
  },
  {
   "cell_type": "code",
   "execution_count": 5,
   "id": "superior-blanket",
   "metadata": {
    "execution": {
     "iopub.execute_input": "2022-10-03T03:03:36.779906Z",
     "iopub.status.busy": "2022-10-03T03:03:36.778258Z",
     "iopub.status.idle": "2022-10-03T03:03:46.423992Z",
     "shell.execute_reply": "2022-10-03T03:03:46.422426Z"
    },
    "papermill": {
     "duration": 9.663938,
     "end_time": "2022-10-03T03:03:46.424138",
     "exception": false,
     "start_time": "2022-10-03T03:03:36.760200",
     "status": "completed"
    },
    "tags": []
   },
   "outputs": [
    {
     "name": "stderr",
     "output_type": "stream",
     "text": [
      "/home/runner/work/corr-app/corr-app/_notebooks/scripts/read_data.py:187: SettingWithCopyWarning:\n",
      "\n",
      "\n",
      "A value is trying to be set on a copy of a slice from a DataFrame.\n",
      "Try using .loc[row_indexer,col_indexer] = value instead\n",
      "\n",
      "See the caveats in the documentation: https://pandas.pydata.org/pandas-docs/stable/user_guide/indexing.html#returning-a-view-versus-a-copy\n",
      "\n"
     ]
    },
    {
     "name": "stderr",
     "output_type": "stream",
     "text": [
      "/home/runner/work/corr-app/corr-app/_notebooks/scripts/read_data.py:215: SettingWithCopyWarning:\n",
      "\n",
      "\n",
      "A value is trying to be set on a copy of a slice from a DataFrame.\n",
      "Try using .loc[row_indexer,col_indexer] = value instead\n",
      "\n",
      "See the caveats in the documentation: https://pandas.pydata.org/pandas-docs/stable/user_guide/indexing.html#returning-a-view-versus-a-copy\n",
      "\n"
     ]
    }
   ],
   "source": [
    "#hide\n",
    "df_all = read_api()\n",
    "#df_all = df_all.drop(['SP500', 'XAU', 'ETH', 'BTC'], axis=1)\n",
    "\n"
   ]
  },
  {
   "cell_type": "code",
   "execution_count": 6,
   "id": "mature-alert",
   "metadata": {
    "execution": {
     "iopub.execute_input": "2022-10-03T03:03:46.461213Z",
     "iopub.status.busy": "2022-10-03T03:03:46.460047Z",
     "iopub.status.idle": "2022-10-03T03:03:46.494285Z",
     "shell.execute_reply": "2022-10-03T03:03:46.493599Z"
    },
    "papermill": {
     "duration": 0.056031,
     "end_time": "2022-10-03T03:03:46.494412",
     "exception": false,
     "start_time": "2022-10-03T03:03:46.438381",
     "status": "completed"
    },
    "tags": []
   },
   "outputs": [],
   "source": [
    "#hide_input\n",
    "sum_corr = df_all.corr().sum().sort_values(ascending=True).index.values\n",
    "#df_all[sum_corr].corr()"
   ]
  },
  {
   "cell_type": "markdown",
   "id": "complex-syndicate",
   "metadata": {
    "papermill": {
     "duration": 0.012681,
     "end_time": "2022-10-03T03:03:46.519775",
     "exception": false,
     "start_time": "2022-10-03T03:03:46.507094",
     "status": "completed"
    },
    "tags": []
   },
   "source": [
    "## Išplėstinė koreliacijų matrica. "
   ]
  },
  {
   "cell_type": "code",
   "execution_count": 7,
   "id": "atomic-omaha",
   "metadata": {
    "execution": {
     "iopub.execute_input": "2022-10-03T03:03:46.550416Z",
     "iopub.status.busy": "2022-10-03T03:03:46.548970Z",
     "iopub.status.idle": "2022-10-03T03:03:47.941724Z",
     "shell.execute_reply": "2022-10-03T03:03:47.942260Z"
    },
    "papermill": {
     "duration": 1.410157,
     "end_time": "2022-10-03T03:03:47.942413",
     "exception": false,
     "start_time": "2022-10-03T03:03:46.532256",
     "status": "completed"
    },
    "tags": []
   },
   "outputs": [
    {
     "data": {
      "image/png": "[encoded data removed]",
      "text/plain": [
       "<Figure size 1080x792 with 2 Axes>"
      ]
     },
     "metadata": {
      "needs_background": "light"
     },
     "output_type": "display_data"
    }
   ],
   "source": [
    "#hide_input\n",
    "plt.figure(figsize=(15, 11))\n",
    "sns.heatmap(df_all[sum_corr].corr(), annot=True, cmap=\"cubehelix\") \n",
    "sns.set(font_scale=1.25)\n",
    "plt.savefig('corr_matrix.png', format='eps')"
   ]
  },
  {
   "cell_type": "code",
   "execution_count": 8,
   "id": "arbitrary-sullivan",
   "metadata": {
    "execution": {
     "iopub.execute_input": "2022-10-03T03:03:47.979473Z",
     "iopub.status.busy": "2022-10-03T03:03:47.978804Z",
     "iopub.status.idle": "2022-10-03T03:03:48.010350Z",
     "shell.execute_reply": "2022-10-03T03:03:48.009422Z"
    },
    "papermill": {
     "duration": 0.052692,
     "end_time": "2022-10-03T03:03:48.010516",
     "exception": false,
     "start_time": "2022-10-03T03:03:47.957824",
     "status": "completed"
    },
    "tags": []
   },
   "outputs": [],
   "source": [
    "#hide\n",
    "#df_all_mrk = read_api()"
   ]
  },
  {
   "cell_type": "code",
   "execution_count": 9,
   "id": "delayed-adapter",
   "metadata": {
    "execution": {
     "iopub.execute_input": "2022-10-03T03:03:48.049696Z",
     "iopub.status.busy": "2022-10-03T03:03:48.048976Z",
     "iopub.status.idle": "2022-10-03T03:03:48.081102Z",
     "shell.execute_reply": "2022-10-03T03:03:48.080249Z"
    },
    "papermill": {
     "duration": 0.055121,
     "end_time": "2022-10-03T03:03:48.081339",
     "exception": false,
     "start_time": "2022-10-03T03:03:48.026218",
     "status": "completed"
    },
    "tags": []
   },
   "outputs": [],
   "source": [
    "#hide\n",
    "#Koreliacijų koeficientai"
   ]
  },
  {
   "cell_type": "code",
   "execution_count": 10,
   "id": "seeing-celebration",
   "metadata": {
    "execution": {
     "iopub.execute_input": "2022-10-03T03:03:48.116995Z",
     "iopub.status.busy": "2022-10-03T03:03:48.116323Z",
     "iopub.status.idle": "2022-10-03T03:03:48.149950Z",
     "shell.execute_reply": "2022-10-03T03:03:48.148896Z"
    },
    "papermill": {
     "duration": 0.052946,
     "end_time": "2022-10-03T03:03:48.150159",
     "exception": false,
     "start_time": "2022-10-03T03:03:48.097213",
     "status": "completed"
    },
    "tags": []
   },
   "outputs": [],
   "source": [
    "#hide_input\n",
    "#sum_corr = df_all_mrk.corr().sum().sort_values(ascending=True).index.values\n",
    "#df_all_mrk[sum_corr].corr()"
   ]
  },
  {
   "cell_type": "code",
   "execution_count": 11,
   "id": "other-painting",
   "metadata": {
    "execution": {
     "iopub.execute_input": "2022-10-03T03:03:48.185569Z",
     "iopub.status.busy": "2022-10-03T03:03:48.184873Z",
     "iopub.status.idle": "2022-10-03T03:03:48.215669Z",
     "shell.execute_reply": "2022-10-03T03:03:48.215115Z"
    },
    "papermill": {
     "duration": 0.049216,
     "end_time": "2022-10-03T03:03:48.215795",
     "exception": false,
     "start_time": "2022-10-03T03:03:48.166579",
     "status": "completed"
    },
    "tags": []
   },
   "outputs": [],
   "source": [
    "#hide\n",
    "#Koreliacijos matrica. "
   ]
  },
  {
   "cell_type": "code",
   "execution_count": 12,
   "id": "modular-magnitude",
   "metadata": {
    "execution": {
     "iopub.execute_input": "2022-10-03T03:03:48.251488Z",
     "iopub.status.busy": "2022-10-03T03:03:48.250559Z",
     "iopub.status.idle": "2022-10-03T03:03:48.282242Z",
     "shell.execute_reply": "2022-10-03T03:03:48.281214Z"
    },
    "papermill": {
     "duration": 0.050587,
     "end_time": "2022-10-03T03:03:48.282449",
     "exception": false,
     "start_time": "2022-10-03T03:03:48.231862",
     "status": "completed"
    },
    "tags": []
   },
   "outputs": [],
   "source": [
    "#hide_input\n",
    "#plt.figure(figsize=(15, 8))\n",
    "#sns.heatmap(df_all_mrk[sum_corr].corr(), annot=True, cmap=\"BrBG\");\n",
    "#plt.savefig('corr_matrix_all.eps', format='eps')"
   ]
  },
  {
   "cell_type": "code",
   "execution_count": null,
   "id": "original-senator",
   "metadata": {
    "papermill": {
     "duration": 0.014839,
     "end_time": "2022-10-03T03:03:48.313456",
     "exception": false,
     "start_time": "2022-10-03T03:03:48.298617",
     "status": "completed"
    },
    "tags": []
   },
   "outputs": [],
   "source": []
  },
  {
   "cell_type": "code",
   "execution_count": null,
   "id": "saving-secretariat",
   "metadata": {
    "papermill": {
     "duration": 0.014775,
     "end_time": "2022-10-03T03:03:48.343122",
     "exception": false,
     "start_time": "2022-10-03T03:03:48.328347",
     "status": "completed"
    },
    "tags": []
   },
   "outputs": [],
   "source": []
  }
 ],
 "metadata": {
  "kernelspec": {
   "display_name": "Python 3",
   "language": "python",
   "name": "python3"
  },
  "language_info": {
   "codemirror_mode": {
    "name": "ipython",
    "version": 3
   },
   "file_extension": ".py",
   "mimetype": "text/x-python",
   "name": "python",
   "nbconvert_exporter": "python",
   "pygments_lexer": "ipython3",
   "version": "3.6.15"
  },
  "papermill": {
   "default_parameters": {},
   "duration": 16.182415,
   "end_time": "2022-10-03T03:03:48.880261",
   "environment_variables": {},
   "exception": null,
   "input_path": "App-Correlation_charts.ipynb",
   "output_path": "App-Correlation_charts.ipynb",
   "parameters": {},
   "start_time": "2022-10-03T03:03:32.697846",
   "version": "2.2.2"
  }
 },
 "nbformat": 4,
 "nbformat_minor": 5
}