{
 "cells": [
  {
   "cell_type": "markdown",
   "id": "touched-facility",
   "metadata": {
    "papermill": {
     "duration": 0.015956,
     "end_time": "2022-10-11T03:34:40.194964",
     "exception": false,
     "start_time": "2022-10-11T03:34:40.179008",
     "status": "completed"
    },
    "tags": []
   },
   "source": [
    "# Koreliacijų matrica\n",
    "> Išplėstinė koreliacijų matrica. \n",
    "\n",
    "- toc: true \n",
    "- badges: true\n",
    "- comments: false\n",
    "- categories: [Dominykas Tautkus]\n",
    "- image: images/matrix.png"
   ]
  },
  {
   "cell_type": "code",
   "execution_count": null,
   "id": "premium-weekend",
   "metadata": {
    "papermill": {
     "duration": 0.01697,
     "end_time": "2022-10-11T03:34:40.224782",
     "exception": false,
     "start_time": "2022-10-11T03:34:40.207812",
     "status": "completed"
    },
    "tags": []
   },
   "outputs": [],
   "source": []
  },
  {
   "cell_type": "code",
   "execution_count": 1,
   "id": "vertical-rebate",
   "metadata": {
    "execution": {
     "iopub.execute_input": "2022-10-11T03:34:40.261678Z",
     "iopub.status.busy": "2022-10-11T03:34:40.260969Z",
     "iopub.status.idle": "2022-10-11T03:34:40.273340Z",
     "shell.execute_reply": "2022-10-11T03:34:40.272762Z"
    },
    "papermill": {
     "duration": 0.036064,
     "end_time": "2022-10-11T03:34:40.273489",
     "exception": false,
     "start_time": "2022-10-11T03:34:40.237425",
     "status": "completed"
    },
    "tags": []
   },
   "outputs": [],
   "source": [
    "#hide\n",
    "%load_ext autoreload\n",
    "%autoreload 2"
   ]
  },
  {
   "cell_type": "code",
   "execution_count": 2,
   "id": "overall-advancement",
   "metadata": {
    "execution": {
     "iopub.execute_input": "2022-10-11T03:34:40.303734Z",
     "iopub.status.busy": "2022-10-11T03:34:40.302991Z",
     "iopub.status.idle": "2022-10-11T03:34:41.749918Z",
     "shell.execute_reply": "2022-10-11T03:34:41.749299Z"
    },
    "papermill": {
     "duration": 1.464495,
     "end_time": "2022-10-11T03:34:41.750053",
     "exception": false,
     "start_time": "2022-10-11T03:34:40.285558",
     "status": "completed"
    },
    "tags": []
   },
   "outputs": [],
   "source": [
    "#hide\n",
    "from scripts.read_data import read_api\n",
    "from IPython.display import HTML\n",
    "import plotly.graph_objects as go\n"
   ]
  },
  {
   "cell_type": "code",
   "execution_count": 3,
   "id": "light-crazy",
   "metadata": {
    "execution": {
     "iopub.execute_input": "2022-10-11T03:34:41.782872Z",
     "iopub.status.busy": "2022-10-11T03:34:41.780746Z",
     "iopub.status.idle": "2022-10-11T03:34:41.807984Z",
     "shell.execute_reply": "2022-10-11T03:34:41.807384Z"
    },
    "papermill": {
     "duration": 0.045905,
     "end_time": "2022-10-11T03:34:41.808133",
     "exception": false,
     "start_time": "2022-10-11T03:34:41.762228",
     "status": "completed"
    },
    "tags": []
   },
   "outputs": [],
   "source": [
    "#hide\n",
    "### ICO koreliacija"
   ]
  },
  {
   "cell_type": "code",
   "execution_count": 4,
   "id": "likely-bahrain",
   "metadata": {
    "execution": {
     "iopub.execute_input": "2022-10-11T03:34:41.842358Z",
     "iopub.status.busy": "2022-10-11T03:34:41.836916Z",
     "iopub.status.idle": "2022-10-11T03:34:42.807900Z",
     "shell.execute_reply": "2022-10-11T03:34:42.807115Z"
    },
    "papermill": {
     "duration": 0.987148,
     "end_time": "2022-10-11T03:34:42.808066",
     "exception": false,
     "start_time": "2022-10-11T03:34:41.820918",
     "status": "completed"
    },
    "tags": []
   },
   "outputs": [],
   "source": [
    "#hide\n",
    "import matplotlib.pyplot as plt\n",
    "import numpy as np\n",
    "import pandas as pd\n",
    "import seaborn as sns\n",
    "import matplotlib.pyplot as plt \n",
    "import matplotlib.dates as mdates\n",
    "import matplotlib.pyplot as plt"
   ]
  },
  {
   "cell_type": "code",
   "execution_count": 5,
   "id": "superior-blanket",
   "metadata": {
    "execution": {
     "iopub.execute_input": "2022-10-11T03:34:42.840749Z",
     "iopub.status.busy": "2022-10-11T03:34:42.839987Z",
     "iopub.status.idle": "2022-10-11T03:34:52.566558Z",
     "shell.execute_reply": "2022-10-11T03:34:52.565588Z"
    },
    "papermill": {
     "duration": 9.745018,
     "end_time": "2022-10-11T03:34:52.566701",
     "exception": false,
     "start_time": "2022-10-11T03:34:42.821683",
     "status": "completed"
    },
    "tags": []
   },
   "outputs": [
    {
     "name": "stderr",
     "output_type": "stream",
     "text": [
      "/home/runner/work/corr-app/corr-app/_notebooks/scripts/read_data.py:187: SettingWithCopyWarning:\n",
      "\n",
      "\n",
      "A value is trying to be set on a copy of a slice from a DataFrame.\n",
      "Try using .loc[row_indexer,col_indexer] = value instead\n",
      "\n",
      "See the caveats in the documentation: https://pandas.pydata.org/pandas-docs/stable/user_guide/indexing.html#returning-a-view-versus-a-copy\n",
      "\n"
     ]
    },
    {
     "name": "stderr",
     "output_type": "stream",
     "text": [
      "/home/runner/work/corr-app/corr-app/_notebooks/scripts/read_data.py:215: SettingWithCopyWarning:\n",
      "\n",
      "\n",
      "A value is trying to be set on a copy of a slice from a DataFrame.\n",
      "Try using .loc[row_indexer,col_indexer] = value instead\n",
      "\n",
      "See the caveats in the documentation: https://pandas.pydata.org/pandas-docs/stable/user_guide/indexing.html#returning-a-view-versus-a-copy\n",
      "\n"
     ]
    }
   ],
   "source": [
    "#hide\n",
    "df_all = read_api()\n",
    "#df_all = df_all.drop(['SP500', 'XAU', 'ETH', 'BTC'], axis=1)\n",
    "\n"
   ]
  },
  {
   "cell_type": "code",
   "execution_count": 6,
   "id": "mature-alert",
   "metadata": {
    "execution": {
     "iopub.execute_input": "2022-10-11T03:34:52.600682Z",
     "iopub.status.busy": "2022-10-11T03:34:52.598746Z",
     "iopub.status.idle": "2022-10-11T03:34:52.634262Z",
     "shell.execute_reply": "2022-10-11T03:34:52.632868Z"
    },
    "papermill": {
     "duration": 0.053552,
     "end_time": "2022-10-11T03:34:52.634437",
     "exception": false,
     "start_time": "2022-10-11T03:34:52.580885",
     "status": "completed"
    },
    "tags": []
   },
   "outputs": [],
   "source": [
    "#hide_input\n",
    "sum_corr = df_all.corr().sum().sort_values(ascending=True).index.values\n",
    "#df_all[sum_corr].corr()"
   ]
  },
  {
   "cell_type": "markdown",
   "id": "complex-syndicate",
   "metadata": {
    "papermill": {
     "duration": 0.012436,
     "end_time": "2022-10-11T03:34:52.660123",
     "exception": false,
     "start_time": "2022-10-11T03:34:52.647687",
     "status": "completed"
    },
    "tags": []
   },
   "source": [
    "## Išplėstinė koreliacijų matrica. "
   ]
  },
  {
   "cell_type": "code",
   "execution_count": 7,
   "id": "atomic-omaha",
   "metadata": {
    "execution": {
     "iopub.execute_input": "2022-10-11T03:34:52.690869Z",
     "iopub.status.busy": "2022-10-11T03:34:52.690187Z",
     "iopub.status.idle": "2022-10-11T03:34:54.051707Z",
     "shell.execute_reply": "2022-10-11T03:34:54.052227Z"
    },
    "papermill": {
     "duration": 1.37981,
     "end_time": "2022-10-11T03:34:54.052380",
     "exception": false,
     "start_time": "2022-10-11T03:34:52.672570",
     "status": "completed"
    },
    "tags": []
   },
   "outputs": [
    {
     "data": {
      "image/png": "[encoded data removed]",
      "text/plain": [
       "<Figure size 1080x792 with 2 Axes>"
      ]
     },
     "metadata": {
      "needs_background": "light"
     },
     "output_type": "display_data"
    }
   ],
   "source": [
    "#hide_input\n",
    "plt.figure(figsize=(15, 11))\n",
    "sns.heatmap(df_all[sum_corr].corr(), annot=True, cmap=\"cubehelix\") \n",
    "sns.set(font_scale=1.25)\n",
    "plt.savefig('corr_matrix.png', format='eps')"
   ]
  },
  {
   "cell_type": "code",
   "execution_count": 8,
   "id": "arbitrary-sullivan",
   "metadata": {
    "execution": {
     "iopub.execute_input": "2022-10-11T03:34:54.087775Z",
     "iopub.status.busy": "2022-10-11T03:34:54.087107Z",
     "iopub.status.idle": "2022-10-11T03:34:54.119259Z",
     "shell.execute_reply": "2022-10-11T03:34:54.118565Z"
    },
    "papermill": {
     "duration": 0.051327,
     "end_time": "2022-10-11T03:34:54.119422",
     "exception": false,
     "start_time": "2022-10-11T03:34:54.068095",
     "status": "completed"
    },
    "tags": []
   },
   "outputs": [],
   "source": [
    "#hide\n",
    "#df_all_mrk = read_api()"
   ]
  },
  {
   "cell_type": "code",
   "execution_count": 9,
   "id": "delayed-adapter",
   "metadata": {
    "execution": {
     "iopub.execute_input": "2022-10-11T03:34:54.155363Z",
     "iopub.status.busy": "2022-10-11T03:34:54.154694Z",
     "iopub.status.idle": "2022-10-11T03:34:54.190538Z",
     "shell.execute_reply": "2022-10-11T03:34:54.189191Z"
    },
    "papermill": {
     "duration": 0.055101,
     "end_time": "2022-10-11T03:34:54.190764",
     "exception": false,
     "start_time": "2022-10-11T03:34:54.135663",
     "status": "completed"
    },
    "tags": []
   },
   "outputs": [],
   "source": [
    "#hide\n",
    "#Koreliacijų koeficientai"
   ]
  },
  {
   "cell_type": "code",
   "execution_count": 10,
   "id": "seeing-celebration",
   "metadata": {
    "execution": {
     "iopub.execute_input": "2022-10-11T03:34:54.229457Z",
     "iopub.status.busy": "2022-10-11T03:34:54.228009Z",
     "iopub.status.idle": "2022-10-11T03:34:54.259625Z",
     "shell.execute_reply": "2022-10-11T03:34:54.258708Z"
    },
    "papermill": {
     "duration": 0.052084,
     "end_time": "2022-10-11T03:34:54.259824",
     "exception": false,
     "start_time": "2022-10-11T03:34:54.207740",
     "status": "completed"
    },
    "tags": []
   },
   "outputs": [],
   "source": [
    "#hide_input\n",
    "#sum_corr = df_all_mrk.corr().sum().sort_values(ascending=True).index.values\n",
    "#df_all_mrk[sum_corr].corr()"
   ]
  },
  {
   "cell_type": "code",
   "execution_count": 11,
   "id": "other-painting",
   "metadata": {
    "execution": {
     "iopub.execute_input": "2022-10-11T03:34:54.295551Z",
     "iopub.status.busy": "2022-10-11T03:34:54.294868Z",
     "iopub.status.idle": "2022-10-11T03:34:54.324976Z",
     "shell.execute_reply": "2022-10-11T03:34:54.324235Z"
    },
    "papermill": {
     "duration": 0.048777,
     "end_time": "2022-10-11T03:34:54.325107",
     "exception": false,
     "start_time": "2022-10-11T03:34:54.276330",
     "status": "completed"
    },
    "tags": []
   },
   "outputs": [],
   "source": [
    "#hide\n",
    "#Koreliacijos matrica. "
   ]
  },
  {
   "cell_type": "code",
   "execution_count": 12,
   "id": "modular-magnitude",
   "metadata": {
    "execution": {
     "iopub.execute_input": "2022-10-11T03:34:54.360963Z",
     "iopub.status.busy": "2022-10-11T03:34:54.360340Z",
     "iopub.status.idle": "2022-10-11T03:34:54.391400Z",
     "shell.execute_reply": "2022-10-11T03:34:54.390789Z"
    },
    "papermill": {
     "duration": 0.050341,
     "end_time": "2022-10-11T03:34:54.391540",
     "exception": false,
     "start_time": "2022-10-11T03:34:54.341199",
     "status": "completed"
    },
    "tags": []
   },
   "outputs": [],
   "source": [
    "#hide_input\n",
    "#plt.figure(figsize=(15, 8))\n",
    "#sns.heatmap(df_all_mrk[sum_corr].corr(), annot=True, cmap=\"BrBG\");\n",
    "#plt.savefig('corr_matrix_all.eps', format='eps')"
   ]
  },
  {
   "cell_type": "code",
   "execution_count": null,
   "id": "original-senator",
   "metadata": {
    "papermill": {
     "duration": 0.014626,
     "end_time": "2022-10-11T03:34:54.421438",
     "exception": false,
     "start_time": "2022-10-11T03:34:54.406812",
     "status": "completed"
    },
    "tags": []
   },
   "outputs": [],
   "source": []
  },
  {
   "cell_type": "code",
   "execution_count": null,
   "id": "saving-secretariat",
   "metadata": {
    "papermill": {
     "duration": 0.01474,
     "end_time": "2022-10-11T03:34:54.451250",
     "exception": false,
     "start_time": "2022-10-11T03:34:54.436510",
     "status": "completed"
    },
    "tags": []
   },
   "outputs": [],
   "source": []
  }
 ],
 "metadata": {
  "kernelspec": {
   "display_name": "Python 3",
   "language": "python",
   "name": "python3"
  },
  "language_info": {
   "codemirror_mode": {
    "name": "ipython",
    "version": 3
   },
   "file_extension": ".py",
   "mimetype": "text/x-python",
   "name": "python",
   "nbconvert_exporter": "python",
   "pygments_lexer": "ipython3",
   "version": "3.6.15"
  },
  "papermill": {
   "default_parameters": {},
   "duration": 16.076727,
   "end_time": "2022-10-11T03:34:54.986046",
   "environment_variables": {},
   "exception": null,
   "input_path": "App-Correlation_charts.ipynb",
   "output_path": "App-Correlation_charts.ipynb",
   "parameters": {},
   "start_time": "2022-10-11T03:34:38.909319",
   "version": "2.2.2"
  }
 },
 "nbformat": 4,
 "nbformat_minor": 5
}