{
 "cells": [
  {
   "cell_type": "markdown",
   "id": "touched-facility",
   "metadata": {
    "papermill": {
     "duration": 0.014514,
     "end_time": "2021-12-07T02:04:59.809946",
     "exception": false,
     "start_time": "2021-12-07T02:04:59.795432",
     "status": "completed"
    },
    "tags": []
   },
   "source": [
    "# Koreliacijų matrica\n",
    "> Išplėstinė koreliacijų matrica. \n",
    "\n",
    "- toc: true \n",
    "- badges: true\n",
    "- comments: false\n",
    "- categories: [Dominykas Tautkus]\n",
    "- image: images/matrix.png"
   ]
  },
  {
   "cell_type": "code",
   "execution_count": null,
   "id": "premium-weekend",
   "metadata": {
    "papermill": {
     "duration": 0.010613,
     "end_time": "2021-12-07T02:04:59.832013",
     "exception": false,
     "start_time": "2021-12-07T02:04:59.821400",
     "status": "completed"
    },
    "tags": []
   },
   "outputs": [],
   "source": []
  },
  {
   "cell_type": "code",
   "execution_count": 1,
   "id": "vertical-rebate",
   "metadata": {
    "execution": {
     "iopub.execute_input": "2021-12-07T02:04:59.863597Z",
     "iopub.status.busy": "2021-12-07T02:04:59.863061Z",
     "iopub.status.idle": "2021-12-07T02:04:59.872652Z",
     "shell.execute_reply": "2021-12-07T02:04:59.873094Z"
    },
    "papermill": {
     "duration": 0.030607,
     "end_time": "2021-12-07T02:04:59.873234",
     "exception": false,
     "start_time": "2021-12-07T02:04:59.842627",
     "status": "completed"
    },
    "tags": []
   },
   "outputs": [],
   "source": [
    "#hide\n",
    "%load_ext autoreload\n",
    "%autoreload 2"
   ]
  },
  {
   "cell_type": "code",
   "execution_count": 2,
   "id": "overall-advancement",
   "metadata": {
    "execution": {
     "iopub.execute_input": "2021-12-07T02:04:59.897455Z",
     "iopub.status.busy": "2021-12-07T02:04:59.896950Z",
     "iopub.status.idle": "2021-12-07T02:05:01.158644Z",
     "shell.execute_reply": "2021-12-07T02:05:01.159063Z"
    },
    "papermill": {
     "duration": 1.275341,
     "end_time": "2021-12-07T02:05:01.159215",
     "exception": false,
     "start_time": "2021-12-07T02:04:59.883874",
     "status": "completed"
    },
    "tags": []
   },
   "outputs": [],
   "source": [
    "#hide\n",
    "from scripts.read_data import read_api\n",
    "from IPython.display import HTML\n",
    "import plotly.graph_objects as go\n"
   ]
  },
  {
   "cell_type": "code",
   "execution_count": 3,
   "id": "light-crazy",
   "metadata": {
    "execution": {
     "iopub.execute_input": "2021-12-07T02:05:01.185027Z",
     "iopub.status.busy": "2021-12-07T02:05:01.184509Z",
     "iopub.status.idle": "2021-12-07T02:05:01.205851Z",
     "shell.execute_reply": "2021-12-07T02:05:01.206253Z"
    },
    "papermill": {
     "duration": 0.036132,
     "end_time": "2021-12-07T02:05:01.206388",
     "exception": false,
     "start_time": "2021-12-07T02:05:01.170256",
     "status": "completed"
    },
    "tags": []
   },
   "outputs": [],
   "source": [
    "#hide\n",
    "### ICO koreliacija"
   ]
  },
  {
   "cell_type": "code",
   "execution_count": 4,
   "id": "likely-bahrain",
   "metadata": {
    "execution": {
     "iopub.execute_input": "2021-12-07T02:05:01.232156Z",
     "iopub.status.busy": "2021-12-07T02:05:01.231643Z",
     "iopub.status.idle": "2021-12-07T02:05:02.107660Z",
     "shell.execute_reply": "2021-12-07T02:05:02.107099Z"
    },
    "papermill": {
     "duration": 0.89075,
     "end_time": "2021-12-07T02:05:02.107802",
     "exception": false,
     "start_time": "2021-12-07T02:05:01.217052",
     "status": "completed"
    },
    "tags": []
   },
   "outputs": [],
   "source": [
    "#hide\n",
    "import matplotlib.pyplot as plt\n",
    "import numpy as np\n",
    "import pandas as pd\n",
    "import seaborn as sns\n",
    "import matplotlib.pyplot as plt \n",
    "import matplotlib.dates as mdates\n",
    "import matplotlib.pyplot as plt"
   ]
  },
  {
   "cell_type": "code",
   "execution_count": 5,
   "id": "superior-blanket",
   "metadata": {
    "execution": {
     "iopub.execute_input": "2021-12-07T02:05:02.134259Z",
     "iopub.status.busy": "2021-12-07T02:05:02.133629Z",
     "iopub.status.idle": "2021-12-07T02:05:13.744385Z",
     "shell.execute_reply": "2021-12-07T02:05:13.743484Z"
    },
    "papermill": {
     "duration": 11.625095,
     "end_time": "2021-12-07T02:05:13.744535",
     "exception": false,
     "start_time": "2021-12-07T02:05:02.119440",
     "status": "completed"
    },
    "tags": []
   },
   "outputs": [
    {
     "name": "stderr",
     "output_type": "stream",
     "text": [
      "/home/runner/work/corr-app/corr-app/_notebooks/scripts/read_data.py:187: SettingWithCopyWarning:\n",
      "\n",
      "\n",
      "A value is trying to be set on a copy of a slice from a DataFrame.\n",
      "Try using .loc[row_indexer,col_indexer] = value instead\n",
      "\n",
      "See the caveats in the documentation: https://pandas.pydata.org/pandas-docs/stable/user_guide/indexing.html#returning-a-view-versus-a-copy\n",
      "\n"
     ]
    },
    {
     "name": "stderr",
     "output_type": "stream",
     "text": [
      "/home/runner/work/corr-app/corr-app/_notebooks/scripts/read_data.py:215: SettingWithCopyWarning:\n",
      "\n",
      "\n",
      "A value is trying to be set on a copy of a slice from a DataFrame.\n",
      "Try using .loc[row_indexer,col_indexer] = value instead\n",
      "\n",
      "See the caveats in the documentation: https://pandas.pydata.org/pandas-docs/stable/user_guide/indexing.html#returning-a-view-versus-a-copy\n",
      "\n"
     ]
    }
   ],
   "source": [
    "#hide\n",
    "df_all = read_api()\n",
    "#df_all = df_all.drop(['SP500', 'XAU', 'ETH', 'BTC'], axis=1)\n",
    "\n"
   ]
  },
  {
   "cell_type": "code",
   "execution_count": 6,
   "id": "mature-alert",
   "metadata": {
    "execution": {
     "iopub.execute_input": "2021-12-07T02:05:13.782052Z",
     "iopub.status.busy": "2021-12-07T02:05:13.779543Z",
     "iopub.status.idle": "2021-12-07T02:05:13.805604Z",
     "shell.execute_reply": "2021-12-07T02:05:13.804724Z"
    },
    "papermill": {
     "duration": 0.049109,
     "end_time": "2021-12-07T02:05:13.805744",
     "exception": false,
     "start_time": "2021-12-07T02:05:13.756635",
     "status": "completed"
    },
    "tags": []
   },
   "outputs": [],
   "source": [
    "#hide_input\n",
    "sum_corr = df_all.corr().sum().sort_values(ascending=True).index.values\n",
    "#df_all[sum_corr].corr()"
   ]
  },
  {
   "cell_type": "markdown",
   "id": "complex-syndicate",
   "metadata": {
    "papermill": {
     "duration": 0.011332,
     "end_time": "2021-12-07T02:05:13.828944",
     "exception": false,
     "start_time": "2021-12-07T02:05:13.817612",
     "status": "completed"
    },
    "tags": []
   },
   "source": [
    "## Išplėstinė koreliacijų matrica. "
   ]
  },
  {
   "cell_type": "code",
   "execution_count": 7,
   "id": "atomic-omaha",
   "metadata": {
    "execution": {
     "iopub.execute_input": "2021-12-07T02:05:13.855492Z",
     "iopub.status.busy": "2021-12-07T02:05:13.854978Z",
     "iopub.status.idle": "2021-12-07T02:05:15.120136Z",
     "shell.execute_reply": "2021-12-07T02:05:15.120536Z"
    },
    "papermill": {
     "duration": 1.280375,
     "end_time": "2021-12-07T02:05:15.120683",
     "exception": false,
     "start_time": "2021-12-07T02:05:13.840308",
     "status": "completed"
    },
    "tags": []
   },
   "outputs": [
    {
     "data": {
      "image/png": "[encoded data removed]",
      "text/plain": [
       "<Figure size 1080x792 with 2 Axes>"
      ]
     },
     "metadata": {
      "needs_background": "light"
     },
     "output_type": "display_data"
    }
   ],
   "source": [
    "#hide_input\n",
    "plt.figure(figsize=(15, 11))\n",
    "sns.heatmap(df_all[sum_corr].corr(), annot=True, cmap=\"cubehelix\") \n",
    "sns.set(font_scale=1.25)\n",
    "plt.savefig('corr_matrix.png', format='eps')"
   ]
  },
  {
   "cell_type": "code",
   "execution_count": 8,
   "id": "arbitrary-sullivan",
   "metadata": {
    "execution": {
     "iopub.execute_input": "2021-12-07T02:05:15.154726Z",
     "iopub.status.busy": "2021-12-07T02:05:15.150603Z",
     "iopub.status.idle": "2021-12-07T02:05:15.176232Z",
     "shell.execute_reply": "2021-12-07T02:05:15.175748Z"
    },
    "papermill": {
     "duration": 0.042028,
     "end_time": "2021-12-07T02:05:15.176357",
     "exception": false,
     "start_time": "2021-12-07T02:05:15.134329",
     "status": "completed"
    },
    "tags": []
   },
   "outputs": [],
   "source": [
    "#hide\n",
    "#df_all_mrk = read_api()"
   ]
  },
  {
   "cell_type": "code",
   "execution_count": 9,
   "id": "delayed-adapter",
   "metadata": {
    "execution": {
     "iopub.execute_input": "2021-12-07T02:05:15.208939Z",
     "iopub.status.busy": "2021-12-07T02:05:15.208420Z",
     "iopub.status.idle": "2021-12-07T02:05:15.232895Z",
     "shell.execute_reply": "2021-12-07T02:05:15.232459Z"
    },
    "papermill": {
     "duration": 0.043296,
     "end_time": "2021-12-07T02:05:15.233003",
     "exception": false,
     "start_time": "2021-12-07T02:05:15.189707",
     "status": "completed"
    },
    "tags": []
   },
   "outputs": [],
   "source": [
    "#hide\n",
    "#Koreliacijų koeficientai"
   ]
  },
  {
   "cell_type": "code",
   "execution_count": 10,
   "id": "seeing-celebration",
   "metadata": {
    "execution": {
     "iopub.execute_input": "2021-12-07T02:05:15.267316Z",
     "iopub.status.busy": "2021-12-07T02:05:15.266801Z",
     "iopub.status.idle": "2021-12-07T02:05:15.289456Z",
     "shell.execute_reply": "2021-12-07T02:05:15.289046Z"
    },
    "papermill": {
     "duration": 0.043275,
     "end_time": "2021-12-07T02:05:15.289586",
     "exception": false,
     "start_time": "2021-12-07T02:05:15.246311",
     "status": "completed"
    },
    "tags": []
   },
   "outputs": [],
   "source": [
    "#hide_input\n",
    "#sum_corr = df_all_mrk.corr().sum().sort_values(ascending=True).index.values\n",
    "#df_all_mrk[sum_corr].corr()"
   ]
  },
  {
   "cell_type": "code",
   "execution_count": 11,
   "id": "other-painting",
   "metadata": {
    "execution": {
     "iopub.execute_input": "2021-12-07T02:05:15.328256Z",
     "iopub.status.busy": "2021-12-07T02:05:15.326285Z",
     "iopub.status.idle": "2021-12-07T02:05:15.347147Z",
     "shell.execute_reply": "2021-12-07T02:05:15.346379Z"
    },
    "papermill": {
     "duration": 0.044555,
     "end_time": "2021-12-07T02:05:15.347261",
     "exception": false,
     "start_time": "2021-12-07T02:05:15.302706",
     "status": "completed"
    },
    "tags": []
   },
   "outputs": [],
   "source": [
    "#hide\n",
    "#Koreliacijos matrica. "
   ]
  },
  {
   "cell_type": "code",
   "execution_count": 12,
   "id": "modular-magnitude",
   "metadata": {
    "execution": {
     "iopub.execute_input": "2021-12-07T02:05:15.377184Z",
     "iopub.status.busy": "2021-12-07T02:05:15.376146Z",
     "iopub.status.idle": "2021-12-07T02:05:15.400638Z",
     "shell.execute_reply": "2021-12-07T02:05:15.400170Z"
    },
    "papermill": {
     "duration": 0.040153,
     "end_time": "2021-12-07T02:05:15.400759",
     "exception": false,
     "start_time": "2021-12-07T02:05:15.360606",
     "status": "completed"
    },
    "tags": []
   },
   "outputs": [],
   "source": [
    "#hide_input\n",
    "#plt.figure(figsize=(15, 8))\n",
    "#sns.heatmap(df_all_mrk[sum_corr].corr(), annot=True, cmap=\"BrBG\");\n",
    "#plt.savefig('corr_matrix_all.eps', format='eps')"
   ]
  },
  {
   "cell_type": "code",
   "execution_count": null,
   "id": "original-senator",
   "metadata": {
    "papermill": {
     "duration": 0.013069,
     "end_time": "2021-12-07T02:05:15.427062",
     "exception": false,
     "start_time": "2021-12-07T02:05:15.413993",
     "status": "completed"
    },
    "tags": []
   },
   "outputs": [],
   "source": []
  },
  {
   "cell_type": "code",
   "execution_count": null,
   "id": "saving-secretariat",
   "metadata": {
    "papermill": {
     "duration": 0.012989,
     "end_time": "2021-12-07T02:05:15.453139",
     "exception": false,
     "start_time": "2021-12-07T02:05:15.440150",
     "status": "completed"
    },
    "tags": []
   },
   "outputs": [],
   "source": []
  }
 ],
 "metadata": {
  "kernelspec": {
   "display_name": "Python 3",
   "language": "python",
   "name": "python3"
  },
  "language_info": {
   "codemirror_mode": {
    "name": "ipython",
    "version": 3
   },
   "file_extension": ".py",
   "mimetype": "text/x-python",
   "name": "python",
   "nbconvert_exporter": "python",
   "pygments_lexer": "ipython3",
   "version": "3.6.15"
  },
  "papermill": {
   "default_parameters": {},
   "duration": 17.102782,
   "end_time": "2021-12-07T02:05:15.973900",
   "environment_variables": {},
   "exception": null,
   "input_path": "App-Correlation_charts.ipynb",
   "output_path": "App-Correlation_charts.ipynb",
   "parameters": {},
   "start_time": "2021-12-07T02:04:58.871118",
   "version": "2.2.2"
  }
 },
 "nbformat": 4,
 "nbformat_minor": 5
}