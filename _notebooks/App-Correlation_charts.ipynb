{
 "cells": [
  {
   "cell_type": "markdown",
   "id": "touched-facility",
   "metadata": {
    "papermill": {
     "duration": 0.017374,
     "end_time": "2022-04-09T02:25:02.431650",
     "exception": false,
     "start_time": "2022-04-09T02:25:02.414276",
     "status": "completed"
    },
    "tags": []
   },
   "source": [
    "# Koreliacijų matrica\n",
    "> Išplėstinė koreliacijų matrica. \n",
    "\n",
    "- toc: true \n",
    "- badges: true\n",
    "- comments: false\n",
    "- categories: [Dominykas Tautkus]\n",
    "- image: images/matrix.png"
   ]
  },
  {
   "cell_type": "code",
   "execution_count": null,
   "id": "premium-weekend",
   "metadata": {
    "papermill": {
     "duration": 0.012294,
     "end_time": "2022-04-09T02:25:02.456787",
     "exception": false,
     "start_time": "2022-04-09T02:25:02.444493",
     "status": "completed"
    },
    "tags": []
   },
   "outputs": [],
   "source": []
  },
  {
   "cell_type": "code",
   "execution_count": 1,
   "id": "vertical-rebate",
   "metadata": {
    "execution": {
     "iopub.execute_input": "2022-04-09T02:25:02.492479Z",
     "iopub.status.busy": "2022-04-09T02:25:02.491573Z",
     "iopub.status.idle": "2022-04-09T02:25:02.504256Z",
     "shell.execute_reply": "2022-04-09T02:25:02.503844Z"
    },
    "papermill": {
     "duration": 0.035504,
     "end_time": "2022-04-09T02:25:02.504368",
     "exception": false,
     "start_time": "2022-04-09T02:25:02.468864",
     "status": "completed"
    },
    "tags": []
   },
   "outputs": [],
   "source": [
    "#hide\n",
    "%load_ext autoreload\n",
    "%autoreload 2"
   ]
  },
  {
   "cell_type": "code",
   "execution_count": 2,
   "id": "overall-advancement",
   "metadata": {
    "execution": {
     "iopub.execute_input": "2022-04-09T02:25:02.534087Z",
     "iopub.status.busy": "2022-04-09T02:25:02.533055Z",
     "iopub.status.idle": "2022-04-09T02:25:04.092275Z",
     "shell.execute_reply": "2022-04-09T02:25:04.091720Z"
    },
    "papermill": {
     "duration": 1.575258,
     "end_time": "2022-04-09T02:25:04.092415",
     "exception": false,
     "start_time": "2022-04-09T02:25:02.517157",
     "status": "completed"
    },
    "tags": []
   },
   "outputs": [],
   "source": [
    "#hide\n",
    "from scripts.read_data import read_api\n",
    "from IPython.display import HTML\n",
    "import plotly.graph_objects as go\n"
   ]
  },
  {
   "cell_type": "code",
   "execution_count": 3,
   "id": "light-crazy",
   "metadata": {
    "execution": {
     "iopub.execute_input": "2022-04-09T02:25:04.122380Z",
     "iopub.status.busy": "2022-04-09T02:25:04.121766Z",
     "iopub.status.idle": "2022-04-09T02:25:04.150203Z",
     "shell.execute_reply": "2022-04-09T02:25:04.150674Z"
    },
    "papermill": {
     "duration": 0.046358,
     "end_time": "2022-04-09T02:25:04.150829",
     "exception": false,
     "start_time": "2022-04-09T02:25:04.104471",
     "status": "completed"
    },
    "tags": []
   },
   "outputs": [],
   "source": [
    "#hide\n",
    "### ICO koreliacija"
   ]
  },
  {
   "cell_type": "code",
   "execution_count": 4,
   "id": "likely-bahrain",
   "metadata": {
    "execution": {
     "iopub.execute_input": "2022-04-09T02:25:04.177187Z",
     "iopub.status.busy": "2022-04-09T02:25:04.176675Z",
     "iopub.status.idle": "2022-04-09T02:25:05.506749Z",
     "shell.execute_reply": "2022-04-09T02:25:05.506157Z"
    },
    "papermill": {
     "duration": 1.345101,
     "end_time": "2022-04-09T02:25:05.506900",
     "exception": false,
     "start_time": "2022-04-09T02:25:04.161799",
     "status": "completed"
    },
    "tags": []
   },
   "outputs": [],
   "source": [
    "#hide\n",
    "import matplotlib.pyplot as plt\n",
    "import numpy as np\n",
    "import pandas as pd\n",
    "import seaborn as sns\n",
    "import matplotlib.pyplot as plt \n",
    "import matplotlib.dates as mdates\n",
    "import matplotlib.pyplot as plt"
   ]
  },
  {
   "cell_type": "code",
   "execution_count": 5,
   "id": "superior-blanket",
   "metadata": {
    "execution": {
     "iopub.execute_input": "2022-04-09T02:25:05.535997Z",
     "iopub.status.busy": "2022-04-09T02:25:05.535290Z",
     "iopub.status.idle": "2022-04-09T02:25:16.036095Z",
     "shell.execute_reply": "2022-04-09T02:25:16.035438Z"
    },
    "papermill": {
     "duration": 10.516597,
     "end_time": "2022-04-09T02:25:16.036223",
     "exception": false,
     "start_time": "2022-04-09T02:25:05.519626",
     "status": "completed"
    },
    "tags": []
   },
   "outputs": [
    {
     "name": "stderr",
     "output_type": "stream",
     "text": [
      "/home/runner/work/corr-app/corr-app/_notebooks/scripts/read_data.py:187: SettingWithCopyWarning:\n",
      "\n",
      "\n",
      "A value is trying to be set on a copy of a slice from a DataFrame.\n",
      "Try using .loc[row_indexer,col_indexer] = value instead\n",
      "\n",
      "See the caveats in the documentation: https://pandas.pydata.org/pandas-docs/stable/user_guide/indexing.html#returning-a-view-versus-a-copy\n",
      "\n"
     ]
    },
    {
     "name": "stderr",
     "output_type": "stream",
     "text": [
      "/home/runner/work/corr-app/corr-app/_notebooks/scripts/read_data.py:215: SettingWithCopyWarning:\n",
      "\n",
      "\n",
      "A value is trying to be set on a copy of a slice from a DataFrame.\n",
      "Try using .loc[row_indexer,col_indexer] = value instead\n",
      "\n",
      "See the caveats in the documentation: https://pandas.pydata.org/pandas-docs/stable/user_guide/indexing.html#returning-a-view-versus-a-copy\n",
      "\n"
     ]
    }
   ],
   "source": [
    "#hide\n",
    "df_all = read_api()\n",
    "#df_all = df_all.drop(['SP500', 'XAU', 'ETH', 'BTC'], axis=1)\n",
    "\n"
   ]
  },
  {
   "cell_type": "code",
   "execution_count": 6,
   "id": "mature-alert",
   "metadata": {
    "execution": {
     "iopub.execute_input": "2022-04-09T02:25:16.063899Z",
     "iopub.status.busy": "2022-04-09T02:25:16.063164Z",
     "iopub.status.idle": "2022-04-09T02:25:16.102523Z",
     "shell.execute_reply": "2022-04-09T02:25:16.101855Z"
    },
    "papermill": {
     "duration": 0.055156,
     "end_time": "2022-04-09T02:25:16.102690",
     "exception": false,
     "start_time": "2022-04-09T02:25:16.047534",
     "status": "completed"
    },
    "tags": []
   },
   "outputs": [],
   "source": [
    "#hide_input\n",
    "sum_corr = df_all.corr().sum().sort_values(ascending=True).index.values\n",
    "#df_all[sum_corr].corr()"
   ]
  },
  {
   "cell_type": "markdown",
   "id": "complex-syndicate",
   "metadata": {
    "papermill": {
     "duration": 0.010958,
     "end_time": "2022-04-09T02:25:16.127778",
     "exception": false,
     "start_time": "2022-04-09T02:25:16.116820",
     "status": "completed"
    },
    "tags": []
   },
   "source": [
    "## Išplėstinė koreliacijų matrica. "
   ]
  },
  {
   "cell_type": "code",
   "execution_count": 7,
   "id": "atomic-omaha",
   "metadata": {
    "execution": {
     "iopub.execute_input": "2022-04-09T02:25:16.157852Z",
     "iopub.status.busy": "2022-04-09T02:25:16.157267Z",
     "iopub.status.idle": "2022-04-09T02:25:17.666186Z",
     "shell.execute_reply": "2022-04-09T02:25:17.666685Z"
    },
    "papermill": {
     "duration": 1.527352,
     "end_time": "2022-04-09T02:25:17.666841",
     "exception": false,
     "start_time": "2022-04-09T02:25:16.139489",
     "status": "completed"
    },
    "tags": []
   },
   "outputs": [
    {
     "data": {
      "image/png": "[encoded data removed]",
      "text/plain": [
       "<Figure size 1080x792 with 2 Axes>"
      ]
     },
     "metadata": {
      "needs_background": "light"
     },
     "output_type": "display_data"
    }
   ],
   "source": [
    "#hide_input\n",
    "plt.figure(figsize=(15, 11))\n",
    "sns.heatmap(df_all[sum_corr].corr(), annot=True, cmap=\"cubehelix\") \n",
    "sns.set(font_scale=1.25)\n",
    "plt.savefig('corr_matrix.png', format='eps')"
   ]
  },
  {
   "cell_type": "code",
   "execution_count": 8,
   "id": "arbitrary-sullivan",
   "metadata": {
    "execution": {
     "iopub.execute_input": "2022-04-09T02:25:17.704524Z",
     "iopub.status.busy": "2022-04-09T02:25:17.703899Z",
     "iopub.status.idle": "2022-04-09T02:25:17.736869Z",
     "shell.execute_reply": "2022-04-09T02:25:17.737356Z"
    },
    "papermill": {
     "duration": 0.054319,
     "end_time": "2022-04-09T02:25:17.737523",
     "exception": false,
     "start_time": "2022-04-09T02:25:17.683204",
     "status": "completed"
    },
    "tags": []
   },
   "outputs": [],
   "source": [
    "#hide\n",
    "#df_all_mrk = read_api()"
   ]
  },
  {
   "cell_type": "code",
   "execution_count": 9,
   "id": "delayed-adapter",
   "metadata": {
    "execution": {
     "iopub.execute_input": "2022-04-09T02:25:17.776068Z",
     "iopub.status.busy": "2022-04-09T02:25:17.775348Z",
     "iopub.status.idle": "2022-04-09T02:25:17.808766Z",
     "shell.execute_reply": "2022-04-09T02:25:17.807845Z"
    },
    "papermill": {
     "duration": 0.055073,
     "end_time": "2022-04-09T02:25:17.808981",
     "exception": false,
     "start_time": "2022-04-09T02:25:17.753908",
     "status": "completed"
    },
    "tags": []
   },
   "outputs": [],
   "source": [
    "#hide\n",
    "#Koreliacijų koeficientai"
   ]
  },
  {
   "cell_type": "code",
   "execution_count": 10,
   "id": "seeing-celebration",
   "metadata": {
    "execution": {
     "iopub.execute_input": "2022-04-09T02:25:17.850429Z",
     "iopub.status.busy": "2022-04-09T02:25:17.849699Z",
     "iopub.status.idle": "2022-04-09T02:25:17.881724Z",
     "shell.execute_reply": "2022-04-09T02:25:17.881181Z"
    },
    "papermill": {
     "duration": 0.054454,
     "end_time": "2022-04-09T02:25:17.881866",
     "exception": false,
     "start_time": "2022-04-09T02:25:17.827412",
     "status": "completed"
    },
    "tags": []
   },
   "outputs": [],
   "source": [
    "#hide_input\n",
    "#sum_corr = df_all_mrk.corr().sum().sort_values(ascending=True).index.values\n",
    "#df_all_mrk[sum_corr].corr()"
   ]
  },
  {
   "cell_type": "code",
   "execution_count": 11,
   "id": "other-painting",
   "metadata": {
    "execution": {
     "iopub.execute_input": "2022-04-09T02:25:17.923318Z",
     "iopub.status.busy": "2022-04-09T02:25:17.920114Z",
     "iopub.status.idle": "2022-04-09T02:25:17.954236Z",
     "shell.execute_reply": "2022-04-09T02:25:17.954727Z"
    },
    "papermill": {
     "duration": 0.05673,
     "end_time": "2022-04-09T02:25:17.954898",
     "exception": false,
     "start_time": "2022-04-09T02:25:17.898168",
     "status": "completed"
    },
    "tags": []
   },
   "outputs": [],
   "source": [
    "#hide\n",
    "#Koreliacijos matrica. "
   ]
  },
  {
   "cell_type": "code",
   "execution_count": 12,
   "id": "modular-magnitude",
   "metadata": {
    "execution": {
     "iopub.execute_input": "2022-04-09T02:25:17.991438Z",
     "iopub.status.busy": "2022-04-09T02:25:17.990772Z",
     "iopub.status.idle": "2022-04-09T02:25:18.024164Z",
     "shell.execute_reply": "2022-04-09T02:25:18.024831Z"
    },
    "papermill": {
     "duration": 0.053722,
     "end_time": "2022-04-09T02:25:18.025043",
     "exception": false,
     "start_time": "2022-04-09T02:25:17.971321",
     "status": "completed"
    },
    "tags": []
   },
   "outputs": [],
   "source": [
    "#hide_input\n",
    "#plt.figure(figsize=(15, 8))\n",
    "#sns.heatmap(df_all_mrk[sum_corr].corr(), annot=True, cmap=\"BrBG\");\n",
    "#plt.savefig('corr_matrix_all.eps', format='eps')"
   ]
  },
  {
   "cell_type": "code",
   "execution_count": null,
   "id": "original-senator",
   "metadata": {
    "papermill": {
     "duration": 0.016558,
     "end_time": "2022-04-09T02:25:18.057735",
     "exception": false,
     "start_time": "2022-04-09T02:25:18.041177",
     "status": "completed"
    },
    "tags": []
   },
   "outputs": [],
   "source": []
  },
  {
   "cell_type": "code",
   "execution_count": null,
   "id": "saving-secretariat",
   "metadata": {
    "papermill": {
     "duration": 0.015835,
     "end_time": "2022-04-09T02:25:18.089705",
     "exception": false,
     "start_time": "2022-04-09T02:25:18.073870",
     "status": "completed"
    },
    "tags": []
   },
   "outputs": [],
   "source": []
  }
 ],
 "metadata": {
  "kernelspec": {
   "display_name": "Python 3",
   "language": "python",
   "name": "python3"
  },
  "language_info": {
   "codemirror_mode": {
    "name": "ipython",
    "version": 3
   },
   "file_extension": ".py",
   "mimetype": "text/x-python",
   "name": "python",
   "nbconvert_exporter": "python",
   "pygments_lexer": "ipython3",
   "version": "3.6.15"
  },
  "papermill": {
   "default_parameters": {},
   "duration": 17.610472,
   "end_time": "2022-04-09T02:25:18.727140",
   "environment_variables": {},
   "exception": null,
   "input_path": "App-Correlation_charts.ipynb",
   "output_path": "App-Correlation_charts.ipynb",
   "parameters": {},
   "start_time": "2022-04-09T02:25:01.116668",
   "version": "2.2.2"
  }
 },
 "nbformat": 4,
 "nbformat_minor": 5
}