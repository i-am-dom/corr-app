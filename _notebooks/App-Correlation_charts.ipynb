{
 "cells": [
  {
   "cell_type": "markdown",
   "id": "touched-facility",
   "metadata": {
    "papermill": {
     "duration": 0.016647,
     "end_time": "2021-10-28T01:57:00.475828",
     "exception": false,
     "start_time": "2021-10-28T01:57:00.459181",
     "status": "completed"
    },
    "tags": []
   },
   "source": [
    "# Koreliacijų matrica\n",
    "> Išplėstinė koreliacijų matrica. \n",
    "\n",
    "- toc: true \n",
    "- badges: true\n",
    "- comments: false\n",
    "- categories: [Dominykas Tautkus]\n",
    "- image: images/matrix.png"
   ]
  },
  {
   "cell_type": "code",
   "execution_count": null,
   "id": "premium-weekend",
   "metadata": {
    "papermill": {
     "duration": 0.013165,
     "end_time": "2021-10-28T01:57:00.503071",
     "exception": false,
     "start_time": "2021-10-28T01:57:00.489906",
     "status": "completed"
    },
    "tags": []
   },
   "outputs": [],
   "source": []
  },
  {
   "cell_type": "code",
   "execution_count": 1,
   "id": "vertical-rebate",
   "metadata": {
    "execution": {
     "iopub.execute_input": "2021-10-28T01:57:00.541153Z",
     "iopub.status.busy": "2021-10-28T01:57:00.540558Z",
     "iopub.status.idle": "2021-10-28T01:57:00.552037Z",
     "shell.execute_reply": "2021-10-28T01:57:00.552617Z"
    },
    "papermill": {
     "duration": 0.036772,
     "end_time": "2021-10-28T01:57:00.552778",
     "exception": false,
     "start_time": "2021-10-28T01:57:00.516006",
     "status": "completed"
    },
    "tags": []
   },
   "outputs": [],
   "source": [
    "#hide\n",
    "%load_ext autoreload\n",
    "%autoreload 2"
   ]
  },
  {
   "cell_type": "code",
   "execution_count": 2,
   "id": "overall-advancement",
   "metadata": {
    "execution": {
     "iopub.execute_input": "2021-10-28T01:57:00.582619Z",
     "iopub.status.busy": "2021-10-28T01:57:00.581879Z",
     "iopub.status.idle": "2021-10-28T01:57:01.845073Z",
     "shell.execute_reply": "2021-10-28T01:57:01.845558Z"
    },
    "papermill": {
     "duration": 1.28052,
     "end_time": "2021-10-28T01:57:01.845875",
     "exception": false,
     "start_time": "2021-10-28T01:57:00.565355",
     "status": "completed"
    },
    "tags": []
   },
   "outputs": [],
   "source": [
    "#hide\n",
    "from scripts.read_data import read_api\n",
    "from IPython.display import HTML\n",
    "import plotly.graph_objects as go\n"
   ]
  },
  {
   "cell_type": "code",
   "execution_count": 3,
   "id": "light-crazy",
   "metadata": {
    "execution": {
     "iopub.execute_input": "2021-10-28T01:57:01.879743Z",
     "iopub.status.busy": "2021-10-28T01:57:01.879037Z",
     "iopub.status.idle": "2021-10-28T01:57:01.903430Z",
     "shell.execute_reply": "2021-10-28T01:57:01.902878Z"
    },
    "papermill": {
     "duration": 0.044026,
     "end_time": "2021-10-28T01:57:01.903580",
     "exception": false,
     "start_time": "2021-10-28T01:57:01.859554",
     "status": "completed"
    },
    "tags": []
   },
   "outputs": [],
   "source": [
    "#hide\n",
    "### ICO koreliacija"
   ]
  },
  {
   "cell_type": "code",
   "execution_count": 4,
   "id": "likely-bahrain",
   "metadata": {
    "execution": {
     "iopub.execute_input": "2021-10-28T01:57:01.936183Z",
     "iopub.status.busy": "2021-10-28T01:57:01.935506Z",
     "iopub.status.idle": "2021-10-28T01:57:02.968446Z",
     "shell.execute_reply": "2021-10-28T01:57:02.967795Z"
    },
    "papermill": {
     "duration": 1.051539,
     "end_time": "2021-10-28T01:57:02.968605",
     "exception": false,
     "start_time": "2021-10-28T01:57:01.917066",
     "status": "completed"
    },
    "tags": []
   },
   "outputs": [],
   "source": [
    "#hide\n",
    "import matplotlib.pyplot as plt\n",
    "import numpy as np\n",
    "import pandas as pd\n",
    "import seaborn as sns\n",
    "import matplotlib.pyplot as plt \n",
    "import matplotlib.dates as mdates\n",
    "import matplotlib.pyplot as plt"
   ]
  },
  {
   "cell_type": "code",
   "execution_count": 5,
   "id": "superior-blanket",
   "metadata": {
    "execution": {
     "iopub.execute_input": "2021-10-28T01:57:03.004187Z",
     "iopub.status.busy": "2021-10-28T01:57:03.002889Z",
     "iopub.status.idle": "2021-10-28T01:57:16.441912Z",
     "shell.execute_reply": "2021-10-28T01:57:16.442428Z"
    },
    "papermill": {
     "duration": 13.459034,
     "end_time": "2021-10-28T01:57:16.442588",
     "exception": false,
     "start_time": "2021-10-28T01:57:02.983554",
     "status": "completed"
    },
    "tags": []
   },
   "outputs": [
    {
     "name": "stderr",
     "output_type": "stream",
     "text": [
      "/home/runner/work/corr-app/corr-app/_notebooks/scripts/read_data.py:187: SettingWithCopyWarning:\n",
      "\n",
      "\n",
      "A value is trying to be set on a copy of a slice from a DataFrame.\n",
      "Try using .loc[row_indexer,col_indexer] = value instead\n",
      "\n",
      "See the caveats in the documentation: https://pandas.pydata.org/pandas-docs/stable/user_guide/indexing.html#returning-a-view-versus-a-copy\n",
      "\n"
     ]
    },
    {
     "name": "stderr",
     "output_type": "stream",
     "text": [
      "/home/runner/work/corr-app/corr-app/_notebooks/scripts/read_data.py:215: SettingWithCopyWarning:\n",
      "\n",
      "\n",
      "A value is trying to be set on a copy of a slice from a DataFrame.\n",
      "Try using .loc[row_indexer,col_indexer] = value instead\n",
      "\n",
      "See the caveats in the documentation: https://pandas.pydata.org/pandas-docs/stable/user_guide/indexing.html#returning-a-view-versus-a-copy\n",
      "\n"
     ]
    }
   ],
   "source": [
    "#hide\n",
    "df_all = read_api()\n",
    "#df_all = df_all.drop(['SP500', 'XAU', 'ETH', 'BTC'], axis=1)\n",
    "\n"
   ]
  },
  {
   "cell_type": "code",
   "execution_count": 6,
   "id": "mature-alert",
   "metadata": {
    "execution": {
     "iopub.execute_input": "2021-10-28T01:57:16.476182Z",
     "iopub.status.busy": "2021-10-28T01:57:16.475432Z",
     "iopub.status.idle": "2021-10-28T01:57:16.510846Z",
     "shell.execute_reply": "2021-10-28T01:57:16.510051Z"
    },
    "papermill": {
     "duration": 0.054008,
     "end_time": "2021-10-28T01:57:16.511003",
     "exception": false,
     "start_time": "2021-10-28T01:57:16.456995",
     "status": "completed"
    },
    "tags": []
   },
   "outputs": [],
   "source": [
    "#hide_input\n",
    "sum_corr = df_all.corr().sum().sort_values(ascending=True).index.values\n",
    "#df_all[sum_corr].corr()"
   ]
  },
  {
   "cell_type": "markdown",
   "id": "complex-syndicate",
   "metadata": {
    "papermill": {
     "duration": 0.013988,
     "end_time": "2021-10-28T01:57:16.542691",
     "exception": false,
     "start_time": "2021-10-28T01:57:16.528703",
     "status": "completed"
    },
    "tags": []
   },
   "source": [
    "## Išplėstinė koreliacijų matrica. "
   ]
  },
  {
   "cell_type": "code",
   "execution_count": 7,
   "id": "atomic-omaha",
   "metadata": {
    "execution": {
     "iopub.execute_input": "2021-10-28T01:57:16.574729Z",
     "iopub.status.busy": "2021-10-28T01:57:16.573981Z",
     "iopub.status.idle": "2021-10-28T01:57:18.307777Z",
     "shell.execute_reply": "2021-10-28T01:57:18.307093Z"
    },
    "papermill": {
     "duration": 1.751584,
     "end_time": "2021-10-28T01:57:18.307910",
     "exception": false,
     "start_time": "2021-10-28T01:57:16.556326",
     "status": "completed"
    },
    "tags": []
   },
   "outputs": [
    {
     "data": {
      "image/png": "[encoded data removed]",
      "text/plain": [
       "<Figure size 1080x792 with 2 Axes>"
      ]
     },
     "metadata": {
      "needs_background": "light"
     },
     "output_type": "display_data"
    }
   ],
   "source": [
    "#hide_input\n",
    "plt.figure(figsize=(15, 11))\n",
    "sns.heatmap(df_all[sum_corr].corr(), annot=True, cmap=\"cubehelix\") \n",
    "sns.set(font_scale=1.25)\n",
    "plt.savefig('corr_matrix.png', format='eps')"
   ]
  },
  {
   "cell_type": "code",
   "execution_count": 8,
   "id": "arbitrary-sullivan",
   "metadata": {
    "execution": {
     "iopub.execute_input": "2021-10-28T01:57:18.345598Z",
     "iopub.status.busy": "2021-10-28T01:57:18.344890Z",
     "iopub.status.idle": "2021-10-28T01:57:18.372688Z",
     "shell.execute_reply": "2021-10-28T01:57:18.373137Z"
    },
    "papermill": {
     "duration": 0.048898,
     "end_time": "2021-10-28T01:57:18.373289",
     "exception": false,
     "start_time": "2021-10-28T01:57:18.324391",
     "status": "completed"
    },
    "tags": []
   },
   "outputs": [],
   "source": [
    "#hide\n",
    "#df_all_mrk = read_api()"
   ]
  },
  {
   "cell_type": "code",
   "execution_count": 9,
   "id": "delayed-adapter",
   "metadata": {
    "execution": {
     "iopub.execute_input": "2021-10-28T01:57:18.409597Z",
     "iopub.status.busy": "2021-10-28T01:57:18.408934Z",
     "iopub.status.idle": "2021-10-28T01:57:18.437432Z",
     "shell.execute_reply": "2021-10-28T01:57:18.436916Z"
    },
    "papermill": {
     "duration": 0.047573,
     "end_time": "2021-10-28T01:57:18.437571",
     "exception": false,
     "start_time": "2021-10-28T01:57:18.389998",
     "status": "completed"
    },
    "tags": []
   },
   "outputs": [],
   "source": [
    "#hide\n",
    "#Koreliacijų koeficientai"
   ]
  },
  {
   "cell_type": "code",
   "execution_count": 10,
   "id": "seeing-celebration",
   "metadata": {
    "execution": {
     "iopub.execute_input": "2021-10-28T01:57:18.474630Z",
     "iopub.status.busy": "2021-10-28T01:57:18.473922Z",
     "iopub.status.idle": "2021-10-28T01:57:18.503343Z",
     "shell.execute_reply": "2021-10-28T01:57:18.502707Z"
    },
    "papermill": {
     "duration": 0.049592,
     "end_time": "2021-10-28T01:57:18.503510",
     "exception": false,
     "start_time": "2021-10-28T01:57:18.453918",
     "status": "completed"
    },
    "tags": []
   },
   "outputs": [],
   "source": [
    "#hide_input\n",
    "#sum_corr = df_all_mrk.corr().sum().sort_values(ascending=True).index.values\n",
    "#df_all_mrk[sum_corr].corr()"
   ]
  },
  {
   "cell_type": "code",
   "execution_count": 11,
   "id": "other-painting",
   "metadata": {
    "execution": {
     "iopub.execute_input": "2021-10-28T01:57:18.547953Z",
     "iopub.status.busy": "2021-10-28T01:57:18.547274Z",
     "iopub.status.idle": "2021-10-28T01:57:18.571813Z",
     "shell.execute_reply": "2021-10-28T01:57:18.572315Z"
    },
    "papermill": {
     "duration": 0.052299,
     "end_time": "2021-10-28T01:57:18.572461",
     "exception": false,
     "start_time": "2021-10-28T01:57:18.520162",
     "status": "completed"
    },
    "tags": []
   },
   "outputs": [],
   "source": [
    "#hide\n",
    "#Koreliacijos matrica. "
   ]
  },
  {
   "cell_type": "code",
   "execution_count": 12,
   "id": "modular-magnitude",
   "metadata": {
    "execution": {
     "iopub.execute_input": "2021-10-28T01:57:18.607884Z",
     "iopub.status.busy": "2021-10-28T01:57:18.607155Z",
     "iopub.status.idle": "2021-10-28T01:57:18.634855Z",
     "shell.execute_reply": "2021-10-28T01:57:18.635375Z"
    },
    "papermill": {
     "duration": 0.047183,
     "end_time": "2021-10-28T01:57:18.635534",
     "exception": false,
     "start_time": "2021-10-28T01:57:18.588351",
     "status": "completed"
    },
    "tags": []
   },
   "outputs": [],
   "source": [
    "#hide_input\n",
    "#plt.figure(figsize=(15, 8))\n",
    "#sns.heatmap(df_all_mrk[sum_corr].corr(), annot=True, cmap=\"BrBG\");\n",
    "#plt.savefig('corr_matrix_all.eps', format='eps')"
   ]
  },
  {
   "cell_type": "code",
   "execution_count": null,
   "id": "original-senator",
   "metadata": {
    "papermill": {
     "duration": 0.015859,
     "end_time": "2021-10-28T01:57:18.667340",
     "exception": false,
     "start_time": "2021-10-28T01:57:18.651481",
     "status": "completed"
    },
    "tags": []
   },
   "outputs": [],
   "source": []
  },
  {
   "cell_type": "code",
   "execution_count": null,
   "id": "saving-secretariat",
   "metadata": {
    "papermill": {
     "duration": 0.015332,
     "end_time": "2021-10-28T01:57:18.698543",
     "exception": false,
     "start_time": "2021-10-28T01:57:18.683211",
     "status": "completed"
    },
    "tags": []
   },
   "outputs": [],
   "source": []
  }
 ],
 "metadata": {
  "kernelspec": {
   "display_name": "Python 3",
   "language": "python",
   "name": "python3"
  },
  "language_info": {
   "codemirror_mode": {
    "name": "ipython",
    "version": 3
   },
   "file_extension": ".py",
   "mimetype": "text/x-python",
   "name": "python",
   "nbconvert_exporter": "python",
   "pygments_lexer": "ipython3",
   "version": "3.6.15"
  },
  "papermill": {
   "default_parameters": {},
   "duration": 19.864683,
   "end_time": "2021-10-28T01:57:19.223241",
   "environment_variables": {},
   "exception": null,
   "input_path": "App-Correlation_charts.ipynb",
   "output_path": "App-Correlation_charts.ipynb",
   "parameters": {},
   "start_time": "2021-10-28T01:56:59.358558",
   "version": "2.2.2"
  }
 },
 "nbformat": 4,
 "nbformat_minor": 5
}