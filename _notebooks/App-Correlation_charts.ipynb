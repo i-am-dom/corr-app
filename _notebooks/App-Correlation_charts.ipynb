{
 "cells": [
  {
   "cell_type": "markdown",
   "id": "touched-facility",
   "metadata": {
    "papermill": {
     "duration": 0.016915,
     "end_time": "2022-02-09T02:05:10.554314",
     "exception": false,
     "start_time": "2022-02-09T02:05:10.537399",
     "status": "completed"
    },
    "tags": []
   },
   "source": [
    "# Koreliacijų matrica\n",
    "> Išplėstinė koreliacijų matrica. \n",
    "\n",
    "- toc: true \n",
    "- badges: true\n",
    "- comments: false\n",
    "- categories: [Dominykas Tautkus]\n",
    "- image: images/matrix.png"
   ]
  },
  {
   "cell_type": "code",
   "execution_count": null,
   "id": "premium-weekend",
   "metadata": {
    "papermill": {
     "duration": 0.014156,
     "end_time": "2022-02-09T02:05:10.582566",
     "exception": false,
     "start_time": "2022-02-09T02:05:10.568410",
     "status": "completed"
    },
    "tags": []
   },
   "outputs": [],
   "source": []
  },
  {
   "cell_type": "code",
   "execution_count": 1,
   "id": "vertical-rebate",
   "metadata": {
    "execution": {
     "iopub.execute_input": "2022-02-09T02:05:10.621605Z",
     "iopub.status.busy": "2022-02-09T02:05:10.620969Z",
     "iopub.status.idle": "2022-02-09T02:05:10.632460Z",
     "shell.execute_reply": "2022-02-09T02:05:10.632986Z"
    },
    "papermill": {
     "duration": 0.036863,
     "end_time": "2022-02-09T02:05:10.633257",
     "exception": false,
     "start_time": "2022-02-09T02:05:10.596394",
     "status": "completed"
    },
    "tags": []
   },
   "outputs": [],
   "source": [
    "#hide\n",
    "%load_ext autoreload\n",
    "%autoreload 2"
   ]
  },
  {
   "cell_type": "code",
   "execution_count": 2,
   "id": "overall-advancement",
   "metadata": {
    "execution": {
     "iopub.execute_input": "2022-02-09T02:05:10.666134Z",
     "iopub.status.busy": "2022-02-09T02:05:10.665448Z",
     "iopub.status.idle": "2022-02-09T02:05:12.318949Z",
     "shell.execute_reply": "2022-02-09T02:05:12.318338Z"
    },
    "papermill": {
     "duration": 1.671021,
     "end_time": "2022-02-09T02:05:12.319088",
     "exception": false,
     "start_time": "2022-02-09T02:05:10.648067",
     "status": "completed"
    },
    "tags": []
   },
   "outputs": [],
   "source": [
    "#hide\n",
    "from scripts.read_data import read_api\n",
    "from IPython.display import HTML\n",
    "import plotly.graph_objects as go\n"
   ]
  },
  {
   "cell_type": "code",
   "execution_count": 3,
   "id": "light-crazy",
   "metadata": {
    "execution": {
     "iopub.execute_input": "2022-02-09T02:05:12.353329Z",
     "iopub.status.busy": "2022-02-09T02:05:12.352536Z",
     "iopub.status.idle": "2022-02-09T02:05:12.378555Z",
     "shell.execute_reply": "2022-02-09T02:05:12.379228Z"
    },
    "papermill": {
     "duration": 0.046723,
     "end_time": "2022-02-09T02:05:12.379445",
     "exception": false,
     "start_time": "2022-02-09T02:05:12.332722",
     "status": "completed"
    },
    "tags": []
   },
   "outputs": [],
   "source": [
    "#hide\n",
    "### ICO koreliacija"
   ]
  },
  {
   "cell_type": "code",
   "execution_count": 4,
   "id": "likely-bahrain",
   "metadata": {
    "execution": {
     "iopub.execute_input": "2022-02-09T02:05:12.411707Z",
     "iopub.status.busy": "2022-02-09T02:05:12.410672Z",
     "iopub.status.idle": "2022-02-09T02:05:13.512191Z",
     "shell.execute_reply": "2022-02-09T02:05:13.512689Z"
    },
    "papermill": {
     "duration": 1.120025,
     "end_time": "2022-02-09T02:05:13.512849",
     "exception": false,
     "start_time": "2022-02-09T02:05:12.392824",
     "status": "completed"
    },
    "tags": []
   },
   "outputs": [],
   "source": [
    "#hide\n",
    "import matplotlib.pyplot as plt\n",
    "import numpy as np\n",
    "import pandas as pd\n",
    "import seaborn as sns\n",
    "import matplotlib.pyplot as plt \n",
    "import matplotlib.dates as mdates\n",
    "import matplotlib.pyplot as plt"
   ]
  },
  {
   "cell_type": "code",
   "execution_count": 5,
   "id": "superior-blanket",
   "metadata": {
    "execution": {
     "iopub.execute_input": "2022-02-09T02:05:13.544567Z",
     "iopub.status.busy": "2022-02-09T02:05:13.544014Z",
     "iopub.status.idle": "2022-02-09T02:05:33.977408Z",
     "shell.execute_reply": "2022-02-09T02:05:33.976793Z"
    },
    "papermill": {
     "duration": 20.450713,
     "end_time": "2022-02-09T02:05:33.977553",
     "exception": false,
     "start_time": "2022-02-09T02:05:13.526840",
     "status": "completed"
    },
    "tags": []
   },
   "outputs": [
    {
     "name": "stderr",
     "output_type": "stream",
     "text": [
      "/home/runner/work/corr-app/corr-app/_notebooks/scripts/read_data.py:187: SettingWithCopyWarning:\n",
      "\n",
      "\n",
      "A value is trying to be set on a copy of a slice from a DataFrame.\n",
      "Try using .loc[row_indexer,col_indexer] = value instead\n",
      "\n",
      "See the caveats in the documentation: https://pandas.pydata.org/pandas-docs/stable/user_guide/indexing.html#returning-a-view-versus-a-copy\n",
      "\n"
     ]
    },
    {
     "name": "stderr",
     "output_type": "stream",
     "text": [
      "/home/runner/work/corr-app/corr-app/_notebooks/scripts/read_data.py:215: SettingWithCopyWarning:\n",
      "\n",
      "\n",
      "A value is trying to be set on a copy of a slice from a DataFrame.\n",
      "Try using .loc[row_indexer,col_indexer] = value instead\n",
      "\n",
      "See the caveats in the documentation: https://pandas.pydata.org/pandas-docs/stable/user_guide/indexing.html#returning-a-view-versus-a-copy\n",
      "\n"
     ]
    }
   ],
   "source": [
    "#hide\n",
    "df_all = read_api()\n",
    "#df_all = df_all.drop(['SP500', 'XAU', 'ETH', 'BTC'], axis=1)\n",
    "\n"
   ]
  },
  {
   "cell_type": "code",
   "execution_count": 6,
   "id": "mature-alert",
   "metadata": {
    "execution": {
     "iopub.execute_input": "2022-02-09T02:05:34.041051Z",
     "iopub.status.busy": "2022-02-09T02:05:34.040385Z",
     "iopub.status.idle": "2022-02-09T02:05:34.076634Z",
     "shell.execute_reply": "2022-02-09T02:05:34.075998Z"
    },
    "papermill": {
     "duration": 0.059236,
     "end_time": "2022-02-09T02:05:34.076780",
     "exception": false,
     "start_time": "2022-02-09T02:05:34.017544",
     "status": "completed"
    },
    "tags": []
   },
   "outputs": [],
   "source": [
    "#hide_input\n",
    "sum_corr = df_all.corr().sum().sort_values(ascending=True).index.values\n",
    "#df_all[sum_corr].corr()"
   ]
  },
  {
   "cell_type": "markdown",
   "id": "complex-syndicate",
   "metadata": {
    "papermill": {
     "duration": 0.017689,
     "end_time": "2022-02-09T02:05:34.135964",
     "exception": false,
     "start_time": "2022-02-09T02:05:34.118275",
     "status": "completed"
    },
    "tags": []
   },
   "source": [
    "## Išplėstinė koreliacijų matrica. "
   ]
  },
  {
   "cell_type": "code",
   "execution_count": 7,
   "id": "atomic-omaha",
   "metadata": {
    "execution": {
     "iopub.execute_input": "2022-02-09T02:05:34.184735Z",
     "iopub.status.busy": "2022-02-09T02:05:34.182030Z",
     "iopub.status.idle": "2022-02-09T02:05:36.009137Z",
     "shell.execute_reply": "2022-02-09T02:05:36.009613Z"
    },
    "papermill": {
     "duration": 1.852547,
     "end_time": "2022-02-09T02:05:36.009787",
     "exception": false,
     "start_time": "2022-02-09T02:05:34.157240",
     "status": "completed"
    },
    "tags": []
   },
   "outputs": [
    {
     "data": {
      "image/png": "[encoded data removed]",
      "text/plain": [
       "<Figure size 1080x792 with 2 Axes>"
      ]
     },
     "metadata": {
      "needs_background": "light"
     },
     "output_type": "display_data"
    }
   ],
   "source": [
    "#hide_input\n",
    "plt.figure(figsize=(15, 11))\n",
    "sns.heatmap(df_all[sum_corr].corr(), annot=True, cmap=\"cubehelix\") \n",
    "sns.set(font_scale=1.25)\n",
    "plt.savefig('corr_matrix.png', format='eps')"
   ]
  },
  {
   "cell_type": "code",
   "execution_count": 8,
   "id": "arbitrary-sullivan",
   "metadata": {
    "execution": {
     "iopub.execute_input": "2022-02-09T02:05:36.045765Z",
     "iopub.status.busy": "2022-02-09T02:05:36.045173Z",
     "iopub.status.idle": "2022-02-09T02:05:36.078383Z",
     "shell.execute_reply": "2022-02-09T02:05:36.074030Z"
    },
    "papermill": {
     "duration": 0.052141,
     "end_time": "2022-02-09T02:05:36.078520",
     "exception": false,
     "start_time": "2022-02-09T02:05:36.026379",
     "status": "completed"
    },
    "tags": []
   },
   "outputs": [],
   "source": [
    "#hide\n",
    "#df_all_mrk = read_api()"
   ]
  },
  {
   "cell_type": "code",
   "execution_count": 9,
   "id": "delayed-adapter",
   "metadata": {
    "execution": {
     "iopub.execute_input": "2022-02-09T02:05:36.115241Z",
     "iopub.status.busy": "2022-02-09T02:05:36.114317Z",
     "iopub.status.idle": "2022-02-09T02:05:36.143633Z",
     "shell.execute_reply": "2022-02-09T02:05:36.144073Z"
    },
    "papermill": {
     "duration": 0.049239,
     "end_time": "2022-02-09T02:05:36.144203",
     "exception": false,
     "start_time": "2022-02-09T02:05:36.094964",
     "status": "completed"
    },
    "tags": []
   },
   "outputs": [],
   "source": [
    "#hide\n",
    "#Koreliacijų koeficientai"
   ]
  },
  {
   "cell_type": "code",
   "execution_count": 10,
   "id": "seeing-celebration",
   "metadata": {
    "execution": {
     "iopub.execute_input": "2022-02-09T02:05:36.183873Z",
     "iopub.status.busy": "2022-02-09T02:05:36.183263Z",
     "iopub.status.idle": "2022-02-09T02:05:36.212572Z",
     "shell.execute_reply": "2022-02-09T02:05:36.212093Z"
    },
    "papermill": {
     "duration": 0.051385,
     "end_time": "2022-02-09T02:05:36.212688",
     "exception": false,
     "start_time": "2022-02-09T02:05:36.161303",
     "status": "completed"
    },
    "tags": []
   },
   "outputs": [],
   "source": [
    "#hide_input\n",
    "#sum_corr = df_all_mrk.corr().sum().sort_values(ascending=True).index.values\n",
    "#df_all_mrk[sum_corr].corr()"
   ]
  },
  {
   "cell_type": "code",
   "execution_count": 11,
   "id": "other-painting",
   "metadata": {
    "execution": {
     "iopub.execute_input": "2022-02-09T02:05:36.246592Z",
     "iopub.status.busy": "2022-02-09T02:05:36.245831Z",
     "iopub.status.idle": "2022-02-09T02:05:36.274765Z",
     "shell.execute_reply": "2022-02-09T02:05:36.274223Z"
    },
    "papermill": {
     "duration": 0.047628,
     "end_time": "2022-02-09T02:05:36.274890",
     "exception": false,
     "start_time": "2022-02-09T02:05:36.227262",
     "status": "completed"
    },
    "tags": []
   },
   "outputs": [],
   "source": [
    "#hide\n",
    "#Koreliacijos matrica. "
   ]
  },
  {
   "cell_type": "code",
   "execution_count": 12,
   "id": "modular-magnitude",
   "metadata": {
    "execution": {
     "iopub.execute_input": "2022-02-09T02:05:36.312404Z",
     "iopub.status.busy": "2022-02-09T02:05:36.311755Z",
     "iopub.status.idle": "2022-02-09T02:05:36.341780Z",
     "shell.execute_reply": "2022-02-09T02:05:36.341246Z"
    },
    "papermill": {
     "duration": 0.050245,
     "end_time": "2022-02-09T02:05:36.341904",
     "exception": false,
     "start_time": "2022-02-09T02:05:36.291659",
     "status": "completed"
    },
    "tags": []
   },
   "outputs": [],
   "source": [
    "#hide_input\n",
    "#plt.figure(figsize=(15, 8))\n",
    "#sns.heatmap(df_all_mrk[sum_corr].corr(), annot=True, cmap=\"BrBG\");\n",
    "#plt.savefig('corr_matrix_all.eps', format='eps')"
   ]
  },
  {
   "cell_type": "code",
   "execution_count": null,
   "id": "original-senator",
   "metadata": {
    "papermill": {
     "duration": 0.015962,
     "end_time": "2022-02-09T02:05:36.373434",
     "exception": false,
     "start_time": "2022-02-09T02:05:36.357472",
     "status": "completed"
    },
    "tags": []
   },
   "outputs": [],
   "source": []
  },
  {
   "cell_type": "code",
   "execution_count": null,
   "id": "saving-secretariat",
   "metadata": {
    "papermill": {
     "duration": 0.016527,
     "end_time": "2022-02-09T02:05:36.406091",
     "exception": false,
     "start_time": "2022-02-09T02:05:36.389564",
     "status": "completed"
    },
    "tags": []
   },
   "outputs": [],
   "source": []
  }
 ],
 "metadata": {
  "kernelspec": {
   "display_name": "Python 3",
   "language": "python",
   "name": "python3"
  },
  "language_info": {
   "codemirror_mode": {
    "name": "ipython",
    "version": 3
   },
   "file_extension": ".py",
   "mimetype": "text/x-python",
   "name": "python",
   "nbconvert_exporter": "python",
   "pygments_lexer": "ipython3",
   "version": "3.6.15"
  },
  "papermill": {
   "default_parameters": {},
   "duration": 27.718872,
   "end_time": "2022-02-09T02:05:36.943646",
   "environment_variables": {},
   "exception": null,
   "input_path": "App-Correlation_charts.ipynb",
   "output_path": "App-Correlation_charts.ipynb",
   "parameters": {},
   "start_time": "2022-02-09T02:05:09.224774",
   "version": "2.2.2"
  }
 },
 "nbformat": 4,
 "nbformat_minor": 5
}