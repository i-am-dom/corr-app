{
 "cells": [
  {
   "cell_type": "markdown",
   "id": "touched-facility",
   "metadata": {
    "papermill": {
     "duration": 0.015714,
     "end_time": "2022-06-12T03:04:05.193075",
     "exception": false,
     "start_time": "2022-06-12T03:04:05.177361",
     "status": "completed"
    },
    "tags": []
   },
   "source": [
    "# Koreliacijų matrica\n",
    "> Išplėstinė koreliacijų matrica. \n",
    "\n",
    "- toc: true \n",
    "- badges: true\n",
    "- comments: false\n",
    "- categories: [Dominykas Tautkus]\n",
    "- image: images/matrix.png"
   ]
  },
  {
   "cell_type": "code",
   "execution_count": null,
   "id": "premium-weekend",
   "metadata": {
    "papermill": {
     "duration": 0.010776,
     "end_time": "2022-06-12T03:04:05.215523",
     "exception": false,
     "start_time": "2022-06-12T03:04:05.204747",
     "status": "completed"
    },
    "tags": []
   },
   "outputs": [],
   "source": []
  },
  {
   "cell_type": "code",
   "execution_count": 1,
   "id": "vertical-rebate",
   "metadata": {
    "execution": {
     "iopub.execute_input": "2022-06-12T03:04:05.251586Z",
     "iopub.status.busy": "2022-06-12T03:04:05.250988Z",
     "iopub.status.idle": "2022-06-12T03:04:05.262348Z",
     "shell.execute_reply": "2022-06-12T03:04:05.261854Z"
    },
    "papermill": {
     "duration": 0.033238,
     "end_time": "2022-06-12T03:04:05.262476",
     "exception": false,
     "start_time": "2022-06-12T03:04:05.229238",
     "status": "completed"
    },
    "tags": []
   },
   "outputs": [],
   "source": [
    "#hide\n",
    "%load_ext autoreload\n",
    "%autoreload 2"
   ]
  },
  {
   "cell_type": "code",
   "execution_count": 2,
   "id": "overall-advancement",
   "metadata": {
    "execution": {
     "iopub.execute_input": "2022-06-12T03:04:05.288650Z",
     "iopub.status.busy": "2022-06-12T03:04:05.288030Z",
     "iopub.status.idle": "2022-06-12T03:04:06.738772Z",
     "shell.execute_reply": "2022-06-12T03:04:06.738236Z"
    },
    "papermill": {
     "duration": 1.465644,
     "end_time": "2022-06-12T03:04:06.738914",
     "exception": false,
     "start_time": "2022-06-12T03:04:05.273270",
     "status": "completed"
    },
    "tags": []
   },
   "outputs": [],
   "source": [
    "#hide\n",
    "from scripts.read_data import read_api\n",
    "from IPython.display import HTML\n",
    "import plotly.graph_objects as go\n"
   ]
  },
  {
   "cell_type": "code",
   "execution_count": 3,
   "id": "light-crazy",
   "metadata": {
    "execution": {
     "iopub.execute_input": "2022-06-12T03:04:06.774973Z",
     "iopub.status.busy": "2022-06-12T03:04:06.773494Z",
     "iopub.status.idle": "2022-06-12T03:04:06.792597Z",
     "shell.execute_reply": "2022-06-12T03:04:06.793027Z"
    },
    "papermill": {
     "duration": 0.043149,
     "end_time": "2022-06-12T03:04:06.793174",
     "exception": false,
     "start_time": "2022-06-12T03:04:06.750025",
     "status": "completed"
    },
    "tags": []
   },
   "outputs": [],
   "source": [
    "#hide\n",
    "### ICO koreliacija"
   ]
  },
  {
   "cell_type": "code",
   "execution_count": 4,
   "id": "likely-bahrain",
   "metadata": {
    "execution": {
     "iopub.execute_input": "2022-06-12T03:04:06.841637Z",
     "iopub.status.busy": "2022-06-12T03:04:06.840666Z",
     "iopub.status.idle": "2022-06-12T03:04:07.676129Z",
     "shell.execute_reply": "2022-06-12T03:04:07.676721Z"
    },
    "papermill": {
     "duration": 0.872897,
     "end_time": "2022-06-12T03:04:07.676888",
     "exception": false,
     "start_time": "2022-06-12T03:04:06.803991",
     "status": "completed"
    },
    "tags": []
   },
   "outputs": [],
   "source": [
    "#hide\n",
    "import matplotlib.pyplot as plt\n",
    "import numpy as np\n",
    "import pandas as pd\n",
    "import seaborn as sns\n",
    "import matplotlib.pyplot as plt \n",
    "import matplotlib.dates as mdates\n",
    "import matplotlib.pyplot as plt"
   ]
  },
  {
   "cell_type": "code",
   "execution_count": 5,
   "id": "superior-blanket",
   "metadata": {
    "execution": {
     "iopub.execute_input": "2022-06-12T03:04:07.706818Z",
     "iopub.status.busy": "2022-06-12T03:04:07.705268Z",
     "iopub.status.idle": "2022-06-12T03:04:17.568314Z",
     "shell.execute_reply": "2022-06-12T03:04:17.567654Z"
    },
    "papermill": {
     "duration": 9.87984,
     "end_time": "2022-06-12T03:04:17.568468",
     "exception": false,
     "start_time": "2022-06-12T03:04:07.688628",
     "status": "completed"
    },
    "tags": []
   },
   "outputs": [
    {
     "name": "stderr",
     "output_type": "stream",
     "text": [
      "/home/runner/work/corr-app/corr-app/_notebooks/scripts/read_data.py:187: SettingWithCopyWarning:\n",
      "\n",
      "\n",
      "A value is trying to be set on a copy of a slice from a DataFrame.\n",
      "Try using .loc[row_indexer,col_indexer] = value instead\n",
      "\n",
      "See the caveats in the documentation: https://pandas.pydata.org/pandas-docs/stable/user_guide/indexing.html#returning-a-view-versus-a-copy\n",
      "\n"
     ]
    },
    {
     "name": "stderr",
     "output_type": "stream",
     "text": [
      "/home/runner/work/corr-app/corr-app/_notebooks/scripts/read_data.py:215: SettingWithCopyWarning:\n",
      "\n",
      "\n",
      "A value is trying to be set on a copy of a slice from a DataFrame.\n",
      "Try using .loc[row_indexer,col_indexer] = value instead\n",
      "\n",
      "See the caveats in the documentation: https://pandas.pydata.org/pandas-docs/stable/user_guide/indexing.html#returning-a-view-versus-a-copy\n",
      "\n"
     ]
    }
   ],
   "source": [
    "#hide\n",
    "df_all = read_api()\n",
    "#df_all = df_all.drop(['SP500', 'XAU', 'ETH', 'BTC'], axis=1)\n",
    "\n"
   ]
  },
  {
   "cell_type": "code",
   "execution_count": 6,
   "id": "mature-alert",
   "metadata": {
    "execution": {
     "iopub.execute_input": "2022-06-12T03:04:17.599635Z",
     "iopub.status.busy": "2022-06-12T03:04:17.599012Z",
     "iopub.status.idle": "2022-06-12T03:04:17.634102Z",
     "shell.execute_reply": "2022-06-12T03:04:17.633533Z"
    },
    "papermill": {
     "duration": 0.053523,
     "end_time": "2022-06-12T03:04:17.634243",
     "exception": false,
     "start_time": "2022-06-12T03:04:17.580720",
     "status": "completed"
    },
    "tags": []
   },
   "outputs": [],
   "source": [
    "#hide_input\n",
    "sum_corr = df_all.corr().sum().sort_values(ascending=True).index.values\n",
    "#df_all[sum_corr].corr()"
   ]
  },
  {
   "cell_type": "markdown",
   "id": "complex-syndicate",
   "metadata": {
    "papermill": {
     "duration": 0.011517,
     "end_time": "2022-06-12T03:04:17.657524",
     "exception": false,
     "start_time": "2022-06-12T03:04:17.646007",
     "status": "completed"
    },
    "tags": []
   },
   "source": [
    "## Išplėstinė koreliacijų matrica. "
   ]
  },
  {
   "cell_type": "code",
   "execution_count": 7,
   "id": "atomic-omaha",
   "metadata": {
    "execution": {
     "iopub.execute_input": "2022-06-12T03:04:17.686389Z",
     "iopub.status.busy": "2022-06-12T03:04:17.685790Z",
     "iopub.status.idle": "2022-06-12T03:04:18.915792Z",
     "shell.execute_reply": "2022-06-12T03:04:18.914843Z"
    },
    "papermill": {
     "duration": 1.246944,
     "end_time": "2022-06-12T03:04:18.915960",
     "exception": false,
     "start_time": "2022-06-12T03:04:17.669016",
     "status": "completed"
    },
    "tags": []
   },
   "outputs": [
    {
     "data": {
      "image/png": "[encoded data removed]",
      "text/plain": [
       "<Figure size 1080x792 with 2 Axes>"
      ]
     },
     "metadata": {
      "needs_background": "light"
     },
     "output_type": "display_data"
    }
   ],
   "source": [
    "#hide_input\n",
    "plt.figure(figsize=(15, 11))\n",
    "sns.heatmap(df_all[sum_corr].corr(), annot=True, cmap=\"cubehelix\") \n",
    "sns.set(font_scale=1.25)\n",
    "plt.savefig('corr_matrix.png', format='eps')"
   ]
  },
  {
   "cell_type": "code",
   "execution_count": 8,
   "id": "arbitrary-sullivan",
   "metadata": {
    "execution": {
     "iopub.execute_input": "2022-06-12T03:04:18.949670Z",
     "iopub.status.busy": "2022-06-12T03:04:18.948957Z",
     "iopub.status.idle": "2022-06-12T03:04:18.978599Z",
     "shell.execute_reply": "2022-06-12T03:04:18.977868Z"
    },
    "papermill": {
     "duration": 0.048955,
     "end_time": "2022-06-12T03:04:18.978756",
     "exception": false,
     "start_time": "2022-06-12T03:04:18.929801",
     "status": "completed"
    },
    "tags": []
   },
   "outputs": [],
   "source": [
    "#hide\n",
    "#df_all_mrk = read_api()"
   ]
  },
  {
   "cell_type": "code",
   "execution_count": 9,
   "id": "delayed-adapter",
   "metadata": {
    "execution": {
     "iopub.execute_input": "2022-06-12T03:04:19.013193Z",
     "iopub.status.busy": "2022-06-12T03:04:19.012582Z",
     "iopub.status.idle": "2022-06-12T03:04:19.041369Z",
     "shell.execute_reply": "2022-06-12T03:04:19.040757Z"
    },
    "papermill": {
     "duration": 0.048256,
     "end_time": "2022-06-12T03:04:19.041509",
     "exception": false,
     "start_time": "2022-06-12T03:04:18.993253",
     "status": "completed"
    },
    "tags": []
   },
   "outputs": [],
   "source": [
    "#hide\n",
    "#Koreliacijų koeficientai"
   ]
  },
  {
   "cell_type": "code",
   "execution_count": 10,
   "id": "seeing-celebration",
   "metadata": {
    "execution": {
     "iopub.execute_input": "2022-06-12T03:04:19.076623Z",
     "iopub.status.busy": "2022-06-12T03:04:19.075985Z",
     "iopub.status.idle": "2022-06-12T03:04:19.106863Z",
     "shell.execute_reply": "2022-06-12T03:04:19.106258Z"
    },
    "papermill": {
     "duration": 0.051018,
     "end_time": "2022-06-12T03:04:19.107019",
     "exception": false,
     "start_time": "2022-06-12T03:04:19.056001",
     "status": "completed"
    },
    "tags": []
   },
   "outputs": [],
   "source": [
    "#hide_input\n",
    "#sum_corr = df_all_mrk.corr().sum().sort_values(ascending=True).index.values\n",
    "#df_all_mrk[sum_corr].corr()"
   ]
  },
  {
   "cell_type": "code",
   "execution_count": 11,
   "id": "other-painting",
   "metadata": {
    "execution": {
     "iopub.execute_input": "2022-06-12T03:04:19.141274Z",
     "iopub.status.busy": "2022-06-12T03:04:19.140655Z",
     "iopub.status.idle": "2022-06-12T03:04:19.169013Z",
     "shell.execute_reply": "2022-06-12T03:04:19.168426Z"
    },
    "papermill": {
     "duration": 0.048246,
     "end_time": "2022-06-12T03:04:19.169152",
     "exception": false,
     "start_time": "2022-06-12T03:04:19.120906",
     "status": "completed"
    },
    "tags": []
   },
   "outputs": [],
   "source": [
    "#hide\n",
    "#Koreliacijos matrica. "
   ]
  },
  {
   "cell_type": "code",
   "execution_count": 12,
   "id": "modular-magnitude",
   "metadata": {
    "execution": {
     "iopub.execute_input": "2022-06-12T03:04:19.200923Z",
     "iopub.status.busy": "2022-06-12T03:04:19.200325Z",
     "iopub.status.idle": "2022-06-12T03:04:19.235530Z",
     "shell.execute_reply": "2022-06-12T03:04:19.234866Z"
    },
    "papermill": {
     "duration": 0.052855,
     "end_time": "2022-06-12T03:04:19.235712",
     "exception": false,
     "start_time": "2022-06-12T03:04:19.182857",
     "status": "completed"
    },
    "tags": []
   },
   "outputs": [],
   "source": [
    "#hide_input\n",
    "#plt.figure(figsize=(15, 8))\n",
    "#sns.heatmap(df_all_mrk[sum_corr].corr(), annot=True, cmap=\"BrBG\");\n",
    "#plt.savefig('corr_matrix_all.eps', format='eps')"
   ]
  },
  {
   "cell_type": "code",
   "execution_count": null,
   "id": "original-senator",
   "metadata": {
    "papermill": {
     "duration": 0.013704,
     "end_time": "2022-06-12T03:04:19.264038",
     "exception": false,
     "start_time": "2022-06-12T03:04:19.250334",
     "status": "completed"
    },
    "tags": []
   },
   "outputs": [],
   "source": []
  },
  {
   "cell_type": "code",
   "execution_count": null,
   "id": "saving-secretariat",
   "metadata": {
    "papermill": {
     "duration": 0.013345,
     "end_time": "2022-06-12T03:04:19.290681",
     "exception": false,
     "start_time": "2022-06-12T03:04:19.277336",
     "status": "completed"
    },
    "tags": []
   },
   "outputs": [],
   "source": []
  }
 ],
 "metadata": {
  "kernelspec": {
   "display_name": "Python 3",
   "language": "python",
   "name": "python3"
  },
  "language_info": {
   "codemirror_mode": {
    "name": "ipython",
    "version": 3
   },
   "file_extension": ".py",
   "mimetype": "text/x-python",
   "name": "python",
   "nbconvert_exporter": "python",
   "pygments_lexer": "ipython3",
   "version": "3.6.15"
  },
  "papermill": {
   "default_parameters": {},
   "duration": 15.882688,
   "end_time": "2022-06-12T03:04:20.027144",
   "environment_variables": {},
   "exception": null,
   "input_path": "App-Correlation_charts.ipynb",
   "output_path": "App-Correlation_charts.ipynb",
   "parameters": {},
   "start_time": "2022-06-12T03:04:04.144456",
   "version": "2.2.2"
  }
 },
 "nbformat": 4,
 "nbformat_minor": 5
}