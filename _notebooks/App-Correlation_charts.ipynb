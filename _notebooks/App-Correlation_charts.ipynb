{
 "cells": [
  {
   "cell_type": "markdown",
   "id": "touched-facility",
   "metadata": {
    "papermill": {
     "duration": 0.014758,
     "end_time": "2022-07-17T03:15:05.523452",
     "exception": false,
     "start_time": "2022-07-17T03:15:05.508694",
     "status": "completed"
    },
    "tags": []
   },
   "source": [
    "# Koreliacijų matrica\n",
    "> Išplėstinė koreliacijų matrica. \n",
    "\n",
    "- toc: true \n",
    "- badges: true\n",
    "- comments: false\n",
    "- categories: [Dominykas Tautkus]\n",
    "- image: images/matrix.png"
   ]
  },
  {
   "cell_type": "code",
   "execution_count": null,
   "id": "premium-weekend",
   "metadata": {
    "papermill": {
     "duration": 0.011145,
     "end_time": "2022-07-17T03:15:05.546351",
     "exception": false,
     "start_time": "2022-07-17T03:15:05.535206",
     "status": "completed"
    },
    "tags": []
   },
   "outputs": [],
   "source": []
  },
  {
   "cell_type": "code",
   "execution_count": 1,
   "id": "vertical-rebate",
   "metadata": {
    "execution": {
     "iopub.execute_input": "2022-07-17T03:15:05.579792Z",
     "iopub.status.busy": "2022-07-17T03:15:05.577357Z",
     "iopub.status.idle": "2022-07-17T03:15:05.589795Z",
     "shell.execute_reply": "2022-07-17T03:15:05.589257Z"
    },
    "papermill": {
     "duration": 0.03158,
     "end_time": "2022-07-17T03:15:05.589903",
     "exception": false,
     "start_time": "2022-07-17T03:15:05.558323",
     "status": "completed"
    },
    "tags": []
   },
   "outputs": [],
   "source": [
    "#hide\n",
    "%load_ext autoreload\n",
    "%autoreload 2"
   ]
  },
  {
   "cell_type": "code",
   "execution_count": 2,
   "id": "overall-advancement",
   "metadata": {
    "execution": {
     "iopub.execute_input": "2022-07-17T03:15:05.615637Z",
     "iopub.status.busy": "2022-07-17T03:15:05.615058Z",
     "iopub.status.idle": "2022-07-17T03:15:06.748453Z",
     "shell.execute_reply": "2022-07-17T03:15:06.747489Z"
    },
    "papermill": {
     "duration": 1.147619,
     "end_time": "2022-07-17T03:15:06.748581",
     "exception": false,
     "start_time": "2022-07-17T03:15:05.600962",
     "status": "completed"
    },
    "tags": []
   },
   "outputs": [],
   "source": [
    "#hide\n",
    "from scripts.read_data import read_api\n",
    "from IPython.display import HTML\n",
    "import plotly.graph_objects as go\n"
   ]
  },
  {
   "cell_type": "code",
   "execution_count": 3,
   "id": "light-crazy",
   "metadata": {
    "execution": {
     "iopub.execute_input": "2022-07-17T03:15:06.777658Z",
     "iopub.status.busy": "2022-07-17T03:15:06.774991Z",
     "iopub.status.idle": "2022-07-17T03:15:06.796968Z",
     "shell.execute_reply": "2022-07-17T03:15:06.797386Z"
    },
    "papermill": {
     "duration": 0.037539,
     "end_time": "2022-07-17T03:15:06.797506",
     "exception": false,
     "start_time": "2022-07-17T03:15:06.759967",
     "status": "completed"
    },
    "tags": []
   },
   "outputs": [],
   "source": [
    "#hide\n",
    "### ICO koreliacija"
   ]
  },
  {
   "cell_type": "code",
   "execution_count": 4,
   "id": "likely-bahrain",
   "metadata": {
    "execution": {
     "iopub.execute_input": "2022-07-17T03:15:06.823026Z",
     "iopub.status.busy": "2022-07-17T03:15:06.822428Z",
     "iopub.status.idle": "2022-07-17T03:15:07.707332Z",
     "shell.execute_reply": "2022-07-17T03:15:07.706837Z"
    },
    "papermill": {
     "duration": 0.898903,
     "end_time": "2022-07-17T03:15:07.707452",
     "exception": false,
     "start_time": "2022-07-17T03:15:06.808549",
     "status": "completed"
    },
    "tags": []
   },
   "outputs": [],
   "source": [
    "#hide\n",
    "import matplotlib.pyplot as plt\n",
    "import numpy as np\n",
    "import pandas as pd\n",
    "import seaborn as sns\n",
    "import matplotlib.pyplot as plt \n",
    "import matplotlib.dates as mdates\n",
    "import matplotlib.pyplot as plt"
   ]
  },
  {
   "cell_type": "code",
   "execution_count": 5,
   "id": "superior-blanket",
   "metadata": {
    "execution": {
     "iopub.execute_input": "2022-07-17T03:15:07.735503Z",
     "iopub.status.busy": "2022-07-17T03:15:07.734471Z",
     "iopub.status.idle": "2022-07-17T03:15:19.143458Z",
     "shell.execute_reply": "2022-07-17T03:15:19.142958Z"
    },
    "papermill": {
     "duration": 11.424575,
     "end_time": "2022-07-17T03:15:19.143578",
     "exception": false,
     "start_time": "2022-07-17T03:15:07.719003",
     "status": "completed"
    },
    "tags": []
   },
   "outputs": [
    {
     "name": "stderr",
     "output_type": "stream",
     "text": [
      "/home/runner/work/corr-app/corr-app/_notebooks/scripts/read_data.py:187: SettingWithCopyWarning:\n",
      "\n",
      "\n",
      "A value is trying to be set on a copy of a slice from a DataFrame.\n",
      "Try using .loc[row_indexer,col_indexer] = value instead\n",
      "\n",
      "See the caveats in the documentation: https://pandas.pydata.org/pandas-docs/stable/user_guide/indexing.html#returning-a-view-versus-a-copy\n",
      "\n"
     ]
    },
    {
     "name": "stderr",
     "output_type": "stream",
     "text": [
      "/home/runner/work/corr-app/corr-app/_notebooks/scripts/read_data.py:215: SettingWithCopyWarning:\n",
      "\n",
      "\n",
      "A value is trying to be set on a copy of a slice from a DataFrame.\n",
      "Try using .loc[row_indexer,col_indexer] = value instead\n",
      "\n",
      "See the caveats in the documentation: https://pandas.pydata.org/pandas-docs/stable/user_guide/indexing.html#returning-a-view-versus-a-copy\n",
      "\n"
     ]
    }
   ],
   "source": [
    "#hide\n",
    "df_all = read_api()\n",
    "#df_all = df_all.drop(['SP500', 'XAU', 'ETH', 'BTC'], axis=1)\n",
    "\n"
   ]
  },
  {
   "cell_type": "code",
   "execution_count": 6,
   "id": "mature-alert",
   "metadata": {
    "execution": {
     "iopub.execute_input": "2022-07-17T03:15:19.170967Z",
     "iopub.status.busy": "2022-07-17T03:15:19.170361Z",
     "iopub.status.idle": "2022-07-17T03:15:19.199235Z",
     "shell.execute_reply": "2022-07-17T03:15:19.198667Z"
    },
    "papermill": {
     "duration": 0.043847,
     "end_time": "2022-07-17T03:15:19.199335",
     "exception": false,
     "start_time": "2022-07-17T03:15:19.155488",
     "status": "completed"
    },
    "tags": []
   },
   "outputs": [],
   "source": [
    "#hide_input\n",
    "sum_corr = df_all.corr().sum().sort_values(ascending=True).index.values\n",
    "#df_all[sum_corr].corr()"
   ]
  },
  {
   "cell_type": "markdown",
   "id": "complex-syndicate",
   "metadata": {
    "papermill": {
     "duration": 0.012399,
     "end_time": "2022-07-17T03:15:19.223545",
     "exception": false,
     "start_time": "2022-07-17T03:15:19.211146",
     "status": "completed"
    },
    "tags": []
   },
   "source": [
    "## Išplėstinė koreliacijų matrica. "
   ]
  },
  {
   "cell_type": "code",
   "execution_count": 7,
   "id": "atomic-omaha",
   "metadata": {
    "execution": {
     "iopub.execute_input": "2022-07-17T03:15:19.250350Z",
     "iopub.status.busy": "2022-07-17T03:15:19.249800Z",
     "iopub.status.idle": "2022-07-17T03:15:20.369683Z",
     "shell.execute_reply": "2022-07-17T03:15:20.369216Z"
    },
    "papermill": {
     "duration": 1.134662,
     "end_time": "2022-07-17T03:15:20.369791",
     "exception": false,
     "start_time": "2022-07-17T03:15:19.235129",
     "status": "completed"
    },
    "tags": []
   },
   "outputs": [
    {
     "data": {
      "image/png": "[encoded data removed]",
      "text/plain": [
       "<Figure size 1080x792 with 2 Axes>"
      ]
     },
     "metadata": {
      "needs_background": "light"
     },
     "output_type": "display_data"
    }
   ],
   "source": [
    "#hide_input\n",
    "plt.figure(figsize=(15, 11))\n",
    "sns.heatmap(df_all[sum_corr].corr(), annot=True, cmap=\"cubehelix\") \n",
    "sns.set(font_scale=1.25)\n",
    "plt.savefig('corr_matrix.png', format='eps')"
   ]
  },
  {
   "cell_type": "code",
   "execution_count": 8,
   "id": "arbitrary-sullivan",
   "metadata": {
    "execution": {
     "iopub.execute_input": "2022-07-17T03:15:20.403262Z",
     "iopub.status.busy": "2022-07-17T03:15:20.401699Z",
     "iopub.status.idle": "2022-07-17T03:15:20.427109Z",
     "shell.execute_reply": "2022-07-17T03:15:20.426649Z"
    },
    "papermill": {
     "duration": 0.043315,
     "end_time": "2022-07-17T03:15:20.427217",
     "exception": false,
     "start_time": "2022-07-17T03:15:20.383902",
     "status": "completed"
    },
    "tags": []
   },
   "outputs": [],
   "source": [
    "#hide\n",
    "#df_all_mrk = read_api()"
   ]
  },
  {
   "cell_type": "code",
   "execution_count": 9,
   "id": "delayed-adapter",
   "metadata": {
    "execution": {
     "iopub.execute_input": "2022-07-17T03:15:20.457734Z",
     "iopub.status.busy": "2022-07-17T03:15:20.457172Z",
     "iopub.status.idle": "2022-07-17T03:15:20.482941Z",
     "shell.execute_reply": "2022-07-17T03:15:20.482456Z"
    },
    "papermill": {
     "duration": 0.042185,
     "end_time": "2022-07-17T03:15:20.483046",
     "exception": false,
     "start_time": "2022-07-17T03:15:20.440861",
     "status": "completed"
    },
    "tags": []
   },
   "outputs": [],
   "source": [
    "#hide\n",
    "#Koreliacijų koeficientai"
   ]
  },
  {
   "cell_type": "code",
   "execution_count": 10,
   "id": "seeing-celebration",
   "metadata": {
    "execution": {
     "iopub.execute_input": "2022-07-17T03:15:20.515842Z",
     "iopub.status.busy": "2022-07-17T03:15:20.514490Z",
     "iopub.status.idle": "2022-07-17T03:15:20.539784Z",
     "shell.execute_reply": "2022-07-17T03:15:20.539338Z"
    },
    "papermill": {
     "duration": 0.043048,
     "end_time": "2022-07-17T03:15:20.539890",
     "exception": false,
     "start_time": "2022-07-17T03:15:20.496842",
     "status": "completed"
    },
    "tags": []
   },
   "outputs": [],
   "source": [
    "#hide_input\n",
    "#sum_corr = df_all_mrk.corr().sum().sort_values(ascending=True).index.values\n",
    "#df_all_mrk[sum_corr].corr()"
   ]
  },
  {
   "cell_type": "code",
   "execution_count": 11,
   "id": "other-painting",
   "metadata": {
    "execution": {
     "iopub.execute_input": "2022-07-17T03:15:20.570356Z",
     "iopub.status.busy": "2022-07-17T03:15:20.569798Z",
     "iopub.status.idle": "2022-07-17T03:15:20.594999Z",
     "shell.execute_reply": "2022-07-17T03:15:20.594426Z"
    },
    "papermill": {
     "duration": 0.041615,
     "end_time": "2022-07-17T03:15:20.595101",
     "exception": false,
     "start_time": "2022-07-17T03:15:20.553486",
     "status": "completed"
    },
    "tags": []
   },
   "outputs": [],
   "source": [
    "#hide\n",
    "#Koreliacijos matrica. "
   ]
  },
  {
   "cell_type": "code",
   "execution_count": 12,
   "id": "modular-magnitude",
   "metadata": {
    "execution": {
     "iopub.execute_input": "2022-07-17T03:15:20.625307Z",
     "iopub.status.busy": "2022-07-17T03:15:20.624751Z",
     "iopub.status.idle": "2022-07-17T03:15:20.649764Z",
     "shell.execute_reply": "2022-07-17T03:15:20.650169Z"
    },
    "papermill": {
     "duration": 0.041496,
     "end_time": "2022-07-17T03:15:20.650286",
     "exception": false,
     "start_time": "2022-07-17T03:15:20.608790",
     "status": "completed"
    },
    "tags": []
   },
   "outputs": [],
   "source": [
    "#hide_input\n",
    "#plt.figure(figsize=(15, 8))\n",
    "#sns.heatmap(df_all_mrk[sum_corr].corr(), annot=True, cmap=\"BrBG\");\n",
    "#plt.savefig('corr_matrix_all.eps', format='eps')"
   ]
  },
  {
   "cell_type": "code",
   "execution_count": null,
   "id": "original-senator",
   "metadata": {
    "papermill": {
     "duration": 0.013463,
     "end_time": "2022-07-17T03:15:20.677315",
     "exception": false,
     "start_time": "2022-07-17T03:15:20.663852",
     "status": "completed"
    },
    "tags": []
   },
   "outputs": [],
   "source": []
  },
  {
   "cell_type": "code",
   "execution_count": null,
   "id": "saving-secretariat",
   "metadata": {
    "papermill": {
     "duration": 0.013492,
     "end_time": "2022-07-17T03:15:20.705180",
     "exception": false,
     "start_time": "2022-07-17T03:15:20.691688",
     "status": "completed"
    },
    "tags": []
   },
   "outputs": [],
   "source": []
  }
 ],
 "metadata": {
  "kernelspec": {
   "display_name": "Python 3",
   "language": "python",
   "name": "python3"
  },
  "language_info": {
   "codemirror_mode": {
    "name": "ipython",
    "version": 3
   },
   "file_extension": ".py",
   "mimetype": "text/x-python",
   "name": "python",
   "nbconvert_exporter": "python",
   "pygments_lexer": "ipython3",
   "version": "3.6.15"
  },
  "papermill": {
   "default_parameters": {},
   "duration": 16.538573,
   "end_time": "2022-07-17T03:15:21.136396",
   "environment_variables": {},
   "exception": null,
   "input_path": "App-Correlation_charts.ipynb",
   "output_path": "App-Correlation_charts.ipynb",
   "parameters": {},
   "start_time": "2022-07-17T03:15:04.597823",
   "version": "2.2.2"
  }
 },
 "nbformat": 4,
 "nbformat_minor": 5
}