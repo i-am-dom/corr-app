{
 "cells": [
  {
   "cell_type": "markdown",
   "id": "touched-facility",
   "metadata": {
    "papermill": {
     "duration": 0.014517,
     "end_time": "2022-05-04T03:02:23.437241",
     "exception": false,
     "start_time": "2022-05-04T03:02:23.422724",
     "status": "completed"
    },
    "tags": []
   },
   "source": [
    "# Koreliacijų matrica\n",
    "> Išplėstinė koreliacijų matrica. \n",
    "\n",
    "- toc: true \n",
    "- badges: true\n",
    "- comments: false\n",
    "- categories: [Dominykas Tautkus]\n",
    "- image: images/matrix.png"
   ]
  },
  {
   "cell_type": "code",
   "execution_count": null,
   "id": "premium-weekend",
   "metadata": {
    "papermill": {
     "duration": 0.010717,
     "end_time": "2022-05-04T03:02:23.459314",
     "exception": false,
     "start_time": "2022-05-04T03:02:23.448597",
     "status": "completed"
    },
    "tags": []
   },
   "outputs": [],
   "source": []
  },
  {
   "cell_type": "code",
   "execution_count": 1,
   "id": "vertical-rebate",
   "metadata": {
    "execution": {
     "iopub.execute_input": "2022-05-04T03:02:23.491205Z",
     "iopub.status.busy": "2022-05-04T03:02:23.490643Z",
     "iopub.status.idle": "2022-05-04T03:02:23.501064Z",
     "shell.execute_reply": "2022-05-04T03:02:23.500634Z"
    },
    "papermill": {
     "duration": 0.031314,
     "end_time": "2022-05-04T03:02:23.501187",
     "exception": false,
     "start_time": "2022-05-04T03:02:23.469873",
     "status": "completed"
    },
    "tags": []
   },
   "outputs": [],
   "source": [
    "#hide\n",
    "%load_ext autoreload\n",
    "%autoreload 2"
   ]
  },
  {
   "cell_type": "code",
   "execution_count": 2,
   "id": "overall-advancement",
   "metadata": {
    "execution": {
     "iopub.execute_input": "2022-05-04T03:02:23.536654Z",
     "iopub.status.busy": "2022-05-04T03:02:23.534650Z",
     "iopub.status.idle": "2022-05-04T03:02:24.832442Z",
     "shell.execute_reply": "2022-05-04T03:02:24.831906Z"
    },
    "papermill": {
     "duration": 1.320774,
     "end_time": "2022-05-04T03:02:24.832579",
     "exception": false,
     "start_time": "2022-05-04T03:02:23.511805",
     "status": "completed"
    },
    "tags": []
   },
   "outputs": [],
   "source": [
    "#hide\n",
    "from scripts.read_data import read_api\n",
    "from IPython.display import HTML\n",
    "import plotly.graph_objects as go\n"
   ]
  },
  {
   "cell_type": "code",
   "execution_count": 3,
   "id": "light-crazy",
   "metadata": {
    "execution": {
     "iopub.execute_input": "2022-05-04T03:02:24.872990Z",
     "iopub.status.busy": "2022-05-04T03:02:24.872050Z",
     "iopub.status.idle": "2022-05-04T03:02:24.886476Z",
     "shell.execute_reply": "2022-05-04T03:02:24.886878Z"
    },
    "papermill": {
     "duration": 0.042633,
     "end_time": "2022-05-04T03:02:24.887018",
     "exception": false,
     "start_time": "2022-05-04T03:02:24.844385",
     "status": "completed"
    },
    "tags": []
   },
   "outputs": [],
   "source": [
    "#hide\n",
    "### ICO koreliacija"
   ]
  },
  {
   "cell_type": "code",
   "execution_count": 4,
   "id": "likely-bahrain",
   "metadata": {
    "execution": {
     "iopub.execute_input": "2022-05-04T03:02:24.913009Z",
     "iopub.status.busy": "2022-05-04T03:02:24.912046Z",
     "iopub.status.idle": "2022-05-04T03:02:25.768955Z",
     "shell.execute_reply": "2022-05-04T03:02:25.768431Z"
    },
    "papermill": {
     "duration": 0.871375,
     "end_time": "2022-05-04T03:02:25.769100",
     "exception": false,
     "start_time": "2022-05-04T03:02:24.897725",
     "status": "completed"
    },
    "tags": []
   },
   "outputs": [],
   "source": [
    "#hide\n",
    "import matplotlib.pyplot as plt\n",
    "import numpy as np\n",
    "import pandas as pd\n",
    "import seaborn as sns\n",
    "import matplotlib.pyplot as plt \n",
    "import matplotlib.dates as mdates\n",
    "import matplotlib.pyplot as plt"
   ]
  },
  {
   "cell_type": "code",
   "execution_count": 5,
   "id": "superior-blanket",
   "metadata": {
    "execution": {
     "iopub.execute_input": "2022-05-04T03:02:25.800491Z",
     "iopub.status.busy": "2022-05-04T03:02:25.799532Z",
     "iopub.status.idle": "2022-05-04T03:02:35.228305Z",
     "shell.execute_reply": "2022-05-04T03:02:35.227816Z"
    },
    "papermill": {
     "duration": 9.448193,
     "end_time": "2022-05-04T03:02:35.228424",
     "exception": false,
     "start_time": "2022-05-04T03:02:25.780231",
     "status": "completed"
    },
    "tags": []
   },
   "outputs": [
    {
     "name": "stderr",
     "output_type": "stream",
     "text": [
      "/home/runner/work/corr-app/corr-app/_notebooks/scripts/read_data.py:187: SettingWithCopyWarning:\n",
      "\n",
      "\n",
      "A value is trying to be set on a copy of a slice from a DataFrame.\n",
      "Try using .loc[row_indexer,col_indexer] = value instead\n",
      "\n",
      "See the caveats in the documentation: https://pandas.pydata.org/pandas-docs/stable/user_guide/indexing.html#returning-a-view-versus-a-copy\n",
      "\n"
     ]
    },
    {
     "name": "stderr",
     "output_type": "stream",
     "text": [
      "/home/runner/work/corr-app/corr-app/_notebooks/scripts/read_data.py:215: SettingWithCopyWarning:\n",
      "\n",
      "\n",
      "A value is trying to be set on a copy of a slice from a DataFrame.\n",
      "Try using .loc[row_indexer,col_indexer] = value instead\n",
      "\n",
      "See the caveats in the documentation: https://pandas.pydata.org/pandas-docs/stable/user_guide/indexing.html#returning-a-view-versus-a-copy\n",
      "\n"
     ]
    }
   ],
   "source": [
    "#hide\n",
    "df_all = read_api()\n",
    "#df_all = df_all.drop(['SP500', 'XAU', 'ETH', 'BTC'], axis=1)\n",
    "\n"
   ]
  },
  {
   "cell_type": "code",
   "execution_count": 6,
   "id": "mature-alert",
   "metadata": {
    "execution": {
     "iopub.execute_input": "2022-05-04T03:02:35.258697Z",
     "iopub.status.busy": "2022-05-04T03:02:35.258163Z",
     "iopub.status.idle": "2022-05-04T03:02:35.287001Z",
     "shell.execute_reply": "2022-05-04T03:02:35.286511Z"
    },
    "papermill": {
     "duration": 0.047091,
     "end_time": "2022-05-04T03:02:35.287131",
     "exception": false,
     "start_time": "2022-05-04T03:02:35.240040",
     "status": "completed"
    },
    "tags": []
   },
   "outputs": [],
   "source": [
    "#hide_input\n",
    "sum_corr = df_all.corr().sum().sort_values(ascending=True).index.values\n",
    "#df_all[sum_corr].corr()"
   ]
  },
  {
   "cell_type": "markdown",
   "id": "complex-syndicate",
   "metadata": {
    "papermill": {
     "duration": 0.011221,
     "end_time": "2022-05-04T03:02:35.310434",
     "exception": false,
     "start_time": "2022-05-04T03:02:35.299213",
     "status": "completed"
    },
    "tags": []
   },
   "source": [
    "## Išplėstinė koreliacijų matrica. "
   ]
  },
  {
   "cell_type": "code",
   "execution_count": 7,
   "id": "atomic-omaha",
   "metadata": {
    "execution": {
     "iopub.execute_input": "2022-05-04T03:02:35.337277Z",
     "iopub.status.busy": "2022-05-04T03:02:35.336763Z",
     "iopub.status.idle": "2022-05-04T03:02:36.566404Z",
     "shell.execute_reply": "2022-05-04T03:02:36.565536Z"
    },
    "papermill": {
     "duration": 1.244836,
     "end_time": "2022-05-04T03:02:36.566533",
     "exception": false,
     "start_time": "2022-05-04T03:02:35.321697",
     "status": "completed"
    },
    "tags": []
   },
   "outputs": [
    {
     "data": {
      "image/png": "[encoded data removed]",
      "text/plain": [
       "<Figure size 1080x792 with 2 Axes>"
      ]
     },
     "metadata": {
      "needs_background": "light"
     },
     "output_type": "display_data"
    }
   ],
   "source": [
    "#hide_input\n",
    "plt.figure(figsize=(15, 11))\n",
    "sns.heatmap(df_all[sum_corr].corr(), annot=True, cmap=\"cubehelix\") \n",
    "sns.set(font_scale=1.25)\n",
    "plt.savefig('corr_matrix.png', format='eps')"
   ]
  },
  {
   "cell_type": "code",
   "execution_count": 8,
   "id": "arbitrary-sullivan",
   "metadata": {
    "execution": {
     "iopub.execute_input": "2022-05-04T03:02:36.598958Z",
     "iopub.status.busy": "2022-05-04T03:02:36.597733Z",
     "iopub.status.idle": "2022-05-04T03:02:36.623966Z",
     "shell.execute_reply": "2022-05-04T03:02:36.624433Z"
    },
    "papermill": {
     "duration": 0.044532,
     "end_time": "2022-05-04T03:02:36.624591",
     "exception": false,
     "start_time": "2022-05-04T03:02:36.580059",
     "status": "completed"
    },
    "tags": []
   },
   "outputs": [],
   "source": [
    "#hide\n",
    "#df_all_mrk = read_api()"
   ]
  },
  {
   "cell_type": "code",
   "execution_count": 9,
   "id": "delayed-adapter",
   "metadata": {
    "execution": {
     "iopub.execute_input": "2022-05-04T03:02:36.658168Z",
     "iopub.status.busy": "2022-05-04T03:02:36.657604Z",
     "iopub.status.idle": "2022-05-04T03:02:36.682697Z",
     "shell.execute_reply": "2022-05-04T03:02:36.682181Z"
    },
    "papermill": {
     "duration": 0.044608,
     "end_time": "2022-05-04T03:02:36.682835",
     "exception": false,
     "start_time": "2022-05-04T03:02:36.638227",
     "status": "completed"
    },
    "tags": []
   },
   "outputs": [],
   "source": [
    "#hide\n",
    "#Koreliacijų koeficientai"
   ]
  },
  {
   "cell_type": "code",
   "execution_count": 10,
   "id": "seeing-celebration",
   "metadata": {
    "execution": {
     "iopub.execute_input": "2022-05-04T03:02:36.722640Z",
     "iopub.status.busy": "2022-05-04T03:02:36.721971Z",
     "iopub.status.idle": "2022-05-04T03:02:36.743841Z",
     "shell.execute_reply": "2022-05-04T03:02:36.743331Z"
    },
    "papermill": {
     "duration": 0.045832,
     "end_time": "2022-05-04T03:02:36.743975",
     "exception": false,
     "start_time": "2022-05-04T03:02:36.698143",
     "status": "completed"
    },
    "tags": []
   },
   "outputs": [],
   "source": [
    "#hide_input\n",
    "#sum_corr = df_all_mrk.corr().sum().sort_values(ascending=True).index.values\n",
    "#df_all_mrk[sum_corr].corr()"
   ]
  },
  {
   "cell_type": "code",
   "execution_count": 11,
   "id": "other-painting",
   "metadata": {
    "execution": {
     "iopub.execute_input": "2022-05-04T03:02:36.793184Z",
     "iopub.status.busy": "2022-05-04T03:02:36.792653Z",
     "iopub.status.idle": "2022-05-04T03:02:36.810070Z",
     "shell.execute_reply": "2022-05-04T03:02:36.809648Z"
    },
    "papermill": {
     "duration": 0.052097,
     "end_time": "2022-05-04T03:02:36.810187",
     "exception": false,
     "start_time": "2022-05-04T03:02:36.758090",
     "status": "completed"
    },
    "tags": []
   },
   "outputs": [],
   "source": [
    "#hide\n",
    "#Koreliacijos matrica. "
   ]
  },
  {
   "cell_type": "code",
   "execution_count": 12,
   "id": "modular-magnitude",
   "metadata": {
    "execution": {
     "iopub.execute_input": "2022-05-04T03:02:36.842601Z",
     "iopub.status.busy": "2022-05-04T03:02:36.842010Z",
     "iopub.status.idle": "2022-05-04T03:02:36.867964Z",
     "shell.execute_reply": "2022-05-04T03:02:36.867512Z"
    },
    "papermill": {
     "duration": 0.044624,
     "end_time": "2022-05-04T03:02:36.868076",
     "exception": false,
     "start_time": "2022-05-04T03:02:36.823452",
     "status": "completed"
    },
    "tags": []
   },
   "outputs": [],
   "source": [
    "#hide_input\n",
    "#plt.figure(figsize=(15, 8))\n",
    "#sns.heatmap(df_all_mrk[sum_corr].corr(), annot=True, cmap=\"BrBG\");\n",
    "#plt.savefig('corr_matrix_all.eps', format='eps')"
   ]
  },
  {
   "cell_type": "code",
   "execution_count": null,
   "id": "original-senator",
   "metadata": {
    "papermill": {
     "duration": 0.012935,
     "end_time": "2022-05-04T03:02:36.894063",
     "exception": false,
     "start_time": "2022-05-04T03:02:36.881128",
     "status": "completed"
    },
    "tags": []
   },
   "outputs": [],
   "source": []
  },
  {
   "cell_type": "code",
   "execution_count": null,
   "id": "saving-secretariat",
   "metadata": {
    "papermill": {
     "duration": 0.013014,
     "end_time": "2022-05-04T03:02:36.920067",
     "exception": false,
     "start_time": "2022-05-04T03:02:36.907053",
     "status": "completed"
    },
    "tags": []
   },
   "outputs": [],
   "source": []
  }
 ],
 "metadata": {
  "kernelspec": {
   "display_name": "Python 3",
   "language": "python",
   "name": "python3"
  },
  "language_info": {
   "codemirror_mode": {
    "name": "ipython",
    "version": 3
   },
   "file_extension": ".py",
   "mimetype": "text/x-python",
   "name": "python",
   "nbconvert_exporter": "python",
   "pygments_lexer": "ipython3",
   "version": "3.6.15"
  },
  "papermill": {
   "default_parameters": {},
   "duration": 14.967249,
   "end_time": "2022-05-04T03:02:37.452026",
   "environment_variables": {},
   "exception": null,
   "input_path": "App-Correlation_charts.ipynb",
   "output_path": "App-Correlation_charts.ipynb",
   "parameters": {},
   "start_time": "2022-05-04T03:02:22.484777",
   "version": "2.2.2"
  }
 },
 "nbformat": 4,
 "nbformat_minor": 5
}