{
 "cells": [
  {
   "cell_type": "markdown",
   "id": "touched-facility",
   "metadata": {
    "papermill": {
     "duration": 0.015198,
     "end_time": "2022-04-27T03:12:50.916430",
     "exception": false,
     "start_time": "2022-04-27T03:12:50.901232",
     "status": "completed"
    },
    "tags": []
   },
   "source": [
    "# Koreliacijų matrica\n",
    "> Išplėstinė koreliacijų matrica. \n",
    "\n",
    "- toc: true \n",
    "- badges: true\n",
    "- comments: false\n",
    "- categories: [Dominykas Tautkus]\n",
    "- image: images/matrix.png"
   ]
  },
  {
   "cell_type": "code",
   "execution_count": null,
   "id": "premium-weekend",
   "metadata": {
    "papermill": {
     "duration": 0.010743,
     "end_time": "2022-04-27T03:12:50.938632",
     "exception": false,
     "start_time": "2022-04-27T03:12:50.927889",
     "status": "completed"
    },
    "tags": []
   },
   "outputs": [],
   "source": []
  },
  {
   "cell_type": "code",
   "execution_count": 1,
   "id": "vertical-rebate",
   "metadata": {
    "execution": {
     "iopub.execute_input": "2022-04-27T03:12:50.970457Z",
     "iopub.status.busy": "2022-04-27T03:12:50.969901Z",
     "iopub.status.idle": "2022-04-27T03:12:50.980201Z",
     "shell.execute_reply": "2022-04-27T03:12:50.979759Z"
    },
    "papermill": {
     "duration": 0.030995,
     "end_time": "2022-04-27T03:12:50.980312",
     "exception": false,
     "start_time": "2022-04-27T03:12:50.949317",
     "status": "completed"
    },
    "tags": []
   },
   "outputs": [],
   "source": [
    "#hide\n",
    "%load_ext autoreload\n",
    "%autoreload 2"
   ]
  },
  {
   "cell_type": "code",
   "execution_count": 2,
   "id": "overall-advancement",
   "metadata": {
    "execution": {
     "iopub.execute_input": "2022-04-27T03:12:51.015466Z",
     "iopub.status.busy": "2022-04-27T03:12:51.013333Z",
     "iopub.status.idle": "2022-04-27T03:12:52.131751Z",
     "shell.execute_reply": "2022-04-27T03:12:52.131232Z"
    },
    "papermill": {
     "duration": 1.140908,
     "end_time": "2022-04-27T03:12:52.131885",
     "exception": false,
     "start_time": "2022-04-27T03:12:50.990977",
     "status": "completed"
    },
    "tags": []
   },
   "outputs": [],
   "source": [
    "#hide\n",
    "from scripts.read_data import read_api\n",
    "from IPython.display import HTML\n",
    "import plotly.graph_objects as go\n"
   ]
  },
  {
   "cell_type": "code",
   "execution_count": 3,
   "id": "light-crazy",
   "metadata": {
    "execution": {
     "iopub.execute_input": "2022-04-27T03:12:52.164612Z",
     "iopub.status.busy": "2022-04-27T03:12:52.162492Z",
     "iopub.status.idle": "2022-04-27T03:12:52.183347Z",
     "shell.execute_reply": "2022-04-27T03:12:52.182834Z"
    },
    "papermill": {
     "duration": 0.039544,
     "end_time": "2022-04-27T03:12:52.183453",
     "exception": false,
     "start_time": "2022-04-27T03:12:52.143909",
     "status": "completed"
    },
    "tags": []
   },
   "outputs": [],
   "source": [
    "#hide\n",
    "### ICO koreliacija"
   ]
  },
  {
   "cell_type": "code",
   "execution_count": 4,
   "id": "likely-bahrain",
   "metadata": {
    "execution": {
     "iopub.execute_input": "2022-04-27T03:12:52.219246Z",
     "iopub.status.busy": "2022-04-27T03:12:52.218484Z",
     "iopub.status.idle": "2022-04-27T03:12:53.053994Z",
     "shell.execute_reply": "2022-04-27T03:12:53.053439Z"
    },
    "papermill": {
     "duration": 0.85992,
     "end_time": "2022-04-27T03:12:53.054135",
     "exception": false,
     "start_time": "2022-04-27T03:12:52.194215",
     "status": "completed"
    },
    "tags": []
   },
   "outputs": [],
   "source": [
    "#hide\n",
    "import matplotlib.pyplot as plt\n",
    "import numpy as np\n",
    "import pandas as pd\n",
    "import seaborn as sns\n",
    "import matplotlib.pyplot as plt \n",
    "import matplotlib.dates as mdates\n",
    "import matplotlib.pyplot as plt"
   ]
  },
  {
   "cell_type": "code",
   "execution_count": 5,
   "id": "superior-blanket",
   "metadata": {
    "execution": {
     "iopub.execute_input": "2022-04-27T03:12:53.176719Z",
     "iopub.status.busy": "2022-04-27T03:12:53.175041Z",
     "iopub.status.idle": "2022-04-27T03:13:04.083882Z",
     "shell.execute_reply": "2022-04-27T03:13:04.084362Z"
    },
    "papermill": {
     "duration": 10.964973,
     "end_time": "2022-04-27T03:13:04.084523",
     "exception": false,
     "start_time": "2022-04-27T03:12:53.119550",
     "status": "completed"
    },
    "tags": []
   },
   "outputs": [
    {
     "name": "stderr",
     "output_type": "stream",
     "text": [
      "/home/runner/work/corr-app/corr-app/_notebooks/scripts/read_data.py:187: SettingWithCopyWarning:\n",
      "\n",
      "\n",
      "A value is trying to be set on a copy of a slice from a DataFrame.\n",
      "Try using .loc[row_indexer,col_indexer] = value instead\n",
      "\n",
      "See the caveats in the documentation: https://pandas.pydata.org/pandas-docs/stable/user_guide/indexing.html#returning-a-view-versus-a-copy\n",
      "\n"
     ]
    },
    {
     "name": "stderr",
     "output_type": "stream",
     "text": [
      "/home/runner/work/corr-app/corr-app/_notebooks/scripts/read_data.py:215: SettingWithCopyWarning:\n",
      "\n",
      "\n",
      "A value is trying to be set on a copy of a slice from a DataFrame.\n",
      "Try using .loc[row_indexer,col_indexer] = value instead\n",
      "\n",
      "See the caveats in the documentation: https://pandas.pydata.org/pandas-docs/stable/user_guide/indexing.html#returning-a-view-versus-a-copy\n",
      "\n"
     ]
    }
   ],
   "source": [
    "#hide\n",
    "df_all = read_api()\n",
    "#df_all = df_all.drop(['SP500', 'XAU', 'ETH', 'BTC'], axis=1)\n",
    "\n"
   ]
  },
  {
   "cell_type": "code",
   "execution_count": 6,
   "id": "mature-alert",
   "metadata": {
    "execution": {
     "iopub.execute_input": "2022-04-27T03:13:04.122553Z",
     "iopub.status.busy": "2022-04-27T03:13:04.116303Z",
     "iopub.status.idle": "2022-04-27T03:13:04.145794Z",
     "shell.execute_reply": "2022-04-27T03:13:04.145318Z"
    },
    "papermill": {
     "duration": 0.048554,
     "end_time": "2022-04-27T03:13:04.145950",
     "exception": false,
     "start_time": "2022-04-27T03:13:04.097396",
     "status": "completed"
    },
    "tags": []
   },
   "outputs": [],
   "source": [
    "#hide_input\n",
    "sum_corr = df_all.corr().sum().sort_values(ascending=True).index.values\n",
    "#df_all[sum_corr].corr()"
   ]
  },
  {
   "cell_type": "markdown",
   "id": "complex-syndicate",
   "metadata": {
    "papermill": {
     "duration": 0.011242,
     "end_time": "2022-04-27T03:13:04.169627",
     "exception": false,
     "start_time": "2022-04-27T03:13:04.158385",
     "status": "completed"
    },
    "tags": []
   },
   "source": [
    "## Išplėstinė koreliacijų matrica. "
   ]
  },
  {
   "cell_type": "code",
   "execution_count": 7,
   "id": "atomic-omaha",
   "metadata": {
    "execution": {
     "iopub.execute_input": "2022-04-27T03:13:04.214631Z",
     "iopub.status.busy": "2022-04-27T03:13:04.210525Z",
     "iopub.status.idle": "2022-04-27T03:13:05.375648Z",
     "shell.execute_reply": "2022-04-27T03:13:05.375224Z"
    },
    "papermill": {
     "duration": 1.194808,
     "end_time": "2022-04-27T03:13:05.375768",
     "exception": false,
     "start_time": "2022-04-27T03:13:04.180960",
     "status": "completed"
    },
    "tags": []
   },
   "outputs": [
    {
     "data": {
      "image/png": "[encoded data removed]",
      "text/plain": [
       "<Figure size 1080x792 with 2 Axes>"
      ]
     },
     "metadata": {
      "needs_background": "light"
     },
     "output_type": "display_data"
    }
   ],
   "source": [
    "#hide_input\n",
    "plt.figure(figsize=(15, 11))\n",
    "sns.heatmap(df_all[sum_corr].corr(), annot=True, cmap=\"cubehelix\") \n",
    "sns.set(font_scale=1.25)\n",
    "plt.savefig('corr_matrix.png', format='eps')"
   ]
  },
  {
   "cell_type": "code",
   "execution_count": 8,
   "id": "arbitrary-sullivan",
   "metadata": {
    "execution": {
     "iopub.execute_input": "2022-04-27T03:13:05.407613Z",
     "iopub.status.busy": "2022-04-27T03:13:05.405041Z",
     "iopub.status.idle": "2022-04-27T03:13:05.431685Z",
     "shell.execute_reply": "2022-04-27T03:13:05.431163Z"
    },
    "papermill": {
     "duration": 0.042507,
     "end_time": "2022-04-27T03:13:05.431802",
     "exception": false,
     "start_time": "2022-04-27T03:13:05.389295",
     "status": "completed"
    },
    "tags": []
   },
   "outputs": [],
   "source": [
    "#hide\n",
    "#df_all_mrk = read_api()"
   ]
  },
  {
   "cell_type": "code",
   "execution_count": 9,
   "id": "delayed-adapter",
   "metadata": {
    "execution": {
     "iopub.execute_input": "2022-04-27T03:13:05.462326Z",
     "iopub.status.busy": "2022-04-27T03:13:05.461787Z",
     "iopub.status.idle": "2022-04-27T03:13:05.487394Z",
     "shell.execute_reply": "2022-04-27T03:13:05.486966Z"
    },
    "papermill": {
     "duration": 0.041885,
     "end_time": "2022-04-27T03:13:05.487495",
     "exception": false,
     "start_time": "2022-04-27T03:13:05.445610",
     "status": "completed"
    },
    "tags": []
   },
   "outputs": [],
   "source": [
    "#hide\n",
    "#Koreliacijų koeficientai"
   ]
  },
  {
   "cell_type": "code",
   "execution_count": 10,
   "id": "seeing-celebration",
   "metadata": {
    "execution": {
     "iopub.execute_input": "2022-04-27T03:13:05.519461Z",
     "iopub.status.busy": "2022-04-27T03:13:05.518956Z",
     "iopub.status.idle": "2022-04-27T03:13:05.543928Z",
     "shell.execute_reply": "2022-04-27T03:13:05.543446Z"
    },
    "papermill": {
     "duration": 0.041122,
     "end_time": "2022-04-27T03:13:05.544040",
     "exception": false,
     "start_time": "2022-04-27T03:13:05.502918",
     "status": "completed"
    },
    "tags": []
   },
   "outputs": [],
   "source": [
    "#hide_input\n",
    "#sum_corr = df_all_mrk.corr().sum().sort_values(ascending=True).index.values\n",
    "#df_all_mrk[sum_corr].corr()"
   ]
  },
  {
   "cell_type": "code",
   "execution_count": 11,
   "id": "other-painting",
   "metadata": {
    "execution": {
     "iopub.execute_input": "2022-04-27T03:13:05.575385Z",
     "iopub.status.busy": "2022-04-27T03:13:05.574889Z",
     "iopub.status.idle": "2022-04-27T03:13:05.598881Z",
     "shell.execute_reply": "2022-04-27T03:13:05.598465Z"
    },
    "papermill": {
     "duration": 0.041167,
     "end_time": "2022-04-27T03:13:05.598986",
     "exception": false,
     "start_time": "2022-04-27T03:13:05.557819",
     "status": "completed"
    },
    "tags": []
   },
   "outputs": [],
   "source": [
    "#hide\n",
    "#Koreliacijos matrica. "
   ]
  },
  {
   "cell_type": "code",
   "execution_count": 12,
   "id": "modular-magnitude",
   "metadata": {
    "execution": {
     "iopub.execute_input": "2022-04-27T03:13:05.628053Z",
     "iopub.status.busy": "2022-04-27T03:13:05.627556Z",
     "iopub.status.idle": "2022-04-27T03:13:05.651941Z",
     "shell.execute_reply": "2022-04-27T03:13:05.652389Z"
    },
    "papermill": {
     "duration": 0.040336,
     "end_time": "2022-04-27T03:13:05.652522",
     "exception": false,
     "start_time": "2022-04-27T03:13:05.612186",
     "status": "completed"
    },
    "tags": []
   },
   "outputs": [],
   "source": [
    "#hide_input\n",
    "#plt.figure(figsize=(15, 8))\n",
    "#sns.heatmap(df_all_mrk[sum_corr].corr(), annot=True, cmap=\"BrBG\");\n",
    "#plt.savefig('corr_matrix_all.eps', format='eps')"
   ]
  },
  {
   "cell_type": "code",
   "execution_count": null,
   "id": "original-senator",
   "metadata": {
    "papermill": {
     "duration": 0.012983,
     "end_time": "2022-04-27T03:13:05.679640",
     "exception": false,
     "start_time": "2022-04-27T03:13:05.666657",
     "status": "completed"
    },
    "tags": []
   },
   "outputs": [],
   "source": []
  },
  {
   "cell_type": "code",
   "execution_count": null,
   "id": "saving-secretariat",
   "metadata": {
    "papermill": {
     "duration": 0.013017,
     "end_time": "2022-04-27T03:13:05.705705",
     "exception": false,
     "start_time": "2022-04-27T03:13:05.692688",
     "status": "completed"
    },
    "tags": []
   },
   "outputs": [],
   "source": []
  }
 ],
 "metadata": {
  "kernelspec": {
   "display_name": "Python 3",
   "language": "python",
   "name": "python3"
  },
  "language_info": {
   "codemirror_mode": {
    "name": "ipython",
    "version": 3
   },
   "file_extension": ".py",
   "mimetype": "text/x-python",
   "name": "python",
   "nbconvert_exporter": "python",
   "pygments_lexer": "ipython3",
   "version": "3.6.15"
  },
  "papermill": {
   "default_parameters": {},
   "duration": 16.254844,
   "end_time": "2022-04-27T03:13:06.237756",
   "environment_variables": {},
   "exception": null,
   "input_path": "App-Correlation_charts.ipynb",
   "output_path": "App-Correlation_charts.ipynb",
   "parameters": {},
   "start_time": "2022-04-27T03:12:49.982912",
   "version": "2.2.2"
  }
 },
 "nbformat": 4,
 "nbformat_minor": 5
}