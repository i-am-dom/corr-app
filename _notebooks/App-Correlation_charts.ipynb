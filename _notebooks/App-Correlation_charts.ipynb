{
 "cells": [
  {
   "cell_type": "markdown",
   "id": "touched-facility",
   "metadata": {
    "papermill": {
     "duration": 0.014964,
     "end_time": "2022-05-26T03:03:03.090470",
     "exception": false,
     "start_time": "2022-05-26T03:03:03.075506",
     "status": "completed"
    },
    "tags": []
   },
   "source": [
    "# Koreliacijų matrica\n",
    "> Išplėstinė koreliacijų matrica. \n",
    "\n",
    "- toc: true \n",
    "- badges: true\n",
    "- comments: false\n",
    "- categories: [Dominykas Tautkus]\n",
    "- image: images/matrix.png"
   ]
  },
  {
   "cell_type": "code",
   "execution_count": null,
   "id": "premium-weekend",
   "metadata": {
    "papermill": {
     "duration": 0.010608,
     "end_time": "2022-05-26T03:03:03.112395",
     "exception": false,
     "start_time": "2022-05-26T03:03:03.101787",
     "status": "completed"
    },
    "tags": []
   },
   "outputs": [],
   "source": []
  },
  {
   "cell_type": "code",
   "execution_count": 1,
   "id": "vertical-rebate",
   "metadata": {
    "execution": {
     "iopub.execute_input": "2022-05-26T03:03:03.144836Z",
     "iopub.status.busy": "2022-05-26T03:03:03.144244Z",
     "iopub.status.idle": "2022-05-26T03:03:03.154730Z",
     "shell.execute_reply": "2022-05-26T03:03:03.154248Z"
    },
    "papermill": {
     "duration": 0.031842,
     "end_time": "2022-05-26T03:03:03.154870",
     "exception": false,
     "start_time": "2022-05-26T03:03:03.123028",
     "status": "completed"
    },
    "tags": []
   },
   "outputs": [],
   "source": [
    "#hide\n",
    "%load_ext autoreload\n",
    "%autoreload 2"
   ]
  },
  {
   "cell_type": "code",
   "execution_count": 2,
   "id": "overall-advancement",
   "metadata": {
    "execution": {
     "iopub.execute_input": "2022-05-26T03:03:03.183584Z",
     "iopub.status.busy": "2022-05-26T03:03:03.183015Z",
     "iopub.status.idle": "2022-05-26T03:03:04.444864Z",
     "shell.execute_reply": "2022-05-26T03:03:04.443775Z"
    },
    "papermill": {
     "duration": 1.279497,
     "end_time": "2022-05-26T03:03:04.445007",
     "exception": false,
     "start_time": "2022-05-26T03:03:03.165510",
     "status": "completed"
    },
    "tags": []
   },
   "outputs": [],
   "source": [
    "#hide\n",
    "from scripts.read_data import read_api\n",
    "from IPython.display import HTML\n",
    "import plotly.graph_objects as go\n"
   ]
  },
  {
   "cell_type": "code",
   "execution_count": 3,
   "id": "light-crazy",
   "metadata": {
    "execution": {
     "iopub.execute_input": "2022-05-26T03:03:04.473586Z",
     "iopub.status.busy": "2022-05-26T03:03:04.471877Z",
     "iopub.status.idle": "2022-05-26T03:03:04.493538Z",
     "shell.execute_reply": "2022-05-26T03:03:04.494018Z"
    },
    "papermill": {
     "duration": 0.038196,
     "end_time": "2022-05-26T03:03:04.494166",
     "exception": false,
     "start_time": "2022-05-26T03:03:04.455970",
     "status": "completed"
    },
    "tags": []
   },
   "outputs": [],
   "source": [
    "#hide\n",
    "### ICO koreliacija"
   ]
  },
  {
   "cell_type": "code",
   "execution_count": 4,
   "id": "likely-bahrain",
   "metadata": {
    "execution": {
     "iopub.execute_input": "2022-05-26T03:03:04.517663Z",
     "iopub.status.busy": "2022-05-26T03:03:04.517142Z",
     "iopub.status.idle": "2022-05-26T03:03:05.348264Z",
     "shell.execute_reply": "2022-05-26T03:03:05.348802Z"
    },
    "papermill": {
     "duration": 0.844555,
     "end_time": "2022-05-26T03:03:05.348981",
     "exception": false,
     "start_time": "2022-05-26T03:03:04.504426",
     "status": "completed"
    },
    "tags": []
   },
   "outputs": [],
   "source": [
    "#hide\n",
    "import matplotlib.pyplot as plt\n",
    "import numpy as np\n",
    "import pandas as pd\n",
    "import seaborn as sns\n",
    "import matplotlib.pyplot as plt \n",
    "import matplotlib.dates as mdates\n",
    "import matplotlib.pyplot as plt"
   ]
  },
  {
   "cell_type": "code",
   "execution_count": 5,
   "id": "superior-blanket",
   "metadata": {
    "execution": {
     "iopub.execute_input": "2022-05-26T03:03:05.376191Z",
     "iopub.status.busy": "2022-05-26T03:03:05.375658Z",
     "iopub.status.idle": "2022-05-26T03:03:14.523122Z",
     "shell.execute_reply": "2022-05-26T03:03:14.522463Z"
    },
    "papermill": {
     "duration": 9.163545,
     "end_time": "2022-05-26T03:03:14.523267",
     "exception": false,
     "start_time": "2022-05-26T03:03:05.359722",
     "status": "completed"
    },
    "tags": []
   },
   "outputs": [
    {
     "name": "stderr",
     "output_type": "stream",
     "text": [
      "/home/runner/work/corr-app/corr-app/_notebooks/scripts/read_data.py:187: SettingWithCopyWarning:\n",
      "\n",
      "\n",
      "A value is trying to be set on a copy of a slice from a DataFrame.\n",
      "Try using .loc[row_indexer,col_indexer] = value instead\n",
      "\n",
      "See the caveats in the documentation: https://pandas.pydata.org/pandas-docs/stable/user_guide/indexing.html#returning-a-view-versus-a-copy\n",
      "\n"
     ]
    },
    {
     "name": "stderr",
     "output_type": "stream",
     "text": [
      "/home/runner/work/corr-app/corr-app/_notebooks/scripts/read_data.py:215: SettingWithCopyWarning:\n",
      "\n",
      "\n",
      "A value is trying to be set on a copy of a slice from a DataFrame.\n",
      "Try using .loc[row_indexer,col_indexer] = value instead\n",
      "\n",
      "See the caveats in the documentation: https://pandas.pydata.org/pandas-docs/stable/user_guide/indexing.html#returning-a-view-versus-a-copy\n",
      "\n"
     ]
    }
   ],
   "source": [
    "#hide\n",
    "df_all = read_api()\n",
    "#df_all = df_all.drop(['SP500', 'XAU', 'ETH', 'BTC'], axis=1)\n",
    "\n"
   ]
  },
  {
   "cell_type": "code",
   "execution_count": 6,
   "id": "mature-alert",
   "metadata": {
    "execution": {
     "iopub.execute_input": "2022-05-26T03:03:14.547758Z",
     "iopub.status.busy": "2022-05-26T03:03:14.547237Z",
     "iopub.status.idle": "2022-05-26T03:03:14.578446Z",
     "shell.execute_reply": "2022-05-26T03:03:14.577778Z"
    },
    "papermill": {
     "duration": 0.044623,
     "end_time": "2022-05-26T03:03:14.578571",
     "exception": false,
     "start_time": "2022-05-26T03:03:14.533948",
     "status": "completed"
    },
    "tags": []
   },
   "outputs": [],
   "source": [
    "#hide_input\n",
    "sum_corr = df_all.corr().sum().sort_values(ascending=True).index.values\n",
    "#df_all[sum_corr].corr()"
   ]
  },
  {
   "cell_type": "markdown",
   "id": "complex-syndicate",
   "metadata": {
    "papermill": {
     "duration": 0.01096,
     "end_time": "2022-05-26T03:03:14.601400",
     "exception": false,
     "start_time": "2022-05-26T03:03:14.590440",
     "status": "completed"
    },
    "tags": []
   },
   "source": [
    "## Išplėstinė koreliacijų matrica. "
   ]
  },
  {
   "cell_type": "code",
   "execution_count": 7,
   "id": "atomic-omaha",
   "metadata": {
    "execution": {
     "iopub.execute_input": "2022-05-26T03:03:14.624873Z",
     "iopub.status.busy": "2022-05-26T03:03:14.624366Z",
     "iopub.status.idle": "2022-05-26T03:03:15.817362Z",
     "shell.execute_reply": "2022-05-26T03:03:15.816780Z"
    },
    "papermill": {
     "duration": 1.206253,
     "end_time": "2022-05-26T03:03:15.817500",
     "exception": false,
     "start_time": "2022-05-26T03:03:14.611247",
     "status": "completed"
    },
    "tags": []
   },
   "outputs": [
    {
     "data": {
      "image/png": "[encoded data removed]",
      "text/plain": [
       "<Figure size 1080x792 with 2 Axes>"
      ]
     },
     "metadata": {
      "needs_background": "light"
     },
     "output_type": "display_data"
    }
   ],
   "source": [
    "#hide_input\n",
    "plt.figure(figsize=(15, 11))\n",
    "sns.heatmap(df_all[sum_corr].corr(), annot=True, cmap=\"cubehelix\") \n",
    "sns.set(font_scale=1.25)\n",
    "plt.savefig('corr_matrix.png', format='eps')"
   ]
  },
  {
   "cell_type": "code",
   "execution_count": 8,
   "id": "arbitrary-sullivan",
   "metadata": {
    "execution": {
     "iopub.execute_input": "2022-05-26T03:03:15.845050Z",
     "iopub.status.busy": "2022-05-26T03:03:15.844532Z",
     "iopub.status.idle": "2022-05-26T03:03:15.873494Z",
     "shell.execute_reply": "2022-05-26T03:03:15.872860Z"
    },
    "papermill": {
     "duration": 0.043717,
     "end_time": "2022-05-26T03:03:15.873636",
     "exception": false,
     "start_time": "2022-05-26T03:03:15.829919",
     "status": "completed"
    },
    "tags": []
   },
   "outputs": [],
   "source": [
    "#hide\n",
    "#df_all_mrk = read_api()"
   ]
  },
  {
   "cell_type": "code",
   "execution_count": 9,
   "id": "delayed-adapter",
   "metadata": {
    "execution": {
     "iopub.execute_input": "2022-05-26T03:03:15.905679Z",
     "iopub.status.busy": "2022-05-26T03:03:15.904989Z",
     "iopub.status.idle": "2022-05-26T03:03:15.933247Z",
     "shell.execute_reply": "2022-05-26T03:03:15.932667Z"
    },
    "papermill": {
     "duration": 0.046265,
     "end_time": "2022-05-26T03:03:15.933381",
     "exception": false,
     "start_time": "2022-05-26T03:03:15.887116",
     "status": "completed"
    },
    "tags": []
   },
   "outputs": [],
   "source": [
    "#hide\n",
    "#Koreliacijų koeficientai"
   ]
  },
  {
   "cell_type": "code",
   "execution_count": 10,
   "id": "seeing-celebration",
   "metadata": {
    "execution": {
     "iopub.execute_input": "2022-05-26T03:03:15.966738Z",
     "iopub.status.busy": "2022-05-26T03:03:15.966220Z",
     "iopub.status.idle": "2022-05-26T03:03:15.990236Z",
     "shell.execute_reply": "2022-05-26T03:03:15.989757Z"
    },
    "papermill": {
     "duration": 0.043196,
     "end_time": "2022-05-26T03:03:15.990348",
     "exception": false,
     "start_time": "2022-05-26T03:03:15.947152",
     "status": "completed"
    },
    "tags": []
   },
   "outputs": [],
   "source": [
    "#hide_input\n",
    "#sum_corr = df_all_mrk.corr().sum().sort_values(ascending=True).index.values\n",
    "#df_all_mrk[sum_corr].corr()"
   ]
  },
  {
   "cell_type": "code",
   "execution_count": 11,
   "id": "other-painting",
   "metadata": {
    "execution": {
     "iopub.execute_input": "2022-05-26T03:03:16.021076Z",
     "iopub.status.busy": "2022-05-26T03:03:16.020512Z",
     "iopub.status.idle": "2022-05-26T03:03:16.045656Z",
     "shell.execute_reply": "2022-05-26T03:03:16.046408Z"
    },
    "papermill": {
     "duration": 0.043031,
     "end_time": "2022-05-26T03:03:16.046534",
     "exception": false,
     "start_time": "2022-05-26T03:03:16.003503",
     "status": "completed"
    },
    "tags": []
   },
   "outputs": [],
   "source": [
    "#hide\n",
    "#Koreliacijos matrica. "
   ]
  },
  {
   "cell_type": "code",
   "execution_count": 12,
   "id": "modular-magnitude",
   "metadata": {
    "execution": {
     "iopub.execute_input": "2022-05-26T03:03:16.087843Z",
     "iopub.status.busy": "2022-05-26T03:03:16.084535Z",
     "iopub.status.idle": "2022-05-26T03:03:16.104053Z",
     "shell.execute_reply": "2022-05-26T03:03:16.103630Z"
    },
    "papermill": {
     "duration": 0.04427,
     "end_time": "2022-05-26T03:03:16.104151",
     "exception": false,
     "start_time": "2022-05-26T03:03:16.059881",
     "status": "completed"
    },
    "tags": []
   },
   "outputs": [],
   "source": [
    "#hide_input\n",
    "#plt.figure(figsize=(15, 8))\n",
    "#sns.heatmap(df_all_mrk[sum_corr].corr(), annot=True, cmap=\"BrBG\");\n",
    "#plt.savefig('corr_matrix_all.eps', format='eps')"
   ]
  },
  {
   "cell_type": "code",
   "execution_count": null,
   "id": "original-senator",
   "metadata": {
    "papermill": {
     "duration": 0.011648,
     "end_time": "2022-05-26T03:03:16.127384",
     "exception": false,
     "start_time": "2022-05-26T03:03:16.115736",
     "status": "completed"
    },
    "tags": []
   },
   "outputs": [],
   "source": []
  },
  {
   "cell_type": "code",
   "execution_count": null,
   "id": "saving-secretariat",
   "metadata": {
    "papermill": {
     "duration": 0.011604,
     "end_time": "2022-05-26T03:03:16.150650",
     "exception": false,
     "start_time": "2022-05-26T03:03:16.139046",
     "status": "completed"
    },
    "tags": []
   },
   "outputs": [],
   "source": []
  }
 ],
 "metadata": {
  "kernelspec": {
   "display_name": "Python 3",
   "language": "python",
   "name": "python3"
  },
  "language_info": {
   "codemirror_mode": {
    "name": "ipython",
    "version": 3
   },
   "file_extension": ".py",
   "mimetype": "text/x-python",
   "name": "python",
   "nbconvert_exporter": "python",
   "pygments_lexer": "ipython3",
   "version": "3.6.15"
  },
  "papermill": {
   "default_parameters": {},
   "duration": 14.706252,
   "end_time": "2022-05-26T03:03:16.682004",
   "environment_variables": {},
   "exception": null,
   "input_path": "App-Correlation_charts.ipynb",
   "output_path": "App-Correlation_charts.ipynb",
   "parameters": {},
   "start_time": "2022-05-26T03:03:01.975752",
   "version": "2.2.2"
  }
 },
 "nbformat": 4,
 "nbformat_minor": 5
}