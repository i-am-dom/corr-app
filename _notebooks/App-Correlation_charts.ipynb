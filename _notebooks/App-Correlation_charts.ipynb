{
 "cells": [
  {
   "cell_type": "markdown",
   "id": "touched-facility",
   "metadata": {
    "papermill": {
     "duration": 0.015059,
     "end_time": "2022-04-30T02:55:20.073109",
     "exception": false,
     "start_time": "2022-04-30T02:55:20.058050",
     "status": "completed"
    },
    "tags": []
   },
   "source": [
    "# Koreliacijų matrica\n",
    "> Išplėstinė koreliacijų matrica. \n",
    "\n",
    "- toc: true \n",
    "- badges: true\n",
    "- comments: false\n",
    "- categories: [Dominykas Tautkus]\n",
    "- image: images/matrix.png"
   ]
  },
  {
   "cell_type": "code",
   "execution_count": null,
   "id": "premium-weekend",
   "metadata": {
    "papermill": {
     "duration": 0.010648,
     "end_time": "2022-04-30T02:55:20.094991",
     "exception": false,
     "start_time": "2022-04-30T02:55:20.084343",
     "status": "completed"
    },
    "tags": []
   },
   "outputs": [],
   "source": []
  },
  {
   "cell_type": "code",
   "execution_count": 1,
   "id": "vertical-rebate",
   "metadata": {
    "execution": {
     "iopub.execute_input": "2022-04-30T02:55:20.125488Z",
     "iopub.status.busy": "2022-04-30T02:55:20.124974Z",
     "iopub.status.idle": "2022-04-30T02:55:20.135140Z",
     "shell.execute_reply": "2022-04-30T02:55:20.135611Z"
    },
    "papermill": {
     "duration": 0.030235,
     "end_time": "2022-04-30T02:55:20.135744",
     "exception": false,
     "start_time": "2022-04-30T02:55:20.105509",
     "status": "completed"
    },
    "tags": []
   },
   "outputs": [],
   "source": [
    "#hide\n",
    "%load_ext autoreload\n",
    "%autoreload 2"
   ]
  },
  {
   "cell_type": "code",
   "execution_count": 2,
   "id": "overall-advancement",
   "metadata": {
    "execution": {
     "iopub.execute_input": "2022-04-30T02:55:20.162738Z",
     "iopub.status.busy": "2022-04-30T02:55:20.162235Z",
     "iopub.status.idle": "2022-04-30T02:55:21.447981Z",
     "shell.execute_reply": "2022-04-30T02:55:21.448456Z"
    },
    "papermill": {
     "duration": 1.302569,
     "end_time": "2022-04-30T02:55:21.448756",
     "exception": false,
     "start_time": "2022-04-30T02:55:20.146187",
     "status": "completed"
    },
    "tags": []
   },
   "outputs": [],
   "source": [
    "#hide\n",
    "from scripts.read_data import read_api\n",
    "from IPython.display import HTML\n",
    "import plotly.graph_objects as go\n"
   ]
  },
  {
   "cell_type": "code",
   "execution_count": 3,
   "id": "light-crazy",
   "metadata": {
    "execution": {
     "iopub.execute_input": "2022-04-30T02:55:21.474864Z",
     "iopub.status.busy": "2022-04-30T02:55:21.474354Z",
     "iopub.status.idle": "2022-04-30T02:55:21.495225Z",
     "shell.execute_reply": "2022-04-30T02:55:21.495605Z"
    },
    "papermill": {
     "duration": 0.035062,
     "end_time": "2022-04-30T02:55:21.495721",
     "exception": false,
     "start_time": "2022-04-30T02:55:21.460659",
     "status": "completed"
    },
    "tags": []
   },
   "outputs": [],
   "source": [
    "#hide\n",
    "### ICO koreliacija"
   ]
  },
  {
   "cell_type": "code",
   "execution_count": 4,
   "id": "likely-bahrain",
   "metadata": {
    "execution": {
     "iopub.execute_input": "2022-04-30T02:55:21.522915Z",
     "iopub.status.busy": "2022-04-30T02:55:21.522321Z",
     "iopub.status.idle": "2022-04-30T02:55:22.330740Z",
     "shell.execute_reply": "2022-04-30T02:55:22.330215Z"
    },
    "papermill": {
     "duration": 0.824684,
     "end_time": "2022-04-30T02:55:22.330878",
     "exception": false,
     "start_time": "2022-04-30T02:55:21.506194",
     "status": "completed"
    },
    "tags": []
   },
   "outputs": [],
   "source": [
    "#hide\n",
    "import matplotlib.pyplot as plt\n",
    "import numpy as np\n",
    "import pandas as pd\n",
    "import seaborn as sns\n",
    "import matplotlib.pyplot as plt \n",
    "import matplotlib.dates as mdates\n",
    "import matplotlib.pyplot as plt"
   ]
  },
  {
   "cell_type": "code",
   "execution_count": 5,
   "id": "superior-blanket",
   "metadata": {
    "execution": {
     "iopub.execute_input": "2022-04-30T02:55:22.363401Z",
     "iopub.status.busy": "2022-04-30T02:55:22.361293Z",
     "iopub.status.idle": "2022-04-30T02:55:31.453320Z",
     "shell.execute_reply": "2022-04-30T02:55:31.452843Z"
    },
    "papermill": {
     "duration": 9.110522,
     "end_time": "2022-04-30T02:55:31.453440",
     "exception": false,
     "start_time": "2022-04-30T02:55:22.342918",
     "status": "completed"
    },
    "tags": []
   },
   "outputs": [
    {
     "name": "stderr",
     "output_type": "stream",
     "text": [
      "/home/runner/work/corr-app/corr-app/_notebooks/scripts/read_data.py:187: SettingWithCopyWarning:\n",
      "\n",
      "\n",
      "A value is trying to be set on a copy of a slice from a DataFrame.\n",
      "Try using .loc[row_indexer,col_indexer] = value instead\n",
      "\n",
      "See the caveats in the documentation: https://pandas.pydata.org/pandas-docs/stable/user_guide/indexing.html#returning-a-view-versus-a-copy\n",
      "\n"
     ]
    },
    {
     "name": "stderr",
     "output_type": "stream",
     "text": [
      "/home/runner/work/corr-app/corr-app/_notebooks/scripts/read_data.py:215: SettingWithCopyWarning:\n",
      "\n",
      "\n",
      "A value is trying to be set on a copy of a slice from a DataFrame.\n",
      "Try using .loc[row_indexer,col_indexer] = value instead\n",
      "\n",
      "See the caveats in the documentation: https://pandas.pydata.org/pandas-docs/stable/user_guide/indexing.html#returning-a-view-versus-a-copy\n",
      "\n"
     ]
    }
   ],
   "source": [
    "#hide\n",
    "df_all = read_api()\n",
    "#df_all = df_all.drop(['SP500', 'XAU', 'ETH', 'BTC'], axis=1)\n",
    "\n"
   ]
  },
  {
   "cell_type": "code",
   "execution_count": 6,
   "id": "mature-alert",
   "metadata": {
    "execution": {
     "iopub.execute_input": "2022-04-30T02:55:31.483931Z",
     "iopub.status.busy": "2022-04-30T02:55:31.482226Z",
     "iopub.status.idle": "2022-04-30T02:55:31.509261Z",
     "shell.execute_reply": "2022-04-30T02:55:31.509731Z"
    },
    "papermill": {
     "duration": 0.044792,
     "end_time": "2022-04-30T02:55:31.509870",
     "exception": false,
     "start_time": "2022-04-30T02:55:31.465078",
     "status": "completed"
    },
    "tags": []
   },
   "outputs": [],
   "source": [
    "#hide_input\n",
    "sum_corr = df_all.corr().sum().sort_values(ascending=True).index.values\n",
    "#df_all[sum_corr].corr()"
   ]
  },
  {
   "cell_type": "markdown",
   "id": "complex-syndicate",
   "metadata": {
    "papermill": {
     "duration": 0.011068,
     "end_time": "2022-04-30T02:55:31.532028",
     "exception": false,
     "start_time": "2022-04-30T02:55:31.520960",
     "status": "completed"
    },
    "tags": []
   },
   "source": [
    "## Išplėstinė koreliacijų matrica. "
   ]
  },
  {
   "cell_type": "code",
   "execution_count": 7,
   "id": "atomic-omaha",
   "metadata": {
    "execution": {
     "iopub.execute_input": "2022-04-30T02:55:31.570778Z",
     "iopub.status.busy": "2022-04-30T02:55:31.561442Z",
     "iopub.status.idle": "2022-04-30T02:55:32.764229Z",
     "shell.execute_reply": "2022-04-30T02:55:32.763770Z"
    },
    "papermill": {
     "duration": 1.22125,
     "end_time": "2022-04-30T02:55:32.764344",
     "exception": false,
     "start_time": "2022-04-30T02:55:31.543094",
     "status": "completed"
    },
    "tags": []
   },
   "outputs": [
    {
     "data": {
      "image/png": "[encoded data removed]",
      "text/plain": [
       "<Figure size 1080x792 with 2 Axes>"
      ]
     },
     "metadata": {
      "needs_background": "light"
     },
     "output_type": "display_data"
    }
   ],
   "source": [
    "#hide_input\n",
    "plt.figure(figsize=(15, 11))\n",
    "sns.heatmap(df_all[sum_corr].corr(), annot=True, cmap=\"cubehelix\") \n",
    "sns.set(font_scale=1.25)\n",
    "plt.savefig('corr_matrix.png', format='eps')"
   ]
  },
  {
   "cell_type": "code",
   "execution_count": 8,
   "id": "arbitrary-sullivan",
   "metadata": {
    "execution": {
     "iopub.execute_input": "2022-04-30T02:55:32.806929Z",
     "iopub.status.busy": "2022-04-30T02:55:32.800265Z",
     "iopub.status.idle": "2022-04-30T02:55:32.822917Z",
     "shell.execute_reply": "2022-04-30T02:55:32.822491Z"
    },
    "papermill": {
     "duration": 0.044096,
     "end_time": "2022-04-30T02:55:32.823018",
     "exception": false,
     "start_time": "2022-04-30T02:55:32.778922",
     "status": "completed"
    },
    "tags": []
   },
   "outputs": [],
   "source": [
    "#hide\n",
    "#df_all_mrk = read_api()"
   ]
  },
  {
   "cell_type": "code",
   "execution_count": 9,
   "id": "delayed-adapter",
   "metadata": {
    "execution": {
     "iopub.execute_input": "2022-04-30T02:55:32.851971Z",
     "iopub.status.busy": "2022-04-30T02:55:32.851476Z",
     "iopub.status.idle": "2022-04-30T02:55:32.877008Z",
     "shell.execute_reply": "2022-04-30T02:55:32.876527Z"
    },
    "papermill": {
     "duration": 0.041036,
     "end_time": "2022-04-30T02:55:32.877121",
     "exception": false,
     "start_time": "2022-04-30T02:55:32.836085",
     "status": "completed"
    },
    "tags": []
   },
   "outputs": [],
   "source": [
    "#hide\n",
    "#Koreliacijų koeficientai"
   ]
  },
  {
   "cell_type": "code",
   "execution_count": 10,
   "id": "seeing-celebration",
   "metadata": {
    "execution": {
     "iopub.execute_input": "2022-04-30T02:55:32.910757Z",
     "iopub.status.busy": "2022-04-30T02:55:32.910241Z",
     "iopub.status.idle": "2022-04-30T02:55:32.934561Z",
     "shell.execute_reply": "2022-04-30T02:55:32.934102Z"
    },
    "papermill": {
     "duration": 0.042311,
     "end_time": "2022-04-30T02:55:32.934677",
     "exception": false,
     "start_time": "2022-04-30T02:55:32.892366",
     "status": "completed"
    },
    "tags": []
   },
   "outputs": [],
   "source": [
    "#hide_input\n",
    "#sum_corr = df_all_mrk.corr().sum().sort_values(ascending=True).index.values\n",
    "#df_all_mrk[sum_corr].corr()"
   ]
  },
  {
   "cell_type": "code",
   "execution_count": 11,
   "id": "other-painting",
   "metadata": {
    "execution": {
     "iopub.execute_input": "2022-04-30T02:55:32.978660Z",
     "iopub.status.busy": "2022-04-30T02:55:32.978171Z",
     "iopub.status.idle": "2022-04-30T02:55:33.002082Z",
     "shell.execute_reply": "2022-04-30T02:55:33.001590Z"
    },
    "papermill": {
     "duration": 0.051934,
     "end_time": "2022-04-30T02:55:33.002194",
     "exception": false,
     "start_time": "2022-04-30T02:55:32.950260",
     "status": "completed"
    },
    "tags": []
   },
   "outputs": [],
   "source": [
    "#hide\n",
    "#Koreliacijos matrica. "
   ]
  },
  {
   "cell_type": "code",
   "execution_count": 12,
   "id": "modular-magnitude",
   "metadata": {
    "execution": {
     "iopub.execute_input": "2022-04-30T02:55:33.031563Z",
     "iopub.status.busy": "2022-04-30T02:55:33.031069Z",
     "iopub.status.idle": "2022-04-30T02:55:33.056353Z",
     "shell.execute_reply": "2022-04-30T02:55:33.056785Z"
    },
    "papermill": {
     "duration": 0.041096,
     "end_time": "2022-04-30T02:55:33.056916",
     "exception": false,
     "start_time": "2022-04-30T02:55:33.015820",
     "status": "completed"
    },
    "tags": []
   },
   "outputs": [],
   "source": [
    "#hide_input\n",
    "#plt.figure(figsize=(15, 8))\n",
    "#sns.heatmap(df_all_mrk[sum_corr].corr(), annot=True, cmap=\"BrBG\");\n",
    "#plt.savefig('corr_matrix_all.eps', format='eps')"
   ]
  },
  {
   "cell_type": "code",
   "execution_count": null,
   "id": "original-senator",
   "metadata": {
    "papermill": {
     "duration": 0.012925,
     "end_time": "2022-04-30T02:55:33.082932",
     "exception": false,
     "start_time": "2022-04-30T02:55:33.070007",
     "status": "completed"
    },
    "tags": []
   },
   "outputs": [],
   "source": []
  },
  {
   "cell_type": "code",
   "execution_count": null,
   "id": "saving-secretariat",
   "metadata": {
    "papermill": {
     "duration": 0.01297,
     "end_time": "2022-04-30T02:55:33.109358",
     "exception": false,
     "start_time": "2022-04-30T02:55:33.096388",
     "status": "completed"
    },
    "tags": []
   },
   "outputs": [],
   "source": []
  }
 ],
 "metadata": {
  "kernelspec": {
   "display_name": "Python 3",
   "language": "python",
   "name": "python3"
  },
  "language_info": {
   "codemirror_mode": {
    "name": "ipython",
    "version": 3
   },
   "file_extension": ".py",
   "mimetype": "text/x-python",
   "name": "python",
   "nbconvert_exporter": "python",
   "pygments_lexer": "ipython3",
   "version": "3.6.15"
  },
  "papermill": {
   "default_parameters": {},
   "duration": 14.506919,
   "end_time": "2022-04-30T02:55:33.640796",
   "environment_variables": {},
   "exception": null,
   "input_path": "App-Correlation_charts.ipynb",
   "output_path": "App-Correlation_charts.ipynb",
   "parameters": {},
   "start_time": "2022-04-30T02:55:19.133877",
   "version": "2.2.2"
  }
 },
 "nbformat": 4,
 "nbformat_minor": 5
}