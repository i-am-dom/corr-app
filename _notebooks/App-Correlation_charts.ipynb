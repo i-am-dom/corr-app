{
 "cells": [
  {
   "cell_type": "markdown",
   "id": "touched-facility",
   "metadata": {
    "papermill": {
     "duration": 0.018925,
     "end_time": "2022-03-14T02:14:36.776108",
     "exception": false,
     "start_time": "2022-03-14T02:14:36.757183",
     "status": "completed"
    },
    "tags": []
   },
   "source": [
    "# Koreliacijų matrica\n",
    "> Išplėstinė koreliacijų matrica. \n",
    "\n",
    "- toc: true \n",
    "- badges: true\n",
    "- comments: false\n",
    "- categories: [Dominykas Tautkus]\n",
    "- image: images/matrix.png"
   ]
  },
  {
   "cell_type": "code",
   "execution_count": null,
   "id": "premium-weekend",
   "metadata": {
    "papermill": {
     "duration": 0.013961,
     "end_time": "2022-03-14T02:14:36.804390",
     "exception": false,
     "start_time": "2022-03-14T02:14:36.790429",
     "status": "completed"
    },
    "tags": []
   },
   "outputs": [],
   "source": []
  },
  {
   "cell_type": "code",
   "execution_count": 1,
   "id": "vertical-rebate",
   "metadata": {
    "execution": {
     "iopub.execute_input": "2022-03-14T02:14:36.844844Z",
     "iopub.status.busy": "2022-03-14T02:14:36.844145Z",
     "iopub.status.idle": "2022-03-14T02:14:36.856456Z",
     "shell.execute_reply": "2022-03-14T02:14:36.857008Z"
    },
    "papermill": {
     "duration": 0.038282,
     "end_time": "2022-03-14T02:14:36.857209",
     "exception": false,
     "start_time": "2022-03-14T02:14:36.818927",
     "status": "completed"
    },
    "tags": []
   },
   "outputs": [],
   "source": [
    "#hide\n",
    "%load_ext autoreload\n",
    "%autoreload 2"
   ]
  },
  {
   "cell_type": "code",
   "execution_count": 2,
   "id": "overall-advancement",
   "metadata": {
    "execution": {
     "iopub.execute_input": "2022-03-14T02:14:36.891147Z",
     "iopub.status.busy": "2022-03-14T02:14:36.889926Z",
     "iopub.status.idle": "2022-03-14T02:14:38.671402Z",
     "shell.execute_reply": "2022-03-14T02:14:38.670806Z"
    },
    "papermill": {
     "duration": 1.800876,
     "end_time": "2022-03-14T02:14:38.671555",
     "exception": false,
     "start_time": "2022-03-14T02:14:36.870679",
     "status": "completed"
    },
    "tags": []
   },
   "outputs": [],
   "source": [
    "#hide\n",
    "from scripts.read_data import read_api\n",
    "from IPython.display import HTML\n",
    "import plotly.graph_objects as go\n"
   ]
  },
  {
   "cell_type": "code",
   "execution_count": 3,
   "id": "light-crazy",
   "metadata": {
    "execution": {
     "iopub.execute_input": "2022-03-14T02:14:38.727856Z",
     "iopub.status.busy": "2022-03-14T02:14:38.711031Z",
     "iopub.status.idle": "2022-03-14T02:14:38.739277Z",
     "shell.execute_reply": "2022-03-14T02:14:38.738693Z"
    },
    "papermill": {
     "duration": 0.053781,
     "end_time": "2022-03-14T02:14:38.739421",
     "exception": false,
     "start_time": "2022-03-14T02:14:38.685640",
     "status": "completed"
    },
    "tags": []
   },
   "outputs": [],
   "source": [
    "#hide\n",
    "### ICO koreliacija"
   ]
  },
  {
   "cell_type": "code",
   "execution_count": 4,
   "id": "likely-bahrain",
   "metadata": {
    "execution": {
     "iopub.execute_input": "2022-03-14T02:14:38.774617Z",
     "iopub.status.busy": "2022-03-14T02:14:38.772273Z",
     "iopub.status.idle": "2022-03-14T02:14:39.848189Z",
     "shell.execute_reply": "2022-03-14T02:14:39.846674Z"
    },
    "papermill": {
     "duration": 1.09523,
     "end_time": "2022-03-14T02:14:39.848432",
     "exception": false,
     "start_time": "2022-03-14T02:14:38.753202",
     "status": "completed"
    },
    "tags": []
   },
   "outputs": [],
   "source": [
    "#hide\n",
    "import matplotlib.pyplot as plt\n",
    "import numpy as np\n",
    "import pandas as pd\n",
    "import seaborn as sns\n",
    "import matplotlib.pyplot as plt \n",
    "import matplotlib.dates as mdates\n",
    "import matplotlib.pyplot as plt"
   ]
  },
  {
   "cell_type": "code",
   "execution_count": 5,
   "id": "superior-blanket",
   "metadata": {
    "execution": {
     "iopub.execute_input": "2022-03-14T02:14:39.889198Z",
     "iopub.status.busy": "2022-03-14T02:14:39.886905Z",
     "iopub.status.idle": "2022-03-14T02:14:55.344980Z",
     "shell.execute_reply": "2022-03-14T02:14:55.344359Z"
    },
    "papermill": {
     "duration": 15.481769,
     "end_time": "2022-03-14T02:14:55.345132",
     "exception": false,
     "start_time": "2022-03-14T02:14:39.863363",
     "status": "completed"
    },
    "tags": []
   },
   "outputs": [
    {
     "name": "stderr",
     "output_type": "stream",
     "text": [
      "/home/runner/work/corr-app/corr-app/_notebooks/scripts/read_data.py:187: SettingWithCopyWarning:\n",
      "\n",
      "\n",
      "A value is trying to be set on a copy of a slice from a DataFrame.\n",
      "Try using .loc[row_indexer,col_indexer] = value instead\n",
      "\n",
      "See the caveats in the documentation: https://pandas.pydata.org/pandas-docs/stable/user_guide/indexing.html#returning-a-view-versus-a-copy\n",
      "\n"
     ]
    },
    {
     "name": "stderr",
     "output_type": "stream",
     "text": [
      "/home/runner/work/corr-app/corr-app/_notebooks/scripts/read_data.py:215: SettingWithCopyWarning:\n",
      "\n",
      "\n",
      "A value is trying to be set on a copy of a slice from a DataFrame.\n",
      "Try using .loc[row_indexer,col_indexer] = value instead\n",
      "\n",
      "See the caveats in the documentation: https://pandas.pydata.org/pandas-docs/stable/user_guide/indexing.html#returning-a-view-versus-a-copy\n",
      "\n"
     ]
    }
   ],
   "source": [
    "#hide\n",
    "df_all = read_api()\n",
    "#df_all = df_all.drop(['SP500', 'XAU', 'ETH', 'BTC'], axis=1)\n",
    "\n"
   ]
  },
  {
   "cell_type": "code",
   "execution_count": 6,
   "id": "mature-alert",
   "metadata": {
    "execution": {
     "iopub.execute_input": "2022-03-14T02:14:55.383462Z",
     "iopub.status.busy": "2022-03-14T02:14:55.382429Z",
     "iopub.status.idle": "2022-03-14T02:14:55.416434Z",
     "shell.execute_reply": "2022-03-14T02:14:55.417039Z"
    },
    "papermill": {
     "duration": 0.057155,
     "end_time": "2022-03-14T02:14:55.417252",
     "exception": false,
     "start_time": "2022-03-14T02:14:55.360097",
     "status": "completed"
    },
    "tags": []
   },
   "outputs": [],
   "source": [
    "#hide_input\n",
    "sum_corr = df_all.corr().sum().sort_values(ascending=True).index.values\n",
    "#df_all[sum_corr].corr()"
   ]
  },
  {
   "cell_type": "markdown",
   "id": "complex-syndicate",
   "metadata": {
    "papermill": {
     "duration": 0.013947,
     "end_time": "2022-03-14T02:14:55.446840",
     "exception": false,
     "start_time": "2022-03-14T02:14:55.432893",
     "status": "completed"
    },
    "tags": []
   },
   "source": [
    "## Išplėstinė koreliacijų matrica. "
   ]
  },
  {
   "cell_type": "code",
   "execution_count": 7,
   "id": "atomic-omaha",
   "metadata": {
    "execution": {
     "iopub.execute_input": "2022-03-14T02:14:55.487980Z",
     "iopub.status.busy": "2022-03-14T02:14:55.487286Z",
     "iopub.status.idle": "2022-03-14T02:14:57.167591Z",
     "shell.execute_reply": "2022-03-14T02:14:57.168142Z"
    },
    "papermill": {
     "duration": 1.706778,
     "end_time": "2022-03-14T02:14:57.168312",
     "exception": false,
     "start_time": "2022-03-14T02:14:55.461534",
     "status": "completed"
    },
    "tags": []
   },
   "outputs": [
    {
     "data": {
      "image/png": "[encoded data removed]",
      "text/plain": [
       "<Figure size 1080x792 with 2 Axes>"
      ]
     },
     "metadata": {
      "needs_background": "light"
     },
     "output_type": "display_data"
    }
   ],
   "source": [
    "#hide_input\n",
    "plt.figure(figsize=(15, 11))\n",
    "sns.heatmap(df_all[sum_corr].corr(), annot=True, cmap=\"cubehelix\") \n",
    "sns.set(font_scale=1.25)\n",
    "plt.savefig('corr_matrix.png', format='eps')"
   ]
  },
  {
   "cell_type": "code",
   "execution_count": 8,
   "id": "arbitrary-sullivan",
   "metadata": {
    "execution": {
     "iopub.execute_input": "2022-03-14T02:14:57.206905Z",
     "iopub.status.busy": "2022-03-14T02:14:57.205779Z",
     "iopub.status.idle": "2022-03-14T02:14:57.235464Z",
     "shell.execute_reply": "2022-03-14T02:14:57.234780Z"
    },
    "papermill": {
     "duration": 0.0501,
     "end_time": "2022-03-14T02:14:57.235604",
     "exception": false,
     "start_time": "2022-03-14T02:14:57.185504",
     "status": "completed"
    },
    "tags": []
   },
   "outputs": [],
   "source": [
    "#hide\n",
    "#df_all_mrk = read_api()"
   ]
  },
  {
   "cell_type": "code",
   "execution_count": 9,
   "id": "delayed-adapter",
   "metadata": {
    "execution": {
     "iopub.execute_input": "2022-03-14T02:14:57.286107Z",
     "iopub.status.busy": "2022-03-14T02:14:57.285232Z",
     "iopub.status.idle": "2022-03-14T02:14:57.315330Z",
     "shell.execute_reply": "2022-03-14T02:14:57.314746Z"
    },
    "papermill": {
     "duration": 0.055865,
     "end_time": "2022-03-14T02:14:57.315471",
     "exception": false,
     "start_time": "2022-03-14T02:14:57.259606",
     "status": "completed"
    },
    "tags": []
   },
   "outputs": [],
   "source": [
    "#hide\n",
    "#Koreliacijų koeficientai"
   ]
  },
  {
   "cell_type": "code",
   "execution_count": 10,
   "id": "seeing-celebration",
   "metadata": {
    "execution": {
     "iopub.execute_input": "2022-03-14T02:14:57.359756Z",
     "iopub.status.busy": "2022-03-14T02:14:57.359075Z",
     "iopub.status.idle": "2022-03-14T02:14:57.387277Z",
     "shell.execute_reply": "2022-03-14T02:14:57.386435Z"
    },
    "papermill": {
     "duration": 0.054273,
     "end_time": "2022-03-14T02:14:57.387423",
     "exception": false,
     "start_time": "2022-03-14T02:14:57.333150",
     "status": "completed"
    },
    "tags": []
   },
   "outputs": [],
   "source": [
    "#hide_input\n",
    "#sum_corr = df_all_mrk.corr().sum().sort_values(ascending=True).index.values\n",
    "#df_all_mrk[sum_corr].corr()"
   ]
  },
  {
   "cell_type": "code",
   "execution_count": 11,
   "id": "other-painting",
   "metadata": {
    "execution": {
     "iopub.execute_input": "2022-03-14T02:14:57.438838Z",
     "iopub.status.busy": "2022-03-14T02:14:57.424236Z",
     "iopub.status.idle": "2022-03-14T02:14:57.458068Z",
     "shell.execute_reply": "2022-03-14T02:14:57.457476Z"
    },
    "papermill": {
     "duration": 0.054692,
     "end_time": "2022-03-14T02:14:57.458224",
     "exception": false,
     "start_time": "2022-03-14T02:14:57.403532",
     "status": "completed"
    },
    "tags": []
   },
   "outputs": [],
   "source": [
    "#hide\n",
    "#Koreliacijos matrica. "
   ]
  },
  {
   "cell_type": "code",
   "execution_count": 12,
   "id": "modular-magnitude",
   "metadata": {
    "execution": {
     "iopub.execute_input": "2022-03-14T02:14:57.496669Z",
     "iopub.status.busy": "2022-03-14T02:14:57.496002Z",
     "iopub.status.idle": "2022-03-14T02:14:57.525895Z",
     "shell.execute_reply": "2022-03-14T02:14:57.525309Z"
    },
    "papermill": {
     "duration": 0.049713,
     "end_time": "2022-03-14T02:14:57.526032",
     "exception": false,
     "start_time": "2022-03-14T02:14:57.476319",
     "status": "completed"
    },
    "tags": []
   },
   "outputs": [],
   "source": [
    "#hide_input\n",
    "#plt.figure(figsize=(15, 8))\n",
    "#sns.heatmap(df_all_mrk[sum_corr].corr(), annot=True, cmap=\"BrBG\");\n",
    "#plt.savefig('corr_matrix_all.eps', format='eps')"
   ]
  },
  {
   "cell_type": "code",
   "execution_count": null,
   "id": "original-senator",
   "metadata": {
    "papermill": {
     "duration": 0.018042,
     "end_time": "2022-03-14T02:14:57.559947",
     "exception": false,
     "start_time": "2022-03-14T02:14:57.541905",
     "status": "completed"
    },
    "tags": []
   },
   "outputs": [],
   "source": []
  },
  {
   "cell_type": "code",
   "execution_count": null,
   "id": "saving-secretariat",
   "metadata": {
    "papermill": {
     "duration": 0.016136,
     "end_time": "2022-03-14T02:14:57.592531",
     "exception": false,
     "start_time": "2022-03-14T02:14:57.576395",
     "status": "completed"
    },
    "tags": []
   },
   "outputs": [],
   "source": []
  }
 ],
 "metadata": {
  "kernelspec": {
   "display_name": "Python 3",
   "language": "python",
   "name": "python3"
  },
  "language_info": {
   "codemirror_mode": {
    "name": "ipython",
    "version": 3
   },
   "file_extension": ".py",
   "mimetype": "text/x-python",
   "name": "python",
   "nbconvert_exporter": "python",
   "pygments_lexer": "ipython3",
   "version": "3.6.15"
  },
  "papermill": {
   "default_parameters": {},
   "duration": 22.711285,
   "end_time": "2022-03-14T02:14:58.128900",
   "environment_variables": {},
   "exception": null,
   "input_path": "App-Correlation_charts.ipynb",
   "output_path": "App-Correlation_charts.ipynb",
   "parameters": {},
   "start_time": "2022-03-14T02:14:35.417615",
   "version": "2.2.2"
  }
 },
 "nbformat": 4,
 "nbformat_minor": 5
}