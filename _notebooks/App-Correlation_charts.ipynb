{
 "cells": [
  {
   "cell_type": "markdown",
   "id": "touched-facility",
   "metadata": {
    "papermill": {
     "duration": 0.014778,
     "end_time": "2021-09-09T01:59:09.944638",
     "exception": false,
     "start_time": "2021-09-09T01:59:09.929860",
     "status": "completed"
    },
    "tags": []
   },
   "source": [
    "# Koreliacijų matrica\n",
    "> Išplėstinė koreliacijų matrica. \n",
    "\n",
    "- toc: true \n",
    "- badges: true\n",
    "- comments: false\n",
    "- categories: [Dominykas Tautkus]\n",
    "- image: images/matrix.png"
   ]
  },
  {
   "cell_type": "code",
   "execution_count": null,
   "id": "premium-weekend",
   "metadata": {
    "papermill": {
     "duration": 0.01046,
     "end_time": "2021-09-09T01:59:09.966271",
     "exception": false,
     "start_time": "2021-09-09T01:59:09.955811",
     "status": "completed"
    },
    "tags": []
   },
   "outputs": [],
   "source": []
  },
  {
   "cell_type": "code",
   "execution_count": 1,
   "id": "vertical-rebate",
   "metadata": {
    "execution": {
     "iopub.execute_input": "2021-09-09T01:59:09.998504Z",
     "iopub.status.busy": "2021-09-09T01:59:09.997999Z",
     "iopub.status.idle": "2021-09-09T01:59:10.008779Z",
     "shell.execute_reply": "2021-09-09T01:59:10.008325Z"
    },
    "papermill": {
     "duration": 0.032246,
     "end_time": "2021-09-09T01:59:10.008903",
     "exception": false,
     "start_time": "2021-09-09T01:59:09.976657",
     "status": "completed"
    },
    "tags": []
   },
   "outputs": [],
   "source": [
    "#hide\n",
    "%load_ext autoreload\n",
    "%autoreload 2"
   ]
  },
  {
   "cell_type": "code",
   "execution_count": 2,
   "id": "overall-advancement",
   "metadata": {
    "execution": {
     "iopub.execute_input": "2021-09-09T01:59:10.044175Z",
     "iopub.status.busy": "2021-09-09T01:59:10.040054Z",
     "iopub.status.idle": "2021-09-09T01:59:11.245483Z",
     "shell.execute_reply": "2021-09-09T01:59:11.244955Z"
    },
    "papermill": {
     "duration": 1.225483,
     "end_time": "2021-09-09T01:59:11.245620",
     "exception": false,
     "start_time": "2021-09-09T01:59:10.020137",
     "status": "completed"
    },
    "tags": []
   },
   "outputs": [],
   "source": [
    "#hide\n",
    "from scripts.read_data import read_api\n",
    "from IPython.display import HTML\n",
    "import plotly.graph_objects as go\n"
   ]
  },
  {
   "cell_type": "code",
   "execution_count": 3,
   "id": "light-crazy",
   "metadata": {
    "execution": {
     "iopub.execute_input": "2021-09-09T01:59:11.273598Z",
     "iopub.status.busy": "2021-09-09T01:59:11.273002Z",
     "iopub.status.idle": "2021-09-09T01:59:11.294247Z",
     "shell.execute_reply": "2021-09-09T01:59:11.294693Z"
    },
    "papermill": {
     "duration": 0.038262,
     "end_time": "2021-09-09T01:59:11.294841",
     "exception": false,
     "start_time": "2021-09-09T01:59:11.256579",
     "status": "completed"
    },
    "tags": []
   },
   "outputs": [],
   "source": [
    "#hide\n",
    "### ICO koreliacija"
   ]
  },
  {
   "cell_type": "code",
   "execution_count": 4,
   "id": "likely-bahrain",
   "metadata": {
    "execution": {
     "iopub.execute_input": "2021-09-09T01:59:11.319559Z",
     "iopub.status.busy": "2021-09-09T01:59:11.319031Z",
     "iopub.status.idle": "2021-09-09T01:59:12.123851Z",
     "shell.execute_reply": "2021-09-09T01:59:12.123290Z"
    },
    "papermill": {
     "duration": 0.818351,
     "end_time": "2021-09-09T01:59:12.123993",
     "exception": false,
     "start_time": "2021-09-09T01:59:11.305642",
     "status": "completed"
    },
    "tags": []
   },
   "outputs": [],
   "source": [
    "#hide\n",
    "import matplotlib.pyplot as plt\n",
    "import numpy as np\n",
    "import pandas as pd\n",
    "import seaborn as sns\n",
    "import matplotlib.pyplot as plt \n",
    "import matplotlib.dates as mdates\n",
    "import matplotlib.pyplot as plt"
   ]
  },
  {
   "cell_type": "code",
   "execution_count": 5,
   "id": "superior-blanket",
   "metadata": {
    "execution": {
     "iopub.execute_input": "2021-09-09T01:59:12.150763Z",
     "iopub.status.busy": "2021-09-09T01:59:12.150251Z",
     "iopub.status.idle": "2021-09-09T01:59:25.308309Z",
     "shell.execute_reply": "2021-09-09T01:59:25.307810Z"
    },
    "papermill": {
     "duration": 13.172572,
     "end_time": "2021-09-09T01:59:25.308433",
     "exception": false,
     "start_time": "2021-09-09T01:59:12.135861",
     "status": "completed"
    },
    "tags": []
   },
   "outputs": [
    {
     "name": "stderr",
     "output_type": "stream",
     "text": [
      "/home/runner/work/corr-app/corr-app/_notebooks/scripts/read_data.py:187: SettingWithCopyWarning:\n",
      "\n",
      "\n",
      "A value is trying to be set on a copy of a slice from a DataFrame.\n",
      "Try using .loc[row_indexer,col_indexer] = value instead\n",
      "\n",
      "See the caveats in the documentation: https://pandas.pydata.org/pandas-docs/stable/user_guide/indexing.html#returning-a-view-versus-a-copy\n",
      "\n"
     ]
    },
    {
     "name": "stderr",
     "output_type": "stream",
     "text": [
      "/home/runner/work/corr-app/corr-app/_notebooks/scripts/read_data.py:215: SettingWithCopyWarning:\n",
      "\n",
      "\n",
      "A value is trying to be set on a copy of a slice from a DataFrame.\n",
      "Try using .loc[row_indexer,col_indexer] = value instead\n",
      "\n",
      "See the caveats in the documentation: https://pandas.pydata.org/pandas-docs/stable/user_guide/indexing.html#returning-a-view-versus-a-copy\n",
      "\n"
     ]
    }
   ],
   "source": [
    "#hide\n",
    "df_all = read_api()\n",
    "#df_all = df_all.drop(['SP500', 'XAU', 'ETH', 'BTC'], axis=1)\n",
    "\n"
   ]
  },
  {
   "cell_type": "code",
   "execution_count": 6,
   "id": "mature-alert",
   "metadata": {
    "execution": {
     "iopub.execute_input": "2021-09-09T01:59:25.335983Z",
     "iopub.status.busy": "2021-09-09T01:59:25.335450Z",
     "iopub.status.idle": "2021-09-09T01:59:25.364280Z",
     "shell.execute_reply": "2021-09-09T01:59:25.363654Z"
    },
    "papermill": {
     "duration": 0.044398,
     "end_time": "2021-09-09T01:59:25.364404",
     "exception": false,
     "start_time": "2021-09-09T01:59:25.320006",
     "status": "completed"
    },
    "tags": []
   },
   "outputs": [],
   "source": [
    "#hide_input\n",
    "sum_corr = df_all.corr().sum().sort_values(ascending=True).index.values\n",
    "#df_all[sum_corr].corr()"
   ]
  },
  {
   "cell_type": "markdown",
   "id": "complex-syndicate",
   "metadata": {
    "papermill": {
     "duration": 0.010967,
     "end_time": "2021-09-09T01:59:25.387155",
     "exception": false,
     "start_time": "2021-09-09T01:59:25.376188",
     "status": "completed"
    },
    "tags": []
   },
   "source": [
    "## Išplėstinė koreliacijų matrica. "
   ]
  },
  {
   "cell_type": "code",
   "execution_count": 7,
   "id": "atomic-omaha",
   "metadata": {
    "execution": {
     "iopub.execute_input": "2021-09-09T01:59:25.420420Z",
     "iopub.status.busy": "2021-09-09T01:59:25.419898Z",
     "iopub.status.idle": "2021-09-09T01:59:26.586652Z",
     "shell.execute_reply": "2021-09-09T01:59:26.585791Z"
    },
    "papermill": {
     "duration": 1.188628,
     "end_time": "2021-09-09T01:59:26.586796",
     "exception": false,
     "start_time": "2021-09-09T01:59:25.398168",
     "status": "completed"
    },
    "tags": []
   },
   "outputs": [
    {
     "data": {
      "image/png": "[encoded data removed]",
      "text/plain": [
       "<Figure size 1080x792 with 2 Axes>"
      ]
     },
     "metadata": {
      "needs_background": "light"
     },
     "output_type": "display_data"
    }
   ],
   "source": [
    "#hide_input\n",
    "plt.figure(figsize=(15, 11))\n",
    "sns.heatmap(df_all[sum_corr].corr(), annot=True, cmap=\"cubehelix\") \n",
    "sns.set(font_scale=1.25)\n",
    "plt.savefig('corr_matrix.png', format='eps')"
   ]
  },
  {
   "cell_type": "code",
   "execution_count": 8,
   "id": "arbitrary-sullivan",
   "metadata": {
    "execution": {
     "iopub.execute_input": "2021-09-09T01:59:26.617684Z",
     "iopub.status.busy": "2021-09-09T01:59:26.617125Z",
     "iopub.status.idle": "2021-09-09T01:59:26.641961Z",
     "shell.execute_reply": "2021-09-09T01:59:26.641465Z"
    },
    "papermill": {
     "duration": 0.041655,
     "end_time": "2021-09-09T01:59:26.642083",
     "exception": false,
     "start_time": "2021-09-09T01:59:26.600428",
     "status": "completed"
    },
    "tags": []
   },
   "outputs": [],
   "source": [
    "#hide\n",
    "#df_all_mrk = read_api()"
   ]
  },
  {
   "cell_type": "code",
   "execution_count": 9,
   "id": "delayed-adapter",
   "metadata": {
    "execution": {
     "iopub.execute_input": "2021-09-09T01:59:26.672300Z",
     "iopub.status.busy": "2021-09-09T01:59:26.671804Z",
     "iopub.status.idle": "2021-09-09T01:59:26.698157Z",
     "shell.execute_reply": "2021-09-09T01:59:26.697651Z"
    },
    "papermill": {
     "duration": 0.042307,
     "end_time": "2021-09-09T01:59:26.698277",
     "exception": false,
     "start_time": "2021-09-09T01:59:26.655970",
     "status": "completed"
    },
    "tags": []
   },
   "outputs": [],
   "source": [
    "#hide\n",
    "#Koreliacijų koeficientai"
   ]
  },
  {
   "cell_type": "code",
   "execution_count": 10,
   "id": "seeing-celebration",
   "metadata": {
    "execution": {
     "iopub.execute_input": "2021-09-09T01:59:26.727162Z",
     "iopub.status.busy": "2021-09-09T01:59:26.726664Z",
     "iopub.status.idle": "2021-09-09T01:59:26.750675Z",
     "shell.execute_reply": "2021-09-09T01:59:26.751076Z"
    },
    "papermill": {
     "duration": 0.039657,
     "end_time": "2021-09-09T01:59:26.751203",
     "exception": false,
     "start_time": "2021-09-09T01:59:26.711546",
     "status": "completed"
    },
    "tags": []
   },
   "outputs": [],
   "source": [
    "#hide_input\n",
    "#sum_corr = df_all_mrk.corr().sum().sort_values(ascending=True).index.values\n",
    "#df_all_mrk[sum_corr].corr()"
   ]
  },
  {
   "cell_type": "code",
   "execution_count": 11,
   "id": "other-painting",
   "metadata": {
    "execution": {
     "iopub.execute_input": "2021-09-09T01:59:26.782362Z",
     "iopub.status.busy": "2021-09-09T01:59:26.781859Z",
     "iopub.status.idle": "2021-09-09T01:59:26.805115Z",
     "shell.execute_reply": "2021-09-09T01:59:26.804650Z"
    },
    "papermill": {
     "duration": 0.040556,
     "end_time": "2021-09-09T01:59:26.805235",
     "exception": false,
     "start_time": "2021-09-09T01:59:26.764679",
     "status": "completed"
    },
    "tags": []
   },
   "outputs": [],
   "source": [
    "#hide\n",
    "#Koreliacijos matrica. "
   ]
  },
  {
   "cell_type": "code",
   "execution_count": 12,
   "id": "modular-magnitude",
   "metadata": {
    "execution": {
     "iopub.execute_input": "2021-09-09T01:59:26.848615Z",
     "iopub.status.busy": "2021-09-09T01:59:26.843480Z",
     "iopub.status.idle": "2021-09-09T01:59:26.865006Z",
     "shell.execute_reply": "2021-09-09T01:59:26.864514Z"
    },
    "papermill": {
     "duration": 0.046015,
     "end_time": "2021-09-09T01:59:26.865138",
     "exception": false,
     "start_time": "2021-09-09T01:59:26.819123",
     "status": "completed"
    },
    "tags": []
   },
   "outputs": [],
   "source": [
    "#hide_input\n",
    "#plt.figure(figsize=(15, 8))\n",
    "#sns.heatmap(df_all_mrk[sum_corr].corr(), annot=True, cmap=\"BrBG\");\n",
    "#plt.savefig('corr_matrix_all.eps', format='eps')"
   ]
  },
  {
   "cell_type": "code",
   "execution_count": null,
   "id": "original-senator",
   "metadata": {
    "papermill": {
     "duration": 0.012954,
     "end_time": "2021-09-09T01:59:26.892292",
     "exception": false,
     "start_time": "2021-09-09T01:59:26.879338",
     "status": "completed"
    },
    "tags": []
   },
   "outputs": [],
   "source": []
  },
  {
   "cell_type": "code",
   "execution_count": null,
   "id": "saving-secretariat",
   "metadata": {
    "papermill": {
     "duration": 0.012843,
     "end_time": "2021-09-09T01:59:26.918039",
     "exception": false,
     "start_time": "2021-09-09T01:59:26.905196",
     "status": "completed"
    },
    "tags": []
   },
   "outputs": [],
   "source": []
  }
 ],
 "metadata": {
  "kernelspec": {
   "display_name": "Python 3",
   "language": "python",
   "name": "python3"
  },
  "language_info": {
   "codemirror_mode": {
    "name": "ipython",
    "version": 3
   },
   "file_extension": ".py",
   "mimetype": "text/x-python",
   "name": "python",
   "nbconvert_exporter": "python",
   "pygments_lexer": "ipython3",
   "version": "3.6.14"
  },
  "papermill": {
   "default_parameters": {},
   "duration": 18.538843,
   "end_time": "2021-09-09T01:59:27.439063",
   "environment_variables": {},
   "exception": null,
   "input_path": "App-Correlation_charts.ipynb",
   "output_path": "App-Correlation_charts.ipynb",
   "parameters": {},
   "start_time": "2021-09-09T01:59:08.900220",
   "version": "2.2.2"
  }
 },
 "nbformat": 4,
 "nbformat_minor": 5
}