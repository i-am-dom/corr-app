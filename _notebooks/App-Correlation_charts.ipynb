{
 "cells": [
  {
   "cell_type": "markdown",
   "id": "touched-facility",
   "metadata": {
    "papermill": {
     "duration": 0.015702,
     "end_time": "2022-03-08T02:10:25.268800",
     "exception": false,
     "start_time": "2022-03-08T02:10:25.253098",
     "status": "completed"
    },
    "tags": []
   },
   "source": [
    "# Koreliacijų matrica\n",
    "> Išplėstinė koreliacijų matrica. \n",
    "\n",
    "- toc: true \n",
    "- badges: true\n",
    "- comments: false\n",
    "- categories: [Dominykas Tautkus]\n",
    "- image: images/matrix.png"
   ]
  },
  {
   "cell_type": "code",
   "execution_count": null,
   "id": "premium-weekend",
   "metadata": {
    "papermill": {
     "duration": 0.010765,
     "end_time": "2022-03-08T02:10:25.290931",
     "exception": false,
     "start_time": "2022-03-08T02:10:25.280166",
     "status": "completed"
    },
    "tags": []
   },
   "outputs": [],
   "source": []
  },
  {
   "cell_type": "code",
   "execution_count": 1,
   "id": "vertical-rebate",
   "metadata": {
    "execution": {
     "iopub.execute_input": "2022-03-08T02:10:25.322861Z",
     "iopub.status.busy": "2022-03-08T02:10:25.322329Z",
     "iopub.status.idle": "2022-03-08T02:10:25.333188Z",
     "shell.execute_reply": "2022-03-08T02:10:25.332732Z"
    },
    "papermill": {
     "duration": 0.031757,
     "end_time": "2022-03-08T02:10:25.333304",
     "exception": false,
     "start_time": "2022-03-08T02:10:25.301547",
     "status": "completed"
    },
    "tags": []
   },
   "outputs": [],
   "source": [
    "#hide\n",
    "%load_ext autoreload\n",
    "%autoreload 2"
   ]
  },
  {
   "cell_type": "code",
   "execution_count": 2,
   "id": "overall-advancement",
   "metadata": {
    "execution": {
     "iopub.execute_input": "2022-03-08T02:10:25.357618Z",
     "iopub.status.busy": "2022-03-08T02:10:25.357112Z",
     "iopub.status.idle": "2022-03-08T02:10:26.539528Z",
     "shell.execute_reply": "2022-03-08T02:10:26.539009Z"
    },
    "papermill": {
     "duration": 1.195806,
     "end_time": "2022-03-08T02:10:26.539667",
     "exception": false,
     "start_time": "2022-03-08T02:10:25.343861",
     "status": "completed"
    },
    "tags": []
   },
   "outputs": [],
   "source": [
    "#hide\n",
    "from scripts.read_data import read_api\n",
    "from IPython.display import HTML\n",
    "import plotly.graph_objects as go\n"
   ]
  },
  {
   "cell_type": "code",
   "execution_count": 3,
   "id": "light-crazy",
   "metadata": {
    "execution": {
     "iopub.execute_input": "2022-03-08T02:10:26.566342Z",
     "iopub.status.busy": "2022-03-08T02:10:26.565799Z",
     "iopub.status.idle": "2022-03-08T02:10:26.587902Z",
     "shell.execute_reply": "2022-03-08T02:10:26.587432Z"
    },
    "papermill": {
     "duration": 0.036607,
     "end_time": "2022-03-08T02:10:26.588029",
     "exception": false,
     "start_time": "2022-03-08T02:10:26.551422",
     "status": "completed"
    },
    "tags": []
   },
   "outputs": [],
   "source": [
    "#hide\n",
    "### ICO koreliacija"
   ]
  },
  {
   "cell_type": "code",
   "execution_count": 4,
   "id": "likely-bahrain",
   "metadata": {
    "execution": {
     "iopub.execute_input": "2022-03-08T02:10:26.621102Z",
     "iopub.status.busy": "2022-03-08T02:10:26.618408Z",
     "iopub.status.idle": "2022-03-08T02:10:27.484718Z",
     "shell.execute_reply": "2022-03-08T02:10:27.484152Z"
    },
    "papermill": {
     "duration": 0.885295,
     "end_time": "2022-03-08T02:10:27.484862",
     "exception": false,
     "start_time": "2022-03-08T02:10:26.599567",
     "status": "completed"
    },
    "tags": []
   },
   "outputs": [],
   "source": [
    "#hide\n",
    "import matplotlib.pyplot as plt\n",
    "import numpy as np\n",
    "import pandas as pd\n",
    "import seaborn as sns\n",
    "import matplotlib.pyplot as plt \n",
    "import matplotlib.dates as mdates\n",
    "import matplotlib.pyplot as plt"
   ]
  },
  {
   "cell_type": "code",
   "execution_count": 5,
   "id": "superior-blanket",
   "metadata": {
    "execution": {
     "iopub.execute_input": "2022-03-08T02:10:27.513000Z",
     "iopub.status.busy": "2022-03-08T02:10:27.512468Z",
     "iopub.status.idle": "2022-03-08T02:10:40.138401Z",
     "shell.execute_reply": "2022-03-08T02:10:40.137914Z"
    },
    "papermill": {
     "duration": 12.64226,
     "end_time": "2022-03-08T02:10:40.138520",
     "exception": false,
     "start_time": "2022-03-08T02:10:27.496260",
     "status": "completed"
    },
    "tags": []
   },
   "outputs": [
    {
     "name": "stderr",
     "output_type": "stream",
     "text": [
      "/home/runner/work/corr-app/corr-app/_notebooks/scripts/read_data.py:187: SettingWithCopyWarning:\n",
      "\n",
      "\n",
      "A value is trying to be set on a copy of a slice from a DataFrame.\n",
      "Try using .loc[row_indexer,col_indexer] = value instead\n",
      "\n",
      "See the caveats in the documentation: https://pandas.pydata.org/pandas-docs/stable/user_guide/indexing.html#returning-a-view-versus-a-copy\n",
      "\n"
     ]
    },
    {
     "name": "stderr",
     "output_type": "stream",
     "text": [
      "/home/runner/work/corr-app/corr-app/_notebooks/scripts/read_data.py:215: SettingWithCopyWarning:\n",
      "\n",
      "\n",
      "A value is trying to be set on a copy of a slice from a DataFrame.\n",
      "Try using .loc[row_indexer,col_indexer] = value instead\n",
      "\n",
      "See the caveats in the documentation: https://pandas.pydata.org/pandas-docs/stable/user_guide/indexing.html#returning-a-view-versus-a-copy\n",
      "\n"
     ]
    }
   ],
   "source": [
    "#hide\n",
    "df_all = read_api()\n",
    "#df_all = df_all.drop(['SP500', 'XAU', 'ETH', 'BTC'], axis=1)\n",
    "\n"
   ]
  },
  {
   "cell_type": "code",
   "execution_count": 6,
   "id": "mature-alert",
   "metadata": {
    "execution": {
     "iopub.execute_input": "2022-03-08T02:10:40.174321Z",
     "iopub.status.busy": "2022-03-08T02:10:40.173486Z",
     "iopub.status.idle": "2022-03-08T02:10:40.199049Z",
     "shell.execute_reply": "2022-03-08T02:10:40.198558Z"
    },
    "papermill": {
     "duration": 0.04853,
     "end_time": "2022-03-08T02:10:40.199184",
     "exception": false,
     "start_time": "2022-03-08T02:10:40.150654",
     "status": "completed"
    },
    "tags": []
   },
   "outputs": [],
   "source": [
    "#hide_input\n",
    "sum_corr = df_all.corr().sum().sort_values(ascending=True).index.values\n",
    "#df_all[sum_corr].corr()"
   ]
  },
  {
   "cell_type": "markdown",
   "id": "complex-syndicate",
   "metadata": {
    "papermill": {
     "duration": 0.011284,
     "end_time": "2022-03-08T02:10:40.222318",
     "exception": false,
     "start_time": "2022-03-08T02:10:40.211034",
     "status": "completed"
    },
    "tags": []
   },
   "source": [
    "## Išplėstinė koreliacijų matrica. "
   ]
  },
  {
   "cell_type": "code",
   "execution_count": 7,
   "id": "atomic-omaha",
   "metadata": {
    "execution": {
     "iopub.execute_input": "2022-03-08T02:10:40.261183Z",
     "iopub.status.busy": "2022-03-08T02:10:40.248779Z",
     "iopub.status.idle": "2022-03-08T02:10:41.498599Z",
     "shell.execute_reply": "2022-03-08T02:10:41.498133Z"
    },
    "papermill": {
     "duration": 1.265168,
     "end_time": "2022-03-08T02:10:41.498727",
     "exception": false,
     "start_time": "2022-03-08T02:10:40.233559",
     "status": "completed"
    },
    "tags": []
   },
   "outputs": [
    {
     "data": {
      "image/png": "[encoded data removed]",
      "text/plain": [
       "<Figure size 1080x792 with 2 Axes>"
      ]
     },
     "metadata": {
      "needs_background": "light"
     },
     "output_type": "display_data"
    }
   ],
   "source": [
    "#hide_input\n",
    "plt.figure(figsize=(15, 11))\n",
    "sns.heatmap(df_all[sum_corr].corr(), annot=True, cmap=\"cubehelix\") \n",
    "sns.set(font_scale=1.25)\n",
    "plt.savefig('corr_matrix.png', format='eps')"
   ]
  },
  {
   "cell_type": "code",
   "execution_count": 8,
   "id": "arbitrary-sullivan",
   "metadata": {
    "execution": {
     "iopub.execute_input": "2022-03-08T02:10:41.531398Z",
     "iopub.status.busy": "2022-03-08T02:10:41.530886Z",
     "iopub.status.idle": "2022-03-08T02:10:41.556064Z",
     "shell.execute_reply": "2022-03-08T02:10:41.555566Z"
    },
    "papermill": {
     "duration": 0.043785,
     "end_time": "2022-03-08T02:10:41.556197",
     "exception": false,
     "start_time": "2022-03-08T02:10:41.512412",
     "status": "completed"
    },
    "tags": []
   },
   "outputs": [],
   "source": [
    "#hide\n",
    "#df_all_mrk = read_api()"
   ]
  },
  {
   "cell_type": "code",
   "execution_count": 9,
   "id": "delayed-adapter",
   "metadata": {
    "execution": {
     "iopub.execute_input": "2022-03-08T02:10:41.587287Z",
     "iopub.status.busy": "2022-03-08T02:10:41.586777Z",
     "iopub.status.idle": "2022-03-08T02:10:41.613353Z",
     "shell.execute_reply": "2022-03-08T02:10:41.612885Z"
    },
    "papermill": {
     "duration": 0.042558,
     "end_time": "2022-03-08T02:10:41.613468",
     "exception": false,
     "start_time": "2022-03-08T02:10:41.570910",
     "status": "completed"
    },
    "tags": []
   },
   "outputs": [],
   "source": [
    "#hide\n",
    "#Koreliacijų koeficientai"
   ]
  },
  {
   "cell_type": "code",
   "execution_count": 10,
   "id": "seeing-celebration",
   "metadata": {
    "execution": {
     "iopub.execute_input": "2022-03-08T02:10:41.644405Z",
     "iopub.status.busy": "2022-03-08T02:10:41.643897Z",
     "iopub.status.idle": "2022-03-08T02:10:41.669185Z",
     "shell.execute_reply": "2022-03-08T02:10:41.668674Z"
    },
    "papermill": {
     "duration": 0.041327,
     "end_time": "2022-03-08T02:10:41.669317",
     "exception": false,
     "start_time": "2022-03-08T02:10:41.627990",
     "status": "completed"
    },
    "tags": []
   },
   "outputs": [],
   "source": [
    "#hide_input\n",
    "#sum_corr = df_all_mrk.corr().sum().sort_values(ascending=True).index.values\n",
    "#df_all_mrk[sum_corr].corr()"
   ]
  },
  {
   "cell_type": "code",
   "execution_count": 11,
   "id": "other-painting",
   "metadata": {
    "execution": {
     "iopub.execute_input": "2022-03-08T02:10:41.700053Z",
     "iopub.status.busy": "2022-03-08T02:10:41.699539Z",
     "iopub.status.idle": "2022-03-08T02:10:41.726718Z",
     "shell.execute_reply": "2022-03-08T02:10:41.726214Z"
    },
    "papermill": {
     "duration": 0.043381,
     "end_time": "2022-03-08T02:10:41.726851",
     "exception": false,
     "start_time": "2022-03-08T02:10:41.683470",
     "status": "completed"
    },
    "tags": []
   },
   "outputs": [],
   "source": [
    "#hide\n",
    "#Koreliacijos matrica. "
   ]
  },
  {
   "cell_type": "code",
   "execution_count": 12,
   "id": "modular-magnitude",
   "metadata": {
    "execution": {
     "iopub.execute_input": "2022-03-08T02:10:41.758546Z",
     "iopub.status.busy": "2022-03-08T02:10:41.758034Z",
     "iopub.status.idle": "2022-03-08T02:10:41.782637Z",
     "shell.execute_reply": "2022-03-08T02:10:41.782197Z"
    },
    "papermill": {
     "duration": 0.042365,
     "end_time": "2022-03-08T02:10:41.782757",
     "exception": false,
     "start_time": "2022-03-08T02:10:41.740392",
     "status": "completed"
    },
    "tags": []
   },
   "outputs": [],
   "source": [
    "#hide_input\n",
    "#plt.figure(figsize=(15, 8))\n",
    "#sns.heatmap(df_all_mrk[sum_corr].corr(), annot=True, cmap=\"BrBG\");\n",
    "#plt.savefig('corr_matrix_all.eps', format='eps')"
   ]
  },
  {
   "cell_type": "code",
   "execution_count": null,
   "id": "original-senator",
   "metadata": {
    "papermill": {
     "duration": 0.013179,
     "end_time": "2022-03-08T02:10:41.809175",
     "exception": false,
     "start_time": "2022-03-08T02:10:41.795996",
     "status": "completed"
    },
    "tags": []
   },
   "outputs": [],
   "source": []
  },
  {
   "cell_type": "code",
   "execution_count": null,
   "id": "saving-secretariat",
   "metadata": {
    "papermill": {
     "duration": 0.013108,
     "end_time": "2022-03-08T02:10:41.835410",
     "exception": false,
     "start_time": "2022-03-08T02:10:41.822302",
     "status": "completed"
    },
    "tags": []
   },
   "outputs": [],
   "source": []
  }
 ],
 "metadata": {
  "kernelspec": {
   "display_name": "Python 3",
   "language": "python",
   "name": "python3"
  },
  "language_info": {
   "codemirror_mode": {
    "name": "ipython",
    "version": 3
   },
   "file_extension": ".py",
   "mimetype": "text/x-python",
   "name": "python",
   "nbconvert_exporter": "python",
   "pygments_lexer": "ipython3",
   "version": "3.6.15"
  },
  "papermill": {
   "default_parameters": {},
   "duration": 18.041519,
   "end_time": "2022-03-08T02:10:42.368120",
   "environment_variables": {},
   "exception": null,
   "input_path": "App-Correlation_charts.ipynb",
   "output_path": "App-Correlation_charts.ipynb",
   "parameters": {},
   "start_time": "2022-03-08T02:10:24.326601",
   "version": "2.2.2"
  }
 },
 "nbformat": 4,
 "nbformat_minor": 5
}