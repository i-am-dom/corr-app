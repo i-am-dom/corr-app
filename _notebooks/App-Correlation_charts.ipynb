{
 "cells": [
  {
   "cell_type": "markdown",
   "id": "touched-facility",
   "metadata": {
    "papermill": {
     "duration": 0.052476,
     "end_time": "2022-01-02T02:07:40.278709",
     "exception": false,
     "start_time": "2022-01-02T02:07:40.226233",
     "status": "completed"
    },
    "tags": []
   },
   "source": [
    "# Koreliacijų matrica\n",
    "> Išplėstinė koreliacijų matrica. \n",
    "\n",
    "- toc: true \n",
    "- badges: true\n",
    "- comments: false\n",
    "- categories: [Dominykas Tautkus]\n",
    "- image: images/matrix.png"
   ]
  },
  {
   "cell_type": "code",
   "execution_count": null,
   "id": "premium-weekend",
   "metadata": {
    "papermill": {
     "duration": 0.046178,
     "end_time": "2022-01-02T02:07:40.389763",
     "exception": false,
     "start_time": "2022-01-02T02:07:40.343585",
     "status": "completed"
    },
    "tags": []
   },
   "outputs": [],
   "source": []
  },
  {
   "cell_type": "code",
   "execution_count": 1,
   "id": "vertical-rebate",
   "metadata": {
    "execution": {
     "iopub.execute_input": "2022-01-02T02:07:40.528463Z",
     "iopub.status.busy": "2022-01-02T02:07:40.527876Z",
     "iopub.status.idle": "2022-01-02T02:07:40.540750Z",
     "shell.execute_reply": "2022-01-02T02:07:40.540308Z"
    },
    "papermill": {
     "duration": 0.061045,
     "end_time": "2022-01-02T02:07:40.540886",
     "exception": false,
     "start_time": "2022-01-02T02:07:40.479841",
     "status": "completed"
    },
    "tags": []
   },
   "outputs": [],
   "source": [
    "#hide\n",
    "%load_ext autoreload\n",
    "%autoreload 2"
   ]
  },
  {
   "cell_type": "code",
   "execution_count": 2,
   "id": "overall-advancement",
   "metadata": {
    "execution": {
     "iopub.execute_input": "2022-01-02T02:07:40.689720Z",
     "iopub.status.busy": "2022-01-02T02:07:40.686955Z",
     "iopub.status.idle": "2022-01-02T02:07:42.520445Z",
     "shell.execute_reply": "2022-01-02T02:07:42.519882Z"
    },
    "papermill": {
     "duration": 1.939723,
     "end_time": "2022-01-02T02:07:42.520589",
     "exception": false,
     "start_time": "2022-01-02T02:07:40.580866",
     "status": "completed"
    },
    "tags": []
   },
   "outputs": [],
   "source": [
    "#hide\n",
    "from scripts.read_data import read_api\n",
    "from IPython.display import HTML\n",
    "import plotly.graph_objects as go\n"
   ]
  },
  {
   "cell_type": "code",
   "execution_count": 3,
   "id": "light-crazy",
   "metadata": {
    "execution": {
     "iopub.execute_input": "2022-01-02T02:07:42.555759Z",
     "iopub.status.busy": "2022-01-02T02:07:42.554950Z",
     "iopub.status.idle": "2022-01-02T02:07:42.571506Z",
     "shell.execute_reply": "2022-01-02T02:07:42.571890Z"
    },
    "papermill": {
     "duration": 0.039831,
     "end_time": "2022-01-02T02:07:42.572022",
     "exception": false,
     "start_time": "2022-01-02T02:07:42.532191",
     "status": "completed"
    },
    "tags": []
   },
   "outputs": [],
   "source": [
    "#hide\n",
    "### ICO koreliacija"
   ]
  },
  {
   "cell_type": "code",
   "execution_count": 4,
   "id": "likely-bahrain",
   "metadata": {
    "execution": {
     "iopub.execute_input": "2022-01-02T02:07:42.596715Z",
     "iopub.status.busy": "2022-01-02T02:07:42.595890Z",
     "iopub.status.idle": "2022-01-02T02:07:43.468718Z",
     "shell.execute_reply": "2022-01-02T02:07:43.467758Z"
    },
    "papermill": {
     "duration": 0.886226,
     "end_time": "2022-01-02T02:07:43.468856",
     "exception": false,
     "start_time": "2022-01-02T02:07:42.582630",
     "status": "completed"
    },
    "tags": []
   },
   "outputs": [],
   "source": [
    "#hide\n",
    "import matplotlib.pyplot as plt\n",
    "import numpy as np\n",
    "import pandas as pd\n",
    "import seaborn as sns\n",
    "import matplotlib.pyplot as plt \n",
    "import matplotlib.dates as mdates\n",
    "import matplotlib.pyplot as plt"
   ]
  },
  {
   "cell_type": "code",
   "execution_count": 5,
   "id": "superior-blanket",
   "metadata": {
    "execution": {
     "iopub.execute_input": "2022-01-02T02:07:43.494616Z",
     "iopub.status.busy": "2022-01-02T02:07:43.494013Z",
     "iopub.status.idle": "2022-01-02T02:07:54.541765Z",
     "shell.execute_reply": "2022-01-02T02:07:54.541240Z"
    },
    "papermill": {
     "duration": 11.062133,
     "end_time": "2022-01-02T02:07:54.541904",
     "exception": false,
     "start_time": "2022-01-02T02:07:43.479771",
     "status": "completed"
    },
    "tags": []
   },
   "outputs": [
    {
     "name": "stderr",
     "output_type": "stream",
     "text": [
      "/home/runner/work/corr-app/corr-app/_notebooks/scripts/read_data.py:187: SettingWithCopyWarning:\n",
      "\n",
      "\n",
      "A value is trying to be set on a copy of a slice from a DataFrame.\n",
      "Try using .loc[row_indexer,col_indexer] = value instead\n",
      "\n",
      "See the caveats in the documentation: https://pandas.pydata.org/pandas-docs/stable/user_guide/indexing.html#returning-a-view-versus-a-copy\n",
      "\n"
     ]
    },
    {
     "name": "stderr",
     "output_type": "stream",
     "text": [
      "/home/runner/work/corr-app/corr-app/_notebooks/scripts/read_data.py:215: SettingWithCopyWarning:\n",
      "\n",
      "\n",
      "A value is trying to be set on a copy of a slice from a DataFrame.\n",
      "Try using .loc[row_indexer,col_indexer] = value instead\n",
      "\n",
      "See the caveats in the documentation: https://pandas.pydata.org/pandas-docs/stable/user_guide/indexing.html#returning-a-view-versus-a-copy\n",
      "\n"
     ]
    }
   ],
   "source": [
    "#hide\n",
    "df_all = read_api()\n",
    "#df_all = df_all.drop(['SP500', 'XAU', 'ETH', 'BTC'], axis=1)\n",
    "\n"
   ]
  },
  {
   "cell_type": "code",
   "execution_count": 6,
   "id": "mature-alert",
   "metadata": {
    "execution": {
     "iopub.execute_input": "2022-01-02T02:07:54.569496Z",
     "iopub.status.busy": "2022-01-02T02:07:54.568969Z",
     "iopub.status.idle": "2022-01-02T02:07:54.598947Z",
     "shell.execute_reply": "2022-01-02T02:07:54.598445Z"
    },
    "papermill": {
     "duration": 0.045289,
     "end_time": "2022-01-02T02:07:54.599079",
     "exception": false,
     "start_time": "2022-01-02T02:07:54.553790",
     "status": "completed"
    },
    "tags": []
   },
   "outputs": [],
   "source": [
    "#hide_input\n",
    "sum_corr = df_all.corr().sum().sort_values(ascending=True).index.values\n",
    "#df_all[sum_corr].corr()"
   ]
  },
  {
   "cell_type": "markdown",
   "id": "complex-syndicate",
   "metadata": {
    "papermill": {
     "duration": 0.011167,
     "end_time": "2022-01-02T02:07:54.622276",
     "exception": false,
     "start_time": "2022-01-02T02:07:54.611109",
     "status": "completed"
    },
    "tags": []
   },
   "source": [
    "## Išplėstinė koreliacijų matrica. "
   ]
  },
  {
   "cell_type": "code",
   "execution_count": 7,
   "id": "atomic-omaha",
   "metadata": {
    "execution": {
     "iopub.execute_input": "2022-01-02T02:07:54.656939Z",
     "iopub.status.busy": "2022-01-02T02:07:54.656407Z",
     "iopub.status.idle": "2022-01-02T02:07:55.894322Z",
     "shell.execute_reply": "2022-01-02T02:07:55.894794Z"
    },
    "papermill": {
     "duration": 1.261564,
     "end_time": "2022-01-02T02:07:55.894945",
     "exception": false,
     "start_time": "2022-01-02T02:07:54.633381",
     "status": "completed"
    },
    "tags": []
   },
   "outputs": [
    {
     "data": {
      "image/png": "[encoded data removed]",
      "text/plain": [
       "<Figure size 1080x792 with 2 Axes>"
      ]
     },
     "metadata": {
      "needs_background": "light"
     },
     "output_type": "display_data"
    }
   ],
   "source": [
    "#hide_input\n",
    "plt.figure(figsize=(15, 11))\n",
    "sns.heatmap(df_all[sum_corr].corr(), annot=True, cmap=\"cubehelix\") \n",
    "sns.set(font_scale=1.25)\n",
    "plt.savefig('corr_matrix.png', format='eps')"
   ]
  },
  {
   "cell_type": "code",
   "execution_count": 8,
   "id": "arbitrary-sullivan",
   "metadata": {
    "execution": {
     "iopub.execute_input": "2022-01-02T02:07:55.926538Z",
     "iopub.status.busy": "2022-01-02T02:07:55.926023Z",
     "iopub.status.idle": "2022-01-02T02:07:55.951605Z",
     "shell.execute_reply": "2022-01-02T02:07:55.951119Z"
    },
    "papermill": {
     "duration": 0.043106,
     "end_time": "2022-01-02T02:07:55.951731",
     "exception": false,
     "start_time": "2022-01-02T02:07:55.908625",
     "status": "completed"
    },
    "tags": []
   },
   "outputs": [],
   "source": [
    "#hide\n",
    "#df_all_mrk = read_api()"
   ]
  },
  {
   "cell_type": "code",
   "execution_count": 9,
   "id": "delayed-adapter",
   "metadata": {
    "execution": {
     "iopub.execute_input": "2022-01-02T02:07:55.985290Z",
     "iopub.status.busy": "2022-01-02T02:07:55.984779Z",
     "iopub.status.idle": "2022-01-02T02:07:56.007789Z",
     "shell.execute_reply": "2022-01-02T02:07:56.007334Z"
    },
    "papermill": {
     "duration": 0.042337,
     "end_time": "2022-01-02T02:07:56.007911",
     "exception": false,
     "start_time": "2022-01-02T02:07:55.965574",
     "status": "completed"
    },
    "tags": []
   },
   "outputs": [],
   "source": [
    "#hide\n",
    "#Koreliacijų koeficientai"
   ]
  },
  {
   "cell_type": "code",
   "execution_count": 10,
   "id": "seeing-celebration",
   "metadata": {
    "execution": {
     "iopub.execute_input": "2022-01-02T02:07:56.037380Z",
     "iopub.status.busy": "2022-01-02T02:07:56.036871Z",
     "iopub.status.idle": "2022-01-02T02:07:56.062250Z",
     "shell.execute_reply": "2022-01-02T02:07:56.061758Z"
    },
    "papermill": {
     "duration": 0.041058,
     "end_time": "2022-01-02T02:07:56.062368",
     "exception": false,
     "start_time": "2022-01-02T02:07:56.021310",
     "status": "completed"
    },
    "tags": []
   },
   "outputs": [],
   "source": [
    "#hide_input\n",
    "#sum_corr = df_all_mrk.corr().sum().sort_values(ascending=True).index.values\n",
    "#df_all_mrk[sum_corr].corr()"
   ]
  },
  {
   "cell_type": "code",
   "execution_count": 11,
   "id": "other-painting",
   "metadata": {
    "execution": {
     "iopub.execute_input": "2022-01-02T02:07:56.095508Z",
     "iopub.status.busy": "2022-01-02T02:07:56.094997Z",
     "iopub.status.idle": "2022-01-02T02:07:56.119264Z",
     "shell.execute_reply": "2022-01-02T02:07:56.118766Z"
    },
    "papermill": {
     "duration": 0.042815,
     "end_time": "2022-01-02T02:07:56.119383",
     "exception": false,
     "start_time": "2022-01-02T02:07:56.076568",
     "status": "completed"
    },
    "tags": []
   },
   "outputs": [],
   "source": [
    "#hide\n",
    "#Koreliacijos matrica. "
   ]
  },
  {
   "cell_type": "code",
   "execution_count": 12,
   "id": "modular-magnitude",
   "metadata": {
    "execution": {
     "iopub.execute_input": "2022-01-02T02:07:56.150551Z",
     "iopub.status.busy": "2022-01-02T02:07:56.150035Z",
     "iopub.status.idle": "2022-01-02T02:07:56.174079Z",
     "shell.execute_reply": "2022-01-02T02:07:56.173580Z"
    },
    "papermill": {
     "duration": 0.041481,
     "end_time": "2022-01-02T02:07:56.174203",
     "exception": false,
     "start_time": "2022-01-02T02:07:56.132722",
     "status": "completed"
    },
    "tags": []
   },
   "outputs": [],
   "source": [
    "#hide_input\n",
    "#plt.figure(figsize=(15, 8))\n",
    "#sns.heatmap(df_all_mrk[sum_corr].corr(), annot=True, cmap=\"BrBG\");\n",
    "#plt.savefig('corr_matrix_all.eps', format='eps')"
   ]
  },
  {
   "cell_type": "code",
   "execution_count": null,
   "id": "original-senator",
   "metadata": {
    "papermill": {
     "duration": 0.013015,
     "end_time": "2022-01-02T02:07:56.201346",
     "exception": false,
     "start_time": "2022-01-02T02:07:56.188331",
     "status": "completed"
    },
    "tags": []
   },
   "outputs": [],
   "source": []
  },
  {
   "cell_type": "code",
   "execution_count": null,
   "id": "saving-secretariat",
   "metadata": {
    "papermill": {
     "duration": 0.01383,
     "end_time": "2022-01-02T02:07:56.228171",
     "exception": false,
     "start_time": "2022-01-02T02:07:56.214341",
     "status": "completed"
    },
    "tags": []
   },
   "outputs": [],
   "source": []
  }
 ],
 "metadata": {
  "kernelspec": {
   "display_name": "Python 3",
   "language": "python",
   "name": "python3"
  },
  "language_info": {
   "codemirror_mode": {
    "name": "ipython",
    "version": 3
   },
   "file_extension": ".py",
   "mimetype": "text/x-python",
   "name": "python",
   "nbconvert_exporter": "python",
   "pygments_lexer": "ipython3",
   "version": "3.6.15"
  },
  "papermill": {
   "default_parameters": {},
   "duration": 17.768962,
   "end_time": "2022-01-02T02:07:56.750873",
   "environment_variables": {},
   "exception": null,
   "input_path": "App-Correlation_charts.ipynb",
   "output_path": "App-Correlation_charts.ipynb",
   "parameters": {},
   "start_time": "2022-01-02T02:07:38.981911",
   "version": "2.2.2"
  }
 },
 "nbformat": 4,
 "nbformat_minor": 5
}