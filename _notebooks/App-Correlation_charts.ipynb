{
 "cells": [
  {
   "cell_type": "markdown",
   "id": "touched-facility",
   "metadata": {
    "papermill": {
     "duration": 0.015331,
     "end_time": "2022-06-23T03:09:22.319259",
     "exception": false,
     "start_time": "2022-06-23T03:09:22.303928",
     "status": "completed"
    },
    "tags": []
   },
   "source": [
    "# Koreliacijų matrica\n",
    "> Išplėstinė koreliacijų matrica. \n",
    "\n",
    "- toc: true \n",
    "- badges: true\n",
    "- comments: false\n",
    "- categories: [Dominykas Tautkus]\n",
    "- image: images/matrix.png"
   ]
  },
  {
   "cell_type": "code",
   "execution_count": null,
   "id": "premium-weekend",
   "metadata": {
    "papermill": {
     "duration": 0.01085,
     "end_time": "2022-06-23T03:09:22.342351",
     "exception": false,
     "start_time": "2022-06-23T03:09:22.331501",
     "status": "completed"
    },
    "tags": []
   },
   "outputs": [],
   "source": []
  },
  {
   "cell_type": "code",
   "execution_count": 1,
   "id": "vertical-rebate",
   "metadata": {
    "execution": {
     "iopub.execute_input": "2022-06-23T03:09:22.375525Z",
     "iopub.status.busy": "2022-06-23T03:09:22.374930Z",
     "iopub.status.idle": "2022-06-23T03:09:22.385641Z",
     "shell.execute_reply": "2022-06-23T03:09:22.385153Z"
    },
    "papermill": {
     "duration": 0.032357,
     "end_time": "2022-06-23T03:09:22.385781",
     "exception": false,
     "start_time": "2022-06-23T03:09:22.353424",
     "status": "completed"
    },
    "tags": []
   },
   "outputs": [],
   "source": [
    "#hide\n",
    "%load_ext autoreload\n",
    "%autoreload 2"
   ]
  },
  {
   "cell_type": "code",
   "execution_count": 2,
   "id": "overall-advancement",
   "metadata": {
    "execution": {
     "iopub.execute_input": "2022-06-23T03:09:22.411360Z",
     "iopub.status.busy": "2022-06-23T03:09:22.410792Z",
     "iopub.status.idle": "2022-06-23T03:09:23.760389Z",
     "shell.execute_reply": "2022-06-23T03:09:23.759927Z"
    },
    "papermill": {
     "duration": 1.363555,
     "end_time": "2022-06-23T03:09:23.760508",
     "exception": false,
     "start_time": "2022-06-23T03:09:22.396953",
     "status": "completed"
    },
    "tags": []
   },
   "outputs": [],
   "source": [
    "#hide\n",
    "from scripts.read_data import read_api\n",
    "from IPython.display import HTML\n",
    "import plotly.graph_objects as go\n"
   ]
  },
  {
   "cell_type": "code",
   "execution_count": 3,
   "id": "light-crazy",
   "metadata": {
    "execution": {
     "iopub.execute_input": "2022-06-23T03:09:23.783713Z",
     "iopub.status.busy": "2022-06-23T03:09:23.783046Z",
     "iopub.status.idle": "2022-06-23T03:09:23.803954Z",
     "shell.execute_reply": "2022-06-23T03:09:23.803453Z"
    },
    "papermill": {
     "duration": 0.033645,
     "end_time": "2022-06-23T03:09:23.804070",
     "exception": false,
     "start_time": "2022-06-23T03:09:23.770425",
     "status": "completed"
    },
    "tags": []
   },
   "outputs": [],
   "source": [
    "#hide\n",
    "### ICO koreliacija"
   ]
  },
  {
   "cell_type": "code",
   "execution_count": 4,
   "id": "likely-bahrain",
   "metadata": {
    "execution": {
     "iopub.execute_input": "2022-06-23T03:09:23.829867Z",
     "iopub.status.busy": "2022-06-23T03:09:23.829259Z",
     "iopub.status.idle": "2022-06-23T03:09:24.588962Z",
     "shell.execute_reply": "2022-06-23T03:09:24.588407Z"
    },
    "papermill": {
     "duration": 0.773572,
     "end_time": "2022-06-23T03:09:24.589096",
     "exception": false,
     "start_time": "2022-06-23T03:09:23.815524",
     "status": "completed"
    },
    "tags": []
   },
   "outputs": [],
   "source": [
    "#hide\n",
    "import matplotlib.pyplot as plt\n",
    "import numpy as np\n",
    "import pandas as pd\n",
    "import seaborn as sns\n",
    "import matplotlib.pyplot as plt \n",
    "import matplotlib.dates as mdates\n",
    "import matplotlib.pyplot as plt"
   ]
  },
  {
   "cell_type": "code",
   "execution_count": 5,
   "id": "superior-blanket",
   "metadata": {
    "execution": {
     "iopub.execute_input": "2022-06-23T03:09:24.618669Z",
     "iopub.status.busy": "2022-06-23T03:09:24.616115Z",
     "iopub.status.idle": "2022-06-23T03:09:34.281566Z",
     "shell.execute_reply": "2022-06-23T03:09:34.280274Z"
    },
    "papermill": {
     "duration": 9.681057,
     "end_time": "2022-06-23T03:09:34.281703",
     "exception": false,
     "start_time": "2022-06-23T03:09:24.600646",
     "status": "completed"
    },
    "tags": []
   },
   "outputs": [
    {
     "name": "stderr",
     "output_type": "stream",
     "text": [
      "/home/runner/work/corr-app/corr-app/_notebooks/scripts/read_data.py:187: SettingWithCopyWarning:\n",
      "\n",
      "\n",
      "A value is trying to be set on a copy of a slice from a DataFrame.\n",
      "Try using .loc[row_indexer,col_indexer] = value instead\n",
      "\n",
      "See the caveats in the documentation: https://pandas.pydata.org/pandas-docs/stable/user_guide/indexing.html#returning-a-view-versus-a-copy\n",
      "\n"
     ]
    },
    {
     "name": "stderr",
     "output_type": "stream",
     "text": [
      "/home/runner/work/corr-app/corr-app/_notebooks/scripts/read_data.py:215: SettingWithCopyWarning:\n",
      "\n",
      "\n",
      "A value is trying to be set on a copy of a slice from a DataFrame.\n",
      "Try using .loc[row_indexer,col_indexer] = value instead\n",
      "\n",
      "See the caveats in the documentation: https://pandas.pydata.org/pandas-docs/stable/user_guide/indexing.html#returning-a-view-versus-a-copy\n",
      "\n"
     ]
    }
   ],
   "source": [
    "#hide\n",
    "df_all = read_api()\n",
    "#df_all = df_all.drop(['SP500', 'XAU', 'ETH', 'BTC'], axis=1)\n",
    "\n"
   ]
  },
  {
   "cell_type": "code",
   "execution_count": 6,
   "id": "mature-alert",
   "metadata": {
    "execution": {
     "iopub.execute_input": "2022-06-23T03:09:34.315283Z",
     "iopub.status.busy": "2022-06-23T03:09:34.310182Z",
     "iopub.status.idle": "2022-06-23T03:09:34.340937Z",
     "shell.execute_reply": "2022-06-23T03:09:34.340273Z"
    },
    "papermill": {
     "duration": 0.047561,
     "end_time": "2022-06-23T03:09:34.341060",
     "exception": false,
     "start_time": "2022-06-23T03:09:34.293499",
     "status": "completed"
    },
    "tags": []
   },
   "outputs": [],
   "source": [
    "#hide_input\n",
    "sum_corr = df_all.corr().sum().sort_values(ascending=True).index.values\n",
    "#df_all[sum_corr].corr()"
   ]
  },
  {
   "cell_type": "markdown",
   "id": "complex-syndicate",
   "metadata": {
    "papermill": {
     "duration": 0.011532,
     "end_time": "2022-06-23T03:09:34.364208",
     "exception": false,
     "start_time": "2022-06-23T03:09:34.352676",
     "status": "completed"
    },
    "tags": []
   },
   "source": [
    "## Išplėstinė koreliacijų matrica. "
   ]
  },
  {
   "cell_type": "code",
   "execution_count": 7,
   "id": "atomic-omaha",
   "metadata": {
    "execution": {
     "iopub.execute_input": "2022-06-23T03:09:34.390972Z",
     "iopub.status.busy": "2022-06-23T03:09:34.390395Z",
     "iopub.status.idle": "2022-06-23T03:09:35.602348Z",
     "shell.execute_reply": "2022-06-23T03:09:35.602857Z"
    },
    "papermill": {
     "duration": 1.227297,
     "end_time": "2022-06-23T03:09:35.603002",
     "exception": false,
     "start_time": "2022-06-23T03:09:34.375705",
     "status": "completed"
    },
    "tags": []
   },
   "outputs": [
    {
     "data": {
      "image/png": "[encoded data removed]",
      "text/plain": [
       "<Figure size 1080x792 with 2 Axes>"
      ]
     },
     "metadata": {
      "needs_background": "light"
     },
     "output_type": "display_data"
    }
   ],
   "source": [
    "#hide_input\n",
    "plt.figure(figsize=(15, 11))\n",
    "sns.heatmap(df_all[sum_corr].corr(), annot=True, cmap=\"cubehelix\") \n",
    "sns.set(font_scale=1.25)\n",
    "plt.savefig('corr_matrix.png', format='eps')"
   ]
  },
  {
   "cell_type": "code",
   "execution_count": 8,
   "id": "arbitrary-sullivan",
   "metadata": {
    "execution": {
     "iopub.execute_input": "2022-06-23T03:09:35.631724Z",
     "iopub.status.busy": "2022-06-23T03:09:35.631215Z",
     "iopub.status.idle": "2022-06-23T03:09:35.656976Z",
     "shell.execute_reply": "2022-06-23T03:09:35.657458Z"
    },
    "papermill": {
     "duration": 0.042736,
     "end_time": "2022-06-23T03:09:35.657599",
     "exception": false,
     "start_time": "2022-06-23T03:09:35.614863",
     "status": "completed"
    },
    "tags": []
   },
   "outputs": [],
   "source": [
    "#hide\n",
    "#df_all_mrk = read_api()"
   ]
  },
  {
   "cell_type": "code",
   "execution_count": 9,
   "id": "delayed-adapter",
   "metadata": {
    "execution": {
     "iopub.execute_input": "2022-06-23T03:09:35.684191Z",
     "iopub.status.busy": "2022-06-23T03:09:35.683700Z",
     "iopub.status.idle": "2022-06-23T03:09:35.710174Z",
     "shell.execute_reply": "2022-06-23T03:09:35.710547Z"
    },
    "papermill": {
     "duration": 0.041051,
     "end_time": "2022-06-23T03:09:35.710658",
     "exception": false,
     "start_time": "2022-06-23T03:09:35.669607",
     "status": "completed"
    },
    "tags": []
   },
   "outputs": [],
   "source": [
    "#hide\n",
    "#Koreliacijų koeficientai"
   ]
  },
  {
   "cell_type": "code",
   "execution_count": 10,
   "id": "seeing-celebration",
   "metadata": {
    "execution": {
     "iopub.execute_input": "2022-06-23T03:09:35.736998Z",
     "iopub.status.busy": "2022-06-23T03:09:35.736493Z",
     "iopub.status.idle": "2022-06-23T03:09:35.762153Z",
     "shell.execute_reply": "2022-06-23T03:09:35.761532Z"
    },
    "papermill": {
     "duration": 0.039894,
     "end_time": "2022-06-23T03:09:35.762259",
     "exception": false,
     "start_time": "2022-06-23T03:09:35.722365",
     "status": "completed"
    },
    "tags": []
   },
   "outputs": [],
   "source": [
    "#hide_input\n",
    "#sum_corr = df_all_mrk.corr().sum().sort_values(ascending=True).index.values\n",
    "#df_all_mrk[sum_corr].corr()"
   ]
  },
  {
   "cell_type": "code",
   "execution_count": 11,
   "id": "other-painting",
   "metadata": {
    "execution": {
     "iopub.execute_input": "2022-06-23T03:09:35.788868Z",
     "iopub.status.busy": "2022-06-23T03:09:35.788369Z",
     "iopub.status.idle": "2022-06-23T03:09:35.812834Z",
     "shell.execute_reply": "2022-06-23T03:09:35.813221Z"
    },
    "papermill": {
     "duration": 0.038491,
     "end_time": "2022-06-23T03:09:35.813334",
     "exception": false,
     "start_time": "2022-06-23T03:09:35.774843",
     "status": "completed"
    },
    "tags": []
   },
   "outputs": [],
   "source": [
    "#hide\n",
    "#Koreliacijos matrica. "
   ]
  },
  {
   "cell_type": "code",
   "execution_count": 12,
   "id": "modular-magnitude",
   "metadata": {
    "execution": {
     "iopub.execute_input": "2022-06-23T03:09:35.842334Z",
     "iopub.status.busy": "2022-06-23T03:09:35.841826Z",
     "iopub.status.idle": "2022-06-23T03:09:35.865709Z",
     "shell.execute_reply": "2022-06-23T03:09:35.865055Z"
    },
    "papermill": {
     "duration": 0.040749,
     "end_time": "2022-06-23T03:09:35.865848",
     "exception": false,
     "start_time": "2022-06-23T03:09:35.825099",
     "status": "completed"
    },
    "tags": []
   },
   "outputs": [],
   "source": [
    "#hide_input\n",
    "#plt.figure(figsize=(15, 8))\n",
    "#sns.heatmap(df_all_mrk[sum_corr].corr(), annot=True, cmap=\"BrBG\");\n",
    "#plt.savefig('corr_matrix_all.eps', format='eps')"
   ]
  },
  {
   "cell_type": "code",
   "execution_count": null,
   "id": "original-senator",
   "metadata": {
    "papermill": {
     "duration": 0.011592,
     "end_time": "2022-06-23T03:09:35.890717",
     "exception": false,
     "start_time": "2022-06-23T03:09:35.879125",
     "status": "completed"
    },
    "tags": []
   },
   "outputs": [],
   "source": []
  },
  {
   "cell_type": "code",
   "execution_count": null,
   "id": "saving-secretariat",
   "metadata": {
    "papermill": {
     "duration": 0.011659,
     "end_time": "2022-06-23T03:09:35.913932",
     "exception": false,
     "start_time": "2022-06-23T03:09:35.902273",
     "status": "completed"
    },
    "tags": []
   },
   "outputs": [],
   "source": []
  }
 ],
 "metadata": {
  "kernelspec": {
   "display_name": "Python 3",
   "language": "python",
   "name": "python3"
  },
  "language_info": {
   "codemirror_mode": {
    "name": "ipython",
    "version": 3
   },
   "file_extension": ".py",
   "mimetype": "text/x-python",
   "name": "python",
   "nbconvert_exporter": "python",
   "pygments_lexer": "ipython3",
   "version": "3.6.15"
  },
  "papermill": {
   "default_parameters": {},
   "duration": 15.242056,
   "end_time": "2022-06-23T03:09:36.444841",
   "environment_variables": {},
   "exception": null,
   "input_path": "App-Correlation_charts.ipynb",
   "output_path": "App-Correlation_charts.ipynb",
   "parameters": {},
   "start_time": "2022-06-23T03:09:21.202785",
   "version": "2.2.2"
  }
 },
 "nbformat": 4,
 "nbformat_minor": 5
}