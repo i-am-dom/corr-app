{
 "cells": [
  {
   "cell_type": "markdown",
   "id": "touched-facility",
   "metadata": {
    "papermill": {
     "duration": 0.014359,
     "end_time": "2022-06-02T03:16:18.596827",
     "exception": false,
     "start_time": "2022-06-02T03:16:18.582468",
     "status": "completed"
    },
    "tags": []
   },
   "source": [
    "# Koreliacijų matrica\n",
    "> Išplėstinė koreliacijų matrica. \n",
    "\n",
    "- toc: true \n",
    "- badges: true\n",
    "- comments: false\n",
    "- categories: [Dominykas Tautkus]\n",
    "- image: images/matrix.png"
   ]
  },
  {
   "cell_type": "code",
   "execution_count": null,
   "id": "premium-weekend",
   "metadata": {
    "papermill": {
     "duration": 0.011657,
     "end_time": "2022-06-02T03:16:18.620515",
     "exception": false,
     "start_time": "2022-06-02T03:16:18.608858",
     "status": "completed"
    },
    "tags": []
   },
   "outputs": [],
   "source": []
  },
  {
   "cell_type": "code",
   "execution_count": 1,
   "id": "vertical-rebate",
   "metadata": {
    "execution": {
     "iopub.execute_input": "2022-06-02T03:16:18.652523Z",
     "iopub.status.busy": "2022-06-02T03:16:18.651966Z",
     "iopub.status.idle": "2022-06-02T03:16:18.662480Z",
     "shell.execute_reply": "2022-06-02T03:16:18.662008Z"
    },
    "papermill": {
     "duration": 0.031069,
     "end_time": "2022-06-02T03:16:18.662590",
     "exception": false,
     "start_time": "2022-06-02T03:16:18.631521",
     "status": "completed"
    },
    "tags": []
   },
   "outputs": [],
   "source": [
    "#hide\n",
    "%load_ext autoreload\n",
    "%autoreload 2"
   ]
  },
  {
   "cell_type": "code",
   "execution_count": 2,
   "id": "overall-advancement",
   "metadata": {
    "execution": {
     "iopub.execute_input": "2022-06-02T03:16:18.687741Z",
     "iopub.status.busy": "2022-06-02T03:16:18.687193Z",
     "iopub.status.idle": "2022-06-02T03:16:19.802556Z",
     "shell.execute_reply": "2022-06-02T03:16:19.802055Z"
    },
    "papermill": {
     "duration": 1.128954,
     "end_time": "2022-06-02T03:16:19.802673",
     "exception": false,
     "start_time": "2022-06-02T03:16:18.673719",
     "status": "completed"
    },
    "tags": []
   },
   "outputs": [],
   "source": [
    "#hide\n",
    "from scripts.read_data import read_api\n",
    "from IPython.display import HTML\n",
    "import plotly.graph_objects as go\n"
   ]
  },
  {
   "cell_type": "code",
   "execution_count": 3,
   "id": "light-crazy",
   "metadata": {
    "execution": {
     "iopub.execute_input": "2022-06-02T03:16:19.831820Z",
     "iopub.status.busy": "2022-06-02T03:16:19.829228Z",
     "iopub.status.idle": "2022-06-02T03:16:19.851987Z",
     "shell.execute_reply": "2022-06-02T03:16:19.851268Z"
    },
    "papermill": {
     "duration": 0.038166,
     "end_time": "2022-06-02T03:16:19.852094",
     "exception": false,
     "start_time": "2022-06-02T03:16:19.813928",
     "status": "completed"
    },
    "tags": []
   },
   "outputs": [],
   "source": [
    "#hide\n",
    "### ICO koreliacija"
   ]
  },
  {
   "cell_type": "code",
   "execution_count": 4,
   "id": "likely-bahrain",
   "metadata": {
    "execution": {
     "iopub.execute_input": "2022-06-02T03:16:19.877791Z",
     "iopub.status.busy": "2022-06-02T03:16:19.877236Z",
     "iopub.status.idle": "2022-06-02T03:16:20.695514Z",
     "shell.execute_reply": "2022-06-02T03:16:20.694547Z"
    },
    "papermill": {
     "duration": 0.832541,
     "end_time": "2022-06-02T03:16:20.695641",
     "exception": false,
     "start_time": "2022-06-02T03:16:19.863100",
     "status": "completed"
    },
    "tags": []
   },
   "outputs": [],
   "source": [
    "#hide\n",
    "import matplotlib.pyplot as plt\n",
    "import numpy as np\n",
    "import pandas as pd\n",
    "import seaborn as sns\n",
    "import matplotlib.pyplot as plt \n",
    "import matplotlib.dates as mdates\n",
    "import matplotlib.pyplot as plt"
   ]
  },
  {
   "cell_type": "code",
   "execution_count": 5,
   "id": "superior-blanket",
   "metadata": {
    "execution": {
     "iopub.execute_input": "2022-06-02T03:16:20.723494Z",
     "iopub.status.busy": "2022-06-02T03:16:20.722122Z",
     "iopub.status.idle": "2022-06-02T03:16:35.655961Z",
     "shell.execute_reply": "2022-06-02T03:16:35.655443Z"
    },
    "papermill": {
     "duration": 14.949077,
     "end_time": "2022-06-02T03:16:35.656074",
     "exception": false,
     "start_time": "2022-06-02T03:16:20.706997",
     "status": "completed"
    },
    "tags": []
   },
   "outputs": [
    {
     "name": "stderr",
     "output_type": "stream",
     "text": [
      "/home/runner/work/corr-app/corr-app/_notebooks/scripts/read_data.py:187: SettingWithCopyWarning:\n",
      "\n",
      "\n",
      "A value is trying to be set on a copy of a slice from a DataFrame.\n",
      "Try using .loc[row_indexer,col_indexer] = value instead\n",
      "\n",
      "See the caveats in the documentation: https://pandas.pydata.org/pandas-docs/stable/user_guide/indexing.html#returning-a-view-versus-a-copy\n",
      "\n"
     ]
    },
    {
     "name": "stderr",
     "output_type": "stream",
     "text": [
      "/home/runner/work/corr-app/corr-app/_notebooks/scripts/read_data.py:215: SettingWithCopyWarning:\n",
      "\n",
      "\n",
      "A value is trying to be set on a copy of a slice from a DataFrame.\n",
      "Try using .loc[row_indexer,col_indexer] = value instead\n",
      "\n",
      "See the caveats in the documentation: https://pandas.pydata.org/pandas-docs/stable/user_guide/indexing.html#returning-a-view-versus-a-copy\n",
      "\n"
     ]
    }
   ],
   "source": [
    "#hide\n",
    "df_all = read_api()\n",
    "#df_all = df_all.drop(['SP500', 'XAU', 'ETH', 'BTC'], axis=1)\n",
    "\n"
   ]
  },
  {
   "cell_type": "code",
   "execution_count": 6,
   "id": "mature-alert",
   "metadata": {
    "execution": {
     "iopub.execute_input": "2022-06-02T03:16:35.687655Z",
     "iopub.status.busy": "2022-06-02T03:16:35.684679Z",
     "iopub.status.idle": "2022-06-02T03:16:35.714227Z",
     "shell.execute_reply": "2022-06-02T03:16:35.714651Z"
    },
    "papermill": {
     "duration": 0.046671,
     "end_time": "2022-06-02T03:16:35.714782",
     "exception": false,
     "start_time": "2022-06-02T03:16:35.668111",
     "status": "completed"
    },
    "tags": []
   },
   "outputs": [],
   "source": [
    "#hide_input\n",
    "sum_corr = df_all.corr().sum().sort_values(ascending=True).index.values\n",
    "#df_all[sum_corr].corr()"
   ]
  },
  {
   "cell_type": "markdown",
   "id": "complex-syndicate",
   "metadata": {
    "papermill": {
     "duration": 0.012624,
     "end_time": "2022-06-02T03:16:35.739301",
     "exception": false,
     "start_time": "2022-06-02T03:16:35.726677",
     "status": "completed"
    },
    "tags": []
   },
   "source": [
    "## Išplėstinė koreliacijų matrica. "
   ]
  },
  {
   "cell_type": "code",
   "execution_count": 7,
   "id": "atomic-omaha",
   "metadata": {
    "execution": {
     "iopub.execute_input": "2022-06-02T03:16:35.768039Z",
     "iopub.status.busy": "2022-06-02T03:16:35.767450Z",
     "iopub.status.idle": "2022-06-02T03:16:36.895135Z",
     "shell.execute_reply": "2022-06-02T03:16:36.895564Z"
    },
    "papermill": {
     "duration": 1.143664,
     "end_time": "2022-06-02T03:16:36.895689",
     "exception": false,
     "start_time": "2022-06-02T03:16:35.752025",
     "status": "completed"
    },
    "tags": []
   },
   "outputs": [
    {
     "data": {
      "image/png": "[encoded data removed]",
      "text/plain": [
       "<Figure size 1080x792 with 2 Axes>"
      ]
     },
     "metadata": {
      "needs_background": "light"
     },
     "output_type": "display_data"
    }
   ],
   "source": [
    "#hide_input\n",
    "plt.figure(figsize=(15, 11))\n",
    "sns.heatmap(df_all[sum_corr].corr(), annot=True, cmap=\"cubehelix\") \n",
    "sns.set(font_scale=1.25)\n",
    "plt.savefig('corr_matrix.png', format='eps')"
   ]
  },
  {
   "cell_type": "code",
   "execution_count": 8,
   "id": "arbitrary-sullivan",
   "metadata": {
    "execution": {
     "iopub.execute_input": "2022-06-02T03:16:36.929645Z",
     "iopub.status.busy": "2022-06-02T03:16:36.926016Z",
     "iopub.status.idle": "2022-06-02T03:16:36.952006Z",
     "shell.execute_reply": "2022-06-02T03:16:36.951562Z"
    },
    "papermill": {
     "duration": 0.042629,
     "end_time": "2022-06-02T03:16:36.952114",
     "exception": false,
     "start_time": "2022-06-02T03:16:36.909485",
     "status": "completed"
    },
    "tags": []
   },
   "outputs": [],
   "source": [
    "#hide\n",
    "#df_all_mrk = read_api()"
   ]
  },
  {
   "cell_type": "code",
   "execution_count": 9,
   "id": "delayed-adapter",
   "metadata": {
    "execution": {
     "iopub.execute_input": "2022-06-02T03:16:36.982224Z",
     "iopub.status.busy": "2022-06-02T03:16:36.981670Z",
     "iopub.status.idle": "2022-06-02T03:16:37.007686Z",
     "shell.execute_reply": "2022-06-02T03:16:37.007110Z"
    },
    "papermill": {
     "duration": 0.042061,
     "end_time": "2022-06-02T03:16:37.007793",
     "exception": false,
     "start_time": "2022-06-02T03:16:36.965732",
     "status": "completed"
    },
    "tags": []
   },
   "outputs": [],
   "source": [
    "#hide\n",
    "#Koreliacijų koeficientai"
   ]
  },
  {
   "cell_type": "code",
   "execution_count": 10,
   "id": "seeing-celebration",
   "metadata": {
    "execution": {
     "iopub.execute_input": "2022-06-02T03:16:37.039690Z",
     "iopub.status.busy": "2022-06-02T03:16:37.039119Z",
     "iopub.status.idle": "2022-06-02T03:16:37.064057Z",
     "shell.execute_reply": "2022-06-02T03:16:37.063593Z"
    },
    "papermill": {
     "duration": 0.04262,
     "end_time": "2022-06-02T03:16:37.064161",
     "exception": false,
     "start_time": "2022-06-02T03:16:37.021541",
     "status": "completed"
    },
    "tags": []
   },
   "outputs": [],
   "source": [
    "#hide_input\n",
    "#sum_corr = df_all_mrk.corr().sum().sort_values(ascending=True).index.values\n",
    "#df_all_mrk[sum_corr].corr()"
   ]
  },
  {
   "cell_type": "code",
   "execution_count": 11,
   "id": "other-painting",
   "metadata": {
    "execution": {
     "iopub.execute_input": "2022-06-02T03:16:37.094404Z",
     "iopub.status.busy": "2022-06-02T03:16:37.093857Z",
     "iopub.status.idle": "2022-06-02T03:16:37.118280Z",
     "shell.execute_reply": "2022-06-02T03:16:37.118692Z"
    },
    "papermill": {
     "duration": 0.041096,
     "end_time": "2022-06-02T03:16:37.118818",
     "exception": false,
     "start_time": "2022-06-02T03:16:37.077722",
     "status": "completed"
    },
    "tags": []
   },
   "outputs": [],
   "source": [
    "#hide\n",
    "#Koreliacijos matrica. "
   ]
  },
  {
   "cell_type": "code",
   "execution_count": 12,
   "id": "modular-magnitude",
   "metadata": {
    "execution": {
     "iopub.execute_input": "2022-06-02T03:16:37.149291Z",
     "iopub.status.busy": "2022-06-02T03:16:37.148713Z",
     "iopub.status.idle": "2022-06-02T03:16:37.174079Z",
     "shell.execute_reply": "2022-06-02T03:16:37.173530Z"
    },
    "papermill": {
     "duration": 0.041618,
     "end_time": "2022-06-02T03:16:37.174182",
     "exception": false,
     "start_time": "2022-06-02T03:16:37.132564",
     "status": "completed"
    },
    "tags": []
   },
   "outputs": [],
   "source": [
    "#hide_input\n",
    "#plt.figure(figsize=(15, 8))\n",
    "#sns.heatmap(df_all_mrk[sum_corr].corr(), annot=True, cmap=\"BrBG\");\n",
    "#plt.savefig('corr_matrix_all.eps', format='eps')"
   ]
  },
  {
   "cell_type": "code",
   "execution_count": null,
   "id": "original-senator",
   "metadata": {
    "papermill": {
     "duration": 0.013458,
     "end_time": "2022-06-02T03:16:37.201165",
     "exception": false,
     "start_time": "2022-06-02T03:16:37.187707",
     "status": "completed"
    },
    "tags": []
   },
   "outputs": [],
   "source": []
  },
  {
   "cell_type": "code",
   "execution_count": null,
   "id": "saving-secretariat",
   "metadata": {
    "papermill": {
     "duration": 0.013451,
     "end_time": "2022-06-02T03:16:37.228076",
     "exception": false,
     "start_time": "2022-06-02T03:16:37.214625",
     "status": "completed"
    },
    "tags": []
   },
   "outputs": [],
   "source": []
  }
 ],
 "metadata": {
  "kernelspec": {
   "display_name": "Python 3",
   "language": "python",
   "name": "python3"
  },
  "language_info": {
   "codemirror_mode": {
    "name": "ipython",
    "version": 3
   },
   "file_extension": ".py",
   "mimetype": "text/x-python",
   "name": "python",
   "nbconvert_exporter": "python",
   "pygments_lexer": "ipython3",
   "version": "3.6.15"
  },
  "papermill": {
   "default_parameters": {},
   "duration": 19.98973,
   "end_time": "2022-06-02T03:16:37.659103",
   "environment_variables": {},
   "exception": null,
   "input_path": "App-Correlation_charts.ipynb",
   "output_path": "App-Correlation_charts.ipynb",
   "parameters": {},
   "start_time": "2022-06-02T03:16:17.669373",
   "version": "2.2.2"
  }
 },
 "nbformat": 4,
 "nbformat_minor": 5
}