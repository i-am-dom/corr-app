{
 "cells": [
  {
   "cell_type": "markdown",
   "id": "touched-facility",
   "metadata": {
    "papermill": {
     "duration": 0.0153,
     "end_time": "2022-05-17T03:01:05.498686",
     "exception": false,
     "start_time": "2022-05-17T03:01:05.483386",
     "status": "completed"
    },
    "tags": []
   },
   "source": [
    "# Koreliacijų matrica\n",
    "> Išplėstinė koreliacijų matrica. \n",
    "\n",
    "- toc: true \n",
    "- badges: true\n",
    "- comments: false\n",
    "- categories: [Dominykas Tautkus]\n",
    "- image: images/matrix.png"
   ]
  },
  {
   "cell_type": "code",
   "execution_count": null,
   "id": "premium-weekend",
   "metadata": {
    "papermill": {
     "duration": 0.010496,
     "end_time": "2022-05-17T03:01:05.520474",
     "exception": false,
     "start_time": "2022-05-17T03:01:05.509978",
     "status": "completed"
    },
    "tags": []
   },
   "outputs": [],
   "source": []
  },
  {
   "cell_type": "code",
   "execution_count": 1,
   "id": "vertical-rebate",
   "metadata": {
    "execution": {
     "iopub.execute_input": "2022-05-17T03:01:05.551299Z",
     "iopub.status.busy": "2022-05-17T03:01:05.550781Z",
     "iopub.status.idle": "2022-05-17T03:01:05.561226Z",
     "shell.execute_reply": "2022-05-17T03:01:05.560817Z"
    },
    "papermill": {
     "duration": 0.030341,
     "end_time": "2022-05-17T03:01:05.561345",
     "exception": false,
     "start_time": "2022-05-17T03:01:05.531004",
     "status": "completed"
    },
    "tags": []
   },
   "outputs": [],
   "source": [
    "#hide\n",
    "%load_ext autoreload\n",
    "%autoreload 2"
   ]
  },
  {
   "cell_type": "code",
   "execution_count": 2,
   "id": "overall-advancement",
   "metadata": {
    "execution": {
     "iopub.execute_input": "2022-05-17T03:01:05.592172Z",
     "iopub.status.busy": "2022-05-17T03:01:05.591629Z",
     "iopub.status.idle": "2022-05-17T03:01:06.913709Z",
     "shell.execute_reply": "2022-05-17T03:01:06.913180Z"
    },
    "papermill": {
     "duration": 1.341982,
     "end_time": "2022-05-17T03:01:06.913849",
     "exception": false,
     "start_time": "2022-05-17T03:01:05.571867",
     "status": "completed"
    },
    "tags": []
   },
   "outputs": [],
   "source": [
    "#hide\n",
    "from scripts.read_data import read_api\n",
    "from IPython.display import HTML\n",
    "import plotly.graph_objects as go\n"
   ]
  },
  {
   "cell_type": "code",
   "execution_count": 3,
   "id": "light-crazy",
   "metadata": {
    "execution": {
     "iopub.execute_input": "2022-05-17T03:01:06.940445Z",
     "iopub.status.busy": "2022-05-17T03:01:06.939933Z",
     "iopub.status.idle": "2022-05-17T03:01:06.963384Z",
     "shell.execute_reply": "2022-05-17T03:01:06.962911Z"
    },
    "papermill": {
     "duration": 0.03796,
     "end_time": "2022-05-17T03:01:06.963511",
     "exception": false,
     "start_time": "2022-05-17T03:01:06.925551",
     "status": "completed"
    },
    "tags": []
   },
   "outputs": [],
   "source": [
    "#hide\n",
    "### ICO koreliacija"
   ]
  },
  {
   "cell_type": "code",
   "execution_count": 4,
   "id": "likely-bahrain",
   "metadata": {
    "execution": {
     "iopub.execute_input": "2022-05-17T03:01:06.989631Z",
     "iopub.status.busy": "2022-05-17T03:01:06.988420Z",
     "iopub.status.idle": "2022-05-17T03:01:07.831969Z",
     "shell.execute_reply": "2022-05-17T03:01:07.831490Z"
    },
    "papermill": {
     "duration": 0.857606,
     "end_time": "2022-05-17T03:01:07.832095",
     "exception": false,
     "start_time": "2022-05-17T03:01:06.974489",
     "status": "completed"
    },
    "tags": []
   },
   "outputs": [],
   "source": [
    "#hide\n",
    "import matplotlib.pyplot as plt\n",
    "import numpy as np\n",
    "import pandas as pd\n",
    "import seaborn as sns\n",
    "import matplotlib.pyplot as plt \n",
    "import matplotlib.dates as mdates\n",
    "import matplotlib.pyplot as plt"
   ]
  },
  {
   "cell_type": "code",
   "execution_count": 5,
   "id": "superior-blanket",
   "metadata": {
    "execution": {
     "iopub.execute_input": "2022-05-17T03:01:07.862393Z",
     "iopub.status.busy": "2022-05-17T03:01:07.861880Z",
     "iopub.status.idle": "2022-05-17T03:01:19.341814Z",
     "shell.execute_reply": "2022-05-17T03:01:19.341310Z"
    },
    "papermill": {
     "duration": 11.498922,
     "end_time": "2022-05-17T03:01:19.341942",
     "exception": false,
     "start_time": "2022-05-17T03:01:07.843020",
     "status": "completed"
    },
    "tags": []
   },
   "outputs": [
    {
     "name": "stderr",
     "output_type": "stream",
     "text": [
      "/home/runner/work/corr-app/corr-app/_notebooks/scripts/read_data.py:187: SettingWithCopyWarning:\n",
      "\n",
      "\n",
      "A value is trying to be set on a copy of a slice from a DataFrame.\n",
      "Try using .loc[row_indexer,col_indexer] = value instead\n",
      "\n",
      "See the caveats in the documentation: https://pandas.pydata.org/pandas-docs/stable/user_guide/indexing.html#returning-a-view-versus-a-copy\n",
      "\n"
     ]
    },
    {
     "name": "stderr",
     "output_type": "stream",
     "text": [
      "/home/runner/work/corr-app/corr-app/_notebooks/scripts/read_data.py:215: SettingWithCopyWarning:\n",
      "\n",
      "\n",
      "A value is trying to be set on a copy of a slice from a DataFrame.\n",
      "Try using .loc[row_indexer,col_indexer] = value instead\n",
      "\n",
      "See the caveats in the documentation: https://pandas.pydata.org/pandas-docs/stable/user_guide/indexing.html#returning-a-view-versus-a-copy\n",
      "\n"
     ]
    }
   ],
   "source": [
    "#hide\n",
    "df_all = read_api()\n",
    "#df_all = df_all.drop(['SP500', 'XAU', 'ETH', 'BTC'], axis=1)\n",
    "\n"
   ]
  },
  {
   "cell_type": "code",
   "execution_count": 6,
   "id": "mature-alert",
   "metadata": {
    "execution": {
     "iopub.execute_input": "2022-05-17T03:01:19.369880Z",
     "iopub.status.busy": "2022-05-17T03:01:19.369369Z",
     "iopub.status.idle": "2022-05-17T03:01:19.399265Z",
     "shell.execute_reply": "2022-05-17T03:01:19.399723Z"
    },
    "papermill": {
     "duration": 0.045357,
     "end_time": "2022-05-17T03:01:19.399870",
     "exception": false,
     "start_time": "2022-05-17T03:01:19.354513",
     "status": "completed"
    },
    "tags": []
   },
   "outputs": [],
   "source": [
    "#hide_input\n",
    "sum_corr = df_all.corr().sum().sort_values(ascending=True).index.values\n",
    "#df_all[sum_corr].corr()"
   ]
  },
  {
   "cell_type": "markdown",
   "id": "complex-syndicate",
   "metadata": {
    "papermill": {
     "duration": 0.011074,
     "end_time": "2022-05-17T03:01:19.422054",
     "exception": false,
     "start_time": "2022-05-17T03:01:19.410980",
     "status": "completed"
    },
    "tags": []
   },
   "source": [
    "## Išplėstinė koreliacijų matrica. "
   ]
  },
  {
   "cell_type": "code",
   "execution_count": 7,
   "id": "atomic-omaha",
   "metadata": {
    "execution": {
     "iopub.execute_input": "2022-05-17T03:01:19.453030Z",
     "iopub.status.busy": "2022-05-17T03:01:19.452517Z",
     "iopub.status.idle": "2022-05-17T03:01:20.698850Z",
     "shell.execute_reply": "2022-05-17T03:01:20.699311Z"
    },
    "papermill": {
     "duration": 1.266302,
     "end_time": "2022-05-17T03:01:20.699463",
     "exception": false,
     "start_time": "2022-05-17T03:01:19.433161",
     "status": "completed"
    },
    "tags": []
   },
   "outputs": [
    {
     "data": {
      "image/png": "[encoded data removed]",
      "text/plain": [
       "<Figure size 1080x792 with 2 Axes>"
      ]
     },
     "metadata": {
      "needs_background": "light"
     },
     "output_type": "display_data"
    }
   ],
   "source": [
    "#hide_input\n",
    "plt.figure(figsize=(15, 11))\n",
    "sns.heatmap(df_all[sum_corr].corr(), annot=True, cmap=\"cubehelix\") \n",
    "sns.set(font_scale=1.25)\n",
    "plt.savefig('corr_matrix.png', format='eps')"
   ]
  },
  {
   "cell_type": "code",
   "execution_count": 8,
   "id": "arbitrary-sullivan",
   "metadata": {
    "execution": {
     "iopub.execute_input": "2022-05-17T03:01:20.734421Z",
     "iopub.status.busy": "2022-05-17T03:01:20.733918Z",
     "iopub.status.idle": "2022-05-17T03:01:20.758682Z",
     "shell.execute_reply": "2022-05-17T03:01:20.758220Z"
    },
    "papermill": {
     "duration": 0.045266,
     "end_time": "2022-05-17T03:01:20.758810",
     "exception": false,
     "start_time": "2022-05-17T03:01:20.713544",
     "status": "completed"
    },
    "tags": []
   },
   "outputs": [],
   "source": [
    "#hide\n",
    "#df_all_mrk = read_api()"
   ]
  },
  {
   "cell_type": "code",
   "execution_count": 9,
   "id": "delayed-adapter",
   "metadata": {
    "execution": {
     "iopub.execute_input": "2022-05-17T03:01:20.792146Z",
     "iopub.status.busy": "2022-05-17T03:01:20.791590Z",
     "iopub.status.idle": "2022-05-17T03:01:20.817928Z",
     "shell.execute_reply": "2022-05-17T03:01:20.817439Z"
    },
    "papermill": {
     "duration": 0.045348,
     "end_time": "2022-05-17T03:01:20.818067",
     "exception": false,
     "start_time": "2022-05-17T03:01:20.772719",
     "status": "completed"
    },
    "tags": []
   },
   "outputs": [],
   "source": [
    "#hide\n",
    "#Koreliacijų koeficientai"
   ]
  },
  {
   "cell_type": "code",
   "execution_count": 10,
   "id": "seeing-celebration",
   "metadata": {
    "execution": {
     "iopub.execute_input": "2022-05-17T03:01:20.857260Z",
     "iopub.status.busy": "2022-05-17T03:01:20.856579Z",
     "iopub.status.idle": "2022-05-17T03:01:20.881677Z",
     "shell.execute_reply": "2022-05-17T03:01:20.881173Z"
    },
    "papermill": {
     "duration": 0.047236,
     "end_time": "2022-05-17T03:01:20.881815",
     "exception": false,
     "start_time": "2022-05-17T03:01:20.834579",
     "status": "completed"
    },
    "tags": []
   },
   "outputs": [],
   "source": [
    "#hide_input\n",
    "#sum_corr = df_all_mrk.corr().sum().sort_values(ascending=True).index.values\n",
    "#df_all_mrk[sum_corr].corr()"
   ]
  },
  {
   "cell_type": "code",
   "execution_count": 11,
   "id": "other-painting",
   "metadata": {
    "execution": {
     "iopub.execute_input": "2022-05-17T03:01:20.924755Z",
     "iopub.status.busy": "2022-05-17T03:01:20.917634Z",
     "iopub.status.idle": "2022-05-17T03:01:20.941447Z",
     "shell.execute_reply": "2022-05-17T03:01:20.940862Z"
    },
    "papermill": {
     "duration": 0.045644,
     "end_time": "2022-05-17T03:01:20.941569",
     "exception": false,
     "start_time": "2022-05-17T03:01:20.895925",
     "status": "completed"
    },
    "tags": []
   },
   "outputs": [],
   "source": [
    "#hide\n",
    "#Koreliacijos matrica. "
   ]
  },
  {
   "cell_type": "code",
   "execution_count": 12,
   "id": "modular-magnitude",
   "metadata": {
    "execution": {
     "iopub.execute_input": "2022-05-17T03:01:20.972944Z",
     "iopub.status.busy": "2022-05-17T03:01:20.972438Z",
     "iopub.status.idle": "2022-05-17T03:01:20.999398Z",
     "shell.execute_reply": "2022-05-17T03:01:20.999857Z"
    },
    "papermill": {
     "duration": 0.044299,
     "end_time": "2022-05-17T03:01:21.000010",
     "exception": false,
     "start_time": "2022-05-17T03:01:20.955711",
     "status": "completed"
    },
    "tags": []
   },
   "outputs": [],
   "source": [
    "#hide_input\n",
    "#plt.figure(figsize=(15, 8))\n",
    "#sns.heatmap(df_all_mrk[sum_corr].corr(), annot=True, cmap=\"BrBG\");\n",
    "#plt.savefig('corr_matrix_all.eps', format='eps')"
   ]
  },
  {
   "cell_type": "code",
   "execution_count": null,
   "id": "original-senator",
   "metadata": {
    "papermill": {
     "duration": 0.012935,
     "end_time": "2022-05-17T03:01:21.027501",
     "exception": false,
     "start_time": "2022-05-17T03:01:21.014566",
     "status": "completed"
    },
    "tags": []
   },
   "outputs": [],
   "source": []
  },
  {
   "cell_type": "code",
   "execution_count": null,
   "id": "saving-secretariat",
   "metadata": {
    "papermill": {
     "duration": 0.012923,
     "end_time": "2022-05-17T03:01:21.053420",
     "exception": false,
     "start_time": "2022-05-17T03:01:21.040497",
     "status": "completed"
    },
    "tags": []
   },
   "outputs": [],
   "source": []
  }
 ],
 "metadata": {
  "kernelspec": {
   "display_name": "Python 3",
   "language": "python",
   "name": "python3"
  },
  "language_info": {
   "codemirror_mode": {
    "name": "ipython",
    "version": 3
   },
   "file_extension": ".py",
   "mimetype": "text/x-python",
   "name": "python",
   "nbconvert_exporter": "python",
   "pygments_lexer": "ipython3",
   "version": "3.6.15"
  },
  "papermill": {
   "default_parameters": {},
   "duration": 17.04237,
   "end_time": "2022-05-17T03:01:21.585246",
   "environment_variables": {},
   "exception": null,
   "input_path": "App-Correlation_charts.ipynb",
   "output_path": "App-Correlation_charts.ipynb",
   "parameters": {},
   "start_time": "2022-05-17T03:01:04.542876",
   "version": "2.2.2"
  }
 },
 "nbformat": 4,
 "nbformat_minor": 5
}