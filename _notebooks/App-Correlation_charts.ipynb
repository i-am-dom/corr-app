{
 "cells": [
  {
   "cell_type": "markdown",
   "id": "touched-facility",
   "metadata": {
    "papermill": {
     "duration": 0.015813,
     "end_time": "2022-08-09T03:14:19.594960",
     "exception": false,
     "start_time": "2022-08-09T03:14:19.579147",
     "status": "completed"
    },
    "tags": []
   },
   "source": [
    "# Koreliacijų matrica\n",
    "> Išplėstinė koreliacijų matrica. \n",
    "\n",
    "- toc: true \n",
    "- badges: true\n",
    "- comments: false\n",
    "- categories: [Dominykas Tautkus]\n",
    "- image: images/matrix.png"
   ]
  },
  {
   "cell_type": "code",
   "execution_count": null,
   "id": "premium-weekend",
   "metadata": {
    "papermill": {
     "duration": 0.011411,
     "end_time": "2022-08-09T03:14:19.618012",
     "exception": false,
     "start_time": "2022-08-09T03:14:19.606601",
     "status": "completed"
    },
    "tags": []
   },
   "outputs": [],
   "source": []
  },
  {
   "cell_type": "code",
   "execution_count": 1,
   "id": "vertical-rebate",
   "metadata": {
    "execution": {
     "iopub.execute_input": "2022-08-09T03:14:19.651859Z",
     "iopub.status.busy": "2022-08-09T03:14:19.651228Z",
     "iopub.status.idle": "2022-08-09T03:14:19.662719Z",
     "shell.execute_reply": "2022-08-09T03:14:19.662207Z"
    },
    "papermill": {
     "duration": 0.033861,
     "end_time": "2022-08-09T03:14:19.662859",
     "exception": false,
     "start_time": "2022-08-09T03:14:19.628998",
     "status": "completed"
    },
    "tags": []
   },
   "outputs": [],
   "source": [
    "#hide\n",
    "%load_ext autoreload\n",
    "%autoreload 2"
   ]
  },
  {
   "cell_type": "code",
   "execution_count": 2,
   "id": "overall-advancement",
   "metadata": {
    "execution": {
     "iopub.execute_input": "2022-08-09T03:14:19.701195Z",
     "iopub.status.busy": "2022-08-09T03:14:19.697886Z",
     "iopub.status.idle": "2022-08-09T03:14:20.978470Z",
     "shell.execute_reply": "2022-08-09T03:14:20.977450Z"
    },
    "papermill": {
     "duration": 1.304848,
     "end_time": "2022-08-09T03:14:20.978607",
     "exception": false,
     "start_time": "2022-08-09T03:14:19.673759",
     "status": "completed"
    },
    "tags": []
   },
   "outputs": [],
   "source": [
    "#hide\n",
    "from scripts.read_data import read_api\n",
    "from IPython.display import HTML\n",
    "import plotly.graph_objects as go\n"
   ]
  },
  {
   "cell_type": "code",
   "execution_count": 3,
   "id": "light-crazy",
   "metadata": {
    "execution": {
     "iopub.execute_input": "2022-08-09T03:14:21.007843Z",
     "iopub.status.busy": "2022-08-09T03:14:21.006029Z",
     "iopub.status.idle": "2022-08-09T03:14:21.030438Z",
     "shell.execute_reply": "2022-08-09T03:14:21.029893Z"
    },
    "papermill": {
     "duration": 0.040842,
     "end_time": "2022-08-09T03:14:21.030584",
     "exception": false,
     "start_time": "2022-08-09T03:14:20.989742",
     "status": "completed"
    },
    "tags": []
   },
   "outputs": [],
   "source": [
    "#hide\n",
    "### ICO koreliacija"
   ]
  },
  {
   "cell_type": "code",
   "execution_count": 4,
   "id": "likely-bahrain",
   "metadata": {
    "execution": {
     "iopub.execute_input": "2022-08-09T03:14:21.057275Z",
     "iopub.status.busy": "2022-08-09T03:14:21.056678Z",
     "iopub.status.idle": "2022-08-09T03:14:21.944549Z",
     "shell.execute_reply": "2022-08-09T03:14:21.943302Z"
    },
    "papermill": {
     "duration": 0.903013,
     "end_time": "2022-08-09T03:14:21.944685",
     "exception": false,
     "start_time": "2022-08-09T03:14:21.041672",
     "status": "completed"
    },
    "tags": []
   },
   "outputs": [],
   "source": [
    "#hide\n",
    "import matplotlib.pyplot as plt\n",
    "import numpy as np\n",
    "import pandas as pd\n",
    "import seaborn as sns\n",
    "import matplotlib.pyplot as plt \n",
    "import matplotlib.dates as mdates\n",
    "import matplotlib.pyplot as plt"
   ]
  },
  {
   "cell_type": "code",
   "execution_count": 5,
   "id": "superior-blanket",
   "metadata": {
    "execution": {
     "iopub.execute_input": "2022-08-09T03:14:21.975828Z",
     "iopub.status.busy": "2022-08-09T03:14:21.972116Z",
     "iopub.status.idle": "2022-08-09T03:14:34.174032Z",
     "shell.execute_reply": "2022-08-09T03:14:34.173321Z"
    },
    "papermill": {
     "duration": 12.218416,
     "end_time": "2022-08-09T03:14:34.174171",
     "exception": false,
     "start_time": "2022-08-09T03:14:21.955755",
     "status": "completed"
    },
    "tags": []
   },
   "outputs": [
    {
     "name": "stderr",
     "output_type": "stream",
     "text": [
      "/home/runner/work/corr-app/corr-app/_notebooks/scripts/read_data.py:187: SettingWithCopyWarning:\n",
      "\n",
      "\n",
      "A value is trying to be set on a copy of a slice from a DataFrame.\n",
      "Try using .loc[row_indexer,col_indexer] = value instead\n",
      "\n",
      "See the caveats in the documentation: https://pandas.pydata.org/pandas-docs/stable/user_guide/indexing.html#returning-a-view-versus-a-copy\n",
      "\n"
     ]
    },
    {
     "name": "stderr",
     "output_type": "stream",
     "text": [
      "/home/runner/work/corr-app/corr-app/_notebooks/scripts/read_data.py:215: SettingWithCopyWarning:\n",
      "\n",
      "\n",
      "A value is trying to be set on a copy of a slice from a DataFrame.\n",
      "Try using .loc[row_indexer,col_indexer] = value instead\n",
      "\n",
      "See the caveats in the documentation: https://pandas.pydata.org/pandas-docs/stable/user_guide/indexing.html#returning-a-view-versus-a-copy\n",
      "\n"
     ]
    }
   ],
   "source": [
    "#hide\n",
    "df_all = read_api()\n",
    "#df_all = df_all.drop(['SP500', 'XAU', 'ETH', 'BTC'], axis=1)\n",
    "\n"
   ]
  },
  {
   "cell_type": "code",
   "execution_count": 6,
   "id": "mature-alert",
   "metadata": {
    "execution": {
     "iopub.execute_input": "2022-08-09T03:14:34.209971Z",
     "iopub.status.busy": "2022-08-09T03:14:34.209372Z",
     "iopub.status.idle": "2022-08-09T03:14:34.243123Z",
     "shell.execute_reply": "2022-08-09T03:14:34.242480Z"
    },
    "papermill": {
     "duration": 0.054182,
     "end_time": "2022-08-09T03:14:34.243268",
     "exception": false,
     "start_time": "2022-08-09T03:14:34.189086",
     "status": "completed"
    },
    "tags": []
   },
   "outputs": [],
   "source": [
    "#hide_input\n",
    "sum_corr = df_all.corr().sum().sort_values(ascending=True).index.values\n",
    "#df_all[sum_corr].corr()"
   ]
  },
  {
   "cell_type": "markdown",
   "id": "complex-syndicate",
   "metadata": {
    "papermill": {
     "duration": 0.013267,
     "end_time": "2022-08-09T03:14:34.277019",
     "exception": false,
     "start_time": "2022-08-09T03:14:34.263752",
     "status": "completed"
    },
    "tags": []
   },
   "source": [
    "## Išplėstinė koreliacijų matrica. "
   ]
  },
  {
   "cell_type": "code",
   "execution_count": 7,
   "id": "atomic-omaha",
   "metadata": {
    "execution": {
     "iopub.execute_input": "2022-08-09T03:14:34.311555Z",
     "iopub.status.busy": "2022-08-09T03:14:34.310934Z",
     "iopub.status.idle": "2022-08-09T03:14:35.529414Z",
     "shell.execute_reply": "2022-08-09T03:14:35.529858Z"
    },
    "papermill": {
     "duration": 1.238228,
     "end_time": "2022-08-09T03:14:35.530008",
     "exception": false,
     "start_time": "2022-08-09T03:14:34.291780",
     "status": "completed"
    },
    "tags": []
   },
   "outputs": [
    {
     "data": {
      "image/png": "[encoded data removed]",
      "text/plain": [
       "<Figure size 1080x792 with 2 Axes>"
      ]
     },
     "metadata": {
      "needs_background": "light"
     },
     "output_type": "display_data"
    }
   ],
   "source": [
    "#hide_input\n",
    "plt.figure(figsize=(15, 11))\n",
    "sns.heatmap(df_all[sum_corr].corr(), annot=True, cmap=\"cubehelix\") \n",
    "sns.set(font_scale=1.25)\n",
    "plt.savefig('corr_matrix.png', format='eps')"
   ]
  },
  {
   "cell_type": "code",
   "execution_count": 8,
   "id": "arbitrary-sullivan",
   "metadata": {
    "execution": {
     "iopub.execute_input": "2022-08-09T03:14:35.565871Z",
     "iopub.status.busy": "2022-08-09T03:14:35.565260Z",
     "iopub.status.idle": "2022-08-09T03:14:35.592059Z",
     "shell.execute_reply": "2022-08-09T03:14:35.591476Z"
    },
    "papermill": {
     "duration": 0.04822,
     "end_time": "2022-08-09T03:14:35.592198",
     "exception": false,
     "start_time": "2022-08-09T03:14:35.543978",
     "status": "completed"
    },
    "tags": []
   },
   "outputs": [],
   "source": [
    "#hide\n",
    "#df_all_mrk = read_api()"
   ]
  },
  {
   "cell_type": "code",
   "execution_count": 9,
   "id": "delayed-adapter",
   "metadata": {
    "execution": {
     "iopub.execute_input": "2022-08-09T03:14:35.630901Z",
     "iopub.status.busy": "2022-08-09T03:14:35.630288Z",
     "iopub.status.idle": "2022-08-09T03:14:35.655020Z",
     "shell.execute_reply": "2022-08-09T03:14:35.654444Z"
    },
    "papermill": {
     "duration": 0.048424,
     "end_time": "2022-08-09T03:14:35.655160",
     "exception": false,
     "start_time": "2022-08-09T03:14:35.606736",
     "status": "completed"
    },
    "tags": []
   },
   "outputs": [],
   "source": [
    "#hide\n",
    "#Koreliacijų koeficientai"
   ]
  },
  {
   "cell_type": "code",
   "execution_count": 10,
   "id": "seeing-celebration",
   "metadata": {
    "execution": {
     "iopub.execute_input": "2022-08-09T03:14:35.697249Z",
     "iopub.status.busy": "2022-08-09T03:14:35.696613Z",
     "iopub.status.idle": "2022-08-09T03:14:35.718835Z",
     "shell.execute_reply": "2022-08-09T03:14:35.718362Z"
    },
    "papermill": {
     "duration": 0.04933,
     "end_time": "2022-08-09T03:14:35.718966",
     "exception": false,
     "start_time": "2022-08-09T03:14:35.669636",
     "status": "completed"
    },
    "tags": []
   },
   "outputs": [],
   "source": [
    "#hide_input\n",
    "#sum_corr = df_all_mrk.corr().sum().sort_values(ascending=True).index.values\n",
    "#df_all_mrk[sum_corr].corr()"
   ]
  },
  {
   "cell_type": "code",
   "execution_count": 11,
   "id": "other-painting",
   "metadata": {
    "execution": {
     "iopub.execute_input": "2022-08-09T03:14:35.751214Z",
     "iopub.status.busy": "2022-08-09T03:14:35.750594Z",
     "iopub.status.idle": "2022-08-09T03:14:35.778741Z",
     "shell.execute_reply": "2022-08-09T03:14:35.778159Z"
    },
    "papermill": {
     "duration": 0.046135,
     "end_time": "2022-08-09T03:14:35.778883",
     "exception": false,
     "start_time": "2022-08-09T03:14:35.732748",
     "status": "completed"
    },
    "tags": []
   },
   "outputs": [],
   "source": [
    "#hide\n",
    "#Koreliacijos matrica. "
   ]
  },
  {
   "cell_type": "code",
   "execution_count": 12,
   "id": "modular-magnitude",
   "metadata": {
    "execution": {
     "iopub.execute_input": "2022-08-09T03:14:35.810987Z",
     "iopub.status.busy": "2022-08-09T03:14:35.810376Z",
     "iopub.status.idle": "2022-08-09T03:14:35.839050Z",
     "shell.execute_reply": "2022-08-09T03:14:35.838475Z"
    },
    "papermill": {
     "duration": 0.046206,
     "end_time": "2022-08-09T03:14:35.839198",
     "exception": false,
     "start_time": "2022-08-09T03:14:35.792992",
     "status": "completed"
    },
    "tags": []
   },
   "outputs": [],
   "source": [
    "#hide_input\n",
    "#plt.figure(figsize=(15, 8))\n",
    "#sns.heatmap(df_all_mrk[sum_corr].corr(), annot=True, cmap=\"BrBG\");\n",
    "#plt.savefig('corr_matrix_all.eps', format='eps')"
   ]
  },
  {
   "cell_type": "code",
   "execution_count": null,
   "id": "original-senator",
   "metadata": {
    "papermill": {
     "duration": 0.013464,
     "end_time": "2022-08-09T03:14:35.866668",
     "exception": false,
     "start_time": "2022-08-09T03:14:35.853204",
     "status": "completed"
    },
    "tags": []
   },
   "outputs": [],
   "source": []
  },
  {
   "cell_type": "code",
   "execution_count": null,
   "id": "saving-secretariat",
   "metadata": {
    "papermill": {
     "duration": 0.013377,
     "end_time": "2022-08-09T03:14:35.893423",
     "exception": false,
     "start_time": "2022-08-09T03:14:35.880046",
     "status": "completed"
    },
    "tags": []
   },
   "outputs": [],
   "source": []
  }
 ],
 "metadata": {
  "kernelspec": {
   "display_name": "Python 3",
   "language": "python",
   "name": "python3"
  },
  "language_info": {
   "codemirror_mode": {
    "name": "ipython",
    "version": 3
   },
   "file_extension": ".py",
   "mimetype": "text/x-python",
   "name": "python",
   "nbconvert_exporter": "python",
   "pygments_lexer": "ipython3",
   "version": "3.6.15"
  },
  "papermill": {
   "default_parameters": {},
   "duration": 18.193331,
   "end_time": "2022-08-09T03:14:36.527798",
   "environment_variables": {},
   "exception": null,
   "input_path": "App-Correlation_charts.ipynb",
   "output_path": "App-Correlation_charts.ipynb",
   "parameters": {},
   "start_time": "2022-08-09T03:14:18.334467",
   "version": "2.2.2"
  }
 },
 "nbformat": 4,
 "nbformat_minor": 5
}