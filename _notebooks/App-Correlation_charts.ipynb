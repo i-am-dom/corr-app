{
 "cells": [
  {
   "cell_type": "markdown",
   "id": "touched-facility",
   "metadata": {
    "papermill": {
     "duration": 0.015234,
     "end_time": "2022-01-30T01:57:20.432052",
     "exception": false,
     "start_time": "2022-01-30T01:57:20.416818",
     "status": "completed"
    },
    "tags": []
   },
   "source": [
    "# Koreliacijų matrica\n",
    "> Išplėstinė koreliacijų matrica. \n",
    "\n",
    "- toc: true \n",
    "- badges: true\n",
    "- comments: false\n",
    "- categories: [Dominykas Tautkus]\n",
    "- image: images/matrix.png"
   ]
  },
  {
   "cell_type": "code",
   "execution_count": null,
   "id": "premium-weekend",
   "metadata": {
    "papermill": {
     "duration": 0.010959,
     "end_time": "2022-01-30T01:57:20.454518",
     "exception": false,
     "start_time": "2022-01-30T01:57:20.443559",
     "status": "completed"
    },
    "tags": []
   },
   "outputs": [],
   "source": []
  },
  {
   "cell_type": "code",
   "execution_count": 1,
   "id": "vertical-rebate",
   "metadata": {
    "execution": {
     "iopub.execute_input": "2022-01-30T01:57:20.487057Z",
     "iopub.status.busy": "2022-01-30T01:57:20.486514Z",
     "iopub.status.idle": "2022-01-30T01:57:20.497195Z",
     "shell.execute_reply": "2022-01-30T01:57:20.496712Z"
    },
    "papermill": {
     "duration": 0.032155,
     "end_time": "2022-01-30T01:57:20.497324",
     "exception": false,
     "start_time": "2022-01-30T01:57:20.465169",
     "status": "completed"
    },
    "tags": []
   },
   "outputs": [],
   "source": [
    "#hide\n",
    "%load_ext autoreload\n",
    "%autoreload 2"
   ]
  },
  {
   "cell_type": "code",
   "execution_count": 2,
   "id": "overall-advancement",
   "metadata": {
    "execution": {
     "iopub.execute_input": "2022-01-30T01:57:20.522696Z",
     "iopub.status.busy": "2022-01-30T01:57:20.522168Z",
     "iopub.status.idle": "2022-01-30T01:57:21.743161Z",
     "shell.execute_reply": "2022-01-30T01:57:21.742621Z"
    },
    "papermill": {
     "duration": 1.235252,
     "end_time": "2022-01-30T01:57:21.743307",
     "exception": false,
     "start_time": "2022-01-30T01:57:20.508055",
     "status": "completed"
    },
    "tags": []
   },
   "outputs": [],
   "source": [
    "#hide\n",
    "from scripts.read_data import read_api\n",
    "from IPython.display import HTML\n",
    "import plotly.graph_objects as go\n"
   ]
  },
  {
   "cell_type": "code",
   "execution_count": 3,
   "id": "light-crazy",
   "metadata": {
    "execution": {
     "iopub.execute_input": "2022-01-30T01:57:21.860082Z",
     "iopub.status.busy": "2022-01-30T01:57:21.859133Z",
     "iopub.status.idle": "2022-01-30T01:57:21.878480Z",
     "shell.execute_reply": "2022-01-30T01:57:21.877765Z"
    },
    "papermill": {
     "duration": 0.069439,
     "end_time": "2022-01-30T01:57:21.878610",
     "exception": false,
     "start_time": "2022-01-30T01:57:21.809171",
     "status": "completed"
    },
    "tags": []
   },
   "outputs": [],
   "source": [
    "#hide\n",
    "### ICO koreliacija"
   ]
  },
  {
   "cell_type": "code",
   "execution_count": 4,
   "id": "likely-bahrain",
   "metadata": {
    "execution": {
     "iopub.execute_input": "2022-01-30T01:57:21.914040Z",
     "iopub.status.busy": "2022-01-30T01:57:21.913495Z",
     "iopub.status.idle": "2022-01-30T01:57:22.960624Z",
     "shell.execute_reply": "2022-01-30T01:57:22.960108Z"
    },
    "papermill": {
     "duration": 1.067758,
     "end_time": "2022-01-30T01:57:22.960780",
     "exception": false,
     "start_time": "2022-01-30T01:57:21.893022",
     "status": "completed"
    },
    "tags": []
   },
   "outputs": [],
   "source": [
    "#hide\n",
    "import matplotlib.pyplot as plt\n",
    "import numpy as np\n",
    "import pandas as pd\n",
    "import seaborn as sns\n",
    "import matplotlib.pyplot as plt \n",
    "import matplotlib.dates as mdates\n",
    "import matplotlib.pyplot as plt"
   ]
  },
  {
   "cell_type": "code",
   "execution_count": 5,
   "id": "superior-blanket",
   "metadata": {
    "execution": {
     "iopub.execute_input": "2022-01-30T01:57:23.053376Z",
     "iopub.status.busy": "2022-01-30T01:57:23.052804Z",
     "iopub.status.idle": "2022-01-30T01:57:34.419498Z",
     "shell.execute_reply": "2022-01-30T01:57:34.418986Z"
    },
    "papermill": {
     "duration": 11.432645,
     "end_time": "2022-01-30T01:57:34.419625",
     "exception": false,
     "start_time": "2022-01-30T01:57:22.986980",
     "status": "completed"
    },
    "tags": []
   },
   "outputs": [
    {
     "name": "stderr",
     "output_type": "stream",
     "text": [
      "/home/runner/work/corr-app/corr-app/_notebooks/scripts/read_data.py:187: SettingWithCopyWarning:\n",
      "\n",
      "\n",
      "A value is trying to be set on a copy of a slice from a DataFrame.\n",
      "Try using .loc[row_indexer,col_indexer] = value instead\n",
      "\n",
      "See the caveats in the documentation: https://pandas.pydata.org/pandas-docs/stable/user_guide/indexing.html#returning-a-view-versus-a-copy\n",
      "\n"
     ]
    },
    {
     "name": "stderr",
     "output_type": "stream",
     "text": [
      "/home/runner/work/corr-app/corr-app/_notebooks/scripts/read_data.py:215: SettingWithCopyWarning:\n",
      "\n",
      "\n",
      "A value is trying to be set on a copy of a slice from a DataFrame.\n",
      "Try using .loc[row_indexer,col_indexer] = value instead\n",
      "\n",
      "See the caveats in the documentation: https://pandas.pydata.org/pandas-docs/stable/user_guide/indexing.html#returning-a-view-versus-a-copy\n",
      "\n"
     ]
    }
   ],
   "source": [
    "#hide\n",
    "df_all = read_api()\n",
    "#df_all = df_all.drop(['SP500', 'XAU', 'ETH', 'BTC'], axis=1)\n",
    "\n"
   ]
  },
  {
   "cell_type": "code",
   "execution_count": 6,
   "id": "mature-alert",
   "metadata": {
    "execution": {
     "iopub.execute_input": "2022-01-30T01:57:34.447627Z",
     "iopub.status.busy": "2022-01-30T01:57:34.447087Z",
     "iopub.status.idle": "2022-01-30T01:57:34.476956Z",
     "shell.execute_reply": "2022-01-30T01:57:34.476434Z"
    },
    "papermill": {
     "duration": 0.045666,
     "end_time": "2022-01-30T01:57:34.477083",
     "exception": false,
     "start_time": "2022-01-30T01:57:34.431417",
     "status": "completed"
    },
    "tags": []
   },
   "outputs": [],
   "source": [
    "#hide_input\n",
    "sum_corr = df_all.corr().sum().sort_values(ascending=True).index.values\n",
    "#df_all[sum_corr].corr()"
   ]
  },
  {
   "cell_type": "markdown",
   "id": "complex-syndicate",
   "metadata": {
    "papermill": {
     "duration": 0.011381,
     "end_time": "2022-01-30T01:57:34.500161",
     "exception": false,
     "start_time": "2022-01-30T01:57:34.488780",
     "status": "completed"
    },
    "tags": []
   },
   "source": [
    "## Išplėstinė koreliacijų matrica. "
   ]
  },
  {
   "cell_type": "code",
   "execution_count": 7,
   "id": "atomic-omaha",
   "metadata": {
    "execution": {
     "iopub.execute_input": "2022-01-30T01:57:34.526645Z",
     "iopub.status.busy": "2022-01-30T01:57:34.526138Z",
     "iopub.status.idle": "2022-01-30T01:57:35.778500Z",
     "shell.execute_reply": "2022-01-30T01:57:35.778896Z"
    },
    "papermill": {
     "duration": 1.267773,
     "end_time": "2022-01-30T01:57:35.779049",
     "exception": false,
     "start_time": "2022-01-30T01:57:34.511276",
     "status": "completed"
    },
    "tags": []
   },
   "outputs": [
    {
     "data": {
      "image/png": "[encoded data removed]",
      "text/plain": [
       "<Figure size 1080x792 with 2 Axes>"
      ]
     },
     "metadata": {
      "needs_background": "light"
     },
     "output_type": "display_data"
    }
   ],
   "source": [
    "#hide_input\n",
    "plt.figure(figsize=(15, 11))\n",
    "sns.heatmap(df_all[sum_corr].corr(), annot=True, cmap=\"cubehelix\") \n",
    "sns.set(font_scale=1.25)\n",
    "plt.savefig('corr_matrix.png', format='eps')"
   ]
  },
  {
   "cell_type": "code",
   "execution_count": 8,
   "id": "arbitrary-sullivan",
   "metadata": {
    "execution": {
     "iopub.execute_input": "2022-01-30T01:57:35.809805Z",
     "iopub.status.busy": "2022-01-30T01:57:35.809284Z",
     "iopub.status.idle": "2022-01-30T01:57:35.836391Z",
     "shell.execute_reply": "2022-01-30T01:57:35.835888Z"
    },
    "papermill": {
     "duration": 0.043834,
     "end_time": "2022-01-30T01:57:35.836519",
     "exception": false,
     "start_time": "2022-01-30T01:57:35.792685",
     "status": "completed"
    },
    "tags": []
   },
   "outputs": [],
   "source": [
    "#hide\n",
    "#df_all_mrk = read_api()"
   ]
  },
  {
   "cell_type": "code",
   "execution_count": 9,
   "id": "delayed-adapter",
   "metadata": {
    "execution": {
     "iopub.execute_input": "2022-01-30T01:57:35.868188Z",
     "iopub.status.busy": "2022-01-30T01:57:35.867669Z",
     "iopub.status.idle": "2022-01-30T01:57:35.892764Z",
     "shell.execute_reply": "2022-01-30T01:57:35.892273Z"
    },
    "papermill": {
     "duration": 0.043051,
     "end_time": "2022-01-30T01:57:35.892898",
     "exception": false,
     "start_time": "2022-01-30T01:57:35.849847",
     "status": "completed"
    },
    "tags": []
   },
   "outputs": [],
   "source": [
    "#hide\n",
    "#Koreliacijų koeficientai"
   ]
  },
  {
   "cell_type": "code",
   "execution_count": 10,
   "id": "seeing-celebration",
   "metadata": {
    "execution": {
     "iopub.execute_input": "2022-01-30T01:57:35.946676Z",
     "iopub.status.busy": "2022-01-30T01:57:35.945802Z",
     "iopub.status.idle": "2022-01-30T01:57:35.958338Z",
     "shell.execute_reply": "2022-01-30T01:57:35.958721Z"
    },
    "papermill": {
     "duration": 0.051882,
     "end_time": "2022-01-30T01:57:35.958856",
     "exception": false,
     "start_time": "2022-01-30T01:57:35.906974",
     "status": "completed"
    },
    "tags": []
   },
   "outputs": [],
   "source": [
    "#hide_input\n",
    "#sum_corr = df_all_mrk.corr().sum().sort_values(ascending=True).index.values\n",
    "#df_all_mrk[sum_corr].corr()"
   ]
  },
  {
   "cell_type": "code",
   "execution_count": 11,
   "id": "other-painting",
   "metadata": {
    "execution": {
     "iopub.execute_input": "2022-01-30T01:57:35.988459Z",
     "iopub.status.busy": "2022-01-30T01:57:35.987952Z",
     "iopub.status.idle": "2022-01-30T01:57:36.014275Z",
     "shell.execute_reply": "2022-01-30T01:57:36.014719Z"
    },
    "papermill": {
     "duration": 0.042749,
     "end_time": "2022-01-30T01:57:36.014872",
     "exception": false,
     "start_time": "2022-01-30T01:57:35.972123",
     "status": "completed"
    },
    "tags": []
   },
   "outputs": [],
   "source": [
    "#hide\n",
    "#Koreliacijos matrica. "
   ]
  },
  {
   "cell_type": "code",
   "execution_count": 12,
   "id": "modular-magnitude",
   "metadata": {
    "execution": {
     "iopub.execute_input": "2022-01-30T01:57:36.058595Z",
     "iopub.status.busy": "2022-01-30T01:57:36.057681Z",
     "iopub.status.idle": "2022-01-30T01:57:36.076806Z",
     "shell.execute_reply": "2022-01-30T01:57:36.076105Z"
    },
    "papermill": {
     "duration": 0.047924,
     "end_time": "2022-01-30T01:57:36.076929",
     "exception": false,
     "start_time": "2022-01-30T01:57:36.029005",
     "status": "completed"
    },
    "tags": []
   },
   "outputs": [],
   "source": [
    "#hide_input\n",
    "#plt.figure(figsize=(15, 8))\n",
    "#sns.heatmap(df_all_mrk[sum_corr].corr(), annot=True, cmap=\"BrBG\");\n",
    "#plt.savefig('corr_matrix_all.eps', format='eps')"
   ]
  },
  {
   "cell_type": "code",
   "execution_count": null,
   "id": "original-senator",
   "metadata": {
    "papermill": {
     "duration": 0.013208,
     "end_time": "2022-01-30T01:57:36.103571",
     "exception": false,
     "start_time": "2022-01-30T01:57:36.090363",
     "status": "completed"
    },
    "tags": []
   },
   "outputs": [],
   "source": []
  },
  {
   "cell_type": "code",
   "execution_count": null,
   "id": "saving-secretariat",
   "metadata": {
    "papermill": {
     "duration": 0.013946,
     "end_time": "2022-01-30T01:57:36.131566",
     "exception": false,
     "start_time": "2022-01-30T01:57:36.117620",
     "status": "completed"
    },
    "tags": []
   },
   "outputs": [],
   "source": []
  }
 ],
 "metadata": {
  "kernelspec": {
   "display_name": "Python 3",
   "language": "python",
   "name": "python3"
  },
  "language_info": {
   "codemirror_mode": {
    "name": "ipython",
    "version": 3
   },
   "file_extension": ".py",
   "mimetype": "text/x-python",
   "name": "python",
   "nbconvert_exporter": "python",
   "pygments_lexer": "ipython3",
   "version": "3.6.15"
  },
  "papermill": {
   "default_parameters": {},
   "duration": 17.186271,
   "end_time": "2022-01-30T01:57:36.665575",
   "environment_variables": {},
   "exception": null,
   "input_path": "App-Correlation_charts.ipynb",
   "output_path": "App-Correlation_charts.ipynb",
   "parameters": {},
   "start_time": "2022-01-30T01:57:19.479304",
   "version": "2.2.2"
  }
 },
 "nbformat": 4,
 "nbformat_minor": 5
}