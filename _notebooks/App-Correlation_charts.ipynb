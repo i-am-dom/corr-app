{
 "cells": [
  {
   "cell_type": "markdown",
   "id": "touched-facility",
   "metadata": {
    "papermill": {
     "duration": 0.017751,
     "end_time": "2022-03-17T02:18:01.511780",
     "exception": false,
     "start_time": "2022-03-17T02:18:01.494029",
     "status": "completed"
    },
    "tags": []
   },
   "source": [
    "# Koreliacijų matrica\n",
    "> Išplėstinė koreliacijų matrica. \n",
    "\n",
    "- toc: true \n",
    "- badges: true\n",
    "- comments: false\n",
    "- categories: [Dominykas Tautkus]\n",
    "- image: images/matrix.png"
   ]
  },
  {
   "cell_type": "code",
   "execution_count": null,
   "id": "premium-weekend",
   "metadata": {
    "papermill": {
     "duration": 0.013918,
     "end_time": "2022-03-17T02:18:01.539604",
     "exception": false,
     "start_time": "2022-03-17T02:18:01.525686",
     "status": "completed"
    },
    "tags": []
   },
   "outputs": [],
   "source": []
  },
  {
   "cell_type": "code",
   "execution_count": 1,
   "id": "vertical-rebate",
   "metadata": {
    "execution": {
     "iopub.execute_input": "2022-03-17T02:18:01.579104Z",
     "iopub.status.busy": "2022-03-17T02:18:01.578225Z",
     "iopub.status.idle": "2022-03-17T02:18:01.590062Z",
     "shell.execute_reply": "2022-03-17T02:18:01.589486Z"
    },
    "papermill": {
     "duration": 0.036791,
     "end_time": "2022-03-17T02:18:01.590187",
     "exception": false,
     "start_time": "2022-03-17T02:18:01.553396",
     "status": "completed"
    },
    "tags": []
   },
   "outputs": [],
   "source": [
    "#hide\n",
    "%load_ext autoreload\n",
    "%autoreload 2"
   ]
  },
  {
   "cell_type": "code",
   "execution_count": 2,
   "id": "overall-advancement",
   "metadata": {
    "execution": {
     "iopub.execute_input": "2022-03-17T02:18:01.619972Z",
     "iopub.status.busy": "2022-03-17T02:18:01.619278Z",
     "iopub.status.idle": "2022-03-17T02:18:03.129601Z",
     "shell.execute_reply": "2022-03-17T02:18:03.128559Z"
    },
    "papermill": {
     "duration": 1.527221,
     "end_time": "2022-03-17T02:18:03.129745",
     "exception": false,
     "start_time": "2022-03-17T02:18:01.602524",
     "status": "completed"
    },
    "tags": []
   },
   "outputs": [],
   "source": [
    "#hide\n",
    "from scripts.read_data import read_api\n",
    "from IPython.display import HTML\n",
    "import plotly.graph_objects as go\n"
   ]
  },
  {
   "cell_type": "code",
   "execution_count": 3,
   "id": "light-crazy",
   "metadata": {
    "execution": {
     "iopub.execute_input": "2022-03-17T02:18:03.163047Z",
     "iopub.status.busy": "2022-03-17T02:18:03.162283Z",
     "iopub.status.idle": "2022-03-17T02:18:03.186900Z",
     "shell.execute_reply": "2022-03-17T02:18:03.186326Z"
    },
    "papermill": {
     "duration": 0.043476,
     "end_time": "2022-03-17T02:18:03.187048",
     "exception": false,
     "start_time": "2022-03-17T02:18:03.143572",
     "status": "completed"
    },
    "tags": []
   },
   "outputs": [],
   "source": [
    "#hide\n",
    "### ICO koreliacija"
   ]
  },
  {
   "cell_type": "code",
   "execution_count": 4,
   "id": "likely-bahrain",
   "metadata": {
    "execution": {
     "iopub.execute_input": "2022-03-17T02:18:03.220119Z",
     "iopub.status.busy": "2022-03-17T02:18:03.219413Z",
     "iopub.status.idle": "2022-03-17T02:18:04.291245Z",
     "shell.execute_reply": "2022-03-17T02:18:04.290604Z"
    },
    "papermill": {
     "duration": 1.089777,
     "end_time": "2022-03-17T02:18:04.291422",
     "exception": false,
     "start_time": "2022-03-17T02:18:03.201645",
     "status": "completed"
    },
    "tags": []
   },
   "outputs": [],
   "source": [
    "#hide\n",
    "import matplotlib.pyplot as plt\n",
    "import numpy as np\n",
    "import pandas as pd\n",
    "import seaborn as sns\n",
    "import matplotlib.pyplot as plt \n",
    "import matplotlib.dates as mdates\n",
    "import matplotlib.pyplot as plt"
   ]
  },
  {
   "cell_type": "code",
   "execution_count": 5,
   "id": "superior-blanket",
   "metadata": {
    "execution": {
     "iopub.execute_input": "2022-03-17T02:18:04.325240Z",
     "iopub.status.busy": "2022-03-17T02:18:04.324476Z",
     "iopub.status.idle": "2022-03-17T02:18:15.957213Z",
     "shell.execute_reply": "2022-03-17T02:18:15.956167Z"
    },
    "papermill": {
     "duration": 11.651881,
     "end_time": "2022-03-17T02:18:15.957367",
     "exception": false,
     "start_time": "2022-03-17T02:18:04.305486",
     "status": "completed"
    },
    "tags": []
   },
   "outputs": [
    {
     "name": "stderr",
     "output_type": "stream",
     "text": [
      "/home/runner/work/corr-app/corr-app/_notebooks/scripts/read_data.py:187: SettingWithCopyWarning:\n",
      "\n",
      "\n",
      "A value is trying to be set on a copy of a slice from a DataFrame.\n",
      "Try using .loc[row_indexer,col_indexer] = value instead\n",
      "\n",
      "See the caveats in the documentation: https://pandas.pydata.org/pandas-docs/stable/user_guide/indexing.html#returning-a-view-versus-a-copy\n",
      "\n"
     ]
    },
    {
     "name": "stderr",
     "output_type": "stream",
     "text": [
      "/home/runner/work/corr-app/corr-app/_notebooks/scripts/read_data.py:215: SettingWithCopyWarning:\n",
      "\n",
      "\n",
      "A value is trying to be set on a copy of a slice from a DataFrame.\n",
      "Try using .loc[row_indexer,col_indexer] = value instead\n",
      "\n",
      "See the caveats in the documentation: https://pandas.pydata.org/pandas-docs/stable/user_guide/indexing.html#returning-a-view-versus-a-copy\n",
      "\n"
     ]
    }
   ],
   "source": [
    "#hide\n",
    "df_all = read_api()\n",
    "#df_all = df_all.drop(['SP500', 'XAU', 'ETH', 'BTC'], axis=1)\n",
    "\n"
   ]
  },
  {
   "cell_type": "code",
   "execution_count": 6,
   "id": "mature-alert",
   "metadata": {
    "execution": {
     "iopub.execute_input": "2022-03-17T02:18:15.991958Z",
     "iopub.status.busy": "2022-03-17T02:18:15.991296Z",
     "iopub.status.idle": "2022-03-17T02:18:16.025104Z",
     "shell.execute_reply": "2022-03-17T02:18:16.024384Z"
    },
    "papermill": {
     "duration": 0.053087,
     "end_time": "2022-03-17T02:18:16.025258",
     "exception": false,
     "start_time": "2022-03-17T02:18:15.972171",
     "status": "completed"
    },
    "tags": []
   },
   "outputs": [],
   "source": [
    "#hide_input\n",
    "sum_corr = df_all.corr().sum().sort_values(ascending=True).index.values\n",
    "#df_all[sum_corr].corr()"
   ]
  },
  {
   "cell_type": "markdown",
   "id": "complex-syndicate",
   "metadata": {
    "papermill": {
     "duration": 0.015841,
     "end_time": "2022-03-17T02:18:16.055549",
     "exception": false,
     "start_time": "2022-03-17T02:18:16.039708",
     "status": "completed"
    },
    "tags": []
   },
   "source": [
    "## Išplėstinė koreliacijų matrica. "
   ]
  },
  {
   "cell_type": "code",
   "execution_count": 7,
   "id": "atomic-omaha",
   "metadata": {
    "execution": {
     "iopub.execute_input": "2022-03-17T02:18:16.097792Z",
     "iopub.status.busy": "2022-03-17T02:18:16.097082Z",
     "iopub.status.idle": "2022-03-17T02:18:17.843792Z",
     "shell.execute_reply": "2022-03-17T02:18:17.844594Z"
    },
    "papermill": {
     "duration": 1.770146,
     "end_time": "2022-03-17T02:18:17.844755",
     "exception": false,
     "start_time": "2022-03-17T02:18:16.074609",
     "status": "completed"
    },
    "tags": []
   },
   "outputs": [
    {
     "data": {
      "image/png": "[encoded data removed]",
      "text/plain": [
       "<Figure size 1080x792 with 2 Axes>"
      ]
     },
     "metadata": {
      "needs_background": "light"
     },
     "output_type": "display_data"
    }
   ],
   "source": [
    "#hide_input\n",
    "plt.figure(figsize=(15, 11))\n",
    "sns.heatmap(df_all[sum_corr].corr(), annot=True, cmap=\"cubehelix\") \n",
    "sns.set(font_scale=1.25)\n",
    "plt.savefig('corr_matrix.png', format='eps')"
   ]
  },
  {
   "cell_type": "code",
   "execution_count": 8,
   "id": "arbitrary-sullivan",
   "metadata": {
    "execution": {
     "iopub.execute_input": "2022-03-17T02:18:17.885193Z",
     "iopub.status.busy": "2022-03-17T02:18:17.884513Z",
     "iopub.status.idle": "2022-03-17T02:18:17.911281Z",
     "shell.execute_reply": "2022-03-17T02:18:17.918181Z"
    },
    "papermill": {
     "duration": 0.056899,
     "end_time": "2022-03-17T02:18:17.918376",
     "exception": false,
     "start_time": "2022-03-17T02:18:17.861477",
     "status": "completed"
    },
    "tags": []
   },
   "outputs": [],
   "source": [
    "#hide\n",
    "#df_all_mrk = read_api()"
   ]
  },
  {
   "cell_type": "code",
   "execution_count": 9,
   "id": "delayed-adapter",
   "metadata": {
    "execution": {
     "iopub.execute_input": "2022-03-17T02:18:17.955779Z",
     "iopub.status.busy": "2022-03-17T02:18:17.953508Z",
     "iopub.status.idle": "2022-03-17T02:18:17.981312Z",
     "shell.execute_reply": "2022-03-17T02:18:17.981803Z"
    },
    "papermill": {
     "duration": 0.047635,
     "end_time": "2022-03-17T02:18:17.981942",
     "exception": false,
     "start_time": "2022-03-17T02:18:17.934307",
     "status": "completed"
    },
    "tags": []
   },
   "outputs": [],
   "source": [
    "#hide\n",
    "#Koreliacijų koeficientai"
   ]
  },
  {
   "cell_type": "code",
   "execution_count": 10,
   "id": "seeing-celebration",
   "metadata": {
    "execution": {
     "iopub.execute_input": "2022-03-17T02:18:18.018275Z",
     "iopub.status.busy": "2022-03-17T02:18:18.017561Z",
     "iopub.status.idle": "2022-03-17T02:18:18.045846Z",
     "shell.execute_reply": "2022-03-17T02:18:18.045334Z"
    },
    "papermill": {
     "duration": 0.04762,
     "end_time": "2022-03-17T02:18:18.045964",
     "exception": false,
     "start_time": "2022-03-17T02:18:17.998344",
     "status": "completed"
    },
    "tags": []
   },
   "outputs": [],
   "source": [
    "#hide_input\n",
    "#sum_corr = df_all_mrk.corr().sum().sort_values(ascending=True).index.values\n",
    "#df_all_mrk[sum_corr].corr()"
   ]
  },
  {
   "cell_type": "code",
   "execution_count": 11,
   "id": "other-painting",
   "metadata": {
    "execution": {
     "iopub.execute_input": "2022-03-17T02:18:18.080620Z",
     "iopub.status.busy": "2022-03-17T02:18:18.079990Z",
     "iopub.status.idle": "2022-03-17T02:18:18.107241Z",
     "shell.execute_reply": "2022-03-17T02:18:18.107702Z"
    },
    "papermill": {
     "duration": 0.04675,
     "end_time": "2022-03-17T02:18:18.107845",
     "exception": false,
     "start_time": "2022-03-17T02:18:18.061095",
     "status": "completed"
    },
    "tags": []
   },
   "outputs": [],
   "source": [
    "#hide\n",
    "#Koreliacijos matrica. "
   ]
  },
  {
   "cell_type": "code",
   "execution_count": 12,
   "id": "modular-magnitude",
   "metadata": {
    "execution": {
     "iopub.execute_input": "2022-03-17T02:18:18.143302Z",
     "iopub.status.busy": "2022-03-17T02:18:18.142585Z",
     "iopub.status.idle": "2022-03-17T02:18:18.170730Z",
     "shell.execute_reply": "2022-03-17T02:18:18.170175Z"
    },
    "papermill": {
     "duration": 0.047506,
     "end_time": "2022-03-17T02:18:18.170844",
     "exception": false,
     "start_time": "2022-03-17T02:18:18.123338",
     "status": "completed"
    },
    "tags": []
   },
   "outputs": [],
   "source": [
    "#hide_input\n",
    "#plt.figure(figsize=(15, 8))\n",
    "#sns.heatmap(df_all_mrk[sum_corr].corr(), annot=True, cmap=\"BrBG\");\n",
    "#plt.savefig('corr_matrix_all.eps', format='eps')"
   ]
  },
  {
   "cell_type": "code",
   "execution_count": null,
   "id": "original-senator",
   "metadata": {
    "papermill": {
     "duration": 0.015314,
     "end_time": "2022-03-17T02:18:18.200642",
     "exception": false,
     "start_time": "2022-03-17T02:18:18.185328",
     "status": "completed"
    },
    "tags": []
   },
   "outputs": [],
   "source": []
  },
  {
   "cell_type": "code",
   "execution_count": null,
   "id": "saving-secretariat",
   "metadata": {
    "papermill": {
     "duration": 0.015594,
     "end_time": "2022-03-17T02:18:18.231621",
     "exception": false,
     "start_time": "2022-03-17T02:18:18.216027",
     "status": "completed"
    },
    "tags": []
   },
   "outputs": [],
   "source": []
  }
 ],
 "metadata": {
  "kernelspec": {
   "display_name": "Python 3",
   "language": "python",
   "name": "python3"
  },
  "language_info": {
   "codemirror_mode": {
    "name": "ipython",
    "version": 3
   },
   "file_extension": ".py",
   "mimetype": "text/x-python",
   "name": "python",
   "nbconvert_exporter": "python",
   "pygments_lexer": "ipython3",
   "version": "3.6.15"
  },
  "papermill": {
   "default_parameters": {},
   "duration": 18.600091,
   "end_time": "2022-03-17T02:18:18.766436",
   "environment_variables": {},
   "exception": null,
   "input_path": "App-Correlation_charts.ipynb",
   "output_path": "App-Correlation_charts.ipynb",
   "parameters": {},
   "start_time": "2022-03-17T02:18:00.166345",
   "version": "2.2.2"
  }
 },
 "nbformat": 4,
 "nbformat_minor": 5
}