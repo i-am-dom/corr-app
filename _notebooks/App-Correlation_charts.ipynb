{
 "cells": [
  {
   "cell_type": "markdown",
   "id": "touched-facility",
   "metadata": {
    "papermill": {
     "duration": 0.014498,
     "end_time": "2022-04-10T02:34:10.631588",
     "exception": false,
     "start_time": "2022-04-10T02:34:10.617090",
     "status": "completed"
    },
    "tags": []
   },
   "source": [
    "# Koreliacijų matrica\n",
    "> Išplėstinė koreliacijų matrica. \n",
    "\n",
    "- toc: true \n",
    "- badges: true\n",
    "- comments: false\n",
    "- categories: [Dominykas Tautkus]\n",
    "- image: images/matrix.png"
   ]
  },
  {
   "cell_type": "code",
   "execution_count": null,
   "id": "premium-weekend",
   "metadata": {
    "papermill": {
     "duration": 0.011156,
     "end_time": "2022-04-10T02:34:10.654467",
     "exception": false,
     "start_time": "2022-04-10T02:34:10.643311",
     "status": "completed"
    },
    "tags": []
   },
   "outputs": [],
   "source": []
  },
  {
   "cell_type": "code",
   "execution_count": 1,
   "id": "vertical-rebate",
   "metadata": {
    "execution": {
     "iopub.execute_input": "2022-04-10T02:34:10.686361Z",
     "iopub.status.busy": "2022-04-10T02:34:10.685840Z",
     "iopub.status.idle": "2022-04-10T02:34:10.695868Z",
     "shell.execute_reply": "2022-04-10T02:34:10.695460Z"
    },
    "papermill": {
     "duration": 0.030358,
     "end_time": "2022-04-10T02:34:10.695976",
     "exception": false,
     "start_time": "2022-04-10T02:34:10.665618",
     "status": "completed"
    },
    "tags": []
   },
   "outputs": [],
   "source": [
    "#hide\n",
    "%load_ext autoreload\n",
    "%autoreload 2"
   ]
  },
  {
   "cell_type": "code",
   "execution_count": 2,
   "id": "overall-advancement",
   "metadata": {
    "execution": {
     "iopub.execute_input": "2022-04-10T02:34:10.720819Z",
     "iopub.status.busy": "2022-04-10T02:34:10.720320Z",
     "iopub.status.idle": "2022-04-10T02:34:12.031744Z",
     "shell.execute_reply": "2022-04-10T02:34:12.031297Z"
    },
    "papermill": {
     "duration": 1.324851,
     "end_time": "2022-04-10T02:34:12.031860",
     "exception": false,
     "start_time": "2022-04-10T02:34:10.707009",
     "status": "completed"
    },
    "tags": []
   },
   "outputs": [],
   "source": [
    "#hide\n",
    "from scripts.read_data import read_api\n",
    "from IPython.display import HTML\n",
    "import plotly.graph_objects as go\n"
   ]
  },
  {
   "cell_type": "code",
   "execution_count": 3,
   "id": "light-crazy",
   "metadata": {
    "execution": {
     "iopub.execute_input": "2022-04-10T02:34:12.170985Z",
     "iopub.status.busy": "2022-04-10T02:34:12.170474Z",
     "iopub.status.idle": "2022-04-10T02:34:12.189515Z",
     "shell.execute_reply": "2022-04-10T02:34:12.189895Z"
    },
    "papermill": {
     "duration": 0.132227,
     "end_time": "2022-04-10T02:34:12.190020",
     "exception": false,
     "start_time": "2022-04-10T02:34:12.057793",
     "status": "completed"
    },
    "tags": []
   },
   "outputs": [],
   "source": [
    "#hide\n",
    "### ICO koreliacija"
   ]
  },
  {
   "cell_type": "code",
   "execution_count": 4,
   "id": "likely-bahrain",
   "metadata": {
    "execution": {
     "iopub.execute_input": "2022-04-10T02:34:12.269772Z",
     "iopub.status.busy": "2022-04-10T02:34:12.268498Z",
     "iopub.status.idle": "2022-04-10T02:34:13.362277Z",
     "shell.execute_reply": "2022-04-10T02:34:13.362969Z"
    },
    "papermill": {
     "duration": 1.151825,
     "end_time": "2022-04-10T02:34:13.363107",
     "exception": false,
     "start_time": "2022-04-10T02:34:12.211282",
     "status": "completed"
    },
    "tags": []
   },
   "outputs": [],
   "source": [
    "#hide\n",
    "import matplotlib.pyplot as plt\n",
    "import numpy as np\n",
    "import pandas as pd\n",
    "import seaborn as sns\n",
    "import matplotlib.pyplot as plt \n",
    "import matplotlib.dates as mdates\n",
    "import matplotlib.pyplot as plt"
   ]
  },
  {
   "cell_type": "code",
   "execution_count": 5,
   "id": "superior-blanket",
   "metadata": {
    "execution": {
     "iopub.execute_input": "2022-04-10T02:34:13.452454Z",
     "iopub.status.busy": "2022-04-10T02:34:13.451965Z",
     "iopub.status.idle": "2022-04-10T02:34:22.394058Z",
     "shell.execute_reply": "2022-04-10T02:34:22.393590Z"
    },
    "papermill": {
     "duration": 8.990122,
     "end_time": "2022-04-10T02:34:22.394167",
     "exception": false,
     "start_time": "2022-04-10T02:34:13.404045",
     "status": "completed"
    },
    "tags": []
   },
   "outputs": [
    {
     "name": "stderr",
     "output_type": "stream",
     "text": [
      "/home/runner/work/corr-app/corr-app/_notebooks/scripts/read_data.py:187: SettingWithCopyWarning:\n",
      "\n",
      "\n",
      "A value is trying to be set on a copy of a slice from a DataFrame.\n",
      "Try using .loc[row_indexer,col_indexer] = value instead\n",
      "\n",
      "See the caveats in the documentation: https://pandas.pydata.org/pandas-docs/stable/user_guide/indexing.html#returning-a-view-versus-a-copy\n",
      "\n"
     ]
    },
    {
     "name": "stderr",
     "output_type": "stream",
     "text": [
      "/home/runner/work/corr-app/corr-app/_notebooks/scripts/read_data.py:215: SettingWithCopyWarning:\n",
      "\n",
      "\n",
      "A value is trying to be set on a copy of a slice from a DataFrame.\n",
      "Try using .loc[row_indexer,col_indexer] = value instead\n",
      "\n",
      "See the caveats in the documentation: https://pandas.pydata.org/pandas-docs/stable/user_guide/indexing.html#returning-a-view-versus-a-copy\n",
      "\n"
     ]
    }
   ],
   "source": [
    "#hide\n",
    "df_all = read_api()\n",
    "#df_all = df_all.drop(['SP500', 'XAU', 'ETH', 'BTC'], axis=1)\n",
    "\n"
   ]
  },
  {
   "cell_type": "code",
   "execution_count": 6,
   "id": "mature-alert",
   "metadata": {
    "execution": {
     "iopub.execute_input": "2022-04-10T02:34:22.423404Z",
     "iopub.status.busy": "2022-04-10T02:34:22.422264Z",
     "iopub.status.idle": "2022-04-10T02:34:22.450110Z",
     "shell.execute_reply": "2022-04-10T02:34:22.449640Z"
    },
    "papermill": {
     "duration": 0.043987,
     "end_time": "2022-04-10T02:34:22.450205",
     "exception": false,
     "start_time": "2022-04-10T02:34:22.406218",
     "status": "completed"
    },
    "tags": []
   },
   "outputs": [],
   "source": [
    "#hide_input\n",
    "sum_corr = df_all.corr().sum().sort_values(ascending=True).index.values\n",
    "#df_all[sum_corr].corr()"
   ]
  },
  {
   "cell_type": "markdown",
   "id": "complex-syndicate",
   "metadata": {
    "papermill": {
     "duration": 0.011546,
     "end_time": "2022-04-10T02:34:22.473358",
     "exception": false,
     "start_time": "2022-04-10T02:34:22.461812",
     "status": "completed"
    },
    "tags": []
   },
   "source": [
    "## Išplėstinė koreliacijų matrica. "
   ]
  },
  {
   "cell_type": "code",
   "execution_count": 7,
   "id": "atomic-omaha",
   "metadata": {
    "execution": {
     "iopub.execute_input": "2022-04-10T02:34:22.499915Z",
     "iopub.status.busy": "2022-04-10T02:34:22.499427Z",
     "iopub.status.idle": "2022-04-10T02:34:23.696850Z",
     "shell.execute_reply": "2022-04-10T02:34:23.696437Z"
    },
    "papermill": {
     "duration": 1.212022,
     "end_time": "2022-04-10T02:34:23.696959",
     "exception": false,
     "start_time": "2022-04-10T02:34:22.484937",
     "status": "completed"
    },
    "tags": []
   },
   "outputs": [
    {
     "data": {
      "image/png": "[encoded data removed]",
      "text/plain": [
       "<Figure size 1080x792 with 2 Axes>"
      ]
     },
     "metadata": {
      "needs_background": "light"
     },
     "output_type": "display_data"
    }
   ],
   "source": [
    "#hide_input\n",
    "plt.figure(figsize=(15, 11))\n",
    "sns.heatmap(df_all[sum_corr].corr(), annot=True, cmap=\"cubehelix\") \n",
    "sns.set(font_scale=1.25)\n",
    "plt.savefig('corr_matrix.png', format='eps')"
   ]
  },
  {
   "cell_type": "code",
   "execution_count": 8,
   "id": "arbitrary-sullivan",
   "metadata": {
    "execution": {
     "iopub.execute_input": "2022-04-10T02:34:23.728965Z",
     "iopub.status.busy": "2022-04-10T02:34:23.727886Z",
     "iopub.status.idle": "2022-04-10T02:34:23.752000Z",
     "shell.execute_reply": "2022-04-10T02:34:23.752363Z"
    },
    "papermill": {
     "duration": 0.0416,
     "end_time": "2022-04-10T02:34:23.752473",
     "exception": false,
     "start_time": "2022-04-10T02:34:23.710873",
     "status": "completed"
    },
    "tags": []
   },
   "outputs": [],
   "source": [
    "#hide\n",
    "#df_all_mrk = read_api()"
   ]
  },
  {
   "cell_type": "code",
   "execution_count": 9,
   "id": "delayed-adapter",
   "metadata": {
    "execution": {
     "iopub.execute_input": "2022-04-10T02:34:23.782371Z",
     "iopub.status.busy": "2022-04-10T02:34:23.781863Z",
     "iopub.status.idle": "2022-04-10T02:34:23.806054Z",
     "shell.execute_reply": "2022-04-10T02:34:23.806443Z"
    },
    "papermill": {
     "duration": 0.040513,
     "end_time": "2022-04-10T02:34:23.806556",
     "exception": false,
     "start_time": "2022-04-10T02:34:23.766043",
     "status": "completed"
    },
    "tags": []
   },
   "outputs": [],
   "source": [
    "#hide\n",
    "#Koreliacijų koeficientai"
   ]
  },
  {
   "cell_type": "code",
   "execution_count": 10,
   "id": "seeing-celebration",
   "metadata": {
    "execution": {
     "iopub.execute_input": "2022-04-10T02:34:23.837800Z",
     "iopub.status.busy": "2022-04-10T02:34:23.837263Z",
     "iopub.status.idle": "2022-04-10T02:34:23.861656Z",
     "shell.execute_reply": "2022-04-10T02:34:23.861057Z"
    },
    "papermill": {
     "duration": 0.040355,
     "end_time": "2022-04-10T02:34:23.861755",
     "exception": false,
     "start_time": "2022-04-10T02:34:23.821400",
     "status": "completed"
    },
    "tags": []
   },
   "outputs": [],
   "source": [
    "#hide_input\n",
    "#sum_corr = df_all_mrk.corr().sum().sort_values(ascending=True).index.values\n",
    "#df_all_mrk[sum_corr].corr()"
   ]
  },
  {
   "cell_type": "code",
   "execution_count": 11,
   "id": "other-painting",
   "metadata": {
    "execution": {
     "iopub.execute_input": "2022-04-10T02:34:23.891839Z",
     "iopub.status.busy": "2022-04-10T02:34:23.891357Z",
     "iopub.status.idle": "2022-04-10T02:34:23.916225Z",
     "shell.execute_reply": "2022-04-10T02:34:23.915798Z"
    },
    "papermill": {
     "duration": 0.040635,
     "end_time": "2022-04-10T02:34:23.916322",
     "exception": false,
     "start_time": "2022-04-10T02:34:23.875687",
     "status": "completed"
    },
    "tags": []
   },
   "outputs": [],
   "source": [
    "#hide\n",
    "#Koreliacijos matrica. "
   ]
  },
  {
   "cell_type": "code",
   "execution_count": 12,
   "id": "modular-magnitude",
   "metadata": {
    "execution": {
     "iopub.execute_input": "2022-04-10T02:34:23.946073Z",
     "iopub.status.busy": "2022-04-10T02:34:23.945593Z",
     "iopub.status.idle": "2022-04-10T02:34:23.969041Z",
     "shell.execute_reply": "2022-04-10T02:34:23.968646Z"
    },
    "papermill": {
     "duration": 0.039199,
     "end_time": "2022-04-10T02:34:23.969138",
     "exception": false,
     "start_time": "2022-04-10T02:34:23.929939",
     "status": "completed"
    },
    "tags": []
   },
   "outputs": [],
   "source": [
    "#hide_input\n",
    "#plt.figure(figsize=(15, 8))\n",
    "#sns.heatmap(df_all_mrk[sum_corr].corr(), annot=True, cmap=\"BrBG\");\n",
    "#plt.savefig('corr_matrix_all.eps', format='eps')"
   ]
  },
  {
   "cell_type": "code",
   "execution_count": null,
   "id": "original-senator",
   "metadata": {
    "papermill": {
     "duration": 0.013411,
     "end_time": "2022-04-10T02:34:23.996234",
     "exception": false,
     "start_time": "2022-04-10T02:34:23.982823",
     "status": "completed"
    },
    "tags": []
   },
   "outputs": [],
   "source": []
  },
  {
   "cell_type": "code",
   "execution_count": null,
   "id": "saving-secretariat",
   "metadata": {
    "papermill": {
     "duration": 0.013386,
     "end_time": "2022-04-10T02:34:24.023095",
     "exception": false,
     "start_time": "2022-04-10T02:34:24.009709",
     "status": "completed"
    },
    "tags": []
   },
   "outputs": [],
   "source": []
  }
 ],
 "metadata": {
  "kernelspec": {
   "display_name": "Python 3",
   "language": "python",
   "name": "python3"
  },
  "language_info": {
   "codemirror_mode": {
    "name": "ipython",
    "version": 3
   },
   "file_extension": ".py",
   "mimetype": "text/x-python",
   "name": "python",
   "nbconvert_exporter": "python",
   "pygments_lexer": "ipython3",
   "version": "3.6.15"
  },
  "papermill": {
   "default_parameters": {},
   "duration": 14.740693,
   "end_time": "2022-04-10T02:34:24.453723",
   "environment_variables": {},
   "exception": null,
   "input_path": "App-Correlation_charts.ipynb",
   "output_path": "App-Correlation_charts.ipynb",
   "parameters": {},
   "start_time": "2022-04-10T02:34:09.713030",
   "version": "2.2.2"
  }
 },
 "nbformat": 4,
 "nbformat_minor": 5
}