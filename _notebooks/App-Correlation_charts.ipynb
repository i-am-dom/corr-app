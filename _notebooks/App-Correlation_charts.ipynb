{
 "cells": [
  {
   "cell_type": "markdown",
   "id": "touched-facility",
   "metadata": {
    "papermill": {
     "duration": 0.018583,
     "end_time": "2022-07-08T03:12:09.901994",
     "exception": false,
     "start_time": "2022-07-08T03:12:09.883411",
     "status": "completed"
    },
    "tags": []
   },
   "source": [
    "# Koreliacijų matrica\n",
    "> Išplėstinė koreliacijų matrica. \n",
    "\n",
    "- toc: true \n",
    "- badges: true\n",
    "- comments: false\n",
    "- categories: [Dominykas Tautkus]\n",
    "- image: images/matrix.png"
   ]
  },
  {
   "cell_type": "code",
   "execution_count": null,
   "id": "premium-weekend",
   "metadata": {
    "papermill": {
     "duration": 0.011972,
     "end_time": "2022-07-08T03:12:09.926626",
     "exception": false,
     "start_time": "2022-07-08T03:12:09.914654",
     "status": "completed"
    },
    "tags": []
   },
   "outputs": [],
   "source": []
  },
  {
   "cell_type": "code",
   "execution_count": 1,
   "id": "vertical-rebate",
   "metadata": {
    "execution": {
     "iopub.execute_input": "2022-07-08T03:12:09.963747Z",
     "iopub.status.busy": "2022-07-08T03:12:09.963043Z",
     "iopub.status.idle": "2022-07-08T03:12:09.977220Z",
     "shell.execute_reply": "2022-07-08T03:12:09.976614Z"
    },
    "papermill": {
     "duration": 0.038717,
     "end_time": "2022-07-08T03:12:09.977354",
     "exception": false,
     "start_time": "2022-07-08T03:12:09.938637",
     "status": "completed"
    },
    "tags": []
   },
   "outputs": [],
   "source": [
    "#hide\n",
    "%load_ext autoreload\n",
    "%autoreload 2"
   ]
  },
  {
   "cell_type": "code",
   "execution_count": 2,
   "id": "overall-advancement",
   "metadata": {
    "execution": {
     "iopub.execute_input": "2022-07-08T03:12:10.004971Z",
     "iopub.status.busy": "2022-07-08T03:12:10.004254Z",
     "iopub.status.idle": "2022-07-08T03:12:11.284187Z",
     "shell.execute_reply": "2022-07-08T03:12:11.283044Z"
    },
    "papermill": {
     "duration": 1.295067,
     "end_time": "2022-07-08T03:12:11.284344",
     "exception": false,
     "start_time": "2022-07-08T03:12:09.989277",
     "status": "completed"
    },
    "tags": []
   },
   "outputs": [],
   "source": [
    "#hide\n",
    "from scripts.read_data import read_api\n",
    "from IPython.display import HTML\n",
    "import plotly.graph_objects as go\n"
   ]
  },
  {
   "cell_type": "code",
   "execution_count": 3,
   "id": "light-crazy",
   "metadata": {
    "execution": {
     "iopub.execute_input": "2022-07-08T03:12:11.313834Z",
     "iopub.status.busy": "2022-07-08T03:12:11.313119Z",
     "iopub.status.idle": "2022-07-08T03:12:11.339923Z",
     "shell.execute_reply": "2022-07-08T03:12:11.339083Z"
    },
    "papermill": {
     "duration": 0.043346,
     "end_time": "2022-07-08T03:12:11.340074",
     "exception": false,
     "start_time": "2022-07-08T03:12:11.296728",
     "status": "completed"
    },
    "tags": []
   },
   "outputs": [],
   "source": [
    "#hide\n",
    "### ICO koreliacija"
   ]
  },
  {
   "cell_type": "code",
   "execution_count": 4,
   "id": "likely-bahrain",
   "metadata": {
    "execution": {
     "iopub.execute_input": "2022-07-08T03:12:11.369475Z",
     "iopub.status.busy": "2022-07-08T03:12:11.368683Z",
     "iopub.status.idle": "2022-07-08T03:12:12.331374Z",
     "shell.execute_reply": "2022-07-08T03:12:12.330182Z"
    },
    "papermill": {
     "duration": 0.978415,
     "end_time": "2022-07-08T03:12:12.331528",
     "exception": false,
     "start_time": "2022-07-08T03:12:11.353113",
     "status": "completed"
    },
    "tags": []
   },
   "outputs": [],
   "source": [
    "#hide\n",
    "import matplotlib.pyplot as plt\n",
    "import numpy as np\n",
    "import pandas as pd\n",
    "import seaborn as sns\n",
    "import matplotlib.pyplot as plt \n",
    "import matplotlib.dates as mdates\n",
    "import matplotlib.pyplot as plt"
   ]
  },
  {
   "cell_type": "code",
   "execution_count": 5,
   "id": "superior-blanket",
   "metadata": {
    "execution": {
     "iopub.execute_input": "2022-07-08T03:12:12.360513Z",
     "iopub.status.busy": "2022-07-08T03:12:12.359795Z",
     "iopub.status.idle": "2022-07-08T03:12:25.943096Z",
     "shell.execute_reply": "2022-07-08T03:12:25.942446Z"
    },
    "papermill": {
     "duration": 13.599539,
     "end_time": "2022-07-08T03:12:25.943249",
     "exception": false,
     "start_time": "2022-07-08T03:12:12.343710",
     "status": "completed"
    },
    "tags": []
   },
   "outputs": [
    {
     "name": "stderr",
     "output_type": "stream",
     "text": [
      "/home/runner/work/corr-app/corr-app/_notebooks/scripts/read_data.py:187: SettingWithCopyWarning:\n",
      "\n",
      "\n",
      "A value is trying to be set on a copy of a slice from a DataFrame.\n",
      "Try using .loc[row_indexer,col_indexer] = value instead\n",
      "\n",
      "See the caveats in the documentation: https://pandas.pydata.org/pandas-docs/stable/user_guide/indexing.html#returning-a-view-versus-a-copy\n",
      "\n"
     ]
    },
    {
     "name": "stderr",
     "output_type": "stream",
     "text": [
      "/home/runner/work/corr-app/corr-app/_notebooks/scripts/read_data.py:215: SettingWithCopyWarning:\n",
      "\n",
      "\n",
      "A value is trying to be set on a copy of a slice from a DataFrame.\n",
      "Try using .loc[row_indexer,col_indexer] = value instead\n",
      "\n",
      "See the caveats in the documentation: https://pandas.pydata.org/pandas-docs/stable/user_guide/indexing.html#returning-a-view-versus-a-copy\n",
      "\n"
     ]
    }
   ],
   "source": [
    "#hide\n",
    "df_all = read_api()\n",
    "#df_all = df_all.drop(['SP500', 'XAU', 'ETH', 'BTC'], axis=1)\n",
    "\n"
   ]
  },
  {
   "cell_type": "code",
   "execution_count": 6,
   "id": "mature-alert",
   "metadata": {
    "execution": {
     "iopub.execute_input": "2022-07-08T03:12:25.980766Z",
     "iopub.status.busy": "2022-07-08T03:12:25.977275Z",
     "iopub.status.idle": "2022-07-08T03:12:26.015153Z",
     "shell.execute_reply": "2022-07-08T03:12:26.014394Z"
    },
    "papermill": {
     "duration": 0.058095,
     "end_time": "2022-07-08T03:12:26.015318",
     "exception": false,
     "start_time": "2022-07-08T03:12:25.957223",
     "status": "completed"
    },
    "tags": []
   },
   "outputs": [],
   "source": [
    "#hide_input\n",
    "sum_corr = df_all.corr().sum().sort_values(ascending=True).index.values\n",
    "#df_all[sum_corr].corr()"
   ]
  },
  {
   "cell_type": "markdown",
   "id": "complex-syndicate",
   "metadata": {
    "papermill": {
     "duration": 0.012917,
     "end_time": "2022-07-08T03:12:26.042505",
     "exception": false,
     "start_time": "2022-07-08T03:12:26.029588",
     "status": "completed"
    },
    "tags": []
   },
   "source": [
    "## Išplėstinė koreliacijų matrica. "
   ]
  },
  {
   "cell_type": "code",
   "execution_count": 7,
   "id": "atomic-omaha",
   "metadata": {
    "execution": {
     "iopub.execute_input": "2022-07-08T03:12:26.072349Z",
     "iopub.status.busy": "2022-07-08T03:12:26.071670Z",
     "iopub.status.idle": "2022-07-08T03:12:27.492341Z",
     "shell.execute_reply": "2022-07-08T03:12:27.492871Z"
    },
    "papermill": {
     "duration": 1.438148,
     "end_time": "2022-07-08T03:12:27.493033",
     "exception": false,
     "start_time": "2022-07-08T03:12:26.054885",
     "status": "completed"
    },
    "tags": []
   },
   "outputs": [
    {
     "data": {
      "image/png": "[encoded data removed]",
      "text/plain": [
       "<Figure size 1080x792 with 2 Axes>"
      ]
     },
     "metadata": {
      "needs_background": "light"
     },
     "output_type": "display_data"
    }
   ],
   "source": [
    "#hide_input\n",
    "plt.figure(figsize=(15, 11))\n",
    "sns.heatmap(df_all[sum_corr].corr(), annot=True, cmap=\"cubehelix\") \n",
    "sns.set(font_scale=1.25)\n",
    "plt.savefig('corr_matrix.png', format='eps')"
   ]
  },
  {
   "cell_type": "code",
   "execution_count": 8,
   "id": "arbitrary-sullivan",
   "metadata": {
    "execution": {
     "iopub.execute_input": "2022-07-08T03:12:27.529097Z",
     "iopub.status.busy": "2022-07-08T03:12:27.528402Z",
     "iopub.status.idle": "2022-07-08T03:12:27.560786Z",
     "shell.execute_reply": "2022-07-08T03:12:27.561504Z"
    },
    "papermill": {
     "duration": 0.052505,
     "end_time": "2022-07-08T03:12:27.561700",
     "exception": false,
     "start_time": "2022-07-08T03:12:27.509195",
     "status": "completed"
    },
    "tags": []
   },
   "outputs": [],
   "source": [
    "#hide\n",
    "#df_all_mrk = read_api()"
   ]
  },
  {
   "cell_type": "code",
   "execution_count": 9,
   "id": "delayed-adapter",
   "metadata": {
    "execution": {
     "iopub.execute_input": "2022-07-08T03:12:27.594484Z",
     "iopub.status.busy": "2022-07-08T03:12:27.593828Z",
     "iopub.status.idle": "2022-07-08T03:12:27.628600Z",
     "shell.execute_reply": "2022-07-08T03:12:27.627697Z"
    },
    "papermill": {
     "duration": 0.052454,
     "end_time": "2022-07-08T03:12:27.628786",
     "exception": false,
     "start_time": "2022-07-08T03:12:27.576332",
     "status": "completed"
    },
    "tags": []
   },
   "outputs": [],
   "source": [
    "#hide\n",
    "#Koreliacijų koeficientai"
   ]
  },
  {
   "cell_type": "code",
   "execution_count": 10,
   "id": "seeing-celebration",
   "metadata": {
    "execution": {
     "iopub.execute_input": "2022-07-08T03:12:27.666395Z",
     "iopub.status.busy": "2022-07-08T03:12:27.665365Z",
     "iopub.status.idle": "2022-07-08T03:12:27.694626Z",
     "shell.execute_reply": "2022-07-08T03:12:27.695133Z"
    },
    "papermill": {
     "duration": 0.04981,
     "end_time": "2022-07-08T03:12:27.695281",
     "exception": false,
     "start_time": "2022-07-08T03:12:27.645471",
     "status": "completed"
    },
    "tags": []
   },
   "outputs": [],
   "source": [
    "#hide_input\n",
    "#sum_corr = df_all_mrk.corr().sum().sort_values(ascending=True).index.values\n",
    "#df_all_mrk[sum_corr].corr()"
   ]
  },
  {
   "cell_type": "code",
   "execution_count": 11,
   "id": "other-painting",
   "metadata": {
    "execution": {
     "iopub.execute_input": "2022-07-08T03:12:27.729323Z",
     "iopub.status.busy": "2022-07-08T03:12:27.728612Z",
     "iopub.status.idle": "2022-07-08T03:12:27.759224Z",
     "shell.execute_reply": "2022-07-08T03:12:27.758440Z"
    },
    "papermill": {
     "duration": 0.049206,
     "end_time": "2022-07-08T03:12:27.759388",
     "exception": false,
     "start_time": "2022-07-08T03:12:27.710182",
     "status": "completed"
    },
    "tags": []
   },
   "outputs": [],
   "source": [
    "#hide\n",
    "#Koreliacijos matrica. "
   ]
  },
  {
   "cell_type": "code",
   "execution_count": 12,
   "id": "modular-magnitude",
   "metadata": {
    "execution": {
     "iopub.execute_input": "2022-07-08T03:12:27.795621Z",
     "iopub.status.busy": "2022-07-08T03:12:27.794862Z",
     "iopub.status.idle": "2022-07-08T03:12:27.827504Z",
     "shell.execute_reply": "2022-07-08T03:12:27.826561Z"
    },
    "papermill": {
     "duration": 0.051125,
     "end_time": "2022-07-08T03:12:27.827632",
     "exception": false,
     "start_time": "2022-07-08T03:12:27.776507",
     "status": "completed"
    },
    "tags": []
   },
   "outputs": [],
   "source": [
    "#hide_input\n",
    "#plt.figure(figsize=(15, 8))\n",
    "#sns.heatmap(df_all_mrk[sum_corr].corr(), annot=True, cmap=\"BrBG\");\n",
    "#plt.savefig('corr_matrix_all.eps', format='eps')"
   ]
  },
  {
   "cell_type": "code",
   "execution_count": null,
   "id": "original-senator",
   "metadata": {
    "papermill": {
     "duration": 0.015399,
     "end_time": "2022-07-08T03:12:27.858249",
     "exception": false,
     "start_time": "2022-07-08T03:12:27.842850",
     "status": "completed"
    },
    "tags": []
   },
   "outputs": [],
   "source": []
  },
  {
   "cell_type": "code",
   "execution_count": null,
   "id": "saving-secretariat",
   "metadata": {
    "papermill": {
     "duration": 0.01547,
     "end_time": "2022-07-08T03:12:27.888978",
     "exception": false,
     "start_time": "2022-07-08T03:12:27.873508",
     "status": "completed"
    },
    "tags": []
   },
   "outputs": [],
   "source": []
  }
 ],
 "metadata": {
  "kernelspec": {
   "display_name": "Python 3",
   "language": "python",
   "name": "python3"
  },
  "language_info": {
   "codemirror_mode": {
    "name": "ipython",
    "version": 3
   },
   "file_extension": ".py",
   "mimetype": "text/x-python",
   "name": "python",
   "nbconvert_exporter": "python",
   "pygments_lexer": "ipython3",
   "version": "3.6.15"
  },
  "papermill": {
   "default_parameters": {},
   "duration": 19.694161,
   "end_time": "2022-07-08T03:12:28.425446",
   "environment_variables": {},
   "exception": null,
   "input_path": "App-Correlation_charts.ipynb",
   "output_path": "App-Correlation_charts.ipynb",
   "parameters": {},
   "start_time": "2022-07-08T03:12:08.731285",
   "version": "2.2.2"
  }
 },
 "nbformat": 4,
 "nbformat_minor": 5
}