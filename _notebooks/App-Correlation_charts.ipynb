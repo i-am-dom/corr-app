{
 "cells": [
  {
   "cell_type": "markdown",
   "id": "touched-facility",
   "metadata": {
    "papermill": {
     "duration": 0.014174,
     "end_time": "2022-07-03T03:08:32.581452",
     "exception": false,
     "start_time": "2022-07-03T03:08:32.567278",
     "status": "completed"
    },
    "tags": []
   },
   "source": [
    "# Koreliacijų matrica\n",
    "> Išplėstinė koreliacijų matrica. \n",
    "\n",
    "- toc: true \n",
    "- badges: true\n",
    "- comments: false\n",
    "- categories: [Dominykas Tautkus]\n",
    "- image: images/matrix.png"
   ]
  },
  {
   "cell_type": "code",
   "execution_count": null,
   "id": "premium-weekend",
   "metadata": {
    "papermill": {
     "duration": 0.010865,
     "end_time": "2022-07-03T03:08:32.603948",
     "exception": false,
     "start_time": "2022-07-03T03:08:32.593083",
     "status": "completed"
    },
    "tags": []
   },
   "outputs": [],
   "source": []
  },
  {
   "cell_type": "code",
   "execution_count": 1,
   "id": "vertical-rebate",
   "metadata": {
    "execution": {
     "iopub.execute_input": "2022-07-03T03:08:32.635315Z",
     "iopub.status.busy": "2022-07-03T03:08:32.634764Z",
     "iopub.status.idle": "2022-07-03T03:08:32.644961Z",
     "shell.execute_reply": "2022-07-03T03:08:32.645385Z"
    },
    "papermill": {
     "duration": 0.030791,
     "end_time": "2022-07-03T03:08:32.645518",
     "exception": false,
     "start_time": "2022-07-03T03:08:32.614727",
     "status": "completed"
    },
    "tags": []
   },
   "outputs": [],
   "source": [
    "#hide\n",
    "%load_ext autoreload\n",
    "%autoreload 2"
   ]
  },
  {
   "cell_type": "code",
   "execution_count": 2,
   "id": "overall-advancement",
   "metadata": {
    "execution": {
     "iopub.execute_input": "2022-07-03T03:08:32.669947Z",
     "iopub.status.busy": "2022-07-03T03:08:32.669405Z",
     "iopub.status.idle": "2022-07-03T03:08:33.753829Z",
     "shell.execute_reply": "2022-07-03T03:08:33.753359Z"
    },
    "papermill": {
     "duration": 1.097825,
     "end_time": "2022-07-03T03:08:33.753946",
     "exception": false,
     "start_time": "2022-07-03T03:08:32.656121",
     "status": "completed"
    },
    "tags": []
   },
   "outputs": [],
   "source": [
    "#hide\n",
    "from scripts.read_data import read_api\n",
    "from IPython.display import HTML\n",
    "import plotly.graph_objects as go\n"
   ]
  },
  {
   "cell_type": "code",
   "execution_count": 3,
   "id": "light-crazy",
   "metadata": {
    "execution": {
     "iopub.execute_input": "2022-07-03T03:08:33.781912Z",
     "iopub.status.busy": "2022-07-03T03:08:33.780503Z",
     "iopub.status.idle": "2022-07-03T03:08:33.801573Z",
     "shell.execute_reply": "2022-07-03T03:08:33.801142Z"
    },
    "papermill": {
     "duration": 0.036724,
     "end_time": "2022-07-03T03:08:33.801679",
     "exception": false,
     "start_time": "2022-07-03T03:08:33.764955",
     "status": "completed"
    },
    "tags": []
   },
   "outputs": [],
   "source": [
    "#hide\n",
    "### ICO koreliacija"
   ]
  },
  {
   "cell_type": "code",
   "execution_count": 4,
   "id": "likely-bahrain",
   "metadata": {
    "execution": {
     "iopub.execute_input": "2022-07-03T03:08:33.826727Z",
     "iopub.status.busy": "2022-07-03T03:08:33.826174Z",
     "iopub.status.idle": "2022-07-03T03:08:34.654236Z",
     "shell.execute_reply": "2022-07-03T03:08:34.653765Z"
    },
    "papermill": {
     "duration": 0.841775,
     "end_time": "2022-07-03T03:08:34.654350",
     "exception": false,
     "start_time": "2022-07-03T03:08:33.812575",
     "status": "completed"
    },
    "tags": []
   },
   "outputs": [],
   "source": [
    "#hide\n",
    "import matplotlib.pyplot as plt\n",
    "import numpy as np\n",
    "import pandas as pd\n",
    "import seaborn as sns\n",
    "import matplotlib.pyplot as plt \n",
    "import matplotlib.dates as mdates\n",
    "import matplotlib.pyplot as plt"
   ]
  },
  {
   "cell_type": "code",
   "execution_count": 5,
   "id": "superior-blanket",
   "metadata": {
    "execution": {
     "iopub.execute_input": "2022-07-03T03:08:34.679764Z",
     "iopub.status.busy": "2022-07-03T03:08:34.679146Z",
     "iopub.status.idle": "2022-07-03T03:08:49.830809Z",
     "shell.execute_reply": "2022-07-03T03:08:49.830317Z"
    },
    "papermill": {
     "duration": 15.165661,
     "end_time": "2022-07-03T03:08:49.830919",
     "exception": false,
     "start_time": "2022-07-03T03:08:34.665258",
     "status": "completed"
    },
    "tags": []
   },
   "outputs": [
    {
     "name": "stderr",
     "output_type": "stream",
     "text": [
      "/home/runner/work/corr-app/corr-app/_notebooks/scripts/read_data.py:187: SettingWithCopyWarning:\n",
      "\n",
      "\n",
      "A value is trying to be set on a copy of a slice from a DataFrame.\n",
      "Try using .loc[row_indexer,col_indexer] = value instead\n",
      "\n",
      "See the caveats in the documentation: https://pandas.pydata.org/pandas-docs/stable/user_guide/indexing.html#returning-a-view-versus-a-copy\n",
      "\n"
     ]
    },
    {
     "name": "stderr",
     "output_type": "stream",
     "text": [
      "/home/runner/work/corr-app/corr-app/_notebooks/scripts/read_data.py:215: SettingWithCopyWarning:\n",
      "\n",
      "\n",
      "A value is trying to be set on a copy of a slice from a DataFrame.\n",
      "Try using .loc[row_indexer,col_indexer] = value instead\n",
      "\n",
      "See the caveats in the documentation: https://pandas.pydata.org/pandas-docs/stable/user_guide/indexing.html#returning-a-view-versus-a-copy\n",
      "\n"
     ]
    }
   ],
   "source": [
    "#hide\n",
    "df_all = read_api()\n",
    "#df_all = df_all.drop(['SP500', 'XAU', 'ETH', 'BTC'], axis=1)\n",
    "\n"
   ]
  },
  {
   "cell_type": "code",
   "execution_count": 6,
   "id": "mature-alert",
   "metadata": {
    "execution": {
     "iopub.execute_input": "2022-07-03T03:08:49.862731Z",
     "iopub.status.busy": "2022-07-03T03:08:49.859527Z",
     "iopub.status.idle": "2022-07-03T03:08:49.889055Z",
     "shell.execute_reply": "2022-07-03T03:08:49.888592Z"
    },
    "papermill": {
     "duration": 0.045701,
     "end_time": "2022-07-03T03:08:49.889159",
     "exception": false,
     "start_time": "2022-07-03T03:08:49.843458",
     "status": "completed"
    },
    "tags": []
   },
   "outputs": [],
   "source": [
    "#hide_input\n",
    "sum_corr = df_all.corr().sum().sort_values(ascending=True).index.values\n",
    "#df_all[sum_corr].corr()"
   ]
  },
  {
   "cell_type": "markdown",
   "id": "complex-syndicate",
   "metadata": {
    "papermill": {
     "duration": 0.011089,
     "end_time": "2022-07-03T03:08:49.911514",
     "exception": false,
     "start_time": "2022-07-03T03:08:49.900425",
     "status": "completed"
    },
    "tags": []
   },
   "source": [
    "## Išplėstinė koreliacijų matrica. "
   ]
  },
  {
   "cell_type": "code",
   "execution_count": 7,
   "id": "atomic-omaha",
   "metadata": {
    "execution": {
     "iopub.execute_input": "2022-07-03T03:08:49.941023Z",
     "iopub.status.busy": "2022-07-03T03:08:49.937593Z",
     "iopub.status.idle": "2022-07-03T03:08:51.035365Z",
     "shell.execute_reply": "2022-07-03T03:08:51.034511Z"
    },
    "papermill": {
     "duration": 1.112687,
     "end_time": "2022-07-03T03:08:51.035483",
     "exception": false,
     "start_time": "2022-07-03T03:08:49.922796",
     "status": "completed"
    },
    "tags": []
   },
   "outputs": [
    {
     "data": {
      "image/png": "[encoded data removed]",
      "text/plain": [
       "<Figure size 1080x792 with 2 Axes>"
      ]
     },
     "metadata": {
      "needs_background": "light"
     },
     "output_type": "display_data"
    }
   ],
   "source": [
    "#hide_input\n",
    "plt.figure(figsize=(15, 11))\n",
    "sns.heatmap(df_all[sum_corr].corr(), annot=True, cmap=\"cubehelix\") \n",
    "sns.set(font_scale=1.25)\n",
    "plt.savefig('corr_matrix.png', format='eps')"
   ]
  },
  {
   "cell_type": "code",
   "execution_count": 8,
   "id": "arbitrary-sullivan",
   "metadata": {
    "execution": {
     "iopub.execute_input": "2022-07-03T03:08:51.065930Z",
     "iopub.status.busy": "2022-07-03T03:08:51.065390Z",
     "iopub.status.idle": "2022-07-03T03:08:51.090529Z",
     "shell.execute_reply": "2022-07-03T03:08:51.090943Z"
    },
    "papermill": {
     "duration": 0.042122,
     "end_time": "2022-07-03T03:08:51.091066",
     "exception": false,
     "start_time": "2022-07-03T03:08:51.048944",
     "status": "completed"
    },
    "tags": []
   },
   "outputs": [],
   "source": [
    "#hide\n",
    "#df_all_mrk = read_api()"
   ]
  },
  {
   "cell_type": "code",
   "execution_count": 9,
   "id": "delayed-adapter",
   "metadata": {
    "execution": {
     "iopub.execute_input": "2022-07-03T03:08:51.121310Z",
     "iopub.status.busy": "2022-07-03T03:08:51.120735Z",
     "iopub.status.idle": "2022-07-03T03:08:51.144844Z",
     "shell.execute_reply": "2022-07-03T03:08:51.144410Z"
    },
    "papermill": {
     "duration": 0.040847,
     "end_time": "2022-07-03T03:08:51.144950",
     "exception": false,
     "start_time": "2022-07-03T03:08:51.104103",
     "status": "completed"
    },
    "tags": []
   },
   "outputs": [],
   "source": [
    "#hide\n",
    "#Koreliacijų koeficientai"
   ]
  },
  {
   "cell_type": "code",
   "execution_count": 10,
   "id": "seeing-celebration",
   "metadata": {
    "execution": {
     "iopub.execute_input": "2022-07-03T03:08:51.174456Z",
     "iopub.status.busy": "2022-07-03T03:08:51.173919Z",
     "iopub.status.idle": "2022-07-03T03:08:51.198592Z",
     "shell.execute_reply": "2022-07-03T03:08:51.198042Z"
    },
    "papermill": {
     "duration": 0.040545,
     "end_time": "2022-07-03T03:08:51.198691",
     "exception": false,
     "start_time": "2022-07-03T03:08:51.158146",
     "status": "completed"
    },
    "tags": []
   },
   "outputs": [],
   "source": [
    "#hide_input\n",
    "#sum_corr = df_all_mrk.corr().sum().sort_values(ascending=True).index.values\n",
    "#df_all_mrk[sum_corr].corr()"
   ]
  },
  {
   "cell_type": "code",
   "execution_count": 11,
   "id": "other-painting",
   "metadata": {
    "execution": {
     "iopub.execute_input": "2022-07-03T03:08:51.227875Z",
     "iopub.status.busy": "2022-07-03T03:08:51.227317Z",
     "iopub.status.idle": "2022-07-03T03:08:51.252933Z",
     "shell.execute_reply": "2022-07-03T03:08:51.252466Z"
    },
    "papermill": {
     "duration": 0.041315,
     "end_time": "2022-07-03T03:08:51.253041",
     "exception": false,
     "start_time": "2022-07-03T03:08:51.211726",
     "status": "completed"
    },
    "tags": []
   },
   "outputs": [],
   "source": [
    "#hide\n",
    "#Koreliacijos matrica. "
   ]
  },
  {
   "cell_type": "code",
   "execution_count": 12,
   "id": "modular-magnitude",
   "metadata": {
    "execution": {
     "iopub.execute_input": "2022-07-03T03:08:51.283173Z",
     "iopub.status.busy": "2022-07-03T03:08:51.282621Z",
     "iopub.status.idle": "2022-07-03T03:08:51.308170Z",
     "shell.execute_reply": "2022-07-03T03:08:51.307726Z"
    },
    "papermill": {
     "duration": 0.041878,
     "end_time": "2022-07-03T03:08:51.308289",
     "exception": false,
     "start_time": "2022-07-03T03:08:51.266411",
     "status": "completed"
    },
    "tags": []
   },
   "outputs": [],
   "source": [
    "#hide_input\n",
    "#plt.figure(figsize=(15, 8))\n",
    "#sns.heatmap(df_all_mrk[sum_corr].corr(), annot=True, cmap=\"BrBG\");\n",
    "#plt.savefig('corr_matrix_all.eps', format='eps')"
   ]
  },
  {
   "cell_type": "code",
   "execution_count": null,
   "id": "original-senator",
   "metadata": {
    "papermill": {
     "duration": 0.012981,
     "end_time": "2022-07-03T03:08:51.334367",
     "exception": false,
     "start_time": "2022-07-03T03:08:51.321386",
     "status": "completed"
    },
    "tags": []
   },
   "outputs": [],
   "source": []
  },
  {
   "cell_type": "code",
   "execution_count": null,
   "id": "saving-secretariat",
   "metadata": {
    "papermill": {
     "duration": 0.012832,
     "end_time": "2022-07-03T03:08:51.360176",
     "exception": false,
     "start_time": "2022-07-03T03:08:51.347344",
     "status": "completed"
    },
    "tags": []
   },
   "outputs": [],
   "source": []
  }
 ],
 "metadata": {
  "kernelspec": {
   "display_name": "Python 3",
   "language": "python",
   "name": "python3"
  },
  "language_info": {
   "codemirror_mode": {
    "name": "ipython",
    "version": 3
   },
   "file_extension": ".py",
   "mimetype": "text/x-python",
   "name": "python",
   "nbconvert_exporter": "python",
   "pygments_lexer": "ipython3",
   "version": "3.6.15"
  },
  "papermill": {
   "default_parameters": {},
   "duration": 20.138414,
   "end_time": "2022-07-03T03:08:51.791145",
   "environment_variables": {},
   "exception": null,
   "input_path": "App-Correlation_charts.ipynb",
   "output_path": "App-Correlation_charts.ipynb",
   "parameters": {},
   "start_time": "2022-07-03T03:08:31.652731",
   "version": "2.2.2"
  }
 },
 "nbformat": 4,
 "nbformat_minor": 5
}