{
 "cells": [
  {
   "cell_type": "markdown",
   "id": "touched-facility",
   "metadata": {
    "papermill": {
     "duration": 0.016919,
     "end_time": "2022-02-21T01:59:28.946115",
     "exception": false,
     "start_time": "2022-02-21T01:59:28.929196",
     "status": "completed"
    },
    "tags": []
   },
   "source": [
    "# Koreliacijų matrica\n",
    "> Išplėstinė koreliacijų matrica. \n",
    "\n",
    "- toc: true \n",
    "- badges: true\n",
    "- comments: false\n",
    "- categories: [Dominykas Tautkus]\n",
    "- image: images/matrix.png"
   ]
  },
  {
   "cell_type": "code",
   "execution_count": null,
   "id": "premium-weekend",
   "metadata": {
    "papermill": {
     "duration": 0.012111,
     "end_time": "2022-02-21T01:59:28.971450",
     "exception": false,
     "start_time": "2022-02-21T01:59:28.959339",
     "status": "completed"
    },
    "tags": []
   },
   "outputs": [],
   "source": []
  },
  {
   "cell_type": "code",
   "execution_count": 1,
   "id": "vertical-rebate",
   "metadata": {
    "execution": {
     "iopub.execute_input": "2022-02-21T01:59:29.007990Z",
     "iopub.status.busy": "2022-02-21T01:59:29.007345Z",
     "iopub.status.idle": "2022-02-21T01:59:29.019675Z",
     "shell.execute_reply": "2022-02-21T01:59:29.019114Z"
    },
    "papermill": {
     "duration": 0.036371,
     "end_time": "2022-02-21T01:59:29.019830",
     "exception": false,
     "start_time": "2022-02-21T01:59:28.983459",
     "status": "completed"
    },
    "tags": []
   },
   "outputs": [],
   "source": [
    "#hide\n",
    "%load_ext autoreload\n",
    "%autoreload 2"
   ]
  },
  {
   "cell_type": "code",
   "execution_count": 2,
   "id": "overall-advancement",
   "metadata": {
    "execution": {
     "iopub.execute_input": "2022-02-21T01:59:29.049827Z",
     "iopub.status.busy": "2022-02-21T01:59:29.049210Z",
     "iopub.status.idle": "2022-02-21T01:59:30.539659Z",
     "shell.execute_reply": "2022-02-21T01:59:30.540508Z"
    },
    "papermill": {
     "duration": 1.508768,
     "end_time": "2022-02-21T01:59:30.540708",
     "exception": false,
     "start_time": "2022-02-21T01:59:29.031940",
     "status": "completed"
    },
    "tags": []
   },
   "outputs": [],
   "source": [
    "#hide\n",
    "from scripts.read_data import read_api\n",
    "from IPython.display import HTML\n",
    "import plotly.graph_objects as go\n"
   ]
  },
  {
   "cell_type": "code",
   "execution_count": 3,
   "id": "light-crazy",
   "metadata": {
    "execution": {
     "iopub.execute_input": "2022-02-21T01:59:30.570978Z",
     "iopub.status.busy": "2022-02-21T01:59:30.570374Z",
     "iopub.status.idle": "2022-02-21T01:59:30.596664Z",
     "shell.execute_reply": "2022-02-21T01:59:30.596116Z"
    },
    "papermill": {
     "duration": 0.042678,
     "end_time": "2022-02-21T01:59:30.596811",
     "exception": false,
     "start_time": "2022-02-21T01:59:30.554133",
     "status": "completed"
    },
    "tags": []
   },
   "outputs": [],
   "source": [
    "#hide\n",
    "### ICO koreliacija"
   ]
  },
  {
   "cell_type": "code",
   "execution_count": 4,
   "id": "likely-bahrain",
   "metadata": {
    "execution": {
     "iopub.execute_input": "2022-02-21T01:59:30.628342Z",
     "iopub.status.busy": "2022-02-21T01:59:30.627754Z",
     "iopub.status.idle": "2022-02-21T01:59:31.700588Z",
     "shell.execute_reply": "2022-02-21T01:59:31.699681Z"
    },
    "papermill": {
     "duration": 1.090029,
     "end_time": "2022-02-21T01:59:31.700738",
     "exception": false,
     "start_time": "2022-02-21T01:59:30.610709",
     "status": "completed"
    },
    "tags": []
   },
   "outputs": [],
   "source": [
    "#hide\n",
    "import matplotlib.pyplot as plt\n",
    "import numpy as np\n",
    "import pandas as pd\n",
    "import seaborn as sns\n",
    "import matplotlib.pyplot as plt \n",
    "import matplotlib.dates as mdates\n",
    "import matplotlib.pyplot as plt"
   ]
  },
  {
   "cell_type": "code",
   "execution_count": 5,
   "id": "superior-blanket",
   "metadata": {
    "execution": {
     "iopub.execute_input": "2022-02-21T01:59:31.730124Z",
     "iopub.status.busy": "2022-02-21T01:59:31.729351Z",
     "iopub.status.idle": "2022-02-21T01:59:44.449255Z",
     "shell.execute_reply": "2022-02-21T01:59:44.449770Z"
    },
    "papermill": {
     "duration": 12.736762,
     "end_time": "2022-02-21T01:59:44.449931",
     "exception": false,
     "start_time": "2022-02-21T01:59:31.713169",
     "status": "completed"
    },
    "tags": []
   },
   "outputs": [
    {
     "name": "stderr",
     "output_type": "stream",
     "text": [
      "/home/runner/work/corr-app/corr-app/_notebooks/scripts/read_data.py:187: SettingWithCopyWarning:\n",
      "\n",
      "\n",
      "A value is trying to be set on a copy of a slice from a DataFrame.\n",
      "Try using .loc[row_indexer,col_indexer] = value instead\n",
      "\n",
      "See the caveats in the documentation: https://pandas.pydata.org/pandas-docs/stable/user_guide/indexing.html#returning-a-view-versus-a-copy\n",
      "\n"
     ]
    },
    {
     "name": "stderr",
     "output_type": "stream",
     "text": [
      "/home/runner/work/corr-app/corr-app/_notebooks/scripts/read_data.py:215: SettingWithCopyWarning:\n",
      "\n",
      "\n",
      "A value is trying to be set on a copy of a slice from a DataFrame.\n",
      "Try using .loc[row_indexer,col_indexer] = value instead\n",
      "\n",
      "See the caveats in the documentation: https://pandas.pydata.org/pandas-docs/stable/user_guide/indexing.html#returning-a-view-versus-a-copy\n",
      "\n"
     ]
    }
   ],
   "source": [
    "#hide\n",
    "df_all = read_api()\n",
    "#df_all = df_all.drop(['SP500', 'XAU', 'ETH', 'BTC'], axis=1)\n",
    "\n"
   ]
  },
  {
   "cell_type": "code",
   "execution_count": 6,
   "id": "mature-alert",
   "metadata": {
    "execution": {
     "iopub.execute_input": "2022-02-21T01:59:44.483828Z",
     "iopub.status.busy": "2022-02-21T01:59:44.482651Z",
     "iopub.status.idle": "2022-02-21T01:59:44.518696Z",
     "shell.execute_reply": "2022-02-21T01:59:44.518175Z"
    },
    "papermill": {
     "duration": 0.055606,
     "end_time": "2022-02-21T01:59:44.518835",
     "exception": false,
     "start_time": "2022-02-21T01:59:44.463229",
     "status": "completed"
    },
    "tags": []
   },
   "outputs": [],
   "source": [
    "#hide_input\n",
    "sum_corr = df_all.corr().sum().sort_values(ascending=True).index.values\n",
    "#df_all[sum_corr].corr()"
   ]
  },
  {
   "cell_type": "markdown",
   "id": "complex-syndicate",
   "metadata": {
    "papermill": {
     "duration": 0.013938,
     "end_time": "2022-02-21T01:59:44.547025",
     "exception": false,
     "start_time": "2022-02-21T01:59:44.533087",
     "status": "completed"
    },
    "tags": []
   },
   "source": [
    "## Išplėstinė koreliacijų matrica. "
   ]
  },
  {
   "cell_type": "code",
   "execution_count": 7,
   "id": "atomic-omaha",
   "metadata": {
    "execution": {
     "iopub.execute_input": "2022-02-21T01:59:44.581761Z",
     "iopub.status.busy": "2022-02-21T01:59:44.579907Z",
     "iopub.status.idle": "2022-02-21T01:59:46.030680Z",
     "shell.execute_reply": "2022-02-21T01:59:46.030131Z"
    },
    "papermill": {
     "duration": 1.470478,
     "end_time": "2022-02-21T01:59:46.030816",
     "exception": false,
     "start_time": "2022-02-21T01:59:44.560338",
     "status": "completed"
    },
    "tags": []
   },
   "outputs": [
    {
     "data": {
      "image/png": "[encoded data removed]",
      "text/plain": [
       "<Figure size 1080x792 with 2 Axes>"
      ]
     },
     "metadata": {
      "needs_background": "light"
     },
     "output_type": "display_data"
    }
   ],
   "source": [
    "#hide_input\n",
    "plt.figure(figsize=(15, 11))\n",
    "sns.heatmap(df_all[sum_corr].corr(), annot=True, cmap=\"cubehelix\") \n",
    "sns.set(font_scale=1.25)\n",
    "plt.savefig('corr_matrix.png', format='eps')"
   ]
  },
  {
   "cell_type": "code",
   "execution_count": 8,
   "id": "arbitrary-sullivan",
   "metadata": {
    "execution": {
     "iopub.execute_input": "2022-02-21T01:59:46.071465Z",
     "iopub.status.busy": "2022-02-21T01:59:46.070805Z",
     "iopub.status.idle": "2022-02-21T01:59:46.104040Z",
     "shell.execute_reply": "2022-02-21T01:59:46.103076Z"
    },
    "papermill": {
     "duration": 0.056893,
     "end_time": "2022-02-21T01:59:46.104237",
     "exception": false,
     "start_time": "2022-02-21T01:59:46.047344",
     "status": "completed"
    },
    "tags": []
   },
   "outputs": [],
   "source": [
    "#hide\n",
    "#df_all_mrk = read_api()"
   ]
  },
  {
   "cell_type": "code",
   "execution_count": 9,
   "id": "delayed-adapter",
   "metadata": {
    "execution": {
     "iopub.execute_input": "2022-02-21T01:59:46.145300Z",
     "iopub.status.busy": "2022-02-21T01:59:46.144678Z",
     "iopub.status.idle": "2022-02-21T01:59:46.176444Z",
     "shell.execute_reply": "2022-02-21T01:59:46.175836Z"
    },
    "papermill": {
     "duration": 0.055461,
     "end_time": "2022-02-21T01:59:46.176592",
     "exception": false,
     "start_time": "2022-02-21T01:59:46.121131",
     "status": "completed"
    },
    "tags": []
   },
   "outputs": [],
   "source": [
    "#hide\n",
    "#Koreliacijų koeficientai"
   ]
  },
  {
   "cell_type": "code",
   "execution_count": 10,
   "id": "seeing-celebration",
   "metadata": {
    "execution": {
     "iopub.execute_input": "2022-02-21T01:59:46.221486Z",
     "iopub.status.busy": "2022-02-21T01:59:46.220784Z",
     "iopub.status.idle": "2022-02-21T01:59:46.251816Z",
     "shell.execute_reply": "2022-02-21T01:59:46.251054Z"
    },
    "papermill": {
     "duration": 0.055384,
     "end_time": "2022-02-21T01:59:46.251947",
     "exception": false,
     "start_time": "2022-02-21T01:59:46.196563",
     "status": "completed"
    },
    "tags": []
   },
   "outputs": [],
   "source": [
    "#hide_input\n",
    "#sum_corr = df_all_mrk.corr().sum().sort_values(ascending=True).index.values\n",
    "#df_all_mrk[sum_corr].corr()"
   ]
  },
  {
   "cell_type": "code",
   "execution_count": 11,
   "id": "other-painting",
   "metadata": {
    "execution": {
     "iopub.execute_input": "2022-02-21T01:59:46.290290Z",
     "iopub.status.busy": "2022-02-21T01:59:46.289702Z",
     "iopub.status.idle": "2022-02-21T01:59:46.320948Z",
     "shell.execute_reply": "2022-02-21T01:59:46.320274Z"
    },
    "papermill": {
     "duration": 0.053226,
     "end_time": "2022-02-21T01:59:46.321123",
     "exception": false,
     "start_time": "2022-02-21T01:59:46.267897",
     "status": "completed"
    },
    "tags": []
   },
   "outputs": [],
   "source": [
    "#hide\n",
    "#Koreliacijos matrica. "
   ]
  },
  {
   "cell_type": "code",
   "execution_count": 12,
   "id": "modular-magnitude",
   "metadata": {
    "execution": {
     "iopub.execute_input": "2022-02-21T01:59:46.357828Z",
     "iopub.status.busy": "2022-02-21T01:59:46.357223Z",
     "iopub.status.idle": "2022-02-21T01:59:46.390837Z",
     "shell.execute_reply": "2022-02-21T01:59:46.389992Z"
    },
    "papermill": {
     "duration": 0.053492,
     "end_time": "2022-02-21T01:59:46.391086",
     "exception": false,
     "start_time": "2022-02-21T01:59:46.337594",
     "status": "completed"
    },
    "tags": []
   },
   "outputs": [],
   "source": [
    "#hide_input\n",
    "#plt.figure(figsize=(15, 8))\n",
    "#sns.heatmap(df_all_mrk[sum_corr].corr(), annot=True, cmap=\"BrBG\");\n",
    "#plt.savefig('corr_matrix_all.eps', format='eps')"
   ]
  },
  {
   "cell_type": "code",
   "execution_count": null,
   "id": "original-senator",
   "metadata": {
    "papermill": {
     "duration": 0.015919,
     "end_time": "2022-02-21T01:59:46.423123",
     "exception": false,
     "start_time": "2022-02-21T01:59:46.407204",
     "status": "completed"
    },
    "tags": []
   },
   "outputs": [],
   "source": []
  },
  {
   "cell_type": "code",
   "execution_count": null,
   "id": "saving-secretariat",
   "metadata": {
    "papermill": {
     "duration": 0.021301,
     "end_time": "2022-02-21T01:59:46.464184",
     "exception": false,
     "start_time": "2022-02-21T01:59:46.442883",
     "status": "completed"
    },
    "tags": []
   },
   "outputs": [],
   "source": []
  }
 ],
 "metadata": {
  "kernelspec": {
   "display_name": "Python 3",
   "language": "python",
   "name": "python3"
  },
  "language_info": {
   "codemirror_mode": {
    "name": "ipython",
    "version": 3
   },
   "file_extension": ".py",
   "mimetype": "text/x-python",
   "name": "python",
   "nbconvert_exporter": "python",
   "pygments_lexer": "ipython3",
   "version": "3.6.15"
  },
  "papermill": {
   "default_parameters": {},
   "duration": 19.475516,
   "end_time": "2022-02-21T01:59:47.102135",
   "environment_variables": {},
   "exception": null,
   "input_path": "App-Correlation_charts.ipynb",
   "output_path": "App-Correlation_charts.ipynb",
   "parameters": {},
   "start_time": "2022-02-21T01:59:27.626619",
   "version": "2.2.2"
  }
 },
 "nbformat": 4,
 "nbformat_minor": 5
}