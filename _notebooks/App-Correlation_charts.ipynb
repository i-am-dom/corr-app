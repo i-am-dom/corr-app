{
 "cells": [
  {
   "cell_type": "markdown",
   "id": "touched-facility",
   "metadata": {
    "papermill": {
     "duration": 0.017989,
     "end_time": "2021-10-23T02:02:59.301426",
     "exception": false,
     "start_time": "2021-10-23T02:02:59.283437",
     "status": "completed"
    },
    "tags": []
   },
   "source": [
    "# Koreliacijų matrica\n",
    "> Išplėstinė koreliacijų matrica. \n",
    "\n",
    "- toc: true \n",
    "- badges: true\n",
    "- comments: false\n",
    "- categories: [Dominykas Tautkus]\n",
    "- image: images/matrix.png"
   ]
  },
  {
   "cell_type": "code",
   "execution_count": null,
   "id": "premium-weekend",
   "metadata": {
    "papermill": {
     "duration": 0.011595,
     "end_time": "2021-10-23T02:02:59.325309",
     "exception": false,
     "start_time": "2021-10-23T02:02:59.313714",
     "status": "completed"
    },
    "tags": []
   },
   "outputs": [],
   "source": []
  },
  {
   "cell_type": "code",
   "execution_count": 1,
   "id": "vertical-rebate",
   "metadata": {
    "execution": {
     "iopub.execute_input": "2021-10-23T02:02:59.360040Z",
     "iopub.status.busy": "2021-10-23T02:02:59.359424Z",
     "iopub.status.idle": "2021-10-23T02:02:59.370464Z",
     "shell.execute_reply": "2021-10-23T02:02:59.370983Z"
    },
    "papermill": {
     "duration": 0.034369,
     "end_time": "2021-10-23T02:02:59.371148",
     "exception": false,
     "start_time": "2021-10-23T02:02:59.336779",
     "status": "completed"
    },
    "tags": []
   },
   "outputs": [],
   "source": [
    "#hide\n",
    "%load_ext autoreload\n",
    "%autoreload 2"
   ]
  },
  {
   "cell_type": "code",
   "execution_count": 2,
   "id": "overall-advancement",
   "metadata": {
    "execution": {
     "iopub.execute_input": "2021-10-23T02:02:59.397836Z",
     "iopub.status.busy": "2021-10-23T02:02:59.397282Z",
     "iopub.status.idle": "2021-10-23T02:03:00.661351Z",
     "shell.execute_reply": "2021-10-23T02:03:00.660105Z"
    },
    "papermill": {
     "duration": 1.278713,
     "end_time": "2021-10-23T02:03:00.661498",
     "exception": false,
     "start_time": "2021-10-23T02:02:59.382785",
     "status": "completed"
    },
    "tags": []
   },
   "outputs": [],
   "source": [
    "#hide\n",
    "from scripts.read_data import read_api\n",
    "from IPython.display import HTML\n",
    "import plotly.graph_objects as go\n"
   ]
  },
  {
   "cell_type": "code",
   "execution_count": 3,
   "id": "light-crazy",
   "metadata": {
    "execution": {
     "iopub.execute_input": "2021-10-23T02:03:00.689278Z",
     "iopub.status.busy": "2021-10-23T02:03:00.688699Z",
     "iopub.status.idle": "2021-10-23T02:03:00.713158Z",
     "shell.execute_reply": "2021-10-23T02:03:00.712549Z"
    },
    "papermill": {
     "duration": 0.040218,
     "end_time": "2021-10-23T02:03:00.713311",
     "exception": false,
     "start_time": "2021-10-23T02:03:00.673093",
     "status": "completed"
    },
    "tags": []
   },
   "outputs": [],
   "source": [
    "#hide\n",
    "### ICO koreliacija"
   ]
  },
  {
   "cell_type": "code",
   "execution_count": 4,
   "id": "likely-bahrain",
   "metadata": {
    "execution": {
     "iopub.execute_input": "2021-10-23T02:03:00.742533Z",
     "iopub.status.busy": "2021-10-23T02:03:00.741890Z",
     "iopub.status.idle": "2021-10-23T02:03:01.656258Z",
     "shell.execute_reply": "2021-10-23T02:03:01.655443Z"
    },
    "papermill": {
     "duration": 0.931177,
     "end_time": "2021-10-23T02:03:01.656394",
     "exception": false,
     "start_time": "2021-10-23T02:03:00.725217",
     "status": "completed"
    },
    "tags": []
   },
   "outputs": [],
   "source": [
    "#hide\n",
    "import matplotlib.pyplot as plt\n",
    "import numpy as np\n",
    "import pandas as pd\n",
    "import seaborn as sns\n",
    "import matplotlib.pyplot as plt \n",
    "import matplotlib.dates as mdates\n",
    "import matplotlib.pyplot as plt"
   ]
  },
  {
   "cell_type": "code",
   "execution_count": 5,
   "id": "superior-blanket",
   "metadata": {
    "execution": {
     "iopub.execute_input": "2021-10-23T02:03:01.688423Z",
     "iopub.status.busy": "2021-10-23T02:03:01.686386Z",
     "iopub.status.idle": "2021-10-23T02:03:13.472046Z",
     "shell.execute_reply": "2021-10-23T02:03:13.471556Z"
    },
    "papermill": {
     "duration": 11.803941,
     "end_time": "2021-10-23T02:03:13.472193",
     "exception": false,
     "start_time": "2021-10-23T02:03:01.668252",
     "status": "completed"
    },
    "tags": []
   },
   "outputs": [
    {
     "name": "stderr",
     "output_type": "stream",
     "text": [
      "/home/runner/work/corr-app/corr-app/_notebooks/scripts/read_data.py:187: SettingWithCopyWarning:\n",
      "\n",
      "\n",
      "A value is trying to be set on a copy of a slice from a DataFrame.\n",
      "Try using .loc[row_indexer,col_indexer] = value instead\n",
      "\n",
      "See the caveats in the documentation: https://pandas.pydata.org/pandas-docs/stable/user_guide/indexing.html#returning-a-view-versus-a-copy\n",
      "\n"
     ]
    },
    {
     "name": "stderr",
     "output_type": "stream",
     "text": [
      "/home/runner/work/corr-app/corr-app/_notebooks/scripts/read_data.py:215: SettingWithCopyWarning:\n",
      "\n",
      "\n",
      "A value is trying to be set on a copy of a slice from a DataFrame.\n",
      "Try using .loc[row_indexer,col_indexer] = value instead\n",
      "\n",
      "See the caveats in the documentation: https://pandas.pydata.org/pandas-docs/stable/user_guide/indexing.html#returning-a-view-versus-a-copy\n",
      "\n"
     ]
    }
   ],
   "source": [
    "#hide\n",
    "df_all = read_api()\n",
    "#df_all = df_all.drop(['SP500', 'XAU', 'ETH', 'BTC'], axis=1)\n",
    "\n"
   ]
  },
  {
   "cell_type": "code",
   "execution_count": 6,
   "id": "mature-alert",
   "metadata": {
    "execution": {
     "iopub.execute_input": "2021-10-23T02:03:13.502757Z",
     "iopub.status.busy": "2021-10-23T02:03:13.502160Z",
     "iopub.status.idle": "2021-10-23T02:03:13.536024Z",
     "shell.execute_reply": "2021-10-23T02:03:13.535303Z"
    },
    "papermill": {
     "duration": 0.05143,
     "end_time": "2021-10-23T02:03:13.536205",
     "exception": false,
     "start_time": "2021-10-23T02:03:13.484775",
     "status": "completed"
    },
    "tags": []
   },
   "outputs": [],
   "source": [
    "#hide_input\n",
    "sum_corr = df_all.corr().sum().sort_values(ascending=True).index.values\n",
    "#df_all[sum_corr].corr()"
   ]
  },
  {
   "cell_type": "markdown",
   "id": "complex-syndicate",
   "metadata": {
    "papermill": {
     "duration": 0.01291,
     "end_time": "2021-10-23T02:03:13.563582",
     "exception": false,
     "start_time": "2021-10-23T02:03:13.550672",
     "status": "completed"
    },
    "tags": []
   },
   "source": [
    "## Išplėstinė koreliacijų matrica. "
   ]
  },
  {
   "cell_type": "code",
   "execution_count": 7,
   "id": "atomic-omaha",
   "metadata": {
    "execution": {
     "iopub.execute_input": "2021-10-23T02:03:13.597702Z",
     "iopub.status.busy": "2021-10-23T02:03:13.595264Z",
     "iopub.status.idle": "2021-10-23T02:03:14.925742Z",
     "shell.execute_reply": "2021-10-23T02:03:14.925264Z"
    },
    "papermill": {
     "duration": 1.349763,
     "end_time": "2021-10-23T02:03:14.925869",
     "exception": false,
     "start_time": "2021-10-23T02:03:13.576106",
     "status": "completed"
    },
    "tags": []
   },
   "outputs": [
    {
     "data": {
      "image/png": "[encoded data removed]",
      "text/plain": [
       "<Figure size 1080x792 with 2 Axes>"
      ]
     },
     "metadata": {
      "needs_background": "light"
     },
     "output_type": "display_data"
    }
   ],
   "source": [
    "#hide_input\n",
    "plt.figure(figsize=(15, 11))\n",
    "sns.heatmap(df_all[sum_corr].corr(), annot=True, cmap=\"cubehelix\") \n",
    "sns.set(font_scale=1.25)\n",
    "plt.savefig('corr_matrix.png', format='eps')"
   ]
  },
  {
   "cell_type": "code",
   "execution_count": 8,
   "id": "arbitrary-sullivan",
   "metadata": {
    "execution": {
     "iopub.execute_input": "2021-10-23T02:03:14.959820Z",
     "iopub.status.busy": "2021-10-23T02:03:14.959083Z",
     "iopub.status.idle": "2021-10-23T02:03:14.988888Z",
     "shell.execute_reply": "2021-10-23T02:03:14.988060Z"
    },
    "papermill": {
     "duration": 0.048053,
     "end_time": "2021-10-23T02:03:14.989055",
     "exception": false,
     "start_time": "2021-10-23T02:03:14.941002",
     "status": "completed"
    },
    "tags": []
   },
   "outputs": [],
   "source": [
    "#hide\n",
    "#df_all_mrk = read_api()"
   ]
  },
  {
   "cell_type": "code",
   "execution_count": 9,
   "id": "delayed-adapter",
   "metadata": {
    "execution": {
     "iopub.execute_input": "2021-10-23T02:03:15.023674Z",
     "iopub.status.busy": "2021-10-23T02:03:15.023087Z",
     "iopub.status.idle": "2021-10-23T02:03:15.055773Z",
     "shell.execute_reply": "2021-10-23T02:03:15.054947Z"
    },
    "papermill": {
     "duration": 0.051927,
     "end_time": "2021-10-23T02:03:15.055963",
     "exception": false,
     "start_time": "2021-10-23T02:03:15.004036",
     "status": "completed"
    },
    "tags": []
   },
   "outputs": [],
   "source": [
    "#hide\n",
    "#Koreliacijų koeficientai"
   ]
  },
  {
   "cell_type": "code",
   "execution_count": 10,
   "id": "seeing-celebration",
   "metadata": {
    "execution": {
     "iopub.execute_input": "2021-10-23T02:03:15.090853Z",
     "iopub.status.busy": "2021-10-23T02:03:15.090258Z",
     "iopub.status.idle": "2021-10-23T02:03:15.119008Z",
     "shell.execute_reply": "2021-10-23T02:03:15.118380Z"
    },
    "papermill": {
     "duration": 0.04639,
     "end_time": "2021-10-23T02:03:15.119150",
     "exception": false,
     "start_time": "2021-10-23T02:03:15.072760",
     "status": "completed"
    },
    "tags": []
   },
   "outputs": [],
   "source": [
    "#hide_input\n",
    "#sum_corr = df_all_mrk.corr().sum().sort_values(ascending=True).index.values\n",
    "#df_all_mrk[sum_corr].corr()"
   ]
  },
  {
   "cell_type": "code",
   "execution_count": 11,
   "id": "other-painting",
   "metadata": {
    "execution": {
     "iopub.execute_input": "2021-10-23T02:03:15.152452Z",
     "iopub.status.busy": "2021-10-23T02:03:15.151778Z",
     "iopub.status.idle": "2021-10-23T02:03:15.181818Z",
     "shell.execute_reply": "2021-10-23T02:03:15.182475Z"
    },
    "papermill": {
     "duration": 0.048439,
     "end_time": "2021-10-23T02:03:15.182635",
     "exception": false,
     "start_time": "2021-10-23T02:03:15.134196",
     "status": "completed"
    },
    "tags": []
   },
   "outputs": [],
   "source": [
    "#hide\n",
    "#Koreliacijos matrica. "
   ]
  },
  {
   "cell_type": "code",
   "execution_count": 12,
   "id": "modular-magnitude",
   "metadata": {
    "execution": {
     "iopub.execute_input": "2021-10-23T02:03:15.220598Z",
     "iopub.status.busy": "2021-10-23T02:03:15.220005Z",
     "iopub.status.idle": "2021-10-23T02:03:15.249742Z",
     "shell.execute_reply": "2021-10-23T02:03:15.249197Z"
    },
    "papermill": {
     "duration": 0.051949,
     "end_time": "2021-10-23T02:03:15.249883",
     "exception": false,
     "start_time": "2021-10-23T02:03:15.197934",
     "status": "completed"
    },
    "tags": []
   },
   "outputs": [],
   "source": [
    "#hide_input\n",
    "#plt.figure(figsize=(15, 8))\n",
    "#sns.heatmap(df_all_mrk[sum_corr].corr(), annot=True, cmap=\"BrBG\");\n",
    "#plt.savefig('corr_matrix_all.eps', format='eps')"
   ]
  },
  {
   "cell_type": "code",
   "execution_count": null,
   "id": "original-senator",
   "metadata": {
    "papermill": {
     "duration": 0.014961,
     "end_time": "2021-10-23T02:03:15.281286",
     "exception": false,
     "start_time": "2021-10-23T02:03:15.266325",
     "status": "completed"
    },
    "tags": []
   },
   "outputs": [],
   "source": []
  },
  {
   "cell_type": "code",
   "execution_count": null,
   "id": "saving-secretariat",
   "metadata": {
    "papermill": {
     "duration": 0.014916,
     "end_time": "2021-10-23T02:03:15.311310",
     "exception": false,
     "start_time": "2021-10-23T02:03:15.296394",
     "status": "completed"
    },
    "tags": []
   },
   "outputs": [],
   "source": []
  }
 ],
 "metadata": {
  "kernelspec": {
   "display_name": "Python 3",
   "language": "python",
   "name": "python3"
  },
  "language_info": {
   "codemirror_mode": {
    "name": "ipython",
    "version": 3
   },
   "file_extension": ".py",
   "mimetype": "text/x-python",
   "name": "python",
   "nbconvert_exporter": "python",
   "pygments_lexer": "ipython3",
   "version": "3.6.15"
  },
  "papermill": {
   "default_parameters": {},
   "duration": 17.621096,
   "end_time": "2021-10-23T02:03:15.835902",
   "environment_variables": {},
   "exception": null,
   "input_path": "App-Correlation_charts.ipynb",
   "output_path": "App-Correlation_charts.ipynb",
   "parameters": {},
   "start_time": "2021-10-23T02:02:58.214806",
   "version": "2.2.2"
  }
 },
 "nbformat": 4,
 "nbformat_minor": 5
}