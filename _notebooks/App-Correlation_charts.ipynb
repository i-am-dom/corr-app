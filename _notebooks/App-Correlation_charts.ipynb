{
 "cells": [
  {
   "cell_type": "markdown",
   "id": "touched-facility",
   "metadata": {
    "papermill": {
     "duration": 0.01485,
     "end_time": "2021-09-16T02:03:08.602354",
     "exception": false,
     "start_time": "2021-09-16T02:03:08.587504",
     "status": "completed"
    },
    "tags": []
   },
   "source": [
    "# Koreliacijų matrica\n",
    "> Išplėstinė koreliacijų matrica. \n",
    "\n",
    "- toc: true \n",
    "- badges: true\n",
    "- comments: false\n",
    "- categories: [Dominykas Tautkus]\n",
    "- image: images/matrix.png"
   ]
  },
  {
   "cell_type": "code",
   "execution_count": null,
   "id": "premium-weekend",
   "metadata": {
    "papermill": {
     "duration": 0.010983,
     "end_time": "2021-09-16T02:03:08.624723",
     "exception": false,
     "start_time": "2021-09-16T02:03:08.613740",
     "status": "completed"
    },
    "tags": []
   },
   "outputs": [],
   "source": []
  },
  {
   "cell_type": "code",
   "execution_count": 1,
   "id": "vertical-rebate",
   "metadata": {
    "execution": {
     "iopub.execute_input": "2021-09-16T02:03:08.656497Z",
     "iopub.status.busy": "2021-09-16T02:03:08.655954Z",
     "iopub.status.idle": "2021-09-16T02:03:08.666113Z",
     "shell.execute_reply": "2021-09-16T02:03:08.665678Z"
    },
    "papermill": {
     "duration": 0.030932,
     "end_time": "2021-09-16T02:03:08.666240",
     "exception": false,
     "start_time": "2021-09-16T02:03:08.635308",
     "status": "completed"
    },
    "tags": []
   },
   "outputs": [],
   "source": [
    "#hide\n",
    "%load_ext autoreload\n",
    "%autoreload 2"
   ]
  },
  {
   "cell_type": "code",
   "execution_count": 2,
   "id": "overall-advancement",
   "metadata": {
    "execution": {
     "iopub.execute_input": "2021-09-16T02:03:08.695491Z",
     "iopub.status.busy": "2021-09-16T02:03:08.694977Z",
     "iopub.status.idle": "2021-09-16T02:03:09.939984Z",
     "shell.execute_reply": "2021-09-16T02:03:09.939452Z"
    },
    "papermill": {
     "duration": 1.263107,
     "end_time": "2021-09-16T02:03:09.940125",
     "exception": false,
     "start_time": "2021-09-16T02:03:08.677018",
     "status": "completed"
    },
    "tags": []
   },
   "outputs": [],
   "source": [
    "#hide\n",
    "from scripts.read_data import read_api\n",
    "from IPython.display import HTML\n",
    "import plotly.graph_objects as go\n"
   ]
  },
  {
   "cell_type": "code",
   "execution_count": 3,
   "id": "light-crazy",
   "metadata": {
    "execution": {
     "iopub.execute_input": "2021-09-16T02:03:09.970537Z",
     "iopub.status.busy": "2021-09-16T02:03:09.969977Z",
     "iopub.status.idle": "2021-09-16T02:03:09.990942Z",
     "shell.execute_reply": "2021-09-16T02:03:09.990506Z"
    },
    "papermill": {
     "duration": 0.038651,
     "end_time": "2021-09-16T02:03:09.991063",
     "exception": false,
     "start_time": "2021-09-16T02:03:09.952412",
     "status": "completed"
    },
    "tags": []
   },
   "outputs": [],
   "source": [
    "#hide\n",
    "### ICO koreliacija"
   ]
  },
  {
   "cell_type": "code",
   "execution_count": 4,
   "id": "likely-bahrain",
   "metadata": {
    "execution": {
     "iopub.execute_input": "2021-09-16T02:03:10.020291Z",
     "iopub.status.busy": "2021-09-16T02:03:10.019738Z",
     "iopub.status.idle": "2021-09-16T02:03:10.846211Z",
     "shell.execute_reply": "2021-09-16T02:03:10.845687Z"
    },
    "papermill": {
     "duration": 0.844433,
     "end_time": "2021-09-16T02:03:10.846348",
     "exception": false,
     "start_time": "2021-09-16T02:03:10.001915",
     "status": "completed"
    },
    "tags": []
   },
   "outputs": [],
   "source": [
    "#hide\n",
    "import matplotlib.pyplot as plt\n",
    "import numpy as np\n",
    "import pandas as pd\n",
    "import seaborn as sns\n",
    "import matplotlib.pyplot as plt \n",
    "import matplotlib.dates as mdates\n",
    "import matplotlib.pyplot as plt"
   ]
  },
  {
   "cell_type": "code",
   "execution_count": 5,
   "id": "superior-blanket",
   "metadata": {
    "execution": {
     "iopub.execute_input": "2021-09-16T02:03:10.874590Z",
     "iopub.status.busy": "2021-09-16T02:03:10.874063Z",
     "iopub.status.idle": "2021-09-16T02:03:23.754416Z",
     "shell.execute_reply": "2021-09-16T02:03:23.753931Z"
    },
    "papermill": {
     "duration": 12.896298,
     "end_time": "2021-09-16T02:03:23.754535",
     "exception": false,
     "start_time": "2021-09-16T02:03:10.858237",
     "status": "completed"
    },
    "tags": []
   },
   "outputs": [
    {
     "name": "stderr",
     "output_type": "stream",
     "text": [
      "/home/runner/work/corr-app/corr-app/_notebooks/scripts/read_data.py:187: SettingWithCopyWarning:\n",
      "\n",
      "\n",
      "A value is trying to be set on a copy of a slice from a DataFrame.\n",
      "Try using .loc[row_indexer,col_indexer] = value instead\n",
      "\n",
      "See the caveats in the documentation: https://pandas.pydata.org/pandas-docs/stable/user_guide/indexing.html#returning-a-view-versus-a-copy\n",
      "\n"
     ]
    },
    {
     "name": "stderr",
     "output_type": "stream",
     "text": [
      "/home/runner/work/corr-app/corr-app/_notebooks/scripts/read_data.py:215: SettingWithCopyWarning:\n",
      "\n",
      "\n",
      "A value is trying to be set on a copy of a slice from a DataFrame.\n",
      "Try using .loc[row_indexer,col_indexer] = value instead\n",
      "\n",
      "See the caveats in the documentation: https://pandas.pydata.org/pandas-docs/stable/user_guide/indexing.html#returning-a-view-versus-a-copy\n",
      "\n"
     ]
    }
   ],
   "source": [
    "#hide\n",
    "df_all = read_api()\n",
    "#df_all = df_all.drop(['SP500', 'XAU', 'ETH', 'BTC'], axis=1)\n",
    "\n"
   ]
  },
  {
   "cell_type": "code",
   "execution_count": 6,
   "id": "mature-alert",
   "metadata": {
    "execution": {
     "iopub.execute_input": "2021-09-16T02:03:23.782198Z",
     "iopub.status.busy": "2021-09-16T02:03:23.781611Z",
     "iopub.status.idle": "2021-09-16T02:03:23.810616Z",
     "shell.execute_reply": "2021-09-16T02:03:23.810116Z"
    },
    "papermill": {
     "duration": 0.044484,
     "end_time": "2021-09-16T02:03:23.810747",
     "exception": false,
     "start_time": "2021-09-16T02:03:23.766263",
     "status": "completed"
    },
    "tags": []
   },
   "outputs": [],
   "source": [
    "#hide_input\n",
    "sum_corr = df_all.corr().sum().sort_values(ascending=True).index.values\n",
    "#df_all[sum_corr].corr()"
   ]
  },
  {
   "cell_type": "markdown",
   "id": "complex-syndicate",
   "metadata": {
    "papermill": {
     "duration": 0.011213,
     "end_time": "2021-09-16T02:03:23.833933",
     "exception": false,
     "start_time": "2021-09-16T02:03:23.822720",
     "status": "completed"
    },
    "tags": []
   },
   "source": [
    "## Išplėstinė koreliacijų matrica. "
   ]
  },
  {
   "cell_type": "code",
   "execution_count": 7,
   "id": "atomic-omaha",
   "metadata": {
    "execution": {
     "iopub.execute_input": "2021-09-16T02:03:23.877873Z",
     "iopub.status.busy": "2021-09-16T02:03:23.873974Z",
     "iopub.status.idle": "2021-09-16T02:03:25.049563Z",
     "shell.execute_reply": "2021-09-16T02:03:25.049977Z"
    },
    "papermill": {
     "duration": 1.205001,
     "end_time": "2021-09-16T02:03:25.050114",
     "exception": false,
     "start_time": "2021-09-16T02:03:23.845113",
     "status": "completed"
    },
    "tags": []
   },
   "outputs": [
    {
     "data": {
      "image/png": "[encoded data removed]",
      "text/plain": [
       "<Figure size 1080x792 with 2 Axes>"
      ]
     },
     "metadata": {
      "needs_background": "light"
     },
     "output_type": "display_data"
    }
   ],
   "source": [
    "#hide_input\n",
    "plt.figure(figsize=(15, 11))\n",
    "sns.heatmap(df_all[sum_corr].corr(), annot=True, cmap=\"cubehelix\") \n",
    "sns.set(font_scale=1.25)\n",
    "plt.savefig('corr_matrix.png', format='eps')"
   ]
  },
  {
   "cell_type": "code",
   "execution_count": 8,
   "id": "arbitrary-sullivan",
   "metadata": {
    "execution": {
     "iopub.execute_input": "2021-09-16T02:03:25.085983Z",
     "iopub.status.busy": "2021-09-16T02:03:25.079790Z",
     "iopub.status.idle": "2021-09-16T02:03:25.105246Z",
     "shell.execute_reply": "2021-09-16T02:03:25.104718Z"
    },
    "papermill": {
     "duration": 0.041854,
     "end_time": "2021-09-16T02:03:25.105383",
     "exception": false,
     "start_time": "2021-09-16T02:03:25.063529",
     "status": "completed"
    },
    "tags": []
   },
   "outputs": [],
   "source": [
    "#hide\n",
    "#df_all_mrk = read_api()"
   ]
  },
  {
   "cell_type": "code",
   "execution_count": 9,
   "id": "delayed-adapter",
   "metadata": {
    "execution": {
     "iopub.execute_input": "2021-09-16T02:03:25.145258Z",
     "iopub.status.busy": "2021-09-16T02:03:25.144715Z",
     "iopub.status.idle": "2021-09-16T02:03:25.164509Z",
     "shell.execute_reply": "2021-09-16T02:03:25.164908Z"
    },
    "papermill": {
     "duration": 0.045233,
     "end_time": "2021-09-16T02:03:25.165046",
     "exception": false,
     "start_time": "2021-09-16T02:03:25.119813",
     "status": "completed"
    },
    "tags": []
   },
   "outputs": [],
   "source": [
    "#hide\n",
    "#Koreliacijų koeficientai"
   ]
  },
  {
   "cell_type": "code",
   "execution_count": 10,
   "id": "seeing-celebration",
   "metadata": {
    "execution": {
     "iopub.execute_input": "2021-09-16T02:03:25.195403Z",
     "iopub.status.busy": "2021-09-16T02:03:25.194883Z",
     "iopub.status.idle": "2021-09-16T02:03:25.219702Z",
     "shell.execute_reply": "2021-09-16T02:03:25.220142Z"
    },
    "papermill": {
     "duration": 0.041778,
     "end_time": "2021-09-16T02:03:25.220292",
     "exception": false,
     "start_time": "2021-09-16T02:03:25.178514",
     "status": "completed"
    },
    "tags": []
   },
   "outputs": [],
   "source": [
    "#hide_input\n",
    "#sum_corr = df_all_mrk.corr().sum().sort_values(ascending=True).index.values\n",
    "#df_all_mrk[sum_corr].corr()"
   ]
  },
  {
   "cell_type": "code",
   "execution_count": 11,
   "id": "other-painting",
   "metadata": {
    "execution": {
     "iopub.execute_input": "2021-09-16T02:03:25.257927Z",
     "iopub.status.busy": "2021-09-16T02:03:25.255984Z",
     "iopub.status.idle": "2021-09-16T02:03:25.278323Z",
     "shell.execute_reply": "2021-09-16T02:03:25.277814Z"
    },
    "papermill": {
     "duration": 0.044292,
     "end_time": "2021-09-16T02:03:25.278454",
     "exception": false,
     "start_time": "2021-09-16T02:03:25.234162",
     "status": "completed"
    },
    "tags": []
   },
   "outputs": [],
   "source": [
    "#hide\n",
    "#Koreliacijos matrica. "
   ]
  },
  {
   "cell_type": "code",
   "execution_count": 12,
   "id": "modular-magnitude",
   "metadata": {
    "execution": {
     "iopub.execute_input": "2021-09-16T02:03:25.323693Z",
     "iopub.status.busy": "2021-09-16T02:03:25.319255Z",
     "iopub.status.idle": "2021-09-16T02:03:25.339204Z",
     "shell.execute_reply": "2021-09-16T02:03:25.339639Z"
    },
    "papermill": {
     "duration": 0.046817,
     "end_time": "2021-09-16T02:03:25.339780",
     "exception": false,
     "start_time": "2021-09-16T02:03:25.292963",
     "status": "completed"
    },
    "tags": []
   },
   "outputs": [],
   "source": [
    "#hide_input\n",
    "#plt.figure(figsize=(15, 8))\n",
    "#sns.heatmap(df_all_mrk[sum_corr].corr(), annot=True, cmap=\"BrBG\");\n",
    "#plt.savefig('corr_matrix_all.eps', format='eps')"
   ]
  },
  {
   "cell_type": "code",
   "execution_count": null,
   "id": "original-senator",
   "metadata": {
    "papermill": {
     "duration": 0.013108,
     "end_time": "2021-09-16T02:03:25.366593",
     "exception": false,
     "start_time": "2021-09-16T02:03:25.353485",
     "status": "completed"
    },
    "tags": []
   },
   "outputs": [],
   "source": []
  },
  {
   "cell_type": "code",
   "execution_count": null,
   "id": "saving-secretariat",
   "metadata": {
    "papermill": {
     "duration": 0.013069,
     "end_time": "2021-09-16T02:03:25.392763",
     "exception": false,
     "start_time": "2021-09-16T02:03:25.379694",
     "status": "completed"
    },
    "tags": []
   },
   "outputs": [],
   "source": []
  }
 ],
 "metadata": {
  "kernelspec": {
   "display_name": "Python 3",
   "language": "python",
   "name": "python3"
  },
  "language_info": {
   "codemirror_mode": {
    "name": "ipython",
    "version": 3
   },
   "file_extension": ".py",
   "mimetype": "text/x-python",
   "name": "python",
   "nbconvert_exporter": "python",
   "pygments_lexer": "ipython3",
   "version": "3.6.14"
  },
  "papermill": {
   "default_parameters": {},
   "duration": 18.603943,
   "end_time": "2021-09-16T02:03:26.014039",
   "environment_variables": {},
   "exception": null,
   "input_path": "App-Correlation_charts.ipynb",
   "output_path": "App-Correlation_charts.ipynb",
   "parameters": {},
   "start_time": "2021-09-16T02:03:07.410096",
   "version": "2.2.2"
  }
 },
 "nbformat": 4,
 "nbformat_minor": 5
}