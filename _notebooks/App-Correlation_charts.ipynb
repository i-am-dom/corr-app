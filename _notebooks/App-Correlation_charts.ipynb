{
 "cells": [
  {
   "cell_type": "markdown",
   "id": "touched-facility",
   "metadata": {
    "papermill": {
     "duration": 0.017801,
     "end_time": "2022-06-18T02:59:51.812282",
     "exception": false,
     "start_time": "2022-06-18T02:59:51.794481",
     "status": "completed"
    },
    "tags": []
   },
   "source": [
    "# Koreliacijų matrica\n",
    "> Išplėstinė koreliacijų matrica. \n",
    "\n",
    "- toc: true \n",
    "- badges: true\n",
    "- comments: false\n",
    "- categories: [Dominykas Tautkus]\n",
    "- image: images/matrix.png"
   ]
  },
  {
   "cell_type": "code",
   "execution_count": null,
   "id": "premium-weekend",
   "metadata": {
    "papermill": {
     "duration": 0.010382,
     "end_time": "2022-06-18T02:59:51.833803",
     "exception": false,
     "start_time": "2022-06-18T02:59:51.823421",
     "status": "completed"
    },
    "tags": []
   },
   "outputs": [],
   "source": []
  },
  {
   "cell_type": "code",
   "execution_count": 1,
   "id": "vertical-rebate",
   "metadata": {
    "execution": {
     "iopub.execute_input": "2022-06-18T02:59:51.875071Z",
     "iopub.status.busy": "2022-06-18T02:59:51.871255Z",
     "iopub.status.idle": "2022-06-18T02:59:51.886810Z",
     "shell.execute_reply": "2022-06-18T02:59:51.887254Z"
    },
    "papermill": {
     "duration": 0.041758,
     "end_time": "2022-06-18T02:59:51.887383",
     "exception": false,
     "start_time": "2022-06-18T02:59:51.845625",
     "status": "completed"
    },
    "tags": []
   },
   "outputs": [],
   "source": [
    "#hide\n",
    "%load_ext autoreload\n",
    "%autoreload 2"
   ]
  },
  {
   "cell_type": "code",
   "execution_count": 2,
   "id": "overall-advancement",
   "metadata": {
    "execution": {
     "iopub.execute_input": "2022-06-18T02:59:51.913367Z",
     "iopub.status.busy": "2022-06-18T02:59:51.912739Z",
     "iopub.status.idle": "2022-06-18T02:59:53.325513Z",
     "shell.execute_reply": "2022-06-18T02:59:53.324824Z"
    },
    "papermill": {
     "duration": 1.427618,
     "end_time": "2022-06-18T02:59:53.325814",
     "exception": false,
     "start_time": "2022-06-18T02:59:51.898196",
     "status": "completed"
    },
    "tags": []
   },
   "outputs": [],
   "source": [
    "#hide\n",
    "from scripts.read_data import read_api\n",
    "from IPython.display import HTML\n",
    "import plotly.graph_objects as go\n"
   ]
  },
  {
   "cell_type": "code",
   "execution_count": 3,
   "id": "light-crazy",
   "metadata": {
    "execution": {
     "iopub.execute_input": "2022-06-18T02:59:53.354291Z",
     "iopub.status.busy": "2022-06-18T02:59:53.353597Z",
     "iopub.status.idle": "2022-06-18T02:59:53.382849Z",
     "shell.execute_reply": "2022-06-18T02:59:53.383385Z"
    },
    "papermill": {
     "duration": 0.045329,
     "end_time": "2022-06-18T02:59:53.383543",
     "exception": false,
     "start_time": "2022-06-18T02:59:53.338214",
     "status": "completed"
    },
    "tags": []
   },
   "outputs": [],
   "source": [
    "#hide\n",
    "### ICO koreliacija"
   ]
  },
  {
   "cell_type": "code",
   "execution_count": 4,
   "id": "likely-bahrain",
   "metadata": {
    "execution": {
     "iopub.execute_input": "2022-06-18T02:59:53.411493Z",
     "iopub.status.busy": "2022-06-18T02:59:53.410803Z",
     "iopub.status.idle": "2022-06-18T02:59:54.347067Z",
     "shell.execute_reply": "2022-06-18T02:59:54.346445Z"
    },
    "papermill": {
     "duration": 0.95185,
     "end_time": "2022-06-18T02:59:54.347214",
     "exception": false,
     "start_time": "2022-06-18T02:59:53.395364",
     "status": "completed"
    },
    "tags": []
   },
   "outputs": [],
   "source": [
    "#hide\n",
    "import matplotlib.pyplot as plt\n",
    "import numpy as np\n",
    "import pandas as pd\n",
    "import seaborn as sns\n",
    "import matplotlib.pyplot as plt \n",
    "import matplotlib.dates as mdates\n",
    "import matplotlib.pyplot as plt"
   ]
  },
  {
   "cell_type": "code",
   "execution_count": 5,
   "id": "superior-blanket",
   "metadata": {
    "execution": {
     "iopub.execute_input": "2022-06-18T02:59:54.379499Z",
     "iopub.status.busy": "2022-06-18T02:59:54.377599Z",
     "iopub.status.idle": "2022-06-18T03:00:09.229453Z",
     "shell.execute_reply": "2022-06-18T03:00:09.228109Z"
    },
    "papermill": {
     "duration": 14.870129,
     "end_time": "2022-06-18T03:00:09.229693",
     "exception": false,
     "start_time": "2022-06-18T02:59:54.359564",
     "status": "completed"
    },
    "tags": []
   },
   "outputs": [
    {
     "name": "stderr",
     "output_type": "stream",
     "text": [
      "/home/runner/work/corr-app/corr-app/_notebooks/scripts/read_data.py:187: SettingWithCopyWarning:\n",
      "\n",
      "\n",
      "A value is trying to be set on a copy of a slice from a DataFrame.\n",
      "Try using .loc[row_indexer,col_indexer] = value instead\n",
      "\n",
      "See the caveats in the documentation: https://pandas.pydata.org/pandas-docs/stable/user_guide/indexing.html#returning-a-view-versus-a-copy\n",
      "\n"
     ]
    },
    {
     "name": "stderr",
     "output_type": "stream",
     "text": [
      "/home/runner/work/corr-app/corr-app/_notebooks/scripts/read_data.py:215: SettingWithCopyWarning:\n",
      "\n",
      "\n",
      "A value is trying to be set on a copy of a slice from a DataFrame.\n",
      "Try using .loc[row_indexer,col_indexer] = value instead\n",
      "\n",
      "See the caveats in the documentation: https://pandas.pydata.org/pandas-docs/stable/user_guide/indexing.html#returning-a-view-versus-a-copy\n",
      "\n"
     ]
    }
   ],
   "source": [
    "#hide\n",
    "df_all = read_api()\n",
    "#df_all = df_all.drop(['SP500', 'XAU', 'ETH', 'BTC'], axis=1)\n",
    "\n"
   ]
  },
  {
   "cell_type": "code",
   "execution_count": 6,
   "id": "mature-alert",
   "metadata": {
    "execution": {
     "iopub.execute_input": "2022-06-18T03:00:09.261117Z",
     "iopub.status.busy": "2022-06-18T03:00:09.260553Z",
     "iopub.status.idle": "2022-06-18T03:00:09.295017Z",
     "shell.execute_reply": "2022-06-18T03:00:09.295643Z"
    },
    "papermill": {
     "duration": 0.051966,
     "end_time": "2022-06-18T03:00:09.295801",
     "exception": false,
     "start_time": "2022-06-18T03:00:09.243835",
     "status": "completed"
    },
    "tags": []
   },
   "outputs": [],
   "source": [
    "#hide_input\n",
    "sum_corr = df_all.corr().sum().sort_values(ascending=True).index.values\n",
    "#df_all[sum_corr].corr()"
   ]
  },
  {
   "cell_type": "markdown",
   "id": "complex-syndicate",
   "metadata": {
    "papermill": {
     "duration": 0.011776,
     "end_time": "2022-06-18T03:00:09.321723",
     "exception": false,
     "start_time": "2022-06-18T03:00:09.309947",
     "status": "completed"
    },
    "tags": []
   },
   "source": [
    "## Išplėstinė koreliacijų matrica. "
   ]
  },
  {
   "cell_type": "code",
   "execution_count": 7,
   "id": "atomic-omaha",
   "metadata": {
    "execution": {
     "iopub.execute_input": "2022-06-18T03:00:09.353956Z",
     "iopub.status.busy": "2022-06-18T03:00:09.352781Z",
     "iopub.status.idle": "2022-06-18T03:00:10.739035Z",
     "shell.execute_reply": "2022-06-18T03:00:10.738428Z"
    },
    "papermill": {
     "duration": 1.404218,
     "end_time": "2022-06-18T03:00:10.739173",
     "exception": false,
     "start_time": "2022-06-18T03:00:09.334955",
     "status": "completed"
    },
    "tags": []
   },
   "outputs": [
    {
     "data": {
      "image/png": "[encoded data removed]",
      "text/plain": [
       "<Figure size 1080x792 with 2 Axes>"
      ]
     },
     "metadata": {
      "needs_background": "light"
     },
     "output_type": "display_data"
    }
   ],
   "source": [
    "#hide_input\n",
    "plt.figure(figsize=(15, 11))\n",
    "sns.heatmap(df_all[sum_corr].corr(), annot=True, cmap=\"cubehelix\") \n",
    "sns.set(font_scale=1.25)\n",
    "plt.savefig('corr_matrix.png', format='eps')"
   ]
  },
  {
   "cell_type": "code",
   "execution_count": 8,
   "id": "arbitrary-sullivan",
   "metadata": {
    "execution": {
     "iopub.execute_input": "2022-06-18T03:00:10.777228Z",
     "iopub.status.busy": "2022-06-18T03:00:10.776528Z",
     "iopub.status.idle": "2022-06-18T03:00:10.806477Z",
     "shell.execute_reply": "2022-06-18T03:00:10.805736Z"
    },
    "papermill": {
     "duration": 0.052333,
     "end_time": "2022-06-18T03:00:10.806680",
     "exception": false,
     "start_time": "2022-06-18T03:00:10.754347",
     "status": "completed"
    },
    "tags": []
   },
   "outputs": [],
   "source": [
    "#hide\n",
    "#df_all_mrk = read_api()"
   ]
  },
  {
   "cell_type": "code",
   "execution_count": 9,
   "id": "delayed-adapter",
   "metadata": {
    "execution": {
     "iopub.execute_input": "2022-06-18T03:00:10.848627Z",
     "iopub.status.busy": "2022-06-18T03:00:10.843360Z",
     "iopub.status.idle": "2022-06-18T03:00:10.875509Z",
     "shell.execute_reply": "2022-06-18T03:00:10.876235Z"
    },
    "papermill": {
     "duration": 0.054207,
     "end_time": "2022-06-18T03:00:10.876419",
     "exception": false,
     "start_time": "2022-06-18T03:00:10.822212",
     "status": "completed"
    },
    "tags": []
   },
   "outputs": [],
   "source": [
    "#hide\n",
    "#Koreliacijų koeficientai"
   ]
  },
  {
   "cell_type": "code",
   "execution_count": 10,
   "id": "seeing-celebration",
   "metadata": {
    "execution": {
     "iopub.execute_input": "2022-06-18T03:00:10.910965Z",
     "iopub.status.busy": "2022-06-18T03:00:10.910264Z",
     "iopub.status.idle": "2022-06-18T03:00:10.940373Z",
     "shell.execute_reply": "2022-06-18T03:00:10.939799Z"
    },
    "papermill": {
     "duration": 0.048511,
     "end_time": "2022-06-18T03:00:10.940495",
     "exception": false,
     "start_time": "2022-06-18T03:00:10.891984",
     "status": "completed"
    },
    "tags": []
   },
   "outputs": [],
   "source": [
    "#hide_input\n",
    "#sum_corr = df_all_mrk.corr().sum().sort_values(ascending=True).index.values\n",
    "#df_all_mrk[sum_corr].corr()"
   ]
  },
  {
   "cell_type": "code",
   "execution_count": 11,
   "id": "other-painting",
   "metadata": {
    "execution": {
     "iopub.execute_input": "2022-06-18T03:00:10.977455Z",
     "iopub.status.busy": "2022-06-18T03:00:10.976816Z",
     "iopub.status.idle": "2022-06-18T03:00:11.005961Z",
     "shell.execute_reply": "2022-06-18T03:00:11.006569Z"
    },
    "papermill": {
     "duration": 0.051542,
     "end_time": "2022-06-18T03:00:11.006772",
     "exception": false,
     "start_time": "2022-06-18T03:00:10.955230",
     "status": "completed"
    },
    "tags": []
   },
   "outputs": [],
   "source": [
    "#hide\n",
    "#Koreliacijos matrica. "
   ]
  },
  {
   "cell_type": "code",
   "execution_count": 12,
   "id": "modular-magnitude",
   "metadata": {
    "execution": {
     "iopub.execute_input": "2022-06-18T03:00:11.042406Z",
     "iopub.status.busy": "2022-06-18T03:00:11.041775Z",
     "iopub.status.idle": "2022-06-18T03:00:11.070004Z",
     "shell.execute_reply": "2022-06-18T03:00:11.070494Z"
    },
    "papermill": {
     "duration": 0.047937,
     "end_time": "2022-06-18T03:00:11.070654",
     "exception": false,
     "start_time": "2022-06-18T03:00:11.022717",
     "status": "completed"
    },
    "tags": []
   },
   "outputs": [],
   "source": [
    "#hide_input\n",
    "#plt.figure(figsize=(15, 8))\n",
    "#sns.heatmap(df_all_mrk[sum_corr].corr(), annot=True, cmap=\"BrBG\");\n",
    "#plt.savefig('corr_matrix_all.eps', format='eps')"
   ]
  },
  {
   "cell_type": "code",
   "execution_count": null,
   "id": "original-senator",
   "metadata": {
    "papermill": {
     "duration": 0.01413,
     "end_time": "2022-06-18T03:00:11.098746",
     "exception": false,
     "start_time": "2022-06-18T03:00:11.084616",
     "status": "completed"
    },
    "tags": []
   },
   "outputs": [],
   "source": []
  },
  {
   "cell_type": "code",
   "execution_count": null,
   "id": "saving-secretariat",
   "metadata": {
    "papermill": {
     "duration": 0.014336,
     "end_time": "2022-06-18T03:00:11.126522",
     "exception": false,
     "start_time": "2022-06-18T03:00:11.112186",
     "status": "completed"
    },
    "tags": []
   },
   "outputs": [],
   "source": []
  }
 ],
 "metadata": {
  "kernelspec": {
   "display_name": "Python 3",
   "language": "python",
   "name": "python3"
  },
  "language_info": {
   "codemirror_mode": {
    "name": "ipython",
    "version": 3
   },
   "file_extension": ".py",
   "mimetype": "text/x-python",
   "name": "python",
   "nbconvert_exporter": "python",
   "pygments_lexer": "ipython3",
   "version": "3.6.15"
  },
  "papermill": {
   "default_parameters": {},
   "duration": 20.99501,
   "end_time": "2022-06-18T03:00:11.662698",
   "environment_variables": {},
   "exception": null,
   "input_path": "App-Correlation_charts.ipynb",
   "output_path": "App-Correlation_charts.ipynb",
   "parameters": {},
   "start_time": "2022-06-18T02:59:50.667688",
   "version": "2.2.2"
  }
 },
 "nbformat": 4,
 "nbformat_minor": 5
}