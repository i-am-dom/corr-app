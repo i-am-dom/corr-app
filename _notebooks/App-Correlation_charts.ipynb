{
 "cells": [
  {
   "cell_type": "markdown",
   "id": "touched-facility",
   "metadata": {
    "papermill": {
     "duration": 0.015088,
     "end_time": "2022-01-18T02:09:13.978265",
     "exception": false,
     "start_time": "2022-01-18T02:09:13.963177",
     "status": "completed"
    },
    "tags": []
   },
   "source": [
    "# Koreliacijų matrica\n",
    "> Išplėstinė koreliacijų matrica. \n",
    "\n",
    "- toc: true \n",
    "- badges: true\n",
    "- comments: false\n",
    "- categories: [Dominykas Tautkus]\n",
    "- image: images/matrix.png"
   ]
  },
  {
   "cell_type": "code",
   "execution_count": null,
   "id": "premium-weekend",
   "metadata": {
    "papermill": {
     "duration": 0.011459,
     "end_time": "2022-01-18T02:09:14.001803",
     "exception": false,
     "start_time": "2022-01-18T02:09:13.990344",
     "status": "completed"
    },
    "tags": []
   },
   "outputs": [],
   "source": []
  },
  {
   "cell_type": "code",
   "execution_count": 1,
   "id": "vertical-rebate",
   "metadata": {
    "execution": {
     "iopub.execute_input": "2022-01-18T02:09:14.035468Z",
     "iopub.status.busy": "2022-01-18T02:09:14.034884Z",
     "iopub.status.idle": "2022-01-18T02:09:14.047624Z",
     "shell.execute_reply": "2022-01-18T02:09:14.047134Z"
    },
    "papermill": {
     "duration": 0.034665,
     "end_time": "2022-01-18T02:09:14.047777",
     "exception": false,
     "start_time": "2022-01-18T02:09:14.013112",
     "status": "completed"
    },
    "tags": []
   },
   "outputs": [],
   "source": [
    "#hide\n",
    "%load_ext autoreload\n",
    "%autoreload 2"
   ]
  },
  {
   "cell_type": "code",
   "execution_count": 2,
   "id": "overall-advancement",
   "metadata": {
    "execution": {
     "iopub.execute_input": "2022-01-18T02:09:14.078209Z",
     "iopub.status.busy": "2022-01-18T02:09:14.077636Z",
     "iopub.status.idle": "2022-01-18T02:09:15.382936Z",
     "shell.execute_reply": "2022-01-18T02:09:15.382399Z"
    },
    "papermill": {
     "duration": 1.324114,
     "end_time": "2022-01-18T02:09:15.383070",
     "exception": false,
     "start_time": "2022-01-18T02:09:14.058956",
     "status": "completed"
    },
    "tags": []
   },
   "outputs": [],
   "source": [
    "#hide\n",
    "from scripts.read_data import read_api\n",
    "from IPython.display import HTML\n",
    "import plotly.graph_objects as go\n"
   ]
  },
  {
   "cell_type": "code",
   "execution_count": 3,
   "id": "light-crazy",
   "metadata": {
    "execution": {
     "iopub.execute_input": "2022-01-18T02:09:15.412244Z",
     "iopub.status.busy": "2022-01-18T02:09:15.411655Z",
     "iopub.status.idle": "2022-01-18T02:09:15.437855Z",
     "shell.execute_reply": "2022-01-18T02:09:15.437414Z"
    },
    "papermill": {
     "duration": 0.043137,
     "end_time": "2022-01-18T02:09:15.437980",
     "exception": false,
     "start_time": "2022-01-18T02:09:15.394843",
     "status": "completed"
    },
    "tags": []
   },
   "outputs": [],
   "source": [
    "#hide\n",
    "### ICO koreliacija"
   ]
  },
  {
   "cell_type": "code",
   "execution_count": 4,
   "id": "likely-bahrain",
   "metadata": {
    "execution": {
     "iopub.execute_input": "2022-01-18T02:09:15.465898Z",
     "iopub.status.busy": "2022-01-18T02:09:15.465335Z",
     "iopub.status.idle": "2022-01-18T02:09:17.395247Z",
     "shell.execute_reply": "2022-01-18T02:09:17.395721Z"
    },
    "papermill": {
     "duration": 1.946694,
     "end_time": "2022-01-18T02:09:17.395885",
     "exception": false,
     "start_time": "2022-01-18T02:09:15.449191",
     "status": "completed"
    },
    "tags": []
   },
   "outputs": [],
   "source": [
    "#hide\n",
    "import matplotlib.pyplot as plt\n",
    "import numpy as np\n",
    "import pandas as pd\n",
    "import seaborn as sns\n",
    "import matplotlib.pyplot as plt \n",
    "import matplotlib.dates as mdates\n",
    "import matplotlib.pyplot as plt"
   ]
  },
  {
   "cell_type": "code",
   "execution_count": 5,
   "id": "superior-blanket",
   "metadata": {
    "execution": {
     "iopub.execute_input": "2022-01-18T02:09:17.426810Z",
     "iopub.status.busy": "2022-01-18T02:09:17.426240Z",
     "iopub.status.idle": "2022-01-18T02:09:30.183928Z",
     "shell.execute_reply": "2022-01-18T02:09:30.183407Z"
    },
    "papermill": {
     "duration": 12.775983,
     "end_time": "2022-01-18T02:09:30.184057",
     "exception": false,
     "start_time": "2022-01-18T02:09:17.408074",
     "status": "completed"
    },
    "tags": []
   },
   "outputs": [
    {
     "name": "stderr",
     "output_type": "stream",
     "text": [
      "/home/runner/work/corr-app/corr-app/_notebooks/scripts/read_data.py:187: SettingWithCopyWarning:\n",
      "\n",
      "\n",
      "A value is trying to be set on a copy of a slice from a DataFrame.\n",
      "Try using .loc[row_indexer,col_indexer] = value instead\n",
      "\n",
      "See the caveats in the documentation: https://pandas.pydata.org/pandas-docs/stable/user_guide/indexing.html#returning-a-view-versus-a-copy\n",
      "\n"
     ]
    },
    {
     "name": "stderr",
     "output_type": "stream",
     "text": [
      "/home/runner/work/corr-app/corr-app/_notebooks/scripts/read_data.py:215: SettingWithCopyWarning:\n",
      "\n",
      "\n",
      "A value is trying to be set on a copy of a slice from a DataFrame.\n",
      "Try using .loc[row_indexer,col_indexer] = value instead\n",
      "\n",
      "See the caveats in the documentation: https://pandas.pydata.org/pandas-docs/stable/user_guide/indexing.html#returning-a-view-versus-a-copy\n",
      "\n"
     ]
    }
   ],
   "source": [
    "#hide\n",
    "df_all = read_api()\n",
    "#df_all = df_all.drop(['SP500', 'XAU', 'ETH', 'BTC'], axis=1)\n",
    "\n"
   ]
  },
  {
   "cell_type": "code",
   "execution_count": 6,
   "id": "mature-alert",
   "metadata": {
    "execution": {
     "iopub.execute_input": "2022-01-18T02:09:30.214660Z",
     "iopub.status.busy": "2022-01-18T02:09:30.214035Z",
     "iopub.status.idle": "2022-01-18T02:09:30.246952Z",
     "shell.execute_reply": "2022-01-18T02:09:30.246353Z"
    },
    "papermill": {
     "duration": 0.050957,
     "end_time": "2022-01-18T02:09:30.247088",
     "exception": false,
     "start_time": "2022-01-18T02:09:30.196131",
     "status": "completed"
    },
    "tags": []
   },
   "outputs": [],
   "source": [
    "#hide_input\n",
    "sum_corr = df_all.corr().sum().sort_values(ascending=True).index.values\n",
    "#df_all[sum_corr].corr()"
   ]
  },
  {
   "cell_type": "markdown",
   "id": "complex-syndicate",
   "metadata": {
    "papermill": {
     "duration": 0.01169,
     "end_time": "2022-01-18T02:09:30.270615",
     "exception": false,
     "start_time": "2022-01-18T02:09:30.258925",
     "status": "completed"
    },
    "tags": []
   },
   "source": [
    "## Išplėstinė koreliacijų matrica. "
   ]
  },
  {
   "cell_type": "code",
   "execution_count": 7,
   "id": "atomic-omaha",
   "metadata": {
    "execution": {
     "iopub.execute_input": "2022-01-18T02:09:30.299790Z",
     "iopub.status.busy": "2022-01-18T02:09:30.299209Z",
     "iopub.status.idle": "2022-01-18T02:09:31.604640Z",
     "shell.execute_reply": "2022-01-18T02:09:31.604128Z"
    },
    "papermill": {
     "duration": 1.322386,
     "end_time": "2022-01-18T02:09:31.604766",
     "exception": false,
     "start_time": "2022-01-18T02:09:30.282380",
     "status": "completed"
    },
    "tags": []
   },
   "outputs": [
    {
     "data": {
      "image/png": "[encoded data removed]",
      "text/plain": [
       "<Figure size 1080x792 with 2 Axes>"
      ]
     },
     "metadata": {
      "needs_background": "light"
     },
     "output_type": "display_data"
    }
   ],
   "source": [
    "#hide_input\n",
    "plt.figure(figsize=(15, 11))\n",
    "sns.heatmap(df_all[sum_corr].corr(), annot=True, cmap=\"cubehelix\") \n",
    "sns.set(font_scale=1.25)\n",
    "plt.savefig('corr_matrix.png', format='eps')"
   ]
  },
  {
   "cell_type": "code",
   "execution_count": 8,
   "id": "arbitrary-sullivan",
   "metadata": {
    "execution": {
     "iopub.execute_input": "2022-01-18T02:09:31.640599Z",
     "iopub.status.busy": "2022-01-18T02:09:31.640036Z",
     "iopub.status.idle": "2022-01-18T02:09:31.668384Z",
     "shell.execute_reply": "2022-01-18T02:09:31.667786Z"
    },
    "papermill": {
     "duration": 0.048709,
     "end_time": "2022-01-18T02:09:31.668527",
     "exception": false,
     "start_time": "2022-01-18T02:09:31.619818",
     "status": "completed"
    },
    "tags": []
   },
   "outputs": [],
   "source": [
    "#hide\n",
    "#df_all_mrk = read_api()"
   ]
  },
  {
   "cell_type": "code",
   "execution_count": 9,
   "id": "delayed-adapter",
   "metadata": {
    "execution": {
     "iopub.execute_input": "2022-01-18T02:09:31.706835Z",
     "iopub.status.busy": "2022-01-18T02:09:31.706205Z",
     "iopub.status.idle": "2022-01-18T02:09:31.731640Z",
     "shell.execute_reply": "2022-01-18T02:09:31.732046Z"
    },
    "papermill": {
     "duration": 0.047607,
     "end_time": "2022-01-18T02:09:31.732197",
     "exception": false,
     "start_time": "2022-01-18T02:09:31.684590",
     "status": "completed"
    },
    "tags": []
   },
   "outputs": [],
   "source": [
    "#hide\n",
    "#Koreliacijų koeficientai"
   ]
  },
  {
   "cell_type": "code",
   "execution_count": 10,
   "id": "seeing-celebration",
   "metadata": {
    "execution": {
     "iopub.execute_input": "2022-01-18T02:09:31.765861Z",
     "iopub.status.busy": "2022-01-18T02:09:31.765077Z",
     "iopub.status.idle": "2022-01-18T02:09:31.790986Z",
     "shell.execute_reply": "2022-01-18T02:09:31.791453Z"
    },
    "papermill": {
     "duration": 0.04568,
     "end_time": "2022-01-18T02:09:31.791614",
     "exception": false,
     "start_time": "2022-01-18T02:09:31.745934",
     "status": "completed"
    },
    "tags": []
   },
   "outputs": [],
   "source": [
    "#hide_input\n",
    "#sum_corr = df_all_mrk.corr().sum().sort_values(ascending=True).index.values\n",
    "#df_all_mrk[sum_corr].corr()"
   ]
  },
  {
   "cell_type": "code",
   "execution_count": 11,
   "id": "other-painting",
   "metadata": {
    "execution": {
     "iopub.execute_input": "2022-01-18T02:09:31.831553Z",
     "iopub.status.busy": "2022-01-18T02:09:31.827104Z",
     "iopub.status.idle": "2022-01-18T02:09:31.852183Z",
     "shell.execute_reply": "2022-01-18T02:09:31.851683Z"
    },
    "papermill": {
     "duration": 0.047989,
     "end_time": "2022-01-18T02:09:31.852322",
     "exception": false,
     "start_time": "2022-01-18T02:09:31.804333",
     "status": "completed"
    },
    "tags": []
   },
   "outputs": [],
   "source": [
    "#hide\n",
    "#Koreliacijos matrica. "
   ]
  },
  {
   "cell_type": "code",
   "execution_count": 12,
   "id": "modular-magnitude",
   "metadata": {
    "execution": {
     "iopub.execute_input": "2022-01-18T02:09:31.888353Z",
     "iopub.status.busy": "2022-01-18T02:09:31.887723Z",
     "iopub.status.idle": "2022-01-18T02:09:31.915170Z",
     "shell.execute_reply": "2022-01-18T02:09:31.914666Z"
    },
    "papermill": {
     "duration": 0.046698,
     "end_time": "2022-01-18T02:09:31.915305",
     "exception": false,
     "start_time": "2022-01-18T02:09:31.868607",
     "status": "completed"
    },
    "tags": []
   },
   "outputs": [],
   "source": [
    "#hide_input\n",
    "#plt.figure(figsize=(15, 8))\n",
    "#sns.heatmap(df_all_mrk[sum_corr].corr(), annot=True, cmap=\"BrBG\");\n",
    "#plt.savefig('corr_matrix_all.eps', format='eps')"
   ]
  },
  {
   "cell_type": "code",
   "execution_count": null,
   "id": "original-senator",
   "metadata": {
    "papermill": {
     "duration": 0.013634,
     "end_time": "2022-01-18T02:09:31.943232",
     "exception": false,
     "start_time": "2022-01-18T02:09:31.929598",
     "status": "completed"
    },
    "tags": []
   },
   "outputs": [],
   "source": []
  },
  {
   "cell_type": "code",
   "execution_count": null,
   "id": "saving-secretariat",
   "metadata": {
    "papermill": {
     "duration": 0.013643,
     "end_time": "2022-01-18T02:09:31.970584",
     "exception": false,
     "start_time": "2022-01-18T02:09:31.956941",
     "status": "completed"
    },
    "tags": []
   },
   "outputs": [],
   "source": []
  }
 ],
 "metadata": {
  "kernelspec": {
   "display_name": "Python 3",
   "language": "python",
   "name": "python3"
  },
  "language_info": {
   "codemirror_mode": {
    "name": "ipython",
    "version": 3
   },
   "file_extension": ".py",
   "mimetype": "text/x-python",
   "name": "python",
   "nbconvert_exporter": "python",
   "pygments_lexer": "ipython3",
   "version": "3.6.15"
  },
  "papermill": {
   "default_parameters": {},
   "duration": 20.019243,
   "end_time": "2022-01-18T02:09:32.706783",
   "environment_variables": {},
   "exception": null,
   "input_path": "App-Correlation_charts.ipynb",
   "output_path": "App-Correlation_charts.ipynb",
   "parameters": {},
   "start_time": "2022-01-18T02:09:12.687540",
   "version": "2.2.2"
  }
 },
 "nbformat": 4,
 "nbformat_minor": 5
}