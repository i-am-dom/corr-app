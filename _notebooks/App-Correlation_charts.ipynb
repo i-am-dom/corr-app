{
 "cells": [
  {
   "cell_type": "markdown",
   "id": "touched-facility",
   "metadata": {
    "papermill": {
     "duration": 0.014333,
     "end_time": "2022-04-06T02:30:25.025622",
     "exception": false,
     "start_time": "2022-04-06T02:30:25.011289",
     "status": "completed"
    },
    "tags": []
   },
   "source": [
    "# Koreliacijų matrica\n",
    "> Išplėstinė koreliacijų matrica. \n",
    "\n",
    "- toc: true \n",
    "- badges: true\n",
    "- comments: false\n",
    "- categories: [Dominykas Tautkus]\n",
    "- image: images/matrix.png"
   ]
  },
  {
   "cell_type": "code",
   "execution_count": null,
   "id": "premium-weekend",
   "metadata": {
    "papermill": {
     "duration": 0.011207,
     "end_time": "2022-04-06T02:30:25.048590",
     "exception": false,
     "start_time": "2022-04-06T02:30:25.037383",
     "status": "completed"
    },
    "tags": []
   },
   "outputs": [],
   "source": []
  },
  {
   "cell_type": "code",
   "execution_count": 1,
   "id": "vertical-rebate",
   "metadata": {
    "execution": {
     "iopub.execute_input": "2022-04-06T02:30:25.080887Z",
     "iopub.status.busy": "2022-04-06T02:30:25.078457Z",
     "iopub.status.idle": "2022-04-06T02:30:25.091394Z",
     "shell.execute_reply": "2022-04-06T02:30:25.090909Z"
    },
    "papermill": {
     "duration": 0.031727,
     "end_time": "2022-04-06T02:30:25.091521",
     "exception": false,
     "start_time": "2022-04-06T02:30:25.059794",
     "status": "completed"
    },
    "tags": []
   },
   "outputs": [],
   "source": [
    "#hide\n",
    "%load_ext autoreload\n",
    "%autoreload 2"
   ]
  },
  {
   "cell_type": "code",
   "execution_count": 2,
   "id": "overall-advancement",
   "metadata": {
    "execution": {
     "iopub.execute_input": "2022-04-06T02:30:25.117200Z",
     "iopub.status.busy": "2022-04-06T02:30:25.116702Z",
     "iopub.status.idle": "2022-04-06T02:30:26.403862Z",
     "shell.execute_reply": "2022-04-06T02:30:26.404263Z"
    },
    "papermill": {
     "duration": 1.301689,
     "end_time": "2022-04-06T02:30:26.404397",
     "exception": false,
     "start_time": "2022-04-06T02:30:25.102708",
     "status": "completed"
    },
    "tags": []
   },
   "outputs": [],
   "source": [
    "#hide\n",
    "from scripts.read_data import read_api\n",
    "from IPython.display import HTML\n",
    "import plotly.graph_objects as go\n"
   ]
  },
  {
   "cell_type": "code",
   "execution_count": 3,
   "id": "light-crazy",
   "metadata": {
    "execution": {
     "iopub.execute_input": "2022-04-06T02:30:26.432260Z",
     "iopub.status.busy": "2022-04-06T02:30:26.431721Z",
     "iopub.status.idle": "2022-04-06T02:30:26.453350Z",
     "shell.execute_reply": "2022-04-06T02:30:26.452912Z"
    },
    "papermill": {
     "duration": 0.037604,
     "end_time": "2022-04-06T02:30:26.453464",
     "exception": false,
     "start_time": "2022-04-06T02:30:26.415860",
     "status": "completed"
    },
    "tags": []
   },
   "outputs": [],
   "source": [
    "#hide\n",
    "### ICO koreliacija"
   ]
  },
  {
   "cell_type": "code",
   "execution_count": 4,
   "id": "likely-bahrain",
   "metadata": {
    "execution": {
     "iopub.execute_input": "2022-04-06T02:30:26.479606Z",
     "iopub.status.busy": "2022-04-06T02:30:26.479097Z",
     "iopub.status.idle": "2022-04-06T02:30:27.368641Z",
     "shell.execute_reply": "2022-04-06T02:30:27.368204Z"
    },
    "papermill": {
     "duration": 0.904069,
     "end_time": "2022-04-06T02:30:27.368758",
     "exception": false,
     "start_time": "2022-04-06T02:30:26.464689",
     "status": "completed"
    },
    "tags": []
   },
   "outputs": [],
   "source": [
    "#hide\n",
    "import matplotlib.pyplot as plt\n",
    "import numpy as np\n",
    "import pandas as pd\n",
    "import seaborn as sns\n",
    "import matplotlib.pyplot as plt \n",
    "import matplotlib.dates as mdates\n",
    "import matplotlib.pyplot as plt"
   ]
  },
  {
   "cell_type": "code",
   "execution_count": 5,
   "id": "superior-blanket",
   "metadata": {
    "execution": {
     "iopub.execute_input": "2022-04-06T02:30:27.397206Z",
     "iopub.status.busy": "2022-04-06T02:30:27.396054Z",
     "iopub.status.idle": "2022-04-06T02:30:36.645006Z",
     "shell.execute_reply": "2022-04-06T02:30:36.644530Z"
    },
    "papermill": {
     "duration": 9.26472,
     "end_time": "2022-04-06T02:30:36.645120",
     "exception": false,
     "start_time": "2022-04-06T02:30:27.380400",
     "status": "completed"
    },
    "tags": []
   },
   "outputs": [
    {
     "name": "stderr",
     "output_type": "stream",
     "text": [
      "/home/runner/work/corr-app/corr-app/_notebooks/scripts/read_data.py:187: SettingWithCopyWarning:\n",
      "\n",
      "\n",
      "A value is trying to be set on a copy of a slice from a DataFrame.\n",
      "Try using .loc[row_indexer,col_indexer] = value instead\n",
      "\n",
      "See the caveats in the documentation: https://pandas.pydata.org/pandas-docs/stable/user_guide/indexing.html#returning-a-view-versus-a-copy\n",
      "\n"
     ]
    },
    {
     "name": "stderr",
     "output_type": "stream",
     "text": [
      "/home/runner/work/corr-app/corr-app/_notebooks/scripts/read_data.py:215: SettingWithCopyWarning:\n",
      "\n",
      "\n",
      "A value is trying to be set on a copy of a slice from a DataFrame.\n",
      "Try using .loc[row_indexer,col_indexer] = value instead\n",
      "\n",
      "See the caveats in the documentation: https://pandas.pydata.org/pandas-docs/stable/user_guide/indexing.html#returning-a-view-versus-a-copy\n",
      "\n"
     ]
    }
   ],
   "source": [
    "#hide\n",
    "df_all = read_api()\n",
    "#df_all = df_all.drop(['SP500', 'XAU', 'ETH', 'BTC'], axis=1)\n",
    "\n"
   ]
  },
  {
   "cell_type": "code",
   "execution_count": 6,
   "id": "mature-alert",
   "metadata": {
    "execution": {
     "iopub.execute_input": "2022-04-06T02:30:36.676353Z",
     "iopub.status.busy": "2022-04-06T02:30:36.673910Z",
     "iopub.status.idle": "2022-04-06T02:30:36.703440Z",
     "shell.execute_reply": "2022-04-06T02:30:36.703007Z"
    },
    "papermill": {
     "duration": 0.046202,
     "end_time": "2022-04-06T02:30:36.703556",
     "exception": false,
     "start_time": "2022-04-06T02:30:36.657354",
     "status": "completed"
    },
    "tags": []
   },
   "outputs": [],
   "source": [
    "#hide_input\n",
    "sum_corr = df_all.corr().sum().sort_values(ascending=True).index.values\n",
    "#df_all[sum_corr].corr()"
   ]
  },
  {
   "cell_type": "markdown",
   "id": "complex-syndicate",
   "metadata": {
    "papermill": {
     "duration": 0.011769,
     "end_time": "2022-04-06T02:30:36.727225",
     "exception": false,
     "start_time": "2022-04-06T02:30:36.715456",
     "status": "completed"
    },
    "tags": []
   },
   "source": [
    "## Išplėstinė koreliacijų matrica. "
   ]
  },
  {
   "cell_type": "code",
   "execution_count": 7,
   "id": "atomic-omaha",
   "metadata": {
    "execution": {
     "iopub.execute_input": "2022-04-06T02:30:36.754831Z",
     "iopub.status.busy": "2022-04-06T02:30:36.754320Z",
     "iopub.status.idle": "2022-04-06T02:30:38.046655Z",
     "shell.execute_reply": "2022-04-06T02:30:38.046214Z"
    },
    "papermill": {
     "duration": 1.307694,
     "end_time": "2022-04-06T02:30:38.046762",
     "exception": false,
     "start_time": "2022-04-06T02:30:36.739068",
     "status": "completed"
    },
    "tags": []
   },
   "outputs": [
    {
     "data": {
      "image/png": "[encoded data removed]",
      "text/plain": [
       "<Figure size 1080x792 with 2 Axes>"
      ]
     },
     "metadata": {
      "needs_background": "light"
     },
     "output_type": "display_data"
    }
   ],
   "source": [
    "#hide_input\n",
    "plt.figure(figsize=(15, 11))\n",
    "sns.heatmap(df_all[sum_corr].corr(), annot=True, cmap=\"cubehelix\") \n",
    "sns.set(font_scale=1.25)\n",
    "plt.savefig('corr_matrix.png', format='eps')"
   ]
  },
  {
   "cell_type": "code",
   "execution_count": 8,
   "id": "arbitrary-sullivan",
   "metadata": {
    "execution": {
     "iopub.execute_input": "2022-04-06T02:30:38.079938Z",
     "iopub.status.busy": "2022-04-06T02:30:38.078855Z",
     "iopub.status.idle": "2022-04-06T02:30:38.104124Z",
     "shell.execute_reply": "2022-04-06T02:30:38.103697Z"
    },
    "papermill": {
     "duration": 0.043448,
     "end_time": "2022-04-06T02:30:38.104240",
     "exception": false,
     "start_time": "2022-04-06T02:30:38.060792",
     "status": "completed"
    },
    "tags": []
   },
   "outputs": [],
   "source": [
    "#hide\n",
    "#df_all_mrk = read_api()"
   ]
  },
  {
   "cell_type": "code",
   "execution_count": 9,
   "id": "delayed-adapter",
   "metadata": {
    "execution": {
     "iopub.execute_input": "2022-04-06T02:30:38.135550Z",
     "iopub.status.busy": "2022-04-06T02:30:38.135040Z",
     "iopub.status.idle": "2022-04-06T02:30:38.161802Z",
     "shell.execute_reply": "2022-04-06T02:30:38.161341Z"
    },
    "papermill": {
     "duration": 0.043808,
     "end_time": "2022-04-06T02:30:38.161915",
     "exception": false,
     "start_time": "2022-04-06T02:30:38.118107",
     "status": "completed"
    },
    "tags": []
   },
   "outputs": [],
   "source": [
    "#hide\n",
    "#Koreliacijų koeficientai"
   ]
  },
  {
   "cell_type": "code",
   "execution_count": 10,
   "id": "seeing-celebration",
   "metadata": {
    "execution": {
     "iopub.execute_input": "2022-04-06T02:30:38.193843Z",
     "iopub.status.busy": "2022-04-06T02:30:38.193346Z",
     "iopub.status.idle": "2022-04-06T02:30:38.219365Z",
     "shell.execute_reply": "2022-04-06T02:30:38.218888Z"
    },
    "papermill": {
     "duration": 0.04271,
     "end_time": "2022-04-06T02:30:38.219476",
     "exception": false,
     "start_time": "2022-04-06T02:30:38.176766",
     "status": "completed"
    },
    "tags": []
   },
   "outputs": [],
   "source": [
    "#hide_input\n",
    "#sum_corr = df_all_mrk.corr().sum().sort_values(ascending=True).index.values\n",
    "#df_all_mrk[sum_corr].corr()"
   ]
  },
  {
   "cell_type": "code",
   "execution_count": 11,
   "id": "other-painting",
   "metadata": {
    "execution": {
     "iopub.execute_input": "2022-04-06T02:30:38.250943Z",
     "iopub.status.busy": "2022-04-06T02:30:38.250438Z",
     "iopub.status.idle": "2022-04-06T02:30:38.275373Z",
     "shell.execute_reply": "2022-04-06T02:30:38.275771Z"
    },
    "papermill": {
     "duration": 0.042409,
     "end_time": "2022-04-06T02:30:38.275912",
     "exception": false,
     "start_time": "2022-04-06T02:30:38.233503",
     "status": "completed"
    },
    "tags": []
   },
   "outputs": [],
   "source": [
    "#hide\n",
    "#Koreliacijos matrica. "
   ]
  },
  {
   "cell_type": "code",
   "execution_count": 12,
   "id": "modular-magnitude",
   "metadata": {
    "execution": {
     "iopub.execute_input": "2022-04-06T02:30:38.307142Z",
     "iopub.status.busy": "2022-04-06T02:30:38.306627Z",
     "iopub.status.idle": "2022-04-06T02:30:38.332165Z",
     "shell.execute_reply": "2022-04-06T02:30:38.331750Z"
    },
    "papermill": {
     "duration": 0.042459,
     "end_time": "2022-04-06T02:30:38.332275",
     "exception": false,
     "start_time": "2022-04-06T02:30:38.289816",
     "status": "completed"
    },
    "tags": []
   },
   "outputs": [],
   "source": [
    "#hide_input\n",
    "#plt.figure(figsize=(15, 8))\n",
    "#sns.heatmap(df_all_mrk[sum_corr].corr(), annot=True, cmap=\"BrBG\");\n",
    "#plt.savefig('corr_matrix_all.eps', format='eps')"
   ]
  },
  {
   "cell_type": "code",
   "execution_count": null,
   "id": "original-senator",
   "metadata": {
    "papermill": {
     "duration": 0.013529,
     "end_time": "2022-04-06T02:30:38.359584",
     "exception": false,
     "start_time": "2022-04-06T02:30:38.346055",
     "status": "completed"
    },
    "tags": []
   },
   "outputs": [],
   "source": []
  },
  {
   "cell_type": "code",
   "execution_count": null,
   "id": "saving-secretariat",
   "metadata": {
    "papermill": {
     "duration": 0.013756,
     "end_time": "2022-04-06T02:30:38.387034",
     "exception": false,
     "start_time": "2022-04-06T02:30:38.373278",
     "status": "completed"
    },
    "tags": []
   },
   "outputs": [],
   "source": []
  }
 ],
 "metadata": {
  "kernelspec": {
   "display_name": "Python 3",
   "language": "python",
   "name": "python3"
  },
  "language_info": {
   "codemirror_mode": {
    "name": "ipython",
    "version": 3
   },
   "file_extension": ".py",
   "mimetype": "text/x-python",
   "name": "python",
   "nbconvert_exporter": "python",
   "pygments_lexer": "ipython3",
   "version": "3.6.15"
  },
  "papermill": {
   "default_parameters": {},
   "duration": 14.878327,
   "end_time": "2022-04-06T02:30:38.919117",
   "environment_variables": {},
   "exception": null,
   "input_path": "App-Correlation_charts.ipynb",
   "output_path": "App-Correlation_charts.ipynb",
   "parameters": {},
   "start_time": "2022-04-06T02:30:24.040790",
   "version": "2.2.2"
  }
 },
 "nbformat": 4,
 "nbformat_minor": 5
}