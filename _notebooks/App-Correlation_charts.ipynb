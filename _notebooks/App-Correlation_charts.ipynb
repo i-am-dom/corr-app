{
 "cells": [
  {
   "cell_type": "markdown",
   "id": "touched-facility",
   "metadata": {
    "papermill": {
     "duration": 0.01491,
     "end_time": "2022-03-16T02:22:16.592722",
     "exception": false,
     "start_time": "2022-03-16T02:22:16.577812",
     "status": "completed"
    },
    "tags": []
   },
   "source": [
    "# Koreliacijų matrica\n",
    "> Išplėstinė koreliacijų matrica. \n",
    "\n",
    "- toc: true \n",
    "- badges: true\n",
    "- comments: false\n",
    "- categories: [Dominykas Tautkus]\n",
    "- image: images/matrix.png"
   ]
  },
  {
   "cell_type": "code",
   "execution_count": null,
   "id": "premium-weekend",
   "metadata": {
    "papermill": {
     "duration": 0.010954,
     "end_time": "2022-03-16T02:22:16.615418",
     "exception": false,
     "start_time": "2022-03-16T02:22:16.604464",
     "status": "completed"
    },
    "tags": []
   },
   "outputs": [],
   "source": []
  },
  {
   "cell_type": "code",
   "execution_count": 1,
   "id": "vertical-rebate",
   "metadata": {
    "execution": {
     "iopub.execute_input": "2022-03-16T02:22:16.647794Z",
     "iopub.status.busy": "2022-03-16T02:22:16.644751Z",
     "iopub.status.idle": "2022-03-16T02:22:16.658297Z",
     "shell.execute_reply": "2022-03-16T02:22:16.657824Z"
    },
    "papermill": {
     "duration": 0.032188,
     "end_time": "2022-03-16T02:22:16.658440",
     "exception": false,
     "start_time": "2022-03-16T02:22:16.626252",
     "status": "completed"
    },
    "tags": []
   },
   "outputs": [],
   "source": [
    "#hide\n",
    "%load_ext autoreload\n",
    "%autoreload 2"
   ]
  },
  {
   "cell_type": "code",
   "execution_count": 2,
   "id": "overall-advancement",
   "metadata": {
    "execution": {
     "iopub.execute_input": "2022-03-16T02:22:16.684006Z",
     "iopub.status.busy": "2022-03-16T02:22:16.683473Z",
     "iopub.status.idle": "2022-03-16T02:22:18.025707Z",
     "shell.execute_reply": "2022-03-16T02:22:18.026284Z"
    },
    "papermill": {
     "duration": 1.357011,
     "end_time": "2022-03-16T02:22:18.026464",
     "exception": false,
     "start_time": "2022-03-16T02:22:16.669453",
     "status": "completed"
    },
    "tags": []
   },
   "outputs": [],
   "source": [
    "#hide\n",
    "from scripts.read_data import read_api\n",
    "from IPython.display import HTML\n",
    "import plotly.graph_objects as go\n"
   ]
  },
  {
   "cell_type": "code",
   "execution_count": 3,
   "id": "light-crazy",
   "metadata": {
    "execution": {
     "iopub.execute_input": "2022-03-16T02:22:18.055570Z",
     "iopub.status.busy": "2022-03-16T02:22:18.054996Z",
     "iopub.status.idle": "2022-03-16T02:22:18.076999Z",
     "shell.execute_reply": "2022-03-16T02:22:18.076470Z"
    },
    "papermill": {
     "duration": 0.039013,
     "end_time": "2022-03-16T02:22:18.077147",
     "exception": false,
     "start_time": "2022-03-16T02:22:18.038134",
     "status": "completed"
    },
    "tags": []
   },
   "outputs": [],
   "source": [
    "#hide\n",
    "### ICO koreliacija"
   ]
  },
  {
   "cell_type": "code",
   "execution_count": 4,
   "id": "likely-bahrain",
   "metadata": {
    "execution": {
     "iopub.execute_input": "2022-03-16T02:22:18.103834Z",
     "iopub.status.busy": "2022-03-16T02:22:18.103302Z",
     "iopub.status.idle": "2022-03-16T02:22:18.992597Z",
     "shell.execute_reply": "2022-03-16T02:22:18.992098Z"
    },
    "papermill": {
     "duration": 0.903649,
     "end_time": "2022-03-16T02:22:18.992735",
     "exception": false,
     "start_time": "2022-03-16T02:22:18.089086",
     "status": "completed"
    },
    "tags": []
   },
   "outputs": [],
   "source": [
    "#hide\n",
    "import matplotlib.pyplot as plt\n",
    "import numpy as np\n",
    "import pandas as pd\n",
    "import seaborn as sns\n",
    "import matplotlib.pyplot as plt \n",
    "import matplotlib.dates as mdates\n",
    "import matplotlib.pyplot as plt"
   ]
  },
  {
   "cell_type": "code",
   "execution_count": 5,
   "id": "superior-blanket",
   "metadata": {
    "execution": {
     "iopub.execute_input": "2022-03-16T02:22:19.032902Z",
     "iopub.status.busy": "2022-03-16T02:22:19.031932Z",
     "iopub.status.idle": "2022-03-16T02:22:29.144651Z",
     "shell.execute_reply": "2022-03-16T02:22:29.144142Z"
    },
    "papermill": {
     "duration": 10.140384,
     "end_time": "2022-03-16T02:22:29.144775",
     "exception": false,
     "start_time": "2022-03-16T02:22:19.004391",
     "status": "completed"
    },
    "tags": []
   },
   "outputs": [
    {
     "name": "stderr",
     "output_type": "stream",
     "text": [
      "/home/runner/work/corr-app/corr-app/_notebooks/scripts/read_data.py:187: SettingWithCopyWarning:\n",
      "\n",
      "\n",
      "A value is trying to be set on a copy of a slice from a DataFrame.\n",
      "Try using .loc[row_indexer,col_indexer] = value instead\n",
      "\n",
      "See the caveats in the documentation: https://pandas.pydata.org/pandas-docs/stable/user_guide/indexing.html#returning-a-view-versus-a-copy\n",
      "\n"
     ]
    },
    {
     "name": "stderr",
     "output_type": "stream",
     "text": [
      "/home/runner/work/corr-app/corr-app/_notebooks/scripts/read_data.py:215: SettingWithCopyWarning:\n",
      "\n",
      "\n",
      "A value is trying to be set on a copy of a slice from a DataFrame.\n",
      "Try using .loc[row_indexer,col_indexer] = value instead\n",
      "\n",
      "See the caveats in the documentation: https://pandas.pydata.org/pandas-docs/stable/user_guide/indexing.html#returning-a-view-versus-a-copy\n",
      "\n"
     ]
    }
   ],
   "source": [
    "#hide\n",
    "df_all = read_api()\n",
    "#df_all = df_all.drop(['SP500', 'XAU', 'ETH', 'BTC'], axis=1)\n",
    "\n"
   ]
  },
  {
   "cell_type": "code",
   "execution_count": 6,
   "id": "mature-alert",
   "metadata": {
    "execution": {
     "iopub.execute_input": "2022-03-16T02:22:29.174150Z",
     "iopub.status.busy": "2022-03-16T02:22:29.173587Z",
     "iopub.status.idle": "2022-03-16T02:22:29.202348Z",
     "shell.execute_reply": "2022-03-16T02:22:29.201864Z"
    },
    "papermill": {
     "duration": 0.045685,
     "end_time": "2022-03-16T02:22:29.202479",
     "exception": false,
     "start_time": "2022-03-16T02:22:29.156794",
     "status": "completed"
    },
    "tags": []
   },
   "outputs": [],
   "source": [
    "#hide_input\n",
    "sum_corr = df_all.corr().sum().sort_values(ascending=True).index.values\n",
    "#df_all[sum_corr].corr()"
   ]
  },
  {
   "cell_type": "markdown",
   "id": "complex-syndicate",
   "metadata": {
    "papermill": {
     "duration": 0.011375,
     "end_time": "2022-03-16T02:22:29.225536",
     "exception": false,
     "start_time": "2022-03-16T02:22:29.214161",
     "status": "completed"
    },
    "tags": []
   },
   "source": [
    "## Išplėstinė koreliacijų matrica. "
   ]
  },
  {
   "cell_type": "code",
   "execution_count": 7,
   "id": "atomic-omaha",
   "metadata": {
    "execution": {
     "iopub.execute_input": "2022-03-16T02:22:29.263566Z",
     "iopub.status.busy": "2022-03-16T02:22:29.262209Z",
     "iopub.status.idle": "2022-03-16T02:22:30.529859Z",
     "shell.execute_reply": "2022-03-16T02:22:30.529402Z"
    },
    "papermill": {
     "duration": 1.29311,
     "end_time": "2022-03-16T02:22:30.529992",
     "exception": false,
     "start_time": "2022-03-16T02:22:29.236882",
     "status": "completed"
    },
    "tags": []
   },
   "outputs": [
    {
     "data": {
      "image/png": "[encoded data removed]",
      "text/plain": [
       "<Figure size 1080x792 with 2 Axes>"
      ]
     },
     "metadata": {
      "needs_background": "light"
     },
     "output_type": "display_data"
    }
   ],
   "source": [
    "#hide_input\n",
    "plt.figure(figsize=(15, 11))\n",
    "sns.heatmap(df_all[sum_corr].corr(), annot=True, cmap=\"cubehelix\") \n",
    "sns.set(font_scale=1.25)\n",
    "plt.savefig('corr_matrix.png', format='eps')"
   ]
  },
  {
   "cell_type": "code",
   "execution_count": 8,
   "id": "arbitrary-sullivan",
   "metadata": {
    "execution": {
     "iopub.execute_input": "2022-03-16T02:22:30.562496Z",
     "iopub.status.busy": "2022-03-16T02:22:30.561888Z",
     "iopub.status.idle": "2022-03-16T02:22:30.588297Z",
     "shell.execute_reply": "2022-03-16T02:22:30.588739Z"
    },
    "papermill": {
     "duration": 0.044803,
     "end_time": "2022-03-16T02:22:30.588903",
     "exception": false,
     "start_time": "2022-03-16T02:22:30.544100",
     "status": "completed"
    },
    "tags": []
   },
   "outputs": [],
   "source": [
    "#hide\n",
    "#df_all_mrk = read_api()"
   ]
  },
  {
   "cell_type": "code",
   "execution_count": 9,
   "id": "delayed-adapter",
   "metadata": {
    "execution": {
     "iopub.execute_input": "2022-03-16T02:22:30.624227Z",
     "iopub.status.busy": "2022-03-16T02:22:30.623695Z",
     "iopub.status.idle": "2022-03-16T02:22:30.648527Z",
     "shell.execute_reply": "2022-03-16T02:22:30.649001Z"
    },
    "papermill": {
     "duration": 0.044889,
     "end_time": "2022-03-16T02:22:30.649162",
     "exception": false,
     "start_time": "2022-03-16T02:22:30.604273",
     "status": "completed"
    },
    "tags": []
   },
   "outputs": [],
   "source": [
    "#hide\n",
    "#Koreliacijų koeficientai"
   ]
  },
  {
   "cell_type": "code",
   "execution_count": 10,
   "id": "seeing-celebration",
   "metadata": {
    "execution": {
     "iopub.execute_input": "2022-03-16T02:22:30.686493Z",
     "iopub.status.busy": "2022-03-16T02:22:30.685962Z",
     "iopub.status.idle": "2022-03-16T02:22:30.709178Z",
     "shell.execute_reply": "2022-03-16T02:22:30.708665Z"
    },
    "papermill": {
     "duration": 0.04462,
     "end_time": "2022-03-16T02:22:30.709321",
     "exception": false,
     "start_time": "2022-03-16T02:22:30.664701",
     "status": "completed"
    },
    "tags": []
   },
   "outputs": [],
   "source": [
    "#hide_input\n",
    "#sum_corr = df_all_mrk.corr().sum().sort_values(ascending=True).index.values\n",
    "#df_all_mrk[sum_corr].corr()"
   ]
  },
  {
   "cell_type": "code",
   "execution_count": 11,
   "id": "other-painting",
   "metadata": {
    "execution": {
     "iopub.execute_input": "2022-03-16T02:22:30.740927Z",
     "iopub.status.busy": "2022-03-16T02:22:30.740407Z",
     "iopub.status.idle": "2022-03-16T02:22:30.768164Z",
     "shell.execute_reply": "2022-03-16T02:22:30.767674Z"
    },
    "papermill": {
     "duration": 0.04412,
     "end_time": "2022-03-16T02:22:30.768300",
     "exception": false,
     "start_time": "2022-03-16T02:22:30.724180",
     "status": "completed"
    },
    "tags": []
   },
   "outputs": [],
   "source": [
    "#hide\n",
    "#Koreliacijos matrica. "
   ]
  },
  {
   "cell_type": "code",
   "execution_count": 12,
   "id": "modular-magnitude",
   "metadata": {
    "execution": {
     "iopub.execute_input": "2022-03-16T02:22:30.800452Z",
     "iopub.status.busy": "2022-03-16T02:22:30.799910Z",
     "iopub.status.idle": "2022-03-16T02:22:30.828474Z",
     "shell.execute_reply": "2022-03-16T02:22:30.827989Z"
    },
    "papermill": {
     "duration": 0.045602,
     "end_time": "2022-03-16T02:22:30.828608",
     "exception": false,
     "start_time": "2022-03-16T02:22:30.783006",
     "status": "completed"
    },
    "tags": []
   },
   "outputs": [],
   "source": [
    "#hide_input\n",
    "#plt.figure(figsize=(15, 8))\n",
    "#sns.heatmap(df_all_mrk[sum_corr].corr(), annot=True, cmap=\"BrBG\");\n",
    "#plt.savefig('corr_matrix_all.eps', format='eps')"
   ]
  },
  {
   "cell_type": "code",
   "execution_count": null,
   "id": "original-senator",
   "metadata": {
    "papermill": {
     "duration": 0.013461,
     "end_time": "2022-03-16T02:22:30.855736",
     "exception": false,
     "start_time": "2022-03-16T02:22:30.842275",
     "status": "completed"
    },
    "tags": []
   },
   "outputs": [],
   "source": []
  },
  {
   "cell_type": "code",
   "execution_count": null,
   "id": "saving-secretariat",
   "metadata": {
    "papermill": {
     "duration": 0.013417,
     "end_time": "2022-03-16T02:22:30.882513",
     "exception": false,
     "start_time": "2022-03-16T02:22:30.869096",
     "status": "completed"
    },
    "tags": []
   },
   "outputs": [],
   "source": []
  }
 ],
 "metadata": {
  "kernelspec": {
   "display_name": "Python 3",
   "language": "python",
   "name": "python3"
  },
  "language_info": {
   "codemirror_mode": {
    "name": "ipython",
    "version": 3
   },
   "file_extension": ".py",
   "mimetype": "text/x-python",
   "name": "python",
   "nbconvert_exporter": "python",
   "pygments_lexer": "ipython3",
   "version": "3.6.15"
  },
  "papermill": {
   "default_parameters": {},
   "duration": 16.097143,
   "end_time": "2022-03-16T02:22:31.515916",
   "environment_variables": {},
   "exception": null,
   "input_path": "App-Correlation_charts.ipynb",
   "output_path": "App-Correlation_charts.ipynb",
   "parameters": {},
   "start_time": "2022-03-16T02:22:15.418773",
   "version": "2.2.2"
  }
 },
 "nbformat": 4,
 "nbformat_minor": 5
}