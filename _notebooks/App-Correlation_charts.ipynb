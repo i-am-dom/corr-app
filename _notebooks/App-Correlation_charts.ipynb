{
 "cells": [
  {
   "cell_type": "markdown",
   "id": "touched-facility",
   "metadata": {
    "papermill": {
     "duration": 0.017579,
     "end_time": "2022-05-14T03:24:19.718869",
     "exception": false,
     "start_time": "2022-05-14T03:24:19.701290",
     "status": "completed"
    },
    "tags": []
   },
   "source": [
    "# Koreliacijų matrica\n",
    "> Išplėstinė koreliacijų matrica. \n",
    "\n",
    "- toc: true \n",
    "- badges: true\n",
    "- comments: false\n",
    "- categories: [Dominykas Tautkus]\n",
    "- image: images/matrix.png"
   ]
  },
  {
   "cell_type": "code",
   "execution_count": null,
   "id": "premium-weekend",
   "metadata": {
    "papermill": {
     "duration": 0.012406,
     "end_time": "2022-05-14T03:24:19.745493",
     "exception": false,
     "start_time": "2022-05-14T03:24:19.733087",
     "status": "completed"
    },
    "tags": []
   },
   "outputs": [],
   "source": []
  },
  {
   "cell_type": "code",
   "execution_count": 1,
   "id": "vertical-rebate",
   "metadata": {
    "execution": {
     "iopub.execute_input": "2022-05-14T03:24:19.782480Z",
     "iopub.status.busy": "2022-05-14T03:24:19.781791Z",
     "iopub.status.idle": "2022-05-14T03:24:19.793087Z",
     "shell.execute_reply": "2022-05-14T03:24:19.792600Z"
    },
    "papermill": {
     "duration": 0.035822,
     "end_time": "2022-05-14T03:24:19.793217",
     "exception": false,
     "start_time": "2022-05-14T03:24:19.757395",
     "status": "completed"
    },
    "tags": []
   },
   "outputs": [],
   "source": [
    "#hide\n",
    "%load_ext autoreload\n",
    "%autoreload 2"
   ]
  },
  {
   "cell_type": "code",
   "execution_count": 2,
   "id": "overall-advancement",
   "metadata": {
    "execution": {
     "iopub.execute_input": "2022-05-14T03:24:19.821199Z",
     "iopub.status.busy": "2022-05-14T03:24:19.820649Z",
     "iopub.status.idle": "2022-05-14T03:24:20.974147Z",
     "shell.execute_reply": "2022-05-14T03:24:20.975006Z"
    },
    "papermill": {
     "duration": 1.170406,
     "end_time": "2022-05-14T03:24:20.975264",
     "exception": false,
     "start_time": "2022-05-14T03:24:19.804858",
     "status": "completed"
    },
    "tags": []
   },
   "outputs": [],
   "source": [
    "#hide\n",
    "from scripts.read_data import read_api\n",
    "from IPython.display import HTML\n",
    "import plotly.graph_objects as go\n"
   ]
  },
  {
   "cell_type": "code",
   "execution_count": 3,
   "id": "light-crazy",
   "metadata": {
    "execution": {
     "iopub.execute_input": "2022-05-14T03:24:21.003037Z",
     "iopub.status.busy": "2022-05-14T03:24:21.002255Z",
     "iopub.status.idle": "2022-05-14T03:24:21.026736Z",
     "shell.execute_reply": "2022-05-14T03:24:21.026079Z"
    },
    "papermill": {
     "duration": 0.039184,
     "end_time": "2022-05-14T03:24:21.026903",
     "exception": false,
     "start_time": "2022-05-14T03:24:20.987719",
     "status": "completed"
    },
    "tags": []
   },
   "outputs": [],
   "source": [
    "#hide\n",
    "### ICO koreliacija"
   ]
  },
  {
   "cell_type": "code",
   "execution_count": 4,
   "id": "likely-bahrain",
   "metadata": {
    "execution": {
     "iopub.execute_input": "2022-05-14T03:24:21.055204Z",
     "iopub.status.busy": "2022-05-14T03:24:21.054614Z",
     "iopub.status.idle": "2022-05-14T03:24:21.935749Z",
     "shell.execute_reply": "2022-05-14T03:24:21.934852Z"
    },
    "papermill": {
     "duration": 0.897059,
     "end_time": "2022-05-14T03:24:21.935972",
     "exception": false,
     "start_time": "2022-05-14T03:24:21.038913",
     "status": "completed"
    },
    "tags": []
   },
   "outputs": [],
   "source": [
    "#hide\n",
    "import matplotlib.pyplot as plt\n",
    "import numpy as np\n",
    "import pandas as pd\n",
    "import seaborn as sns\n",
    "import matplotlib.pyplot as plt \n",
    "import matplotlib.dates as mdates\n",
    "import matplotlib.pyplot as plt"
   ]
  },
  {
   "cell_type": "code",
   "execution_count": 5,
   "id": "superior-blanket",
   "metadata": {
    "execution": {
     "iopub.execute_input": "2022-05-14T03:24:21.967123Z",
     "iopub.status.busy": "2022-05-14T03:24:21.966138Z",
     "iopub.status.idle": "2022-05-14T03:24:32.438712Z",
     "shell.execute_reply": "2022-05-14T03:24:32.437888Z"
    },
    "papermill": {
     "duration": 10.489544,
     "end_time": "2022-05-14T03:24:32.438867",
     "exception": false,
     "start_time": "2022-05-14T03:24:21.949323",
     "status": "completed"
    },
    "tags": []
   },
   "outputs": [
    {
     "name": "stderr",
     "output_type": "stream",
     "text": [
      "/home/runner/work/corr-app/corr-app/_notebooks/scripts/read_data.py:187: SettingWithCopyWarning:\n",
      "\n",
      "\n",
      "A value is trying to be set on a copy of a slice from a DataFrame.\n",
      "Try using .loc[row_indexer,col_indexer] = value instead\n",
      "\n",
      "See the caveats in the documentation: https://pandas.pydata.org/pandas-docs/stable/user_guide/indexing.html#returning-a-view-versus-a-copy\n",
      "\n"
     ]
    },
    {
     "name": "stderr",
     "output_type": "stream",
     "text": [
      "/home/runner/work/corr-app/corr-app/_notebooks/scripts/read_data.py:215: SettingWithCopyWarning:\n",
      "\n",
      "\n",
      "A value is trying to be set on a copy of a slice from a DataFrame.\n",
      "Try using .loc[row_indexer,col_indexer] = value instead\n",
      "\n",
      "See the caveats in the documentation: https://pandas.pydata.org/pandas-docs/stable/user_guide/indexing.html#returning-a-view-versus-a-copy\n",
      "\n"
     ]
    }
   ],
   "source": [
    "#hide\n",
    "df_all = read_api()\n",
    "#df_all = df_all.drop(['SP500', 'XAU', 'ETH', 'BTC'], axis=1)\n",
    "\n"
   ]
  },
  {
   "cell_type": "code",
   "execution_count": 6,
   "id": "mature-alert",
   "metadata": {
    "execution": {
     "iopub.execute_input": "2022-05-14T03:24:32.468615Z",
     "iopub.status.busy": "2022-05-14T03:24:32.467898Z",
     "iopub.status.idle": "2022-05-14T03:24:32.501780Z",
     "shell.execute_reply": "2022-05-14T03:24:32.500968Z"
    },
    "papermill": {
     "duration": 0.05062,
     "end_time": "2022-05-14T03:24:32.502016",
     "exception": false,
     "start_time": "2022-05-14T03:24:32.451396",
     "status": "completed"
    },
    "tags": []
   },
   "outputs": [],
   "source": [
    "#hide_input\n",
    "sum_corr = df_all.corr().sum().sort_values(ascending=True).index.values\n",
    "#df_all[sum_corr].corr()"
   ]
  },
  {
   "cell_type": "markdown",
   "id": "complex-syndicate",
   "metadata": {
    "papermill": {
     "duration": 0.011878,
     "end_time": "2022-05-14T03:24:32.527271",
     "exception": false,
     "start_time": "2022-05-14T03:24:32.515393",
     "status": "completed"
    },
    "tags": []
   },
   "source": [
    "## Išplėstinė koreliacijų matrica. "
   ]
  },
  {
   "cell_type": "code",
   "execution_count": 7,
   "id": "atomic-omaha",
   "metadata": {
    "execution": {
     "iopub.execute_input": "2022-05-14T03:24:32.554863Z",
     "iopub.status.busy": "2022-05-14T03:24:32.554377Z",
     "iopub.status.idle": "2022-05-14T03:24:33.708217Z",
     "shell.execute_reply": "2022-05-14T03:24:33.707448Z"
    },
    "papermill": {
     "duration": 1.16967,
     "end_time": "2022-05-14T03:24:33.708348",
     "exception": false,
     "start_time": "2022-05-14T03:24:32.538678",
     "status": "completed"
    },
    "tags": []
   },
   "outputs": [
    {
     "data": {
      "image/png": "[encoded data removed]",
      "text/plain": [
       "<Figure size 1080x792 with 2 Axes>"
      ]
     },
     "metadata": {
      "needs_background": "light"
     },
     "output_type": "display_data"
    }
   ],
   "source": [
    "#hide_input\n",
    "plt.figure(figsize=(15, 11))\n",
    "sns.heatmap(df_all[sum_corr].corr(), annot=True, cmap=\"cubehelix\") \n",
    "sns.set(font_scale=1.25)\n",
    "plt.savefig('corr_matrix.png', format='eps')"
   ]
  },
  {
   "cell_type": "code",
   "execution_count": 8,
   "id": "arbitrary-sullivan",
   "metadata": {
    "execution": {
     "iopub.execute_input": "2022-05-14T03:24:33.735853Z",
     "iopub.status.busy": "2022-05-14T03:24:33.735023Z",
     "iopub.status.idle": "2022-05-14T03:24:33.761566Z",
     "shell.execute_reply": "2022-05-14T03:24:33.760688Z"
    },
    "papermill": {
     "duration": 0.041106,
     "end_time": "2022-05-14T03:24:33.761764",
     "exception": false,
     "start_time": "2022-05-14T03:24:33.720658",
     "status": "completed"
    },
    "tags": []
   },
   "outputs": [],
   "source": [
    "#hide\n",
    "#df_all_mrk = read_api()"
   ]
  },
  {
   "cell_type": "code",
   "execution_count": 9,
   "id": "delayed-adapter",
   "metadata": {
    "execution": {
     "iopub.execute_input": "2022-05-14T03:24:33.800268Z",
     "iopub.status.busy": "2022-05-14T03:24:33.799664Z",
     "iopub.status.idle": "2022-05-14T03:24:33.824546Z",
     "shell.execute_reply": "2022-05-14T03:24:33.823927Z"
    },
    "papermill": {
     "duration": 0.045822,
     "end_time": "2022-05-14T03:24:33.824685",
     "exception": false,
     "start_time": "2022-05-14T03:24:33.778863",
     "status": "completed"
    },
    "tags": []
   },
   "outputs": [],
   "source": [
    "#hide\n",
    "#Koreliacijų koeficientai"
   ]
  },
  {
   "cell_type": "code",
   "execution_count": 10,
   "id": "seeing-celebration",
   "metadata": {
    "execution": {
     "iopub.execute_input": "2022-05-14T03:24:33.860866Z",
     "iopub.status.busy": "2022-05-14T03:24:33.859498Z",
     "iopub.status.idle": "2022-05-14T03:24:33.883551Z",
     "shell.execute_reply": "2022-05-14T03:24:33.884037Z"
    },
    "papermill": {
     "duration": 0.042545,
     "end_time": "2022-05-14T03:24:33.884178",
     "exception": false,
     "start_time": "2022-05-14T03:24:33.841633",
     "status": "completed"
    },
    "tags": []
   },
   "outputs": [],
   "source": [
    "#hide_input\n",
    "#sum_corr = df_all_mrk.corr().sum().sort_values(ascending=True).index.values\n",
    "#df_all_mrk[sum_corr].corr()"
   ]
  },
  {
   "cell_type": "code",
   "execution_count": 11,
   "id": "other-painting",
   "metadata": {
    "execution": {
     "iopub.execute_input": "2022-05-14T03:24:33.916034Z",
     "iopub.status.busy": "2022-05-14T03:24:33.915532Z",
     "iopub.status.idle": "2022-05-14T03:24:33.943028Z",
     "shell.execute_reply": "2022-05-14T03:24:33.942150Z"
    },
    "papermill": {
     "duration": 0.044654,
     "end_time": "2022-05-14T03:24:33.943224",
     "exception": false,
     "start_time": "2022-05-14T03:24:33.898570",
     "status": "completed"
    },
    "tags": []
   },
   "outputs": [],
   "source": [
    "#hide\n",
    "#Koreliacijos matrica. "
   ]
  },
  {
   "cell_type": "code",
   "execution_count": 12,
   "id": "modular-magnitude",
   "metadata": {
    "execution": {
     "iopub.execute_input": "2022-05-14T03:24:33.976182Z",
     "iopub.status.busy": "2022-05-14T03:24:33.975600Z",
     "iopub.status.idle": "2022-05-14T03:24:34.001978Z",
     "shell.execute_reply": "2022-05-14T03:24:34.001508Z"
    },
    "papermill": {
     "duration": 0.042302,
     "end_time": "2022-05-14T03:24:34.002104",
     "exception": false,
     "start_time": "2022-05-14T03:24:33.959802",
     "status": "completed"
    },
    "tags": []
   },
   "outputs": [],
   "source": [
    "#hide_input\n",
    "#plt.figure(figsize=(15, 8))\n",
    "#sns.heatmap(df_all_mrk[sum_corr].corr(), annot=True, cmap=\"BrBG\");\n",
    "#plt.savefig('corr_matrix_all.eps', format='eps')"
   ]
  },
  {
   "cell_type": "code",
   "execution_count": null,
   "id": "original-senator",
   "metadata": {
    "papermill": {
     "duration": 0.012827,
     "end_time": "2022-05-14T03:24:34.027599",
     "exception": false,
     "start_time": "2022-05-14T03:24:34.014772",
     "status": "completed"
    },
    "tags": []
   },
   "outputs": [],
   "source": []
  },
  {
   "cell_type": "code",
   "execution_count": null,
   "id": "saving-secretariat",
   "metadata": {
    "papermill": {
     "duration": 0.013213,
     "end_time": "2022-05-14T03:24:34.053599",
     "exception": false,
     "start_time": "2022-05-14T03:24:34.040386",
     "status": "completed"
    },
    "tags": []
   },
   "outputs": [],
   "source": []
  }
 ],
 "metadata": {
  "kernelspec": {
   "display_name": "Python 3",
   "language": "python",
   "name": "python3"
  },
  "language_info": {
   "codemirror_mode": {
    "name": "ipython",
    "version": 3
   },
   "file_extension": ".py",
   "mimetype": "text/x-python",
   "name": "python",
   "nbconvert_exporter": "python",
   "pygments_lexer": "ipython3",
   "version": "3.6.15"
  },
  "papermill": {
   "default_parameters": {},
   "duration": 15.836918,
   "end_time": "2022-05-14T03:24:34.589186",
   "environment_variables": {},
   "exception": null,
   "input_path": "App-Correlation_charts.ipynb",
   "output_path": "App-Correlation_charts.ipynb",
   "parameters": {},
   "start_time": "2022-05-14T03:24:18.752268",
   "version": "2.2.2"
  }
 },
 "nbformat": 4,
 "nbformat_minor": 5
}