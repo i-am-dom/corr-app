{
 "cells": [
  {
   "cell_type": "markdown",
   "id": "touched-facility",
   "metadata": {
    "papermill": {
     "duration": 0.022424,
     "end_time": "2021-12-06T02:02:11.195736",
     "exception": false,
     "start_time": "2021-12-06T02:02:11.173312",
     "status": "completed"
    },
    "tags": []
   },
   "source": [
    "# Koreliacijų matrica\n",
    "> Išplėstinė koreliacijų matrica. \n",
    "\n",
    "- toc: true \n",
    "- badges: true\n",
    "- comments: false\n",
    "- categories: [Dominykas Tautkus]\n",
    "- image: images/matrix.png"
   ]
  },
  {
   "cell_type": "code",
   "execution_count": null,
   "id": "premium-weekend",
   "metadata": {
    "papermill": {
     "duration": 0.014228,
     "end_time": "2021-12-06T02:02:11.227332",
     "exception": false,
     "start_time": "2021-12-06T02:02:11.213104",
     "status": "completed"
    },
    "tags": []
   },
   "outputs": [],
   "source": []
  },
  {
   "cell_type": "code",
   "execution_count": 1,
   "id": "vertical-rebate",
   "metadata": {
    "execution": {
     "iopub.execute_input": "2021-12-06T02:02:11.269676Z",
     "iopub.status.busy": "2021-12-06T02:02:11.268913Z",
     "iopub.status.idle": "2021-12-06T02:02:11.280772Z",
     "shell.execute_reply": "2021-12-06T02:02:11.281483Z"
    },
    "papermill": {
     "duration": 0.040114,
     "end_time": "2021-12-06T02:02:11.281699",
     "exception": false,
     "start_time": "2021-12-06T02:02:11.241585",
     "status": "completed"
    },
    "tags": []
   },
   "outputs": [],
   "source": [
    "#hide\n",
    "%load_ext autoreload\n",
    "%autoreload 2"
   ]
  },
  {
   "cell_type": "code",
   "execution_count": 2,
   "id": "overall-advancement",
   "metadata": {
    "execution": {
     "iopub.execute_input": "2021-12-06T02:02:11.320108Z",
     "iopub.status.busy": "2021-12-06T02:02:11.319351Z",
     "iopub.status.idle": "2021-12-06T02:02:12.870824Z",
     "shell.execute_reply": "2021-12-06T02:02:12.870203Z"
    },
    "papermill": {
     "duration": 1.572891,
     "end_time": "2021-12-06T02:02:12.870972",
     "exception": false,
     "start_time": "2021-12-06T02:02:11.298081",
     "status": "completed"
    },
    "tags": []
   },
   "outputs": [],
   "source": [
    "#hide\n",
    "from scripts.read_data import read_api\n",
    "from IPython.display import HTML\n",
    "import plotly.graph_objects as go\n"
   ]
  },
  {
   "cell_type": "code",
   "execution_count": 3,
   "id": "light-crazy",
   "metadata": {
    "execution": {
     "iopub.execute_input": "2021-12-06T02:02:12.916448Z",
     "iopub.status.busy": "2021-12-06T02:02:12.915633Z",
     "iopub.status.idle": "2021-12-06T02:02:12.945802Z",
     "shell.execute_reply": "2021-12-06T02:02:12.946422Z"
    },
    "papermill": {
     "duration": 0.055448,
     "end_time": "2021-12-06T02:02:12.946604",
     "exception": false,
     "start_time": "2021-12-06T02:02:12.891156",
     "status": "completed"
    },
    "tags": []
   },
   "outputs": [],
   "source": [
    "#hide\n",
    "### ICO koreliacija"
   ]
  },
  {
   "cell_type": "code",
   "execution_count": 4,
   "id": "likely-bahrain",
   "metadata": {
    "execution": {
     "iopub.execute_input": "2021-12-06T02:02:12.983350Z",
     "iopub.status.busy": "2021-12-06T02:02:12.981828Z",
     "iopub.status.idle": "2021-12-06T02:02:14.231842Z",
     "shell.execute_reply": "2021-12-06T02:02:14.230806Z"
    },
    "papermill": {
     "duration": 1.270258,
     "end_time": "2021-12-06T02:02:14.232021",
     "exception": false,
     "start_time": "2021-12-06T02:02:12.961763",
     "status": "completed"
    },
    "tags": []
   },
   "outputs": [],
   "source": [
    "#hide\n",
    "import matplotlib.pyplot as plt\n",
    "import numpy as np\n",
    "import pandas as pd\n",
    "import seaborn as sns\n",
    "import matplotlib.pyplot as plt \n",
    "import matplotlib.dates as mdates\n",
    "import matplotlib.pyplot as plt"
   ]
  },
  {
   "cell_type": "code",
   "execution_count": 5,
   "id": "superior-blanket",
   "metadata": {
    "execution": {
     "iopub.execute_input": "2021-12-06T02:02:14.268094Z",
     "iopub.status.busy": "2021-12-06T02:02:14.267405Z",
     "iopub.status.idle": "2021-12-06T02:02:30.568777Z",
     "shell.execute_reply": "2021-12-06T02:02:30.569565Z"
    },
    "papermill": {
     "duration": 16.322931,
     "end_time": "2021-12-06T02:02:30.569752",
     "exception": false,
     "start_time": "2021-12-06T02:02:14.246821",
     "status": "completed"
    },
    "tags": []
   },
   "outputs": [
    {
     "name": "stderr",
     "output_type": "stream",
     "text": [
      "/home/runner/work/corr-app/corr-app/_notebooks/scripts/read_data.py:187: SettingWithCopyWarning:\n",
      "\n",
      "\n",
      "A value is trying to be set on a copy of a slice from a DataFrame.\n",
      "Try using .loc[row_indexer,col_indexer] = value instead\n",
      "\n",
      "See the caveats in the documentation: https://pandas.pydata.org/pandas-docs/stable/user_guide/indexing.html#returning-a-view-versus-a-copy\n",
      "\n"
     ]
    },
    {
     "name": "stderr",
     "output_type": "stream",
     "text": [
      "/home/runner/work/corr-app/corr-app/_notebooks/scripts/read_data.py:215: SettingWithCopyWarning:\n",
      "\n",
      "\n",
      "A value is trying to be set on a copy of a slice from a DataFrame.\n",
      "Try using .loc[row_indexer,col_indexer] = value instead\n",
      "\n",
      "See the caveats in the documentation: https://pandas.pydata.org/pandas-docs/stable/user_guide/indexing.html#returning-a-view-versus-a-copy\n",
      "\n"
     ]
    }
   ],
   "source": [
    "#hide\n",
    "df_all = read_api()\n",
    "#df_all = df_all.drop(['SP500', 'XAU', 'ETH', 'BTC'], axis=1)\n",
    "\n"
   ]
  },
  {
   "cell_type": "code",
   "execution_count": 6,
   "id": "mature-alert",
   "metadata": {
    "execution": {
     "iopub.execute_input": "2021-12-06T02:02:30.680913Z",
     "iopub.status.busy": "2021-12-06T02:02:30.680018Z",
     "iopub.status.idle": "2021-12-06T02:02:30.715259Z",
     "shell.execute_reply": "2021-12-06T02:02:30.714539Z"
    },
    "papermill": {
     "duration": 0.127274,
     "end_time": "2021-12-06T02:02:30.715406",
     "exception": false,
     "start_time": "2021-12-06T02:02:30.588132",
     "status": "completed"
    },
    "tags": []
   },
   "outputs": [],
   "source": [
    "#hide_input\n",
    "sum_corr = df_all.corr().sum().sort_values(ascending=True).index.values\n",
    "#df_all[sum_corr].corr()"
   ]
  },
  {
   "cell_type": "markdown",
   "id": "complex-syndicate",
   "metadata": {
    "papermill": {
     "duration": 0.014837,
     "end_time": "2021-12-06T02:02:30.745737",
     "exception": false,
     "start_time": "2021-12-06T02:02:30.730900",
     "status": "completed"
    },
    "tags": []
   },
   "source": [
    "## Išplėstinė koreliacijų matrica. "
   ]
  },
  {
   "cell_type": "code",
   "execution_count": 7,
   "id": "atomic-omaha",
   "metadata": {
    "execution": {
     "iopub.execute_input": "2021-12-06T02:02:30.785475Z",
     "iopub.status.busy": "2021-12-06T02:02:30.784158Z",
     "iopub.status.idle": "2021-12-06T02:02:32.575266Z",
     "shell.execute_reply": "2021-12-06T02:02:32.574678Z"
    },
    "papermill": {
     "duration": 1.814847,
     "end_time": "2021-12-06T02:02:32.575412",
     "exception": false,
     "start_time": "2021-12-06T02:02:30.760565",
     "status": "completed"
    },
    "tags": []
   },
   "outputs": [
    {
     "data": {
      "image/png": "[encoded data removed]",
      "text/plain": [
       "<Figure size 1080x792 with 2 Axes>"
      ]
     },
     "metadata": {
      "needs_background": "light"
     },
     "output_type": "display_data"
    }
   ],
   "source": [
    "#hide_input\n",
    "plt.figure(figsize=(15, 11))\n",
    "sns.heatmap(df_all[sum_corr].corr(), annot=True, cmap=\"cubehelix\") \n",
    "sns.set(font_scale=1.25)\n",
    "plt.savefig('corr_matrix.png', format='eps')"
   ]
  },
  {
   "cell_type": "code",
   "execution_count": 8,
   "id": "arbitrary-sullivan",
   "metadata": {
    "execution": {
     "iopub.execute_input": "2021-12-06T02:02:32.618418Z",
     "iopub.status.busy": "2021-12-06T02:02:32.617072Z",
     "iopub.status.idle": "2021-12-06T02:02:32.647388Z",
     "shell.execute_reply": "2021-12-06T02:02:32.647916Z"
    },
    "papermill": {
     "duration": 0.054627,
     "end_time": "2021-12-06T02:02:32.648128",
     "exception": false,
     "start_time": "2021-12-06T02:02:32.593501",
     "status": "completed"
    },
    "tags": []
   },
   "outputs": [],
   "source": [
    "#hide\n",
    "#df_all_mrk = read_api()"
   ]
  },
  {
   "cell_type": "code",
   "execution_count": 9,
   "id": "delayed-adapter",
   "metadata": {
    "execution": {
     "iopub.execute_input": "2021-12-06T02:02:32.686490Z",
     "iopub.status.busy": "2021-12-06T02:02:32.685675Z",
     "iopub.status.idle": "2021-12-06T02:02:32.719347Z",
     "shell.execute_reply": "2021-12-06T02:02:32.720031Z"
    },
    "papermill": {
     "duration": 0.054848,
     "end_time": "2021-12-06T02:02:32.720216",
     "exception": false,
     "start_time": "2021-12-06T02:02:32.665368",
     "status": "completed"
    },
    "tags": []
   },
   "outputs": [],
   "source": [
    "#hide\n",
    "#Koreliacijų koeficientai"
   ]
  },
  {
   "cell_type": "code",
   "execution_count": 10,
   "id": "seeing-celebration",
   "metadata": {
    "execution": {
     "iopub.execute_input": "2021-12-06T02:02:32.759262Z",
     "iopub.status.busy": "2021-12-06T02:02:32.758574Z",
     "iopub.status.idle": "2021-12-06T02:02:32.788729Z",
     "shell.execute_reply": "2021-12-06T02:02:32.789300Z"
    },
    "papermill": {
     "duration": 0.051452,
     "end_time": "2021-12-06T02:02:32.789470",
     "exception": false,
     "start_time": "2021-12-06T02:02:32.738018",
     "status": "completed"
    },
    "tags": []
   },
   "outputs": [],
   "source": [
    "#hide_input\n",
    "#sum_corr = df_all_mrk.corr().sum().sort_values(ascending=True).index.values\n",
    "#df_all_mrk[sum_corr].corr()"
   ]
  },
  {
   "cell_type": "code",
   "execution_count": 11,
   "id": "other-painting",
   "metadata": {
    "execution": {
     "iopub.execute_input": "2021-12-06T02:02:32.839045Z",
     "iopub.status.busy": "2021-12-06T02:02:32.838377Z",
     "iopub.status.idle": "2021-12-06T02:02:32.868567Z",
     "shell.execute_reply": "2021-12-06T02:02:32.869117Z"
    },
    "papermill": {
     "duration": 0.051824,
     "end_time": "2021-12-06T02:02:32.869276",
     "exception": false,
     "start_time": "2021-12-06T02:02:32.817452",
     "status": "completed"
    },
    "tags": []
   },
   "outputs": [],
   "source": [
    "#hide\n",
    "#Koreliacijos matrica. "
   ]
  },
  {
   "cell_type": "code",
   "execution_count": 12,
   "id": "modular-magnitude",
   "metadata": {
    "execution": {
     "iopub.execute_input": "2021-12-06T02:02:32.908548Z",
     "iopub.status.busy": "2021-12-06T02:02:32.907794Z",
     "iopub.status.idle": "2021-12-06T02:02:32.940143Z",
     "shell.execute_reply": "2021-12-06T02:02:32.939509Z"
    },
    "papermill": {
     "duration": 0.054043,
     "end_time": "2021-12-06T02:02:32.940281",
     "exception": false,
     "start_time": "2021-12-06T02:02:32.886238",
     "status": "completed"
    },
    "tags": []
   },
   "outputs": [],
   "source": [
    "#hide_input\n",
    "#plt.figure(figsize=(15, 8))\n",
    "#sns.heatmap(df_all_mrk[sum_corr].corr(), annot=True, cmap=\"BrBG\");\n",
    "#plt.savefig('corr_matrix_all.eps', format='eps')"
   ]
  },
  {
   "cell_type": "code",
   "execution_count": null,
   "id": "original-senator",
   "metadata": {
    "papermill": {
     "duration": 0.016443,
     "end_time": "2021-12-06T02:02:32.973842",
     "exception": false,
     "start_time": "2021-12-06T02:02:32.957399",
     "status": "completed"
    },
    "tags": []
   },
   "outputs": [],
   "source": []
  },
  {
   "cell_type": "code",
   "execution_count": null,
   "id": "saving-secretariat",
   "metadata": {
    "papermill": {
     "duration": 0.018968,
     "end_time": "2021-12-06T02:02:33.009742",
     "exception": false,
     "start_time": "2021-12-06T02:02:32.990774",
     "status": "completed"
    },
    "tags": []
   },
   "outputs": [],
   "source": []
  }
 ],
 "metadata": {
  "kernelspec": {
   "display_name": "Python 3",
   "language": "python",
   "name": "python3"
  },
  "language_info": {
   "codemirror_mode": {
    "name": "ipython",
    "version": 3
   },
   "file_extension": ".py",
   "mimetype": "text/x-python",
   "name": "python",
   "nbconvert_exporter": "python",
   "pygments_lexer": "ipython3",
   "version": "3.6.15"
  },
  "papermill": {
   "default_parameters": {},
   "duration": 23.748822,
   "end_time": "2021-12-06T02:02:33.651030",
   "environment_variables": {},
   "exception": null,
   "input_path": "App-Correlation_charts.ipynb",
   "output_path": "App-Correlation_charts.ipynb",
   "parameters": {},
   "start_time": "2021-12-06T02:02:09.902208",
   "version": "2.2.2"
  }
 },
 "nbformat": 4,
 "nbformat_minor": 5
}