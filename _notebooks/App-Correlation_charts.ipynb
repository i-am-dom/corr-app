{
 "cells": [
  {
   "cell_type": "markdown",
   "id": "touched-facility",
   "metadata": {
    "papermill": {
     "duration": 0.015153,
     "end_time": "2021-08-11T01:55:06.051850",
     "exception": false,
     "start_time": "2021-08-11T01:55:06.036697",
     "status": "completed"
    },
    "tags": []
   },
   "source": [
    "# Koreliacijų matrica\n",
    "> Išplėstinė koreliacijų matrica. \n",
    "\n",
    "- toc: true \n",
    "- badges: true\n",
    "- comments: false\n",
    "- categories: [Dominykas Tautkus]\n",
    "- image: images/matrix.png"
   ]
  },
  {
   "cell_type": "code",
   "execution_count": null,
   "id": "premium-weekend",
   "metadata": {
    "papermill": {
     "duration": 0.010566,
     "end_time": "2021-08-11T01:55:06.073798",
     "exception": false,
     "start_time": "2021-08-11T01:55:06.063232",
     "status": "completed"
    },
    "tags": []
   },
   "outputs": [],
   "source": []
  },
  {
   "cell_type": "code",
   "execution_count": 1,
   "id": "vertical-rebate",
   "metadata": {
    "execution": {
     "iopub.execute_input": "2021-08-11T01:55:06.107297Z",
     "iopub.status.busy": "2021-08-11T01:55:06.106740Z",
     "iopub.status.idle": "2021-08-11T01:55:06.116543Z",
     "shell.execute_reply": "2021-08-11T01:55:06.116935Z"
    },
    "papermill": {
     "duration": 0.032609,
     "end_time": "2021-08-11T01:55:06.117090",
     "exception": false,
     "start_time": "2021-08-11T01:55:06.084481",
     "status": "completed"
    },
    "tags": []
   },
   "outputs": [],
   "source": [
    "#hide\n",
    "%load_ext autoreload\n",
    "%autoreload 2"
   ]
  },
  {
   "cell_type": "code",
   "execution_count": 2,
   "id": "overall-advancement",
   "metadata": {
    "execution": {
     "iopub.execute_input": "2021-08-11T01:55:06.156084Z",
     "iopub.status.busy": "2021-08-11T01:55:06.151166Z",
     "iopub.status.idle": "2021-08-11T01:55:07.407901Z",
     "shell.execute_reply": "2021-08-11T01:55:07.407372Z"
    },
    "papermill": {
     "duration": 1.280064,
     "end_time": "2021-08-11T01:55:07.408044",
     "exception": false,
     "start_time": "2021-08-11T01:55:06.127980",
     "status": "completed"
    },
    "tags": []
   },
   "outputs": [],
   "source": [
    "#hide\n",
    "from scripts.read_data import read_api\n",
    "from IPython.display import HTML\n",
    "import plotly.graph_objects as go\n"
   ]
  },
  {
   "cell_type": "code",
   "execution_count": 3,
   "id": "light-crazy",
   "metadata": {
    "execution": {
     "iopub.execute_input": "2021-08-11T01:55:07.439621Z",
     "iopub.status.busy": "2021-08-11T01:55:07.439074Z",
     "iopub.status.idle": "2021-08-11T01:55:07.459246Z",
     "shell.execute_reply": "2021-08-11T01:55:07.458764Z"
    },
    "papermill": {
     "duration": 0.039231,
     "end_time": "2021-08-11T01:55:07.459379",
     "exception": false,
     "start_time": "2021-08-11T01:55:07.420148",
     "status": "completed"
    },
    "tags": []
   },
   "outputs": [],
   "source": [
    "#hide\n",
    "### ICO koreliacija"
   ]
  },
  {
   "cell_type": "code",
   "execution_count": 4,
   "id": "likely-bahrain",
   "metadata": {
    "execution": {
     "iopub.execute_input": "2021-08-11T01:55:07.485534Z",
     "iopub.status.busy": "2021-08-11T01:55:07.485036Z",
     "iopub.status.idle": "2021-08-11T01:55:08.320797Z",
     "shell.execute_reply": "2021-08-11T01:55:08.320274Z"
    },
    "papermill": {
     "duration": 0.849913,
     "end_time": "2021-08-11T01:55:08.320939",
     "exception": false,
     "start_time": "2021-08-11T01:55:07.471026",
     "status": "completed"
    },
    "tags": []
   },
   "outputs": [],
   "source": [
    "#hide\n",
    "import matplotlib.pyplot as plt\n",
    "import numpy as np\n",
    "import pandas as pd\n",
    "import seaborn as sns\n",
    "import matplotlib.pyplot as plt \n",
    "import matplotlib.dates as mdates\n",
    "import matplotlib.pyplot as plt"
   ]
  },
  {
   "cell_type": "code",
   "execution_count": 5,
   "id": "superior-blanket",
   "metadata": {
    "execution": {
     "iopub.execute_input": "2021-08-11T01:55:08.353898Z",
     "iopub.status.busy": "2021-08-11T01:55:08.353364Z",
     "iopub.status.idle": "2021-08-11T01:55:19.393180Z",
     "shell.execute_reply": "2021-08-11T01:55:19.393603Z"
    },
    "papermill": {
     "duration": 11.060544,
     "end_time": "2021-08-11T01:55:19.393753",
     "exception": false,
     "start_time": "2021-08-11T01:55:08.333209",
     "status": "completed"
    },
    "tags": []
   },
   "outputs": [
    {
     "name": "stderr",
     "output_type": "stream",
     "text": [
      "/home/runner/work/corr-app/corr-app/_notebooks/scripts/read_data.py:187: SettingWithCopyWarning:\n",
      "\n",
      "\n",
      "A value is trying to be set on a copy of a slice from a DataFrame.\n",
      "Try using .loc[row_indexer,col_indexer] = value instead\n",
      "\n",
      "See the caveats in the documentation: https://pandas.pydata.org/pandas-docs/stable/user_guide/indexing.html#returning-a-view-versus-a-copy\n",
      "\n"
     ]
    },
    {
     "name": "stderr",
     "output_type": "stream",
     "text": [
      "/home/runner/work/corr-app/corr-app/_notebooks/scripts/read_data.py:215: SettingWithCopyWarning:\n",
      "\n",
      "\n",
      "A value is trying to be set on a copy of a slice from a DataFrame.\n",
      "Try using .loc[row_indexer,col_indexer] = value instead\n",
      "\n",
      "See the caveats in the documentation: https://pandas.pydata.org/pandas-docs/stable/user_guide/indexing.html#returning-a-view-versus-a-copy\n",
      "\n"
     ]
    }
   ],
   "source": [
    "#hide\n",
    "df_all = read_api()\n",
    "#df_all = df_all.drop(['SP500', 'XAU', 'ETH', 'BTC'], axis=1)\n",
    "\n"
   ]
  },
  {
   "cell_type": "code",
   "execution_count": 6,
   "id": "mature-alert",
   "metadata": {
    "execution": {
     "iopub.execute_input": "2021-08-11T01:55:19.490721Z",
     "iopub.status.busy": "2021-08-11T01:55:19.490074Z",
     "iopub.status.idle": "2021-08-11T01:55:19.520591Z",
     "shell.execute_reply": "2021-08-11T01:55:19.520045Z"
    },
    "papermill": {
     "duration": 0.089494,
     "end_time": "2021-08-11T01:55:19.520728",
     "exception": false,
     "start_time": "2021-08-11T01:55:19.431234",
     "status": "completed"
    },
    "tags": []
   },
   "outputs": [],
   "source": [
    "#hide_input\n",
    "sum_corr = df_all.corr().sum().sort_values(ascending=True).index.values\n",
    "#df_all[sum_corr].corr()"
   ]
  },
  {
   "cell_type": "markdown",
   "id": "complex-syndicate",
   "metadata": {
    "papermill": {
     "duration": 0.011329,
     "end_time": "2021-08-11T01:55:19.544719",
     "exception": false,
     "start_time": "2021-08-11T01:55:19.533390",
     "status": "completed"
    },
    "tags": []
   },
   "source": [
    "## Išplėstinė koreliacijų matrica. "
   ]
  },
  {
   "cell_type": "code",
   "execution_count": 7,
   "id": "atomic-omaha",
   "metadata": {
    "execution": {
     "iopub.execute_input": "2021-08-11T01:55:19.575205Z",
     "iopub.status.busy": "2021-08-11T01:55:19.574690Z",
     "iopub.status.idle": "2021-08-11T01:55:20.745810Z",
     "shell.execute_reply": "2021-08-11T01:55:20.746215Z"
    },
    "papermill": {
     "duration": 1.190506,
     "end_time": "2021-08-11T01:55:20.746363",
     "exception": false,
     "start_time": "2021-08-11T01:55:19.555857",
     "status": "completed"
    },
    "tags": []
   },
   "outputs": [
    {
     "data": {
      "image/png": "[encoded data removed]",
      "text/plain": [
       "<Figure size 1080x792 with 2 Axes>"
      ]
     },
     "metadata": {
      "needs_background": "light"
     },
     "output_type": "display_data"
    }
   ],
   "source": [
    "#hide_input\n",
    "plt.figure(figsize=(15, 11))\n",
    "sns.heatmap(df_all[sum_corr].corr(), annot=True, cmap=\"cubehelix\") \n",
    "sns.set(font_scale=1.25)\n",
    "plt.savefig('corr_matrix.png', format='eps')"
   ]
  },
  {
   "cell_type": "code",
   "execution_count": 8,
   "id": "arbitrary-sullivan",
   "metadata": {
    "execution": {
     "iopub.execute_input": "2021-08-11T01:55:20.776778Z",
     "iopub.status.busy": "2021-08-11T01:55:20.776268Z",
     "iopub.status.idle": "2021-08-11T01:55:20.803323Z",
     "shell.execute_reply": "2021-08-11T01:55:20.802822Z"
    },
    "papermill": {
     "duration": 0.043554,
     "end_time": "2021-08-11T01:55:20.803453",
     "exception": false,
     "start_time": "2021-08-11T01:55:20.759899",
     "status": "completed"
    },
    "tags": []
   },
   "outputs": [],
   "source": [
    "#hide\n",
    "#df_all_mrk = read_api()"
   ]
  },
  {
   "cell_type": "code",
   "execution_count": 9,
   "id": "delayed-adapter",
   "metadata": {
    "execution": {
     "iopub.execute_input": "2021-08-11T01:55:20.848042Z",
     "iopub.status.busy": "2021-08-11T01:55:20.847135Z",
     "iopub.status.idle": "2021-08-11T01:55:20.864694Z",
     "shell.execute_reply": "2021-08-11T01:55:20.865075Z"
    },
    "papermill": {
     "duration": 0.048127,
     "end_time": "2021-08-11T01:55:20.865220",
     "exception": false,
     "start_time": "2021-08-11T01:55:20.817093",
     "status": "completed"
    },
    "tags": []
   },
   "outputs": [],
   "source": [
    "#hide\n",
    "#Koreliacijų koeficientai"
   ]
  },
  {
   "cell_type": "code",
   "execution_count": 10,
   "id": "seeing-celebration",
   "metadata": {
    "execution": {
     "iopub.execute_input": "2021-08-11T01:55:20.895588Z",
     "iopub.status.busy": "2021-08-11T01:55:20.895080Z",
     "iopub.status.idle": "2021-08-11T01:55:20.921893Z",
     "shell.execute_reply": "2021-08-11T01:55:20.920930Z"
    },
    "papermill": {
     "duration": 0.043345,
     "end_time": "2021-08-11T01:55:20.922019",
     "exception": false,
     "start_time": "2021-08-11T01:55:20.878674",
     "status": "completed"
    },
    "tags": []
   },
   "outputs": [],
   "source": [
    "#hide_input\n",
    "#sum_corr = df_all_mrk.corr().sum().sort_values(ascending=True).index.values\n",
    "#df_all_mrk[sum_corr].corr()"
   ]
  },
  {
   "cell_type": "code",
   "execution_count": 11,
   "id": "other-painting",
   "metadata": {
    "execution": {
     "iopub.execute_input": "2021-08-11T01:55:20.955314Z",
     "iopub.status.busy": "2021-08-11T01:55:20.951649Z",
     "iopub.status.idle": "2021-08-11T01:55:20.977511Z",
     "shell.execute_reply": "2021-08-11T01:55:20.976991Z"
    },
    "papermill": {
     "duration": 0.042302,
     "end_time": "2021-08-11T01:55:20.977632",
     "exception": false,
     "start_time": "2021-08-11T01:55:20.935330",
     "status": "completed"
    },
    "tags": []
   },
   "outputs": [],
   "source": [
    "#hide\n",
    "#Koreliacijos matrica. "
   ]
  },
  {
   "cell_type": "code",
   "execution_count": 12,
   "id": "modular-magnitude",
   "metadata": {
    "execution": {
     "iopub.execute_input": "2021-08-11T01:55:21.009351Z",
     "iopub.status.busy": "2021-08-11T01:55:21.008804Z",
     "iopub.status.idle": "2021-08-11T01:55:21.033814Z",
     "shell.execute_reply": "2021-08-11T01:55:21.033307Z"
    },
    "papermill": {
     "duration": 0.042662,
     "end_time": "2021-08-11T01:55:21.033940",
     "exception": false,
     "start_time": "2021-08-11T01:55:20.991278",
     "status": "completed"
    },
    "tags": []
   },
   "outputs": [],
   "source": [
    "#hide_input\n",
    "#plt.figure(figsize=(15, 8))\n",
    "#sns.heatmap(df_all_mrk[sum_corr].corr(), annot=True, cmap=\"BrBG\");\n",
    "#plt.savefig('corr_matrix_all.eps', format='eps')"
   ]
  },
  {
   "cell_type": "code",
   "execution_count": null,
   "id": "original-senator",
   "metadata": {
    "papermill": {
     "duration": 0.013032,
     "end_time": "2021-08-11T01:55:21.060726",
     "exception": false,
     "start_time": "2021-08-11T01:55:21.047694",
     "status": "completed"
    },
    "tags": []
   },
   "outputs": [],
   "source": []
  },
  {
   "cell_type": "code",
   "execution_count": null,
   "id": "saving-secretariat",
   "metadata": {
    "papermill": {
     "duration": 0.012933,
     "end_time": "2021-08-11T01:55:21.086694",
     "exception": false,
     "start_time": "2021-08-11T01:55:21.073761",
     "status": "completed"
    },
    "tags": []
   },
   "outputs": [],
   "source": []
  }
 ],
 "metadata": {
  "kernelspec": {
   "display_name": "Python 3",
   "language": "python",
   "name": "python3"
  },
  "language_info": {
   "codemirror_mode": {
    "name": "ipython",
    "version": 3
   },
   "file_extension": ".py",
   "mimetype": "text/x-python",
   "name": "python",
   "nbconvert_exporter": "python",
   "pygments_lexer": "ipython3",
   "version": "3.6.14"
  },
  "papermill": {
   "default_parameters": {},
   "duration": 16.718469,
   "end_time": "2021-08-11T01:55:21.708808",
   "environment_variables": {},
   "exception": null,
   "input_path": "App-Correlation_charts.ipynb",
   "output_path": "App-Correlation_charts.ipynb",
   "parameters": {},
   "start_time": "2021-08-11T01:55:04.990339",
   "version": "2.2.2"
  }
 },
 "nbformat": 4,
 "nbformat_minor": 5
}