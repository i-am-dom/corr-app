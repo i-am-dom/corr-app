{
 "cells": [
  {
   "cell_type": "markdown",
   "id": "touched-facility",
   "metadata": {
    "papermill": {
     "duration": 0.019191,
     "end_time": "2021-07-30T02:04:34.377649",
     "exception": false,
     "start_time": "2021-07-30T02:04:34.358458",
     "status": "completed"
    },
    "tags": []
   },
   "source": [
    "# Koreliacijų matrica\n",
    "> Išplėstinė koreliacijų matrica. \n",
    "\n",
    "- toc: true \n",
    "- badges: true\n",
    "- comments: false\n",
    "- categories: [Dominykas Tautkus]\n",
    "- image: images/matrix.png"
   ]
  },
  {
   "cell_type": "code",
   "execution_count": null,
   "id": "premium-weekend",
   "metadata": {
    "papermill": {
     "duration": 0.014501,
     "end_time": "2021-07-30T02:04:34.406642",
     "exception": false,
     "start_time": "2021-07-30T02:04:34.392141",
     "status": "completed"
    },
    "tags": []
   },
   "outputs": [],
   "source": []
  },
  {
   "cell_type": "code",
   "execution_count": 1,
   "id": "vertical-rebate",
   "metadata": {
    "execution": {
     "iopub.execute_input": "2021-07-30T02:04:34.444088Z",
     "iopub.status.busy": "2021-07-30T02:04:34.443450Z",
     "iopub.status.idle": "2021-07-30T02:04:34.453910Z",
     "shell.execute_reply": "2021-07-30T02:04:34.454392Z"
    },
    "papermill": {
     "duration": 0.034962,
     "end_time": "2021-07-30T02:04:34.454555",
     "exception": false,
     "start_time": "2021-07-30T02:04:34.419593",
     "status": "completed"
    },
    "tags": []
   },
   "outputs": [],
   "source": [
    "#hide\n",
    "%load_ext autoreload\n",
    "%autoreload 2"
   ]
  },
  {
   "cell_type": "code",
   "execution_count": 2,
   "id": "overall-advancement",
   "metadata": {
    "execution": {
     "iopub.execute_input": "2021-07-30T02:04:34.484544Z",
     "iopub.status.busy": "2021-07-30T02:04:34.483955Z",
     "iopub.status.idle": "2021-07-30T02:04:35.747327Z",
     "shell.execute_reply": "2021-07-30T02:04:35.747794Z"
    },
    "papermill": {
     "duration": 1.279896,
     "end_time": "2021-07-30T02:04:35.747958",
     "exception": false,
     "start_time": "2021-07-30T02:04:34.468062",
     "status": "completed"
    },
    "tags": []
   },
   "outputs": [],
   "source": [
    "#hide\n",
    "from scripts.read_data import read_api\n",
    "from IPython.display import HTML\n",
    "import plotly.graph_objects as go\n"
   ]
  },
  {
   "cell_type": "code",
   "execution_count": 3,
   "id": "light-crazy",
   "metadata": {
    "execution": {
     "iopub.execute_input": "2021-07-30T02:04:35.782719Z",
     "iopub.status.busy": "2021-07-30T02:04:35.780711Z",
     "iopub.status.idle": "2021-07-30T02:04:35.800336Z",
     "shell.execute_reply": "2021-07-30T02:04:35.799515Z"
    },
    "papermill": {
     "duration": 0.039883,
     "end_time": "2021-07-30T02:04:35.800460",
     "exception": false,
     "start_time": "2021-07-30T02:04:35.760577",
     "status": "completed"
    },
    "tags": []
   },
   "outputs": [],
   "source": [
    "#hide\n",
    "### ICO koreliacija"
   ]
  },
  {
   "cell_type": "code",
   "execution_count": 4,
   "id": "likely-bahrain",
   "metadata": {
    "execution": {
     "iopub.execute_input": "2021-07-30T02:04:35.881126Z",
     "iopub.status.busy": "2021-07-30T02:04:35.879882Z",
     "iopub.status.idle": "2021-07-30T02:04:36.781997Z",
     "shell.execute_reply": "2021-07-30T02:04:36.781500Z"
    },
    "papermill": {
     "duration": 0.969449,
     "end_time": "2021-07-30T02:04:36.782131",
     "exception": false,
     "start_time": "2021-07-30T02:04:35.812682",
     "status": "completed"
    },
    "tags": []
   },
   "outputs": [],
   "source": [
    "#hide\n",
    "import matplotlib.pyplot as plt\n",
    "import numpy as np\n",
    "import pandas as pd\n",
    "import seaborn as sns\n",
    "import matplotlib.pyplot as plt \n",
    "import matplotlib.dates as mdates\n",
    "import matplotlib.pyplot as plt"
   ]
  },
  {
   "cell_type": "code",
   "execution_count": 5,
   "id": "superior-blanket",
   "metadata": {
    "execution": {
     "iopub.execute_input": "2021-07-30T02:04:36.812855Z",
     "iopub.status.busy": "2021-07-30T02:04:36.810990Z",
     "iopub.status.idle": "2021-07-30T02:04:49.833629Z",
     "shell.execute_reply": "2021-07-30T02:04:49.833106Z"
    },
    "papermill": {
     "duration": 13.039291,
     "end_time": "2021-07-30T02:04:49.833770",
     "exception": false,
     "start_time": "2021-07-30T02:04:36.794479",
     "status": "completed"
    },
    "tags": []
   },
   "outputs": [
    {
     "name": "stderr",
     "output_type": "stream",
     "text": [
      "/home/runner/work/corr-app/corr-app/_notebooks/scripts/read_data.py:187: SettingWithCopyWarning:\n",
      "\n",
      "\n",
      "A value is trying to be set on a copy of a slice from a DataFrame.\n",
      "Try using .loc[row_indexer,col_indexer] = value instead\n",
      "\n",
      "See the caveats in the documentation: https://pandas.pydata.org/pandas-docs/stable/user_guide/indexing.html#returning-a-view-versus-a-copy\n",
      "\n"
     ]
    },
    {
     "name": "stderr",
     "output_type": "stream",
     "text": [
      "/home/runner/work/corr-app/corr-app/_notebooks/scripts/read_data.py:215: SettingWithCopyWarning:\n",
      "\n",
      "\n",
      "A value is trying to be set on a copy of a slice from a DataFrame.\n",
      "Try using .loc[row_indexer,col_indexer] = value instead\n",
      "\n",
      "See the caveats in the documentation: https://pandas.pydata.org/pandas-docs/stable/user_guide/indexing.html#returning-a-view-versus-a-copy\n",
      "\n"
     ]
    }
   ],
   "source": [
    "#hide\n",
    "df_all = read_api()\n",
    "#df_all = df_all.drop(['SP500', 'XAU', 'ETH', 'BTC'], axis=1)\n",
    "\n"
   ]
  },
  {
   "cell_type": "code",
   "execution_count": 6,
   "id": "mature-alert",
   "metadata": {
    "execution": {
     "iopub.execute_input": "2021-07-30T02:04:49.868097Z",
     "iopub.status.busy": "2021-07-30T02:04:49.865694Z",
     "iopub.status.idle": "2021-07-30T02:04:49.895156Z",
     "shell.execute_reply": "2021-07-30T02:04:49.895602Z"
    },
    "papermill": {
     "duration": 0.047482,
     "end_time": "2021-07-30T02:04:49.895728",
     "exception": false,
     "start_time": "2021-07-30T02:04:49.848246",
     "status": "completed"
    },
    "tags": []
   },
   "outputs": [],
   "source": [
    "#hide_input\n",
    "sum_corr = df_all.corr().sum().sort_values(ascending=True).index.values\n",
    "#df_all[sum_corr].corr()"
   ]
  },
  {
   "cell_type": "markdown",
   "id": "complex-syndicate",
   "metadata": {
    "papermill": {
     "duration": 0.01341,
     "end_time": "2021-07-30T02:04:49.922041",
     "exception": false,
     "start_time": "2021-07-30T02:04:49.908631",
     "status": "completed"
    },
    "tags": []
   },
   "source": [
    "## Išplėstinė koreliacijų matrica. "
   ]
  },
  {
   "cell_type": "code",
   "execution_count": 7,
   "id": "atomic-omaha",
   "metadata": {
    "execution": {
     "iopub.execute_input": "2021-07-30T02:04:49.953631Z",
     "iopub.status.busy": "2021-07-30T02:04:49.953033Z",
     "iopub.status.idle": "2021-07-30T02:04:51.343627Z",
     "shell.execute_reply": "2021-07-30T02:04:51.344091Z"
    },
    "papermill": {
     "duration": 1.407374,
     "end_time": "2021-07-30T02:04:51.344243",
     "exception": false,
     "start_time": "2021-07-30T02:04:49.936869",
     "status": "completed"
    },
    "tags": []
   },
   "outputs": [
    {
     "data": {
      "image/png": "[encoded data removed]",
      "text/plain": [
       "<Figure size 1080x792 with 2 Axes>"
      ]
     },
     "metadata": {
      "needs_background": "light"
     },
     "output_type": "display_data"
    }
   ],
   "source": [
    "#hide_input\n",
    "plt.figure(figsize=(15, 11))\n",
    "sns.heatmap(df_all[sum_corr].corr(), annot=True, cmap=\"cubehelix\") \n",
    "sns.set(font_scale=1.25)\n",
    "plt.savefig('corr_matrix.png', format='eps')"
   ]
  },
  {
   "cell_type": "code",
   "execution_count": 8,
   "id": "arbitrary-sullivan",
   "metadata": {
    "execution": {
     "iopub.execute_input": "2021-07-30T02:04:51.379948Z",
     "iopub.status.busy": "2021-07-30T02:04:51.377345Z",
     "iopub.status.idle": "2021-07-30T02:04:51.403790Z",
     "shell.execute_reply": "2021-07-30T02:04:51.403176Z"
    },
    "papermill": {
     "duration": 0.04513,
     "end_time": "2021-07-30T02:04:51.403922",
     "exception": false,
     "start_time": "2021-07-30T02:04:51.358792",
     "status": "completed"
    },
    "tags": []
   },
   "outputs": [],
   "source": [
    "#hide\n",
    "#df_all_mrk = read_api()"
   ]
  },
  {
   "cell_type": "code",
   "execution_count": 9,
   "id": "delayed-adapter",
   "metadata": {
    "execution": {
     "iopub.execute_input": "2021-07-30T02:04:51.437166Z",
     "iopub.status.busy": "2021-07-30T02:04:51.436605Z",
     "iopub.status.idle": "2021-07-30T02:04:51.458211Z",
     "shell.execute_reply": "2021-07-30T02:04:51.458641Z"
    },
    "papermill": {
     "duration": 0.039383,
     "end_time": "2021-07-30T02:04:51.458760",
     "exception": false,
     "start_time": "2021-07-30T02:04:51.419377",
     "status": "completed"
    },
    "tags": []
   },
   "outputs": [],
   "source": [
    "#hide\n",
    "#Koreliacijų koeficientai"
   ]
  },
  {
   "cell_type": "code",
   "execution_count": 10,
   "id": "seeing-celebration",
   "metadata": {
    "execution": {
     "iopub.execute_input": "2021-07-30T02:04:51.491735Z",
     "iopub.status.busy": "2021-07-30T02:04:51.491179Z",
     "iopub.status.idle": "2021-07-30T02:04:51.512433Z",
     "shell.execute_reply": "2021-07-30T02:04:51.512895Z"
    },
    "papermill": {
     "duration": 0.039079,
     "end_time": "2021-07-30T02:04:51.513024",
     "exception": false,
     "start_time": "2021-07-30T02:04:51.473945",
     "status": "completed"
    },
    "tags": []
   },
   "outputs": [],
   "source": [
    "#hide_input\n",
    "#sum_corr = df_all_mrk.corr().sum().sort_values(ascending=True).index.values\n",
    "#df_all_mrk[sum_corr].corr()"
   ]
  },
  {
   "cell_type": "code",
   "execution_count": 11,
   "id": "other-painting",
   "metadata": {
    "execution": {
     "iopub.execute_input": "2021-07-30T02:04:51.547447Z",
     "iopub.status.busy": "2021-07-30T02:04:51.546851Z",
     "iopub.status.idle": "2021-07-30T02:04:51.568496Z",
     "shell.execute_reply": "2021-07-30T02:04:51.568947Z"
    },
    "papermill": {
     "duration": 0.04036,
     "end_time": "2021-07-30T02:04:51.569088",
     "exception": false,
     "start_time": "2021-07-30T02:04:51.528728",
     "status": "completed"
    },
    "tags": []
   },
   "outputs": [],
   "source": [
    "#hide\n",
    "#Koreliacijos matrica. "
   ]
  },
  {
   "cell_type": "code",
   "execution_count": 12,
   "id": "modular-magnitude",
   "metadata": {
    "execution": {
     "iopub.execute_input": "2021-07-30T02:04:51.602602Z",
     "iopub.status.busy": "2021-07-30T02:04:51.602042Z",
     "iopub.status.idle": "2021-07-30T02:04:51.623423Z",
     "shell.execute_reply": "2021-07-30T02:04:51.623859Z"
    },
    "papermill": {
     "duration": 0.039429,
     "end_time": "2021-07-30T02:04:51.623979",
     "exception": false,
     "start_time": "2021-07-30T02:04:51.584550",
     "status": "completed"
    },
    "tags": []
   },
   "outputs": [],
   "source": [
    "#hide_input\n",
    "#plt.figure(figsize=(15, 8))\n",
    "#sns.heatmap(df_all_mrk[sum_corr].corr(), annot=True, cmap=\"BrBG\");\n",
    "#plt.savefig('corr_matrix_all.eps', format='eps')"
   ]
  },
  {
   "cell_type": "code",
   "execution_count": null,
   "id": "original-senator",
   "metadata": {
    "papermill": {
     "duration": 0.014168,
     "end_time": "2021-07-30T02:04:51.652931",
     "exception": false,
     "start_time": "2021-07-30T02:04:51.638763",
     "status": "completed"
    },
    "tags": []
   },
   "outputs": [],
   "source": []
  },
  {
   "cell_type": "code",
   "execution_count": null,
   "id": "saving-secretariat",
   "metadata": {
    "papermill": {
     "duration": 0.014805,
     "end_time": "2021-07-30T02:04:51.681957",
     "exception": false,
     "start_time": "2021-07-30T02:04:51.667152",
     "status": "completed"
    },
    "tags": []
   },
   "outputs": [],
   "source": []
  }
 ],
 "metadata": {
  "kernelspec": {
   "display_name": "Python 3",
   "language": "python",
   "name": "python3"
  },
  "language_info": {
   "codemirror_mode": {
    "name": "ipython",
    "version": 3
   },
   "file_extension": ".py",
   "mimetype": "text/x-python",
   "name": "python",
   "nbconvert_exporter": "python",
   "pygments_lexer": "ipython3",
   "version": "3.6.14"
  },
  "papermill": {
   "default_parameters": {},
   "duration": 18.903417,
   "end_time": "2021-07-30T02:04:52.205546",
   "environment_variables": {},
   "exception": null,
   "input_path": "App-Correlation_charts.ipynb",
   "output_path": "App-Correlation_charts.ipynb",
   "parameters": {},
   "start_time": "2021-07-30T02:04:33.302129",
   "version": "2.2.2"
  }
 },
 "nbformat": 4,
 "nbformat_minor": 5
}