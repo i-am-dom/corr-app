{
 "cells": [
  {
   "cell_type": "markdown",
   "id": "touched-facility",
   "metadata": {
    "papermill": {
     "duration": 0.014452,
     "end_time": "2022-09-14T03:40:58.528501",
     "exception": false,
     "start_time": "2022-09-14T03:40:58.514049",
     "status": "completed"
    },
    "tags": []
   },
   "source": [
    "# Koreliacijų matrica\n",
    "> Išplėstinė koreliacijų matrica. \n",
    "\n",
    "- toc: true \n",
    "- badges: true\n",
    "- comments: false\n",
    "- categories: [Dominykas Tautkus]\n",
    "- image: images/matrix.png"
   ]
  },
  {
   "cell_type": "code",
   "execution_count": null,
   "id": "premium-weekend",
   "metadata": {
    "papermill": {
     "duration": 0.010731,
     "end_time": "2022-09-14T03:40:58.550712",
     "exception": false,
     "start_time": "2022-09-14T03:40:58.539981",
     "status": "completed"
    },
    "tags": []
   },
   "outputs": [],
   "source": []
  },
  {
   "cell_type": "code",
   "execution_count": 1,
   "id": "vertical-rebate",
   "metadata": {
    "execution": {
     "iopub.execute_input": "2022-09-14T03:40:58.582199Z",
     "iopub.status.busy": "2022-09-14T03:40:58.581629Z",
     "iopub.status.idle": "2022-09-14T03:40:58.591619Z",
     "shell.execute_reply": "2022-09-14T03:40:58.592066Z"
    },
    "papermill": {
     "duration": 0.030733,
     "end_time": "2022-09-14T03:40:58.592188",
     "exception": false,
     "start_time": "2022-09-14T03:40:58.561455",
     "status": "completed"
    },
    "tags": []
   },
   "outputs": [],
   "source": [
    "#hide\n",
    "%load_ext autoreload\n",
    "%autoreload 2"
   ]
  },
  {
   "cell_type": "code",
   "execution_count": 2,
   "id": "overall-advancement",
   "metadata": {
    "execution": {
     "iopub.execute_input": "2022-09-14T03:40:58.616741Z",
     "iopub.status.busy": "2022-09-14T03:40:58.616195Z",
     "iopub.status.idle": "2022-09-14T03:40:59.784332Z",
     "shell.execute_reply": "2022-09-14T03:40:59.783856Z"
    },
    "papermill": {
     "duration": 1.181494,
     "end_time": "2022-09-14T03:40:59.784444",
     "exception": false,
     "start_time": "2022-09-14T03:40:58.602950",
     "status": "completed"
    },
    "tags": []
   },
   "outputs": [],
   "source": [
    "#hide\n",
    "from scripts.read_data import read_api\n",
    "from IPython.display import HTML\n",
    "import plotly.graph_objects as go\n"
   ]
  },
  {
   "cell_type": "code",
   "execution_count": 3,
   "id": "light-crazy",
   "metadata": {
    "execution": {
     "iopub.execute_input": "2022-09-14T03:40:59.809893Z",
     "iopub.status.busy": "2022-09-14T03:40:59.809306Z",
     "iopub.status.idle": "2022-09-14T03:40:59.830900Z",
     "shell.execute_reply": "2022-09-14T03:40:59.830466Z"
    },
    "papermill": {
     "duration": 0.035529,
     "end_time": "2022-09-14T03:40:59.831003",
     "exception": false,
     "start_time": "2022-09-14T03:40:59.795474",
     "status": "completed"
    },
    "tags": []
   },
   "outputs": [],
   "source": [
    "#hide\n",
    "### ICO koreliacija"
   ]
  },
  {
   "cell_type": "code",
   "execution_count": 4,
   "id": "likely-bahrain",
   "metadata": {
    "execution": {
     "iopub.execute_input": "2022-09-14T03:40:59.855947Z",
     "iopub.status.busy": "2022-09-14T03:40:59.855395Z",
     "iopub.status.idle": "2022-09-14T03:41:00.652568Z",
     "shell.execute_reply": "2022-09-14T03:41:00.653007Z"
    },
    "papermill": {
     "duration": 0.811196,
     "end_time": "2022-09-14T03:41:00.653140",
     "exception": false,
     "start_time": "2022-09-14T03:40:59.841944",
     "status": "completed"
    },
    "tags": []
   },
   "outputs": [],
   "source": [
    "#hide\n",
    "import matplotlib.pyplot as plt\n",
    "import numpy as np\n",
    "import pandas as pd\n",
    "import seaborn as sns\n",
    "import matplotlib.pyplot as plt \n",
    "import matplotlib.dates as mdates\n",
    "import matplotlib.pyplot as plt"
   ]
  },
  {
   "cell_type": "code",
   "execution_count": 5,
   "id": "superior-blanket",
   "metadata": {
    "execution": {
     "iopub.execute_input": "2022-09-14T03:41:00.679041Z",
     "iopub.status.busy": "2022-09-14T03:41:00.678481Z",
     "iopub.status.idle": "2022-09-14T03:41:10.623937Z",
     "shell.execute_reply": "2022-09-14T03:41:10.622767Z"
    },
    "papermill": {
     "duration": 9.959831,
     "end_time": "2022-09-14T03:41:10.624055",
     "exception": false,
     "start_time": "2022-09-14T03:41:00.664224",
     "status": "completed"
    },
    "tags": []
   },
   "outputs": [
    {
     "name": "stderr",
     "output_type": "stream",
     "text": [
      "/home/runner/work/corr-app/corr-app/_notebooks/scripts/read_data.py:187: SettingWithCopyWarning:\n",
      "\n",
      "\n",
      "A value is trying to be set on a copy of a slice from a DataFrame.\n",
      "Try using .loc[row_indexer,col_indexer] = value instead\n",
      "\n",
      "See the caveats in the documentation: https://pandas.pydata.org/pandas-docs/stable/user_guide/indexing.html#returning-a-view-versus-a-copy\n",
      "\n"
     ]
    },
    {
     "name": "stderr",
     "output_type": "stream",
     "text": [
      "/home/runner/work/corr-app/corr-app/_notebooks/scripts/read_data.py:215: SettingWithCopyWarning:\n",
      "\n",
      "\n",
      "A value is trying to be set on a copy of a slice from a DataFrame.\n",
      "Try using .loc[row_indexer,col_indexer] = value instead\n",
      "\n",
      "See the caveats in the documentation: https://pandas.pydata.org/pandas-docs/stable/user_guide/indexing.html#returning-a-view-versus-a-copy\n",
      "\n"
     ]
    }
   ],
   "source": [
    "#hide\n",
    "df_all = read_api()\n",
    "#df_all = df_all.drop(['SP500', 'XAU', 'ETH', 'BTC'], axis=1)\n",
    "\n"
   ]
  },
  {
   "cell_type": "code",
   "execution_count": 6,
   "id": "mature-alert",
   "metadata": {
    "execution": {
     "iopub.execute_input": "2022-09-14T03:41:10.655821Z",
     "iopub.status.busy": "2022-09-14T03:41:10.651396Z",
     "iopub.status.idle": "2022-09-14T03:41:10.680536Z",
     "shell.execute_reply": "2022-09-14T03:41:10.680953Z"
    },
    "papermill": {
     "duration": 0.044253,
     "end_time": "2022-09-14T03:41:10.681071",
     "exception": false,
     "start_time": "2022-09-14T03:41:10.636818",
     "status": "completed"
    },
    "tags": []
   },
   "outputs": [],
   "source": [
    "#hide_input\n",
    "sum_corr = df_all.corr().sum().sort_values(ascending=True).index.values\n",
    "#df_all[sum_corr].corr()"
   ]
  },
  {
   "cell_type": "markdown",
   "id": "complex-syndicate",
   "metadata": {
    "papermill": {
     "duration": 0.011291,
     "end_time": "2022-09-14T03:41:10.703758",
     "exception": false,
     "start_time": "2022-09-14T03:41:10.692467",
     "status": "completed"
    },
    "tags": []
   },
   "source": [
    "## Išplėstinė koreliacijų matrica. "
   ]
  },
  {
   "cell_type": "code",
   "execution_count": 7,
   "id": "atomic-omaha",
   "metadata": {
    "execution": {
     "iopub.execute_input": "2022-09-14T03:41:10.729979Z",
     "iopub.status.busy": "2022-09-14T03:41:10.729389Z",
     "iopub.status.idle": "2022-09-14T03:41:11.841752Z",
     "shell.execute_reply": "2022-09-14T03:41:11.841285Z"
    },
    "papermill": {
     "duration": 1.12676,
     "end_time": "2022-09-14T03:41:11.841857",
     "exception": false,
     "start_time": "2022-09-14T03:41:10.715097",
     "status": "completed"
    },
    "tags": []
   },
   "outputs": [
    {
     "data": {
      "image/png": "[encoded data removed]",
      "text/plain": [
       "<Figure size 1080x792 with 2 Axes>"
      ]
     },
     "metadata": {
      "needs_background": "light"
     },
     "output_type": "display_data"
    }
   ],
   "source": [
    "#hide_input\n",
    "plt.figure(figsize=(15, 11))\n",
    "sns.heatmap(df_all[sum_corr].corr(), annot=True, cmap=\"cubehelix\") \n",
    "sns.set(font_scale=1.25)\n",
    "plt.savefig('corr_matrix.png', format='eps')"
   ]
  },
  {
   "cell_type": "code",
   "execution_count": 8,
   "id": "arbitrary-sullivan",
   "metadata": {
    "execution": {
     "iopub.execute_input": "2022-09-14T03:41:11.874420Z",
     "iopub.status.busy": "2022-09-14T03:41:11.872990Z",
     "iopub.status.idle": "2022-09-14T03:41:11.903428Z",
     "shell.execute_reply": "2022-09-14T03:41:11.902447Z"
    },
    "papermill": {
     "duration": 0.04801,
     "end_time": "2022-09-14T03:41:11.903531",
     "exception": false,
     "start_time": "2022-09-14T03:41:11.855521",
     "status": "completed"
    },
    "tags": []
   },
   "outputs": [],
   "source": [
    "#hide\n",
    "#df_all_mrk = read_api()"
   ]
  },
  {
   "cell_type": "code",
   "execution_count": 9,
   "id": "delayed-adapter",
   "metadata": {
    "execution": {
     "iopub.execute_input": "2022-09-14T03:41:11.935579Z",
     "iopub.status.busy": "2022-09-14T03:41:11.934222Z",
     "iopub.status.idle": "2022-09-14T03:41:11.958972Z",
     "shell.execute_reply": "2022-09-14T03:41:11.958415Z"
    },
    "papermill": {
     "duration": 0.042222,
     "end_time": "2022-09-14T03:41:11.959068",
     "exception": false,
     "start_time": "2022-09-14T03:41:11.916846",
     "status": "completed"
    },
    "tags": []
   },
   "outputs": [],
   "source": [
    "#hide\n",
    "#Koreliacijų koeficientai"
   ]
  },
  {
   "cell_type": "code",
   "execution_count": 10,
   "id": "seeing-celebration",
   "metadata": {
    "execution": {
     "iopub.execute_input": "2022-09-14T03:41:11.990366Z",
     "iopub.status.busy": "2022-09-14T03:41:11.989785Z",
     "iopub.status.idle": "2022-09-14T03:41:12.012981Z",
     "shell.execute_reply": "2022-09-14T03:41:12.013390Z"
    },
    "papermill": {
     "duration": 0.040995,
     "end_time": "2022-09-14T03:41:12.013500",
     "exception": false,
     "start_time": "2022-09-14T03:41:11.972505",
     "status": "completed"
    },
    "tags": []
   },
   "outputs": [],
   "source": [
    "#hide_input\n",
    "#sum_corr = df_all_mrk.corr().sum().sort_values(ascending=True).index.values\n",
    "#df_all_mrk[sum_corr].corr()"
   ]
  },
  {
   "cell_type": "code",
   "execution_count": 11,
   "id": "other-painting",
   "metadata": {
    "execution": {
     "iopub.execute_input": "2022-09-14T03:41:12.043359Z",
     "iopub.status.busy": "2022-09-14T03:41:12.042814Z",
     "iopub.status.idle": "2022-09-14T03:41:12.065797Z",
     "shell.execute_reply": "2022-09-14T03:41:12.066202Z"
    },
    "papermill": {
     "duration": 0.038962,
     "end_time": "2022-09-14T03:41:12.066311",
     "exception": false,
     "start_time": "2022-09-14T03:41:12.027349",
     "status": "completed"
    },
    "tags": []
   },
   "outputs": [],
   "source": [
    "#hide\n",
    "#Koreliacijos matrica. "
   ]
  },
  {
   "cell_type": "code",
   "execution_count": 12,
   "id": "modular-magnitude",
   "metadata": {
    "execution": {
     "iopub.execute_input": "2022-09-14T03:41:12.095710Z",
     "iopub.status.busy": "2022-09-14T03:41:12.095172Z",
     "iopub.status.idle": "2022-09-14T03:41:12.118393Z",
     "shell.execute_reply": "2022-09-14T03:41:12.117946Z"
    },
    "papermill": {
     "duration": 0.038769,
     "end_time": "2022-09-14T03:41:12.118481",
     "exception": false,
     "start_time": "2022-09-14T03:41:12.079712",
     "status": "completed"
    },
    "tags": []
   },
   "outputs": [],
   "source": [
    "#hide_input\n",
    "#plt.figure(figsize=(15, 8))\n",
    "#sns.heatmap(df_all_mrk[sum_corr].corr(), annot=True, cmap=\"BrBG\");\n",
    "#plt.savefig('corr_matrix_all.eps', format='eps')"
   ]
  },
  {
   "cell_type": "code",
   "execution_count": null,
   "id": "original-senator",
   "metadata": {
    "papermill": {
     "duration": 0.013179,
     "end_time": "2022-09-14T03:41:12.144898",
     "exception": false,
     "start_time": "2022-09-14T03:41:12.131719",
     "status": "completed"
    },
    "tags": []
   },
   "outputs": [],
   "source": []
  },
  {
   "cell_type": "code",
   "execution_count": null,
   "id": "saving-secretariat",
   "metadata": {
    "papermill": {
     "duration": 0.01315,
     "end_time": "2022-09-14T03:41:12.171262",
     "exception": false,
     "start_time": "2022-09-14T03:41:12.158112",
     "status": "completed"
    },
    "tags": []
   },
   "outputs": [],
   "source": []
  }
 ],
 "metadata": {
  "kernelspec": {
   "display_name": "Python 3",
   "language": "python",
   "name": "python3"
  },
  "language_info": {
   "codemirror_mode": {
    "name": "ipython",
    "version": 3
   },
   "file_extension": ".py",
   "mimetype": "text/x-python",
   "name": "python",
   "nbconvert_exporter": "python",
   "pygments_lexer": "ipython3",
   "version": "3.6.15"
  },
  "papermill": {
   "default_parameters": {},
   "duration": 14.989425,
   "end_time": "2022-09-14T03:41:12.601424",
   "environment_variables": {},
   "exception": null,
   "input_path": "App-Correlation_charts.ipynb",
   "output_path": "App-Correlation_charts.ipynb",
   "parameters": {},
   "start_time": "2022-09-14T03:40:57.611999",
   "version": "2.2.2"
  }
 },
 "nbformat": 4,
 "nbformat_minor": 5
}