{
 "cells": [
  {
   "cell_type": "markdown",
   "id": "touched-facility",
   "metadata": {
    "papermill": {
     "duration": 0.015341,
     "end_time": "2022-09-06T03:48:20.913778",
     "exception": false,
     "start_time": "2022-09-06T03:48:20.898437",
     "status": "completed"
    },
    "tags": []
   },
   "source": [
    "# Koreliacijų matrica\n",
    "> Išplėstinė koreliacijų matrica. \n",
    "\n",
    "- toc: true \n",
    "- badges: true\n",
    "- comments: false\n",
    "- categories: [Dominykas Tautkus]\n",
    "- image: images/matrix.png"
   ]
  },
  {
   "cell_type": "code",
   "execution_count": null,
   "id": "premium-weekend",
   "metadata": {
    "papermill": {
     "duration": 0.010733,
     "end_time": "2022-09-06T03:48:20.935876",
     "exception": false,
     "start_time": "2022-09-06T03:48:20.925143",
     "status": "completed"
    },
    "tags": []
   },
   "outputs": [],
   "source": []
  },
  {
   "cell_type": "code",
   "execution_count": 1,
   "id": "vertical-rebate",
   "metadata": {
    "execution": {
     "iopub.execute_input": "2022-09-06T03:48:20.969140Z",
     "iopub.status.busy": "2022-09-06T03:48:20.968464Z",
     "iopub.status.idle": "2022-09-06T03:48:20.979424Z",
     "shell.execute_reply": "2022-09-06T03:48:20.978940Z"
    },
    "papermill": {
     "duration": 0.032703,
     "end_time": "2022-09-06T03:48:20.979611",
     "exception": false,
     "start_time": "2022-09-06T03:48:20.946908",
     "status": "completed"
    },
    "tags": []
   },
   "outputs": [],
   "source": [
    "#hide\n",
    "%load_ext autoreload\n",
    "%autoreload 2"
   ]
  },
  {
   "cell_type": "code",
   "execution_count": 2,
   "id": "overall-advancement",
   "metadata": {
    "execution": {
     "iopub.execute_input": "2022-09-06T03:48:21.009301Z",
     "iopub.status.busy": "2022-09-06T03:48:21.008727Z",
     "iopub.status.idle": "2022-09-06T03:48:22.556640Z",
     "shell.execute_reply": "2022-09-06T03:48:22.555645Z"
    },
    "papermill": {
     "duration": 1.566496,
     "end_time": "2022-09-06T03:48:22.556780",
     "exception": false,
     "start_time": "2022-09-06T03:48:20.990284",
     "status": "completed"
    },
    "tags": []
   },
   "outputs": [],
   "source": [
    "#hide\n",
    "from scripts.read_data import read_api\n",
    "from IPython.display import HTML\n",
    "import plotly.graph_objects as go\n"
   ]
  },
  {
   "cell_type": "code",
   "execution_count": 3,
   "id": "light-crazy",
   "metadata": {
    "execution": {
     "iopub.execute_input": "2022-09-06T03:48:22.584269Z",
     "iopub.status.busy": "2022-09-06T03:48:22.582625Z",
     "iopub.status.idle": "2022-09-06T03:48:22.605284Z",
     "shell.execute_reply": "2022-09-06T03:48:22.604635Z"
    },
    "papermill": {
     "duration": 0.037652,
     "end_time": "2022-09-06T03:48:22.605409",
     "exception": false,
     "start_time": "2022-09-06T03:48:22.567757",
     "status": "completed"
    },
    "tags": []
   },
   "outputs": [],
   "source": [
    "#hide\n",
    "### ICO koreliacija"
   ]
  },
  {
   "cell_type": "code",
   "execution_count": 4,
   "id": "likely-bahrain",
   "metadata": {
    "execution": {
     "iopub.execute_input": "2022-09-06T03:48:22.633118Z",
     "iopub.status.busy": "2022-09-06T03:48:22.632540Z",
     "iopub.status.idle": "2022-09-06T03:48:23.454832Z",
     "shell.execute_reply": "2022-09-06T03:48:23.453783Z"
    },
    "papermill": {
     "duration": 0.837303,
     "end_time": "2022-09-06T03:48:23.454970",
     "exception": false,
     "start_time": "2022-09-06T03:48:22.617667",
     "status": "completed"
    },
    "tags": []
   },
   "outputs": [],
   "source": [
    "#hide\n",
    "import matplotlib.pyplot as plt\n",
    "import numpy as np\n",
    "import pandas as pd\n",
    "import seaborn as sns\n",
    "import matplotlib.pyplot as plt \n",
    "import matplotlib.dates as mdates\n",
    "import matplotlib.pyplot as plt"
   ]
  },
  {
   "cell_type": "code",
   "execution_count": 5,
   "id": "superior-blanket",
   "metadata": {
    "execution": {
     "iopub.execute_input": "2022-09-06T03:48:23.481350Z",
     "iopub.status.busy": "2022-09-06T03:48:23.480731Z",
     "iopub.status.idle": "2022-09-06T03:48:33.692804Z",
     "shell.execute_reply": "2022-09-06T03:48:33.692250Z"
    },
    "papermill": {
     "duration": 10.226915,
     "end_time": "2022-09-06T03:48:33.692927",
     "exception": false,
     "start_time": "2022-09-06T03:48:23.466012",
     "status": "completed"
    },
    "tags": []
   },
   "outputs": [
    {
     "name": "stderr",
     "output_type": "stream",
     "text": [
      "/home/runner/work/corr-app/corr-app/_notebooks/scripts/read_data.py:187: SettingWithCopyWarning:\n",
      "\n",
      "\n",
      "A value is trying to be set on a copy of a slice from a DataFrame.\n",
      "Try using .loc[row_indexer,col_indexer] = value instead\n",
      "\n",
      "See the caveats in the documentation: https://pandas.pydata.org/pandas-docs/stable/user_guide/indexing.html#returning-a-view-versus-a-copy\n",
      "\n"
     ]
    },
    {
     "name": "stderr",
     "output_type": "stream",
     "text": [
      "/home/runner/work/corr-app/corr-app/_notebooks/scripts/read_data.py:215: SettingWithCopyWarning:\n",
      "\n",
      "\n",
      "A value is trying to be set on a copy of a slice from a DataFrame.\n",
      "Try using .loc[row_indexer,col_indexer] = value instead\n",
      "\n",
      "See the caveats in the documentation: https://pandas.pydata.org/pandas-docs/stable/user_guide/indexing.html#returning-a-view-versus-a-copy\n",
      "\n"
     ]
    }
   ],
   "source": [
    "#hide\n",
    "df_all = read_api()\n",
    "#df_all = df_all.drop(['SP500', 'XAU', 'ETH', 'BTC'], axis=1)\n",
    "\n"
   ]
  },
  {
   "cell_type": "code",
   "execution_count": 6,
   "id": "mature-alert",
   "metadata": {
    "execution": {
     "iopub.execute_input": "2022-09-06T03:48:33.732894Z",
     "iopub.status.busy": "2022-09-06T03:48:33.721095Z",
     "iopub.status.idle": "2022-09-06T03:48:33.755751Z",
     "shell.execute_reply": "2022-09-06T03:48:33.754511Z"
    },
    "papermill": {
     "duration": 0.050208,
     "end_time": "2022-09-06T03:48:33.755872",
     "exception": false,
     "start_time": "2022-09-06T03:48:33.705664",
     "status": "completed"
    },
    "tags": []
   },
   "outputs": [],
   "source": [
    "#hide_input\n",
    "sum_corr = df_all.corr().sum().sort_values(ascending=True).index.values\n",
    "#df_all[sum_corr].corr()"
   ]
  },
  {
   "cell_type": "markdown",
   "id": "complex-syndicate",
   "metadata": {
    "papermill": {
     "duration": 0.011127,
     "end_time": "2022-09-06T03:48:33.778506",
     "exception": false,
     "start_time": "2022-09-06T03:48:33.767379",
     "status": "completed"
    },
    "tags": []
   },
   "source": [
    "## Išplėstinė koreliacijų matrica. "
   ]
  },
  {
   "cell_type": "code",
   "execution_count": 7,
   "id": "atomic-omaha",
   "metadata": {
    "execution": {
     "iopub.execute_input": "2022-09-06T03:48:33.804558Z",
     "iopub.status.busy": "2022-09-06T03:48:33.803943Z",
     "iopub.status.idle": "2022-09-06T03:48:34.994352Z",
     "shell.execute_reply": "2022-09-06T03:48:34.994811Z"
    },
    "papermill": {
     "duration": 1.205313,
     "end_time": "2022-09-06T03:48:34.994950",
     "exception": false,
     "start_time": "2022-09-06T03:48:33.789637",
     "status": "completed"
    },
    "tags": []
   },
   "outputs": [
    {
     "data": {
      "image/png": "[encoded data removed]",
      "text/plain": [
       "<Figure size 1080x792 with 2 Axes>"
      ]
     },
     "metadata": {
      "needs_background": "light"
     },
     "output_type": "display_data"
    }
   ],
   "source": [
    "#hide_input\n",
    "plt.figure(figsize=(15, 11))\n",
    "sns.heatmap(df_all[sum_corr].corr(), annot=True, cmap=\"cubehelix\") \n",
    "sns.set(font_scale=1.25)\n",
    "plt.savefig('corr_matrix.png', format='eps')"
   ]
  },
  {
   "cell_type": "code",
   "execution_count": 8,
   "id": "arbitrary-sullivan",
   "metadata": {
    "execution": {
     "iopub.execute_input": "2022-09-06T03:48:35.027877Z",
     "iopub.status.busy": "2022-09-06T03:48:35.026674Z",
     "iopub.status.idle": "2022-09-06T03:48:35.052691Z",
     "shell.execute_reply": "2022-09-06T03:48:35.052176Z"
    },
    "papermill": {
     "duration": 0.044235,
     "end_time": "2022-09-06T03:48:35.052807",
     "exception": false,
     "start_time": "2022-09-06T03:48:35.008572",
     "status": "completed"
    },
    "tags": []
   },
   "outputs": [],
   "source": [
    "#hide\n",
    "#df_all_mrk = read_api()"
   ]
  },
  {
   "cell_type": "code",
   "execution_count": 9,
   "id": "delayed-adapter",
   "metadata": {
    "execution": {
     "iopub.execute_input": "2022-09-06T03:48:35.082972Z",
     "iopub.status.busy": "2022-09-06T03:48:35.082404Z",
     "iopub.status.idle": "2022-09-06T03:48:35.108430Z",
     "shell.execute_reply": "2022-09-06T03:48:35.108919Z"
    },
    "papermill": {
     "duration": 0.04215,
     "end_time": "2022-09-06T03:48:35.109049",
     "exception": false,
     "start_time": "2022-09-06T03:48:35.066899",
     "status": "completed"
    },
    "tags": []
   },
   "outputs": [],
   "source": [
    "#hide\n",
    "#Koreliacijų koeficientai"
   ]
  },
  {
   "cell_type": "code",
   "execution_count": 10,
   "id": "seeing-celebration",
   "metadata": {
    "execution": {
     "iopub.execute_input": "2022-09-06T03:48:35.138721Z",
     "iopub.status.busy": "2022-09-06T03:48:35.138147Z",
     "iopub.status.idle": "2022-09-06T03:48:35.161943Z",
     "shell.execute_reply": "2022-09-06T03:48:35.162394Z"
    },
    "papermill": {
     "duration": 0.03994,
     "end_time": "2022-09-06T03:48:35.162509",
     "exception": false,
     "start_time": "2022-09-06T03:48:35.122569",
     "status": "completed"
    },
    "tags": []
   },
   "outputs": [],
   "source": [
    "#hide_input\n",
    "#sum_corr = df_all_mrk.corr().sum().sort_values(ascending=True).index.values\n",
    "#df_all_mrk[sum_corr].corr()"
   ]
  },
  {
   "cell_type": "code",
   "execution_count": 11,
   "id": "other-painting",
   "metadata": {
    "execution": {
     "iopub.execute_input": "2022-09-06T03:48:35.194031Z",
     "iopub.status.busy": "2022-09-06T03:48:35.193453Z",
     "iopub.status.idle": "2022-09-06T03:48:35.218135Z",
     "shell.execute_reply": "2022-09-06T03:48:35.217413Z"
    },
    "papermill": {
     "duration": 0.042571,
     "end_time": "2022-09-06T03:48:35.218242",
     "exception": false,
     "start_time": "2022-09-06T03:48:35.175671",
     "status": "completed"
    },
    "tags": []
   },
   "outputs": [],
   "source": [
    "#hide\n",
    "#Koreliacijos matrica. "
   ]
  },
  {
   "cell_type": "code",
   "execution_count": 12,
   "id": "modular-magnitude",
   "metadata": {
    "execution": {
     "iopub.execute_input": "2022-09-06T03:48:35.248982Z",
     "iopub.status.busy": "2022-09-06T03:48:35.248401Z",
     "iopub.status.idle": "2022-09-06T03:48:35.273046Z",
     "shell.execute_reply": "2022-09-06T03:48:35.272542Z"
    },
    "papermill": {
     "duration": 0.041629,
     "end_time": "2022-09-06T03:48:35.273162",
     "exception": false,
     "start_time": "2022-09-06T03:48:35.231533",
     "status": "completed"
    },
    "tags": []
   },
   "outputs": [],
   "source": [
    "#hide_input\n",
    "#plt.figure(figsize=(15, 8))\n",
    "#sns.heatmap(df_all_mrk[sum_corr].corr(), annot=True, cmap=\"BrBG\");\n",
    "#plt.savefig('corr_matrix_all.eps', format='eps')"
   ]
  },
  {
   "cell_type": "code",
   "execution_count": null,
   "id": "original-senator",
   "metadata": {
    "papermill": {
     "duration": 0.013039,
     "end_time": "2022-09-06T03:48:35.299479",
     "exception": false,
     "start_time": "2022-09-06T03:48:35.286440",
     "status": "completed"
    },
    "tags": []
   },
   "outputs": [],
   "source": []
  },
  {
   "cell_type": "code",
   "execution_count": null,
   "id": "saving-secretariat",
   "metadata": {
    "papermill": {
     "duration": 0.013022,
     "end_time": "2022-09-06T03:48:35.325607",
     "exception": false,
     "start_time": "2022-09-06T03:48:35.312585",
     "status": "completed"
    },
    "tags": []
   },
   "outputs": [],
   "source": []
  }
 ],
 "metadata": {
  "kernelspec": {
   "display_name": "Python 3",
   "language": "python",
   "name": "python3"
  },
  "language_info": {
   "codemirror_mode": {
    "name": "ipython",
    "version": 3
   },
   "file_extension": ".py",
   "mimetype": "text/x-python",
   "name": "python",
   "nbconvert_exporter": "python",
   "pygments_lexer": "ipython3",
   "version": "3.6.15"
  },
  "papermill": {
   "default_parameters": {},
   "duration": 15.879568,
   "end_time": "2022-09-06T03:48:35.857504",
   "environment_variables": {},
   "exception": null,
   "input_path": "App-Correlation_charts.ipynb",
   "output_path": "App-Correlation_charts.ipynb",
   "parameters": {},
   "start_time": "2022-09-06T03:48:19.977936",
   "version": "2.2.2"
  }
 },
 "nbformat": 4,
 "nbformat_minor": 5
}