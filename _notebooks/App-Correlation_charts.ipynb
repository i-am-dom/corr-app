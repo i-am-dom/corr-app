{
 "cells": [
  {
   "cell_type": "markdown",
   "id": "touched-facility",
   "metadata": {
    "papermill": {
     "duration": 0.017795,
     "end_time": "2021-12-05T02:06:07.908534",
     "exception": false,
     "start_time": "2021-12-05T02:06:07.890739",
     "status": "completed"
    },
    "tags": []
   },
   "source": [
    "# Koreliacijų matrica\n",
    "> Išplėstinė koreliacijų matrica. \n",
    "\n",
    "- toc: true \n",
    "- badges: true\n",
    "- comments: false\n",
    "- categories: [Dominykas Tautkus]\n",
    "- image: images/matrix.png"
   ]
  },
  {
   "cell_type": "code",
   "execution_count": null,
   "id": "premium-weekend",
   "metadata": {
    "papermill": {
     "duration": 0.012816,
     "end_time": "2021-12-05T02:06:07.934890",
     "exception": false,
     "start_time": "2021-12-05T02:06:07.922074",
     "status": "completed"
    },
    "tags": []
   },
   "outputs": [],
   "source": []
  },
  {
   "cell_type": "code",
   "execution_count": 1,
   "id": "vertical-rebate",
   "metadata": {
    "execution": {
     "iopub.execute_input": "2021-12-05T02:06:07.973125Z",
     "iopub.status.busy": "2021-12-05T02:06:07.972489Z",
     "iopub.status.idle": "2021-12-05T02:06:07.985315Z",
     "shell.execute_reply": "2021-12-05T02:06:07.984763Z"
    },
    "papermill": {
     "duration": 0.038227,
     "end_time": "2021-12-05T02:06:07.985472",
     "exception": false,
     "start_time": "2021-12-05T02:06:07.947245",
     "status": "completed"
    },
    "tags": []
   },
   "outputs": [],
   "source": [
    "#hide\n",
    "%load_ext autoreload\n",
    "%autoreload 2"
   ]
  },
  {
   "cell_type": "code",
   "execution_count": 2,
   "id": "overall-advancement",
   "metadata": {
    "execution": {
     "iopub.execute_input": "2021-12-05T02:06:08.016373Z",
     "iopub.status.busy": "2021-12-05T02:06:08.015754Z",
     "iopub.status.idle": "2021-12-05T02:06:09.411587Z",
     "shell.execute_reply": "2021-12-05T02:06:09.410679Z"
    },
    "papermill": {
     "duration": 1.413942,
     "end_time": "2021-12-05T02:06:09.411811",
     "exception": false,
     "start_time": "2021-12-05T02:06:07.997869",
     "status": "completed"
    },
    "tags": []
   },
   "outputs": [],
   "source": [
    "#hide\n",
    "from scripts.read_data import read_api\n",
    "from IPython.display import HTML\n",
    "import plotly.graph_objects as go\n"
   ]
  },
  {
   "cell_type": "code",
   "execution_count": 3,
   "id": "light-crazy",
   "metadata": {
    "execution": {
     "iopub.execute_input": "2021-12-05T02:06:09.444848Z",
     "iopub.status.busy": "2021-12-05T02:06:09.443916Z",
     "iopub.status.idle": "2021-12-05T02:06:09.469665Z",
     "shell.execute_reply": "2021-12-05T02:06:09.469111Z"
    },
    "papermill": {
     "duration": 0.043558,
     "end_time": "2021-12-05T02:06:09.469805",
     "exception": false,
     "start_time": "2021-12-05T02:06:09.426247",
     "status": "completed"
    },
    "tags": []
   },
   "outputs": [],
   "source": [
    "#hide\n",
    "### ICO koreliacija"
   ]
  },
  {
   "cell_type": "code",
   "execution_count": 4,
   "id": "likely-bahrain",
   "metadata": {
    "execution": {
     "iopub.execute_input": "2021-12-05T02:06:09.500029Z",
     "iopub.status.busy": "2021-12-05T02:06:09.499409Z",
     "iopub.status.idle": "2021-12-05T02:06:10.548218Z",
     "shell.execute_reply": "2021-12-05T02:06:10.547598Z"
    },
    "papermill": {
     "duration": 1.065885,
     "end_time": "2021-12-05T02:06:10.548383",
     "exception": false,
     "start_time": "2021-12-05T02:06:09.482498",
     "status": "completed"
    },
    "tags": []
   },
   "outputs": [],
   "source": [
    "#hide\n",
    "import matplotlib.pyplot as plt\n",
    "import numpy as np\n",
    "import pandas as pd\n",
    "import seaborn as sns\n",
    "import matplotlib.pyplot as plt \n",
    "import matplotlib.dates as mdates\n",
    "import matplotlib.pyplot as plt"
   ]
  },
  {
   "cell_type": "code",
   "execution_count": 5,
   "id": "superior-blanket",
   "metadata": {
    "execution": {
     "iopub.execute_input": "2021-12-05T02:06:10.580246Z",
     "iopub.status.busy": "2021-12-05T02:06:10.579563Z",
     "iopub.status.idle": "2021-12-05T02:06:23.422040Z",
     "shell.execute_reply": "2021-12-05T02:06:23.421426Z"
    },
    "papermill": {
     "duration": 12.860149,
     "end_time": "2021-12-05T02:06:23.422182",
     "exception": false,
     "start_time": "2021-12-05T02:06:10.562033",
     "status": "completed"
    },
    "tags": []
   },
   "outputs": [
    {
     "name": "stderr",
     "output_type": "stream",
     "text": [
      "/home/runner/work/corr-app/corr-app/_notebooks/scripts/read_data.py:187: SettingWithCopyWarning:\n",
      "\n",
      "\n",
      "A value is trying to be set on a copy of a slice from a DataFrame.\n",
      "Try using .loc[row_indexer,col_indexer] = value instead\n",
      "\n",
      "See the caveats in the documentation: https://pandas.pydata.org/pandas-docs/stable/user_guide/indexing.html#returning-a-view-versus-a-copy\n",
      "\n"
     ]
    },
    {
     "name": "stderr",
     "output_type": "stream",
     "text": [
      "/home/runner/work/corr-app/corr-app/_notebooks/scripts/read_data.py:215: SettingWithCopyWarning:\n",
      "\n",
      "\n",
      "A value is trying to be set on a copy of a slice from a DataFrame.\n",
      "Try using .loc[row_indexer,col_indexer] = value instead\n",
      "\n",
      "See the caveats in the documentation: https://pandas.pydata.org/pandas-docs/stable/user_guide/indexing.html#returning-a-view-versus-a-copy\n",
      "\n"
     ]
    }
   ],
   "source": [
    "#hide\n",
    "df_all = read_api()\n",
    "#df_all = df_all.drop(['SP500', 'XAU', 'ETH', 'BTC'], axis=1)\n",
    "\n"
   ]
  },
  {
   "cell_type": "code",
   "execution_count": 6,
   "id": "mature-alert",
   "metadata": {
    "execution": {
     "iopub.execute_input": "2021-12-05T02:06:23.456441Z",
     "iopub.status.busy": "2021-12-05T02:06:23.455792Z",
     "iopub.status.idle": "2021-12-05T02:06:23.489547Z",
     "shell.execute_reply": "2021-12-05T02:06:23.490113Z"
    },
    "papermill": {
     "duration": 0.054147,
     "end_time": "2021-12-05T02:06:23.490268",
     "exception": false,
     "start_time": "2021-12-05T02:06:23.436121",
     "status": "completed"
    },
    "tags": []
   },
   "outputs": [],
   "source": [
    "#hide_input\n",
    "sum_corr = df_all.corr().sum().sort_values(ascending=True).index.values\n",
    "#df_all[sum_corr].corr()"
   ]
  },
  {
   "cell_type": "markdown",
   "id": "complex-syndicate",
   "metadata": {
    "papermill": {
     "duration": 0.014075,
     "end_time": "2021-12-05T02:06:23.518548",
     "exception": false,
     "start_time": "2021-12-05T02:06:23.504473",
     "status": "completed"
    },
    "tags": []
   },
   "source": [
    "## Išplėstinė koreliacijų matrica. "
   ]
  },
  {
   "cell_type": "code",
   "execution_count": 7,
   "id": "atomic-omaha",
   "metadata": {
    "execution": {
     "iopub.execute_input": "2021-12-05T02:06:23.550442Z",
     "iopub.status.busy": "2021-12-05T02:06:23.549818Z",
     "iopub.status.idle": "2021-12-05T02:06:25.072296Z",
     "shell.execute_reply": "2021-12-05T02:06:25.072816Z"
    },
    "papermill": {
     "duration": 1.541349,
     "end_time": "2021-12-05T02:06:25.072990",
     "exception": false,
     "start_time": "2021-12-05T02:06:23.531641",
     "status": "completed"
    },
    "tags": []
   },
   "outputs": [
    {
     "data": {
      "image/png": "[encoded data removed]",
      "text/plain": [
       "<Figure size 1080x792 with 2 Axes>"
      ]
     },
     "metadata": {
      "needs_background": "light"
     },
     "output_type": "display_data"
    }
   ],
   "source": [
    "#hide_input\n",
    "plt.figure(figsize=(15, 11))\n",
    "sns.heatmap(df_all[sum_corr].corr(), annot=True, cmap=\"cubehelix\") \n",
    "sns.set(font_scale=1.25)\n",
    "plt.savefig('corr_matrix.png', format='eps')"
   ]
  },
  {
   "cell_type": "code",
   "execution_count": 8,
   "id": "arbitrary-sullivan",
   "metadata": {
    "execution": {
     "iopub.execute_input": "2021-12-05T02:06:25.111208Z",
     "iopub.status.busy": "2021-12-05T02:06:25.109676Z",
     "iopub.status.idle": "2021-12-05T02:06:25.142247Z",
     "shell.execute_reply": "2021-12-05T02:06:25.141340Z"
    },
    "papermill": {
     "duration": 0.052983,
     "end_time": "2021-12-05T02:06:25.142447",
     "exception": false,
     "start_time": "2021-12-05T02:06:25.089464",
     "status": "completed"
    },
    "tags": []
   },
   "outputs": [],
   "source": [
    "#hide\n",
    "#df_all_mrk = read_api()"
   ]
  },
  {
   "cell_type": "code",
   "execution_count": 9,
   "id": "delayed-adapter",
   "metadata": {
    "execution": {
     "iopub.execute_input": "2021-12-05T02:06:25.194803Z",
     "iopub.status.busy": "2021-12-05T02:06:25.194181Z",
     "iopub.status.idle": "2021-12-05T02:06:25.226689Z",
     "shell.execute_reply": "2021-12-05T02:06:25.225990Z"
    },
    "papermill": {
     "duration": 0.067036,
     "end_time": "2021-12-05T02:06:25.226879",
     "exception": false,
     "start_time": "2021-12-05T02:06:25.159843",
     "status": "completed"
    },
    "tags": []
   },
   "outputs": [],
   "source": [
    "#hide\n",
    "#Koreliacijų koeficientai"
   ]
  },
  {
   "cell_type": "code",
   "execution_count": 10,
   "id": "seeing-celebration",
   "metadata": {
    "execution": {
     "iopub.execute_input": "2021-12-05T02:06:25.267195Z",
     "iopub.status.busy": "2021-12-05T02:06:25.266575Z",
     "iopub.status.idle": "2021-12-05T02:06:25.295985Z",
     "shell.execute_reply": "2021-12-05T02:06:25.295333Z"
    },
    "papermill": {
     "duration": 0.05309,
     "end_time": "2021-12-05T02:06:25.296153",
     "exception": false,
     "start_time": "2021-12-05T02:06:25.243063",
     "status": "completed"
    },
    "tags": []
   },
   "outputs": [],
   "source": [
    "#hide_input\n",
    "#sum_corr = df_all_mrk.corr().sum().sort_values(ascending=True).index.values\n",
    "#df_all_mrk[sum_corr].corr()"
   ]
  },
  {
   "cell_type": "code",
   "execution_count": 11,
   "id": "other-painting",
   "metadata": {
    "execution": {
     "iopub.execute_input": "2021-12-05T02:06:25.331960Z",
     "iopub.status.busy": "2021-12-05T02:06:25.331349Z",
     "iopub.status.idle": "2021-12-05T02:06:25.361451Z",
     "shell.execute_reply": "2021-12-05T02:06:25.360888Z"
    },
    "papermill": {
     "duration": 0.049154,
     "end_time": "2021-12-05T02:06:25.361582",
     "exception": false,
     "start_time": "2021-12-05T02:06:25.312428",
     "status": "completed"
    },
    "tags": []
   },
   "outputs": [],
   "source": [
    "#hide\n",
    "#Koreliacijos matrica. "
   ]
  },
  {
   "cell_type": "code",
   "execution_count": 12,
   "id": "modular-magnitude",
   "metadata": {
    "execution": {
     "iopub.execute_input": "2021-12-05T02:06:25.397441Z",
     "iopub.status.busy": "2021-12-05T02:06:25.396795Z",
     "iopub.status.idle": "2021-12-05T02:06:25.428495Z",
     "shell.execute_reply": "2021-12-05T02:06:25.427554Z"
    },
    "papermill": {
     "duration": 0.051523,
     "end_time": "2021-12-05T02:06:25.428697",
     "exception": false,
     "start_time": "2021-12-05T02:06:25.377174",
     "status": "completed"
    },
    "tags": []
   },
   "outputs": [],
   "source": [
    "#hide_input\n",
    "#plt.figure(figsize=(15, 8))\n",
    "#sns.heatmap(df_all_mrk[sum_corr].corr(), annot=True, cmap=\"BrBG\");\n",
    "#plt.savefig('corr_matrix_all.eps', format='eps')"
   ]
  },
  {
   "cell_type": "code",
   "execution_count": null,
   "id": "original-senator",
   "metadata": {
    "papermill": {
     "duration": 0.015329,
     "end_time": "2021-12-05T02:06:25.460874",
     "exception": false,
     "start_time": "2021-12-05T02:06:25.445545",
     "status": "completed"
    },
    "tags": []
   },
   "outputs": [],
   "source": []
  },
  {
   "cell_type": "code",
   "execution_count": null,
   "id": "saving-secretariat",
   "metadata": {
    "papermill": {
     "duration": 0.015425,
     "end_time": "2021-12-05T02:06:25.492394",
     "exception": false,
     "start_time": "2021-12-05T02:06:25.476969",
     "status": "completed"
    },
    "tags": []
   },
   "outputs": [],
   "source": []
  }
 ],
 "metadata": {
  "kernelspec": {
   "display_name": "Python 3",
   "language": "python",
   "name": "python3"
  },
  "language_info": {
   "codemirror_mode": {
    "name": "ipython",
    "version": 3
   },
   "file_extension": ".py",
   "mimetype": "text/x-python",
   "name": "python",
   "nbconvert_exporter": "python",
   "pygments_lexer": "ipython3",
   "version": "3.6.15"
  },
  "papermill": {
   "default_parameters": {},
   "duration": 19.430607,
   "end_time": "2021-12-05T02:06:26.020998",
   "environment_variables": {},
   "exception": null,
   "input_path": "App-Correlation_charts.ipynb",
   "output_path": "App-Correlation_charts.ipynb",
   "parameters": {},
   "start_time": "2021-12-05T02:06:06.590391",
   "version": "2.2.2"
  }
 },
 "nbformat": 4,
 "nbformat_minor": 5
}