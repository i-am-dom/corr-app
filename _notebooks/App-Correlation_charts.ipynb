{
 "cells": [
  {
   "cell_type": "markdown",
   "id": "touched-facility",
   "metadata": {
    "papermill": {
     "duration": 0.014937,
     "end_time": "2021-08-16T01:55:03.042336",
     "exception": false,
     "start_time": "2021-08-16T01:55:03.027399",
     "status": "completed"
    },
    "tags": []
   },
   "source": [
    "# Koreliacijų matrica\n",
    "> Išplėstinė koreliacijų matrica. \n",
    "\n",
    "- toc: true \n",
    "- badges: true\n",
    "- comments: false\n",
    "- categories: [Dominykas Tautkus]\n",
    "- image: images/matrix.png"
   ]
  },
  {
   "cell_type": "code",
   "execution_count": null,
   "id": "premium-weekend",
   "metadata": {
    "papermill": {
     "duration": 0.012907,
     "end_time": "2021-08-16T01:55:03.067198",
     "exception": false,
     "start_time": "2021-08-16T01:55:03.054291",
     "status": "completed"
    },
    "tags": []
   },
   "outputs": [],
   "source": []
  },
  {
   "cell_type": "code",
   "execution_count": 1,
   "id": "vertical-rebate",
   "metadata": {
    "execution": {
     "iopub.execute_input": "2021-08-16T01:55:03.103669Z",
     "iopub.status.busy": "2021-08-16T01:55:03.103027Z",
     "iopub.status.idle": "2021-08-16T01:55:03.113794Z",
     "shell.execute_reply": "2021-08-16T01:55:03.114344Z"
    },
    "papermill": {
     "duration": 0.034825,
     "end_time": "2021-08-16T01:55:03.114493",
     "exception": false,
     "start_time": "2021-08-16T01:55:03.079668",
     "status": "completed"
    },
    "tags": []
   },
   "outputs": [],
   "source": [
    "#hide\n",
    "%load_ext autoreload\n",
    "%autoreload 2"
   ]
  },
  {
   "cell_type": "code",
   "execution_count": 2,
   "id": "overall-advancement",
   "metadata": {
    "execution": {
     "iopub.execute_input": "2021-08-16T01:55:03.143520Z",
     "iopub.status.busy": "2021-08-16T01:55:03.142949Z",
     "iopub.status.idle": "2021-08-16T01:55:04.292070Z",
     "shell.execute_reply": "2021-08-16T01:55:04.291482Z"
    },
    "papermill": {
     "duration": 1.164904,
     "end_time": "2021-08-16T01:55:04.292233",
     "exception": false,
     "start_time": "2021-08-16T01:55:03.127329",
     "status": "completed"
    },
    "tags": []
   },
   "outputs": [],
   "source": [
    "#hide\n",
    "from scripts.read_data import read_api\n",
    "from IPython.display import HTML\n",
    "import plotly.graph_objects as go\n"
   ]
  },
  {
   "cell_type": "code",
   "execution_count": 3,
   "id": "light-crazy",
   "metadata": {
    "execution": {
     "iopub.execute_input": "2021-08-16T01:55:04.324805Z",
     "iopub.status.busy": "2021-08-16T01:55:04.324260Z",
     "iopub.status.idle": "2021-08-16T01:55:04.346513Z",
     "shell.execute_reply": "2021-08-16T01:55:04.346018Z"
    },
    "papermill": {
     "duration": 0.036556,
     "end_time": "2021-08-16T01:55:04.346632",
     "exception": false,
     "start_time": "2021-08-16T01:55:04.310076",
     "status": "completed"
    },
    "tags": []
   },
   "outputs": [],
   "source": [
    "#hide\n",
    "### ICO koreliacija"
   ]
  },
  {
   "cell_type": "code",
   "execution_count": 4,
   "id": "likely-bahrain",
   "metadata": {
    "execution": {
     "iopub.execute_input": "2021-08-16T01:55:04.372856Z",
     "iopub.status.busy": "2021-08-16T01:55:04.372257Z",
     "iopub.status.idle": "2021-08-16T01:55:05.152955Z",
     "shell.execute_reply": "2021-08-16T01:55:05.152474Z"
    },
    "papermill": {
     "duration": 0.794948,
     "end_time": "2021-08-16T01:55:05.153076",
     "exception": false,
     "start_time": "2021-08-16T01:55:04.358128",
     "status": "completed"
    },
    "tags": []
   },
   "outputs": [],
   "source": [
    "#hide\n",
    "import matplotlib.pyplot as plt\n",
    "import numpy as np\n",
    "import pandas as pd\n",
    "import seaborn as sns\n",
    "import matplotlib.pyplot as plt \n",
    "import matplotlib.dates as mdates\n",
    "import matplotlib.pyplot as plt"
   ]
  },
  {
   "cell_type": "code",
   "execution_count": 5,
   "id": "superior-blanket",
   "metadata": {
    "execution": {
     "iopub.execute_input": "2021-08-16T01:55:05.183331Z",
     "iopub.status.busy": "2021-08-16T01:55:05.182821Z",
     "iopub.status.idle": "2021-08-16T01:55:18.034644Z",
     "shell.execute_reply": "2021-08-16T01:55:18.035070Z"
    },
    "papermill": {
     "duration": 12.870864,
     "end_time": "2021-08-16T01:55:18.035209",
     "exception": false,
     "start_time": "2021-08-16T01:55:05.164345",
     "status": "completed"
    },
    "tags": []
   },
   "outputs": [
    {
     "name": "stderr",
     "output_type": "stream",
     "text": [
      "/home/runner/work/corr-app/corr-app/_notebooks/scripts/read_data.py:187: SettingWithCopyWarning:\n",
      "\n",
      "\n",
      "A value is trying to be set on a copy of a slice from a DataFrame.\n",
      "Try using .loc[row_indexer,col_indexer] = value instead\n",
      "\n",
      "See the caveats in the documentation: https://pandas.pydata.org/pandas-docs/stable/user_guide/indexing.html#returning-a-view-versus-a-copy\n",
      "\n"
     ]
    },
    {
     "name": "stderr",
     "output_type": "stream",
     "text": [
      "/home/runner/work/corr-app/corr-app/_notebooks/scripts/read_data.py:215: SettingWithCopyWarning:\n",
      "\n",
      "\n",
      "A value is trying to be set on a copy of a slice from a DataFrame.\n",
      "Try using .loc[row_indexer,col_indexer] = value instead\n",
      "\n",
      "See the caveats in the documentation: https://pandas.pydata.org/pandas-docs/stable/user_guide/indexing.html#returning-a-view-versus-a-copy\n",
      "\n"
     ]
    }
   ],
   "source": [
    "#hide\n",
    "df_all = read_api()\n",
    "#df_all = df_all.drop(['SP500', 'XAU', 'ETH', 'BTC'], axis=1)\n",
    "\n"
   ]
  },
  {
   "cell_type": "code",
   "execution_count": 6,
   "id": "mature-alert",
   "metadata": {
    "execution": {
     "iopub.execute_input": "2021-08-16T01:55:18.063301Z",
     "iopub.status.busy": "2021-08-16T01:55:18.062764Z",
     "iopub.status.idle": "2021-08-16T01:55:18.093617Z",
     "shell.execute_reply": "2021-08-16T01:55:18.093188Z"
    },
    "papermill": {
     "duration": 0.046318,
     "end_time": "2021-08-16T01:55:18.093729",
     "exception": false,
     "start_time": "2021-08-16T01:55:18.047411",
     "status": "completed"
    },
    "tags": []
   },
   "outputs": [],
   "source": [
    "#hide_input\n",
    "sum_corr = df_all.corr().sum().sort_values(ascending=True).index.values\n",
    "#df_all[sum_corr].corr()"
   ]
  },
  {
   "cell_type": "markdown",
   "id": "complex-syndicate",
   "metadata": {
    "papermill": {
     "duration": 0.013817,
     "end_time": "2021-08-16T01:55:18.120994",
     "exception": false,
     "start_time": "2021-08-16T01:55:18.107177",
     "status": "completed"
    },
    "tags": []
   },
   "source": [
    "## Išplėstinė koreliacijų matrica. "
   ]
  },
  {
   "cell_type": "code",
   "execution_count": 7,
   "id": "atomic-omaha",
   "metadata": {
    "execution": {
     "iopub.execute_input": "2021-08-16T01:55:18.151557Z",
     "iopub.status.busy": "2021-08-16T01:55:18.150858Z",
     "iopub.status.idle": "2021-08-16T01:55:19.650230Z",
     "shell.execute_reply": "2021-08-16T01:55:19.649799Z"
    },
    "papermill": {
     "duration": 1.517708,
     "end_time": "2021-08-16T01:55:19.650346",
     "exception": false,
     "start_time": "2021-08-16T01:55:18.132638",
     "status": "completed"
    },
    "tags": []
   },
   "outputs": [
    {
     "data": {
      "image/png": "[encoded data removed]",
      "text/plain": [
       "<Figure size 1080x792 with 2 Axes>"
      ]
     },
     "metadata": {
      "needs_background": "light"
     },
     "output_type": "display_data"
    }
   ],
   "source": [
    "#hide_input\n",
    "plt.figure(figsize=(15, 11))\n",
    "sns.heatmap(df_all[sum_corr].corr(), annot=True, cmap=\"cubehelix\") \n",
    "sns.set(font_scale=1.25)\n",
    "plt.savefig('corr_matrix.png', format='eps')"
   ]
  },
  {
   "cell_type": "code",
   "execution_count": 8,
   "id": "arbitrary-sullivan",
   "metadata": {
    "execution": {
     "iopub.execute_input": "2021-08-16T01:55:19.681371Z",
     "iopub.status.busy": "2021-08-16T01:55:19.680488Z",
     "iopub.status.idle": "2021-08-16T01:55:19.706318Z",
     "shell.execute_reply": "2021-08-16T01:55:19.706785Z"
    },
    "papermill": {
     "duration": 0.04302,
     "end_time": "2021-08-16T01:55:19.706928",
     "exception": false,
     "start_time": "2021-08-16T01:55:19.663908",
     "status": "completed"
    },
    "tags": []
   },
   "outputs": [],
   "source": [
    "#hide\n",
    "#df_all_mrk = read_api()"
   ]
  },
  {
   "cell_type": "code",
   "execution_count": 9,
   "id": "delayed-adapter",
   "metadata": {
    "execution": {
     "iopub.execute_input": "2021-08-16T01:55:19.737626Z",
     "iopub.status.busy": "2021-08-16T01:55:19.736923Z",
     "iopub.status.idle": "2021-08-16T01:55:19.759591Z",
     "shell.execute_reply": "2021-08-16T01:55:19.759113Z"
    },
    "papermill": {
     "duration": 0.03938,
     "end_time": "2021-08-16T01:55:19.759716",
     "exception": false,
     "start_time": "2021-08-16T01:55:19.720336",
     "status": "completed"
    },
    "tags": []
   },
   "outputs": [],
   "source": [
    "#hide\n",
    "#Koreliacijų koeficientai"
   ]
  },
  {
   "cell_type": "code",
   "execution_count": 10,
   "id": "seeing-celebration",
   "metadata": {
    "execution": {
     "iopub.execute_input": "2021-08-16T01:55:19.792882Z",
     "iopub.status.busy": "2021-08-16T01:55:19.792292Z",
     "iopub.status.idle": "2021-08-16T01:55:19.816894Z",
     "shell.execute_reply": "2021-08-16T01:55:19.816406Z"
    },
    "papermill": {
     "duration": 0.042143,
     "end_time": "2021-08-16T01:55:19.817008",
     "exception": false,
     "start_time": "2021-08-16T01:55:19.774865",
     "status": "completed"
    },
    "tags": []
   },
   "outputs": [],
   "source": [
    "#hide_input\n",
    "#sum_corr = df_all_mrk.corr().sum().sort_values(ascending=True).index.values\n",
    "#df_all_mrk[sum_corr].corr()"
   ]
  },
  {
   "cell_type": "code",
   "execution_count": 11,
   "id": "other-painting",
   "metadata": {
    "execution": {
     "iopub.execute_input": "2021-08-16T01:55:19.846527Z",
     "iopub.status.busy": "2021-08-16T01:55:19.846006Z",
     "iopub.status.idle": "2021-08-16T01:55:19.868833Z",
     "shell.execute_reply": "2021-08-16T01:55:19.868355Z"
    },
    "papermill": {
     "duration": 0.038669,
     "end_time": "2021-08-16T01:55:19.868937",
     "exception": false,
     "start_time": "2021-08-16T01:55:19.830268",
     "status": "completed"
    },
    "tags": []
   },
   "outputs": [],
   "source": [
    "#hide\n",
    "#Koreliacijos matrica. "
   ]
  },
  {
   "cell_type": "code",
   "execution_count": 12,
   "id": "modular-magnitude",
   "metadata": {
    "execution": {
     "iopub.execute_input": "2021-08-16T01:55:19.900322Z",
     "iopub.status.busy": "2021-08-16T01:55:19.899818Z",
     "iopub.status.idle": "2021-08-16T01:55:19.922502Z",
     "shell.execute_reply": "2021-08-16T01:55:19.922090Z"
    },
    "papermill": {
     "duration": 0.039822,
     "end_time": "2021-08-16T01:55:19.922605",
     "exception": false,
     "start_time": "2021-08-16T01:55:19.882783",
     "status": "completed"
    },
    "tags": []
   },
   "outputs": [],
   "source": [
    "#hide_input\n",
    "#plt.figure(figsize=(15, 8))\n",
    "#sns.heatmap(df_all_mrk[sum_corr].corr(), annot=True, cmap=\"BrBG\");\n",
    "#plt.savefig('corr_matrix_all.eps', format='eps')"
   ]
  },
  {
   "cell_type": "code",
   "execution_count": null,
   "id": "original-senator",
   "metadata": {
    "papermill": {
     "duration": 0.013055,
     "end_time": "2021-08-16T01:55:19.948615",
     "exception": false,
     "start_time": "2021-08-16T01:55:19.935560",
     "status": "completed"
    },
    "tags": []
   },
   "outputs": [],
   "source": []
  },
  {
   "cell_type": "code",
   "execution_count": null,
   "id": "saving-secretariat",
   "metadata": {
    "papermill": {
     "duration": 0.013655,
     "end_time": "2021-08-16T01:55:19.977566",
     "exception": false,
     "start_time": "2021-08-16T01:55:19.963911",
     "status": "completed"
    },
    "tags": []
   },
   "outputs": [],
   "source": []
  }
 ],
 "metadata": {
  "kernelspec": {
   "display_name": "Python 3",
   "language": "python",
   "name": "python3"
  },
  "language_info": {
   "codemirror_mode": {
    "name": "ipython",
    "version": 3
   },
   "file_extension": ".py",
   "mimetype": "text/x-python",
   "name": "python",
   "nbconvert_exporter": "python",
   "pygments_lexer": "ipython3",
   "version": "3.6.14"
  },
  "papermill": {
   "default_parameters": {},
   "duration": 19.289705,
   "end_time": "2021-08-16T01:55:21.268262",
   "environment_variables": {},
   "exception": null,
   "input_path": "App-Correlation_charts.ipynb",
   "output_path": "App-Correlation_charts.ipynb",
   "parameters": {},
   "start_time": "2021-08-16T01:55:01.978557",
   "version": "2.2.2"
  }
 },
 "nbformat": 4,
 "nbformat_minor": 5
}