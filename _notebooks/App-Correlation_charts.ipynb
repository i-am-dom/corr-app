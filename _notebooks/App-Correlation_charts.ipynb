{
 "cells": [
  {
   "cell_type": "markdown",
   "id": "touched-facility",
   "metadata": {
    "papermill": {
     "duration": 0.018766,
     "end_time": "2022-10-31T03:19:05.120509",
     "exception": false,
     "start_time": "2022-10-31T03:19:05.101743",
     "status": "completed"
    },
    "tags": []
   },
   "source": [
    "# Koreliacijų matrica\n",
    "> Išplėstinė koreliacijų matrica. \n",
    "\n",
    "- toc: true \n",
    "- badges: true\n",
    "- comments: false\n",
    "- categories: [Dominykas Tautkus]\n",
    "- image: images/matrix.png"
   ]
  },
  {
   "cell_type": "code",
   "execution_count": null,
   "id": "premium-weekend",
   "metadata": {
    "papermill": {
     "duration": 0.01379,
     "end_time": "2022-10-31T03:19:05.148840",
     "exception": false,
     "start_time": "2022-10-31T03:19:05.135050",
     "status": "completed"
    },
    "tags": []
   },
   "outputs": [],
   "source": []
  },
  {
   "cell_type": "code",
   "execution_count": 1,
   "id": "vertical-rebate",
   "metadata": {
    "execution": {
     "iopub.execute_input": "2022-10-31T03:19:05.188953Z",
     "iopub.status.busy": "2022-10-31T03:19:05.188185Z",
     "iopub.status.idle": "2022-10-31T03:19:05.201741Z",
     "shell.execute_reply": "2022-10-31T03:19:05.201070Z"
    },
    "papermill": {
     "duration": 0.039956,
     "end_time": "2022-10-31T03:19:05.201914",
     "exception": false,
     "start_time": "2022-10-31T03:19:05.161958",
     "status": "completed"
    },
    "tags": []
   },
   "outputs": [],
   "source": [
    "#hide\n",
    "%load_ext autoreload\n",
    "%autoreload 2"
   ]
  },
  {
   "cell_type": "code",
   "execution_count": 2,
   "id": "overall-advancement",
   "metadata": {
    "execution": {
     "iopub.execute_input": "2022-10-31T03:19:05.234771Z",
     "iopub.status.busy": "2022-10-31T03:19:05.233964Z",
     "iopub.status.idle": "2022-10-31T03:19:06.866328Z",
     "shell.execute_reply": "2022-10-31T03:19:06.864625Z"
    },
    "papermill": {
     "duration": 1.651378,
     "end_time": "2022-10-31T03:19:06.866531",
     "exception": false,
     "start_time": "2022-10-31T03:19:05.215153",
     "status": "completed"
    },
    "tags": []
   },
   "outputs": [],
   "source": [
    "#hide\n",
    "from scripts.read_data import read_api\n",
    "from IPython.display import HTML\n",
    "import plotly.graph_objects as go\n"
   ]
  },
  {
   "cell_type": "code",
   "execution_count": 3,
   "id": "light-crazy",
   "metadata": {
    "execution": {
     "iopub.execute_input": "2022-10-31T03:19:06.911078Z",
     "iopub.status.busy": "2022-10-31T03:19:06.910284Z",
     "iopub.status.idle": "2022-10-31T03:19:06.941147Z",
     "shell.execute_reply": "2022-10-31T03:19:06.941807Z"
    },
    "papermill": {
     "duration": 0.057848,
     "end_time": "2022-10-31T03:19:06.941981",
     "exception": false,
     "start_time": "2022-10-31T03:19:06.884133",
     "status": "completed"
    },
    "tags": []
   },
   "outputs": [],
   "source": [
    "#hide\n",
    "### ICO koreliacija"
   ]
  },
  {
   "cell_type": "code",
   "execution_count": 4,
   "id": "likely-bahrain",
   "metadata": {
    "execution": {
     "iopub.execute_input": "2022-10-31T03:19:06.975924Z",
     "iopub.status.busy": "2022-10-31T03:19:06.975015Z",
     "iopub.status.idle": "2022-10-31T03:19:08.117849Z",
     "shell.execute_reply": "2022-10-31T03:19:08.117138Z"
    },
    "papermill": {
     "duration": 1.161772,
     "end_time": "2022-10-31T03:19:08.118035",
     "exception": false,
     "start_time": "2022-10-31T03:19:06.956263",
     "status": "completed"
    },
    "tags": []
   },
   "outputs": [],
   "source": [
    "#hide\n",
    "import matplotlib.pyplot as plt\n",
    "import numpy as np\n",
    "import pandas as pd\n",
    "import seaborn as sns\n",
    "import matplotlib.pyplot as plt \n",
    "import matplotlib.dates as mdates\n",
    "import matplotlib.pyplot as plt"
   ]
  },
  {
   "cell_type": "code",
   "execution_count": 5,
   "id": "superior-blanket",
   "metadata": {
    "execution": {
     "iopub.execute_input": "2022-10-31T03:19:08.154188Z",
     "iopub.status.busy": "2022-10-31T03:19:08.153433Z",
     "iopub.status.idle": "2022-10-31T03:19:21.705361Z",
     "shell.execute_reply": "2022-10-31T03:19:21.704572Z"
    },
    "papermill": {
     "duration": 13.571852,
     "end_time": "2022-10-31T03:19:21.705553",
     "exception": false,
     "start_time": "2022-10-31T03:19:08.133701",
     "status": "completed"
    },
    "tags": []
   },
   "outputs": [
    {
     "name": "stderr",
     "output_type": "stream",
     "text": [
      "/home/runner/work/corr-app/corr-app/_notebooks/scripts/read_data.py:187: SettingWithCopyWarning:\n",
      "\n",
      "\n",
      "A value is trying to be set on a copy of a slice from a DataFrame.\n",
      "Try using .loc[row_indexer,col_indexer] = value instead\n",
      "\n",
      "See the caveats in the documentation: https://pandas.pydata.org/pandas-docs/stable/user_guide/indexing.html#returning-a-view-versus-a-copy\n",
      "\n"
     ]
    },
    {
     "name": "stderr",
     "output_type": "stream",
     "text": [
      "/home/runner/work/corr-app/corr-app/_notebooks/scripts/read_data.py:215: SettingWithCopyWarning:\n",
      "\n",
      "\n",
      "A value is trying to be set on a copy of a slice from a DataFrame.\n",
      "Try using .loc[row_indexer,col_indexer] = value instead\n",
      "\n",
      "See the caveats in the documentation: https://pandas.pydata.org/pandas-docs/stable/user_guide/indexing.html#returning-a-view-versus-a-copy\n",
      "\n"
     ]
    }
   ],
   "source": [
    "#hide\n",
    "df_all = read_api()\n",
    "#df_all = df_all.drop(['SP500', 'XAU', 'ETH', 'BTC'], axis=1)\n",
    "\n"
   ]
  },
  {
   "cell_type": "code",
   "execution_count": 6,
   "id": "mature-alert",
   "metadata": {
    "execution": {
     "iopub.execute_input": "2022-10-31T03:19:21.746559Z",
     "iopub.status.busy": "2022-10-31T03:19:21.743180Z",
     "iopub.status.idle": "2022-10-31T03:19:21.781514Z",
     "shell.execute_reply": "2022-10-31T03:19:21.782102Z"
    },
    "papermill": {
     "duration": 0.059681,
     "end_time": "2022-10-31T03:19:21.782334",
     "exception": false,
     "start_time": "2022-10-31T03:19:21.722653",
     "status": "completed"
    },
    "tags": []
   },
   "outputs": [],
   "source": [
    "#hide_input\n",
    "sum_corr = df_all.corr().sum().sort_values(ascending=True).index.values\n",
    "#df_all[sum_corr].corr()"
   ]
  },
  {
   "cell_type": "markdown",
   "id": "complex-syndicate",
   "metadata": {
    "papermill": {
     "duration": 0.014638,
     "end_time": "2022-10-31T03:19:21.811785",
     "exception": false,
     "start_time": "2022-10-31T03:19:21.797147",
     "status": "completed"
    },
    "tags": []
   },
   "source": [
    "## Išplėstinė koreliacijų matrica. "
   ]
  },
  {
   "cell_type": "code",
   "execution_count": 7,
   "id": "atomic-omaha",
   "metadata": {
    "execution": {
     "iopub.execute_input": "2022-10-31T03:19:21.848940Z",
     "iopub.status.busy": "2022-10-31T03:19:21.848158Z",
     "iopub.status.idle": "2022-10-31T03:19:23.629512Z",
     "shell.execute_reply": "2022-10-31T03:19:23.628686Z"
    },
    "papermill": {
     "duration": 1.802553,
     "end_time": "2022-10-31T03:19:23.629707",
     "exception": false,
     "start_time": "2022-10-31T03:19:21.827154",
     "status": "completed"
    },
    "tags": []
   },
   "outputs": [
    {
     "data": {
      "image/png": "[encoded data removed]",
      "text/plain": [
       "<Figure size 1080x792 with 2 Axes>"
      ]
     },
     "metadata": {
      "needs_background": "light"
     },
     "output_type": "display_data"
    }
   ],
   "source": [
    "#hide_input\n",
    "plt.figure(figsize=(15, 11))\n",
    "sns.heatmap(df_all[sum_corr].corr(), annot=True, cmap=\"cubehelix\") \n",
    "sns.set(font_scale=1.25)\n",
    "plt.savefig('corr_matrix.png', format='eps')"
   ]
  },
  {
   "cell_type": "code",
   "execution_count": 8,
   "id": "arbitrary-sullivan",
   "metadata": {
    "execution": {
     "iopub.execute_input": "2022-10-31T03:19:23.670127Z",
     "iopub.status.busy": "2022-10-31T03:19:23.669227Z",
     "iopub.status.idle": "2022-10-31T03:19:23.700089Z",
     "shell.execute_reply": "2022-10-31T03:19:23.700601Z"
    },
    "papermill": {
     "duration": 0.053294,
     "end_time": "2022-10-31T03:19:23.700766",
     "exception": false,
     "start_time": "2022-10-31T03:19:23.647472",
     "status": "completed"
    },
    "tags": []
   },
   "outputs": [],
   "source": [
    "#hide\n",
    "#df_all_mrk = read_api()"
   ]
  },
  {
   "cell_type": "code",
   "execution_count": 9,
   "id": "delayed-adapter",
   "metadata": {
    "execution": {
     "iopub.execute_input": "2022-10-31T03:19:23.741996Z",
     "iopub.status.busy": "2022-10-31T03:19:23.741025Z",
     "iopub.status.idle": "2022-10-31T03:19:23.773223Z",
     "shell.execute_reply": "2022-10-31T03:19:23.772610Z"
    },
    "papermill": {
     "duration": 0.056078,
     "end_time": "2022-10-31T03:19:23.773380",
     "exception": false,
     "start_time": "2022-10-31T03:19:23.717302",
     "status": "completed"
    },
    "tags": []
   },
   "outputs": [],
   "source": [
    "#hide\n",
    "#Koreliacijų koeficientai"
   ]
  },
  {
   "cell_type": "code",
   "execution_count": 10,
   "id": "seeing-celebration",
   "metadata": {
    "execution": {
     "iopub.execute_input": "2022-10-31T03:19:23.811129Z",
     "iopub.status.busy": "2022-10-31T03:19:23.810256Z",
     "iopub.status.idle": "2022-10-31T03:19:23.846192Z",
     "shell.execute_reply": "2022-10-31T03:19:23.845068Z"
    },
    "papermill": {
     "duration": 0.056364,
     "end_time": "2022-10-31T03:19:23.846333",
     "exception": false,
     "start_time": "2022-10-31T03:19:23.789969",
     "status": "completed"
    },
    "tags": []
   },
   "outputs": [],
   "source": [
    "#hide_input\n",
    "#sum_corr = df_all_mrk.corr().sum().sort_values(ascending=True).index.values\n",
    "#df_all_mrk[sum_corr].corr()"
   ]
  },
  {
   "cell_type": "code",
   "execution_count": 11,
   "id": "other-painting",
   "metadata": {
    "execution": {
     "iopub.execute_input": "2022-10-31T03:19:23.885934Z",
     "iopub.status.busy": "2022-10-31T03:19:23.885187Z",
     "iopub.status.idle": "2022-10-31T03:19:23.919392Z",
     "shell.execute_reply": "2022-10-31T03:19:23.918797Z"
    },
    "papermill": {
     "duration": 0.056859,
     "end_time": "2022-10-31T03:19:23.919537",
     "exception": false,
     "start_time": "2022-10-31T03:19:23.862678",
     "status": "completed"
    },
    "tags": []
   },
   "outputs": [],
   "source": [
    "#hide\n",
    "#Koreliacijos matrica. "
   ]
  },
  {
   "cell_type": "code",
   "execution_count": 12,
   "id": "modular-magnitude",
   "metadata": {
    "execution": {
     "iopub.execute_input": "2022-10-31T03:19:23.958095Z",
     "iopub.status.busy": "2022-10-31T03:19:23.957405Z",
     "iopub.status.idle": "2022-10-31T03:19:23.989475Z",
     "shell.execute_reply": "2022-10-31T03:19:23.988820Z"
    },
    "papermill": {
     "duration": 0.053259,
     "end_time": "2022-10-31T03:19:23.989609",
     "exception": false,
     "start_time": "2022-10-31T03:19:23.936350",
     "status": "completed"
    },
    "tags": []
   },
   "outputs": [],
   "source": [
    "#hide_input\n",
    "#plt.figure(figsize=(15, 8))\n",
    "#sns.heatmap(df_all_mrk[sum_corr].corr(), annot=True, cmap=\"BrBG\");\n",
    "#plt.savefig('corr_matrix_all.eps', format='eps')"
   ]
  },
  {
   "cell_type": "code",
   "execution_count": null,
   "id": "original-senator",
   "metadata": {
    "papermill": {
     "duration": 0.016484,
     "end_time": "2022-10-31T03:19:24.022456",
     "exception": false,
     "start_time": "2022-10-31T03:19:24.005972",
     "status": "completed"
    },
    "tags": []
   },
   "outputs": [],
   "source": []
  },
  {
   "cell_type": "code",
   "execution_count": null,
   "id": "saving-secretariat",
   "metadata": {
    "papermill": {
     "duration": 0.016891,
     "end_time": "2022-10-31T03:19:24.057448",
     "exception": false,
     "start_time": "2022-10-31T03:19:24.040557",
     "status": "completed"
    },
    "tags": []
   },
   "outputs": [],
   "source": []
  }
 ],
 "metadata": {
  "kernelspec": {
   "display_name": "Python 3",
   "language": "python",
   "name": "python3"
  },
  "language_info": {
   "codemirror_mode": {
    "name": "ipython",
    "version": 3
   },
   "file_extension": ".py",
   "mimetype": "text/x-python",
   "name": "python",
   "nbconvert_exporter": "python",
   "pygments_lexer": "ipython3",
   "version": "3.6.15"
  },
  "papermill": {
   "default_parameters": {},
   "duration": 20.930557,
   "end_time": "2022-10-31T03:19:24.696360",
   "environment_variables": {},
   "exception": null,
   "input_path": "App-Correlation_charts.ipynb",
   "output_path": "App-Correlation_charts.ipynb",
   "parameters": {},
   "start_time": "2022-10-31T03:19:03.765803",
   "version": "2.2.2"
  }
 },
 "nbformat": 4,
 "nbformat_minor": 5
}