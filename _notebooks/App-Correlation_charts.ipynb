{
 "cells": [
  {
   "cell_type": "markdown",
   "id": "touched-facility",
   "metadata": {
    "papermill": {
     "duration": 0.017349,
     "end_time": "2021-07-22T02:02:50.443477",
     "exception": false,
     "start_time": "2021-07-22T02:02:50.426128",
     "status": "completed"
    },
    "tags": []
   },
   "source": [
    "# Koreliacijų matrica\n",
    "> Išplėstinė koreliacijų matrica. \n",
    "\n",
    "- toc: true \n",
    "- badges: true\n",
    "- comments: false\n",
    "- categories: [Dominykas Tautkus]\n",
    "- image: images/matrix.png"
   ]
  },
  {
   "cell_type": "code",
   "execution_count": null,
   "id": "premium-weekend",
   "metadata": {
    "papermill": {
     "duration": 0.011156,
     "end_time": "2021-07-22T02:02:50.466612",
     "exception": false,
     "start_time": "2021-07-22T02:02:50.455456",
     "status": "completed"
    },
    "tags": []
   },
   "outputs": [],
   "source": []
  },
  {
   "cell_type": "code",
   "execution_count": 1,
   "id": "vertical-rebate",
   "metadata": {
    "execution": {
     "iopub.execute_input": "2021-07-22T02:02:50.500647Z",
     "iopub.status.busy": "2021-07-22T02:02:50.500102Z",
     "iopub.status.idle": "2021-07-22T02:02:50.510429Z",
     "shell.execute_reply": "2021-07-22T02:02:50.509941Z"
    },
    "papermill": {
     "duration": 0.034137,
     "end_time": "2021-07-22T02:02:50.510546",
     "exception": false,
     "start_time": "2021-07-22T02:02:50.476409",
     "status": "completed"
    },
    "tags": []
   },
   "outputs": [],
   "source": [
    "#hide\n",
    "%load_ext autoreload\n",
    "%autoreload 2"
   ]
  },
  {
   "cell_type": "code",
   "execution_count": 2,
   "id": "overall-advancement",
   "metadata": {
    "execution": {
     "iopub.execute_input": "2021-07-22T02:02:50.533482Z",
     "iopub.status.busy": "2021-07-22T02:02:50.532917Z",
     "iopub.status.idle": "2021-07-22T02:02:51.613473Z",
     "shell.execute_reply": "2021-07-22T02:02:51.612464Z"
    },
    "papermill": {
     "duration": 1.093438,
     "end_time": "2021-07-22T02:02:51.613599",
     "exception": false,
     "start_time": "2021-07-22T02:02:50.520161",
     "status": "completed"
    },
    "tags": []
   },
   "outputs": [],
   "source": [
    "#hide\n",
    "from scripts.read_data import read_api\n",
    "from IPython.display import HTML\n",
    "import plotly.graph_objects as go\n"
   ]
  },
  {
   "cell_type": "code",
   "execution_count": 3,
   "id": "light-crazy",
   "metadata": {
    "execution": {
     "iopub.execute_input": "2021-07-22T02:02:51.641076Z",
     "iopub.status.busy": "2021-07-22T02:02:51.640356Z",
     "iopub.status.idle": "2021-07-22T02:02:51.662775Z",
     "shell.execute_reply": "2021-07-22T02:02:51.662262Z"
    },
    "papermill": {
     "duration": 0.037673,
     "end_time": "2021-07-22T02:02:51.662904",
     "exception": false,
     "start_time": "2021-07-22T02:02:51.625231",
     "status": "completed"
    },
    "tags": []
   },
   "outputs": [],
   "source": [
    "#hide\n",
    "### ICO koreliacija"
   ]
  },
  {
   "cell_type": "code",
   "execution_count": 4,
   "id": "likely-bahrain",
   "metadata": {
    "execution": {
     "iopub.execute_input": "2021-07-22T02:02:51.749197Z",
     "iopub.status.busy": "2021-07-22T02:02:51.747857Z",
     "iopub.status.idle": "2021-07-22T02:02:52.634260Z",
     "shell.execute_reply": "2021-07-22T02:02:52.633696Z"
    },
    "papermill": {
     "duration": 0.959298,
     "end_time": "2021-07-22T02:02:52.634401",
     "exception": false,
     "start_time": "2021-07-22T02:02:51.675103",
     "status": "completed"
    },
    "tags": []
   },
   "outputs": [],
   "source": [
    "#hide\n",
    "import matplotlib.pyplot as plt\n",
    "import numpy as np\n",
    "import pandas as pd\n",
    "import seaborn as sns\n",
    "import matplotlib.pyplot as plt \n",
    "import matplotlib.dates as mdates\n",
    "import matplotlib.pyplot as plt"
   ]
  },
  {
   "cell_type": "code",
   "execution_count": 5,
   "id": "superior-blanket",
   "metadata": {
    "execution": {
     "iopub.execute_input": "2021-07-22T02:02:52.664185Z",
     "iopub.status.busy": "2021-07-22T02:02:52.663566Z",
     "iopub.status.idle": "2021-07-22T02:03:08.274132Z",
     "shell.execute_reply": "2021-07-22T02:03:08.273570Z"
    },
    "papermill": {
     "duration": 15.626674,
     "end_time": "2021-07-22T02:03:08.274262",
     "exception": false,
     "start_time": "2021-07-22T02:02:52.647588",
     "status": "completed"
    },
    "tags": []
   },
   "outputs": [
    {
     "name": "stderr",
     "output_type": "stream",
     "text": [
      "/home/runner/work/corr-app/corr-app/_notebooks/scripts/read_data.py:187: SettingWithCopyWarning:\n",
      "\n",
      "\n",
      "A value is trying to be set on a copy of a slice from a DataFrame.\n",
      "Try using .loc[row_indexer,col_indexer] = value instead\n",
      "\n",
      "See the caveats in the documentation: https://pandas.pydata.org/pandas-docs/stable/user_guide/indexing.html#returning-a-view-versus-a-copy\n",
      "\n"
     ]
    },
    {
     "name": "stderr",
     "output_type": "stream",
     "text": [
      "/home/runner/work/corr-app/corr-app/_notebooks/scripts/read_data.py:215: SettingWithCopyWarning:\n",
      "\n",
      "\n",
      "A value is trying to be set on a copy of a slice from a DataFrame.\n",
      "Try using .loc[row_indexer,col_indexer] = value instead\n",
      "\n",
      "See the caveats in the documentation: https://pandas.pydata.org/pandas-docs/stable/user_guide/indexing.html#returning-a-view-versus-a-copy\n",
      "\n"
     ]
    }
   ],
   "source": [
    "#hide\n",
    "df_all = read_api()\n",
    "#df_all = df_all.drop(['SP500', 'XAU', 'ETH', 'BTC'], axis=1)\n",
    "\n"
   ]
  },
  {
   "cell_type": "code",
   "execution_count": 6,
   "id": "mature-alert",
   "metadata": {
    "execution": {
     "iopub.execute_input": "2021-07-22T02:03:08.306241Z",
     "iopub.status.busy": "2021-07-22T02:03:08.305591Z",
     "iopub.status.idle": "2021-07-22T02:03:08.336716Z",
     "shell.execute_reply": "2021-07-22T02:03:08.335996Z"
    },
    "papermill": {
     "duration": 0.04969,
     "end_time": "2021-07-22T02:03:08.336875",
     "exception": false,
     "start_time": "2021-07-22T02:03:08.287185",
     "status": "completed"
    },
    "tags": []
   },
   "outputs": [],
   "source": [
    "#hide_input\n",
    "sum_corr = df_all.corr().sum().sort_values(ascending=True).index.values\n",
    "#df_all[sum_corr].corr()"
   ]
  },
  {
   "cell_type": "markdown",
   "id": "complex-syndicate",
   "metadata": {
    "papermill": {
     "duration": 0.011468,
     "end_time": "2021-07-22T02:03:08.359923",
     "exception": false,
     "start_time": "2021-07-22T02:03:08.348455",
     "status": "completed"
    },
    "tags": []
   },
   "source": [
    "## Išplėstinė koreliacijų matrica. "
   ]
  },
  {
   "cell_type": "code",
   "execution_count": 7,
   "id": "atomic-omaha",
   "metadata": {
    "execution": {
     "iopub.execute_input": "2021-07-22T02:03:08.389802Z",
     "iopub.status.busy": "2021-07-22T02:03:08.389165Z",
     "iopub.status.idle": "2021-07-22T02:03:09.655608Z",
     "shell.execute_reply": "2021-07-22T02:03:09.654953Z"
    },
    "papermill": {
     "duration": 1.283423,
     "end_time": "2021-07-22T02:03:09.655771",
     "exception": false,
     "start_time": "2021-07-22T02:03:08.372348",
     "status": "completed"
    },
    "tags": []
   },
   "outputs": [
    {
     "data": {
      "image/png": "[encoded data removed]",
      "text/plain": [
       "<Figure size 1080x792 with 2 Axes>"
      ]
     },
     "metadata": {
      "needs_background": "light"
     },
     "output_type": "display_data"
    }
   ],
   "source": [
    "#hide_input\n",
    "plt.figure(figsize=(15, 11))\n",
    "sns.heatmap(df_all[sum_corr].corr(), annot=True, cmap=\"cubehelix\") \n",
    "sns.set(font_scale=1.25)\n",
    "plt.savefig('corr_matrix.png', format='eps')"
   ]
  },
  {
   "cell_type": "code",
   "execution_count": 8,
   "id": "arbitrary-sullivan",
   "metadata": {
    "execution": {
     "iopub.execute_input": "2021-07-22T02:03:09.689347Z",
     "iopub.status.busy": "2021-07-22T02:03:09.688769Z",
     "iopub.status.idle": "2021-07-22T02:03:09.718870Z",
     "shell.execute_reply": "2021-07-22T02:03:09.719254Z"
    },
    "papermill": {
     "duration": 0.048303,
     "end_time": "2021-07-22T02:03:09.719376",
     "exception": false,
     "start_time": "2021-07-22T02:03:09.671073",
     "status": "completed"
    },
    "tags": []
   },
   "outputs": [],
   "source": [
    "#hide\n",
    "#df_all_mrk = read_api()"
   ]
  },
  {
   "cell_type": "code",
   "execution_count": 9,
   "id": "delayed-adapter",
   "metadata": {
    "execution": {
     "iopub.execute_input": "2021-07-22T02:03:09.750954Z",
     "iopub.status.busy": "2021-07-22T02:03:09.750477Z",
     "iopub.status.idle": "2021-07-22T02:03:09.776195Z",
     "shell.execute_reply": "2021-07-22T02:03:09.775665Z"
    },
    "papermill": {
     "duration": 0.04278,
     "end_time": "2021-07-22T02:03:09.776317",
     "exception": false,
     "start_time": "2021-07-22T02:03:09.733537",
     "status": "completed"
    },
    "tags": []
   },
   "outputs": [],
   "source": [
    "#hide\n",
    "#Koreliacijų koeficientai"
   ]
  },
  {
   "cell_type": "code",
   "execution_count": 10,
   "id": "seeing-celebration",
   "metadata": {
    "execution": {
     "iopub.execute_input": "2021-07-22T02:03:09.808306Z",
     "iopub.status.busy": "2021-07-22T02:03:09.807768Z",
     "iopub.status.idle": "2021-07-22T02:03:09.835089Z",
     "shell.execute_reply": "2021-07-22T02:03:09.835694Z"
    },
    "papermill": {
     "duration": 0.044636,
     "end_time": "2021-07-22T02:03:09.835871",
     "exception": false,
     "start_time": "2021-07-22T02:03:09.791235",
     "status": "completed"
    },
    "tags": []
   },
   "outputs": [],
   "source": [
    "#hide_input\n",
    "#sum_corr = df_all_mrk.corr().sum().sort_values(ascending=True).index.values\n",
    "#df_all_mrk[sum_corr].corr()"
   ]
  },
  {
   "cell_type": "code",
   "execution_count": 11,
   "id": "other-painting",
   "metadata": {
    "execution": {
     "iopub.execute_input": "2021-07-22T02:03:09.878285Z",
     "iopub.status.busy": "2021-07-22T02:03:09.871183Z",
     "iopub.status.idle": "2021-07-22T02:03:09.897117Z",
     "shell.execute_reply": "2021-07-22T02:03:09.897701Z"
    },
    "papermill": {
     "duration": 0.04365,
     "end_time": "2021-07-22T02:03:09.897870",
     "exception": false,
     "start_time": "2021-07-22T02:03:09.854220",
     "status": "completed"
    },
    "tags": []
   },
   "outputs": [],
   "source": [
    "#hide\n",
    "#Koreliacijos matrica. "
   ]
  },
  {
   "cell_type": "code",
   "execution_count": 12,
   "id": "modular-magnitude",
   "metadata": {
    "execution": {
     "iopub.execute_input": "2021-07-22T02:03:09.934652Z",
     "iopub.status.busy": "2021-07-22T02:03:09.934077Z",
     "iopub.status.idle": "2021-07-22T02:03:09.957710Z",
     "shell.execute_reply": "2021-07-22T02:03:09.957102Z"
    },
    "papermill": {
     "duration": 0.044524,
     "end_time": "2021-07-22T02:03:09.957858",
     "exception": false,
     "start_time": "2021-07-22T02:03:09.913334",
     "status": "completed"
    },
    "tags": []
   },
   "outputs": [],
   "source": [
    "#hide_input\n",
    "#plt.figure(figsize=(15, 8))\n",
    "#sns.heatmap(df_all_mrk[sum_corr].corr(), annot=True, cmap=\"BrBG\");\n",
    "#plt.savefig('corr_matrix_all.eps', format='eps')"
   ]
  },
  {
   "cell_type": "code",
   "execution_count": null,
   "id": "original-senator",
   "metadata": {
    "papermill": {
     "duration": 0.014696,
     "end_time": "2021-07-22T02:03:09.987727",
     "exception": false,
     "start_time": "2021-07-22T02:03:09.973031",
     "status": "completed"
    },
    "tags": []
   },
   "outputs": [],
   "source": []
  },
  {
   "cell_type": "code",
   "execution_count": null,
   "id": "saving-secretariat",
   "metadata": {
    "papermill": {
     "duration": 0.013914,
     "end_time": "2021-07-22T02:03:10.015645",
     "exception": false,
     "start_time": "2021-07-22T02:03:10.001731",
     "status": "completed"
    },
    "tags": []
   },
   "outputs": [],
   "source": []
  }
 ],
 "metadata": {
  "kernelspec": {
   "display_name": "Python 3",
   "language": "python",
   "name": "python3"
  },
  "language_info": {
   "codemirror_mode": {
    "name": "ipython",
    "version": 3
   },
   "file_extension": ".py",
   "mimetype": "text/x-python",
   "name": "python",
   "nbconvert_exporter": "python",
   "pygments_lexer": "ipython3",
   "version": "3.6.14"
  },
  "papermill": {
   "default_parameters": {},
   "duration": 22.316832,
   "end_time": "2021-07-22T02:03:11.539241",
   "environment_variables": {},
   "exception": null,
   "input_path": "App-Correlation_charts.ipynb",
   "output_path": "App-Correlation_charts.ipynb",
   "parameters": {},
   "start_time": "2021-07-22T02:02:49.222409",
   "version": "2.2.2"
  }
 },
 "nbformat": 4,
 "nbformat_minor": 5
}