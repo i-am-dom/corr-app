{
 "cells": [
  {
   "cell_type": "markdown",
   "id": "touched-facility",
   "metadata": {
    "papermill": {
     "duration": 0.018327,
     "end_time": "2021-12-20T02:04:57.420926",
     "exception": false,
     "start_time": "2021-12-20T02:04:57.402599",
     "status": "completed"
    },
    "tags": []
   },
   "source": [
    "# Koreliacijų matrica\n",
    "> Išplėstinė koreliacijų matrica. \n",
    "\n",
    "- toc: true \n",
    "- badges: true\n",
    "- comments: false\n",
    "- categories: [Dominykas Tautkus]\n",
    "- image: images/matrix.png"
   ]
  },
  {
   "cell_type": "code",
   "execution_count": null,
   "id": "premium-weekend",
   "metadata": {
    "papermill": {
     "duration": 0.014965,
     "end_time": "2021-12-20T02:04:57.451649",
     "exception": false,
     "start_time": "2021-12-20T02:04:57.436684",
     "status": "completed"
    },
    "tags": []
   },
   "outputs": [],
   "source": []
  },
  {
   "cell_type": "code",
   "execution_count": 1,
   "id": "vertical-rebate",
   "metadata": {
    "execution": {
     "iopub.execute_input": "2021-12-20T02:04:57.495176Z",
     "iopub.status.busy": "2021-12-20T02:04:57.494408Z",
     "iopub.status.idle": "2021-12-20T02:04:57.506803Z",
     "shell.execute_reply": "2021-12-20T02:04:57.506208Z"
    },
    "papermill": {
     "duration": 0.040008,
     "end_time": "2021-12-20T02:04:57.506978",
     "exception": false,
     "start_time": "2021-12-20T02:04:57.466970",
     "status": "completed"
    },
    "tags": []
   },
   "outputs": [],
   "source": [
    "#hide\n",
    "%load_ext autoreload\n",
    "%autoreload 2"
   ]
  },
  {
   "cell_type": "code",
   "execution_count": 2,
   "id": "overall-advancement",
   "metadata": {
    "execution": {
     "iopub.execute_input": "2021-12-20T02:04:57.539650Z",
     "iopub.status.busy": "2021-12-20T02:04:57.538929Z",
     "iopub.status.idle": "2021-12-20T02:04:59.153887Z",
     "shell.execute_reply": "2021-12-20T02:04:59.153176Z"
    },
    "papermill": {
     "duration": 1.633077,
     "end_time": "2021-12-20T02:04:59.154066",
     "exception": false,
     "start_time": "2021-12-20T02:04:57.520989",
     "status": "completed"
    },
    "tags": []
   },
   "outputs": [],
   "source": [
    "#hide\n",
    "from scripts.read_data import read_api\n",
    "from IPython.display import HTML\n",
    "import plotly.graph_objects as go\n"
   ]
  },
  {
   "cell_type": "code",
   "execution_count": 3,
   "id": "light-crazy",
   "metadata": {
    "execution": {
     "iopub.execute_input": "2021-12-20T02:04:59.188608Z",
     "iopub.status.busy": "2021-12-20T02:04:59.187723Z",
     "iopub.status.idle": "2021-12-20T02:04:59.215103Z",
     "shell.execute_reply": "2021-12-20T02:04:59.214510Z"
    },
    "papermill": {
     "duration": 0.045967,
     "end_time": "2021-12-20T02:04:59.215240",
     "exception": false,
     "start_time": "2021-12-20T02:04:59.169273",
     "status": "completed"
    },
    "tags": []
   },
   "outputs": [],
   "source": [
    "#hide\n",
    "### ICO koreliacija"
   ]
  },
  {
   "cell_type": "code",
   "execution_count": 4,
   "id": "likely-bahrain",
   "metadata": {
    "execution": {
     "iopub.execute_input": "2021-12-20T02:04:59.256071Z",
     "iopub.status.busy": "2021-12-20T02:04:59.255366Z",
     "iopub.status.idle": "2021-12-20T02:05:00.440524Z",
     "shell.execute_reply": "2021-12-20T02:05:00.439913Z"
    },
    "papermill": {
     "duration": 1.203579,
     "end_time": "2021-12-20T02:05:00.440698",
     "exception": false,
     "start_time": "2021-12-20T02:04:59.237119",
     "status": "completed"
    },
    "tags": []
   },
   "outputs": [],
   "source": [
    "#hide\n",
    "import matplotlib.pyplot as plt\n",
    "import numpy as np\n",
    "import pandas as pd\n",
    "import seaborn as sns\n",
    "import matplotlib.pyplot as plt \n",
    "import matplotlib.dates as mdates\n",
    "import matplotlib.pyplot as plt"
   ]
  },
  {
   "cell_type": "code",
   "execution_count": 5,
   "id": "superior-blanket",
   "metadata": {
    "execution": {
     "iopub.execute_input": "2021-12-20T02:05:00.477041Z",
     "iopub.status.busy": "2021-12-20T02:05:00.476296Z",
     "iopub.status.idle": "2021-12-20T02:05:10.864659Z",
     "shell.execute_reply": "2021-12-20T02:05:10.863550Z"
    },
    "papermill": {
     "duration": 10.409111,
     "end_time": "2021-12-20T02:05:10.864850",
     "exception": false,
     "start_time": "2021-12-20T02:05:00.455739",
     "status": "completed"
    },
    "tags": []
   },
   "outputs": [
    {
     "name": "stderr",
     "output_type": "stream",
     "text": [
      "/home/runner/work/corr-app/corr-app/_notebooks/scripts/read_data.py:187: SettingWithCopyWarning:\n",
      "\n",
      "\n",
      "A value is trying to be set on a copy of a slice from a DataFrame.\n",
      "Try using .loc[row_indexer,col_indexer] = value instead\n",
      "\n",
      "See the caveats in the documentation: https://pandas.pydata.org/pandas-docs/stable/user_guide/indexing.html#returning-a-view-versus-a-copy\n",
      "\n"
     ]
    },
    {
     "name": "stderr",
     "output_type": "stream",
     "text": [
      "/home/runner/work/corr-app/corr-app/_notebooks/scripts/read_data.py:215: SettingWithCopyWarning:\n",
      "\n",
      "\n",
      "A value is trying to be set on a copy of a slice from a DataFrame.\n",
      "Try using .loc[row_indexer,col_indexer] = value instead\n",
      "\n",
      "See the caveats in the documentation: https://pandas.pydata.org/pandas-docs/stable/user_guide/indexing.html#returning-a-view-versus-a-copy\n",
      "\n"
     ]
    }
   ],
   "source": [
    "#hide\n",
    "df_all = read_api()\n",
    "#df_all = df_all.drop(['SP500', 'XAU', 'ETH', 'BTC'], axis=1)\n",
    "\n"
   ]
  },
  {
   "cell_type": "code",
   "execution_count": 6,
   "id": "mature-alert",
   "metadata": {
    "execution": {
     "iopub.execute_input": "2021-12-20T02:05:10.905171Z",
     "iopub.status.busy": "2021-12-20T02:05:10.898396Z",
     "iopub.status.idle": "2021-12-20T02:05:10.933613Z",
     "shell.execute_reply": "2021-12-20T02:05:10.932944Z"
    },
    "papermill": {
     "duration": 0.053562,
     "end_time": "2021-12-20T02:05:10.933751",
     "exception": false,
     "start_time": "2021-12-20T02:05:10.880189",
     "status": "completed"
    },
    "tags": []
   },
   "outputs": [],
   "source": [
    "#hide_input\n",
    "sum_corr = df_all.corr().sum().sort_values(ascending=True).index.values\n",
    "#df_all[sum_corr].corr()"
   ]
  },
  {
   "cell_type": "markdown",
   "id": "complex-syndicate",
   "metadata": {
    "papermill": {
     "duration": 0.014465,
     "end_time": "2021-12-20T02:05:10.963299",
     "exception": false,
     "start_time": "2021-12-20T02:05:10.948834",
     "status": "completed"
    },
    "tags": []
   },
   "source": [
    "## Išplėstinė koreliacijų matrica. "
   ]
  },
  {
   "cell_type": "code",
   "execution_count": 7,
   "id": "atomic-omaha",
   "metadata": {
    "execution": {
     "iopub.execute_input": "2021-12-20T02:05:10.999612Z",
     "iopub.status.busy": "2021-12-20T02:05:10.998872Z",
     "iopub.status.idle": "2021-12-20T02:05:12.790766Z",
     "shell.execute_reply": "2021-12-20T02:05:12.789828Z"
    },
    "papermill": {
     "duration": 1.812907,
     "end_time": "2021-12-20T02:05:12.791042",
     "exception": false,
     "start_time": "2021-12-20T02:05:10.978135",
     "status": "completed"
    },
    "tags": []
   },
   "outputs": [
    {
     "data": {
      "image/png": "[encoded data removed]",
      "text/plain": [
       "<Figure size 1080x792 with 2 Axes>"
      ]
     },
     "metadata": {
      "needs_background": "light"
     },
     "output_type": "display_data"
    }
   ],
   "source": [
    "#hide_input\n",
    "plt.figure(figsize=(15, 11))\n",
    "sns.heatmap(df_all[sum_corr].corr(), annot=True, cmap=\"cubehelix\") \n",
    "sns.set(font_scale=1.25)\n",
    "plt.savefig('corr_matrix.png', format='eps')"
   ]
  },
  {
   "cell_type": "code",
   "execution_count": 8,
   "id": "arbitrary-sullivan",
   "metadata": {
    "execution": {
     "iopub.execute_input": "2021-12-20T02:05:12.831373Z",
     "iopub.status.busy": "2021-12-20T02:05:12.830704Z",
     "iopub.status.idle": "2021-12-20T02:05:12.862835Z",
     "shell.execute_reply": "2021-12-20T02:05:12.862226Z"
    },
    "papermill": {
     "duration": 0.05218,
     "end_time": "2021-12-20T02:05:12.862971",
     "exception": false,
     "start_time": "2021-12-20T02:05:12.810791",
     "status": "completed"
    },
    "tags": []
   },
   "outputs": [],
   "source": [
    "#hide\n",
    "#df_all_mrk = read_api()"
   ]
  },
  {
   "cell_type": "code",
   "execution_count": 9,
   "id": "delayed-adapter",
   "metadata": {
    "execution": {
     "iopub.execute_input": "2021-12-20T02:05:12.913834Z",
     "iopub.status.busy": "2021-12-20T02:05:12.913140Z",
     "iopub.status.idle": "2021-12-20T02:05:12.943096Z",
     "shell.execute_reply": "2021-12-20T02:05:12.942319Z"
    },
    "papermill": {
     "duration": 0.054048,
     "end_time": "2021-12-20T02:05:12.943223",
     "exception": false,
     "start_time": "2021-12-20T02:05:12.889175",
     "status": "completed"
    },
    "tags": []
   },
   "outputs": [],
   "source": [
    "#hide\n",
    "#Koreliacijų koeficientai"
   ]
  },
  {
   "cell_type": "code",
   "execution_count": 10,
   "id": "seeing-celebration",
   "metadata": {
    "execution": {
     "iopub.execute_input": "2021-12-20T02:05:12.983382Z",
     "iopub.status.busy": "2021-12-20T02:05:12.982723Z",
     "iopub.status.idle": "2021-12-20T02:05:13.021910Z",
     "shell.execute_reply": "2021-12-20T02:05:13.021309Z"
    },
    "papermill": {
     "duration": 0.060682,
     "end_time": "2021-12-20T02:05:13.022079",
     "exception": false,
     "start_time": "2021-12-20T02:05:12.961397",
     "status": "completed"
    },
    "tags": []
   },
   "outputs": [],
   "source": [
    "#hide_input\n",
    "#sum_corr = df_all_mrk.corr().sum().sort_values(ascending=True).index.values\n",
    "#df_all_mrk[sum_corr].corr()"
   ]
  },
  {
   "cell_type": "code",
   "execution_count": 11,
   "id": "other-painting",
   "metadata": {
    "execution": {
     "iopub.execute_input": "2021-12-20T02:05:13.063314Z",
     "iopub.status.busy": "2021-12-20T02:05:13.062622Z",
     "iopub.status.idle": "2021-12-20T02:05:13.094271Z",
     "shell.execute_reply": "2021-12-20T02:05:13.093719Z"
    },
    "papermill": {
     "duration": 0.053618,
     "end_time": "2021-12-20T02:05:13.094451",
     "exception": false,
     "start_time": "2021-12-20T02:05:13.040833",
     "status": "completed"
    },
    "tags": []
   },
   "outputs": [],
   "source": [
    "#hide\n",
    "#Koreliacijos matrica. "
   ]
  },
  {
   "cell_type": "code",
   "execution_count": 12,
   "id": "modular-magnitude",
   "metadata": {
    "execution": {
     "iopub.execute_input": "2021-12-20T02:05:13.140287Z",
     "iopub.status.busy": "2021-12-20T02:05:13.139469Z",
     "iopub.status.idle": "2021-12-20T02:05:13.169691Z",
     "shell.execute_reply": "2021-12-20T02:05:13.170386Z"
    },
    "papermill": {
     "duration": 0.05527,
     "end_time": "2021-12-20T02:05:13.170625",
     "exception": false,
     "start_time": "2021-12-20T02:05:13.115355",
     "status": "completed"
    },
    "tags": []
   },
   "outputs": [],
   "source": [
    "#hide_input\n",
    "#plt.figure(figsize=(15, 8))\n",
    "#sns.heatmap(df_all_mrk[sum_corr].corr(), annot=True, cmap=\"BrBG\");\n",
    "#plt.savefig('corr_matrix_all.eps', format='eps')"
   ]
  },
  {
   "cell_type": "code",
   "execution_count": null,
   "id": "original-senator",
   "metadata": {
    "papermill": {
     "duration": 0.016164,
     "end_time": "2021-12-20T02:05:13.204143",
     "exception": false,
     "start_time": "2021-12-20T02:05:13.187979",
     "status": "completed"
    },
    "tags": []
   },
   "outputs": [],
   "source": []
  },
  {
   "cell_type": "code",
   "execution_count": null,
   "id": "saving-secretariat",
   "metadata": {
    "papermill": {
     "duration": 0.015848,
     "end_time": "2021-12-20T02:05:13.237110",
     "exception": false,
     "start_time": "2021-12-20T02:05:13.221262",
     "status": "completed"
    },
    "tags": []
   },
   "outputs": [],
   "source": []
  }
 ],
 "metadata": {
  "kernelspec": {
   "display_name": "Python 3",
   "language": "python",
   "name": "python3"
  },
  "language_info": {
   "codemirror_mode": {
    "name": "ipython",
    "version": 3
   },
   "file_extension": ".py",
   "mimetype": "text/x-python",
   "name": "python",
   "nbconvert_exporter": "python",
   "pygments_lexer": "ipython3",
   "version": "3.6.15"
  },
  "papermill": {
   "default_parameters": {},
   "duration": 17.705247,
   "end_time": "2021-12-20T02:05:13.766307",
   "environment_variables": {},
   "exception": null,
   "input_path": "App-Correlation_charts.ipynb",
   "output_path": "App-Correlation_charts.ipynb",
   "parameters": {},
   "start_time": "2021-12-20T02:04:56.061060",
   "version": "2.2.2"
  }
 },
 "nbformat": 4,
 "nbformat_minor": 5
}