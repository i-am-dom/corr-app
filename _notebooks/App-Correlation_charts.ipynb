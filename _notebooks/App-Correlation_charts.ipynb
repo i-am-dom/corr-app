{
 "cells": [
  {
   "cell_type": "markdown",
   "id": "touched-facility",
   "metadata": {
    "papermill": {
     "duration": 0.017775,
     "end_time": "2022-02-18T02:05:15.332635",
     "exception": false,
     "start_time": "2022-02-18T02:05:15.314860",
     "status": "completed"
    },
    "tags": []
   },
   "source": [
    "# Koreliacijų matrica\n",
    "> Išplėstinė koreliacijų matrica. \n",
    "\n",
    "- toc: true \n",
    "- badges: true\n",
    "- comments: false\n",
    "- categories: [Dominykas Tautkus]\n",
    "- image: images/matrix.png"
   ]
  },
  {
   "cell_type": "code",
   "execution_count": null,
   "id": "premium-weekend",
   "metadata": {
    "papermill": {
     "duration": 0.012786,
     "end_time": "2022-02-18T02:05:15.359279",
     "exception": false,
     "start_time": "2022-02-18T02:05:15.346493",
     "status": "completed"
    },
    "tags": []
   },
   "outputs": [],
   "source": []
  },
  {
   "cell_type": "code",
   "execution_count": 1,
   "id": "vertical-rebate",
   "metadata": {
    "execution": {
     "iopub.execute_input": "2022-02-18T02:05:15.398597Z",
     "iopub.status.busy": "2022-02-18T02:05:15.397694Z",
     "iopub.status.idle": "2022-02-18T02:05:15.409582Z",
     "shell.execute_reply": "2022-02-18T02:05:15.410235Z"
    },
    "papermill": {
     "duration": 0.036928,
     "end_time": "2022-02-18T02:05:15.410408",
     "exception": false,
     "start_time": "2022-02-18T02:05:15.373480",
     "status": "completed"
    },
    "tags": []
   },
   "outputs": [],
   "source": [
    "#hide\n",
    "%load_ext autoreload\n",
    "%autoreload 2"
   ]
  },
  {
   "cell_type": "code",
   "execution_count": 2,
   "id": "overall-advancement",
   "metadata": {
    "execution": {
     "iopub.execute_input": "2022-02-18T02:05:15.441071Z",
     "iopub.status.busy": "2022-02-18T02:05:15.440228Z",
     "iopub.status.idle": "2022-02-18T02:05:17.038435Z",
     "shell.execute_reply": "2022-02-18T02:05:17.037809Z"
    },
    "papermill": {
     "duration": 1.61437,
     "end_time": "2022-02-18T02:05:17.038566",
     "exception": false,
     "start_time": "2022-02-18T02:05:15.424196",
     "status": "completed"
    },
    "tags": []
   },
   "outputs": [],
   "source": [
    "#hide\n",
    "from scripts.read_data import read_api\n",
    "from IPython.display import HTML\n",
    "import plotly.graph_objects as go\n"
   ]
  },
  {
   "cell_type": "code",
   "execution_count": 3,
   "id": "light-crazy",
   "metadata": {
    "execution": {
     "iopub.execute_input": "2022-02-18T02:05:17.072305Z",
     "iopub.status.busy": "2022-02-18T02:05:17.071637Z",
     "iopub.status.idle": "2022-02-18T02:05:17.099174Z",
     "shell.execute_reply": "2022-02-18T02:05:17.098523Z"
    },
    "papermill": {
     "duration": 0.04658,
     "end_time": "2022-02-18T02:05:17.099340",
     "exception": false,
     "start_time": "2022-02-18T02:05:17.052760",
     "status": "completed"
    },
    "tags": []
   },
   "outputs": [],
   "source": [
    "#hide\n",
    "### ICO koreliacija"
   ]
  },
  {
   "cell_type": "code",
   "execution_count": 4,
   "id": "likely-bahrain",
   "metadata": {
    "execution": {
     "iopub.execute_input": "2022-02-18T02:05:17.130570Z",
     "iopub.status.busy": "2022-02-18T02:05:17.129642Z",
     "iopub.status.idle": "2022-02-18T02:05:18.176007Z",
     "shell.execute_reply": "2022-02-18T02:05:18.175505Z"
    },
    "papermill": {
     "duration": 1.063733,
     "end_time": "2022-02-18T02:05:18.176139",
     "exception": false,
     "start_time": "2022-02-18T02:05:17.112406",
     "status": "completed"
    },
    "tags": []
   },
   "outputs": [],
   "source": [
    "#hide\n",
    "import matplotlib.pyplot as plt\n",
    "import numpy as np\n",
    "import pandas as pd\n",
    "import seaborn as sns\n",
    "import matplotlib.pyplot as plt \n",
    "import matplotlib.dates as mdates\n",
    "import matplotlib.pyplot as plt"
   ]
  },
  {
   "cell_type": "code",
   "execution_count": 5,
   "id": "superior-blanket",
   "metadata": {
    "execution": {
     "iopub.execute_input": "2022-02-18T02:05:18.208278Z",
     "iopub.status.busy": "2022-02-18T02:05:18.207673Z",
     "iopub.status.idle": "2022-02-18T02:05:28.811817Z",
     "shell.execute_reply": "2022-02-18T02:05:28.810893Z"
    },
    "papermill": {
     "duration": 10.62248,
     "end_time": "2022-02-18T02:05:28.811958",
     "exception": false,
     "start_time": "2022-02-18T02:05:18.189478",
     "status": "completed"
    },
    "tags": []
   },
   "outputs": [
    {
     "name": "stderr",
     "output_type": "stream",
     "text": [
      "/home/runner/work/corr-app/corr-app/_notebooks/scripts/read_data.py:187: SettingWithCopyWarning:\n",
      "\n",
      "\n",
      "A value is trying to be set on a copy of a slice from a DataFrame.\n",
      "Try using .loc[row_indexer,col_indexer] = value instead\n",
      "\n",
      "See the caveats in the documentation: https://pandas.pydata.org/pandas-docs/stable/user_guide/indexing.html#returning-a-view-versus-a-copy\n",
      "\n"
     ]
    },
    {
     "name": "stderr",
     "output_type": "stream",
     "text": [
      "/home/runner/work/corr-app/corr-app/_notebooks/scripts/read_data.py:215: SettingWithCopyWarning:\n",
      "\n",
      "\n",
      "A value is trying to be set on a copy of a slice from a DataFrame.\n",
      "Try using .loc[row_indexer,col_indexer] = value instead\n",
      "\n",
      "See the caveats in the documentation: https://pandas.pydata.org/pandas-docs/stable/user_guide/indexing.html#returning-a-view-versus-a-copy\n",
      "\n"
     ]
    }
   ],
   "source": [
    "#hide\n",
    "df_all = read_api()\n",
    "#df_all = df_all.drop(['SP500', 'XAU', 'ETH', 'BTC'], axis=1)\n",
    "\n"
   ]
  },
  {
   "cell_type": "code",
   "execution_count": 6,
   "id": "mature-alert",
   "metadata": {
    "execution": {
     "iopub.execute_input": "2022-02-18T02:05:28.846610Z",
     "iopub.status.busy": "2022-02-18T02:05:28.845936Z",
     "iopub.status.idle": "2022-02-18T02:05:28.878829Z",
     "shell.execute_reply": "2022-02-18T02:05:28.879288Z"
    },
    "papermill": {
     "duration": 0.051206,
     "end_time": "2022-02-18T02:05:28.879440",
     "exception": false,
     "start_time": "2022-02-18T02:05:28.828234",
     "status": "completed"
    },
    "tags": []
   },
   "outputs": [],
   "source": [
    "#hide_input\n",
    "sum_corr = df_all.corr().sum().sort_values(ascending=True).index.values\n",
    "#df_all[sum_corr].corr()"
   ]
  },
  {
   "cell_type": "markdown",
   "id": "complex-syndicate",
   "metadata": {
    "papermill": {
     "duration": 0.014719,
     "end_time": "2022-02-18T02:05:28.910344",
     "exception": false,
     "start_time": "2022-02-18T02:05:28.895625",
     "status": "completed"
    },
    "tags": []
   },
   "source": [
    "## Išplėstinė koreliacijų matrica. "
   ]
  },
  {
   "cell_type": "code",
   "execution_count": 7,
   "id": "atomic-omaha",
   "metadata": {
    "execution": {
     "iopub.execute_input": "2022-02-18T02:05:28.948627Z",
     "iopub.status.busy": "2022-02-18T02:05:28.947990Z",
     "iopub.status.idle": "2022-02-18T02:05:30.733074Z",
     "shell.execute_reply": "2022-02-18T02:05:30.733606Z"
    },
    "papermill": {
     "duration": 1.809043,
     "end_time": "2022-02-18T02:05:30.733773",
     "exception": false,
     "start_time": "2022-02-18T02:05:28.924730",
     "status": "completed"
    },
    "tags": []
   },
   "outputs": [
    {
     "data": {
      "image/png": "[encoded data removed]",
      "text/plain": [
       "<Figure size 1080x792 with 2 Axes>"
      ]
     },
     "metadata": {
      "needs_background": "light"
     },
     "output_type": "display_data"
    }
   ],
   "source": [
    "#hide_input\n",
    "plt.figure(figsize=(15, 11))\n",
    "sns.heatmap(df_all[sum_corr].corr(), annot=True, cmap=\"cubehelix\") \n",
    "sns.set(font_scale=1.25)\n",
    "plt.savefig('corr_matrix.png', format='eps')"
   ]
  },
  {
   "cell_type": "code",
   "execution_count": 8,
   "id": "arbitrary-sullivan",
   "metadata": {
    "execution": {
     "iopub.execute_input": "2022-02-18T02:05:30.777164Z",
     "iopub.status.busy": "2022-02-18T02:05:30.776399Z",
     "iopub.status.idle": "2022-02-18T02:05:30.805465Z",
     "shell.execute_reply": "2022-02-18T02:05:30.805968Z"
    },
    "papermill": {
     "duration": 0.055072,
     "end_time": "2022-02-18T02:05:30.806110",
     "exception": false,
     "start_time": "2022-02-18T02:05:30.751038",
     "status": "completed"
    },
    "tags": []
   },
   "outputs": [],
   "source": [
    "#hide\n",
    "#df_all_mrk = read_api()"
   ]
  },
  {
   "cell_type": "code",
   "execution_count": 9,
   "id": "delayed-adapter",
   "metadata": {
    "execution": {
     "iopub.execute_input": "2022-02-18T02:05:30.842184Z",
     "iopub.status.busy": "2022-02-18T02:05:30.841546Z",
     "iopub.status.idle": "2022-02-18T02:05:30.870831Z",
     "shell.execute_reply": "2022-02-18T02:05:30.870343Z"
    },
    "papermill": {
     "duration": 0.049909,
     "end_time": "2022-02-18T02:05:30.870971",
     "exception": false,
     "start_time": "2022-02-18T02:05:30.821062",
     "status": "completed"
    },
    "tags": []
   },
   "outputs": [],
   "source": [
    "#hide\n",
    "#Koreliacijų koeficientai"
   ]
  },
  {
   "cell_type": "code",
   "execution_count": 10,
   "id": "seeing-celebration",
   "metadata": {
    "execution": {
     "iopub.execute_input": "2022-02-18T02:05:30.910858Z",
     "iopub.status.busy": "2022-02-18T02:05:30.910226Z",
     "iopub.status.idle": "2022-02-18T02:05:30.935829Z",
     "shell.execute_reply": "2022-02-18T02:05:30.935188Z"
    },
    "papermill": {
     "duration": 0.047236,
     "end_time": "2022-02-18T02:05:30.935946",
     "exception": false,
     "start_time": "2022-02-18T02:05:30.888710",
     "status": "completed"
    },
    "tags": []
   },
   "outputs": [],
   "source": [
    "#hide_input\n",
    "#sum_corr = df_all_mrk.corr().sum().sort_values(ascending=True).index.values\n",
    "#df_all_mrk[sum_corr].corr()"
   ]
  },
  {
   "cell_type": "code",
   "execution_count": 11,
   "id": "other-painting",
   "metadata": {
    "execution": {
     "iopub.execute_input": "2022-02-18T02:05:30.972138Z",
     "iopub.status.busy": "2022-02-18T02:05:30.971550Z",
     "iopub.status.idle": "2022-02-18T02:05:30.998530Z",
     "shell.execute_reply": "2022-02-18T02:05:30.998986Z"
    },
    "papermill": {
     "duration": 0.046905,
     "end_time": "2022-02-18T02:05:30.999120",
     "exception": false,
     "start_time": "2022-02-18T02:05:30.952215",
     "status": "completed"
    },
    "tags": []
   },
   "outputs": [],
   "source": [
    "#hide\n",
    "#Koreliacijos matrica. "
   ]
  },
  {
   "cell_type": "code",
   "execution_count": 12,
   "id": "modular-magnitude",
   "metadata": {
    "execution": {
     "iopub.execute_input": "2022-02-18T02:05:31.034849Z",
     "iopub.status.busy": "2022-02-18T02:05:31.034251Z",
     "iopub.status.idle": "2022-02-18T02:05:31.064165Z",
     "shell.execute_reply": "2022-02-18T02:05:31.064711Z"
    },
    "papermill": {
     "duration": 0.049613,
     "end_time": "2022-02-18T02:05:31.064939",
     "exception": false,
     "start_time": "2022-02-18T02:05:31.015326",
     "status": "completed"
    },
    "tags": []
   },
   "outputs": [],
   "source": [
    "#hide_input\n",
    "#plt.figure(figsize=(15, 8))\n",
    "#sns.heatmap(df_all_mrk[sum_corr].corr(), annot=True, cmap=\"BrBG\");\n",
    "#plt.savefig('corr_matrix_all.eps', format='eps')"
   ]
  },
  {
   "cell_type": "code",
   "execution_count": null,
   "id": "original-senator",
   "metadata": {
    "papermill": {
     "duration": 0.015355,
     "end_time": "2022-02-18T02:05:31.097360",
     "exception": false,
     "start_time": "2022-02-18T02:05:31.082005",
     "status": "completed"
    },
    "tags": []
   },
   "outputs": [],
   "source": []
  },
  {
   "cell_type": "code",
   "execution_count": null,
   "id": "saving-secretariat",
   "metadata": {
    "papermill": {
     "duration": 0.015739,
     "end_time": "2022-02-18T02:05:31.128706",
     "exception": false,
     "start_time": "2022-02-18T02:05:31.112967",
     "status": "completed"
    },
    "tags": []
   },
   "outputs": [],
   "source": []
  }
 ],
 "metadata": {
  "kernelspec": {
   "display_name": "Python 3",
   "language": "python",
   "name": "python3"
  },
  "language_info": {
   "codemirror_mode": {
    "name": "ipython",
    "version": 3
   },
   "file_extension": ".py",
   "mimetype": "text/x-python",
   "name": "python",
   "nbconvert_exporter": "python",
   "pygments_lexer": "ipython3",
   "version": "3.6.15"
  },
  "papermill": {
   "default_parameters": {},
   "duration": 17.656265,
   "end_time": "2022-02-18T02:05:31.665544",
   "environment_variables": {},
   "exception": null,
   "input_path": "App-Correlation_charts.ipynb",
   "output_path": "App-Correlation_charts.ipynb",
   "parameters": {},
   "start_time": "2022-02-18T02:05:14.009279",
   "version": "2.2.2"
  }
 },
 "nbformat": 4,
 "nbformat_minor": 5
}