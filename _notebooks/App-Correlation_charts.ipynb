{
 "cells": [
  {
   "cell_type": "markdown",
   "id": "touched-facility",
   "metadata": {
    "papermill": {
     "duration": 0.019485,
     "end_time": "2022-10-30T03:22:47.848357",
     "exception": false,
     "start_time": "2022-10-30T03:22:47.828872",
     "status": "completed"
    },
    "tags": []
   },
   "source": [
    "# Koreliacijų matrica\n",
    "> Išplėstinė koreliacijų matrica. \n",
    "\n",
    "- toc: true \n",
    "- badges: true\n",
    "- comments: false\n",
    "- categories: [Dominykas Tautkus]\n",
    "- image: images/matrix.png"
   ]
  },
  {
   "cell_type": "code",
   "execution_count": null,
   "id": "premium-weekend",
   "metadata": {
    "papermill": {
     "duration": 0.01394,
     "end_time": "2022-10-30T03:22:47.877184",
     "exception": false,
     "start_time": "2022-10-30T03:22:47.863244",
     "status": "completed"
    },
    "tags": []
   },
   "outputs": [],
   "source": []
  },
  {
   "cell_type": "code",
   "execution_count": 1,
   "id": "vertical-rebate",
   "metadata": {
    "execution": {
     "iopub.execute_input": "2022-10-30T03:22:47.919634Z",
     "iopub.status.busy": "2022-10-30T03:22:47.918915Z",
     "iopub.status.idle": "2022-10-30T03:22:47.932634Z",
     "shell.execute_reply": "2022-10-30T03:22:47.931948Z"
    },
    "papermill": {
     "duration": 0.041647,
     "end_time": "2022-10-30T03:22:47.932821",
     "exception": false,
     "start_time": "2022-10-30T03:22:47.891174",
     "status": "completed"
    },
    "tags": []
   },
   "outputs": [],
   "source": [
    "#hide\n",
    "%load_ext autoreload\n",
    "%autoreload 2"
   ]
  },
  {
   "cell_type": "code",
   "execution_count": 2,
   "id": "overall-advancement",
   "metadata": {
    "execution": {
     "iopub.execute_input": "2022-10-30T03:22:47.968540Z",
     "iopub.status.busy": "2022-10-30T03:22:47.967830Z",
     "iopub.status.idle": "2022-10-30T03:22:49.538261Z",
     "shell.execute_reply": "2022-10-30T03:22:49.537581Z"
    },
    "papermill": {
     "duration": 1.59116,
     "end_time": "2022-10-30T03:22:49.538409",
     "exception": false,
     "start_time": "2022-10-30T03:22:47.947249",
     "status": "completed"
    },
    "tags": []
   },
   "outputs": [],
   "source": [
    "#hide\n",
    "from scripts.read_data import read_api\n",
    "from IPython.display import HTML\n",
    "import plotly.graph_objects as go\n"
   ]
  },
  {
   "cell_type": "code",
   "execution_count": 3,
   "id": "light-crazy",
   "metadata": {
    "execution": {
     "iopub.execute_input": "2022-10-30T03:22:49.576315Z",
     "iopub.status.busy": "2022-10-30T03:22:49.575455Z",
     "iopub.status.idle": "2022-10-30T03:22:49.604943Z",
     "shell.execute_reply": "2022-10-30T03:22:49.605841Z"
    },
    "papermill": {
     "duration": 0.051944,
     "end_time": "2022-10-30T03:22:49.606015",
     "exception": false,
     "start_time": "2022-10-30T03:22:49.554071",
     "status": "completed"
    },
    "tags": []
   },
   "outputs": [],
   "source": [
    "#hide\n",
    "### ICO koreliacija"
   ]
  },
  {
   "cell_type": "code",
   "execution_count": 4,
   "id": "likely-bahrain",
   "metadata": {
    "execution": {
     "iopub.execute_input": "2022-10-30T03:22:49.642248Z",
     "iopub.status.busy": "2022-10-30T03:22:49.641518Z",
     "iopub.status.idle": "2022-10-30T03:22:50.744841Z",
     "shell.execute_reply": "2022-10-30T03:22:50.745591Z"
    },
    "papermill": {
     "duration": 1.123472,
     "end_time": "2022-10-30T03:22:50.745808",
     "exception": false,
     "start_time": "2022-10-30T03:22:49.622336",
     "status": "completed"
    },
    "tags": []
   },
   "outputs": [],
   "source": [
    "#hide\n",
    "import matplotlib.pyplot as plt\n",
    "import numpy as np\n",
    "import pandas as pd\n",
    "import seaborn as sns\n",
    "import matplotlib.pyplot as plt \n",
    "import matplotlib.dates as mdates\n",
    "import matplotlib.pyplot as plt"
   ]
  },
  {
   "cell_type": "code",
   "execution_count": 5,
   "id": "superior-blanket",
   "metadata": {
    "execution": {
     "iopub.execute_input": "2022-10-30T03:22:50.789911Z",
     "iopub.status.busy": "2022-10-30T03:22:50.786725Z",
     "iopub.status.idle": "2022-10-30T03:23:04.458289Z",
     "shell.execute_reply": "2022-10-30T03:23:04.459020Z"
    },
    "papermill": {
     "duration": 13.698044,
     "end_time": "2022-10-30T03:23:04.459216",
     "exception": false,
     "start_time": "2022-10-30T03:22:50.761172",
     "status": "completed"
    },
    "tags": []
   },
   "outputs": [
    {
     "name": "stderr",
     "output_type": "stream",
     "text": [
      "/home/runner/work/corr-app/corr-app/_notebooks/scripts/read_data.py:187: SettingWithCopyWarning:\n",
      "\n",
      "\n",
      "A value is trying to be set on a copy of a slice from a DataFrame.\n",
      "Try using .loc[row_indexer,col_indexer] = value instead\n",
      "\n",
      "See the caveats in the documentation: https://pandas.pydata.org/pandas-docs/stable/user_guide/indexing.html#returning-a-view-versus-a-copy\n",
      "\n"
     ]
    },
    {
     "name": "stderr",
     "output_type": "stream",
     "text": [
      "/home/runner/work/corr-app/corr-app/_notebooks/scripts/read_data.py:215: SettingWithCopyWarning:\n",
      "\n",
      "\n",
      "A value is trying to be set on a copy of a slice from a DataFrame.\n",
      "Try using .loc[row_indexer,col_indexer] = value instead\n",
      "\n",
      "See the caveats in the documentation: https://pandas.pydata.org/pandas-docs/stable/user_guide/indexing.html#returning-a-view-versus-a-copy\n",
      "\n"
     ]
    }
   ],
   "source": [
    "#hide\n",
    "df_all = read_api()\n",
    "#df_all = df_all.drop(['SP500', 'XAU', 'ETH', 'BTC'], axis=1)\n",
    "\n"
   ]
  },
  {
   "cell_type": "code",
   "execution_count": 6,
   "id": "mature-alert",
   "metadata": {
    "execution": {
     "iopub.execute_input": "2022-10-30T03:23:04.499993Z",
     "iopub.status.busy": "2022-10-30T03:23:04.499260Z",
     "iopub.status.idle": "2022-10-30T03:23:04.540068Z",
     "shell.execute_reply": "2022-10-30T03:23:04.539362Z"
    },
    "papermill": {
     "duration": 0.063901,
     "end_time": "2022-10-30T03:23:04.540281",
     "exception": false,
     "start_time": "2022-10-30T03:23:04.476380",
     "status": "completed"
    },
    "tags": []
   },
   "outputs": [],
   "source": [
    "#hide_input\n",
    "sum_corr = df_all.corr().sum().sort_values(ascending=True).index.values\n",
    "#df_all[sum_corr].corr()"
   ]
  },
  {
   "cell_type": "markdown",
   "id": "complex-syndicate",
   "metadata": {
    "papermill": {
     "duration": 0.016027,
     "end_time": "2022-10-30T03:23:04.572582",
     "exception": false,
     "start_time": "2022-10-30T03:23:04.556555",
     "status": "completed"
    },
    "tags": []
   },
   "source": [
    "## Išplėstinė koreliacijų matrica. "
   ]
  },
  {
   "cell_type": "code",
   "execution_count": 7,
   "id": "atomic-omaha",
   "metadata": {
    "execution": {
     "iopub.execute_input": "2022-10-30T03:23:04.610255Z",
     "iopub.status.busy": "2022-10-30T03:23:04.609200Z",
     "iopub.status.idle": "2022-10-30T03:23:06.364863Z",
     "shell.execute_reply": "2022-10-30T03:23:06.364140Z"
    },
    "papermill": {
     "duration": 1.77686,
     "end_time": "2022-10-30T03:23:06.365018",
     "exception": false,
     "start_time": "2022-10-30T03:23:04.588158",
     "status": "completed"
    },
    "tags": []
   },
   "outputs": [
    {
     "data": {
      "image/png": "[encoded data removed]",
      "text/plain": [
       "<Figure size 1080x792 with 2 Axes>"
      ]
     },
     "metadata": {
      "needs_background": "light"
     },
     "output_type": "display_data"
    }
   ],
   "source": [
    "#hide_input\n",
    "plt.figure(figsize=(15, 11))\n",
    "sns.heatmap(df_all[sum_corr].corr(), annot=True, cmap=\"cubehelix\") \n",
    "sns.set(font_scale=1.25)\n",
    "plt.savefig('corr_matrix.png', format='eps')"
   ]
  },
  {
   "cell_type": "code",
   "execution_count": 8,
   "id": "arbitrary-sullivan",
   "metadata": {
    "execution": {
     "iopub.execute_input": "2022-10-30T03:23:06.407673Z",
     "iopub.status.busy": "2022-10-30T03:23:06.406882Z",
     "iopub.status.idle": "2022-10-30T03:23:06.441849Z",
     "shell.execute_reply": "2022-10-30T03:23:06.441153Z"
    },
    "papermill": {
     "duration": 0.05869,
     "end_time": "2022-10-30T03:23:06.442012",
     "exception": false,
     "start_time": "2022-10-30T03:23:06.383322",
     "status": "completed"
    },
    "tags": []
   },
   "outputs": [],
   "source": [
    "#hide\n",
    "#df_all_mrk = read_api()"
   ]
  },
  {
   "cell_type": "code",
   "execution_count": 9,
   "id": "delayed-adapter",
   "metadata": {
    "execution": {
     "iopub.execute_input": "2022-10-30T03:23:06.483851Z",
     "iopub.status.busy": "2022-10-30T03:23:06.483048Z",
     "iopub.status.idle": "2022-10-30T03:23:06.520000Z",
     "shell.execute_reply": "2022-10-30T03:23:06.519403Z"
    },
    "papermill": {
     "duration": 0.060037,
     "end_time": "2022-10-30T03:23:06.520168",
     "exception": false,
     "start_time": "2022-10-30T03:23:06.460131",
     "status": "completed"
    },
    "tags": []
   },
   "outputs": [],
   "source": [
    "#hide\n",
    "#Koreliacijų koeficientai"
   ]
  },
  {
   "cell_type": "code",
   "execution_count": 10,
   "id": "seeing-celebration",
   "metadata": {
    "execution": {
     "iopub.execute_input": "2022-10-30T03:23:06.562228Z",
     "iopub.status.busy": "2022-10-30T03:23:06.561391Z",
     "iopub.status.idle": "2022-10-30T03:23:06.598617Z",
     "shell.execute_reply": "2022-10-30T03:23:06.597914Z"
    },
    "papermill": {
     "duration": 0.060491,
     "end_time": "2022-10-30T03:23:06.598772",
     "exception": false,
     "start_time": "2022-10-30T03:23:06.538281",
     "status": "completed"
    },
    "tags": []
   },
   "outputs": [],
   "source": [
    "#hide_input\n",
    "#sum_corr = df_all_mrk.corr().sum().sort_values(ascending=True).index.values\n",
    "#df_all_mrk[sum_corr].corr()"
   ]
  },
  {
   "cell_type": "code",
   "execution_count": 11,
   "id": "other-painting",
   "metadata": {
    "execution": {
     "iopub.execute_input": "2022-10-30T03:23:06.639842Z",
     "iopub.status.busy": "2022-10-30T03:23:06.639011Z",
     "iopub.status.idle": "2022-10-30T03:23:06.674647Z",
     "shell.execute_reply": "2022-10-30T03:23:06.673963Z"
    },
    "papermill": {
     "duration": 0.058261,
     "end_time": "2022-10-30T03:23:06.674816",
     "exception": false,
     "start_time": "2022-10-30T03:23:06.616555",
     "status": "completed"
    },
    "tags": []
   },
   "outputs": [],
   "source": [
    "#hide\n",
    "#Koreliacijos matrica. "
   ]
  },
  {
   "cell_type": "code",
   "execution_count": 12,
   "id": "modular-magnitude",
   "metadata": {
    "execution": {
     "iopub.execute_input": "2022-10-30T03:23:06.720598Z",
     "iopub.status.busy": "2022-10-30T03:23:06.719775Z",
     "iopub.status.idle": "2022-10-30T03:23:06.752975Z",
     "shell.execute_reply": "2022-10-30T03:23:06.753554Z"
    },
    "papermill": {
     "duration": 0.060745,
     "end_time": "2022-10-30T03:23:06.753754",
     "exception": false,
     "start_time": "2022-10-30T03:23:06.693009",
     "status": "completed"
    },
    "tags": []
   },
   "outputs": [],
   "source": [
    "#hide_input\n",
    "#plt.figure(figsize=(15, 8))\n",
    "#sns.heatmap(df_all_mrk[sum_corr].corr(), annot=True, cmap=\"BrBG\");\n",
    "#plt.savefig('corr_matrix_all.eps', format='eps')"
   ]
  },
  {
   "cell_type": "code",
   "execution_count": null,
   "id": "original-senator",
   "metadata": {
    "papermill": {
     "duration": 0.017354,
     "end_time": "2022-10-30T03:23:06.789040",
     "exception": false,
     "start_time": "2022-10-30T03:23:06.771686",
     "status": "completed"
    },
    "tags": []
   },
   "outputs": [],
   "source": []
  },
  {
   "cell_type": "code",
   "execution_count": null,
   "id": "saving-secretariat",
   "metadata": {
    "papermill": {
     "duration": 0.017501,
     "end_time": "2022-10-30T03:23:06.823886",
     "exception": false,
     "start_time": "2022-10-30T03:23:06.806385",
     "status": "completed"
    },
    "tags": []
   },
   "outputs": [],
   "source": []
  }
 ],
 "metadata": {
  "kernelspec": {
   "display_name": "Python 3",
   "language": "python",
   "name": "python3"
  },
  "language_info": {
   "codemirror_mode": {
    "name": "ipython",
    "version": 3
   },
   "file_extension": ".py",
   "mimetype": "text/x-python",
   "name": "python",
   "nbconvert_exporter": "python",
   "pygments_lexer": "ipython3",
   "version": "3.6.15"
  },
  "papermill": {
   "default_parameters": {},
   "duration": 20.970045,
   "end_time": "2022-10-30T03:23:07.566574",
   "environment_variables": {},
   "exception": null,
   "input_path": "App-Correlation_charts.ipynb",
   "output_path": "App-Correlation_charts.ipynb",
   "parameters": {},
   "start_time": "2022-10-30T03:22:46.596529",
   "version": "2.2.2"
  }
 },
 "nbformat": 4,
 "nbformat_minor": 5
}