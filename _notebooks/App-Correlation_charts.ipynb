{
 "cells": [
  {
   "cell_type": "markdown",
   "id": "touched-facility",
   "metadata": {
    "papermill": {
     "duration": 0.014648,
     "end_time": "2022-03-01T02:17:58.178580",
     "exception": false,
     "start_time": "2022-03-01T02:17:58.163932",
     "status": "completed"
    },
    "tags": []
   },
   "source": [
    "# Koreliacijų matrica\n",
    "> Išplėstinė koreliacijų matrica. \n",
    "\n",
    "- toc: true \n",
    "- badges: true\n",
    "- comments: false\n",
    "- categories: [Dominykas Tautkus]\n",
    "- image: images/matrix.png"
   ]
  },
  {
   "cell_type": "code",
   "execution_count": null,
   "id": "premium-weekend",
   "metadata": {
    "papermill": {
     "duration": 0.010978,
     "end_time": "2022-03-01T02:17:58.201208",
     "exception": false,
     "start_time": "2022-03-01T02:17:58.190230",
     "status": "completed"
    },
    "tags": []
   },
   "outputs": [],
   "source": []
  },
  {
   "cell_type": "code",
   "execution_count": 1,
   "id": "vertical-rebate",
   "metadata": {
    "execution": {
     "iopub.execute_input": "2022-03-01T02:17:58.232904Z",
     "iopub.status.busy": "2022-03-01T02:17:58.232356Z",
     "iopub.status.idle": "2022-03-01T02:17:58.242209Z",
     "shell.execute_reply": "2022-03-01T02:17:58.241791Z"
    },
    "papermill": {
     "duration": 0.030138,
     "end_time": "2022-03-01T02:17:58.242322",
     "exception": false,
     "start_time": "2022-03-01T02:17:58.212184",
     "status": "completed"
    },
    "tags": []
   },
   "outputs": [],
   "source": [
    "#hide\n",
    "%load_ext autoreload\n",
    "%autoreload 2"
   ]
  },
  {
   "cell_type": "code",
   "execution_count": 2,
   "id": "overall-advancement",
   "metadata": {
    "execution": {
     "iopub.execute_input": "2022-03-01T02:17:58.267922Z",
     "iopub.status.busy": "2022-03-01T02:17:58.267397Z",
     "iopub.status.idle": "2022-03-01T02:17:59.523405Z",
     "shell.execute_reply": "2022-03-01T02:17:59.522940Z"
    },
    "papermill": {
     "duration": 1.270182,
     "end_time": "2022-03-01T02:17:59.523514",
     "exception": false,
     "start_time": "2022-03-01T02:17:58.253332",
     "status": "completed"
    },
    "tags": []
   },
   "outputs": [],
   "source": [
    "#hide\n",
    "from scripts.read_data import read_api\n",
    "from IPython.display import HTML\n",
    "import plotly.graph_objects as go\n"
   ]
  },
  {
   "cell_type": "code",
   "execution_count": 3,
   "id": "light-crazy",
   "metadata": {
    "execution": {
     "iopub.execute_input": "2022-03-01T02:17:59.549451Z",
     "iopub.status.busy": "2022-03-01T02:17:59.548945Z",
     "iopub.status.idle": "2022-03-01T02:17:59.571263Z",
     "shell.execute_reply": "2022-03-01T02:17:59.570486Z"
    },
    "papermill": {
     "duration": 0.03626,
     "end_time": "2022-03-01T02:17:59.571376",
     "exception": false,
     "start_time": "2022-03-01T02:17:59.535116",
     "status": "completed"
    },
    "tags": []
   },
   "outputs": [],
   "source": [
    "#hide\n",
    "### ICO koreliacija"
   ]
  },
  {
   "cell_type": "code",
   "execution_count": 4,
   "id": "likely-bahrain",
   "metadata": {
    "execution": {
     "iopub.execute_input": "2022-03-01T02:17:59.598191Z",
     "iopub.status.busy": "2022-03-01T02:17:59.597176Z",
     "iopub.status.idle": "2022-03-01T02:18:00.473066Z",
     "shell.execute_reply": "2022-03-01T02:18:00.473476Z"
    },
    "papermill": {
     "duration": 0.891263,
     "end_time": "2022-03-01T02:18:00.473613",
     "exception": false,
     "start_time": "2022-03-01T02:17:59.582350",
     "status": "completed"
    },
    "tags": []
   },
   "outputs": [],
   "source": [
    "#hide\n",
    "import matplotlib.pyplot as plt\n",
    "import numpy as np\n",
    "import pandas as pd\n",
    "import seaborn as sns\n",
    "import matplotlib.pyplot as plt \n",
    "import matplotlib.dates as mdates\n",
    "import matplotlib.pyplot as plt"
   ]
  },
  {
   "cell_type": "code",
   "execution_count": 5,
   "id": "superior-blanket",
   "metadata": {
    "execution": {
     "iopub.execute_input": "2022-03-01T02:18:00.502210Z",
     "iopub.status.busy": "2022-03-01T02:18:00.499938Z",
     "iopub.status.idle": "2022-03-01T02:18:10.876850Z",
     "shell.execute_reply": "2022-03-01T02:18:10.876372Z"
    },
    "papermill": {
     "duration": 10.39207,
     "end_time": "2022-03-01T02:18:10.876962",
     "exception": false,
     "start_time": "2022-03-01T02:18:00.484892",
     "status": "completed"
    },
    "tags": []
   },
   "outputs": [
    {
     "name": "stderr",
     "output_type": "stream",
     "text": [
      "/home/runner/work/corr-app/corr-app/_notebooks/scripts/read_data.py:187: SettingWithCopyWarning:\n",
      "\n",
      "\n",
      "A value is trying to be set on a copy of a slice from a DataFrame.\n",
      "Try using .loc[row_indexer,col_indexer] = value instead\n",
      "\n",
      "See the caveats in the documentation: https://pandas.pydata.org/pandas-docs/stable/user_guide/indexing.html#returning-a-view-versus-a-copy\n",
      "\n"
     ]
    },
    {
     "name": "stderr",
     "output_type": "stream",
     "text": [
      "/home/runner/work/corr-app/corr-app/_notebooks/scripts/read_data.py:215: SettingWithCopyWarning:\n",
      "\n",
      "\n",
      "A value is trying to be set on a copy of a slice from a DataFrame.\n",
      "Try using .loc[row_indexer,col_indexer] = value instead\n",
      "\n",
      "See the caveats in the documentation: https://pandas.pydata.org/pandas-docs/stable/user_guide/indexing.html#returning-a-view-versus-a-copy\n",
      "\n"
     ]
    }
   ],
   "source": [
    "#hide\n",
    "df_all = read_api()\n",
    "#df_all = df_all.drop(['SP500', 'XAU', 'ETH', 'BTC'], axis=1)\n",
    "\n"
   ]
  },
  {
   "cell_type": "code",
   "execution_count": 6,
   "id": "mature-alert",
   "metadata": {
    "execution": {
     "iopub.execute_input": "2022-03-01T02:18:10.907426Z",
     "iopub.status.busy": "2022-03-01T02:18:10.904957Z",
     "iopub.status.idle": "2022-03-01T02:18:10.933136Z",
     "shell.execute_reply": "2022-03-01T02:18:10.932729Z"
    },
    "papermill": {
     "duration": 0.044308,
     "end_time": "2022-03-01T02:18:10.933243",
     "exception": false,
     "start_time": "2022-03-01T02:18:10.888935",
     "status": "completed"
    },
    "tags": []
   },
   "outputs": [],
   "source": [
    "#hide_input\n",
    "sum_corr = df_all.corr().sum().sort_values(ascending=True).index.values\n",
    "#df_all[sum_corr].corr()"
   ]
  },
  {
   "cell_type": "markdown",
   "id": "complex-syndicate",
   "metadata": {
    "papermill": {
     "duration": 0.011541,
     "end_time": "2022-03-01T02:18:10.956478",
     "exception": false,
     "start_time": "2022-03-01T02:18:10.944937",
     "status": "completed"
    },
    "tags": []
   },
   "source": [
    "## Išplėstinė koreliacijų matrica. "
   ]
  },
  {
   "cell_type": "code",
   "execution_count": 7,
   "id": "atomic-omaha",
   "metadata": {
    "execution": {
     "iopub.execute_input": "2022-03-01T02:18:10.983268Z",
     "iopub.status.busy": "2022-03-01T02:18:10.982769Z",
     "iopub.status.idle": "2022-03-01T02:18:12.129614Z",
     "shell.execute_reply": "2022-03-01T02:18:12.129183Z"
    },
    "papermill": {
     "duration": 1.161689,
     "end_time": "2022-03-01T02:18:12.129725",
     "exception": false,
     "start_time": "2022-03-01T02:18:10.968036",
     "status": "completed"
    },
    "tags": []
   },
   "outputs": [
    {
     "data": {
      "image/png": "[encoded data removed]",
      "text/plain": [
       "<Figure size 1080x792 with 2 Axes>"
      ]
     },
     "metadata": {
      "needs_background": "light"
     },
     "output_type": "display_data"
    }
   ],
   "source": [
    "#hide_input\n",
    "plt.figure(figsize=(15, 11))\n",
    "sns.heatmap(df_all[sum_corr].corr(), annot=True, cmap=\"cubehelix\") \n",
    "sns.set(font_scale=1.25)\n",
    "plt.savefig('corr_matrix.png', format='eps')"
   ]
  },
  {
   "cell_type": "code",
   "execution_count": 8,
   "id": "arbitrary-sullivan",
   "metadata": {
    "execution": {
     "iopub.execute_input": "2022-03-01T02:18:12.161962Z",
     "iopub.status.busy": "2022-03-01T02:18:12.160829Z",
     "iopub.status.idle": "2022-03-01T02:18:12.184925Z",
     "shell.execute_reply": "2022-03-01T02:18:12.184519Z"
    },
    "papermill": {
     "duration": 0.041331,
     "end_time": "2022-03-01T02:18:12.185031",
     "exception": false,
     "start_time": "2022-03-01T02:18:12.143700",
     "status": "completed"
    },
    "tags": []
   },
   "outputs": [],
   "source": [
    "#hide\n",
    "#df_all_mrk = read_api()"
   ]
  },
  {
   "cell_type": "code",
   "execution_count": 9,
   "id": "delayed-adapter",
   "metadata": {
    "execution": {
     "iopub.execute_input": "2022-03-01T02:18:12.216589Z",
     "iopub.status.busy": "2022-03-01T02:18:12.215973Z",
     "iopub.status.idle": "2022-03-01T02:18:12.239442Z",
     "shell.execute_reply": "2022-03-01T02:18:12.239008Z"
    },
    "papermill": {
     "duration": 0.040534,
     "end_time": "2022-03-01T02:18:12.239548",
     "exception": false,
     "start_time": "2022-03-01T02:18:12.199014",
     "status": "completed"
    },
    "tags": []
   },
   "outputs": [],
   "source": [
    "#hide\n",
    "#Koreliacijų koeficientai"
   ]
  },
  {
   "cell_type": "code",
   "execution_count": 10,
   "id": "seeing-celebration",
   "metadata": {
    "execution": {
     "iopub.execute_input": "2022-03-01T02:18:12.272964Z",
     "iopub.status.busy": "2022-03-01T02:18:12.272464Z",
     "iopub.status.idle": "2022-03-01T02:18:12.294147Z",
     "shell.execute_reply": "2022-03-01T02:18:12.293738Z"
    },
    "papermill": {
     "duration": 0.040199,
     "end_time": "2022-03-01T02:18:12.294249",
     "exception": false,
     "start_time": "2022-03-01T02:18:12.254050",
     "status": "completed"
    },
    "tags": []
   },
   "outputs": [],
   "source": [
    "#hide_input\n",
    "#sum_corr = df_all_mrk.corr().sum().sort_values(ascending=True).index.values\n",
    "#df_all_mrk[sum_corr].corr()"
   ]
  },
  {
   "cell_type": "code",
   "execution_count": 11,
   "id": "other-painting",
   "metadata": {
    "execution": {
     "iopub.execute_input": "2022-03-01T02:18:12.323644Z",
     "iopub.status.busy": "2022-03-01T02:18:12.323146Z",
     "iopub.status.idle": "2022-03-01T02:18:12.347542Z",
     "shell.execute_reply": "2022-03-01T02:18:12.347983Z"
    },
    "papermill": {
     "duration": 0.040465,
     "end_time": "2022-03-01T02:18:12.348100",
     "exception": false,
     "start_time": "2022-03-01T02:18:12.307635",
     "status": "completed"
    },
    "tags": []
   },
   "outputs": [],
   "source": [
    "#hide\n",
    "#Koreliacijos matrica. "
   ]
  },
  {
   "cell_type": "code",
   "execution_count": 12,
   "id": "modular-magnitude",
   "metadata": {
    "execution": {
     "iopub.execute_input": "2022-03-01T02:18:12.377750Z",
     "iopub.status.busy": "2022-03-01T02:18:12.377260Z",
     "iopub.status.idle": "2022-03-01T02:18:12.400537Z",
     "shell.execute_reply": "2022-03-01T02:18:12.400918Z"
    },
    "papermill": {
     "duration": 0.039365,
     "end_time": "2022-03-01T02:18:12.401036",
     "exception": false,
     "start_time": "2022-03-01T02:18:12.361671",
     "status": "completed"
    },
    "tags": []
   },
   "outputs": [],
   "source": [
    "#hide_input\n",
    "#plt.figure(figsize=(15, 8))\n",
    "#sns.heatmap(df_all_mrk[sum_corr].corr(), annot=True, cmap=\"BrBG\");\n",
    "#plt.savefig('corr_matrix_all.eps', format='eps')"
   ]
  },
  {
   "cell_type": "code",
   "execution_count": null,
   "id": "original-senator",
   "metadata": {
    "papermill": {
     "duration": 0.013312,
     "end_time": "2022-03-01T02:18:12.427733",
     "exception": false,
     "start_time": "2022-03-01T02:18:12.414421",
     "status": "completed"
    },
    "tags": []
   },
   "outputs": [],
   "source": []
  },
  {
   "cell_type": "code",
   "execution_count": null,
   "id": "saving-secretariat",
   "metadata": {
    "papermill": {
     "duration": 0.013311,
     "end_time": "2022-03-01T02:18:12.454435",
     "exception": false,
     "start_time": "2022-03-01T02:18:12.441124",
     "status": "completed"
    },
    "tags": []
   },
   "outputs": [],
   "source": []
  }
 ],
 "metadata": {
  "kernelspec": {
   "display_name": "Python 3",
   "language": "python",
   "name": "python3"
  },
  "language_info": {
   "codemirror_mode": {
    "name": "ipython",
    "version": 3
   },
   "file_extension": ".py",
   "mimetype": "text/x-python",
   "name": "python",
   "nbconvert_exporter": "python",
   "pygments_lexer": "ipython3",
   "version": "3.6.15"
  },
  "papermill": {
   "default_parameters": {},
   "duration": 15.621438,
   "end_time": "2022-03-01T02:18:12.884677",
   "environment_variables": {},
   "exception": null,
   "input_path": "App-Correlation_charts.ipynb",
   "output_path": "App-Correlation_charts.ipynb",
   "parameters": {},
   "start_time": "2022-03-01T02:17:57.263239",
   "version": "2.2.2"
  }
 },
 "nbformat": 4,
 "nbformat_minor": 5
}