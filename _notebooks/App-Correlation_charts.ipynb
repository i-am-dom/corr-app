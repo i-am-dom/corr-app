{
 "cells": [
  {
   "cell_type": "markdown",
   "id": "touched-facility",
   "metadata": {
    "papermill": {
     "duration": 0.012994,
     "end_time": "2021-07-28T02:01:50.342304",
     "exception": false,
     "start_time": "2021-07-28T02:01:50.329310",
     "status": "completed"
    },
    "tags": []
   },
   "source": [
    "# Koreliacijų matrica\n",
    "> Išplėstinė koreliacijų matrica. \n",
    "\n",
    "- toc: true \n",
    "- badges: true\n",
    "- comments: false\n",
    "- categories: [Dominykas Tautkus]\n",
    "- image: images/matrix.png"
   ]
  },
  {
   "cell_type": "code",
   "execution_count": null,
   "id": "premium-weekend",
   "metadata": {
    "papermill": {
     "duration": 0.009462,
     "end_time": "2021-07-28T02:01:50.361839",
     "exception": false,
     "start_time": "2021-07-28T02:01:50.352377",
     "status": "completed"
    },
    "tags": []
   },
   "outputs": [],
   "source": []
  },
  {
   "cell_type": "code",
   "execution_count": 1,
   "id": "vertical-rebate",
   "metadata": {
    "execution": {
     "iopub.execute_input": "2021-07-28T02:01:50.391833Z",
     "iopub.status.busy": "2021-07-28T02:01:50.391334Z",
     "iopub.status.idle": "2021-07-28T02:01:50.401550Z",
     "shell.execute_reply": "2021-07-28T02:01:50.401162Z"
    },
    "papermill": {
     "duration": 0.030344,
     "end_time": "2021-07-28T02:01:50.401666",
     "exception": false,
     "start_time": "2021-07-28T02:01:50.371322",
     "status": "completed"
    },
    "tags": []
   },
   "outputs": [],
   "source": [
    "#hide\n",
    "%load_ext autoreload\n",
    "%autoreload 2"
   ]
  },
  {
   "cell_type": "code",
   "execution_count": 2,
   "id": "overall-advancement",
   "metadata": {
    "execution": {
     "iopub.execute_input": "2021-07-28T02:01:50.427835Z",
     "iopub.status.busy": "2021-07-28T02:01:50.427383Z",
     "iopub.status.idle": "2021-07-28T02:01:51.469520Z",
     "shell.execute_reply": "2021-07-28T02:01:51.468964Z"
    },
    "papermill": {
     "duration": 1.058445,
     "end_time": "2021-07-28T02:01:51.469667",
     "exception": false,
     "start_time": "2021-07-28T02:01:50.411222",
     "status": "completed"
    },
    "tags": []
   },
   "outputs": [],
   "source": [
    "#hide\n",
    "from scripts.read_data import read_api\n",
    "from IPython.display import HTML\n",
    "import plotly.graph_objects as go\n"
   ]
  },
  {
   "cell_type": "code",
   "execution_count": 3,
   "id": "light-crazy",
   "metadata": {
    "execution": {
     "iopub.execute_input": "2021-07-28T02:01:51.498489Z",
     "iopub.status.busy": "2021-07-28T02:01:51.498010Z",
     "iopub.status.idle": "2021-07-28T02:01:51.516780Z",
     "shell.execute_reply": "2021-07-28T02:01:51.517145Z"
    },
    "papermill": {
     "duration": 0.036997,
     "end_time": "2021-07-28T02:01:51.517284",
     "exception": false,
     "start_time": "2021-07-28T02:01:51.480287",
     "status": "completed"
    },
    "tags": []
   },
   "outputs": [],
   "source": [
    "#hide\n",
    "### ICO koreliacija"
   ]
  },
  {
   "cell_type": "code",
   "execution_count": 4,
   "id": "likely-bahrain",
   "metadata": {
    "execution": {
     "iopub.execute_input": "2021-07-28T02:01:51.607289Z",
     "iopub.status.busy": "2021-07-28T02:01:51.606683Z",
     "iopub.status.idle": "2021-07-28T02:01:52.417211Z",
     "shell.execute_reply": "2021-07-28T02:01:52.416204Z"
    },
    "papermill": {
     "duration": 0.890423,
     "end_time": "2021-07-28T02:01:52.417354",
     "exception": false,
     "start_time": "2021-07-28T02:01:51.526931",
     "status": "completed"
    },
    "tags": []
   },
   "outputs": [],
   "source": [
    "#hide\n",
    "import matplotlib.pyplot as plt\n",
    "import numpy as np\n",
    "import pandas as pd\n",
    "import seaborn as sns\n",
    "import matplotlib.pyplot as plt \n",
    "import matplotlib.dates as mdates\n",
    "import matplotlib.pyplot as plt"
   ]
  },
  {
   "cell_type": "code",
   "execution_count": 5,
   "id": "superior-blanket",
   "metadata": {
    "execution": {
     "iopub.execute_input": "2021-07-28T02:01:52.444662Z",
     "iopub.status.busy": "2021-07-28T02:01:52.444175Z",
     "iopub.status.idle": "2021-07-28T02:02:05.014970Z",
     "shell.execute_reply": "2021-07-28T02:02:05.013643Z"
    },
    "papermill": {
     "duration": 12.586679,
     "end_time": "2021-07-28T02:02:05.015123",
     "exception": false,
     "start_time": "2021-07-28T02:01:52.428444",
     "status": "completed"
    },
    "tags": []
   },
   "outputs": [
    {
     "name": "stderr",
     "output_type": "stream",
     "text": [
      "/home/runner/work/corr-app/corr-app/_notebooks/scripts/read_data.py:187: SettingWithCopyWarning:\n",
      "\n",
      "\n",
      "A value is trying to be set on a copy of a slice from a DataFrame.\n",
      "Try using .loc[row_indexer,col_indexer] = value instead\n",
      "\n",
      "See the caveats in the documentation: https://pandas.pydata.org/pandas-docs/stable/user_guide/indexing.html#returning-a-view-versus-a-copy\n",
      "\n"
     ]
    },
    {
     "name": "stderr",
     "output_type": "stream",
     "text": [
      "/home/runner/work/corr-app/corr-app/_notebooks/scripts/read_data.py:215: SettingWithCopyWarning:\n",
      "\n",
      "\n",
      "A value is trying to be set on a copy of a slice from a DataFrame.\n",
      "Try using .loc[row_indexer,col_indexer] = value instead\n",
      "\n",
      "See the caveats in the documentation: https://pandas.pydata.org/pandas-docs/stable/user_guide/indexing.html#returning-a-view-versus-a-copy\n",
      "\n"
     ]
    }
   ],
   "source": [
    "#hide\n",
    "df_all = read_api()\n",
    "#df_all = df_all.drop(['SP500', 'XAU', 'ETH', 'BTC'], axis=1)\n",
    "\n"
   ]
  },
  {
   "cell_type": "code",
   "execution_count": 6,
   "id": "mature-alert",
   "metadata": {
    "execution": {
     "iopub.execute_input": "2021-07-28T02:02:05.079363Z",
     "iopub.status.busy": "2021-07-28T02:02:05.078872Z",
     "iopub.status.idle": "2021-07-28T02:02:05.108425Z",
     "shell.execute_reply": "2021-07-28T02:02:05.107907Z"
    },
    "papermill": {
     "duration": 0.069442,
     "end_time": "2021-07-28T02:02:05.108561",
     "exception": false,
     "start_time": "2021-07-28T02:02:05.039119",
     "status": "completed"
    },
    "tags": []
   },
   "outputs": [],
   "source": [
    "#hide_input\n",
    "sum_corr = df_all.corr().sum().sort_values(ascending=True).index.values\n",
    "#df_all[sum_corr].corr()"
   ]
  },
  {
   "cell_type": "markdown",
   "id": "complex-syndicate",
   "metadata": {
    "papermill": {
     "duration": 0.032804,
     "end_time": "2021-07-28T02:02:05.175961",
     "exception": false,
     "start_time": "2021-07-28T02:02:05.143157",
     "status": "completed"
    },
    "tags": []
   },
   "source": [
    "## Išplėstinė koreliacijų matrica. "
   ]
  },
  {
   "cell_type": "code",
   "execution_count": 7,
   "id": "atomic-omaha",
   "metadata": {
    "execution": {
     "iopub.execute_input": "2021-07-28T02:02:05.256054Z",
     "iopub.status.busy": "2021-07-28T02:02:05.255562Z",
     "iopub.status.idle": "2021-07-28T02:02:06.413408Z",
     "shell.execute_reply": "2021-07-28T02:02:06.412929Z"
    },
    "papermill": {
     "duration": 1.198489,
     "end_time": "2021-07-28T02:02:06.413520",
     "exception": false,
     "start_time": "2021-07-28T02:02:05.215031",
     "status": "completed"
    },
    "tags": []
   },
   "outputs": [
    {
     "data": {
      "image/png": "[encoded data removed]",
      "text/plain": [
       "<Figure size 1080x792 with 2 Axes>"
      ]
     },
     "metadata": {
      "needs_background": "light"
     },
     "output_type": "display_data"
    }
   ],
   "source": [
    "#hide_input\n",
    "plt.figure(figsize=(15, 11))\n",
    "sns.heatmap(df_all[sum_corr].corr(), annot=True, cmap=\"cubehelix\") \n",
    "sns.set(font_scale=1.25)\n",
    "plt.savefig('corr_matrix.png', format='eps')"
   ]
  },
  {
   "cell_type": "code",
   "execution_count": 8,
   "id": "arbitrary-sullivan",
   "metadata": {
    "execution": {
     "iopub.execute_input": "2021-07-28T02:02:06.449002Z",
     "iopub.status.busy": "2021-07-28T02:02:06.448124Z",
     "iopub.status.idle": "2021-07-28T02:02:06.468963Z",
     "shell.execute_reply": "2021-07-28T02:02:06.469381Z"
    },
    "papermill": {
     "duration": 0.043885,
     "end_time": "2021-07-28T02:02:06.469534",
     "exception": false,
     "start_time": "2021-07-28T02:02:06.425649",
     "status": "completed"
    },
    "tags": []
   },
   "outputs": [],
   "source": [
    "#hide\n",
    "#df_all_mrk = read_api()"
   ]
  },
  {
   "cell_type": "code",
   "execution_count": 9,
   "id": "delayed-adapter",
   "metadata": {
    "execution": {
     "iopub.execute_input": "2021-07-28T02:02:06.498820Z",
     "iopub.status.busy": "2021-07-28T02:02:06.496413Z",
     "iopub.status.idle": "2021-07-28T02:02:06.528506Z",
     "shell.execute_reply": "2021-07-28T02:02:06.528876Z"
    },
    "papermill": {
     "duration": 0.046933,
     "end_time": "2021-07-28T02:02:06.529017",
     "exception": false,
     "start_time": "2021-07-28T02:02:06.482084",
     "status": "completed"
    },
    "tags": []
   },
   "outputs": [],
   "source": [
    "#hide\n",
    "#Koreliacijų koeficientai"
   ]
  },
  {
   "cell_type": "code",
   "execution_count": 10,
   "id": "seeing-celebration",
   "metadata": {
    "execution": {
     "iopub.execute_input": "2021-07-28T02:02:06.572758Z",
     "iopub.status.busy": "2021-07-28T02:02:06.572026Z",
     "iopub.status.idle": "2021-07-28T02:02:06.586995Z",
     "shell.execute_reply": "2021-07-28T02:02:06.587342Z"
    },
    "papermill": {
     "duration": 0.046289,
     "end_time": "2021-07-28T02:02:06.587473",
     "exception": false,
     "start_time": "2021-07-28T02:02:06.541184",
     "status": "completed"
    },
    "tags": []
   },
   "outputs": [],
   "source": [
    "#hide_input\n",
    "#sum_corr = df_all_mrk.corr().sum().sort_values(ascending=True).index.values\n",
    "#df_all_mrk[sum_corr].corr()"
   ]
  },
  {
   "cell_type": "code",
   "execution_count": 11,
   "id": "other-painting",
   "metadata": {
    "execution": {
     "iopub.execute_input": "2021-07-28T02:02:06.623791Z",
     "iopub.status.busy": "2021-07-28T02:02:06.623331Z",
     "iopub.status.idle": "2021-07-28T02:02:06.643347Z",
     "shell.execute_reply": "2021-07-28T02:02:06.644009Z"
    },
    "papermill": {
     "duration": 0.044967,
     "end_time": "2021-07-28T02:02:06.644158",
     "exception": false,
     "start_time": "2021-07-28T02:02:06.599191",
     "status": "completed"
    },
    "tags": []
   },
   "outputs": [],
   "source": [
    "#hide\n",
    "#Koreliacijos matrica. "
   ]
  },
  {
   "cell_type": "code",
   "execution_count": 12,
   "id": "modular-magnitude",
   "metadata": {
    "execution": {
     "iopub.execute_input": "2021-07-28T02:02:06.674579Z",
     "iopub.status.busy": "2021-07-28T02:02:06.673701Z",
     "iopub.status.idle": "2021-07-28T02:02:06.699332Z",
     "shell.execute_reply": "2021-07-28T02:02:06.698499Z"
    },
    "papermill": {
     "duration": 0.041825,
     "end_time": "2021-07-28T02:02:06.699463",
     "exception": false,
     "start_time": "2021-07-28T02:02:06.657638",
     "status": "completed"
    },
    "tags": []
   },
   "outputs": [],
   "source": [
    "#hide_input\n",
    "#plt.figure(figsize=(15, 8))\n",
    "#sns.heatmap(df_all_mrk[sum_corr].corr(), annot=True, cmap=\"BrBG\");\n",
    "#plt.savefig('corr_matrix_all.eps', format='eps')"
   ]
  },
  {
   "cell_type": "code",
   "execution_count": null,
   "id": "original-senator",
   "metadata": {
    "papermill": {
     "duration": 0.01439,
     "end_time": "2021-07-28T02:02:06.727602",
     "exception": false,
     "start_time": "2021-07-28T02:02:06.713212",
     "status": "completed"
    },
    "tags": []
   },
   "outputs": [],
   "source": []
  },
  {
   "cell_type": "code",
   "execution_count": null,
   "id": "saving-secretariat",
   "metadata": {
    "papermill": {
     "duration": 0.01416,
     "end_time": "2021-07-28T02:02:06.756168",
     "exception": false,
     "start_time": "2021-07-28T02:02:06.742008",
     "status": "completed"
    },
    "tags": []
   },
   "outputs": [],
   "source": []
  }
 ],
 "metadata": {
  "kernelspec": {
   "display_name": "Python 3",
   "language": "python",
   "name": "python3"
  },
  "language_info": {
   "codemirror_mode": {
    "name": "ipython",
    "version": 3
   },
   "file_extension": ".py",
   "mimetype": "text/x-python",
   "name": "python",
   "nbconvert_exporter": "python",
   "pygments_lexer": "ipython3",
   "version": "3.6.14"
  },
  "papermill": {
   "default_parameters": {},
   "duration": 17.891801,
   "end_time": "2021-07-28T02:02:07.277680",
   "environment_variables": {},
   "exception": null,
   "input_path": "App-Correlation_charts.ipynb",
   "output_path": "App-Correlation_charts.ipynb",
   "parameters": {},
   "start_time": "2021-07-28T02:01:49.385879",
   "version": "2.2.2"
  }
 },
 "nbformat": 4,
 "nbformat_minor": 5
}