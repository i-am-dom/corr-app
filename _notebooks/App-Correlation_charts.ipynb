{
 "cells": [
  {
   "cell_type": "markdown",
   "id": "touched-facility",
   "metadata": {
    "papermill": {
     "duration": 0.015634,
     "end_time": "2022-05-12T02:53:34.721959",
     "exception": false,
     "start_time": "2022-05-12T02:53:34.706325",
     "status": "completed"
    },
    "tags": []
   },
   "source": [
    "# Koreliacijų matrica\n",
    "> Išplėstinė koreliacijų matrica. \n",
    "\n",
    "- toc: true \n",
    "- badges: true\n",
    "- comments: false\n",
    "- categories: [Dominykas Tautkus]\n",
    "- image: images/matrix.png"
   ]
  },
  {
   "cell_type": "code",
   "execution_count": null,
   "id": "premium-weekend",
   "metadata": {
    "papermill": {
     "duration": 0.010967,
     "end_time": "2022-05-12T02:53:34.744466",
     "exception": false,
     "start_time": "2022-05-12T02:53:34.733499",
     "status": "completed"
    },
    "tags": []
   },
   "outputs": [],
   "source": []
  },
  {
   "cell_type": "code",
   "execution_count": 1,
   "id": "vertical-rebate",
   "metadata": {
    "execution": {
     "iopub.execute_input": "2022-05-12T02:53:34.776743Z",
     "iopub.status.busy": "2022-05-12T02:53:34.773618Z",
     "iopub.status.idle": "2022-05-12T02:53:34.786513Z",
     "shell.execute_reply": "2022-05-12T02:53:34.786958Z"
    },
    "papermill": {
     "duration": 0.03191,
     "end_time": "2022-05-12T02:53:34.787112",
     "exception": false,
     "start_time": "2022-05-12T02:53:34.755202",
     "status": "completed"
    },
    "tags": []
   },
   "outputs": [],
   "source": [
    "#hide\n",
    "%load_ext autoreload\n",
    "%autoreload 2"
   ]
  },
  {
   "cell_type": "code",
   "execution_count": 2,
   "id": "overall-advancement",
   "metadata": {
    "execution": {
     "iopub.execute_input": "2022-05-12T02:53:34.821100Z",
     "iopub.status.busy": "2022-05-12T02:53:34.816419Z",
     "iopub.status.idle": "2022-05-12T02:53:35.901742Z",
     "shell.execute_reply": "2022-05-12T02:53:35.901200Z"
    },
    "papermill": {
     "duration": 1.104065,
     "end_time": "2022-05-12T02:53:35.901885",
     "exception": false,
     "start_time": "2022-05-12T02:53:34.797820",
     "status": "completed"
    },
    "tags": []
   },
   "outputs": [],
   "source": [
    "#hide\n",
    "from scripts.read_data import read_api\n",
    "from IPython.display import HTML\n",
    "import plotly.graph_objects as go\n"
   ]
  },
  {
   "cell_type": "code",
   "execution_count": 3,
   "id": "light-crazy",
   "metadata": {
    "execution": {
     "iopub.execute_input": "2022-05-12T02:53:35.936442Z",
     "iopub.status.busy": "2022-05-12T02:53:35.934233Z",
     "iopub.status.idle": "2022-05-12T02:53:35.953000Z",
     "shell.execute_reply": "2022-05-12T02:53:35.953393Z"
    },
    "papermill": {
     "duration": 0.040401,
     "end_time": "2022-05-12T02:53:35.953529",
     "exception": false,
     "start_time": "2022-05-12T02:53:35.913128",
     "status": "completed"
    },
    "tags": []
   },
   "outputs": [],
   "source": [
    "#hide\n",
    "### ICO koreliacija"
   ]
  },
  {
   "cell_type": "code",
   "execution_count": 4,
   "id": "likely-bahrain",
   "metadata": {
    "execution": {
     "iopub.execute_input": "2022-05-12T02:53:35.987363Z",
     "iopub.status.busy": "2022-05-12T02:53:35.978379Z",
     "iopub.status.idle": "2022-05-12T02:53:36.810938Z",
     "shell.execute_reply": "2022-05-12T02:53:36.809928Z"
    },
    "papermill": {
     "duration": 0.846647,
     "end_time": "2022-05-12T02:53:36.811091",
     "exception": false,
     "start_time": "2022-05-12T02:53:35.964444",
     "status": "completed"
    },
    "tags": []
   },
   "outputs": [],
   "source": [
    "#hide\n",
    "import matplotlib.pyplot as plt\n",
    "import numpy as np\n",
    "import pandas as pd\n",
    "import seaborn as sns\n",
    "import matplotlib.pyplot as plt \n",
    "import matplotlib.dates as mdates\n",
    "import matplotlib.pyplot as plt"
   ]
  },
  {
   "cell_type": "code",
   "execution_count": 5,
   "id": "superior-blanket",
   "metadata": {
    "execution": {
     "iopub.execute_input": "2022-05-12T02:53:36.836762Z",
     "iopub.status.busy": "2022-05-12T02:53:36.836240Z",
     "iopub.status.idle": "2022-05-12T02:53:49.119356Z",
     "shell.execute_reply": "2022-05-12T02:53:49.118848Z"
    },
    "papermill": {
     "duration": 12.297283,
     "end_time": "2022-05-12T02:53:49.119482",
     "exception": false,
     "start_time": "2022-05-12T02:53:36.822199",
     "status": "completed"
    },
    "tags": []
   },
   "outputs": [
    {
     "name": "stderr",
     "output_type": "stream",
     "text": [
      "/home/runner/work/corr-app/corr-app/_notebooks/scripts/read_data.py:187: SettingWithCopyWarning:\n",
      "\n",
      "\n",
      "A value is trying to be set on a copy of a slice from a DataFrame.\n",
      "Try using .loc[row_indexer,col_indexer] = value instead\n",
      "\n",
      "See the caveats in the documentation: https://pandas.pydata.org/pandas-docs/stable/user_guide/indexing.html#returning-a-view-versus-a-copy\n",
      "\n"
     ]
    },
    {
     "name": "stderr",
     "output_type": "stream",
     "text": [
      "/home/runner/work/corr-app/corr-app/_notebooks/scripts/read_data.py:215: SettingWithCopyWarning:\n",
      "\n",
      "\n",
      "A value is trying to be set on a copy of a slice from a DataFrame.\n",
      "Try using .loc[row_indexer,col_indexer] = value instead\n",
      "\n",
      "See the caveats in the documentation: https://pandas.pydata.org/pandas-docs/stable/user_guide/indexing.html#returning-a-view-versus-a-copy\n",
      "\n"
     ]
    }
   ],
   "source": [
    "#hide\n",
    "df_all = read_api()\n",
    "#df_all = df_all.drop(['SP500', 'XAU', 'ETH', 'BTC'], axis=1)\n",
    "\n"
   ]
  },
  {
   "cell_type": "code",
   "execution_count": 6,
   "id": "mature-alert",
   "metadata": {
    "execution": {
     "iopub.execute_input": "2022-05-12T02:53:49.149079Z",
     "iopub.status.busy": "2022-05-12T02:53:49.148457Z",
     "iopub.status.idle": "2022-05-12T02:53:49.180489Z",
     "shell.execute_reply": "2022-05-12T02:53:49.179475Z"
    },
    "papermill": {
     "duration": 0.049283,
     "end_time": "2022-05-12T02:53:49.180617",
     "exception": false,
     "start_time": "2022-05-12T02:53:49.131334",
     "status": "completed"
    },
    "tags": []
   },
   "outputs": [],
   "source": [
    "#hide_input\n",
    "sum_corr = df_all.corr().sum().sort_values(ascending=True).index.values\n",
    "#df_all[sum_corr].corr()"
   ]
  },
  {
   "cell_type": "markdown",
   "id": "complex-syndicate",
   "metadata": {
    "papermill": {
     "duration": 0.011282,
     "end_time": "2022-05-12T02:53:49.205124",
     "exception": false,
     "start_time": "2022-05-12T02:53:49.193842",
     "status": "completed"
    },
    "tags": []
   },
   "source": [
    "## Išplėstinė koreliacijų matrica. "
   ]
  },
  {
   "cell_type": "code",
   "execution_count": 7,
   "id": "atomic-omaha",
   "metadata": {
    "execution": {
     "iopub.execute_input": "2022-05-12T02:53:49.235343Z",
     "iopub.status.busy": "2022-05-12T02:53:49.234785Z",
     "iopub.status.idle": "2022-05-12T02:53:50.496977Z",
     "shell.execute_reply": "2022-05-12T02:53:50.496497Z"
    },
    "papermill": {
     "duration": 1.280677,
     "end_time": "2022-05-12T02:53:50.497102",
     "exception": false,
     "start_time": "2022-05-12T02:53:49.216425",
     "status": "completed"
    },
    "tags": []
   },
   "outputs": [
    {
     "data": {
      "image/png": "[encoded data removed]",
      "text/plain": [
       "<Figure size 1080x792 with 2 Axes>"
      ]
     },
     "metadata": {
      "needs_background": "light"
     },
     "output_type": "display_data"
    }
   ],
   "source": [
    "#hide_input\n",
    "plt.figure(figsize=(15, 11))\n",
    "sns.heatmap(df_all[sum_corr].corr(), annot=True, cmap=\"cubehelix\") \n",
    "sns.set(font_scale=1.25)\n",
    "plt.savefig('corr_matrix.png', format='eps')"
   ]
  },
  {
   "cell_type": "code",
   "execution_count": 8,
   "id": "arbitrary-sullivan",
   "metadata": {
    "execution": {
     "iopub.execute_input": "2022-05-12T02:53:50.530528Z",
     "iopub.status.busy": "2022-05-12T02:53:50.528994Z",
     "iopub.status.idle": "2022-05-12T02:53:50.555818Z",
     "shell.execute_reply": "2022-05-12T02:53:50.555289Z"
    },
    "papermill": {
     "duration": 0.045133,
     "end_time": "2022-05-12T02:53:50.555959",
     "exception": false,
     "start_time": "2022-05-12T02:53:50.510826",
     "status": "completed"
    },
    "tags": []
   },
   "outputs": [],
   "source": [
    "#hide\n",
    "#df_all_mrk = read_api()"
   ]
  },
  {
   "cell_type": "code",
   "execution_count": 9,
   "id": "delayed-adapter",
   "metadata": {
    "execution": {
     "iopub.execute_input": "2022-05-12T02:53:50.594240Z",
     "iopub.status.busy": "2022-05-12T02:53:50.593687Z",
     "iopub.status.idle": "2022-05-12T02:53:50.614952Z",
     "shell.execute_reply": "2022-05-12T02:53:50.614507Z"
    },
    "papermill": {
     "duration": 0.044841,
     "end_time": "2022-05-12T02:53:50.615069",
     "exception": false,
     "start_time": "2022-05-12T02:53:50.570228",
     "status": "completed"
    },
    "tags": []
   },
   "outputs": [],
   "source": [
    "#hide\n",
    "#Koreliacijų koeficientai"
   ]
  },
  {
   "cell_type": "code",
   "execution_count": 10,
   "id": "seeing-celebration",
   "metadata": {
    "execution": {
     "iopub.execute_input": "2022-05-12T02:53:50.664108Z",
     "iopub.status.busy": "2022-05-12T02:53:50.663532Z",
     "iopub.status.idle": "2022-05-12T02:53:50.680221Z",
     "shell.execute_reply": "2022-05-12T02:53:50.680621Z"
    },
    "papermill": {
     "duration": 0.051039,
     "end_time": "2022-05-12T02:53:50.680769",
     "exception": false,
     "start_time": "2022-05-12T02:53:50.629730",
     "status": "completed"
    },
    "tags": []
   },
   "outputs": [],
   "source": [
    "#hide_input\n",
    "#sum_corr = df_all_mrk.corr().sum().sort_values(ascending=True).index.values\n",
    "#df_all_mrk[sum_corr].corr()"
   ]
  },
  {
   "cell_type": "code",
   "execution_count": 11,
   "id": "other-painting",
   "metadata": {
    "execution": {
     "iopub.execute_input": "2022-05-12T02:53:50.725505Z",
     "iopub.status.busy": "2022-05-12T02:53:50.722597Z",
     "iopub.status.idle": "2022-05-12T02:53:50.749442Z",
     "shell.execute_reply": "2022-05-12T02:53:50.748916Z"
    },
    "papermill": {
     "duration": 0.050617,
     "end_time": "2022-05-12T02:53:50.749570",
     "exception": false,
     "start_time": "2022-05-12T02:53:50.698953",
     "status": "completed"
    },
    "tags": []
   },
   "outputs": [],
   "source": [
    "#hide\n",
    "#Koreliacijos matrica. "
   ]
  },
  {
   "cell_type": "code",
   "execution_count": 12,
   "id": "modular-magnitude",
   "metadata": {
    "execution": {
     "iopub.execute_input": "2022-05-12T02:53:50.780987Z",
     "iopub.status.busy": "2022-05-12T02:53:50.780478Z",
     "iopub.status.idle": "2022-05-12T02:53:50.806005Z",
     "shell.execute_reply": "2022-05-12T02:53:50.805553Z"
    },
    "papermill": {
     "duration": 0.043159,
     "end_time": "2022-05-12T02:53:50.806119",
     "exception": false,
     "start_time": "2022-05-12T02:53:50.762960",
     "status": "completed"
    },
    "tags": []
   },
   "outputs": [],
   "source": [
    "#hide_input\n",
    "#plt.figure(figsize=(15, 8))\n",
    "#sns.heatmap(df_all_mrk[sum_corr].corr(), annot=True, cmap=\"BrBG\");\n",
    "#plt.savefig('corr_matrix_all.eps', format='eps')"
   ]
  },
  {
   "cell_type": "code",
   "execution_count": null,
   "id": "original-senator",
   "metadata": {
    "papermill": {
     "duration": 0.013092,
     "end_time": "2022-05-12T02:53:50.832468",
     "exception": false,
     "start_time": "2022-05-12T02:53:50.819376",
     "status": "completed"
    },
    "tags": []
   },
   "outputs": [],
   "source": []
  },
  {
   "cell_type": "code",
   "execution_count": null,
   "id": "saving-secretariat",
   "metadata": {
    "papermill": {
     "duration": 0.013072,
     "end_time": "2022-05-12T02:53:50.858662",
     "exception": false,
     "start_time": "2022-05-12T02:53:50.845590",
     "status": "completed"
    },
    "tags": []
   },
   "outputs": [],
   "source": []
  }
 ],
 "metadata": {
  "kernelspec": {
   "display_name": "Python 3",
   "language": "python",
   "name": "python3"
  },
  "language_info": {
   "codemirror_mode": {
    "name": "ipython",
    "version": 3
   },
   "file_extension": ".py",
   "mimetype": "text/x-python",
   "name": "python",
   "nbconvert_exporter": "python",
   "pygments_lexer": "ipython3",
   "version": "3.6.15"
  },
  "papermill": {
   "default_parameters": {},
   "duration": 17.748614,
   "end_time": "2022-05-12T02:53:51.391737",
   "environment_variables": {},
   "exception": null,
   "input_path": "App-Correlation_charts.ipynb",
   "output_path": "App-Correlation_charts.ipynb",
   "parameters": {},
   "start_time": "2022-05-12T02:53:33.643123",
   "version": "2.2.2"
  }
 },
 "nbformat": 4,
 "nbformat_minor": 5
}