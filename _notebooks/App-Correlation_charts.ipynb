{
 "cells": [
  {
   "cell_type": "markdown",
   "id": "touched-facility",
   "metadata": {
    "papermill": {
     "duration": 0.015067,
     "end_time": "2022-03-30T02:38:43.163247",
     "exception": false,
     "start_time": "2022-03-30T02:38:43.148180",
     "status": "completed"
    },
    "tags": []
   },
   "source": [
    "# Koreliacijų matrica\n",
    "> Išplėstinė koreliacijų matrica. \n",
    "\n",
    "- toc: true \n",
    "- badges: true\n",
    "- comments: false\n",
    "- categories: [Dominykas Tautkus]\n",
    "- image: images/matrix.png"
   ]
  },
  {
   "cell_type": "code",
   "execution_count": null,
   "id": "premium-weekend",
   "metadata": {
    "papermill": {
     "duration": 0.010533,
     "end_time": "2022-03-30T02:38:43.184900",
     "exception": false,
     "start_time": "2022-03-30T02:38:43.174367",
     "status": "completed"
    },
    "tags": []
   },
   "outputs": [],
   "source": []
  },
  {
   "cell_type": "code",
   "execution_count": 1,
   "id": "vertical-rebate",
   "metadata": {
    "execution": {
     "iopub.execute_input": "2022-03-30T02:38:43.215617Z",
     "iopub.status.busy": "2022-03-30T02:38:43.215082Z",
     "iopub.status.idle": "2022-03-30T02:38:43.225411Z",
     "shell.execute_reply": "2022-03-30T02:38:43.224995Z"
    },
    "papermill": {
     "duration": 0.030233,
     "end_time": "2022-03-30T02:38:43.225531",
     "exception": false,
     "start_time": "2022-03-30T02:38:43.195298",
     "status": "completed"
    },
    "tags": []
   },
   "outputs": [],
   "source": [
    "#hide\n",
    "%load_ext autoreload\n",
    "%autoreload 2"
   ]
  },
  {
   "cell_type": "code",
   "execution_count": 2,
   "id": "overall-advancement",
   "metadata": {
    "execution": {
     "iopub.execute_input": "2022-03-30T02:38:43.250348Z",
     "iopub.status.busy": "2022-03-30T02:38:43.249840Z",
     "iopub.status.idle": "2022-03-30T02:38:44.868700Z",
     "shell.execute_reply": "2022-03-30T02:38:44.867763Z"
    },
    "papermill": {
     "duration": 1.632844,
     "end_time": "2022-03-30T02:38:44.868837",
     "exception": false,
     "start_time": "2022-03-30T02:38:43.235993",
     "status": "completed"
    },
    "tags": []
   },
   "outputs": [],
   "source": [
    "#hide\n",
    "from scripts.read_data import read_api\n",
    "from IPython.display import HTML\n",
    "import plotly.graph_objects as go\n"
   ]
  },
  {
   "cell_type": "code",
   "execution_count": 3,
   "id": "light-crazy",
   "metadata": {
    "execution": {
     "iopub.execute_input": "2022-03-30T02:38:44.932313Z",
     "iopub.status.busy": "2022-03-30T02:38:44.931594Z",
     "iopub.status.idle": "2022-03-30T02:38:44.952970Z",
     "shell.execute_reply": "2022-03-30T02:38:44.953365Z"
    },
    "papermill": {
     "duration": 0.066943,
     "end_time": "2022-03-30T02:38:44.953504",
     "exception": false,
     "start_time": "2022-03-30T02:38:44.886561",
     "status": "completed"
    },
    "tags": []
   },
   "outputs": [],
   "source": [
    "#hide\n",
    "### ICO koreliacija"
   ]
  },
  {
   "cell_type": "code",
   "execution_count": 4,
   "id": "likely-bahrain",
   "metadata": {
    "execution": {
     "iopub.execute_input": "2022-03-30T02:38:45.091588Z",
     "iopub.status.busy": "2022-03-30T02:38:45.090814Z",
     "iopub.status.idle": "2022-03-30T02:38:46.142110Z",
     "shell.execute_reply": "2022-03-30T02:38:46.141180Z"
    },
    "papermill": {
     "duration": 1.153414,
     "end_time": "2022-03-30T02:38:46.142252",
     "exception": false,
     "start_time": "2022-03-30T02:38:44.988838",
     "status": "completed"
    },
    "tags": []
   },
   "outputs": [],
   "source": [
    "#hide\n",
    "import matplotlib.pyplot as plt\n",
    "import numpy as np\n",
    "import pandas as pd\n",
    "import seaborn as sns\n",
    "import matplotlib.pyplot as plt \n",
    "import matplotlib.dates as mdates\n",
    "import matplotlib.pyplot as plt"
   ]
  },
  {
   "cell_type": "code",
   "execution_count": 5,
   "id": "superior-blanket",
   "metadata": {
    "execution": {
     "iopub.execute_input": "2022-03-30T02:38:46.207735Z",
     "iopub.status.busy": "2022-03-30T02:38:46.206449Z",
     "iopub.status.idle": "2022-03-30T02:38:55.778212Z",
     "shell.execute_reply": "2022-03-30T02:38:55.777719Z"
    },
    "papermill": {
     "duration": 9.591996,
     "end_time": "2022-03-30T02:38:55.778330",
     "exception": false,
     "start_time": "2022-03-30T02:38:46.186334",
     "status": "completed"
    },
    "tags": []
   },
   "outputs": [
    {
     "name": "stderr",
     "output_type": "stream",
     "text": [
      "/home/runner/work/corr-app/corr-app/_notebooks/scripts/read_data.py:187: SettingWithCopyWarning:\n",
      "\n",
      "\n",
      "A value is trying to be set on a copy of a slice from a DataFrame.\n",
      "Try using .loc[row_indexer,col_indexer] = value instead\n",
      "\n",
      "See the caveats in the documentation: https://pandas.pydata.org/pandas-docs/stable/user_guide/indexing.html#returning-a-view-versus-a-copy\n",
      "\n"
     ]
    },
    {
     "name": "stderr",
     "output_type": "stream",
     "text": [
      "/home/runner/work/corr-app/corr-app/_notebooks/scripts/read_data.py:215: SettingWithCopyWarning:\n",
      "\n",
      "\n",
      "A value is trying to be set on a copy of a slice from a DataFrame.\n",
      "Try using .loc[row_indexer,col_indexer] = value instead\n",
      "\n",
      "See the caveats in the documentation: https://pandas.pydata.org/pandas-docs/stable/user_guide/indexing.html#returning-a-view-versus-a-copy\n",
      "\n"
     ]
    }
   ],
   "source": [
    "#hide\n",
    "df_all = read_api()\n",
    "#df_all = df_all.drop(['SP500', 'XAU', 'ETH', 'BTC'], axis=1)\n",
    "\n"
   ]
  },
  {
   "cell_type": "code",
   "execution_count": 6,
   "id": "mature-alert",
   "metadata": {
    "execution": {
     "iopub.execute_input": "2022-03-30T02:38:55.805589Z",
     "iopub.status.busy": "2022-03-30T02:38:55.804993Z",
     "iopub.status.idle": "2022-03-30T02:38:55.834637Z",
     "shell.execute_reply": "2022-03-30T02:38:55.834162Z"
    },
    "papermill": {
     "duration": 0.044557,
     "end_time": "2022-03-30T02:38:55.834761",
     "exception": false,
     "start_time": "2022-03-30T02:38:55.790204",
     "status": "completed"
    },
    "tags": []
   },
   "outputs": [],
   "source": [
    "#hide_input\n",
    "sum_corr = df_all.corr().sum().sort_values(ascending=True).index.values\n",
    "#df_all[sum_corr].corr()"
   ]
  },
  {
   "cell_type": "markdown",
   "id": "complex-syndicate",
   "metadata": {
    "papermill": {
     "duration": 0.010954,
     "end_time": "2022-03-30T02:38:55.857664",
     "exception": false,
     "start_time": "2022-03-30T02:38:55.846710",
     "status": "completed"
    },
    "tags": []
   },
   "source": [
    "## Išplėstinė koreliacijų matrica. "
   ]
  },
  {
   "cell_type": "code",
   "execution_count": 7,
   "id": "atomic-omaha",
   "metadata": {
    "execution": {
     "iopub.execute_input": "2022-03-30T02:38:55.885776Z",
     "iopub.status.busy": "2022-03-30T02:38:55.885268Z",
     "iopub.status.idle": "2022-03-30T02:38:57.131731Z",
     "shell.execute_reply": "2022-03-30T02:38:57.131299Z"
    },
    "papermill": {
     "duration": 1.263224,
     "end_time": "2022-03-30T02:38:57.131848",
     "exception": false,
     "start_time": "2022-03-30T02:38:55.868624",
     "status": "completed"
    },
    "tags": []
   },
   "outputs": [
    {
     "data": {
      "image/png": "[encoded data removed]",
      "text/plain": [
       "<Figure size 1080x792 with 2 Axes>"
      ]
     },
     "metadata": {
      "needs_background": "light"
     },
     "output_type": "display_data"
    }
   ],
   "source": [
    "#hide_input\n",
    "plt.figure(figsize=(15, 11))\n",
    "sns.heatmap(df_all[sum_corr].corr(), annot=True, cmap=\"cubehelix\") \n",
    "sns.set(font_scale=1.25)\n",
    "plt.savefig('corr_matrix.png', format='eps')"
   ]
  },
  {
   "cell_type": "code",
   "execution_count": 8,
   "id": "arbitrary-sullivan",
   "metadata": {
    "execution": {
     "iopub.execute_input": "2022-03-30T02:38:57.164565Z",
     "iopub.status.busy": "2022-03-30T02:38:57.162018Z",
     "iopub.status.idle": "2022-03-30T02:38:57.187884Z",
     "shell.execute_reply": "2022-03-30T02:38:57.188354Z"
    },
    "papermill": {
     "duration": 0.04314,
     "end_time": "2022-03-30T02:38:57.188501",
     "exception": false,
     "start_time": "2022-03-30T02:38:57.145361",
     "status": "completed"
    },
    "tags": []
   },
   "outputs": [],
   "source": [
    "#hide\n",
    "#df_all_mrk = read_api()"
   ]
  },
  {
   "cell_type": "code",
   "execution_count": 9,
   "id": "delayed-adapter",
   "metadata": {
    "execution": {
     "iopub.execute_input": "2022-03-30T02:38:57.226494Z",
     "iopub.status.busy": "2022-03-30T02:38:57.218595Z",
     "iopub.status.idle": "2022-03-30T02:38:57.246609Z",
     "shell.execute_reply": "2022-03-30T02:38:57.245838Z"
    },
    "papermill": {
     "duration": 0.044452,
     "end_time": "2022-03-30T02:38:57.246729",
     "exception": false,
     "start_time": "2022-03-30T02:38:57.202277",
     "status": "completed"
    },
    "tags": []
   },
   "outputs": [],
   "source": [
    "#hide\n",
    "#Koreliacijų koeficientai"
   ]
  },
  {
   "cell_type": "code",
   "execution_count": 10,
   "id": "seeing-celebration",
   "metadata": {
    "execution": {
     "iopub.execute_input": "2022-03-30T02:38:57.277700Z",
     "iopub.status.busy": "2022-03-30T02:38:57.277203Z",
     "iopub.status.idle": "2022-03-30T02:38:57.302698Z",
     "shell.execute_reply": "2022-03-30T02:38:57.302207Z"
    },
    "papermill": {
     "duration": 0.040967,
     "end_time": "2022-03-30T02:38:57.302814",
     "exception": false,
     "start_time": "2022-03-30T02:38:57.261847",
     "status": "completed"
    },
    "tags": []
   },
   "outputs": [],
   "source": [
    "#hide_input\n",
    "#sum_corr = df_all_mrk.corr().sum().sort_values(ascending=True).index.values\n",
    "#df_all_mrk[sum_corr].corr()"
   ]
  },
  {
   "cell_type": "code",
   "execution_count": 11,
   "id": "other-painting",
   "metadata": {
    "execution": {
     "iopub.execute_input": "2022-03-30T02:38:57.337921Z",
     "iopub.status.busy": "2022-03-30T02:38:57.337413Z",
     "iopub.status.idle": "2022-03-30T02:38:57.359373Z",
     "shell.execute_reply": "2022-03-30T02:38:57.358880Z"
    },
    "papermill": {
     "duration": 0.043235,
     "end_time": "2022-03-30T02:38:57.359488",
     "exception": false,
     "start_time": "2022-03-30T02:38:57.316253",
     "status": "completed"
    },
    "tags": []
   },
   "outputs": [],
   "source": [
    "#hide\n",
    "#Koreliacijos matrica. "
   ]
  },
  {
   "cell_type": "code",
   "execution_count": 12,
   "id": "modular-magnitude",
   "metadata": {
    "execution": {
     "iopub.execute_input": "2022-03-30T02:38:57.389340Z",
     "iopub.status.busy": "2022-03-30T02:38:57.388838Z",
     "iopub.status.idle": "2022-03-30T02:38:57.414653Z",
     "shell.execute_reply": "2022-03-30T02:38:57.414163Z"
    },
    "papermill": {
     "duration": 0.041272,
     "end_time": "2022-03-30T02:38:57.414769",
     "exception": false,
     "start_time": "2022-03-30T02:38:57.373497",
     "status": "completed"
    },
    "tags": []
   },
   "outputs": [],
   "source": [
    "#hide_input\n",
    "#plt.figure(figsize=(15, 8))\n",
    "#sns.heatmap(df_all_mrk[sum_corr].corr(), annot=True, cmap=\"BrBG\");\n",
    "#plt.savefig('corr_matrix_all.eps', format='eps')"
   ]
  },
  {
   "cell_type": "code",
   "execution_count": null,
   "id": "original-senator",
   "metadata": {
    "papermill": {
     "duration": 0.012986,
     "end_time": "2022-03-30T02:38:57.441122",
     "exception": false,
     "start_time": "2022-03-30T02:38:57.428136",
     "status": "completed"
    },
    "tags": []
   },
   "outputs": [],
   "source": []
  },
  {
   "cell_type": "code",
   "execution_count": null,
   "id": "saving-secretariat",
   "metadata": {
    "papermill": {
     "duration": 0.01294,
     "end_time": "2022-03-30T02:38:57.466990",
     "exception": false,
     "start_time": "2022-03-30T02:38:57.454050",
     "status": "completed"
    },
    "tags": []
   },
   "outputs": [],
   "source": []
  }
 ],
 "metadata": {
  "kernelspec": {
   "display_name": "Python 3",
   "language": "python",
   "name": "python3"
  },
  "language_info": {
   "codemirror_mode": {
    "name": "ipython",
    "version": 3
   },
   "file_extension": ".py",
   "mimetype": "text/x-python",
   "name": "python",
   "nbconvert_exporter": "python",
   "pygments_lexer": "ipython3",
   "version": "3.6.15"
  },
  "papermill": {
   "default_parameters": {},
   "duration": 15.772527,
   "end_time": "2022-03-30T02:38:57.998350",
   "environment_variables": {},
   "exception": null,
   "input_path": "App-Correlation_charts.ipynb",
   "output_path": "App-Correlation_charts.ipynb",
   "parameters": {},
   "start_time": "2022-03-30T02:38:42.225823",
   "version": "2.2.2"
  }
 },
 "nbformat": 4,
 "nbformat_minor": 5
}