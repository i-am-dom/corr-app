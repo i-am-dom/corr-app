{
 "cells": [
  {
   "cell_type": "markdown",
   "id": "touched-facility",
   "metadata": {
    "papermill": {
     "duration": 0.015409,
     "end_time": "2021-08-03T02:05:55.807987",
     "exception": false,
     "start_time": "2021-08-03T02:05:55.792578",
     "status": "completed"
    },
    "tags": []
   },
   "source": [
    "# Koreliacijų matrica\n",
    "> Išplėstinė koreliacijų matrica. \n",
    "\n",
    "- toc: true \n",
    "- badges: true\n",
    "- comments: false\n",
    "- categories: [Dominykas Tautkus]\n",
    "- image: images/matrix.png"
   ]
  },
  {
   "cell_type": "code",
   "execution_count": null,
   "id": "premium-weekend",
   "metadata": {
    "papermill": {
     "duration": 0.011436,
     "end_time": "2021-08-03T02:05:55.831757",
     "exception": false,
     "start_time": "2021-08-03T02:05:55.820321",
     "status": "completed"
    },
    "tags": []
   },
   "outputs": [],
   "source": []
  },
  {
   "cell_type": "code",
   "execution_count": 1,
   "id": "vertical-rebate",
   "metadata": {
    "execution": {
     "iopub.execute_input": "2021-08-03T02:05:55.876407Z",
     "iopub.status.busy": "2021-08-03T02:05:55.875200Z",
     "iopub.status.idle": "2021-08-03T02:05:55.887903Z",
     "shell.execute_reply": "2021-08-03T02:05:55.886869Z"
    },
    "papermill": {
     "duration": 0.045328,
     "end_time": "2021-08-03T02:05:55.888057",
     "exception": false,
     "start_time": "2021-08-03T02:05:55.842729",
     "status": "completed"
    },
    "tags": []
   },
   "outputs": [],
   "source": [
    "#hide\n",
    "%load_ext autoreload\n",
    "%autoreload 2"
   ]
  },
  {
   "cell_type": "code",
   "execution_count": 2,
   "id": "overall-advancement",
   "metadata": {
    "execution": {
     "iopub.execute_input": "2021-08-03T02:05:55.915917Z",
     "iopub.status.busy": "2021-08-03T02:05:55.915296Z",
     "iopub.status.idle": "2021-08-03T02:05:57.043876Z",
     "shell.execute_reply": "2021-08-03T02:05:57.044317Z"
    },
    "papermill": {
     "duration": 1.143109,
     "end_time": "2021-08-03T02:05:57.044459",
     "exception": false,
     "start_time": "2021-08-03T02:05:55.901350",
     "status": "completed"
    },
    "tags": []
   },
   "outputs": [],
   "source": [
    "#hide\n",
    "from scripts.read_data import read_api\n",
    "from IPython.display import HTML\n",
    "import plotly.graph_objects as go\n"
   ]
  },
  {
   "cell_type": "code",
   "execution_count": 3,
   "id": "light-crazy",
   "metadata": {
    "execution": {
     "iopub.execute_input": "2021-08-03T02:05:57.077555Z",
     "iopub.status.busy": "2021-08-03T02:05:57.075178Z",
     "iopub.status.idle": "2021-08-03T02:05:57.098499Z",
     "shell.execute_reply": "2021-08-03T02:05:57.098035Z"
    },
    "papermill": {
     "duration": 0.040321,
     "end_time": "2021-08-03T02:05:57.098607",
     "exception": false,
     "start_time": "2021-08-03T02:05:57.058286",
     "status": "completed"
    },
    "tags": []
   },
   "outputs": [],
   "source": [
    "#hide\n",
    "### ICO koreliacija"
   ]
  },
  {
   "cell_type": "code",
   "execution_count": 4,
   "id": "likely-bahrain",
   "metadata": {
    "execution": {
     "iopub.execute_input": "2021-08-03T02:05:57.124143Z",
     "iopub.status.busy": "2021-08-03T02:05:57.123635Z",
     "iopub.status.idle": "2021-08-03T02:05:57.918479Z",
     "shell.execute_reply": "2021-08-03T02:05:57.918888Z"
    },
    "papermill": {
     "duration": 0.80886,
     "end_time": "2021-08-03T02:05:57.919035",
     "exception": false,
     "start_time": "2021-08-03T02:05:57.110175",
     "status": "completed"
    },
    "tags": []
   },
   "outputs": [],
   "source": [
    "#hide\n",
    "import matplotlib.pyplot as plt\n",
    "import numpy as np\n",
    "import pandas as pd\n",
    "import seaborn as sns\n",
    "import matplotlib.pyplot as plt \n",
    "import matplotlib.dates as mdates\n",
    "import matplotlib.pyplot as plt"
   ]
  },
  {
   "cell_type": "code",
   "execution_count": 5,
   "id": "superior-blanket",
   "metadata": {
    "execution": {
     "iopub.execute_input": "2021-08-03T02:05:57.947187Z",
     "iopub.status.busy": "2021-08-03T02:05:57.946628Z",
     "iopub.status.idle": "2021-08-03T02:06:10.298616Z",
     "shell.execute_reply": "2021-08-03T02:06:10.299030Z"
    },
    "papermill": {
     "duration": 12.368264,
     "end_time": "2021-08-03T02:06:10.299173",
     "exception": false,
     "start_time": "2021-08-03T02:05:57.930909",
     "status": "completed"
    },
    "tags": []
   },
   "outputs": [
    {
     "name": "stderr",
     "output_type": "stream",
     "text": [
      "/home/runner/work/corr-app/corr-app/_notebooks/scripts/read_data.py:187: SettingWithCopyWarning:\n",
      "\n",
      "\n",
      "A value is trying to be set on a copy of a slice from a DataFrame.\n",
      "Try using .loc[row_indexer,col_indexer] = value instead\n",
      "\n",
      "See the caveats in the documentation: https://pandas.pydata.org/pandas-docs/stable/user_guide/indexing.html#returning-a-view-versus-a-copy\n",
      "\n"
     ]
    },
    {
     "name": "stderr",
     "output_type": "stream",
     "text": [
      "/home/runner/work/corr-app/corr-app/_notebooks/scripts/read_data.py:215: SettingWithCopyWarning:\n",
      "\n",
      "\n",
      "A value is trying to be set on a copy of a slice from a DataFrame.\n",
      "Try using .loc[row_indexer,col_indexer] = value instead\n",
      "\n",
      "See the caveats in the documentation: https://pandas.pydata.org/pandas-docs/stable/user_guide/indexing.html#returning-a-view-versus-a-copy\n",
      "\n"
     ]
    }
   ],
   "source": [
    "#hide\n",
    "df_all = read_api()\n",
    "#df_all = df_all.drop(['SP500', 'XAU', 'ETH', 'BTC'], axis=1)\n",
    "\n"
   ]
  },
  {
   "cell_type": "code",
   "execution_count": 6,
   "id": "mature-alert",
   "metadata": {
    "execution": {
     "iopub.execute_input": "2021-08-03T02:06:10.330737Z",
     "iopub.status.busy": "2021-08-03T02:06:10.330213Z",
     "iopub.status.idle": "2021-08-03T02:06:10.357765Z",
     "shell.execute_reply": "2021-08-03T02:06:10.358154Z"
    },
    "papermill": {
     "duration": 0.045619,
     "end_time": "2021-08-03T02:06:10.358271",
     "exception": false,
     "start_time": "2021-08-03T02:06:10.312652",
     "status": "completed"
    },
    "tags": []
   },
   "outputs": [],
   "source": [
    "#hide_input\n",
    "sum_corr = df_all.corr().sum().sort_values(ascending=True).index.values\n",
    "#df_all[sum_corr].corr()"
   ]
  },
  {
   "cell_type": "markdown",
   "id": "complex-syndicate",
   "metadata": {
    "papermill": {
     "duration": 0.011961,
     "end_time": "2021-08-03T02:06:10.381694",
     "exception": false,
     "start_time": "2021-08-03T02:06:10.369733",
     "status": "completed"
    },
    "tags": []
   },
   "source": [
    "## Išplėstinė koreliacijų matrica. "
   ]
  },
  {
   "cell_type": "code",
   "execution_count": 7,
   "id": "atomic-omaha",
   "metadata": {
    "execution": {
     "iopub.execute_input": "2021-08-03T02:06:10.409948Z",
     "iopub.status.busy": "2021-08-03T02:06:10.409444Z",
     "iopub.status.idle": "2021-08-03T02:06:11.869624Z",
     "shell.execute_reply": "2021-08-03T02:06:11.870028Z"
    },
    "papermill": {
     "duration": 1.477148,
     "end_time": "2021-08-03T02:06:11.870188",
     "exception": false,
     "start_time": "2021-08-03T02:06:10.393040",
     "status": "completed"
    },
    "tags": []
   },
   "outputs": [
    {
     "data": {
      "image/png": "[encoded data removed]",
      "text/plain": [
       "<Figure size 1080x792 with 2 Axes>"
      ]
     },
     "metadata": {
      "needs_background": "light"
     },
     "output_type": "display_data"
    }
   ],
   "source": [
    "#hide_input\n",
    "plt.figure(figsize=(15, 11))\n",
    "sns.heatmap(df_all[sum_corr].corr(), annot=True, cmap=\"cubehelix\") \n",
    "sns.set(font_scale=1.25)\n",
    "plt.savefig('corr_matrix.png', format='eps')"
   ]
  },
  {
   "cell_type": "code",
   "execution_count": 8,
   "id": "arbitrary-sullivan",
   "metadata": {
    "execution": {
     "iopub.execute_input": "2021-08-03T02:06:11.905376Z",
     "iopub.status.busy": "2021-08-03T02:06:11.900821Z",
     "iopub.status.idle": "2021-08-03T02:06:11.926209Z",
     "shell.execute_reply": "2021-08-03T02:06:11.925691Z"
    },
    "papermill": {
     "duration": 0.041708,
     "end_time": "2021-08-03T02:06:11.926323",
     "exception": false,
     "start_time": "2021-08-03T02:06:11.884615",
     "status": "completed"
    },
    "tags": []
   },
   "outputs": [],
   "source": [
    "#hide\n",
    "#df_all_mrk = read_api()"
   ]
  },
  {
   "cell_type": "code",
   "execution_count": 9,
   "id": "delayed-adapter",
   "metadata": {
    "execution": {
     "iopub.execute_input": "2021-08-03T02:06:11.961424Z",
     "iopub.status.busy": "2021-08-03T02:06:11.960858Z",
     "iopub.status.idle": "2021-08-03T02:06:11.983893Z",
     "shell.execute_reply": "2021-08-03T02:06:11.983480Z"
    },
    "papermill": {
     "duration": 0.041959,
     "end_time": "2021-08-03T02:06:11.983993",
     "exception": false,
     "start_time": "2021-08-03T02:06:11.942034",
     "status": "completed"
    },
    "tags": []
   },
   "outputs": [],
   "source": [
    "#hide\n",
    "#Koreliacijų koeficientai"
   ]
  },
  {
   "cell_type": "code",
   "execution_count": 10,
   "id": "seeing-celebration",
   "metadata": {
    "execution": {
     "iopub.execute_input": "2021-08-03T02:06:12.014883Z",
     "iopub.status.busy": "2021-08-03T02:06:12.014207Z",
     "iopub.status.idle": "2021-08-03T02:06:12.037135Z",
     "shell.execute_reply": "2021-08-03T02:06:12.036392Z"
    },
    "papermill": {
     "duration": 0.039411,
     "end_time": "2021-08-03T02:06:12.037290",
     "exception": false,
     "start_time": "2021-08-03T02:06:11.997879",
     "status": "completed"
    },
    "tags": []
   },
   "outputs": [],
   "source": [
    "#hide_input\n",
    "#sum_corr = df_all_mrk.corr().sum().sort_values(ascending=True).index.values\n",
    "#df_all_mrk[sum_corr].corr()"
   ]
  },
  {
   "cell_type": "code",
   "execution_count": 11,
   "id": "other-painting",
   "metadata": {
    "execution": {
     "iopub.execute_input": "2021-08-03T02:06:12.069385Z",
     "iopub.status.busy": "2021-08-03T02:06:12.068865Z",
     "iopub.status.idle": "2021-08-03T02:06:12.096472Z",
     "shell.execute_reply": "2021-08-03T02:06:12.096908Z"
    },
    "papermill": {
     "duration": 0.046437,
     "end_time": "2021-08-03T02:06:12.097044",
     "exception": false,
     "start_time": "2021-08-03T02:06:12.050607",
     "status": "completed"
    },
    "tags": []
   },
   "outputs": [],
   "source": [
    "#hide\n",
    "#Koreliacijos matrica. "
   ]
  },
  {
   "cell_type": "code",
   "execution_count": 12,
   "id": "modular-magnitude",
   "metadata": {
    "execution": {
     "iopub.execute_input": "2021-08-03T02:06:12.126105Z",
     "iopub.status.busy": "2021-08-03T02:06:12.125567Z",
     "iopub.status.idle": "2021-08-03T02:06:12.149682Z",
     "shell.execute_reply": "2021-08-03T02:06:12.150070Z"
    },
    "papermill": {
     "duration": 0.039906,
     "end_time": "2021-08-03T02:06:12.150220",
     "exception": false,
     "start_time": "2021-08-03T02:06:12.110314",
     "status": "completed"
    },
    "tags": []
   },
   "outputs": [],
   "source": [
    "#hide_input\n",
    "#plt.figure(figsize=(15, 8))\n",
    "#sns.heatmap(df_all_mrk[sum_corr].corr(), annot=True, cmap=\"BrBG\");\n",
    "#plt.savefig('corr_matrix_all.eps', format='eps')"
   ]
  },
  {
   "cell_type": "code",
   "execution_count": null,
   "id": "original-senator",
   "metadata": {
    "papermill": {
     "duration": 0.014715,
     "end_time": "2021-08-03T02:06:12.180302",
     "exception": false,
     "start_time": "2021-08-03T02:06:12.165587",
     "status": "completed"
    },
    "tags": []
   },
   "outputs": [],
   "source": []
  },
  {
   "cell_type": "code",
   "execution_count": null,
   "id": "saving-secretariat",
   "metadata": {
    "papermill": {
     "duration": 0.013692,
     "end_time": "2021-08-03T02:06:12.207037",
     "exception": false,
     "start_time": "2021-08-03T02:06:12.193345",
     "status": "completed"
    },
    "tags": []
   },
   "outputs": [],
   "source": []
  }
 ],
 "metadata": {
  "kernelspec": {
   "display_name": "Python 3",
   "language": "python",
   "name": "python3"
  },
  "language_info": {
   "codemirror_mode": {
    "name": "ipython",
    "version": 3
   },
   "file_extension": ".py",
   "mimetype": "text/x-python",
   "name": "python",
   "nbconvert_exporter": "python",
   "pygments_lexer": "ipython3",
   "version": "3.6.14"
  },
  "papermill": {
   "default_parameters": {},
   "duration": 17.898415,
   "end_time": "2021-08-03T02:06:12.626445",
   "environment_variables": {},
   "exception": null,
   "input_path": "App-Correlation_charts.ipynb",
   "output_path": "App-Correlation_charts.ipynb",
   "parameters": {},
   "start_time": "2021-08-03T02:05:54.728030",
   "version": "2.2.2"
  }
 },
 "nbformat": 4,
 "nbformat_minor": 5
}