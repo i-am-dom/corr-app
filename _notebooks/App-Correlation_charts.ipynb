{
 "cells": [
  {
   "cell_type": "markdown",
   "id": "touched-facility",
   "metadata": {
    "papermill": {
     "duration": 0.015834,
     "end_time": "2021-10-25T02:01:17.134831",
     "exception": false,
     "start_time": "2021-10-25T02:01:17.118997",
     "status": "completed"
    },
    "tags": []
   },
   "source": [
    "# Koreliacijų matrica\n",
    "> Išplėstinė koreliacijų matrica. \n",
    "\n",
    "- toc: true \n",
    "- badges: true\n",
    "- comments: false\n",
    "- categories: [Dominykas Tautkus]\n",
    "- image: images/matrix.png"
   ]
  },
  {
   "cell_type": "code",
   "execution_count": null,
   "id": "premium-weekend",
   "metadata": {
    "papermill": {
     "duration": 0.010728,
     "end_time": "2021-10-25T02:01:17.157151",
     "exception": false,
     "start_time": "2021-10-25T02:01:17.146423",
     "status": "completed"
    },
    "tags": []
   },
   "outputs": [],
   "source": []
  },
  {
   "cell_type": "code",
   "execution_count": 1,
   "id": "vertical-rebate",
   "metadata": {
    "execution": {
     "iopub.execute_input": "2021-10-25T02:01:17.190032Z",
     "iopub.status.busy": "2021-10-25T02:01:17.189461Z",
     "iopub.status.idle": "2021-10-25T02:01:17.200241Z",
     "shell.execute_reply": "2021-10-25T02:01:17.199784Z"
    },
    "papermill": {
     "duration": 0.032497,
     "end_time": "2021-10-25T02:01:17.200381",
     "exception": false,
     "start_time": "2021-10-25T02:01:17.167884",
     "status": "completed"
    },
    "tags": []
   },
   "outputs": [],
   "source": [
    "#hide\n",
    "%load_ext autoreload\n",
    "%autoreload 2"
   ]
  },
  {
   "cell_type": "code",
   "execution_count": 2,
   "id": "overall-advancement",
   "metadata": {
    "execution": {
     "iopub.execute_input": "2021-10-25T02:01:17.226965Z",
     "iopub.status.busy": "2021-10-25T02:01:17.226441Z",
     "iopub.status.idle": "2021-10-25T02:01:18.592599Z",
     "shell.execute_reply": "2021-10-25T02:01:18.593101Z"
    },
    "papermill": {
     "duration": 1.381989,
     "end_time": "2021-10-25T02:01:18.593282",
     "exception": false,
     "start_time": "2021-10-25T02:01:17.211293",
     "status": "completed"
    },
    "tags": []
   },
   "outputs": [],
   "source": [
    "#hide\n",
    "from scripts.read_data import read_api\n",
    "from IPython.display import HTML\n",
    "import plotly.graph_objects as go\n"
   ]
  },
  {
   "cell_type": "code",
   "execution_count": 3,
   "id": "light-crazy",
   "metadata": {
    "execution": {
     "iopub.execute_input": "2021-10-25T02:01:18.628886Z",
     "iopub.status.busy": "2021-10-25T02:01:18.625653Z",
     "iopub.status.idle": "2021-10-25T02:01:18.646812Z",
     "shell.execute_reply": "2021-10-25T02:01:18.647234Z"
    },
    "papermill": {
     "duration": 0.042408,
     "end_time": "2021-10-25T02:01:18.647393",
     "exception": false,
     "start_time": "2021-10-25T02:01:18.604985",
     "status": "completed"
    },
    "tags": []
   },
   "outputs": [],
   "source": [
    "#hide\n",
    "### ICO koreliacija"
   ]
  },
  {
   "cell_type": "code",
   "execution_count": 4,
   "id": "likely-bahrain",
   "metadata": {
    "execution": {
     "iopub.execute_input": "2021-10-25T02:01:18.684122Z",
     "iopub.status.busy": "2021-10-25T02:01:18.679388Z",
     "iopub.status.idle": "2021-10-25T02:01:19.619578Z",
     "shell.execute_reply": "2021-10-25T02:01:19.618977Z"
    },
    "papermill": {
     "duration": 0.961336,
     "end_time": "2021-10-25T02:01:19.619741",
     "exception": false,
     "start_time": "2021-10-25T02:01:18.658405",
     "status": "completed"
    },
    "tags": []
   },
   "outputs": [],
   "source": [
    "#hide\n",
    "import matplotlib.pyplot as plt\n",
    "import numpy as np\n",
    "import pandas as pd\n",
    "import seaborn as sns\n",
    "import matplotlib.pyplot as plt \n",
    "import matplotlib.dates as mdates\n",
    "import matplotlib.pyplot as plt"
   ]
  },
  {
   "cell_type": "code",
   "execution_count": 5,
   "id": "superior-blanket",
   "metadata": {
    "execution": {
     "iopub.execute_input": "2021-10-25T02:01:19.647236Z",
     "iopub.status.busy": "2021-10-25T02:01:19.646696Z",
     "iopub.status.idle": "2021-10-25T02:01:34.723581Z",
     "shell.execute_reply": "2021-10-25T02:01:34.722995Z"
    },
    "papermill": {
     "duration": 15.092345,
     "end_time": "2021-10-25T02:01:34.723728",
     "exception": false,
     "start_time": "2021-10-25T02:01:19.631383",
     "status": "completed"
    },
    "tags": []
   },
   "outputs": [
    {
     "name": "stderr",
     "output_type": "stream",
     "text": [
      "/home/runner/work/corr-app/corr-app/_notebooks/scripts/read_data.py:187: SettingWithCopyWarning:\n",
      "\n",
      "\n",
      "A value is trying to be set on a copy of a slice from a DataFrame.\n",
      "Try using .loc[row_indexer,col_indexer] = value instead\n",
      "\n",
      "See the caveats in the documentation: https://pandas.pydata.org/pandas-docs/stable/user_guide/indexing.html#returning-a-view-versus-a-copy\n",
      "\n"
     ]
    },
    {
     "name": "stderr",
     "output_type": "stream",
     "text": [
      "/home/runner/work/corr-app/corr-app/_notebooks/scripts/read_data.py:215: SettingWithCopyWarning:\n",
      "\n",
      "\n",
      "A value is trying to be set on a copy of a slice from a DataFrame.\n",
      "Try using .loc[row_indexer,col_indexer] = value instead\n",
      "\n",
      "See the caveats in the documentation: https://pandas.pydata.org/pandas-docs/stable/user_guide/indexing.html#returning-a-view-versus-a-copy\n",
      "\n"
     ]
    }
   ],
   "source": [
    "#hide\n",
    "df_all = read_api()\n",
    "#df_all = df_all.drop(['SP500', 'XAU', 'ETH', 'BTC'], axis=1)\n",
    "\n"
   ]
  },
  {
   "cell_type": "code",
   "execution_count": 6,
   "id": "mature-alert",
   "metadata": {
    "execution": {
     "iopub.execute_input": "2021-10-25T02:01:34.759695Z",
     "iopub.status.busy": "2021-10-25T02:01:34.758875Z",
     "iopub.status.idle": "2021-10-25T02:01:34.786464Z",
     "shell.execute_reply": "2021-10-25T02:01:34.785528Z"
    },
    "papermill": {
     "duration": 0.050202,
     "end_time": "2021-10-25T02:01:34.786612",
     "exception": false,
     "start_time": "2021-10-25T02:01:34.736410",
     "status": "completed"
    },
    "tags": []
   },
   "outputs": [],
   "source": [
    "#hide_input\n",
    "sum_corr = df_all.corr().sum().sort_values(ascending=True).index.values\n",
    "#df_all[sum_corr].corr()"
   ]
  },
  {
   "cell_type": "markdown",
   "id": "complex-syndicate",
   "metadata": {
    "papermill": {
     "duration": 0.011721,
     "end_time": "2021-10-25T02:01:34.810687",
     "exception": false,
     "start_time": "2021-10-25T02:01:34.798966",
     "status": "completed"
    },
    "tags": []
   },
   "source": [
    "## Išplėstinė koreliacijų matrica. "
   ]
  },
  {
   "cell_type": "code",
   "execution_count": 7,
   "id": "atomic-omaha",
   "metadata": {
    "execution": {
     "iopub.execute_input": "2021-10-25T02:01:34.860414Z",
     "iopub.status.busy": "2021-10-25T02:01:34.852569Z",
     "iopub.status.idle": "2021-10-25T02:01:36.163386Z",
     "shell.execute_reply": "2021-10-25T02:01:36.162953Z"
    },
    "papermill": {
     "duration": 1.34121,
     "end_time": "2021-10-25T02:01:36.163535",
     "exception": false,
     "start_time": "2021-10-25T02:01:34.822325",
     "status": "completed"
    },
    "tags": []
   },
   "outputs": [
    {
     "data": {
      "image/png": "[encoded data removed]",
      "text/plain": [
       "<Figure size 1080x792 with 2 Axes>"
      ]
     },
     "metadata": {
      "needs_background": "light"
     },
     "output_type": "display_data"
    }
   ],
   "source": [
    "#hide_input\n",
    "plt.figure(figsize=(15, 11))\n",
    "sns.heatmap(df_all[sum_corr].corr(), annot=True, cmap=\"cubehelix\") \n",
    "sns.set(font_scale=1.25)\n",
    "plt.savefig('corr_matrix.png', format='eps')"
   ]
  },
  {
   "cell_type": "code",
   "execution_count": 8,
   "id": "arbitrary-sullivan",
   "metadata": {
    "execution": {
     "iopub.execute_input": "2021-10-25T02:01:36.241193Z",
     "iopub.status.busy": "2021-10-25T02:01:36.240636Z",
     "iopub.status.idle": "2021-10-25T02:01:36.266376Z",
     "shell.execute_reply": "2021-10-25T02:01:36.265820Z"
    },
    "papermill": {
     "duration": 0.088626,
     "end_time": "2021-10-25T02:01:36.266515",
     "exception": false,
     "start_time": "2021-10-25T02:01:36.177889",
     "status": "completed"
    },
    "tags": []
   },
   "outputs": [],
   "source": [
    "#hide\n",
    "#df_all_mrk = read_api()"
   ]
  },
  {
   "cell_type": "code",
   "execution_count": 9,
   "id": "delayed-adapter",
   "metadata": {
    "execution": {
     "iopub.execute_input": "2021-10-25T02:01:36.379997Z",
     "iopub.status.busy": "2021-10-25T02:01:36.379398Z",
     "iopub.status.idle": "2021-10-25T02:01:36.402633Z",
     "shell.execute_reply": "2021-10-25T02:01:36.402076Z"
    },
    "papermill": {
     "duration": 0.070348,
     "end_time": "2021-10-25T02:01:36.402772",
     "exception": false,
     "start_time": "2021-10-25T02:01:36.332424",
     "status": "completed"
    },
    "tags": []
   },
   "outputs": [],
   "source": [
    "#hide\n",
    "#Koreliacijų koeficientai"
   ]
  },
  {
   "cell_type": "code",
   "execution_count": 10,
   "id": "seeing-celebration",
   "metadata": {
    "execution": {
     "iopub.execute_input": "2021-10-25T02:01:36.436958Z",
     "iopub.status.busy": "2021-10-25T02:01:36.436425Z",
     "iopub.status.idle": "2021-10-25T02:01:36.463607Z",
     "shell.execute_reply": "2021-10-25T02:01:36.463018Z"
    },
    "papermill": {
     "duration": 0.046929,
     "end_time": "2021-10-25T02:01:36.463759",
     "exception": false,
     "start_time": "2021-10-25T02:01:36.416830",
     "status": "completed"
    },
    "tags": []
   },
   "outputs": [],
   "source": [
    "#hide_input\n",
    "#sum_corr = df_all_mrk.corr().sum().sort_values(ascending=True).index.values\n",
    "#df_all_mrk[sum_corr].corr()"
   ]
  },
  {
   "cell_type": "code",
   "execution_count": 11,
   "id": "other-painting",
   "metadata": {
    "execution": {
     "iopub.execute_input": "2021-10-25T02:01:36.508399Z",
     "iopub.status.busy": "2021-10-25T02:01:36.504083Z",
     "iopub.status.idle": "2021-10-25T02:01:36.525743Z",
     "shell.execute_reply": "2021-10-25T02:01:36.526172Z"
    },
    "papermill": {
     "duration": 0.048038,
     "end_time": "2021-10-25T02:01:36.526325",
     "exception": false,
     "start_time": "2021-10-25T02:01:36.478287",
     "status": "completed"
    },
    "tags": []
   },
   "outputs": [],
   "source": [
    "#hide\n",
    "#Koreliacijos matrica. "
   ]
  },
  {
   "cell_type": "code",
   "execution_count": 12,
   "id": "modular-magnitude",
   "metadata": {
    "execution": {
     "iopub.execute_input": "2021-10-25T02:01:36.560839Z",
     "iopub.status.busy": "2021-10-25T02:01:36.560301Z",
     "iopub.status.idle": "2021-10-25T02:01:36.584900Z",
     "shell.execute_reply": "2021-10-25T02:01:36.585347Z"
    },
    "papermill": {
     "duration": 0.045551,
     "end_time": "2021-10-25T02:01:36.585511",
     "exception": false,
     "start_time": "2021-10-25T02:01:36.539960",
     "status": "completed"
    },
    "tags": []
   },
   "outputs": [],
   "source": [
    "#hide_input\n",
    "#plt.figure(figsize=(15, 8))\n",
    "#sns.heatmap(df_all_mrk[sum_corr].corr(), annot=True, cmap=\"BrBG\");\n",
    "#plt.savefig('corr_matrix_all.eps', format='eps')"
   ]
  },
  {
   "cell_type": "code",
   "execution_count": null,
   "id": "original-senator",
   "metadata": {
    "papermill": {
     "duration": 0.013537,
     "end_time": "2021-10-25T02:01:36.613313",
     "exception": false,
     "start_time": "2021-10-25T02:01:36.599776",
     "status": "completed"
    },
    "tags": []
   },
   "outputs": [],
   "source": []
  },
  {
   "cell_type": "code",
   "execution_count": null,
   "id": "saving-secretariat",
   "metadata": {
    "papermill": {
     "duration": 0.013313,
     "end_time": "2021-10-25T02:01:36.640053",
     "exception": false,
     "start_time": "2021-10-25T02:01:36.626740",
     "status": "completed"
    },
    "tags": []
   },
   "outputs": [],
   "source": []
  }
 ],
 "metadata": {
  "kernelspec": {
   "display_name": "Python 3",
   "language": "python",
   "name": "python3"
  },
  "language_info": {
   "codemirror_mode": {
    "name": "ipython",
    "version": 3
   },
   "file_extension": ".py",
   "mimetype": "text/x-python",
   "name": "python",
   "nbconvert_exporter": "python",
   "pygments_lexer": "ipython3",
   "version": "3.6.15"
  },
  "papermill": {
   "default_parameters": {},
   "duration": 21.190056,
   "end_time": "2021-10-25T02:01:37.262657",
   "environment_variables": {},
   "exception": null,
   "input_path": "App-Correlation_charts.ipynb",
   "output_path": "App-Correlation_charts.ipynb",
   "parameters": {},
   "start_time": "2021-10-25T02:01:16.072601",
   "version": "2.2.2"
  }
 },
 "nbformat": 4,
 "nbformat_minor": 5
}