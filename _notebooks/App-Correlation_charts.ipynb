{
 "cells": [
  {
   "cell_type": "markdown",
   "id": "touched-facility",
   "metadata": {
    "papermill": {
     "duration": 0.017124,
     "end_time": "2022-03-13T02:05:57.802809",
     "exception": false,
     "start_time": "2022-03-13T02:05:57.785685",
     "status": "completed"
    },
    "tags": []
   },
   "source": [
    "# Koreliacijų matrica\n",
    "> Išplėstinė koreliacijų matrica. \n",
    "\n",
    "- toc: true \n",
    "- badges: true\n",
    "- comments: false\n",
    "- categories: [Dominykas Tautkus]\n",
    "- image: images/matrix.png"
   ]
  },
  {
   "cell_type": "code",
   "execution_count": null,
   "id": "premium-weekend",
   "metadata": {
    "papermill": {
     "duration": 0.010773,
     "end_time": "2022-03-13T02:05:57.825141",
     "exception": false,
     "start_time": "2022-03-13T02:05:57.814368",
     "status": "completed"
    },
    "tags": []
   },
   "outputs": [],
   "source": []
  },
  {
   "cell_type": "code",
   "execution_count": 1,
   "id": "vertical-rebate",
   "metadata": {
    "execution": {
     "iopub.execute_input": "2022-03-13T02:05:57.857278Z",
     "iopub.status.busy": "2022-03-13T02:05:57.856754Z",
     "iopub.status.idle": "2022-03-13T02:05:57.867054Z",
     "shell.execute_reply": "2022-03-13T02:05:57.866633Z"
    },
    "papermill": {
     "duration": 0.031405,
     "end_time": "2022-03-13T02:05:57.867176",
     "exception": false,
     "start_time": "2022-03-13T02:05:57.835771",
     "status": "completed"
    },
    "tags": []
   },
   "outputs": [],
   "source": [
    "#hide\n",
    "%load_ext autoreload\n",
    "%autoreload 2"
   ]
  },
  {
   "cell_type": "code",
   "execution_count": 2,
   "id": "overall-advancement",
   "metadata": {
    "execution": {
     "iopub.execute_input": "2022-03-13T02:05:57.895684Z",
     "iopub.status.busy": "2022-03-13T02:05:57.895183Z",
     "iopub.status.idle": "2022-03-13T02:05:59.296188Z",
     "shell.execute_reply": "2022-03-13T02:05:59.296660Z"
    },
    "papermill": {
     "duration": 1.419125,
     "end_time": "2022-03-13T02:05:59.296823",
     "exception": false,
     "start_time": "2022-03-13T02:05:57.877698",
     "status": "completed"
    },
    "tags": []
   },
   "outputs": [],
   "source": [
    "#hide\n",
    "from scripts.read_data import read_api\n",
    "from IPython.display import HTML\n",
    "import plotly.graph_objects as go\n"
   ]
  },
  {
   "cell_type": "code",
   "execution_count": 3,
   "id": "light-crazy",
   "metadata": {
    "execution": {
     "iopub.execute_input": "2022-03-13T02:05:59.322881Z",
     "iopub.status.busy": "2022-03-13T02:05:59.322294Z",
     "iopub.status.idle": "2022-03-13T02:05:59.346637Z",
     "shell.execute_reply": "2022-03-13T02:05:59.345877Z"
    },
    "papermill": {
     "duration": 0.038573,
     "end_time": "2022-03-13T02:05:59.346753",
     "exception": false,
     "start_time": "2022-03-13T02:05:59.308180",
     "status": "completed"
    },
    "tags": []
   },
   "outputs": [],
   "source": [
    "#hide\n",
    "### ICO koreliacija"
   ]
  },
  {
   "cell_type": "code",
   "execution_count": 4,
   "id": "likely-bahrain",
   "metadata": {
    "execution": {
     "iopub.execute_input": "2022-03-13T02:05:59.375163Z",
     "iopub.status.busy": "2022-03-13T02:05:59.371838Z",
     "iopub.status.idle": "2022-03-13T02:06:00.301177Z",
     "shell.execute_reply": "2022-03-13T02:06:00.300176Z"
    },
    "papermill": {
     "duration": 0.943768,
     "end_time": "2022-03-13T02:06:00.301317",
     "exception": false,
     "start_time": "2022-03-13T02:05:59.357549",
     "status": "completed"
    },
    "tags": []
   },
   "outputs": [],
   "source": [
    "#hide\n",
    "import matplotlib.pyplot as plt\n",
    "import numpy as np\n",
    "import pandas as pd\n",
    "import seaborn as sns\n",
    "import matplotlib.pyplot as plt \n",
    "import matplotlib.dates as mdates\n",
    "import matplotlib.pyplot as plt"
   ]
  },
  {
   "cell_type": "code",
   "execution_count": 5,
   "id": "superior-blanket",
   "metadata": {
    "execution": {
     "iopub.execute_input": "2022-03-13T02:06:00.329375Z",
     "iopub.status.busy": "2022-03-13T02:06:00.328276Z",
     "iopub.status.idle": "2022-03-13T02:06:10.849252Z",
     "shell.execute_reply": "2022-03-13T02:06:10.848748Z"
    },
    "papermill": {
     "duration": 10.537009,
     "end_time": "2022-03-13T02:06:10.849377",
     "exception": false,
     "start_time": "2022-03-13T02:06:00.312368",
     "status": "completed"
    },
    "tags": []
   },
   "outputs": [
    {
     "name": "stderr",
     "output_type": "stream",
     "text": [
      "/home/runner/work/corr-app/corr-app/_notebooks/scripts/read_data.py:187: SettingWithCopyWarning:\n",
      "\n",
      "\n",
      "A value is trying to be set on a copy of a slice from a DataFrame.\n",
      "Try using .loc[row_indexer,col_indexer] = value instead\n",
      "\n",
      "See the caveats in the documentation: https://pandas.pydata.org/pandas-docs/stable/user_guide/indexing.html#returning-a-view-versus-a-copy\n",
      "\n"
     ]
    },
    {
     "name": "stderr",
     "output_type": "stream",
     "text": [
      "/home/runner/work/corr-app/corr-app/_notebooks/scripts/read_data.py:215: SettingWithCopyWarning:\n",
      "\n",
      "\n",
      "A value is trying to be set on a copy of a slice from a DataFrame.\n",
      "Try using .loc[row_indexer,col_indexer] = value instead\n",
      "\n",
      "See the caveats in the documentation: https://pandas.pydata.org/pandas-docs/stable/user_guide/indexing.html#returning-a-view-versus-a-copy\n",
      "\n"
     ]
    }
   ],
   "source": [
    "#hide\n",
    "df_all = read_api()\n",
    "#df_all = df_all.drop(['SP500', 'XAU', 'ETH', 'BTC'], axis=1)\n",
    "\n"
   ]
  },
  {
   "cell_type": "code",
   "execution_count": 6,
   "id": "mature-alert",
   "metadata": {
    "execution": {
     "iopub.execute_input": "2022-03-13T02:06:10.876600Z",
     "iopub.status.busy": "2022-03-13T02:06:10.876090Z",
     "iopub.status.idle": "2022-03-13T02:06:10.906713Z",
     "shell.execute_reply": "2022-03-13T02:06:10.907158Z"
    },
    "papermill": {
     "duration": 0.04603,
     "end_time": "2022-03-13T02:06:10.907315",
     "exception": false,
     "start_time": "2022-03-13T02:06:10.861285",
     "status": "completed"
    },
    "tags": []
   },
   "outputs": [],
   "source": [
    "#hide_input\n",
    "sum_corr = df_all.corr().sum().sort_values(ascending=True).index.values\n",
    "#df_all[sum_corr].corr()"
   ]
  },
  {
   "cell_type": "markdown",
   "id": "complex-syndicate",
   "metadata": {
    "papermill": {
     "duration": 0.01118,
     "end_time": "2022-03-13T02:06:10.930425",
     "exception": false,
     "start_time": "2022-03-13T02:06:10.919245",
     "status": "completed"
    },
    "tags": []
   },
   "source": [
    "## Išplėstinė koreliacijų matrica. "
   ]
  },
  {
   "cell_type": "code",
   "execution_count": 7,
   "id": "atomic-omaha",
   "metadata": {
    "execution": {
     "iopub.execute_input": "2022-03-13T02:06:10.959155Z",
     "iopub.status.busy": "2022-03-13T02:06:10.958655Z",
     "iopub.status.idle": "2022-03-13T02:06:12.220575Z",
     "shell.execute_reply": "2022-03-13T02:06:12.220966Z"
    },
    "papermill": {
     "duration": 1.27958,
     "end_time": "2022-03-13T02:06:12.221113",
     "exception": false,
     "start_time": "2022-03-13T02:06:10.941533",
     "status": "completed"
    },
    "tags": []
   },
   "outputs": [
    {
     "data": {
      "image/png": "[encoded data removed]",
      "text/plain": [
       "<Figure size 1080x792 with 2 Axes>"
      ]
     },
     "metadata": {
      "needs_background": "light"
     },
     "output_type": "display_data"
    }
   ],
   "source": [
    "#hide_input\n",
    "plt.figure(figsize=(15, 11))\n",
    "sns.heatmap(df_all[sum_corr].corr(), annot=True, cmap=\"cubehelix\") \n",
    "sns.set(font_scale=1.25)\n",
    "plt.savefig('corr_matrix.png', format='eps')"
   ]
  },
  {
   "cell_type": "code",
   "execution_count": 8,
   "id": "arbitrary-sullivan",
   "metadata": {
    "execution": {
     "iopub.execute_input": "2022-03-13T02:06:12.252067Z",
     "iopub.status.busy": "2022-03-13T02:06:12.251530Z",
     "iopub.status.idle": "2022-03-13T02:06:12.278156Z",
     "shell.execute_reply": "2022-03-13T02:06:12.277611Z"
    },
    "papermill": {
     "duration": 0.043407,
     "end_time": "2022-03-13T02:06:12.278282",
     "exception": false,
     "start_time": "2022-03-13T02:06:12.234875",
     "status": "completed"
    },
    "tags": []
   },
   "outputs": [],
   "source": [
    "#hide\n",
    "#df_all_mrk = read_api()"
   ]
  },
  {
   "cell_type": "code",
   "execution_count": 9,
   "id": "delayed-adapter",
   "metadata": {
    "execution": {
     "iopub.execute_input": "2022-03-13T02:06:12.309641Z",
     "iopub.status.busy": "2022-03-13T02:06:12.309142Z",
     "iopub.status.idle": "2022-03-13T02:06:12.336177Z",
     "shell.execute_reply": "2022-03-13T02:06:12.335689Z"
    },
    "papermill": {
     "duration": 0.042808,
     "end_time": "2022-03-13T02:06:12.336310",
     "exception": false,
     "start_time": "2022-03-13T02:06:12.293502",
     "status": "completed"
    },
    "tags": []
   },
   "outputs": [],
   "source": [
    "#hide\n",
    "#Koreliacijų koeficientai"
   ]
  },
  {
   "cell_type": "code",
   "execution_count": 10,
   "id": "seeing-celebration",
   "metadata": {
    "execution": {
     "iopub.execute_input": "2022-03-13T02:06:12.379626Z",
     "iopub.status.busy": "2022-03-13T02:06:12.378760Z",
     "iopub.status.idle": "2022-03-13T02:06:12.398340Z",
     "shell.execute_reply": "2022-03-13T02:06:12.397839Z"
    },
    "papermill": {
     "duration": 0.046669,
     "end_time": "2022-03-13T02:06:12.398452",
     "exception": false,
     "start_time": "2022-03-13T02:06:12.351783",
     "status": "completed"
    },
    "tags": []
   },
   "outputs": [],
   "source": [
    "#hide_input\n",
    "#sum_corr = df_all_mrk.corr().sum().sort_values(ascending=True).index.values\n",
    "#df_all_mrk[sum_corr].corr()"
   ]
  },
  {
   "cell_type": "code",
   "execution_count": 11,
   "id": "other-painting",
   "metadata": {
    "execution": {
     "iopub.execute_input": "2022-03-13T02:06:12.439039Z",
     "iopub.status.busy": "2022-03-13T02:06:12.436303Z",
     "iopub.status.idle": "2022-03-13T02:06:12.457468Z",
     "shell.execute_reply": "2022-03-13T02:06:12.456989Z"
    },
    "papermill": {
     "duration": 0.045948,
     "end_time": "2022-03-13T02:06:12.457601",
     "exception": false,
     "start_time": "2022-03-13T02:06:12.411653",
     "status": "completed"
    },
    "tags": []
   },
   "outputs": [],
   "source": [
    "#hide\n",
    "#Koreliacijos matrica. "
   ]
  },
  {
   "cell_type": "code",
   "execution_count": 12,
   "id": "modular-magnitude",
   "metadata": {
    "execution": {
     "iopub.execute_input": "2022-03-13T02:06:12.487916Z",
     "iopub.status.busy": "2022-03-13T02:06:12.487417Z",
     "iopub.status.idle": "2022-03-13T02:06:12.513690Z",
     "shell.execute_reply": "2022-03-13T02:06:12.513229Z"
    },
    "papermill": {
     "duration": 0.041888,
     "end_time": "2022-03-13T02:06:12.513811",
     "exception": false,
     "start_time": "2022-03-13T02:06:12.471923",
     "status": "completed"
    },
    "tags": []
   },
   "outputs": [],
   "source": [
    "#hide_input\n",
    "#plt.figure(figsize=(15, 8))\n",
    "#sns.heatmap(df_all_mrk[sum_corr].corr(), annot=True, cmap=\"BrBG\");\n",
    "#plt.savefig('corr_matrix_all.eps', format='eps')"
   ]
  },
  {
   "cell_type": "code",
   "execution_count": null,
   "id": "original-senator",
   "metadata": {
    "papermill": {
     "duration": 0.013233,
     "end_time": "2022-03-13T02:06:12.540395",
     "exception": false,
     "start_time": "2022-03-13T02:06:12.527162",
     "status": "completed"
    },
    "tags": []
   },
   "outputs": [],
   "source": []
  },
  {
   "cell_type": "code",
   "execution_count": null,
   "id": "saving-secretariat",
   "metadata": {
    "papermill": {
     "duration": 0.013147,
     "end_time": "2022-03-13T02:06:12.566754",
     "exception": false,
     "start_time": "2022-03-13T02:06:12.553607",
     "status": "completed"
    },
    "tags": []
   },
   "outputs": [],
   "source": []
  }
 ],
 "metadata": {
  "kernelspec": {
   "display_name": "Python 3",
   "language": "python",
   "name": "python3"
  },
  "language_info": {
   "codemirror_mode": {
    "name": "ipython",
    "version": 3
   },
   "file_extension": ".py",
   "mimetype": "text/x-python",
   "name": "python",
   "nbconvert_exporter": "python",
   "pygments_lexer": "ipython3",
   "version": "3.6.15"
  },
  "papermill": {
   "default_parameters": {},
   "duration": 16.246999,
   "end_time": "2022-03-13T02:06:13.098952",
   "environment_variables": {},
   "exception": null,
   "input_path": "App-Correlation_charts.ipynb",
   "output_path": "App-Correlation_charts.ipynb",
   "parameters": {},
   "start_time": "2022-03-13T02:05:56.851953",
   "version": "2.2.2"
  }
 },
 "nbformat": 4,
 "nbformat_minor": 5
}