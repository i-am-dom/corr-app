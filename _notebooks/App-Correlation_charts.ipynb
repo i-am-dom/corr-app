{
 "cells": [
  {
   "cell_type": "markdown",
   "id": "touched-facility",
   "metadata": {
    "papermill": {
     "duration": 0.019231,
     "end_time": "2022-05-20T02:53:52.303148",
     "exception": false,
     "start_time": "2022-05-20T02:53:52.283917",
     "status": "completed"
    },
    "tags": []
   },
   "source": [
    "# Koreliacijų matrica\n",
    "> Išplėstinė koreliacijų matrica. \n",
    "\n",
    "- toc: true \n",
    "- badges: true\n",
    "- comments: false\n",
    "- categories: [Dominykas Tautkus]\n",
    "- image: images/matrix.png"
   ]
  },
  {
   "cell_type": "code",
   "execution_count": null,
   "id": "premium-weekend",
   "metadata": {
    "papermill": {
     "duration": 0.01445,
     "end_time": "2022-05-20T02:53:52.331791",
     "exception": false,
     "start_time": "2022-05-20T02:53:52.317341",
     "status": "completed"
    },
    "tags": []
   },
   "outputs": [],
   "source": []
  },
  {
   "cell_type": "code",
   "execution_count": 1,
   "id": "vertical-rebate",
   "metadata": {
    "execution": {
     "iopub.execute_input": "2022-05-20T02:53:52.372065Z",
     "iopub.status.busy": "2022-05-20T02:53:52.369948Z",
     "iopub.status.idle": "2022-05-20T02:53:52.382663Z",
     "shell.execute_reply": "2022-05-20T02:53:52.383228Z"
    },
    "papermill": {
     "duration": 0.038835,
     "end_time": "2022-05-20T02:53:52.383422",
     "exception": false,
     "start_time": "2022-05-20T02:53:52.344587",
     "status": "completed"
    },
    "tags": []
   },
   "outputs": [],
   "source": [
    "#hide\n",
    "%load_ext autoreload\n",
    "%autoreload 2"
   ]
  },
  {
   "cell_type": "code",
   "execution_count": 2,
   "id": "overall-advancement",
   "metadata": {
    "execution": {
     "iopub.execute_input": "2022-05-20T02:53:52.415047Z",
     "iopub.status.busy": "2022-05-20T02:53:52.414348Z",
     "iopub.status.idle": "2022-05-20T02:53:54.116757Z",
     "shell.execute_reply": "2022-05-20T02:53:54.116050Z"
    },
    "papermill": {
     "duration": 1.719791,
     "end_time": "2022-05-20T02:53:54.116920",
     "exception": false,
     "start_time": "2022-05-20T02:53:52.397129",
     "status": "completed"
    },
    "tags": []
   },
   "outputs": [],
   "source": [
    "#hide\n",
    "from scripts.read_data import read_api\n",
    "from IPython.display import HTML\n",
    "import plotly.graph_objects as go\n"
   ]
  },
  {
   "cell_type": "code",
   "execution_count": 3,
   "id": "light-crazy",
   "metadata": {
    "execution": {
     "iopub.execute_input": "2022-05-20T02:53:54.150854Z",
     "iopub.status.busy": "2022-05-20T02:53:54.149530Z",
     "iopub.status.idle": "2022-05-20T02:53:54.176815Z",
     "shell.execute_reply": "2022-05-20T02:53:54.176253Z"
    },
    "papermill": {
     "duration": 0.045871,
     "end_time": "2022-05-20T02:53:54.176952",
     "exception": false,
     "start_time": "2022-05-20T02:53:54.131081",
     "status": "completed"
    },
    "tags": []
   },
   "outputs": [],
   "source": [
    "#hide\n",
    "### ICO koreliacija"
   ]
  },
  {
   "cell_type": "code",
   "execution_count": 4,
   "id": "likely-bahrain",
   "metadata": {
    "execution": {
     "iopub.execute_input": "2022-05-20T02:53:54.207411Z",
     "iopub.status.busy": "2022-05-20T02:53:54.206709Z",
     "iopub.status.idle": "2022-05-20T02:53:55.192321Z",
     "shell.execute_reply": "2022-05-20T02:53:55.191722Z"
    },
    "papermill": {
     "duration": 1.002695,
     "end_time": "2022-05-20T02:53:55.192465",
     "exception": false,
     "start_time": "2022-05-20T02:53:54.189770",
     "status": "completed"
    },
    "tags": []
   },
   "outputs": [],
   "source": [
    "#hide\n",
    "import matplotlib.pyplot as plt\n",
    "import numpy as np\n",
    "import pandas as pd\n",
    "import seaborn as sns\n",
    "import matplotlib.pyplot as plt \n",
    "import matplotlib.dates as mdates\n",
    "import matplotlib.pyplot as plt"
   ]
  },
  {
   "cell_type": "code",
   "execution_count": 5,
   "id": "superior-blanket",
   "metadata": {
    "execution": {
     "iopub.execute_input": "2022-05-20T02:53:55.226593Z",
     "iopub.status.busy": "2022-05-20T02:53:55.225808Z",
     "iopub.status.idle": "2022-05-20T02:54:10.705858Z",
     "shell.execute_reply": "2022-05-20T02:54:10.705217Z"
    },
    "papermill": {
     "duration": 15.49984,
     "end_time": "2022-05-20T02:54:10.705996",
     "exception": false,
     "start_time": "2022-05-20T02:53:55.206156",
     "status": "completed"
    },
    "tags": []
   },
   "outputs": [
    {
     "name": "stderr",
     "output_type": "stream",
     "text": [
      "/home/runner/work/corr-app/corr-app/_notebooks/scripts/read_data.py:187: SettingWithCopyWarning:\n",
      "\n",
      "\n",
      "A value is trying to be set on a copy of a slice from a DataFrame.\n",
      "Try using .loc[row_indexer,col_indexer] = value instead\n",
      "\n",
      "See the caveats in the documentation: https://pandas.pydata.org/pandas-docs/stable/user_guide/indexing.html#returning-a-view-versus-a-copy\n",
      "\n"
     ]
    },
    {
     "name": "stderr",
     "output_type": "stream",
     "text": [
      "/home/runner/work/corr-app/corr-app/_notebooks/scripts/read_data.py:215: SettingWithCopyWarning:\n",
      "\n",
      "\n",
      "A value is trying to be set on a copy of a slice from a DataFrame.\n",
      "Try using .loc[row_indexer,col_indexer] = value instead\n",
      "\n",
      "See the caveats in the documentation: https://pandas.pydata.org/pandas-docs/stable/user_guide/indexing.html#returning-a-view-versus-a-copy\n",
      "\n"
     ]
    }
   ],
   "source": [
    "#hide\n",
    "df_all = read_api()\n",
    "#df_all = df_all.drop(['SP500', 'XAU', 'ETH', 'BTC'], axis=1)\n",
    "\n"
   ]
  },
  {
   "cell_type": "code",
   "execution_count": 6,
   "id": "mature-alert",
   "metadata": {
    "execution": {
     "iopub.execute_input": "2022-05-20T02:54:10.748555Z",
     "iopub.status.busy": "2022-05-20T02:54:10.747443Z",
     "iopub.status.idle": "2022-05-20T02:54:10.788493Z",
     "shell.execute_reply": "2022-05-20T02:54:10.787275Z"
    },
    "papermill": {
     "duration": 0.06382,
     "end_time": "2022-05-20T02:54:10.788656",
     "exception": false,
     "start_time": "2022-05-20T02:54:10.724836",
     "status": "completed"
    },
    "tags": []
   },
   "outputs": [],
   "source": [
    "#hide_input\n",
    "sum_corr = df_all.corr().sum().sort_values(ascending=True).index.values\n",
    "#df_all[sum_corr].corr()"
   ]
  },
  {
   "cell_type": "markdown",
   "id": "complex-syndicate",
   "metadata": {
    "papermill": {
     "duration": 0.015676,
     "end_time": "2022-05-20T02:54:10.818769",
     "exception": false,
     "start_time": "2022-05-20T02:54:10.803093",
     "status": "completed"
    },
    "tags": []
   },
   "source": [
    "## Išplėstinė koreliacijų matrica. "
   ]
  },
  {
   "cell_type": "code",
   "execution_count": 7,
   "id": "atomic-omaha",
   "metadata": {
    "execution": {
     "iopub.execute_input": "2022-05-20T02:54:10.853811Z",
     "iopub.status.busy": "2022-05-20T02:54:10.853109Z",
     "iopub.status.idle": "2022-05-20T02:54:12.262221Z",
     "shell.execute_reply": "2022-05-20T02:54:12.261633Z"
    },
    "papermill": {
     "duration": 1.426954,
     "end_time": "2022-05-20T02:54:12.262353",
     "exception": false,
     "start_time": "2022-05-20T02:54:10.835399",
     "status": "completed"
    },
    "tags": []
   },
   "outputs": [
    {
     "data": {
      "image/png": "[encoded data removed]",
      "text/plain": [
       "<Figure size 1080x792 with 2 Axes>"
      ]
     },
     "metadata": {
      "needs_background": "light"
     },
     "output_type": "display_data"
    }
   ],
   "source": [
    "#hide_input\n",
    "plt.figure(figsize=(15, 11))\n",
    "sns.heatmap(df_all[sum_corr].corr(), annot=True, cmap=\"cubehelix\") \n",
    "sns.set(font_scale=1.25)\n",
    "plt.savefig('corr_matrix.png', format='eps')"
   ]
  },
  {
   "cell_type": "code",
   "execution_count": 8,
   "id": "arbitrary-sullivan",
   "metadata": {
    "execution": {
     "iopub.execute_input": "2022-05-20T02:54:12.300341Z",
     "iopub.status.busy": "2022-05-20T02:54:12.297384Z",
     "iopub.status.idle": "2022-05-20T02:54:12.328758Z",
     "shell.execute_reply": "2022-05-20T02:54:12.328176Z"
    },
    "papermill": {
     "duration": 0.050864,
     "end_time": "2022-05-20T02:54:12.328896",
     "exception": false,
     "start_time": "2022-05-20T02:54:12.278032",
     "status": "completed"
    },
    "tags": []
   },
   "outputs": [],
   "source": [
    "#hide\n",
    "#df_all_mrk = read_api()"
   ]
  },
  {
   "cell_type": "code",
   "execution_count": 9,
   "id": "delayed-adapter",
   "metadata": {
    "execution": {
     "iopub.execute_input": "2022-05-20T02:54:12.365820Z",
     "iopub.status.busy": "2022-05-20T02:54:12.365132Z",
     "iopub.status.idle": "2022-05-20T02:54:12.399400Z",
     "shell.execute_reply": "2022-05-20T02:54:12.398749Z"
    },
    "papermill": {
     "duration": 0.054738,
     "end_time": "2022-05-20T02:54:12.399540",
     "exception": false,
     "start_time": "2022-05-20T02:54:12.344802",
     "status": "completed"
    },
    "tags": []
   },
   "outputs": [],
   "source": [
    "#hide\n",
    "#Koreliacijų koeficientai"
   ]
  },
  {
   "cell_type": "code",
   "execution_count": 10,
   "id": "seeing-celebration",
   "metadata": {
    "execution": {
     "iopub.execute_input": "2022-05-20T02:54:12.439800Z",
     "iopub.status.busy": "2022-05-20T02:54:12.439086Z",
     "iopub.status.idle": "2022-05-20T02:54:12.471485Z",
     "shell.execute_reply": "2022-05-20T02:54:12.470824Z"
    },
    "papermill": {
     "duration": 0.05201,
     "end_time": "2022-05-20T02:54:12.471620",
     "exception": false,
     "start_time": "2022-05-20T02:54:12.419610",
     "status": "completed"
    },
    "tags": []
   },
   "outputs": [],
   "source": [
    "#hide_input\n",
    "#sum_corr = df_all_mrk.corr().sum().sort_values(ascending=True).index.values\n",
    "#df_all_mrk[sum_corr].corr()"
   ]
  },
  {
   "cell_type": "code",
   "execution_count": 11,
   "id": "other-painting",
   "metadata": {
    "execution": {
     "iopub.execute_input": "2022-05-20T02:54:12.510711Z",
     "iopub.status.busy": "2022-05-20T02:54:12.510025Z",
     "iopub.status.idle": "2022-05-20T02:54:12.543470Z",
     "shell.execute_reply": "2022-05-20T02:54:12.542602Z"
    },
    "papermill": {
     "duration": 0.054865,
     "end_time": "2022-05-20T02:54:12.543618",
     "exception": false,
     "start_time": "2022-05-20T02:54:12.488753",
     "status": "completed"
    },
    "tags": []
   },
   "outputs": [],
   "source": [
    "#hide\n",
    "#Koreliacijos matrica. "
   ]
  },
  {
   "cell_type": "code",
   "execution_count": 12,
   "id": "modular-magnitude",
   "metadata": {
    "execution": {
     "iopub.execute_input": "2022-05-20T02:54:12.585862Z",
     "iopub.status.busy": "2022-05-20T02:54:12.585145Z",
     "iopub.status.idle": "2022-05-20T02:54:12.617883Z",
     "shell.execute_reply": "2022-05-20T02:54:12.617202Z"
    },
    "papermill": {
     "duration": 0.056913,
     "end_time": "2022-05-20T02:54:12.618041",
     "exception": false,
     "start_time": "2022-05-20T02:54:12.561128",
     "status": "completed"
    },
    "tags": []
   },
   "outputs": [],
   "source": [
    "#hide_input\n",
    "#plt.figure(figsize=(15, 8))\n",
    "#sns.heatmap(df_all_mrk[sum_corr].corr(), annot=True, cmap=\"BrBG\");\n",
    "#plt.savefig('corr_matrix_all.eps', format='eps')"
   ]
  },
  {
   "cell_type": "code",
   "execution_count": null,
   "id": "original-senator",
   "metadata": {
    "papermill": {
     "duration": 0.015406,
     "end_time": "2022-05-20T02:54:12.650517",
     "exception": false,
     "start_time": "2022-05-20T02:54:12.635111",
     "status": "completed"
    },
    "tags": []
   },
   "outputs": [],
   "source": []
  },
  {
   "cell_type": "code",
   "execution_count": null,
   "id": "saving-secretariat",
   "metadata": {
    "papermill": {
     "duration": 0.016234,
     "end_time": "2022-05-20T02:54:12.682777",
     "exception": false,
     "start_time": "2022-05-20T02:54:12.666543",
     "status": "completed"
    },
    "tags": []
   },
   "outputs": [],
   "source": []
  }
 ],
 "metadata": {
  "kernelspec": {
   "display_name": "Python 3",
   "language": "python",
   "name": "python3"
  },
  "language_info": {
   "codemirror_mode": {
    "name": "ipython",
    "version": 3
   },
   "file_extension": ".py",
   "mimetype": "text/x-python",
   "name": "python",
   "nbconvert_exporter": "python",
   "pygments_lexer": "ipython3",
   "version": "3.6.15"
  },
  "papermill": {
   "default_parameters": {},
   "duration": 22.353731,
   "end_time": "2022-05-20T02:54:13.320724",
   "environment_variables": {},
   "exception": null,
   "input_path": "App-Correlation_charts.ipynb",
   "output_path": "App-Correlation_charts.ipynb",
   "parameters": {},
   "start_time": "2022-05-20T02:53:50.966993",
   "version": "2.2.2"
  }
 },
 "nbformat": 4,
 "nbformat_minor": 5
}