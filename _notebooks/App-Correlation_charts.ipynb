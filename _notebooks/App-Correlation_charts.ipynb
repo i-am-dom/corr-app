{
 "cells": [
  {
   "cell_type": "markdown",
   "id": "touched-facility",
   "metadata": {
    "papermill": {
     "duration": 0.01546,
     "end_time": "2022-05-16T02:39:08.226347",
     "exception": false,
     "start_time": "2022-05-16T02:39:08.210887",
     "status": "completed"
    },
    "tags": []
   },
   "source": [
    "# Koreliacijų matrica\n",
    "> Išplėstinė koreliacijų matrica. \n",
    "\n",
    "- toc: true \n",
    "- badges: true\n",
    "- comments: false\n",
    "- categories: [Dominykas Tautkus]\n",
    "- image: images/matrix.png"
   ]
  },
  {
   "cell_type": "code",
   "execution_count": null,
   "id": "premium-weekend",
   "metadata": {
    "papermill": {
     "duration": 0.010858,
     "end_time": "2022-05-16T02:39:08.248753",
     "exception": false,
     "start_time": "2022-05-16T02:39:08.237895",
     "status": "completed"
    },
    "tags": []
   },
   "outputs": [],
   "source": []
  },
  {
   "cell_type": "code",
   "execution_count": 1,
   "id": "vertical-rebate",
   "metadata": {
    "execution": {
     "iopub.execute_input": "2022-05-16T02:39:08.281237Z",
     "iopub.status.busy": "2022-05-16T02:39:08.280693Z",
     "iopub.status.idle": "2022-05-16T02:39:08.290770Z",
     "shell.execute_reply": "2022-05-16T02:39:08.291168Z"
    },
    "papermill": {
     "duration": 0.031846,
     "end_time": "2022-05-16T02:39:08.291317",
     "exception": false,
     "start_time": "2022-05-16T02:39:08.259471",
     "status": "completed"
    },
    "tags": []
   },
   "outputs": [],
   "source": [
    "#hide\n",
    "%load_ext autoreload\n",
    "%autoreload 2"
   ]
  },
  {
   "cell_type": "code",
   "execution_count": 2,
   "id": "overall-advancement",
   "metadata": {
    "execution": {
     "iopub.execute_input": "2022-05-16T02:39:08.323068Z",
     "iopub.status.busy": "2022-05-16T02:39:08.322546Z",
     "iopub.status.idle": "2022-05-16T02:39:09.870494Z",
     "shell.execute_reply": "2022-05-16T02:39:09.869956Z"
    },
    "papermill": {
     "duration": 1.568652,
     "end_time": "2022-05-16T02:39:09.870634",
     "exception": false,
     "start_time": "2022-05-16T02:39:08.301982",
     "status": "completed"
    },
    "tags": []
   },
   "outputs": [],
   "source": [
    "#hide\n",
    "from scripts.read_data import read_api\n",
    "from IPython.display import HTML\n",
    "import plotly.graph_objects as go\n"
   ]
  },
  {
   "cell_type": "code",
   "execution_count": 3,
   "id": "light-crazy",
   "metadata": {
    "execution": {
     "iopub.execute_input": "2022-05-16T02:39:09.898058Z",
     "iopub.status.busy": "2022-05-16T02:39:09.897431Z",
     "iopub.status.idle": "2022-05-16T02:39:09.919174Z",
     "shell.execute_reply": "2022-05-16T02:39:09.919570Z"
    },
    "papermill": {
     "duration": 0.037858,
     "end_time": "2022-05-16T02:39:09.919708",
     "exception": false,
     "start_time": "2022-05-16T02:39:09.881850",
     "status": "completed"
    },
    "tags": []
   },
   "outputs": [],
   "source": [
    "#hide\n",
    "### ICO koreliacija"
   ]
  },
  {
   "cell_type": "code",
   "execution_count": 4,
   "id": "likely-bahrain",
   "metadata": {
    "execution": {
     "iopub.execute_input": "2022-05-16T02:39:09.945027Z",
     "iopub.status.busy": "2022-05-16T02:39:09.944433Z",
     "iopub.status.idle": "2022-05-16T02:39:10.808966Z",
     "shell.execute_reply": "2022-05-16T02:39:10.809467Z"
    },
    "papermill": {
     "duration": 0.879154,
     "end_time": "2022-05-16T02:39:10.809642",
     "exception": false,
     "start_time": "2022-05-16T02:39:09.930488",
     "status": "completed"
    },
    "tags": []
   },
   "outputs": [],
   "source": [
    "#hide\n",
    "import matplotlib.pyplot as plt\n",
    "import numpy as np\n",
    "import pandas as pd\n",
    "import seaborn as sns\n",
    "import matplotlib.pyplot as plt \n",
    "import matplotlib.dates as mdates\n",
    "import matplotlib.pyplot as plt"
   ]
  },
  {
   "cell_type": "code",
   "execution_count": 5,
   "id": "superior-blanket",
   "metadata": {
    "execution": {
     "iopub.execute_input": "2022-05-16T02:39:10.849871Z",
     "iopub.status.busy": "2022-05-16T02:39:10.849035Z",
     "iopub.status.idle": "2022-05-16T02:39:20.469787Z",
     "shell.execute_reply": "2022-05-16T02:39:20.470224Z"
    },
    "papermill": {
     "duration": 9.649261,
     "end_time": "2022-05-16T02:39:20.470389",
     "exception": false,
     "start_time": "2022-05-16T02:39:10.821128",
     "status": "completed"
    },
    "tags": []
   },
   "outputs": [
    {
     "name": "stderr",
     "output_type": "stream",
     "text": [
      "/home/runner/work/corr-app/corr-app/_notebooks/scripts/read_data.py:187: SettingWithCopyWarning:\n",
      "\n",
      "\n",
      "A value is trying to be set on a copy of a slice from a DataFrame.\n",
      "Try using .loc[row_indexer,col_indexer] = value instead\n",
      "\n",
      "See the caveats in the documentation: https://pandas.pydata.org/pandas-docs/stable/user_guide/indexing.html#returning-a-view-versus-a-copy\n",
      "\n"
     ]
    },
    {
     "name": "stderr",
     "output_type": "stream",
     "text": [
      "/home/runner/work/corr-app/corr-app/_notebooks/scripts/read_data.py:215: SettingWithCopyWarning:\n",
      "\n",
      "\n",
      "A value is trying to be set on a copy of a slice from a DataFrame.\n",
      "Try using .loc[row_indexer,col_indexer] = value instead\n",
      "\n",
      "See the caveats in the documentation: https://pandas.pydata.org/pandas-docs/stable/user_guide/indexing.html#returning-a-view-versus-a-copy\n",
      "\n"
     ]
    }
   ],
   "source": [
    "#hide\n",
    "df_all = read_api()\n",
    "#df_all = df_all.drop(['SP500', 'XAU', 'ETH', 'BTC'], axis=1)\n",
    "\n"
   ]
  },
  {
   "cell_type": "code",
   "execution_count": 6,
   "id": "mature-alert",
   "metadata": {
    "execution": {
     "iopub.execute_input": "2022-05-16T02:39:20.507131Z",
     "iopub.status.busy": "2022-05-16T02:39:20.505897Z",
     "iopub.status.idle": "2022-05-16T02:39:20.532312Z",
     "shell.execute_reply": "2022-05-16T02:39:20.531474Z"
    },
    "papermill": {
     "duration": 0.049599,
     "end_time": "2022-05-16T02:39:20.532449",
     "exception": false,
     "start_time": "2022-05-16T02:39:20.482850",
     "status": "completed"
    },
    "tags": []
   },
   "outputs": [],
   "source": [
    "#hide_input\n",
    "sum_corr = df_all.corr().sum().sort_values(ascending=True).index.values\n",
    "#df_all[sum_corr].corr()"
   ]
  },
  {
   "cell_type": "markdown",
   "id": "complex-syndicate",
   "metadata": {
    "papermill": {
     "duration": 0.011304,
     "end_time": "2022-05-16T02:39:20.556013",
     "exception": false,
     "start_time": "2022-05-16T02:39:20.544709",
     "status": "completed"
    },
    "tags": []
   },
   "source": [
    "## Išplėstinė koreliacijų matrica. "
   ]
  },
  {
   "cell_type": "code",
   "execution_count": 7,
   "id": "atomic-omaha",
   "metadata": {
    "execution": {
     "iopub.execute_input": "2022-05-16T02:39:20.596100Z",
     "iopub.status.busy": "2022-05-16T02:39:20.595550Z",
     "iopub.status.idle": "2022-05-16T02:39:21.832148Z",
     "shell.execute_reply": "2022-05-16T02:39:21.831711Z"
    },
    "papermill": {
     "duration": 1.264819,
     "end_time": "2022-05-16T02:39:21.832274",
     "exception": false,
     "start_time": "2022-05-16T02:39:20.567455",
     "status": "completed"
    },
    "tags": []
   },
   "outputs": [
    {
     "data": {
      "image/png": "[encoded data removed]",
      "text/plain": [
       "<Figure size 1080x792 with 2 Axes>"
      ]
     },
     "metadata": {
      "needs_background": "light"
     },
     "output_type": "display_data"
    }
   ],
   "source": [
    "#hide_input\n",
    "plt.figure(figsize=(15, 11))\n",
    "sns.heatmap(df_all[sum_corr].corr(), annot=True, cmap=\"cubehelix\") \n",
    "sns.set(font_scale=1.25)\n",
    "plt.savefig('corr_matrix.png', format='eps')"
   ]
  },
  {
   "cell_type": "code",
   "execution_count": 8,
   "id": "arbitrary-sullivan",
   "metadata": {
    "execution": {
     "iopub.execute_input": "2022-05-16T02:39:21.871553Z",
     "iopub.status.busy": "2022-05-16T02:39:21.871024Z",
     "iopub.status.idle": "2022-05-16T02:39:21.894548Z",
     "shell.execute_reply": "2022-05-16T02:39:21.893465Z"
    },
    "papermill": {
     "duration": 0.048815,
     "end_time": "2022-05-16T02:39:21.894673",
     "exception": false,
     "start_time": "2022-05-16T02:39:21.845858",
     "status": "completed"
    },
    "tags": []
   },
   "outputs": [],
   "source": [
    "#hide\n",
    "#df_all_mrk = read_api()"
   ]
  },
  {
   "cell_type": "code",
   "execution_count": 9,
   "id": "delayed-adapter",
   "metadata": {
    "execution": {
     "iopub.execute_input": "2022-05-16T02:39:21.924939Z",
     "iopub.status.busy": "2022-05-16T02:39:21.923993Z",
     "iopub.status.idle": "2022-05-16T02:39:21.951254Z",
     "shell.execute_reply": "2022-05-16T02:39:21.950411Z"
    },
    "papermill": {
     "duration": 0.043166,
     "end_time": "2022-05-16T02:39:21.951387",
     "exception": false,
     "start_time": "2022-05-16T02:39:21.908221",
     "status": "completed"
    },
    "tags": []
   },
   "outputs": [],
   "source": [
    "#hide\n",
    "#Koreliacijų koeficientai"
   ]
  },
  {
   "cell_type": "code",
   "execution_count": 10,
   "id": "seeing-celebration",
   "metadata": {
    "execution": {
     "iopub.execute_input": "2022-05-16T02:39:21.991393Z",
     "iopub.status.busy": "2022-05-16T02:39:21.987332Z",
     "iopub.status.idle": "2022-05-16T02:39:22.012936Z",
     "shell.execute_reply": "2022-05-16T02:39:22.013405Z"
    },
    "papermill": {
     "duration": 0.04683,
     "end_time": "2022-05-16T02:39:22.013560",
     "exception": false,
     "start_time": "2022-05-16T02:39:21.966730",
     "status": "completed"
    },
    "tags": []
   },
   "outputs": [],
   "source": [
    "#hide_input\n",
    "#sum_corr = df_all_mrk.corr().sum().sort_values(ascending=True).index.values\n",
    "#df_all_mrk[sum_corr].corr()"
   ]
  },
  {
   "cell_type": "code",
   "execution_count": 11,
   "id": "other-painting",
   "metadata": {
    "execution": {
     "iopub.execute_input": "2022-05-16T02:39:22.053353Z",
     "iopub.status.busy": "2022-05-16T02:39:22.052838Z",
     "iopub.status.idle": "2022-05-16T02:39:22.075389Z",
     "shell.execute_reply": "2022-05-16T02:39:22.074915Z"
    },
    "papermill": {
     "duration": 0.046476,
     "end_time": "2022-05-16T02:39:22.075520",
     "exception": false,
     "start_time": "2022-05-16T02:39:22.029044",
     "status": "completed"
    },
    "tags": []
   },
   "outputs": [],
   "source": [
    "#hide\n",
    "#Koreliacijos matrica. "
   ]
  },
  {
   "cell_type": "code",
   "execution_count": 12,
   "id": "modular-magnitude",
   "metadata": {
    "execution": {
     "iopub.execute_input": "2022-05-16T02:39:22.113784Z",
     "iopub.status.busy": "2022-05-16T02:39:22.113274Z",
     "iopub.status.idle": "2022-05-16T02:39:22.135384Z",
     "shell.execute_reply": "2022-05-16T02:39:22.134917Z"
    },
    "papermill": {
     "duration": 0.046075,
     "end_time": "2022-05-16T02:39:22.135508",
     "exception": false,
     "start_time": "2022-05-16T02:39:22.089433",
     "status": "completed"
    },
    "tags": []
   },
   "outputs": [],
   "source": [
    "#hide_input\n",
    "#plt.figure(figsize=(15, 8))\n",
    "#sns.heatmap(df_all_mrk[sum_corr].corr(), annot=True, cmap=\"BrBG\");\n",
    "#plt.savefig('corr_matrix_all.eps', format='eps')"
   ]
  },
  {
   "cell_type": "code",
   "execution_count": null,
   "id": "original-senator",
   "metadata": {
    "papermill": {
     "duration": 0.01301,
     "end_time": "2022-05-16T02:39:22.162083",
     "exception": false,
     "start_time": "2022-05-16T02:39:22.149073",
     "status": "completed"
    },
    "tags": []
   },
   "outputs": [],
   "source": []
  },
  {
   "cell_type": "code",
   "execution_count": null,
   "id": "saving-secretariat",
   "metadata": {
    "papermill": {
     "duration": 0.013156,
     "end_time": "2022-05-16T02:39:22.188421",
     "exception": false,
     "start_time": "2022-05-16T02:39:22.175265",
     "status": "completed"
    },
    "tags": []
   },
   "outputs": [],
   "source": []
  }
 ],
 "metadata": {
  "kernelspec": {
   "display_name": "Python 3",
   "language": "python",
   "name": "python3"
  },
  "language_info": {
   "codemirror_mode": {
    "name": "ipython",
    "version": 3
   },
   "file_extension": ".py",
   "mimetype": "text/x-python",
   "name": "python",
   "nbconvert_exporter": "python",
   "pygments_lexer": "ipython3",
   "version": "3.6.15"
  },
  "papermill": {
   "default_parameters": {},
   "duration": 15.545457,
   "end_time": "2022-05-16T02:39:22.820623",
   "environment_variables": {},
   "exception": null,
   "input_path": "App-Correlation_charts.ipynb",
   "output_path": "App-Correlation_charts.ipynb",
   "parameters": {},
   "start_time": "2022-05-16T02:39:07.275166",
   "version": "2.2.2"
  }
 },
 "nbformat": 4,
 "nbformat_minor": 5
}