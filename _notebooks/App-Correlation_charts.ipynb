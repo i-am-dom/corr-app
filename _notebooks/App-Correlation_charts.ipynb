{
 "cells": [
  {
   "cell_type": "markdown",
   "id": "touched-facility",
   "metadata": {
    "papermill": {
     "duration": 0.014885,
     "end_time": "2022-10-20T03:35:28.349127",
     "exception": false,
     "start_time": "2022-10-20T03:35:28.334242",
     "status": "completed"
    },
    "tags": []
   },
   "source": [
    "# Koreliacijų matrica\n",
    "> Išplėstinė koreliacijų matrica. \n",
    "\n",
    "- toc: true \n",
    "- badges: true\n",
    "- comments: false\n",
    "- categories: [Dominykas Tautkus]\n",
    "- image: images/matrix.png"
   ]
  },
  {
   "cell_type": "code",
   "execution_count": null,
   "id": "premium-weekend",
   "metadata": {
    "papermill": {
     "duration": 0.010433,
     "end_time": "2022-10-20T03:35:28.370793",
     "exception": false,
     "start_time": "2022-10-20T03:35:28.360360",
     "status": "completed"
    },
    "tags": []
   },
   "outputs": [],
   "source": []
  },
  {
   "cell_type": "code",
   "execution_count": 1,
   "id": "vertical-rebate",
   "metadata": {
    "execution": {
     "iopub.execute_input": "2022-10-20T03:35:28.403119Z",
     "iopub.status.busy": "2022-10-20T03:35:28.399801Z",
     "iopub.status.idle": "2022-10-20T03:35:28.413790Z",
     "shell.execute_reply": "2022-10-20T03:35:28.413208Z"
    },
    "papermill": {
     "duration": 0.032575,
     "end_time": "2022-10-20T03:35:28.413907",
     "exception": false,
     "start_time": "2022-10-20T03:35:28.381332",
     "status": "completed"
    },
    "tags": []
   },
   "outputs": [],
   "source": [
    "#hide\n",
    "%load_ext autoreload\n",
    "%autoreload 2"
   ]
  },
  {
   "cell_type": "code",
   "execution_count": 2,
   "id": "overall-advancement",
   "metadata": {
    "execution": {
     "iopub.execute_input": "2022-10-20T03:35:28.438303Z",
     "iopub.status.busy": "2022-10-20T03:35:28.437732Z",
     "iopub.status.idle": "2022-10-20T03:35:29.849185Z",
     "shell.execute_reply": "2022-10-20T03:35:29.848123Z"
    },
    "papermill": {
     "duration": 1.424997,
     "end_time": "2022-10-20T03:35:29.849331",
     "exception": false,
     "start_time": "2022-10-20T03:35:28.424334",
     "status": "completed"
    },
    "tags": []
   },
   "outputs": [],
   "source": [
    "#hide\n",
    "from scripts.read_data import read_api\n",
    "from IPython.display import HTML\n",
    "import plotly.graph_objects as go\n"
   ]
  },
  {
   "cell_type": "code",
   "execution_count": 3,
   "id": "light-crazy",
   "metadata": {
    "execution": {
     "iopub.execute_input": "2022-10-20T03:35:29.874420Z",
     "iopub.status.busy": "2022-10-20T03:35:29.873831Z",
     "iopub.status.idle": "2022-10-20T03:35:29.897123Z",
     "shell.execute_reply": "2022-10-20T03:35:29.896283Z"
    },
    "papermill": {
     "duration": 0.037016,
     "end_time": "2022-10-20T03:35:29.897237",
     "exception": false,
     "start_time": "2022-10-20T03:35:29.860221",
     "status": "completed"
    },
    "tags": []
   },
   "outputs": [],
   "source": [
    "#hide\n",
    "### ICO koreliacija"
   ]
  },
  {
   "cell_type": "code",
   "execution_count": 4,
   "id": "likely-bahrain",
   "metadata": {
    "execution": {
     "iopub.execute_input": "2022-10-20T03:35:29.928518Z",
     "iopub.status.busy": "2022-10-20T03:35:29.927947Z",
     "iopub.status.idle": "2022-10-20T03:35:30.775974Z",
     "shell.execute_reply": "2022-10-20T03:35:30.775397Z"
    },
    "papermill": {
     "duration": 0.868402,
     "end_time": "2022-10-20T03:35:30.776116",
     "exception": false,
     "start_time": "2022-10-20T03:35:29.907714",
     "status": "completed"
    },
    "tags": []
   },
   "outputs": [],
   "source": [
    "#hide\n",
    "import matplotlib.pyplot as plt\n",
    "import numpy as np\n",
    "import pandas as pd\n",
    "import seaborn as sns\n",
    "import matplotlib.pyplot as plt \n",
    "import matplotlib.dates as mdates\n",
    "import matplotlib.pyplot as plt"
   ]
  },
  {
   "cell_type": "code",
   "execution_count": 5,
   "id": "superior-blanket",
   "metadata": {
    "execution": {
     "iopub.execute_input": "2022-10-20T03:35:30.802964Z",
     "iopub.status.busy": "2022-10-20T03:35:30.802360Z",
     "iopub.status.idle": "2022-10-20T03:35:40.358926Z",
     "shell.execute_reply": "2022-10-20T03:35:40.358378Z"
    },
    "papermill": {
     "duration": 9.571357,
     "end_time": "2022-10-20T03:35:40.359050",
     "exception": false,
     "start_time": "2022-10-20T03:35:30.787693",
     "status": "completed"
    },
    "tags": []
   },
   "outputs": [
    {
     "name": "stderr",
     "output_type": "stream",
     "text": [
      "/home/runner/work/corr-app/corr-app/_notebooks/scripts/read_data.py:187: SettingWithCopyWarning:\n",
      "\n",
      "\n",
      "A value is trying to be set on a copy of a slice from a DataFrame.\n",
      "Try using .loc[row_indexer,col_indexer] = value instead\n",
      "\n",
      "See the caveats in the documentation: https://pandas.pydata.org/pandas-docs/stable/user_guide/indexing.html#returning-a-view-versus-a-copy\n",
      "\n"
     ]
    },
    {
     "name": "stderr",
     "output_type": "stream",
     "text": [
      "/home/runner/work/corr-app/corr-app/_notebooks/scripts/read_data.py:215: SettingWithCopyWarning:\n",
      "\n",
      "\n",
      "A value is trying to be set on a copy of a slice from a DataFrame.\n",
      "Try using .loc[row_indexer,col_indexer] = value instead\n",
      "\n",
      "See the caveats in the documentation: https://pandas.pydata.org/pandas-docs/stable/user_guide/indexing.html#returning-a-view-versus-a-copy\n",
      "\n"
     ]
    }
   ],
   "source": [
    "#hide\n",
    "df_all = read_api()\n",
    "#df_all = df_all.drop(['SP500', 'XAU', 'ETH', 'BTC'], axis=1)\n",
    "\n"
   ]
  },
  {
   "cell_type": "code",
   "execution_count": 6,
   "id": "mature-alert",
   "metadata": {
    "execution": {
     "iopub.execute_input": "2022-10-20T03:35:40.388738Z",
     "iopub.status.busy": "2022-10-20T03:35:40.388128Z",
     "iopub.status.idle": "2022-10-20T03:35:40.418395Z",
     "shell.execute_reply": "2022-10-20T03:35:40.417804Z"
    },
    "papermill": {
     "duration": 0.046675,
     "end_time": "2022-10-20T03:35:40.418509",
     "exception": false,
     "start_time": "2022-10-20T03:35:40.371834",
     "status": "completed"
    },
    "tags": []
   },
   "outputs": [],
   "source": [
    "#hide_input\n",
    "sum_corr = df_all.corr().sum().sort_values(ascending=True).index.values\n",
    "#df_all[sum_corr].corr()"
   ]
  },
  {
   "cell_type": "markdown",
   "id": "complex-syndicate",
   "metadata": {
    "papermill": {
     "duration": 0.011089,
     "end_time": "2022-10-20T03:35:40.440796",
     "exception": false,
     "start_time": "2022-10-20T03:35:40.429707",
     "status": "completed"
    },
    "tags": []
   },
   "source": [
    "## Išplėstinė koreliacijų matrica. "
   ]
  },
  {
   "cell_type": "code",
   "execution_count": 7,
   "id": "atomic-omaha",
   "metadata": {
    "execution": {
     "iopub.execute_input": "2022-10-20T03:35:40.467599Z",
     "iopub.status.busy": "2022-10-20T03:35:40.467012Z",
     "iopub.status.idle": "2022-10-20T03:35:41.682732Z",
     "shell.execute_reply": "2022-10-20T03:35:41.683186Z"
    },
    "papermill": {
     "duration": 1.231514,
     "end_time": "2022-10-20T03:35:41.683324",
     "exception": false,
     "start_time": "2022-10-20T03:35:40.451810",
     "status": "completed"
    },
    "tags": []
   },
   "outputs": [
    {
     "data": {
      "image/png": "[encoded data removed]",
      "text/plain": [
       "<Figure size 1080x792 with 2 Axes>"
      ]
     },
     "metadata": {
      "needs_background": "light"
     },
     "output_type": "display_data"
    }
   ],
   "source": [
    "#hide_input\n",
    "plt.figure(figsize=(15, 11))\n",
    "sns.heatmap(df_all[sum_corr].corr(), annot=True, cmap=\"cubehelix\") \n",
    "sns.set(font_scale=1.25)\n",
    "plt.savefig('corr_matrix.png', format='eps')"
   ]
  },
  {
   "cell_type": "code",
   "execution_count": 8,
   "id": "arbitrary-sullivan",
   "metadata": {
    "execution": {
     "iopub.execute_input": "2022-10-20T03:35:41.713683Z",
     "iopub.status.busy": "2022-10-20T03:35:41.712879Z",
     "iopub.status.idle": "2022-10-20T03:35:41.744190Z",
     "shell.execute_reply": "2022-10-20T03:35:41.743024Z"
    },
    "papermill": {
     "duration": 0.047469,
     "end_time": "2022-10-20T03:35:41.744332",
     "exception": false,
     "start_time": "2022-10-20T03:35:41.696863",
     "status": "completed"
    },
    "tags": []
   },
   "outputs": [],
   "source": [
    "#hide\n",
    "#df_all_mrk = read_api()"
   ]
  },
  {
   "cell_type": "code",
   "execution_count": 9,
   "id": "delayed-adapter",
   "metadata": {
    "execution": {
     "iopub.execute_input": "2022-10-20T03:35:41.776720Z",
     "iopub.status.busy": "2022-10-20T03:35:41.776146Z",
     "iopub.status.idle": "2022-10-20T03:35:41.803396Z",
     "shell.execute_reply": "2022-10-20T03:35:41.802935Z"
    },
    "papermill": {
     "duration": 0.044462,
     "end_time": "2022-10-20T03:35:41.803514",
     "exception": false,
     "start_time": "2022-10-20T03:35:41.759052",
     "status": "completed"
    },
    "tags": []
   },
   "outputs": [],
   "source": [
    "#hide\n",
    "#Koreliacijų koeficientai"
   ]
  },
  {
   "cell_type": "code",
   "execution_count": 10,
   "id": "seeing-celebration",
   "metadata": {
    "execution": {
     "iopub.execute_input": "2022-10-20T03:35:41.837367Z",
     "iopub.status.busy": "2022-10-20T03:35:41.836723Z",
     "iopub.status.idle": "2022-10-20T03:35:41.861227Z",
     "shell.execute_reply": "2022-10-20T03:35:41.860676Z"
    },
    "papermill": {
     "duration": 0.044444,
     "end_time": "2022-10-20T03:35:41.861360",
     "exception": false,
     "start_time": "2022-10-20T03:35:41.816916",
     "status": "completed"
    },
    "tags": []
   },
   "outputs": [],
   "source": [
    "#hide_input\n",
    "#sum_corr = df_all_mrk.corr().sum().sort_values(ascending=True).index.values\n",
    "#df_all_mrk[sum_corr].corr()"
   ]
  },
  {
   "cell_type": "code",
   "execution_count": 11,
   "id": "other-painting",
   "metadata": {
    "execution": {
     "iopub.execute_input": "2022-10-20T03:35:41.894120Z",
     "iopub.status.busy": "2022-10-20T03:35:41.893545Z",
     "iopub.status.idle": "2022-10-20T03:35:41.918850Z",
     "shell.execute_reply": "2022-10-20T03:35:41.918254Z"
    },
    "papermill": {
     "duration": 0.044238,
     "end_time": "2022-10-20T03:35:41.918973",
     "exception": false,
     "start_time": "2022-10-20T03:35:41.874735",
     "status": "completed"
    },
    "tags": []
   },
   "outputs": [],
   "source": [
    "#hide\n",
    "#Koreliacijos matrica. "
   ]
  },
  {
   "cell_type": "code",
   "execution_count": 12,
   "id": "modular-magnitude",
   "metadata": {
    "execution": {
     "iopub.execute_input": "2022-10-20T03:35:41.949223Z",
     "iopub.status.busy": "2022-10-20T03:35:41.948609Z",
     "iopub.status.idle": "2022-10-20T03:35:41.975840Z",
     "shell.execute_reply": "2022-10-20T03:35:41.975230Z"
    },
    "papermill": {
     "duration": 0.043015,
     "end_time": "2022-10-20T03:35:41.975949",
     "exception": false,
     "start_time": "2022-10-20T03:35:41.932934",
     "status": "completed"
    },
    "tags": []
   },
   "outputs": [],
   "source": [
    "#hide_input\n",
    "#plt.figure(figsize=(15, 8))\n",
    "#sns.heatmap(df_all_mrk[sum_corr].corr(), annot=True, cmap=\"BrBG\");\n",
    "#plt.savefig('corr_matrix_all.eps', format='eps')"
   ]
  },
  {
   "cell_type": "code",
   "execution_count": null,
   "id": "original-senator",
   "metadata": {
    "papermill": {
     "duration": 0.012913,
     "end_time": "2022-10-20T03:35:42.001890",
     "exception": false,
     "start_time": "2022-10-20T03:35:41.988977",
     "status": "completed"
    },
    "tags": []
   },
   "outputs": [],
   "source": []
  },
  {
   "cell_type": "code",
   "execution_count": null,
   "id": "saving-secretariat",
   "metadata": {
    "papermill": {
     "duration": 0.013043,
     "end_time": "2022-10-20T03:35:42.027920",
     "exception": false,
     "start_time": "2022-10-20T03:35:42.014877",
     "status": "completed"
    },
    "tags": []
   },
   "outputs": [],
   "source": []
  }
 ],
 "metadata": {
  "kernelspec": {
   "display_name": "Python 3",
   "language": "python",
   "name": "python3"
  },
  "language_info": {
   "codemirror_mode": {
    "name": "ipython",
    "version": 3
   },
   "file_extension": ".py",
   "mimetype": "text/x-python",
   "name": "python",
   "nbconvert_exporter": "python",
   "pygments_lexer": "ipython3",
   "version": "3.6.15"
  },
  "papermill": {
   "default_parameters": {},
   "duration": 15.256831,
   "end_time": "2022-10-20T03:35:42.660884",
   "environment_variables": {},
   "exception": null,
   "input_path": "App-Correlation_charts.ipynb",
   "output_path": "App-Correlation_charts.ipynb",
   "parameters": {},
   "start_time": "2022-10-20T03:35:27.404053",
   "version": "2.2.2"
  }
 },
 "nbformat": 4,
 "nbformat_minor": 5
}