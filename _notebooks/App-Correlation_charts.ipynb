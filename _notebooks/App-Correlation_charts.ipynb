{
 "cells": [
  {
   "cell_type": "markdown",
   "id": "touched-facility",
   "metadata": {
    "papermill": {
     "duration": 0.014725,
     "end_time": "2022-07-12T03:26:43.477377",
     "exception": false,
     "start_time": "2022-07-12T03:26:43.462652",
     "status": "completed"
    },
    "tags": []
   },
   "source": [
    "# Koreliacijų matrica\n",
    "> Išplėstinė koreliacijų matrica. \n",
    "\n",
    "- toc: true \n",
    "- badges: true\n",
    "- comments: false\n",
    "- categories: [Dominykas Tautkus]\n",
    "- image: images/matrix.png"
   ]
  },
  {
   "cell_type": "code",
   "execution_count": null,
   "id": "premium-weekend",
   "metadata": {
    "papermill": {
     "duration": 0.010407,
     "end_time": "2022-07-12T03:26:43.499030",
     "exception": false,
     "start_time": "2022-07-12T03:26:43.488623",
     "status": "completed"
    },
    "tags": []
   },
   "outputs": [],
   "source": []
  },
  {
   "cell_type": "code",
   "execution_count": 1,
   "id": "vertical-rebate",
   "metadata": {
    "execution": {
     "iopub.execute_input": "2022-07-12T03:26:43.531874Z",
     "iopub.status.busy": "2022-07-12T03:26:43.531271Z",
     "iopub.status.idle": "2022-07-12T03:26:43.541663Z",
     "shell.execute_reply": "2022-07-12T03:26:43.542122Z"
    },
    "papermill": {
     "duration": 0.031839,
     "end_time": "2022-07-12T03:26:43.542286",
     "exception": false,
     "start_time": "2022-07-12T03:26:43.510447",
     "status": "completed"
    },
    "tags": []
   },
   "outputs": [],
   "source": [
    "#hide\n",
    "%load_ext autoreload\n",
    "%autoreload 2"
   ]
  },
  {
   "cell_type": "code",
   "execution_count": 2,
   "id": "overall-advancement",
   "metadata": {
    "execution": {
     "iopub.execute_input": "2022-07-12T03:26:43.566470Z",
     "iopub.status.busy": "2022-07-12T03:26:43.565848Z",
     "iopub.status.idle": "2022-07-12T03:26:44.737812Z",
     "shell.execute_reply": "2022-07-12T03:26:44.737290Z"
    },
    "papermill": {
     "duration": 1.185274,
     "end_time": "2022-07-12T03:26:44.737937",
     "exception": false,
     "start_time": "2022-07-12T03:26:43.552663",
     "status": "completed"
    },
    "tags": []
   },
   "outputs": [],
   "source": [
    "#hide\n",
    "from scripts.read_data import read_api\n",
    "from IPython.display import HTML\n",
    "import plotly.graph_objects as go\n"
   ]
  },
  {
   "cell_type": "code",
   "execution_count": 3,
   "id": "light-crazy",
   "metadata": {
    "execution": {
     "iopub.execute_input": "2022-07-12T03:26:44.763769Z",
     "iopub.status.busy": "2022-07-12T03:26:44.763173Z",
     "iopub.status.idle": "2022-07-12T03:26:44.785151Z",
     "shell.execute_reply": "2022-07-12T03:26:44.785577Z"
    },
    "papermill": {
     "duration": 0.036823,
     "end_time": "2022-07-12T03:26:44.785702",
     "exception": false,
     "start_time": "2022-07-12T03:26:44.748879",
     "status": "completed"
    },
    "tags": []
   },
   "outputs": [],
   "source": [
    "#hide\n",
    "### ICO koreliacija"
   ]
  },
  {
   "cell_type": "code",
   "execution_count": 4,
   "id": "likely-bahrain",
   "metadata": {
    "execution": {
     "iopub.execute_input": "2022-07-12T03:26:44.810407Z",
     "iopub.status.busy": "2022-07-12T03:26:44.809794Z",
     "iopub.status.idle": "2022-07-12T03:26:45.642794Z",
     "shell.execute_reply": "2022-07-12T03:26:45.642162Z"
    },
    "papermill": {
     "duration": 0.846802,
     "end_time": "2022-07-12T03:26:45.642940",
     "exception": false,
     "start_time": "2022-07-12T03:26:44.796138",
     "status": "completed"
    },
    "tags": []
   },
   "outputs": [],
   "source": [
    "#hide\n",
    "import matplotlib.pyplot as plt\n",
    "import numpy as np\n",
    "import pandas as pd\n",
    "import seaborn as sns\n",
    "import matplotlib.pyplot as plt \n",
    "import matplotlib.dates as mdates\n",
    "import matplotlib.pyplot as plt"
   ]
  },
  {
   "cell_type": "code",
   "execution_count": 5,
   "id": "superior-blanket",
   "metadata": {
    "execution": {
     "iopub.execute_input": "2022-07-12T03:26:45.669435Z",
     "iopub.status.busy": "2022-07-12T03:26:45.668815Z",
     "iopub.status.idle": "2022-07-12T03:27:00.184546Z",
     "shell.execute_reply": "2022-07-12T03:27:00.183654Z"
    },
    "papermill": {
     "duration": 14.530647,
     "end_time": "2022-07-12T03:27:00.184682",
     "exception": false,
     "start_time": "2022-07-12T03:26:45.654035",
     "status": "completed"
    },
    "tags": []
   },
   "outputs": [
    {
     "name": "stderr",
     "output_type": "stream",
     "text": [
      "/home/runner/work/corr-app/corr-app/_notebooks/scripts/read_data.py:187: SettingWithCopyWarning:\n",
      "\n",
      "\n",
      "A value is trying to be set on a copy of a slice from a DataFrame.\n",
      "Try using .loc[row_indexer,col_indexer] = value instead\n",
      "\n",
      "See the caveats in the documentation: https://pandas.pydata.org/pandas-docs/stable/user_guide/indexing.html#returning-a-view-versus-a-copy\n",
      "\n"
     ]
    },
    {
     "name": "stderr",
     "output_type": "stream",
     "text": [
      "/home/runner/work/corr-app/corr-app/_notebooks/scripts/read_data.py:215: SettingWithCopyWarning:\n",
      "\n",
      "\n",
      "A value is trying to be set on a copy of a slice from a DataFrame.\n",
      "Try using .loc[row_indexer,col_indexer] = value instead\n",
      "\n",
      "See the caveats in the documentation: https://pandas.pydata.org/pandas-docs/stable/user_guide/indexing.html#returning-a-view-versus-a-copy\n",
      "\n"
     ]
    }
   ],
   "source": [
    "#hide\n",
    "df_all = read_api()\n",
    "#df_all = df_all.drop(['SP500', 'XAU', 'ETH', 'BTC'], axis=1)\n",
    "\n"
   ]
  },
  {
   "cell_type": "code",
   "execution_count": 6,
   "id": "mature-alert",
   "metadata": {
    "execution": {
     "iopub.execute_input": "2022-07-12T03:27:00.213620Z",
     "iopub.status.busy": "2022-07-12T03:27:00.213015Z",
     "iopub.status.idle": "2022-07-12T03:27:00.244288Z",
     "shell.execute_reply": "2022-07-12T03:27:00.243753Z"
    },
    "papermill": {
     "duration": 0.047001,
     "end_time": "2022-07-12T03:27:00.244415",
     "exception": false,
     "start_time": "2022-07-12T03:27:00.197414",
     "status": "completed"
    },
    "tags": []
   },
   "outputs": [],
   "source": [
    "#hide_input\n",
    "sum_corr = df_all.corr().sum().sort_values(ascending=True).index.values\n",
    "#df_all[sum_corr].corr()"
   ]
  },
  {
   "cell_type": "markdown",
   "id": "complex-syndicate",
   "metadata": {
    "papermill": {
     "duration": 0.010951,
     "end_time": "2022-07-12T03:27:00.267150",
     "exception": false,
     "start_time": "2022-07-12T03:27:00.256199",
     "status": "completed"
    },
    "tags": []
   },
   "source": [
    "## Išplėstinė koreliacijų matrica. "
   ]
  },
  {
   "cell_type": "code",
   "execution_count": 7,
   "id": "atomic-omaha",
   "metadata": {
    "execution": {
     "iopub.execute_input": "2022-07-12T03:27:00.293021Z",
     "iopub.status.busy": "2022-07-12T03:27:00.292442Z",
     "iopub.status.idle": "2022-07-12T03:27:01.484255Z",
     "shell.execute_reply": "2022-07-12T03:27:01.484714Z"
    },
    "papermill": {
     "duration": 1.206776,
     "end_time": "2022-07-12T03:27:01.484862",
     "exception": false,
     "start_time": "2022-07-12T03:27:00.278086",
     "status": "completed"
    },
    "tags": []
   },
   "outputs": [
    {
     "data": {
      "image/png": "[encoded data removed]",
      "text/plain": [
       "<Figure size 1080x792 with 2 Axes>"
      ]
     },
     "metadata": {
      "needs_background": "light"
     },
     "output_type": "display_data"
    }
   ],
   "source": [
    "#hide_input\n",
    "plt.figure(figsize=(15, 11))\n",
    "sns.heatmap(df_all[sum_corr].corr(), annot=True, cmap=\"cubehelix\") \n",
    "sns.set(font_scale=1.25)\n",
    "plt.savefig('corr_matrix.png', format='eps')"
   ]
  },
  {
   "cell_type": "code",
   "execution_count": 8,
   "id": "arbitrary-sullivan",
   "metadata": {
    "execution": {
     "iopub.execute_input": "2022-07-12T03:27:01.515801Z",
     "iopub.status.busy": "2022-07-12T03:27:01.515206Z",
     "iopub.status.idle": "2022-07-12T03:27:01.542144Z",
     "shell.execute_reply": "2022-07-12T03:27:01.542660Z"
    },
    "papermill": {
     "duration": 0.044439,
     "end_time": "2022-07-12T03:27:01.542813",
     "exception": false,
     "start_time": "2022-07-12T03:27:01.498374",
     "status": "completed"
    },
    "tags": []
   },
   "outputs": [],
   "source": [
    "#hide\n",
    "#df_all_mrk = read_api()"
   ]
  },
  {
   "cell_type": "code",
   "execution_count": 9,
   "id": "delayed-adapter",
   "metadata": {
    "execution": {
     "iopub.execute_input": "2022-07-12T03:27:01.574157Z",
     "iopub.status.busy": "2022-07-12T03:27:01.573584Z",
     "iopub.status.idle": "2022-07-12T03:27:01.601164Z",
     "shell.execute_reply": "2022-07-12T03:27:01.600678Z"
    },
    "papermill": {
     "duration": 0.044459,
     "end_time": "2022-07-12T03:27:01.601273",
     "exception": false,
     "start_time": "2022-07-12T03:27:01.556814",
     "status": "completed"
    },
    "tags": []
   },
   "outputs": [],
   "source": [
    "#hide\n",
    "#Koreliacijų koeficientai"
   ]
  },
  {
   "cell_type": "code",
   "execution_count": 10,
   "id": "seeing-celebration",
   "metadata": {
    "execution": {
     "iopub.execute_input": "2022-07-12T03:27:01.635570Z",
     "iopub.status.busy": "2022-07-12T03:27:01.633213Z",
     "iopub.status.idle": "2022-07-12T03:27:01.659473Z",
     "shell.execute_reply": "2022-07-12T03:27:01.658991Z"
    },
    "papermill": {
     "duration": 0.045097,
     "end_time": "2022-07-12T03:27:01.659589",
     "exception": false,
     "start_time": "2022-07-12T03:27:01.614492",
     "status": "completed"
    },
    "tags": []
   },
   "outputs": [],
   "source": [
    "#hide_input\n",
    "#sum_corr = df_all_mrk.corr().sum().sort_values(ascending=True).index.values\n",
    "#df_all_mrk[sum_corr].corr()"
   ]
  },
  {
   "cell_type": "code",
   "execution_count": 11,
   "id": "other-painting",
   "metadata": {
    "execution": {
     "iopub.execute_input": "2022-07-12T03:27:01.757812Z",
     "iopub.status.busy": "2022-07-12T03:27:01.757180Z",
     "iopub.status.idle": "2022-07-12T03:27:01.780856Z",
     "shell.execute_reply": "2022-07-12T03:27:01.780336Z"
    },
    "papermill": {
     "duration": 0.054884,
     "end_time": "2022-07-12T03:27:01.780978",
     "exception": false,
     "start_time": "2022-07-12T03:27:01.726094",
     "status": "completed"
    },
    "tags": []
   },
   "outputs": [],
   "source": [
    "#hide\n",
    "#Koreliacijos matrica. "
   ]
  },
  {
   "cell_type": "code",
   "execution_count": 12,
   "id": "modular-magnitude",
   "metadata": {
    "execution": {
     "iopub.execute_input": "2022-07-12T03:27:01.815467Z",
     "iopub.status.busy": "2022-07-12T03:27:01.809906Z",
     "iopub.status.idle": "2022-07-12T03:27:01.838646Z",
     "shell.execute_reply": "2022-07-12T03:27:01.839166Z"
    },
    "papermill": {
     "duration": 0.04518,
     "end_time": "2022-07-12T03:27:01.839311",
     "exception": false,
     "start_time": "2022-07-12T03:27:01.794131",
     "status": "completed"
    },
    "tags": []
   },
   "outputs": [],
   "source": [
    "#hide_input\n",
    "#plt.figure(figsize=(15, 8))\n",
    "#sns.heatmap(df_all_mrk[sum_corr].corr(), annot=True, cmap=\"BrBG\");\n",
    "#plt.savefig('corr_matrix_all.eps', format='eps')"
   ]
  },
  {
   "cell_type": "code",
   "execution_count": null,
   "id": "original-senator",
   "metadata": {
    "papermill": {
     "duration": 0.013503,
     "end_time": "2022-07-12T03:27:01.866609",
     "exception": false,
     "start_time": "2022-07-12T03:27:01.853106",
     "status": "completed"
    },
    "tags": []
   },
   "outputs": [],
   "source": []
  },
  {
   "cell_type": "code",
   "execution_count": null,
   "id": "saving-secretariat",
   "metadata": {
    "papermill": {
     "duration": 0.012982,
     "end_time": "2022-07-12T03:27:01.892487",
     "exception": false,
     "start_time": "2022-07-12T03:27:01.879505",
     "status": "completed"
    },
    "tags": []
   },
   "outputs": [],
   "source": []
  }
 ],
 "metadata": {
  "kernelspec": {
   "display_name": "Python 3",
   "language": "python",
   "name": "python3"
  },
  "language_info": {
   "codemirror_mode": {
    "name": "ipython",
    "version": 3
   },
   "file_extension": ".py",
   "mimetype": "text/x-python",
   "name": "python",
   "nbconvert_exporter": "python",
   "pygments_lexer": "ipython3",
   "version": "3.6.15"
  },
  "papermill": {
   "default_parameters": {},
   "duration": 19.889842,
   "end_time": "2022-07-12T03:27:02.423915",
   "environment_variables": {},
   "exception": null,
   "input_path": "App-Correlation_charts.ipynb",
   "output_path": "App-Correlation_charts.ipynb",
   "parameters": {},
   "start_time": "2022-07-12T03:26:42.534073",
   "version": "2.2.2"
  }
 },
 "nbformat": 4,
 "nbformat_minor": 5
}