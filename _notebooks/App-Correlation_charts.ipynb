{
 "cells": [
  {
   "cell_type": "markdown",
   "id": "touched-facility",
   "metadata": {
    "papermill": {
     "duration": 0.014838,
     "end_time": "2022-07-24T03:13:21.065713",
     "exception": false,
     "start_time": "2022-07-24T03:13:21.050875",
     "status": "completed"
    },
    "tags": []
   },
   "source": [
    "# Koreliacijų matrica\n",
    "> Išplėstinė koreliacijų matrica. \n",
    "\n",
    "- toc: true \n",
    "- badges: true\n",
    "- comments: false\n",
    "- categories: [Dominykas Tautkus]\n",
    "- image: images/matrix.png"
   ]
  },
  {
   "cell_type": "code",
   "execution_count": null,
   "id": "premium-weekend",
   "metadata": {
    "papermill": {
     "duration": 0.010985,
     "end_time": "2022-07-24T03:13:21.088375",
     "exception": false,
     "start_time": "2022-07-24T03:13:21.077390",
     "status": "completed"
    },
    "tags": []
   },
   "outputs": [],
   "source": []
  },
  {
   "cell_type": "code",
   "execution_count": 1,
   "id": "vertical-rebate",
   "metadata": {
    "execution": {
     "iopub.execute_input": "2022-07-24T03:13:21.120601Z",
     "iopub.status.busy": "2022-07-24T03:13:21.119976Z",
     "iopub.status.idle": "2022-07-24T03:13:21.131512Z",
     "shell.execute_reply": "2022-07-24T03:13:21.131934Z"
    },
    "papermill": {
     "duration": 0.032702,
     "end_time": "2022-07-24T03:13:21.132078",
     "exception": false,
     "start_time": "2022-07-24T03:13:21.099376",
     "status": "completed"
    },
    "tags": []
   },
   "outputs": [],
   "source": [
    "#hide\n",
    "%load_ext autoreload\n",
    "%autoreload 2"
   ]
  },
  {
   "cell_type": "code",
   "execution_count": 2,
   "id": "overall-advancement",
   "metadata": {
    "execution": {
     "iopub.execute_input": "2022-07-24T03:13:21.157517Z",
     "iopub.status.busy": "2022-07-24T03:13:21.156909Z",
     "iopub.status.idle": "2022-07-24T03:13:22.238680Z",
     "shell.execute_reply": "2022-07-24T03:13:22.238175Z"
    },
    "papermill": {
     "duration": 1.095788,
     "end_time": "2022-07-24T03:13:22.238803",
     "exception": false,
     "start_time": "2022-07-24T03:13:21.143015",
     "status": "completed"
    },
    "tags": []
   },
   "outputs": [],
   "source": [
    "#hide\n",
    "from scripts.read_data import read_api\n",
    "from IPython.display import HTML\n",
    "import plotly.graph_objects as go\n"
   ]
  },
  {
   "cell_type": "code",
   "execution_count": 3,
   "id": "light-crazy",
   "metadata": {
    "execution": {
     "iopub.execute_input": "2022-07-24T03:13:22.269777Z",
     "iopub.status.busy": "2022-07-24T03:13:22.269162Z",
     "iopub.status.idle": "2022-07-24T03:13:22.295349Z",
     "shell.execute_reply": "2022-07-24T03:13:22.294855Z"
    },
    "papermill": {
     "duration": 0.045496,
     "end_time": "2022-07-24T03:13:22.295467",
     "exception": false,
     "start_time": "2022-07-24T03:13:22.249971",
     "status": "completed"
    },
    "tags": []
   },
   "outputs": [],
   "source": [
    "#hide\n",
    "### ICO koreliacija"
   ]
  },
  {
   "cell_type": "code",
   "execution_count": 4,
   "id": "likely-bahrain",
   "metadata": {
    "execution": {
     "iopub.execute_input": "2022-07-24T03:13:22.321339Z",
     "iopub.status.busy": "2022-07-24T03:13:22.320725Z",
     "iopub.status.idle": "2022-07-24T03:13:23.164860Z",
     "shell.execute_reply": "2022-07-24T03:13:23.165348Z"
    },
    "papermill": {
     "duration": 0.859034,
     "end_time": "2022-07-24T03:13:23.165493",
     "exception": false,
     "start_time": "2022-07-24T03:13:22.306459",
     "status": "completed"
    },
    "tags": []
   },
   "outputs": [],
   "source": [
    "#hide\n",
    "import matplotlib.pyplot as plt\n",
    "import numpy as np\n",
    "import pandas as pd\n",
    "import seaborn as sns\n",
    "import matplotlib.pyplot as plt \n",
    "import matplotlib.dates as mdates\n",
    "import matplotlib.pyplot as plt"
   ]
  },
  {
   "cell_type": "code",
   "execution_count": 5,
   "id": "superior-blanket",
   "metadata": {
    "execution": {
     "iopub.execute_input": "2022-07-24T03:13:23.191790Z",
     "iopub.status.busy": "2022-07-24T03:13:23.191194Z",
     "iopub.status.idle": "2022-07-24T03:13:36.931120Z",
     "shell.execute_reply": "2022-07-24T03:13:36.931569Z"
    },
    "papermill": {
     "duration": 13.754719,
     "end_time": "2022-07-24T03:13:36.931712",
     "exception": false,
     "start_time": "2022-07-24T03:13:23.176993",
     "status": "completed"
    },
    "tags": []
   },
   "outputs": [
    {
     "name": "stderr",
     "output_type": "stream",
     "text": [
      "/home/runner/work/corr-app/corr-app/_notebooks/scripts/read_data.py:187: SettingWithCopyWarning:\n",
      "\n",
      "\n",
      "A value is trying to be set on a copy of a slice from a DataFrame.\n",
      "Try using .loc[row_indexer,col_indexer] = value instead\n",
      "\n",
      "See the caveats in the documentation: https://pandas.pydata.org/pandas-docs/stable/user_guide/indexing.html#returning-a-view-versus-a-copy\n",
      "\n"
     ]
    },
    {
     "name": "stderr",
     "output_type": "stream",
     "text": [
      "/home/runner/work/corr-app/corr-app/_notebooks/scripts/read_data.py:215: SettingWithCopyWarning:\n",
      "\n",
      "\n",
      "A value is trying to be set on a copy of a slice from a DataFrame.\n",
      "Try using .loc[row_indexer,col_indexer] = value instead\n",
      "\n",
      "See the caveats in the documentation: https://pandas.pydata.org/pandas-docs/stable/user_guide/indexing.html#returning-a-view-versus-a-copy\n",
      "\n"
     ]
    }
   ],
   "source": [
    "#hide\n",
    "df_all = read_api()\n",
    "#df_all = df_all.drop(['SP500', 'XAU', 'ETH', 'BTC'], axis=1)\n",
    "\n"
   ]
  },
  {
   "cell_type": "code",
   "execution_count": 6,
   "id": "mature-alert",
   "metadata": {
    "execution": {
     "iopub.execute_input": "2022-07-24T03:13:36.959027Z",
     "iopub.status.busy": "2022-07-24T03:13:36.958439Z",
     "iopub.status.idle": "2022-07-24T03:13:36.993113Z",
     "shell.execute_reply": "2022-07-24T03:13:36.992619Z"
    },
    "papermill": {
     "duration": 0.048677,
     "end_time": "2022-07-24T03:13:36.993233",
     "exception": false,
     "start_time": "2022-07-24T03:13:36.944556",
     "status": "completed"
    },
    "tags": []
   },
   "outputs": [],
   "source": [
    "#hide_input\n",
    "sum_corr = df_all.corr().sum().sort_values(ascending=True).index.values\n",
    "#df_all[sum_corr].corr()"
   ]
  },
  {
   "cell_type": "markdown",
   "id": "complex-syndicate",
   "metadata": {
    "papermill": {
     "duration": 0.011759,
     "end_time": "2022-07-24T03:13:37.016555",
     "exception": false,
     "start_time": "2022-07-24T03:13:37.004796",
     "status": "completed"
    },
    "tags": []
   },
   "source": [
    "## Išplėstinė koreliacijų matrica. "
   ]
  },
  {
   "cell_type": "code",
   "execution_count": 7,
   "id": "atomic-omaha",
   "metadata": {
    "execution": {
     "iopub.execute_input": "2022-07-24T03:13:37.044046Z",
     "iopub.status.busy": "2022-07-24T03:13:37.043472Z",
     "iopub.status.idle": "2022-07-24T03:13:38.252549Z",
     "shell.execute_reply": "2022-07-24T03:13:38.252078Z"
    },
    "papermill": {
     "duration": 1.224681,
     "end_time": "2022-07-24T03:13:38.252657",
     "exception": false,
     "start_time": "2022-07-24T03:13:37.027976",
     "status": "completed"
    },
    "tags": []
   },
   "outputs": [
    {
     "data": {
      "image/png": "[encoded data removed]",
      "text/plain": [
       "<Figure size 1080x792 with 2 Axes>"
      ]
     },
     "metadata": {
      "needs_background": "light"
     },
     "output_type": "display_data"
    }
   ],
   "source": [
    "#hide_input\n",
    "plt.figure(figsize=(15, 11))\n",
    "sns.heatmap(df_all[sum_corr].corr(), annot=True, cmap=\"cubehelix\") \n",
    "sns.set(font_scale=1.25)\n",
    "plt.savefig('corr_matrix.png', format='eps')"
   ]
  },
  {
   "cell_type": "code",
   "execution_count": 8,
   "id": "arbitrary-sullivan",
   "metadata": {
    "execution": {
     "iopub.execute_input": "2022-07-24T03:13:38.286311Z",
     "iopub.status.busy": "2022-07-24T03:13:38.285731Z",
     "iopub.status.idle": "2022-07-24T03:13:38.313378Z",
     "shell.execute_reply": "2022-07-24T03:13:38.312847Z"
    },
    "papermill": {
     "duration": 0.046889,
     "end_time": "2022-07-24T03:13:38.313494",
     "exception": false,
     "start_time": "2022-07-24T03:13:38.266605",
     "status": "completed"
    },
    "tags": []
   },
   "outputs": [],
   "source": [
    "#hide\n",
    "#df_all_mrk = read_api()"
   ]
  },
  {
   "cell_type": "code",
   "execution_count": 9,
   "id": "delayed-adapter",
   "metadata": {
    "execution": {
     "iopub.execute_input": "2022-07-24T03:13:38.344099Z",
     "iopub.status.busy": "2022-07-24T03:13:38.343499Z",
     "iopub.status.idle": "2022-07-24T03:13:38.375249Z",
     "shell.execute_reply": "2022-07-24T03:13:38.374767Z"
    },
    "papermill": {
     "duration": 0.04848,
     "end_time": "2022-07-24T03:13:38.375365",
     "exception": false,
     "start_time": "2022-07-24T03:13:38.326885",
     "status": "completed"
    },
    "tags": []
   },
   "outputs": [],
   "source": [
    "#hide\n",
    "#Koreliacijų koeficientai"
   ]
  },
  {
   "cell_type": "code",
   "execution_count": 10,
   "id": "seeing-celebration",
   "metadata": {
    "execution": {
     "iopub.execute_input": "2022-07-24T03:13:38.410619Z",
     "iopub.status.busy": "2022-07-24T03:13:38.410029Z",
     "iopub.status.idle": "2022-07-24T03:13:38.437895Z",
     "shell.execute_reply": "2022-07-24T03:13:38.437376Z"
    },
    "papermill": {
     "duration": 0.048623,
     "end_time": "2022-07-24T03:13:38.438010",
     "exception": false,
     "start_time": "2022-07-24T03:13:38.389387",
     "status": "completed"
    },
    "tags": []
   },
   "outputs": [],
   "source": [
    "#hide_input\n",
    "#sum_corr = df_all_mrk.corr().sum().sort_values(ascending=True).index.values\n",
    "#df_all_mrk[sum_corr].corr()"
   ]
  },
  {
   "cell_type": "code",
   "execution_count": 11,
   "id": "other-painting",
   "metadata": {
    "execution": {
     "iopub.execute_input": "2022-07-24T03:13:38.469336Z",
     "iopub.status.busy": "2022-07-24T03:13:38.468724Z",
     "iopub.status.idle": "2022-07-24T03:13:38.497780Z",
     "shell.execute_reply": "2022-07-24T03:13:38.497298Z"
    },
    "papermill": {
     "duration": 0.046425,
     "end_time": "2022-07-24T03:13:38.497887",
     "exception": false,
     "start_time": "2022-07-24T03:13:38.451462",
     "status": "completed"
    },
    "tags": []
   },
   "outputs": [],
   "source": [
    "#hide\n",
    "#Koreliacijos matrica. "
   ]
  },
  {
   "cell_type": "code",
   "execution_count": 12,
   "id": "modular-magnitude",
   "metadata": {
    "execution": {
     "iopub.execute_input": "2022-07-24T03:13:38.528482Z",
     "iopub.status.busy": "2022-07-24T03:13:38.527887Z",
     "iopub.status.idle": "2022-07-24T03:13:38.556576Z",
     "shell.execute_reply": "2022-07-24T03:13:38.556104Z"
    },
    "papermill": {
     "duration": 0.045289,
     "end_time": "2022-07-24T03:13:38.556680",
     "exception": false,
     "start_time": "2022-07-24T03:13:38.511391",
     "status": "completed"
    },
    "tags": []
   },
   "outputs": [],
   "source": [
    "#hide_input\n",
    "#plt.figure(figsize=(15, 8))\n",
    "#sns.heatmap(df_all_mrk[sum_corr].corr(), annot=True, cmap=\"BrBG\");\n",
    "#plt.savefig('corr_matrix_all.eps', format='eps')"
   ]
  },
  {
   "cell_type": "code",
   "execution_count": null,
   "id": "original-senator",
   "metadata": {
    "papermill": {
     "duration": 0.013276,
     "end_time": "2022-07-24T03:13:38.583302",
     "exception": false,
     "start_time": "2022-07-24T03:13:38.570026",
     "status": "completed"
    },
    "tags": []
   },
   "outputs": [],
   "source": []
  },
  {
   "cell_type": "code",
   "execution_count": null,
   "id": "saving-secretariat",
   "metadata": {
    "papermill": {
     "duration": 0.013266,
     "end_time": "2022-07-24T03:13:38.610020",
     "exception": false,
     "start_time": "2022-07-24T03:13:38.596754",
     "status": "completed"
    },
    "tags": []
   },
   "outputs": [],
   "source": []
  }
 ],
 "metadata": {
  "kernelspec": {
   "display_name": "Python 3",
   "language": "python",
   "name": "python3"
  },
  "language_info": {
   "codemirror_mode": {
    "name": "ipython",
    "version": 3
   },
   "file_extension": ".py",
   "mimetype": "text/x-python",
   "name": "python",
   "nbconvert_exporter": "python",
   "pygments_lexer": "ipython3",
   "version": "3.6.15"
  },
  "papermill": {
   "default_parameters": {},
   "duration": 19.188887,
   "end_time": "2022-07-24T03:13:39.040733",
   "environment_variables": {},
   "exception": null,
   "input_path": "App-Correlation_charts.ipynb",
   "output_path": "App-Correlation_charts.ipynb",
   "parameters": {},
   "start_time": "2022-07-24T03:13:19.851846",
   "version": "2.2.2"
  }
 },
 "nbformat": 4,
 "nbformat_minor": 5
}