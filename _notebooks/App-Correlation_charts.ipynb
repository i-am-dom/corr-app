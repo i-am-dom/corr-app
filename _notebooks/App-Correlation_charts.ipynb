{
 "cells": [
  {
   "cell_type": "markdown",
   "id": "touched-facility",
   "metadata": {
    "papermill": {
     "duration": 0.02093,
     "end_time": "2021-12-03T01:58:59.422976",
     "exception": false,
     "start_time": "2021-12-03T01:58:59.402046",
     "status": "completed"
    },
    "tags": []
   },
   "source": [
    "# Koreliacijų matrica\n",
    "> Išplėstinė koreliacijų matrica. \n",
    "\n",
    "- toc: true \n",
    "- badges: true\n",
    "- comments: false\n",
    "- categories: [Dominykas Tautkus]\n",
    "- image: images/matrix.png"
   ]
  },
  {
   "cell_type": "code",
   "execution_count": null,
   "id": "premium-weekend",
   "metadata": {
    "papermill": {
     "duration": 0.012921,
     "end_time": "2021-12-03T01:58:59.449706",
     "exception": false,
     "start_time": "2021-12-03T01:58:59.436785",
     "status": "completed"
    },
    "tags": []
   },
   "outputs": [],
   "source": []
  },
  {
   "cell_type": "code",
   "execution_count": 1,
   "id": "vertical-rebate",
   "metadata": {
    "execution": {
     "iopub.execute_input": "2021-12-03T01:58:59.487284Z",
     "iopub.status.busy": "2021-12-03T01:58:59.486637Z",
     "iopub.status.idle": "2021-12-03T01:58:59.498073Z",
     "shell.execute_reply": "2021-12-03T01:58:59.498577Z"
    },
    "papermill": {
     "duration": 0.036237,
     "end_time": "2021-12-03T01:58:59.498750",
     "exception": false,
     "start_time": "2021-12-03T01:58:59.462513",
     "status": "completed"
    },
    "tags": []
   },
   "outputs": [],
   "source": [
    "#hide\n",
    "%load_ext autoreload\n",
    "%autoreload 2"
   ]
  },
  {
   "cell_type": "code",
   "execution_count": 2,
   "id": "overall-advancement",
   "metadata": {
    "execution": {
     "iopub.execute_input": "2021-12-03T01:58:59.528978Z",
     "iopub.status.busy": "2021-12-03T01:58:59.528320Z",
     "iopub.status.idle": "2021-12-03T01:59:00.983444Z",
     "shell.execute_reply": "2021-12-03T01:59:00.981866Z"
    },
    "papermill": {
     "duration": 1.471684,
     "end_time": "2021-12-03T01:59:00.983598",
     "exception": false,
     "start_time": "2021-12-03T01:58:59.511914",
     "status": "completed"
    },
    "tags": []
   },
   "outputs": [],
   "source": [
    "#hide\n",
    "from scripts.read_data import read_api\n",
    "from IPython.display import HTML\n",
    "import plotly.graph_objects as go\n"
   ]
  },
  {
   "cell_type": "code",
   "execution_count": 3,
   "id": "light-crazy",
   "metadata": {
    "execution": {
     "iopub.execute_input": "2021-12-03T01:59:01.014928Z",
     "iopub.status.busy": "2021-12-03T01:59:01.014262Z",
     "iopub.status.idle": "2021-12-03T01:59:01.040546Z",
     "shell.execute_reply": "2021-12-03T01:59:01.041076Z"
    },
    "papermill": {
     "duration": 0.044413,
     "end_time": "2021-12-03T01:59:01.041234",
     "exception": false,
     "start_time": "2021-12-03T01:59:00.996821",
     "status": "completed"
    },
    "tags": []
   },
   "outputs": [],
   "source": [
    "#hide\n",
    "### ICO koreliacija"
   ]
  },
  {
   "cell_type": "code",
   "execution_count": 4,
   "id": "likely-bahrain",
   "metadata": {
    "execution": {
     "iopub.execute_input": "2021-12-03T01:59:01.077729Z",
     "iopub.status.busy": "2021-12-03T01:59:01.077107Z",
     "iopub.status.idle": "2021-12-03T01:59:02.246507Z",
     "shell.execute_reply": "2021-12-03T01:59:02.245291Z"
    },
    "papermill": {
     "duration": 1.191746,
     "end_time": "2021-12-03T01:59:02.246662",
     "exception": false,
     "start_time": "2021-12-03T01:59:01.054916",
     "status": "completed"
    },
    "tags": []
   },
   "outputs": [],
   "source": [
    "#hide\n",
    "import matplotlib.pyplot as plt\n",
    "import numpy as np\n",
    "import pandas as pd\n",
    "import seaborn as sns\n",
    "import matplotlib.pyplot as plt \n",
    "import matplotlib.dates as mdates\n",
    "import matplotlib.pyplot as plt"
   ]
  },
  {
   "cell_type": "code",
   "execution_count": 5,
   "id": "superior-blanket",
   "metadata": {
    "execution": {
     "iopub.execute_input": "2021-12-03T01:59:02.278079Z",
     "iopub.status.busy": "2021-12-03T01:59:02.277258Z",
     "iopub.status.idle": "2021-12-03T01:59:16.651165Z",
     "shell.execute_reply": "2021-12-03T01:59:16.650547Z"
    },
    "papermill": {
     "duration": 14.391518,
     "end_time": "2021-12-03T01:59:16.651305",
     "exception": false,
     "start_time": "2021-12-03T01:59:02.259787",
     "status": "completed"
    },
    "tags": []
   },
   "outputs": [
    {
     "name": "stderr",
     "output_type": "stream",
     "text": [
      "/home/runner/work/corr-app/corr-app/_notebooks/scripts/read_data.py:187: SettingWithCopyWarning:\n",
      "\n",
      "\n",
      "A value is trying to be set on a copy of a slice from a DataFrame.\n",
      "Try using .loc[row_indexer,col_indexer] = value instead\n",
      "\n",
      "See the caveats in the documentation: https://pandas.pydata.org/pandas-docs/stable/user_guide/indexing.html#returning-a-view-versus-a-copy\n",
      "\n"
     ]
    },
    {
     "name": "stderr",
     "output_type": "stream",
     "text": [
      "/home/runner/work/corr-app/corr-app/_notebooks/scripts/read_data.py:215: SettingWithCopyWarning:\n",
      "\n",
      "\n",
      "A value is trying to be set on a copy of a slice from a DataFrame.\n",
      "Try using .loc[row_indexer,col_indexer] = value instead\n",
      "\n",
      "See the caveats in the documentation: https://pandas.pydata.org/pandas-docs/stable/user_guide/indexing.html#returning-a-view-versus-a-copy\n",
      "\n"
     ]
    }
   ],
   "source": [
    "#hide\n",
    "df_all = read_api()\n",
    "#df_all = df_all.drop(['SP500', 'XAU', 'ETH', 'BTC'], axis=1)\n",
    "\n"
   ]
  },
  {
   "cell_type": "code",
   "execution_count": 6,
   "id": "mature-alert",
   "metadata": {
    "execution": {
     "iopub.execute_input": "2021-12-03T01:59:16.684309Z",
     "iopub.status.busy": "2021-12-03T01:59:16.683666Z",
     "iopub.status.idle": "2021-12-03T01:59:16.720237Z",
     "shell.execute_reply": "2021-12-03T01:59:16.719534Z"
    },
    "papermill": {
     "duration": 0.05474,
     "end_time": "2021-12-03T01:59:16.720417",
     "exception": false,
     "start_time": "2021-12-03T01:59:16.665677",
     "status": "completed"
    },
    "tags": []
   },
   "outputs": [],
   "source": [
    "#hide_input\n",
    "sum_corr = df_all.corr().sum().sort_values(ascending=True).index.values\n",
    "#df_all[sum_corr].corr()"
   ]
  },
  {
   "cell_type": "markdown",
   "id": "complex-syndicate",
   "metadata": {
    "papermill": {
     "duration": 0.013657,
     "end_time": "2021-12-03T01:59:16.749715",
     "exception": false,
     "start_time": "2021-12-03T01:59:16.736058",
     "status": "completed"
    },
    "tags": []
   },
   "source": [
    "## Išplėstinė koreliacijų matrica. "
   ]
  },
  {
   "cell_type": "code",
   "execution_count": 7,
   "id": "atomic-omaha",
   "metadata": {
    "execution": {
     "iopub.execute_input": "2021-12-03T01:59:16.782772Z",
     "iopub.status.busy": "2021-12-03T01:59:16.781723Z",
     "iopub.status.idle": "2021-12-03T01:59:18.314293Z",
     "shell.execute_reply": "2021-12-03T01:59:18.314789Z"
    },
    "papermill": {
     "duration": 1.551688,
     "end_time": "2021-12-03T01:59:18.314947",
     "exception": false,
     "start_time": "2021-12-03T01:59:16.763259",
     "status": "completed"
    },
    "tags": []
   },
   "outputs": [
    {
     "data": {
      "image/png": "[encoded data removed]",
      "text/plain": [
       "<Figure size 1080x792 with 2 Axes>"
      ]
     },
     "metadata": {
      "needs_background": "light"
     },
     "output_type": "display_data"
    }
   ],
   "source": [
    "#hide_input\n",
    "plt.figure(figsize=(15, 11))\n",
    "sns.heatmap(df_all[sum_corr].corr(), annot=True, cmap=\"cubehelix\") \n",
    "sns.set(font_scale=1.25)\n",
    "plt.savefig('corr_matrix.png', format='eps')"
   ]
  },
  {
   "cell_type": "code",
   "execution_count": 8,
   "id": "arbitrary-sullivan",
   "metadata": {
    "execution": {
     "iopub.execute_input": "2021-12-03T01:59:18.352278Z",
     "iopub.status.busy": "2021-12-03T01:59:18.351659Z",
     "iopub.status.idle": "2021-12-03T01:59:18.394786Z",
     "shell.execute_reply": "2021-12-03T01:59:18.393619Z"
    },
    "papermill": {
     "duration": 0.063405,
     "end_time": "2021-12-03T01:59:18.395015",
     "exception": false,
     "start_time": "2021-12-03T01:59:18.331610",
     "status": "completed"
    },
    "tags": []
   },
   "outputs": [],
   "source": [
    "#hide\n",
    "#df_all_mrk = read_api()"
   ]
  },
  {
   "cell_type": "code",
   "execution_count": 9,
   "id": "delayed-adapter",
   "metadata": {
    "execution": {
     "iopub.execute_input": "2021-12-03T01:59:18.435413Z",
     "iopub.status.busy": "2021-12-03T01:59:18.434786Z",
     "iopub.status.idle": "2021-12-03T01:59:18.468032Z",
     "shell.execute_reply": "2021-12-03T01:59:18.468958Z"
    },
    "papermill": {
     "duration": 0.056383,
     "end_time": "2021-12-03T01:59:18.469127",
     "exception": false,
     "start_time": "2021-12-03T01:59:18.412744",
     "status": "completed"
    },
    "tags": []
   },
   "outputs": [],
   "source": [
    "#hide\n",
    "#Koreliacijų koeficientai"
   ]
  },
  {
   "cell_type": "code",
   "execution_count": 10,
   "id": "seeing-celebration",
   "metadata": {
    "execution": {
     "iopub.execute_input": "2021-12-03T01:59:18.508541Z",
     "iopub.status.busy": "2021-12-03T01:59:18.507444Z",
     "iopub.status.idle": "2021-12-03T01:59:18.538334Z",
     "shell.execute_reply": "2021-12-03T01:59:18.537744Z"
    },
    "papermill": {
     "duration": 0.050761,
     "end_time": "2021-12-03T01:59:18.538475",
     "exception": false,
     "start_time": "2021-12-03T01:59:18.487714",
     "status": "completed"
    },
    "tags": []
   },
   "outputs": [],
   "source": [
    "#hide_input\n",
    "#sum_corr = df_all_mrk.corr().sum().sort_values(ascending=True).index.values\n",
    "#df_all_mrk[sum_corr].corr()"
   ]
  },
  {
   "cell_type": "code",
   "execution_count": 11,
   "id": "other-painting",
   "metadata": {
    "execution": {
     "iopub.execute_input": "2021-12-03T01:59:18.575798Z",
     "iopub.status.busy": "2021-12-03T01:59:18.575181Z",
     "iopub.status.idle": "2021-12-03T01:59:18.608572Z",
     "shell.execute_reply": "2021-12-03T01:59:18.607630Z"
    },
    "papermill": {
     "duration": 0.05348,
     "end_time": "2021-12-03T01:59:18.608789",
     "exception": false,
     "start_time": "2021-12-03T01:59:18.555309",
     "status": "completed"
    },
    "tags": []
   },
   "outputs": [],
   "source": [
    "#hide\n",
    "#Koreliacijos matrica. "
   ]
  },
  {
   "cell_type": "code",
   "execution_count": 12,
   "id": "modular-magnitude",
   "metadata": {
    "execution": {
     "iopub.execute_input": "2021-12-03T01:59:18.657360Z",
     "iopub.status.busy": "2021-12-03T01:59:18.656731Z",
     "iopub.status.idle": "2021-12-03T01:59:18.690202Z",
     "shell.execute_reply": "2021-12-03T01:59:18.689346Z"
    },
    "papermill": {
     "duration": 0.056381,
     "end_time": "2021-12-03T01:59:18.690418",
     "exception": false,
     "start_time": "2021-12-03T01:59:18.634037",
     "status": "completed"
    },
    "tags": []
   },
   "outputs": [],
   "source": [
    "#hide_input\n",
    "#plt.figure(figsize=(15, 8))\n",
    "#sns.heatmap(df_all_mrk[sum_corr].corr(), annot=True, cmap=\"BrBG\");\n",
    "#plt.savefig('corr_matrix_all.eps', format='eps')"
   ]
  },
  {
   "cell_type": "code",
   "execution_count": null,
   "id": "original-senator",
   "metadata": {
    "papermill": {
     "duration": 0.015771,
     "end_time": "2021-12-03T01:59:18.722626",
     "exception": false,
     "start_time": "2021-12-03T01:59:18.706855",
     "status": "completed"
    },
    "tags": []
   },
   "outputs": [],
   "source": []
  },
  {
   "cell_type": "code",
   "execution_count": null,
   "id": "saving-secretariat",
   "metadata": {
    "papermill": {
     "duration": 0.015801,
     "end_time": "2021-12-03T01:59:18.754752",
     "exception": false,
     "start_time": "2021-12-03T01:59:18.738951",
     "status": "completed"
    },
    "tags": []
   },
   "outputs": [],
   "source": []
  }
 ],
 "metadata": {
  "kernelspec": {
   "display_name": "Python 3",
   "language": "python",
   "name": "python3"
  },
  "language_info": {
   "codemirror_mode": {
    "name": "ipython",
    "version": 3
   },
   "file_extension": ".py",
   "mimetype": "text/x-python",
   "name": "python",
   "nbconvert_exporter": "python",
   "pygments_lexer": "ipython3",
   "version": "3.6.15"
  },
  "papermill": {
   "default_parameters": {},
   "duration": 21.301795,
   "end_time": "2021-12-03T01:59:19.381604",
   "environment_variables": {},
   "exception": null,
   "input_path": "App-Correlation_charts.ipynb",
   "output_path": "App-Correlation_charts.ipynb",
   "parameters": {},
   "start_time": "2021-12-03T01:58:58.079809",
   "version": "2.2.2"
  }
 },
 "nbformat": 4,
 "nbformat_minor": 5
}