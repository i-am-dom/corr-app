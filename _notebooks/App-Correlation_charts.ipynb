{
 "cells": [
  {
   "cell_type": "markdown",
   "id": "touched-facility",
   "metadata": {
    "papermill": {
     "duration": 0.020643,
     "end_time": "2022-07-21T03:14:06.411528",
     "exception": false,
     "start_time": "2022-07-21T03:14:06.390885",
     "status": "completed"
    },
    "tags": []
   },
   "source": [
    "# Koreliacijų matrica\n",
    "> Išplėstinė koreliacijų matrica. \n",
    "\n",
    "- toc: true \n",
    "- badges: true\n",
    "- comments: false\n",
    "- categories: [Dominykas Tautkus]\n",
    "- image: images/matrix.png"
   ]
  },
  {
   "cell_type": "code",
   "execution_count": null,
   "id": "premium-weekend",
   "metadata": {
    "papermill": {
     "duration": 0.013628,
     "end_time": "2022-07-21T03:14:06.446169",
     "exception": false,
     "start_time": "2022-07-21T03:14:06.432541",
     "status": "completed"
    },
    "tags": []
   },
   "outputs": [],
   "source": []
  },
  {
   "cell_type": "code",
   "execution_count": 1,
   "id": "vertical-rebate",
   "metadata": {
    "execution": {
     "iopub.execute_input": "2022-07-21T03:14:06.490630Z",
     "iopub.status.busy": "2022-07-21T03:14:06.489889Z",
     "iopub.status.idle": "2022-07-21T03:14:06.503737Z",
     "shell.execute_reply": "2022-07-21T03:14:06.503133Z"
    },
    "papermill": {
     "duration": 0.044811,
     "end_time": "2022-07-21T03:14:06.503886",
     "exception": false,
     "start_time": "2022-07-21T03:14:06.459075",
     "status": "completed"
    },
    "tags": []
   },
   "outputs": [],
   "source": [
    "#hide\n",
    "%load_ext autoreload\n",
    "%autoreload 2"
   ]
  },
  {
   "cell_type": "code",
   "execution_count": 2,
   "id": "overall-advancement",
   "metadata": {
    "execution": {
     "iopub.execute_input": "2022-07-21T03:14:06.533428Z",
     "iopub.status.busy": "2022-07-21T03:14:06.532692Z",
     "iopub.status.idle": "2022-07-21T03:14:08.135853Z",
     "shell.execute_reply": "2022-07-21T03:14:08.135080Z"
    },
    "papermill": {
     "duration": 1.62003,
     "end_time": "2022-07-21T03:14:08.136006",
     "exception": false,
     "start_time": "2022-07-21T03:14:06.515976",
     "status": "completed"
    },
    "tags": []
   },
   "outputs": [],
   "source": [
    "#hide\n",
    "from scripts.read_data import read_api\n",
    "from IPython.display import HTML\n",
    "import plotly.graph_objects as go\n"
   ]
  },
  {
   "cell_type": "code",
   "execution_count": 3,
   "id": "light-crazy",
   "metadata": {
    "execution": {
     "iopub.execute_input": "2022-07-21T03:14:08.165392Z",
     "iopub.status.busy": "2022-07-21T03:14:08.164626Z",
     "iopub.status.idle": "2022-07-21T03:14:08.196760Z",
     "shell.execute_reply": "2022-07-21T03:14:08.196107Z"
    },
    "papermill": {
     "duration": 0.048509,
     "end_time": "2022-07-21T03:14:08.196910",
     "exception": false,
     "start_time": "2022-07-21T03:14:08.148401",
     "status": "completed"
    },
    "tags": []
   },
   "outputs": [],
   "source": [
    "#hide\n",
    "### ICO koreliacija"
   ]
  },
  {
   "cell_type": "code",
   "execution_count": 4,
   "id": "likely-bahrain",
   "metadata": {
    "execution": {
     "iopub.execute_input": "2022-07-21T03:14:08.227672Z",
     "iopub.status.busy": "2022-07-21T03:14:08.226946Z",
     "iopub.status.idle": "2022-07-21T03:14:09.220930Z",
     "shell.execute_reply": "2022-07-21T03:14:09.218802Z"
    },
    "papermill": {
     "duration": 1.011102,
     "end_time": "2022-07-21T03:14:09.221212",
     "exception": false,
     "start_time": "2022-07-21T03:14:08.210110",
     "status": "completed"
    },
    "tags": []
   },
   "outputs": [],
   "source": [
    "#hide\n",
    "import matplotlib.pyplot as plt\n",
    "import numpy as np\n",
    "import pandas as pd\n",
    "import seaborn as sns\n",
    "import matplotlib.pyplot as plt \n",
    "import matplotlib.dates as mdates\n",
    "import matplotlib.pyplot as plt"
   ]
  },
  {
   "cell_type": "code",
   "execution_count": 5,
   "id": "superior-blanket",
   "metadata": {
    "execution": {
     "iopub.execute_input": "2022-07-21T03:14:09.251591Z",
     "iopub.status.busy": "2022-07-21T03:14:09.250835Z",
     "iopub.status.idle": "2022-07-21T03:14:19.783348Z",
     "shell.execute_reply": "2022-07-21T03:14:19.783914Z"
    },
    "papermill": {
     "duration": 10.550405,
     "end_time": "2022-07-21T03:14:19.784075",
     "exception": false,
     "start_time": "2022-07-21T03:14:09.233670",
     "status": "completed"
    },
    "tags": []
   },
   "outputs": [
    {
     "name": "stderr",
     "output_type": "stream",
     "text": [
      "/home/runner/work/corr-app/corr-app/_notebooks/scripts/read_data.py:187: SettingWithCopyWarning:\n",
      "\n",
      "\n",
      "A value is trying to be set on a copy of a slice from a DataFrame.\n",
      "Try using .loc[row_indexer,col_indexer] = value instead\n",
      "\n",
      "See the caveats in the documentation: https://pandas.pydata.org/pandas-docs/stable/user_guide/indexing.html#returning-a-view-versus-a-copy\n",
      "\n"
     ]
    },
    {
     "name": "stderr",
     "output_type": "stream",
     "text": [
      "/home/runner/work/corr-app/corr-app/_notebooks/scripts/read_data.py:215: SettingWithCopyWarning:\n",
      "\n",
      "\n",
      "A value is trying to be set on a copy of a slice from a DataFrame.\n",
      "Try using .loc[row_indexer,col_indexer] = value instead\n",
      "\n",
      "See the caveats in the documentation: https://pandas.pydata.org/pandas-docs/stable/user_guide/indexing.html#returning-a-view-versus-a-copy\n",
      "\n"
     ]
    }
   ],
   "source": [
    "#hide\n",
    "df_all = read_api()\n",
    "#df_all = df_all.drop(['SP500', 'XAU', 'ETH', 'BTC'], axis=1)\n",
    "\n"
   ]
  },
  {
   "cell_type": "code",
   "execution_count": 6,
   "id": "mature-alert",
   "metadata": {
    "execution": {
     "iopub.execute_input": "2022-07-21T03:14:19.817897Z",
     "iopub.status.busy": "2022-07-21T03:14:19.814511Z",
     "iopub.status.idle": "2022-07-21T03:14:19.856511Z",
     "shell.execute_reply": "2022-07-21T03:14:19.855646Z"
    },
    "papermill": {
     "duration": 0.058693,
     "end_time": "2022-07-21T03:14:19.856649",
     "exception": false,
     "start_time": "2022-07-21T03:14:19.797956",
     "status": "completed"
    },
    "tags": []
   },
   "outputs": [],
   "source": [
    "#hide_input\n",
    "sum_corr = df_all.corr().sum().sort_values(ascending=True).index.values\n",
    "#df_all[sum_corr].corr()"
   ]
  },
  {
   "cell_type": "markdown",
   "id": "complex-syndicate",
   "metadata": {
    "papermill": {
     "duration": 0.012685,
     "end_time": "2022-07-21T03:14:19.882148",
     "exception": false,
     "start_time": "2022-07-21T03:14:19.869463",
     "status": "completed"
    },
    "tags": []
   },
   "source": [
    "## Išplėstinė koreliacijų matrica. "
   ]
  },
  {
   "cell_type": "code",
   "execution_count": 7,
   "id": "atomic-omaha",
   "metadata": {
    "execution": {
     "iopub.execute_input": "2022-07-21T03:14:19.920960Z",
     "iopub.status.busy": "2022-07-21T03:14:19.912860Z",
     "iopub.status.idle": "2022-07-21T03:14:21.467795Z",
     "shell.execute_reply": "2022-07-21T03:14:21.468429Z"
    },
    "papermill": {
     "duration": 1.573531,
     "end_time": "2022-07-21T03:14:21.468616",
     "exception": false,
     "start_time": "2022-07-21T03:14:19.895085",
     "status": "completed"
    },
    "tags": []
   },
   "outputs": [
    {
     "data": {
      "image/png": "[encoded data removed]",
      "text/plain": [
       "<Figure size 1080x792 with 2 Axes>"
      ]
     },
     "metadata": {
      "needs_background": "light"
     },
     "output_type": "display_data"
    }
   ],
   "source": [
    "#hide_input\n",
    "plt.figure(figsize=(15, 11))\n",
    "sns.heatmap(df_all[sum_corr].corr(), annot=True, cmap=\"cubehelix\") \n",
    "sns.set(font_scale=1.25)\n",
    "plt.savefig('corr_matrix.png', format='eps')"
   ]
  },
  {
   "cell_type": "code",
   "execution_count": 8,
   "id": "arbitrary-sullivan",
   "metadata": {
    "execution": {
     "iopub.execute_input": "2022-07-21T03:14:21.504175Z",
     "iopub.status.busy": "2022-07-21T03:14:21.503473Z",
     "iopub.status.idle": "2022-07-21T03:14:21.541385Z",
     "shell.execute_reply": "2022-07-21T03:14:21.540704Z"
    },
    "papermill": {
     "duration": 0.057216,
     "end_time": "2022-07-21T03:14:21.541532",
     "exception": false,
     "start_time": "2022-07-21T03:14:21.484316",
     "status": "completed"
    },
    "tags": []
   },
   "outputs": [],
   "source": [
    "#hide\n",
    "#df_all_mrk = read_api()"
   ]
  },
  {
   "cell_type": "code",
   "execution_count": 9,
   "id": "delayed-adapter",
   "metadata": {
    "execution": {
     "iopub.execute_input": "2022-07-21T03:14:21.577887Z",
     "iopub.status.busy": "2022-07-21T03:14:21.577069Z",
     "iopub.status.idle": "2022-07-21T03:14:21.615030Z",
     "shell.execute_reply": "2022-07-21T03:14:21.614425Z"
    },
    "papermill": {
     "duration": 0.058315,
     "end_time": "2022-07-21T03:14:21.615168",
     "exception": false,
     "start_time": "2022-07-21T03:14:21.556853",
     "status": "completed"
    },
    "tags": []
   },
   "outputs": [],
   "source": [
    "#hide\n",
    "#Koreliacijų koeficientai"
   ]
  },
  {
   "cell_type": "code",
   "execution_count": 10,
   "id": "seeing-celebration",
   "metadata": {
    "execution": {
     "iopub.execute_input": "2022-07-21T03:14:21.657527Z",
     "iopub.status.busy": "2022-07-21T03:14:21.656519Z",
     "iopub.status.idle": "2022-07-21T03:14:21.696889Z",
     "shell.execute_reply": "2022-07-21T03:14:21.695913Z"
    },
    "papermill": {
     "duration": 0.064276,
     "end_time": "2022-07-21T03:14:21.697176",
     "exception": false,
     "start_time": "2022-07-21T03:14:21.632900",
     "status": "completed"
    },
    "tags": []
   },
   "outputs": [],
   "source": [
    "#hide_input\n",
    "#sum_corr = df_all_mrk.corr().sum().sort_values(ascending=True).index.values\n",
    "#df_all_mrk[sum_corr].corr()"
   ]
  },
  {
   "cell_type": "code",
   "execution_count": 11,
   "id": "other-painting",
   "metadata": {
    "execution": {
     "iopub.execute_input": "2022-07-21T03:14:21.734978Z",
     "iopub.status.busy": "2022-07-21T03:14:21.734239Z",
     "iopub.status.idle": "2022-07-21T03:14:21.772358Z",
     "shell.execute_reply": "2022-07-21T03:14:21.771385Z"
    },
    "papermill": {
     "duration": 0.058063,
     "end_time": "2022-07-21T03:14:21.772501",
     "exception": false,
     "start_time": "2022-07-21T03:14:21.714438",
     "status": "completed"
    },
    "tags": []
   },
   "outputs": [],
   "source": [
    "#hide\n",
    "#Koreliacijos matrica. "
   ]
  },
  {
   "cell_type": "code",
   "execution_count": 12,
   "id": "modular-magnitude",
   "metadata": {
    "execution": {
     "iopub.execute_input": "2022-07-21T03:14:21.808048Z",
     "iopub.status.busy": "2022-07-21T03:14:21.807336Z",
     "iopub.status.idle": "2022-07-21T03:14:21.847056Z",
     "shell.execute_reply": "2022-07-21T03:14:21.846399Z"
    },
    "papermill": {
     "duration": 0.059429,
     "end_time": "2022-07-21T03:14:21.847206",
     "exception": false,
     "start_time": "2022-07-21T03:14:21.787777",
     "status": "completed"
    },
    "tags": []
   },
   "outputs": [],
   "source": [
    "#hide_input\n",
    "#plt.figure(figsize=(15, 8))\n",
    "#sns.heatmap(df_all_mrk[sum_corr].corr(), annot=True, cmap=\"BrBG\");\n",
    "#plt.savefig('corr_matrix_all.eps', format='eps')"
   ]
  },
  {
   "cell_type": "code",
   "execution_count": null,
   "id": "original-senator",
   "metadata": {
    "papermill": {
     "duration": 0.015491,
     "end_time": "2022-07-21T03:14:21.878524",
     "exception": false,
     "start_time": "2022-07-21T03:14:21.863033",
     "status": "completed"
    },
    "tags": []
   },
   "outputs": [],
   "source": []
  },
  {
   "cell_type": "code",
   "execution_count": null,
   "id": "saving-secretariat",
   "metadata": {
    "papermill": {
     "duration": 0.015205,
     "end_time": "2022-07-21T03:14:21.913165",
     "exception": false,
     "start_time": "2022-07-21T03:14:21.897960",
     "status": "completed"
    },
    "tags": []
   },
   "outputs": [],
   "source": []
  }
 ],
 "metadata": {
  "kernelspec": {
   "display_name": "Python 3",
   "language": "python",
   "name": "python3"
  },
  "language_info": {
   "codemirror_mode": {
    "name": "ipython",
    "version": 3
   },
   "file_extension": ".py",
   "mimetype": "text/x-python",
   "name": "python",
   "nbconvert_exporter": "python",
   "pygments_lexer": "ipython3",
   "version": "3.6.15"
  },
  "papermill": {
   "default_parameters": {},
   "duration": 17.324967,
   "end_time": "2022-07-21T03:14:22.549840",
   "environment_variables": {},
   "exception": null,
   "input_path": "App-Correlation_charts.ipynb",
   "output_path": "App-Correlation_charts.ipynb",
   "parameters": {},
   "start_time": "2022-07-21T03:14:05.224873",
   "version": "2.2.2"
  }
 },
 "nbformat": 4,
 "nbformat_minor": 5
}