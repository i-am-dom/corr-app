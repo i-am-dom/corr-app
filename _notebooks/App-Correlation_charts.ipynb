{
 "cells": [
  {
   "cell_type": "markdown",
   "id": "touched-facility",
   "metadata": {
    "papermill": {
     "duration": 0.014418,
     "end_time": "2022-05-27T03:03:59.409961",
     "exception": false,
     "start_time": "2022-05-27T03:03:59.395543",
     "status": "completed"
    },
    "tags": []
   },
   "source": [
    "# Koreliacijų matrica\n",
    "> Išplėstinė koreliacijų matrica. \n",
    "\n",
    "- toc: true \n",
    "- badges: true\n",
    "- comments: false\n",
    "- categories: [Dominykas Tautkus]\n",
    "- image: images/matrix.png"
   ]
  },
  {
   "cell_type": "code",
   "execution_count": null,
   "id": "premium-weekend",
   "metadata": {
    "papermill": {
     "duration": 0.010978,
     "end_time": "2022-05-27T03:03:59.432613",
     "exception": false,
     "start_time": "2022-05-27T03:03:59.421635",
     "status": "completed"
    },
    "tags": []
   },
   "outputs": [],
   "source": []
  },
  {
   "cell_type": "code",
   "execution_count": 1,
   "id": "vertical-rebate",
   "metadata": {
    "execution": {
     "iopub.execute_input": "2022-05-27T03:03:59.464038Z",
     "iopub.status.busy": "2022-05-27T03:03:59.461841Z",
     "iopub.status.idle": "2022-05-27T03:03:59.474214Z",
     "shell.execute_reply": "2022-05-27T03:03:59.473748Z"
    },
    "papermill": {
     "duration": 0.030729,
     "end_time": "2022-05-27T03:03:59.474318",
     "exception": false,
     "start_time": "2022-05-27T03:03:59.443589",
     "status": "completed"
    },
    "tags": []
   },
   "outputs": [],
   "source": [
    "#hide\n",
    "%load_ext autoreload\n",
    "%autoreload 2"
   ]
  },
  {
   "cell_type": "code",
   "execution_count": 2,
   "id": "overall-advancement",
   "metadata": {
    "execution": {
     "iopub.execute_input": "2022-05-27T03:03:59.499272Z",
     "iopub.status.busy": "2022-05-27T03:03:59.498708Z",
     "iopub.status.idle": "2022-05-27T03:04:00.595814Z",
     "shell.execute_reply": "2022-05-27T03:04:00.594875Z"
    },
    "papermill": {
     "duration": 1.110653,
     "end_time": "2022-05-27T03:04:00.595937",
     "exception": false,
     "start_time": "2022-05-27T03:03:59.485284",
     "status": "completed"
    },
    "tags": []
   },
   "outputs": [],
   "source": [
    "#hide\n",
    "from scripts.read_data import read_api\n",
    "from IPython.display import HTML\n",
    "import plotly.graph_objects as go\n"
   ]
  },
  {
   "cell_type": "code",
   "execution_count": 3,
   "id": "light-crazy",
   "metadata": {
    "execution": {
     "iopub.execute_input": "2022-05-27T03:04:00.624521Z",
     "iopub.status.busy": "2022-05-27T03:04:00.621829Z",
     "iopub.status.idle": "2022-05-27T03:04:00.643373Z",
     "shell.execute_reply": "2022-05-27T03:04:00.643791Z"
    },
    "papermill": {
     "duration": 0.036748,
     "end_time": "2022-05-27T03:04:00.643907",
     "exception": false,
     "start_time": "2022-05-27T03:04:00.607159",
     "status": "completed"
    },
    "tags": []
   },
   "outputs": [],
   "source": [
    "#hide\n",
    "### ICO koreliacija"
   ]
  },
  {
   "cell_type": "code",
   "execution_count": 4,
   "id": "likely-bahrain",
   "metadata": {
    "execution": {
     "iopub.execute_input": "2022-05-27T03:04:00.671198Z",
     "iopub.status.busy": "2022-05-27T03:04:00.668537Z",
     "iopub.status.idle": "2022-05-27T03:04:01.473609Z",
     "shell.execute_reply": "2022-05-27T03:04:01.472676Z"
    },
    "papermill": {
     "duration": 0.818865,
     "end_time": "2022-05-27T03:04:01.473733",
     "exception": false,
     "start_time": "2022-05-27T03:04:00.654868",
     "status": "completed"
    },
    "tags": []
   },
   "outputs": [],
   "source": [
    "#hide\n",
    "import matplotlib.pyplot as plt\n",
    "import numpy as np\n",
    "import pandas as pd\n",
    "import seaborn as sns\n",
    "import matplotlib.pyplot as plt \n",
    "import matplotlib.dates as mdates\n",
    "import matplotlib.pyplot as plt"
   ]
  },
  {
   "cell_type": "code",
   "execution_count": 5,
   "id": "superior-blanket",
   "metadata": {
    "execution": {
     "iopub.execute_input": "2022-05-27T03:04:01.501095Z",
     "iopub.status.busy": "2022-05-27T03:04:01.499833Z",
     "iopub.status.idle": "2022-05-27T03:04:14.520436Z",
     "shell.execute_reply": "2022-05-27T03:04:14.519520Z"
    },
    "papermill": {
     "duration": 13.035523,
     "end_time": "2022-05-27T03:04:14.520558",
     "exception": false,
     "start_time": "2022-05-27T03:04:01.485035",
     "status": "completed"
    },
    "tags": []
   },
   "outputs": [
    {
     "name": "stderr",
     "output_type": "stream",
     "text": [
      "/home/runner/work/corr-app/corr-app/_notebooks/scripts/read_data.py:187: SettingWithCopyWarning:\n",
      "\n",
      "\n",
      "A value is trying to be set on a copy of a slice from a DataFrame.\n",
      "Try using .loc[row_indexer,col_indexer] = value instead\n",
      "\n",
      "See the caveats in the documentation: https://pandas.pydata.org/pandas-docs/stable/user_guide/indexing.html#returning-a-view-versus-a-copy\n",
      "\n"
     ]
    },
    {
     "name": "stderr",
     "output_type": "stream",
     "text": [
      "/home/runner/work/corr-app/corr-app/_notebooks/scripts/read_data.py:215: SettingWithCopyWarning:\n",
      "\n",
      "\n",
      "A value is trying to be set on a copy of a slice from a DataFrame.\n",
      "Try using .loc[row_indexer,col_indexer] = value instead\n",
      "\n",
      "See the caveats in the documentation: https://pandas.pydata.org/pandas-docs/stable/user_guide/indexing.html#returning-a-view-versus-a-copy\n",
      "\n"
     ]
    }
   ],
   "source": [
    "#hide\n",
    "df_all = read_api()\n",
    "#df_all = df_all.drop(['SP500', 'XAU', 'ETH', 'BTC'], axis=1)\n",
    "\n"
   ]
  },
  {
   "cell_type": "code",
   "execution_count": 6,
   "id": "mature-alert",
   "metadata": {
    "execution": {
     "iopub.execute_input": "2022-05-27T03:04:14.550572Z",
     "iopub.status.busy": "2022-05-27T03:04:14.548063Z",
     "iopub.status.idle": "2022-05-27T03:04:14.577068Z",
     "shell.execute_reply": "2022-05-27T03:04:14.576632Z"
    },
    "papermill": {
     "duration": 0.044754,
     "end_time": "2022-05-27T03:04:14.577169",
     "exception": false,
     "start_time": "2022-05-27T03:04:14.532415",
     "status": "completed"
    },
    "tags": []
   },
   "outputs": [],
   "source": [
    "#hide_input\n",
    "sum_corr = df_all.corr().sum().sort_values(ascending=True).index.values\n",
    "#df_all[sum_corr].corr()"
   ]
  },
  {
   "cell_type": "markdown",
   "id": "complex-syndicate",
   "metadata": {
    "papermill": {
     "duration": 0.012383,
     "end_time": "2022-05-27T03:04:14.601106",
     "exception": false,
     "start_time": "2022-05-27T03:04:14.588723",
     "status": "completed"
    },
    "tags": []
   },
   "source": [
    "## Išplėstinė koreliacijų matrica. "
   ]
  },
  {
   "cell_type": "code",
   "execution_count": 7,
   "id": "atomic-omaha",
   "metadata": {
    "execution": {
     "iopub.execute_input": "2022-05-27T03:04:14.628021Z",
     "iopub.status.busy": "2022-05-27T03:04:14.627471Z",
     "iopub.status.idle": "2022-05-27T03:04:15.742608Z",
     "shell.execute_reply": "2022-05-27T03:04:15.742144Z"
    },
    "papermill": {
     "duration": 1.129909,
     "end_time": "2022-05-27T03:04:15.742720",
     "exception": false,
     "start_time": "2022-05-27T03:04:14.612811",
     "status": "completed"
    },
    "tags": []
   },
   "outputs": [
    {
     "data": {
      "image/png": "[encoded data removed]",
      "text/plain": [
       "<Figure size 1080x792 with 2 Axes>"
      ]
     },
     "metadata": {
      "needs_background": "light"
     },
     "output_type": "display_data"
    }
   ],
   "source": [
    "#hide_input\n",
    "plt.figure(figsize=(15, 11))\n",
    "sns.heatmap(df_all[sum_corr].corr(), annot=True, cmap=\"cubehelix\") \n",
    "sns.set(font_scale=1.25)\n",
    "plt.savefig('corr_matrix.png', format='eps')"
   ]
  },
  {
   "cell_type": "code",
   "execution_count": 8,
   "id": "arbitrary-sullivan",
   "metadata": {
    "execution": {
     "iopub.execute_input": "2022-05-27T03:04:15.775169Z",
     "iopub.status.busy": "2022-05-27T03:04:15.773041Z",
     "iopub.status.idle": "2022-05-27T03:04:15.798571Z",
     "shell.execute_reply": "2022-05-27T03:04:15.798116Z"
    },
    "papermill": {
     "duration": 0.041892,
     "end_time": "2022-05-27T03:04:15.798676",
     "exception": false,
     "start_time": "2022-05-27T03:04:15.756784",
     "status": "completed"
    },
    "tags": []
   },
   "outputs": [],
   "source": [
    "#hide\n",
    "#df_all_mrk = read_api()"
   ]
  },
  {
   "cell_type": "code",
   "execution_count": 9,
   "id": "delayed-adapter",
   "metadata": {
    "execution": {
     "iopub.execute_input": "2022-05-27T03:04:15.828513Z",
     "iopub.status.busy": "2022-05-27T03:04:15.827974Z",
     "iopub.status.idle": "2022-05-27T03:04:15.853013Z",
     "shell.execute_reply": "2022-05-27T03:04:15.852552Z"
    },
    "papermill": {
     "duration": 0.040857,
     "end_time": "2022-05-27T03:04:15.853113",
     "exception": false,
     "start_time": "2022-05-27T03:04:15.812256",
     "status": "completed"
    },
    "tags": []
   },
   "outputs": [],
   "source": [
    "#hide\n",
    "#Koreliacijų koeficientai"
   ]
  },
  {
   "cell_type": "code",
   "execution_count": 10,
   "id": "seeing-celebration",
   "metadata": {
    "execution": {
     "iopub.execute_input": "2022-05-27T03:04:15.887203Z",
     "iopub.status.busy": "2022-05-27T03:04:15.884317Z",
     "iopub.status.idle": "2022-05-27T03:04:15.909672Z",
     "shell.execute_reply": "2022-05-27T03:04:15.909203Z"
    },
    "papermill": {
     "duration": 0.043028,
     "end_time": "2022-05-27T03:04:15.909770",
     "exception": false,
     "start_time": "2022-05-27T03:04:15.866742",
     "status": "completed"
    },
    "tags": []
   },
   "outputs": [],
   "source": [
    "#hide_input\n",
    "#sum_corr = df_all_mrk.corr().sum().sort_values(ascending=True).index.values\n",
    "#df_all_mrk[sum_corr].corr()"
   ]
  },
  {
   "cell_type": "code",
   "execution_count": 11,
   "id": "other-painting",
   "metadata": {
    "execution": {
     "iopub.execute_input": "2022-05-27T03:04:15.939604Z",
     "iopub.status.busy": "2022-05-27T03:04:15.939056Z",
     "iopub.status.idle": "2022-05-27T03:04:15.963670Z",
     "shell.execute_reply": "2022-05-27T03:04:15.963210Z"
    },
    "papermill": {
     "duration": 0.040519,
     "end_time": "2022-05-27T03:04:15.963766",
     "exception": false,
     "start_time": "2022-05-27T03:04:15.923247",
     "status": "completed"
    },
    "tags": []
   },
   "outputs": [],
   "source": [
    "#hide\n",
    "#Koreliacijos matrica. "
   ]
  },
  {
   "cell_type": "code",
   "execution_count": 12,
   "id": "modular-magnitude",
   "metadata": {
    "execution": {
     "iopub.execute_input": "2022-05-27T03:04:15.993645Z",
     "iopub.status.busy": "2022-05-27T03:04:15.993106Z",
     "iopub.status.idle": "2022-05-27T03:04:16.018246Z",
     "shell.execute_reply": "2022-05-27T03:04:16.017780Z"
    },
    "papermill": {
     "duration": 0.040993,
     "end_time": "2022-05-27T03:04:16.018361",
     "exception": false,
     "start_time": "2022-05-27T03:04:15.977368",
     "status": "completed"
    },
    "tags": []
   },
   "outputs": [],
   "source": [
    "#hide_input\n",
    "#plt.figure(figsize=(15, 8))\n",
    "#sns.heatmap(df_all_mrk[sum_corr].corr(), annot=True, cmap=\"BrBG\");\n",
    "#plt.savefig('corr_matrix_all.eps', format='eps')"
   ]
  },
  {
   "cell_type": "code",
   "execution_count": null,
   "id": "original-senator",
   "metadata": {
    "papermill": {
     "duration": 0.013353,
     "end_time": "2022-05-27T03:04:16.045147",
     "exception": false,
     "start_time": "2022-05-27T03:04:16.031794",
     "status": "completed"
    },
    "tags": []
   },
   "outputs": [],
   "source": []
  },
  {
   "cell_type": "code",
   "execution_count": null,
   "id": "saving-secretariat",
   "metadata": {
    "papermill": {
     "duration": 0.013418,
     "end_time": "2022-05-27T03:04:16.072013",
     "exception": false,
     "start_time": "2022-05-27T03:04:16.058595",
     "status": "completed"
    },
    "tags": []
   },
   "outputs": [],
   "source": []
  }
 ],
 "metadata": {
  "kernelspec": {
   "display_name": "Python 3",
   "language": "python",
   "name": "python3"
  },
  "language_info": {
   "codemirror_mode": {
    "name": "ipython",
    "version": 3
   },
   "file_extension": ".py",
   "mimetype": "text/x-python",
   "name": "python",
   "nbconvert_exporter": "python",
   "pygments_lexer": "ipython3",
   "version": "3.6.15"
  },
  "papermill": {
   "default_parameters": {},
   "duration": 18.008989,
   "end_time": "2022-05-27T03:04:16.502492",
   "environment_variables": {},
   "exception": null,
   "input_path": "App-Correlation_charts.ipynb",
   "output_path": "App-Correlation_charts.ipynb",
   "parameters": {},
   "start_time": "2022-05-27T03:03:58.493503",
   "version": "2.2.2"
  }
 },
 "nbformat": 4,
 "nbformat_minor": 5
}