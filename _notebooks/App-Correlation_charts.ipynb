{
 "cells": [
  {
   "cell_type": "markdown",
   "id": "touched-facility",
   "metadata": {
    "papermill": {
     "duration": 0.015152,
     "end_time": "2022-09-17T03:28:20.666049",
     "exception": false,
     "start_time": "2022-09-17T03:28:20.650897",
     "status": "completed"
    },
    "tags": []
   },
   "source": [
    "# Koreliacijų matrica\n",
    "> Išplėstinė koreliacijų matrica. \n",
    "\n",
    "- toc: true \n",
    "- badges: true\n",
    "- comments: false\n",
    "- categories: [Dominykas Tautkus]\n",
    "- image: images/matrix.png"
   ]
  },
  {
   "cell_type": "code",
   "execution_count": null,
   "id": "premium-weekend",
   "metadata": {
    "papermill": {
     "duration": 0.010895,
     "end_time": "2022-09-17T03:28:20.688236",
     "exception": false,
     "start_time": "2022-09-17T03:28:20.677341",
     "status": "completed"
    },
    "tags": []
   },
   "outputs": [],
   "source": []
  },
  {
   "cell_type": "code",
   "execution_count": 1,
   "id": "vertical-rebate",
   "metadata": {
    "execution": {
     "iopub.execute_input": "2022-09-17T03:28:20.721001Z",
     "iopub.status.busy": "2022-09-17T03:28:20.720368Z",
     "iopub.status.idle": "2022-09-17T03:28:20.730798Z",
     "shell.execute_reply": "2022-09-17T03:28:20.731254Z"
    },
    "papermill": {
     "duration": 0.032385,
     "end_time": "2022-09-17T03:28:20.731406",
     "exception": false,
     "start_time": "2022-09-17T03:28:20.699021",
     "status": "completed"
    },
    "tags": []
   },
   "outputs": [],
   "source": [
    "#hide\n",
    "%load_ext autoreload\n",
    "%autoreload 2"
   ]
  },
  {
   "cell_type": "code",
   "execution_count": 2,
   "id": "overall-advancement",
   "metadata": {
    "execution": {
     "iopub.execute_input": "2022-09-17T03:28:20.767068Z",
     "iopub.status.busy": "2022-09-17T03:28:20.763258Z",
     "iopub.status.idle": "2022-09-17T03:28:22.009145Z",
     "shell.execute_reply": "2022-09-17T03:28:22.008171Z"
    },
    "papermill": {
     "duration": 1.267161,
     "end_time": "2022-09-17T03:28:22.009282",
     "exception": false,
     "start_time": "2022-09-17T03:28:20.742121",
     "status": "completed"
    },
    "tags": []
   },
   "outputs": [],
   "source": [
    "#hide\n",
    "from scripts.read_data import read_api\n",
    "from IPython.display import HTML\n",
    "import plotly.graph_objects as go\n"
   ]
  },
  {
   "cell_type": "code",
   "execution_count": 3,
   "id": "light-crazy",
   "metadata": {
    "execution": {
     "iopub.execute_input": "2022-09-17T03:28:22.038504Z",
     "iopub.status.busy": "2022-09-17T03:28:22.035688Z",
     "iopub.status.idle": "2022-09-17T03:28:22.059027Z",
     "shell.execute_reply": "2022-09-17T03:28:22.058541Z"
    },
    "papermill": {
     "duration": 0.0389,
     "end_time": "2022-09-17T03:28:22.059148",
     "exception": false,
     "start_time": "2022-09-17T03:28:22.020248",
     "status": "completed"
    },
    "tags": []
   },
   "outputs": [],
   "source": [
    "#hide\n",
    "### ICO koreliacija"
   ]
  },
  {
   "cell_type": "code",
   "execution_count": 4,
   "id": "likely-bahrain",
   "metadata": {
    "execution": {
     "iopub.execute_input": "2022-09-17T03:28:22.087797Z",
     "iopub.status.busy": "2022-09-17T03:28:22.086889Z",
     "iopub.status.idle": "2022-09-17T03:28:22.925817Z",
     "shell.execute_reply": "2022-09-17T03:28:22.924802Z"
    },
    "papermill": {
     "duration": 0.85609,
     "end_time": "2022-09-17T03:28:22.925960",
     "exception": false,
     "start_time": "2022-09-17T03:28:22.069870",
     "status": "completed"
    },
    "tags": []
   },
   "outputs": [],
   "source": [
    "#hide\n",
    "import matplotlib.pyplot as plt\n",
    "import numpy as np\n",
    "import pandas as pd\n",
    "import seaborn as sns\n",
    "import matplotlib.pyplot as plt \n",
    "import matplotlib.dates as mdates\n",
    "import matplotlib.pyplot as plt"
   ]
  },
  {
   "cell_type": "code",
   "execution_count": 5,
   "id": "superior-blanket",
   "metadata": {
    "execution": {
     "iopub.execute_input": "2022-09-17T03:28:22.964409Z",
     "iopub.status.busy": "2022-09-17T03:28:22.963122Z",
     "iopub.status.idle": "2022-09-17T03:28:33.611431Z",
     "shell.execute_reply": "2022-09-17T03:28:33.610578Z"
    },
    "papermill": {
     "duration": 10.674683,
     "end_time": "2022-09-17T03:28:33.611558",
     "exception": false,
     "start_time": "2022-09-17T03:28:22.936875",
     "status": "completed"
    },
    "tags": []
   },
   "outputs": [
    {
     "name": "stderr",
     "output_type": "stream",
     "text": [
      "/home/runner/work/corr-app/corr-app/_notebooks/scripts/read_data.py:187: SettingWithCopyWarning:\n",
      "\n",
      "\n",
      "A value is trying to be set on a copy of a slice from a DataFrame.\n",
      "Try using .loc[row_indexer,col_indexer] = value instead\n",
      "\n",
      "See the caveats in the documentation: https://pandas.pydata.org/pandas-docs/stable/user_guide/indexing.html#returning-a-view-versus-a-copy\n",
      "\n"
     ]
    },
    {
     "name": "stderr",
     "output_type": "stream",
     "text": [
      "/home/runner/work/corr-app/corr-app/_notebooks/scripts/read_data.py:215: SettingWithCopyWarning:\n",
      "\n",
      "\n",
      "A value is trying to be set on a copy of a slice from a DataFrame.\n",
      "Try using .loc[row_indexer,col_indexer] = value instead\n",
      "\n",
      "See the caveats in the documentation: https://pandas.pydata.org/pandas-docs/stable/user_guide/indexing.html#returning-a-view-versus-a-copy\n",
      "\n"
     ]
    }
   ],
   "source": [
    "#hide\n",
    "df_all = read_api()\n",
    "#df_all = df_all.drop(['SP500', 'XAU', 'ETH', 'BTC'], axis=1)\n",
    "\n"
   ]
  },
  {
   "cell_type": "code",
   "execution_count": 6,
   "id": "mature-alert",
   "metadata": {
    "execution": {
     "iopub.execute_input": "2022-09-17T03:28:33.641914Z",
     "iopub.status.busy": "2022-09-17T03:28:33.641330Z",
     "iopub.status.idle": "2022-09-17T03:28:33.672967Z",
     "shell.execute_reply": "2022-09-17T03:28:33.672485Z"
    },
    "papermill": {
     "duration": 0.048873,
     "end_time": "2022-09-17T03:28:33.673088",
     "exception": false,
     "start_time": "2022-09-17T03:28:33.624215",
     "status": "completed"
    },
    "tags": []
   },
   "outputs": [],
   "source": [
    "#hide_input\n",
    "sum_corr = df_all.corr().sum().sort_values(ascending=True).index.values\n",
    "#df_all[sum_corr].corr()"
   ]
  },
  {
   "cell_type": "markdown",
   "id": "complex-syndicate",
   "metadata": {
    "papermill": {
     "duration": 0.011258,
     "end_time": "2022-09-17T03:28:33.695694",
     "exception": false,
     "start_time": "2022-09-17T03:28:33.684436",
     "status": "completed"
    },
    "tags": []
   },
   "source": [
    "## Išplėstinė koreliacijų matrica. "
   ]
  },
  {
   "cell_type": "code",
   "execution_count": 7,
   "id": "atomic-omaha",
   "metadata": {
    "execution": {
     "iopub.execute_input": "2022-09-17T03:28:33.723318Z",
     "iopub.status.busy": "2022-09-17T03:28:33.722726Z",
     "iopub.status.idle": "2022-09-17T03:28:34.927434Z",
     "shell.execute_reply": "2022-09-17T03:28:34.927917Z"
    },
    "papermill": {
     "duration": 1.220771,
     "end_time": "2022-09-17T03:28:34.928058",
     "exception": false,
     "start_time": "2022-09-17T03:28:33.707287",
     "status": "completed"
    },
    "tags": []
   },
   "outputs": [
    {
     "data": {
      "image/png": "[encoded data removed]",
      "text/plain": [
       "<Figure size 1080x792 with 2 Axes>"
      ]
     },
     "metadata": {
      "needs_background": "light"
     },
     "output_type": "display_data"
    }
   ],
   "source": [
    "#hide_input\n",
    "plt.figure(figsize=(15, 11))\n",
    "sns.heatmap(df_all[sum_corr].corr(), annot=True, cmap=\"cubehelix\") \n",
    "sns.set(font_scale=1.25)\n",
    "plt.savefig('corr_matrix.png', format='eps')"
   ]
  },
  {
   "cell_type": "code",
   "execution_count": 8,
   "id": "arbitrary-sullivan",
   "metadata": {
    "execution": {
     "iopub.execute_input": "2022-09-17T03:28:34.962146Z",
     "iopub.status.busy": "2022-09-17T03:28:34.958556Z",
     "iopub.status.idle": "2022-09-17T03:28:34.986005Z",
     "shell.execute_reply": "2022-09-17T03:28:34.985385Z"
    },
    "papermill": {
     "duration": 0.04441,
     "end_time": "2022-09-17T03:28:34.986137",
     "exception": false,
     "start_time": "2022-09-17T03:28:34.941727",
     "status": "completed"
    },
    "tags": []
   },
   "outputs": [],
   "source": [
    "#hide\n",
    "#df_all_mrk = read_api()"
   ]
  },
  {
   "cell_type": "code",
   "execution_count": 9,
   "id": "delayed-adapter",
   "metadata": {
    "execution": {
     "iopub.execute_input": "2022-09-17T03:28:35.016823Z",
     "iopub.status.busy": "2022-09-17T03:28:35.016241Z",
     "iopub.status.idle": "2022-09-17T03:28:35.044751Z",
     "shell.execute_reply": "2022-09-17T03:28:35.043748Z"
    },
    "papermill": {
     "duration": 0.045334,
     "end_time": "2022-09-17T03:28:35.044900",
     "exception": false,
     "start_time": "2022-09-17T03:28:34.999566",
     "status": "completed"
    },
    "tags": []
   },
   "outputs": [],
   "source": [
    "#hide\n",
    "#Koreliacijų koeficientai"
   ]
  },
  {
   "cell_type": "code",
   "execution_count": 10,
   "id": "seeing-celebration",
   "metadata": {
    "execution": {
     "iopub.execute_input": "2022-09-17T03:28:35.092488Z",
     "iopub.status.busy": "2022-09-17T03:28:35.091390Z",
     "iopub.status.idle": "2022-09-17T03:28:35.113795Z",
     "shell.execute_reply": "2022-09-17T03:28:35.113227Z"
    },
    "papermill": {
     "duration": 0.051091,
     "end_time": "2022-09-17T03:28:35.113936",
     "exception": false,
     "start_time": "2022-09-17T03:28:35.062845",
     "status": "completed"
    },
    "tags": []
   },
   "outputs": [],
   "source": [
    "#hide_input\n",
    "#sum_corr = df_all_mrk.corr().sum().sort_values(ascending=True).index.values\n",
    "#df_all_mrk[sum_corr].corr()"
   ]
  },
  {
   "cell_type": "code",
   "execution_count": 11,
   "id": "other-painting",
   "metadata": {
    "execution": {
     "iopub.execute_input": "2022-09-17T03:28:35.147290Z",
     "iopub.status.busy": "2022-09-17T03:28:35.146715Z",
     "iopub.status.idle": "2022-09-17T03:28:35.172633Z",
     "shell.execute_reply": "2022-09-17T03:28:35.172083Z"
    },
    "papermill": {
     "duration": 0.04463,
     "end_time": "2022-09-17T03:28:35.172762",
     "exception": false,
     "start_time": "2022-09-17T03:28:35.128132",
     "status": "completed"
    },
    "tags": []
   },
   "outputs": [],
   "source": [
    "#hide\n",
    "#Koreliacijos matrica. "
   ]
  },
  {
   "cell_type": "code",
   "execution_count": 12,
   "id": "modular-magnitude",
   "metadata": {
    "execution": {
     "iopub.execute_input": "2022-09-17T03:28:35.203589Z",
     "iopub.status.busy": "2022-09-17T03:28:35.202989Z",
     "iopub.status.idle": "2022-09-17T03:28:35.232220Z",
     "shell.execute_reply": "2022-09-17T03:28:35.231660Z"
    },
    "papermill": {
     "duration": 0.045056,
     "end_time": "2022-09-17T03:28:35.232342",
     "exception": false,
     "start_time": "2022-09-17T03:28:35.187286",
     "status": "completed"
    },
    "tags": []
   },
   "outputs": [],
   "source": [
    "#hide_input\n",
    "#plt.figure(figsize=(15, 8))\n",
    "#sns.heatmap(df_all_mrk[sum_corr].corr(), annot=True, cmap=\"BrBG\");\n",
    "#plt.savefig('corr_matrix_all.eps', format='eps')"
   ]
  },
  {
   "cell_type": "code",
   "execution_count": null,
   "id": "original-senator",
   "metadata": {
    "papermill": {
     "duration": 0.013246,
     "end_time": "2022-09-17T03:28:35.258961",
     "exception": false,
     "start_time": "2022-09-17T03:28:35.245715",
     "status": "completed"
    },
    "tags": []
   },
   "outputs": [],
   "source": []
  },
  {
   "cell_type": "code",
   "execution_count": null,
   "id": "saving-secretariat",
   "metadata": {
    "papermill": {
     "duration": 0.013187,
     "end_time": "2022-09-17T03:28:35.285381",
     "exception": false,
     "start_time": "2022-09-17T03:28:35.272194",
     "status": "completed"
    },
    "tags": []
   },
   "outputs": [],
   "source": []
  }
 ],
 "metadata": {
  "kernelspec": {
   "display_name": "Python 3",
   "language": "python",
   "name": "python3"
  },
  "language_info": {
   "codemirror_mode": {
    "name": "ipython",
    "version": 3
   },
   "file_extension": ".py",
   "mimetype": "text/x-python",
   "name": "python",
   "nbconvert_exporter": "python",
   "pygments_lexer": "ipython3",
   "version": "3.6.15"
  },
  "papermill": {
   "default_parameters": {},
   "duration": 16.407947,
   "end_time": "2022-09-17T03:28:35.817684",
   "environment_variables": {},
   "exception": null,
   "input_path": "App-Correlation_charts.ipynb",
   "output_path": "App-Correlation_charts.ipynb",
   "parameters": {},
   "start_time": "2022-09-17T03:28:19.409737",
   "version": "2.2.2"
  }
 },
 "nbformat": 4,
 "nbformat_minor": 5
}