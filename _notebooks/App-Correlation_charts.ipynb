{
 "cells": [
  {
   "cell_type": "markdown",
   "id": "touched-facility",
   "metadata": {
    "papermill": {
     "duration": 0.0174,
     "end_time": "2022-04-18T02:55:40.602178",
     "exception": false,
     "start_time": "2022-04-18T02:55:40.584778",
     "status": "completed"
    },
    "tags": []
   },
   "source": [
    "# Koreliacijų matrica\n",
    "> Išplėstinė koreliacijų matrica. \n",
    "\n",
    "- toc: true \n",
    "- badges: true\n",
    "- comments: false\n",
    "- categories: [Dominykas Tautkus]\n",
    "- image: images/matrix.png"
   ]
  },
  {
   "cell_type": "code",
   "execution_count": null,
   "id": "premium-weekend",
   "metadata": {
    "papermill": {
     "duration": 0.01392,
     "end_time": "2022-04-18T02:55:40.630280",
     "exception": false,
     "start_time": "2022-04-18T02:55:40.616360",
     "status": "completed"
    },
    "tags": []
   },
   "outputs": [],
   "source": []
  },
  {
   "cell_type": "code",
   "execution_count": 1,
   "id": "vertical-rebate",
   "metadata": {
    "execution": {
     "iopub.execute_input": "2022-04-18T02:55:40.668891Z",
     "iopub.status.busy": "2022-04-18T02:55:40.668203Z",
     "iopub.status.idle": "2022-04-18T02:55:40.679424Z",
     "shell.execute_reply": "2022-04-18T02:55:40.680074Z"
    },
    "papermill": {
     "duration": 0.036711,
     "end_time": "2022-04-18T02:55:40.680262",
     "exception": false,
     "start_time": "2022-04-18T02:55:40.643551",
     "status": "completed"
    },
    "tags": []
   },
   "outputs": [],
   "source": [
    "#hide\n",
    "%load_ext autoreload\n",
    "%autoreload 2"
   ]
  },
  {
   "cell_type": "code",
   "execution_count": 2,
   "id": "overall-advancement",
   "metadata": {
    "execution": {
     "iopub.execute_input": "2022-04-18T02:55:40.713120Z",
     "iopub.status.busy": "2022-04-18T02:55:40.712458Z",
     "iopub.status.idle": "2022-04-18T02:55:42.097572Z",
     "shell.execute_reply": "2022-04-18T02:55:42.096837Z"
    },
    "papermill": {
     "duration": 1.403831,
     "end_time": "2022-04-18T02:55:42.097727",
     "exception": false,
     "start_time": "2022-04-18T02:55:40.693896",
     "status": "completed"
    },
    "tags": []
   },
   "outputs": [],
   "source": [
    "#hide\n",
    "from scripts.read_data import read_api\n",
    "from IPython.display import HTML\n",
    "import plotly.graph_objects as go\n"
   ]
  },
  {
   "cell_type": "code",
   "execution_count": 3,
   "id": "light-crazy",
   "metadata": {
    "execution": {
     "iopub.execute_input": "2022-04-18T02:55:42.132141Z",
     "iopub.status.busy": "2022-04-18T02:55:42.131418Z",
     "iopub.status.idle": "2022-04-18T02:55:42.158125Z",
     "shell.execute_reply": "2022-04-18T02:55:42.158720Z"
    },
    "papermill": {
     "duration": 0.047563,
     "end_time": "2022-04-18T02:55:42.158902",
     "exception": false,
     "start_time": "2022-04-18T02:55:42.111339",
     "status": "completed"
    },
    "tags": []
   },
   "outputs": [],
   "source": [
    "#hide\n",
    "### ICO koreliacija"
   ]
  },
  {
   "cell_type": "code",
   "execution_count": 4,
   "id": "likely-bahrain",
   "metadata": {
    "execution": {
     "iopub.execute_input": "2022-04-18T02:55:42.191203Z",
     "iopub.status.busy": "2022-04-18T02:55:42.190454Z",
     "iopub.status.idle": "2022-04-18T02:55:43.188615Z",
     "shell.execute_reply": "2022-04-18T02:55:43.187637Z"
    },
    "papermill": {
     "duration": 1.016209,
     "end_time": "2022-04-18T02:55:43.188752",
     "exception": false,
     "start_time": "2022-04-18T02:55:42.172543",
     "status": "completed"
    },
    "tags": []
   },
   "outputs": [],
   "source": [
    "#hide\n",
    "import matplotlib.pyplot as plt\n",
    "import numpy as np\n",
    "import pandas as pd\n",
    "import seaborn as sns\n",
    "import matplotlib.pyplot as plt \n",
    "import matplotlib.dates as mdates\n",
    "import matplotlib.pyplot as plt"
   ]
  },
  {
   "cell_type": "code",
   "execution_count": 5,
   "id": "superior-blanket",
   "metadata": {
    "execution": {
     "iopub.execute_input": "2022-04-18T02:55:43.220767Z",
     "iopub.status.busy": "2022-04-18T02:55:43.220113Z",
     "iopub.status.idle": "2022-04-18T02:55:58.089244Z",
     "shell.execute_reply": "2022-04-18T02:55:58.089799Z"
    },
    "papermill": {
     "duration": 14.887573,
     "end_time": "2022-04-18T02:55:58.089969",
     "exception": false,
     "start_time": "2022-04-18T02:55:43.202396",
     "status": "completed"
    },
    "tags": []
   },
   "outputs": [
    {
     "name": "stderr",
     "output_type": "stream",
     "text": [
      "/home/runner/work/corr-app/corr-app/_notebooks/scripts/read_data.py:187: SettingWithCopyWarning:\n",
      "\n",
      "\n",
      "A value is trying to be set on a copy of a slice from a DataFrame.\n",
      "Try using .loc[row_indexer,col_indexer] = value instead\n",
      "\n",
      "See the caveats in the documentation: https://pandas.pydata.org/pandas-docs/stable/user_guide/indexing.html#returning-a-view-versus-a-copy\n",
      "\n"
     ]
    },
    {
     "name": "stderr",
     "output_type": "stream",
     "text": [
      "/home/runner/work/corr-app/corr-app/_notebooks/scripts/read_data.py:215: SettingWithCopyWarning:\n",
      "\n",
      "\n",
      "A value is trying to be set on a copy of a slice from a DataFrame.\n",
      "Try using .loc[row_indexer,col_indexer] = value instead\n",
      "\n",
      "See the caveats in the documentation: https://pandas.pydata.org/pandas-docs/stable/user_guide/indexing.html#returning-a-view-versus-a-copy\n",
      "\n"
     ]
    }
   ],
   "source": [
    "#hide\n",
    "df_all = read_api()\n",
    "#df_all = df_all.drop(['SP500', 'XAU', 'ETH', 'BTC'], axis=1)\n",
    "\n"
   ]
  },
  {
   "cell_type": "code",
   "execution_count": 6,
   "id": "mature-alert",
   "metadata": {
    "execution": {
     "iopub.execute_input": "2022-04-18T02:55:58.127938Z",
     "iopub.status.busy": "2022-04-18T02:55:58.127281Z",
     "iopub.status.idle": "2022-04-18T02:55:58.159993Z",
     "shell.execute_reply": "2022-04-18T02:55:58.159420Z"
    },
    "papermill": {
     "duration": 0.0553,
     "end_time": "2022-04-18T02:55:58.160140",
     "exception": false,
     "start_time": "2022-04-18T02:55:58.104840",
     "status": "completed"
    },
    "tags": []
   },
   "outputs": [],
   "source": [
    "#hide_input\n",
    "sum_corr = df_all.corr().sum().sort_values(ascending=True).index.values\n",
    "#df_all[sum_corr].corr()"
   ]
  },
  {
   "cell_type": "markdown",
   "id": "complex-syndicate",
   "metadata": {
    "papermill": {
     "duration": 0.013879,
     "end_time": "2022-04-18T02:55:58.188296",
     "exception": false,
     "start_time": "2022-04-18T02:55:58.174417",
     "status": "completed"
    },
    "tags": []
   },
   "source": [
    "## Išplėstinė koreliacijų matrica. "
   ]
  },
  {
   "cell_type": "code",
   "execution_count": 7,
   "id": "atomic-omaha",
   "metadata": {
    "execution": {
     "iopub.execute_input": "2022-04-18T02:55:58.222316Z",
     "iopub.status.busy": "2022-04-18T02:55:58.221662Z",
     "iopub.status.idle": "2022-04-18T02:55:59.746100Z",
     "shell.execute_reply": "2022-04-18T02:55:59.745090Z"
    },
    "papermill": {
     "duration": 1.543841,
     "end_time": "2022-04-18T02:55:59.746241",
     "exception": false,
     "start_time": "2022-04-18T02:55:58.202400",
     "status": "completed"
    },
    "tags": []
   },
   "outputs": [
    {
     "data": {
      "image/png": "[encoded data removed]",
      "text/plain": [
       "<Figure size 1080x792 with 2 Axes>"
      ]
     },
     "metadata": {
      "needs_background": "light"
     },
     "output_type": "display_data"
    }
   ],
   "source": [
    "#hide_input\n",
    "plt.figure(figsize=(15, 11))\n",
    "sns.heatmap(df_all[sum_corr].corr(), annot=True, cmap=\"cubehelix\") \n",
    "sns.set(font_scale=1.25)\n",
    "plt.savefig('corr_matrix.png', format='eps')"
   ]
  },
  {
   "cell_type": "code",
   "execution_count": 8,
   "id": "arbitrary-sullivan",
   "metadata": {
    "execution": {
     "iopub.execute_input": "2022-04-18T02:55:59.783708Z",
     "iopub.status.busy": "2022-04-18T02:55:59.783017Z",
     "iopub.status.idle": "2022-04-18T02:55:59.812121Z",
     "shell.execute_reply": "2022-04-18T02:55:59.812695Z"
    },
    "papermill": {
     "duration": 0.049723,
     "end_time": "2022-04-18T02:55:59.812852",
     "exception": false,
     "start_time": "2022-04-18T02:55:59.763129",
     "status": "completed"
    },
    "tags": []
   },
   "outputs": [],
   "source": [
    "#hide\n",
    "#df_all_mrk = read_api()"
   ]
  },
  {
   "cell_type": "code",
   "execution_count": 9,
   "id": "delayed-adapter",
   "metadata": {
    "execution": {
     "iopub.execute_input": "2022-04-18T02:55:59.848548Z",
     "iopub.status.busy": "2022-04-18T02:55:59.847910Z",
     "iopub.status.idle": "2022-04-18T02:55:59.875100Z",
     "shell.execute_reply": "2022-04-18T02:55:59.875590Z"
    },
    "papermill": {
     "duration": 0.046686,
     "end_time": "2022-04-18T02:55:59.875767",
     "exception": false,
     "start_time": "2022-04-18T02:55:59.829081",
     "status": "completed"
    },
    "tags": []
   },
   "outputs": [],
   "source": [
    "#hide\n",
    "#Koreliacijų koeficientai"
   ]
  },
  {
   "cell_type": "code",
   "execution_count": 10,
   "id": "seeing-celebration",
   "metadata": {
    "execution": {
     "iopub.execute_input": "2022-04-18T02:55:59.911402Z",
     "iopub.status.busy": "2022-04-18T02:55:59.910733Z",
     "iopub.status.idle": "2022-04-18T02:55:59.939131Z",
     "shell.execute_reply": "2022-04-18T02:55:59.939589Z"
    },
    "papermill": {
     "duration": 0.047538,
     "end_time": "2022-04-18T02:55:59.939758",
     "exception": false,
     "start_time": "2022-04-18T02:55:59.892220",
     "status": "completed"
    },
    "tags": []
   },
   "outputs": [],
   "source": [
    "#hide_input\n",
    "#sum_corr = df_all_mrk.corr().sum().sort_values(ascending=True).index.values\n",
    "#df_all_mrk[sum_corr].corr()"
   ]
  },
  {
   "cell_type": "code",
   "execution_count": 11,
   "id": "other-painting",
   "metadata": {
    "execution": {
     "iopub.execute_input": "2022-04-18T02:55:59.980320Z",
     "iopub.status.busy": "2022-04-18T02:55:59.979522Z",
     "iopub.status.idle": "2022-04-18T02:56:00.010452Z",
     "shell.execute_reply": "2022-04-18T02:56:00.009917Z"
    },
    "papermill": {
     "duration": 0.051048,
     "end_time": "2022-04-18T02:56:00.010608",
     "exception": false,
     "start_time": "2022-04-18T02:55:59.959560",
     "status": "completed"
    },
    "tags": []
   },
   "outputs": [],
   "source": [
    "#hide\n",
    "#Koreliacijos matrica. "
   ]
  },
  {
   "cell_type": "code",
   "execution_count": 12,
   "id": "modular-magnitude",
   "metadata": {
    "execution": {
     "iopub.execute_input": "2022-04-18T02:56:00.045636Z",
     "iopub.status.busy": "2022-04-18T02:56:00.044940Z",
     "iopub.status.idle": "2022-04-18T02:56:00.078975Z",
     "shell.execute_reply": "2022-04-18T02:56:00.078330Z"
    },
    "papermill": {
     "duration": 0.053112,
     "end_time": "2022-04-18T02:56:00.079119",
     "exception": false,
     "start_time": "2022-04-18T02:56:00.026007",
     "status": "completed"
    },
    "tags": []
   },
   "outputs": [],
   "source": [
    "#hide_input\n",
    "#plt.figure(figsize=(15, 8))\n",
    "#sns.heatmap(df_all_mrk[sum_corr].corr(), annot=True, cmap=\"BrBG\");\n",
    "#plt.savefig('corr_matrix_all.eps', format='eps')"
   ]
  },
  {
   "cell_type": "code",
   "execution_count": null,
   "id": "original-senator",
   "metadata": {
    "papermill": {
     "duration": 0.016019,
     "end_time": "2022-04-18T02:56:00.111953",
     "exception": false,
     "start_time": "2022-04-18T02:56:00.095934",
     "status": "completed"
    },
    "tags": []
   },
   "outputs": [],
   "source": []
  },
  {
   "cell_type": "code",
   "execution_count": null,
   "id": "saving-secretariat",
   "metadata": {
    "papermill": {
     "duration": 0.015258,
     "end_time": "2022-04-18T02:56:00.143789",
     "exception": false,
     "start_time": "2022-04-18T02:56:00.128531",
     "status": "completed"
    },
    "tags": []
   },
   "outputs": [],
   "source": []
  }
 ],
 "metadata": {
  "kernelspec": {
   "display_name": "Python 3",
   "language": "python",
   "name": "python3"
  },
  "language_info": {
   "codemirror_mode": {
    "name": "ipython",
    "version": 3
   },
   "file_extension": ".py",
   "mimetype": "text/x-python",
   "name": "python",
   "nbconvert_exporter": "python",
   "pygments_lexer": "ipython3",
   "version": "3.6.15"
  },
  "papermill": {
   "default_parameters": {},
   "duration": 21.301675,
   "end_time": "2022-04-18T02:56:00.677961",
   "environment_variables": {},
   "exception": null,
   "input_path": "App-Correlation_charts.ipynb",
   "output_path": "App-Correlation_charts.ipynb",
   "parameters": {},
   "start_time": "2022-04-18T02:55:39.376286",
   "version": "2.2.2"
  }
 },
 "nbformat": 4,
 "nbformat_minor": 5
}