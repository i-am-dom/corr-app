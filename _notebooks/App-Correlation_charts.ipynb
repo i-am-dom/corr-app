{
 "cells": [
  {
   "cell_type": "markdown",
   "id": "touched-facility",
   "metadata": {
    "papermill": {
     "duration": 0.018884,
     "end_time": "2022-03-07T02:12:52.171084",
     "exception": false,
     "start_time": "2022-03-07T02:12:52.152200",
     "status": "completed"
    },
    "tags": []
   },
   "source": [
    "# Koreliacijų matrica\n",
    "> Išplėstinė koreliacijų matrica. \n",
    "\n",
    "- toc: true \n",
    "- badges: true\n",
    "- comments: false\n",
    "- categories: [Dominykas Tautkus]\n",
    "- image: images/matrix.png"
   ]
  },
  {
   "cell_type": "code",
   "execution_count": null,
   "id": "premium-weekend",
   "metadata": {
    "papermill": {
     "duration": 0.014232,
     "end_time": "2022-03-07T02:12:52.200327",
     "exception": false,
     "start_time": "2022-03-07T02:12:52.186095",
     "status": "completed"
    },
    "tags": []
   },
   "outputs": [],
   "source": []
  },
  {
   "cell_type": "code",
   "execution_count": 1,
   "id": "vertical-rebate",
   "metadata": {
    "execution": {
     "iopub.execute_input": "2022-03-07T02:12:52.247184Z",
     "iopub.status.busy": "2022-03-07T02:12:52.246362Z",
     "iopub.status.idle": "2022-03-07T02:12:52.260248Z",
     "shell.execute_reply": "2022-03-07T02:12:52.259638Z"
    },
    "papermill": {
     "duration": 0.045025,
     "end_time": "2022-03-07T02:12:52.260432",
     "exception": false,
     "start_time": "2022-03-07T02:12:52.215407",
     "status": "completed"
    },
    "tags": []
   },
   "outputs": [],
   "source": [
    "#hide\n",
    "%load_ext autoreload\n",
    "%autoreload 2"
   ]
  },
  {
   "cell_type": "code",
   "execution_count": 2,
   "id": "overall-advancement",
   "metadata": {
    "execution": {
     "iopub.execute_input": "2022-03-07T02:12:52.295567Z",
     "iopub.status.busy": "2022-03-07T02:12:52.294889Z",
     "iopub.status.idle": "2022-03-07T02:12:54.038391Z",
     "shell.execute_reply": "2022-03-07T02:12:54.037706Z"
    },
    "papermill": {
     "duration": 1.762674,
     "end_time": "2022-03-07T02:12:54.038570",
     "exception": false,
     "start_time": "2022-03-07T02:12:52.275896",
     "status": "completed"
    },
    "tags": []
   },
   "outputs": [],
   "source": [
    "#hide\n",
    "from scripts.read_data import read_api\n",
    "from IPython.display import HTML\n",
    "import plotly.graph_objects as go\n"
   ]
  },
  {
   "cell_type": "code",
   "execution_count": 3,
   "id": "light-crazy",
   "metadata": {
    "execution": {
     "iopub.execute_input": "2022-03-07T02:12:54.073729Z",
     "iopub.status.busy": "2022-03-07T02:12:54.073016Z",
     "iopub.status.idle": "2022-03-07T02:12:54.106428Z",
     "shell.execute_reply": "2022-03-07T02:12:54.105798Z"
    },
    "papermill": {
     "duration": 0.052893,
     "end_time": "2022-03-07T02:12:54.106610",
     "exception": false,
     "start_time": "2022-03-07T02:12:54.053717",
     "status": "completed"
    },
    "tags": []
   },
   "outputs": [],
   "source": [
    "#hide\n",
    "### ICO koreliacija"
   ]
  },
  {
   "cell_type": "code",
   "execution_count": 4,
   "id": "likely-bahrain",
   "metadata": {
    "execution": {
     "iopub.execute_input": "2022-03-07T02:12:54.157246Z",
     "iopub.status.busy": "2022-03-07T02:12:54.156532Z",
     "iopub.status.idle": "2022-03-07T02:12:55.387789Z",
     "shell.execute_reply": "2022-03-07T02:12:55.388464Z"
    },
    "papermill": {
     "duration": 1.264347,
     "end_time": "2022-03-07T02:12:55.388661",
     "exception": false,
     "start_time": "2022-03-07T02:12:54.124314",
     "status": "completed"
    },
    "tags": []
   },
   "outputs": [],
   "source": [
    "#hide\n",
    "import matplotlib.pyplot as plt\n",
    "import numpy as np\n",
    "import pandas as pd\n",
    "import seaborn as sns\n",
    "import matplotlib.pyplot as plt \n",
    "import matplotlib.dates as mdates\n",
    "import matplotlib.pyplot as plt"
   ]
  },
  {
   "cell_type": "code",
   "execution_count": 5,
   "id": "superior-blanket",
   "metadata": {
    "execution": {
     "iopub.execute_input": "2022-03-07T02:12:55.423965Z",
     "iopub.status.busy": "2022-03-07T02:12:55.423284Z",
     "iopub.status.idle": "2022-03-07T02:13:08.553013Z",
     "shell.execute_reply": "2022-03-07T02:13:08.553584Z"
    },
    "papermill": {
     "duration": 13.149749,
     "end_time": "2022-03-07T02:13:08.553773",
     "exception": false,
     "start_time": "2022-03-07T02:12:55.404024",
     "status": "completed"
    },
    "tags": []
   },
   "outputs": [
    {
     "name": "stderr",
     "output_type": "stream",
     "text": [
      "/home/runner/work/corr-app/corr-app/_notebooks/scripts/read_data.py:187: SettingWithCopyWarning:\n",
      "\n",
      "\n",
      "A value is trying to be set on a copy of a slice from a DataFrame.\n",
      "Try using .loc[row_indexer,col_indexer] = value instead\n",
      "\n",
      "See the caveats in the documentation: https://pandas.pydata.org/pandas-docs/stable/user_guide/indexing.html#returning-a-view-versus-a-copy\n",
      "\n"
     ]
    },
    {
     "name": "stderr",
     "output_type": "stream",
     "text": [
      "/home/runner/work/corr-app/corr-app/_notebooks/scripts/read_data.py:215: SettingWithCopyWarning:\n",
      "\n",
      "\n",
      "A value is trying to be set on a copy of a slice from a DataFrame.\n",
      "Try using .loc[row_indexer,col_indexer] = value instead\n",
      "\n",
      "See the caveats in the documentation: https://pandas.pydata.org/pandas-docs/stable/user_guide/indexing.html#returning-a-view-versus-a-copy\n",
      "\n"
     ]
    }
   ],
   "source": [
    "#hide\n",
    "df_all = read_api()\n",
    "#df_all = df_all.drop(['SP500', 'XAU', 'ETH', 'BTC'], axis=1)\n",
    "\n"
   ]
  },
  {
   "cell_type": "code",
   "execution_count": 6,
   "id": "mature-alert",
   "metadata": {
    "execution": {
     "iopub.execute_input": "2022-03-07T02:13:08.593498Z",
     "iopub.status.busy": "2022-03-07T02:13:08.592799Z",
     "iopub.status.idle": "2022-03-07T02:13:08.628580Z",
     "shell.execute_reply": "2022-03-07T02:13:08.628014Z"
    },
    "papermill": {
     "duration": 0.05806,
     "end_time": "2022-03-07T02:13:08.628748",
     "exception": false,
     "start_time": "2022-03-07T02:13:08.570688",
     "status": "completed"
    },
    "tags": []
   },
   "outputs": [],
   "source": [
    "#hide_input\n",
    "sum_corr = df_all.corr().sum().sort_values(ascending=True).index.values\n",
    "#df_all[sum_corr].corr()"
   ]
  },
  {
   "cell_type": "markdown",
   "id": "complex-syndicate",
   "metadata": {
    "papermill": {
     "duration": 0.015592,
     "end_time": "2022-03-07T02:13:08.660021",
     "exception": false,
     "start_time": "2022-03-07T02:13:08.644429",
     "status": "completed"
    },
    "tags": []
   },
   "source": [
    "## Išplėstinė koreliacijų matrica. "
   ]
  },
  {
   "cell_type": "code",
   "execution_count": 7,
   "id": "atomic-omaha",
   "metadata": {
    "execution": {
     "iopub.execute_input": "2022-03-07T02:13:08.697531Z",
     "iopub.status.busy": "2022-03-07T02:13:08.696800Z",
     "iopub.status.idle": "2022-03-07T02:13:10.517683Z",
     "shell.execute_reply": "2022-03-07T02:13:10.518368Z"
    },
    "papermill": {
     "duration": 1.841841,
     "end_time": "2022-03-07T02:13:10.518580",
     "exception": false,
     "start_time": "2022-03-07T02:13:08.676739",
     "status": "completed"
    },
    "tags": []
   },
   "outputs": [
    {
     "data": {
      "image/png": "[encoded data removed]",
      "text/plain": [
       "<Figure size 1080x792 with 2 Axes>"
      ]
     },
     "metadata": {
      "needs_background": "light"
     },
     "output_type": "display_data"
    }
   ],
   "source": [
    "#hide_input\n",
    "plt.figure(figsize=(15, 11))\n",
    "sns.heatmap(df_all[sum_corr].corr(), annot=True, cmap=\"cubehelix\") \n",
    "sns.set(font_scale=1.25)\n",
    "plt.savefig('corr_matrix.png', format='eps')"
   ]
  },
  {
   "cell_type": "code",
   "execution_count": 8,
   "id": "arbitrary-sullivan",
   "metadata": {
    "execution": {
     "iopub.execute_input": "2022-03-07T02:13:10.563787Z",
     "iopub.status.busy": "2022-03-07T02:13:10.560448Z",
     "iopub.status.idle": "2022-03-07T02:13:10.594199Z",
     "shell.execute_reply": "2022-03-07T02:13:10.593470Z"
    },
    "papermill": {
     "duration": 0.05516,
     "end_time": "2022-03-07T02:13:10.594366",
     "exception": false,
     "start_time": "2022-03-07T02:13:10.539206",
     "status": "completed"
    },
    "tags": []
   },
   "outputs": [],
   "source": [
    "#hide\n",
    "#df_all_mrk = read_api()"
   ]
  },
  {
   "cell_type": "code",
   "execution_count": 9,
   "id": "delayed-adapter",
   "metadata": {
    "execution": {
     "iopub.execute_input": "2022-03-07T02:13:10.637596Z",
     "iopub.status.busy": "2022-03-07T02:13:10.636922Z",
     "iopub.status.idle": "2022-03-07T02:13:10.671251Z",
     "shell.execute_reply": "2022-03-07T02:13:10.670653Z"
    },
    "papermill": {
     "duration": 0.05625,
     "end_time": "2022-03-07T02:13:10.671401",
     "exception": false,
     "start_time": "2022-03-07T02:13:10.615151",
     "status": "completed"
    },
    "tags": []
   },
   "outputs": [],
   "source": [
    "#hide\n",
    "#Koreliacijų koeficientai"
   ]
  },
  {
   "cell_type": "code",
   "execution_count": 10,
   "id": "seeing-celebration",
   "metadata": {
    "execution": {
     "iopub.execute_input": "2022-03-07T02:13:10.713824Z",
     "iopub.status.busy": "2022-03-07T02:13:10.713141Z",
     "iopub.status.idle": "2022-03-07T02:13:10.746827Z",
     "shell.execute_reply": "2022-03-07T02:13:10.746058Z"
    },
    "papermill": {
     "duration": 0.056484,
     "end_time": "2022-03-07T02:13:10.747000",
     "exception": false,
     "start_time": "2022-03-07T02:13:10.690516",
     "status": "completed"
    },
    "tags": []
   },
   "outputs": [],
   "source": [
    "#hide_input\n",
    "#sum_corr = df_all_mrk.corr().sum().sort_values(ascending=True).index.values\n",
    "#df_all_mrk[sum_corr].corr()"
   ]
  },
  {
   "cell_type": "code",
   "execution_count": 11,
   "id": "other-painting",
   "metadata": {
    "execution": {
     "iopub.execute_input": "2022-03-07T02:13:10.789188Z",
     "iopub.status.busy": "2022-03-07T02:13:10.788504Z",
     "iopub.status.idle": "2022-03-07T02:13:10.823778Z",
     "shell.execute_reply": "2022-03-07T02:13:10.823163Z"
    },
    "papermill": {
     "duration": 0.056924,
     "end_time": "2022-03-07T02:13:10.823937",
     "exception": false,
     "start_time": "2022-03-07T02:13:10.767013",
     "status": "completed"
    },
    "tags": []
   },
   "outputs": [],
   "source": [
    "#hide\n",
    "#Koreliacijos matrica. "
   ]
  },
  {
   "cell_type": "code",
   "execution_count": 12,
   "id": "modular-magnitude",
   "metadata": {
    "execution": {
     "iopub.execute_input": "2022-03-07T02:13:10.864559Z",
     "iopub.status.busy": "2022-03-07T02:13:10.863855Z",
     "iopub.status.idle": "2022-03-07T02:13:10.900314Z",
     "shell.execute_reply": "2022-03-07T02:13:10.899677Z"
    },
    "papermill": {
     "duration": 0.059057,
     "end_time": "2022-03-07T02:13:10.900467",
     "exception": false,
     "start_time": "2022-03-07T02:13:10.841410",
     "status": "completed"
    },
    "tags": []
   },
   "outputs": [],
   "source": [
    "#hide_input\n",
    "#plt.figure(figsize=(15, 8))\n",
    "#sns.heatmap(df_all_mrk[sum_corr].corr(), annot=True, cmap=\"BrBG\");\n",
    "#plt.savefig('corr_matrix_all.eps', format='eps')"
   ]
  },
  {
   "cell_type": "code",
   "execution_count": null,
   "id": "original-senator",
   "metadata": {
    "papermill": {
     "duration": 0.018172,
     "end_time": "2022-03-07T02:13:10.936727",
     "exception": false,
     "start_time": "2022-03-07T02:13:10.918555",
     "status": "completed"
    },
    "tags": []
   },
   "outputs": [],
   "source": []
  },
  {
   "cell_type": "code",
   "execution_count": null,
   "id": "saving-secretariat",
   "metadata": {
    "papermill": {
     "duration": 0.017667,
     "end_time": "2022-03-07T02:13:10.972473",
     "exception": false,
     "start_time": "2022-03-07T02:13:10.954806",
     "status": "completed"
    },
    "tags": []
   },
   "outputs": [],
   "source": []
  }
 ],
 "metadata": {
  "kernelspec": {
   "display_name": "Python 3",
   "language": "python",
   "name": "python3"
  },
  "language_info": {
   "codemirror_mode": {
    "name": "ipython",
    "version": 3
   },
   "file_extension": ".py",
   "mimetype": "text/x-python",
   "name": "python",
   "nbconvert_exporter": "python",
   "pygments_lexer": "ipython3",
   "version": "3.6.15"
  },
  "papermill": {
   "default_parameters": {},
   "duration": 20.734804,
   "end_time": "2022-03-07T02:13:11.612204",
   "environment_variables": {},
   "exception": null,
   "input_path": "App-Correlation_charts.ipynb",
   "output_path": "App-Correlation_charts.ipynb",
   "parameters": {},
   "start_time": "2022-03-07T02:12:50.877400",
   "version": "2.2.2"
  }
 },
 "nbformat": 4,
 "nbformat_minor": 5
}