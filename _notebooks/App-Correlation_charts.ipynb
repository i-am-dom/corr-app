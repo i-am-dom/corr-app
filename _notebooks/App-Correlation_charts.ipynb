{
 "cells": [
  {
   "cell_type": "markdown",
   "id": "touched-facility",
   "metadata": {
    "papermill": {
     "duration": 0.014391,
     "end_time": "2022-05-24T03:01:46.735020",
     "exception": false,
     "start_time": "2022-05-24T03:01:46.720629",
     "status": "completed"
    },
    "tags": []
   },
   "source": [
    "# Koreliacijų matrica\n",
    "> Išplėstinė koreliacijų matrica. \n",
    "\n",
    "- toc: true \n",
    "- badges: true\n",
    "- comments: false\n",
    "- categories: [Dominykas Tautkus]\n",
    "- image: images/matrix.png"
   ]
  },
  {
   "cell_type": "code",
   "execution_count": null,
   "id": "premium-weekend",
   "metadata": {
    "papermill": {
     "duration": 0.011083,
     "end_time": "2022-05-24T03:01:46.758723",
     "exception": false,
     "start_time": "2022-05-24T03:01:46.747640",
     "status": "completed"
    },
    "tags": []
   },
   "outputs": [],
   "source": []
  },
  {
   "cell_type": "code",
   "execution_count": 1,
   "id": "vertical-rebate",
   "metadata": {
    "execution": {
     "iopub.execute_input": "2022-05-24T03:01:46.791336Z",
     "iopub.status.busy": "2022-05-24T03:01:46.790765Z",
     "iopub.status.idle": "2022-05-24T03:01:46.801155Z",
     "shell.execute_reply": "2022-05-24T03:01:46.801634Z"
    },
    "papermill": {
     "duration": 0.03193,
     "end_time": "2022-05-24T03:01:46.801774",
     "exception": false,
     "start_time": "2022-05-24T03:01:46.769844",
     "status": "completed"
    },
    "tags": []
   },
   "outputs": [],
   "source": [
    "#hide\n",
    "%load_ext autoreload\n",
    "%autoreload 2"
   ]
  },
  {
   "cell_type": "code",
   "execution_count": 2,
   "id": "overall-advancement",
   "metadata": {
    "execution": {
     "iopub.execute_input": "2022-05-24T03:01:46.827437Z",
     "iopub.status.busy": "2022-05-24T03:01:46.826888Z",
     "iopub.status.idle": "2022-05-24T03:01:47.947183Z",
     "shell.execute_reply": "2022-05-24T03:01:47.946183Z"
    },
    "papermill": {
     "duration": 1.134391,
     "end_time": "2022-05-24T03:01:47.947308",
     "exception": false,
     "start_time": "2022-05-24T03:01:46.812917",
     "status": "completed"
    },
    "tags": []
   },
   "outputs": [],
   "source": [
    "#hide\n",
    "from scripts.read_data import read_api\n",
    "from IPython.display import HTML\n",
    "import plotly.graph_objects as go\n"
   ]
  },
  {
   "cell_type": "code",
   "execution_count": 3,
   "id": "light-crazy",
   "metadata": {
    "execution": {
     "iopub.execute_input": "2022-05-24T03:01:47.976673Z",
     "iopub.status.busy": "2022-05-24T03:01:47.974400Z",
     "iopub.status.idle": "2022-05-24T03:01:47.996823Z",
     "shell.execute_reply": "2022-05-24T03:01:47.997256Z"
    },
    "papermill": {
     "duration": 0.038712,
     "end_time": "2022-05-24T03:01:47.997408",
     "exception": false,
     "start_time": "2022-05-24T03:01:47.958696",
     "status": "completed"
    },
    "tags": []
   },
   "outputs": [],
   "source": [
    "#hide\n",
    "### ICO koreliacija"
   ]
  },
  {
   "cell_type": "code",
   "execution_count": 4,
   "id": "likely-bahrain",
   "metadata": {
    "execution": {
     "iopub.execute_input": "2022-05-24T03:01:48.023444Z",
     "iopub.status.busy": "2022-05-24T03:01:48.022859Z",
     "iopub.status.idle": "2022-05-24T03:01:48.851729Z",
     "shell.execute_reply": "2022-05-24T03:01:48.851228Z"
    },
    "papermill": {
     "duration": 0.843414,
     "end_time": "2022-05-24T03:01:48.851850",
     "exception": false,
     "start_time": "2022-05-24T03:01:48.008436",
     "status": "completed"
    },
    "tags": []
   },
   "outputs": [],
   "source": [
    "#hide\n",
    "import matplotlib.pyplot as plt\n",
    "import numpy as np\n",
    "import pandas as pd\n",
    "import seaborn as sns\n",
    "import matplotlib.pyplot as plt \n",
    "import matplotlib.dates as mdates\n",
    "import matplotlib.pyplot as plt"
   ]
  },
  {
   "cell_type": "code",
   "execution_count": 5,
   "id": "superior-blanket",
   "metadata": {
    "execution": {
     "iopub.execute_input": "2022-05-24T03:01:48.878349Z",
     "iopub.status.busy": "2022-05-24T03:01:48.877758Z",
     "iopub.status.idle": "2022-05-24T03:02:02.521197Z",
     "shell.execute_reply": "2022-05-24T03:02:02.520411Z"
    },
    "papermill": {
     "duration": 13.658064,
     "end_time": "2022-05-24T03:02:02.521317",
     "exception": false,
     "start_time": "2022-05-24T03:01:48.863253",
     "status": "completed"
    },
    "tags": []
   },
   "outputs": [
    {
     "name": "stderr",
     "output_type": "stream",
     "text": [
      "/home/runner/work/corr-app/corr-app/_notebooks/scripts/read_data.py:187: SettingWithCopyWarning:\n",
      "\n",
      "\n",
      "A value is trying to be set on a copy of a slice from a DataFrame.\n",
      "Try using .loc[row_indexer,col_indexer] = value instead\n",
      "\n",
      "See the caveats in the documentation: https://pandas.pydata.org/pandas-docs/stable/user_guide/indexing.html#returning-a-view-versus-a-copy\n",
      "\n"
     ]
    },
    {
     "name": "stderr",
     "output_type": "stream",
     "text": [
      "/home/runner/work/corr-app/corr-app/_notebooks/scripts/read_data.py:215: SettingWithCopyWarning:\n",
      "\n",
      "\n",
      "A value is trying to be set on a copy of a slice from a DataFrame.\n",
      "Try using .loc[row_indexer,col_indexer] = value instead\n",
      "\n",
      "See the caveats in the documentation: https://pandas.pydata.org/pandas-docs/stable/user_guide/indexing.html#returning-a-view-versus-a-copy\n",
      "\n"
     ]
    }
   ],
   "source": [
    "#hide\n",
    "df_all = read_api()\n",
    "#df_all = df_all.drop(['SP500', 'XAU', 'ETH', 'BTC'], axis=1)\n",
    "\n"
   ]
  },
  {
   "cell_type": "code",
   "execution_count": 6,
   "id": "mature-alert",
   "metadata": {
    "execution": {
     "iopub.execute_input": "2022-05-24T03:02:02.554006Z",
     "iopub.status.busy": "2022-05-24T03:02:02.549413Z",
     "iopub.status.idle": "2022-05-24T03:02:02.578340Z",
     "shell.execute_reply": "2022-05-24T03:02:02.578781Z"
    },
    "papermill": {
     "duration": 0.045649,
     "end_time": "2022-05-24T03:02:02.578925",
     "exception": false,
     "start_time": "2022-05-24T03:02:02.533276",
     "status": "completed"
    },
    "tags": []
   },
   "outputs": [],
   "source": [
    "#hide_input\n",
    "sum_corr = df_all.corr().sum().sort_values(ascending=True).index.values\n",
    "#df_all[sum_corr].corr()"
   ]
  },
  {
   "cell_type": "markdown",
   "id": "complex-syndicate",
   "metadata": {
    "papermill": {
     "duration": 0.012405,
     "end_time": "2022-05-24T03:02:02.603002",
     "exception": false,
     "start_time": "2022-05-24T03:02:02.590597",
     "status": "completed"
    },
    "tags": []
   },
   "source": [
    "## Išplėstinė koreliacijų matrica. "
   ]
  },
  {
   "cell_type": "code",
   "execution_count": 7,
   "id": "atomic-omaha",
   "metadata": {
    "execution": {
     "iopub.execute_input": "2022-05-24T03:02:02.630374Z",
     "iopub.status.busy": "2022-05-24T03:02:02.629805Z",
     "iopub.status.idle": "2022-05-24T03:02:03.772172Z",
     "shell.execute_reply": "2022-05-24T03:02:03.771611Z"
    },
    "papermill": {
     "duration": 1.157679,
     "end_time": "2022-05-24T03:02:03.772278",
     "exception": false,
     "start_time": "2022-05-24T03:02:02.614599",
     "status": "completed"
    },
    "tags": []
   },
   "outputs": [
    {
     "data": {
      "image/png": "[encoded data removed]",
      "text/plain": [
       "<Figure size 1080x792 with 2 Axes>"
      ]
     },
     "metadata": {
      "needs_background": "light"
     },
     "output_type": "display_data"
    }
   ],
   "source": [
    "#hide_input\n",
    "plt.figure(figsize=(15, 11))\n",
    "sns.heatmap(df_all[sum_corr].corr(), annot=True, cmap=\"cubehelix\") \n",
    "sns.set(font_scale=1.25)\n",
    "plt.savefig('corr_matrix.png', format='eps')"
   ]
  },
  {
   "cell_type": "code",
   "execution_count": 8,
   "id": "arbitrary-sullivan",
   "metadata": {
    "execution": {
     "iopub.execute_input": "2022-05-24T03:02:03.806557Z",
     "iopub.status.busy": "2022-05-24T03:02:03.806001Z",
     "iopub.status.idle": "2022-05-24T03:02:03.828504Z",
     "shell.execute_reply": "2022-05-24T03:02:03.828921Z"
    },
    "papermill": {
     "duration": 0.042955,
     "end_time": "2022-05-24T03:02:03.829044",
     "exception": false,
     "start_time": "2022-05-24T03:02:03.786089",
     "status": "completed"
    },
    "tags": []
   },
   "outputs": [],
   "source": [
    "#hide\n",
    "#df_all_mrk = read_api()"
   ]
  },
  {
   "cell_type": "code",
   "execution_count": 9,
   "id": "delayed-adapter",
   "metadata": {
    "execution": {
     "iopub.execute_input": "2022-05-24T03:02:03.859046Z",
     "iopub.status.busy": "2022-05-24T03:02:03.858465Z",
     "iopub.status.idle": "2022-05-24T03:02:03.885314Z",
     "shell.execute_reply": "2022-05-24T03:02:03.884839Z"
    },
    "papermill": {
     "duration": 0.042897,
     "end_time": "2022-05-24T03:02:03.885440",
     "exception": false,
     "start_time": "2022-05-24T03:02:03.842543",
     "status": "completed"
    },
    "tags": []
   },
   "outputs": [],
   "source": [
    "#hide\n",
    "#Koreliacijų koeficientai"
   ]
  },
  {
   "cell_type": "code",
   "execution_count": 10,
   "id": "seeing-celebration",
   "metadata": {
    "execution": {
     "iopub.execute_input": "2022-05-24T03:02:03.916151Z",
     "iopub.status.busy": "2022-05-24T03:02:03.915584Z",
     "iopub.status.idle": "2022-05-24T03:02:03.941180Z",
     "shell.execute_reply": "2022-05-24T03:02:03.940741Z"
    },
    "papermill": {
     "duration": 0.042279,
     "end_time": "2022-05-24T03:02:03.941281",
     "exception": false,
     "start_time": "2022-05-24T03:02:03.899002",
     "status": "completed"
    },
    "tags": []
   },
   "outputs": [],
   "source": [
    "#hide_input\n",
    "#sum_corr = df_all_mrk.corr().sum().sort_values(ascending=True).index.values\n",
    "#df_all_mrk[sum_corr].corr()"
   ]
  },
  {
   "cell_type": "code",
   "execution_count": 11,
   "id": "other-painting",
   "metadata": {
    "execution": {
     "iopub.execute_input": "2022-05-24T03:02:03.973921Z",
     "iopub.status.busy": "2022-05-24T03:02:03.972138Z",
     "iopub.status.idle": "2022-05-24T03:02:03.997886Z",
     "shell.execute_reply": "2022-05-24T03:02:03.997302Z"
    },
    "papermill": {
     "duration": 0.043278,
     "end_time": "2022-05-24T03:02:03.997987",
     "exception": false,
     "start_time": "2022-05-24T03:02:03.954709",
     "status": "completed"
    },
    "tags": []
   },
   "outputs": [],
   "source": [
    "#hide\n",
    "#Koreliacijos matrica. "
   ]
  },
  {
   "cell_type": "code",
   "execution_count": 12,
   "id": "modular-magnitude",
   "metadata": {
    "execution": {
     "iopub.execute_input": "2022-05-24T03:02:04.028699Z",
     "iopub.status.busy": "2022-05-24T03:02:04.028143Z",
     "iopub.status.idle": "2022-05-24T03:02:04.053989Z",
     "shell.execute_reply": "2022-05-24T03:02:04.053523Z"
    },
    "papermill": {
     "duration": 0.042455,
     "end_time": "2022-05-24T03:02:04.054087",
     "exception": false,
     "start_time": "2022-05-24T03:02:04.011632",
     "status": "completed"
    },
    "tags": []
   },
   "outputs": [],
   "source": [
    "#hide_input\n",
    "#plt.figure(figsize=(15, 8))\n",
    "#sns.heatmap(df_all_mrk[sum_corr].corr(), annot=True, cmap=\"BrBG\");\n",
    "#plt.savefig('corr_matrix_all.eps', format='eps')"
   ]
  },
  {
   "cell_type": "code",
   "execution_count": null,
   "id": "original-senator",
   "metadata": {
    "papermill": {
     "duration": 0.01345,
     "end_time": "2022-05-24T03:02:04.081183",
     "exception": false,
     "start_time": "2022-05-24T03:02:04.067733",
     "status": "completed"
    },
    "tags": []
   },
   "outputs": [],
   "source": []
  },
  {
   "cell_type": "code",
   "execution_count": null,
   "id": "saving-secretariat",
   "metadata": {
    "papermill": {
     "duration": 0.013434,
     "end_time": "2022-05-24T03:02:04.108122",
     "exception": false,
     "start_time": "2022-05-24T03:02:04.094688",
     "status": "completed"
    },
    "tags": []
   },
   "outputs": [],
   "source": []
  }
 ],
 "metadata": {
  "kernelspec": {
   "display_name": "Python 3",
   "language": "python",
   "name": "python3"
  },
  "language_info": {
   "codemirror_mode": {
    "name": "ipython",
    "version": 3
   },
   "file_extension": ".py",
   "mimetype": "text/x-python",
   "name": "python",
   "nbconvert_exporter": "python",
   "pygments_lexer": "ipython3",
   "version": "3.6.15"
  },
  "papermill": {
   "default_parameters": {},
   "duration": 18.752884,
   "end_time": "2022-05-24T03:02:04.539248",
   "environment_variables": {},
   "exception": null,
   "input_path": "App-Correlation_charts.ipynb",
   "output_path": "App-Correlation_charts.ipynb",
   "parameters": {},
   "start_time": "2022-05-24T03:01:45.786364",
   "version": "2.2.2"
  }
 },
 "nbformat": 4,
 "nbformat_minor": 5
}