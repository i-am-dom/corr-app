{
 "cells": [
  {
   "cell_type": "markdown",
   "id": "touched-facility",
   "metadata": {
    "papermill": {
     "duration": 0.017443,
     "end_time": "2021-10-08T02:04:34.512162",
     "exception": false,
     "start_time": "2021-10-08T02:04:34.494719",
     "status": "completed"
    },
    "tags": []
   },
   "source": [
    "# Koreliacijų matrica\n",
    "> Išplėstinė koreliacijų matrica. \n",
    "\n",
    "- toc: true \n",
    "- badges: true\n",
    "- comments: false\n",
    "- categories: [Dominykas Tautkus]\n",
    "- image: images/matrix.png"
   ]
  },
  {
   "cell_type": "code",
   "execution_count": null,
   "id": "premium-weekend",
   "metadata": {
    "papermill": {
     "duration": 0.012595,
     "end_time": "2021-10-08T02:04:34.538116",
     "exception": false,
     "start_time": "2021-10-08T02:04:34.525521",
     "status": "completed"
    },
    "tags": []
   },
   "outputs": [],
   "source": []
  },
  {
   "cell_type": "code",
   "execution_count": 1,
   "id": "vertical-rebate",
   "metadata": {
    "execution": {
     "iopub.execute_input": "2021-10-08T02:04:34.574416Z",
     "iopub.status.busy": "2021-10-08T02:04:34.573792Z",
     "iopub.status.idle": "2021-10-08T02:04:34.585765Z",
     "shell.execute_reply": "2021-10-08T02:04:34.585236Z"
    },
    "papermill": {
     "duration": 0.03528,
     "end_time": "2021-10-08T02:04:34.585902",
     "exception": false,
     "start_time": "2021-10-08T02:04:34.550622",
     "status": "completed"
    },
    "tags": []
   },
   "outputs": [],
   "source": [
    "#hide\n",
    "%load_ext autoreload\n",
    "%autoreload 2"
   ]
  },
  {
   "cell_type": "code",
   "execution_count": 2,
   "id": "overall-advancement",
   "metadata": {
    "execution": {
     "iopub.execute_input": "2021-10-08T02:04:34.616457Z",
     "iopub.status.busy": "2021-10-08T02:04:34.615835Z",
     "iopub.status.idle": "2021-10-08T02:04:35.962774Z",
     "shell.execute_reply": "2021-10-08T02:04:35.963599Z"
    },
    "papermill": {
     "duration": 1.365491,
     "end_time": "2021-10-08T02:04:35.963759",
     "exception": false,
     "start_time": "2021-10-08T02:04:34.598268",
     "status": "completed"
    },
    "tags": []
   },
   "outputs": [],
   "source": [
    "#hide\n",
    "from scripts.read_data import read_api\n",
    "from IPython.display import HTML\n",
    "import plotly.graph_objects as go\n"
   ]
  },
  {
   "cell_type": "code",
   "execution_count": 3,
   "id": "light-crazy",
   "metadata": {
    "execution": {
     "iopub.execute_input": "2021-10-08T02:04:35.999352Z",
     "iopub.status.busy": "2021-10-08T02:04:35.995396Z",
     "iopub.status.idle": "2021-10-08T02:04:36.018858Z",
     "shell.execute_reply": "2021-10-08T02:04:36.019409Z"
    },
    "papermill": {
     "duration": 0.043026,
     "end_time": "2021-10-08T02:04:36.019574",
     "exception": false,
     "start_time": "2021-10-08T02:04:35.976548",
     "status": "completed"
    },
    "tags": []
   },
   "outputs": [],
   "source": [
    "#hide\n",
    "### ICO koreliacija"
   ]
  },
  {
   "cell_type": "code",
   "execution_count": 4,
   "id": "likely-bahrain",
   "metadata": {
    "execution": {
     "iopub.execute_input": "2021-10-08T02:04:36.053589Z",
     "iopub.status.busy": "2021-10-08T02:04:36.052887Z",
     "iopub.status.idle": "2021-10-08T02:04:36.973056Z",
     "shell.execute_reply": "2021-10-08T02:04:36.972533Z"
    },
    "papermill": {
     "duration": 0.939769,
     "end_time": "2021-10-08T02:04:36.973195",
     "exception": false,
     "start_time": "2021-10-08T02:04:36.033426",
     "status": "completed"
    },
    "tags": []
   },
   "outputs": [],
   "source": [
    "#hide\n",
    "import matplotlib.pyplot as plt\n",
    "import numpy as np\n",
    "import pandas as pd\n",
    "import seaborn as sns\n",
    "import matplotlib.pyplot as plt \n",
    "import matplotlib.dates as mdates\n",
    "import matplotlib.pyplot as plt"
   ]
  },
  {
   "cell_type": "code",
   "execution_count": 5,
   "id": "superior-blanket",
   "metadata": {
    "execution": {
     "iopub.execute_input": "2021-10-08T02:04:37.004450Z",
     "iopub.status.busy": "2021-10-08T02:04:37.003712Z",
     "iopub.status.idle": "2021-10-08T02:04:47.638589Z",
     "shell.execute_reply": "2021-10-08T02:04:47.637976Z"
    },
    "papermill": {
     "duration": 10.652884,
     "end_time": "2021-10-08T02:04:47.638744",
     "exception": false,
     "start_time": "2021-10-08T02:04:36.985860",
     "status": "completed"
    },
    "tags": []
   },
   "outputs": [
    {
     "name": "stderr",
     "output_type": "stream",
     "text": [
      "/home/runner/work/corr-app/corr-app/_notebooks/scripts/read_data.py:187: SettingWithCopyWarning:\n",
      "\n",
      "\n",
      "A value is trying to be set on a copy of a slice from a DataFrame.\n",
      "Try using .loc[row_indexer,col_indexer] = value instead\n",
      "\n",
      "See the caveats in the documentation: https://pandas.pydata.org/pandas-docs/stable/user_guide/indexing.html#returning-a-view-versus-a-copy\n",
      "\n"
     ]
    },
    {
     "name": "stderr",
     "output_type": "stream",
     "text": [
      "/home/runner/work/corr-app/corr-app/_notebooks/scripts/read_data.py:215: SettingWithCopyWarning:\n",
      "\n",
      "\n",
      "A value is trying to be set on a copy of a slice from a DataFrame.\n",
      "Try using .loc[row_indexer,col_indexer] = value instead\n",
      "\n",
      "See the caveats in the documentation: https://pandas.pydata.org/pandas-docs/stable/user_guide/indexing.html#returning-a-view-versus-a-copy\n",
      "\n"
     ]
    }
   ],
   "source": [
    "#hide\n",
    "df_all = read_api()\n",
    "#df_all = df_all.drop(['SP500', 'XAU', 'ETH', 'BTC'], axis=1)\n",
    "\n"
   ]
  },
  {
   "cell_type": "code",
   "execution_count": 6,
   "id": "mature-alert",
   "metadata": {
    "execution": {
     "iopub.execute_input": "2021-10-08T02:04:47.675233Z",
     "iopub.status.busy": "2021-10-08T02:04:47.671752Z",
     "iopub.status.idle": "2021-10-08T02:04:47.705109Z",
     "shell.execute_reply": "2021-10-08T02:04:47.705577Z"
    },
    "papermill": {
     "duration": 0.052702,
     "end_time": "2021-10-08T02:04:47.705712",
     "exception": false,
     "start_time": "2021-10-08T02:04:47.653010",
     "status": "completed"
    },
    "tags": []
   },
   "outputs": [],
   "source": [
    "#hide_input\n",
    "sum_corr = df_all.corr().sum().sort_values(ascending=True).index.values\n",
    "#df_all[sum_corr].corr()"
   ]
  },
  {
   "cell_type": "markdown",
   "id": "complex-syndicate",
   "metadata": {
    "papermill": {
     "duration": 0.013104,
     "end_time": "2021-10-08T02:04:47.731619",
     "exception": false,
     "start_time": "2021-10-08T02:04:47.718515",
     "status": "completed"
    },
    "tags": []
   },
   "source": [
    "## Išplėstinė koreliacijų matrica. "
   ]
  },
  {
   "cell_type": "code",
   "execution_count": 7,
   "id": "atomic-omaha",
   "metadata": {
    "execution": {
     "iopub.execute_input": "2021-10-08T02:04:47.761872Z",
     "iopub.status.busy": "2021-10-08T02:04:47.761147Z",
     "iopub.status.idle": "2021-10-08T02:04:49.197533Z",
     "shell.execute_reply": "2021-10-08T02:04:49.197040Z"
    },
    "papermill": {
     "duration": 1.453121,
     "end_time": "2021-10-08T02:04:49.197664",
     "exception": false,
     "start_time": "2021-10-08T02:04:47.744543",
     "status": "completed"
    },
    "tags": []
   },
   "outputs": [
    {
     "data": {
      "image/png": "[encoded data removed]",
      "text/plain": [
       "<Figure size 1080x792 with 2 Axes>"
      ]
     },
     "metadata": {
      "needs_background": "light"
     },
     "output_type": "display_data"
    }
   ],
   "source": [
    "#hide_input\n",
    "plt.figure(figsize=(15, 11))\n",
    "sns.heatmap(df_all[sum_corr].corr(), annot=True, cmap=\"cubehelix\") \n",
    "sns.set(font_scale=1.25)\n",
    "plt.savefig('corr_matrix.png', format='eps')"
   ]
  },
  {
   "cell_type": "code",
   "execution_count": 8,
   "id": "arbitrary-sullivan",
   "metadata": {
    "execution": {
     "iopub.execute_input": "2021-10-08T02:04:49.232940Z",
     "iopub.status.busy": "2021-10-08T02:04:49.232357Z",
     "iopub.status.idle": "2021-10-08T02:04:49.258709Z",
     "shell.execute_reply": "2021-10-08T02:04:49.259151Z"
    },
    "papermill": {
     "duration": 0.046766,
     "end_time": "2021-10-08T02:04:49.259280",
     "exception": false,
     "start_time": "2021-10-08T02:04:49.212514",
     "status": "completed"
    },
    "tags": []
   },
   "outputs": [],
   "source": [
    "#hide\n",
    "#df_all_mrk = read_api()"
   ]
  },
  {
   "cell_type": "code",
   "execution_count": 9,
   "id": "delayed-adapter",
   "metadata": {
    "execution": {
     "iopub.execute_input": "2021-10-08T02:04:49.291986Z",
     "iopub.status.busy": "2021-10-08T02:04:49.291109Z",
     "iopub.status.idle": "2021-10-08T02:04:49.316203Z",
     "shell.execute_reply": "2021-10-08T02:04:49.315633Z"
    },
    "papermill": {
     "duration": 0.042477,
     "end_time": "2021-10-08T02:04:49.316319",
     "exception": false,
     "start_time": "2021-10-08T02:04:49.273842",
     "status": "completed"
    },
    "tags": []
   },
   "outputs": [],
   "source": [
    "#hide\n",
    "#Koreliacijų koeficientai"
   ]
  },
  {
   "cell_type": "code",
   "execution_count": 10,
   "id": "seeing-celebration",
   "metadata": {
    "execution": {
     "iopub.execute_input": "2021-10-08T02:04:49.353843Z",
     "iopub.status.busy": "2021-10-08T02:04:49.353191Z",
     "iopub.status.idle": "2021-10-08T02:04:49.377039Z",
     "shell.execute_reply": "2021-10-08T02:04:49.377481Z"
    },
    "papermill": {
     "duration": 0.046052,
     "end_time": "2021-10-08T02:04:49.377607",
     "exception": false,
     "start_time": "2021-10-08T02:04:49.331555",
     "status": "completed"
    },
    "tags": []
   },
   "outputs": [],
   "source": [
    "#hide_input\n",
    "#sum_corr = df_all_mrk.corr().sum().sort_values(ascending=True).index.values\n",
    "#df_all_mrk[sum_corr].corr()"
   ]
  },
  {
   "cell_type": "code",
   "execution_count": 11,
   "id": "other-painting",
   "metadata": {
    "execution": {
     "iopub.execute_input": "2021-10-08T02:04:49.413416Z",
     "iopub.status.busy": "2021-10-08T02:04:49.412671Z",
     "iopub.status.idle": "2021-10-08T02:04:49.434444Z",
     "shell.execute_reply": "2021-10-08T02:04:49.434971Z"
    },
    "papermill": {
     "duration": 0.043059,
     "end_time": "2021-10-08T02:04:49.435108",
     "exception": false,
     "start_time": "2021-10-08T02:04:49.392049",
     "status": "completed"
    },
    "tags": []
   },
   "outputs": [],
   "source": [
    "#hide\n",
    "#Koreliacijos matrica. "
   ]
  },
  {
   "cell_type": "code",
   "execution_count": 12,
   "id": "modular-magnitude",
   "metadata": {
    "execution": {
     "iopub.execute_input": "2021-10-08T02:04:49.470671Z",
     "iopub.status.busy": "2021-10-08T02:04:49.470098Z",
     "iopub.status.idle": "2021-10-08T02:04:49.493517Z",
     "shell.execute_reply": "2021-10-08T02:04:49.494222Z"
    },
    "papermill": {
     "duration": 0.044795,
     "end_time": "2021-10-08T02:04:49.494382",
     "exception": false,
     "start_time": "2021-10-08T02:04:49.449587",
     "status": "completed"
    },
    "tags": []
   },
   "outputs": [],
   "source": [
    "#hide_input\n",
    "#plt.figure(figsize=(15, 8))\n",
    "#sns.heatmap(df_all_mrk[sum_corr].corr(), annot=True, cmap=\"BrBG\");\n",
    "#plt.savefig('corr_matrix_all.eps', format='eps')"
   ]
  },
  {
   "cell_type": "code",
   "execution_count": null,
   "id": "original-senator",
   "metadata": {
    "papermill": {
     "duration": 0.015214,
     "end_time": "2021-10-08T02:04:49.524622",
     "exception": false,
     "start_time": "2021-10-08T02:04:49.509408",
     "status": "completed"
    },
    "tags": []
   },
   "outputs": [],
   "source": []
  },
  {
   "cell_type": "code",
   "execution_count": null,
   "id": "saving-secretariat",
   "metadata": {
    "papermill": {
     "duration": 0.014219,
     "end_time": "2021-10-08T02:04:49.553763",
     "exception": false,
     "start_time": "2021-10-08T02:04:49.539544",
     "status": "completed"
    },
    "tags": []
   },
   "outputs": [],
   "source": []
  }
 ],
 "metadata": {
  "kernelspec": {
   "display_name": "Python 3",
   "language": "python",
   "name": "python3"
  },
  "language_info": {
   "codemirror_mode": {
    "name": "ipython",
    "version": 3
   },
   "file_extension": ".py",
   "mimetype": "text/x-python",
   "name": "python",
   "nbconvert_exporter": "python",
   "pygments_lexer": "ipython3",
   "version": "3.6.15"
  },
  "papermill": {
   "default_parameters": {},
   "duration": 16.679304,
   "end_time": "2021-10-08T02:04:50.077158",
   "environment_variables": {},
   "exception": null,
   "input_path": "App-Correlation_charts.ipynb",
   "output_path": "App-Correlation_charts.ipynb",
   "parameters": {},
   "start_time": "2021-10-08T02:04:33.397854",
   "version": "2.2.2"
  }
 },
 "nbformat": 4,
 "nbformat_minor": 5
}