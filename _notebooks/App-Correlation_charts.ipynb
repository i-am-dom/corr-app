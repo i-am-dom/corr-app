{
 "cells": [
  {
   "cell_type": "markdown",
   "id": "touched-facility",
   "metadata": {
    "papermill": {
     "duration": 0.014714,
     "end_time": "2022-04-13T02:44:12.714320",
     "exception": false,
     "start_time": "2022-04-13T02:44:12.699606",
     "status": "completed"
    },
    "tags": []
   },
   "source": [
    "# Koreliacijų matrica\n",
    "> Išplėstinė koreliacijų matrica. \n",
    "\n",
    "- toc: true \n",
    "- badges: true\n",
    "- comments: false\n",
    "- categories: [Dominykas Tautkus]\n",
    "- image: images/matrix.png"
   ]
  },
  {
   "cell_type": "code",
   "execution_count": null,
   "id": "premium-weekend",
   "metadata": {
    "papermill": {
     "duration": 0.010801,
     "end_time": "2022-04-13T02:44:12.736524",
     "exception": false,
     "start_time": "2022-04-13T02:44:12.725723",
     "status": "completed"
    },
    "tags": []
   },
   "outputs": [],
   "source": []
  },
  {
   "cell_type": "code",
   "execution_count": 1,
   "id": "vertical-rebate",
   "metadata": {
    "execution": {
     "iopub.execute_input": "2022-04-13T02:44:12.768259Z",
     "iopub.status.busy": "2022-04-13T02:44:12.767730Z",
     "iopub.status.idle": "2022-04-13T02:44:12.778196Z",
     "shell.execute_reply": "2022-04-13T02:44:12.777767Z"
    },
    "papermill": {
     "duration": 0.031204,
     "end_time": "2022-04-13T02:44:12.778316",
     "exception": false,
     "start_time": "2022-04-13T02:44:12.747112",
     "status": "completed"
    },
    "tags": []
   },
   "outputs": [],
   "source": [
    "#hide\n",
    "%load_ext autoreload\n",
    "%autoreload 2"
   ]
  },
  {
   "cell_type": "code",
   "execution_count": 2,
   "id": "overall-advancement",
   "metadata": {
    "execution": {
     "iopub.execute_input": "2022-04-13T02:44:12.803271Z",
     "iopub.status.busy": "2022-04-13T02:44:12.802767Z",
     "iopub.status.idle": "2022-04-13T02:44:13.890603Z",
     "shell.execute_reply": "2022-04-13T02:44:13.890068Z"
    },
    "papermill": {
     "duration": 1.101668,
     "end_time": "2022-04-13T02:44:13.890739",
     "exception": false,
     "start_time": "2022-04-13T02:44:12.789071",
     "status": "completed"
    },
    "tags": []
   },
   "outputs": [],
   "source": [
    "#hide\n",
    "from scripts.read_data import read_api\n",
    "from IPython.display import HTML\n",
    "import plotly.graph_objects as go\n"
   ]
  },
  {
   "cell_type": "code",
   "execution_count": 3,
   "id": "light-crazy",
   "metadata": {
    "execution": {
     "iopub.execute_input": "2022-04-13T02:44:13.923887Z",
     "iopub.status.busy": "2022-04-13T02:44:13.922610Z",
     "iopub.status.idle": "2022-04-13T02:44:13.941833Z",
     "shell.execute_reply": "2022-04-13T02:44:13.942225Z"
    },
    "papermill": {
     "duration": 0.03982,
     "end_time": "2022-04-13T02:44:13.942357",
     "exception": false,
     "start_time": "2022-04-13T02:44:13.902537",
     "status": "completed"
    },
    "tags": []
   },
   "outputs": [],
   "source": [
    "#hide\n",
    "### ICO koreliacija"
   ]
  },
  {
   "cell_type": "code",
   "execution_count": 4,
   "id": "likely-bahrain",
   "metadata": {
    "execution": {
     "iopub.execute_input": "2022-04-13T02:44:13.978358Z",
     "iopub.status.busy": "2022-04-13T02:44:13.977576Z",
     "iopub.status.idle": "2022-04-13T02:44:14.799083Z",
     "shell.execute_reply": "2022-04-13T02:44:14.798130Z"
    },
    "papermill": {
     "duration": 0.846162,
     "end_time": "2022-04-13T02:44:14.799221",
     "exception": false,
     "start_time": "2022-04-13T02:44:13.953059",
     "status": "completed"
    },
    "tags": []
   },
   "outputs": [],
   "source": [
    "#hide\n",
    "import matplotlib.pyplot as plt\n",
    "import numpy as np\n",
    "import pandas as pd\n",
    "import seaborn as sns\n",
    "import matplotlib.pyplot as plt \n",
    "import matplotlib.dates as mdates\n",
    "import matplotlib.pyplot as plt"
   ]
  },
  {
   "cell_type": "code",
   "execution_count": 5,
   "id": "superior-blanket",
   "metadata": {
    "execution": {
     "iopub.execute_input": "2022-04-13T02:44:14.826599Z",
     "iopub.status.busy": "2022-04-13T02:44:14.824925Z",
     "iopub.status.idle": "2022-04-13T02:44:24.554812Z",
     "shell.execute_reply": "2022-04-13T02:44:24.555267Z"
    },
    "papermill": {
     "duration": 9.745198,
     "end_time": "2022-04-13T02:44:24.555405",
     "exception": false,
     "start_time": "2022-04-13T02:44:14.810207",
     "status": "completed"
    },
    "tags": []
   },
   "outputs": [
    {
     "name": "stderr",
     "output_type": "stream",
     "text": [
      "/home/runner/work/corr-app/corr-app/_notebooks/scripts/read_data.py:187: SettingWithCopyWarning:\n",
      "\n",
      "\n",
      "A value is trying to be set on a copy of a slice from a DataFrame.\n",
      "Try using .loc[row_indexer,col_indexer] = value instead\n",
      "\n",
      "See the caveats in the documentation: https://pandas.pydata.org/pandas-docs/stable/user_guide/indexing.html#returning-a-view-versus-a-copy\n",
      "\n"
     ]
    },
    {
     "name": "stderr",
     "output_type": "stream",
     "text": [
      "/home/runner/work/corr-app/corr-app/_notebooks/scripts/read_data.py:215: SettingWithCopyWarning:\n",
      "\n",
      "\n",
      "A value is trying to be set on a copy of a slice from a DataFrame.\n",
      "Try using .loc[row_indexer,col_indexer] = value instead\n",
      "\n",
      "See the caveats in the documentation: https://pandas.pydata.org/pandas-docs/stable/user_guide/indexing.html#returning-a-view-versus-a-copy\n",
      "\n"
     ]
    }
   ],
   "source": [
    "#hide\n",
    "df_all = read_api()\n",
    "#df_all = df_all.drop(['SP500', 'XAU', 'ETH', 'BTC'], axis=1)\n",
    "\n"
   ]
  },
  {
   "cell_type": "code",
   "execution_count": 6,
   "id": "mature-alert",
   "metadata": {
    "execution": {
     "iopub.execute_input": "2022-04-13T02:44:24.583932Z",
     "iopub.status.busy": "2022-04-13T02:44:24.583422Z",
     "iopub.status.idle": "2022-04-13T02:44:24.612202Z",
     "shell.execute_reply": "2022-04-13T02:44:24.611725Z"
    },
    "papermill": {
     "duration": 0.045187,
     "end_time": "2022-04-13T02:44:24.612327",
     "exception": false,
     "start_time": "2022-04-13T02:44:24.567140",
     "status": "completed"
    },
    "tags": []
   },
   "outputs": [],
   "source": [
    "#hide_input\n",
    "sum_corr = df_all.corr().sum().sort_values(ascending=True).index.values\n",
    "#df_all[sum_corr].corr()"
   ]
  },
  {
   "cell_type": "markdown",
   "id": "complex-syndicate",
   "metadata": {
    "papermill": {
     "duration": 0.011239,
     "end_time": "2022-04-13T02:44:24.635493",
     "exception": false,
     "start_time": "2022-04-13T02:44:24.624254",
     "status": "completed"
    },
    "tags": []
   },
   "source": [
    "## Išplėstinė koreliacijų matrica. "
   ]
  },
  {
   "cell_type": "code",
   "execution_count": 7,
   "id": "atomic-omaha",
   "metadata": {
    "execution": {
     "iopub.execute_input": "2022-04-13T02:44:24.664483Z",
     "iopub.status.busy": "2022-04-13T02:44:24.663953Z",
     "iopub.status.idle": "2022-04-13T02:44:25.843361Z",
     "shell.execute_reply": "2022-04-13T02:44:25.842931Z"
    },
    "papermill": {
     "duration": 1.196786,
     "end_time": "2022-04-13T02:44:25.843480",
     "exception": false,
     "start_time": "2022-04-13T02:44:24.646694",
     "status": "completed"
    },
    "tags": []
   },
   "outputs": [
    {
     "data": {
      "image/png": "[encoded data removed]",
      "text/plain": [
       "<Figure size 1080x792 with 2 Axes>"
      ]
     },
     "metadata": {
      "needs_background": "light"
     },
     "output_type": "display_data"
    }
   ],
   "source": [
    "#hide_input\n",
    "plt.figure(figsize=(15, 11))\n",
    "sns.heatmap(df_all[sum_corr].corr(), annot=True, cmap=\"cubehelix\") \n",
    "sns.set(font_scale=1.25)\n",
    "plt.savefig('corr_matrix.png', format='eps')"
   ]
  },
  {
   "cell_type": "code",
   "execution_count": 8,
   "id": "arbitrary-sullivan",
   "metadata": {
    "execution": {
     "iopub.execute_input": "2022-04-13T02:44:25.885245Z",
     "iopub.status.busy": "2022-04-13T02:44:25.879621Z",
     "iopub.status.idle": "2022-04-13T02:44:25.903416Z",
     "shell.execute_reply": "2022-04-13T02:44:25.903814Z"
    },
    "papermill": {
     "duration": 0.046864,
     "end_time": "2022-04-13T02:44:25.903948",
     "exception": false,
     "start_time": "2022-04-13T02:44:25.857084",
     "status": "completed"
    },
    "tags": []
   },
   "outputs": [],
   "source": [
    "#hide\n",
    "#df_all_mrk = read_api()"
   ]
  },
  {
   "cell_type": "code",
   "execution_count": 9,
   "id": "delayed-adapter",
   "metadata": {
    "execution": {
     "iopub.execute_input": "2022-04-13T02:44:25.945954Z",
     "iopub.status.busy": "2022-04-13T02:44:25.945154Z",
     "iopub.status.idle": "2022-04-13T02:44:25.963803Z",
     "shell.execute_reply": "2022-04-13T02:44:25.963367Z"
    },
    "papermill": {
     "duration": 0.046277,
     "end_time": "2022-04-13T02:44:25.963908",
     "exception": false,
     "start_time": "2022-04-13T02:44:25.917631",
     "status": "completed"
    },
    "tags": []
   },
   "outputs": [],
   "source": [
    "#hide\n",
    "#Koreliacijų koeficientai"
   ]
  },
  {
   "cell_type": "code",
   "execution_count": 10,
   "id": "seeing-celebration",
   "metadata": {
    "execution": {
     "iopub.execute_input": "2022-04-13T02:44:25.997526Z",
     "iopub.status.busy": "2022-04-13T02:44:25.997019Z",
     "iopub.status.idle": "2022-04-13T02:44:26.022336Z",
     "shell.execute_reply": "2022-04-13T02:44:26.021885Z"
    },
    "papermill": {
     "duration": 0.043628,
     "end_time": "2022-04-13T02:44:26.022448",
     "exception": false,
     "start_time": "2022-04-13T02:44:25.978820",
     "status": "completed"
    },
    "tags": []
   },
   "outputs": [],
   "source": [
    "#hide_input\n",
    "#sum_corr = df_all_mrk.corr().sum().sort_values(ascending=True).index.values\n",
    "#df_all_mrk[sum_corr].corr()"
   ]
  },
  {
   "cell_type": "code",
   "execution_count": 11,
   "id": "other-painting",
   "metadata": {
    "execution": {
     "iopub.execute_input": "2022-04-13T02:44:26.074210Z",
     "iopub.status.busy": "2022-04-13T02:44:26.073383Z",
     "iopub.status.idle": "2022-04-13T02:44:26.089289Z",
     "shell.execute_reply": "2022-04-13T02:44:26.088880Z"
    },
    "papermill": {
     "duration": 0.050057,
     "end_time": "2022-04-13T02:44:26.089400",
     "exception": false,
     "start_time": "2022-04-13T02:44:26.039343",
     "status": "completed"
    },
    "tags": []
   },
   "outputs": [],
   "source": [
    "#hide\n",
    "#Koreliacijos matrica. "
   ]
  },
  {
   "cell_type": "code",
   "execution_count": 12,
   "id": "modular-magnitude",
   "metadata": {
    "execution": {
     "iopub.execute_input": "2022-04-13T02:44:26.125289Z",
     "iopub.status.busy": "2022-04-13T02:44:26.124778Z",
     "iopub.status.idle": "2022-04-13T02:44:26.147506Z",
     "shell.execute_reply": "2022-04-13T02:44:26.147070Z"
    },
    "papermill": {
     "duration": 0.044848,
     "end_time": "2022-04-13T02:44:26.147612",
     "exception": false,
     "start_time": "2022-04-13T02:44:26.102764",
     "status": "completed"
    },
    "tags": []
   },
   "outputs": [],
   "source": [
    "#hide_input\n",
    "#plt.figure(figsize=(15, 8))\n",
    "#sns.heatmap(df_all_mrk[sum_corr].corr(), annot=True, cmap=\"BrBG\");\n",
    "#plt.savefig('corr_matrix_all.eps', format='eps')"
   ]
  },
  {
   "cell_type": "code",
   "execution_count": null,
   "id": "original-senator",
   "metadata": {
    "papermill": {
     "duration": 0.01311,
     "end_time": "2022-04-13T02:44:26.173873",
     "exception": false,
     "start_time": "2022-04-13T02:44:26.160763",
     "status": "completed"
    },
    "tags": []
   },
   "outputs": [],
   "source": []
  },
  {
   "cell_type": "code",
   "execution_count": null,
   "id": "saving-secretariat",
   "metadata": {
    "papermill": {
     "duration": 0.013191,
     "end_time": "2022-04-13T02:44:26.200213",
     "exception": false,
     "start_time": "2022-04-13T02:44:26.187022",
     "status": "completed"
    },
    "tags": []
   },
   "outputs": [],
   "source": []
  }
 ],
 "metadata": {
  "kernelspec": {
   "display_name": "Python 3",
   "language": "python",
   "name": "python3"
  },
  "language_info": {
   "codemirror_mode": {
    "name": "ipython",
    "version": 3
   },
   "file_extension": ".py",
   "mimetype": "text/x-python",
   "name": "python",
   "nbconvert_exporter": "python",
   "pygments_lexer": "ipython3",
   "version": "3.6.15"
  },
  "papermill": {
   "default_parameters": {},
   "duration": 14.963803,
   "end_time": "2022-04-13T02:44:26.731858",
   "environment_variables": {},
   "exception": null,
   "input_path": "App-Correlation_charts.ipynb",
   "output_path": "App-Correlation_charts.ipynb",
   "parameters": {},
   "start_time": "2022-04-13T02:44:11.768055",
   "version": "2.2.2"
  }
 },
 "nbformat": 4,
 "nbformat_minor": 5
}