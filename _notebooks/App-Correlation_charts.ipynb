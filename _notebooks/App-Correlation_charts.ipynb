{
 "cells": [
  {
   "cell_type": "markdown",
   "id": "touched-facility",
   "metadata": {
    "papermill": {
     "duration": 0.014316,
     "end_time": "2022-10-27T03:10:56.515499",
     "exception": false,
     "start_time": "2022-10-27T03:10:56.501183",
     "status": "completed"
    },
    "tags": []
   },
   "source": [
    "# Koreliacijų matrica\n",
    "> Išplėstinė koreliacijų matrica. \n",
    "\n",
    "- toc: true \n",
    "- badges: true\n",
    "- comments: false\n",
    "- categories: [Dominykas Tautkus]\n",
    "- image: images/matrix.png"
   ]
  },
  {
   "cell_type": "code",
   "execution_count": null,
   "id": "premium-weekend",
   "metadata": {
    "papermill": {
     "duration": 0.010847,
     "end_time": "2022-10-27T03:10:56.537893",
     "exception": false,
     "start_time": "2022-10-27T03:10:56.527046",
     "status": "completed"
    },
    "tags": []
   },
   "outputs": [],
   "source": []
  },
  {
   "cell_type": "code",
   "execution_count": 1,
   "id": "vertical-rebate",
   "metadata": {
    "execution": {
     "iopub.execute_input": "2022-10-27T03:10:56.569608Z",
     "iopub.status.busy": "2022-10-27T03:10:56.569048Z",
     "iopub.status.idle": "2022-10-27T03:10:56.579660Z",
     "shell.execute_reply": "2022-10-27T03:10:56.579174Z"
    },
    "papermill": {
     "duration": 0.030971,
     "end_time": "2022-10-27T03:10:56.579775",
     "exception": false,
     "start_time": "2022-10-27T03:10:56.548804",
     "status": "completed"
    },
    "tags": []
   },
   "outputs": [],
   "source": [
    "#hide\n",
    "%load_ext autoreload\n",
    "%autoreload 2"
   ]
  },
  {
   "cell_type": "code",
   "execution_count": 2,
   "id": "overall-advancement",
   "metadata": {
    "execution": {
     "iopub.execute_input": "2022-10-27T03:10:56.605821Z",
     "iopub.status.busy": "2022-10-27T03:10:56.605258Z",
     "iopub.status.idle": "2022-10-27T03:10:57.988982Z",
     "shell.execute_reply": "2022-10-27T03:10:57.988507Z"
    },
    "papermill": {
     "duration": 1.39843,
     "end_time": "2022-10-27T03:10:57.989097",
     "exception": false,
     "start_time": "2022-10-27T03:10:56.590667",
     "status": "completed"
    },
    "tags": []
   },
   "outputs": [],
   "source": [
    "#hide\n",
    "from scripts.read_data import read_api\n",
    "from IPython.display import HTML\n",
    "import plotly.graph_objects as go\n"
   ]
  },
  {
   "cell_type": "code",
   "execution_count": 3,
   "id": "light-crazy",
   "metadata": {
    "execution": {
     "iopub.execute_input": "2022-10-27T03:10:58.017547Z",
     "iopub.status.busy": "2022-10-27T03:10:58.015915Z",
     "iopub.status.idle": "2022-10-27T03:10:58.037071Z",
     "shell.execute_reply": "2022-10-27T03:10:58.036630Z"
    },
    "papermill": {
     "duration": 0.036979,
     "end_time": "2022-10-27T03:10:58.037178",
     "exception": false,
     "start_time": "2022-10-27T03:10:58.000199",
     "status": "completed"
    },
    "tags": []
   },
   "outputs": [],
   "source": [
    "#hide\n",
    "### ICO koreliacija"
   ]
  },
  {
   "cell_type": "code",
   "execution_count": 4,
   "id": "likely-bahrain",
   "metadata": {
    "execution": {
     "iopub.execute_input": "2022-10-27T03:10:58.062830Z",
     "iopub.status.busy": "2022-10-27T03:10:58.062271Z",
     "iopub.status.idle": "2022-10-27T03:10:58.895249Z",
     "shell.execute_reply": "2022-10-27T03:10:58.894752Z"
    },
    "papermill": {
     "duration": 0.847292,
     "end_time": "2022-10-27T03:10:58.895368",
     "exception": false,
     "start_time": "2022-10-27T03:10:58.048076",
     "status": "completed"
    },
    "tags": []
   },
   "outputs": [],
   "source": [
    "#hide\n",
    "import matplotlib.pyplot as plt\n",
    "import numpy as np\n",
    "import pandas as pd\n",
    "import seaborn as sns\n",
    "import matplotlib.pyplot as plt \n",
    "import matplotlib.dates as mdates\n",
    "import matplotlib.pyplot as plt"
   ]
  },
  {
   "cell_type": "code",
   "execution_count": 5,
   "id": "superior-blanket",
   "metadata": {
    "execution": {
     "iopub.execute_input": "2022-10-27T03:10:58.924253Z",
     "iopub.status.busy": "2022-10-27T03:10:58.922950Z",
     "iopub.status.idle": "2022-10-27T03:11:08.638023Z",
     "shell.execute_reply": "2022-10-27T03:11:08.637529Z"
    },
    "papermill": {
     "duration": 9.731505,
     "end_time": "2022-10-27T03:11:08.638131",
     "exception": false,
     "start_time": "2022-10-27T03:10:58.906626",
     "status": "completed"
    },
    "tags": []
   },
   "outputs": [
    {
     "name": "stderr",
     "output_type": "stream",
     "text": [
      "/home/runner/work/corr-app/corr-app/_notebooks/scripts/read_data.py:187: SettingWithCopyWarning:\n",
      "\n",
      "\n",
      "A value is trying to be set on a copy of a slice from a DataFrame.\n",
      "Try using .loc[row_indexer,col_indexer] = value instead\n",
      "\n",
      "See the caveats in the documentation: https://pandas.pydata.org/pandas-docs/stable/user_guide/indexing.html#returning-a-view-versus-a-copy\n",
      "\n"
     ]
    },
    {
     "name": "stderr",
     "output_type": "stream",
     "text": [
      "/home/runner/work/corr-app/corr-app/_notebooks/scripts/read_data.py:215: SettingWithCopyWarning:\n",
      "\n",
      "\n",
      "A value is trying to be set on a copy of a slice from a DataFrame.\n",
      "Try using .loc[row_indexer,col_indexer] = value instead\n",
      "\n",
      "See the caveats in the documentation: https://pandas.pydata.org/pandas-docs/stable/user_guide/indexing.html#returning-a-view-versus-a-copy\n",
      "\n"
     ]
    }
   ],
   "source": [
    "#hide\n",
    "df_all = read_api()\n",
    "#df_all = df_all.drop(['SP500', 'XAU', 'ETH', 'BTC'], axis=1)\n",
    "\n"
   ]
  },
  {
   "cell_type": "code",
   "execution_count": 6,
   "id": "mature-alert",
   "metadata": {
    "execution": {
     "iopub.execute_input": "2022-10-27T03:11:08.668744Z",
     "iopub.status.busy": "2022-10-27T03:11:08.667307Z",
     "iopub.status.idle": "2022-10-27T03:11:08.695586Z",
     "shell.execute_reply": "2022-10-27T03:11:08.695123Z"
    },
    "papermill": {
     "duration": 0.044822,
     "end_time": "2022-10-27T03:11:08.695705",
     "exception": false,
     "start_time": "2022-10-27T03:11:08.650883",
     "status": "completed"
    },
    "tags": []
   },
   "outputs": [],
   "source": [
    "#hide_input\n",
    "sum_corr = df_all.corr().sum().sort_values(ascending=True).index.values\n",
    "#df_all[sum_corr].corr()"
   ]
  },
  {
   "cell_type": "markdown",
   "id": "complex-syndicate",
   "metadata": {
    "papermill": {
     "duration": 0.011325,
     "end_time": "2022-10-27T03:11:08.718492",
     "exception": false,
     "start_time": "2022-10-27T03:11:08.707167",
     "status": "completed"
    },
    "tags": []
   },
   "source": [
    "## Išplėstinė koreliacijų matrica. "
   ]
  },
  {
   "cell_type": "code",
   "execution_count": 7,
   "id": "atomic-omaha",
   "metadata": {
    "execution": {
     "iopub.execute_input": "2022-10-27T03:11:08.745259Z",
     "iopub.status.busy": "2022-10-27T03:11:08.744706Z",
     "iopub.status.idle": "2022-10-27T03:11:09.848602Z",
     "shell.execute_reply": "2022-10-27T03:11:09.848123Z"
    },
    "papermill": {
     "duration": 1.118881,
     "end_time": "2022-10-27T03:11:09.848709",
     "exception": false,
     "start_time": "2022-10-27T03:11:08.729828",
     "status": "completed"
    },
    "tags": []
   },
   "outputs": [
    {
     "data": {
      "image/png": "[encoded data removed]",
      "text/plain": [
       "<Figure size 1080x792 with 2 Axes>"
      ]
     },
     "metadata": {
      "needs_background": "light"
     },
     "output_type": "display_data"
    }
   ],
   "source": [
    "#hide_input\n",
    "plt.figure(figsize=(15, 11))\n",
    "sns.heatmap(df_all[sum_corr].corr(), annot=True, cmap=\"cubehelix\") \n",
    "sns.set(font_scale=1.25)\n",
    "plt.savefig('corr_matrix.png', format='eps')"
   ]
  },
  {
   "cell_type": "code",
   "execution_count": 8,
   "id": "arbitrary-sullivan",
   "metadata": {
    "execution": {
     "iopub.execute_input": "2022-10-27T03:11:09.880203Z",
     "iopub.status.busy": "2022-10-27T03:11:09.879615Z",
     "iopub.status.idle": "2022-10-27T03:11:09.904694Z",
     "shell.execute_reply": "2022-10-27T03:11:09.904137Z"
    },
    "papermill": {
     "duration": 0.04158,
     "end_time": "2022-10-27T03:11:09.904797",
     "exception": false,
     "start_time": "2022-10-27T03:11:09.863217",
     "status": "completed"
    },
    "tags": []
   },
   "outputs": [],
   "source": [
    "#hide\n",
    "#df_all_mrk = read_api()"
   ]
  },
  {
   "cell_type": "code",
   "execution_count": 9,
   "id": "delayed-adapter",
   "metadata": {
    "execution": {
     "iopub.execute_input": "2022-10-27T03:11:09.935347Z",
     "iopub.status.busy": "2022-10-27T03:11:09.934789Z",
     "iopub.status.idle": "2022-10-27T03:11:09.959377Z",
     "shell.execute_reply": "2022-10-27T03:11:09.959807Z"
    },
    "papermill": {
     "duration": 0.041639,
     "end_time": "2022-10-27T03:11:09.959935",
     "exception": false,
     "start_time": "2022-10-27T03:11:09.918296",
     "status": "completed"
    },
    "tags": []
   },
   "outputs": [],
   "source": [
    "#hide\n",
    "#Koreliacijų koeficientai"
   ]
  },
  {
   "cell_type": "code",
   "execution_count": 10,
   "id": "seeing-celebration",
   "metadata": {
    "execution": {
     "iopub.execute_input": "2022-10-27T03:11:09.995943Z",
     "iopub.status.busy": "2022-10-27T03:11:09.992072Z",
     "iopub.status.idle": "2022-10-27T03:11:10.017164Z",
     "shell.execute_reply": "2022-10-27T03:11:10.017582Z"
    },
    "papermill": {
     "duration": 0.044176,
     "end_time": "2022-10-27T03:11:10.017711",
     "exception": false,
     "start_time": "2022-10-27T03:11:09.973535",
     "status": "completed"
    },
    "tags": []
   },
   "outputs": [],
   "source": [
    "#hide_input\n",
    "#sum_corr = df_all_mrk.corr().sum().sort_values(ascending=True).index.values\n",
    "#df_all_mrk[sum_corr].corr()"
   ]
  },
  {
   "cell_type": "code",
   "execution_count": 11,
   "id": "other-painting",
   "metadata": {
    "execution": {
     "iopub.execute_input": "2022-10-27T03:11:10.047715Z",
     "iopub.status.busy": "2022-10-27T03:11:10.047108Z",
     "iopub.status.idle": "2022-10-27T03:11:10.071608Z",
     "shell.execute_reply": "2022-10-27T03:11:10.072051Z"
    },
    "papermill": {
     "duration": 0.041015,
     "end_time": "2022-10-27T03:11:10.072178",
     "exception": false,
     "start_time": "2022-10-27T03:11:10.031163",
     "status": "completed"
    },
    "tags": []
   },
   "outputs": [],
   "source": [
    "#hide\n",
    "#Koreliacijos matrica. "
   ]
  },
  {
   "cell_type": "code",
   "execution_count": 12,
   "id": "modular-magnitude",
   "metadata": {
    "execution": {
     "iopub.execute_input": "2022-10-27T03:11:10.102540Z",
     "iopub.status.busy": "2022-10-27T03:11:10.101986Z",
     "iopub.status.idle": "2022-10-27T03:11:10.127006Z",
     "shell.execute_reply": "2022-10-27T03:11:10.126450Z"
    },
    "papermill": {
     "duration": 0.041258,
     "end_time": "2022-10-27T03:11:10.127109",
     "exception": false,
     "start_time": "2022-10-27T03:11:10.085851",
     "status": "completed"
    },
    "tags": []
   },
   "outputs": [],
   "source": [
    "#hide_input\n",
    "#plt.figure(figsize=(15, 8))\n",
    "#sns.heatmap(df_all_mrk[sum_corr].corr(), annot=True, cmap=\"BrBG\");\n",
    "#plt.savefig('corr_matrix_all.eps', format='eps')"
   ]
  },
  {
   "cell_type": "code",
   "execution_count": null,
   "id": "original-senator",
   "metadata": {
    "papermill": {
     "duration": 0.013344,
     "end_time": "2022-10-27T03:11:10.153889",
     "exception": false,
     "start_time": "2022-10-27T03:11:10.140545",
     "status": "completed"
    },
    "tags": []
   },
   "outputs": [],
   "source": []
  },
  {
   "cell_type": "code",
   "execution_count": null,
   "id": "saving-secretariat",
   "metadata": {
    "papermill": {
     "duration": 0.013226,
     "end_time": "2022-10-27T03:11:10.180480",
     "exception": false,
     "start_time": "2022-10-27T03:11:10.167254",
     "status": "completed"
    },
    "tags": []
   },
   "outputs": [],
   "source": []
  }
 ],
 "metadata": {
  "kernelspec": {
   "display_name": "Python 3",
   "language": "python",
   "name": "python3"
  },
  "language_info": {
   "codemirror_mode": {
    "name": "ipython",
    "version": 3
   },
   "file_extension": ".py",
   "mimetype": "text/x-python",
   "name": "python",
   "nbconvert_exporter": "python",
   "pygments_lexer": "ipython3",
   "version": "3.6.15"
  },
  "papermill": {
   "default_parameters": {},
   "duration": 15.019851,
   "end_time": "2022-10-27T03:11:10.611919",
   "environment_variables": {},
   "exception": null,
   "input_path": "App-Correlation_charts.ipynb",
   "output_path": "App-Correlation_charts.ipynb",
   "parameters": {},
   "start_time": "2022-10-27T03:10:55.592068",
   "version": "2.2.2"
  }
 },
 "nbformat": 4,
 "nbformat_minor": 5
}