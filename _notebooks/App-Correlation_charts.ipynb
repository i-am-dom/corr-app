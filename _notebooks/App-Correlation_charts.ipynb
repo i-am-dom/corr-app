{
 "cells": [
  {
   "cell_type": "markdown",
   "id": "touched-facility",
   "metadata": {
    "papermill": {
     "duration": 0.017391,
     "end_time": "2022-09-16T03:54:02.543099",
     "exception": false,
     "start_time": "2022-09-16T03:54:02.525708",
     "status": "completed"
    },
    "tags": []
   },
   "source": [
    "# Koreliacijų matrica\n",
    "> Išplėstinė koreliacijų matrica. \n",
    "\n",
    "- toc: true \n",
    "- badges: true\n",
    "- comments: false\n",
    "- categories: [Dominykas Tautkus]\n",
    "- image: images/matrix.png"
   ]
  },
  {
   "cell_type": "code",
   "execution_count": null,
   "id": "premium-weekend",
   "metadata": {
    "papermill": {
     "duration": 0.012846,
     "end_time": "2022-09-16T03:54:02.569596",
     "exception": false,
     "start_time": "2022-09-16T03:54:02.556750",
     "status": "completed"
    },
    "tags": []
   },
   "outputs": [],
   "source": []
  },
  {
   "cell_type": "code",
   "execution_count": 1,
   "id": "vertical-rebate",
   "metadata": {
    "execution": {
     "iopub.execute_input": "2022-09-16T03:54:02.612901Z",
     "iopub.status.busy": "2022-09-16T03:54:02.608658Z",
     "iopub.status.idle": "2022-09-16T03:54:02.622455Z",
     "shell.execute_reply": "2022-09-16T03:54:02.623051Z"
    },
    "papermill": {
     "duration": 0.040532,
     "end_time": "2022-09-16T03:54:02.623321",
     "exception": false,
     "start_time": "2022-09-16T03:54:02.582789",
     "status": "completed"
    },
    "tags": []
   },
   "outputs": [],
   "source": [
    "#hide\n",
    "%load_ext autoreload\n",
    "%autoreload 2"
   ]
  },
  {
   "cell_type": "code",
   "execution_count": 2,
   "id": "overall-advancement",
   "metadata": {
    "execution": {
     "iopub.execute_input": "2022-09-16T03:54:02.668787Z",
     "iopub.status.busy": "2022-09-16T03:54:02.659328Z",
     "iopub.status.idle": "2022-09-16T03:54:04.366604Z",
     "shell.execute_reply": "2022-09-16T03:54:04.367134Z"
    },
    "papermill": {
     "duration": 1.730067,
     "end_time": "2022-09-16T03:54:04.367339",
     "exception": false,
     "start_time": "2022-09-16T03:54:02.637272",
     "status": "completed"
    },
    "tags": []
   },
   "outputs": [],
   "source": [
    "#hide\n",
    "from scripts.read_data import read_api\n",
    "from IPython.display import HTML\n",
    "import plotly.graph_objects as go\n"
   ]
  },
  {
   "cell_type": "code",
   "execution_count": 3,
   "id": "light-crazy",
   "metadata": {
    "execution": {
     "iopub.execute_input": "2022-09-16T03:54:04.406512Z",
     "iopub.status.busy": "2022-09-16T03:54:04.404491Z",
     "iopub.status.idle": "2022-09-16T03:54:04.431969Z",
     "shell.execute_reply": "2022-09-16T03:54:04.432590Z"
    },
    "papermill": {
     "duration": 0.051239,
     "end_time": "2022-09-16T03:54:04.432778",
     "exception": false,
     "start_time": "2022-09-16T03:54:04.381539",
     "status": "completed"
    },
    "tags": []
   },
   "outputs": [],
   "source": [
    "#hide\n",
    "### ICO koreliacija"
   ]
  },
  {
   "cell_type": "code",
   "execution_count": 4,
   "id": "likely-bahrain",
   "metadata": {
    "execution": {
     "iopub.execute_input": "2022-09-16T03:54:04.476689Z",
     "iopub.status.busy": "2022-09-16T03:54:04.469428Z",
     "iopub.status.idle": "2022-09-16T03:54:05.537043Z",
     "shell.execute_reply": "2022-09-16T03:54:05.537627Z"
    },
    "papermill": {
     "duration": 1.090682,
     "end_time": "2022-09-16T03:54:05.537820",
     "exception": false,
     "start_time": "2022-09-16T03:54:04.447138",
     "status": "completed"
    },
    "tags": []
   },
   "outputs": [],
   "source": [
    "#hide\n",
    "import matplotlib.pyplot as plt\n",
    "import numpy as np\n",
    "import pandas as pd\n",
    "import seaborn as sns\n",
    "import matplotlib.pyplot as plt \n",
    "import matplotlib.dates as mdates\n",
    "import matplotlib.pyplot as plt"
   ]
  },
  {
   "cell_type": "code",
   "execution_count": 5,
   "id": "superior-blanket",
   "metadata": {
    "execution": {
     "iopub.execute_input": "2022-09-16T03:54:05.571731Z",
     "iopub.status.busy": "2022-09-16T03:54:05.570982Z",
     "iopub.status.idle": "2022-09-16T03:54:20.028472Z",
     "shell.execute_reply": "2022-09-16T03:54:20.029110Z"
    },
    "papermill": {
     "duration": 14.478021,
     "end_time": "2022-09-16T03:54:20.029294",
     "exception": false,
     "start_time": "2022-09-16T03:54:05.551273",
     "status": "completed"
    },
    "tags": []
   },
   "outputs": [
    {
     "name": "stderr",
     "output_type": "stream",
     "text": [
      "/home/runner/work/corr-app/corr-app/_notebooks/scripts/read_data.py:187: SettingWithCopyWarning:\n",
      "\n",
      "\n",
      "A value is trying to be set on a copy of a slice from a DataFrame.\n",
      "Try using .loc[row_indexer,col_indexer] = value instead\n",
      "\n",
      "See the caveats in the documentation: https://pandas.pydata.org/pandas-docs/stable/user_guide/indexing.html#returning-a-view-versus-a-copy\n",
      "\n"
     ]
    },
    {
     "name": "stderr",
     "output_type": "stream",
     "text": [
      "/home/runner/work/corr-app/corr-app/_notebooks/scripts/read_data.py:215: SettingWithCopyWarning:\n",
      "\n",
      "\n",
      "A value is trying to be set on a copy of a slice from a DataFrame.\n",
      "Try using .loc[row_indexer,col_indexer] = value instead\n",
      "\n",
      "See the caveats in the documentation: https://pandas.pydata.org/pandas-docs/stable/user_guide/indexing.html#returning-a-view-versus-a-copy\n",
      "\n"
     ]
    }
   ],
   "source": [
    "#hide\n",
    "df_all = read_api()\n",
    "#df_all = df_all.drop(['SP500', 'XAU', 'ETH', 'BTC'], axis=1)\n",
    "\n"
   ]
  },
  {
   "cell_type": "code",
   "execution_count": 6,
   "id": "mature-alert",
   "metadata": {
    "execution": {
     "iopub.execute_input": "2022-09-16T03:54:20.071124Z",
     "iopub.status.busy": "2022-09-16T03:54:20.070330Z",
     "iopub.status.idle": "2022-09-16T03:54:20.110418Z",
     "shell.execute_reply": "2022-09-16T03:54:20.111057Z"
    },
    "papermill": {
     "duration": 0.065284,
     "end_time": "2022-09-16T03:54:20.111289",
     "exception": false,
     "start_time": "2022-09-16T03:54:20.046005",
     "status": "completed"
    },
    "tags": []
   },
   "outputs": [],
   "source": [
    "#hide_input\n",
    "sum_corr = df_all.corr().sum().sort_values(ascending=True).index.values\n",
    "#df_all[sum_corr].corr()"
   ]
  },
  {
   "cell_type": "markdown",
   "id": "complex-syndicate",
   "metadata": {
    "papermill": {
     "duration": 0.014673,
     "end_time": "2022-09-16T03:54:20.140706",
     "exception": false,
     "start_time": "2022-09-16T03:54:20.126033",
     "status": "completed"
    },
    "tags": []
   },
   "source": [
    "## Išplėstinė koreliacijų matrica. "
   ]
  },
  {
   "cell_type": "code",
   "execution_count": 7,
   "id": "atomic-omaha",
   "metadata": {
    "execution": {
     "iopub.execute_input": "2022-09-16T03:54:20.176073Z",
     "iopub.status.busy": "2022-09-16T03:54:20.175320Z",
     "iopub.status.idle": "2022-09-16T03:54:21.932002Z",
     "shell.execute_reply": "2022-09-16T03:54:21.933224Z"
    },
    "papermill": {
     "duration": 1.777885,
     "end_time": "2022-09-16T03:54:21.933440",
     "exception": false,
     "start_time": "2022-09-16T03:54:20.155555",
     "status": "completed"
    },
    "tags": []
   },
   "outputs": [
    {
     "data": {
      "image/png": "[encoded data removed]",
      "text/plain": [
       "<Figure size 1080x792 with 2 Axes>"
      ]
     },
     "metadata": {
      "needs_background": "light"
     },
     "output_type": "display_data"
    }
   ],
   "source": [
    "#hide_input\n",
    "plt.figure(figsize=(15, 11))\n",
    "sns.heatmap(df_all[sum_corr].corr(), annot=True, cmap=\"cubehelix\") \n",
    "sns.set(font_scale=1.25)\n",
    "plt.savefig('corr_matrix.png', format='eps')"
   ]
  },
  {
   "cell_type": "code",
   "execution_count": 8,
   "id": "arbitrary-sullivan",
   "metadata": {
    "execution": {
     "iopub.execute_input": "2022-09-16T03:54:21.975557Z",
     "iopub.status.busy": "2022-09-16T03:54:21.974668Z",
     "iopub.status.idle": "2022-09-16T03:54:22.009118Z",
     "shell.execute_reply": "2022-09-16T03:54:22.008402Z"
    },
    "papermill": {
     "duration": 0.059043,
     "end_time": "2022-09-16T03:54:22.009270",
     "exception": false,
     "start_time": "2022-09-16T03:54:21.950227",
     "status": "completed"
    },
    "tags": []
   },
   "outputs": [],
   "source": [
    "#hide\n",
    "#df_all_mrk = read_api()"
   ]
  },
  {
   "cell_type": "code",
   "execution_count": 9,
   "id": "delayed-adapter",
   "metadata": {
    "execution": {
     "iopub.execute_input": "2022-09-16T03:54:22.049177Z",
     "iopub.status.busy": "2022-09-16T03:54:22.048246Z",
     "iopub.status.idle": "2022-09-16T03:54:22.084447Z",
     "shell.execute_reply": "2022-09-16T03:54:22.083681Z"
    },
    "papermill": {
     "duration": 0.057068,
     "end_time": "2022-09-16T03:54:22.084613",
     "exception": false,
     "start_time": "2022-09-16T03:54:22.027545",
     "status": "completed"
    },
    "tags": []
   },
   "outputs": [],
   "source": [
    "#hide\n",
    "#Koreliacijų koeficientai"
   ]
  },
  {
   "cell_type": "code",
   "execution_count": 10,
   "id": "seeing-celebration",
   "metadata": {
    "execution": {
     "iopub.execute_input": "2022-09-16T03:54:22.123878Z",
     "iopub.status.busy": "2022-09-16T03:54:22.123044Z",
     "iopub.status.idle": "2022-09-16T03:54:22.156440Z",
     "shell.execute_reply": "2022-09-16T03:54:22.155694Z"
    },
    "papermill": {
     "duration": 0.054722,
     "end_time": "2022-09-16T03:54:22.156608",
     "exception": false,
     "start_time": "2022-09-16T03:54:22.101886",
     "status": "completed"
    },
    "tags": []
   },
   "outputs": [],
   "source": [
    "#hide_input\n",
    "#sum_corr = df_all_mrk.corr().sum().sort_values(ascending=True).index.values\n",
    "#df_all_mrk[sum_corr].corr()"
   ]
  },
  {
   "cell_type": "code",
   "execution_count": 11,
   "id": "other-painting",
   "metadata": {
    "execution": {
     "iopub.execute_input": "2022-09-16T03:54:22.201090Z",
     "iopub.status.busy": "2022-09-16T03:54:22.200201Z",
     "iopub.status.idle": "2022-09-16T03:54:22.233595Z",
     "shell.execute_reply": "2022-09-16T03:54:22.232931Z"
    },
    "papermill": {
     "duration": 0.058946,
     "end_time": "2022-09-16T03:54:22.233754",
     "exception": false,
     "start_time": "2022-09-16T03:54:22.174808",
     "status": "completed"
    },
    "tags": []
   },
   "outputs": [],
   "source": [
    "#hide\n",
    "#Koreliacijos matrica. "
   ]
  },
  {
   "cell_type": "code",
   "execution_count": 12,
   "id": "modular-magnitude",
   "metadata": {
    "execution": {
     "iopub.execute_input": "2022-09-16T03:54:22.274829Z",
     "iopub.status.busy": "2022-09-16T03:54:22.274067Z",
     "iopub.status.idle": "2022-09-16T03:54:22.308827Z",
     "shell.execute_reply": "2022-09-16T03:54:22.308165Z"
    },
    "papermill": {
     "duration": 0.056941,
     "end_time": "2022-09-16T03:54:22.308988",
     "exception": false,
     "start_time": "2022-09-16T03:54:22.252047",
     "status": "completed"
    },
    "tags": []
   },
   "outputs": [],
   "source": [
    "#hide_input\n",
    "#plt.figure(figsize=(15, 8))\n",
    "#sns.heatmap(df_all_mrk[sum_corr].corr(), annot=True, cmap=\"BrBG\");\n",
    "#plt.savefig('corr_matrix_all.eps', format='eps')"
   ]
  },
  {
   "cell_type": "code",
   "execution_count": null,
   "id": "original-senator",
   "metadata": {
    "papermill": {
     "duration": 0.017834,
     "end_time": "2022-09-16T03:54:22.344172",
     "exception": false,
     "start_time": "2022-09-16T03:54:22.326338",
     "status": "completed"
    },
    "tags": []
   },
   "outputs": [],
   "source": []
  },
  {
   "cell_type": "code",
   "execution_count": null,
   "id": "saving-secretariat",
   "metadata": {
    "papermill": {
     "duration": 0.01783,
     "end_time": "2022-09-16T03:54:22.379595",
     "exception": false,
     "start_time": "2022-09-16T03:54:22.361765",
     "status": "completed"
    },
    "tags": []
   },
   "outputs": [],
   "source": []
  }
 ],
 "metadata": {
  "kernelspec": {
   "display_name": "Python 3",
   "language": "python",
   "name": "python3"
  },
  "language_info": {
   "codemirror_mode": {
    "name": "ipython",
    "version": 3
   },
   "file_extension": ".py",
   "mimetype": "text/x-python",
   "name": "python",
   "nbconvert_exporter": "python",
   "pygments_lexer": "ipython3",
   "version": "3.6.15"
  },
  "papermill": {
   "default_parameters": {},
   "duration": 21.830125,
   "end_time": "2022-09-16T03:54:23.019046",
   "environment_variables": {},
   "exception": null,
   "input_path": "App-Correlation_charts.ipynb",
   "output_path": "App-Correlation_charts.ipynb",
   "parameters": {},
   "start_time": "2022-09-16T03:54:01.188921",
   "version": "2.2.2"
  }
 },
 "nbformat": 4,
 "nbformat_minor": 5
}