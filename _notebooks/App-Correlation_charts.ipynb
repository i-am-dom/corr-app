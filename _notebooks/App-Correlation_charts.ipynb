{
 "cells": [
  {
   "cell_type": "markdown",
   "id": "touched-facility",
   "metadata": {
    "papermill": {
     "duration": 0.016665,
     "end_time": "2022-10-08T03:04:18.242814",
     "exception": false,
     "start_time": "2022-10-08T03:04:18.226149",
     "status": "completed"
    },
    "tags": []
   },
   "source": [
    "# Koreliacijų matrica\n",
    "> Išplėstinė koreliacijų matrica. \n",
    "\n",
    "- toc: true \n",
    "- badges: true\n",
    "- comments: false\n",
    "- categories: [Dominykas Tautkus]\n",
    "- image: images/matrix.png"
   ]
  },
  {
   "cell_type": "code",
   "execution_count": null,
   "id": "premium-weekend",
   "metadata": {
    "papermill": {
     "duration": 0.012646,
     "end_time": "2022-10-08T03:04:18.268760",
     "exception": false,
     "start_time": "2022-10-08T03:04:18.256114",
     "status": "completed"
    },
    "tags": []
   },
   "outputs": [],
   "source": []
  },
  {
   "cell_type": "code",
   "execution_count": 1,
   "id": "vertical-rebate",
   "metadata": {
    "execution": {
     "iopub.execute_input": "2022-10-08T03:04:18.307447Z",
     "iopub.status.busy": "2022-10-08T03:04:18.306787Z",
     "iopub.status.idle": "2022-10-08T03:04:18.318221Z",
     "shell.execute_reply": "2022-10-08T03:04:18.317669Z"
    },
    "papermill": {
     "duration": 0.037344,
     "end_time": "2022-10-08T03:04:18.318348",
     "exception": false,
     "start_time": "2022-10-08T03:04:18.281004",
     "status": "completed"
    },
    "tags": []
   },
   "outputs": [],
   "source": [
    "#hide\n",
    "%load_ext autoreload\n",
    "%autoreload 2"
   ]
  },
  {
   "cell_type": "code",
   "execution_count": 2,
   "id": "overall-advancement",
   "metadata": {
    "execution": {
     "iopub.execute_input": "2022-10-08T03:04:18.349865Z",
     "iopub.status.busy": "2022-10-08T03:04:18.349073Z",
     "iopub.status.idle": "2022-10-08T03:04:19.958515Z",
     "shell.execute_reply": "2022-10-08T03:04:19.957936Z"
    },
    "papermill": {
     "duration": 1.627056,
     "end_time": "2022-10-08T03:04:19.958673",
     "exception": false,
     "start_time": "2022-10-08T03:04:18.331617",
     "status": "completed"
    },
    "tags": []
   },
   "outputs": [],
   "source": [
    "#hide\n",
    "from scripts.read_data import read_api\n",
    "from IPython.display import HTML\n",
    "import plotly.graph_objects as go\n"
   ]
  },
  {
   "cell_type": "code",
   "execution_count": 3,
   "id": "light-crazy",
   "metadata": {
    "execution": {
     "iopub.execute_input": "2022-10-08T03:04:19.993914Z",
     "iopub.status.busy": "2022-10-08T03:04:19.993225Z",
     "iopub.status.idle": "2022-10-08T03:04:20.020076Z",
     "shell.execute_reply": "2022-10-08T03:04:20.019409Z"
    },
    "papermill": {
     "duration": 0.047033,
     "end_time": "2022-10-08T03:04:20.020216",
     "exception": false,
     "start_time": "2022-10-08T03:04:19.973183",
     "status": "completed"
    },
    "tags": []
   },
   "outputs": [],
   "source": [
    "#hide\n",
    "### ICO koreliacija"
   ]
  },
  {
   "cell_type": "code",
   "execution_count": 4,
   "id": "likely-bahrain",
   "metadata": {
    "execution": {
     "iopub.execute_input": "2022-10-08T03:04:20.052371Z",
     "iopub.status.busy": "2022-10-08T03:04:20.051692Z",
     "iopub.status.idle": "2022-10-08T03:04:21.109627Z",
     "shell.execute_reply": "2022-10-08T03:04:21.108895Z"
    },
    "papermill": {
     "duration": 1.076009,
     "end_time": "2022-10-08T03:04:21.109783",
     "exception": false,
     "start_time": "2022-10-08T03:04:20.033774",
     "status": "completed"
    },
    "tags": []
   },
   "outputs": [],
   "source": [
    "#hide\n",
    "import matplotlib.pyplot as plt\n",
    "import numpy as np\n",
    "import pandas as pd\n",
    "import seaborn as sns\n",
    "import matplotlib.pyplot as plt \n",
    "import matplotlib.dates as mdates\n",
    "import matplotlib.pyplot as plt"
   ]
  },
  {
   "cell_type": "code",
   "execution_count": 5,
   "id": "superior-blanket",
   "metadata": {
    "execution": {
     "iopub.execute_input": "2022-10-08T03:04:21.147414Z",
     "iopub.status.busy": "2022-10-08T03:04:21.144529Z",
     "iopub.status.idle": "2022-10-08T03:04:33.881052Z",
     "shell.execute_reply": "2022-10-08T03:04:33.880385Z"
    },
    "papermill": {
     "duration": 12.755827,
     "end_time": "2022-10-08T03:04:33.881201",
     "exception": false,
     "start_time": "2022-10-08T03:04:21.125374",
     "status": "completed"
    },
    "tags": []
   },
   "outputs": [
    {
     "name": "stderr",
     "output_type": "stream",
     "text": [
      "/home/runner/work/corr-app/corr-app/_notebooks/scripts/read_data.py:187: SettingWithCopyWarning:\n",
      "\n",
      "\n",
      "A value is trying to be set on a copy of a slice from a DataFrame.\n",
      "Try using .loc[row_indexer,col_indexer] = value instead\n",
      "\n",
      "See the caveats in the documentation: https://pandas.pydata.org/pandas-docs/stable/user_guide/indexing.html#returning-a-view-versus-a-copy\n",
      "\n"
     ]
    },
    {
     "name": "stderr",
     "output_type": "stream",
     "text": [
      "/home/runner/work/corr-app/corr-app/_notebooks/scripts/read_data.py:215: SettingWithCopyWarning:\n",
      "\n",
      "\n",
      "A value is trying to be set on a copy of a slice from a DataFrame.\n",
      "Try using .loc[row_indexer,col_indexer] = value instead\n",
      "\n",
      "See the caveats in the documentation: https://pandas.pydata.org/pandas-docs/stable/user_guide/indexing.html#returning-a-view-versus-a-copy\n",
      "\n"
     ]
    }
   ],
   "source": [
    "#hide\n",
    "df_all = read_api()\n",
    "#df_all = df_all.drop(['SP500', 'XAU', 'ETH', 'BTC'], axis=1)\n",
    "\n"
   ]
  },
  {
   "cell_type": "code",
   "execution_count": 6,
   "id": "mature-alert",
   "metadata": {
    "execution": {
     "iopub.execute_input": "2022-10-08T03:04:33.919121Z",
     "iopub.status.busy": "2022-10-08T03:04:33.918360Z",
     "iopub.status.idle": "2022-10-08T03:04:33.956099Z",
     "shell.execute_reply": "2022-10-08T03:04:33.955495Z"
    },
    "papermill": {
     "duration": 0.056395,
     "end_time": "2022-10-08T03:04:33.956243",
     "exception": false,
     "start_time": "2022-10-08T03:04:33.899848",
     "status": "completed"
    },
    "tags": []
   },
   "outputs": [],
   "source": [
    "#hide_input\n",
    "sum_corr = df_all.corr().sum().sort_values(ascending=True).index.values\n",
    "#df_all[sum_corr].corr()"
   ]
  },
  {
   "cell_type": "markdown",
   "id": "complex-syndicate",
   "metadata": {
    "papermill": {
     "duration": 0.014055,
     "end_time": "2022-10-08T03:04:33.984804",
     "exception": false,
     "start_time": "2022-10-08T03:04:33.970749",
     "status": "completed"
    },
    "tags": []
   },
   "source": [
    "## Išplėstinė koreliacijų matrica. "
   ]
  },
  {
   "cell_type": "code",
   "execution_count": 7,
   "id": "atomic-omaha",
   "metadata": {
    "execution": {
     "iopub.execute_input": "2022-10-08T03:04:34.018993Z",
     "iopub.status.busy": "2022-10-08T03:04:34.018247Z",
     "iopub.status.idle": "2022-10-08T03:04:35.677482Z",
     "shell.execute_reply": "2022-10-08T03:04:35.676787Z"
    },
    "papermill": {
     "duration": 1.678373,
     "end_time": "2022-10-08T03:04:35.677705",
     "exception": false,
     "start_time": "2022-10-08T03:04:33.999332",
     "status": "completed"
    },
    "tags": []
   },
   "outputs": [
    {
     "data": {
      "image/png": "[encoded data removed]",
      "text/plain": [
       "<Figure size 1080x792 with 2 Axes>"
      ]
     },
     "metadata": {
      "needs_background": "light"
     },
     "output_type": "display_data"
    }
   ],
   "source": [
    "#hide_input\n",
    "plt.figure(figsize=(15, 11))\n",
    "sns.heatmap(df_all[sum_corr].corr(), annot=True, cmap=\"cubehelix\") \n",
    "sns.set(font_scale=1.25)\n",
    "plt.savefig('corr_matrix.png', format='eps')"
   ]
  },
  {
   "cell_type": "code",
   "execution_count": 8,
   "id": "arbitrary-sullivan",
   "metadata": {
    "execution": {
     "iopub.execute_input": "2022-10-08T03:04:35.716804Z",
     "iopub.status.busy": "2022-10-08T03:04:35.716055Z",
     "iopub.status.idle": "2022-10-08T03:04:35.750034Z",
     "shell.execute_reply": "2022-10-08T03:04:35.749209Z"
    },
    "papermill": {
     "duration": 0.056239,
     "end_time": "2022-10-08T03:04:35.750173",
     "exception": false,
     "start_time": "2022-10-08T03:04:35.693934",
     "status": "completed"
    },
    "tags": []
   },
   "outputs": [],
   "source": [
    "#hide\n",
    "#df_all_mrk = read_api()"
   ]
  },
  {
   "cell_type": "code",
   "execution_count": 9,
   "id": "delayed-adapter",
   "metadata": {
    "execution": {
     "iopub.execute_input": "2022-10-08T03:04:35.791119Z",
     "iopub.status.busy": "2022-10-08T03:04:35.790344Z",
     "iopub.status.idle": "2022-10-08T03:04:35.825730Z",
     "shell.execute_reply": "2022-10-08T03:04:35.824968Z"
    },
    "papermill": {
     "duration": 0.058201,
     "end_time": "2022-10-08T03:04:35.825869",
     "exception": false,
     "start_time": "2022-10-08T03:04:35.767668",
     "status": "completed"
    },
    "tags": []
   },
   "outputs": [],
   "source": [
    "#hide\n",
    "#Koreliacijų koeficientai"
   ]
  },
  {
   "cell_type": "code",
   "execution_count": 10,
   "id": "seeing-celebration",
   "metadata": {
    "execution": {
     "iopub.execute_input": "2022-10-08T03:04:35.864374Z",
     "iopub.status.busy": "2022-10-08T03:04:35.863622Z",
     "iopub.status.idle": "2022-10-08T03:04:35.894619Z",
     "shell.execute_reply": "2022-10-08T03:04:35.894059Z"
    },
    "papermill": {
     "duration": 0.051228,
     "end_time": "2022-10-08T03:04:35.894744",
     "exception": false,
     "start_time": "2022-10-08T03:04:35.843516",
     "status": "completed"
    },
    "tags": []
   },
   "outputs": [],
   "source": [
    "#hide_input\n",
    "#sum_corr = df_all_mrk.corr().sum().sort_values(ascending=True).index.values\n",
    "#df_all_mrk[sum_corr].corr()"
   ]
  },
  {
   "cell_type": "code",
   "execution_count": 11,
   "id": "other-painting",
   "metadata": {
    "execution": {
     "iopub.execute_input": "2022-10-08T03:04:35.933613Z",
     "iopub.status.busy": "2022-10-08T03:04:35.932695Z",
     "iopub.status.idle": "2022-10-08T03:04:35.963536Z",
     "shell.execute_reply": "2022-10-08T03:04:35.962889Z"
    },
    "papermill": {
     "duration": 0.052012,
     "end_time": "2022-10-08T03:04:35.963728",
     "exception": false,
     "start_time": "2022-10-08T03:04:35.911716",
     "status": "completed"
    },
    "tags": []
   },
   "outputs": [],
   "source": [
    "#hide\n",
    "#Koreliacijos matrica. "
   ]
  },
  {
   "cell_type": "code",
   "execution_count": 12,
   "id": "modular-magnitude",
   "metadata": {
    "execution": {
     "iopub.execute_input": "2022-10-08T03:04:36.007034Z",
     "iopub.status.busy": "2022-10-08T03:04:36.006338Z",
     "iopub.status.idle": "2022-10-08T03:04:36.038166Z",
     "shell.execute_reply": "2022-10-08T03:04:36.037456Z"
    },
    "papermill": {
     "duration": 0.056509,
     "end_time": "2022-10-08T03:04:36.038320",
     "exception": false,
     "start_time": "2022-10-08T03:04:35.981811",
     "status": "completed"
    },
    "tags": []
   },
   "outputs": [],
   "source": [
    "#hide_input\n",
    "#plt.figure(figsize=(15, 8))\n",
    "#sns.heatmap(df_all_mrk[sum_corr].corr(), annot=True, cmap=\"BrBG\");\n",
    "#plt.savefig('corr_matrix_all.eps', format='eps')"
   ]
  },
  {
   "cell_type": "code",
   "execution_count": null,
   "id": "original-senator",
   "metadata": {
    "papermill": {
     "duration": 0.021117,
     "end_time": "2022-10-08T03:04:36.076150",
     "exception": false,
     "start_time": "2022-10-08T03:04:36.055033",
     "status": "completed"
    },
    "tags": []
   },
   "outputs": [],
   "source": []
  },
  {
   "cell_type": "code",
   "execution_count": null,
   "id": "saving-secretariat",
   "metadata": {
    "papermill": {
     "duration": 0.017191,
     "end_time": "2022-10-08T03:04:36.110719",
     "exception": false,
     "start_time": "2022-10-08T03:04:36.093528",
     "status": "completed"
    },
    "tags": []
   },
   "outputs": [],
   "source": []
  }
 ],
 "metadata": {
  "kernelspec": {
   "display_name": "Python 3",
   "language": "python",
   "name": "python3"
  },
  "language_info": {
   "codemirror_mode": {
    "name": "ipython",
    "version": 3
   },
   "file_extension": ".py",
   "mimetype": "text/x-python",
   "name": "python",
   "nbconvert_exporter": "python",
   "pygments_lexer": "ipython3",
   "version": "3.6.15"
  },
  "papermill": {
   "default_parameters": {},
   "duration": 19.582228,
   "end_time": "2022-10-08T03:04:36.647735",
   "environment_variables": {},
   "exception": null,
   "input_path": "App-Correlation_charts.ipynb",
   "output_path": "App-Correlation_charts.ipynb",
   "parameters": {},
   "start_time": "2022-10-08T03:04:17.065507",
   "version": "2.2.2"
  }
 },
 "nbformat": 4,
 "nbformat_minor": 5
}