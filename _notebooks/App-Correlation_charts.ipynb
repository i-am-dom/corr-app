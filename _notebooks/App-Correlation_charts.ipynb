{
 "cells": [
  {
   "cell_type": "markdown",
   "id": "touched-facility",
   "metadata": {
    "papermill": {
     "duration": 0.01524,
     "end_time": "2022-11-06T03:03:02.321639",
     "exception": false,
     "start_time": "2022-11-06T03:03:02.306399",
     "status": "completed"
    },
    "tags": []
   },
   "source": [
    "# Koreliacijų matrica\n",
    "> Išplėstinė koreliacijų matrica. \n",
    "\n",
    "- toc: true \n",
    "- badges: true\n",
    "- comments: false\n",
    "- categories: [Dominykas Tautkus]\n",
    "- image: images/matrix.png"
   ]
  },
  {
   "cell_type": "code",
   "execution_count": null,
   "id": "premium-weekend",
   "metadata": {
    "papermill": {
     "duration": 0.010314,
     "end_time": "2022-11-06T03:03:02.343057",
     "exception": false,
     "start_time": "2022-11-06T03:03:02.332743",
     "status": "completed"
    },
    "tags": []
   },
   "outputs": [],
   "source": []
  },
  {
   "cell_type": "code",
   "execution_count": 1,
   "id": "vertical-rebate",
   "metadata": {
    "execution": {
     "iopub.execute_input": "2022-11-06T03:03:02.374800Z",
     "iopub.status.busy": "2022-11-06T03:03:02.374173Z",
     "iopub.status.idle": "2022-11-06T03:03:02.385575Z",
     "shell.execute_reply": "2022-11-06T03:03:02.386034Z"
    },
    "papermill": {
     "duration": 0.032671,
     "end_time": "2022-11-06T03:03:02.386169",
     "exception": false,
     "start_time": "2022-11-06T03:03:02.353498",
     "status": "completed"
    },
    "tags": []
   },
   "outputs": [],
   "source": [
    "#hide\n",
    "%load_ext autoreload\n",
    "%autoreload 2"
   ]
  },
  {
   "cell_type": "code",
   "execution_count": 2,
   "id": "overall-advancement",
   "metadata": {
    "execution": {
     "iopub.execute_input": "2022-11-06T03:03:02.410059Z",
     "iopub.status.busy": "2022-11-06T03:03:02.409482Z",
     "iopub.status.idle": "2022-11-06T03:03:03.694765Z",
     "shell.execute_reply": "2022-11-06T03:03:03.695307Z"
    },
    "papermill": {
     "duration": 1.298896,
     "end_time": "2022-11-06T03:03:03.695475",
     "exception": false,
     "start_time": "2022-11-06T03:03:02.396579",
     "status": "completed"
    },
    "tags": []
   },
   "outputs": [],
   "source": [
    "#hide\n",
    "from scripts.read_data import read_api\n",
    "from IPython.display import HTML\n",
    "import plotly.graph_objects as go\n"
   ]
  },
  {
   "cell_type": "code",
   "execution_count": 3,
   "id": "light-crazy",
   "metadata": {
    "execution": {
     "iopub.execute_input": "2022-11-06T03:03:03.724751Z",
     "iopub.status.busy": "2022-11-06T03:03:03.721942Z",
     "iopub.status.idle": "2022-11-06T03:03:03.745754Z",
     "shell.execute_reply": "2022-11-06T03:03:03.744850Z"
    },
    "papermill": {
     "duration": 0.038986,
     "end_time": "2022-11-06T03:03:03.745883",
     "exception": false,
     "start_time": "2022-11-06T03:03:03.706897",
     "status": "completed"
    },
    "tags": []
   },
   "outputs": [],
   "source": [
    "#hide\n",
    "### ICO koreliacija"
   ]
  },
  {
   "cell_type": "code",
   "execution_count": 4,
   "id": "likely-bahrain",
   "metadata": {
    "execution": {
     "iopub.execute_input": "2022-11-06T03:03:03.771300Z",
     "iopub.status.busy": "2022-11-06T03:03:03.770714Z",
     "iopub.status.idle": "2022-11-06T03:03:04.695682Z",
     "shell.execute_reply": "2022-11-06T03:03:04.695167Z"
    },
    "papermill": {
     "duration": 0.938728,
     "end_time": "2022-11-06T03:03:04.695806",
     "exception": false,
     "start_time": "2022-11-06T03:03:03.757078",
     "status": "completed"
    },
    "tags": []
   },
   "outputs": [],
   "source": [
    "#hide\n",
    "import matplotlib.pyplot as plt\n",
    "import numpy as np\n",
    "import pandas as pd\n",
    "import seaborn as sns\n",
    "import matplotlib.pyplot as plt \n",
    "import matplotlib.dates as mdates\n",
    "import matplotlib.pyplot as plt"
   ]
  },
  {
   "cell_type": "code",
   "execution_count": 5,
   "id": "superior-blanket",
   "metadata": {
    "execution": {
     "iopub.execute_input": "2022-11-06T03:03:04.721249Z",
     "iopub.status.busy": "2022-11-06T03:03:04.720654Z",
     "iopub.status.idle": "2022-11-06T03:03:14.492938Z",
     "shell.execute_reply": "2022-11-06T03:03:14.492393Z"
    },
    "papermill": {
     "duration": 9.786497,
     "end_time": "2022-11-06T03:03:14.493059",
     "exception": false,
     "start_time": "2022-11-06T03:03:04.706562",
     "status": "completed"
    },
    "tags": []
   },
   "outputs": [
    {
     "name": "stderr",
     "output_type": "stream",
     "text": [
      "/home/runner/work/corr-app/corr-app/_notebooks/scripts/read_data.py:187: SettingWithCopyWarning:\n",
      "\n",
      "\n",
      "A value is trying to be set on a copy of a slice from a DataFrame.\n",
      "Try using .loc[row_indexer,col_indexer] = value instead\n",
      "\n",
      "See the caveats in the documentation: https://pandas.pydata.org/pandas-docs/stable/user_guide/indexing.html#returning-a-view-versus-a-copy\n",
      "\n"
     ]
    },
    {
     "name": "stderr",
     "output_type": "stream",
     "text": [
      "/home/runner/work/corr-app/corr-app/_notebooks/scripts/read_data.py:215: SettingWithCopyWarning:\n",
      "\n",
      "\n",
      "A value is trying to be set on a copy of a slice from a DataFrame.\n",
      "Try using .loc[row_indexer,col_indexer] = value instead\n",
      "\n",
      "See the caveats in the documentation: https://pandas.pydata.org/pandas-docs/stable/user_guide/indexing.html#returning-a-view-versus-a-copy\n",
      "\n"
     ]
    }
   ],
   "source": [
    "#hide\n",
    "df_all = read_api()\n",
    "#df_all = df_all.drop(['SP500', 'XAU', 'ETH', 'BTC'], axis=1)\n",
    "\n"
   ]
  },
  {
   "cell_type": "code",
   "execution_count": 6,
   "id": "mature-alert",
   "metadata": {
    "execution": {
     "iopub.execute_input": "2022-11-06T03:03:14.520537Z",
     "iopub.status.busy": "2022-11-06T03:03:14.519947Z",
     "iopub.status.idle": "2022-11-06T03:03:14.549210Z",
     "shell.execute_reply": "2022-11-06T03:03:14.548633Z"
    },
    "papermill": {
     "duration": 0.043749,
     "end_time": "2022-11-06T03:03:14.549316",
     "exception": false,
     "start_time": "2022-11-06T03:03:14.505567",
     "status": "completed"
    },
    "tags": []
   },
   "outputs": [],
   "source": [
    "#hide_input\n",
    "sum_corr = df_all.corr().sum().sort_values(ascending=True).index.values\n",
    "#df_all[sum_corr].corr()"
   ]
  },
  {
   "cell_type": "markdown",
   "id": "complex-syndicate",
   "metadata": {
    "papermill": {
     "duration": 0.01084,
     "end_time": "2022-11-06T03:03:14.571130",
     "exception": false,
     "start_time": "2022-11-06T03:03:14.560290",
     "status": "completed"
    },
    "tags": []
   },
   "source": [
    "## Išplėstinė koreliacijų matrica. "
   ]
  },
  {
   "cell_type": "code",
   "execution_count": 7,
   "id": "atomic-omaha",
   "metadata": {
    "execution": {
     "iopub.execute_input": "2022-11-06T03:03:14.597047Z",
     "iopub.status.busy": "2022-11-06T03:03:14.596462Z",
     "iopub.status.idle": "2022-11-06T03:03:15.796920Z",
     "shell.execute_reply": "2022-11-06T03:03:15.796355Z"
    },
    "papermill": {
     "duration": 1.21461,
     "end_time": "2022-11-06T03:03:15.797048",
     "exception": false,
     "start_time": "2022-11-06T03:03:14.582438",
     "status": "completed"
    },
    "tags": []
   },
   "outputs": [
    {
     "data": {
      "image/png": "[encoded data removed]",
      "text/plain": [
       "<Figure size 1080x792 with 2 Axes>"
      ]
     },
     "metadata": {
      "needs_background": "light"
     },
     "output_type": "display_data"
    }
   ],
   "source": [
    "#hide_input\n",
    "plt.figure(figsize=(15, 11))\n",
    "sns.heatmap(df_all[sum_corr].corr(), annot=True, cmap=\"cubehelix\") \n",
    "sns.set(font_scale=1.25)\n",
    "plt.savefig('corr_matrix.png', format='eps')"
   ]
  },
  {
   "cell_type": "code",
   "execution_count": 8,
   "id": "arbitrary-sullivan",
   "metadata": {
    "execution": {
     "iopub.execute_input": "2022-11-06T03:03:15.826881Z",
     "iopub.status.busy": "2022-11-06T03:03:15.826264Z",
     "iopub.status.idle": "2022-11-06T03:03:15.853492Z",
     "shell.execute_reply": "2022-11-06T03:03:15.852925Z"
    },
    "papermill": {
     "duration": 0.042963,
     "end_time": "2022-11-06T03:03:15.853615",
     "exception": false,
     "start_time": "2022-11-06T03:03:15.810652",
     "status": "completed"
    },
    "tags": []
   },
   "outputs": [],
   "source": [
    "#hide\n",
    "#df_all_mrk = read_api()"
   ]
  },
  {
   "cell_type": "code",
   "execution_count": 9,
   "id": "delayed-adapter",
   "metadata": {
    "execution": {
     "iopub.execute_input": "2022-11-06T03:03:15.883489Z",
     "iopub.status.busy": "2022-11-06T03:03:15.882904Z",
     "iopub.status.idle": "2022-11-06T03:03:15.910700Z",
     "shell.execute_reply": "2022-11-06T03:03:15.910116Z"
    },
    "papermill": {
     "duration": 0.043389,
     "end_time": "2022-11-06T03:03:15.910825",
     "exception": false,
     "start_time": "2022-11-06T03:03:15.867436",
     "status": "completed"
    },
    "tags": []
   },
   "outputs": [],
   "source": [
    "#hide\n",
    "#Koreliacijų koeficientai"
   ]
  },
  {
   "cell_type": "code",
   "execution_count": 10,
   "id": "seeing-celebration",
   "metadata": {
    "execution": {
     "iopub.execute_input": "2022-11-06T03:03:15.940643Z",
     "iopub.status.busy": "2022-11-06T03:03:15.940034Z",
     "iopub.status.idle": "2022-11-06T03:03:15.966771Z",
     "shell.execute_reply": "2022-11-06T03:03:15.966077Z"
    },
    "papermill": {
     "duration": 0.042824,
     "end_time": "2022-11-06T03:03:15.966896",
     "exception": false,
     "start_time": "2022-11-06T03:03:15.924072",
     "status": "completed"
    },
    "tags": []
   },
   "outputs": [],
   "source": [
    "#hide_input\n",
    "#sum_corr = df_all_mrk.corr().sum().sort_values(ascending=True).index.values\n",
    "#df_all_mrk[sum_corr].corr()"
   ]
  },
  {
   "cell_type": "code",
   "execution_count": 11,
   "id": "other-painting",
   "metadata": {
    "execution": {
     "iopub.execute_input": "2022-11-06T03:03:16.007403Z",
     "iopub.status.busy": "2022-11-06T03:03:16.001929Z",
     "iopub.status.idle": "2022-11-06T03:03:16.024769Z",
     "shell.execute_reply": "2022-11-06T03:03:16.024107Z"
    },
    "papermill": {
     "duration": 0.044529,
     "end_time": "2022-11-06T03:03:16.024889",
     "exception": false,
     "start_time": "2022-11-06T03:03:15.980360",
     "status": "completed"
    },
    "tags": []
   },
   "outputs": [],
   "source": [
    "#hide\n",
    "#Koreliacijos matrica. "
   ]
  },
  {
   "cell_type": "code",
   "execution_count": 12,
   "id": "modular-magnitude",
   "metadata": {
    "execution": {
     "iopub.execute_input": "2022-11-06T03:03:16.059532Z",
     "iopub.status.busy": "2022-11-06T03:03:16.058952Z",
     "iopub.status.idle": "2022-11-06T03:03:16.083190Z",
     "shell.execute_reply": "2022-11-06T03:03:16.082700Z"
    },
    "papermill": {
     "duration": 0.044435,
     "end_time": "2022-11-06T03:03:16.083297",
     "exception": false,
     "start_time": "2022-11-06T03:03:16.038862",
     "status": "completed"
    },
    "tags": []
   },
   "outputs": [],
   "source": [
    "#hide_input\n",
    "#plt.figure(figsize=(15, 8))\n",
    "#sns.heatmap(df_all_mrk[sum_corr].corr(), annot=True, cmap=\"BrBG\");\n",
    "#plt.savefig('corr_matrix_all.eps', format='eps')"
   ]
  },
  {
   "cell_type": "code",
   "execution_count": null,
   "id": "original-senator",
   "metadata": {
    "papermill": {
     "duration": 0.012837,
     "end_time": "2022-11-06T03:03:16.109517",
     "exception": false,
     "start_time": "2022-11-06T03:03:16.096680",
     "status": "completed"
    },
    "tags": []
   },
   "outputs": [],
   "source": []
  },
  {
   "cell_type": "code",
   "execution_count": null,
   "id": "saving-secretariat",
   "metadata": {
    "papermill": {
     "duration": 0.012849,
     "end_time": "2022-11-06T03:03:16.135197",
     "exception": false,
     "start_time": "2022-11-06T03:03:16.122348",
     "status": "completed"
    },
    "tags": []
   },
   "outputs": [],
   "source": []
  }
 ],
 "metadata": {
  "kernelspec": {
   "display_name": "Python 3",
   "language": "python",
   "name": "python3"
  },
  "language_info": {
   "codemirror_mode": {
    "name": "ipython",
    "version": 3
   },
   "file_extension": ".py",
   "mimetype": "text/x-python",
   "name": "python",
   "nbconvert_exporter": "python",
   "pygments_lexer": "ipython3",
   "version": "3.6.15"
  },
  "papermill": {
   "default_parameters": {},
   "duration": 15.275307,
   "end_time": "2022-11-06T03:03:16.666439",
   "environment_variables": {},
   "exception": null,
   "input_path": "App-Correlation_charts.ipynb",
   "output_path": "App-Correlation_charts.ipynb",
   "parameters": {},
   "start_time": "2022-11-06T03:03:01.391132",
   "version": "2.2.2"
  }
 },
 "nbformat": 4,
 "nbformat_minor": 5
}