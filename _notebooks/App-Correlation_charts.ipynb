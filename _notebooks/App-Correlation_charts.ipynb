{
 "cells": [
  {
   "cell_type": "markdown",
   "id": "touched-facility",
   "metadata": {
    "papermill": {
     "duration": 0.017598,
     "end_time": "2022-01-23T01:57:04.050818",
     "exception": false,
     "start_time": "2022-01-23T01:57:04.033220",
     "status": "completed"
    },
    "tags": []
   },
   "source": [
    "# Koreliacijų matrica\n",
    "> Išplėstinė koreliacijų matrica. \n",
    "\n",
    "- toc: true \n",
    "- badges: true\n",
    "- comments: false\n",
    "- categories: [Dominykas Tautkus]\n",
    "- image: images/matrix.png"
   ]
  },
  {
   "cell_type": "code",
   "execution_count": null,
   "id": "premium-weekend",
   "metadata": {
    "papermill": {
     "duration": 0.012403,
     "end_time": "2022-01-23T01:57:04.076861",
     "exception": false,
     "start_time": "2022-01-23T01:57:04.064458",
     "status": "completed"
    },
    "tags": []
   },
   "outputs": [],
   "source": []
  },
  {
   "cell_type": "code",
   "execution_count": 1,
   "id": "vertical-rebate",
   "metadata": {
    "execution": {
     "iopub.execute_input": "2022-01-23T01:57:04.115019Z",
     "iopub.status.busy": "2022-01-23T01:57:04.114350Z",
     "iopub.status.idle": "2022-01-23T01:57:04.126941Z",
     "shell.execute_reply": "2022-01-23T01:57:04.126345Z"
    },
    "papermill": {
     "duration": 0.037895,
     "end_time": "2022-01-23T01:57:04.127102",
     "exception": false,
     "start_time": "2022-01-23T01:57:04.089207",
     "status": "completed"
    },
    "tags": []
   },
   "outputs": [],
   "source": [
    "#hide\n",
    "%load_ext autoreload\n",
    "%autoreload 2"
   ]
  },
  {
   "cell_type": "code",
   "execution_count": 2,
   "id": "overall-advancement",
   "metadata": {
    "execution": {
     "iopub.execute_input": "2022-01-23T01:57:04.156613Z",
     "iopub.status.busy": "2022-01-23T01:57:04.155966Z",
     "iopub.status.idle": "2022-01-23T01:57:05.603364Z",
     "shell.execute_reply": "2022-01-23T01:57:05.602214Z"
    },
    "papermill": {
     "duration": 1.464062,
     "end_time": "2022-01-23T01:57:05.603533",
     "exception": false,
     "start_time": "2022-01-23T01:57:04.139471",
     "status": "completed"
    },
    "tags": []
   },
   "outputs": [],
   "source": [
    "#hide\n",
    "from scripts.read_data import read_api\n",
    "from IPython.display import HTML\n",
    "import plotly.graph_objects as go\n"
   ]
  },
  {
   "cell_type": "code",
   "execution_count": 3,
   "id": "light-crazy",
   "metadata": {
    "execution": {
     "iopub.execute_input": "2022-01-23T01:57:05.634310Z",
     "iopub.status.busy": "2022-01-23T01:57:05.633632Z",
     "iopub.status.idle": "2022-01-23T01:57:05.660408Z",
     "shell.execute_reply": "2022-01-23T01:57:05.659623Z"
    },
    "papermill": {
     "duration": 0.044732,
     "end_time": "2022-01-23T01:57:05.660593",
     "exception": false,
     "start_time": "2022-01-23T01:57:05.615861",
     "status": "completed"
    },
    "tags": []
   },
   "outputs": [],
   "source": [
    "#hide\n",
    "### ICO koreliacija"
   ]
  },
  {
   "cell_type": "code",
   "execution_count": 4,
   "id": "likely-bahrain",
   "metadata": {
    "execution": {
     "iopub.execute_input": "2022-01-23T01:57:05.694087Z",
     "iopub.status.busy": "2022-01-23T01:57:05.693480Z",
     "iopub.status.idle": "2022-01-23T01:57:06.715004Z",
     "shell.execute_reply": "2022-01-23T01:57:06.714427Z"
    },
    "papermill": {
     "duration": 1.041406,
     "end_time": "2022-01-23T01:57:06.715150",
     "exception": false,
     "start_time": "2022-01-23T01:57:05.673744",
     "status": "completed"
    },
    "tags": []
   },
   "outputs": [],
   "source": [
    "#hide\n",
    "import matplotlib.pyplot as plt\n",
    "import numpy as np\n",
    "import pandas as pd\n",
    "import seaborn as sns\n",
    "import matplotlib.pyplot as plt \n",
    "import matplotlib.dates as mdates\n",
    "import matplotlib.pyplot as plt"
   ]
  },
  {
   "cell_type": "code",
   "execution_count": 5,
   "id": "superior-blanket",
   "metadata": {
    "execution": {
     "iopub.execute_input": "2022-01-23T01:57:06.745938Z",
     "iopub.status.busy": "2022-01-23T01:57:06.745326Z",
     "iopub.status.idle": "2022-01-23T01:57:17.325409Z",
     "shell.execute_reply": "2022-01-23T01:57:17.324833Z"
    },
    "papermill": {
     "duration": 10.597129,
     "end_time": "2022-01-23T01:57:17.325543",
     "exception": false,
     "start_time": "2022-01-23T01:57:06.728414",
     "status": "completed"
    },
    "tags": []
   },
   "outputs": [
    {
     "name": "stderr",
     "output_type": "stream",
     "text": [
      "/home/runner/work/corr-app/corr-app/_notebooks/scripts/read_data.py:187: SettingWithCopyWarning:\n",
      "\n",
      "\n",
      "A value is trying to be set on a copy of a slice from a DataFrame.\n",
      "Try using .loc[row_indexer,col_indexer] = value instead\n",
      "\n",
      "See the caveats in the documentation: https://pandas.pydata.org/pandas-docs/stable/user_guide/indexing.html#returning-a-view-versus-a-copy\n",
      "\n"
     ]
    },
    {
     "name": "stderr",
     "output_type": "stream",
     "text": [
      "/home/runner/work/corr-app/corr-app/_notebooks/scripts/read_data.py:215: SettingWithCopyWarning:\n",
      "\n",
      "\n",
      "A value is trying to be set on a copy of a slice from a DataFrame.\n",
      "Try using .loc[row_indexer,col_indexer] = value instead\n",
      "\n",
      "See the caveats in the documentation: https://pandas.pydata.org/pandas-docs/stable/user_guide/indexing.html#returning-a-view-versus-a-copy\n",
      "\n"
     ]
    }
   ],
   "source": [
    "#hide\n",
    "df_all = read_api()\n",
    "#df_all = df_all.drop(['SP500', 'XAU', 'ETH', 'BTC'], axis=1)\n",
    "\n"
   ]
  },
  {
   "cell_type": "code",
   "execution_count": 6,
   "id": "mature-alert",
   "metadata": {
    "execution": {
     "iopub.execute_input": "2022-01-23T01:57:17.356045Z",
     "iopub.status.busy": "2022-01-23T01:57:17.355403Z",
     "iopub.status.idle": "2022-01-23T01:57:17.389581Z",
     "shell.execute_reply": "2022-01-23T01:57:17.389003Z"
    },
    "papermill": {
     "duration": 0.051017,
     "end_time": "2022-01-23T01:57:17.389732",
     "exception": false,
     "start_time": "2022-01-23T01:57:17.338715",
     "status": "completed"
    },
    "tags": []
   },
   "outputs": [],
   "source": [
    "#hide_input\n",
    "sum_corr = df_all.corr().sum().sort_values(ascending=True).index.values\n",
    "#df_all[sum_corr].corr()"
   ]
  },
  {
   "cell_type": "markdown",
   "id": "complex-syndicate",
   "metadata": {
    "papermill": {
     "duration": 0.012875,
     "end_time": "2022-01-23T01:57:17.416858",
     "exception": false,
     "start_time": "2022-01-23T01:57:17.403983",
     "status": "completed"
    },
    "tags": []
   },
   "source": [
    "## Išplėstinė koreliacijų matrica. "
   ]
  },
  {
   "cell_type": "code",
   "execution_count": 7,
   "id": "atomic-omaha",
   "metadata": {
    "execution": {
     "iopub.execute_input": "2022-01-23T01:57:17.447867Z",
     "iopub.status.busy": "2022-01-23T01:57:17.447192Z",
     "iopub.status.idle": "2022-01-23T01:57:18.900238Z",
     "shell.execute_reply": "2022-01-23T01:57:18.899698Z"
    },
    "papermill": {
     "duration": 1.4706,
     "end_time": "2022-01-23T01:57:18.900379",
     "exception": false,
     "start_time": "2022-01-23T01:57:17.429779",
     "status": "completed"
    },
    "tags": []
   },
   "outputs": [
    {
     "data": {
      "image/png": "[encoded data removed]",
      "text/plain": [
       "<Figure size 1080x792 with 2 Axes>"
      ]
     },
     "metadata": {
      "needs_background": "light"
     },
     "output_type": "display_data"
    }
   ],
   "source": [
    "#hide_input\n",
    "plt.figure(figsize=(15, 11))\n",
    "sns.heatmap(df_all[sum_corr].corr(), annot=True, cmap=\"cubehelix\") \n",
    "sns.set(font_scale=1.25)\n",
    "plt.savefig('corr_matrix.png', format='eps')"
   ]
  },
  {
   "cell_type": "code",
   "execution_count": 8,
   "id": "arbitrary-sullivan",
   "metadata": {
    "execution": {
     "iopub.execute_input": "2022-01-23T01:57:18.936978Z",
     "iopub.status.busy": "2022-01-23T01:57:18.936100Z",
     "iopub.status.idle": "2022-01-23T01:57:18.967132Z",
     "shell.execute_reply": "2022-01-23T01:57:18.966419Z"
    },
    "papermill": {
     "duration": 0.050782,
     "end_time": "2022-01-23T01:57:18.967319",
     "exception": false,
     "start_time": "2022-01-23T01:57:18.916537",
     "status": "completed"
    },
    "tags": []
   },
   "outputs": [],
   "source": [
    "#hide\n",
    "#df_all_mrk = read_api()"
   ]
  },
  {
   "cell_type": "code",
   "execution_count": 9,
   "id": "delayed-adapter",
   "metadata": {
    "execution": {
     "iopub.execute_input": "2022-01-23T01:57:19.006037Z",
     "iopub.status.busy": "2022-01-23T01:57:19.004338Z",
     "iopub.status.idle": "2022-01-23T01:57:19.035407Z",
     "shell.execute_reply": "2022-01-23T01:57:19.034693Z"
    },
    "papermill": {
     "duration": 0.051991,
     "end_time": "2022-01-23T01:57:19.035593",
     "exception": false,
     "start_time": "2022-01-23T01:57:18.983602",
     "status": "completed"
    },
    "tags": []
   },
   "outputs": [],
   "source": [
    "#hide\n",
    "#Koreliacijų koeficientai"
   ]
  },
  {
   "cell_type": "code",
   "execution_count": 10,
   "id": "seeing-celebration",
   "metadata": {
    "execution": {
     "iopub.execute_input": "2022-01-23T01:57:19.072721Z",
     "iopub.status.busy": "2022-01-23T01:57:19.072106Z",
     "iopub.status.idle": "2022-01-23T01:57:19.102363Z",
     "shell.execute_reply": "2022-01-23T01:57:19.101629Z"
    },
    "papermill": {
     "duration": 0.049529,
     "end_time": "2022-01-23T01:57:19.102491",
     "exception": false,
     "start_time": "2022-01-23T01:57:19.052962",
     "status": "completed"
    },
    "tags": []
   },
   "outputs": [],
   "source": [
    "#hide_input\n",
    "#sum_corr = df_all_mrk.corr().sum().sort_values(ascending=True).index.values\n",
    "#df_all_mrk[sum_corr].corr()"
   ]
  },
  {
   "cell_type": "code",
   "execution_count": 11,
   "id": "other-painting",
   "metadata": {
    "execution": {
     "iopub.execute_input": "2022-01-23T01:57:19.137272Z",
     "iopub.status.busy": "2022-01-23T01:57:19.136581Z",
     "iopub.status.idle": "2022-01-23T01:57:19.169601Z",
     "shell.execute_reply": "2022-01-23T01:57:19.168360Z"
    },
    "papermill": {
     "duration": 0.051956,
     "end_time": "2022-01-23T01:57:19.169756",
     "exception": false,
     "start_time": "2022-01-23T01:57:19.117800",
     "status": "completed"
    },
    "tags": []
   },
   "outputs": [],
   "source": [
    "#hide\n",
    "#Koreliacijos matrica. "
   ]
  },
  {
   "cell_type": "code",
   "execution_count": 12,
   "id": "modular-magnitude",
   "metadata": {
    "execution": {
     "iopub.execute_input": "2022-01-23T01:57:19.205340Z",
     "iopub.status.busy": "2022-01-23T01:57:19.204563Z",
     "iopub.status.idle": "2022-01-23T01:57:19.235346Z",
     "shell.execute_reply": "2022-01-23T01:57:19.234794Z"
    },
    "papermill": {
     "duration": 0.050166,
     "end_time": "2022-01-23T01:57:19.235491",
     "exception": false,
     "start_time": "2022-01-23T01:57:19.185325",
     "status": "completed"
    },
    "tags": []
   },
   "outputs": [],
   "source": [
    "#hide_input\n",
    "#plt.figure(figsize=(15, 8))\n",
    "#sns.heatmap(df_all_mrk[sum_corr].corr(), annot=True, cmap=\"BrBG\");\n",
    "#plt.savefig('corr_matrix_all.eps', format='eps')"
   ]
  },
  {
   "cell_type": "code",
   "execution_count": null,
   "id": "original-senator",
   "metadata": {
    "papermill": {
     "duration": 0.015217,
     "end_time": "2022-01-23T01:57:19.267237",
     "exception": false,
     "start_time": "2022-01-23T01:57:19.252020",
     "status": "completed"
    },
    "tags": []
   },
   "outputs": [],
   "source": []
  },
  {
   "cell_type": "code",
   "execution_count": null,
   "id": "saving-secretariat",
   "metadata": {
    "papermill": {
     "duration": 0.014992,
     "end_time": "2022-01-23T01:57:19.297500",
     "exception": false,
     "start_time": "2022-01-23T01:57:19.282508",
     "status": "completed"
    },
    "tags": []
   },
   "outputs": [],
   "source": []
  }
 ],
 "metadata": {
  "kernelspec": {
   "display_name": "Python 3",
   "language": "python",
   "name": "python3"
  },
  "language_info": {
   "codemirror_mode": {
    "name": "ipython",
    "version": 3
   },
   "file_extension": ".py",
   "mimetype": "text/x-python",
   "name": "python",
   "nbconvert_exporter": "python",
   "pygments_lexer": "ipython3",
   "version": "3.6.15"
  },
  "papermill": {
   "default_parameters": {},
   "duration": 17.199633,
   "end_time": "2022-01-23T01:57:19.934187",
   "environment_variables": {},
   "exception": null,
   "input_path": "App-Correlation_charts.ipynb",
   "output_path": "App-Correlation_charts.ipynb",
   "parameters": {},
   "start_time": "2022-01-23T01:57:02.734554",
   "version": "2.2.2"
  }
 },
 "nbformat": 4,
 "nbformat_minor": 5
}