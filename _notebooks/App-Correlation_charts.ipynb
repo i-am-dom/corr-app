{
 "cells": [
  {
   "cell_type": "markdown",
   "id": "touched-facility",
   "metadata": {
    "papermill": {
     "duration": 0.014284,
     "end_time": "2022-09-30T03:57:34.890990",
     "exception": false,
     "start_time": "2022-09-30T03:57:34.876706",
     "status": "completed"
    },
    "tags": []
   },
   "source": [
    "# Koreliacijų matrica\n",
    "> Išplėstinė koreliacijų matrica. \n",
    "\n",
    "- toc: true \n",
    "- badges: true\n",
    "- comments: false\n",
    "- categories: [Dominykas Tautkus]\n",
    "- image: images/matrix.png"
   ]
  },
  {
   "cell_type": "code",
   "execution_count": null,
   "id": "premium-weekend",
   "metadata": {
    "papermill": {
     "duration": 0.010936,
     "end_time": "2022-09-30T03:57:34.913498",
     "exception": false,
     "start_time": "2022-09-30T03:57:34.902562",
     "status": "completed"
    },
    "tags": []
   },
   "outputs": [],
   "source": []
  },
  {
   "cell_type": "code",
   "execution_count": 1,
   "id": "vertical-rebate",
   "metadata": {
    "execution": {
     "iopub.execute_input": "2022-09-30T03:57:34.945373Z",
     "iopub.status.busy": "2022-09-30T03:57:34.944812Z",
     "iopub.status.idle": "2022-09-30T03:57:34.955505Z",
     "shell.execute_reply": "2022-09-30T03:57:34.955049Z"
    },
    "papermill": {
     "duration": 0.0312,
     "end_time": "2022-09-30T03:57:34.955615",
     "exception": false,
     "start_time": "2022-09-30T03:57:34.924415",
     "status": "completed"
    },
    "tags": []
   },
   "outputs": [],
   "source": [
    "#hide\n",
    "%load_ext autoreload\n",
    "%autoreload 2"
   ]
  },
  {
   "cell_type": "code",
   "execution_count": 2,
   "id": "overall-advancement",
   "metadata": {
    "execution": {
     "iopub.execute_input": "2022-09-30T03:57:34.981475Z",
     "iopub.status.busy": "2022-09-30T03:57:34.980884Z",
     "iopub.status.idle": "2022-09-30T03:57:36.388385Z",
     "shell.execute_reply": "2022-09-30T03:57:36.387861Z"
    },
    "papermill": {
     "duration": 1.422014,
     "end_time": "2022-09-30T03:57:36.388495",
     "exception": false,
     "start_time": "2022-09-30T03:57:34.966481",
     "status": "completed"
    },
    "tags": []
   },
   "outputs": [],
   "source": [
    "#hide\n",
    "from scripts.read_data import read_api\n",
    "from IPython.display import HTML\n",
    "import plotly.graph_objects as go\n"
   ]
  },
  {
   "cell_type": "code",
   "execution_count": 3,
   "id": "light-crazy",
   "metadata": {
    "execution": {
     "iopub.execute_input": "2022-09-30T03:57:36.414017Z",
     "iopub.status.busy": "2022-09-30T03:57:36.413449Z",
     "iopub.status.idle": "2022-09-30T03:57:36.435473Z",
     "shell.execute_reply": "2022-09-30T03:57:36.435033Z"
    },
    "papermill": {
     "duration": 0.036,
     "end_time": "2022-09-30T03:57:36.435580",
     "exception": false,
     "start_time": "2022-09-30T03:57:36.399580",
     "status": "completed"
    },
    "tags": []
   },
   "outputs": [],
   "source": [
    "#hide\n",
    "### ICO koreliacija"
   ]
  },
  {
   "cell_type": "code",
   "execution_count": 4,
   "id": "likely-bahrain",
   "metadata": {
    "execution": {
     "iopub.execute_input": "2022-09-30T03:57:36.460861Z",
     "iopub.status.busy": "2022-09-30T03:57:36.460301Z",
     "iopub.status.idle": "2022-09-30T03:57:37.275021Z",
     "shell.execute_reply": "2022-09-30T03:57:37.274083Z"
    },
    "papermill": {
     "duration": 0.828682,
     "end_time": "2022-09-30T03:57:37.275146",
     "exception": false,
     "start_time": "2022-09-30T03:57:36.446464",
     "status": "completed"
    },
    "tags": []
   },
   "outputs": [],
   "source": [
    "#hide\n",
    "import matplotlib.pyplot as plt\n",
    "import numpy as np\n",
    "import pandas as pd\n",
    "import seaborn as sns\n",
    "import matplotlib.pyplot as plt \n",
    "import matplotlib.dates as mdates\n",
    "import matplotlib.pyplot as plt"
   ]
  },
  {
   "cell_type": "code",
   "execution_count": 5,
   "id": "superior-blanket",
   "metadata": {
    "execution": {
     "iopub.execute_input": "2022-09-30T03:57:37.304066Z",
     "iopub.status.busy": "2022-09-30T03:57:37.301472Z",
     "iopub.status.idle": "2022-09-30T03:57:49.789449Z",
     "shell.execute_reply": "2022-09-30T03:57:49.788321Z"
    },
    "papermill": {
     "duration": 12.503267,
     "end_time": "2022-09-30T03:57:49.789569",
     "exception": false,
     "start_time": "2022-09-30T03:57:37.286302",
     "status": "completed"
    },
    "tags": []
   },
   "outputs": [
    {
     "name": "stderr",
     "output_type": "stream",
     "text": [
      "/home/runner/work/corr-app/corr-app/_notebooks/scripts/read_data.py:187: SettingWithCopyWarning:\n",
      "\n",
      "\n",
      "A value is trying to be set on a copy of a slice from a DataFrame.\n",
      "Try using .loc[row_indexer,col_indexer] = value instead\n",
      "\n",
      "See the caveats in the documentation: https://pandas.pydata.org/pandas-docs/stable/user_guide/indexing.html#returning-a-view-versus-a-copy\n",
      "\n"
     ]
    },
    {
     "name": "stderr",
     "output_type": "stream",
     "text": [
      "/home/runner/work/corr-app/corr-app/_notebooks/scripts/read_data.py:215: SettingWithCopyWarning:\n",
      "\n",
      "\n",
      "A value is trying to be set on a copy of a slice from a DataFrame.\n",
      "Try using .loc[row_indexer,col_indexer] = value instead\n",
      "\n",
      "See the caveats in the documentation: https://pandas.pydata.org/pandas-docs/stable/user_guide/indexing.html#returning-a-view-versus-a-copy\n",
      "\n"
     ]
    }
   ],
   "source": [
    "#hide\n",
    "df_all = read_api()\n",
    "#df_all = df_all.drop(['SP500', 'XAU', 'ETH', 'BTC'], axis=1)\n",
    "\n"
   ]
  },
  {
   "cell_type": "code",
   "execution_count": 6,
   "id": "mature-alert",
   "metadata": {
    "execution": {
     "iopub.execute_input": "2022-09-30T03:57:49.821943Z",
     "iopub.status.busy": "2022-09-30T03:57:49.817215Z",
     "iopub.status.idle": "2022-09-30T03:57:49.847044Z",
     "shell.execute_reply": "2022-09-30T03:57:49.847477Z"
    },
    "papermill": {
     "duration": 0.045178,
     "end_time": "2022-09-30T03:57:49.847605",
     "exception": false,
     "start_time": "2022-09-30T03:57:49.802427",
     "status": "completed"
    },
    "tags": []
   },
   "outputs": [],
   "source": [
    "#hide_input\n",
    "sum_corr = df_all.corr().sum().sort_values(ascending=True).index.values\n",
    "#df_all[sum_corr].corr()"
   ]
  },
  {
   "cell_type": "markdown",
   "id": "complex-syndicate",
   "metadata": {
    "papermill": {
     "duration": 0.011412,
     "end_time": "2022-09-30T03:57:49.870540",
     "exception": false,
     "start_time": "2022-09-30T03:57:49.859128",
     "status": "completed"
    },
    "tags": []
   },
   "source": [
    "## Išplėstinė koreliacijų matrica. "
   ]
  },
  {
   "cell_type": "code",
   "execution_count": 7,
   "id": "atomic-omaha",
   "metadata": {
    "execution": {
     "iopub.execute_input": "2022-09-30T03:57:49.897941Z",
     "iopub.status.busy": "2022-09-30T03:57:49.897375Z",
     "iopub.status.idle": "2022-09-30T03:57:51.037709Z",
     "shell.execute_reply": "2022-09-30T03:57:51.038138Z"
    },
    "papermill": {
     "duration": 1.155677,
     "end_time": "2022-09-30T03:57:51.038264",
     "exception": false,
     "start_time": "2022-09-30T03:57:49.882587",
     "status": "completed"
    },
    "tags": []
   },
   "outputs": [
    {
     "data": {
      "image/png": "[encoded data removed]",
      "text/plain": [
       "<Figure size 1080x792 with 2 Axes>"
      ]
     },
     "metadata": {
      "needs_background": "light"
     },
     "output_type": "display_data"
    }
   ],
   "source": [
    "#hide_input\n",
    "plt.figure(figsize=(15, 11))\n",
    "sns.heatmap(df_all[sum_corr].corr(), annot=True, cmap=\"cubehelix\") \n",
    "sns.set(font_scale=1.25)\n",
    "plt.savefig('corr_matrix.png', format='eps')"
   ]
  },
  {
   "cell_type": "code",
   "execution_count": 8,
   "id": "arbitrary-sullivan",
   "metadata": {
    "execution": {
     "iopub.execute_input": "2022-09-30T03:57:51.069160Z",
     "iopub.status.busy": "2022-09-30T03:57:51.068597Z",
     "iopub.status.idle": "2022-09-30T03:57:51.093984Z",
     "shell.execute_reply": "2022-09-30T03:57:51.094395Z"
    },
    "papermill": {
     "duration": 0.042435,
     "end_time": "2022-09-30T03:57:51.094521",
     "exception": false,
     "start_time": "2022-09-30T03:57:51.052086",
     "status": "completed"
    },
    "tags": []
   },
   "outputs": [],
   "source": [
    "#hide\n",
    "#df_all_mrk = read_api()"
   ]
  },
  {
   "cell_type": "code",
   "execution_count": 9,
   "id": "delayed-adapter",
   "metadata": {
    "execution": {
     "iopub.execute_input": "2022-09-30T03:57:51.124637Z",
     "iopub.status.busy": "2022-09-30T03:57:51.124071Z",
     "iopub.status.idle": "2022-09-30T03:57:51.149540Z",
     "shell.execute_reply": "2022-09-30T03:57:51.149968Z"
    },
    "papermill": {
     "duration": 0.042076,
     "end_time": "2022-09-30T03:57:51.150100",
     "exception": false,
     "start_time": "2022-09-30T03:57:51.108024",
     "status": "completed"
    },
    "tags": []
   },
   "outputs": [],
   "source": [
    "#hide\n",
    "#Koreliacijų koeficientai"
   ]
  },
  {
   "cell_type": "code",
   "execution_count": 10,
   "id": "seeing-celebration",
   "metadata": {
    "execution": {
     "iopub.execute_input": "2022-09-30T03:57:51.184943Z",
     "iopub.status.busy": "2022-09-30T03:57:51.182000Z",
     "iopub.status.idle": "2022-09-30T03:57:51.208345Z",
     "shell.execute_reply": "2022-09-30T03:57:51.207861Z"
    },
    "papermill": {
     "duration": 0.044681,
     "end_time": "2022-09-30T03:57:51.208458",
     "exception": false,
     "start_time": "2022-09-30T03:57:51.163777",
     "status": "completed"
    },
    "tags": []
   },
   "outputs": [],
   "source": [
    "#hide_input\n",
    "#sum_corr = df_all_mrk.corr().sum().sort_values(ascending=True).index.values\n",
    "#df_all_mrk[sum_corr].corr()"
   ]
  },
  {
   "cell_type": "code",
   "execution_count": 11,
   "id": "other-painting",
   "metadata": {
    "execution": {
     "iopub.execute_input": "2022-09-30T03:57:51.238831Z",
     "iopub.status.busy": "2022-09-30T03:57:51.238279Z",
     "iopub.status.idle": "2022-09-30T03:57:51.263379Z",
     "shell.execute_reply": "2022-09-30T03:57:51.263813Z"
    },
    "papermill": {
     "duration": 0.042013,
     "end_time": "2022-09-30T03:57:51.263938",
     "exception": false,
     "start_time": "2022-09-30T03:57:51.221925",
     "status": "completed"
    },
    "tags": []
   },
   "outputs": [],
   "source": [
    "#hide\n",
    "#Koreliacijos matrica. "
   ]
  },
  {
   "cell_type": "code",
   "execution_count": 12,
   "id": "modular-magnitude",
   "metadata": {
    "execution": {
     "iopub.execute_input": "2022-09-30T03:57:51.293962Z",
     "iopub.status.busy": "2022-09-30T03:57:51.293404Z",
     "iopub.status.idle": "2022-09-30T03:57:51.319227Z",
     "shell.execute_reply": "2022-09-30T03:57:51.318764Z"
    },
    "papermill": {
     "duration": 0.041876,
     "end_time": "2022-09-30T03:57:51.319330",
     "exception": false,
     "start_time": "2022-09-30T03:57:51.277454",
     "status": "completed"
    },
    "tags": []
   },
   "outputs": [],
   "source": [
    "#hide_input\n",
    "#plt.figure(figsize=(15, 8))\n",
    "#sns.heatmap(df_all_mrk[sum_corr].corr(), annot=True, cmap=\"BrBG\");\n",
    "#plt.savefig('corr_matrix_all.eps', format='eps')"
   ]
  },
  {
   "cell_type": "code",
   "execution_count": null,
   "id": "original-senator",
   "metadata": {
    "papermill": {
     "duration": 0.013322,
     "end_time": "2022-09-30T03:57:51.346109",
     "exception": false,
     "start_time": "2022-09-30T03:57:51.332787",
     "status": "completed"
    },
    "tags": []
   },
   "outputs": [],
   "source": []
  },
  {
   "cell_type": "code",
   "execution_count": null,
   "id": "saving-secretariat",
   "metadata": {
    "papermill": {
     "duration": 0.013353,
     "end_time": "2022-09-30T03:57:51.372838",
     "exception": false,
     "start_time": "2022-09-30T03:57:51.359485",
     "status": "completed"
    },
    "tags": []
   },
   "outputs": [],
   "source": []
  }
 ],
 "metadata": {
  "kernelspec": {
   "display_name": "Python 3",
   "language": "python",
   "name": "python3"
  },
  "language_info": {
   "codemirror_mode": {
    "name": "ipython",
    "version": 3
   },
   "file_extension": ".py",
   "mimetype": "text/x-python",
   "name": "python",
   "nbconvert_exporter": "python",
   "pygments_lexer": "ipython3",
   "version": "3.6.15"
  },
  "papermill": {
   "default_parameters": {},
   "duration": 17.839972,
   "end_time": "2022-09-30T03:57:51.803810",
   "environment_variables": {},
   "exception": null,
   "input_path": "App-Correlation_charts.ipynb",
   "output_path": "App-Correlation_charts.ipynb",
   "parameters": {},
   "start_time": "2022-09-30T03:57:33.963838",
   "version": "2.2.2"
  }
 },
 "nbformat": 4,
 "nbformat_minor": 5
}