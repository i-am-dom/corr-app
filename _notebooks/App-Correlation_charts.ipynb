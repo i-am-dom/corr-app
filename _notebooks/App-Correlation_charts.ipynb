{
 "cells": [
  {
   "cell_type": "markdown",
   "id": "touched-facility",
   "metadata": {
    "papermill": {
     "duration": 0.014861,
     "end_time": "2022-04-23T02:37:43.577221",
     "exception": false,
     "start_time": "2022-04-23T02:37:43.562360",
     "status": "completed"
    },
    "tags": []
   },
   "source": [
    "# Koreliacijų matrica\n",
    "> Išplėstinė koreliacijų matrica. \n",
    "\n",
    "- toc: true \n",
    "- badges: true\n",
    "- comments: false\n",
    "- categories: [Dominykas Tautkus]\n",
    "- image: images/matrix.png"
   ]
  },
  {
   "cell_type": "code",
   "execution_count": null,
   "id": "premium-weekend",
   "metadata": {
    "papermill": {
     "duration": 0.010927,
     "end_time": "2022-04-23T02:37:43.599841",
     "exception": false,
     "start_time": "2022-04-23T02:37:43.588914",
     "status": "completed"
    },
    "tags": []
   },
   "outputs": [],
   "source": []
  },
  {
   "cell_type": "code",
   "execution_count": 1,
   "id": "vertical-rebate",
   "metadata": {
    "execution": {
     "iopub.execute_input": "2022-04-23T02:37:43.631770Z",
     "iopub.status.busy": "2022-04-23T02:37:43.631208Z",
     "iopub.status.idle": "2022-04-23T02:37:43.642143Z",
     "shell.execute_reply": "2022-04-23T02:37:43.641702Z"
    },
    "papermill": {
     "duration": 0.031633,
     "end_time": "2022-04-23T02:37:43.642279",
     "exception": false,
     "start_time": "2022-04-23T02:37:43.610646",
     "status": "completed"
    },
    "tags": []
   },
   "outputs": [],
   "source": [
    "#hide\n",
    "%load_ext autoreload\n",
    "%autoreload 2"
   ]
  },
  {
   "cell_type": "code",
   "execution_count": 2,
   "id": "overall-advancement",
   "metadata": {
    "execution": {
     "iopub.execute_input": "2022-04-23T02:37:43.667913Z",
     "iopub.status.busy": "2022-04-23T02:37:43.667395Z",
     "iopub.status.idle": "2022-04-23T02:37:44.845432Z",
     "shell.execute_reply": "2022-04-23T02:37:44.844916Z"
    },
    "papermill": {
     "duration": 1.192362,
     "end_time": "2022-04-23T02:37:44.845567",
     "exception": false,
     "start_time": "2022-04-23T02:37:43.653205",
     "status": "completed"
    },
    "tags": []
   },
   "outputs": [],
   "source": [
    "#hide\n",
    "from scripts.read_data import read_api\n",
    "from IPython.display import HTML\n",
    "import plotly.graph_objects as go\n"
   ]
  },
  {
   "cell_type": "code",
   "execution_count": 3,
   "id": "light-crazy",
   "metadata": {
    "execution": {
     "iopub.execute_input": "2022-04-23T02:37:44.875275Z",
     "iopub.status.busy": "2022-04-23T02:37:44.874629Z",
     "iopub.status.idle": "2022-04-23T02:37:44.898535Z",
     "shell.execute_reply": "2022-04-23T02:37:44.897978Z"
    },
    "papermill": {
     "duration": 0.041734,
     "end_time": "2022-04-23T02:37:44.898677",
     "exception": false,
     "start_time": "2022-04-23T02:37:44.856943",
     "status": "completed"
    },
    "tags": []
   },
   "outputs": [],
   "source": [
    "#hide\n",
    "### ICO koreliacija"
   ]
  },
  {
   "cell_type": "code",
   "execution_count": 4,
   "id": "likely-bahrain",
   "metadata": {
    "execution": {
     "iopub.execute_input": "2022-04-23T02:37:44.935444Z",
     "iopub.status.busy": "2022-04-23T02:37:44.934064Z",
     "iopub.status.idle": "2022-04-23T02:37:45.807461Z",
     "shell.execute_reply": "2022-04-23T02:37:45.806389Z"
    },
    "papermill": {
     "duration": 0.897705,
     "end_time": "2022-04-23T02:37:45.807618",
     "exception": false,
     "start_time": "2022-04-23T02:37:44.909913",
     "status": "completed"
    },
    "tags": []
   },
   "outputs": [],
   "source": [
    "#hide\n",
    "import matplotlib.pyplot as plt\n",
    "import numpy as np\n",
    "import pandas as pd\n",
    "import seaborn as sns\n",
    "import matplotlib.pyplot as plt \n",
    "import matplotlib.dates as mdates\n",
    "import matplotlib.pyplot as plt"
   ]
  },
  {
   "cell_type": "code",
   "execution_count": 5,
   "id": "superior-blanket",
   "metadata": {
    "execution": {
     "iopub.execute_input": "2022-04-23T02:37:45.847231Z",
     "iopub.status.busy": "2022-04-23T02:37:45.842437Z",
     "iopub.status.idle": "2022-04-23T02:37:57.436233Z",
     "shell.execute_reply": "2022-04-23T02:37:57.435736Z"
    },
    "papermill": {
     "duration": 11.617465,
     "end_time": "2022-04-23T02:37:57.436359",
     "exception": false,
     "start_time": "2022-04-23T02:37:45.818894",
     "status": "completed"
    },
    "tags": []
   },
   "outputs": [
    {
     "name": "stderr",
     "output_type": "stream",
     "text": [
      "/home/runner/work/corr-app/corr-app/_notebooks/scripts/read_data.py:187: SettingWithCopyWarning:\n",
      "\n",
      "\n",
      "A value is trying to be set on a copy of a slice from a DataFrame.\n",
      "Try using .loc[row_indexer,col_indexer] = value instead\n",
      "\n",
      "See the caveats in the documentation: https://pandas.pydata.org/pandas-docs/stable/user_guide/indexing.html#returning-a-view-versus-a-copy\n",
      "\n"
     ]
    },
    {
     "name": "stderr",
     "output_type": "stream",
     "text": [
      "/home/runner/work/corr-app/corr-app/_notebooks/scripts/read_data.py:215: SettingWithCopyWarning:\n",
      "\n",
      "\n",
      "A value is trying to be set on a copy of a slice from a DataFrame.\n",
      "Try using .loc[row_indexer,col_indexer] = value instead\n",
      "\n",
      "See the caveats in the documentation: https://pandas.pydata.org/pandas-docs/stable/user_guide/indexing.html#returning-a-view-versus-a-copy\n",
      "\n"
     ]
    }
   ],
   "source": [
    "#hide\n",
    "df_all = read_api()\n",
    "#df_all = df_all.drop(['SP500', 'XAU', 'ETH', 'BTC'], axis=1)\n",
    "\n"
   ]
  },
  {
   "cell_type": "code",
   "execution_count": 6,
   "id": "mature-alert",
   "metadata": {
    "execution": {
     "iopub.execute_input": "2022-04-23T02:37:57.464751Z",
     "iopub.status.busy": "2022-04-23T02:37:57.464173Z",
     "iopub.status.idle": "2022-04-23T02:37:57.496906Z",
     "shell.execute_reply": "2022-04-23T02:37:57.496323Z"
    },
    "papermill": {
     "duration": 0.048617,
     "end_time": "2022-04-23T02:37:57.497055",
     "exception": false,
     "start_time": "2022-04-23T02:37:57.448438",
     "status": "completed"
    },
    "tags": []
   },
   "outputs": [],
   "source": [
    "#hide_input\n",
    "sum_corr = df_all.corr().sum().sort_values(ascending=True).index.values\n",
    "#df_all[sum_corr].corr()"
   ]
  },
  {
   "cell_type": "markdown",
   "id": "complex-syndicate",
   "metadata": {
    "papermill": {
     "duration": 0.011697,
     "end_time": "2022-04-23T02:37:57.521219",
     "exception": false,
     "start_time": "2022-04-23T02:37:57.509522",
     "status": "completed"
    },
    "tags": []
   },
   "source": [
    "## Išplėstinė koreliacijų matrica. "
   ]
  },
  {
   "cell_type": "code",
   "execution_count": 7,
   "id": "atomic-omaha",
   "metadata": {
    "execution": {
     "iopub.execute_input": "2022-04-23T02:37:57.561244Z",
     "iopub.status.busy": "2022-04-23T02:37:57.557045Z",
     "iopub.status.idle": "2022-04-23T02:37:58.750140Z",
     "shell.execute_reply": "2022-04-23T02:37:58.750536Z"
    },
    "papermill": {
     "duration": 1.217857,
     "end_time": "2022-04-23T02:37:58.750683",
     "exception": false,
     "start_time": "2022-04-23T02:37:57.532826",
     "status": "completed"
    },
    "tags": []
   },
   "outputs": [
    {
     "data": {
      "image/png": "[encoded data removed]",
      "text/plain": [
       "<Figure size 1080x792 with 2 Axes>"
      ]
     },
     "metadata": {
      "needs_background": "light"
     },
     "output_type": "display_data"
    }
   ],
   "source": [
    "#hide_input\n",
    "plt.figure(figsize=(15, 11))\n",
    "sns.heatmap(df_all[sum_corr].corr(), annot=True, cmap=\"cubehelix\") \n",
    "sns.set(font_scale=1.25)\n",
    "plt.savefig('corr_matrix.png', format='eps')"
   ]
  },
  {
   "cell_type": "code",
   "execution_count": 8,
   "id": "arbitrary-sullivan",
   "metadata": {
    "execution": {
     "iopub.execute_input": "2022-04-23T02:37:58.785409Z",
     "iopub.status.busy": "2022-04-23T02:37:58.781106Z",
     "iopub.status.idle": "2022-04-23T02:37:58.808560Z",
     "shell.execute_reply": "2022-04-23T02:37:58.808081Z"
    },
    "papermill": {
     "duration": 0.044106,
     "end_time": "2022-04-23T02:37:58.808691",
     "exception": false,
     "start_time": "2022-04-23T02:37:58.764585",
     "status": "completed"
    },
    "tags": []
   },
   "outputs": [],
   "source": [
    "#hide\n",
    "#df_all_mrk = read_api()"
   ]
  },
  {
   "cell_type": "code",
   "execution_count": 9,
   "id": "delayed-adapter",
   "metadata": {
    "execution": {
     "iopub.execute_input": "2022-04-23T02:37:58.840561Z",
     "iopub.status.busy": "2022-04-23T02:37:58.840004Z",
     "iopub.status.idle": "2022-04-23T02:37:58.882161Z",
     "shell.execute_reply": "2022-04-23T02:37:58.882653Z"
    },
    "papermill": {
     "duration": 0.060496,
     "end_time": "2022-04-23T02:37:58.882817",
     "exception": false,
     "start_time": "2022-04-23T02:37:58.822321",
     "status": "completed"
    },
    "tags": []
   },
   "outputs": [],
   "source": [
    "#hide\n",
    "#Koreliacijų koeficientai"
   ]
  },
  {
   "cell_type": "code",
   "execution_count": 10,
   "id": "seeing-celebration",
   "metadata": {
    "execution": {
     "iopub.execute_input": "2022-04-23T02:37:58.921757Z",
     "iopub.status.busy": "2022-04-23T02:37:58.921205Z",
     "iopub.status.idle": "2022-04-23T02:37:58.946145Z",
     "shell.execute_reply": "2022-04-23T02:37:58.945587Z"
    },
    "papermill": {
     "duration": 0.047376,
     "end_time": "2022-04-23T02:37:58.946278",
     "exception": false,
     "start_time": "2022-04-23T02:37:58.898902",
     "status": "completed"
    },
    "tags": []
   },
   "outputs": [],
   "source": [
    "#hide_input\n",
    "#sum_corr = df_all_mrk.corr().sum().sort_values(ascending=True).index.values\n",
    "#df_all_mrk[sum_corr].corr()"
   ]
  },
  {
   "cell_type": "code",
   "execution_count": 11,
   "id": "other-painting",
   "metadata": {
    "execution": {
     "iopub.execute_input": "2022-04-23T02:37:58.989561Z",
     "iopub.status.busy": "2022-04-23T02:37:58.980981Z",
     "iopub.status.idle": "2022-04-23T02:37:59.010905Z",
     "shell.execute_reply": "2022-04-23T02:37:59.011354Z"
    },
    "papermill": {
     "duration": 0.050663,
     "end_time": "2022-04-23T02:37:59.011505",
     "exception": false,
     "start_time": "2022-04-23T02:37:58.960842",
     "status": "completed"
    },
    "tags": []
   },
   "outputs": [],
   "source": [
    "#hide\n",
    "#Koreliacijos matrica. "
   ]
  },
  {
   "cell_type": "code",
   "execution_count": 12,
   "id": "modular-magnitude",
   "metadata": {
    "execution": {
     "iopub.execute_input": "2022-04-23T02:37:59.044783Z",
     "iopub.status.busy": "2022-04-23T02:37:59.044205Z",
     "iopub.status.idle": "2022-04-23T02:37:59.071451Z",
     "shell.execute_reply": "2022-04-23T02:37:59.070897Z"
    },
    "papermill": {
     "duration": 0.046331,
     "end_time": "2022-04-23T02:37:59.071585",
     "exception": false,
     "start_time": "2022-04-23T02:37:59.025254",
     "status": "completed"
    },
    "tags": []
   },
   "outputs": [],
   "source": [
    "#hide_input\n",
    "#plt.figure(figsize=(15, 8))\n",
    "#sns.heatmap(df_all_mrk[sum_corr].corr(), annot=True, cmap=\"BrBG\");\n",
    "#plt.savefig('corr_matrix_all.eps', format='eps')"
   ]
  },
  {
   "cell_type": "code",
   "execution_count": null,
   "id": "original-senator",
   "metadata": {
    "papermill": {
     "duration": 0.013548,
     "end_time": "2022-04-23T02:37:59.099646",
     "exception": false,
     "start_time": "2022-04-23T02:37:59.086098",
     "status": "completed"
    },
    "tags": []
   },
   "outputs": [],
   "source": []
  },
  {
   "cell_type": "code",
   "execution_count": null,
   "id": "saving-secretariat",
   "metadata": {
    "papermill": {
     "duration": 0.013487,
     "end_time": "2022-04-23T02:37:59.126765",
     "exception": false,
     "start_time": "2022-04-23T02:37:59.113278",
     "status": "completed"
    },
    "tags": []
   },
   "outputs": [],
   "source": []
  }
 ],
 "metadata": {
  "kernelspec": {
   "display_name": "Python 3",
   "language": "python",
   "name": "python3"
  },
  "language_info": {
   "codemirror_mode": {
    "name": "ipython",
    "version": 3
   },
   "file_extension": ".py",
   "mimetype": "text/x-python",
   "name": "python",
   "nbconvert_exporter": "python",
   "pygments_lexer": "ipython3",
   "version": "3.6.15"
  },
  "papermill": {
   "default_parameters": {},
   "duration": 17.332213,
   "end_time": "2022-04-23T02:37:59.759446",
   "environment_variables": {},
   "exception": null,
   "input_path": "App-Correlation_charts.ipynb",
   "output_path": "App-Correlation_charts.ipynb",
   "parameters": {},
   "start_time": "2022-04-23T02:37:42.427233",
   "version": "2.2.2"
  }
 },
 "nbformat": 4,
 "nbformat_minor": 5
}