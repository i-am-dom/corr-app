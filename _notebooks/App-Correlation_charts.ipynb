{
 "cells": [
  {
   "cell_type": "markdown",
   "id": "touched-facility",
   "metadata": {
    "papermill": {
     "duration": 0.014956,
     "end_time": "2021-09-03T01:55:54.816780",
     "exception": false,
     "start_time": "2021-09-03T01:55:54.801824",
     "status": "completed"
    },
    "tags": []
   },
   "source": [
    "# Koreliacijų matrica\n",
    "> Išplėstinė koreliacijų matrica. \n",
    "\n",
    "- toc: true \n",
    "- badges: true\n",
    "- comments: false\n",
    "- categories: [Dominykas Tautkus]\n",
    "- image: images/matrix.png"
   ]
  },
  {
   "cell_type": "code",
   "execution_count": null,
   "id": "premium-weekend",
   "metadata": {
    "papermill": {
     "duration": 0.010641,
     "end_time": "2021-09-03T01:55:54.838605",
     "exception": false,
     "start_time": "2021-09-03T01:55:54.827964",
     "status": "completed"
    },
    "tags": []
   },
   "outputs": [],
   "source": []
  },
  {
   "cell_type": "code",
   "execution_count": 1,
   "id": "vertical-rebate",
   "metadata": {
    "execution": {
     "iopub.execute_input": "2021-09-03T01:55:54.870108Z",
     "iopub.status.busy": "2021-09-03T01:55:54.869565Z",
     "iopub.status.idle": "2021-09-03T01:55:54.878908Z",
     "shell.execute_reply": "2021-09-03T01:55:54.879313Z"
    },
    "papermill": {
     "duration": 0.030492,
     "end_time": "2021-09-03T01:55:54.879443",
     "exception": false,
     "start_time": "2021-09-03T01:55:54.848951",
     "status": "completed"
    },
    "tags": []
   },
   "outputs": [],
   "source": [
    "#hide\n",
    "%load_ext autoreload\n",
    "%autoreload 2"
   ]
  },
  {
   "cell_type": "code",
   "execution_count": 2,
   "id": "overall-advancement",
   "metadata": {
    "execution": {
     "iopub.execute_input": "2021-09-03T01:55:54.906981Z",
     "iopub.status.busy": "2021-09-03T01:55:54.906479Z",
     "iopub.status.idle": "2021-09-03T01:55:56.114636Z",
     "shell.execute_reply": "2021-09-03T01:55:56.114161Z"
    },
    "papermill": {
     "duration": 1.224993,
     "end_time": "2021-09-03T01:55:56.114764",
     "exception": false,
     "start_time": "2021-09-03T01:55:54.889771",
     "status": "completed"
    },
    "tags": []
   },
   "outputs": [],
   "source": [
    "#hide\n",
    "from scripts.read_data import read_api\n",
    "from IPython.display import HTML\n",
    "import plotly.graph_objects as go\n"
   ]
  },
  {
   "cell_type": "code",
   "execution_count": 3,
   "id": "light-crazy",
   "metadata": {
    "execution": {
     "iopub.execute_input": "2021-09-03T01:55:56.144703Z",
     "iopub.status.busy": "2021-09-03T01:55:56.144189Z",
     "iopub.status.idle": "2021-09-03T01:55:56.161657Z",
     "shell.execute_reply": "2021-09-03T01:55:56.161248Z"
    },
    "papermill": {
     "duration": 0.036148,
     "end_time": "2021-09-03T01:55:56.161763",
     "exception": false,
     "start_time": "2021-09-03T01:55:56.125615",
     "status": "completed"
    },
    "tags": []
   },
   "outputs": [],
   "source": [
    "#hide\n",
    "### ICO koreliacija"
   ]
  },
  {
   "cell_type": "code",
   "execution_count": 4,
   "id": "likely-bahrain",
   "metadata": {
    "execution": {
     "iopub.execute_input": "2021-09-03T01:55:56.186010Z",
     "iopub.status.busy": "2021-09-03T01:55:56.185491Z",
     "iopub.status.idle": "2021-09-03T01:55:56.973978Z",
     "shell.execute_reply": "2021-09-03T01:55:56.973441Z"
    },
    "papermill": {
     "duration": 0.80193,
     "end_time": "2021-09-03T01:55:56.974109",
     "exception": false,
     "start_time": "2021-09-03T01:55:56.172179",
     "status": "completed"
    },
    "tags": []
   },
   "outputs": [],
   "source": [
    "#hide\n",
    "import matplotlib.pyplot as plt\n",
    "import numpy as np\n",
    "import pandas as pd\n",
    "import seaborn as sns\n",
    "import matplotlib.pyplot as plt \n",
    "import matplotlib.dates as mdates\n",
    "import matplotlib.pyplot as plt"
   ]
  },
  {
   "cell_type": "code",
   "execution_count": 5,
   "id": "superior-blanket",
   "metadata": {
    "execution": {
     "iopub.execute_input": "2021-09-03T01:55:56.999061Z",
     "iopub.status.busy": "2021-09-03T01:55:56.998554Z",
     "iopub.status.idle": "2021-09-03T01:56:09.138097Z",
     "shell.execute_reply": "2021-09-03T01:56:09.137582Z"
    },
    "papermill": {
     "duration": 12.153353,
     "end_time": "2021-09-03T01:56:09.138220",
     "exception": false,
     "start_time": "2021-09-03T01:55:56.984867",
     "status": "completed"
    },
    "tags": []
   },
   "outputs": [
    {
     "name": "stderr",
     "output_type": "stream",
     "text": [
      "/home/runner/work/corr-app/corr-app/_notebooks/scripts/read_data.py:187: SettingWithCopyWarning:\n",
      "\n",
      "\n",
      "A value is trying to be set on a copy of a slice from a DataFrame.\n",
      "Try using .loc[row_indexer,col_indexer] = value instead\n",
      "\n",
      "See the caveats in the documentation: https://pandas.pydata.org/pandas-docs/stable/user_guide/indexing.html#returning-a-view-versus-a-copy\n",
      "\n"
     ]
    },
    {
     "name": "stderr",
     "output_type": "stream",
     "text": [
      "/home/runner/work/corr-app/corr-app/_notebooks/scripts/read_data.py:215: SettingWithCopyWarning:\n",
      "\n",
      "\n",
      "A value is trying to be set on a copy of a slice from a DataFrame.\n",
      "Try using .loc[row_indexer,col_indexer] = value instead\n",
      "\n",
      "See the caveats in the documentation: https://pandas.pydata.org/pandas-docs/stable/user_guide/indexing.html#returning-a-view-versus-a-copy\n",
      "\n"
     ]
    }
   ],
   "source": [
    "#hide\n",
    "df_all = read_api()\n",
    "#df_all = df_all.drop(['SP500', 'XAU', 'ETH', 'BTC'], axis=1)\n",
    "\n"
   ]
  },
  {
   "cell_type": "code",
   "execution_count": 6,
   "id": "mature-alert",
   "metadata": {
    "execution": {
     "iopub.execute_input": "2021-09-03T01:56:09.167083Z",
     "iopub.status.busy": "2021-09-03T01:56:09.166579Z",
     "iopub.status.idle": "2021-09-03T01:56:09.193511Z",
     "shell.execute_reply": "2021-09-03T01:56:09.192993Z"
    },
    "papermill": {
     "duration": 0.043933,
     "end_time": "2021-09-03T01:56:09.193622",
     "exception": false,
     "start_time": "2021-09-03T01:56:09.149689",
     "status": "completed"
    },
    "tags": []
   },
   "outputs": [],
   "source": [
    "#hide_input\n",
    "sum_corr = df_all.corr().sum().sort_values(ascending=True).index.values\n",
    "#df_all[sum_corr].corr()"
   ]
  },
  {
   "cell_type": "markdown",
   "id": "complex-syndicate",
   "metadata": {
    "papermill": {
     "duration": 0.010838,
     "end_time": "2021-09-03T01:56:09.216236",
     "exception": false,
     "start_time": "2021-09-03T01:56:09.205398",
     "status": "completed"
    },
    "tags": []
   },
   "source": [
    "## Išplėstinė koreliacijų matrica. "
   ]
  },
  {
   "cell_type": "code",
   "execution_count": 7,
   "id": "atomic-omaha",
   "metadata": {
    "execution": {
     "iopub.execute_input": "2021-09-03T01:56:09.241926Z",
     "iopub.status.busy": "2021-09-03T01:56:09.241409Z",
     "iopub.status.idle": "2021-09-03T01:56:10.389363Z",
     "shell.execute_reply": "2021-09-03T01:56:10.388936Z"
    },
    "papermill": {
     "duration": 1.16233,
     "end_time": "2021-09-03T01:56:10.389479",
     "exception": false,
     "start_time": "2021-09-03T01:56:09.227149",
     "status": "completed"
    },
    "tags": []
   },
   "outputs": [
    {
     "data": {
      "image/png": "[encoded data removed]",
      "text/plain": [
       "<Figure size 1080x792 with 2 Axes>"
      ]
     },
     "metadata": {
      "needs_background": "light"
     },
     "output_type": "display_data"
    }
   ],
   "source": [
    "#hide_input\n",
    "plt.figure(figsize=(15, 11))\n",
    "sns.heatmap(df_all[sum_corr].corr(), annot=True, cmap=\"cubehelix\") \n",
    "sns.set(font_scale=1.25)\n",
    "plt.savefig('corr_matrix.png', format='eps')"
   ]
  },
  {
   "cell_type": "code",
   "execution_count": 8,
   "id": "arbitrary-sullivan",
   "metadata": {
    "execution": {
     "iopub.execute_input": "2021-09-03T01:56:10.418828Z",
     "iopub.status.busy": "2021-09-03T01:56:10.418262Z",
     "iopub.status.idle": "2021-09-03T01:56:10.443068Z",
     "shell.execute_reply": "2021-09-03T01:56:10.442547Z"
    },
    "papermill": {
     "duration": 0.040414,
     "end_time": "2021-09-03T01:56:10.443175",
     "exception": false,
     "start_time": "2021-09-03T01:56:10.402761",
     "status": "completed"
    },
    "tags": []
   },
   "outputs": [],
   "source": [
    "#hide\n",
    "#df_all_mrk = read_api()"
   ]
  },
  {
   "cell_type": "code",
   "execution_count": 9,
   "id": "delayed-adapter",
   "metadata": {
    "execution": {
     "iopub.execute_input": "2021-09-03T01:56:10.475403Z",
     "iopub.status.busy": "2021-09-03T01:56:10.474894Z",
     "iopub.status.idle": "2021-09-03T01:56:10.496782Z",
     "shell.execute_reply": "2021-09-03T01:56:10.496379Z"
    },
    "papermill": {
     "duration": 0.040506,
     "end_time": "2021-09-03T01:56:10.496877",
     "exception": false,
     "start_time": "2021-09-03T01:56:10.456371",
     "status": "completed"
    },
    "tags": []
   },
   "outputs": [],
   "source": [
    "#hide\n",
    "#Koreliacijų koeficientai"
   ]
  },
  {
   "cell_type": "code",
   "execution_count": 10,
   "id": "seeing-celebration",
   "metadata": {
    "execution": {
     "iopub.execute_input": "2021-09-03T01:56:10.528483Z",
     "iopub.status.busy": "2021-09-03T01:56:10.527046Z",
     "iopub.status.idle": "2021-09-03T01:56:10.549201Z",
     "shell.execute_reply": "2021-09-03T01:56:10.548690Z"
    },
    "papermill": {
     "duration": 0.039498,
     "end_time": "2021-09-03T01:56:10.549304",
     "exception": false,
     "start_time": "2021-09-03T01:56:10.509806",
     "status": "completed"
    },
    "tags": []
   },
   "outputs": [],
   "source": [
    "#hide_input\n",
    "#sum_corr = df_all_mrk.corr().sum().sort_values(ascending=True).index.values\n",
    "#df_all_mrk[sum_corr].corr()"
   ]
  },
  {
   "cell_type": "code",
   "execution_count": 11,
   "id": "other-painting",
   "metadata": {
    "execution": {
     "iopub.execute_input": "2021-09-03T01:56:10.578464Z",
     "iopub.status.busy": "2021-09-03T01:56:10.577971Z",
     "iopub.status.idle": "2021-09-03T01:56:10.599174Z",
     "shell.execute_reply": "2021-09-03T01:56:10.599594Z"
    },
    "papermill": {
     "duration": 0.036611,
     "end_time": "2021-09-03T01:56:10.599711",
     "exception": false,
     "start_time": "2021-09-03T01:56:10.563100",
     "status": "completed"
    },
    "tags": []
   },
   "outputs": [],
   "source": [
    "#hide\n",
    "#Koreliacijos matrica. "
   ]
  },
  {
   "cell_type": "code",
   "execution_count": 12,
   "id": "modular-magnitude",
   "metadata": {
    "execution": {
     "iopub.execute_input": "2021-09-03T01:56:10.629641Z",
     "iopub.status.busy": "2021-09-03T01:56:10.629152Z",
     "iopub.status.idle": "2021-09-03T01:56:10.650449Z",
     "shell.execute_reply": "2021-09-03T01:56:10.650023Z"
    },
    "papermill": {
     "duration": 0.03715,
     "end_time": "2021-09-03T01:56:10.650540",
     "exception": false,
     "start_time": "2021-09-03T01:56:10.613390",
     "status": "completed"
    },
    "tags": []
   },
   "outputs": [],
   "source": [
    "#hide_input\n",
    "#plt.figure(figsize=(15, 8))\n",
    "#sns.heatmap(df_all_mrk[sum_corr].corr(), annot=True, cmap=\"BrBG\");\n",
    "#plt.savefig('corr_matrix_all.eps', format='eps')"
   ]
  },
  {
   "cell_type": "code",
   "execution_count": null,
   "id": "original-senator",
   "metadata": {
    "papermill": {
     "duration": 0.012724,
     "end_time": "2021-09-03T01:56:10.676012",
     "exception": false,
     "start_time": "2021-09-03T01:56:10.663288",
     "status": "completed"
    },
    "tags": []
   },
   "outputs": [],
   "source": []
  },
  {
   "cell_type": "code",
   "execution_count": null,
   "id": "saving-secretariat",
   "metadata": {
    "papermill": {
     "duration": 0.012758,
     "end_time": "2021-09-03T01:56:10.701547",
     "exception": false,
     "start_time": "2021-09-03T01:56:10.688789",
     "status": "completed"
    },
    "tags": []
   },
   "outputs": [],
   "source": []
  }
 ],
 "metadata": {
  "kernelspec": {
   "display_name": "Python 3",
   "language": "python",
   "name": "python3"
  },
  "language_info": {
   "codemirror_mode": {
    "name": "ipython",
    "version": 3
   },
   "file_extension": ".py",
   "mimetype": "text/x-python",
   "name": "python",
   "nbconvert_exporter": "python",
   "pygments_lexer": "ipython3",
   "version": "3.6.14"
  },
  "papermill": {
   "default_parameters": {},
   "duration": 17.378029,
   "end_time": "2021-09-03T01:56:11.223054",
   "environment_variables": {},
   "exception": null,
   "input_path": "App-Correlation_charts.ipynb",
   "output_path": "App-Correlation_charts.ipynb",
   "parameters": {},
   "start_time": "2021-09-03T01:55:53.845025",
   "version": "2.2.2"
  }
 },
 "nbformat": 4,
 "nbformat_minor": 5
}