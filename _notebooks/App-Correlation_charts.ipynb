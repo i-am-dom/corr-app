{
 "cells": [
  {
   "cell_type": "markdown",
   "id": "touched-facility",
   "metadata": {
    "papermill": {
     "duration": 0.017355,
     "end_time": "2022-04-21T03:02:50.478610",
     "exception": false,
     "start_time": "2022-04-21T03:02:50.461255",
     "status": "completed"
    },
    "tags": []
   },
   "source": [
    "# Koreliacijų matrica\n",
    "> Išplėstinė koreliacijų matrica. \n",
    "\n",
    "- toc: true \n",
    "- badges: true\n",
    "- comments: false\n",
    "- categories: [Dominykas Tautkus]\n",
    "- image: images/matrix.png"
   ]
  },
  {
   "cell_type": "code",
   "execution_count": null,
   "id": "premium-weekend",
   "metadata": {
    "papermill": {
     "duration": 0.012708,
     "end_time": "2022-04-21T03:02:50.504376",
     "exception": false,
     "start_time": "2022-04-21T03:02:50.491668",
     "status": "completed"
    },
    "tags": []
   },
   "outputs": [],
   "source": []
  },
  {
   "cell_type": "code",
   "execution_count": 1,
   "id": "vertical-rebate",
   "metadata": {
    "execution": {
     "iopub.execute_input": "2022-04-21T03:02:50.541261Z",
     "iopub.status.busy": "2022-04-21T03:02:50.539815Z",
     "iopub.status.idle": "2022-04-21T03:02:50.552277Z",
     "shell.execute_reply": "2022-04-21T03:02:50.551757Z"
    },
    "papermill": {
     "duration": 0.035992,
     "end_time": "2022-04-21T03:02:50.552426",
     "exception": false,
     "start_time": "2022-04-21T03:02:50.516434",
     "status": "completed"
    },
    "tags": []
   },
   "outputs": [],
   "source": [
    "#hide\n",
    "%load_ext autoreload\n",
    "%autoreload 2"
   ]
  },
  {
   "cell_type": "code",
   "execution_count": 2,
   "id": "overall-advancement",
   "metadata": {
    "execution": {
     "iopub.execute_input": "2022-04-21T03:02:50.582604Z",
     "iopub.status.busy": "2022-04-21T03:02:50.581994Z",
     "iopub.status.idle": "2022-04-21T03:02:52.101735Z",
     "shell.execute_reply": "2022-04-21T03:02:52.101167Z"
    },
    "papermill": {
     "duration": 1.537379,
     "end_time": "2022-04-21T03:02:52.101885",
     "exception": false,
     "start_time": "2022-04-21T03:02:50.564506",
     "status": "completed"
    },
    "tags": []
   },
   "outputs": [],
   "source": [
    "#hide\n",
    "from scripts.read_data import read_api\n",
    "from IPython.display import HTML\n",
    "import plotly.graph_objects as go\n"
   ]
  },
  {
   "cell_type": "code",
   "execution_count": 3,
   "id": "light-crazy",
   "metadata": {
    "execution": {
     "iopub.execute_input": "2022-04-21T03:02:52.134124Z",
     "iopub.status.busy": "2022-04-21T03:02:52.132745Z",
     "iopub.status.idle": "2022-04-21T03:02:52.159772Z",
     "shell.execute_reply": "2022-04-21T03:02:52.159137Z"
    },
    "papermill": {
     "duration": 0.045146,
     "end_time": "2022-04-21T03:02:52.159923",
     "exception": false,
     "start_time": "2022-04-21T03:02:52.114777",
     "status": "completed"
    },
    "tags": []
   },
   "outputs": [],
   "source": [
    "#hide\n",
    "### ICO koreliacija"
   ]
  },
  {
   "cell_type": "code",
   "execution_count": 4,
   "id": "likely-bahrain",
   "metadata": {
    "execution": {
     "iopub.execute_input": "2022-04-21T03:02:52.191276Z",
     "iopub.status.busy": "2022-04-21T03:02:52.190663Z",
     "iopub.status.idle": "2022-04-21T03:02:53.187524Z",
     "shell.execute_reply": "2022-04-21T03:02:53.186918Z"
    },
    "papermill": {
     "duration": 1.0156,
     "end_time": "2022-04-21T03:02:53.187681",
     "exception": false,
     "start_time": "2022-04-21T03:02:52.172081",
     "status": "completed"
    },
    "tags": []
   },
   "outputs": [],
   "source": [
    "#hide\n",
    "import matplotlib.pyplot as plt\n",
    "import numpy as np\n",
    "import pandas as pd\n",
    "import seaborn as sns\n",
    "import matplotlib.pyplot as plt \n",
    "import matplotlib.dates as mdates\n",
    "import matplotlib.pyplot as plt"
   ]
  },
  {
   "cell_type": "code",
   "execution_count": 5,
   "id": "superior-blanket",
   "metadata": {
    "execution": {
     "iopub.execute_input": "2022-04-21T03:02:53.220751Z",
     "iopub.status.busy": "2022-04-21T03:02:53.218730Z",
     "iopub.status.idle": "2022-04-21T03:03:04.504892Z",
     "shell.execute_reply": "2022-04-21T03:03:04.504306Z"
    },
    "papermill": {
     "duration": 11.304343,
     "end_time": "2022-04-21T03:03:04.505035",
     "exception": false,
     "start_time": "2022-04-21T03:02:53.200692",
     "status": "completed"
    },
    "tags": []
   },
   "outputs": [
    {
     "name": "stderr",
     "output_type": "stream",
     "text": [
      "/home/runner/work/corr-app/corr-app/_notebooks/scripts/read_data.py:187: SettingWithCopyWarning:\n",
      "\n",
      "\n",
      "A value is trying to be set on a copy of a slice from a DataFrame.\n",
      "Try using .loc[row_indexer,col_indexer] = value instead\n",
      "\n",
      "See the caveats in the documentation: https://pandas.pydata.org/pandas-docs/stable/user_guide/indexing.html#returning-a-view-versus-a-copy\n",
      "\n"
     ]
    },
    {
     "name": "stderr",
     "output_type": "stream",
     "text": [
      "/home/runner/work/corr-app/corr-app/_notebooks/scripts/read_data.py:215: SettingWithCopyWarning:\n",
      "\n",
      "\n",
      "A value is trying to be set on a copy of a slice from a DataFrame.\n",
      "Try using .loc[row_indexer,col_indexer] = value instead\n",
      "\n",
      "See the caveats in the documentation: https://pandas.pydata.org/pandas-docs/stable/user_guide/indexing.html#returning-a-view-versus-a-copy\n",
      "\n"
     ]
    }
   ],
   "source": [
    "#hide\n",
    "df_all = read_api()\n",
    "#df_all = df_all.drop(['SP500', 'XAU', 'ETH', 'BTC'], axis=1)\n",
    "\n"
   ]
  },
  {
   "cell_type": "code",
   "execution_count": 6,
   "id": "mature-alert",
   "metadata": {
    "execution": {
     "iopub.execute_input": "2022-04-21T03:03:04.539069Z",
     "iopub.status.busy": "2022-04-21T03:03:04.538048Z",
     "iopub.status.idle": "2022-04-21T03:03:04.577871Z",
     "shell.execute_reply": "2022-04-21T03:03:04.577354Z"
    },
    "papermill": {
     "duration": 0.059214,
     "end_time": "2022-04-21T03:03:04.578012",
     "exception": false,
     "start_time": "2022-04-21T03:03:04.518798",
     "status": "completed"
    },
    "tags": []
   },
   "outputs": [],
   "source": [
    "#hide_input\n",
    "sum_corr = df_all.corr().sum().sort_values(ascending=True).index.values\n",
    "#df_all[sum_corr].corr()"
   ]
  },
  {
   "cell_type": "markdown",
   "id": "complex-syndicate",
   "metadata": {
    "papermill": {
     "duration": 0.012805,
     "end_time": "2022-04-21T03:03:04.603699",
     "exception": false,
     "start_time": "2022-04-21T03:03:04.590894",
     "status": "completed"
    },
    "tags": []
   },
   "source": [
    "## Išplėstinė koreliacijų matrica. "
   ]
  },
  {
   "cell_type": "code",
   "execution_count": 7,
   "id": "atomic-omaha",
   "metadata": {
    "execution": {
     "iopub.execute_input": "2022-04-21T03:03:04.634087Z",
     "iopub.status.busy": "2022-04-21T03:03:04.633485Z",
     "iopub.status.idle": "2022-04-21T03:03:06.067254Z",
     "shell.execute_reply": "2022-04-21T03:03:06.067716Z"
    },
    "papermill": {
     "duration": 1.451433,
     "end_time": "2022-04-21T03:03:06.067880",
     "exception": false,
     "start_time": "2022-04-21T03:03:04.616447",
     "status": "completed"
    },
    "tags": []
   },
   "outputs": [
    {
     "data": {
      "image/png": "[encoded data removed]",
      "text/plain": [
       "<Figure size 1080x792 with 2 Axes>"
      ]
     },
     "metadata": {
      "needs_background": "light"
     },
     "output_type": "display_data"
    }
   ],
   "source": [
    "#hide_input\n",
    "plt.figure(figsize=(15, 11))\n",
    "sns.heatmap(df_all[sum_corr].corr(), annot=True, cmap=\"cubehelix\") \n",
    "sns.set(font_scale=1.25)\n",
    "plt.savefig('corr_matrix.png', format='eps')"
   ]
  },
  {
   "cell_type": "code",
   "execution_count": 8,
   "id": "arbitrary-sullivan",
   "metadata": {
    "execution": {
     "iopub.execute_input": "2022-04-21T03:03:06.103978Z",
     "iopub.status.busy": "2022-04-21T03:03:06.103304Z",
     "iopub.status.idle": "2022-04-21T03:03:06.135183Z",
     "shell.execute_reply": "2022-04-21T03:03:06.134619Z"
    },
    "papermill": {
     "duration": 0.051597,
     "end_time": "2022-04-21T03:03:06.135318",
     "exception": false,
     "start_time": "2022-04-21T03:03:06.083721",
     "status": "completed"
    },
    "tags": []
   },
   "outputs": [],
   "source": [
    "#hide\n",
    "#df_all_mrk = read_api()"
   ]
  },
  {
   "cell_type": "code",
   "execution_count": 9,
   "id": "delayed-adapter",
   "metadata": {
    "execution": {
     "iopub.execute_input": "2022-04-21T03:03:06.170420Z",
     "iopub.status.busy": "2022-04-21T03:03:06.169667Z",
     "iopub.status.idle": "2022-04-21T03:03:06.200961Z",
     "shell.execute_reply": "2022-04-21T03:03:06.201555Z"
    },
    "papermill": {
     "duration": 0.051032,
     "end_time": "2022-04-21T03:03:06.201753",
     "exception": false,
     "start_time": "2022-04-21T03:03:06.150721",
     "status": "completed"
    },
    "tags": []
   },
   "outputs": [],
   "source": [
    "#hide\n",
    "#Koreliacijų koeficientai"
   ]
  },
  {
   "cell_type": "code",
   "execution_count": 10,
   "id": "seeing-celebration",
   "metadata": {
    "execution": {
     "iopub.execute_input": "2022-04-21T03:03:06.249927Z",
     "iopub.status.busy": "2022-04-21T03:03:06.246967Z",
     "iopub.status.idle": "2022-04-21T03:03:06.274247Z",
     "shell.execute_reply": "2022-04-21T03:03:06.273534Z"
    },
    "papermill": {
     "duration": 0.05488,
     "end_time": "2022-04-21T03:03:06.274398",
     "exception": false,
     "start_time": "2022-04-21T03:03:06.219518",
     "status": "completed"
    },
    "tags": []
   },
   "outputs": [],
   "source": [
    "#hide_input\n",
    "#sum_corr = df_all_mrk.corr().sum().sort_values(ascending=True).index.values\n",
    "#df_all_mrk[sum_corr].corr()"
   ]
  },
  {
   "cell_type": "code",
   "execution_count": 11,
   "id": "other-painting",
   "metadata": {
    "execution": {
     "iopub.execute_input": "2022-04-21T03:03:06.317985Z",
     "iopub.status.busy": "2022-04-21T03:03:06.309653Z",
     "iopub.status.idle": "2022-04-21T03:03:06.343072Z",
     "shell.execute_reply": "2022-04-21T03:03:06.342525Z"
    },
    "papermill": {
     "duration": 0.052066,
     "end_time": "2022-04-21T03:03:06.343209",
     "exception": false,
     "start_time": "2022-04-21T03:03:06.291143",
     "status": "completed"
    },
    "tags": []
   },
   "outputs": [],
   "source": [
    "#hide\n",
    "#Koreliacijos matrica. "
   ]
  },
  {
   "cell_type": "code",
   "execution_count": 12,
   "id": "modular-magnitude",
   "metadata": {
    "execution": {
     "iopub.execute_input": "2022-04-21T03:03:06.379661Z",
     "iopub.status.busy": "2022-04-21T03:03:06.379025Z",
     "iopub.status.idle": "2022-04-21T03:03:06.410143Z",
     "shell.execute_reply": "2022-04-21T03:03:06.410643Z"
    },
    "papermill": {
     "duration": 0.052125,
     "end_time": "2022-04-21T03:03:06.410806",
     "exception": false,
     "start_time": "2022-04-21T03:03:06.358681",
     "status": "completed"
    },
    "tags": []
   },
   "outputs": [],
   "source": [
    "#hide_input\n",
    "#plt.figure(figsize=(15, 8))\n",
    "#sns.heatmap(df_all_mrk[sum_corr].corr(), annot=True, cmap=\"BrBG\");\n",
    "#plt.savefig('corr_matrix_all.eps', format='eps')"
   ]
  },
  {
   "cell_type": "code",
   "execution_count": null,
   "id": "original-senator",
   "metadata": {
    "papermill": {
     "duration": 0.015294,
     "end_time": "2022-04-21T03:03:06.441494",
     "exception": false,
     "start_time": "2022-04-21T03:03:06.426200",
     "status": "completed"
    },
    "tags": []
   },
   "outputs": [],
   "source": []
  },
  {
   "cell_type": "code",
   "execution_count": null,
   "id": "saving-secretariat",
   "metadata": {
    "papermill": {
     "duration": 0.015229,
     "end_time": "2022-04-21T03:03:06.471900",
     "exception": false,
     "start_time": "2022-04-21T03:03:06.456671",
     "status": "completed"
    },
    "tags": []
   },
   "outputs": [],
   "source": []
  }
 ],
 "metadata": {
  "kernelspec": {
   "display_name": "Python 3",
   "language": "python",
   "name": "python3"
  },
  "language_info": {
   "codemirror_mode": {
    "name": "ipython",
    "version": 3
   },
   "file_extension": ".py",
   "mimetype": "text/x-python",
   "name": "python",
   "nbconvert_exporter": "python",
   "pygments_lexer": "ipython3",
   "version": "3.6.15"
  },
  "papermill": {
   "default_parameters": {},
   "duration": 17.947202,
   "end_time": "2022-04-21T03:03:07.107280",
   "environment_variables": {},
   "exception": null,
   "input_path": "App-Correlation_charts.ipynb",
   "output_path": "App-Correlation_charts.ipynb",
   "parameters": {},
   "start_time": "2022-04-21T03:02:49.160078",
   "version": "2.2.2"
  }
 },
 "nbformat": 4,
 "nbformat_minor": 5
}