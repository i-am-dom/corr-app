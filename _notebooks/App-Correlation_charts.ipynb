{
 "cells": [
  {
   "cell_type": "markdown",
   "id": "touched-facility",
   "metadata": {
    "papermill": {
     "duration": 0.017026,
     "end_time": "2022-02-11T02:01:58.979861",
     "exception": false,
     "start_time": "2022-02-11T02:01:58.962835",
     "status": "completed"
    },
    "tags": []
   },
   "source": [
    "# Koreliacijų matrica\n",
    "> Išplėstinė koreliacijų matrica. \n",
    "\n",
    "- toc: true \n",
    "- badges: true\n",
    "- comments: false\n",
    "- categories: [Dominykas Tautkus]\n",
    "- image: images/matrix.png"
   ]
  },
  {
   "cell_type": "code",
   "execution_count": null,
   "id": "premium-weekend",
   "metadata": {
    "papermill": {
     "duration": 0.01269,
     "end_time": "2022-02-11T02:01:59.006456",
     "exception": false,
     "start_time": "2022-02-11T02:01:58.993766",
     "status": "completed"
    },
    "tags": []
   },
   "outputs": [],
   "source": []
  },
  {
   "cell_type": "code",
   "execution_count": 1,
   "id": "vertical-rebate",
   "metadata": {
    "execution": {
     "iopub.execute_input": "2022-02-11T02:01:59.045993Z",
     "iopub.status.busy": "2022-02-11T02:01:59.045355Z",
     "iopub.status.idle": "2022-02-11T02:01:59.057626Z",
     "shell.execute_reply": "2022-02-11T02:01:59.057099Z"
    },
    "papermill": {
     "duration": 0.038741,
     "end_time": "2022-02-11T02:01:59.057770",
     "exception": false,
     "start_time": "2022-02-11T02:01:59.019029",
     "status": "completed"
    },
    "tags": []
   },
   "outputs": [],
   "source": [
    "#hide\n",
    "%load_ext autoreload\n",
    "%autoreload 2"
   ]
  },
  {
   "cell_type": "code",
   "execution_count": 2,
   "id": "overall-advancement",
   "metadata": {
    "execution": {
     "iopub.execute_input": "2022-02-11T02:01:59.087497Z",
     "iopub.status.busy": "2022-02-11T02:01:59.086880Z",
     "iopub.status.idle": "2022-02-11T02:02:00.745721Z",
     "shell.execute_reply": "2022-02-11T02:02:00.744690Z"
    },
    "papermill": {
     "duration": 1.675502,
     "end_time": "2022-02-11T02:02:00.745881",
     "exception": false,
     "start_time": "2022-02-11T02:01:59.070379",
     "status": "completed"
    },
    "tags": []
   },
   "outputs": [],
   "source": [
    "#hide\n",
    "from scripts.read_data import read_api\n",
    "from IPython.display import HTML\n",
    "import plotly.graph_objects as go\n"
   ]
  },
  {
   "cell_type": "code",
   "execution_count": 3,
   "id": "light-crazy",
   "metadata": {
    "execution": {
     "iopub.execute_input": "2022-02-11T02:02:00.778894Z",
     "iopub.status.busy": "2022-02-11T02:02:00.777053Z",
     "iopub.status.idle": "2022-02-11T02:02:00.802792Z",
     "shell.execute_reply": "2022-02-11T02:02:00.803434Z"
    },
    "papermill": {
     "duration": 0.044704,
     "end_time": "2022-02-11T02:02:00.803632",
     "exception": false,
     "start_time": "2022-02-11T02:02:00.758928",
     "status": "completed"
    },
    "tags": []
   },
   "outputs": [],
   "source": [
    "#hide\n",
    "### ICO koreliacija"
   ]
  },
  {
   "cell_type": "code",
   "execution_count": 4,
   "id": "likely-bahrain",
   "metadata": {
    "execution": {
     "iopub.execute_input": "2022-02-11T02:02:00.836909Z",
     "iopub.status.busy": "2022-02-11T02:02:00.836249Z",
     "iopub.status.idle": "2022-02-11T02:02:01.893343Z",
     "shell.execute_reply": "2022-02-11T02:02:01.893976Z"
    },
    "papermill": {
     "duration": 1.076592,
     "end_time": "2022-02-11T02:02:01.894145",
     "exception": false,
     "start_time": "2022-02-11T02:02:00.817553",
     "status": "completed"
    },
    "tags": []
   },
   "outputs": [],
   "source": [
    "#hide\n",
    "import matplotlib.pyplot as plt\n",
    "import numpy as np\n",
    "import pandas as pd\n",
    "import seaborn as sns\n",
    "import matplotlib.pyplot as plt \n",
    "import matplotlib.dates as mdates\n",
    "import matplotlib.pyplot as plt"
   ]
  },
  {
   "cell_type": "code",
   "execution_count": 5,
   "id": "superior-blanket",
   "metadata": {
    "execution": {
     "iopub.execute_input": "2022-02-11T02:02:01.929897Z",
     "iopub.status.busy": "2022-02-11T02:02:01.929289Z",
     "iopub.status.idle": "2022-02-11T02:02:14.534984Z",
     "shell.execute_reply": "2022-02-11T02:02:14.535850Z"
    },
    "papermill": {
     "duration": 12.626885,
     "end_time": "2022-02-11T02:02:14.536116",
     "exception": false,
     "start_time": "2022-02-11T02:02:01.909231",
     "status": "completed"
    },
    "tags": []
   },
   "outputs": [
    {
     "name": "stderr",
     "output_type": "stream",
     "text": [
      "/home/runner/work/corr-app/corr-app/_notebooks/scripts/read_data.py:187: SettingWithCopyWarning:\n",
      "\n",
      "\n",
      "A value is trying to be set on a copy of a slice from a DataFrame.\n",
      "Try using .loc[row_indexer,col_indexer] = value instead\n",
      "\n",
      "See the caveats in the documentation: https://pandas.pydata.org/pandas-docs/stable/user_guide/indexing.html#returning-a-view-versus-a-copy\n",
      "\n"
     ]
    },
    {
     "name": "stderr",
     "output_type": "stream",
     "text": [
      "/home/runner/work/corr-app/corr-app/_notebooks/scripts/read_data.py:215: SettingWithCopyWarning:\n",
      "\n",
      "\n",
      "A value is trying to be set on a copy of a slice from a DataFrame.\n",
      "Try using .loc[row_indexer,col_indexer] = value instead\n",
      "\n",
      "See the caveats in the documentation: https://pandas.pydata.org/pandas-docs/stable/user_guide/indexing.html#returning-a-view-versus-a-copy\n",
      "\n"
     ]
    }
   ],
   "source": [
    "#hide\n",
    "df_all = read_api()\n",
    "#df_all = df_all.drop(['SP500', 'XAU', 'ETH', 'BTC'], axis=1)\n",
    "\n"
   ]
  },
  {
   "cell_type": "code",
   "execution_count": 6,
   "id": "mature-alert",
   "metadata": {
    "execution": {
     "iopub.execute_input": "2022-02-11T02:02:14.569332Z",
     "iopub.status.busy": "2022-02-11T02:02:14.568683Z",
     "iopub.status.idle": "2022-02-11T02:02:14.605713Z",
     "shell.execute_reply": "2022-02-11T02:02:14.604996Z"
    },
    "papermill": {
     "duration": 0.055445,
     "end_time": "2022-02-11T02:02:14.605877",
     "exception": false,
     "start_time": "2022-02-11T02:02:14.550432",
     "status": "completed"
    },
    "tags": []
   },
   "outputs": [],
   "source": [
    "#hide_input\n",
    "sum_corr = df_all.corr().sum().sort_values(ascending=True).index.values\n",
    "#df_all[sum_corr].corr()"
   ]
  },
  {
   "cell_type": "markdown",
   "id": "complex-syndicate",
   "metadata": {
    "papermill": {
     "duration": 0.013313,
     "end_time": "2022-02-11T02:02:14.632999",
     "exception": false,
     "start_time": "2022-02-11T02:02:14.619686",
     "status": "completed"
    },
    "tags": []
   },
   "source": [
    "## Išplėstinė koreliacijų matrica. "
   ]
  },
  {
   "cell_type": "code",
   "execution_count": 7,
   "id": "atomic-omaha",
   "metadata": {
    "execution": {
     "iopub.execute_input": "2022-02-11T02:02:14.664853Z",
     "iopub.status.busy": "2022-02-11T02:02:14.664179Z",
     "iopub.status.idle": "2022-02-11T02:02:16.170504Z",
     "shell.execute_reply": "2022-02-11T02:02:16.171006Z"
    },
    "papermill": {
     "duration": 1.524814,
     "end_time": "2022-02-11T02:02:16.171162",
     "exception": false,
     "start_time": "2022-02-11T02:02:14.646348",
     "status": "completed"
    },
    "tags": []
   },
   "outputs": [
    {
     "data": {
      "image/png": "[encoded data removed]",
      "text/plain": [
       "<Figure size 1080x792 with 2 Axes>"
      ]
     },
     "metadata": {
      "needs_background": "light"
     },
     "output_type": "display_data"
    }
   ],
   "source": [
    "#hide_input\n",
    "plt.figure(figsize=(15, 11))\n",
    "sns.heatmap(df_all[sum_corr].corr(), annot=True, cmap=\"cubehelix\") \n",
    "sns.set(font_scale=1.25)\n",
    "plt.savefig('corr_matrix.png', format='eps')"
   ]
  },
  {
   "cell_type": "code",
   "execution_count": 8,
   "id": "arbitrary-sullivan",
   "metadata": {
    "execution": {
     "iopub.execute_input": "2022-02-11T02:02:16.208593Z",
     "iopub.status.busy": "2022-02-11T02:02:16.207953Z",
     "iopub.status.idle": "2022-02-11T02:02:16.241210Z",
     "shell.execute_reply": "2022-02-11T02:02:16.240659Z"
    },
    "papermill": {
     "duration": 0.054038,
     "end_time": "2022-02-11T02:02:16.241337",
     "exception": false,
     "start_time": "2022-02-11T02:02:16.187299",
     "status": "completed"
    },
    "tags": []
   },
   "outputs": [],
   "source": [
    "#hide\n",
    "#df_all_mrk = read_api()"
   ]
  },
  {
   "cell_type": "code",
   "execution_count": 9,
   "id": "delayed-adapter",
   "metadata": {
    "execution": {
     "iopub.execute_input": "2022-02-11T02:02:16.277656Z",
     "iopub.status.busy": "2022-02-11T02:02:16.277035Z",
     "iopub.status.idle": "2022-02-11T02:02:16.309765Z",
     "shell.execute_reply": "2022-02-11T02:02:16.309013Z"
    },
    "papermill": {
     "duration": 0.052696,
     "end_time": "2022-02-11T02:02:16.309937",
     "exception": false,
     "start_time": "2022-02-11T02:02:16.257241",
     "status": "completed"
    },
    "tags": []
   },
   "outputs": [],
   "source": [
    "#hide\n",
    "#Koreliacijų koeficientai"
   ]
  },
  {
   "cell_type": "code",
   "execution_count": 10,
   "id": "seeing-celebration",
   "metadata": {
    "execution": {
     "iopub.execute_input": "2022-02-11T02:02:16.353143Z",
     "iopub.status.busy": "2022-02-11T02:02:16.352460Z",
     "iopub.status.idle": "2022-02-11T02:02:16.381046Z",
     "shell.execute_reply": "2022-02-11T02:02:16.380452Z"
    },
    "papermill": {
     "duration": 0.053521,
     "end_time": "2022-02-11T02:02:16.381180",
     "exception": false,
     "start_time": "2022-02-11T02:02:16.327659",
     "status": "completed"
    },
    "tags": []
   },
   "outputs": [],
   "source": [
    "#hide_input\n",
    "#sum_corr = df_all_mrk.corr().sum().sort_values(ascending=True).index.values\n",
    "#df_all_mrk[sum_corr].corr()"
   ]
  },
  {
   "cell_type": "code",
   "execution_count": 11,
   "id": "other-painting",
   "metadata": {
    "execution": {
     "iopub.execute_input": "2022-02-11T02:02:16.421388Z",
     "iopub.status.busy": "2022-02-11T02:02:16.419289Z",
     "iopub.status.idle": "2022-02-11T02:02:16.450186Z",
     "shell.execute_reply": "2022-02-11T02:02:16.449643Z"
    },
    "papermill": {
     "duration": 0.053009,
     "end_time": "2022-02-11T02:02:16.450317",
     "exception": false,
     "start_time": "2022-02-11T02:02:16.397308",
     "status": "completed"
    },
    "tags": []
   },
   "outputs": [],
   "source": [
    "#hide\n",
    "#Koreliacijos matrica. "
   ]
  },
  {
   "cell_type": "code",
   "execution_count": 12,
   "id": "modular-magnitude",
   "metadata": {
    "execution": {
     "iopub.execute_input": "2022-02-11T02:02:16.489450Z",
     "iopub.status.busy": "2022-02-11T02:02:16.488826Z",
     "iopub.status.idle": "2022-02-11T02:02:16.524794Z",
     "shell.execute_reply": "2022-02-11T02:02:16.524052Z"
    },
    "papermill": {
     "duration": 0.057014,
     "end_time": "2022-02-11T02:02:16.524938",
     "exception": false,
     "start_time": "2022-02-11T02:02:16.467924",
     "status": "completed"
    },
    "tags": []
   },
   "outputs": [],
   "source": [
    "#hide_input\n",
    "#plt.figure(figsize=(15, 8))\n",
    "#sns.heatmap(df_all_mrk[sum_corr].corr(), annot=True, cmap=\"BrBG\");\n",
    "#plt.savefig('corr_matrix_all.eps', format='eps')"
   ]
  },
  {
   "cell_type": "code",
   "execution_count": null,
   "id": "original-senator",
   "metadata": {
    "papermill": {
     "duration": 0.015819,
     "end_time": "2022-02-11T02:02:16.556716",
     "exception": false,
     "start_time": "2022-02-11T02:02:16.540897",
     "status": "completed"
    },
    "tags": []
   },
   "outputs": [],
   "source": []
  },
  {
   "cell_type": "code",
   "execution_count": null,
   "id": "saving-secretariat",
   "metadata": {
    "papermill": {
     "duration": 0.015748,
     "end_time": "2022-02-11T02:02:16.588471",
     "exception": false,
     "start_time": "2022-02-11T02:02:16.572723",
     "status": "completed"
    },
    "tags": []
   },
   "outputs": [],
   "source": []
  }
 ],
 "metadata": {
  "kernelspec": {
   "display_name": "Python 3",
   "language": "python",
   "name": "python3"
  },
  "language_info": {
   "codemirror_mode": {
    "name": "ipython",
    "version": 3
   },
   "file_extension": ".py",
   "mimetype": "text/x-python",
   "name": "python",
   "nbconvert_exporter": "python",
   "pygments_lexer": "ipython3",
   "version": "3.6.15"
  },
  "papermill": {
   "default_parameters": {},
   "duration": 19.476694,
   "end_time": "2022-02-11T02:02:17.125764",
   "environment_variables": {},
   "exception": null,
   "input_path": "App-Correlation_charts.ipynb",
   "output_path": "App-Correlation_charts.ipynb",
   "parameters": {},
   "start_time": "2022-02-11T02:01:57.649070",
   "version": "2.2.2"
  }
 },
 "nbformat": 4,
 "nbformat_minor": 5
}