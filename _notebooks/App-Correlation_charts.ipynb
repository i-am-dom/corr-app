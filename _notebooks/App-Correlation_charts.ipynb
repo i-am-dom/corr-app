{
 "cells": [
  {
   "cell_type": "markdown",
   "id": "touched-facility",
   "metadata": {
    "papermill": {
     "duration": 0.017181,
     "end_time": "2021-11-18T01:58:13.604651",
     "exception": false,
     "start_time": "2021-11-18T01:58:13.587470",
     "status": "completed"
    },
    "tags": []
   },
   "source": [
    "# Koreliacijų matrica\n",
    "> Išplėstinė koreliacijų matrica. \n",
    "\n",
    "- toc: true \n",
    "- badges: true\n",
    "- comments: false\n",
    "- categories: [Dominykas Tautkus]\n",
    "- image: images/matrix.png"
   ]
  },
  {
   "cell_type": "code",
   "execution_count": null,
   "id": "premium-weekend",
   "metadata": {
    "papermill": {
     "duration": 0.013514,
     "end_time": "2021-11-18T01:58:13.632308",
     "exception": false,
     "start_time": "2021-11-18T01:58:13.618794",
     "status": "completed"
    },
    "tags": []
   },
   "outputs": [],
   "source": []
  },
  {
   "cell_type": "code",
   "execution_count": 1,
   "id": "vertical-rebate",
   "metadata": {
    "execution": {
     "iopub.execute_input": "2021-11-18T01:58:13.671179Z",
     "iopub.status.busy": "2021-11-18T01:58:13.670500Z",
     "iopub.status.idle": "2021-11-18T01:58:13.687502Z",
     "shell.execute_reply": "2021-11-18T01:58:13.686927Z"
    },
    "papermill": {
     "duration": 0.041883,
     "end_time": "2021-11-18T01:58:13.687647",
     "exception": false,
     "start_time": "2021-11-18T01:58:13.645764",
     "status": "completed"
    },
    "tags": []
   },
   "outputs": [],
   "source": [
    "#hide\n",
    "%load_ext autoreload\n",
    "%autoreload 2"
   ]
  },
  {
   "cell_type": "code",
   "execution_count": 2,
   "id": "overall-advancement",
   "metadata": {
    "execution": {
     "iopub.execute_input": "2021-11-18T01:58:13.719448Z",
     "iopub.status.busy": "2021-11-18T01:58:13.718725Z",
     "iopub.status.idle": "2021-11-18T01:58:15.331082Z",
     "shell.execute_reply": "2021-11-18T01:58:15.330515Z"
    },
    "papermill": {
     "duration": 1.630146,
     "end_time": "2021-11-18T01:58:15.331234",
     "exception": false,
     "start_time": "2021-11-18T01:58:13.701088",
     "status": "completed"
    },
    "tags": []
   },
   "outputs": [],
   "source": [
    "#hide\n",
    "from scripts.read_data import read_api\n",
    "from IPython.display import HTML\n",
    "import plotly.graph_objects as go\n"
   ]
  },
  {
   "cell_type": "code",
   "execution_count": 3,
   "id": "light-crazy",
   "metadata": {
    "execution": {
     "iopub.execute_input": "2021-11-18T01:58:15.365538Z",
     "iopub.status.busy": "2021-11-18T01:58:15.364860Z",
     "iopub.status.idle": "2021-11-18T01:58:15.387493Z",
     "shell.execute_reply": "2021-11-18T01:58:15.386825Z"
    },
    "papermill": {
     "duration": 0.042391,
     "end_time": "2021-11-18T01:58:15.387625",
     "exception": false,
     "start_time": "2021-11-18T01:58:15.345234",
     "status": "completed"
    },
    "tags": []
   },
   "outputs": [],
   "source": [
    "#hide\n",
    "### ICO koreliacija"
   ]
  },
  {
   "cell_type": "code",
   "execution_count": 4,
   "id": "likely-bahrain",
   "metadata": {
    "execution": {
     "iopub.execute_input": "2021-11-18T01:58:15.418096Z",
     "iopub.status.busy": "2021-11-18T01:58:15.417400Z",
     "iopub.status.idle": "2021-11-18T01:58:16.563616Z",
     "shell.execute_reply": "2021-11-18T01:58:16.562554Z"
    },
    "papermill": {
     "duration": 1.16367,
     "end_time": "2021-11-18T01:58:16.563762",
     "exception": false,
     "start_time": "2021-11-18T01:58:15.400092",
     "status": "completed"
    },
    "tags": []
   },
   "outputs": [],
   "source": [
    "#hide\n",
    "import matplotlib.pyplot as plt\n",
    "import numpy as np\n",
    "import pandas as pd\n",
    "import seaborn as sns\n",
    "import matplotlib.pyplot as plt \n",
    "import matplotlib.dates as mdates\n",
    "import matplotlib.pyplot as plt"
   ]
  },
  {
   "cell_type": "code",
   "execution_count": 5,
   "id": "superior-blanket",
   "metadata": {
    "execution": {
     "iopub.execute_input": "2021-11-18T01:58:16.595988Z",
     "iopub.status.busy": "2021-11-18T01:58:16.594754Z",
     "iopub.status.idle": "2021-11-18T01:58:29.855065Z",
     "shell.execute_reply": "2021-11-18T01:58:29.854468Z"
    },
    "papermill": {
     "duration": 13.276427,
     "end_time": "2021-11-18T01:58:29.855198",
     "exception": false,
     "start_time": "2021-11-18T01:58:16.578771",
     "status": "completed"
    },
    "tags": []
   },
   "outputs": [
    {
     "name": "stderr",
     "output_type": "stream",
     "text": [
      "/home/runner/work/corr-app/corr-app/_notebooks/scripts/read_data.py:187: SettingWithCopyWarning:\n",
      "\n",
      "\n",
      "A value is trying to be set on a copy of a slice from a DataFrame.\n",
      "Try using .loc[row_indexer,col_indexer] = value instead\n",
      "\n",
      "See the caveats in the documentation: https://pandas.pydata.org/pandas-docs/stable/user_guide/indexing.html#returning-a-view-versus-a-copy\n",
      "\n"
     ]
    },
    {
     "name": "stderr",
     "output_type": "stream",
     "text": [
      "/home/runner/work/corr-app/corr-app/_notebooks/scripts/read_data.py:215: SettingWithCopyWarning:\n",
      "\n",
      "\n",
      "A value is trying to be set on a copy of a slice from a DataFrame.\n",
      "Try using .loc[row_indexer,col_indexer] = value instead\n",
      "\n",
      "See the caveats in the documentation: https://pandas.pydata.org/pandas-docs/stable/user_guide/indexing.html#returning-a-view-versus-a-copy\n",
      "\n"
     ]
    }
   ],
   "source": [
    "#hide\n",
    "df_all = read_api()\n",
    "#df_all = df_all.drop(['SP500', 'XAU', 'ETH', 'BTC'], axis=1)\n",
    "\n"
   ]
  },
  {
   "cell_type": "code",
   "execution_count": 6,
   "id": "mature-alert",
   "metadata": {
    "execution": {
     "iopub.execute_input": "2021-11-18T01:58:29.888593Z",
     "iopub.status.busy": "2021-11-18T01:58:29.887059Z",
     "iopub.status.idle": "2021-11-18T01:58:29.921086Z",
     "shell.execute_reply": "2021-11-18T01:58:29.920486Z"
    },
    "papermill": {
     "duration": 0.052769,
     "end_time": "2021-11-18T01:58:29.921237",
     "exception": false,
     "start_time": "2021-11-18T01:58:29.868468",
     "status": "completed"
    },
    "tags": []
   },
   "outputs": [],
   "source": [
    "#hide_input\n",
    "sum_corr = df_all.corr().sum().sort_values(ascending=True).index.values\n",
    "#df_all[sum_corr].corr()"
   ]
  },
  {
   "cell_type": "markdown",
   "id": "complex-syndicate",
   "metadata": {
    "papermill": {
     "duration": 0.01409,
     "end_time": "2021-11-18T01:58:29.949252",
     "exception": false,
     "start_time": "2021-11-18T01:58:29.935162",
     "status": "completed"
    },
    "tags": []
   },
   "source": [
    "## Išplėstinė koreliacijų matrica. "
   ]
  },
  {
   "cell_type": "code",
   "execution_count": 7,
   "id": "atomic-omaha",
   "metadata": {
    "execution": {
     "iopub.execute_input": "2021-11-18T01:58:29.981931Z",
     "iopub.status.busy": "2021-11-18T01:58:29.981268Z",
     "iopub.status.idle": "2021-11-18T01:58:31.588595Z",
     "shell.execute_reply": "2021-11-18T01:58:31.589071Z"
    },
    "papermill": {
     "duration": 1.625888,
     "end_time": "2021-11-18T01:58:31.589238",
     "exception": false,
     "start_time": "2021-11-18T01:58:29.963350",
     "status": "completed"
    },
    "tags": []
   },
   "outputs": [
    {
     "data": {
      "image/png": "[encoded data removed]",
      "text/plain": [
       "<Figure size 1080x792 with 2 Axes>"
      ]
     },
     "metadata": {
      "needs_background": "light"
     },
     "output_type": "display_data"
    }
   ],
   "source": [
    "#hide_input\n",
    "plt.figure(figsize=(15, 11))\n",
    "sns.heatmap(df_all[sum_corr].corr(), annot=True, cmap=\"cubehelix\") \n",
    "sns.set(font_scale=1.25)\n",
    "plt.savefig('corr_matrix.png', format='eps')"
   ]
  },
  {
   "cell_type": "code",
   "execution_count": 8,
   "id": "arbitrary-sullivan",
   "metadata": {
    "execution": {
     "iopub.execute_input": "2021-11-18T01:58:31.629883Z",
     "iopub.status.busy": "2021-11-18T01:58:31.628802Z",
     "iopub.status.idle": "2021-11-18T01:58:31.662502Z",
     "shell.execute_reply": "2021-11-18T01:58:31.663159Z"
    },
    "papermill": {
     "duration": 0.055422,
     "end_time": "2021-11-18T01:58:31.663358",
     "exception": false,
     "start_time": "2021-11-18T01:58:31.607936",
     "status": "completed"
    },
    "tags": []
   },
   "outputs": [],
   "source": [
    "#hide\n",
    "#df_all_mrk = read_api()"
   ]
  },
  {
   "cell_type": "code",
   "execution_count": 9,
   "id": "delayed-adapter",
   "metadata": {
    "execution": {
     "iopub.execute_input": "2021-11-18T01:58:31.706075Z",
     "iopub.status.busy": "2021-11-18T01:58:31.705362Z",
     "iopub.status.idle": "2021-11-18T01:58:31.762633Z",
     "shell.execute_reply": "2021-11-18T01:58:31.763368Z"
    },
    "papermill": {
     "duration": 0.080165,
     "end_time": "2021-11-18T01:58:31.763546",
     "exception": false,
     "start_time": "2021-11-18T01:58:31.683381",
     "status": "completed"
    },
    "tags": []
   },
   "outputs": [],
   "source": [
    "#hide\n",
    "#Koreliacijų koeficientai"
   ]
  },
  {
   "cell_type": "code",
   "execution_count": 10,
   "id": "seeing-celebration",
   "metadata": {
    "execution": {
     "iopub.execute_input": "2021-11-18T01:58:31.806778Z",
     "iopub.status.busy": "2021-11-18T01:58:31.806112Z",
     "iopub.status.idle": "2021-11-18T01:58:31.842983Z",
     "shell.execute_reply": "2021-11-18T01:58:31.841738Z"
    },
    "papermill": {
     "duration": 0.061556,
     "end_time": "2021-11-18T01:58:31.843140",
     "exception": false,
     "start_time": "2021-11-18T01:58:31.781584",
     "status": "completed"
    },
    "tags": []
   },
   "outputs": [],
   "source": [
    "#hide_input\n",
    "#sum_corr = df_all_mrk.corr().sum().sort_values(ascending=True).index.values\n",
    "#df_all_mrk[sum_corr].corr()"
   ]
  },
  {
   "cell_type": "code",
   "execution_count": 11,
   "id": "other-painting",
   "metadata": {
    "execution": {
     "iopub.execute_input": "2021-11-18T01:58:31.883494Z",
     "iopub.status.busy": "2021-11-18T01:58:31.882826Z",
     "iopub.status.idle": "2021-11-18T01:58:31.923551Z",
     "shell.execute_reply": "2021-11-18T01:58:31.924109Z"
    },
    "papermill": {
     "duration": 0.064138,
     "end_time": "2021-11-18T01:58:31.924280",
     "exception": false,
     "start_time": "2021-11-18T01:58:31.860142",
     "status": "completed"
    },
    "tags": []
   },
   "outputs": [],
   "source": [
    "#hide\n",
    "#Koreliacijos matrica. "
   ]
  },
  {
   "cell_type": "code",
   "execution_count": 12,
   "id": "modular-magnitude",
   "metadata": {
    "execution": {
     "iopub.execute_input": "2021-11-18T01:58:31.966609Z",
     "iopub.status.busy": "2021-11-18T01:58:31.965507Z",
     "iopub.status.idle": "2021-11-18T01:58:32.000258Z",
     "shell.execute_reply": "2021-11-18T01:58:31.999626Z"
    },
    "papermill": {
     "duration": 0.058408,
     "end_time": "2021-11-18T01:58:32.000405",
     "exception": false,
     "start_time": "2021-11-18T01:58:31.941997",
     "status": "completed"
    },
    "tags": []
   },
   "outputs": [],
   "source": [
    "#hide_input\n",
    "#plt.figure(figsize=(15, 8))\n",
    "#sns.heatmap(df_all_mrk[sum_corr].corr(), annot=True, cmap=\"BrBG\");\n",
    "#plt.savefig('corr_matrix_all.eps', format='eps')"
   ]
  },
  {
   "cell_type": "code",
   "execution_count": null,
   "id": "original-senator",
   "metadata": {
    "papermill": {
     "duration": 0.018803,
     "end_time": "2021-11-18T01:58:32.037518",
     "exception": false,
     "start_time": "2021-11-18T01:58:32.018715",
     "status": "completed"
    },
    "tags": []
   },
   "outputs": [],
   "source": []
  },
  {
   "cell_type": "code",
   "execution_count": null,
   "id": "saving-secretariat",
   "metadata": {
    "papermill": {
     "duration": 0.042604,
     "end_time": "2021-11-18T01:58:32.119744",
     "exception": false,
     "start_time": "2021-11-18T01:58:32.077140",
     "status": "completed"
    },
    "tags": []
   },
   "outputs": [],
   "source": []
  }
 ],
 "metadata": {
  "kernelspec": {
   "display_name": "Python 3",
   "language": "python",
   "name": "python3"
  },
  "language_info": {
   "codemirror_mode": {
    "name": "ipython",
    "version": 3
   },
   "file_extension": ".py",
   "mimetype": "text/x-python",
   "name": "python",
   "nbconvert_exporter": "python",
   "pygments_lexer": "ipython3",
   "version": "3.6.15"
  },
  "papermill": {
   "default_parameters": {},
   "duration": 20.256944,
   "end_time": "2021-11-18T01:58:32.751466",
   "environment_variables": {},
   "exception": null,
   "input_path": "App-Correlation_charts.ipynb",
   "output_path": "App-Correlation_charts.ipynb",
   "parameters": {},
   "start_time": "2021-11-18T01:58:12.494522",
   "version": "2.2.2"
  }
 },
 "nbformat": 4,
 "nbformat_minor": 5
}