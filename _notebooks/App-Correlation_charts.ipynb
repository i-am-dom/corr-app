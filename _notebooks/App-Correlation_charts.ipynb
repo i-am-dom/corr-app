{
 "cells": [
  {
   "cell_type": "markdown",
   "id": "touched-facility",
   "metadata": {
    "papermill": {
     "duration": 0.01846,
     "end_time": "2021-09-11T01:54:38.217463",
     "exception": false,
     "start_time": "2021-09-11T01:54:38.199003",
     "status": "completed"
    },
    "tags": []
   },
   "source": [
    "# Koreliacijų matrica\n",
    "> Išplėstinė koreliacijų matrica. \n",
    "\n",
    "- toc: true \n",
    "- badges: true\n",
    "- comments: false\n",
    "- categories: [Dominykas Tautkus]\n",
    "- image: images/matrix.png"
   ]
  },
  {
   "cell_type": "code",
   "execution_count": null,
   "id": "premium-weekend",
   "metadata": {
    "papermill": {
     "duration": 0.012143,
     "end_time": "2021-09-11T01:54:38.242715",
     "exception": false,
     "start_time": "2021-09-11T01:54:38.230572",
     "status": "completed"
    },
    "tags": []
   },
   "outputs": [],
   "source": []
  },
  {
   "cell_type": "code",
   "execution_count": 1,
   "id": "vertical-rebate",
   "metadata": {
    "execution": {
     "iopub.execute_input": "2021-09-11T01:54:38.280651Z",
     "iopub.status.busy": "2021-09-11T01:54:38.275616Z",
     "iopub.status.idle": "2021-09-11T01:54:38.292961Z",
     "shell.execute_reply": "2021-09-11T01:54:38.292462Z"
    },
    "papermill": {
     "duration": 0.038185,
     "end_time": "2021-09-11T01:54:38.293102",
     "exception": false,
     "start_time": "2021-09-11T01:54:38.254917",
     "status": "completed"
    },
    "tags": []
   },
   "outputs": [],
   "source": [
    "#hide\n",
    "%load_ext autoreload\n",
    "%autoreload 2"
   ]
  },
  {
   "cell_type": "code",
   "execution_count": 2,
   "id": "overall-advancement",
   "metadata": {
    "execution": {
     "iopub.execute_input": "2021-09-11T01:54:38.323964Z",
     "iopub.status.busy": "2021-09-11T01:54:38.323365Z",
     "iopub.status.idle": "2021-09-11T01:54:39.647584Z",
     "shell.execute_reply": "2021-09-11T01:54:39.646847Z"
    },
    "papermill": {
     "duration": 1.342629,
     "end_time": "2021-09-11T01:54:39.647761",
     "exception": false,
     "start_time": "2021-09-11T01:54:38.305132",
     "status": "completed"
    },
    "tags": []
   },
   "outputs": [],
   "source": [
    "#hide\n",
    "from scripts.read_data import read_api\n",
    "from IPython.display import HTML\n",
    "import plotly.graph_objects as go\n"
   ]
  },
  {
   "cell_type": "code",
   "execution_count": 3,
   "id": "light-crazy",
   "metadata": {
    "execution": {
     "iopub.execute_input": "2021-09-11T01:54:39.680345Z",
     "iopub.status.busy": "2021-09-11T01:54:39.679741Z",
     "iopub.status.idle": "2021-09-11T01:54:39.706315Z",
     "shell.execute_reply": "2021-09-11T01:54:39.706834Z"
    },
    "papermill": {
     "duration": 0.044901,
     "end_time": "2021-09-11T01:54:39.706991",
     "exception": false,
     "start_time": "2021-09-11T01:54:39.662090",
     "status": "completed"
    },
    "tags": []
   },
   "outputs": [],
   "source": [
    "#hide\n",
    "### ICO koreliacija"
   ]
  },
  {
   "cell_type": "code",
   "execution_count": 4,
   "id": "likely-bahrain",
   "metadata": {
    "execution": {
     "iopub.execute_input": "2021-09-11T01:54:39.738050Z",
     "iopub.status.busy": "2021-09-11T01:54:39.737455Z",
     "iopub.status.idle": "2021-09-11T01:54:40.658130Z",
     "shell.execute_reply": "2021-09-11T01:54:40.657240Z"
    },
    "papermill": {
     "duration": 0.939417,
     "end_time": "2021-09-11T01:54:40.658349",
     "exception": false,
     "start_time": "2021-09-11T01:54:39.718932",
     "status": "completed"
    },
    "tags": []
   },
   "outputs": [],
   "source": [
    "#hide\n",
    "import matplotlib.pyplot as plt\n",
    "import numpy as np\n",
    "import pandas as pd\n",
    "import seaborn as sns\n",
    "import matplotlib.pyplot as plt \n",
    "import matplotlib.dates as mdates\n",
    "import matplotlib.pyplot as plt"
   ]
  },
  {
   "cell_type": "code",
   "execution_count": 5,
   "id": "superior-blanket",
   "metadata": {
    "execution": {
     "iopub.execute_input": "2021-09-11T01:54:40.688773Z",
     "iopub.status.busy": "2021-09-11T01:54:40.687959Z",
     "iopub.status.idle": "2021-09-11T01:54:52.383899Z",
     "shell.execute_reply": "2021-09-11T01:54:52.382832Z"
    },
    "papermill": {
     "duration": 11.713226,
     "end_time": "2021-09-11T01:54:52.384046",
     "exception": false,
     "start_time": "2021-09-11T01:54:40.670820",
     "status": "completed"
    },
    "tags": []
   },
   "outputs": [
    {
     "name": "stderr",
     "output_type": "stream",
     "text": [
      "/home/runner/work/corr-app/corr-app/_notebooks/scripts/read_data.py:187: SettingWithCopyWarning:\n",
      "\n",
      "\n",
      "A value is trying to be set on a copy of a slice from a DataFrame.\n",
      "Try using .loc[row_indexer,col_indexer] = value instead\n",
      "\n",
      "See the caveats in the documentation: https://pandas.pydata.org/pandas-docs/stable/user_guide/indexing.html#returning-a-view-versus-a-copy\n",
      "\n"
     ]
    },
    {
     "name": "stderr",
     "output_type": "stream",
     "text": [
      "/home/runner/work/corr-app/corr-app/_notebooks/scripts/read_data.py:215: SettingWithCopyWarning:\n",
      "\n",
      "\n",
      "A value is trying to be set on a copy of a slice from a DataFrame.\n",
      "Try using .loc[row_indexer,col_indexer] = value instead\n",
      "\n",
      "See the caveats in the documentation: https://pandas.pydata.org/pandas-docs/stable/user_guide/indexing.html#returning-a-view-versus-a-copy\n",
      "\n"
     ]
    }
   ],
   "source": [
    "#hide\n",
    "df_all = read_api()\n",
    "#df_all = df_all.drop(['SP500', 'XAU', 'ETH', 'BTC'], axis=1)\n",
    "\n"
   ]
  },
  {
   "cell_type": "code",
   "execution_count": 6,
   "id": "mature-alert",
   "metadata": {
    "execution": {
     "iopub.execute_input": "2021-09-11T01:54:52.415948Z",
     "iopub.status.busy": "2021-09-11T01:54:52.413671Z",
     "iopub.status.idle": "2021-09-11T01:54:52.446664Z",
     "shell.execute_reply": "2021-09-11T01:54:52.445828Z"
    },
    "papermill": {
     "duration": 0.04985,
     "end_time": "2021-09-11T01:54:52.446868",
     "exception": false,
     "start_time": "2021-09-11T01:54:52.397018",
     "status": "completed"
    },
    "tags": []
   },
   "outputs": [],
   "source": [
    "#hide_input\n",
    "sum_corr = df_all.corr().sum().sort_values(ascending=True).index.values\n",
    "#df_all[sum_corr].corr()"
   ]
  },
  {
   "cell_type": "markdown",
   "id": "complex-syndicate",
   "metadata": {
    "papermill": {
     "duration": 0.01208,
     "end_time": "2021-09-11T01:54:52.473251",
     "exception": false,
     "start_time": "2021-09-11T01:54:52.461171",
     "status": "completed"
    },
    "tags": []
   },
   "source": [
    "## Išplėstinė koreliacijų matrica. "
   ]
  },
  {
   "cell_type": "code",
   "execution_count": 7,
   "id": "atomic-omaha",
   "metadata": {
    "execution": {
     "iopub.execute_input": "2021-09-11T01:54:52.504067Z",
     "iopub.status.busy": "2021-09-11T01:54:52.503477Z",
     "iopub.status.idle": "2021-09-11T01:54:53.788336Z",
     "shell.execute_reply": "2021-09-11T01:54:53.787720Z"
    },
    "papermill": {
     "duration": 1.302828,
     "end_time": "2021-09-11T01:54:53.788470",
     "exception": false,
     "start_time": "2021-09-11T01:54:52.485642",
     "status": "completed"
    },
    "tags": []
   },
   "outputs": [
    {
     "data": {
      "image/png": "[encoded data removed]",
      "text/plain": [
       "<Figure size 1080x792 with 2 Axes>"
      ]
     },
     "metadata": {
      "needs_background": "light"
     },
     "output_type": "display_data"
    }
   ],
   "source": [
    "#hide_input\n",
    "plt.figure(figsize=(15, 11))\n",
    "sns.heatmap(df_all[sum_corr].corr(), annot=True, cmap=\"cubehelix\") \n",
    "sns.set(font_scale=1.25)\n",
    "plt.savefig('corr_matrix.png', format='eps')"
   ]
  },
  {
   "cell_type": "code",
   "execution_count": 8,
   "id": "arbitrary-sullivan",
   "metadata": {
    "execution": {
     "iopub.execute_input": "2021-09-11T01:54:53.822564Z",
     "iopub.status.busy": "2021-09-11T01:54:53.821695Z",
     "iopub.status.idle": "2021-09-11T01:54:53.850460Z",
     "shell.execute_reply": "2021-09-11T01:54:53.849809Z"
    },
    "papermill": {
     "duration": 0.047113,
     "end_time": "2021-09-11T01:54:53.850638",
     "exception": false,
     "start_time": "2021-09-11T01:54:53.803525",
     "status": "completed"
    },
    "tags": []
   },
   "outputs": [],
   "source": [
    "#hide\n",
    "#df_all_mrk = read_api()"
   ]
  },
  {
   "cell_type": "code",
   "execution_count": 9,
   "id": "delayed-adapter",
   "metadata": {
    "execution": {
     "iopub.execute_input": "2021-09-11T01:54:53.888130Z",
     "iopub.status.busy": "2021-09-11T01:54:53.887543Z",
     "iopub.status.idle": "2021-09-11T01:54:53.915821Z",
     "shell.execute_reply": "2021-09-11T01:54:53.916453Z"
    },
    "papermill": {
     "duration": 0.049643,
     "end_time": "2021-09-11T01:54:53.916650",
     "exception": false,
     "start_time": "2021-09-11T01:54:53.867007",
     "status": "completed"
    },
    "tags": []
   },
   "outputs": [],
   "source": [
    "#hide\n",
    "#Koreliacijų koeficientai"
   ]
  },
  {
   "cell_type": "code",
   "execution_count": 10,
   "id": "seeing-celebration",
   "metadata": {
    "execution": {
     "iopub.execute_input": "2021-09-11T01:54:53.952761Z",
     "iopub.status.busy": "2021-09-11T01:54:53.951664Z",
     "iopub.status.idle": "2021-09-11T01:54:53.979844Z",
     "shell.execute_reply": "2021-09-11T01:54:53.980446Z"
    },
    "papermill": {
     "duration": 0.048246,
     "end_time": "2021-09-11T01:54:53.980623",
     "exception": false,
     "start_time": "2021-09-11T01:54:53.932377",
     "status": "completed"
    },
    "tags": []
   },
   "outputs": [],
   "source": [
    "#hide_input\n",
    "#sum_corr = df_all_mrk.corr().sum().sort_values(ascending=True).index.values\n",
    "#df_all_mrk[sum_corr].corr()"
   ]
  },
  {
   "cell_type": "code",
   "execution_count": 11,
   "id": "other-painting",
   "metadata": {
    "execution": {
     "iopub.execute_input": "2021-09-11T01:54:54.015580Z",
     "iopub.status.busy": "2021-09-11T01:54:54.014977Z",
     "iopub.status.idle": "2021-09-11T01:54:54.046510Z",
     "shell.execute_reply": "2021-09-11T01:54:54.045745Z"
    },
    "papermill": {
     "duration": 0.051216,
     "end_time": "2021-09-11T01:54:54.046715",
     "exception": false,
     "start_time": "2021-09-11T01:54:53.995499",
     "status": "completed"
    },
    "tags": []
   },
   "outputs": [],
   "source": [
    "#hide\n",
    "#Koreliacijos matrica. "
   ]
  },
  {
   "cell_type": "code",
   "execution_count": 12,
   "id": "modular-magnitude",
   "metadata": {
    "execution": {
     "iopub.execute_input": "2021-09-11T01:54:54.082099Z",
     "iopub.status.busy": "2021-09-11T01:54:54.081511Z",
     "iopub.status.idle": "2021-09-11T01:54:54.110166Z",
     "shell.execute_reply": "2021-09-11T01:54:54.110836Z"
    },
    "papermill": {
     "duration": 0.047445,
     "end_time": "2021-09-11T01:54:54.111042",
     "exception": false,
     "start_time": "2021-09-11T01:54:54.063597",
     "status": "completed"
    },
    "tags": []
   },
   "outputs": [],
   "source": [
    "#hide_input\n",
    "#plt.figure(figsize=(15, 8))\n",
    "#sns.heatmap(df_all_mrk[sum_corr].corr(), annot=True, cmap=\"BrBG\");\n",
    "#plt.savefig('corr_matrix_all.eps', format='eps')"
   ]
  },
  {
   "cell_type": "code",
   "execution_count": null,
   "id": "original-senator",
   "metadata": {
    "papermill": {
     "duration": 0.014786,
     "end_time": "2021-09-11T01:54:54.141249",
     "exception": false,
     "start_time": "2021-09-11T01:54:54.126463",
     "status": "completed"
    },
    "tags": []
   },
   "outputs": [],
   "source": []
  },
  {
   "cell_type": "code",
   "execution_count": null,
   "id": "saving-secretariat",
   "metadata": {
    "papermill": {
     "duration": 0.014776,
     "end_time": "2021-09-11T01:54:54.170737",
     "exception": false,
     "start_time": "2021-09-11T01:54:54.155961",
     "status": "completed"
    },
    "tags": []
   },
   "outputs": [],
   "source": []
  }
 ],
 "metadata": {
  "kernelspec": {
   "display_name": "Python 3",
   "language": "python",
   "name": "python3"
  },
  "language_info": {
   "codemirror_mode": {
    "name": "ipython",
    "version": 3
   },
   "file_extension": ".py",
   "mimetype": "text/x-python",
   "name": "python",
   "nbconvert_exporter": "python",
   "pygments_lexer": "ipython3",
   "version": "3.6.14"
  },
  "papermill": {
   "default_parameters": {},
   "duration": 17.568102,
   "end_time": "2021-09-11T01:54:54.695753",
   "environment_variables": {},
   "exception": null,
   "input_path": "App-Correlation_charts.ipynb",
   "output_path": "App-Correlation_charts.ipynb",
   "parameters": {},
   "start_time": "2021-09-11T01:54:37.127651",
   "version": "2.2.2"
  }
 },
 "nbformat": 4,
 "nbformat_minor": 5
}