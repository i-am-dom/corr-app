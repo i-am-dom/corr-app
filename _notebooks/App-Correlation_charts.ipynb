{
 "cells": [
  {
   "cell_type": "markdown",
   "id": "touched-facility",
   "metadata": {
    "papermill": {
     "duration": 0.014835,
     "end_time": "2022-09-24T03:43:50.280913",
     "exception": false,
     "start_time": "2022-09-24T03:43:50.266078",
     "status": "completed"
    },
    "tags": []
   },
   "source": [
    "# Koreliacijų matrica\n",
    "> Išplėstinė koreliacijų matrica. \n",
    "\n",
    "- toc: true \n",
    "- badges: true\n",
    "- comments: false\n",
    "- categories: [Dominykas Tautkus]\n",
    "- image: images/matrix.png"
   ]
  },
  {
   "cell_type": "code",
   "execution_count": null,
   "id": "premium-weekend",
   "metadata": {
    "papermill": {
     "duration": 0.011303,
     "end_time": "2022-09-24T03:43:50.303652",
     "exception": false,
     "start_time": "2022-09-24T03:43:50.292349",
     "status": "completed"
    },
    "tags": []
   },
   "outputs": [],
   "source": []
  },
  {
   "cell_type": "code",
   "execution_count": 1,
   "id": "vertical-rebate",
   "metadata": {
    "execution": {
     "iopub.execute_input": "2022-09-24T03:43:50.336219Z",
     "iopub.status.busy": "2022-09-24T03:43:50.335601Z",
     "iopub.status.idle": "2022-09-24T03:43:50.347231Z",
     "shell.execute_reply": "2022-09-24T03:43:50.346738Z"
    },
    "papermill": {
     "duration": 0.032831,
     "end_time": "2022-09-24T03:43:50.347365",
     "exception": false,
     "start_time": "2022-09-24T03:43:50.314534",
     "status": "completed"
    },
    "tags": []
   },
   "outputs": [],
   "source": [
    "#hide\n",
    "%load_ext autoreload\n",
    "%autoreload 2"
   ]
  },
  {
   "cell_type": "code",
   "execution_count": 2,
   "id": "overall-advancement",
   "metadata": {
    "execution": {
     "iopub.execute_input": "2022-09-24T03:43:50.374285Z",
     "iopub.status.busy": "2022-09-24T03:43:50.373676Z",
     "iopub.status.idle": "2022-09-24T03:43:51.648758Z",
     "shell.execute_reply": "2022-09-24T03:43:51.647727Z"
    },
    "papermill": {
     "duration": 1.29069,
     "end_time": "2022-09-24T03:43:51.648901",
     "exception": false,
     "start_time": "2022-09-24T03:43:50.358211",
     "status": "completed"
    },
    "tags": []
   },
   "outputs": [],
   "source": [
    "#hide\n",
    "from scripts.read_data import read_api\n",
    "from IPython.display import HTML\n",
    "import plotly.graph_objects as go\n"
   ]
  },
  {
   "cell_type": "code",
   "execution_count": 3,
   "id": "light-crazy",
   "metadata": {
    "execution": {
     "iopub.execute_input": "2022-09-24T03:43:51.681712Z",
     "iopub.status.busy": "2022-09-24T03:43:51.676161Z",
     "iopub.status.idle": "2022-09-24T03:43:51.701299Z",
     "shell.execute_reply": "2022-09-24T03:43:51.701805Z"
    },
    "papermill": {
     "duration": 0.042076,
     "end_time": "2022-09-24T03:43:51.701956",
     "exception": false,
     "start_time": "2022-09-24T03:43:51.659880",
     "status": "completed"
    },
    "tags": []
   },
   "outputs": [],
   "source": [
    "#hide\n",
    "### ICO koreliacija"
   ]
  },
  {
   "cell_type": "code",
   "execution_count": 4,
   "id": "likely-bahrain",
   "metadata": {
    "execution": {
     "iopub.execute_input": "2022-09-24T03:43:51.737684Z",
     "iopub.status.busy": "2022-09-24T03:43:51.727370Z",
     "iopub.status.idle": "2022-09-24T03:43:52.589811Z",
     "shell.execute_reply": "2022-09-24T03:43:52.590336Z"
    },
    "papermill": {
     "duration": 0.877705,
     "end_time": "2022-09-24T03:43:52.590501",
     "exception": false,
     "start_time": "2022-09-24T03:43:51.712796",
     "status": "completed"
    },
    "tags": []
   },
   "outputs": [],
   "source": [
    "#hide\n",
    "import matplotlib.pyplot as plt\n",
    "import numpy as np\n",
    "import pandas as pd\n",
    "import seaborn as sns\n",
    "import matplotlib.pyplot as plt \n",
    "import matplotlib.dates as mdates\n",
    "import matplotlib.pyplot as plt"
   ]
  },
  {
   "cell_type": "code",
   "execution_count": 5,
   "id": "superior-blanket",
   "metadata": {
    "execution": {
     "iopub.execute_input": "2022-09-24T03:43:52.626934Z",
     "iopub.status.busy": "2022-09-24T03:43:52.625703Z",
     "iopub.status.idle": "2022-09-24T03:44:04.863893Z",
     "shell.execute_reply": "2022-09-24T03:44:04.862825Z"
    },
    "papermill": {
     "duration": 12.262461,
     "end_time": "2022-09-24T03:44:04.864032",
     "exception": false,
     "start_time": "2022-09-24T03:43:52.601571",
     "status": "completed"
    },
    "tags": []
   },
   "outputs": [
    {
     "name": "stderr",
     "output_type": "stream",
     "text": [
      "/home/runner/work/corr-app/corr-app/_notebooks/scripts/read_data.py:187: SettingWithCopyWarning:\n",
      "\n",
      "\n",
      "A value is trying to be set on a copy of a slice from a DataFrame.\n",
      "Try using .loc[row_indexer,col_indexer] = value instead\n",
      "\n",
      "See the caveats in the documentation: https://pandas.pydata.org/pandas-docs/stable/user_guide/indexing.html#returning-a-view-versus-a-copy\n",
      "\n"
     ]
    },
    {
     "name": "stderr",
     "output_type": "stream",
     "text": [
      "/home/runner/work/corr-app/corr-app/_notebooks/scripts/read_data.py:215: SettingWithCopyWarning:\n",
      "\n",
      "\n",
      "A value is trying to be set on a copy of a slice from a DataFrame.\n",
      "Try using .loc[row_indexer,col_indexer] = value instead\n",
      "\n",
      "See the caveats in the documentation: https://pandas.pydata.org/pandas-docs/stable/user_guide/indexing.html#returning-a-view-versus-a-copy\n",
      "\n"
     ]
    }
   ],
   "source": [
    "#hide\n",
    "df_all = read_api()\n",
    "#df_all = df_all.drop(['SP500', 'XAU', 'ETH', 'BTC'], axis=1)\n",
    "\n"
   ]
  },
  {
   "cell_type": "code",
   "execution_count": 6,
   "id": "mature-alert",
   "metadata": {
    "execution": {
     "iopub.execute_input": "2022-09-24T03:44:04.893595Z",
     "iopub.status.busy": "2022-09-24T03:44:04.892860Z",
     "iopub.status.idle": "2022-09-24T03:44:04.925104Z",
     "shell.execute_reply": "2022-09-24T03:44:04.924464Z"
    },
    "papermill": {
     "duration": 0.048365,
     "end_time": "2022-09-24T03:44:04.925242",
     "exception": false,
     "start_time": "2022-09-24T03:44:04.876877",
     "status": "completed"
    },
    "tags": []
   },
   "outputs": [],
   "source": [
    "#hide_input\n",
    "sum_corr = df_all.corr().sum().sort_values(ascending=True).index.values\n",
    "#df_all[sum_corr].corr()"
   ]
  },
  {
   "cell_type": "markdown",
   "id": "complex-syndicate",
   "metadata": {
    "papermill": {
     "duration": 0.011418,
     "end_time": "2022-09-24T03:44:04.948303",
     "exception": false,
     "start_time": "2022-09-24T03:44:04.936885",
     "status": "completed"
    },
    "tags": []
   },
   "source": [
    "## Išplėstinė koreliacijų matrica. "
   ]
  },
  {
   "cell_type": "code",
   "execution_count": 7,
   "id": "atomic-omaha",
   "metadata": {
    "execution": {
     "iopub.execute_input": "2022-09-24T03:44:04.974205Z",
     "iopub.status.busy": "2022-09-24T03:44:04.973610Z",
     "iopub.status.idle": "2022-09-24T03:44:06.170880Z",
     "shell.execute_reply": "2022-09-24T03:44:06.171349Z"
    },
    "papermill": {
     "duration": 1.211796,
     "end_time": "2022-09-24T03:44:06.171489",
     "exception": false,
     "start_time": "2022-09-24T03:44:04.959693",
     "status": "completed"
    },
    "tags": []
   },
   "outputs": [
    {
     "data": {
      "image/png": "[encoded data removed]",
      "text/plain": [
       "<Figure size 1080x792 with 2 Axes>"
      ]
     },
     "metadata": {
      "needs_background": "light"
     },
     "output_type": "display_data"
    }
   ],
   "source": [
    "#hide_input\n",
    "plt.figure(figsize=(15, 11))\n",
    "sns.heatmap(df_all[sum_corr].corr(), annot=True, cmap=\"cubehelix\") \n",
    "sns.set(font_scale=1.25)\n",
    "plt.savefig('corr_matrix.png', format='eps')"
   ]
  },
  {
   "cell_type": "code",
   "execution_count": 8,
   "id": "arbitrary-sullivan",
   "metadata": {
    "execution": {
     "iopub.execute_input": "2022-09-24T03:44:06.208541Z",
     "iopub.status.busy": "2022-09-24T03:44:06.203795Z",
     "iopub.status.idle": "2022-09-24T03:44:06.232631Z",
     "shell.execute_reply": "2022-09-24T03:44:06.231542Z"
    },
    "papermill": {
     "duration": 0.047508,
     "end_time": "2022-09-24T03:44:06.232782",
     "exception": false,
     "start_time": "2022-09-24T03:44:06.185274",
     "status": "completed"
    },
    "tags": []
   },
   "outputs": [],
   "source": [
    "#hide\n",
    "#df_all_mrk = read_api()"
   ]
  },
  {
   "cell_type": "code",
   "execution_count": 9,
   "id": "delayed-adapter",
   "metadata": {
    "execution": {
     "iopub.execute_input": "2022-09-24T03:44:06.264390Z",
     "iopub.status.busy": "2022-09-24T03:44:06.263772Z",
     "iopub.status.idle": "2022-09-24T03:44:06.292069Z",
     "shell.execute_reply": "2022-09-24T03:44:06.291462Z"
    },
    "papermill": {
     "duration": 0.045565,
     "end_time": "2022-09-24T03:44:06.292204",
     "exception": false,
     "start_time": "2022-09-24T03:44:06.246639",
     "status": "completed"
    },
    "tags": []
   },
   "outputs": [],
   "source": [
    "#hide\n",
    "#Koreliacijų koeficientai"
   ]
  },
  {
   "cell_type": "code",
   "execution_count": 10,
   "id": "seeing-celebration",
   "metadata": {
    "execution": {
     "iopub.execute_input": "2022-09-24T03:44:06.331226Z",
     "iopub.status.busy": "2022-09-24T03:44:06.330588Z",
     "iopub.status.idle": "2022-09-24T03:44:06.354769Z",
     "shell.execute_reply": "2022-09-24T03:44:06.354215Z"
    },
    "papermill": {
     "duration": 0.048283,
     "end_time": "2022-09-24T03:44:06.354913",
     "exception": false,
     "start_time": "2022-09-24T03:44:06.306630",
     "status": "completed"
    },
    "tags": []
   },
   "outputs": [],
   "source": [
    "#hide_input\n",
    "#sum_corr = df_all_mrk.corr().sum().sort_values(ascending=True).index.values\n",
    "#df_all_mrk[sum_corr].corr()"
   ]
  },
  {
   "cell_type": "code",
   "execution_count": 11,
   "id": "other-painting",
   "metadata": {
    "execution": {
     "iopub.execute_input": "2022-09-24T03:44:06.390276Z",
     "iopub.status.busy": "2022-09-24T03:44:06.389659Z",
     "iopub.status.idle": "2022-09-24T03:44:06.415307Z",
     "shell.execute_reply": "2022-09-24T03:44:06.414687Z"
    },
    "papermill": {
     "duration": 0.046458,
     "end_time": "2022-09-24T03:44:06.415427",
     "exception": false,
     "start_time": "2022-09-24T03:44:06.368969",
     "status": "completed"
    },
    "tags": []
   },
   "outputs": [],
   "source": [
    "#hide\n",
    "#Koreliacijos matrica. "
   ]
  },
  {
   "cell_type": "code",
   "execution_count": 12,
   "id": "modular-magnitude",
   "metadata": {
    "execution": {
     "iopub.execute_input": "2022-09-24T03:44:06.449909Z",
     "iopub.status.busy": "2022-09-24T03:44:06.446025Z",
     "iopub.status.idle": "2022-09-24T03:44:06.473810Z",
     "shell.execute_reply": "2022-09-24T03:44:06.473286Z"
    },
    "papermill": {
     "duration": 0.044869,
     "end_time": "2022-09-24T03:44:06.473939",
     "exception": false,
     "start_time": "2022-09-24T03:44:06.429070",
     "status": "completed"
    },
    "tags": []
   },
   "outputs": [],
   "source": [
    "#hide_input\n",
    "#plt.figure(figsize=(15, 8))\n",
    "#sns.heatmap(df_all_mrk[sum_corr].corr(), annot=True, cmap=\"BrBG\");\n",
    "#plt.savefig('corr_matrix_all.eps', format='eps')"
   ]
  },
  {
   "cell_type": "code",
   "execution_count": null,
   "id": "original-senator",
   "metadata": {
    "papermill": {
     "duration": 0.013434,
     "end_time": "2022-09-24T03:44:06.501065",
     "exception": false,
     "start_time": "2022-09-24T03:44:06.487631",
     "status": "completed"
    },
    "tags": []
   },
   "outputs": [],
   "source": []
  },
  {
   "cell_type": "code",
   "execution_count": null,
   "id": "saving-secretariat",
   "metadata": {
    "papermill": {
     "duration": 0.013381,
     "end_time": "2022-09-24T03:44:06.527965",
     "exception": false,
     "start_time": "2022-09-24T03:44:06.514584",
     "status": "completed"
    },
    "tags": []
   },
   "outputs": [],
   "source": []
  }
 ],
 "metadata": {
  "kernelspec": {
   "display_name": "Python 3",
   "language": "python",
   "name": "python3"
  },
  "language_info": {
   "codemirror_mode": {
    "name": "ipython",
    "version": 3
   },
   "file_extension": ".py",
   "mimetype": "text/x-python",
   "name": "python",
   "nbconvert_exporter": "python",
   "pygments_lexer": "ipython3",
   "version": "3.6.15"
  },
  "papermill": {
   "default_parameters": {},
   "duration": 18.138859,
   "end_time": "2022-09-24T03:44:07.162310",
   "environment_variables": {},
   "exception": null,
   "input_path": "App-Correlation_charts.ipynb",
   "output_path": "App-Correlation_charts.ipynb",
   "parameters": {},
   "start_time": "2022-09-24T03:43:49.023451",
   "version": "2.2.2"
  }
 },
 "nbformat": 4,
 "nbformat_minor": 5
}