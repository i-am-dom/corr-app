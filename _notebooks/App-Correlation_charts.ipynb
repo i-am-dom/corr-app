{
 "cells": [
  {
   "cell_type": "markdown",
   "id": "touched-facility",
   "metadata": {
    "papermill": {
     "duration": 0.014931,
     "end_time": "2022-05-25T02:58:51.635576",
     "exception": false,
     "start_time": "2022-05-25T02:58:51.620645",
     "status": "completed"
    },
    "tags": []
   },
   "source": [
    "# Koreliacijų matrica\n",
    "> Išplėstinė koreliacijų matrica. \n",
    "\n",
    "- toc: true \n",
    "- badges: true\n",
    "- comments: false\n",
    "- categories: [Dominykas Tautkus]\n",
    "- image: images/matrix.png"
   ]
  },
  {
   "cell_type": "code",
   "execution_count": null,
   "id": "premium-weekend",
   "metadata": {
    "papermill": {
     "duration": 0.01092,
     "end_time": "2022-05-25T02:58:51.658013",
     "exception": false,
     "start_time": "2022-05-25T02:58:51.647093",
     "status": "completed"
    },
    "tags": []
   },
   "outputs": [],
   "source": []
  },
  {
   "cell_type": "code",
   "execution_count": 1,
   "id": "vertical-rebate",
   "metadata": {
    "execution": {
     "iopub.execute_input": "2022-05-25T02:58:51.691023Z",
     "iopub.status.busy": "2022-05-25T02:58:51.690411Z",
     "iopub.status.idle": "2022-05-25T02:58:51.701394Z",
     "shell.execute_reply": "2022-05-25T02:58:51.700846Z"
    },
    "papermill": {
     "duration": 0.032768,
     "end_time": "2022-05-25T02:58:51.701522",
     "exception": false,
     "start_time": "2022-05-25T02:58:51.668754",
     "status": "completed"
    },
    "tags": []
   },
   "outputs": [],
   "source": [
    "#hide\n",
    "%load_ext autoreload\n",
    "%autoreload 2"
   ]
  },
  {
   "cell_type": "code",
   "execution_count": 2,
   "id": "overall-advancement",
   "metadata": {
    "execution": {
     "iopub.execute_input": "2022-05-25T02:58:51.730201Z",
     "iopub.status.busy": "2022-05-25T02:58:51.729621Z",
     "iopub.status.idle": "2022-05-25T02:58:53.010361Z",
     "shell.execute_reply": "2022-05-25T02:58:53.009834Z"
    },
    "papermill": {
     "duration": 1.298133,
     "end_time": "2022-05-25T02:58:53.010489",
     "exception": false,
     "start_time": "2022-05-25T02:58:51.712356",
     "status": "completed"
    },
    "tags": []
   },
   "outputs": [],
   "source": [
    "#hide\n",
    "from scripts.read_data import read_api\n",
    "from IPython.display import HTML\n",
    "import plotly.graph_objects as go\n"
   ]
  },
  {
   "cell_type": "code",
   "execution_count": 3,
   "id": "light-crazy",
   "metadata": {
    "execution": {
     "iopub.execute_input": "2022-05-25T02:58:53.037136Z",
     "iopub.status.busy": "2022-05-25T02:58:53.036490Z",
     "iopub.status.idle": "2022-05-25T02:58:53.060967Z",
     "shell.execute_reply": "2022-05-25T02:58:53.061454Z"
    },
    "papermill": {
     "duration": 0.039977,
     "end_time": "2022-05-25T02:58:53.061620",
     "exception": false,
     "start_time": "2022-05-25T02:58:53.021643",
     "status": "completed"
    },
    "tags": []
   },
   "outputs": [],
   "source": [
    "#hide\n",
    "### ICO koreliacija"
   ]
  },
  {
   "cell_type": "code",
   "execution_count": 4,
   "id": "likely-bahrain",
   "metadata": {
    "execution": {
     "iopub.execute_input": "2022-05-25T02:58:53.088097Z",
     "iopub.status.busy": "2022-05-25T02:58:53.087502Z",
     "iopub.status.idle": "2022-05-25T02:58:53.947977Z",
     "shell.execute_reply": "2022-05-25T02:58:53.946960Z"
    },
    "papermill": {
     "duration": 0.875435,
     "end_time": "2022-05-25T02:58:53.948122",
     "exception": false,
     "start_time": "2022-05-25T02:58:53.072687",
     "status": "completed"
    },
    "tags": []
   },
   "outputs": [],
   "source": [
    "#hide\n",
    "import matplotlib.pyplot as plt\n",
    "import numpy as np\n",
    "import pandas as pd\n",
    "import seaborn as sns\n",
    "import matplotlib.pyplot as plt \n",
    "import matplotlib.dates as mdates\n",
    "import matplotlib.pyplot as plt"
   ]
  },
  {
   "cell_type": "code",
   "execution_count": 5,
   "id": "superior-blanket",
   "metadata": {
    "execution": {
     "iopub.execute_input": "2022-05-25T02:58:53.985736Z",
     "iopub.status.busy": "2022-05-25T02:58:53.981733Z",
     "iopub.status.idle": "2022-05-25T02:59:05.674886Z",
     "shell.execute_reply": "2022-05-25T02:59:05.673551Z"
    },
    "papermill": {
     "duration": 11.715391,
     "end_time": "2022-05-25T02:59:05.675031",
     "exception": false,
     "start_time": "2022-05-25T02:58:53.959640",
     "status": "completed"
    },
    "tags": []
   },
   "outputs": [
    {
     "name": "stderr",
     "output_type": "stream",
     "text": [
      "/home/runner/work/corr-app/corr-app/_notebooks/scripts/read_data.py:187: SettingWithCopyWarning:\n",
      "\n",
      "\n",
      "A value is trying to be set on a copy of a slice from a DataFrame.\n",
      "Try using .loc[row_indexer,col_indexer] = value instead\n",
      "\n",
      "See the caveats in the documentation: https://pandas.pydata.org/pandas-docs/stable/user_guide/indexing.html#returning-a-view-versus-a-copy\n",
      "\n"
     ]
    },
    {
     "name": "stderr",
     "output_type": "stream",
     "text": [
      "/home/runner/work/corr-app/corr-app/_notebooks/scripts/read_data.py:215: SettingWithCopyWarning:\n",
      "\n",
      "\n",
      "A value is trying to be set on a copy of a slice from a DataFrame.\n",
      "Try using .loc[row_indexer,col_indexer] = value instead\n",
      "\n",
      "See the caveats in the documentation: https://pandas.pydata.org/pandas-docs/stable/user_guide/indexing.html#returning-a-view-versus-a-copy\n",
      "\n"
     ]
    }
   ],
   "source": [
    "#hide\n",
    "df_all = read_api()\n",
    "#df_all = df_all.drop(['SP500', 'XAU', 'ETH', 'BTC'], axis=1)\n",
    "\n"
   ]
  },
  {
   "cell_type": "code",
   "execution_count": 6,
   "id": "mature-alert",
   "metadata": {
    "execution": {
     "iopub.execute_input": "2022-05-25T02:59:05.709945Z",
     "iopub.status.busy": "2022-05-25T02:59:05.703007Z",
     "iopub.status.idle": "2022-05-25T02:59:05.735744Z",
     "shell.execute_reply": "2022-05-25T02:59:05.735123Z"
    },
    "papermill": {
     "duration": 0.049014,
     "end_time": "2022-05-25T02:59:05.735880",
     "exception": false,
     "start_time": "2022-05-25T02:59:05.686866",
     "status": "completed"
    },
    "tags": []
   },
   "outputs": [],
   "source": [
    "#hide_input\n",
    "sum_corr = df_all.corr().sum().sort_values(ascending=True).index.values\n",
    "#df_all[sum_corr].corr()"
   ]
  },
  {
   "cell_type": "markdown",
   "id": "complex-syndicate",
   "metadata": {
    "papermill": {
     "duration": 0.012596,
     "end_time": "2022-05-25T02:59:05.760584",
     "exception": false,
     "start_time": "2022-05-25T02:59:05.747988",
     "status": "completed"
    },
    "tags": []
   },
   "source": [
    "## Išplėstinė koreliacijų matrica. "
   ]
  },
  {
   "cell_type": "code",
   "execution_count": 7,
   "id": "atomic-omaha",
   "metadata": {
    "execution": {
     "iopub.execute_input": "2022-05-25T02:59:05.791546Z",
     "iopub.status.busy": "2022-05-25T02:59:05.790960Z",
     "iopub.status.idle": "2022-05-25T02:59:07.004530Z",
     "shell.execute_reply": "2022-05-25T02:59:07.003629Z"
    },
    "papermill": {
     "duration": 1.232637,
     "end_time": "2022-05-25T02:59:07.004655",
     "exception": false,
     "start_time": "2022-05-25T02:59:05.772018",
     "status": "completed"
    },
    "tags": []
   },
   "outputs": [
    {
     "data": {
      "image/png": "[encoded data removed]",
      "text/plain": [
       "<Figure size 1080x792 with 2 Axes>"
      ]
     },
     "metadata": {
      "needs_background": "light"
     },
     "output_type": "display_data"
    }
   ],
   "source": [
    "#hide_input\n",
    "plt.figure(figsize=(15, 11))\n",
    "sns.heatmap(df_all[sum_corr].corr(), annot=True, cmap=\"cubehelix\") \n",
    "sns.set(font_scale=1.25)\n",
    "plt.savefig('corr_matrix.png', format='eps')"
   ]
  },
  {
   "cell_type": "code",
   "execution_count": 8,
   "id": "arbitrary-sullivan",
   "metadata": {
    "execution": {
     "iopub.execute_input": "2022-05-25T02:59:07.033015Z",
     "iopub.status.busy": "2022-05-25T02:59:07.032313Z",
     "iopub.status.idle": "2022-05-25T02:59:07.058108Z",
     "shell.execute_reply": "2022-05-25T02:59:07.057552Z"
    },
    "papermill": {
     "duration": 0.041276,
     "end_time": "2022-05-25T02:59:07.058240",
     "exception": false,
     "start_time": "2022-05-25T02:59:07.016964",
     "status": "completed"
    },
    "tags": []
   },
   "outputs": [],
   "source": [
    "#hide\n",
    "#df_all_mrk = read_api()"
   ]
  },
  {
   "cell_type": "code",
   "execution_count": 9,
   "id": "delayed-adapter",
   "metadata": {
    "execution": {
     "iopub.execute_input": "2022-05-25T02:59:07.094325Z",
     "iopub.status.busy": "2022-05-25T02:59:07.093735Z",
     "iopub.status.idle": "2022-05-25T02:59:07.121221Z",
     "shell.execute_reply": "2022-05-25T02:59:07.120508Z"
    },
    "papermill": {
     "duration": 0.048653,
     "end_time": "2022-05-25T02:59:07.121355",
     "exception": false,
     "start_time": "2022-05-25T02:59:07.072702",
     "status": "completed"
    },
    "tags": []
   },
   "outputs": [],
   "source": [
    "#hide\n",
    "#Koreliacijų koeficientai"
   ]
  },
  {
   "cell_type": "code",
   "execution_count": 10,
   "id": "seeing-celebration",
   "metadata": {
    "execution": {
     "iopub.execute_input": "2022-05-25T02:59:07.153688Z",
     "iopub.status.busy": "2022-05-25T02:59:07.153104Z",
     "iopub.status.idle": "2022-05-25T02:59:07.181607Z",
     "shell.execute_reply": "2022-05-25T02:59:07.182096Z"
    },
    "papermill": {
     "duration": 0.046551,
     "end_time": "2022-05-25T02:59:07.182247",
     "exception": false,
     "start_time": "2022-05-25T02:59:07.135696",
     "status": "completed"
    },
    "tags": []
   },
   "outputs": [],
   "source": [
    "#hide_input\n",
    "#sum_corr = df_all_mrk.corr().sum().sort_values(ascending=True).index.values\n",
    "#df_all_mrk[sum_corr].corr()"
   ]
  },
  {
   "cell_type": "code",
   "execution_count": 11,
   "id": "other-painting",
   "metadata": {
    "execution": {
     "iopub.execute_input": "2022-05-25T02:59:07.213382Z",
     "iopub.status.busy": "2022-05-25T02:59:07.212766Z",
     "iopub.status.idle": "2022-05-25T02:59:07.238697Z",
     "shell.execute_reply": "2022-05-25T02:59:07.238219Z"
    },
    "papermill": {
     "duration": 0.042381,
     "end_time": "2022-05-25T02:59:07.238811",
     "exception": false,
     "start_time": "2022-05-25T02:59:07.196430",
     "status": "completed"
    },
    "tags": []
   },
   "outputs": [],
   "source": [
    "#hide\n",
    "#Koreliacijos matrica. "
   ]
  },
  {
   "cell_type": "code",
   "execution_count": 12,
   "id": "modular-magnitude",
   "metadata": {
    "execution": {
     "iopub.execute_input": "2022-05-25T02:59:07.270278Z",
     "iopub.status.busy": "2022-05-25T02:59:07.269711Z",
     "iopub.status.idle": "2022-05-25T02:59:07.294411Z",
     "shell.execute_reply": "2022-05-25T02:59:07.293750Z"
    },
    "papermill": {
     "duration": 0.042272,
     "end_time": "2022-05-25T02:59:07.294535",
     "exception": false,
     "start_time": "2022-05-25T02:59:07.252263",
     "status": "completed"
    },
    "tags": []
   },
   "outputs": [],
   "source": [
    "#hide_input\n",
    "#plt.figure(figsize=(15, 8))\n",
    "#sns.heatmap(df_all_mrk[sum_corr].corr(), annot=True, cmap=\"BrBG\");\n",
    "#plt.savefig('corr_matrix_all.eps', format='eps')"
   ]
  },
  {
   "cell_type": "code",
   "execution_count": null,
   "id": "original-senator",
   "metadata": {
    "papermill": {
     "duration": 0.013341,
     "end_time": "2022-05-25T02:59:07.321900",
     "exception": false,
     "start_time": "2022-05-25T02:59:07.308559",
     "status": "completed"
    },
    "tags": []
   },
   "outputs": [],
   "source": []
  },
  {
   "cell_type": "code",
   "execution_count": null,
   "id": "saving-secretariat",
   "metadata": {
    "papermill": {
     "duration": 0.013274,
     "end_time": "2022-05-25T02:59:07.348521",
     "exception": false,
     "start_time": "2022-05-25T02:59:07.335247",
     "status": "completed"
    },
    "tags": []
   },
   "outputs": [],
   "source": []
  }
 ],
 "metadata": {
  "kernelspec": {
   "display_name": "Python 3",
   "language": "python",
   "name": "python3"
  },
  "language_info": {
   "codemirror_mode": {
    "name": "ipython",
    "version": 3
   },
   "file_extension": ".py",
   "mimetype": "text/x-python",
   "name": "python",
   "nbconvert_exporter": "python",
   "pygments_lexer": "ipython3",
   "version": "3.6.15"
  },
  "papermill": {
   "default_parameters": {},
   "duration": 17.202297,
   "end_time": "2022-05-25T02:59:07.883162",
   "environment_variables": {},
   "exception": null,
   "input_path": "App-Correlation_charts.ipynb",
   "output_path": "App-Correlation_charts.ipynb",
   "parameters": {},
   "start_time": "2022-05-25T02:58:50.680865",
   "version": "2.2.2"
  }
 },
 "nbformat": 4,
 "nbformat_minor": 5
}