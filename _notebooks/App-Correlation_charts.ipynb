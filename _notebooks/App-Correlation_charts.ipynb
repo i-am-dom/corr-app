{
 "cells": [
  {
   "cell_type": "markdown",
   "id": "touched-facility",
   "metadata": {
    "papermill": {
     "duration": 0.018711,
     "end_time": "2022-07-28T03:10:53.907073",
     "exception": false,
     "start_time": "2022-07-28T03:10:53.888362",
     "status": "completed"
    },
    "tags": []
   },
   "source": [
    "# Koreliacijų matrica\n",
    "> Išplėstinė koreliacijų matrica. \n",
    "\n",
    "- toc: true \n",
    "- badges: true\n",
    "- comments: false\n",
    "- categories: [Dominykas Tautkus]\n",
    "- image: images/matrix.png"
   ]
  },
  {
   "cell_type": "code",
   "execution_count": null,
   "id": "premium-weekend",
   "metadata": {
    "papermill": {
     "duration": 0.012387,
     "end_time": "2022-07-28T03:10:53.932292",
     "exception": false,
     "start_time": "2022-07-28T03:10:53.919905",
     "status": "completed"
    },
    "tags": []
   },
   "outputs": [],
   "source": []
  },
  {
   "cell_type": "code",
   "execution_count": 1,
   "id": "vertical-rebate",
   "metadata": {
    "execution": {
     "iopub.execute_input": "2022-07-28T03:10:53.965595Z",
     "iopub.status.busy": "2022-07-28T03:10:53.964917Z",
     "iopub.status.idle": "2022-07-28T03:10:53.984894Z",
     "shell.execute_reply": "2022-07-28T03:10:53.984142Z"
    },
    "papermill": {
     "duration": 0.040657,
     "end_time": "2022-07-28T03:10:53.985075",
     "exception": false,
     "start_time": "2022-07-28T03:10:53.944418",
     "status": "completed"
    },
    "tags": []
   },
   "outputs": [],
   "source": [
    "#hide\n",
    "%load_ext autoreload\n",
    "%autoreload 2"
   ]
  },
  {
   "cell_type": "code",
   "execution_count": 2,
   "id": "overall-advancement",
   "metadata": {
    "execution": {
     "iopub.execute_input": "2022-07-28T03:10:54.015883Z",
     "iopub.status.busy": "2022-07-28T03:10:54.014859Z",
     "iopub.status.idle": "2022-07-28T03:10:55.486163Z",
     "shell.execute_reply": "2022-07-28T03:10:55.485561Z"
    },
    "papermill": {
     "duration": 1.488614,
     "end_time": "2022-07-28T03:10:55.486308",
     "exception": false,
     "start_time": "2022-07-28T03:10:53.997694",
     "status": "completed"
    },
    "tags": []
   },
   "outputs": [],
   "source": [
    "#hide\n",
    "from scripts.read_data import read_api\n",
    "from IPython.display import HTML\n",
    "import plotly.graph_objects as go\n"
   ]
  },
  {
   "cell_type": "code",
   "execution_count": 3,
   "id": "light-crazy",
   "metadata": {
    "execution": {
     "iopub.execute_input": "2022-07-28T03:10:55.517348Z",
     "iopub.status.busy": "2022-07-28T03:10:55.516661Z",
     "iopub.status.idle": "2022-07-28T03:10:55.542523Z",
     "shell.execute_reply": "2022-07-28T03:10:55.541964Z"
    },
    "papermill": {
     "duration": 0.043059,
     "end_time": "2022-07-28T03:10:55.542659",
     "exception": false,
     "start_time": "2022-07-28T03:10:55.499600",
     "status": "completed"
    },
    "tags": []
   },
   "outputs": [],
   "source": [
    "#hide\n",
    "### ICO koreliacija"
   ]
  },
  {
   "cell_type": "code",
   "execution_count": 4,
   "id": "likely-bahrain",
   "metadata": {
    "execution": {
     "iopub.execute_input": "2022-07-28T03:10:55.573242Z",
     "iopub.status.busy": "2022-07-28T03:10:55.572170Z",
     "iopub.status.idle": "2022-07-28T03:10:56.547118Z",
     "shell.execute_reply": "2022-07-28T03:10:56.545951Z"
    },
    "papermill": {
     "duration": 0.992295,
     "end_time": "2022-07-28T03:10:56.547277",
     "exception": false,
     "start_time": "2022-07-28T03:10:55.554982",
     "status": "completed"
    },
    "tags": []
   },
   "outputs": [],
   "source": [
    "#hide\n",
    "import matplotlib.pyplot as plt\n",
    "import numpy as np\n",
    "import pandas as pd\n",
    "import seaborn as sns\n",
    "import matplotlib.pyplot as plt \n",
    "import matplotlib.dates as mdates\n",
    "import matplotlib.pyplot as plt"
   ]
  },
  {
   "cell_type": "code",
   "execution_count": 5,
   "id": "superior-blanket",
   "metadata": {
    "execution": {
     "iopub.execute_input": "2022-07-28T03:10:56.577161Z",
     "iopub.status.busy": "2022-07-28T03:10:56.576234Z",
     "iopub.status.idle": "2022-07-28T03:11:07.083323Z",
     "shell.execute_reply": "2022-07-28T03:11:07.082703Z"
    },
    "papermill": {
     "duration": 10.523656,
     "end_time": "2022-07-28T03:11:07.083460",
     "exception": false,
     "start_time": "2022-07-28T03:10:56.559804",
     "status": "completed"
    },
    "tags": []
   },
   "outputs": [
    {
     "name": "stderr",
     "output_type": "stream",
     "text": [
      "/home/runner/work/corr-app/corr-app/_notebooks/scripts/read_data.py:187: SettingWithCopyWarning:\n",
      "\n",
      "\n",
      "A value is trying to be set on a copy of a slice from a DataFrame.\n",
      "Try using .loc[row_indexer,col_indexer] = value instead\n",
      "\n",
      "See the caveats in the documentation: https://pandas.pydata.org/pandas-docs/stable/user_guide/indexing.html#returning-a-view-versus-a-copy\n",
      "\n"
     ]
    },
    {
     "name": "stderr",
     "output_type": "stream",
     "text": [
      "/home/runner/work/corr-app/corr-app/_notebooks/scripts/read_data.py:215: SettingWithCopyWarning:\n",
      "\n",
      "\n",
      "A value is trying to be set on a copy of a slice from a DataFrame.\n",
      "Try using .loc[row_indexer,col_indexer] = value instead\n",
      "\n",
      "See the caveats in the documentation: https://pandas.pydata.org/pandas-docs/stable/user_guide/indexing.html#returning-a-view-versus-a-copy\n",
      "\n"
     ]
    }
   ],
   "source": [
    "#hide\n",
    "df_all = read_api()\n",
    "#df_all = df_all.drop(['SP500', 'XAU', 'ETH', 'BTC'], axis=1)\n",
    "\n"
   ]
  },
  {
   "cell_type": "code",
   "execution_count": 6,
   "id": "mature-alert",
   "metadata": {
    "execution": {
     "iopub.execute_input": "2022-07-28T03:11:07.115619Z",
     "iopub.status.busy": "2022-07-28T03:11:07.114944Z",
     "iopub.status.idle": "2022-07-28T03:11:07.150782Z",
     "shell.execute_reply": "2022-07-28T03:11:07.150205Z"
    },
    "papermill": {
     "duration": 0.052961,
     "end_time": "2022-07-28T03:11:07.150914",
     "exception": false,
     "start_time": "2022-07-28T03:11:07.097953",
     "status": "completed"
    },
    "tags": []
   },
   "outputs": [],
   "source": [
    "#hide_input\n",
    "sum_corr = df_all.corr().sum().sort_values(ascending=True).index.values\n",
    "#df_all[sum_corr].corr()"
   ]
  },
  {
   "cell_type": "markdown",
   "id": "complex-syndicate",
   "metadata": {
    "papermill": {
     "duration": 0.013344,
     "end_time": "2022-07-28T03:11:07.177140",
     "exception": false,
     "start_time": "2022-07-28T03:11:07.163796",
     "status": "completed"
    },
    "tags": []
   },
   "source": [
    "## Išplėstinė koreliacijų matrica. "
   ]
  },
  {
   "cell_type": "code",
   "execution_count": 7,
   "id": "atomic-omaha",
   "metadata": {
    "execution": {
     "iopub.execute_input": "2022-07-28T03:11:07.209014Z",
     "iopub.status.busy": "2022-07-28T03:11:07.208336Z",
     "iopub.status.idle": "2022-07-28T03:11:08.602743Z",
     "shell.execute_reply": "2022-07-28T03:11:08.603269Z"
    },
    "papermill": {
     "duration": 1.413628,
     "end_time": "2022-07-28T03:11:08.603424",
     "exception": false,
     "start_time": "2022-07-28T03:11:07.189796",
     "status": "completed"
    },
    "tags": []
   },
   "outputs": [
    {
     "data": {
      "image/png": "[encoded data removed]",
      "text/plain": [
       "<Figure size 1080x792 with 2 Axes>"
      ]
     },
     "metadata": {
      "needs_background": "light"
     },
     "output_type": "display_data"
    }
   ],
   "source": [
    "#hide_input\n",
    "plt.figure(figsize=(15, 11))\n",
    "sns.heatmap(df_all[sum_corr].corr(), annot=True, cmap=\"cubehelix\") \n",
    "sns.set(font_scale=1.25)\n",
    "plt.savefig('corr_matrix.png', format='eps')"
   ]
  },
  {
   "cell_type": "code",
   "execution_count": 8,
   "id": "arbitrary-sullivan",
   "metadata": {
    "execution": {
     "iopub.execute_input": "2022-07-28T03:11:08.641722Z",
     "iopub.status.busy": "2022-07-28T03:11:08.638481Z",
     "iopub.status.idle": "2022-07-28T03:11:08.671280Z",
     "shell.execute_reply": "2022-07-28T03:11:08.670540Z"
    },
    "papermill": {
     "duration": 0.052483,
     "end_time": "2022-07-28T03:11:08.671455",
     "exception": false,
     "start_time": "2022-07-28T03:11:08.618972",
     "status": "completed"
    },
    "tags": []
   },
   "outputs": [],
   "source": [
    "#hide\n",
    "#df_all_mrk = read_api()"
   ]
  },
  {
   "cell_type": "code",
   "execution_count": 9,
   "id": "delayed-adapter",
   "metadata": {
    "execution": {
     "iopub.execute_input": "2022-07-28T03:11:08.716599Z",
     "iopub.status.busy": "2022-07-28T03:11:08.709314Z",
     "iopub.status.idle": "2022-07-28T03:11:08.739531Z",
     "shell.execute_reply": "2022-07-28T03:11:08.738975Z"
    },
    "papermill": {
     "duration": 0.051674,
     "end_time": "2022-07-28T03:11:08.739654",
     "exception": false,
     "start_time": "2022-07-28T03:11:08.687980",
     "status": "completed"
    },
    "tags": []
   },
   "outputs": [],
   "source": [
    "#hide\n",
    "#Koreliacijų koeficientai"
   ]
  },
  {
   "cell_type": "code",
   "execution_count": 10,
   "id": "seeing-celebration",
   "metadata": {
    "execution": {
     "iopub.execute_input": "2022-07-28T03:11:08.778196Z",
     "iopub.status.busy": "2022-07-28T03:11:08.776487Z",
     "iopub.status.idle": "2022-07-28T03:11:08.807376Z",
     "shell.execute_reply": "2022-07-28T03:11:08.806661Z"
    },
    "papermill": {
     "duration": 0.052262,
     "end_time": "2022-07-28T03:11:08.807542",
     "exception": false,
     "start_time": "2022-07-28T03:11:08.755280",
     "status": "completed"
    },
    "tags": []
   },
   "outputs": [],
   "source": [
    "#hide_input\n",
    "#sum_corr = df_all_mrk.corr().sum().sort_values(ascending=True).index.values\n",
    "#df_all_mrk[sum_corr].corr()"
   ]
  },
  {
   "cell_type": "code",
   "execution_count": 11,
   "id": "other-painting",
   "metadata": {
    "execution": {
     "iopub.execute_input": "2022-07-28T03:11:08.844835Z",
     "iopub.status.busy": "2022-07-28T03:11:08.840928Z",
     "iopub.status.idle": "2022-07-28T03:11:08.874062Z",
     "shell.execute_reply": "2022-07-28T03:11:08.872891Z"
    },
    "papermill": {
     "duration": 0.051413,
     "end_time": "2022-07-28T03:11:08.874198",
     "exception": false,
     "start_time": "2022-07-28T03:11:08.822785",
     "status": "completed"
    },
    "tags": []
   },
   "outputs": [],
   "source": [
    "#hide\n",
    "#Koreliacijos matrica. "
   ]
  },
  {
   "cell_type": "code",
   "execution_count": 12,
   "id": "modular-magnitude",
   "metadata": {
    "execution": {
     "iopub.execute_input": "2022-07-28T03:11:08.912809Z",
     "iopub.status.busy": "2022-07-28T03:11:08.907614Z",
     "iopub.status.idle": "2022-07-28T03:11:08.938356Z",
     "shell.execute_reply": "2022-07-28T03:11:08.937325Z"
    },
    "papermill": {
     "duration": 0.049201,
     "end_time": "2022-07-28T03:11:08.938488",
     "exception": false,
     "start_time": "2022-07-28T03:11:08.889287",
     "status": "completed"
    },
    "tags": []
   },
   "outputs": [],
   "source": [
    "#hide_input\n",
    "#plt.figure(figsize=(15, 8))\n",
    "#sns.heatmap(df_all_mrk[sum_corr].corr(), annot=True, cmap=\"BrBG\");\n",
    "#plt.savefig('corr_matrix_all.eps', format='eps')"
   ]
  },
  {
   "cell_type": "code",
   "execution_count": null,
   "id": "original-senator",
   "metadata": {
    "papermill": {
     "duration": 0.015098,
     "end_time": "2022-07-28T03:11:08.968381",
     "exception": false,
     "start_time": "2022-07-28T03:11:08.953283",
     "status": "completed"
    },
    "tags": []
   },
   "outputs": [],
   "source": []
  },
  {
   "cell_type": "code",
   "execution_count": null,
   "id": "saving-secretariat",
   "metadata": {
    "papermill": {
     "duration": 0.014868,
     "end_time": "2022-07-28T03:11:08.998109",
     "exception": false,
     "start_time": "2022-07-28T03:11:08.983241",
     "status": "completed"
    },
    "tags": []
   },
   "outputs": [],
   "source": []
  }
 ],
 "metadata": {
  "kernelspec": {
   "display_name": "Python 3",
   "language": "python",
   "name": "python3"
  },
  "language_info": {
   "codemirror_mode": {
    "name": "ipython",
    "version": 3
   },
   "file_extension": ".py",
   "mimetype": "text/x-python",
   "name": "python",
   "nbconvert_exporter": "python",
   "pygments_lexer": "ipython3",
   "version": "3.6.15"
  },
  "papermill": {
   "default_parameters": {},
   "duration": 16.9247,
   "end_time": "2022-07-28T03:11:09.534950",
   "environment_variables": {},
   "exception": null,
   "input_path": "App-Correlation_charts.ipynb",
   "output_path": "App-Correlation_charts.ipynb",
   "parameters": {},
   "start_time": "2022-07-28T03:10:52.610250",
   "version": "2.2.2"
  }
 },
 "nbformat": 4,
 "nbformat_minor": 5
}