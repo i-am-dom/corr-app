{
 "cells": [
  {
   "cell_type": "markdown",
   "id": "touched-facility",
   "metadata": {
    "papermill": {
     "duration": 0.014214,
     "end_time": "2021-12-04T01:58:10.212209",
     "exception": false,
     "start_time": "2021-12-04T01:58:10.197995",
     "status": "completed"
    },
    "tags": []
   },
   "source": [
    "# Koreliacijų matrica\n",
    "> Išplėstinė koreliacijų matrica. \n",
    "\n",
    "- toc: true \n",
    "- badges: true\n",
    "- comments: false\n",
    "- categories: [Dominykas Tautkus]\n",
    "- image: images/matrix.png"
   ]
  },
  {
   "cell_type": "code",
   "execution_count": null,
   "id": "premium-weekend",
   "metadata": {
    "papermill": {
     "duration": 0.01107,
     "end_time": "2021-12-04T01:58:10.235231",
     "exception": false,
     "start_time": "2021-12-04T01:58:10.224161",
     "status": "completed"
    },
    "tags": []
   },
   "outputs": [],
   "source": []
  },
  {
   "cell_type": "code",
   "execution_count": 1,
   "id": "vertical-rebate",
   "metadata": {
    "execution": {
     "iopub.execute_input": "2021-12-04T01:58:10.267634Z",
     "iopub.status.busy": "2021-12-04T01:58:10.265093Z",
     "iopub.status.idle": "2021-12-04T01:58:10.276898Z",
     "shell.execute_reply": "2021-12-04T01:58:10.276481Z"
    },
    "papermill": {
     "duration": 0.030891,
     "end_time": "2021-12-04T01:58:10.277011",
     "exception": false,
     "start_time": "2021-12-04T01:58:10.246120",
     "status": "completed"
    },
    "tags": []
   },
   "outputs": [],
   "source": [
    "#hide\n",
    "%load_ext autoreload\n",
    "%autoreload 2"
   ]
  },
  {
   "cell_type": "code",
   "execution_count": 2,
   "id": "overall-advancement",
   "metadata": {
    "execution": {
     "iopub.execute_input": "2021-12-04T01:58:10.302428Z",
     "iopub.status.busy": "2021-12-04T01:58:10.301921Z",
     "iopub.status.idle": "2021-12-04T01:58:11.531704Z",
     "shell.execute_reply": "2021-12-04T01:58:11.530821Z"
    },
    "papermill": {
     "duration": 1.243796,
     "end_time": "2021-12-04T01:58:11.531827",
     "exception": false,
     "start_time": "2021-12-04T01:58:10.288031",
     "status": "completed"
    },
    "tags": []
   },
   "outputs": [],
   "source": [
    "#hide\n",
    "from scripts.read_data import read_api\n",
    "from IPython.display import HTML\n",
    "import plotly.graph_objects as go\n"
   ]
  },
  {
   "cell_type": "code",
   "execution_count": 3,
   "id": "light-crazy",
   "metadata": {
    "execution": {
     "iopub.execute_input": "2021-12-04T01:58:11.559302Z",
     "iopub.status.busy": "2021-12-04T01:58:11.557862Z",
     "iopub.status.idle": "2021-12-04T01:58:11.578941Z",
     "shell.execute_reply": "2021-12-04T01:58:11.578426Z"
    },
    "papermill": {
     "duration": 0.035998,
     "end_time": "2021-12-04T01:58:11.579203",
     "exception": false,
     "start_time": "2021-12-04T01:58:11.543205",
     "status": "completed"
    },
    "tags": []
   },
   "outputs": [],
   "source": [
    "#hide\n",
    "### ICO koreliacija"
   ]
  },
  {
   "cell_type": "code",
   "execution_count": 4,
   "id": "likely-bahrain",
   "metadata": {
    "execution": {
     "iopub.execute_input": "2021-12-04T01:58:11.604954Z",
     "iopub.status.busy": "2021-12-04T01:58:11.604446Z",
     "iopub.status.idle": "2021-12-04T01:58:12.455882Z",
     "shell.execute_reply": "2021-12-04T01:58:12.456322Z"
    },
    "papermill": {
     "duration": 0.865986,
     "end_time": "2021-12-04T01:58:12.456453",
     "exception": false,
     "start_time": "2021-12-04T01:58:11.590467",
     "status": "completed"
    },
    "tags": []
   },
   "outputs": [],
   "source": [
    "#hide\n",
    "import matplotlib.pyplot as plt\n",
    "import numpy as np\n",
    "import pandas as pd\n",
    "import seaborn as sns\n",
    "import matplotlib.pyplot as plt \n",
    "import matplotlib.dates as mdates\n",
    "import matplotlib.pyplot as plt"
   ]
  },
  {
   "cell_type": "code",
   "execution_count": 5,
   "id": "superior-blanket",
   "metadata": {
    "execution": {
     "iopub.execute_input": "2021-12-04T01:58:12.482968Z",
     "iopub.status.busy": "2021-12-04T01:58:12.482444Z",
     "iopub.status.idle": "2021-12-04T01:58:27.611810Z",
     "shell.execute_reply": "2021-12-04T01:58:27.611343Z"
    },
    "papermill": {
     "duration": 15.144112,
     "end_time": "2021-12-04T01:58:27.611921",
     "exception": false,
     "start_time": "2021-12-04T01:58:12.467809",
     "status": "completed"
    },
    "tags": []
   },
   "outputs": [
    {
     "name": "stderr",
     "output_type": "stream",
     "text": [
      "/home/runner/work/corr-app/corr-app/_notebooks/scripts/read_data.py:187: SettingWithCopyWarning:\n",
      "\n",
      "\n",
      "A value is trying to be set on a copy of a slice from a DataFrame.\n",
      "Try using .loc[row_indexer,col_indexer] = value instead\n",
      "\n",
      "See the caveats in the documentation: https://pandas.pydata.org/pandas-docs/stable/user_guide/indexing.html#returning-a-view-versus-a-copy\n",
      "\n"
     ]
    },
    {
     "name": "stderr",
     "output_type": "stream",
     "text": [
      "/home/runner/work/corr-app/corr-app/_notebooks/scripts/read_data.py:215: SettingWithCopyWarning:\n",
      "\n",
      "\n",
      "A value is trying to be set on a copy of a slice from a DataFrame.\n",
      "Try using .loc[row_indexer,col_indexer] = value instead\n",
      "\n",
      "See the caveats in the documentation: https://pandas.pydata.org/pandas-docs/stable/user_guide/indexing.html#returning-a-view-versus-a-copy\n",
      "\n"
     ]
    }
   ],
   "source": [
    "#hide\n",
    "df_all = read_api()\n",
    "#df_all = df_all.drop(['SP500', 'XAU', 'ETH', 'BTC'], axis=1)\n",
    "\n"
   ]
  },
  {
   "cell_type": "code",
   "execution_count": 6,
   "id": "mature-alert",
   "metadata": {
    "execution": {
     "iopub.execute_input": "2021-12-04T01:58:27.639952Z",
     "iopub.status.busy": "2021-12-04T01:58:27.639432Z",
     "iopub.status.idle": "2021-12-04T01:58:27.666647Z",
     "shell.execute_reply": "2021-12-04T01:58:27.666212Z"
    },
    "papermill": {
     "duration": 0.042681,
     "end_time": "2021-12-04T01:58:27.666753",
     "exception": false,
     "start_time": "2021-12-04T01:58:27.624072",
     "status": "completed"
    },
    "tags": []
   },
   "outputs": [],
   "source": [
    "#hide_input\n",
    "sum_corr = df_all.corr().sum().sort_values(ascending=True).index.values\n",
    "#df_all[sum_corr].corr()"
   ]
  },
  {
   "cell_type": "markdown",
   "id": "complex-syndicate",
   "metadata": {
    "papermill": {
     "duration": 0.011666,
     "end_time": "2021-12-04T01:58:27.690162",
     "exception": false,
     "start_time": "2021-12-04T01:58:27.678496",
     "status": "completed"
    },
    "tags": []
   },
   "source": [
    "## Išplėstinė koreliacijų matrica. "
   ]
  },
  {
   "cell_type": "code",
   "execution_count": 7,
   "id": "atomic-omaha",
   "metadata": {
    "execution": {
     "iopub.execute_input": "2021-12-04T01:58:27.717167Z",
     "iopub.status.busy": "2021-12-04T01:58:27.716669Z",
     "iopub.status.idle": "2021-12-04T01:58:28.878400Z",
     "shell.execute_reply": "2021-12-04T01:58:28.877980Z"
    },
    "papermill": {
     "duration": 1.176757,
     "end_time": "2021-12-04T01:58:28.878510",
     "exception": false,
     "start_time": "2021-12-04T01:58:27.701753",
     "status": "completed"
    },
    "tags": []
   },
   "outputs": [
    {
     "data": {
      "image/png": "[encoded data removed]",
      "text/plain": [
       "<Figure size 1080x792 with 2 Axes>"
      ]
     },
     "metadata": {
      "needs_background": "light"
     },
     "output_type": "display_data"
    }
   ],
   "source": [
    "#hide_input\n",
    "plt.figure(figsize=(15, 11))\n",
    "sns.heatmap(df_all[sum_corr].corr(), annot=True, cmap=\"cubehelix\") \n",
    "sns.set(font_scale=1.25)\n",
    "plt.savefig('corr_matrix.png', format='eps')"
   ]
  },
  {
   "cell_type": "code",
   "execution_count": 8,
   "id": "arbitrary-sullivan",
   "metadata": {
    "execution": {
     "iopub.execute_input": "2021-12-04T01:58:28.908925Z",
     "iopub.status.busy": "2021-12-04T01:58:28.908424Z",
     "iopub.status.idle": "2021-12-04T01:58:28.931487Z",
     "shell.execute_reply": "2021-12-04T01:58:28.931882Z"
    },
    "papermill": {
     "duration": 0.039754,
     "end_time": "2021-12-04T01:58:28.932014",
     "exception": false,
     "start_time": "2021-12-04T01:58:28.892260",
     "status": "completed"
    },
    "tags": []
   },
   "outputs": [],
   "source": [
    "#hide\n",
    "#df_all_mrk = read_api()"
   ]
  },
  {
   "cell_type": "code",
   "execution_count": 9,
   "id": "delayed-adapter",
   "metadata": {
    "execution": {
     "iopub.execute_input": "2021-12-04T01:58:28.962131Z",
     "iopub.status.busy": "2021-12-04T01:58:28.961635Z",
     "iopub.status.idle": "2021-12-04T01:58:28.985096Z",
     "shell.execute_reply": "2021-12-04T01:58:28.984668Z"
    },
    "papermill": {
     "duration": 0.039566,
     "end_time": "2021-12-04T01:58:28.985202",
     "exception": false,
     "start_time": "2021-12-04T01:58:28.945636",
     "status": "completed"
    },
    "tags": []
   },
   "outputs": [],
   "source": [
    "#hide\n",
    "#Koreliacijų koeficientai"
   ]
  },
  {
   "cell_type": "code",
   "execution_count": 10,
   "id": "seeing-celebration",
   "metadata": {
    "execution": {
     "iopub.execute_input": "2021-12-04T01:58:29.015398Z",
     "iopub.status.busy": "2021-12-04T01:58:29.014908Z",
     "iopub.status.idle": "2021-12-04T01:58:29.037907Z",
     "shell.execute_reply": "2021-12-04T01:58:29.038286Z"
    },
    "papermill": {
     "duration": 0.039484,
     "end_time": "2021-12-04T01:58:29.038413",
     "exception": false,
     "start_time": "2021-12-04T01:58:28.998929",
     "status": "completed"
    },
    "tags": []
   },
   "outputs": [],
   "source": [
    "#hide_input\n",
    "#sum_corr = df_all_mrk.corr().sum().sort_values(ascending=True).index.values\n",
    "#df_all_mrk[sum_corr].corr()"
   ]
  },
  {
   "cell_type": "code",
   "execution_count": 11,
   "id": "other-painting",
   "metadata": {
    "execution": {
     "iopub.execute_input": "2021-12-04T01:58:29.068609Z",
     "iopub.status.busy": "2021-12-04T01:58:29.068108Z",
     "iopub.status.idle": "2021-12-04T01:58:29.091060Z",
     "shell.execute_reply": "2021-12-04T01:58:29.091431Z"
    },
    "papermill": {
     "duration": 0.03961,
     "end_time": "2021-12-04T01:58:29.091555",
     "exception": false,
     "start_time": "2021-12-04T01:58:29.051945",
     "status": "completed"
    },
    "tags": []
   },
   "outputs": [],
   "source": [
    "#hide\n",
    "#Koreliacijos matrica. "
   ]
  },
  {
   "cell_type": "code",
   "execution_count": 12,
   "id": "modular-magnitude",
   "metadata": {
    "execution": {
     "iopub.execute_input": "2021-12-04T01:58:29.121961Z",
     "iopub.status.busy": "2021-12-04T01:58:29.121456Z",
     "iopub.status.idle": "2021-12-04T01:58:29.144930Z",
     "shell.execute_reply": "2021-12-04T01:58:29.144526Z"
    },
    "papermill": {
     "duration": 0.039714,
     "end_time": "2021-12-04T01:58:29.145036",
     "exception": false,
     "start_time": "2021-12-04T01:58:29.105322",
     "status": "completed"
    },
    "tags": []
   },
   "outputs": [],
   "source": [
    "#hide_input\n",
    "#plt.figure(figsize=(15, 8))\n",
    "#sns.heatmap(df_all_mrk[sum_corr].corr(), annot=True, cmap=\"BrBG\");\n",
    "#plt.savefig('corr_matrix_all.eps', format='eps')"
   ]
  },
  {
   "cell_type": "code",
   "execution_count": null,
   "id": "original-senator",
   "metadata": {
    "papermill": {
     "duration": 0.013316,
     "end_time": "2021-12-04T01:58:29.171822",
     "exception": false,
     "start_time": "2021-12-04T01:58:29.158506",
     "status": "completed"
    },
    "tags": []
   },
   "outputs": [],
   "source": []
  },
  {
   "cell_type": "code",
   "execution_count": null,
   "id": "saving-secretariat",
   "metadata": {
    "papermill": {
     "duration": 0.013439,
     "end_time": "2021-12-04T01:58:29.198648",
     "exception": false,
     "start_time": "2021-12-04T01:58:29.185209",
     "status": "completed"
    },
    "tags": []
   },
   "outputs": [],
   "source": []
  }
 ],
 "metadata": {
  "kernelspec": {
   "display_name": "Python 3",
   "language": "python",
   "name": "python3"
  },
  "language_info": {
   "codemirror_mode": {
    "name": "ipython",
    "version": 3
   },
   "file_extension": ".py",
   "mimetype": "text/x-python",
   "name": "python",
   "nbconvert_exporter": "python",
   "pygments_lexer": "ipython3",
   "version": "3.6.15"
  },
  "papermill": {
   "default_parameters": {},
   "duration": 20.32246,
   "end_time": "2021-12-04T01:58:29.618897",
   "environment_variables": {},
   "exception": null,
   "input_path": "App-Correlation_charts.ipynb",
   "output_path": "App-Correlation_charts.ipynb",
   "parameters": {},
   "start_time": "2021-12-04T01:58:09.296437",
   "version": "2.2.2"
  }
 },
 "nbformat": 4,
 "nbformat_minor": 5
}