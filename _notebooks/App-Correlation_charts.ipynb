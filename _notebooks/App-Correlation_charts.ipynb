{
 "cells": [
  {
   "cell_type": "markdown",
   "id": "touched-facility",
   "metadata": {
    "papermill": {
     "duration": 0.014523,
     "end_time": "2022-01-27T01:58:23.995010",
     "exception": false,
     "start_time": "2022-01-27T01:58:23.980487",
     "status": "completed"
    },
    "tags": []
   },
   "source": [
    "# Koreliacijų matrica\n",
    "> Išplėstinė koreliacijų matrica. \n",
    "\n",
    "- toc: true \n",
    "- badges: true\n",
    "- comments: false\n",
    "- categories: [Dominykas Tautkus]\n",
    "- image: images/matrix.png"
   ]
  },
  {
   "cell_type": "code",
   "execution_count": null,
   "id": "premium-weekend",
   "metadata": {
    "papermill": {
     "duration": 0.010654,
     "end_time": "2022-01-27T01:58:24.017075",
     "exception": false,
     "start_time": "2022-01-27T01:58:24.006421",
     "status": "completed"
    },
    "tags": []
   },
   "outputs": [],
   "source": []
  },
  {
   "cell_type": "code",
   "execution_count": 1,
   "id": "vertical-rebate",
   "metadata": {
    "execution": {
     "iopub.execute_input": "2022-01-27T01:58:24.049265Z",
     "iopub.status.busy": "2022-01-27T01:58:24.048743Z",
     "iopub.status.idle": "2022-01-27T01:58:24.058823Z",
     "shell.execute_reply": "2022-01-27T01:58:24.059207Z"
    },
    "papermill": {
     "duration": 0.031704,
     "end_time": "2022-01-27T01:58:24.059363",
     "exception": false,
     "start_time": "2022-01-27T01:58:24.027659",
     "status": "completed"
    },
    "tags": []
   },
   "outputs": [],
   "source": [
    "#hide\n",
    "%load_ext autoreload\n",
    "%autoreload 2"
   ]
  },
  {
   "cell_type": "code",
   "execution_count": 2,
   "id": "overall-advancement",
   "metadata": {
    "execution": {
     "iopub.execute_input": "2022-01-27T01:58:24.084079Z",
     "iopub.status.busy": "2022-01-27T01:58:24.083570Z",
     "iopub.status.idle": "2022-01-27T01:58:25.270693Z",
     "shell.execute_reply": "2022-01-27T01:58:25.270152Z"
    },
    "papermill": {
     "duration": 1.200779,
     "end_time": "2022-01-27T01:58:25.270841",
     "exception": false,
     "start_time": "2022-01-27T01:58:24.070062",
     "status": "completed"
    },
    "tags": []
   },
   "outputs": [],
   "source": [
    "#hide\n",
    "from scripts.read_data import read_api\n",
    "from IPython.display import HTML\n",
    "import plotly.graph_objects as go\n"
   ]
  },
  {
   "cell_type": "code",
   "execution_count": 3,
   "id": "light-crazy",
   "metadata": {
    "execution": {
     "iopub.execute_input": "2022-01-27T01:58:25.299812Z",
     "iopub.status.busy": "2022-01-27T01:58:25.298721Z",
     "iopub.status.idle": "2022-01-27T01:58:25.320522Z",
     "shell.execute_reply": "2022-01-27T01:58:25.320017Z"
    },
    "papermill": {
     "duration": 0.038046,
     "end_time": "2022-01-27T01:58:25.320657",
     "exception": false,
     "start_time": "2022-01-27T01:58:25.282611",
     "status": "completed"
    },
    "tags": []
   },
   "outputs": [],
   "source": [
    "#hide\n",
    "### ICO koreliacija"
   ]
  },
  {
   "cell_type": "code",
   "execution_count": 4,
   "id": "likely-bahrain",
   "metadata": {
    "execution": {
     "iopub.execute_input": "2022-01-27T01:58:25.348043Z",
     "iopub.status.busy": "2022-01-27T01:58:25.347309Z",
     "iopub.status.idle": "2022-01-27T01:58:26.235011Z",
     "shell.execute_reply": "2022-01-27T01:58:26.235430Z"
    },
    "papermill": {
     "duration": 0.902901,
     "end_time": "2022-01-27T01:58:26.235591",
     "exception": false,
     "start_time": "2022-01-27T01:58:25.332690",
     "status": "completed"
    },
    "tags": []
   },
   "outputs": [],
   "source": [
    "#hide\n",
    "import matplotlib.pyplot as plt\n",
    "import numpy as np\n",
    "import pandas as pd\n",
    "import seaborn as sns\n",
    "import matplotlib.pyplot as plt \n",
    "import matplotlib.dates as mdates\n",
    "import matplotlib.pyplot as plt"
   ]
  },
  {
   "cell_type": "code",
   "execution_count": 5,
   "id": "superior-blanket",
   "metadata": {
    "execution": {
     "iopub.execute_input": "2022-01-27T01:58:26.282150Z",
     "iopub.status.busy": "2022-01-27T01:58:26.278374Z",
     "iopub.status.idle": "2022-01-27T01:58:37.552363Z",
     "shell.execute_reply": "2022-01-27T01:58:37.551864Z"
    },
    "papermill": {
     "duration": 11.305677,
     "end_time": "2022-01-27T01:58:37.552488",
     "exception": false,
     "start_time": "2022-01-27T01:58:26.246811",
     "status": "completed"
    },
    "tags": []
   },
   "outputs": [
    {
     "name": "stderr",
     "output_type": "stream",
     "text": [
      "/home/runner/work/corr-app/corr-app/_notebooks/scripts/read_data.py:187: SettingWithCopyWarning:\n",
      "\n",
      "\n",
      "A value is trying to be set on a copy of a slice from a DataFrame.\n",
      "Try using .loc[row_indexer,col_indexer] = value instead\n",
      "\n",
      "See the caveats in the documentation: https://pandas.pydata.org/pandas-docs/stable/user_guide/indexing.html#returning-a-view-versus-a-copy\n",
      "\n"
     ]
    },
    {
     "name": "stderr",
     "output_type": "stream",
     "text": [
      "/home/runner/work/corr-app/corr-app/_notebooks/scripts/read_data.py:215: SettingWithCopyWarning:\n",
      "\n",
      "\n",
      "A value is trying to be set on a copy of a slice from a DataFrame.\n",
      "Try using .loc[row_indexer,col_indexer] = value instead\n",
      "\n",
      "See the caveats in the documentation: https://pandas.pydata.org/pandas-docs/stable/user_guide/indexing.html#returning-a-view-versus-a-copy\n",
      "\n"
     ]
    }
   ],
   "source": [
    "#hide\n",
    "df_all = read_api()\n",
    "#df_all = df_all.drop(['SP500', 'XAU', 'ETH', 'BTC'], axis=1)\n",
    "\n"
   ]
  },
  {
   "cell_type": "code",
   "execution_count": 6,
   "id": "mature-alert",
   "metadata": {
    "execution": {
     "iopub.execute_input": "2022-01-27T01:58:37.579903Z",
     "iopub.status.busy": "2022-01-27T01:58:37.578641Z",
     "iopub.status.idle": "2022-01-27T01:58:37.611330Z",
     "shell.execute_reply": "2022-01-27T01:58:37.610795Z"
    },
    "papermill": {
     "duration": 0.047315,
     "end_time": "2022-01-27T01:58:37.611467",
     "exception": false,
     "start_time": "2022-01-27T01:58:37.564152",
     "status": "completed"
    },
    "tags": []
   },
   "outputs": [],
   "source": [
    "#hide_input\n",
    "sum_corr = df_all.corr().sum().sort_values(ascending=True).index.values\n",
    "#df_all[sum_corr].corr()"
   ]
  },
  {
   "cell_type": "markdown",
   "id": "complex-syndicate",
   "metadata": {
    "papermill": {
     "duration": 0.01119,
     "end_time": "2022-01-27T01:58:37.634649",
     "exception": false,
     "start_time": "2022-01-27T01:58:37.623459",
     "status": "completed"
    },
    "tags": []
   },
   "source": [
    "## Išplėstinė koreliacijų matrica. "
   ]
  },
  {
   "cell_type": "code",
   "execution_count": 7,
   "id": "atomic-omaha",
   "metadata": {
    "execution": {
     "iopub.execute_input": "2022-01-27T01:58:37.662995Z",
     "iopub.status.busy": "2022-01-27T01:58:37.662488Z",
     "iopub.status.idle": "2022-01-27T01:58:38.923337Z",
     "shell.execute_reply": "2022-01-27T01:58:38.923732Z"
    },
    "papermill": {
     "duration": 1.278076,
     "end_time": "2022-01-27T01:58:38.923885",
     "exception": false,
     "start_time": "2022-01-27T01:58:37.645809",
     "status": "completed"
    },
    "tags": []
   },
   "outputs": [
    {
     "data": {
      "image/png": "[encoded data removed]",
      "text/plain": [
       "<Figure size 1080x792 with 2 Axes>"
      ]
     },
     "metadata": {
      "needs_background": "light"
     },
     "output_type": "display_data"
    }
   ],
   "source": [
    "#hide_input\n",
    "plt.figure(figsize=(15, 11))\n",
    "sns.heatmap(df_all[sum_corr].corr(), annot=True, cmap=\"cubehelix\") \n",
    "sns.set(font_scale=1.25)\n",
    "plt.savefig('corr_matrix.png', format='eps')"
   ]
  },
  {
   "cell_type": "code",
   "execution_count": 8,
   "id": "arbitrary-sullivan",
   "metadata": {
    "execution": {
     "iopub.execute_input": "2022-01-27T01:58:38.954168Z",
     "iopub.status.busy": "2022-01-27T01:58:38.953641Z",
     "iopub.status.idle": "2022-01-27T01:58:38.980540Z",
     "shell.execute_reply": "2022-01-27T01:58:38.980059Z"
    },
    "papermill": {
     "duration": 0.043306,
     "end_time": "2022-01-27T01:58:38.980674",
     "exception": false,
     "start_time": "2022-01-27T01:58:38.937368",
     "status": "completed"
    },
    "tags": []
   },
   "outputs": [],
   "source": [
    "#hide\n",
    "#df_all_mrk = read_api()"
   ]
  },
  {
   "cell_type": "code",
   "execution_count": 9,
   "id": "delayed-adapter",
   "metadata": {
    "execution": {
     "iopub.execute_input": "2022-01-27T01:58:39.026614Z",
     "iopub.status.busy": "2022-01-27T01:58:39.022236Z",
     "iopub.status.idle": "2022-01-27T01:58:39.044639Z",
     "shell.execute_reply": "2022-01-27T01:58:39.044209Z"
    },
    "papermill": {
     "duration": 0.050243,
     "end_time": "2022-01-27T01:58:39.044762",
     "exception": false,
     "start_time": "2022-01-27T01:58:38.994519",
     "status": "completed"
    },
    "tags": []
   },
   "outputs": [],
   "source": [
    "#hide\n",
    "#Koreliacijų koeficientai"
   ]
  },
  {
   "cell_type": "code",
   "execution_count": 10,
   "id": "seeing-celebration",
   "metadata": {
    "execution": {
     "iopub.execute_input": "2022-01-27T01:58:39.079222Z",
     "iopub.status.busy": "2022-01-27T01:58:39.078681Z",
     "iopub.status.idle": "2022-01-27T01:58:39.103991Z",
     "shell.execute_reply": "2022-01-27T01:58:39.103463Z"
    },
    "papermill": {
     "duration": 0.045882,
     "end_time": "2022-01-27T01:58:39.104139",
     "exception": false,
     "start_time": "2022-01-27T01:58:39.058257",
     "status": "completed"
    },
    "tags": []
   },
   "outputs": [],
   "source": [
    "#hide_input\n",
    "#sum_corr = df_all_mrk.corr().sum().sort_values(ascending=True).index.values\n",
    "#df_all_mrk[sum_corr].corr()"
   ]
  },
  {
   "cell_type": "code",
   "execution_count": 11,
   "id": "other-painting",
   "metadata": {
    "execution": {
     "iopub.execute_input": "2022-01-27T01:58:39.141981Z",
     "iopub.status.busy": "2022-01-27T01:58:39.141436Z",
     "iopub.status.idle": "2022-01-27T01:58:39.164417Z",
     "shell.execute_reply": "2022-01-27T01:58:39.163900Z"
    },
    "papermill": {
     "duration": 0.04655,
     "end_time": "2022-01-27T01:58:39.164562",
     "exception": false,
     "start_time": "2022-01-27T01:58:39.118012",
     "status": "completed"
    },
    "tags": []
   },
   "outputs": [],
   "source": [
    "#hide\n",
    "#Koreliacijos matrica. "
   ]
  },
  {
   "cell_type": "code",
   "execution_count": 12,
   "id": "modular-magnitude",
   "metadata": {
    "execution": {
     "iopub.execute_input": "2022-01-27T01:58:39.199999Z",
     "iopub.status.busy": "2022-01-27T01:58:39.199485Z",
     "iopub.status.idle": "2022-01-27T01:58:39.223778Z",
     "shell.execute_reply": "2022-01-27T01:58:39.223267Z"
    },
    "papermill": {
     "duration": 0.045253,
     "end_time": "2022-01-27T01:58:39.223915",
     "exception": false,
     "start_time": "2022-01-27T01:58:39.178662",
     "status": "completed"
    },
    "tags": []
   },
   "outputs": [],
   "source": [
    "#hide_input\n",
    "#plt.figure(figsize=(15, 8))\n",
    "#sns.heatmap(df_all_mrk[sum_corr].corr(), annot=True, cmap=\"BrBG\");\n",
    "#plt.savefig('corr_matrix_all.eps', format='eps')"
   ]
  },
  {
   "cell_type": "code",
   "execution_count": null,
   "id": "original-senator",
   "metadata": {
    "papermill": {
     "duration": 0.013221,
     "end_time": "2022-01-27T01:58:39.251291",
     "exception": false,
     "start_time": "2022-01-27T01:58:39.238070",
     "status": "completed"
    },
    "tags": []
   },
   "outputs": [],
   "source": []
  },
  {
   "cell_type": "code",
   "execution_count": null,
   "id": "saving-secretariat",
   "metadata": {
    "papermill": {
     "duration": 0.01419,
     "end_time": "2022-01-27T01:58:39.278652",
     "exception": false,
     "start_time": "2022-01-27T01:58:39.264462",
     "status": "completed"
    },
    "tags": []
   },
   "outputs": [],
   "source": []
  }
 ],
 "metadata": {
  "kernelspec": {
   "display_name": "Python 3",
   "language": "python",
   "name": "python3"
  },
  "language_info": {
   "codemirror_mode": {
    "name": "ipython",
    "version": 3
   },
   "file_extension": ".py",
   "mimetype": "text/x-python",
   "name": "python",
   "nbconvert_exporter": "python",
   "pygments_lexer": "ipython3",
   "version": "3.6.15"
  },
  "papermill": {
   "default_parameters": {},
   "duration": 16.867031,
   "end_time": "2022-01-27T01:58:39.911083",
   "environment_variables": {},
   "exception": null,
   "input_path": "App-Correlation_charts.ipynb",
   "output_path": "App-Correlation_charts.ipynb",
   "parameters": {},
   "start_time": "2022-01-27T01:58:23.044052",
   "version": "2.2.2"
  }
 },
 "nbformat": 4,
 "nbformat_minor": 5
}