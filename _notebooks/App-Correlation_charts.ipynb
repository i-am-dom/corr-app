{
 "cells": [
  {
   "cell_type": "markdown",
   "id": "touched-facility",
   "metadata": {
    "papermill": {
     "duration": 0.015883,
     "end_time": "2022-10-23T03:34:45.962339",
     "exception": false,
     "start_time": "2022-10-23T03:34:45.946456",
     "status": "completed"
    },
    "tags": []
   },
   "source": [
    "# Koreliacijų matrica\n",
    "> Išplėstinė koreliacijų matrica. \n",
    "\n",
    "- toc: true \n",
    "- badges: true\n",
    "- comments: false\n",
    "- categories: [Dominykas Tautkus]\n",
    "- image: images/matrix.png"
   ]
  },
  {
   "cell_type": "code",
   "execution_count": null,
   "id": "premium-weekend",
   "metadata": {
    "papermill": {
     "duration": 0.012378,
     "end_time": "2022-10-23T03:34:45.987606",
     "exception": false,
     "start_time": "2022-10-23T03:34:45.975228",
     "status": "completed"
    },
    "tags": []
   },
   "outputs": [],
   "source": []
  },
  {
   "cell_type": "code",
   "execution_count": 1,
   "id": "vertical-rebate",
   "metadata": {
    "execution": {
     "iopub.execute_input": "2022-10-23T03:34:46.027006Z",
     "iopub.status.busy": "2022-10-23T03:34:46.025747Z",
     "iopub.status.idle": "2022-10-23T03:34:46.038056Z",
     "shell.execute_reply": "2022-10-23T03:34:46.037447Z"
    },
    "papermill": {
     "duration": 0.038461,
     "end_time": "2022-10-23T03:34:46.038201",
     "exception": false,
     "start_time": "2022-10-23T03:34:45.999740",
     "status": "completed"
    },
    "tags": []
   },
   "outputs": [],
   "source": [
    "#hide\n",
    "%load_ext autoreload\n",
    "%autoreload 2"
   ]
  },
  {
   "cell_type": "code",
   "execution_count": 2,
   "id": "overall-advancement",
   "metadata": {
    "execution": {
     "iopub.execute_input": "2022-10-23T03:34:46.068810Z",
     "iopub.status.busy": "2022-10-23T03:34:46.068117Z",
     "iopub.status.idle": "2022-10-23T03:34:47.577519Z",
     "shell.execute_reply": "2022-10-23T03:34:47.578360Z"
    },
    "papermill": {
     "duration": 1.527532,
     "end_time": "2022-10-23T03:34:47.578523",
     "exception": false,
     "start_time": "2022-10-23T03:34:46.050991",
     "status": "completed"
    },
    "tags": []
   },
   "outputs": [],
   "source": [
    "#hide\n",
    "from scripts.read_data import read_api\n",
    "from IPython.display import HTML\n",
    "import plotly.graph_objects as go\n"
   ]
  },
  {
   "cell_type": "code",
   "execution_count": 3,
   "id": "light-crazy",
   "metadata": {
    "execution": {
     "iopub.execute_input": "2022-10-23T03:34:47.610189Z",
     "iopub.status.busy": "2022-10-23T03:34:47.608448Z",
     "iopub.status.idle": "2022-10-23T03:34:47.637143Z",
     "shell.execute_reply": "2022-10-23T03:34:47.636533Z"
    },
    "papermill": {
     "duration": 0.046322,
     "end_time": "2022-10-23T03:34:47.637279",
     "exception": false,
     "start_time": "2022-10-23T03:34:47.590957",
     "status": "completed"
    },
    "tags": []
   },
   "outputs": [],
   "source": [
    "#hide\n",
    "### ICO koreliacija"
   ]
  },
  {
   "cell_type": "code",
   "execution_count": 4,
   "id": "likely-bahrain",
   "metadata": {
    "execution": {
     "iopub.execute_input": "2022-10-23T03:34:47.681634Z",
     "iopub.status.busy": "2022-10-23T03:34:47.680915Z",
     "iopub.status.idle": "2022-10-23T03:34:48.721123Z",
     "shell.execute_reply": "2022-10-23T03:34:48.722083Z"
    },
    "papermill": {
     "duration": 1.065469,
     "end_time": "2022-10-23T03:34:48.722349",
     "exception": false,
     "start_time": "2022-10-23T03:34:47.656880",
     "status": "completed"
    },
    "tags": []
   },
   "outputs": [],
   "source": [
    "#hide\n",
    "import matplotlib.pyplot as plt\n",
    "import numpy as np\n",
    "import pandas as pd\n",
    "import seaborn as sns\n",
    "import matplotlib.pyplot as plt \n",
    "import matplotlib.dates as mdates\n",
    "import matplotlib.pyplot as plt"
   ]
  },
  {
   "cell_type": "code",
   "execution_count": 5,
   "id": "superior-blanket",
   "metadata": {
    "execution": {
     "iopub.execute_input": "2022-10-23T03:34:48.757003Z",
     "iopub.status.busy": "2022-10-23T03:34:48.755213Z",
     "iopub.status.idle": "2022-10-23T03:35:04.107539Z",
     "shell.execute_reply": "2022-10-23T03:35:04.106801Z"
    },
    "papermill": {
     "duration": 15.370954,
     "end_time": "2022-10-23T03:35:04.107678",
     "exception": false,
     "start_time": "2022-10-23T03:34:48.736724",
     "status": "completed"
    },
    "tags": []
   },
   "outputs": [
    {
     "name": "stderr",
     "output_type": "stream",
     "text": [
      "/home/runner/work/corr-app/corr-app/_notebooks/scripts/read_data.py:187: SettingWithCopyWarning:\n",
      "\n",
      "\n",
      "A value is trying to be set on a copy of a slice from a DataFrame.\n",
      "Try using .loc[row_indexer,col_indexer] = value instead\n",
      "\n",
      "See the caveats in the documentation: https://pandas.pydata.org/pandas-docs/stable/user_guide/indexing.html#returning-a-view-versus-a-copy\n",
      "\n"
     ]
    },
    {
     "name": "stderr",
     "output_type": "stream",
     "text": [
      "/home/runner/work/corr-app/corr-app/_notebooks/scripts/read_data.py:215: SettingWithCopyWarning:\n",
      "\n",
      "\n",
      "A value is trying to be set on a copy of a slice from a DataFrame.\n",
      "Try using .loc[row_indexer,col_indexer] = value instead\n",
      "\n",
      "See the caveats in the documentation: https://pandas.pydata.org/pandas-docs/stable/user_guide/indexing.html#returning-a-view-versus-a-copy\n",
      "\n"
     ]
    }
   ],
   "source": [
    "#hide\n",
    "df_all = read_api()\n",
    "#df_all = df_all.drop(['SP500', 'XAU', 'ETH', 'BTC'], axis=1)\n",
    "\n"
   ]
  },
  {
   "cell_type": "code",
   "execution_count": 6,
   "id": "mature-alert",
   "metadata": {
    "execution": {
     "iopub.execute_input": "2022-10-23T03:35:04.148014Z",
     "iopub.status.busy": "2022-10-23T03:35:04.147167Z",
     "iopub.status.idle": "2022-10-23T03:35:04.185992Z",
     "shell.execute_reply": "2022-10-23T03:35:04.184711Z"
    },
    "papermill": {
     "duration": 0.063353,
     "end_time": "2022-10-23T03:35:04.186230",
     "exception": false,
     "start_time": "2022-10-23T03:35:04.122877",
     "status": "completed"
    },
    "tags": []
   },
   "outputs": [],
   "source": [
    "#hide_input\n",
    "sum_corr = df_all.corr().sum().sort_values(ascending=True).index.values\n",
    "#df_all[sum_corr].corr()"
   ]
  },
  {
   "cell_type": "markdown",
   "id": "complex-syndicate",
   "metadata": {
    "papermill": {
     "duration": 0.013767,
     "end_time": "2022-10-23T03:35:04.213866",
     "exception": false,
     "start_time": "2022-10-23T03:35:04.200099",
     "status": "completed"
    },
    "tags": []
   },
   "source": [
    "## Išplėstinė koreliacijų matrica. "
   ]
  },
  {
   "cell_type": "code",
   "execution_count": 7,
   "id": "atomic-omaha",
   "metadata": {
    "execution": {
     "iopub.execute_input": "2022-10-23T03:35:04.247614Z",
     "iopub.status.busy": "2022-10-23T03:35:04.246913Z",
     "iopub.status.idle": "2022-10-23T03:35:05.730233Z",
     "shell.execute_reply": "2022-10-23T03:35:05.729404Z"
    },
    "papermill": {
     "duration": 1.503272,
     "end_time": "2022-10-23T03:35:05.730399",
     "exception": false,
     "start_time": "2022-10-23T03:35:04.227127",
     "status": "completed"
    },
    "tags": []
   },
   "outputs": [
    {
     "data": {
      "image/png": "[encoded data removed]",
      "text/plain": [
       "<Figure size 1080x792 with 2 Axes>"
      ]
     },
     "metadata": {
      "needs_background": "light"
     },
     "output_type": "display_data"
    }
   ],
   "source": [
    "#hide_input\n",
    "plt.figure(figsize=(15, 11))\n",
    "sns.heatmap(df_all[sum_corr].corr(), annot=True, cmap=\"cubehelix\") \n",
    "sns.set(font_scale=1.25)\n",
    "plt.savefig('corr_matrix.png', format='eps')"
   ]
  },
  {
   "cell_type": "code",
   "execution_count": 8,
   "id": "arbitrary-sullivan",
   "metadata": {
    "execution": {
     "iopub.execute_input": "2022-10-23T03:35:05.767977Z",
     "iopub.status.busy": "2022-10-23T03:35:05.767286Z",
     "iopub.status.idle": "2022-10-23T03:35:05.800233Z",
     "shell.execute_reply": "2022-10-23T03:35:05.799653Z"
    },
    "papermill": {
     "duration": 0.053983,
     "end_time": "2022-10-23T03:35:05.800376",
     "exception": false,
     "start_time": "2022-10-23T03:35:05.746393",
     "status": "completed"
    },
    "tags": []
   },
   "outputs": [],
   "source": [
    "#hide\n",
    "#df_all_mrk = read_api()"
   ]
  },
  {
   "cell_type": "code",
   "execution_count": 9,
   "id": "delayed-adapter",
   "metadata": {
    "execution": {
     "iopub.execute_input": "2022-10-23T03:35:05.836867Z",
     "iopub.status.busy": "2022-10-23T03:35:05.836180Z",
     "iopub.status.idle": "2022-10-23T03:35:05.870799Z",
     "shell.execute_reply": "2022-10-23T03:35:05.870183Z"
    },
    "papermill": {
     "duration": 0.054139,
     "end_time": "2022-10-23T03:35:05.870937",
     "exception": false,
     "start_time": "2022-10-23T03:35:05.816798",
     "status": "completed"
    },
    "tags": []
   },
   "outputs": [],
   "source": [
    "#hide\n",
    "#Koreliacijų koeficientai"
   ]
  },
  {
   "cell_type": "code",
   "execution_count": 10,
   "id": "seeing-celebration",
   "metadata": {
    "execution": {
     "iopub.execute_input": "2022-10-23T03:35:05.910320Z",
     "iopub.status.busy": "2022-10-23T03:35:05.906973Z",
     "iopub.status.idle": "2022-10-23T03:35:05.940211Z",
     "shell.execute_reply": "2022-10-23T03:35:05.939547Z"
    },
    "papermill": {
     "duration": 0.053103,
     "end_time": "2022-10-23T03:35:05.940350",
     "exception": false,
     "start_time": "2022-10-23T03:35:05.887247",
     "status": "completed"
    },
    "tags": []
   },
   "outputs": [],
   "source": [
    "#hide_input\n",
    "#sum_corr = df_all_mrk.corr().sum().sort_values(ascending=True).index.values\n",
    "#df_all_mrk[sum_corr].corr()"
   ]
  },
  {
   "cell_type": "code",
   "execution_count": 11,
   "id": "other-painting",
   "metadata": {
    "execution": {
     "iopub.execute_input": "2022-10-23T03:35:05.981497Z",
     "iopub.status.busy": "2022-10-23T03:35:05.980769Z",
     "iopub.status.idle": "2022-10-23T03:35:06.011532Z",
     "shell.execute_reply": "2022-10-23T03:35:06.010863Z"
    },
    "papermill": {
     "duration": 0.055323,
     "end_time": "2022-10-23T03:35:06.011679",
     "exception": false,
     "start_time": "2022-10-23T03:35:05.956356",
     "status": "completed"
    },
    "tags": []
   },
   "outputs": [],
   "source": [
    "#hide\n",
    "#Koreliacijos matrica. "
   ]
  },
  {
   "cell_type": "code",
   "execution_count": 12,
   "id": "modular-magnitude",
   "metadata": {
    "execution": {
     "iopub.execute_input": "2022-10-23T03:35:06.050041Z",
     "iopub.status.busy": "2022-10-23T03:35:06.048934Z",
     "iopub.status.idle": "2022-10-23T03:35:06.081783Z",
     "shell.execute_reply": "2022-10-23T03:35:06.082325Z"
    },
    "papermill": {
     "duration": 0.054571,
     "end_time": "2022-10-23T03:35:06.082489",
     "exception": false,
     "start_time": "2022-10-23T03:35:06.027918",
     "status": "completed"
    },
    "tags": []
   },
   "outputs": [],
   "source": [
    "#hide_input\n",
    "#plt.figure(figsize=(15, 8))\n",
    "#sns.heatmap(df_all_mrk[sum_corr].corr(), annot=True, cmap=\"BrBG\");\n",
    "#plt.savefig('corr_matrix_all.eps', format='eps')"
   ]
  },
  {
   "cell_type": "code",
   "execution_count": null,
   "id": "original-senator",
   "metadata": {
    "papermill": {
     "duration": 0.015492,
     "end_time": "2022-10-23T03:35:06.113860",
     "exception": false,
     "start_time": "2022-10-23T03:35:06.098368",
     "status": "completed"
    },
    "tags": []
   },
   "outputs": [],
   "source": []
  },
  {
   "cell_type": "code",
   "execution_count": null,
   "id": "saving-secretariat",
   "metadata": {
    "papermill": {
     "duration": 0.01553,
     "end_time": "2022-10-23T03:35:06.145580",
     "exception": false,
     "start_time": "2022-10-23T03:35:06.130050",
     "status": "completed"
    },
    "tags": []
   },
   "outputs": [],
   "source": []
  }
 ],
 "metadata": {
  "kernelspec": {
   "display_name": "Python 3",
   "language": "python",
   "name": "python3"
  },
  "language_info": {
   "codemirror_mode": {
    "name": "ipython",
    "version": 3
   },
   "file_extension": ".py",
   "mimetype": "text/x-python",
   "name": "python",
   "nbconvert_exporter": "python",
   "pygments_lexer": "ipython3",
   "version": "3.6.15"
  },
  "papermill": {
   "default_parameters": {},
   "duration": 22.126025,
   "end_time": "2022-10-23T03:35:06.782717",
   "environment_variables": {},
   "exception": null,
   "input_path": "App-Correlation_charts.ipynb",
   "output_path": "App-Correlation_charts.ipynb",
   "parameters": {},
   "start_time": "2022-10-23T03:34:44.656692",
   "version": "2.2.2"
  }
 },
 "nbformat": 4,
 "nbformat_minor": 5
}