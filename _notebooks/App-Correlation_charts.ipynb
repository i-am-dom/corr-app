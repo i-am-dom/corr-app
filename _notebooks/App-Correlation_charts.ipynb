{
 "cells": [
  {
   "cell_type": "markdown",
   "id": "touched-facility",
   "metadata": {
    "papermill": {
     "duration": 0.016569,
     "end_time": "2022-09-05T03:45:06.466263",
     "exception": false,
     "start_time": "2022-09-05T03:45:06.449694",
     "status": "completed"
    },
    "tags": []
   },
   "source": [
    "# Koreliacijų matrica\n",
    "> Išplėstinė koreliacijų matrica. \n",
    "\n",
    "- toc: true \n",
    "- badges: true\n",
    "- comments: false\n",
    "- categories: [Dominykas Tautkus]\n",
    "- image: images/matrix.png"
   ]
  },
  {
   "cell_type": "code",
   "execution_count": null,
   "id": "premium-weekend",
   "metadata": {
    "papermill": {
     "duration": 0.012227,
     "end_time": "2022-09-05T03:45:06.491166",
     "exception": false,
     "start_time": "2022-09-05T03:45:06.478939",
     "status": "completed"
    },
    "tags": []
   },
   "outputs": [],
   "source": []
  },
  {
   "cell_type": "code",
   "execution_count": 1,
   "id": "vertical-rebate",
   "metadata": {
    "execution": {
     "iopub.execute_input": "2022-09-05T03:45:06.529105Z",
     "iopub.status.busy": "2022-09-05T03:45:06.528320Z",
     "iopub.status.idle": "2022-09-05T03:45:06.541352Z",
     "shell.execute_reply": "2022-09-05T03:45:06.540495Z"
    },
    "papermill": {
     "duration": 0.038212,
     "end_time": "2022-09-05T03:45:06.541521",
     "exception": false,
     "start_time": "2022-09-05T03:45:06.503309",
     "status": "completed"
    },
    "tags": []
   },
   "outputs": [],
   "source": [
    "#hide\n",
    "%load_ext autoreload\n",
    "%autoreload 2"
   ]
  },
  {
   "cell_type": "code",
   "execution_count": 2,
   "id": "overall-advancement",
   "metadata": {
    "execution": {
     "iopub.execute_input": "2022-09-05T03:45:06.570131Z",
     "iopub.status.busy": "2022-09-05T03:45:06.569436Z",
     "iopub.status.idle": "2022-09-05T03:45:08.040001Z",
     "shell.execute_reply": "2022-09-05T03:45:08.038669Z"
    },
    "papermill": {
     "duration": 1.486108,
     "end_time": "2022-09-05T03:45:08.040183",
     "exception": false,
     "start_time": "2022-09-05T03:45:06.554075",
     "status": "completed"
    },
    "tags": []
   },
   "outputs": [],
   "source": [
    "#hide\n",
    "from scripts.read_data import read_api\n",
    "from IPython.display import HTML\n",
    "import plotly.graph_objects as go\n"
   ]
  },
  {
   "cell_type": "code",
   "execution_count": 3,
   "id": "light-crazy",
   "metadata": {
    "execution": {
     "iopub.execute_input": "2022-09-05T03:45:08.074577Z",
     "iopub.status.busy": "2022-09-05T03:45:08.070158Z",
     "iopub.status.idle": "2022-09-05T03:45:08.097362Z",
     "shell.execute_reply": "2022-09-05T03:45:08.096734Z"
    },
    "papermill": {
     "duration": 0.043367,
     "end_time": "2022-09-05T03:45:08.097509",
     "exception": false,
     "start_time": "2022-09-05T03:45:08.054142",
     "status": "completed"
    },
    "tags": []
   },
   "outputs": [],
   "source": [
    "#hide\n",
    "### ICO koreliacija"
   ]
  },
  {
   "cell_type": "code",
   "execution_count": 4,
   "id": "likely-bahrain",
   "metadata": {
    "execution": {
     "iopub.execute_input": "2022-09-05T03:45:08.128143Z",
     "iopub.status.busy": "2022-09-05T03:45:08.127477Z",
     "iopub.status.idle": "2022-09-05T03:45:09.076243Z",
     "shell.execute_reply": "2022-09-05T03:45:09.076866Z"
    },
    "papermill": {
     "duration": 0.965855,
     "end_time": "2022-09-05T03:45:09.077091",
     "exception": false,
     "start_time": "2022-09-05T03:45:08.111236",
     "status": "completed"
    },
    "tags": []
   },
   "outputs": [],
   "source": [
    "#hide\n",
    "import matplotlib.pyplot as plt\n",
    "import numpy as np\n",
    "import pandas as pd\n",
    "import seaborn as sns\n",
    "import matplotlib.pyplot as plt \n",
    "import matplotlib.dates as mdates\n",
    "import matplotlib.pyplot as plt"
   ]
  },
  {
   "cell_type": "code",
   "execution_count": 5,
   "id": "superior-blanket",
   "metadata": {
    "execution": {
     "iopub.execute_input": "2022-09-05T03:45:09.114691Z",
     "iopub.status.busy": "2022-09-05T03:45:09.113998Z",
     "iopub.status.idle": "2022-09-05T03:45:31.585323Z",
     "shell.execute_reply": "2022-09-05T03:45:31.584707Z"
    },
    "papermill": {
     "duration": 22.496051,
     "end_time": "2022-09-05T03:45:31.585469",
     "exception": false,
     "start_time": "2022-09-05T03:45:09.089418",
     "status": "completed"
    },
    "tags": []
   },
   "outputs": [
    {
     "name": "stderr",
     "output_type": "stream",
     "text": [
      "/home/runner/work/corr-app/corr-app/_notebooks/scripts/read_data.py:187: SettingWithCopyWarning:\n",
      "\n",
      "\n",
      "A value is trying to be set on a copy of a slice from a DataFrame.\n",
      "Try using .loc[row_indexer,col_indexer] = value instead\n",
      "\n",
      "See the caveats in the documentation: https://pandas.pydata.org/pandas-docs/stable/user_guide/indexing.html#returning-a-view-versus-a-copy\n",
      "\n"
     ]
    },
    {
     "name": "stderr",
     "output_type": "stream",
     "text": [
      "/home/runner/work/corr-app/corr-app/_notebooks/scripts/read_data.py:215: SettingWithCopyWarning:\n",
      "\n",
      "\n",
      "A value is trying to be set on a copy of a slice from a DataFrame.\n",
      "Try using .loc[row_indexer,col_indexer] = value instead\n",
      "\n",
      "See the caveats in the documentation: https://pandas.pydata.org/pandas-docs/stable/user_guide/indexing.html#returning-a-view-versus-a-copy\n",
      "\n"
     ]
    }
   ],
   "source": [
    "#hide\n",
    "df_all = read_api()\n",
    "#df_all = df_all.drop(['SP500', 'XAU', 'ETH', 'BTC'], axis=1)\n",
    "\n"
   ]
  },
  {
   "cell_type": "code",
   "execution_count": 6,
   "id": "mature-alert",
   "metadata": {
    "execution": {
     "iopub.execute_input": "2022-09-05T03:45:31.619009Z",
     "iopub.status.busy": "2022-09-05T03:45:31.618295Z",
     "iopub.status.idle": "2022-09-05T03:45:31.653507Z",
     "shell.execute_reply": "2022-09-05T03:45:31.652837Z"
    },
    "papermill": {
     "duration": 0.05368,
     "end_time": "2022-09-05T03:45:31.653649",
     "exception": false,
     "start_time": "2022-09-05T03:45:31.599969",
     "status": "completed"
    },
    "tags": []
   },
   "outputs": [],
   "source": [
    "#hide_input\n",
    "sum_corr = df_all.corr().sum().sort_values(ascending=True).index.values\n",
    "#df_all[sum_corr].corr()"
   ]
  },
  {
   "cell_type": "markdown",
   "id": "complex-syndicate",
   "metadata": {
    "papermill": {
     "duration": 0.011572,
     "end_time": "2022-09-05T03:45:31.677485",
     "exception": false,
     "start_time": "2022-09-05T03:45:31.665913",
     "status": "completed"
    },
    "tags": []
   },
   "source": [
    "## Išplėstinė koreliacijų matrica. "
   ]
  },
  {
   "cell_type": "code",
   "execution_count": 7,
   "id": "atomic-omaha",
   "metadata": {
    "execution": {
     "iopub.execute_input": "2022-09-05T03:45:31.708307Z",
     "iopub.status.busy": "2022-09-05T03:45:31.707609Z",
     "iopub.status.idle": "2022-09-05T03:45:33.106827Z",
     "shell.execute_reply": "2022-09-05T03:45:33.107363Z"
    },
    "papermill": {
     "duration": 1.417569,
     "end_time": "2022-09-05T03:45:33.107521",
     "exception": false,
     "start_time": "2022-09-05T03:45:31.689952",
     "status": "completed"
    },
    "tags": []
   },
   "outputs": [
    {
     "data": {
      "image/png": "[encoded data removed]",
      "text/plain": [
       "<Figure size 1080x792 with 2 Axes>"
      ]
     },
     "metadata": {
      "needs_background": "light"
     },
     "output_type": "display_data"
    }
   ],
   "source": [
    "#hide_input\n",
    "plt.figure(figsize=(15, 11))\n",
    "sns.heatmap(df_all[sum_corr].corr(), annot=True, cmap=\"cubehelix\") \n",
    "sns.set(font_scale=1.25)\n",
    "plt.savefig('corr_matrix.png', format='eps')"
   ]
  },
  {
   "cell_type": "code",
   "execution_count": 8,
   "id": "arbitrary-sullivan",
   "metadata": {
    "execution": {
     "iopub.execute_input": "2022-09-05T03:45:33.146092Z",
     "iopub.status.busy": "2022-09-05T03:45:33.142748Z",
     "iopub.status.idle": "2022-09-05T03:45:33.172270Z",
     "shell.execute_reply": "2022-09-05T03:45:33.171644Z"
    },
    "papermill": {
     "duration": 0.049645,
     "end_time": "2022-09-05T03:45:33.172420",
     "exception": false,
     "start_time": "2022-09-05T03:45:33.122775",
     "status": "completed"
    },
    "tags": []
   },
   "outputs": [],
   "source": [
    "#hide\n",
    "#df_all_mrk = read_api()"
   ]
  },
  {
   "cell_type": "code",
   "execution_count": 9,
   "id": "delayed-adapter",
   "metadata": {
    "execution": {
     "iopub.execute_input": "2022-09-05T03:45:33.204263Z",
     "iopub.status.busy": "2022-09-05T03:45:33.203596Z",
     "iopub.status.idle": "2022-09-05T03:45:33.235008Z",
     "shell.execute_reply": "2022-09-05T03:45:33.234395Z"
    },
    "papermill": {
     "duration": 0.048466,
     "end_time": "2022-09-05T03:45:33.235137",
     "exception": false,
     "start_time": "2022-09-05T03:45:33.186671",
     "status": "completed"
    },
    "tags": []
   },
   "outputs": [],
   "source": [
    "#hide\n",
    "#Koreliacijų koeficientai"
   ]
  },
  {
   "cell_type": "code",
   "execution_count": 10,
   "id": "seeing-celebration",
   "metadata": {
    "execution": {
     "iopub.execute_input": "2022-09-05T03:45:33.273759Z",
     "iopub.status.busy": "2022-09-05T03:45:33.273022Z",
     "iopub.status.idle": "2022-09-05T03:45:33.303088Z",
     "shell.execute_reply": "2022-09-05T03:45:33.302380Z"
    },
    "papermill": {
     "duration": 0.052628,
     "end_time": "2022-09-05T03:45:33.303243",
     "exception": false,
     "start_time": "2022-09-05T03:45:33.250615",
     "status": "completed"
    },
    "tags": []
   },
   "outputs": [],
   "source": [
    "#hide_input\n",
    "#sum_corr = df_all_mrk.corr().sum().sort_values(ascending=True).index.values\n",
    "#df_all_mrk[sum_corr].corr()"
   ]
  },
  {
   "cell_type": "code",
   "execution_count": 11,
   "id": "other-painting",
   "metadata": {
    "execution": {
     "iopub.execute_input": "2022-09-05T03:45:33.338838Z",
     "iopub.status.busy": "2022-09-05T03:45:33.338149Z",
     "iopub.status.idle": "2022-09-05T03:45:33.370780Z",
     "shell.execute_reply": "2022-09-05T03:45:33.370234Z"
    },
    "papermill": {
     "duration": 0.052386,
     "end_time": "2022-09-05T03:45:33.370916",
     "exception": false,
     "start_time": "2022-09-05T03:45:33.318530",
     "status": "completed"
    },
    "tags": []
   },
   "outputs": [],
   "source": [
    "#hide\n",
    "#Koreliacijos matrica. "
   ]
  },
  {
   "cell_type": "code",
   "execution_count": 12,
   "id": "modular-magnitude",
   "metadata": {
    "execution": {
     "iopub.execute_input": "2022-09-05T03:45:33.404534Z",
     "iopub.status.busy": "2022-09-05T03:45:33.403863Z",
     "iopub.status.idle": "2022-09-05T03:45:33.434286Z",
     "shell.execute_reply": "2022-09-05T03:45:33.433626Z"
    },
    "papermill": {
     "duration": 0.04867,
     "end_time": "2022-09-05T03:45:33.434432",
     "exception": false,
     "start_time": "2022-09-05T03:45:33.385762",
     "status": "completed"
    },
    "tags": []
   },
   "outputs": [],
   "source": [
    "#hide_input\n",
    "#plt.figure(figsize=(15, 8))\n",
    "#sns.heatmap(df_all_mrk[sum_corr].corr(), annot=True, cmap=\"BrBG\");\n",
    "#plt.savefig('corr_matrix_all.eps', format='eps')"
   ]
  },
  {
   "cell_type": "code",
   "execution_count": null,
   "id": "original-senator",
   "metadata": {
    "papermill": {
     "duration": 0.014638,
     "end_time": "2022-09-05T03:45:33.464833",
     "exception": false,
     "start_time": "2022-09-05T03:45:33.450195",
     "status": "completed"
    },
    "tags": []
   },
   "outputs": [],
   "source": []
  },
  {
   "cell_type": "code",
   "execution_count": null,
   "id": "saving-secretariat",
   "metadata": {
    "papermill": {
     "duration": 0.014405,
     "end_time": "2022-09-05T03:45:33.494004",
     "exception": false,
     "start_time": "2022-09-05T03:45:33.479599",
     "status": "completed"
    },
    "tags": []
   },
   "outputs": [],
   "source": []
  }
 ],
 "metadata": {
  "kernelspec": {
   "display_name": "Python 3",
   "language": "python",
   "name": "python3"
  },
  "language_info": {
   "codemirror_mode": {
    "name": "ipython",
    "version": 3
   },
   "file_extension": ".py",
   "mimetype": "text/x-python",
   "name": "python",
   "nbconvert_exporter": "python",
   "pygments_lexer": "ipython3",
   "version": "3.6.15"
  },
  "papermill": {
   "default_parameters": {},
   "duration": 28.86261,
   "end_time": "2022-09-05T03:45:34.030182",
   "environment_variables": {},
   "exception": null,
   "input_path": "App-Correlation_charts.ipynb",
   "output_path": "App-Correlation_charts.ipynb",
   "parameters": {},
   "start_time": "2022-09-05T03:45:05.167572",
   "version": "2.2.2"
  }
 },
 "nbformat": 4,
 "nbformat_minor": 5
}