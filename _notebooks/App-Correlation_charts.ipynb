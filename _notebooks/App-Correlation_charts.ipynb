{
 "cells": [
  {
   "cell_type": "markdown",
   "id": "touched-facility",
   "metadata": {
    "papermill": {
     "duration": 0.016862,
     "end_time": "2022-05-23T02:57:38.910684",
     "exception": false,
     "start_time": "2022-05-23T02:57:38.893822",
     "status": "completed"
    },
    "tags": []
   },
   "source": [
    "# Koreliacijų matrica\n",
    "> Išplėstinė koreliacijų matrica. \n",
    "\n",
    "- toc: true \n",
    "- badges: true\n",
    "- comments: false\n",
    "- categories: [Dominykas Tautkus]\n",
    "- image: images/matrix.png"
   ]
  },
  {
   "cell_type": "code",
   "execution_count": null,
   "id": "premium-weekend",
   "metadata": {
    "papermill": {
     "duration": 0.015107,
     "end_time": "2022-05-23T02:57:38.941134",
     "exception": false,
     "start_time": "2022-05-23T02:57:38.926027",
     "status": "completed"
    },
    "tags": []
   },
   "outputs": [],
   "source": []
  },
  {
   "cell_type": "code",
   "execution_count": 1,
   "id": "vertical-rebate",
   "metadata": {
    "execution": {
     "iopub.execute_input": "2022-05-23T02:57:38.977650Z",
     "iopub.status.busy": "2022-05-23T02:57:38.976873Z",
     "iopub.status.idle": "2022-05-23T02:57:38.989976Z",
     "shell.execute_reply": "2022-05-23T02:57:38.989071Z"
    },
    "papermill": {
     "duration": 0.03694,
     "end_time": "2022-05-23T02:57:38.990137",
     "exception": false,
     "start_time": "2022-05-23T02:57:38.953197",
     "status": "completed"
    },
    "tags": []
   },
   "outputs": [],
   "source": [
    "#hide\n",
    "%load_ext autoreload\n",
    "%autoreload 2"
   ]
  },
  {
   "cell_type": "code",
   "execution_count": 2,
   "id": "overall-advancement",
   "metadata": {
    "execution": {
     "iopub.execute_input": "2022-05-23T02:57:39.016636Z",
     "iopub.status.busy": "2022-05-23T02:57:39.015986Z",
     "iopub.status.idle": "2022-05-23T02:57:40.471601Z",
     "shell.execute_reply": "2022-05-23T02:57:40.470689Z"
    },
    "papermill": {
     "duration": 1.470333,
     "end_time": "2022-05-23T02:57:40.471728",
     "exception": false,
     "start_time": "2022-05-23T02:57:39.001395",
     "status": "completed"
    },
    "tags": []
   },
   "outputs": [],
   "source": [
    "#hide\n",
    "from scripts.read_data import read_api\n",
    "from IPython.display import HTML\n",
    "import plotly.graph_objects as go\n"
   ]
  },
  {
   "cell_type": "code",
   "execution_count": 3,
   "id": "light-crazy",
   "metadata": {
    "execution": {
     "iopub.execute_input": "2022-05-23T02:57:40.500966Z",
     "iopub.status.busy": "2022-05-23T02:57:40.500167Z",
     "iopub.status.idle": "2022-05-23T02:57:40.524507Z",
     "shell.execute_reply": "2022-05-23T02:57:40.523374Z"
    },
    "papermill": {
     "duration": 0.040814,
     "end_time": "2022-05-23T02:57:40.524626",
     "exception": false,
     "start_time": "2022-05-23T02:57:40.483812",
     "status": "completed"
    },
    "tags": []
   },
   "outputs": [],
   "source": [
    "#hide\n",
    "### ICO koreliacija"
   ]
  },
  {
   "cell_type": "code",
   "execution_count": 4,
   "id": "likely-bahrain",
   "metadata": {
    "execution": {
     "iopub.execute_input": "2022-05-23T02:57:40.555487Z",
     "iopub.status.busy": "2022-05-23T02:57:40.554767Z",
     "iopub.status.idle": "2022-05-23T02:57:41.531299Z",
     "shell.execute_reply": "2022-05-23T02:57:41.530205Z"
    },
    "papermill": {
     "duration": 0.99325,
     "end_time": "2022-05-23T02:57:41.531424",
     "exception": false,
     "start_time": "2022-05-23T02:57:40.538174",
     "status": "completed"
    },
    "tags": []
   },
   "outputs": [],
   "source": [
    "#hide\n",
    "import matplotlib.pyplot as plt\n",
    "import numpy as np\n",
    "import pandas as pd\n",
    "import seaborn as sns\n",
    "import matplotlib.pyplot as plt \n",
    "import matplotlib.dates as mdates\n",
    "import matplotlib.pyplot as plt"
   ]
  },
  {
   "cell_type": "code",
   "execution_count": 5,
   "id": "superior-blanket",
   "metadata": {
    "execution": {
     "iopub.execute_input": "2022-05-23T02:57:41.558376Z",
     "iopub.status.busy": "2022-05-23T02:57:41.557666Z",
     "iopub.status.idle": "2022-05-23T02:57:50.741787Z",
     "shell.execute_reply": "2022-05-23T02:57:50.741151Z"
    },
    "papermill": {
     "duration": 9.199192,
     "end_time": "2022-05-23T02:57:50.742085",
     "exception": false,
     "start_time": "2022-05-23T02:57:41.542893",
     "status": "completed"
    },
    "tags": []
   },
   "outputs": [
    {
     "name": "stderr",
     "output_type": "stream",
     "text": [
      "/home/runner/work/corr-app/corr-app/_notebooks/scripts/read_data.py:187: SettingWithCopyWarning:\n",
      "\n",
      "\n",
      "A value is trying to be set on a copy of a slice from a DataFrame.\n",
      "Try using .loc[row_indexer,col_indexer] = value instead\n",
      "\n",
      "See the caveats in the documentation: https://pandas.pydata.org/pandas-docs/stable/user_guide/indexing.html#returning-a-view-versus-a-copy\n",
      "\n"
     ]
    },
    {
     "name": "stderr",
     "output_type": "stream",
     "text": [
      "/home/runner/work/corr-app/corr-app/_notebooks/scripts/read_data.py:215: SettingWithCopyWarning:\n",
      "\n",
      "\n",
      "A value is trying to be set on a copy of a slice from a DataFrame.\n",
      "Try using .loc[row_indexer,col_indexer] = value instead\n",
      "\n",
      "See the caveats in the documentation: https://pandas.pydata.org/pandas-docs/stable/user_guide/indexing.html#returning-a-view-versus-a-copy\n",
      "\n"
     ]
    }
   ],
   "source": [
    "#hide\n",
    "df_all = read_api()\n",
    "#df_all = df_all.drop(['SP500', 'XAU', 'ETH', 'BTC'], axis=1)\n",
    "\n"
   ]
  },
  {
   "cell_type": "code",
   "execution_count": 6,
   "id": "mature-alert",
   "metadata": {
    "execution": {
     "iopub.execute_input": "2022-05-23T02:57:50.779204Z",
     "iopub.status.busy": "2022-05-23T02:57:50.778316Z",
     "iopub.status.idle": "2022-05-23T02:57:50.815102Z",
     "shell.execute_reply": "2022-05-23T02:57:50.814453Z"
    },
    "papermill": {
     "duration": 0.058155,
     "end_time": "2022-05-23T02:57:50.815223",
     "exception": false,
     "start_time": "2022-05-23T02:57:50.757068",
     "status": "completed"
    },
    "tags": []
   },
   "outputs": [],
   "source": [
    "#hide_input\n",
    "sum_corr = df_all.corr().sum().sort_values(ascending=True).index.values\n",
    "#df_all[sum_corr].corr()"
   ]
  },
  {
   "cell_type": "markdown",
   "id": "complex-syndicate",
   "metadata": {
    "papermill": {
     "duration": 0.018248,
     "end_time": "2022-05-23T02:57:50.850079",
     "exception": false,
     "start_time": "2022-05-23T02:57:50.831831",
     "status": "completed"
    },
    "tags": []
   },
   "source": [
    "## Išplėstinė koreliacijų matrica. "
   ]
  },
  {
   "cell_type": "code",
   "execution_count": 7,
   "id": "atomic-omaha",
   "metadata": {
    "execution": {
     "iopub.execute_input": "2022-05-23T02:57:50.885103Z",
     "iopub.status.busy": "2022-05-23T02:57:50.884335Z",
     "iopub.status.idle": "2022-05-23T02:57:52.587068Z",
     "shell.execute_reply": "2022-05-23T02:57:52.587812Z"
    },
    "papermill": {
     "duration": 1.722328,
     "end_time": "2022-05-23T02:57:52.587998",
     "exception": false,
     "start_time": "2022-05-23T02:57:50.865670",
     "status": "completed"
    },
    "tags": []
   },
   "outputs": [
    {
     "data": {
      "image/png": "[encoded data removed]",
      "text/plain": [
       "<Figure size 1080x792 with 2 Axes>"
      ]
     },
     "metadata": {
      "needs_background": "light"
     },
     "output_type": "display_data"
    }
   ],
   "source": [
    "#hide_input\n",
    "plt.figure(figsize=(15, 11))\n",
    "sns.heatmap(df_all[sum_corr].corr(), annot=True, cmap=\"cubehelix\") \n",
    "sns.set(font_scale=1.25)\n",
    "plt.savefig('corr_matrix.png', format='eps')"
   ]
  },
  {
   "cell_type": "code",
   "execution_count": 8,
   "id": "arbitrary-sullivan",
   "metadata": {
    "execution": {
     "iopub.execute_input": "2022-05-23T02:57:52.622759Z",
     "iopub.status.busy": "2022-05-23T02:57:52.621713Z",
     "iopub.status.idle": "2022-05-23T02:57:52.650769Z",
     "shell.execute_reply": "2022-05-23T02:57:52.650241Z"
    },
    "papermill": {
     "duration": 0.047199,
     "end_time": "2022-05-23T02:57:52.650874",
     "exception": false,
     "start_time": "2022-05-23T02:57:52.603675",
     "status": "completed"
    },
    "tags": []
   },
   "outputs": [],
   "source": [
    "#hide\n",
    "#df_all_mrk = read_api()"
   ]
  },
  {
   "cell_type": "code",
   "execution_count": 9,
   "id": "delayed-adapter",
   "metadata": {
    "execution": {
     "iopub.execute_input": "2022-05-23T02:57:52.685167Z",
     "iopub.status.busy": "2022-05-23T02:57:52.684189Z",
     "iopub.status.idle": "2022-05-23T02:57:52.715406Z",
     "shell.execute_reply": "2022-05-23T02:57:52.714700Z"
    },
    "papermill": {
     "duration": 0.049505,
     "end_time": "2022-05-23T02:57:52.715510",
     "exception": false,
     "start_time": "2022-05-23T02:57:52.666005",
     "status": "completed"
    },
    "tags": []
   },
   "outputs": [],
   "source": [
    "#hide\n",
    "#Koreliacijų koeficientai"
   ]
  },
  {
   "cell_type": "code",
   "execution_count": 10,
   "id": "seeing-celebration",
   "metadata": {
    "execution": {
     "iopub.execute_input": "2022-05-23T02:57:52.747544Z",
     "iopub.status.busy": "2022-05-23T02:57:52.746953Z",
     "iopub.status.idle": "2022-05-23T02:57:52.772369Z",
     "shell.execute_reply": "2022-05-23T02:57:52.771797Z"
    },
    "papermill": {
     "duration": 0.043597,
     "end_time": "2022-05-23T02:57:52.772480",
     "exception": false,
     "start_time": "2022-05-23T02:57:52.728883",
     "status": "completed"
    },
    "tags": []
   },
   "outputs": [],
   "source": [
    "#hide_input\n",
    "#sum_corr = df_all_mrk.corr().sum().sort_values(ascending=True).index.values\n",
    "#df_all_mrk[sum_corr].corr()"
   ]
  },
  {
   "cell_type": "code",
   "execution_count": 11,
   "id": "other-painting",
   "metadata": {
    "execution": {
     "iopub.execute_input": "2022-05-23T02:57:52.804557Z",
     "iopub.status.busy": "2022-05-23T02:57:52.803885Z",
     "iopub.status.idle": "2022-05-23T02:57:52.831264Z",
     "shell.execute_reply": "2022-05-23T02:57:52.830762Z"
    },
    "papermill": {
     "duration": 0.04434,
     "end_time": "2022-05-23T02:57:52.831396",
     "exception": false,
     "start_time": "2022-05-23T02:57:52.787056",
     "status": "completed"
    },
    "tags": []
   },
   "outputs": [],
   "source": [
    "#hide\n",
    "#Koreliacijos matrica. "
   ]
  },
  {
   "cell_type": "code",
   "execution_count": 12,
   "id": "modular-magnitude",
   "metadata": {
    "execution": {
     "iopub.execute_input": "2022-05-23T02:57:52.864157Z",
     "iopub.status.busy": "2022-05-23T02:57:52.863181Z",
     "iopub.status.idle": "2022-05-23T02:57:52.892114Z",
     "shell.execute_reply": "2022-05-23T02:57:52.893199Z"
    },
    "papermill": {
     "duration": 0.046668,
     "end_time": "2022-05-23T02:57:52.893400",
     "exception": false,
     "start_time": "2022-05-23T02:57:52.846732",
     "status": "completed"
    },
    "tags": []
   },
   "outputs": [],
   "source": [
    "#hide_input\n",
    "#plt.figure(figsize=(15, 8))\n",
    "#sns.heatmap(df_all_mrk[sum_corr].corr(), annot=True, cmap=\"BrBG\");\n",
    "#plt.savefig('corr_matrix_all.eps', format='eps')"
   ]
  },
  {
   "cell_type": "code",
   "execution_count": null,
   "id": "original-senator",
   "metadata": {
    "papermill": {
     "duration": 0.01555,
     "end_time": "2022-05-23T02:57:52.925577",
     "exception": false,
     "start_time": "2022-05-23T02:57:52.910027",
     "status": "completed"
    },
    "tags": []
   },
   "outputs": [],
   "source": []
  },
  {
   "cell_type": "code",
   "execution_count": null,
   "id": "saving-secretariat",
   "metadata": {
    "papermill": {
     "duration": 0.015668,
     "end_time": "2022-05-23T02:57:52.956072",
     "exception": false,
     "start_time": "2022-05-23T02:57:52.940404",
     "status": "completed"
    },
    "tags": []
   },
   "outputs": [],
   "source": []
  }
 ],
 "metadata": {
  "kernelspec": {
   "display_name": "Python 3",
   "language": "python",
   "name": "python3"
  },
  "language_info": {
   "codemirror_mode": {
    "name": "ipython",
    "version": 3
   },
   "file_extension": ".py",
   "mimetype": "text/x-python",
   "name": "python",
   "nbconvert_exporter": "python",
   "pygments_lexer": "ipython3",
   "version": "3.6.15"
  },
  "papermill": {
   "default_parameters": {},
   "duration": 15.900879,
   "end_time": "2022-05-23T02:57:53.491722",
   "environment_variables": {},
   "exception": null,
   "input_path": "App-Correlation_charts.ipynb",
   "output_path": "App-Correlation_charts.ipynb",
   "parameters": {},
   "start_time": "2022-05-23T02:57:37.590843",
   "version": "2.2.2"
  }
 },
 "nbformat": 4,
 "nbformat_minor": 5
}