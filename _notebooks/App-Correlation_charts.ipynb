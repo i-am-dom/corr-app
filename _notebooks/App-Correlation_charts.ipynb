{
 "cells": [
  {
   "cell_type": "markdown",
   "id": "touched-facility",
   "metadata": {
    "papermill": {
     "duration": 0.019428,
     "end_time": "2021-12-14T02:04:34.880401",
     "exception": false,
     "start_time": "2021-12-14T02:04:34.860973",
     "status": "completed"
    },
    "tags": []
   },
   "source": [
    "# Koreliacijų matrica\n",
    "> Išplėstinė koreliacijų matrica. \n",
    "\n",
    "- toc: true \n",
    "- badges: true\n",
    "- comments: false\n",
    "- categories: [Dominykas Tautkus]\n",
    "- image: images/matrix.png"
   ]
  },
  {
   "cell_type": "code",
   "execution_count": null,
   "id": "premium-weekend",
   "metadata": {
    "papermill": {
     "duration": 0.015025,
     "end_time": "2021-12-14T02:04:34.911113",
     "exception": false,
     "start_time": "2021-12-14T02:04:34.896088",
     "status": "completed"
    },
    "tags": []
   },
   "outputs": [],
   "source": []
  },
  {
   "cell_type": "code",
   "execution_count": 1,
   "id": "vertical-rebate",
   "metadata": {
    "execution": {
     "iopub.execute_input": "2021-12-14T02:04:34.948614Z",
     "iopub.status.busy": "2021-12-14T02:04:34.947902Z",
     "iopub.status.idle": "2021-12-14T02:04:34.964161Z",
     "shell.execute_reply": "2021-12-14T02:04:34.963427Z"
    },
    "papermill": {
     "duration": 0.038985,
     "end_time": "2021-12-14T02:04:34.964349",
     "exception": false,
     "start_time": "2021-12-14T02:04:34.925364",
     "status": "completed"
    },
    "tags": []
   },
   "outputs": [],
   "source": [
    "#hide\n",
    "%load_ext autoreload\n",
    "%autoreload 2"
   ]
  },
  {
   "cell_type": "code",
   "execution_count": 2,
   "id": "overall-advancement",
   "metadata": {
    "execution": {
     "iopub.execute_input": "2021-12-14T02:04:35.000743Z",
     "iopub.status.busy": "2021-12-14T02:04:34.999926Z",
     "iopub.status.idle": "2021-12-14T02:04:36.694755Z",
     "shell.execute_reply": "2021-12-14T02:04:36.694074Z"
    },
    "papermill": {
     "duration": 1.714947,
     "end_time": "2021-12-14T02:04:36.694911",
     "exception": false,
     "start_time": "2021-12-14T02:04:34.979964",
     "status": "completed"
    },
    "tags": []
   },
   "outputs": [],
   "source": [
    "#hide\n",
    "from scripts.read_data import read_api\n",
    "from IPython.display import HTML\n",
    "import plotly.graph_objects as go\n"
   ]
  },
  {
   "cell_type": "code",
   "execution_count": 3,
   "id": "light-crazy",
   "metadata": {
    "execution": {
     "iopub.execute_input": "2021-12-14T02:04:36.731325Z",
     "iopub.status.busy": "2021-12-14T02:04:36.730585Z",
     "iopub.status.idle": "2021-12-14T02:04:36.758314Z",
     "shell.execute_reply": "2021-12-14T02:04:36.757664Z"
    },
    "papermill": {
     "duration": 0.048692,
     "end_time": "2021-12-14T02:04:36.758527",
     "exception": false,
     "start_time": "2021-12-14T02:04:36.709835",
     "status": "completed"
    },
    "tags": []
   },
   "outputs": [],
   "source": [
    "#hide\n",
    "### ICO koreliacija"
   ]
  },
  {
   "cell_type": "code",
   "execution_count": 4,
   "id": "likely-bahrain",
   "metadata": {
    "execution": {
     "iopub.execute_input": "2021-12-14T02:04:36.794060Z",
     "iopub.status.busy": "2021-12-14T02:04:36.793335Z",
     "iopub.status.idle": "2021-12-14T02:04:38.024762Z",
     "shell.execute_reply": "2021-12-14T02:04:38.025381Z"
    },
    "papermill": {
     "duration": 1.251928,
     "end_time": "2021-12-14T02:04:38.025582",
     "exception": false,
     "start_time": "2021-12-14T02:04:36.773654",
     "status": "completed"
    },
    "tags": []
   },
   "outputs": [],
   "source": [
    "#hide\n",
    "import matplotlib.pyplot as plt\n",
    "import numpy as np\n",
    "import pandas as pd\n",
    "import seaborn as sns\n",
    "import matplotlib.pyplot as plt \n",
    "import matplotlib.dates as mdates\n",
    "import matplotlib.pyplot as plt"
   ]
  },
  {
   "cell_type": "code",
   "execution_count": 5,
   "id": "superior-blanket",
   "metadata": {
    "execution": {
     "iopub.execute_input": "2021-12-14T02:04:38.062703Z",
     "iopub.status.busy": "2021-12-14T02:04:38.061837Z",
     "iopub.status.idle": "2021-12-14T02:04:49.110525Z",
     "shell.execute_reply": "2021-12-14T02:04:49.111307Z"
    },
    "papermill": {
     "duration": 11.070831,
     "end_time": "2021-12-14T02:04:49.111486",
     "exception": false,
     "start_time": "2021-12-14T02:04:38.040655",
     "status": "completed"
    },
    "tags": []
   },
   "outputs": [
    {
     "name": "stderr",
     "output_type": "stream",
     "text": [
      "/home/runner/work/corr-app/corr-app/_notebooks/scripts/read_data.py:187: SettingWithCopyWarning:\n",
      "\n",
      "\n",
      "A value is trying to be set on a copy of a slice from a DataFrame.\n",
      "Try using .loc[row_indexer,col_indexer] = value instead\n",
      "\n",
      "See the caveats in the documentation: https://pandas.pydata.org/pandas-docs/stable/user_guide/indexing.html#returning-a-view-versus-a-copy\n",
      "\n"
     ]
    },
    {
     "name": "stderr",
     "output_type": "stream",
     "text": [
      "/home/runner/work/corr-app/corr-app/_notebooks/scripts/read_data.py:215: SettingWithCopyWarning:\n",
      "\n",
      "\n",
      "A value is trying to be set on a copy of a slice from a DataFrame.\n",
      "Try using .loc[row_indexer,col_indexer] = value instead\n",
      "\n",
      "See the caveats in the documentation: https://pandas.pydata.org/pandas-docs/stable/user_guide/indexing.html#returning-a-view-versus-a-copy\n",
      "\n"
     ]
    }
   ],
   "source": [
    "#hide\n",
    "df_all = read_api()\n",
    "#df_all = df_all.drop(['SP500', 'XAU', 'ETH', 'BTC'], axis=1)\n",
    "\n"
   ]
  },
  {
   "cell_type": "code",
   "execution_count": 6,
   "id": "mature-alert",
   "metadata": {
    "execution": {
     "iopub.execute_input": "2021-12-14T02:04:49.147789Z",
     "iopub.status.busy": "2021-12-14T02:04:49.146965Z",
     "iopub.status.idle": "2021-12-14T02:04:49.184990Z",
     "shell.execute_reply": "2021-12-14T02:04:49.184354Z"
    },
    "papermill": {
     "duration": 0.057771,
     "end_time": "2021-12-14T02:04:49.185139",
     "exception": false,
     "start_time": "2021-12-14T02:04:49.127368",
     "status": "completed"
    },
    "tags": []
   },
   "outputs": [],
   "source": [
    "#hide_input\n",
    "sum_corr = df_all.corr().sum().sort_values(ascending=True).index.values\n",
    "#df_all[sum_corr].corr()"
   ]
  },
  {
   "cell_type": "markdown",
   "id": "complex-syndicate",
   "metadata": {
    "papermill": {
     "duration": 0.015416,
     "end_time": "2021-12-14T02:04:49.215928",
     "exception": false,
     "start_time": "2021-12-14T02:04:49.200512",
     "status": "completed"
    },
    "tags": []
   },
   "source": [
    "## Išplėstinė koreliacijų matrica. "
   ]
  },
  {
   "cell_type": "code",
   "execution_count": 7,
   "id": "atomic-omaha",
   "metadata": {
    "execution": {
     "iopub.execute_input": "2021-12-14T02:04:49.252593Z",
     "iopub.status.busy": "2021-12-14T02:04:49.251833Z",
     "iopub.status.idle": "2021-12-14T02:04:51.153511Z",
     "shell.execute_reply": "2021-12-14T02:04:51.154058Z"
    },
    "papermill": {
     "duration": 1.922336,
     "end_time": "2021-12-14T02:04:51.154236",
     "exception": false,
     "start_time": "2021-12-14T02:04:49.231900",
     "status": "completed"
    },
    "tags": []
   },
   "outputs": [
    {
     "data": {
      "image/png": "[encoded data removed]",
      "text/plain": [
       "<Figure size 1080x792 with 2 Axes>"
      ]
     },
     "metadata": {
      "needs_background": "light"
     },
     "output_type": "display_data"
    }
   ],
   "source": [
    "#hide_input\n",
    "plt.figure(figsize=(15, 11))\n",
    "sns.heatmap(df_all[sum_corr].corr(), annot=True, cmap=\"cubehelix\") \n",
    "sns.set(font_scale=1.25)\n",
    "plt.savefig('corr_matrix.png', format='eps')"
   ]
  },
  {
   "cell_type": "code",
   "execution_count": 8,
   "id": "arbitrary-sullivan",
   "metadata": {
    "execution": {
     "iopub.execute_input": "2021-12-14T02:04:51.201929Z",
     "iopub.status.busy": "2021-12-14T02:04:51.201234Z",
     "iopub.status.idle": "2021-12-14T02:04:51.235464Z",
     "shell.execute_reply": "2021-12-14T02:04:51.236265Z"
    },
    "papermill": {
     "duration": 0.061513,
     "end_time": "2021-12-14T02:04:51.236583",
     "exception": false,
     "start_time": "2021-12-14T02:04:51.175070",
     "status": "completed"
    },
    "tags": []
   },
   "outputs": [],
   "source": [
    "#hide\n",
    "#df_all_mrk = read_api()"
   ]
  },
  {
   "cell_type": "code",
   "execution_count": 9,
   "id": "delayed-adapter",
   "metadata": {
    "execution": {
     "iopub.execute_input": "2021-12-14T02:04:51.278577Z",
     "iopub.status.busy": "2021-12-14T02:04:51.277841Z",
     "iopub.status.idle": "2021-12-14T02:04:51.310866Z",
     "shell.execute_reply": "2021-12-14T02:04:51.309697Z"
    },
    "papermill": {
     "duration": 0.055495,
     "end_time": "2021-12-14T02:04:51.311050",
     "exception": false,
     "start_time": "2021-12-14T02:04:51.255555",
     "status": "completed"
    },
    "tags": []
   },
   "outputs": [],
   "source": [
    "#hide\n",
    "#Koreliacijų koeficientai"
   ]
  },
  {
   "cell_type": "code",
   "execution_count": 10,
   "id": "seeing-celebration",
   "metadata": {
    "execution": {
     "iopub.execute_input": "2021-12-14T02:04:51.352517Z",
     "iopub.status.busy": "2021-12-14T02:04:51.351773Z",
     "iopub.status.idle": "2021-12-14T02:04:51.385097Z",
     "shell.execute_reply": "2021-12-14T02:04:51.384462Z"
    },
    "papermill": {
     "duration": 0.055622,
     "end_time": "2021-12-14T02:04:51.385251",
     "exception": false,
     "start_time": "2021-12-14T02:04:51.329629",
     "status": "completed"
    },
    "tags": []
   },
   "outputs": [],
   "source": [
    "#hide_input\n",
    "#sum_corr = df_all_mrk.corr().sum().sort_values(ascending=True).index.values\n",
    "#df_all_mrk[sum_corr].corr()"
   ]
  },
  {
   "cell_type": "code",
   "execution_count": 11,
   "id": "other-painting",
   "metadata": {
    "execution": {
     "iopub.execute_input": "2021-12-14T02:04:51.425154Z",
     "iopub.status.busy": "2021-12-14T02:04:51.424423Z",
     "iopub.status.idle": "2021-12-14T02:04:51.461686Z",
     "shell.execute_reply": "2021-12-14T02:04:51.461059Z"
    },
    "papermill": {
     "duration": 0.059279,
     "end_time": "2021-12-14T02:04:51.461845",
     "exception": false,
     "start_time": "2021-12-14T02:04:51.402566",
     "status": "completed"
    },
    "tags": []
   },
   "outputs": [],
   "source": [
    "#hide\n",
    "#Koreliacijos matrica. "
   ]
  },
  {
   "cell_type": "code",
   "execution_count": 12,
   "id": "modular-magnitude",
   "metadata": {
    "execution": {
     "iopub.execute_input": "2021-12-14T02:04:51.503659Z",
     "iopub.status.busy": "2021-12-14T02:04:51.502883Z",
     "iopub.status.idle": "2021-12-14T02:04:51.540875Z",
     "shell.execute_reply": "2021-12-14T02:04:51.540228Z"
    },
    "papermill": {
     "duration": 0.060033,
     "end_time": "2021-12-14T02:04:51.541044",
     "exception": false,
     "start_time": "2021-12-14T02:04:51.481011",
     "status": "completed"
    },
    "tags": []
   },
   "outputs": [],
   "source": [
    "#hide_input\n",
    "#plt.figure(figsize=(15, 8))\n",
    "#sns.heatmap(df_all_mrk[sum_corr].corr(), annot=True, cmap=\"BrBG\");\n",
    "#plt.savefig('corr_matrix_all.eps', format='eps')"
   ]
  },
  {
   "cell_type": "code",
   "execution_count": null,
   "id": "original-senator",
   "metadata": {
    "papermill": {
     "duration": 0.017869,
     "end_time": "2021-12-14T02:04:51.577098",
     "exception": false,
     "start_time": "2021-12-14T02:04:51.559229",
     "status": "completed"
    },
    "tags": []
   },
   "outputs": [],
   "source": []
  },
  {
   "cell_type": "code",
   "execution_count": null,
   "id": "saving-secretariat",
   "metadata": {
    "papermill": {
     "duration": 0.017917,
     "end_time": "2021-12-14T02:04:51.612472",
     "exception": false,
     "start_time": "2021-12-14T02:04:51.594555",
     "status": "completed"
    },
    "tags": []
   },
   "outputs": [],
   "source": []
  }
 ],
 "metadata": {
  "kernelspec": {
   "display_name": "Python 3",
   "language": "python",
   "name": "python3"
  },
  "language_info": {
   "codemirror_mode": {
    "name": "ipython",
    "version": 3
   },
   "file_extension": ".py",
   "mimetype": "text/x-python",
   "name": "python",
   "nbconvert_exporter": "python",
   "pygments_lexer": "ipython3",
   "version": "3.6.15"
  },
  "papermill": {
   "default_parameters": {},
   "duration": 18.646396,
   "end_time": "2021-12-14T02:04:52.241128",
   "environment_variables": {},
   "exception": null,
   "input_path": "App-Correlation_charts.ipynb",
   "output_path": "App-Correlation_charts.ipynb",
   "parameters": {},
   "start_time": "2021-12-14T02:04:33.594732",
   "version": "2.2.2"
  }
 },
 "nbformat": 4,
 "nbformat_minor": 5
}