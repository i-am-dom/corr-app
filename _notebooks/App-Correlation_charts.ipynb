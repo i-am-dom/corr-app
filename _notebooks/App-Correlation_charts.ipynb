{
 "cells": [
  {
   "cell_type": "markdown",
   "id": "touched-facility",
   "metadata": {
    "papermill": {
     "duration": 0.016976,
     "end_time": "2022-04-15T03:02:31.257790",
     "exception": false,
     "start_time": "2022-04-15T03:02:31.240814",
     "status": "completed"
    },
    "tags": []
   },
   "source": [
    "# Koreliacijų matrica\n",
    "> Išplėstinė koreliacijų matrica. \n",
    "\n",
    "- toc: true \n",
    "- badges: true\n",
    "- comments: false\n",
    "- categories: [Dominykas Tautkus]\n",
    "- image: images/matrix.png"
   ]
  },
  {
   "cell_type": "code",
   "execution_count": null,
   "id": "premium-weekend",
   "metadata": {
    "papermill": {
     "duration": 0.013594,
     "end_time": "2022-04-15T03:02:31.286221",
     "exception": false,
     "start_time": "2022-04-15T03:02:31.272627",
     "status": "completed"
    },
    "tags": []
   },
   "outputs": [],
   "source": []
  },
  {
   "cell_type": "code",
   "execution_count": 1,
   "id": "vertical-rebate",
   "metadata": {
    "execution": {
     "iopub.execute_input": "2022-04-15T03:02:31.324256Z",
     "iopub.status.busy": "2022-04-15T03:02:31.323553Z",
     "iopub.status.idle": "2022-04-15T03:02:31.335408Z",
     "shell.execute_reply": "2022-04-15T03:02:31.334777Z"
    },
    "papermill": {
     "duration": 0.036268,
     "end_time": "2022-04-15T03:02:31.335556",
     "exception": false,
     "start_time": "2022-04-15T03:02:31.299288",
     "status": "completed"
    },
    "tags": []
   },
   "outputs": [],
   "source": [
    "#hide\n",
    "%load_ext autoreload\n",
    "%autoreload 2"
   ]
  },
  {
   "cell_type": "code",
   "execution_count": 2,
   "id": "overall-advancement",
   "metadata": {
    "execution": {
     "iopub.execute_input": "2022-04-15T03:02:31.365343Z",
     "iopub.status.busy": "2022-04-15T03:02:31.364632Z",
     "iopub.status.idle": "2022-04-15T03:02:33.028468Z",
     "shell.execute_reply": "2022-04-15T03:02:33.027947Z"
    },
    "papermill": {
     "duration": 1.680454,
     "end_time": "2022-04-15T03:02:33.028593",
     "exception": false,
     "start_time": "2022-04-15T03:02:31.348139",
     "status": "completed"
    },
    "tags": []
   },
   "outputs": [],
   "source": [
    "#hide\n",
    "from scripts.read_data import read_api\n",
    "from IPython.display import HTML\n",
    "import plotly.graph_objects as go\n"
   ]
  },
  {
   "cell_type": "code",
   "execution_count": 3,
   "id": "light-crazy",
   "metadata": {
    "execution": {
     "iopub.execute_input": "2022-04-15T03:02:33.059076Z",
     "iopub.status.busy": "2022-04-15T03:02:33.058407Z",
     "iopub.status.idle": "2022-04-15T03:02:33.083201Z",
     "shell.execute_reply": "2022-04-15T03:02:33.083735Z"
    },
    "papermill": {
     "duration": 0.042758,
     "end_time": "2022-04-15T03:02:33.083914",
     "exception": false,
     "start_time": "2022-04-15T03:02:33.041156",
     "status": "completed"
    },
    "tags": []
   },
   "outputs": [],
   "source": [
    "#hide\n",
    "### ICO koreliacija"
   ]
  },
  {
   "cell_type": "code",
   "execution_count": 4,
   "id": "likely-bahrain",
   "metadata": {
    "execution": {
     "iopub.execute_input": "2022-04-15T03:02:33.114007Z",
     "iopub.status.busy": "2022-04-15T03:02:33.113364Z",
     "iopub.status.idle": "2022-04-15T03:02:34.158859Z",
     "shell.execute_reply": "2022-04-15T03:02:34.158276Z"
    },
    "papermill": {
     "duration": 1.062403,
     "end_time": "2022-04-15T03:02:34.159000",
     "exception": false,
     "start_time": "2022-04-15T03:02:33.096597",
     "status": "completed"
    },
    "tags": []
   },
   "outputs": [],
   "source": [
    "#hide\n",
    "import matplotlib.pyplot as plt\n",
    "import numpy as np\n",
    "import pandas as pd\n",
    "import seaborn as sns\n",
    "import matplotlib.pyplot as plt \n",
    "import matplotlib.dates as mdates\n",
    "import matplotlib.pyplot as plt"
   ]
  },
  {
   "cell_type": "code",
   "execution_count": 5,
   "id": "superior-blanket",
   "metadata": {
    "execution": {
     "iopub.execute_input": "2022-04-15T03:02:34.190889Z",
     "iopub.status.busy": "2022-04-15T03:02:34.190113Z",
     "iopub.status.idle": "2022-04-15T03:02:43.160735Z",
     "shell.execute_reply": "2022-04-15T03:02:43.160077Z"
    },
    "papermill": {
     "duration": 8.988567,
     "end_time": "2022-04-15T03:02:43.160891",
     "exception": false,
     "start_time": "2022-04-15T03:02:34.172324",
     "status": "completed"
    },
    "tags": []
   },
   "outputs": [
    {
     "name": "stderr",
     "output_type": "stream",
     "text": [
      "/home/runner/work/corr-app/corr-app/_notebooks/scripts/read_data.py:187: SettingWithCopyWarning:\n",
      "\n",
      "\n",
      "A value is trying to be set on a copy of a slice from a DataFrame.\n",
      "Try using .loc[row_indexer,col_indexer] = value instead\n",
      "\n",
      "See the caveats in the documentation: https://pandas.pydata.org/pandas-docs/stable/user_guide/indexing.html#returning-a-view-versus-a-copy\n",
      "\n"
     ]
    },
    {
     "name": "stderr",
     "output_type": "stream",
     "text": [
      "/home/runner/work/corr-app/corr-app/_notebooks/scripts/read_data.py:215: SettingWithCopyWarning:\n",
      "\n",
      "\n",
      "A value is trying to be set on a copy of a slice from a DataFrame.\n",
      "Try using .loc[row_indexer,col_indexer] = value instead\n",
      "\n",
      "See the caveats in the documentation: https://pandas.pydata.org/pandas-docs/stable/user_guide/indexing.html#returning-a-view-versus-a-copy\n",
      "\n"
     ]
    }
   ],
   "source": [
    "#hide\n",
    "df_all = read_api()\n",
    "#df_all = df_all.drop(['SP500', 'XAU', 'ETH', 'BTC'], axis=1)\n",
    "\n"
   ]
  },
  {
   "cell_type": "code",
   "execution_count": 6,
   "id": "mature-alert",
   "metadata": {
    "execution": {
     "iopub.execute_input": "2022-04-15T03:02:43.196599Z",
     "iopub.status.busy": "2022-04-15T03:02:43.195836Z",
     "iopub.status.idle": "2022-04-15T03:02:43.235001Z",
     "shell.execute_reply": "2022-04-15T03:02:43.234425Z"
    },
    "papermill": {
     "duration": 0.058449,
     "end_time": "2022-04-15T03:02:43.235148",
     "exception": false,
     "start_time": "2022-04-15T03:02:43.176699",
     "status": "completed"
    },
    "tags": []
   },
   "outputs": [],
   "source": [
    "#hide_input\n",
    "sum_corr = df_all.corr().sum().sort_values(ascending=True).index.values\n",
    "#df_all[sum_corr].corr()"
   ]
  },
  {
   "cell_type": "markdown",
   "id": "complex-syndicate",
   "metadata": {
    "papermill": {
     "duration": 0.014025,
     "end_time": "2022-04-15T03:02:43.265710",
     "exception": false,
     "start_time": "2022-04-15T03:02:43.251685",
     "status": "completed"
    },
    "tags": []
   },
   "source": [
    "## Išplėstinė koreliacijų matrica. "
   ]
  },
  {
   "cell_type": "code",
   "execution_count": 7,
   "id": "atomic-omaha",
   "metadata": {
    "execution": {
     "iopub.execute_input": "2022-04-15T03:02:43.302798Z",
     "iopub.status.busy": "2022-04-15T03:02:43.302169Z",
     "iopub.status.idle": "2022-04-15T03:02:45.006629Z",
     "shell.execute_reply": "2022-04-15T03:02:45.007113Z"
    },
    "papermill": {
     "duration": 1.728049,
     "end_time": "2022-04-15T03:02:45.007253",
     "exception": false,
     "start_time": "2022-04-15T03:02:43.279204",
     "status": "completed"
    },
    "tags": []
   },
   "outputs": [
    {
     "data": {
      "image/png": "[encoded data removed]",
      "text/plain": [
       "<Figure size 1080x792 with 2 Axes>"
      ]
     },
     "metadata": {
      "needs_background": "light"
     },
     "output_type": "display_data"
    }
   ],
   "source": [
    "#hide_input\n",
    "plt.figure(figsize=(15, 11))\n",
    "sns.heatmap(df_all[sum_corr].corr(), annot=True, cmap=\"cubehelix\") \n",
    "sns.set(font_scale=1.25)\n",
    "plt.savefig('corr_matrix.png', format='eps')"
   ]
  },
  {
   "cell_type": "code",
   "execution_count": 8,
   "id": "arbitrary-sullivan",
   "metadata": {
    "execution": {
     "iopub.execute_input": "2022-04-15T03:02:45.042605Z",
     "iopub.status.busy": "2022-04-15T03:02:45.041487Z",
     "iopub.status.idle": "2022-04-15T03:02:45.070566Z",
     "shell.execute_reply": "2022-04-15T03:02:45.071261Z"
    },
    "papermill": {
     "duration": 0.049023,
     "end_time": "2022-04-15T03:02:45.071436",
     "exception": false,
     "start_time": "2022-04-15T03:02:45.022413",
     "status": "completed"
    },
    "tags": []
   },
   "outputs": [],
   "source": [
    "#hide\n",
    "#df_all_mrk = read_api()"
   ]
  },
  {
   "cell_type": "code",
   "execution_count": 9,
   "id": "delayed-adapter",
   "metadata": {
    "execution": {
     "iopub.execute_input": "2022-04-15T03:02:45.106228Z",
     "iopub.status.busy": "2022-04-15T03:02:45.105641Z",
     "iopub.status.idle": "2022-04-15T03:02:45.133632Z",
     "shell.execute_reply": "2022-04-15T03:02:45.133108Z"
    },
    "papermill": {
     "duration": 0.046764,
     "end_time": "2022-04-15T03:02:45.133780",
     "exception": false,
     "start_time": "2022-04-15T03:02:45.087016",
     "status": "completed"
    },
    "tags": []
   },
   "outputs": [],
   "source": [
    "#hide\n",
    "#Koreliacijų koeficientai"
   ]
  },
  {
   "cell_type": "code",
   "execution_count": 10,
   "id": "seeing-celebration",
   "metadata": {
    "execution": {
     "iopub.execute_input": "2022-04-15T03:02:45.173157Z",
     "iopub.status.busy": "2022-04-15T03:02:45.172415Z",
     "iopub.status.idle": "2022-04-15T03:02:45.199212Z",
     "shell.execute_reply": "2022-04-15T03:02:45.198693Z"
    },
    "papermill": {
     "duration": 0.049525,
     "end_time": "2022-04-15T03:02:45.199327",
     "exception": false,
     "start_time": "2022-04-15T03:02:45.149802",
     "status": "completed"
    },
    "tags": []
   },
   "outputs": [],
   "source": [
    "#hide_input\n",
    "#sum_corr = df_all_mrk.corr().sum().sort_values(ascending=True).index.values\n",
    "#df_all_mrk[sum_corr].corr()"
   ]
  },
  {
   "cell_type": "code",
   "execution_count": 11,
   "id": "other-painting",
   "metadata": {
    "execution": {
     "iopub.execute_input": "2022-04-15T03:02:45.234244Z",
     "iopub.status.busy": "2022-04-15T03:02:45.233637Z",
     "iopub.status.idle": "2022-04-15T03:02:45.263923Z",
     "shell.execute_reply": "2022-04-15T03:02:45.263122Z"
    },
    "papermill": {
     "duration": 0.049304,
     "end_time": "2022-04-15T03:02:45.264105",
     "exception": false,
     "start_time": "2022-04-15T03:02:45.214801",
     "status": "completed"
    },
    "tags": []
   },
   "outputs": [],
   "source": [
    "#hide\n",
    "#Koreliacijos matrica. "
   ]
  },
  {
   "cell_type": "code",
   "execution_count": 12,
   "id": "modular-magnitude",
   "metadata": {
    "execution": {
     "iopub.execute_input": "2022-04-15T03:02:45.299908Z",
     "iopub.status.busy": "2022-04-15T03:02:45.299239Z",
     "iopub.status.idle": "2022-04-15T03:02:45.328509Z",
     "shell.execute_reply": "2022-04-15T03:02:45.327990Z"
    },
    "papermill": {
     "duration": 0.048815,
     "end_time": "2022-04-15T03:02:45.328643",
     "exception": false,
     "start_time": "2022-04-15T03:02:45.279828",
     "status": "completed"
    },
    "tags": []
   },
   "outputs": [],
   "source": [
    "#hide_input\n",
    "#plt.figure(figsize=(15, 8))\n",
    "#sns.heatmap(df_all_mrk[sum_corr].corr(), annot=True, cmap=\"BrBG\");\n",
    "#plt.savefig('corr_matrix_all.eps', format='eps')"
   ]
  },
  {
   "cell_type": "code",
   "execution_count": null,
   "id": "original-senator",
   "metadata": {
    "papermill": {
     "duration": 0.015094,
     "end_time": "2022-04-15T03:02:45.358344",
     "exception": false,
     "start_time": "2022-04-15T03:02:45.343250",
     "status": "completed"
    },
    "tags": []
   },
   "outputs": [],
   "source": []
  },
  {
   "cell_type": "code",
   "execution_count": null,
   "id": "saving-secretariat",
   "metadata": {
    "papermill": {
     "duration": 0.013883,
     "end_time": "2022-04-15T03:02:45.387756",
     "exception": false,
     "start_time": "2022-04-15T03:02:45.373873",
     "status": "completed"
    },
    "tags": []
   },
   "outputs": [],
   "source": []
  }
 ],
 "metadata": {
  "kernelspec": {
   "display_name": "Python 3",
   "language": "python",
   "name": "python3"
  },
  "language_info": {
   "codemirror_mode": {
    "name": "ipython",
    "version": 3
   },
   "file_extension": ".py",
   "mimetype": "text/x-python",
   "name": "python",
   "nbconvert_exporter": "python",
   "pygments_lexer": "ipython3",
   "version": "3.6.15"
  },
  "papermill": {
   "default_parameters": {},
   "duration": 15.973611,
   "end_time": "2022-04-15T03:02:45.921619",
   "environment_variables": {},
   "exception": null,
   "input_path": "App-Correlation_charts.ipynb",
   "output_path": "App-Correlation_charts.ipynb",
   "parameters": {},
   "start_time": "2022-04-15T03:02:29.948008",
   "version": "2.2.2"
  }
 },
 "nbformat": 4,
 "nbformat_minor": 5
}