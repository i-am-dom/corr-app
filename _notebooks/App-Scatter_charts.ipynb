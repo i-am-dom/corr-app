{
 "cells": [
  {
   "cell_type": "markdown",
   "id": "a66d7860",
   "metadata": {
    "tags": [
     "papermill-error-cell-tag"
    ]
   },
   "source": [
    "<span style=\"color:red; font-family:Helvetica Neue, Helvetica, Arial, sans-serif; font-size:2em;\">An Exception was encountered at '<a href=\"#papermill-error-cell\">In [2]</a>'.</span>"
   ]
  },
  {
   "cell_type": "markdown",
   "id": "contrary-mixture",
   "metadata": {
    "papermill": {
     "duration": 0.012784,
     "end_time": "2022-05-23T02:58:15.717655",
     "exception": false,
     "start_time": "2022-05-23T02:58:15.704871",
     "status": "completed"
    },
    "tags": []
   },
   "source": [
    "# Sklaidos diagramos\n",
    "> Sklaidos diagramos BTC ir kitoms kriptovaliutoms.\n",
    "\n",
    "- toc: true \n",
    "- badges: true\n",
    "- comments: false\n",
    "- categories: [Dominykas Tautkus]\n",
    "- image: images/screenshot4.png"
   ]
  },
  {
   "cell_type": "code",
   "execution_count": null,
   "id": "comparable-sixth",
   "metadata": {
    "papermill": {
     "duration": 0.010213,
     "end_time": "2022-05-23T02:58:15.738205",
     "exception": false,
     "start_time": "2022-05-23T02:58:15.727992",
     "status": "completed"
    },
    "tags": []
   },
   "outputs": [],
   "source": []
  },
  {
   "cell_type": "code",
   "execution_count": 1,
   "id": "restricted-terrain",
   "metadata": {
    "execution": {
     "iopub.execute_input": "2022-05-23T02:58:15.770646Z",
     "iopub.status.busy": "2022-05-23T02:58:15.769994Z",
     "iopub.status.idle": "2022-05-23T02:58:17.491554Z",
     "shell.execute_reply": "2022-05-23T02:58:17.490710Z"
    },
    "papermill": {
     "duration": 1.743887,
     "end_time": "2022-05-23T02:58:17.491729",
     "exception": false,
     "start_time": "2022-05-23T02:58:15.747842",
     "status": "completed"
    },
    "tags": []
   },
   "outputs": [],
   "source": [
    "#hide\n",
    "%load_ext autoreload\n",
    "%autoreload 2\n",
    "import plotly.graph_objects as go\n",
    "import pandas as pd\n",
    "import matplotlib.pyplot as plt\n",
    "import plotly.express as px\n",
    "from scripts.read_data import read_api\n",
    "import seaborn as sns\n",
    "sns.set()"
   ]
  },
  {
   "cell_type": "markdown",
   "id": "a32c700d",
   "metadata": {
    "tags": [
     "papermill-error-cell-tag"
    ]
   },
   "source": [
    "<span id=\"papermill-error-cell\" style=\"color:red; font-family:Helvetica Neue, Helvetica, Arial, sans-serif; font-size:2em;\">Execution using papermill encountered an exception here and stopped:</span>"
   ]
  },
  {
   "cell_type": "code",
   "execution_count": 2,
   "id": "romance-joyce",
   "metadata": {
    "execution": {
     "iopub.execute_input": "2022-05-23T02:58:17.516742Z",
     "iopub.status.busy": "2022-05-23T02:58:17.515985Z",
     "iopub.status.idle": "2022-05-23T02:58:26.057874Z",
     "shell.execute_reply": "2022-05-23T02:58:26.058654Z"
    },
    "papermill": {
     "duration": 8.557517,
     "end_time": "2022-05-23T02:58:26.059031",
     "exception": true,
     "start_time": "2022-05-23T02:58:17.501514",
     "status": "failed"
    },
    "tags": []
   },
   "outputs": [
    {
     "name": "stderr",
     "output_type": "stream",
     "text": [
      "/home/runner/work/corr-app/corr-app/_notebooks/scripts/read_data.py:187: SettingWithCopyWarning:\n",
      "\n",
      "\n",
      "A value is trying to be set on a copy of a slice from a DataFrame.\n",
      "Try using .loc[row_indexer,col_indexer] = value instead\n",
      "\n",
      "See the caveats in the documentation: https://pandas.pydata.org/pandas-docs/stable/user_guide/indexing.html#returning-a-view-versus-a-copy\n",
      "\n"
     ]
    },
    {
     "name": "stderr",
     "output_type": "stream",
     "text": [
      "/home/runner/work/corr-app/corr-app/_notebooks/scripts/read_data.py:215: SettingWithCopyWarning:\n",
      "\n",
      "\n",
      "A value is trying to be set on a copy of a slice from a DataFrame.\n",
      "Try using .loc[row_indexer,col_indexer] = value instead\n",
      "\n",
      "See the caveats in the documentation: https://pandas.pydata.org/pandas-docs/stable/user_guide/indexing.html#returning-a-view-versus-a-copy\n",
      "\n"
     ]
    },
    {
     "ename": "JSONDecodeError",
     "evalue": "Extra data: line 1 column 5 (char 4)",
     "output_type": "error",
     "traceback": [
      "\u001b[0;31m---------------------------------------------------------------------------\u001b[0m",
      "\u001b[0;31mJSONDecodeError\u001b[0m                           Traceback (most recent call last)",
      "\u001b[0;32m<ipython-input-2-c4ff9149db4f>\u001b[0m in \u001b[0;36m<module>\u001b[0;34m\u001b[0m\n\u001b[1;32m      1\u001b[0m \u001b[0;31m#hide\u001b[0m\u001b[0;34m\u001b[0m\u001b[0;34m\u001b[0m\u001b[0;34m\u001b[0m\u001b[0m\n\u001b[0;32m----> 2\u001b[0;31m \u001b[0mdf_all\u001b[0m \u001b[0;34m=\u001b[0m \u001b[0mread_api\u001b[0m\u001b[0;34m(\u001b[0m\u001b[0;34m)\u001b[0m\u001b[0;34m\u001b[0m\u001b[0;34m\u001b[0m\u001b[0m\n\u001b[0m",
      "\u001b[0;32m~/work/corr-app/corr-app/_notebooks/scripts/read_data.py\u001b[0m in \u001b[0;36mread_api\u001b[0;34m(short_frm)\u001b[0m\n\u001b[1;32m    142\u001b[0m     \u001b[0;31m#XAU = XAU[XAU.close != 79987.0]\u001b[0m\u001b[0;34m\u001b[0m\u001b[0;34m\u001b[0m\u001b[0;34m\u001b[0m\u001b[0m\n\u001b[1;32m    143\u001b[0m     \u001b[0;31m#XAU = XAU[XAU.close > 1080]\u001b[0m\u001b[0;34m\u001b[0m\u001b[0;34m\u001b[0m\u001b[0;34m\u001b[0m\u001b[0m\n\u001b[0;32m--> 144\u001b[0;31m     \u001b[0mmarkets\u001b[0m \u001b[0;34m=\u001b[0m \u001b[0mread_markets_api\u001b[0m\u001b[0;34m(\u001b[0m\u001b[0;34m)\u001b[0m\u001b[0;34m\u001b[0m\u001b[0;34m\u001b[0m\u001b[0m\n\u001b[0m\u001b[1;32m    145\u001b[0m     \u001b[0mdf\u001b[0m \u001b[0;34m=\u001b[0m \u001b[0mBTC\u001b[0m\u001b[0;34m.\u001b[0m\u001b[0mappend\u001b[0m\u001b[0;34m(\u001b[0m\u001b[0mEOS\u001b[0m\u001b[0;34m)\u001b[0m\u001b[0;34m.\u001b[0m\u001b[0mappend\u001b[0m\u001b[0;34m(\u001b[0m\u001b[0mLSK\u001b[0m\u001b[0;34m)\u001b[0m\u001b[0;34m.\u001b[0m\u001b[0mappend\u001b[0m\u001b[0;34m(\u001b[0m\u001b[0mETH\u001b[0m\u001b[0;34m)\u001b[0m\u001b[0;34m.\u001b[0m\u001b[0mappend\u001b[0m\u001b[0;34m(\u001b[0m\u001b[0mADA\u001b[0m\u001b[0;34m)\u001b[0m\u001b[0;34m.\u001b[0m\u001b[0mappend\u001b[0m\u001b[0;34m(\u001b[0m\u001b[0mNEO\u001b[0m\u001b[0;34m)\u001b[0m\u001b[0;34m.\u001b[0m\u001b[0mappend\u001b[0m\u001b[0;34m(\u001b[0m\u001b[0mTRX\u001b[0m\u001b[0;34m)\u001b[0m\u001b[0;34m.\u001b[0m\u001b[0mappend\u001b[0m\u001b[0;34m(\u001b[0m\u001b[0mXRP\u001b[0m\u001b[0;34m)\u001b[0m\u001b[0;34m.\u001b[0m\u001b[0mappend\u001b[0m\u001b[0;34m(\u001b[0m\u001b[0mmarkets\u001b[0m\u001b[0;34m)\u001b[0m\u001b[0;34m\u001b[0m\u001b[0;34m\u001b[0m\u001b[0m\n\u001b[1;32m    146\u001b[0m     \u001b[0mdf\u001b[0m\u001b[0;34m[\u001b[0m\u001b[0;34m'date'\u001b[0m\u001b[0;34m]\u001b[0m \u001b[0;34m=\u001b[0m \u001b[0mdf\u001b[0m\u001b[0;34m[\u001b[0m\u001b[0;34m'date'\u001b[0m\u001b[0;34m]\u001b[0m\u001b[0;34m.\u001b[0m\u001b[0mdt\u001b[0m\u001b[0;34m.\u001b[0m\u001b[0mdate\u001b[0m\u001b[0;34m\u001b[0m\u001b[0;34m\u001b[0m\u001b[0m\n",
      "\u001b[0;32m~/work/corr-app/corr-app/_notebooks/scripts/read_data.py\u001b[0m in \u001b[0;36mread_markets_api\u001b[0;34m()\u001b[0m\n\u001b[1;32m    174\u001b[0m     \u001b[0;31m# ^GSPC-->sp500 ; GC=F-->XAU\u001b[0m\u001b[0;34m\u001b[0m\u001b[0;34m\u001b[0m\u001b[0;34m\u001b[0m\u001b[0m\n\u001b[1;32m    175\u001b[0m     \u001b[0mSP500\u001b[0m \u001b[0;34m=\u001b[0m \u001b[0mformat_markets\u001b[0m\u001b[0;34m(\u001b[0m\u001b[0;34m'^GSPC'\u001b[0m\u001b[0;34m,\u001b[0m \u001b[0;34m'SP500'\u001b[0m\u001b[0;34m)\u001b[0m\u001b[0;34m\u001b[0m\u001b[0;34m\u001b[0m\u001b[0m\n\u001b[0;32m--> 176\u001b[0;31m     \u001b[0mXAU\u001b[0m \u001b[0;34m=\u001b[0m \u001b[0mformat_markets\u001b[0m\u001b[0;34m(\u001b[0m\u001b[0;34m'GC=F'\u001b[0m\u001b[0;34m,\u001b[0m \u001b[0;34m'XAU'\u001b[0m\u001b[0;34m)\u001b[0m\u001b[0;34m\u001b[0m\u001b[0;34m\u001b[0m\u001b[0m\n\u001b[0m\u001b[1;32m    177\u001b[0m     \u001b[0mmarkets\u001b[0m \u001b[0;34m=\u001b[0m \u001b[0mSP500\u001b[0m\u001b[0;34m.\u001b[0m\u001b[0mappend\u001b[0m\u001b[0;34m(\u001b[0m\u001b[0mXAU\u001b[0m\u001b[0;34m)\u001b[0m\u001b[0;34m\u001b[0m\u001b[0;34m\u001b[0m\u001b[0m\n\u001b[1;32m    178\u001b[0m     \u001b[0;32mreturn\u001b[0m \u001b[0mmarkets\u001b[0m\u001b[0;34m\u001b[0m\u001b[0;34m\u001b[0m\u001b[0m\n",
      "\u001b[0;32m~/work/corr-app/corr-app/_notebooks/scripts/read_data.py\u001b[0m in \u001b[0;36mformat_markets\u001b[0;34m(symbol, crypto)\u001b[0m\n\u001b[1;32m    208\u001b[0m     \u001b[0mresponse\u001b[0m \u001b[0;34m=\u001b[0m \u001b[0mrequests\u001b[0m\u001b[0;34m.\u001b[0m\u001b[0mrequest\u001b[0m\u001b[0;34m(\u001b[0m\u001b[0;34m\"GET\"\u001b[0m\u001b[0;34m,\u001b[0m \u001b[0murl\u001b[0m\u001b[0;34m,\u001b[0m \u001b[0mheaders\u001b[0m\u001b[0;34m=\u001b[0m\u001b[0mheaders\u001b[0m\u001b[0;34m,\u001b[0m \u001b[0mparams\u001b[0m\u001b[0;34m=\u001b[0m\u001b[0mquerystring\u001b[0m\u001b[0;34m)\u001b[0m\u001b[0;34m\u001b[0m\u001b[0;34m\u001b[0m\u001b[0m\n\u001b[1;32m    209\u001b[0m \u001b[0;34m\u001b[0m\u001b[0m\n\u001b[0;32m--> 210\u001b[0;31m     \u001b[0mjson_data\u001b[0m \u001b[0;34m=\u001b[0m \u001b[0mjson\u001b[0m\u001b[0;34m.\u001b[0m\u001b[0mloads\u001b[0m\u001b[0;34m(\u001b[0m\u001b[0mresponse\u001b[0m\u001b[0;34m.\u001b[0m\u001b[0mcontent\u001b[0m\u001b[0;34m)\u001b[0m\u001b[0;34m[\u001b[0m\u001b[0;34m'prices'\u001b[0m\u001b[0;34m]\u001b[0m\u001b[0;34m\u001b[0m\u001b[0;34m\u001b[0m\u001b[0m\n\u001b[0m\u001b[1;32m    211\u001b[0m     \u001b[0mdf_resp\u001b[0m \u001b[0;34m=\u001b[0m \u001b[0mpd\u001b[0m\u001b[0;34m.\u001b[0m\u001b[0mDataFrame\u001b[0m\u001b[0;34m(\u001b[0m\u001b[0mjson_data\u001b[0m\u001b[0;34m)\u001b[0m\u001b[0;34m\u001b[0m\u001b[0;34m\u001b[0m\u001b[0m\n\u001b[1;32m    212\u001b[0m     \u001b[0mdf_resp\u001b[0m\u001b[0;34m[\u001b[0m\u001b[0;34m'date'\u001b[0m\u001b[0;34m]\u001b[0m \u001b[0;34m=\u001b[0m \u001b[0mpd\u001b[0m\u001b[0;34m.\u001b[0m\u001b[0mto_datetime\u001b[0m\u001b[0;34m(\u001b[0m\u001b[0mdf_resp\u001b[0m\u001b[0;34m.\u001b[0m\u001b[0mdate\u001b[0m\u001b[0;34m,\u001b[0m \u001b[0munit\u001b[0m\u001b[0;34m=\u001b[0m\u001b[0;34m's'\u001b[0m\u001b[0;34m)\u001b[0m\u001b[0;34m\u001b[0m\u001b[0;34m\u001b[0m\u001b[0m\n",
      "\u001b[0;32m/opt/hostedtoolcache/Python/3.6.15/x64/lib/python3.6/json/__init__.py\u001b[0m in \u001b[0;36mloads\u001b[0;34m(s, encoding, cls, object_hook, parse_float, parse_int, parse_constant, object_pairs_hook, **kw)\u001b[0m\n\u001b[1;32m    352\u001b[0m             \u001b[0mparse_int\u001b[0m \u001b[0;32mis\u001b[0m \u001b[0;32mNone\u001b[0m \u001b[0;32mand\u001b[0m \u001b[0mparse_float\u001b[0m \u001b[0;32mis\u001b[0m \u001b[0;32mNone\u001b[0m \u001b[0;32mand\u001b[0m\u001b[0;34m\u001b[0m\u001b[0;34m\u001b[0m\u001b[0m\n\u001b[1;32m    353\u001b[0m             parse_constant is None and object_pairs_hook is None and not kw):\n\u001b[0;32m--> 354\u001b[0;31m         \u001b[0;32mreturn\u001b[0m \u001b[0m_default_decoder\u001b[0m\u001b[0;34m.\u001b[0m\u001b[0mdecode\u001b[0m\u001b[0;34m(\u001b[0m\u001b[0ms\u001b[0m\u001b[0;34m)\u001b[0m\u001b[0;34m\u001b[0m\u001b[0;34m\u001b[0m\u001b[0m\n\u001b[0m\u001b[1;32m    355\u001b[0m     \u001b[0;32mif\u001b[0m \u001b[0mcls\u001b[0m \u001b[0;32mis\u001b[0m \u001b[0;32mNone\u001b[0m\u001b[0;34m:\u001b[0m\u001b[0;34m\u001b[0m\u001b[0;34m\u001b[0m\u001b[0m\n\u001b[1;32m    356\u001b[0m         \u001b[0mcls\u001b[0m \u001b[0;34m=\u001b[0m \u001b[0mJSONDecoder\u001b[0m\u001b[0;34m\u001b[0m\u001b[0;34m\u001b[0m\u001b[0m\n",
      "\u001b[0;32m/opt/hostedtoolcache/Python/3.6.15/x64/lib/python3.6/json/decoder.py\u001b[0m in \u001b[0;36mdecode\u001b[0;34m(self, s, _w)\u001b[0m\n\u001b[1;32m    340\u001b[0m         \u001b[0mend\u001b[0m \u001b[0;34m=\u001b[0m \u001b[0m_w\u001b[0m\u001b[0;34m(\u001b[0m\u001b[0ms\u001b[0m\u001b[0;34m,\u001b[0m \u001b[0mend\u001b[0m\u001b[0;34m)\u001b[0m\u001b[0;34m.\u001b[0m\u001b[0mend\u001b[0m\u001b[0;34m(\u001b[0m\u001b[0;34m)\u001b[0m\u001b[0;34m\u001b[0m\u001b[0;34m\u001b[0m\u001b[0m\n\u001b[1;32m    341\u001b[0m         \u001b[0;32mif\u001b[0m \u001b[0mend\u001b[0m \u001b[0;34m!=\u001b[0m \u001b[0mlen\u001b[0m\u001b[0;34m(\u001b[0m\u001b[0ms\u001b[0m\u001b[0;34m)\u001b[0m\u001b[0;34m:\u001b[0m\u001b[0;34m\u001b[0m\u001b[0;34m\u001b[0m\u001b[0m\n\u001b[0;32m--> 342\u001b[0;31m             \u001b[0;32mraise\u001b[0m \u001b[0mJSONDecodeError\u001b[0m\u001b[0;34m(\u001b[0m\u001b[0;34m\"Extra data\"\u001b[0m\u001b[0;34m,\u001b[0m \u001b[0ms\u001b[0m\u001b[0;34m,\u001b[0m \u001b[0mend\u001b[0m\u001b[0;34m)\u001b[0m\u001b[0;34m\u001b[0m\u001b[0;34m\u001b[0m\u001b[0m\n\u001b[0m\u001b[1;32m    343\u001b[0m         \u001b[0;32mreturn\u001b[0m \u001b[0mobj\u001b[0m\u001b[0;34m\u001b[0m\u001b[0;34m\u001b[0m\u001b[0m\n\u001b[1;32m    344\u001b[0m \u001b[0;34m\u001b[0m\u001b[0m\n",
      "\u001b[0;31mJSONDecodeError\u001b[0m: Extra data: line 1 column 5 (char 4)"
     ]
    }
   ],
   "source": [
    "#hide\n",
    "df_all = read_api()"
   ]
  },
  {
   "cell_type": "code",
   "execution_count": null,
   "id": "obvious-buyer",
   "metadata": {
    "execution": {
     "iopub.execute_input": "2022-05-22T02:48:27.919183Z",
     "iopub.status.busy": "2022-05-22T02:48:27.918247Z",
     "iopub.status.idle": "2022-05-22T02:48:27.935529Z",
     "shell.execute_reply": "2022-05-22T02:48:27.934800Z"
    },
    "papermill": {
     "duration": null,
     "end_time": null,
     "exception": null,
     "start_time": null,
     "status": "pending"
    },
    "tags": []
   },
   "outputs": [],
   "source": [
    "#hide\n",
    "from IPython.display import HTML"
   ]
  },
  {
   "cell_type": "markdown",
   "id": "improving-color",
   "metadata": {
    "papermill": {
     "duration": null,
     "end_time": null,
     "exception": null,
     "start_time": null,
     "status": "pending"
    },
    "tags": []
   },
   "source": [
    "### Sklaidos diagrama su BTC"
   ]
  },
  {
   "cell_type": "code",
   "execution_count": null,
   "id": "fifty-component",
   "metadata": {
    "execution": {
     "iopub.execute_input": "2022-05-22T02:48:27.986345Z",
     "iopub.status.busy": "2022-05-22T02:48:27.978806Z",
     "iopub.status.idle": "2022-05-22T02:48:28.338752Z",
     "shell.execute_reply": "2022-05-22T02:48:28.339230Z"
    },
    "papermill": {
     "duration": null,
     "end_time": null,
     "exception": null,
     "start_time": null,
     "status": "pending"
    },
    "tags": []
   },
   "outputs": [],
   "source": [
    "#hide_input\n",
    "fig = go.Figure()\n",
    "\n",
    "fig.add_trace(\n",
    "    go.Scatter(x=list(df_all.BTC),\n",
    "               y=list(df_all.ETH),\n",
    "               name=\"ETH\",\n",
    "               marker_size =5,\n",
    "               mode='markers',\n",
    "               line=dict(color=\"DarkOrange\")))\n",
    "\n",
    "fig.add_trace(\n",
    "    go.Scatter(x=list(df_all.BTC),\n",
    "               y=list(df_all.ADA),\n",
    "               name=\"ADA\",\n",
    "               marker_size =5,\n",
    "               mode='markers',\n",
    "               line=dict(color=\"Yellow\")))\n",
    "\n",
    "\n",
    "fig.add_trace(\n",
    "    go.Scatter(x=list(df_all.BTC),\n",
    "               y=list(df_all.EOS),\n",
    "               name=\"EOS\",\n",
    "               marker_size =5,\n",
    "               mode='markers',\n",
    "               line=dict(color=\"Blue\")))\n",
    "\n",
    "fig.add_trace(\n",
    "    go.Scatter(x=list(df_all.BTC),\n",
    "               y=list(df_all.NEO),\n",
    "               name=\"NEO\",\n",
    "               marker_size =5,\n",
    "               mode='markers',\n",
    "               line=dict(color=\"Red\")))\n",
    "\n",
    "\n",
    "fig.add_trace(\n",
    "    go.Scatter(x=list(df_all.BTC),\n",
    "               y=list(df_all.TRX),\n",
    "               name=\"TRX\",\n",
    "               marker_size =5,\n",
    "               mode='markers',\n",
    "               line=dict(color=\"Green\")))\n",
    "\n",
    "fig.add_trace(\n",
    "    go.Scatter(x=list(df_all.BTC),\n",
    "               y=list(df_all.XRP),\n",
    "               name=\"XRP\",\n",
    "               marker_size =5,\n",
    "               mode='markers',\n",
    "               line=dict(color=\"DarkGreen\")))\n",
    "\n",
    "\n",
    "\n",
    "fig.update_layout(\n",
    "                width=900,\n",
    "            height=900,\n",
    "    updatemenus=[\n",
    "        dict(\n",
    "            type=\"buttons\",\n",
    "            direction=\"down\",\n",
    "            active=6,\n",
    "#             x=1.57,\n",
    "#             y=1.2,\n",
    "            buttons=list([\n",
    "                dict(label=\"ETH\",\n",
    "                     method=\"update\",\n",
    "                     args=[{\"visible\": [True, False, False,False, False, False]},\n",
    "                           {\"title\": \"Sklaidos diagrama BTC ir ETH\",\n",
    "                            \"annotations\": []}]),\n",
    "                dict(label=\"ADA\",\n",
    "                     method=\"update\",\n",
    "                     args=[{\"visible\": [False, True, False, False, False, False]},\n",
    "                           {\"title\": \"Sklaidos diagrama BTC ir ADA\",\n",
    "                            \"annotations\": []}]),\n",
    "                dict(label=\"EOS\",\n",
    "                     method=\"update\",\n",
    "                     args=[{\"visible\": [False, False, True, False, False, False]},\n",
    "                           {\"title\": \"Sklaidos diagrama BTC ir EOS\",\n",
    "                            \"annotations\": []}]),\n",
    "                dict(label=\"NEO\",\n",
    "                     method=\"update\",\n",
    "                     args=[{\"visible\": [False, False, False, True, False, False]},\n",
    "                           {\"title\": \"Sklaidos diagrama BTC ir NEO\",\n",
    "                            \"annotations\": []}]),\n",
    "                dict(label=\"TRX\",\n",
    "                     method=\"update\",\n",
    "                     args=[{\"visible\": [False, False, False, False, True, False]},\n",
    "                           {\"title\": \"Sklaidos diagrama BTC ir TRX\",\n",
    "                            \"annotations\": []}]),\n",
    "                dict(label=\"XRP\",\n",
    "                     method=\"update\",\n",
    "                     args=[{\"visible\": [False, False, False, False, False, True]},\n",
    "                           {\"title\": \"Sklaidos diagrama BTC ir XRP\",\n",
    "                            \"annotations\": []}]),\n",
    "                dict(label=\"All\",\n",
    "                     method=\"update\",\n",
    "                     args=[{\"visible\": [True, True, True, True, True]},\n",
    "                           {\"title\": \"Sklaidos diagrama visoms valiutoms\",\n",
    "                            \"annotations\": []}]),\n",
    "            ]),\n",
    "        )\n",
    "    ])\n",
    "\n",
    "# Set title\n",
    "fig.update_layout(\n",
    "    title_text=\"Sklaidos diagrama BTC ir kitoms valiutoms\",\n",
    "#     xaxis_domain=[0.20, 1.0]\n",
    "#     xaxis_domain=[1.0, 1.0]\n",
    ")\n",
    "\n",
    "HTML(fig.to_html())\n"
   ]
  },
  {
   "cell_type": "code",
   "execution_count": null,
   "id": "described-intersection",
   "metadata": {
    "papermill": {
     "duration": null,
     "end_time": null,
     "exception": null,
     "start_time": null,
     "status": "pending"
    },
    "tags": []
   },
   "outputs": [],
   "source": []
  },
  {
   "cell_type": "code",
   "execution_count": null,
   "id": "heard-cliff",
   "metadata": {
    "papermill": {
     "duration": null,
     "end_time": null,
     "exception": null,
     "start_time": null,
     "status": "pending"
    },
    "tags": []
   },
   "outputs": [],
   "source": []
  },
  {
   "cell_type": "code",
   "execution_count": null,
   "id": "rough-discovery",
   "metadata": {
    "papermill": {
     "duration": null,
     "end_time": null,
     "exception": null,
     "start_time": null,
     "status": "pending"
    },
    "tags": []
   },
   "outputs": [],
   "source": []
  },
  {
   "cell_type": "code",
   "execution_count": null,
   "id": "cleared-fellow",
   "metadata": {
    "papermill": {
     "duration": null,
     "end_time": null,
     "exception": null,
     "start_time": null,
     "status": "pending"
    },
    "tags": []
   },
   "outputs": [],
   "source": []
  },
  {
   "cell_type": "code",
   "execution_count": null,
   "id": "medical-jungle",
   "metadata": {
    "papermill": {
     "duration": null,
     "end_time": null,
     "exception": null,
     "start_time": null,
     "status": "pending"
    },
    "tags": []
   },
   "outputs": [],
   "source": []
  },
  {
   "cell_type": "code",
   "execution_count": null,
   "id": "german-interview",
   "metadata": {
    "papermill": {
     "duration": null,
     "end_time": null,
     "exception": null,
     "start_time": null,
     "status": "pending"
    },
    "tags": []
   },
   "outputs": [],
   "source": []
  },
  {
   "cell_type": "code",
   "execution_count": null,
   "id": "steady-threat",
   "metadata": {
    "papermill": {
     "duration": null,
     "end_time": null,
     "exception": null,
     "start_time": null,
     "status": "pending"
    },
    "tags": []
   },
   "outputs": [],
   "source": []
  }
 ],
 "metadata": {
  "kernelspec": {
   "display_name": "Python 3",
   "language": "python",
   "name": "python3"
  },
  "language_info": {
   "codemirror_mode": {
    "name": "ipython",
    "version": 3
   },
   "file_extension": ".py",
   "mimetype": "text/x-python",
   "name": "python",
   "nbconvert_exporter": "python",
   "pygments_lexer": "ipython3",
   "version": "3.6.15"
  },
  "papermill": {
   "default_parameters": {},
   "duration": 12.147825,
   "end_time": "2022-05-23T02:58:26.590560",
   "environment_variables": {},
   "exception": true,
   "input_path": "App-Scatter_charts.ipynb",
   "output_path": "App-Scatter_charts.ipynb",
   "parameters": {},
   "start_time": "2022-05-23T02:58:14.442735",
   "version": "2.2.2"
  }
 },
 "nbformat": 4,
 "nbformat_minor": 5
}