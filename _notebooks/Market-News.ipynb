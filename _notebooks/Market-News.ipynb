{
 "cells": [
  {
   "cell_type": "markdown",
   "id": "short-greensboro",
   "metadata": {
    "papermill": {
     "duration": 0.016834,
     "end_time": "2022-03-17T02:20:00.397674",
     "exception": false,
     "start_time": "2022-03-17T02:20:00.380840",
     "status": "completed"
    },
    "tags": []
   },
   "source": [
    "# Kriptovaliutų naujienos"
   ]
  },
  {
   "cell_type": "code",
   "execution_count": 1,
   "id": "functioning-knowing",
   "metadata": {
    "execution": {
     "iopub.execute_input": "2022-03-17T02:20:00.435404Z",
     "iopub.status.busy": "2022-03-17T02:20:00.434627Z",
     "iopub.status.idle": "2022-03-17T02:20:02.119988Z",
     "shell.execute_reply": "2022-03-17T02:20:02.120590Z"
    },
    "papermill": {
     "duration": 1.710435,
     "end_time": "2022-03-17T02:20:02.120817",
     "exception": false,
     "start_time": "2022-03-17T02:20:00.410382",
     "status": "completed"
    },
    "tags": []
   },
   "outputs": [],
   "source": [
    "#hide_input\n",
    "import warnings\n",
    "warnings.filterwarnings('ignore')\n",
    "from scripts.read_data import read_api\n",
    "from scripts.read_data import read_news\n",
    "from scripts.read_data import read_covid\n",
    "import matplotlib.pyplot as plt \n",
    "from IPython.display import Markdown as md"
   ]
  },
  {
   "cell_type": "code",
   "execution_count": 2,
   "id": "shared-acceptance",
   "metadata": {
    "execution": {
     "iopub.execute_input": "2022-03-17T02:20:02.153129Z",
     "iopub.status.busy": "2022-03-17T02:20:02.152444Z",
     "iopub.status.idle": "2022-03-17T02:20:14.068081Z",
     "shell.execute_reply": "2022-03-17T02:20:14.067108Z"
    },
    "papermill": {
     "duration": 11.934448,
     "end_time": "2022-03-17T02:20:14.068238",
     "exception": false,
     "start_time": "2022-03-17T02:20:02.133790",
     "status": "completed"
    },
    "tags": []
   },
   "outputs": [],
   "source": [
    "#hide_input\n",
    "blockchain = read_news('blockchain') \n",
    "btc = read_news('btc') \n",
    "xrp = read_news('xrp') \n",
    "trx = read_news('trx') \n",
    "eth = read_news('eth')  \n",
    "ada = read_news('ada')\n",
    "exchange = read_news('exchange') "
   ]
  },
  {
   "cell_type": "code",
   "execution_count": 3,
   "id": "synthetic-notion",
   "metadata": {
    "execution": {
     "iopub.execute_input": "2022-03-17T02:20:14.099840Z",
     "iopub.status.busy": "2022-03-17T02:20:14.099116Z",
     "iopub.status.idle": "2022-03-17T02:20:14.103371Z",
     "shell.execute_reply": "2022-03-17T02:20:14.102844Z"
    },
    "papermill": {
     "duration": 0.022764,
     "end_time": "2022-03-17T02:20:14.103496",
     "exception": false,
     "start_time": "2022-03-17T02:20:14.080732",
     "status": "completed"
    },
    "tags": []
   },
   "outputs": [
    {
     "data": {
      "text/markdown": [
       "- Run-DMC's McDaniels at SXSW: Blockchain can take the power back for artists.  “The creator is where the power begins, and that’s where the power should stay\", states Run-D.M.C’s Darryl McDaniels.  ... [| Skaityti daugiau](https://cointelegraph.com/news/run-dmc-s-mcdaniels-at-sxsw-blockchain-can-take-the-power-back-for-artists) "
      ],
      "text/plain": [
       "<IPython.core.display.Markdown object>"
      ]
     },
     "execution_count": 3,
     "metadata": {},
     "output_type": "execute_result"
    }
   ],
   "source": [
    "#hide_input\n",
    "#md('##### {}'.format(titleBTC)) \n",
    "md(\"- {}{} {}{} [| Skaityti daugiau]({}) \".format(blockchain['title'],'. ', blockchain['body'], ' ...', blockchain['url']))"
   ]
  },
  {
   "cell_type": "code",
   "execution_count": 4,
   "id": "aging-caution",
   "metadata": {
    "execution": {
     "iopub.execute_input": "2022-03-17T02:20:14.133788Z",
     "iopub.status.busy": "2022-03-17T02:20:14.133081Z",
     "iopub.status.idle": "2022-03-17T02:20:14.136900Z",
     "shell.execute_reply": "2022-03-17T02:20:14.136377Z"
    },
    "papermill": {
     "duration": 0.021192,
     "end_time": "2022-03-17T02:20:14.137017",
     "exception": false,
     "start_time": "2022-03-17T02:20:14.115825",
     "status": "completed"
    },
    "tags": []
   },
   "outputs": [
    {
     "data": {
      "text/markdown": [
       "- Bitcoin Price Surge Unlikely With System Volatility So High.  With the VIX indicating systemic volatility, it's hard to imagine bitcoin making a larger upwards move in price. ... [| Skaityti daugiau](https://bitcoinmagazine.com/markets/bitcoin-price-wont-rise-with-volatility-so-high) "
      ],
      "text/plain": [
       "<IPython.core.display.Markdown object>"
      ]
     },
     "execution_count": 4,
     "metadata": {},
     "output_type": "execute_result"
    }
   ],
   "source": [
    "#hide_input\n",
    "#md('##### {}'.format(titleBTC)) \n",
    "md(\"- {}{} {}{} [| Skaityti daugiau]({}) \".format(btc['title'],'. ', btc['body'], ' ...', btc['url']))"
   ]
  },
  {
   "cell_type": "code",
   "execution_count": 5,
   "id": "organic-actress",
   "metadata": {
    "execution": {
     "iopub.execute_input": "2022-03-17T02:20:14.169369Z",
     "iopub.status.busy": "2022-03-17T02:20:14.168694Z",
     "iopub.status.idle": "2022-03-17T02:20:14.172549Z",
     "shell.execute_reply": "2022-03-17T02:20:14.171917Z"
    },
    "papermill": {
     "duration": 0.022304,
     "end_time": "2022-03-17T02:20:14.172712",
     "exception": false,
     "start_time": "2022-03-17T02:20:14.150408",
     "status": "completed"
    },
    "tags": []
   },
   "outputs": [
    {
     "data": {
      "text/markdown": [
       "- ‪Breaking: Ripple Adds Former White House Adviser As A Board Member.  Ripple is strengthening its push to get regulatory clarity for ongoing Ripple Vs SEC case. The firm has announced the addition of Michael Warren, the managing director of Albright Stonebridge Group (ASG), to its board of directors. Ripple tackles regulatory woes with new Board Member‬ Ripple stated in a press release today that Warren&#8217;s addition The post ‪Breaking: Ripple Adds Former White House Adviser As A Board Member appeared first on CoinGape. ... [| Skaityti daugiau](https://coingape.com/%e2%80%aabreaking-ripple-adds-whitehouse-adviser-as-board-member/) "
      ],
      "text/plain": [
       "<IPython.core.display.Markdown object>"
      ]
     },
     "execution_count": 5,
     "metadata": {},
     "output_type": "execute_result"
    }
   ],
   "source": [
    "#hide_input\n",
    "#md('##### {}'.format(titleBTC)) \n",
    "md(\"- {}{} {}{} [| Skaityti daugiau]({}) \".format(xrp['title'],'. ', xrp['body'], ' ...', xrp['url']))"
   ]
  },
  {
   "cell_type": "code",
   "execution_count": 6,
   "id": "prompt-farmer",
   "metadata": {
    "execution": {
     "iopub.execute_input": "2022-03-17T02:20:14.203531Z",
     "iopub.status.busy": "2022-03-17T02:20:14.202893Z",
     "iopub.status.idle": "2022-03-17T02:20:14.207610Z",
     "shell.execute_reply": "2022-03-17T02:20:14.207026Z"
    },
    "papermill": {
     "duration": 0.021423,
     "end_time": "2022-03-17T02:20:14.207728",
     "exception": false,
     "start_time": "2022-03-17T02:20:14.186305",
     "status": "completed"
    },
    "tags": []
   },
   "outputs": [
    {
     "data": {
      "text/markdown": [
       "- What SEC v. Ripple has in common with the allegations against Sun, TRON.  If TRON DAO &#8211; née TRON &#8211; wasn&#8217;t enough of a conversation starter, an investigative piece by journalist Chris Harland-Dunaway published in The Verge dropped a bomb. It accused Tron founder Justin Sun of actions ranging from getting ICO ban tip-offs to insider trading. In a conversation with journalist Laura Shin, Harland-Dunaway revealed more details [&#8230;] ... [| Skaityti daugiau](https://ambcrypto.com/what-sec-v-ripple-has-in-common-with-the-allegations-against-sun-tron/) "
      ],
      "text/plain": [
       "<IPython.core.display.Markdown object>"
      ]
     },
     "execution_count": 6,
     "metadata": {},
     "output_type": "execute_result"
    }
   ],
   "source": [
    "#hide_input\n",
    "#md('##### {}'.format(titleBTC)) \n",
    "md(\"- {}{} {}{} [| Skaityti daugiau]({}) \".format(trx['title'],'. ', trx['body'], ' ...', trx['url']))"
   ]
  },
  {
   "cell_type": "code",
   "execution_count": 7,
   "id": "illegal-greece",
   "metadata": {
    "execution": {
     "iopub.execute_input": "2022-03-17T02:20:14.237552Z",
     "iopub.status.busy": "2022-03-17T02:20:14.236905Z",
     "iopub.status.idle": "2022-03-17T02:20:14.239824Z",
     "shell.execute_reply": "2022-03-17T02:20:14.240333Z"
    },
    "papermill": {
     "duration": 0.020155,
     "end_time": "2022-03-17T02:20:14.240465",
     "exception": false,
     "start_time": "2022-03-17T02:20:14.220310",
     "status": "completed"
    },
    "tags": []
   },
   "outputs": [
    {
     "data": {
      "text/markdown": [
       "- Ethereum Closer To Proof Of Stake As Last Testnet Completes The Merge.  Ethereum has been on the journey to proof of stake for quite a while now. The journey has been characterized by delays which the founder has attributed to people&#8217;s problems rather than technical problems but it is finally back on track. To properly test how the network would perform when the mainnet begins operating in [&#8230;] ... [| Skaityti daugiau](https://bitcoinist.com/ethereum-last-testnet-completes-the-merge/) "
      ],
      "text/plain": [
       "<IPython.core.display.Markdown object>"
      ]
     },
     "execution_count": 7,
     "metadata": {},
     "output_type": "execute_result"
    }
   ],
   "source": [
    "#hide_input\n",
    "#md('##### {}'.format(titleBTC)) \n",
    "md(\"- {}{} {}{} [| Skaityti daugiau]({}) \".format(eth['title'],'. ', eth['body'], ' ...', eth['url']))"
   ]
  },
  {
   "cell_type": "code",
   "execution_count": 8,
   "id": "sublime-lounge",
   "metadata": {
    "execution": {
     "iopub.execute_input": "2022-03-17T02:20:14.273186Z",
     "iopub.status.busy": "2022-03-17T02:20:14.272525Z",
     "iopub.status.idle": "2022-03-17T02:20:14.277251Z",
     "shell.execute_reply": "2022-03-17T02:20:14.277710Z"
    },
    "papermill": {
     "duration": 0.0235,
     "end_time": "2022-03-17T02:20:14.277836",
     "exception": false,
     "start_time": "2022-03-17T02:20:14.254336",
     "status": "completed"
    },
    "tags": []
   },
   "outputs": [
    {
     "data": {
      "text/markdown": [
       "- Cardano ($ADA) Surpasses Kusama in Total Value Locked on Decentralized Finance Applications.  The Cardano ($ADA) network has surpassed Kusama ($KSM), Polkadot’s canary network, in total value locked n its decentralized applications after seeing the value locked in its smart contracts swell by around $100 million this month. According to data from decentralized finance analytics platform DeFiLlama, first reported on by u.today, the Cardano network now holds around […] ... [| Skaityti daugiau](https://www.cryptoglobe.com/latest/2022/03/cardano-ada-surpasses-kusama-in-total-value-locked-on-decentralized-finance-applications/) "
      ],
      "text/plain": [
       "<IPython.core.display.Markdown object>"
      ]
     },
     "execution_count": 8,
     "metadata": {},
     "output_type": "execute_result"
    }
   ],
   "source": [
    "#hide_input\n",
    "#md('##### {}'.format(titleBTC)) \n",
    "md(\"- {}{} {}{} [| Skaityti daugiau]({}) \".format(ada['title'],'. ', ada['body'], ' ...', ada['url']))"
   ]
  },
  {
   "cell_type": "code",
   "execution_count": 9,
   "id": "specified-ordering",
   "metadata": {
    "execution": {
     "iopub.execute_input": "2022-03-17T02:20:14.311556Z",
     "iopub.status.busy": "2022-03-17T02:20:14.310876Z",
     "iopub.status.idle": "2022-03-17T02:20:14.314139Z",
     "shell.execute_reply": "2022-03-17T02:20:14.313551Z"
    },
    "papermill": {
     "duration": 0.022898,
     "end_time": "2022-03-17T02:20:14.314283",
     "exception": false,
     "start_time": "2022-03-17T02:20:14.291385",
     "status": "completed"
    },
    "tags": []
   },
   "outputs": [
    {
     "data": {
      "text/markdown": [
       "- Dogecoin ($DOGE) Whale Moves $29 Million for $0.11 in Fees as Crypto Market Recovers.  A Dogecoin ($DOGE) whale has moved a whopping $29.6 million worth of the meme-inspired cryptocurrency for a transaction fee of little over $0.11, as it cost the whale 1 DOGE. The funds were moved across a series of transactions but do not appear to have been sent to an exchange. According to data from a […] ... [| Skaityti daugiau](https://www.cryptoglobe.com/latest/2022/03/dogecoin-doge-whale-moves-29-million-for-0-11-in-fees-as-crypto-market-recovers/) "
      ],
      "text/plain": [
       "<IPython.core.display.Markdown object>"
      ]
     },
     "execution_count": 9,
     "metadata": {},
     "output_type": "execute_result"
    }
   ],
   "source": [
    "#hide_input\n",
    "#md('##### {}'.format(titleBTC)) \n",
    "md(\"- {}{} {}{} [| Skaityti daugiau]({}) \".format(exchange['title'],'. ', exchange['body'], ' ...', exchange['url']))"
   ]
  },
  {
   "cell_type": "code",
   "execution_count": null,
   "id": "tender-livestock",
   "metadata": {
    "papermill": {
     "duration": 0.014048,
     "end_time": "2022-03-17T02:20:14.342873",
     "exception": false,
     "start_time": "2022-03-17T02:20:14.328825",
     "status": "completed"
    },
    "tags": []
   },
   "outputs": [],
   "source": []
  },
  {
   "cell_type": "code",
   "execution_count": null,
   "id": "appreciated-diamond",
   "metadata": {
    "papermill": {
     "duration": 0.013962,
     "end_time": "2022-03-17T02:20:14.371413",
     "exception": false,
     "start_time": "2022-03-17T02:20:14.357451",
     "status": "completed"
    },
    "tags": []
   },
   "outputs": [],
   "source": []
  },
  {
   "cell_type": "code",
   "execution_count": null,
   "id": "romance-sweden",
   "metadata": {
    "papermill": {
     "duration": 0.014032,
     "end_time": "2022-03-17T02:20:14.400143",
     "exception": false,
     "start_time": "2022-03-17T02:20:14.386111",
     "status": "completed"
    },
    "tags": []
   },
   "outputs": [],
   "source": []
  },
  {
   "cell_type": "code",
   "execution_count": null,
   "id": "dietary-statistics",
   "metadata": {
    "papermill": {
     "duration": 0.013601,
     "end_time": "2022-03-17T02:20:14.428504",
     "exception": false,
     "start_time": "2022-03-17T02:20:14.414903",
     "status": "completed"
    },
    "tags": []
   },
   "outputs": [],
   "source": []
  }
 ],
 "metadata": {
  "kernelspec": {
   "display_name": "Python 3",
   "language": "python",
   "name": "python3"
  },
  "language_info": {
   "codemirror_mode": {
    "name": "ipython",
    "version": 3
   },
   "file_extension": ".py",
   "mimetype": "text/x-python",
   "name": "python",
   "nbconvert_exporter": "python",
   "pygments_lexer": "ipython3",
   "version": "3.6.15"
  },
  "papermill": {
   "default_parameters": {},
   "duration": 15.818936,
   "end_time": "2022-03-17T02:20:14.860116",
   "environment_variables": {},
   "exception": null,
   "input_path": "Market-News.ipynb",
   "output_path": "Market-News.ipynb",
   "parameters": {},
   "start_time": "2022-03-17T02:19:59.041180",
   "version": "2.2.2"
  }
 },
 "nbformat": 4,
 "nbformat_minor": 5
}