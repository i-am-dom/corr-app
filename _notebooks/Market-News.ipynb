{
 "cells": [
  {
   "cell_type": "markdown",
   "id": "short-greensboro",
   "metadata": {
    "papermill": {
     "duration": 0.012733,
     "end_time": "2021-12-07T02:06:48.032964",
     "exception": false,
     "start_time": "2021-12-07T02:06:48.020231",
     "status": "completed"
    },
    "tags": []
   },
   "source": [
    "# Kriptovaliutų naujienos"
   ]
  },
  {
   "cell_type": "code",
   "execution_count": 1,
   "id": "functioning-knowing",
   "metadata": {
    "execution": {
     "iopub.execute_input": "2021-12-07T02:06:48.061730Z",
     "iopub.status.busy": "2021-12-07T02:06:48.061156Z",
     "iopub.status.idle": "2021-12-07T02:06:49.307143Z",
     "shell.execute_reply": "2021-12-07T02:06:49.306664Z"
    },
    "papermill": {
     "duration": 1.264571,
     "end_time": "2021-12-07T02:06:49.307290",
     "exception": false,
     "start_time": "2021-12-07T02:06:48.042719",
     "status": "completed"
    },
    "tags": []
   },
   "outputs": [],
   "source": [
    "#hide_input\n",
    "import warnings\n",
    "warnings.filterwarnings('ignore')\n",
    "from scripts.read_data import read_api\n",
    "from scripts.read_data import read_news\n",
    "from scripts.read_data import read_covid\n",
    "import matplotlib.pyplot as plt \n",
    "from IPython.display import Markdown as md"
   ]
  },
  {
   "cell_type": "code",
   "execution_count": 2,
   "id": "shared-acceptance",
   "metadata": {
    "execution": {
     "iopub.execute_input": "2021-12-07T02:06:49.332503Z",
     "iopub.status.busy": "2021-12-07T02:06:49.331991Z",
     "iopub.status.idle": "2021-12-07T02:06:57.708201Z",
     "shell.execute_reply": "2021-12-07T02:06:57.707728Z"
    },
    "papermill": {
     "duration": 8.391685,
     "end_time": "2021-12-07T02:06:57.708330",
     "exception": false,
     "start_time": "2021-12-07T02:06:49.316645",
     "status": "completed"
    },
    "tags": []
   },
   "outputs": [],
   "source": [
    "#hide_input\n",
    "blockchain = read_news('blockchain') \n",
    "btc = read_news('btc') \n",
    "xrp = read_news('xrp') \n",
    "trx = read_news('trx') \n",
    "eth = read_news('eth')  \n",
    "ada = read_news('ada')\n",
    "exchange = read_news('exchange') "
   ]
  },
  {
   "cell_type": "code",
   "execution_count": 3,
   "id": "synthetic-notion",
   "metadata": {
    "execution": {
     "iopub.execute_input": "2021-12-07T02:06:57.733908Z",
     "iopub.status.busy": "2021-12-07T02:06:57.733360Z",
     "iopub.status.idle": "2021-12-07T02:06:57.735716Z",
     "shell.execute_reply": "2021-12-07T02:06:57.736117Z"
    },
    "papermill": {
     "duration": 0.018232,
     "end_time": "2021-12-07T02:06:57.736234",
     "exception": false,
     "start_time": "2021-12-07T02:06:57.718002",
     "status": "completed"
    },
    "tags": []
   },
   "outputs": [
    {
     "data": {
      "text/markdown": [
       "- Number Of Cardano Wallets Staking ADA Crosses 1 Million.  Cardano has now crossed the 1 million staking wallets milestone. The project has been one of the most promising in the space and has garnered a cult-like following since it debuted in 2017. The altcoin held the number one spot for the network with the highest amount of coins staked until recently when Solana took over that title. Nevertheless, it has held its own in the market. Breaking A New Record On Sunday, December 5th, crypto investor Jesse Blount took to Twitter to congratulate Charles Hoskinson, the founder of Cardano, on its latest milestone. In the tweet, Blount included a picture that showed that the number of delegators on the Cardano network had crossed one million. Congratulations, @IOHK_Charles! 1 million wallets staking. An incredible milestone! #Cardano #ada pic.twitter.com/RaeCczN0BI &#8212; Jesse Blount (@BlountJesse) December 5, 2021 Related Reading &#124; Cardano Ambassador Addresses FUD Surrounding The Project Staking on the network had ramped up following the release of smart contracts capabilities on the blockchain. Developers had finally been able to release DApps on the network and the projects which launched on the blockchain enjoyed tremendous success due to the anticipation. What followed was a rapid increase in the number of users that were staking their ADA on the network. Number of staking wallets on Cardano surpasses 1 million &#124; Source: Twitter The image posted by Blount showed that there w... ... [| Skaityti daugiau](https://www.newsbtc.com/news/cardano/number-of-cardano-wallets-staking-ada-crosses-1-million/) "
      ],
      "text/plain": [
       "<IPython.core.display.Markdown object>"
      ]
     },
     "execution_count": 3,
     "metadata": {},
     "output_type": "execute_result"
    }
   ],
   "source": [
    "#hide_input\n",
    "#md('##### {}'.format(titleBTC)) \n",
    "md(\"- {}{} {}{} [| Skaityti daugiau]({}) \".format(blockchain['title'],'. ', blockchain['body'], ' ...', blockchain['url']))"
   ]
  },
  {
   "cell_type": "code",
   "execution_count": 4,
   "id": "aging-caution",
   "metadata": {
    "execution": {
     "iopub.execute_input": "2021-12-07T02:06:57.759935Z",
     "iopub.status.busy": "2021-12-07T02:06:57.759346Z",
     "iopub.status.idle": "2021-12-07T02:06:57.762301Z",
     "shell.execute_reply": "2021-12-07T02:06:57.763014Z"
    },
    "papermill": {
     "duration": 0.017425,
     "end_time": "2021-12-07T02:06:57.763151",
     "exception": false,
     "start_time": "2021-12-07T02:06:57.745726",
     "status": "completed"
    },
    "tags": []
   },
   "outputs": [
    {
     "data": {
      "text/markdown": [
       "- A Comprehensive Bitcoin CoinJoin Guide.  Everything you need to know about utilizing CoinJoin in your bitcoin transactions. ... [| Skaityti daugiau](https://bitcoinmagazine.com/technical/a-comprehensive-bitcoin-coinjoin-guide) "
      ],
      "text/plain": [
       "<IPython.core.display.Markdown object>"
      ]
     },
     "execution_count": 4,
     "metadata": {},
     "output_type": "execute_result"
    }
   ],
   "source": [
    "#hide_input\n",
    "#md('##### {}'.format(titleBTC)) \n",
    "md(\"- {}{} {}{} [| Skaityti daugiau]({}) \".format(btc['title'],'. ', btc['body'], ' ...', btc['url']))"
   ]
  },
  {
   "cell_type": "code",
   "execution_count": 5,
   "id": "organic-actress",
   "metadata": {
    "execution": {
     "iopub.execute_input": "2021-12-07T02:06:57.787600Z",
     "iopub.status.busy": "2021-12-07T02:06:57.786878Z",
     "iopub.status.idle": "2021-12-07T02:06:57.790225Z",
     "shell.execute_reply": "2021-12-07T02:06:57.790692Z"
    },
    "papermill": {
     "duration": 0.017664,
     "end_time": "2021-12-07T02:06:57.790804",
     "exception": false,
     "start_time": "2021-12-07T02:06:57.773140",
     "status": "completed"
    },
    "tags": []
   },
   "outputs": [
    {
     "data": {
      "text/markdown": [
       "- Price analysis 12/6: BTC, ETH, BNB, SOL, ADA, XRP, DOT, DOGE, LUNA, AVAX.  Bitcoin and most major altcoins are attempting a recovery, but they are likely to face strong resistance at higher levels. ... [| Skaityti daugiau](https://cointelegraph.com/news/price-analysis-12-6-btc-eth-bnb-sol-ada-xrp-dot-doge-luna-avax) "
      ],
      "text/plain": [
       "<IPython.core.display.Markdown object>"
      ]
     },
     "execution_count": 5,
     "metadata": {},
     "output_type": "execute_result"
    }
   ],
   "source": [
    "#hide_input\n",
    "#md('##### {}'.format(titleBTC)) \n",
    "md(\"- {}{} {}{} [| Skaityti daugiau]({}) \".format(xrp['title'],'. ', xrp['body'], ' ...', xrp['url']))"
   ]
  },
  {
   "cell_type": "code",
   "execution_count": 6,
   "id": "prompt-farmer",
   "metadata": {
    "execution": {
     "iopub.execute_input": "2021-12-07T02:06:57.815330Z",
     "iopub.status.busy": "2021-12-07T02:06:57.814835Z",
     "iopub.status.idle": "2021-12-07T02:06:57.817431Z",
     "shell.execute_reply": "2021-12-07T02:06:57.817837Z"
    },
    "papermill": {
     "duration": 0.017091,
     "end_time": "2021-12-07T02:06:57.817952",
     "exception": false,
     "start_time": "2021-12-07T02:06:57.800861",
     "status": "completed"
    },
    "tags": []
   },
   "outputs": [
    {
     "data": {
      "text/markdown": [
       "- Bitcoin Cash, Tron, Terra Price Analysis: 03 December.  As the broader market entered into a possible recovery phase, Tron saw gains on its daily chart after bouncing from its two-month support level. Moreover, Terra&#8217;s LUNA saw 56.4% weekly ROI while it entered into price discovery and found its ATH on 3 December. On the flip side, Bitcoin Cash flashed bearish near-term technical indications. [&#8230;] ... [| Skaityti daugiau](https://ambcrypto.com/bitcoin-cash-tron-terra-price-analysis-03-december/) "
      ],
      "text/plain": [
       "<IPython.core.display.Markdown object>"
      ]
     },
     "execution_count": 6,
     "metadata": {},
     "output_type": "execute_result"
    }
   ],
   "source": [
    "#hide_input\n",
    "#md('##### {}'.format(titleBTC)) \n",
    "md(\"- {}{} {}{} [| Skaityti daugiau]({}) \".format(trx['title'],'. ', trx['body'], ' ...', trx['url']))"
   ]
  },
  {
   "cell_type": "code",
   "execution_count": 7,
   "id": "illegal-greece",
   "metadata": {
    "execution": {
     "iopub.execute_input": "2021-12-07T02:06:57.843113Z",
     "iopub.status.busy": "2021-12-07T02:06:57.842614Z",
     "iopub.status.idle": "2021-12-07T02:06:57.846531Z",
     "shell.execute_reply": "2021-12-07T02:06:57.846033Z"
    },
    "papermill": {
     "duration": 0.01801,
     "end_time": "2021-12-07T02:06:57.846628",
     "exception": false,
     "start_time": "2021-12-07T02:06:57.828618",
     "status": "completed"
    },
    "tags": []
   },
   "outputs": [
    {
     "data": {
      "text/markdown": [
       "- OpenSea IPO Hints Prompt Criticism From Crypto Users Expecting a Token.  The leading NFT marketplace plans to go public, drawing backlash from collectors who want an OpenSea token drop instead. ... [| Skaityti daugiau](https://decrypt.co/87701/opensea-ipo-criticism-crypto-ethereum-token) "
      ],
      "text/plain": [
       "<IPython.core.display.Markdown object>"
      ]
     },
     "execution_count": 7,
     "metadata": {},
     "output_type": "execute_result"
    }
   ],
   "source": [
    "#hide_input\n",
    "#md('##### {}'.format(titleBTC)) \n",
    "md(\"- {}{} {}{} [| Skaityti daugiau]({}) \".format(eth['title'],'. ', eth['body'], ' ...', eth['url']))"
   ]
  },
  {
   "cell_type": "code",
   "execution_count": 8,
   "id": "sublime-lounge",
   "metadata": {
    "execution": {
     "iopub.execute_input": "2021-12-07T02:06:57.871802Z",
     "iopub.status.busy": "2021-12-07T02:06:57.871307Z",
     "iopub.status.idle": "2021-12-07T02:06:57.874313Z",
     "shell.execute_reply": "2021-12-07T02:06:57.873913Z"
    },
    "papermill": {
     "duration": 0.017195,
     "end_time": "2021-12-07T02:06:57.874413",
     "exception": false,
     "start_time": "2021-12-07T02:06:57.857218",
     "status": "completed"
    },
    "tags": []
   },
   "outputs": [
    {
     "data": {
      "text/markdown": [
       "- ‘We Did It!’, Says Hoskinson, As Cardano Addresses Staking $ADA Surpass One Million.  The number of addresses on the Cardano network staking $ADA has grown to surpass the one million mark even amid a cryptocurrency market downturn that saw the space lose over $400 billion in market capitalization. According to Cardano-tracking website pool.pm, there are now just over one million wallets staking the cryptocurrency. As CryptoGlobe reported, the […] ... [| Skaityti daugiau](https://www.cryptoglobe.com/latest/2021/12/we-did-it-cardano-addresses-staking-ada-surpass-one-million/) "
      ],
      "text/plain": [
       "<IPython.core.display.Markdown object>"
      ]
     },
     "execution_count": 8,
     "metadata": {},
     "output_type": "execute_result"
    }
   ],
   "source": [
    "#hide_input\n",
    "#md('##### {}'.format(titleBTC)) \n",
    "md(\"- {}{} {}{} [| Skaityti daugiau]({}) \".format(ada['title'],'. ', ada['body'], ' ...', ada['url']))"
   ]
  },
  {
   "cell_type": "code",
   "execution_count": 9,
   "id": "specified-ordering",
   "metadata": {
    "execution": {
     "iopub.execute_input": "2021-12-07T02:06:57.900829Z",
     "iopub.status.busy": "2021-12-07T02:06:57.900332Z",
     "iopub.status.idle": "2021-12-07T02:06:57.903513Z",
     "shell.execute_reply": "2021-12-07T02:06:57.903117Z"
    },
    "papermill": {
     "duration": 0.018265,
     "end_time": "2021-12-07T02:06:57.903612",
     "exception": false,
     "start_time": "2021-12-07T02:06:57.885347",
     "status": "completed"
    },
    "tags": []
   },
   "outputs": [
    {
     "data": {
      "text/markdown": [
       "- Crypto Exchange Binance Is Making ‘Substantial Changes’ to Become ‘Fully Licensed and Fully Compliant’ in UK.  Cryptocurrency exchange Binance has unveiled its plan to become a &#x201C;fully licensed and fully compliant&#x201D; exchange in order to serve users in the U.K. The crypto exchange is reportedly &#x201C;making a number of very substantial changes&#x201D; in the way it operates in order to comply with the country&#x2019;s regulator, the Financial Conduct Authority (FCA). Binance [&#8230;] ... [| Skaityti daugiau](https://news.bitcoin.com/crypto-exchange-binance-substantial-changes-fully-licensed-fully-compliant-uk/) "
      ],
      "text/plain": [
       "<IPython.core.display.Markdown object>"
      ]
     },
     "execution_count": 9,
     "metadata": {},
     "output_type": "execute_result"
    }
   ],
   "source": [
    "#hide_input\n",
    "#md('##### {}'.format(titleBTC)) \n",
    "md(\"- {}{} {}{} [| Skaityti daugiau]({}) \".format(exchange['title'],'. ', exchange['body'], ' ...', exchange['url']))"
   ]
  },
  {
   "cell_type": "code",
   "execution_count": null,
   "id": "tender-livestock",
   "metadata": {
    "papermill": {
     "duration": 0.011194,
     "end_time": "2021-12-07T02:06:57.926140",
     "exception": false,
     "start_time": "2021-12-07T02:06:57.914946",
     "status": "completed"
    },
    "tags": []
   },
   "outputs": [],
   "source": []
  },
  {
   "cell_type": "code",
   "execution_count": null,
   "id": "appreciated-diamond",
   "metadata": {
    "papermill": {
     "duration": 0.011687,
     "end_time": "2021-12-07T02:06:57.949187",
     "exception": false,
     "start_time": "2021-12-07T02:06:57.937500",
     "status": "completed"
    },
    "tags": []
   },
   "outputs": [],
   "source": []
  },
  {
   "cell_type": "code",
   "execution_count": null,
   "id": "romance-sweden",
   "metadata": {
    "papermill": {
     "duration": 0.011168,
     "end_time": "2021-12-07T02:06:57.971649",
     "exception": false,
     "start_time": "2021-12-07T02:06:57.960481",
     "status": "completed"
    },
    "tags": []
   },
   "outputs": [],
   "source": []
  },
  {
   "cell_type": "code",
   "execution_count": null,
   "id": "dietary-statistics",
   "metadata": {
    "papermill": {
     "duration": 0.011176,
     "end_time": "2021-12-07T02:06:57.994039",
     "exception": false,
     "start_time": "2021-12-07T02:06:57.982863",
     "status": "completed"
    },
    "tags": []
   },
   "outputs": [],
   "source": []
  }
 ],
 "metadata": {
  "kernelspec": {
   "display_name": "Python 3",
   "language": "python",
   "name": "python3"
  },
  "language_info": {
   "codemirror_mode": {
    "name": "ipython",
    "version": 3
   },
   "file_extension": ".py",
   "mimetype": "text/x-python",
   "name": "python",
   "nbconvert_exporter": "python",
   "pygments_lexer": "ipython3",
   "version": "3.6.15"
  },
  "papermill": {
   "default_parameters": {},
   "duration": 11.317781,
   "end_time": "2021-12-07T02:06:58.412346",
   "environment_variables": {},
   "exception": null,
   "input_path": "Market-News.ipynb",
   "output_path": "Market-News.ipynb",
   "parameters": {},
   "start_time": "2021-12-07T02:06:47.094565",
   "version": "2.2.2"
  }
 },
 "nbformat": 4,
 "nbformat_minor": 5
}