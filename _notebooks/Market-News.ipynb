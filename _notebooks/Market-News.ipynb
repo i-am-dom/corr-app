{
 "cells": [
  {
   "cell_type": "markdown",
   "id": "short-greensboro",
   "metadata": {
    "papermill": {
     "duration": 0.013846,
     "end_time": "2022-06-19T03:15:08.970344",
     "exception": false,
     "start_time": "2022-06-19T03:15:08.956498",
     "status": "completed"
    },
    "tags": []
   },
   "source": [
    "# Kriptovaliutų naujienos"
   ]
  },
  {
   "cell_type": "code",
   "execution_count": 1,
   "id": "functioning-knowing",
   "metadata": {
    "execution": {
     "iopub.execute_input": "2022-06-19T03:15:09.000179Z",
     "iopub.status.busy": "2022-06-19T03:15:08.999540Z",
     "iopub.status.idle": "2022-06-19T03:15:10.270413Z",
     "shell.execute_reply": "2022-06-19T03:15:10.269869Z"
    },
    "papermill": {
     "duration": 1.290487,
     "end_time": "2022-06-19T03:15:10.270554",
     "exception": false,
     "start_time": "2022-06-19T03:15:08.980067",
     "status": "completed"
    },
    "tags": []
   },
   "outputs": [],
   "source": [
    "#hide_input\n",
    "import warnings\n",
    "warnings.filterwarnings('ignore')\n",
    "from scripts.read_data import read_api\n",
    "from scripts.read_data import read_news\n",
    "from scripts.read_data import read_covid\n",
    "import matplotlib.pyplot as plt \n",
    "from IPython.display import Markdown as md"
   ]
  },
  {
   "cell_type": "code",
   "execution_count": 2,
   "id": "shared-acceptance",
   "metadata": {
    "execution": {
     "iopub.execute_input": "2022-06-19T03:15:10.295462Z",
     "iopub.status.busy": "2022-06-19T03:15:10.294854Z",
     "iopub.status.idle": "2022-06-19T03:15:19.410047Z",
     "shell.execute_reply": "2022-06-19T03:15:19.409532Z"
    },
    "papermill": {
     "duration": 9.130431,
     "end_time": "2022-06-19T03:15:19.410168",
     "exception": false,
     "start_time": "2022-06-19T03:15:10.279737",
     "status": "completed"
    },
    "tags": []
   },
   "outputs": [],
   "source": [
    "#hide_input\n",
    "blockchain = read_news('blockchain') \n",
    "btc = read_news('btc') \n",
    "xrp = read_news('xrp') \n",
    "trx = read_news('trx') \n",
    "eth = read_news('eth')  \n",
    "ada = read_news('ada')\n",
    "exchange = read_news('exchange') "
   ]
  },
  {
   "cell_type": "code",
   "execution_count": 3,
   "id": "synthetic-notion",
   "metadata": {
    "execution": {
     "iopub.execute_input": "2022-06-19T03:15:19.434316Z",
     "iopub.status.busy": "2022-06-19T03:15:19.433735Z",
     "iopub.status.idle": "2022-06-19T03:15:19.439549Z",
     "shell.execute_reply": "2022-06-19T03:15:19.439082Z"
    },
    "papermill": {
     "duration": 0.020198,
     "end_time": "2022-06-19T03:15:19.439654",
     "exception": false,
     "start_time": "2022-06-19T03:15:19.419456",
     "status": "completed"
    },
    "tags": []
   },
   "outputs": [
    {
     "data": {
      "text/markdown": [
       "- Ukraine Joins European Blockchain Partnership (EBP) Despite Non-EU Country.  Yarmolenko said the relationship was a method to improve EU links. Zhmerenetsky said that the EU-wide blockchain alliance would help ... [| Skaityti daugiau](https://thenewscrypto.com/ukraine-joins-european-blockchain-partnership-ebp-despite-non-eu-country/) "
      ],
      "text/plain": [
       "<IPython.core.display.Markdown object>"
      ]
     },
     "execution_count": 3,
     "metadata": {},
     "output_type": "execute_result"
    }
   ],
   "source": [
    "#hide_input\n",
    "#md('##### {}'.format(titleBTC)) \n",
    "md(\"- {}{} {}{} [| Skaityti daugiau]({}) \".format(blockchain['title'],'. ', blockchain['body'], ' ...', blockchain['url']))"
   ]
  },
  {
   "cell_type": "code",
   "execution_count": 4,
   "id": "aging-caution",
   "metadata": {
    "execution": {
     "iopub.execute_input": "2022-06-19T03:15:19.462956Z",
     "iopub.status.busy": "2022-06-19T03:15:19.462353Z",
     "iopub.status.idle": "2022-06-19T03:15:19.465696Z",
     "shell.execute_reply": "2022-06-19T03:15:19.466139Z"
    },
    "papermill": {
     "duration": 0.017443,
     "end_time": "2022-06-19T03:15:19.466254",
     "exception": false,
     "start_time": "2022-06-19T03:15:19.448811",
     "status": "completed"
    },
    "tags": []
   },
   "outputs": [
    {
     "data": {
      "text/markdown": [
       "- Mad Money’s Jim Cramer Expects Bitcoin to Fall to $12,000.  The host of Mad Money, Jim Cramer, has predicted that bitcoin&#x2019;s price will fall to $12,000. Nonetheless, he has recommended bitcoin and ether for people wanting to invest in crypto. Jim Cramer&#x2019;s Bitcoin Price Prediction Jim Cramer, the host of Mad Money, talked about the future outlook for bitcoin on CNBC Friday. Cramer is a [&#8230;] ... [| Skaityti daugiau](https://news.bitcoin.com/mad-moneys-jim-cramer-expects-bitcoin-to-fall-to-12000/) "
      ],
      "text/plain": [
       "<IPython.core.display.Markdown object>"
      ]
     },
     "execution_count": 4,
     "metadata": {},
     "output_type": "execute_result"
    }
   ],
   "source": [
    "#hide_input\n",
    "#md('##### {}'.format(titleBTC)) \n",
    "md(\"- {}{} {}{} [| Skaityti daugiau]({}) \".format(btc['title'],'. ', btc['body'], ' ...', btc['url']))"
   ]
  },
  {
   "cell_type": "code",
   "execution_count": 5,
   "id": "organic-actress",
   "metadata": {
    "execution": {
     "iopub.execute_input": "2022-06-19T03:15:19.489568Z",
     "iopub.status.busy": "2022-06-19T03:15:19.488962Z",
     "iopub.status.idle": "2022-06-19T03:15:19.492517Z",
     "shell.execute_reply": "2022-06-19T03:15:19.492023Z"
    },
    "papermill": {
     "duration": 0.016981,
     "end_time": "2022-06-19T03:15:19.492620",
     "exception": false,
     "start_time": "2022-06-19T03:15:19.475639",
     "status": "completed"
    },
    "tags": []
   },
   "outputs": [
    {
     "data": {
      "text/markdown": [
       "- Bexplus Exchange Offers 100% Deposit Bonus For ADA, DOGE, BTC, ETH, USDT, XRP.  PRESS RELEASE: To help traders earn more cryptocurrency, leading crypto derivatives exchange Bexplus has&#160; launched a 100% deposit bonus promotion to all traders. If you deposit 1 BTC, 2 BTC will be credited to your account. Every user can get up to 10 BTC for each deposit. Traders now can deposit BTC, USDT, ETH, XRP, ADA, and DOGE and enjoy trading with 100x leverage.（Bexplus also cooperates with third-party purchasing cryptocurrency platforms, so if you don&#8217;t have cryptocurrency, it doesn&#8217;t matter, [&#8230;] ... [| Skaityti daugiau](https://en.ethereumworldnews.com/bexplus-exchange-offers-100-deposit-bonus-for-ada-doge-btc-eth-usdt-xrp/) "
      ],
      "text/plain": [
       "<IPython.core.display.Markdown object>"
      ]
     },
     "execution_count": 5,
     "metadata": {},
     "output_type": "execute_result"
    }
   ],
   "source": [
    "#hide_input\n",
    "#md('##### {}'.format(titleBTC)) \n",
    "md(\"- {}{} {}{} [| Skaityti daugiau]({}) \".format(xrp['title'],'. ', xrp['body'], ' ...', xrp['url']))"
   ]
  },
  {
   "cell_type": "code",
   "execution_count": 6,
   "id": "prompt-farmer",
   "metadata": {
    "execution": {
     "iopub.execute_input": "2022-06-19T03:15:19.516685Z",
     "iopub.status.busy": "2022-06-19T03:15:19.516101Z",
     "iopub.status.idle": "2022-06-19T03:15:19.519882Z",
     "shell.execute_reply": "2022-06-19T03:15:19.519423Z"
    },
    "papermill": {
     "duration": 0.017665,
     "end_time": "2022-06-19T03:15:19.519982",
     "exception": false,
     "start_time": "2022-06-19T03:15:19.502317",
     "status": "completed"
    },
    "tags": []
   },
   "outputs": [
    {
     "data": {
      "text/markdown": [
       "- Tron Price Analysis- Will EMA Death Crossover Bolster TRX Fall?.  Last week&#8217;s crypto crash took a significant toll on Tron&#8217;s (TRX) price and plunged it to a low of $0.047. This downfall registered a 45.5% loss in just two weeks but failed to sustain below $0.057 support. Furthermore, the altcoin has been trying to sustain above the $0.057 mark over the past three days, which The post Tron Price Analysis- Will EMA Death Crossover Bolster TRX Fall? appeared first on CoinGape. ... [| Skaityti daugiau](https://coingape.com/markets/tron-price-analysis-will-ema-death-crossover-bolster-trx-fall/) "
      ],
      "text/plain": [
       "<IPython.core.display.Markdown object>"
      ]
     },
     "execution_count": 6,
     "metadata": {},
     "output_type": "execute_result"
    }
   ],
   "source": [
    "#hide_input\n",
    "#md('##### {}'.format(titleBTC)) \n",
    "md(\"- {}{} {}{} [| Skaityti daugiau]({}) \".format(trx['title'],'. ', trx['body'], ' ...', trx['url']))"
   ]
  },
  {
   "cell_type": "code",
   "execution_count": 7,
   "id": "illegal-greece",
   "metadata": {
    "execution": {
     "iopub.execute_input": "2022-06-19T03:15:19.544487Z",
     "iopub.status.busy": "2022-06-19T03:15:19.543888Z",
     "iopub.status.idle": "2022-06-19T03:15:19.546984Z",
     "shell.execute_reply": "2022-06-19T03:15:19.547450Z"
    },
    "papermill": {
     "duration": 0.017414,
     "end_time": "2022-06-19T03:15:19.547559",
     "exception": false,
     "start_time": "2022-06-19T03:15:19.530145",
     "status": "completed"
    },
    "tags": []
   },
   "outputs": [
    {
     "data": {
      "text/markdown": [
       "- Exclusive: French Family Membership Reveals New Details That Will Be Much Larger Than BAYC and PROOF Collective.  After French Montana announced the release of an exclusive NFT collection &#8211; the “French Family”, NullTx sought out more information and uncovered details that will make the collection much bigger than BAYC or any collection of NFTs currently existing on Ethereum, Polygon, Solana, or any blockchains. NullTx reached out to the project&#8217;s developer team and [&#8230;]The post Exclusive: French Family Membership Reveals New Details That Will Be Much Larger Than BAYC and PROOF Collective appeared first on NullTX. ... [| Skaityti daugiau](https://nulltx.com/exclusive-french-family-membership-reveals-new-details-that-will-be-much-larger-than-bayc-and-proof-collective/) "
      ],
      "text/plain": [
       "<IPython.core.display.Markdown object>"
      ]
     },
     "execution_count": 7,
     "metadata": {},
     "output_type": "execute_result"
    }
   ],
   "source": [
    "#hide_input\n",
    "#md('##### {}'.format(titleBTC)) \n",
    "md(\"- {}{} {}{} [| Skaityti daugiau]({}) \".format(eth['title'],'. ', eth['body'], ' ...', eth['url']))"
   ]
  },
  {
   "cell_type": "code",
   "execution_count": 8,
   "id": "sublime-lounge",
   "metadata": {
    "execution": {
     "iopub.execute_input": "2022-06-19T03:15:19.573284Z",
     "iopub.status.busy": "2022-06-19T03:15:19.572462Z",
     "iopub.status.idle": "2022-06-19T03:15:19.576662Z",
     "shell.execute_reply": "2022-06-19T03:15:19.576070Z"
    },
    "papermill": {
     "duration": 0.017777,
     "end_time": "2022-06-19T03:15:19.576764",
     "exception": false,
     "start_time": "2022-06-19T03:15:19.558987",
     "status": "completed"
    },
    "tags": []
   },
   "outputs": [
    {
     "data": {
      "text/markdown": [
       "- Cardano (ADA) Blockchain Inches Closer to Mithril Update: Why is This Crucial?.  Cryptocurrency researcher Hans Schmiedel, operator of Seaside Staking service for ADA holders, explains benefits of Mithril mechanism ... [| Skaityti daugiau](https://u.today/cardano-ada-blockchain-inches-closer-to-mithril-update-why-is-this-crucial) "
      ],
      "text/plain": [
       "<IPython.core.display.Markdown object>"
      ]
     },
     "execution_count": 8,
     "metadata": {},
     "output_type": "execute_result"
    }
   ],
   "source": [
    "#hide_input\n",
    "#md('##### {}'.format(titleBTC)) \n",
    "md(\"- {}{} {}{} [| Skaityti daugiau]({}) \".format(ada['title'],'. ', ada['body'], ' ...', ada['url']))"
   ]
  },
  {
   "cell_type": "code",
   "execution_count": 9,
   "id": "specified-ordering",
   "metadata": {
    "execution": {
     "iopub.execute_input": "2022-06-19T03:15:19.603070Z",
     "iopub.status.busy": "2022-06-19T03:15:19.602375Z",
     "iopub.status.idle": "2022-06-19T03:15:19.605597Z",
     "shell.execute_reply": "2022-06-19T03:15:19.606044Z"
    },
    "papermill": {
     "duration": 0.018748,
     "end_time": "2022-06-19T03:15:19.606161",
     "exception": false,
     "start_time": "2022-06-19T03:15:19.587413",
     "status": "completed"
    },
    "tags": []
   },
   "outputs": [
    {
     "data": {
      "text/markdown": [
       "- Switzerland’s SIX Digital Exchange Postpones Crypto Services Launch Amid Market Sell-off (Report).  Switzerland’s principal stock exchange, SIX Swiss Exchange, postponed the launch of its institutional crypto services following the market crisis. ... [| Skaityti daugiau](https://cryptopotato.com/switzerlands-six-digital-exchange-postpones-crypto-services-launch-amid-market-sell-off-report/) "
      ],
      "text/plain": [
       "<IPython.core.display.Markdown object>"
      ]
     },
     "execution_count": 9,
     "metadata": {},
     "output_type": "execute_result"
    }
   ],
   "source": [
    "#hide_input\n",
    "#md('##### {}'.format(titleBTC)) \n",
    "md(\"- {}{} {}{} [| Skaityti daugiau]({}) \".format(exchange['title'],'. ', exchange['body'], ' ...', exchange['url']))"
   ]
  },
  {
   "cell_type": "code",
   "execution_count": null,
   "id": "tender-livestock",
   "metadata": {
    "papermill": {
     "duration": 0.011116,
     "end_time": "2022-06-19T03:15:19.628310",
     "exception": false,
     "start_time": "2022-06-19T03:15:19.617194",
     "status": "completed"
    },
    "tags": []
   },
   "outputs": [],
   "source": []
  },
  {
   "cell_type": "code",
   "execution_count": null,
   "id": "appreciated-diamond",
   "metadata": {
    "papermill": {
     "duration": 0.011065,
     "end_time": "2022-06-19T03:15:19.650515",
     "exception": false,
     "start_time": "2022-06-19T03:15:19.639450",
     "status": "completed"
    },
    "tags": []
   },
   "outputs": [],
   "source": []
  },
  {
   "cell_type": "code",
   "execution_count": null,
   "id": "romance-sweden",
   "metadata": {
    "papermill": {
     "duration": 0.011,
     "end_time": "2022-06-19T03:15:19.672621",
     "exception": false,
     "start_time": "2022-06-19T03:15:19.661621",
     "status": "completed"
    },
    "tags": []
   },
   "outputs": [],
   "source": []
  },
  {
   "cell_type": "code",
   "execution_count": null,
   "id": "dietary-statistics",
   "metadata": {
    "papermill": {
     "duration": 0.010975,
     "end_time": "2022-06-19T03:15:19.694679",
     "exception": false,
     "start_time": "2022-06-19T03:15:19.683704",
     "status": "completed"
    },
    "tags": []
   },
   "outputs": [],
   "source": []
  }
 ],
 "metadata": {
  "kernelspec": {
   "display_name": "Python 3",
   "language": "python",
   "name": "python3"
  },
  "language_info": {
   "codemirror_mode": {
    "name": "ipython",
    "version": 3
   },
   "file_extension": ".py",
   "mimetype": "text/x-python",
   "name": "python",
   "nbconvert_exporter": "python",
   "pygments_lexer": "ipython3",
   "version": "3.6.15"
  },
  "papermill": {
   "default_parameters": {},
   "duration": 12.403671,
   "end_time": "2022-06-19T03:15:20.124390",
   "environment_variables": {},
   "exception": null,
   "input_path": "Market-News.ipynb",
   "output_path": "Market-News.ipynb",
   "parameters": {},
   "start_time": "2022-06-19T03:15:07.720719",
   "version": "2.2.2"
  }
 },
 "nbformat": 4,
 "nbformat_minor": 5
}