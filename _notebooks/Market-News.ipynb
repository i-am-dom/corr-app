{
 "cells": [
  {
   "cell_type": "markdown",
   "id": "short-greensboro",
   "metadata": {
    "papermill": {
     "duration": 0.015875,
     "end_time": "2022-03-10T02:24:53.530750",
     "exception": false,
     "start_time": "2022-03-10T02:24:53.514875",
     "status": "completed"
    },
    "tags": []
   },
   "source": [
    "# Kriptovaliutų naujienos"
   ]
  },
  {
   "cell_type": "code",
   "execution_count": 1,
   "id": "functioning-knowing",
   "metadata": {
    "execution": {
     "iopub.execute_input": "2022-03-10T02:24:53.567350Z",
     "iopub.status.busy": "2022-03-10T02:24:53.566633Z",
     "iopub.status.idle": "2022-03-10T02:24:55.214218Z",
     "shell.execute_reply": "2022-03-10T02:24:55.213528Z"
    },
    "papermill": {
     "duration": 1.670451,
     "end_time": "2022-03-10T02:24:55.214376",
     "exception": false,
     "start_time": "2022-03-10T02:24:53.543925",
     "status": "completed"
    },
    "tags": []
   },
   "outputs": [],
   "source": [
    "#hide_input\n",
    "import warnings\n",
    "warnings.filterwarnings('ignore')\n",
    "from scripts.read_data import read_api\n",
    "from scripts.read_data import read_news\n",
    "from scripts.read_data import read_covid\n",
    "import matplotlib.pyplot as plt \n",
    "from IPython.display import Markdown as md"
   ]
  },
  {
   "cell_type": "code",
   "execution_count": 2,
   "id": "shared-acceptance",
   "metadata": {
    "execution": {
     "iopub.execute_input": "2022-03-10T02:24:55.245474Z",
     "iopub.status.busy": "2022-03-10T02:24:55.244360Z",
     "iopub.status.idle": "2022-03-10T02:25:04.509831Z",
     "shell.execute_reply": "2022-03-10T02:25:04.510358Z"
    },
    "papermill": {
     "duration": 9.2843,
     "end_time": "2022-03-10T02:25:04.510576",
     "exception": false,
     "start_time": "2022-03-10T02:24:55.226276",
     "status": "completed"
    },
    "tags": []
   },
   "outputs": [],
   "source": [
    "#hide_input\n",
    "blockchain = read_news('blockchain') \n",
    "btc = read_news('btc') \n",
    "xrp = read_news('xrp') \n",
    "trx = read_news('trx') \n",
    "eth = read_news('eth')  \n",
    "ada = read_news('ada')\n",
    "exchange = read_news('exchange') "
   ]
  },
  {
   "cell_type": "code",
   "execution_count": 3,
   "id": "synthetic-notion",
   "metadata": {
    "execution": {
     "iopub.execute_input": "2022-03-10T02:25:04.543121Z",
     "iopub.status.busy": "2022-03-10T02:25:04.541902Z",
     "iopub.status.idle": "2022-03-10T02:25:04.547241Z",
     "shell.execute_reply": "2022-03-10T02:25:04.548381Z"
    },
    "papermill": {
     "duration": 0.025566,
     "end_time": "2022-03-10T02:25:04.548590",
     "exception": false,
     "start_time": "2022-03-10T02:25:04.523024",
     "status": "completed"
    },
    "tags": []
   },
   "outputs": [
    {
     "data": {
      "text/markdown": [
       "- Ethereum finds resistance at $2.8K, downtrend continues for ETH.  Ethereum price analysis for March 10, 2022, comes riding a bullish prediction for the token but it is important to note that the short-term analysis for the token shows that the situation is very risky to trade. As the market remains in fear of a world war and inflation, the chances of ETH reaching new [&#8230;]The post Ethereum finds resistance at $2.8K, downtrend continues for ETH appeared first on Blockchain, Crypto and Stock News. ... [| Skaityti daugiau](https://thecoinrise.com/ethereum-finds-resistance-at-2-8k-downtrend-continues-for-eth/) "
      ],
      "text/plain": [
       "<IPython.core.display.Markdown object>"
      ]
     },
     "execution_count": 3,
     "metadata": {},
     "output_type": "execute_result"
    }
   ],
   "source": [
    "#hide_input\n",
    "#md('##### {}'.format(titleBTC)) \n",
    "md(\"- {}{} {}{} [| Skaityti daugiau]({}) \".format(blockchain['title'],'. ', blockchain['body'], ' ...', blockchain['url']))"
   ]
  },
  {
   "cell_type": "code",
   "execution_count": 4,
   "id": "aging-caution",
   "metadata": {
    "execution": {
     "iopub.execute_input": "2022-03-10T02:25:04.582101Z",
     "iopub.status.busy": "2022-03-10T02:25:04.581427Z",
     "iopub.status.idle": "2022-03-10T02:25:04.584437Z",
     "shell.execute_reply": "2022-03-10T02:25:04.584925Z"
    },
    "papermill": {
     "duration": 0.021762,
     "end_time": "2022-03-10T02:25:04.585067",
     "exception": false,
     "start_time": "2022-03-10T02:25:04.563305",
     "status": "completed"
    },
    "tags": []
   },
   "outputs": [
    {
     "data": {
      "text/markdown": [
       "- Ukraine Has Received $108 Million In Crypto Donations Following Kraken And BAYC Donations.  On Wednesday, tracked total crypto donations to the government of Ukraine wallet addresses, charities, and humanitarian initiatives had topped $108 million. The official Bitcoin (BTC) and Ethereum (ETH) wallet addresses of the Ukrainian government, as well as a BTC donations address for Come Back Alive, are the top three beneficiaries of such cash. Tracked Donations [&#8230;] ... [| Skaityti daugiau](https://bitcoinist.com/ukraine-has-received-108-million-in-crypto-donation/) "
      ],
      "text/plain": [
       "<IPython.core.display.Markdown object>"
      ]
     },
     "execution_count": 4,
     "metadata": {},
     "output_type": "execute_result"
    }
   ],
   "source": [
    "#hide_input\n",
    "#md('##### {}'.format(titleBTC)) \n",
    "md(\"- {}{} {}{} [| Skaityti daugiau]({}) \".format(btc['title'],'. ', btc['body'], ' ...', btc['url']))"
   ]
  },
  {
   "cell_type": "code",
   "execution_count": 5,
   "id": "organic-actress",
   "metadata": {
    "execution": {
     "iopub.execute_input": "2022-03-10T02:25:04.615536Z",
     "iopub.status.busy": "2022-03-10T02:25:04.614882Z",
     "iopub.status.idle": "2022-03-10T02:25:04.619796Z",
     "shell.execute_reply": "2022-03-10T02:25:04.620467Z"
    },
    "papermill": {
     "duration": 0.023455,
     "end_time": "2022-03-10T02:25:04.620619",
     "exception": false,
     "start_time": "2022-03-10T02:25:04.597164",
     "status": "completed"
    },
    "tags": []
   },
   "outputs": [
    {
     "data": {
      "text/markdown": [
       "- Ripple’s $XRP Lawsuit: SEC Commissioner Reportedly Believes Regulator Won’t Get Outcome It Wants.  U.S. Securities and Exchange (SEC) Commissioner Hester Pierce reportedly believes that the regulator will not get the outcome it’s looking for in its lawsuit against Ripple over the $XRP token. The SEC’s lawsuit against Ripple and two of its executives alleges they “raised over $1.3 billion through an unregistered, ongoing digital asset securities offering.” It negatively […] ... [| Skaityti daugiau](https://www.cryptoglobe.com/latest/2022/03/ripples-xrp-lawsuit-sec-commissioner-reportedly-believes-regulator-wont-get-outcome-it-wants/) "
      ],
      "text/plain": [
       "<IPython.core.display.Markdown object>"
      ]
     },
     "execution_count": 5,
     "metadata": {},
     "output_type": "execute_result"
    }
   ],
   "source": [
    "#hide_input\n",
    "#md('##### {}'.format(titleBTC)) \n",
    "md(\"- {}{} {}{} [| Skaityti daugiau]({}) \".format(xrp['title'],'. ', xrp['body'], ' ...', xrp['url']))"
   ]
  },
  {
   "cell_type": "code",
   "execution_count": 6,
   "id": "prompt-farmer",
   "metadata": {
    "execution": {
     "iopub.execute_input": "2022-03-10T02:25:04.653515Z",
     "iopub.status.busy": "2022-03-10T02:25:04.652865Z",
     "iopub.status.idle": "2022-03-10T02:25:04.656480Z",
     "shell.execute_reply": "2022-03-10T02:25:04.657110Z"
    },
    "papermill": {
     "duration": 0.023443,
     "end_time": "2022-03-10T02:25:04.657275",
     "exception": false,
     "start_time": "2022-03-10T02:25:04.633832",
     "status": "completed"
    },
    "tags": []
   },
   "outputs": [
    {
     "data": {
      "text/markdown": [
       "- Tron Founder Justin Sun Rebuts Bombshell Accusations About Poloniex.  Tron founder and Poloniex investor Justin Sun referred to the allegations made by The Verge as \"fabricated storytelling.\" ... [| Skaityti daugiau](https://decrypt.co/94759/tron-founder-justin-sun-rebuts-bombshell-accusations-about-poloniex) "
      ],
      "text/plain": [
       "<IPython.core.display.Markdown object>"
      ]
     },
     "execution_count": 6,
     "metadata": {},
     "output_type": "execute_result"
    }
   ],
   "source": [
    "#hide_input\n",
    "#md('##### {}'.format(titleBTC)) \n",
    "md(\"- {}{} {}{} [| Skaityti daugiau]({}) \".format(trx['title'],'. ', trx['body'], ' ...', trx['url']))"
   ]
  },
  {
   "cell_type": "code",
   "execution_count": 7,
   "id": "illegal-greece",
   "metadata": {
    "execution": {
     "iopub.execute_input": "2022-03-10T02:25:04.689128Z",
     "iopub.status.busy": "2022-03-10T02:25:04.688430Z",
     "iopub.status.idle": "2022-03-10T02:25:04.691633Z",
     "shell.execute_reply": "2022-03-10T02:25:04.692193Z"
    },
    "papermill": {
     "duration": 0.02187,
     "end_time": "2022-03-10T02:25:04.692363",
     "exception": false,
     "start_time": "2022-03-10T02:25:04.670493",
     "status": "completed"
    },
    "tags": []
   },
   "outputs": [
    {
     "data": {
      "text/markdown": [
       "- Ukraine Has Received $108 Million In Crypto Donations Following Kraken And BAYC Donations.  On Wednesday, tracked total crypto donations to the government of Ukraine wallet addresses, charities, and humanitarian initiatives had topped $108 million. The official Bitcoin (BTC) and Ethereum (ETH) wallet addresses of the Ukrainian government, as well as a BTC donations address for Come Back Alive, are the top three beneficiaries of such cash. Tracked Donations [&#8230;] ... [| Skaityti daugiau](https://bitcoinist.com/ukraine-has-received-108-million-in-crypto-donation/) "
      ],
      "text/plain": [
       "<IPython.core.display.Markdown object>"
      ]
     },
     "execution_count": 7,
     "metadata": {},
     "output_type": "execute_result"
    }
   ],
   "source": [
    "#hide_input\n",
    "#md('##### {}'.format(titleBTC)) \n",
    "md(\"- {}{} {}{} [| Skaityti daugiau]({}) \".format(eth['title'],'. ', eth['body'], ' ...', eth['url']))"
   ]
  },
  {
   "cell_type": "code",
   "execution_count": 8,
   "id": "sublime-lounge",
   "metadata": {
    "execution": {
     "iopub.execute_input": "2022-03-10T02:25:04.725515Z",
     "iopub.status.busy": "2022-03-10T02:25:04.724882Z",
     "iopub.status.idle": "2022-03-10T02:25:04.728076Z",
     "shell.execute_reply": "2022-03-10T02:25:04.728615Z"
    },
    "papermill": {
     "duration": 0.022627,
     "end_time": "2022-03-10T02:25:04.728766",
     "exception": false,
     "start_time": "2022-03-10T02:25:04.706139",
     "status": "completed"
    },
    "tags": []
   },
   "outputs": [
    {
     "data": {
      "text/markdown": [
       "- Number of Long-Term Cardano ($ADA) Holders Grew 32% in February: CryptoCompare Report.  The number of addresses holding Cardano ($ADA) for the long-term has grown by 32.1% last month to 408,000, after growing by 10.9% in January and 5.78% in December, suggesting HODLers keep on accumulating the cryptocurrency. According to CryptoCompare’s latest Asset Report, the number of addresses holding ADA grew 5.9% to a new all-time high in […] ... [| Skaityti daugiau](https://www.cryptoglobe.com/latest/2022/03/number-of-long-term-cardano-ada-holders-grew-32-in-february-cryptocompare-report/) "
      ],
      "text/plain": [
       "<IPython.core.display.Markdown object>"
      ]
     },
     "execution_count": 8,
     "metadata": {},
     "output_type": "execute_result"
    }
   ],
   "source": [
    "#hide_input\n",
    "#md('##### {}'.format(titleBTC)) \n",
    "md(\"- {}{} {}{} [| Skaityti daugiau]({}) \".format(ada['title'],'. ', ada['body'], ' ...', ada['url']))"
   ]
  },
  {
   "cell_type": "code",
   "execution_count": 9,
   "id": "specified-ordering",
   "metadata": {
    "execution": {
     "iopub.execute_input": "2022-03-10T02:25:04.761869Z",
     "iopub.status.busy": "2022-03-10T02:25:04.761003Z",
     "iopub.status.idle": "2022-03-10T02:25:04.764527Z",
     "shell.execute_reply": "2022-03-10T02:25:04.765282Z"
    },
    "papermill": {
     "duration": 0.022817,
     "end_time": "2022-03-10T02:25:04.765451",
     "exception": false,
     "start_time": "2022-03-10T02:25:04.742634",
     "status": "completed"
    },
    "tags": []
   },
   "outputs": [
    {
     "data": {
      "text/markdown": [
       "- Binance unveils plans for world domination by buying up companies in every sector.  In the wake of increasing regulatory scrutiny, Binance has sought to diversify its revenue streams and increase crypto adoption further by acquiring traditional companies in “each economic sector”.  ... [| Skaityti daugiau](https://cointelegraph.com/news/binance-unveils-plans-for-world-domination-by-buying-up-companies-in-every-sector) "
      ],
      "text/plain": [
       "<IPython.core.display.Markdown object>"
      ]
     },
     "execution_count": 9,
     "metadata": {},
     "output_type": "execute_result"
    }
   ],
   "source": [
    "#hide_input\n",
    "#md('##### {}'.format(titleBTC)) \n",
    "md(\"- {}{} {}{} [| Skaityti daugiau]({}) \".format(exchange['title'],'. ', exchange['body'], ' ...', exchange['url']))"
   ]
  },
  {
   "cell_type": "code",
   "execution_count": null,
   "id": "tender-livestock",
   "metadata": {
    "papermill": {
     "duration": 0.013949,
     "end_time": "2022-03-10T02:25:04.792994",
     "exception": false,
     "start_time": "2022-03-10T02:25:04.779045",
     "status": "completed"
    },
    "tags": []
   },
   "outputs": [],
   "source": []
  },
  {
   "cell_type": "code",
   "execution_count": null,
   "id": "appreciated-diamond",
   "metadata": {
    "papermill": {
     "duration": 0.014555,
     "end_time": "2022-03-10T02:25:04.822782",
     "exception": false,
     "start_time": "2022-03-10T02:25:04.808227",
     "status": "completed"
    },
    "tags": []
   },
   "outputs": [],
   "source": []
  },
  {
   "cell_type": "code",
   "execution_count": null,
   "id": "romance-sweden",
   "metadata": {
    "papermill": {
     "duration": 0.013752,
     "end_time": "2022-03-10T02:25:04.851198",
     "exception": false,
     "start_time": "2022-03-10T02:25:04.837446",
     "status": "completed"
    },
    "tags": []
   },
   "outputs": [],
   "source": []
  },
  {
   "cell_type": "code",
   "execution_count": null,
   "id": "dietary-statistics",
   "metadata": {
    "papermill": {
     "duration": 0.013361,
     "end_time": "2022-03-10T02:25:04.878917",
     "exception": false,
     "start_time": "2022-03-10T02:25:04.865556",
     "status": "completed"
    },
    "tags": []
   },
   "outputs": [],
   "source": []
  }
 ],
 "metadata": {
  "kernelspec": {
   "display_name": "Python 3",
   "language": "python",
   "name": "python3"
  },
  "language_info": {
   "codemirror_mode": {
    "name": "ipython",
    "version": 3
   },
   "file_extension": ".py",
   "mimetype": "text/x-python",
   "name": "python",
   "nbconvert_exporter": "python",
   "pygments_lexer": "ipython3",
   "version": "3.6.15"
  },
  "papermill": {
   "default_parameters": {},
   "duration": 13.207164,
   "end_time": "2022-03-10T02:25:05.412409",
   "environment_variables": {},
   "exception": null,
   "input_path": "Market-News.ipynb",
   "output_path": "Market-News.ipynb",
   "parameters": {},
   "start_time": "2022-03-10T02:24:52.205245",
   "version": "2.2.2"
  }
 },
 "nbformat": 4,
 "nbformat_minor": 5
}