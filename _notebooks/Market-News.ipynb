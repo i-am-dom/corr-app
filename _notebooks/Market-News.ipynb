{
 "cells": [
  {
   "cell_type": "markdown",
   "id": "short-greensboro",
   "metadata": {
    "papermill": {
     "duration": 0.013355,
     "end_time": "2022-09-13T03:49:13.414694",
     "exception": false,
     "start_time": "2022-09-13T03:49:13.401339",
     "status": "completed"
    },
    "tags": []
   },
   "source": [
    "# Kriptovaliutų naujienos"
   ]
  },
  {
   "cell_type": "code",
   "execution_count": 1,
   "id": "functioning-knowing",
   "metadata": {
    "execution": {
     "iopub.execute_input": "2022-09-13T03:49:13.444750Z",
     "iopub.status.busy": "2022-09-13T03:49:13.444097Z",
     "iopub.status.idle": "2022-09-13T03:49:14.731401Z",
     "shell.execute_reply": "2022-09-13T03:49:14.730328Z"
    },
    "papermill": {
     "duration": 1.307142,
     "end_time": "2022-09-13T03:49:14.731599",
     "exception": false,
     "start_time": "2022-09-13T03:49:13.424457",
     "status": "completed"
    },
    "tags": []
   },
   "outputs": [],
   "source": [
    "#hide_input\n",
    "import warnings\n",
    "warnings.filterwarnings('ignore')\n",
    "from scripts.read_data import read_api\n",
    "from scripts.read_data import read_news\n",
    "from scripts.read_data import read_covid\n",
    "import matplotlib.pyplot as plt \n",
    "from IPython.display import Markdown as md"
   ]
  },
  {
   "cell_type": "code",
   "execution_count": 2,
   "id": "shared-acceptance",
   "metadata": {
    "execution": {
     "iopub.execute_input": "2022-09-13T03:49:14.757106Z",
     "iopub.status.busy": "2022-09-13T03:49:14.756461Z",
     "iopub.status.idle": "2022-09-13T03:49:27.592615Z",
     "shell.execute_reply": "2022-09-13T03:49:27.591677Z"
    },
    "papermill": {
     "duration": 12.851593,
     "end_time": "2022-09-13T03:49:27.592761",
     "exception": false,
     "start_time": "2022-09-13T03:49:14.741168",
     "status": "completed"
    },
    "tags": []
   },
   "outputs": [],
   "source": [
    "#hide_input\n",
    "blockchain = read_news('blockchain') \n",
    "btc = read_news('btc') \n",
    "xrp = read_news('xrp') \n",
    "trx = read_news('trx') \n",
    "eth = read_news('eth')  \n",
    "ada = read_news('ada')\n",
    "exchange = read_news('exchange') "
   ]
  },
  {
   "cell_type": "code",
   "execution_count": 3,
   "id": "synthetic-notion",
   "metadata": {
    "execution": {
     "iopub.execute_input": "2022-09-13T03:49:27.617950Z",
     "iopub.status.busy": "2022-09-13T03:49:27.617343Z",
     "iopub.status.idle": "2022-09-13T03:49:27.621967Z",
     "shell.execute_reply": "2022-09-13T03:49:27.622393Z"
    },
    "papermill": {
     "duration": 0.020392,
     "end_time": "2022-09-13T03:49:27.622535",
     "exception": false,
     "start_time": "2022-09-13T03:49:27.602143",
     "status": "completed"
    },
    "tags": []
   },
   "outputs": [
    {
     "data": {
      "text/markdown": [
       "- Ubisoft cools off on NFTs and blockchain, says it's in 'research mode'.  Ubisoft CEO Yves Guillemot appears to be walking back some of the company's enthusiasm for NFTs, months after receiving strong pushback for its NFT project Quartz.  ... [| Skaityti daugiau](https://cointelegraph.com/news/ubisoft-cools-off-on-nfts-and-blockchain-says-it-s-in-research-mode) "
      ],
      "text/plain": [
       "<IPython.core.display.Markdown object>"
      ]
     },
     "execution_count": 3,
     "metadata": {},
     "output_type": "execute_result"
    }
   ],
   "source": [
    "#hide_input\n",
    "#md('##### {}'.format(titleBTC)) \n",
    "md(\"- {}{} {}{} [| Skaityti daugiau]({}) \".format(blockchain['title'],'. ', blockchain['body'], ' ...', blockchain['url']))"
   ]
  },
  {
   "cell_type": "code",
   "execution_count": 4,
   "id": "aging-caution",
   "metadata": {
    "execution": {
     "iopub.execute_input": "2022-09-13T03:49:27.647861Z",
     "iopub.status.busy": "2022-09-13T03:49:27.647226Z",
     "iopub.status.idle": "2022-09-13T03:49:27.650146Z",
     "shell.execute_reply": "2022-09-13T03:49:27.650589Z"
    },
    "papermill": {
     "duration": 0.018789,
     "end_time": "2022-09-13T03:49:27.650718",
     "exception": false,
     "start_time": "2022-09-13T03:49:27.631929",
     "status": "completed"
    },
    "tags": []
   },
   "outputs": [
    {
     "data": {
      "text/markdown": [
       "- Bitcoin halving 2023 and everything latest you need to know.  Bitcoin has come into the limelight again. This, after it registered promising gains over the last week. Its price increased by more than 12%. In the midst of the hype surrounding the next bull run, an intriguing piece of information about Bitcoin halving surfaced. The fourth BTC halving, which was initially scheduled to happen in [&#8230;] ... [| Skaityti daugiau](https://ambcrypto.com/bitcoin-halving-2023-and-everything-latest-you-need-to-know/) "
      ],
      "text/plain": [
       "<IPython.core.display.Markdown object>"
      ]
     },
     "execution_count": 4,
     "metadata": {},
     "output_type": "execute_result"
    }
   ],
   "source": [
    "#hide_input\n",
    "#md('##### {}'.format(titleBTC)) \n",
    "md(\"- {}{} {}{} [| Skaityti daugiau]({}) \".format(btc['title'],'. ', btc['body'], ' ...', btc['url']))"
   ]
  },
  {
   "cell_type": "code",
   "execution_count": 5,
   "id": "organic-actress",
   "metadata": {
    "execution": {
     "iopub.execute_input": "2022-09-13T03:49:27.675638Z",
     "iopub.status.busy": "2022-09-13T03:49:27.673575Z",
     "iopub.status.idle": "2022-09-13T03:49:27.677953Z",
     "shell.execute_reply": "2022-09-13T03:49:27.678405Z"
    },
    "papermill": {
     "duration": 0.018152,
     "end_time": "2022-09-13T03:49:27.678528",
     "exception": false,
     "start_time": "2022-09-13T03:49:27.660376",
     "status": "completed"
    },
    "tags": []
   },
   "outputs": [
    {
     "data": {
      "text/markdown": [
       "- Bitcoin Holds Strong While Ethereum Dips, RVN Jumps.  Bitcoin price gained pace and settled above the USD 22,000 pivot level. BTC is currently (04:00 UTC) showing positive signs and eyeing more upsides. If there is a correction, the bulls might appear near USD 21,500. Besides, most major altcoins are slowly moving lower. ETH declined a few points and struggled to stay above USD 1,700. XRP is consolidating above the USD 0.35 level. ADA declined below the USD 0.50 support....Read More: Bitcoin Holds Strong While Ethereum Dips, RVN Jumps ... [| Skaityti daugiau](https://cryptonews.com/news/bitcoin-holds-strong-while-ethereum-dips-rvn-jumps.htm) "
      ],
      "text/plain": [
       "<IPython.core.display.Markdown object>"
      ]
     },
     "execution_count": 5,
     "metadata": {},
     "output_type": "execute_result"
    }
   ],
   "source": [
    "#hide_input\n",
    "#md('##### {}'.format(titleBTC)) \n",
    "md(\"- {}{} {}{} [| Skaityti daugiau]({}) \".format(xrp['title'],'. ', xrp['body'], ' ...', xrp['url']))"
   ]
  },
  {
   "cell_type": "code",
   "execution_count": 6,
   "id": "prompt-farmer",
   "metadata": {
    "execution": {
     "iopub.execute_input": "2022-09-13T03:49:27.703771Z",
     "iopub.status.busy": "2022-09-13T03:49:27.703118Z",
     "iopub.status.idle": "2022-09-13T03:49:27.707000Z",
     "shell.execute_reply": "2022-09-13T03:49:27.706548Z"
    },
    "papermill": {
     "duration": 0.018724,
     "end_time": "2022-09-13T03:49:27.707111",
     "exception": false,
     "start_time": "2022-09-13T03:49:27.688387",
     "status": "completed"
    },
    "tags": []
   },
   "outputs": [
    {
     "data": {
      "text/markdown": [
       "- TRON and Wintermute Reach Strategic Partnership.  September 12, 2022 – Geneva, Switzerland TRON is thrilled to announce that Wintermute is now the official market maker for TRX and a strategic partner of the entire TRON ecosystem. In this capacity, Wintermute will provide liquidity for major TRX pairs across various exchanges, boosting greater accessibility to the TRX token. This strong alliance will [&#8230;]The post TRON and Wintermute Reach Strategic Partnership appeared first on The Daily Hodl. ... [| Skaityti daugiau](https://dailyhodl.com/2022/09/12/tron-and-wintermute-reach-strategic-partnership/) "
      ],
      "text/plain": [
       "<IPython.core.display.Markdown object>"
      ]
     },
     "execution_count": 6,
     "metadata": {},
     "output_type": "execute_result"
    }
   ],
   "source": [
    "#hide_input\n",
    "#md('##### {}'.format(titleBTC)) \n",
    "md(\"- {}{} {}{} [| Skaityti daugiau]({}) \".format(trx['title'],'. ', trx['body'], ' ...', trx['url']))"
   ]
  },
  {
   "cell_type": "code",
   "execution_count": 7,
   "id": "illegal-greece",
   "metadata": {
    "execution": {
     "iopub.execute_input": "2022-09-13T03:49:27.732932Z",
     "iopub.status.busy": "2022-09-13T03:49:27.732351Z",
     "iopub.status.idle": "2022-09-13T03:49:27.735705Z",
     "shell.execute_reply": "2022-09-13T03:49:27.735211Z"
    },
    "papermill": {
     "duration": 0.018344,
     "end_time": "2022-09-13T03:49:27.735820",
     "exception": false,
     "start_time": "2022-09-13T03:49:27.717476",
     "status": "completed"
    },
    "tags": []
   },
   "outputs": [
    {
     "data": {
      "text/markdown": [
       "- Bitcoin Holds Strong While Ethereum Dips, RVN Jumps.  Bitcoin price gained pace and settled above the USD 22,000 pivot level. BTC is currently (04:00 UTC) showing positive signs and eyeing more upsides. If there is a correction, the bulls might appear near USD 21,500. Besides, most major altcoins are slowly moving lower. ETH declined a few points and struggled to stay above USD 1,700. XRP is consolidating above the USD 0.35 level. ADA declined below the USD 0.50 support....Read More: Bitcoin Holds Strong While Ethereum Dips, RVN Jumps ... [| Skaityti daugiau](https://cryptonews.com/news/bitcoin-holds-strong-while-ethereum-dips-rvn-jumps.htm) "
      ],
      "text/plain": [
       "<IPython.core.display.Markdown object>"
      ]
     },
     "execution_count": 7,
     "metadata": {},
     "output_type": "execute_result"
    }
   ],
   "source": [
    "#hide_input\n",
    "#md('##### {}'.format(titleBTC)) \n",
    "md(\"- {}{} {}{} [| Skaityti daugiau]({}) \".format(eth['title'],'. ', eth['body'], ' ...', eth['url']))"
   ]
  },
  {
   "cell_type": "code",
   "execution_count": 8,
   "id": "sublime-lounge",
   "metadata": {
    "execution": {
     "iopub.execute_input": "2022-09-13T03:49:27.763673Z",
     "iopub.status.busy": "2022-09-13T03:49:27.763040Z",
     "iopub.status.idle": "2022-09-13T03:49:27.766243Z",
     "shell.execute_reply": "2022-09-13T03:49:27.765774Z"
    },
    "papermill": {
     "duration": 0.018733,
     "end_time": "2022-09-13T03:49:27.766351",
     "exception": false,
     "start_time": "2022-09-13T03:49:27.747618",
     "status": "completed"
    },
    "tags": []
   },
   "outputs": [
    {
     "data": {
      "text/markdown": [
       "- Bitcoin Holds Strong While Ethereum Dips, RVN Jumps.  Bitcoin price gained pace and settled above the USD 22,000 pivot level. BTC is currently (04:00 UTC) showing positive signs and eyeing more upsides. If there is a correction, the bulls might appear near USD 21,500. Besides, most major altcoins are slowly moving lower. ETH declined a few points and struggled to stay above USD 1,700. XRP is consolidating above the USD 0.35 level. ADA declined below the USD 0.50 support....Read More: Bitcoin Holds Strong While Ethereum Dips, RVN Jumps ... [| Skaityti daugiau](https://cryptonews.com/news/bitcoin-holds-strong-while-ethereum-dips-rvn-jumps.htm) "
      ],
      "text/plain": [
       "<IPython.core.display.Markdown object>"
      ]
     },
     "execution_count": 8,
     "metadata": {},
     "output_type": "execute_result"
    }
   ],
   "source": [
    "#hide_input\n",
    "#md('##### {}'.format(titleBTC)) \n",
    "md(\"- {}{} {}{} [| Skaityti daugiau]({}) \".format(ada['title'],'. ', ada['body'], ' ...', ada['url']))"
   ]
  },
  {
   "cell_type": "code",
   "execution_count": 9,
   "id": "specified-ordering",
   "metadata": {
    "execution": {
     "iopub.execute_input": "2022-09-13T03:49:27.792571Z",
     "iopub.status.busy": "2022-09-13T03:49:27.790271Z",
     "iopub.status.idle": "2022-09-13T03:49:27.795701Z",
     "shell.execute_reply": "2022-09-13T03:49:27.796130Z"
    },
    "papermill": {
     "duration": 0.019068,
     "end_time": "2022-09-13T03:49:27.796258",
     "exception": false,
     "start_time": "2022-09-13T03:49:27.777190",
     "status": "completed"
    },
    "tags": []
   },
   "outputs": [
    {
     "data": {
      "text/markdown": [
       "- Indian Authorities Unfreeze Wazirx’s Bank Accounts, the Crypto Exchange Says.  India&#x2019;s Enforcement Directorate (ED) has unfrozen the bank accounts of cryptocurrency exchange Wazirx, the company said. The accounts were frozen as part of the federal agency&#x2019;s investigation into 16 fintech companies and instant loan apps. Wazirx Says Its Bank Accounts Are Now Unfrozen Indian cryptocurrency exchange Wazirx said Monday that the Enforcement Directorate (ED), the [&#8230;] ... [| Skaityti daugiau](https://news.bitcoin.com/indian-authorities-unfreeze-wazirxs-bank-accounts-the-crypto-exchange-says/) "
      ],
      "text/plain": [
       "<IPython.core.display.Markdown object>"
      ]
     },
     "execution_count": 9,
     "metadata": {},
     "output_type": "execute_result"
    }
   ],
   "source": [
    "#hide_input\n",
    "#md('##### {}'.format(titleBTC)) \n",
    "md(\"- {}{} {}{} [| Skaityti daugiau]({}) \".format(exchange['title'],'. ', exchange['body'], ' ...', exchange['url']))"
   ]
  },
  {
   "cell_type": "code",
   "execution_count": null,
   "id": "tender-livestock",
   "metadata": {
    "papermill": {
     "duration": 0.01117,
     "end_time": "2022-09-13T03:49:27.818541",
     "exception": false,
     "start_time": "2022-09-13T03:49:27.807371",
     "status": "completed"
    },
    "tags": []
   },
   "outputs": [],
   "source": []
  },
  {
   "cell_type": "code",
   "execution_count": null,
   "id": "appreciated-diamond",
   "metadata": {
    "papermill": {
     "duration": 0.011173,
     "end_time": "2022-09-13T03:49:27.841087",
     "exception": false,
     "start_time": "2022-09-13T03:49:27.829914",
     "status": "completed"
    },
    "tags": []
   },
   "outputs": [],
   "source": []
  },
  {
   "cell_type": "code",
   "execution_count": null,
   "id": "romance-sweden",
   "metadata": {
    "papermill": {
     "duration": 0.01115,
     "end_time": "2022-09-13T03:49:27.863508",
     "exception": false,
     "start_time": "2022-09-13T03:49:27.852358",
     "status": "completed"
    },
    "tags": []
   },
   "outputs": [],
   "source": []
  },
  {
   "cell_type": "code",
   "execution_count": null,
   "id": "dietary-statistics",
   "metadata": {
    "papermill": {
     "duration": 0.011129,
     "end_time": "2022-09-13T03:49:27.885902",
     "exception": false,
     "start_time": "2022-09-13T03:49:27.874773",
     "status": "completed"
    },
    "tags": []
   },
   "outputs": [],
   "source": []
  }
 ],
 "metadata": {
  "kernelspec": {
   "display_name": "Python 3",
   "language": "python",
   "name": "python3"
  },
  "language_info": {
   "codemirror_mode": {
    "name": "ipython",
    "version": 3
   },
   "file_extension": ".py",
   "mimetype": "text/x-python",
   "name": "python",
   "nbconvert_exporter": "python",
   "pygments_lexer": "ipython3",
   "version": "3.6.15"
  },
  "papermill": {
   "default_parameters": {},
   "duration": 16.048128,
   "end_time": "2022-09-13T03:49:28.417427",
   "environment_variables": {},
   "exception": null,
   "input_path": "Market-News.ipynb",
   "output_path": "Market-News.ipynb",
   "parameters": {},
   "start_time": "2022-09-13T03:49:12.369299",
   "version": "2.2.2"
  }
 },
 "nbformat": 4,
 "nbformat_minor": 5
}