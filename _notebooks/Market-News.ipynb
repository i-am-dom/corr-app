{
 "cells": [
  {
   "cell_type": "markdown",
   "id": "short-greensboro",
   "metadata": {
    "papermill": {
     "duration": 0.013322,
     "end_time": "2022-04-02T02:31:31.421705",
     "exception": false,
     "start_time": "2022-04-02T02:31:31.408383",
     "status": "completed"
    },
    "tags": []
   },
   "source": [
    "# Kriptovaliutų naujienos"
   ]
  },
  {
   "cell_type": "code",
   "execution_count": 1,
   "id": "functioning-knowing",
   "metadata": {
    "execution": {
     "iopub.execute_input": "2022-04-02T02:31:31.450959Z",
     "iopub.status.busy": "2022-04-02T02:31:31.450418Z",
     "iopub.status.idle": "2022-04-02T02:31:32.728209Z",
     "shell.execute_reply": "2022-04-02T02:31:32.727290Z"
    },
    "papermill": {
     "duration": 1.297017,
     "end_time": "2022-04-02T02:31:32.728364",
     "exception": false,
     "start_time": "2022-04-02T02:31:31.431347",
     "status": "completed"
    },
    "tags": []
   },
   "outputs": [],
   "source": [
    "#hide_input\n",
    "import warnings\n",
    "warnings.filterwarnings('ignore')\n",
    "from scripts.read_data import read_api\n",
    "from scripts.read_data import read_news\n",
    "from scripts.read_data import read_covid\n",
    "import matplotlib.pyplot as plt \n",
    "from IPython.display import Markdown as md"
   ]
  },
  {
   "cell_type": "code",
   "execution_count": 2,
   "id": "shared-acceptance",
   "metadata": {
    "execution": {
     "iopub.execute_input": "2022-04-02T02:31:32.752246Z",
     "iopub.status.busy": "2022-04-02T02:31:32.751718Z",
     "iopub.status.idle": "2022-04-02T02:31:43.742417Z",
     "shell.execute_reply": "2022-04-02T02:31:43.742847Z"
    },
    "papermill": {
     "duration": 11.005434,
     "end_time": "2022-04-02T02:31:43.742996",
     "exception": false,
     "start_time": "2022-04-02T02:31:32.737562",
     "status": "completed"
    },
    "tags": []
   },
   "outputs": [],
   "source": [
    "#hide_input\n",
    "blockchain = read_news('blockchain') \n",
    "btc = read_news('btc') \n",
    "xrp = read_news('xrp') \n",
    "trx = read_news('trx') \n",
    "eth = read_news('eth')  \n",
    "ada = read_news('ada')\n",
    "exchange = read_news('exchange') "
   ]
  },
  {
   "cell_type": "code",
   "execution_count": 3,
   "id": "synthetic-notion",
   "metadata": {
    "execution": {
     "iopub.execute_input": "2022-04-02T02:31:43.768436Z",
     "iopub.status.busy": "2022-04-02T02:31:43.767899Z",
     "iopub.status.idle": "2022-04-02T02:31:43.770570Z",
     "shell.execute_reply": "2022-04-02T02:31:43.770979Z"
    },
    "papermill": {
     "duration": 0.018829,
     "end_time": "2022-04-02T02:31:43.771101",
     "exception": false,
     "start_time": "2022-04-02T02:31:43.752272",
     "status": "completed"
    },
    "tags": []
   },
   "outputs": [
    {
     "data": {
      "text/markdown": [
       "- Little White Bias: The O.C. Star Is An Anti-Crypto Writer.  Ben McKenzie, actor and star from The O.C., holds a strong skeptical opinion about crypto. He has spent a lot of time digging into the blockchain world, convinced it is all a fraud scheme that he will unveil. Related Reading &#124; The Crypto Scam Bystander: A Glimpse At Facebook’s Metaverse McKenzie Wants To Pop The Crypto [&#8230;] ... [| Skaityti daugiau](https://bitcoinist.com/little-white-bias-the-o-c-star-is-anti-crypto/) "
      ],
      "text/plain": [
       "<IPython.core.display.Markdown object>"
      ]
     },
     "execution_count": 3,
     "metadata": {},
     "output_type": "execute_result"
    }
   ],
   "source": [
    "#hide_input\n",
    "#md('##### {}'.format(titleBTC)) \n",
    "md(\"- {}{} {}{} [| Skaityti daugiau]({}) \".format(blockchain['title'],'. ', blockchain['body'], ' ...', blockchain['url']))"
   ]
  },
  {
   "cell_type": "code",
   "execution_count": 4,
   "id": "aging-caution",
   "metadata": {
    "execution": {
     "iopub.execute_input": "2022-04-02T02:31:43.794048Z",
     "iopub.status.busy": "2022-04-02T02:31:43.793498Z",
     "iopub.status.idle": "2022-04-02T02:31:43.798099Z",
     "shell.execute_reply": "2022-04-02T02:31:43.798517Z"
    },
    "papermill": {
     "duration": 0.018317,
     "end_time": "2022-04-02T02:31:43.798642",
     "exception": false,
     "start_time": "2022-04-02T02:31:43.780325",
     "status": "completed"
    },
    "tags": []
   },
   "outputs": [
    {
     "data": {
      "text/markdown": [
       "- Play At The Best Bitcoin Casino Online.  The only way to ensure your security when gambling online is by playing at the best Bitcoin casino. Keep reading, and you can get answers on what is the best Bitcoin casino online and find out all that the site has to offer. What Is BC GAME? In 2019 the online gambling industry got better [&#8230;]The post Play At The Best Bitcoin Casino Online appeared first on NullTX. ... [| Skaityti daugiau](https://nulltx.com/play-at-the-best-bitcoin-casino-online/) "
      ],
      "text/plain": [
       "<IPython.core.display.Markdown object>"
      ]
     },
     "execution_count": 4,
     "metadata": {},
     "output_type": "execute_result"
    }
   ],
   "source": [
    "#hide_input\n",
    "#md('##### {}'.format(titleBTC)) \n",
    "md(\"- {}{} {}{} [| Skaityti daugiau]({}) \".format(btc['title'],'. ', btc['body'], ' ...', btc['url']))"
   ]
  },
  {
   "cell_type": "code",
   "execution_count": 5,
   "id": "organic-actress",
   "metadata": {
    "execution": {
     "iopub.execute_input": "2022-04-02T02:31:43.823047Z",
     "iopub.status.busy": "2022-04-02T02:31:43.822318Z",
     "iopub.status.idle": "2022-04-02T02:31:43.824975Z",
     "shell.execute_reply": "2022-04-02T02:31:43.825379Z"
    },
    "papermill": {
     "duration": 0.017385,
     "end_time": "2022-04-02T02:31:43.825497",
     "exception": false,
     "start_time": "2022-04-02T02:31:43.808112",
     "status": "completed"
    },
    "tags": []
   },
   "outputs": [
    {
     "data": {
      "text/markdown": [
       "- Ripple’s Chris Larsen Wants Bitcoin To Be Like XRP — Here’s How It’s Going.  Ripple’s co-founder and executive chairman Chris Larsen wants something done about Bitcoin’s carbon footprint. ... [| Skaityti daugiau](https://zycrypto.com/ripples-chris-larsen-wants-bitcoin-to-be-like-xrp-heres-how-its-going/) "
      ],
      "text/plain": [
       "<IPython.core.display.Markdown object>"
      ]
     },
     "execution_count": 5,
     "metadata": {},
     "output_type": "execute_result"
    }
   ],
   "source": [
    "#hide_input\n",
    "#md('##### {}'.format(titleBTC)) \n",
    "md(\"- {}{} {}{} [| Skaityti daugiau]({}) \".format(xrp['title'],'. ', xrp['body'], ' ...', xrp['url']))"
   ]
  },
  {
   "cell_type": "code",
   "execution_count": 6,
   "id": "prompt-farmer",
   "metadata": {
    "execution": {
     "iopub.execute_input": "2022-04-02T02:31:43.849836Z",
     "iopub.status.busy": "2022-04-02T02:31:43.849327Z",
     "iopub.status.idle": "2022-04-02T02:31:43.852674Z",
     "shell.execute_reply": "2022-04-02T02:31:43.852268Z"
    },
    "papermill": {
     "duration": 0.017539,
     "end_time": "2022-04-02T02:31:43.852779",
     "exception": false,
     "start_time": "2022-04-02T02:31:43.835240",
     "status": "completed"
    },
    "tags": []
   },
   "outputs": [
    {
     "data": {
      "text/markdown": [
       "- The Best Cloud Mining Tron (TRX) Services in 2022 – Are They Profitable?.  GEM-TRX Links: Official website: https://gem-trx.com/share?code=336661 Official page: https://www.gemtrx2.com/ Official Facebook page: https://www.facebook.com/gemtrxofficial/ Official Twitter: https://twitter.com/MINEGEMTRX Telegram group: https://t.me/GemTrx Whitepaper: https://tron.network/static/doc/white_paper_v_2_0.pdf Have you been looking into cloud mining cryptocurrency in 2022 but aren’t sure whether it’s profitable or not? In this article, we’re going to take a look at cloud mining in 2022, specifically cloud mining [&#8230;]The post The Best Cloud Mining Tron (TRX) Services in 2022 &#8211; Are They Profitable? appeared first on NullTX. ... [| Skaityti daugiau](https://nulltx.com/the-best-cloud-mining-tron-trx-services-in-2022-are-they-profitable/) "
      ],
      "text/plain": [
       "<IPython.core.display.Markdown object>"
      ]
     },
     "execution_count": 6,
     "metadata": {},
     "output_type": "execute_result"
    }
   ],
   "source": [
    "#hide_input\n",
    "#md('##### {}'.format(titleBTC)) \n",
    "md(\"- {}{} {}{} [| Skaityti daugiau]({}) \".format(trx['title'],'. ', trx['body'], ' ...', trx['url']))"
   ]
  },
  {
   "cell_type": "code",
   "execution_count": 7,
   "id": "illegal-greece",
   "metadata": {
    "execution": {
     "iopub.execute_input": "2022-04-02T02:31:43.878917Z",
     "iopub.status.busy": "2022-04-02T02:31:43.877784Z",
     "iopub.status.idle": "2022-04-02T02:31:43.881946Z",
     "shell.execute_reply": "2022-04-02T02:31:43.881540Z"
    },
    "papermill": {
     "duration": 0.017746,
     "end_time": "2022-04-02T02:31:43.882050",
     "exception": false,
     "start_time": "2022-04-02T02:31:43.864304",
     "status": "completed"
    },
    "tags": []
   },
   "outputs": [
    {
     "data": {
      "text/markdown": [
       "- Buy The Ethereum Merge Rumors: Supply Peak, Staking Revolution, Double-Wide Regulatory Moat.  After The Merge, base fee burns at current gas prices would be larger than the new staking rewards issuance, making the system deflationary and represent the peak in Ethereum supply.The inherent energy efficiency of the proof-of-stake consensus is appreciated by ESG activists in the digital asset space, favored in Europe, and has growing support in Washington.Once The Merge settles and the cleanup upgrade is live, the amount of staked ETH may double or triple and approach $100 billion in value.The discount to NAV of the Grayscale Ethereum Trust likely narrows if Grayscale is allowed to convert their Bitcoin Trust to an ETF. ... [| Skaityti daugiau](https://seekingalpha.com/article/4499356-buy-ethereum-merge-rumors?utm_source=cryptocompare.com&utm_medium=referral) "
      ],
      "text/plain": [
       "<IPython.core.display.Markdown object>"
      ]
     },
     "execution_count": 7,
     "metadata": {},
     "output_type": "execute_result"
    }
   ],
   "source": [
    "#hide_input\n",
    "#md('##### {}'.format(titleBTC)) \n",
    "md(\"- {}{} {}{} [| Skaityti daugiau]({}) \".format(eth['title'],'. ', eth['body'], ' ...', eth['url']))"
   ]
  },
  {
   "cell_type": "code",
   "execution_count": 8,
   "id": "sublime-lounge",
   "metadata": {
    "execution": {
     "iopub.execute_input": "2022-04-02T02:31:43.907850Z",
     "iopub.status.busy": "2022-04-02T02:31:43.907347Z",
     "iopub.status.idle": "2022-04-02T02:31:43.910117Z",
     "shell.execute_reply": "2022-04-02T02:31:43.910637Z"
    },
    "papermill": {
     "duration": 0.018286,
     "end_time": "2022-04-02T02:31:43.910759",
     "exception": false,
     "start_time": "2022-04-02T02:31:43.892473",
     "status": "completed"
    },
    "tags": []
   },
   "outputs": [
    {
     "data": {
      "text/markdown": [
       "- CME Group 'Looking At' Offering Solana, Cardano Futures.  CME Group has been \"looking at\" offering Solana and Cardano futures contracts, an executive said at a conference in London. ... [| Skaityti daugiau](https://decrypt.co/96722/cme-group-looking-at-offering-solana-cardano-futures) "
      ],
      "text/plain": [
       "<IPython.core.display.Markdown object>"
      ]
     },
     "execution_count": 8,
     "metadata": {},
     "output_type": "execute_result"
    }
   ],
   "source": [
    "#hide_input\n",
    "#md('##### {}'.format(titleBTC)) \n",
    "md(\"- {}{} {}{} [| Skaityti daugiau]({}) \".format(ada['title'],'. ', ada['body'], ' ...', ada['url']))"
   ]
  },
  {
   "cell_type": "code",
   "execution_count": 9,
   "id": "specified-ordering",
   "metadata": {
    "execution": {
     "iopub.execute_input": "2022-04-02T02:31:43.936966Z",
     "iopub.status.busy": "2022-04-02T02:31:43.935841Z",
     "iopub.status.idle": "2022-04-02T02:31:43.940100Z",
     "shell.execute_reply": "2022-04-02T02:31:43.939692Z"
    },
    "papermill": {
     "duration": 0.018574,
     "end_time": "2022-04-02T02:31:43.940208",
     "exception": false,
     "start_time": "2022-04-02T02:31:43.921634",
     "status": "completed"
    },
    "tags": []
   },
   "outputs": [
    {
     "data": {
      "text/markdown": [
       "- Crypto Exchange BitMEX Fails to Acquire German Bank: Report.  The deal that would have seen BitMEX acquire a private bank in Munich falls through as both parties back off. ... [| Skaityti daugiau](https://cryptopotato.com/crypto-exchange-bitmex-fails-to-acquire-german-bank-report/) "
      ],
      "text/plain": [
       "<IPython.core.display.Markdown object>"
      ]
     },
     "execution_count": 9,
     "metadata": {},
     "output_type": "execute_result"
    }
   ],
   "source": [
    "#hide_input\n",
    "#md('##### {}'.format(titleBTC)) \n",
    "md(\"- {}{} {}{} [| Skaityti daugiau]({}) \".format(exchange['title'],'. ', exchange['body'], ' ...', exchange['url']))"
   ]
  },
  {
   "cell_type": "code",
   "execution_count": null,
   "id": "tender-livestock",
   "metadata": {
    "papermill": {
     "duration": 0.010996,
     "end_time": "2022-04-02T02:31:43.962371",
     "exception": false,
     "start_time": "2022-04-02T02:31:43.951375",
     "status": "completed"
    },
    "tags": []
   },
   "outputs": [],
   "source": []
  },
  {
   "cell_type": "code",
   "execution_count": null,
   "id": "appreciated-diamond",
   "metadata": {
    "papermill": {
     "duration": 0.011051,
     "end_time": "2022-04-02T02:31:43.984559",
     "exception": false,
     "start_time": "2022-04-02T02:31:43.973508",
     "status": "completed"
    },
    "tags": []
   },
   "outputs": [],
   "source": []
  },
  {
   "cell_type": "code",
   "execution_count": null,
   "id": "romance-sweden",
   "metadata": {
    "papermill": {
     "duration": 0.011004,
     "end_time": "2022-04-02T02:31:44.007524",
     "exception": false,
     "start_time": "2022-04-02T02:31:43.996520",
     "status": "completed"
    },
    "tags": []
   },
   "outputs": [],
   "source": []
  },
  {
   "cell_type": "code",
   "execution_count": null,
   "id": "dietary-statistics",
   "metadata": {
    "papermill": {
     "duration": 0.011003,
     "end_time": "2022-04-02T02:31:44.029580",
     "exception": false,
     "start_time": "2022-04-02T02:31:44.018577",
     "status": "completed"
    },
    "tags": []
   },
   "outputs": [],
   "source": []
  }
 ],
 "metadata": {
  "kernelspec": {
   "display_name": "Python 3",
   "language": "python",
   "name": "python3"
  },
  "language_info": {
   "codemirror_mode": {
    "name": "ipython",
    "version": 3
   },
   "file_extension": ".py",
   "mimetype": "text/x-python",
   "name": "python",
   "nbconvert_exporter": "python",
   "pygments_lexer": "ipython3",
   "version": "3.6.15"
  },
  "papermill": {
   "default_parameters": {},
   "duration": 13.976402,
   "end_time": "2022-04-02T02:31:44.459058",
   "environment_variables": {},
   "exception": null,
   "input_path": "Market-News.ipynb",
   "output_path": "Market-News.ipynb",
   "parameters": {},
   "start_time": "2022-04-02T02:31:30.482656",
   "version": "2.2.2"
  }
 },
 "nbformat": 4,
 "nbformat_minor": 5
}