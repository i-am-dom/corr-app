{
 "cells": [
  {
   "cell_type": "markdown",
   "id": "short-greensboro",
   "metadata": {
    "papermill": {
     "duration": 0.015635,
     "end_time": "2021-11-24T01:59:50.512419",
     "exception": false,
     "start_time": "2021-11-24T01:59:50.496784",
     "status": "completed"
    },
    "tags": []
   },
   "source": [
    "# Kriptovaliutų naujienos"
   ]
  },
  {
   "cell_type": "code",
   "execution_count": 1,
   "id": "functioning-knowing",
   "metadata": {
    "execution": {
     "iopub.execute_input": "2021-11-24T01:59:50.546792Z",
     "iopub.status.busy": "2021-11-24T01:59:50.546024Z",
     "iopub.status.idle": "2021-11-24T01:59:52.009911Z",
     "shell.execute_reply": "2021-11-24T01:59:52.009359Z"
    },
    "papermill": {
     "duration": 1.486008,
     "end_time": "2021-11-24T01:59:52.010102",
     "exception": false,
     "start_time": "2021-11-24T01:59:50.524094",
     "status": "completed"
    },
    "tags": []
   },
   "outputs": [],
   "source": [
    "#hide_input\n",
    "import warnings\n",
    "warnings.filterwarnings('ignore')\n",
    "from scripts.read_data import read_api\n",
    "from scripts.read_data import read_news\n",
    "from scripts.read_data import read_covid\n",
    "import matplotlib.pyplot as plt \n",
    "from IPython.display import Markdown as md"
   ]
  },
  {
   "cell_type": "code",
   "execution_count": 2,
   "id": "shared-acceptance",
   "metadata": {
    "execution": {
     "iopub.execute_input": "2021-11-24T01:59:52.039097Z",
     "iopub.status.busy": "2021-11-24T01:59:52.038468Z",
     "iopub.status.idle": "2021-11-24T02:00:00.753733Z",
     "shell.execute_reply": "2021-11-24T02:00:00.753190Z"
    },
    "papermill": {
     "duration": 8.732896,
     "end_time": "2021-11-24T02:00:00.753872",
     "exception": false,
     "start_time": "2021-11-24T01:59:52.020976",
     "status": "completed"
    },
    "tags": []
   },
   "outputs": [],
   "source": [
    "#hide_input\n",
    "blockchain = read_news('blockchain') \n",
    "btc = read_news('btc') \n",
    "xrp = read_news('xrp') \n",
    "trx = read_news('trx') \n",
    "eth = read_news('eth')  \n",
    "ada = read_news('ada')\n",
    "exchange = read_news('exchange') "
   ]
  },
  {
   "cell_type": "code",
   "execution_count": 3,
   "id": "synthetic-notion",
   "metadata": {
    "execution": {
     "iopub.execute_input": "2021-11-24T02:00:00.782337Z",
     "iopub.status.busy": "2021-11-24T02:00:00.781669Z",
     "iopub.status.idle": "2021-11-24T02:00:00.784091Z",
     "shell.execute_reply": "2021-11-24T02:00:00.784591Z"
    },
    "papermill": {
     "duration": 0.020148,
     "end_time": "2021-11-24T02:00:00.784730",
     "exception": false,
     "start_time": "2021-11-24T02:00:00.764582",
     "status": "completed"
    },
    "tags": []
   },
   "outputs": [
    {
     "data": {
      "text/markdown": [
       "- Ethereum Competitor Appears Ready for Major Rally As 2021 Comes to a Close, According to Coin Bureau.  The host of popular crypto channel Coin Bureau says that one mid-cap Ethereum competitor could spike before the year ends. In a new video, the analyst known as Guy tells his 1.66 million YouTube subscribers that layer 2 protocol Harmony (ONE) could be the &#8220;one&#8221; coin to rule them all. Harmony is a blockchain focused [&#8230;]The post Ethereum Competitor Appears Ready for Major Rally As 2021 Comes to a Close, According to Coin Bureau appeared first on The Daily Hodl. ... [| Skaityti daugiau](https://dailyhodl.com/2021/11/23/ethereum-competitor-appears-ready-for-major-rally-as-2021-comes-to-a-close-according-to-coin-bureau/) "
      ],
      "text/plain": [
       "<IPython.core.display.Markdown object>"
      ]
     },
     "execution_count": 3,
     "metadata": {},
     "output_type": "execute_result"
    }
   ],
   "source": [
    "#hide_input\n",
    "#md('##### {}'.format(titleBTC)) \n",
    "md(\"- {}{} {}{} [| Skaityti daugiau]({}) \".format(blockchain['title'],'. ', blockchain['body'], ' ...', blockchain['url']))"
   ]
  },
  {
   "cell_type": "code",
   "execution_count": 4,
   "id": "aging-caution",
   "metadata": {
    "execution": {
     "iopub.execute_input": "2021-11-24T02:00:00.811927Z",
     "iopub.status.busy": "2021-11-24T02:00:00.810809Z",
     "iopub.status.idle": "2021-11-24T02:00:00.815330Z",
     "shell.execute_reply": "2021-11-24T02:00:00.814848Z"
    },
    "papermill": {
     "duration": 0.019829,
     "end_time": "2021-11-24T02:00:00.815453",
     "exception": false,
     "start_time": "2021-11-24T02:00:00.795624",
     "status": "completed"
    },
    "tags": []
   },
   "outputs": [
    {
     "data": {
      "text/markdown": [
       "- USD-Denominated Debt Is Now Being Issued To Buy Bitcoin On Nation-State Level.  The El Salvador and Blockstream partnership to issue cheap, U.S. dollar-denominated debt to directly buy bitcoin is a new version of speculative attack. ... [| Skaityti daugiau](https://bitcoinmagazine.com/markets/dollar-debt-issued-to-buy-bitcoin-by-nation-state) "
      ],
      "text/plain": [
       "<IPython.core.display.Markdown object>"
      ]
     },
     "execution_count": 4,
     "metadata": {},
     "output_type": "execute_result"
    }
   ],
   "source": [
    "#hide_input\n",
    "#md('##### {}'.format(titleBTC)) \n",
    "md(\"- {}{} {}{} [| Skaityti daugiau]({}) \".format(btc['title'],'. ', btc['body'], ' ...', btc['url']))"
   ]
  },
  {
   "cell_type": "code",
   "execution_count": 5,
   "id": "organic-actress",
   "metadata": {
    "execution": {
     "iopub.execute_input": "2021-11-24T02:00:00.843055Z",
     "iopub.status.busy": "2021-11-24T02:00:00.841813Z",
     "iopub.status.idle": "2021-11-24T02:00:00.845725Z",
     "shell.execute_reply": "2021-11-24T02:00:00.846232Z"
    },
    "papermill": {
     "duration": 0.019497,
     "end_time": "2021-11-24T02:00:00.846560",
     "exception": false,
     "start_time": "2021-11-24T02:00:00.827063",
     "status": "completed"
    },
    "tags": []
   },
   "outputs": [
    {
     "data": {
      "text/markdown": [
       "- Ripple Expects SEC Lawsuit Over XRP to Conclude Next Year, CEO Says ‘We’re Seeing Pretty Good Progress’.  Ripple CEO Brad Garlinghouse says that he expects the lawsuit over XRP by the U.S. Securities and Exchange Commission (SEC) to come to a conclusion next year. The executive explained: &#x201C;We&#x2019;re seeing pretty good progress despite a slow-moving judicial process.&#x201D; Ripple&#x2019;s CEO Is Hopeful the SEC&#x2019;s Lawsuit Over XRP Will Conclude Next Year Ripple CEO [&#8230;] ... [| Skaityti daugiau](https://news.bitcoin.com/ripple-expects-sec-lawsuit-over-xrp-to-conclude-next-year-ceo-says-were-seeing-pretty-good-progress/) "
      ],
      "text/plain": [
       "<IPython.core.display.Markdown object>"
      ]
     },
     "execution_count": 5,
     "metadata": {},
     "output_type": "execute_result"
    }
   ],
   "source": [
    "#hide_input\n",
    "#md('##### {}'.format(titleBTC)) \n",
    "md(\"- {}{} {}{} [| Skaityti daugiau]({}) \".format(xrp['title'],'. ', xrp['body'], ' ...', xrp['url']))"
   ]
  },
  {
   "cell_type": "code",
   "execution_count": 6,
   "id": "prompt-farmer",
   "metadata": {
    "execution": {
     "iopub.execute_input": "2021-11-24T02:00:00.875421Z",
     "iopub.status.busy": "2021-11-24T02:00:00.874647Z",
     "iopub.status.idle": "2021-11-24T02:00:00.878166Z",
     "shell.execute_reply": "2021-11-24T02:00:00.877524Z"
    },
    "papermill": {
     "duration": 0.020135,
     "end_time": "2021-11-24T02:00:00.878293",
     "exception": false,
     "start_time": "2021-11-24T02:00:00.858158",
     "status": "completed"
    },
    "tags": []
   },
   "outputs": [
    {
     "data": {
      "text/markdown": [
       "- eToro to delist ADA, TRX for US users over regulatory concerns.  Starting Dec. 26, U.S. users won't be able to open new positions, and by Dec. 31, staking for the assets will no longer be available.The post eToro to delist ADA, TRX for US users over regulatory concerns appeared first on The Block. ... [| Skaityti daugiau](https://www.theblockcrypto.com/linked/125215/etoro-to-delist-ada-trx-for-us-users-over-regulatory-concerns?utm_source=cryptocompare&utm_medium=rss) "
      ],
      "text/plain": [
       "<IPython.core.display.Markdown object>"
      ]
     },
     "execution_count": 6,
     "metadata": {},
     "output_type": "execute_result"
    }
   ],
   "source": [
    "#hide_input\n",
    "#md('##### {}'.format(titleBTC)) \n",
    "md(\"- {}{} {}{} [| Skaityti daugiau]({}) \".format(trx['title'],'. ', trx['body'], ' ...', trx['url']))"
   ]
  },
  {
   "cell_type": "code",
   "execution_count": 7,
   "id": "illegal-greece",
   "metadata": {
    "execution": {
     "iopub.execute_input": "2021-11-24T02:00:00.908419Z",
     "iopub.status.busy": "2021-11-24T02:00:00.907764Z",
     "iopub.status.idle": "2021-11-24T02:00:00.910116Z",
     "shell.execute_reply": "2021-11-24T02:00:00.910598Z"
    },
    "papermill": {
     "duration": 0.020308,
     "end_time": "2021-11-24T02:00:00.910742",
     "exception": false,
     "start_time": "2021-11-24T02:00:00.890434",
     "status": "completed"
    },
    "tags": []
   },
   "outputs": [
    {
     "data": {
      "text/markdown": [
       "- Flare Partners With Enterprise Gaming Platform Rival to Become Its Preferred Token Platform.  A privacy-focused, decentralized, smart contract platform will become the foundation of NFT engagement on Rival. ... [| Skaityti daugiau](https://cryptopotato.com/flare-partners-with-enterprise-gaming-platform-rival-to-become-its-preferred-token-platform/) "
      ],
      "text/plain": [
       "<IPython.core.display.Markdown object>"
      ]
     },
     "execution_count": 7,
     "metadata": {},
     "output_type": "execute_result"
    }
   ],
   "source": [
    "#hide_input\n",
    "#md('##### {}'.format(titleBTC)) \n",
    "md(\"- {}{} {}{} [| Skaityti daugiau]({}) \".format(eth['title'],'. ', eth['body'], ' ...', eth['url']))"
   ]
  },
  {
   "cell_type": "code",
   "execution_count": 8,
   "id": "sublime-lounge",
   "metadata": {
    "execution": {
     "iopub.execute_input": "2021-11-24T02:00:00.948713Z",
     "iopub.status.busy": "2021-11-24T02:00:00.948048Z",
     "iopub.status.idle": "2021-11-24T02:00:00.951176Z",
     "shell.execute_reply": "2021-11-24T02:00:00.951659Z"
    },
    "papermill": {
     "duration": 0.028672,
     "end_time": "2021-11-24T02:00:00.951812",
     "exception": false,
     "start_time": "2021-11-24T02:00:00.923140",
     "status": "completed"
    },
    "tags": []
   },
   "outputs": [
    {
     "data": {
      "text/markdown": [
       "- Hoskinson on Crypto Exchange eToro’s Upcoming De-Listing of Cardano ($ADA) in the U.S..  Earlier today, eToro announced on its website that due to regulatory concerns, it would be “limiting ADA and TRX” for users based in the U.S. and that these users would “no longer be able to open new positions in, or receive staking rewards for, Cardano (ADA) and TRON (TRX)” but would be “able to close […] ... [| Skaityti daugiau](https://www.cryptoglobe.com/latest/2021/11/hoskinson-on-crypto-exchange-etoros-upcoming-de-listing-of-cardano-ada-in-the-u-s/) "
      ],
      "text/plain": [
       "<IPython.core.display.Markdown object>"
      ]
     },
     "execution_count": 8,
     "metadata": {},
     "output_type": "execute_result"
    }
   ],
   "source": [
    "#hide_input\n",
    "#md('##### {}'.format(titleBTC)) \n",
    "md(\"- {}{} {}{} [| Skaityti daugiau]({}) \".format(ada['title'],'. ', ada['body'], ' ...', ada['url']))"
   ]
  },
  {
   "cell_type": "code",
   "execution_count": 9,
   "id": "specified-ordering",
   "metadata": {
    "execution": {
     "iopub.execute_input": "2021-11-24T02:00:00.984622Z",
     "iopub.status.busy": "2021-11-24T02:00:00.984026Z",
     "iopub.status.idle": "2021-11-24T02:00:00.988777Z",
     "shell.execute_reply": "2021-11-24T02:00:00.987821Z"
    },
    "papermill": {
     "duration": 0.024681,
     "end_time": "2021-11-24T02:00:00.988922",
     "exception": false,
     "start_time": "2021-11-24T02:00:00.964241",
     "status": "completed"
    },
    "tags": []
   },
   "outputs": [
    {
     "data": {
      "text/markdown": [
       "- Ripple Expects SEC Lawsuit Over XRP to Conclude Next Year, CEO Says ‘We’re Seeing Pretty Good Progress’.  Ripple CEO Brad Garlinghouse says that he expects the lawsuit over XRP by the U.S. Securities and Exchange Commission (SEC) to come to a conclusion next year. The executive explained: &#x201C;We&#x2019;re seeing pretty good progress despite a slow-moving judicial process.&#x201D; Ripple&#x2019;s CEO Is Hopeful the SEC&#x2019;s Lawsuit Over XRP Will Conclude Next Year Ripple CEO [&#8230;] ... [| Skaityti daugiau](https://news.bitcoin.com/ripple-expects-sec-lawsuit-over-xrp-to-conclude-next-year-ceo-says-were-seeing-pretty-good-progress/) "
      ],
      "text/plain": [
       "<IPython.core.display.Markdown object>"
      ]
     },
     "execution_count": 9,
     "metadata": {},
     "output_type": "execute_result"
    }
   ],
   "source": [
    "#hide_input\n",
    "#md('##### {}'.format(titleBTC)) \n",
    "md(\"- {}{} {}{} [| Skaityti daugiau]({}) \".format(exchange['title'],'. ', exchange['body'], ' ...', exchange['url']))"
   ]
  },
  {
   "cell_type": "code",
   "execution_count": null,
   "id": "tender-livestock",
   "metadata": {
    "papermill": {
     "duration": 0.013058,
     "end_time": "2021-11-24T02:00:01.015137",
     "exception": false,
     "start_time": "2021-11-24T02:00:01.002079",
     "status": "completed"
    },
    "tags": []
   },
   "outputs": [],
   "source": []
  },
  {
   "cell_type": "code",
   "execution_count": null,
   "id": "appreciated-diamond",
   "metadata": {
    "papermill": {
     "duration": 0.012896,
     "end_time": "2021-11-24T02:00:01.040864",
     "exception": false,
     "start_time": "2021-11-24T02:00:01.027968",
     "status": "completed"
    },
    "tags": []
   },
   "outputs": [],
   "source": []
  },
  {
   "cell_type": "code",
   "execution_count": null,
   "id": "romance-sweden",
   "metadata": {
    "papermill": {
     "duration": 0.01285,
     "end_time": "2021-11-24T02:00:01.066907",
     "exception": false,
     "start_time": "2021-11-24T02:00:01.054057",
     "status": "completed"
    },
    "tags": []
   },
   "outputs": [],
   "source": []
  },
  {
   "cell_type": "code",
   "execution_count": null,
   "id": "dietary-statistics",
   "metadata": {
    "papermill": {
     "duration": 0.013578,
     "end_time": "2021-11-24T02:00:01.095784",
     "exception": false,
     "start_time": "2021-11-24T02:00:01.082206",
     "status": "completed"
    },
    "tags": []
   },
   "outputs": [],
   "source": []
  }
 ],
 "metadata": {
  "kernelspec": {
   "display_name": "Python 3",
   "language": "python",
   "name": "python3"
  },
  "language_info": {
   "codemirror_mode": {
    "name": "ipython",
    "version": 3
   },
   "file_extension": ".py",
   "mimetype": "text/x-python",
   "name": "python",
   "nbconvert_exporter": "python",
   "pygments_lexer": "ipython3",
   "version": "3.6.15"
  },
  "papermill": {
   "default_parameters": {},
   "duration": 12.435093,
   "end_time": "2021-11-24T02:00:01.619264",
   "environment_variables": {},
   "exception": null,
   "input_path": "Market-News.ipynb",
   "output_path": "Market-News.ipynb",
   "parameters": {},
   "start_time": "2021-11-24T01:59:49.184171",
   "version": "2.2.2"
  }
 },
 "nbformat": 4,
 "nbformat_minor": 5
}