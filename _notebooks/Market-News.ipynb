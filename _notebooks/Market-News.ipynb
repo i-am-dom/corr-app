{
 "cells": [
  {
   "cell_type": "markdown",
   "id": "short-greensboro",
   "metadata": {
    "papermill": {
     "duration": 0.016956,
     "end_time": "2022-04-26T03:04:10.559039",
     "exception": false,
     "start_time": "2022-04-26T03:04:10.542083",
     "status": "completed"
    },
    "tags": []
   },
   "source": [
    "# Kriptovaliutų naujienos"
   ]
  },
  {
   "cell_type": "code",
   "execution_count": 1,
   "id": "functioning-knowing",
   "metadata": {
    "execution": {
     "iopub.execute_input": "2022-04-26T03:04:10.591459Z",
     "iopub.status.busy": "2022-04-26T03:04:10.590895Z",
     "iopub.status.idle": "2022-04-26T03:04:11.989304Z",
     "shell.execute_reply": "2022-04-26T03:04:11.988196Z"
    },
    "papermill": {
     "duration": 1.419146,
     "end_time": "2022-04-26T03:04:11.989480",
     "exception": false,
     "start_time": "2022-04-26T03:04:10.570334",
     "status": "completed"
    },
    "tags": []
   },
   "outputs": [],
   "source": [
    "#hide_input\n",
    "import warnings\n",
    "warnings.filterwarnings('ignore')\n",
    "from scripts.read_data import read_api\n",
    "from scripts.read_data import read_news\n",
    "from scripts.read_data import read_covid\n",
    "import matplotlib.pyplot as plt \n",
    "from IPython.display import Markdown as md"
   ]
  },
  {
   "cell_type": "code",
   "execution_count": 2,
   "id": "shared-acceptance",
   "metadata": {
    "execution": {
     "iopub.execute_input": "2022-04-26T03:04:12.017742Z",
     "iopub.status.busy": "2022-04-26T03:04:12.016683Z",
     "iopub.status.idle": "2022-04-26T03:04:22.827330Z",
     "shell.execute_reply": "2022-04-26T03:04:22.825955Z"
    },
    "papermill": {
     "duration": 10.827377,
     "end_time": "2022-04-26T03:04:22.827484",
     "exception": false,
     "start_time": "2022-04-26T03:04:12.000107",
     "status": "completed"
    },
    "tags": []
   },
   "outputs": [],
   "source": [
    "#hide_input\n",
    "blockchain = read_news('blockchain') \n",
    "btc = read_news('btc') \n",
    "xrp = read_news('xrp') \n",
    "trx = read_news('trx') \n",
    "eth = read_news('eth')  \n",
    "ada = read_news('ada')\n",
    "exchange = read_news('exchange') "
   ]
  },
  {
   "cell_type": "code",
   "execution_count": 3,
   "id": "synthetic-notion",
   "metadata": {
    "execution": {
     "iopub.execute_input": "2022-04-26T03:04:22.858022Z",
     "iopub.status.busy": "2022-04-26T03:04:22.857403Z",
     "iopub.status.idle": "2022-04-26T03:04:22.859810Z",
     "shell.execute_reply": "2022-04-26T03:04:22.860283Z"
    },
    "papermill": {
     "duration": 0.019832,
     "end_time": "2022-04-26T03:04:22.860421",
     "exception": false,
     "start_time": "2022-04-26T03:04:22.840589",
     "status": "completed"
    },
    "tags": []
   },
   "outputs": [
    {
     "data": {
      "text/markdown": [
       "- Sustainable energy usage for BTC mining grows nearly 60% in a year.  The latest Bitcoin Mining Council report showed that the mining industry is rapidly adopting sustainable energy sources to secure the largest crypto blockchain. ... [| Skaityti daugiau](https://cointelegraph.com/news/sustainable-energy-usage-for-btc-mining-grows-nearly-60-in-a-year) "
      ],
      "text/plain": [
       "<IPython.core.display.Markdown object>"
      ]
     },
     "execution_count": 3,
     "metadata": {},
     "output_type": "execute_result"
    }
   ],
   "source": [
    "#hide_input\n",
    "#md('##### {}'.format(titleBTC)) \n",
    "md(\"- {}{} {}{} [| Skaityti daugiau]({}) \".format(blockchain['title'],'. ', blockchain['body'], ' ...', blockchain['url']))"
   ]
  },
  {
   "cell_type": "code",
   "execution_count": 4,
   "id": "aging-caution",
   "metadata": {
    "execution": {
     "iopub.execute_input": "2022-04-26T03:04:22.889418Z",
     "iopub.status.busy": "2022-04-26T03:04:22.888465Z",
     "iopub.status.idle": "2022-04-26T03:04:22.891813Z",
     "shell.execute_reply": "2022-04-26T03:04:22.892533Z"
    },
    "papermill": {
     "duration": 0.021487,
     "end_time": "2022-04-26T03:04:22.892762",
     "exception": false,
     "start_time": "2022-04-26T03:04:22.871275",
     "status": "completed"
    },
    "tags": []
   },
   "outputs": [
    {
     "data": {
      "text/markdown": [
       "- Sustainable energy usage for BTC mining grows nearly 60% in a year.  The latest Bitcoin Mining Council report showed that the mining industry is rapidly adopting sustainable energy sources to secure the largest crypto blockchain. ... [| Skaityti daugiau](https://cointelegraph.com/news/sustainable-energy-usage-for-btc-mining-grows-nearly-60-in-a-year) "
      ],
      "text/plain": [
       "<IPython.core.display.Markdown object>"
      ]
     },
     "execution_count": 4,
     "metadata": {},
     "output_type": "execute_result"
    }
   ],
   "source": [
    "#hide_input\n",
    "#md('##### {}'.format(titleBTC)) \n",
    "md(\"- {}{} {}{} [| Skaityti daugiau]({}) \".format(btc['title'],'. ', btc['body'], ' ...', btc['url']))"
   ]
  },
  {
   "cell_type": "code",
   "execution_count": 5,
   "id": "organic-actress",
   "metadata": {
    "execution": {
     "iopub.execute_input": "2022-04-26T03:04:22.919672Z",
     "iopub.status.busy": "2022-04-26T03:04:22.919036Z",
     "iopub.status.idle": "2022-04-26T03:04:22.922452Z",
     "shell.execute_reply": "2022-04-26T03:04:22.921880Z"
    },
    "papermill": {
     "duration": 0.01881,
     "end_time": "2022-04-26T03:04:22.922578",
     "exception": false,
     "start_time": "2022-04-26T03:04:22.903768",
     "status": "completed"
    },
    "tags": []
   },
   "outputs": [
    {
     "data": {
      "text/markdown": [
       "- Ripple price analysis: Bearish swing results in price correcting down to $0.766.  TL;DR Breakdown Ripple price analysis is bearish today. Strong resistance is present at $0.781. Strong support for XRP is found at $0.722. The latest&#160;Ripple&#160;price analysis confirms that a bearish trend has been dominating the charts for the past few days. A decrease in price levels has been observed in the last 24 hours as well,... ... [| Skaityti daugiau](https://www.cryptopolitan.com/ripple-price-analysis-2022-04-01/) "
      ],
      "text/plain": [
       "<IPython.core.display.Markdown object>"
      ]
     },
     "execution_count": 5,
     "metadata": {},
     "output_type": "execute_result"
    }
   ],
   "source": [
    "#hide_input\n",
    "#md('##### {}'.format(titleBTC)) \n",
    "md(\"- {}{} {}{} [| Skaityti daugiau]({}) \".format(xrp['title'],'. ', xrp['body'], ' ...', xrp['url']))"
   ]
  },
  {
   "cell_type": "code",
   "execution_count": 6,
   "id": "prompt-farmer",
   "metadata": {
    "execution": {
     "iopub.execute_input": "2022-04-26T03:04:22.951538Z",
     "iopub.status.busy": "2022-04-26T03:04:22.950731Z",
     "iopub.status.idle": "2022-04-26T03:04:22.953656Z",
     "shell.execute_reply": "2022-04-26T03:04:22.954221Z"
    },
    "papermill": {
     "duration": 0.020639,
     "end_time": "2022-04-26T03:04:22.954340",
     "exception": false,
     "start_time": "2022-04-26T03:04:22.933701",
     "status": "completed"
    },
    "tags": []
   },
   "outputs": [
    {
     "data": {
      "text/markdown": [
       "- GEMTrx – Cloud Mining on Tron Made Easy.  GEM-TRX Links Official Website: https://gemtrx.net/ Official Registration Link: https://gem-trx.com/share?code=344853 Company Introduction: https://www.youtube.com/watch?v=IOTBIUsWicA Official Facebook page: https://www.facebook.com/gemtrxofficial Official Twitter: https://twitter.com/Gem_TRX Telegram Channel: https://t.me/gemtrxchannel Telegram Group Customer Service: https://t.me/gemtrxofficial https://t.me/gemtrxofficial2 WhatsApp Customer Service: https://wa.me/16502729738 Google App Download: https://play.google.com/store/apps/details?id=trx.gemrubyio.app Whitepaper: https://tron.network/static/doc/white_paper_v_2_0.pdf What Is Tron (TRX)? Launched in 2018, TRON is one of the most prominent cryptocurrency projects in [&#8230;]The post GEMTrx – Cloud Mining on Tron Made Easy appeared first on NullTX. ... [| Skaityti daugiau](https://nulltx.com/gemtrx-cloud-mining-on-tron-made-easy/) "
      ],
      "text/plain": [
       "<IPython.core.display.Markdown object>"
      ]
     },
     "execution_count": 6,
     "metadata": {},
     "output_type": "execute_result"
    }
   ],
   "source": [
    "#hide_input\n",
    "#md('##### {}'.format(titleBTC)) \n",
    "md(\"- {}{} {}{} [| Skaityti daugiau]({}) \".format(trx['title'],'. ', trx['body'], ' ...', trx['url']))"
   ]
  },
  {
   "cell_type": "code",
   "execution_count": 7,
   "id": "illegal-greece",
   "metadata": {
    "execution": {
     "iopub.execute_input": "2022-04-26T03:04:22.983287Z",
     "iopub.status.busy": "2022-04-26T03:04:22.982696Z",
     "iopub.status.idle": "2022-04-26T03:04:22.985349Z",
     "shell.execute_reply": "2022-04-26T03:04:22.985830Z"
    },
    "papermill": {
     "duration": 0.019895,
     "end_time": "2022-04-26T03:04:22.985978",
     "exception": false,
     "start_time": "2022-04-26T03:04:22.966083",
     "status": "completed"
    },
    "tags": []
   },
   "outputs": [
    {
     "data": {
      "text/markdown": [
       "- Crypto lender Maple Finance expands support to Solana.  After expanding beyond Ethereum to Solana, Maple Finance expects its Solana app to control $300 million worth of liquidity by the end of 2022. ... [| Skaityti daugiau](https://cointelegraph.com/news/crypto-lender-maple-finance-expands-support-to-solana) "
      ],
      "text/plain": [
       "<IPython.core.display.Markdown object>"
      ]
     },
     "execution_count": 7,
     "metadata": {},
     "output_type": "execute_result"
    }
   ],
   "source": [
    "#hide_input\n",
    "#md('##### {}'.format(titleBTC)) \n",
    "md(\"- {}{} {}{} [| Skaityti daugiau]({}) \".format(eth['title'],'. ', eth['body'], ' ...', eth['url']))"
   ]
  },
  {
   "cell_type": "code",
   "execution_count": 8,
   "id": "sublime-lounge",
   "metadata": {
    "execution": {
     "iopub.execute_input": "2022-04-26T03:04:23.016533Z",
     "iopub.status.busy": "2022-04-26T03:04:23.015935Z",
     "iopub.status.idle": "2022-04-26T03:04:23.018355Z",
     "shell.execute_reply": "2022-04-26T03:04:23.018853Z"
    },
    "papermill": {
     "duration": 0.021216,
     "end_time": "2022-04-26T03:04:23.018982",
     "exception": false,
     "start_time": "2022-04-26T03:04:22.997766",
     "status": "completed"
    },
    "tags": []
   },
   "outputs": [
    {
     "data": {
      "text/markdown": [
       "- Here Are the Most Popular Cryptocurrencies in South Korea: Report.  The five most preferred digital assets by South Korean investors are Bitcoin (BTC), Ripple (XRP), Ether (ETH), Cardano (ADA), and Dogecoin (DOGE). ... [| Skaityti daugiau](https://cryptopotato.com/here-are-the-most-popular-cryptocurrencies-in-south-korea-report/) "
      ],
      "text/plain": [
       "<IPython.core.display.Markdown object>"
      ]
     },
     "execution_count": 8,
     "metadata": {},
     "output_type": "execute_result"
    }
   ],
   "source": [
    "#hide_input\n",
    "#md('##### {}'.format(titleBTC)) \n",
    "md(\"- {}{} {}{} [| Skaityti daugiau]({}) \".format(ada['title'],'. ', ada['body'], ' ...', ada['url']))"
   ]
  },
  {
   "cell_type": "code",
   "execution_count": 9,
   "id": "specified-ordering",
   "metadata": {
    "execution": {
     "iopub.execute_input": "2022-04-26T03:04:23.047239Z",
     "iopub.status.busy": "2022-04-26T03:04:23.046050Z",
     "iopub.status.idle": "2022-04-26T03:04:23.052763Z",
     "shell.execute_reply": "2022-04-26T03:04:23.053224Z"
    },
    "papermill": {
     "duration": 0.021896,
     "end_time": "2022-04-26T03:04:23.053358",
     "exception": false,
     "start_time": "2022-04-26T03:04:23.031462",
     "status": "completed"
    },
    "tags": []
   },
   "outputs": [
    {
     "data": {
      "text/markdown": [
       "- Decentralized Finance Crypto Exchange Uniswap Starts Blocking Addresses Linked To ‘Blocked Activities’.  Uniswap, one of the main decentralized finance exchanges in the cryptocurrency world, is now taking measures to ensure illegal funds cannot be transacted using its platform. The company has already started blocking addresses linked to &#x201C;blocked activities&#x201D; and will apply a filter with data provided by TRM Labs, a blockchain analysis firm that focuses on [&#8230;] ... [| Skaityti daugiau](https://news.bitcoin.com/decentralized-finance-crypto-exchange-uniswap-starts-blocking-addresses-linked-to-blocked-activities/) "
      ],
      "text/plain": [
       "<IPython.core.display.Markdown object>"
      ]
     },
     "execution_count": 9,
     "metadata": {},
     "output_type": "execute_result"
    }
   ],
   "source": [
    "#hide_input\n",
    "#md('##### {}'.format(titleBTC)) \n",
    "md(\"- {}{} {}{} [| Skaityti daugiau]({}) \".format(exchange['title'],'. ', exchange['body'], ' ...', exchange['url']))"
   ]
  },
  {
   "cell_type": "code",
   "execution_count": null,
   "id": "tender-livestock",
   "metadata": {
    "papermill": {
     "duration": 0.017339,
     "end_time": "2022-04-26T03:04:23.084191",
     "exception": false,
     "start_time": "2022-04-26T03:04:23.066852",
     "status": "completed"
    },
    "tags": []
   },
   "outputs": [],
   "source": []
  },
  {
   "cell_type": "code",
   "execution_count": null,
   "id": "appreciated-diamond",
   "metadata": {
    "papermill": {
     "duration": 0.012739,
     "end_time": "2022-04-26T03:04:23.112170",
     "exception": false,
     "start_time": "2022-04-26T03:04:23.099431",
     "status": "completed"
    },
    "tags": []
   },
   "outputs": [],
   "source": []
  },
  {
   "cell_type": "code",
   "execution_count": null,
   "id": "romance-sweden",
   "metadata": {
    "papermill": {
     "duration": 0.012808,
     "end_time": "2022-04-26T03:04:23.138896",
     "exception": false,
     "start_time": "2022-04-26T03:04:23.126088",
     "status": "completed"
    },
    "tags": []
   },
   "outputs": [],
   "source": []
  },
  {
   "cell_type": "code",
   "execution_count": null,
   "id": "dietary-statistics",
   "metadata": {
    "papermill": {
     "duration": 0.012741,
     "end_time": "2022-04-26T03:04:23.164662",
     "exception": false,
     "start_time": "2022-04-26T03:04:23.151921",
     "status": "completed"
    },
    "tags": []
   },
   "outputs": [],
   "source": []
  }
 ],
 "metadata": {
  "kernelspec": {
   "display_name": "Python 3",
   "language": "python",
   "name": "python3"
  },
  "language_info": {
   "codemirror_mode": {
    "name": "ipython",
    "version": 3
   },
   "file_extension": ".py",
   "mimetype": "text/x-python",
   "name": "python",
   "nbconvert_exporter": "python",
   "pygments_lexer": "ipython3",
   "version": "3.6.15"
  },
  "papermill": {
   "default_parameters": {},
   "duration": 14.344511,
   "end_time": "2022-04-26T03:04:23.601551",
   "environment_variables": {},
   "exception": null,
   "input_path": "Market-News.ipynb",
   "output_path": "Market-News.ipynb",
   "parameters": {},
   "start_time": "2022-04-26T03:04:09.257040",
   "version": "2.2.2"
  }
 },
 "nbformat": 4,
 "nbformat_minor": 5
}