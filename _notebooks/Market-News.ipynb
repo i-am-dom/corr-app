{
 "cells": [
  {
   "cell_type": "markdown",
   "id": "short-greensboro",
   "metadata": {
    "papermill": {
     "duration": 0.012682,
     "end_time": "2022-01-19T01:57:19.046350",
     "exception": false,
     "start_time": "2022-01-19T01:57:19.033668",
     "status": "completed"
    },
    "tags": []
   },
   "source": [
    "# Kriptovaliutų naujienos"
   ]
  },
  {
   "cell_type": "code",
   "execution_count": 1,
   "id": "functioning-knowing",
   "metadata": {
    "execution": {
     "iopub.execute_input": "2022-01-19T01:57:19.075195Z",
     "iopub.status.busy": "2022-01-19T01:57:19.074645Z",
     "iopub.status.idle": "2022-01-19T01:57:20.465549Z",
     "shell.execute_reply": "2022-01-19T01:57:20.464719Z"
    },
    "papermill": {
     "duration": 1.410172,
     "end_time": "2022-01-19T01:57:20.465732",
     "exception": false,
     "start_time": "2022-01-19T01:57:19.055560",
     "status": "completed"
    },
    "tags": []
   },
   "outputs": [],
   "source": [
    "#hide_input\n",
    "import warnings\n",
    "warnings.filterwarnings('ignore')\n",
    "from scripts.read_data import read_api\n",
    "from scripts.read_data import read_news\n",
    "from scripts.read_data import read_covid\n",
    "import matplotlib.pyplot as plt \n",
    "from IPython.display import Markdown as md"
   ]
  },
  {
   "cell_type": "code",
   "execution_count": 2,
   "id": "shared-acceptance",
   "metadata": {
    "execution": {
     "iopub.execute_input": "2022-01-19T01:57:20.489882Z",
     "iopub.status.busy": "2022-01-19T01:57:20.488964Z",
     "iopub.status.idle": "2022-01-19T01:57:30.164571Z",
     "shell.execute_reply": "2022-01-19T01:57:30.164997Z"
    },
    "papermill": {
     "duration": 9.690911,
     "end_time": "2022-01-19T01:57:30.165156",
     "exception": false,
     "start_time": "2022-01-19T01:57:20.474245",
     "status": "completed"
    },
    "tags": []
   },
   "outputs": [],
   "source": [
    "#hide_input\n",
    "blockchain = read_news('blockchain') \n",
    "btc = read_news('btc') \n",
    "xrp = read_news('xrp') \n",
    "trx = read_news('trx') \n",
    "eth = read_news('eth')  \n",
    "ada = read_news('ada')\n",
    "exchange = read_news('exchange') "
   ]
  },
  {
   "cell_type": "code",
   "execution_count": 3,
   "id": "synthetic-notion",
   "metadata": {
    "execution": {
     "iopub.execute_input": "2022-01-19T01:57:30.193235Z",
     "iopub.status.busy": "2022-01-19T01:57:30.192665Z",
     "iopub.status.idle": "2022-01-19T01:57:30.194792Z",
     "shell.execute_reply": "2022-01-19T01:57:30.195273Z"
    },
    "papermill": {
     "duration": 0.019656,
     "end_time": "2022-01-19T01:57:30.195421",
     "exception": false,
     "start_time": "2022-01-19T01:57:30.175765",
     "status": "completed"
    },
    "tags": []
   },
   "outputs": [
    {
     "data": {
      "text/markdown": [
       "- This Recently Launched COVID-19 Themed Cryptocurrency Gained Over 127% Today.  With the number of cryptocurrencies on the market, it was only a matter of time before someone released a trending COVID-19 themed token. Covid Slice is precisely that, a BEP-20 token on the Binance Smart Chain that&#8217;s looking to capitalize on the COVID pandemic with their play-to-earn and Web3 enabled blockchain game. Let&#8217;s take a [&#8230;]The post This Recently Launched COVID-19 Themed Cryptocurrency Gained Over 127% Today appeared first on NullTX. ... [| Skaityti daugiau](https://nulltx.com/this-recently-launched-covid-19-themed-cryptocurrency-gained-over-127-today/) "
      ],
      "text/plain": [
       "<IPython.core.display.Markdown object>"
      ]
     },
     "execution_count": 3,
     "metadata": {},
     "output_type": "execute_result"
    }
   ],
   "source": [
    "#hide_input\n",
    "#md('##### {}'.format(titleBTC)) \n",
    "md(\"- {}{} {}{} [| Skaityti daugiau]({}) \".format(blockchain['title'],'. ', blockchain['body'], ' ...', blockchain['url']))"
   ]
  },
  {
   "cell_type": "code",
   "execution_count": 4,
   "id": "aging-caution",
   "metadata": {
    "execution": {
     "iopub.execute_input": "2022-01-19T01:57:30.220663Z",
     "iopub.status.busy": "2022-01-19T01:57:30.220116Z",
     "iopub.status.idle": "2022-01-19T01:57:30.222350Z",
     "shell.execute_reply": "2022-01-19T01:57:30.222761Z"
    },
    "papermill": {
     "duration": 0.01771,
     "end_time": "2022-01-19T01:57:30.222931",
     "exception": false,
     "start_time": "2022-01-19T01:57:30.205221",
     "status": "completed"
    },
    "tags": []
   },
   "outputs": [
    {
     "data": {
      "text/markdown": [
       "- Bitcoin Leverage Flush Looms as 30% of Supply 'Underwater': Report.  Open interest on Bitcoin derivatives remains high while the number of BTC coins \"in profit\" has dipped lower. What does that mean for price? ... [| Skaityti daugiau](https://decrypt.co/90691/bitcoin-leverage-flush-looms-supply-underwater-report) "
      ],
      "text/plain": [
       "<IPython.core.display.Markdown object>"
      ]
     },
     "execution_count": 4,
     "metadata": {},
     "output_type": "execute_result"
    }
   ],
   "source": [
    "#hide_input\n",
    "#md('##### {}'.format(titleBTC)) \n",
    "md(\"- {}{} {}{} [| Skaityti daugiau]({}) \".format(btc['title'],'. ', btc['body'], ' ...', btc['url']))"
   ]
  },
  {
   "cell_type": "code",
   "execution_count": 5,
   "id": "organic-actress",
   "metadata": {
    "execution": {
     "iopub.execute_input": "2022-01-19T01:57:30.250426Z",
     "iopub.status.busy": "2022-01-19T01:57:30.249837Z",
     "iopub.status.idle": "2022-01-19T01:57:30.252096Z",
     "shell.execute_reply": "2022-01-19T01:57:30.252545Z"
    },
    "papermill": {
     "duration": 0.019028,
     "end_time": "2022-01-19T01:57:30.252696",
     "exception": false,
     "start_time": "2022-01-19T01:57:30.233668",
     "status": "completed"
    },
    "tags": []
   },
   "outputs": [
    {
     "data": {
      "text/markdown": [
       "- XRP, Stellar, AAVE Price Analysis: 18 January.  Correlating with the Bitcoin sentiment, XRP skewed towards the sellers after marking oversold readings on its RSI and losing the 61.8% Fibonacci support. Further, Stellar fell below its 20-50-200 SMA. However, these cryptos saw an increasing CMF, keeping the bullish revival hopes alive. On the other hand, AAVE saw a golden cross after the 20 [&#8230;] ... [| Skaityti daugiau](https://ambcrypto.com/xrp-stellar-aave-price-analysis-18-january/) "
      ],
      "text/plain": [
       "<IPython.core.display.Markdown object>"
      ]
     },
     "execution_count": 5,
     "metadata": {},
     "output_type": "execute_result"
    }
   ],
   "source": [
    "#hide_input\n",
    "#md('##### {}'.format(titleBTC)) \n",
    "md(\"- {}{} {}{} [| Skaityti daugiau]({}) \".format(xrp['title'],'. ', xrp['body'], ' ...', xrp['url']))"
   ]
  },
  {
   "cell_type": "code",
   "execution_count": 6,
   "id": "prompt-farmer",
   "metadata": {
    "execution": {
     "iopub.execute_input": "2022-01-19T01:57:30.279783Z",
     "iopub.status.busy": "2022-01-19T01:57:30.279170Z",
     "iopub.status.idle": "2022-01-19T01:57:30.281492Z",
     "shell.execute_reply": "2022-01-19T01:57:30.281980Z"
    },
    "papermill": {
     "duration": 0.019078,
     "end_time": "2022-01-19T01:57:30.282135",
     "exception": false,
     "start_time": "2022-01-19T01:57:30.263057",
     "status": "completed"
    },
    "tags": []
   },
   "outputs": [
    {
     "data": {
      "text/markdown": [
       "- Tron, Cosmos, Fantom Price Analysis: 16 January.  While the broader market refrained from high volatility in the past 24-hours, Cosmos and Fantom eyed to retest their ATH level. Their near-term technicals chose the buyers. But both their CMFs could barely cross the equilibrium. Similarly, Tron saw overbought readings on the Bolinger bands and saw a near-term pullback. Tron (TRX) The buyers finally [&#8230;] ... [| Skaityti daugiau](https://ambcrypto.com/tron-cosmos-fantom-price-analysis-16-january/) "
      ],
      "text/plain": [
       "<IPython.core.display.Markdown object>"
      ]
     },
     "execution_count": 6,
     "metadata": {},
     "output_type": "execute_result"
    }
   ],
   "source": [
    "#hide_input\n",
    "#md('##### {}'.format(titleBTC)) \n",
    "md(\"- {}{} {}{} [| Skaityti daugiau]({}) \".format(trx['title'],'. ', trx['body'], ' ...', trx['url']))"
   ]
  },
  {
   "cell_type": "code",
   "execution_count": 7,
   "id": "illegal-greece",
   "metadata": {
    "execution": {
     "iopub.execute_input": "2022-01-19T01:57:30.310728Z",
     "iopub.status.busy": "2022-01-19T01:57:30.310158Z",
     "iopub.status.idle": "2022-01-19T01:57:30.312912Z",
     "shell.execute_reply": "2022-01-19T01:57:30.313305Z"
    },
    "papermill": {
     "duration": 0.019715,
     "end_time": "2022-01-19T01:57:30.313455",
     "exception": false,
     "start_time": "2022-01-19T01:57:30.293740",
     "status": "completed"
    },
    "tags": []
   },
   "outputs": [
    {
     "data": {
      "text/markdown": [
       "- Ethereum NFT Badge App POAP Raises $10M to Fund Development.  The popular event badge app developer overcame a rough first year and now looks to the future. ... [| Skaityti daugiau](https://decrypt.co/90689/ethereum-nft-badge-app-poap-10m-seed-raise) "
      ],
      "text/plain": [
       "<IPython.core.display.Markdown object>"
      ]
     },
     "execution_count": 7,
     "metadata": {},
     "output_type": "execute_result"
    }
   ],
   "source": [
    "#hide_input\n",
    "#md('##### {}'.format(titleBTC)) \n",
    "md(\"- {}{} {}{} [| Skaityti daugiau]({}) \".format(eth['title'],'. ', eth['body'], ' ...', eth['url']))"
   ]
  },
  {
   "cell_type": "code",
   "execution_count": 8,
   "id": "sublime-lounge",
   "metadata": {
    "execution": {
     "iopub.execute_input": "2022-01-19T01:57:30.341921Z",
     "iopub.status.busy": "2022-01-19T01:57:30.341332Z",
     "iopub.status.idle": "2022-01-19T01:57:30.347407Z",
     "shell.execute_reply": "2022-01-19T01:57:30.346960Z"
    },
    "papermill": {
     "duration": 0.023088,
     "end_time": "2022-01-19T01:57:30.347541",
     "exception": false,
     "start_time": "2022-01-19T01:57:30.324453",
     "status": "completed"
    },
    "tags": []
   },
   "outputs": [
    {
     "data": {
      "text/markdown": [
       "- Cardano: Outperforming Ethereum In 2022.  ADA has been rallying strongly in the last week, while other cryptos lose ground.This is due in part to the upcoming launch of its DEX, SundaeSwap.ADA has the potential to prove itself in 2022 and challenge Ethereum. ... [| Skaityti daugiau](https://seekingalpha.com/article/4480218-cardano-outperforming-ethereum-2022?utm_source=cryptocompare.com&utm_medium=referral) "
      ],
      "text/plain": [
       "<IPython.core.display.Markdown object>"
      ]
     },
     "execution_count": 8,
     "metadata": {},
     "output_type": "execute_result"
    }
   ],
   "source": [
    "#hide_input\n",
    "#md('##### {}'.format(titleBTC)) \n",
    "md(\"- {}{} {}{} [| Skaityti daugiau]({}) \".format(ada['title'],'. ', ada['body'], ' ...', ada['url']))"
   ]
  },
  {
   "cell_type": "code",
   "execution_count": 9,
   "id": "specified-ordering",
   "metadata": {
    "execution": {
     "iopub.execute_input": "2022-01-19T01:57:30.379081Z",
     "iopub.status.busy": "2022-01-19T01:57:30.378428Z",
     "iopub.status.idle": "2022-01-19T01:57:30.383089Z",
     "shell.execute_reply": "2022-01-19T01:57:30.382631Z"
    },
    "papermill": {
     "duration": 0.022545,
     "end_time": "2022-01-19T01:57:30.383222",
     "exception": false,
     "start_time": "2022-01-19T01:57:30.360677",
     "status": "completed"
    },
    "tags": []
   },
   "outputs": [
    {
     "data": {
      "text/markdown": [
       "- BitMEX Bought German Bank To Serve Regulated Crypto Products To The Region.  Crypto derivatives exchange BitMEX is making big moves in Europe. One of its subsidiaries, BXM Operations AG, just went out and bought a bank in Germany. We’re at that stage of the adoption cycle. In their announcement press release, BitMEX says they acquired the bank with “the ambitious goal of establishing a one-stop shop for [&#8230;] ... [| Skaityti daugiau](https://bitcoinist.com/bitmex-bought-german-bank-to-serve-the-region/) "
      ],
      "text/plain": [
       "<IPython.core.display.Markdown object>"
      ]
     },
     "execution_count": 9,
     "metadata": {},
     "output_type": "execute_result"
    }
   ],
   "source": [
    "#hide_input\n",
    "#md('##### {}'.format(titleBTC)) \n",
    "md(\"- {}{} {}{} [| Skaityti daugiau]({}) \".format(exchange['title'],'. ', exchange['body'], ' ...', exchange['url']))"
   ]
  },
  {
   "cell_type": "code",
   "execution_count": null,
   "id": "tender-livestock",
   "metadata": {
    "papermill": {
     "duration": 0.012063,
     "end_time": "2022-01-19T01:57:30.407961",
     "exception": false,
     "start_time": "2022-01-19T01:57:30.395898",
     "status": "completed"
    },
    "tags": []
   },
   "outputs": [],
   "source": []
  },
  {
   "cell_type": "code",
   "execution_count": null,
   "id": "appreciated-diamond",
   "metadata": {
    "papermill": {
     "duration": 0.011687,
     "end_time": "2022-01-19T01:57:30.431272",
     "exception": false,
     "start_time": "2022-01-19T01:57:30.419585",
     "status": "completed"
    },
    "tags": []
   },
   "outputs": [],
   "source": []
  },
  {
   "cell_type": "code",
   "execution_count": null,
   "id": "romance-sweden",
   "metadata": {
    "papermill": {
     "duration": 0.011577,
     "end_time": "2022-01-19T01:57:30.454473",
     "exception": false,
     "start_time": "2022-01-19T01:57:30.442896",
     "status": "completed"
    },
    "tags": []
   },
   "outputs": [],
   "source": []
  },
  {
   "cell_type": "code",
   "execution_count": null,
   "id": "dietary-statistics",
   "metadata": {
    "papermill": {
     "duration": 0.01164,
     "end_time": "2022-01-19T01:57:30.477743",
     "exception": false,
     "start_time": "2022-01-19T01:57:30.466103",
     "status": "completed"
    },
    "tags": []
   },
   "outputs": [],
   "source": []
  }
 ],
 "metadata": {
  "kernelspec": {
   "display_name": "Python 3",
   "language": "python",
   "name": "python3"
  },
  "language_info": {
   "codemirror_mode": {
    "name": "ipython",
    "version": 3
   },
   "file_extension": ".py",
   "mimetype": "text/x-python",
   "name": "python",
   "nbconvert_exporter": "python",
   "pygments_lexer": "ipython3",
   "version": "3.6.15"
  },
  "papermill": {
   "default_parameters": {},
   "duration": 13.355211,
   "end_time": "2022-01-19T01:57:31.110681",
   "environment_variables": {},
   "exception": null,
   "input_path": "Market-News.ipynb",
   "output_path": "Market-News.ipynb",
   "parameters": {},
   "start_time": "2022-01-19T01:57:17.755470",
   "version": "2.2.2"
  }
 },
 "nbformat": 4,
 "nbformat_minor": 5
}