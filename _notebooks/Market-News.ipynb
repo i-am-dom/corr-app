{
 "cells": [
  {
   "cell_type": "markdown",
   "id": "short-greensboro",
   "metadata": {
    "papermill": {
     "duration": 0.016857,
     "end_time": "2021-10-31T02:02:22.882972",
     "exception": false,
     "start_time": "2021-10-31T02:02:22.866115",
     "status": "completed"
    },
    "tags": []
   },
   "source": [
    "# Kriptovaliutų naujienos"
   ]
  },
  {
   "cell_type": "code",
   "execution_count": 1,
   "id": "functioning-knowing",
   "metadata": {
    "execution": {
     "iopub.execute_input": "2021-10-31T02:02:22.914699Z",
     "iopub.status.busy": "2021-10-31T02:02:22.914093Z",
     "iopub.status.idle": "2021-10-31T02:02:24.230444Z",
     "shell.execute_reply": "2021-10-31T02:02:24.229781Z"
    },
    "papermill": {
     "duration": 1.336515,
     "end_time": "2021-10-31T02:02:24.230626",
     "exception": false,
     "start_time": "2021-10-31T02:02:22.894111",
     "status": "completed"
    },
    "tags": []
   },
   "outputs": [],
   "source": [
    "#hide_input\n",
    "import warnings\n",
    "warnings.filterwarnings('ignore')\n",
    "from scripts.read_data import read_api\n",
    "from scripts.read_data import read_news\n",
    "from scripts.read_data import read_covid\n",
    "import matplotlib.pyplot as plt \n",
    "from IPython.display import Markdown as md"
   ]
  },
  {
   "cell_type": "code",
   "execution_count": 2,
   "id": "shared-acceptance",
   "metadata": {
    "execution": {
     "iopub.execute_input": "2021-10-31T02:02:24.259281Z",
     "iopub.status.busy": "2021-10-31T02:02:24.258160Z",
     "iopub.status.idle": "2021-10-31T02:02:32.692242Z",
     "shell.execute_reply": "2021-10-31T02:02:32.691706Z"
    },
    "papermill": {
     "duration": 8.450289,
     "end_time": "2021-10-31T02:02:32.692378",
     "exception": false,
     "start_time": "2021-10-31T02:02:24.242089",
     "status": "completed"
    },
    "tags": []
   },
   "outputs": [],
   "source": [
    "#hide_input\n",
    "blockchain = read_news('blockchain') \n",
    "btc = read_news('btc') \n",
    "xrp = read_news('xrp') \n",
    "trx = read_news('trx') \n",
    "eth = read_news('eth')  \n",
    "ada = read_news('ada')\n",
    "exchange = read_news('exchange') "
   ]
  },
  {
   "cell_type": "code",
   "execution_count": 3,
   "id": "synthetic-notion",
   "metadata": {
    "execution": {
     "iopub.execute_input": "2021-10-31T02:02:32.719023Z",
     "iopub.status.busy": "2021-10-31T02:02:32.718364Z",
     "iopub.status.idle": "2021-10-31T02:02:32.720720Z",
     "shell.execute_reply": "2021-10-31T02:02:32.721220Z"
    },
    "papermill": {
     "duration": 0.018554,
     "end_time": "2021-10-31T02:02:32.721355",
     "exception": false,
     "start_time": "2021-10-31T02:02:32.702801",
     "status": "completed"
    },
    "tags": []
   },
   "outputs": [
    {
     "data": {
      "text/markdown": [
       "- Elon Musk’s Alma Mater To Begin Accepting Bitcoin For Tuition Fees.  Wharton School of the University of Pennsylvania has announced that prospective students can pay their tuition fees through cryptocurrency. The adoption is limited to the novel online blockchain and digital program that is expected to commence in January. The school has an interesting history with cryptocurrencies and blockchain technology. A top US Business school has [&#8230;] ... [| Skaityti daugiau](https://zycrypto.com/elon-musks-alma-mater-to-begin-accepting-bitcoin-for-tuition-fees/) "
      ],
      "text/plain": [
       "<IPython.core.display.Markdown object>"
      ]
     },
     "execution_count": 3,
     "metadata": {},
     "output_type": "execute_result"
    }
   ],
   "source": [
    "#hide_input\n",
    "#md('##### {}'.format(titleBTC)) \n",
    "md(\"- {}{} {}{} [| Skaityti daugiau]({}) \".format(blockchain['title'],'. ', blockchain['body'], ' ...', blockchain['url']))"
   ]
  },
  {
   "cell_type": "code",
   "execution_count": 4,
   "id": "aging-caution",
   "metadata": {
    "execution": {
     "iopub.execute_input": "2021-10-31T02:02:32.746696Z",
     "iopub.status.busy": "2021-10-31T02:02:32.746099Z",
     "iopub.status.idle": "2021-10-31T02:02:32.749164Z",
     "shell.execute_reply": "2021-10-31T02:02:32.748701Z"
    },
    "papermill": {
     "duration": 0.017712,
     "end_time": "2021-10-31T02:02:32.749272",
     "exception": false,
     "start_time": "2021-10-31T02:02:32.731560",
     "status": "completed"
    },
    "tags": []
   },
   "outputs": [
    {
     "data": {
      "text/markdown": [
       "- Apple Co-Founder Steve Wozniak Warns Governments Will Never Allow Crypto to Be Out of Their Control.  Apple co-founder Steve Wozniak sees bitcoin as mathematical purity, praising its fixed supply. However, he said that governments will never allow it to be out of their control. &#x201C;If it got to the point where everything is being done in crypto and didn&#x2019;t pass through governments for observation and taxation and all that, governments would [&#8230;] ... [| Skaityti daugiau](https://news.bitcoin.com/apple-co-founder-steve-wozniak-warns-governments-will-never-allow-crypto-to-be-out-of-their-control/) "
      ],
      "text/plain": [
       "<IPython.core.display.Markdown object>"
      ]
     },
     "execution_count": 4,
     "metadata": {},
     "output_type": "execute_result"
    }
   ],
   "source": [
    "#hide_input\n",
    "#md('##### {}'.format(titleBTC)) \n",
    "md(\"- {}{} {}{} [| Skaityti daugiau]({}) \".format(btc['title'],'. ', btc['body'], ' ...', btc['url']))"
   ]
  },
  {
   "cell_type": "code",
   "execution_count": 5,
   "id": "organic-actress",
   "metadata": {
    "execution": {
     "iopub.execute_input": "2021-10-31T02:02:32.775577Z",
     "iopub.status.busy": "2021-10-31T02:02:32.774939Z",
     "iopub.status.idle": "2021-10-31T02:02:32.778486Z",
     "shell.execute_reply": "2021-10-31T02:02:32.778015Z"
    },
    "papermill": {
     "duration": 0.0193,
     "end_time": "2021-10-31T02:02:32.778603",
     "exception": false,
     "start_time": "2021-10-31T02:02:32.759303",
     "status": "completed"
    },
    "tags": []
   },
   "outputs": [
    {
     "data": {
      "text/markdown": [
       "- XRP Lawsuit: Court grants Ripple’s motion to seal ‘privilege logs’.  In its Q3 market performance report, Ripple discussed the SEC vs Ripple Labs lawsuit. The company admitted that though the proceedings felt like they were taking time, it would look to &#8220;expedite the case as quickly as possible.&#8221; Now, SEC vs Ripple is back in the news after the court reportedly granted a motion filed [&#8230;] ... [| Skaityti daugiau](https://ambcrypto.com/xrp-lawsuit-court-grants-ripples-motion-to-seal-privilege-logs/) "
      ],
      "text/plain": [
       "<IPython.core.display.Markdown object>"
      ]
     },
     "execution_count": 5,
     "metadata": {},
     "output_type": "execute_result"
    }
   ],
   "source": [
    "#hide_input\n",
    "#md('##### {}'.format(titleBTC)) \n",
    "md(\"- {}{} {}{} [| Skaityti daugiau]({}) \".format(xrp['title'],'. ', xrp['body'], ' ...', xrp['url']))"
   ]
  },
  {
   "cell_type": "code",
   "execution_count": 6,
   "id": "prompt-farmer",
   "metadata": {
    "execution": {
     "iopub.execute_input": "2021-10-31T02:02:32.806268Z",
     "iopub.status.busy": "2021-10-31T02:02:32.805674Z",
     "iopub.status.idle": "2021-10-31T02:02:32.810122Z",
     "shell.execute_reply": "2021-10-31T02:02:32.809682Z"
    },
    "papermill": {
     "duration": 0.020528,
     "end_time": "2021-10-31T02:02:32.810232",
     "exception": false,
     "start_time": "2021-10-31T02:02:32.789704",
     "status": "completed"
    },
    "tags": []
   },
   "outputs": [
    {
     "data": {
      "text/markdown": [
       "- BitTorrent & Tron Experience A Sudden Gush Of Volume, Will BTT And TRX Price Rise?.  The post BitTorrent &amp; Tron Experience A Sudden Gush Of Volume, Will BTT And TRX Price Rise? appeared first on Coinpedia - Fintech &amp; Cryptocurreny News Media| Crypto GuideMany blockchains are emerging in the crypto space, BitTorrent Chain recently went live to mark its existence among flourishing blockchains. In no time, BTT received a huge influx which uplifted the price by nearly 15%. However, the asset has experienced a slight dump, yet managed to sustain above crucial levels. Hence the probability of a &#8230; ... [| Skaityti daugiau](https://coinpedia.org/price-analysis/bittorrent-tron-experience-volume-influx-will-btt-trx-price-rise/) "
      ],
      "text/plain": [
       "<IPython.core.display.Markdown object>"
      ]
     },
     "execution_count": 6,
     "metadata": {},
     "output_type": "execute_result"
    }
   ],
   "source": [
    "#hide_input\n",
    "#md('##### {}'.format(titleBTC)) \n",
    "md(\"- {}{} {}{} [| Skaityti daugiau]({}) \".format(trx['title'],'. ', trx['body'], ' ...', trx['url']))"
   ]
  },
  {
   "cell_type": "code",
   "execution_count": 7,
   "id": "illegal-greece",
   "metadata": {
    "execution": {
     "iopub.execute_input": "2021-10-31T02:02:32.838317Z",
     "iopub.status.busy": "2021-10-31T02:02:32.837764Z",
     "iopub.status.idle": "2021-10-31T02:02:32.840439Z",
     "shell.execute_reply": "2021-10-31T02:02:32.840928Z"
    },
    "papermill": {
     "duration": 0.019876,
     "end_time": "2021-10-31T02:02:32.841061",
     "exception": false,
     "start_time": "2021-10-31T02:02:32.821185",
     "status": "completed"
    },
    "tags": []
   },
   "outputs": [
    {
     "data": {
      "text/markdown": [
       "- What happened to the $60 million raised by this dog-themed DeFi project.  An investor reportedly lost $470,000 to a dog-inspired DeFi project. In an interview with CNBC, the investor admitted, &#8220;We, in crypto, tend to have a &#8216;buy first, do research later,&#8217; mentality.&#8221; The said project, AnubisDAO, raised $60 million with its ANKH token sale. However, upon a closer look at the community, it appears the entire [&#8230;] ... [| Skaityti daugiau](https://ambcrypto.com/what-happened-to-the-60-million-raised-by-this-dog-themed-defi-project/) "
      ],
      "text/plain": [
       "<IPython.core.display.Markdown object>"
      ]
     },
     "execution_count": 7,
     "metadata": {},
     "output_type": "execute_result"
    }
   ],
   "source": [
    "#hide_input\n",
    "#md('##### {}'.format(titleBTC)) \n",
    "md(\"- {}{} {}{} [| Skaityti daugiau]({}) \".format(eth['title'],'. ', eth['body'], ' ...', eth['url']))"
   ]
  },
  {
   "cell_type": "code",
   "execution_count": 8,
   "id": "sublime-lounge",
   "metadata": {
    "execution": {
     "iopub.execute_input": "2021-10-31T02:02:32.869414Z",
     "iopub.status.busy": "2021-10-31T02:02:32.868860Z",
     "iopub.status.idle": "2021-10-31T02:02:32.872671Z",
     "shell.execute_reply": "2021-10-31T02:02:32.873250Z"
    },
    "papermill": {
     "duration": 0.020887,
     "end_time": "2021-10-31T02:02:32.873370",
     "exception": false,
     "start_time": "2021-10-31T02:02:32.852483",
     "status": "completed"
    },
    "tags": []
   },
   "outputs": [
    {
     "data": {
      "text/markdown": [
       "- Cardano’s Project Catalyst allocates funds to dcSpark for improving ecosystem.  Cardano&#8217;s Project Catalyst is a matter of some intrigue: a decentralized fund of about $1 billion meant to be voted upon and allocated to those with proposals to improve the Cardano ecosystem. On 29 October, an ecosystem builder announced that not one, but all of its proposals, had been funded thanks to Catalyst. Change is [&#8230;] ... [| Skaityti daugiau](https://ambcrypto.com/cardanos-project-catalyst-allocates-funds-to-dcspark-for-improving-ecosystem/) "
      ],
      "text/plain": [
       "<IPython.core.display.Markdown object>"
      ]
     },
     "execution_count": 8,
     "metadata": {},
     "output_type": "execute_result"
    }
   ],
   "source": [
    "#hide_input\n",
    "#md('##### {}'.format(titleBTC)) \n",
    "md(\"- {}{} {}{} [| Skaityti daugiau]({}) \".format(ada['title'],'. ', ada['body'], ' ...', ada['url']))"
   ]
  },
  {
   "cell_type": "code",
   "execution_count": 9,
   "id": "specified-ordering",
   "metadata": {
    "execution": {
     "iopub.execute_input": "2021-10-31T02:02:32.902656Z",
     "iopub.status.busy": "2021-10-31T02:02:32.902105Z",
     "iopub.status.idle": "2021-10-31T02:02:32.906071Z",
     "shell.execute_reply": "2021-10-31T02:02:32.905595Z"
    },
    "papermill": {
     "duration": 0.020758,
     "end_time": "2021-10-31T02:02:32.906189",
     "exception": false,
     "start_time": "2021-10-31T02:02:32.885431",
     "status": "completed"
    },
    "tags": []
   },
   "outputs": [
    {
     "data": {
      "text/markdown": [
       "- Here Are the Top Crypto Assets To Own As New Month Arrives, According to Crypto Trader Lark Davis.  Popular crypto trader Lark Davis is naming five altcoins that he thinks can print huge gains amid sustained fundamental developments. Davis tells his 448,000 YouTube subscribers that he&#8217;s looking at EGLD, the native asset for the high throughput blockchain project Elrond. The analyst cites the news that Elrond&#8217;s Maiar decentralized exchange (DEX) is launching next [&#8230;]The post Here Are the Top Crypto Assets To Own As New Month Arrives, According to Crypto Trader Lark Davis appeared first on The Daily Hodl. ... [| Skaityti daugiau](https://dailyhodl.com/2021/10/30/here-are-the-top-crypto-assets-to-own-as-new-month-arrives-according-to-crypto-trader-lark-davis/) "
      ],
      "text/plain": [
       "<IPython.core.display.Markdown object>"
      ]
     },
     "execution_count": 9,
     "metadata": {},
     "output_type": "execute_result"
    }
   ],
   "source": [
    "#hide_input\n",
    "#md('##### {}'.format(titleBTC)) \n",
    "md(\"- {}{} {}{} [| Skaityti daugiau]({}) \".format(exchange['title'],'. ', exchange['body'], ' ...', exchange['url']))"
   ]
  },
  {
   "cell_type": "code",
   "execution_count": null,
   "id": "tender-livestock",
   "metadata": {
    "papermill": {
     "duration": 0.011747,
     "end_time": "2021-10-31T02:02:32.929252",
     "exception": false,
     "start_time": "2021-10-31T02:02:32.917505",
     "status": "completed"
    },
    "tags": []
   },
   "outputs": [],
   "source": []
  },
  {
   "cell_type": "code",
   "execution_count": null,
   "id": "appreciated-diamond",
   "metadata": {
    "papermill": {
     "duration": 0.011971,
     "end_time": "2021-10-31T02:02:32.953144",
     "exception": false,
     "start_time": "2021-10-31T02:02:32.941173",
     "status": "completed"
    },
    "tags": []
   },
   "outputs": [],
   "source": []
  },
  {
   "cell_type": "code",
   "execution_count": null,
   "id": "romance-sweden",
   "metadata": {
    "papermill": {
     "duration": 0.012382,
     "end_time": "2021-10-31T02:02:32.977381",
     "exception": false,
     "start_time": "2021-10-31T02:02:32.964999",
     "status": "completed"
    },
    "tags": []
   },
   "outputs": [],
   "source": []
  },
  {
   "cell_type": "code",
   "execution_count": null,
   "id": "dietary-statistics",
   "metadata": {
    "papermill": {
     "duration": 0.012111,
     "end_time": "2021-10-31T02:02:33.001253",
     "exception": false,
     "start_time": "2021-10-31T02:02:32.989142",
     "status": "completed"
    },
    "tags": []
   },
   "outputs": [],
   "source": []
  }
 ],
 "metadata": {
  "kernelspec": {
   "display_name": "Python 3",
   "language": "python",
   "name": "python3"
  },
  "language_info": {
   "codemirror_mode": {
    "name": "ipython",
    "version": 3
   },
   "file_extension": ".py",
   "mimetype": "text/x-python",
   "name": "python",
   "nbconvert_exporter": "python",
   "pygments_lexer": "ipython3",
   "version": "3.6.15"
  },
  "papermill": {
   "default_parameters": {},
   "duration": 11.851528,
   "end_time": "2021-10-31T02:02:33.422547",
   "environment_variables": {},
   "exception": null,
   "input_path": "Market-News.ipynb",
   "output_path": "Market-News.ipynb",
   "parameters": {},
   "start_time": "2021-10-31T02:02:21.571019",
   "version": "2.2.2"
  }
 },
 "nbformat": 4,
 "nbformat_minor": 5
}