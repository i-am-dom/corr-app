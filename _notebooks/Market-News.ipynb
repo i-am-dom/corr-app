{
 "cells": [
  {
   "cell_type": "markdown",
   "id": "short-greensboro",
   "metadata": {
    "papermill": {
     "duration": 0.014797,
     "end_time": "2022-10-11T03:36:22.795383",
     "exception": false,
     "start_time": "2022-10-11T03:36:22.780586",
     "status": "completed"
    },
    "tags": []
   },
   "source": [
    "# Kriptovaliutų naujienos"
   ]
  },
  {
   "cell_type": "code",
   "execution_count": 1,
   "id": "functioning-knowing",
   "metadata": {
    "execution": {
     "iopub.execute_input": "2022-10-11T03:36:22.831486Z",
     "iopub.status.busy": "2022-10-11T03:36:22.830777Z",
     "iopub.status.idle": "2022-10-11T03:36:24.257149Z",
     "shell.execute_reply": "2022-10-11T03:36:24.256561Z"
    },
    "papermill": {
     "duration": 1.450247,
     "end_time": "2022-10-11T03:36:24.257309",
     "exception": false,
     "start_time": "2022-10-11T03:36:22.807062",
     "status": "completed"
    },
    "tags": []
   },
   "outputs": [],
   "source": [
    "#hide_input\n",
    "import warnings\n",
    "warnings.filterwarnings('ignore')\n",
    "from scripts.read_data import read_api\n",
    "from scripts.read_data import read_news\n",
    "from scripts.read_data import read_covid\n",
    "import matplotlib.pyplot as plt \n",
    "from IPython.display import Markdown as md"
   ]
  },
  {
   "cell_type": "code",
   "execution_count": 2,
   "id": "shared-acceptance",
   "metadata": {
    "execution": {
     "iopub.execute_input": "2022-10-11T03:36:24.286128Z",
     "iopub.status.busy": "2022-10-11T03:36:24.284956Z",
     "iopub.status.idle": "2022-10-11T03:36:34.017684Z",
     "shell.execute_reply": "2022-10-11T03:36:34.016509Z"
    },
    "papermill": {
     "duration": 9.749862,
     "end_time": "2022-10-11T03:36:34.017838",
     "exception": false,
     "start_time": "2022-10-11T03:36:24.267976",
     "status": "completed"
    },
    "tags": []
   },
   "outputs": [],
   "source": [
    "#hide_input\n",
    "blockchain = read_news('blockchain') \n",
    "btc = read_news('btc') \n",
    "xrp = read_news('xrp') \n",
    "trx = read_news('trx') \n",
    "eth = read_news('eth')  \n",
    "ada = read_news('ada')\n",
    "exchange = read_news('exchange') "
   ]
  },
  {
   "cell_type": "code",
   "execution_count": 3,
   "id": "synthetic-notion",
   "metadata": {
    "execution": {
     "iopub.execute_input": "2022-10-11T03:36:34.046084Z",
     "iopub.status.busy": "2022-10-11T03:36:34.045399Z",
     "iopub.status.idle": "2022-10-11T03:36:34.050961Z",
     "shell.execute_reply": "2022-10-11T03:36:34.050399Z"
    },
    "papermill": {
     "duration": 0.022536,
     "end_time": "2022-10-11T03:36:34.051084",
     "exception": false,
     "start_time": "2022-10-11T03:36:34.028548",
     "status": "completed"
    },
    "tags": []
   },
   "outputs": [
    {
     "data": {
      "text/markdown": [
       "- Does Solana ($SOL) Have a Max Supply?.  Solana is a high-performance blockchain offering fast and low-cost transactions. It’s a layer-1 platform that supports smart contracts so developers can create their decentralized applications (DApps) on Solana. One question arises from the crypto community —Does Solana have a capped supply of SOL, the blockchain’s native token? Does Solana Have a Supply Cap? Solana doesn’t […] ... [| Skaityti daugiau](https://www.cryptoglobe.com/latest/2022/10/solana-max-supply/) "
      ],
      "text/plain": [
       "<IPython.core.display.Markdown object>"
      ]
     },
     "execution_count": 3,
     "metadata": {},
     "output_type": "execute_result"
    }
   ],
   "source": [
    "#hide_input\n",
    "#md('##### {}'.format(titleBTC)) \n",
    "md(\"- {}{} {}{} [| Skaityti daugiau]({}) \".format(blockchain['title'],'. ', blockchain['body'], ' ...', blockchain['url']))"
   ]
  },
  {
   "cell_type": "code",
   "execution_count": 4,
   "id": "aging-caution",
   "metadata": {
    "execution": {
     "iopub.execute_input": "2022-10-11T03:36:34.078339Z",
     "iopub.status.busy": "2022-10-11T03:36:34.077493Z",
     "iopub.status.idle": "2022-10-11T03:36:34.081260Z",
     "shell.execute_reply": "2022-10-11T03:36:34.080774Z"
    },
    "papermill": {
     "duration": 0.01963,
     "end_time": "2022-10-11T03:36:34.081375",
     "exception": false,
     "start_time": "2022-10-11T03:36:34.061745",
     "status": "completed"
    },
    "tags": []
   },
   "outputs": [
    {
     "data": {
      "text/markdown": [
       "- Brazilian Tax Authority Records 12,000 Institutional Crypto Holdings.  Crypto is becoming mainstream in Brazil, with 7.8% of the country’s population (about 16 million people) owning cryptocurrency. As a result, exchanges such as Binance, Crypto.com, and Coinbase are soaring in Brazil. Brazil is becoming the primary crypto market of Latin America as records show over 12,000 Brazilian companies have crypto holdings. Brazilian Tax authority released August figures showing the highest number of holdings ever recorded. In addition, amid high inflation rates in the country, cryptocurrencies saw increased adoption in August. Related Reading: LUNC Community Clamors For Coinbase Listing, Can It Reach $1? According to reports, Receita Federal do Brazil (RFB) recorded 12,053 companies that declared crypto in the balance sheet in August 2022. From the RFB release, Bitcoin is the highest among the crypto holdings, with Tether stablecoin tailing closely after BTC. In addition, the August numbers are the highest so far, with a 6.1% increase from the July number of 11,360. Rundown Of Brazil’s August Crypto Transaction Records While the number of institutional investors increased, individual crypto investment reduced from July to 1.3 million in August. However, the total number of holdings reduced, with August showing $2.1 billion, which may be due to the current bear market. Tether stablecoin USDT got the highest transaction volume, with over $1.42 billion moved across 80,000 transactions in August. This value ... ... [| Skaityti daugiau](https://www.newsbtc.com/news/brazilian-tax-authority-records-12000-institutional-crypto-holdings/) "
      ],
      "text/plain": [
       "<IPython.core.display.Markdown object>"
      ]
     },
     "execution_count": 4,
     "metadata": {},
     "output_type": "execute_result"
    }
   ],
   "source": [
    "#hide_input\n",
    "#md('##### {}'.format(titleBTC)) \n",
    "md(\"- {}{} {}{} [| Skaityti daugiau]({}) \".format(btc['title'],'. ', btc['body'], ' ...', btc['url']))"
   ]
  },
  {
   "cell_type": "code",
   "execution_count": 5,
   "id": "organic-actress",
   "metadata": {
    "execution": {
     "iopub.execute_input": "2022-10-11T03:36:34.108524Z",
     "iopub.status.busy": "2022-10-11T03:36:34.107805Z",
     "iopub.status.idle": "2022-10-11T03:36:34.111430Z",
     "shell.execute_reply": "2022-10-11T03:36:34.110880Z"
    },
    "papermill": {
     "duration": 0.019308,
     "end_time": "2022-10-11T03:36:34.111547",
     "exception": false,
     "start_time": "2022-10-11T03:36:34.092239",
     "status": "completed"
    },
    "tags": []
   },
   "outputs": [
    {
     "data": {
      "text/markdown": [
       "- Cardano’s Hoskinson: Peddling ‘Conspiracy Theories’ Will Not Help Ripple Win.  Charles Hoskinson said the corruption discussion within the SEC is a completely separate matter and should be treated as such. ... [| Skaityti daugiau](https://cryptopotato.com/cardanos-hoskinson-peddling-conspiracy-theories-will-not-help-ripple-win/) "
      ],
      "text/plain": [
       "<IPython.core.display.Markdown object>"
      ]
     },
     "execution_count": 5,
     "metadata": {},
     "output_type": "execute_result"
    }
   ],
   "source": [
    "#hide_input\n",
    "#md('##### {}'.format(titleBTC)) \n",
    "md(\"- {}{} {}{} [| Skaityti daugiau]({}) \".format(xrp['title'],'. ', xrp['body'], ' ...', xrp['url']))"
   ]
  },
  {
   "cell_type": "code",
   "execution_count": 6,
   "id": "prompt-farmer",
   "metadata": {
    "execution": {
     "iopub.execute_input": "2022-10-11T03:36:34.139469Z",
     "iopub.status.busy": "2022-10-11T03:36:34.138777Z",
     "iopub.status.idle": "2022-10-11T03:36:34.142677Z",
     "shell.execute_reply": "2022-10-11T03:36:34.142085Z"
    },
    "papermill": {
     "duration": 0.019971,
     "end_time": "2022-10-11T03:36:34.142800",
     "exception": false,
     "start_time": "2022-10-11T03:36:34.122829",
     "status": "completed"
    },
    "tags": []
   },
   "outputs": [
    {
     "data": {
      "text/markdown": [
       "- Biggest Crypto Gainers Today 10 October – Quant (QNT), Battle Infinity (IBAT), Chainlink ( LINK ), Huobi Token (HT), Terra Classic (LUNC), Tron (TRX).  During the early European session, the cryptocurrency market was slightly bearish, with the global crypto market cap falling from $936 billion to $933 billion. Despite a slowdown in the crypto market, leading crypto coins like Bitcoin and Ethereum prices are experiencing choppy sessions. ...Read More: Biggest Crypto Gainers Today 10 October – Quant (QNT), Battle Infinity (IBAT), Chainlink ( LINK ), Huobi Token (HT), Terra Classic (LUNC), Tron (TRX) ... [| Skaityti daugiau](https://cryptonews.com/news/biggest-crypto-gainers-today-10-october-quant-qnt-battle-infinity-ibat-chainlink-link-huobi-token-ht-terra-classic-lunc-tron-trx.htm) "
      ],
      "text/plain": [
       "<IPython.core.display.Markdown object>"
      ]
     },
     "execution_count": 6,
     "metadata": {},
     "output_type": "execute_result"
    }
   ],
   "source": [
    "#hide_input\n",
    "#md('##### {}'.format(titleBTC)) \n",
    "md(\"- {}{} {}{} [| Skaityti daugiau]({}) \".format(trx['title'],'. ', trx['body'], ' ...', trx['url']))"
   ]
  },
  {
   "cell_type": "code",
   "execution_count": 7,
   "id": "illegal-greece",
   "metadata": {
    "execution": {
     "iopub.execute_input": "2022-10-11T03:36:34.173542Z",
     "iopub.status.busy": "2022-10-11T03:36:34.172661Z",
     "iopub.status.idle": "2022-10-11T03:36:34.175943Z",
     "shell.execute_reply": "2022-10-11T03:36:34.176615Z"
    },
    "papermill": {
     "duration": 0.022125,
     "end_time": "2022-10-11T03:36:34.176780",
     "exception": false,
     "start_time": "2022-10-11T03:36:34.154655",
     "status": "completed"
    },
    "tags": []
   },
   "outputs": [
    {
     "data": {
      "text/markdown": [
       "- Billionaire Paul Tudor Jones Expects Bitcoin Price to Be ‘Much Higher’ Than Today.  Billionaire hedge fund manager Paul Tudor Jones says cryptocurrencies, specifically bitcoin and ethereum, will be &#x201C;at a value much higher than where we are today.&#x201D; Confirming that he still owns bitcoin, the famed hedge fund manager revealed that he &#x201C;always&#x201D; has a small allocation of bitcoin in his portfolio. Famed Hedge Fund Manager Paul Tudor [&#8230;] ... [| Skaityti daugiau](https://news.bitcoin.com/billionaire-paul-tudor-jones-expects-bitcoin-price-to-be-much-higher-than-today/) "
      ],
      "text/plain": [
       "<IPython.core.display.Markdown object>"
      ]
     },
     "execution_count": 7,
     "metadata": {},
     "output_type": "execute_result"
    }
   ],
   "source": [
    "#hide_input\n",
    "#md('##### {}'.format(titleBTC)) \n",
    "md(\"- {}{} {}{} [| Skaityti daugiau]({}) \".format(eth['title'],'. ', eth['body'], ' ...', eth['url']))"
   ]
  },
  {
   "cell_type": "code",
   "execution_count": 8,
   "id": "sublime-lounge",
   "metadata": {
    "execution": {
     "iopub.execute_input": "2022-10-11T03:36:34.208236Z",
     "iopub.status.busy": "2022-10-11T03:36:34.207563Z",
     "iopub.status.idle": "2022-10-11T03:36:34.211223Z",
     "shell.execute_reply": "2022-10-11T03:36:34.210679Z"
    },
    "papermill": {
     "duration": 0.021194,
     "end_time": "2022-10-11T03:36:34.211340",
     "exception": false,
     "start_time": "2022-10-11T03:36:34.190146",
     "status": "completed"
    },
    "tags": []
   },
   "outputs": [
    {
     "data": {
      "text/markdown": [
       "- Cardano’s Hoskinson: Peddling ‘Conspiracy Theories’ Will Not Help Ripple Win.  Charles Hoskinson said the corruption discussion within the SEC is a completely separate matter and should be treated as such. ... [| Skaityti daugiau](https://cryptopotato.com/cardanos-hoskinson-peddling-conspiracy-theories-will-not-help-ripple-win/) "
      ],
      "text/plain": [
       "<IPython.core.display.Markdown object>"
      ]
     },
     "execution_count": 8,
     "metadata": {},
     "output_type": "execute_result"
    }
   ],
   "source": [
    "#hide_input\n",
    "#md('##### {}'.format(titleBTC)) \n",
    "md(\"- {}{} {}{} [| Skaityti daugiau]({}) \".format(ada['title'],'. ', ada['body'], ' ...', ada['url']))"
   ]
  },
  {
   "cell_type": "code",
   "execution_count": 9,
   "id": "specified-ordering",
   "metadata": {
    "execution": {
     "iopub.execute_input": "2022-10-11T03:36:34.242458Z",
     "iopub.status.busy": "2022-10-11T03:36:34.241731Z",
     "iopub.status.idle": "2022-10-11T03:36:34.245483Z",
     "shell.execute_reply": "2022-10-11T03:36:34.244812Z"
    },
    "papermill": {
     "duration": 0.021622,
     "end_time": "2022-10-11T03:36:34.245605",
     "exception": false,
     "start_time": "2022-10-11T03:36:34.223983",
     "status": "completed"
    },
    "tags": []
   },
   "outputs": [
    {
     "data": {
      "text/markdown": [
       "- Brazilian Tax Authority Records 12,000 Institutional Crypto Holdings.  Crypto is becoming mainstream in Brazil, with 7.8% of the country’s population (about 16 million people) owning cryptocurrency. As a result, exchanges such as Binance, Crypto.com, and Coinbase are soaring in Brazil. Brazil is becoming the primary crypto market of Latin America as records show over 12,000 Brazilian companies have crypto holdings. Brazilian Tax authority released August figures showing the highest number of holdings ever recorded. In addition, amid high inflation rates in the country, cryptocurrencies saw increased adoption in August. Related Reading: LUNC Community Clamors For Coinbase Listing, Can It Reach $1? According to reports, Receita Federal do Brazil (RFB) recorded 12,053 companies that declared crypto in the balance sheet in August 2022. From the RFB release, Bitcoin is the highest among the crypto holdings, with Tether stablecoin tailing closely after BTC. In addition, the August numbers are the highest so far, with a 6.1% increase from the July number of 11,360. Rundown Of Brazil’s August Crypto Transaction Records While the number of institutional investors increased, individual crypto investment reduced from July to 1.3 million in August. However, the total number of holdings reduced, with August showing $2.1 billion, which may be due to the current bear market. Tether stablecoin USDT got the highest transaction volume, with over $1.42 billion moved across 80,000 transactions in August. This value ... ... [| Skaityti daugiau](https://www.newsbtc.com/news/brazilian-tax-authority-records-12000-institutional-crypto-holdings/) "
      ],
      "text/plain": [
       "<IPython.core.display.Markdown object>"
      ]
     },
     "execution_count": 9,
     "metadata": {},
     "output_type": "execute_result"
    }
   ],
   "source": [
    "#hide_input\n",
    "#md('##### {}'.format(titleBTC)) \n",
    "md(\"- {}{} {}{} [| Skaityti daugiau]({}) \".format(exchange['title'],'. ', exchange['body'], ' ...', exchange['url']))"
   ]
  },
  {
   "cell_type": "code",
   "execution_count": null,
   "id": "tender-livestock",
   "metadata": {
    "papermill": {
     "duration": 0.015373,
     "end_time": "2022-10-11T03:36:34.282141",
     "exception": false,
     "start_time": "2022-10-11T03:36:34.266768",
     "status": "completed"
    },
    "tags": []
   },
   "outputs": [],
   "source": []
  },
  {
   "cell_type": "code",
   "execution_count": null,
   "id": "appreciated-diamond",
   "metadata": {
    "papermill": {
     "duration": 0.013268,
     "end_time": "2022-10-11T03:36:34.308373",
     "exception": false,
     "start_time": "2022-10-11T03:36:34.295105",
     "status": "completed"
    },
    "tags": []
   },
   "outputs": [],
   "source": []
  },
  {
   "cell_type": "code",
   "execution_count": null,
   "id": "romance-sweden",
   "metadata": {
    "papermill": {
     "duration": 0.012932,
     "end_time": "2022-10-11T03:36:34.334874",
     "exception": false,
     "start_time": "2022-10-11T03:36:34.321942",
     "status": "completed"
    },
    "tags": []
   },
   "outputs": [],
   "source": []
  },
  {
   "cell_type": "code",
   "execution_count": null,
   "id": "dietary-statistics",
   "metadata": {
    "papermill": {
     "duration": 0.013021,
     "end_time": "2022-10-11T03:36:34.361261",
     "exception": false,
     "start_time": "2022-10-11T03:36:34.348240",
     "status": "completed"
    },
    "tags": []
   },
   "outputs": [],
   "source": []
  }
 ],
 "metadata": {
  "kernelspec": {
   "display_name": "Python 3",
   "language": "python",
   "name": "python3"
  },
  "language_info": {
   "codemirror_mode": {
    "name": "ipython",
    "version": 3
   },
   "file_extension": ".py",
   "mimetype": "text/x-python",
   "name": "python",
   "nbconvert_exporter": "python",
   "pygments_lexer": "ipython3",
   "version": "3.6.15"
  },
  "papermill": {
   "default_parameters": {},
   "duration": 13.396297,
   "end_time": "2022-10-11T03:36:34.896732",
   "environment_variables": {},
   "exception": null,
   "input_path": "Market-News.ipynb",
   "output_path": "Market-News.ipynb",
   "parameters": {},
   "start_time": "2022-10-11T03:36:21.500435",
   "version": "2.2.2"
  }
 },
 "nbformat": 4,
 "nbformat_minor": 5
}