{
 "cells": [
  {
   "cell_type": "markdown",
   "id": "short-greensboro",
   "metadata": {
    "papermill": {
     "duration": 0.017898,
     "end_time": "2021-12-02T02:01:20.829363",
     "exception": false,
     "start_time": "2021-12-02T02:01:20.811465",
     "status": "completed"
    },
    "tags": []
   },
   "source": [
    "# Kriptovaliutų naujienos"
   ]
  },
  {
   "cell_type": "code",
   "execution_count": 1,
   "id": "functioning-knowing",
   "metadata": {
    "execution": {
     "iopub.execute_input": "2021-12-02T02:01:20.863244Z",
     "iopub.status.busy": "2021-12-02T02:01:20.862620Z",
     "iopub.status.idle": "2021-12-02T02:01:22.320131Z",
     "shell.execute_reply": "2021-12-02T02:01:22.319422Z"
    },
    "papermill": {
     "duration": 1.479882,
     "end_time": "2021-12-02T02:01:22.320320",
     "exception": false,
     "start_time": "2021-12-02T02:01:20.840438",
     "status": "completed"
    },
    "tags": []
   },
   "outputs": [],
   "source": [
    "#hide_input\n",
    "import warnings\n",
    "warnings.filterwarnings('ignore')\n",
    "from scripts.read_data import read_api\n",
    "from scripts.read_data import read_news\n",
    "from scripts.read_data import read_covid\n",
    "import matplotlib.pyplot as plt \n",
    "from IPython.display import Markdown as md"
   ]
  },
  {
   "cell_type": "code",
   "execution_count": 2,
   "id": "shared-acceptance",
   "metadata": {
    "execution": {
     "iopub.execute_input": "2021-12-02T02:01:22.349844Z",
     "iopub.status.busy": "2021-12-02T02:01:22.348838Z",
     "iopub.status.idle": "2021-12-02T02:01:30.585671Z",
     "shell.execute_reply": "2021-12-02T02:01:30.584772Z"
    },
    "papermill": {
     "duration": 8.255112,
     "end_time": "2021-12-02T02:01:30.585935",
     "exception": false,
     "start_time": "2021-12-02T02:01:22.330823",
     "status": "completed"
    },
    "tags": []
   },
   "outputs": [],
   "source": [
    "#hide_input\n",
    "blockchain = read_news('blockchain') \n",
    "btc = read_news('btc') \n",
    "xrp = read_news('xrp') \n",
    "trx = read_news('trx') \n",
    "eth = read_news('eth')  \n",
    "ada = read_news('ada')\n",
    "exchange = read_news('exchange') "
   ]
  },
  {
   "cell_type": "code",
   "execution_count": 3,
   "id": "synthetic-notion",
   "metadata": {
    "execution": {
     "iopub.execute_input": "2021-12-02T02:01:30.614162Z",
     "iopub.status.busy": "2021-12-02T02:01:30.613507Z",
     "iopub.status.idle": "2021-12-02T02:01:30.617688Z",
     "shell.execute_reply": "2021-12-02T02:01:30.617213Z"
    },
    "papermill": {
     "duration": 0.021213,
     "end_time": "2021-12-02T02:01:30.617813",
     "exception": false,
     "start_time": "2021-12-02T02:01:30.596600",
     "status": "completed"
    },
    "tags": []
   },
   "outputs": [
    {
     "data": {
      "text/markdown": [
       "- Polygon: The One Crypto Investment Now For Current Crypto Bears.  If you want a real crypto ‘pop’, look past the majors of Bitcoin and Ethereum and focus on the smaller tokens.In the current market, I’m only trading ‘screaming buys’ that I feel comfortable Hodling if a crash does materialise.Polygon network is a blockchain solution taking advantage of Ethereum’s overload; it’s seeing rapid adoption. ... [| Skaityti daugiau](https://seekingalpha.com/article/4472898-matic-the-one-crypto-investment-now-for-current-crypto-bears?utm_source=cryptocompare.com&utm_medium=referral) "
      ],
      "text/plain": [
       "<IPython.core.display.Markdown object>"
      ]
     },
     "execution_count": 3,
     "metadata": {},
     "output_type": "execute_result"
    }
   ],
   "source": [
    "#hide_input\n",
    "#md('##### {}'.format(titleBTC)) \n",
    "md(\"- {}{} {}{} [| Skaityti daugiau]({}) \".format(blockchain['title'],'. ', blockchain['body'], ' ...', blockchain['url']))"
   ]
  },
  {
   "cell_type": "code",
   "execution_count": 4,
   "id": "aging-caution",
   "metadata": {
    "execution": {
     "iopub.execute_input": "2021-12-02T02:01:30.644063Z",
     "iopub.status.busy": "2021-12-02T02:01:30.642887Z",
     "iopub.status.idle": "2021-12-02T02:01:30.647525Z",
     "shell.execute_reply": "2021-12-02T02:01:30.647055Z"
    },
    "papermill": {
     "duration": 0.019131,
     "end_time": "2021-12-02T02:01:30.647650",
     "exception": false,
     "start_time": "2021-12-02T02:01:30.628519",
     "status": "completed"
    },
    "tags": []
   },
   "outputs": [
    {
     "data": {
      "text/markdown": [
       "- Polygon: The One Crypto Investment Now For Current Crypto Bears.  If you want a real crypto ‘pop’, look past the majors of Bitcoin and Ethereum and focus on the smaller tokens.In the current market, I’m only trading ‘screaming buys’ that I feel comfortable Hodling if a crash does materialise.Polygon network is a blockchain solution taking advantage of Ethereum’s overload; it’s seeing rapid adoption. ... [| Skaityti daugiau](https://seekingalpha.com/article/4472898-matic-the-one-crypto-investment-now-for-current-crypto-bears?utm_source=cryptocompare.com&utm_medium=referral) "
      ],
      "text/plain": [
       "<IPython.core.display.Markdown object>"
      ]
     },
     "execution_count": 4,
     "metadata": {},
     "output_type": "execute_result"
    }
   ],
   "source": [
    "#hide_input\n",
    "#md('##### {}'.format(titleBTC)) \n",
    "md(\"- {}{} {}{} [| Skaityti daugiau]({}) \".format(btc['title'],'. ', btc['body'], ' ...', btc['url']))"
   ]
  },
  {
   "cell_type": "code",
   "execution_count": 5,
   "id": "organic-actress",
   "metadata": {
    "execution": {
     "iopub.execute_input": "2021-12-02T02:01:30.674944Z",
     "iopub.status.busy": "2021-12-02T02:01:30.674329Z",
     "iopub.status.idle": "2021-12-02T02:01:30.678642Z",
     "shell.execute_reply": "2021-12-02T02:01:30.679112Z"
    },
    "papermill": {
     "duration": 0.020658,
     "end_time": "2021-12-02T02:01:30.679258",
     "exception": false,
     "start_time": "2021-12-02T02:01:30.658600",
     "status": "completed"
    },
    "tags": []
   },
   "outputs": [
    {
     "data": {
      "text/markdown": [
       "- Price analysis 12/1: BTC, ETH, BNB, SOL, ADA, XRP, DOT, DOGE, AVAX, SHIB.  Bitcoin continues to encounter resistance near $60,000, but this hasn’t stopped altcoins from advancing on their previous all-time highs. ... [| Skaityti daugiau](https://cointelegraph.com/news/price-analysis-12-1-btc-eth-bnb-sol-ada-xrp-dot-doge-avax-shib) "
      ],
      "text/plain": [
       "<IPython.core.display.Markdown object>"
      ]
     },
     "execution_count": 5,
     "metadata": {},
     "output_type": "execute_result"
    }
   ],
   "source": [
    "#hide_input\n",
    "#md('##### {}'.format(titleBTC)) \n",
    "md(\"- {}{} {}{} [| Skaityti daugiau]({}) \".format(xrp['title'],'. ', xrp['body'], ' ...', xrp['url']))"
   ]
  },
  {
   "cell_type": "code",
   "execution_count": 6,
   "id": "prompt-farmer",
   "metadata": {
    "execution": {
     "iopub.execute_input": "2021-12-02T02:01:30.712876Z",
     "iopub.status.busy": "2021-12-02T02:01:30.712247Z",
     "iopub.status.idle": "2021-12-02T02:01:30.716129Z",
     "shell.execute_reply": "2021-12-02T02:01:30.715626Z"
    },
    "papermill": {
     "duration": 0.024107,
     "end_time": "2021-12-02T02:01:30.716253",
     "exception": false,
     "start_time": "2021-12-02T02:01:30.692146",
     "status": "completed"
    },
    "tags": []
   },
   "outputs": [
    {
     "data": {
      "text/markdown": [
       "- All about Tron’s ‘impressive’ feat, sees over $19 billion in stablecoin transfer volume.  Tron [TRX] is a familiar name in crypto news, whether it&#8217;s a coin-related update or something to do with founder Justin Sun. Well, sometimes, it&#8217;s due to both. In fact, Tron&#8217;s official Twitter account shared that the network&#8217;s total stablecoin transfer volume had crossed $19 billion, and was actually closer to $20 billion. 🙌According to [&#8230;] ... [| Skaityti daugiau](https://ambcrypto.com/all-about-trons-impressive-feat-records-over-19-billion-in-stablecoin-transfer-volume/) "
      ],
      "text/plain": [
       "<IPython.core.display.Markdown object>"
      ]
     },
     "execution_count": 6,
     "metadata": {},
     "output_type": "execute_result"
    }
   ],
   "source": [
    "#hide_input\n",
    "#md('##### {}'.format(titleBTC)) \n",
    "md(\"- {}{} {}{} [| Skaityti daugiau]({}) \".format(trx['title'],'. ', trx['body'], ' ...', trx['url']))"
   ]
  },
  {
   "cell_type": "code",
   "execution_count": 7,
   "id": "illegal-greece",
   "metadata": {
    "execution": {
     "iopub.execute_input": "2021-12-02T02:01:30.746128Z",
     "iopub.status.busy": "2021-12-02T02:01:30.744788Z",
     "iopub.status.idle": "2021-12-02T02:01:30.749040Z",
     "shell.execute_reply": "2021-12-02T02:01:30.749483Z"
    },
    "papermill": {
     "duration": 0.021185,
     "end_time": "2021-12-02T02:01:30.749790",
     "exception": false,
     "start_time": "2021-12-02T02:01:30.728605",
     "status": "completed"
    },
    "tags": []
   },
   "outputs": [
    {
     "data": {
      "text/markdown": [
       "- Polygon: The One Crypto Investment Now For Current Crypto Bears.  If you want a real crypto ‘pop’, look past the majors of Bitcoin and Ethereum and focus on the smaller tokens.In the current market, I’m only trading ‘screaming buys’ that I feel comfortable Hodling if a crash does materialise.Polygon network is a blockchain solution taking advantage of Ethereum’s overload; it’s seeing rapid adoption. ... [| Skaityti daugiau](https://seekingalpha.com/article/4472898-matic-the-one-crypto-investment-now-for-current-crypto-bears?utm_source=cryptocompare.com&utm_medium=referral) "
      ],
      "text/plain": [
       "<IPython.core.display.Markdown object>"
      ]
     },
     "execution_count": 7,
     "metadata": {},
     "output_type": "execute_result"
    }
   ],
   "source": [
    "#hide_input\n",
    "#md('##### {}'.format(titleBTC)) \n",
    "md(\"- {}{} {}{} [| Skaityti daugiau]({}) \".format(eth['title'],'. ', eth['body'], ' ...', eth['url']))"
   ]
  },
  {
   "cell_type": "code",
   "execution_count": 8,
   "id": "sublime-lounge",
   "metadata": {
    "execution": {
     "iopub.execute_input": "2021-12-02T02:01:30.780814Z",
     "iopub.status.busy": "2021-12-02T02:01:30.780198Z",
     "iopub.status.idle": "2021-12-02T02:01:30.784900Z",
     "shell.execute_reply": "2021-12-02T02:01:30.784247Z"
    },
    "papermill": {
     "duration": 0.023059,
     "end_time": "2021-12-02T02:01:30.785023",
     "exception": false,
     "start_time": "2021-12-02T02:01:30.761964",
     "status": "completed"
    },
    "tags": []
   },
   "outputs": [
    {
     "data": {
      "text/markdown": [
       "- What Happened To ADA Price? Is Nothing Been Built On Cardano?.  The post What Happened To ADA Price? Is Nothing Been Built On Cardano? appeared first on Coinpedia - Fintech &amp; Cryptocurreny News Media| Crypto GuideThe crypto space is preparing to leap long after the recent sell-offs and if following a steady approach to pull the next leg up. However, one such crypto which appears to be pretty happy and contented at its current levels is Cardano. The ADA price after a steep downfall has yet again initiated with consolidation &#8230; ... [| Skaityti daugiau](https://coinpedia.org/price-analysis/what-happened-to-ada-price-is-nothing-been-built-on-cardano/) "
      ],
      "text/plain": [
       "<IPython.core.display.Markdown object>"
      ]
     },
     "execution_count": 8,
     "metadata": {},
     "output_type": "execute_result"
    }
   ],
   "source": [
    "#hide_input\n",
    "#md('##### {}'.format(titleBTC)) \n",
    "md(\"- {}{} {}{} [| Skaityti daugiau]({}) \".format(ada['title'],'. ', ada['body'], ' ...', ada['url']))"
   ]
  },
  {
   "cell_type": "code",
   "execution_count": 9,
   "id": "specified-ordering",
   "metadata": {
    "execution": {
     "iopub.execute_input": "2021-12-02T02:01:30.816988Z",
     "iopub.status.busy": "2021-12-02T02:01:30.816384Z",
     "iopub.status.idle": "2021-12-02T02:01:30.820200Z",
     "shell.execute_reply": "2021-12-02T02:01:30.819727Z"
    },
    "papermill": {
     "duration": 0.022434,
     "end_time": "2021-12-02T02:01:30.820326",
     "exception": false,
     "start_time": "2021-12-02T02:01:30.797892",
     "status": "completed"
    },
    "tags": []
   },
   "outputs": [
    {
     "data": {
      "text/markdown": [
       "- Ethereum Outlook 2022: Bullish With Upside From Ecosystem Momentum.  Ethereum has climbed over 500% in 2021 significantly outperforming Bitcoin.The attraction is the ecosystem of applications across DeFi and NFTs on the blockchain that support a positive long-term outlook.We are bullish with ETH gaining momentum approaching $5,000 and already breaking out as an exchange rate against BTC. ... [| Skaityti daugiau](https://seekingalpha.com/article/4472892-ethereum-outlook-2022-bullish-upside-ecosystem-momentum?utm_source=cryptocompare.com&utm_medium=referral) "
      ],
      "text/plain": [
       "<IPython.core.display.Markdown object>"
      ]
     },
     "execution_count": 9,
     "metadata": {},
     "output_type": "execute_result"
    }
   ],
   "source": [
    "#hide_input\n",
    "#md('##### {}'.format(titleBTC)) \n",
    "md(\"- {}{} {}{} [| Skaityti daugiau]({}) \".format(exchange['title'],'. ', exchange['body'], ' ...', exchange['url']))"
   ]
  },
  {
   "cell_type": "code",
   "execution_count": null,
   "id": "tender-livestock",
   "metadata": {
    "papermill": {
     "duration": 0.013968,
     "end_time": "2021-12-02T02:01:30.847767",
     "exception": false,
     "start_time": "2021-12-02T02:01:30.833799",
     "status": "completed"
    },
    "tags": []
   },
   "outputs": [],
   "source": []
  },
  {
   "cell_type": "code",
   "execution_count": null,
   "id": "appreciated-diamond",
   "metadata": {
    "papermill": {
     "duration": 0.013405,
     "end_time": "2021-12-02T02:01:30.875374",
     "exception": false,
     "start_time": "2021-12-02T02:01:30.861969",
     "status": "completed"
    },
    "tags": []
   },
   "outputs": [],
   "source": []
  },
  {
   "cell_type": "code",
   "execution_count": null,
   "id": "romance-sweden",
   "metadata": {
    "papermill": {
     "duration": 0.013204,
     "end_time": "2021-12-02T02:01:30.901982",
     "exception": false,
     "start_time": "2021-12-02T02:01:30.888778",
     "status": "completed"
    },
    "tags": []
   },
   "outputs": [],
   "source": []
  },
  {
   "cell_type": "code",
   "execution_count": null,
   "id": "dietary-statistics",
   "metadata": {
    "papermill": {
     "duration": 0.012792,
     "end_time": "2021-12-02T02:01:30.929012",
     "exception": false,
     "start_time": "2021-12-02T02:01:30.916220",
     "status": "completed"
    },
    "tags": []
   },
   "outputs": [],
   "source": []
  }
 ],
 "metadata": {
  "kernelspec": {
   "display_name": "Python 3",
   "language": "python",
   "name": "python3"
  },
  "language_info": {
   "codemirror_mode": {
    "name": "ipython",
    "version": 3
   },
   "file_extension": ".py",
   "mimetype": "text/x-python",
   "name": "python",
   "nbconvert_exporter": "python",
   "pygments_lexer": "ipython3",
   "version": "3.6.15"
  },
  "papermill": {
   "default_parameters": {},
   "duration": 11.944192,
   "end_time": "2021-12-02T02:01:31.452245",
   "environment_variables": {},
   "exception": null,
   "input_path": "Market-News.ipynb",
   "output_path": "Market-News.ipynb",
   "parameters": {},
   "start_time": "2021-12-02T02:01:19.508053",
   "version": "2.2.2"
  }
 },
 "nbformat": 4,
 "nbformat_minor": 5
}