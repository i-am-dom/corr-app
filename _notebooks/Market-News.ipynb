{
 "cells": [
  {
   "cell_type": "markdown",
   "id": "short-greensboro",
   "metadata": {
    "papermill": {
     "duration": 0.016182,
     "end_time": "2022-01-09T02:12:01.250779",
     "exception": false,
     "start_time": "2022-01-09T02:12:01.234597",
     "status": "completed"
    },
    "tags": []
   },
   "source": [
    "# Kriptovaliutų naujienos"
   ]
  },
  {
   "cell_type": "code",
   "execution_count": 1,
   "id": "functioning-knowing",
   "metadata": {
    "execution": {
     "iopub.execute_input": "2022-01-09T02:12:01.287743Z",
     "iopub.status.busy": "2022-01-09T02:12:01.287059Z",
     "iopub.status.idle": "2022-01-09T02:12:02.907798Z",
     "shell.execute_reply": "2022-01-09T02:12:02.908511Z"
    },
    "papermill": {
     "duration": 1.644882,
     "end_time": "2022-01-09T02:12:02.908814",
     "exception": false,
     "start_time": "2022-01-09T02:12:01.263932",
     "status": "completed"
    },
    "tags": []
   },
   "outputs": [],
   "source": [
    "#hide_input\n",
    "import warnings\n",
    "warnings.filterwarnings('ignore')\n",
    "from scripts.read_data import read_api\n",
    "from scripts.read_data import read_news\n",
    "from scripts.read_data import read_covid\n",
    "import matplotlib.pyplot as plt \n",
    "from IPython.display import Markdown as md"
   ]
  },
  {
   "cell_type": "code",
   "execution_count": 2,
   "id": "shared-acceptance",
   "metadata": {
    "execution": {
     "iopub.execute_input": "2022-01-09T02:12:02.941132Z",
     "iopub.status.busy": "2022-01-09T02:12:02.940111Z",
     "iopub.status.idle": "2022-01-09T02:12:10.350894Z",
     "shell.execute_reply": "2022-01-09T02:12:10.351388Z"
    },
    "papermill": {
     "duration": 7.430959,
     "end_time": "2022-01-09T02:12:10.351562",
     "exception": false,
     "start_time": "2022-01-09T02:12:02.920603",
     "status": "completed"
    },
    "tags": []
   },
   "outputs": [],
   "source": [
    "#hide_input\n",
    "blockchain = read_news('blockchain') \n",
    "btc = read_news('btc') \n",
    "xrp = read_news('xrp') \n",
    "trx = read_news('trx') \n",
    "eth = read_news('eth')  \n",
    "ada = read_news('ada')\n",
    "exchange = read_news('exchange') "
   ]
  },
  {
   "cell_type": "code",
   "execution_count": 3,
   "id": "synthetic-notion",
   "metadata": {
    "execution": {
     "iopub.execute_input": "2022-01-09T02:12:10.381069Z",
     "iopub.status.busy": "2022-01-09T02:12:10.380390Z",
     "iopub.status.idle": "2022-01-09T02:12:10.386249Z",
     "shell.execute_reply": "2022-01-09T02:12:10.386681Z"
    },
    "papermill": {
     "duration": 0.023562,
     "end_time": "2022-01-09T02:12:10.386806",
     "exception": false,
     "start_time": "2022-01-09T02:12:10.363244",
     "status": "completed"
    },
    "tags": []
   },
   "outputs": [
    {
     "data": {
      "text/markdown": [
       "- 5 NFT-based blockchain games that could soar in 2022.  NFTs look ready to rule 2022, and the recent pivot toward NFT utility in P2E gaming could make blockchain gaming this year’s sector darling. ... [| Skaityti daugiau](https://cointelegraph.com/news/5-nft-based-blockchain-games-that-could-soar-in-2022) "
      ],
      "text/plain": [
       "<IPython.core.display.Markdown object>"
      ]
     },
     "execution_count": 3,
     "metadata": {},
     "output_type": "execute_result"
    }
   ],
   "source": [
    "#hide_input\n",
    "#md('##### {}'.format(titleBTC)) \n",
    "md(\"- {}{} {}{} [| Skaityti daugiau]({}) \".format(blockchain['title'],'. ', blockchain['body'], ' ...', blockchain['url']))"
   ]
  },
  {
   "cell_type": "code",
   "execution_count": 4,
   "id": "aging-caution",
   "metadata": {
    "execution": {
     "iopub.execute_input": "2022-01-09T02:12:10.414942Z",
     "iopub.status.busy": "2022-01-09T02:12:10.414158Z",
     "iopub.status.idle": "2022-01-09T02:12:10.417896Z",
     "shell.execute_reply": "2022-01-09T02:12:10.417177Z"
    },
    "papermill": {
     "duration": 0.020182,
     "end_time": "2022-01-09T02:12:10.418013",
     "exception": false,
     "start_time": "2022-01-09T02:12:10.397831",
     "status": "completed"
    },
    "tags": []
   },
   "outputs": [
    {
     "data": {
      "text/markdown": [
       "- Veteran Trader Peter Brandt Shares ‘Sacred Trading Rule’ as Bitcoin Falls, Warns Against Buying the Dip.  Veteran trader Peter Brandt has shared &#x201C;a sacred trading rule&#x201D; he uses in response to a comment about buying bitcoin as the price of the cryptocurrency continues to fall. &#x201C;Never add to a losing trade,&#x201D; he affirmed. Peter Brandt Offers Trading Advice Veteran trader Peter Brandt has a trading suggestion for anyone considering buying the [&#8230;] ... [| Skaityti daugiau](https://news.bitcoin.com/veteran-trader-peter-brandt-sacred-trading-rule-bitcoin-falls-warns-against-buying-the-dip/) "
      ],
      "text/plain": [
       "<IPython.core.display.Markdown object>"
      ]
     },
     "execution_count": 4,
     "metadata": {},
     "output_type": "execute_result"
    }
   ],
   "source": [
    "#hide_input\n",
    "#md('##### {}'.format(titleBTC)) \n",
    "md(\"- {}{} {}{} [| Skaityti daugiau]({}) \".format(btc['title'],'. ', btc['body'], ' ...', btc['url']))"
   ]
  },
  {
   "cell_type": "code",
   "execution_count": 5,
   "id": "organic-actress",
   "metadata": {
    "execution": {
     "iopub.execute_input": "2022-01-09T02:12:10.446821Z",
     "iopub.status.busy": "2022-01-09T02:12:10.446191Z",
     "iopub.status.idle": "2022-01-09T02:12:10.452956Z",
     "shell.execute_reply": "2022-01-09T02:12:10.454067Z"
    },
    "papermill": {
     "duration": 0.025078,
     "end_time": "2022-01-09T02:12:10.454199",
     "exception": false,
     "start_time": "2022-01-09T02:12:10.429121",
     "status": "completed"
    },
    "tags": []
   },
   "outputs": [
    {
     "data": {
      "text/markdown": [
       "- XRP stands inches away from collapsing to $0.51.  The fate of XRP hasn’t been the best in recent times. Apart from the developments in the ongoing SEC-Ripple lawsuit, the market condition of the altcoin doesn’t paint a rainbow either. As predicted earlier, XRP’s chances of reaching $1 were pretty bleak and it failed to reclaim the level. XRP far from $1 That was [&#8230;] ... [| Skaityti daugiau](https://ambcrypto.com/xrp-stands-inches-away-from-collapsing-to-0-51/) "
      ],
      "text/plain": [
       "<IPython.core.display.Markdown object>"
      ]
     },
     "execution_count": 5,
     "metadata": {},
     "output_type": "execute_result"
    }
   ],
   "source": [
    "#hide_input\n",
    "#md('##### {}'.format(titleBTC)) \n",
    "md(\"- {}{} {}{} [| Skaityti daugiau]({}) \".format(xrp['title'],'. ', xrp['body'], ' ...', xrp['url']))"
   ]
  },
  {
   "cell_type": "code",
   "execution_count": 6,
   "id": "prompt-farmer",
   "metadata": {
    "execution": {
     "iopub.execute_input": "2022-01-09T02:12:10.482375Z",
     "iopub.status.busy": "2022-01-09T02:12:10.481795Z",
     "iopub.status.idle": "2022-01-09T02:12:10.485384Z",
     "shell.execute_reply": "2022-01-09T02:12:10.485966Z"
    },
    "papermill": {
     "duration": 0.020667,
     "end_time": "2022-01-09T02:12:10.486154",
     "exception": false,
     "start_time": "2022-01-09T02:12:10.465487",
     "status": "completed"
    },
    "tags": []
   },
   "outputs": [
    {
     "data": {
      "text/markdown": [
       "- Terra (LUNA), Avalanche (AVAX) and Four Additional Ethereum Rivals Mounting Serious Challenge to ETH in 2022: JPMorgan Analysis.  Analysts at global banking giant JPMorgan say that Ethereum (ETH) competitors will challenge the top altcoin’s decentralized finance (DeFi) dominance of the crypto markets this year. In a recent report, analysts led by JPMorgan managing director Nikolaos Panigirtzoglou say that ETH&#8217;s 70% market share of the DeFi space will continue to drop because the blockchain’s [&#8230;]The post Terra (LUNA), Avalanche (AVAX) and Four Additional Ethereum Rivals Mounting Serious Challenge to ETH in 2022: JPMorgan Analysis appeared first on The Daily Hodl. ... [| Skaityti daugiau](https://dailyhodl.com/2022/01/07/terra-luna-avalanche-avax-and-four-additional-ethereum-rivals-mounting-serious-challenge-to-eth-in-2022-jpmorgan-analysis/) "
      ],
      "text/plain": [
       "<IPython.core.display.Markdown object>"
      ]
     },
     "execution_count": 6,
     "metadata": {},
     "output_type": "execute_result"
    }
   ],
   "source": [
    "#hide_input\n",
    "#md('##### {}'.format(titleBTC)) \n",
    "md(\"- {}{} {}{} [| Skaityti daugiau]({}) \".format(trx['title'],'. ', trx['body'], ' ...', trx['url']))"
   ]
  },
  {
   "cell_type": "code",
   "execution_count": 7,
   "id": "illegal-greece",
   "metadata": {
    "execution": {
     "iopub.execute_input": "2022-01-09T02:12:10.516797Z",
     "iopub.status.busy": "2022-01-09T02:12:10.515990Z",
     "iopub.status.idle": "2022-01-09T02:12:10.522108Z",
     "shell.execute_reply": "2022-01-09T02:12:10.523059Z"
    },
    "papermill": {
     "duration": 0.025279,
     "end_time": "2022-01-09T02:12:10.523353",
     "exception": false,
     "start_time": "2022-01-09T02:12:10.498074",
     "status": "completed"
    },
    "tags": []
   },
   "outputs": [
    {
     "data": {
      "text/markdown": [
       "- Bitcoin and Ethereum Primed To Rise to These Levels in 2022, According to Bloomberg Strategist Mike McGlone.  Bloomberg’s senior commodity strategist thinks both Bitcoin (BTC) and Ethereum (ETH) are primed to surge in 2022 despite the crypto market&#8217;s recent struggles. In a new analysis, Mike McGlone says both BTC and ETH have solid bases to build on. He predicts they will remain dominant among cryptos in 2022, with Bitcoin moving toward $100,000 [&#8230;]The post Bitcoin and Ethereum Primed To Rise to These Levels in 2022, According to Bloomberg Strategist Mike McGlone appeared first on The Daily Hodl. ... [| Skaityti daugiau](https://dailyhodl.com/2022/01/08/bitcoin-and-ethereum-primed-to-rise-to-these-levels-in-2022-according-to-bloomberg-strategist-mike-mcglone/) "
      ],
      "text/plain": [
       "<IPython.core.display.Markdown object>"
      ]
     },
     "execution_count": 7,
     "metadata": {},
     "output_type": "execute_result"
    }
   ],
   "source": [
    "#hide_input\n",
    "#md('##### {}'.format(titleBTC)) \n",
    "md(\"- {}{} {}{} [| Skaityti daugiau]({}) \".format(eth['title'],'. ', eth['body'], ' ...', eth['url']))"
   ]
  },
  {
   "cell_type": "code",
   "execution_count": 8,
   "id": "sublime-lounge",
   "metadata": {
    "execution": {
     "iopub.execute_input": "2022-01-09T02:12:10.554465Z",
     "iopub.status.busy": "2022-01-09T02:12:10.552630Z",
     "iopub.status.idle": "2022-01-09T02:12:10.570965Z",
     "shell.execute_reply": "2022-01-09T02:12:10.570472Z"
    },
    "papermill": {
     "duration": 0.035576,
     "end_time": "2022-01-09T02:12:10.571083",
     "exception": false,
     "start_time": "2022-01-09T02:12:10.535507",
     "status": "completed"
    },
    "tags": []
   },
   "outputs": [
    {
     "data": {
      "text/markdown": [
       "- Here’s why this country is so important to Cardano’s growth model in 2022.  At press time, Cardano&#8217;s ADA was the sixth biggest crypto by market cap and was changing hands at $1.24. This was after a 0.51% drop in the past 24 hours and a 7.20% drop in the past seven days. This was quite a change from its status earlier in 2021, when Cardano was the third [&#8230;] ... [| Skaityti daugiau](https://ambcrypto.com/heres-why-this-country-is-so-important-to-cardanos-growth-model-in-2022/) "
      ],
      "text/plain": [
       "<IPython.core.display.Markdown object>"
      ]
     },
     "execution_count": 8,
     "metadata": {},
     "output_type": "execute_result"
    }
   ],
   "source": [
    "#hide_input\n",
    "#md('##### {}'.format(titleBTC)) \n",
    "md(\"- {}{} {}{} [| Skaityti daugiau]({}) \".format(ada['title'],'. ', ada['body'], ' ...', ada['url']))"
   ]
  },
  {
   "cell_type": "code",
   "execution_count": 9,
   "id": "specified-ordering",
   "metadata": {
    "execution": {
     "iopub.execute_input": "2022-01-09T02:12:10.605094Z",
     "iopub.status.busy": "2022-01-09T02:12:10.604434Z",
     "iopub.status.idle": "2022-01-09T02:12:10.608132Z",
     "shell.execute_reply": "2022-01-09T02:12:10.608623Z"
    },
    "papermill": {
     "duration": 0.023383,
     "end_time": "2022-01-09T02:12:10.608794",
     "exception": false,
     "start_time": "2022-01-09T02:12:10.585411",
     "status": "completed"
    },
    "tags": []
   },
   "outputs": [
    {
     "data": {
      "text/markdown": [
       "- Pakistanis Lose Millions to Crypto Scam, Pakistan Issues Notice to Binance.  Investors from Pakistan have become victims of a massive fraud using cryptocurrency. The country&#x2019;s main law enforcement agency has issued a notice to crypto exchange Binance in relation to the scam which resulted in the loss of $100 million dollars for Pakistanis, media reports revealed. Fraudsters Lure Pakistanis to Invest in Cryptocurrency Through Binance Pakistan&#x2019;s [&#8230;] ... [| Skaityti daugiau](https://news.bitcoin.com/pakistanis-lose-millions-to-crypto-scam-pakistan-issues-notice-to-binance/) "
      ],
      "text/plain": [
       "<IPython.core.display.Markdown object>"
      ]
     },
     "execution_count": 9,
     "metadata": {},
     "output_type": "execute_result"
    }
   ],
   "source": [
    "#hide_input\n",
    "#md('##### {}'.format(titleBTC)) \n",
    "md(\"- {}{} {}{} [| Skaityti daugiau]({}) \".format(exchange['title'],'. ', exchange['body'], ' ...', exchange['url']))"
   ]
  },
  {
   "cell_type": "code",
   "execution_count": null,
   "id": "tender-livestock",
   "metadata": {
    "papermill": {
     "duration": 0.014102,
     "end_time": "2022-01-09T02:12:10.639361",
     "exception": false,
     "start_time": "2022-01-09T02:12:10.625259",
     "status": "completed"
    },
    "tags": []
   },
   "outputs": [],
   "source": []
  },
  {
   "cell_type": "code",
   "execution_count": null,
   "id": "appreciated-diamond",
   "metadata": {
    "papermill": {
     "duration": 0.014006,
     "end_time": "2022-01-09T02:12:10.667825",
     "exception": false,
     "start_time": "2022-01-09T02:12:10.653819",
     "status": "completed"
    },
    "tags": []
   },
   "outputs": [],
   "source": []
  },
  {
   "cell_type": "code",
   "execution_count": null,
   "id": "romance-sweden",
   "metadata": {
    "papermill": {
     "duration": 0.014478,
     "end_time": "2022-01-09T02:12:10.695944",
     "exception": false,
     "start_time": "2022-01-09T02:12:10.681466",
     "status": "completed"
    },
    "tags": []
   },
   "outputs": [],
   "source": []
  },
  {
   "cell_type": "code",
   "execution_count": null,
   "id": "dietary-statistics",
   "metadata": {
    "papermill": {
     "duration": 0.015174,
     "end_time": "2022-01-09T02:12:10.726001",
     "exception": false,
     "start_time": "2022-01-09T02:12:10.710827",
     "status": "completed"
    },
    "tags": []
   },
   "outputs": [],
   "source": []
  }
 ],
 "metadata": {
  "kernelspec": {
   "display_name": "Python 3",
   "language": "python",
   "name": "python3"
  },
  "language_info": {
   "codemirror_mode": {
    "name": "ipython",
    "version": 3
   },
   "file_extension": ".py",
   "mimetype": "text/x-python",
   "name": "python",
   "nbconvert_exporter": "python",
   "pygments_lexer": "ipython3",
   "version": "3.6.15"
  },
  "papermill": {
   "default_parameters": {},
   "duration": 11.340049,
   "end_time": "2022-01-09T02:12:11.251132",
   "environment_variables": {},
   "exception": null,
   "input_path": "Market-News.ipynb",
   "output_path": "Market-News.ipynb",
   "parameters": {},
   "start_time": "2022-01-09T02:11:59.911083",
   "version": "2.2.2"
  }
 },
 "nbformat": 4,
 "nbformat_minor": 5
}