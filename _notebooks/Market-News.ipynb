{
 "cells": [
  {
   "cell_type": "markdown",
   "id": "short-greensboro",
   "metadata": {
    "papermill": {
     "duration": 0.016559,
     "end_time": "2022-01-14T02:10:24.692678",
     "exception": false,
     "start_time": "2022-01-14T02:10:24.676119",
     "status": "completed"
    },
    "tags": []
   },
   "source": [
    "# Kriptovaliutų naujienos"
   ]
  },
  {
   "cell_type": "code",
   "execution_count": 1,
   "id": "functioning-knowing",
   "metadata": {
    "execution": {
     "iopub.execute_input": "2022-01-14T02:10:24.728760Z",
     "iopub.status.busy": "2022-01-14T02:10:24.728170Z",
     "iopub.status.idle": "2022-01-14T02:10:26.130509Z",
     "shell.execute_reply": "2022-01-14T02:10:26.129957Z"
    },
    "papermill": {
     "duration": 1.423119,
     "end_time": "2022-01-14T02:10:26.130671",
     "exception": false,
     "start_time": "2022-01-14T02:10:24.707552",
     "status": "completed"
    },
    "tags": []
   },
   "outputs": [],
   "source": [
    "#hide_input\n",
    "import warnings\n",
    "warnings.filterwarnings('ignore')\n",
    "from scripts.read_data import read_api\n",
    "from scripts.read_data import read_news\n",
    "from scripts.read_data import read_covid\n",
    "import matplotlib.pyplot as plt \n",
    "from IPython.display import Markdown as md"
   ]
  },
  {
   "cell_type": "code",
   "execution_count": 2,
   "id": "shared-acceptance",
   "metadata": {
    "execution": {
     "iopub.execute_input": "2022-01-14T02:10:26.165445Z",
     "iopub.status.busy": "2022-01-14T02:10:26.164793Z",
     "iopub.status.idle": "2022-01-14T02:10:35.939767Z",
     "shell.execute_reply": "2022-01-14T02:10:35.940575Z"
    },
    "papermill": {
     "duration": 9.795597,
     "end_time": "2022-01-14T02:10:35.940828",
     "exception": false,
     "start_time": "2022-01-14T02:10:26.145231",
     "status": "completed"
    },
    "tags": []
   },
   "outputs": [],
   "source": [
    "#hide_input\n",
    "blockchain = read_news('blockchain') \n",
    "btc = read_news('btc') \n",
    "xrp = read_news('xrp') \n",
    "trx = read_news('trx') \n",
    "eth = read_news('eth')  \n",
    "ada = read_news('ada')\n",
    "exchange = read_news('exchange') "
   ]
  },
  {
   "cell_type": "code",
   "execution_count": 3,
   "id": "synthetic-notion",
   "metadata": {
    "execution": {
     "iopub.execute_input": "2022-01-14T02:10:35.970714Z",
     "iopub.status.busy": "2022-01-14T02:10:35.970103Z",
     "iopub.status.idle": "2022-01-14T02:10:35.975980Z",
     "shell.execute_reply": "2022-01-14T02:10:35.975506Z"
    },
    "papermill": {
     "duration": 0.02269,
     "end_time": "2022-01-14T02:10:35.976110",
     "exception": false,
     "start_time": "2022-01-14T02:10:35.953420",
     "status": "completed"
    },
    "tags": []
   },
   "outputs": [
    {
     "data": {
      "text/markdown": [
       "- China to Launch State-Backed, Crypto-Less NFT Platform—Here's Why It Matters.  Following its crypto crackdown, China will reportedly keep a close eye on digital collectibles via permissioned blockchain infrastructure. ... [| Skaityti daugiau](https://decrypt.co/90420/china-state-backed-nfts-why-it-matters) "
      ],
      "text/plain": [
       "<IPython.core.display.Markdown object>"
      ]
     },
     "execution_count": 3,
     "metadata": {},
     "output_type": "execute_result"
    }
   ],
   "source": [
    "#hide_input\n",
    "#md('##### {}'.format(titleBTC)) \n",
    "md(\"- {}{} {}{} [| Skaityti daugiau]({}) \".format(blockchain['title'],'. ', blockchain['body'], ' ...', blockchain['url']))"
   ]
  },
  {
   "cell_type": "code",
   "execution_count": 4,
   "id": "aging-caution",
   "metadata": {
    "execution": {
     "iopub.execute_input": "2022-01-14T02:10:36.005429Z",
     "iopub.status.busy": "2022-01-14T02:10:36.004295Z",
     "iopub.status.idle": "2022-01-14T02:10:36.008160Z",
     "shell.execute_reply": "2022-01-14T02:10:36.008584Z"
    },
    "papermill": {
     "duration": 0.021913,
     "end_time": "2022-01-14T02:10:36.008718",
     "exception": false,
     "start_time": "2022-01-14T02:10:35.986805",
     "status": "completed"
    },
    "tags": []
   },
   "outputs": [
    {
     "data": {
      "text/markdown": [
       "- With This Month Set For Peak Inflation, How Will Bitcoin Price Move?.  The U.S. CPI for December was released and this month could see peak dollar inflation. How will the bitcoin price reflect that? ... [| Skaityti daugiau](https://bitcoinmagazine.com/markets/peak-inflation-incoming-how-will-bitcoin-price-move) "
      ],
      "text/plain": [
       "<IPython.core.display.Markdown object>"
      ]
     },
     "execution_count": 4,
     "metadata": {},
     "output_type": "execute_result"
    }
   ],
   "source": [
    "#hide_input\n",
    "#md('##### {}'.format(titleBTC)) \n",
    "md(\"- {}{} {}{} [| Skaityti daugiau]({}) \".format(btc['title'],'. ', btc['body'], ' ...', btc['url']))"
   ]
  },
  {
   "cell_type": "code",
   "execution_count": 5,
   "id": "organic-actress",
   "metadata": {
    "execution": {
     "iopub.execute_input": "2022-01-14T02:10:36.035449Z",
     "iopub.status.busy": "2022-01-14T02:10:36.034908Z",
     "iopub.status.idle": "2022-01-14T02:10:36.038963Z",
     "shell.execute_reply": "2022-01-14T02:10:36.038495Z"
    },
    "papermill": {
     "duration": 0.019762,
     "end_time": "2022-01-14T02:10:36.039082",
     "exception": false,
     "start_time": "2022-01-14T02:10:36.019320",
     "status": "completed"
    },
    "tags": []
   },
   "outputs": [
    {
     "data": {
      "text/markdown": [
       "- Judge Says Ripple Can Access Emails About SEC Ethereum Speech.  Ripple won a ruling that will force the SEC to disclose emails concerning a speech in which a former official concluded Ethereum is not a security. ... [| Skaityti daugiau](https://decrypt.co/90433/ripple-hinman-ruling) "
      ],
      "text/plain": [
       "<IPython.core.display.Markdown object>"
      ]
     },
     "execution_count": 5,
     "metadata": {},
     "output_type": "execute_result"
    }
   ],
   "source": [
    "#hide_input\n",
    "#md('##### {}'.format(titleBTC)) \n",
    "md(\"- {}{} {}{} [| Skaityti daugiau]({}) \".format(xrp['title'],'. ', xrp['body'], ' ...', xrp['url']))"
   ]
  },
  {
   "cell_type": "code",
   "execution_count": 6,
   "id": "prompt-farmer",
   "metadata": {
    "execution": {
     "iopub.execute_input": "2022-01-14T02:10:36.065744Z",
     "iopub.status.busy": "2022-01-14T02:10:36.065153Z",
     "iopub.status.idle": "2022-01-14T02:10:36.068879Z",
     "shell.execute_reply": "2022-01-14T02:10:36.068294Z"
    },
    "papermill": {
     "duration": 0.019492,
     "end_time": "2022-01-14T02:10:36.069030",
     "exception": false,
     "start_time": "2022-01-14T02:10:36.049538",
     "status": "completed"
    },
    "tags": []
   },
   "outputs": [
    {
     "data": {
      "text/markdown": [
       "- Solana, Tron, Stellar Price Analysis: 13 January.  With Bitcoin closing in above all its 4-hour EMA ribbons, altcoins like Solana, Tron, and Stellar fought the bears with all their might. Their near-term technicals depicted the increasing buying momentum as they reclaimed their lost support levels. Solana (SOL) The 5 January sell-off fueled SOL&#8217;s already existing bearish tendencies since late December as the [&#8230;] ... [| Skaityti daugiau](https://ambcrypto.com/solana-tron-stellar-price-analysis-13-january/) "
      ],
      "text/plain": [
       "<IPython.core.display.Markdown object>"
      ]
     },
     "execution_count": 6,
     "metadata": {},
     "output_type": "execute_result"
    }
   ],
   "source": [
    "#hide_input\n",
    "#md('##### {}'.format(titleBTC)) \n",
    "md(\"- {}{} {}{} [| Skaityti daugiau]({}) \".format(trx['title'],'. ', trx['body'], ' ...', trx['url']))"
   ]
  },
  {
   "cell_type": "code",
   "execution_count": 7,
   "id": "illegal-greece",
   "metadata": {
    "execution": {
     "iopub.execute_input": "2022-01-14T02:10:36.096928Z",
     "iopub.status.busy": "2022-01-14T02:10:36.096189Z",
     "iopub.status.idle": "2022-01-14T02:10:36.099365Z",
     "shell.execute_reply": "2022-01-14T02:10:36.098873Z"
    },
    "papermill": {
     "duration": 0.018799,
     "end_time": "2022-01-14T02:10:36.099481",
     "exception": false,
     "start_time": "2022-01-14T02:10:36.080682",
     "status": "completed"
    },
    "tags": []
   },
   "outputs": [
    {
     "data": {
      "text/markdown": [
       "- Judge Says Ripple Can Access Emails About SEC Ethereum Speech.  Ripple won a ruling that will force the SEC to disclose emails concerning a speech in which a former official concluded Ethereum is not a security. ... [| Skaityti daugiau](https://decrypt.co/90433/ripple-hinman-ruling) "
      ],
      "text/plain": [
       "<IPython.core.display.Markdown object>"
      ]
     },
     "execution_count": 7,
     "metadata": {},
     "output_type": "execute_result"
    }
   ],
   "source": [
    "#hide_input\n",
    "#md('##### {}'.format(titleBTC)) \n",
    "md(\"- {}{} {}{} [| Skaityti daugiau]({}) \".format(eth['title'],'. ', eth['body'], ' ...', eth['url']))"
   ]
  },
  {
   "cell_type": "code",
   "execution_count": 8,
   "id": "sublime-lounge",
   "metadata": {
    "execution": {
     "iopub.execute_input": "2022-01-14T02:10:36.128048Z",
     "iopub.status.busy": "2022-01-14T02:10:36.127458Z",
     "iopub.status.idle": "2022-01-14T02:10:36.131360Z",
     "shell.execute_reply": "2022-01-14T02:10:36.130709Z"
    },
    "papermill": {
     "duration": 0.020837,
     "end_time": "2022-01-14T02:10:36.131481",
     "exception": false,
     "start_time": "2022-01-14T02:10:36.110644",
     "status": "completed"
    },
    "tags": []
   },
   "outputs": [
    {
     "data": {
      "text/markdown": [
       "- Cardano Price Jumps After Coinbase Fixes Withdrawal Bug.  The price of Cardano ($ADA) jumped after Nasdaq-listed cryptocurrency exchange Coinbase fixed a withdrawal bug that had set the cryptocurrency’s community abuzz, as many are likely to have invested and kept their holdings on Coinbase itself. As first reported by CoinDesk, the cryptocurrency’s price surged over 3.5% in the early trading session ahead of a […] ... [| Skaityti daugiau](https://www.cryptoglobe.com/latest/2022/01/cardano-price-jumps-after-coinbase-fixes-withdrawal-bug/) "
      ],
      "text/plain": [
       "<IPython.core.display.Markdown object>"
      ]
     },
     "execution_count": 8,
     "metadata": {},
     "output_type": "execute_result"
    }
   ],
   "source": [
    "#hide_input\n",
    "#md('##### {}'.format(titleBTC)) \n",
    "md(\"- {}{} {}{} [| Skaityti daugiau]({}) \".format(ada['title'],'. ', ada['body'], ' ...', ada['url']))"
   ]
  },
  {
   "cell_type": "code",
   "execution_count": 9,
   "id": "specified-ordering",
   "metadata": {
    "execution": {
     "iopub.execute_input": "2022-01-14T02:10:36.160751Z",
     "iopub.status.busy": "2022-01-14T02:10:36.160167Z",
     "iopub.status.idle": "2022-01-14T02:10:36.163429Z",
     "shell.execute_reply": "2022-01-14T02:10:36.162991Z"
    },
    "papermill": {
     "duration": 0.020423,
     "end_time": "2022-01-14T02:10:36.163538",
     "exception": false,
     "start_time": "2022-01-14T02:10:36.143115",
     "status": "completed"
    },
    "tags": []
   },
   "outputs": [
    {
     "data": {
      "text/markdown": [
       "- Coinbase Acquires Fairx Exchange to Make Derivatives Market Approachable for Millions of Retail Customers.  Nasdaq-listed cryptocurrency exchange Coinbase has acquired a regulated derivatives trading platform. Coinbase plans to make the derivatives market more approachable to millions of its retail customers. Coinbase Plans to Offer Crypto Derivatives to All US Customers Nasdaq-listed crypto exchange operator Coinbase announced Wednesday that it has acquired Fairx, a regulated derivatives trading platform. Fairx is [&#8230;] ... [| Skaityti daugiau](https://news.bitcoin.com/coinbase-acquires-fairx-exchange-make-derivatives-market-approachable-millions-of-retail-customers/) "
      ],
      "text/plain": [
       "<IPython.core.display.Markdown object>"
      ]
     },
     "execution_count": 9,
     "metadata": {},
     "output_type": "execute_result"
    }
   ],
   "source": [
    "#hide_input\n",
    "#md('##### {}'.format(titleBTC)) \n",
    "md(\"- {}{} {}{} [| Skaityti daugiau]({}) \".format(exchange['title'],'. ', exchange['body'], ' ...', exchange['url']))"
   ]
  },
  {
   "cell_type": "code",
   "execution_count": null,
   "id": "tender-livestock",
   "metadata": {
    "papermill": {
     "duration": 0.012053,
     "end_time": "2022-01-14T02:10:36.187410",
     "exception": false,
     "start_time": "2022-01-14T02:10:36.175357",
     "status": "completed"
    },
    "tags": []
   },
   "outputs": [],
   "source": []
  },
  {
   "cell_type": "code",
   "execution_count": null,
   "id": "appreciated-diamond",
   "metadata": {
    "papermill": {
     "duration": 0.011647,
     "end_time": "2022-01-14T02:10:36.211501",
     "exception": false,
     "start_time": "2022-01-14T02:10:36.199854",
     "status": "completed"
    },
    "tags": []
   },
   "outputs": [],
   "source": []
  },
  {
   "cell_type": "code",
   "execution_count": null,
   "id": "romance-sweden",
   "metadata": {
    "papermill": {
     "duration": 0.012398,
     "end_time": "2022-01-14T02:10:36.235888",
     "exception": false,
     "start_time": "2022-01-14T02:10:36.223490",
     "status": "completed"
    },
    "tags": []
   },
   "outputs": [],
   "source": []
  },
  {
   "cell_type": "code",
   "execution_count": null,
   "id": "dietary-statistics",
   "metadata": {
    "papermill": {
     "duration": 0.011873,
     "end_time": "2022-01-14T02:10:36.259573",
     "exception": false,
     "start_time": "2022-01-14T02:10:36.247700",
     "status": "completed"
    },
    "tags": []
   },
   "outputs": [],
   "source": []
  }
 ],
 "metadata": {
  "kernelspec": {
   "display_name": "Python 3",
   "language": "python",
   "name": "python3"
  },
  "language_info": {
   "codemirror_mode": {
    "name": "ipython",
    "version": 3
   },
   "file_extension": ".py",
   "mimetype": "text/x-python",
   "name": "python",
   "nbconvert_exporter": "python",
   "pygments_lexer": "ipython3",
   "version": "3.6.15"
  },
  "papermill": {
   "default_parameters": {},
   "duration": 13.382973,
   "end_time": "2022-01-14T02:10:36.783585",
   "environment_variables": {},
   "exception": null,
   "input_path": "Market-News.ipynb",
   "output_path": "Market-News.ipynb",
   "parameters": {},
   "start_time": "2022-01-14T02:10:23.400612",
   "version": "2.2.2"
  }
 },
 "nbformat": 4,
 "nbformat_minor": 5
}