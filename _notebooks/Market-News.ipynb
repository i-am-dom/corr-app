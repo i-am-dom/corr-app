{
 "cells": [
  {
   "cell_type": "markdown",
   "id": "short-greensboro",
   "metadata": {
    "papermill": {
     "duration": 0.016511,
     "end_time": "2022-07-02T03:15:57.509515",
     "exception": false,
     "start_time": "2022-07-02T03:15:57.493004",
     "status": "completed"
    },
    "tags": []
   },
   "source": [
    "# Kriptovaliutų naujienos"
   ]
  },
  {
   "cell_type": "code",
   "execution_count": 1,
   "id": "functioning-knowing",
   "metadata": {
    "execution": {
     "iopub.execute_input": "2022-07-02T03:15:57.546412Z",
     "iopub.status.busy": "2022-07-02T03:15:57.545737Z",
     "iopub.status.idle": "2022-07-02T03:15:58.897288Z",
     "shell.execute_reply": "2022-07-02T03:15:58.896681Z"
    },
    "papermill": {
     "duration": 1.372609,
     "end_time": "2022-07-02T03:15:58.897442",
     "exception": false,
     "start_time": "2022-07-02T03:15:57.524833",
     "status": "completed"
    },
    "tags": []
   },
   "outputs": [],
   "source": [
    "#hide_input\n",
    "import warnings\n",
    "warnings.filterwarnings('ignore')\n",
    "from scripts.read_data import read_api\n",
    "from scripts.read_data import read_news\n",
    "from scripts.read_data import read_covid\n",
    "import matplotlib.pyplot as plt \n",
    "from IPython.display import Markdown as md"
   ]
  },
  {
   "cell_type": "code",
   "execution_count": 2,
   "id": "shared-acceptance",
   "metadata": {
    "execution": {
     "iopub.execute_input": "2022-07-02T03:15:58.928987Z",
     "iopub.status.busy": "2022-07-02T03:15:58.928298Z",
     "iopub.status.idle": "2022-07-02T03:16:26.339486Z",
     "shell.execute_reply": "2022-07-02T03:16:26.338806Z"
    },
    "papermill": {
     "duration": 27.432225,
     "end_time": "2022-07-02T03:16:26.339611",
     "exception": false,
     "start_time": "2022-07-02T03:15:58.907386",
     "status": "completed"
    },
    "tags": []
   },
   "outputs": [],
   "source": [
    "#hide_input\n",
    "blockchain = read_news('blockchain') \n",
    "btc = read_news('btc') \n",
    "xrp = read_news('xrp') \n",
    "trx = read_news('trx') \n",
    "eth = read_news('eth')  \n",
    "ada = read_news('ada')\n",
    "exchange = read_news('exchange') "
   ]
  },
  {
   "cell_type": "code",
   "execution_count": 3,
   "id": "synthetic-notion",
   "metadata": {
    "execution": {
     "iopub.execute_input": "2022-07-02T03:16:26.367899Z",
     "iopub.status.busy": "2022-07-02T03:16:26.367223Z",
     "iopub.status.idle": "2022-07-02T03:16:26.370747Z",
     "shell.execute_reply": "2022-07-02T03:16:26.370240Z"
    },
    "papermill": {
     "duration": 0.020897,
     "end_time": "2022-07-02T03:16:26.370861",
     "exception": false,
     "start_time": "2022-07-02T03:16:26.349964",
     "status": "completed"
    },
    "tags": []
   },
   "outputs": [
    {
     "data": {
      "text/markdown": [
       "- Dogecoin least affected by the crypto market sell-off: Buy now?.  Dogecoin price analysis for July 2, 2022, comes on a bearish note for the biggest meme coin in the crypto market as we can confirm that the DOGE token has failed to break into an uptrend and it seems that investors can expect lower prices in the coming days as well. However, an important fact [&#8230;]The post Dogecoin least affected by the crypto market sell-off: Buy now? appeared first on Blockchain, Crypto and Stock News. ... [| Skaityti daugiau](https://thecoinrise.com/dogecoin-least-affected-by-the-crypto-market-sell-off-buy-now/) "
      ],
      "text/plain": [
       "<IPython.core.display.Markdown object>"
      ]
     },
     "execution_count": 3,
     "metadata": {},
     "output_type": "execute_result"
    }
   ],
   "source": [
    "#hide_input\n",
    "#md('##### {}'.format(titleBTC)) \n",
    "md(\"- {}{} {}{} [| Skaityti daugiau]({}) \".format(blockchain['title'],'. ', blockchain['body'], ' ...', blockchain['url']))"
   ]
  },
  {
   "cell_type": "code",
   "execution_count": 4,
   "id": "aging-caution",
   "metadata": {
    "execution": {
     "iopub.execute_input": "2022-07-02T03:16:26.397285Z",
     "iopub.status.busy": "2022-07-02T03:16:26.395058Z",
     "iopub.status.idle": "2022-07-02T03:16:26.399920Z",
     "shell.execute_reply": "2022-07-02T03:16:26.400430Z"
    },
    "papermill": {
     "duration": 0.019534,
     "end_time": "2022-07-02T03:16:26.400559",
     "exception": false,
     "start_time": "2022-07-02T03:16:26.381025",
     "status": "completed"
    },
    "tags": []
   },
   "outputs": [
    {
     "data": {
      "text/markdown": [
       "- Bitcoin Is A New Paradigm Of Stakeholder Capitalism.  If bitcoin becomes the world’s reserve currency, we can add scarcity and consequences back into the system to stop the cycle of moral hazard and malinvestment. ... [| Skaityti daugiau](https://bitcoinmagazine.com/culture/bitcoin-is-a-new-paradigm-of-stakeholder-capitalism) "
      ],
      "text/plain": [
       "<IPython.core.display.Markdown object>"
      ]
     },
     "execution_count": 4,
     "metadata": {},
     "output_type": "execute_result"
    }
   ],
   "source": [
    "#hide_input\n",
    "#md('##### {}'.format(titleBTC)) \n",
    "md(\"- {}{} {}{} [| Skaityti daugiau]({}) \".format(btc['title'],'. ', btc['body'], ' ...', btc['url']))"
   ]
  },
  {
   "cell_type": "code",
   "execution_count": 5,
   "id": "organic-actress",
   "metadata": {
    "execution": {
     "iopub.execute_input": "2022-07-02T03:16:26.426495Z",
     "iopub.status.busy": "2022-07-02T03:16:26.425639Z",
     "iopub.status.idle": "2022-07-02T03:16:26.430358Z",
     "shell.execute_reply": "2022-07-02T03:16:26.429863Z"
    },
    "papermill": {
     "duration": 0.019347,
     "end_time": "2022-07-02T03:16:26.430510",
     "exception": false,
     "start_time": "2022-07-02T03:16:26.411163",
     "status": "completed"
    },
    "tags": []
   },
   "outputs": [
    {
     "data": {
      "text/markdown": [
       "- $XRP Ledger Sees Network Activity Explode to 2-Year High.  Activity on the $XRP Ledger has reached its highest value in over two years after the number of unique addresses interacting with the network exceeded 200,000 for the first time since February 2020. According to data from on-chain analytics firm Santiment, the increase in the number of active addresses on the network represents a 685% […] ... [| Skaityti daugiau](https://www.cryptoglobe.com/latest/2022/07/xrp-ledger-sees-network-activity-explode-to-2-year-high/) "
      ],
      "text/plain": [
       "<IPython.core.display.Markdown object>"
      ]
     },
     "execution_count": 5,
     "metadata": {},
     "output_type": "execute_result"
    }
   ],
   "source": [
    "#hide_input\n",
    "#md('##### {}'.format(titleBTC)) \n",
    "md(\"- {}{} {}{} [| Skaityti daugiau]({}) \".format(xrp['title'],'. ', xrp['body'], ' ...', xrp['url']))"
   ]
  },
  {
   "cell_type": "code",
   "execution_count": 6,
   "id": "prompt-farmer",
   "metadata": {
    "execution": {
     "iopub.execute_input": "2022-07-02T03:16:26.456828Z",
     "iopub.status.busy": "2022-07-02T03:16:26.456191Z",
     "iopub.status.idle": "2022-07-02T03:16:26.460245Z",
     "shell.execute_reply": "2022-07-02T03:16:26.459708Z"
    },
    "papermill": {
     "duration": 0.019415,
     "end_time": "2022-07-02T03:16:26.460358",
     "exception": false,
     "start_time": "2022-07-02T03:16:26.440943",
     "status": "completed"
    },
    "tags": []
   },
   "outputs": [
    {
     "data": {
      "text/markdown": [
       "- Will Xchange Monster (MXCH) Impact The Crypto Market In The Same Way As Tron (TRX) And Binance Coin (BNB)?.  Xchange Monster (MXCH) is a revolutionary crypto-gaming platform attempting to create an ecosystem catered to gamers and publishers. Continue reading Will Xchange Monster (MXCH) Impact The Crypto Market In The Same Way As Tron (TRX) And Binance Coin (BNB)? at DailyCoin.com. ... [| Skaityti daugiau](https://dailycoin.com/will-xchange-monster-mxch-impact-the-crypto-market-in-the-same-way-as-tron-trx-and-binance-coin-bnb/) "
      ],
      "text/plain": [
       "<IPython.core.display.Markdown object>"
      ]
     },
     "execution_count": 6,
     "metadata": {},
     "output_type": "execute_result"
    }
   ],
   "source": [
    "#hide_input\n",
    "#md('##### {}'.format(titleBTC)) \n",
    "md(\"- {}{} {}{} [| Skaityti daugiau]({}) \".format(trx['title'],'. ', trx['body'], ' ...', trx['url']))"
   ]
  },
  {
   "cell_type": "code",
   "execution_count": 7,
   "id": "illegal-greece",
   "metadata": {
    "execution": {
     "iopub.execute_input": "2022-07-02T03:16:26.490029Z",
     "iopub.status.busy": "2022-07-02T03:16:26.488506Z",
     "iopub.status.idle": "2022-07-02T03:16:26.493766Z",
     "shell.execute_reply": "2022-07-02T03:16:26.494399Z"
    },
    "papermill": {
     "duration": 0.022768,
     "end_time": "2022-07-02T03:16:26.494525",
     "exception": false,
     "start_time": "2022-07-02T03:16:26.471757",
     "status": "completed"
    },
    "tags": []
   },
   "outputs": [
    {
     "data": {
      "text/markdown": [
       "- Bitcoin, Ethereum, Fantom, and Neo Daily Price Analyses – 01 July Roundup.  The changes in the global crypto market continue as it has seen no difference. Its pace continued bullish over the last day, while now it seems to be reversing its gains. Bitcoin and other coins in the market face the same dilemma regardless of their sizes. These changes have resulted in lowering the market&#8217;s gains... ... [| Skaityti daugiau](https://www.cryptopolitan.com/bitcoin-ethereum-fantom-and-neo-daily-price-analyses-01-july-roundup/) "
      ],
      "text/plain": [
       "<IPython.core.display.Markdown object>"
      ]
     },
     "execution_count": 7,
     "metadata": {},
     "output_type": "execute_result"
    }
   ],
   "source": [
    "#hide_input\n",
    "#md('##### {}'.format(titleBTC)) \n",
    "md(\"- {}{} {}{} [| Skaityti daugiau]({}) \".format(eth['title'],'. ', eth['body'], ' ...', eth['url']))"
   ]
  },
  {
   "cell_type": "code",
   "execution_count": 8,
   "id": "sublime-lounge",
   "metadata": {
    "execution": {
     "iopub.execute_input": "2022-07-02T03:16:26.523739Z",
     "iopub.status.busy": "2022-07-02T03:16:26.522197Z",
     "iopub.status.idle": "2022-07-02T03:16:26.528049Z",
     "shell.execute_reply": "2022-07-02T03:16:26.527403Z"
    },
    "papermill": {
     "duration": 0.022012,
     "end_time": "2022-07-02T03:16:26.528161",
     "exception": false,
     "start_time": "2022-07-02T03:16:26.506149",
     "status": "completed"
    },
    "tags": []
   },
   "outputs": [
    {
     "data": {
      "text/markdown": [
       "- Price analysis 7/1: BTC, ETH, BNB, XRP, ADA, SOL, DOGE, DOT, LEO, SHIB.  Traders expect Bitcoin to swoop below its swing low before the price flattens out and altcoins begin to recover. ... [| Skaityti daugiau](https://cointelegraph.com/news/price-analysis-7-1-btc-eth-bnb-xrp-ada-sol-doge-dot-leo-shib) "
      ],
      "text/plain": [
       "<IPython.core.display.Markdown object>"
      ]
     },
     "execution_count": 8,
     "metadata": {},
     "output_type": "execute_result"
    }
   ],
   "source": [
    "#hide_input\n",
    "#md('##### {}'.format(titleBTC)) \n",
    "md(\"- {}{} {}{} [| Skaityti daugiau]({}) \".format(ada['title'],'. ', ada['body'], ' ...', ada['url']))"
   ]
  },
  {
   "cell_type": "code",
   "execution_count": 9,
   "id": "specified-ordering",
   "metadata": {
    "execution": {
     "iopub.execute_input": "2022-07-02T03:16:26.559002Z",
     "iopub.status.busy": "2022-07-02T03:16:26.558321Z",
     "iopub.status.idle": "2022-07-02T03:16:26.561441Z",
     "shell.execute_reply": "2022-07-02T03:16:26.561955Z"
    },
    "papermill": {
     "duration": 0.02201,
     "end_time": "2022-07-02T03:16:26.562081",
     "exception": false,
     "start_time": "2022-07-02T03:16:26.540071",
     "status": "completed"
    },
    "tags": []
   },
   "outputs": [
    {
     "data": {
      "text/markdown": [
       "- Coinbase Plans European Expansion Amid ‘Existential Priority’.  Nasdaq-listed cryptocurrency exchange Coinbase (COIN) is planning to expand throughout Europe to fuel its growth in new users and revenue by registering in markets that include Italy, Spain, the Netherlands, and France. According to Bloomberg, the company is building up its presence in Europe and is in the process of registering in markets throughout the […] ... [| Skaityti daugiau](https://www.cryptoglobe.com/latest/2022/07/coinbase-plans-european-expansion-amid-existential-priority/) "
      ],
      "text/plain": [
       "<IPython.core.display.Markdown object>"
      ]
     },
     "execution_count": 9,
     "metadata": {},
     "output_type": "execute_result"
    }
   ],
   "source": [
    "#hide_input\n",
    "#md('##### {}'.format(titleBTC)) \n",
    "md(\"- {}{} {}{} [| Skaityti daugiau]({}) \".format(exchange['title'],'. ', exchange['body'], ' ...', exchange['url']))"
   ]
  },
  {
   "cell_type": "code",
   "execution_count": null,
   "id": "tender-livestock",
   "metadata": {
    "papermill": {
     "duration": 0.012243,
     "end_time": "2022-07-02T03:16:26.587110",
     "exception": false,
     "start_time": "2022-07-02T03:16:26.574867",
     "status": "completed"
    },
    "tags": []
   },
   "outputs": [],
   "source": []
  },
  {
   "cell_type": "code",
   "execution_count": null,
   "id": "appreciated-diamond",
   "metadata": {
    "papermill": {
     "duration": 0.012217,
     "end_time": "2022-07-02T03:16:26.611611",
     "exception": false,
     "start_time": "2022-07-02T03:16:26.599394",
     "status": "completed"
    },
    "tags": []
   },
   "outputs": [],
   "source": []
  },
  {
   "cell_type": "code",
   "execution_count": null,
   "id": "romance-sweden",
   "metadata": {
    "papermill": {
     "duration": 0.011743,
     "end_time": "2022-07-02T03:16:26.635653",
     "exception": false,
     "start_time": "2022-07-02T03:16:26.623910",
     "status": "completed"
    },
    "tags": []
   },
   "outputs": [],
   "source": []
  },
  {
   "cell_type": "code",
   "execution_count": null,
   "id": "dietary-statistics",
   "metadata": {
    "papermill": {
     "duration": 0.012294,
     "end_time": "2022-07-02T03:16:26.660442",
     "exception": false,
     "start_time": "2022-07-02T03:16:26.648148",
     "status": "completed"
    },
    "tags": []
   },
   "outputs": [],
   "source": []
  }
 ],
 "metadata": {
  "kernelspec": {
   "display_name": "Python 3",
   "language": "python",
   "name": "python3"
  },
  "language_info": {
   "codemirror_mode": {
    "name": "ipython",
    "version": 3
   },
   "file_extension": ".py",
   "mimetype": "text/x-python",
   "name": "python",
   "nbconvert_exporter": "python",
   "pygments_lexer": "ipython3",
   "version": "3.6.15"
  },
  "papermill": {
   "default_parameters": {},
   "duration": 30.871974,
   "end_time": "2022-07-02T03:16:27.092285",
   "environment_variables": {},
   "exception": null,
   "input_path": "Market-News.ipynb",
   "output_path": "Market-News.ipynb",
   "parameters": {},
   "start_time": "2022-07-02T03:15:56.220311",
   "version": "2.2.2"
  }
 },
 "nbformat": 4,
 "nbformat_minor": 5
}