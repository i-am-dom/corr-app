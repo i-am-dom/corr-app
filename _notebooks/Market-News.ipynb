{
 "cells": [
  {
   "cell_type": "markdown",
   "id": "short-greensboro",
   "metadata": {
    "papermill": {
     "duration": 0.013154,
     "end_time": "2021-10-24T02:01:37.265635",
     "exception": false,
     "start_time": "2021-10-24T02:01:37.252481",
     "status": "completed"
    },
    "tags": []
   },
   "source": [
    "# Kriptovaliutų naujienos"
   ]
  },
  {
   "cell_type": "code",
   "execution_count": 1,
   "id": "functioning-knowing",
   "metadata": {
    "execution": {
     "iopub.execute_input": "2021-10-24T02:01:37.294318Z",
     "iopub.status.busy": "2021-10-24T02:01:37.293787Z",
     "iopub.status.idle": "2021-10-24T02:01:38.529974Z",
     "shell.execute_reply": "2021-10-24T02:01:38.529434Z"
    },
    "papermill": {
     "duration": 1.2548,
     "end_time": "2021-10-24T02:01:38.530138",
     "exception": false,
     "start_time": "2021-10-24T02:01:37.275338",
     "status": "completed"
    },
    "tags": []
   },
   "outputs": [],
   "source": [
    "#hide_input\n",
    "import warnings\n",
    "warnings.filterwarnings('ignore')\n",
    "from scripts.read_data import read_api\n",
    "from scripts.read_data import read_news\n",
    "from scripts.read_data import read_covid\n",
    "import matplotlib.pyplot as plt \n",
    "from IPython.display import Markdown as md"
   ]
  },
  {
   "cell_type": "code",
   "execution_count": 2,
   "id": "shared-acceptance",
   "metadata": {
    "execution": {
     "iopub.execute_input": "2021-10-24T02:01:38.555829Z",
     "iopub.status.busy": "2021-10-24T02:01:38.554861Z",
     "iopub.status.idle": "2021-10-24T02:01:47.857040Z",
     "shell.execute_reply": "2021-10-24T02:01:47.856503Z"
    },
    "papermill": {
     "duration": 9.317176,
     "end_time": "2021-10-24T02:01:47.857186",
     "exception": false,
     "start_time": "2021-10-24T02:01:38.540010",
     "status": "completed"
    },
    "tags": []
   },
   "outputs": [],
   "source": [
    "#hide_input\n",
    "blockchain = read_news('blockchain') \n",
    "btc = read_news('btc') \n",
    "xrp = read_news('xrp') \n",
    "trx = read_news('trx') \n",
    "eth = read_news('eth')  \n",
    "ada = read_news('ada')\n",
    "exchange = read_news('exchange') "
   ]
  },
  {
   "cell_type": "code",
   "execution_count": 3,
   "id": "synthetic-notion",
   "metadata": {
    "execution": {
     "iopub.execute_input": "2021-10-24T02:01:47.882036Z",
     "iopub.status.busy": "2021-10-24T02:01:47.881509Z",
     "iopub.status.idle": "2021-10-24T02:01:47.883632Z",
     "shell.execute_reply": "2021-10-24T02:01:47.884044Z"
    },
    "papermill": {
     "duration": 0.016902,
     "end_time": "2021-10-24T02:01:47.884157",
     "exception": false,
     "start_time": "2021-10-24T02:01:47.867255",
     "status": "completed"
    },
    "tags": []
   },
   "outputs": [
    {
     "data": {
      "text/markdown": [
       "- Titan Mining Firm Launches Open-source Project Lumerin, Set to Commodify Bitcoin’s Hashpower.  Titan, a bitcoin mining firm has revealed a new decentralized hashpower routing protocol called Lumerin. The open-source project will essentially be aiming to make bitcoin’s hashpower a tradable commodity through smart contracts. Mining Arm of Bloq Inc.,Titan Announces the Lumerin Protocol Titan, the mining arm of Bloq Inc. firm, has announced &#8216;Lumerin&#8217;, its decentralized hashpower The post Titan Mining Firm Launches Open-source Project Lumerin, Set to Commodify Bitcoin’s Hashpower appeared first on Coingape. ... [| Skaityti daugiau](https://coingape.com/titan-mining-firm-launches-open-source-project-lumerin-set-commodify-bitcoins-hashpower/) "
      ],
      "text/plain": [
       "<IPython.core.display.Markdown object>"
      ]
     },
     "execution_count": 3,
     "metadata": {},
     "output_type": "execute_result"
    }
   ],
   "source": [
    "#hide_input\n",
    "#md('##### {}'.format(titleBTC)) \n",
    "md(\"- {}{} {}{} [| Skaityti daugiau]({}) \".format(blockchain['title'],'. ', blockchain['body'], ' ...', blockchain['url']))"
   ]
  },
  {
   "cell_type": "code",
   "execution_count": 4,
   "id": "aging-caution",
   "metadata": {
    "execution": {
     "iopub.execute_input": "2021-10-24T02:01:47.907177Z",
     "iopub.status.busy": "2021-10-24T02:01:47.906624Z",
     "iopub.status.idle": "2021-10-24T02:01:47.909362Z",
     "shell.execute_reply": "2021-10-24T02:01:47.909745Z"
    },
    "papermill": {
     "duration": 0.01641,
     "end_time": "2021-10-24T02:01:47.909855",
     "exception": false,
     "start_time": "2021-10-24T02:01:47.893445",
     "status": "completed"
    },
    "tags": []
   },
   "outputs": [
    {
     "data": {
      "text/markdown": [
       "- Analyst says Bitcoin futures ETF ‘better than nothing, but ‘not as good as’ spot ETF.  The ProShares Bitcoin Futures ETF arrived with a bang, and hit more than $1 billion in assets under management [AUM] in around 48 hours of being listed. Adding to this, Bitcoin touched a new all time high of $67,017 last week. All impressive stats, no doubt, and experts had plenty to say. During an episode of the [&#8230;] ... [| Skaityti daugiau](https://ambcrypto.com/analyst-says-bitcoins-futures-etf-is-better-than-nothing-but-not-as-good-as-spot-etf/) "
      ],
      "text/plain": [
       "<IPython.core.display.Markdown object>"
      ]
     },
     "execution_count": 4,
     "metadata": {},
     "output_type": "execute_result"
    }
   ],
   "source": [
    "#hide_input\n",
    "#md('##### {}'.format(titleBTC)) \n",
    "md(\"- {}{} {}{} [| Skaityti daugiau]({}) \".format(btc['title'],'. ', btc['body'], ' ...', btc['url']))"
   ]
  },
  {
   "cell_type": "code",
   "execution_count": 5,
   "id": "organic-actress",
   "metadata": {
    "execution": {
     "iopub.execute_input": "2021-10-24T02:01:47.933240Z",
     "iopub.status.busy": "2021-10-24T02:01:47.932735Z",
     "iopub.status.idle": "2021-10-24T02:01:47.935353Z",
     "shell.execute_reply": "2021-10-24T02:01:47.935761Z"
    },
    "papermill": {
     "duration": 0.016444,
     "end_time": "2021-10-24T02:01:47.935876",
     "exception": false,
     "start_time": "2021-10-24T02:01:47.919432",
     "status": "completed"
    },
    "tags": []
   },
   "outputs": [
    {
     "data": {
      "text/markdown": [
       "- XRP Price Looks Solid, Will There be a Significant Upward Surge?.  The post XRP Price Looks Solid, Will There be a Significant Upward Surge? appeared first on Coinpedia - Fintech &amp; Cryptocurreny News Media| Crypto GuideBTC and ETH both reversed direction as they looked for fundamental support, implying that bears are trying to catch over-leveraged bulls. Despite Ripple&#8217;s legal battle with US securities regulators, XRP is looking solid. XRP is likely to convert a historic level of resistance into support, paving the stage for a significant surge. XRP Price Action &#8230; ... [| Skaityti daugiau](https://coinpedia.org/price-analysis/xrp-price-looks-solid-will-there-be-a-significant-upward-surge/) "
      ],
      "text/plain": [
       "<IPython.core.display.Markdown object>"
      ]
     },
     "execution_count": 5,
     "metadata": {},
     "output_type": "execute_result"
    }
   ],
   "source": [
    "#hide_input\n",
    "#md('##### {}'.format(titleBTC)) \n",
    "md(\"- {}{} {}{} [| Skaityti daugiau]({}) \".format(xrp['title'],'. ', xrp['body'], ' ...', xrp['url']))"
   ]
  },
  {
   "cell_type": "code",
   "execution_count": 6,
   "id": "prompt-farmer",
   "metadata": {
    "execution": {
     "iopub.execute_input": "2021-10-24T02:01:47.959947Z",
     "iopub.status.busy": "2021-10-24T02:01:47.959417Z",
     "iopub.status.idle": "2021-10-24T02:01:47.962537Z",
     "shell.execute_reply": "2021-10-24T02:01:47.962113Z"
    },
    "papermill": {
     "duration": 0.016802,
     "end_time": "2021-10-24T02:01:47.962634",
     "exception": false,
     "start_time": "2021-10-24T02:01:47.945832",
     "status": "completed"
    },
    "tags": []
   },
   "outputs": [
    {
     "data": {
      "text/markdown": [
       "- Shiba Inu, Tron, Uniswap Price Analysis: 20 October.  While Bitcoin hits the $63,000 mark, altcoins like SHIB and UNI show bearish signs. However, TRX seemed to follow in the footsteps of the King coin and showing some signs of recovery on the charts. Nevertheless, all of these coins show weak directional price trends in the near term. SHIB SHIB saw a 2.26% decrease [&#8230;] ... [| Skaityti daugiau](https://ambcrypto.com/shiba-inu-tron-uniswap-price-analysis-20-october/) "
      ],
      "text/plain": [
       "<IPython.core.display.Markdown object>"
      ]
     },
     "execution_count": 6,
     "metadata": {},
     "output_type": "execute_result"
    }
   ],
   "source": [
    "#hide_input\n",
    "#md('##### {}'.format(titleBTC)) \n",
    "md(\"- {}{} {}{} [| Skaityti daugiau]({}) \".format(trx['title'],'. ', trx['body'], ' ...', trx['url']))"
   ]
  },
  {
   "cell_type": "code",
   "execution_count": 7,
   "id": "illegal-greece",
   "metadata": {
    "execution": {
     "iopub.execute_input": "2021-10-24T02:01:47.987236Z",
     "iopub.status.busy": "2021-10-24T02:01:47.986735Z",
     "iopub.status.idle": "2021-10-24T02:01:47.989881Z",
     "shell.execute_reply": "2021-10-24T02:01:47.989475Z"
    },
    "papermill": {
     "duration": 0.016993,
     "end_time": "2021-10-24T02:01:47.989980",
     "exception": false,
     "start_time": "2021-10-24T02:01:47.972987",
     "status": "completed"
    },
    "tags": []
   },
   "outputs": [
    {
     "data": {
      "text/markdown": [
       "- XRP Price Looks Solid, Will There be a Significant Upward Surge?.  The post XRP Price Looks Solid, Will There be a Significant Upward Surge? appeared first on Coinpedia - Fintech &amp; Cryptocurreny News Media| Crypto GuideBTC and ETH both reversed direction as they looked for fundamental support, implying that bears are trying to catch over-leveraged bulls. Despite Ripple&#8217;s legal battle with US securities regulators, XRP is looking solid. XRP is likely to convert a historic level of resistance into support, paving the stage for a significant surge. XRP Price Action &#8230; ... [| Skaityti daugiau](https://coinpedia.org/price-analysis/xrp-price-looks-solid-will-there-be-a-significant-upward-surge/) "
      ],
      "text/plain": [
       "<IPython.core.display.Markdown object>"
      ]
     },
     "execution_count": 7,
     "metadata": {},
     "output_type": "execute_result"
    }
   ],
   "source": [
    "#hide_input\n",
    "#md('##### {}'.format(titleBTC)) \n",
    "md(\"- {}{} {}{} [| Skaityti daugiau]({}) \".format(eth['title'],'. ', eth['body'], ' ...', eth['url']))"
   ]
  },
  {
   "cell_type": "code",
   "execution_count": 8,
   "id": "sublime-lounge",
   "metadata": {
    "execution": {
     "iopub.execute_input": "2021-10-24T02:01:48.015203Z",
     "iopub.status.busy": "2021-10-24T02:01:48.014700Z",
     "iopub.status.idle": "2021-10-24T02:01:48.017392Z",
     "shell.execute_reply": "2021-10-24T02:01:48.016895Z"
    },
    "papermill": {
     "duration": 0.016908,
     "end_time": "2021-10-24T02:01:48.017489",
     "exception": false,
     "start_time": "2021-10-24T02:01:48.000581",
     "status": "completed"
    },
    "tags": []
   },
   "outputs": [
    {
     "data": {
      "text/markdown": [
       "- Cardano (ADA), XRP Price Could Retest These Levels Before Skyrocketing!.  The post Cardano (ADA), XRP Price Could Retest These Levels Before Skyrocketing! appeared first on Coinpedia - Fintech &amp; Cryptocurreny News Media| Crypto GuideHighlights XRP could possibly hit highs of around $1.2. Extreme sell-offs would plummet XRP below $1.ADA might hit its resistance around $2.4 but could test its support levels before the uptrend. &#160;&#160;The crypto space has been a rough sail for altcoins such as XRP and ADA. However, the coins have managed to withstand strong and &#8230; ... [| Skaityti daugiau](https://coinpedia.org/price-analysis/cardano-ada-xrp-price-could-retest-these-levels-before-skyrocketing/) "
      ],
      "text/plain": [
       "<IPython.core.display.Markdown object>"
      ]
     },
     "execution_count": 8,
     "metadata": {},
     "output_type": "execute_result"
    }
   ],
   "source": [
    "#hide_input\n",
    "#md('##### {}'.format(titleBTC)) \n",
    "md(\"- {}{} {}{} [| Skaityti daugiau]({}) \".format(ada['title'],'. ', ada['body'], ' ...', ada['url']))"
   ]
  },
  {
   "cell_type": "code",
   "execution_count": 9,
   "id": "specified-ordering",
   "metadata": {
    "execution": {
     "iopub.execute_input": "2021-10-24T02:01:48.043583Z",
     "iopub.status.busy": "2021-10-24T02:01:48.043062Z",
     "iopub.status.idle": "2021-10-24T02:01:48.046264Z",
     "shell.execute_reply": "2021-10-24T02:01:48.045841Z"
    },
    "papermill": {
     "duration": 0.017921,
     "end_time": "2021-10-24T02:01:48.046361",
     "exception": false,
     "start_time": "2021-10-24T02:01:48.028440",
     "status": "completed"
    },
    "tags": []
   },
   "outputs": [
    {
     "data": {
      "text/markdown": [
       "- No Shiba Inu For Robinhood, CEO Discloses, As Over 1,000,000 People Sign Up For Crypto Wallet.  The CEO of one of the US biggest exchange and trading platforms, Robinhood, has disclosed that the company now has over 1 million people waiting on the release of its native digital wallet. Vlad Tenev made this disclosure on Thursday to CNBC at its Disruptor 50 summit, where he equally stated that the platform will [&#8230;] ... [| Skaityti daugiau](https://zycrypto.com/no-shiba-inu-for-robinhood-ceo-discloses-as-over-1000000-people-sign-up-for-crypto-wallet/) "
      ],
      "text/plain": [
       "<IPython.core.display.Markdown object>"
      ]
     },
     "execution_count": 9,
     "metadata": {},
     "output_type": "execute_result"
    }
   ],
   "source": [
    "#hide_input\n",
    "#md('##### {}'.format(titleBTC)) \n",
    "md(\"- {}{} {}{} [| Skaityti daugiau]({}) \".format(exchange['title'],'. ', exchange['body'], ' ...', exchange['url']))"
   ]
  },
  {
   "cell_type": "code",
   "execution_count": null,
   "id": "tender-livestock",
   "metadata": {
    "papermill": {
     "duration": 0.011229,
     "end_time": "2021-10-24T02:01:48.068816",
     "exception": false,
     "start_time": "2021-10-24T02:01:48.057587",
     "status": "completed"
    },
    "tags": []
   },
   "outputs": [],
   "source": []
  },
  {
   "cell_type": "code",
   "execution_count": null,
   "id": "appreciated-diamond",
   "metadata": {
    "papermill": {
     "duration": 0.011206,
     "end_time": "2021-10-24T02:01:48.091373",
     "exception": false,
     "start_time": "2021-10-24T02:01:48.080167",
     "status": "completed"
    },
    "tags": []
   },
   "outputs": [],
   "source": []
  },
  {
   "cell_type": "code",
   "execution_count": null,
   "id": "romance-sweden",
   "metadata": {
    "papermill": {
     "duration": 0.011199,
     "end_time": "2021-10-24T02:01:48.113860",
     "exception": false,
     "start_time": "2021-10-24T02:01:48.102661",
     "status": "completed"
    },
    "tags": []
   },
   "outputs": [],
   "source": []
  },
  {
   "cell_type": "code",
   "execution_count": null,
   "id": "dietary-statistics",
   "metadata": {
    "papermill": {
     "duration": 0.011534,
     "end_time": "2021-10-24T02:01:48.136643",
     "exception": false,
     "start_time": "2021-10-24T02:01:48.125109",
     "status": "completed"
    },
    "tags": []
   },
   "outputs": [],
   "source": []
  }
 ],
 "metadata": {
  "kernelspec": {
   "display_name": "Python 3",
   "language": "python",
   "name": "python3"
  },
  "language_info": {
   "codemirror_mode": {
    "name": "ipython",
    "version": 3
   },
   "file_extension": ".py",
   "mimetype": "text/x-python",
   "name": "python",
   "nbconvert_exporter": "python",
   "pygments_lexer": "ipython3",
   "version": "3.6.15"
  },
  "papermill": {
   "default_parameters": {},
   "duration": 12.330072,
   "end_time": "2021-10-24T02:01:48.555015",
   "environment_variables": {},
   "exception": null,
   "input_path": "Market-News.ipynb",
   "output_path": "Market-News.ipynb",
   "parameters": {},
   "start_time": "2021-10-24T02:01:36.224943",
   "version": "2.2.2"
  }
 },
 "nbformat": 4,
 "nbformat_minor": 5
}