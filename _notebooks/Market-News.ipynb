{
 "cells": [
  {
   "cell_type": "markdown",
   "id": "short-greensboro",
   "metadata": {
    "papermill": {
     "duration": 0.013926,
     "end_time": "2022-06-17T03:06:30.402305",
     "exception": false,
     "start_time": "2022-06-17T03:06:30.388379",
     "status": "completed"
    },
    "tags": []
   },
   "source": [
    "# Kriptovaliutų naujienos"
   ]
  },
  {
   "cell_type": "code",
   "execution_count": 1,
   "id": "functioning-knowing",
   "metadata": {
    "execution": {
     "iopub.execute_input": "2022-06-17T03:06:30.435280Z",
     "iopub.status.busy": "2022-06-17T03:06:30.434564Z",
     "iopub.status.idle": "2022-06-17T03:06:31.754530Z",
     "shell.execute_reply": "2022-06-17T03:06:31.753962Z"
    },
    "papermill": {
     "duration": 1.342024,
     "end_time": "2022-06-17T03:06:31.754675",
     "exception": false,
     "start_time": "2022-06-17T03:06:30.412651",
     "status": "completed"
    },
    "tags": []
   },
   "outputs": [],
   "source": [
    "#hide_input\n",
    "import warnings\n",
    "warnings.filterwarnings('ignore')\n",
    "from scripts.read_data import read_api\n",
    "from scripts.read_data import read_news\n",
    "from scripts.read_data import read_covid\n",
    "import matplotlib.pyplot as plt \n",
    "from IPython.display import Markdown as md"
   ]
  },
  {
   "cell_type": "code",
   "execution_count": 2,
   "id": "shared-acceptance",
   "metadata": {
    "execution": {
     "iopub.execute_input": "2022-06-17T03:06:31.781320Z",
     "iopub.status.busy": "2022-06-17T03:06:31.780600Z",
     "iopub.status.idle": "2022-06-17T03:06:42.248322Z",
     "shell.execute_reply": "2022-06-17T03:06:42.247777Z"
    },
    "papermill": {
     "duration": 10.4841,
     "end_time": "2022-06-17T03:06:42.248463",
     "exception": false,
     "start_time": "2022-06-17T03:06:31.764363",
     "status": "completed"
    },
    "tags": []
   },
   "outputs": [],
   "source": [
    "#hide_input\n",
    "blockchain = read_news('blockchain') \n",
    "btc = read_news('btc') \n",
    "xrp = read_news('xrp') \n",
    "trx = read_news('trx') \n",
    "eth = read_news('eth')  \n",
    "ada = read_news('ada')\n",
    "exchange = read_news('exchange') "
   ]
  },
  {
   "cell_type": "code",
   "execution_count": 3,
   "id": "synthetic-notion",
   "metadata": {
    "execution": {
     "iopub.execute_input": "2022-06-17T03:06:42.275156Z",
     "iopub.status.busy": "2022-06-17T03:06:42.274430Z",
     "iopub.status.idle": "2022-06-17T03:06:42.278097Z",
     "shell.execute_reply": "2022-06-17T03:06:42.277591Z"
    },
    "papermill": {
     "duration": 0.019964,
     "end_time": "2022-06-17T03:06:42.278233",
     "exception": false,
     "start_time": "2022-06-17T03:06:42.258269",
     "status": "completed"
    },
    "tags": []
   },
   "outputs": [
    {
     "data": {
      "text/markdown": [
       "- The International Summit MetaVentures Bangkok Will Be Held on December 1-3, 2022.  MetaVentures &#8211; presents its second unique event in Thailand. The exclusivity of the event opens the door to business and investment opportunities targeting a broad international audience. Investments, Blockchain, Metaverse and NFT, Biotech, DeFi, DAO, Digital Art, mining, payment systems, and digital asset regulation are just some of the list of topics that will be [&#8230;]The post The International Summit MetaVentures Bangkok Will Be Held on December 1-3, 2022 appeared first on NullTX. ... [| Skaityti daugiau](https://nulltx.com/the-international-summit-metaventures-bangkok-will-be-held-on-december-1-3-2022/) "
      ],
      "text/plain": [
       "<IPython.core.display.Markdown object>"
      ]
     },
     "execution_count": 3,
     "metadata": {},
     "output_type": "execute_result"
    }
   ],
   "source": [
    "#hide_input\n",
    "#md('##### {}'.format(titleBTC)) \n",
    "md(\"- {}{} {}{} [| Skaityti daugiau]({}) \".format(blockchain['title'],'. ', blockchain['body'], ' ...', blockchain['url']))"
   ]
  },
  {
   "cell_type": "code",
   "execution_count": 4,
   "id": "aging-caution",
   "metadata": {
    "execution": {
     "iopub.execute_input": "2022-06-17T03:06:42.302870Z",
     "iopub.status.busy": "2022-06-17T03:06:42.302025Z",
     "iopub.status.idle": "2022-06-17T03:06:42.306374Z",
     "shell.execute_reply": "2022-06-17T03:06:42.306855Z"
    },
    "papermill": {
     "duration": 0.018926,
     "end_time": "2022-06-17T03:06:42.307001",
     "exception": false,
     "start_time": "2022-06-17T03:06:42.288075",
     "status": "completed"
    },
    "tags": []
   },
   "outputs": [
    {
     "data": {
      "text/markdown": [
       "- Panama’s President Partially Vetoes The Country’s Crypto Bill.  Panama's president vetoed a law that would regulate bitcoin, DAOs, and blockchain-related businesses. He asked for stricter AML measures. ... [| Skaityti daugiau](https://cryptopotato.com/panamas-president-partially-vetoes-the-countrys-crypto-bill/) "
      ],
      "text/plain": [
       "<IPython.core.display.Markdown object>"
      ]
     },
     "execution_count": 4,
     "metadata": {},
     "output_type": "execute_result"
    }
   ],
   "source": [
    "#hide_input\n",
    "#md('##### {}'.format(titleBTC)) \n",
    "md(\"- {}{} {}{} [| Skaityti daugiau]({}) \".format(btc['title'],'. ', btc['body'], ' ...', btc['url']))"
   ]
  },
  {
   "cell_type": "code",
   "execution_count": 5,
   "id": "organic-actress",
   "metadata": {
    "execution": {
     "iopub.execute_input": "2022-06-17T03:06:42.333096Z",
     "iopub.status.busy": "2022-06-17T03:06:42.332443Z",
     "iopub.status.idle": "2022-06-17T03:06:42.335833Z",
     "shell.execute_reply": "2022-06-17T03:06:42.336313Z"
    },
    "papermill": {
     "duration": 0.019352,
     "end_time": "2022-06-17T03:06:42.336465",
     "exception": false,
     "start_time": "2022-06-17T03:06:42.317113",
     "status": "completed"
    },
    "tags": []
   },
   "outputs": [
    {
     "data": {
      "text/markdown": [
       "- XRP Continues To Move Laterally, Does It Have A Bearish Target Now?.  XRP has been hovering within a price range over the past few days. Over the last 24 hours, the coin attempted to move slightly on the upside. The market movers also noted slight uptick on their charts after the Federal Reserve raised interest rates by 75-basis points. Technical outlook for XRP continues to paint bearish picture for the coin. The altcoin could soon attempt to move near its next support zone. Price of XRP has just managed to remain above the $0.30 mark. Immediate fall will push the coin to trade near the $0.24 price level. Sellers are still in panic mode as the asset continues to hover near the extreme selling zone on the chart. Bulls have tired out as choppiness has taken over the market, XRP over the last two days flashed an increase in buying strength but as the coin fell in value again, sellers have taken over. The global cryptocurrency market cap today is at $941 Billion with a fall of 0.5% in the last 24 hours. XRP Price Analysis: One Day Chart The altcoin was at $0.31 at the time of writing. It seems to have found its support at the $0.24 price level. After consolidating between $0.40 and $0.30 levels respectively, its looks as though further downside could be on the charts. Overhead resistance could be pointed at $0.38 as the coin has struggled to move past that aforementioned level lately. In the last week itself, XRP slumped by 22%. At the moment, the altcoin has fallen by 90% from its all time high va... ... [| Skaityti daugiau](https://www.newsbtc.com/news/xrp-continues-to-move-laterally-does-it-have-a-bearish-target-now/) "
      ],
      "text/plain": [
       "<IPython.core.display.Markdown object>"
      ]
     },
     "execution_count": 5,
     "metadata": {},
     "output_type": "execute_result"
    }
   ],
   "source": [
    "#hide_input\n",
    "#md('##### {}'.format(titleBTC)) \n",
    "md(\"- {}{} {}{} [| Skaityti daugiau]({}) \".format(xrp['title'],'. ', xrp['body'], ' ...', xrp['url']))"
   ]
  },
  {
   "cell_type": "code",
   "execution_count": 6,
   "id": "prompt-farmer",
   "metadata": {
    "execution": {
     "iopub.execute_input": "2022-06-17T03:06:42.363095Z",
     "iopub.status.busy": "2022-06-17T03:06:42.362444Z",
     "iopub.status.idle": "2022-06-17T03:06:42.366361Z",
     "shell.execute_reply": "2022-06-17T03:06:42.366866Z"
    },
    "papermill": {
     "duration": 0.020013,
     "end_time": "2022-06-17T03:06:42.367020",
     "exception": false,
     "start_time": "2022-06-17T03:06:42.347007",
     "status": "completed"
    },
    "tags": []
   },
   "outputs": [
    {
     "data": {
      "text/markdown": [
       "- Biggest Movers: SOL, TRX Nearly 10% Higher, as Crypto Prices Marginally Rebound.  SOL was nearly 10% higher on Thursday, as crypto prices rebounded following recent losses. The rebound comes a day after the latest Fed rate hike, with TRX also gaining on the news. Solana (SOL) SOL was trading higher during today&#x2019;s session, spurred by the latest Federal Reserve rate hike. Following a low of $28.46 on [&#8230;] ... [| Skaityti daugiau](https://news.bitcoin.com/biggest-movers-sol-trx-nearly-10-higher-as-crypto-prices-marginally-rebound/) "
      ],
      "text/plain": [
       "<IPython.core.display.Markdown object>"
      ]
     },
     "execution_count": 6,
     "metadata": {},
     "output_type": "execute_result"
    }
   ],
   "source": [
    "#hide_input\n",
    "#md('##### {}'.format(titleBTC)) \n",
    "md(\"- {}{} {}{} [| Skaityti daugiau]({}) \".format(trx['title'],'. ', trx['body'], ' ...', trx['url']))"
   ]
  },
  {
   "cell_type": "code",
   "execution_count": 7,
   "id": "illegal-greece",
   "metadata": {
    "execution": {
     "iopub.execute_input": "2022-06-17T03:06:42.394815Z",
     "iopub.status.busy": "2022-06-17T03:06:42.394132Z",
     "iopub.status.idle": "2022-06-17T03:06:42.397932Z",
     "shell.execute_reply": "2022-06-17T03:06:42.397378Z"
    },
    "papermill": {
     "duration": 0.0201,
     "end_time": "2022-06-17T03:06:42.398060",
     "exception": false,
     "start_time": "2022-06-17T03:06:42.377960",
     "status": "completed"
    },
    "tags": []
   },
   "outputs": [
    {
     "data": {
      "text/markdown": [
       "- Solana’s New Gas Fees Won’t Make the Network 'Expensive,' Says Co-Founder.  Solana’s new fee structure could lead to “gas wars” for big NFT drops, but it won’t cause fees to rise across the entire network like on Ethereum. ... [| Skaityti daugiau](https://decrypt.co/103106/solana-new-gas-fees) "
      ],
      "text/plain": [
       "<IPython.core.display.Markdown object>"
      ]
     },
     "execution_count": 7,
     "metadata": {},
     "output_type": "execute_result"
    }
   ],
   "source": [
    "#hide_input\n",
    "#md('##### {}'.format(titleBTC)) \n",
    "md(\"- {}{} {}{} [| Skaityti daugiau]({}) \".format(eth['title'],'. ', eth['body'], ' ...', eth['url']))"
   ]
  },
  {
   "cell_type": "code",
   "execution_count": 8,
   "id": "sublime-lounge",
   "metadata": {
    "execution": {
     "iopub.execute_input": "2022-06-17T03:06:42.428166Z",
     "iopub.status.busy": "2022-06-17T03:06:42.427209Z",
     "iopub.status.idle": "2022-06-17T03:06:42.431067Z",
     "shell.execute_reply": "2022-06-17T03:06:42.430549Z"
    },
    "papermill": {
     "duration": 0.020537,
     "end_time": "2022-06-17T03:06:42.431193",
     "exception": false,
     "start_time": "2022-06-17T03:06:42.410656",
     "status": "completed"
    },
    "tags": []
   },
   "outputs": [
    {
     "data": {
      "text/markdown": [
       "- ADA Displays Resilience In Bearish Phase, Sees Uptick in Circulation.  Since May 16, ETH’s value has declined by more than 46% whereas ADA has only fallen by 18%. ADA whales have been on a buying spree over the past few days. During broader market corrections, almost all tokens take a hit. However, some cryptocurrencies are relatively outperforming the broader market and seeing healthier dips than [&#8230;]The post ADA Displays Resilience In Bearish Phase, Sees Uptick in Circulation appeared first on Vauld Insights. ... [| Skaityti daugiau](https://www.vauld.com/insights/ada-displays-resilience-in-bearish-phase-sees-uptick-in-circulation/?utm_source=rss&utm_medium=rss&utm_campaign=ada-displays-resilience-in-bearish-phase-sees-uptick-in-circulation) "
      ],
      "text/plain": [
       "<IPython.core.display.Markdown object>"
      ]
     },
     "execution_count": 8,
     "metadata": {},
     "output_type": "execute_result"
    }
   ],
   "source": [
    "#hide_input\n",
    "#md('##### {}'.format(titleBTC)) \n",
    "md(\"- {}{} {}{} [| Skaityti daugiau]({}) \".format(ada['title'],'. ', ada['body'], ' ...', ada['url']))"
   ]
  },
  {
   "cell_type": "code",
   "execution_count": 9,
   "id": "specified-ordering",
   "metadata": {
    "execution": {
     "iopub.execute_input": "2022-06-17T03:06:42.460137Z",
     "iopub.status.busy": "2022-06-17T03:06:42.459483Z",
     "iopub.status.idle": "2022-06-17T03:06:42.463462Z",
     "shell.execute_reply": "2022-06-17T03:06:42.462926Z"
    },
    "papermill": {
     "duration": 0.020901,
     "end_time": "2022-06-17T03:06:42.463590",
     "exception": false,
     "start_time": "2022-06-17T03:06:42.442689",
     "status": "completed"
    },
    "tags": []
   },
   "outputs": [
    {
     "data": {
      "text/markdown": [
       "- Kazakhstan Will Now Allow Crypto Exchanges To Have Their Bank Accounts.  Kazakhstan is all set to launch a cryptocurrency pilot project in the economic zone of Astana International Finance Centre. This will provide exchange platforms to operate in a legal manner in the Astana International Finance Centre in this year itself. The country has also been making progress in regulating crypto mining but now has taken [&#8230;] ... [| Skaityti daugiau](https://bitcoinist.com/kazakhstan-crypto-exchanges-have-bank-accounts/) "
      ],
      "text/plain": [
       "<IPython.core.display.Markdown object>"
      ]
     },
     "execution_count": 9,
     "metadata": {},
     "output_type": "execute_result"
    }
   ],
   "source": [
    "#hide_input\n",
    "#md('##### {}'.format(titleBTC)) \n",
    "md(\"- {}{} {}{} [| Skaityti daugiau]({}) \".format(exchange['title'],'. ', exchange['body'], ' ...', exchange['url']))"
   ]
  },
  {
   "cell_type": "code",
   "execution_count": null,
   "id": "tender-livestock",
   "metadata": {
    "papermill": {
     "duration": 0.011878,
     "end_time": "2022-06-17T03:06:42.487347",
     "exception": false,
     "start_time": "2022-06-17T03:06:42.475469",
     "status": "completed"
    },
    "tags": []
   },
   "outputs": [],
   "source": []
  },
  {
   "cell_type": "code",
   "execution_count": null,
   "id": "appreciated-diamond",
   "metadata": {
    "papermill": {
     "duration": 0.011792,
     "end_time": "2022-06-17T03:06:42.511158",
     "exception": false,
     "start_time": "2022-06-17T03:06:42.499366",
     "status": "completed"
    },
    "tags": []
   },
   "outputs": [],
   "source": []
  },
  {
   "cell_type": "code",
   "execution_count": null,
   "id": "romance-sweden",
   "metadata": {
    "papermill": {
     "duration": 0.011709,
     "end_time": "2022-06-17T03:06:42.534675",
     "exception": false,
     "start_time": "2022-06-17T03:06:42.522966",
     "status": "completed"
    },
    "tags": []
   },
   "outputs": [],
   "source": []
  },
  {
   "cell_type": "code",
   "execution_count": null,
   "id": "dietary-statistics",
   "metadata": {
    "papermill": {
     "duration": 0.011756,
     "end_time": "2022-06-17T03:06:42.558302",
     "exception": false,
     "start_time": "2022-06-17T03:06:42.546546",
     "status": "completed"
    },
    "tags": []
   },
   "outputs": [],
   "source": []
  }
 ],
 "metadata": {
  "kernelspec": {
   "display_name": "Python 3",
   "language": "python",
   "name": "python3"
  },
  "language_info": {
   "codemirror_mode": {
    "name": "ipython",
    "version": 3
   },
   "file_extension": ".py",
   "mimetype": "text/x-python",
   "name": "python",
   "nbconvert_exporter": "python",
   "pygments_lexer": "ipython3",
   "version": "3.6.15"
  },
  "papermill": {
   "default_parameters": {},
   "duration": 13.960509,
   "end_time": "2022-06-17T03:06:43.089557",
   "environment_variables": {},
   "exception": null,
   "input_path": "Market-News.ipynb",
   "output_path": "Market-News.ipynb",
   "parameters": {},
   "start_time": "2022-06-17T03:06:29.129048",
   "version": "2.2.2"
  }
 },
 "nbformat": 4,
 "nbformat_minor": 5
}