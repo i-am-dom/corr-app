{
 "cells": [
  {
   "cell_type": "markdown",
   "id": "short-greensboro",
   "metadata": {
    "papermill": {
     "duration": 0.0143,
     "end_time": "2022-11-22T02:52:32.553961",
     "exception": false,
     "start_time": "2022-11-22T02:52:32.539661",
     "status": "completed"
    },
    "tags": []
   },
   "source": [
    "# Kriptovaliutų naujienos"
   ]
  },
  {
   "cell_type": "code",
   "execution_count": 1,
   "id": "functioning-knowing",
   "metadata": {
    "execution": {
     "iopub.execute_input": "2022-11-22T02:52:32.588468Z",
     "iopub.status.busy": "2022-11-22T02:52:32.587663Z",
     "iopub.status.idle": "2022-11-22T02:52:34.129344Z",
     "shell.execute_reply": "2022-11-22T02:52:34.130293Z"
    },
    "papermill": {
     "duration": 1.564696,
     "end_time": "2022-11-22T02:52:34.130502",
     "exception": false,
     "start_time": "2022-11-22T02:52:32.565806",
     "status": "completed"
    },
    "tags": []
   },
   "outputs": [],
   "source": [
    "#hide_input\n",
    "import warnings\n",
    "warnings.filterwarnings('ignore')\n",
    "from scripts.read_data import read_api\n",
    "from scripts.read_data import read_news\n",
    "from scripts.read_data import read_covid\n",
    "import matplotlib.pyplot as plt \n",
    "from IPython.display import Markdown as md"
   ]
  },
  {
   "cell_type": "code",
   "execution_count": 2,
   "id": "shared-acceptance",
   "metadata": {
    "execution": {
     "iopub.execute_input": "2022-11-22T02:52:34.160064Z",
     "iopub.status.busy": "2022-11-22T02:52:34.158827Z",
     "iopub.status.idle": "2022-11-22T02:52:42.043289Z",
     "shell.execute_reply": "2022-11-22T02:52:42.042281Z"
    },
    "papermill": {
     "duration": 7.901778,
     "end_time": "2022-11-22T02:52:42.043446",
     "exception": false,
     "start_time": "2022-11-22T02:52:34.141668",
     "status": "completed"
    },
    "tags": []
   },
   "outputs": [],
   "source": [
    "#hide_input\n",
    "blockchain = read_news('blockchain') \n",
    "btc = read_news('btc') \n",
    "xrp = read_news('xrp') \n",
    "trx = read_news('trx') \n",
    "eth = read_news('eth')  \n",
    "ada = read_news('ada')\n",
    "exchange = read_news('exchange') "
   ]
  },
  {
   "cell_type": "code",
   "execution_count": 3,
   "id": "synthetic-notion",
   "metadata": {
    "execution": {
     "iopub.execute_input": "2022-11-22T02:52:42.078145Z",
     "iopub.status.busy": "2022-11-22T02:52:42.077287Z",
     "iopub.status.idle": "2022-11-22T02:52:42.082094Z",
     "shell.execute_reply": "2022-11-22T02:52:42.082700Z"
    },
    "papermill": {
     "duration": 0.0253,
     "end_time": "2022-11-22T02:52:42.082864",
     "exception": false,
     "start_time": "2022-11-22T02:52:42.057564",
     "status": "completed"
    },
    "tags": []
   },
   "outputs": [
    {
     "data": {
      "text/markdown": [
       "- Vitalik Buterin Talks About The Mayhem Caused By FTX Collapse.  In an interview published on Nov. 20, Vitalik Buterin said that the crypto industry may learn from the failure of FTX. The post Vitalik Buterin Talks About The Mayhem Caused By FTX Collapse appeared first on Blockchain, Crypto and Stock News . ... [| Skaityti daugiau](https://thecoinrise.com/vitalik-buterin-talks-about-the-mayhem-caused-by-ftx-collapse/) "
      ],
      "text/plain": [
       "<IPython.core.display.Markdown object>"
      ]
     },
     "execution_count": 3,
     "metadata": {},
     "output_type": "execute_result"
    }
   ],
   "source": [
    "#hide_input\n",
    "#md('##### {}'.format(titleBTC)) \n",
    "md(\"- {}{} {}{} [| Skaityti daugiau]({}) \".format(blockchain['title'],'. ', blockchain['body'], ' ...', blockchain['url']))"
   ]
  },
  {
   "cell_type": "code",
   "execution_count": 4,
   "id": "aging-caution",
   "metadata": {
    "execution": {
     "iopub.execute_input": "2022-11-22T02:52:42.112712Z",
     "iopub.status.busy": "2022-11-22T02:52:42.110145Z",
     "iopub.status.idle": "2022-11-22T02:52:42.117556Z",
     "shell.execute_reply": "2022-11-22T02:52:42.116950Z"
    },
    "papermill": {
     "duration": 0.022996,
     "end_time": "2022-11-22T02:52:42.117694",
     "exception": false,
     "start_time": "2022-11-22T02:52:42.094698",
     "status": "completed"
    },
    "tags": []
   },
   "outputs": [
    {
     "data": {
      "text/markdown": [
       "- FTX crisis leads to record inflows into short-investment products.  The aftermath of FTX’s collapse has soured crypto investor sentiment with \"record” inflows into short-investment products last week, said CoinShares. ... [| Skaityti daugiau](https://cointelegraph.com/news/ftx-crisis-leads-to-record-inflows-into-short-investment-products) "
      ],
      "text/plain": [
       "<IPython.core.display.Markdown object>"
      ]
     },
     "execution_count": 4,
     "metadata": {},
     "output_type": "execute_result"
    }
   ],
   "source": [
    "#hide_input\n",
    "#md('##### {}'.format(titleBTC)) \n",
    "md(\"- {}{} {}{} [| Skaityti daugiau]({}) \".format(btc['title'],'. ', btc['body'], ' ...', btc['url']))"
   ]
  },
  {
   "cell_type": "code",
   "execution_count": 5,
   "id": "organic-actress",
   "metadata": {
    "execution": {
     "iopub.execute_input": "2022-11-22T02:52:42.149566Z",
     "iopub.status.busy": "2022-11-22T02:52:42.148751Z",
     "iopub.status.idle": "2022-11-22T02:52:42.153421Z",
     "shell.execute_reply": "2022-11-22T02:52:42.152666Z"
    },
    "papermill": {
     "duration": 0.023464,
     "end_time": "2022-11-22T02:52:42.153617",
     "exception": false,
     "start_time": "2022-11-22T02:52:42.130153",
     "status": "completed"
    },
    "tags": []
   },
   "outputs": [
    {
     "data": {
      "text/markdown": [
       "- XRP Paints Hidden Pattern That You Most Likely Missed: Crypto Market Review, Nov. 21.  Despite depression on market, XRP has something interesting for investors ... [| Skaityti daugiau](https://u.today/xrp-paints-hidden-pattern-that-you-most-likely-missed-crypto-market-review-nov-21) "
      ],
      "text/plain": [
       "<IPython.core.display.Markdown object>"
      ]
     },
     "execution_count": 5,
     "metadata": {},
     "output_type": "execute_result"
    }
   ],
   "source": [
    "#hide_input\n",
    "#md('##### {}'.format(titleBTC)) \n",
    "md(\"- {}{} {}{} [| Skaityti daugiau]({}) \".format(xrp['title'],'. ', xrp['body'], ' ...', xrp['url']))"
   ]
  },
  {
   "cell_type": "code",
   "execution_count": 6,
   "id": "prompt-farmer",
   "metadata": {
    "execution": {
     "iopub.execute_input": "2022-11-22T02:52:42.187904Z",
     "iopub.status.busy": "2022-11-22T02:52:42.187183Z",
     "iopub.status.idle": "2022-11-22T02:52:42.191803Z",
     "shell.execute_reply": "2022-11-22T02:52:42.191216Z"
    },
    "papermill": {
     "duration": 0.023928,
     "end_time": "2022-11-22T02:52:42.191931",
     "exception": false,
     "start_time": "2022-11-22T02:52:42.168003",
     "status": "completed"
    },
    "tags": []
   },
   "outputs": [
    {
     "data": {
      "text/markdown": [
       "- Reasons Tron investors can expect some chaos from TRX in the last weeks of 2022.  TRON’s Galaxy Score looked optimistic TRX’s Relative Strength Index (RSI) was oversold, which was bullish According to a report by LunarCrush, TRON [TRX] had made it on the list of cryptos that had the highest Galaxy score. This was optimistic for TRX, as it indicated a price pump in the coming days. Read TRON’s [TRX] ... [| Skaityti daugiau](https://ambcrypto.com/reasons-tron-investors-can-expect-some-chaos-from-trx-in-the-last-weeks-of-2022/) "
      ],
      "text/plain": [
       "<IPython.core.display.Markdown object>"
      ]
     },
     "execution_count": 6,
     "metadata": {},
     "output_type": "execute_result"
    }
   ],
   "source": [
    "#hide_input\n",
    "#md('##### {}'.format(titleBTC)) \n",
    "md(\"- {}{} {}{} [| Skaityti daugiau]({}) \".format(trx['title'],'. ', trx['body'], ' ...', trx['url']))"
   ]
  },
  {
   "cell_type": "code",
   "execution_count": 7,
   "id": "illegal-greece",
   "metadata": {
    "execution": {
     "iopub.execute_input": "2022-11-22T02:52:42.224671Z",
     "iopub.status.busy": "2022-11-22T02:52:42.223916Z",
     "iopub.status.idle": "2022-11-22T02:52:42.228665Z",
     "shell.execute_reply": "2022-11-22T02:52:42.229387Z"
    },
    "papermill": {
     "duration": 0.0246,
     "end_time": "2022-11-22T02:52:42.229548",
     "exception": false,
     "start_time": "2022-11-22T02:52:42.204948",
     "status": "completed"
    },
    "tags": []
   },
   "outputs": [
    {
     "data": {
      "text/markdown": [
       "- FTX crisis leads to record inflows into short-investment products.  The aftermath of FTX’s collapse has soured crypto investor sentiment with \"record” inflows into short-investment products last week, said CoinShares. ... [| Skaityti daugiau](https://cointelegraph.com/news/ftx-crisis-leads-to-record-inflows-into-short-investment-products) "
      ],
      "text/plain": [
       "<IPython.core.display.Markdown object>"
      ]
     },
     "execution_count": 7,
     "metadata": {},
     "output_type": "execute_result"
    }
   ],
   "source": [
    "#hide_input\n",
    "#md('##### {}'.format(titleBTC)) \n",
    "md(\"- {}{} {}{} [| Skaityti daugiau]({}) \".format(eth['title'],'. ', eth['body'], ' ...', eth['url']))"
   ]
  },
  {
   "cell_type": "code",
   "execution_count": 8,
   "id": "sublime-lounge",
   "metadata": {
    "execution": {
     "iopub.execute_input": "2022-11-22T02:52:42.263614Z",
     "iopub.status.busy": "2022-11-22T02:52:42.262154Z",
     "iopub.status.idle": "2022-11-22T02:52:42.268364Z",
     "shell.execute_reply": "2022-11-22T02:52:42.267732Z"
    },
    "papermill": {
     "duration": 0.024272,
     "end_time": "2022-11-22T02:52:42.268492",
     "exception": false,
     "start_time": "2022-11-22T02:52:42.244220",
     "status": "completed"
    },
    "tags": []
   },
   "outputs": [
    {
     "data": {
      "text/markdown": [
       "- Will ADA Continue To Decline? This Cardano Critic Thinks So.  Cardano (ADA) is often a target for criticism, especially within the Ethereum community and the crypto winter has not changed that. From being called a ghost chain to a meme coin, the digital asset has seen it all. This time around, another vocal critic of the blockchain has come forward to give a grim forecast ... [| Skaityti daugiau](https://bitcoinist.com/cardano-critic-thinks-ada-will-decline/) "
      ],
      "text/plain": [
       "<IPython.core.display.Markdown object>"
      ]
     },
     "execution_count": 8,
     "metadata": {},
     "output_type": "execute_result"
    }
   ],
   "source": [
    "#hide_input\n",
    "#md('##### {}'.format(titleBTC)) \n",
    "md(\"- {}{} {}{} [| Skaityti daugiau]({}) \".format(ada['title'],'. ', ada['body'], ' ...', ada['url']))"
   ]
  },
  {
   "cell_type": "code",
   "execution_count": 9,
   "id": "specified-ordering",
   "metadata": {
    "execution": {
     "iopub.execute_input": "2022-11-22T02:52:42.304496Z",
     "iopub.status.busy": "2022-11-22T02:52:42.303728Z",
     "iopub.status.idle": "2022-11-22T02:52:42.308492Z",
     "shell.execute_reply": "2022-11-22T02:52:42.307889Z"
    },
    "papermill": {
     "duration": 0.026082,
     "end_time": "2022-11-22T02:52:42.308626",
     "exception": false,
     "start_time": "2022-11-22T02:52:42.282544",
     "status": "completed"
    },
    "tags": []
   },
   "outputs": [
    {
     "data": {
      "text/markdown": [
       "- First Mover Asia: Bitcoin Falls to 2-Year Low on Renewed Contagion Fears.  ALSO: Singapore's central bank is under scrutiny over whether Sam Bankman-Fried's FTX exchange received favorable regulatory treatment, Sam Reynolds writes. ... [| Skaityti daugiau](https://www.coindesk.com/markets/2022/11/22/first-mover-asia-bitcoin-falls-to-2-year-low-on-renewed-contagion-fears/?utm_medium=referral&utm_source=rss&utm_campaign=headlines) "
      ],
      "text/plain": [
       "<IPython.core.display.Markdown object>"
      ]
     },
     "execution_count": 9,
     "metadata": {},
     "output_type": "execute_result"
    }
   ],
   "source": [
    "#hide_input\n",
    "#md('##### {}'.format(titleBTC)) \n",
    "md(\"- {}{} {}{} [| Skaityti daugiau]({}) \".format(exchange['title'],'. ', exchange['body'], ' ...', exchange['url']))"
   ]
  },
  {
   "cell_type": "code",
   "execution_count": null,
   "id": "tender-livestock",
   "metadata": {
    "papermill": {
     "duration": 0.013771,
     "end_time": "2022-11-22T02:52:42.336350",
     "exception": false,
     "start_time": "2022-11-22T02:52:42.322579",
     "status": "completed"
    },
    "tags": []
   },
   "outputs": [],
   "source": []
  },
  {
   "cell_type": "code",
   "execution_count": null,
   "id": "appreciated-diamond",
   "metadata": {
    "papermill": {
     "duration": 0.013176,
     "end_time": "2022-11-22T02:52:42.363472",
     "exception": false,
     "start_time": "2022-11-22T02:52:42.350296",
     "status": "completed"
    },
    "tags": []
   },
   "outputs": [],
   "source": []
  },
  {
   "cell_type": "code",
   "execution_count": null,
   "id": "romance-sweden",
   "metadata": {
    "papermill": {
     "duration": 0.013563,
     "end_time": "2022-11-22T02:52:42.390468",
     "exception": false,
     "start_time": "2022-11-22T02:52:42.376905",
     "status": "completed"
    },
    "tags": []
   },
   "outputs": [],
   "source": []
  },
  {
   "cell_type": "code",
   "execution_count": null,
   "id": "dietary-statistics",
   "metadata": {
    "papermill": {
     "duration": 0.012849,
     "end_time": "2022-11-22T02:52:42.417625",
     "exception": false,
     "start_time": "2022-11-22T02:52:42.404776",
     "status": "completed"
    },
    "tags": []
   },
   "outputs": [],
   "source": []
  }
 ],
 "metadata": {
  "kernelspec": {
   "display_name": "Python 3",
   "language": "python",
   "name": "python3"
  },
  "language_info": {
   "codemirror_mode": {
    "name": "ipython",
    "version": 3
   },
   "file_extension": ".py",
   "mimetype": "text/x-python",
   "name": "python",
   "nbconvert_exporter": "python",
   "pygments_lexer": "ipython3",
   "version": "3.6.15"
  },
  "papermill": {
   "default_parameters": {},
   "duration": 11.71813,
   "end_time": "2022-11-22T02:52:42.950980",
   "environment_variables": {},
   "exception": null,
   "input_path": "Market-News.ipynb",
   "output_path": "Market-News.ipynb",
   "parameters": {},
   "start_time": "2022-11-22T02:52:31.232850",
   "version": "2.2.2"
  }
 },
 "nbformat": 4,
 "nbformat_minor": 5
}