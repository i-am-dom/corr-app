{
 "cells": [
  {
   "cell_type": "markdown",
   "id": "short-greensboro",
   "metadata": {
    "papermill": {
     "duration": 0.01566,
     "end_time": "2022-11-05T03:01:57.504322",
     "exception": false,
     "start_time": "2022-11-05T03:01:57.488662",
     "status": "completed"
    },
    "tags": []
   },
   "source": [
    "# Kriptovaliutų naujienos"
   ]
  },
  {
   "cell_type": "code",
   "execution_count": 1,
   "id": "functioning-knowing",
   "metadata": {
    "execution": {
     "iopub.execute_input": "2022-11-05T03:01:57.538894Z",
     "iopub.status.busy": "2022-11-05T03:01:57.538169Z",
     "iopub.status.idle": "2022-11-05T03:01:58.947174Z",
     "shell.execute_reply": "2022-11-05T03:01:58.947820Z"
    },
    "papermill": {
     "duration": 1.431931,
     "end_time": "2022-11-05T03:01:58.948034",
     "exception": false,
     "start_time": "2022-11-05T03:01:57.516103",
     "status": "completed"
    },
    "tags": []
   },
   "outputs": [],
   "source": [
    "#hide_input\n",
    "import warnings\n",
    "warnings.filterwarnings('ignore')\n",
    "from scripts.read_data import read_api\n",
    "from scripts.read_data import read_news\n",
    "from scripts.read_data import read_covid\n",
    "import matplotlib.pyplot as plt \n",
    "from IPython.display import Markdown as md"
   ]
  },
  {
   "cell_type": "code",
   "execution_count": 2,
   "id": "shared-acceptance",
   "metadata": {
    "execution": {
     "iopub.execute_input": "2022-11-05T03:01:58.978888Z",
     "iopub.status.busy": "2022-11-05T03:01:58.978172Z",
     "iopub.status.idle": "2022-11-05T03:02:12.370101Z",
     "shell.execute_reply": "2022-11-05T03:02:12.368566Z"
    },
    "papermill": {
     "duration": 13.41114,
     "end_time": "2022-11-05T03:02:12.370326",
     "exception": false,
     "start_time": "2022-11-05T03:01:58.959186",
     "status": "completed"
    },
    "tags": []
   },
   "outputs": [],
   "source": [
    "#hide_input\n",
    "blockchain = read_news('blockchain') \n",
    "btc = read_news('btc') \n",
    "xrp = read_news('xrp') \n",
    "trx = read_news('trx') \n",
    "eth = read_news('eth')  \n",
    "ada = read_news('ada')\n",
    "exchange = read_news('exchange') "
   ]
  },
  {
   "cell_type": "code",
   "execution_count": 3,
   "id": "synthetic-notion",
   "metadata": {
    "execution": {
     "iopub.execute_input": "2022-11-05T03:02:12.397610Z",
     "iopub.status.busy": "2022-11-05T03:02:12.395019Z",
     "iopub.status.idle": "2022-11-05T03:02:12.400916Z",
     "shell.execute_reply": "2022-11-05T03:02:12.401406Z"
    },
    "papermill": {
     "duration": 0.020666,
     "end_time": "2022-11-05T03:02:12.401546",
     "exception": false,
     "start_time": "2022-11-05T03:02:12.380880",
     "status": "completed"
    },
    "tags": []
   },
   "outputs": [
    {
     "data": {
      "text/markdown": [
       "- How these plans might be instrumental to USDC’s near-term growth.  According to a tweet shared on the 3rd of November, Circle&#8217;s (The issuer of the stablecoin USDC) cross-chain transfer protocol will go live on Ethereum and Avalanche by the end of this year. The cross-chain transfer protocol will effectively teleport USDC from one ecosystem to another, maximizing capital efficiency and streamlining the user experience. This [&#8230;] ... [| Skaityti daugiau](https://ambcrypto.com/how-these-plans-might-be-instrumental-to-usdcs-near-term-growth/) "
      ],
      "text/plain": [
       "<IPython.core.display.Markdown object>"
      ]
     },
     "execution_count": 3,
     "metadata": {},
     "output_type": "execute_result"
    }
   ],
   "source": [
    "#hide_input\n",
    "#md('##### {}'.format(titleBTC)) \n",
    "md(\"- {}{} {}{} [| Skaityti daugiau]({}) \".format(blockchain['title'],'. ', blockchain['body'], ' ...', blockchain['url']))"
   ]
  },
  {
   "cell_type": "code",
   "execution_count": 4,
   "id": "aging-caution",
   "metadata": {
    "execution": {
     "iopub.execute_input": "2022-11-05T03:02:12.428606Z",
     "iopub.status.busy": "2022-11-05T03:02:12.427074Z",
     "iopub.status.idle": "2022-11-05T03:02:12.432464Z",
     "shell.execute_reply": "2022-11-05T03:02:12.431896Z"
    },
    "papermill": {
     "duration": 0.020185,
     "end_time": "2022-11-05T03:02:12.432583",
     "exception": false,
     "start_time": "2022-11-05T03:02:12.412398",
     "status": "completed"
    },
    "tags": []
   },
   "outputs": [
    {
     "data": {
      "text/markdown": [
       "- From The BPI To Treasury: Bitcoin Is A Strategic Asset for National Security.  The BPI took on the U.S. Department of Treasury’s challenge. Treasury requested public comment on digital assets&#8217; national security implications, and the Bitcoin Policy Institute answered with a bomb of a document. It explains the overall value of bitcoin as a tool for freedom. It compares bitcoin to classic US-funded initiatives like Radio Free Europe [&#8230;] ... [| Skaityti daugiau](https://bitcoinist.com/the-bpi-bitcoin-strategic-asset-national-security/) "
      ],
      "text/plain": [
       "<IPython.core.display.Markdown object>"
      ]
     },
     "execution_count": 4,
     "metadata": {},
     "output_type": "execute_result"
    }
   ],
   "source": [
    "#hide_input\n",
    "#md('##### {}'.format(titleBTC)) \n",
    "md(\"- {}{} {}{} [| Skaityti daugiau]({}) \".format(btc['title'],'. ', btc['body'], ' ...', btc['url']))"
   ]
  },
  {
   "cell_type": "code",
   "execution_count": 5,
   "id": "organic-actress",
   "metadata": {
    "execution": {
     "iopub.execute_input": "2022-11-05T03:02:12.460281Z",
     "iopub.status.busy": "2022-11-05T03:02:12.458729Z",
     "iopub.status.idle": "2022-11-05T03:02:12.464553Z",
     "shell.execute_reply": "2022-11-05T03:02:12.463763Z"
    },
    "papermill": {
     "duration": 0.021193,
     "end_time": "2022-11-05T03:02:12.464678",
     "exception": false,
     "start_time": "2022-11-05T03:02:12.443485",
     "status": "completed"
    },
    "tags": []
   },
   "outputs": [
    {
     "data": {
      "text/markdown": [
       "- A re-listing spree for XRP on exchanges soon? Maybe, but only if….  Ripple&#8217;s problems started when the Securities and Exchange Commission (SEC) started looking into how the company advertised and sold its XRP tokens. Since then, the SEC has maintained that the token is a security and as such, violates SEC requirements. Although the SEC has maintained this position for a long time, Ripple Labs continues to [&#8230;] ... [| Skaityti daugiau](https://ambcrypto.com/a-re-listing-spree-for-xrp-on-exchanges-soon-maybe-but-only-if/) "
      ],
      "text/plain": [
       "<IPython.core.display.Markdown object>"
      ]
     },
     "execution_count": 5,
     "metadata": {},
     "output_type": "execute_result"
    }
   ],
   "source": [
    "#hide_input\n",
    "#md('##### {}'.format(titleBTC)) \n",
    "md(\"- {}{} {}{} [| Skaityti daugiau]({}) \".format(xrp['title'],'. ', xrp['body'], ' ...', xrp['url']))"
   ]
  },
  {
   "cell_type": "code",
   "execution_count": 6,
   "id": "prompt-farmer",
   "metadata": {
    "execution": {
     "iopub.execute_input": "2022-11-05T03:02:12.493373Z",
     "iopub.status.busy": "2022-11-05T03:02:12.492453Z",
     "iopub.status.idle": "2022-11-05T03:02:12.497279Z",
     "shell.execute_reply": "2022-11-05T03:02:12.496763Z"
    },
    "papermill": {
     "duration": 0.02037,
     "end_time": "2022-11-05T03:02:12.497396",
     "exception": false,
     "start_time": "2022-11-05T03:02:12.477026",
     "status": "completed"
    },
    "tags": []
   },
   "outputs": [
    {
     "data": {
      "text/markdown": [
       "- TRX investors may want to pay attention to the network’s latest update.  TRON network recently released its latest weekly update, one that you might want to look into especially if you are a TRX trader/investor. In fact, some argue that these developments might influence the demand for TRX going forward. Here&#8217;s AMBCrypto&#8217;s Price Prediction for Tron (TRX)for 2023-24 The network announced a collaboration with popular crypto-exchange Kraken, [&#8230;] ... [| Skaityti daugiau](https://ambcrypto.com/trx-investors-may-want-to-pay-attention-to-the-networks-latest-update/) "
      ],
      "text/plain": [
       "<IPython.core.display.Markdown object>"
      ]
     },
     "execution_count": 6,
     "metadata": {},
     "output_type": "execute_result"
    }
   ],
   "source": [
    "#hide_input\n",
    "#md('##### {}'.format(titleBTC)) \n",
    "md(\"- {}{} {}{} [| Skaityti daugiau]({}) \".format(trx['title'],'. ', trx['body'], ' ...', trx['url']))"
   ]
  },
  {
   "cell_type": "code",
   "execution_count": 7,
   "id": "illegal-greece",
   "metadata": {
    "execution": {
     "iopub.execute_input": "2022-11-05T03:02:12.527865Z",
     "iopub.status.busy": "2022-11-05T03:02:12.526321Z",
     "iopub.status.idle": "2022-11-05T03:02:12.531645Z",
     "shell.execute_reply": "2022-11-05T03:02:12.532190Z"
    },
    "papermill": {
     "duration": 0.023246,
     "end_time": "2022-11-05T03:02:12.532318",
     "exception": false,
     "start_time": "2022-11-05T03:02:12.509072",
     "status": "completed"
    },
    "tags": []
   },
   "outputs": [
    {
     "data": {
      "text/markdown": [
       "- Goldman Sachs Starts Classifying $BTC, $ETH, $ADA, $SHIB and Other Cryptocurrencies.  Goldman Sachs is set to start classifying the cryptocurrency industry in a bid to standardize the way the financial industry sees the nascent space, meaning the Wall Street giant will be classifying Bitcoin ($BTC), Ethereum ($ETH), Cardano ($ADA) and even meme-inspired assets like Shiba Inu ($SHIB). According to a report from CNBC, the investment bank […] ... [| Skaityti daugiau](https://www.cryptoglobe.com/latest/2022/11/goldman-sachs-starts-classifying-btc-eth-ada-shib-and-other-cryptocurrencies/) "
      ],
      "text/plain": [
       "<IPython.core.display.Markdown object>"
      ]
     },
     "execution_count": 7,
     "metadata": {},
     "output_type": "execute_result"
    }
   ],
   "source": [
    "#hide_input\n",
    "#md('##### {}'.format(titleBTC)) \n",
    "md(\"- {}{} {}{} [| Skaityti daugiau]({}) \".format(eth['title'],'. ', eth['body'], ' ...', eth['url']))"
   ]
  },
  {
   "cell_type": "code",
   "execution_count": 8,
   "id": "sublime-lounge",
   "metadata": {
    "execution": {
     "iopub.execute_input": "2022-11-05T03:02:12.561952Z",
     "iopub.status.busy": "2022-11-05T03:02:12.560454Z",
     "iopub.status.idle": "2022-11-05T03:02:12.566096Z",
     "shell.execute_reply": "2022-11-05T03:02:12.565558Z"
    },
    "papermill": {
     "duration": 0.021949,
     "end_time": "2022-11-05T03:02:12.566211",
     "exception": false,
     "start_time": "2022-11-05T03:02:12.544262",
     "status": "completed"
    },
    "tags": []
   },
   "outputs": [
    {
     "data": {
      "text/markdown": [
       "- Crypto Community Sees Cardano ($ADA) Price Surge 27% by End of November.  The cryptocurrency community has set a bullish price target for smart contract platform Cardano ($ADA) this month, presumably taking into account the network’s improved performance after the Vasil hard fork and its growing adoption. According to estimates made on CoinMarketCap’s pages, the average of around 7,100 cryptocurrency community members points to the smart contract platform’s […] ... [| Skaityti daugiau](https://www.cryptoglobe.com/latest/2022/11/crypto-community-sees-cardano-ada-price-surge-27-by-end-of-november/) "
      ],
      "text/plain": [
       "<IPython.core.display.Markdown object>"
      ]
     },
     "execution_count": 8,
     "metadata": {},
     "output_type": "execute_result"
    }
   ],
   "source": [
    "#hide_input\n",
    "#md('##### {}'.format(titleBTC)) \n",
    "md(\"- {}{} {}{} [| Skaityti daugiau]({}) \".format(ada['title'],'. ', ada['body'], ' ...', ada['url']))"
   ]
  },
  {
   "cell_type": "code",
   "execution_count": 9,
   "id": "specified-ordering",
   "metadata": {
    "execution": {
     "iopub.execute_input": "2022-11-05T03:02:12.595892Z",
     "iopub.status.busy": "2022-11-05T03:02:12.595149Z",
     "iopub.status.idle": "2022-11-05T03:02:12.599041Z",
     "shell.execute_reply": "2022-11-05T03:02:12.598528Z"
    },
    "papermill": {
     "duration": 0.02065,
     "end_time": "2022-11-05T03:02:12.599159",
     "exception": false,
     "start_time": "2022-11-05T03:02:12.578509",
     "status": "completed"
    },
    "tags": []
   },
   "outputs": [
    {
     "data": {
      "text/markdown": [
       "- A re-listing spree for XRP on exchanges soon? Maybe, but only if….  Ripple&#8217;s problems started when the Securities and Exchange Commission (SEC) started looking into how the company advertised and sold its XRP tokens. Since then, the SEC has maintained that the token is a security and as such, violates SEC requirements. Although the SEC has maintained this position for a long time, Ripple Labs continues to [&#8230;] ... [| Skaityti daugiau](https://ambcrypto.com/a-re-listing-spree-for-xrp-on-exchanges-soon-maybe-but-only-if/) "
      ],
      "text/plain": [
       "<IPython.core.display.Markdown object>"
      ]
     },
     "execution_count": 9,
     "metadata": {},
     "output_type": "execute_result"
    }
   ],
   "source": [
    "#hide_input\n",
    "#md('##### {}'.format(titleBTC)) \n",
    "md(\"- {}{} {}{} [| Skaityti daugiau]({}) \".format(exchange['title'],'. ', exchange['body'], ' ...', exchange['url']))"
   ]
  },
  {
   "cell_type": "code",
   "execution_count": null,
   "id": "tender-livestock",
   "metadata": {
    "papermill": {
     "duration": 0.012637,
     "end_time": "2022-11-05T03:02:12.624748",
     "exception": false,
     "start_time": "2022-11-05T03:02:12.612111",
     "status": "completed"
    },
    "tags": []
   },
   "outputs": [],
   "source": []
  },
  {
   "cell_type": "code",
   "execution_count": null,
   "id": "appreciated-diamond",
   "metadata": {
    "papermill": {
     "duration": 0.012619,
     "end_time": "2022-11-05T03:02:12.650138",
     "exception": false,
     "start_time": "2022-11-05T03:02:12.637519",
     "status": "completed"
    },
    "tags": []
   },
   "outputs": [],
   "source": []
  },
  {
   "cell_type": "code",
   "execution_count": null,
   "id": "romance-sweden",
   "metadata": {
    "papermill": {
     "duration": 0.012704,
     "end_time": "2022-11-05T03:02:12.675574",
     "exception": false,
     "start_time": "2022-11-05T03:02:12.662870",
     "status": "completed"
    },
    "tags": []
   },
   "outputs": [],
   "source": []
  },
  {
   "cell_type": "code",
   "execution_count": null,
   "id": "dietary-statistics",
   "metadata": {
    "papermill": {
     "duration": 0.012656,
     "end_time": "2022-11-05T03:02:12.700932",
     "exception": false,
     "start_time": "2022-11-05T03:02:12.688276",
     "status": "completed"
    },
    "tags": []
   },
   "outputs": [],
   "source": []
  }
 ],
 "metadata": {
  "kernelspec": {
   "display_name": "Python 3",
   "language": "python",
   "name": "python3"
  },
  "language_info": {
   "codemirror_mode": {
    "name": "ipython",
    "version": 3
   },
   "file_extension": ".py",
   "mimetype": "text/x-python",
   "name": "python",
   "nbconvert_exporter": "python",
   "pygments_lexer": "ipython3",
   "version": "3.6.15"
  },
  "papermill": {
   "default_parameters": {},
   "duration": 17.02246,
   "end_time": "2022-11-05T03:02:13.234152",
   "environment_variables": {},
   "exception": null,
   "input_path": "Market-News.ipynb",
   "output_path": "Market-News.ipynb",
   "parameters": {},
   "start_time": "2022-11-05T03:01:56.211692",
   "version": "2.2.2"
  }
 },
 "nbformat": 4,
 "nbformat_minor": 5
}