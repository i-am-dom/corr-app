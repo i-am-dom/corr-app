{
 "cells": [
  {
   "cell_type": "markdown",
   "id": "short-greensboro",
   "metadata": {
    "papermill": {
     "duration": 0.017551,
     "end_time": "2021-11-06T01:57:22.587794",
     "exception": false,
     "start_time": "2021-11-06T01:57:22.570243",
     "status": "completed"
    },
    "tags": []
   },
   "source": [
    "# Kriptovaliutų naujienos"
   ]
  },
  {
   "cell_type": "code",
   "execution_count": 1,
   "id": "functioning-knowing",
   "metadata": {
    "execution": {
     "iopub.execute_input": "2021-11-06T01:57:22.633878Z",
     "iopub.status.busy": "2021-11-06T01:57:22.632152Z",
     "iopub.status.idle": "2021-11-06T01:57:24.053552Z",
     "shell.execute_reply": "2021-11-06T01:57:24.052283Z"
    },
    "papermill": {
     "duration": 1.450117,
     "end_time": "2021-11-06T01:57:24.053735",
     "exception": false,
     "start_time": "2021-11-06T01:57:22.603618",
     "status": "completed"
    },
    "tags": []
   },
   "outputs": [],
   "source": [
    "#hide_input\n",
    "import warnings\n",
    "warnings.filterwarnings('ignore')\n",
    "from scripts.read_data import read_api\n",
    "from scripts.read_data import read_news\n",
    "from scripts.read_data import read_covid\n",
    "import matplotlib.pyplot as plt \n",
    "from IPython.display import Markdown as md"
   ]
  },
  {
   "cell_type": "code",
   "execution_count": 2,
   "id": "shared-acceptance",
   "metadata": {
    "execution": {
     "iopub.execute_input": "2021-11-06T01:57:24.082414Z",
     "iopub.status.busy": "2021-11-06T01:57:24.081764Z",
     "iopub.status.idle": "2021-11-06T01:57:33.421912Z",
     "shell.execute_reply": "2021-11-06T01:57:33.421367Z"
    },
    "papermill": {
     "duration": 9.357658,
     "end_time": "2021-11-06T01:57:33.422060",
     "exception": false,
     "start_time": "2021-11-06T01:57:24.064402",
     "status": "completed"
    },
    "tags": []
   },
   "outputs": [],
   "source": [
    "#hide_input\n",
    "blockchain = read_news('blockchain') \n",
    "btc = read_news('btc') \n",
    "xrp = read_news('xrp') \n",
    "trx = read_news('trx') \n",
    "eth = read_news('eth')  \n",
    "ada = read_news('ada')\n",
    "exchange = read_news('exchange') "
   ]
  },
  {
   "cell_type": "code",
   "execution_count": 3,
   "id": "synthetic-notion",
   "metadata": {
    "execution": {
     "iopub.execute_input": "2021-11-06T01:57:33.459340Z",
     "iopub.status.busy": "2021-11-06T01:57:33.458692Z",
     "iopub.status.idle": "2021-11-06T01:57:33.461165Z",
     "shell.execute_reply": "2021-11-06T01:57:33.461725Z"
    },
    "papermill": {
     "duration": 0.028475,
     "end_time": "2021-11-06T01:57:33.461875",
     "exception": false,
     "start_time": "2021-11-06T01:57:33.433400",
     "status": "completed"
    },
    "tags": []
   },
   "outputs": [
    {
     "data": {
      "text/markdown": [
       "- Number of Shiba Inu Holders Surpasses 900,000 as $SHIB’s Price Wanes.  The number of Ethereum wallets holding the meme-inspired cryptocurrency Shiba Inu ($SHIB) has surpassed 900,000 roughly a week after hitting the 800,000 mark, meaning that while $SHIB’s price has been waning, the number of wallets holding it has been growing steadily. According to data from Ethereum blockchain explorer Etherscan, there are currently 912,290 ETH wallets […] ... [| Skaityti daugiau](https://www.cryptoglobe.com/latest/2021/11/number-of-shiba-inu-holders-surpasses-900000-as-shibs-price-wanes/) "
      ],
      "text/plain": [
       "<IPython.core.display.Markdown object>"
      ]
     },
     "execution_count": 3,
     "metadata": {},
     "output_type": "execute_result"
    }
   ],
   "source": [
    "#hide_input\n",
    "#md('##### {}'.format(titleBTC)) \n",
    "md(\"- {}{} {}{} [| Skaityti daugiau]({}) \".format(blockchain['title'],'. ', blockchain['body'], ' ...', blockchain['url']))"
   ]
  },
  {
   "cell_type": "code",
   "execution_count": 4,
   "id": "aging-caution",
   "metadata": {
    "execution": {
     "iopub.execute_input": "2021-11-06T01:57:33.489184Z",
     "iopub.status.busy": "2021-11-06T01:57:33.488549Z",
     "iopub.status.idle": "2021-11-06T01:57:33.491778Z",
     "shell.execute_reply": "2021-11-06T01:57:33.491264Z"
    },
    "papermill": {
     "duration": 0.019248,
     "end_time": "2021-11-06T01:57:33.491909",
     "exception": false,
     "start_time": "2021-11-06T01:57:33.472661",
     "status": "completed"
    },
    "tags": []
   },
   "outputs": [
    {
     "data": {
      "text/markdown": [
       "- Estimating This Cycle's Bitcoin Price Top.  As this bitcoin price bull cycle carries on, everyone wants predictions of when the price may top out. We will add one framework to the mix. ... [| Skaityti daugiau](https://bitcoinmagazine.com/markets/estimating-this-cycles-bitcoin-price-top) "
      ],
      "text/plain": [
       "<IPython.core.display.Markdown object>"
      ]
     },
     "execution_count": 4,
     "metadata": {},
     "output_type": "execute_result"
    }
   ],
   "source": [
    "#hide_input\n",
    "#md('##### {}'.format(titleBTC)) \n",
    "md(\"- {}{} {}{} [| Skaityti daugiau]({}) \".format(btc['title'],'. ', btc['body'], ' ...', btc['url']))"
   ]
  },
  {
   "cell_type": "code",
   "execution_count": 5,
   "id": "organic-actress",
   "metadata": {
    "execution": {
     "iopub.execute_input": "2021-11-06T01:57:33.519873Z",
     "iopub.status.busy": "2021-11-06T01:57:33.519249Z",
     "iopub.status.idle": "2021-11-06T01:57:33.522007Z",
     "shell.execute_reply": "2021-11-06T01:57:33.522461Z"
    },
    "papermill": {
     "duration": 0.01969,
     "end_time": "2021-11-06T01:57:33.522612",
     "exception": false,
     "start_time": "2021-11-06T01:57:33.502922",
     "status": "completed"
    },
    "tags": []
   },
   "outputs": [
    {
     "data": {
      "text/markdown": [
       "- Ripple Executives Call on Congress for Clear Crypto Guidelines As SEC’s XRP Lawsuit Rolls On.  Top executives at Ripple Labs are calling upon Congress to create transparent crypto regulations as Ripple&#8217;s legal battle over XRP with the U.S. Securities and Exchange Commission (SEC) continues. In response to a report that federal agencies asked Congress for more power to regulate stablecoins, Ripple Labs CEO Brad Garlinghouse took to Twitter to say [&#8230;]The post Ripple Executives Call on Congress for Clear Crypto Guidelines As SEC’s XRP Lawsuit Rolls On appeared first on The Daily Hodl. ... [| Skaityti daugiau](https://dailyhodl.com/2021/11/05/ripple-executives-call-on-congress-for-clear-crypto-guidelines-as-secs-xrp-lawsuit-rolls-on/) "
      ],
      "text/plain": [
       "<IPython.core.display.Markdown object>"
      ]
     },
     "execution_count": 5,
     "metadata": {},
     "output_type": "execute_result"
    }
   ],
   "source": [
    "#hide_input\n",
    "#md('##### {}'.format(titleBTC)) \n",
    "md(\"- {}{} {}{} [| Skaityti daugiau]({}) \".format(xrp['title'],'. ', xrp['body'], ' ...', xrp['url']))"
   ]
  },
  {
   "cell_type": "code",
   "execution_count": 6,
   "id": "prompt-farmer",
   "metadata": {
    "execution": {
     "iopub.execute_input": "2021-11-06T01:57:33.551656Z",
     "iopub.status.busy": "2021-11-06T01:57:33.551017Z",
     "iopub.status.idle": "2021-11-06T01:57:33.553836Z",
     "shell.execute_reply": "2021-11-06T01:57:33.554349Z"
    },
    "papermill": {
     "duration": 0.020311,
     "end_time": "2021-11-06T01:57:33.554500",
     "exception": false,
     "start_time": "2021-11-06T01:57:33.534189",
     "status": "completed"
    },
    "tags": []
   },
   "outputs": [
    {
     "data": {
      "text/markdown": [
       "- Tron (TRX) Price Analysis: Bulls In Control Above $0.10.  Tron price started a fresh rally above the $0.1000 resistance zone against the US Dollar. TRX price is now trading above $0.1000 and the 55 simple moving average (4-hours). There was a break above a major bearish trend line with resistance near $0.1020 on the 4-hours chart (data feed via Bitfinex). The pair is correcting...The post Tron (TRX) Price Analysis: Bulls In Control Above $0.10 appeared first on Live Bitcoin News. ... [| Skaityti daugiau](https://www.livebitcoinnews.com/tron-trx-price-analysis-bulls-in-control-above-0-10/) "
      ],
      "text/plain": [
       "<IPython.core.display.Markdown object>"
      ]
     },
     "execution_count": 6,
     "metadata": {},
     "output_type": "execute_result"
    }
   ],
   "source": [
    "#hide_input\n",
    "#md('##### {}'.format(titleBTC)) \n",
    "md(\"- {}{} {}{} [| Skaityti daugiau]({}) \".format(trx['title'],'. ', trx['body'], ' ...', trx['url']))"
   ]
  },
  {
   "cell_type": "code",
   "execution_count": 7,
   "id": "illegal-greece",
   "metadata": {
    "execution": {
     "iopub.execute_input": "2021-11-06T01:57:33.584147Z",
     "iopub.status.busy": "2021-11-06T01:57:33.583502Z",
     "iopub.status.idle": "2021-11-06T01:57:33.586807Z",
     "shell.execute_reply": "2021-11-06T01:57:33.586315Z"
    },
    "papermill": {
     "duration": 0.020442,
     "end_time": "2021-11-06T01:57:33.586941",
     "exception": false,
     "start_time": "2021-11-06T01:57:33.566499",
     "status": "completed"
    },
    "tags": []
   },
   "outputs": [
    {
     "data": {
      "text/markdown": [
       "- For a chain swap, Tether mints 2 billion USDT – and a whole lot of FUD.  Tether&#8217;s holdings and the question of whether its USDT stablecoin is fully backed by dollars is a sore spot for the company. More recently, however, the burning and minting of billions of USDT has again ignited a firestorm of FUD. Alerted by the whale On 4 November, crypto watchers were more than just a little alarmed [&#8230;] ... [| Skaityti daugiau](https://ambcrypto.com/for-a-chain-swap-tether-mints-2-billion-usdt-and-a-whole-lot-of-fud/) "
      ],
      "text/plain": [
       "<IPython.core.display.Markdown object>"
      ]
     },
     "execution_count": 7,
     "metadata": {},
     "output_type": "execute_result"
    }
   ],
   "source": [
    "#hide_input\n",
    "#md('##### {}'.format(titleBTC)) \n",
    "md(\"- {}{} {}{} [| Skaityti daugiau]({}) \".format(eth['title'],'. ', eth['body'], ' ...', eth['url']))"
   ]
  },
  {
   "cell_type": "code",
   "execution_count": 8,
   "id": "sublime-lounge",
   "metadata": {
    "execution": {
     "iopub.execute_input": "2021-11-06T01:57:33.619074Z",
     "iopub.status.busy": "2021-11-06T01:57:33.618447Z",
     "iopub.status.idle": "2021-11-06T01:57:33.623219Z",
     "shell.execute_reply": "2021-11-06T01:57:33.622734Z"
    },
    "papermill": {
     "duration": 0.024193,
     "end_time": "2021-11-06T01:57:33.623353",
     "exception": false,
     "start_time": "2021-11-06T01:57:33.599160",
     "status": "completed"
    },
    "tags": []
   },
   "outputs": [
    {
     "data": {
      "text/markdown": [
       "- Cardano ($ADA) Going to $10, Polkadot ($DOT) Going to $250, Says Crypto Analyst.  Popular pseudonymous analyst and trader “Crypto Capo” (“@CryptoCapo_” on Twitter) says that in this bull cycle $ADA and $DOT, which are the native tokens of Cardano and Polkadot respectively, are headed to at least $10 and $250 respectively. On Wednesday (November 3), Crypto Capo told his over Twitter 191,000 followers that he is still bullish on […] ... [| Skaityti daugiau](https://www.cryptoglobe.com/latest/2021/11/cardano-ada-going-to-10-polkadot-dot-going-to-250-says-crypto-analyst/) "
      ],
      "text/plain": [
       "<IPython.core.display.Markdown object>"
      ]
     },
     "execution_count": 8,
     "metadata": {},
     "output_type": "execute_result"
    }
   ],
   "source": [
    "#hide_input\n",
    "#md('##### {}'.format(titleBTC)) \n",
    "md(\"- {}{} {}{} [| Skaityti daugiau]({}) \".format(ada['title'],'. ', ada['body'], ' ...', ada['url']))"
   ]
  },
  {
   "cell_type": "code",
   "execution_count": 9,
   "id": "specified-ordering",
   "metadata": {
    "execution": {
     "iopub.execute_input": "2021-11-06T01:57:33.655777Z",
     "iopub.status.busy": "2021-11-06T01:57:33.655157Z",
     "iopub.status.idle": "2021-11-06T01:57:33.658692Z",
     "shell.execute_reply": "2021-11-06T01:57:33.658205Z"
    },
    "papermill": {
     "duration": 0.022615,
     "end_time": "2021-11-06T01:57:33.658824",
     "exception": false,
     "start_time": "2021-11-06T01:57:33.636209",
     "status": "completed"
    },
    "tags": []
   },
   "outputs": [
    {
     "data": {
      "text/markdown": [
       "- Coinbase Makes Shiba Inu Crypto Available to New York Residents After Adding SHIB Trading Pairs.  The Nasdaq-listed crypto exchange Coinbase has made shiba inu cryptocurrency available to New York residents, who can now trade, buy, sell and store SHIB on Coinbase. This announcement follows the exchange adding SHIB trading pairs. Coinbase Grows Its Shiba Inu Crypto Offerings Cryptocurrency exchange Coinbase announced Friday that the shiba inu (SHIB) cryptocurrency is now [&#8230;] ... [| Skaityti daugiau](https://news.bitcoin.com/coinbase-makes-shiba-inu-crypto-available-new-york-residents-after-adding-shib-trading-pairs/) "
      ],
      "text/plain": [
       "<IPython.core.display.Markdown object>"
      ]
     },
     "execution_count": 9,
     "metadata": {},
     "output_type": "execute_result"
    }
   ],
   "source": [
    "#hide_input\n",
    "#md('##### {}'.format(titleBTC)) \n",
    "md(\"- {}{} {}{} [| Skaityti daugiau]({}) \".format(exchange['title'],'. ', exchange['body'], ' ...', exchange['url']))"
   ]
  },
  {
   "cell_type": "code",
   "execution_count": null,
   "id": "tender-livestock",
   "metadata": {
    "papermill": {
     "duration": 0.012863,
     "end_time": "2021-11-06T01:57:33.684558",
     "exception": false,
     "start_time": "2021-11-06T01:57:33.671695",
     "status": "completed"
    },
    "tags": []
   },
   "outputs": [],
   "source": []
  },
  {
   "cell_type": "code",
   "execution_count": null,
   "id": "appreciated-diamond",
   "metadata": {
    "papermill": {
     "duration": 0.012794,
     "end_time": "2021-11-06T01:57:33.710214",
     "exception": false,
     "start_time": "2021-11-06T01:57:33.697420",
     "status": "completed"
    },
    "tags": []
   },
   "outputs": [],
   "source": []
  },
  {
   "cell_type": "code",
   "execution_count": null,
   "id": "romance-sweden",
   "metadata": {
    "papermill": {
     "duration": 0.013314,
     "end_time": "2021-11-06T01:57:33.736404",
     "exception": false,
     "start_time": "2021-11-06T01:57:33.723090",
     "status": "completed"
    },
    "tags": []
   },
   "outputs": [],
   "source": []
  },
  {
   "cell_type": "code",
   "execution_count": null,
   "id": "dietary-statistics",
   "metadata": {
    "papermill": {
     "duration": 0.01277,
     "end_time": "2021-11-06T01:57:33.762228",
     "exception": false,
     "start_time": "2021-11-06T01:57:33.749458",
     "status": "completed"
    },
    "tags": []
   },
   "outputs": [],
   "source": []
  }
 ],
 "metadata": {
  "kernelspec": {
   "display_name": "Python 3",
   "language": "python",
   "name": "python3"
  },
  "language_info": {
   "codemirror_mode": {
    "name": "ipython",
    "version": 3
   },
   "file_extension": ".py",
   "mimetype": "text/x-python",
   "name": "python",
   "nbconvert_exporter": "python",
   "pygments_lexer": "ipython3",
   "version": "3.6.15"
  },
  "papermill": {
   "default_parameters": {},
   "duration": 12.818795,
   "end_time": "2021-11-06T01:57:34.287090",
   "environment_variables": {},
   "exception": null,
   "input_path": "Market-News.ipynb",
   "output_path": "Market-News.ipynb",
   "parameters": {},
   "start_time": "2021-11-06T01:57:21.468295",
   "version": "2.2.2"
  }
 },
 "nbformat": 4,
 "nbformat_minor": 5
}