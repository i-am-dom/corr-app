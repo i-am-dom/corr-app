{
 "cells": [
  {
   "cell_type": "markdown",
   "id": "short-greensboro",
   "metadata": {
    "papermill": {
     "duration": 0.01446,
     "end_time": "2021-11-01T02:02:17.143896",
     "exception": false,
     "start_time": "2021-11-01T02:02:17.129436",
     "status": "completed"
    },
    "tags": []
   },
   "source": [
    "# Kriptovaliutų naujienos"
   ]
  },
  {
   "cell_type": "code",
   "execution_count": 1,
   "id": "functioning-knowing",
   "metadata": {
    "execution": {
     "iopub.execute_input": "2021-11-01T02:02:17.178704Z",
     "iopub.status.busy": "2021-11-01T02:02:17.178070Z",
     "iopub.status.idle": "2021-11-01T02:02:18.494712Z",
     "shell.execute_reply": "2021-11-01T02:02:18.493728Z"
    },
    "papermill": {
     "duration": 1.339853,
     "end_time": "2021-11-01T02:02:18.494874",
     "exception": false,
     "start_time": "2021-11-01T02:02:17.155021",
     "status": "completed"
    },
    "tags": []
   },
   "outputs": [],
   "source": [
    "#hide_input\n",
    "import warnings\n",
    "warnings.filterwarnings('ignore')\n",
    "from scripts.read_data import read_api\n",
    "from scripts.read_data import read_news\n",
    "from scripts.read_data import read_covid\n",
    "import matplotlib.pyplot as plt \n",
    "from IPython.display import Markdown as md"
   ]
  },
  {
   "cell_type": "code",
   "execution_count": 2,
   "id": "shared-acceptance",
   "metadata": {
    "execution": {
     "iopub.execute_input": "2021-11-01T02:02:18.521259Z",
     "iopub.status.busy": "2021-11-01T02:02:18.520657Z",
     "iopub.status.idle": "2021-11-01T02:02:26.114024Z",
     "shell.execute_reply": "2021-11-01T02:02:26.113345Z"
    },
    "papermill": {
     "duration": 7.608899,
     "end_time": "2021-11-01T02:02:26.114195",
     "exception": false,
     "start_time": "2021-11-01T02:02:18.505296",
     "status": "completed"
    },
    "tags": []
   },
   "outputs": [],
   "source": [
    "#hide_input\n",
    "blockchain = read_news('blockchain') \n",
    "btc = read_news('btc') \n",
    "xrp = read_news('xrp') \n",
    "trx = read_news('trx') \n",
    "eth = read_news('eth')  \n",
    "ada = read_news('ada')\n",
    "exchange = read_news('exchange') "
   ]
  },
  {
   "cell_type": "code",
   "execution_count": 3,
   "id": "synthetic-notion",
   "metadata": {
    "execution": {
     "iopub.execute_input": "2021-11-01T02:02:26.144577Z",
     "iopub.status.busy": "2021-11-01T02:02:26.143878Z",
     "iopub.status.idle": "2021-11-01T02:02:26.147496Z",
     "shell.execute_reply": "2021-11-01T02:02:26.146959Z"
    },
    "papermill": {
     "duration": 0.021506,
     "end_time": "2021-11-01T02:02:26.147628",
     "exception": false,
     "start_time": "2021-11-01T02:02:26.126122",
     "status": "completed"
    },
    "tags": []
   },
   "outputs": [
    {
     "data": {
      "text/markdown": [
       "- The three types of attacks Ethereum could face in its proof-of-stake avatar.  Ethereum (ETH) rose by over 9% to reach a new high on Friday. This was days after the network underwent the Altair upgrade successfully. ETH, the native token of the second-largest blockchain by market cap, blasted to $4,415, ergo, crossing its previous ATH. Needless to say, different analysts have portrayed various bullish sentiments concerning this [&#8230;] ... [| Skaityti daugiau](https://ambcrypto.com/the-three-types-of-attacks-ethereum-could-face-in-its-proof-of-stake-avatar/) "
      ],
      "text/plain": [
       "<IPython.core.display.Markdown object>"
      ]
     },
     "execution_count": 3,
     "metadata": {},
     "output_type": "execute_result"
    }
   ],
   "source": [
    "#hide_input\n",
    "#md('##### {}'.format(titleBTC)) \n",
    "md(\"- {}{} {}{} [| Skaityti daugiau]({}) \".format(blockchain['title'],'. ', blockchain['body'], ' ...', blockchain['url']))"
   ]
  },
  {
   "cell_type": "code",
   "execution_count": 4,
   "id": "aging-caution",
   "metadata": {
    "execution": {
     "iopub.execute_input": "2021-11-01T02:02:26.178242Z",
     "iopub.status.busy": "2021-11-01T02:02:26.177550Z",
     "iopub.status.idle": "2021-11-01T02:02:26.180596Z",
     "shell.execute_reply": "2021-11-01T02:02:26.181306Z"
    },
    "papermill": {
     "duration": 0.019504,
     "end_time": "2021-11-01T02:02:26.181459",
     "exception": false,
     "start_time": "2021-11-01T02:02:26.161955",
     "status": "completed"
    },
    "tags": []
   },
   "outputs": [
    {
     "data": {
      "text/markdown": [
       "- Rich Dad Poor Dad’s Robert Kiyosaki Warns US Sliding Into Depression After Giant Crash, Recommends Bitcoin.  Robert Kiyosaki, the best-selling author of Rich Dad Poor Dad, has warned that the U.S. is &#x201C;sliding into depression.&#x201D; He said that a giant crash is coming, after which &#x201C;a new depression&#x201D; will follow. Bitcoin is among his recommendations for smart investing. Robert Kiyosaki Sees Giant Crash Coming, Followed by a New Depression Famous author [&#8230;] ... [| Skaityti daugiau](https://news.bitcoin.com/rich-dad-poor-dads-robert-kiyosaki-warns-us-sliding-into-depression-after-giant-crash-recommends-bitcoin/) "
      ],
      "text/plain": [
       "<IPython.core.display.Markdown object>"
      ]
     },
     "execution_count": 4,
     "metadata": {},
     "output_type": "execute_result"
    }
   ],
   "source": [
    "#hide_input\n",
    "#md('##### {}'.format(titleBTC)) \n",
    "md(\"- {}{} {}{} [| Skaityti daugiau]({}) \".format(btc['title'],'. ', btc['body'], ' ...', btc['url']))"
   ]
  },
  {
   "cell_type": "code",
   "execution_count": 5,
   "id": "organic-actress",
   "metadata": {
    "execution": {
     "iopub.execute_input": "2021-11-01T02:02:26.207950Z",
     "iopub.status.busy": "2021-11-01T02:02:26.207339Z",
     "iopub.status.idle": "2021-11-01T02:02:26.211870Z",
     "shell.execute_reply": "2021-11-01T02:02:26.212396Z"
    },
    "papermill": {
     "duration": 0.02007,
     "end_time": "2021-11-01T02:02:26.212527",
     "exception": false,
     "start_time": "2021-11-01T02:02:26.192457",
     "status": "completed"
    },
    "tags": []
   },
   "outputs": [
    {
     "data": {
      "text/markdown": [
       "- XRP, Dogecoin, BAT Price Analysis: 31 October.  The global crypto market did not flash high volatility over the last day. However, XRP and Basic Attention Token (BAT) have registered double-digit gains over the past three days. On the contrary, Dogecoin saw a decline of 7.9 % in the last 24 hours. BAT noted a monstrous growth and showed signs of easing the [&#8230;] ... [| Skaityti daugiau](https://ambcrypto.com/xrp-dogecoin-bat-price-analysis-31-october/) "
      ],
      "text/plain": [
       "<IPython.core.display.Markdown object>"
      ]
     },
     "execution_count": 5,
     "metadata": {},
     "output_type": "execute_result"
    }
   ],
   "source": [
    "#hide_input\n",
    "#md('##### {}'.format(titleBTC)) \n",
    "md(\"- {}{} {}{} [| Skaityti daugiau]({}) \".format(xrp['title'],'. ', xrp['body'], ' ...', xrp['url']))"
   ]
  },
  {
   "cell_type": "code",
   "execution_count": 6,
   "id": "prompt-farmer",
   "metadata": {
    "execution": {
     "iopub.execute_input": "2021-11-01T02:02:26.239941Z",
     "iopub.status.busy": "2021-11-01T02:02:26.239349Z",
     "iopub.status.idle": "2021-11-01T02:02:26.242804Z",
     "shell.execute_reply": "2021-11-01T02:02:26.242302Z"
    },
    "papermill": {
     "duration": 0.018899,
     "end_time": "2021-11-01T02:02:26.242917",
     "exception": false,
     "start_time": "2021-11-01T02:02:26.224018",
     "status": "completed"
    },
    "tags": []
   },
   "outputs": [
    {
     "data": {
      "text/markdown": [
       "- BitTorrent & Tron Experience A Sudden Gush Of Volume, Will BTT And TRX Price Rise?.  The post BitTorrent &amp; Tron Experience A Sudden Gush Of Volume, Will BTT And TRX Price Rise? appeared first on Coinpedia - Fintech &amp; Cryptocurreny News Media| Crypto GuideMany blockchains are emerging in the crypto space, BitTorrent Chain recently went live to mark its existence among flourishing blockchains. In no time, BTT received a huge influx which uplifted the price by nearly 15%. However, the asset has experienced a slight dump, yet managed to sustain above crucial levels. Hence the probability of a &#8230; ... [| Skaityti daugiau](https://coinpedia.org/price-analysis/bittorrent-tron-experience-volume-influx-will-btt-trx-price-rise/) "
      ],
      "text/plain": [
       "<IPython.core.display.Markdown object>"
      ]
     },
     "execution_count": 6,
     "metadata": {},
     "output_type": "execute_result"
    }
   ],
   "source": [
    "#hide_input\n",
    "#md('##### {}'.format(titleBTC)) \n",
    "md(\"- {}{} {}{} [| Skaityti daugiau]({}) \".format(trx['title'],'. ', trx['body'], ' ...', trx['url']))"
   ]
  },
  {
   "cell_type": "code",
   "execution_count": 7,
   "id": "illegal-greece",
   "metadata": {
    "execution": {
     "iopub.execute_input": "2021-11-01T02:02:26.269959Z",
     "iopub.status.busy": "2021-11-01T02:02:26.268955Z",
     "iopub.status.idle": "2021-11-01T02:02:26.272933Z",
     "shell.execute_reply": "2021-11-01T02:02:26.273506Z"
    },
    "papermill": {
     "duration": 0.019046,
     "end_time": "2021-11-01T02:02:26.273630",
     "exception": false,
     "start_time": "2021-11-01T02:02:26.254584",
     "status": "completed"
    },
    "tags": []
   },
   "outputs": [
    {
     "data": {
      "text/markdown": [
       "- The three types of attacks Ethereum could face in its proof-of-stake avatar.  Ethereum (ETH) rose by over 9% to reach a new high on Friday. This was days after the network underwent the Altair upgrade successfully. ETH, the native token of the second-largest blockchain by market cap, blasted to $4,415, ergo, crossing its previous ATH. Needless to say, different analysts have portrayed various bullish sentiments concerning this [&#8230;] ... [| Skaityti daugiau](https://ambcrypto.com/the-three-types-of-attacks-ethereum-could-face-in-its-proof-of-stake-avatar/) "
      ],
      "text/plain": [
       "<IPython.core.display.Markdown object>"
      ]
     },
     "execution_count": 7,
     "metadata": {},
     "output_type": "execute_result"
    }
   ],
   "source": [
    "#hide_input\n",
    "#md('##### {}'.format(titleBTC)) \n",
    "md(\"- {}{} {}{} [| Skaityti daugiau]({}) \".format(eth['title'],'. ', eth['body'], ' ...', eth['url']))"
   ]
  },
  {
   "cell_type": "code",
   "execution_count": 8,
   "id": "sublime-lounge",
   "metadata": {
    "execution": {
     "iopub.execute_input": "2021-11-01T02:02:26.301405Z",
     "iopub.status.busy": "2021-11-01T02:02:26.300826Z",
     "iopub.status.idle": "2021-11-01T02:02:26.303694Z",
     "shell.execute_reply": "2021-11-01T02:02:26.304163Z"
    },
    "papermill": {
     "duration": 0.019116,
     "end_time": "2021-11-01T02:02:26.304287",
     "exception": false,
     "start_time": "2021-11-01T02:02:26.285171",
     "status": "completed"
    },
    "tags": []
   },
   "outputs": [
    {
     "data": {
      "text/markdown": [
       "- Hoskinson says Hydra is a necessity, as Cardano is going to get enormous traffic.  Cardano, one of the most promising ecosystems has witnessed a significant amount of traction over the years. Different upgrades, not only in the U.S. but around the world have aided its native token ADA to surge up to 1500% YTD. Here&#8217;s what you can expect from this platform in the coming few months. In the [&#8230;] ... [| Skaityti daugiau](https://ambcrypto.com/hoskinson-says-hydra-is-a-necessity-as-cardano-is-going-to-get-enormous-traffic/) "
      ],
      "text/plain": [
       "<IPython.core.display.Markdown object>"
      ]
     },
     "execution_count": 8,
     "metadata": {},
     "output_type": "execute_result"
    }
   ],
   "source": [
    "#hide_input\n",
    "#md('##### {}'.format(titleBTC)) \n",
    "md(\"- {}{} {}{} [| Skaityti daugiau]({}) \".format(ada['title'],'. ', ada['body'], ' ...', ada['url']))"
   ]
  },
  {
   "cell_type": "code",
   "execution_count": 9,
   "id": "specified-ordering",
   "metadata": {
    "execution": {
     "iopub.execute_input": "2021-11-01T02:02:26.332161Z",
     "iopub.status.busy": "2021-11-01T02:02:26.331139Z",
     "iopub.status.idle": "2021-11-01T02:02:26.335365Z",
     "shell.execute_reply": "2021-11-01T02:02:26.334845Z"
    },
    "papermill": {
     "duration": 0.019135,
     "end_time": "2021-11-01T02:02:26.335476",
     "exception": false,
     "start_time": "2021-11-01T02:02:26.316341",
     "status": "completed"
    },
    "tags": []
   },
   "outputs": [
    {
     "data": {
      "text/markdown": [
       "- Tethered Up: How Stablecoins Plan To Stay Stable.  Many heads turned to the idea that a token meant to serve as a backed stablecoin may actually be manipulating the game. In enters Tether. These were heavy considerations especially with all of the beauty going on in the crypto world. Here is quick dive into what happened during the trials earlier this year, and how things have played out for the parties involved since. A New York State Of Affairs A complaint filed earlier this year claimed that Tether (USDT) had knowledge around the volatility of crypto&#8217;s total market capitalization, including a skyrocketing $795 billion in late 2017. Five crypto traders were the plaintiffs who claim they purchased cryptocurrencies at inflated prices and suffered financial losses as a result. As a result, the suit represented anyone in the United States who inflated prices may have harmed during this period of time. The defendants’ lawyers argued that the case would fall apart, with the accusation that Tether printed its USDT stable coins without any solid backing. Related Reading \\ Dog-Themed DeFi Project Mysteriously Loses Fundraised $60 Million Another lawsuit In 2019 resulted in a settlement for both parties. The New York State Attorney General Letitia James announced that the office was investigating Bitfinex. What made things sticky is that Tether also came into the spotlight due of the exchange’s affiliation with Bitfinex. The case surrounded an alleged $850 million in cover-ups f... ... [| Skaityti daugiau](https://www.newsbtc.com/all/tethered-up/) "
      ],
      "text/plain": [
       "<IPython.core.display.Markdown object>"
      ]
     },
     "execution_count": 9,
     "metadata": {},
     "output_type": "execute_result"
    }
   ],
   "source": [
    "#hide_input\n",
    "#md('##### {}'.format(titleBTC)) \n",
    "md(\"- {}{} {}{} [| Skaityti daugiau]({}) \".format(exchange['title'],'. ', exchange['body'], ' ...', exchange['url']))"
   ]
  },
  {
   "cell_type": "code",
   "execution_count": null,
   "id": "tender-livestock",
   "metadata": {
    "papermill": {
     "duration": 0.012407,
     "end_time": "2021-11-01T02:02:26.360517",
     "exception": false,
     "start_time": "2021-11-01T02:02:26.348110",
     "status": "completed"
    },
    "tags": []
   },
   "outputs": [],
   "source": []
  },
  {
   "cell_type": "code",
   "execution_count": null,
   "id": "appreciated-diamond",
   "metadata": {
    "papermill": {
     "duration": 0.012392,
     "end_time": "2021-11-01T02:02:26.385571",
     "exception": false,
     "start_time": "2021-11-01T02:02:26.373179",
     "status": "completed"
    },
    "tags": []
   },
   "outputs": [],
   "source": []
  },
  {
   "cell_type": "code",
   "execution_count": null,
   "id": "romance-sweden",
   "metadata": {
    "papermill": {
     "duration": 0.012157,
     "end_time": "2021-11-01T02:02:26.410524",
     "exception": false,
     "start_time": "2021-11-01T02:02:26.398367",
     "status": "completed"
    },
    "tags": []
   },
   "outputs": [],
   "source": []
  },
  {
   "cell_type": "code",
   "execution_count": null,
   "id": "dietary-statistics",
   "metadata": {
    "papermill": {
     "duration": 0.012569,
     "end_time": "2021-11-01T02:02:26.435412",
     "exception": false,
     "start_time": "2021-11-01T02:02:26.422843",
     "status": "completed"
    },
    "tags": []
   },
   "outputs": [],
   "source": []
  }
 ],
 "metadata": {
  "kernelspec": {
   "display_name": "Python 3",
   "language": "python",
   "name": "python3"
  },
  "language_info": {
   "codemirror_mode": {
    "name": "ipython",
    "version": 3
   },
   "file_extension": ".py",
   "mimetype": "text/x-python",
   "name": "python",
   "nbconvert_exporter": "python",
   "pygments_lexer": "ipython3",
   "version": "3.6.15"
  },
  "papermill": {
   "default_parameters": {},
   "duration": 10.788518,
   "end_time": "2021-11-01T02:02:26.854838",
   "environment_variables": {},
   "exception": null,
   "input_path": "Market-News.ipynb",
   "output_path": "Market-News.ipynb",
   "parameters": {},
   "start_time": "2021-11-01T02:02:16.066320",
   "version": "2.2.2"
  }
 },
 "nbformat": 4,
 "nbformat_minor": 5
}