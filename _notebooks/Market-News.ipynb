{
 "cells": [
  {
   "cell_type": "markdown",
   "id": "short-greensboro",
   "metadata": {
    "papermill": {
     "duration": 0.015898,
     "end_time": "2022-07-05T03:17:40.563536",
     "exception": false,
     "start_time": "2022-07-05T03:17:40.547638",
     "status": "completed"
    },
    "tags": []
   },
   "source": [
    "# Kriptovaliutų naujienos"
   ]
  },
  {
   "cell_type": "code",
   "execution_count": 1,
   "id": "functioning-knowing",
   "metadata": {
    "execution": {
     "iopub.execute_input": "2022-07-05T03:17:40.599011Z",
     "iopub.status.busy": "2022-07-05T03:17:40.598305Z",
     "iopub.status.idle": "2022-07-05T03:17:42.097825Z",
     "shell.execute_reply": "2022-07-05T03:17:42.097180Z"
    },
    "papermill": {
     "duration": 1.521715,
     "end_time": "2022-07-05T03:17:42.098001",
     "exception": false,
     "start_time": "2022-07-05T03:17:40.576286",
     "status": "completed"
    },
    "tags": []
   },
   "outputs": [],
   "source": [
    "#hide_input\n",
    "import warnings\n",
    "warnings.filterwarnings('ignore')\n",
    "from scripts.read_data import read_api\n",
    "from scripts.read_data import read_news\n",
    "from scripts.read_data import read_covid\n",
    "import matplotlib.pyplot as plt \n",
    "from IPython.display import Markdown as md"
   ]
  },
  {
   "cell_type": "code",
   "execution_count": 2,
   "id": "shared-acceptance",
   "metadata": {
    "execution": {
     "iopub.execute_input": "2022-07-05T03:17:42.128236Z",
     "iopub.status.busy": "2022-07-05T03:17:42.127110Z",
     "iopub.status.idle": "2022-07-05T03:17:55.105707Z",
     "shell.execute_reply": "2022-07-05T03:17:55.106262Z"
    },
    "papermill": {
     "duration": 12.996113,
     "end_time": "2022-07-05T03:17:55.106477",
     "exception": false,
     "start_time": "2022-07-05T03:17:42.110364",
     "status": "completed"
    },
    "tags": []
   },
   "outputs": [],
   "source": [
    "#hide_input\n",
    "blockchain = read_news('blockchain') \n",
    "btc = read_news('btc') \n",
    "xrp = read_news('xrp') \n",
    "trx = read_news('trx') \n",
    "eth = read_news('eth')  \n",
    "ada = read_news('ada')\n",
    "exchange = read_news('exchange') "
   ]
  },
  {
   "cell_type": "code",
   "execution_count": 3,
   "id": "synthetic-notion",
   "metadata": {
    "execution": {
     "iopub.execute_input": "2022-07-05T03:17:55.137983Z",
     "iopub.status.busy": "2022-07-05T03:17:55.136475Z",
     "iopub.status.idle": "2022-07-05T03:17:55.141221Z",
     "shell.execute_reply": "2022-07-05T03:17:55.140557Z"
    },
    "papermill": {
     "duration": 0.023448,
     "end_time": "2022-07-05T03:17:55.141344",
     "exception": false,
     "start_time": "2022-07-05T03:17:55.117896",
     "status": "completed"
    },
    "tags": []
   },
   "outputs": [
    {
     "data": {
      "text/markdown": [
       "- Metaverse Domains Are Trending as Minting Goes Live on Quik․com.  Quik.com, a portal to the web3-optimized metaverse, is bringing firsthand knowledge of the .metaverse, .vr, .web3, and many other top-level domains to the web3 race. These domains on Quik.com are minted on blockchain technology and are featured to be stored as an asset in the user&#x2019;s digital wallet and held, sold, or even exchanged if [&#8230;] ... [| Skaityti daugiau](https://news.bitcoin.com/metaverse-domains-are-trending-as-minting-goes-live-on-quik%e2%80%a4com/) "
      ],
      "text/plain": [
       "<IPython.core.display.Markdown object>"
      ]
     },
     "execution_count": 3,
     "metadata": {},
     "output_type": "execute_result"
    }
   ],
   "source": [
    "#hide_input\n",
    "#md('##### {}'.format(titleBTC)) \n",
    "md(\"- {}{} {}{} [| Skaityti daugiau]({}) \".format(blockchain['title'],'. ', blockchain['body'], ' ...', blockchain['url']))"
   ]
  },
  {
   "cell_type": "code",
   "execution_count": 4,
   "id": "aging-caution",
   "metadata": {
    "execution": {
     "iopub.execute_input": "2022-07-05T03:17:55.170328Z",
     "iopub.status.busy": "2022-07-05T03:17:55.169538Z",
     "iopub.status.idle": "2022-07-05T03:17:55.175330Z",
     "shell.execute_reply": "2022-07-05T03:17:55.174748Z"
    },
    "papermill": {
     "duration": 0.022189,
     "end_time": "2022-07-05T03:17:55.175451",
     "exception": false,
     "start_time": "2022-07-05T03:17:55.153262",
     "status": "completed"
    },
    "tags": []
   },
   "outputs": [
    {
     "data": {
      "text/markdown": [
       "- TA: Bitcoin Jumps 5%, Why BTC Could Offer Trade Openings On Dips.  Bitcoin gained pace and cleared the $19,500 resistance against the US Dollar. BTC is now facing resistance and might correct lower to $19,500 in the short-term. Bitcoin gained pace above the $19,500 and $19,600 resistance levels. The price is now trading above the $20,000 level and the 100 hourly simple moving average. There was a move above a key bearish trend line with resistance near $19,460 on the hourly chart of the BTC/USD pair (data feed from Kraken). The pair tested the $20,500 resistance zone and might correct in the short-term. Bitcoin Price Gains Pace Bitcoin price formed a base above the $18,720 support zone. As a result, BTC started a decent increase and broke the $19,500 resistance zone. There was a clear move above a key bearish trend line with resistance near $19,460 on the hourly chart of the BTC/USD pair. The price even broke the $20,000 resistance and settled above the 100 hourly simple moving average. Bitcoin climbed above the 76.4% Fib retracement level of the key drop from the $20,500 swing high to $18,735 low. However, the bulls struggled to pump the price above the $20,500 resistance zone. A high is formed near $20,450 and the price is consolidating gains. It is trading above the 23.6% Fib retracement level of the recent increase from the $18,738 swing low to $20,450 high. On the upside, the price is facing resistance near the $20,450 and $20,500 levels. Source: BTCUSD on TradingView.com The next key re... ... [| Skaityti daugiau](https://www.newsbtc.com/analysis/btc/bitcoin-jumps-5-pc-20k/) "
      ],
      "text/plain": [
       "<IPython.core.display.Markdown object>"
      ]
     },
     "execution_count": 4,
     "metadata": {},
     "output_type": "execute_result"
    }
   ],
   "source": [
    "#hide_input\n",
    "#md('##### {}'.format(titleBTC)) \n",
    "md(\"- {}{} {}{} [| Skaityti daugiau]({}) \".format(btc['title'],'. ', btc['body'], ' ...', btc['url']))"
   ]
  },
  {
   "cell_type": "code",
   "execution_count": 5,
   "id": "organic-actress",
   "metadata": {
    "execution": {
     "iopub.execute_input": "2022-07-05T03:17:55.204746Z",
     "iopub.status.busy": "2022-07-05T03:17:55.203901Z",
     "iopub.status.idle": "2022-07-05T03:17:55.212193Z",
     "shell.execute_reply": "2022-07-05T03:17:55.211559Z"
    },
    "papermill": {
     "duration": 0.025436,
     "end_time": "2022-07-05T03:17:55.212320",
     "exception": false,
     "start_time": "2022-07-05T03:17:55.186884",
     "status": "completed"
    },
    "tags": []
   },
   "outputs": [
    {
     "data": {
      "text/markdown": [
       "- XRP: Analyzing the firmness of this defending zone.  Correlating with the broader trend, XRP has been on a steep slump after losing the $0.7-zone. XRP steadily declined while chalking out a three-month trendline resistance (yellow, dashed). Meanwhile, the buyers strived to find a convincing close above the basis line (green) of the Bollinger Bands (BB). But the bearish efforts have subdued the buying [&#8230;] ... [| Skaityti daugiau](https://ambcrypto.com/xrp-analyzing-the-firmness-of-this-defending-zone/) "
      ],
      "text/plain": [
       "<IPython.core.display.Markdown object>"
      ]
     },
     "execution_count": 5,
     "metadata": {},
     "output_type": "execute_result"
    }
   ],
   "source": [
    "#hide_input\n",
    "#md('##### {}'.format(titleBTC)) \n",
    "md(\"- {}{} {}{} [| Skaityti daugiau]({}) \".format(xrp['title'],'. ', xrp['body'], ' ...', xrp['url']))"
   ]
  },
  {
   "cell_type": "code",
   "execution_count": 6,
   "id": "prompt-farmer",
   "metadata": {
    "execution": {
     "iopub.execute_input": "2022-07-05T03:17:55.241393Z",
     "iopub.status.busy": "2022-07-05T03:17:55.240525Z",
     "iopub.status.idle": "2022-07-05T03:17:55.245770Z",
     "shell.execute_reply": "2022-07-05T03:17:55.245198Z"
    },
    "papermill": {
     "duration": 0.020781,
     "end_time": "2022-07-05T03:17:55.245882",
     "exception": false,
     "start_time": "2022-07-05T03:17:55.225101",
     "status": "completed"
    },
    "tags": []
   },
   "outputs": [
    {
     "data": {
      "text/markdown": [
       "- Cardano, Tron, and Avalanche Post Price Gains as Altcoins See Relief Rally.  Avalanche (AVAX) and Tron (TRX) had increases of 7.43% and 6.23%, respectively ... [| Skaityti daugiau](https://u.today/cardano-tron-and-avalanche-post-price-gains-as-altcoins-see-relief-rally) "
      ],
      "text/plain": [
       "<IPython.core.display.Markdown object>"
      ]
     },
     "execution_count": 6,
     "metadata": {},
     "output_type": "execute_result"
    }
   ],
   "source": [
    "#hide_input\n",
    "#md('##### {}'.format(titleBTC)) \n",
    "md(\"- {}{} {}{} [| Skaityti daugiau]({}) \".format(trx['title'],'. ', trx['body'], ' ...', trx['url']))"
   ]
  },
  {
   "cell_type": "code",
   "execution_count": 7,
   "id": "illegal-greece",
   "metadata": {
    "execution": {
     "iopub.execute_input": "2022-07-05T03:17:55.274302Z",
     "iopub.status.busy": "2022-07-05T03:17:55.273297Z",
     "iopub.status.idle": "2022-07-05T03:17:55.277878Z",
     "shell.execute_reply": "2022-07-05T03:17:55.278552Z"
    },
    "papermill": {
     "duration": 0.021389,
     "end_time": "2022-07-05T03:17:55.278704",
     "exception": false,
     "start_time": "2022-07-05T03:17:55.257315",
     "status": "completed"
    },
    "tags": []
   },
   "outputs": [
    {
     "data": {
      "text/markdown": [
       "- Bitcoin, Ethereum, EOS, and Maker Daily Price Analyses – 4 July Roundup.  The global crypto market has continued to move forward with bullish vigor. The recent changes brought Bitcoin and Ethereum past the crucial threshold level. As the gains continue, there has been an addition of considerable value to the market. The problem that the market has continued to face is the losses that come soon after... ... [| Skaityti daugiau](https://www.cryptopolitan.com/bitcoin-ethereum-eos-and-maker-daily-price-analyses-4-july-roundup/) "
      ],
      "text/plain": [
       "<IPython.core.display.Markdown object>"
      ]
     },
     "execution_count": 7,
     "metadata": {},
     "output_type": "execute_result"
    }
   ],
   "source": [
    "#hide_input\n",
    "#md('##### {}'.format(titleBTC)) \n",
    "md(\"- {}{} {}{} [| Skaityti daugiau]({}) \".format(eth['title'],'. ', eth['body'], ' ...', eth['url']))"
   ]
  },
  {
   "cell_type": "code",
   "execution_count": 8,
   "id": "sublime-lounge",
   "metadata": {
    "execution": {
     "iopub.execute_input": "2022-07-05T03:17:55.306771Z",
     "iopub.status.busy": "2022-07-05T03:17:55.305783Z",
     "iopub.status.idle": "2022-07-05T03:17:55.310696Z",
     "shell.execute_reply": "2022-07-05T03:17:55.311516Z"
    },
    "papermill": {
     "duration": 0.02116,
     "end_time": "2022-07-05T03:17:55.311643",
     "exception": false,
     "start_time": "2022-07-05T03:17:55.290483",
     "status": "completed"
    },
    "tags": []
   },
   "outputs": [
    {
     "data": {
      "text/markdown": [
       "- ADA Technical Analysis: ADA/USD Set to Break Above $0.60.  Key Technical Points: ADA technical analysis shows slight bullish movement. ADA/USD is currently trading at $0.456. ADA/USD found resistance at $556. Past Performance of ADA ADA technical analysis shows slight bullish movement. Over the past few weeks, the digital asset has traded in a range-bound manner, with prices bouncing between $0.42 and $0.52. However, ADA recently found some buying interest around $0.45, pushing prices towards $0.50. ADA has had a strong uptrend since March 2020 lows, and the digital asset is currently trading around $0.456. On the 4-hour chart, ADA/USD has formed a descending triangle pattern, a bearish reversal pattern. The bias remains bearish if prices are trading below the descending triangle resistance at $0.52. A break above $0.52 could see ADA prices move towards $0.60 in the short term. On the downside, support is seen at $0.45, and a break below this level could see ADA prices move towards $0.42 in the short term. ADA technical analysis shows that the digital asset is trading in a tightening range, suggesting a breakout is imminent. ADA/USD technical analysis shows that the digital asset has found some buying interest around $0.45, and a break above $0.52 could see prices move towards $0.60 in the short term. Source-Tradingview ADA Technical Analysis The formation of the bullish lagging span confirms that a bottom has been reached, and prices are likely to move higher in the short term. The d... ... [| Skaityti daugiau](https://www.cryptoknowmics.com/news/ada-technical-analysis-ada-usd-set-to-break-above-0-60/?utm_source=rss&utm_medium=rss&utm_campaign=ada-technical-analysis-ada-usd-set-to-break-above-0-60) "
      ],
      "text/plain": [
       "<IPython.core.display.Markdown object>"
      ]
     },
     "execution_count": 8,
     "metadata": {},
     "output_type": "execute_result"
    }
   ],
   "source": [
    "#hide_input\n",
    "#md('##### {}'.format(titleBTC)) \n",
    "md(\"- {}{} {}{} [| Skaityti daugiau]({}) \".format(ada['title'],'. ', ada['body'], ' ...', ada['url']))"
   ]
  },
  {
   "cell_type": "code",
   "execution_count": 9,
   "id": "specified-ordering",
   "metadata": {
    "execution": {
     "iopub.execute_input": "2022-07-05T03:17:55.341934Z",
     "iopub.status.busy": "2022-07-05T03:17:55.341068Z",
     "iopub.status.idle": "2022-07-05T03:17:55.345198Z",
     "shell.execute_reply": "2022-07-05T03:17:55.345868Z"
    },
    "papermill": {
     "duration": 0.021732,
     "end_time": "2022-07-05T03:17:55.346004",
     "exception": false,
     "start_time": "2022-07-05T03:17:55.324272",
     "status": "completed"
    },
    "tags": []
   },
   "outputs": [
    {
     "data": {
      "text/markdown": [
       "- Voyager Shares Drop 34% As Crypto Lending Platform Suspends Transaction.  The post Voyager Shares Drop 34% As Crypto Lending Platform Suspends Transaction appeared first on Coinpedia - Fintech &amp; Cryptocurreny News Media| Crypto GuideVoyager Digital, a provider of digital currency trading services, saw its shares plunge 34% on Tuesday after the company said it was limiting some of its services due to &#8220;unprecedented&#8221; market conditions. The company&#8217;s stock was down 34% at $0.39 in mid-day trading on the Toronto Stock Exchange. Voyager said it was suspending customer withdrawals &#8230; ... [| Skaityti daugiau](https://coinpedia.org/news/voyager-shares-drop-34-as-crypto-platform-limits-services/) "
      ],
      "text/plain": [
       "<IPython.core.display.Markdown object>"
      ]
     },
     "execution_count": 9,
     "metadata": {},
     "output_type": "execute_result"
    }
   ],
   "source": [
    "#hide_input\n",
    "#md('##### {}'.format(titleBTC)) \n",
    "md(\"- {}{} {}{} [| Skaityti daugiau]({}) \".format(exchange['title'],'. ', exchange['body'], ' ...', exchange['url']))"
   ]
  },
  {
   "cell_type": "code",
   "execution_count": null,
   "id": "tender-livestock",
   "metadata": {
    "papermill": {
     "duration": 0.013017,
     "end_time": "2022-07-05T03:17:55.371821",
     "exception": false,
     "start_time": "2022-07-05T03:17:55.358804",
     "status": "completed"
    },
    "tags": []
   },
   "outputs": [],
   "source": []
  },
  {
   "cell_type": "code",
   "execution_count": null,
   "id": "appreciated-diamond",
   "metadata": {
    "papermill": {
     "duration": 0.012864,
     "end_time": "2022-07-05T03:17:55.397484",
     "exception": false,
     "start_time": "2022-07-05T03:17:55.384620",
     "status": "completed"
    },
    "tags": []
   },
   "outputs": [],
   "source": []
  },
  {
   "cell_type": "code",
   "execution_count": null,
   "id": "romance-sweden",
   "metadata": {
    "papermill": {
     "duration": 0.013471,
     "end_time": "2022-07-05T03:17:55.423886",
     "exception": false,
     "start_time": "2022-07-05T03:17:55.410415",
     "status": "completed"
    },
    "tags": []
   },
   "outputs": [],
   "source": []
  },
  {
   "cell_type": "code",
   "execution_count": null,
   "id": "dietary-statistics",
   "metadata": {
    "papermill": {
     "duration": 0.012775,
     "end_time": "2022-07-05T03:17:55.449854",
     "exception": false,
     "start_time": "2022-07-05T03:17:55.437079",
     "status": "completed"
    },
    "tags": []
   },
   "outputs": [],
   "source": []
  }
 ],
 "metadata": {
  "kernelspec": {
   "display_name": "Python 3",
   "language": "python",
   "name": "python3"
  },
  "language_info": {
   "codemirror_mode": {
    "name": "ipython",
    "version": 3
   },
   "file_extension": ".py",
   "mimetype": "text/x-python",
   "name": "python",
   "nbconvert_exporter": "python",
   "pygments_lexer": "ipython3",
   "version": "3.6.15"
  },
  "papermill": {
   "default_parameters": {},
   "duration": 16.72371,
   "end_time": "2022-07-05T03:17:55.982122",
   "environment_variables": {},
   "exception": null,
   "input_path": "Market-News.ipynb",
   "output_path": "Market-News.ipynb",
   "parameters": {},
   "start_time": "2022-07-05T03:17:39.258412",
   "version": "2.2.2"
  }
 },
 "nbformat": 4,
 "nbformat_minor": 5
}