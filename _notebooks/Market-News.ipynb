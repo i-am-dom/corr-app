{
 "cells": [
  {
   "cell_type": "markdown",
   "id": "short-greensboro",
   "metadata": {
    "papermill": {
     "duration": 0.013883,
     "end_time": "2021-11-26T01:57:53.380043",
     "exception": false,
     "start_time": "2021-11-26T01:57:53.366160",
     "status": "completed"
    },
    "tags": []
   },
   "source": [
    "# Kriptovaliutų naujienos"
   ]
  },
  {
   "cell_type": "code",
   "execution_count": 1,
   "id": "functioning-knowing",
   "metadata": {
    "execution": {
     "iopub.execute_input": "2021-11-26T01:57:53.408960Z",
     "iopub.status.busy": "2021-11-26T01:57:53.408431Z",
     "iopub.status.idle": "2021-11-26T01:57:54.685888Z",
     "shell.execute_reply": "2021-11-26T01:57:54.685363Z"
    },
    "papermill": {
     "duration": 1.296248,
     "end_time": "2021-11-26T01:57:54.686039",
     "exception": false,
     "start_time": "2021-11-26T01:57:53.389791",
     "status": "completed"
    },
    "tags": []
   },
   "outputs": [],
   "source": [
    "#hide_input\n",
    "import warnings\n",
    "warnings.filterwarnings('ignore')\n",
    "from scripts.read_data import read_api\n",
    "from scripts.read_data import read_news\n",
    "from scripts.read_data import read_covid\n",
    "import matplotlib.pyplot as plt \n",
    "from IPython.display import Markdown as md"
   ]
  },
  {
   "cell_type": "code",
   "execution_count": 2,
   "id": "shared-acceptance",
   "metadata": {
    "execution": {
     "iopub.execute_input": "2021-11-26T01:57:54.711795Z",
     "iopub.status.busy": "2021-11-26T01:57:54.710881Z",
     "iopub.status.idle": "2021-11-26T01:58:03.033058Z",
     "shell.execute_reply": "2021-11-26T01:58:03.032503Z"
    },
    "papermill": {
     "duration": 8.337283,
     "end_time": "2021-11-26T01:58:03.033198",
     "exception": false,
     "start_time": "2021-11-26T01:57:54.695915",
     "status": "completed"
    },
    "tags": []
   },
   "outputs": [],
   "source": [
    "#hide_input\n",
    "blockchain = read_news('blockchain') \n",
    "btc = read_news('btc') \n",
    "xrp = read_news('xrp') \n",
    "trx = read_news('trx') \n",
    "eth = read_news('eth')  \n",
    "ada = read_news('ada')\n",
    "exchange = read_news('exchange') "
   ]
  },
  {
   "cell_type": "code",
   "execution_count": 3,
   "id": "synthetic-notion",
   "metadata": {
    "execution": {
     "iopub.execute_input": "2021-11-26T01:58:03.059562Z",
     "iopub.status.busy": "2021-11-26T01:58:03.059016Z",
     "iopub.status.idle": "2021-11-26T01:58:03.061219Z",
     "shell.execute_reply": "2021-11-26T01:58:03.061624Z"
    },
    "papermill": {
     "duration": 0.018471,
     "end_time": "2021-11-26T01:58:03.061754",
     "exception": false,
     "start_time": "2021-11-26T01:58:03.043283",
     "status": "completed"
    },
    "tags": []
   },
   "outputs": [
    {
     "data": {
      "text/markdown": [
       "- Ethereum Looking Stronger Than Bitcoin As ETH Holds Crucial Support: Crypto Analyst.  A closely followed crypto analyst is keeping an eye on the top two digital assets by market cap as well as a pair of Layer-1 scaling solution altcoins. In the latest TechnicalRoundup newsletter, pseudonymous analyst Cred says that Bitcoin closed the week without a clear signal about where BTC’s price is headed. &#8220;Bitcoin/dollar offered a [&#8230;]The post Ethereum Looking Stronger Than Bitcoin As ETH Holds Crucial Support: Crypto Analyst appeared first on The Daily Hodl. ... [| Skaityti daugiau](https://dailyhodl.com/2021/11/25/ethereum-looking-stronger-than-bitcoin-as-eth-holds-crucial-support-crypto-analyst/) "
      ],
      "text/plain": [
       "<IPython.core.display.Markdown object>"
      ]
     },
     "execution_count": 3,
     "metadata": {},
     "output_type": "execute_result"
    }
   ],
   "source": [
    "#hide_input\n",
    "#md('##### {}'.format(titleBTC)) \n",
    "md(\"- {}{} {}{} [| Skaityti daugiau]({}) \".format(blockchain['title'],'. ', blockchain['body'], ' ...', blockchain['url']))"
   ]
  },
  {
   "cell_type": "code",
   "execution_count": 4,
   "id": "aging-caution",
   "metadata": {
    "execution": {
     "iopub.execute_input": "2021-11-26T01:58:03.084990Z",
     "iopub.status.busy": "2021-11-26T01:58:03.083758Z",
     "iopub.status.idle": "2021-11-26T01:58:03.087416Z",
     "shell.execute_reply": "2021-11-26T01:58:03.087792Z"
    },
    "papermill": {
     "duration": 0.016819,
     "end_time": "2021-11-26T01:58:03.087915",
     "exception": false,
     "start_time": "2021-11-26T01:58:03.071096",
     "status": "completed"
    },
    "tags": []
   },
   "outputs": [
    {
     "data": {
      "text/markdown": [
       "- Bitcoin overtakes Paypal on value transferred, sets sights on Mastercard: Report.  Blockdata’s report suggests that the Bitcoin network could potentially match the dollar value transferred on Mastercard’s network as early as 2026, or as late as 2060. ... [| Skaityti daugiau](https://cointelegraph.com/news/bitcoin-overtakes-paypal-on-value-transferred-sets-sights-on-mastercard-report) "
      ],
      "text/plain": [
       "<IPython.core.display.Markdown object>"
      ]
     },
     "execution_count": 4,
     "metadata": {},
     "output_type": "execute_result"
    }
   ],
   "source": [
    "#hide_input\n",
    "#md('##### {}'.format(titleBTC)) \n",
    "md(\"- {}{} {}{} [| Skaityti daugiau]({}) \".format(btc['title'],'. ', btc['body'], ' ...', btc['url']))"
   ]
  },
  {
   "cell_type": "code",
   "execution_count": 5,
   "id": "organic-actress",
   "metadata": {
    "execution": {
     "iopub.execute_input": "2021-11-26T01:58:03.111302Z",
     "iopub.status.busy": "2021-11-26T01:58:03.110801Z",
     "iopub.status.idle": "2021-11-26T01:58:03.113524Z",
     "shell.execute_reply": "2021-11-26T01:58:03.113104Z"
    },
    "papermill": {
     "duration": 0.016143,
     "end_time": "2021-11-26T01:58:03.113620",
     "exception": false,
     "start_time": "2021-11-26T01:58:03.097477",
     "status": "completed"
    },
    "tags": []
   },
   "outputs": [
    {
     "data": {
      "text/markdown": [
       "- New Investigation Reveals SEC vs. Ripple Case Has More To It Than Just XRP.  Fox Business released their investigative report on the Ripple vs SEC lawsuit. The report which details the entire case so far finds the SEC’s move against Ripple to still be dubious.&#160; As promised by the leading news channel, Fox Business, the media outlet has now&#160;released its investigative report on the lawsuit between the U.S. Securities [&#8230;] ... [| Skaityti daugiau](https://zycrypto.com/new-investigation-reveals-sec-vs-ripple-case-has-more-to-it-than-just-xrp/) "
      ],
      "text/plain": [
       "<IPython.core.display.Markdown object>"
      ]
     },
     "execution_count": 5,
     "metadata": {},
     "output_type": "execute_result"
    }
   ],
   "source": [
    "#hide_input\n",
    "#md('##### {}'.format(titleBTC)) \n",
    "md(\"- {}{} {}{} [| Skaityti daugiau]({}) \".format(xrp['title'],'. ', xrp['body'], ' ...', xrp['url']))"
   ]
  },
  {
   "cell_type": "code",
   "execution_count": 6,
   "id": "prompt-farmer",
   "metadata": {
    "execution": {
     "iopub.execute_input": "2021-11-26T01:58:03.147456Z",
     "iopub.status.busy": "2021-11-26T01:58:03.146885Z",
     "iopub.status.idle": "2021-11-26T01:58:03.150035Z",
     "shell.execute_reply": "2021-11-26T01:58:03.149612Z"
    },
    "papermill": {
     "duration": 0.026429,
     "end_time": "2021-11-26T01:58:03.150155",
     "exception": false,
     "start_time": "2021-11-26T01:58:03.123726",
     "status": "completed"
    },
    "tags": []
   },
   "outputs": [
    {
     "data": {
      "text/markdown": [
       "- Cardano Tumbles After Crypto Exchange Announces Its Removal Over Regulatory Concerns.  The price of Cardano (ADA) has tumbled after a large crypto exchange announced it will be delisting the coin for US customers by the end of the year. According to a statement from eToro, both ADA and Tron (TRX) will be removed over regulatory concerns. &#8220;US users will not be able to open new ADA [&#8230;]The post Cardano Tumbles After Crypto Exchange Announces Its Removal Over Regulatory Concerns appeared first on The Daily Hodl. ... [| Skaityti daugiau](https://dailyhodl.com/2021/11/25/cardano-tumbles-after-crypto-exchange-announces-its-removal-over-regulatory-concerns/) "
      ],
      "text/plain": [
       "<IPython.core.display.Markdown object>"
      ]
     },
     "execution_count": 6,
     "metadata": {},
     "output_type": "execute_result"
    }
   ],
   "source": [
    "#hide_input\n",
    "#md('##### {}'.format(titleBTC)) \n",
    "md(\"- {}{} {}{} [| Skaityti daugiau]({}) \".format(trx['title'],'. ', trx['body'], ' ...', trx['url']))"
   ]
  },
  {
   "cell_type": "code",
   "execution_count": 7,
   "id": "illegal-greece",
   "metadata": {
    "execution": {
     "iopub.execute_input": "2021-11-26T01:58:03.177567Z",
     "iopub.status.busy": "2021-11-26T01:58:03.176996Z",
     "iopub.status.idle": "2021-11-26T01:58:03.179124Z",
     "shell.execute_reply": "2021-11-26T01:58:03.179668Z"
    },
    "papermill": {
     "duration": 0.018892,
     "end_time": "2021-11-26T01:58:03.179794",
     "exception": false,
     "start_time": "2021-11-26T01:58:03.160902",
     "status": "completed"
    },
    "tags": []
   },
   "outputs": [
    {
     "data": {
      "text/markdown": [
       "- Ethereum Looking Stronger Than Bitcoin As ETH Holds Crucial Support: Crypto Analyst.  A closely followed crypto analyst is keeping an eye on the top two digital assets by market cap as well as a pair of Layer-1 scaling solution altcoins. In the latest TechnicalRoundup newsletter, pseudonymous analyst Cred says that Bitcoin closed the week without a clear signal about where BTC’s price is headed. &#8220;Bitcoin/dollar offered a [&#8230;]The post Ethereum Looking Stronger Than Bitcoin As ETH Holds Crucial Support: Crypto Analyst appeared first on The Daily Hodl. ... [| Skaityti daugiau](https://dailyhodl.com/2021/11/25/ethereum-looking-stronger-than-bitcoin-as-eth-holds-crucial-support-crypto-analyst/) "
      ],
      "text/plain": [
       "<IPython.core.display.Markdown object>"
      ]
     },
     "execution_count": 7,
     "metadata": {},
     "output_type": "execute_result"
    }
   ],
   "source": [
    "#hide_input\n",
    "#md('##### {}'.format(titleBTC)) \n",
    "md(\"- {}{} {}{} [| Skaityti daugiau]({}) \".format(eth['title'],'. ', eth['body'], ' ...', eth['url']))"
   ]
  },
  {
   "cell_type": "code",
   "execution_count": 8,
   "id": "sublime-lounge",
   "metadata": {
    "execution": {
     "iopub.execute_input": "2021-11-26T01:58:03.205654Z",
     "iopub.status.busy": "2021-11-26T01:58:03.205079Z",
     "iopub.status.idle": "2021-11-26T01:58:03.207154Z",
     "shell.execute_reply": "2021-11-26T01:58:03.207694Z"
    },
    "papermill": {
     "duration": 0.017396,
     "end_time": "2021-11-26T01:58:03.207818",
     "exception": false,
     "start_time": "2021-11-26T01:58:03.190422",
     "status": "completed"
    },
    "tags": []
   },
   "outputs": [
    {
     "data": {
      "text/markdown": [
       "- Cardano and Tron Will Soon Be Removed From eToro.   ... [| Skaityti daugiau](https://cryptobriefing.com/cardano-and-tron-will-be-soon-be-removed-from-etoro/?utm_source=main_feed&utm_medium=rss) "
      ],
      "text/plain": [
       "<IPython.core.display.Markdown object>"
      ]
     },
     "execution_count": 8,
     "metadata": {},
     "output_type": "execute_result"
    }
   ],
   "source": [
    "#hide_input\n",
    "#md('##### {}'.format(titleBTC)) \n",
    "md(\"- {}{} {}{} [| Skaityti daugiau]({}) \".format(ada['title'],'. ', ada['body'], ' ...', ada['url']))"
   ]
  },
  {
   "cell_type": "code",
   "execution_count": 9,
   "id": "specified-ordering",
   "metadata": {
    "execution": {
     "iopub.execute_input": "2021-11-26T01:58:03.234465Z",
     "iopub.status.busy": "2021-11-26T01:58:03.233927Z",
     "iopub.status.idle": "2021-11-26T01:58:03.236387Z",
     "shell.execute_reply": "2021-11-26T01:58:03.236814Z"
    },
    "papermill": {
     "duration": 0.017791,
     "end_time": "2021-11-26T01:58:03.236927",
     "exception": false,
     "start_time": "2021-11-26T01:58:03.219136",
     "status": "completed"
    },
    "tags": []
   },
   "outputs": [
    {
     "data": {
      "text/markdown": [
       "- Floki Inu ($FLOKI) Community Uses Petition to Request Binance Listing.  The community behind the meme-inspired cryptocurrency Floki Inu ($FLOKI) has started a petition asking leading cryptocurrency trading platform Binance for a listing on it. Getting listed on such an exchange would significantly improve the cryptocurrency’s liquidity. Through a petition created on Change.org that has already gathered over 14,000 signatures, the cryptocurrency’s community has pointed out […] ... [| Skaityti daugiau](https://www.cryptoglobe.com/latest/2021/11/floki-inu-floki-community-uses-petition-to-request-binance-listing/) "
      ],
      "text/plain": [
       "<IPython.core.display.Markdown object>"
      ]
     },
     "execution_count": 9,
     "metadata": {},
     "output_type": "execute_result"
    }
   ],
   "source": [
    "#hide_input\n",
    "#md('##### {}'.format(titleBTC)) \n",
    "md(\"- {}{} {}{} [| Skaityti daugiau]({}) \".format(exchange['title'],'. ', exchange['body'], ' ...', exchange['url']))"
   ]
  },
  {
   "cell_type": "code",
   "execution_count": null,
   "id": "tender-livestock",
   "metadata": {
    "papermill": {
     "duration": 0.011178,
     "end_time": "2021-11-26T01:58:03.259298",
     "exception": false,
     "start_time": "2021-11-26T01:58:03.248120",
     "status": "completed"
    },
    "tags": []
   },
   "outputs": [],
   "source": []
  },
  {
   "cell_type": "code",
   "execution_count": null,
   "id": "appreciated-diamond",
   "metadata": {
    "papermill": {
     "duration": 0.011129,
     "end_time": "2021-11-26T01:58:03.281639",
     "exception": false,
     "start_time": "2021-11-26T01:58:03.270510",
     "status": "completed"
    },
    "tags": []
   },
   "outputs": [],
   "source": []
  },
  {
   "cell_type": "code",
   "execution_count": null,
   "id": "romance-sweden",
   "metadata": {
    "papermill": {
     "duration": 0.01111,
     "end_time": "2021-11-26T01:58:03.303898",
     "exception": false,
     "start_time": "2021-11-26T01:58:03.292788",
     "status": "completed"
    },
    "tags": []
   },
   "outputs": [],
   "source": []
  },
  {
   "cell_type": "code",
   "execution_count": null,
   "id": "dietary-statistics",
   "metadata": {
    "papermill": {
     "duration": 0.011127,
     "end_time": "2021-11-26T01:58:03.326192",
     "exception": false,
     "start_time": "2021-11-26T01:58:03.315065",
     "status": "completed"
    },
    "tags": []
   },
   "outputs": [],
   "source": []
  }
 ],
 "metadata": {
  "kernelspec": {
   "display_name": "Python 3",
   "language": "python",
   "name": "python3"
  },
  "language_info": {
   "codemirror_mode": {
    "name": "ipython",
    "version": 3
   },
   "file_extension": ".py",
   "mimetype": "text/x-python",
   "name": "python",
   "nbconvert_exporter": "python",
   "pygments_lexer": "ipython3",
   "version": "3.6.15"
  },
  "papermill": {
   "default_parameters": {},
   "duration": 11.742614,
   "end_time": "2021-11-26T01:58:03.846006",
   "environment_variables": {},
   "exception": null,
   "input_path": "Market-News.ipynb",
   "output_path": "Market-News.ipynb",
   "parameters": {},
   "start_time": "2021-11-26T01:57:52.103392",
   "version": "2.2.2"
  }
 },
 "nbformat": 4,
 "nbformat_minor": 5
}