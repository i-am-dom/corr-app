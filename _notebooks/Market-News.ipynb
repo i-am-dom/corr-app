{
 "cells": [
  {
   "cell_type": "markdown",
   "id": "short-greensboro",
   "metadata": {
    "papermill": {
     "duration": 0.015582,
     "end_time": "2022-05-21T02:23:10.276982",
     "exception": false,
     "start_time": "2022-05-21T02:23:10.261400",
     "status": "completed"
    },
    "tags": []
   },
   "source": [
    "# Kriptovaliutų naujienos"
   ]
  },
  {
   "cell_type": "code",
   "execution_count": 1,
   "id": "functioning-knowing",
   "metadata": {
    "execution": {
     "iopub.execute_input": "2022-05-21T02:23:10.312072Z",
     "iopub.status.busy": "2022-05-21T02:23:10.311328Z",
     "iopub.status.idle": "2022-05-21T02:23:11.838937Z",
     "shell.execute_reply": "2022-05-21T02:23:11.838224Z"
    },
    "papermill": {
     "duration": 1.550234,
     "end_time": "2022-05-21T02:23:11.839092",
     "exception": false,
     "start_time": "2022-05-21T02:23:10.288858",
     "status": "completed"
    },
    "tags": []
   },
   "outputs": [],
   "source": [
    "#hide_input\n",
    "import warnings\n",
    "warnings.filterwarnings('ignore')\n",
    "from scripts.read_data import read_api\n",
    "from scripts.read_data import read_news\n",
    "from scripts.read_data import read_covid\n",
    "import matplotlib.pyplot as plt \n",
    "from IPython.display import Markdown as md"
   ]
  },
  {
   "cell_type": "code",
   "execution_count": 2,
   "id": "shared-acceptance",
   "metadata": {
    "execution": {
     "iopub.execute_input": "2022-05-21T02:23:11.869236Z",
     "iopub.status.busy": "2022-05-21T02:23:11.868157Z",
     "iopub.status.idle": "2022-05-21T02:23:21.414850Z",
     "shell.execute_reply": "2022-05-21T02:23:21.415407Z"
    },
    "papermill": {
     "duration": 9.566047,
     "end_time": "2022-05-21T02:23:21.415669",
     "exception": false,
     "start_time": "2022-05-21T02:23:11.849622",
     "status": "completed"
    },
    "tags": []
   },
   "outputs": [],
   "source": [
    "#hide_input\n",
    "blockchain = read_news('blockchain') \n",
    "btc = read_news('btc') \n",
    "xrp = read_news('xrp') \n",
    "trx = read_news('trx') \n",
    "eth = read_news('eth')  \n",
    "ada = read_news('ada')\n",
    "exchange = read_news('exchange') "
   ]
  },
  {
   "cell_type": "code",
   "execution_count": 3,
   "id": "synthetic-notion",
   "metadata": {
    "execution": {
     "iopub.execute_input": "2022-05-21T02:23:21.446997Z",
     "iopub.status.busy": "2022-05-21T02:23:21.446205Z",
     "iopub.status.idle": "2022-05-21T02:23:21.450356Z",
     "shell.execute_reply": "2022-05-21T02:23:21.449802Z"
    },
    "papermill": {
     "duration": 0.024063,
     "end_time": "2022-05-21T02:23:21.450504",
     "exception": false,
     "start_time": "2022-05-21T02:23:21.426441",
     "status": "completed"
    },
    "tags": []
   },
   "outputs": [
    {
     "data": {
      "text/markdown": [
       "- Cardano, Solana, Avalanche, and Polkadot Compete For Ethereum’s DeFi Supremacy.  Ethereum is currently in the driver’s seat when it comes to the region of DeFi, NFTs and smart contracts; however, as the network’s transaction (gas) fees continue to rise and the adoption of smart contracts continues to grow on other blockchain networks, it is possible that there will not be a single market king for smart contracts. Instead, multiple cryptocurrencies may look to stay on top. Others looking to take a larger market share in DeFi Ethereum was the first cryptocurrency to feature smart contracts, and its network already hosts numerous projects. Due to this extensive use of smart contracts, Ethereum experienced remarkable popularity in the cryptocurrency world last year. Although this is a positive development for the second-largest cryptocurrency in the world, congestion issues and high transaction fees persist. Ethereum’s developers have already devised a solution to the network congestion and scalability problem, which is Ethereum 2.0. However, until Ethereum completes this upgrade, several alternative smart contract cryptocurrencies will continue to compete for market dominance. Ethereum is one of the primary participants in DeFi and presently leads the NFT industry, but this is poised to change in the face of severe competition from prominent competing blockchains supporting smart contracts, such as Avalanche (AVAX), Cardano (ADA), Solana (SOL), and Polkadot (DOT). All of these competing blockchains operate di... ... [| Skaityti daugiau](https://www.cryptoknowmics.com/news/cardano-solana-avalanche-and-polkadot-compete-for-ethereums-defi-supremacy/?utm_source=rss&utm_medium=rss&utm_campaign=cardano-solana-avalanche-and-polkadot-compete-for-ethereums-defi-supremacy) "
      ],
      "text/plain": [
       "<IPython.core.display.Markdown object>"
      ]
     },
     "execution_count": 3,
     "metadata": {},
     "output_type": "execute_result"
    }
   ],
   "source": [
    "#hide_input\n",
    "#md('##### {}'.format(titleBTC)) \n",
    "md(\"- {}{} {}{} [| Skaityti daugiau]({}) \".format(blockchain['title'],'. ', blockchain['body'], ' ...', blockchain['url']))"
   ]
  },
  {
   "cell_type": "code",
   "execution_count": 4,
   "id": "aging-caution",
   "metadata": {
    "execution": {
     "iopub.execute_input": "2022-05-21T02:23:21.478075Z",
     "iopub.status.busy": "2022-05-21T02:23:21.477333Z",
     "iopub.status.idle": "2022-05-21T02:23:21.482593Z",
     "shell.execute_reply": "2022-05-21T02:23:21.482094Z"
    },
    "papermill": {
     "duration": 0.021517,
     "end_time": "2022-05-21T02:23:21.482720",
     "exception": false,
     "start_time": "2022-05-21T02:23:21.461203",
     "status": "completed"
    },
    "tags": []
   },
   "outputs": [
    {
     "data": {
      "text/markdown": [
       "- Coinbase Leads Users Astray By Recommending Everything Besides Bitcoin.  Coinbase capitalizes on the altcoin craze to profit off users. Their “Top 10 Picks'' omits bitcoin and everything else on the list has performed poorly. ... [| Skaityti daugiau](https://bitcoinmagazine.com/business/coinbase-leads-users-astray-from-bitcoin) "
      ],
      "text/plain": [
       "<IPython.core.display.Markdown object>"
      ]
     },
     "execution_count": 4,
     "metadata": {},
     "output_type": "execute_result"
    }
   ],
   "source": [
    "#hide_input\n",
    "#md('##### {}'.format(titleBTC)) \n",
    "md(\"- {}{} {}{} [| Skaityti daugiau]({}) \".format(btc['title'],'. ', btc['body'], ' ...', btc['url']))"
   ]
  },
  {
   "cell_type": "code",
   "execution_count": 5,
   "id": "organic-actress",
   "metadata": {
    "execution": {
     "iopub.execute_input": "2022-05-21T02:23:21.512532Z",
     "iopub.status.busy": "2022-05-21T02:23:21.511703Z",
     "iopub.status.idle": "2022-05-21T02:23:21.515825Z",
     "shell.execute_reply": "2022-05-21T02:23:21.515264Z"
    },
    "papermill": {
     "duration": 0.02137,
     "end_time": "2022-05-21T02:23:21.515950",
     "exception": false,
     "start_time": "2022-05-21T02:23:21.494580",
     "status": "completed"
    },
    "tags": []
   },
   "outputs": [
    {
     "data": {
      "text/markdown": [
       "- Ripple To Fund The Acceleration Of Global Carbon Markets; Dedicates $100M.  Ripple, the crypto solutions company shall commit $100M for the goal of carbon removal by investing in climate oriented fintech companies. The blockchain-based payments network has aimed to facilitate the acceleration of carbon removal technology in order to bring about modernization of the carbon markets. Carbon markets will let companies and individuals trade carbon credits [&#8230;] ... [| Skaityti daugiau](https://bitcoinist.com/ripple-of-global-carbon-markets-dedicates-100m/) "
      ],
      "text/plain": [
       "<IPython.core.display.Markdown object>"
      ]
     },
     "execution_count": 5,
     "metadata": {},
     "output_type": "execute_result"
    }
   ],
   "source": [
    "#hide_input\n",
    "#md('##### {}'.format(titleBTC)) \n",
    "md(\"- {}{} {}{} [| Skaityti daugiau]({}) \".format(xrp['title'],'. ', xrp['body'], ' ...', xrp['url']))"
   ]
  },
  {
   "cell_type": "code",
   "execution_count": 6,
   "id": "prompt-farmer",
   "metadata": {
    "execution": {
     "iopub.execute_input": "2022-05-21T02:23:21.548446Z",
     "iopub.status.busy": "2022-05-21T02:23:21.547734Z",
     "iopub.status.idle": "2022-05-21T02:23:21.551828Z",
     "shell.execute_reply": "2022-05-21T02:23:21.551286Z"
    },
    "papermill": {
     "duration": 0.023472,
     "end_time": "2022-05-21T02:23:21.551949",
     "exception": false,
     "start_time": "2022-05-21T02:23:21.528477",
     "status": "completed"
    },
    "tags": []
   },
   "outputs": [
    {
     "data": {
      "text/markdown": [
       "- Top Reasons to be a Tron (TRX) Long-term Investor.  Tron (TRX)has been around since 2017. TRX was one of the top six cryptocurrencies in early 2018 and the young Tron founder, Justin Sun stated that one of his missions in 2018 was to displace Ethereum. The target has not yet been achieved though Tron blockchain has made a lot of success since then. Tron has a present price of $0.07432 which is 58.73% higher than its present 52-week price of $0.04682. TRX is presently in the 14th position in the CoinMarketCap ranking of cryptocurrencies. Irrespective of this position, the Tron network token (TRX) might be an undervalued cryptocurrency for the following reasons: Tron token (TRX) performance with respect to some top cryptocurrencies In the past 30 days, the price of Tron (TRX) has increased by 18.08%. Bitcoin, Ethereum, and BNB within the same duration had reduced in price by 27%, 34.52%, and 27.02% respectively. This means that an investor who owns an equal amount of the four coins in United States dollars has increased by over 4.86 times when compared to investments in the other three cryptocurrencies (BTC, ETH, and BNB) put together. However, in recent times, the news had always been around Bitcoin, Ethereum, and BNB due to their higher position in the ranking. Tron (TRX) Higher Rebouncing Capacity When Compared to Some Other Coins Some cryptocurrencies went to extinction during and after the crypto winter of 2018. TRX was one of the tokens that were heavily affected by the hea... ... [| Skaityti daugiau](https://www.cryptoknowmics.com/news/top-reasons-to-be-a-tron-trx-long-term-investor/?utm_source=rss&utm_medium=rss&utm_campaign=top-reasons-to-be-a-tron-trx-long-term-investor) "
      ],
      "text/plain": [
       "<IPython.core.display.Markdown object>"
      ]
     },
     "execution_count": 6,
     "metadata": {},
     "output_type": "execute_result"
    }
   ],
   "source": [
    "#hide_input\n",
    "#md('##### {}'.format(titleBTC)) \n",
    "md(\"- {}{} {}{} [| Skaityti daugiau]({}) \".format(trx['title'],'. ', trx['body'], ' ...', trx['url']))"
   ]
  },
  {
   "cell_type": "code",
   "execution_count": 7,
   "id": "illegal-greece",
   "metadata": {
    "execution": {
     "iopub.execute_input": "2022-05-21T02:23:21.583551Z",
     "iopub.status.busy": "2022-05-21T02:23:21.582809Z",
     "iopub.status.idle": "2022-05-21T02:23:21.586798Z",
     "shell.execute_reply": "2022-05-21T02:23:21.586193Z"
    },
    "papermill": {
     "duration": 0.022936,
     "end_time": "2022-05-21T02:23:21.586909",
     "exception": false,
     "start_time": "2022-05-21T02:23:21.563973",
     "status": "completed"
    },
    "tags": []
   },
   "outputs": [
    {
     "data": {
      "text/markdown": [
       "- Is Monero (XMR) Worth Hodling?.  Monero (XMR) is a privacy cryptocurrency launched in April 2014. It is presently trading at $168.47. XMR has increased by 8.57% in the past 24 hours. Reason Why XMR is Worth Hodling Some of the reasons why Monero (XMR) is worth hodling are: Monero Upgrade to Bulletproof+ Monero would soon increase the security of its platform by upgrading to Bulletproof+ from the present Bulletproof algorithm. This change will ensure the Monero Blockchain’s protection from Application Specific Integrated Circuit (ASIC) miners in its next hard fork. This upgrade has made top XMR whales hodl the coin to attract more investors. Present Return on Investment Since the launch of XMR in April 2014 as a hard fork of Bytecoin, it has had a return on investment of 6554%. Therefore, XMR initial holders will continue to gain. That is 65.54 times the initial price of Monero when it was listed. Also, investors that purchased Monero (XMR) when it attained its current all-time low price of $0.213 on January 15th, 2015, have received a 77221% return on investment. At the time of writing, this product is worth $168.47. Relative Volume in Circulation Monero is one of the top 30 cryptocurrencies, according to CoinMarketCap, with a low circulating volume. Its circulating volume is 18,123,470 XMR which is comparatively lower than the top cryptocurrencies like Bitcoin, Ethereum, Binance Coin, XRP, and Litecoin. In a time of a bullish run, this low supply could favor... ... [| Skaityti daugiau](https://www.cryptoknowmics.com/news/is-monero-xmr-worth-hodling/?utm_source=rss&utm_medium=rss&utm_campaign=is-monero-xmr-worth-hodling) "
      ],
      "text/plain": [
       "<IPython.core.display.Markdown object>"
      ]
     },
     "execution_count": 7,
     "metadata": {},
     "output_type": "execute_result"
    }
   ],
   "source": [
    "#hide_input\n",
    "#md('##### {}'.format(titleBTC)) \n",
    "md(\"- {}{} {}{} [| Skaityti daugiau]({}) \".format(eth['title'],'. ', eth['body'], ' ...', eth['url']))"
   ]
  },
  {
   "cell_type": "code",
   "execution_count": 8,
   "id": "sublime-lounge",
   "metadata": {
    "execution": {
     "iopub.execute_input": "2022-05-21T02:23:21.616619Z",
     "iopub.status.busy": "2022-05-21T02:23:21.615966Z",
     "iopub.status.idle": "2022-05-21T02:23:21.619998Z",
     "shell.execute_reply": "2022-05-21T02:23:21.619234Z"
    },
    "papermill": {
     "duration": 0.021186,
     "end_time": "2022-05-21T02:23:21.620119",
     "exception": false,
     "start_time": "2022-05-21T02:23:21.598933",
     "status": "completed"
    },
    "tags": []
   },
   "outputs": [
    {
     "data": {
      "text/markdown": [
       "- Cardano’s fortune-telling has some tips for ADA sweethearts.  Disclaimer: The findings of the following analysis are the sole opinions of the writer and should not be considered investment advice. Grand promises on the left but an amateur hour on the right, this is a usual complaint most ADA holders have been having for over eight months now. It should be noted here that [&#8230;] ... [| Skaityti daugiau](https://ambcrypto.com/cardanos-fortune-telling-has-some-tips-for-ada-sweethearts/) "
      ],
      "text/plain": [
       "<IPython.core.display.Markdown object>"
      ]
     },
     "execution_count": 8,
     "metadata": {},
     "output_type": "execute_result"
    }
   ],
   "source": [
    "#hide_input\n",
    "#md('##### {}'.format(titleBTC)) \n",
    "md(\"- {}{} {}{} [| Skaityti daugiau]({}) \".format(ada['title'],'. ', ada['body'], ' ...', ada['url']))"
   ]
  },
  {
   "cell_type": "code",
   "execution_count": 9,
   "id": "specified-ordering",
   "metadata": {
    "execution": {
     "iopub.execute_input": "2022-05-21T02:23:21.656627Z",
     "iopub.status.busy": "2022-05-21T02:23:21.655803Z",
     "iopub.status.idle": "2022-05-21T02:23:21.659501Z",
     "shell.execute_reply": "2022-05-21T02:23:21.660130Z"
    },
    "papermill": {
     "duration": 0.024362,
     "end_time": "2022-05-21T02:23:21.660274",
     "exception": false,
     "start_time": "2022-05-21T02:23:21.635912",
     "status": "completed"
    },
    "tags": []
   },
   "outputs": [
    {
     "data": {
      "text/markdown": [
       "- Swappi’s New Launchpad Feature To Bring IDOs to Conflux.  May 20, 2022 – New York, New York Swappi, an AMM-based decentralized exchange (DEX) deployed on Conflux, is releasing a new feature that will give new projects launching on Conflux’s eSpace a platform to launch, fundraise and seed their community. Dubbed &#8216;Launchpad,&#8217; the new feature will enable projects to conduct an initial DEX offering (IDO) [&#8230;]The post Swappi’s New Launchpad Feature To Bring IDOs to Conflux appeared first on The Daily Hodl. ... [| Skaityti daugiau](https://dailyhodl.com/2022/05/20/swappis-new-launchpad-feature-to-bring-idos-to-conflux/) "
      ],
      "text/plain": [
       "<IPython.core.display.Markdown object>"
      ]
     },
     "execution_count": 9,
     "metadata": {},
     "output_type": "execute_result"
    }
   ],
   "source": [
    "#hide_input\n",
    "#md('##### {}'.format(titleBTC)) \n",
    "md(\"- {}{} {}{} [| Skaityti daugiau]({}) \".format(exchange['title'],'. ', exchange['body'], ' ...', exchange['url']))"
   ]
  },
  {
   "cell_type": "code",
   "execution_count": null,
   "id": "tender-livestock",
   "metadata": {
    "papermill": {
     "duration": 0.019384,
     "end_time": "2022-05-21T02:23:21.695057",
     "exception": false,
     "start_time": "2022-05-21T02:23:21.675673",
     "status": "completed"
    },
    "tags": []
   },
   "outputs": [],
   "source": []
  },
  {
   "cell_type": "code",
   "execution_count": null,
   "id": "appreciated-diamond",
   "metadata": {
    "papermill": {
     "duration": 0.015493,
     "end_time": "2022-05-21T02:23:21.725224",
     "exception": false,
     "start_time": "2022-05-21T02:23:21.709731",
     "status": "completed"
    },
    "tags": []
   },
   "outputs": [],
   "source": []
  },
  {
   "cell_type": "code",
   "execution_count": null,
   "id": "romance-sweden",
   "metadata": {
    "papermill": {
     "duration": 0.013633,
     "end_time": "2022-05-21T02:23:21.754583",
     "exception": false,
     "start_time": "2022-05-21T02:23:21.740950",
     "status": "completed"
    },
    "tags": []
   },
   "outputs": [],
   "source": []
  },
  {
   "cell_type": "code",
   "execution_count": null,
   "id": "dietary-statistics",
   "metadata": {
    "papermill": {
     "duration": 0.013589,
     "end_time": "2022-05-21T02:23:21.781538",
     "exception": false,
     "start_time": "2022-05-21T02:23:21.767949",
     "status": "completed"
    },
    "tags": []
   },
   "outputs": [],
   "source": []
  }
 ],
 "metadata": {
  "kernelspec": {
   "display_name": "Python 3",
   "language": "python",
   "name": "python3"
  },
  "language_info": {
   "codemirror_mode": {
    "name": "ipython",
    "version": 3
   },
   "file_extension": ".py",
   "mimetype": "text/x-python",
   "name": "python",
   "nbconvert_exporter": "python",
   "pygments_lexer": "ipython3",
   "version": "3.6.15"
  },
  "papermill": {
   "default_parameters": {},
   "duration": 13.357018,
   "end_time": "2022-05-21T02:23:22.316313",
   "environment_variables": {},
   "exception": null,
   "input_path": "Market-News.ipynb",
   "output_path": "Market-News.ipynb",
   "parameters": {},
   "start_time": "2022-05-21T02:23:08.959295",
   "version": "2.2.2"
  }
 },
 "nbformat": 4,
 "nbformat_minor": 5
}