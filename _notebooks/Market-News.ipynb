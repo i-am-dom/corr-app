{
 "cells": [
  {
   "cell_type": "markdown",
   "id": "short-greensboro",
   "metadata": {
    "papermill": {
     "duration": 0.015217,
     "end_time": "2021-07-21T02:03:00.867613",
     "exception": false,
     "start_time": "2021-07-21T02:03:00.852396",
     "status": "completed"
    },
    "tags": []
   },
   "source": [
    "# Kriptovaliutų naujienos"
   ]
  },
  {
   "cell_type": "code",
   "execution_count": 1,
   "id": "functioning-knowing",
   "metadata": {
    "execution": {
     "iopub.execute_input": "2021-07-21T02:03:00.904690Z",
     "iopub.status.busy": "2021-07-21T02:03:00.904062Z",
     "iopub.status.idle": "2021-07-21T02:03:02.310519Z",
     "shell.execute_reply": "2021-07-21T02:03:02.309481Z"
    },
    "papermill": {
     "duration": 1.424834,
     "end_time": "2021-07-21T02:03:02.310686",
     "exception": false,
     "start_time": "2021-07-21T02:03:00.885852",
     "status": "completed"
    },
    "tags": []
   },
   "outputs": [],
   "source": [
    "#hide_input\n",
    "import warnings\n",
    "warnings.filterwarnings('ignore')\n",
    "from scripts.read_data import read_api\n",
    "from scripts.read_data import read_news\n",
    "from scripts.read_data import read_covid\n",
    "import matplotlib.pyplot as plt \n",
    "from IPython.display import Markdown as md"
   ]
  },
  {
   "cell_type": "code",
   "execution_count": 2,
   "id": "shared-acceptance",
   "metadata": {
    "execution": {
     "iopub.execute_input": "2021-07-21T02:03:02.339615Z",
     "iopub.status.busy": "2021-07-21T02:03:02.338594Z",
     "iopub.status.idle": "2021-07-21T02:03:10.110943Z",
     "shell.execute_reply": "2021-07-21T02:03:10.110426Z"
    },
    "papermill": {
     "duration": 7.789816,
     "end_time": "2021-07-21T02:03:10.111079",
     "exception": false,
     "start_time": "2021-07-21T02:03:02.321263",
     "status": "completed"
    },
    "tags": []
   },
   "outputs": [],
   "source": [
    "#hide_input\n",
    "blockchain = read_news('blockchain') \n",
    "btc = read_news('btc') \n",
    "xrp = read_news('xrp') \n",
    "trx = read_news('trx') \n",
    "eth = read_news('eth')  \n",
    "ada = read_news('ada')\n",
    "exchange = read_news('exchange') "
   ]
  },
  {
   "cell_type": "code",
   "execution_count": 3,
   "id": "synthetic-notion",
   "metadata": {
    "execution": {
     "iopub.execute_input": "2021-07-21T02:03:10.140472Z",
     "iopub.status.busy": "2021-07-21T02:03:10.139784Z",
     "iopub.status.idle": "2021-07-21T02:03:10.142132Z",
     "shell.execute_reply": "2021-07-21T02:03:10.142687Z"
    },
    "papermill": {
     "duration": 0.020801,
     "end_time": "2021-07-21T02:03:10.142833",
     "exception": false,
     "start_time": "2021-07-21T02:03:10.122032",
     "status": "completed"
    },
    "tags": []
   },
   "outputs": [
    {
     "data": {
      "text/markdown": [
       "- South Korea’s central bank chooses Kakao’s Ground X for digital currency project.  South Korean tech giant Kakao Corp.&#8217;s blockchain arm Ground X is in the news today after it was chosen for running experiments for Bank of Korea&#8217;s digital currency. The central bank of South Korea was looking for businesses interested in a 10-month partnership deal. The bank was also looking for technological support to develop its [&#8230;] ... [| Skaityti daugiau](https://ambcrypto.com/south-koreas-central-bank-chooses-kakaos-ground-x-for-digital-currency-project/) "
      ],
      "text/plain": [
       "<IPython.core.display.Markdown object>"
      ]
     },
     "execution_count": 3,
     "metadata": {},
     "output_type": "execute_result"
    }
   ],
   "source": [
    "#hide_input\n",
    "#md('##### {}'.format(titleBTC)) \n",
    "md(\"- {}{} {}{} [| Skaityti daugiau]({}) \".format(blockchain['title'],'. ', blockchain['body'], ' ...', blockchain['url']))"
   ]
  },
  {
   "cell_type": "code",
   "execution_count": 4,
   "id": "aging-caution",
   "metadata": {
    "execution": {
     "iopub.execute_input": "2021-07-21T02:03:10.170120Z",
     "iopub.status.busy": "2021-07-21T02:03:10.169515Z",
     "iopub.status.idle": "2021-07-21T02:03:10.171929Z",
     "shell.execute_reply": "2021-07-21T02:03:10.172421Z"
    },
    "papermill": {
     "duration": 0.018744,
     "end_time": "2021-07-21T02:03:10.172565",
     "exception": false,
     "start_time": "2021-07-21T02:03:10.153821",
     "status": "completed"
    },
    "tags": []
   },
   "outputs": [
    {
     "data": {
      "text/markdown": [
       "- Cathie Wood’s Ark Invest Buys Additional 300K Shares of the Grayscale Bitcoin Trust (GBTC).  While Bitcoin (BTC) continues to trade under pressure, institutions are back at buying the dips once again. On Monday, July 19, Cathie Wood&#8217;s Ark Investment purchased an additional 300K of the Grayscale Bitcoin Trust (GBTC). As reported by The Street citing the subscription to Ark&#8217;s trading activity, the investment firm purchased 310,067 shares of GBTC at the The post Cathie Wood&#8217;s Ark Invest Buys Additional 300K Shares of the Grayscale Bitcoin Trust (GBTC) appeared first on Coingape. ... [| Skaityti daugiau](https://coingape.com/cathie-woods-ark-invest-buys-additional-300k-shares-of-the-grayscale-bitcoin-trust-gbtc/) "
      ],
      "text/plain": [
       "<IPython.core.display.Markdown object>"
      ]
     },
     "execution_count": 4,
     "metadata": {},
     "output_type": "execute_result"
    }
   ],
   "source": [
    "#hide_input\n",
    "#md('##### {}'.format(titleBTC)) \n",
    "md(\"- {}{} {}{} [| Skaityti daugiau]({}) \".format(btc['title'],'. ', btc['body'], ' ...', btc['url']))"
   ]
  },
  {
   "cell_type": "code",
   "execution_count": 5,
   "id": "organic-actress",
   "metadata": {
    "execution": {
     "iopub.execute_input": "2021-07-21T02:03:10.200110Z",
     "iopub.status.busy": "2021-07-21T02:03:10.199516Z",
     "iopub.status.idle": "2021-07-21T02:03:10.203050Z",
     "shell.execute_reply": "2021-07-21T02:03:10.202585Z"
    },
    "papermill": {
     "duration": 0.019624,
     "end_time": "2021-07-21T02:03:10.203174",
     "exception": false,
     "start_time": "2021-07-21T02:03:10.183550",
     "status": "completed"
    },
    "tags": []
   },
   "outputs": [
    {
     "data": {
      "text/markdown": [
       "- XRP remains exposed to a 15% decline if this happens.  Disclaimer: The findings of the following analysis are the sole opinions of the writer and should not be taken as investment advice The first half of 2021 has been quite eventful for the global cryptocurrency market. The new year kicked off with a rising Bitcoin that eventually snapped an ATH of above $60,000 in mid-May. Naturally, [&#8230;] ... [| Skaityti daugiau](https://ambcrypto.com/xrp-remains-exposed-to-a-15-loss-if-this-happens/) "
      ],
      "text/plain": [
       "<IPython.core.display.Markdown object>"
      ]
     },
     "execution_count": 5,
     "metadata": {},
     "output_type": "execute_result"
    }
   ],
   "source": [
    "#hide_input\n",
    "#md('##### {}'.format(titleBTC)) \n",
    "md(\"- {}{} {}{} [| Skaityti daugiau]({}) \".format(xrp['title'],'. ', xrp['body'], ' ...', xrp['url']))"
   ]
  },
  {
   "cell_type": "code",
   "execution_count": 6,
   "id": "prompt-farmer",
   "metadata": {
    "execution": {
     "iopub.execute_input": "2021-07-21T02:03:10.231985Z",
     "iopub.status.busy": "2021-07-21T02:03:10.231344Z",
     "iopub.status.idle": "2021-07-21T02:03:10.235185Z",
     "shell.execute_reply": "2021-07-21T02:03:10.234712Z"
    },
    "papermill": {
     "duration": 0.020649,
     "end_time": "2021-07-21T02:03:10.235335",
     "exception": false,
     "start_time": "2021-07-21T02:03:10.214686",
     "status": "completed"
    },
    "tags": []
   },
   "outputs": [
    {
     "data": {
      "text/markdown": [
       "- TRON, Litecoin, EOS – What sentiment scores don’t tell you.  When it comes to understanding the altcoin movement in an extremely bullish/bearish market, anyone&#8217;s guess is as good as it gets because it is extremely difficult to gauge the length of recovery/corrections. While the collective market is presently falling, a few altcoins have been seeing high sentiment scores of late. In fact, according to a [&#8230;] ... [| Skaityti daugiau](https://ambcrypto.com/tron-litecoin-eos-what-sentiment-scores-dont-tell-you/) "
      ],
      "text/plain": [
       "<IPython.core.display.Markdown object>"
      ]
     },
     "execution_count": 6,
     "metadata": {},
     "output_type": "execute_result"
    }
   ],
   "source": [
    "#hide_input\n",
    "#md('##### {}'.format(titleBTC)) \n",
    "md(\"- {}{} {}{} [| Skaityti daugiau]({}) \".format(trx['title'],'. ', trx['body'], ' ...', trx['url']))"
   ]
  },
  {
   "cell_type": "code",
   "execution_count": 7,
   "id": "illegal-greece",
   "metadata": {
    "execution": {
     "iopub.execute_input": "2021-07-21T02:03:10.266252Z",
     "iopub.status.busy": "2021-07-21T02:03:10.265642Z",
     "iopub.status.idle": "2021-07-21T02:03:10.268095Z",
     "shell.execute_reply": "2021-07-21T02:03:10.268657Z"
    },
    "papermill": {
     "duration": 0.020788,
     "end_time": "2021-07-21T02:03:10.268803",
     "exception": false,
     "start_time": "2021-07-21T02:03:10.248015",
     "status": "completed"
    },
    "tags": []
   },
   "outputs": [
    {
     "data": {
      "text/markdown": [
       "- As Ethereum Price Suffers, Investors Wonder If ETH Can Become Deflationary.  Ethereum has not been left out of the onslaught currently happening in the market. The coin has lost over 2.4% in the last 24 hours and is now trading in the $1,700 territory as of the time of writing this article. The digital asset continues to dip as the crypto market continues to experience massive losses. Ethereum has now lost over 50% from its all-time high in April when the coin had shot past $4,000. Holders continue to remain bullish on the coin as upgrades promise new and exciting things in the future of the digital asset. The coin continues to experience growing anticipation in wait for the move to ETH 2.0. Related Reading &#124;&#160;Ethereum 2.0 Contract Reaches 100,000 ETH Milestone But now a whole other question has arisen in regards to Ethereum, and that is if the digital asset will ever become deflationary. Unlimited ETH Supply Given the structure of Ethereum, it is not a stretch to say that the digital asset does not possess any hard cap. The network is structured that for every new block created, two ETH coins are produced. Then this means that as long as people continue to use the network, then more ETH coins will continue to be created. An unlimited supply of any currency or asset puts that asset or currency at risk for inflation. Thus, Ethereum&#8217;s model remains an inflationary one due to there being no cap on the overall supply of ETH. Related Reading &#124;&#160;Ethereum Whales Go On Buying Spree, Top... ... [| Skaityti daugiau](https://www.newsbtc.com/all/can-ethereum-become-deflationary/) "
      ],
      "text/plain": [
       "<IPython.core.display.Markdown object>"
      ]
     },
     "execution_count": 7,
     "metadata": {},
     "output_type": "execute_result"
    }
   ],
   "source": [
    "#hide_input\n",
    "#md('##### {}'.format(titleBTC)) \n",
    "md(\"- {}{} {}{} [| Skaityti daugiau]({}) \".format(eth['title'],'. ', eth['body'], ' ...', eth['url']))"
   ]
  },
  {
   "cell_type": "code",
   "execution_count": 8,
   "id": "sublime-lounge",
   "metadata": {
    "execution": {
     "iopub.execute_input": "2021-07-21T02:03:10.302276Z",
     "iopub.status.busy": "2021-07-21T02:03:10.301684Z",
     "iopub.status.idle": "2021-07-21T02:03:10.305747Z",
     "shell.execute_reply": "2021-07-21T02:03:10.305249Z"
    },
    "papermill": {
     "duration": 0.024664,
     "end_time": "2021-07-21T02:03:10.305871",
     "exception": false,
     "start_time": "2021-07-21T02:03:10.281207",
     "status": "completed"
    },
    "tags": []
   },
   "outputs": [
    {
     "data": {
      "text/markdown": [
       "- After 3 Months In The Red, Why Bitcoin Is The Crypto Market’s Best Performer.  Bitcoin broke below its support zones and trades around its yearly open after another massive selloff. At the time of writing, the first cryptocurrency by market cap trades at $29,605 with an 11.2% loss in the weekly chart. The crypto market has followed Bitcoin, except for a handful of coins, and the top ten sit on more pronounced losses. For three consecutive months, BTC and major cryptocurrencies have been in the red. May and June saw two capitulation events that pushed BTC&#8217;s price below its current levels. Hence why so many investors and traders expect further downside to consolidating a third and possibly final capitulation. The weeks leading to the most recent crash saw Ethereum (ETH) outperforming Bitcoin (BTC). The second cryptocurrency by market cap rose from around $1,600 to $2,390 before retracing to current levels. However, a recent report by Arcane Research concluded that BTC remains the best performer in the crypto market. In consequence, the BTC Dominance has increased as altcoins are pushed further down their support levels. As seen below, the Bitcoin Dominance stood at 46.92% by the time the report was published with ETH following with a 16.96%. USDT (5.12%), BNB (3.72%), ADA (2.86%) taking on XRP (2.05%) and DOGE (1.82%) positions. The chart shows that Bitcoin retraces around 11.2% since the beginning of July 2021. Cryptocurrencies with large market caps saw the less severe drops with only 18.5% closely... ... [| Skaityti daugiau](https://www.newsbtc.com/news/bitcoin/why-bitcoin-markets-best-performer/) "
      ],
      "text/plain": [
       "<IPython.core.display.Markdown object>"
      ]
     },
     "execution_count": 8,
     "metadata": {},
     "output_type": "execute_result"
    }
   ],
   "source": [
    "#hide_input\n",
    "#md('##### {}'.format(titleBTC)) \n",
    "md(\"- {}{} {}{} [| Skaityti daugiau]({}) \".format(ada['title'],'. ', ada['body'], ' ...', ada['url']))"
   ]
  },
  {
   "cell_type": "code",
   "execution_count": 9,
   "id": "specified-ordering",
   "metadata": {
    "execution": {
     "iopub.execute_input": "2021-07-21T02:03:10.342841Z",
     "iopub.status.busy": "2021-07-21T02:03:10.338910Z",
     "iopub.status.idle": "2021-07-21T02:03:10.348761Z",
     "shell.execute_reply": "2021-07-21T02:03:10.348253Z"
    },
    "papermill": {
     "duration": 0.030009,
     "end_time": "2021-07-21T02:03:10.348887",
     "exception": false,
     "start_time": "2021-07-21T02:03:10.318878",
     "status": "completed"
    },
    "tags": []
   },
   "outputs": [
    {
     "data": {
      "text/markdown": [
       "- SEC lays the smackdown on alleged $12 million crypto scam ‘Profit Connect’.  The U.S Securities and Exchange Commission (SEC) takes action against alleged crypto fraud perpetrated by Profit Connect Wealth Services Inc Through an emergency action filing, the U.S securities regulator obtained a temporary restraining order and froze the company&#8217;s assets in a bid to stop Profit Connect from operating. The post SEC lays the smackdown on alleged $12 million crypto scam &#8216;Profit Connect&#8217; appeared first on CryptoSlate. ... [| Skaityti daugiau](https://cryptoslate.com/sec-lays-the-smackdown-on-alleged-12-million-crypto-scam-profit-connect/) "
      ],
      "text/plain": [
       "<IPython.core.display.Markdown object>"
      ]
     },
     "execution_count": 9,
     "metadata": {},
     "output_type": "execute_result"
    }
   ],
   "source": [
    "#hide_input\n",
    "#md('##### {}'.format(titleBTC)) \n",
    "md(\"- {}{} {}{} [| Skaityti daugiau]({}) \".format(exchange['title'],'. ', exchange['body'], ' ...', exchange['url']))"
   ]
  },
  {
   "cell_type": "code",
   "execution_count": null,
   "id": "tender-livestock",
   "metadata": {
    "papermill": {
     "duration": 0.013476,
     "end_time": "2021-07-21T02:03:10.376095",
     "exception": false,
     "start_time": "2021-07-21T02:03:10.362619",
     "status": "completed"
    },
    "tags": []
   },
   "outputs": [],
   "source": []
  },
  {
   "cell_type": "code",
   "execution_count": null,
   "id": "appreciated-diamond",
   "metadata": {
    "papermill": {
     "duration": 0.013311,
     "end_time": "2021-07-21T02:03:10.402657",
     "exception": false,
     "start_time": "2021-07-21T02:03:10.389346",
     "status": "completed"
    },
    "tags": []
   },
   "outputs": [],
   "source": []
  },
  {
   "cell_type": "code",
   "execution_count": null,
   "id": "romance-sweden",
   "metadata": {
    "papermill": {
     "duration": 0.013407,
     "end_time": "2021-07-21T02:03:10.429831",
     "exception": false,
     "start_time": "2021-07-21T02:03:10.416424",
     "status": "completed"
    },
    "tags": []
   },
   "outputs": [],
   "source": []
  },
  {
   "cell_type": "code",
   "execution_count": null,
   "id": "dietary-statistics",
   "metadata": {
    "papermill": {
     "duration": 0.014766,
     "end_time": "2021-07-21T02:03:10.457992",
     "exception": false,
     "start_time": "2021-07-21T02:03:10.443226",
     "status": "completed"
    },
    "tags": []
   },
   "outputs": [],
   "source": []
  }
 ],
 "metadata": {
  "kernelspec": {
   "display_name": "Python 3",
   "language": "python",
   "name": "python3"
  },
  "language_info": {
   "codemirror_mode": {
    "name": "ipython",
    "version": 3
   },
   "file_extension": ".py",
   "mimetype": "text/x-python",
   "name": "python",
   "nbconvert_exporter": "python",
   "pygments_lexer": "ipython3",
   "version": "3.6.14"
  },
  "papermill": {
   "default_parameters": {},
   "duration": 11.230431,
   "end_time": "2021-07-21T02:03:10.987589",
   "environment_variables": {},
   "exception": null,
   "input_path": "Market-News.ipynb",
   "output_path": "Market-News.ipynb",
   "parameters": {},
   "start_time": "2021-07-21T02:02:59.757158",
   "version": "2.2.2"
  }
 },
 "nbformat": 4,
 "nbformat_minor": 5
}