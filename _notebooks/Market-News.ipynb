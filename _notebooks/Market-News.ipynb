{
 "cells": [
  {
   "cell_type": "markdown",
   "id": "short-greensboro",
   "metadata": {
    "papermill": {
     "duration": 0.015551,
     "end_time": "2021-09-17T02:06:32.384010",
     "exception": false,
     "start_time": "2021-09-17T02:06:32.368459",
     "status": "completed"
    },
    "tags": []
   },
   "source": [
    "# Kriptovaliutų naujienos"
   ]
  },
  {
   "cell_type": "code",
   "execution_count": 1,
   "id": "functioning-knowing",
   "metadata": {
    "execution": {
     "iopub.execute_input": "2021-09-17T02:06:32.419469Z",
     "iopub.status.busy": "2021-09-17T02:06:32.418768Z",
     "iopub.status.idle": "2021-09-17T02:06:33.783773Z",
     "shell.execute_reply": "2021-09-17T02:06:33.784301Z"
    },
    "papermill": {
     "duration": 1.388105,
     "end_time": "2021-09-17T02:06:33.784492",
     "exception": false,
     "start_time": "2021-09-17T02:06:32.396387",
     "status": "completed"
    },
    "tags": []
   },
   "outputs": [],
   "source": [
    "#hide_input\n",
    "import warnings\n",
    "warnings.filterwarnings('ignore')\n",
    "from scripts.read_data import read_api\n",
    "from scripts.read_data import read_news\n",
    "from scripts.read_data import read_covid\n",
    "import matplotlib.pyplot as plt \n",
    "from IPython.display import Markdown as md"
   ]
  },
  {
   "cell_type": "code",
   "execution_count": 2,
   "id": "shared-acceptance",
   "metadata": {
    "execution": {
     "iopub.execute_input": "2021-09-17T02:06:33.813714Z",
     "iopub.status.busy": "2021-09-17T02:06:33.812685Z",
     "iopub.status.idle": "2021-09-17T02:06:42.913900Z",
     "shell.execute_reply": "2021-09-17T02:06:42.912882Z"
    },
    "papermill": {
     "duration": 9.118182,
     "end_time": "2021-09-17T02:06:42.914067",
     "exception": false,
     "start_time": "2021-09-17T02:06:33.795885",
     "status": "completed"
    },
    "tags": []
   },
   "outputs": [],
   "source": [
    "#hide_input\n",
    "blockchain = read_news('blockchain') \n",
    "btc = read_news('btc') \n",
    "xrp = read_news('xrp') \n",
    "trx = read_news('trx') \n",
    "eth = read_news('eth')  \n",
    "ada = read_news('ada')\n",
    "exchange = read_news('exchange') "
   ]
  },
  {
   "cell_type": "code",
   "execution_count": 3,
   "id": "synthetic-notion",
   "metadata": {
    "execution": {
     "iopub.execute_input": "2021-09-17T02:06:42.944263Z",
     "iopub.status.busy": "2021-09-17T02:06:42.943501Z",
     "iopub.status.idle": "2021-09-17T02:06:42.947001Z",
     "shell.execute_reply": "2021-09-17T02:06:42.946467Z"
    },
    "papermill": {
     "duration": 0.021405,
     "end_time": "2021-09-17T02:06:42.947115",
     "exception": false,
     "start_time": "2021-09-17T02:06:42.925710",
     "status": "completed"
    },
    "tags": []
   },
   "outputs": [
    {
     "data": {
      "text/markdown": [
       "- Avalanche raises $230M following sale of >1500% returning AVAX.  This season of the crypto-market has highlighted altcoins and altcoin projects that have been striving to bridge the gaps existing in the industry. Avalanche is one such project, with the same in the news today after it raised $230 million from the sale of its cryptocurrency, AVAX. According to the foundation behind the blockchain, Avalanche [&#8230;] ... [| Skaityti daugiau](https://ambcrypto.com/avalanche-raises-230m-following-sale-of-1500-returning-avax/) "
      ],
      "text/plain": [
       "<IPython.core.display.Markdown object>"
      ]
     },
     "execution_count": 3,
     "metadata": {},
     "output_type": "execute_result"
    }
   ],
   "source": [
    "#hide_input\n",
    "#md('##### {}'.format(titleBTC)) \n",
    "md(\"- {}{} {}{} [| Skaityti daugiau]({}) \".format(blockchain['title'],'. ', blockchain['body'], ' ...', blockchain['url']))"
   ]
  },
  {
   "cell_type": "code",
   "execution_count": 4,
   "id": "aging-caution",
   "metadata": {
    "execution": {
     "iopub.execute_input": "2021-09-17T02:06:42.976443Z",
     "iopub.status.busy": "2021-09-17T02:06:42.975749Z",
     "iopub.status.idle": "2021-09-17T02:06:42.978911Z",
     "shell.execute_reply": "2021-09-17T02:06:42.979447Z"
    },
    "papermill": {
     "duration": 0.020789,
     "end_time": "2021-09-17T02:06:42.979596",
     "exception": false,
     "start_time": "2021-09-17T02:06:42.958807",
     "status": "completed"
    },
    "tags": []
   },
   "outputs": [
    {
     "data": {
      "text/markdown": [
       "- Supply Dynamics Indicate Upcoming Bitcoin Price Rise.  HODL waves data show that bitcoin demand is outpacing supply, indicating an upcoming BTC price rise. ... [| Skaityti daugiau](https://bitcoinmagazine.com/markets/supply-dynamics-show-rising-bitcoin-price) "
      ],
      "text/plain": [
       "<IPython.core.display.Markdown object>"
      ]
     },
     "execution_count": 4,
     "metadata": {},
     "output_type": "execute_result"
    }
   ],
   "source": [
    "#hide_input\n",
    "#md('##### {}'.format(titleBTC)) \n",
    "md(\"- {}{} {}{} [| Skaityti daugiau]({}) \".format(btc['title'],'. ', btc['body'], ' ...', btc['url']))"
   ]
  },
  {
   "cell_type": "code",
   "execution_count": 5,
   "id": "organic-actress",
   "metadata": {
    "execution": {
     "iopub.execute_input": "2021-09-17T02:06:43.008897Z",
     "iopub.status.busy": "2021-09-17T02:06:43.008223Z",
     "iopub.status.idle": "2021-09-17T02:06:43.011525Z",
     "shell.execute_reply": "2021-09-17T02:06:43.010873Z"
    },
    "papermill": {
     "duration": 0.020007,
     "end_time": "2021-09-17T02:06:43.011644",
     "exception": false,
     "start_time": "2021-09-17T02:06:42.991637",
     "status": "completed"
    },
    "tags": []
   },
   "outputs": [
    {
     "data": {
      "text/markdown": [
       "- RippleNet onboards UK-based Paydek to expand in Africa, Latin America.  Although Ripple is fighting regulators in the United States, its reach around the world has continued to grow. The blockchain firm is in the news today after RippleNet onboarded United Kingdom-based payments company Paydek. This was first announced by Ripple&#8217;s Head of European Development, Sendi Young. This deal will help the payment company bring real-time [&#8230;] ... [| Skaityti daugiau](https://ambcrypto.com/ripplenet-onboards-uk-based-paydek-to-expand-in-africa-latin-america/) "
      ],
      "text/plain": [
       "<IPython.core.display.Markdown object>"
      ]
     },
     "execution_count": 5,
     "metadata": {},
     "output_type": "execute_result"
    }
   ],
   "source": [
    "#hide_input\n",
    "#md('##### {}'.format(titleBTC)) \n",
    "md(\"- {}{} {}{} [| Skaityti daugiau]({}) \".format(xrp['title'],'. ', xrp['body'], ' ...', xrp['url']))"
   ]
  },
  {
   "cell_type": "code",
   "execution_count": 6,
   "id": "prompt-farmer",
   "metadata": {
    "execution": {
     "iopub.execute_input": "2021-09-17T02:06:43.041731Z",
     "iopub.status.busy": "2021-09-17T02:06:43.041066Z",
     "iopub.status.idle": "2021-09-17T02:06:43.044947Z",
     "shell.execute_reply": "2021-09-17T02:06:43.044362Z"
    },
    "papermill": {
     "duration": 0.0206,
     "end_time": "2021-09-17T02:06:43.045063",
     "exception": false,
     "start_time": "2021-09-17T02:06:43.024463",
     "status": "completed"
    },
    "tags": []
   },
   "outputs": [
    {
     "data": {
      "text/markdown": [
       "- TRON price analysis: Tron under pressure as TRX/USD descends to $0.12.   TL;DR Breakdown TRON price analysis shows the cryptocurrency is undergoing bearish stress.Price has lowered up to $0.12 today.Support level is fixed at $0.1 currently. The TRON price analysis is going bearish as the trends have undergone an unexpected reversal. The successive bullish streak has been broken today because of the bearish pressure, and the price has undergone a reduction up to $0.118. This downtrend has been quite surprising for the experts as the market was expecting the price to bounce above $0.121 resistance. Yet, the bears have taken their position on today&#8217;s price chart as per the analysis.  TRX/USD 1-day price chart: Green candlestick elongates enough to pierce through $0.11 The 24-hours TRX price chart for TRON price analysis is showing that a bullish activity is taking place today as the price has increased up to $0.12. Although in the past few days, the bears have tried to exert pressure as well which has been successfully overpowered by the bulls. The bullish momentum has been quite high today, as the Moving Average (MA) value is present way below the current price value i.e. at $0.099. The short-term trending line is also going in the upwards direction, thus confirming the bullish trend. TRX/USD 1-day price chart. Source: TradingView The bulls have been reigning the entire day, which is why the Bollinger bands average is at 0.096. The upper band is showing the value of $0.114 whereas the lower ba... ... [| Skaityti daugiau](https://api.follow.it/track-rss-story-click/v3/tHfgumto13Ape6xjcp_xAhtLdxSOwF-n) "
      ],
      "text/plain": [
       "<IPython.core.display.Markdown object>"
      ]
     },
     "execution_count": 6,
     "metadata": {},
     "output_type": "execute_result"
    }
   ],
   "source": [
    "#hide_input\n",
    "#md('##### {}'.format(titleBTC)) \n",
    "md(\"- {}{} {}{} [| Skaityti daugiau]({}) \".format(trx['title'],'. ', trx['body'], ' ...', trx['url']))"
   ]
  },
  {
   "cell_type": "code",
   "execution_count": 7,
   "id": "illegal-greece",
   "metadata": {
    "execution": {
     "iopub.execute_input": "2021-09-17T02:06:43.078615Z",
     "iopub.status.busy": "2021-09-17T02:06:43.077913Z",
     "iopub.status.idle": "2021-09-17T02:06:43.080647Z",
     "shell.execute_reply": "2021-09-17T02:06:43.081325Z"
    },
    "papermill": {
     "duration": 0.023034,
     "end_time": "2021-09-17T02:06:43.081462",
     "exception": false,
     "start_time": "2021-09-17T02:06:43.058428",
     "status": "completed"
    },
    "tags": []
   },
   "outputs": [
    {
     "data": {
      "text/markdown": [
       "- Avalanche raises $230M following sale of >1500% returning AVAX.  This season of the crypto-market has highlighted altcoins and altcoin projects that have been striving to bridge the gaps existing in the industry. Avalanche is one such project, with the same in the news today after it raised $230 million from the sale of its cryptocurrency, AVAX. According to the foundation behind the blockchain, Avalanche [&#8230;] ... [| Skaityti daugiau](https://ambcrypto.com/avalanche-raises-230m-following-sale-of-1500-returning-avax/) "
      ],
      "text/plain": [
       "<IPython.core.display.Markdown object>"
      ]
     },
     "execution_count": 7,
     "metadata": {},
     "output_type": "execute_result"
    }
   ],
   "source": [
    "#hide_input\n",
    "#md('##### {}'.format(titleBTC)) \n",
    "md(\"- {}{} {}{} [| Skaityti daugiau]({}) \".format(eth['title'],'. ', eth['body'], ' ...', eth['url']))"
   ]
  },
  {
   "cell_type": "code",
   "execution_count": 8,
   "id": "sublime-lounge",
   "metadata": {
    "execution": {
     "iopub.execute_input": "2021-09-17T02:06:43.114195Z",
     "iopub.status.busy": "2021-09-17T02:06:43.113532Z",
     "iopub.status.idle": "2021-09-17T02:06:43.116181Z",
     "shell.execute_reply": "2021-09-17T02:06:43.116738Z"
    },
    "papermill": {
     "duration": 0.021157,
     "end_time": "2021-09-17T02:06:43.116856",
     "exception": false,
     "start_time": "2021-09-17T02:06:43.095699",
     "status": "completed"
    },
    "tags": []
   },
   "outputs": [
    {
     "data": {
      "text/markdown": [
       "- Cardano Sees Over 40,000 Smart Contracts Deployed 4 Days After Alonzo HFC, How This Affects The Price.  Smart contracts have become a reality on the Cardano network after September 12th. After the Alonzo Hard Fork Combinator launch, developers could now go ahead and start creating smart contracts on the ecosystem. This would aid in developers creating decentralized applications (DApps) to provide decentralized finance (DeFi) services to the users of the blockchain. With the number of smart contracts that have been created on the network, it is no doubt that we are about to witness an influx of new decentralized apps on the network. The project has said that they are supporting developers in bringing their projects to life on the platform. By making the Cardano ecosystem as safe and developer-friendly as it possibly could. The developers, in turn, have shown their confidence in the network with the number of smart contracts already live on the ecosystem. Related Reading &#124; Cardano Founder Charles Hoskinson Says He Wants To Eliminate The Need For CEOs And Presidents Cardano Sees Over 40K Smart Contracts In Four Days The first day after the launch was completed saw over 100 smart contracts created in the first 24 hours. This number in itself was impressive. But the subsequent days have shown an even accelerated timeline for the creation of these smart contracts. Thursday 16th September marks the fourth day after the Alonzo HFC and the current count for the smart contracts on the network now sits at almost 41K. While most of the... ... [| Skaityti daugiau](https://www.newsbtc.com/news/cardano/cardano-over-40000-smart-contracts-deployed/) "
      ],
      "text/plain": [
       "<IPython.core.display.Markdown object>"
      ]
     },
     "execution_count": 8,
     "metadata": {},
     "output_type": "execute_result"
    }
   ],
   "source": [
    "#hide_input\n",
    "#md('##### {}'.format(titleBTC)) \n",
    "md(\"- {}{} {}{} [| Skaityti daugiau]({}) \".format(ada['title'],'. ', ada['body'], ' ...', ada['url']))"
   ]
  },
  {
   "cell_type": "code",
   "execution_count": 9,
   "id": "specified-ordering",
   "metadata": {
    "execution": {
     "iopub.execute_input": "2021-09-17T02:06:43.147309Z",
     "iopub.status.busy": "2021-09-17T02:06:43.146737Z",
     "iopub.status.idle": "2021-09-17T02:06:43.149933Z",
     "shell.execute_reply": "2021-09-17T02:06:43.149449Z"
    },
    "papermill": {
     "duration": 0.021154,
     "end_time": "2021-09-17T02:06:43.150038",
     "exception": false,
     "start_time": "2021-09-17T02:06:43.128884",
     "status": "completed"
    },
    "tags": []
   },
   "outputs": [
    {
     "data": {
      "text/markdown": [
       "- Coinbase Is Set To Increase Corporate Bonds Amid Rising Demand.  In a recent development, Coinbase issued a junk bond, and the market seemed to be hungry for the instrument. Currently, the US crypto exchange is recording more demands for these bonds every day. With these demands, the crypto exchange&#8217;s sales have grown from $1.5B to $2B. Bonds are fixed investments that yield interest monthly. But when we talk of junk bonds, investors make higher returns but face higher risks as well. Companies usually issue junk bonds to raise capital very fast for a major project. Corporate Bond Orders Keep Rising The orders have continued to troop in for the Coinbase junk bond. One of our sources reveals that the orders amounting to $7 billion are competing for 7 and ten-year bonds, with interests of 3.375% &#38; 3.625% each. From our sources, we also learned that some claims have risen that the interest rates were lower than what Coinbase offered in the first quotes. Related Reading &#124; New To Bitcoin? Learn To Trade Crypto With The NewsBTC Trading Course This increasing demand proves that the exchange didn&#8217;t know the extent to which the public regarded its creditworthiness. If they offered higher rates in the quotes, it meant that Coinbase was unsure that many people would invest in the bonds. So, the high demand showed them their worth, and the company reduced the rates. Moreover, an analyst with Bloomberg stated that this high demand shows that debt investors have endorsed the exchange ... ... [| Skaityti daugiau](https://www.newsbtc.com/news/coinbase-is-set-to-increase-corporate-bonds-amid-rising-demand/) "
      ],
      "text/plain": [
       "<IPython.core.display.Markdown object>"
      ]
     },
     "execution_count": 9,
     "metadata": {},
     "output_type": "execute_result"
    }
   ],
   "source": [
    "#hide_input\n",
    "#md('##### {}'.format(titleBTC)) \n",
    "md(\"- {}{} {}{} [| Skaityti daugiau]({}) \".format(exchange['title'],'. ', exchange['body'], ' ...', exchange['url']))"
   ]
  },
  {
   "cell_type": "code",
   "execution_count": null,
   "id": "tender-livestock",
   "metadata": {
    "papermill": {
     "duration": 0.014028,
     "end_time": "2021-09-17T02:06:43.177152",
     "exception": false,
     "start_time": "2021-09-17T02:06:43.163124",
     "status": "completed"
    },
    "tags": []
   },
   "outputs": [],
   "source": []
  },
  {
   "cell_type": "code",
   "execution_count": null,
   "id": "appreciated-diamond",
   "metadata": {
    "papermill": {
     "duration": 0.012563,
     "end_time": "2021-09-17T02:06:43.202692",
     "exception": false,
     "start_time": "2021-09-17T02:06:43.190129",
     "status": "completed"
    },
    "tags": []
   },
   "outputs": [],
   "source": []
  },
  {
   "cell_type": "code",
   "execution_count": null,
   "id": "romance-sweden",
   "metadata": {
    "papermill": {
     "duration": 0.013178,
     "end_time": "2021-09-17T02:06:43.228520",
     "exception": false,
     "start_time": "2021-09-17T02:06:43.215342",
     "status": "completed"
    },
    "tags": []
   },
   "outputs": [],
   "source": []
  },
  {
   "cell_type": "code",
   "execution_count": null,
   "id": "dietary-statistics",
   "metadata": {
    "papermill": {
     "duration": 0.012502,
     "end_time": "2021-09-17T02:06:43.254048",
     "exception": false,
     "start_time": "2021-09-17T02:06:43.241546",
     "status": "completed"
    },
    "tags": []
   },
   "outputs": [],
   "source": []
  }
 ],
 "metadata": {
  "kernelspec": {
   "display_name": "Python 3",
   "language": "python",
   "name": "python3"
  },
  "language_info": {
   "codemirror_mode": {
    "name": "ipython",
    "version": 3
   },
   "file_extension": ".py",
   "mimetype": "text/x-python",
   "name": "python",
   "nbconvert_exporter": "python",
   "pygments_lexer": "ipython3",
   "version": "3.6.15"
  },
  "papermill": {
   "default_parameters": {},
   "duration": 12.404001,
   "end_time": "2021-09-17T02:06:43.674659",
   "environment_variables": {},
   "exception": null,
   "input_path": "Market-News.ipynb",
   "output_path": "Market-News.ipynb",
   "parameters": {},
   "start_time": "2021-09-17T02:06:31.270658",
   "version": "2.2.2"
  }
 },
 "nbformat": 4,
 "nbformat_minor": 5
}