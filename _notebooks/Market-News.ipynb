{
 "cells": [
  {
   "cell_type": "markdown",
   "id": "short-greensboro",
   "metadata": {
    "papermill": {
     "duration": 0.012419,
     "end_time": "2022-08-13T02:59:18.024908",
     "exception": false,
     "start_time": "2022-08-13T02:59:18.012489",
     "status": "completed"
    },
    "tags": []
   },
   "source": [
    "# Kriptovaliutų naujienos"
   ]
  },
  {
   "cell_type": "code",
   "execution_count": 1,
   "id": "functioning-knowing",
   "metadata": {
    "execution": {
     "iopub.execute_input": "2022-08-13T02:59:18.053442Z",
     "iopub.status.busy": "2022-08-13T02:59:18.052853Z",
     "iopub.status.idle": "2022-08-13T02:59:19.190573Z",
     "shell.execute_reply": "2022-08-13T02:59:19.190067Z"
    },
    "papermill": {
     "duration": 1.156037,
     "end_time": "2022-08-13T02:59:19.190697",
     "exception": false,
     "start_time": "2022-08-13T02:59:18.034660",
     "status": "completed"
    },
    "tags": []
   },
   "outputs": [],
   "source": [
    "#hide_input\n",
    "import warnings\n",
    "warnings.filterwarnings('ignore')\n",
    "from scripts.read_data import read_api\n",
    "from scripts.read_data import read_news\n",
    "from scripts.read_data import read_covid\n",
    "import matplotlib.pyplot as plt \n",
    "from IPython.display import Markdown as md"
   ]
  },
  {
   "cell_type": "code",
   "execution_count": 2,
   "id": "shared-acceptance",
   "metadata": {
    "execution": {
     "iopub.execute_input": "2022-08-13T02:59:19.215840Z",
     "iopub.status.busy": "2022-08-13T02:59:19.215287Z",
     "iopub.status.idle": "2022-08-13T02:59:29.246294Z",
     "shell.execute_reply": "2022-08-13T02:59:29.245477Z"
    },
    "papermill": {
     "duration": 10.045695,
     "end_time": "2022-08-13T02:59:29.246415",
     "exception": false,
     "start_time": "2022-08-13T02:59:19.200720",
     "status": "completed"
    },
    "tags": []
   },
   "outputs": [],
   "source": [
    "#hide_input\n",
    "blockchain = read_news('blockchain') \n",
    "btc = read_news('btc') \n",
    "xrp = read_news('xrp') \n",
    "trx = read_news('trx') \n",
    "eth = read_news('eth')  \n",
    "ada = read_news('ada')\n",
    "exchange = read_news('exchange') "
   ]
  },
  {
   "cell_type": "code",
   "execution_count": 3,
   "id": "synthetic-notion",
   "metadata": {
    "execution": {
     "iopub.execute_input": "2022-08-13T02:59:29.270998Z",
     "iopub.status.busy": "2022-08-13T02:59:29.270423Z",
     "iopub.status.idle": "2022-08-13T02:59:29.273547Z",
     "shell.execute_reply": "2022-08-13T02:59:29.273969Z"
    },
    "papermill": {
     "duration": 0.018262,
     "end_time": "2022-08-13T02:59:29.274085",
     "exception": false,
     "start_time": "2022-08-13T02:59:29.255823",
     "status": "completed"
    },
    "tags": []
   },
   "outputs": [
    {
     "data": {
      "text/markdown": [
       "- New Legislation Calls for All Gold Mined in Brazil to Be Tokenized on a Blockchain.  A new bill in progress in Brazil calls for all gold mined in the country to be tokenized on a blockchain, as a way to bring transparency to the sector and make irregular mining difficult. The project was presented by Federal Representative Joenia Wapichana, who highlights that about half of the metal mining in the […] ... [| Skaityti daugiau](https://www.cryptoglobe.com/latest/2022/08/new-legislation-calls-for-all-gold-mined-in-brazil-to-be-tokenized-on-a-blockchain/) "
      ],
      "text/plain": [
       "<IPython.core.display.Markdown object>"
      ]
     },
     "execution_count": 3,
     "metadata": {},
     "output_type": "execute_result"
    }
   ],
   "source": [
    "#hide_input\n",
    "#md('##### {}'.format(titleBTC)) \n",
    "md(\"- {}{} {}{} [| Skaityti daugiau]({}) \".format(blockchain['title'],'. ', blockchain['body'], ' ...', blockchain['url']))"
   ]
  },
  {
   "cell_type": "code",
   "execution_count": 4,
   "id": "aging-caution",
   "metadata": {
    "execution": {
     "iopub.execute_input": "2022-08-13T02:59:29.299481Z",
     "iopub.status.busy": "2022-08-13T02:59:29.298891Z",
     "iopub.status.idle": "2022-08-13T02:59:29.302212Z",
     "shell.execute_reply": "2022-08-13T02:59:29.301739Z"
    },
    "papermill": {
     "duration": 0.017871,
     "end_time": "2022-08-13T02:59:29.302308",
     "exception": false,
     "start_time": "2022-08-13T02:59:29.284437",
     "status": "completed"
    },
    "tags": []
   },
   "outputs": [
    {
     "data": {
      "text/markdown": [
       "- Japanese Bank to Offer Customers $XRP or $BTC Rewards in New Campaign.  Popular Japanese bank Shinsei Bank is set to start offering customers rewards in $XRP or $BTC as part of a new campaign that is running from August 10 until October 31. Rewards in the campaign can go up to 8,000 Japanese Yen worth around $60 at the time of writing. These rewards are, according to […] ... [| Skaityti daugiau](https://www.cryptoglobe.com/latest/2022/08/japanese-bank-to-offer-customers-xrp-or-btc-rewards-in-new-campaign/) "
      ],
      "text/plain": [
       "<IPython.core.display.Markdown object>"
      ]
     },
     "execution_count": 4,
     "metadata": {},
     "output_type": "execute_result"
    }
   ],
   "source": [
    "#hide_input\n",
    "#md('##### {}'.format(titleBTC)) \n",
    "md(\"- {}{} {}{} [| Skaityti daugiau]({}) \".format(btc['title'],'. ', btc['body'], ' ...', btc['url']))"
   ]
  },
  {
   "cell_type": "code",
   "execution_count": 5,
   "id": "organic-actress",
   "metadata": {
    "execution": {
     "iopub.execute_input": "2022-08-13T02:59:29.326635Z",
     "iopub.status.busy": "2022-08-13T02:59:29.326079Z",
     "iopub.status.idle": "2022-08-13T02:59:29.328896Z",
     "shell.execute_reply": "2022-08-13T02:59:29.329359Z"
    },
    "papermill": {
     "duration": 0.017283,
     "end_time": "2022-08-13T02:59:29.329471",
     "exception": false,
     "start_time": "2022-08-13T02:59:29.312188",
     "status": "completed"
    },
    "tags": []
   },
   "outputs": [
    {
     "data": {
      "text/markdown": [
       "- Japanese Bank to Offer Customers $XRP or $BTC Rewards in New Campaign.  Popular Japanese bank Shinsei Bank is set to start offering customers rewards in $XRP or $BTC as part of a new campaign that is running from August 10 until October 31. Rewards in the campaign can go up to 8,000 Japanese Yen worth around $60 at the time of writing. These rewards are, according to […] ... [| Skaityti daugiau](https://www.cryptoglobe.com/latest/2022/08/japanese-bank-to-offer-customers-xrp-or-btc-rewards-in-new-campaign/) "
      ],
      "text/plain": [
       "<IPython.core.display.Markdown object>"
      ]
     },
     "execution_count": 5,
     "metadata": {},
     "output_type": "execute_result"
    }
   ],
   "source": [
    "#hide_input\n",
    "#md('##### {}'.format(titleBTC)) \n",
    "md(\"- {}{} {}{} [| Skaityti daugiau]({}) \".format(xrp['title'],'. ', xrp['body'], ' ...', xrp['url']))"
   ]
  },
  {
   "cell_type": "code",
   "execution_count": 6,
   "id": "prompt-farmer",
   "metadata": {
    "execution": {
     "iopub.execute_input": "2022-08-13T02:59:29.354233Z",
     "iopub.status.busy": "2022-08-13T02:59:29.353694Z",
     "iopub.status.idle": "2022-08-13T02:59:29.356701Z",
     "shell.execute_reply": "2022-08-13T02:59:29.357126Z"
    },
    "papermill": {
     "duration": 0.017642,
     "end_time": "2022-08-13T02:59:29.357252",
     "exception": false,
     "start_time": "2022-08-13T02:59:29.339610",
     "status": "completed"
    },
    "tags": []
   },
   "outputs": [
    {
     "data": {
      "text/markdown": [
       "- Huobi Might Get a New Owner, FTX Among Potential Buyers - Report.  Huobi Group founder Leon Li is in talks to sell his roughly 60% stake in this major crypto exchange, while Tron (TRX) founder Justin Sun and Sam Bankman-Fried’s FTX exchange are being mentioned among those who’ve had preliminary contact with Huobi....Read More: Huobi Might Get a New Owner, FTX Among Potential Buyers - Report ... [| Skaityti daugiau](https://cryptonews.com/news/huobi-might-get-a-new-owner-ftx-among-potential-buyers-report.htm) "
      ],
      "text/plain": [
       "<IPython.core.display.Markdown object>"
      ]
     },
     "execution_count": 6,
     "metadata": {},
     "output_type": "execute_result"
    }
   ],
   "source": [
    "#hide_input\n",
    "#md('##### {}'.format(titleBTC)) \n",
    "md(\"- {}{} {}{} [| Skaityti daugiau]({}) \".format(trx['title'],'. ', trx['body'], ' ...', trx['url']))"
   ]
  },
  {
   "cell_type": "code",
   "execution_count": 7,
   "id": "illegal-greece",
   "metadata": {
    "execution": {
     "iopub.execute_input": "2022-08-13T02:59:29.382829Z",
     "iopub.status.busy": "2022-08-13T02:59:29.382280Z",
     "iopub.status.idle": "2022-08-13T02:59:29.385215Z",
     "shell.execute_reply": "2022-08-13T02:59:29.385634Z"
    },
    "papermill": {
     "duration": 0.017818,
     "end_time": "2022-08-13T02:59:29.385742",
     "exception": false,
     "start_time": "2022-08-13T02:59:29.367924",
     "status": "completed"
    },
    "tags": []
   },
   "outputs": [
    {
     "data": {
      "text/markdown": [
       "- PicPay Has Launched A Crypto Exchange In Collaboration With Paxos.  Brazil&#8217;s prominent payment app PicPay has decided to venture into the world of cryptocurrencies by teaming up with crypto exchange Paxos. With this integration Paxos will be facilitating users to buy Bitcoin and Ethereum. PicPay has officially announced via their blog post that client shall be able to buy, sell and also store two major [&#8230;] ... [| Skaityti daugiau](https://bitcoinist.com/picpay-has-launched-a-crypto-exchange-with-paxos/) "
      ],
      "text/plain": [
       "<IPython.core.display.Markdown object>"
      ]
     },
     "execution_count": 7,
     "metadata": {},
     "output_type": "execute_result"
    }
   ],
   "source": [
    "#hide_input\n",
    "#md('##### {}'.format(titleBTC)) \n",
    "md(\"- {}{} {}{} [| Skaityti daugiau]({}) \".format(eth['title'],'. ', eth['body'], ' ...', eth['url']))"
   ]
  },
  {
   "cell_type": "code",
   "execution_count": 8,
   "id": "sublime-lounge",
   "metadata": {
    "execution": {
     "iopub.execute_input": "2022-08-13T02:59:29.411312Z",
     "iopub.status.busy": "2022-08-13T02:59:29.410766Z",
     "iopub.status.idle": "2022-08-13T02:59:29.413915Z",
     "shell.execute_reply": "2022-08-13T02:59:29.413388Z"
    },
    "papermill": {
     "duration": 0.017577,
     "end_time": "2022-08-13T02:59:29.414005",
     "exception": false,
     "start_time": "2022-08-13T02:59:29.396428",
     "status": "completed"
    },
    "tags": []
   },
   "outputs": [
    {
     "data": {
      "text/markdown": [
       "- Cardano: IOG Explains How You Can ‘Support Ukraine Relief Efforts’ With $ADA Tokens.  Input Output Global, the company responsible for Cardano’s research and development, has partnered with charitable cryptocurrency organization The Giving Block to allow Cardano ($ADA) holders to “support Ukraine relief efforts” using their tokens. According to a tweet Input Output shared with its over 58,500 followers on an account dedicated to the press, the firm partnered […] ... [| Skaityti daugiau](https://www.cryptoglobe.com/latest/2022/08/cardano-iog-explains-how-you-can-support-ukraine-relief-efforts-with-ada-tokens/) "
      ],
      "text/plain": [
       "<IPython.core.display.Markdown object>"
      ]
     },
     "execution_count": 8,
     "metadata": {},
     "output_type": "execute_result"
    }
   ],
   "source": [
    "#hide_input\n",
    "#md('##### {}'.format(titleBTC)) \n",
    "md(\"- {}{} {}{} [| Skaityti daugiau]({}) \".format(ada['title'],'. ', ada['body'], ' ...', ada['url']))"
   ]
  },
  {
   "cell_type": "code",
   "execution_count": 9,
   "id": "specified-ordering",
   "metadata": {
    "execution": {
     "iopub.execute_input": "2022-08-13T02:59:29.441366Z",
     "iopub.status.busy": "2022-08-13T02:59:29.440790Z",
     "iopub.status.idle": "2022-08-13T02:59:29.443704Z",
     "shell.execute_reply": "2022-08-13T02:59:29.443287Z"
    },
    "papermill": {
     "duration": 0.01877,
     "end_time": "2022-08-13T02:59:29.443799",
     "exception": false,
     "start_time": "2022-08-13T02:59:29.425029",
     "status": "completed"
    },
    "tags": []
   },
   "outputs": [
    {
     "data": {
      "text/markdown": [
       "- India Freezes Peter Thiel-Backed Vauld’s Crypto and Bank Assets Worth $46 Million.  India&#x2019;s Enforcement Directorate (ED) has frozen crypto exchange Vauld&#x2019;s crypto and bank assets worth about INR 370 crore ($46,439,181). Vauld halted deposits and withdrawals last month. The Indian law enforcement agency is reportedly investigating more than 10 cryptocurrency exchanges. Indian Authority Freezes Another Cryptocurrency Exchange&#x2019;s Assets The Enforcement Directorate (ED), a law enforcement and economic [&#8230;] ... [| Skaityti daugiau](https://news.bitcoin.com/india-freezes-peter-thiel-backed-vaulds-crypto-and-bank-assets-worth-46-million/) "
      ],
      "text/plain": [
       "<IPython.core.display.Markdown object>"
      ]
     },
     "execution_count": 9,
     "metadata": {},
     "output_type": "execute_result"
    }
   ],
   "source": [
    "#hide_input\n",
    "#md('##### {}'.format(titleBTC)) \n",
    "md(\"- {}{} {}{} [| Skaityti daugiau]({}) \".format(exchange['title'],'. ', exchange['body'], ' ...', exchange['url']))"
   ]
  },
  {
   "cell_type": "code",
   "execution_count": null,
   "id": "tender-livestock",
   "metadata": {
    "papermill": {
     "duration": 0.011321,
     "end_time": "2022-08-13T02:59:29.466455",
     "exception": false,
     "start_time": "2022-08-13T02:59:29.455134",
     "status": "completed"
    },
    "tags": []
   },
   "outputs": [],
   "source": []
  },
  {
   "cell_type": "code",
   "execution_count": null,
   "id": "appreciated-diamond",
   "metadata": {
    "papermill": {
     "duration": 0.011298,
     "end_time": "2022-08-13T02:59:29.489252",
     "exception": false,
     "start_time": "2022-08-13T02:59:29.477954",
     "status": "completed"
    },
    "tags": []
   },
   "outputs": [],
   "source": []
  },
  {
   "cell_type": "code",
   "execution_count": null,
   "id": "romance-sweden",
   "metadata": {
    "papermill": {
     "duration": 0.011278,
     "end_time": "2022-08-13T02:59:29.511871",
     "exception": false,
     "start_time": "2022-08-13T02:59:29.500593",
     "status": "completed"
    },
    "tags": []
   },
   "outputs": [],
   "source": []
  },
  {
   "cell_type": "code",
   "execution_count": null,
   "id": "dietary-statistics",
   "metadata": {
    "papermill": {
     "duration": 0.011268,
     "end_time": "2022-08-13T02:59:29.534460",
     "exception": false,
     "start_time": "2022-08-13T02:59:29.523192",
     "status": "completed"
    },
    "tags": []
   },
   "outputs": [],
   "source": []
  }
 ],
 "metadata": {
  "kernelspec": {
   "display_name": "Python 3",
   "language": "python",
   "name": "python3"
  },
  "language_info": {
   "codemirror_mode": {
    "name": "ipython",
    "version": 3
   },
   "file_extension": ".py",
   "mimetype": "text/x-python",
   "name": "python",
   "nbconvert_exporter": "python",
   "pygments_lexer": "ipython3",
   "version": "3.6.15"
  },
  "papermill": {
   "default_parameters": {},
   "duration": 12.849535,
   "end_time": "2022-08-13T02:59:29.963777",
   "environment_variables": {},
   "exception": null,
   "input_path": "Market-News.ipynb",
   "output_path": "Market-News.ipynb",
   "parameters": {},
   "start_time": "2022-08-13T02:59:17.114242",
   "version": "2.2.2"
  }
 },
 "nbformat": 4,
 "nbformat_minor": 5
}