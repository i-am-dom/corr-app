{
 "cells": [
  {
   "cell_type": "markdown",
   "id": "short-greensboro",
   "metadata": {
    "papermill": {
     "duration": 0.029674,
     "end_time": "2021-08-21T01:54:54.348148",
     "exception": false,
     "start_time": "2021-08-21T01:54:54.318474",
     "status": "completed"
    },
    "tags": []
   },
   "source": [
    "# Kriptovaliutų naujienos"
   ]
  },
  {
   "cell_type": "code",
   "execution_count": 1,
   "id": "functioning-knowing",
   "metadata": {
    "execution": {
     "iopub.execute_input": "2021-08-21T01:54:54.392050Z",
     "iopub.status.busy": "2021-08-21T01:54:54.390983Z",
     "iopub.status.idle": "2021-08-21T01:54:55.888821Z",
     "shell.execute_reply": "2021-08-21T01:54:55.888210Z"
    },
    "papermill": {
     "duration": 1.522463,
     "end_time": "2021-08-21T01:54:55.888982",
     "exception": false,
     "start_time": "2021-08-21T01:54:54.366519",
     "status": "completed"
    },
    "tags": []
   },
   "outputs": [],
   "source": [
    "#hide_input\n",
    "import warnings\n",
    "warnings.filterwarnings('ignore')\n",
    "from scripts.read_data import read_api\n",
    "from scripts.read_data import read_news\n",
    "from scripts.read_data import read_covid\n",
    "import matplotlib.pyplot as plt \n",
    "from IPython.display import Markdown as md"
   ]
  },
  {
   "cell_type": "code",
   "execution_count": 2,
   "id": "shared-acceptance",
   "metadata": {
    "execution": {
     "iopub.execute_input": "2021-08-21T01:54:55.919215Z",
     "iopub.status.busy": "2021-08-21T01:54:55.918560Z",
     "iopub.status.idle": "2021-08-21T01:55:04.799125Z",
     "shell.execute_reply": "2021-08-21T01:55:04.798148Z"
    },
    "papermill": {
     "duration": 8.89885,
     "end_time": "2021-08-21T01:55:04.799270",
     "exception": false,
     "start_time": "2021-08-21T01:54:55.900420",
     "status": "completed"
    },
    "tags": []
   },
   "outputs": [],
   "source": [
    "#hide_input\n",
    "blockchain = read_news('blockchain') \n",
    "btc = read_news('btc') \n",
    "xrp = read_news('xrp') \n",
    "trx = read_news('trx') \n",
    "eth = read_news('eth')  \n",
    "ada = read_news('ada')\n",
    "exchange = read_news('exchange') "
   ]
  },
  {
   "cell_type": "code",
   "execution_count": 3,
   "id": "synthetic-notion",
   "metadata": {
    "execution": {
     "iopub.execute_input": "2021-08-21T01:55:04.827591Z",
     "iopub.status.busy": "2021-08-21T01:55:04.826927Z",
     "iopub.status.idle": "2021-08-21T01:55:04.833268Z",
     "shell.execute_reply": "2021-08-21T01:55:04.832620Z"
    },
    "papermill": {
     "duration": 0.021863,
     "end_time": "2021-08-21T01:55:04.833397",
     "exception": false,
     "start_time": "2021-08-21T01:55:04.811534",
     "status": "completed"
    },
    "tags": []
   },
   "outputs": [
    {
     "data": {
      "text/markdown": [
       "- HODL Waves: What We Can Learn From UTXO History.  How the age of Bitcoin transactions can give us insight into the four-year halving cycles and the history of the blockchain. ... [| Skaityti daugiau](https://bitcoinmagazine.com/markets/hodl-waves-we-learn-from-utxo-history) "
      ],
      "text/plain": [
       "<IPython.core.display.Markdown object>"
      ]
     },
     "execution_count": 3,
     "metadata": {},
     "output_type": "execute_result"
    }
   ],
   "source": [
    "#hide_input\n",
    "#md('##### {}'.format(titleBTC)) \n",
    "md(\"- {}{} {}{} [| Skaityti daugiau]({}) \".format(blockchain['title'],'. ', blockchain['body'], ' ...', blockchain['url']))"
   ]
  },
  {
   "cell_type": "code",
   "execution_count": 4,
   "id": "aging-caution",
   "metadata": {
    "execution": {
     "iopub.execute_input": "2021-08-21T01:55:04.863838Z",
     "iopub.status.busy": "2021-08-21T01:55:04.863158Z",
     "iopub.status.idle": "2021-08-21T01:55:04.865842Z",
     "shell.execute_reply": "2021-08-21T01:55:04.866377Z"
    },
    "papermill": {
     "duration": 0.021536,
     "end_time": "2021-08-21T01:55:04.866531",
     "exception": false,
     "start_time": "2021-08-21T01:55:04.844995",
     "status": "completed"
    },
    "tags": []
   },
   "outputs": [
    {
     "data": {
      "text/markdown": [
       "- HODL Waves: What We Can Learn From UTXO History.  How the age of Bitcoin transactions can give us insight into the four-year halving cycles and the history of the blockchain. ... [| Skaityti daugiau](https://bitcoinmagazine.com/markets/hodl-waves-we-learn-from-utxo-history) "
      ],
      "text/plain": [
       "<IPython.core.display.Markdown object>"
      ]
     },
     "execution_count": 4,
     "metadata": {},
     "output_type": "execute_result"
    }
   ],
   "source": [
    "#hide_input\n",
    "#md('##### {}'.format(titleBTC)) \n",
    "md(\"- {}{} {}{} [| Skaityti daugiau]({}) \".format(btc['title'],'. ', btc['body'], ' ...', btc['url']))"
   ]
  },
  {
   "cell_type": "code",
   "execution_count": 5,
   "id": "organic-actress",
   "metadata": {
    "execution": {
     "iopub.execute_input": "2021-08-21T01:55:04.899129Z",
     "iopub.status.busy": "2021-08-21T01:55:04.898146Z",
     "iopub.status.idle": "2021-08-21T01:55:04.906142Z",
     "shell.execute_reply": "2021-08-21T01:55:04.907110Z"
    },
    "papermill": {
     "duration": 0.029252,
     "end_time": "2021-08-21T01:55:04.908039",
     "exception": false,
     "start_time": "2021-08-21T01:55:04.878787",
     "status": "completed"
    },
    "tags": []
   },
   "outputs": [
    {
     "data": {
      "text/markdown": [
       "- XRP Price Analysis: XRP Testing Breakout of 4 Month Downtrend, What’s Next?.  XRP price has been stuck within an ascending channel for 3 weeks XRP Price is being held up by 60 MA Bulls are attempting to break 4 month downtrend XRP Price Up 120% off Lows XRP price has been showing a great amount of strength over the last few weeks as prices have risen over The post XRP Price Analysis: XRP Testing Breakout of 4 Month Downtrend, What&#8217;s Next? appeared first on Coingape. ... [| Skaityti daugiau](https://coingape.com/xrp-holds-its-ground-as-it-tests-breakout-of-4-month-downtrend-here-are-the-levels-to-watch/) "
      ],
      "text/plain": [
       "<IPython.core.display.Markdown object>"
      ]
     },
     "execution_count": 5,
     "metadata": {},
     "output_type": "execute_result"
    }
   ],
   "source": [
    "#hide_input\n",
    "#md('##### {}'.format(titleBTC)) \n",
    "md(\"- {}{} {}{} [| Skaityti daugiau]({}) \".format(xrp['title'],'. ', xrp['body'], ' ...', xrp['url']))"
   ]
  },
  {
   "cell_type": "code",
   "execution_count": 6,
   "id": "prompt-farmer",
   "metadata": {
    "execution": {
     "iopub.execute_input": "2021-08-21T01:55:04.942921Z",
     "iopub.status.busy": "2021-08-21T01:55:04.942281Z",
     "iopub.status.idle": "2021-08-21T01:55:04.944560Z",
     "shell.execute_reply": "2021-08-21T01:55:04.945082Z"
    },
    "papermill": {
     "duration": 0.020628,
     "end_time": "2021-08-21T01:55:04.945226",
     "exception": false,
     "start_time": "2021-08-21T01:55:04.924598",
     "status": "completed"
    },
    "tags": []
   },
   "outputs": [
    {
     "data": {
      "text/markdown": [
       "- Binance Coin, Tron, IOTA Price Analysis: 20 August.  Bitcoin appreciated over the last 24 hours and was back to trading above the $47k at press time. This had an impact on the market&#8217;s altcoins too. BNB, for instance, hiked by 8.3%. TRX was trading close to its immediate resistance of $0.088 while IOTA attempted to retest the $1.09 price ceiling after surging by [&#8230;] ... [| Skaityti daugiau](https://ambcrypto.com/binance-coin-tron-iota-price-analysis-20-august/) "
      ],
      "text/plain": [
       "<IPython.core.display.Markdown object>"
      ]
     },
     "execution_count": 6,
     "metadata": {},
     "output_type": "execute_result"
    }
   ],
   "source": [
    "#hide_input\n",
    "#md('##### {}'.format(titleBTC)) \n",
    "md(\"- {}{} {}{} [| Skaityti daugiau]({}) \".format(trx['title'],'. ', trx['body'], ' ...', trx['url']))"
   ]
  },
  {
   "cell_type": "code",
   "execution_count": 7,
   "id": "illegal-greece",
   "metadata": {
    "execution": {
     "iopub.execute_input": "2021-08-21T01:55:04.976175Z",
     "iopub.status.busy": "2021-08-21T01:55:04.975029Z",
     "iopub.status.idle": "2021-08-21T01:55:04.979042Z",
     "shell.execute_reply": "2021-08-21T01:55:04.979712Z"
    },
    "papermill": {
     "duration": 0.021455,
     "end_time": "2021-08-21T01:55:04.979856",
     "exception": false,
     "start_time": "2021-08-21T01:55:04.958401",
     "status": "completed"
    },
    "tags": []
   },
   "outputs": [
    {
     "data": {
      "text/markdown": [
       "- Ethereum: These are the early signs traders expecting a rally should look out for.  Ethereum has seen a massive surge in retail demand since the London upgrade went live. ETH’s price losing ground for four days fueled a worrisome mood in the market. However, hopes were soon restored as the top altcoin saw gains of 9.5% at press time. In spite of these gains, trade volumes for Ethereum’s spot [&#8230;] ... [| Skaityti daugiau](https://ambcrypto.com/ethereum-these-are-the-early-signs-traders-expecting-a-rally-should-look-out-for/) "
      ],
      "text/plain": [
       "<IPython.core.display.Markdown object>"
      ]
     },
     "execution_count": 7,
     "metadata": {},
     "output_type": "execute_result"
    }
   ],
   "source": [
    "#hide_input\n",
    "#md('##### {}'.format(titleBTC)) \n",
    "md(\"- {}{} {}{} [| Skaityti daugiau]({}) \".format(eth['title'],'. ', eth['body'], ' ...', eth['url']))"
   ]
  },
  {
   "cell_type": "code",
   "execution_count": 8,
   "id": "sublime-lounge",
   "metadata": {
    "execution": {
     "iopub.execute_input": "2021-08-21T01:55:05.012481Z",
     "iopub.status.busy": "2021-08-21T01:55:05.011829Z",
     "iopub.status.idle": "2021-08-21T01:55:05.015105Z",
     "shell.execute_reply": "2021-08-21T01:55:05.014563Z"
    },
    "papermill": {
     "duration": 0.022083,
     "end_time": "2021-08-21T01:55:05.015227",
     "exception": false,
     "start_time": "2021-08-21T01:55:04.993144",
     "status": "completed"
    },
    "tags": []
   },
   "outputs": [
    {
     "data": {
      "text/markdown": [
       "- Cardano Posts New All-Time High Taking 3rd Spot From Binance Coin In The Process.  Monster gains for Cardano over the last two weeks have seen ADA grow 80% in value during this period. In doing so, the early hours of today saw ADA hit a price of $2.56, making a new all-time high. Bears have since stepped in to dip the price before finding support at $2.45. The rest [&#8230;] ... [| Skaityti daugiau](https://bitcoinist.com/cardano-posts-new-all-time-high-knocking-binance-coin-from-3rd-spot-in-the-process/?utm_source=rss&utm_medium=rss&utm_campaign=cardano-posts-new-all-time-high-knocking-binance-coin-from-3rd-spot-in-the-process) "
      ],
      "text/plain": [
       "<IPython.core.display.Markdown object>"
      ]
     },
     "execution_count": 8,
     "metadata": {},
     "output_type": "execute_result"
    }
   ],
   "source": [
    "#hide_input\n",
    "#md('##### {}'.format(titleBTC)) \n",
    "md(\"- {}{} {}{} [| Skaityti daugiau]({}) \".format(ada['title'],'. ', ada['body'], ' ...', ada['url']))"
   ]
  },
  {
   "cell_type": "code",
   "execution_count": 9,
   "id": "specified-ordering",
   "metadata": {
    "execution": {
     "iopub.execute_input": "2021-08-21T01:55:05.048541Z",
     "iopub.status.busy": "2021-08-21T01:55:05.047881Z",
     "iopub.status.idle": "2021-08-21T01:55:05.050699Z",
     "shell.execute_reply": "2021-08-21T01:55:05.051305Z"
    },
    "papermill": {
     "duration": 0.022481,
     "end_time": "2021-08-21T01:55:05.051454",
     "exception": false,
     "start_time": "2021-08-21T01:55:05.028973",
     "status": "completed"
    },
    "tags": []
   },
   "outputs": [
    {
     "data": {
      "text/markdown": [
       "- Cardano Posts New All-Time High Taking 3rd Spot From Binance Coin In The Process.  Monster gains for Cardano over the last two weeks have seen ADA grow 80% in value during this period. In doing so, the early hours of today saw ADA hit a price of $2.56, making a new all-time high. Bears have since stepped in to dip the price before finding support at $2.45. The rest [&#8230;] ... [| Skaityti daugiau](https://bitcoinist.com/cardano-posts-new-all-time-high-knocking-binance-coin-from-3rd-spot-in-the-process/?utm_source=rss&utm_medium=rss&utm_campaign=cardano-posts-new-all-time-high-knocking-binance-coin-from-3rd-spot-in-the-process) "
      ],
      "text/plain": [
       "<IPython.core.display.Markdown object>"
      ]
     },
     "execution_count": 9,
     "metadata": {},
     "output_type": "execute_result"
    }
   ],
   "source": [
    "#hide_input\n",
    "#md('##### {}'.format(titleBTC)) \n",
    "md(\"- {}{} {}{} [| Skaityti daugiau]({}) \".format(exchange['title'],'. ', exchange['body'], ' ...', exchange['url']))"
   ]
  },
  {
   "cell_type": "code",
   "execution_count": null,
   "id": "tender-livestock",
   "metadata": {
    "papermill": {
     "duration": 0.013823,
     "end_time": "2021-08-21T01:55:05.085045",
     "exception": false,
     "start_time": "2021-08-21T01:55:05.071222",
     "status": "completed"
    },
    "tags": []
   },
   "outputs": [],
   "source": []
  },
  {
   "cell_type": "code",
   "execution_count": null,
   "id": "appreciated-diamond",
   "metadata": {
    "papermill": {
     "duration": 0.014095,
     "end_time": "2021-08-21T01:55:05.114541",
     "exception": false,
     "start_time": "2021-08-21T01:55:05.100446",
     "status": "completed"
    },
    "tags": []
   },
   "outputs": [],
   "source": []
  },
  {
   "cell_type": "code",
   "execution_count": null,
   "id": "romance-sweden",
   "metadata": {
    "papermill": {
     "duration": 0.014728,
     "end_time": "2021-08-21T01:55:05.143313",
     "exception": false,
     "start_time": "2021-08-21T01:55:05.128585",
     "status": "completed"
    },
    "tags": []
   },
   "outputs": [],
   "source": []
  },
  {
   "cell_type": "code",
   "execution_count": null,
   "id": "dietary-statistics",
   "metadata": {
    "papermill": {
     "duration": 0.014158,
     "end_time": "2021-08-21T01:55:05.172269",
     "exception": false,
     "start_time": "2021-08-21T01:55:05.158111",
     "status": "completed"
    },
    "tags": []
   },
   "outputs": [],
   "source": []
  }
 ],
 "metadata": {
  "kernelspec": {
   "display_name": "Python 3",
   "language": "python",
   "name": "python3"
  },
  "language_info": {
   "codemirror_mode": {
    "name": "ipython",
    "version": 3
   },
   "file_extension": ".py",
   "mimetype": "text/x-python",
   "name": "python",
   "nbconvert_exporter": "python",
   "pygments_lexer": "ipython3",
   "version": "3.6.14"
  },
  "papermill": {
   "default_parameters": {},
   "duration": 12.524817,
   "end_time": "2021-08-21T01:55:05.694869",
   "environment_variables": {},
   "exception": null,
   "input_path": "Market-News.ipynb",
   "output_path": "Market-News.ipynb",
   "parameters": {},
   "start_time": "2021-08-21T01:54:53.170052",
   "version": "2.2.2"
  }
 },
 "nbformat": 4,
 "nbformat_minor": 5
}