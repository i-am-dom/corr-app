{
 "cells": [
  {
   "cell_type": "markdown",
   "id": "short-greensboro",
   "metadata": {
    "papermill": {
     "duration": 0.015626,
     "end_time": "2022-07-11T03:13:05.212523",
     "exception": false,
     "start_time": "2022-07-11T03:13:05.196897",
     "status": "completed"
    },
    "tags": []
   },
   "source": [
    "# Kriptovaliutų naujienos"
   ]
  },
  {
   "cell_type": "code",
   "execution_count": 1,
   "id": "functioning-knowing",
   "metadata": {
    "execution": {
     "iopub.execute_input": "2022-07-11T03:13:05.250423Z",
     "iopub.status.busy": "2022-07-11T03:13:05.249108Z",
     "iopub.status.idle": "2022-07-11T03:13:06.784856Z",
     "shell.execute_reply": "2022-07-11T03:13:06.785816Z"
    },
    "papermill": {
     "duration": 1.561319,
     "end_time": "2022-07-11T03:13:06.786055",
     "exception": false,
     "start_time": "2022-07-11T03:13:05.224736",
     "status": "completed"
    },
    "tags": []
   },
   "outputs": [],
   "source": [
    "#hide_input\n",
    "import warnings\n",
    "warnings.filterwarnings('ignore')\n",
    "from scripts.read_data import read_api\n",
    "from scripts.read_data import read_news\n",
    "from scripts.read_data import read_covid\n",
    "import matplotlib.pyplot as plt \n",
    "from IPython.display import Markdown as md"
   ]
  },
  {
   "cell_type": "code",
   "execution_count": 2,
   "id": "shared-acceptance",
   "metadata": {
    "execution": {
     "iopub.execute_input": "2022-07-11T03:13:06.816014Z",
     "iopub.status.busy": "2022-07-11T03:13:06.815321Z",
     "iopub.status.idle": "2022-07-11T03:13:19.874819Z",
     "shell.execute_reply": "2022-07-11T03:13:19.873748Z"
    },
    "papermill": {
     "duration": 13.07727,
     "end_time": "2022-07-11T03:13:19.874981",
     "exception": false,
     "start_time": "2022-07-11T03:13:06.797711",
     "status": "completed"
    },
    "tags": []
   },
   "outputs": [],
   "source": [
    "#hide_input\n",
    "blockchain = read_news('blockchain') \n",
    "btc = read_news('btc') \n",
    "xrp = read_news('xrp') \n",
    "trx = read_news('trx') \n",
    "eth = read_news('eth')  \n",
    "ada = read_news('ada')\n",
    "exchange = read_news('exchange') "
   ]
  },
  {
   "cell_type": "code",
   "execution_count": 3,
   "id": "synthetic-notion",
   "metadata": {
    "execution": {
     "iopub.execute_input": "2022-07-11T03:13:19.904375Z",
     "iopub.status.busy": "2022-07-11T03:13:19.903572Z",
     "iopub.status.idle": "2022-07-11T03:13:19.907415Z",
     "shell.execute_reply": "2022-07-11T03:13:19.908036Z"
    },
    "papermill": {
     "duration": 0.022104,
     "end_time": "2022-07-11T03:13:19.908200",
     "exception": false,
     "start_time": "2022-07-11T03:13:19.886096",
     "status": "completed"
    },
    "tags": []
   },
   "outputs": [
    {
     "data": {
      "text/markdown": [
       "- Ethereum [ETH]: Identifying how good or bad Q2 was for the network.  In its new report titled &#8220;State of Ethereum Report — Q2, 2022,&#8221; Bankless reviewed the performance of the Ethereum Network and its ecosystem in the second quarter of 2022. It touched upon the network&#8217;s performance under four broad categories &#8211; Protocol, Decentralized Finance (DeFi), Non-Fungible Tokens (NFTs), and Layer 2. Ahead of the Ethereum 2.0 [&#8230;] ... [| Skaityti daugiau](https://ambcrypto.com/ethereum-eth-identifying-how-good-or-bad-q2-was-for-the-network/) "
      ],
      "text/plain": [
       "<IPython.core.display.Markdown object>"
      ]
     },
     "execution_count": 3,
     "metadata": {},
     "output_type": "execute_result"
    }
   ],
   "source": [
    "#hide_input\n",
    "#md('##### {}'.format(titleBTC)) \n",
    "md(\"- {}{} {}{} [| Skaityti daugiau]({}) \".format(blockchain['title'],'. ', blockchain['body'], ' ...', blockchain['url']))"
   ]
  },
  {
   "cell_type": "code",
   "execution_count": 4,
   "id": "aging-caution",
   "metadata": {
    "execution": {
     "iopub.execute_input": "2022-07-11T03:13:19.937892Z",
     "iopub.status.busy": "2022-07-11T03:13:19.937159Z",
     "iopub.status.idle": "2022-07-11T03:13:19.941965Z",
     "shell.execute_reply": "2022-07-11T03:13:19.941406Z"
    },
    "papermill": {
     "duration": 0.021218,
     "end_time": "2022-07-11T03:13:19.942087",
     "exception": false,
     "start_time": "2022-07-11T03:13:19.920869",
     "status": "completed"
    },
    "tags": []
   },
   "outputs": [
    {
     "data": {
      "text/markdown": [
       "- TA: Bitcoin Price Trims Gains, Key Breakdown Support Nearby.  Bitcoin trimmed gains and declined below $21,000 against the US Dollar. BTC must stay above $20,500 to avoid a major decline in the near term. Bitcoin failed to stay above the $21,000 support and extended drop. The price is now trading below the $21,500 level and the 100 hourly simple moving average. There is a major bullish trend line forming with support near $20,520 on the hourly chart of the BTC/USD pair (data feed from Kraken). The pair could start another major decline if there is a clear move below $20,500. Bitcoin Price Reaches Support Bitcoin price attempted a close above the $22,000 level, but the bears remained active. As a result, there was a slow and steady decline below the $21,500 level. The price declined below the 50% Fib retracement level of the upward move from the $19,300 swing low to $22,498 high. The price is now trading below the $21,500 level and the 100 hourly simple moving average. It is testing the key $20,500 support zone. There is also a major bullish trend line forming with support near $20,520 on the hourly chart of the BTC/USD pair. The trend line is near the 61.8% Fib retracement level of the upward move from the $19,300 swing low to $22,498 high. If bitcoin price stays above the trend line, it could correct above $20,800. On the upside, the price is facing resistance near the $20,800 and $20,850 levels. Source: BTCUSD on TradingView.com The next key resistance is near the $21,250 zone and the ... ... [| Skaityti daugiau](https://www.newsbtc.com/analysis/btc/bitcoin-price-trims-gains-20500/) "
      ],
      "text/plain": [
       "<IPython.core.display.Markdown object>"
      ]
     },
     "execution_count": 4,
     "metadata": {},
     "output_type": "execute_result"
    }
   ],
   "source": [
    "#hide_input\n",
    "#md('##### {}'.format(titleBTC)) \n",
    "md(\"- {}{} {}{} [| Skaityti daugiau]({}) \".format(btc['title'],'. ', btc['body'], ' ...', btc['url']))"
   ]
  },
  {
   "cell_type": "code",
   "execution_count": 5,
   "id": "organic-actress",
   "metadata": {
    "execution": {
     "iopub.execute_input": "2022-07-11T03:13:19.971387Z",
     "iopub.status.busy": "2022-07-11T03:13:19.970542Z",
     "iopub.status.idle": "2022-07-11T03:13:19.975246Z",
     "shell.execute_reply": "2022-07-11T03:13:19.974657Z"
    },
    "papermill": {
     "duration": 0.021783,
     "end_time": "2022-07-11T03:13:19.975369",
     "exception": false,
     "start_time": "2022-07-11T03:13:19.953586",
     "status": "completed"
    },
    "tags": []
   },
   "outputs": [
    {
     "data": {
      "text/markdown": [
       "- Ripple v. SEC: Legal Expert Reveals Why XRP Is The Most Important Altcoin In The Crypto Space.  This is a nightmare most altcoins will likely face supposing Congress does not provide regulatory clarity on crypto that spells out the position of the asset class in the general financial market. ... [| Skaityti daugiau](https://zycrypto.com/ripple-v-sec-legal-expert-reveals-why-xrp-is-the-most-important-altcoin-in-the-crypto-space/) "
      ],
      "text/plain": [
       "<IPython.core.display.Markdown object>"
      ]
     },
     "execution_count": 5,
     "metadata": {},
     "output_type": "execute_result"
    }
   ],
   "source": [
    "#hide_input\n",
    "#md('##### {}'.format(titleBTC)) \n",
    "md(\"- {}{} {}{} [| Skaityti daugiau]({}) \".format(xrp['title'],'. ', xrp['body'], ' ...', xrp['url']))"
   ]
  },
  {
   "cell_type": "code",
   "execution_count": 6,
   "id": "prompt-farmer",
   "metadata": {
    "execution": {
     "iopub.execute_input": "2022-07-11T03:13:20.006214Z",
     "iopub.status.busy": "2022-07-11T03:13:20.005408Z",
     "iopub.status.idle": "2022-07-11T03:13:20.009835Z",
     "shell.execute_reply": "2022-07-11T03:13:20.010567Z"
    },
    "papermill": {
     "duration": 0.023409,
     "end_time": "2022-07-11T03:13:20.010798",
     "exception": false,
     "start_time": "2022-07-11T03:13:19.987389",
     "status": "completed"
    },
    "tags": []
   },
   "outputs": [
    {
     "data": {
      "text/markdown": [
       "- TRON Deploys Another $20M to Safeguard the Crypto Market.  The TRON DAO Reserve tweeted a new update on Friday, announcing that it had purchased USDD worth $10 million and added $10 million worth of TRX to its reserves to safeguard the overall blockchain industry and crypto market. total 20 million for today! https://t.co/Hcaq58TZhg — H.E. Justin Sun 🅣🌞🇬🇩 (@justinsuntron) July 8, 2022 TRON’s Attempt at an Algorithmic Stablecoin The algorithmic stablecoin USDD is an effort by TRON. It draws inspiration from Terra’s UST, whose abrupt collapse in May after losing its peg to the dollar wiped out the whole industry. It draws inspiration from Terra’s UST, which suffered a dramatic collapse in May. It caused an industry-wide wipeout after losing its peg to the dollar. Since the TRON DAO Reserve collateralized USDD, it shouldn’t, in theory, experience the same fate. As per TRON’s website, the DAO holds $2.2 billion worth of collateral in TRX, BTC, USDT, and USDC, and the total USDD supply is $723.3 million, making the stablecoin 316.2% overcollateralized. Preserve USDD’s Dollar Parity The TRON DAO Reserve dropped $2 billion last month as it fought off short traders betting against TRX to preserve USDD’s dollar parity. USDD spent a week below peg, trading as low as $0.93 but has recovered to just under a dollar. The TRON DAO Reserve has added to its USDD and TRX holdings several times since the depeg event. With the introduction of USDD, which it claimed would grant users “financial freedo... ... [| Skaityti daugiau](https://www.cryptoknowmics.com/news/tron-deploys-another-20m-to-safeguard-the-crypto-market/?utm_source=rss&utm_medium=rss&utm_campaign=tron-deploys-another-20m-to-safeguard-the-crypto-market) "
      ],
      "text/plain": [
       "<IPython.core.display.Markdown object>"
      ]
     },
     "execution_count": 6,
     "metadata": {},
     "output_type": "execute_result"
    }
   ],
   "source": [
    "#hide_input\n",
    "#md('##### {}'.format(titleBTC)) \n",
    "md(\"- {}{} {}{} [| Skaityti daugiau]({}) \".format(trx['title'],'. ', trx['body'], ' ...', trx['url']))"
   ]
  },
  {
   "cell_type": "code",
   "execution_count": 7,
   "id": "illegal-greece",
   "metadata": {
    "execution": {
     "iopub.execute_input": "2022-07-11T03:13:20.043286Z",
     "iopub.status.busy": "2022-07-11T03:13:20.042465Z",
     "iopub.status.idle": "2022-07-11T03:13:20.046895Z",
     "shell.execute_reply": "2022-07-11T03:13:20.046306Z"
    },
    "papermill": {
     "duration": 0.023495,
     "end_time": "2022-07-11T03:13:20.047036",
     "exception": false,
     "start_time": "2022-07-11T03:13:20.023541",
     "status": "completed"
    },
    "tags": []
   },
   "outputs": [
    {
     "data": {
      "text/markdown": [
       "- Ethereum [ETH]: Identifying how good or bad Q2 was for the network.  In its new report titled &#8220;State of Ethereum Report — Q2, 2022,&#8221; Bankless reviewed the performance of the Ethereum Network and its ecosystem in the second quarter of 2022. It touched upon the network&#8217;s performance under four broad categories &#8211; Protocol, Decentralized Finance (DeFi), Non-Fungible Tokens (NFTs), and Layer 2. Ahead of the Ethereum 2.0 [&#8230;] ... [| Skaityti daugiau](https://ambcrypto.com/ethereum-eth-identifying-how-good-or-bad-q2-was-for-the-network/) "
      ],
      "text/plain": [
       "<IPython.core.display.Markdown object>"
      ]
     },
     "execution_count": 7,
     "metadata": {},
     "output_type": "execute_result"
    }
   ],
   "source": [
    "#hide_input\n",
    "#md('##### {}'.format(titleBTC)) \n",
    "md(\"- {}{} {}{} [| Skaityti daugiau]({}) \".format(eth['title'],'. ', eth['body'], ' ...', eth['url']))"
   ]
  },
  {
   "cell_type": "code",
   "execution_count": 8,
   "id": "sublime-lounge",
   "metadata": {
    "execution": {
     "iopub.execute_input": "2022-07-11T03:13:20.083108Z",
     "iopub.status.busy": "2022-07-11T03:13:20.082025Z",
     "iopub.status.idle": "2022-07-11T03:13:20.085314Z",
     "shell.execute_reply": "2022-07-11T03:13:20.085962Z"
    },
    "papermill": {
     "duration": 0.025657,
     "end_time": "2022-07-11T03:13:20.086104",
     "exception": false,
     "start_time": "2022-07-11T03:13:20.060447",
     "status": "completed"
    },
    "tags": []
   },
   "outputs": [
    {
     "data": {
      "text/markdown": [
       "- Cardano, Solana, Polkadot and Four More Altcoins Are Top Smart Contract Platform Holdings for Grayscale.  Crypto asset management giant Grayscale has updated its smart contract platform holdings as the digital asset markets consolidate well below their all-time highs. In a new report, Grayscale says its GSCPxE Fund has allocated funds towards Cardano (ADA), Solana (SOL), Polkadot (DOT) and several other Ethereum (ETH) competitors. &#8220;At the end of the day on [&#8230;]The post Cardano, Solana, Polkadot and Four More Altcoins Are Top Smart Contract Platform Holdings for Grayscale appeared first on The Daily Hodl. ... [| Skaityti daugiau](https://dailyhodl.com/2022/07/10/cardano-solana-polkadot-and-four-more-altcoins-are-top-smart-contract-platform-holdings-for-grayscale/) "
      ],
      "text/plain": [
       "<IPython.core.display.Markdown object>"
      ]
     },
     "execution_count": 8,
     "metadata": {},
     "output_type": "execute_result"
    }
   ],
   "source": [
    "#hide_input\n",
    "#md('##### {}'.format(titleBTC)) \n",
    "md(\"- {}{} {}{} [| Skaityti daugiau]({}) \".format(ada['title'],'. ', ada['body'], ' ...', ada['url']))"
   ]
  },
  {
   "cell_type": "code",
   "execution_count": 9,
   "id": "specified-ordering",
   "metadata": {
    "execution": {
     "iopub.execute_input": "2022-07-11T03:13:20.118923Z",
     "iopub.status.busy": "2022-07-11T03:13:20.118217Z",
     "iopub.status.idle": "2022-07-11T03:13:20.122917Z",
     "shell.execute_reply": "2022-07-11T03:13:20.122341Z"
    },
    "papermill": {
     "duration": 0.023362,
     "end_time": "2022-07-11T03:13:20.123042",
     "exception": false,
     "start_time": "2022-07-11T03:13:20.099680",
     "status": "completed"
    },
    "tags": []
   },
   "outputs": [
    {
     "data": {
      "text/markdown": [
       "- Despite the Price Drop, Number of Bitcoin Held on Exchanges Continues to Slide.  Roughly 49 days ago, the number of bitcoin held on exchange was around 2.503 million, according to statistics recorded by cryptoquant.com. Since then, $4.76 billion worth of bitcoin has been removed from centralized crypto exchanges, as there&#x2019;s 2.275 million held on trading platforms today. Glassnode reported on July 5, that despite bitcoin&#x2019;s &#x201C;weak price-action through [&#8230;] ... [| Skaityti daugiau](https://news.bitcoin.com/despite-the-price-drop-number-of-bitcoin-held-on-exchanges-continues-to-slide/) "
      ],
      "text/plain": [
       "<IPython.core.display.Markdown object>"
      ]
     },
     "execution_count": 9,
     "metadata": {},
     "output_type": "execute_result"
    }
   ],
   "source": [
    "#hide_input\n",
    "#md('##### {}'.format(titleBTC)) \n",
    "md(\"- {}{} {}{} [| Skaityti daugiau]({}) \".format(exchange['title'],'. ', exchange['body'], ' ...', exchange['url']))"
   ]
  },
  {
   "cell_type": "code",
   "execution_count": null,
   "id": "tender-livestock",
   "metadata": {
    "papermill": {
     "duration": 0.013893,
     "end_time": "2022-07-11T03:13:20.151146",
     "exception": false,
     "start_time": "2022-07-11T03:13:20.137253",
     "status": "completed"
    },
    "tags": []
   },
   "outputs": [],
   "source": []
  },
  {
   "cell_type": "code",
   "execution_count": null,
   "id": "appreciated-diamond",
   "metadata": {
    "papermill": {
     "duration": 0.013589,
     "end_time": "2022-07-11T03:13:20.179109",
     "exception": false,
     "start_time": "2022-07-11T03:13:20.165520",
     "status": "completed"
    },
    "tags": []
   },
   "outputs": [],
   "source": []
  },
  {
   "cell_type": "code",
   "execution_count": null,
   "id": "romance-sweden",
   "metadata": {
    "papermill": {
     "duration": 0.014172,
     "end_time": "2022-07-11T03:13:20.207351",
     "exception": false,
     "start_time": "2022-07-11T03:13:20.193179",
     "status": "completed"
    },
    "tags": []
   },
   "outputs": [],
   "source": []
  },
  {
   "cell_type": "code",
   "execution_count": null,
   "id": "dietary-statistics",
   "metadata": {
    "papermill": {
     "duration": 0.014207,
     "end_time": "2022-07-11T03:13:20.235795",
     "exception": false,
     "start_time": "2022-07-11T03:13:20.221588",
     "status": "completed"
    },
    "tags": []
   },
   "outputs": [],
   "source": []
  }
 ],
 "metadata": {
  "kernelspec": {
   "display_name": "Python 3",
   "language": "python",
   "name": "python3"
  },
  "language_info": {
   "codemirror_mode": {
    "name": "ipython",
    "version": 3
   },
   "file_extension": ".py",
   "mimetype": "text/x-python",
   "name": "python",
   "nbconvert_exporter": "python",
   "pygments_lexer": "ipython3",
   "version": "3.6.15"
  },
  "papermill": {
   "default_parameters": {},
   "duration": 16.887892,
   "end_time": "2022-07-11T03:13:20.769666",
   "environment_variables": {},
   "exception": null,
   "input_path": "Market-News.ipynb",
   "output_path": "Market-News.ipynb",
   "parameters": {},
   "start_time": "2022-07-11T03:13:03.881774",
   "version": "2.2.2"
  }
 },
 "nbformat": 4,
 "nbformat_minor": 5
}