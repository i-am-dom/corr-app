{
 "cells": [
  {
   "cell_type": "markdown",
   "id": "short-greensboro",
   "metadata": {
    "papermill": {
     "duration": 0.015202,
     "end_time": "2022-10-02T03:48:06.669373",
     "exception": false,
     "start_time": "2022-10-02T03:48:06.654171",
     "status": "completed"
    },
    "tags": []
   },
   "source": [
    "# Kriptovaliutų naujienos"
   ]
  },
  {
   "cell_type": "code",
   "execution_count": 1,
   "id": "functioning-knowing",
   "metadata": {
    "execution": {
     "iopub.execute_input": "2022-10-02T03:48:06.703659Z",
     "iopub.status.busy": "2022-10-02T03:48:06.702848Z",
     "iopub.status.idle": "2022-10-02T03:48:08.231006Z",
     "shell.execute_reply": "2022-10-02T03:48:08.230369Z"
    },
    "papermill": {
     "duration": 1.550484,
     "end_time": "2022-10-02T03:48:08.231163",
     "exception": false,
     "start_time": "2022-10-02T03:48:06.680679",
     "status": "completed"
    },
    "tags": []
   },
   "outputs": [],
   "source": [
    "#hide_input\n",
    "import warnings\n",
    "warnings.filterwarnings('ignore')\n",
    "from scripts.read_data import read_api\n",
    "from scripts.read_data import read_news\n",
    "from scripts.read_data import read_covid\n",
    "import matplotlib.pyplot as plt \n",
    "from IPython.display import Markdown as md"
   ]
  },
  {
   "cell_type": "code",
   "execution_count": 2,
   "id": "shared-acceptance",
   "metadata": {
    "execution": {
     "iopub.execute_input": "2022-10-02T03:48:08.261224Z",
     "iopub.status.busy": "2022-10-02T03:48:08.260461Z",
     "iopub.status.idle": "2022-10-02T03:48:21.114472Z",
     "shell.execute_reply": "2022-10-02T03:48:21.113805Z"
    },
    "papermill": {
     "duration": 12.871808,
     "end_time": "2022-10-02T03:48:21.114638",
     "exception": false,
     "start_time": "2022-10-02T03:48:08.242830",
     "status": "completed"
    },
    "tags": []
   },
   "outputs": [],
   "source": [
    "#hide_input\n",
    "blockchain = read_news('blockchain') \n",
    "btc = read_news('btc') \n",
    "xrp = read_news('xrp') \n",
    "trx = read_news('trx') \n",
    "eth = read_news('eth')  \n",
    "ada = read_news('ada')\n",
    "exchange = read_news('exchange') "
   ]
  },
  {
   "cell_type": "code",
   "execution_count": 3,
   "id": "synthetic-notion",
   "metadata": {
    "execution": {
     "iopub.execute_input": "2022-10-02T03:48:21.145145Z",
     "iopub.status.busy": "2022-10-02T03:48:21.144480Z",
     "iopub.status.idle": "2022-10-02T03:48:21.152619Z",
     "shell.execute_reply": "2022-10-02T03:48:21.152095Z"
    },
    "papermill": {
     "duration": 0.025705,
     "end_time": "2022-10-02T03:48:21.152741",
     "exception": false,
     "start_time": "2022-10-02T03:48:21.127036",
     "status": "completed"
    },
    "tags": []
   },
   "outputs": [
    {
     "data": {
      "text/markdown": [
       "- The Ethereum Merge Is Successful – How Will It Impact Traders and the Global Crypto Market?.  After months of speculation, the long-awaited Ethereum (ETH) merge finally took place on September 15, 2022. The merge saw the popular blockchain network move from its hardware-based PoW (proof-of-work) model to the more environmental-friendly PoS (proof-of-stake) model. The merger will see the Ethereum blockchain reduce its carbon footprint by 99.9%, resulting in faster transactions and [&#8230;]The post The Ethereum Merge Is Successful – How Will It Impact Traders and the Global Crypto Market? appeared first on The Daily Hodl. ... [| Skaityti daugiau](https://dailyhodl.com/2022/10/01/the-ethereum-merge-is-successful-how-will-it-impact-traders-and-the-global-crypto-market/) "
      ],
      "text/plain": [
       "<IPython.core.display.Markdown object>"
      ]
     },
     "execution_count": 3,
     "metadata": {},
     "output_type": "execute_result"
    }
   ],
   "source": [
    "#hide_input\n",
    "#md('##### {}'.format(titleBTC)) \n",
    "md(\"- {}{} {}{} [| Skaityti daugiau]({}) \".format(blockchain['title'],'. ', blockchain['body'], ' ...', blockchain['url']))"
   ]
  },
  {
   "cell_type": "code",
   "execution_count": 4,
   "id": "aging-caution",
   "metadata": {
    "execution": {
     "iopub.execute_input": "2022-10-02T03:48:21.181427Z",
     "iopub.status.busy": "2022-10-02T03:48:21.180599Z",
     "iopub.status.idle": "2022-10-02T03:48:21.187699Z",
     "shell.execute_reply": "2022-10-02T03:48:21.187066Z"
    },
    "papermill": {
     "duration": 0.023776,
     "end_time": "2022-10-02T03:48:21.187845",
     "exception": false,
     "start_time": "2022-10-02T03:48:21.164069",
     "status": "completed"
    },
    "tags": []
   },
   "outputs": [
    {
     "data": {
      "text/markdown": [
       "- Five Advantages Of Using Bitcoin To Pay Rent.  Bitcoin is becoming more popular in its use as a medium of exchange. Some tenants and landlords may prefer to transact exclusively in bitcoin. ... [| Skaityti daugiau](https://bitcoinmagazine.com/business/five-advantages-of-using-bitcoin-to-pay-rent) "
      ],
      "text/plain": [
       "<IPython.core.display.Markdown object>"
      ]
     },
     "execution_count": 4,
     "metadata": {},
     "output_type": "execute_result"
    }
   ],
   "source": [
    "#hide_input\n",
    "#md('##### {}'.format(titleBTC)) \n",
    "md(\"- {}{} {}{} [| Skaityti daugiau]({}) \".format(btc['title'],'. ', btc['body'], ' ...', btc['url']))"
   ]
  },
  {
   "cell_type": "code",
   "execution_count": 5,
   "id": "organic-actress",
   "metadata": {
    "execution": {
     "iopub.execute_input": "2022-10-02T03:48:21.217574Z",
     "iopub.status.busy": "2022-10-02T03:48:21.216720Z",
     "iopub.status.idle": "2022-10-02T03:48:21.221314Z",
     "shell.execute_reply": "2022-10-02T03:48:21.220749Z"
    },
    "papermill": {
     "duration": 0.021067,
     "end_time": "2022-10-02T03:48:21.221462",
     "exception": false,
     "start_time": "2022-10-02T03:48:21.200395",
     "status": "completed"
    },
    "tags": []
   },
   "outputs": [
    {
     "data": {
      "text/markdown": [
       "- Astronomical Price Surges Envisioned For XRP Following Outcome Of SEC Legal Brawl With Ripple.  The Securities and Exchange Commission (SEC)'s case with Ripple Labs has taken several twists in the last 20 months, with many going Ripple’s ways. ... [| Skaityti daugiau](https://zycrypto.com/astronomical-price-surges-envisioned-for-xrp-following-outcome-of-sec-legal-brawl-with-ripple/) "
      ],
      "text/plain": [
       "<IPython.core.display.Markdown object>"
      ]
     },
     "execution_count": 5,
     "metadata": {},
     "output_type": "execute_result"
    }
   ],
   "source": [
    "#hide_input\n",
    "#md('##### {}'.format(titleBTC)) \n",
    "md(\"- {}{} {}{} [| Skaityti daugiau]({}) \".format(xrp['title'],'. ', xrp['body'], ' ...', xrp['url']))"
   ]
  },
  {
   "cell_type": "code",
   "execution_count": 6,
   "id": "prompt-farmer",
   "metadata": {
    "execution": {
     "iopub.execute_input": "2022-10-02T03:48:21.252984Z",
     "iopub.status.busy": "2022-10-02T03:48:21.252268Z",
     "iopub.status.idle": "2022-10-02T03:48:21.256738Z",
     "shell.execute_reply": "2022-10-02T03:48:21.256184Z"
    },
    "papermill": {
     "duration": 0.02233,
     "end_time": "2022-10-02T03:48:21.256880",
     "exception": false,
     "start_time": "2022-10-02T03:48:21.234550",
     "status": "completed"
    },
    "tags": []
   },
   "outputs": [
    {
     "data": {
      "text/markdown": [
       "- Gas-Free TRC-20 Transactions on Guarda Wallet.  Guarda&#8217;s team has worked to improve the validators&#8217; fees to increase the APY received while staking the TRX. The TRX token is among the popular assets available on Guarda Wallet for staking to earn passive income. The APY of Tron is around 4%. So you can just delegate your asset to Guarda’s validator nodes. Brief [&#8230;]The post Gas-Free TRC-20 Transactions on Guarda Wallet appeared first on Blockchain, Crypto and Stock News. ... [| Skaityti daugiau](https://thecoinrise.com/gas-free-trc-20-transactions-on-guarda-wallet/) "
      ],
      "text/plain": [
       "<IPython.core.display.Markdown object>"
      ]
     },
     "execution_count": 6,
     "metadata": {},
     "output_type": "execute_result"
    }
   ],
   "source": [
    "#hide_input\n",
    "#md('##### {}'.format(titleBTC)) \n",
    "md(\"- {}{} {}{} [| Skaityti daugiau]({}) \".format(trx['title'],'. ', trx['body'], ' ...', trx['url']))"
   ]
  },
  {
   "cell_type": "code",
   "execution_count": 7,
   "id": "illegal-greece",
   "metadata": {
    "execution": {
     "iopub.execute_input": "2022-10-02T03:48:21.289083Z",
     "iopub.status.busy": "2022-10-02T03:48:21.288316Z",
     "iopub.status.idle": "2022-10-02T03:48:21.293280Z",
     "shell.execute_reply": "2022-10-02T03:48:21.292644Z"
    },
    "papermill": {
     "duration": 0.023785,
     "end_time": "2022-10-02T03:48:21.293408",
     "exception": false,
     "start_time": "2022-10-02T03:48:21.269623",
     "status": "completed"
    },
    "tags": []
   },
   "outputs": [
    {
     "data": {
      "text/markdown": [
       "- The Ethereum Merge Is Successful – How Will It Impact Traders and the Global Crypto Market?.  After months of speculation, the long-awaited Ethereum (ETH) merge finally took place on September 15, 2022. The merge saw the popular blockchain network move from its hardware-based PoW (proof-of-work) model to the more environmental-friendly PoS (proof-of-stake) model. The merger will see the Ethereum blockchain reduce its carbon footprint by 99.9%, resulting in faster transactions and [&#8230;]The post The Ethereum Merge Is Successful – How Will It Impact Traders and the Global Crypto Market? appeared first on The Daily Hodl. ... [| Skaityti daugiau](https://dailyhodl.com/2022/10/01/the-ethereum-merge-is-successful-how-will-it-impact-traders-and-the-global-crypto-market/) "
      ],
      "text/plain": [
       "<IPython.core.display.Markdown object>"
      ]
     },
     "execution_count": 7,
     "metadata": {},
     "output_type": "execute_result"
    }
   ],
   "source": [
    "#hide_input\n",
    "#md('##### {}'.format(titleBTC)) \n",
    "md(\"- {}{} {}{} [| Skaityti daugiau]({}) \".format(eth['title'],'. ', eth['body'], ' ...', eth['url']))"
   ]
  },
  {
   "cell_type": "code",
   "execution_count": 8,
   "id": "sublime-lounge",
   "metadata": {
    "execution": {
     "iopub.execute_input": "2022-10-02T03:48:21.327609Z",
     "iopub.status.busy": "2022-10-02T03:48:21.326844Z",
     "iopub.status.idle": "2022-10-02T03:48:21.331549Z",
     "shell.execute_reply": "2022-10-02T03:48:21.330897Z"
    },
    "papermill": {
     "duration": 0.024228,
     "end_time": "2022-10-02T03:48:21.331676",
     "exception": false,
     "start_time": "2022-10-02T03:48:21.307448",
     "status": "completed"
    },
    "tags": []
   },
   "outputs": [
    {
     "data": {
      "text/markdown": [
       "- Cardano (ADA) Price Analysis for October 1.  Does Cardano (ADA) have power to bounce back? ... [| Skaityti daugiau](https://u.today/cardano-ada-price-analysis-for-october-1-0) "
      ],
      "text/plain": [
       "<IPython.core.display.Markdown object>"
      ]
     },
     "execution_count": 8,
     "metadata": {},
     "output_type": "execute_result"
    }
   ],
   "source": [
    "#hide_input\n",
    "#md('##### {}'.format(titleBTC)) \n",
    "md(\"- {}{} {}{} [| Skaityti daugiau]({}) \".format(ada['title'],'. ', ada['body'], ' ...', ada['url']))"
   ]
  },
  {
   "cell_type": "code",
   "execution_count": 9,
   "id": "specified-ordering",
   "metadata": {
    "execution": {
     "iopub.execute_input": "2022-10-02T03:48:21.365841Z",
     "iopub.status.busy": "2022-10-02T03:48:21.365086Z",
     "iopub.status.idle": "2022-10-02T03:48:21.369567Z",
     "shell.execute_reply": "2022-10-02T03:48:21.369004Z"
    },
    "papermill": {
     "duration": 0.024476,
     "end_time": "2022-10-02T03:48:21.369681",
     "exception": false,
     "start_time": "2022-10-02T03:48:21.345205",
     "status": "completed"
    },
    "tags": []
   },
   "outputs": [
    {
     "data": {
      "text/markdown": [
       "- Five Advantages Of Using Bitcoin To Pay Rent.  Bitcoin is becoming more popular in its use as a medium of exchange. Some tenants and landlords may prefer to transact exclusively in bitcoin. ... [| Skaityti daugiau](https://bitcoinmagazine.com/business/five-advantages-of-using-bitcoin-to-pay-rent) "
      ],
      "text/plain": [
       "<IPython.core.display.Markdown object>"
      ]
     },
     "execution_count": 9,
     "metadata": {},
     "output_type": "execute_result"
    }
   ],
   "source": [
    "#hide_input\n",
    "#md('##### {}'.format(titleBTC)) \n",
    "md(\"- {}{} {}{} [| Skaityti daugiau]({}) \".format(exchange['title'],'. ', exchange['body'], ' ...', exchange['url']))"
   ]
  },
  {
   "cell_type": "code",
   "execution_count": null,
   "id": "tender-livestock",
   "metadata": {
    "papermill": {
     "duration": 0.01351,
     "end_time": "2022-10-02T03:48:21.396891",
     "exception": false,
     "start_time": "2022-10-02T03:48:21.383381",
     "status": "completed"
    },
    "tags": []
   },
   "outputs": [],
   "source": []
  },
  {
   "cell_type": "code",
   "execution_count": null,
   "id": "appreciated-diamond",
   "metadata": {
    "papermill": {
     "duration": 0.013265,
     "end_time": "2022-10-02T03:48:21.427703",
     "exception": false,
     "start_time": "2022-10-02T03:48:21.414438",
     "status": "completed"
    },
    "tags": []
   },
   "outputs": [],
   "source": []
  },
  {
   "cell_type": "code",
   "execution_count": null,
   "id": "romance-sweden",
   "metadata": {
    "papermill": {
     "duration": 0.013746,
     "end_time": "2022-10-02T03:48:21.454721",
     "exception": false,
     "start_time": "2022-10-02T03:48:21.440975",
     "status": "completed"
    },
    "tags": []
   },
   "outputs": [],
   "source": []
  },
  {
   "cell_type": "code",
   "execution_count": null,
   "id": "dietary-statistics",
   "metadata": {
    "papermill": {
     "duration": 0.013917,
     "end_time": "2022-10-02T03:48:21.481945",
     "exception": false,
     "start_time": "2022-10-02T03:48:21.468028",
     "status": "completed"
    },
    "tags": []
   },
   "outputs": [],
   "source": []
  }
 ],
 "metadata": {
  "kernelspec": {
   "display_name": "Python 3",
   "language": "python",
   "name": "python3"
  },
  "language_info": {
   "codemirror_mode": {
    "name": "ipython",
    "version": 3
   },
   "file_extension": ".py",
   "mimetype": "text/x-python",
   "name": "python",
   "nbconvert_exporter": "python",
   "pygments_lexer": "ipython3",
   "version": "3.6.15"
  },
  "papermill": {
   "default_parameters": {},
   "duration": 16.640311,
   "end_time": "2022-10-02T03:48:22.015515",
   "environment_variables": {},
   "exception": null,
   "input_path": "Market-News.ipynb",
   "output_path": "Market-News.ipynb",
   "parameters": {},
   "start_time": "2022-10-02T03:48:05.375204",
   "version": "2.2.2"
  }
 },
 "nbformat": 4,
 "nbformat_minor": 5
}