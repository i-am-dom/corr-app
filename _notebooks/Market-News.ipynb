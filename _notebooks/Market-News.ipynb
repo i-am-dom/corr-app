{
 "cells": [
  {
   "cell_type": "markdown",
   "id": "short-greensboro",
   "metadata": {
    "papermill": {
     "duration": 0.018249,
     "end_time": "2021-08-26T01:53:55.129303",
     "exception": false,
     "start_time": "2021-08-26T01:53:55.111054",
     "status": "completed"
    },
    "tags": []
   },
   "source": [
    "# Kriptovaliutų naujienos"
   ]
  },
  {
   "cell_type": "code",
   "execution_count": 1,
   "id": "functioning-knowing",
   "metadata": {
    "execution": {
     "iopub.execute_input": "2021-08-26T01:53:55.161248Z",
     "iopub.status.busy": "2021-08-26T01:53:55.160623Z",
     "iopub.status.idle": "2021-08-26T01:53:56.517349Z",
     "shell.execute_reply": "2021-08-26T01:53:56.516261Z"
    },
    "papermill": {
     "duration": 1.376378,
     "end_time": "2021-08-26T01:53:56.517533",
     "exception": false,
     "start_time": "2021-08-26T01:53:55.141155",
     "status": "completed"
    },
    "tags": []
   },
   "outputs": [],
   "source": [
    "#hide_input\n",
    "import warnings\n",
    "warnings.filterwarnings('ignore')\n",
    "from scripts.read_data import read_api\n",
    "from scripts.read_data import read_news\n",
    "from scripts.read_data import read_covid\n",
    "import matplotlib.pyplot as plt \n",
    "from IPython.display import Markdown as md"
   ]
  },
  {
   "cell_type": "code",
   "execution_count": 2,
   "id": "shared-acceptance",
   "metadata": {
    "execution": {
     "iopub.execute_input": "2021-08-26T01:53:56.546253Z",
     "iopub.status.busy": "2021-08-26T01:53:56.544778Z",
     "iopub.status.idle": "2021-08-26T01:54:06.349441Z",
     "shell.execute_reply": "2021-08-26T01:54:06.348575Z"
    },
    "papermill": {
     "duration": 9.821635,
     "end_time": "2021-08-26T01:54:06.349698",
     "exception": false,
     "start_time": "2021-08-26T01:53:56.528063",
     "status": "completed"
    },
    "tags": []
   },
   "outputs": [],
   "source": [
    "#hide_input\n",
    "blockchain = read_news('blockchain') \n",
    "btc = read_news('btc') \n",
    "xrp = read_news('xrp') \n",
    "trx = read_news('trx') \n",
    "eth = read_news('eth')  \n",
    "ada = read_news('ada')\n",
    "exchange = read_news('exchange') "
   ]
  },
  {
   "cell_type": "code",
   "execution_count": 3,
   "id": "synthetic-notion",
   "metadata": {
    "execution": {
     "iopub.execute_input": "2021-08-26T01:54:06.386692Z",
     "iopub.status.busy": "2021-08-26T01:54:06.386072Z",
     "iopub.status.idle": "2021-08-26T01:54:06.388466Z",
     "shell.execute_reply": "2021-08-26T01:54:06.388963Z"
    },
    "papermill": {
     "duration": 0.026944,
     "end_time": "2021-08-26T01:54:06.389105",
     "exception": false,
     "start_time": "2021-08-26T01:54:06.362161",
     "status": "completed"
    },
    "tags": []
   },
   "outputs": [
    {
     "data": {
      "text/markdown": [
       "- Court Says Coins From Bitcoin SV Hack Can’t Be Transferred.  Crypto exchange Bitmart won an injunction against the alleged hackers behind a July attack on the Bitcoin SV blockchain. ... [| Skaityti daugiau](https://decrypt.co/79436/court-says-coins-bitcoin-sv-hack-cant-be-transferred) "
      ],
      "text/plain": [
       "<IPython.core.display.Markdown object>"
      ]
     },
     "execution_count": 3,
     "metadata": {},
     "output_type": "execute_result"
    }
   ],
   "source": [
    "#hide_input\n",
    "#md('##### {}'.format(titleBTC)) \n",
    "md(\"- {}{} {}{} [| Skaityti daugiau]({}) \".format(blockchain['title'],'. ', blockchain['body'], ' ...', blockchain['url']))"
   ]
  },
  {
   "cell_type": "code",
   "execution_count": 4,
   "id": "aging-caution",
   "metadata": {
    "execution": {
     "iopub.execute_input": "2021-08-26T01:54:06.416475Z",
     "iopub.status.busy": "2021-08-26T01:54:06.415874Z",
     "iopub.status.idle": "2021-08-26T01:54:06.419185Z",
     "shell.execute_reply": "2021-08-26T01:54:06.418688Z"
    },
    "papermill": {
     "duration": 0.018934,
     "end_time": "2021-08-26T01:54:06.419314",
     "exception": false,
     "start_time": "2021-08-26T01:54:06.400380",
     "status": "completed"
    },
    "tags": []
   },
   "outputs": [
    {
     "data": {
      "text/markdown": [
       "- Are Coinbase shares an indirect way for institutions to invest in Bitcoin and other cryptos.  The flow of institutional investment into the Bitcoin and cryptocurrency industry was a welcome change that marked the previous year. With industry behemoths like Microstrategy and Tesla going bullish on Bitcoin, there was no stopping other institutions to follow suit. However, one deterrent to direct big-ticket institutional investment into Bitcoin has been its price volatility [&#8230;] ... [| Skaityti daugiau](https://ambcrypto.com/can-jp-morgans-coinbase-shares-change-the-way-institutions-invest-in-bitcoin/) "
      ],
      "text/plain": [
       "<IPython.core.display.Markdown object>"
      ]
     },
     "execution_count": 4,
     "metadata": {},
     "output_type": "execute_result"
    }
   ],
   "source": [
    "#hide_input\n",
    "#md('##### {}'.format(titleBTC)) \n",
    "md(\"- {}{} {}{} [| Skaityti daugiau]({}) \".format(btc['title'],'. ', btc['body'], ' ...', btc['url']))"
   ]
  },
  {
   "cell_type": "code",
   "execution_count": 5,
   "id": "organic-actress",
   "metadata": {
    "execution": {
     "iopub.execute_input": "2021-08-26T01:54:06.447498Z",
     "iopub.status.busy": "2021-08-26T01:54:06.446904Z",
     "iopub.status.idle": "2021-08-26T01:54:06.449727Z",
     "shell.execute_reply": "2021-08-26T01:54:06.450232Z"
    },
    "papermill": {
     "duration": 0.020141,
     "end_time": "2021-08-26T01:54:06.450370",
     "exception": false,
     "start_time": "2021-08-26T01:54:06.430229",
     "status": "completed"
    },
    "tags": []
   },
   "outputs": [
    {
     "data": {
      "text/markdown": [
       "- Will August 31st be a catalyst for XRP Price?.  The post Will August 31st be a catalyst for XRP Price? appeared first on Coinpedia - Fintech &amp; Cryptocurreny News Media| Crypto Guide After the market&#8217;s dramatic reversal, XRP has declined by 8% in the last 24 hours. It dropped from $1.25 to $1.14. Further, XRP fell as low as $1.12 breaking below the ascending price channel. Currently the token is recovering losses. It is trading at $1.17. Looking ahead, the immediate resistance is at $1.25. Subsequently &#8230; ... [| Skaityti daugiau](https://coinpedia.org/ripple/will-august-31st-be-a-catalyst-for-xrp-price/) "
      ],
      "text/plain": [
       "<IPython.core.display.Markdown object>"
      ]
     },
     "execution_count": 5,
     "metadata": {},
     "output_type": "execute_result"
    }
   ],
   "source": [
    "#hide_input\n",
    "#md('##### {}'.format(titleBTC)) \n",
    "md(\"- {}{} {}{} [| Skaityti daugiau]({}) \".format(xrp['title'],'. ', xrp['body'], ' ...', xrp['url']))"
   ]
  },
  {
   "cell_type": "code",
   "execution_count": 6,
   "id": "prompt-farmer",
   "metadata": {
    "execution": {
     "iopub.execute_input": "2021-08-26T01:54:06.479580Z",
     "iopub.status.busy": "2021-08-26T01:54:06.478968Z",
     "iopub.status.idle": "2021-08-26T01:54:06.484462Z",
     "shell.execute_reply": "2021-08-26T01:54:06.485031Z"
    },
    "papermill": {
     "duration": 0.023479,
     "end_time": "2021-08-26T01:54:06.485178",
     "exception": false,
     "start_time": "2021-08-26T01:54:06.461699",
     "status": "completed"
    },
    "tags": []
   },
   "outputs": [
    {
     "data": {
      "text/markdown": [
       "- TRON and Shopping.io Partner Enabling TRX for E-Commerce.  August 25, 2021 – Singapore, Singapore Shopping.io is continuing its trend of collaborating with the biggest names in the industry, quickly solidifying its place as the one-stop e-commerce shop for crypto holders. The company’s newest collaboration is with TRON, one of the world’s largest and most popular blockchain-based operating systems. TRON uses the features of the [&#8230;]The post TRON and Shopping.io Partner Enabling TRX for E-Commerce appeared first on The Daily Hodl. ... [| Skaityti daugiau](https://dailyhodl.com/2021/08/25/tron-and-shopping-io-partner-enabling-trx-for-e-commerce/) "
      ],
      "text/plain": [
       "<IPython.core.display.Markdown object>"
      ]
     },
     "execution_count": 6,
     "metadata": {},
     "output_type": "execute_result"
    }
   ],
   "source": [
    "#hide_input\n",
    "#md('##### {}'.format(titleBTC)) \n",
    "md(\"- {}{} {}{} [| Skaityti daugiau]({}) \".format(trx['title'],'. ', trx['body'], ' ...', trx['url']))"
   ]
  },
  {
   "cell_type": "code",
   "execution_count": 7,
   "id": "illegal-greece",
   "metadata": {
    "execution": {
     "iopub.execute_input": "2021-08-26T01:54:06.520956Z",
     "iopub.status.busy": "2021-08-26T01:54:06.520337Z",
     "iopub.status.idle": "2021-08-26T01:54:06.523569Z",
     "shell.execute_reply": "2021-08-26T01:54:06.523073Z"
    },
    "papermill": {
     "duration": 0.020869,
     "end_time": "2021-08-26T01:54:06.523692",
     "exception": false,
     "start_time": "2021-08-26T01:54:06.502823",
     "status": "completed"
    },
    "tags": []
   },
   "outputs": [
    {
     "data": {
      "text/markdown": [
       "- Big boost for Ethereum Name Service (ENS) as Budweiser buys beer.eth.  Budweiser, the self-proclaimed &#8220;King of Beers,&#8221; looks to Ethereum in a bid to go crypto. The post Big boost for Ethereum Name Service (ENS) as Budweiser buys beer.eth appeared first on CryptoSlate. ... [| Skaityti daugiau](https://cryptoslate.com/big-boost-for-ethereum-name-service-ens-as-budweiser-buys-beer-eth/) "
      ],
      "text/plain": [
       "<IPython.core.display.Markdown object>"
      ]
     },
     "execution_count": 7,
     "metadata": {},
     "output_type": "execute_result"
    }
   ],
   "source": [
    "#hide_input\n",
    "#md('##### {}'.format(titleBTC)) \n",
    "md(\"- {}{} {}{} [| Skaityti daugiau]({}) \".format(eth['title'],'. ', eth['body'], ' ...', eth['url']))"
   ]
  },
  {
   "cell_type": "code",
   "execution_count": 8,
   "id": "sublime-lounge",
   "metadata": {
    "execution": {
     "iopub.execute_input": "2021-08-26T01:54:06.554431Z",
     "iopub.status.busy": "2021-08-26T01:54:06.553833Z",
     "iopub.status.idle": "2021-08-26T01:54:06.557669Z",
     "shell.execute_reply": "2021-08-26T01:54:06.557167Z"
    },
    "papermill": {
     "duration": 0.02147,
     "end_time": "2021-08-26T01:54:06.557799",
     "exception": false,
     "start_time": "2021-08-26T01:54:06.536329",
     "status": "completed"
    },
    "tags": []
   },
   "outputs": [
    {
     "data": {
      "text/markdown": [
       "- Cardano’s First Regulatory Compliance Solution Launches, Igniting Hopes for $ADA’s ‘Mass Adoption’.  The first analytics/compliance solution for the Cardano network has gone live after the Cardano Foundation, a Swiss-based non-profit foundation that oversees the advancement of the cryptocurrency, selected blockchain analytics firm Confirm to deploy anti-money laundering and combating the financing of terrorism (AML/CFT) analytics on it. According to a press release, the partnership will allow the […] ... [| Skaityti daugiau](https://www.cryptoglobe.com/latest/2021/08/cardanos-first-regulatory-compliance-solution-launches-igniting-hopes-for-adas-mass-adoption/) "
      ],
      "text/plain": [
       "<IPython.core.display.Markdown object>"
      ]
     },
     "execution_count": 8,
     "metadata": {},
     "output_type": "execute_result"
    }
   ],
   "source": [
    "#hide_input\n",
    "#md('##### {}'.format(titleBTC)) \n",
    "md(\"- {}{} {}{} [| Skaityti daugiau]({}) \".format(ada['title'],'. ', ada['body'], ' ...', ada['url']))"
   ]
  },
  {
   "cell_type": "code",
   "execution_count": 9,
   "id": "specified-ordering",
   "metadata": {
    "execution": {
     "iopub.execute_input": "2021-08-26T01:54:06.589099Z",
     "iopub.status.busy": "2021-08-26T01:54:06.588494Z",
     "iopub.status.idle": "2021-08-26T01:54:06.590825Z",
     "shell.execute_reply": "2021-08-26T01:54:06.591324Z"
    },
    "papermill": {
     "duration": 0.021268,
     "end_time": "2021-08-26T01:54:06.591468",
     "exception": false,
     "start_time": "2021-08-26T01:54:06.570200",
     "status": "completed"
    },
    "tags": []
   },
   "outputs": [
    {
     "data": {
      "text/markdown": [
       "- Court Says Coins From Bitcoin SV Hack Can’t Be Transferred.  Crypto exchange Bitmart won an injunction against the alleged hackers behind a July attack on the Bitcoin SV blockchain. ... [| Skaityti daugiau](https://decrypt.co/79436/court-says-coins-bitcoin-sv-hack-cant-be-transferred) "
      ],
      "text/plain": [
       "<IPython.core.display.Markdown object>"
      ]
     },
     "execution_count": 9,
     "metadata": {},
     "output_type": "execute_result"
    }
   ],
   "source": [
    "#hide_input\n",
    "#md('##### {}'.format(titleBTC)) \n",
    "md(\"- {}{} {}{} [| Skaityti daugiau]({}) \".format(exchange['title'],'. ', exchange['body'], ' ...', exchange['url']))"
   ]
  },
  {
   "cell_type": "code",
   "execution_count": null,
   "id": "tender-livestock",
   "metadata": {
    "papermill": {
     "duration": 0.013141,
     "end_time": "2021-08-26T01:54:06.624174",
     "exception": false,
     "start_time": "2021-08-26T01:54:06.611033",
     "status": "completed"
    },
    "tags": []
   },
   "outputs": [],
   "source": []
  },
  {
   "cell_type": "code",
   "execution_count": null,
   "id": "appreciated-diamond",
   "metadata": {
    "papermill": {
     "duration": 0.01294,
     "end_time": "2021-08-26T01:54:06.650210",
     "exception": false,
     "start_time": "2021-08-26T01:54:06.637270",
     "status": "completed"
    },
    "tags": []
   },
   "outputs": [],
   "source": []
  },
  {
   "cell_type": "code",
   "execution_count": null,
   "id": "romance-sweden",
   "metadata": {
    "papermill": {
     "duration": 0.013119,
     "end_time": "2021-08-26T01:54:06.677130",
     "exception": false,
     "start_time": "2021-08-26T01:54:06.664011",
     "status": "completed"
    },
    "tags": []
   },
   "outputs": [],
   "source": []
  },
  {
   "cell_type": "code",
   "execution_count": null,
   "id": "dietary-statistics",
   "metadata": {
    "papermill": {
     "duration": 0.013306,
     "end_time": "2021-08-26T01:54:06.703969",
     "exception": false,
     "start_time": "2021-08-26T01:54:06.690663",
     "status": "completed"
    },
    "tags": []
   },
   "outputs": [],
   "source": []
  }
 ],
 "metadata": {
  "kernelspec": {
   "display_name": "Python 3",
   "language": "python",
   "name": "python3"
  },
  "language_info": {
   "codemirror_mode": {
    "name": "ipython",
    "version": 3
   },
   "file_extension": ".py",
   "mimetype": "text/x-python",
   "name": "python",
   "nbconvert_exporter": "python",
   "pygments_lexer": "ipython3",
   "version": "3.6.14"
  },
  "papermill": {
   "default_parameters": {},
   "duration": 13.185105,
   "end_time": "2021-08-26T01:54:07.228821",
   "environment_variables": {},
   "exception": null,
   "input_path": "Market-News.ipynb",
   "output_path": "Market-News.ipynb",
   "parameters": {},
   "start_time": "2021-08-26T01:53:54.043716",
   "version": "2.2.2"
  }
 },
 "nbformat": 4,
 "nbformat_minor": 5
}