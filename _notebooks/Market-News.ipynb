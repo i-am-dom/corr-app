{
 "cells": [
  {
   "cell_type": "markdown",
   "id": "short-greensboro",
   "metadata": {
    "papermill": {
     "duration": 0.017283,
     "end_time": "2022-06-06T02:58:38.978259",
     "exception": false,
     "start_time": "2022-06-06T02:58:38.960976",
     "status": "completed"
    },
    "tags": []
   },
   "source": [
    "# Kriptovaliutų naujienos"
   ]
  },
  {
   "cell_type": "code",
   "execution_count": 1,
   "id": "functioning-knowing",
   "metadata": {
    "execution": {
     "iopub.execute_input": "2022-06-06T02:58:39.012482Z",
     "iopub.status.busy": "2022-06-06T02:58:39.011399Z",
     "iopub.status.idle": "2022-06-06T02:58:40.441360Z",
     "shell.execute_reply": "2022-06-06T02:58:40.440713Z"
    },
    "papermill": {
     "duration": 1.452231,
     "end_time": "2022-06-06T02:58:40.441519",
     "exception": false,
     "start_time": "2022-06-06T02:58:38.989288",
     "status": "completed"
    },
    "tags": []
   },
   "outputs": [],
   "source": [
    "#hide_input\n",
    "import warnings\n",
    "warnings.filterwarnings('ignore')\n",
    "from scripts.read_data import read_api\n",
    "from scripts.read_data import read_news\n",
    "from scripts.read_data import read_covid\n",
    "import matplotlib.pyplot as plt \n",
    "from IPython.display import Markdown as md"
   ]
  },
  {
   "cell_type": "code",
   "execution_count": 2,
   "id": "shared-acceptance",
   "metadata": {
    "execution": {
     "iopub.execute_input": "2022-06-06T02:58:40.471410Z",
     "iopub.status.busy": "2022-06-06T02:58:40.470255Z",
     "iopub.status.idle": "2022-06-06T02:58:50.592897Z",
     "shell.execute_reply": "2022-06-06T02:58:50.591399Z"
    },
    "papermill": {
     "duration": 10.14111,
     "end_time": "2022-06-06T02:58:50.593058",
     "exception": false,
     "start_time": "2022-06-06T02:58:40.451948",
     "status": "completed"
    },
    "tags": []
   },
   "outputs": [],
   "source": [
    "#hide_input\n",
    "blockchain = read_news('blockchain') \n",
    "btc = read_news('btc') \n",
    "xrp = read_news('xrp') \n",
    "trx = read_news('trx') \n",
    "eth = read_news('eth')  \n",
    "ada = read_news('ada')\n",
    "exchange = read_news('exchange') "
   ]
  },
  {
   "cell_type": "code",
   "execution_count": 3,
   "id": "synthetic-notion",
   "metadata": {
    "execution": {
     "iopub.execute_input": "2022-06-06T02:58:50.624232Z",
     "iopub.status.busy": "2022-06-06T02:58:50.623417Z",
     "iopub.status.idle": "2022-06-06T02:58:50.627423Z",
     "shell.execute_reply": "2022-06-06T02:58:50.626902Z"
    },
    "papermill": {
     "duration": 0.022463,
     "end_time": "2022-06-06T02:58:50.627565",
     "exception": false,
     "start_time": "2022-06-06T02:58:50.605102",
     "status": "completed"
    },
    "tags": []
   },
   "outputs": [
    {
     "data": {
      "text/markdown": [
       "- Indian Government to Release Guidelines for Certain Crypto-Related Taxations: Report.  While no major relief in tax rates is under consideration, exemptions from crypto taxes may be granted to healthcare businesses using blockchain technology. ... [| Skaityti daugiau](https://cryptopotato.com/indian-government-to-release-guidelines-for-certain-crypto-related-taxations-report/) "
      ],
      "text/plain": [
       "<IPython.core.display.Markdown object>"
      ]
     },
     "execution_count": 3,
     "metadata": {},
     "output_type": "execute_result"
    }
   ],
   "source": [
    "#hide_input\n",
    "#md('##### {}'.format(titleBTC)) \n",
    "md(\"- {}{} {}{} [| Skaityti daugiau]({}) \".format(blockchain['title'],'. ', blockchain['body'], ' ...', blockchain['url']))"
   ]
  },
  {
   "cell_type": "code",
   "execution_count": 4,
   "id": "aging-caution",
   "metadata": {
    "execution": {
     "iopub.execute_input": "2022-06-06T02:58:50.654256Z",
     "iopub.status.busy": "2022-06-06T02:58:50.653569Z",
     "iopub.status.idle": "2022-06-06T02:58:50.657353Z",
     "shell.execute_reply": "2022-06-06T02:58:50.656667Z"
    },
    "papermill": {
     "duration": 0.019434,
     "end_time": "2022-06-06T02:58:50.657477",
     "exception": false,
     "start_time": "2022-06-06T02:58:50.638043",
     "status": "completed"
    },
    "tags": []
   },
   "outputs": [
    {
     "data": {
      "text/markdown": [
       "- 37% of Survey Participants Want Bitcoin Legalized Inside Their Countries.  37% of the respondents wish BTC or other crypto assets could serve as an official means of payment in their countries. ... [| Skaityti daugiau](https://cryptopotato.com/37-of-survey-participants-want-bitcoin-legalized-inside-their-countries/) "
      ],
      "text/plain": [
       "<IPython.core.display.Markdown object>"
      ]
     },
     "execution_count": 4,
     "metadata": {},
     "output_type": "execute_result"
    }
   ],
   "source": [
    "#hide_input\n",
    "#md('##### {}'.format(titleBTC)) \n",
    "md(\"- {}{} {}{} [| Skaityti daugiau]({}) \".format(btc['title'],'. ', btc['body'], ' ...', btc['url']))"
   ]
  },
  {
   "cell_type": "code",
   "execution_count": 5,
   "id": "organic-actress",
   "metadata": {
    "execution": {
     "iopub.execute_input": "2022-06-06T02:58:50.685558Z",
     "iopub.status.busy": "2022-06-06T02:58:50.684814Z",
     "iopub.status.idle": "2022-06-06T02:58:50.688843Z",
     "shell.execute_reply": "2022-06-06T02:58:50.689375Z"
    },
    "papermill": {
     "duration": 0.021455,
     "end_time": "2022-06-06T02:58:50.689520",
     "exception": false,
     "start_time": "2022-06-06T02:58:50.668065",
     "status": "completed"
    },
    "tags": []
   },
   "outputs": [
    {
     "data": {
      "text/markdown": [
       "- Former Developer Advocate at Ripple: It Is Possible for $XRP to One Day Hit $100.  On Sunday (June 5), Matt Hamilton, who is currently Director of Developer Relations at Bittensor, said that he could envision the price of digital asset $XRP one day reaching $100. Between February 2021 and September 2021, Hamilton worked at Ripple as Director of Developer Relations, and between September 2021 and March 2022, he was the Californian […] ... [| Skaityti daugiau](https://www.cryptoglobe.com/latest/2022/06/former-developer-advocate-at-ripple-it-is-possible-for-xrp-to-one-day-hit-100/) "
      ],
      "text/plain": [
       "<IPython.core.display.Markdown object>"
      ]
     },
     "execution_count": 5,
     "metadata": {},
     "output_type": "execute_result"
    }
   ],
   "source": [
    "#hide_input\n",
    "#md('##### {}'.format(titleBTC)) \n",
    "md(\"- {}{} {}{} [| Skaityti daugiau]({}) \".format(xrp['title'],'. ', xrp['body'], ' ...', xrp['url']))"
   ]
  },
  {
   "cell_type": "code",
   "execution_count": 6,
   "id": "prompt-farmer",
   "metadata": {
    "execution": {
     "iopub.execute_input": "2022-06-06T02:58:50.718486Z",
     "iopub.status.busy": "2022-06-06T02:58:50.717013Z",
     "iopub.status.idle": "2022-06-06T02:58:50.722159Z",
     "shell.execute_reply": "2022-06-06T02:58:50.721614Z"
    },
    "papermill": {
     "duration": 0.021549,
     "end_time": "2022-06-06T02:58:50.722282",
     "exception": false,
     "start_time": "2022-06-06T02:58:50.700733",
     "status": "completed"
    },
    "tags": []
   },
   "outputs": [
    {
     "data": {
      "text/markdown": [
       "- How did Tron [TRX] manage to outdo BTC, ETH & SHIB in profitability since June 2021.  Tron [TRX] has a lot to its credit. The token, after suddenly being in the news for the last couple of weeks, has not managed to mark its presence by making some other significant moves in the ongoing bear market. While every other top 20 cryptocurrency holders are suffering losses, Tron holders are enjoying profits [&#8230;] ... [| Skaityti daugiau](https://ambcrypto.com/how-did-tron-trx-manage-to-outdo-btc-eth-shib-in-profitability-since-june-2021/) "
      ],
      "text/plain": [
       "<IPython.core.display.Markdown object>"
      ]
     },
     "execution_count": 6,
     "metadata": {},
     "output_type": "execute_result"
    }
   ],
   "source": [
    "#hide_input\n",
    "#md('##### {}'.format(titleBTC)) \n",
    "md(\"- {}{} {}{} [| Skaityti daugiau]({}) \".format(trx['title'],'. ', trx['body'], ' ...', trx['url']))"
   ]
  },
  {
   "cell_type": "code",
   "execution_count": 7,
   "id": "illegal-greece",
   "metadata": {
    "execution": {
     "iopub.execute_input": "2022-06-06T02:58:50.752461Z",
     "iopub.status.busy": "2022-06-06T02:58:50.751733Z",
     "iopub.status.idle": "2022-06-06T02:58:50.759923Z",
     "shell.execute_reply": "2022-06-06T02:58:50.759307Z"
    },
    "papermill": {
     "duration": 0.025964,
     "end_time": "2022-06-06T02:58:50.760065",
     "exception": false,
     "start_time": "2022-06-06T02:58:50.734101",
     "status": "completed"
    },
    "tags": []
   },
   "outputs": [
    {
     "data": {
      "text/markdown": [
       "- Bored Apes Creator Trolls Discord After 200 ETH Worth Of NFTs Stolen In Another Hack.  Several Discord servers, including that of the Bored Ape Yacht Club, were recently compromised. Scammers appear to have swindled NFTs worth around 200 Ethereum — and one creator of the popular BAYC collection isn’t happy. ... [| Skaityti daugiau](https://zycrypto.com/bored-apes-creator-trolls-discord-after-200-eth-worth-of-nfts-stolen-in-another-hack/) "
      ],
      "text/plain": [
       "<IPython.core.display.Markdown object>"
      ]
     },
     "execution_count": 7,
     "metadata": {},
     "output_type": "execute_result"
    }
   ],
   "source": [
    "#hide_input\n",
    "#md('##### {}'.format(titleBTC)) \n",
    "md(\"- {}{} {}{} [| Skaityti daugiau]({}) \".format(eth['title'],'. ', eth['body'], ' ...', eth['url']))"
   ]
  },
  {
   "cell_type": "code",
   "execution_count": 8,
   "id": "sublime-lounge",
   "metadata": {
    "execution": {
     "iopub.execute_input": "2022-06-06T02:58:50.790986Z",
     "iopub.status.busy": "2022-06-06T02:58:50.790249Z",
     "iopub.status.idle": "2022-06-06T02:58:50.794226Z",
     "shell.execute_reply": "2022-06-06T02:58:50.793636Z"
    },
    "papermill": {
     "duration": 0.022217,
     "end_time": "2022-06-06T02:58:50.794355",
     "exception": false,
     "start_time": "2022-06-06T02:58:50.772138",
     "status": "completed"
    },
    "tags": []
   },
   "outputs": [
    {
     "data": {
      "text/markdown": [
       "- Cardano price analysis: ADA spikes towards $0.589 after a successive bullish streak.  The Cardano price analysis is indicating a major increase in the price value today. The bulls have been continually winning over the price charts, as the uptrend is quite visible. There has been an eminent rise in the bullish momentum as the latest update shows an increase in price up to $0.589. A further uptrend... ... [| Skaityti daugiau](https://www.cryptopolitan.com/cardano-price-analysis-2022-06-06/) "
      ],
      "text/plain": [
       "<IPython.core.display.Markdown object>"
      ]
     },
     "execution_count": 8,
     "metadata": {},
     "output_type": "execute_result"
    }
   ],
   "source": [
    "#hide_input\n",
    "#md('##### {}'.format(titleBTC)) \n",
    "md(\"- {}{} {}{} [| Skaityti daugiau]({}) \".format(ada['title'],'. ', ada['body'], ' ...', ada['url']))"
   ]
  },
  {
   "cell_type": "code",
   "execution_count": 9,
   "id": "specified-ordering",
   "metadata": {
    "execution": {
     "iopub.execute_input": "2022-06-06T02:58:50.826641Z",
     "iopub.status.busy": "2022-06-06T02:58:50.825905Z",
     "iopub.status.idle": "2022-06-06T02:58:50.829645Z",
     "shell.execute_reply": "2022-06-06T02:58:50.829085Z"
    },
    "papermill": {
     "duration": 0.021753,
     "end_time": "2022-06-06T02:58:50.829773",
     "exception": false,
     "start_time": "2022-06-06T02:58:50.808020",
     "status": "completed"
    },
    "tags": []
   },
   "outputs": [
    {
     "data": {
      "text/markdown": [
       "- Dubai’s Retail Giant Majid Al Futtaim Accepts Crypto at 29 Shopping Malls and 13 Hotels in Partnership With Binance.  Leading shopping mall operator Majid Al Futtaim has partnered with Binance to accept cryptocurrencies at its malls and other properties. &#x201C;Majid Al Futtaim is one of the most prestigious businesses in the Middle East and has millions of customers every year,&#x201D; said the CEO of Binance. Majid Al Futtaim Dives Into Crytpo With Binance Majid [&#8230;] ... [| Skaityti daugiau](https://news.bitcoin.com/dubais-retail-giant-majid-al-futtaim-accepts-crypto-at-29-shopping-malls-and-13-hotels-in-partnership-with-binance/) "
      ],
      "text/plain": [
       "<IPython.core.display.Markdown object>"
      ]
     },
     "execution_count": 9,
     "metadata": {},
     "output_type": "execute_result"
    }
   ],
   "source": [
    "#hide_input\n",
    "#md('##### {}'.format(titleBTC)) \n",
    "md(\"- {}{} {}{} [| Skaityti daugiau]({}) \".format(exchange['title'],'. ', exchange['body'], ' ...', exchange['url']))"
   ]
  },
  {
   "cell_type": "code",
   "execution_count": null,
   "id": "tender-livestock",
   "metadata": {
    "papermill": {
     "duration": 0.013154,
     "end_time": "2022-06-06T02:58:50.855828",
     "exception": false,
     "start_time": "2022-06-06T02:58:50.842674",
     "status": "completed"
    },
    "tags": []
   },
   "outputs": [],
   "source": []
  },
  {
   "cell_type": "code",
   "execution_count": null,
   "id": "appreciated-diamond",
   "metadata": {
    "papermill": {
     "duration": 0.012657,
     "end_time": "2022-06-06T02:58:50.881175",
     "exception": false,
     "start_time": "2022-06-06T02:58:50.868518",
     "status": "completed"
    },
    "tags": []
   },
   "outputs": [],
   "source": []
  },
  {
   "cell_type": "code",
   "execution_count": null,
   "id": "romance-sweden",
   "metadata": {
    "papermill": {
     "duration": 0.012611,
     "end_time": "2022-06-06T02:58:50.906562",
     "exception": false,
     "start_time": "2022-06-06T02:58:50.893951",
     "status": "completed"
    },
    "tags": []
   },
   "outputs": [],
   "source": []
  },
  {
   "cell_type": "code",
   "execution_count": null,
   "id": "dietary-statistics",
   "metadata": {
    "papermill": {
     "duration": 0.012649,
     "end_time": "2022-06-06T02:58:50.932212",
     "exception": false,
     "start_time": "2022-06-06T02:58:50.919563",
     "status": "completed"
    },
    "tags": []
   },
   "outputs": [],
   "source": []
  }
 ],
 "metadata": {
  "kernelspec": {
   "display_name": "Python 3",
   "language": "python",
   "name": "python3"
  },
  "language_info": {
   "codemirror_mode": {
    "name": "ipython",
    "version": 3
   },
   "file_extension": ".py",
   "mimetype": "text/x-python",
   "name": "python",
   "nbconvert_exporter": "python",
   "pygments_lexer": "ipython3",
   "version": "3.6.15"
  },
  "papermill": {
   "default_parameters": {},
   "duration": 13.78611,
   "end_time": "2022-06-06T02:58:51.466654",
   "environment_variables": {},
   "exception": null,
   "input_path": "Market-News.ipynb",
   "output_path": "Market-News.ipynb",
   "parameters": {},
   "start_time": "2022-06-06T02:58:37.680544",
   "version": "2.2.2"
  }
 },
 "nbformat": 4,
 "nbformat_minor": 5
}