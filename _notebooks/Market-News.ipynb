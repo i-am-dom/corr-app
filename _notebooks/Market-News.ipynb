{
 "cells": [
  {
   "cell_type": "markdown",
   "id": "short-greensboro",
   "metadata": {
    "papermill": {
     "duration": 0.012771,
     "end_time": "2022-08-25T03:37:32.222447",
     "exception": false,
     "start_time": "2022-08-25T03:37:32.209676",
     "status": "completed"
    },
    "tags": []
   },
   "source": [
    "# Kriptovaliutų naujienos"
   ]
  },
  {
   "cell_type": "code",
   "execution_count": 1,
   "id": "functioning-knowing",
   "metadata": {
    "execution": {
     "iopub.execute_input": "2022-08-25T03:37:32.252126Z",
     "iopub.status.busy": "2022-08-25T03:37:32.251530Z",
     "iopub.status.idle": "2022-08-25T03:37:33.432145Z",
     "shell.execute_reply": "2022-08-25T03:37:33.431650Z"
    },
    "papermill": {
     "duration": 1.199871,
     "end_time": "2022-08-25T03:37:33.432275",
     "exception": false,
     "start_time": "2022-08-25T03:37:32.232404",
     "status": "completed"
    },
    "tags": []
   },
   "outputs": [],
   "source": [
    "#hide_input\n",
    "import warnings\n",
    "warnings.filterwarnings('ignore')\n",
    "from scripts.read_data import read_api\n",
    "from scripts.read_data import read_news\n",
    "from scripts.read_data import read_covid\n",
    "import matplotlib.pyplot as plt \n",
    "from IPython.display import Markdown as md"
   ]
  },
  {
   "cell_type": "code",
   "execution_count": 2,
   "id": "shared-acceptance",
   "metadata": {
    "execution": {
     "iopub.execute_input": "2022-08-25T03:37:33.457704Z",
     "iopub.status.busy": "2022-08-25T03:37:33.457064Z",
     "iopub.status.idle": "2022-08-25T03:37:44.226985Z",
     "shell.execute_reply": "2022-08-25T03:37:44.226482Z"
    },
    "papermill": {
     "duration": 10.785239,
     "end_time": "2022-08-25T03:37:44.227097",
     "exception": false,
     "start_time": "2022-08-25T03:37:33.441858",
     "status": "completed"
    },
    "tags": []
   },
   "outputs": [],
   "source": [
    "#hide_input\n",
    "blockchain = read_news('blockchain') \n",
    "btc = read_news('btc') \n",
    "xrp = read_news('xrp') \n",
    "trx = read_news('trx') \n",
    "eth = read_news('eth')  \n",
    "ada = read_news('ada')\n",
    "exchange = read_news('exchange') "
   ]
  },
  {
   "cell_type": "code",
   "execution_count": 3,
   "id": "synthetic-notion",
   "metadata": {
    "execution": {
     "iopub.execute_input": "2022-08-25T03:37:44.253058Z",
     "iopub.status.busy": "2022-08-25T03:37:44.252462Z",
     "iopub.status.idle": "2022-08-25T03:37:44.255484Z",
     "shell.execute_reply": "2022-08-25T03:37:44.254960Z"
    },
    "papermill": {
     "duration": 0.018291,
     "end_time": "2022-08-25T03:37:44.255591",
     "exception": false,
     "start_time": "2022-08-25T03:37:44.237300",
     "status": "completed"
    },
    "tags": []
   },
   "outputs": [
    {
     "data": {
      "text/markdown": [
       "- The Existence Of Bitcoin Is A Political Paradox.  Bitcoin is an apolitical monetary protocol for humanity, birthed in a world so deeply entangled and confused by a captured system of political power, influence and violence. ... [| Skaityti daugiau](https://bitcoinmagazine.com/culture/bitcoins-existence-is-a-political-paradox) "
      ],
      "text/plain": [
       "<IPython.core.display.Markdown object>"
      ]
     },
     "execution_count": 3,
     "metadata": {},
     "output_type": "execute_result"
    }
   ],
   "source": [
    "#hide_input\n",
    "#md('##### {}'.format(titleBTC)) \n",
    "md(\"- {}{} {}{} [| Skaityti daugiau]({}) \".format(blockchain['title'],'. ', blockchain['body'], ' ...', blockchain['url']))"
   ]
  },
  {
   "cell_type": "code",
   "execution_count": 4,
   "id": "aging-caution",
   "metadata": {
    "execution": {
     "iopub.execute_input": "2022-08-25T03:37:44.279881Z",
     "iopub.status.busy": "2022-08-25T03:37:44.279301Z",
     "iopub.status.idle": "2022-08-25T03:37:44.282299Z",
     "shell.execute_reply": "2022-08-25T03:37:44.281852Z"
    },
    "papermill": {
     "duration": 0.01727,
     "end_time": "2022-08-25T03:37:44.282401",
     "exception": false,
     "start_time": "2022-08-25T03:37:44.265131",
     "status": "completed"
    },
    "tags": []
   },
   "outputs": [
    {
     "data": {
      "text/markdown": [
       "- Vitalik: People still 'underrate' the superiority of crypto payments.  The Ethereum co-founder suggests that cryptocurrency payments are a \"big boost\" to international business, charity, and even payments within countries. ... [| Skaityti daugiau](https://cointelegraph.com/news/vitalik-people-still-underrate-the-superiority-of-crypto-payments) "
      ],
      "text/plain": [
       "<IPython.core.display.Markdown object>"
      ]
     },
     "execution_count": 4,
     "metadata": {},
     "output_type": "execute_result"
    }
   ],
   "source": [
    "#hide_input\n",
    "#md('##### {}'.format(titleBTC)) \n",
    "md(\"- {}{} {}{} [| Skaityti daugiau]({}) \".format(btc['title'],'. ', btc['body'], ' ...', btc['url']))"
   ]
  },
  {
   "cell_type": "code",
   "execution_count": 5,
   "id": "organic-actress",
   "metadata": {
    "execution": {
     "iopub.execute_input": "2022-08-25T03:37:44.306509Z",
     "iopub.status.busy": "2022-08-25T03:37:44.305908Z",
     "iopub.status.idle": "2022-08-25T03:37:44.309720Z",
     "shell.execute_reply": "2022-08-25T03:37:44.309234Z"
    },
    "papermill": {
     "duration": 0.017545,
     "end_time": "2022-08-25T03:37:44.309828",
     "exception": false,
     "start_time": "2022-08-25T03:37:44.292283",
     "status": "completed"
    },
    "tags": []
   },
   "outputs": [
    {
     "data": {
      "text/markdown": [
       "- Binance Offering XRP Rewards to Traders – Here’s How to Get the Free Crypto.  The world’s leading crypto exchange platform is launching a new reward program where users can complete quizzes to earn digital assets. According to a new company announcement, Binance will be offering verified users the opportunity to earn crypto by learning about virtual assets and proving their knowledge on the subject. Users would be able to [&#8230;]The post Binance Offering XRP Rewards to Traders – Here&#8217;s How to Get the Free Crypto appeared first on The Daily Hodl. ... [| Skaityti daugiau](https://dailyhodl.com/2022/08/24/binance-offering-xrp-rewards-to-traders-heres-how-to-get-the-free-crypto/) "
      ],
      "text/plain": [
       "<IPython.core.display.Markdown object>"
      ]
     },
     "execution_count": 5,
     "metadata": {},
     "output_type": "execute_result"
    }
   ],
   "source": [
    "#hide_input\n",
    "#md('##### {}'.format(titleBTC)) \n",
    "md(\"- {}{} {}{} [| Skaityti daugiau]({}) \".format(xrp['title'],'. ', xrp['body'], ' ...', xrp['url']))"
   ]
  },
  {
   "cell_type": "code",
   "execution_count": 6,
   "id": "prompt-farmer",
   "metadata": {
    "execution": {
     "iopub.execute_input": "2022-08-25T03:37:44.335406Z",
     "iopub.status.busy": "2022-08-25T03:37:44.334840Z",
     "iopub.status.idle": "2022-08-25T03:37:44.338358Z",
     "shell.execute_reply": "2022-08-25T03:37:44.337905Z"
    },
    "papermill": {
     "duration": 0.0182,
     "end_time": "2022-08-25T03:37:44.338458",
     "exception": false,
     "start_time": "2022-08-25T03:37:44.320258",
     "status": "completed"
    },
    "tags": []
   },
   "outputs": [
    {
     "data": {
      "text/markdown": [
       "- Is Tron outcompeting BTC, ETH? The answer might startle you.  In a recent tweet, the official Twitter account of TronDao informed how they outcompeted major cryptocurrencies. TronDao was ranked number one for the total number of active addresses compared to BTC, ETH, and XRP. One of the reasons why the crypto community has been using Tron for a lot of their transactions could be its [&#8230;] ... [| Skaityti daugiau](https://ambcrypto.com/is-tron-outcompeting-btc-and-eth-the-answer-might-startle-you/) "
      ],
      "text/plain": [
       "<IPython.core.display.Markdown object>"
      ]
     },
     "execution_count": 6,
     "metadata": {},
     "output_type": "execute_result"
    }
   ],
   "source": [
    "#hide_input\n",
    "#md('##### {}'.format(titleBTC)) \n",
    "md(\"- {}{} {}{} [| Skaityti daugiau]({}) \".format(trx['title'],'. ', trx['body'], ' ...', trx['url']))"
   ]
  },
  {
   "cell_type": "code",
   "execution_count": 7,
   "id": "illegal-greece",
   "metadata": {
    "execution": {
     "iopub.execute_input": "2022-08-25T03:37:44.364645Z",
     "iopub.status.busy": "2022-08-25T03:37:44.364064Z",
     "iopub.status.idle": "2022-08-25T03:37:44.367173Z",
     "shell.execute_reply": "2022-08-25T03:37:44.366737Z"
    },
    "papermill": {
     "duration": 0.018193,
     "end_time": "2022-08-25T03:37:44.367273",
     "exception": false,
     "start_time": "2022-08-25T03:37:44.349080",
     "status": "completed"
    },
    "tags": []
   },
   "outputs": [
    {
     "data": {
      "text/markdown": [
       "- Vitalik: People still 'underrate' the superiority of crypto payments.  The Ethereum co-founder suggests that cryptocurrency payments are a \"big boost\" to international business, charity, and even payments within countries. ... [| Skaityti daugiau](https://cointelegraph.com/news/vitalik-people-still-underrate-the-superiority-of-crypto-payments) "
      ],
      "text/plain": [
       "<IPython.core.display.Markdown object>"
      ]
     },
     "execution_count": 7,
     "metadata": {},
     "output_type": "execute_result"
    }
   ],
   "source": [
    "#hide_input\n",
    "#md('##### {}'.format(titleBTC)) \n",
    "md(\"- {}{} {}{} [| Skaityti daugiau]({}) \".format(eth['title'],'. ', eth['body'], ' ...', eth['url']))"
   ]
  },
  {
   "cell_type": "code",
   "execution_count": 8,
   "id": "sublime-lounge",
   "metadata": {
    "execution": {
     "iopub.execute_input": "2022-08-25T03:37:44.395040Z",
     "iopub.status.busy": "2022-08-25T03:37:44.394456Z",
     "iopub.status.idle": "2022-08-25T03:37:44.397616Z",
     "shell.execute_reply": "2022-08-25T03:37:44.398059Z"
    },
    "papermill": {
     "duration": 0.018948,
     "end_time": "2022-08-25T03:37:44.398185",
     "exception": false,
     "start_time": "2022-08-25T03:37:44.379237",
     "status": "completed"
    },
    "tags": []
   },
   "outputs": [
    {
     "data": {
      "text/markdown": [
       "- Cardano price analysis: ADA continues gradual ascent above $0.45 support.  Cardano price analysis continues to stay bearish and not out of danger to fall down to second support at $0.40 on the daily chart. ADA rose up to $0.4693 over the past 24 to record a gradual uptrend and consolidates above $0.45. However, bears remain in control of an oversold trend for Cardano and price &#8230;  Cardano price analysis: ADA continues gradual ascent above $0.45 support Read More &#187; ... [| Skaityti daugiau](https://www.cryptopolitan.com/cardano-price-analysis-2022-08-24/) "
      ],
      "text/plain": [
       "<IPython.core.display.Markdown object>"
      ]
     },
     "execution_count": 8,
     "metadata": {},
     "output_type": "execute_result"
    }
   ],
   "source": [
    "#hide_input\n",
    "#md('##### {}'.format(titleBTC)) \n",
    "md(\"- {}{} {}{} [| Skaityti daugiau]({}) \".format(ada['title'],'. ', ada['body'], ' ...', ada['url']))"
   ]
  },
  {
   "cell_type": "code",
   "execution_count": 9,
   "id": "specified-ordering",
   "metadata": {
    "execution": {
     "iopub.execute_input": "2022-08-25T03:37:44.425426Z",
     "iopub.status.busy": "2022-08-25T03:37:44.424825Z",
     "iopub.status.idle": "2022-08-25T03:37:44.428475Z",
     "shell.execute_reply": "2022-08-25T03:37:44.428019Z"
    },
    "papermill": {
     "duration": 0.019182,
     "end_time": "2022-08-25T03:37:44.428580",
     "exception": false,
     "start_time": "2022-08-25T03:37:44.409398",
     "status": "completed"
    },
    "tags": []
   },
   "outputs": [
    {
     "data": {
      "text/markdown": [
       "- Uniswap Engaged Lending Protocols As It Craves For NFT Financialization.  Uniswap is currently showing its desire for NFT financialization. The exchange has opened talks with several NFT lending protocols concerning its sudden Interest. Scott Lewis, the head of NFT product in Uniswap, revealed the information through a social media post. Non-fungible tokens (NFTs) are still gaining more attention over the days as knowledge of digital [&#8230;] ... [| Skaityti daugiau](https://bitcoinist.com/uniswap-craves-for-nft-financialization/) "
      ],
      "text/plain": [
       "<IPython.core.display.Markdown object>"
      ]
     },
     "execution_count": 9,
     "metadata": {},
     "output_type": "execute_result"
    }
   ],
   "source": [
    "#hide_input\n",
    "#md('##### {}'.format(titleBTC)) \n",
    "md(\"- {}{} {}{} [| Skaityti daugiau]({}) \".format(exchange['title'],'. ', exchange['body'], ' ...', exchange['url']))"
   ]
  },
  {
   "cell_type": "code",
   "execution_count": null,
   "id": "tender-livestock",
   "metadata": {
    "papermill": {
     "duration": 0.011576,
     "end_time": "2022-08-25T03:37:44.451828",
     "exception": false,
     "start_time": "2022-08-25T03:37:44.440252",
     "status": "completed"
    },
    "tags": []
   },
   "outputs": [],
   "source": []
  },
  {
   "cell_type": "code",
   "execution_count": null,
   "id": "appreciated-diamond",
   "metadata": {
    "papermill": {
     "duration": 0.011496,
     "end_time": "2022-08-25T03:37:44.475005",
     "exception": false,
     "start_time": "2022-08-25T03:37:44.463509",
     "status": "completed"
    },
    "tags": []
   },
   "outputs": [],
   "source": []
  },
  {
   "cell_type": "code",
   "execution_count": null,
   "id": "romance-sweden",
   "metadata": {
    "papermill": {
     "duration": 0.011388,
     "end_time": "2022-08-25T03:37:44.497917",
     "exception": false,
     "start_time": "2022-08-25T03:37:44.486529",
     "status": "completed"
    },
    "tags": []
   },
   "outputs": [],
   "source": []
  },
  {
   "cell_type": "code",
   "execution_count": null,
   "id": "dietary-statistics",
   "metadata": {
    "papermill": {
     "duration": 0.011408,
     "end_time": "2022-08-25T03:37:44.520861",
     "exception": false,
     "start_time": "2022-08-25T03:37:44.509453",
     "status": "completed"
    },
    "tags": []
   },
   "outputs": [],
   "source": []
  }
 ],
 "metadata": {
  "kernelspec": {
   "display_name": "Python 3",
   "language": "python",
   "name": "python3"
  },
  "language_info": {
   "codemirror_mode": {
    "name": "ipython",
    "version": 3
   },
   "file_extension": ".py",
   "mimetype": "text/x-python",
   "name": "python",
   "nbconvert_exporter": "python",
   "pygments_lexer": "ipython3",
   "version": "3.6.15"
  },
  "papermill": {
   "default_parameters": {},
   "duration": 13.661832,
   "end_time": "2022-08-25T03:37:44.949789",
   "environment_variables": {},
   "exception": null,
   "input_path": "Market-News.ipynb",
   "output_path": "Market-News.ipynb",
   "parameters": {},
   "start_time": "2022-08-25T03:37:31.287957",
   "version": "2.2.2"
  }
 },
 "nbformat": 4,
 "nbformat_minor": 5
}