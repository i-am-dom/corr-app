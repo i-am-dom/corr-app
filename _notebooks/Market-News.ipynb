{
 "cells": [
  {
   "cell_type": "markdown",
   "id": "short-greensboro",
   "metadata": {
    "papermill": {
     "duration": 0.012624,
     "end_time": "2021-08-08T01:57:34.760370",
     "exception": false,
     "start_time": "2021-08-08T01:57:34.747746",
     "status": "completed"
    },
    "tags": []
   },
   "source": [
    "# Kriptovaliutų naujienos"
   ]
  },
  {
   "cell_type": "code",
   "execution_count": 1,
   "id": "functioning-knowing",
   "metadata": {
    "execution": {
     "iopub.execute_input": "2021-08-08T01:57:34.789766Z",
     "iopub.status.busy": "2021-08-08T01:57:34.789262Z",
     "iopub.status.idle": "2021-08-08T01:57:35.949049Z",
     "shell.execute_reply": "2021-08-08T01:57:35.948510Z"
    },
    "papermill": {
     "duration": 1.179218,
     "end_time": "2021-08-08T01:57:35.949199",
     "exception": false,
     "start_time": "2021-08-08T01:57:34.769981",
     "status": "completed"
    },
    "tags": []
   },
   "outputs": [],
   "source": [
    "#hide_input\n",
    "import warnings\n",
    "warnings.filterwarnings('ignore')\n",
    "from scripts.read_data import read_api\n",
    "from scripts.read_data import read_news\n",
    "from scripts.read_data import read_covid\n",
    "import matplotlib.pyplot as plt \n",
    "from IPython.display import Markdown as md"
   ]
  },
  {
   "cell_type": "code",
   "execution_count": 2,
   "id": "shared-acceptance",
   "metadata": {
    "execution": {
     "iopub.execute_input": "2021-08-08T01:57:35.974703Z",
     "iopub.status.busy": "2021-08-08T01:57:35.974183Z",
     "iopub.status.idle": "2021-08-08T01:57:45.461229Z",
     "shell.execute_reply": "2021-08-08T01:57:45.460780Z"
    },
    "papermill": {
     "duration": 9.50161,
     "end_time": "2021-08-08T01:57:45.461355",
     "exception": false,
     "start_time": "2021-08-08T01:57:35.959745",
     "status": "completed"
    },
    "tags": []
   },
   "outputs": [],
   "source": [
    "#hide_input\n",
    "blockchain = read_news('blockchain') \n",
    "btc = read_news('btc') \n",
    "xrp = read_news('xrp') \n",
    "trx = read_news('trx') \n",
    "eth = read_news('eth')  \n",
    "ada = read_news('ada')\n",
    "exchange = read_news('exchange') "
   ]
  },
  {
   "cell_type": "code",
   "execution_count": 3,
   "id": "synthetic-notion",
   "metadata": {
    "execution": {
     "iopub.execute_input": "2021-08-08T01:57:45.485206Z",
     "iopub.status.busy": "2021-08-08T01:57:45.484700Z",
     "iopub.status.idle": "2021-08-08T01:57:45.487426Z",
     "shell.execute_reply": "2021-08-08T01:57:45.487009Z"
    },
    "papermill": {
     "duration": 0.016924,
     "end_time": "2021-08-08T01:57:45.487526",
     "exception": false,
     "start_time": "2021-08-08T01:57:45.470602",
     "status": "completed"
    },
    "tags": []
   },
   "outputs": [
    {
     "data": {
      "text/markdown": [
       "- Tokenized Bitcoin on Ethereum Crosses $11 Billion Notional, WBTC Commands 76% of Circulating Supply.  According to data on August 7, there&#8217;s 253,510 bitcoin-pegged or wrapped tokens worth more than $11 billion in value on the Ethereum blockchain. Out of the seven different bitcoin-pegged projects, the Wrapped Bitcoin protocol has 194,023 bitcoin-pegged ERC20 tokens in circulation. Over 250K Tokenized Bitcoin In Circulation Split Between 7 Ethereum Projects, Binance Smart Chain&#8217;s [&#8230;] ... [| Skaityti daugiau](https://news.bitcoin.com/tokenized-bitcoin-on-ethereum-crosses-11-billion-notional-wbtc-commands-76-of-circulating-supply/) "
      ],
      "text/plain": [
       "<IPython.core.display.Markdown object>"
      ]
     },
     "execution_count": 3,
     "metadata": {},
     "output_type": "execute_result"
    }
   ],
   "source": [
    "#hide_input\n",
    "#md('##### {}'.format(titleBTC)) \n",
    "md(\"- {}{} {}{} [| Skaityti daugiau]({}) \".format(blockchain['title'],'. ', blockchain['body'], ' ...', blockchain['url']))"
   ]
  },
  {
   "cell_type": "code",
   "execution_count": 4,
   "id": "aging-caution",
   "metadata": {
    "execution": {
     "iopub.execute_input": "2021-08-08T01:57:45.509700Z",
     "iopub.status.busy": "2021-08-08T01:57:45.509205Z",
     "iopub.status.idle": "2021-08-08T01:57:45.512159Z",
     "shell.execute_reply": "2021-08-08T01:57:45.511746Z"
    },
    "papermill": {
     "duration": 0.015647,
     "end_time": "2021-08-08T01:57:45.512258",
     "exception": false,
     "start_time": "2021-08-08T01:57:45.496611",
     "status": "completed"
    },
    "tags": []
   },
   "outputs": [
    {
     "data": {
      "text/markdown": [
       "- Ethereum (ETH) breaks above $3,000 as Bitcoin (BTC) breaks above $44,000.  It’s a “green” weekend for the crypto market today as most major digital assets are seeing daily gains. The post Ethereum (ETH) breaks above $3,000 as Bitcoin (BTC) breaks above $44,000 appeared first on CryptoSlate. ... [| Skaityti daugiau](https://cryptoslate.com/ethereum-eth-breaks-above-3000-as-bitcoin-btc-breaks-above-44000/) "
      ],
      "text/plain": [
       "<IPython.core.display.Markdown object>"
      ]
     },
     "execution_count": 4,
     "metadata": {},
     "output_type": "execute_result"
    }
   ],
   "source": [
    "#hide_input\n",
    "#md('##### {}'.format(titleBTC)) \n",
    "md(\"- {}{} {}{} [| Skaityti daugiau]({}) \".format(btc['title'],'. ', btc['body'], ' ...', btc['url']))"
   ]
  },
  {
   "cell_type": "code",
   "execution_count": 5,
   "id": "organic-actress",
   "metadata": {
    "execution": {
     "iopub.execute_input": "2021-08-08T01:57:45.535112Z",
     "iopub.status.busy": "2021-08-08T01:57:45.534592Z",
     "iopub.status.idle": "2021-08-08T01:57:45.537776Z",
     "shell.execute_reply": "2021-08-08T01:57:45.537315Z"
    },
    "papermill": {
     "duration": 0.016267,
     "end_time": "2021-08-08T01:57:45.537888",
     "exception": false,
     "start_time": "2021-08-08T01:57:45.521621",
     "status": "completed"
    },
    "tags": []
   },
   "outputs": [
    {
     "data": {
      "text/markdown": [
       "- XRP is Headed for a 20% Surge After Breaking This Key Resistance.  XRP, the fifth-largest cryptocurrency finally broke out of the long-held price zone. It broke the key resistance of $0.77 and currently trading at $0.794 with an 8.56% rise. The altcoin is now set for a 20% upward swing if it manages to hold onto its gain. The altcoin registered a new monthly high and finally The post XRP is Headed for a 20% Surge After Breaking This Key Resistance appeared first on Coingape. ... [| Skaityti daugiau](https://coingape.com/xrp-headed-20-surge-breaking-key-resistance/) "
      ],
      "text/plain": [
       "<IPython.core.display.Markdown object>"
      ]
     },
     "execution_count": 5,
     "metadata": {},
     "output_type": "execute_result"
    }
   ],
   "source": [
    "#hide_input\n",
    "#md('##### {}'.format(titleBTC)) \n",
    "md(\"- {}{} {}{} [| Skaityti daugiau]({}) \".format(xrp['title'],'. ', xrp['body'], ' ...', xrp['url']))"
   ]
  },
  {
   "cell_type": "code",
   "execution_count": 6,
   "id": "prompt-farmer",
   "metadata": {
    "execution": {
     "iopub.execute_input": "2021-08-08T01:57:45.561301Z",
     "iopub.status.busy": "2021-08-08T01:57:45.560796Z",
     "iopub.status.idle": "2021-08-08T01:57:45.563331Z",
     "shell.execute_reply": "2021-08-08T01:57:45.562915Z"
    },
    "papermill": {
     "duration": 0.015782,
     "end_time": "2021-08-08T01:57:45.563424",
     "exception": false,
     "start_time": "2021-08-08T01:57:45.547642",
     "status": "completed"
    },
    "tags": []
   },
   "outputs": [
    {
     "data": {
      "text/markdown": [
       "- TRON, IOTA, SUSHI Price Analysis: 06 August.  After Ethereum&#8217;s price closed above $2,800 following the London hard fork, other alts saw gains over the last 24 hours. The likes of TRX and IOTA hopped above their immediate resistance levels, while SUSHI registered a hike of 8.2%. TRON [TRX] TRX, at press time, showed a bullish streak. Its price stood at $0.070 after [&#8230;] ... [| Skaityti daugiau](https://ambcrypto.com/tron-iota-sushi-price-analysis-06-august/) "
      ],
      "text/plain": [
       "<IPython.core.display.Markdown object>"
      ]
     },
     "execution_count": 6,
     "metadata": {},
     "output_type": "execute_result"
    }
   ],
   "source": [
    "#hide_input\n",
    "#md('##### {}'.format(titleBTC)) \n",
    "md(\"- {}{} {}{} [| Skaityti daugiau]({}) \".format(trx['title'],'. ', trx['body'], ' ...', trx['url']))"
   ]
  },
  {
   "cell_type": "code",
   "execution_count": 7,
   "id": "illegal-greece",
   "metadata": {
    "execution": {
     "iopub.execute_input": "2021-08-08T01:57:45.587729Z",
     "iopub.status.busy": "2021-08-08T01:57:45.587243Z",
     "iopub.status.idle": "2021-08-08T01:57:45.589911Z",
     "shell.execute_reply": "2021-08-08T01:57:45.590330Z"
    },
    "papermill": {
     "duration": 0.016877,
     "end_time": "2021-08-08T01:57:45.590436",
     "exception": false,
     "start_time": "2021-08-08T01:57:45.573559",
     "status": "completed"
    },
    "tags": []
   },
   "outputs": [
    {
     "data": {
      "text/markdown": [
       "- Vitalik Buterin says EIP-1559 is proof Ethereum is ‘capable of change’.  After a slight delay on the initial rollout date, the Ethereum London hard fork went live on Thursday at approximately 13:00 GMT. The post Vitalik Buterin says EIP-1559 is proof Ethereum is &#8216;capable of change&#8217; appeared first on CryptoSlate. ... [| Skaityti daugiau](https://cryptoslate.com/vitalik-buterin-says-eip-1559-is-proof-ethereum-is-capable-of-change/) "
      ],
      "text/plain": [
       "<IPython.core.display.Markdown object>"
      ]
     },
     "execution_count": 7,
     "metadata": {},
     "output_type": "execute_result"
    }
   ],
   "source": [
    "#hide_input\n",
    "#md('##### {}'.format(titleBTC)) \n",
    "md(\"- {}{} {}{} [| Skaityti daugiau]({}) \".format(eth['title'],'. ', eth['body'], ' ...', eth['url']))"
   ]
  },
  {
   "cell_type": "code",
   "execution_count": 8,
   "id": "sublime-lounge",
   "metadata": {
    "execution": {
     "iopub.execute_input": "2021-08-08T01:57:45.615035Z",
     "iopub.status.busy": "2021-08-08T01:57:45.614508Z",
     "iopub.status.idle": "2021-08-08T01:57:45.617444Z",
     "shell.execute_reply": "2021-08-08T01:57:45.617053Z"
    },
    "papermill": {
     "duration": 0.016775,
     "end_time": "2021-08-08T01:57:45.617540",
     "exception": false,
     "start_time": "2021-08-08T01:57:45.600765",
     "status": "completed"
    },
    "tags": []
   },
   "outputs": [
    {
     "data": {
      "text/markdown": [
       "- Cardano needs to follow this route to reclaim its May ATH levels.  Disclaimer: The findings of the following analysis are the sole opinions of the writer and should not be considered as investment advice Cardano finally moved above its $1.38-$1.40 price ceiling after rangebound movement over the past few days. The breakout had already seen an 8% spike in value, at press time, and its mid-long term outlook [&#8230;] ... [| Skaityti daugiau](https://ambcrypto.com/cardano-needs-to-follow-this-route-to-reclaim-its-may-ath-levels/) "
      ],
      "text/plain": [
       "<IPython.core.display.Markdown object>"
      ]
     },
     "execution_count": 8,
     "metadata": {},
     "output_type": "execute_result"
    }
   ],
   "source": [
    "#hide_input\n",
    "#md('##### {}'.format(titleBTC)) \n",
    "md(\"- {}{} {}{} [| Skaityti daugiau]({}) \".format(ada['title'],'. ', ada['body'], ' ...', ada['url']))"
   ]
  },
  {
   "cell_type": "code",
   "execution_count": 9,
   "id": "specified-ordering",
   "metadata": {
    "execution": {
     "iopub.execute_input": "2021-08-08T01:57:45.643285Z",
     "iopub.status.busy": "2021-08-08T01:57:45.642794Z",
     "iopub.status.idle": "2021-08-08T01:57:45.645809Z",
     "shell.execute_reply": "2021-08-08T01:57:45.645398Z"
    },
    "papermill": {
     "duration": 0.017591,
     "end_time": "2021-08-08T01:57:45.645902",
     "exception": false,
     "start_time": "2021-08-08T01:57:45.628311",
     "status": "completed"
    },
    "tags": []
   },
   "outputs": [
    {
     "data": {
      "text/markdown": [
       "- US SEC Shuts Down $30 Million Defi Money Market in First Decentralized Finance Bust.  The U.S. Securities and Exchange Commission (SEC) has taken its first enforcement action involving decentralized finance (defi). The commission has charged a defi platform and its executives for unregistered securities sales of more than $30 million and misleading investors. SEC&#8217;s 1st Enforcement Action Involving Decentralized Finance The SEC announced Friday that it has taken the [&#8230;] ... [| Skaityti daugiau](https://news.bitcoin.com/us-sec-shuts-down-30-million-defi-money-market-first-decentralized-finance-bust/) "
      ],
      "text/plain": [
       "<IPython.core.display.Markdown object>"
      ]
     },
     "execution_count": 9,
     "metadata": {},
     "output_type": "execute_result"
    }
   ],
   "source": [
    "#hide_input\n",
    "#md('##### {}'.format(titleBTC)) \n",
    "md(\"- {}{} {}{} [| Skaityti daugiau]({}) \".format(exchange['title'],'. ', exchange['body'], ' ...', exchange['url']))"
   ]
  },
  {
   "cell_type": "code",
   "execution_count": null,
   "id": "tender-livestock",
   "metadata": {
    "papermill": {
     "duration": 0.01097,
     "end_time": "2021-08-08T01:57:45.667934",
     "exception": false,
     "start_time": "2021-08-08T01:57:45.656964",
     "status": "completed"
    },
    "tags": []
   },
   "outputs": [],
   "source": []
  },
  {
   "cell_type": "code",
   "execution_count": null,
   "id": "appreciated-diamond",
   "metadata": {
    "papermill": {
     "duration": 0.010947,
     "end_time": "2021-08-08T01:57:45.689982",
     "exception": false,
     "start_time": "2021-08-08T01:57:45.679035",
     "status": "completed"
    },
    "tags": []
   },
   "outputs": [],
   "source": []
  },
  {
   "cell_type": "code",
   "execution_count": null,
   "id": "romance-sweden",
   "metadata": {
    "papermill": {
     "duration": 0.01095,
     "end_time": "2021-08-08T01:57:45.711995",
     "exception": false,
     "start_time": "2021-08-08T01:57:45.701045",
     "status": "completed"
    },
    "tags": []
   },
   "outputs": [],
   "source": []
  },
  {
   "cell_type": "code",
   "execution_count": null,
   "id": "dietary-statistics",
   "metadata": {
    "papermill": {
     "duration": 0.010937,
     "end_time": "2021-08-08T01:57:45.733905",
     "exception": false,
     "start_time": "2021-08-08T01:57:45.722968",
     "status": "completed"
    },
    "tags": []
   },
   "outputs": [],
   "source": []
  }
 ],
 "metadata": {
  "kernelspec": {
   "display_name": "Python 3",
   "language": "python",
   "name": "python3"
  },
  "language_info": {
   "codemirror_mode": {
    "name": "ipython",
    "version": 3
   },
   "file_extension": ".py",
   "mimetype": "text/x-python",
   "name": "python",
   "nbconvert_exporter": "python",
   "pygments_lexer": "ipython3",
   "version": "3.6.14"
  },
  "papermill": {
   "default_parameters": {},
   "duration": 13.266198,
   "end_time": "2021-08-08T01:57:46.989402",
   "environment_variables": {},
   "exception": null,
   "input_path": "Market-News.ipynb",
   "output_path": "Market-News.ipynb",
   "parameters": {},
   "start_time": "2021-08-08T01:57:33.723204",
   "version": "2.2.2"
  }
 },
 "nbformat": 4,
 "nbformat_minor": 5
}