{
 "cells": [
  {
   "cell_type": "markdown",
   "id": "short-greensboro",
   "metadata": {
    "papermill": {
     "duration": 0.015602,
     "end_time": "2022-10-30T03:25:01.507090",
     "exception": false,
     "start_time": "2022-10-30T03:25:01.491488",
     "status": "completed"
    },
    "tags": []
   },
   "source": [
    "# Kriptovaliutų naujienos"
   ]
  },
  {
   "cell_type": "code",
   "execution_count": 1,
   "id": "functioning-knowing",
   "metadata": {
    "execution": {
     "iopub.execute_input": "2022-10-30T03:25:01.547023Z",
     "iopub.status.busy": "2022-10-30T03:25:01.546061Z",
     "iopub.status.idle": "2022-10-30T03:25:03.182165Z",
     "shell.execute_reply": "2022-10-30T03:25:03.181482Z"
    },
    "papermill": {
     "duration": 1.661168,
     "end_time": "2022-10-30T03:25:03.182356",
     "exception": false,
     "start_time": "2022-10-30T03:25:01.521188",
     "status": "completed"
    },
    "tags": []
   },
   "outputs": [],
   "source": [
    "#hide_input\n",
    "import warnings\n",
    "warnings.filterwarnings('ignore')\n",
    "from scripts.read_data import read_api\n",
    "from scripts.read_data import read_news\n",
    "from scripts.read_data import read_covid\n",
    "import matplotlib.pyplot as plt \n",
    "from IPython.display import Markdown as md"
   ]
  },
  {
   "cell_type": "code",
   "execution_count": 2,
   "id": "shared-acceptance",
   "metadata": {
    "execution": {
     "iopub.execute_input": "2022-10-30T03:25:03.214641Z",
     "iopub.status.busy": "2022-10-30T03:25:03.213811Z",
     "iopub.status.idle": "2022-10-30T03:25:16.219059Z",
     "shell.execute_reply": "2022-10-30T03:25:16.218447Z"
    },
    "papermill": {
     "duration": 13.024522,
     "end_time": "2022-10-30T03:25:16.219212",
     "exception": false,
     "start_time": "2022-10-30T03:25:03.194690",
     "status": "completed"
    },
    "tags": []
   },
   "outputs": [],
   "source": [
    "#hide_input\n",
    "blockchain = read_news('blockchain') \n",
    "btc = read_news('btc') \n",
    "xrp = read_news('xrp') \n",
    "trx = read_news('trx') \n",
    "eth = read_news('eth')  \n",
    "ada = read_news('ada')\n",
    "exchange = read_news('exchange') "
   ]
  },
  {
   "cell_type": "code",
   "execution_count": 3,
   "id": "synthetic-notion",
   "metadata": {
    "execution": {
     "iopub.execute_input": "2022-10-30T03:25:16.248995Z",
     "iopub.status.busy": "2022-10-30T03:25:16.248138Z",
     "iopub.status.idle": "2022-10-30T03:25:16.255419Z",
     "shell.execute_reply": "2022-10-30T03:25:16.254630Z"
    },
    "papermill": {
     "duration": 0.024762,
     "end_time": "2022-10-30T03:25:16.255548",
     "exception": false,
     "start_time": "2022-10-30T03:25:16.230786",
     "status": "completed"
    },
    "tags": []
   },
   "outputs": [
    {
     "data": {
      "text/markdown": [
       "- Assessing the newly-formed dynamic between Twitter, Binance, and DOGE.  Binance stated its plan to form an internal team that will leverage blockchain technology to assist Twitter develop upgrades for the platform. This team will also look into Twitter's fake accounts/bot problem. Binance has a vested interest in the development of Twitter, now that it has $500 million invested in the platform. ... [| Skaityti daugiau](https://ambcrypto.com/assessing-the-newly-formed-dynamic-between-twitter-binance-and-doge/) "
      ],
      "text/plain": [
       "<IPython.core.display.Markdown object>"
      ]
     },
     "execution_count": 3,
     "metadata": {},
     "output_type": "execute_result"
    }
   ],
   "source": [
    "#hide_input\n",
    "#md('##### {}'.format(titleBTC)) \n",
    "md(\"- {}{} {}{} [| Skaityti daugiau]({}) \".format(blockchain['title'],'. ', blockchain['body'], ' ...', blockchain['url']))"
   ]
  },
  {
   "cell_type": "code",
   "execution_count": 4,
   "id": "aging-caution",
   "metadata": {
    "execution": {
     "iopub.execute_input": "2022-10-30T03:25:16.285639Z",
     "iopub.status.busy": "2022-10-30T03:25:16.284589Z",
     "iopub.status.idle": "2022-10-30T03:25:16.289435Z",
     "shell.execute_reply": "2022-10-30T03:25:16.288864Z"
    },
    "papermill": {
     "duration": 0.022816,
     "end_time": "2022-10-30T03:25:16.289569",
     "exception": false,
     "start_time": "2022-10-30T03:25:16.266753",
     "status": "completed"
    },
    "tags": []
   },
   "outputs": [
    {
     "data": {
      "text/markdown": [
       "- The U.S. Will Weaponize The Dollar By Backing It With Bitcoin.  The United States government is likely to back the dollar with bitcoin in order to protect its status as issuer of the global reserve currency. ... [| Skaityti daugiau](https://bitcoinmagazine.com/markets/united-states-will-back-dollar-with-bitcoin) "
      ],
      "text/plain": [
       "<IPython.core.display.Markdown object>"
      ]
     },
     "execution_count": 4,
     "metadata": {},
     "output_type": "execute_result"
    }
   ],
   "source": [
    "#hide_input\n",
    "#md('##### {}'.format(titleBTC)) \n",
    "md(\"- {}{} {}{} [| Skaityti daugiau]({}) \".format(btc['title'],'. ', btc['body'], ' ...', btc['url']))"
   ]
  },
  {
   "cell_type": "code",
   "execution_count": 5,
   "id": "organic-actress",
   "metadata": {
    "execution": {
     "iopub.execute_input": "2022-10-30T03:25:16.318525Z",
     "iopub.status.busy": "2022-10-30T03:25:16.317737Z",
     "iopub.status.idle": "2022-10-30T03:25:16.321861Z",
     "shell.execute_reply": "2022-10-30T03:25:16.322509Z"
    },
    "papermill": {
     "duration": 0.021414,
     "end_time": "2022-10-30T03:25:16.322641",
     "exception": false,
     "start_time": "2022-10-30T03:25:16.301227",
     "status": "completed"
    },
    "tags": []
   },
   "outputs": [
    {
     "data": {
      "text/markdown": [
       "- This latest association joining Ripple’s cause could mean this for Ripple vs. SEC.  Blockchain Association, the crypto advocacy and lobbying group, based out of Washington D.C. filed an amicus brief in the ongoing SEC vs. Ripple lawsuit. The group has alleged that the SEC's interpretation of the Howey test is broad and poses a threat to the future of the crypto industry. ... [| Skaityti daugiau](https://ambcrypto.com/this-latest-association-joining-ripples-cause-could-mean-this-for-ripple-vs-sec/) "
      ],
      "text/plain": [
       "<IPython.core.display.Markdown object>"
      ]
     },
     "execution_count": 5,
     "metadata": {},
     "output_type": "execute_result"
    }
   ],
   "source": [
    "#hide_input\n",
    "#md('##### {}'.format(titleBTC)) \n",
    "md(\"- {}{} {}{} [| Skaityti daugiau]({}) \".format(xrp['title'],'. ', xrp['body'], ' ...', xrp['url']))"
   ]
  },
  {
   "cell_type": "code",
   "execution_count": 6,
   "id": "prompt-farmer",
   "metadata": {
    "execution": {
     "iopub.execute_input": "2022-10-30T03:25:16.354553Z",
     "iopub.status.busy": "2022-10-30T03:25:16.353763Z",
     "iopub.status.idle": "2022-10-30T03:25:16.359012Z",
     "shell.execute_reply": "2022-10-30T03:25:16.358422Z"
    },
    "papermill": {
     "duration": 0.024298,
     "end_time": "2022-10-30T03:25:16.359135",
     "exception": false,
     "start_time": "2022-10-30T03:25:16.334837",
     "status": "completed"
    },
    "tags": []
   },
   "outputs": [
    {
     "data": {
      "text/markdown": [
       "- What Binance’s latest update might mean for TRX investors.  A major update came in for Tron (TRX) recently as Binance, one of the world’s largest crypto-exchanges, announced that it would support TRX staking on its platform from 27 October. Thanks to this update, users can not only stake, but also earn up to 6.1% annual percentage yield at launch. Here’s AMBCrypto’s Price Prediction for [&#8230;] ... [| Skaityti daugiau](https://ambcrypto.com/what-binances-latest-update-might-mean-for-trx-investors/) "
      ],
      "text/plain": [
       "<IPython.core.display.Markdown object>"
      ]
     },
     "execution_count": 6,
     "metadata": {},
     "output_type": "execute_result"
    }
   ],
   "source": [
    "#hide_input\n",
    "#md('##### {}'.format(titleBTC)) \n",
    "md(\"- {}{} {}{} [| Skaityti daugiau]({}) \".format(trx['title'],'. ', trx['body'], ' ...', trx['url']))"
   ]
  },
  {
   "cell_type": "code",
   "execution_count": 7,
   "id": "illegal-greece",
   "metadata": {
    "execution": {
     "iopub.execute_input": "2022-10-30T03:25:16.396025Z",
     "iopub.status.busy": "2022-10-30T03:25:16.395288Z",
     "iopub.status.idle": "2022-10-30T03:25:16.399734Z",
     "shell.execute_reply": "2022-10-30T03:25:16.399139Z"
    },
    "papermill": {
     "duration": 0.027037,
     "end_time": "2022-10-30T03:25:16.399872",
     "exception": false,
     "start_time": "2022-10-30T03:25:16.372835",
     "status": "completed"
    },
    "tags": []
   },
   "outputs": [
    {
     "data": {
      "text/markdown": [
       "- ENS investors can enjoy some short-term gains thanks to these developments.  After months of disappointing performances in the crypto market, ENS' surge in development activity gave investors a much-needed break. Backing the resurgence, the ENS price also followed with a 9.38% rise to trade at $18.38. However, the surge in development activity seemed to be the building block of this increase besides the overall market revival. But what else? ... [| Skaityti daugiau](https://ambcrypto.com/ens-investors-can-enjoy-some-short-term-gains-thanks-to-these-developments/) "
      ],
      "text/plain": [
       "<IPython.core.display.Markdown object>"
      ]
     },
     "execution_count": 7,
     "metadata": {},
     "output_type": "execute_result"
    }
   ],
   "source": [
    "#hide_input\n",
    "#md('##### {}'.format(titleBTC)) \n",
    "md(\"- {}{} {}{} [| Skaityti daugiau]({}) \".format(eth['title'],'. ', eth['body'], ' ...', eth['url']))"
   ]
  },
  {
   "cell_type": "code",
   "execution_count": 8,
   "id": "sublime-lounge",
   "metadata": {
    "execution": {
     "iopub.execute_input": "2022-10-30T03:25:16.433352Z",
     "iopub.status.busy": "2022-10-30T03:25:16.432538Z",
     "iopub.status.idle": "2022-10-30T03:25:16.437267Z",
     "shell.execute_reply": "2022-10-30T03:25:16.436451Z"
    },
    "papermill": {
     "duration": 0.023864,
     "end_time": "2022-10-30T03:25:16.437486",
     "exception": false,
     "start_time": "2022-10-30T03:25:16.413622",
     "status": "completed"
    },
    "tags": []
   },
   "outputs": [
    {
     "data": {
      "text/markdown": [
       "- Cardano price analysis: ADA reaches 30-day high at $0.44 which could initiate sell offs.  Cardano price analysis continues to show positive signs, as price reached up to $0.44 during the day&#8217;s trade to record a month-long high. ADA looks on course to achieve the $0.5 bullish target for November, after gaining more than 3 percent over the past 24 hours. Price trended upwards for the second successive 24-hour trading &#8230;  Cardano price analysis: ADA reaches 30-day high at $0.44 which could initiate sell offs Read More &#187; ... [| Skaityti daugiau](https://www.cryptopolitan.com/cardano-price-analysis-2022-10-29/) "
      ],
      "text/plain": [
       "<IPython.core.display.Markdown object>"
      ]
     },
     "execution_count": 8,
     "metadata": {},
     "output_type": "execute_result"
    }
   ],
   "source": [
    "#hide_input\n",
    "#md('##### {}'.format(titleBTC)) \n",
    "md(\"- {}{} {}{} [| Skaityti daugiau]({}) \".format(ada['title'],'. ', ada['body'], ' ...', ada['url']))"
   ]
  },
  {
   "cell_type": "code",
   "execution_count": 9,
   "id": "specified-ordering",
   "metadata": {
    "execution": {
     "iopub.execute_input": "2022-10-30T03:25:16.475196Z",
     "iopub.status.busy": "2022-10-30T03:25:16.474498Z",
     "iopub.status.idle": "2022-10-30T03:25:16.478733Z",
     "shell.execute_reply": "2022-10-30T03:25:16.478218Z"
    },
    "papermill": {
     "duration": 0.025395,
     "end_time": "2022-10-30T03:25:16.478858",
     "exception": false,
     "start_time": "2022-10-30T03:25:16.453463",
     "status": "completed"
    },
    "tags": []
   },
   "outputs": [
    {
     "data": {
      "text/markdown": [
       "- US Lawmakers Probe SEC, Treasury, Federal Reserve Over Revolving Door With Crypto Industry.  U.S. lawmakers have raised concerns about the revolving door between financial regulators and the crypto industry. &#8220;Over 200 government officials have moved between public service and crypto firms,&#8221; the lawmakers said, adding that they include 31 Treasury Department officials and 28 Securities and Exchange Commission (SEC) officials. Revolving Door Between Financial Regulators, Like SEC, and [&#8230;] ... [| Skaityti daugiau](https://news.bitcoin.com/us-lawmakers-probe-sec-treasury-federal-reserve-over-revolving-door-with-crypto-industry/) "
      ],
      "text/plain": [
       "<IPython.core.display.Markdown object>"
      ]
     },
     "execution_count": 9,
     "metadata": {},
     "output_type": "execute_result"
    }
   ],
   "source": [
    "#hide_input\n",
    "#md('##### {}'.format(titleBTC)) \n",
    "md(\"- {}{} {}{} [| Skaityti daugiau]({}) \".format(exchange['title'],'. ', exchange['body'], ' ...', exchange['url']))"
   ]
  },
  {
   "cell_type": "code",
   "execution_count": null,
   "id": "tender-livestock",
   "metadata": {
    "papermill": {
     "duration": 0.015077,
     "end_time": "2022-10-30T03:25:16.509331",
     "exception": false,
     "start_time": "2022-10-30T03:25:16.494254",
     "status": "completed"
    },
    "tags": []
   },
   "outputs": [],
   "source": []
  },
  {
   "cell_type": "code",
   "execution_count": null,
   "id": "appreciated-diamond",
   "metadata": {
    "papermill": {
     "duration": 0.015244,
     "end_time": "2022-10-30T03:25:16.538938",
     "exception": false,
     "start_time": "2022-10-30T03:25:16.523694",
     "status": "completed"
    },
    "tags": []
   },
   "outputs": [],
   "source": []
  },
  {
   "cell_type": "code",
   "execution_count": null,
   "id": "romance-sweden",
   "metadata": {
    "papermill": {
     "duration": 0.014072,
     "end_time": "2022-10-30T03:25:16.568584",
     "exception": false,
     "start_time": "2022-10-30T03:25:16.554512",
     "status": "completed"
    },
    "tags": []
   },
   "outputs": [],
   "source": []
  },
  {
   "cell_type": "code",
   "execution_count": null,
   "id": "dietary-statistics",
   "metadata": {
    "papermill": {
     "duration": 0.014087,
     "end_time": "2022-10-30T03:25:16.597002",
     "exception": false,
     "start_time": "2022-10-30T03:25:16.582915",
     "status": "completed"
    },
    "tags": []
   },
   "outputs": [],
   "source": []
  }
 ],
 "metadata": {
  "kernelspec": {
   "display_name": "Python 3",
   "language": "python",
   "name": "python3"
  },
  "language_info": {
   "codemirror_mode": {
    "name": "ipython",
    "version": 3
   },
   "file_extension": ".py",
   "mimetype": "text/x-python",
   "name": "python",
   "nbconvert_exporter": "python",
   "pygments_lexer": "ipython3",
   "version": "3.6.15"
  },
  "papermill": {
   "default_parameters": {},
   "duration": 16.920815,
   "end_time": "2022-10-30T03:25:17.232862",
   "environment_variables": {},
   "exception": null,
   "input_path": "Market-News.ipynb",
   "output_path": "Market-News.ipynb",
   "parameters": {},
   "start_time": "2022-10-30T03:25:00.312047",
   "version": "2.2.2"
  }
 },
 "nbformat": 4,
 "nbformat_minor": 5
}