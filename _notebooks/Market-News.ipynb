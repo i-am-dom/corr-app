{
 "cells": [
  {
   "cell_type": "markdown",
   "id": "short-greensboro",
   "metadata": {
    "papermill": {
     "duration": 0.015586,
     "end_time": "2021-09-13T02:00:01.320661",
     "exception": false,
     "start_time": "2021-09-13T02:00:01.305075",
     "status": "completed"
    },
    "tags": []
   },
   "source": [
    "# Kriptovaliutų naujienos"
   ]
  },
  {
   "cell_type": "code",
   "execution_count": 1,
   "id": "functioning-knowing",
   "metadata": {
    "execution": {
     "iopub.execute_input": "2021-09-13T02:00:01.354976Z",
     "iopub.status.busy": "2021-09-13T02:00:01.354237Z",
     "iopub.status.idle": "2021-09-13T02:00:02.809245Z",
     "shell.execute_reply": "2021-09-13T02:00:02.808625Z"
    },
    "papermill": {
     "duration": 1.476922,
     "end_time": "2021-09-13T02:00:02.809402",
     "exception": false,
     "start_time": "2021-09-13T02:00:01.332480",
     "status": "completed"
    },
    "tags": []
   },
   "outputs": [],
   "source": [
    "#hide_input\n",
    "import warnings\n",
    "warnings.filterwarnings('ignore')\n",
    "from scripts.read_data import read_api\n",
    "from scripts.read_data import read_news\n",
    "from scripts.read_data import read_covid\n",
    "import matplotlib.pyplot as plt \n",
    "from IPython.display import Markdown as md"
   ]
  },
  {
   "cell_type": "code",
   "execution_count": 2,
   "id": "shared-acceptance",
   "metadata": {
    "execution": {
     "iopub.execute_input": "2021-09-13T02:00:02.841978Z",
     "iopub.status.busy": "2021-09-13T02:00:02.840921Z",
     "iopub.status.idle": "2021-09-13T02:00:14.651637Z",
     "shell.execute_reply": "2021-09-13T02:00:14.652148Z"
    },
    "papermill": {
     "duration": 11.831142,
     "end_time": "2021-09-13T02:00:14.652325",
     "exception": false,
     "start_time": "2021-09-13T02:00:02.821183",
     "status": "completed"
    },
    "tags": []
   },
   "outputs": [],
   "source": [
    "#hide_input\n",
    "blockchain = read_news('blockchain') \n",
    "btc = read_news('btc') \n",
    "xrp = read_news('xrp') \n",
    "trx = read_news('trx') \n",
    "eth = read_news('eth')  \n",
    "ada = read_news('ada')\n",
    "exchange = read_news('exchange') "
   ]
  },
  {
   "cell_type": "code",
   "execution_count": 3,
   "id": "synthetic-notion",
   "metadata": {
    "execution": {
     "iopub.execute_input": "2021-09-13T02:00:14.683373Z",
     "iopub.status.busy": "2021-09-13T02:00:14.682687Z",
     "iopub.status.idle": "2021-09-13T02:00:14.686763Z",
     "shell.execute_reply": "2021-09-13T02:00:14.687298Z"
    },
    "papermill": {
     "duration": 0.0228,
     "end_time": "2021-09-13T02:00:14.687457",
     "exception": false,
     "start_time": "2021-09-13T02:00:14.664657",
     "status": "completed"
    },
    "tags": []
   },
   "outputs": [
    {
     "data": {
      "text/markdown": [
       "- Coinbase shares rise 20% in three months.   TL;DR Breakdown • The Coinbase platform creates a KYC system that guarantees traceable transactions.• The crypto exchange has increased its share value by over 1,000 percent since June. Coinbase has seen progress in its operations after several reconciliations and open offers. The platform for cryptocurrency trading has increased its shares to 20 percent since June, when they fell due to the departure of customers caused by mistrust and interface errors. The Coinbase company has been dealing with crypto investment management for some time. This platform is used mostly by independent companies and traders who have cryptos as their source of income. Although the crypto company is expanding in operations, its profits so far this year have been low. Coinbase regains ground in the cryptocurrency market  Long before cryptocurrencies were born and brought a renewed financial market, problems with ransomware were present. On average, it is estimated there are over 3,000 internet robberies every day within North America. Cyber-criminals have been updated ways to steal money from companies or people, and now, they target cryptocurrencies. This occurs because cryptos are decentralized currencies that cannot be traced. However, Coinbase has created an analysis system based on the Blockchain network to locate these internet pirates. The search server will have the objective of linking the criminals&#8217; wallets with their KYC system. In... ... [| Skaityti daugiau](https://api.follow.it/track-rss-story-click/v3/tHfgumto13CpkX8J7oqie0QqW5gBv7mX) "
      ],
      "text/plain": [
       "<IPython.core.display.Markdown object>"
      ]
     },
     "execution_count": 3,
     "metadata": {},
     "output_type": "execute_result"
    }
   ],
   "source": [
    "#hide_input\n",
    "#md('##### {}'.format(titleBTC)) \n",
    "md(\"- {}{} {}{} [| Skaityti daugiau]({}) \".format(blockchain['title'],'. ', blockchain['body'], ' ...', blockchain['url']))"
   ]
  },
  {
   "cell_type": "code",
   "execution_count": 4,
   "id": "aging-caution",
   "metadata": {
    "execution": {
     "iopub.execute_input": "2021-09-13T02:00:14.717065Z",
     "iopub.status.busy": "2021-09-13T02:00:14.716408Z",
     "iopub.status.idle": "2021-09-13T02:00:14.721535Z",
     "shell.execute_reply": "2021-09-13T02:00:14.722036Z"
    },
    "papermill": {
     "duration": 0.024035,
     "end_time": "2021-09-13T02:00:14.723010",
     "exception": false,
     "start_time": "2021-09-13T02:00:14.698975",
     "status": "completed"
    },
    "tags": []
   },
   "outputs": [
    {
     "data": {
      "text/markdown": [
       "- UK Post Office Adds Option to Buy Bitcoin via Easyid App.  U.K. Post Office&#x2019;s Easyid app is adding the option to buy bitcoin starting this week. Through the free-to-use Post Office app, customers can access Swarm Markets, a regulated crypto exchange, to buy bitcoin and ethereum. Buy Bitcoin and Ether Using Post Office App The U.K. Post Office is introducing an option to buy cryptocurrencies via [&#8230;] ... [| Skaityti daugiau](https://news.bitcoin.com/uk-post-office-option-buy-bitcoin-easyid-app/) "
      ],
      "text/plain": [
       "<IPython.core.display.Markdown object>"
      ]
     },
     "execution_count": 4,
     "metadata": {},
     "output_type": "execute_result"
    }
   ],
   "source": [
    "#hide_input\n",
    "#md('##### {}'.format(titleBTC)) \n",
    "md(\"- {}{} {}{} [| Skaityti daugiau]({}) \".format(btc['title'],'. ', btc['body'], ' ...', btc['url']))"
   ]
  },
  {
   "cell_type": "code",
   "execution_count": 5,
   "id": "organic-actress",
   "metadata": {
    "execution": {
     "iopub.execute_input": "2021-09-13T02:00:14.752975Z",
     "iopub.status.busy": "2021-09-13T02:00:14.752239Z",
     "iopub.status.idle": "2021-09-13T02:00:14.757567Z",
     "shell.execute_reply": "2021-09-13T02:00:14.758062Z"
    },
    "papermill": {
     "duration": 0.022648,
     "end_time": "2021-09-13T02:00:14.758208",
     "exception": false,
     "start_time": "2021-09-13T02:00:14.735560",
     "status": "completed"
    },
    "tags": []
   },
   "outputs": [
    {
     "data": {
      "text/markdown": [
       "- As Leading Cryptos Dip Lower in Value, Elrond, Osmosis, Tron, Cosmos Token Values Climb.  On Sunday, digital currency markets have seen some slight improvements but overall since September 6, 2021, the $2.21 trillion cryptocurrency market capitalization is down 9.79% from $2.45 trillion. While dominant coins like bitcoin and ethereum have slid between 8-12% during the last week, a number of other digital assets have seen double-digit weekly gains and [&#8230;] ... [| Skaityti daugiau](https://news.bitcoin.com/as-leading-cryptos-dip-lower-in-value-elrond-osmosis-tron-cosmos-token-values-climb/) "
      ],
      "text/plain": [
       "<IPython.core.display.Markdown object>"
      ]
     },
     "execution_count": 5,
     "metadata": {},
     "output_type": "execute_result"
    }
   ],
   "source": [
    "#hide_input\n",
    "#md('##### {}'.format(titleBTC)) \n",
    "md(\"- {}{} {}{} [| Skaityti daugiau]({}) \".format(xrp['title'],'. ', xrp['body'], ' ...', xrp['url']))"
   ]
  },
  {
   "cell_type": "code",
   "execution_count": 6,
   "id": "prompt-farmer",
   "metadata": {
    "execution": {
     "iopub.execute_input": "2021-09-13T02:00:14.789510Z",
     "iopub.status.busy": "2021-09-13T02:00:14.787544Z",
     "iopub.status.idle": "2021-09-13T02:00:14.791891Z",
     "shell.execute_reply": "2021-09-13T02:00:14.792404Z"
    },
    "papermill": {
     "duration": 0.021062,
     "end_time": "2021-09-13T02:00:14.792545",
     "exception": false,
     "start_time": "2021-09-13T02:00:14.771483",
     "status": "completed"
    },
    "tags": []
   },
   "outputs": [
    {
     "data": {
      "text/markdown": [
       "- Justin Sun Tweets Big News Teaser: Is Tron (TRX) Ready To Hit $1?.  Justin Sun teases the TRON community on Twitter. TRON CEO posted that there will be big news next week. Currently, ... [| Skaityti daugiau](https://coinquora.com/justin-sun-tweets-big-news-teaser-is-tron-trx-ready-to-hit-1/) "
      ],
      "text/plain": [
       "<IPython.core.display.Markdown object>"
      ]
     },
     "execution_count": 6,
     "metadata": {},
     "output_type": "execute_result"
    }
   ],
   "source": [
    "#hide_input\n",
    "#md('##### {}'.format(titleBTC)) \n",
    "md(\"- {}{} {}{} [| Skaityti daugiau]({}) \".format(trx['title'],'. ', trx['body'], ' ...', trx['url']))"
   ]
  },
  {
   "cell_type": "code",
   "execution_count": 7,
   "id": "illegal-greece",
   "metadata": {
    "execution": {
     "iopub.execute_input": "2021-09-13T02:00:14.825500Z",
     "iopub.status.busy": "2021-09-13T02:00:14.824328Z",
     "iopub.status.idle": "2021-09-13T02:00:14.827383Z",
     "shell.execute_reply": "2021-09-13T02:00:14.827899Z"
    },
    "papermill": {
     "duration": 0.022841,
     "end_time": "2021-09-13T02:00:14.828049",
     "exception": false,
     "start_time": "2021-09-13T02:00:14.805208",
     "status": "completed"
    },
    "tags": []
   },
   "outputs": [
    {
     "data": {
      "text/markdown": [
       "- UK Post Office Adds Option to Buy Bitcoin via Easyid App.  U.K. Post Office&#x2019;s Easyid app is adding the option to buy bitcoin starting this week. Through the free-to-use Post Office app, customers can access Swarm Markets, a regulated crypto exchange, to buy bitcoin and ethereum. Buy Bitcoin and Ether Using Post Office App The U.K. Post Office is introducing an option to buy cryptocurrencies via [&#8230;] ... [| Skaityti daugiau](https://news.bitcoin.com/uk-post-office-option-buy-bitcoin-easyid-app/) "
      ],
      "text/plain": [
       "<IPython.core.display.Markdown object>"
      ]
     },
     "execution_count": 7,
     "metadata": {},
     "output_type": "execute_result"
    }
   ],
   "source": [
    "#hide_input\n",
    "#md('##### {}'.format(titleBTC)) \n",
    "md(\"- {}{} {}{} [| Skaityti daugiau]({}) \".format(eth['title'],'. ', eth['body'], ' ...', eth['url']))"
   ]
  },
  {
   "cell_type": "code",
   "execution_count": 8,
   "id": "sublime-lounge",
   "metadata": {
    "execution": {
     "iopub.execute_input": "2021-09-13T02:00:14.859985Z",
     "iopub.status.busy": "2021-09-13T02:00:14.859348Z",
     "iopub.status.idle": "2021-09-13T02:00:14.861761Z",
     "shell.execute_reply": "2021-09-13T02:00:14.862360Z"
    },
    "papermill": {
     "duration": 0.021577,
     "end_time": "2021-09-13T02:00:14.862511",
     "exception": false,
     "start_time": "2021-09-13T02:00:14.840934",
     "status": "completed"
    },
    "tags": []
   },
   "outputs": [
    {
     "data": {
      "text/markdown": [
       "- Cardano tops ‘commits leader-board’ prior to upcoming Alonzo hadfork.  As Cardano is readies for the Alonzo hardfork, it has already beaten its competition with the most average commits per month (CPM) in the past year. Outlier Ventures&#8217; report pointed out a 24% growth in Cardano&#8217;s commits compared to the previous 12-month period. While it ranked number one on average commits, Cardano was also &#8220;555% [&#8230;] ... [| Skaityti daugiau](https://ambcrypto.com/cardano-tops-commits-leader-board-prior-to-upcoming-alonzo-hadfork/) "
      ],
      "text/plain": [
       "<IPython.core.display.Markdown object>"
      ]
     },
     "execution_count": 8,
     "metadata": {},
     "output_type": "execute_result"
    }
   ],
   "source": [
    "#hide_input\n",
    "#md('##### {}'.format(titleBTC)) \n",
    "md(\"- {}{} {}{} [| Skaityti daugiau]({}) \".format(ada['title'],'. ', ada['body'], ' ...', ada['url']))"
   ]
  },
  {
   "cell_type": "code",
   "execution_count": 9,
   "id": "specified-ordering",
   "metadata": {
    "execution": {
     "iopub.execute_input": "2021-09-13T02:00:14.896329Z",
     "iopub.status.busy": "2021-09-13T02:00:14.895644Z",
     "iopub.status.idle": "2021-09-13T02:00:14.898412Z",
     "shell.execute_reply": "2021-09-13T02:00:14.899004Z"
    },
    "papermill": {
     "duration": 0.022219,
     "end_time": "2021-09-13T02:00:14.899157",
     "exception": false,
     "start_time": "2021-09-13T02:00:14.876938",
     "status": "completed"
    },
    "tags": []
   },
   "outputs": [
    {
     "data": {
      "text/markdown": [
       "- UK Post Office Adds Option to Buy Bitcoin via Easyid App.  U.K. Post Office&#x2019;s Easyid app is adding the option to buy bitcoin starting this week. Through the free-to-use Post Office app, customers can access Swarm Markets, a regulated crypto exchange, to buy bitcoin and ethereum. Buy Bitcoin and Ether Using Post Office App The U.K. Post Office is introducing an option to buy cryptocurrencies via [&#8230;] ... [| Skaityti daugiau](https://news.bitcoin.com/uk-post-office-option-buy-bitcoin-easyid-app/) "
      ],
      "text/plain": [
       "<IPython.core.display.Markdown object>"
      ]
     },
     "execution_count": 9,
     "metadata": {},
     "output_type": "execute_result"
    }
   ],
   "source": [
    "#hide_input\n",
    "#md('##### {}'.format(titleBTC)) \n",
    "md(\"- {}{} {}{} [| Skaityti daugiau]({}) \".format(exchange['title'],'. ', exchange['body'], ' ...', exchange['url']))"
   ]
  },
  {
   "cell_type": "code",
   "execution_count": null,
   "id": "tender-livestock",
   "metadata": {
    "papermill": {
     "duration": 0.017149,
     "end_time": "2021-09-13T02:00:14.930122",
     "exception": false,
     "start_time": "2021-09-13T02:00:14.912973",
     "status": "completed"
    },
    "tags": []
   },
   "outputs": [],
   "source": []
  },
  {
   "cell_type": "code",
   "execution_count": null,
   "id": "appreciated-diamond",
   "metadata": {
    "papermill": {
     "duration": 0.014783,
     "end_time": "2021-09-13T02:00:14.958564",
     "exception": false,
     "start_time": "2021-09-13T02:00:14.943781",
     "status": "completed"
    },
    "tags": []
   },
   "outputs": [],
   "source": []
  },
  {
   "cell_type": "code",
   "execution_count": null,
   "id": "romance-sweden",
   "metadata": {
    "papermill": {
     "duration": 0.014756,
     "end_time": "2021-09-13T02:00:14.987638",
     "exception": false,
     "start_time": "2021-09-13T02:00:14.972882",
     "status": "completed"
    },
    "tags": []
   },
   "outputs": [],
   "source": []
  },
  {
   "cell_type": "code",
   "execution_count": null,
   "id": "dietary-statistics",
   "metadata": {
    "papermill": {
     "duration": 0.019182,
     "end_time": "2021-09-13T02:00:15.021325",
     "exception": false,
     "start_time": "2021-09-13T02:00:15.002143",
     "status": "completed"
    },
    "tags": []
   },
   "outputs": [],
   "source": []
  }
 ],
 "metadata": {
  "kernelspec": {
   "display_name": "Python 3",
   "language": "python",
   "name": "python3"
  },
  "language_info": {
   "codemirror_mode": {
    "name": "ipython",
    "version": 3
   },
   "file_extension": ".py",
   "mimetype": "text/x-python",
   "name": "python",
   "nbconvert_exporter": "python",
   "pygments_lexer": "ipython3",
   "version": "3.6.14"
  },
  "papermill": {
   "default_parameters": {},
   "duration": 15.331315,
   "end_time": "2021-09-13T02:00:15.549597",
   "environment_variables": {},
   "exception": null,
   "input_path": "Market-News.ipynb",
   "output_path": "Market-News.ipynb",
   "parameters": {},
   "start_time": "2021-09-13T02:00:00.218282",
   "version": "2.2.2"
  }
 },
 "nbformat": 4,
 "nbformat_minor": 5
}