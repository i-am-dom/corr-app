{
 "cells": [
  {
   "cell_type": "markdown",
   "id": "short-greensboro",
   "metadata": {
    "papermill": {
     "duration": 0.013789,
     "end_time": "2021-09-25T01:59:34.942498",
     "exception": false,
     "start_time": "2021-09-25T01:59:34.928709",
     "status": "completed"
    },
    "tags": []
   },
   "source": [
    "# Kriptovaliutų naujienos"
   ]
  },
  {
   "cell_type": "code",
   "execution_count": 1,
   "id": "functioning-knowing",
   "metadata": {
    "execution": {
     "iopub.execute_input": "2021-09-25T01:59:34.974956Z",
     "iopub.status.busy": "2021-09-25T01:59:34.971294Z",
     "iopub.status.idle": "2021-09-25T01:59:36.377662Z",
     "shell.execute_reply": "2021-09-25T01:59:36.377090Z"
    },
    "papermill": {
     "duration": 1.424708,
     "end_time": "2021-09-25T01:59:36.377817",
     "exception": false,
     "start_time": "2021-09-25T01:59:34.953109",
     "status": "completed"
    },
    "tags": []
   },
   "outputs": [],
   "source": [
    "#hide_input\n",
    "import warnings\n",
    "warnings.filterwarnings('ignore')\n",
    "from scripts.read_data import read_api\n",
    "from scripts.read_data import read_news\n",
    "from scripts.read_data import read_covid\n",
    "import matplotlib.pyplot as plt \n",
    "from IPython.display import Markdown as md"
   ]
  },
  {
   "cell_type": "code",
   "execution_count": 2,
   "id": "shared-acceptance",
   "metadata": {
    "execution": {
     "iopub.execute_input": "2021-09-25T01:59:36.407594Z",
     "iopub.status.busy": "2021-09-25T01:59:36.406482Z",
     "iopub.status.idle": "2021-09-25T01:59:44.735092Z",
     "shell.execute_reply": "2021-09-25T01:59:44.736529Z"
    },
    "papermill": {
     "duration": 8.347281,
     "end_time": "2021-09-25T01:59:44.736758",
     "exception": false,
     "start_time": "2021-09-25T01:59:36.389477",
     "status": "completed"
    },
    "tags": []
   },
   "outputs": [],
   "source": [
    "#hide_input\n",
    "blockchain = read_news('blockchain') \n",
    "btc = read_news('btc') \n",
    "xrp = read_news('xrp') \n",
    "trx = read_news('trx') \n",
    "eth = read_news('eth')  \n",
    "ada = read_news('ada')\n",
    "exchange = read_news('exchange') "
   ]
  },
  {
   "cell_type": "code",
   "execution_count": 3,
   "id": "synthetic-notion",
   "metadata": {
    "execution": {
     "iopub.execute_input": "2021-09-25T01:59:44.765239Z",
     "iopub.status.busy": "2021-09-25T01:59:44.764514Z",
     "iopub.status.idle": "2021-09-25T01:59:44.771395Z",
     "shell.execute_reply": "2021-09-25T01:59:44.772115Z"
    },
    "papermill": {
     "duration": 0.023463,
     "end_time": "2021-09-25T01:59:44.772263",
     "exception": false,
     "start_time": "2021-09-25T01:59:44.748800",
     "status": "completed"
    },
    "tags": []
   },
   "outputs": [
    {
     "data": {
      "text/markdown": [
       "- DeFi Hack: Vee Finance Losses $35 Million To Hackers Following Mainnet Launch.  One of the major threats to businesses online, not only the crypto industry, is cybercriminals&#8217; attacks. Even though the existing networks are supposed to be safe and secure, attackers often find loopholes to exploit them in the bid to steal investors’ funds. This is not new in the online world. There have been occasions when hackers even forced companies to shut down. The decentralized finance sector has seen a lot of growth in recent times, but the growing exploitation cases are becoming alarming. Many protocols have suffered such attacks amounting to losses to the tune of millions of dollars. The latest to record such an exploit is Vee Finance based on the Avalanche Blockchain. Hackers stole $35 million from this protocol a few days after its mainnet went live on the host network. Before reporting this incident, Vee Finance stopped all its transactions on September 20, 2021. The team suspected questionable activities in the network and had to stop rendering services to users. Vee Finance Lost Money In BTC And ETH The two cryptos that hackers stole are BTC and ETH. The total number of BTC was 214, while ETH was 8,804. Checking the value of both at press time, the amount was above $35M. According to what the team revealed, the hackers targeted a particular address through the trade contract address of the protocol. Related Reading &#124; Will Fear And Greed Keep Bitcoin Buyers From The Halloween Effect? As soon as the V... ... [| Skaityti daugiau](https://www.newsbtc.com/news/vee-finance-losses-35m-to-hackers/) "
      ],
      "text/plain": [
       "<IPython.core.display.Markdown object>"
      ]
     },
     "execution_count": 3,
     "metadata": {},
     "output_type": "execute_result"
    }
   ],
   "source": [
    "#hide_input\n",
    "#md('##### {}'.format(titleBTC)) \n",
    "md(\"- {}{} {}{} [| Skaityti daugiau]({}) \".format(blockchain['title'],'. ', blockchain['body'], ' ...', blockchain['url']))"
   ]
  },
  {
   "cell_type": "code",
   "execution_count": 4,
   "id": "aging-caution",
   "metadata": {
    "execution": {
     "iopub.execute_input": "2021-09-25T01:59:44.800349Z",
     "iopub.status.busy": "2021-09-25T01:59:44.799669Z",
     "iopub.status.idle": "2021-09-25T01:59:44.803292Z",
     "shell.execute_reply": "2021-09-25T01:59:44.802610Z"
    },
    "papermill": {
     "duration": 0.019873,
     "end_time": "2021-09-25T01:59:44.803405",
     "exception": false,
     "start_time": "2021-09-25T01:59:44.783532",
     "status": "completed"
    },
    "tags": []
   },
   "outputs": [
    {
     "data": {
      "text/markdown": [
       "- DeFi Hack: Vee Finance Losses $35 Million To Hackers Following Mainnet Launch.  One of the major threats to businesses online, not only the crypto industry, is cybercriminals&#8217; attacks. Even though the existing networks are supposed to be safe and secure, attackers often find loopholes to exploit them in the bid to steal investors’ funds. This is not new in the online world. There have been occasions when hackers even forced companies to shut down. The decentralized finance sector has seen a lot of growth in recent times, but the growing exploitation cases are becoming alarming. Many protocols have suffered such attacks amounting to losses to the tune of millions of dollars. The latest to record such an exploit is Vee Finance based on the Avalanche Blockchain. Hackers stole $35 million from this protocol a few days after its mainnet went live on the host network. Before reporting this incident, Vee Finance stopped all its transactions on September 20, 2021. The team suspected questionable activities in the network and had to stop rendering services to users. Vee Finance Lost Money In BTC And ETH The two cryptos that hackers stole are BTC and ETH. The total number of BTC was 214, while ETH was 8,804. Checking the value of both at press time, the amount was above $35M. According to what the team revealed, the hackers targeted a particular address through the trade contract address of the protocol. Related Reading &#124; Will Fear And Greed Keep Bitcoin Buyers From The Halloween Effect? As soon as the V... ... [| Skaityti daugiau](https://www.newsbtc.com/news/vee-finance-losses-35m-to-hackers/) "
      ],
      "text/plain": [
       "<IPython.core.display.Markdown object>"
      ]
     },
     "execution_count": 4,
     "metadata": {},
     "output_type": "execute_result"
    }
   ],
   "source": [
    "#hide_input\n",
    "#md('##### {}'.format(titleBTC)) \n",
    "md(\"- {}{} {}{} [| Skaityti daugiau]({}) \".format(btc['title'],'. ', btc['body'], ' ...', btc['url']))"
   ]
  },
  {
   "cell_type": "code",
   "execution_count": 5,
   "id": "organic-actress",
   "metadata": {
    "execution": {
     "iopub.execute_input": "2021-09-25T01:59:44.830273Z",
     "iopub.status.busy": "2021-09-25T01:59:44.829628Z",
     "iopub.status.idle": "2021-09-25T01:59:44.833114Z",
     "shell.execute_reply": "2021-09-25T01:59:44.832553Z"
    },
    "papermill": {
     "duration": 0.019048,
     "end_time": "2021-09-25T01:59:44.833234",
     "exception": false,
     "start_time": "2021-09-25T01:59:44.814186",
     "status": "completed"
    },
    "tags": []
   },
   "outputs": [
    {
     "data": {
      "text/markdown": [
       "- Price analysis 9/24: BTC, ETH, ADA, BNB, XRP, SOL, DOT, DOGE, AVAX, LUNA.  Bitcoin and altcoins made a sharp downside move to their recent lows after news that China banned crypto trading surfaced. ... [| Skaityti daugiau](https://cointelegraph.com/news/price-analysis-9-24-btc-eth-ada-bnb-xrp-sol-dot-doge-avax-luna) "
      ],
      "text/plain": [
       "<IPython.core.display.Markdown object>"
      ]
     },
     "execution_count": 5,
     "metadata": {},
     "output_type": "execute_result"
    }
   ],
   "source": [
    "#hide_input\n",
    "#md('##### {}'.format(titleBTC)) \n",
    "md(\"- {}{} {}{} [| Skaityti daugiau]({}) \".format(xrp['title'],'. ', xrp['body'], ' ...', xrp['url']))"
   ]
  },
  {
   "cell_type": "code",
   "execution_count": 6,
   "id": "prompt-farmer",
   "metadata": {
    "execution": {
     "iopub.execute_input": "2021-09-25T01:59:44.862416Z",
     "iopub.status.busy": "2021-09-25T01:59:44.861825Z",
     "iopub.status.idle": "2021-09-25T01:59:44.864466Z",
     "shell.execute_reply": "2021-09-25T01:59:44.865020Z"
    },
    "papermill": {
     "duration": 0.020416,
     "end_time": "2021-09-25T01:59:44.865141",
     "exception": false,
     "start_time": "2021-09-25T01:59:44.844725",
     "status": "completed"
    },
    "tags": []
   },
   "outputs": [
    {
     "data": {
      "text/markdown": [
       "- VanEck’s Tron (TRX) ETN to Go Live on Euronext Exchange, Said Justin Sun.  The VanEck Tron (TRX) ETN has been launched on two leading European stock exchanges in a short time. ... [| Skaityti daugiau](https://cryptopotato.com/vanecks-tron-trx-etn-to-go-live-on-euronext-exchange-said-justin-sun/) "
      ],
      "text/plain": [
       "<IPython.core.display.Markdown object>"
      ]
     },
     "execution_count": 6,
     "metadata": {},
     "output_type": "execute_result"
    }
   ],
   "source": [
    "#hide_input\n",
    "#md('##### {}'.format(titleBTC)) \n",
    "md(\"- {}{} {}{} [| Skaityti daugiau]({}) \".format(trx['title'],'. ', trx['body'], ' ...', trx['url']))"
   ]
  },
  {
   "cell_type": "code",
   "execution_count": 7,
   "id": "illegal-greece",
   "metadata": {
    "execution": {
     "iopub.execute_input": "2021-09-25T01:59:44.893355Z",
     "iopub.status.busy": "2021-09-25T01:59:44.892719Z",
     "iopub.status.idle": "2021-09-25T01:59:44.896066Z",
     "shell.execute_reply": "2021-09-25T01:59:44.895594Z"
    },
    "papermill": {
     "duration": 0.018707,
     "end_time": "2021-09-25T01:59:44.896175",
     "exception": false,
     "start_time": "2021-09-25T01:59:44.877468",
     "status": "completed"
    },
    "tags": []
   },
   "outputs": [
    {
     "data": {
      "text/markdown": [
       "- DeFi Hack: Vee Finance Losses $35 Million To Hackers Following Mainnet Launch.  One of the major threats to businesses online, not only the crypto industry, is cybercriminals&#8217; attacks. Even though the existing networks are supposed to be safe and secure, attackers often find loopholes to exploit them in the bid to steal investors’ funds. This is not new in the online world. There have been occasions when hackers even forced companies to shut down. The decentralized finance sector has seen a lot of growth in recent times, but the growing exploitation cases are becoming alarming. Many protocols have suffered such attacks amounting to losses to the tune of millions of dollars. The latest to record such an exploit is Vee Finance based on the Avalanche Blockchain. Hackers stole $35 million from this protocol a few days after its mainnet went live on the host network. Before reporting this incident, Vee Finance stopped all its transactions on September 20, 2021. The team suspected questionable activities in the network and had to stop rendering services to users. Vee Finance Lost Money In BTC And ETH The two cryptos that hackers stole are BTC and ETH. The total number of BTC was 214, while ETH was 8,804. Checking the value of both at press time, the amount was above $35M. According to what the team revealed, the hackers targeted a particular address through the trade contract address of the protocol. Related Reading &#124; Will Fear And Greed Keep Bitcoin Buyers From The Halloween Effect? As soon as the V... ... [| Skaityti daugiau](https://www.newsbtc.com/news/vee-finance-losses-35m-to-hackers/) "
      ],
      "text/plain": [
       "<IPython.core.display.Markdown object>"
      ]
     },
     "execution_count": 7,
     "metadata": {},
     "output_type": "execute_result"
    }
   ],
   "source": [
    "#hide_input\n",
    "#md('##### {}'.format(titleBTC)) \n",
    "md(\"- {}{} {}{} [| Skaityti daugiau]({}) \".format(eth['title'],'. ', eth['body'], ' ...', eth['url']))"
   ]
  },
  {
   "cell_type": "code",
   "execution_count": 8,
   "id": "sublime-lounge",
   "metadata": {
    "execution": {
     "iopub.execute_input": "2021-09-25T01:59:44.925736Z",
     "iopub.status.busy": "2021-09-25T01:59:44.925147Z",
     "iopub.status.idle": "2021-09-25T01:59:44.928067Z",
     "shell.execute_reply": "2021-09-25T01:59:44.928655Z"
    },
    "papermill": {
     "duration": 0.020468,
     "end_time": "2021-09-25T01:59:44.928787",
     "exception": false,
     "start_time": "2021-09-25T01:59:44.908319",
     "status": "completed"
    },
    "tags": []
   },
   "outputs": [
    {
     "data": {
      "text/markdown": [
       "- Cardano Summit Begins Tomorrow, Here’s What You Should Know.  The Cardano summit is scheduled to begin tomorrow, Saturday, September 25th. The summit is scheduled to run for two days, the 25th to the 26th, and promises to be a one-of-a-kind event. Meetups are available in six locations around the world. But the summit will feature both live and virtual events where anyone from around the world can attend. Local groups are also available with community-led events. Events at the Cardano summit are split by the worlds they fall into. Currently, the summit features seven different worlds in which individuals can choose to participate in. These worlds include Cardano World, Utility, Impact, Governance, Adoption, Catalyst, and Community. Related Reading &#124; Cardano Founder Charles Hoskinson Says The Term Smart Contracts Needs To Be Changed The Cardano community is still giddy with the recent launch of smart contracts capability on the network, and with good reason. This summit promises some bigger announcements following this incredible feat. Details of what might be expected from the team are still sparse. So right now, it really is a waiting game as the opening of the summit draws closer. The partly virtual event features avatars for participants to communicate with one another. While also featuring notable keynote speakers from the crypto space that will speak throughout the two-day summit. In addition to these will be the availability of limited edition NFTs minted on the blockchain to ... ... [| Skaityti daugiau](https://www.newsbtc.com/news/cardano/cardano-summit-begins-tomorrow/) "
      ],
      "text/plain": [
       "<IPython.core.display.Markdown object>"
      ]
     },
     "execution_count": 8,
     "metadata": {},
     "output_type": "execute_result"
    }
   ],
   "source": [
    "#hide_input\n",
    "#md('##### {}'.format(titleBTC)) \n",
    "md(\"- {}{} {}{} [| Skaityti daugiau]({}) \".format(ada['title'],'. ', ada['body'], ' ...', ada['url']))"
   ]
  },
  {
   "cell_type": "code",
   "execution_count": 9,
   "id": "specified-ordering",
   "metadata": {
    "execution": {
     "iopub.execute_input": "2021-09-25T01:59:44.959932Z",
     "iopub.status.busy": "2021-09-25T01:59:44.959288Z",
     "iopub.status.idle": "2021-09-25T01:59:44.962480Z",
     "shell.execute_reply": "2021-09-25T01:59:44.961904Z"
    },
    "papermill": {
     "duration": 0.021286,
     "end_time": "2021-09-25T01:59:44.962593",
     "exception": false,
     "start_time": "2021-09-25T01:59:44.941307",
     "status": "completed"
    },
    "tags": []
   },
   "outputs": [
    {
     "data": {
      "text/markdown": [
       "- Kraken is Building out Staking, Consumer Capabilities and Monitoring NFT Space.  Chief product officer: crypto exchange also looking to expand in areas “that are probably going to be surprising” The post Kraken is Building out Staking, Consumer Capabilities and Monitoring NFT Space appeared first on Blockworks. ... [| Skaityti daugiau](https://blockworks.co/kraken-is-building-out-staking-consumer-capabilities-and-monitoring-nft-space/) "
      ],
      "text/plain": [
       "<IPython.core.display.Markdown object>"
      ]
     },
     "execution_count": 9,
     "metadata": {},
     "output_type": "execute_result"
    }
   ],
   "source": [
    "#hide_input\n",
    "#md('##### {}'.format(titleBTC)) \n",
    "md(\"- {}{} {}{} [| Skaityti daugiau]({}) \".format(exchange['title'],'. ', exchange['body'], ' ...', exchange['url']))"
   ]
  },
  {
   "cell_type": "code",
   "execution_count": null,
   "id": "tender-livestock",
   "metadata": {
    "papermill": {
     "duration": 0.013234,
     "end_time": "2021-09-25T01:59:44.988773",
     "exception": false,
     "start_time": "2021-09-25T01:59:44.975539",
     "status": "completed"
    },
    "tags": []
   },
   "outputs": [],
   "source": []
  },
  {
   "cell_type": "code",
   "execution_count": null,
   "id": "appreciated-diamond",
   "metadata": {
    "papermill": {
     "duration": 0.013408,
     "end_time": "2021-09-25T01:59:45.015214",
     "exception": false,
     "start_time": "2021-09-25T01:59:45.001806",
     "status": "completed"
    },
    "tags": []
   },
   "outputs": [],
   "source": []
  },
  {
   "cell_type": "code",
   "execution_count": null,
   "id": "romance-sweden",
   "metadata": {
    "papermill": {
     "duration": 0.013598,
     "end_time": "2021-09-25T01:59:45.042929",
     "exception": false,
     "start_time": "2021-09-25T01:59:45.029331",
     "status": "completed"
    },
    "tags": []
   },
   "outputs": [],
   "source": []
  },
  {
   "cell_type": "code",
   "execution_count": null,
   "id": "dietary-statistics",
   "metadata": {
    "papermill": {
     "duration": 0.013939,
     "end_time": "2021-09-25T01:59:45.069319",
     "exception": false,
     "start_time": "2021-09-25T01:59:45.055380",
     "status": "completed"
    },
    "tags": []
   },
   "outputs": [],
   "source": []
  }
 ],
 "metadata": {
  "kernelspec": {
   "display_name": "Python 3",
   "language": "python",
   "name": "python3"
  },
  "language_info": {
   "codemirror_mode": {
    "name": "ipython",
    "version": 3
   },
   "file_extension": ".py",
   "mimetype": "text/x-python",
   "name": "python",
   "nbconvert_exporter": "python",
   "pygments_lexer": "ipython3",
   "version": "3.6.15"
  },
  "papermill": {
   "default_parameters": {},
   "duration": 11.658046,
   "end_time": "2021-09-25T01:59:45.490920",
   "environment_variables": {},
   "exception": null,
   "input_path": "Market-News.ipynb",
   "output_path": "Market-News.ipynb",
   "parameters": {},
   "start_time": "2021-09-25T01:59:33.832874",
   "version": "2.2.2"
  }
 },
 "nbformat": 4,
 "nbformat_minor": 5
}