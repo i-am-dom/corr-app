{
 "cells": [
  {
   "cell_type": "markdown",
   "id": "short-greensboro",
   "metadata": {
    "papermill": {
     "duration": 0.012858,
     "end_time": "2022-08-03T03:24:03.008026",
     "exception": false,
     "start_time": "2022-08-03T03:24:02.995168",
     "status": "completed"
    },
    "tags": []
   },
   "source": [
    "# Kriptovaliutų naujienos"
   ]
  },
  {
   "cell_type": "code",
   "execution_count": 1,
   "id": "functioning-knowing",
   "metadata": {
    "execution": {
     "iopub.execute_input": "2022-08-03T03:24:03.037131Z",
     "iopub.status.busy": "2022-08-03T03:24:03.036553Z",
     "iopub.status.idle": "2022-08-03T03:24:04.193310Z",
     "shell.execute_reply": "2022-08-03T03:24:04.192325Z"
    },
    "papermill": {
     "duration": 1.175597,
     "end_time": "2022-08-03T03:24:04.193448",
     "exception": false,
     "start_time": "2022-08-03T03:24:03.017851",
     "status": "completed"
    },
    "tags": []
   },
   "outputs": [],
   "source": [
    "#hide_input\n",
    "import warnings\n",
    "warnings.filterwarnings('ignore')\n",
    "from scripts.read_data import read_api\n",
    "from scripts.read_data import read_news\n",
    "from scripts.read_data import read_covid\n",
    "import matplotlib.pyplot as plt \n",
    "from IPython.display import Markdown as md"
   ]
  },
  {
   "cell_type": "code",
   "execution_count": 2,
   "id": "shared-acceptance",
   "metadata": {
    "execution": {
     "iopub.execute_input": "2022-08-03T03:24:04.218096Z",
     "iopub.status.busy": "2022-08-03T03:24:04.217067Z",
     "iopub.status.idle": "2022-08-03T03:24:15.685542Z",
     "shell.execute_reply": "2022-08-03T03:24:15.684600Z"
    },
    "papermill": {
     "duration": 11.482842,
     "end_time": "2022-08-03T03:24:15.685669",
     "exception": false,
     "start_time": "2022-08-03T03:24:04.202827",
     "status": "completed"
    },
    "tags": []
   },
   "outputs": [],
   "source": [
    "#hide_input\n",
    "blockchain = read_news('blockchain') \n",
    "btc = read_news('btc') \n",
    "xrp = read_news('xrp') \n",
    "trx = read_news('trx') \n",
    "eth = read_news('eth')  \n",
    "ada = read_news('ada')\n",
    "exchange = read_news('exchange') "
   ]
  },
  {
   "cell_type": "code",
   "execution_count": 3,
   "id": "synthetic-notion",
   "metadata": {
    "execution": {
     "iopub.execute_input": "2022-08-03T03:24:15.710233Z",
     "iopub.status.busy": "2022-08-03T03:24:15.709670Z",
     "iopub.status.idle": "2022-08-03T03:24:15.712779Z",
     "shell.execute_reply": "2022-08-03T03:24:15.712328Z"
    },
    "papermill": {
     "duration": 0.017833,
     "end_time": "2022-08-03T03:24:15.712878",
     "exception": false,
     "start_time": "2022-08-03T03:24:15.695045",
     "status": "completed"
    },
    "tags": []
   },
   "outputs": [
    {
     "data": {
      "text/markdown": [
       "- Dropil co-founders sentenced to prison for securities fraud and a $1.9 million crypto scam.  On Monday, the United States Attorney&#8217;s Office in California revealed in a press release that Dropil co-founders were sentenced to federal prison for scamming investors to steal around 41.9 million. During 2017’s crypto ICO craze, Jeremy McAlpine and Zachary Matar founded a crypto company established in Belize and operating in California, dubbed Dropil. The company developed a [&#8230;]The post Dropil co-founders sentenced to prison for securities fraud and a $1.9 million crypto scam appeared first on Blockchain, Crypto and Stock News. ... [| Skaityti daugiau](https://thecoinrise.com/dropil-co-founders-sentenced-to-prison-for-securities-fraud-and-a-1-9-million-crypto-scam/) "
      ],
      "text/plain": [
       "<IPython.core.display.Markdown object>"
      ]
     },
     "execution_count": 3,
     "metadata": {},
     "output_type": "execute_result"
    }
   ],
   "source": [
    "#hide_input\n",
    "#md('##### {}'.format(titleBTC)) \n",
    "md(\"- {}{} {}{} [| Skaityti daugiau]({}) \".format(blockchain['title'],'. ', blockchain['body'], ' ...', blockchain['url']))"
   ]
  },
  {
   "cell_type": "code",
   "execution_count": 4,
   "id": "aging-caution",
   "metadata": {
    "execution": {
     "iopub.execute_input": "2022-08-03T03:24:15.736377Z",
     "iopub.status.busy": "2022-08-03T03:24:15.735819Z",
     "iopub.status.idle": "2022-08-03T03:24:15.738497Z",
     "shell.execute_reply": "2022-08-03T03:24:15.738922Z"
    },
    "papermill": {
     "duration": 0.016675,
     "end_time": "2022-08-03T03:24:15.739034",
     "exception": false,
     "start_time": "2022-08-03T03:24:15.722359",
     "status": "completed"
    },
    "tags": []
   },
   "outputs": [
    {
     "data": {
      "text/markdown": [
       "- New Optimistic Buyers Flock To Bitcoin.  Holders who have accumulated bitcoin over the past six months aren’t liquidating their positions despite unrealized losses, suggesting conviction in the asset. ... [| Skaityti daugiau](https://bitcoinmagazine.com/markets/new-optimistic-buyers-flock-to-bitcoin) "
      ],
      "text/plain": [
       "<IPython.core.display.Markdown object>"
      ]
     },
     "execution_count": 4,
     "metadata": {},
     "output_type": "execute_result"
    }
   ],
   "source": [
    "#hide_input\n",
    "#md('##### {}'.format(titleBTC)) \n",
    "md(\"- {}{} {}{} [| Skaityti daugiau]({}) \".format(btc['title'],'. ', btc['body'], ' ...', btc['url']))"
   ]
  },
  {
   "cell_type": "code",
   "execution_count": 5,
   "id": "organic-actress",
   "metadata": {
    "execution": {
     "iopub.execute_input": "2022-08-03T03:24:15.762203Z",
     "iopub.status.busy": "2022-08-03T03:24:15.761403Z",
     "iopub.status.idle": "2022-08-03T03:24:15.765525Z",
     "shell.execute_reply": "2022-08-03T03:24:15.765053Z"
    },
    "papermill": {
     "duration": 0.016812,
     "end_time": "2022-08-03T03:24:15.765623",
     "exception": false,
     "start_time": "2022-08-03T03:24:15.748811",
     "status": "completed"
    },
    "tags": []
   },
   "outputs": [
    {
     "data": {
      "text/markdown": [
       "- Pro-XRP Lawyer Says Michael Saylor’s View on Altcoins Is ‘Deeply Flawed’ – Here’s Why.  Attorney and XRP supporter John Deaton thinks Michael Saylor&#8217;s recent comments about altcoins are &#8220;absurd.&#8221; Saylor, the CEO of MicroStrategy, recently said in an interview with Not Investment Advice that &#8220;all of the legitimate talent is working on top of the Bitcoin ecosystem.&#8221; &#8220;If you&#8217;re honest, ethical and competent, you&#8217;re building stuff on Lightning, or [&#8230;]The post Pro-XRP Lawyer Says Michael Saylor’s View on Altcoins Is ‘Deeply Flawed’ – Here’s Why appeared first on The Daily Hodl. ... [| Skaityti daugiau](https://dailyhodl.com/2022/08/02/pro-xrp-lawyer-says-michael-saylors-view-on-altcoins-is-deeply-flawed-heres-why/) "
      ],
      "text/plain": [
       "<IPython.core.display.Markdown object>"
      ]
     },
     "execution_count": 5,
     "metadata": {},
     "output_type": "execute_result"
    }
   ],
   "source": [
    "#hide_input\n",
    "#md('##### {}'.format(titleBTC)) \n",
    "md(\"- {}{} {}{} [| Skaityti daugiau]({}) \".format(xrp['title'],'. ', xrp['body'], ' ...', xrp['url']))"
   ]
  },
  {
   "cell_type": "code",
   "execution_count": 6,
   "id": "prompt-farmer",
   "metadata": {
    "execution": {
     "iopub.execute_input": "2022-08-03T03:24:15.790282Z",
     "iopub.status.busy": "2022-08-03T03:24:15.789714Z",
     "iopub.status.idle": "2022-08-03T03:24:15.792954Z",
     "shell.execute_reply": "2022-08-03T03:24:15.792408Z"
    },
    "papermill": {
     "duration": 0.017362,
     "end_time": "2022-08-03T03:24:15.793053",
     "exception": false,
     "start_time": "2022-08-03T03:24:15.775691",
     "status": "completed"
    },
    "tags": []
   },
   "outputs": [
    {
     "data": {
      "text/markdown": [
       "- Three Tokens That Could 10x: Fantom (FTM), Tron (TRX), and Degrain (DGRN).  The post &lt;strong&gt;Three Tokens That Could 10x: Fantom (FTM), Tron (TRX), and Degrain (DGRN)&lt;/strong&gt; appeared first on Coinpedia - Fintech &amp; Cryptocurreny News Media| Crypto GuideThere are two immutable truths in the world of crypto: there will always be a bear market, and even while the charts are bloody, investors have their eyes peeled for the next coin that can give them a 10x gain or more. Fortunately, three options have been giving traders a ray of hope as they &#8230; ... [| Skaityti daugiau](https://coinpedia.org/uncategorized/three-tokens-that-could-10x-fantom-ftm-tron-trx-and-degrain-dgrn/) "
      ],
      "text/plain": [
       "<IPython.core.display.Markdown object>"
      ]
     },
     "execution_count": 6,
     "metadata": {},
     "output_type": "execute_result"
    }
   ],
   "source": [
    "#hide_input\n",
    "#md('##### {}'.format(titleBTC)) \n",
    "md(\"- {}{} {}{} [| Skaityti daugiau]({}) \".format(trx['title'],'. ', trx['body'], ' ...', trx['url']))"
   ]
  },
  {
   "cell_type": "code",
   "execution_count": 7,
   "id": "illegal-greece",
   "metadata": {
    "execution": {
     "iopub.execute_input": "2022-08-03T03:24:15.819166Z",
     "iopub.status.busy": "2022-08-03T03:24:15.818598Z",
     "iopub.status.idle": "2022-08-03T03:24:15.821642Z",
     "shell.execute_reply": "2022-08-03T03:24:15.821167Z"
    },
    "papermill": {
     "duration": 0.018042,
     "end_time": "2022-08-03T03:24:15.821742",
     "exception": false,
     "start_time": "2022-08-03T03:24:15.803700",
     "status": "completed"
    },
    "tags": []
   },
   "outputs": [
    {
     "data": {
      "text/markdown": [
       "- Bitcoin, Ethereum, Waves, and Stacks Daily Price Analyses – 2 August Roundup.  There has been a positive change in the global crypto market, though it hasn&#8217;t turned bullish yet. The decrease in losses indicates that the market is going in the right direction. The reduced losses for Bitcoin, Ethereum, and others show that gains will likely increase soon. If the market has another bullish influx, it will &#8230;  Bitcoin, Ethereum, Waves, and Stacks Daily Price Analyses – 2 August Roundup Read More &#187; ... [| Skaityti daugiau](https://www.cryptopolitan.com/bitcoin-ethereum-waves-and-stacks-daily-price-analyses-2-august-roundup/) "
      ],
      "text/plain": [
       "<IPython.core.display.Markdown object>"
      ]
     },
     "execution_count": 7,
     "metadata": {},
     "output_type": "execute_result"
    }
   ],
   "source": [
    "#hide_input\n",
    "#md('##### {}'.format(titleBTC)) \n",
    "md(\"- {}{} {}{} [| Skaityti daugiau]({}) \".format(eth['title'],'. ', eth['body'], ' ...', eth['url']))"
   ]
  },
  {
   "cell_type": "code",
   "execution_count": 8,
   "id": "sublime-lounge",
   "metadata": {
    "execution": {
     "iopub.execute_input": "2022-08-03T03:24:15.849057Z",
     "iopub.status.busy": "2022-08-03T03:24:15.848486Z",
     "iopub.status.idle": "2022-08-03T03:24:15.851225Z",
     "shell.execute_reply": "2022-08-03T03:24:15.851664Z"
    },
    "papermill": {
     "duration": 0.018279,
     "end_time": "2022-08-03T03:24:15.851777",
     "exception": false,
     "start_time": "2022-08-03T03:24:15.833498",
     "status": "completed"
    },
    "tags": []
   },
   "outputs": [
    {
     "data": {
      "text/markdown": [
       "- Swiss Bank Sygnum Launches Cardano ($ADA) Staking Service.  Cryptocurrency-friendly Swiss bank Sygnum, which calls itself the “world’s first digital asset bank,” has expanded its staking offering with the launch of a Cardano ($ADA) staking service, allowing clients to earn yield on their ADA holdings. According to an announcement the bank made, Sygnum’s staking serves are “ fully integrated with its banking platform, with institutional-grade […] ... [| Skaityti daugiau](https://www.cryptoglobe.com/latest/2022/08/swiss-bank-sygnum-launches-cardano-ada-staking-service/) "
      ],
      "text/plain": [
       "<IPython.core.display.Markdown object>"
      ]
     },
     "execution_count": 8,
     "metadata": {},
     "output_type": "execute_result"
    }
   ],
   "source": [
    "#hide_input\n",
    "#md('##### {}'.format(titleBTC)) \n",
    "md(\"- {}{} {}{} [| Skaityti daugiau]({}) \".format(ada['title'],'. ', ada['body'], ' ...', ada['url']))"
   ]
  },
  {
   "cell_type": "code",
   "execution_count": 9,
   "id": "specified-ordering",
   "metadata": {
    "execution": {
     "iopub.execute_input": "2022-08-03T03:24:15.879220Z",
     "iopub.status.busy": "2022-08-03T03:24:15.878652Z",
     "iopub.status.idle": "2022-08-03T03:24:15.881657Z",
     "shell.execute_reply": "2022-08-03T03:24:15.882095Z"
    },
    "papermill": {
     "duration": 0.01889,
     "end_time": "2022-08-03T03:24:15.882215",
     "exception": false,
     "start_time": "2022-08-03T03:24:15.863325",
     "status": "completed"
    },
    "tags": []
   },
   "outputs": [
    {
     "data": {
      "text/markdown": [
       "- $BABYDOGE Listed on Popular Crypto Exchange Poloniex Amid Growing Token Burns.  The meme-inspired cryptocurrency $BABYDOGE has recently been listed on a popular cryptocurrency exchange, Poloniex, as its keeps on processing token burns and trending on social media thanks to its supporters. According to a bot tracking cryptocurrency listings on exchanges, Poloniex listed $BABYDOGE at the beginning of August and now has the meme-inspired cryptocurrency trading against […] ... [| Skaityti daugiau](https://www.cryptoglobe.com/latest/2022/08/babydoge-listed-on-popular-crypto-exchange-poloniex-amid-growing-token-burns/) "
      ],
      "text/plain": [
       "<IPython.core.display.Markdown object>"
      ]
     },
     "execution_count": 9,
     "metadata": {},
     "output_type": "execute_result"
    }
   ],
   "source": [
    "#hide_input\n",
    "#md('##### {}'.format(titleBTC)) \n",
    "md(\"- {}{} {}{} [| Skaityti daugiau]({}) \".format(exchange['title'],'. ', exchange['body'], ' ...', exchange['url']))"
   ]
  },
  {
   "cell_type": "code",
   "execution_count": null,
   "id": "tender-livestock",
   "metadata": {
    "papermill": {
     "duration": 0.011411,
     "end_time": "2022-08-03T03:24:15.905078",
     "exception": false,
     "start_time": "2022-08-03T03:24:15.893667",
     "status": "completed"
    },
    "tags": []
   },
   "outputs": [],
   "source": []
  },
  {
   "cell_type": "code",
   "execution_count": null,
   "id": "appreciated-diamond",
   "metadata": {
    "papermill": {
     "duration": 0.011586,
     "end_time": "2022-08-03T03:24:15.928263",
     "exception": false,
     "start_time": "2022-08-03T03:24:15.916677",
     "status": "completed"
    },
    "tags": []
   },
   "outputs": [],
   "source": []
  },
  {
   "cell_type": "code",
   "execution_count": null,
   "id": "romance-sweden",
   "metadata": {
    "papermill": {
     "duration": 0.01132,
     "end_time": "2022-08-03T03:24:15.950880",
     "exception": false,
     "start_time": "2022-08-03T03:24:15.939560",
     "status": "completed"
    },
    "tags": []
   },
   "outputs": [],
   "source": []
  },
  {
   "cell_type": "code",
   "execution_count": null,
   "id": "dietary-statistics",
   "metadata": {
    "papermill": {
     "duration": 0.011301,
     "end_time": "2022-08-03T03:24:15.973590",
     "exception": false,
     "start_time": "2022-08-03T03:24:15.962289",
     "status": "completed"
    },
    "tags": []
   },
   "outputs": [],
   "source": []
  }
 ],
 "metadata": {
  "kernelspec": {
   "display_name": "Python 3",
   "language": "python",
   "name": "python3"
  },
  "language_info": {
   "codemirror_mode": {
    "name": "ipython",
    "version": 3
   },
   "file_extension": ".py",
   "mimetype": "text/x-python",
   "name": "python",
   "nbconvert_exporter": "python",
   "pygments_lexer": "ipython3",
   "version": "3.6.15"
  },
  "papermill": {
   "default_parameters": {},
   "duration": 14.317976,
   "end_time": "2022-08-03T03:24:16.402135",
   "environment_variables": {},
   "exception": null,
   "input_path": "Market-News.ipynb",
   "output_path": "Market-News.ipynb",
   "parameters": {},
   "start_time": "2022-08-03T03:24:02.084159",
   "version": "2.2.2"
  }
 },
 "nbformat": 4,
 "nbformat_minor": 5
}