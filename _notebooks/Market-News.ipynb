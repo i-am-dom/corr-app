{
 "cells": [
  {
   "cell_type": "markdown",
   "id": "short-greensboro",
   "metadata": {
    "papermill": {
     "duration": 0.015001,
     "end_time": "2021-11-29T02:00:04.306249",
     "exception": false,
     "start_time": "2021-11-29T02:00:04.291248",
     "status": "completed"
    },
    "tags": []
   },
   "source": [
    "# Kriptovaliutų naujienos"
   ]
  },
  {
   "cell_type": "code",
   "execution_count": 1,
   "id": "functioning-knowing",
   "metadata": {
    "execution": {
     "iopub.execute_input": "2021-11-29T02:00:04.339104Z",
     "iopub.status.busy": "2021-11-29T02:00:04.338356Z",
     "iopub.status.idle": "2021-11-29T02:00:05.767432Z",
     "shell.execute_reply": "2021-11-29T02:00:05.767901Z"
    },
    "papermill": {
     "duration": 1.450778,
     "end_time": "2021-11-29T02:00:05.768080",
     "exception": false,
     "start_time": "2021-11-29T02:00:04.317302",
     "status": "completed"
    },
    "tags": []
   },
   "outputs": [],
   "source": [
    "#hide_input\n",
    "import warnings\n",
    "warnings.filterwarnings('ignore')\n",
    "from scripts.read_data import read_api\n",
    "from scripts.read_data import read_news\n",
    "from scripts.read_data import read_covid\n",
    "import matplotlib.pyplot as plt \n",
    "from IPython.display import Markdown as md"
   ]
  },
  {
   "cell_type": "code",
   "execution_count": 2,
   "id": "shared-acceptance",
   "metadata": {
    "execution": {
     "iopub.execute_input": "2021-11-29T02:00:05.800031Z",
     "iopub.status.busy": "2021-11-29T02:00:05.799076Z",
     "iopub.status.idle": "2021-11-29T02:00:17.170163Z",
     "shell.execute_reply": "2021-11-29T02:00:17.169560Z"
    },
    "papermill": {
     "duration": 11.388853,
     "end_time": "2021-11-29T02:00:17.170290",
     "exception": false,
     "start_time": "2021-11-29T02:00:05.781437",
     "status": "completed"
    },
    "tags": []
   },
   "outputs": [],
   "source": [
    "#hide_input\n",
    "blockchain = read_news('blockchain') \n",
    "btc = read_news('btc') \n",
    "xrp = read_news('xrp') \n",
    "trx = read_news('trx') \n",
    "eth = read_news('eth')  \n",
    "ada = read_news('ada')\n",
    "exchange = read_news('exchange') "
   ]
  },
  {
   "cell_type": "code",
   "execution_count": 3,
   "id": "synthetic-notion",
   "metadata": {
    "execution": {
     "iopub.execute_input": "2021-11-29T02:00:17.199269Z",
     "iopub.status.busy": "2021-11-29T02:00:17.198491Z",
     "iopub.status.idle": "2021-11-29T02:00:17.202385Z",
     "shell.execute_reply": "2021-11-29T02:00:17.202972Z"
    },
    "papermill": {
     "duration": 0.021761,
     "end_time": "2021-11-29T02:00:17.203109",
     "exception": false,
     "start_time": "2021-11-29T02:00:17.181348",
     "status": "completed"
    },
    "tags": []
   },
   "outputs": [
    {
     "data": {
      "text/markdown": [
       "- White House Blacklists 8 Chinese Quantum Computing Companies Citing National Security Risks: Report.  The Biden Administration has announced that it is blacklisting eight Chinese quantum computing companies over concerns that the technology they possess poses a threat to national security. The companies have been added to the U.S. Department of Commerce&#8217;s Entity List, which is a national security tool used by the Bureau of Industry and Security (BIS). [&#8230;]The post White House Blacklists 8 Chinese Quantum Computing Companies Citing National Security Risks: Report appeared first on The Daily Hodl. ... [| Skaityti daugiau](https://dailyhodl.com/2021/11/28/white-house-blacklists-8-chinese-quantum-computing-companies-citing-national-security-risks-report/) "
      ],
      "text/plain": [
       "<IPython.core.display.Markdown object>"
      ]
     },
     "execution_count": 3,
     "metadata": {},
     "output_type": "execute_result"
    }
   ],
   "source": [
    "#hide_input\n",
    "#md('##### {}'.format(titleBTC)) \n",
    "md(\"- {}{} {}{} [| Skaityti daugiau]({}) \".format(blockchain['title'],'. ', blockchain['body'], ' ...', blockchain['url']))"
   ]
  },
  {
   "cell_type": "code",
   "execution_count": 4,
   "id": "aging-caution",
   "metadata": {
    "execution": {
     "iopub.execute_input": "2021-11-29T02:00:17.229351Z",
     "iopub.status.busy": "2021-11-29T02:00:17.228758Z",
     "iopub.status.idle": "2021-11-29T02:00:17.233027Z",
     "shell.execute_reply": "2021-11-29T02:00:17.233499Z"
    },
    "papermill": {
     "duration": 0.019696,
     "end_time": "2021-11-29T02:00:17.233673",
     "exception": false,
     "start_time": "2021-11-29T02:00:17.213977",
     "status": "completed"
    },
    "tags": []
   },
   "outputs": [
    {
     "data": {
      "text/markdown": [
       "- Rich Dad Poor Dad’s Robert Kiyosaki Says He’s Buying Bitcoin and Ether as Inflation Escalates.  The author of the best-selling book Rich Dad Poor Dad, Robert Kiyosaki, has revealed that he is buying more bitcoin and ether amid rising inflation concerns. &#x201C;Inflation is a tax on the poor and middle class. Inflation makes the rich richer,&#x201D; he stressed. Robert Kiyosaki Warns About Inflation, Reveals He&#x2019;s Buying More Bitcoin and Ether [&#8230;] ... [| Skaityti daugiau](https://news.bitcoin.com/rich-dad-poor-dads-robert-kiyosaki-buying-bitcoin-ether-inflation-escalates/) "
      ],
      "text/plain": [
       "<IPython.core.display.Markdown object>"
      ]
     },
     "execution_count": 4,
     "metadata": {},
     "output_type": "execute_result"
    }
   ],
   "source": [
    "#hide_input\n",
    "#md('##### {}'.format(titleBTC)) \n",
    "md(\"- {}{} {}{} [| Skaityti daugiau]({}) \".format(btc['title'],'. ', btc['body'], ' ...', btc['url']))"
   ]
  },
  {
   "cell_type": "code",
   "execution_count": 5,
   "id": "organic-actress",
   "metadata": {
    "execution": {
     "iopub.execute_input": "2021-11-29T02:00:17.261817Z",
     "iopub.status.busy": "2021-11-29T02:00:17.260688Z",
     "iopub.status.idle": "2021-11-29T02:00:17.263738Z",
     "shell.execute_reply": "2021-11-29T02:00:17.264287Z"
    },
    "papermill": {
     "duration": 0.019818,
     "end_time": "2021-11-29T02:00:17.264436",
     "exception": false,
     "start_time": "2021-11-29T02:00:17.244618",
     "status": "completed"
    },
    "tags": []
   },
   "outputs": [
    {
     "data": {
      "text/markdown": [
       "- Is this XRP’s last held support before a confirmed bearish trend.  Towards the end of October, XRP was expected to rally in the market. All the stars were close to aligning as positive sentiments were common across the industry. The SEC v. Ripple lawsuit has also been moving favorably over the past few weeks. Alas, unfortunately, November has not been so kind. At press time, XRP [&#8230;] ... [| Skaityti daugiau](https://ambcrypto.com/is-this-xrps-last-held-support-before-a-confirmed-bearish-trend/) "
      ],
      "text/plain": [
       "<IPython.core.display.Markdown object>"
      ]
     },
     "execution_count": 5,
     "metadata": {},
     "output_type": "execute_result"
    }
   ],
   "source": [
    "#hide_input\n",
    "#md('##### {}'.format(titleBTC)) \n",
    "md(\"- {}{} {}{} [| Skaityti daugiau]({}) \".format(xrp['title'],'. ', xrp['body'], ' ...', xrp['url']))"
   ]
  },
  {
   "cell_type": "code",
   "execution_count": 6,
   "id": "prompt-farmer",
   "metadata": {
    "execution": {
     "iopub.execute_input": "2021-11-29T02:00:17.291005Z",
     "iopub.status.busy": "2021-11-29T02:00:17.290450Z",
     "iopub.status.idle": "2021-11-29T02:00:17.295971Z",
     "shell.execute_reply": "2021-11-29T02:00:17.295465Z"
    },
    "papermill": {
     "duration": 0.020364,
     "end_time": "2021-11-29T02:00:17.296078",
     "exception": false,
     "start_time": "2021-11-29T02:00:17.275714",
     "status": "completed"
    },
    "tags": []
   },
   "outputs": [
    {
     "data": {
      "text/markdown": [
       "- Bitcoin, Tron, Terra Price Analysis: 28 November.  The sustained bearish rally led several altcoins to mark their multi-week lows during the past few days. Consequently, Bitcoin hit its seven-week low on 26 November, while Tron touched its one-month low on 27 November. On the other hand, Terra marked a bull rally over the last day after displaying bullish technical indications. Bitcoin (BTC) [&#8230;] ... [| Skaityti daugiau](https://ambcrypto.com/bitcoin-tron-terra-price-analysis-28-november/) "
      ],
      "text/plain": [
       "<IPython.core.display.Markdown object>"
      ]
     },
     "execution_count": 6,
     "metadata": {},
     "output_type": "execute_result"
    }
   ],
   "source": [
    "#hide_input\n",
    "#md('##### {}'.format(titleBTC)) \n",
    "md(\"- {}{} {}{} [| Skaityti daugiau]({}) \".format(trx['title'],'. ', trx['body'], ' ...', trx['url']))"
   ]
  },
  {
   "cell_type": "code",
   "execution_count": 7,
   "id": "illegal-greece",
   "metadata": {
    "execution": {
     "iopub.execute_input": "2021-11-29T02:00:17.324169Z",
     "iopub.status.busy": "2021-11-29T02:00:17.323582Z",
     "iopub.status.idle": "2021-11-29T02:00:17.328184Z",
     "shell.execute_reply": "2021-11-29T02:00:17.328813Z"
    },
    "papermill": {
     "duration": 0.021172,
     "end_time": "2021-11-29T02:00:17.328935",
     "exception": false,
     "start_time": "2021-11-29T02:00:17.307763",
     "status": "completed"
    },
    "tags": []
   },
   "outputs": [
    {
     "data": {
      "text/markdown": [
       "- SA readers bullish on Avalanche, Niccolo de Masi; trim holdings of Cathie Wood's genomics ETF.  The King of SPACs drew attention last week, as Niccolo de Masi's pending deal to take Planet Labs public generated significant interest among SA readers, according to a review of proprietary data of portfolio adds and removals. Meanwhile, cryptocurrencies remained a hot asset class as well. This was especially true of Avalanche (AVAX-USD), as a new high brought many readers to the Ethereum competitor. Crypto.com (CRO-USD) also found converts, as its continued marketing campaign widened its name recognition. SA readers also snapped up recent IPOs, like WalkMe (NASDAQ:WKME), Sweetgreen (NYSE:SG) and GlobalFoundries (NASDAQ:GFS). On the other side of the spectrum, Cathie Wood met with some skepticism last week. More SA readers chose to dump her ARK Genomic Revolution Multi-Sector ETF (BATS:ARKG) than picked it up. Niccolo de Masi and Planet Labs Buzz has been building about the pending public debut of Planet Labs, which is slated to join the Wall ... [| Skaityti daugiau](https://seekingalpha.com/news/3774693-sa-readers-bullish-on-avalanche-niccolo-de-masi-trim-holdings-of-cathie-woods-genomics-etf?utm_source=cryptocompare.com&utm_medium=referral) "
      ],
      "text/plain": [
       "<IPython.core.display.Markdown object>"
      ]
     },
     "execution_count": 7,
     "metadata": {},
     "output_type": "execute_result"
    }
   ],
   "source": [
    "#hide_input\n",
    "#md('##### {}'.format(titleBTC)) \n",
    "md(\"- {}{} {}{} [| Skaityti daugiau]({}) \".format(eth['title'],'. ', eth['body'], ' ...', eth['url']))"
   ]
  },
  {
   "cell_type": "code",
   "execution_count": 8,
   "id": "sublime-lounge",
   "metadata": {
    "execution": {
     "iopub.execute_input": "2021-11-29T02:00:17.357774Z",
     "iopub.status.busy": "2021-11-29T02:00:17.357128Z",
     "iopub.status.idle": "2021-11-29T02:00:17.361191Z",
     "shell.execute_reply": "2021-11-29T02:00:17.361758Z"
    },
    "papermill": {
     "duration": 0.020802,
     "end_time": "2021-11-29T02:00:17.361901",
     "exception": false,
     "start_time": "2021-11-29T02:00:17.341099",
     "status": "completed"
    },
    "tags": []
   },
   "outputs": [
    {
     "data": {
      "text/markdown": [
       "- Since Launching Smart Contracts, Cardano (ADA) Price is Down Only.  Despite building enthusiasm for the Alonzo hard fork, ADA's price has only turned negative since its launch. ... [| Skaityti daugiau](https://cryptopotato.com/since-launching-smart-contracts-cardano-ada-price-is-down-only/) "
      ],
      "text/plain": [
       "<IPython.core.display.Markdown object>"
      ]
     },
     "execution_count": 8,
     "metadata": {},
     "output_type": "execute_result"
    }
   ],
   "source": [
    "#hide_input\n",
    "#md('##### {}'.format(titleBTC)) \n",
    "md(\"- {}{} {}{} [| Skaityti daugiau]({}) \".format(ada['title'],'. ', ada['body'], ' ...', ada['url']))"
   ]
  },
  {
   "cell_type": "code",
   "execution_count": 9,
   "id": "specified-ordering",
   "metadata": {
    "execution": {
     "iopub.execute_input": "2021-11-29T02:00:17.392201Z",
     "iopub.status.busy": "2021-11-29T02:00:17.391552Z",
     "iopub.status.idle": "2021-11-29T02:00:17.396633Z",
     "shell.execute_reply": "2021-11-29T02:00:17.396134Z"
    },
    "papermill": {
     "duration": 0.021727,
     "end_time": "2021-11-29T02:00:17.396780",
     "exception": false,
     "start_time": "2021-11-29T02:00:17.375053",
     "status": "completed"
    },
    "tags": []
   },
   "outputs": [
    {
     "data": {
      "text/markdown": [
       "- This Week on Crypto Twitter: Elon Musk v Binance, Mr. Goxx Passes Away and Hirst Releases More NFTs.  Adidas announced its metaverse push and new NFTs were announced by Damien Hirst and Snoop Dogg. ... [| Skaityti daugiau](https://decrypt.co/87099/this-week-on-crypto-twitter-elon-musk-v-binance-mr-goxx-passes-away-and-hirst-releases-more-nfts) "
      ],
      "text/plain": [
       "<IPython.core.display.Markdown object>"
      ]
     },
     "execution_count": 9,
     "metadata": {},
     "output_type": "execute_result"
    }
   ],
   "source": [
    "#hide_input\n",
    "#md('##### {}'.format(titleBTC)) \n",
    "md(\"- {}{} {}{} [| Skaityti daugiau]({}) \".format(exchange['title'],'. ', exchange['body'], ' ...', exchange['url']))"
   ]
  },
  {
   "cell_type": "code",
   "execution_count": null,
   "id": "tender-livestock",
   "metadata": {
    "papermill": {
     "duration": 0.013192,
     "end_time": "2021-11-29T02:00:17.423875",
     "exception": false,
     "start_time": "2021-11-29T02:00:17.410683",
     "status": "completed"
    },
    "tags": []
   },
   "outputs": [],
   "source": []
  },
  {
   "cell_type": "code",
   "execution_count": null,
   "id": "appreciated-diamond",
   "metadata": {
    "papermill": {
     "duration": 0.012483,
     "end_time": "2021-11-29T02:00:17.448923",
     "exception": false,
     "start_time": "2021-11-29T02:00:17.436440",
     "status": "completed"
    },
    "tags": []
   },
   "outputs": [],
   "source": []
  },
  {
   "cell_type": "code",
   "execution_count": null,
   "id": "romance-sweden",
   "metadata": {
    "papermill": {
     "duration": 0.01182,
     "end_time": "2021-11-29T02:00:17.473713",
     "exception": false,
     "start_time": "2021-11-29T02:00:17.461893",
     "status": "completed"
    },
    "tags": []
   },
   "outputs": [],
   "source": []
  },
  {
   "cell_type": "code",
   "execution_count": null,
   "id": "dietary-statistics",
   "metadata": {
    "papermill": {
     "duration": 0.012648,
     "end_time": "2021-11-29T02:00:17.498800",
     "exception": false,
     "start_time": "2021-11-29T02:00:17.486152",
     "status": "completed"
    },
    "tags": []
   },
   "outputs": [],
   "source": []
  }
 ],
 "metadata": {
  "kernelspec": {
   "display_name": "Python 3",
   "language": "python",
   "name": "python3"
  },
  "language_info": {
   "codemirror_mode": {
    "name": "ipython",
    "version": 3
   },
   "file_extension": ".py",
   "mimetype": "text/x-python",
   "name": "python",
   "nbconvert_exporter": "python",
   "pygments_lexer": "ipython3",
   "version": "3.6.15"
  },
  "papermill": {
   "default_parameters": {},
   "duration": 14.928789,
   "end_time": "2021-11-29T02:00:17.924263",
   "environment_variables": {},
   "exception": null,
   "input_path": "Market-News.ipynb",
   "output_path": "Market-News.ipynb",
   "parameters": {},
   "start_time": "2021-11-29T02:00:02.995474",
   "version": "2.2.2"
  }
 },
 "nbformat": 4,
 "nbformat_minor": 5
}