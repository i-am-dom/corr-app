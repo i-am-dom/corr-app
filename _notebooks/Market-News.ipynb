{
 "cells": [
  {
   "cell_type": "markdown",
   "id": "short-greensboro",
   "metadata": {
    "papermill": {
     "duration": 0.018017,
     "end_time": "2021-12-05T02:07:55.499482",
     "exception": false,
     "start_time": "2021-12-05T02:07:55.481465",
     "status": "completed"
    },
    "tags": []
   },
   "source": [
    "# Kriptovaliutų naujienos"
   ]
  },
  {
   "cell_type": "code",
   "execution_count": 1,
   "id": "functioning-knowing",
   "metadata": {
    "execution": {
     "iopub.execute_input": "2021-12-05T02:07:55.536423Z",
     "iopub.status.busy": "2021-12-05T02:07:55.535783Z",
     "iopub.status.idle": "2021-12-05T02:07:57.038912Z",
     "shell.execute_reply": "2021-12-05T02:07:57.037970Z"
    },
    "papermill": {
     "duration": 1.528316,
     "end_time": "2021-12-05T02:07:57.039157",
     "exception": false,
     "start_time": "2021-12-05T02:07:55.510841",
     "status": "completed"
    },
    "tags": []
   },
   "outputs": [],
   "source": [
    "#hide_input\n",
    "import warnings\n",
    "warnings.filterwarnings('ignore')\n",
    "from scripts.read_data import read_api\n",
    "from scripts.read_data import read_news\n",
    "from scripts.read_data import read_covid\n",
    "import matplotlib.pyplot as plt \n",
    "from IPython.display import Markdown as md"
   ]
  },
  {
   "cell_type": "code",
   "execution_count": 2,
   "id": "shared-acceptance",
   "metadata": {
    "execution": {
     "iopub.execute_input": "2021-12-05T02:07:57.071732Z",
     "iopub.status.busy": "2021-12-05T02:07:57.071096Z",
     "iopub.status.idle": "2021-12-05T02:08:06.549482Z",
     "shell.execute_reply": "2021-12-05T02:08:06.548202Z"
    },
    "papermill": {
     "duration": 9.49883,
     "end_time": "2021-12-05T02:08:06.549642",
     "exception": false,
     "start_time": "2021-12-05T02:07:57.050812",
     "status": "completed"
    },
    "tags": []
   },
   "outputs": [],
   "source": [
    "#hide_input\n",
    "blockchain = read_news('blockchain') \n",
    "btc = read_news('btc') \n",
    "xrp = read_news('xrp') \n",
    "trx = read_news('trx') \n",
    "eth = read_news('eth')  \n",
    "ada = read_news('ada')\n",
    "exchange = read_news('exchange') "
   ]
  },
  {
   "cell_type": "code",
   "execution_count": 3,
   "id": "synthetic-notion",
   "metadata": {
    "execution": {
     "iopub.execute_input": "2021-12-05T02:08:06.579396Z",
     "iopub.status.busy": "2021-12-05T02:08:06.578342Z",
     "iopub.status.idle": "2021-12-05T02:08:06.581401Z",
     "shell.execute_reply": "2021-12-05T02:08:06.581901Z"
    },
    "papermill": {
     "duration": 0.021459,
     "end_time": "2021-12-05T02:08:06.582043",
     "exception": false,
     "start_time": "2021-12-05T02:08:06.560584",
     "status": "completed"
    },
    "tags": []
   },
   "outputs": [
    {
     "data": {
      "text/markdown": [
       "- Crypto Analyst Michaël van de Poppe Details Path Ahead for Polygon, Harmony and VeChain.  Cryptocurrency analyst and trader Michaël van de Poppe is looking at three altcoins and outlining the path forward after the recent market correction. Starting with Polygon (MATIC), Van de Poppe tells his 150,000 YouTube subscribers that the Ethereum (ETH) scaling solution could potentially hit a new high of $2.70. &#8220;…Overall we are making higher lows. [&#8230;]The post Crypto Analyst Michaël van de Poppe Details Path Ahead for Polygon, Harmony and VeChain appeared first on The Daily Hodl. ... [| Skaityti daugiau](https://dailyhodl.com/2021/12/03/crypto-analyst-michael-van-de-poppe-outlines-whats-next-for-polygon-harmony-and-vechain/) "
      ],
      "text/plain": [
       "<IPython.core.display.Markdown object>"
      ]
     },
     "execution_count": 3,
     "metadata": {},
     "output_type": "execute_result"
    }
   ],
   "source": [
    "#hide_input\n",
    "#md('##### {}'.format(titleBTC)) \n",
    "md(\"- {}{} {}{} [| Skaityti daugiau]({}) \".format(blockchain['title'],'. ', blockchain['body'], ' ...', blockchain['url']))"
   ]
  },
  {
   "cell_type": "code",
   "execution_count": 4,
   "id": "aging-caution",
   "metadata": {
    "execution": {
     "iopub.execute_input": "2021-12-05T02:08:06.610774Z",
     "iopub.status.busy": "2021-12-05T02:08:06.610130Z",
     "iopub.status.idle": "2021-12-05T02:08:06.613191Z",
     "shell.execute_reply": "2021-12-05T02:08:06.613717Z"
    },
    "papermill": {
     "duration": 0.020842,
     "end_time": "2021-12-05T02:08:06.613859",
     "exception": false,
     "start_time": "2021-12-05T02:08:06.593017",
     "status": "completed"
    },
    "tags": []
   },
   "outputs": [
    {
     "data": {
      "text/markdown": [
       "- How Proof-Of-Work Is Useful Beyond Bitcoin.  Like many things, proof-of-work as a concept can be applied in one’s own life beyond the idea of bitcoin mining. ... [| Skaityti daugiau](https://bitcoinmagazine.com/culture/proof-of-work-useful-beyond-bitcoin) "
      ],
      "text/plain": [
       "<IPython.core.display.Markdown object>"
      ]
     },
     "execution_count": 4,
     "metadata": {},
     "output_type": "execute_result"
    }
   ],
   "source": [
    "#hide_input\n",
    "#md('##### {}'.format(titleBTC)) \n",
    "md(\"- {}{} {}{} [| Skaityti daugiau]({}) \".format(btc['title'],'. ', btc['body'], ' ...', btc['url']))"
   ]
  },
  {
   "cell_type": "code",
   "execution_count": 5,
   "id": "organic-actress",
   "metadata": {
    "execution": {
     "iopub.execute_input": "2021-12-05T02:08:06.645189Z",
     "iopub.status.busy": "2021-12-05T02:08:06.644509Z",
     "iopub.status.idle": "2021-12-05T02:08:06.647657Z",
     "shell.execute_reply": "2021-12-05T02:08:06.648150Z"
    },
    "papermill": {
     "duration": 0.023148,
     "end_time": "2021-12-05T02:08:06.648294",
     "exception": false,
     "start_time": "2021-12-05T02:08:06.625146",
     "status": "completed"
    },
    "tags": []
   },
   "outputs": [
    {
     "data": {
      "text/markdown": [
       "- Ripple, SEC back in the ring, due to a Court of Appeals decision in a separate lawsuit.  Those following the SEC vs Ripple Labs lawsuit might have expected radio silence for the rest of the year, after the court pushed the discovery deadline to 14 January 2022. However, a new development in early December has caused a splash. Now, it seems that both the SEC and Ripple will need to take action. [&#8230;] ... [| Skaityti daugiau](https://ambcrypto.com/ripple-sec-back-in-the-ring-due-to-a-court-of-appeals-decision-in-a-separate-lawsuit/) "
      ],
      "text/plain": [
       "<IPython.core.display.Markdown object>"
      ]
     },
     "execution_count": 5,
     "metadata": {},
     "output_type": "execute_result"
    }
   ],
   "source": [
    "#hide_input\n",
    "#md('##### {}'.format(titleBTC)) \n",
    "md(\"- {}{} {}{} [| Skaityti daugiau]({}) \".format(xrp['title'],'. ', xrp['body'], ' ...', xrp['url']))"
   ]
  },
  {
   "cell_type": "code",
   "execution_count": 6,
   "id": "prompt-farmer",
   "metadata": {
    "execution": {
     "iopub.execute_input": "2021-12-05T02:08:06.679669Z",
     "iopub.status.busy": "2021-12-05T02:08:06.678588Z",
     "iopub.status.idle": "2021-12-05T02:08:06.682212Z",
     "shell.execute_reply": "2021-12-05T02:08:06.681675Z"
    },
    "papermill": {
     "duration": 0.022387,
     "end_time": "2021-12-05T02:08:06.682337",
     "exception": false,
     "start_time": "2021-12-05T02:08:06.659950",
     "status": "completed"
    },
    "tags": []
   },
   "outputs": [
    {
     "data": {
      "text/markdown": [
       "- Bitcoin Cash, Tron, Terra Price Analysis: 03 December.  As the broader market entered into a possible recovery phase, Tron saw gains on its daily chart after bouncing from its two-month support level. Moreover, Terra&#8217;s LUNA saw 56.4% weekly ROI while it entered into price discovery and found its ATH on 3 December. On the flip side, Bitcoin Cash flashed bearish near-term technical indications. [&#8230;] ... [| Skaityti daugiau](https://ambcrypto.com/bitcoin-cash-tron-terra-price-analysis-03-december/) "
      ],
      "text/plain": [
       "<IPython.core.display.Markdown object>"
      ]
     },
     "execution_count": 6,
     "metadata": {},
     "output_type": "execute_result"
    }
   ],
   "source": [
    "#hide_input\n",
    "#md('##### {}'.format(titleBTC)) \n",
    "md(\"- {}{} {}{} [| Skaityti daugiau]({}) \".format(trx['title'],'. ', trx['body'], ' ...', trx['url']))"
   ]
  },
  {
   "cell_type": "code",
   "execution_count": 7,
   "id": "illegal-greece",
   "metadata": {
    "execution": {
     "iopub.execute_input": "2021-12-05T02:08:06.712859Z",
     "iopub.status.busy": "2021-12-05T02:08:06.711196Z",
     "iopub.status.idle": "2021-12-05T02:08:06.718888Z",
     "shell.execute_reply": "2021-12-05T02:08:06.718392Z"
    },
    "papermill": {
     "duration": 0.024332,
     "end_time": "2021-12-05T02:08:06.719016",
     "exception": false,
     "start_time": "2021-12-05T02:08:06.694684",
     "status": "completed"
    },
    "tags": []
   },
   "outputs": [
    {
     "data": {
      "text/markdown": [
       "- Crypto Analyst Michaël van de Poppe Details Path Ahead for Polygon, Harmony and VeChain.  Cryptocurrency analyst and trader Michaël van de Poppe is looking at three altcoins and outlining the path forward after the recent market correction. Starting with Polygon (MATIC), Van de Poppe tells his 150,000 YouTube subscribers that the Ethereum (ETH) scaling solution could potentially hit a new high of $2.70. &#8220;…Overall we are making higher lows. [&#8230;]The post Crypto Analyst Michaël van de Poppe Details Path Ahead for Polygon, Harmony and VeChain appeared first on The Daily Hodl. ... [| Skaityti daugiau](https://dailyhodl.com/2021/12/03/crypto-analyst-michael-van-de-poppe-outlines-whats-next-for-polygon-harmony-and-vechain/) "
      ],
      "text/plain": [
       "<IPython.core.display.Markdown object>"
      ]
     },
     "execution_count": 7,
     "metadata": {},
     "output_type": "execute_result"
    }
   ],
   "source": [
    "#hide_input\n",
    "#md('##### {}'.format(titleBTC)) \n",
    "md(\"- {}{} {}{} [| Skaityti daugiau]({}) \".format(eth['title'],'. ', eth['body'], ' ...', eth['url']))"
   ]
  },
  {
   "cell_type": "code",
   "execution_count": 8,
   "id": "sublime-lounge",
   "metadata": {
    "execution": {
     "iopub.execute_input": "2021-12-05T02:08:06.749984Z",
     "iopub.status.busy": "2021-12-05T02:08:06.749226Z",
     "iopub.status.idle": "2021-12-05T02:08:06.752991Z",
     "shell.execute_reply": "2021-12-05T02:08:06.752476Z"
    },
    "papermill": {
     "duration": 0.021632,
     "end_time": "2021-12-05T02:08:06.753110",
     "exception": false,
     "start_time": "2021-12-05T02:08:06.731478",
     "status": "completed"
    },
    "tags": []
   },
   "outputs": [
    {
     "data": {
      "text/markdown": [
       "- Will Cardano Be Unveiling DEXes This Christmas?.  The post Will Cardano Be Unveiling DEXes This Christmas? appeared first on Coinpedia - Fintech &amp; Cryptocurreny News Media| Crypto GuideCardano network has been sailing the treacherous storms lately, the recent market crash has been an addition to the prevailing agony. Howbeit, the sixth-largest crypto has been making rounds on public platforms. As the protocol sees growing impetus in its use cases.&#160; Charles Hoskinson reveals the arrival time frame of DEXes built on Cardano. Meanwhile, &#8230; ... [| Skaityti daugiau](https://coinpedia.org/altcoin/will-cardano-be-unveiling-dexes-this-christmas/) "
      ],
      "text/plain": [
       "<IPython.core.display.Markdown object>"
      ]
     },
     "execution_count": 8,
     "metadata": {},
     "output_type": "execute_result"
    }
   ],
   "source": [
    "#hide_input\n",
    "#md('##### {}'.format(titleBTC)) \n",
    "md(\"- {}{} {}{} [| Skaityti daugiau]({}) \".format(ada['title'],'. ', ada['body'], ' ...', ada['url']))"
   ]
  },
  {
   "cell_type": "code",
   "execution_count": 9,
   "id": "specified-ordering",
   "metadata": {
    "execution": {
     "iopub.execute_input": "2021-12-05T02:08:06.785725Z",
     "iopub.status.busy": "2021-12-05T02:08:06.784776Z",
     "iopub.status.idle": "2021-12-05T02:08:06.789039Z",
     "shell.execute_reply": "2021-12-05T02:08:06.788492Z"
    },
    "papermill": {
     "duration": 0.023271,
     "end_time": "2021-12-05T02:08:06.789160",
     "exception": false,
     "start_time": "2021-12-05T02:08:06.765889",
     "status": "completed"
    },
    "tags": []
   },
   "outputs": [
    {
     "data": {
      "text/markdown": [
       "- Crypto exchange BitMart reportedly hacked for $100 million.  Crypto exchange BitMart has reportedly been hacked for $100 million, according to security researchers PeckShield.The post Crypto exchange BitMart reportedly hacked for $100 million appeared first on The Block. ... [| Skaityti daugiau](https://www.theblockcrypto.com/linked/126367/crypto-exchange-bitmart-reportedly-hacked-for-100-million?utm_source=cryptocompare&utm_medium=rss) "
      ],
      "text/plain": [
       "<IPython.core.display.Markdown object>"
      ]
     },
     "execution_count": 9,
     "metadata": {},
     "output_type": "execute_result"
    }
   ],
   "source": [
    "#hide_input\n",
    "#md('##### {}'.format(titleBTC)) \n",
    "md(\"- {}{} {}{} [| Skaityti daugiau]({}) \".format(exchange['title'],'. ', exchange['body'], ' ...', exchange['url']))"
   ]
  },
  {
   "cell_type": "code",
   "execution_count": null,
   "id": "tender-livestock",
   "metadata": {
    "papermill": {
     "duration": 0.013171,
     "end_time": "2021-12-05T02:08:06.816009",
     "exception": false,
     "start_time": "2021-12-05T02:08:06.802838",
     "status": "completed"
    },
    "tags": []
   },
   "outputs": [],
   "source": []
  },
  {
   "cell_type": "code",
   "execution_count": null,
   "id": "appreciated-diamond",
   "metadata": {
    "papermill": {
     "duration": 0.013011,
     "end_time": "2021-12-05T02:08:06.842076",
     "exception": false,
     "start_time": "2021-12-05T02:08:06.829065",
     "status": "completed"
    },
    "tags": []
   },
   "outputs": [],
   "source": []
  },
  {
   "cell_type": "code",
   "execution_count": null,
   "id": "romance-sweden",
   "metadata": {
    "papermill": {
     "duration": 0.013003,
     "end_time": "2021-12-05T02:08:06.868213",
     "exception": false,
     "start_time": "2021-12-05T02:08:06.855210",
     "status": "completed"
    },
    "tags": []
   },
   "outputs": [],
   "source": []
  },
  {
   "cell_type": "code",
   "execution_count": null,
   "id": "dietary-statistics",
   "metadata": {
    "papermill": {
     "duration": 0.012985,
     "end_time": "2021-12-05T02:08:06.894286",
     "exception": false,
     "start_time": "2021-12-05T02:08:06.881301",
     "status": "completed"
    },
    "tags": []
   },
   "outputs": [],
   "source": []
  }
 ],
 "metadata": {
  "kernelspec": {
   "display_name": "Python 3",
   "language": "python",
   "name": "python3"
  },
  "language_info": {
   "codemirror_mode": {
    "name": "ipython",
    "version": 3
   },
   "file_extension": ".py",
   "mimetype": "text/x-python",
   "name": "python",
   "nbconvert_exporter": "python",
   "pygments_lexer": "ipython3",
   "version": "3.6.15"
  },
  "papermill": {
   "default_parameters": {},
   "duration": 13.12621,
   "end_time": "2021-12-05T02:08:07.316746",
   "environment_variables": {},
   "exception": null,
   "input_path": "Market-News.ipynb",
   "output_path": "Market-News.ipynb",
   "parameters": {},
   "start_time": "2021-12-05T02:07:54.190536",
   "version": "2.2.2"
  }
 },
 "nbformat": 4,
 "nbformat_minor": 5
}