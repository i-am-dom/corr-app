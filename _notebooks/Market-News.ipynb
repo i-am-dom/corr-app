{
 "cells": [
  {
   "cell_type": "markdown",
   "id": "short-greensboro",
   "metadata": {
    "papermill": {
     "duration": 0.017301,
     "end_time": "2021-12-11T02:00:55.771838",
     "exception": false,
     "start_time": "2021-12-11T02:00:55.754537",
     "status": "completed"
    },
    "tags": []
   },
   "source": [
    "# Kriptovaliutų naujienos"
   ]
  },
  {
   "cell_type": "code",
   "execution_count": 1,
   "id": "functioning-knowing",
   "metadata": {
    "execution": {
     "iopub.execute_input": "2021-12-11T02:00:55.808081Z",
     "iopub.status.busy": "2021-12-11T02:00:55.807386Z",
     "iopub.status.idle": "2021-12-11T02:00:57.279707Z",
     "shell.execute_reply": "2021-12-11T02:00:57.279149Z"
    },
    "papermill": {
     "duration": 1.496851,
     "end_time": "2021-12-11T02:00:57.279861",
     "exception": false,
     "start_time": "2021-12-11T02:00:55.783010",
     "status": "completed"
    },
    "tags": []
   },
   "outputs": [],
   "source": [
    "#hide_input\n",
    "import warnings\n",
    "warnings.filterwarnings('ignore')\n",
    "from scripts.read_data import read_api\n",
    "from scripts.read_data import read_news\n",
    "from scripts.read_data import read_covid\n",
    "import matplotlib.pyplot as plt \n",
    "from IPython.display import Markdown as md"
   ]
  },
  {
   "cell_type": "code",
   "execution_count": 2,
   "id": "shared-acceptance",
   "metadata": {
    "execution": {
     "iopub.execute_input": "2021-12-11T02:00:57.309659Z",
     "iopub.status.busy": "2021-12-11T02:00:57.308935Z",
     "iopub.status.idle": "2021-12-11T02:01:05.773666Z",
     "shell.execute_reply": "2021-12-11T02:01:05.772598Z"
    },
    "papermill": {
     "duration": 8.483524,
     "end_time": "2021-12-11T02:01:05.773824",
     "exception": false,
     "start_time": "2021-12-11T02:00:57.290300",
     "status": "completed"
    },
    "tags": []
   },
   "outputs": [],
   "source": [
    "#hide_input\n",
    "blockchain = read_news('blockchain') \n",
    "btc = read_news('btc') \n",
    "xrp = read_news('xrp') \n",
    "trx = read_news('trx') \n",
    "eth = read_news('eth')  \n",
    "ada = read_news('ada')\n",
    "exchange = read_news('exchange') "
   ]
  },
  {
   "cell_type": "code",
   "execution_count": 3,
   "id": "synthetic-notion",
   "metadata": {
    "execution": {
     "iopub.execute_input": "2021-12-11T02:01:05.803534Z",
     "iopub.status.busy": "2021-12-11T02:01:05.799658Z",
     "iopub.status.idle": "2021-12-11T02:01:05.806684Z",
     "shell.execute_reply": "2021-12-11T02:01:05.806173Z"
    },
    "papermill": {
     "duration": 0.022512,
     "end_time": "2021-12-11T02:01:05.806828",
     "exception": false,
     "start_time": "2021-12-11T02:01:05.784316",
     "status": "completed"
    },
    "tags": []
   },
   "outputs": [
    {
     "data": {
      "text/markdown": [
       "- Cardano: Active $ADA Addresses Quadrupled in November, Report Reveals.  The number of active addresses on the Cardano ($ADA) Network quadrupled from October to November as on-chain activity picked up and transaction fees on the network dropped from $0.45 to $0.38 on average. According to CryptoCompare’s recent Asset Report, in October there were 50,506 active addresses on the Cardano blockchain, while in November there were […] ... [| Skaityti daugiau](https://www.cryptoglobe.com/latest/2021/12/cardano-active-ada-addresses-quadrupled-in-november-report-reveals/) "
      ],
      "text/plain": [
       "<IPython.core.display.Markdown object>"
      ]
     },
     "execution_count": 3,
     "metadata": {},
     "output_type": "execute_result"
    }
   ],
   "source": [
    "#hide_input\n",
    "#md('##### {}'.format(titleBTC)) \n",
    "md(\"- {}{} {}{} [| Skaityti daugiau]({}) \".format(blockchain['title'],'. ', blockchain['body'], ' ...', blockchain['url']))"
   ]
  },
  {
   "cell_type": "code",
   "execution_count": 4,
   "id": "aging-caution",
   "metadata": {
    "execution": {
     "iopub.execute_input": "2021-12-11T02:01:05.841559Z",
     "iopub.status.busy": "2021-12-11T02:01:05.840488Z",
     "iopub.status.idle": "2021-12-11T02:01:05.844017Z",
     "shell.execute_reply": "2021-12-11T02:01:05.844495Z"
    },
    "papermill": {
     "duration": 0.02307,
     "end_time": "2021-12-11T02:01:05.844636",
     "exception": false,
     "start_time": "2021-12-11T02:01:05.821566",
     "status": "completed"
    },
    "tags": []
   },
   "outputs": [
    {
     "data": {
      "text/markdown": [
       "- Why Increasing U.S. Dollar Strength Is A Risk For Bitcoin Price.  Historical correlation between the U.S. dollar and bitcoin price indicates that current strengthening of the former could threaten the latter. ... [| Skaityti daugiau](https://bitcoinmagazine.com/markets/us-dollar-strength-threatens-bitcoin-price) "
      ],
      "text/plain": [
       "<IPython.core.display.Markdown object>"
      ]
     },
     "execution_count": 4,
     "metadata": {},
     "output_type": "execute_result"
    }
   ],
   "source": [
    "#hide_input\n",
    "#md('##### {}'.format(titleBTC)) \n",
    "md(\"- {}{} {}{} [| Skaityti daugiau]({}) \".format(btc['title'],'. ', btc['body'], ' ...', btc['url']))"
   ]
  },
  {
   "cell_type": "code",
   "execution_count": 5,
   "id": "organic-actress",
   "metadata": {
    "execution": {
     "iopub.execute_input": "2021-12-11T02:01:05.871826Z",
     "iopub.status.busy": "2021-12-11T02:01:05.871206Z",
     "iopub.status.idle": "2021-12-11T02:01:05.873660Z",
     "shell.execute_reply": "2021-12-11T02:01:05.874134Z"
    },
    "papermill": {
     "duration": 0.018857,
     "end_time": "2021-12-11T02:01:05.874278",
     "exception": false,
     "start_time": "2021-12-11T02:01:05.855421",
     "status": "completed"
    },
    "tags": []
   },
   "outputs": [
    {
     "data": {
      "text/markdown": [
       "- Heavy Pump For XRP Incoming, Price Could Reach As High As $3, But When?.  The post Heavy Pump For XRP Incoming, Price Could Reach As High As $3, But When? appeared first on Coinpedia - Fintech &amp; Cryptocurreny News Media| Crypto GuideThe XRP price which is expected to be away from the upcoming bull run may not be much distinct from the uptrend. The current trend suggests the price is undergoing a healthy accumulation and hence a flip may be fast approaching. However, much before validating with the uptrend, the asset needs to slice through certain &#8230; ... [| Skaityti daugiau](https://coinpedia.org/price-analysis/heavy-pump-for-xrp-incoming/) "
      ],
      "text/plain": [
       "<IPython.core.display.Markdown object>"
      ]
     },
     "execution_count": 5,
     "metadata": {},
     "output_type": "execute_result"
    }
   ],
   "source": [
    "#hide_input\n",
    "#md('##### {}'.format(titleBTC)) \n",
    "md(\"- {}{} {}{} [| Skaityti daugiau]({}) \".format(xrp['title'],'. ', xrp['body'], ' ...', xrp['url']))"
   ]
  },
  {
   "cell_type": "code",
   "execution_count": 6,
   "id": "prompt-farmer",
   "metadata": {
    "execution": {
     "iopub.execute_input": "2021-12-11T02:01:05.902174Z",
     "iopub.status.busy": "2021-12-11T02:01:05.901537Z",
     "iopub.status.idle": "2021-12-11T02:01:05.906075Z",
     "shell.execute_reply": "2021-12-11T02:01:05.906516Z"
    },
    "papermill": {
     "duration": 0.021049,
     "end_time": "2021-12-11T02:01:05.906666",
     "exception": false,
     "start_time": "2021-12-11T02:01:05.885617",
     "status": "completed"
    },
    "tags": []
   },
   "outputs": [
    {
     "data": {
      "text/markdown": [
       "- Cardano, Chainlink, Tron Price Analysis: 10 December.  While the ADA, LINK, and TRX bulls were able to claw back to their long-term support levels, the onus fell on the market leader to change the broader sentiment. Besides, Chainlink managed to cross the 38.2% Fibonacci resistance with a recent bullish push, but its near-term technicals (like Cardano) flashed a bearish bias. Cardano (ADA) [&#8230;] ... [| Skaityti daugiau](https://ambcrypto.com/cardano-chainlink-tron-price-analysis-10-december/) "
      ],
      "text/plain": [
       "<IPython.core.display.Markdown object>"
      ]
     },
     "execution_count": 6,
     "metadata": {},
     "output_type": "execute_result"
    }
   ],
   "source": [
    "#hide_input\n",
    "#md('##### {}'.format(titleBTC)) \n",
    "md(\"- {}{} {}{} [| Skaityti daugiau]({}) \".format(trx['title'],'. ', trx['body'], ' ...', trx['url']))"
   ]
  },
  {
   "cell_type": "code",
   "execution_count": 7,
   "id": "illegal-greece",
   "metadata": {
    "execution": {
     "iopub.execute_input": "2021-12-11T02:01:05.935095Z",
     "iopub.status.busy": "2021-12-11T02:01:05.933944Z",
     "iopub.status.idle": "2021-12-11T02:01:05.937817Z",
     "shell.execute_reply": "2021-12-11T02:01:05.938326Z"
    },
    "papermill": {
     "duration": 0.02027,
     "end_time": "2021-12-11T02:01:05.938463",
     "exception": false,
     "start_time": "2021-12-11T02:01:05.918193",
     "status": "completed"
    },
    "tags": []
   },
   "outputs": [
    {
     "data": {
      "text/markdown": [
       "- UNICEF Launches NFTs on Ethereum to Help Connect Schools to Internet.  The NFT sale will benefit UNICEF's Giga Initiative ... [| Skaityti daugiau](https://decrypt.co/88051/unicef-launches-nfts-ethereum-connect-schools-internet) "
      ],
      "text/plain": [
       "<IPython.core.display.Markdown object>"
      ]
     },
     "execution_count": 7,
     "metadata": {},
     "output_type": "execute_result"
    }
   ],
   "source": [
    "#hide_input\n",
    "#md('##### {}'.format(titleBTC)) \n",
    "md(\"- {}{} {}{} [| Skaityti daugiau]({}) \".format(eth['title'],'. ', eth['body'], ' ...', eth['url']))"
   ]
  },
  {
   "cell_type": "code",
   "execution_count": 8,
   "id": "sublime-lounge",
   "metadata": {
    "execution": {
     "iopub.execute_input": "2021-12-11T02:01:05.967820Z",
     "iopub.status.busy": "2021-12-11T02:01:05.967150Z",
     "iopub.status.idle": "2021-12-11T02:01:05.970014Z",
     "shell.execute_reply": "2021-12-11T02:01:05.970525Z"
    },
    "papermill": {
     "duration": 0.020376,
     "end_time": "2021-12-11T02:01:05.970669",
     "exception": false,
     "start_time": "2021-12-11T02:01:05.950293",
     "status": "completed"
    },
    "tags": []
   },
   "outputs": [
    {
     "data": {
      "text/markdown": [
       "- Crypto researcher explains why Cardano is not ’10x in a month’ type of investment.  Many in the Cardano community are unhappy with their assets, and things reached a point where founder Charles Hoskinson threatened to instantly block anyone who whined to him about ADA prices. New Twitter policy. If you complain about price or ask to burn coins, then instablock. Let&#39;s see how quickly this cleans up the feed [&#8230;] ... [| Skaityti daugiau](https://ambcrypto.com/crypto-researcher-explains-why-cardano-is-not-10x-in-a-month-type-of-investment/) "
      ],
      "text/plain": [
       "<IPython.core.display.Markdown object>"
      ]
     },
     "execution_count": 8,
     "metadata": {},
     "output_type": "execute_result"
    }
   ],
   "source": [
    "#hide_input\n",
    "#md('##### {}'.format(titleBTC)) \n",
    "md(\"- {}{} {}{} [| Skaityti daugiau]({}) \".format(ada['title'],'. ', ada['body'], ' ...', ada['url']))"
   ]
  },
  {
   "cell_type": "code",
   "execution_count": 9,
   "id": "specified-ordering",
   "metadata": {
    "execution": {
     "iopub.execute_input": "2021-12-11T02:01:06.000009Z",
     "iopub.status.busy": "2021-12-11T02:01:05.998813Z",
     "iopub.status.idle": "2021-12-11T02:01:06.003245Z",
     "shell.execute_reply": "2021-12-11T02:01:06.002766Z"
    },
    "papermill": {
     "duration": 0.020335,
     "end_time": "2021-12-11T02:01:06.003369",
     "exception": false,
     "start_time": "2021-12-11T02:01:05.983034",
     "status": "completed"
    },
    "tags": []
   },
   "outputs": [
    {
     "data": {
      "text/markdown": [
       "- Cloud Computing Altcoin Skyrockets 116% After Listing on Crypto Exchange Binance.  A decentralized cloud computing governance token is surging after being listed on crypto exchange giant Binance. In a new announcement, Binance says that the native governance token of FLUX (FLUX), a comprehensive suite of developer-friendly application tools, will now be available for trading. The news sent the altcoin’s price vertical, leaping 64% from $1.15 to [&#8230;]The post Cloud Computing Altcoin Skyrockets 116% After Listing on Crypto Exchange Binance appeared first on The Daily Hodl. ... [| Skaityti daugiau](https://dailyhodl.com/2021/12/10/cloud-computing-altcoin-skyrockets-116-after-listing-on-crypto-exchange-binance/) "
      ],
      "text/plain": [
       "<IPython.core.display.Markdown object>"
      ]
     },
     "execution_count": 9,
     "metadata": {},
     "output_type": "execute_result"
    }
   ],
   "source": [
    "#hide_input\n",
    "#md('##### {}'.format(titleBTC)) \n",
    "md(\"- {}{} {}{} [| Skaityti daugiau]({}) \".format(exchange['title'],'. ', exchange['body'], ' ...', exchange['url']))"
   ]
  },
  {
   "cell_type": "code",
   "execution_count": null,
   "id": "tender-livestock",
   "metadata": {
    "papermill": {
     "duration": 0.012778,
     "end_time": "2021-12-11T02:01:06.029114",
     "exception": false,
     "start_time": "2021-12-11T02:01:06.016336",
     "status": "completed"
    },
    "tags": []
   },
   "outputs": [],
   "source": []
  },
  {
   "cell_type": "code",
   "execution_count": null,
   "id": "appreciated-diamond",
   "metadata": {
    "papermill": {
     "duration": 0.01249,
     "end_time": "2021-12-11T02:01:06.054208",
     "exception": false,
     "start_time": "2021-12-11T02:01:06.041718",
     "status": "completed"
    },
    "tags": []
   },
   "outputs": [],
   "source": []
  },
  {
   "cell_type": "code",
   "execution_count": null,
   "id": "romance-sweden",
   "metadata": {
    "papermill": {
     "duration": 0.012496,
     "end_time": "2021-12-11T02:01:06.079327",
     "exception": false,
     "start_time": "2021-12-11T02:01:06.066831",
     "status": "completed"
    },
    "tags": []
   },
   "outputs": [],
   "source": []
  },
  {
   "cell_type": "code",
   "execution_count": null,
   "id": "dietary-statistics",
   "metadata": {
    "papermill": {
     "duration": 0.01239,
     "end_time": "2021-12-11T02:01:06.104304",
     "exception": false,
     "start_time": "2021-12-11T02:01:06.091914",
     "status": "completed"
    },
    "tags": []
   },
   "outputs": [],
   "source": []
  }
 ],
 "metadata": {
  "kernelspec": {
   "display_name": "Python 3",
   "language": "python",
   "name": "python3"
  },
  "language_info": {
   "codemirror_mode": {
    "name": "ipython",
    "version": 3
   },
   "file_extension": ".py",
   "mimetype": "text/x-python",
   "name": "python",
   "nbconvert_exporter": "python",
   "pygments_lexer": "ipython3",
   "version": "3.6.15"
  },
  "papermill": {
   "default_parameters": {},
   "duration": 12.026109,
   "end_time": "2021-12-11T02:01:06.626542",
   "environment_variables": {},
   "exception": null,
   "input_path": "Market-News.ipynb",
   "output_path": "Market-News.ipynb",
   "parameters": {},
   "start_time": "2021-12-11T02:00:54.600433",
   "version": "2.2.2"
  }
 },
 "nbformat": 4,
 "nbformat_minor": 5
}