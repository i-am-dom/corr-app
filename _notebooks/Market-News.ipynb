{
 "cells": [
  {
   "cell_type": "markdown",
   "id": "short-greensboro",
   "metadata": {
    "papermill": {
     "duration": 0.016075,
     "end_time": "2022-08-29T03:41:25.999056",
     "exception": false,
     "start_time": "2022-08-29T03:41:25.982981",
     "status": "completed"
    },
    "tags": []
   },
   "source": [
    "# Kriptovaliutų naujienos"
   ]
  },
  {
   "cell_type": "code",
   "execution_count": 1,
   "id": "functioning-knowing",
   "metadata": {
    "execution": {
     "iopub.execute_input": "2022-08-29T03:41:26.035291Z",
     "iopub.status.busy": "2022-08-29T03:41:26.034542Z",
     "iopub.status.idle": "2022-08-29T03:41:27.589351Z",
     "shell.execute_reply": "2022-08-29T03:41:27.588625Z"
    },
    "papermill": {
     "duration": 1.577816,
     "end_time": "2022-08-29T03:41:27.589530",
     "exception": false,
     "start_time": "2022-08-29T03:41:26.011714",
     "status": "completed"
    },
    "tags": []
   },
   "outputs": [],
   "source": [
    "#hide_input\n",
    "import warnings\n",
    "warnings.filterwarnings('ignore')\n",
    "from scripts.read_data import read_api\n",
    "from scripts.read_data import read_news\n",
    "from scripts.read_data import read_covid\n",
    "import matplotlib.pyplot as plt \n",
    "from IPython.display import Markdown as md"
   ]
  },
  {
   "cell_type": "code",
   "execution_count": 2,
   "id": "shared-acceptance",
   "metadata": {
    "execution": {
     "iopub.execute_input": "2022-08-29T03:41:27.620907Z",
     "iopub.status.busy": "2022-08-29T03:41:27.620144Z",
     "iopub.status.idle": "2022-08-29T03:41:40.498137Z",
     "shell.execute_reply": "2022-08-29T03:41:40.497479Z"
    },
    "papermill": {
     "duration": 12.896752,
     "end_time": "2022-08-29T03:41:40.498284",
     "exception": false,
     "start_time": "2022-08-29T03:41:27.601532",
     "status": "completed"
    },
    "tags": []
   },
   "outputs": [],
   "source": [
    "#hide_input\n",
    "blockchain = read_news('blockchain') \n",
    "btc = read_news('btc') \n",
    "xrp = read_news('xrp') \n",
    "trx = read_news('trx') \n",
    "eth = read_news('eth')  \n",
    "ada = read_news('ada')\n",
    "exchange = read_news('exchange') "
   ]
  },
  {
   "cell_type": "code",
   "execution_count": 3,
   "id": "synthetic-notion",
   "metadata": {
    "execution": {
     "iopub.execute_input": "2022-08-29T03:41:40.529264Z",
     "iopub.status.busy": "2022-08-29T03:41:40.528431Z",
     "iopub.status.idle": "2022-08-29T03:41:40.532978Z",
     "shell.execute_reply": "2022-08-29T03:41:40.532274Z"
    },
    "papermill": {
     "duration": 0.022764,
     "end_time": "2022-08-29T03:41:40.533108",
     "exception": false,
     "start_time": "2022-08-29T03:41:40.510344",
     "status": "completed"
    },
    "tags": []
   },
   "outputs": [
    {
     "data": {
      "text/markdown": [
       "- Korean Finance Minister Joins to Promote Blockchain.  A senior South Korean government administrator has joined the research branch of blockchain VC Hashed. Kim Yong-beom is a well-known name in his homeland, where he served as Deputy Minister of the Ministry of Economy and Finance of Korea until last year. Since leaving the post, which included liaising with domestic crypto companies, Yong-beom has [&#8230;] ... [| Skaityti daugiau](https://coinnounce.com/korean-finance-minister-joins-to-promote-blockchain/) "
      ],
      "text/plain": [
       "<IPython.core.display.Markdown object>"
      ]
     },
     "execution_count": 3,
     "metadata": {},
     "output_type": "execute_result"
    }
   ],
   "source": [
    "#hide_input\n",
    "#md('##### {}'.format(titleBTC)) \n",
    "md(\"- {}{} {}{} [| Skaityti daugiau]({}) \".format(blockchain['title'],'. ', blockchain['body'], ' ...', blockchain['url']))"
   ]
  },
  {
   "cell_type": "code",
   "execution_count": 4,
   "id": "aging-caution",
   "metadata": {
    "execution": {
     "iopub.execute_input": "2022-08-29T03:41:40.561189Z",
     "iopub.status.busy": "2022-08-29T03:41:40.560368Z",
     "iopub.status.idle": "2022-08-29T03:41:40.566314Z",
     "shell.execute_reply": "2022-08-29T03:41:40.564229Z"
    },
    "papermill": {
     "duration": 0.022085,
     "end_time": "2022-08-29T03:41:40.566466",
     "exception": false,
     "start_time": "2022-08-29T03:41:40.544381",
     "status": "completed"
    },
    "tags": []
   },
   "outputs": [
    {
     "data": {
      "text/markdown": [
       "- Bitcoin, Ethereum, Polkadot, and Tron Daily Price Analyses – 28 August Roundup.  The global crypto market hasn’t been able to regain momentum. The recent changes show that losses for the overall market have increased. The latest data shows that the performance of Bitcoin, Ethereum, etc. has been affected. As the negative trend continues, investments in the market have decreased. The increase in outflows has continued to affect &#8230;  Bitcoin, Ethereum, Polkadot, and Tron Daily Price Analyses – 28 August Roundup Read More &#187; ... [| Skaityti daugiau](https://www.cryptopolitan.com/bitcoin-ethereum-polkadot-and-tron-daily-price-analyses-28-august-roundup/) "
      ],
      "text/plain": [
       "<IPython.core.display.Markdown object>"
      ]
     },
     "execution_count": 4,
     "metadata": {},
     "output_type": "execute_result"
    }
   ],
   "source": [
    "#hide_input\n",
    "#md('##### {}'.format(titleBTC)) \n",
    "md(\"- {}{} {}{} [| Skaityti daugiau]({}) \".format(btc['title'],'. ', btc['body'], ' ...', btc['url']))"
   ]
  },
  {
   "cell_type": "code",
   "execution_count": 5,
   "id": "organic-actress",
   "metadata": {
    "execution": {
     "iopub.execute_input": "2022-08-29T03:41:40.600625Z",
     "iopub.status.busy": "2022-08-29T03:41:40.599828Z",
     "iopub.status.idle": "2022-08-29T03:41:40.603758Z",
     "shell.execute_reply": "2022-08-29T03:41:40.604349Z"
    },
    "papermill": {
     "duration": 0.024753,
     "end_time": "2022-08-29T03:41:40.604500",
     "exception": false,
     "start_time": "2022-08-29T03:41:40.579747",
     "status": "completed"
    },
    "tags": []
   },
   "outputs": [
    {
     "data": {
      "text/markdown": [
       "- XRP lawsuit: If Ripple loses, can this gamble really work out in its favour.  Recently, Ripple CEO Brad Garlinghouse revealed that his company is willing to explore a different path if they lose the SEC lawsuit. In fact, he specifically claimed that the company is willing to explore moving to a different jurisdiction, IF Ripple loses the lawsuit against the SEC. It is no surprise that Ripple is willing [&#8230;] ... [| Skaityti daugiau](https://ambcrypto.com/xrp-lawsuit-if-ripple-loses-can-this-gamble-really-work-out-in-its-favour/) "
      ],
      "text/plain": [
       "<IPython.core.display.Markdown object>"
      ]
     },
     "execution_count": 5,
     "metadata": {},
     "output_type": "execute_result"
    }
   ],
   "source": [
    "#hide_input\n",
    "#md('##### {}'.format(titleBTC)) \n",
    "md(\"- {}{} {}{} [| Skaityti daugiau]({}) \".format(xrp['title'],'. ', xrp['body'], ' ...', xrp['url']))"
   ]
  },
  {
   "cell_type": "code",
   "execution_count": 6,
   "id": "prompt-farmer",
   "metadata": {
    "execution": {
     "iopub.execute_input": "2022-08-29T03:41:40.634428Z",
     "iopub.status.busy": "2022-08-29T03:41:40.633657Z",
     "iopub.status.idle": "2022-08-29T03:41:40.638435Z",
     "shell.execute_reply": "2022-08-29T03:41:40.637815Z"
    },
    "papermill": {
     "duration": 0.021584,
     "end_time": "2022-08-29T03:41:40.638570",
     "exception": false,
     "start_time": "2022-08-29T03:41:40.616986",
     "status": "completed"
    },
    "tags": []
   },
   "outputs": [
    {
     "data": {
      "text/markdown": [
       "- $0.063 Support Breakdown Position TRX Price For Another 8.2% Fall.  The two-month consolidation in TRX price resulted in the sellers&#8217; favor as the they pierced the $0.063 support. This breakdown should encourage the ongoing correction and plunge the price to the next supply zone at $0.00576; should you enter a short position? The post $0.063 Support Breakdown Position TRX Price For Another 8.2% Fall appeared first on CoinGape. ... [| Skaityti daugiau](https://coingape.com/markets/0-063-support-breakdown-position-trx-price-for-another-8-2-fall/) "
      ],
      "text/plain": [
       "<IPython.core.display.Markdown object>"
      ]
     },
     "execution_count": 6,
     "metadata": {},
     "output_type": "execute_result"
    }
   ],
   "source": [
    "#hide_input\n",
    "#md('##### {}'.format(titleBTC)) \n",
    "md(\"- {}{} {}{} [| Skaityti daugiau]({}) \".format(trx['title'],'. ', trx['body'], ' ...', trx['url']))"
   ]
  },
  {
   "cell_type": "code",
   "execution_count": 7,
   "id": "illegal-greece",
   "metadata": {
    "execution": {
     "iopub.execute_input": "2022-08-29T03:41:40.671901Z",
     "iopub.status.busy": "2022-08-29T03:41:40.671136Z",
     "iopub.status.idle": "2022-08-29T03:41:40.675656Z",
     "shell.execute_reply": "2022-08-29T03:41:40.675034Z"
    },
    "papermill": {
     "duration": 0.023611,
     "end_time": "2022-08-29T03:41:40.675788",
     "exception": false,
     "start_time": "2022-08-29T03:41:40.652177",
     "status": "completed"
    },
    "tags": []
   },
   "outputs": [
    {
     "data": {
      "text/markdown": [
       "- Ethereum: Yet another ETH 2.0 deposit contract HIGH ft. holders’ anti-selling narrative.  The cryptocurrency market, especially Ethereum, continues to see red signals throughout the ecosystem. However, despite such cautionary signs, stakers &#38; holders continue to build their Ethereum (Merge) castle. Falling, but not dead The crypto-industry shed 6.8% of its value within the last 24 hours, with over $300 million positions liquidated in the bloodbath. Ethereum, the [&#8230;] ... [| Skaityti daugiau](https://ambcrypto.com/ethereum-yet-another-eth-2-0-deposit-contract-high-ft-holders-anti-selling-narrative/) "
      ],
      "text/plain": [
       "<IPython.core.display.Markdown object>"
      ]
     },
     "execution_count": 7,
     "metadata": {},
     "output_type": "execute_result"
    }
   ],
   "source": [
    "#hide_input\n",
    "#md('##### {}'.format(titleBTC)) \n",
    "md(\"- {}{} {}{} [| Skaityti daugiau]({}) \".format(eth['title'],'. ', eth['body'], ' ...', eth['url']))"
   ]
  },
  {
   "cell_type": "code",
   "execution_count": 8,
   "id": "sublime-lounge",
   "metadata": {
    "execution": {
     "iopub.execute_input": "2022-08-29T03:41:40.709684Z",
     "iopub.status.busy": "2022-08-29T03:41:40.708668Z",
     "iopub.status.idle": "2022-08-29T03:41:40.713243Z",
     "shell.execute_reply": "2022-08-29T03:41:40.712567Z"
    },
    "papermill": {
     "duration": 0.023129,
     "end_time": "2022-08-29T03:41:40.713381",
     "exception": false,
     "start_time": "2022-08-29T03:41:40.690252",
     "status": "completed"
    },
    "tags": []
   },
   "outputs": [
    {
     "data": {
      "text/markdown": [
       "- Cardano (ADA) Price Analysis for August 28.  Has Cardano (ADA) reached support levels yet? ... [| Skaityti daugiau](https://u.today/cardano-ada-price-analysis-for-august-28) "
      ],
      "text/plain": [
       "<IPython.core.display.Markdown object>"
      ]
     },
     "execution_count": 8,
     "metadata": {},
     "output_type": "execute_result"
    }
   ],
   "source": [
    "#hide_input\n",
    "#md('##### {}'.format(titleBTC)) \n",
    "md(\"- {}{} {}{} [| Skaityti daugiau]({}) \".format(ada['title'],'. ', ada['body'], ' ...', ada['url']))"
   ]
  },
  {
   "cell_type": "code",
   "execution_count": 9,
   "id": "specified-ordering",
   "metadata": {
    "execution": {
     "iopub.execute_input": "2022-08-29T03:41:40.746277Z",
     "iopub.status.busy": "2022-08-29T03:41:40.745532Z",
     "iopub.status.idle": "2022-08-29T03:41:40.749952Z",
     "shell.execute_reply": "2022-08-29T03:41:40.749340Z"
    },
    "papermill": {
     "duration": 0.022881,
     "end_time": "2022-08-29T03:41:40.750081",
     "exception": false,
     "start_time": "2022-08-29T03:41:40.727200",
     "status": "completed"
    },
    "tags": []
   },
   "outputs": [
    {
     "data": {
      "text/markdown": [
       "- Ava Labs CEO denies CryptoLeaks' claims as 'conspiracy theory nonsense'.  The CEO’s comments come after a CryptoLeaks blog post alleged that Ava Labs had a \"secret pact\" with a U.S. law firm to sue competitors in exchange for AVAX tokens and equity. ... [| Skaityti daugiau](https://cointelegraph.com/news/ava-labs-ceo-denies-cryptoleaks-claims-as-conspiracy-theory-nonsense) "
      ],
      "text/plain": [
       "<IPython.core.display.Markdown object>"
      ]
     },
     "execution_count": 9,
     "metadata": {},
     "output_type": "execute_result"
    }
   ],
   "source": [
    "#hide_input\n",
    "#md('##### {}'.format(titleBTC)) \n",
    "md(\"- {}{} {}{} [| Skaityti daugiau]({}) \".format(exchange['title'],'. ', exchange['body'], ' ...', exchange['url']))"
   ]
  },
  {
   "cell_type": "code",
   "execution_count": null,
   "id": "tender-livestock",
   "metadata": {
    "papermill": {
     "duration": 0.014127,
     "end_time": "2022-08-29T03:41:40.778041",
     "exception": false,
     "start_time": "2022-08-29T03:41:40.763914",
     "status": "completed"
    },
    "tags": []
   },
   "outputs": [],
   "source": []
  },
  {
   "cell_type": "code",
   "execution_count": null,
   "id": "appreciated-diamond",
   "metadata": {
    "papermill": {
     "duration": 0.013928,
     "end_time": "2022-08-29T03:41:40.807072",
     "exception": false,
     "start_time": "2022-08-29T03:41:40.793144",
     "status": "completed"
    },
    "tags": []
   },
   "outputs": [],
   "source": []
  },
  {
   "cell_type": "code",
   "execution_count": null,
   "id": "romance-sweden",
   "metadata": {
    "papermill": {
     "duration": 0.01376,
     "end_time": "2022-08-29T03:41:40.835064",
     "exception": false,
     "start_time": "2022-08-29T03:41:40.821304",
     "status": "completed"
    },
    "tags": []
   },
   "outputs": [],
   "source": []
  },
  {
   "cell_type": "code",
   "execution_count": null,
   "id": "dietary-statistics",
   "metadata": {
    "papermill": {
     "duration": 0.014202,
     "end_time": "2022-08-29T03:41:40.863733",
     "exception": false,
     "start_time": "2022-08-29T03:41:40.849531",
     "status": "completed"
    },
    "tags": []
   },
   "outputs": [],
   "source": []
  }
 ],
 "metadata": {
  "kernelspec": {
   "display_name": "Python 3",
   "language": "python",
   "name": "python3"
  },
  "language_info": {
   "codemirror_mode": {
    "name": "ipython",
    "version": 3
   },
   "file_extension": ".py",
   "mimetype": "text/x-python",
   "name": "python",
   "nbconvert_exporter": "python",
   "pygments_lexer": "ipython3",
   "version": "3.6.15"
  },
  "papermill": {
   "default_parameters": {},
   "duration": 16.731456,
   "end_time": "2022-08-29T03:41:41.397884",
   "environment_variables": {},
   "exception": null,
   "input_path": "Market-News.ipynb",
   "output_path": "Market-News.ipynb",
   "parameters": {},
   "start_time": "2022-08-29T03:41:24.666428",
   "version": "2.2.2"
  }
 },
 "nbformat": 4,
 "nbformat_minor": 5
}