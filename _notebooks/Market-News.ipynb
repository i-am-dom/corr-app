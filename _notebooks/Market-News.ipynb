{
 "cells": [
  {
   "cell_type": "markdown",
   "id": "short-greensboro",
   "metadata": {
    "papermill": {
     "duration": 0.01143,
     "end_time": "2022-01-26T02:06:48.731534",
     "exception": false,
     "start_time": "2022-01-26T02:06:48.720104",
     "status": "completed"
    },
    "tags": []
   },
   "source": [
    "# Kriptovaliutų naujienos"
   ]
  },
  {
   "cell_type": "code",
   "execution_count": 1,
   "id": "functioning-knowing",
   "metadata": {
    "execution": {
     "iopub.execute_input": "2022-01-26T02:06:48.757671Z",
     "iopub.status.busy": "2022-01-26T02:06:48.757191Z",
     "iopub.status.idle": "2022-01-26T02:06:49.846028Z",
     "shell.execute_reply": "2022-01-26T02:06:49.845496Z"
    },
    "papermill": {
     "duration": 1.106124,
     "end_time": "2022-01-26T02:06:49.846177",
     "exception": false,
     "start_time": "2022-01-26T02:06:48.740053",
     "status": "completed"
    },
    "tags": []
   },
   "outputs": [],
   "source": [
    "#hide_input\n",
    "import warnings\n",
    "warnings.filterwarnings('ignore')\n",
    "from scripts.read_data import read_api\n",
    "from scripts.read_data import read_news\n",
    "from scripts.read_data import read_covid\n",
    "import matplotlib.pyplot as plt \n",
    "from IPython.display import Markdown as md"
   ]
  },
  {
   "cell_type": "code",
   "execution_count": 2,
   "id": "shared-acceptance",
   "metadata": {
    "execution": {
     "iopub.execute_input": "2022-01-26T02:06:49.868045Z",
     "iopub.status.busy": "2022-01-26T02:06:49.867523Z",
     "iopub.status.idle": "2022-01-26T02:06:59.006926Z",
     "shell.execute_reply": "2022-01-26T02:06:59.006394Z"
    },
    "papermill": {
     "duration": 9.152155,
     "end_time": "2022-01-26T02:06:59.007062",
     "exception": false,
     "start_time": "2022-01-26T02:06:49.854907",
     "status": "completed"
    },
    "tags": []
   },
   "outputs": [],
   "source": [
    "#hide_input\n",
    "blockchain = read_news('blockchain') \n",
    "btc = read_news('btc') \n",
    "xrp = read_news('xrp') \n",
    "trx = read_news('trx') \n",
    "eth = read_news('eth')  \n",
    "ada = read_news('ada')\n",
    "exchange = read_news('exchange') "
   ]
  },
  {
   "cell_type": "code",
   "execution_count": 3,
   "id": "synthetic-notion",
   "metadata": {
    "execution": {
     "iopub.execute_input": "2022-01-26T02:06:59.030946Z",
     "iopub.status.busy": "2022-01-26T02:06:59.030247Z",
     "iopub.status.idle": "2022-01-26T02:06:59.034013Z",
     "shell.execute_reply": "2022-01-26T02:06:59.033578Z"
    },
    "papermill": {
     "duration": 0.017654,
     "end_time": "2022-01-26T02:06:59.034099",
     "exception": false,
     "start_time": "2022-01-26T02:06:59.016445",
     "status": "completed"
    },
    "tags": []
   },
   "outputs": [
    {
     "data": {
      "text/markdown": [
       "- YouTube’s Head of Gaming Leaves to Join Polygon Studios as CEO.  Ryan Wyatt has been a vocal proponent of blockchain and NFTs while at YouTube. ... [| Skaityti daugiau](https://decrypt.co/91233/youtube-head-gaming-polygon-studios-ceo) "
      ],
      "text/plain": [
       "<IPython.core.display.Markdown object>"
      ]
     },
     "execution_count": 3,
     "metadata": {},
     "output_type": "execute_result"
    }
   ],
   "source": [
    "#hide_input\n",
    "#md('##### {}'.format(titleBTC)) \n",
    "md(\"- {}{} {}{} [| Skaityti daugiau]({}) \".format(blockchain['title'],'. ', blockchain['body'], ' ...', blockchain['url']))"
   ]
  },
  {
   "cell_type": "code",
   "execution_count": 4,
   "id": "aging-caution",
   "metadata": {
    "execution": {
     "iopub.execute_input": "2022-01-26T02:06:59.053929Z",
     "iopub.status.busy": "2022-01-26T02:06:59.053452Z",
     "iopub.status.idle": "2022-01-26T02:06:59.056094Z",
     "shell.execute_reply": "2022-01-26T02:06:59.055749Z"
    },
    "papermill": {
     "duration": 0.014128,
     "end_time": "2022-01-26T02:06:59.056182",
     "exception": false,
     "start_time": "2022-01-26T02:06:59.042054",
     "status": "completed"
    },
    "tags": []
   },
   "outputs": [
    {
     "data": {
      "text/markdown": [
       "- Fading power? Weak DOGE spike after Elon Musk makes McDonald's offer.  The Twitter feud between Elon Musk and McDonald's has escalated after the Tesla CEO offered to eat a happy meal on television ... [| Skaityti daugiau](https://cointelegraph.com/news/fading-power-weak-doge-spike-after-elon-musk-makes-mcdonald-s-offer) "
      ],
      "text/plain": [
       "<IPython.core.display.Markdown object>"
      ]
     },
     "execution_count": 4,
     "metadata": {},
     "output_type": "execute_result"
    }
   ],
   "source": [
    "#hide_input\n",
    "#md('##### {}'.format(titleBTC)) \n",
    "md(\"- {}{} {}{} [| Skaityti daugiau]({}) \".format(btc['title'],'. ', btc['body'], ' ...', btc['url']))"
   ]
  },
  {
   "cell_type": "code",
   "execution_count": 5,
   "id": "organic-actress",
   "metadata": {
    "execution": {
     "iopub.execute_input": "2022-01-26T02:06:59.077038Z",
     "iopub.status.busy": "2022-01-26T02:06:59.076555Z",
     "iopub.status.idle": "2022-01-26T02:06:59.079152Z",
     "shell.execute_reply": "2022-01-26T02:06:59.079546Z"
    },
    "papermill": {
     "duration": 0.015111,
     "end_time": "2022-01-26T02:06:59.079639",
     "exception": false,
     "start_time": "2022-01-26T02:06:59.064528",
     "status": "completed"
    },
    "tags": []
   },
   "outputs": [
    {
     "data": {
      "text/markdown": [
       "- ‘Romantically Involved’ USD 3.8m XRP Thieves Sent to Prison for 7 Years.  A couple who stole over some USD 3.76m worth of XRP tokens from a crypto investor in 2017 have been handed seven-year jail sentences after an appeals court in South Korea ruled that the duo should spend the best part of a decade behind bars....Read More: ‘Romantically Involved’ USD 3.8m XRP Thieves Sent to Prison for 7 Years ... [| Skaityti daugiau](https://cryptonews.com/news/romantically-involved-usd-38m-xrp-thieves-sent-prison-for-7-years.htm) "
      ],
      "text/plain": [
       "<IPython.core.display.Markdown object>"
      ]
     },
     "execution_count": 5,
     "metadata": {},
     "output_type": "execute_result"
    }
   ],
   "source": [
    "#hide_input\n",
    "#md('##### {}'.format(titleBTC)) \n",
    "md(\"- {}{} {}{} [| Skaityti daugiau]({}) \".format(xrp['title'],'. ', xrp['body'], ' ...', xrp['url']))"
   ]
  },
  {
   "cell_type": "code",
   "execution_count": 6,
   "id": "prompt-farmer",
   "metadata": {
    "execution": {
     "iopub.execute_input": "2022-01-26T02:06:59.100204Z",
     "iopub.status.busy": "2022-01-26T02:06:59.099797Z",
     "iopub.status.idle": "2022-01-26T02:06:59.102271Z",
     "shell.execute_reply": "2022-01-26T02:06:59.102664Z"
    },
    "papermill": {
     "duration": 0.014933,
     "end_time": "2022-01-26T02:06:59.102755",
     "exception": false,
     "start_time": "2022-01-26T02:06:59.087822",
     "status": "completed"
    },
    "tags": []
   },
   "outputs": [
    {
     "data": {
      "text/markdown": [
       "- TRON Under The Heavy Resistance Level Depicting Bearish Pattern.  The entire crypto market has crashed and is facing a deep pitfall in trading where most of the cryptocurrencies areThe post has appeared first on thenewscrypto.com ... [| Skaityti daugiau](https://thenewscrypto.com/23885-2/) "
      ],
      "text/plain": [
       "<IPython.core.display.Markdown object>"
      ]
     },
     "execution_count": 6,
     "metadata": {},
     "output_type": "execute_result"
    }
   ],
   "source": [
    "#hide_input\n",
    "#md('##### {}'.format(titleBTC)) \n",
    "md(\"- {}{} {}{} [| Skaityti daugiau]({}) \".format(trx['title'],'. ', trx['body'], ' ...', trx['url']))"
   ]
  },
  {
   "cell_type": "code",
   "execution_count": 7,
   "id": "illegal-greece",
   "metadata": {
    "execution": {
     "iopub.execute_input": "2022-01-26T02:06:59.123488Z",
     "iopub.status.busy": "2022-01-26T02:06:59.122844Z",
     "iopub.status.idle": "2022-01-26T02:06:59.125669Z",
     "shell.execute_reply": "2022-01-26T02:06:59.126018Z"
    },
    "papermill": {
     "duration": 0.014605,
     "end_time": "2022-01-26T02:06:59.126110",
     "exception": false,
     "start_time": "2022-01-26T02:06:59.111505",
     "status": "completed"
    },
    "tags": []
   },
   "outputs": [
    {
     "data": {
      "text/markdown": [
       "- Top 5 Most Traded Metaverse Crypto Coins With a Market Cap Below $250 Million.  Crypto markets are trading sideways this week as Bitcoin and Ethereum hold support. After a bloodbath last week, metaverse crypto coins are starting to see bullish movement. This article looks at the highest traded Metaverse crypto coins with a market cap below $250 million. My Neighbor Alice (ALICE) Market Cap: $198 million Trading Volume: $104 [&#8230;]The post Top 5 Most Traded Metaverse Crypto Coins With a Market Cap Below $250 Million appeared first on NullTX. ... [| Skaityti daugiau](https://nulltx.com/top-5-most-traded-metaverse-crypto-coins-with-a-market-cap-below-250-million/) "
      ],
      "text/plain": [
       "<IPython.core.display.Markdown object>"
      ]
     },
     "execution_count": 7,
     "metadata": {},
     "output_type": "execute_result"
    }
   ],
   "source": [
    "#hide_input\n",
    "#md('##### {}'.format(titleBTC)) \n",
    "md(\"- {}{} {}{} [| Skaityti daugiau]({}) \".format(eth['title'],'. ', eth['body'], ' ...', eth['url']))"
   ]
  },
  {
   "cell_type": "code",
   "execution_count": 8,
   "id": "sublime-lounge",
   "metadata": {
    "execution": {
     "iopub.execute_input": "2022-01-26T02:06:59.148188Z",
     "iopub.status.busy": "2022-01-26T02:06:59.147744Z",
     "iopub.status.idle": "2022-01-26T02:06:59.150167Z",
     "shell.execute_reply": "2022-01-26T02:06:59.150546Z"
    },
    "papermill": {
     "duration": 0.015228,
     "end_time": "2022-01-26T02:06:59.150637",
     "exception": false,
     "start_time": "2022-01-26T02:06:59.135409",
     "status": "completed"
    },
    "tags": []
   },
   "outputs": [
    {
     "data": {
      "text/markdown": [
       "- Cardano Price Remains Stuck in Rut,Will ADA Price Slip Below $1 By The Weekend?.  The post Cardano Price Remains Stuck in Rut,Will ADA Price Slip Below $1 By The Weekend? appeared first on Coinpedia - Fintech &amp; Cryptocurreny News Media| Crypto GuideHighlights Cardano remains stuck in a rut, despite its upper hand over other L1 projects.The Cardano community embraces the governance week, while the network approaches a major landmark. The crypto industry’s sixth largest cryptocurrency Cardano, is back to its range bound levels. After traversing its euphoric runs following the anticipation of its DEX SundaeSwap, which &#8230; ... [| Skaityti daugiau](https://coinpedia.org/altcoin/cardano-price-remains-stuck-in-rutwill-ada-price-slip-below-1-by-the-weekend/) "
      ],
      "text/plain": [
       "<IPython.core.display.Markdown object>"
      ]
     },
     "execution_count": 8,
     "metadata": {},
     "output_type": "execute_result"
    }
   ],
   "source": [
    "#hide_input\n",
    "#md('##### {}'.format(titleBTC)) \n",
    "md(\"- {}{} {}{} [| Skaityti daugiau]({}) \".format(ada['title'],'. ', ada['body'], ' ...', ada['url']))"
   ]
  },
  {
   "cell_type": "code",
   "execution_count": 9,
   "id": "specified-ordering",
   "metadata": {
    "execution": {
     "iopub.execute_input": "2022-01-26T02:06:59.173689Z",
     "iopub.status.busy": "2022-01-26T02:06:59.173239Z",
     "iopub.status.idle": "2022-01-26T02:06:59.176210Z",
     "shell.execute_reply": "2022-01-26T02:06:59.175862Z"
    },
    "papermill": {
     "duration": 0.016106,
     "end_time": "2022-01-26T02:06:59.176293",
     "exception": false,
     "start_time": "2022-01-26T02:06:59.160187",
     "status": "completed"
    },
    "tags": []
   },
   "outputs": [
    {
     "data": {
      "text/markdown": [
       "- Thailand To Regulate Use Of Cryptocurrencies For Payment.  Authorities have determined that using cryptocurrencies as a medium of exchange will harm the financial system. ... [| Skaityti daugiau](https://cryptopotato.com/thailand-to-regulate-use-of-cryptocurrencies-for-payment/) "
      ],
      "text/plain": [
       "<IPython.core.display.Markdown object>"
      ]
     },
     "execution_count": 9,
     "metadata": {},
     "output_type": "execute_result"
    }
   ],
   "source": [
    "#hide_input\n",
    "#md('##### {}'.format(titleBTC)) \n",
    "md(\"- {}{} {}{} [| Skaityti daugiau]({}) \".format(exchange['title'],'. ', exchange['body'], ' ...', exchange['url']))"
   ]
  },
  {
   "cell_type": "code",
   "execution_count": null,
   "id": "tender-livestock",
   "metadata": {
    "papermill": {
     "duration": 0.009776,
     "end_time": "2022-01-26T02:06:59.195517",
     "exception": false,
     "start_time": "2022-01-26T02:06:59.185741",
     "status": "completed"
    },
    "tags": []
   },
   "outputs": [],
   "source": []
  },
  {
   "cell_type": "code",
   "execution_count": null,
   "id": "appreciated-diamond",
   "metadata": {
    "papermill": {
     "duration": 0.009828,
     "end_time": "2022-01-26T02:06:59.215084",
     "exception": false,
     "start_time": "2022-01-26T02:06:59.205256",
     "status": "completed"
    },
    "tags": []
   },
   "outputs": [],
   "source": []
  },
  {
   "cell_type": "code",
   "execution_count": null,
   "id": "romance-sweden",
   "metadata": {
    "papermill": {
     "duration": 0.009701,
     "end_time": "2022-01-26T02:06:59.234356",
     "exception": false,
     "start_time": "2022-01-26T02:06:59.224655",
     "status": "completed"
    },
    "tags": []
   },
   "outputs": [],
   "source": []
  },
  {
   "cell_type": "code",
   "execution_count": null,
   "id": "dietary-statistics",
   "metadata": {
    "papermill": {
     "duration": 0.00975,
     "end_time": "2022-01-26T02:06:59.253915",
     "exception": false,
     "start_time": "2022-01-26T02:06:59.244165",
     "status": "completed"
    },
    "tags": []
   },
   "outputs": [],
   "source": []
  }
 ],
 "metadata": {
  "kernelspec": {
   "display_name": "Python 3",
   "language": "python",
   "name": "python3"
  },
  "language_info": {
   "codemirror_mode": {
    "name": "ipython",
    "version": 3
   },
   "file_extension": ".py",
   "mimetype": "text/x-python",
   "name": "python",
   "nbconvert_exporter": "python",
   "pygments_lexer": "ipython3",
   "version": "3.6.15"
  },
  "papermill": {
   "default_parameters": {},
   "duration": 12.035003,
   "end_time": "2022-01-26T02:06:59.681207",
   "environment_variables": {},
   "exception": null,
   "input_path": "Market-News.ipynb",
   "output_path": "Market-News.ipynb",
   "parameters": {},
   "start_time": "2022-01-26T02:06:47.646204",
   "version": "2.2.2"
  }
 },
 "nbformat": 4,
 "nbformat_minor": 5
}