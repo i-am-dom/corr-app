{
 "cells": [
  {
   "cell_type": "markdown",
   "id": "short-greensboro",
   "metadata": {
    "papermill": {
     "duration": 0.013782,
     "end_time": "2022-05-15T02:55:33.503952",
     "exception": false,
     "start_time": "2022-05-15T02:55:33.490170",
     "status": "completed"
    },
    "tags": []
   },
   "source": [
    "# Kriptovaliutų naujienos"
   ]
  },
  {
   "cell_type": "code",
   "execution_count": 1,
   "id": "functioning-knowing",
   "metadata": {
    "execution": {
     "iopub.execute_input": "2022-05-15T02:55:33.530953Z",
     "iopub.status.busy": "2022-05-15T02:55:33.530346Z",
     "iopub.status.idle": "2022-05-15T02:55:34.752076Z",
     "shell.execute_reply": "2022-05-15T02:55:34.751515Z"
    },
    "papermill": {
     "duration": 1.239723,
     "end_time": "2022-05-15T02:55:34.752244",
     "exception": false,
     "start_time": "2022-05-15T02:55:33.512521",
     "status": "completed"
    },
    "tags": []
   },
   "outputs": [],
   "source": [
    "#hide_input\n",
    "import warnings\n",
    "warnings.filterwarnings('ignore')\n",
    "from scripts.read_data import read_api\n",
    "from scripts.read_data import read_news\n",
    "from scripts.read_data import read_covid\n",
    "import matplotlib.pyplot as plt \n",
    "from IPython.display import Markdown as md"
   ]
  },
  {
   "cell_type": "code",
   "execution_count": 2,
   "id": "shared-acceptance",
   "metadata": {
    "execution": {
     "iopub.execute_input": "2022-05-15T02:55:34.776155Z",
     "iopub.status.busy": "2022-05-15T02:55:34.775690Z",
     "iopub.status.idle": "2022-05-15T02:55:49.282365Z",
     "shell.execute_reply": "2022-05-15T02:55:49.281479Z"
    },
    "papermill": {
     "duration": 14.520724,
     "end_time": "2022-05-15T02:55:49.282517",
     "exception": false,
     "start_time": "2022-05-15T02:55:34.761793",
     "status": "completed"
    },
    "tags": []
   },
   "outputs": [],
   "source": [
    "#hide_input\n",
    "blockchain = read_news('blockchain') \n",
    "btc = read_news('btc') \n",
    "xrp = read_news('xrp') \n",
    "trx = read_news('trx') \n",
    "eth = read_news('eth')  \n",
    "ada = read_news('ada')\n",
    "exchange = read_news('exchange') "
   ]
  },
  {
   "cell_type": "code",
   "execution_count": 3,
   "id": "synthetic-notion",
   "metadata": {
    "execution": {
     "iopub.execute_input": "2022-05-15T02:55:49.301926Z",
     "iopub.status.busy": "2022-05-15T02:55:49.301460Z",
     "iopub.status.idle": "2022-05-15T02:55:49.307525Z",
     "shell.execute_reply": "2022-05-15T02:55:49.307863Z"
    },
    "papermill": {
     "duration": 0.0166,
     "end_time": "2022-05-15T02:55:49.307976",
     "exception": false,
     "start_time": "2022-05-15T02:55:49.291376",
     "status": "completed"
    },
    "tags": []
   },
   "outputs": [
    {
     "data": {
      "text/markdown": [
       "- Reasons Behind Anchor Protocol Heavy Downtrend.  Anchor Protocol is a platform that provides crypto investors and fintech establishments with high returns on investment. Its native token ANC is one of the most in the present bearish market. At the time of writing, it is trading at $0.2863, with a 24 hours decrease in price by 36.43%. In the past 7 days, the price of Anchor Protocol has fallen by 84.7% according to CoinGecko. Some of the reasons for the present decline in the price of ANC are: The present market downtrend The fall in the price of TerraUSD The delay in transactions in the Avalanche network The present market downtrend In most market conditions, the price of altcoins moves in the direction of the trend of Bitcoin (BTC). With the increase in the volatility of the market, the price of Anchor Protocol (ANC) joined most cryptocurrencies to fall as the present cycle last. The continuous price decline makes retail and short-term investors sell more, so as to safeguard the remaining balance in their assets. This selling pressure makes the market to fall further since sellers are in charge. The fall in the price of TerraUSD TerraUSD (UST) is one of the major stablecoins used in the Anchor Protocol ecosystem for its lending services. With the implosion that happened on the Terra network, which saw both its native token LUNA and its Stablecoin TerraUSD (UST) to decline heavily, the price of Anchor Protocol’s native token ANC was also affected. Delay in transactions compl... ... [| Skaityti daugiau](https://www.cryptoknowmics.com/news/reasons-behind-anchor-protocol-heavy-downtrend/?utm_source=rss&utm_medium=rss&utm_campaign=reasons-behind-anchor-protocol-heavy-downtrend) "
      ],
      "text/plain": [
       "<IPython.core.display.Markdown object>"
      ]
     },
     "execution_count": 3,
     "metadata": {},
     "output_type": "execute_result"
    }
   ],
   "source": [
    "#hide_input\n",
    "#md('##### {}'.format(titleBTC)) \n",
    "md(\"- {}{} {}{} [| Skaityti daugiau]({}) \".format(blockchain['title'],'. ', blockchain['body'], ' ...', blockchain['url']))"
   ]
  },
  {
   "cell_type": "code",
   "execution_count": 4,
   "id": "aging-caution",
   "metadata": {
    "execution": {
     "iopub.execute_input": "2022-05-15T02:55:49.328617Z",
     "iopub.status.busy": "2022-05-15T02:55:49.328160Z",
     "iopub.status.idle": "2022-05-15T02:55:49.330737Z",
     "shell.execute_reply": "2022-05-15T02:55:49.331099Z"
    },
    "papermill": {
     "duration": 0.014922,
     "end_time": "2022-05-15T02:55:49.331202",
     "exception": false,
     "start_time": "2022-05-15T02:55:49.316280",
     "status": "completed"
    },
    "tags": []
   },
   "outputs": [
    {
     "data": {
      "text/markdown": [
       "- Reasons Behind Anchor Protocol Heavy Downtrend.  Anchor Protocol is a platform that provides crypto investors and fintech establishments with high returns on investment. Its native token ANC is one of the most in the present bearish market. At the time of writing, it is trading at $0.2863, with a 24 hours decrease in price by 36.43%. In the past 7 days, the price of Anchor Protocol has fallen by 84.7% according to CoinGecko. Some of the reasons for the present decline in the price of ANC are: The present market downtrend The fall in the price of TerraUSD The delay in transactions in the Avalanche network The present market downtrend In most market conditions, the price of altcoins moves in the direction of the trend of Bitcoin (BTC). With the increase in the volatility of the market, the price of Anchor Protocol (ANC) joined most cryptocurrencies to fall as the present cycle last. The continuous price decline makes retail and short-term investors sell more, so as to safeguard the remaining balance in their assets. This selling pressure makes the market to fall further since sellers are in charge. The fall in the price of TerraUSD TerraUSD (UST) is one of the major stablecoins used in the Anchor Protocol ecosystem for its lending services. With the implosion that happened on the Terra network, which saw both its native token LUNA and its Stablecoin TerraUSD (UST) to decline heavily, the price of Anchor Protocol’s native token ANC was also affected. Delay in transactions compl... ... [| Skaityti daugiau](https://www.cryptoknowmics.com/news/reasons-behind-anchor-protocol-heavy-downtrend/?utm_source=rss&utm_medium=rss&utm_campaign=reasons-behind-anchor-protocol-heavy-downtrend) "
      ],
      "text/plain": [
       "<IPython.core.display.Markdown object>"
      ]
     },
     "execution_count": 4,
     "metadata": {},
     "output_type": "execute_result"
    }
   ],
   "source": [
    "#hide_input\n",
    "#md('##### {}'.format(titleBTC)) \n",
    "md(\"- {}{} {}{} [| Skaityti daugiau]({}) \".format(btc['title'],'. ', btc['body'], ' ...', btc['url']))"
   ]
  },
  {
   "cell_type": "code",
   "execution_count": 5,
   "id": "organic-actress",
   "metadata": {
    "execution": {
     "iopub.execute_input": "2022-05-15T02:55:49.352145Z",
     "iopub.status.busy": "2022-05-15T02:55:49.351695Z",
     "iopub.status.idle": "2022-05-15T02:55:49.355137Z",
     "shell.execute_reply": "2022-05-15T02:55:49.355520Z"
    },
    "papermill": {
     "duration": 0.015943,
     "end_time": "2022-05-15T02:55:49.355618",
     "exception": false,
     "start_time": "2022-05-15T02:55:49.339675",
     "status": "completed"
    },
    "tags": []
   },
   "outputs": [
    {
     "data": {
      "text/markdown": [
       "- Ripple Sits at a Long-Term Support Following 30% Weekly Crash, Rebound In Sight? (XRP Technical Analysis).  The market is still in shock due to the deep collapse in recent days. Investors are skeptical, and it remains to be seen when the bulls will return to the market. Technical Analysis By Grizzly The Daily Chart The bears were able to push the price down to critical horizontal support at $0.33. This level [&#8230;] ... [| Skaityti daugiau](https://cryptopotato.com/ripple-sits-at-a-long-term-support-following-30-weekly-crash-rebound-in-sight-xrp-technical-analysis/) "
      ],
      "text/plain": [
       "<IPython.core.display.Markdown object>"
      ]
     },
     "execution_count": 5,
     "metadata": {},
     "output_type": "execute_result"
    }
   ],
   "source": [
    "#hide_input\n",
    "#md('##### {}'.format(titleBTC)) \n",
    "md(\"- {}{} {}{} [| Skaityti daugiau]({}) \".format(xrp['title'],'. ', xrp['body'], ' ...', xrp['url']))"
   ]
  },
  {
   "cell_type": "code",
   "execution_count": 6,
   "id": "prompt-farmer",
   "metadata": {
    "execution": {
     "iopub.execute_input": "2022-05-15T02:55:49.377331Z",
     "iopub.status.busy": "2022-05-15T02:55:49.376849Z",
     "iopub.status.idle": "2022-05-15T02:55:49.379418Z",
     "shell.execute_reply": "2022-05-15T02:55:49.379800Z"
    },
    "papermill": {
     "duration": 0.015561,
     "end_time": "2022-05-15T02:55:49.379897",
     "exception": false,
     "start_time": "2022-05-15T02:55:49.364336",
     "status": "completed"
    },
    "tags": []
   },
   "outputs": [
    {
     "data": {
      "text/markdown": [
       "- TRX Price Analysis: Fallout of $0.075 Support Hints 18% Drop in TRX.  The failed attempt from the TRON (TRX) buyers to escape the range-bound rally indicates a potential downfall to the $0.057 mark. The $0.075 fallout brings a short opportunity for interested traders to take an 18% target. Can the concentrated EMAs stall the upcoming freefall? Key points The TRX price has lost 16% since the last The post TRX Price Analysis: Fallout of $0.075 Support Hints 18% Drop in TRX appeared first on CoinGape. ... [| Skaityti daugiau](https://coingape.com/markets/trx-price-analysis-fallout-of-0-075-support-hints-18-drop-in-trx/) "
      ],
      "text/plain": [
       "<IPython.core.display.Markdown object>"
      ]
     },
     "execution_count": 6,
     "metadata": {},
     "output_type": "execute_result"
    }
   ],
   "source": [
    "#hide_input\n",
    "#md('##### {}'.format(titleBTC)) \n",
    "md(\"- {}{} {}{} [| Skaityti daugiau]({}) \".format(trx['title'],'. ', trx['body'], ' ...', trx['url']))"
   ]
  },
  {
   "cell_type": "code",
   "execution_count": 7,
   "id": "illegal-greece",
   "metadata": {
    "execution": {
     "iopub.execute_input": "2022-05-15T02:55:49.402187Z",
     "iopub.status.busy": "2022-05-15T02:55:49.401739Z",
     "iopub.status.idle": "2022-05-15T02:55:49.404427Z",
     "shell.execute_reply": "2022-05-15T02:55:49.404860Z"
    },
    "papermill": {
     "duration": 0.015992,
     "end_time": "2022-05-15T02:55:49.404958",
     "exception": false,
     "start_time": "2022-05-15T02:55:49.388966",
     "status": "completed"
    },
    "tags": []
   },
   "outputs": [
    {
     "data": {
      "text/markdown": [
       "- Soccer Team RCD Espanyol to Become the First Spanish Club to Accept Crypto Payments.  RCD Espanyol teamed up with Crypto Snack to become the first La Liga team, allowing fans to buy tickets in cryptocurrencies. ... [| Skaityti daugiau](https://cryptopotato.com/soccer-team-rcd-espanyol-to-become-the-first-spanish-club-to-accept-crypto-payments/) "
      ],
      "text/plain": [
       "<IPython.core.display.Markdown object>"
      ]
     },
     "execution_count": 7,
     "metadata": {},
     "output_type": "execute_result"
    }
   ],
   "source": [
    "#hide_input\n",
    "#md('##### {}'.format(titleBTC)) \n",
    "md(\"- {}{} {}{} [| Skaityti daugiau]({}) \".format(eth['title'],'. ', eth['body'], ' ...', eth['url']))"
   ]
  },
  {
   "cell_type": "code",
   "execution_count": 8,
   "id": "sublime-lounge",
   "metadata": {
    "execution": {
     "iopub.execute_input": "2022-05-15T02:55:49.428888Z",
     "iopub.status.busy": "2022-05-15T02:55:49.428437Z",
     "iopub.status.idle": "2022-05-15T02:55:49.431326Z",
     "shell.execute_reply": "2022-05-15T02:55:49.430944Z"
    },
    "papermill": {
     "duration": 0.017011,
     "end_time": "2022-05-15T02:55:49.431414",
     "exception": false,
     "start_time": "2022-05-15T02:55:49.414403",
     "status": "completed"
    },
    "tags": []
   },
   "outputs": [
    {
     "data": {
      "text/markdown": [
       "- Top Crypto Analyst Predicts Massive Price Dive for Cardano, Says One Solana-Based Altcoin Will ‘Go Down to the Basement’.  A widely followed crypto trader is predicting further corrective moves smart contract platform Cardano (ADA) and one of this year&#8217;s trending altcoins. Pseudonymous crypto analyst Capo tells his 307,500 Twitter followers ADA is poised for another leg down before it completes its five-wave downtrend, based on the Elliott Wave theory. &#8220;ADA Fifth wave missing. Main [&#8230;]The post Top Crypto Analyst Predicts Massive Price Dive for Cardano, Says One Solana-Based Altcoin Will ‘Go Down to the Basement’ appeared first on The Daily Hodl. ... [| Skaityti daugiau](https://dailyhodl.com/2022/05/14/top-crypto-analyst-predicts-massive-price-dive-for-cardano-says-one-solana-based-altcoin-will-go-down-to-the-basement/) "
      ],
      "text/plain": [
       "<IPython.core.display.Markdown object>"
      ]
     },
     "execution_count": 8,
     "metadata": {},
     "output_type": "execute_result"
    }
   ],
   "source": [
    "#hide_input\n",
    "#md('##### {}'.format(titleBTC)) \n",
    "md(\"- {}{} {}{} [| Skaityti daugiau]({}) \".format(ada['title'],'. ', ada['body'], ' ...', ada['url']))"
   ]
  },
  {
   "cell_type": "code",
   "execution_count": 9,
   "id": "specified-ordering",
   "metadata": {
    "execution": {
     "iopub.execute_input": "2022-05-15T02:55:49.454790Z",
     "iopub.status.busy": "2022-05-15T02:55:49.453760Z",
     "iopub.status.idle": "2022-05-15T02:55:49.457360Z",
     "shell.execute_reply": "2022-05-15T02:55:49.457704Z"
    },
    "papermill": {
     "duration": 0.016763,
     "end_time": "2022-05-15T02:55:49.457806",
     "exception": false,
     "start_time": "2022-05-15T02:55:49.441043",
     "status": "completed"
    },
    "tags": []
   },
   "outputs": [
    {
     "data": {
      "text/markdown": [
       "- SEC Commissioner Expects Tighter Stablecoin Regulation — Yellen Says Stablecoins Not Real Threat to Financial Stability.  A commissioner with the U.S. Securities and Exchange Commission (SEC) expects to see stricter regulation on stablecoins. However, Treasury Secretary Janet Yellen says stablecoins are currently &#x201C;not a real threat&#x201D; to the country&#x2019;s financial stability. SEC Commissioner on Stablecoin Regulation The regulation of stablecoins has been a hot topic this week following the Terra fiasco [&#8230;] ... [| Skaityti daugiau](https://news.bitcoin.com/sec-commissioner-expects-tighter-stablecoin-regulation-yellen-says-stablecoins-not-real-threat-to-financial-stability/) "
      ],
      "text/plain": [
       "<IPython.core.display.Markdown object>"
      ]
     },
     "execution_count": 9,
     "metadata": {},
     "output_type": "execute_result"
    }
   ],
   "source": [
    "#hide_input\n",
    "#md('##### {}'.format(titleBTC)) \n",
    "md(\"- {}{} {}{} [| Skaityti daugiau]({}) \".format(exchange['title'],'. ', exchange['body'], ' ...', exchange['url']))"
   ]
  },
  {
   "cell_type": "code",
   "execution_count": null,
   "id": "tender-livestock",
   "metadata": {
    "papermill": {
     "duration": 0.009881,
     "end_time": "2022-05-15T02:55:49.477536",
     "exception": false,
     "start_time": "2022-05-15T02:55:49.467655",
     "status": "completed"
    },
    "tags": []
   },
   "outputs": [],
   "source": []
  },
  {
   "cell_type": "code",
   "execution_count": null,
   "id": "appreciated-diamond",
   "metadata": {
    "papermill": {
     "duration": 0.009934,
     "end_time": "2022-05-15T02:55:49.497338",
     "exception": false,
     "start_time": "2022-05-15T02:55:49.487404",
     "status": "completed"
    },
    "tags": []
   },
   "outputs": [],
   "source": []
  },
  {
   "cell_type": "code",
   "execution_count": null,
   "id": "romance-sweden",
   "metadata": {
    "papermill": {
     "duration": 0.009844,
     "end_time": "2022-05-15T02:55:49.518114",
     "exception": false,
     "start_time": "2022-05-15T02:55:49.508270",
     "status": "completed"
    },
    "tags": []
   },
   "outputs": [],
   "source": []
  },
  {
   "cell_type": "code",
   "execution_count": null,
   "id": "dietary-statistics",
   "metadata": {
    "papermill": {
     "duration": 0.009869,
     "end_time": "2022-05-15T02:55:49.537970",
     "exception": false,
     "start_time": "2022-05-15T02:55:49.528101",
     "status": "completed"
    },
    "tags": []
   },
   "outputs": [],
   "source": []
  }
 ],
 "metadata": {
  "kernelspec": {
   "display_name": "Python 3",
   "language": "python",
   "name": "python3"
  },
  "language_info": {
   "codemirror_mode": {
    "name": "ipython",
    "version": 3
   },
   "file_extension": ".py",
   "mimetype": "text/x-python",
   "name": "python",
   "nbconvert_exporter": "python",
   "pygments_lexer": "ipython3",
   "version": "3.6.15"
  },
  "papermill": {
   "default_parameters": {},
   "duration": 17.474959,
   "end_time": "2022-05-15T02:55:50.066571",
   "environment_variables": {},
   "exception": null,
   "input_path": "Market-News.ipynb",
   "output_path": "Market-News.ipynb",
   "parameters": {},
   "start_time": "2022-05-15T02:55:32.591612",
   "version": "2.2.2"
  }
 },
 "nbformat": 4,
 "nbformat_minor": 5
}