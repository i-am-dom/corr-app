{
 "cells": [
  {
   "cell_type": "markdown",
   "id": "short-greensboro",
   "metadata": {
    "papermill": {
     "duration": 0.013288,
     "end_time": "2022-05-03T03:03:39.886844",
     "exception": false,
     "start_time": "2022-05-03T03:03:39.873556",
     "status": "completed"
    },
    "tags": []
   },
   "source": [
    "# Kriptovaliutų naujienos"
   ]
  },
  {
   "cell_type": "code",
   "execution_count": 1,
   "id": "functioning-knowing",
   "metadata": {
    "execution": {
     "iopub.execute_input": "2022-05-03T03:03:39.916388Z",
     "iopub.status.busy": "2022-05-03T03:03:39.915788Z",
     "iopub.status.idle": "2022-05-03T03:03:41.130268Z",
     "shell.execute_reply": "2022-05-03T03:03:41.129730Z"
    },
    "papermill": {
     "duration": 1.23383,
     "end_time": "2022-05-03T03:03:41.130422",
     "exception": false,
     "start_time": "2022-05-03T03:03:39.896592",
     "status": "completed"
    },
    "tags": []
   },
   "outputs": [],
   "source": [
    "#hide_input\n",
    "import warnings\n",
    "warnings.filterwarnings('ignore')\n",
    "from scripts.read_data import read_api\n",
    "from scripts.read_data import read_news\n",
    "from scripts.read_data import read_covid\n",
    "import matplotlib.pyplot as plt \n",
    "from IPython.display import Markdown as md"
   ]
  },
  {
   "cell_type": "code",
   "execution_count": 2,
   "id": "shared-acceptance",
   "metadata": {
    "execution": {
     "iopub.execute_input": "2022-05-03T03:03:41.155225Z",
     "iopub.status.busy": "2022-05-03T03:03:41.154338Z",
     "iopub.status.idle": "2022-05-03T03:03:51.576179Z",
     "shell.execute_reply": "2022-05-03T03:03:51.576717Z"
    },
    "papermill": {
     "duration": 10.437173,
     "end_time": "2022-05-03T03:03:51.576871",
     "exception": false,
     "start_time": "2022-05-03T03:03:41.139698",
     "status": "completed"
    },
    "tags": []
   },
   "outputs": [],
   "source": [
    "#hide_input\n",
    "blockchain = read_news('blockchain') \n",
    "btc = read_news('btc') \n",
    "xrp = read_news('xrp') \n",
    "trx = read_news('trx') \n",
    "eth = read_news('eth')  \n",
    "ada = read_news('ada')\n",
    "exchange = read_news('exchange') "
   ]
  },
  {
   "cell_type": "code",
   "execution_count": 3,
   "id": "synthetic-notion",
   "metadata": {
    "execution": {
     "iopub.execute_input": "2022-05-03T03:03:51.600888Z",
     "iopub.status.busy": "2022-05-03T03:03:51.600215Z",
     "iopub.status.idle": "2022-05-03T03:03:51.602853Z",
     "shell.execute_reply": "2022-05-03T03:03:51.603230Z"
    },
    "papermill": {
     "duration": 0.017241,
     "end_time": "2022-05-03T03:03:51.603349",
     "exception": false,
     "start_time": "2022-05-03T03:03:51.586108",
     "status": "completed"
    },
    "tags": []
   },
   "outputs": [
    {
     "data": {
      "text/markdown": [
       "- How to Stake VeChain.  VeChain is a blockchain platform that allows developers to create decentralized applications. The VeChain system has been designed to provide enterprises with scalable and robust blockchain infrastructure. VET, the network&#8217;s native currency, is utilized for transactions on the network. The platform also supports smart contracts. Staking coins is one of the most well-known blockchain platforms.... ... [| Skaityti daugiau](https://www.cryptopolitan.com/how-to-stake-vechain/) "
      ],
      "text/plain": [
       "<IPython.core.display.Markdown object>"
      ]
     },
     "execution_count": 3,
     "metadata": {},
     "output_type": "execute_result"
    }
   ],
   "source": [
    "#hide_input\n",
    "#md('##### {}'.format(titleBTC)) \n",
    "md(\"- {}{} {}{} [| Skaityti daugiau]({}) \".format(blockchain['title'],'. ', blockchain['body'], ' ...', blockchain['url']))"
   ]
  },
  {
   "cell_type": "code",
   "execution_count": 4,
   "id": "aging-caution",
   "metadata": {
    "execution": {
     "iopub.execute_input": "2022-05-03T03:03:51.626375Z",
     "iopub.status.busy": "2022-05-03T03:03:51.625876Z",
     "iopub.status.idle": "2022-05-03T03:03:51.628827Z",
     "shell.execute_reply": "2022-05-03T03:03:51.628425Z"
    },
    "papermill": {
     "duration": 0.016342,
     "end_time": "2022-05-03T03:03:51.628927",
     "exception": false,
     "start_time": "2022-05-03T03:03:51.612585",
     "status": "completed"
    },
    "tags": []
   },
   "outputs": [
    {
     "data": {
      "text/markdown": [
       "- EPA Vs. Bitcoin: Dorsey, Saylor, Others Oppose Lawmakers’ Call For Action Vs. Crypto Mining.  Bitcoin titans Jack Dorsey, Michael Saylor, and Tom Lee collaborated on a letter to the U.S. Environmental Protection Agency in defense of Bitcoin mining’s alleged impact on the environment. Together, they have refuted claims by House democrats who are tapping on the EPA to investigate the so-called devastating effects that crypto mining has on the [&#8230;] ... [| Skaityti daugiau](https://bitcoinist.com/epa-vs-bitcoin/) "
      ],
      "text/plain": [
       "<IPython.core.display.Markdown object>"
      ]
     },
     "execution_count": 4,
     "metadata": {},
     "output_type": "execute_result"
    }
   ],
   "source": [
    "#hide_input\n",
    "#md('##### {}'.format(titleBTC)) \n",
    "md(\"- {}{} {}{} [| Skaityti daugiau]({}) \".format(btc['title'],'. ', btc['body'], ' ...', btc['url']))"
   ]
  },
  {
   "cell_type": "code",
   "execution_count": 5,
   "id": "organic-actress",
   "metadata": {
    "execution": {
     "iopub.execute_input": "2022-05-03T03:03:51.651852Z",
     "iopub.status.busy": "2022-05-03T03:03:51.650774Z",
     "iopub.status.idle": "2022-05-03T03:03:51.654449Z",
     "shell.execute_reply": "2022-05-03T03:03:51.654849Z"
    },
    "papermill": {
     "duration": 0.016558,
     "end_time": "2022-05-03T03:03:51.654960",
     "exception": false,
     "start_time": "2022-05-03T03:03:51.638402",
     "status": "completed"
    },
    "tags": []
   },
   "outputs": [
    {
     "data": {
      "text/markdown": [
       "- Argentina's Largest Private Bank to Offer Bitcoin, Ethereum Trading.  Banco Galicia clients also will be able to transact in USD Coin and XRP. ... [| Skaityti daugiau](https://decrypt.co/99264/argentinas-largest-bank-to-offer-bitcoin-ethereum-trading) "
      ],
      "text/plain": [
       "<IPython.core.display.Markdown object>"
      ]
     },
     "execution_count": 5,
     "metadata": {},
     "output_type": "execute_result"
    }
   ],
   "source": [
    "#hide_input\n",
    "#md('##### {}'.format(titleBTC)) \n",
    "md(\"- {}{} {}{} [| Skaityti daugiau]({}) \".format(xrp['title'],'. ', xrp['body'], ' ...', xrp['url']))"
   ]
  },
  {
   "cell_type": "code",
   "execution_count": 6,
   "id": "prompt-farmer",
   "metadata": {
    "execution": {
     "iopub.execute_input": "2022-05-03T03:03:51.678617Z",
     "iopub.status.busy": "2022-05-03T03:03:51.678124Z",
     "iopub.status.idle": "2022-05-03T03:03:51.680779Z",
     "shell.execute_reply": "2022-05-03T03:03:51.681155Z"
    },
    "papermill": {
     "duration": 0.016526,
     "end_time": "2022-05-03T03:03:51.681266",
     "exception": false,
     "start_time": "2022-05-03T03:03:51.664740",
     "status": "completed"
    },
    "tags": []
   },
   "outputs": [
    {
     "data": {
      "text/markdown": [
       "- Tron [TRX] seems to be rallying on the back of good news but here’s the caveat.  Whether you call it TRON [TRX] or TRON DAO, you have to admit that the coin &#8211; or founder Justin Sun &#8211; is always up to something interesting. So, naturally, on a day when many top alts were still in the red, TRX grabbed a lot of eyeballs thanks to its 16.38% rally in the [&#8230;] ... [| Skaityti daugiau](https://ambcrypto.com/tron-trx-seems-to-be-rallying-on-the-back-of-good-news-but-heres-the-caveat/) "
      ],
      "text/plain": [
       "<IPython.core.display.Markdown object>"
      ]
     },
     "execution_count": 6,
     "metadata": {},
     "output_type": "execute_result"
    }
   ],
   "source": [
    "#hide_input\n",
    "#md('##### {}'.format(titleBTC)) \n",
    "md(\"- {}{} {}{} [| Skaityti daugiau]({}) \".format(trx['title'],'. ', trx['body'], ' ...', trx['url']))"
   ]
  },
  {
   "cell_type": "code",
   "execution_count": 7,
   "id": "illegal-greece",
   "metadata": {
    "execution": {
     "iopub.execute_input": "2022-05-03T03:03:51.705779Z",
     "iopub.status.busy": "2022-05-03T03:03:51.705285Z",
     "iopub.status.idle": "2022-05-03T03:03:51.708406Z",
     "shell.execute_reply": "2022-05-03T03:03:51.707976Z"
    },
    "papermill": {
     "duration": 0.016987,
     "end_time": "2022-05-03T03:03:51.708507",
     "exception": false,
     "start_time": "2022-05-03T03:03:51.691520",
     "status": "completed"
    },
    "tags": []
   },
   "outputs": [
    {
     "data": {
      "text/markdown": [
       "- Billionaire Citadel Securities founder compares crypto value to abstract art.  “I have to live with the reality that an asset’s worth what people perceive it to be worth,” Ken Griffin stated.  ... [| Skaityti daugiau](https://cointelegraph.com/news/billionaire-citadel-securities-founder-compares-crypto-value-to-abstract-art) "
      ],
      "text/plain": [
       "<IPython.core.display.Markdown object>"
      ]
     },
     "execution_count": 7,
     "metadata": {},
     "output_type": "execute_result"
    }
   ],
   "source": [
    "#hide_input\n",
    "#md('##### {}'.format(titleBTC)) \n",
    "md(\"- {}{} {}{} [| Skaityti daugiau]({}) \".format(eth['title'],'. ', eth['body'], ' ...', eth['url']))"
   ]
  },
  {
   "cell_type": "code",
   "execution_count": 8,
   "id": "sublime-lounge",
   "metadata": {
    "execution": {
     "iopub.execute_input": "2022-05-03T03:03:51.733521Z",
     "iopub.status.busy": "2022-05-03T03:03:51.733019Z",
     "iopub.status.idle": "2022-05-03T03:03:51.737229Z",
     "shell.execute_reply": "2022-05-03T03:03:51.736832Z"
    },
    "papermill": {
     "duration": 0.018459,
     "end_time": "2022-05-03T03:03:51.737327",
     "exception": false,
     "start_time": "2022-05-03T03:03:51.718868",
     "status": "completed"
    },
    "tags": []
   },
   "outputs": [
    {
     "data": {
      "text/markdown": [
       "- Top 10 Altcoins To Invest In May 2022.  Over the last year, we’ve seen Bitcoin and other cryptocurrencies hit many new all-time high values, followed by significant dips, and increased institutional buy-in from major corporations. Late last year, Ethereum, the second-largest cryptocurrency, also reached a new all-time high. New Bitcoin restrictions have piqued the curiosity of US government authorities and the Biden administration. People’s interest in crypto has soared in the meantime: it’s a hot topic not only among investors but also in popular culture, due to everyone from long-time investors to newbies like Elon Musk, who recently bought Twitter for $44 billion and that can mean a lot for the crypto space. Not only for Bitcoin but also Altcoins, 2021 was an important year. Investors are interested in Altcoins such as Ether, Solana, and Cardano, among others, for a variety of reasons, including faster transactions, lower costs, and a lower environmental impact. And even though the market is witnessing a marketwide correction now, it is only a matter of time until Bitcoin, and the other Altcoins make a comeback to hit new all-time highs. Altcoins that perform in line with foreseeable trends in the crypto sector, such as the metaverse, decentralized finance (DeFi), decentralized applications (dApps), and NFTs are expected to dominate in 2022. In this article, we’ll go over the top 10 Altcoins to buy in May 2022, all of which have high upside potential. Top 10 Altc... ... [| Skaityti daugiau](https://www.cryptoknowmics.com/news/top-10-altcoins-to-invest-in-may-2022/?utm_source=rss&utm_medium=rss&utm_campaign=top-10-altcoins-to-invest-in-may-2022) "
      ],
      "text/plain": [
       "<IPython.core.display.Markdown object>"
      ]
     },
     "execution_count": 8,
     "metadata": {},
     "output_type": "execute_result"
    }
   ],
   "source": [
    "#hide_input\n",
    "#md('##### {}'.format(titleBTC)) \n",
    "md(\"- {}{} {}{} [| Skaityti daugiau]({}) \".format(ada['title'],'. ', ada['body'], ' ...', ada['url']))"
   ]
  },
  {
   "cell_type": "code",
   "execution_count": 9,
   "id": "specified-ordering",
   "metadata": {
    "execution": {
     "iopub.execute_input": "2022-05-03T03:03:51.762993Z",
     "iopub.status.busy": "2022-05-03T03:03:51.762492Z",
     "iopub.status.idle": "2022-05-03T03:03:51.765568Z",
     "shell.execute_reply": "2022-05-03T03:03:51.765166Z"
    },
    "papermill": {
     "duration": 0.017554,
     "end_time": "2022-05-03T03:03:51.765665",
     "exception": false,
     "start_time": "2022-05-03T03:03:51.748111",
     "status": "completed"
    },
    "tags": []
   },
   "outputs": [
    {
     "data": {
      "text/markdown": [
       "- Crypto.com's Cronos Token Plunges 10% to Hit Six-Month Low.  The price of Crypto.com's CRO dropped over 10% in 24 hours after the exchange announced changes to its rewards and staking programs. ... [| Skaityti daugiau](https://decrypt.co/99285/crypto-com-cronos-token-plunges-six-month-low) "
      ],
      "text/plain": [
       "<IPython.core.display.Markdown object>"
      ]
     },
     "execution_count": 9,
     "metadata": {},
     "output_type": "execute_result"
    }
   ],
   "source": [
    "#hide_input\n",
    "#md('##### {}'.format(titleBTC)) \n",
    "md(\"- {}{} {}{} [| Skaityti daugiau]({}) \".format(exchange['title'],'. ', exchange['body'], ' ...', exchange['url']))"
   ]
  },
  {
   "cell_type": "code",
   "execution_count": null,
   "id": "tender-livestock",
   "metadata": {
    "papermill": {
     "duration": 0.011022,
     "end_time": "2022-05-03T03:03:51.787779",
     "exception": false,
     "start_time": "2022-05-03T03:03:51.776757",
     "status": "completed"
    },
    "tags": []
   },
   "outputs": [],
   "source": []
  },
  {
   "cell_type": "code",
   "execution_count": null,
   "id": "appreciated-diamond",
   "metadata": {
    "papermill": {
     "duration": 0.01105,
     "end_time": "2022-05-03T03:03:51.810083",
     "exception": false,
     "start_time": "2022-05-03T03:03:51.799033",
     "status": "completed"
    },
    "tags": []
   },
   "outputs": [],
   "source": []
  },
  {
   "cell_type": "code",
   "execution_count": null,
   "id": "romance-sweden",
   "metadata": {
    "papermill": {
     "duration": 0.010995,
     "end_time": "2022-05-03T03:03:51.833088",
     "exception": false,
     "start_time": "2022-05-03T03:03:51.822093",
     "status": "completed"
    },
    "tags": []
   },
   "outputs": [],
   "source": []
  },
  {
   "cell_type": "code",
   "execution_count": null,
   "id": "dietary-statistics",
   "metadata": {
    "papermill": {
     "duration": 0.010955,
     "end_time": "2022-05-03T03:03:51.855058",
     "exception": false,
     "start_time": "2022-05-03T03:03:51.844103",
     "status": "completed"
    },
    "tags": []
   },
   "outputs": [],
   "source": []
  }
 ],
 "metadata": {
  "kernelspec": {
   "display_name": "Python 3",
   "language": "python",
   "name": "python3"
  },
  "language_info": {
   "codemirror_mode": {
    "name": "ipython",
    "version": 3
   },
   "file_extension": ".py",
   "mimetype": "text/x-python",
   "name": "python",
   "nbconvert_exporter": "python",
   "pygments_lexer": "ipython3",
   "version": "3.6.15"
  },
  "papermill": {
   "default_parameters": {},
   "duration": 13.336843,
   "end_time": "2022-05-03T03:03:52.283724",
   "environment_variables": {},
   "exception": null,
   "input_path": "Market-News.ipynb",
   "output_path": "Market-News.ipynb",
   "parameters": {},
   "start_time": "2022-05-03T03:03:38.946881",
   "version": "2.2.2"
  }
 },
 "nbformat": 4,
 "nbformat_minor": 5
}