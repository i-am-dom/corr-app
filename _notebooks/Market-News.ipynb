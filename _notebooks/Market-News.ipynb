{
 "cells": [
  {
   "cell_type": "markdown",
   "id": "short-greensboro",
   "metadata": {
    "papermill": {
     "duration": 0.015937,
     "end_time": "2021-11-18T02:00:13.210263",
     "exception": false,
     "start_time": "2021-11-18T02:00:13.194326",
     "status": "completed"
    },
    "tags": []
   },
   "source": [
    "# Kriptovaliutų naujienos"
   ]
  },
  {
   "cell_type": "code",
   "execution_count": 1,
   "id": "functioning-knowing",
   "metadata": {
    "execution": {
     "iopub.execute_input": "2021-11-18T02:00:13.244336Z",
     "iopub.status.busy": "2021-11-18T02:00:13.243683Z",
     "iopub.status.idle": "2021-11-18T02:00:14.774450Z",
     "shell.execute_reply": "2021-11-18T02:00:14.773333Z"
    },
    "papermill": {
     "duration": 1.552539,
     "end_time": "2021-11-18T02:00:14.774609",
     "exception": false,
     "start_time": "2021-11-18T02:00:13.222070",
     "status": "completed"
    },
    "tags": []
   },
   "outputs": [],
   "source": [
    "#hide_input\n",
    "import warnings\n",
    "warnings.filterwarnings('ignore')\n",
    "from scripts.read_data import read_api\n",
    "from scripts.read_data import read_news\n",
    "from scripts.read_data import read_covid\n",
    "import matplotlib.pyplot as plt \n",
    "from IPython.display import Markdown as md"
   ]
  },
  {
   "cell_type": "code",
   "execution_count": 2,
   "id": "shared-acceptance",
   "metadata": {
    "execution": {
     "iopub.execute_input": "2021-11-18T02:00:14.802364Z",
     "iopub.status.busy": "2021-11-18T02:00:14.801639Z",
     "iopub.status.idle": "2021-11-18T02:00:25.912780Z",
     "shell.execute_reply": "2021-11-18T02:00:25.912099Z"
    },
    "papermill": {
     "duration": 11.127503,
     "end_time": "2021-11-18T02:00:25.912937",
     "exception": false,
     "start_time": "2021-11-18T02:00:14.785434",
     "status": "completed"
    },
    "tags": []
   },
   "outputs": [],
   "source": [
    "#hide_input\n",
    "blockchain = read_news('blockchain') \n",
    "btc = read_news('btc') \n",
    "xrp = read_news('xrp') \n",
    "trx = read_news('trx') \n",
    "eth = read_news('eth')  \n",
    "ada = read_news('ada')\n",
    "exchange = read_news('exchange') "
   ]
  },
  {
   "cell_type": "code",
   "execution_count": 3,
   "id": "synthetic-notion",
   "metadata": {
    "execution": {
     "iopub.execute_input": "2021-11-18T02:00:25.941800Z",
     "iopub.status.busy": "2021-11-18T02:00:25.941161Z",
     "iopub.status.idle": "2021-11-18T02:00:25.944499Z",
     "shell.execute_reply": "2021-11-18T02:00:25.943830Z"
    },
    "papermill": {
     "duration": 0.020374,
     "end_time": "2021-11-18T02:00:25.944612",
     "exception": false,
     "start_time": "2021-11-18T02:00:25.924238",
     "status": "completed"
    },
    "tags": []
   },
   "outputs": [
    {
     "data": {
      "text/markdown": [
       "- Games Coins, Defi Tokens, Metaverse Assets Rise Above Market Downturn With Double-Digit Gains.  While digital currencies like bitcoin and ethereum lost roughly 10% in value during the last seven days, the decentralized finance (defi) economy has weathered the storm better than the top two leading crypto assets. A slew of blockchain games coins, defi tokens, and metaverse assets like gala, crypto.com coin, wax, kadena, wonderland, and avalanche have [&#8230;] ... [| Skaityti daugiau](https://news.bitcoin.com/games-coins-defi-tokens-metaverse-assets-rise-above-market-downturn-with-double-digit-gains/) "
      ],
      "text/plain": [
       "<IPython.core.display.Markdown object>"
      ]
     },
     "execution_count": 3,
     "metadata": {},
     "output_type": "execute_result"
    }
   ],
   "source": [
    "#hide_input\n",
    "#md('##### {}'.format(titleBTC)) \n",
    "md(\"- {}{} {}{} [| Skaityti daugiau]({}) \".format(blockchain['title'],'. ', blockchain['body'], ' ...', blockchain['url']))"
   ]
  },
  {
   "cell_type": "code",
   "execution_count": 4,
   "id": "aging-caution",
   "metadata": {
    "execution": {
     "iopub.execute_input": "2021-11-18T02:00:25.971234Z",
     "iopub.status.busy": "2021-11-18T02:00:25.970065Z",
     "iopub.status.idle": "2021-11-18T02:00:25.974167Z",
     "shell.execute_reply": "2021-11-18T02:00:25.974783Z"
    },
    "papermill": {
     "duration": 0.019456,
     "end_time": "2021-11-18T02:00:25.974915",
     "exception": false,
     "start_time": "2021-11-18T02:00:25.955459",
     "status": "completed"
    },
    "tags": []
   },
   "outputs": [
    {
     "data": {
      "text/markdown": [
       "- Games Coins, Defi Tokens, Metaverse Assets Rise Above Market Downturn With Double-Digit Gains.  While digital currencies like bitcoin and ethereum lost roughly 10% in value during the last seven days, the decentralized finance (defi) economy has weathered the storm better than the top two leading crypto assets. A slew of blockchain games coins, defi tokens, and metaverse assets like gala, crypto.com coin, wax, kadena, wonderland, and avalanche have [&#8230;] ... [| Skaityti daugiau](https://news.bitcoin.com/games-coins-defi-tokens-metaverse-assets-rise-above-market-downturn-with-double-digit-gains/) "
      ],
      "text/plain": [
       "<IPython.core.display.Markdown object>"
      ]
     },
     "execution_count": 4,
     "metadata": {},
     "output_type": "execute_result"
    }
   ],
   "source": [
    "#hide_input\n",
    "#md('##### {}'.format(titleBTC)) \n",
    "md(\"- {}{} {}{} [| Skaityti daugiau]({}) \".format(btc['title'],'. ', btc['body'], ' ...', btc['url']))"
   ]
  },
  {
   "cell_type": "code",
   "execution_count": 5,
   "id": "organic-actress",
   "metadata": {
    "execution": {
     "iopub.execute_input": "2021-11-18T02:00:26.003922Z",
     "iopub.status.busy": "2021-11-18T02:00:26.003270Z",
     "iopub.status.idle": "2021-11-18T02:00:26.006582Z",
     "shell.execute_reply": "2021-11-18T02:00:26.007139Z"
    },
    "papermill": {
     "duration": 0.020135,
     "end_time": "2021-11-18T02:00:26.007266",
     "exception": false,
     "start_time": "2021-11-18T02:00:25.987131",
     "status": "completed"
    },
    "tags": []
   },
   "outputs": [
    {
     "data": {
      "text/markdown": [
       "- Price analysis 11/17: BTC, ETH, BNB, SOL, ADA, XRP, DOT, DOGE, SHIB, AVAX.  Bitcoin and most major altcoins are attempting to hold above their immediate resistance levels, a sign that bulls could be buying on each dip. ... [| Skaityti daugiau](https://cointelegraph.com/news/price-analysis-11-17-btc-eth-bnb-sol-ada-xrp-dot-doge-shib-avax) "
      ],
      "text/plain": [
       "<IPython.core.display.Markdown object>"
      ]
     },
     "execution_count": 5,
     "metadata": {},
     "output_type": "execute_result"
    }
   ],
   "source": [
    "#hide_input\n",
    "#md('##### {}'.format(titleBTC)) \n",
    "md(\"- {}{} {}{} [| Skaityti daugiau]({}) \".format(xrp['title'],'. ', xrp['body'], ' ...', xrp['url']))"
   ]
  },
  {
   "cell_type": "code",
   "execution_count": 6,
   "id": "prompt-farmer",
   "metadata": {
    "execution": {
     "iopub.execute_input": "2021-11-18T02:00:26.037357Z",
     "iopub.status.busy": "2021-11-18T02:00:26.036713Z",
     "iopub.status.idle": "2021-11-18T02:00:26.040163Z",
     "shell.execute_reply": "2021-11-18T02:00:26.039498Z"
    },
    "papermill": {
     "duration": 0.020936,
     "end_time": "2021-11-18T02:00:26.040288",
     "exception": false,
     "start_time": "2021-11-18T02:00:26.019352",
     "status": "completed"
    },
    "tags": []
   },
   "outputs": [
    {
     "data": {
      "text/markdown": [
       "- Tron (TRX) Price Analysis: Bears In Action Below $0.11.  Tron price started a major decline from well above $0.1200 against the US Dollar. TRX price is now trading below $0.1100 and the 55 simple moving average (4-hours). There was a break below a key bullish trend line with support near $0.1100 on the 4-hours chart (data feed via Bitfinex). The pair could extend losses...The post Tron (TRX) Price Analysis: Bears In Action Below $0.11 appeared first on Live Bitcoin News. ... [| Skaityti daugiau](https://www.livebitcoinnews.com/tron-trx-price-analysis-bears-in-action-below-0-11/) "
      ],
      "text/plain": [
       "<IPython.core.display.Markdown object>"
      ]
     },
     "execution_count": 6,
     "metadata": {},
     "output_type": "execute_result"
    }
   ],
   "source": [
    "#hide_input\n",
    "#md('##### {}'.format(titleBTC)) \n",
    "md(\"- {}{} {}{} [| Skaityti daugiau]({}) \".format(trx['title'],'. ', trx['body'], ' ...', trx['url']))"
   ]
  },
  {
   "cell_type": "code",
   "execution_count": 7,
   "id": "illegal-greece",
   "metadata": {
    "execution": {
     "iopub.execute_input": "2021-11-18T02:00:26.075300Z",
     "iopub.status.busy": "2021-11-18T02:00:26.074623Z",
     "iopub.status.idle": "2021-11-18T02:00:26.081797Z",
     "shell.execute_reply": "2021-11-18T02:00:26.078597Z"
    },
    "papermill": {
     "duration": 0.028746,
     "end_time": "2021-11-18T02:00:26.081943",
     "exception": false,
     "start_time": "2021-11-18T02:00:26.053197",
     "status": "completed"
    },
    "tags": []
   },
   "outputs": [
    {
     "data": {
      "text/markdown": [
       "- Games Coins, Defi Tokens, Metaverse Assets Rise Above Market Downturn With Double-Digit Gains.  While digital currencies like bitcoin and ethereum lost roughly 10% in value during the last seven days, the decentralized finance (defi) economy has weathered the storm better than the top two leading crypto assets. A slew of blockchain games coins, defi tokens, and metaverse assets like gala, crypto.com coin, wax, kadena, wonderland, and avalanche have [&#8230;] ... [| Skaityti daugiau](https://news.bitcoin.com/games-coins-defi-tokens-metaverse-assets-rise-above-market-downturn-with-double-digit-gains/) "
      ],
      "text/plain": [
       "<IPython.core.display.Markdown object>"
      ]
     },
     "execution_count": 7,
     "metadata": {},
     "output_type": "execute_result"
    }
   ],
   "source": [
    "#hide_input\n",
    "#md('##### {}'.format(titleBTC)) \n",
    "md(\"- {}{} {}{} [| Skaityti daugiau]({}) \".format(eth['title'],'. ', eth['body'], ' ...', eth['url']))"
   ]
  },
  {
   "cell_type": "code",
   "execution_count": 8,
   "id": "sublime-lounge",
   "metadata": {
    "execution": {
     "iopub.execute_input": "2021-11-18T02:00:26.115320Z",
     "iopub.status.busy": "2021-11-18T02:00:26.114658Z",
     "iopub.status.idle": "2021-11-18T02:00:26.119172Z",
     "shell.execute_reply": "2021-11-18T02:00:26.118608Z"
    },
    "papermill": {
     "duration": 0.022492,
     "end_time": "2021-11-18T02:00:26.119465",
     "exception": false,
     "start_time": "2021-11-18T02:00:26.096973",
     "status": "completed"
    },
    "tags": []
   },
   "outputs": [
    {
     "data": {
      "text/markdown": [
       "- Cardano ($ADA) On-Chain Transaction Volume Briefly Doubled That of Ethereum ($ETH), Data Shows.  Cardano ($ADA) has seemingly managed to at one point double the on-chain transaction volume seen on the Ethereum ($ETH) blockchain, according to data shared by a Cardano enthusiast over a 24-hour period, showing ADA below only bitcoin. The data, taken from Messari, shows that over 24 hours bitcoin’s on-chain transaction volume was over $21.6 billion […] ... [| Skaityti daugiau](https://www.cryptoglobe.com/latest/2021/11/cardano-ada-on-chain-transaction-volume-briefly-doubled-that-of-ethereum-eth-data-shows/) "
      ],
      "text/plain": [
       "<IPython.core.display.Markdown object>"
      ]
     },
     "execution_count": 8,
     "metadata": {},
     "output_type": "execute_result"
    }
   ],
   "source": [
    "#hide_input\n",
    "#md('##### {}'.format(titleBTC)) \n",
    "md(\"- {}{} {}{} [| Skaityti daugiau]({}) \".format(ada['title'],'. ', ada['body'], ' ...', ada['url']))"
   ]
  },
  {
   "cell_type": "code",
   "execution_count": 9,
   "id": "specified-ordering",
   "metadata": {
    "execution": {
     "iopub.execute_input": "2021-11-18T02:00:26.153049Z",
     "iopub.status.busy": "2021-11-18T02:00:26.151832Z",
     "iopub.status.idle": "2021-11-18T02:00:26.156582Z",
     "shell.execute_reply": "2021-11-18T02:00:26.155907Z"
    },
    "papermill": {
     "duration": 0.02345,
     "end_time": "2021-11-18T02:00:26.156710",
     "exception": false,
     "start_time": "2021-11-18T02:00:26.133260",
     "status": "completed"
    },
    "tags": []
   },
   "outputs": [
    {
     "data": {
      "text/markdown": [
       "- Crypto Exchange Volume Data Suggests Sports Deal Frenzy May Be Working.  Binance has started to lose ground to Crypto.com, Coinbase and FTX, according to an analysis of exchange volume data. ... [| Skaityti daugiau](https://decrypt.co/86348/crypto-exchange-volume-data-suggests-sports-deal-frenzy-may-be-working) "
      ],
      "text/plain": [
       "<IPython.core.display.Markdown object>"
      ]
     },
     "execution_count": 9,
     "metadata": {},
     "output_type": "execute_result"
    }
   ],
   "source": [
    "#hide_input\n",
    "#md('##### {}'.format(titleBTC)) \n",
    "md(\"- {}{} {}{} [| Skaityti daugiau]({}) \".format(exchange['title'],'. ', exchange['body'], ' ...', exchange['url']))"
   ]
  },
  {
   "cell_type": "code",
   "execution_count": null,
   "id": "tender-livestock",
   "metadata": {
    "papermill": {
     "duration": 0.015351,
     "end_time": "2021-11-18T02:00:26.186954",
     "exception": false,
     "start_time": "2021-11-18T02:00:26.171603",
     "status": "completed"
    },
    "tags": []
   },
   "outputs": [],
   "source": []
  },
  {
   "cell_type": "code",
   "execution_count": null,
   "id": "appreciated-diamond",
   "metadata": {
    "papermill": {
     "duration": 0.014891,
     "end_time": "2021-11-18T02:00:26.216974",
     "exception": false,
     "start_time": "2021-11-18T02:00:26.202083",
     "status": "completed"
    },
    "tags": []
   },
   "outputs": [],
   "source": []
  },
  {
   "cell_type": "code",
   "execution_count": null,
   "id": "romance-sweden",
   "metadata": {
    "papermill": {
     "duration": 0.013413,
     "end_time": "2021-11-18T02:00:26.244404",
     "exception": false,
     "start_time": "2021-11-18T02:00:26.230991",
     "status": "completed"
    },
    "tags": []
   },
   "outputs": [],
   "source": []
  },
  {
   "cell_type": "code",
   "execution_count": null,
   "id": "dietary-statistics",
   "metadata": {
    "papermill": {
     "duration": 0.013859,
     "end_time": "2021-11-18T02:00:26.271749",
     "exception": false,
     "start_time": "2021-11-18T02:00:26.257890",
     "status": "completed"
    },
    "tags": []
   },
   "outputs": [],
   "source": []
  }
 ],
 "metadata": {
  "kernelspec": {
   "display_name": "Python 3",
   "language": "python",
   "name": "python3"
  },
  "language_info": {
   "codemirror_mode": {
    "name": "ipython",
    "version": 3
   },
   "file_extension": ".py",
   "mimetype": "text/x-python",
   "name": "python",
   "nbconvert_exporter": "python",
   "pygments_lexer": "ipython3",
   "version": "3.6.15"
  },
  "papermill": {
   "default_parameters": {},
   "duration": 14.71085,
   "end_time": "2021-11-18T02:00:26.795439",
   "environment_variables": {},
   "exception": null,
   "input_path": "Market-News.ipynb",
   "output_path": "Market-News.ipynb",
   "parameters": {},
   "start_time": "2021-11-18T02:00:12.084589",
   "version": "2.2.2"
  }
 },
 "nbformat": 4,
 "nbformat_minor": 5
}