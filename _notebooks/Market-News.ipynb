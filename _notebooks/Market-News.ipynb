{
 "cells": [
  {
   "cell_type": "markdown",
   "id": "short-greensboro",
   "metadata": {
    "papermill": {
     "duration": 0.014262,
     "end_time": "2021-10-14T02:02:58.790657",
     "exception": false,
     "start_time": "2021-10-14T02:02:58.776395",
     "status": "completed"
    },
    "tags": []
   },
   "source": [
    "# Kriptovaliutų naujienos"
   ]
  },
  {
   "cell_type": "code",
   "execution_count": 1,
   "id": "functioning-knowing",
   "metadata": {
    "execution": {
     "iopub.execute_input": "2021-10-14T02:02:58.820392Z",
     "iopub.status.busy": "2021-10-14T02:02:58.819830Z",
     "iopub.status.idle": "2021-10-14T02:03:00.051793Z",
     "shell.execute_reply": "2021-10-14T02:03:00.051215Z"
    },
    "papermill": {
     "duration": 1.251481,
     "end_time": "2021-10-14T02:03:00.051962",
     "exception": false,
     "start_time": "2021-10-14T02:02:58.800481",
     "status": "completed"
    },
    "tags": []
   },
   "outputs": [],
   "source": [
    "#hide_input\n",
    "import warnings\n",
    "warnings.filterwarnings('ignore')\n",
    "from scripts.read_data import read_api\n",
    "from scripts.read_data import read_news\n",
    "from scripts.read_data import read_covid\n",
    "import matplotlib.pyplot as plt \n",
    "from IPython.display import Markdown as md"
   ]
  },
  {
   "cell_type": "code",
   "execution_count": 2,
   "id": "shared-acceptance",
   "metadata": {
    "execution": {
     "iopub.execute_input": "2021-10-14T02:03:00.078801Z",
     "iopub.status.busy": "2021-10-14T02:03:00.078210Z",
     "iopub.status.idle": "2021-10-14T02:03:08.381996Z",
     "shell.execute_reply": "2021-10-14T02:03:08.381438Z"
    },
    "papermill": {
     "duration": 8.320006,
     "end_time": "2021-10-14T02:03:08.382129",
     "exception": false,
     "start_time": "2021-10-14T02:03:00.062123",
     "status": "completed"
    },
    "tags": []
   },
   "outputs": [],
   "source": [
    "#hide_input\n",
    "blockchain = read_news('blockchain') \n",
    "btc = read_news('btc') \n",
    "xrp = read_news('xrp') \n",
    "trx = read_news('trx') \n",
    "eth = read_news('eth')  \n",
    "ada = read_news('ada')\n",
    "exchange = read_news('exchange') "
   ]
  },
  {
   "cell_type": "code",
   "execution_count": 3,
   "id": "synthetic-notion",
   "metadata": {
    "execution": {
     "iopub.execute_input": "2021-10-14T02:03:08.407892Z",
     "iopub.status.busy": "2021-10-14T02:03:08.407282Z",
     "iopub.status.idle": "2021-10-14T02:03:08.411222Z",
     "shell.execute_reply": "2021-10-14T02:03:08.411636Z"
    },
    "papermill": {
     "duration": 0.020273,
     "end_time": "2021-10-14T02:03:08.411771",
     "exception": false,
     "start_time": "2021-10-14T02:03:08.391498",
     "status": "completed"
    },
    "tags": []
   },
   "outputs": [
    {
     "data": {
      "text/markdown": [
       "- The Biggest Bitcoin Development You Should Know About Is Strike.  Just as the internet revolutionized communication by offering a single agreed-upon standard, Bitcoin is doing that for money.Zap, a Bitcoin investment and payments company that transacts over the Lightning Network, recently released its flagship project, the Strike API.Strike seeks to disrupt the global payments industry by operating on Bitcoin; an inherently global, cheap, and unstoppable value-transfer protocol. ... [| Skaityti daugiau](https://seekingalpha.com/article/4459757-biggest-bitcoin-development-you-should-know-is-strike?utm_source=cryptocompare.com&utm_medium=referral) "
      ],
      "text/plain": [
       "<IPython.core.display.Markdown object>"
      ]
     },
     "execution_count": 3,
     "metadata": {},
     "output_type": "execute_result"
    }
   ],
   "source": [
    "#hide_input\n",
    "#md('##### {}'.format(titleBTC)) \n",
    "md(\"- {}{} {}{} [| Skaityti daugiau]({}) \".format(blockchain['title'],'. ', blockchain['body'], ' ...', blockchain['url']))"
   ]
  },
  {
   "cell_type": "code",
   "execution_count": 4,
   "id": "aging-caution",
   "metadata": {
    "execution": {
     "iopub.execute_input": "2021-10-14T02:03:08.436224Z",
     "iopub.status.busy": "2021-10-14T02:03:08.435665Z",
     "iopub.status.idle": "2021-10-14T02:03:08.438434Z",
     "shell.execute_reply": "2021-10-14T02:03:08.438010Z"
    },
    "papermill": {
     "duration": 0.017301,
     "end_time": "2021-10-14T02:03:08.438550",
     "exception": false,
     "start_time": "2021-10-14T02:03:08.421249",
     "status": "completed"
    },
    "tags": []
   },
   "outputs": [
    {
     "data": {
      "text/markdown": [
       "- Ark Invest Doubles Down On Its Efforts To Offer a Bitcoin Futures ETF.  Ark Invest wants to bring Bitcoin to the masses, offering a Bitcoin futures ETF and investing heavily in cryptocurrency products. ... [| Skaityti daugiau](https://cryptopotato.com/ark-invest-doubles-down-on-its-efforts-to-offer-a-bitcoin-futures-etf/) "
      ],
      "text/plain": [
       "<IPython.core.display.Markdown object>"
      ]
     },
     "execution_count": 4,
     "metadata": {},
     "output_type": "execute_result"
    }
   ],
   "source": [
    "#hide_input\n",
    "#md('##### {}'.format(titleBTC)) \n",
    "md(\"- {}{} {}{} [| Skaityti daugiau]({}) \".format(btc['title'],'. ', btc['body'], ' ...', btc['url']))"
   ]
  },
  {
   "cell_type": "code",
   "execution_count": 5,
   "id": "organic-actress",
   "metadata": {
    "execution": {
     "iopub.execute_input": "2021-10-14T02:03:08.462936Z",
     "iopub.status.busy": "2021-10-14T02:03:08.462399Z",
     "iopub.status.idle": "2021-10-14T02:03:08.466085Z",
     "shell.execute_reply": "2021-10-14T02:03:08.465548Z"
    },
    "papermill": {
     "duration": 0.01789,
     "end_time": "2021-10-14T02:03:08.466198",
     "exception": false,
     "start_time": "2021-10-14T02:03:08.448308",
     "status": "completed"
    },
    "tags": []
   },
   "outputs": [
    {
     "data": {
      "text/markdown": [
       "- Price analysis 10/13: BTC, ETH, BNB, ADA, XRP, SOL, DOGE, DOT, LUNA, UNI.  Bitcoin remains strong above its recent breakout level, but several major altcoins are still under pressure until BTC reveals its next move. ... [| Skaityti daugiau](https://cointelegraph.com/news/price-analysis-10-13-btc-eth-bnb-ada-xrp-sol-doge-dot-luna-uni) "
      ],
      "text/plain": [
       "<IPython.core.display.Markdown object>"
      ]
     },
     "execution_count": 5,
     "metadata": {},
     "output_type": "execute_result"
    }
   ],
   "source": [
    "#hide_input\n",
    "#md('##### {}'.format(titleBTC)) \n",
    "md(\"- {}{} {}{} [| Skaityti daugiau]({}) \".format(xrp['title'],'. ', xrp['body'], ' ...', xrp['url']))"
   ]
  },
  {
   "cell_type": "code",
   "execution_count": 6,
   "id": "prompt-farmer",
   "metadata": {
    "execution": {
     "iopub.execute_input": "2021-10-14T02:03:08.491966Z",
     "iopub.status.busy": "2021-10-14T02:03:08.491374Z",
     "iopub.status.idle": "2021-10-14T02:03:08.495595Z",
     "shell.execute_reply": "2021-10-14T02:03:08.495180Z"
    },
    "papermill": {
     "duration": 0.019419,
     "end_time": "2021-10-14T02:03:08.495710",
     "exception": false,
     "start_time": "2021-10-14T02:03:08.476291",
     "status": "completed"
    },
    "tags": []
   },
   "outputs": [
    {
     "data": {
      "text/markdown": [
       "- Tron (TRX) Consolidation Indicates Decreased Volumetric Action!.  TRON currently holds the 28th position in terms of market cap with a combined value of $6.76 billion and above 71 billion coins in circulating supply. Unlike other cryptocurrencies, TRON is focused on the content sharing and entertainment industry and intends to rule the content creation domain, starting with the gaming industry. It allows creators &#8230; ... [| Skaityti daugiau](https://www.cryptonewsz.com/tron-consolidation-indicates-decreased-volumetric-action/) "
      ],
      "text/plain": [
       "<IPython.core.display.Markdown object>"
      ]
     },
     "execution_count": 6,
     "metadata": {},
     "output_type": "execute_result"
    }
   ],
   "source": [
    "#hide_input\n",
    "#md('##### {}'.format(titleBTC)) \n",
    "md(\"- {}{} {}{} [| Skaityti daugiau]({}) \".format(trx['title'],'. ', trx['body'], ' ...', trx['url']))"
   ]
  },
  {
   "cell_type": "code",
   "execution_count": 7,
   "id": "illegal-greece",
   "metadata": {
    "execution": {
     "iopub.execute_input": "2021-10-14T02:03:08.522555Z",
     "iopub.status.busy": "2021-10-14T02:03:08.522028Z",
     "iopub.status.idle": "2021-10-14T02:03:08.525314Z",
     "shell.execute_reply": "2021-10-14T02:03:08.524906Z"
    },
    "papermill": {
     "duration": 0.019051,
     "end_time": "2021-10-14T02:03:08.525430",
     "exception": false,
     "start_time": "2021-10-14T02:03:08.506379",
     "status": "completed"
    },
    "tags": []
   },
   "outputs": [
    {
     "data": {
      "text/markdown": [
       "- Stellar Soars 8% Overtaking Bitcoin’s Performance, What Prompted The Boom?.  Up 10% in the daily and 36.3% in the 2 week chart, at the time of writing, Stellar Lumens (XLM) has been one of the best performing assets in the crypto top 30 by market cap. The cryptocurrency has managed to outperform Bitcoin, Ethereum, and other major coins in the top 10. Stellar technical indicators have quickly moved into the buying zone with the simple moving average (SMA) and exponential moving average (EMA) crossing the $0,32 mark. Related Reading &#124; Stellar Development Foundation Takes Part In Abra $55 Million Series C Funding The Relative Strength Index (RSI) remains neutral with a 61.5 value, but the Moving Average Convergence Divergence, a metric used to measure price momentum in an asset, is flashing a buy signal. Stellar trending to the upside coincides with an exponential growth in its ecosystem. As summarized by the Stellar Development Foundation (SDF), the network made significant developments in Q3, 2021. In addition, it managed to secure important partnership such as the one with payment giant MoneyGram. This will allow users to connect their wallets with the company’s global retail platform. Thus, consumers will be able to leverage cash funding and payouts in USD Coin (USDC) with Stellar potential to instantly settle a transaction. In that sense, the network has expanded its main use case and its capacity to onboard millions of new users into its network. Related Reading &#124; Stellar Network To Power ... ... [| Skaityti daugiau](https://www.newsbtc.com/news/stellar/stellar-overtakes-bitcoin-performance/) "
      ],
      "text/plain": [
       "<IPython.core.display.Markdown object>"
      ]
     },
     "execution_count": 7,
     "metadata": {},
     "output_type": "execute_result"
    }
   ],
   "source": [
    "#hide_input\n",
    "#md('##### {}'.format(titleBTC)) \n",
    "md(\"- {}{} {}{} [| Skaityti daugiau]({}) \".format(eth['title'],'. ', eth['body'], ' ...', eth['url']))"
   ]
  },
  {
   "cell_type": "code",
   "execution_count": 8,
   "id": "sublime-lounge",
   "metadata": {
    "execution": {
     "iopub.execute_input": "2021-10-14T02:03:08.552514Z",
     "iopub.status.busy": "2021-10-14T02:03:08.551976Z",
     "iopub.status.idle": "2021-10-14T02:03:08.554855Z",
     "shell.execute_reply": "2021-10-14T02:03:08.554409Z"
    },
    "papermill": {
     "duration": 0.018809,
     "end_time": "2021-10-14T02:03:08.554966",
     "exception": false,
     "start_time": "2021-10-14T02:03:08.536157",
     "status": "completed"
    },
    "tags": []
   },
   "outputs": [
    {
     "data": {
      "text/markdown": [
       "- Cardano eUTxO ‘derived’ from Bitcoin; is it ‘innovation’ or ‘replication’.  Cardano faced a lot of FUD this year, especially before and immediately after the Alonzo upgrade. Furthermore, founder Charles Hoskinson also pointed a finger at media channels for spreading negative information. In light of this, IOHK CTO Romain Pellerin spoke to Thinking Crypto host Tony Edward and cleared up some misconceptions people had regarding Cardano. Pellerin also [&#8230;] ... [| Skaityti daugiau](https://ambcrypto.com/cardano-iohk-exec-calls-for-less-social-media-fighting-and-more-collaboration/) "
      ],
      "text/plain": [
       "<IPython.core.display.Markdown object>"
      ]
     },
     "execution_count": 8,
     "metadata": {},
     "output_type": "execute_result"
    }
   ],
   "source": [
    "#hide_input\n",
    "#md('##### {}'.format(titleBTC)) \n",
    "md(\"- {}{} {}{} [| Skaityti daugiau]({}) \".format(ada['title'],'. ', ada['body'], ' ...', ada['url']))"
   ]
  },
  {
   "cell_type": "code",
   "execution_count": 9,
   "id": "specified-ordering",
   "metadata": {
    "execution": {
     "iopub.execute_input": "2021-10-14T02:03:08.582802Z",
     "iopub.status.busy": "2021-10-14T02:03:08.582280Z",
     "iopub.status.idle": "2021-10-14T02:03:08.585053Z",
     "shell.execute_reply": "2021-10-14T02:03:08.585485Z"
    },
    "papermill": {
     "duration": 0.01954,
     "end_time": "2021-10-14T02:03:08.585613",
     "exception": false,
     "start_time": "2021-10-14T02:03:08.566073",
     "status": "completed"
    },
    "tags": []
   },
   "outputs": [
    {
     "data": {
      "text/markdown": [
       "- Australia to release its first crypto-ETF, but it wont be backed by Bitcoin, Ethereum.  Amid rising fervor for a Bitcoin ETF approval in the United States, the Australian Securities Exchange (ASX) is all set to feature its very first cryptocurrency-focused ETF. Australian ETF provider BetaShares is close to launching the &#8220;BetaShares Crypto Innovators ETF,&#8221; which will have the ticker code &#8220;CRYP.&#8221; However, there&#8217;s a catch. Instead of being directly [&#8230;] ... [| Skaityti daugiau](https://ambcrypto.com/australia-to-release-its-first-crypto-etf-but-it-wont-be-backed-by-bitcoin-or-ethereum/) "
      ],
      "text/plain": [
       "<IPython.core.display.Markdown object>"
      ]
     },
     "execution_count": 9,
     "metadata": {},
     "output_type": "execute_result"
    }
   ],
   "source": [
    "#hide_input\n",
    "#md('##### {}'.format(titleBTC)) \n",
    "md(\"- {}{} {}{} [| Skaityti daugiau]({}) \".format(exchange['title'],'. ', exchange['body'], ' ...', exchange['url']))"
   ]
  },
  {
   "cell_type": "code",
   "execution_count": null,
   "id": "tender-livestock",
   "metadata": {
    "papermill": {
     "duration": 0.011343,
     "end_time": "2021-10-14T02:03:08.608477",
     "exception": false,
     "start_time": "2021-10-14T02:03:08.597134",
     "status": "completed"
    },
    "tags": []
   },
   "outputs": [],
   "source": []
  },
  {
   "cell_type": "code",
   "execution_count": null,
   "id": "appreciated-diamond",
   "metadata": {
    "papermill": {
     "duration": 0.011527,
     "end_time": "2021-10-14T02:03:08.631589",
     "exception": false,
     "start_time": "2021-10-14T02:03:08.620062",
     "status": "completed"
    },
    "tags": []
   },
   "outputs": [],
   "source": []
  },
  {
   "cell_type": "code",
   "execution_count": null,
   "id": "romance-sweden",
   "metadata": {
    "papermill": {
     "duration": 0.011249,
     "end_time": "2021-10-14T02:03:08.654231",
     "exception": false,
     "start_time": "2021-10-14T02:03:08.642982",
     "status": "completed"
    },
    "tags": []
   },
   "outputs": [],
   "source": []
  },
  {
   "cell_type": "code",
   "execution_count": null,
   "id": "dietary-statistics",
   "metadata": {
    "papermill": {
     "duration": 0.011315,
     "end_time": "2021-10-14T02:03:08.676825",
     "exception": false,
     "start_time": "2021-10-14T02:03:08.665510",
     "status": "completed"
    },
    "tags": []
   },
   "outputs": [],
   "source": []
  }
 ],
 "metadata": {
  "kernelspec": {
   "display_name": "Python 3",
   "language": "python",
   "name": "python3"
  },
  "language_info": {
   "codemirror_mode": {
    "name": "ipython",
    "version": 3
   },
   "file_extension": ".py",
   "mimetype": "text/x-python",
   "name": "python",
   "nbconvert_exporter": "python",
   "pygments_lexer": "ipython3",
   "version": "3.6.15"
  },
  "papermill": {
   "default_parameters": {},
   "duration": 11.464306,
   "end_time": "2021-10-14T02:03:09.197372",
   "environment_variables": {},
   "exception": null,
   "input_path": "Market-News.ipynb",
   "output_path": "Market-News.ipynb",
   "parameters": {},
   "start_time": "2021-10-14T02:02:57.733066",
   "version": "2.2.2"
  }
 },
 "nbformat": 4,
 "nbformat_minor": 5
}