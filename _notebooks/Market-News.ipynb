{
 "cells": [
  {
   "cell_type": "markdown",
   "id": "short-greensboro",
   "metadata": {
    "papermill": {
     "duration": 0.011761,
     "end_time": "2022-06-09T03:01:15.902083",
     "exception": false,
     "start_time": "2022-06-09T03:01:15.890322",
     "status": "completed"
    },
    "tags": []
   },
   "source": [
    "# Kriptovaliutų naujienos"
   ]
  },
  {
   "cell_type": "code",
   "execution_count": 1,
   "id": "functioning-knowing",
   "metadata": {
    "execution": {
     "iopub.execute_input": "2022-06-09T03:01:15.928668Z",
     "iopub.status.busy": "2022-06-09T03:01:15.928144Z",
     "iopub.status.idle": "2022-06-09T03:01:17.016597Z",
     "shell.execute_reply": "2022-06-09T03:01:17.015995Z"
    },
    "papermill": {
     "duration": 1.106065,
     "end_time": "2022-06-09T03:01:17.016758",
     "exception": false,
     "start_time": "2022-06-09T03:01:15.910693",
     "status": "completed"
    },
    "tags": []
   },
   "outputs": [],
   "source": [
    "#hide_input\n",
    "import warnings\n",
    "warnings.filterwarnings('ignore')\n",
    "from scripts.read_data import read_api\n",
    "from scripts.read_data import read_news\n",
    "from scripts.read_data import read_covid\n",
    "import matplotlib.pyplot as plt \n",
    "from IPython.display import Markdown as md"
   ]
  },
  {
   "cell_type": "code",
   "execution_count": 2,
   "id": "shared-acceptance",
   "metadata": {
    "execution": {
     "iopub.execute_input": "2022-06-09T03:01:17.040467Z",
     "iopub.status.busy": "2022-06-09T03:01:17.039925Z",
     "iopub.status.idle": "2022-06-09T03:01:27.503903Z",
     "shell.execute_reply": "2022-06-09T03:01:27.502951Z"
    },
    "papermill": {
     "duration": 10.477857,
     "end_time": "2022-06-09T03:01:27.504041",
     "exception": false,
     "start_time": "2022-06-09T03:01:17.026184",
     "status": "completed"
    },
    "tags": []
   },
   "outputs": [],
   "source": [
    "#hide_input\n",
    "blockchain = read_news('blockchain') \n",
    "btc = read_news('btc') \n",
    "xrp = read_news('xrp') \n",
    "trx = read_news('trx') \n",
    "eth = read_news('eth')  \n",
    "ada = read_news('ada')\n",
    "exchange = read_news('exchange') "
   ]
  },
  {
   "cell_type": "code",
   "execution_count": 3,
   "id": "synthetic-notion",
   "metadata": {
    "execution": {
     "iopub.execute_input": "2022-06-09T03:01:27.526255Z",
     "iopub.status.busy": "2022-06-09T03:01:27.525655Z",
     "iopub.status.idle": "2022-06-09T03:01:27.528343Z",
     "shell.execute_reply": "2022-06-09T03:01:27.527857Z"
    },
    "papermill": {
     "duration": 0.016106,
     "end_time": "2022-06-09T03:01:27.528447",
     "exception": false,
     "start_time": "2022-06-09T03:01:27.512341",
     "status": "completed"
    },
    "tags": []
   },
   "outputs": [
    {
     "data": {
      "text/markdown": [
       "- Optimism loses 20M tokens after L1 and L2 confusion exploited.  Although the airdrop took place less than two weeks ago, problems have already arisen for the vaunted layer-2 scaling solution’s team and market maker. ... [| Skaityti daugiau](https://cointelegraph.com/news/optimism-loses-20m-tokens-after-l1-and-l2-confusion-exploited) "
      ],
      "text/plain": [
       "<IPython.core.display.Markdown object>"
      ]
     },
     "execution_count": 3,
     "metadata": {},
     "output_type": "execute_result"
    }
   ],
   "source": [
    "#hide_input\n",
    "#md('##### {}'.format(titleBTC)) \n",
    "md(\"- {}{} {}{} [| Skaityti daugiau]({}) \".format(blockchain['title'],'. ', blockchain['body'], ' ...', blockchain['url']))"
   ]
  },
  {
   "cell_type": "code",
   "execution_count": 4,
   "id": "aging-caution",
   "metadata": {
    "execution": {
     "iopub.execute_input": "2022-06-09T03:01:27.551229Z",
     "iopub.status.busy": "2022-06-09T03:01:27.550622Z",
     "iopub.status.idle": "2022-06-09T03:01:27.553734Z",
     "shell.execute_reply": "2022-06-09T03:01:27.554182Z"
    },
    "papermill": {
     "duration": 0.016635,
     "end_time": "2022-06-09T03:01:27.554299",
     "exception": false,
     "start_time": "2022-06-09T03:01:27.537664",
     "status": "completed"
    },
    "tags": []
   },
   "outputs": [
    {
     "data": {
      "text/markdown": [
       "- Bitcoin Trading Can Become Easier if You Follow $BTC Whale Behavior, Whalemap Researchers Say.  Bitcoin ($BTC) whales have seemingly been dictating the price of the flagship cryptocurrency over the last few weeks, as analysts have noticed local tops and bottoms have seen significant whale activity. According to researchers from Whalemap, large wallet inflows have been seen near local tops and bottoms, seemingly as large BTC holders choose to buy […] ... [| Skaityti daugiau](https://www.cryptoglobe.com/latest/2022/06/bitcoin-trading-can-become-easier-if-you-follow-btc-whale-behavior-whalemap-researchers-say/) "
      ],
      "text/plain": [
       "<IPython.core.display.Markdown object>"
      ]
     },
     "execution_count": 4,
     "metadata": {},
     "output_type": "execute_result"
    }
   ],
   "source": [
    "#hide_input\n",
    "#md('##### {}'.format(titleBTC)) \n",
    "md(\"- {}{} {}{} [| Skaityti daugiau]({}) \".format(btc['title'],'. ', btc['body'], ' ...', btc['url']))"
   ]
  },
  {
   "cell_type": "code",
   "execution_count": 5,
   "id": "organic-actress",
   "metadata": {
    "execution": {
     "iopub.execute_input": "2022-06-09T03:01:27.577776Z",
     "iopub.status.busy": "2022-06-09T03:01:27.577180Z",
     "iopub.status.idle": "2022-06-09T03:01:27.581032Z",
     "shell.execute_reply": "2022-06-09T03:01:27.580576Z"
    },
    "papermill": {
     "duration": 0.017365,
     "end_time": "2022-06-09T03:01:27.581132",
     "exception": false,
     "start_time": "2022-06-09T03:01:27.563767",
     "status": "completed"
    },
    "tags": []
   },
   "outputs": [
    {
     "data": {
      "text/markdown": [
       "- XRP: Untangling the potential effects of these two outcomes.  As the 23.6% Fibonacci level stood sturdy over the last month, XRP has struggled to break its trendline resistance (white, dashed). As the squeeze phase extends, the altcoin is in a tussle to find a convincing break. A close below the immediate demand zone (green) would provide shorting opportunities. However, if the buyers recoup their strength [&#8230;] ... [| Skaityti daugiau](https://ambcrypto.com/xrp-untangling-the-potential-effects-of-these-two-outcomes/) "
      ],
      "text/plain": [
       "<IPython.core.display.Markdown object>"
      ]
     },
     "execution_count": 5,
     "metadata": {},
     "output_type": "execute_result"
    }
   ],
   "source": [
    "#hide_input\n",
    "#md('##### {}'.format(titleBTC)) \n",
    "md(\"- {}{} {}{} [| Skaityti daugiau]({}) \".format(xrp['title'],'. ', xrp['body'], ' ...', xrp['url']))"
   ]
  },
  {
   "cell_type": "code",
   "execution_count": 6,
   "id": "prompt-farmer",
   "metadata": {
    "execution": {
     "iopub.execute_input": "2022-06-09T03:01:27.604823Z",
     "iopub.status.busy": "2022-06-09T03:01:27.604256Z",
     "iopub.status.idle": "2022-06-09T03:01:27.607581Z",
     "shell.execute_reply": "2022-06-09T03:01:27.607125Z"
    },
    "papermill": {
     "duration": 0.016655,
     "end_time": "2022-06-09T03:01:27.607680",
     "exception": false,
     "start_time": "2022-06-09T03:01:27.591025",
     "status": "completed"
    },
    "tags": []
   },
   "outputs": [
    {
     "data": {
      "text/markdown": [
       "- Ethereum’s total value locked in DeFi shrank 35% in May, while TRON’s rose 47%.  At the end of April, Terra (LUNA) had more than $25 billion in total value locked (TVL), the second-largest decentralized...  Continue reading  The post Ethereum&#8217;s total value locked in DeFi shrank 35% in May, while TRON&#8217;s rose 47% appeared first on Finbold. ... [| Skaityti daugiau](https://finbold.com/ethereums-total-value-locked-in-defi-shrank-35-in-may-while-trons-rose-47/) "
      ],
      "text/plain": [
       "<IPython.core.display.Markdown object>"
      ]
     },
     "execution_count": 6,
     "metadata": {},
     "output_type": "execute_result"
    }
   ],
   "source": [
    "#hide_input\n",
    "#md('##### {}'.format(titleBTC)) \n",
    "md(\"- {}{} {}{} [| Skaityti daugiau]({}) \".format(trx['title'],'. ', trx['body'], ' ...', trx['url']))"
   ]
  },
  {
   "cell_type": "code",
   "execution_count": 7,
   "id": "illegal-greece",
   "metadata": {
    "execution": {
     "iopub.execute_input": "2022-06-09T03:01:27.631807Z",
     "iopub.status.busy": "2022-06-09T03:01:27.630968Z",
     "iopub.status.idle": "2022-06-09T03:01:27.634471Z",
     "shell.execute_reply": "2022-06-09T03:01:27.635012Z"
    },
    "papermill": {
     "duration": 0.017173,
     "end_time": "2022-06-09T03:01:27.635124",
     "exception": false,
     "start_time": "2022-06-09T03:01:27.617951",
     "status": "completed"
    },
    "tags": []
   },
   "outputs": [
    {
     "data": {
      "text/markdown": [
       "- Brandt’s bearish ETH call — But community predicts $3K before Merge.  Peter Brandt noted that ETH could drop by 29% if the downside of a potential descending triangle chart pattern is completed.  ... [| Skaityti daugiau](https://cointelegraph.com/news/brandt-s-bearish-eth-call-but-community-predicts-3k-before-merge) "
      ],
      "text/plain": [
       "<IPython.core.display.Markdown object>"
      ]
     },
     "execution_count": 7,
     "metadata": {},
     "output_type": "execute_result"
    }
   ],
   "source": [
    "#hide_input\n",
    "#md('##### {}'.format(titleBTC)) \n",
    "md(\"- {}{} {}{} [| Skaityti daugiau]({}) \".format(eth['title'],'. ', eth['body'], ' ...', eth['url']))"
   ]
  },
  {
   "cell_type": "code",
   "execution_count": 8,
   "id": "sublime-lounge",
   "metadata": {
    "execution": {
     "iopub.execute_input": "2022-06-09T03:01:27.660531Z",
     "iopub.status.busy": "2022-06-09T03:01:27.659970Z",
     "iopub.status.idle": "2022-06-09T03:01:27.663201Z",
     "shell.execute_reply": "2022-06-09T03:01:27.663742Z"
    },
    "papermill": {
     "duration": 0.0183,
     "end_time": "2022-06-09T03:01:27.663854",
     "exception": false,
     "start_time": "2022-06-09T03:01:27.645554",
     "status": "completed"
    },
    "tags": []
   },
   "outputs": [
    {
     "data": {
      "text/markdown": [
       "- Assessing Cardano’s [ADA] health ahead of Vasil hard fork.  Cardano is ramping up activity since Vasil fork is edging closer as we enter the second week of June. It is now up and running on the right path with major indicators leading the way for a bullish rally. IOHK has also given a timely update on the latest developments on the project. As per [&#8230;] ... [| Skaityti daugiau](https://ambcrypto.com/assessing-cardanos-ada-health-ahead-of-vasil-hard-fork/) "
      ],
      "text/plain": [
       "<IPython.core.display.Markdown object>"
      ]
     },
     "execution_count": 8,
     "metadata": {},
     "output_type": "execute_result"
    }
   ],
   "source": [
    "#hide_input\n",
    "#md('##### {}'.format(titleBTC)) \n",
    "md(\"- {}{} {}{} [| Skaityti daugiau]({}) \".format(ada['title'],'. ', ada['body'], ' ...', ada['url']))"
   ]
  },
  {
   "cell_type": "code",
   "execution_count": 9,
   "id": "specified-ordering",
   "metadata": {
    "execution": {
     "iopub.execute_input": "2022-06-09T03:01:27.691166Z",
     "iopub.status.busy": "2022-06-09T03:01:27.690605Z",
     "iopub.status.idle": "2022-06-09T03:01:27.694406Z",
     "shell.execute_reply": "2022-06-09T03:01:27.693946Z"
    },
    "papermill": {
     "duration": 0.018733,
     "end_time": "2022-06-09T03:01:27.694503",
     "exception": false,
     "start_time": "2022-06-09T03:01:27.675770",
     "status": "completed"
    },
    "tags": []
   },
   "outputs": [
    {
     "data": {
      "text/markdown": [
       "- Donald Verrilli Jr Joins Grayscale’s Legal Team Ahead of SEC’s Bitcoin ETF Decision.  Donald Verrilli Jr, a renowned legal practitioner and former Solicitor of the United States under President Barack Obama has joined Grayscale Investments’ legal team. The onboarding of Verrilli comes ahead of the July 6 deadline in which the Securities and Exchange Commission (SEC) is expected to give its final verdict on Grayscale’s application to convert [&#8230;]The post Donald Verrilli Jr Joins Grayscale’s Legal Team Ahead of SEC’s Bitcoin ETF Decision appeared first on Blockchain, Crypto and Stock News. ... [| Skaityti daugiau](https://thecoinrise.com/donald-verrilli-jr-joins-grayscales-legal-team-ahead-of-secs-bitcoin-etf-decision/) "
      ],
      "text/plain": [
       "<IPython.core.display.Markdown object>"
      ]
     },
     "execution_count": 9,
     "metadata": {},
     "output_type": "execute_result"
    }
   ],
   "source": [
    "#hide_input\n",
    "#md('##### {}'.format(titleBTC)) \n",
    "md(\"- {}{} {}{} [| Skaityti daugiau]({}) \".format(exchange['title'],'. ', exchange['body'], ' ...', exchange['url']))"
   ]
  },
  {
   "cell_type": "code",
   "execution_count": null,
   "id": "tender-livestock",
   "metadata": {
    "papermill": {
     "duration": 0.011087,
     "end_time": "2022-06-09T03:01:27.716715",
     "exception": false,
     "start_time": "2022-06-09T03:01:27.705628",
     "status": "completed"
    },
    "tags": []
   },
   "outputs": [],
   "source": []
  },
  {
   "cell_type": "code",
   "execution_count": null,
   "id": "appreciated-diamond",
   "metadata": {
    "papermill": {
     "duration": 0.011135,
     "end_time": "2022-06-09T03:01:27.739144",
     "exception": false,
     "start_time": "2022-06-09T03:01:27.728009",
     "status": "completed"
    },
    "tags": []
   },
   "outputs": [],
   "source": []
  },
  {
   "cell_type": "code",
   "execution_count": null,
   "id": "romance-sweden",
   "metadata": {
    "papermill": {
     "duration": 0.011078,
     "end_time": "2022-06-09T03:01:27.761418",
     "exception": false,
     "start_time": "2022-06-09T03:01:27.750340",
     "status": "completed"
    },
    "tags": []
   },
   "outputs": [],
   "source": []
  },
  {
   "cell_type": "code",
   "execution_count": null,
   "id": "dietary-statistics",
   "metadata": {
    "papermill": {
     "duration": 0.011063,
     "end_time": "2022-06-09T03:01:27.783574",
     "exception": false,
     "start_time": "2022-06-09T03:01:27.772511",
     "status": "completed"
    },
    "tags": []
   },
   "outputs": [],
   "source": []
  }
 ],
 "metadata": {
  "kernelspec": {
   "display_name": "Python 3",
   "language": "python",
   "name": "python3"
  },
  "language_info": {
   "codemirror_mode": {
    "name": "ipython",
    "version": 3
   },
   "file_extension": ".py",
   "mimetype": "text/x-python",
   "name": "python",
   "nbconvert_exporter": "python",
   "pygments_lexer": "ipython3",
   "version": "3.6.15"
  },
  "papermill": {
   "default_parameters": {},
   "duration": 13.394316,
   "end_time": "2022-06-09T03:01:28.213497",
   "environment_variables": {},
   "exception": null,
   "input_path": "Market-News.ipynb",
   "output_path": "Market-News.ipynb",
   "parameters": {},
   "start_time": "2022-06-09T03:01:14.819181",
   "version": "2.2.2"
  }
 },
 "nbformat": 4,
 "nbformat_minor": 5
}