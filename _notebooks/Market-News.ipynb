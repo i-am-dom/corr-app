{
 "cells": [
  {
   "cell_type": "markdown",
   "id": "short-greensboro",
   "metadata": {
    "papermill": {
     "duration": 0.015629,
     "end_time": "2021-12-08T02:04:19.626776",
     "exception": false,
     "start_time": "2021-12-08T02:04:19.611147",
     "status": "completed"
    },
    "tags": []
   },
   "source": [
    "# Kriptovaliutų naujienos"
   ]
  },
  {
   "cell_type": "code",
   "execution_count": 1,
   "id": "functioning-knowing",
   "metadata": {
    "execution": {
     "iopub.execute_input": "2021-12-08T02:04:19.658011Z",
     "iopub.status.busy": "2021-12-08T02:04:19.657368Z",
     "iopub.status.idle": "2021-12-08T02:04:21.026128Z",
     "shell.execute_reply": "2021-12-08T02:04:21.024848Z"
    },
    "papermill": {
     "duration": 1.388645,
     "end_time": "2021-12-08T02:04:21.026302",
     "exception": false,
     "start_time": "2021-12-08T02:04:19.637657",
     "status": "completed"
    },
    "tags": []
   },
   "outputs": [],
   "source": [
    "#hide_input\n",
    "import warnings\n",
    "warnings.filterwarnings('ignore')\n",
    "from scripts.read_data import read_api\n",
    "from scripts.read_data import read_news\n",
    "from scripts.read_data import read_covid\n",
    "import matplotlib.pyplot as plt \n",
    "from IPython.display import Markdown as md"
   ]
  },
  {
   "cell_type": "code",
   "execution_count": 2,
   "id": "shared-acceptance",
   "metadata": {
    "execution": {
     "iopub.execute_input": "2021-12-08T02:04:21.053012Z",
     "iopub.status.busy": "2021-12-08T02:04:21.052457Z",
     "iopub.status.idle": "2021-12-08T02:04:31.357470Z",
     "shell.execute_reply": "2021-12-08T02:04:31.357988Z"
    },
    "papermill": {
     "duration": 10.321564,
     "end_time": "2021-12-08T02:04:31.358150",
     "exception": false,
     "start_time": "2021-12-08T02:04:21.036586",
     "status": "completed"
    },
    "tags": []
   },
   "outputs": [],
   "source": [
    "#hide_input\n",
    "blockchain = read_news('blockchain') \n",
    "btc = read_news('btc') \n",
    "xrp = read_news('xrp') \n",
    "trx = read_news('trx') \n",
    "eth = read_news('eth')  \n",
    "ada = read_news('ada')\n",
    "exchange = read_news('exchange') "
   ]
  },
  {
   "cell_type": "code",
   "execution_count": 3,
   "id": "synthetic-notion",
   "metadata": {
    "execution": {
     "iopub.execute_input": "2021-12-08T02:04:31.384234Z",
     "iopub.status.busy": "2021-12-08T02:04:31.383652Z",
     "iopub.status.idle": "2021-12-08T02:04:31.389291Z",
     "shell.execute_reply": "2021-12-08T02:04:31.389744Z"
    },
    "papermill": {
     "duration": 0.021792,
     "end_time": "2021-12-08T02:04:31.389880",
     "exception": false,
     "start_time": "2021-12-08T02:04:31.368088",
     "status": "completed"
    },
    "tags": []
   },
   "outputs": [
    {
     "data": {
      "text/markdown": [
       "- Ubisoft Launches Their First NFTs On Tezos.  NFTs in gaming have been a hot topic in recent months, but one that hasn&#8217;t yet truly seen the light of day &#8211; outside of crypto-dedicated projects. While traditional gaming brands and properties have generally shared some sort of sentiment around NFTs, none have made any real splash into the blockchain space yet. That could [&#8230;] ... [| Skaityti daugiau](https://bitcoinist.com/ubisoft-launches-their-first-nfts-on-tezos/?utm_source=rss&utm_medium=rss&utm_campaign=ubisoft-launches-their-first-nfts-on-tezos) "
      ],
      "text/plain": [
       "<IPython.core.display.Markdown object>"
      ]
     },
     "execution_count": 3,
     "metadata": {},
     "output_type": "execute_result"
    }
   ],
   "source": [
    "#hide_input\n",
    "#md('##### {}'.format(titleBTC)) \n",
    "md(\"- {}{} {}{} [| Skaityti daugiau]({}) \".format(blockchain['title'],'. ', blockchain['body'], ' ...', blockchain['url']))"
   ]
  },
  {
   "cell_type": "code",
   "execution_count": 4,
   "id": "aging-caution",
   "metadata": {
    "execution": {
     "iopub.execute_input": "2021-12-08T02:04:31.415785Z",
     "iopub.status.busy": "2021-12-08T02:04:31.415227Z",
     "iopub.status.idle": "2021-12-08T02:04:31.419711Z",
     "shell.execute_reply": "2021-12-08T02:04:31.419130Z"
    },
    "papermill": {
     "duration": 0.019807,
     "end_time": "2021-12-08T02:04:31.419832",
     "exception": false,
     "start_time": "2021-12-08T02:04:31.400025",
     "status": "completed"
    },
    "tags": []
   },
   "outputs": [
    {
     "data": {
      "text/markdown": [
       "- Bitcoin Futures Open Interest Falls By 83,000 BTC.  A series of swift liquidations took the bitcoin price down to a potential bottom of $42,000. ... [| Skaityti daugiau](https://bitcoinmagazine.com/markets/bitcoin-futures-open-interest-falls-83000-btc) "
      ],
      "text/plain": [
       "<IPython.core.display.Markdown object>"
      ]
     },
     "execution_count": 4,
     "metadata": {},
     "output_type": "execute_result"
    }
   ],
   "source": [
    "#hide_input\n",
    "#md('##### {}'.format(titleBTC)) \n",
    "md(\"- {}{} {}{} [| Skaityti daugiau]({}) \".format(btc['title'],'. ', btc['body'], ' ...', btc['url']))"
   ]
  },
  {
   "cell_type": "code",
   "execution_count": 5,
   "id": "organic-actress",
   "metadata": {
    "execution": {
     "iopub.execute_input": "2021-12-08T02:04:31.447746Z",
     "iopub.status.busy": "2021-12-08T02:04:31.446935Z",
     "iopub.status.idle": "2021-12-08T02:04:31.452658Z",
     "shell.execute_reply": "2021-12-08T02:04:31.453075Z"
    },
    "papermill": {
     "duration": 0.022912,
     "end_time": "2021-12-08T02:04:31.453209",
     "exception": false,
     "start_time": "2021-12-08T02:04:31.430297",
     "status": "completed"
    },
    "tags": []
   },
   "outputs": [
    {
     "data": {
      "text/markdown": [
       "- Ether Next To Be On SEC’s Purview If Ripple Loses XRP Lawsuit — Fox Business’ Gasparino Reveals Why.  Fox Business&#8217; Charles Gasparino agrees that Ether could be the SEC&#8217;s next target. This is following Gary Gensler and Jay Clayton&#8217;s recent discussion on the regulation of the crypto market. Ether still lacks regulatory clarity and could be open to an SEC crackdown. The cryptocurrency community is still avidly watching how regulation of the industry [&#8230;] ... [| Skaityti daugiau](https://zycrypto.com/ether-next-to-be-on-secs-purview-if-ripple-loses-xrp-lawsuit-fox-business-gasparino-reveals-why/) "
      ],
      "text/plain": [
       "<IPython.core.display.Markdown object>"
      ]
     },
     "execution_count": 5,
     "metadata": {},
     "output_type": "execute_result"
    }
   ],
   "source": [
    "#hide_input\n",
    "#md('##### {}'.format(titleBTC)) \n",
    "md(\"- {}{} {}{} [| Skaityti daugiau]({}) \".format(xrp['title'],'. ', xrp['body'], ' ...', xrp['url']))"
   ]
  },
  {
   "cell_type": "code",
   "execution_count": 6,
   "id": "prompt-farmer",
   "metadata": {
    "execution": {
     "iopub.execute_input": "2021-12-08T02:04:31.480181Z",
     "iopub.status.busy": "2021-12-08T02:04:31.479159Z",
     "iopub.status.idle": "2021-12-08T02:04:31.485010Z",
     "shell.execute_reply": "2021-12-08T02:04:31.484547Z"
    },
    "papermill": {
     "duration": 0.022161,
     "end_time": "2021-12-08T02:04:31.485121",
     "exception": false,
     "start_time": "2021-12-08T02:04:31.462960",
     "status": "completed"
    },
    "tags": []
   },
   "outputs": [
    {
     "data": {
      "text/markdown": [
       "- Under-the-Radar Altcoin Built on Tron Jumps Nearly 80% After Announcement of Mainnet Launch.  One mid-cap altcoin built on the Tron (TRX) network is surging after the announcement of its impending mainnet launch, set to occur next week. BitTorrent (BTT) is a file-sharing protocol token built on the Tron blockchain. BTT allows users to share files peer-to-peer by paying for access to faster download speeds, more bandwidth and storage [&#8230;]The post Under-the-Radar Altcoin Built on Tron Jumps Nearly 80% After Announcement of Mainnet Launch appeared first on The Daily Hodl. ... [| Skaityti daugiau](https://dailyhodl.com/2021/12/07/under-the-radar-altcoin-built-on-tron-jumps-nearly-80-after-announce-of-mainnet-launch/) "
      ],
      "text/plain": [
       "<IPython.core.display.Markdown object>"
      ]
     },
     "execution_count": 6,
     "metadata": {},
     "output_type": "execute_result"
    }
   ],
   "source": [
    "#hide_input\n",
    "#md('##### {}'.format(titleBTC)) \n",
    "md(\"- {}{} {}{} [| Skaityti daugiau]({}) \".format(trx['title'],'. ', trx['body'], ' ...', trx['url']))"
   ]
  },
  {
   "cell_type": "code",
   "execution_count": 7,
   "id": "illegal-greece",
   "metadata": {
    "execution": {
     "iopub.execute_input": "2021-12-08T02:04:31.511083Z",
     "iopub.status.busy": "2021-12-08T02:04:31.510530Z",
     "iopub.status.idle": "2021-12-08T02:04:31.515533Z",
     "shell.execute_reply": "2021-12-08T02:04:31.515947Z"
    },
    "papermill": {
     "duration": 0.020249,
     "end_time": "2021-12-08T02:04:31.516074",
     "exception": false,
     "start_time": "2021-12-08T02:04:31.495825",
     "status": "completed"
    },
    "tags": []
   },
   "outputs": [
    {
     "data": {
      "text/markdown": [
       "- Deus Ex Anima: This AR Startup Aims to Launch NFTs Into Space.  Anima is debuting an augmented reality platform for NFT art projects that engage with and adapt to the physical world. ... [| Skaityti daugiau](https://decrypt.co/87790/deus-ex-anima-ar-startup-aims-launch-nfts-space) "
      ],
      "text/plain": [
       "<IPython.core.display.Markdown object>"
      ]
     },
     "execution_count": 7,
     "metadata": {},
     "output_type": "execute_result"
    }
   ],
   "source": [
    "#hide_input\n",
    "#md('##### {}'.format(titleBTC)) \n",
    "md(\"- {}{} {}{} [| Skaityti daugiau]({}) \".format(eth['title'],'. ', eth['body'], ' ...', eth['url']))"
   ]
  },
  {
   "cell_type": "code",
   "execution_count": 8,
   "id": "sublime-lounge",
   "metadata": {
    "execution": {
     "iopub.execute_input": "2021-12-08T02:04:31.547036Z",
     "iopub.status.busy": "2021-12-08T02:04:31.546062Z",
     "iopub.status.idle": "2021-12-08T02:04:31.551488Z",
     "shell.execute_reply": "2021-12-08T02:04:31.551935Z"
    },
    "papermill": {
     "duration": 0.024746,
     "end_time": "2021-12-08T02:04:31.552075",
     "exception": false,
     "start_time": "2021-12-08T02:04:31.527329",
     "status": "completed"
    },
    "tags": []
   },
   "outputs": [
    {
     "data": {
      "text/markdown": [
       "- Here’s What Cardano Founder Charles Hoskinson Wants For Christmas.  Christmas is just around the corner and Cardano founder Charles Hoskinson is already in the Christmas spirit. The founder went live on YouTube on Monday to do another surprise AMA where he answered questions from the community. As usual, Hoskinson responded to a number of questions from community members who asked about the Cardano project. What Cardano Founder Wants For Christmas During the AMA, Hoskinson gave a rundown of what he would like for Christmas and it was not your usual itemized list of stuff people want for Christmas. Instead, Hoskinson decided to address a pressing issue in the crypto space and that is the divide that is very much present among investors of different projects. Related Reading &#124; Cardano Records Over 20 Million Transactions Ahead of DEX Launches Cardano has been one of the harder hit projects when it has come to FUDs in recent times. The project had been subjected to what can be described as hateful comments all-around social media especially since its token ADA began its two-month-long decline. To this end, Hoskinson wants everyone in the crypto industry to start getting along. “The one thing I want for Christmas is for everyone to start getting along in our industry. It&#8217;s extraordinary to me that when people are so close in philosophy and viewpoint, and in some cases technology, they can be so far apart as people. It&#8217;s extraordinary,” the founder said. ADA trending low at $1.4 &#... ... [| Skaityti daugiau](https://www.newsbtc.com/news/cardano/heres-what-cardano-founder-charles-hoskinson-wants-for-christmas/) "
      ],
      "text/plain": [
       "<IPython.core.display.Markdown object>"
      ]
     },
     "execution_count": 8,
     "metadata": {},
     "output_type": "execute_result"
    }
   ],
   "source": [
    "#hide_input\n",
    "#md('##### {}'.format(titleBTC)) \n",
    "md(\"- {}{} {}{} [| Skaityti daugiau]({}) \".format(ada['title'],'. ', ada['body'], ' ...', ada['url']))"
   ]
  },
  {
   "cell_type": "code",
   "execution_count": 9,
   "id": "specified-ordering",
   "metadata": {
    "execution": {
     "iopub.execute_input": "2021-12-08T02:04:31.581766Z",
     "iopub.status.busy": "2021-12-08T02:04:31.581182Z",
     "iopub.status.idle": "2021-12-08T02:04:31.584959Z",
     "shell.execute_reply": "2021-12-08T02:04:31.584521Z"
    },
    "papermill": {
     "duration": 0.020914,
     "end_time": "2021-12-08T02:04:31.585070",
     "exception": false,
     "start_time": "2021-12-08T02:04:31.564156",
     "status": "completed"
    },
    "tags": []
   },
   "outputs": [
    {
     "data": {
      "text/markdown": [
       "- Crypto Market “Etreme Fear” Metric Reaches Multi Month Low.  Fear runs deep in the crypto market as major cryptocurrencies re-test critical support levels. On December 3rd, Bitcoin’s price wicked into the lows at $40,000 resulting in a record number of liquidated positions across exchange platforms. Related Reading &#124; Crypto Market Analysis: December 6, 2021 At the time of writing, almost every cryptocurrency, but Bitcoin in the top 10 by market cap seems to show signs of recovery. The benchmark crypto trades at barely north of $50,000 after it was rejected at $51,500 with small losses in the past 24-hours. Data from Arcane Research shows that the Fear and Greed Index has been fluctuating with the price of large crypto by market cap. During the last week, this metric stood in the “Fear” levels right up until Friday’s crash when it dipped further into “Extreme Fear”. Although the metric was able to bounce from a low at 16 it now scores a 25 in the metric, almost 50 points less than in November when it stood at Greed with 73. The index is still close to its yearly lows, and closer to post-May 2021 levels when an increase in selling pressure slumped the prices of every major crypto. These levels remained at their lows from that moment until mid-August, when Bitcoin finally broke above $40,000 and into an all-time high at $69,000. Arcane Research noted the following: (…) panic spread across the market following the weekend sell-off. We haven’t seen such a fearful market in almost four m... ... [| Skaityti daugiau](https://www.newsbtc.com/crypto/crypto-market-etreme-fear-metric-reaches-multi-month-low/) "
      ],
      "text/plain": [
       "<IPython.core.display.Markdown object>"
      ]
     },
     "execution_count": 9,
     "metadata": {},
     "output_type": "execute_result"
    }
   ],
   "source": [
    "#hide_input\n",
    "#md('##### {}'.format(titleBTC)) \n",
    "md(\"- {}{} {}{} [| Skaityti daugiau]({}) \".format(exchange['title'],'. ', exchange['body'], ' ...', exchange['url']))"
   ]
  },
  {
   "cell_type": "code",
   "execution_count": null,
   "id": "tender-livestock",
   "metadata": {
    "papermill": {
     "duration": 0.012563,
     "end_time": "2021-12-08T02:04:31.610313",
     "exception": false,
     "start_time": "2021-12-08T02:04:31.597750",
     "status": "completed"
    },
    "tags": []
   },
   "outputs": [],
   "source": []
  },
  {
   "cell_type": "code",
   "execution_count": null,
   "id": "appreciated-diamond",
   "metadata": {
    "papermill": {
     "duration": 0.012592,
     "end_time": "2021-12-08T02:04:31.635478",
     "exception": false,
     "start_time": "2021-12-08T02:04:31.622886",
     "status": "completed"
    },
    "tags": []
   },
   "outputs": [],
   "source": []
  },
  {
   "cell_type": "code",
   "execution_count": null,
   "id": "romance-sweden",
   "metadata": {
    "papermill": {
     "duration": 0.013038,
     "end_time": "2021-12-08T02:04:31.661203",
     "exception": false,
     "start_time": "2021-12-08T02:04:31.648165",
     "status": "completed"
    },
    "tags": []
   },
   "outputs": [],
   "source": []
  },
  {
   "cell_type": "code",
   "execution_count": null,
   "id": "dietary-statistics",
   "metadata": {
    "papermill": {
     "duration": 0.012182,
     "end_time": "2021-12-08T02:04:31.684759",
     "exception": false,
     "start_time": "2021-12-08T02:04:31.672577",
     "status": "completed"
    },
    "tags": []
   },
   "outputs": [],
   "source": []
  }
 ],
 "metadata": {
  "kernelspec": {
   "display_name": "Python 3",
   "language": "python",
   "name": "python3"
  },
  "language_info": {
   "codemirror_mode": {
    "name": "ipython",
    "version": 3
   },
   "file_extension": ".py",
   "mimetype": "text/x-python",
   "name": "python",
   "nbconvert_exporter": "python",
   "pygments_lexer": "ipython3",
   "version": "3.6.15"
  },
  "papermill": {
   "default_parameters": {},
   "duration": 13.861682,
   "end_time": "2021-12-08T02:04:32.207703",
   "environment_variables": {},
   "exception": null,
   "input_path": "Market-News.ipynb",
   "output_path": "Market-News.ipynb",
   "parameters": {},
   "start_time": "2021-12-08T02:04:18.346021",
   "version": "2.2.2"
  }
 },
 "nbformat": 4,
 "nbformat_minor": 5
}