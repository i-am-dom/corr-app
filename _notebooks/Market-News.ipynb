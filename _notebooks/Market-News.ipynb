{
 "cells": [
  {
   "cell_type": "markdown",
   "id": "short-greensboro",
   "metadata": {
    "papermill": {
     "duration": 0.018202,
     "end_time": "2021-10-28T01:58:51.784306",
     "exception": false,
     "start_time": "2021-10-28T01:58:51.766104",
     "status": "completed"
    },
    "tags": []
   },
   "source": [
    "# Kriptovaliutų naujienos"
   ]
  },
  {
   "cell_type": "code",
   "execution_count": 1,
   "id": "functioning-knowing",
   "metadata": {
    "execution": {
     "iopub.execute_input": "2021-10-28T01:58:51.821081Z",
     "iopub.status.busy": "2021-10-28T01:58:51.820252Z",
     "iopub.status.idle": "2021-10-28T01:58:53.416355Z",
     "shell.execute_reply": "2021-10-28T01:58:53.415784Z"
    },
    "papermill": {
     "duration": 1.62017,
     "end_time": "2021-10-28T01:58:53.416524",
     "exception": false,
     "start_time": "2021-10-28T01:58:51.796354",
     "status": "completed"
    },
    "tags": []
   },
   "outputs": [],
   "source": [
    "#hide_input\n",
    "import warnings\n",
    "warnings.filterwarnings('ignore')\n",
    "from scripts.read_data import read_api\n",
    "from scripts.read_data import read_news\n",
    "from scripts.read_data import read_covid\n",
    "import matplotlib.pyplot as plt \n",
    "from IPython.display import Markdown as md"
   ]
  },
  {
   "cell_type": "code",
   "execution_count": 2,
   "id": "shared-acceptance",
   "metadata": {
    "execution": {
     "iopub.execute_input": "2021-10-28T01:58:53.449289Z",
     "iopub.status.busy": "2021-10-28T01:58:53.448090Z",
     "iopub.status.idle": "2021-10-28T01:59:01.623133Z",
     "shell.execute_reply": "2021-10-28T01:59:01.622545Z"
    },
    "papermill": {
     "duration": 8.195852,
     "end_time": "2021-10-28T01:59:01.623300",
     "exception": false,
     "start_time": "2021-10-28T01:58:53.427448",
     "status": "completed"
    },
    "tags": []
   },
   "outputs": [],
   "source": [
    "#hide_input\n",
    "blockchain = read_news('blockchain') \n",
    "btc = read_news('btc') \n",
    "xrp = read_news('xrp') \n",
    "trx = read_news('trx') \n",
    "eth = read_news('eth')  \n",
    "ada = read_news('ada')\n",
    "exchange = read_news('exchange') "
   ]
  },
  {
   "cell_type": "code",
   "execution_count": 3,
   "id": "synthetic-notion",
   "metadata": {
    "execution": {
     "iopub.execute_input": "2021-10-28T01:59:01.652656Z",
     "iopub.status.busy": "2021-10-28T01:59:01.651983Z",
     "iopub.status.idle": "2021-10-28T01:59:01.655064Z",
     "shell.execute_reply": "2021-10-28T01:59:01.655725Z"
    },
    "papermill": {
     "duration": 0.021334,
     "end_time": "2021-10-28T01:59:01.655848",
     "exception": false,
     "start_time": "2021-10-28T01:59:01.634514",
     "status": "completed"
    },
    "tags": []
   },
   "outputs": [
    {
     "data": {
      "text/markdown": [
       "- The IMF Hates Bitcoin Because It Loves Total Control.  The IMF hates Bitcoin because its decentralized protocol and programmatic monetary policy defies the control the fund wants to implement on us all. ... [| Skaityti daugiau](https://bitcoinmagazine.com/culture/why-the-imf-hates-bitcoin) "
      ],
      "text/plain": [
       "<IPython.core.display.Markdown object>"
      ]
     },
     "execution_count": 3,
     "metadata": {},
     "output_type": "execute_result"
    }
   ],
   "source": [
    "#hide_input\n",
    "#md('##### {}'.format(titleBTC)) \n",
    "md(\"- {}{} {}{} [| Skaityti daugiau]({}) \".format(blockchain['title'],'. ', blockchain['body'], ' ...', blockchain['url']))"
   ]
  },
  {
   "cell_type": "code",
   "execution_count": 4,
   "id": "aging-caution",
   "metadata": {
    "execution": {
     "iopub.execute_input": "2021-10-28T01:59:01.686242Z",
     "iopub.status.busy": "2021-10-28T01:59:01.685569Z",
     "iopub.status.idle": "2021-10-28T01:59:01.688895Z",
     "shell.execute_reply": "2021-10-28T01:59:01.688300Z"
    },
    "papermill": {
     "duration": 0.020626,
     "end_time": "2021-10-28T01:59:01.689017",
     "exception": false,
     "start_time": "2021-10-28T01:59:01.668391",
     "status": "completed"
    },
    "tags": []
   },
   "outputs": [
    {
     "data": {
      "text/markdown": [
       "- El Salvador buys a smokin' hot 420 more Bitcoin.  The recent purchase brings the Latin American nation’s stash to about 1,120BTC. ... [| Skaityti daugiau](https://cointelegraph.com/news/el-salvador-buys-a-smokin-hot-420-more-bitcoin) "
      ],
      "text/plain": [
       "<IPython.core.display.Markdown object>"
      ]
     },
     "execution_count": 4,
     "metadata": {},
     "output_type": "execute_result"
    }
   ],
   "source": [
    "#hide_input\n",
    "#md('##### {}'.format(titleBTC)) \n",
    "md(\"- {}{} {}{} [| Skaityti daugiau]({}) \".format(btc['title'],'. ', btc['body'], ' ...', btc['url']))"
   ]
  },
  {
   "cell_type": "code",
   "execution_count": 5,
   "id": "organic-actress",
   "metadata": {
    "execution": {
     "iopub.execute_input": "2021-10-28T01:59:01.718631Z",
     "iopub.status.busy": "2021-10-28T01:59:01.717915Z",
     "iopub.status.idle": "2021-10-28T01:59:01.721297Z",
     "shell.execute_reply": "2021-10-28T01:59:01.721974Z"
    },
    "papermill": {
     "duration": 0.02099,
     "end_time": "2021-10-28T01:59:01.722141",
     "exception": false,
     "start_time": "2021-10-28T01:59:01.701151",
     "status": "completed"
    },
    "tags": []
   },
   "outputs": [
    {
     "data": {
      "text/markdown": [
       "- XRP Builds Momentum With 7% Increase As Ripple Launches New ODL Partnership.  XRP has been soaring in the monthly chart with a 7.2% profit as Ripple continues to expand its corridors worldwide. As of press time, the seventh crypto by market cap trades at $1,01 and records a 10.3% correction in the daily chart. XRP seems to be reacting to the general trend in the market as Bitcoin, Ethereum, and other cryptocurrencies in the top 10 by market cap trend to the downside. As NewsBTC has reported, the derivatives sector has been heating up due to the recent rise in the aforementioned coins. Related Reading &#124; SEC Takes Blow In Action Against Ripple, Will It Impact XRP Price? Historically, this has taken a toll on the bullish momentum built by the bulls. In the case of XRP, it’s a positive sign that it has been able to sustain gains in higher timeframes. The sentiment around XRP has flipped bullish since Ripple has been able to sustain and push back against the U.S. SEC in their case for the alleged sales of a security. In addition, the payment corridors, one of the most important use cases for the XRPL Ledger and its native token, are recovering. These entities use Ripple’s payment solution On-Demand Liquidity (ODL), based on XRP, and were negatively impacted after the SEC filed for their legal action. The Liquidity Index Bot, an ODL payment corridors monitor, records an increase in the daily volume for these entities. As seen below, the XRP/AUD payment corridors show some recovery after it went negative ... ... [| Skaityti daugiau](https://www.newsbtc.com/news/ripple/xrp-ripple-builds-momentum-odl-partner/) "
      ],
      "text/plain": [
       "<IPython.core.display.Markdown object>"
      ]
     },
     "execution_count": 5,
     "metadata": {},
     "output_type": "execute_result"
    }
   ],
   "source": [
    "#hide_input\n",
    "#md('##### {}'.format(titleBTC)) \n",
    "md(\"- {}{} {}{} [| Skaityti daugiau]({}) \".format(xrp['title'],'. ', xrp['body'], ' ...', xrp['url']))"
   ]
  },
  {
   "cell_type": "code",
   "execution_count": 6,
   "id": "prompt-farmer",
   "metadata": {
    "execution": {
     "iopub.execute_input": "2021-10-28T01:59:01.753391Z",
     "iopub.status.busy": "2021-10-28T01:59:01.752715Z",
     "iopub.status.idle": "2021-10-28T01:59:01.756053Z",
     "shell.execute_reply": "2021-10-28T01:59:01.756592Z"
    },
    "papermill": {
     "duration": 0.021581,
     "end_time": "2021-10-28T01:59:01.756723",
     "exception": false,
     "start_time": "2021-10-28T01:59:01.735142",
     "status": "completed"
    },
    "tags": []
   },
   "outputs": [
    {
     "data": {
      "text/markdown": [
       "- Tron (TRX) Price Analysis: More Gains Possible Above $0.105.  Tron price is forming a base above the $0.1000 zone against the US Dollar. TRX price is now trading above $0.1000 and the 55 simple moving average (4-hours). There is a connecting bullish trend line forming with support near $0.0995 on the 4-hours chart (data feed via Bitfinex). The pair could start a major increase...The post Tron (TRX) Price Analysis: More Gains Possible Above $0.105 appeared first on Live Bitcoin News. ... [| Skaityti daugiau](https://www.livebitcoinnews.com/tron-trx-price-analysis-more-gains-possible-above-0-105/) "
      ],
      "text/plain": [
       "<IPython.core.display.Markdown object>"
      ]
     },
     "execution_count": 6,
     "metadata": {},
     "output_type": "execute_result"
    }
   ],
   "source": [
    "#hide_input\n",
    "#md('##### {}'.format(titleBTC)) \n",
    "md(\"- {}{} {}{} [| Skaityti daugiau]({}) \".format(trx['title'],'. ', trx['body'], ' ...', trx['url']))"
   ]
  },
  {
   "cell_type": "code",
   "execution_count": 7,
   "id": "illegal-greece",
   "metadata": {
    "execution": {
     "iopub.execute_input": "2021-10-28T01:59:01.789025Z",
     "iopub.status.busy": "2021-10-28T01:59:01.788288Z",
     "iopub.status.idle": "2021-10-28T01:59:01.791678Z",
     "shell.execute_reply": "2021-10-28T01:59:01.792136Z"
    },
    "papermill": {
     "duration": 0.022237,
     "end_time": "2021-10-28T01:59:01.792269",
     "exception": false,
     "start_time": "2021-10-28T01:59:01.770032",
     "status": "completed"
    },
    "tags": []
   },
   "outputs": [
    {
     "data": {
      "text/markdown": [
       "- Despite 80% hike, might Fantom re-visit $1.9 soon.  The price movements of most large-cap assets over the past few hours have managed to wipe away the broader uptrend narrative. Cryptos like BTC, ETH, and ADA have shed 6%-8% of their respective values in just 24 hours. The numbers looked even more terrifying on the lower timeframe charts. Most mid-cap assets also followed suit, [&#8230;] ... [| Skaityti daugiau](https://ambcrypto.com/despite-80-hike-might-fantom-re-visit-1-9-soon/) "
      ],
      "text/plain": [
       "<IPython.core.display.Markdown object>"
      ]
     },
     "execution_count": 7,
     "metadata": {},
     "output_type": "execute_result"
    }
   ],
   "source": [
    "#hide_input\n",
    "#md('##### {}'.format(titleBTC)) \n",
    "md(\"- {}{} {}{} [| Skaityti daugiau]({}) \".format(eth['title'],'. ', eth['body'], ' ...', eth['url']))"
   ]
  },
  {
   "cell_type": "code",
   "execution_count": 8,
   "id": "sublime-lounge",
   "metadata": {
    "execution": {
     "iopub.execute_input": "2021-10-28T01:59:01.823175Z",
     "iopub.status.busy": "2021-10-28T01:59:01.822146Z",
     "iopub.status.idle": "2021-10-28T01:59:01.826079Z",
     "shell.execute_reply": "2021-10-28T01:59:01.826647Z"
    },
    "papermill": {
     "duration": 0.0217,
     "end_time": "2021-10-28T01:59:01.826774",
     "exception": false,
     "start_time": "2021-10-28T01:59:01.805074",
     "status": "completed"
    },
    "tags": []
   },
   "outputs": [
    {
     "data": {
      "text/markdown": [
       "- Despite 80% hike, might Fantom re-visit $1.9 soon.  The price movements of most large-cap assets over the past few hours have managed to wipe away the broader uptrend narrative. Cryptos like BTC, ETH, and ADA have shed 6%-8% of their respective values in just 24 hours. The numbers looked even more terrifying on the lower timeframe charts. Most mid-cap assets also followed suit, [&#8230;] ... [| Skaityti daugiau](https://ambcrypto.com/despite-80-hike-might-fantom-re-visit-1-9-soon/) "
      ],
      "text/plain": [
       "<IPython.core.display.Markdown object>"
      ]
     },
     "execution_count": 8,
     "metadata": {},
     "output_type": "execute_result"
    }
   ],
   "source": [
    "#hide_input\n",
    "#md('##### {}'.format(titleBTC)) \n",
    "md(\"- {}{} {}{} [| Skaityti daugiau]({}) \".format(ada['title'],'. ', ada['body'], ' ...', ada['url']))"
   ]
  },
  {
   "cell_type": "code",
   "execution_count": 9,
   "id": "specified-ordering",
   "metadata": {
    "execution": {
     "iopub.execute_input": "2021-10-28T01:59:01.858316Z",
     "iopub.status.busy": "2021-10-28T01:59:01.857731Z",
     "iopub.status.idle": "2021-10-28T01:59:01.861514Z",
     "shell.execute_reply": "2021-10-28T01:59:01.861025Z"
    },
    "papermill": {
     "duration": 0.021338,
     "end_time": "2021-10-28T01:59:01.861644",
     "exception": false,
     "start_time": "2021-10-28T01:59:01.840306",
     "status": "completed"
    },
    "tags": []
   },
   "outputs": [
    {
     "data": {
      "text/markdown": [
       "- Bitcoin Exchange Balances Decline To Three-Year Low Amid Rising Prices.  Bitcoin exchange balances have been on the decline since the bull rally began. The volumes were expected to go up once the digital asset had hit a new all-time high in October. However, this was not the case. Previous trends have often pointed to exchange balances seeing an increase in bull markets when investors moved their holdings to exchanges in order to take profits. This bull market has defied all expectations for it and continues to do so. Outflows from exchanges outpace inflows as investors withdraw BTC from exchanges en masse. Exchange balance volumes relative to the circulating supply of bitcoin have declined towards three-year lows. BTC exchange balances now sit at levels not seen since January 2018. This has led to a supply squeeze on exchanges, causing sell pressures to drop tremendously. Related Reading &#124; American Singer Mariah Carey Offers Free $20 In Bitcoin To Promote Adoption Big Exchanges See Declining Balances Big exchanges like Binance, Coinbase, and Huobi have seen large volumes of bitcoin withdrawn from their exchanges. Binance recorded the highest outflows for the last week with 21,000 BTC withdrawn from the crypto exchange. This is one of the sharpest declines recorded in the market. BTC exchange balances continue to decline &#124; Source: Arcane Research Huobi also saw thousands of BTC leave the exchange in the past week. The past seven days save 8,000 BTC withdrawn from the cryptocurrency exchan... ... [| Skaityti daugiau](https://www.newsbtc.com/news/bitcoin/bitcoin-exchange-balances-decline/) "
      ],
      "text/plain": [
       "<IPython.core.display.Markdown object>"
      ]
     },
     "execution_count": 9,
     "metadata": {},
     "output_type": "execute_result"
    }
   ],
   "source": [
    "#hide_input\n",
    "#md('##### {}'.format(titleBTC)) \n",
    "md(\"- {}{} {}{} [| Skaityti daugiau]({}) \".format(exchange['title'],'. ', exchange['body'], ' ...', exchange['url']))"
   ]
  },
  {
   "cell_type": "code",
   "execution_count": null,
   "id": "tender-livestock",
   "metadata": {
    "papermill": {
     "duration": 0.013218,
     "end_time": "2021-10-28T01:59:01.888400",
     "exception": false,
     "start_time": "2021-10-28T01:59:01.875182",
     "status": "completed"
    },
    "tags": []
   },
   "outputs": [],
   "source": []
  },
  {
   "cell_type": "code",
   "execution_count": null,
   "id": "appreciated-diamond",
   "metadata": {
    "papermill": {
     "duration": 0.0133,
     "end_time": "2021-10-28T01:59:01.915187",
     "exception": false,
     "start_time": "2021-10-28T01:59:01.901887",
     "status": "completed"
    },
    "tags": []
   },
   "outputs": [],
   "source": []
  },
  {
   "cell_type": "code",
   "execution_count": null,
   "id": "romance-sweden",
   "metadata": {
    "papermill": {
     "duration": 0.013351,
     "end_time": "2021-10-28T01:59:01.942191",
     "exception": false,
     "start_time": "2021-10-28T01:59:01.928840",
     "status": "completed"
    },
    "tags": []
   },
   "outputs": [],
   "source": []
  },
  {
   "cell_type": "code",
   "execution_count": null,
   "id": "dietary-statistics",
   "metadata": {
    "papermill": {
     "duration": 0.014401,
     "end_time": "2021-10-28T01:59:01.970673",
     "exception": false,
     "start_time": "2021-10-28T01:59:01.956272",
     "status": "completed"
    },
    "tags": []
   },
   "outputs": [],
   "source": []
  }
 ],
 "metadata": {
  "kernelspec": {
   "display_name": "Python 3",
   "language": "python",
   "name": "python3"
  },
  "language_info": {
   "codemirror_mode": {
    "name": "ipython",
    "version": 3
   },
   "file_extension": ".py",
   "mimetype": "text/x-python",
   "name": "python",
   "nbconvert_exporter": "python",
   "pygments_lexer": "ipython3",
   "version": "3.6.15"
  },
  "papermill": {
   "default_parameters": {},
   "duration": 11.872173,
   "end_time": "2021-10-28T01:59:02.494351",
   "environment_variables": {},
   "exception": null,
   "input_path": "Market-News.ipynb",
   "output_path": "Market-News.ipynb",
   "parameters": {},
   "start_time": "2021-10-28T01:58:50.622178",
   "version": "2.2.2"
  }
 },
 "nbformat": 4,
 "nbformat_minor": 5
}