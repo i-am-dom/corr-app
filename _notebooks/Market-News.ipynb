{
 "cells": [
  {
   "cell_type": "markdown",
   "id": "short-greensboro",
   "metadata": {
    "papermill": {
     "duration": 0.017277,
     "end_time": "2022-04-05T02:39:19.827522",
     "exception": false,
     "start_time": "2022-04-05T02:39:19.810245",
     "status": "completed"
    },
    "tags": []
   },
   "source": [
    "# Kriptovaliutų naujienos"
   ]
  },
  {
   "cell_type": "code",
   "execution_count": 1,
   "id": "functioning-knowing",
   "metadata": {
    "execution": {
     "iopub.execute_input": "2022-04-05T02:39:19.861119Z",
     "iopub.status.busy": "2022-04-05T02:39:19.860415Z",
     "iopub.status.idle": "2022-04-05T02:39:21.545385Z",
     "shell.execute_reply": "2022-04-05T02:39:21.544799Z"
    },
    "papermill": {
     "duration": 1.705398,
     "end_time": "2022-04-05T02:39:21.545641",
     "exception": false,
     "start_time": "2022-04-05T02:39:19.840243",
     "status": "completed"
    },
    "tags": []
   },
   "outputs": [],
   "source": [
    "#hide_input\n",
    "import warnings\n",
    "warnings.filterwarnings('ignore')\n",
    "from scripts.read_data import read_api\n",
    "from scripts.read_data import read_news\n",
    "from scripts.read_data import read_covid\n",
    "import matplotlib.pyplot as plt \n",
    "from IPython.display import Markdown as md"
   ]
  },
  {
   "cell_type": "code",
   "execution_count": 2,
   "id": "shared-acceptance",
   "metadata": {
    "execution": {
     "iopub.execute_input": "2022-04-05T02:39:21.578288Z",
     "iopub.status.busy": "2022-04-05T02:39:21.577039Z",
     "iopub.status.idle": "2022-04-05T02:39:32.630771Z",
     "shell.execute_reply": "2022-04-05T02:39:32.630126Z"
    },
    "papermill": {
     "duration": 11.07211,
     "end_time": "2022-04-05T02:39:32.630928",
     "exception": false,
     "start_time": "2022-04-05T02:39:21.558818",
     "status": "completed"
    },
    "tags": []
   },
   "outputs": [],
   "source": [
    "#hide_input\n",
    "blockchain = read_news('blockchain') \n",
    "btc = read_news('btc') \n",
    "xrp = read_news('xrp') \n",
    "trx = read_news('trx') \n",
    "eth = read_news('eth')  \n",
    "ada = read_news('ada')\n",
    "exchange = read_news('exchange') "
   ]
  },
  {
   "cell_type": "code",
   "execution_count": 3,
   "id": "synthetic-notion",
   "metadata": {
    "execution": {
     "iopub.execute_input": "2022-04-05T02:39:32.669872Z",
     "iopub.status.busy": "2022-04-05T02:39:32.664756Z",
     "iopub.status.idle": "2022-04-05T02:39:32.674886Z",
     "shell.execute_reply": "2022-04-05T02:39:32.675564Z"
    },
    "papermill": {
     "duration": 0.030519,
     "end_time": "2022-04-05T02:39:32.675850",
     "exception": false,
     "start_time": "2022-04-05T02:39:32.645331",
     "status": "completed"
    },
    "tags": []
   },
   "outputs": [
    {
     "data": {
      "text/markdown": [
       "- Bitcoin makes a third daily bullish candle: $50K next?.  Bitcoin price analysis for April 5, 2022, comes on a bullish note for the token as chances of breaking above the $50K price region for the token seem high for the near future. It is important to note that the $45K price region is holding as strong support for the token as chances of BTC [&#8230;]The post Bitcoin makes a third daily bullish candle: $50K next? appeared first on Blockchain, Crypto and Stock News. ... [| Skaityti daugiau](https://thecoinrise.com/bitcoin-makes-a-third-daily-bullish-candle-50k-next/) "
      ],
      "text/plain": [
       "<IPython.core.display.Markdown object>"
      ]
     },
     "execution_count": 3,
     "metadata": {},
     "output_type": "execute_result"
    }
   ],
   "source": [
    "#hide_input\n",
    "#md('##### {}'.format(titleBTC)) \n",
    "md(\"- {}{} {}{} [| Skaityti daugiau]({}) \".format(blockchain['title'],'. ', blockchain['body'], ' ...', blockchain['url']))"
   ]
  },
  {
   "cell_type": "code",
   "execution_count": 4,
   "id": "aging-caution",
   "metadata": {
    "execution": {
     "iopub.execute_input": "2022-04-05T02:39:32.707727Z",
     "iopub.status.busy": "2022-04-05T02:39:32.706953Z",
     "iopub.status.idle": "2022-04-05T02:39:32.711395Z",
     "shell.execute_reply": "2022-04-05T02:39:32.710836Z"
    },
    "papermill": {
     "duration": 0.022993,
     "end_time": "2022-04-05T02:39:32.711553",
     "exception": false,
     "start_time": "2022-04-05T02:39:32.688560",
     "status": "completed"
    },
    "tags": []
   },
   "outputs": [
    {
     "data": {
      "text/markdown": [
       "- Bitcoin makes a third daily bullish candle: $50K next?.  Bitcoin price analysis for April 5, 2022, comes on a bullish note for the token as chances of breaking above the $50K price region for the token seem high for the near future. It is important to note that the $45K price region is holding as strong support for the token as chances of BTC [&#8230;]The post Bitcoin makes a third daily bullish candle: $50K next? appeared first on Blockchain, Crypto and Stock News. ... [| Skaityti daugiau](https://thecoinrise.com/bitcoin-makes-a-third-daily-bullish-candle-50k-next/) "
      ],
      "text/plain": [
       "<IPython.core.display.Markdown object>"
      ]
     },
     "execution_count": 4,
     "metadata": {},
     "output_type": "execute_result"
    }
   ],
   "source": [
    "#hide_input\n",
    "#md('##### {}'.format(titleBTC)) \n",
    "md(\"- {}{} {}{} [| Skaityti daugiau]({}) \".format(btc['title'],'. ', btc['body'], ' ...', btc['url']))"
   ]
  },
  {
   "cell_type": "code",
   "execution_count": 5,
   "id": "organic-actress",
   "metadata": {
    "execution": {
     "iopub.execute_input": "2022-04-05T02:39:32.745336Z",
     "iopub.status.busy": "2022-04-05T02:39:32.744576Z",
     "iopub.status.idle": "2022-04-05T02:39:32.748238Z",
     "shell.execute_reply": "2022-04-05T02:39:32.747700Z"
    },
    "papermill": {
     "duration": 0.022635,
     "end_time": "2022-04-05T02:39:32.748376",
     "exception": false,
     "start_time": "2022-04-05T02:39:32.725741",
     "status": "completed"
    },
    "tags": []
   },
   "outputs": [
    {
     "data": {
      "text/markdown": [
       "- Why XRP is well positioned for an explosive 45% rally to $1.25.  XRP price has breached an ambiguous pattern favoring the bulls but spends moving sideways. This lack of volatility is what’s causing the remittance token to remain mum. However, a resurgence of investor interest and inflow of capital could catalyze an exponential move. XRP price awaits volatility XRP price action since 21 December, 2021, set up [&#8230;] ... [| Skaityti daugiau](https://ambcrypto.com/why-xrp-is-well-positioned-for-an-explosive-45-rally-to-1-25/) "
      ],
      "text/plain": [
       "<IPython.core.display.Markdown object>"
      ]
     },
     "execution_count": 5,
     "metadata": {},
     "output_type": "execute_result"
    }
   ],
   "source": [
    "#hide_input\n",
    "#md('##### {}'.format(titleBTC)) \n",
    "md(\"- {}{} {}{} [| Skaityti daugiau]({}) \".format(xrp['title'],'. ', xrp['body'], ' ...', xrp['url']))"
   ]
  },
  {
   "cell_type": "code",
   "execution_count": 6,
   "id": "prompt-farmer",
   "metadata": {
    "execution": {
     "iopub.execute_input": "2022-04-05T02:39:32.781390Z",
     "iopub.status.busy": "2022-04-05T02:39:32.780673Z",
     "iopub.status.idle": "2022-04-05T02:39:32.783822Z",
     "shell.execute_reply": "2022-04-05T02:39:32.784503Z"
    },
    "papermill": {
     "duration": 0.022723,
     "end_time": "2022-04-05T02:39:32.784670",
     "exception": false,
     "start_time": "2022-04-05T02:39:32.761947",
     "status": "completed"
    },
    "tags": []
   },
   "outputs": [
    {
     "data": {
      "text/markdown": [
       "- Total Value of TRON (TRX) Surpasses $57.8 Billion as per Justin Sun.  The TRON community will be given exclusive access to Genesis NFT badges. APENFT&#8217;s mission is to establish a global cross-fieldThe post has appeared first on thenewscrypto.com ... [| Skaityti daugiau](https://thenewscrypto.com/total-value-of-tron-surpasses-57-8-billion-as-per-justin-sun/) "
      ],
      "text/plain": [
       "<IPython.core.display.Markdown object>"
      ]
     },
     "execution_count": 6,
     "metadata": {},
     "output_type": "execute_result"
    }
   ],
   "source": [
    "#hide_input\n",
    "#md('##### {}'.format(titleBTC)) \n",
    "md(\"- {}{} {}{} [| Skaityti daugiau]({}) \".format(trx['title'],'. ', trx['body'], ' ...', trx['url']))"
   ]
  },
  {
   "cell_type": "code",
   "execution_count": 7,
   "id": "illegal-greece",
   "metadata": {
    "execution": {
     "iopub.execute_input": "2022-04-05T02:39:32.823375Z",
     "iopub.status.busy": "2022-04-05T02:39:32.822373Z",
     "iopub.status.idle": "2022-04-05T02:39:32.827459Z",
     "shell.execute_reply": "2022-04-05T02:39:32.828023Z"
    },
    "papermill": {
     "duration": 0.029371,
     "end_time": "2022-04-05T02:39:32.828188",
     "exception": false,
     "start_time": "2022-04-05T02:39:32.798817",
     "status": "completed"
    },
    "tags": []
   },
   "outputs": [
    {
     "data": {
      "text/markdown": [
       "- Third in a week: Yet another ETH based DeFi protocol suffers a $15.6 million exploit.  Another day, another DeFi hack as this popular Ethereum based lending protocol suffered a multi-million dollar exploit. Inverse Finance, a lending-focused decentralized finance protocol, lost more than a $15 million loss. Sad day for DeFi Another prominent decentralized finance protocol has fallen victim to a crippling security breach. Inverse Finance, a stablecoin protocol that focuses [&#8230;] ... [| Skaityti daugiau](https://ambcrypto.com/third-in-a-week-yet-another-eth-based-defi-protocol-suffers-a-15-6-million-exploit/) "
      ],
      "text/plain": [
       "<IPython.core.display.Markdown object>"
      ]
     },
     "execution_count": 7,
     "metadata": {},
     "output_type": "execute_result"
    }
   ],
   "source": [
    "#hide_input\n",
    "#md('##### {}'.format(titleBTC)) \n",
    "md(\"- {}{} {}{} [| Skaityti daugiau]({}) \".format(eth['title'],'. ', eth['body'], ' ...', eth['url']))"
   ]
  },
  {
   "cell_type": "code",
   "execution_count": 8,
   "id": "sublime-lounge",
   "metadata": {
    "execution": {
     "iopub.execute_input": "2022-04-05T02:39:32.863946Z",
     "iopub.status.busy": "2022-04-05T02:39:32.863166Z",
     "iopub.status.idle": "2022-04-05T02:39:32.869718Z",
     "shell.execute_reply": "2022-04-05T02:39:32.870399Z"
    },
    "papermill": {
     "duration": 0.027756,
     "end_time": "2022-04-05T02:39:32.870587",
     "exception": false,
     "start_time": "2022-04-05T02:39:32.842831",
     "status": "completed"
    },
    "tags": []
   },
   "outputs": [
    {
     "data": {
      "text/markdown": [
       "- Snoop Dogg to Issue Unreleased Music as NFTs on Cardano ($ADA) Blockchain.  American rapper Snoop Dogg is set to issue unreleased music as non-fungible tokens (NFTs) on the Cardano ($ADA) blockchain as part of a collaboration with Cardano-based platform Clay Nation. The collaboration will also involve “iconic collectibles” and “limited edition ‘pitches’.” In a video promoting an upcoming Twitter Spaces meeting between Snoop Dogg and Cardano founder […] ... [| Skaityti daugiau](https://www.cryptoglobe.com/latest/2022/04/snoop-dogg-to-issue-unreleased-music-as-nfts-on-cardano-ada-blockchain/) "
      ],
      "text/plain": [
       "<IPython.core.display.Markdown object>"
      ]
     },
     "execution_count": 8,
     "metadata": {},
     "output_type": "execute_result"
    }
   ],
   "source": [
    "#hide_input\n",
    "#md('##### {}'.format(titleBTC)) \n",
    "md(\"- {}{} {}{} [| Skaityti daugiau]({}) \".format(ada['title'],'. ', ada['body'], ' ...', ada['url']))"
   ]
  },
  {
   "cell_type": "code",
   "execution_count": 9,
   "id": "specified-ordering",
   "metadata": {
    "execution": {
     "iopub.execute_input": "2022-04-05T02:39:32.909857Z",
     "iopub.status.busy": "2022-04-05T02:39:32.909144Z",
     "iopub.status.idle": "2022-04-05T02:39:32.915486Z",
     "shell.execute_reply": "2022-04-05T02:39:32.916115Z"
    },
    "papermill": {
     "duration": 0.028331,
     "end_time": "2022-04-05T02:39:32.916280",
     "exception": false,
     "start_time": "2022-04-05T02:39:32.887949",
     "status": "completed"
    },
    "tags": []
   },
   "outputs": [
    {
     "data": {
      "text/markdown": [
       "- BitMEX Fires a Quarter of its Workforce.   ... [| Skaityti daugiau](https://cryptobriefing.com/bitmex-fires-a-quarter-of-its-workforce/?utm_source=main_feed&utm_medium=rss) "
      ],
      "text/plain": [
       "<IPython.core.display.Markdown object>"
      ]
     },
     "execution_count": 9,
     "metadata": {},
     "output_type": "execute_result"
    }
   ],
   "source": [
    "#hide_input\n",
    "#md('##### {}'.format(titleBTC)) \n",
    "md(\"- {}{} {}{} [| Skaityti daugiau]({}) \".format(exchange['title'],'. ', exchange['body'], ' ...', exchange['url']))"
   ]
  },
  {
   "cell_type": "code",
   "execution_count": null,
   "id": "tender-livestock",
   "metadata": {
    "papermill": {
     "duration": 0.015431,
     "end_time": "2022-04-05T02:39:32.948447",
     "exception": false,
     "start_time": "2022-04-05T02:39:32.933016",
     "status": "completed"
    },
    "tags": []
   },
   "outputs": [],
   "source": []
  },
  {
   "cell_type": "code",
   "execution_count": null,
   "id": "appreciated-diamond",
   "metadata": {
    "papermill": {
     "duration": 0.015168,
     "end_time": "2022-04-05T02:39:32.978522",
     "exception": false,
     "start_time": "2022-04-05T02:39:32.963354",
     "status": "completed"
    },
    "tags": []
   },
   "outputs": [],
   "source": []
  },
  {
   "cell_type": "code",
   "execution_count": null,
   "id": "romance-sweden",
   "metadata": {
    "papermill": {
     "duration": 0.015597,
     "end_time": "2022-04-05T02:39:33.010811",
     "exception": false,
     "start_time": "2022-04-05T02:39:32.995214",
     "status": "completed"
    },
    "tags": []
   },
   "outputs": [],
   "source": []
  },
  {
   "cell_type": "code",
   "execution_count": null,
   "id": "dietary-statistics",
   "metadata": {
    "papermill": {
     "duration": 0.017398,
     "end_time": "2022-04-05T02:39:33.043564",
     "exception": false,
     "start_time": "2022-04-05T02:39:33.026166",
     "status": "completed"
    },
    "tags": []
   },
   "outputs": [],
   "source": []
  }
 ],
 "metadata": {
  "kernelspec": {
   "display_name": "Python 3",
   "language": "python",
   "name": "python3"
  },
  "language_info": {
   "codemirror_mode": {
    "name": "ipython",
    "version": 3
   },
   "file_extension": ".py",
   "mimetype": "text/x-python",
   "name": "python",
   "nbconvert_exporter": "python",
   "pygments_lexer": "ipython3",
   "version": "3.6.15"
  },
  "papermill": {
   "default_parameters": {},
   "duration": 15.14891,
   "end_time": "2022-04-05T02:39:33.584491",
   "environment_variables": {},
   "exception": null,
   "input_path": "Market-News.ipynb",
   "output_path": "Market-News.ipynb",
   "parameters": {},
   "start_time": "2022-04-05T02:39:18.435581",
   "version": "2.2.2"
  }
 },
 "nbformat": 4,
 "nbformat_minor": 5
}