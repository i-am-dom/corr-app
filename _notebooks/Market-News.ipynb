{
 "cells": [
  {
   "cell_type": "markdown",
   "id": "short-greensboro",
   "metadata": {
    "papermill": {
     "duration": 0.0145,
     "end_time": "2021-09-24T02:01:01.219041",
     "exception": false,
     "start_time": "2021-09-24T02:01:01.204541",
     "status": "completed"
    },
    "tags": []
   },
   "source": [
    "# Kriptovaliutų naujienos"
   ]
  },
  {
   "cell_type": "code",
   "execution_count": 1,
   "id": "functioning-knowing",
   "metadata": {
    "execution": {
     "iopub.execute_input": "2021-09-24T02:01:01.251659Z",
     "iopub.status.busy": "2021-09-24T02:01:01.251054Z",
     "iopub.status.idle": "2021-09-24T02:01:02.670843Z",
     "shell.execute_reply": "2021-09-24T02:01:02.670231Z"
    },
    "papermill": {
     "duration": 1.440855,
     "end_time": "2021-09-24T02:01:02.671005",
     "exception": false,
     "start_time": "2021-09-24T02:01:01.230150",
     "status": "completed"
    },
    "tags": []
   },
   "outputs": [],
   "source": [
    "#hide_input\n",
    "import warnings\n",
    "warnings.filterwarnings('ignore')\n",
    "from scripts.read_data import read_api\n",
    "from scripts.read_data import read_news\n",
    "from scripts.read_data import read_covid\n",
    "import matplotlib.pyplot as plt \n",
    "from IPython.display import Markdown as md"
   ]
  },
  {
   "cell_type": "code",
   "execution_count": 2,
   "id": "shared-acceptance",
   "metadata": {
    "execution": {
     "iopub.execute_input": "2021-09-24T02:01:02.701974Z",
     "iopub.status.busy": "2021-09-24T02:01:02.701277Z",
     "iopub.status.idle": "2021-09-24T02:01:14.764420Z",
     "shell.execute_reply": "2021-09-24T02:01:14.764963Z"
    },
    "papermill": {
     "duration": 12.082704,
     "end_time": "2021-09-24T02:01:14.765113",
     "exception": false,
     "start_time": "2021-09-24T02:01:02.682409",
     "status": "completed"
    },
    "tags": []
   },
   "outputs": [],
   "source": [
    "#hide_input\n",
    "blockchain = read_news('blockchain') \n",
    "btc = read_news('btc') \n",
    "xrp = read_news('xrp') \n",
    "trx = read_news('trx') \n",
    "eth = read_news('eth')  \n",
    "ada = read_news('ada')\n",
    "exchange = read_news('exchange') "
   ]
  },
  {
   "cell_type": "code",
   "execution_count": 3,
   "id": "synthetic-notion",
   "metadata": {
    "execution": {
     "iopub.execute_input": "2021-09-24T02:01:14.793387Z",
     "iopub.status.busy": "2021-09-24T02:01:14.792741Z",
     "iopub.status.idle": "2021-09-24T02:01:14.796136Z",
     "shell.execute_reply": "2021-09-24T02:01:14.795449Z"
    },
    "papermill": {
     "duration": 0.020093,
     "end_time": "2021-09-24T02:01:14.796256",
     "exception": false,
     "start_time": "2021-09-24T02:01:14.776163",
     "status": "completed"
    },
    "tags": []
   },
   "outputs": [
    {
     "data": {
      "text/markdown": [
       "- Bitcoin’s LN packs a punch, but is it truly far from having security concerns.  Bitcoin’s Lightning Network has been quite the head-turner and is often referred to as a game-changer for the blockchain. The Lightning Network aims to enable fast, digitally native payment infrastructure for BTC without sacrificing its core principles of security, privacy, and availability. At the time of writing, BTC’s Lightning Network had hit an all-time-high capacity [&#8230;] ... [| Skaityti daugiau](https://ambcrypto.com/bitcoins-ln-packs-a-punch-but-is-it-truly-far-from-having-security-concerns/) "
      ],
      "text/plain": [
       "<IPython.core.display.Markdown object>"
      ]
     },
     "execution_count": 3,
     "metadata": {},
     "output_type": "execute_result"
    }
   ],
   "source": [
    "#hide_input\n",
    "#md('##### {}'.format(titleBTC)) \n",
    "md(\"- {}{} {}{} [| Skaityti daugiau]({}) \".format(blockchain['title'],'. ', blockchain['body'], ' ...', blockchain['url']))"
   ]
  },
  {
   "cell_type": "code",
   "execution_count": 4,
   "id": "aging-caution",
   "metadata": {
    "execution": {
     "iopub.execute_input": "2021-09-24T02:01:14.824824Z",
     "iopub.status.busy": "2021-09-24T02:01:14.823636Z",
     "iopub.status.idle": "2021-09-24T02:01:14.827745Z",
     "shell.execute_reply": "2021-09-24T02:01:14.828241Z"
    },
    "papermill": {
     "duration": 0.0192,
     "end_time": "2021-09-24T02:01:14.828363",
     "exception": false,
     "start_time": "2021-09-24T02:01:14.809163",
     "status": "completed"
    },
    "tags": []
   },
   "outputs": [
    {
     "data": {
      "text/markdown": [
       "- Bitcoin Will Truly Drain The Swamp.  The often-quoted phrase could actually mean something if the incentives behind politics change. ... [| Skaityti daugiau](https://bitcoinmagazine.com/culture/bitcoin-drain-the-swamp-trump) "
      ],
      "text/plain": [
       "<IPython.core.display.Markdown object>"
      ]
     },
     "execution_count": 4,
     "metadata": {},
     "output_type": "execute_result"
    }
   ],
   "source": [
    "#hide_input\n",
    "#md('##### {}'.format(titleBTC)) \n",
    "md(\"- {}{} {}{} [| Skaityti daugiau]({}) \".format(btc['title'],'. ', btc['body'], ' ...', btc['url']))"
   ]
  },
  {
   "cell_type": "code",
   "execution_count": 5,
   "id": "organic-actress",
   "metadata": {
    "execution": {
     "iopub.execute_input": "2021-09-24T02:01:14.855135Z",
     "iopub.status.busy": "2021-09-24T02:01:14.853960Z",
     "iopub.status.idle": "2021-09-24T02:01:14.859034Z",
     "shell.execute_reply": "2021-09-24T02:01:14.859809Z"
    },
    "papermill": {
     "duration": 0.020236,
     "end_time": "2021-09-24T02:01:14.859933",
     "exception": false,
     "start_time": "2021-09-24T02:01:14.839697",
     "status": "completed"
    },
    "tags": []
   },
   "outputs": [
    {
     "data": {
      "text/markdown": [
       "- Bhutan’s Central Bank Adopts Ripple’s XRP Ledger To Launch A Digital Version Of Its National Currency.  Key takeaways Ripple announces a partnership with the central bank of Bhutan &#8211; the Royal Monetary Authority (RMA). The RMA plans to issue a CBDC using Ripple&#8217;s open-source XRP Ledger (XRPL). The announcement is a step forward for Ripple that has been fighting a legal battle with the SEC. Ripple Labs Inc, a financial technology [&#8230;] ... [| Skaityti daugiau](https://zycrypto.com/bhutans-central-bank-adopts-ripples-xrp-ledger-to-launch-a-digital-version-of-its-national-currency/) "
      ],
      "text/plain": [
       "<IPython.core.display.Markdown object>"
      ]
     },
     "execution_count": 5,
     "metadata": {},
     "output_type": "execute_result"
    }
   ],
   "source": [
    "#hide_input\n",
    "#md('##### {}'.format(titleBTC)) \n",
    "md(\"- {}{} {}{} [| Skaityti daugiau]({}) \".format(xrp['title'],'. ', xrp['body'], ' ...', xrp['url']))"
   ]
  },
  {
   "cell_type": "code",
   "execution_count": 6,
   "id": "prompt-farmer",
   "metadata": {
    "execution": {
     "iopub.execute_input": "2021-09-24T02:01:14.887304Z",
     "iopub.status.busy": "2021-09-24T02:01:14.886192Z",
     "iopub.status.idle": "2021-09-24T02:01:14.890930Z",
     "shell.execute_reply": "2021-09-24T02:01:14.890352Z"
    },
    "papermill": {
     "duration": 0.019637,
     "end_time": "2021-09-24T02:01:14.891091",
     "exception": false,
     "start_time": "2021-09-24T02:01:14.871454",
     "status": "completed"
    },
    "tags": []
   },
   "outputs": [
    {
     "data": {
      "text/markdown": [
       "- Justin Sun Launches the World’s Third Cryptocurrency ETN.  Justin Sun, founder of TRON, published an open letter to the community on September 20, 2021, regarding the upcoming listing of TRX ETN in 14 EU countries including Germany, France, the Netherlands and Switzerland. According to the letter, VanEck TRX ETN (VTRX) has been officially approved by Deutsche Börse Group and is available for trading [&#8230;]The post Justin Sun Launches the World’s Third Cryptocurrency ETN appeared first on The Daily Hodl. ... [| Skaityti daugiau](https://dailyhodl.com/2021/09/23/justin-sun-launches-the-worlds-third-cryptocurrency-etn/) "
      ],
      "text/plain": [
       "<IPython.core.display.Markdown object>"
      ]
     },
     "execution_count": 6,
     "metadata": {},
     "output_type": "execute_result"
    }
   ],
   "source": [
    "#hide_input\n",
    "#md('##### {}'.format(titleBTC)) \n",
    "md(\"- {}{} {}{} [| Skaityti daugiau]({}) \".format(trx['title'],'. ', trx['body'], ' ...', trx['url']))"
   ]
  },
  {
   "cell_type": "code",
   "execution_count": 7,
   "id": "illegal-greece",
   "metadata": {
    "execution": {
     "iopub.execute_input": "2021-09-24T02:01:14.920195Z",
     "iopub.status.busy": "2021-09-24T02:01:14.919244Z",
     "iopub.status.idle": "2021-09-24T02:01:14.923197Z",
     "shell.execute_reply": "2021-09-24T02:01:14.923809Z"
    },
    "papermill": {
     "duration": 0.020122,
     "end_time": "2021-09-24T02:01:14.923945",
     "exception": false,
     "start_time": "2021-09-24T02:01:14.903823",
     "status": "completed"
    },
    "tags": []
   },
   "outputs": [
    {
     "data": {
      "text/markdown": [
       "- Derivatives data favors Ethereum bulls even with this week's crash below $3K.  Losing the $3,000 mark just days before Friday's $1.55 billion ETH options expiry nearly doomed Ether longs, but derivatives data shows bulls are still in favor.  ... [| Skaityti daugiau](https://cointelegraph.com/news/derivatives-data-favors-ethereum-bulls-even-with-this-week-s-crash-below-3k) "
      ],
      "text/plain": [
       "<IPython.core.display.Markdown object>"
      ]
     },
     "execution_count": 7,
     "metadata": {},
     "output_type": "execute_result"
    }
   ],
   "source": [
    "#hide_input\n",
    "#md('##### {}'.format(titleBTC)) \n",
    "md(\"- {}{} {}{} [| Skaityti daugiau]({}) \".format(eth['title'],'. ', eth['body'], ' ...', eth['url']))"
   ]
  },
  {
   "cell_type": "code",
   "execution_count": 8,
   "id": "sublime-lounge",
   "metadata": {
    "execution": {
     "iopub.execute_input": "2021-09-24T02:01:14.954336Z",
     "iopub.status.busy": "2021-09-24T02:01:14.953106Z",
     "iopub.status.idle": "2021-09-24T02:01:14.957881Z",
     "shell.execute_reply": "2021-09-24T02:01:14.958495Z"
    },
    "papermill": {
     "duration": 0.022115,
     "end_time": "2021-09-24T02:01:14.958618",
     "exception": false,
     "start_time": "2021-09-24T02:01:14.936503",
     "status": "completed"
    },
    "tags": []
   },
   "outputs": [
    {
     "data": {
      "text/markdown": [
       "- Macro Guru Raoul Pal Reveals He Owns Cardano – Here’s His Outlook for This Cycle.  The founder of Real Vision and Global Macro Investor, Raoul Pal, says he is now an investor in Cardano (ADA). In a new interview with Bitboy Crypto, the former Goldman Sachs executive says that he finds ADA interesting and sees potential growth opportunities for the third-largest cryptocurrency by market cap. “You know we&#8217;ve had Charles [&#8230;]The post Macro Guru Raoul Pal Reveals He Owns Cardano – Here&#8217;s His Outlook for This Cycle appeared first on The Daily Hodl. ... [| Skaityti daugiau](https://dailyhodl.com/2021/09/23/macro-guru-raoul-pal-reveals-he-owns-cardano-heres-his-outlook-for-this-cycle/) "
      ],
      "text/plain": [
       "<IPython.core.display.Markdown object>"
      ]
     },
     "execution_count": 8,
     "metadata": {},
     "output_type": "execute_result"
    }
   ],
   "source": [
    "#hide_input\n",
    "#md('##### {}'.format(titleBTC)) \n",
    "md(\"- {}{} {}{} [| Skaityti daugiau]({}) \".format(ada['title'],'. ', ada['body'], ' ...', ada['url']))"
   ]
  },
  {
   "cell_type": "code",
   "execution_count": 9,
   "id": "specified-ordering",
   "metadata": {
    "execution": {
     "iopub.execute_input": "2021-09-24T02:01:14.989745Z",
     "iopub.status.busy": "2021-09-24T02:01:14.989037Z",
     "iopub.status.idle": "2021-09-24T02:01:14.993407Z",
     "shell.execute_reply": "2021-09-24T02:01:14.994012Z"
    },
    "papermill": {
     "duration": 0.021936,
     "end_time": "2021-09-24T02:01:14.994152",
     "exception": false,
     "start_time": "2021-09-24T02:01:14.972216",
     "status": "completed"
    },
    "tags": []
   },
   "outputs": [
    {
     "data": {
      "text/markdown": [
       "- SushiSwap dev disagrees with hacker’s ‘billion dollar’ bug finding.  A SushiSwap vulnerability report published by an anonymous white-hat hacker has been rejected by the developers behind the popular decentralized exchange. The hacker and his alleged vulnerabilities within SushiSwap&#8217;s network first came to light through media reports. In the same, the hacker claimed users could endure losses of funds worth over $1 billion due to [&#8230;] ... [| Skaityti daugiau](https://ambcrypto.com/sushiswap-dev-disagrees-with-hackers-billion-dollar-bug-finding/) "
      ],
      "text/plain": [
       "<IPython.core.display.Markdown object>"
      ]
     },
     "execution_count": 9,
     "metadata": {},
     "output_type": "execute_result"
    }
   ],
   "source": [
    "#hide_input\n",
    "#md('##### {}'.format(titleBTC)) \n",
    "md(\"- {}{} {}{} [| Skaityti daugiau]({}) \".format(exchange['title'],'. ', exchange['body'], ' ...', exchange['url']))"
   ]
  },
  {
   "cell_type": "code",
   "execution_count": null,
   "id": "tender-livestock",
   "metadata": {
    "papermill": {
     "duration": 0.013737,
     "end_time": "2021-09-24T02:01:15.021987",
     "exception": false,
     "start_time": "2021-09-24T02:01:15.008250",
     "status": "completed"
    },
    "tags": []
   },
   "outputs": [],
   "source": []
  },
  {
   "cell_type": "code",
   "execution_count": null,
   "id": "appreciated-diamond",
   "metadata": {
    "papermill": {
     "duration": 0.013106,
     "end_time": "2021-09-24T02:01:15.048378",
     "exception": false,
     "start_time": "2021-09-24T02:01:15.035272",
     "status": "completed"
    },
    "tags": []
   },
   "outputs": [],
   "source": []
  },
  {
   "cell_type": "code",
   "execution_count": null,
   "id": "romance-sweden",
   "metadata": {
    "papermill": {
     "duration": 0.013607,
     "end_time": "2021-09-24T02:01:15.075541",
     "exception": false,
     "start_time": "2021-09-24T02:01:15.061934",
     "status": "completed"
    },
    "tags": []
   },
   "outputs": [],
   "source": []
  },
  {
   "cell_type": "code",
   "execution_count": null,
   "id": "dietary-statistics",
   "metadata": {
    "papermill": {
     "duration": 0.013498,
     "end_time": "2021-09-24T02:01:15.102294",
     "exception": false,
     "start_time": "2021-09-24T02:01:15.088796",
     "status": "completed"
    },
    "tags": []
   },
   "outputs": [],
   "source": []
  }
 ],
 "metadata": {
  "kernelspec": {
   "display_name": "Python 3",
   "language": "python",
   "name": "python3"
  },
  "language_info": {
   "codemirror_mode": {
    "name": "ipython",
    "version": 3
   },
   "file_extension": ".py",
   "mimetype": "text/x-python",
   "name": "python",
   "nbconvert_exporter": "python",
   "pygments_lexer": "ipython3",
   "version": "3.6.15"
  },
  "papermill": {
   "default_parameters": {},
   "duration": 15.382153,
   "end_time": "2021-09-24T02:01:15.524453",
   "environment_variables": {},
   "exception": null,
   "input_path": "Market-News.ipynb",
   "output_path": "Market-News.ipynb",
   "parameters": {},
   "start_time": "2021-09-24T02:01:00.142300",
   "version": "2.2.2"
  }
 },
 "nbformat": 4,
 "nbformat_minor": 5
}