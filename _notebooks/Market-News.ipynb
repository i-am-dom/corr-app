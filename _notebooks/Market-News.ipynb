{
 "cells": [
  {
   "cell_type": "markdown",
   "id": "short-greensboro",
   "metadata": {
    "papermill": {
     "duration": 0.015297,
     "end_time": "2021-08-25T01:56:27.572532",
     "exception": false,
     "start_time": "2021-08-25T01:56:27.557235",
     "status": "completed"
    },
    "tags": []
   },
   "source": [
    "# Kriptovaliutų naujienos"
   ]
  },
  {
   "cell_type": "code",
   "execution_count": 1,
   "id": "functioning-knowing",
   "metadata": {
    "execution": {
     "iopub.execute_input": "2021-08-25T01:56:27.605662Z",
     "iopub.status.busy": "2021-08-25T01:56:27.605022Z",
     "iopub.status.idle": "2021-08-25T01:56:28.999743Z",
     "shell.execute_reply": "2021-08-25T01:56:28.998874Z"
    },
    "papermill": {
     "duration": 1.416348,
     "end_time": "2021-08-25T01:56:28.999894",
     "exception": false,
     "start_time": "2021-08-25T01:56:27.583546",
     "status": "completed"
    },
    "tags": []
   },
   "outputs": [],
   "source": [
    "#hide_input\n",
    "import warnings\n",
    "warnings.filterwarnings('ignore')\n",
    "from scripts.read_data import read_api\n",
    "from scripts.read_data import read_news\n",
    "from scripts.read_data import read_covid\n",
    "import matplotlib.pyplot as plt \n",
    "from IPython.display import Markdown as md"
   ]
  },
  {
   "cell_type": "code",
   "execution_count": 2,
   "id": "shared-acceptance",
   "metadata": {
    "execution": {
     "iopub.execute_input": "2021-08-25T01:56:29.028748Z",
     "iopub.status.busy": "2021-08-25T01:56:29.027668Z",
     "iopub.status.idle": "2021-08-25T01:56:36.826650Z",
     "shell.execute_reply": "2021-08-25T01:56:36.825541Z"
    },
    "papermill": {
     "duration": 7.816209,
     "end_time": "2021-08-25T01:56:36.826831",
     "exception": false,
     "start_time": "2021-08-25T01:56:29.010622",
     "status": "completed"
    },
    "tags": []
   },
   "outputs": [],
   "source": [
    "#hide_input\n",
    "blockchain = read_news('blockchain') \n",
    "btc = read_news('btc') \n",
    "xrp = read_news('xrp') \n",
    "trx = read_news('trx') \n",
    "eth = read_news('eth')  \n",
    "ada = read_news('ada')\n",
    "exchange = read_news('exchange') "
   ]
  },
  {
   "cell_type": "code",
   "execution_count": 3,
   "id": "synthetic-notion",
   "metadata": {
    "execution": {
     "iopub.execute_input": "2021-08-25T01:56:36.854465Z",
     "iopub.status.busy": "2021-08-25T01:56:36.851965Z",
     "iopub.status.idle": "2021-08-25T01:56:36.857682Z",
     "shell.execute_reply": "2021-08-25T01:56:36.857172Z"
    },
    "papermill": {
     "duration": 0.020316,
     "end_time": "2021-08-25T01:56:36.857808",
     "exception": false,
     "start_time": "2021-08-25T01:56:36.837492",
     "status": "completed"
    },
    "tags": []
   },
   "outputs": [
    {
     "data": {
      "text/markdown": [
       "- Terra Surges 281% in 1 Month, Analyst Says ‘$LUNA Carrying the Team Right Now’.  On Tuesday (August 24), as the price of $LUNA, the native token of algorithmic stablecoin platform Terra, surged to a new all-time high of $34.2434, one popular crypto analyst said that $LUNA is “carrying the team right now.” According to Binance Research, Terra is a Proof of Stake (PoS) blockchain. They also say that $LUNA is “used […] ... [| Skaityti daugiau](https://www.cryptoglobe.com/latest/2021/08/terra-surges-281-in-1-month-analyst-says-luna-carrying-the-team-right-now/) "
      ],
      "text/plain": [
       "<IPython.core.display.Markdown object>"
      ]
     },
     "execution_count": 3,
     "metadata": {},
     "output_type": "execute_result"
    }
   ],
   "source": [
    "#hide_input\n",
    "#md('##### {}'.format(titleBTC)) \n",
    "md(\"- {}{} {}{} [| Skaityti daugiau]({}) \".format(blockchain['title'],'. ', blockchain['body'], ' ...', blockchain['url']))"
   ]
  },
  {
   "cell_type": "code",
   "execution_count": 4,
   "id": "aging-caution",
   "metadata": {
    "execution": {
     "iopub.execute_input": "2021-08-25T01:56:36.884555Z",
     "iopub.status.busy": "2021-08-25T01:56:36.883508Z",
     "iopub.status.idle": "2021-08-25T01:56:36.887390Z",
     "shell.execute_reply": "2021-08-25T01:56:36.887878Z"
    },
    "papermill": {
     "duration": 0.019284,
     "end_time": "2021-08-25T01:56:36.888035",
     "exception": false,
     "start_time": "2021-08-25T01:56:36.868751",
     "status": "completed"
    },
    "tags": []
   },
   "outputs": [
    {
     "data": {
      "text/markdown": [
       "- 200 Bitcoin ATMs installed in El Salvador ahead of legal tender adoption.  El Salvador began installing crypto ATMs as the country enters the last two weeks of preparation for the big day when Bitcoin (BTC) will claim its legal tender status. The post 200 Bitcoin ATMs installed in El Salvador ahead of legal tender adoption appeared first on CryptoSlate. ... [| Skaityti daugiau](https://cryptoslate.com/200-bitcoin-atms-installed-in-el-salvador-ahead-of-legal-tender-adoption/) "
      ],
      "text/plain": [
       "<IPython.core.display.Markdown object>"
      ]
     },
     "execution_count": 4,
     "metadata": {},
     "output_type": "execute_result"
    }
   ],
   "source": [
    "#hide_input\n",
    "#md('##### {}'.format(titleBTC)) \n",
    "md(\"- {}{} {}{} [| Skaityti daugiau]({}) \".format(btc['title'],'. ', btc['body'], ' ...', btc['url']))"
   ]
  },
  {
   "cell_type": "code",
   "execution_count": 5,
   "id": "organic-actress",
   "metadata": {
    "execution": {
     "iopub.execute_input": "2021-08-25T01:56:36.916382Z",
     "iopub.status.busy": "2021-08-25T01:56:36.915741Z",
     "iopub.status.idle": "2021-08-25T01:56:36.918562Z",
     "shell.execute_reply": "2021-08-25T01:56:36.919048Z"
    },
    "papermill": {
     "duration": 0.020028,
     "end_time": "2021-08-25T01:56:36.919203",
     "exception": false,
     "start_time": "2021-08-25T01:56:36.899175",
     "status": "completed"
    },
    "tags": []
   },
   "outputs": [
    {
     "data": {
      "text/markdown": [
       "- Widely followed Crypto Trader Predicts Massive 2,300% $XRP Price Rally.  A widely followed cryptocurrency trader has predicted the price of XRP could explode by over 2,300% later this cycle if it manages to break through its previous all-time high, as then there would be little selling pressure stopping it from growing. In a new video, first reported by The Daily Hodl, the pseudonymous trader going […] ... [| Skaityti daugiau](https://www.cryptoglobe.com/latest/2021/08/widely-followed-crypto-trader-predicts-massive-2300-xrp-price-rally/) "
      ],
      "text/plain": [
       "<IPython.core.display.Markdown object>"
      ]
     },
     "execution_count": 5,
     "metadata": {},
     "output_type": "execute_result"
    }
   ],
   "source": [
    "#hide_input\n",
    "#md('##### {}'.format(titleBTC)) \n",
    "md(\"- {}{} {}{} [| Skaityti daugiau]({}) \".format(xrp['title'],'. ', xrp['body'], ' ...', xrp['url']))"
   ]
  },
  {
   "cell_type": "code",
   "execution_count": 6,
   "id": "prompt-farmer",
   "metadata": {
    "execution": {
     "iopub.execute_input": "2021-08-25T01:56:36.947809Z",
     "iopub.status.busy": "2021-08-25T01:56:36.947208Z",
     "iopub.status.idle": "2021-08-25T01:56:36.949566Z",
     "shell.execute_reply": "2021-08-25T01:56:36.950108Z"
    },
    "papermill": {
     "duration": 0.01966,
     "end_time": "2021-08-25T01:56:36.950252",
     "exception": false,
     "start_time": "2021-08-25T01:56:36.930592",
     "status": "completed"
    },
    "tags": []
   },
   "outputs": [
    {
     "data": {
      "text/markdown": [
       "- Cardano, Tron, Uniswap Price Analysis: 22 August.  The lack of strength observed in the broader crypto market impacted the altcoin market negatively with the likes of Cardano, Tron and Uniswap dipping on their respective charts. Despite ADA securing an all-time high, it recorded a slight loss in value over the last 24 hours. TRX was trading underneath its $0.0888 immediate price ceiling [&#8230;] ... [| Skaityti daugiau](https://ambcrypto.com/cardano-tron-uniswap-price-analysis-22-august/) "
      ],
      "text/plain": [
       "<IPython.core.display.Markdown object>"
      ]
     },
     "execution_count": 6,
     "metadata": {},
     "output_type": "execute_result"
    }
   ],
   "source": [
    "#hide_input\n",
    "#md('##### {}'.format(titleBTC)) \n",
    "md(\"- {}{} {}{} [| Skaityti daugiau]({}) \".format(trx['title'],'. ', trx['body'], ' ...', trx['url']))"
   ]
  },
  {
   "cell_type": "code",
   "execution_count": 7,
   "id": "illegal-greece",
   "metadata": {
    "execution": {
     "iopub.execute_input": "2021-08-25T01:56:36.982613Z",
     "iopub.status.busy": "2021-08-25T01:56:36.981979Z",
     "iopub.status.idle": "2021-08-25T01:56:36.984345Z",
     "shell.execute_reply": "2021-08-25T01:56:36.984847Z"
    },
    "papermill": {
     "duration": 0.022947,
     "end_time": "2021-08-25T01:56:36.984996",
     "exception": false,
     "start_time": "2021-08-25T01:56:36.962049",
     "status": "completed"
    },
    "tags": []
   },
   "outputs": [
    {
     "data": {
      "text/markdown": [
       "- 8 Crypto Mining Apps Exposed as Fakes - And 120 More are Still in Business.  Source: AdobeStock / fran_kieEight cryptocurrency cloud mining apps that pretended to offer crypto such as bitcoin (BTC) and ethereum (ETH) to users in return for investments into cloud-mining operations were recently found to be fakes, tricking users into watching ads and paying for subscription services, according to a recent report by US-Japanese cybersecurity firm Trend Micro.The discovered ... [| Skaityti daugiau](https://cryptonews.com/news/8-crypto-mining-apps-exposed-as-fakes-and-120-more-are-still-11537.htm) "
      ],
      "text/plain": [
       "<IPython.core.display.Markdown object>"
      ]
     },
     "execution_count": 7,
     "metadata": {},
     "output_type": "execute_result"
    }
   ],
   "source": [
    "#hide_input\n",
    "#md('##### {}'.format(titleBTC)) \n",
    "md(\"- {}{} {}{} [| Skaityti daugiau]({}) \".format(eth['title'],'. ', eth['body'], ' ...', eth['url']))"
   ]
  },
  {
   "cell_type": "code",
   "execution_count": 8,
   "id": "sublime-lounge",
   "metadata": {
    "execution": {
     "iopub.execute_input": "2021-08-25T01:56:37.015106Z",
     "iopub.status.busy": "2021-08-25T01:56:37.014475Z",
     "iopub.status.idle": "2021-08-25T01:56:37.017239Z",
     "shell.execute_reply": "2021-08-25T01:56:37.017689Z"
    },
    "papermill": {
     "duration": 0.020797,
     "end_time": "2021-08-25T01:56:37.017836",
     "exception": false,
     "start_time": "2021-08-25T01:56:36.997039",
     "status": "completed"
    },
    "tags": []
   },
   "outputs": [
    {
     "data": {
      "text/markdown": [
       "- Institutional Investors Bet on $SOL and $ADA Investment Products as Crypto Market Recovers.  Institutional investors have been betting on Solana ($SOL) and Cardano ($ADA) investment products as the cryptocurrency market recovers and bitcoin moves back toward the $50,000 mark, data shows. According to CoinShares’ latest “Digital Asset Fund Flows Weekly” report, institutional investors moved $7.1 million into Solana investment products over the last week, seemingly reacting to SOL’s recent […] ... [| Skaityti daugiau](https://www.cryptoglobe.com/latest/2021/08/institutional-investors-bet-on-sol-and-ada-investment-products-as-crypto-market-recovers/) "
      ],
      "text/plain": [
       "<IPython.core.display.Markdown object>"
      ]
     },
     "execution_count": 8,
     "metadata": {},
     "output_type": "execute_result"
    }
   ],
   "source": [
    "#hide_input\n",
    "#md('##### {}'.format(titleBTC)) \n",
    "md(\"- {}{} {}{} [| Skaityti daugiau]({}) \".format(ada['title'],'. ', ada['body'], ' ...', ada['url']))"
   ]
  },
  {
   "cell_type": "code",
   "execution_count": 9,
   "id": "specified-ordering",
   "metadata": {
    "execution": {
     "iopub.execute_input": "2021-08-25T01:56:37.048728Z",
     "iopub.status.busy": "2021-08-25T01:56:37.048108Z",
     "iopub.status.idle": "2021-08-25T01:56:37.051690Z",
     "shell.execute_reply": "2021-08-25T01:56:37.051196Z"
    },
    "papermill": {
     "duration": 0.021419,
     "end_time": "2021-08-25T01:56:37.051822",
     "exception": false,
     "start_time": "2021-08-25T01:56:37.030403",
     "status": "completed"
    },
    "tags": []
   },
   "outputs": [
    {
     "data": {
      "text/markdown": [
       "- Terra Surges 281% in 1 Month, Analyst Says ‘$LUNA Carrying the Team Right Now’.  On Tuesday (August 24), as the price of $LUNA, the native token of algorithmic stablecoin platform Terra, surged to a new all-time high of $34.2434, one popular crypto analyst said that $LUNA is “carrying the team right now.” According to Binance Research, Terra is a Proof of Stake (PoS) blockchain. They also say that $LUNA is “used […] ... [| Skaityti daugiau](https://www.cryptoglobe.com/latest/2021/08/terra-surges-281-in-1-month-analyst-says-luna-carrying-the-team-right-now/) "
      ],
      "text/plain": [
       "<IPython.core.display.Markdown object>"
      ]
     },
     "execution_count": 9,
     "metadata": {},
     "output_type": "execute_result"
    }
   ],
   "source": [
    "#hide_input\n",
    "#md('##### {}'.format(titleBTC)) \n",
    "md(\"- {}{} {}{} [| Skaityti daugiau]({}) \".format(exchange['title'],'. ', exchange['body'], ' ...', exchange['url']))"
   ]
  },
  {
   "cell_type": "code",
   "execution_count": null,
   "id": "tender-livestock",
   "metadata": {
    "papermill": {
     "duration": 0.012728,
     "end_time": "2021-08-25T01:56:37.077533",
     "exception": false,
     "start_time": "2021-08-25T01:56:37.064805",
     "status": "completed"
    },
    "tags": []
   },
   "outputs": [],
   "source": []
  },
  {
   "cell_type": "code",
   "execution_count": null,
   "id": "appreciated-diamond",
   "metadata": {
    "papermill": {
     "duration": 0.012705,
     "end_time": "2021-08-25T01:56:37.103158",
     "exception": false,
     "start_time": "2021-08-25T01:56:37.090453",
     "status": "completed"
    },
    "tags": []
   },
   "outputs": [],
   "source": []
  },
  {
   "cell_type": "code",
   "execution_count": null,
   "id": "romance-sweden",
   "metadata": {
    "papermill": {
     "duration": 0.012531,
     "end_time": "2021-08-25T01:56:37.128264",
     "exception": false,
     "start_time": "2021-08-25T01:56:37.115733",
     "status": "completed"
    },
    "tags": []
   },
   "outputs": [],
   "source": []
  },
  {
   "cell_type": "code",
   "execution_count": null,
   "id": "dietary-statistics",
   "metadata": {
    "papermill": {
     "duration": 0.012569,
     "end_time": "2021-08-25T01:56:37.153510",
     "exception": false,
     "start_time": "2021-08-25T01:56:37.140941",
     "status": "completed"
    },
    "tags": []
   },
   "outputs": [],
   "source": []
  }
 ],
 "metadata": {
  "kernelspec": {
   "display_name": "Python 3",
   "language": "python",
   "name": "python3"
  },
  "language_info": {
   "codemirror_mode": {
    "name": "ipython",
    "version": 3
   },
   "file_extension": ".py",
   "mimetype": "text/x-python",
   "name": "python",
   "nbconvert_exporter": "python",
   "pygments_lexer": "ipython3",
   "version": "3.6.14"
  },
  "papermill": {
   "default_parameters": {},
   "duration": 11.203725,
   "end_time": "2021-08-25T01:56:37.675726",
   "environment_variables": {},
   "exception": null,
   "input_path": "Market-News.ipynb",
   "output_path": "Market-News.ipynb",
   "parameters": {},
   "start_time": "2021-08-25T01:56:26.472001",
   "version": "2.2.2"
  }
 },
 "nbformat": 4,
 "nbformat_minor": 5
}