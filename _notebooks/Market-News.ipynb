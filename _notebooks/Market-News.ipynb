{
 "cells": [
  {
   "cell_type": "markdown",
   "id": "short-greensboro",
   "metadata": {
    "papermill": {
     "duration": 0.014544,
     "end_time": "2021-07-19T02:00:56.637992",
     "exception": false,
     "start_time": "2021-07-19T02:00:56.623448",
     "status": "completed"
    },
    "tags": []
   },
   "source": [
    "# Kriptovaliutų naujienos"
   ]
  },
  {
   "cell_type": "code",
   "execution_count": 1,
   "id": "functioning-knowing",
   "metadata": {
    "execution": {
     "iopub.execute_input": "2021-07-19T02:00:56.671207Z",
     "iopub.status.busy": "2021-07-19T02:00:56.670583Z",
     "iopub.status.idle": "2021-07-19T02:00:58.048870Z",
     "shell.execute_reply": "2021-07-19T02:00:58.047874Z"
    },
    "papermill": {
     "duration": 1.400154,
     "end_time": "2021-07-19T02:00:58.049023",
     "exception": false,
     "start_time": "2021-07-19T02:00:56.648869",
     "status": "completed"
    },
    "tags": []
   },
   "outputs": [],
   "source": [
    "#hide_input\n",
    "import warnings\n",
    "warnings.filterwarnings('ignore')\n",
    "from scripts.read_data import read_api\n",
    "from scripts.read_data import read_news\n",
    "from scripts.read_data import read_covid\n",
    "import matplotlib.pyplot as plt \n",
    "from IPython.display import Markdown as md"
   ]
  },
  {
   "cell_type": "code",
   "execution_count": 2,
   "id": "shared-acceptance",
   "metadata": {
    "execution": {
     "iopub.execute_input": "2021-07-19T02:00:58.076440Z",
     "iopub.status.busy": "2021-07-19T02:00:58.075783Z",
     "iopub.status.idle": "2021-07-19T02:01:05.965074Z",
     "shell.execute_reply": "2021-07-19T02:01:05.964565Z"
    },
    "papermill": {
     "duration": 7.905881,
     "end_time": "2021-07-19T02:01:05.965237",
     "exception": false,
     "start_time": "2021-07-19T02:00:58.059356",
     "status": "completed"
    },
    "tags": []
   },
   "outputs": [],
   "source": [
    "#hide_input\n",
    "blockchain = read_news('blockchain') \n",
    "btc = read_news('btc') \n",
    "xrp = read_news('xrp') \n",
    "trx = read_news('trx') \n",
    "eth = read_news('eth')  \n",
    "ada = read_news('ada')\n",
    "exchange = read_news('exchange') "
   ]
  },
  {
   "cell_type": "code",
   "execution_count": 3,
   "id": "synthetic-notion",
   "metadata": {
    "execution": {
     "iopub.execute_input": "2021-07-19T02:01:05.991516Z",
     "iopub.status.busy": "2021-07-19T02:01:05.990921Z",
     "iopub.status.idle": "2021-07-19T02:01:05.996493Z",
     "shell.execute_reply": "2021-07-19T02:01:05.996028Z"
    },
    "papermill": {
     "duration": 0.02035,
     "end_time": "2021-07-19T02:01:05.996617",
     "exception": false,
     "start_time": "2021-07-19T02:01:05.976267",
     "status": "completed"
    },
    "tags": []
   },
   "outputs": [
    {
     "data": {
      "text/markdown": [
       "- With this Bitcoin development, here’s what you can expect.  Bitcoin’s second layer payment protocol, Lightning network has been rapidly expanding its capacity in the past few years. Ever since it was introduced, it has been enabling faster transactions on Bitcoin, thus addressing the network&#8217;s scalability issue. Since its launch, the network&#8217;s capacity has nearly doubled from under 1,000 BTC to 1,806 BTC. This year, [&#8230;] ... [| Skaityti daugiau](https://ambcrypto.com/with-this-bitcoin-development-heres-what-you-can-expect/) "
      ],
      "text/plain": [
       "<IPython.core.display.Markdown object>"
      ]
     },
     "execution_count": 3,
     "metadata": {},
     "output_type": "execute_result"
    }
   ],
   "source": [
    "#hide_input\n",
    "#md('##### {}'.format(titleBTC)) \n",
    "md(\"- {}{} {}{} [| Skaityti daugiau]({}) \".format(blockchain['title'],'. ', blockchain['body'], ' ...', blockchain['url']))"
   ]
  },
  {
   "cell_type": "code",
   "execution_count": 4,
   "id": "aging-caution",
   "metadata": {
    "execution": {
     "iopub.execute_input": "2021-07-19T02:01:06.023115Z",
     "iopub.status.busy": "2021-07-19T02:01:06.022534Z",
     "iopub.status.idle": "2021-07-19T02:01:06.027134Z",
     "shell.execute_reply": "2021-07-19T02:01:06.026573Z"
    },
    "papermill": {
     "duration": 0.019933,
     "end_time": "2021-07-19T02:01:06.027249",
     "exception": false,
     "start_time": "2021-07-19T02:01:06.007316",
     "status": "completed"
    },
    "tags": []
   },
   "outputs": [
    {
     "data": {
      "text/markdown": [
       "- Bitcoin: Is this a point of maximum financial opportunity?.  Amidst an ongoing bearish scenario, Bitcoin may potentially be stepping into a &#8220;crypto winter,&#8221; which is, a phase of heavy losses followed by a sustained period of stagnation. When the same happened between 2018 and early 2020, the crypto space was able to outgrow it eventually, and register recovery. Warren Buffett, the “Sage of Omaha,&#8221; [&#8230;] ... [| Skaityti daugiau](https://ambcrypto.com/bitcoin-is-this-a-point-of-maximum-financial-opportunity/) "
      ],
      "text/plain": [
       "<IPython.core.display.Markdown object>"
      ]
     },
     "execution_count": 4,
     "metadata": {},
     "output_type": "execute_result"
    }
   ],
   "source": [
    "#hide_input\n",
    "#md('##### {}'.format(titleBTC)) \n",
    "md(\"- {}{} {}{} [| Skaityti daugiau]({}) \".format(btc['title'],'. ', btc['body'], ' ...', btc['url']))"
   ]
  },
  {
   "cell_type": "code",
   "execution_count": 5,
   "id": "organic-actress",
   "metadata": {
    "execution": {
     "iopub.execute_input": "2021-07-19T02:01:06.055107Z",
     "iopub.status.busy": "2021-07-19T02:01:06.054322Z",
     "iopub.status.idle": "2021-07-19T02:01:06.056685Z",
     "shell.execute_reply": "2021-07-19T02:01:06.057134Z"
    },
    "papermill": {
     "duration": 0.019257,
     "end_time": "2021-07-19T02:01:06.057288",
     "exception": false,
     "start_time": "2021-07-19T02:01:06.038031",
     "status": "completed"
    },
    "tags": []
   },
   "outputs": [
    {
     "data": {
      "text/markdown": [
       "- Why setting up this trade could be worth it for XRP traders.  July has been a difficult month for XRP so far. The digital asset kickstarted the month with a value of $0.70 but has since retraced to a low of $0.56. Its decline was cushioned by a defensive line of $0.580- a region where XRP has lingered over the past four days. At the time of [&#8230;] ... [| Skaityti daugiau](https://ambcrypto.com/why-setting-up-this-trade-could-be-worth-it-for-xrp-traders/) "
      ],
      "text/plain": [
       "<IPython.core.display.Markdown object>"
      ]
     },
     "execution_count": 5,
     "metadata": {},
     "output_type": "execute_result"
    }
   ],
   "source": [
    "#hide_input\n",
    "#md('##### {}'.format(titleBTC)) \n",
    "md(\"- {}{} {}{} [| Skaityti daugiau]({}) \".format(xrp['title'],'. ', xrp['body'], ' ...', xrp['url']))"
   ]
  },
  {
   "cell_type": "code",
   "execution_count": 6,
   "id": "prompt-farmer",
   "metadata": {
    "execution": {
     "iopub.execute_input": "2021-07-19T02:01:06.089420Z",
     "iopub.status.busy": "2021-07-19T02:01:06.088797Z",
     "iopub.status.idle": "2021-07-19T02:01:06.092070Z",
     "shell.execute_reply": "2021-07-19T02:01:06.091614Z"
    },
    "papermill": {
     "duration": 0.021909,
     "end_time": "2021-07-19T02:01:06.092191",
     "exception": false,
     "start_time": "2021-07-19T02:01:06.070282",
     "status": "completed"
    },
    "tags": []
   },
   "outputs": [
    {
     "data": {
      "text/markdown": [
       "- Cardano, TRON, AAVE Price Analysis: 14 July.  As Bitcoin’s price tanked today, all major altcoins were trading in the red too. As observed with the altcoins, many of them trailed below their crucial support levels awaiting a retracement. ADA’s market cap declined by 4.03%, TRX registered an 8.9% decline in market price over the last week, and AAVE, despite a downtrend, observed [&#8230;] ... [| Skaityti daugiau](https://ambcrypto.com/cardano-tron-aave-price-analysis-14-july/) "
      ],
      "text/plain": [
       "<IPython.core.display.Markdown object>"
      ]
     },
     "execution_count": 6,
     "metadata": {},
     "output_type": "execute_result"
    }
   ],
   "source": [
    "#hide_input\n",
    "#md('##### {}'.format(titleBTC)) \n",
    "md(\"- {}{} {}{} [| Skaityti daugiau]({}) \".format(trx['title'],'. ', trx['body'], ' ...', trx['url']))"
   ]
  },
  {
   "cell_type": "code",
   "execution_count": 7,
   "id": "illegal-greece",
   "metadata": {
    "execution": {
     "iopub.execute_input": "2021-07-19T02:01:06.122891Z",
     "iopub.status.busy": "2021-07-19T02:01:06.122310Z",
     "iopub.status.idle": "2021-07-19T02:01:06.125507Z",
     "shell.execute_reply": "2021-07-19T02:01:06.126047Z"
    },
    "papermill": {
     "duration": 0.022006,
     "end_time": "2021-07-19T02:01:06.126188",
     "exception": false,
     "start_time": "2021-07-19T02:01:06.104182",
     "status": "completed"
    },
    "tags": []
   },
   "outputs": [
    {
     "data": {
      "text/markdown": [
       "- Thether Hasn’t Issued USDT on Ethereum Since May: CTO Not Concerned.  The leading stablecoin has not been minted on Ethereum for nearly two months, but Tether CTO is not worried. ... [| Skaityti daugiau](https://cryptopotato.com/no-usdt-issuance-on-ethereum-since-may-as-competition-stiffen-but-tether-is-unconcerned/) "
      ],
      "text/plain": [
       "<IPython.core.display.Markdown object>"
      ]
     },
     "execution_count": 7,
     "metadata": {},
     "output_type": "execute_result"
    }
   ],
   "source": [
    "#hide_input\n",
    "#md('##### {}'.format(titleBTC)) \n",
    "md(\"- {}{} {}{} [| Skaityti daugiau]({}) \".format(eth['title'],'. ', eth['body'], ' ...', eth['url']))"
   ]
  },
  {
   "cell_type": "code",
   "execution_count": 8,
   "id": "sublime-lounge",
   "metadata": {
    "execution": {
     "iopub.execute_input": "2021-07-19T02:01:06.157060Z",
     "iopub.status.busy": "2021-07-19T02:01:06.156226Z",
     "iopub.status.idle": "2021-07-19T02:01:06.159098Z",
     "shell.execute_reply": "2021-07-19T02:01:06.159753Z"
    },
    "papermill": {
     "duration": 0.021813,
     "end_time": "2021-07-19T02:01:06.160072",
     "exception": false,
     "start_time": "2021-07-19T02:01:06.138259",
     "status": "completed"
    },
    "tags": []
   },
   "outputs": [
    {
     "data": {
      "text/markdown": [
       "- Smart Contracts One Step Closer to Hitting the Cardano Network, ADA Poised to Swell in Response.  Smart contracts are coming to Cardano at a faster pace. Upon the recent implementation of the Alonzo White upgrade, the network has accelerated the anticipated levels of users of Cardano, who are awaiting the release of smart contracts to the network. The journey so far Recall that on the 14th of July, IOHK noted the [&#8230;] ... [| Skaityti daugiau](https://zycrypto.com/smart-contracts-one-step-closer-to-hitting-the-cardano-network-ada-poised-to-swell-in-response/) "
      ],
      "text/plain": [
       "<IPython.core.display.Markdown object>"
      ]
     },
     "execution_count": 8,
     "metadata": {},
     "output_type": "execute_result"
    }
   ],
   "source": [
    "#hide_input\n",
    "#md('##### {}'.format(titleBTC)) \n",
    "md(\"- {}{} {}{} [| Skaityti daugiau]({}) \".format(ada['title'],'. ', ada['body'], ' ...', ada['url']))"
   ]
  },
  {
   "cell_type": "code",
   "execution_count": 9,
   "id": "specified-ordering",
   "metadata": {
    "execution": {
     "iopub.execute_input": "2021-07-19T02:01:06.191657Z",
     "iopub.status.busy": "2021-07-19T02:01:06.191038Z",
     "iopub.status.idle": "2021-07-19T02:01:06.194405Z",
     "shell.execute_reply": "2021-07-19T02:01:06.195069Z"
    },
    "papermill": {
     "duration": 0.021654,
     "end_time": "2021-07-19T02:01:06.195407",
     "exception": false,
     "start_time": "2021-07-19T02:01:06.173753",
     "status": "completed"
    },
    "tags": []
   },
   "outputs": [
    {
     "data": {
      "text/markdown": [
       "- Bithumb Terminates Trademark Agreements With 2 Foreign-Based Exchanges.  Leading Korean crypto exchange Bithumb is terminating its trademark agreements with two coin trading platforms operating abroad under its brand name. The move comes as digital asset exchanges in South Korea prepare to comply with the country&#8217;s stricter regulations for the industry that will be enforced in September. Bithumb Global and Bithumb Singapore to Change [&#8230;] ... [| Skaityti daugiau](https://news.bitcoin.com/bithumb-terminates-trademark-agreements-with-2-foreign-based-exchanges/) "
      ],
      "text/plain": [
       "<IPython.core.display.Markdown object>"
      ]
     },
     "execution_count": 9,
     "metadata": {},
     "output_type": "execute_result"
    }
   ],
   "source": [
    "#hide_input\n",
    "#md('##### {}'.format(titleBTC)) \n",
    "md(\"- {}{} {}{} [| Skaityti daugiau]({}) \".format(exchange['title'],'. ', exchange['body'], ' ...', exchange['url']))"
   ]
  },
  {
   "cell_type": "code",
   "execution_count": null,
   "id": "tender-livestock",
   "metadata": {
    "papermill": {
     "duration": 0.0127,
     "end_time": "2021-07-19T02:01:06.222553",
     "exception": false,
     "start_time": "2021-07-19T02:01:06.209853",
     "status": "completed"
    },
    "tags": []
   },
   "outputs": [],
   "source": []
  },
  {
   "cell_type": "code",
   "execution_count": null,
   "id": "appreciated-diamond",
   "metadata": {
    "papermill": {
     "duration": 0.012654,
     "end_time": "2021-07-19T02:01:06.247894",
     "exception": false,
     "start_time": "2021-07-19T02:01:06.235240",
     "status": "completed"
    },
    "tags": []
   },
   "outputs": [],
   "source": []
  },
  {
   "cell_type": "code",
   "execution_count": null,
   "id": "romance-sweden",
   "metadata": {
    "papermill": {
     "duration": 0.012716,
     "end_time": "2021-07-19T02:01:06.273227",
     "exception": false,
     "start_time": "2021-07-19T02:01:06.260511",
     "status": "completed"
    },
    "tags": []
   },
   "outputs": [],
   "source": []
  },
  {
   "cell_type": "code",
   "execution_count": null,
   "id": "dietary-statistics",
   "metadata": {
    "papermill": {
     "duration": 0.012605,
     "end_time": "2021-07-19T02:01:06.299358",
     "exception": false,
     "start_time": "2021-07-19T02:01:06.286753",
     "status": "completed"
    },
    "tags": []
   },
   "outputs": [],
   "source": []
  }
 ],
 "metadata": {
  "kernelspec": {
   "display_name": "Python 3",
   "language": "python",
   "name": "python3"
  },
  "language_info": {
   "codemirror_mode": {
    "name": "ipython",
    "version": 3
   },
   "file_extension": ".py",
   "mimetype": "text/x-python",
   "name": "python",
   "nbconvert_exporter": "python",
   "pygments_lexer": "ipython3",
   "version": "3.6.14"
  },
  "papermill": {
   "default_parameters": {},
   "duration": 12.319234,
   "end_time": "2021-07-19T02:01:07.685661",
   "environment_variables": {},
   "exception": null,
   "input_path": "Market-News.ipynb",
   "output_path": "Market-News.ipynb",
   "parameters": {},
   "start_time": "2021-07-19T02:00:55.366427",
   "version": "2.2.2"
  }
 },
 "nbformat": 4,
 "nbformat_minor": 5
}