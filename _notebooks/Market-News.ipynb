{
 "cells": [
  {
   "cell_type": "markdown",
   "id": "short-greensboro",
   "metadata": {
    "papermill": {
     "duration": 0.014985,
     "end_time": "2021-10-26T01:57:59.615952",
     "exception": false,
     "start_time": "2021-10-26T01:57:59.600967",
     "status": "completed"
    },
    "tags": []
   },
   "source": [
    "# Kriptovaliutų naujienos"
   ]
  },
  {
   "cell_type": "code",
   "execution_count": 1,
   "id": "functioning-knowing",
   "metadata": {
    "execution": {
     "iopub.execute_input": "2021-10-26T01:57:59.651411Z",
     "iopub.status.busy": "2021-10-26T01:57:59.650770Z",
     "iopub.status.idle": "2021-10-26T01:58:01.122267Z",
     "shell.execute_reply": "2021-10-26T01:58:01.121082Z"
    },
    "papermill": {
     "duration": 1.495389,
     "end_time": "2021-10-26T01:58:01.122450",
     "exception": false,
     "start_time": "2021-10-26T01:57:59.627061",
     "status": "completed"
    },
    "tags": []
   },
   "outputs": [],
   "source": [
    "#hide_input\n",
    "import warnings\n",
    "warnings.filterwarnings('ignore')\n",
    "from scripts.read_data import read_api\n",
    "from scripts.read_data import read_news\n",
    "from scripts.read_data import read_covid\n",
    "import matplotlib.pyplot as plt \n",
    "from IPython.display import Markdown as md"
   ]
  },
  {
   "cell_type": "code",
   "execution_count": 2,
   "id": "shared-acceptance",
   "metadata": {
    "execution": {
     "iopub.execute_input": "2021-10-26T01:58:01.151008Z",
     "iopub.status.busy": "2021-10-26T01:58:01.150217Z",
     "iopub.status.idle": "2021-10-26T01:58:08.527808Z",
     "shell.execute_reply": "2021-10-26T01:58:08.528334Z"
    },
    "papermill": {
     "duration": 7.395552,
     "end_time": "2021-10-26T01:58:08.528498",
     "exception": false,
     "start_time": "2021-10-26T01:58:01.132946",
     "status": "completed"
    },
    "tags": []
   },
   "outputs": [],
   "source": [
    "#hide_input\n",
    "blockchain = read_news('blockchain') \n",
    "btc = read_news('btc') \n",
    "xrp = read_news('xrp') \n",
    "trx = read_news('trx') \n",
    "eth = read_news('eth')  \n",
    "ada = read_news('ada')\n",
    "exchange = read_news('exchange') "
   ]
  },
  {
   "cell_type": "code",
   "execution_count": 3,
   "id": "synthetic-notion",
   "metadata": {
    "execution": {
     "iopub.execute_input": "2021-10-26T01:58:08.557852Z",
     "iopub.status.busy": "2021-10-26T01:58:08.557195Z",
     "iopub.status.idle": "2021-10-26T01:58:08.561339Z",
     "shell.execute_reply": "2021-10-26T01:58:08.560859Z"
    },
    "papermill": {
     "duration": 0.022029,
     "end_time": "2021-10-26T01:58:08.561468",
     "exception": false,
     "start_time": "2021-10-26T01:58:08.539439",
     "status": "completed"
    },
    "tags": []
   },
   "outputs": [
    {
     "data": {
      "text/markdown": [
       "- Riot Blockchain: Not The Best Of Breed.  By many popular metrics, Riot is below par.Often used measures indicate that the company is of poor value.Profitability leaves a lot to be desired.Other Bitcoin miners offer a better alternative. ... [| Skaityti daugiau](https://seekingalpha.com/article/4461888-riot-blockchain-not-the-best-of-breed?utm_source=cryptocompare.com&utm_medium=referral) "
      ],
      "text/plain": [
       "<IPython.core.display.Markdown object>"
      ]
     },
     "execution_count": 3,
     "metadata": {},
     "output_type": "execute_result"
    }
   ],
   "source": [
    "#hide_input\n",
    "#md('##### {}'.format(titleBTC)) \n",
    "md(\"- {}{} {}{} [| Skaityti daugiau]({}) \".format(blockchain['title'],'. ', blockchain['body'], ' ...', blockchain['url']))"
   ]
  },
  {
   "cell_type": "code",
   "execution_count": 4,
   "id": "aging-caution",
   "metadata": {
    "execution": {
     "iopub.execute_input": "2021-10-26T01:58:08.587886Z",
     "iopub.status.busy": "2021-10-26T01:58:08.587281Z",
     "iopub.status.idle": "2021-10-26T01:58:08.592781Z",
     "shell.execute_reply": "2021-10-26T01:58:08.592273Z"
    },
    "papermill": {
     "duration": 0.021045,
     "end_time": "2021-10-26T01:58:08.592901",
     "exception": false,
     "start_time": "2021-10-26T01:58:08.571856",
     "status": "completed"
    },
    "tags": []
   },
   "outputs": [
    {
     "data": {
      "text/markdown": [
       "- ‘Homework’ helped these investors realize they ‘need to own a piece of Bitcoin’.  Bitcoin&#8216;s continued rise in popularity and valuation has made it impossible to ignore the cryptocurrency asset for both, retail and institutional investors alike. For those that are still apprehensive, hedge fund manager Anthony Scaramucci has some advice. Speaking to CNBC, the founder of SkyBridge Capital argued that anyone that does their due diligence regarding the [&#8230;] ... [| Skaityti daugiau](https://ambcrypto.com/homework-helped-these-investors-realize-they-need-to-own-a-piece-of-bitcoin/) "
      ],
      "text/plain": [
       "<IPython.core.display.Markdown object>"
      ]
     },
     "execution_count": 4,
     "metadata": {},
     "output_type": "execute_result"
    }
   ],
   "source": [
    "#hide_input\n",
    "#md('##### {}'.format(titleBTC)) \n",
    "md(\"- {}{} {}{} [| Skaityti daugiau]({}) \".format(btc['title'],'. ', btc['body'], ' ...', btc['url']))"
   ]
  },
  {
   "cell_type": "code",
   "execution_count": 5,
   "id": "organic-actress",
   "metadata": {
    "execution": {
     "iopub.execute_input": "2021-10-26T01:58:08.620419Z",
     "iopub.status.busy": "2021-10-26T01:58:08.618517Z",
     "iopub.status.idle": "2021-10-26T01:58:08.623829Z",
     "shell.execute_reply": "2021-10-26T01:58:08.624308Z"
    },
    "papermill": {
     "duration": 0.02075,
     "end_time": "2021-10-26T01:58:08.624447",
     "exception": false,
     "start_time": "2021-10-26T01:58:08.603697",
     "status": "completed"
    },
    "tags": []
   },
   "outputs": [
    {
     "data": {
      "text/markdown": [
       "- Price analysis 10/25: BTC, ETH, BNB, ADA, XRP, SOL, DOT, DOGE, LUNA, UNI.  Bitcoin and several altcoins are attempting to resume their uptrend, but higher levels are likely to witness strong resistance from the bears. ... [| Skaityti daugiau](https://cointelegraph.com/news/price-analysis-10-25-btc-eth-bnb-ada-xrp-sol-dot-doge-luna-uni) "
      ],
      "text/plain": [
       "<IPython.core.display.Markdown object>"
      ]
     },
     "execution_count": 5,
     "metadata": {},
     "output_type": "execute_result"
    }
   ],
   "source": [
    "#hide_input\n",
    "#md('##### {}'.format(titleBTC)) \n",
    "md(\"- {}{} {}{} [| Skaityti daugiau]({}) \".format(xrp['title'],'. ', xrp['body'], ' ...', xrp['url']))"
   ]
  },
  {
   "cell_type": "code",
   "execution_count": 6,
   "id": "prompt-farmer",
   "metadata": {
    "execution": {
     "iopub.execute_input": "2021-10-26T01:58:08.653142Z",
     "iopub.status.busy": "2021-10-26T01:58:08.652499Z",
     "iopub.status.idle": "2021-10-26T01:58:08.655560Z",
     "shell.execute_reply": "2021-10-26T01:58:08.656038Z"
    },
    "papermill": {
     "duration": 0.020515,
     "end_time": "2021-10-26T01:58:08.656177",
     "exception": false,
     "start_time": "2021-10-26T01:58:08.635662",
     "status": "completed"
    },
    "tags": []
   },
   "outputs": [
    {
     "data": {
      "text/markdown": [
       "- Shiba Inu, Tron, Uniswap Price Analysis: 20 October.  While Bitcoin hits the $63,000 mark, altcoins like SHIB and UNI show bearish signs. However, TRX seemed to follow in the footsteps of the King coin and showing some signs of recovery on the charts. Nevertheless, all of these coins show weak directional price trends in the near term. SHIB SHIB saw a 2.26% decrease [&#8230;] ... [| Skaityti daugiau](https://ambcrypto.com/shiba-inu-tron-uniswap-price-analysis-20-october/) "
      ],
      "text/plain": [
       "<IPython.core.display.Markdown object>"
      ]
     },
     "execution_count": 6,
     "metadata": {},
     "output_type": "execute_result"
    }
   ],
   "source": [
    "#hide_input\n",
    "#md('##### {}'.format(titleBTC)) \n",
    "md(\"- {}{} {}{} [| Skaityti daugiau]({}) \".format(trx['title'],'. ', trx['body'], ' ...', trx['url']))"
   ]
  },
  {
   "cell_type": "code",
   "execution_count": 7,
   "id": "illegal-greece",
   "metadata": {
    "execution": {
     "iopub.execute_input": "2021-10-26T01:58:08.688547Z",
     "iopub.status.busy": "2021-10-26T01:58:08.687431Z",
     "iopub.status.idle": "2021-10-26T01:58:08.691869Z",
     "shell.execute_reply": "2021-10-26T01:58:08.692357Z"
    },
    "papermill": {
     "duration": 0.024591,
     "end_time": "2021-10-26T01:58:08.692505",
     "exception": false,
     "start_time": "2021-10-26T01:58:08.667914",
     "status": "completed"
    },
    "tags": []
   },
   "outputs": [
    {
     "data": {
      "text/markdown": [
       "- Solana vs Cardano: which altcoin will best the other, and can either ‘kill’ Ethereum.  Cardano and Solana, the fourth and sixth-biggest blockchains by market cap respectively, boast of rising altcoins and smart contract capabilities. What&#8217;s more, both have been called &#8220;Ethereum killers&#8221; as they are doing their best to draw in users frustrated with Ethereum&#8217;s gas fees. Here is the question on investors&#8217; minds: which one will win? Crypto [&#8230;] ... [| Skaityti daugiau](https://ambcrypto.com/solana-vs-cardano-which-altcoin-will-best-the-other-and-can-either-kill-ethereum/) "
      ],
      "text/plain": [
       "<IPython.core.display.Markdown object>"
      ]
     },
     "execution_count": 7,
     "metadata": {},
     "output_type": "execute_result"
    }
   ],
   "source": [
    "#hide_input\n",
    "#md('##### {}'.format(titleBTC)) \n",
    "md(\"- {}{} {}{} [| Skaityti daugiau]({}) \".format(eth['title'],'. ', eth['body'], ' ...', eth['url']))"
   ]
  },
  {
   "cell_type": "code",
   "execution_count": 8,
   "id": "sublime-lounge",
   "metadata": {
    "execution": {
     "iopub.execute_input": "2021-10-26T01:58:08.730455Z",
     "iopub.status.busy": "2021-10-26T01:58:08.729698Z",
     "iopub.status.idle": "2021-10-26T01:58:08.732476Z",
     "shell.execute_reply": "2021-10-26T01:58:08.731008Z"
    },
    "papermill": {
     "duration": 0.026064,
     "end_time": "2021-10-26T01:58:08.732605",
     "exception": false,
     "start_time": "2021-10-26T01:58:08.706541",
     "status": "completed"
    },
    "tags": []
   },
   "outputs": [
    {
     "data": {
      "text/markdown": [
       "- Solana vs Cardano: which altcoin will best the other, and can either ‘kill’ Ethereum.  Cardano and Solana, the fourth and sixth-biggest blockchains by market cap respectively, boast of rising altcoins and smart contract capabilities. What&#8217;s more, both have been called &#8220;Ethereum killers&#8221; as they are doing their best to draw in users frustrated with Ethereum&#8217;s gas fees. Here is the question on investors&#8217; minds: which one will win? Crypto [&#8230;] ... [| Skaityti daugiau](https://ambcrypto.com/solana-vs-cardano-which-altcoin-will-best-the-other-and-can-either-kill-ethereum/) "
      ],
      "text/plain": [
       "<IPython.core.display.Markdown object>"
      ]
     },
     "execution_count": 8,
     "metadata": {},
     "output_type": "execute_result"
    }
   ],
   "source": [
    "#hide_input\n",
    "#md('##### {}'.format(titleBTC)) \n",
    "md(\"- {}{} {}{} [| Skaityti daugiau]({}) \".format(ada['title'],'. ', ada['body'], ' ...', ada['url']))"
   ]
  },
  {
   "cell_type": "code",
   "execution_count": 9,
   "id": "specified-ordering",
   "metadata": {
    "execution": {
     "iopub.execute_input": "2021-10-26T01:58:08.764788Z",
     "iopub.status.busy": "2021-10-26T01:58:08.764162Z",
     "iopub.status.idle": "2021-10-26T01:58:08.770848Z",
     "shell.execute_reply": "2021-10-26T01:58:08.770262Z"
    },
    "papermill": {
     "duration": 0.024984,
     "end_time": "2021-10-26T01:58:08.770978",
     "exception": false,
     "start_time": "2021-10-26T01:58:08.745994",
     "status": "completed"
    },
    "tags": []
   },
   "outputs": [
    {
     "data": {
      "text/markdown": [
       "- Peer-to-Peer Bitcoin Exchange LocalBitcoins Launches Mobile App.  LocalBitcoins' app is now available on Android, with iOS coming soon. ... [| Skaityti daugiau](https://decrypt.co/84387/bitcoin-trading-localbitcoins-mobile-app) "
      ],
      "text/plain": [
       "<IPython.core.display.Markdown object>"
      ]
     },
     "execution_count": 9,
     "metadata": {},
     "output_type": "execute_result"
    }
   ],
   "source": [
    "#hide_input\n",
    "#md('##### {}'.format(titleBTC)) \n",
    "md(\"- {}{} {}{} [| Skaityti daugiau]({}) \".format(exchange['title'],'. ', exchange['body'], ' ...', exchange['url']))"
   ]
  },
  {
   "cell_type": "code",
   "execution_count": null,
   "id": "tender-livestock",
   "metadata": {
    "papermill": {
     "duration": 0.016715,
     "end_time": "2021-10-26T01:58:08.801259",
     "exception": false,
     "start_time": "2021-10-26T01:58:08.784544",
     "status": "completed"
    },
    "tags": []
   },
   "outputs": [],
   "source": []
  },
  {
   "cell_type": "code",
   "execution_count": null,
   "id": "appreciated-diamond",
   "metadata": {
    "papermill": {
     "duration": 0.012796,
     "end_time": "2021-10-26T01:58:08.827040",
     "exception": false,
     "start_time": "2021-10-26T01:58:08.814244",
     "status": "completed"
    },
    "tags": []
   },
   "outputs": [],
   "source": []
  },
  {
   "cell_type": "code",
   "execution_count": null,
   "id": "romance-sweden",
   "metadata": {
    "papermill": {
     "duration": 0.012618,
     "end_time": "2021-10-26T01:58:08.852277",
     "exception": false,
     "start_time": "2021-10-26T01:58:08.839659",
     "status": "completed"
    },
    "tags": []
   },
   "outputs": [],
   "source": []
  },
  {
   "cell_type": "code",
   "execution_count": null,
   "id": "dietary-statistics",
   "metadata": {
    "papermill": {
     "duration": 0.012415,
     "end_time": "2021-10-26T01:58:08.877865",
     "exception": false,
     "start_time": "2021-10-26T01:58:08.865450",
     "status": "completed"
    },
    "tags": []
   },
   "outputs": [],
   "source": []
  }
 ],
 "metadata": {
  "kernelspec": {
   "display_name": "Python 3",
   "language": "python",
   "name": "python3"
  },
  "language_info": {
   "codemirror_mode": {
    "name": "ipython",
    "version": 3
   },
   "file_extension": ".py",
   "mimetype": "text/x-python",
   "name": "python",
   "nbconvert_exporter": "python",
   "pygments_lexer": "ipython3",
   "version": "3.6.15"
  },
  "papermill": {
   "default_parameters": {},
   "duration": 10.914967,
   "end_time": "2021-10-26T01:58:09.402449",
   "environment_variables": {},
   "exception": null,
   "input_path": "Market-News.ipynb",
   "output_path": "Market-News.ipynb",
   "parameters": {},
   "start_time": "2021-10-26T01:57:58.487482",
   "version": "2.2.2"
  }
 },
 "nbformat": 4,
 "nbformat_minor": 5
}