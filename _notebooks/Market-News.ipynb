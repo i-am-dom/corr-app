{
 "cells": [
  {
   "cell_type": "markdown",
   "id": "short-greensboro",
   "metadata": {
    "papermill": {
     "duration": 0.013663,
     "end_time": "2022-05-22T02:49:21.119104",
     "exception": false,
     "start_time": "2022-05-22T02:49:21.105441",
     "status": "completed"
    },
    "tags": []
   },
   "source": [
    "# Kriptovaliutų naujienos"
   ]
  },
  {
   "cell_type": "code",
   "execution_count": 1,
   "id": "functioning-knowing",
   "metadata": {
    "execution": {
     "iopub.execute_input": "2022-05-22T02:49:21.149247Z",
     "iopub.status.busy": "2022-05-22T02:49:21.148657Z",
     "iopub.status.idle": "2022-05-22T02:49:22.358344Z",
     "shell.execute_reply": "2022-05-22T02:49:22.357324Z"
    },
    "papermill": {
     "duration": 1.229765,
     "end_time": "2022-05-22T02:49:22.358499",
     "exception": false,
     "start_time": "2022-05-22T02:49:21.128734",
     "status": "completed"
    },
    "tags": []
   },
   "outputs": [],
   "source": [
    "#hide_input\n",
    "import warnings\n",
    "warnings.filterwarnings('ignore')\n",
    "from scripts.read_data import read_api\n",
    "from scripts.read_data import read_news\n",
    "from scripts.read_data import read_covid\n",
    "import matplotlib.pyplot as plt \n",
    "from IPython.display import Markdown as md"
   ]
  },
  {
   "cell_type": "code",
   "execution_count": 2,
   "id": "shared-acceptance",
   "metadata": {
    "execution": {
     "iopub.execute_input": "2022-05-22T02:49:22.382893Z",
     "iopub.status.busy": "2022-05-22T02:49:22.381903Z",
     "iopub.status.idle": "2022-05-22T02:49:32.741733Z",
     "shell.execute_reply": "2022-05-22T02:49:32.740655Z"
    },
    "papermill": {
     "duration": 10.374058,
     "end_time": "2022-05-22T02:49:32.741894",
     "exception": false,
     "start_time": "2022-05-22T02:49:22.367836",
     "status": "completed"
    },
    "tags": []
   },
   "outputs": [],
   "source": [
    "#hide_input\n",
    "blockchain = read_news('blockchain') \n",
    "btc = read_news('btc') \n",
    "xrp = read_news('xrp') \n",
    "trx = read_news('trx') \n",
    "eth = read_news('eth')  \n",
    "ada = read_news('ada')\n",
    "exchange = read_news('exchange') "
   ]
  },
  {
   "cell_type": "code",
   "execution_count": 3,
   "id": "synthetic-notion",
   "metadata": {
    "execution": {
     "iopub.execute_input": "2022-05-22T02:49:32.766506Z",
     "iopub.status.busy": "2022-05-22T02:49:32.765854Z",
     "iopub.status.idle": "2022-05-22T02:49:32.769357Z",
     "shell.execute_reply": "2022-05-22T02:49:32.768908Z"
    },
    "papermill": {
     "duration": 0.018225,
     "end_time": "2022-05-22T02:49:32.769494",
     "exception": false,
     "start_time": "2022-05-22T02:49:32.751269",
     "status": "completed"
    },
    "tags": []
   },
   "outputs": [
    {
     "data": {
      "text/markdown": [
       "- What are the Best UST Wallets in 2022.  The rise of crypto has seen a variety of coins being spawned over the last few years. These developments led to the inception of stablecoins: Cryptos such as the algorithmic stabelcoin UST came into being in 2020 as a result of blockchain and other technological developments. Terra USD (UST) is tied 1:1 to the price of a fiat currency, the US dollar. This relationship makes the stablecoin a “safe” crypto asset. Thus, as more investors swarm to the market to capitalize on the assets, choosing a wallet has never been so important. Below, the five best UST wallets of 2022 are discussed. Best UST Wallets of 2022- 1. imToken imToken wallet is arguably the best wallet for UST around the world. The wallet features a unique blend of software and hardware to secure the user’s assets. imToken has recorded over $500B in transactions in over 150 countries around the globe. The wallet launched in 2016 has become globally acclaimed having served over 12 million users. Pros The wallet allows users to access and store over 200,000 tokens and coins. The wallet supports over 12 blockchains, hence, it serves a wide array of tokens for users to select from. The wallets are also highly secure. When coupled with the imKey hardware wallets in the pro version, asset security for the users is maxed out. The wallet also features low fees for transactions made by users Cons The wallet’s pro version costs $109 for the company’s own hardware wallet. These... ... [| Skaityti daugiau](https://www.cryptoknowmics.com/news/best-ust-wallets-in-2022/?utm_source=rss&utm_medium=rss&utm_campaign=best-ust-wallets-in-2022) "
      ],
      "text/plain": [
       "<IPython.core.display.Markdown object>"
      ]
     },
     "execution_count": 3,
     "metadata": {},
     "output_type": "execute_result"
    }
   ],
   "source": [
    "#hide_input\n",
    "#md('##### {}'.format(titleBTC)) \n",
    "md(\"- {}{} {}{} [| Skaityti daugiau]({}) \".format(blockchain['title'],'. ', blockchain['body'], ' ...', blockchain['url']))"
   ]
  },
  {
   "cell_type": "code",
   "execution_count": 4,
   "id": "aging-caution",
   "metadata": {
    "execution": {
     "iopub.execute_input": "2022-05-22T02:49:32.794019Z",
     "iopub.status.busy": "2022-05-22T02:49:32.793281Z",
     "iopub.status.idle": "2022-05-22T02:49:32.795855Z",
     "shell.execute_reply": "2022-05-22T02:49:32.796344Z"
    },
    "papermill": {
     "duration": 0.01759,
     "end_time": "2022-05-22T02:49:32.796466",
     "exception": false,
     "start_time": "2022-05-22T02:49:32.778876",
     "status": "completed"
    },
    "tags": []
   },
   "outputs": [
    {
     "data": {
      "text/markdown": [
       "- Bill Gates: Crypto Has No Valuable Output — It’s Not Adding to Society Like Other Investments.  Microsoft co-founder Bill Gates has explained why he does not own any bitcoin or other cryptocurrencies. &#x201C;I like investing in things that have valuable output,&#x201D; Gates said, adding that crypto is &#x201C;not adding to society like other investments.&#x201D; Bill Gates on Crypto, and Why He Isn&#x2019;t Investing Microsoft co-founder Bill Gates shared his opinion about [&#8230;] ... [| Skaityti daugiau](https://news.bitcoin.com/bill-gates-crypto-has-no-valuable-output-its-not-adding-to-society-like-other-investments/) "
      ],
      "text/plain": [
       "<IPython.core.display.Markdown object>"
      ]
     },
     "execution_count": 4,
     "metadata": {},
     "output_type": "execute_result"
    }
   ],
   "source": [
    "#hide_input\n",
    "#md('##### {}'.format(titleBTC)) \n",
    "md(\"- {}{} {}{} [| Skaityti daugiau]({}) \".format(btc['title'],'. ', btc['body'], ' ...', btc['url']))"
   ]
  },
  {
   "cell_type": "code",
   "execution_count": 5,
   "id": "organic-actress",
   "metadata": {
    "execution": {
     "iopub.execute_input": "2022-05-22T02:49:32.821104Z",
     "iopub.status.busy": "2022-05-22T02:49:32.820529Z",
     "iopub.status.idle": "2022-05-22T02:49:32.823705Z",
     "shell.execute_reply": "2022-05-22T02:49:32.824254Z"
    },
    "papermill": {
     "duration": 0.018162,
     "end_time": "2022-05-22T02:49:32.824375",
     "exception": false,
     "start_time": "2022-05-22T02:49:32.806213",
     "status": "completed"
    },
    "tags": []
   },
   "outputs": [
    {
     "data": {
      "text/markdown": [
       "- Ripple’s General Counsel: The SEC’s “Hypocrisy Is Staggering” Filings Expected Next Week in XRP Case.  Earlier, top lawyer had accused SEC of playing \"delay card\" concerning Ripple lawsuit ... [| Skaityti daugiau](https://u.today/ripples-general-counsel-the-secs-hypocrisy-is-staggering-filings-expected-next-week-in-xrp-case) "
      ],
      "text/plain": [
       "<IPython.core.display.Markdown object>"
      ]
     },
     "execution_count": 5,
     "metadata": {},
     "output_type": "execute_result"
    }
   ],
   "source": [
    "#hide_input\n",
    "#md('##### {}'.format(titleBTC)) \n",
    "md(\"- {}{} {}{} [| Skaityti daugiau]({}) \".format(xrp['title'],'. ', xrp['body'], ' ...', xrp['url']))"
   ]
  },
  {
   "cell_type": "code",
   "execution_count": 6,
   "id": "prompt-farmer",
   "metadata": {
    "execution": {
     "iopub.execute_input": "2022-05-22T02:49:32.847787Z",
     "iopub.status.busy": "2022-05-22T02:49:32.846300Z",
     "iopub.status.idle": "2022-05-22T02:49:32.852103Z",
     "shell.execute_reply": "2022-05-22T02:49:32.851630Z"
    },
    "papermill": {
     "duration": 0.017849,
     "end_time": "2022-05-22T02:49:32.852209",
     "exception": false,
     "start_time": "2022-05-22T02:49:32.834360",
     "status": "completed"
    },
    "tags": []
   },
   "outputs": [
    {
     "data": {
      "text/markdown": [
       "- Top Reasons to be a Tron (TRX) Long-term Investor.  Tron (TRX)has been around since 2017. TRX was one of the top six cryptocurrencies in early 2018 and the young Tron founder, Justin Sun stated that one of his missions in 2018 was to displace Ethereum. The target has not yet been achieved though Tron blockchain has made a lot of success since then. Tron has a present price of $0.07432 which is 58.73% higher than its present 52-week price of $0.04682. TRX is presently in the 14th position in the CoinMarketCap ranking of cryptocurrencies. Irrespective of this position, the Tron network token (TRX) might be an undervalued cryptocurrency for the following reasons: Tron token (TRX) performance with respect to some top cryptocurrencies In the past 30 days, the price of Tron (TRX) has increased by 18.08%. Bitcoin, Ethereum, and BNB within the same duration had reduced in price by 27%, 34.52%, and 27.02% respectively. This means that an investor who owns an equal amount of the four coins in United States dollars has increased by over 4.86 times when compared to investments in the other three cryptocurrencies (BTC, ETH, and BNB) put together. However, in recent times, the news had always been around Bitcoin, Ethereum, and BNB due to their higher position in the ranking. Tron (TRX) Higher Rebouncing Capacity When Compared to Some Other Coins Some cryptocurrencies went to extinction during and after the crypto winter of 2018. TRX was one of the tokens that were heavily affected by the hea... ... [| Skaityti daugiau](https://www.cryptoknowmics.com/news/top-reasons-to-be-a-tron-trx-long-term-investor/?utm_source=rss&utm_medium=rss&utm_campaign=top-reasons-to-be-a-tron-trx-long-term-investor) "
      ],
      "text/plain": [
       "<IPython.core.display.Markdown object>"
      ]
     },
     "execution_count": 6,
     "metadata": {},
     "output_type": "execute_result"
    }
   ],
   "source": [
    "#hide_input\n",
    "#md('##### {}'.format(titleBTC)) \n",
    "md(\"- {}{} {}{} [| Skaityti daugiau]({}) \".format(trx['title'],'. ', trx['body'], ' ...', trx['url']))"
   ]
  },
  {
   "cell_type": "code",
   "execution_count": 7,
   "id": "illegal-greece",
   "metadata": {
    "execution": {
     "iopub.execute_input": "2022-05-22T02:49:32.877851Z",
     "iopub.status.busy": "2022-05-22T02:49:32.877244Z",
     "iopub.status.idle": "2022-05-22T02:49:32.880728Z",
     "shell.execute_reply": "2022-05-22T02:49:32.880256Z"
    },
    "papermill": {
     "duration": 0.018151,
     "end_time": "2022-05-22T02:49:32.880832",
     "exception": false,
     "start_time": "2022-05-22T02:49:32.862681",
     "status": "completed"
    },
    "tags": []
   },
   "outputs": [
    {
     "data": {
      "text/markdown": [
       "- Ethereum’s on-chain metrics are troubled but ETH can go up high only if….  The crypto market has had quite a rough ride of late. The king altcoin Ethereum in the last 24 hours tanked by 3.54%. It followed BTC&#8217;s movement closely as ETH&#8217;s correlation to the king coin stood at 0.91. The last 24 hours have been crucial for Ethereum as the bears gained momentum. On 20 May, [&#8230;] ... [| Skaityti daugiau](https://ambcrypto.com/ethereums-on-chain-metrics-are-troubled-but-eth-could-go-up-high-only-if/) "
      ],
      "text/plain": [
       "<IPython.core.display.Markdown object>"
      ]
     },
     "execution_count": 7,
     "metadata": {},
     "output_type": "execute_result"
    }
   ],
   "source": [
    "#hide_input\n",
    "#md('##### {}'.format(titleBTC)) \n",
    "md(\"- {}{} {}{} [| Skaityti daugiau]({}) \".format(eth['title'],'. ', eth['body'], ' ...', eth['url']))"
   ]
  },
  {
   "cell_type": "code",
   "execution_count": 8,
   "id": "sublime-lounge",
   "metadata": {
    "execution": {
     "iopub.execute_input": "2022-05-22T02:49:32.908598Z",
     "iopub.status.busy": "2022-05-22T02:49:32.908002Z",
     "iopub.status.idle": "2022-05-22T02:49:32.911002Z",
     "shell.execute_reply": "2022-05-22T02:49:32.911478Z"
    },
    "papermill": {
     "duration": 0.018716,
     "end_time": "2022-05-22T02:49:32.911606",
     "exception": false,
     "start_time": "2022-05-22T02:49:32.892890",
     "status": "completed"
    },
    "tags": []
   },
   "outputs": [
    {
     "data": {
      "text/markdown": [
       "- Bitcoin, Ether, Cardano, Solana Bull Rally In Second Half Of 2022 Is ‘Unquestionable’, Says Crypto Exec.  The prices of cryptocurrencies have left investors scratching their heads on whether the worst of the storm has passed or prices could plunge even deeper. One crypto executive thinks that a strong recovery in the second half of the year is in play. ... [| Skaityti daugiau](https://zycrypto.com/bitcoin-ether-cardano-solana-bull-rally-in-second-half-of-2022-is-unquestionable-says-crypto-exec/) "
      ],
      "text/plain": [
       "<IPython.core.display.Markdown object>"
      ]
     },
     "execution_count": 8,
     "metadata": {},
     "output_type": "execute_result"
    }
   ],
   "source": [
    "#hide_input\n",
    "#md('##### {}'.format(titleBTC)) \n",
    "md(\"- {}{} {}{} [| Skaityti daugiau]({}) \".format(ada['title'],'. ', ada['body'], ' ...', ada['url']))"
   ]
  },
  {
   "cell_type": "code",
   "execution_count": 9,
   "id": "specified-ordering",
   "metadata": {
    "execution": {
     "iopub.execute_input": "2022-05-22T02:49:32.938068Z",
     "iopub.status.busy": "2022-05-22T02:49:32.937493Z",
     "iopub.status.idle": "2022-05-22T02:49:32.941066Z",
     "shell.execute_reply": "2022-05-22T02:49:32.940602Z"
    },
    "papermill": {
     "duration": 0.018525,
     "end_time": "2022-05-22T02:49:32.941168",
     "exception": false,
     "start_time": "2022-05-22T02:49:32.922643",
     "status": "completed"
    },
    "tags": []
   },
   "outputs": [
    {
     "data": {
      "text/markdown": [
       "- TRON Trails Binance Chain as the Third-Largest DeFi Platform.  Total value locked in TRON ecosystem is slightly higher at $4.3 billion ... [| Skaityti daugiau](https://u.today/tron-trails-binance-chain-as-third-largest-defi-platform) "
      ],
      "text/plain": [
       "<IPython.core.display.Markdown object>"
      ]
     },
     "execution_count": 9,
     "metadata": {},
     "output_type": "execute_result"
    }
   ],
   "source": [
    "#hide_input\n",
    "#md('##### {}'.format(titleBTC)) \n",
    "md(\"- {}{} {}{} [| Skaityti daugiau]({}) \".format(exchange['title'],'. ', exchange['body'], ' ...', exchange['url']))"
   ]
  },
  {
   "cell_type": "code",
   "execution_count": null,
   "id": "tender-livestock",
   "metadata": {
    "papermill": {
     "duration": 0.011168,
     "end_time": "2022-05-22T02:49:32.963494",
     "exception": false,
     "start_time": "2022-05-22T02:49:32.952326",
     "status": "completed"
    },
    "tags": []
   },
   "outputs": [],
   "source": []
  },
  {
   "cell_type": "code",
   "execution_count": null,
   "id": "appreciated-diamond",
   "metadata": {
    "papermill": {
     "duration": 0.011121,
     "end_time": "2022-05-22T02:49:32.985869",
     "exception": false,
     "start_time": "2022-05-22T02:49:32.974748",
     "status": "completed"
    },
    "tags": []
   },
   "outputs": [],
   "source": []
  },
  {
   "cell_type": "code",
   "execution_count": null,
   "id": "romance-sweden",
   "metadata": {
    "papermill": {
     "duration": 0.011126,
     "end_time": "2022-05-22T02:49:33.008110",
     "exception": false,
     "start_time": "2022-05-22T02:49:32.996984",
     "status": "completed"
    },
    "tags": []
   },
   "outputs": [],
   "source": []
  },
  {
   "cell_type": "code",
   "execution_count": null,
   "id": "dietary-statistics",
   "metadata": {
    "papermill": {
     "duration": 0.011142,
     "end_time": "2022-05-22T02:49:33.030566",
     "exception": false,
     "start_time": "2022-05-22T02:49:33.019424",
     "status": "completed"
    },
    "tags": []
   },
   "outputs": [],
   "source": []
  }
 ],
 "metadata": {
  "kernelspec": {
   "display_name": "Python 3",
   "language": "python",
   "name": "python3"
  },
  "language_info": {
   "codemirror_mode": {
    "name": "ipython",
    "version": 3
   },
   "file_extension": ".py",
   "mimetype": "text/x-python",
   "name": "python",
   "nbconvert_exporter": "python",
   "pygments_lexer": "ipython3",
   "version": "3.6.15"
  },
  "papermill": {
   "default_parameters": {},
   "duration": 13.276477,
   "end_time": "2022-05-22T02:49:33.460698",
   "environment_variables": {},
   "exception": null,
   "input_path": "Market-News.ipynb",
   "output_path": "Market-News.ipynb",
   "parameters": {},
   "start_time": "2022-05-22T02:49:20.184221",
   "version": "2.2.2"
  }
 },
 "nbformat": 4,
 "nbformat_minor": 5
}