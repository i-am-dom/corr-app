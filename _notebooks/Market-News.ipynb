{
 "cells": [
  {
   "cell_type": "markdown",
   "id": "short-greensboro",
   "metadata": {
    "papermill": {
     "duration": 0.015953,
     "end_time": "2022-10-12T03:37:30.593958",
     "exception": false,
     "start_time": "2022-10-12T03:37:30.578005",
     "status": "completed"
    },
    "tags": []
   },
   "source": [
    "# Kriptovaliutų naujienos"
   ]
  },
  {
   "cell_type": "code",
   "execution_count": 1,
   "id": "functioning-knowing",
   "metadata": {
    "execution": {
     "iopub.execute_input": "2022-10-12T03:37:30.629392Z",
     "iopub.status.busy": "2022-10-12T03:37:30.628510Z",
     "iopub.status.idle": "2022-10-12T03:37:32.270005Z",
     "shell.execute_reply": "2022-10-12T03:37:32.268827Z"
    },
    "papermill": {
     "duration": 1.66446,
     "end_time": "2022-10-12T03:37:32.270165",
     "exception": false,
     "start_time": "2022-10-12T03:37:30.605705",
     "status": "completed"
    },
    "tags": []
   },
   "outputs": [],
   "source": [
    "#hide_input\n",
    "import warnings\n",
    "warnings.filterwarnings('ignore')\n",
    "from scripts.read_data import read_api\n",
    "from scripts.read_data import read_news\n",
    "from scripts.read_data import read_covid\n",
    "import matplotlib.pyplot as plt \n",
    "from IPython.display import Markdown as md"
   ]
  },
  {
   "cell_type": "code",
   "execution_count": 2,
   "id": "shared-acceptance",
   "metadata": {
    "execution": {
     "iopub.execute_input": "2022-10-12T03:37:32.302456Z",
     "iopub.status.busy": "2022-10-12T03:37:32.301215Z",
     "iopub.status.idle": "2022-10-12T03:37:43.768551Z",
     "shell.execute_reply": "2022-10-12T03:37:43.767853Z"
    },
    "papermill": {
     "duration": 11.486707,
     "end_time": "2022-10-12T03:37:43.768706",
     "exception": false,
     "start_time": "2022-10-12T03:37:32.281999",
     "status": "completed"
    },
    "tags": []
   },
   "outputs": [],
   "source": [
    "#hide_input\n",
    "blockchain = read_news('blockchain') \n",
    "btc = read_news('btc') \n",
    "xrp = read_news('xrp') \n",
    "trx = read_news('trx') \n",
    "eth = read_news('eth')  \n",
    "ada = read_news('ada')\n",
    "exchange = read_news('exchange') "
   ]
  },
  {
   "cell_type": "code",
   "execution_count": 3,
   "id": "synthetic-notion",
   "metadata": {
    "execution": {
     "iopub.execute_input": "2022-10-12T03:37:43.806593Z",
     "iopub.status.busy": "2022-10-12T03:37:43.805748Z",
     "iopub.status.idle": "2022-10-12T03:37:43.813099Z",
     "shell.execute_reply": "2022-10-12T03:37:43.813711Z"
    },
    "papermill": {
     "duration": 0.028416,
     "end_time": "2022-10-12T03:37:43.813896",
     "exception": false,
     "start_time": "2022-10-12T03:37:43.785480",
     "status": "completed"
    },
    "tags": []
   },
   "outputs": [
    {
     "data": {
      "text/markdown": [
       "- BNY Mellon partners with Fireblocks and Chainalysis to let institutions hold BTC and ETH.  BNY Mellon now offers institutional clients the ability to hold and transfer bitcoin and Ethereum on its new crypto custody service.The post BNY Mellon partners with Fireblocks and Chainalysis to let institutions hold BTC and ETH appeared first on Blockchain, Crypto and Stock News. ... [| Skaityti daugiau](https://thecoinrise.com/bny-mellon-partners-with-fireblocks-and-chainalysis-to-let-institutions-hold-btc-and-eth/) "
      ],
      "text/plain": [
       "<IPython.core.display.Markdown object>"
      ]
     },
     "execution_count": 3,
     "metadata": {},
     "output_type": "execute_result"
    }
   ],
   "source": [
    "#hide_input\n",
    "#md('##### {}'.format(titleBTC)) \n",
    "md(\"- {}{} {}{} [| Skaityti daugiau]({}) \".format(blockchain['title'],'. ', blockchain['body'], ' ...', blockchain['url']))"
   ]
  },
  {
   "cell_type": "code",
   "execution_count": 4,
   "id": "aging-caution",
   "metadata": {
    "execution": {
     "iopub.execute_input": "2022-10-12T03:37:43.848920Z",
     "iopub.status.busy": "2022-10-12T03:37:43.848145Z",
     "iopub.status.idle": "2022-10-12T03:37:43.855806Z",
     "shell.execute_reply": "2022-10-12T03:37:43.855172Z"
    },
    "papermill": {
     "duration": 0.027486,
     "end_time": "2022-10-12T03:37:43.855945",
     "exception": false,
     "start_time": "2022-10-12T03:37:43.828459",
     "status": "completed"
    },
    "tags": []
   },
   "outputs": [
    {
     "data": {
      "text/markdown": [
       "- IMF Warns of Bad Recession, Could BTC Go On Sale? (Opinion).  The International Monetary fund has issued a new warning for the global economy. The IMF says the worst is yet to come. That could mean a lower bitcoin price over the near term. ... [| Skaityti daugiau](https://cryptopotato.com/imf-warns-of-bad-recession-could-btc-go-on-sale-opinion/) "
      ],
      "text/plain": [
       "<IPython.core.display.Markdown object>"
      ]
     },
     "execution_count": 4,
     "metadata": {},
     "output_type": "execute_result"
    }
   ],
   "source": [
    "#hide_input\n",
    "#md('##### {}'.format(titleBTC)) \n",
    "md(\"- {}{} {}{} [| Skaityti daugiau]({}) \".format(btc['title'],'. ', btc['body'], ' ...', btc['url']))"
   ]
  },
  {
   "cell_type": "code",
   "execution_count": 5,
   "id": "organic-actress",
   "metadata": {
    "execution": {
     "iopub.execute_input": "2022-10-12T03:37:43.888194Z",
     "iopub.status.busy": "2022-10-12T03:37:43.887411Z",
     "iopub.status.idle": "2022-10-12T03:37:43.894581Z",
     "shell.execute_reply": "2022-10-12T03:37:43.893798Z"
    },
    "papermill": {
     "duration": 0.025696,
     "end_time": "2022-10-12T03:37:43.894731",
     "exception": false,
     "start_time": "2022-10-12T03:37:43.869035",
     "status": "completed"
    },
    "tags": []
   },
   "outputs": [
    {
     "data": {
      "text/markdown": [
       "- XRP Holds Gains When Almost The Whole Market Turns Into Red.  The broader crypto market remains in a bad state regardless of the few positive movements of some tokens. Even popular tokens like Bitcoin and Ethereum do not give investors any hope. This is evident from their current prices of $19,005 and $1,282, respectively, according to data from CoinMarketCap. Multiple factors are backing up the present state of the crypto market. One is the Fed&#8217;s quantitative tightening in the Q2 of 2022. While investors have that to contend with, the negative Consumer Price Index (CPI) value released in September has also affected the market. Related Reading: Bitcoin Supply In Profit Continues Decline, But Still Not At Historical Bottom Zone However, the market&#8217;s bearish trend may not last long, depending on the upcoming data release. This is particularly true considering the anticipated Consumer Price Index to be released on Thursday. But while the crypto maintains a bearish movement, some tokens appear to stand out in the crowd. A perfect example of picking out is XRP. This digital token seems to have resistance to the ongoing trend of the market. XRP Stands Out Amid Bearish Market The current price of XRP, as per data from TradingView, is $0.4875. Although its 24-hour price change on CoinMarketCap stands at -6.37%, its weekly and hourly rates are -0.10% and 0.01%, respectively. XRP seems to have maintained this positive movement in the last seven days, and chances are that it&#8217;ll su... ... [| Skaityti daugiau](https://www.newsbtc.com/analysis/xrp/xrp-holds-gains-when-almost-the-whole-market-turns-into-red/) "
      ],
      "text/plain": [
       "<IPython.core.display.Markdown object>"
      ]
     },
     "execution_count": 5,
     "metadata": {},
     "output_type": "execute_result"
    }
   ],
   "source": [
    "#hide_input\n",
    "#md('##### {}'.format(titleBTC)) \n",
    "md(\"- {}{} {}{} [| Skaityti daugiau]({}) \".format(xrp['title'],'. ', xrp['body'], ' ...', xrp['url']))"
   ]
  },
  {
   "cell_type": "code",
   "execution_count": 6,
   "id": "prompt-farmer",
   "metadata": {
    "execution": {
     "iopub.execute_input": "2022-10-12T03:37:43.934058Z",
     "iopub.status.busy": "2022-10-12T03:37:43.933267Z",
     "iopub.status.idle": "2022-10-12T03:37:43.942398Z",
     "shell.execute_reply": "2022-10-12T03:37:43.940971Z"
    },
    "papermill": {
     "duration": 0.030765,
     "end_time": "2022-10-12T03:37:43.942562",
     "exception": false,
     "start_time": "2022-10-12T03:37:43.911797",
     "status": "completed"
    },
    "tags": []
   },
   "outputs": [
    {
     "data": {
      "text/markdown": [
       "- $TRX and $XRP Could Soon Start Outperforming $BTC, Popular Crypto Analyst Suggests.  A popular cryptocurrency analyst has recently suggested that based on their charts, both TRON ($TRX) and the $XRP token could soon start outperforming the flagship cryptocurrency Bitcoin ($BTC) ahead of the release of economic data this week. In a series of tweets shared with their over 500,000 followers on the microblogging platform, pseudonymous analyst Kaleo […] ... [| Skaityti daugiau](https://www.cryptoglobe.com/latest/2022/10/trx-and-xrp-could-soon-start-outperforming-btc-popular-crypto-analyst-suggests/) "
      ],
      "text/plain": [
       "<IPython.core.display.Markdown object>"
      ]
     },
     "execution_count": 6,
     "metadata": {},
     "output_type": "execute_result"
    }
   ],
   "source": [
    "#hide_input\n",
    "#md('##### {}'.format(titleBTC)) \n",
    "md(\"- {}{} {}{} [| Skaityti daugiau]({}) \".format(trx['title'],'. ', trx['body'], ' ...', trx['url']))"
   ]
  },
  {
   "cell_type": "code",
   "execution_count": 7,
   "id": "illegal-greece",
   "metadata": {
    "execution": {
     "iopub.execute_input": "2022-10-12T03:37:43.978675Z",
     "iopub.status.busy": "2022-10-12T03:37:43.976765Z",
     "iopub.status.idle": "2022-10-12T03:37:43.981387Z",
     "shell.execute_reply": "2022-10-12T03:37:43.980651Z"
    },
    "papermill": {
     "duration": 0.025605,
     "end_time": "2022-10-12T03:37:43.981537",
     "exception": false,
     "start_time": "2022-10-12T03:37:43.955932",
     "status": "completed"
    },
    "tags": []
   },
   "outputs": [
    {
     "data": {
      "text/markdown": [
       "- BNY Mellon partners with Fireblocks and Chainalysis to let institutions hold BTC and ETH.  BNY Mellon now offers institutional clients the ability to hold and transfer bitcoin and Ethereum on its new crypto custody service.The post BNY Mellon partners with Fireblocks and Chainalysis to let institutions hold BTC and ETH appeared first on Blockchain, Crypto and Stock News. ... [| Skaityti daugiau](https://thecoinrise.com/bny-mellon-partners-with-fireblocks-and-chainalysis-to-let-institutions-hold-btc-and-eth/) "
      ],
      "text/plain": [
       "<IPython.core.display.Markdown object>"
      ]
     },
     "execution_count": 7,
     "metadata": {},
     "output_type": "execute_result"
    }
   ],
   "source": [
    "#hide_input\n",
    "#md('##### {}'.format(titleBTC)) \n",
    "md(\"- {}{} {}{} [| Skaityti daugiau]({}) \".format(eth['title'],'. ', eth['body'], ' ...', eth['url']))"
   ]
  },
  {
   "cell_type": "code",
   "execution_count": 8,
   "id": "sublime-lounge",
   "metadata": {
    "execution": {
     "iopub.execute_input": "2022-10-12T03:37:44.019080Z",
     "iopub.status.busy": "2022-10-12T03:37:44.018160Z",
     "iopub.status.idle": "2022-10-12T03:37:44.023692Z",
     "shell.execute_reply": "2022-10-12T03:37:44.023069Z"
    },
    "papermill": {
     "duration": 0.026681,
     "end_time": "2022-10-12T03:37:44.023823",
     "exception": false,
     "start_time": "2022-10-12T03:37:43.997142",
     "status": "completed"
    },
    "tags": []
   },
   "outputs": [
    {
     "data": {
      "text/markdown": [
       "- As Cardano crashes below $0.4, should traders consider shorting ADA.  Disclaimer: The information presented does not constitute financial, investment, trading, or other types of advice and is solely the writer’s opinion. The $0.42-$0.4 band finally gave in to selling pressure Another leg down was likely Bitcoin showed weakness as well, expect volatility Coinglass data showed nearly $3.5 million worth of positions liquidated on ADA pairs [&#8230;] ... [| Skaityti daugiau](https://ambcrypto.com/as-cardano-crashes-below-0-4-should-traders-consider-shorting-ada/) "
      ],
      "text/plain": [
       "<IPython.core.display.Markdown object>"
      ]
     },
     "execution_count": 8,
     "metadata": {},
     "output_type": "execute_result"
    }
   ],
   "source": [
    "#hide_input\n",
    "#md('##### {}'.format(titleBTC)) \n",
    "md(\"- {}{} {}{} [| Skaityti daugiau]({}) \".format(ada['title'],'. ', ada['body'], ' ...', ada['url']))"
   ]
  },
  {
   "cell_type": "code",
   "execution_count": 9,
   "id": "specified-ordering",
   "metadata": {
    "execution": {
     "iopub.execute_input": "2022-10-12T03:37:44.061504Z",
     "iopub.status.busy": "2022-10-12T03:37:44.060701Z",
     "iopub.status.idle": "2022-10-12T03:37:44.068757Z",
     "shell.execute_reply": "2022-10-12T03:37:44.069338Z"
    },
    "papermill": {
     "duration": 0.030326,
     "end_time": "2022-10-12T03:37:44.069495",
     "exception": false,
     "start_time": "2022-10-12T03:37:44.039169",
     "status": "completed"
    },
    "tags": []
   },
   "outputs": [
    {
     "data": {
      "text/markdown": [
       "- Shiba Inu traders feel the heat despite listing anticipation — What next.  Shiba Inu [SHIB] was one of the most hit tokens as the crypto market plunged to a $920 billion market capitalization. According to CoinMarketCap, the 15th-ranked meme coin decreased 5.37% in the last 24 hours despite news of a listing on BitMEX. BitMEX, a Seychelles-based cryptocurrency derivatives exchange, in the early hours of 10 October, [&#8230;] ... [| Skaityti daugiau](https://ambcrypto.com/shiba-inu-traders-feel-the-heat-despite-listing-anticipation-what-next/) "
      ],
      "text/plain": [
       "<IPython.core.display.Markdown object>"
      ]
     },
     "execution_count": 9,
     "metadata": {},
     "output_type": "execute_result"
    }
   ],
   "source": [
    "#hide_input\n",
    "#md('##### {}'.format(titleBTC)) \n",
    "md(\"- {}{} {}{} [| Skaityti daugiau]({}) \".format(exchange['title'],'. ', exchange['body'], ' ...', exchange['url']))"
   ]
  },
  {
   "cell_type": "code",
   "execution_count": null,
   "id": "tender-livestock",
   "metadata": {
    "papermill": {
     "duration": 0.014645,
     "end_time": "2022-10-12T03:37:44.101110",
     "exception": false,
     "start_time": "2022-10-12T03:37:44.086465",
     "status": "completed"
    },
    "tags": []
   },
   "outputs": [],
   "source": []
  },
  {
   "cell_type": "code",
   "execution_count": null,
   "id": "appreciated-diamond",
   "metadata": {
    "papermill": {
     "duration": 0.014841,
     "end_time": "2022-10-12T03:37:44.131159",
     "exception": false,
     "start_time": "2022-10-12T03:37:44.116318",
     "status": "completed"
    },
    "tags": []
   },
   "outputs": [],
   "source": []
  },
  {
   "cell_type": "code",
   "execution_count": null,
   "id": "romance-sweden",
   "metadata": {
    "papermill": {
     "duration": 0.015565,
     "end_time": "2022-10-12T03:37:44.161308",
     "exception": false,
     "start_time": "2022-10-12T03:37:44.145743",
     "status": "completed"
    },
    "tags": []
   },
   "outputs": [],
   "source": []
  },
  {
   "cell_type": "code",
   "execution_count": null,
   "id": "dietary-statistics",
   "metadata": {
    "papermill": {
     "duration": 0.018108,
     "end_time": "2022-10-12T03:37:44.194052",
     "exception": false,
     "start_time": "2022-10-12T03:37:44.175944",
     "status": "completed"
    },
    "tags": []
   },
   "outputs": [],
   "source": []
  }
 ],
 "metadata": {
  "kernelspec": {
   "display_name": "Python 3",
   "language": "python",
   "name": "python3"
  },
  "language_info": {
   "codemirror_mode": {
    "name": "ipython",
    "version": 3
   },
   "file_extension": ".py",
   "mimetype": "text/x-python",
   "name": "python",
   "nbconvert_exporter": "python",
   "pygments_lexer": "ipython3",
   "version": "3.6.15"
  },
  "papermill": {
   "default_parameters": {},
   "duration": 15.515071,
   "end_time": "2022-10-12T03:37:44.729688",
   "environment_variables": {},
   "exception": null,
   "input_path": "Market-News.ipynb",
   "output_path": "Market-News.ipynb",
   "parameters": {},
   "start_time": "2022-10-12T03:37:29.214617",
   "version": "2.2.2"
  }
 },
 "nbformat": 4,
 "nbformat_minor": 5
}