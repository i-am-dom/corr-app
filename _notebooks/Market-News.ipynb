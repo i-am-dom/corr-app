{
 "cells": [
  {
   "cell_type": "markdown",
   "id": "short-greensboro",
   "metadata": {
    "papermill": {
     "duration": 0.017368,
     "end_time": "2022-04-22T03:16:40.211791",
     "exception": false,
     "start_time": "2022-04-22T03:16:40.194423",
     "status": "completed"
    },
    "tags": []
   },
   "source": [
    "# Kriptovaliutų naujienos"
   ]
  },
  {
   "cell_type": "code",
   "execution_count": 1,
   "id": "functioning-knowing",
   "metadata": {
    "execution": {
     "iopub.execute_input": "2022-04-22T03:16:40.242056Z",
     "iopub.status.busy": "2022-04-22T03:16:40.241434Z",
     "iopub.status.idle": "2022-04-22T03:16:41.553882Z",
     "shell.execute_reply": "2022-04-22T03:16:41.553275Z"
    },
    "papermill": {
     "duration": 1.332621,
     "end_time": "2022-04-22T03:16:41.554027",
     "exception": false,
     "start_time": "2022-04-22T03:16:40.221406",
     "status": "completed"
    },
    "tags": []
   },
   "outputs": [],
   "source": [
    "#hide_input\n",
    "import warnings\n",
    "warnings.filterwarnings('ignore')\n",
    "from scripts.read_data import read_api\n",
    "from scripts.read_data import read_news\n",
    "from scripts.read_data import read_covid\n",
    "import matplotlib.pyplot as plt \n",
    "from IPython.display import Markdown as md"
   ]
  },
  {
   "cell_type": "code",
   "execution_count": 2,
   "id": "shared-acceptance",
   "metadata": {
    "execution": {
     "iopub.execute_input": "2022-04-22T03:16:41.578947Z",
     "iopub.status.busy": "2022-04-22T03:16:41.578381Z",
     "iopub.status.idle": "2022-04-22T03:16:52.654182Z",
     "shell.execute_reply": "2022-04-22T03:16:52.653687Z"
    },
    "papermill": {
     "duration": 11.090765,
     "end_time": "2022-04-22T03:16:52.654307",
     "exception": false,
     "start_time": "2022-04-22T03:16:41.563542",
     "status": "completed"
    },
    "tags": []
   },
   "outputs": [],
   "source": [
    "#hide_input\n",
    "blockchain = read_news('blockchain') \n",
    "btc = read_news('btc') \n",
    "xrp = read_news('xrp') \n",
    "trx = read_news('trx') \n",
    "eth = read_news('eth')  \n",
    "ada = read_news('ada')\n",
    "exchange = read_news('exchange') "
   ]
  },
  {
   "cell_type": "code",
   "execution_count": 3,
   "id": "synthetic-notion",
   "metadata": {
    "execution": {
     "iopub.execute_input": "2022-04-22T03:16:52.679013Z",
     "iopub.status.busy": "2022-04-22T03:16:52.678510Z",
     "iopub.status.idle": "2022-04-22T03:16:52.683107Z",
     "shell.execute_reply": "2022-04-22T03:16:52.683474Z"
    },
    "papermill": {
     "duration": 0.019501,
     "end_time": "2022-04-22T03:16:52.683628",
     "exception": false,
     "start_time": "2022-04-22T03:16:52.664127",
     "status": "completed"
    },
    "tags": []
   },
   "outputs": [
    {
     "data": {
      "text/markdown": [
       "- Bitcoin drops nearly 3% as chances of losing $40K seem high.  Bitcoin price analysis for April 22, 2022, comes on a bearish note the token as it dropped nearly 3% in the last 24 hours. Moreover, the chances of BTC reclaiming the $42K price region once again seem quite low because the bulls are currently being slain by the bears. On the other hand, it is [&#8230;]The post Bitcoin drops nearly 3% as chances of losing $40K seem high appeared first on Blockchain, Crypto and Stock News. ... [| Skaityti daugiau](https://thecoinrise.com/bitcoin-drops-nearly-3-as-chances-of-losing-40k-seem-high/) "
      ],
      "text/plain": [
       "<IPython.core.display.Markdown object>"
      ]
     },
     "execution_count": 3,
     "metadata": {},
     "output_type": "execute_result"
    }
   ],
   "source": [
    "#hide_input\n",
    "#md('##### {}'.format(titleBTC)) \n",
    "md(\"- {}{} {}{} [| Skaityti daugiau]({}) \".format(blockchain['title'],'. ', blockchain['body'], ' ...', blockchain['url']))"
   ]
  },
  {
   "cell_type": "code",
   "execution_count": 4,
   "id": "aging-caution",
   "metadata": {
    "execution": {
     "iopub.execute_input": "2022-04-22T03:16:52.710905Z",
     "iopub.status.busy": "2022-04-22T03:16:52.710093Z",
     "iopub.status.idle": "2022-04-22T03:16:52.717335Z",
     "shell.execute_reply": "2022-04-22T03:16:52.716794Z"
    },
    "papermill": {
     "duration": 0.024935,
     "end_time": "2022-04-22T03:16:52.717453",
     "exception": false,
     "start_time": "2022-04-22T03:16:52.692518",
     "status": "completed"
    },
    "tags": []
   },
   "outputs": [
    {
     "data": {
      "text/markdown": [
       "- TA: Bitcoin Trims Gains, Support Turned Resistance At $41K.  Bitcoin extended gains above $42,500 against the US Dollar. BTC struggled near $43,000 and started a sharp downside correction. Bitcoin started another decline after it failed to clear the $43,000 resistance zone. The price is now trading below $41,000 and the 100 hourly simple moving average. There was a break below a major bullish trend line with support near $41,250 on the hourly chart of the BTC/USD pair (data feed from Kraken). The pair could attempt a fresh increase, but the $41,000 resistance holds the key. Bitcoin Price Dips Bitcoin price remained well bid above the $41,500 resistance zone. BTC gained pace and cleared the $42,000 resistance zone. It even moved above $42,500 and the 100 hourly simple moving average. However, the bulls failed to push the price above the $43,000 level. A high was formed near $42,950 and the price reacted to the downside. There was a sharp move below the $42,000 level. Besides, there was a break below a major bullish trend line with support near $41,250 on the hourly chart of the BTC/USD pair. There was a break below the 50% Fib retracement level of the upward move from the $38,750 swing low to $42,950 high. Bitcoin is now trading below $41,000 and the 100 hourly simple moving average. The price is now consolidating above the 61.8% Fib retracement level of the upward move from the $38,750 swing low to $42,950 high. An immediate resistance on the upside is near the $40,750 level. The next k... ... [| Skaityti daugiau](https://www.newsbtc.com/analysis/btc/bitcoin-trims-gains-41k/) "
      ],
      "text/plain": [
       "<IPython.core.display.Markdown object>"
      ]
     },
     "execution_count": 4,
     "metadata": {},
     "output_type": "execute_result"
    }
   ],
   "source": [
    "#hide_input\n",
    "#md('##### {}'.format(titleBTC)) \n",
    "md(\"- {}{} {}{} [| Skaityti daugiau]({}) \".format(btc['title'],'. ', btc['body'], ' ...', btc['url']))"
   ]
  },
  {
   "cell_type": "code",
   "execution_count": 5,
   "id": "organic-actress",
   "metadata": {
    "execution": {
     "iopub.execute_input": "2022-04-22T03:16:52.744544Z",
     "iopub.status.busy": "2022-04-22T03:16:52.743686Z",
     "iopub.status.idle": "2022-04-22T03:16:52.748135Z",
     "shell.execute_reply": "2022-04-22T03:16:52.748608Z"
    },
    "papermill": {
     "duration": 0.0212,
     "end_time": "2022-04-22T03:16:52.748736",
     "exception": false,
     "start_time": "2022-04-22T03:16:52.727536",
     "status": "completed"
    },
    "tags": []
   },
   "outputs": [
    {
     "data": {
      "text/markdown": [
       "- XRP-SEC Battle Continues: Will XRP Price Be Affected Further?.  XRP is recalled as one of the toughest competition to Bitcoin’s price rally in 2017 and 2018. The only coin that promised a higher return than BTC was XRP, and investors flooded onto this cryptocurrency. However, once the dust cloud settled, XRP price succumbed to profit-booking and panic-selling to one-tenth of its peak value. While &#8230; ... [| Skaityti daugiau](https://www.cryptonewsz.com/xrp-sec-battle-continues-will-xrp-price-be-affected-further/) "
      ],
      "text/plain": [
       "<IPython.core.display.Markdown object>"
      ]
     },
     "execution_count": 5,
     "metadata": {},
     "output_type": "execute_result"
    }
   ],
   "source": [
    "#hide_input\n",
    "#md('##### {}'.format(titleBTC)) \n",
    "md(\"- {}{} {}{} [| Skaityti daugiau]({}) \".format(xrp['title'],'. ', xrp['body'], ' ...', xrp['url']))"
   ]
  },
  {
   "cell_type": "code",
   "execution_count": 6,
   "id": "prompt-farmer",
   "metadata": {
    "execution": {
     "iopub.execute_input": "2022-04-22T03:16:52.774585Z",
     "iopub.status.busy": "2022-04-22T03:16:52.773994Z",
     "iopub.status.idle": "2022-04-22T03:16:52.779486Z",
     "shell.execute_reply": "2022-04-22T03:16:52.779041Z"
    },
    "papermill": {
     "duration": 0.020224,
     "end_time": "2022-04-22T03:16:52.779581",
     "exception": false,
     "start_time": "2022-04-22T03:16:52.759357",
     "status": "completed"
    },
    "tags": []
   },
   "outputs": [
    {
     "data": {
      "text/markdown": [
       "- TRX Technical Analysis: Justin Sun Brings BOOM to TRX Prices.  TRX coin price shows an outstanding bullish growth overnight to surpass all the crucial EMAs within hours. But will the uptrend survive above $0.070? Key technical points: TRX prices surpass the $275 mark. The 50 and 200-day EMA give a golden crossover. The 24-hour trading volume of Tron is $424.93 Million, marking a 93% rise. Past Performance of TRX TRX coin price shows a remarkable reversal with the news of Justin Sun launching an algorithmic stablecoin USDD on Tron Ecosystem and using $10 Bn crypto as collateral. The reversal rally reaches the 200-day EMA at the $0.071 resistance zone from the depth of the $0.060 mark. Source-Tradingview TRX Technical Analysis TRX coin price shows a high bullish commitment as the trading volume grows phenomenally to accompany the price surge. Hence, the uptrend may shortly reach the $0.077 mark if it sustains above the resistance zone. Today’s sudden price jump knocked out the 20-50-and-100 EMA slope in one strike. However, the 200-day EMA aligned with the $0.0714 resistance puts significant selling pressure on traders. RSI Indicator: The RSI slope(63) skyrocketed into the bullish territory, indicating the aggressive buying in the market. However, the indicator reflects a bearish divergence concerning the 31st March peak, projecting some weakness in this bullish momentum. MACD Indicator: The MACD and signal lines bullish crossover offers a buy signal for the interested traders. Moreover, th... ... [| Skaityti daugiau](https://www.cryptoknowmics.com/news/trx-technical-analysis-justin-sun-brings-boom-to-trx-prices/?utm_source=rss&utm_medium=rss&utm_campaign=trx-technical-analysis-justin-sun-brings-boom-to-trx-prices) "
      ],
      "text/plain": [
       "<IPython.core.display.Markdown object>"
      ]
     },
     "execution_count": 6,
     "metadata": {},
     "output_type": "execute_result"
    }
   ],
   "source": [
    "#hide_input\n",
    "#md('##### {}'.format(titleBTC)) \n",
    "md(\"- {}{} {}{} [| Skaityti daugiau]({}) \".format(trx['title'],'. ', trx['body'], ' ...', trx['url']))"
   ]
  },
  {
   "cell_type": "code",
   "execution_count": 7,
   "id": "illegal-greece",
   "metadata": {
    "execution": {
     "iopub.execute_input": "2022-04-22T03:16:52.806001Z",
     "iopub.status.busy": "2022-04-22T03:16:52.805479Z",
     "iopub.status.idle": "2022-04-22T03:16:52.809008Z",
     "shell.execute_reply": "2022-04-22T03:16:52.808370Z"
    },
    "papermill": {
     "duration": 0.01869,
     "end_time": "2022-04-22T03:16:52.809132",
     "exception": false,
     "start_time": "2022-04-22T03:16:52.790442",
     "status": "completed"
    },
    "tags": []
   },
   "outputs": [
    {
     "data": {
      "text/markdown": [
       "- Ethereum on-chain metrics trifecta flashes this signal for investors.  Ethereum&#8217;s price has been trying to get out of the $3,000 range for quite some time but has failed in the face of investors booking profits. ETH has spent plenty of time stuck in this range. And, now it might seem unpleasant to traders in the short term. However, on-chain metrics reveal that things are [&#8230;] ... [| Skaityti daugiau](https://ambcrypto.com/ethereum-on-chain-metrics-trifecta-flashes-this-signal-for-investors/) "
      ],
      "text/plain": [
       "<IPython.core.display.Markdown object>"
      ]
     },
     "execution_count": 7,
     "metadata": {},
     "output_type": "execute_result"
    }
   ],
   "source": [
    "#hide_input\n",
    "#md('##### {}'.format(titleBTC)) \n",
    "md(\"- {}{} {}{} [| Skaityti daugiau]({}) \".format(eth['title'],'. ', eth['body'], ' ...', eth['url']))"
   ]
  },
  {
   "cell_type": "code",
   "execution_count": 8,
   "id": "sublime-lounge",
   "metadata": {
    "execution": {
     "iopub.execute_input": "2022-04-22T03:16:52.837565Z",
     "iopub.status.busy": "2022-04-22T03:16:52.836850Z",
     "iopub.status.idle": "2022-04-22T03:16:52.839121Z",
     "shell.execute_reply": "2022-04-22T03:16:52.839580Z"
    },
    "papermill": {
     "duration": 0.01992,
     "end_time": "2022-04-22T03:16:52.839696",
     "exception": false,
     "start_time": "2022-04-22T03:16:52.819776",
     "status": "completed"
    },
    "tags": []
   },
   "outputs": [
    {
     "data": {
      "text/markdown": [
       "- Cardano Set To Parabolically Roll Higher From Here Based On Robust Wallet Growth.  The average rate of new ADA addresses added on a daily basis has increased from... ... [| Skaityti daugiau](https://zycrypto.com/cardano-set-to-parabolically-roll-higher-from-here-based-on-robust-wallet-growth/) "
      ],
      "text/plain": [
       "<IPython.core.display.Markdown object>"
      ]
     },
     "execution_count": 8,
     "metadata": {},
     "output_type": "execute_result"
    }
   ],
   "source": [
    "#hide_input\n",
    "#md('##### {}'.format(titleBTC)) \n",
    "md(\"- {}{} {}{} [| Skaityti daugiau]({}) \".format(ada['title'],'. ', ada['body'], ' ...', ada['url']))"
   ]
  },
  {
   "cell_type": "code",
   "execution_count": 9,
   "id": "specified-ordering",
   "metadata": {
    "execution": {
     "iopub.execute_input": "2022-04-22T03:16:52.875798Z",
     "iopub.status.busy": "2022-04-22T03:16:52.874761Z",
     "iopub.status.idle": "2022-04-22T03:16:52.880099Z",
     "shell.execute_reply": "2022-04-22T03:16:52.879655Z"
    },
    "papermill": {
     "duration": 0.023891,
     "end_time": "2022-04-22T03:16:52.880206",
     "exception": false,
     "start_time": "2022-04-22T03:16:52.856315",
     "status": "completed"
    },
    "tags": []
   },
   "outputs": [
    {
     "data": {
      "text/markdown": [
       "- The Art of Swing Trading on the Binance Futures Market.  Binance’s futures market has grown substantially in the past few months and it’s now second only to BitMEX in terms of volume traded. However, unlike BitMEX which offers perpetual contracts, Binance’s futures have expiry dates which traders must consider when trading on this platform. With careful consideration of supply and demand fundamentals and the use of stop-losses, swing trading futures on Binance can be very profitable. In fact, you can use futures to leverage your existing crypto holdings without actually buying more crypto! Let me show you how it works… Diversify Your Portfolio While many swing traders focus on finding and selling undervalued assets, others look for overvalued ones and buy them at a lower price. This strategy requires technical and fundamental analysis to determine which assets to trade. While this strategy can be profitable, it is not for everyone. Using multiple asset classes and sectors is essential. Diversifying your portfolio is important if you want to achieve consistent, long-term trading success. It helps protect your capital, manage your risk, enables you to withstand market volatility, and realize gains from only a few positions. Although, it is very tempting to buy a single asset and hold it for a long period. Instead, you should diversify your portfolio to avoid losing a significant amount of money. Before you start swing trading on the Binance Futures Market, make sure you understand inv... ... [| Skaityti daugiau](https://www.cryptoknowmics.com/news/the-art-of-swing-trading-on-the-binance-futures-market/?utm_source=rss&utm_medium=rss&utm_campaign=the-art-of-swing-trading-on-the-binance-futures-market) "
      ],
      "text/plain": [
       "<IPython.core.display.Markdown object>"
      ]
     },
     "execution_count": 9,
     "metadata": {},
     "output_type": "execute_result"
    }
   ],
   "source": [
    "#hide_input\n",
    "#md('##### {}'.format(titleBTC)) \n",
    "md(\"- {}{} {}{} [| Skaityti daugiau]({}) \".format(exchange['title'],'. ', exchange['body'], ' ...', exchange['url']))"
   ]
  },
  {
   "cell_type": "code",
   "execution_count": null,
   "id": "tender-livestock",
   "metadata": {
    "papermill": {
     "duration": 0.011426,
     "end_time": "2022-04-22T03:16:52.903319",
     "exception": false,
     "start_time": "2022-04-22T03:16:52.891893",
     "status": "completed"
    },
    "tags": []
   },
   "outputs": [],
   "source": []
  },
  {
   "cell_type": "code",
   "execution_count": null,
   "id": "appreciated-diamond",
   "metadata": {
    "papermill": {
     "duration": 0.011984,
     "end_time": "2022-04-22T03:16:52.926892",
     "exception": false,
     "start_time": "2022-04-22T03:16:52.914908",
     "status": "completed"
    },
    "tags": []
   },
   "outputs": [],
   "source": []
  },
  {
   "cell_type": "code",
   "execution_count": null,
   "id": "romance-sweden",
   "metadata": {
    "papermill": {
     "duration": 0.012114,
     "end_time": "2022-04-22T03:16:52.952123",
     "exception": false,
     "start_time": "2022-04-22T03:16:52.940009",
     "status": "completed"
    },
    "tags": []
   },
   "outputs": [],
   "source": []
  },
  {
   "cell_type": "code",
   "execution_count": null,
   "id": "dietary-statistics",
   "metadata": {
    "papermill": {
     "duration": 0.012259,
     "end_time": "2022-04-22T03:16:52.976962",
     "exception": false,
     "start_time": "2022-04-22T03:16:52.964703",
     "status": "completed"
    },
    "tags": []
   },
   "outputs": [],
   "source": []
  }
 ],
 "metadata": {
  "kernelspec": {
   "display_name": "Python 3",
   "language": "python",
   "name": "python3"
  },
  "language_info": {
   "codemirror_mode": {
    "name": "ipython",
    "version": 3
   },
   "file_extension": ".py",
   "mimetype": "text/x-python",
   "name": "python",
   "nbconvert_exporter": "python",
   "pygments_lexer": "ipython3",
   "version": "3.6.15"
  },
  "papermill": {
   "default_parameters": {},
   "duration": 14.36301,
   "end_time": "2022-04-22T03:16:53.407381",
   "environment_variables": {},
   "exception": null,
   "input_path": "Market-News.ipynb",
   "output_path": "Market-News.ipynb",
   "parameters": {},
   "start_time": "2022-04-22T03:16:39.044371",
   "version": "2.2.2"
  }
 },
 "nbformat": 4,
 "nbformat_minor": 5
}