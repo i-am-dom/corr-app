{
 "cells": [
  {
   "cell_type": "markdown",
   "id": "short-greensboro",
   "metadata": {
    "papermill": {
     "duration": 0.01409,
     "end_time": "2021-09-10T02:01:09.503336",
     "exception": false,
     "start_time": "2021-09-10T02:01:09.489246",
     "status": "completed"
    },
    "tags": []
   },
   "source": [
    "# Kriptovaliutų naujienos"
   ]
  },
  {
   "cell_type": "code",
   "execution_count": 1,
   "id": "functioning-knowing",
   "metadata": {
    "execution": {
     "iopub.execute_input": "2021-09-10T02:01:09.532834Z",
     "iopub.status.busy": "2021-09-10T02:01:09.529966Z",
     "iopub.status.idle": "2021-09-10T02:01:10.707528Z",
     "shell.execute_reply": "2021-09-10T02:01:10.706991Z"
    },
    "papermill": {
     "duration": 1.194639,
     "end_time": "2021-09-10T02:01:10.707681",
     "exception": false,
     "start_time": "2021-09-10T02:01:09.513042",
     "status": "completed"
    },
    "tags": []
   },
   "outputs": [],
   "source": [
    "#hide_input\n",
    "import warnings\n",
    "warnings.filterwarnings('ignore')\n",
    "from scripts.read_data import read_api\n",
    "from scripts.read_data import read_news\n",
    "from scripts.read_data import read_covid\n",
    "import matplotlib.pyplot as plt \n",
    "from IPython.display import Markdown as md"
   ]
  },
  {
   "cell_type": "code",
   "execution_count": 2,
   "id": "shared-acceptance",
   "metadata": {
    "execution": {
     "iopub.execute_input": "2021-09-10T02:01:10.732568Z",
     "iopub.status.busy": "2021-09-10T02:01:10.731664Z",
     "iopub.status.idle": "2021-09-10T02:01:20.140705Z",
     "shell.execute_reply": "2021-09-10T02:01:20.140186Z"
    },
    "papermill": {
     "duration": 9.423851,
     "end_time": "2021-09-10T02:01:20.140848",
     "exception": false,
     "start_time": "2021-09-10T02:01:10.716997",
     "status": "completed"
    },
    "tags": []
   },
   "outputs": [],
   "source": [
    "#hide_input\n",
    "blockchain = read_news('blockchain') \n",
    "btc = read_news('btc') \n",
    "xrp = read_news('xrp') \n",
    "trx = read_news('trx') \n",
    "eth = read_news('eth')  \n",
    "ada = read_news('ada')\n",
    "exchange = read_news('exchange') "
   ]
  },
  {
   "cell_type": "code",
   "execution_count": 3,
   "id": "synthetic-notion",
   "metadata": {
    "execution": {
     "iopub.execute_input": "2021-09-10T02:01:20.165075Z",
     "iopub.status.busy": "2021-09-10T02:01:20.164558Z",
     "iopub.status.idle": "2021-09-10T02:01:20.168223Z",
     "shell.execute_reply": "2021-09-10T02:01:20.168604Z"
    },
    "papermill": {
     "duration": 0.018358,
     "end_time": "2021-09-10T02:01:20.168722",
     "exception": false,
     "start_time": "2021-09-10T02:01:20.150364",
     "status": "completed"
    },
    "tags": []
   },
   "outputs": [
    {
     "data": {
      "text/markdown": [
       "- Mastercard acquires blockchain intelligence firm CiherTrace.   TL;DR Breakdown Mastercard acquires CipherTrace.Payment giant to integrate CipherTrace analyticts in its platform.Crypto growth necessitated the acquisition, Ajay Bhalla reveals. Payment processing giant Mastercard has announced plans to acquire CipherTrace a crypto and blockchain intelligence company. The move is an indication that MasterCard’s focus on crypto and digital currencies has deepened. Per a press release on Thursday, the payment giant reached the agreement to acquire the blockchain analytics firm so it can integrate the platform into its own cyber security solutions for digital assets. Mastercard said in the press release that it would combine its cyber capabilities with CipherTrace technology to differentiate its card and real-time payments architecture. The payment giant said the deal would enable clients and partners to adopt digital assets while maintaining compliance with financial regulatory provisions. Reportedly, the deal will also help the payment giant provide transparency to their clients regarding payment and investment across the cryptocurrency industry. Why Mastercard had to acquire CipherTrace Mastercard’s cyber and intelligence chief Ajay Bhalla stated that the growth of the crypto market had necessitated the need for trusted and safe operations. He noted that Ciphertrace would build on the payment giant existing capabilities to ensure the ecosystem’s security and protect the blooming industry fro... ... [| Skaityti daugiau](https://api.follow.it/track-rss-story-click/v3/tHfgumto13AcaBmMMiRE0vdczOo_8W9B) "
      ],
      "text/plain": [
       "<IPython.core.display.Markdown object>"
      ]
     },
     "execution_count": 3,
     "metadata": {},
     "output_type": "execute_result"
    }
   ],
   "source": [
    "#hide_input\n",
    "#md('##### {}'.format(titleBTC)) \n",
    "md(\"- {}{} {}{} [| Skaityti daugiau]({}) \".format(blockchain['title'],'. ', blockchain['body'], ' ...', blockchain['url']))"
   ]
  },
  {
   "cell_type": "code",
   "execution_count": 4,
   "id": "aging-caution",
   "metadata": {
    "execution": {
     "iopub.execute_input": "2021-09-10T02:01:20.191862Z",
     "iopub.status.busy": "2021-09-10T02:01:20.191362Z",
     "iopub.status.idle": "2021-09-10T02:01:20.193913Z",
     "shell.execute_reply": "2021-09-10T02:01:20.194368Z"
    },
    "papermill": {
     "duration": 0.016491,
     "end_time": "2021-09-10T02:01:20.194484",
     "exception": false,
     "start_time": "2021-09-10T02:01:20.177993",
     "status": "completed"
    },
    "tags": []
   },
   "outputs": [
    {
     "data": {
      "text/markdown": [
       "- Central Bankers Say Bitcoin Is High Risk Investment, Poor Store of Value, Could Collapse.  Two central bank governors have shared their opinions about bitcoin after the cryptocurrency became legal tender in El Salvador. The governor of the Bank of Mexico sees bitcoin as a high-risk investment and a poor store of value while the governor of Sweden&#x2019;s central bank, the Riksbank, believes bitcoin could collapse. Central Bankers Continue to [&#8230;] ... [| Skaityti daugiau](https://news.bitcoin.com/central-bankers-bitcoin-high-risk-investment-poor-store-of-value-could-collapse/) "
      ],
      "text/plain": [
       "<IPython.core.display.Markdown object>"
      ]
     },
     "execution_count": 4,
     "metadata": {},
     "output_type": "execute_result"
    }
   ],
   "source": [
    "#hide_input\n",
    "#md('##### {}'.format(titleBTC)) \n",
    "md(\"- {}{} {}{} [| Skaityti daugiau]({}) \".format(btc['title'],'. ', btc['body'], ' ...', btc['url']))"
   ]
  },
  {
   "cell_type": "code",
   "execution_count": 5,
   "id": "organic-actress",
   "metadata": {
    "execution": {
     "iopub.execute_input": "2021-09-10T02:01:20.217639Z",
     "iopub.status.busy": "2021-09-10T02:01:20.217143Z",
     "iopub.status.idle": "2021-09-10T02:01:20.220009Z",
     "shell.execute_reply": "2021-09-10T02:01:20.219586Z"
    },
    "papermill": {
     "duration": 0.016048,
     "end_time": "2021-09-10T02:01:20.220104",
     "exception": false,
     "start_time": "2021-09-10T02:01:20.204056",
     "status": "completed"
    },
    "tags": []
   },
   "outputs": [
    {
     "data": {
      "text/markdown": [
       "- XRP may be in danger of revisiting these lows, but what should traders do.  Disclaimer: The findings of the following analysis are the sole opinions of the writer and should not be taken as investment advice A huge red candle on XRP&#8217;s chart identified losses of 19% in just a single day as the alt declined with the broader market. The candlewick even dropped to $0.95, marking XRP&#8217;s biggest percentage [&#8230;] ... [| Skaityti daugiau](https://ambcrypto.com/xrp-may-be-in-danger-of-revisiting-these-lows-but-what-should-traders-do/) "
      ],
      "text/plain": [
       "<IPython.core.display.Markdown object>"
      ]
     },
     "execution_count": 5,
     "metadata": {},
     "output_type": "execute_result"
    }
   ],
   "source": [
    "#hide_input\n",
    "#md('##### {}'.format(titleBTC)) \n",
    "md(\"- {}{} {}{} [| Skaityti daugiau]({}) \".format(xrp['title'],'. ', xrp['body'], ' ...', xrp['url']))"
   ]
  },
  {
   "cell_type": "code",
   "execution_count": 6,
   "id": "prompt-farmer",
   "metadata": {
    "execution": {
     "iopub.execute_input": "2021-09-10T02:01:20.244227Z",
     "iopub.status.busy": "2021-09-10T02:01:20.243737Z",
     "iopub.status.idle": "2021-09-10T02:01:20.246472Z",
     "shell.execute_reply": "2021-09-10T02:01:20.246854Z"
    },
    "papermill": {
     "duration": 0.016969,
     "end_time": "2021-09-10T02:01:20.246964",
     "exception": false,
     "start_time": "2021-09-10T02:01:20.229995",
     "status": "completed"
    },
    "tags": []
   },
   "outputs": [
    {
     "data": {
      "text/markdown": [
       "- Tron price analysis: TRX gears for new bullish trend after touching $0.076 low.   TL;DR Breakdown Tron forms a bullish engulfing pattern after a downslide of over 14 percent yesterdayPrice could breakout as high as $0.18 in the upcoming trendSupport sits at the current price of $0.09 which is set to be maintained Tron price analysis shows that the coin is set to form a new trend starting today, that could potentially take price up to $0.18. The new upturn is formed after price fell more than 14 percent yesterday, to a month long low of $0.07. This downslide pushed trading volume, allowing buyers to consolidate in the market after support was breached at $0.09. This triggered the bullish response from the 28th ranked cryptocurrency, that now sits at a recovered price of $0.094 and continues to rise.  The current newfound bullish momentum is expected to face some backlash near the $0.12 mark. However attempts are expected to breakout towards $0.2. After yesterday&#8217;s decline, the price has now moved back above the 50 and 100-day moving averages, while also exhibiting a positive crossover in the intra-day trading session as per Tron price analysis. TRX followed a recovering larger cryptocurrency market, where Bitcoin and Altcoins showed recoveries from bloodbaths suffered earlier in the week. Bitcoin went above the $47,000 mark while Ethereum pulled past $3,500, each going up by 1.5 percent. Among Altcoins, the biggest increments were seen with Solana (13 percent), Polkadot (10 percent) and Cardano (aroun... ... [| Skaityti daugiau](https://api.follow.it/track-rss-story-click/v3/tHfgumto13CrCqpyut-Aj95ZnUTwRGH7) "
      ],
      "text/plain": [
       "<IPython.core.display.Markdown object>"
      ]
     },
     "execution_count": 6,
     "metadata": {},
     "output_type": "execute_result"
    }
   ],
   "source": [
    "#hide_input\n",
    "#md('##### {}'.format(titleBTC)) \n",
    "md(\"- {}{} {}{} [| Skaityti daugiau]({}) \".format(trx['title'],'. ', trx['body'], ' ...', trx['url']))"
   ]
  },
  {
   "cell_type": "code",
   "execution_count": 7,
   "id": "illegal-greece",
   "metadata": {
    "execution": {
     "iopub.execute_input": "2021-09-10T02:01:20.271580Z",
     "iopub.status.busy": "2021-09-10T02:01:20.271080Z",
     "iopub.status.idle": "2021-09-10T02:01:20.273642Z",
     "shell.execute_reply": "2021-09-10T02:01:20.273151Z"
    },
    "papermill": {
     "duration": 0.016434,
     "end_time": "2021-09-10T02:01:20.273735",
     "exception": false,
     "start_time": "2021-09-10T02:01:20.257301",
     "status": "completed"
    },
    "tags": []
   },
   "outputs": [
    {
     "data": {
      "text/markdown": [
       "- Here’s this exec’s take on when ‘people will really relinquish’ their Bitcoin, cryptos.  The Ethereum 2.0 contract is currently the biggest holder of Ether, with the same edging closer to the psychological level of $30 billion by the hour. With more and more Ether deposits streaming in, Kraken&#8217;s Crypto-Platform Product Lead Brian Hoffman recently came as a guest on the Staking Rewards show. On the said edition, the [&#8230;] ... [| Skaityti daugiau](https://ambcrypto.com/heres-this-execs-take-on-when-people-will-really-relinquish-their-bitcoin-cryptos/) "
      ],
      "text/plain": [
       "<IPython.core.display.Markdown object>"
      ]
     },
     "execution_count": 7,
     "metadata": {},
     "output_type": "execute_result"
    }
   ],
   "source": [
    "#hide_input\n",
    "#md('##### {}'.format(titleBTC)) \n",
    "md(\"- {}{} {}{} [| Skaityti daugiau]({}) \".format(eth['title'],'. ', eth['body'], ' ...', eth['url']))"
   ]
  },
  {
   "cell_type": "code",
   "execution_count": 8,
   "id": "sublime-lounge",
   "metadata": {
    "execution": {
     "iopub.execute_input": "2021-09-10T02:01:20.298856Z",
     "iopub.status.busy": "2021-09-10T02:01:20.298358Z",
     "iopub.status.idle": "2021-09-10T02:01:20.301458Z",
     "shell.execute_reply": "2021-09-10T02:01:20.301033Z"
    },
    "papermill": {
     "duration": 0.017309,
     "end_time": "2021-09-10T02:01:20.301552",
     "exception": false,
     "start_time": "2021-09-10T02:01:20.284243",
     "status": "completed"
    },
    "tags": []
   },
   "outputs": [
    {
     "data": {
      "text/markdown": [
       "- Cardano community select projects to develop metadata sidechain solution.  The Cardano community has selected Fluree and Ikigai Technologies to build their metadata sidechain solution &#8211; Project Logosphere. The project is funded as a cohort project of Project Catalyst, Cardano&#8217;s community fund allocated via public voting. As per the official announcement, Fluree, provider of an immutable semantic graph data platform, announced a partnership with Ikigai [&#8230;] ... [| Skaityti daugiau](https://ambcrypto.com/cardano-community-select-projects-to-develop-metadata-sidechain-solution/) "
      ],
      "text/plain": [
       "<IPython.core.display.Markdown object>"
      ]
     },
     "execution_count": 8,
     "metadata": {},
     "output_type": "execute_result"
    }
   ],
   "source": [
    "#hide_input\n",
    "#md('##### {}'.format(titleBTC)) \n",
    "md(\"- {}{} {}{} [| Skaityti daugiau]({}) \".format(ada['title'],'. ', ada['body'], ' ...', ada['url']))"
   ]
  },
  {
   "cell_type": "code",
   "execution_count": 9,
   "id": "specified-ordering",
   "metadata": {
    "execution": {
     "iopub.execute_input": "2021-09-10T02:01:20.327456Z",
     "iopub.status.busy": "2021-09-10T02:01:20.326963Z",
     "iopub.status.idle": "2021-09-10T02:01:20.329864Z",
     "shell.execute_reply": "2021-09-10T02:01:20.329447Z"
    },
    "papermill": {
     "duration": 0.01753,
     "end_time": "2021-09-10T02:01:20.329957",
     "exception": false,
     "start_time": "2021-09-10T02:01:20.312427",
     "status": "completed"
    },
    "tags": []
   },
   "outputs": [
    {
     "data": {
      "text/markdown": [
       "- ‘This isn’t about Ripple’: Crypto community reacts to SEC’s ‘regulation through litigation’ strategy.  The US Securities and Exchange Commission&#8217;s (SEC) rigid approach is being called out by market participants, legal experts and industry insiders, all independently accusing the agency for its autocratic attitude and shortage of communication. The largest cryptocurrency trading platform in the US, Coinbase, publicly disclosed that it has been left in the dark by the [&#8230;]The post &#8216;This isn&#8217;t about Ripple&#8217;: Crypto community reacts to SEC’s ‘regulation through litigation’ strategy  appeared first on CryptoSlate. ... [| Skaityti daugiau](https://cryptoslate.com/this-isnt-about-ripple-crypto-community-reacts-to-secs-regulation-through-litigation-strategy/) "
      ],
      "text/plain": [
       "<IPython.core.display.Markdown object>"
      ]
     },
     "execution_count": 9,
     "metadata": {},
     "output_type": "execute_result"
    }
   ],
   "source": [
    "#hide_input\n",
    "#md('##### {}'.format(titleBTC)) \n",
    "md(\"- {}{} {}{} [| Skaityti daugiau]({}) \".format(exchange['title'],'. ', exchange['body'], ' ...', exchange['url']))"
   ]
  },
  {
   "cell_type": "code",
   "execution_count": null,
   "id": "tender-livestock",
   "metadata": {
    "papermill": {
     "duration": 0.011138,
     "end_time": "2021-09-10T02:01:20.352260",
     "exception": false,
     "start_time": "2021-09-10T02:01:20.341122",
     "status": "completed"
    },
    "tags": []
   },
   "outputs": [],
   "source": []
  },
  {
   "cell_type": "code",
   "execution_count": null,
   "id": "appreciated-diamond",
   "metadata": {
    "papermill": {
     "duration": 0.011178,
     "end_time": "2021-09-10T02:01:20.374803",
     "exception": false,
     "start_time": "2021-09-10T02:01:20.363625",
     "status": "completed"
    },
    "tags": []
   },
   "outputs": [],
   "source": []
  },
  {
   "cell_type": "code",
   "execution_count": null,
   "id": "romance-sweden",
   "metadata": {
    "papermill": {
     "duration": 0.011496,
     "end_time": "2021-09-10T02:01:20.397465",
     "exception": false,
     "start_time": "2021-09-10T02:01:20.385969",
     "status": "completed"
    },
    "tags": []
   },
   "outputs": [],
   "source": []
  },
  {
   "cell_type": "code",
   "execution_count": null,
   "id": "dietary-statistics",
   "metadata": {
    "papermill": {
     "duration": 0.011134,
     "end_time": "2021-09-10T02:01:20.419868",
     "exception": false,
     "start_time": "2021-09-10T02:01:20.408734",
     "status": "completed"
    },
    "tags": []
   },
   "outputs": [],
   "source": []
  }
 ],
 "metadata": {
  "kernelspec": {
   "display_name": "Python 3",
   "language": "python",
   "name": "python3"
  },
  "language_info": {
   "codemirror_mode": {
    "name": "ipython",
    "version": 3
   },
   "file_extension": ".py",
   "mimetype": "text/x-python",
   "name": "python",
   "nbconvert_exporter": "python",
   "pygments_lexer": "ipython3",
   "version": "3.6.14"
  },
  "papermill": {
   "default_parameters": {},
   "duration": 12.306149,
   "end_time": "2021-09-10T02:01:20.838726",
   "environment_variables": {},
   "exception": null,
   "input_path": "Market-News.ipynb",
   "output_path": "Market-News.ipynb",
   "parameters": {},
   "start_time": "2021-09-10T02:01:08.532577",
   "version": "2.2.2"
  }
 },
 "nbformat": 4,
 "nbformat_minor": 5
}