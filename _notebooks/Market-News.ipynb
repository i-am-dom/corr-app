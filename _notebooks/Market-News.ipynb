{
 "cells": [
  {
   "cell_type": "markdown",
   "id": "short-greensboro",
   "metadata": {
    "papermill": {
     "duration": 0.012857,
     "end_time": "2022-06-26T03:15:29.791089",
     "exception": false,
     "start_time": "2022-06-26T03:15:29.778232",
     "status": "completed"
    },
    "tags": []
   },
   "source": [
    "# Kriptovaliutų naujienos"
   ]
  },
  {
   "cell_type": "code",
   "execution_count": 1,
   "id": "functioning-knowing",
   "metadata": {
    "execution": {
     "iopub.execute_input": "2022-06-26T03:15:29.819676Z",
     "iopub.status.busy": "2022-06-26T03:15:29.819107Z",
     "iopub.status.idle": "2022-06-26T03:15:30.940694Z",
     "shell.execute_reply": "2022-06-26T03:15:30.940189Z"
    },
    "papermill": {
     "duration": 1.139881,
     "end_time": "2022-06-26T03:15:30.940811",
     "exception": false,
     "start_time": "2022-06-26T03:15:29.800930",
     "status": "completed"
    },
    "tags": []
   },
   "outputs": [],
   "source": [
    "#hide_input\n",
    "import warnings\n",
    "warnings.filterwarnings('ignore')\n",
    "from scripts.read_data import read_api\n",
    "from scripts.read_data import read_news\n",
    "from scripts.read_data import read_covid\n",
    "import matplotlib.pyplot as plt \n",
    "from IPython.display import Markdown as md"
   ]
  },
  {
   "cell_type": "code",
   "execution_count": 2,
   "id": "shared-acceptance",
   "metadata": {
    "execution": {
     "iopub.execute_input": "2022-06-26T03:15:30.965166Z",
     "iopub.status.busy": "2022-06-26T03:15:30.964599Z",
     "iopub.status.idle": "2022-06-26T03:15:44.566691Z",
     "shell.execute_reply": "2022-06-26T03:15:44.566190Z"
    },
    "papermill": {
     "duration": 13.616626,
     "end_time": "2022-06-26T03:15:44.566809",
     "exception": false,
     "start_time": "2022-06-26T03:15:30.950183",
     "status": "completed"
    },
    "tags": []
   },
   "outputs": [],
   "source": [
    "#hide_input\n",
    "blockchain = read_news('blockchain') \n",
    "btc = read_news('btc') \n",
    "xrp = read_news('xrp') \n",
    "trx = read_news('trx') \n",
    "eth = read_news('eth')  \n",
    "ada = read_news('ada')\n",
    "exchange = read_news('exchange') "
   ]
  },
  {
   "cell_type": "code",
   "execution_count": 3,
   "id": "synthetic-notion",
   "metadata": {
    "execution": {
     "iopub.execute_input": "2022-06-26T03:15:44.587871Z",
     "iopub.status.busy": "2022-06-26T03:15:44.587310Z",
     "iopub.status.idle": "2022-06-26T03:15:44.594864Z",
     "shell.execute_reply": "2022-06-26T03:15:44.594433Z"
    },
    "papermill": {
     "duration": 0.018729,
     "end_time": "2022-06-26T03:15:44.594961",
     "exception": false,
     "start_time": "2022-06-26T03:15:44.576232",
     "status": "completed"
    },
    "tags": []
   },
   "outputs": [
    {
     "data": {
      "text/markdown": [
       "- Can you earn passive income running a Lightning node?.  Learn to manage and run a Lightning node at a profit. Also, discover various Lightning Network problems and how to address them. ... [| Skaityti daugiau](https://cointelegraph.com/explained/can-you-earn-passive-income-running-a-lightning-node) "
      ],
      "text/plain": [
       "<IPython.core.display.Markdown object>"
      ]
     },
     "execution_count": 3,
     "metadata": {},
     "output_type": "execute_result"
    }
   ],
   "source": [
    "#hide_input\n",
    "#md('##### {}'.format(titleBTC)) \n",
    "md(\"- {}{} {}{} [| Skaityti daugiau]({}) \".format(blockchain['title'],'. ', blockchain['body'], ' ...', blockchain['url']))"
   ]
  },
  {
   "cell_type": "code",
   "execution_count": 4,
   "id": "aging-caution",
   "metadata": {
    "execution": {
     "iopub.execute_input": "2022-06-26T03:15:44.617825Z",
     "iopub.status.busy": "2022-06-26T03:15:44.617215Z",
     "iopub.status.idle": "2022-06-26T03:15:44.620271Z",
     "shell.execute_reply": "2022-06-26T03:15:44.619844Z"
    },
    "papermill": {
     "duration": 0.01602,
     "end_time": "2022-06-26T03:15:44.620366",
     "exception": false,
     "start_time": "2022-06-26T03:15:44.604346",
     "status": "completed"
    },
    "tags": []
   },
   "outputs": [
    {
     "data": {
      "text/markdown": [
       "- Avalanche [AVAX] traders can check these metrics before going short.  The Avalanche [AVAX] network suffered massively following the crypto crash in June. However, it has been making huge strides in the market as of 25 June. The native token, AVAX, has also received a good movement given its current price trajectory. AVAX prices have responded well with a 10% surge since the last day to [&#8230;] ... [| Skaityti daugiau](https://ambcrypto.com/avalanche-avax-can-check-these-metrics-before-going-short/) "
      ],
      "text/plain": [
       "<IPython.core.display.Markdown object>"
      ]
     },
     "execution_count": 4,
     "metadata": {},
     "output_type": "execute_result"
    }
   ],
   "source": [
    "#hide_input\n",
    "#md('##### {}'.format(titleBTC)) \n",
    "md(\"- {}{} {}{} [| Skaityti daugiau]({}) \".format(btc['title'],'. ', btc['body'], ' ...', btc['url']))"
   ]
  },
  {
   "cell_type": "code",
   "execution_count": 5,
   "id": "organic-actress",
   "metadata": {
    "execution": {
     "iopub.execute_input": "2022-06-26T03:15:44.644098Z",
     "iopub.status.busy": "2022-06-26T03:15:44.643327Z",
     "iopub.status.idle": "2022-06-26T03:15:44.647302Z",
     "shell.execute_reply": "2022-06-26T03:15:44.646880Z"
    },
    "papermill": {
     "duration": 0.017377,
     "end_time": "2022-06-26T03:15:44.647395",
     "exception": false,
     "start_time": "2022-06-26T03:15:44.630018",
     "status": "completed"
    },
    "tags": []
   },
   "outputs": [
    {
     "data": {
      "text/markdown": [
       "- 8 KOLs Whose Opinions Matter in the Crypto Space.  Cryptocurrencies are rapidly becoming very popular, with the Bitcoin millionaires list growing longer. Crypto is deemed the currency of the future. Its decentralized nature in control and processing makes it very attractive, increasing the number of individuals engaging in the industry. Many crypto leaders use various social media platforms, such as Twitter and YouTube and crypto websites and blogs, to share their insights. While focusing not only on the number of followers but also on the use of different social media platforms to promote the blockchain industry, several notable individuals are making an impact. Some are not KOLs per se but are respected and looked up to in the crypto space. Top 8 KOLs in the Crypto Space 1. Roger Ver Roger Ver, a pioneer Bitcoin promoter, is an early adopter of blockchain technology, investing large sums of money in different crypto startups, including Kraken, Ripple, Bitcoin, and Purse.io. He’s one of the first entrepreneurs to start accepting crypto as a form of payment. With approximately 748,400 followers, his feed is a beneficial source of news and information on crypto, including issues regarding Bitcoin and Bitcoin Cash, ethical considerations, and crypto investment insights. 2. Andreas M. Antonopoulos Andreas Antonopoulos is another bigwig in the crypto space. The Greek-British tech entrepreneur has been a vocal figure advocating for Bitcoin and blockchain. An author of books explain... ... [| Skaityti daugiau](https://www.cryptoknowmics.com/news/8-kols-whose-opinions-matter-in-the-crypto-space/?utm_source=rss&utm_medium=rss&utm_campaign=8-kols-whose-opinions-matter-in-the-crypto-space) "
      ],
      "text/plain": [
       "<IPython.core.display.Markdown object>"
      ]
     },
     "execution_count": 5,
     "metadata": {},
     "output_type": "execute_result"
    }
   ],
   "source": [
    "#hide_input\n",
    "#md('##### {}'.format(titleBTC)) \n",
    "md(\"- {}{} {}{} [| Skaityti daugiau]({}) \".format(xrp['title'],'. ', xrp['body'], ' ...', xrp['url']))"
   ]
  },
  {
   "cell_type": "code",
   "execution_count": 6,
   "id": "prompt-farmer",
   "metadata": {
    "execution": {
     "iopub.execute_input": "2022-06-26T03:15:44.671356Z",
     "iopub.status.busy": "2022-06-26T03:15:44.670809Z",
     "iopub.status.idle": "2022-06-26T03:15:44.673948Z",
     "shell.execute_reply": "2022-06-26T03:15:44.673419Z"
    },
    "papermill": {
     "duration": 0.016678,
     "end_time": "2022-06-26T03:15:44.674039",
     "exception": false,
     "start_time": "2022-06-26T03:15:44.657361",
     "status": "completed"
    },
    "tags": []
   },
   "outputs": [
    {
     "data": {
      "text/markdown": [
       "- Tron’s (TRX) Total Accounts Hits a New Milestone of 100M As the Project Celebrates its 4th Anniversary.  Summary: The total number of accounts on the Tron blockchain has hit a new milestone of 100 million. Tron is also celebrating its 4th Anniversary as an independent chain after migrating from Ethereum on June 25th, 2018. The total number of accounts on the Tron blockchain has hit a new milestone of 100 million. The team at Tron DAO highlighted the milestone through the tweet below which also pointed out that Tron was &#8216;the world&#8217;s fastest growing public chain with [&#8230;] ... [| Skaityti daugiau](https://en.ethereumworldnews.com/trons-trx-accounts-hit-100m-as-the-project-celebrates-4th-anniversary/) "
      ],
      "text/plain": [
       "<IPython.core.display.Markdown object>"
      ]
     },
     "execution_count": 6,
     "metadata": {},
     "output_type": "execute_result"
    }
   ],
   "source": [
    "#hide_input\n",
    "#md('##### {}'.format(titleBTC)) \n",
    "md(\"- {}{} {}{} [| Skaityti daugiau]({}) \".format(trx['title'],'. ', trx['body'], ' ...', trx['url']))"
   ]
  },
  {
   "cell_type": "code",
   "execution_count": 7,
   "id": "illegal-greece",
   "metadata": {
    "execution": {
     "iopub.execute_input": "2022-06-26T03:15:44.698908Z",
     "iopub.status.busy": "2022-06-26T03:15:44.698355Z",
     "iopub.status.idle": "2022-06-26T03:15:44.701091Z",
     "shell.execute_reply": "2022-06-26T03:15:44.701515Z"
    },
    "papermill": {
     "duration": 0.017133,
     "end_time": "2022-06-26T03:15:44.701617",
     "exception": false,
     "start_time": "2022-06-26T03:15:44.684484",
     "status": "completed"
    },
    "tags": []
   },
   "outputs": [
    {
     "data": {
      "text/markdown": [
       "- NEAR bridge users withdraw $2.3m ETH amid 17% rise but here’s the catch.  Along with the rest of the market, NEAR climbed up the price charts and managed to seal a sizable growth. However, the network of late has been observing unfavorable changes. NEAR closer to profits? Investors are not waiting for a moment before making a move. According to on-chain data, NEAR&#8217;s bridge with Ethereum has noted [&#8230;] ... [| Skaityti daugiau](https://ambcrypto.com/near-bridge-users-withdraw-2-3m-eth-amid-17-rise-but-heres-the-catch/) "
      ],
      "text/plain": [
       "<IPython.core.display.Markdown object>"
      ]
     },
     "execution_count": 7,
     "metadata": {},
     "output_type": "execute_result"
    }
   ],
   "source": [
    "#hide_input\n",
    "#md('##### {}'.format(titleBTC)) \n",
    "md(\"- {}{} {}{} [| Skaityti daugiau]({}) \".format(eth['title'],'. ', eth['body'], ' ...', eth['url']))"
   ]
  },
  {
   "cell_type": "code",
   "execution_count": 8,
   "id": "sublime-lounge",
   "metadata": {
    "execution": {
     "iopub.execute_input": "2022-06-26T03:15:44.727506Z",
     "iopub.status.busy": "2022-06-26T03:15:44.726669Z",
     "iopub.status.idle": "2022-06-26T03:15:44.730586Z",
     "shell.execute_reply": "2022-06-26T03:15:44.730037Z"
    },
    "papermill": {
     "duration": 0.017455,
     "end_time": "2022-06-26T03:15:44.730679",
     "exception": false,
     "start_time": "2022-06-26T03:15:44.713224",
     "status": "completed"
    },
    "tags": []
   },
   "outputs": [
    {
     "data": {
      "text/markdown": [
       "- Cardano Vasil: Crucial Decision on Testnet Hard Fork To Be Made Next Week.  IOG also hopes to deliver Cardano's lightweight wallet, Lace, this summer ... [| Skaityti daugiau](https://u.today/cardano-vasil-crucial-decision-on-testnet-hard-fork-to-be-made-next-week) "
      ],
      "text/plain": [
       "<IPython.core.display.Markdown object>"
      ]
     },
     "execution_count": 8,
     "metadata": {},
     "output_type": "execute_result"
    }
   ],
   "source": [
    "#hide_input\n",
    "#md('##### {}'.format(titleBTC)) \n",
    "md(\"- {}{} {}{} [| Skaityti daugiau]({}) \".format(ada['title'],'. ', ada['body'], ' ...', ada['url']))"
   ]
  },
  {
   "cell_type": "code",
   "execution_count": 9,
   "id": "specified-ordering",
   "metadata": {
    "execution": {
     "iopub.execute_input": "2022-06-26T03:15:44.756510Z",
     "iopub.status.busy": "2022-06-26T03:15:44.755964Z",
     "iopub.status.idle": "2022-06-26T03:15:44.759352Z",
     "shell.execute_reply": "2022-06-26T03:15:44.758907Z"
    },
    "papermill": {
     "duration": 0.017818,
     "end_time": "2022-06-26T03:15:44.759442",
     "exception": false,
     "start_time": "2022-06-26T03:15:44.741624",
     "status": "completed"
    },
    "tags": []
   },
   "outputs": [
    {
     "data": {
      "text/markdown": [
       "- Binance Eyeing Up to 100 Deals in the Crypto Space Amid the Bear Market, According to CEO Changpeng Zhao.  Binance CEO Changpeng Zhao says the biggest crypto exchange by volume is currently hunting for deals in the crypto market. Zhao tells Yahoo! Finance that Binance is looking at 50-100 crypto deals right now with more to be announced soon. &#8220;We actually see a lot of opportunity in the market. So we&#8217;re increasing our hiring, [&#8230;]The post Binance Eyeing Up to 100 Deals in the Crypto Space Amid the Bear Market, According to CEO Changpeng Zhao appeared first on The Daily Hodl. ... [| Skaityti daugiau](https://dailyhodl.com/2022/06/25/binance-eyeing-up-to-100-deals-in-the-crypto-space-amid-the-bear-market-according-to-ceo-changpeng-zhao/) "
      ],
      "text/plain": [
       "<IPython.core.display.Markdown object>"
      ]
     },
     "execution_count": 9,
     "metadata": {},
     "output_type": "execute_result"
    }
   ],
   "source": [
    "#hide_input\n",
    "#md('##### {}'.format(titleBTC)) \n",
    "md(\"- {}{} {}{} [| Skaityti daugiau]({}) \".format(exchange['title'],'. ', exchange['body'], ' ...', exchange['url']))"
   ]
  },
  {
   "cell_type": "code",
   "execution_count": null,
   "id": "tender-livestock",
   "metadata": {
    "papermill": {
     "duration": 0.011296,
     "end_time": "2022-06-26T03:15:44.782048",
     "exception": false,
     "start_time": "2022-06-26T03:15:44.770752",
     "status": "completed"
    },
    "tags": []
   },
   "outputs": [],
   "source": []
  },
  {
   "cell_type": "code",
   "execution_count": null,
   "id": "appreciated-diamond",
   "metadata": {
    "papermill": {
     "duration": 0.011593,
     "end_time": "2022-06-26T03:15:44.805032",
     "exception": false,
     "start_time": "2022-06-26T03:15:44.793439",
     "status": "completed"
    },
    "tags": []
   },
   "outputs": [],
   "source": []
  },
  {
   "cell_type": "code",
   "execution_count": null,
   "id": "romance-sweden",
   "metadata": {
    "papermill": {
     "duration": 0.011182,
     "end_time": "2022-06-26T03:15:44.827542",
     "exception": false,
     "start_time": "2022-06-26T03:15:44.816360",
     "status": "completed"
    },
    "tags": []
   },
   "outputs": [],
   "source": []
  },
  {
   "cell_type": "code",
   "execution_count": null,
   "id": "dietary-statistics",
   "metadata": {
    "papermill": {
     "duration": 0.011206,
     "end_time": "2022-06-26T03:15:44.850144",
     "exception": false,
     "start_time": "2022-06-26T03:15:44.838938",
     "status": "completed"
    },
    "tags": []
   },
   "outputs": [],
   "source": []
  }
 ],
 "metadata": {
  "kernelspec": {
   "display_name": "Python 3",
   "language": "python",
   "name": "python3"
  },
  "language_info": {
   "codemirror_mode": {
    "name": "ipython",
    "version": 3
   },
   "file_extension": ".py",
   "mimetype": "text/x-python",
   "name": "python",
   "nbconvert_exporter": "python",
   "pygments_lexer": "ipython3",
   "version": "3.6.15"
  },
  "papermill": {
   "default_parameters": {},
   "duration": 16.294851,
   "end_time": "2022-06-26T03:15:45.177595",
   "environment_variables": {},
   "exception": null,
   "input_path": "Market-News.ipynb",
   "output_path": "Market-News.ipynb",
   "parameters": {},
   "start_time": "2022-06-26T03:15:28.882744",
   "version": "2.2.2"
  }
 },
 "nbformat": 4,
 "nbformat_minor": 5
}