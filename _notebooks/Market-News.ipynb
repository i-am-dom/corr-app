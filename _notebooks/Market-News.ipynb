{
 "cells": [
  {
   "cell_type": "markdown",
   "id": "short-greensboro",
   "metadata": {
    "papermill": {
     "duration": 0.012933,
     "end_time": "2022-05-29T03:09:26.619184",
     "exception": false,
     "start_time": "2022-05-29T03:09:26.606251",
     "status": "completed"
    },
    "tags": []
   },
   "source": [
    "# Kriptovaliutų naujienos"
   ]
  },
  {
   "cell_type": "code",
   "execution_count": 1,
   "id": "functioning-knowing",
   "metadata": {
    "execution": {
     "iopub.execute_input": "2022-05-29T03:09:26.648355Z",
     "iopub.status.busy": "2022-05-29T03:09:26.647738Z",
     "iopub.status.idle": "2022-05-29T03:09:27.878988Z",
     "shell.execute_reply": "2022-05-29T03:09:27.879531Z"
    },
    "papermill": {
     "duration": 1.25087,
     "end_time": "2022-05-29T03:09:27.879721",
     "exception": false,
     "start_time": "2022-05-29T03:09:26.628851",
     "status": "completed"
    },
    "tags": []
   },
   "outputs": [],
   "source": [
    "#hide_input\n",
    "import warnings\n",
    "warnings.filterwarnings('ignore')\n",
    "from scripts.read_data import read_api\n",
    "from scripts.read_data import read_news\n",
    "from scripts.read_data import read_covid\n",
    "import matplotlib.pyplot as plt \n",
    "from IPython.display import Markdown as md"
   ]
  },
  {
   "cell_type": "code",
   "execution_count": 2,
   "id": "shared-acceptance",
   "metadata": {
    "execution": {
     "iopub.execute_input": "2022-05-29T03:09:27.905548Z",
     "iopub.status.busy": "2022-05-29T03:09:27.904908Z",
     "iopub.status.idle": "2022-05-29T03:09:38.872445Z",
     "shell.execute_reply": "2022-05-29T03:09:38.871338Z"
    },
    "papermill": {
     "duration": 10.982981,
     "end_time": "2022-05-29T03:09:38.872588",
     "exception": false,
     "start_time": "2022-05-29T03:09:27.889607",
     "status": "completed"
    },
    "tags": []
   },
   "outputs": [],
   "source": [
    "#hide_input\n",
    "blockchain = read_news('blockchain') \n",
    "btc = read_news('btc') \n",
    "xrp = read_news('xrp') \n",
    "trx = read_news('trx') \n",
    "eth = read_news('eth')  \n",
    "ada = read_news('ada')\n",
    "exchange = read_news('exchange') "
   ]
  },
  {
   "cell_type": "code",
   "execution_count": 3,
   "id": "synthetic-notion",
   "metadata": {
    "execution": {
     "iopub.execute_input": "2022-05-29T03:09:38.897750Z",
     "iopub.status.busy": "2022-05-29T03:09:38.897134Z",
     "iopub.status.idle": "2022-05-29T03:09:38.899837Z",
     "shell.execute_reply": "2022-05-29T03:09:38.900327Z"
    },
    "papermill": {
     "duration": 0.018548,
     "end_time": "2022-05-29T03:09:38.900471",
     "exception": false,
     "start_time": "2022-05-29T03:09:38.881923",
     "status": "completed"
    },
    "tags": []
   },
   "outputs": [
    {
     "data": {
      "text/markdown": [
       "- Solana retains $40: Bullish rally to follow?.  Solana price analysis for May 29, 2022, comes on a bearish note for the token with increased chances of retesting the $40 price region and in the last 24 hours, we have seen SOL rise in value by nearly 4%. However, the bullish potential of the token is gradually decreasing as we have seen a [&#8230;]The post Solana retains $40: Bullish rally to follow? appeared first on Blockchain, Crypto and Stock News. ... [| Skaityti daugiau](https://thecoinrise.com/solana-retains-40-bullish-rally-to-follow/) "
      ],
      "text/plain": [
       "<IPython.core.display.Markdown object>"
      ]
     },
     "execution_count": 3,
     "metadata": {},
     "output_type": "execute_result"
    }
   ],
   "source": [
    "#hide_input\n",
    "#md('##### {}'.format(titleBTC)) \n",
    "md(\"- {}{} {}{} [| Skaityti daugiau]({}) \".format(blockchain['title'],'. ', blockchain['body'], ' ...', blockchain['url']))"
   ]
  },
  {
   "cell_type": "code",
   "execution_count": 4,
   "id": "aging-caution",
   "metadata": {
    "execution": {
     "iopub.execute_input": "2022-05-29T03:09:38.925212Z",
     "iopub.status.busy": "2022-05-29T03:09:38.924522Z",
     "iopub.status.idle": "2022-05-29T03:09:38.927090Z",
     "shell.execute_reply": "2022-05-29T03:09:38.927666Z"
    },
    "papermill": {
     "duration": 0.017992,
     "end_time": "2022-05-29T03:09:38.927798",
     "exception": false,
     "start_time": "2022-05-29T03:09:38.909806",
     "status": "completed"
    },
    "tags": []
   },
   "outputs": [
    {
     "data": {
      "text/markdown": [
       "- Bitcoin maitains sluggish movement: Struggles to reclaim $29K.  Bitcoin price analysis for May 29, 2022, comes on a sluggish note for the token with increased chances of losing the $28000 price region in the next 24 hours if the bulls don&#8217;t take over and lead the price action. The chances of BTC breaking the $30000 price region continue to decline as there is [&#8230;]The post Bitcoin maitains sluggish movement: Struggles to reclaim $29K appeared first on Blockchain, Crypto and Stock News. ... [| Skaityti daugiau](https://thecoinrise.com/bitcoin-maitains-sluggish-movement-struggles-to-reclaim-29k/) "
      ],
      "text/plain": [
       "<IPython.core.display.Markdown object>"
      ]
     },
     "execution_count": 4,
     "metadata": {},
     "output_type": "execute_result"
    }
   ],
   "source": [
    "#hide_input\n",
    "#md('##### {}'.format(titleBTC)) \n",
    "md(\"- {}{} {}{} [| Skaityti daugiau]({}) \".format(btc['title'],'. ', btc['body'], ' ...', btc['url']))"
   ]
  },
  {
   "cell_type": "code",
   "execution_count": 5,
   "id": "organic-actress",
   "metadata": {
    "execution": {
     "iopub.execute_input": "2022-05-29T03:09:38.953030Z",
     "iopub.status.busy": "2022-05-29T03:09:38.951760Z",
     "iopub.status.idle": "2022-05-29T03:09:38.955990Z",
     "shell.execute_reply": "2022-05-29T03:09:38.956543Z"
    },
    "papermill": {
     "duration": 0.019219,
     "end_time": "2022-05-29T03:09:38.956670",
     "exception": false,
     "start_time": "2022-05-29T03:09:38.937451",
     "status": "completed"
    },
    "tags": []
   },
   "outputs": [
    {
     "data": {
      "text/markdown": [
       "- XRP Whales On A Gigantic Accumulation Spree As Ripple Mulls IPO After SEC Lawsuit Ends.  XRP's silver lining could also be pegged to the fact that Ripple has been doing more outside the price factor. ... [| Skaityti daugiau](https://zycrypto.com/xrp-whales-on-a-gigantic-accumulation-spree-as-ripple-mulls-ipo-after-sec-lawsuit-ends/) "
      ],
      "text/plain": [
       "<IPython.core.display.Markdown object>"
      ]
     },
     "execution_count": 5,
     "metadata": {},
     "output_type": "execute_result"
    }
   ],
   "source": [
    "#hide_input\n",
    "#md('##### {}'.format(titleBTC)) \n",
    "md(\"- {}{} {}{} [| Skaityti daugiau]({}) \".format(xrp['title'],'. ', xrp['body'], ' ...', xrp['url']))"
   ]
  },
  {
   "cell_type": "code",
   "execution_count": 6,
   "id": "prompt-farmer",
   "metadata": {
    "execution": {
     "iopub.execute_input": "2022-05-29T03:09:38.981730Z",
     "iopub.status.busy": "2022-05-29T03:09:38.981151Z",
     "iopub.status.idle": "2022-05-29T03:09:38.984284Z",
     "shell.execute_reply": "2022-05-29T03:09:38.983812Z"
    },
    "papermill": {
     "duration": 0.017813,
     "end_time": "2022-05-29T03:09:38.984389",
     "exception": false,
     "start_time": "2022-05-29T03:09:38.966576",
     "status": "completed"
    },
    "tags": []
   },
   "outputs": [
    {
     "data": {
      "text/markdown": [
       "- Tron’s TRX Burn Total Exceeds 7.7 Billion.  The Tron network has managed to outperform the rest of the cryptocurrencies amid the recently increased bear pressure. Tron’s native token TRX has surged by over 25% in the past 30 days. In a bid to support this increase the network is constantly executing multiple burns. Almost 300 million TRX burned Justin Sun, Tron&#8217;s head, The post Tron&#8217;s TRX Burn Total Exceeds 7.7 Billion appeared first on CoinGape. ... [| Skaityti daugiau](https://coingape.com/trons-trx-burn-total-exceeds-7-7-billion/) "
      ],
      "text/plain": [
       "<IPython.core.display.Markdown object>"
      ]
     },
     "execution_count": 6,
     "metadata": {},
     "output_type": "execute_result"
    }
   ],
   "source": [
    "#hide_input\n",
    "#md('##### {}'.format(titleBTC)) \n",
    "md(\"- {}{} {}{} [| Skaityti daugiau]({}) \".format(trx['title'],'. ', trx['body'], ' ...', trx['url']))"
   ]
  },
  {
   "cell_type": "code",
   "execution_count": 7,
   "id": "illegal-greece",
   "metadata": {
    "execution": {
     "iopub.execute_input": "2022-05-29T03:09:39.010347Z",
     "iopub.status.busy": "2022-05-29T03:09:39.009703Z",
     "iopub.status.idle": "2022-05-29T03:09:39.012516Z",
     "shell.execute_reply": "2022-05-29T03:09:39.012967Z"
    },
    "papermill": {
     "duration": 0.01835,
     "end_time": "2022-05-29T03:09:39.013095",
     "exception": false,
     "start_time": "2022-05-29T03:09:38.994745",
     "status": "completed"
    },
    "tags": []
   },
   "outputs": [
    {
     "data": {
      "text/markdown": [
       "- Ethereum jumps 2% but fails to reclaim $1800.  Ethereum price analysis for May 29, 2022, comes on a bearish note for the token with increased chances of breaking $1800 if the bulls continue to dominate. However, looking at the current scenario, it won&#8217;t be possible to reach $1800 as we need a higher buying pressure for the same. In the last 24 hours, [&#8230;]The post Ethereum jumps 2% but fails to reclaim $1800 appeared first on Blockchain, Crypto and Stock News. ... [| Skaityti daugiau](https://thecoinrise.com/ethereum-jumps-2-but-fails-to-reclaim-1800/) "
      ],
      "text/plain": [
       "<IPython.core.display.Markdown object>"
      ]
     },
     "execution_count": 7,
     "metadata": {},
     "output_type": "execute_result"
    }
   ],
   "source": [
    "#hide_input\n",
    "#md('##### {}'.format(titleBTC)) \n",
    "md(\"- {}{} {}{} [| Skaityti daugiau]({}) \".format(eth['title'],'. ', eth['body'], ' ...', eth['url']))"
   ]
  },
  {
   "cell_type": "code",
   "execution_count": 8,
   "id": "sublime-lounge",
   "metadata": {
    "execution": {
     "iopub.execute_input": "2022-05-29T03:09:39.040657Z",
     "iopub.status.busy": "2022-05-29T03:09:39.040067Z",
     "iopub.status.idle": "2022-05-29T03:09:39.043434Z",
     "shell.execute_reply": "2022-05-29T03:09:39.042864Z"
    },
    "papermill": {
     "duration": 0.018706,
     "end_time": "2022-05-29T03:09:39.043542",
     "exception": false,
     "start_time": "2022-05-29T03:09:39.024836",
     "status": "completed"
    },
    "tags": []
   },
   "outputs": [
    {
     "data": {
      "text/markdown": [
       "- Know How Cardano Could Potentially Re-Define DeFi.  By employing blockchain technology, Cardano (ADA) claims to solve real-world problems. It has, for example, working with the Ethiopian government to monitor the educational progress of 5 million youngsters on its network. Students will receive a tamper-proof academic record as a result of the initiative, which might be useful if they are looking for work or considering studying abroad. Cardano has taken a planned approach to its development. The team believes in comprehensive research and testing prior to deployment. This is why Cardano’s Alonzo Hard Fork took some time to be deployed on the mainnet. Alonzo Hard Fork is Cardano’s third major update in the Shelly Era. The currency has five primary stages of development, commonly known as “eras” – Byron, Shelley, Goguen, Basho, and Voltaire — all of which will improve the overall functionality of the network. The platform’s final important improvement during the Shelley period, Alonzo, ushers it into the Goguen era. The Alonzo update has three stages: Blue, White, and Purple. They will be followed by Alonzo Red and Alonzo Black, who will add more people to the networks and fix any problems that have emerged. Alonzo Blue will add smart contracts to the network, similar to those present on the Ethereum network. Cardano’s smart contract capabilities are a huge step forward, letting it compete with other programmable blockchains and greatly expand the range of solutions available to... ... [| Skaityti daugiau](https://www.cryptoknowmics.com/news/know-how-cardano-could-potentially-re-define-defi/?utm_source=rss&utm_medium=rss&utm_campaign=know-how-cardano-could-potentially-re-define-defi) "
      ],
      "text/plain": [
       "<IPython.core.display.Markdown object>"
      ]
     },
     "execution_count": 8,
     "metadata": {},
     "output_type": "execute_result"
    }
   ],
   "source": [
    "#hide_input\n",
    "#md('##### {}'.format(titleBTC)) \n",
    "md(\"- {}{} {}{} [| Skaityti daugiau]({}) \".format(ada['title'],'. ', ada['body'], ' ...', ada['url']))"
   ]
  },
  {
   "cell_type": "code",
   "execution_count": 9,
   "id": "specified-ordering",
   "metadata": {
    "execution": {
     "iopub.execute_input": "2022-05-29T03:09:39.070896Z",
     "iopub.status.busy": "2022-05-29T03:09:39.070168Z",
     "iopub.status.idle": "2022-05-29T03:09:39.073198Z",
     "shell.execute_reply": "2022-05-29T03:09:39.072619Z"
    },
    "papermill": {
     "duration": 0.01887,
     "end_time": "2022-05-29T03:09:39.073307",
     "exception": false,
     "start_time": "2022-05-29T03:09:39.054437",
     "status": "completed"
    },
    "tags": []
   },
   "outputs": [
    {
     "data": {
      "text/markdown": [
       "- Where is Binance Located?.  Binance, one of the world’s leading cryptoasset exchanges, has made a number of moves over the years to the point many wonder where Binance is located. The exchange, which has been valued at more than $4.5 billion in a recent estimate, first started its operation in Shanghai. The exchange has evolved from the simple trading […] ... [| Skaityti daugiau](https://www.cryptoglobe.com/latest/2022/05/where-is-binance-located/) "
      ],
      "text/plain": [
       "<IPython.core.display.Markdown object>"
      ]
     },
     "execution_count": 9,
     "metadata": {},
     "output_type": "execute_result"
    }
   ],
   "source": [
    "#hide_input\n",
    "#md('##### {}'.format(titleBTC)) \n",
    "md(\"- {}{} {}{} [| Skaityti daugiau]({}) \".format(exchange['title'],'. ', exchange['body'], ' ...', exchange['url']))"
   ]
  },
  {
   "cell_type": "code",
   "execution_count": null,
   "id": "tender-livestock",
   "metadata": {
    "papermill": {
     "duration": 0.011127,
     "end_time": "2022-05-29T03:09:39.095554",
     "exception": false,
     "start_time": "2022-05-29T03:09:39.084427",
     "status": "completed"
    },
    "tags": []
   },
   "outputs": [],
   "source": []
  },
  {
   "cell_type": "code",
   "execution_count": null,
   "id": "appreciated-diamond",
   "metadata": {
    "papermill": {
     "duration": 0.011464,
     "end_time": "2022-05-29T03:09:39.118270",
     "exception": false,
     "start_time": "2022-05-29T03:09:39.106806",
     "status": "completed"
    },
    "tags": []
   },
   "outputs": [],
   "source": []
  },
  {
   "cell_type": "code",
   "execution_count": null,
   "id": "romance-sweden",
   "metadata": {
    "papermill": {
     "duration": 0.011027,
     "end_time": "2022-05-29T03:09:39.140358",
     "exception": false,
     "start_time": "2022-05-29T03:09:39.129331",
     "status": "completed"
    },
    "tags": []
   },
   "outputs": [],
   "source": []
  },
  {
   "cell_type": "code",
   "execution_count": null,
   "id": "dietary-statistics",
   "metadata": {
    "papermill": {
     "duration": 0.011025,
     "end_time": "2022-05-29T03:09:39.162625",
     "exception": false,
     "start_time": "2022-05-29T03:09:39.151600",
     "status": "completed"
    },
    "tags": []
   },
   "outputs": [],
   "source": []
  }
 ],
 "metadata": {
  "kernelspec": {
   "display_name": "Python 3",
   "language": "python",
   "name": "python3"
  },
  "language_info": {
   "codemirror_mode": {
    "name": "ipython",
    "version": 3
   },
   "file_extension": ".py",
   "mimetype": "text/x-python",
   "name": "python",
   "nbconvert_exporter": "python",
   "pygments_lexer": "ipython3",
   "version": "3.6.15"
  },
  "papermill": {
   "default_parameters": {},
   "duration": 14.018977,
   "end_time": "2022-05-29T03:09:39.693330",
   "environment_variables": {},
   "exception": null,
   "input_path": "Market-News.ipynb",
   "output_path": "Market-News.ipynb",
   "parameters": {},
   "start_time": "2022-05-29T03:09:25.674353",
   "version": "2.2.2"
  }
 },
 "nbformat": 4,
 "nbformat_minor": 5
}