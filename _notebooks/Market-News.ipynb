{
 "cells": [
  {
   "cell_type": "markdown",
   "id": "short-greensboro",
   "metadata": {
    "papermill": {
     "duration": 0.015401,
     "end_time": "2021-10-05T02:01:22.503239",
     "exception": false,
     "start_time": "2021-10-05T02:01:22.487838",
     "status": "completed"
    },
    "tags": []
   },
   "source": [
    "# Kriptovaliutų naujienos"
   ]
  },
  {
   "cell_type": "code",
   "execution_count": 1,
   "id": "functioning-knowing",
   "metadata": {
    "execution": {
     "iopub.execute_input": "2021-10-05T02:01:22.536975Z",
     "iopub.status.busy": "2021-10-05T02:01:22.536269Z",
     "iopub.status.idle": "2021-10-05T02:01:24.053453Z",
     "shell.execute_reply": "2021-10-05T02:01:24.052411Z"
    },
    "papermill": {
     "duration": 1.537897,
     "end_time": "2021-10-05T02:01:24.053633",
     "exception": false,
     "start_time": "2021-10-05T02:01:22.515736",
     "status": "completed"
    },
    "tags": []
   },
   "outputs": [],
   "source": [
    "#hide_input\n",
    "import warnings\n",
    "warnings.filterwarnings('ignore')\n",
    "from scripts.read_data import read_api\n",
    "from scripts.read_data import read_news\n",
    "from scripts.read_data import read_covid\n",
    "import matplotlib.pyplot as plt \n",
    "from IPython.display import Markdown as md"
   ]
  },
  {
   "cell_type": "code",
   "execution_count": 2,
   "id": "shared-acceptance",
   "metadata": {
    "execution": {
     "iopub.execute_input": "2021-10-05T02:01:24.085824Z",
     "iopub.status.busy": "2021-10-05T02:01:24.085140Z",
     "iopub.status.idle": "2021-10-05T02:01:31.897501Z",
     "shell.execute_reply": "2021-10-05T02:01:31.896167Z"
    },
    "papermill": {
     "duration": 7.832227,
     "end_time": "2021-10-05T02:01:31.897707",
     "exception": false,
     "start_time": "2021-10-05T02:01:24.065480",
     "status": "completed"
    },
    "tags": []
   },
   "outputs": [],
   "source": [
    "#hide_input\n",
    "blockchain = read_news('blockchain') \n",
    "btc = read_news('btc') \n",
    "xrp = read_news('xrp') \n",
    "trx = read_news('trx') \n",
    "eth = read_news('eth')  \n",
    "ada = read_news('ada')\n",
    "exchange = read_news('exchange') "
   ]
  },
  {
   "cell_type": "code",
   "execution_count": 3,
   "id": "synthetic-notion",
   "metadata": {
    "execution": {
     "iopub.execute_input": "2021-10-05T02:01:31.930640Z",
     "iopub.status.busy": "2021-10-05T02:01:31.929912Z",
     "iopub.status.idle": "2021-10-05T02:01:31.937742Z",
     "shell.execute_reply": "2021-10-05T02:01:31.937156Z"
    },
    "papermill": {
     "duration": 0.026965,
     "end_time": "2021-10-05T02:01:31.937894",
     "exception": false,
     "start_time": "2021-10-05T02:01:31.910929",
     "status": "completed"
    },
    "tags": []
   },
   "outputs": [
    {
     "data": {
      "text/markdown": [
       "- Here’s why October is already a month of milestones for Solana.  When it comes to the sixth biggest blockchain by market cap, there&#8217;s usually some news &#8211; whether it&#8217;s to do with the alt coin&#8217;s price, a new NFT making waves, or connections to another blockchain itself. In short, Solana has made itself attractive to both crypto artists as well as more mainstream finance companies like [&#8230;] ... [| Skaityti daugiau](https://ambcrypto.com/heres-why-october-is-already-a-month-of-milestones-for-solana/) "
      ],
      "text/plain": [
       "<IPython.core.display.Markdown object>"
      ]
     },
     "execution_count": 3,
     "metadata": {},
     "output_type": "execute_result"
    }
   ],
   "source": [
    "#hide_input\n",
    "#md('##### {}'.format(titleBTC)) \n",
    "md(\"- {}{} {}{} [| Skaityti daugiau]({}) \".format(blockchain['title'],'. ', blockchain['body'], ' ...', blockchain['url']))"
   ]
  },
  {
   "cell_type": "code",
   "execution_count": 4,
   "id": "aging-caution",
   "metadata": {
    "execution": {
     "iopub.execute_input": "2021-10-05T02:01:31.967294Z",
     "iopub.status.busy": "2021-10-05T02:01:31.966535Z",
     "iopub.status.idle": "2021-10-05T02:01:31.970452Z",
     "shell.execute_reply": "2021-10-05T02:01:31.969902Z"
    },
    "papermill": {
     "duration": 0.020779,
     "end_time": "2021-10-05T02:01:31.970587",
     "exception": false,
     "start_time": "2021-10-05T02:01:31.949808",
     "status": "completed"
    },
    "tags": []
   },
   "outputs": [
    {
     "data": {
      "text/markdown": [
       "- Bitcoin Sees Third Straight Week of Institutional Capital Flows Amid Market Sentiment Turnaround: CoinShares.  Digital asset manager CoinShares is tracking inflows from institutional investors as capital pours into Bitcoin amid improving sentiment in the crypto markets. CoinShares says Bitcoin appears to be picking up traction again after Federal Reserve Chairman Jerome Powell recently told investors that the Fed has no plans to ban Bitcoin. Data from CoinShares’ weekly digital [&#8230;]The post Bitcoin Sees Third Straight Week of Institutional Capital Flows Amid Market Sentiment Turnaround: CoinShares appeared first on The Daily Hodl. ... [| Skaityti daugiau](https://dailyhodl.com/2021/10/04/bitcoin-sees-third-straight-week-of-institutional-capital-flows-amid-market-sentiment-turnaround-coinshares/) "
      ],
      "text/plain": [
       "<IPython.core.display.Markdown object>"
      ]
     },
     "execution_count": 4,
     "metadata": {},
     "output_type": "execute_result"
    }
   ],
   "source": [
    "#hide_input\n",
    "#md('##### {}'.format(titleBTC)) \n",
    "md(\"- {}{} {}{} [| Skaityti daugiau]({}) \".format(btc['title'],'. ', btc['body'], ' ...', btc['url']))"
   ]
  },
  {
   "cell_type": "code",
   "execution_count": 5,
   "id": "organic-actress",
   "metadata": {
    "execution": {
     "iopub.execute_input": "2021-10-05T02:01:32.001458Z",
     "iopub.status.busy": "2021-10-05T02:01:32.000736Z",
     "iopub.status.idle": "2021-10-05T02:01:32.005054Z",
     "shell.execute_reply": "2021-10-05T02:01:32.004125Z"
    },
    "papermill": {
     "duration": 0.020901,
     "end_time": "2021-10-05T02:01:32.005220",
     "exception": false,
     "start_time": "2021-10-05T02:01:31.984319",
     "status": "completed"
    },
    "tags": []
   },
   "outputs": [
    {
     "data": {
      "text/markdown": [
       "- Price analysis 10/4: BTC, ETH, BNB, ADA, SOL, XRP, DOT, DOGE, LUNA, UNI.  Bitcoin bulls have set their sights on $50,000 and this renewed push is also boosting large and small-cap altcoin prices. ... [| Skaityti daugiau](https://cointelegraph.com/news/price-analysis-10-4-btc-eth-bnb-ada-sol-xrp-dot-doge-luna-uni) "
      ],
      "text/plain": [
       "<IPython.core.display.Markdown object>"
      ]
     },
     "execution_count": 5,
     "metadata": {},
     "output_type": "execute_result"
    }
   ],
   "source": [
    "#hide_input\n",
    "#md('##### {}'.format(titleBTC)) \n",
    "md(\"- {}{} {}{} [| Skaityti daugiau]({}) \".format(xrp['title'],'. ', xrp['body'], ' ...', xrp['url']))"
   ]
  },
  {
   "cell_type": "code",
   "execution_count": 6,
   "id": "prompt-farmer",
   "metadata": {
    "execution": {
     "iopub.execute_input": "2021-10-05T02:01:32.036303Z",
     "iopub.status.busy": "2021-10-05T02:01:32.035643Z",
     "iopub.status.idle": "2021-10-05T02:01:32.039078Z",
     "shell.execute_reply": "2021-10-05T02:01:32.038517Z"
    },
    "papermill": {
     "duration": 0.021393,
     "end_time": "2021-10-05T02:01:32.039204",
     "exception": false,
     "start_time": "2021-10-05T02:01:32.017811",
     "status": "completed"
    },
    "tags": []
   },
   "outputs": [
    {
     "data": {
      "text/markdown": [
       "- TRON Bounces Back from Its Swing Support Levels!.  TRON has hit a new two-day high and seems to have taken support from $0.082 levels. While the volumes so far haven&#8217;t been substantial, the continuation of this sentence is inevitably required for pushing the TRX prices to new highs. The trading range has been suppressed in a tight zone, which can be seen as &#8230; ... [| Skaityti daugiau](https://www.cryptonewsz.com/tron-bounces-back-from-its-swing-support-levels/) "
      ],
      "text/plain": [
       "<IPython.core.display.Markdown object>"
      ]
     },
     "execution_count": 6,
     "metadata": {},
     "output_type": "execute_result"
    }
   ],
   "source": [
    "#hide_input\n",
    "#md('##### {}'.format(titleBTC)) \n",
    "md(\"- {}{} {}{} [| Skaityti daugiau]({}) \".format(trx['title'],'. ', trx['body'], ' ...', trx['url']))"
   ]
  },
  {
   "cell_type": "code",
   "execution_count": 7,
   "id": "illegal-greece",
   "metadata": {
    "execution": {
     "iopub.execute_input": "2021-10-05T02:01:32.071130Z",
     "iopub.status.busy": "2021-10-05T02:01:32.070083Z",
     "iopub.status.idle": "2021-10-05T02:01:32.073470Z",
     "shell.execute_reply": "2021-10-05T02:01:32.074095Z"
    },
    "papermill": {
     "duration": 0.022082,
     "end_time": "2021-10-05T02:01:32.074239",
     "exception": false,
     "start_time": "2021-10-05T02:01:32.052157",
     "status": "completed"
    },
    "tags": []
   },
   "outputs": [
    {
     "data": {
      "text/markdown": [
       "- Bitcoin Sees Third Straight Week of Institutional Capital Flows Amid Market Sentiment Turnaround: CoinShares.  Digital asset manager CoinShares is tracking inflows from institutional investors as capital pours into Bitcoin amid improving sentiment in the crypto markets. CoinShares says Bitcoin appears to be picking up traction again after Federal Reserve Chairman Jerome Powell recently told investors that the Fed has no plans to ban Bitcoin. Data from CoinShares’ weekly digital [&#8230;]The post Bitcoin Sees Third Straight Week of Institutional Capital Flows Amid Market Sentiment Turnaround: CoinShares appeared first on The Daily Hodl. ... [| Skaityti daugiau](https://dailyhodl.com/2021/10/04/bitcoin-sees-third-straight-week-of-institutional-capital-flows-amid-market-sentiment-turnaround-coinshares/) "
      ],
      "text/plain": [
       "<IPython.core.display.Markdown object>"
      ]
     },
     "execution_count": 7,
     "metadata": {},
     "output_type": "execute_result"
    }
   ],
   "source": [
    "#hide_input\n",
    "#md('##### {}'.format(titleBTC)) \n",
    "md(\"- {}{} {}{} [| Skaityti daugiau]({}) \".format(eth['title'],'. ', eth['body'], ' ...', eth['url']))"
   ]
  },
  {
   "cell_type": "code",
   "execution_count": 8,
   "id": "sublime-lounge",
   "metadata": {
    "execution": {
     "iopub.execute_input": "2021-10-05T02:01:32.105352Z",
     "iopub.status.busy": "2021-10-05T02:01:32.104324Z",
     "iopub.status.idle": "2021-10-05T02:01:32.108435Z",
     "shell.execute_reply": "2021-10-05T02:01:32.109049Z"
    },
    "papermill": {
     "duration": 0.021251,
     "end_time": "2021-10-05T02:01:32.109224",
     "exception": false,
     "start_time": "2021-10-05T02:01:32.087973",
     "status": "completed"
    },
    "tags": []
   },
   "outputs": [
    {
     "data": {
      "text/markdown": [
       "- FinTech Behind Cardano’s First Stablecoin Launches Bank Accounts And Visa Debit Cards.  COTI is set to launch bank accounts and Visa debit cards for its users. The company which is building the very first stablecoin on the Cardano blockchain is moving forward with new products to expand its service offerings to its clients. COTI had announced that it had partnered with Simplex to bring this project to the fore, which would enable users to operate bank accounts and debits cards on the platform. COTI has long been working on being a bridge between the finance and crypto world. Its services marry traditional finance offerings with the cutting-edge technology that comes out of the crypto industry. The partnership with Simplex enables COTI to provide its users with crypto-friendly bank accounts and debit cards, which the users will be able to operate and spend globally. COTI Brings Crypto To Banking Using the COTI bank accounts and debit cards makes it easy for users to spend their crypto. The bank account provides easy conversion of the crypto to fiat, which can then be spent by the user. In addition to funding their accounts with crypto, users can also load up using swift, SEPA, and cards. This makes it easy for users to spend their crypto no matter where they are in the world. Related Reading &#124; EMURGO To Invest $100 Million In Cardano To Bolster DeFi Adoption The bank accounts also provide its users with IBANs and customers can withdraw funds from their bank accounts using SEPA transfers, SWIFT, and ATM withdr... ... [| Skaityti daugiau](https://www.newsbtc.com/news/cardano/fintech-behind-cardanos-first-stablecoin-launches-bank-accounts-and-visa-debit-cards/) "
      ],
      "text/plain": [
       "<IPython.core.display.Markdown object>"
      ]
     },
     "execution_count": 8,
     "metadata": {},
     "output_type": "execute_result"
    }
   ],
   "source": [
    "#hide_input\n",
    "#md('##### {}'.format(titleBTC)) \n",
    "md(\"- {}{} {}{} [| Skaityti daugiau]({}) \".format(ada['title'],'. ', ada['body'], ' ...', ada['url']))"
   ]
  },
  {
   "cell_type": "code",
   "execution_count": 9,
   "id": "specified-ordering",
   "metadata": {
    "execution": {
     "iopub.execute_input": "2021-10-05T02:01:32.142730Z",
     "iopub.status.busy": "2021-10-05T02:01:32.142067Z",
     "iopub.status.idle": "2021-10-05T02:01:32.145706Z",
     "shell.execute_reply": "2021-10-05T02:01:32.145101Z"
    },
    "papermill": {
     "duration": 0.022985,
     "end_time": "2021-10-05T02:01:32.145833",
     "exception": false,
     "start_time": "2021-10-05T02:01:32.122848",
     "status": "completed"
    },
    "tags": []
   },
   "outputs": [
    {
     "data": {
      "text/markdown": [
       "- These 3 indicators flashed bullish ahead of the recent Bitcoin price pump.  Correlation does not imply causation, but these 3 indicators did signal prior to Bitcoin's recent push to $49,000.  ... [| Skaityti daugiau](https://cointelegraph.com/news/these-3-indicators-flashed-bullish-ahead-of-the-recent-bitcoin-price-pump) "
      ],
      "text/plain": [
       "<IPython.core.display.Markdown object>"
      ]
     },
     "execution_count": 9,
     "metadata": {},
     "output_type": "execute_result"
    }
   ],
   "source": [
    "#hide_input\n",
    "#md('##### {}'.format(titleBTC)) \n",
    "md(\"- {}{} {}{} [| Skaityti daugiau]({}) \".format(exchange['title'],'. ', exchange['body'], ' ...', exchange['url']))"
   ]
  },
  {
   "cell_type": "code",
   "execution_count": null,
   "id": "tender-livestock",
   "metadata": {
    "papermill": {
     "duration": 0.013861,
     "end_time": "2021-10-05T02:01:32.173510",
     "exception": false,
     "start_time": "2021-10-05T02:01:32.159649",
     "status": "completed"
    },
    "tags": []
   },
   "outputs": [],
   "source": []
  },
  {
   "cell_type": "code",
   "execution_count": null,
   "id": "appreciated-diamond",
   "metadata": {
    "papermill": {
     "duration": 0.014848,
     "end_time": "2021-10-05T02:01:32.204055",
     "exception": false,
     "start_time": "2021-10-05T02:01:32.189207",
     "status": "completed"
    },
    "tags": []
   },
   "outputs": [],
   "source": []
  },
  {
   "cell_type": "code",
   "execution_count": null,
   "id": "romance-sweden",
   "metadata": {
    "papermill": {
     "duration": 0.014428,
     "end_time": "2021-10-05T02:01:32.232630",
     "exception": false,
     "start_time": "2021-10-05T02:01:32.218202",
     "status": "completed"
    },
    "tags": []
   },
   "outputs": [],
   "source": []
  },
  {
   "cell_type": "code",
   "execution_count": null,
   "id": "dietary-statistics",
   "metadata": {
    "papermill": {
     "duration": 0.014216,
     "end_time": "2021-10-05T02:01:32.260919",
     "exception": false,
     "start_time": "2021-10-05T02:01:32.246703",
     "status": "completed"
    },
    "tags": []
   },
   "outputs": [],
   "source": []
  }
 ],
 "metadata": {
  "kernelspec": {
   "display_name": "Python 3",
   "language": "python",
   "name": "python3"
  },
  "language_info": {
   "codemirror_mode": {
    "name": "ipython",
    "version": 3
   },
   "file_extension": ".py",
   "mimetype": "text/x-python",
   "name": "python",
   "nbconvert_exporter": "python",
   "pygments_lexer": "ipython3",
   "version": "3.6.15"
  },
  "papermill": {
   "default_parameters": {},
   "duration": 11.286056,
   "end_time": "2021-10-05T02:01:32.687539",
   "environment_variables": {},
   "exception": null,
   "input_path": "Market-News.ipynb",
   "output_path": "Market-News.ipynb",
   "parameters": {},
   "start_time": "2021-10-05T02:01:21.401483",
   "version": "2.2.2"
  }
 },
 "nbformat": 4,
 "nbformat_minor": 5
}