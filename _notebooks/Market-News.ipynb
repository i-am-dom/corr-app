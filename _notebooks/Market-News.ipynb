{
 "cells": [
  {
   "cell_type": "markdown",
   "id": "short-greensboro",
   "metadata": {
    "papermill": {
     "duration": 0.014372,
     "end_time": "2021-12-09T02:03:53.334455",
     "exception": false,
     "start_time": "2021-12-09T02:03:53.320083",
     "status": "completed"
    },
    "tags": []
   },
   "source": [
    "# Kriptovaliutų naujienos"
   ]
  },
  {
   "cell_type": "code",
   "execution_count": 1,
   "id": "functioning-knowing",
   "metadata": {
    "execution": {
     "iopub.execute_input": "2021-12-09T02:03:53.367846Z",
     "iopub.status.busy": "2021-12-09T02:03:53.367210Z",
     "iopub.status.idle": "2021-12-09T02:03:54.847567Z",
     "shell.execute_reply": "2021-12-09T02:03:54.846995Z"
    },
    "papermill": {
     "duration": 1.502014,
     "end_time": "2021-12-09T02:03:54.847724",
     "exception": false,
     "start_time": "2021-12-09T02:03:53.345710",
     "status": "completed"
    },
    "tags": []
   },
   "outputs": [],
   "source": [
    "#hide_input\n",
    "import warnings\n",
    "warnings.filterwarnings('ignore')\n",
    "from scripts.read_data import read_api\n",
    "from scripts.read_data import read_news\n",
    "from scripts.read_data import read_covid\n",
    "import matplotlib.pyplot as plt \n",
    "from IPython.display import Markdown as md"
   ]
  },
  {
   "cell_type": "code",
   "execution_count": 2,
   "id": "shared-acceptance",
   "metadata": {
    "execution": {
     "iopub.execute_input": "2021-12-09T02:03:54.877609Z",
     "iopub.status.busy": "2021-12-09T02:03:54.876995Z",
     "iopub.status.idle": "2021-12-09T02:04:04.743546Z",
     "shell.execute_reply": "2021-12-09T02:04:04.742974Z"
    },
    "papermill": {
     "duration": 9.885228,
     "end_time": "2021-12-09T02:04:04.743689",
     "exception": false,
     "start_time": "2021-12-09T02:03:54.858461",
     "status": "completed"
    },
    "tags": []
   },
   "outputs": [],
   "source": [
    "#hide_input\n",
    "blockchain = read_news('blockchain') \n",
    "btc = read_news('btc') \n",
    "xrp = read_news('xrp') \n",
    "trx = read_news('trx') \n",
    "eth = read_news('eth')  \n",
    "ada = read_news('ada')\n",
    "exchange = read_news('exchange') "
   ]
  },
  {
   "cell_type": "code",
   "execution_count": 3,
   "id": "synthetic-notion",
   "metadata": {
    "execution": {
     "iopub.execute_input": "2021-12-09T02:04:04.771682Z",
     "iopub.status.busy": "2021-12-09T02:04:04.768848Z",
     "iopub.status.idle": "2021-12-09T02:04:04.774476Z",
     "shell.execute_reply": "2021-12-09T02:04:04.774924Z"
    },
    "papermill": {
     "duration": 0.020744,
     "end_time": "2021-12-09T02:04:04.775103",
     "exception": false,
     "start_time": "2021-12-09T02:04:04.754359",
     "status": "completed"
    },
    "tags": []
   },
   "outputs": [
    {
     "data": {
      "text/markdown": [
       "- Celsius Network CEO: Bitcoin Is a ‘Pretty Bad Form of Payment’.  Recently, Alex Mashinsky, Co-founder, Chairman, and CEO of lending platform Celsius Network, shared some of his latest thoughts on Bitcoin. Here’s some information about Mashinsky from his bio page on the Celsius website: “Alex is one of the inventors of VOIP (Voice Over Internet Protocol) with a foundational patent dating back to 1994 and is now […] ... [| Skaityti daugiau](https://www.cryptoglobe.com/latest/2021/12/celsius-network-ceo-bitcoin-is-a-pretty-bad-form-of-payment/) "
      ],
      "text/plain": [
       "<IPython.core.display.Markdown object>"
      ]
     },
     "execution_count": 3,
     "metadata": {},
     "output_type": "execute_result"
    }
   ],
   "source": [
    "#hide_input\n",
    "#md('##### {}'.format(titleBTC)) \n",
    "md(\"- {}{} {}{} [| Skaityti daugiau]({}) \".format(blockchain['title'],'. ', blockchain['body'], ' ...', blockchain['url']))"
   ]
  },
  {
   "cell_type": "code",
   "execution_count": 4,
   "id": "aging-caution",
   "metadata": {
    "execution": {
     "iopub.execute_input": "2021-12-09T02:04:04.802376Z",
     "iopub.status.busy": "2021-12-09T02:04:04.801774Z",
     "iopub.status.idle": "2021-12-09T02:04:04.805587Z",
     "shell.execute_reply": "2021-12-09T02:04:04.806160Z"
    },
    "papermill": {
     "duration": 0.020403,
     "end_time": "2021-12-09T02:04:04.806303",
     "exception": false,
     "start_time": "2021-12-09T02:04:04.785900",
     "status": "completed"
    },
    "tags": []
   },
   "outputs": [
    {
     "data": {
      "text/markdown": [
       "- How 'Liveliness' Can Track Bitcoin Price Bull And Bear Cycles.  The Liveliness on-chain metric tracks accumulation and distribution behavior of bitcoin holders, corresponding to price. ... [| Skaityti daugiau](https://bitcoinmagazine.com/markets/how-liveliness-can-track-bitcoin-price-bull-and-bear-cycles) "
      ],
      "text/plain": [
       "<IPython.core.display.Markdown object>"
      ]
     },
     "execution_count": 4,
     "metadata": {},
     "output_type": "execute_result"
    }
   ],
   "source": [
    "#hide_input\n",
    "#md('##### {}'.format(titleBTC)) \n",
    "md(\"- {}{} {}{} [| Skaityti daugiau]({}) \".format(btc['title'],'. ', btc['body'], ' ...', btc['url']))"
   ]
  },
  {
   "cell_type": "code",
   "execution_count": 5,
   "id": "organic-actress",
   "metadata": {
    "execution": {
     "iopub.execute_input": "2021-12-09T02:04:04.833822Z",
     "iopub.status.busy": "2021-12-09T02:04:04.833188Z",
     "iopub.status.idle": "2021-12-09T02:04:04.836541Z",
     "shell.execute_reply": "2021-12-09T02:04:04.836070Z"
    },
    "papermill": {
     "duration": 0.019302,
     "end_time": "2021-12-09T02:04:04.836666",
     "exception": false,
     "start_time": "2021-12-09T02:04:04.817364",
     "status": "completed"
    },
    "tags": []
   },
   "outputs": [
    {
     "data": {
      "text/markdown": [
       "- Ripple Proposes a ‘Real Approach’ to Cryptocurrency Regulation.  San Francisco-based FinTech firm Ripple recently explained “how existing financial regulatory frameworks can be usedto advance innovation and enhance consumer and market protections.” In a three page document published by Ripple, the Californian firm described its “vision of a pragmatic regulatory framework for cryptocurrencies, blockchain-enabled payments and digital assets.” Ripple mentioned that it hopes for […] ... [| Skaityti daugiau](https://www.cryptoglobe.com/latest/2021/12/ripple-proposes-a-real-approach-to-cryptocurrency-regulation/) "
      ],
      "text/plain": [
       "<IPython.core.display.Markdown object>"
      ]
     },
     "execution_count": 5,
     "metadata": {},
     "output_type": "execute_result"
    }
   ],
   "source": [
    "#hide_input\n",
    "#md('##### {}'.format(titleBTC)) \n",
    "md(\"- {}{} {}{} [| Skaityti daugiau]({}) \".format(xrp['title'],'. ', xrp['body'], ' ...', xrp['url']))"
   ]
  },
  {
   "cell_type": "code",
   "execution_count": 6,
   "id": "prompt-farmer",
   "metadata": {
    "execution": {
     "iopub.execute_input": "2021-12-09T02:04:04.865078Z",
     "iopub.status.busy": "2021-12-09T02:04:04.864445Z",
     "iopub.status.idle": "2021-12-09T02:04:04.867970Z",
     "shell.execute_reply": "2021-12-09T02:04:04.867452Z"
    },
    "papermill": {
     "duration": 0.020079,
     "end_time": "2021-12-09T02:04:04.868094",
     "exception": false,
     "start_time": "2021-12-09T02:04:04.848015",
     "status": "completed"
    },
    "tags": []
   },
   "outputs": [
    {
     "data": {
      "text/markdown": [
       "- Tron Price Analysis: The TRX Coin Preparing For The Recovery Phase With Eyes On The $0.123 Mark.  The second half of November month eliminated all the gains the TRX coin gathered during October. With this recent price fall, the coin lost around 33% and plunged to the previous higher low of $0.081. However, the coin price is trying to bounce back from this support, aiming at the overhead resistance of $0.123 Key The post Tron Price Analysis: The TRX Coin Preparing For The Recovery Phase With Eyes On The $0.123 Mark appeared first on Coingape. ... [| Skaityti daugiau](https://coingape.com/tron-price-analysis-the-trx-token-preparing-for-the-recovery-phase-with-eyes-on-the-0-123-mark/) "
      ],
      "text/plain": [
       "<IPython.core.display.Markdown object>"
      ]
     },
     "execution_count": 6,
     "metadata": {},
     "output_type": "execute_result"
    }
   ],
   "source": [
    "#hide_input\n",
    "#md('##### {}'.format(titleBTC)) \n",
    "md(\"- {}{} {}{} [| Skaityti daugiau]({}) \".format(trx['title'],'. ', trx['body'], ' ...', trx['url']))"
   ]
  },
  {
   "cell_type": "code",
   "execution_count": 7,
   "id": "illegal-greece",
   "metadata": {
    "execution": {
     "iopub.execute_input": "2021-12-09T02:04:04.897827Z",
     "iopub.status.busy": "2021-12-09T02:04:04.897203Z",
     "iopub.status.idle": "2021-12-09T02:04:04.899600Z",
     "shell.execute_reply": "2021-12-09T02:04:04.900155Z"
    },
    "papermill": {
     "duration": 0.020237,
     "end_time": "2021-12-09T02:04:04.900302",
     "exception": false,
     "start_time": "2021-12-09T02:04:04.880065",
     "status": "completed"
    },
    "tags": []
   },
   "outputs": [
    {
     "data": {
      "text/markdown": [
       "- ETH Outperforms BTC as the Market Attempts Recovery: Markets Wrap.  ETH continues to outperform BTC as the digital asset market attempts a recovery, ETH market structure looks bullishThe post ETH Outperforms BTC as the Market Attempts Recovery: Markets Wrap appeared first on Blockworks. ... [| Skaityti daugiau](https://blockworks.co/eth-outperforms-btc-as-the-market-attempts-recovery-markets-wrap/) "
      ],
      "text/plain": [
       "<IPython.core.display.Markdown object>"
      ]
     },
     "execution_count": 7,
     "metadata": {},
     "output_type": "execute_result"
    }
   ],
   "source": [
    "#hide_input\n",
    "#md('##### {}'.format(titleBTC)) \n",
    "md(\"- {}{} {}{} [| Skaityti daugiau]({}) \".format(eth['title'],'. ', eth['body'], ' ...', eth['url']))"
   ]
  },
  {
   "cell_type": "code",
   "execution_count": 8,
   "id": "sublime-lounge",
   "metadata": {
    "execution": {
     "iopub.execute_input": "2021-12-09T02:04:04.931921Z",
     "iopub.status.busy": "2021-12-09T02:04:04.931064Z",
     "iopub.status.idle": "2021-12-09T02:04:04.934797Z",
     "shell.execute_reply": "2021-12-09T02:04:04.934319Z"
    },
    "papermill": {
     "duration": 0.022398,
     "end_time": "2021-12-09T02:04:04.934932",
     "exception": false,
     "start_time": "2021-12-09T02:04:04.912534",
     "status": "completed"
    },
    "tags": []
   },
   "outputs": [
    {
     "data": {
      "text/markdown": [
       "- Cardano, Dogecoin, Avalanche Price Analysis: 8 December.  As the broader trend swayed in favor of the sellers, the crypto market was in red in the last 24 hours. As a result, Dogecoin and Avalanche formed bearish patterns on their charts. Near-term technicals of Cardano, Dogecoin, and Avalanche depicted a bearish bias while projecting the recent bullish recovery. Cardano (ADA) With the recent [&#8230;] ... [| Skaityti daugiau](https://ambcrypto.com/cardano-dogecoin-avalanche-price-analysis-8-december/) "
      ],
      "text/plain": [
       "<IPython.core.display.Markdown object>"
      ]
     },
     "execution_count": 8,
     "metadata": {},
     "output_type": "execute_result"
    }
   ],
   "source": [
    "#hide_input\n",
    "#md('##### {}'.format(titleBTC)) \n",
    "md(\"- {}{} {}{} [| Skaityti daugiau]({}) \".format(ada['title'],'. ', ada['body'], ' ...', ada['url']))"
   ]
  },
  {
   "cell_type": "code",
   "execution_count": 9,
   "id": "specified-ordering",
   "metadata": {
    "execution": {
     "iopub.execute_input": "2021-12-09T02:04:04.966369Z",
     "iopub.status.busy": "2021-12-09T02:04:04.965771Z",
     "iopub.status.idle": "2021-12-09T02:04:04.969490Z",
     "shell.execute_reply": "2021-12-09T02:04:04.969002Z"
    },
    "papermill": {
     "duration": 0.022006,
     "end_time": "2021-12-09T02:04:04.969618",
     "exception": false,
     "start_time": "2021-12-09T02:04:04.947612",
     "status": "completed"
    },
    "tags": []
   },
   "outputs": [
    {
     "data": {
      "text/markdown": [
       "- Macro Guru Raoul Pal Owns XRP, Says Crypto Asset Has Phenomenal Risk-Reward Despite Ripple Lawsuit.  Real Vision chief executive Raoul Pal is explaining why he is a holder of the XRP and how he sees the crypto asset&#8217;s risk/reward ratio. The former Goldman Sachs executive says in a new interview with Thinking Crypto that he bought a position in XRP about a year ago, citing the U.S. Securities and Exchange [&#8230;]The post Macro Guru Raoul Pal Owns XRP, Says Crypto Asset Has Phenomenal Risk-Reward Despite Ripple Lawsuit appeared first on The Daily Hodl. ... [| Skaityti daugiau](https://dailyhodl.com/2021/12/08/macro-guru-raoul-pal-owns-xrp-says-crypto-asset-has-phenomenal-risk-reward-despite-ripple-lawsuit/) "
      ],
      "text/plain": [
       "<IPython.core.display.Markdown object>"
      ]
     },
     "execution_count": 9,
     "metadata": {},
     "output_type": "execute_result"
    }
   ],
   "source": [
    "#hide_input\n",
    "#md('##### {}'.format(titleBTC)) \n",
    "md(\"- {}{} {}{} [| Skaityti daugiau]({}) \".format(exchange['title'],'. ', exchange['body'], ' ...', exchange['url']))"
   ]
  },
  {
   "cell_type": "code",
   "execution_count": null,
   "id": "tender-livestock",
   "metadata": {
    "papermill": {
     "duration": 0.012904,
     "end_time": "2021-12-09T02:04:04.995635",
     "exception": false,
     "start_time": "2021-12-09T02:04:04.982731",
     "status": "completed"
    },
    "tags": []
   },
   "outputs": [],
   "source": []
  },
  {
   "cell_type": "code",
   "execution_count": null,
   "id": "appreciated-diamond",
   "metadata": {
    "papermill": {
     "duration": 0.012819,
     "end_time": "2021-12-09T02:04:05.021564",
     "exception": false,
     "start_time": "2021-12-09T02:04:05.008745",
     "status": "completed"
    },
    "tags": []
   },
   "outputs": [],
   "source": []
  },
  {
   "cell_type": "code",
   "execution_count": null,
   "id": "romance-sweden",
   "metadata": {
    "papermill": {
     "duration": 0.012767,
     "end_time": "2021-12-09T02:04:05.047131",
     "exception": false,
     "start_time": "2021-12-09T02:04:05.034364",
     "status": "completed"
    },
    "tags": []
   },
   "outputs": [],
   "source": []
  },
  {
   "cell_type": "code",
   "execution_count": null,
   "id": "dietary-statistics",
   "metadata": {
    "papermill": {
     "duration": 0.012805,
     "end_time": "2021-12-09T02:04:05.072798",
     "exception": false,
     "start_time": "2021-12-09T02:04:05.059993",
     "status": "completed"
    },
    "tags": []
   },
   "outputs": [],
   "source": []
  }
 ],
 "metadata": {
  "kernelspec": {
   "display_name": "Python 3",
   "language": "python",
   "name": "python3"
  },
  "language_info": {
   "codemirror_mode": {
    "name": "ipython",
    "version": 3
   },
   "file_extension": ".py",
   "mimetype": "text/x-python",
   "name": "python",
   "nbconvert_exporter": "python",
   "pygments_lexer": "ipython3",
   "version": "3.6.15"
  },
  "papermill": {
   "default_parameters": {},
   "duration": 13.563298,
   "end_time": "2021-12-09T02:04:05.597550",
   "environment_variables": {},
   "exception": null,
   "input_path": "Market-News.ipynb",
   "output_path": "Market-News.ipynb",
   "parameters": {},
   "start_time": "2021-12-09T02:03:52.034252",
   "version": "2.2.2"
  }
 },
 "nbformat": 4,
 "nbformat_minor": 5
}