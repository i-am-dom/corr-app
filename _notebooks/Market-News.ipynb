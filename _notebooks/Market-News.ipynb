{
 "cells": [
  {
   "cell_type": "markdown",
   "id": "short-greensboro",
   "metadata": {
    "papermill": {
     "duration": 0.013421,
     "end_time": "2022-07-12T03:28:48.132040",
     "exception": false,
     "start_time": "2022-07-12T03:28:48.118619",
     "status": "completed"
    },
    "tags": []
   },
   "source": [
    "# Kriptovaliutų naujienos"
   ]
  },
  {
   "cell_type": "code",
   "execution_count": 1,
   "id": "functioning-knowing",
   "metadata": {
    "execution": {
     "iopub.execute_input": "2022-07-12T03:28:48.161762Z",
     "iopub.status.busy": "2022-07-12T03:28:48.161120Z",
     "iopub.status.idle": "2022-07-12T03:28:49.375946Z",
     "shell.execute_reply": "2022-07-12T03:28:49.375131Z"
    },
    "papermill": {
     "duration": 1.234358,
     "end_time": "2022-07-12T03:28:49.376127",
     "exception": false,
     "start_time": "2022-07-12T03:28:48.141769",
     "status": "completed"
    },
    "tags": []
   },
   "outputs": [],
   "source": [
    "#hide_input\n",
    "import warnings\n",
    "warnings.filterwarnings('ignore')\n",
    "from scripts.read_data import read_api\n",
    "from scripts.read_data import read_news\n",
    "from scripts.read_data import read_covid\n",
    "import matplotlib.pyplot as plt \n",
    "from IPython.display import Markdown as md"
   ]
  },
  {
   "cell_type": "code",
   "execution_count": 2,
   "id": "shared-acceptance",
   "metadata": {
    "execution": {
     "iopub.execute_input": "2022-07-12T03:28:49.401489Z",
     "iopub.status.busy": "2022-07-12T03:28:49.400912Z",
     "iopub.status.idle": "2022-07-12T03:29:00.695383Z",
     "shell.execute_reply": "2022-07-12T03:29:00.694438Z"
    },
    "papermill": {
     "duration": 11.308998,
     "end_time": "2022-07-12T03:29:00.695519",
     "exception": false,
     "start_time": "2022-07-12T03:28:49.386521",
     "status": "completed"
    },
    "tags": []
   },
   "outputs": [],
   "source": [
    "#hide_input\n",
    "blockchain = read_news('blockchain') \n",
    "btc = read_news('btc') \n",
    "xrp = read_news('xrp') \n",
    "trx = read_news('trx') \n",
    "eth = read_news('eth')  \n",
    "ada = read_news('ada')\n",
    "exchange = read_news('exchange') "
   ]
  },
  {
   "cell_type": "code",
   "execution_count": 3,
   "id": "synthetic-notion",
   "metadata": {
    "execution": {
     "iopub.execute_input": "2022-07-12T03:29:00.720046Z",
     "iopub.status.busy": "2022-07-12T03:29:00.719407Z",
     "iopub.status.idle": "2022-07-12T03:29:00.722398Z",
     "shell.execute_reply": "2022-07-12T03:29:00.722846Z"
    },
    "papermill": {
     "duration": 0.018166,
     "end_time": "2022-07-12T03:29:00.722964",
     "exception": false,
     "start_time": "2022-07-12T03:29:00.704798",
     "status": "completed"
    },
    "tags": []
   },
   "outputs": [
    {
     "data": {
      "text/markdown": [
       "- Convex Finance [CVX]: With 14 unlocks left to go, investors can….  Convex Finance, a DeFi protocol built on Curve Finance, on 30 June, commenced unlocking its CVX tokens. This resulted from limited liquidity to allow for swapping CVX tokens to Ethereum (ETH). According to data from Dune Analytics, following the 30 June unlocking, the next unlock for the vote-locked CVX tokens was scheduled for 7 July. [&#8230;] ... [| Skaityti daugiau](https://ambcrypto.com/convex-finance-cvx-with-14-unlocks-left-to-go-investors-can/) "
      ],
      "text/plain": [
       "<IPython.core.display.Markdown object>"
      ]
     },
     "execution_count": 3,
     "metadata": {},
     "output_type": "execute_result"
    }
   ],
   "source": [
    "#hide_input\n",
    "#md('##### {}'.format(titleBTC)) \n",
    "md(\"- {}{} {}{} [| Skaityti daugiau]({}) \".format(blockchain['title'],'. ', blockchain['body'], ' ...', blockchain['url']))"
   ]
  },
  {
   "cell_type": "code",
   "execution_count": 4,
   "id": "aging-caution",
   "metadata": {
    "execution": {
     "iopub.execute_input": "2022-07-12T03:29:00.745868Z",
     "iopub.status.busy": "2022-07-12T03:29:00.745304Z",
     "iopub.status.idle": "2022-07-12T03:29:00.748171Z",
     "shell.execute_reply": "2022-07-12T03:29:00.748607Z"
    },
    "papermill": {
     "duration": 0.01658,
     "end_time": "2022-07-12T03:29:00.748719",
     "exception": false,
     "start_time": "2022-07-12T03:29:00.732139",
     "status": "completed"
    },
    "tags": []
   },
   "outputs": [
    {
     "data": {
      "text/markdown": [
       "- TA: Bitcoin Price Takes A Hit, This Support Is The Key.  Bitcoin extended losses and traded below $20,000 against the US Dollar. BTC could revisit the key $19,500 support zone, where the bears might be tested. Bitcoin is following a bearish path below the $20,500 pivot level. The price is now trading below the $20,500 level and the 100 hourly simple moving average. There was a break below a major bullish trend line with support near $20,500 on the hourly chart of the BTC/USD pair (data feed from Kraken). The pair might find support near the $19,500 and $19,350 levels. Bitcoin Price Extends Losses Bitcoin price started a fresh decline after it failed to stay above the $22,000 level. There was a steady decline below the $21,200 and $21,000 levels. The price moved below the 61.8% Fib retracement level of the upward move from the $19,301 swing low to $22,500 swing high. Besides, there was a break below a major bullish trend line with support near $20,500 on the hourly chart of the BTC/USD pair. Bitcoin price is now trading below the $20,500 level and the 100 hourly simple moving average. It even settled below the 76.4% Fib retracement level of the upward move from the $19,301 swing low to $22,500 swing high. However, there is a major support waiting near $19,500. On the upside, the price could resistance near the $20,000 and $20,150 levels. Source: BTCUSD on TradingView.com The next key resistance is near the $20,500 zone (the recent breakdown zone). A close above the $20,500 resistance... ... [| Skaityti daugiau](https://www.newsbtc.com/analysis/btc/bitcoin-price-takes-a-hit-20k/) "
      ],
      "text/plain": [
       "<IPython.core.display.Markdown object>"
      ]
     },
     "execution_count": 4,
     "metadata": {},
     "output_type": "execute_result"
    }
   ],
   "source": [
    "#hide_input\n",
    "#md('##### {}'.format(titleBTC)) \n",
    "md(\"- {}{} {}{} [| Skaityti daugiau]({}) \".format(btc['title'],'. ', btc['body'], ' ...', btc['url']))"
   ]
  },
  {
   "cell_type": "code",
   "execution_count": 5,
   "id": "organic-actress",
   "metadata": {
    "execution": {
     "iopub.execute_input": "2022-07-12T03:29:00.772630Z",
     "iopub.status.busy": "2022-07-12T03:29:00.771965Z",
     "iopub.status.idle": "2022-07-12T03:29:00.775330Z",
     "shell.execute_reply": "2022-07-12T03:29:00.774834Z"
    },
    "papermill": {
     "duration": 0.017233,
     "end_time": "2022-07-12T03:29:00.775445",
     "exception": false,
     "start_time": "2022-07-12T03:29:00.758212",
     "status": "completed"
    },
    "tags": []
   },
   "outputs": [
    {
     "data": {
      "text/markdown": [
       "- Ripple Secures Partnership To Launch New NFT Marketplace on the XRP Ledger.  San Francisco-based payments company Ripple is signing a new partnership involving non-fungible tokens (NFTs). In a new announcement, digital assets exchange CrossTower says they are partnering with Ripple to bring XRP Ledger (XRPL) minted NFTs to the CrossTower NFT marketplace. &#8220;CrossTower will facilitate minting and trading of NFTs with Ripple as blockchain partner providing technical support on [&#8230;]The post Ripple Secures Partnership To Launch New NFT Marketplace on the XRP Ledger appeared first on The Daily Hodl. ... [| Skaityti daugiau](https://dailyhodl.com/2022/07/11/ripple-secures-partnership-to-launch-new-nft-marketplace-on-the-xrp-ledger/) "
      ],
      "text/plain": [
       "<IPython.core.display.Markdown object>"
      ]
     },
     "execution_count": 5,
     "metadata": {},
     "output_type": "execute_result"
    }
   ],
   "source": [
    "#hide_input\n",
    "#md('##### {}'.format(titleBTC)) \n",
    "md(\"- {}{} {}{} [| Skaityti daugiau]({}) \".format(xrp['title'],'. ', xrp['body'], ' ...', xrp['url']))"
   ]
  },
  {
   "cell_type": "code",
   "execution_count": 6,
   "id": "prompt-farmer",
   "metadata": {
    "execution": {
     "iopub.execute_input": "2022-07-12T03:29:00.799251Z",
     "iopub.status.busy": "2022-07-12T03:29:00.798125Z",
     "iopub.status.idle": "2022-07-12T03:29:00.802533Z",
     "shell.execute_reply": "2022-07-12T03:29:00.802052Z"
    },
    "papermill": {
     "duration": 0.017268,
     "end_time": "2022-07-12T03:29:00.802635",
     "exception": false,
     "start_time": "2022-07-12T03:29:00.785367",
     "status": "completed"
    },
    "tags": []
   },
   "outputs": [
    {
     "data": {
      "text/markdown": [
       "- Today in Crypto Turmoil: Sun Readies USD 5B Spend, Celsius’ Dealings ‘Exposed,’ CoinFlex Heads to HK Courts.  The Tron (TRX) founder Justin Sun says he is ready to spend big on acquisitions as another week of crypto turmoil begins – and there are also developments from Celsius (CEL) (as usual!), while the exchange CoinFlex could be gearing up to flex its legal muscles on Roger Ver. Here’s all you need to know:...Read More: Today in Crypto Turmoil: Sun Readies USD 5B Spend, Celsius’ Dealings ‘Exposed,’ CoinFlex Heads to HK Courts ... [| Skaityti daugiau](https://cryptonews.com/news/today-crypto-turmoil-sun-readies-usd-5bn-spend-celsius-dealings-exposed-coinflex-heads-hk-courts.htm) "
      ],
      "text/plain": [
       "<IPython.core.display.Markdown object>"
      ]
     },
     "execution_count": 6,
     "metadata": {},
     "output_type": "execute_result"
    }
   ],
   "source": [
    "#hide_input\n",
    "#md('##### {}'.format(titleBTC)) \n",
    "md(\"- {}{} {}{} [| Skaityti daugiau]({}) \".format(trx['title'],'. ', trx['body'], ' ...', trx['url']))"
   ]
  },
  {
   "cell_type": "code",
   "execution_count": 7,
   "id": "illegal-greece",
   "metadata": {
    "execution": {
     "iopub.execute_input": "2022-07-12T03:29:00.827621Z",
     "iopub.status.busy": "2022-07-12T03:29:00.827063Z",
     "iopub.status.idle": "2022-07-12T03:29:00.830598Z",
     "shell.execute_reply": "2022-07-12T03:29:00.830019Z"
    },
    "papermill": {
     "duration": 0.017808,
     "end_time": "2022-07-12T03:29:00.830698",
     "exception": false,
     "start_time": "2022-07-12T03:29:00.812890",
     "status": "completed"
    },
    "tags": []
   },
   "outputs": [
    {
     "data": {
      "text/markdown": [
       "- Convex Finance [CVX]: With 14 unlocks left to go, investors can….  Convex Finance, a DeFi protocol built on Curve Finance, on 30 June, commenced unlocking its CVX tokens. This resulted from limited liquidity to allow for swapping CVX tokens to Ethereum (ETH). According to data from Dune Analytics, following the 30 June unlocking, the next unlock for the vote-locked CVX tokens was scheduled for 7 July. [&#8230;] ... [| Skaityti daugiau](https://ambcrypto.com/convex-finance-cvx-with-14-unlocks-left-to-go-investors-can/) "
      ],
      "text/plain": [
       "<IPython.core.display.Markdown object>"
      ]
     },
     "execution_count": 7,
     "metadata": {},
     "output_type": "execute_result"
    }
   ],
   "source": [
    "#hide_input\n",
    "#md('##### {}'.format(titleBTC)) \n",
    "md(\"- {}{} {}{} [| Skaityti daugiau]({}) \".format(eth['title'],'. ', eth['body'], ' ...', eth['url']))"
   ]
  },
  {
   "cell_type": "code",
   "execution_count": 8,
   "id": "sublime-lounge",
   "metadata": {
    "execution": {
     "iopub.execute_input": "2022-07-12T03:29:00.857279Z",
     "iopub.status.busy": "2022-07-12T03:29:00.856717Z",
     "iopub.status.idle": "2022-07-12T03:29:00.860121Z",
     "shell.execute_reply": "2022-07-12T03:29:00.860558Z"
    },
    "papermill": {
     "duration": 0.018359,
     "end_time": "2022-07-12T03:29:00.860667",
     "exception": false,
     "start_time": "2022-07-12T03:29:00.842308",
     "status": "completed"
    },
    "tags": []
   },
   "outputs": [
    {
     "data": {
      "text/markdown": [
       "- Grayscale Maintains Cardano ($ADA) and Solana ($SOL) as Top Holdings in Smart Contract Fund.  Cryptocurrency asset manager Grayscale Investments has maintained both Cardano ($ADA) and Solana ($SOL) as the top holdings in its fund offering investors exposure to smart contract blockchain networks while excluding Ethereum ($ETH). According to data from the Grayscale Smart Contract Platform ex Ethereum Fund (GSCPxE), its Cardano allocation is now 30.7%, meaning each share of the […] ... [| Skaityti daugiau](https://www.cryptoglobe.com/latest/2022/07/grayscale-maintains-cardano-ada-and-solana-sol-as-top-holdings-in-smart-contract-fund/) "
      ],
      "text/plain": [
       "<IPython.core.display.Markdown object>"
      ]
     },
     "execution_count": 8,
     "metadata": {},
     "output_type": "execute_result"
    }
   ],
   "source": [
    "#hide_input\n",
    "#md('##### {}'.format(titleBTC)) \n",
    "md(\"- {}{} {}{} [| Skaityti daugiau]({}) \".format(ada['title'],'. ', ada['body'], ' ...', ada['url']))"
   ]
  },
  {
   "cell_type": "code",
   "execution_count": 9,
   "id": "specified-ordering",
   "metadata": {
    "execution": {
     "iopub.execute_input": "2022-07-12T03:29:00.887073Z",
     "iopub.status.busy": "2022-07-12T03:29:00.886509Z",
     "iopub.status.idle": "2022-07-12T03:29:00.889729Z",
     "shell.execute_reply": "2022-07-12T03:29:00.889178Z"
    },
    "papermill": {
     "duration": 0.018208,
     "end_time": "2022-07-12T03:29:00.889827",
     "exception": false,
     "start_time": "2022-07-12T03:29:00.871619",
     "status": "completed"
    },
    "tags": []
   },
   "outputs": [
    {
     "data": {
      "text/markdown": [
       "- Brazilian Fintech PicPay to Launch a Stablecoin And a Cryptocurrency Exchange.  The brazilian startup PicPay is interested in cryptocurrency, but has no intentions of going slow on its services, launching a stablecoin, an exchange and a crypto unit. ... [| Skaityti daugiau](https://cryptopotato.com/brazilian-fintech-picpay-to-launch-a-stablecoin-and-a-cryptocurrency-exchange/) "
      ],
      "text/plain": [
       "<IPython.core.display.Markdown object>"
      ]
     },
     "execution_count": 9,
     "metadata": {},
     "output_type": "execute_result"
    }
   ],
   "source": [
    "#hide_input\n",
    "#md('##### {}'.format(titleBTC)) \n",
    "md(\"- {}{} {}{} [| Skaityti daugiau]({}) \".format(exchange['title'],'. ', exchange['body'], ' ...', exchange['url']))"
   ]
  },
  {
   "cell_type": "code",
   "execution_count": null,
   "id": "tender-livestock",
   "metadata": {
    "papermill": {
     "duration": 0.011031,
     "end_time": "2022-07-12T03:29:00.911850",
     "exception": false,
     "start_time": "2022-07-12T03:29:00.900819",
     "status": "completed"
    },
    "tags": []
   },
   "outputs": [],
   "source": []
  },
  {
   "cell_type": "code",
   "execution_count": null,
   "id": "appreciated-diamond",
   "metadata": {
    "papermill": {
     "duration": 0.011341,
     "end_time": "2022-07-12T03:29:00.934374",
     "exception": false,
     "start_time": "2022-07-12T03:29:00.923033",
     "status": "completed"
    },
    "tags": []
   },
   "outputs": [],
   "source": []
  },
  {
   "cell_type": "code",
   "execution_count": null,
   "id": "romance-sweden",
   "metadata": {
    "papermill": {
     "duration": 0.011155,
     "end_time": "2022-07-12T03:29:00.956571",
     "exception": false,
     "start_time": "2022-07-12T03:29:00.945416",
     "status": "completed"
    },
    "tags": []
   },
   "outputs": [],
   "source": []
  },
  {
   "cell_type": "code",
   "execution_count": null,
   "id": "dietary-statistics",
   "metadata": {
    "papermill": {
     "duration": 0.010986,
     "end_time": "2022-07-12T03:29:00.978668",
     "exception": false,
     "start_time": "2022-07-12T03:29:00.967682",
     "status": "completed"
    },
    "tags": []
   },
   "outputs": [],
   "source": []
  }
 ],
 "metadata": {
  "kernelspec": {
   "display_name": "Python 3",
   "language": "python",
   "name": "python3"
  },
  "language_info": {
   "codemirror_mode": {
    "name": "ipython",
    "version": 3
   },
   "file_extension": ".py",
   "mimetype": "text/x-python",
   "name": "python",
   "nbconvert_exporter": "python",
   "pygments_lexer": "ipython3",
   "version": "3.6.15"
  },
  "papermill": {
   "default_parameters": {},
   "duration": 14.209091,
   "end_time": "2022-07-12T03:29:01.407187",
   "environment_variables": {},
   "exception": null,
   "input_path": "Market-News.ipynb",
   "output_path": "Market-News.ipynb",
   "parameters": {},
   "start_time": "2022-07-12T03:28:47.198096",
   "version": "2.2.2"
  }
 },
 "nbformat": 4,
 "nbformat_minor": 5
}