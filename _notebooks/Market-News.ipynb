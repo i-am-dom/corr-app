{
 "cells": [
  {
   "cell_type": "markdown",
   "id": "short-greensboro",
   "metadata": {
    "papermill": {
     "duration": 0.014761,
     "end_time": "2021-08-17T01:56:33.509292",
     "exception": false,
     "start_time": "2021-08-17T01:56:33.494531",
     "status": "completed"
    },
    "tags": []
   },
   "source": [
    "# Kriptovaliutų naujienos"
   ]
  },
  {
   "cell_type": "code",
   "execution_count": 1,
   "id": "functioning-knowing",
   "metadata": {
    "execution": {
     "iopub.execute_input": "2021-08-17T01:56:33.545208Z",
     "iopub.status.busy": "2021-08-17T01:56:33.544493Z",
     "iopub.status.idle": "2021-08-17T01:56:34.919339Z",
     "shell.execute_reply": "2021-08-17T01:56:34.918684Z"
    },
    "papermill": {
     "duration": 1.39888,
     "end_time": "2021-08-17T01:56:34.919483",
     "exception": false,
     "start_time": "2021-08-17T01:56:33.520603",
     "status": "completed"
    },
    "tags": []
   },
   "outputs": [],
   "source": [
    "#hide_input\n",
    "import warnings\n",
    "warnings.filterwarnings('ignore')\n",
    "from scripts.read_data import read_api\n",
    "from scripts.read_data import read_news\n",
    "from scripts.read_data import read_covid\n",
    "import matplotlib.pyplot as plt \n",
    "from IPython.display import Markdown as md"
   ]
  },
  {
   "cell_type": "code",
   "execution_count": 2,
   "id": "shared-acceptance",
   "metadata": {
    "execution": {
     "iopub.execute_input": "2021-08-17T01:56:34.947831Z",
     "iopub.status.busy": "2021-08-17T01:56:34.946520Z",
     "iopub.status.idle": "2021-08-17T01:56:43.839026Z",
     "shell.execute_reply": "2021-08-17T01:56:43.838418Z"
    },
    "papermill": {
     "duration": 8.90917,
     "end_time": "2021-08-17T01:56:43.839162",
     "exception": false,
     "start_time": "2021-08-17T01:56:34.929992",
     "status": "completed"
    },
    "tags": []
   },
   "outputs": [],
   "source": [
    "#hide_input\n",
    "blockchain = read_news('blockchain') \n",
    "btc = read_news('btc') \n",
    "xrp = read_news('xrp') \n",
    "trx = read_news('trx') \n",
    "eth = read_news('eth')  \n",
    "ada = read_news('ada')\n",
    "exchange = read_news('exchange') "
   ]
  },
  {
   "cell_type": "code",
   "execution_count": 3,
   "id": "synthetic-notion",
   "metadata": {
    "execution": {
     "iopub.execute_input": "2021-08-17T01:56:43.868494Z",
     "iopub.status.busy": "2021-08-17T01:56:43.864220Z",
     "iopub.status.idle": "2021-08-17T01:56:43.871956Z",
     "shell.execute_reply": "2021-08-17T01:56:43.871489Z"
    },
    "papermill": {
     "duration": 0.021945,
     "end_time": "2021-08-17T01:56:43.872082",
     "exception": false,
     "start_time": "2021-08-17T01:56:43.850137",
     "status": "completed"
    },
    "tags": []
   },
   "outputs": [
    {
     "data": {
      "text/markdown": [
       "- This is what an average Bitcoin and crypto investor in Singapore looks like.  Singapore is the forerunner in the race to become the blockchain centre of the world’s largest continent. As crypto adoption gains traction worldwide, Singapore is leading the way with 67% of the population having crypto-investments, according to the State of Crypto in Singapore report published recently. The report was published by the cryptocurrency exchange Gemini [&#8230;] ... [| Skaityti daugiau](https://ambcrypto.com/this-is-what-an-average-bitcoin-and-crypto-investor-in-singapore-looks-like/) "
      ],
      "text/plain": [
       "<IPython.core.display.Markdown object>"
      ]
     },
     "execution_count": 3,
     "metadata": {},
     "output_type": "execute_result"
    }
   ],
   "source": [
    "#hide_input\n",
    "#md('##### {}'.format(titleBTC)) \n",
    "md(\"- {}{} {}{} [| Skaityti daugiau]({}) \".format(blockchain['title'],'. ', blockchain['body'], ' ...', blockchain['url']))"
   ]
  },
  {
   "cell_type": "code",
   "execution_count": 4,
   "id": "aging-caution",
   "metadata": {
    "execution": {
     "iopub.execute_input": "2021-08-17T01:56:43.898846Z",
     "iopub.status.busy": "2021-08-17T01:56:43.898230Z",
     "iopub.status.idle": "2021-08-17T01:56:43.901208Z",
     "shell.execute_reply": "2021-08-17T01:56:43.900646Z"
    },
    "papermill": {
     "duration": 0.018665,
     "end_time": "2021-08-17T01:56:43.901327",
     "exception": false,
     "start_time": "2021-08-17T01:56:43.882662",
     "status": "completed"
    },
    "tags": []
   },
   "outputs": [
    {
     "data": {
      "text/markdown": [
       "- Ethereum, Bitcoin, Cardano Are Most Popular Cryptocurrencies in Singapore: Study.  A new study shows that ethereum is the most popular cryptocurrency among more than 4,000 adults surveyed in Singapore. The second-most popular crypto is bitcoin, followed by cardano. Singapore-Based Crypto Investors Prefer Ethereum, Bitcoin, Cardano The new 2021 State of Crypto in Singapore, a joint study by Seedly, Gemini, and Coinmarketcap, was published Monday. It [&#8230;] ... [| Skaityti daugiau](https://news.bitcoin.com/ethereum-bitcoin-cardano-most-popular-cryptocurrencies-singapore/) "
      ],
      "text/plain": [
       "<IPython.core.display.Markdown object>"
      ]
     },
     "execution_count": 4,
     "metadata": {},
     "output_type": "execute_result"
    }
   ],
   "source": [
    "#hide_input\n",
    "#md('##### {}'.format(titleBTC)) \n",
    "md(\"- {}{} {}{} [| Skaityti daugiau]({}) \".format(btc['title'],'. ', btc['body'], ' ...', btc['url']))"
   ]
  },
  {
   "cell_type": "code",
   "execution_count": 5,
   "id": "organic-actress",
   "metadata": {
    "execution": {
     "iopub.execute_input": "2021-08-17T01:56:43.927944Z",
     "iopub.status.busy": "2021-08-17T01:56:43.927285Z",
     "iopub.status.idle": "2021-08-17T01:56:43.929932Z",
     "shell.execute_reply": "2021-08-17T01:56:43.930396Z"
    },
    "papermill": {
     "duration": 0.018268,
     "end_time": "2021-08-17T01:56:43.930530",
     "exception": false,
     "start_time": "2021-08-17T01:56:43.912262",
     "status": "completed"
    },
    "tags": []
   },
   "outputs": [
    {
     "data": {
      "text/markdown": [
       "- Crypto Roundup: August 16th, 2021.  The total value of the cryptoasset market has once again risen above $2 trillion, as altcoins including Cardano and XRP race to reclaim all-time highs. This bullish price action comes in defiance of negative headlines. The Senate passed the infrastructure bill on Tuesday without changing the requirements for crypto tax reporting, and on the same day $611 million was stolen in the largest DeFi hack in history (though the culprit has since returned the funds). Nevertheless, traders were not concerned, and multiple altcoins are now flashing high double-digit weekly gains. Beating the 3% increases of Bitcoin and Ethereum, XRP jumped almost 60% after forming a new partnership, closely followed by Cardano and Ethereum Classic with almost 50% gains, and Dogecoin which leaped 33% as Mark Cuban tweeted support for the memecoin. This Week’s Highlights Cardano climbs 45% ahead of major upgrade S. infrastructure bill passes Senate Cardano climbs 45% ahead of major upgrade Ethereum competitor Cardano topped $2 last week as the developers scheduled a highly-anticipated upgrade. Cardano project lead Nigel Hemsley announced a September 12 release date for the planned “Alonzo” upgrade. This would disarm critics by bringing long-awaited smart contract functionality to the network, potentially allowing Cardano to claim its own slice of the DeFi pie and capitalize on the NFT mania currently sweeping over the crypto market. Elsewhere in the proof-... ... [| Skaityti daugiau](https://www.newsbtc.com/etoro/crypto-roundup-august-16th-2021/) "
      ],
      "text/plain": [
       "<IPython.core.display.Markdown object>"
      ]
     },
     "execution_count": 5,
     "metadata": {},
     "output_type": "execute_result"
    }
   ],
   "source": [
    "#hide_input\n",
    "#md('##### {}'.format(titleBTC)) \n",
    "md(\"- {}{} {}{} [| Skaityti daugiau]({}) \".format(xrp['title'],'. ', xrp['body'], ' ...', xrp['url']))"
   ]
  },
  {
   "cell_type": "code",
   "execution_count": 6,
   "id": "prompt-farmer",
   "metadata": {
    "execution": {
     "iopub.execute_input": "2021-08-17T01:56:43.959211Z",
     "iopub.status.busy": "2021-08-17T01:56:43.958605Z",
     "iopub.status.idle": "2021-08-17T01:56:43.968215Z",
     "shell.execute_reply": "2021-08-17T01:56:43.967700Z"
    },
    "papermill": {
     "duration": 0.026698,
     "end_time": "2021-08-17T01:56:43.968332",
     "exception": false,
     "start_time": "2021-08-17T01:56:43.941634",
     "status": "completed"
    },
    "tags": []
   },
   "outputs": [
    {
     "data": {
      "text/markdown": [
       "- XRP, ADA, and Other Altcoins Show Positive Bullish Signs.  As Bitcoin rallies, so are many other altcoins. At the moment, ADA, XRP, IOTX, XDC, TRX, and MATIC are showing ... [| Skaityti daugiau](https://coinquora.com/xrp-ada-and-other-altcoins-show-positive-bullish-signs/) "
      ],
      "text/plain": [
       "<IPython.core.display.Markdown object>"
      ]
     },
     "execution_count": 6,
     "metadata": {},
     "output_type": "execute_result"
    }
   ],
   "source": [
    "#hide_input\n",
    "#md('##### {}'.format(titleBTC)) \n",
    "md(\"- {}{} {}{} [| Skaityti daugiau]({}) \".format(trx['title'],'. ', trx['body'], ' ...', trx['url']))"
   ]
  },
  {
   "cell_type": "code",
   "execution_count": 7,
   "id": "illegal-greece",
   "metadata": {
    "execution": {
     "iopub.execute_input": "2021-08-17T01:56:43.997830Z",
     "iopub.status.busy": "2021-08-17T01:56:43.996262Z",
     "iopub.status.idle": "2021-08-17T01:56:44.001014Z",
     "shell.execute_reply": "2021-08-17T01:56:44.000492Z"
    },
    "papermill": {
     "duration": 0.021016,
     "end_time": "2021-08-17T01:56:44.001140",
     "exception": false,
     "start_time": "2021-08-17T01:56:43.980124",
     "status": "completed"
    },
    "tags": []
   },
   "outputs": [
    {
     "data": {
      "text/markdown": [
       "- Ethereum, Bitcoin, Cardano Are Most Popular Cryptocurrencies in Singapore: Study.  A new study shows that ethereum is the most popular cryptocurrency among more than 4,000 adults surveyed in Singapore. The second-most popular crypto is bitcoin, followed by cardano. Singapore-Based Crypto Investors Prefer Ethereum, Bitcoin, Cardano The new 2021 State of Crypto in Singapore, a joint study by Seedly, Gemini, and Coinmarketcap, was published Monday. It [&#8230;] ... [| Skaityti daugiau](https://news.bitcoin.com/ethereum-bitcoin-cardano-most-popular-cryptocurrencies-singapore/) "
      ],
      "text/plain": [
       "<IPython.core.display.Markdown object>"
      ]
     },
     "execution_count": 7,
     "metadata": {},
     "output_type": "execute_result"
    }
   ],
   "source": [
    "#hide_input\n",
    "#md('##### {}'.format(titleBTC)) \n",
    "md(\"- {}{} {}{} [| Skaityti daugiau]({}) \".format(eth['title'],'. ', eth['body'], ' ...', eth['url']))"
   ]
  },
  {
   "cell_type": "code",
   "execution_count": 8,
   "id": "sublime-lounge",
   "metadata": {
    "execution": {
     "iopub.execute_input": "2021-08-17T01:56:44.031947Z",
     "iopub.status.busy": "2021-08-17T01:56:44.031405Z",
     "iopub.status.idle": "2021-08-17T01:56:44.033711Z",
     "shell.execute_reply": "2021-08-17T01:56:44.034194Z"
    },
    "papermill": {
     "duration": 0.020775,
     "end_time": "2021-08-17T01:56:44.034324",
     "exception": false,
     "start_time": "2021-08-17T01:56:44.013549",
     "status": "completed"
    },
    "tags": []
   },
   "outputs": [
    {
     "data": {
      "text/markdown": [
       "- Ethereum, Bitcoin, Cardano Are Most Popular Cryptocurrencies in Singapore: Study.  A new study shows that ethereum is the most popular cryptocurrency among more than 4,000 adults surveyed in Singapore. The second-most popular crypto is bitcoin, followed by cardano. Singapore-Based Crypto Investors Prefer Ethereum, Bitcoin, Cardano The new 2021 State of Crypto in Singapore, a joint study by Seedly, Gemini, and Coinmarketcap, was published Monday. It [&#8230;] ... [| Skaityti daugiau](https://news.bitcoin.com/ethereum-bitcoin-cardano-most-popular-cryptocurrencies-singapore/) "
      ],
      "text/plain": [
       "<IPython.core.display.Markdown object>"
      ]
     },
     "execution_count": 8,
     "metadata": {},
     "output_type": "execute_result"
    }
   ],
   "source": [
    "#hide_input\n",
    "#md('##### {}'.format(titleBTC)) \n",
    "md(\"- {}{} {}{} [| Skaityti daugiau]({}) \".format(ada['title'],'. ', ada['body'], ' ...', ada['url']))"
   ]
  },
  {
   "cell_type": "code",
   "execution_count": 9,
   "id": "specified-ordering",
   "metadata": {
    "execution": {
     "iopub.execute_input": "2021-08-17T01:56:44.066915Z",
     "iopub.status.busy": "2021-08-17T01:56:44.066149Z",
     "iopub.status.idle": "2021-08-17T01:56:44.068873Z",
     "shell.execute_reply": "2021-08-17T01:56:44.069463Z"
    },
    "papermill": {
     "duration": 0.022856,
     "end_time": "2021-08-17T01:56:44.069625",
     "exception": false,
     "start_time": "2021-08-17T01:56:44.046769",
     "status": "completed"
    },
    "tags": []
   },
   "outputs": [
    {
     "data": {
      "text/markdown": [
       "- Cardano Creator Charles Hoskinson Dismisses Criticism of $ADA’s Market Cap.  Cardano (ADA) founder Charles Hoskinson has dismissed criticism of the cryptocurrency’s market capitalization after it briefly surpassed Binance Coin (BNB) to become the third-largest cryptocurrency by market capitalization. Cardano’s price exploded over 1,400% last year and is now trading above $2.17 according to available data, partly because it’s soon launching an upgrade to its network […] ... [| Skaityti daugiau](https://www.cryptoglobe.com/latest/2021/08/cardano-creator-charles-hoskinson-dismisses-criticism-of-adas-market-cap/) "
      ],
      "text/plain": [
       "<IPython.core.display.Markdown object>"
      ]
     },
     "execution_count": 9,
     "metadata": {},
     "output_type": "execute_result"
    }
   ],
   "source": [
    "#hide_input\n",
    "#md('##### {}'.format(titleBTC)) \n",
    "md(\"- {}{} {}{} [| Skaityti daugiau]({}) \".format(exchange['title'],'. ', exchange['body'], ' ...', exchange['url']))"
   ]
  },
  {
   "cell_type": "code",
   "execution_count": null,
   "id": "tender-livestock",
   "metadata": {
    "papermill": {
     "duration": 0.013405,
     "end_time": "2021-08-17T01:56:44.097417",
     "exception": false,
     "start_time": "2021-08-17T01:56:44.084012",
     "status": "completed"
    },
    "tags": []
   },
   "outputs": [],
   "source": []
  },
  {
   "cell_type": "code",
   "execution_count": null,
   "id": "appreciated-diamond",
   "metadata": {
    "papermill": {
     "duration": 0.014039,
     "end_time": "2021-08-17T01:56:44.125590",
     "exception": false,
     "start_time": "2021-08-17T01:56:44.111551",
     "status": "completed"
    },
    "tags": []
   },
   "outputs": [],
   "source": []
  },
  {
   "cell_type": "code",
   "execution_count": null,
   "id": "romance-sweden",
   "metadata": {
    "papermill": {
     "duration": 0.013159,
     "end_time": "2021-08-17T01:56:44.152058",
     "exception": false,
     "start_time": "2021-08-17T01:56:44.138899",
     "status": "completed"
    },
    "tags": []
   },
   "outputs": [],
   "source": []
  },
  {
   "cell_type": "code",
   "execution_count": null,
   "id": "dietary-statistics",
   "metadata": {
    "papermill": {
     "duration": 0.013043,
     "end_time": "2021-08-17T01:56:44.177974",
     "exception": false,
     "start_time": "2021-08-17T01:56:44.164931",
     "status": "completed"
    },
    "tags": []
   },
   "outputs": [],
   "source": []
  }
 ],
 "metadata": {
  "kernelspec": {
   "display_name": "Python 3",
   "language": "python",
   "name": "python3"
  },
  "language_info": {
   "codemirror_mode": {
    "name": "ipython",
    "version": 3
   },
   "file_extension": ".py",
   "mimetype": "text/x-python",
   "name": "python",
   "nbconvert_exporter": "python",
   "pygments_lexer": "ipython3",
   "version": "3.6.14"
  },
  "papermill": {
   "default_parameters": {},
   "duration": 13.321073,
   "end_time": "2021-08-17T01:56:45.554024",
   "environment_variables": {},
   "exception": null,
   "input_path": "Market-News.ipynb",
   "output_path": "Market-News.ipynb",
   "parameters": {},
   "start_time": "2021-08-17T01:56:32.232951",
   "version": "2.2.2"
  }
 },
 "nbformat": 4,
 "nbformat_minor": 5
}