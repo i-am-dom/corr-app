{
 "cells": [
  {
   "cell_type": "markdown",
   "id": "short-greensboro",
   "metadata": {
    "papermill": {
     "duration": 0.017444,
     "end_time": "2022-10-03T03:05:13.824239",
     "exception": false,
     "start_time": "2022-10-03T03:05:13.806795",
     "status": "completed"
    },
    "tags": []
   },
   "source": [
    "# Kriptovaliutų naujienos"
   ]
  },
  {
   "cell_type": "code",
   "execution_count": 1,
   "id": "functioning-knowing",
   "metadata": {
    "execution": {
     "iopub.execute_input": "2022-10-03T03:05:13.858898Z",
     "iopub.status.busy": "2022-10-03T03:05:13.858191Z",
     "iopub.status.idle": "2022-10-03T03:05:15.292746Z",
     "shell.execute_reply": "2022-10-03T03:05:15.291520Z"
    },
    "papermill": {
     "duration": 1.457678,
     "end_time": "2022-10-03T03:05:15.292916",
     "exception": false,
     "start_time": "2022-10-03T03:05:13.835238",
     "status": "completed"
    },
    "tags": []
   },
   "outputs": [],
   "source": [
    "#hide_input\n",
    "import warnings\n",
    "warnings.filterwarnings('ignore')\n",
    "from scripts.read_data import read_api\n",
    "from scripts.read_data import read_news\n",
    "from scripts.read_data import read_covid\n",
    "import matplotlib.pyplot as plt \n",
    "from IPython.display import Markdown as md"
   ]
  },
  {
   "cell_type": "code",
   "execution_count": 2,
   "id": "shared-acceptance",
   "metadata": {
    "execution": {
     "iopub.execute_input": "2022-10-03T03:05:15.321222Z",
     "iopub.status.busy": "2022-10-03T03:05:15.320034Z",
     "iopub.status.idle": "2022-10-03T03:05:26.893319Z",
     "shell.execute_reply": "2022-10-03T03:05:26.891626Z"
    },
    "papermill": {
     "duration": 11.590074,
     "end_time": "2022-10-03T03:05:26.893484",
     "exception": false,
     "start_time": "2022-10-03T03:05:15.303410",
     "status": "completed"
    },
    "tags": []
   },
   "outputs": [],
   "source": [
    "#hide_input\n",
    "blockchain = read_news('blockchain') \n",
    "btc = read_news('btc') \n",
    "xrp = read_news('xrp') \n",
    "trx = read_news('trx') \n",
    "eth = read_news('eth')  \n",
    "ada = read_news('ada')\n",
    "exchange = read_news('exchange') "
   ]
  },
  {
   "cell_type": "code",
   "execution_count": 3,
   "id": "synthetic-notion",
   "metadata": {
    "execution": {
     "iopub.execute_input": "2022-10-03T03:05:26.923527Z",
     "iopub.status.busy": "2022-10-03T03:05:26.922309Z",
     "iopub.status.idle": "2022-10-03T03:05:26.925809Z",
     "shell.execute_reply": "2022-10-03T03:05:26.926316Z"
    },
    "papermill": {
     "duration": 0.022586,
     "end_time": "2022-10-03T03:05:26.926456",
     "exception": false,
     "start_time": "2022-10-03T03:05:26.903870",
     "status": "completed"
    },
    "tags": []
   },
   "outputs": [
    {
     "data": {
      "text/markdown": [
       "- Decentralized Exchange Uniswap Labs Is Set To Raise $100 Million: Report.  The parent firm of the world’s leading decentralized crypto exchange Uniswap, Uniswap Labs is set to raise around $100 million at a valuation of $1 billion. According to a report from TechCrunch citing sources closer to the matter, the firm is planning to broaden its services and also, aims to expand amid the bearish market [&#8230;]The post Decentralized Exchange Uniswap Labs Is Set To Raise $100 Million: Report appeared first on Blockchain, Crypto and Stock News. ... [| Skaityti daugiau](https://thecoinrise.com/decentralized-exchange-uniswap-labs-is-set-to-raise-100-million-report/) "
      ],
      "text/plain": [
       "<IPython.core.display.Markdown object>"
      ]
     },
     "execution_count": 3,
     "metadata": {},
     "output_type": "execute_result"
    }
   ],
   "source": [
    "#hide_input\n",
    "#md('##### {}'.format(titleBTC)) \n",
    "md(\"- {}{} {}{} [| Skaityti daugiau]({}) \".format(blockchain['title'],'. ', blockchain['body'], ' ...', blockchain['url']))"
   ]
  },
  {
   "cell_type": "code",
   "execution_count": 4,
   "id": "aging-caution",
   "metadata": {
    "execution": {
     "iopub.execute_input": "2022-10-03T03:05:26.954541Z",
     "iopub.status.busy": "2022-10-03T03:05:26.953253Z",
     "iopub.status.idle": "2022-10-03T03:05:26.957296Z",
     "shell.execute_reply": "2022-10-03T03:05:26.956713Z"
    },
    "papermill": {
     "duration": 0.020675,
     "end_time": "2022-10-03T03:05:26.957424",
     "exception": false,
     "start_time": "2022-10-03T03:05:26.936749",
     "status": "completed"
    },
    "tags": []
   },
   "outputs": [
    {
     "data": {
      "text/markdown": [
       "- Bitcoin, Ethereum, Algorand, and Toncoin Daily Price Analyses – 2 October Roundup.  The global crypto market has seen a negative trend because of the continuation of losses. There has been no improvement in the value of Bitcoin, Ethereum, or others. The trend of the market&#8217;s decline has continued without any breakthrough, affecting the overall performance. As there has been no significant positive change, it has affected the &#8230;  Bitcoin, Ethereum, Algorand, and Toncoin Daily Price Analyses – 2 October Roundup Read More &#187; ... [| Skaityti daugiau](https://www.cryptopolitan.com/bitcoin-ethereum-algorand-and-toncoin-daily-price-analyses-2-october-roundup/) "
      ],
      "text/plain": [
       "<IPython.core.display.Markdown object>"
      ]
     },
     "execution_count": 4,
     "metadata": {},
     "output_type": "execute_result"
    }
   ],
   "source": [
    "#hide_input\n",
    "#md('##### {}'.format(titleBTC)) \n",
    "md(\"- {}{} {}{} [| Skaityti daugiau]({}) \".format(btc['title'],'. ', btc['body'], ' ...', btc['url']))"
   ]
  },
  {
   "cell_type": "code",
   "execution_count": 5,
   "id": "organic-actress",
   "metadata": {
    "execution": {
     "iopub.execute_input": "2022-10-03T03:05:26.986995Z",
     "iopub.status.busy": "2022-10-03T03:05:26.985548Z",
     "iopub.status.idle": "2022-10-03T03:05:26.989436Z",
     "shell.execute_reply": "2022-10-03T03:05:26.988867Z"
    },
    "papermill": {
     "duration": 0.021372,
     "end_time": "2022-10-03T03:05:26.989558",
     "exception": false,
     "start_time": "2022-10-03T03:05:26.968186",
     "status": "completed"
    },
    "tags": []
   },
   "outputs": [
    {
     "data": {
      "text/markdown": [
       "- 9 Out of the Top 12 Crypto Assets Are Down 70% to 90% Lower Than the All-Time Highs Recorded Last Year.  274 days or roughly nine months ago, the crypto economy was worth $2.34 trillion and at $967 billion the aggregate value of all 13,192 crypto assets is $1.48 trillion less. Most of the top digital currencies tapped an all-time price high in November 2021 and today, a great majority of the top crypto assets are [&#8230;] ... [| Skaityti daugiau](https://news.bitcoin.com/9-out-of-the-top-12-crypto-assets-are-down-70-to-90-lower-than-the-all-time-highs-recorded-last-year/) "
      ],
      "text/plain": [
       "<IPython.core.display.Markdown object>"
      ]
     },
     "execution_count": 5,
     "metadata": {},
     "output_type": "execute_result"
    }
   ],
   "source": [
    "#hide_input\n",
    "#md('##### {}'.format(titleBTC)) \n",
    "md(\"- {}{} {}{} [| Skaityti daugiau]({}) \".format(xrp['title'],'. ', xrp['body'], ' ...', xrp['url']))"
   ]
  },
  {
   "cell_type": "code",
   "execution_count": 6,
   "id": "prompt-farmer",
   "metadata": {
    "execution": {
     "iopub.execute_input": "2022-10-03T03:05:27.017969Z",
     "iopub.status.busy": "2022-10-03T03:05:27.016384Z",
     "iopub.status.idle": "2022-10-03T03:05:27.024009Z",
     "shell.execute_reply": "2022-10-03T03:05:27.023465Z"
    },
    "papermill": {
     "duration": 0.023506,
     "end_time": "2022-10-03T03:05:27.024131",
     "exception": false,
     "start_time": "2022-10-03T03:05:27.000625",
     "status": "completed"
    },
    "tags": []
   },
   "outputs": [
    {
     "data": {
      "text/markdown": [
       "- Gas-Free TRC-20 Transactions on Guarda Wallet.  Guarda&#8217;s team has worked to improve the validators&#8217; fees to increase the APY received while staking the TRX. The TRX token is among the popular assets available on Guarda Wallet for staking to earn passive income. The APY of Tron is around 4%. So you can just delegate your asset to Guarda’s validator nodes. Brief [&#8230;]The post Gas-Free TRC-20 Transactions on Guarda Wallet appeared first on Blockchain, Crypto and Stock News. ... [| Skaityti daugiau](https://thecoinrise.com/gas-free-trc-20-transactions-on-guarda-wallet/) "
      ],
      "text/plain": [
       "<IPython.core.display.Markdown object>"
      ]
     },
     "execution_count": 6,
     "metadata": {},
     "output_type": "execute_result"
    }
   ],
   "source": [
    "#hide_input\n",
    "#md('##### {}'.format(titleBTC)) \n",
    "md(\"- {}{} {}{} [| Skaityti daugiau]({}) \".format(trx['title'],'. ', trx['body'], ' ...', trx['url']))"
   ]
  },
  {
   "cell_type": "code",
   "execution_count": 7,
   "id": "illegal-greece",
   "metadata": {
    "execution": {
     "iopub.execute_input": "2022-10-03T03:05:27.056558Z",
     "iopub.status.busy": "2022-10-03T03:05:27.055397Z",
     "iopub.status.idle": "2022-10-03T03:05:27.063405Z",
     "shell.execute_reply": "2022-10-03T03:05:27.062851Z"
    },
    "papermill": {
     "duration": 0.027673,
     "end_time": "2022-10-03T03:05:27.063532",
     "exception": false,
     "start_time": "2022-10-03T03:05:27.035859",
     "status": "completed"
    },
    "tags": []
   },
   "outputs": [
    {
     "data": {
      "text/markdown": [
       "- Bitcoin, Ethereum, Algorand, and Toncoin Daily Price Analyses – 2 October Roundup.  The global crypto market has seen a negative trend because of the continuation of losses. There has been no improvement in the value of Bitcoin, Ethereum, or others. The trend of the market&#8217;s decline has continued without any breakthrough, affecting the overall performance. As there has been no significant positive change, it has affected the &#8230;  Bitcoin, Ethereum, Algorand, and Toncoin Daily Price Analyses – 2 October Roundup Read More &#187; ... [| Skaityti daugiau](https://www.cryptopolitan.com/bitcoin-ethereum-algorand-and-toncoin-daily-price-analyses-2-october-roundup/) "
      ],
      "text/plain": [
       "<IPython.core.display.Markdown object>"
      ]
     },
     "execution_count": 7,
     "metadata": {},
     "output_type": "execute_result"
    }
   ],
   "source": [
    "#hide_input\n",
    "#md('##### {}'.format(titleBTC)) \n",
    "md(\"- {}{} {}{} [| Skaityti daugiau]({}) \".format(eth['title'],'. ', eth['body'], ' ...', eth['url']))"
   ]
  },
  {
   "cell_type": "code",
   "execution_count": 8,
   "id": "sublime-lounge",
   "metadata": {
    "execution": {
     "iopub.execute_input": "2022-10-03T03:05:27.097571Z",
     "iopub.status.busy": "2022-10-03T03:05:27.096215Z",
     "iopub.status.idle": "2022-10-03T03:05:27.101916Z",
     "shell.execute_reply": "2022-10-03T03:05:27.102461Z"
    },
    "papermill": {
     "duration": 0.025796,
     "end_time": "2022-10-03T03:05:27.102606",
     "exception": false,
     "start_time": "2022-10-03T03:05:27.076810",
     "status": "completed"
    },
    "tags": []
   },
   "outputs": [
    {
     "data": {
      "text/markdown": [
       "- $ADA: There Are Currently 1,113 Projects Building on Cardano.  As of Friday (September 30), there are 1,113 projects powered by Cardano, but that’s just the tip of the iceberg as fr as good news you will hearing about in this article. As Olga Hryniuk, who works in the Marketing and Communications department of IO Global (IOG), the blockchain technology firm responsible for the development of Cardano […] ... [| Skaityti daugiau](https://www.cryptoglobe.com/latest/2022/10/ada-there-are-currently-1113-projects-building-on-cardano/) "
      ],
      "text/plain": [
       "<IPython.core.display.Markdown object>"
      ]
     },
     "execution_count": 8,
     "metadata": {},
     "output_type": "execute_result"
    }
   ],
   "source": [
    "#hide_input\n",
    "#md('##### {}'.format(titleBTC)) \n",
    "md(\"- {}{} {}{} [| Skaityti daugiau]({}) \".format(ada['title'],'. ', ada['body'], ' ...', ada['url']))"
   ]
  },
  {
   "cell_type": "code",
   "execution_count": 9,
   "id": "specified-ordering",
   "metadata": {
    "execution": {
     "iopub.execute_input": "2022-10-03T03:05:27.133232Z",
     "iopub.status.busy": "2022-10-03T03:05:27.130994Z",
     "iopub.status.idle": "2022-10-03T03:05:27.135892Z",
     "shell.execute_reply": "2022-10-03T03:05:27.136401Z"
    },
    "papermill": {
     "duration": 0.021785,
     "end_time": "2022-10-03T03:05:27.136539",
     "exception": false,
     "start_time": "2022-10-03T03:05:27.114754",
     "status": "completed"
    },
    "tags": []
   },
   "outputs": [
    {
     "data": {
      "text/markdown": [
       "- Decentralized Exchange Uniswap Labs Is Set To Raise $100 Million: Report.  The parent firm of the world’s leading decentralized crypto exchange Uniswap, Uniswap Labs is set to raise around $100 million at a valuation of $1 billion. According to a report from TechCrunch citing sources closer to the matter, the firm is planning to broaden its services and also, aims to expand amid the bearish market [&#8230;]The post Decentralized Exchange Uniswap Labs Is Set To Raise $100 Million: Report appeared first on Blockchain, Crypto and Stock News. ... [| Skaityti daugiau](https://thecoinrise.com/decentralized-exchange-uniswap-labs-is-set-to-raise-100-million-report/) "
      ],
      "text/plain": [
       "<IPython.core.display.Markdown object>"
      ]
     },
     "execution_count": 9,
     "metadata": {},
     "output_type": "execute_result"
    }
   ],
   "source": [
    "#hide_input\n",
    "#md('##### {}'.format(titleBTC)) \n",
    "md(\"- {}{} {}{} [| Skaityti daugiau]({}) \".format(exchange['title'],'. ', exchange['body'], ' ...', exchange['url']))"
   ]
  },
  {
   "cell_type": "code",
   "execution_count": null,
   "id": "tender-livestock",
   "metadata": {
    "papermill": {
     "duration": 0.012636,
     "end_time": "2022-10-03T03:05:27.162812",
     "exception": false,
     "start_time": "2022-10-03T03:05:27.150176",
     "status": "completed"
    },
    "tags": []
   },
   "outputs": [],
   "source": []
  },
  {
   "cell_type": "code",
   "execution_count": null,
   "id": "appreciated-diamond",
   "metadata": {
    "papermill": {
     "duration": 0.012648,
     "end_time": "2022-10-03T03:05:27.188032",
     "exception": false,
     "start_time": "2022-10-03T03:05:27.175384",
     "status": "completed"
    },
    "tags": []
   },
   "outputs": [],
   "source": []
  },
  {
   "cell_type": "code",
   "execution_count": null,
   "id": "romance-sweden",
   "metadata": {
    "papermill": {
     "duration": 0.012662,
     "end_time": "2022-10-03T03:05:27.213309",
     "exception": false,
     "start_time": "2022-10-03T03:05:27.200647",
     "status": "completed"
    },
    "tags": []
   },
   "outputs": [],
   "source": []
  },
  {
   "cell_type": "code",
   "execution_count": null,
   "id": "dietary-statistics",
   "metadata": {
    "papermill": {
     "duration": 0.012572,
     "end_time": "2022-10-03T03:05:27.238594",
     "exception": false,
     "start_time": "2022-10-03T03:05:27.226022",
     "status": "completed"
    },
    "tags": []
   },
   "outputs": [],
   "source": []
  }
 ],
 "metadata": {
  "kernelspec": {
   "display_name": "Python 3",
   "language": "python",
   "name": "python3"
  },
  "language_info": {
   "codemirror_mode": {
    "name": "ipython",
    "version": 3
   },
   "file_extension": ".py",
   "mimetype": "text/x-python",
   "name": "python",
   "nbconvert_exporter": "python",
   "pygments_lexer": "ipython3",
   "version": "3.6.15"
  },
  "papermill": {
   "default_parameters": {},
   "duration": 15.108788,
   "end_time": "2022-10-03T03:05:27.772337",
   "environment_variables": {},
   "exception": null,
   "input_path": "Market-News.ipynb",
   "output_path": "Market-News.ipynb",
   "parameters": {},
   "start_time": "2022-10-03T03:05:12.663549",
   "version": "2.2.2"
  }
 },
 "nbformat": 4,
 "nbformat_minor": 5
}