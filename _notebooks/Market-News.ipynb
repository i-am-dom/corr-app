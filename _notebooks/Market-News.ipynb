{
 "cells": [
  {
   "cell_type": "markdown",
   "id": "short-greensboro",
   "metadata": {
    "papermill": {
     "duration": 0.013553,
     "end_time": "2021-08-19T01:48:49.799106",
     "exception": false,
     "start_time": "2021-08-19T01:48:49.785553",
     "status": "completed"
    },
    "tags": []
   },
   "source": [
    "# Kriptovaliutų naujienos"
   ]
  },
  {
   "cell_type": "code",
   "execution_count": 1,
   "id": "functioning-knowing",
   "metadata": {
    "execution": {
     "iopub.execute_input": "2021-08-19T01:48:49.828736Z",
     "iopub.status.busy": "2021-08-19T01:48:49.828236Z",
     "iopub.status.idle": "2021-08-19T01:48:50.975866Z",
     "shell.execute_reply": "2021-08-19T01:48:50.976346Z"
    },
    "papermill": {
     "duration": 1.168,
     "end_time": "2021-08-19T01:48:50.976531",
     "exception": false,
     "start_time": "2021-08-19T01:48:49.808531",
     "status": "completed"
    },
    "tags": []
   },
   "outputs": [],
   "source": [
    "#hide_input\n",
    "import warnings\n",
    "warnings.filterwarnings('ignore')\n",
    "from scripts.read_data import read_api\n",
    "from scripts.read_data import read_news\n",
    "from scripts.read_data import read_covid\n",
    "import matplotlib.pyplot as plt \n",
    "from IPython.display import Markdown as md"
   ]
  },
  {
   "cell_type": "code",
   "execution_count": 2,
   "id": "shared-acceptance",
   "metadata": {
    "execution": {
     "iopub.execute_input": "2021-08-19T01:48:51.002361Z",
     "iopub.status.busy": "2021-08-19T01:48:51.001852Z",
     "iopub.status.idle": "2021-08-19T01:48:59.792947Z",
     "shell.execute_reply": "2021-08-19T01:48:59.793421Z"
    },
    "papermill": {
     "duration": 8.80675,
     "end_time": "2021-08-19T01:48:59.793575",
     "exception": false,
     "start_time": "2021-08-19T01:48:50.986825",
     "status": "completed"
    },
    "tags": []
   },
   "outputs": [],
   "source": [
    "#hide_input\n",
    "blockchain = read_news('blockchain') \n",
    "btc = read_news('btc') \n",
    "xrp = read_news('xrp') \n",
    "trx = read_news('trx') \n",
    "eth = read_news('eth')  \n",
    "ada = read_news('ada')\n",
    "exchange = read_news('exchange') "
   ]
  },
  {
   "cell_type": "code",
   "execution_count": 3,
   "id": "synthetic-notion",
   "metadata": {
    "execution": {
     "iopub.execute_input": "2021-08-19T01:48:59.818206Z",
     "iopub.status.busy": "2021-08-19T01:48:59.817711Z",
     "iopub.status.idle": "2021-08-19T01:48:59.821536Z",
     "shell.execute_reply": "2021-08-19T01:48:59.821141Z"
    },
    "papermill": {
     "duration": 0.018233,
     "end_time": "2021-08-19T01:48:59.821634",
     "exception": false,
     "start_time": "2021-08-19T01:48:59.803401",
     "status": "completed"
    },
    "tags": []
   },
   "outputs": [
    {
     "data": {
      "text/markdown": [
       "- Dex Aggregator 1inch to Utilize Ethereum Scaling Solution Optimism.  On August 17, the decentralized exchange (dex) aggregator 1inch announced the platform will leverage the Layer 2 solution called optimistic rollups provided by the project Optimism. The collaboration with Optimism aims to &#8220;substantially increase transaction speeds and lower gas fees for 1inch users.&#8221; 1inch to Use the L2 Solution Optimistic Rollups via Optimism Gateway Ever [&#8230;] ... [| Skaityti daugiau](https://news.bitcoin.com/dex-aggregator-1inch-to-utilize-ethereum-scaling-solution-optimism/) "
      ],
      "text/plain": [
       "<IPython.core.display.Markdown object>"
      ]
     },
     "execution_count": 3,
     "metadata": {},
     "output_type": "execute_result"
    }
   ],
   "source": [
    "#hide_input\n",
    "#md('##### {}'.format(titleBTC)) \n",
    "md(\"- {}{} {}{} [| Skaityti daugiau]({}) \".format(blockchain['title'],'. ', blockchain['body'], ' ...', blockchain['url']))"
   ]
  },
  {
   "cell_type": "code",
   "execution_count": 4,
   "id": "aging-caution",
   "metadata": {
    "execution": {
     "iopub.execute_input": "2021-08-19T01:48:59.843909Z",
     "iopub.status.busy": "2021-08-19T01:48:59.843422Z",
     "iopub.status.idle": "2021-08-19T01:48:59.846502Z",
     "shell.execute_reply": "2021-08-19T01:48:59.846117Z"
    },
    "papermill": {
     "duration": 0.015965,
     "end_time": "2021-08-19T01:48:59.846595",
     "exception": false,
     "start_time": "2021-08-19T01:48:59.830630",
     "status": "completed"
    },
    "tags": []
   },
   "outputs": [
    {
     "data": {
      "text/markdown": [
       "- BIT Mining nets $445 million in Q2 revenues thanks to BTC.com’s accounting method.  U.S.-listed bitcoin mining firm BIT Mining has reported $443 million in Q2 revenues thanks to the accounting for its newly acquired BTC.com.The post BIT Mining nets $445 million in Q2 revenues thanks to BTC.com&#8217;s accounting method appeared first on The Block. ... [| Skaityti daugiau](https://www.theblockcrypto.com/post/114887/bit-mining-q2-revenue-btc-bitcoin?utm_source=cryptocompare&utm_medium=rss) "
      ],
      "text/plain": [
       "<IPython.core.display.Markdown object>"
      ]
     },
     "execution_count": 4,
     "metadata": {},
     "output_type": "execute_result"
    }
   ],
   "source": [
    "#hide_input\n",
    "#md('##### {}'.format(titleBTC)) \n",
    "md(\"- {}{} {}{} [| Skaityti daugiau]({}) \".format(btc['title'],'. ', btc['body'], ' ...', btc['url']))"
   ]
  },
  {
   "cell_type": "code",
   "execution_count": 5,
   "id": "organic-actress",
   "metadata": {
    "execution": {
     "iopub.execute_input": "2021-08-19T01:48:59.869252Z",
     "iopub.status.busy": "2021-08-19T01:48:59.868692Z",
     "iopub.status.idle": "2021-08-19T01:48:59.873178Z",
     "shell.execute_reply": "2021-08-19T01:48:59.872739Z"
    },
    "papermill": {
     "duration": 0.017384,
     "end_time": "2021-08-19T01:48:59.873271",
     "exception": false,
     "start_time": "2021-08-19T01:48:59.855887",
     "status": "completed"
    },
    "tags": []
   },
   "outputs": [
    {
     "data": {
      "text/markdown": [
       "- Ripple Condemns SEC’s Demand For Employee Slack Messages In On-Going Court Case.  In the ongoing SEC vs. Ripple court case, the defense team has written to Judge Sarah Netburn opposing the SEC&#8217;s motion to compel the firm to produce Slack communications. They demand the production of over 1 million pages of discovery. Slack is a proprietary message platform featuring chat rooms, private messages, and direct messaging. It [&#8230;] ... [| Skaityti daugiau](https://bitcoinist.com/ripple-condemns-secs-demand-for-employee-slack-messages-in-on-going-court-case/?utm_source=rss&utm_medium=rss&utm_campaign=ripple-condemns-secs-demand-for-employee-slack-messages-in-on-going-court-case) "
      ],
      "text/plain": [
       "<IPython.core.display.Markdown object>"
      ]
     },
     "execution_count": 5,
     "metadata": {},
     "output_type": "execute_result"
    }
   ],
   "source": [
    "#hide_input\n",
    "#md('##### {}'.format(titleBTC)) \n",
    "md(\"- {}{} {}{} [| Skaityti daugiau]({}) \".format(xrp['title'],'. ', xrp['body'], ' ...', xrp['url']))"
   ]
  },
  {
   "cell_type": "code",
   "execution_count": 6,
   "id": "prompt-farmer",
   "metadata": {
    "execution": {
     "iopub.execute_input": "2021-08-19T01:48:59.896623Z",
     "iopub.status.busy": "2021-08-19T01:48:59.896143Z",
     "iopub.status.idle": "2021-08-19T01:48:59.899182Z",
     "shell.execute_reply": "2021-08-19T01:48:59.898795Z"
    },
    "papermill": {
     "duration": 0.016323,
     "end_time": "2021-08-19T01:48:59.899275",
     "exception": false,
     "start_time": "2021-08-19T01:48:59.882952",
     "status": "completed"
    },
    "tags": []
   },
   "outputs": [
    {
     "data": {
      "text/markdown": [
       "- Tron (TRX) Price Analysis: Holding Massive Support At $0.08.  Tron price started a fresh increase above the $0.0800 resistance against the US Dollar. TRX price is now trading near $0.0850 and the 55 simple moving average (4-hours). There is a major bullish trend line forming with support near $0.0815 on the 4-hours chart (data feed via Bitfinex). The pair is likely to continue higher...The post Tron (TRX) Price Analysis: Holding Massive Support At $0.08 appeared first on Live Bitcoin News. ... [| Skaityti daugiau](https://www.livebitcoinnews.com/tron-trx-price-analysis-holding-massive-support-at-0-08/) "
      ],
      "text/plain": [
       "<IPython.core.display.Markdown object>"
      ]
     },
     "execution_count": 6,
     "metadata": {},
     "output_type": "execute_result"
    }
   ],
   "source": [
    "#hide_input\n",
    "#md('##### {}'.format(titleBTC)) \n",
    "md(\"- {}{} {}{} [| Skaityti daugiau]({}) \".format(trx['title'],'. ', trx['body'], ' ...', trx['url']))"
   ]
  },
  {
   "cell_type": "code",
   "execution_count": 7,
   "id": "illegal-greece",
   "metadata": {
    "execution": {
     "iopub.execute_input": "2021-08-19T01:48:59.923367Z",
     "iopub.status.busy": "2021-08-19T01:48:59.922861Z",
     "iopub.status.idle": "2021-08-19T01:48:59.925885Z",
     "shell.execute_reply": "2021-08-19T01:48:59.925499Z"
    },
    "papermill": {
     "duration": 0.016562,
     "end_time": "2021-08-19T01:48:59.925978",
     "exception": false,
     "start_time": "2021-08-19T01:48:59.909416",
     "status": "completed"
    },
    "tags": []
   },
   "outputs": [
    {
     "data": {
      "text/markdown": [
       "- Dogecoin (DOGE) gets serious by bringing on Vitalik Buterin to its Foundation.  Dogecoin may have started out as a joke poking fun at an industry that takes itself way too seriously. The post Dogecoin (DOGE) gets serious by bringing on Vitalik Buterin to its Foundation appeared first on CryptoSlate. ... [| Skaityti daugiau](https://cryptoslate.com/dogecoin-doge-gets-serious-by-bringing-on-vitalik-buterin-to-its-foundation/) "
      ],
      "text/plain": [
       "<IPython.core.display.Markdown object>"
      ]
     },
     "execution_count": 7,
     "metadata": {},
     "output_type": "execute_result"
    }
   ],
   "source": [
    "#hide_input\n",
    "#md('##### {}'.format(titleBTC)) \n",
    "md(\"- {}{} {}{} [| Skaityti daugiau]({}) \".format(eth['title'],'. ', eth['body'], ' ...', eth['url']))"
   ]
  },
  {
   "cell_type": "code",
   "execution_count": 8,
   "id": "sublime-lounge",
   "metadata": {
    "execution": {
     "iopub.execute_input": "2021-08-19T01:48:59.950751Z",
     "iopub.status.busy": "2021-08-19T01:48:59.950270Z",
     "iopub.status.idle": "2021-08-19T01:48:59.952801Z",
     "shell.execute_reply": "2021-08-19T01:48:59.953279Z"
    },
    "papermill": {
     "duration": 0.017153,
     "end_time": "2021-08-19T01:48:59.953383",
     "exception": false,
     "start_time": "2021-08-19T01:48:59.936230",
     "status": "completed"
    },
    "tags": []
   },
   "outputs": [
    {
     "data": {
      "text/markdown": [
       "- Cardano’s Charles Hoskinson Wins $50,000 Bet on $ADA’s Smart Contracts Rollout.  Cardano founder Charles Hoskinson has won a $50,000 bet on whether the cryptocurrency’s network would roll out smart contracts before October 1, as the Alonzo hard fork is expected by next month. The price of Cardano has been surging over the last few months ahead of the implementation of smart contracts on its network. As […] ... [| Skaityti daugiau](https://www.cryptoglobe.com/latest/2021/08/cardanos-charles-hoskinson-wins-50000-bet-on-adas-smart-contracts-rollout/) "
      ],
      "text/plain": [
       "<IPython.core.display.Markdown object>"
      ]
     },
     "execution_count": 8,
     "metadata": {},
     "output_type": "execute_result"
    }
   ],
   "source": [
    "#hide_input\n",
    "#md('##### {}'.format(titleBTC)) \n",
    "md(\"- {}{} {}{} [| Skaityti daugiau]({}) \".format(ada['title'],'. ', ada['body'], ' ...', ada['url']))"
   ]
  },
  {
   "cell_type": "code",
   "execution_count": 9,
   "id": "specified-ordering",
   "metadata": {
    "execution": {
     "iopub.execute_input": "2021-08-19T01:48:59.978778Z",
     "iopub.status.busy": "2021-08-19T01:48:59.978299Z",
     "iopub.status.idle": "2021-08-19T01:48:59.980999Z",
     "shell.execute_reply": "2021-08-19T01:48:59.981371Z"
    },
    "papermill": {
     "duration": 0.017431,
     "end_time": "2021-08-19T01:48:59.981478",
     "exception": false,
     "start_time": "2021-08-19T01:48:59.964047",
     "status": "completed"
    },
    "tags": []
   },
   "outputs": [
    {
     "data": {
      "text/markdown": [
       "- Binance Hires Former IRS Investigator, Greg Monahan, Amid Regulation Woes.  Binance is currently the largest exchange in the world in terms of the daily trading volume. It is incorporated in the Cayman Islands and has an office in Singapore. It, however, claims not to have a corporate headquarters. Recently, the company has faced regulatory issues in several countries, including the U.S., Hong Kong, and Malaysia. [&#8230;] ... [| Skaityti daugiau](https://bitcoinist.com/binance-hires-former-irs-investigator-greg-monahan-amid-regulation-woes/?utm_source=rss&utm_medium=rss&utm_campaign=binance-hires-former-irs-investigator-greg-monahan-amid-regulation-woes) "
      ],
      "text/plain": [
       "<IPython.core.display.Markdown object>"
      ]
     },
     "execution_count": 9,
     "metadata": {},
     "output_type": "execute_result"
    }
   ],
   "source": [
    "#hide_input\n",
    "#md('##### {}'.format(titleBTC)) \n",
    "md(\"- {}{} {}{} [| Skaityti daugiau]({}) \".format(exchange['title'],'. ', exchange['body'], ' ...', exchange['url']))"
   ]
  },
  {
   "cell_type": "code",
   "execution_count": null,
   "id": "tender-livestock",
   "metadata": {
    "papermill": {
     "duration": 0.010924,
     "end_time": "2021-08-19T01:49:00.003366",
     "exception": false,
     "start_time": "2021-08-19T01:48:59.992442",
     "status": "completed"
    },
    "tags": []
   },
   "outputs": [],
   "source": []
  },
  {
   "cell_type": "code",
   "execution_count": null,
   "id": "appreciated-diamond",
   "metadata": {
    "papermill": {
     "duration": 0.011188,
     "end_time": "2021-08-19T01:49:00.025709",
     "exception": false,
     "start_time": "2021-08-19T01:49:00.014521",
     "status": "completed"
    },
    "tags": []
   },
   "outputs": [],
   "source": []
  },
  {
   "cell_type": "code",
   "execution_count": null,
   "id": "romance-sweden",
   "metadata": {
    "papermill": {
     "duration": 0.010878,
     "end_time": "2021-08-19T01:49:00.047939",
     "exception": false,
     "start_time": "2021-08-19T01:49:00.037061",
     "status": "completed"
    },
    "tags": []
   },
   "outputs": [],
   "source": []
  },
  {
   "cell_type": "code",
   "execution_count": null,
   "id": "dietary-statistics",
   "metadata": {
    "papermill": {
     "duration": 0.0109,
     "end_time": "2021-08-19T01:49:00.069796",
     "exception": false,
     "start_time": "2021-08-19T01:49:00.058896",
     "status": "completed"
    },
    "tags": []
   },
   "outputs": [],
   "source": []
  }
 ],
 "metadata": {
  "kernelspec": {
   "display_name": "Python 3",
   "language": "python",
   "name": "python3"
  },
  "language_info": {
   "codemirror_mode": {
    "name": "ipython",
    "version": 3
   },
   "file_extension": ".py",
   "mimetype": "text/x-python",
   "name": "python",
   "nbconvert_exporter": "python",
   "pygments_lexer": "ipython3",
   "version": "3.6.14"
  },
  "papermill": {
   "default_parameters": {},
   "duration": 11.72585,
   "end_time": "2021-08-19T01:49:00.488357",
   "environment_variables": {},
   "exception": null,
   "input_path": "Market-News.ipynb",
   "output_path": "Market-News.ipynb",
   "parameters": {},
   "start_time": "2021-08-19T01:48:48.762507",
   "version": "2.2.2"
  }
 },
 "nbformat": 4,
 "nbformat_minor": 5
}