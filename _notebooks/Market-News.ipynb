{
 "cells": [
  {
   "cell_type": "markdown",
   "id": "short-greensboro",
   "metadata": {
    "papermill": {
     "duration": 0.013144,
     "end_time": "2021-09-15T01:59:04.413131",
     "exception": false,
     "start_time": "2021-09-15T01:59:04.399987",
     "status": "completed"
    },
    "tags": []
   },
   "source": [
    "# Kriptovaliutų naujienos"
   ]
  },
  {
   "cell_type": "code",
   "execution_count": 1,
   "id": "functioning-knowing",
   "metadata": {
    "execution": {
     "iopub.execute_input": "2021-09-15T01:59:04.442287Z",
     "iopub.status.busy": "2021-09-15T01:59:04.441727Z",
     "iopub.status.idle": "2021-09-15T01:59:05.664278Z",
     "shell.execute_reply": "2021-09-15T01:59:05.663353Z"
    },
    "papermill": {
     "duration": 1.24152,
     "end_time": "2021-09-15T01:59:05.664461",
     "exception": false,
     "start_time": "2021-09-15T01:59:04.422941",
     "status": "completed"
    },
    "tags": []
   },
   "outputs": [],
   "source": [
    "#hide_input\n",
    "import warnings\n",
    "warnings.filterwarnings('ignore')\n",
    "from scripts.read_data import read_api\n",
    "from scripts.read_data import read_news\n",
    "from scripts.read_data import read_covid\n",
    "import matplotlib.pyplot as plt \n",
    "from IPython.display import Markdown as md"
   ]
  },
  {
   "cell_type": "code",
   "execution_count": 2,
   "id": "shared-acceptance",
   "metadata": {
    "execution": {
     "iopub.execute_input": "2021-09-15T01:59:05.690020Z",
     "iopub.status.busy": "2021-09-15T01:59:05.688981Z",
     "iopub.status.idle": "2021-09-15T01:59:14.013815Z",
     "shell.execute_reply": "2021-09-15T01:59:14.014230Z"
    },
    "papermill": {
     "duration": 8.340554,
     "end_time": "2021-09-15T01:59:14.014382",
     "exception": false,
     "start_time": "2021-09-15T01:59:05.673828",
     "status": "completed"
    },
    "tags": []
   },
   "outputs": [],
   "source": [
    "#hide_input\n",
    "blockchain = read_news('blockchain') \n",
    "btc = read_news('btc') \n",
    "xrp = read_news('xrp') \n",
    "trx = read_news('trx') \n",
    "eth = read_news('eth')  \n",
    "ada = read_news('ada')\n",
    "exchange = read_news('exchange') "
   ]
  },
  {
   "cell_type": "code",
   "execution_count": 3,
   "id": "synthetic-notion",
   "metadata": {
    "execution": {
     "iopub.execute_input": "2021-09-15T01:59:14.039587Z",
     "iopub.status.busy": "2021-09-15T01:59:14.039038Z",
     "iopub.status.idle": "2021-09-15T01:59:14.041287Z",
     "shell.execute_reply": "2021-09-15T01:59:14.041686Z"
    },
    "papermill": {
     "duration": 0.017875,
     "end_time": "2021-09-15T01:59:14.041819",
     "exception": false,
     "start_time": "2021-09-15T01:59:14.023944",
     "status": "completed"
    },
    "tags": []
   },
   "outputs": [
    {
     "data": {
      "text/markdown": [
       "- Google Partners With Dapper Labs Flow Blockchain.  Google isn&#8217;t known for being a primary leader in the next generation of Web 3.0, but perhaps news this week could spur change on that front. The tech giant announced a partnership with Top Shot and Flow blockchain creator Dapper Labs. The partnership will allow Google to assist in scaling the Flow blockchain for the [&#8230;] ... [| Skaityti daugiau](https://bitcoinist.com/google-partners-with-dapper-labs-flow-blockchain/?utm_source=rss&utm_medium=rss&utm_campaign=google-partners-with-dapper-labs-flow-blockchain) "
      ],
      "text/plain": [
       "<IPython.core.display.Markdown object>"
      ]
     },
     "execution_count": 3,
     "metadata": {},
     "output_type": "execute_result"
    }
   ],
   "source": [
    "#hide_input\n",
    "#md('##### {}'.format(titleBTC)) \n",
    "md(\"- {}{} {}{} [| Skaityti daugiau]({}) \".format(blockchain['title'],'. ', blockchain['body'], ' ...', blockchain['url']))"
   ]
  },
  {
   "cell_type": "code",
   "execution_count": 4,
   "id": "aging-caution",
   "metadata": {
    "execution": {
     "iopub.execute_input": "2021-09-15T01:59:14.065918Z",
     "iopub.status.busy": "2021-09-15T01:59:14.065396Z",
     "iopub.status.idle": "2021-09-15T01:59:14.068105Z",
     "shell.execute_reply": "2021-09-15T01:59:14.067601Z"
    },
    "papermill": {
     "duration": 0.017084,
     "end_time": "2021-09-15T01:59:14.068216",
     "exception": false,
     "start_time": "2021-09-15T01:59:14.051132",
     "status": "completed"
    },
    "tags": []
   },
   "outputs": [
    {
     "data": {
      "text/markdown": [
       "- For this billionaire, ‘there’d be another trillion dollars worth of buying into Bitcoin’ if….  While only a recent supporter of the cryptocurrency industry, billionaire investor Kevin O&#8217;Leary has never shied away from expressing his arguably strong opinions. Even as the Shark Tank star had previously ridiculed Bitcoin, he is now known to be a hodler who just didn&#8217;t want to irk regulators. He once again reiterated his regulatory compliant [&#8230;] ... [| Skaityti daugiau](https://ambcrypto.com/for-this-billionaire-thered-be-another-trillion-dollars-worth-of-buying-into-bitcoin-if/) "
      ],
      "text/plain": [
       "<IPython.core.display.Markdown object>"
      ]
     },
     "execution_count": 4,
     "metadata": {},
     "output_type": "execute_result"
    }
   ],
   "source": [
    "#hide_input\n",
    "#md('##### {}'.format(titleBTC)) \n",
    "md(\"- {}{} {}{} [| Skaityti daugiau]({}) \".format(btc['title'],'. ', btc['body'], ' ...', btc['url']))"
   ]
  },
  {
   "cell_type": "code",
   "execution_count": 5,
   "id": "organic-actress",
   "metadata": {
    "execution": {
     "iopub.execute_input": "2021-09-15T01:59:14.093174Z",
     "iopub.status.busy": "2021-09-15T01:59:14.092559Z",
     "iopub.status.idle": "2021-09-15T01:59:14.094715Z",
     "shell.execute_reply": "2021-09-15T01:59:14.095115Z"
    },
    "papermill": {
     "duration": 0.017409,
     "end_time": "2021-09-15T01:59:14.095244",
     "exception": false,
     "start_time": "2021-09-15T01:59:14.077835",
     "status": "completed"
    },
    "tags": []
   },
   "outputs": [
    {
     "data": {
      "text/markdown": [
       "- Is Coinbase About To Reinstated XRP On Its Platform?.  Rumors are circulating that Coinbase will soon reinstate XRP trading on its platform. Last Thursday, XRP was relisted on Coinbase Pro, with the XRP/USD, XRP/EUR, XRP/GBP, and XRP/BTC pairs available for trading. But this was soon cut short, with Coinbase saying this resulted from a &#8220;technical issue,&#8221; and XRP trading remains suspended. As previously announced, [&#8230;] ... [| Skaityti daugiau](https://bitcoinist.com/is-coinbase-about-to-reinstated-xrp-on-its-platform/?utm_source=rss&utm_medium=rss&utm_campaign=is-coinbase-about-to-reinstated-xrp-on-its-platform) "
      ],
      "text/plain": [
       "<IPython.core.display.Markdown object>"
      ]
     },
     "execution_count": 5,
     "metadata": {},
     "output_type": "execute_result"
    }
   ],
   "source": [
    "#hide_input\n",
    "#md('##### {}'.format(titleBTC)) \n",
    "md(\"- {}{} {}{} [| Skaityti daugiau]({}) \".format(xrp['title'],'. ', xrp['body'], ' ...', xrp['url']))"
   ]
  },
  {
   "cell_type": "code",
   "execution_count": 6,
   "id": "prompt-farmer",
   "metadata": {
    "execution": {
     "iopub.execute_input": "2021-09-15T01:59:14.120764Z",
     "iopub.status.busy": "2021-09-15T01:59:14.120151Z",
     "iopub.status.idle": "2021-09-15T01:59:14.122345Z",
     "shell.execute_reply": "2021-09-15T01:59:14.122873Z"
    },
    "papermill": {
     "duration": 0.017827,
     "end_time": "2021-09-15T01:59:14.123012",
     "exception": false,
     "start_time": "2021-09-15T01:59:14.105185",
     "status": "completed"
    },
    "tags": []
   },
   "outputs": [
    {
     "data": {
      "text/markdown": [
       "- Raining Cats and Cats in the Tron NFT Market.  The New NFT project appears on the raging market. Now targeting the Tron community. Tron Cool Cats , a new project supported by Palmar Labs, is a collection of 10K unique randomly generated NFTs, pouring in the Tron ecosystem. Another project shows up in the fast-growing NFT market. This time cats are taking the Tron ecosystem. Tron Cool Cats is a copycat (pun intended) of the popular Ethereum-based NFT project. Cool Cats is a collection of 10K randomly generated and stylistically curated NFTs on the Ethereum blockchain. Each randomly assembled cat from over 300K total options possesses a unique body, hat, face, and outfit that determine how cool it is in the ranking system. Ethereum Cool Cats NFTs quickly became the industry’s top collectibles this summer with the initial minting price for a cat being only 0.06 ETH. Today, the cheapest Cool Cat on the marketplace for crypto collectibles, OpenSea, has a floor price of 3.89 ETH or around $12,914.76. Now the cats are making their debut on Tron, another global blockchain-based market with its own cryptocurrency &#8211; TRX. And these kittens are something to look for. Just as the Ethereum-based cats, each and every Tron-powered Cool Cat is randomized and unique. Tron Cat NFTs feature a variety of expressions, outfits, accessories, and other traits &#8211; just like their successful ancestors. Even the number of cats in the collection mimics the original one &#8211; 10K. Yet the T... ... [| Skaityti daugiau](https://www.newsbtc.com/news/company/raining-cats-and-cats-in-the-tron-nft-market/) "
      ],
      "text/plain": [
       "<IPython.core.display.Markdown object>"
      ]
     },
     "execution_count": 6,
     "metadata": {},
     "output_type": "execute_result"
    }
   ],
   "source": [
    "#hide_input\n",
    "#md('##### {}'.format(titleBTC)) \n",
    "md(\"- {}{} {}{} [| Skaityti daugiau]({}) \".format(trx['title'],'. ', trx['body'], ' ...', trx['url']))"
   ]
  },
  {
   "cell_type": "code",
   "execution_count": 7,
   "id": "illegal-greece",
   "metadata": {
    "execution": {
     "iopub.execute_input": "2021-09-15T01:59:14.149281Z",
     "iopub.status.busy": "2021-09-15T01:59:14.148782Z",
     "iopub.status.idle": "2021-09-15T01:59:14.151817Z",
     "shell.execute_reply": "2021-09-15T01:59:14.151400Z"
    },
    "papermill": {
     "duration": 0.018243,
     "end_time": "2021-09-15T01:59:14.151930",
     "exception": false,
     "start_time": "2021-09-15T01:59:14.133687",
     "status": "completed"
    },
    "tags": []
   },
   "outputs": [
    {
     "data": {
      "text/markdown": [
       "- For this billionaire, ‘there’d be another trillion dollars worth of buying into Bitcoin’ if….  While only a recent supporter of the cryptocurrency industry, billionaire investor Kevin O&#8217;Leary has never shied away from expressing his arguably strong opinions. Even as the Shark Tank star had previously ridiculed Bitcoin, he is now known to be a hodler who just didn&#8217;t want to irk regulators. He once again reiterated his regulatory compliant [&#8230;] ... [| Skaityti daugiau](https://ambcrypto.com/for-this-billionaire-thered-be-another-trillion-dollars-worth-of-buying-into-bitcoin-if/) "
      ],
      "text/plain": [
       "<IPython.core.display.Markdown object>"
      ]
     },
     "execution_count": 7,
     "metadata": {},
     "output_type": "execute_result"
    }
   ],
   "source": [
    "#hide_input\n",
    "#md('##### {}'.format(titleBTC)) \n",
    "md(\"- {}{} {}{} [| Skaityti daugiau]({}) \".format(eth['title'],'. ', eth['body'], ' ...', eth['url']))"
   ]
  },
  {
   "cell_type": "code",
   "execution_count": 8,
   "id": "sublime-lounge",
   "metadata": {
    "execution": {
     "iopub.execute_input": "2021-09-15T01:59:14.178400Z",
     "iopub.status.busy": "2021-09-15T01:59:14.177879Z",
     "iopub.status.idle": "2021-09-15T01:59:14.180595Z",
     "shell.execute_reply": "2021-09-15T01:59:14.181003Z"
    },
    "papermill": {
     "duration": 0.01852,
     "end_time": "2021-09-15T01:59:14.181137",
     "exception": false,
     "start_time": "2021-09-15T01:59:14.162617",
     "status": "completed"
    },
    "tags": []
   },
   "outputs": [
    {
     "data": {
      "text/markdown": [
       "- As excitement tapers off, expect Cardano to cool off at previous lows.  The last couple of days have been interesting for Cardano. The platform successfully completed the Alonzo hard fork on Monday, after building much anticipation within the crypto community. Setting FUD and criticism aside, the sentiment has been upbeat throughout the past month. Investors have been awaiting a critical change that would allow Cardano to contest [&#8230;] ... [| Skaityti daugiau](https://ambcrypto.com/as-excitement-tapers-off-expect-cardano-to-cool-off-at-previous-lows/) "
      ],
      "text/plain": [
       "<IPython.core.display.Markdown object>"
      ]
     },
     "execution_count": 8,
     "metadata": {},
     "output_type": "execute_result"
    }
   ],
   "source": [
    "#hide_input\n",
    "#md('##### {}'.format(titleBTC)) \n",
    "md(\"- {}{} {}{} [| Skaityti daugiau]({}) \".format(ada['title'],'. ', ada['body'], ' ...', ada['url']))"
   ]
  },
  {
   "cell_type": "code",
   "execution_count": 9,
   "id": "specified-ordering",
   "metadata": {
    "execution": {
     "iopub.execute_input": "2021-09-15T01:59:14.208412Z",
     "iopub.status.busy": "2021-09-15T01:59:14.207872Z",
     "iopub.status.idle": "2021-09-15T01:59:14.210543Z",
     "shell.execute_reply": "2021-09-15T01:59:14.210040Z"
    },
    "papermill": {
     "duration": 0.018462,
     "end_time": "2021-09-15T01:59:14.210654",
     "exception": false,
     "start_time": "2021-09-15T01:59:14.192192",
     "status": "completed"
    },
    "tags": []
   },
   "outputs": [
    {
     "data": {
      "text/markdown": [
       "- Ark Invest’s Cathie Wood Doubles Down on $500K Bitcoin Prediction, Discusses Crypto Regulation.  Ark Investment Management CEO Cathie Wood expects the price of bitcoin to be more than $500,000 in five years&#x2019; time, which is over 10 times what it is today. She also shared her view on cryptocurrency regulation and Coinbase&#x2019;s trouble with the U.S. Securities and Exchange Commission (SEC). Cathie Wood&#x2019;s Ark Invest Predicts $500K Bitcoin [&#8230;] ... [| Skaityti daugiau](https://news.bitcoin.com/ark-invests-cathie-wood-500k-bitcoin-prediction-crypto-regulation/) "
      ],
      "text/plain": [
       "<IPython.core.display.Markdown object>"
      ]
     },
     "execution_count": 9,
     "metadata": {},
     "output_type": "execute_result"
    }
   ],
   "source": [
    "#hide_input\n",
    "#md('##### {}'.format(titleBTC)) \n",
    "md(\"- {}{} {}{} [| Skaityti daugiau]({}) \".format(exchange['title'],'. ', exchange['body'], ' ...', exchange['url']))"
   ]
  },
  {
   "cell_type": "code",
   "execution_count": null,
   "id": "tender-livestock",
   "metadata": {
    "papermill": {
     "duration": 0.01128,
     "end_time": "2021-09-15T01:59:14.233263",
     "exception": false,
     "start_time": "2021-09-15T01:59:14.221983",
     "status": "completed"
    },
    "tags": []
   },
   "outputs": [],
   "source": []
  },
  {
   "cell_type": "code",
   "execution_count": null,
   "id": "appreciated-diamond",
   "metadata": {
    "papermill": {
     "duration": 0.011305,
     "end_time": "2021-09-15T01:59:14.256004",
     "exception": false,
     "start_time": "2021-09-15T01:59:14.244699",
     "status": "completed"
    },
    "tags": []
   },
   "outputs": [],
   "source": []
  },
  {
   "cell_type": "code",
   "execution_count": null,
   "id": "romance-sweden",
   "metadata": {
    "papermill": {
     "duration": 0.011218,
     "end_time": "2021-09-15T01:59:14.278526",
     "exception": false,
     "start_time": "2021-09-15T01:59:14.267308",
     "status": "completed"
    },
    "tags": []
   },
   "outputs": [],
   "source": []
  },
  {
   "cell_type": "code",
   "execution_count": null,
   "id": "dietary-statistics",
   "metadata": {
    "papermill": {
     "duration": 0.011288,
     "end_time": "2021-09-15T01:59:14.301115",
     "exception": false,
     "start_time": "2021-09-15T01:59:14.289827",
     "status": "completed"
    },
    "tags": []
   },
   "outputs": [],
   "source": []
  }
 ],
 "metadata": {
  "kernelspec": {
   "display_name": "Python 3",
   "language": "python",
   "name": "python3"
  },
  "language_info": {
   "codemirror_mode": {
    "name": "ipython",
    "version": 3
   },
   "file_extension": ".py",
   "mimetype": "text/x-python",
   "name": "python",
   "nbconvert_exporter": "python",
   "pygments_lexer": "ipython3",
   "version": "3.6.14"
  },
  "papermill": {
   "default_parameters": {},
   "duration": 11.470009,
   "end_time": "2021-09-15T01:59:14.821621",
   "environment_variables": {},
   "exception": null,
   "input_path": "Market-News.ipynb",
   "output_path": "Market-News.ipynb",
   "parameters": {},
   "start_time": "2021-09-15T01:59:03.351612",
   "version": "2.2.2"
  }
 },
 "nbformat": 4,
 "nbformat_minor": 5
}