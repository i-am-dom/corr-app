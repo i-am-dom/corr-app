{
 "cells": [
  {
   "cell_type": "markdown",
   "id": "short-greensboro",
   "metadata": {
    "papermill": {
     "duration": 0.012876,
     "end_time": "2022-05-12T02:55:26.941479",
     "exception": false,
     "start_time": "2022-05-12T02:55:26.928603",
     "status": "completed"
    },
    "tags": []
   },
   "source": [
    "# Kriptovaliutų naujienos"
   ]
  },
  {
   "cell_type": "code",
   "execution_count": 1,
   "id": "functioning-knowing",
   "metadata": {
    "execution": {
     "iopub.execute_input": "2022-05-12T02:55:26.970875Z",
     "iopub.status.busy": "2022-05-12T02:55:26.970328Z",
     "iopub.status.idle": "2022-05-12T02:55:28.201609Z",
     "shell.execute_reply": "2022-05-12T02:55:28.201068Z"
    },
    "papermill": {
     "duration": 1.250523,
     "end_time": "2022-05-12T02:55:28.201766",
     "exception": false,
     "start_time": "2022-05-12T02:55:26.951243",
     "status": "completed"
    },
    "tags": []
   },
   "outputs": [],
   "source": [
    "#hide_input\n",
    "import warnings\n",
    "warnings.filterwarnings('ignore')\n",
    "from scripts.read_data import read_api\n",
    "from scripts.read_data import read_news\n",
    "from scripts.read_data import read_covid\n",
    "import matplotlib.pyplot as plt \n",
    "from IPython.display import Markdown as md"
   ]
  },
  {
   "cell_type": "code",
   "execution_count": 2,
   "id": "shared-acceptance",
   "metadata": {
    "execution": {
     "iopub.execute_input": "2022-05-12T02:55:28.226550Z",
     "iopub.status.busy": "2022-05-12T02:55:28.226043Z",
     "iopub.status.idle": "2022-05-12T02:55:40.523814Z",
     "shell.execute_reply": "2022-05-12T02:55:40.523314Z"
    },
    "papermill": {
     "duration": 12.312572,
     "end_time": "2022-05-12T02:55:40.523953",
     "exception": false,
     "start_time": "2022-05-12T02:55:28.211381",
     "status": "completed"
    },
    "tags": []
   },
   "outputs": [],
   "source": [
    "#hide_input\n",
    "blockchain = read_news('blockchain') \n",
    "btc = read_news('btc') \n",
    "xrp = read_news('xrp') \n",
    "trx = read_news('trx') \n",
    "eth = read_news('eth')  \n",
    "ada = read_news('ada')\n",
    "exchange = read_news('exchange') "
   ]
  },
  {
   "cell_type": "code",
   "execution_count": 3,
   "id": "synthetic-notion",
   "metadata": {
    "execution": {
     "iopub.execute_input": "2022-05-12T02:55:40.549022Z",
     "iopub.status.busy": "2022-05-12T02:55:40.548439Z",
     "iopub.status.idle": "2022-05-12T02:55:40.552825Z",
     "shell.execute_reply": "2022-05-12T02:55:40.552367Z"
    },
    "papermill": {
     "duration": 0.019675,
     "end_time": "2022-05-12T02:55:40.552945",
     "exception": false,
     "start_time": "2022-05-12T02:55:40.533270",
     "status": "completed"
    },
    "tags": []
   },
   "outputs": [
    {
     "data": {
      "text/markdown": [
       "- As Bitcoin Mining Difficulty Hits 5% ATH, Majority Of Miners Shift To Ethereum.  The mining difficulty for Bitcoin (BTC) has reached an all-time high, reducing the already diminishing profit margins of miners. The new development could be catastrophic for crypto miners. As it also appears that the price of BTC is declining, Bitcoin miners may be going into a storm. According to data from btc.com, a company that [&#8230;] ... [| Skaityti daugiau](https://bitcoinist.com/bitcoin-mining-difficulty-hits-5-ath/) "
      ],
      "text/plain": [
       "<IPython.core.display.Markdown object>"
      ]
     },
     "execution_count": 3,
     "metadata": {},
     "output_type": "execute_result"
    }
   ],
   "source": [
    "#hide_input\n",
    "#md('##### {}'.format(titleBTC)) \n",
    "md(\"- {}{} {}{} [| Skaityti daugiau]({}) \".format(blockchain['title'],'. ', blockchain['body'], ' ...', blockchain['url']))"
   ]
  },
  {
   "cell_type": "code",
   "execution_count": 4,
   "id": "aging-caution",
   "metadata": {
    "execution": {
     "iopub.execute_input": "2022-05-12T02:55:40.575964Z",
     "iopub.status.busy": "2022-05-12T02:55:40.575425Z",
     "iopub.status.idle": "2022-05-12T02:55:40.577736Z",
     "shell.execute_reply": "2022-05-12T02:55:40.578137Z"
    },
    "papermill": {
     "duration": 0.016046,
     "end_time": "2022-05-12T02:55:40.578249",
     "exception": false,
     "start_time": "2022-05-12T02:55:40.562203",
     "status": "completed"
    },
    "tags": []
   },
   "outputs": [
    {
     "data": {
      "text/markdown": [
       "- LUNA Not Alone In Crimson: APE, AVAX, SOL, SHIB All Lose 20% In Crypto Crash.  The crypto market has deep-dived to 11% in just 24 hours. It’s been in the hole or behind and most coins (led by LUNA) have been suffering major losses such as Avalanche, ApeCoin, Solana, and Shiba Inu, to name a few. So, what’s happening here? It’s like a ripple or domino effect that has hit one and is now derailing the rest of the cryptocurrencies. Not Just LUNA LUNA has lost 97% of its value following the major dip of UST stablecoin. The losses of other coins are not as massive as Terra but they have also suffered devastating double-digit losses over the 24-hour time frame. Suggested Reading &#124; Shiba Inu Vs. Dogecoin And LUNA: Which One Will Survive The Crypto Carnage? Altcoins In The Red Most altcoins are in the red at this time. It’s a major blow in the crypto space and people are trying to analyze their cards. Avalanche has plummeted to 34% or under $32 and it even crashed below $28 which is far worse than its slump in August 2021. More so, Solana is now down by 26% which has further dropped to around $52 as of this writing. Luna is the cryptocurrency of Terra. Following the collapse of USDT or the dollar stablecoin, Luna also suffered a massive slump at 97% or below $1. BTC total market cap at $550.71 billion on the daily chart &#124; Source: TradingView.com ADA of Cardano has also slid down by 16% or $0.56 displaying tremendous dips comparable to what transpired in February 2021. Additionally, Polkadot (DOT) has al... ... [| Skaityti daugiau](https://www.newsbtc.com/ape/terra-not-alone-in-crimson/) "
      ],
      "text/plain": [
       "<IPython.core.display.Markdown object>"
      ]
     },
     "execution_count": 4,
     "metadata": {},
     "output_type": "execute_result"
    }
   ],
   "source": [
    "#hide_input\n",
    "#md('##### {}'.format(titleBTC)) \n",
    "md(\"- {}{} {}{} [| Skaityti daugiau]({}) \".format(btc['title'],'. ', btc['body'], ' ...', btc['url']))"
   ]
  },
  {
   "cell_type": "code",
   "execution_count": 5,
   "id": "organic-actress",
   "metadata": {
    "execution": {
     "iopub.execute_input": "2022-05-12T02:55:40.601842Z",
     "iopub.status.busy": "2022-05-12T02:55:40.601338Z",
     "iopub.status.idle": "2022-05-12T02:55:40.604584Z",
     "shell.execute_reply": "2022-05-12T02:55:40.604186Z"
    },
    "papermill": {
     "duration": 0.0169,
     "end_time": "2022-05-12T02:55:40.604685",
     "exception": false,
     "start_time": "2022-05-12T02:55:40.587785",
     "status": "completed"
    },
    "tags": []
   },
   "outputs": [
    {
     "data": {
      "text/markdown": [
       "- LUNA Not Alone In Crimson: APE, AVAX, SOL, SHIB All Lose 20% In Crypto Crash.  The crypto market has deep-dived to 11% in just 24 hours. It’s been in the hole or behind and most coins (led by LUNA) have been suffering major losses such as Avalanche, ApeCoin, Solana, and Shiba Inu, to name a few. So, what’s happening here? It’s like a ripple or domino effect that has hit one and is now derailing the rest of the cryptocurrencies. Not Just LUNA LUNA has lost 97% of its value following the major dip of UST stablecoin. The losses of other coins are not as massive as Terra but they have also suffered devastating double-digit losses over the 24-hour time frame. Suggested Reading &#124; Shiba Inu Vs. Dogecoin And LUNA: Which One Will Survive The Crypto Carnage? Altcoins In The Red Most altcoins are in the red at this time. It’s a major blow in the crypto space and people are trying to analyze their cards. Avalanche has plummeted to 34% or under $32 and it even crashed below $28 which is far worse than its slump in August 2021. More so, Solana is now down by 26% which has further dropped to around $52 as of this writing. Luna is the cryptocurrency of Terra. Following the collapse of USDT or the dollar stablecoin, Luna also suffered a massive slump at 97% or below $1. BTC total market cap at $550.71 billion on the daily chart &#124; Source: TradingView.com ADA of Cardano has also slid down by 16% or $0.56 displaying tremendous dips comparable to what transpired in February 2021. Additionally, Polkadot (DOT) has al... ... [| Skaityti daugiau](https://www.newsbtc.com/ape/terra-not-alone-in-crimson/) "
      ],
      "text/plain": [
       "<IPython.core.display.Markdown object>"
      ]
     },
     "execution_count": 5,
     "metadata": {},
     "output_type": "execute_result"
    }
   ],
   "source": [
    "#hide_input\n",
    "#md('##### {}'.format(titleBTC)) \n",
    "md(\"- {}{} {}{} [| Skaityti daugiau]({}) \".format(xrp['title'],'. ', xrp['body'], ' ...', xrp['url']))"
   ]
  },
  {
   "cell_type": "code",
   "execution_count": 6,
   "id": "prompt-farmer",
   "metadata": {
    "execution": {
     "iopub.execute_input": "2022-05-12T02:55:40.628849Z",
     "iopub.status.busy": "2022-05-12T02:55:40.628347Z",
     "iopub.status.idle": "2022-05-12T02:55:40.631513Z",
     "shell.execute_reply": "2022-05-12T02:55:40.631109Z"
    },
    "papermill": {
     "duration": 0.017025,
     "end_time": "2022-05-12T02:55:40.631615",
     "exception": false,
     "start_time": "2022-05-12T02:55:40.614590",
     "status": "completed"
    },
    "tags": []
   },
   "outputs": [
    {
     "data": {
      "text/markdown": [
       "- After Terra, Is Tron Next? TRX Short Interest Skyrockets.  Tron Founder Justin Sun said he will deploy a $2 billion reserve to protect TRX against heightened short interest. As the Cryptocurrency bloodbath intensifies many crypto leaders are announcing plans and strategies to counter it. Terra founder Do Kwon recently announced plans to revitalize the UST stablecoin, but prices crashed regardless. Will USDD mirror UST&#8217;s The post After Terra, Is Tron Next? TRX Short Interest Skyrockets appeared first on CoinGape. ... [| Skaityti daugiau](https://coingape.com/after-terra-is-tron-next-trx-short-interest-skyrockets/) "
      ],
      "text/plain": [
       "<IPython.core.display.Markdown object>"
      ]
     },
     "execution_count": 6,
     "metadata": {},
     "output_type": "execute_result"
    }
   ],
   "source": [
    "#hide_input\n",
    "#md('##### {}'.format(titleBTC)) \n",
    "md(\"- {}{} {}{} [| Skaityti daugiau]({}) \".format(trx['title'],'. ', trx['body'], ' ...', trx['url']))"
   ]
  },
  {
   "cell_type": "code",
   "execution_count": 7,
   "id": "illegal-greece",
   "metadata": {
    "execution": {
     "iopub.execute_input": "2022-05-12T02:55:40.656586Z",
     "iopub.status.busy": "2022-05-12T02:55:40.656080Z",
     "iopub.status.idle": "2022-05-12T02:55:40.659110Z",
     "shell.execute_reply": "2022-05-12T02:55:40.658687Z"
    },
    "papermill": {
     "duration": 0.017194,
     "end_time": "2022-05-12T02:55:40.659206",
     "exception": false,
     "start_time": "2022-05-12T02:55:40.642012",
     "status": "completed"
    },
    "tags": []
   },
   "outputs": [
    {
     "data": {
      "text/markdown": [
       "- Institutional Investors Are Betting on Bitcoin ($BTC) and Solana ($SOL) Amid Crypto Market Downtrend, Data Shows.  Institutional investors are betting on the flagship cryptocurrency Bitcoin ($BTC) and on Ethereum rival Solana ($SOL) amid a cryptocurrency market downturn marked by the collapse of Terra’s $LUNA and its UST stablecoin. According to a new report from CoinShares, BTC investment products have seen $45 million in inflows over the last week, as assets under […] ... [| Skaityti daugiau](https://www.cryptoglobe.com/latest/2022/05/institutional-investors-are-betting-on-bitcoin-btc-and-solana-sol-amid-crypto-market-downtrend-data-shows/) "
      ],
      "text/plain": [
       "<IPython.core.display.Markdown object>"
      ]
     },
     "execution_count": 7,
     "metadata": {},
     "output_type": "execute_result"
    }
   ],
   "source": [
    "#hide_input\n",
    "#md('##### {}'.format(titleBTC)) \n",
    "md(\"- {}{} {}{} [| Skaityti daugiau]({}) \".format(eth['title'],'. ', eth['body'], ' ...', eth['url']))"
   ]
  },
  {
   "cell_type": "code",
   "execution_count": 8,
   "id": "sublime-lounge",
   "metadata": {
    "execution": {
     "iopub.execute_input": "2022-05-12T02:55:40.684706Z",
     "iopub.status.busy": "2022-05-12T02:55:40.684210Z",
     "iopub.status.idle": "2022-05-12T02:55:40.687393Z",
     "shell.execute_reply": "2022-05-12T02:55:40.686993Z"
    },
    "papermill": {
     "duration": 0.017774,
     "end_time": "2022-05-12T02:55:40.687494",
     "exception": false,
     "start_time": "2022-05-12T02:55:40.669720",
     "status": "completed"
    },
    "tags": []
   },
   "outputs": [
    {
     "data": {
      "text/markdown": [
       "- LUNA Not Alone In Crimson: APE, AVAX, SOL, SHIB All Lose 20% In Crypto Crash.  The crypto market has deep-dived to 11% in just 24 hours. It’s been in the hole or behind and most coins (led by LUNA) have been suffering major losses such as Avalanche, ApeCoin, Solana, and Shiba Inu, to name a few. So, what’s happening here? It’s like a ripple or domino effect that has hit one and is now derailing the rest of the cryptocurrencies. Not Just LUNA LUNA has lost 97% of its value following the major dip of UST stablecoin. The losses of other coins are not as massive as Terra but they have also suffered devastating double-digit losses over the 24-hour time frame. Suggested Reading &#124; Shiba Inu Vs. Dogecoin And LUNA: Which One Will Survive The Crypto Carnage? Altcoins In The Red Most altcoins are in the red at this time. It’s a major blow in the crypto space and people are trying to analyze their cards. Avalanche has plummeted to 34% or under $32 and it even crashed below $28 which is far worse than its slump in August 2021. More so, Solana is now down by 26% which has further dropped to around $52 as of this writing. Luna is the cryptocurrency of Terra. Following the collapse of USDT or the dollar stablecoin, Luna also suffered a massive slump at 97% or below $1. BTC total market cap at $550.71 billion on the daily chart &#124; Source: TradingView.com ADA of Cardano has also slid down by 16% or $0.56 displaying tremendous dips comparable to what transpired in February 2021. Additionally, Polkadot (DOT) has al... ... [| Skaityti daugiau](https://www.newsbtc.com/ape/terra-not-alone-in-crimson/) "
      ],
      "text/plain": [
       "<IPython.core.display.Markdown object>"
      ]
     },
     "execution_count": 8,
     "metadata": {},
     "output_type": "execute_result"
    }
   ],
   "source": [
    "#hide_input\n",
    "#md('##### {}'.format(titleBTC)) \n",
    "md(\"- {}{} {}{} [| Skaityti daugiau]({}) \".format(ada['title'],'. ', ada['body'], ' ...', ada['url']))"
   ]
  },
  {
   "cell_type": "code",
   "execution_count": 9,
   "id": "specified-ordering",
   "metadata": {
    "execution": {
     "iopub.execute_input": "2022-05-12T02:55:40.713868Z",
     "iopub.status.busy": "2022-05-12T02:55:40.712862Z",
     "iopub.status.idle": "2022-05-12T02:55:40.716829Z",
     "shell.execute_reply": "2022-05-12T02:55:40.716402Z"
    },
    "papermill": {
     "duration": 0.018523,
     "end_time": "2022-05-12T02:55:40.716930",
     "exception": false,
     "start_time": "2022-05-12T02:55:40.698407",
     "status": "completed"
    },
    "tags": []
   },
   "outputs": [
    {
     "data": {
      "text/markdown": [
       "- Reminder: Withdraw Your Bitcoin Off Exchanges.  Needless to say, as it stands today and has stood since the first bitcoin exchange was launched, your bitcoin is not safe on the exchanges. ... [| Skaityti daugiau](https://bitcoinmagazine.com/culture/reminder-withdraw-your-bitcoin-off-exchanges) "
      ],
      "text/plain": [
       "<IPython.core.display.Markdown object>"
      ]
     },
     "execution_count": 9,
     "metadata": {},
     "output_type": "execute_result"
    }
   ],
   "source": [
    "#hide_input\n",
    "#md('##### {}'.format(titleBTC)) \n",
    "md(\"- {}{} {}{} [| Skaityti daugiau]({}) \".format(exchange['title'],'. ', exchange['body'], ' ...', exchange['url']))"
   ]
  },
  {
   "cell_type": "code",
   "execution_count": null,
   "id": "tender-livestock",
   "metadata": {
    "papermill": {
     "duration": 0.01122,
     "end_time": "2022-05-12T02:55:40.739388",
     "exception": false,
     "start_time": "2022-05-12T02:55:40.728168",
     "status": "completed"
    },
    "tags": []
   },
   "outputs": [],
   "source": []
  },
  {
   "cell_type": "code",
   "execution_count": null,
   "id": "appreciated-diamond",
   "metadata": {
    "papermill": {
     "duration": 0.011216,
     "end_time": "2022-05-12T02:55:40.761946",
     "exception": false,
     "start_time": "2022-05-12T02:55:40.750730",
     "status": "completed"
    },
    "tags": []
   },
   "outputs": [],
   "source": []
  },
  {
   "cell_type": "code",
   "execution_count": null,
   "id": "romance-sweden",
   "metadata": {
    "papermill": {
     "duration": 0.011109,
     "end_time": "2022-05-12T02:55:40.785292",
     "exception": false,
     "start_time": "2022-05-12T02:55:40.774183",
     "status": "completed"
    },
    "tags": []
   },
   "outputs": [],
   "source": []
  },
  {
   "cell_type": "code",
   "execution_count": null,
   "id": "dietary-statistics",
   "metadata": {
    "papermill": {
     "duration": 0.011056,
     "end_time": "2022-05-12T02:55:40.807487",
     "exception": false,
     "start_time": "2022-05-12T02:55:40.796431",
     "status": "completed"
    },
    "tags": []
   },
   "outputs": [],
   "source": []
  }
 ],
 "metadata": {
  "kernelspec": {
   "display_name": "Python 3",
   "language": "python",
   "name": "python3"
  },
  "language_info": {
   "codemirror_mode": {
    "name": "ipython",
    "version": 3
   },
   "file_extension": ".py",
   "mimetype": "text/x-python",
   "name": "python",
   "nbconvert_exporter": "python",
   "pygments_lexer": "ipython3",
   "version": "3.6.15"
  },
  "papermill": {
   "default_parameters": {},
   "duration": 15.332348,
   "end_time": "2022-05-12T02:55:41.338147",
   "environment_variables": {},
   "exception": null,
   "input_path": "Market-News.ipynb",
   "output_path": "Market-News.ipynb",
   "parameters": {},
   "start_time": "2022-05-12T02:55:26.005799",
   "version": "2.2.2"
  }
 },
 "nbformat": 4,
 "nbformat_minor": 5
}