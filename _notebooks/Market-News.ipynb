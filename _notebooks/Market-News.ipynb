{
 "cells": [
  {
   "cell_type": "markdown",
   "id": "short-greensboro",
   "metadata": {
    "papermill": {
     "duration": 0.012944,
     "end_time": "2022-07-16T03:04:53.393731",
     "exception": false,
     "start_time": "2022-07-16T03:04:53.380787",
     "status": "completed"
    },
    "tags": []
   },
   "source": [
    "# Kriptovaliutų naujienos"
   ]
  },
  {
   "cell_type": "code",
   "execution_count": 1,
   "id": "functioning-knowing",
   "metadata": {
    "execution": {
     "iopub.execute_input": "2022-07-16T03:04:53.422560Z",
     "iopub.status.busy": "2022-07-16T03:04:53.420363Z",
     "iopub.status.idle": "2022-07-16T03:04:54.558696Z",
     "shell.execute_reply": "2022-07-16T03:04:54.558210Z"
    },
    "papermill": {
     "duration": 1.155141,
     "end_time": "2022-07-16T03:04:54.558822",
     "exception": false,
     "start_time": "2022-07-16T03:04:53.403681",
     "status": "completed"
    },
    "tags": []
   },
   "outputs": [],
   "source": [
    "#hide_input\n",
    "import warnings\n",
    "warnings.filterwarnings('ignore')\n",
    "from scripts.read_data import read_api\n",
    "from scripts.read_data import read_news\n",
    "from scripts.read_data import read_covid\n",
    "import matplotlib.pyplot as plt \n",
    "from IPython.display import Markdown as md"
   ]
  },
  {
   "cell_type": "code",
   "execution_count": 2,
   "id": "shared-acceptance",
   "metadata": {
    "execution": {
     "iopub.execute_input": "2022-07-16T03:04:54.583484Z",
     "iopub.status.busy": "2022-07-16T03:04:54.582895Z",
     "iopub.status.idle": "2022-07-16T03:05:09.143436Z",
     "shell.execute_reply": "2022-07-16T03:05:09.142480Z"
    },
    "papermill": {
     "duration": 14.575262,
     "end_time": "2022-07-16T03:05:09.143566",
     "exception": false,
     "start_time": "2022-07-16T03:04:54.568304",
     "status": "completed"
    },
    "tags": []
   },
   "outputs": [],
   "source": [
    "#hide_input\n",
    "blockchain = read_news('blockchain') \n",
    "btc = read_news('btc') \n",
    "xrp = read_news('xrp') \n",
    "trx = read_news('trx') \n",
    "eth = read_news('eth')  \n",
    "ada = read_news('ada')\n",
    "exchange = read_news('exchange') "
   ]
  },
  {
   "cell_type": "code",
   "execution_count": 3,
   "id": "synthetic-notion",
   "metadata": {
    "execution": {
     "iopub.execute_input": "2022-07-16T03:05:09.168716Z",
     "iopub.status.busy": "2022-07-16T03:05:09.168117Z",
     "iopub.status.idle": "2022-07-16T03:05:09.172389Z",
     "shell.execute_reply": "2022-07-16T03:05:09.171936Z"
    },
    "papermill": {
     "duration": 0.019491,
     "end_time": "2022-07-16T03:05:09.172489",
     "exception": false,
     "start_time": "2022-07-16T03:05:09.152998",
     "status": "completed"
    },
    "tags": []
   },
   "outputs": [
    {
     "data": {
      "text/markdown": [
       "- Layer One Blockchain Startup 5ire Raised $100 Million, Joins Unicorn Club.  Level One blockchain network, 5ire, has joined the unicorn club after raising $100 million at a valuation of $1.5 billion in Series A round. It received the funding from UK-based conglomerate SRAM &#38; MRAM Group which made 5ire India&#8217;s 105th unicorn. 5ire which is a blockchain company that was founded in August last year, is [&#8230;] ... [| Skaityti daugiau](https://bitcoinist.com/layer-one-blockchain-startup/) "
      ],
      "text/plain": [
       "<IPython.core.display.Markdown object>"
      ]
     },
     "execution_count": 3,
     "metadata": {},
     "output_type": "execute_result"
    }
   ],
   "source": [
    "#hide_input\n",
    "#md('##### {}'.format(titleBTC)) \n",
    "md(\"- {}{} {}{} [| Skaityti daugiau]({}) \".format(blockchain['title'],'. ', blockchain['body'], ' ...', blockchain['url']))"
   ]
  },
  {
   "cell_type": "code",
   "execution_count": 4,
   "id": "aging-caution",
   "metadata": {
    "execution": {
     "iopub.execute_input": "2022-07-16T03:05:09.197206Z",
     "iopub.status.busy": "2022-07-16T03:05:09.196216Z",
     "iopub.status.idle": "2022-07-16T03:05:09.198919Z",
     "shell.execute_reply": "2022-07-16T03:05:09.199326Z"
    },
    "papermill": {
     "duration": 0.017466,
     "end_time": "2022-07-16T03:05:09.199452",
     "exception": false,
     "start_time": "2022-07-16T03:05:09.181986",
     "status": "completed"
    },
    "tags": []
   },
   "outputs": [
    {
     "data": {
      "text/markdown": [
       "- Multisignature For The Nontechnical Bitcoiner.  Using a managed multisignature solution is a way for the less technical Bitcoin users to protect themselves from centralized, third-party security holes. ... [| Skaityti daugiau](https://bitcoinmagazine.com/culture/multisignature-for-the-nontechnical-bitcoiner) "
      ],
      "text/plain": [
       "<IPython.core.display.Markdown object>"
      ]
     },
     "execution_count": 4,
     "metadata": {},
     "output_type": "execute_result"
    }
   ],
   "source": [
    "#hide_input\n",
    "#md('##### {}'.format(titleBTC)) \n",
    "md(\"- {}{} {}{} [| Skaityti daugiau]({}) \".format(btc['title'],'. ', btc['body'], ' ...', btc['url']))"
   ]
  },
  {
   "cell_type": "code",
   "execution_count": 5,
   "id": "organic-actress",
   "metadata": {
    "execution": {
     "iopub.execute_input": "2022-07-16T03:05:09.223047Z",
     "iopub.status.busy": "2022-07-16T03:05:09.221769Z",
     "iopub.status.idle": "2022-07-16T03:05:09.225995Z",
     "shell.execute_reply": "2022-07-16T03:05:09.225565Z"
    },
    "papermill": {
     "duration": 0.016855,
     "end_time": "2022-07-16T03:05:09.226092",
     "exception": false,
     "start_time": "2022-07-16T03:05:09.209237",
     "status": "completed"
    },
    "tags": []
   },
   "outputs": [
    {
     "data": {
      "text/markdown": [
       "- While The Crypto Space Awaits Ripple vs SEC Settlement, XRP Lawyer Has His Claim.  The post While The Crypto Space Awaits Ripple vs SEC Settlement, XRP Lawyer Has His Claim appeared first on Coinpedia - Fintech &amp; Cryptocurreny News Media| Crypto GuideThe long-time battle between Ripple and SEC is just a few days away from summary judgment. Everyone in the crypto space are eagerly waiting to see that the lawsuit finds an end. As per Crypto-Law.US founder, John Deaton, the crypto community is of the opinion that the Ripple will not settle anytime soon. I see &#8230; ... [| Skaityti daugiau](https://coinpedia.org/news/while-the-crypto-space-awaits-ripple-vs-sec-settlement-xrp-lawyer-has-his-claim/) "
      ],
      "text/plain": [
       "<IPython.core.display.Markdown object>"
      ]
     },
     "execution_count": 5,
     "metadata": {},
     "output_type": "execute_result"
    }
   ],
   "source": [
    "#hide_input\n",
    "#md('##### {}'.format(titleBTC)) \n",
    "md(\"- {}{} {}{} [| Skaityti daugiau]({}) \".format(xrp['title'],'. ', xrp['body'], ' ...', xrp['url']))"
   ]
  },
  {
   "cell_type": "code",
   "execution_count": 6,
   "id": "prompt-farmer",
   "metadata": {
    "execution": {
     "iopub.execute_input": "2022-07-16T03:05:09.250335Z",
     "iopub.status.busy": "2022-07-16T03:05:09.249772Z",
     "iopub.status.idle": "2022-07-16T03:05:09.252673Z",
     "shell.execute_reply": "2022-07-16T03:05:09.253078Z"
    },
    "papermill": {
     "duration": 0.017002,
     "end_time": "2022-07-16T03:05:09.253186",
     "exception": false,
     "start_time": "2022-07-16T03:05:09.236184",
     "status": "completed"
    },
    "tags": []
   },
   "outputs": [
    {
     "data": {
      "text/markdown": [
       "- Buying TRON in $0.062 area to sell it at this level could be profitable.  Disclaimer: The information presented does not constitute financial, investment, trading, or other types of advice and is solely the writer&#8217;s opinion. TRON [TRX] has defied the broader market trend on certain occasions in the past four months. For example, when most of the altcoins began to fall in early April, TRX actually rallied from $0.058 [&#8230;] ... [| Skaityti daugiau](https://ambcrypto.com/buying-tron-in-0-062-area-to-sell-it-at-this-level-could-be-profitable/) "
      ],
      "text/plain": [
       "<IPython.core.display.Markdown object>"
      ]
     },
     "execution_count": 6,
     "metadata": {},
     "output_type": "execute_result"
    }
   ],
   "source": [
    "#hide_input\n",
    "#md('##### {}'.format(titleBTC)) \n",
    "md(\"- {}{} {}{} [| Skaityti daugiau]({}) \".format(trx['title'],'. ', trx['body'], ' ...', trx['url']))"
   ]
  },
  {
   "cell_type": "code",
   "execution_count": 7,
   "id": "illegal-greece",
   "metadata": {
    "execution": {
     "iopub.execute_input": "2022-07-16T03:05:09.279464Z",
     "iopub.status.busy": "2022-07-16T03:05:09.278866Z",
     "iopub.status.idle": "2022-07-16T03:05:09.281514Z",
     "shell.execute_reply": "2022-07-16T03:05:09.281914Z"
    },
    "papermill": {
     "duration": 0.018321,
     "end_time": "2022-07-16T03:05:09.282022",
     "exception": false,
     "start_time": "2022-07-16T03:05:09.263701",
     "status": "completed"
    },
    "tags": []
   },
   "outputs": [
    {
     "data": {
      "text/markdown": [
       "- Wolf of Wall Street Says Bitcoin Investors Will ‘Almost Certainly Profit,’ But What’s His Bitcoin Track Record Like?.  Jordan Belfort, the former stockbroker better known as 'The Wolf of Wall Street,' argued that investors who buy bitcoin (BTC) now will “almost certainly” profit. However, this is not the first time Belfort commented about bitcoin and its future - admitting that he has changed his mind about the coin - and his track record has so far been mixed....Read More: Wolf of Wall Street Says Bitcoin Investors Will ‘Almost Certainly Profit,’ But What’s His Bitcoin Track Record Like? ... [| Skaityti daugiau](https://cryptonews.com/news/wolf-of-wall-street-says-bitcoin-investors-will-almost-certainly-profit-but-whats-his-bitcoin-track-record-like.htm) "
      ],
      "text/plain": [
       "<IPython.core.display.Markdown object>"
      ]
     },
     "execution_count": 7,
     "metadata": {},
     "output_type": "execute_result"
    }
   ],
   "source": [
    "#hide_input\n",
    "#md('##### {}'.format(titleBTC)) \n",
    "md(\"- {}{} {}{} [| Skaityti daugiau]({}) \".format(eth['title'],'. ', eth['body'], ' ...', eth['url']))"
   ]
  },
  {
   "cell_type": "code",
   "execution_count": 8,
   "id": "sublime-lounge",
   "metadata": {
    "execution": {
     "iopub.execute_input": "2022-07-16T03:05:09.308942Z",
     "iopub.status.busy": "2022-07-16T03:05:09.307952Z",
     "iopub.status.idle": "2022-07-16T03:05:09.310756Z",
     "shell.execute_reply": "2022-07-16T03:05:09.311174Z"
    },
    "papermill": {
     "duration": 0.018541,
     "end_time": "2022-07-16T03:05:09.311278",
     "exception": false,
     "start_time": "2022-07-16T03:05:09.292737",
     "status": "completed"
    },
    "tags": []
   },
   "outputs": [
    {
     "data": {
      "text/markdown": [
       "- Expert Panel Sees Cardano ($ADA) Surge to $2.93 by 2025.  A panel of cryptocurrency industry experts has predicted that the price of Cardano ($ADA) will explode to $2.93 by 2025, and to $6.53 by 2030, although experts believe that by the end of the year, the cryptocurrency will trade at just $0.63. At the time of writing, the cryptocurrency is trading at $0.43, according to […] ... [| Skaityti daugiau](https://www.cryptoglobe.com/latest/2022/07/expert-panel-sees-cardano-ada-surge-to-2-93-by-2025/) "
      ],
      "text/plain": [
       "<IPython.core.display.Markdown object>"
      ]
     },
     "execution_count": 8,
     "metadata": {},
     "output_type": "execute_result"
    }
   ],
   "source": [
    "#hide_input\n",
    "#md('##### {}'.format(titleBTC)) \n",
    "md(\"- {}{} {}{} [| Skaityti daugiau]({}) \".format(ada['title'],'. ', ada['body'], ' ...', ada['url']))"
   ]
  },
  {
   "cell_type": "code",
   "execution_count": 9,
   "id": "specified-ordering",
   "metadata": {
    "execution": {
     "iopub.execute_input": "2022-07-16T03:05:09.338823Z",
     "iopub.status.busy": "2022-07-16T03:05:09.338013Z",
     "iopub.status.idle": "2022-07-16T03:05:09.340800Z",
     "shell.execute_reply": "2022-07-16T03:05:09.341216Z"
    },
    "papermill": {
     "duration": 0.018898,
     "end_time": "2022-07-16T03:05:09.341320",
     "exception": false,
     "start_time": "2022-07-16T03:05:09.322422",
     "status": "completed"
    },
    "tags": []
   },
   "outputs": [
    {
     "data": {
      "text/markdown": [
       "- Bitcoin Miners Send 14K BTC To One Block. Bullish News For The Market?.  After the official US inflation numbers were released, bitcoin prices started to rise. However, during the previous month, the BTC miners have increased their outflow. A new set of tax policies targeted at preventing domestic cryptocurrency mining were unveiled by Kazakhstan, which is still a significant nation in the world of Bitcoin mining. During a halt in worldwide activity and fire sales connected to recent bankruptcy-related news, prices for Bitcoin mining rigs are also said to have fallen to epidemic lows for 2020. Most significantly, Texas power grid operators have asked all Bitcoin miners to cease operations in order to lessen the strain on a power grid that is already overloaded. Bitcoin Miners Inflow Reach New ATH IT Tech reports that Bitcoin miners transferred over 14,000 BTC to an exchange in a single block. The transfer from the miner wallet to the exchange was noted as being unfavorable for the market. According to their definition of mining pool wallets in their stats, all pool members—including the specific miner—are included. One user did point out that those Bitcoin were not reflected in the spot market or derivatives, though. Glassnode reported that the BTC Miners&#8217; Netflow Volume on a 7-day moving average (MA) basis hit an all-time high (ATH) of $1,779,953. In the first week of January 2022, an ATH of $1,700,940 was registered. This outflow did not stop on the exchange wallet, according to Ki Young Ju... ... [| Skaityti daugiau](https://www.newsbtc.com/news/bitcoin/bitcoin-miners-send-14k-btc-to-one-block-bullish-news-for-the-market/) "
      ],
      "text/plain": [
       "<IPython.core.display.Markdown object>"
      ]
     },
     "execution_count": 9,
     "metadata": {},
     "output_type": "execute_result"
    }
   ],
   "source": [
    "#hide_input\n",
    "#md('##### {}'.format(titleBTC)) \n",
    "md(\"- {}{} {}{} [| Skaityti daugiau]({}) \".format(exchange['title'],'. ', exchange['body'], ' ...', exchange['url']))"
   ]
  },
  {
   "cell_type": "code",
   "execution_count": null,
   "id": "tender-livestock",
   "metadata": {
    "papermill": {
     "duration": 0.011354,
     "end_time": "2022-07-16T03:05:09.364171",
     "exception": false,
     "start_time": "2022-07-16T03:05:09.352817",
     "status": "completed"
    },
    "tags": []
   },
   "outputs": [],
   "source": []
  },
  {
   "cell_type": "code",
   "execution_count": null,
   "id": "appreciated-diamond",
   "metadata": {
    "papermill": {
     "duration": 0.011408,
     "end_time": "2022-07-16T03:05:09.387120",
     "exception": false,
     "start_time": "2022-07-16T03:05:09.375712",
     "status": "completed"
    },
    "tags": []
   },
   "outputs": [],
   "source": []
  },
  {
   "cell_type": "code",
   "execution_count": null,
   "id": "romance-sweden",
   "metadata": {
    "papermill": {
     "duration": 0.011383,
     "end_time": "2022-07-16T03:05:09.410160",
     "exception": false,
     "start_time": "2022-07-16T03:05:09.398777",
     "status": "completed"
    },
    "tags": []
   },
   "outputs": [],
   "source": []
  },
  {
   "cell_type": "code",
   "execution_count": null,
   "id": "dietary-statistics",
   "metadata": {
    "papermill": {
     "duration": 0.011388,
     "end_time": "2022-07-16T03:05:09.432969",
     "exception": false,
     "start_time": "2022-07-16T03:05:09.421581",
     "status": "completed"
    },
    "tags": []
   },
   "outputs": [],
   "source": []
  }
 ],
 "metadata": {
  "kernelspec": {
   "display_name": "Python 3",
   "language": "python",
   "name": "python3"
  },
  "language_info": {
   "codemirror_mode": {
    "name": "ipython",
    "version": 3
   },
   "file_extension": ".py",
   "mimetype": "text/x-python",
   "name": "python",
   "nbconvert_exporter": "python",
   "pygments_lexer": "ipython3",
   "version": "3.6.15"
  },
  "papermill": {
   "default_parameters": {},
   "duration": 17.283067,
   "end_time": "2022-07-16T03:05:09.761959",
   "environment_variables": {},
   "exception": null,
   "input_path": "Market-News.ipynb",
   "output_path": "Market-News.ipynb",
   "parameters": {},
   "start_time": "2022-07-16T03:04:52.478892",
   "version": "2.2.2"
  }
 },
 "nbformat": 4,
 "nbformat_minor": 5
}