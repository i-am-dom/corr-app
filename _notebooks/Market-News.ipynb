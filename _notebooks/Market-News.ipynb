{
 "cells": [
  {
   "cell_type": "markdown",
   "id": "short-greensboro",
   "metadata": {
    "papermill": {
     "duration": 0.014115,
     "end_time": "2022-01-24T02:05:41.670842",
     "exception": false,
     "start_time": "2022-01-24T02:05:41.656727",
     "status": "completed"
    },
    "tags": []
   },
   "source": [
    "# Kriptovaliutų naujienos"
   ]
  },
  {
   "cell_type": "code",
   "execution_count": 1,
   "id": "functioning-knowing",
   "metadata": {
    "execution": {
     "iopub.execute_input": "2022-01-24T02:05:41.708071Z",
     "iopub.status.busy": "2022-01-24T02:05:41.707030Z",
     "iopub.status.idle": "2022-01-24T02:05:43.209135Z",
     "shell.execute_reply": "2022-01-24T02:05:43.209763Z"
    },
    "papermill": {
     "duration": 1.525654,
     "end_time": "2022-01-24T02:05:43.209967",
     "exception": false,
     "start_time": "2022-01-24T02:05:41.684313",
     "status": "completed"
    },
    "tags": []
   },
   "outputs": [],
   "source": [
    "#hide_input\n",
    "import warnings\n",
    "warnings.filterwarnings('ignore')\n",
    "from scripts.read_data import read_api\n",
    "from scripts.read_data import read_news\n",
    "from scripts.read_data import read_covid\n",
    "import matplotlib.pyplot as plt \n",
    "from IPython.display import Markdown as md"
   ]
  },
  {
   "cell_type": "code",
   "execution_count": 2,
   "id": "shared-acceptance",
   "metadata": {
    "execution": {
     "iopub.execute_input": "2022-01-24T02:05:43.239291Z",
     "iopub.status.busy": "2022-01-24T02:05:43.238148Z",
     "iopub.status.idle": "2022-01-24T02:05:52.510134Z",
     "shell.execute_reply": "2022-01-24T02:05:52.510605Z"
    },
    "papermill": {
     "duration": 9.289581,
     "end_time": "2022-01-24T02:05:52.510768",
     "exception": false,
     "start_time": "2022-01-24T02:05:43.221187",
     "status": "completed"
    },
    "tags": []
   },
   "outputs": [],
   "source": [
    "#hide_input\n",
    "blockchain = read_news('blockchain') \n",
    "btc = read_news('btc') \n",
    "xrp = read_news('xrp') \n",
    "trx = read_news('trx') \n",
    "eth = read_news('eth')  \n",
    "ada = read_news('ada')\n",
    "exchange = read_news('exchange') "
   ]
  },
  {
   "cell_type": "code",
   "execution_count": 3,
   "id": "synthetic-notion",
   "metadata": {
    "execution": {
     "iopub.execute_input": "2022-01-24T02:05:52.540122Z",
     "iopub.status.busy": "2022-01-24T02:05:52.539367Z",
     "iopub.status.idle": "2022-01-24T02:05:52.543999Z",
     "shell.execute_reply": "2022-01-24T02:05:52.543545Z"
    },
    "papermill": {
     "duration": 0.02226,
     "end_time": "2022-01-24T02:05:52.544105",
     "exception": false,
     "start_time": "2022-01-24T02:05:52.521845",
     "status": "completed"
    },
    "tags": []
   },
   "outputs": [
    {
     "data": {
      "text/markdown": [
       "- Here’s where Uniswap might be heading after a volatile last quarter.  Uniswap, the decentralized liquidity provision protocol on Ethereum, saw a volatile quarter in the crypto-market last year. With 2022 seeing the market lean towards the bears, what can we expect from Uniswap going forward? A recent report by Messari noted some key parameters for Uniswap in Q4 2021, parameters that marked the end of a [&#8230;] ... [| Skaityti daugiau](https://ambcrypto.com/heres-where-uniswap-might-be-heading-after-a-volatile-last-quarter/) "
      ],
      "text/plain": [
       "<IPython.core.display.Markdown object>"
      ]
     },
     "execution_count": 3,
     "metadata": {},
     "output_type": "execute_result"
    }
   ],
   "source": [
    "#hide_input\n",
    "#md('##### {}'.format(titleBTC)) \n",
    "md(\"- {}{} {}{} [| Skaityti daugiau]({}) \".format(blockchain['title'],'. ', blockchain['body'], ' ...', blockchain['url']))"
   ]
  },
  {
   "cell_type": "code",
   "execution_count": 4,
   "id": "aging-caution",
   "metadata": {
    "execution": {
     "iopub.execute_input": "2022-01-24T02:05:52.571474Z",
     "iopub.status.busy": "2022-01-24T02:05:52.570872Z",
     "iopub.status.idle": "2022-01-24T02:05:52.576259Z",
     "shell.execute_reply": "2022-01-24T02:05:52.575632Z"
    },
    "papermill": {
     "duration": 0.021066,
     "end_time": "2022-01-24T02:05:52.576371",
     "exception": false,
     "start_time": "2022-01-24T02:05:52.555305",
     "status": "completed"
    },
    "tags": []
   },
   "outputs": [
    {
     "data": {
      "text/markdown": [
       "- Bitcoin ETFs: More Choices; More Concerns.  Seven new Bitcoin ETFs premiered in 2021, but risks, opportunities, holdings, structures, and fees vary widely.Correlations with Bitcoin are mediocre.Your ETF might own futures, mining stocks, foreign securities or big public companies. ... [| Skaityti daugiau](https://seekingalpha.com/article/4481076-bitcoin-etfs-more-choices-more-concerns?utm_source=cryptocompare.com&utm_medium=referral) "
      ],
      "text/plain": [
       "<IPython.core.display.Markdown object>"
      ]
     },
     "execution_count": 4,
     "metadata": {},
     "output_type": "execute_result"
    }
   ],
   "source": [
    "#hide_input\n",
    "#md('##### {}'.format(titleBTC)) \n",
    "md(\"- {}{} {}{} [| Skaityti daugiau]({}) \".format(btc['title'],'. ', btc['body'], ' ...', btc['url']))"
   ]
  },
  {
   "cell_type": "code",
   "execution_count": 5,
   "id": "organic-actress",
   "metadata": {
    "execution": {
     "iopub.execute_input": "2022-01-24T02:05:52.603821Z",
     "iopub.status.busy": "2022-01-24T02:05:52.603209Z",
     "iopub.status.idle": "2022-01-24T02:05:52.606275Z",
     "shell.execute_reply": "2022-01-24T02:05:52.606911Z"
    },
    "papermill": {
     "duration": 0.019801,
     "end_time": "2022-01-24T02:05:52.607029",
     "exception": false,
     "start_time": "2022-01-24T02:05:52.587228",
     "status": "completed"
    },
    "tags": []
   },
   "outputs": [
    {
     "data": {
      "text/markdown": [
       "- XRP, Shiba Inu, LUNA Price Analysis: 23 January.  After the market-wide sell-off, XRP picked itself up from its six-month low at $0.5489. Now, it needs to gather thrust to test the 23.6% Fibonacci level. Similarly, Shiba Inu bounced back from the $0.00001708 three-month support and found a barrier at its 4-hour 20-SMA. On the other hand, LUNA reclaimed its golden Fibonacci level but [&#8230;] ... [| Skaityti daugiau](https://ambcrypto.com/xrp-shiba-inu-luna-price-analysis-23-january/) "
      ],
      "text/plain": [
       "<IPython.core.display.Markdown object>"
      ]
     },
     "execution_count": 5,
     "metadata": {},
     "output_type": "execute_result"
    }
   ],
   "source": [
    "#hide_input\n",
    "#md('##### {}'.format(titleBTC)) \n",
    "md(\"- {}{} {}{} [| Skaityti daugiau]({}) \".format(xrp['title'],'. ', xrp['body'], ' ...', xrp['url']))"
   ]
  },
  {
   "cell_type": "code",
   "execution_count": 6,
   "id": "prompt-farmer",
   "metadata": {
    "execution": {
     "iopub.execute_input": "2022-01-24T02:05:52.635279Z",
     "iopub.status.busy": "2022-01-24T02:05:52.634651Z",
     "iopub.status.idle": "2022-01-24T02:05:52.640858Z",
     "shell.execute_reply": "2022-01-24T02:05:52.641463Z"
    },
    "papermill": {
     "duration": 0.022683,
     "end_time": "2022-01-24T02:05:52.641646",
     "exception": false,
     "start_time": "2022-01-24T02:05:52.618963",
     "status": "completed"
    },
    "tags": []
   },
   "outputs": [
    {
     "data": {
      "text/markdown": [
       "- TRON (TRX) Annual Statistics Represent an Excellent Track Record.  TRON reached $14.06 billion in TVL and ended the year at $9.98 billion TVL. The networks entire on-chain asset valueThe post has appeared first on thenewscrypto.com ... [| Skaityti daugiau](https://thenewscrypto.com/tron-trx-annual-statistics-represent-an-excellent-track-record/) "
      ],
      "text/plain": [
       "<IPython.core.display.Markdown object>"
      ]
     },
     "execution_count": 6,
     "metadata": {},
     "output_type": "execute_result"
    }
   ],
   "source": [
    "#hide_input\n",
    "#md('##### {}'.format(titleBTC)) \n",
    "md(\"- {}{} {}{} [| Skaityti daugiau]({}) \".format(trx['title'],'. ', trx['body'], ' ...', trx['url']))"
   ]
  },
  {
   "cell_type": "code",
   "execution_count": 7,
   "id": "illegal-greece",
   "metadata": {
    "execution": {
     "iopub.execute_input": "2022-01-24T02:05:52.671681Z",
     "iopub.status.busy": "2022-01-24T02:05:52.670973Z",
     "iopub.status.idle": "2022-01-24T02:05:52.674354Z",
     "shell.execute_reply": "2022-01-24T02:05:52.674972Z"
    },
    "papermill": {
     "duration": 0.020513,
     "end_time": "2022-01-24T02:05:52.675087",
     "exception": false,
     "start_time": "2022-01-24T02:05:52.654574",
     "status": "completed"
    },
    "tags": []
   },
   "outputs": [
    {
     "data": {
      "text/markdown": [
       "- Most Cardano (ADA), Shiba Inu (SHIB) and Polygon (MATIC) Holders Now Underwater Amid Deep Pullback: IntotheBlock.  New data shows that the majority of Cardano (ADA), Shiba Inu (SHIB) and Polygon (MATIC) holders are now nursing losses as the crypto markets continue to sell-off. Crypto insights firm IntoTheBlock looks at wallets with a Cardano balance, identifies the average purchase amount of the coins and compares the figure to the current price of [&#8230;]The post Most Cardano (ADA), Shiba Inu (SHIB) and Polygon (MATIC) Holders Now Underwater Amid Deep Pullback: IntotheBlock appeared first on The Daily Hodl. ... [| Skaityti daugiau](https://dailyhodl.com/2022/01/23/most-cardano-ada-shiba-inu-shib-and-polygon-matic-holders-now-underwater-amid-deep-pullback-intotheblock/) "
      ],
      "text/plain": [
       "<IPython.core.display.Markdown object>"
      ]
     },
     "execution_count": 7,
     "metadata": {},
     "output_type": "execute_result"
    }
   ],
   "source": [
    "#hide_input\n",
    "#md('##### {}'.format(titleBTC)) \n",
    "md(\"- {}{} {}{} [| Skaityti daugiau]({}) \".format(eth['title'],'. ', eth['body'], ' ...', eth['url']))"
   ]
  },
  {
   "cell_type": "code",
   "execution_count": 8,
   "id": "sublime-lounge",
   "metadata": {
    "execution": {
     "iopub.execute_input": "2022-01-24T02:05:52.705248Z",
     "iopub.status.busy": "2022-01-24T02:05:52.704689Z",
     "iopub.status.idle": "2022-01-24T02:05:52.709644Z",
     "shell.execute_reply": "2022-01-24T02:05:52.710167Z"
    },
    "papermill": {
     "duration": 0.022957,
     "end_time": "2022-01-24T02:05:52.710302",
     "exception": false,
     "start_time": "2022-01-24T02:05:52.687345",
     "status": "completed"
    },
    "tags": []
   },
   "outputs": [
    {
     "data": {
      "text/markdown": [
       "- Most Cardano (ADA), Shiba Inu (SHIB) and Polygon (MATIC) Holders Now Underwater Amid Deep Pullback: IntotheBlock.  New data shows that the majority of Cardano (ADA), Shiba Inu (SHIB) and Polygon (MATIC) holders are now nursing losses as the crypto markets continue to sell-off. Crypto insights firm IntoTheBlock looks at wallets with a Cardano balance, identifies the average purchase amount of the coins and compares the figure to the current price of [&#8230;]The post Most Cardano (ADA), Shiba Inu (SHIB) and Polygon (MATIC) Holders Now Underwater Amid Deep Pullback: IntotheBlock appeared first on The Daily Hodl. ... [| Skaityti daugiau](https://dailyhodl.com/2022/01/23/most-cardano-ada-shiba-inu-shib-and-polygon-matic-holders-now-underwater-amid-deep-pullback-intotheblock/) "
      ],
      "text/plain": [
       "<IPython.core.display.Markdown object>"
      ]
     },
     "execution_count": 8,
     "metadata": {},
     "output_type": "execute_result"
    }
   ],
   "source": [
    "#hide_input\n",
    "#md('##### {}'.format(titleBTC)) \n",
    "md(\"- {}{} {}{} [| Skaityti daugiau]({}) \".format(ada['title'],'. ', ada['body'], ' ...', ada['url']))"
   ]
  },
  {
   "cell_type": "code",
   "execution_count": 9,
   "id": "specified-ordering",
   "metadata": {
    "execution": {
     "iopub.execute_input": "2022-01-24T02:05:52.741190Z",
     "iopub.status.busy": "2022-01-24T02:05:52.740523Z",
     "iopub.status.idle": "2022-01-24T02:05:52.743407Z",
     "shell.execute_reply": "2022-01-24T02:05:52.743936Z"
    },
    "papermill": {
     "duration": 0.021182,
     "end_time": "2022-01-24T02:05:52.744087",
     "exception": false,
     "start_time": "2022-01-24T02:05:52.722905",
     "status": "completed"
    },
    "tags": []
   },
   "outputs": [
    {
     "data": {
      "text/markdown": [
       "- Binance Coin, Polkadot, Ethereum Classic Price Analysis: 23 January.  While the past 48 hours have been rather detrimental to the market sentiment, Binance Coin flipped the $414-mark from support to resistance. Polkadot and Ethereum Classic plunged toward their multi-month low levels and lost crucial support points. All these cryptos still struggled to ramp up their volumes at increasing prices. Binance Coin (BNB) The alt [&#8230;] ... [| Skaityti daugiau](https://ambcrypto.com/binance-coin-polkadot-ethereum-classic-price-analysis-23-january/) "
      ],
      "text/plain": [
       "<IPython.core.display.Markdown object>"
      ]
     },
     "execution_count": 9,
     "metadata": {},
     "output_type": "execute_result"
    }
   ],
   "source": [
    "#hide_input\n",
    "#md('##### {}'.format(titleBTC)) \n",
    "md(\"- {}{} {}{} [| Skaityti daugiau]({}) \".format(exchange['title'],'. ', exchange['body'], ' ...', exchange['url']))"
   ]
  },
  {
   "cell_type": "code",
   "execution_count": null,
   "id": "tender-livestock",
   "metadata": {
    "papermill": {
     "duration": 0.012397,
     "end_time": "2022-01-24T02:05:52.768534",
     "exception": false,
     "start_time": "2022-01-24T02:05:52.756137",
     "status": "completed"
    },
    "tags": []
   },
   "outputs": [],
   "source": []
  },
  {
   "cell_type": "code",
   "execution_count": null,
   "id": "appreciated-diamond",
   "metadata": {
    "papermill": {
     "duration": 0.012827,
     "end_time": "2022-01-24T02:05:52.794207",
     "exception": false,
     "start_time": "2022-01-24T02:05:52.781380",
     "status": "completed"
    },
    "tags": []
   },
   "outputs": [],
   "source": []
  },
  {
   "cell_type": "code",
   "execution_count": null,
   "id": "romance-sweden",
   "metadata": {
    "papermill": {
     "duration": 0.01298,
     "end_time": "2022-01-24T02:05:52.819766",
     "exception": false,
     "start_time": "2022-01-24T02:05:52.806786",
     "status": "completed"
    },
    "tags": []
   },
   "outputs": [],
   "source": []
  },
  {
   "cell_type": "code",
   "execution_count": null,
   "id": "dietary-statistics",
   "metadata": {
    "papermill": {
     "duration": 0.013302,
     "end_time": "2022-01-24T02:05:52.846147",
     "exception": false,
     "start_time": "2022-01-24T02:05:52.832845",
     "status": "completed"
    },
    "tags": []
   },
   "outputs": [],
   "source": []
  }
 ],
 "metadata": {
  "kernelspec": {
   "display_name": "Python 3",
   "language": "python",
   "name": "python3"
  },
  "language_info": {
   "codemirror_mode": {
    "name": "ipython",
    "version": 3
   },
   "file_extension": ".py",
   "mimetype": "text/x-python",
   "name": "python",
   "nbconvert_exporter": "python",
   "pygments_lexer": "ipython3",
   "version": "3.6.15"
  },
  "papermill": {
   "default_parameters": {},
   "duration": 12.891756,
   "end_time": "2022-01-24T02:05:53.279708",
   "environment_variables": {},
   "exception": null,
   "input_path": "Market-News.ipynb",
   "output_path": "Market-News.ipynb",
   "parameters": {},
   "start_time": "2022-01-24T02:05:40.387952",
   "version": "2.2.2"
  }
 },
 "nbformat": 4,
 "nbformat_minor": 5
}