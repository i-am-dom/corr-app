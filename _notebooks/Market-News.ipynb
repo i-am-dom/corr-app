{
 "cells": [
  {
   "cell_type": "markdown",
   "id": "short-greensboro",
   "metadata": {
    "papermill": {
     "duration": 0.011616,
     "end_time": "2022-01-16T02:13:00.949352",
     "exception": false,
     "start_time": "2022-01-16T02:13:00.937736",
     "status": "completed"
    },
    "tags": []
   },
   "source": [
    "# Kriptovaliutų naujienos"
   ]
  },
  {
   "cell_type": "code",
   "execution_count": 1,
   "id": "functioning-knowing",
   "metadata": {
    "execution": {
     "iopub.execute_input": "2022-01-16T02:13:00.975584Z",
     "iopub.status.busy": "2022-01-16T02:13:00.975011Z",
     "iopub.status.idle": "2022-01-16T02:13:02.132096Z",
     "shell.execute_reply": "2022-01-16T02:13:02.132577Z"
    },
    "papermill": {
     "duration": 1.174863,
     "end_time": "2022-01-16T02:13:02.132803",
     "exception": false,
     "start_time": "2022-01-16T02:13:00.957940",
     "status": "completed"
    },
    "tags": []
   },
   "outputs": [],
   "source": [
    "#hide_input\n",
    "import warnings\n",
    "warnings.filterwarnings('ignore')\n",
    "from scripts.read_data import read_api\n",
    "from scripts.read_data import read_news\n",
    "from scripts.read_data import read_covid\n",
    "import matplotlib.pyplot as plt \n",
    "from IPython.display import Markdown as md"
   ]
  },
  {
   "cell_type": "code",
   "execution_count": 2,
   "id": "shared-acceptance",
   "metadata": {
    "execution": {
     "iopub.execute_input": "2022-01-16T02:13:02.156825Z",
     "iopub.status.busy": "2022-01-16T02:13:02.156243Z",
     "iopub.status.idle": "2022-01-16T02:13:13.028375Z",
     "shell.execute_reply": "2022-01-16T02:13:13.028879Z"
    },
    "papermill": {
     "duration": 10.886681,
     "end_time": "2022-01-16T02:13:13.029052",
     "exception": false,
     "start_time": "2022-01-16T02:13:02.142371",
     "status": "completed"
    },
    "tags": []
   },
   "outputs": [],
   "source": [
    "#hide_input\n",
    "blockchain = read_news('blockchain') \n",
    "btc = read_news('btc') \n",
    "xrp = read_news('xrp') \n",
    "trx = read_news('trx') \n",
    "eth = read_news('eth')  \n",
    "ada = read_news('ada')\n",
    "exchange = read_news('exchange') "
   ]
  },
  {
   "cell_type": "code",
   "execution_count": 3,
   "id": "synthetic-notion",
   "metadata": {
    "execution": {
     "iopub.execute_input": "2022-01-16T02:13:13.054381Z",
     "iopub.status.busy": "2022-01-16T02:13:13.053828Z",
     "iopub.status.idle": "2022-01-16T02:13:13.055844Z",
     "shell.execute_reply": "2022-01-16T02:13:13.056202Z"
    },
    "papermill": {
     "duration": 0.017317,
     "end_time": "2022-01-16T02:13:13.056316",
     "exception": false,
     "start_time": "2022-01-16T02:13:13.038999",
     "status": "completed"
    },
    "tags": []
   },
   "outputs": [
    {
     "data": {
      "text/markdown": [
       "- Will Ethereum’s Triple Halving Debunk Ethereum Killers, Taking The ETH Price To $10K In Q3?.  The post Will Ethereum’s Triple Halving Debunk Ethereum Killers, Taking The ETH Price To $10K In Q3? appeared first on Coinpedia - Fintech &amp; Cryptocurreny News Media| Crypto GuideThe world of digital coins has been yearning for the commencement of the alt season. Which is currently in the mist, as digital assets have been crab walking on the charts. While the star crypto has been facing the wrath of economic turmoil and regulatory implications. The maestro of altcoins has been taking the brunt &#8230; ... [| Skaityti daugiau](https://coinpedia.org/ethereum/will-ethereums-triple-halving-debunk-ethereum-killers-taking-the-eth-price-to-10k-in-q3/) "
      ],
      "text/plain": [
       "<IPython.core.display.Markdown object>"
      ]
     },
     "execution_count": 3,
     "metadata": {},
     "output_type": "execute_result"
    }
   ],
   "source": [
    "#hide_input\n",
    "#md('##### {}'.format(titleBTC)) \n",
    "md(\"- {}{} {}{} [| Skaityti daugiau]({}) \".format(blockchain['title'],'. ', blockchain['body'], ' ...', blockchain['url']))"
   ]
  },
  {
   "cell_type": "code",
   "execution_count": 4,
   "id": "aging-caution",
   "metadata": {
    "execution": {
     "iopub.execute_input": "2022-01-16T02:13:13.076577Z",
     "iopub.status.busy": "2022-01-16T02:13:13.075534Z",
     "iopub.status.idle": "2022-01-16T02:13:13.079316Z",
     "shell.execute_reply": "2022-01-16T02:13:13.078961Z"
    },
    "papermill": {
     "duration": 0.014919,
     "end_time": "2022-01-16T02:13:13.079418",
     "exception": false,
     "start_time": "2022-01-16T02:13:13.064499",
     "status": "completed"
    },
    "tags": []
   },
   "outputs": [
    {
     "data": {
      "text/markdown": [
       "- Top 5 Crypto Metaverse Coins Gaining The Most Price Today (January 15th).  This weekend, Crypto markets continue to trade sideways, with Bitcoin and Ethereum holding the $43k and $3.3k levels, respectively. The global cryptocurrency market cap is holding firm above the $2 trillion level, and we&#8217;re quite a few underrated coins gaining significant value today. This article looks at the top three crypto Metaverse coins gaining the [&#8230;]The post Top 5 Crypto Metaverse Coins Gaining The Most Price Today (January 15th) appeared first on NullTX. ... [| Skaityti daugiau](https://nulltx.com/top-5-crypto-metaverse-coins-gaining-the-most-price-today-january-15th/) "
      ],
      "text/plain": [
       "<IPython.core.display.Markdown object>"
      ]
     },
     "execution_count": 4,
     "metadata": {},
     "output_type": "execute_result"
    }
   ],
   "source": [
    "#hide_input\n",
    "#md('##### {}'.format(titleBTC)) \n",
    "md(\"- {}{} {}{} [| Skaityti daugiau]({}) \".format(btc['title'],'. ', btc['body'], ' ...', btc['url']))"
   ]
  },
  {
   "cell_type": "code",
   "execution_count": 5,
   "id": "organic-actress",
   "metadata": {
    "execution": {
     "iopub.execute_input": "2022-01-16T02:13:13.100990Z",
     "iopub.status.busy": "2022-01-16T02:13:13.100382Z",
     "iopub.status.idle": "2022-01-16T02:13:13.104123Z",
     "shell.execute_reply": "2022-01-16T02:13:13.103639Z"
    },
    "papermill": {
     "duration": 0.016469,
     "end_time": "2022-01-16T02:13:13.104237",
     "exception": false,
     "start_time": "2022-01-16T02:13:13.087768",
     "status": "completed"
    },
    "tags": []
   },
   "outputs": [
    {
     "data": {
      "text/markdown": [
       "- Ripple (XRP) Price Roars Towards $0.8350 Moves In Upward Channel.  XRP has lost almost 17% since January 2 from the highs of $0.8659. The price gains more than 1% on Saturday from the lows of $0.7680. At the time of writing, the XRP price has been hovering near higher levels. XRP extends the previous session’s gains today with more than 1% gains. The Altcoin rises The post Ripple (XRP) Price Roars Towards $0.8350 Moves In Upward Channel appeared first on CoinGape. ... [| Skaityti daugiau](https://coingape.com/markets/ripple-xrp-price-roars-towards-0-8350-moves-in-upward-channel/) "
      ],
      "text/plain": [
       "<IPython.core.display.Markdown object>"
      ]
     },
     "execution_count": 5,
     "metadata": {},
     "output_type": "execute_result"
    }
   ],
   "source": [
    "#hide_input\n",
    "#md('##### {}'.format(titleBTC)) \n",
    "md(\"- {}{} {}{} [| Skaityti daugiau]({}) \".format(xrp['title'],'. ', xrp['body'], ' ...', xrp['url']))"
   ]
  },
  {
   "cell_type": "code",
   "execution_count": 6,
   "id": "prompt-farmer",
   "metadata": {
    "execution": {
     "iopub.execute_input": "2022-01-16T02:13:13.127730Z",
     "iopub.status.busy": "2022-01-16T02:13:13.126806Z",
     "iopub.status.idle": "2022-01-16T02:13:13.130320Z",
     "shell.execute_reply": "2022-01-16T02:13:13.129900Z"
    },
    "papermill": {
     "duration": 0.016144,
     "end_time": "2022-01-16T02:13:13.130419",
     "exception": false,
     "start_time": "2022-01-16T02:13:13.114275",
     "status": "completed"
    },
    "tags": []
   },
   "outputs": [
    {
     "data": {
      "text/markdown": [
       "- Solana, Tron, Stellar Price Analysis: 13 January.  With Bitcoin closing in above all its 4-hour EMA ribbons, altcoins like Solana, Tron, and Stellar fought the bears with all their might. Their near-term technicals depicted the increasing buying momentum as they reclaimed their lost support levels. Solana (SOL) The 5 January sell-off fueled SOL&#8217;s already existing bearish tendencies since late December as the [&#8230;] ... [| Skaityti daugiau](https://ambcrypto.com/solana-tron-stellar-price-analysis-13-january/) "
      ],
      "text/plain": [
       "<IPython.core.display.Markdown object>"
      ]
     },
     "execution_count": 6,
     "metadata": {},
     "output_type": "execute_result"
    }
   ],
   "source": [
    "#hide_input\n",
    "#md('##### {}'.format(titleBTC)) \n",
    "md(\"- {}{} {}{} [| Skaityti daugiau]({}) \".format(trx['title'],'. ', trx['body'], ' ...', trx['url']))"
   ]
  },
  {
   "cell_type": "code",
   "execution_count": 7,
   "id": "illegal-greece",
   "metadata": {
    "execution": {
     "iopub.execute_input": "2022-01-16T02:13:13.154303Z",
     "iopub.status.busy": "2022-01-16T02:13:13.153808Z",
     "iopub.status.idle": "2022-01-16T02:13:13.156579Z",
     "shell.execute_reply": "2022-01-16T02:13:13.156162Z"
    },
    "papermill": {
     "duration": 0.016142,
     "end_time": "2022-01-16T02:13:13.156678",
     "exception": false,
     "start_time": "2022-01-16T02:13:13.140536",
     "status": "completed"
    },
    "tags": []
   },
   "outputs": [
    {
     "data": {
      "text/markdown": [
       "- Top 5 Crypto Metaverse Coins Gaining The Most Price Today (January 15th).  This weekend, Crypto markets continue to trade sideways, with Bitcoin and Ethereum holding the $43k and $3.3k levels, respectively. The global cryptocurrency market cap is holding firm above the $2 trillion level, and we&#8217;re quite a few underrated coins gaining significant value today. This article looks at the top three crypto Metaverse coins gaining the [&#8230;]The post Top 5 Crypto Metaverse Coins Gaining The Most Price Today (January 15th) appeared first on NullTX. ... [| Skaityti daugiau](https://nulltx.com/top-5-crypto-metaverse-coins-gaining-the-most-price-today-january-15th/) "
      ],
      "text/plain": [
       "<IPython.core.display.Markdown object>"
      ]
     },
     "execution_count": 7,
     "metadata": {},
     "output_type": "execute_result"
    }
   ],
   "source": [
    "#hide_input\n",
    "#md('##### {}'.format(titleBTC)) \n",
    "md(\"- {}{} {}{} [| Skaityti daugiau]({}) \".format(eth['title'],'. ', eth['body'], ' ...', eth['url']))"
   ]
  },
  {
   "cell_type": "code",
   "execution_count": 8,
   "id": "sublime-lounge",
   "metadata": {
    "execution": {
     "iopub.execute_input": "2022-01-16T02:13:13.182083Z",
     "iopub.status.busy": "2022-01-16T02:13:13.181574Z",
     "iopub.status.idle": "2022-01-16T02:13:13.184812Z",
     "shell.execute_reply": "2022-01-16T02:13:13.184388Z"
    },
    "papermill": {
     "duration": 0.017814,
     "end_time": "2022-01-16T02:13:13.184920",
     "exception": false,
     "start_time": "2022-01-16T02:13:13.167106",
     "status": "completed"
    },
    "tags": []
   },
   "outputs": [
    {
     "data": {
      "text/markdown": [
       "- Value Locked in Defi Jumps 2.3% in 7 Days, Ethereum NFT Sales Dominate, Fantom TVL Jumps 26%.  On Saturday, January 15, 2022, the value locked in decentralized finance (defi) protocols across a number of blockchains has increased from $233.95 billion since January 8, to $239.44 billion. Curve&#x2019;s total value locked (TVL) dominance today is 9.76% with its $23.38 billion TVL. Meanwhile, native assets for the top nine smart contract platforms have seen [&#8230;] ... [| Skaityti daugiau](https://news.bitcoin.com/value-locked-in-defi-jumps-2-3-in-7-days-ethereum-nft-sales-dominate-fantom-tvl-jumps-26/) "
      ],
      "text/plain": [
       "<IPython.core.display.Markdown object>"
      ]
     },
     "execution_count": 8,
     "metadata": {},
     "output_type": "execute_result"
    }
   ],
   "source": [
    "#hide_input\n",
    "#md('##### {}'.format(titleBTC)) \n",
    "md(\"- {}{} {}{} [| Skaityti daugiau]({}) \".format(ada['title'],'. ', ada['body'], ' ...', ada['url']))"
   ]
  },
  {
   "cell_type": "code",
   "execution_count": 9,
   "id": "specified-ordering",
   "metadata": {
    "execution": {
     "iopub.execute_input": "2022-01-16T02:13:13.211094Z",
     "iopub.status.busy": "2022-01-16T02:13:13.210601Z",
     "iopub.status.idle": "2022-01-16T02:13:13.213427Z",
     "shell.execute_reply": "2022-01-16T02:13:13.213852Z"
    },
    "papermill": {
     "duration": 0.018328,
     "end_time": "2022-01-16T02:13:13.213965",
     "exception": false,
     "start_time": "2022-01-16T02:13:13.195637",
     "status": "completed"
    },
    "tags": []
   },
   "outputs": [
    {
     "data": {
      "text/markdown": [
       "- KuCoin report shows which coins Turkish investors are using to fight inflation.  Rising inflation rates and decreased purchasing power still plague the people of Turkey, who are now turning to new and less regulated ways of safeguarding their wealth. Even mainstream media companies have noted Turkish crypto investors&#8217; interest in assets such as stablecoins to serve as an inflation hedge. To that end, the crypto exchange KuCoin [&#8230;] ... [| Skaityti daugiau](https://ambcrypto.com/kucoin-report-shows-which-coins-turkish-investors-are-using-to-fight-inflation/) "
      ],
      "text/plain": [
       "<IPython.core.display.Markdown object>"
      ]
     },
     "execution_count": 9,
     "metadata": {},
     "output_type": "execute_result"
    }
   ],
   "source": [
    "#hide_input\n",
    "#md('##### {}'.format(titleBTC)) \n",
    "md(\"- {}{} {}{} [| Skaityti daugiau]({}) \".format(exchange['title'],'. ', exchange['body'], ' ...', exchange['url']))"
   ]
  },
  {
   "cell_type": "code",
   "execution_count": null,
   "id": "tender-livestock",
   "metadata": {
    "papermill": {
     "duration": 0.010958,
     "end_time": "2022-01-16T02:13:13.235881",
     "exception": false,
     "start_time": "2022-01-16T02:13:13.224923",
     "status": "completed"
    },
    "tags": []
   },
   "outputs": [],
   "source": []
  },
  {
   "cell_type": "code",
   "execution_count": null,
   "id": "appreciated-diamond",
   "metadata": {
    "papermill": {
     "duration": 0.010924,
     "end_time": "2022-01-16T02:13:13.257919",
     "exception": false,
     "start_time": "2022-01-16T02:13:13.246995",
     "status": "completed"
    },
    "tags": []
   },
   "outputs": [],
   "source": []
  },
  {
   "cell_type": "code",
   "execution_count": null,
   "id": "romance-sweden",
   "metadata": {
    "papermill": {
     "duration": 0.010898,
     "end_time": "2022-01-16T02:13:13.279763",
     "exception": false,
     "start_time": "2022-01-16T02:13:13.268865",
     "status": "completed"
    },
    "tags": []
   },
   "outputs": [],
   "source": []
  },
  {
   "cell_type": "code",
   "execution_count": null,
   "id": "dietary-statistics",
   "metadata": {
    "papermill": {
     "duration": 0.010904,
     "end_time": "2022-01-16T02:13:13.301618",
     "exception": false,
     "start_time": "2022-01-16T02:13:13.290714",
     "status": "completed"
    },
    "tags": []
   },
   "outputs": [],
   "source": []
  }
 ],
 "metadata": {
  "kernelspec": {
   "display_name": "Python 3",
   "language": "python",
   "name": "python3"
  },
  "language_info": {
   "codemirror_mode": {
    "name": "ipython",
    "version": 3
   },
   "file_extension": ".py",
   "mimetype": "text/x-python",
   "name": "python",
   "nbconvert_exporter": "python",
   "pygments_lexer": "ipython3",
   "version": "3.6.15"
  },
  "papermill": {
   "default_parameters": {},
   "duration": 13.976174,
   "end_time": "2022-01-16T02:13:13.832042",
   "environment_variables": {},
   "exception": null,
   "input_path": "Market-News.ipynb",
   "output_path": "Market-News.ipynb",
   "parameters": {},
   "start_time": "2022-01-16T02:12:59.855868",
   "version": "2.2.2"
  }
 },
 "nbformat": 4,
 "nbformat_minor": 5
}