{
 "cells": [
  {
   "cell_type": "markdown",
   "id": "short-greensboro",
   "metadata": {
    "papermill": {
     "duration": 0.017327,
     "end_time": "2022-03-12T02:05:23.779603",
     "exception": false,
     "start_time": "2022-03-12T02:05:23.762276",
     "status": "completed"
    },
    "tags": []
   },
   "source": [
    "# Kriptovaliutų naujienos"
   ]
  },
  {
   "cell_type": "code",
   "execution_count": 1,
   "id": "functioning-knowing",
   "metadata": {
    "execution": {
     "iopub.execute_input": "2022-03-12T02:05:23.817555Z",
     "iopub.status.busy": "2022-03-12T02:05:23.813141Z",
     "iopub.status.idle": "2022-03-12T02:05:25.515612Z",
     "shell.execute_reply": "2022-03-12T02:05:25.513314Z"
    },
    "papermill": {
     "duration": 1.723031,
     "end_time": "2022-03-12T02:05:25.515857",
     "exception": false,
     "start_time": "2022-03-12T02:05:23.792826",
     "status": "completed"
    },
    "tags": []
   },
   "outputs": [],
   "source": [
    "#hide_input\n",
    "import warnings\n",
    "warnings.filterwarnings('ignore')\n",
    "from scripts.read_data import read_api\n",
    "from scripts.read_data import read_news\n",
    "from scripts.read_data import read_covid\n",
    "import matplotlib.pyplot as plt \n",
    "from IPython.display import Markdown as md"
   ]
  },
  {
   "cell_type": "code",
   "execution_count": 2,
   "id": "shared-acceptance",
   "metadata": {
    "execution": {
     "iopub.execute_input": "2022-03-12T02:05:25.548808Z",
     "iopub.status.busy": "2022-03-12T02:05:25.548008Z",
     "iopub.status.idle": "2022-03-12T02:05:35.722014Z",
     "shell.execute_reply": "2022-03-12T02:05:35.720933Z"
    },
    "papermill": {
     "duration": 10.193825,
     "end_time": "2022-03-12T02:05:35.722198",
     "exception": false,
     "start_time": "2022-03-12T02:05:25.528373",
     "status": "completed"
    },
    "tags": []
   },
   "outputs": [],
   "source": [
    "#hide_input\n",
    "blockchain = read_news('blockchain') \n",
    "btc = read_news('btc') \n",
    "xrp = read_news('xrp') \n",
    "trx = read_news('trx') \n",
    "eth = read_news('eth')  \n",
    "ada = read_news('ada')\n",
    "exchange = read_news('exchange') "
   ]
  },
  {
   "cell_type": "code",
   "execution_count": 3,
   "id": "synthetic-notion",
   "metadata": {
    "execution": {
     "iopub.execute_input": "2022-03-12T02:05:35.754328Z",
     "iopub.status.busy": "2022-03-12T02:05:35.753531Z",
     "iopub.status.idle": "2022-03-12T02:05:35.758563Z",
     "shell.execute_reply": "2022-03-12T02:05:35.757880Z"
    },
    "papermill": {
     "duration": 0.023958,
     "end_time": "2022-03-12T02:05:35.758724",
     "exception": false,
     "start_time": "2022-03-12T02:05:35.734766",
     "status": "completed"
    },
    "tags": []
   },
   "outputs": [
    {
     "data": {
      "text/markdown": [
       "- Kadena price soars by 40% after new protocol launches and a major exchange listing.  A listing at Binance and new interoperability-focused protocol launches resulted in a swift 40% gain in KDA price.  ... [| Skaityti daugiau](https://cointelegraph.com/news/kadena-price-soars-by-40-after-new-protocol-launches-and-a-major-exchange-listing) "
      ],
      "text/plain": [
       "<IPython.core.display.Markdown object>"
      ]
     },
     "execution_count": 3,
     "metadata": {},
     "output_type": "execute_result"
    }
   ],
   "source": [
    "#hide_input\n",
    "#md('##### {}'.format(titleBTC)) \n",
    "md(\"- {}{} {}{} [| Skaityti daugiau]({}) \".format(blockchain['title'],'. ', blockchain['body'], ' ...', blockchain['url']))"
   ]
  },
  {
   "cell_type": "code",
   "execution_count": 4,
   "id": "aging-caution",
   "metadata": {
    "execution": {
     "iopub.execute_input": "2022-03-12T02:05:35.789797Z",
     "iopub.status.busy": "2022-03-12T02:05:35.788977Z",
     "iopub.status.idle": "2022-03-12T02:05:35.795225Z",
     "shell.execute_reply": "2022-03-12T02:05:35.795696Z"
    },
    "papermill": {
     "duration": 0.024606,
     "end_time": "2022-03-12T02:05:35.795869",
     "exception": false,
     "start_time": "2022-03-12T02:05:35.771263",
     "status": "completed"
    },
    "tags": []
   },
   "outputs": [
    {
     "data": {
      "text/markdown": [
       "- Can Harmony find demand above this level and what to expect if it does.  Disclaimer: The findings of the following analysis are the sole opinions of the writer and should not be considered investment advice Bitcoin has been volatile in recent days as bulls and bears fought for control of the $39k area. A move past $39k-$40k for Bitcoin could see some life from the bulls. On the other hand, [&#8230;] ... [| Skaityti daugiau](https://ambcrypto.com/can-harmony-find-demand-above-this-level-and-what-traders-should-expect-if-it-does/) "
      ],
      "text/plain": [
       "<IPython.core.display.Markdown object>"
      ]
     },
     "execution_count": 4,
     "metadata": {},
     "output_type": "execute_result"
    }
   ],
   "source": [
    "#hide_input\n",
    "#md('##### {}'.format(titleBTC)) \n",
    "md(\"- {}{} {}{} [| Skaityti daugiau]({}) \".format(btc['title'],'. ', btc['body'], ' ...', btc['url']))"
   ]
  },
  {
   "cell_type": "code",
   "execution_count": 5,
   "id": "organic-actress",
   "metadata": {
    "execution": {
     "iopub.execute_input": "2022-03-12T02:05:35.826917Z",
     "iopub.status.busy": "2022-03-12T02:05:35.826160Z",
     "iopub.status.idle": "2022-03-12T02:05:35.832130Z",
     "shell.execute_reply": "2022-03-12T02:05:35.833110Z"
    },
    "papermill": {
     "duration": 0.024667,
     "end_time": "2022-03-12T02:05:35.833262",
     "exception": false,
     "start_time": "2022-03-12T02:05:35.808595",
     "status": "completed"
    },
    "tags": []
   },
   "outputs": [
    {
     "data": {
      "text/markdown": [
       "- XRP Soars 10% After Critical Update In Legal Battle, This Is What You Should Know.  The price of XRP has begun moving on its own as the legal battle between payment company Ripple, and two of its executive, versus the U.S. Securities and Exchange Commission (SEC) sees a new development. According to a document file with a court in the Southern District of New York, the District Judge will allow [&#8230;] ... [| Skaityti daugiau](https://bitcoinist.com/xrp-soars-10-after-critical-update-in-legal-battle/) "
      ],
      "text/plain": [
       "<IPython.core.display.Markdown object>"
      ]
     },
     "execution_count": 5,
     "metadata": {},
     "output_type": "execute_result"
    }
   ],
   "source": [
    "#hide_input\n",
    "#md('##### {}'.format(titleBTC)) \n",
    "md(\"- {}{} {}{} [| Skaityti daugiau]({}) \".format(xrp['title'],'. ', xrp['body'], ' ...', xrp['url']))"
   ]
  },
  {
   "cell_type": "code",
   "execution_count": 6,
   "id": "prompt-farmer",
   "metadata": {
    "execution": {
     "iopub.execute_input": "2022-03-12T02:05:35.865025Z",
     "iopub.status.busy": "2022-03-12T02:05:35.864382Z",
     "iopub.status.idle": "2022-03-12T02:05:35.871458Z",
     "shell.execute_reply": "2022-03-12T02:05:35.870883Z"
    },
    "papermill": {
     "duration": 0.025197,
     "end_time": "2022-03-12T02:05:35.871581",
     "exception": false,
     "start_time": "2022-03-12T02:05:35.846384",
     "status": "completed"
    },
    "tags": []
   },
   "outputs": [
    {
     "data": {
      "text/markdown": [
       "- Solana, LUNA, Tron Price Analysis: 10 March.  While the last 24 hours proved to be rather menacing for the bulls, the Crypto fear and greed index showed minor improvements in the overall sentiment. The near-term technicals of Solana, LUNA, and Tron exhibited a bearish inclination but the CMF kept the bullish revival chances bright in the days to come. Solana (SOL) SOL [&#8230;] ... [| Skaityti daugiau](https://ambcrypto.com/solana-luna-tron-price-analysis-10-march/) "
      ],
      "text/plain": [
       "<IPython.core.display.Markdown object>"
      ]
     },
     "execution_count": 6,
     "metadata": {},
     "output_type": "execute_result"
    }
   ],
   "source": [
    "#hide_input\n",
    "#md('##### {}'.format(titleBTC)) \n",
    "md(\"- {}{} {}{} [| Skaityti daugiau]({}) \".format(trx['title'],'. ', trx['body'], ' ...', trx['url']))"
   ]
  },
  {
   "cell_type": "code",
   "execution_count": 7,
   "id": "illegal-greece",
   "metadata": {
    "execution": {
     "iopub.execute_input": "2022-03-12T02:05:35.910526Z",
     "iopub.status.busy": "2022-03-12T02:05:35.909113Z",
     "iopub.status.idle": "2022-03-12T02:05:35.912507Z",
     "shell.execute_reply": "2022-03-12T02:05:35.913040Z"
    },
    "papermill": {
     "duration": 0.025665,
     "end_time": "2022-03-12T02:05:35.913376",
     "exception": false,
     "start_time": "2022-03-12T02:05:35.887711",
     "status": "completed"
    },
    "tags": []
   },
   "outputs": [
    {
     "data": {
      "text/markdown": [
       "- Bored Ape Yacht Club’s Yuga Labs Acquires CryptoPunks IP From Larva Labs.  The rumors are true: Yuga Labs has bought the rights to CryptoPunks, and its granting Punk holders full commercial rights. ... [| Skaityti daugiau](https://decrypt.co/94898/bored-ape-yacht-club-yuga-labs-cryptopunks-larva-labs) "
      ],
      "text/plain": [
       "<IPython.core.display.Markdown object>"
      ]
     },
     "execution_count": 7,
     "metadata": {},
     "output_type": "execute_result"
    }
   ],
   "source": [
    "#hide_input\n",
    "#md('##### {}'.format(titleBTC)) \n",
    "md(\"- {}{} {}{} [| Skaityti daugiau]({}) \".format(eth['title'],'. ', eth['body'], ' ...', eth['url']))"
   ]
  },
  {
   "cell_type": "code",
   "execution_count": 8,
   "id": "sublime-lounge",
   "metadata": {
    "execution": {
     "iopub.execute_input": "2022-03-12T02:05:35.949392Z",
     "iopub.status.busy": "2022-03-12T02:05:35.948560Z",
     "iopub.status.idle": "2022-03-12T02:05:35.955449Z",
     "shell.execute_reply": "2022-03-12T02:05:35.955971Z"
    },
    "papermill": {
     "duration": 0.028542,
     "end_time": "2022-03-12T02:05:35.956135",
     "exception": false,
     "start_time": "2022-03-12T02:05:35.927593",
     "status": "completed"
    },
    "tags": []
   },
   "outputs": [
    {
     "data": {
      "text/markdown": [
       "- Cardano(ADA) Price To Chug Towards $1! Are The Metrics In Place For A Northward Trek?.  The post Cardano(ADA) Price To Chug Towards $1! Are The Metrics In Place For A Northward Trek?  appeared first on Coinpedia - Fintech &amp; Cryptocurreny News Media| Crypto Guide The world of cryptocurrencies has set its radars on the industry’s top-tier digital assets. Which holds the potential to turntables of the world’s most revolutionary tech. The market cap of the crypto industry is currently at $1.86 T, which is up 1.9% over the day. Amongst the top-10 cryptocurrencies, Cardano is one such digital asset &#8230; ... [| Skaityti daugiau](https://coinpedia.org/altcoin/cardano-ada-price-to-chug-towards-1/) "
      ],
      "text/plain": [
       "<IPython.core.display.Markdown object>"
      ]
     },
     "execution_count": 8,
     "metadata": {},
     "output_type": "execute_result"
    }
   ],
   "source": [
    "#hide_input\n",
    "#md('##### {}'.format(titleBTC)) \n",
    "md(\"- {}{} {}{} [| Skaityti daugiau]({}) \".format(ada['title'],'. ', ada['body'], ' ...', ada['url']))"
   ]
  },
  {
   "cell_type": "code",
   "execution_count": 9,
   "id": "specified-ordering",
   "metadata": {
    "execution": {
     "iopub.execute_input": "2022-03-12T02:05:35.993402Z",
     "iopub.status.busy": "2022-03-12T02:05:35.992689Z",
     "iopub.status.idle": "2022-03-12T02:05:35.998551Z",
     "shell.execute_reply": "2022-03-12T02:05:35.997737Z"
    },
    "papermill": {
     "duration": 0.026597,
     "end_time": "2022-03-12T02:05:35.998706",
     "exception": false,
     "start_time": "2022-03-12T02:05:35.972109",
     "status": "completed"
    },
    "tags": []
   },
   "outputs": [
    {
     "data": {
      "text/markdown": [
       "- Kadena price soars by 40% after new protocol launches and a major exchange listing.  A listing at Binance and new interoperability-focused protocol launches resulted in a swift 40% gain in KDA price.  ... [| Skaityti daugiau](https://cointelegraph.com/news/kadena-price-soars-by-40-after-new-protocol-launches-and-a-major-exchange-listing) "
      ],
      "text/plain": [
       "<IPython.core.display.Markdown object>"
      ]
     },
     "execution_count": 9,
     "metadata": {},
     "output_type": "execute_result"
    }
   ],
   "source": [
    "#hide_input\n",
    "#md('##### {}'.format(titleBTC)) \n",
    "md(\"- {}{} {}{} [| Skaityti daugiau]({}) \".format(exchange['title'],'. ', exchange['body'], ' ...', exchange['url']))"
   ]
  },
  {
   "cell_type": "code",
   "execution_count": null,
   "id": "tender-livestock",
   "metadata": {
    "papermill": {
     "duration": 0.015482,
     "end_time": "2022-03-12T02:05:36.028924",
     "exception": false,
     "start_time": "2022-03-12T02:05:36.013442",
     "status": "completed"
    },
    "tags": []
   },
   "outputs": [],
   "source": []
  },
  {
   "cell_type": "code",
   "execution_count": null,
   "id": "appreciated-diamond",
   "metadata": {
    "papermill": {
     "duration": 0.015868,
     "end_time": "2022-03-12T02:05:36.059961",
     "exception": false,
     "start_time": "2022-03-12T02:05:36.044093",
     "status": "completed"
    },
    "tags": []
   },
   "outputs": [],
   "source": []
  },
  {
   "cell_type": "code",
   "execution_count": null,
   "id": "romance-sweden",
   "metadata": {
    "papermill": {
     "duration": 0.014956,
     "end_time": "2022-03-12T02:05:36.092879",
     "exception": false,
     "start_time": "2022-03-12T02:05:36.077923",
     "status": "completed"
    },
    "tags": []
   },
   "outputs": [],
   "source": []
  },
  {
   "cell_type": "code",
   "execution_count": null,
   "id": "dietary-statistics",
   "metadata": {
    "papermill": {
     "duration": 0.014803,
     "end_time": "2022-03-12T02:05:36.122518",
     "exception": false,
     "start_time": "2022-03-12T02:05:36.107715",
     "status": "completed"
    },
    "tags": []
   },
   "outputs": [],
   "source": []
  }
 ],
 "metadata": {
  "kernelspec": {
   "display_name": "Python 3",
   "language": "python",
   "name": "python3"
  },
  "language_info": {
   "codemirror_mode": {
    "name": "ipython",
    "version": 3
   },
   "file_extension": ".py",
   "mimetype": "text/x-python",
   "name": "python",
   "nbconvert_exporter": "python",
   "pygments_lexer": "ipython3",
   "version": "3.6.15"
  },
  "papermill": {
   "default_parameters": {},
   "duration": 14.131889,
   "end_time": "2022-03-12T02:05:36.658590",
   "environment_variables": {},
   "exception": null,
   "input_path": "Market-News.ipynb",
   "output_path": "Market-News.ipynb",
   "parameters": {},
   "start_time": "2022-03-12T02:05:22.526701",
   "version": "2.2.2"
  }
 },
 "nbformat": 4,
 "nbformat_minor": 5
}