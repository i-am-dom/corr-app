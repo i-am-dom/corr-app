{
 "cells": [
  {
   "cell_type": "markdown",
   "id": "short-greensboro",
   "metadata": {
    "papermill": {
     "duration": 0.01962,
     "end_time": "2022-02-26T02:00:02.648316",
     "exception": false,
     "start_time": "2022-02-26T02:00:02.628696",
     "status": "completed"
    },
    "tags": []
   },
   "source": [
    "# Kriptovaliutų naujienos"
   ]
  },
  {
   "cell_type": "code",
   "execution_count": 1,
   "id": "functioning-knowing",
   "metadata": {
    "execution": {
     "iopub.execute_input": "2022-02-26T02:00:02.682048Z",
     "iopub.status.busy": "2022-02-26T02:00:02.681418Z",
     "iopub.status.idle": "2022-02-26T02:00:04.156374Z",
     "shell.execute_reply": "2022-02-26T02:00:04.155822Z"
    },
    "papermill": {
     "duration": 1.496696,
     "end_time": "2022-02-26T02:00:04.156530",
     "exception": false,
     "start_time": "2022-02-26T02:00:02.659834",
     "status": "completed"
    },
    "tags": []
   },
   "outputs": [],
   "source": [
    "#hide_input\n",
    "import warnings\n",
    "warnings.filterwarnings('ignore')\n",
    "from scripts.read_data import read_api\n",
    "from scripts.read_data import read_news\n",
    "from scripts.read_data import read_covid\n",
    "import matplotlib.pyplot as plt \n",
    "from IPython.display import Markdown as md"
   ]
  },
  {
   "cell_type": "code",
   "execution_count": 2,
   "id": "shared-acceptance",
   "metadata": {
    "execution": {
     "iopub.execute_input": "2022-02-26T02:00:04.186358Z",
     "iopub.status.busy": "2022-02-26T02:00:04.185138Z",
     "iopub.status.idle": "2022-02-26T02:00:24.594262Z",
     "shell.execute_reply": "2022-02-26T02:00:24.593662Z"
    },
    "papermill": {
     "duration": 20.426516,
     "end_time": "2022-02-26T02:00:24.594412",
     "exception": false,
     "start_time": "2022-02-26T02:00:04.167896",
     "status": "completed"
    },
    "tags": []
   },
   "outputs": [],
   "source": [
    "#hide_input\n",
    "blockchain = read_news('blockchain') \n",
    "btc = read_news('btc') \n",
    "xrp = read_news('xrp') \n",
    "trx = read_news('trx') \n",
    "eth = read_news('eth')  \n",
    "ada = read_news('ada')\n",
    "exchange = read_news('exchange') "
   ]
  },
  {
   "cell_type": "code",
   "execution_count": 3,
   "id": "synthetic-notion",
   "metadata": {
    "execution": {
     "iopub.execute_input": "2022-02-26T02:00:24.622024Z",
     "iopub.status.busy": "2022-02-26T02:00:24.621436Z",
     "iopub.status.idle": "2022-02-26T02:00:24.624154Z",
     "shell.execute_reply": "2022-02-26T02:00:24.624591Z"
    },
    "papermill": {
     "duration": 0.019855,
     "end_time": "2022-02-26T02:00:24.624731",
     "exception": false,
     "start_time": "2022-02-26T02:00:24.604876",
     "status": "completed"
    },
    "tags": []
   },
   "outputs": [
    {
     "data": {
      "text/markdown": [
       "- Avalanche Review: The Fastest Transaction Finality Platform.  Avalanche is the world’s first decentralised smart contract platform with near-instant transaction finality, designed for the size of global banking. As Solidity works out-of-the-box, Ethereum developers can quickly build on Avalanche. People think that blockchains will be sluggish and non-scalable over time. The Avalanche consensus uses a revolutionary approach to the consensus to deliver strong safety guarantees, speedy finality, and high throughput without compromising decentralisation. The Avalanche Consensus Protocol is the consensus mechanism used by Avalanche. Overview of Avalanche Platform Exchange Chain (X-Chain), Platform Chain (P-Chain), and Contract Chain (C-Chain) are the three built-in blockchains of Avalanche. The Primary Network validates and secures all three blockchains. All members of all custom subnets must also be members of the Primary Network by staking at least 2,000 AVAX. Exchange Chain (X-Chain) X-Chain uses Avalanche Consensus Mechanism. X-Chain is a UTXO-based chain structured as a directed acyclic graph. The default asset chain for Avalanche’s native AVAX token allows new assets, including utility tokens, NFTs, and smart contract platforms, to be created and traded. The X-Chain is an instance of the Avalanche Virtual Machine (AVM). Contract Chain (C-Chain) The C-Chain is the principal chain that Avalanche users connect with for DeFi and NFT activities, and it hosts smart contracts. It is a linear c... ... [| Skaityti daugiau](https://www.cryptoknowmics.com/news/avalanche-review-the-fastest-transaction-finality-platform/) "
      ],
      "text/plain": [
       "<IPython.core.display.Markdown object>"
      ]
     },
     "execution_count": 3,
     "metadata": {},
     "output_type": "execute_result"
    }
   ],
   "source": [
    "#hide_input\n",
    "#md('##### {}'.format(titleBTC)) \n",
    "md(\"- {}{} {}{} [| Skaityti daugiau]({}) \".format(blockchain['title'],'. ', blockchain['body'], ' ...', blockchain['url']))"
   ]
  },
  {
   "cell_type": "code",
   "execution_count": 4,
   "id": "aging-caution",
   "metadata": {
    "execution": {
     "iopub.execute_input": "2022-02-26T02:00:24.652305Z",
     "iopub.status.busy": "2022-02-26T02:00:24.651553Z",
     "iopub.status.idle": "2022-02-26T02:00:24.657206Z",
     "shell.execute_reply": "2022-02-26T02:00:24.656737Z"
    },
    "papermill": {
     "duration": 0.021914,
     "end_time": "2022-02-26T02:00:24.657329",
     "exception": false,
     "start_time": "2022-02-26T02:00:24.635415",
     "status": "completed"
    },
    "tags": []
   },
   "outputs": [
    {
     "data": {
      "text/markdown": [
       "- Federal Grand Jury Indicts BitConnect Founder Over Alleged $2.4B Crypto Scheme.  Satish Kumbhani remains at large, according to the Department of Justice. ... [| Skaityti daugiau](https://decrypt.co/93899/federal-grand-jury-indicts-bitconnect-founder-alleged-crypto-scheme) "
      ],
      "text/plain": [
       "<IPython.core.display.Markdown object>"
      ]
     },
     "execution_count": 4,
     "metadata": {},
     "output_type": "execute_result"
    }
   ],
   "source": [
    "#hide_input\n",
    "#md('##### {}'.format(titleBTC)) \n",
    "md(\"- {}{} {}{} [| Skaityti daugiau]({}) \".format(btc['title'],'. ', btc['body'], ' ...', btc['url']))"
   ]
  },
  {
   "cell_type": "code",
   "execution_count": 5,
   "id": "organic-actress",
   "metadata": {
    "execution": {
     "iopub.execute_input": "2022-02-26T02:00:24.686674Z",
     "iopub.status.busy": "2022-02-26T02:00:24.685800Z",
     "iopub.status.idle": "2022-02-26T02:00:24.688760Z",
     "shell.execute_reply": "2022-02-26T02:00:24.689222Z"
    },
    "papermill": {
     "duration": 0.02132,
     "end_time": "2022-02-26T02:00:24.689360",
     "exception": false,
     "start_time": "2022-02-26T02:00:24.668040",
     "status": "completed"
    },
    "tags": []
   },
   "outputs": [
    {
     "data": {
      "text/markdown": [
       "- Will The SEC Being Reluctant In Stepping Back With Its DPPs, Push Ripple’s Win To The Bears?.  The post Will The SEC Being Reluctant In Stepping Back With Its DPPs, Push Ripple’s Win To The Bears? appeared first on Coinpedia - Fintech &amp; Cryptocurreny News Media| Crypto GuideThe crypto sphere has come across a bright day, following the gloomy market trends of the previous day. In the interim, the industry’s widely known lawsuit has stricken the now sixth largest crypto asset XRP. Has sailed to yet another filing, which has let down the XRP army who were thrilled following the recent ruling. &#8230; ... [| Skaityti daugiau](https://coinpedia.org/ripple/will-the-sec-be-reluctant-in-stepping-back-with-its-dpps/) "
      ],
      "text/plain": [
       "<IPython.core.display.Markdown object>"
      ]
     },
     "execution_count": 5,
     "metadata": {},
     "output_type": "execute_result"
    }
   ],
   "source": [
    "#hide_input\n",
    "#md('##### {}'.format(titleBTC)) \n",
    "md(\"- {}{} {}{} [| Skaityti daugiau]({}) \".format(xrp['title'],'. ', xrp['body'], ' ...', xrp['url']))"
   ]
  },
  {
   "cell_type": "code",
   "execution_count": 6,
   "id": "prompt-farmer",
   "metadata": {
    "execution": {
     "iopub.execute_input": "2022-02-26T02:00:24.719228Z",
     "iopub.status.busy": "2022-02-26T02:00:24.718147Z",
     "iopub.status.idle": "2022-02-26T02:00:24.721718Z",
     "shell.execute_reply": "2022-02-26T02:00:24.721217Z"
    },
    "papermill": {
     "duration": 0.021135,
     "end_time": "2022-02-26T02:00:24.721835",
     "exception": false,
     "start_time": "2022-02-26T02:00:24.700700",
     "status": "completed"
    },
    "tags": []
   },
   "outputs": [
    {
     "data": {
      "text/markdown": [
       "- Tron (TRX) Price Analysis: Make-or-Break Zone At $0.064.  Tron price started a decent increase above the $0.0600 level against the US Dollar. TRX price is now trading below $0.0640 and the 55 simple moving average (4-hours). There was a break above a major bearish trend line with resistance near $0.0622 on the 4-hours chart (data feed via Bitfinex). The pair could continue to...The post Tron (TRX) Price Analysis: Make-or-Break Zone At $0.064 appeared first on Live Bitcoin News. ... [| Skaityti daugiau](https://www.livebitcoinnews.com/tron-trx-price-analysis-make-or-break-zone-at-0-064/) "
      ],
      "text/plain": [
       "<IPython.core.display.Markdown object>"
      ]
     },
     "execution_count": 6,
     "metadata": {},
     "output_type": "execute_result"
    }
   ],
   "source": [
    "#hide_input\n",
    "#md('##### {}'.format(titleBTC)) \n",
    "md(\"- {}{} {}{} [| Skaityti daugiau]({}) \".format(trx['title'],'. ', trx['body'], ' ...', trx['url']))"
   ]
  },
  {
   "cell_type": "code",
   "execution_count": 7,
   "id": "illegal-greece",
   "metadata": {
    "execution": {
     "iopub.execute_input": "2022-02-26T02:00:24.751972Z",
     "iopub.status.busy": "2022-02-26T02:00:24.749998Z",
     "iopub.status.idle": "2022-02-26T02:00:24.755313Z",
     "shell.execute_reply": "2022-02-26T02:00:24.754727Z"
    },
    "papermill": {
     "duration": 0.021588,
     "end_time": "2022-02-26T02:00:24.755437",
     "exception": false,
     "start_time": "2022-02-26T02:00:24.733849",
     "status": "completed"
    },
    "tags": []
   },
   "outputs": [
    {
     "data": {
      "text/markdown": [
       "- Terra (LUNA) and Avalanche (AVAX) Price Set For a Bumpy Ride ! Here’s What Next?.  The post Terra (LUNA) and Avalanche (AVAX) Price Set For a Bumpy Ride ! Here&#8217;s What Next? appeared first on Coinpedia - Fintech &amp; Cryptocurreny News Media| Crypto GuideThe crypto market has finally turned green after a disappointing week. Bitcoin, the market leader, rose about 9%, while Ethereum climbed close to 10%. With a gain of nearly 15%, Terra (LUNA) is the top performer among the main altcoins. Despite outperforming several other digital assets over the previous few months, a renowned crypto analyst &#8230; ... [| Skaityti daugiau](https://coinpedia.org/uncategorized/terra-luna-and-avalanche-avax-price-set-for-a-bumpy-ride-heres-what-next/) "
      ],
      "text/plain": [
       "<IPython.core.display.Markdown object>"
      ]
     },
     "execution_count": 7,
     "metadata": {},
     "output_type": "execute_result"
    }
   ],
   "source": [
    "#hide_input\n",
    "#md('##### {}'.format(titleBTC)) \n",
    "md(\"- {}{} {}{} [| Skaityti daugiau]({}) \".format(eth['title'],'. ', eth['body'], ' ...', eth['url']))"
   ]
  },
  {
   "cell_type": "code",
   "execution_count": 8,
   "id": "sublime-lounge",
   "metadata": {
    "execution": {
     "iopub.execute_input": "2022-02-26T02:00:24.788013Z",
     "iopub.status.busy": "2022-02-26T02:00:24.786980Z",
     "iopub.status.idle": "2022-02-26T02:00:24.789988Z",
     "shell.execute_reply": "2022-02-26T02:00:24.790477Z"
    },
    "papermill": {
     "duration": 0.022919,
     "end_time": "2022-02-26T02:00:24.790625",
     "exception": false,
     "start_time": "2022-02-26T02:00:24.767706",
     "status": "completed"
    },
    "tags": []
   },
   "outputs": [
    {
     "data": {
      "text/markdown": [
       "- Cardano Attempts Strong Recovery! Whales Stand the Ground.  The post Cardano Attempts Strong Recovery! Whales Stand the Ground appeared first on Coinpedia - Fintech &amp; Cryptocurreny News Media| Crypto GuideThe price of Cardano (ADA) has risen as the weekend begins to buck the previous day&#8217;s trend. The altcoin has dropped significantly in recent days and is now trading at a critical support level. Beyond it, a breach of its two stable support levels might send the price crashing to $0.74. The ADA/USD currency pair &#8230; ... [| Skaityti daugiau](https://coinpedia.org/altcoin/cardano-attempts-strong-recovery-whales-stand-the-ground/) "
      ],
      "text/plain": [
       "<IPython.core.display.Markdown object>"
      ]
     },
     "execution_count": 8,
     "metadata": {},
     "output_type": "execute_result"
    }
   ],
   "source": [
    "#hide_input\n",
    "#md('##### {}'.format(titleBTC)) \n",
    "md(\"- {}{} {}{} [| Skaityti daugiau]({}) \".format(ada['title'],'. ', ada['body'], ' ...', ada['url']))"
   ]
  },
  {
   "cell_type": "code",
   "execution_count": 9,
   "id": "specified-ordering",
   "metadata": {
    "execution": {
     "iopub.execute_input": "2022-02-26T02:00:24.822336Z",
     "iopub.status.busy": "2022-02-26T02:00:24.820340Z",
     "iopub.status.idle": "2022-02-26T02:00:24.826673Z",
     "shell.execute_reply": "2022-02-26T02:00:24.827146Z"
    },
    "papermill": {
     "duration": 0.024194,
     "end_time": "2022-02-26T02:00:24.827284",
     "exception": false,
     "start_time": "2022-02-26T02:00:24.803090",
     "status": "completed"
    },
    "tags": []
   },
   "outputs": [
    {
     "data": {
      "text/markdown": [
       "- Crypto Exchange Bitmex’s Founders Plead Guilty to Bank Secrecy Act Violations.  The founders of cryptocurrency derivatives exchange Bitmex, Arthur Hayes and Benjamin Delo, have pled guilty to violations of the U.S. Bank Secrecy Act. &#x201C;As a result of its willful failure to implement AML and KYC programs, Bitmex was in effect a money-laundering platform,&#x201D; said the U.S. Department of Justice. Bitmex&#x2019;s Founders Guilty of Bank Secrecy [&#8230;] ... [| Skaityti daugiau](https://news.bitcoin.com/crypto-exchange-bitmexs-founders-plead-guilty-to-bank-secrecy-act-violations/) "
      ],
      "text/plain": [
       "<IPython.core.display.Markdown object>"
      ]
     },
     "execution_count": 9,
     "metadata": {},
     "output_type": "execute_result"
    }
   ],
   "source": [
    "#hide_input\n",
    "#md('##### {}'.format(titleBTC)) \n",
    "md(\"- {}{} {}{} [| Skaityti daugiau]({}) \".format(exchange['title'],'. ', exchange['body'], ' ...', exchange['url']))"
   ]
  },
  {
   "cell_type": "code",
   "execution_count": null,
   "id": "tender-livestock",
   "metadata": {
    "papermill": {
     "duration": 0.012745,
     "end_time": "2022-02-26T02:00:24.852973",
     "exception": false,
     "start_time": "2022-02-26T02:00:24.840228",
     "status": "completed"
    },
    "tags": []
   },
   "outputs": [],
   "source": []
  },
  {
   "cell_type": "code",
   "execution_count": null,
   "id": "appreciated-diamond",
   "metadata": {
    "papermill": {
     "duration": 0.012821,
     "end_time": "2022-02-26T02:00:24.878580",
     "exception": false,
     "start_time": "2022-02-26T02:00:24.865759",
     "status": "completed"
    },
    "tags": []
   },
   "outputs": [],
   "source": []
  },
  {
   "cell_type": "code",
   "execution_count": null,
   "id": "romance-sweden",
   "metadata": {
    "papermill": {
     "duration": 0.012745,
     "end_time": "2022-02-26T02:00:24.905248",
     "exception": false,
     "start_time": "2022-02-26T02:00:24.892503",
     "status": "completed"
    },
    "tags": []
   },
   "outputs": [],
   "source": []
  },
  {
   "cell_type": "code",
   "execution_count": null,
   "id": "dietary-statistics",
   "metadata": {
    "papermill": {
     "duration": 0.013071,
     "end_time": "2022-02-26T02:00:24.931206",
     "exception": false,
     "start_time": "2022-02-26T02:00:24.918135",
     "status": "completed"
    },
    "tags": []
   },
   "outputs": [],
   "source": []
  }
 ],
 "metadata": {
  "kernelspec": {
   "display_name": "Python 3",
   "language": "python",
   "name": "python3"
  },
  "language_info": {
   "codemirror_mode": {
    "name": "ipython",
    "version": 3
   },
   "file_extension": ".py",
   "mimetype": "text/x-python",
   "name": "python",
   "nbconvert_exporter": "python",
   "pygments_lexer": "ipython3",
   "version": "3.6.15"
  },
  "papermill": {
   "default_parameters": {},
   "duration": 24.137322,
   "end_time": "2022-02-26T02:00:25.465055",
   "environment_variables": {},
   "exception": null,
   "input_path": "Market-News.ipynb",
   "output_path": "Market-News.ipynb",
   "parameters": {},
   "start_time": "2022-02-26T02:00:01.327733",
   "version": "2.2.2"
  }
 },
 "nbformat": 4,
 "nbformat_minor": 5
}