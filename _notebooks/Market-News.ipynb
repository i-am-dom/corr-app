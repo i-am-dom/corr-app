{
 "cells": [
  {
   "cell_type": "markdown",
   "id": "short-greensboro",
   "metadata": {
    "papermill": {
     "duration": 0.016102,
     "end_time": "2022-03-15T02:19:28.264071",
     "exception": false,
     "start_time": "2022-03-15T02:19:28.247969",
     "status": "completed"
    },
    "tags": []
   },
   "source": [
    "# Kriptovaliutų naujienos"
   ]
  },
  {
   "cell_type": "code",
   "execution_count": 1,
   "id": "functioning-knowing",
   "metadata": {
    "execution": {
     "iopub.execute_input": "2022-03-15T02:19:28.299767Z",
     "iopub.status.busy": "2022-03-15T02:19:28.299066Z",
     "iopub.status.idle": "2022-03-15T02:19:29.977161Z",
     "shell.execute_reply": "2022-03-15T02:19:29.977683Z"
    },
    "papermill": {
     "duration": 1.701977,
     "end_time": "2022-03-15T02:19:29.977989",
     "exception": false,
     "start_time": "2022-03-15T02:19:28.276012",
     "status": "completed"
    },
    "tags": []
   },
   "outputs": [],
   "source": [
    "#hide_input\n",
    "import warnings\n",
    "warnings.filterwarnings('ignore')\n",
    "from scripts.read_data import read_api\n",
    "from scripts.read_data import read_news\n",
    "from scripts.read_data import read_covid\n",
    "import matplotlib.pyplot as plt \n",
    "from IPython.display import Markdown as md"
   ]
  },
  {
   "cell_type": "code",
   "execution_count": 2,
   "id": "shared-acceptance",
   "metadata": {
    "execution": {
     "iopub.execute_input": "2022-03-15T02:19:30.008899Z",
     "iopub.status.busy": "2022-03-15T02:19:30.008269Z",
     "iopub.status.idle": "2022-03-15T02:19:38.960743Z",
     "shell.execute_reply": "2022-03-15T02:19:38.961277Z"
    },
    "papermill": {
     "duration": 8.97138,
     "end_time": "2022-03-15T02:19:38.961502",
     "exception": false,
     "start_time": "2022-03-15T02:19:29.990122",
     "status": "completed"
    },
    "tags": []
   },
   "outputs": [],
   "source": [
    "#hide_input\n",
    "blockchain = read_news('blockchain') \n",
    "btc = read_news('btc') \n",
    "xrp = read_news('xrp') \n",
    "trx = read_news('trx') \n",
    "eth = read_news('eth')  \n",
    "ada = read_news('ada')\n",
    "exchange = read_news('exchange') "
   ]
  },
  {
   "cell_type": "code",
   "execution_count": 3,
   "id": "synthetic-notion",
   "metadata": {
    "execution": {
     "iopub.execute_input": "2022-03-15T02:19:38.995724Z",
     "iopub.status.busy": "2022-03-15T02:19:38.994941Z",
     "iopub.status.idle": "2022-03-15T02:19:39.002228Z",
     "shell.execute_reply": "2022-03-15T02:19:39.002820Z"
    },
    "papermill": {
     "duration": 0.028074,
     "end_time": "2022-03-15T02:19:39.002992",
     "exception": false,
     "start_time": "2022-03-15T02:19:38.974918",
     "status": "completed"
    },
    "tags": []
   },
   "outputs": [
    {
     "data": {
      "text/markdown": [
       "- Austin Mayor Proposes Bitcoin to be Accepted for Payments for Taxes, Fees, Penalties.  Steve Adler believes Austin's economy and the locals' well-being could improve should the city embrace blockchain technology and bitcoin. ... [| Skaityti daugiau](https://cryptopotato.com/austin-mayor-proposes-bitcoin-to-be-accepted-for-payments-for-taxes-fees-penalties/) "
      ],
      "text/plain": [
       "<IPython.core.display.Markdown object>"
      ]
     },
     "execution_count": 3,
     "metadata": {},
     "output_type": "execute_result"
    }
   ],
   "source": [
    "#hide_input\n",
    "#md('##### {}'.format(titleBTC)) \n",
    "md(\"- {}{} {}{} [| Skaityti daugiau]({}) \".format(blockchain['title'],'. ', blockchain['body'], ' ...', blockchain['url']))"
   ]
  },
  {
   "cell_type": "code",
   "execution_count": 4,
   "id": "aging-caution",
   "metadata": {
    "execution": {
     "iopub.execute_input": "2022-03-15T02:19:39.034022Z",
     "iopub.status.busy": "2022-03-15T02:19:39.033321Z",
     "iopub.status.idle": "2022-03-15T02:19:39.037297Z",
     "shell.execute_reply": "2022-03-15T02:19:39.036673Z"
    },
    "papermill": {
     "duration": 0.022108,
     "end_time": "2022-03-15T02:19:39.037460",
     "exception": false,
     "start_time": "2022-03-15T02:19:39.015352",
     "status": "completed"
    },
    "tags": []
   },
   "outputs": [
    {
     "data": {
      "text/markdown": [
       "- Elon Musk Says Tesla and Spacex See Significant Inflation Pressure — Confirms He Won’t Sell Crypto.  Tesla and Spacex CEO Elon Musk has revealed that his two companies are seeing significant inflation pressure in raw materials and logistics. He advised people to own physical things when inflation is high but stressed he will not sell his cryptocurrencies: bitcoin, ether, and dogecoin. Elon Musk Discusses High Inflation The CEO of Tesla and [&#8230;] ... [| Skaityti daugiau](https://news.bitcoin.com/elon-musk-tesla-spacex-see-significant-inflation-pressure-confirms-he-wont-sell-crypto/) "
      ],
      "text/plain": [
       "<IPython.core.display.Markdown object>"
      ]
     },
     "execution_count": 4,
     "metadata": {},
     "output_type": "execute_result"
    }
   ],
   "source": [
    "#hide_input\n",
    "#md('##### {}'.format(titleBTC)) \n",
    "md(\"- {}{} {}{} [| Skaityti daugiau]({}) \".format(btc['title'],'. ', btc['body'], ' ...', btc['url']))"
   ]
  },
  {
   "cell_type": "code",
   "execution_count": 5,
   "id": "organic-actress",
   "metadata": {
    "execution": {
     "iopub.execute_input": "2022-03-15T02:19:39.067595Z",
     "iopub.status.busy": "2022-03-15T02:19:39.066536Z",
     "iopub.status.idle": "2022-03-15T02:19:39.073322Z",
     "shell.execute_reply": "2022-03-15T02:19:39.072768Z"
    },
    "papermill": {
     "duration": 0.023859,
     "end_time": "2022-03-15T02:19:39.073450",
     "exception": false,
     "start_time": "2022-03-15T02:19:39.049591",
     "status": "completed"
    },
    "tags": []
   },
   "outputs": [
    {
     "data": {
      "text/markdown": [
       "- Motions denied for both SEC and Ripple as battle continues.  Ripple CEO Garlington claims a “big win” in the dismissal of an SEC motion while remaining silent about the ruling on his own motion. ... [| Skaityti daugiau](https://cointelegraph.com/news/motions-denied-for-both-sec-and-ripple-as-battle-continues) "
      ],
      "text/plain": [
       "<IPython.core.display.Markdown object>"
      ]
     },
     "execution_count": 5,
     "metadata": {},
     "output_type": "execute_result"
    }
   ],
   "source": [
    "#hide_input\n",
    "#md('##### {}'.format(titleBTC)) \n",
    "md(\"- {}{} {}{} [| Skaityti daugiau]({}) \".format(xrp['title'],'. ', xrp['body'], ' ...', xrp['url']))"
   ]
  },
  {
   "cell_type": "code",
   "execution_count": 6,
   "id": "prompt-farmer",
   "metadata": {
    "execution": {
     "iopub.execute_input": "2022-03-15T02:19:39.105198Z",
     "iopub.status.busy": "2022-03-15T02:19:39.104564Z",
     "iopub.status.idle": "2022-03-15T02:19:39.109155Z",
     "shell.execute_reply": "2022-03-15T02:19:39.109636Z"
    },
    "papermill": {
     "duration": 0.023475,
     "end_time": "2022-03-15T02:19:39.109809",
     "exception": false,
     "start_time": "2022-03-15T02:19:39.086334",
     "status": "completed"
    },
    "tags": []
   },
   "outputs": [
    {
     "data": {
      "text/markdown": [
       "- What SEC v. Ripple has in common with the allegations against Sun, TRON.  If TRON DAO &#8211; née TRON &#8211; wasn&#8217;t enough of a conversation starter, an investigative piece by journalist Chris Harland-Dunaway published in The Verge dropped a bomb. It accused Tron founder Justin Sun of actions ranging from getting ICO ban tip-offs to insider trading. In a conversation with journalist Laura Shin, Harland-Dunaway revealed more details [&#8230;] ... [| Skaityti daugiau](https://ambcrypto.com/what-sec-v-ripple-has-in-common-with-the-allegations-against-sun-tron/) "
      ],
      "text/plain": [
       "<IPython.core.display.Markdown object>"
      ]
     },
     "execution_count": 6,
     "metadata": {},
     "output_type": "execute_result"
    }
   ],
   "source": [
    "#hide_input\n",
    "#md('##### {}'.format(titleBTC)) \n",
    "md(\"- {}{} {}{} [| Skaityti daugiau]({}) \".format(trx['title'],'. ', trx['body'], ' ...', trx['url']))"
   ]
  },
  {
   "cell_type": "code",
   "execution_count": 7,
   "id": "illegal-greece",
   "metadata": {
    "execution": {
     "iopub.execute_input": "2022-03-15T02:19:39.141903Z",
     "iopub.status.busy": "2022-03-15T02:19:39.141068Z",
     "iopub.status.idle": "2022-03-15T02:19:39.144701Z",
     "shell.execute_reply": "2022-03-15T02:19:39.145388Z"
    },
    "papermill": {
     "duration": 0.023086,
     "end_time": "2022-03-15T02:19:39.145553",
     "exception": false,
     "start_time": "2022-03-15T02:19:39.122467",
     "status": "completed"
    },
    "tags": []
   },
   "outputs": [
    {
     "data": {
      "text/markdown": [
       "- Ethereum 'Merge' edging closer with final Kiln testnet launch.  The Kiln testnet is the final public testing phase before the long-awaited Ethereum ‘Merge’ and the end of proof-of-work consensus. ... [| Skaityti daugiau](https://cointelegraph.com/news/ethereum-merge-edging-closer-with-final-kiln-testnet-launch) "
      ],
      "text/plain": [
       "<IPython.core.display.Markdown object>"
      ]
     },
     "execution_count": 7,
     "metadata": {},
     "output_type": "execute_result"
    }
   ],
   "source": [
    "#hide_input\n",
    "#md('##### {}'.format(titleBTC)) \n",
    "md(\"- {}{} {}{} [| Skaityti daugiau]({}) \".format(eth['title'],'. ', eth['body'], ' ...', eth['url']))"
   ]
  },
  {
   "cell_type": "code",
   "execution_count": 8,
   "id": "sublime-lounge",
   "metadata": {
    "execution": {
     "iopub.execute_input": "2022-03-15T02:19:39.177925Z",
     "iopub.status.busy": "2022-03-15T02:19:39.176787Z",
     "iopub.status.idle": "2022-03-15T02:19:39.182625Z",
     "shell.execute_reply": "2022-03-15T02:19:39.183219Z"
    },
    "papermill": {
     "duration": 0.025007,
     "end_time": "2022-03-15T02:19:39.183354",
     "exception": false,
     "start_time": "2022-03-15T02:19:39.158347",
     "status": "completed"
    },
    "tags": []
   },
   "outputs": [
    {
     "data": {
      "text/markdown": [
       "- Cardano price analysis: Cardano soars to $0.8073 but stuck in stagnation mode.  TL;DR Breakdown Cardano price analysis today shows a bullish trend The current resistance is seen at $0.821 The support level for ADA/USD is present at $0.75 Cardano price analysis today [&#8230;] ... [| Skaityti daugiau](https://www.cryptopolitan.com/cardano-price-analysis-2022-03-15/) "
      ],
      "text/plain": [
       "<IPython.core.display.Markdown object>"
      ]
     },
     "execution_count": 8,
     "metadata": {},
     "output_type": "execute_result"
    }
   ],
   "source": [
    "#hide_input\n",
    "#md('##### {}'.format(titleBTC)) \n",
    "md(\"- {}{} {}{} [| Skaityti daugiau]({}) \".format(ada['title'],'. ', ada['body'], ' ...', ada['url']))"
   ]
  },
  {
   "cell_type": "code",
   "execution_count": 9,
   "id": "specified-ordering",
   "metadata": {
    "execution": {
     "iopub.execute_input": "2022-03-15T02:19:39.219334Z",
     "iopub.status.busy": "2022-03-15T02:19:39.218585Z",
     "iopub.status.idle": "2022-03-15T02:19:39.224611Z",
     "shell.execute_reply": "2022-03-15T02:19:39.225682Z"
    },
    "papermill": {
     "duration": 0.026848,
     "end_time": "2022-03-15T02:19:39.225862",
     "exception": false,
     "start_time": "2022-03-15T02:19:39.199014",
     "status": "completed"
    },
    "tags": []
   },
   "outputs": [
    {
     "data": {
      "text/markdown": [
       "- Ripple’s $XRP Lawsuit: Denial of SEC’s Motion to Strike ‘Fair Notice’ Defense Was ‘Huge Win’.  The CEO of Ripple Brad Garlinghouse has revealed on social media he believes the fintech firm has scored a “huge win” after the firm’s general counsel Stuart Alderoty revealed the court denied the U.S. Securities and Exchange Commission’s motion to strike its fair notice defense. Per Alderoty, the order revealed there’s a “serious question” as […] ... [| Skaityti daugiau](https://www.cryptoglobe.com/latest/2022/03/ripples-xrp-lawsuit-denial-of-secs-motion-to-strike-fair-notice-defense-was-huge-win/) "
      ],
      "text/plain": [
       "<IPython.core.display.Markdown object>"
      ]
     },
     "execution_count": 9,
     "metadata": {},
     "output_type": "execute_result"
    }
   ],
   "source": [
    "#hide_input\n",
    "#md('##### {}'.format(titleBTC)) \n",
    "md(\"- {}{} {}{} [| Skaityti daugiau]({}) \".format(exchange['title'],'. ', exchange['body'], ' ...', exchange['url']))"
   ]
  },
  {
   "cell_type": "code",
   "execution_count": null,
   "id": "tender-livestock",
   "metadata": {
    "papermill": {
     "duration": 0.014439,
     "end_time": "2022-03-15T02:19:39.254567",
     "exception": false,
     "start_time": "2022-03-15T02:19:39.240128",
     "status": "completed"
    },
    "tags": []
   },
   "outputs": [],
   "source": []
  },
  {
   "cell_type": "code",
   "execution_count": null,
   "id": "appreciated-diamond",
   "metadata": {
    "papermill": {
     "duration": 0.014317,
     "end_time": "2022-03-15T02:19:39.284380",
     "exception": false,
     "start_time": "2022-03-15T02:19:39.270063",
     "status": "completed"
    },
    "tags": []
   },
   "outputs": [],
   "source": []
  },
  {
   "cell_type": "code",
   "execution_count": null,
   "id": "romance-sweden",
   "metadata": {
    "papermill": {
     "duration": 0.014619,
     "end_time": "2022-03-15T02:19:39.319231",
     "exception": false,
     "start_time": "2022-03-15T02:19:39.304612",
     "status": "completed"
    },
    "tags": []
   },
   "outputs": [],
   "source": []
  },
  {
   "cell_type": "code",
   "execution_count": null,
   "id": "dietary-statistics",
   "metadata": {
    "papermill": {
     "duration": 0.013623,
     "end_time": "2022-03-15T02:19:39.347220",
     "exception": false,
     "start_time": "2022-03-15T02:19:39.333597",
     "status": "completed"
    },
    "tags": []
   },
   "outputs": [],
   "source": []
  }
 ],
 "metadata": {
  "kernelspec": {
   "display_name": "Python 3",
   "language": "python",
   "name": "python3"
  },
  "language_info": {
   "codemirror_mode": {
    "name": "ipython",
    "version": 3
   },
   "file_extension": ".py",
   "mimetype": "text/x-python",
   "name": "python",
   "nbconvert_exporter": "python",
   "pygments_lexer": "ipython3",
   "version": "3.6.15"
  },
  "papermill": {
   "default_parameters": {},
   "duration": 12.821757,
   "end_time": "2022-03-15T02:19:39.881262",
   "environment_variables": {},
   "exception": null,
   "input_path": "Market-News.ipynb",
   "output_path": "Market-News.ipynb",
   "parameters": {},
   "start_time": "2022-03-15T02:19:27.059505",
   "version": "2.2.2"
  }
 },
 "nbformat": 4,
 "nbformat_minor": 5
}