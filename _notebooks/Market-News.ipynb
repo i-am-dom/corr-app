{
 "cells": [
  {
   "cell_type": "markdown",
   "id": "short-greensboro",
   "metadata": {
    "papermill": {
     "duration": 0.013142,
     "end_time": "2021-09-16T02:04:51.671325",
     "exception": false,
     "start_time": "2021-09-16T02:04:51.658183",
     "status": "completed"
    },
    "tags": []
   },
   "source": [
    "# Kriptovaliutų naujienos"
   ]
  },
  {
   "cell_type": "code",
   "execution_count": 1,
   "id": "functioning-knowing",
   "metadata": {
    "execution": {
     "iopub.execute_input": "2021-09-16T02:04:51.700470Z",
     "iopub.status.busy": "2021-09-16T02:04:51.699934Z",
     "iopub.status.idle": "2021-09-16T02:04:52.897806Z",
     "shell.execute_reply": "2021-09-16T02:04:52.897262Z"
    },
    "papermill": {
     "duration": 1.21686,
     "end_time": "2021-09-16T02:04:52.897960",
     "exception": false,
     "start_time": "2021-09-16T02:04:51.681100",
     "status": "completed"
    },
    "tags": []
   },
   "outputs": [],
   "source": [
    "#hide_input\n",
    "import warnings\n",
    "warnings.filterwarnings('ignore')\n",
    "from scripts.read_data import read_api\n",
    "from scripts.read_data import read_news\n",
    "from scripts.read_data import read_covid\n",
    "import matplotlib.pyplot as plt \n",
    "from IPython.display import Markdown as md"
   ]
  },
  {
   "cell_type": "code",
   "execution_count": 2,
   "id": "shared-acceptance",
   "metadata": {
    "execution": {
     "iopub.execute_input": "2021-09-16T02:04:52.922233Z",
     "iopub.status.busy": "2021-09-16T02:04:52.921723Z",
     "iopub.status.idle": "2021-09-16T02:05:01.263977Z",
     "shell.execute_reply": "2021-09-16T02:05:01.264452Z"
    },
    "papermill": {
     "duration": 8.357303,
     "end_time": "2021-09-16T02:05:01.264608",
     "exception": false,
     "start_time": "2021-09-16T02:04:52.907305",
     "status": "completed"
    },
    "tags": []
   },
   "outputs": [],
   "source": [
    "#hide_input\n",
    "blockchain = read_news('blockchain') \n",
    "btc = read_news('btc') \n",
    "xrp = read_news('xrp') \n",
    "trx = read_news('trx') \n",
    "eth = read_news('eth')  \n",
    "ada = read_news('ada')\n",
    "exchange = read_news('exchange') "
   ]
  },
  {
   "cell_type": "code",
   "execution_count": 3,
   "id": "synthetic-notion",
   "metadata": {
    "execution": {
     "iopub.execute_input": "2021-09-16T02:05:01.289510Z",
     "iopub.status.busy": "2021-09-16T02:05:01.288948Z",
     "iopub.status.idle": "2021-09-16T02:05:01.291097Z",
     "shell.execute_reply": "2021-09-16T02:05:01.291497Z"
    },
    "papermill": {
     "duration": 0.017567,
     "end_time": "2021-09-16T02:05:01.291618",
     "exception": false,
     "start_time": "2021-09-16T02:05:01.274051",
     "status": "completed"
    },
    "tags": []
   },
   "outputs": [
    {
     "data": {
      "text/markdown": [
       "- Solana ($SOL) CEO Pushes Back on Crypto ‘Bubble’ Claims.  Anatoly Yakovenko, Co-Founder and CEO of Solana Labs, the technology company that is building high-performance L1 blockchain Solana, has refuted the notion that the crypto markets are in a bubble. During an interview on September 3 with Decrypt Daily podcast host Matthew Diemer, Yakovenko pushed back on the idea that the cryptomarkets are overvalued, despite […] ... [| Skaityti daugiau](https://www.cryptoglobe.com/latest/2021/09/solana-sol-ceo-pushes-back-on-crypto-bubble-claims/) "
      ],
      "text/plain": [
       "<IPython.core.display.Markdown object>"
      ]
     },
     "execution_count": 3,
     "metadata": {},
     "output_type": "execute_result"
    }
   ],
   "source": [
    "#hide_input\n",
    "#md('##### {}'.format(titleBTC)) \n",
    "md(\"- {}{} {}{} [| Skaityti daugiau]({}) \".format(blockchain['title'],'. ', blockchain['body'], ' ...', blockchain['url']))"
   ]
  },
  {
   "cell_type": "code",
   "execution_count": 4,
   "id": "aging-caution",
   "metadata": {
    "execution": {
     "iopub.execute_input": "2021-09-16T02:05:01.315144Z",
     "iopub.status.busy": "2021-09-16T02:05:01.314557Z",
     "iopub.status.idle": "2021-09-16T02:05:01.316605Z",
     "shell.execute_reply": "2021-09-16T02:05:01.317078Z"
    },
    "papermill": {
     "duration": 0.016382,
     "end_time": "2021-09-16T02:05:01.317214",
     "exception": false,
     "start_time": "2021-09-16T02:05:01.300832",
     "status": "completed"
    },
    "tags": []
   },
   "outputs": [
    {
     "data": {
      "text/markdown": [
       "- Bitcoin Price Heads For Golden Cross.  The bitcoin price 50-day moving average is looking to pass its 200-day moving average to the upside. ... [| Skaityti daugiau](https://bitcoinmagazine.com/markets/bitcoin-price-heads-for-golden-cross) "
      ],
      "text/plain": [
       "<IPython.core.display.Markdown object>"
      ]
     },
     "execution_count": 4,
     "metadata": {},
     "output_type": "execute_result"
    }
   ],
   "source": [
    "#hide_input\n",
    "#md('##### {}'.format(titleBTC)) \n",
    "md(\"- {}{} {}{} [| Skaityti daugiau]({}) \".format(btc['title'],'. ', btc['body'], ' ...', btc['url']))"
   ]
  },
  {
   "cell_type": "code",
   "execution_count": 5,
   "id": "organic-actress",
   "metadata": {
    "execution": {
     "iopub.execute_input": "2021-09-16T02:05:01.341224Z",
     "iopub.status.busy": "2021-09-16T02:05:01.340628Z",
     "iopub.status.idle": "2021-09-16T02:05:01.344235Z",
     "shell.execute_reply": "2021-09-16T02:05:01.344692Z"
    },
    "papermill": {
     "duration": 0.018063,
     "end_time": "2021-09-16T02:05:01.344822",
     "exception": false,
     "start_time": "2021-09-16T02:05:01.326759",
     "status": "completed"
    },
    "tags": []
   },
   "outputs": [
    {
     "data": {
      "text/markdown": [
       "- Price analysis 9/15: BTC, ETH, ADA, BNB, XRP, SOL, DOT, DOGE, UNI, LUNA.  Buyers continue to scoop up Bitcoin and altcoins on dips, a signal that there is strong demand at lower levels and that bullish momentum is building.  ... [| Skaityti daugiau](https://cointelegraph.com/news/price-analysis-9-15-btc-eth-ada-bnb-xrp-sol-dot-doge-uni-luna) "
      ],
      "text/plain": [
       "<IPython.core.display.Markdown object>"
      ]
     },
     "execution_count": 5,
     "metadata": {},
     "output_type": "execute_result"
    }
   ],
   "source": [
    "#hide_input\n",
    "#md('##### {}'.format(titleBTC)) \n",
    "md(\"- {}{} {}{} [| Skaityti daugiau]({}) \".format(xrp['title'],'. ', xrp['body'], ' ...', xrp['url']))"
   ]
  },
  {
   "cell_type": "code",
   "execution_count": 6,
   "id": "prompt-farmer",
   "metadata": {
    "execution": {
     "iopub.execute_input": "2021-09-16T02:05:01.368970Z",
     "iopub.status.busy": "2021-09-16T02:05:01.367950Z",
     "iopub.status.idle": "2021-09-16T02:05:01.371754Z",
     "shell.execute_reply": "2021-09-16T02:05:01.371330Z"
    },
    "papermill": {
     "duration": 0.016978,
     "end_time": "2021-09-16T02:05:01.371856",
     "exception": false,
     "start_time": "2021-09-16T02:05:01.354878",
     "status": "completed"
    },
    "tags": []
   },
   "outputs": [
    {
     "data": {
      "text/markdown": [
       "- Tron (TRX) Price Analysis: Bulls Aim Rally above $0.12.  Tron price started a major increase above the $0.1000 resistance against the US Dollar. TRX price is now trading above $0.1000 and the 55 simple moving average (4-hours). There is a major bullish trend line forming with support near $0.1085 on the 4-hours chart (data feed via Bitfinex). The pair could start another increase if...The post Tron (TRX) Price Analysis: Bulls Aim Rally above $0.12 appeared first on Live Bitcoin News. ... [| Skaityti daugiau](https://www.livebitcoinnews.com/tron-trx-price-analysis-bulls-aim-rally-above-0-12/) "
      ],
      "text/plain": [
       "<IPython.core.display.Markdown object>"
      ]
     },
     "execution_count": 6,
     "metadata": {},
     "output_type": "execute_result"
    }
   ],
   "source": [
    "#hide_input\n",
    "#md('##### {}'.format(titleBTC)) \n",
    "md(\"- {}{} {}{} [| Skaityti daugiau]({}) \".format(trx['title'],'. ', trx['body'], ' ...', trx['url']))"
   ]
  },
  {
   "cell_type": "code",
   "execution_count": 7,
   "id": "illegal-greece",
   "metadata": {
    "execution": {
     "iopub.execute_input": "2021-09-16T02:05:01.396769Z",
     "iopub.status.busy": "2021-09-16T02:05:01.396269Z",
     "iopub.status.idle": "2021-09-16T02:05:01.398859Z",
     "shell.execute_reply": "2021-09-16T02:05:01.399237Z"
    },
    "papermill": {
     "duration": 0.0172,
     "end_time": "2021-09-16T02:05:01.399358",
     "exception": false,
     "start_time": "2021-09-16T02:05:01.382158",
     "status": "completed"
    },
    "tags": []
   },
   "outputs": [
    {
     "data": {
      "text/markdown": [
       "- Crypto Analyst Explains How Cardano ($ADA) Can Emulate Success of Ethereum ($ETH).  Recently, popular crypto analyst and trader Benjamin Cowen outlined how Cardano can follow in the footsteps of Ethereum to achieve even greater success. In a video released on the eve of the launch of smart contracts support on the Cardano mainnet, i.e. the Alonzo hard fork combinator (HFC) event, Cowen told the over 538K subscribers […] ... [| Skaityti daugiau](https://www.cryptoglobe.com/latest/2021/09/crypto-analyst-explains-how-cardano-ada-can-emulate-success-of-ethereum-eth/) "
      ],
      "text/plain": [
       "<IPython.core.display.Markdown object>"
      ]
     },
     "execution_count": 7,
     "metadata": {},
     "output_type": "execute_result"
    }
   ],
   "source": [
    "#hide_input\n",
    "#md('##### {}'.format(titleBTC)) \n",
    "md(\"- {}{} {}{} [| Skaityti daugiau]({}) \".format(eth['title'],'. ', eth['body'], ' ...', eth['url']))"
   ]
  },
  {
   "cell_type": "code",
   "execution_count": 8,
   "id": "sublime-lounge",
   "metadata": {
    "execution": {
     "iopub.execute_input": "2021-09-16T02:05:01.425016Z",
     "iopub.status.busy": "2021-09-16T02:05:01.424517Z",
     "iopub.status.idle": "2021-09-16T02:05:01.427296Z",
     "shell.execute_reply": "2021-09-16T02:05:01.427723Z"
    },
    "papermill": {
     "duration": 0.018009,
     "end_time": "2021-09-16T02:05:01.427841",
     "exception": false,
     "start_time": "2021-09-16T02:05:01.409832",
     "status": "completed"
    },
    "tags": []
   },
   "outputs": [
    {
     "data": {
      "text/markdown": [
       "- Crypto Analyst Explains How Cardano ($ADA) Can Emulate Success of Ethereum ($ETH).  Recently, popular crypto analyst and trader Benjamin Cowen outlined how Cardano can follow in the footsteps of Ethereum to achieve even greater success. In a video released on the eve of the launch of smart contracts support on the Cardano mainnet, i.e. the Alonzo hard fork combinator (HFC) event, Cowen told the over 538K subscribers […] ... [| Skaityti daugiau](https://www.cryptoglobe.com/latest/2021/09/crypto-analyst-explains-how-cardano-ada-can-emulate-success-of-ethereum-eth/) "
      ],
      "text/plain": [
       "<IPython.core.display.Markdown object>"
      ]
     },
     "execution_count": 8,
     "metadata": {},
     "output_type": "execute_result"
    }
   ],
   "source": [
    "#hide_input\n",
    "#md('##### {}'.format(titleBTC)) \n",
    "md(\"- {}{} {}{} [| Skaityti daugiau]({}) \".format(ada['title'],'. ', ada['body'], ' ...', ada['url']))"
   ]
  },
  {
   "cell_type": "code",
   "execution_count": 9,
   "id": "specified-ordering",
   "metadata": {
    "execution": {
     "iopub.execute_input": "2021-09-16T02:05:01.454413Z",
     "iopub.status.busy": "2021-09-16T02:05:01.453912Z",
     "iopub.status.idle": "2021-09-16T02:05:01.457152Z",
     "shell.execute_reply": "2021-09-16T02:05:01.456730Z"
    },
    "papermill": {
     "duration": 0.018533,
     "end_time": "2021-09-16T02:05:01.457262",
     "exception": false,
     "start_time": "2021-09-16T02:05:01.438729",
     "status": "completed"
    },
    "tags": []
   },
   "outputs": [
    {
     "data": {
      "text/markdown": [
       "- US Senator Warren Presses SEC to Address Crypto Exchange Outages, High Transaction Fees, Financial Inclusion.  At the U.S. Senate Banking Committee hearing Tuesday, Senator Elizabeth Warren called on the chairman of the Securities and Exchange Commission (SEC), Gary Gensler, to increase oversight of cryptocurrency. She brought up several problems she associates with cryptocurrency that could hurt small investors. Senator Elizabeth Warren Says &#x2018;There&#x2019;s a Whole List of Problems With Crypto&#x2019; [&#8230;] ... [| Skaityti daugiau](https://news.bitcoin.com/us-senator-warren-presses-sec-to-address-crypto-exchange-outages-high-transaction-fees-financial-inclusion/) "
      ],
      "text/plain": [
       "<IPython.core.display.Markdown object>"
      ]
     },
     "execution_count": 9,
     "metadata": {},
     "output_type": "execute_result"
    }
   ],
   "source": [
    "#hide_input\n",
    "#md('##### {}'.format(titleBTC)) \n",
    "md(\"- {}{} {}{} [| Skaityti daugiau]({}) \".format(exchange['title'],'. ', exchange['body'], ' ...', exchange['url']))"
   ]
  },
  {
   "cell_type": "code",
   "execution_count": null,
   "id": "tender-livestock",
   "metadata": {
    "papermill": {
     "duration": 0.011157,
     "end_time": "2021-09-16T02:05:01.479619",
     "exception": false,
     "start_time": "2021-09-16T02:05:01.468462",
     "status": "completed"
    },
    "tags": []
   },
   "outputs": [],
   "source": []
  },
  {
   "cell_type": "code",
   "execution_count": null,
   "id": "appreciated-diamond",
   "metadata": {
    "papermill": {
     "duration": 0.011229,
     "end_time": "2021-09-16T02:05:01.502202",
     "exception": false,
     "start_time": "2021-09-16T02:05:01.490973",
     "status": "completed"
    },
    "tags": []
   },
   "outputs": [],
   "source": []
  },
  {
   "cell_type": "code",
   "execution_count": null,
   "id": "romance-sweden",
   "metadata": {
    "papermill": {
     "duration": 0.011227,
     "end_time": "2021-09-16T02:05:01.524613",
     "exception": false,
     "start_time": "2021-09-16T02:05:01.513386",
     "status": "completed"
    },
    "tags": []
   },
   "outputs": [],
   "source": []
  },
  {
   "cell_type": "code",
   "execution_count": null,
   "id": "dietary-statistics",
   "metadata": {
    "papermill": {
     "duration": 0.011191,
     "end_time": "2021-09-16T02:05:01.547102",
     "exception": false,
     "start_time": "2021-09-16T02:05:01.535911",
     "status": "completed"
    },
    "tags": []
   },
   "outputs": [],
   "source": []
  }
 ],
 "metadata": {
  "kernelspec": {
   "display_name": "Python 3",
   "language": "python",
   "name": "python3"
  },
  "language_info": {
   "codemirror_mode": {
    "name": "ipython",
    "version": 3
   },
   "file_extension": ".py",
   "mimetype": "text/x-python",
   "name": "python",
   "nbconvert_exporter": "python",
   "pygments_lexer": "ipython3",
   "version": "3.6.14"
  },
  "papermill": {
   "default_parameters": {},
   "duration": 11.371516,
   "end_time": "2021-09-16T02:05:02.066648",
   "environment_variables": {},
   "exception": null,
   "input_path": "Market-News.ipynb",
   "output_path": "Market-News.ipynb",
   "parameters": {},
   "start_time": "2021-09-16T02:04:50.695132",
   "version": "2.2.2"
  }
 },
 "nbformat": 4,
 "nbformat_minor": 5
}