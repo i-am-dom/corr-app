{
 "cells": [
  {
   "cell_type": "markdown",
   "id": "short-greensboro",
   "metadata": {
    "papermill": {
     "duration": 0.012594,
     "end_time": "2021-08-11T01:56:52.306874",
     "exception": false,
     "start_time": "2021-08-11T01:56:52.294280",
     "status": "completed"
    },
    "tags": []
   },
   "source": [
    "# Kriptovaliutų naujienos"
   ]
  },
  {
   "cell_type": "code",
   "execution_count": 1,
   "id": "functioning-knowing",
   "metadata": {
    "execution": {
     "iopub.execute_input": "2021-08-11T01:56:52.337496Z",
     "iopub.status.busy": "2021-08-11T01:56:52.336971Z",
     "iopub.status.idle": "2021-08-11T01:56:53.519446Z",
     "shell.execute_reply": "2021-08-11T01:56:53.518974Z"
    },
    "papermill": {
     "duration": 1.202999,
     "end_time": "2021-08-11T01:56:53.519583",
     "exception": false,
     "start_time": "2021-08-11T01:56:52.316584",
     "status": "completed"
    },
    "tags": []
   },
   "outputs": [],
   "source": [
    "#hide_input\n",
    "import warnings\n",
    "warnings.filterwarnings('ignore')\n",
    "from scripts.read_data import read_api\n",
    "from scripts.read_data import read_news\n",
    "from scripts.read_data import read_covid\n",
    "import matplotlib.pyplot as plt \n",
    "from IPython.display import Markdown as md"
   ]
  },
  {
   "cell_type": "code",
   "execution_count": 2,
   "id": "shared-acceptance",
   "metadata": {
    "execution": {
     "iopub.execute_input": "2021-08-11T01:56:53.545379Z",
     "iopub.status.busy": "2021-08-11T01:56:53.544454Z",
     "iopub.status.idle": "2021-08-11T01:57:02.530101Z",
     "shell.execute_reply": "2021-08-11T01:57:02.529600Z"
    },
    "papermill": {
     "duration": 9.001329,
     "end_time": "2021-08-11T01:57:02.530244",
     "exception": false,
     "start_time": "2021-08-11T01:56:53.528915",
     "status": "completed"
    },
    "tags": []
   },
   "outputs": [],
   "source": [
    "#hide_input\n",
    "blockchain = read_news('blockchain') \n",
    "btc = read_news('btc') \n",
    "xrp = read_news('xrp') \n",
    "trx = read_news('trx') \n",
    "eth = read_news('eth')  \n",
    "ada = read_news('ada')\n",
    "exchange = read_news('exchange') "
   ]
  },
  {
   "cell_type": "code",
   "execution_count": 3,
   "id": "synthetic-notion",
   "metadata": {
    "execution": {
     "iopub.execute_input": "2021-08-11T01:57:02.554860Z",
     "iopub.status.busy": "2021-08-11T01:57:02.554330Z",
     "iopub.status.idle": "2021-08-11T01:57:02.557123Z",
     "shell.execute_reply": "2021-08-11T01:57:02.556697Z"
    },
    "papermill": {
     "duration": 0.017633,
     "end_time": "2021-08-11T01:57:02.557231",
     "exception": false,
     "start_time": "2021-08-11T01:57:02.539598",
     "status": "completed"
    },
    "tags": []
   },
   "outputs": [
    {
     "data": {
      "text/markdown": [
       "- Inside Pantera Capital’s New Blockchain Fund.  Firm’s latest offering packages three of its existing strategies into one wrapper.The post Inside Pantera Capital’s New Blockchain Fund appeared first on Blockworks. ... [| Skaityti daugiau](https://blockworks.co/inside-pantera-capitals-new-blockchain-fund/) "
      ],
      "text/plain": [
       "<IPython.core.display.Markdown object>"
      ]
     },
     "execution_count": 3,
     "metadata": {},
     "output_type": "execute_result"
    }
   ],
   "source": [
    "#hide_input\n",
    "#md('##### {}'.format(titleBTC)) \n",
    "md(\"- {}{} {}{} [| Skaityti daugiau]({}) \".format(blockchain['title'],'. ', blockchain['body'], ' ...', blockchain['url']))"
   ]
  },
  {
   "cell_type": "code",
   "execution_count": 4,
   "id": "aging-caution",
   "metadata": {
    "execution": {
     "iopub.execute_input": "2021-08-11T01:57:02.580193Z",
     "iopub.status.busy": "2021-08-11T01:57:02.579700Z",
     "iopub.status.idle": "2021-08-11T01:57:02.582699Z",
     "shell.execute_reply": "2021-08-11T01:57:02.582293Z"
    },
    "papermill": {
     "duration": 0.016162,
     "end_time": "2021-08-11T01:57:02.582815",
     "exception": false,
     "start_time": "2021-08-11T01:57:02.566653",
     "status": "completed"
    },
    "tags": []
   },
   "outputs": [
    {
     "data": {
      "text/markdown": [
       "- These five North American firms mined 58% more bitcoin in July thanks to China.  Five North American bitcoin mining firms have churned out a total of 1,802 bitcoin in July – on average 58% more than what they did in June.The post These five North American firms mined 58% more bitcoin in July thanks to China appeared first on The Block. ... [| Skaityti daugiau](https://www.theblockcrypto.com/post/113861/american-public-bitcoin-miner-btc-july-china?utm_source=cryptocompare&utm_medium=rss) "
      ],
      "text/plain": [
       "<IPython.core.display.Markdown object>"
      ]
     },
     "execution_count": 4,
     "metadata": {},
     "output_type": "execute_result"
    }
   ],
   "source": [
    "#hide_input\n",
    "#md('##### {}'.format(titleBTC)) \n",
    "md(\"- {}{} {}{} [| Skaityti daugiau]({}) \".format(btc['title'],'. ', btc['body'], ' ...', btc['url']))"
   ]
  },
  {
   "cell_type": "code",
   "execution_count": 5,
   "id": "organic-actress",
   "metadata": {
    "execution": {
     "iopub.execute_input": "2021-08-11T01:57:02.606663Z",
     "iopub.status.busy": "2021-08-11T01:57:02.606134Z",
     "iopub.status.idle": "2021-08-11T01:57:02.608548Z",
     "shell.execute_reply": "2021-08-11T01:57:02.609009Z"
    },
    "papermill": {
     "duration": 0.01677,
     "end_time": "2021-08-11T01:57:02.609117",
     "exception": false,
     "start_time": "2021-08-11T01:57:02.592347",
     "status": "completed"
    },
    "tags": []
   },
   "outputs": [
    {
     "data": {
      "text/markdown": [
       "- XRP Price Put Up An Amazing Rally! SEC Files Emergency Motion.  The post XRP Price Put Up An Amazing Rally! SEC Files Emergency Motion appeared first on Coinpedia - Fintech &amp; Cryptocurreny News Media| Crypto GuideThe price of XRP was lifted by the rising attitude in the crypto sector. Ripple Retests the $0.85 Resistance Zone and Eyes the $1.00 High XRP is up 12.5 percent this week after breaking over a bullish flag and poking through the 2020 highs. Anti-Bitcoin bulls are also showing up.&#160; In the 4-hour technical chart, &#8230; ... [| Skaityti daugiau](https://coinpedia.org/price-analysis/xrp-price-put-up-an-amazing-rally-sec-files-emergency-motion/) "
      ],
      "text/plain": [
       "<IPython.core.display.Markdown object>"
      ]
     },
     "execution_count": 5,
     "metadata": {},
     "output_type": "execute_result"
    }
   ],
   "source": [
    "#hide_input\n",
    "#md('##### {}'.format(titleBTC)) \n",
    "md(\"- {}{} {}{} [| Skaityti daugiau]({}) \".format(xrp['title'],'. ', xrp['body'], ' ...', xrp['url']))"
   ]
  },
  {
   "cell_type": "code",
   "execution_count": 6,
   "id": "prompt-farmer",
   "metadata": {
    "execution": {
     "iopub.execute_input": "2021-08-11T01:57:02.633007Z",
     "iopub.status.busy": "2021-08-11T01:57:02.632518Z",
     "iopub.status.idle": "2021-08-11T01:57:02.635118Z",
     "shell.execute_reply": "2021-08-11T01:57:02.635539Z"
    },
    "papermill": {
     "duration": 0.01661,
     "end_time": "2021-08-11T01:57:02.635644",
     "exception": false,
     "start_time": "2021-08-11T01:57:02.619034",
     "status": "completed"
    },
    "tags": []
   },
   "outputs": [
    {
     "data": {
      "text/markdown": [
       "- Justin Sun Ventures Into GameFi Projects With USD 300M TRON Arcade Fund.  Tron (TRX) and its partners said they have established a USD 300m fund called TRON Arcade, which will invest in and incubate GameFi projects over the next three years. GameFi ('gaming' + 'DeFi') is described as the gamification of monetary mechanisms that make earning profits an &quot;exciting experience.&quot; It merges non-fungible tokens (NFTs), decentralized ... [| Skaityti daugiau](https://cryptonews.com/news/justin-sun-ventures-into-gamefi-projects-with-usd-300m-tron-11377.htm) "
      ],
      "text/plain": [
       "<IPython.core.display.Markdown object>"
      ]
     },
     "execution_count": 6,
     "metadata": {},
     "output_type": "execute_result"
    }
   ],
   "source": [
    "#hide_input\n",
    "#md('##### {}'.format(titleBTC)) \n",
    "md(\"- {}{} {}{} [| Skaityti daugiau]({}) \".format(trx['title'],'. ', trx['body'], ' ...', trx['url']))"
   ]
  },
  {
   "cell_type": "code",
   "execution_count": 7,
   "id": "illegal-greece",
   "metadata": {
    "execution": {
     "iopub.execute_input": "2021-08-11T01:57:02.660078Z",
     "iopub.status.busy": "2021-08-11T01:57:02.659593Z",
     "iopub.status.idle": "2021-08-11T01:57:02.662173Z",
     "shell.execute_reply": "2021-08-11T01:57:02.661761Z"
    },
    "papermill": {
     "duration": 0.016349,
     "end_time": "2021-08-11T01:57:02.662286",
     "exception": false,
     "start_time": "2021-08-11T01:57:02.645937",
     "status": "completed"
    },
    "tags": []
   },
   "outputs": [
    {
     "data": {
      "text/markdown": [
       "- Coinbase's Q2 profits top $1.6B as ETH volume surpasses BTC’s for the first time.  Coinbase beat analyst estimates in Q2, after it generated $2.23 billion in revenue compared to estimates of $1.78 billion.  ... [| Skaityti daugiau](https://cointelegraph.com/news/coinbase-s-q2-profits-top-1-6b-as-eth-volume-surpasses-btc-s-for-the-first-time) "
      ],
      "text/plain": [
       "<IPython.core.display.Markdown object>"
      ]
     },
     "execution_count": 7,
     "metadata": {},
     "output_type": "execute_result"
    }
   ],
   "source": [
    "#hide_input\n",
    "#md('##### {}'.format(titleBTC)) \n",
    "md(\"- {}{} {}{} [| Skaityti daugiau]({}) \".format(eth['title'],'. ', eth['body'], ' ...', eth['url']))"
   ]
  },
  {
   "cell_type": "code",
   "execution_count": 8,
   "id": "sublime-lounge",
   "metadata": {
    "execution": {
     "iopub.execute_input": "2021-08-11T01:57:02.687363Z",
     "iopub.status.busy": "2021-08-11T01:57:02.686879Z",
     "iopub.status.idle": "2021-08-11T01:57:02.689583Z",
     "shell.execute_reply": "2021-08-11T01:57:02.690002Z"
    },
    "papermill": {
     "duration": 0.017328,
     "end_time": "2021-08-11T01:57:02.690105",
     "exception": false,
     "start_time": "2021-08-11T01:57:02.672777",
     "status": "completed"
    },
    "tags": []
   },
   "outputs": [
    {
     "data": {
      "text/markdown": [
       "- Cardano Price Rallies to 2-Month High as Alonzo Anticipation Builds.  ADA's price increased 14% in 24 hours as Charles Hoskinson teased the arrival date for smart contracts. ... [| Skaityti daugiau](https://decrypt.co/78257/cardano-price-rallies-2-month-high-alonzo-anticipation-builds) "
      ],
      "text/plain": [
       "<IPython.core.display.Markdown object>"
      ]
     },
     "execution_count": 8,
     "metadata": {},
     "output_type": "execute_result"
    }
   ],
   "source": [
    "#hide_input\n",
    "#md('##### {}'.format(titleBTC)) \n",
    "md(\"- {}{} {}{} [| Skaityti daugiau]({}) \".format(ada['title'],'. ', ada['body'], ' ...', ada['url']))"
   ]
  },
  {
   "cell_type": "code",
   "execution_count": 9,
   "id": "specified-ordering",
   "metadata": {
    "execution": {
     "iopub.execute_input": "2021-08-11T01:57:02.716738Z",
     "iopub.status.busy": "2021-08-11T01:57:02.716247Z",
     "iopub.status.idle": "2021-08-11T01:57:02.718889Z",
     "shell.execute_reply": "2021-08-11T01:57:02.718398Z"
    },
    "papermill": {
     "duration": 0.017946,
     "end_time": "2021-08-11T01:57:02.718988",
     "exception": false,
     "start_time": "2021-08-11T01:57:02.701042",
     "status": "completed"
    },
    "tags": []
   },
   "outputs": [
    {
     "data": {
      "text/markdown": [
       "- Commissioner Criticizes SEC for Taking Enforcement-Centric Approach to Crypto Regulation.  A commissioner with the U.S. Securities and Exchange Commission (SEC) has criticized the securities watchdog for focusing on enforcement actions in its oversight of the crypto industry. SEC Commissioner Slams Agency for Focusing on Enforcement Actions in Regulating Crypto Assets SEC Commissioner Hester Peirce criticized her own agency Monday after it announced an enforcement action [&#8230;] ... [| Skaityti daugiau](https://news.bitcoin.com/commissioner-sec-enforcement-centric-approach-crypto-regulation/) "
      ],
      "text/plain": [
       "<IPython.core.display.Markdown object>"
      ]
     },
     "execution_count": 9,
     "metadata": {},
     "output_type": "execute_result"
    }
   ],
   "source": [
    "#hide_input\n",
    "#md('##### {}'.format(titleBTC)) \n",
    "md(\"- {}{} {}{} [| Skaityti daugiau]({}) \".format(exchange['title'],'. ', exchange['body'], ' ...', exchange['url']))"
   ]
  },
  {
   "cell_type": "code",
   "execution_count": null,
   "id": "tender-livestock",
   "metadata": {
    "papermill": {
     "duration": 0.011153,
     "end_time": "2021-08-11T01:57:02.741316",
     "exception": false,
     "start_time": "2021-08-11T01:57:02.730163",
     "status": "completed"
    },
    "tags": []
   },
   "outputs": [],
   "source": []
  },
  {
   "cell_type": "code",
   "execution_count": null,
   "id": "appreciated-diamond",
   "metadata": {
    "papermill": {
     "duration": 0.011163,
     "end_time": "2021-08-11T01:57:02.763779",
     "exception": false,
     "start_time": "2021-08-11T01:57:02.752616",
     "status": "completed"
    },
    "tags": []
   },
   "outputs": [],
   "source": []
  },
  {
   "cell_type": "code",
   "execution_count": null,
   "id": "romance-sweden",
   "metadata": {
    "papermill": {
     "duration": 0.011044,
     "end_time": "2021-08-11T01:57:02.785928",
     "exception": false,
     "start_time": "2021-08-11T01:57:02.774884",
     "status": "completed"
    },
    "tags": []
   },
   "outputs": [],
   "source": []
  },
  {
   "cell_type": "code",
   "execution_count": null,
   "id": "dietary-statistics",
   "metadata": {
    "papermill": {
     "duration": 0.011026,
     "end_time": "2021-08-11T01:57:02.808388",
     "exception": false,
     "start_time": "2021-08-11T01:57:02.797362",
     "status": "completed"
    },
    "tags": []
   },
   "outputs": [],
   "source": []
  }
 ],
 "metadata": {
  "kernelspec": {
   "display_name": "Python 3",
   "language": "python",
   "name": "python3"
  },
  "language_info": {
   "codemirror_mode": {
    "name": "ipython",
    "version": 3
   },
   "file_extension": ".py",
   "mimetype": "text/x-python",
   "name": "python",
   "nbconvert_exporter": "python",
   "pygments_lexer": "ipython3",
   "version": "3.6.14"
  },
  "papermill": {
   "default_parameters": {},
   "duration": 11.996278,
   "end_time": "2021-08-11T01:57:03.327318",
   "environment_variables": {},
   "exception": null,
   "input_path": "Market-News.ipynb",
   "output_path": "Market-News.ipynb",
   "parameters": {},
   "start_time": "2021-08-11T01:56:51.331040",
   "version": "2.2.2"
  }
 },
 "nbformat": 4,
 "nbformat_minor": 5
}