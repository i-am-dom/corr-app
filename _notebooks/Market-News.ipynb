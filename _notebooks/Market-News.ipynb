{
 "cells": [
  {
   "cell_type": "markdown",
   "id": "short-greensboro",
   "metadata": {
    "papermill": {
     "duration": 0.015397,
     "end_time": "2022-04-17T02:36:16.167572",
     "exception": false,
     "start_time": "2022-04-17T02:36:16.152175",
     "status": "completed"
    },
    "tags": []
   },
   "source": [
    "# Kriptovaliutų naujienos"
   ]
  },
  {
   "cell_type": "code",
   "execution_count": 1,
   "id": "functioning-knowing",
   "metadata": {
    "execution": {
     "iopub.execute_input": "2022-04-17T02:36:16.202031Z",
     "iopub.status.busy": "2022-04-17T02:36:16.201461Z",
     "iopub.status.idle": "2022-04-17T02:36:17.702752Z",
     "shell.execute_reply": "2022-04-17T02:36:17.703605Z"
    },
    "papermill": {
     "duration": 1.525317,
     "end_time": "2022-04-17T02:36:17.703847",
     "exception": false,
     "start_time": "2022-04-17T02:36:16.178530",
     "status": "completed"
    },
    "tags": []
   },
   "outputs": [],
   "source": [
    "#hide_input\n",
    "import warnings\n",
    "warnings.filterwarnings('ignore')\n",
    "from scripts.read_data import read_api\n",
    "from scripts.read_data import read_news\n",
    "from scripts.read_data import read_covid\n",
    "import matplotlib.pyplot as plt \n",
    "from IPython.display import Markdown as md"
   ]
  },
  {
   "cell_type": "code",
   "execution_count": 2,
   "id": "shared-acceptance",
   "metadata": {
    "execution": {
     "iopub.execute_input": "2022-04-17T02:36:17.736928Z",
     "iopub.status.busy": "2022-04-17T02:36:17.736227Z",
     "iopub.status.idle": "2022-04-17T02:36:26.953874Z",
     "shell.execute_reply": "2022-04-17T02:36:26.954487Z"
    },
    "papermill": {
     "duration": 9.238398,
     "end_time": "2022-04-17T02:36:26.954732",
     "exception": false,
     "start_time": "2022-04-17T02:36:17.716334",
     "status": "completed"
    },
    "tags": []
   },
   "outputs": [],
   "source": [
    "#hide_input\n",
    "blockchain = read_news('blockchain') \n",
    "btc = read_news('btc') \n",
    "xrp = read_news('xrp') \n",
    "trx = read_news('trx') \n",
    "eth = read_news('eth')  \n",
    "ada = read_news('ada')\n",
    "exchange = read_news('exchange') "
   ]
  },
  {
   "cell_type": "code",
   "execution_count": 3,
   "id": "synthetic-notion",
   "metadata": {
    "execution": {
     "iopub.execute_input": "2022-04-17T02:36:26.989057Z",
     "iopub.status.busy": "2022-04-17T02:36:26.988295Z",
     "iopub.status.idle": "2022-04-17T02:36:26.991070Z",
     "shell.execute_reply": "2022-04-17T02:36:26.991697Z"
    },
    "papermill": {
     "duration": 0.024198,
     "end_time": "2022-04-17T02:36:26.991880",
     "exception": false,
     "start_time": "2022-04-17T02:36:26.967682",
     "status": "completed"
    },
    "tags": []
   },
   "outputs": [
    {
     "data": {
      "text/markdown": [
       "- 1inch Network Price Prediction 2022-2026-Will the Price of 1INCH Hit $2.12 by the end of 2022?.  1INCH is the native token of the 1inch Network. The 1inch Network unites decentralized protocols whose synergy enables the most lucrative, fastest, and protected operations in the DeFi space. 1Inch grant program is an initiative that fosters the 1inch Network’s growth and incentivizes contributions through grants and other resources. The 1inch Network’s governance token 1INCH is used to vote on protocol parameters under the decentralized autonomous organization (DAO) model. What is 1Inch Network (1INCH)? The co-founders of the 1inch Network are Sergej Kunz and Anton Bukov. It was founded in May 2019. 1inch is non-custodial, and all trades take place within one transaction from a user’s wallet on any of the supported blockchains and layer-2 networks. The protocol integrates security checks during every transaction to prevent any losses. As of February 2022, more than 180 liquidity sources are integrated into the 1inch Network. Those who provide Liquidity for the 1inch Liquidity Protocol are also getting 1INCH tokens according to the 1inch Foundation’s various incentives and liquidity mining programs. Now, we shall consider the price analysis of 1inch Network for the coming years. Flashback: Fundamental Analysis of 1inch Network (1INCH). With the integration of 1inch Network to the Fantom network, 1INCH transactions can now be done with deep security and low fees. This development has the capacity to provide the 1inch Network wi... ... [| Skaityti daugiau](https://www.cryptoknowmics.com/news/1inch-network-price-prediction-2022-2026-will-the-price-of-1inch-hit-2-12-by-the-end-of-2022/?utm_source=rss&utm_medium=rss&utm_campaign=1inch-network-price-prediction-2022-2026-will-the-price-of-1inch-hit-2-12-by-the-end-of-2022) "
      ],
      "text/plain": [
       "<IPython.core.display.Markdown object>"
      ]
     },
     "execution_count": 3,
     "metadata": {},
     "output_type": "execute_result"
    }
   ],
   "source": [
    "#hide_input\n",
    "#md('##### {}'.format(titleBTC)) \n",
    "md(\"- {}{} {}{} [| Skaityti daugiau]({}) \".format(blockchain['title'],'. ', blockchain['body'], ' ...', blockchain['url']))"
   ]
  },
  {
   "cell_type": "code",
   "execution_count": 4,
   "id": "aging-caution",
   "metadata": {
    "execution": {
     "iopub.execute_input": "2022-04-17T02:36:27.023096Z",
     "iopub.status.busy": "2022-04-17T02:36:27.022445Z",
     "iopub.status.idle": "2022-04-17T02:36:27.027540Z",
     "shell.execute_reply": "2022-04-17T02:36:27.028072Z"
    },
    "papermill": {
     "duration": 0.023497,
     "end_time": "2022-04-17T02:36:27.028256",
     "exception": false,
     "start_time": "2022-04-17T02:36:27.004759",
     "status": "completed"
    },
    "tags": []
   },
   "outputs": [
    {
     "data": {
      "text/markdown": [
       "- Rich Dad Poor Dad’s Robert Kiyosaki Warns Hyperinflation, Depression Are Here.  The famous author of the best-selling book Rich Dad Poor Dad, Robert Kiyosaki, says that hyperinflation and depression are here. He also warned that the biggest bubble burst is coming, advising investors to buy gold, silver, and bitcoin. Robert Kiyosaki&#x2019;s Latest Warnings The author of Rich Dad Poor Dad, Robert Kiyosaki, gave a series of [&#8230;] ... [| Skaityti daugiau](https://news.bitcoin.com/rich-dad-poor-dads-robert-kiyosaki-warns-hyperinflation-depression-are-here/) "
      ],
      "text/plain": [
       "<IPython.core.display.Markdown object>"
      ]
     },
     "execution_count": 4,
     "metadata": {},
     "output_type": "execute_result"
    }
   ],
   "source": [
    "#hide_input\n",
    "#md('##### {}'.format(titleBTC)) \n",
    "md(\"- {}{} {}{} [| Skaityti daugiau]({}) \".format(btc['title'],'. ', btc['body'], ' ...', btc['url']))"
   ]
  },
  {
   "cell_type": "code",
   "execution_count": 5,
   "id": "organic-actress",
   "metadata": {
    "execution": {
     "iopub.execute_input": "2022-04-17T02:36:27.060535Z",
     "iopub.status.busy": "2022-04-17T02:36:27.059807Z",
     "iopub.status.idle": "2022-04-17T02:36:27.063573Z",
     "shell.execute_reply": "2022-04-17T02:36:27.063020Z"
    },
    "papermill": {
     "duration": 0.022565,
     "end_time": "2022-04-17T02:36:27.063721",
     "exception": false,
     "start_time": "2022-04-17T02:36:27.041156",
     "status": "completed"
    },
    "tags": []
   },
   "outputs": [
    {
     "data": {
      "text/markdown": [
       "- Ripple CEO: SEC Lawsuit Over XRP ‘Has Gone Exceedingly Well’.  The CEO of Ripple Labs says that the lawsuit brought by the U.S. Securities and Exchange Commission (SEC) against him and his company over XRP &#x201C;has gone exceedingly well.&#x201D; He stressed: &#x201C;This case is important, not just for Ripple, it&#x2019;s important for the entire crypto industry in the United States.&#x201D; Ripple&#x2019;s CEO Comments on SEC [&#8230;] ... [| Skaityti daugiau](https://news.bitcoin.com/ripple-ceo-sec-lawsuit-over-xrp-has-gone-exceedingly-well/) "
      ],
      "text/plain": [
       "<IPython.core.display.Markdown object>"
      ]
     },
     "execution_count": 5,
     "metadata": {},
     "output_type": "execute_result"
    }
   ],
   "source": [
    "#hide_input\n",
    "#md('##### {}'.format(titleBTC)) \n",
    "md(\"- {}{} {}{} [| Skaityti daugiau]({}) \".format(xrp['title'],'. ', xrp['body'], ' ...', xrp['url']))"
   ]
  },
  {
   "cell_type": "code",
   "execution_count": 6,
   "id": "prompt-farmer",
   "metadata": {
    "execution": {
     "iopub.execute_input": "2022-04-17T02:36:27.097714Z",
     "iopub.status.busy": "2022-04-17T02:36:27.096978Z",
     "iopub.status.idle": "2022-04-17T02:36:27.099686Z",
     "shell.execute_reply": "2022-04-17T02:36:27.100348Z"
    },
    "papermill": {
     "duration": 0.022926,
     "end_time": "2022-04-17T02:36:27.100527",
     "exception": false,
     "start_time": "2022-04-17T02:36:27.077601",
     "status": "completed"
    },
    "tags": []
   },
   "outputs": [
    {
     "data": {
      "text/markdown": [
       "- TRON sees a relief rally; here’s what traders should know.  Disclaimer: The findings of the following analysis are the sole opinions of the writer and should not be considered investment advice Bitcoin saw a bounce from $39.3k to $41.4k and posted some losses in recent hours to trade at $41.1k at the time of writing. TRON also reflected this minor bounce of Bitcoin on its own [&#8230;] ... [| Skaityti daugiau](https://ambcrypto.com/tron-sees-a-relief-rally-heres-what-traders-should-know/) "
      ],
      "text/plain": [
       "<IPython.core.display.Markdown object>"
      ]
     },
     "execution_count": 6,
     "metadata": {},
     "output_type": "execute_result"
    }
   ],
   "source": [
    "#hide_input\n",
    "#md('##### {}'.format(titleBTC)) \n",
    "md(\"- {}{} {}{} [| Skaityti daugiau]({}) \".format(trx['title'],'. ', trx['body'], ' ...', trx['url']))"
   ]
  },
  {
   "cell_type": "code",
   "execution_count": 7,
   "id": "illegal-greece",
   "metadata": {
    "execution": {
     "iopub.execute_input": "2022-04-17T02:36:27.135474Z",
     "iopub.status.busy": "2022-04-17T02:36:27.134772Z",
     "iopub.status.idle": "2022-04-17T02:36:27.137969Z",
     "shell.execute_reply": "2022-04-17T02:36:27.138573Z"
    },
    "papermill": {
     "duration": 0.023969,
     "end_time": "2022-04-17T02:36:27.138731",
     "exception": false,
     "start_time": "2022-04-17T02:36:27.114762",
     "status": "completed"
    },
    "tags": []
   },
   "outputs": [
    {
     "data": {
      "text/markdown": [
       "- Qtum Price Prediction 2022-2026-Will the Price of QTUM Hit $9.20 by the end of 2022?.  Qtum is the native token in the Qtum platform. Qtum provides a standardized, stable, and safe development environment for smart contracts, enabling business-friendly smart contract coding, deploying, and execution. Qtum is also a decentralized application platform, compatible with existing blockchain infrastructure, and is modularized so new technology can always be added. Qtum boasts the biggest PoS peer-to-peer network, with full nodes only exceeded by the Ethereum and Bitcoin networks. What is Qtum (QTUM)? Patrick Dai is the founder and Chairman of Qtum. The other two co-founders are the CTO and blockchain architect Neil Mahi and lead developer Jordan Earls. Qtum’s Decentralized Governance Protocol (DGP) allows specific blockchain settings to be modified by making use of smart contracts. Qtum also provides mature development resources for blockchain and app development. Qtum’s Account Abstraction Layer decouples applications from the underlying protocol, maintaining the performance of the blockchain and lending the ability to add more smart contract capability in the future. Now, we shall consider the price analysis of Qtum for the coming years. Flashback: Fundamental Analysis of Qtum (QTUM). One of the factors that have enhanced the price of Bitcoin is halving. The same technique is adopted by the Qtum blockchain where the miners’ reward for each block is reduced by half. This will ensure that the volume of Qtum in circula... ... [| Skaityti daugiau](https://www.cryptoknowmics.com/news/qtum-price-prediction-2022-2026-will-the-price-of-qtum-hit-9-20-by-the-end-of-2022/?utm_source=rss&utm_medium=rss&utm_campaign=qtum-price-prediction-2022-2026-will-the-price-of-qtum-hit-9-20-by-the-end-of-2022) "
      ],
      "text/plain": [
       "<IPython.core.display.Markdown object>"
      ]
     },
     "execution_count": 7,
     "metadata": {},
     "output_type": "execute_result"
    }
   ],
   "source": [
    "#hide_input\n",
    "#md('##### {}'.format(titleBTC)) \n",
    "md(\"- {}{} {}{} [| Skaityti daugiau]({}) \".format(eth['title'],'. ', eth['body'], ' ...', eth['url']))"
   ]
  },
  {
   "cell_type": "code",
   "execution_count": 8,
   "id": "sublime-lounge",
   "metadata": {
    "execution": {
     "iopub.execute_input": "2022-04-17T02:36:27.173713Z",
     "iopub.status.busy": "2022-04-17T02:36:27.172974Z",
     "iopub.status.idle": "2022-04-17T02:36:27.176226Z",
     "shell.execute_reply": "2022-04-17T02:36:27.176841Z"
    },
    "papermill": {
     "duration": 0.02422,
     "end_time": "2022-04-17T02:36:27.177037",
     "exception": false,
     "start_time": "2022-04-17T02:36:27.152817",
     "status": "completed"
    },
    "tags": []
   },
   "outputs": [
    {
     "data": {
      "text/markdown": [
       "- Cardano Price Analysis: ADA Price Lost $1 Support; Back To Square One?.  The V-top rejection from the $1.2 resistance plunged the Cardano(ADA) price below the $1 crucial support and 50-day SMA. The sellers continue to pressure the altcoin leading to the March bottom support at $0.78. However, a possible reversal from this support could initiate a range-bound rally in ADA. Key points: The ADA price lost 22.5% The post Cardano Price Analysis: ADA Price Lost $1 Support; Back To Square One? appeared first on CoinGape. ... [| Skaityti daugiau](https://coingape.com/markets/cardano-price-analysis-ada-price-lost-1-support-back-to-square-one/) "
      ],
      "text/plain": [
       "<IPython.core.display.Markdown object>"
      ]
     },
     "execution_count": 8,
     "metadata": {},
     "output_type": "execute_result"
    }
   ],
   "source": [
    "#hide_input\n",
    "#md('##### {}'.format(titleBTC)) \n",
    "md(\"- {}{} {}{} [| Skaityti daugiau]({}) \".format(ada['title'],'. ', ada['body'], ' ...', ada['url']))"
   ]
  },
  {
   "cell_type": "code",
   "execution_count": 9,
   "id": "specified-ordering",
   "metadata": {
    "execution": {
     "iopub.execute_input": "2022-04-17T02:36:27.213395Z",
     "iopub.status.busy": "2022-04-17T02:36:27.212659Z",
     "iopub.status.idle": "2022-04-17T02:36:27.215426Z",
     "shell.execute_reply": "2022-04-17T02:36:27.216092Z"
    },
    "papermill": {
     "duration": 0.024272,
     "end_time": "2022-04-17T02:36:27.216259",
     "exception": false,
     "start_time": "2022-04-17T02:36:27.191987",
     "status": "completed"
    },
    "tags": []
   },
   "outputs": [
    {
     "data": {
      "text/markdown": [
       "- Ripple CEO: SEC Lawsuit Over XRP ‘Has Gone Exceedingly Well’.  The CEO of Ripple Labs says that the lawsuit brought by the U.S. Securities and Exchange Commission (SEC) against him and his company over XRP &#x201C;has gone exceedingly well.&#x201D; He stressed: &#x201C;This case is important, not just for Ripple, it&#x2019;s important for the entire crypto industry in the United States.&#x201D; Ripple&#x2019;s CEO Comments on SEC [&#8230;] ... [| Skaityti daugiau](https://news.bitcoin.com/ripple-ceo-sec-lawsuit-over-xrp-has-gone-exceedingly-well/) "
      ],
      "text/plain": [
       "<IPython.core.display.Markdown object>"
      ]
     },
     "execution_count": 9,
     "metadata": {},
     "output_type": "execute_result"
    }
   ],
   "source": [
    "#hide_input\n",
    "#md('##### {}'.format(titleBTC)) \n",
    "md(\"- {}{} {}{} [| Skaityti daugiau]({}) \".format(exchange['title'],'. ', exchange['body'], ' ...', exchange['url']))"
   ]
  },
  {
   "cell_type": "code",
   "execution_count": null,
   "id": "tender-livestock",
   "metadata": {
    "papermill": {
     "duration": 0.01469,
     "end_time": "2022-04-17T02:36:27.246146",
     "exception": false,
     "start_time": "2022-04-17T02:36:27.231456",
     "status": "completed"
    },
    "tags": []
   },
   "outputs": [],
   "source": []
  },
  {
   "cell_type": "code",
   "execution_count": null,
   "id": "appreciated-diamond",
   "metadata": {
    "papermill": {
     "duration": 0.014028,
     "end_time": "2022-04-17T02:36:27.274475",
     "exception": false,
     "start_time": "2022-04-17T02:36:27.260447",
     "status": "completed"
    },
    "tags": []
   },
   "outputs": [],
   "source": []
  },
  {
   "cell_type": "code",
   "execution_count": null,
   "id": "romance-sweden",
   "metadata": {
    "papermill": {
     "duration": 0.014167,
     "end_time": "2022-04-17T02:36:27.304457",
     "exception": false,
     "start_time": "2022-04-17T02:36:27.290290",
     "status": "completed"
    },
    "tags": []
   },
   "outputs": [],
   "source": []
  },
  {
   "cell_type": "code",
   "execution_count": null,
   "id": "dietary-statistics",
   "metadata": {
    "papermill": {
     "duration": 0.014359,
     "end_time": "2022-04-17T02:36:27.333538",
     "exception": false,
     "start_time": "2022-04-17T02:36:27.319179",
     "status": "completed"
    },
    "tags": []
   },
   "outputs": [],
   "source": []
  }
 ],
 "metadata": {
  "kernelspec": {
   "display_name": "Python 3",
   "language": "python",
   "name": "python3"
  },
  "language_info": {
   "codemirror_mode": {
    "name": "ipython",
    "version": 3
   },
   "file_extension": ".py",
   "mimetype": "text/x-python",
   "name": "python",
   "nbconvert_exporter": "python",
   "pygments_lexer": "ipython3",
   "version": "3.6.15"
  },
  "papermill": {
   "default_parameters": {},
   "duration": 13.19954,
   "end_time": "2022-04-17T02:36:28.070522",
   "environment_variables": {},
   "exception": null,
   "input_path": "Market-News.ipynb",
   "output_path": "Market-News.ipynb",
   "parameters": {},
   "start_time": "2022-04-17T02:36:14.870982",
   "version": "2.2.2"
  }
 },
 "nbformat": 4,
 "nbformat_minor": 5
}