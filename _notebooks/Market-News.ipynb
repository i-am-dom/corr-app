{
 "cells": [
  {
   "cell_type": "markdown",
   "id": "short-greensboro",
   "metadata": {
    "papermill": {
     "duration": 0.012576,
     "end_time": "2022-04-01T02:58:22.803486",
     "exception": false,
     "start_time": "2022-04-01T02:58:22.790910",
     "status": "completed"
    },
    "tags": []
   },
   "source": [
    "# Kriptovaliutų naujienos"
   ]
  },
  {
   "cell_type": "code",
   "execution_count": 1,
   "id": "functioning-knowing",
   "metadata": {
    "execution": {
     "iopub.execute_input": "2022-04-01T02:58:22.832927Z",
     "iopub.status.busy": "2022-04-01T02:58:22.832391Z",
     "iopub.status.idle": "2022-04-01T02:58:24.033015Z",
     "shell.execute_reply": "2022-04-01T02:58:24.032550Z"
    },
    "papermill": {
     "duration": 1.219537,
     "end_time": "2022-04-01T02:58:24.033148",
     "exception": false,
     "start_time": "2022-04-01T02:58:22.813611",
     "status": "completed"
    },
    "tags": []
   },
   "outputs": [],
   "source": [
    "#hide_input\n",
    "import warnings\n",
    "warnings.filterwarnings('ignore')\n",
    "from scripts.read_data import read_api\n",
    "from scripts.read_data import read_news\n",
    "from scripts.read_data import read_covid\n",
    "import matplotlib.pyplot as plt \n",
    "from IPython.display import Markdown as md"
   ]
  },
  {
   "cell_type": "code",
   "execution_count": 2,
   "id": "shared-acceptance",
   "metadata": {
    "execution": {
     "iopub.execute_input": "2022-04-01T02:58:24.058691Z",
     "iopub.status.busy": "2022-04-01T02:58:24.057809Z",
     "iopub.status.idle": "2022-04-01T02:58:34.745341Z",
     "shell.execute_reply": "2022-04-01T02:58:34.744894Z"
    },
    "papermill": {
     "duration": 10.702734,
     "end_time": "2022-04-01T02:58:34.745498",
     "exception": false,
     "start_time": "2022-04-01T02:58:24.042764",
     "status": "completed"
    },
    "tags": []
   },
   "outputs": [],
   "source": [
    "#hide_input\n",
    "blockchain = read_news('blockchain') \n",
    "btc = read_news('btc') \n",
    "xrp = read_news('xrp') \n",
    "trx = read_news('trx') \n",
    "eth = read_news('eth')  \n",
    "ada = read_news('ada')\n",
    "exchange = read_news('exchange') "
   ]
  },
  {
   "cell_type": "code",
   "execution_count": 3,
   "id": "synthetic-notion",
   "metadata": {
    "execution": {
     "iopub.execute_input": "2022-04-01T02:58:34.770589Z",
     "iopub.status.busy": "2022-04-01T02:58:34.770081Z",
     "iopub.status.idle": "2022-04-01T02:58:34.772337Z",
     "shell.execute_reply": "2022-04-01T02:58:34.772711Z"
    },
    "papermill": {
     "duration": 0.017637,
     "end_time": "2022-04-01T02:58:34.772829",
     "exception": false,
     "start_time": "2022-04-01T02:58:34.755192",
     "status": "completed"
    },
    "tags": []
   },
   "outputs": [
    {
     "data": {
      "text/markdown": [
       "- Ethereum drops 5% as market progresses at a sluggish pace.  Ethereum Price Analysis for April 1 comes on a bearish note for today as chances of losing the $3K price zone seem high for ETH. It is also important to note that the market has turned bearish as investors are taking profit from the recent gains in the crypto space. Furthermore, as noted in our ETH [&#8230;]The post Ethereum drops 5% as market progresses at a sluggish pace appeared first on Blockchain, Crypto and Stock News. ... [| Skaityti daugiau](https://thecoinrise.com/ethereum-drops-5-as-market-progresses-at-a-sluggish-pace/) "
      ],
      "text/plain": [
       "<IPython.core.display.Markdown object>"
      ]
     },
     "execution_count": 3,
     "metadata": {},
     "output_type": "execute_result"
    }
   ],
   "source": [
    "#hide_input\n",
    "#md('##### {}'.format(titleBTC)) \n",
    "md(\"- {}{} {}{} [| Skaityti daugiau]({}) \".format(blockchain['title'],'. ', blockchain['body'], ' ...', blockchain['url']))"
   ]
  },
  {
   "cell_type": "code",
   "execution_count": 4,
   "id": "aging-caution",
   "metadata": {
    "execution": {
     "iopub.execute_input": "2022-04-01T02:58:34.796538Z",
     "iopub.status.busy": "2022-04-01T02:58:34.796030Z",
     "iopub.status.idle": "2022-04-01T02:58:34.800441Z",
     "shell.execute_reply": "2022-04-01T02:58:34.800838Z"
    },
    "papermill": {
     "duration": 0.018334,
     "end_time": "2022-04-01T02:58:34.800955",
     "exception": false,
     "start_time": "2022-04-01T02:58:34.782621",
     "status": "completed"
    },
    "tags": []
   },
   "outputs": [
    {
     "data": {
      "text/markdown": [
       "- Bitcoin loses $47K as bears BTC struggles to keep $45K.  Bitcoin price analysis for April 1 comes on a bearish note for the world&#8217;s biggest cryptocurrency as the major support at $47K has been lost. TheCoinRise predicted in our BTC price analysis for March 31 that the chances of losing $47K seemed high as we can expect another move towards $45K. For a brief moment, BTC even [&#8230;]The post Bitcoin loses $47K as bears BTC struggles to keep $45K appeared first on Blockchain, Crypto and Stock News. ... [| Skaityti daugiau](https://thecoinrise.com/bitcoin-loses-47k-as-bears-btc-struggles-to-keep-45k/) "
      ],
      "text/plain": [
       "<IPython.core.display.Markdown object>"
      ]
     },
     "execution_count": 4,
     "metadata": {},
     "output_type": "execute_result"
    }
   ],
   "source": [
    "#hide_input\n",
    "#md('##### {}'.format(titleBTC)) \n",
    "md(\"- {}{} {}{} [| Skaityti daugiau]({}) \".format(btc['title'],'. ', btc['body'], ' ...', btc['url']))"
   ]
  },
  {
   "cell_type": "code",
   "execution_count": 5,
   "id": "organic-actress",
   "metadata": {
    "execution": {
     "iopub.execute_input": "2022-04-01T02:58:34.825782Z",
     "iopub.status.busy": "2022-04-01T02:58:34.825222Z",
     "iopub.status.idle": "2022-04-01T02:58:34.827056Z",
     "shell.execute_reply": "2022-04-01T02:58:34.827430Z"
    },
    "papermill": {
     "duration": 0.016552,
     "end_time": "2022-04-01T02:58:34.827538",
     "exception": false,
     "start_time": "2022-04-01T02:58:34.810986",
     "status": "completed"
    },
    "tags": []
   },
   "outputs": [
    {
     "data": {
      "text/markdown": [
       "- XRP Price Analysis: Ripple Uptrend Slows Down, Is $1 Possible?.  Ripple continues on a weak uptrend where the bulls seem unable to win the battle convincingly. Initially, they were able to push up the price by about 8% on Tuesday, but then the bears ramped up the selling pressure. The Daily Chart: Technical Analysis By Grizzly Like many large cap-altcoins, Ripple is struggling with MA200 (marked [&#8230;] ... [| Skaityti daugiau](https://cryptopotato.com/xrp-price-analysis-ripple-uptrend-slows-down-is-1-possible/) "
      ],
      "text/plain": [
       "<IPython.core.display.Markdown object>"
      ]
     },
     "execution_count": 5,
     "metadata": {},
     "output_type": "execute_result"
    }
   ],
   "source": [
    "#hide_input\n",
    "#md('##### {}'.format(titleBTC)) \n",
    "md(\"- {}{} {}{} [| Skaityti daugiau]({}) \".format(xrp['title'],'. ', xrp['body'], ' ...', xrp['url']))"
   ]
  },
  {
   "cell_type": "code",
   "execution_count": 6,
   "id": "prompt-farmer",
   "metadata": {
    "execution": {
     "iopub.execute_input": "2022-04-01T02:58:34.853196Z",
     "iopub.status.busy": "2022-04-01T02:58:34.852674Z",
     "iopub.status.idle": "2022-04-01T02:58:34.855058Z",
     "shell.execute_reply": "2022-04-01T02:58:34.855447Z"
    },
    "papermill": {
     "duration": 0.017693,
     "end_time": "2022-04-01T02:58:34.855563",
     "exception": false,
     "start_time": "2022-04-01T02:58:34.837870",
     "status": "completed"
    },
    "tags": []
   },
   "outputs": [
    {
     "data": {
      "text/markdown": [
       "- The Best Cloud Mining Tron (TRX) Services in 2022 – Are They Profitable?.  GEM-TRX Links: Official website: https://gem-trx.com/share?code=336661 Official page: https://www.gemtrx2.com/ Official Facebook page: https://www.facebook.com/gemtrxofficial/ Official Twitter: https://twitter.com/MINEGEMTRX Telegram group: https://t.me/GemTrx Whitepaper: https://tron.network/static/doc/white_paper_v_2_0.pdf Have you been looking into cloud mining cryptocurrency in 2022 but aren’t sure whether it’s profitable or not? In this article, we’re going to take a look at cloud mining in 2022, specifically cloud mining [&#8230;]The post The Best Cloud Mining Tron (TRX) Services in 2022 &#8211; Are They Profitable? appeared first on NullTX. ... [| Skaityti daugiau](https://nulltx.com/the-best-cloud-mining-tron-trx-services-in-2022-are-they-profitable/) "
      ],
      "text/plain": [
       "<IPython.core.display.Markdown object>"
      ]
     },
     "execution_count": 6,
     "metadata": {},
     "output_type": "execute_result"
    }
   ],
   "source": [
    "#hide_input\n",
    "#md('##### {}'.format(titleBTC)) \n",
    "md(\"- {}{} {}{} [| Skaityti daugiau]({}) \".format(trx['title'],'. ', trx['body'], ' ...', trx['url']))"
   ]
  },
  {
   "cell_type": "code",
   "execution_count": 7,
   "id": "illegal-greece",
   "metadata": {
    "execution": {
     "iopub.execute_input": "2022-04-01T02:58:34.881682Z",
     "iopub.status.busy": "2022-04-01T02:58:34.880156Z",
     "iopub.status.idle": "2022-04-01T02:58:34.883511Z",
     "shell.execute_reply": "2022-04-01T02:58:34.883909Z"
    },
    "papermill": {
     "duration": 0.017557,
     "end_time": "2022-04-01T02:58:34.884022",
     "exception": false,
     "start_time": "2022-04-01T02:58:34.866465",
     "status": "completed"
    },
    "tags": []
   },
   "outputs": [
    {
     "data": {
      "text/markdown": [
       "- Ethereum drops 5% as market progresses at a sluggish pace.  Ethereum Price Analysis for April 1 comes on a bearish note for today as chances of losing the $3K price zone seem high for ETH. It is also important to note that the market has turned bearish as investors are taking profit from the recent gains in the crypto space. Furthermore, as noted in our ETH [&#8230;]The post Ethereum drops 5% as market progresses at a sluggish pace appeared first on Blockchain, Crypto and Stock News. ... [| Skaityti daugiau](https://thecoinrise.com/ethereum-drops-5-as-market-progresses-at-a-sluggish-pace/) "
      ],
      "text/plain": [
       "<IPython.core.display.Markdown object>"
      ]
     },
     "execution_count": 7,
     "metadata": {},
     "output_type": "execute_result"
    }
   ],
   "source": [
    "#hide_input\n",
    "#md('##### {}'.format(titleBTC)) \n",
    "md(\"- {}{} {}{} [| Skaityti daugiau]({}) \".format(eth['title'],'. ', eth['body'], ' ...', eth['url']))"
   ]
  },
  {
   "cell_type": "code",
   "execution_count": 8,
   "id": "sublime-lounge",
   "metadata": {
    "execution": {
     "iopub.execute_input": "2022-04-01T02:58:34.911125Z",
     "iopub.status.busy": "2022-04-01T02:58:34.910622Z",
     "iopub.status.idle": "2022-04-01T02:58:34.915441Z",
     "shell.execute_reply": "2022-04-01T02:58:34.915023Z"
    },
    "papermill": {
     "duration": 0.020482,
     "end_time": "2022-04-01T02:58:34.915544",
     "exception": false,
     "start_time": "2022-04-01T02:58:34.895062",
     "status": "completed"
    },
    "tags": []
   },
   "outputs": [
    {
     "data": {
      "text/markdown": [
       "- WisdomTree Unveils 3 New Crypto ETPs as Investors Seek Diversity.  The $80 billion asset manager’s latest launches in Europe brings its crypto ETP offerings to eightThe post WisdomTree Unveils 3 New Crypto ETPs as Investors Seek Diversity appeared first on Blockworks. ... [| Skaityti daugiau](https://blockworks.co/wisdomtree-unveils-3-new-crypto-etps-as-investors-seek-diversity/) "
      ],
      "text/plain": [
       "<IPython.core.display.Markdown object>"
      ]
     },
     "execution_count": 8,
     "metadata": {},
     "output_type": "execute_result"
    }
   ],
   "source": [
    "#hide_input\n",
    "#md('##### {}'.format(titleBTC)) \n",
    "md(\"- {}{} {}{} [| Skaityti daugiau]({}) \".format(ada['title'],'. ', ada['body'], ' ...', ada['url']))"
   ]
  },
  {
   "cell_type": "code",
   "execution_count": 9,
   "id": "specified-ordering",
   "metadata": {
    "execution": {
     "iopub.execute_input": "2022-04-01T02:58:34.943513Z",
     "iopub.status.busy": "2022-04-01T02:58:34.942963Z",
     "iopub.status.idle": "2022-04-01T02:58:34.944795Z",
     "shell.execute_reply": "2022-04-01T02:58:34.945179Z"
    },
    "papermill": {
     "duration": 0.018266,
     "end_time": "2022-04-01T02:58:34.945290",
     "exception": false,
     "start_time": "2022-04-01T02:58:34.927024",
     "status": "completed"
    },
    "tags": []
   },
   "outputs": [
    {
     "data": {
      "text/markdown": [
       "- SEC Names Crypto an Exam Priority This Year.  The Securities and Exchange Commission (SEC) has listed crypto assets as an examination priority for market participants this year. &#x201C;In this time of heightened market volatility, our priorities are tailored to focus on emerging issues, such as crypto assets,&#x201D; said an official with the SEC Division of Examinations. Crypto Assets Among SEC Examination Priorities The [&#8230;] ... [| Skaityti daugiau](https://news.bitcoin.com/sec-names-crypto-an-exam-priority-this-year/) "
      ],
      "text/plain": [
       "<IPython.core.display.Markdown object>"
      ]
     },
     "execution_count": 9,
     "metadata": {},
     "output_type": "execute_result"
    }
   ],
   "source": [
    "#hide_input\n",
    "#md('##### {}'.format(titleBTC)) \n",
    "md(\"- {}{} {}{} [| Skaityti daugiau]({}) \".format(exchange['title'],'. ', exchange['body'], ' ...', exchange['url']))"
   ]
  },
  {
   "cell_type": "code",
   "execution_count": null,
   "id": "tender-livestock",
   "metadata": {
    "papermill": {
     "duration": 0.011656,
     "end_time": "2022-04-01T02:58:34.968639",
     "exception": false,
     "start_time": "2022-04-01T02:58:34.956983",
     "status": "completed"
    },
    "tags": []
   },
   "outputs": [],
   "source": []
  },
  {
   "cell_type": "code",
   "execution_count": null,
   "id": "appreciated-diamond",
   "metadata": {
    "papermill": {
     "duration": 0.011728,
     "end_time": "2022-04-01T02:58:34.992314",
     "exception": false,
     "start_time": "2022-04-01T02:58:34.980586",
     "status": "completed"
    },
    "tags": []
   },
   "outputs": [],
   "source": []
  },
  {
   "cell_type": "code",
   "execution_count": null,
   "id": "romance-sweden",
   "metadata": {
    "papermill": {
     "duration": 0.011672,
     "end_time": "2022-04-01T02:58:35.016597",
     "exception": false,
     "start_time": "2022-04-01T02:58:35.004925",
     "status": "completed"
    },
    "tags": []
   },
   "outputs": [],
   "source": []
  },
  {
   "cell_type": "code",
   "execution_count": null,
   "id": "dietary-statistics",
   "metadata": {
    "papermill": {
     "duration": 0.011603,
     "end_time": "2022-04-01T02:58:35.039903",
     "exception": false,
     "start_time": "2022-04-01T02:58:35.028300",
     "status": "completed"
    },
    "tags": []
   },
   "outputs": [],
   "source": []
  }
 ],
 "metadata": {
  "kernelspec": {
   "display_name": "Python 3",
   "language": "python",
   "name": "python3"
  },
  "language_info": {
   "codemirror_mode": {
    "name": "ipython",
    "version": 3
   },
   "file_extension": ".py",
   "mimetype": "text/x-python",
   "name": "python",
   "nbconvert_exporter": "python",
   "pygments_lexer": "ipython3",
   "version": "3.6.15"
  },
  "papermill": {
   "default_parameters": {},
   "duration": 13.586552,
   "end_time": "2022-04-01T02:58:35.468694",
   "environment_variables": {},
   "exception": null,
   "input_path": "Market-News.ipynb",
   "output_path": "Market-News.ipynb",
   "parameters": {},
   "start_time": "2022-04-01T02:58:21.882142",
   "version": "2.2.2"
  }
 },
 "nbformat": 4,
 "nbformat_minor": 5
}