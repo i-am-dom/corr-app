{
 "cells": [
  {
   "cell_type": "markdown",
   "id": "short-greensboro",
   "metadata": {
    "papermill": {
     "duration": 0.013693,
     "end_time": "2022-02-01T02:03:28.050675",
     "exception": false,
     "start_time": "2022-02-01T02:03:28.036982",
     "status": "completed"
    },
    "tags": []
   },
   "source": [
    "# Kriptovaliutų naujienos"
   ]
  },
  {
   "cell_type": "code",
   "execution_count": 1,
   "id": "functioning-knowing",
   "metadata": {
    "execution": {
     "iopub.execute_input": "2022-02-01T02:03:28.083725Z",
     "iopub.status.busy": "2022-02-01T02:03:28.083081Z",
     "iopub.status.idle": "2022-02-01T02:03:29.542345Z",
     "shell.execute_reply": "2022-02-01T02:03:29.542885Z"
    },
    "papermill": {
     "duration": 1.48031,
     "end_time": "2022-02-01T02:03:29.543087",
     "exception": false,
     "start_time": "2022-02-01T02:03:28.062777",
     "status": "completed"
    },
    "tags": []
   },
   "outputs": [],
   "source": [
    "#hide_input\n",
    "import warnings\n",
    "warnings.filterwarnings('ignore')\n",
    "from scripts.read_data import read_api\n",
    "from scripts.read_data import read_news\n",
    "from scripts.read_data import read_covid\n",
    "import matplotlib.pyplot as plt \n",
    "from IPython.display import Markdown as md"
   ]
  },
  {
   "cell_type": "code",
   "execution_count": 2,
   "id": "shared-acceptance",
   "metadata": {
    "execution": {
     "iopub.execute_input": "2022-02-01T02:03:29.576303Z",
     "iopub.status.busy": "2022-02-01T02:03:29.575174Z",
     "iopub.status.idle": "2022-02-01T02:03:41.547137Z",
     "shell.execute_reply": "2022-02-01T02:03:41.547599Z"
    },
    "papermill": {
     "duration": 11.990978,
     "end_time": "2022-02-01T02:03:41.547802",
     "exception": false,
     "start_time": "2022-02-01T02:03:29.556824",
     "status": "completed"
    },
    "tags": []
   },
   "outputs": [],
   "source": [
    "#hide_input\n",
    "blockchain = read_news('blockchain') \n",
    "btc = read_news('btc') \n",
    "xrp = read_news('xrp') \n",
    "trx = read_news('trx') \n",
    "eth = read_news('eth')  \n",
    "ada = read_news('ada')\n",
    "exchange = read_news('exchange') "
   ]
  },
  {
   "cell_type": "code",
   "execution_count": 3,
   "id": "synthetic-notion",
   "metadata": {
    "execution": {
     "iopub.execute_input": "2022-02-01T02:03:41.576833Z",
     "iopub.status.busy": "2022-02-01T02:03:41.576159Z",
     "iopub.status.idle": "2022-02-01T02:03:41.582556Z",
     "shell.execute_reply": "2022-02-01T02:03:41.583054Z"
    },
    "papermill": {
     "duration": 0.02536,
     "end_time": "2022-02-01T02:03:41.583234",
     "exception": false,
     "start_time": "2022-02-01T02:03:41.557874",
     "status": "completed"
    },
    "tags": []
   },
   "outputs": [
    {
     "data": {
      "text/markdown": [
       "- Silvergate Capital acquires blockchain payment network assets from Diem Group for $182M.  Silvergate Capital (NYSE:SI) acquired intellectual property and other technology assets related to running a blockchain payment network from the Diem Group. SI issued 1.2M class A shares to Diem and paid $50M in cash. Based on SI's closing price on Jan. 31, the aggregate value of the deal was $182M. SI expects to incur ~$30M of additional costs in 2022 as part of integrating the assets into its existing technology. The acquired assets include development, deployment and operations infrastructure, and tools for running a blockchain-based payment network. Included in the acquisition are proprietary software elements critical to running a regulatory-compliant stablecoin network. Silvergate CEO Alan Lane said the company intends to launch a stablecoin in 2022, enabled by the acquired assets and its existing technology. Last week, WSJ had reported that Diem would sell its technology to SI in an effort to return capital to its investor members. ... [| Skaityti daugiau](https://seekingalpha.com/news/3793809-silvergate-capital-acquires-blockchain-payment-network-assets-from-diem-group-for-182m?utm_source=cryptocompare.com&utm_medium=referral) "
      ],
      "text/plain": [
       "<IPython.core.display.Markdown object>"
      ]
     },
     "execution_count": 3,
     "metadata": {},
     "output_type": "execute_result"
    }
   ],
   "source": [
    "#hide_input\n",
    "#md('##### {}'.format(titleBTC)) \n",
    "md(\"- {}{} {}{} [| Skaityti daugiau]({}) \".format(blockchain['title'],'. ', blockchain['body'], ' ...', blockchain['url']))"
   ]
  },
  {
   "cell_type": "code",
   "execution_count": 4,
   "id": "aging-caution",
   "metadata": {
    "execution": {
     "iopub.execute_input": "2022-02-01T02:03:41.618421Z",
     "iopub.status.busy": "2022-02-01T02:03:41.617236Z",
     "iopub.status.idle": "2022-02-01T02:03:41.620965Z",
     "shell.execute_reply": "2022-02-01T02:03:41.621457Z"
    },
    "papermill": {
     "duration": 0.023902,
     "end_time": "2022-02-01T02:03:41.621583",
     "exception": false,
     "start_time": "2022-02-01T02:03:41.597681",
     "status": "completed"
    },
    "tags": []
   },
   "outputs": [
    {
     "data": {
      "text/markdown": [
       "- Could January’s crypto ‘winter’ actually be here to stay.  The month of January has spooked the market amid a larger sell-off that has kept the sentiments damp. As per the latest CryptoCompare report, Bitcoin and Ethereum fell by 23.3% and 36.9%, respectively, during the month until 27 January. The downward spiral of price Most of the tokens were trapped in a downward spiral after [&#8230;] ... [| Skaityti daugiau](https://ambcrypto.com/could-januarys-crypto-winter-actually-be-here-to-stay/) "
      ],
      "text/plain": [
       "<IPython.core.display.Markdown object>"
      ]
     },
     "execution_count": 4,
     "metadata": {},
     "output_type": "execute_result"
    }
   ],
   "source": [
    "#hide_input\n",
    "#md('##### {}'.format(titleBTC)) \n",
    "md(\"- {}{} {}{} [| Skaityti daugiau]({}) \".format(btc['title'],'. ', btc['body'], ' ...', btc['url']))"
   ]
  },
  {
   "cell_type": "code",
   "execution_count": 5,
   "id": "organic-actress",
   "metadata": {
    "execution": {
     "iopub.execute_input": "2022-02-01T02:03:41.650604Z",
     "iopub.status.busy": "2022-02-01T02:03:41.650000Z",
     "iopub.status.idle": "2022-02-01T02:03:41.655869Z",
     "shell.execute_reply": "2022-02-01T02:03:41.655160Z"
    },
    "papermill": {
     "duration": 0.022493,
     "end_time": "2022-02-01T02:03:41.655982",
     "exception": false,
     "start_time": "2022-02-01T02:03:41.633489",
     "status": "completed"
    },
    "tags": []
   },
   "outputs": [
    {
     "data": {
      "text/markdown": [
       "- The Crypto Price Crash Is Not All That Bad, Here’s Why You Shouldn’t Mind The Bears.  Cryptocurrency prices are plummeting. According to one estimate, crypto assets have lost around $1.35 trillion ($1.9 trillion) in value since November, with some crypto price crashing by as much as 80%. Many investors are in a tight spot. The good news is that world economy isn&#8217;t poorer. As a result, there won&#8217;t be much of an economic response to the new prices. Crypto Price Fall Dominates Headline The recent crypto news has been dominated by the price collapse of numerous major currencies. Since November, the price of bitcoin has been dropping. The price of cryptocurrencies has also dropped in the last week, according to reports, due to new US regulations on digital assets. Bitcoin&#8217;s price dropped from $69,000 in November to $32,951 last week. Bitcoin Price Chart. Source: Bloomberg Ethereum&#8217;s price has plummeted to roughly $2,400, down from nearly $5,000 at the end of 2021. Top cryptocurrencies like XRP, Solana, BNB, and Cardano have had their value plummet by up to 30%. The big crypto meltdown of 2022 wiped out $1.5 trillion from the industry as a whole. The impact of the cryptocurrency meltdown on the rest of the economy is minimal. The $1.5 trillion in losses is only approximately 6% of the US GDP. Second, the cryptocurrency ecosystem is largely detached from the rest of the economy. Because banks have avoided crypto, the crash has had little effect on the financial market. Many have held on to the ... ... [| Skaityti daugiau](https://www.newsbtc.com/news/bitcoin/the-crypto-price-crash-is-not-all-that-bad/) "
      ],
      "text/plain": [
       "<IPython.core.display.Markdown object>"
      ]
     },
     "execution_count": 5,
     "metadata": {},
     "output_type": "execute_result"
    }
   ],
   "source": [
    "#hide_input\n",
    "#md('##### {}'.format(titleBTC)) \n",
    "md(\"- {}{} {}{} [| Skaityti daugiau]({}) \".format(xrp['title'],'. ', xrp['body'], ' ...', xrp['url']))"
   ]
  },
  {
   "cell_type": "code",
   "execution_count": 6,
   "id": "prompt-farmer",
   "metadata": {
    "execution": {
     "iopub.execute_input": "2022-02-01T02:03:41.683540Z",
     "iopub.status.busy": "2022-02-01T02:03:41.681645Z",
     "iopub.status.idle": "2022-02-01T02:03:41.686235Z",
     "shell.execute_reply": "2022-02-01T02:03:41.686698Z"
    },
    "papermill": {
     "duration": 0.019884,
     "end_time": "2022-02-01T02:03:41.686822",
     "exception": false,
     "start_time": "2022-02-01T02:03:41.666938",
     "status": "completed"
    },
    "tags": []
   },
   "outputs": [
    {
     "data": {
      "text/markdown": [
       "- Cosmos, Tron, NEAR Price Analysis: 27 January.  With the market flashing relatively low volatility over the past two days, Tron and NEAR saw bearish patterns while flashing weak near-term technical indications. On the other hand, Cosmos broke down from its flag and pole. Now, the $32.5-makr would be crucial for the bulls to defend. Cosmos (ATOM) The sellers ensured the $43-mark resistance [&#8230;] ... [| Skaityti daugiau](https://ambcrypto.com/cosmos-tron-near-price-analysis-27-january/) "
      ],
      "text/plain": [
       "<IPython.core.display.Markdown object>"
      ]
     },
     "execution_count": 6,
     "metadata": {},
     "output_type": "execute_result"
    }
   ],
   "source": [
    "#hide_input\n",
    "#md('##### {}'.format(titleBTC)) \n",
    "md(\"- {}{} {}{} [| Skaityti daugiau]({}) \".format(trx['title'],'. ', trx['body'], ' ...', trx['url']))"
   ]
  },
  {
   "cell_type": "code",
   "execution_count": 7,
   "id": "illegal-greece",
   "metadata": {
    "execution": {
     "iopub.execute_input": "2022-02-01T02:03:41.715335Z",
     "iopub.status.busy": "2022-02-01T02:03:41.714750Z",
     "iopub.status.idle": "2022-02-01T02:03:41.720124Z",
     "shell.execute_reply": "2022-02-01T02:03:41.720596Z"
    },
    "papermill": {
     "duration": 0.022693,
     "end_time": "2022-02-01T02:03:41.720723",
     "exception": false,
     "start_time": "2022-02-01T02:03:41.698030",
     "status": "completed"
    },
    "tags": []
   },
   "outputs": [
    {
     "data": {
      "text/markdown": [
       "- A look at the numbers behind the emerging Web3 economy.  Quick TakeVerifiable decentralized networks have enabled novel web applications and models whereby creators and communities can monetize and internet-native communities can collaborateAlthough Web3 is still nascent, it is clear that there is already significant economic activity taking place resulting in new goods and services in an ecosystem comprising DeFi protocols to NFTs and gaming to DAOs and moreHere, we take a look at select numbers behind the emerging Web3 economy to try to start quantifying this new economic activity ... [| Skaityti daugiau](https://www.theblockresearch.com/a-look-at-the-numbers-behind-the-emerging-web3-economy-131677?utm_source=cryptocompare&utm_medium=rss) "
      ],
      "text/plain": [
       "<IPython.core.display.Markdown object>"
      ]
     },
     "execution_count": 7,
     "metadata": {},
     "output_type": "execute_result"
    }
   ],
   "source": [
    "#hide_input\n",
    "#md('##### {}'.format(titleBTC)) \n",
    "md(\"- {}{} {}{} [| Skaityti daugiau]({}) \".format(eth['title'],'. ', eth['body'], ' ...', eth['url']))"
   ]
  },
  {
   "cell_type": "code",
   "execution_count": 8,
   "id": "sublime-lounge",
   "metadata": {
    "execution": {
     "iopub.execute_input": "2022-02-01T02:03:41.750695Z",
     "iopub.status.busy": "2022-02-01T02:03:41.750081Z",
     "iopub.status.idle": "2022-02-01T02:03:41.753298Z",
     "shell.execute_reply": "2022-02-01T02:03:41.753889Z"
    },
    "papermill": {
     "duration": 0.02128,
     "end_time": "2022-02-01T02:03:41.754029",
     "exception": false,
     "start_time": "2022-02-01T02:03:41.732749",
     "status": "completed"
    },
    "tags": []
   },
   "outputs": [
    {
     "data": {
      "text/markdown": [
       "- Top Analyst Issues Warning to Cardano (ADA) Traders, Says Clear Bearish Pattern Forming.  A widely followed crypto trader has issued a warning to Cardano holders as ADA moves closer to the $1 level. The pseudonymous trader known as Capo tells his 239,000 Twitter followers that Cardano ADA is currently in the middle of a clean triangle pattern hinting at bearish price action in the coming days. &#8220;ADA confirming [&#8230;]The post Top Analyst Issues Warning to Cardano (ADA) Traders, Says Clear Bearish Pattern Forming appeared first on The Daily Hodl. ... [| Skaityti daugiau](https://dailyhodl.com/2022/01/31/top-analyst-issues-warning-to-cardano-ada-traders-says-clear-bearish-pattern-forming/) "
      ],
      "text/plain": [
       "<IPython.core.display.Markdown object>"
      ]
     },
     "execution_count": 8,
     "metadata": {},
     "output_type": "execute_result"
    }
   ],
   "source": [
    "#hide_input\n",
    "#md('##### {}'.format(titleBTC)) \n",
    "md(\"- {}{} {}{} [| Skaityti daugiau]({}) \".format(ada['title'],'. ', ada['body'], ' ...', ada['url']))"
   ]
  },
  {
   "cell_type": "code",
   "execution_count": 9,
   "id": "specified-ordering",
   "metadata": {
    "execution": {
     "iopub.execute_input": "2022-02-01T02:03:41.785751Z",
     "iopub.status.busy": "2022-02-01T02:03:41.783775Z",
     "iopub.status.idle": "2022-02-01T02:03:41.789655Z",
     "shell.execute_reply": "2022-02-01T02:03:41.790119Z"
    },
    "papermill": {
     "duration": 0.022536,
     "end_time": "2022-02-01T02:03:41.790272",
     "exception": false,
     "start_time": "2022-02-01T02:03:41.767736",
     "status": "completed"
    },
    "tags": []
   },
   "outputs": [
    {
     "data": {
      "text/markdown": [
       "- CoinShares Launches Staked Tezos ($XTZ) and Polkadot ($DOT) ETPs With Reduced Fees.  Digital asset investment firm CoinShares has announced the launch of two new physically-backed exchange-traded products (ETPs), one for Tezos ($XTZ) and one for Polkadot ($DOT). Both ETPs are designed to share the rewards of staking their underlying assets with investors. According to an announcement, CoinShares’ new ETPs will be listed on Germany’s Xetra exchange. Both […] ... [| Skaityti daugiau](https://www.cryptoglobe.com/latest/2022/02/coinshares-launches-staked-tezos-xtz-and-polkadot-dot-etps-with-reduced-fees/) "
      ],
      "text/plain": [
       "<IPython.core.display.Markdown object>"
      ]
     },
     "execution_count": 9,
     "metadata": {},
     "output_type": "execute_result"
    }
   ],
   "source": [
    "#hide_input\n",
    "#md('##### {}'.format(titleBTC)) \n",
    "md(\"- {}{} {}{} [| Skaityti daugiau]({}) \".format(exchange['title'],'. ', exchange['body'], ' ...', exchange['url']))"
   ]
  },
  {
   "cell_type": "code",
   "execution_count": null,
   "id": "tender-livestock",
   "metadata": {
    "papermill": {
     "duration": 0.011825,
     "end_time": "2022-02-01T02:03:41.814414",
     "exception": false,
     "start_time": "2022-02-01T02:03:41.802589",
     "status": "completed"
    },
    "tags": []
   },
   "outputs": [],
   "source": []
  },
  {
   "cell_type": "code",
   "execution_count": null,
   "id": "appreciated-diamond",
   "metadata": {
    "papermill": {
     "duration": 0.012898,
     "end_time": "2022-02-01T02:03:41.839522",
     "exception": false,
     "start_time": "2022-02-01T02:03:41.826624",
     "status": "completed"
    },
    "tags": []
   },
   "outputs": [],
   "source": []
  },
  {
   "cell_type": "code",
   "execution_count": null,
   "id": "romance-sweden",
   "metadata": {
    "papermill": {
     "duration": 0.014052,
     "end_time": "2022-02-01T02:03:41.866477",
     "exception": false,
     "start_time": "2022-02-01T02:03:41.852425",
     "status": "completed"
    },
    "tags": []
   },
   "outputs": [],
   "source": []
  },
  {
   "cell_type": "code",
   "execution_count": null,
   "id": "dietary-statistics",
   "metadata": {
    "papermill": {
     "duration": 0.013139,
     "end_time": "2022-02-01T02:03:41.892914",
     "exception": false,
     "start_time": "2022-02-01T02:03:41.879775",
     "status": "completed"
    },
    "tags": []
   },
   "outputs": [],
   "source": []
  }
 ],
 "metadata": {
  "kernelspec": {
   "display_name": "Python 3",
   "language": "python",
   "name": "python3"
  },
  "language_info": {
   "codemirror_mode": {
    "name": "ipython",
    "version": 3
   },
   "file_extension": ".py",
   "mimetype": "text/x-python",
   "name": "python",
   "nbconvert_exporter": "python",
   "pygments_lexer": "ipython3",
   "version": "3.6.15"
  },
  "papermill": {
   "default_parameters": {},
   "duration": 15.557895,
   "end_time": "2022-02-01T02:03:42.325322",
   "environment_variables": {},
   "exception": null,
   "input_path": "Market-News.ipynb",
   "output_path": "Market-News.ipynb",
   "parameters": {},
   "start_time": "2022-02-01T02:03:26.767427",
   "version": "2.2.2"
  }
 },
 "nbformat": 4,
 "nbformat_minor": 5
}