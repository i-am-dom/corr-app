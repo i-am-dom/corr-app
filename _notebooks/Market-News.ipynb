{
 "cells": [
  {
   "cell_type": "markdown",
   "id": "short-greensboro",
   "metadata": {
    "papermill": {
     "duration": 0.014441,
     "end_time": "2022-10-21T03:08:26.837147",
     "exception": false,
     "start_time": "2022-10-21T03:08:26.822706",
     "status": "completed"
    },
    "tags": []
   },
   "source": [
    "# Kriptovaliutų naujienos"
   ]
  },
  {
   "cell_type": "code",
   "execution_count": 1,
   "id": "functioning-knowing",
   "metadata": {
    "execution": {
     "iopub.execute_input": "2022-10-21T03:08:26.873260Z",
     "iopub.status.busy": "2022-10-21T03:08:26.872353Z",
     "iopub.status.idle": "2022-10-21T03:08:28.197887Z",
     "shell.execute_reply": "2022-10-21T03:08:28.197363Z"
    },
    "papermill": {
     "duration": 1.349255,
     "end_time": "2022-10-21T03:08:28.198036",
     "exception": false,
     "start_time": "2022-10-21T03:08:26.848781",
     "status": "completed"
    },
    "tags": []
   },
   "outputs": [],
   "source": [
    "#hide_input\n",
    "import warnings\n",
    "warnings.filterwarnings('ignore')\n",
    "from scripts.read_data import read_api\n",
    "from scripts.read_data import read_news\n",
    "from scripts.read_data import read_covid\n",
    "import matplotlib.pyplot as plt \n",
    "from IPython.display import Markdown as md"
   ]
  },
  {
   "cell_type": "code",
   "execution_count": 2,
   "id": "shared-acceptance",
   "metadata": {
    "execution": {
     "iopub.execute_input": "2022-10-21T03:08:28.224759Z",
     "iopub.status.busy": "2022-10-21T03:08:28.223560Z",
     "iopub.status.idle": "2022-10-21T03:08:38.743418Z",
     "shell.execute_reply": "2022-10-21T03:08:38.742505Z"
    },
    "papermill": {
     "duration": 10.535159,
     "end_time": "2022-10-21T03:08:38.743555",
     "exception": false,
     "start_time": "2022-10-21T03:08:28.208396",
     "status": "completed"
    },
    "tags": []
   },
   "outputs": [],
   "source": [
    "#hide_input\n",
    "blockchain = read_news('blockchain') \n",
    "btc = read_news('btc') \n",
    "xrp = read_news('xrp') \n",
    "trx = read_news('trx') \n",
    "eth = read_news('eth')  \n",
    "ada = read_news('ada')\n",
    "exchange = read_news('exchange') "
   ]
  },
  {
   "cell_type": "code",
   "execution_count": 3,
   "id": "synthetic-notion",
   "metadata": {
    "execution": {
     "iopub.execute_input": "2022-10-21T03:08:38.768981Z",
     "iopub.status.busy": "2022-10-21T03:08:38.768317Z",
     "iopub.status.idle": "2022-10-21T03:08:38.771666Z",
     "shell.execute_reply": "2022-10-21T03:08:38.772122Z"
    },
    "papermill": {
     "duration": 0.018806,
     "end_time": "2022-10-21T03:08:38.772240",
     "exception": false,
     "start_time": "2022-10-21T03:08:38.753434",
     "status": "completed"
    },
    "tags": []
   },
   "outputs": [
    {
     "data": {
      "text/markdown": [
       "- Algorand is now on Cardano? Decoding the true picture.  Charles Hoskinson, the co-founder of IOHK (Input Output Hong Kong), tweeted that Algorand was now on Cardano in a rather dramatic manner. Hoskinson responded to a tweet announcing that Milkomeda, a layer 2 protocol, was now live on Algorand. Here’s AMBCrypto’s Price Prediction for Cardano(ADA) for 2022-2023 Getting into the real details Cardano and Algorand [&#8230;] ... [| Skaityti daugiau](https://ambcrypto.com/algorand-is-now-on-cardano-decoding-the-true-picture/) "
      ],
      "text/plain": [
       "<IPython.core.display.Markdown object>"
      ]
     },
     "execution_count": 3,
     "metadata": {},
     "output_type": "execute_result"
    }
   ],
   "source": [
    "#hide_input\n",
    "#md('##### {}'.format(titleBTC)) \n",
    "md(\"- {}{} {}{} [| Skaityti daugiau]({}) \".format(blockchain['title'],'. ', blockchain['body'], ' ...', blockchain['url']))"
   ]
  },
  {
   "cell_type": "code",
   "execution_count": 4,
   "id": "aging-caution",
   "metadata": {
    "execution": {
     "iopub.execute_input": "2022-10-21T03:08:38.796385Z",
     "iopub.status.busy": "2022-10-21T03:08:38.795636Z",
     "iopub.status.idle": "2022-10-21T03:08:38.799867Z",
     "shell.execute_reply": "2022-10-21T03:08:38.799194Z"
    },
    "papermill": {
     "duration": 0.01809,
     "end_time": "2022-10-21T03:08:38.799973",
     "exception": false,
     "start_time": "2022-10-21T03:08:38.781883",
     "status": "completed"
    },
    "tags": []
   },
   "outputs": [
    {
     "data": {
      "text/markdown": [
       "- These Altcoins May Have A Bull Run By This Weekend! Is The Crypto Winter About To End?.  The post These Altcoins May Have A Bull Run By This Weekend! Is The Crypto Winter About To End? appeared first on Coinpedia Fintech NewsThe bearish trend of the crypto market that kicked off in November 2021 and accelerated in May this year seems to be fading away as investors are again showing interest, and several crypto firms are actively acquiring partnerships to bring more valuable integrations to the crypto space. According to on-chain data provider Santiment, BTC, BNB, &#8230; ... [| Skaityti daugiau](https://coinpedia.org/altcoin/these-altcoins-may-have-a-bull-run-by-this-weekend-is-the-crypto-winter-about-to-end/) "
      ],
      "text/plain": [
       "<IPython.core.display.Markdown object>"
      ]
     },
     "execution_count": 4,
     "metadata": {},
     "output_type": "execute_result"
    }
   ],
   "source": [
    "#hide_input\n",
    "#md('##### {}'.format(titleBTC)) \n",
    "md(\"- {}{} {}{} [| Skaityti daugiau]({}) \".format(btc['title'],'. ', btc['body'], ' ...', btc['url']))"
   ]
  },
  {
   "cell_type": "code",
   "execution_count": 5,
   "id": "organic-actress",
   "metadata": {
    "execution": {
     "iopub.execute_input": "2022-10-21T03:08:38.824199Z",
     "iopub.status.busy": "2022-10-21T03:08:38.823594Z",
     "iopub.status.idle": "2022-10-21T03:08:38.828790Z",
     "shell.execute_reply": "2022-10-21T03:08:38.828117Z"
    },
    "papermill": {
     "duration": 0.019231,
     "end_time": "2022-10-21T03:08:38.828913",
     "exception": false,
     "start_time": "2022-10-21T03:08:38.809682",
     "status": "completed"
    },
    "tags": []
   },
   "outputs": [
    {
     "data": {
      "text/markdown": [
       "- Ripple Obtains Long-Sought Documents of Former SEC Official Who Declared Ethereum Not a Security.  \"The shamefulness of their behavior here will shock you,\" says CEO Brad Garlinghouse. ... [| Skaityti daugiau](https://decrypt.co/112550/ripple-obtains-long-sought-documents-of-former-sec-official-who-declared-ethereum-not-a-security) "
      ],
      "text/plain": [
       "<IPython.core.display.Markdown object>"
      ]
     },
     "execution_count": 5,
     "metadata": {},
     "output_type": "execute_result"
    }
   ],
   "source": [
    "#hide_input\n",
    "#md('##### {}'.format(titleBTC)) \n",
    "md(\"- {}{} {}{} [| Skaityti daugiau]({}) \".format(xrp['title'],'. ', xrp['body'], ' ...', xrp['url']))"
   ]
  },
  {
   "cell_type": "code",
   "execution_count": 6,
   "id": "prompt-farmer",
   "metadata": {
    "execution": {
     "iopub.execute_input": "2022-10-21T03:08:38.854447Z",
     "iopub.status.busy": "2022-10-21T03:08:38.853843Z",
     "iopub.status.idle": "2022-10-21T03:08:38.857010Z",
     "shell.execute_reply": "2022-10-21T03:08:38.857604Z"
    },
    "papermill": {
     "duration": 0.018803,
     "end_time": "2022-10-21T03:08:38.857729",
     "exception": false,
     "start_time": "2022-10-21T03:08:38.838926",
     "status": "completed"
    },
    "tags": []
   },
   "outputs": [
    {
     "data": {
      "text/markdown": [
       "- Tron: Can these new updates help TRX climb up the price ladder.  Tron [TRX] recently made an achievement as it nabbed the third spot in the list of the most influential BTT in one month. BTT is a TRON TRC-10 cryptographic token. Here’s AMBCrypto’s Price Prediction for Tron (TRX) for 2023-24 In order to transfer computer resources between BitTorrent clients and a market of service requesters and [&#8230;] ... [| Skaityti daugiau](https://ambcrypto.com/tron-can-these-new-updates-help-trx-climb-up-the-price-ladder/) "
      ],
      "text/plain": [
       "<IPython.core.display.Markdown object>"
      ]
     },
     "execution_count": 6,
     "metadata": {},
     "output_type": "execute_result"
    }
   ],
   "source": [
    "#hide_input\n",
    "#md('##### {}'.format(titleBTC)) \n",
    "md(\"- {}{} {}{} [| Skaityti daugiau]({}) \".format(trx['title'],'. ', trx['body'], ' ...', trx['url']))"
   ]
  },
  {
   "cell_type": "code",
   "execution_count": 7,
   "id": "illegal-greece",
   "metadata": {
    "execution": {
     "iopub.execute_input": "2022-10-21T03:08:38.885390Z",
     "iopub.status.busy": "2022-10-21T03:08:38.884676Z",
     "iopub.status.idle": "2022-10-21T03:08:38.888223Z",
     "shell.execute_reply": "2022-10-21T03:08:38.888716Z"
    },
    "papermill": {
     "duration": 0.019995,
     "end_time": "2022-10-21T03:08:38.888833",
     "exception": false,
     "start_time": "2022-10-21T03:08:38.868838",
     "status": "completed"
    },
    "tags": []
   },
   "outputs": [
    {
     "data": {
      "text/markdown": [
       "- Ripple Obtains Long-Sought Documents of Former SEC Official Who Declared Ethereum Not a Security.  \"The shamefulness of their behavior here will shock you,\" says CEO Brad Garlinghouse. ... [| Skaityti daugiau](https://decrypt.co/112550/ripple-obtains-long-sought-documents-of-former-sec-official-who-declared-ethereum-not-a-security) "
      ],
      "text/plain": [
       "<IPython.core.display.Markdown object>"
      ]
     },
     "execution_count": 7,
     "metadata": {},
     "output_type": "execute_result"
    }
   ],
   "source": [
    "#hide_input\n",
    "#md('##### {}'.format(titleBTC)) \n",
    "md(\"- {}{} {}{} [| Skaityti daugiau]({}) \".format(eth['title'],'. ', eth['body'], ' ...', eth['url']))"
   ]
  },
  {
   "cell_type": "code",
   "execution_count": 8,
   "id": "sublime-lounge",
   "metadata": {
    "execution": {
     "iopub.execute_input": "2022-10-21T03:08:38.916345Z",
     "iopub.status.busy": "2022-10-21T03:08:38.915604Z",
     "iopub.status.idle": "2022-10-21T03:08:38.920020Z",
     "shell.execute_reply": "2022-10-21T03:08:38.919484Z"
    },
    "papermill": {
     "duration": 0.019376,
     "end_time": "2022-10-21T03:08:38.920151",
     "exception": false,
     "start_time": "2022-10-21T03:08:38.900775",
     "status": "completed"
    },
    "tags": []
   },
   "outputs": [
    {
     "data": {
      "text/markdown": [
       "- Algorand is now on Cardano? Decoding the true picture.  Charles Hoskinson, the co-founder of IOHK (Input Output Hong Kong), tweeted that Algorand was now on Cardano in a rather dramatic manner. Hoskinson responded to a tweet announcing that Milkomeda, a layer 2 protocol, was now live on Algorand. Here’s AMBCrypto’s Price Prediction for Cardano(ADA) for 2022-2023 Getting into the real details Cardano and Algorand [&#8230;] ... [| Skaityti daugiau](https://ambcrypto.com/algorand-is-now-on-cardano-decoding-the-true-picture/) "
      ],
      "text/plain": [
       "<IPython.core.display.Markdown object>"
      ]
     },
     "execution_count": 8,
     "metadata": {},
     "output_type": "execute_result"
    }
   ],
   "source": [
    "#hide_input\n",
    "#md('##### {}'.format(titleBTC)) \n",
    "md(\"- {}{} {}{} [| Skaityti daugiau]({}) \".format(ada['title'],'. ', ada['body'], ' ...', ada['url']))"
   ]
  },
  {
   "cell_type": "code",
   "execution_count": 9,
   "id": "specified-ordering",
   "metadata": {
    "execution": {
     "iopub.execute_input": "2022-10-21T03:08:38.949897Z",
     "iopub.status.busy": "2022-10-21T03:08:38.949272Z",
     "iopub.status.idle": "2022-10-21T03:08:38.952657Z",
     "shell.execute_reply": "2022-10-21T03:08:38.953227Z"
    },
    "papermill": {
     "duration": 0.019997,
     "end_time": "2022-10-21T03:08:38.953340",
     "exception": false,
     "start_time": "2022-10-21T03:08:38.933343",
     "status": "completed"
    },
    "tags": []
   },
   "outputs": [
    {
     "data": {
      "text/markdown": [
       "- Bitcoin Futures Traders Are Mostly Whales Now, Says Top Analyst.  BTC whales have dominated new derivatives exchange deposits, pushing the metric to a five-year high ... [| Skaityti daugiau](https://u.today/bitcoin-futures-traders-are-mostly-whales-now-says-top-analyst) "
      ],
      "text/plain": [
       "<IPython.core.display.Markdown object>"
      ]
     },
     "execution_count": 9,
     "metadata": {},
     "output_type": "execute_result"
    }
   ],
   "source": [
    "#hide_input\n",
    "#md('##### {}'.format(titleBTC)) \n",
    "md(\"- {}{} {}{} [| Skaityti daugiau]({}) \".format(exchange['title'],'. ', exchange['body'], ' ...', exchange['url']))"
   ]
  },
  {
   "cell_type": "code",
   "execution_count": null,
   "id": "tender-livestock",
   "metadata": {
    "papermill": {
     "duration": 0.011367,
     "end_time": "2022-10-21T03:08:38.975956",
     "exception": false,
     "start_time": "2022-10-21T03:08:38.964589",
     "status": "completed"
    },
    "tags": []
   },
   "outputs": [],
   "source": []
  },
  {
   "cell_type": "code",
   "execution_count": null,
   "id": "appreciated-diamond",
   "metadata": {
    "papermill": {
     "duration": 0.013936,
     "end_time": "2022-10-21T03:08:39.004483",
     "exception": false,
     "start_time": "2022-10-21T03:08:38.990547",
     "status": "completed"
    },
    "tags": []
   },
   "outputs": [],
   "source": []
  },
  {
   "cell_type": "code",
   "execution_count": null,
   "id": "romance-sweden",
   "metadata": {
    "papermill": {
     "duration": 0.014282,
     "end_time": "2022-10-21T03:08:39.032951",
     "exception": false,
     "start_time": "2022-10-21T03:08:39.018669",
     "status": "completed"
    },
    "tags": []
   },
   "outputs": [],
   "source": []
  },
  {
   "cell_type": "code",
   "execution_count": null,
   "id": "dietary-statistics",
   "metadata": {
    "papermill": {
     "duration": 0.017029,
     "end_time": "2022-10-21T03:08:39.064970",
     "exception": false,
     "start_time": "2022-10-21T03:08:39.047941",
     "status": "completed"
    },
    "tags": []
   },
   "outputs": [],
   "source": []
  }
 ],
 "metadata": {
  "kernelspec": {
   "display_name": "Python 3",
   "language": "python",
   "name": "python3"
  },
  "language_info": {
   "codemirror_mode": {
    "name": "ipython",
    "version": 3
   },
   "file_extension": ".py",
   "mimetype": "text/x-python",
   "name": "python",
   "nbconvert_exporter": "python",
   "pygments_lexer": "ipython3",
   "version": "3.6.15"
  },
  "papermill": {
   "default_parameters": {},
   "duration": 13.917695,
   "end_time": "2022-10-21T03:08:39.500964",
   "environment_variables": {},
   "exception": null,
   "input_path": "Market-News.ipynb",
   "output_path": "Market-News.ipynb",
   "parameters": {},
   "start_time": "2022-10-21T03:08:25.583269",
   "version": "2.2.2"
  }
 },
 "nbformat": 4,
 "nbformat_minor": 5
}