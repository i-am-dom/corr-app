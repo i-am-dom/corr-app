{
 "cells": [
  {
   "cell_type": "markdown",
   "id": "short-greensboro",
   "metadata": {
    "papermill": {
     "duration": 0.018084,
     "end_time": "2022-07-28T03:12:44.517886",
     "exception": false,
     "start_time": "2022-07-28T03:12:44.499802",
     "status": "completed"
    },
    "tags": []
   },
   "source": [
    "# Kriptovaliutų naujienos"
   ]
  },
  {
   "cell_type": "code",
   "execution_count": 1,
   "id": "functioning-knowing",
   "metadata": {
    "execution": {
     "iopub.execute_input": "2022-07-28T03:12:44.551962Z",
     "iopub.status.busy": "2022-07-28T03:12:44.551166Z",
     "iopub.status.idle": "2022-07-28T03:12:46.007267Z",
     "shell.execute_reply": "2022-07-28T03:12:46.008241Z"
    },
    "papermill": {
     "duration": 1.479689,
     "end_time": "2022-07-28T03:12:46.008438",
     "exception": false,
     "start_time": "2022-07-28T03:12:44.528749",
     "status": "completed"
    },
    "tags": []
   },
   "outputs": [],
   "source": [
    "#hide_input\n",
    "import warnings\n",
    "warnings.filterwarnings('ignore')\n",
    "from scripts.read_data import read_api\n",
    "from scripts.read_data import read_news\n",
    "from scripts.read_data import read_covid\n",
    "import matplotlib.pyplot as plt \n",
    "from IPython.display import Markdown as md"
   ]
  },
  {
   "cell_type": "code",
   "execution_count": 2,
   "id": "shared-acceptance",
   "metadata": {
    "execution": {
     "iopub.execute_input": "2022-07-28T03:12:46.037045Z",
     "iopub.status.busy": "2022-07-28T03:12:46.036084Z",
     "iopub.status.idle": "2022-07-28T03:12:55.504097Z",
     "shell.execute_reply": "2022-07-28T03:12:55.504872Z"
    },
    "papermill": {
     "duration": 9.486081,
     "end_time": "2022-07-28T03:12:55.505039",
     "exception": false,
     "start_time": "2022-07-28T03:12:46.018958",
     "status": "completed"
    },
    "tags": []
   },
   "outputs": [],
   "source": [
    "#hide_input\n",
    "blockchain = read_news('blockchain') \n",
    "btc = read_news('btc') \n",
    "xrp = read_news('xrp') \n",
    "trx = read_news('trx') \n",
    "eth = read_news('eth')  \n",
    "ada = read_news('ada')\n",
    "exchange = read_news('exchange') "
   ]
  },
  {
   "cell_type": "code",
   "execution_count": 3,
   "id": "synthetic-notion",
   "metadata": {
    "execution": {
     "iopub.execute_input": "2022-07-28T03:12:55.533438Z",
     "iopub.status.busy": "2022-07-28T03:12:55.532741Z",
     "iopub.status.idle": "2022-07-28T03:12:55.536847Z",
     "shell.execute_reply": "2022-07-28T03:12:55.536283Z"
    },
    "papermill": {
     "duration": 0.021468,
     "end_time": "2022-07-28T03:12:55.536975",
     "exception": false,
     "start_time": "2022-07-28T03:12:55.515507",
     "status": "completed"
    },
    "tags": []
   },
   "outputs": [
    {
     "data": {
      "text/markdown": [
       "- IMF: The risk of recession is particularly prominent in 2023.  The International Monetary Fund or IMF recently released its World Economic Outlook update for this month, which suggests that 2022 has been &#8220;gloomy and more uncertain.&#8221; The IMF&#8217;s pessimistic view suggests the possibility that digital asset markets would continue to suffer. It said that &#8220;Several shocks have hit a world economy already weakened by the pandemic.&#8221; A [&#8230;]The post IMF: The risk of recession is particularly prominent in 2023 appeared first on Blockchain, Crypto and Stock News. ... [| Skaityti daugiau](https://thecoinrise.com/imf-the-risk-of-recession-is-particularly-prominent-in-2023/) "
      ],
      "text/plain": [
       "<IPython.core.display.Markdown object>"
      ]
     },
     "execution_count": 3,
     "metadata": {},
     "output_type": "execute_result"
    }
   ],
   "source": [
    "#hide_input\n",
    "#md('##### {}'.format(titleBTC)) \n",
    "md(\"- {}{} {}{} [| Skaityti daugiau]({}) \".format(blockchain['title'],'. ', blockchain['body'], ' ...', blockchain['url']))"
   ]
  },
  {
   "cell_type": "code",
   "execution_count": 4,
   "id": "aging-caution",
   "metadata": {
    "execution": {
     "iopub.execute_input": "2022-07-28T03:12:55.564737Z",
     "iopub.status.busy": "2022-07-28T03:12:55.563810Z",
     "iopub.status.idle": "2022-07-28T03:12:55.566600Z",
     "shell.execute_reply": "2022-07-28T03:12:55.567112Z"
    },
    "papermill": {
     "duration": 0.019734,
     "end_time": "2022-07-28T03:12:55.567249",
     "exception": false,
     "start_time": "2022-07-28T03:12:55.547515",
     "status": "completed"
    },
    "tags": []
   },
   "outputs": [
    {
     "data": {
      "text/markdown": [
       "- Bitcoin Is The Lifeboat When Hurricanes Make Landfall.  After experiencing back-to-back Category 5 hurricanes, one Bitcoiner recognized the clearest way to prepare for an uncertain monetary future. ... [| Skaityti daugiau](https://bitcoinmagazine.com/culture/bitcoin-is-the-lifeboat-after-hurricanes) "
      ],
      "text/plain": [
       "<IPython.core.display.Markdown object>"
      ]
     },
     "execution_count": 4,
     "metadata": {},
     "output_type": "execute_result"
    }
   ],
   "source": [
    "#hide_input\n",
    "#md('##### {}'.format(titleBTC)) \n",
    "md(\"- {}{} {}{} [| Skaityti daugiau]({}) \".format(btc['title'],'. ', btc['body'], ' ...', btc['url']))"
   ]
  },
  {
   "cell_type": "code",
   "execution_count": 5,
   "id": "organic-actress",
   "metadata": {
    "execution": {
     "iopub.execute_input": "2022-07-28T03:12:55.595190Z",
     "iopub.status.busy": "2022-07-28T03:12:55.593538Z",
     "iopub.status.idle": "2022-07-28T03:12:55.598925Z",
     "shell.execute_reply": "2022-07-28T03:12:55.598273Z"
    },
    "papermill": {
     "duration": 0.02101,
     "end_time": "2022-07-28T03:12:55.599046",
     "exception": false,
     "start_time": "2022-07-28T03:12:55.578036",
     "status": "completed"
    },
    "tags": []
   },
   "outputs": [
    {
     "data": {
      "text/markdown": [
       "- Ripple CEO Discusses Potential Outcomes of SEC Lawsuit Over XRP.  Ripple&#x2019;s chief executive has shared his views on possible outcomes of the lawsuit brought by the U.S. Securities and Exchange Commission (SEC) over the sale of xrp, which the regulator claims to be an unregistered securities offering. Ripple&#x2019;s CEO Discusses Implications of SEC Winning the Lawsuit Ripple CEO Brad Garlinghouse discussed the lawsuit brought by [&#8230;] ... [| Skaityti daugiau](https://news.bitcoin.com/ripple-ceo-discusses-potential-outcomes-of-sec-lawsuit-over-xrp/) "
      ],
      "text/plain": [
       "<IPython.core.display.Markdown object>"
      ]
     },
     "execution_count": 5,
     "metadata": {},
     "output_type": "execute_result"
    }
   ],
   "source": [
    "#hide_input\n",
    "#md('##### {}'.format(titleBTC)) \n",
    "md(\"- {}{} {}{} [| Skaityti daugiau]({}) \".format(xrp['title'],'. ', xrp['body'], ' ...', xrp['url']))"
   ]
  },
  {
   "cell_type": "code",
   "execution_count": 6,
   "id": "prompt-farmer",
   "metadata": {
    "execution": {
     "iopub.execute_input": "2022-07-28T03:12:55.627995Z",
     "iopub.status.busy": "2022-07-28T03:12:55.627138Z",
     "iopub.status.idle": "2022-07-28T03:12:55.630931Z",
     "shell.execute_reply": "2022-07-28T03:12:55.630181Z"
    },
    "papermill": {
     "duration": 0.020866,
     "end_time": "2022-07-28T03:12:55.631056",
     "exception": false,
     "start_time": "2022-07-28T03:12:55.610190",
     "status": "completed"
    },
    "tags": []
   },
   "outputs": [
    {
     "data": {
      "text/markdown": [
       "- Biggest Movers: ETC Nears 10-Week High, as TRX Extends Recent Gains.  Ethereum classic was approaching a ten-week high on Wednesday, as prices rose by over 14% in today&#x2019;s session. These gains came as prices rose for a second consecutive day, with tron also extending recent gains during hump day. Overall, the crypto market cap is 1.51% higher as of writing. Ethereum Classic (ETC) Ethereum classic (ETC) [&#8230;] ... [| Skaityti daugiau](https://news.bitcoin.com/biggest-movers-etc-nears-10-week-high-as-trx-extends-recent-gains/) "
      ],
      "text/plain": [
       "<IPython.core.display.Markdown object>"
      ]
     },
     "execution_count": 6,
     "metadata": {},
     "output_type": "execute_result"
    }
   ],
   "source": [
    "#hide_input\n",
    "#md('##### {}'.format(titleBTC)) \n",
    "md(\"- {}{} {}{} [| Skaityti daugiau]({}) \".format(trx['title'],'. ', trx['body'], ' ...', trx['url']))"
   ]
  },
  {
   "cell_type": "code",
   "execution_count": 7,
   "id": "illegal-greece",
   "metadata": {
    "execution": {
     "iopub.execute_input": "2022-07-28T03:12:55.666283Z",
     "iopub.status.busy": "2022-07-28T03:12:55.665286Z",
     "iopub.status.idle": "2022-07-28T03:12:55.670379Z",
     "shell.execute_reply": "2022-07-28T03:12:55.669602Z"
    },
    "papermill": {
     "duration": 0.025399,
     "end_time": "2022-07-28T03:12:55.670506",
     "exception": false,
     "start_time": "2022-07-28T03:12:55.645107",
     "status": "completed"
    },
    "tags": []
   },
   "outputs": [
    {
     "data": {
      "text/markdown": [
       "- Bitcoin, Ethereum, Helium, and Maker Daily Price Analyses – 27 July Roundup.  The performance of the global crypto market has witnessed a speedy change in recent hours. A bullish influx has been seen in the market, which strengthened Bitcoin, Ethereum, and others. The speedy gains for these coins have helped make up for the losses of the last few days in a single go. As the bullish &#8230;  Bitcoin, Ethereum, Helium, and Maker Daily Price Analyses – 27 July Roundup Read More &#187; ... [| Skaityti daugiau](https://www.cryptopolitan.com/bitcoin-ethereum-helium-and-maker-daily-price-analyses-27-july-roundup/) "
      ],
      "text/plain": [
       "<IPython.core.display.Markdown object>"
      ]
     },
     "execution_count": 7,
     "metadata": {},
     "output_type": "execute_result"
    }
   ],
   "source": [
    "#hide_input\n",
    "#md('##### {}'.format(titleBTC)) \n",
    "md(\"- {}{} {}{} [| Skaityti daugiau]({}) \".format(eth['title'],'. ', eth['body'], ' ...', eth['url']))"
   ]
  },
  {
   "cell_type": "code",
   "execution_count": 8,
   "id": "sublime-lounge",
   "metadata": {
    "execution": {
     "iopub.execute_input": "2022-07-28T03:12:55.705948Z",
     "iopub.status.busy": "2022-07-28T03:12:55.704715Z",
     "iopub.status.idle": "2022-07-28T03:12:55.708413Z",
     "shell.execute_reply": "2022-07-28T03:12:55.707858Z"
    },
    "papermill": {
     "duration": 0.024851,
     "end_time": "2022-07-28T03:12:55.708532",
     "exception": false,
     "start_time": "2022-07-28T03:12:55.683681",
     "status": "completed"
    },
    "tags": []
   },
   "outputs": [
    {
     "data": {
      "text/markdown": [
       "- Diamond Hands: Coinbase Data Shows Stronger Accumulation Trend for $ADA Than Other Top Cryptos.  Users on the Nasdaq-listed cryptocurrency exchange Coinbase have a median holding time for Cardano ($ADA) over 125 days, superior to most other top cryptoassets on the platform, as they keep on HODLing through the bear market. According to data shown on Coinbase’s price pages, Cardano’s ADA has a typical hold time of 153 days, meaning […] ... [| Skaityti daugiau](https://www.cryptoglobe.com/latest/2022/07/diamond-hands-coinbase-data-shows-stronger-accumulation-trend-for-ada-than-other-top-cryptos/) "
      ],
      "text/plain": [
       "<IPython.core.display.Markdown object>"
      ]
     },
     "execution_count": 8,
     "metadata": {},
     "output_type": "execute_result"
    }
   ],
   "source": [
    "#hide_input\n",
    "#md('##### {}'.format(titleBTC)) \n",
    "md(\"- {}{} {}{} [| Skaityti daugiau]({}) \".format(ada['title'],'. ', ada['body'], ' ...', ada['url']))"
   ]
  },
  {
   "cell_type": "code",
   "execution_count": 9,
   "id": "specified-ordering",
   "metadata": {
    "execution": {
     "iopub.execute_input": "2022-07-28T03:12:55.740212Z",
     "iopub.status.busy": "2022-07-28T03:12:55.739493Z",
     "iopub.status.idle": "2022-07-28T03:12:55.743461Z",
     "shell.execute_reply": "2022-07-28T03:12:55.742908Z"
    },
    "papermill": {
     "duration": 0.022103,
     "end_time": "2022-07-28T03:12:55.743586",
     "exception": false,
     "start_time": "2022-07-28T03:12:55.721483",
     "status": "completed"
    },
    "tags": []
   },
   "outputs": [
    {
     "data": {
      "text/markdown": [
       "- Diamond Hands: Coinbase Data Shows Stronger Accumulation Trend for $ADA Than Other Top Cryptos.  Users on the Nasdaq-listed cryptocurrency exchange Coinbase have a median holding time for Cardano ($ADA) over 125 days, superior to most other top cryptoassets on the platform, as they keep on HODLing through the bear market. According to data shown on Coinbase’s price pages, Cardano’s ADA has a typical hold time of 153 days, meaning […] ... [| Skaityti daugiau](https://www.cryptoglobe.com/latest/2022/07/diamond-hands-coinbase-data-shows-stronger-accumulation-trend-for-ada-than-other-top-cryptos/) "
      ],
      "text/plain": [
       "<IPython.core.display.Markdown object>"
      ]
     },
     "execution_count": 9,
     "metadata": {},
     "output_type": "execute_result"
    }
   ],
   "source": [
    "#hide_input\n",
    "#md('##### {}'.format(titleBTC)) \n",
    "md(\"- {}{} {}{} [| Skaityti daugiau]({}) \".format(exchange['title'],'. ', exchange['body'], ' ...', exchange['url']))"
   ]
  },
  {
   "cell_type": "code",
   "execution_count": null,
   "id": "tender-livestock",
   "metadata": {
    "papermill": {
     "duration": 0.012716,
     "end_time": "2022-07-28T03:12:55.769179",
     "exception": false,
     "start_time": "2022-07-28T03:12:55.756463",
     "status": "completed"
    },
    "tags": []
   },
   "outputs": [],
   "source": []
  },
  {
   "cell_type": "code",
   "execution_count": null,
   "id": "appreciated-diamond",
   "metadata": {
    "papermill": {
     "duration": 0.012573,
     "end_time": "2022-07-28T03:12:55.794377",
     "exception": false,
     "start_time": "2022-07-28T03:12:55.781804",
     "status": "completed"
    },
    "tags": []
   },
   "outputs": [],
   "source": []
  },
  {
   "cell_type": "code",
   "execution_count": null,
   "id": "romance-sweden",
   "metadata": {
    "papermill": {
     "duration": 0.014552,
     "end_time": "2022-07-28T03:12:55.828367",
     "exception": false,
     "start_time": "2022-07-28T03:12:55.813815",
     "status": "completed"
    },
    "tags": []
   },
   "outputs": [],
   "source": []
  },
  {
   "cell_type": "code",
   "execution_count": null,
   "id": "dietary-statistics",
   "metadata": {
    "papermill": {
     "duration": 0.012691,
     "end_time": "2022-07-28T03:12:55.853714",
     "exception": false,
     "start_time": "2022-07-28T03:12:55.841023",
     "status": "completed"
    },
    "tags": []
   },
   "outputs": [],
   "source": []
  }
 ],
 "metadata": {
  "kernelspec": {
   "display_name": "Python 3",
   "language": "python",
   "name": "python3"
  },
  "language_info": {
   "codemirror_mode": {
    "name": "ipython",
    "version": 3
   },
   "file_extension": ".py",
   "mimetype": "text/x-python",
   "name": "python",
   "nbconvert_exporter": "python",
   "pygments_lexer": "ipython3",
   "version": "3.6.15"
  },
  "papermill": {
   "default_parameters": {},
   "duration": 13.030019,
   "end_time": "2022-07-28T03:12:56.386826",
   "environment_variables": {},
   "exception": null,
   "input_path": "Market-News.ipynb",
   "output_path": "Market-News.ipynb",
   "parameters": {},
   "start_time": "2022-07-28T03:12:43.356807",
   "version": "2.2.2"
  }
 },
 "nbformat": 4,
 "nbformat_minor": 5
}