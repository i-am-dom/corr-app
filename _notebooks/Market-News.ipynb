{
 "cells": [
  {
   "cell_type": "markdown",
   "id": "short-greensboro",
   "metadata": {
    "papermill": {
     "duration": 0.014732,
     "end_time": "2022-09-21T03:52:33.488960",
     "exception": false,
     "start_time": "2022-09-21T03:52:33.474228",
     "status": "completed"
    },
    "tags": []
   },
   "source": [
    "# Kriptovaliutų naujienos"
   ]
  },
  {
   "cell_type": "code",
   "execution_count": 1,
   "id": "functioning-knowing",
   "metadata": {
    "execution": {
     "iopub.execute_input": "2022-09-21T03:52:33.519383Z",
     "iopub.status.busy": "2022-09-21T03:52:33.518757Z",
     "iopub.status.idle": "2022-09-21T03:52:34.846190Z",
     "shell.execute_reply": "2022-09-21T03:52:34.845633Z"
    },
    "papermill": {
     "duration": 1.347306,
     "end_time": "2022-09-21T03:52:34.846347",
     "exception": false,
     "start_time": "2022-09-21T03:52:33.499041",
     "status": "completed"
    },
    "tags": []
   },
   "outputs": [],
   "source": [
    "#hide_input\n",
    "import warnings\n",
    "warnings.filterwarnings('ignore')\n",
    "from scripts.read_data import read_api\n",
    "from scripts.read_data import read_news\n",
    "from scripts.read_data import read_covid\n",
    "import matplotlib.pyplot as plt \n",
    "from IPython.display import Markdown as md"
   ]
  },
  {
   "cell_type": "code",
   "execution_count": 2,
   "id": "shared-acceptance",
   "metadata": {
    "execution": {
     "iopub.execute_input": "2022-09-21T03:52:34.872437Z",
     "iopub.status.busy": "2022-09-21T03:52:34.871796Z",
     "iopub.status.idle": "2022-09-21T03:52:44.845036Z",
     "shell.execute_reply": "2022-09-21T03:52:44.844470Z"
    },
    "papermill": {
     "duration": 9.989473,
     "end_time": "2022-09-21T03:52:44.845167",
     "exception": false,
     "start_time": "2022-09-21T03:52:34.855694",
     "status": "completed"
    },
    "tags": []
   },
   "outputs": [],
   "source": [
    "#hide_input\n",
    "blockchain = read_news('blockchain') \n",
    "btc = read_news('btc') \n",
    "xrp = read_news('xrp') \n",
    "trx = read_news('trx') \n",
    "eth = read_news('eth')  \n",
    "ada = read_news('ada')\n",
    "exchange = read_news('exchange') "
   ]
  },
  {
   "cell_type": "code",
   "execution_count": 3,
   "id": "synthetic-notion",
   "metadata": {
    "execution": {
     "iopub.execute_input": "2022-09-21T03:52:44.871286Z",
     "iopub.status.busy": "2022-09-21T03:52:44.870628Z",
     "iopub.status.idle": "2022-09-21T03:52:44.873660Z",
     "shell.execute_reply": "2022-09-21T03:52:44.874108Z"
    },
    "papermill": {
     "duration": 0.019697,
     "end_time": "2022-09-21T03:52:44.874258",
     "exception": false,
     "start_time": "2022-09-21T03:52:44.854561",
     "status": "completed"
    },
    "tags": []
   },
   "outputs": [
    {
     "data": {
      "text/markdown": [
       "- Blockchain Developer Activity Is Indeed a Measure of Crypto Success.  The number of weekly active blockchain developers is down more than 26% over the past three months. However, many attempted to downplay the news. Perhaps most notably, many on claimed the loss of &#8216;tourist builders&#8217; and &#8216;tourist investors,&#8217; was no loss at all, as it will allow the industry to better focus on real projects. However, the [&#8230;]The post Blockchain Developer Activity Is Indeed a Measure of Crypto Success appeared first on The Daily Hodl. ... [| Skaityti daugiau](https://dailyhodl.com/2022/09/20/blockchain-developer-activity-is-indeed-a-measure-of-crypto-success/) "
      ],
      "text/plain": [
       "<IPython.core.display.Markdown object>"
      ]
     },
     "execution_count": 3,
     "metadata": {},
     "output_type": "execute_result"
    }
   ],
   "source": [
    "#hide_input\n",
    "#md('##### {}'.format(titleBTC)) \n",
    "md(\"- {}{} {}{} [| Skaityti daugiau]({}) \".format(blockchain['title'],'. ', blockchain['body'], ' ...', blockchain['url']))"
   ]
  },
  {
   "cell_type": "code",
   "execution_count": 4,
   "id": "aging-caution",
   "metadata": {
    "execution": {
     "iopub.execute_input": "2022-09-21T03:52:44.899398Z",
     "iopub.status.busy": "2022-09-21T03:52:44.898756Z",
     "iopub.status.idle": "2022-09-21T03:52:44.902591Z",
     "shell.execute_reply": "2022-09-21T03:52:44.902077Z"
    },
    "papermill": {
     "duration": 0.018913,
     "end_time": "2022-09-21T03:52:44.902716",
     "exception": false,
     "start_time": "2022-09-21T03:52:44.883803",
     "status": "completed"
    },
    "tags": []
   },
   "outputs": [
    {
     "data": {
      "text/markdown": [
       "- Should Bitcoiners Support Nayib Bukele’s Attempt At Re-Election?.  El Salvador President Nayib Bukele is receiving criticism for seeking a second term. But should the Bitcoin community stand by him? ... [| Skaityti daugiau](https://bitcoinmagazine.com/culture/should-bitcoiners-support-bukele) "
      ],
      "text/plain": [
       "<IPython.core.display.Markdown object>"
      ]
     },
     "execution_count": 4,
     "metadata": {},
     "output_type": "execute_result"
    }
   ],
   "source": [
    "#hide_input\n",
    "#md('##### {}'.format(titleBTC)) \n",
    "md(\"- {}{} {}{} [| Skaityti daugiau]({}) \".format(btc['title'],'. ', btc['body'], ' ...', btc['url']))"
   ]
  },
  {
   "cell_type": "code",
   "execution_count": 5,
   "id": "organic-actress",
   "metadata": {
    "execution": {
     "iopub.execute_input": "2022-09-21T03:52:44.927676Z",
     "iopub.status.busy": "2022-09-21T03:52:44.927043Z",
     "iopub.status.idle": "2022-09-21T03:52:44.930566Z",
     "shell.execute_reply": "2022-09-21T03:52:44.931016Z"
    },
    "papermill": {
     "duration": 0.018755,
     "end_time": "2022-09-21T03:52:44.931149",
     "exception": false,
     "start_time": "2022-09-21T03:52:44.912394",
     "status": "completed"
    },
    "tags": []
   },
   "outputs": [
    {
     "data": {
      "text/markdown": [
       "- XRP Price Outpaces Bitcoin and Ethereum, Key Resistance Intact.  Bitcoin price failed to gain bullish momentum above the $19,500 resistance. BTC is currently (03:10 UTC) trading below $19,200. If there is a downside break below $19,000, the price may perhaps accelerate lower. Similarly, most major altcoins are facing important hurdles. ETH topped near $1,380 and corrected gains. XRP remained strong and settled above the $0.40 resistance zone. ADA is consolidating above the $0.45 zone....Read More: XRP Price Outpaces Bitcoin and Ethereum, Key Resistance Intact ... [| Skaityti daugiau](https://cryptonews.com/news/xrp-price-outpaces-bitcoin-ethereum-key-resistance-intact.htm) "
      ],
      "text/plain": [
       "<IPython.core.display.Markdown object>"
      ]
     },
     "execution_count": 5,
     "metadata": {},
     "output_type": "execute_result"
    }
   ],
   "source": [
    "#hide_input\n",
    "#md('##### {}'.format(titleBTC)) \n",
    "md(\"- {}{} {}{} [| Skaityti daugiau]({}) \".format(xrp['title'],'. ', xrp['body'], ' ...', xrp['url']))"
   ]
  },
  {
   "cell_type": "code",
   "execution_count": 6,
   "id": "prompt-farmer",
   "metadata": {
    "execution": {
     "iopub.execute_input": "2022-09-21T03:52:44.957159Z",
     "iopub.status.busy": "2022-09-21T03:52:44.956515Z",
     "iopub.status.idle": "2022-09-21T03:52:44.959995Z",
     "shell.execute_reply": "2022-09-21T03:52:44.960451Z"
    },
    "papermill": {
     "duration": 0.019504,
     "end_time": "2022-09-21T03:52:44.960588",
     "exception": false,
     "start_time": "2022-09-21T03:52:44.941084",
     "status": "completed"
    },
    "tags": []
   },
   "outputs": [
    {
     "data": {
      "text/markdown": [
       "- Tron (TRX) And Polygon (MATIC) Holders Begin Buying Into Flasko (FLSK) Presale.  The post Tron (TRX) And Polygon (MATIC) Holders Begin Buying Into Flasko (FLSK) Presale appeared first on Coinpedia - Fintech &amp; Cryptocurreny News Media| Crypto GuideCrypto investors worldwide focus on tokens that perform well because such projects guarantee a positive return. Polygon (MATIC) and TRON (TRX) were previously market leaders with high profits, but their investors are now content with limited growth. Flasko (FLSK) holders, on the other side, are riding a unicorn of profit and expansion. Polygon (MATIC) is &#8230; ... [| Skaityti daugiau](https://coinpedia.org/press-release/tron-trx-and-polygon-matic-holders-begin-buying-into-flasko-flsk-presale/) "
      ],
      "text/plain": [
       "<IPython.core.display.Markdown object>"
      ]
     },
     "execution_count": 6,
     "metadata": {},
     "output_type": "execute_result"
    }
   ],
   "source": [
    "#hide_input\n",
    "#md('##### {}'.format(titleBTC)) \n",
    "md(\"- {}{} {}{} [| Skaityti daugiau]({}) \".format(trx['title'],'. ', trx['body'], ' ...', trx['url']))"
   ]
  },
  {
   "cell_type": "code",
   "execution_count": 7,
   "id": "illegal-greece",
   "metadata": {
    "execution": {
     "iopub.execute_input": "2022-09-21T03:52:44.987545Z",
     "iopub.status.busy": "2022-09-21T03:52:44.986919Z",
     "iopub.status.idle": "2022-09-21T03:52:44.990396Z",
     "shell.execute_reply": "2022-09-21T03:52:44.990972Z"
    },
    "papermill": {
     "duration": 0.020046,
     "end_time": "2022-09-21T03:52:44.991118",
     "exception": false,
     "start_time": "2022-09-21T03:52:44.971072",
     "status": "completed"
    },
    "tags": []
   },
   "outputs": [
    {
     "data": {
      "text/markdown": [
       "- XRP Price Outpaces Bitcoin and Ethereum, Key Resistance Intact.  Bitcoin price failed to gain bullish momentum above the $19,500 resistance. BTC is currently (03:10 UTC) trading below $19,200. If there is a downside break below $19,000, the price may perhaps accelerate lower. Similarly, most major altcoins are facing important hurdles. ETH topped near $1,380 and corrected gains. XRP remained strong and settled above the $0.40 resistance zone. ADA is consolidating above the $0.45 zone....Read More: XRP Price Outpaces Bitcoin and Ethereum, Key Resistance Intact ... [| Skaityti daugiau](https://cryptonews.com/news/xrp-price-outpaces-bitcoin-ethereum-key-resistance-intact.htm) "
      ],
      "text/plain": [
       "<IPython.core.display.Markdown object>"
      ]
     },
     "execution_count": 7,
     "metadata": {},
     "output_type": "execute_result"
    }
   ],
   "source": [
    "#hide_input\n",
    "#md('##### {}'.format(titleBTC)) \n",
    "md(\"- {}{} {}{} [| Skaityti daugiau]({}) \".format(eth['title'],'. ', eth['body'], ' ...', eth['url']))"
   ]
  },
  {
   "cell_type": "code",
   "execution_count": 8,
   "id": "sublime-lounge",
   "metadata": {
    "execution": {
     "iopub.execute_input": "2022-09-21T03:52:45.020003Z",
     "iopub.status.busy": "2022-09-21T03:52:45.019397Z",
     "iopub.status.idle": "2022-09-21T03:52:45.022780Z",
     "shell.execute_reply": "2022-09-21T03:52:45.023333Z"
    },
    "papermill": {
     "duration": 0.020325,
     "end_time": "2022-09-21T03:52:45.023471",
     "exception": false,
     "start_time": "2022-09-21T03:52:45.003146",
     "status": "completed"
    },
    "tags": []
   },
   "outputs": [
    {
     "data": {
      "text/markdown": [
       "- XRP Price Outpaces Bitcoin and Ethereum, Key Resistance Intact.  Bitcoin price failed to gain bullish momentum above the $19,500 resistance. BTC is currently (03:10 UTC) trading below $19,200. If there is a downside break below $19,000, the price may perhaps accelerate lower. Similarly, most major altcoins are facing important hurdles. ETH topped near $1,380 and corrected gains. XRP remained strong and settled above the $0.40 resistance zone. ADA is consolidating above the $0.45 zone....Read More: XRP Price Outpaces Bitcoin and Ethereum, Key Resistance Intact ... [| Skaityti daugiau](https://cryptonews.com/news/xrp-price-outpaces-bitcoin-ethereum-key-resistance-intact.htm) "
      ],
      "text/plain": [
       "<IPython.core.display.Markdown object>"
      ]
     },
     "execution_count": 8,
     "metadata": {},
     "output_type": "execute_result"
    }
   ],
   "source": [
    "#hide_input\n",
    "#md('##### {}'.format(titleBTC)) \n",
    "md(\"- {}{} {}{} [| Skaityti daugiau]({}) \".format(ada['title'],'. ', ada['body'], ' ...', ada['url']))"
   ]
  },
  {
   "cell_type": "code",
   "execution_count": 9,
   "id": "specified-ordering",
   "metadata": {
    "execution": {
     "iopub.execute_input": "2022-09-21T03:52:45.051400Z",
     "iopub.status.busy": "2022-09-21T03:52:45.050797Z",
     "iopub.status.idle": "2022-09-21T03:52:45.054601Z",
     "shell.execute_reply": "2022-09-21T03:52:45.054071Z"
    },
    "papermill": {
     "duration": 0.0202,
     "end_time": "2022-09-21T03:52:45.054721",
     "exception": false,
     "start_time": "2022-09-21T03:52:45.034521",
     "status": "completed"
    },
    "tags": []
   },
   "outputs": [
    {
     "data": {
      "text/markdown": [
       "- These two Top Exchanges In Race for Acquiring Voyager Digital Assets.  As per the latest report, the two topmost exchanges Binance and FTX are currently in the race to acquire the assets of bankrupt crypto lender Voyager Digital. Earlier this year in July 2022, Voyager filed for Chapter 11 bankruptcy after facing major liquidity issues amid the crypto market crash. At that time, the company&#8217;s total The post These two Top Exchanges In Race for Acquiring Voyager Digital Assets appeared first on CoinGape. ... [| Skaityti daugiau](https://coingape.com/these-two-top-exchanges-in-race-for-acquiring-voyager-digital-assets/) "
      ],
      "text/plain": [
       "<IPython.core.display.Markdown object>"
      ]
     },
     "execution_count": 9,
     "metadata": {},
     "output_type": "execute_result"
    }
   ],
   "source": [
    "#hide_input\n",
    "#md('##### {}'.format(titleBTC)) \n",
    "md(\"- {}{} {}{} [| Skaityti daugiau]({}) \".format(exchange['title'],'. ', exchange['body'], ' ...', exchange['url']))"
   ]
  },
  {
   "cell_type": "code",
   "execution_count": null,
   "id": "tender-livestock",
   "metadata": {
    "papermill": {
     "duration": 0.011432,
     "end_time": "2022-09-21T03:52:45.077603",
     "exception": false,
     "start_time": "2022-09-21T03:52:45.066171",
     "status": "completed"
    },
    "tags": []
   },
   "outputs": [],
   "source": []
  },
  {
   "cell_type": "code",
   "execution_count": null,
   "id": "appreciated-diamond",
   "metadata": {
    "papermill": {
     "duration": 0.011349,
     "end_time": "2022-09-21T03:52:45.100509",
     "exception": false,
     "start_time": "2022-09-21T03:52:45.089160",
     "status": "completed"
    },
    "tags": []
   },
   "outputs": [],
   "source": []
  },
  {
   "cell_type": "code",
   "execution_count": null,
   "id": "romance-sweden",
   "metadata": {
    "papermill": {
     "duration": 0.011266,
     "end_time": "2022-09-21T03:52:45.123046",
     "exception": false,
     "start_time": "2022-09-21T03:52:45.111780",
     "status": "completed"
    },
    "tags": []
   },
   "outputs": [],
   "source": []
  },
  {
   "cell_type": "code",
   "execution_count": null,
   "id": "dietary-statistics",
   "metadata": {
    "papermill": {
     "duration": 0.011222,
     "end_time": "2022-09-21T03:52:45.145653",
     "exception": false,
     "start_time": "2022-09-21T03:52:45.134431",
     "status": "completed"
    },
    "tags": []
   },
   "outputs": [],
   "source": []
  }
 ],
 "metadata": {
  "kernelspec": {
   "display_name": "Python 3",
   "language": "python",
   "name": "python3"
  },
  "language_info": {
   "codemirror_mode": {
    "name": "ipython",
    "version": 3
   },
   "file_extension": ".py",
   "mimetype": "text/x-python",
   "name": "python",
   "nbconvert_exporter": "python",
   "pygments_lexer": "ipython3",
   "version": "3.6.15"
  },
  "papermill": {
   "default_parameters": {},
   "duration": 13.552272,
   "end_time": "2022-09-21T03:52:45.779261",
   "environment_variables": {},
   "exception": null,
   "input_path": "Market-News.ipynb",
   "output_path": "Market-News.ipynb",
   "parameters": {},
   "start_time": "2022-09-21T03:52:32.226989",
   "version": "2.2.2"
  }
 },
 "nbformat": 4,
 "nbformat_minor": 5
}