{
 "cells": [
  {
   "cell_type": "markdown",
   "id": "short-greensboro",
   "metadata": {
    "papermill": {
     "duration": 0.013285,
     "end_time": "2022-06-12T03:05:44.764173",
     "exception": false,
     "start_time": "2022-06-12T03:05:44.750888",
     "status": "completed"
    },
    "tags": []
   },
   "source": [
    "# Kriptovaliutų naujienos"
   ]
  },
  {
   "cell_type": "code",
   "execution_count": 1,
   "id": "functioning-knowing",
   "metadata": {
    "execution": {
     "iopub.execute_input": "2022-06-12T03:05:44.793948Z",
     "iopub.status.busy": "2022-06-12T03:05:44.793349Z",
     "iopub.status.idle": "2022-06-12T03:05:46.038615Z",
     "shell.execute_reply": "2022-06-12T03:05:46.039110Z"
    },
    "papermill": {
     "duration": 1.265421,
     "end_time": "2022-06-12T03:05:46.039298",
     "exception": false,
     "start_time": "2022-06-12T03:05:44.773877",
     "status": "completed"
    },
    "tags": []
   },
   "outputs": [],
   "source": [
    "#hide_input\n",
    "import warnings\n",
    "warnings.filterwarnings('ignore')\n",
    "from scripts.read_data import read_api\n",
    "from scripts.read_data import read_news\n",
    "from scripts.read_data import read_covid\n",
    "import matplotlib.pyplot as plt \n",
    "from IPython.display import Markdown as md"
   ]
  },
  {
   "cell_type": "code",
   "execution_count": 2,
   "id": "shared-acceptance",
   "metadata": {
    "execution": {
     "iopub.execute_input": "2022-06-12T03:05:46.064380Z",
     "iopub.status.busy": "2022-06-12T03:05:46.063307Z",
     "iopub.status.idle": "2022-06-12T03:05:56.231562Z",
     "shell.execute_reply": "2022-06-12T03:05:56.230518Z"
    },
    "papermill": {
     "duration": 10.183034,
     "end_time": "2022-06-12T03:05:56.231712",
     "exception": false,
     "start_time": "2022-06-12T03:05:46.048678",
     "status": "completed"
    },
    "tags": []
   },
   "outputs": [],
   "source": [
    "#hide_input\n",
    "blockchain = read_news('blockchain') \n",
    "btc = read_news('btc') \n",
    "xrp = read_news('xrp') \n",
    "trx = read_news('trx') \n",
    "eth = read_news('eth')  \n",
    "ada = read_news('ada')\n",
    "exchange = read_news('exchange') "
   ]
  },
  {
   "cell_type": "code",
   "execution_count": 3,
   "id": "synthetic-notion",
   "metadata": {
    "execution": {
     "iopub.execute_input": "2022-06-12T03:05:56.256737Z",
     "iopub.status.busy": "2022-06-12T03:05:56.256133Z",
     "iopub.status.idle": "2022-06-12T03:05:56.259049Z",
     "shell.execute_reply": "2022-06-12T03:05:56.259496Z"
    },
    "papermill": {
     "duration": 0.018511,
     "end_time": "2022-06-12T03:05:56.259625",
     "exception": false,
     "start_time": "2022-06-12T03:05:56.241114",
     "status": "completed"
    },
    "tags": []
   },
   "outputs": [
    {
     "data": {
      "text/markdown": [
       "- Sex-to-Earn Economy: an Unexpected Evolution of Move-to-Earn and Play-to-Earn.  Blockchain is probably the unsexiest chain you can think of behind the closed doors of the bedroom. Still, could blockchain find its place in intimate lives?Continue reading Sex-to-Earn Economy: an Unexpected Evolution of Move-to-Earn and Play-to-Earn at DailyCoin.com. ... [| Skaityti daugiau](https://dailycoin.com/sex-to-earn-economy-an-unexpected-evolution-of-move-to-earn-and-play-to-earn/) "
      ],
      "text/plain": [
       "<IPython.core.display.Markdown object>"
      ]
     },
     "execution_count": 3,
     "metadata": {},
     "output_type": "execute_result"
    }
   ],
   "source": [
    "#hide_input\n",
    "#md('##### {}'.format(titleBTC)) \n",
    "md(\"- {}{} {}{} [| Skaityti daugiau]({}) \".format(blockchain['title'],'. ', blockchain['body'], ' ...', blockchain['url']))"
   ]
  },
  {
   "cell_type": "code",
   "execution_count": 4,
   "id": "aging-caution",
   "metadata": {
    "execution": {
     "iopub.execute_input": "2022-06-12T03:05:56.282428Z",
     "iopub.status.busy": "2022-06-12T03:05:56.281242Z",
     "iopub.status.idle": "2022-06-12T03:05:56.285322Z",
     "shell.execute_reply": "2022-06-12T03:05:56.285793Z"
    },
    "papermill": {
     "duration": 0.017144,
     "end_time": "2022-06-12T03:05:56.285913",
     "exception": false,
     "start_time": "2022-06-12T03:05:56.268769",
     "status": "completed"
    },
    "tags": []
   },
   "outputs": [
    {
     "data": {
      "text/markdown": [
       "- Bitcoin loses $29K: No signs of redemption for investors.  Bitcoin price analysis for June 12, 2022, comes on a bearish note for the token with increased chances of losing the $28K price region in the near future. Additionally, we have noted in our BTC price analysis for June 11, 2022, that the world&#8217;s biggest cryptocurrency has lost major price levels in the past 24 [&#8230;]The post Bitcoin loses $29K: No signs of redemption for investors appeared first on Blockchain, Crypto and Stock News. ... [| Skaityti daugiau](https://thecoinrise.com/bitcoin-loses-29k-no-signs-of-redemption-for-investors/) "
      ],
      "text/plain": [
       "<IPython.core.display.Markdown object>"
      ]
     },
     "execution_count": 4,
     "metadata": {},
     "output_type": "execute_result"
    }
   ],
   "source": [
    "#hide_input\n",
    "#md('##### {}'.format(titleBTC)) \n",
    "md(\"- {}{} {}{} [| Skaityti daugiau]({}) \".format(btc['title'],'. ', btc['body'], ' ...', btc['url']))"
   ]
  },
  {
   "cell_type": "code",
   "execution_count": 5,
   "id": "organic-actress",
   "metadata": {
    "execution": {
     "iopub.execute_input": "2022-06-12T03:05:56.309614Z",
     "iopub.status.busy": "2022-06-12T03:05:56.309014Z",
     "iopub.status.idle": "2022-06-12T03:05:56.312240Z",
     "shell.execute_reply": "2022-06-12T03:05:56.312709Z"
    },
    "papermill": {
     "duration": 0.017529,
     "end_time": "2022-06-12T03:05:56.312825",
     "exception": false,
     "start_time": "2022-06-12T03:05:56.295296",
     "status": "completed"
    },
    "tags": []
   },
   "outputs": [
    {
     "data": {
      "text/markdown": [
       "- Ripple Expands Further to UK and Europe as Modulr Nabs New Deal.  RippleNet continues to expand ... [| Skaityti daugiau](https://u.today/ripple-expands-further-to-uk-and-europe-as-modulr-nabs-new-deal) "
      ],
      "text/plain": [
       "<IPython.core.display.Markdown object>"
      ]
     },
     "execution_count": 5,
     "metadata": {},
     "output_type": "execute_result"
    }
   ],
   "source": [
    "#hide_input\n",
    "#md('##### {}'.format(titleBTC)) \n",
    "md(\"- {}{} {}{} [| Skaityti daugiau]({}) \".format(xrp['title'],'. ', xrp['body'], ' ...', xrp['url']))"
   ]
  },
  {
   "cell_type": "code",
   "execution_count": 6,
   "id": "prompt-farmer",
   "metadata": {
    "execution": {
     "iopub.execute_input": "2022-06-12T03:05:56.336708Z",
     "iopub.status.busy": "2022-06-12T03:05:56.336132Z",
     "iopub.status.idle": "2022-06-12T03:05:56.339244Z",
     "shell.execute_reply": "2022-06-12T03:05:56.339710Z"
    },
    "papermill": {
     "duration": 0.017253,
     "end_time": "2022-06-12T03:05:56.339828",
     "exception": false,
     "start_time": "2022-06-12T03:05:56.322575",
     "status": "completed"
    },
    "tags": []
   },
   "outputs": [
    {
     "data": {
      "text/markdown": [
       "- Tron DAO Buys $50M Worth of Bitcoin and TRX to add to USDD Reserves.  Key takeaways: Tron DAO Reserve has announced that it has purchased Bitcoin and TRX worth $50 million to add to USDD&#8217;s reserves. USDD is currently overcollateralized to the tune of 197%. The stablecoin of USDD is now backed by 14,040.6 Bitcoin, 140 million USDT, and 1.906 billion in TRX. The purchase of Bitcoin and TRX comes when BTC retests the $28k support level. Tron DAO reserve, the organization behind the management of USDD&#8217;s reserves, has just announced that it has [&#8230;] ... [| Skaityti daugiau](https://en.ethereumworldnews.com/tron-dao-buys-50m-worth-of-bitcoin-and-trx-to-add-to-usdd-reserves/) "
      ],
      "text/plain": [
       "<IPython.core.display.Markdown object>"
      ]
     },
     "execution_count": 6,
     "metadata": {},
     "output_type": "execute_result"
    }
   ],
   "source": [
    "#hide_input\n",
    "#md('##### {}'.format(titleBTC)) \n",
    "md(\"- {}{} {}{} [| Skaityti daugiau]({}) \".format(trx['title'],'. ', trx['body'], ' ...', trx['url']))"
   ]
  },
  {
   "cell_type": "code",
   "execution_count": 7,
   "id": "illegal-greece",
   "metadata": {
    "execution": {
     "iopub.execute_input": "2022-06-12T03:05:56.365621Z",
     "iopub.status.busy": "2022-06-12T03:05:56.365045Z",
     "iopub.status.idle": "2022-06-12T03:05:56.368366Z",
     "shell.execute_reply": "2022-06-12T03:05:56.367888Z"
    },
    "papermill": {
     "duration": 0.018298,
     "end_time": "2022-06-12T03:05:56.368470",
     "exception": false,
     "start_time": "2022-06-12T03:05:56.350172",
     "status": "completed"
    },
    "tags": []
   },
   "outputs": [
    {
     "data": {
      "text/markdown": [
       "- Ethereum on the verge of losing $1500: Another crash incoming?.  Ethereum price analysis for June 12, 2022, comes on a bearish note for the token with increased chances of losing the $1500 price level in the next few days if the bulls don&#8217;t take over the entire crypto space. Furthermore, in the coming few weeks, the Ethereum Merge might drive the price action for Ether. [&#8230;]The post Ethereum on the verge of losing $1500: Another crash incoming? appeared first on Blockchain, Crypto and Stock News. ... [| Skaityti daugiau](https://thecoinrise.com/ethereum-on-the-verge-of-losing-1500-another-crash-incoming/) "
      ],
      "text/plain": [
       "<IPython.core.display.Markdown object>"
      ]
     },
     "execution_count": 7,
     "metadata": {},
     "output_type": "execute_result"
    }
   ],
   "source": [
    "#hide_input\n",
    "#md('##### {}'.format(titleBTC)) \n",
    "md(\"- {}{} {}{} [| Skaityti daugiau]({}) \".format(eth['title'],'. ', eth['body'], ' ...', eth['url']))"
   ]
  },
  {
   "cell_type": "code",
   "execution_count": 8,
   "id": "sublime-lounge",
   "metadata": {
    "execution": {
     "iopub.execute_input": "2022-06-12T03:05:56.393933Z",
     "iopub.status.busy": "2022-06-12T03:05:56.393372Z",
     "iopub.status.idle": "2022-06-12T03:05:56.397180Z",
     "shell.execute_reply": "2022-06-12T03:05:56.396719Z"
    },
    "papermill": {
     "duration": 0.018449,
     "end_time": "2022-06-12T03:05:56.397279",
     "exception": false,
     "start_time": "2022-06-12T03:05:56.378830",
     "status": "completed"
    },
    "tags": []
   },
   "outputs": [
    {
     "data": {
      "text/markdown": [
       "- Just Above $1 Trillion — Crypto Economy’s Value Slips Lower Than the Lows Recorded Last July.  The $1.19 trillion crypto economy is now lower in value than the lows recorded in July 2021. During the last week, digital currencies like bitcoin, ethereum, caradano, and xrp, have shed significant value against the U.S. dollar, as the top cryptos have lost 50% to more than 80% from their all-time price highs. How Low [&#8230;] ... [| Skaityti daugiau](https://news.bitcoin.com/just-above-1-trillion-crypto-economys-value-slips-lower-than-the-lows-recorded-last-july/) "
      ],
      "text/plain": [
       "<IPython.core.display.Markdown object>"
      ]
     },
     "execution_count": 8,
     "metadata": {},
     "output_type": "execute_result"
    }
   ],
   "source": [
    "#hide_input\n",
    "#md('##### {}'.format(titleBTC)) \n",
    "md(\"- {}{} {}{} [| Skaityti daugiau]({}) \".format(ada['title'],'. ', ada['body'], ' ...', ada['url']))"
   ]
  },
  {
   "cell_type": "code",
   "execution_count": 9,
   "id": "specified-ordering",
   "metadata": {
    "execution": {
     "iopub.execute_input": "2022-06-12T03:05:56.424666Z",
     "iopub.status.busy": "2022-06-12T03:05:56.424089Z",
     "iopub.status.idle": "2022-06-12T03:05:56.427500Z",
     "shell.execute_reply": "2022-06-12T03:05:56.427992Z"
    },
    "papermill": {
     "duration": 0.018935,
     "end_time": "2022-06-12T03:05:56.428113",
     "exception": false,
     "start_time": "2022-06-12T03:05:56.409178",
     "status": "completed"
    },
    "tags": []
   },
   "outputs": [
    {
     "data": {
      "text/markdown": [
       "- Binance and TripleA partner for crypto payment solution.  Binance, the world&#8217;s biggest cryptocurrency exchange, is working with Singapore-based TripleA as the latest cryptocurrency payment gateway for Binance Pay. With TripleA, sellers can accept cryptocurrencies like Bitcoin, Ethereum, Tron, and more with easy setup and instant confirmation. That means merchants don&#8217;t have to worry about price fluctuations or chargebacks and can get their money... ... [| Skaityti daugiau](https://www.cryptopolitan.com/binance-and-triplea-partner-for-crypto-pay/) "
      ],
      "text/plain": [
       "<IPython.core.display.Markdown object>"
      ]
     },
     "execution_count": 9,
     "metadata": {},
     "output_type": "execute_result"
    }
   ],
   "source": [
    "#hide_input\n",
    "#md('##### {}'.format(titleBTC)) \n",
    "md(\"- {}{} {}{} [| Skaityti daugiau]({}) \".format(exchange['title'],'. ', exchange['body'], ' ...', exchange['url']))"
   ]
  },
  {
   "cell_type": "code",
   "execution_count": null,
   "id": "tender-livestock",
   "metadata": {
    "papermill": {
     "duration": 0.011103,
     "end_time": "2022-06-12T03:05:56.450265",
     "exception": false,
     "start_time": "2022-06-12T03:05:56.439162",
     "status": "completed"
    },
    "tags": []
   },
   "outputs": [],
   "source": []
  },
  {
   "cell_type": "code",
   "execution_count": null,
   "id": "appreciated-diamond",
   "metadata": {
    "papermill": {
     "duration": 0.011136,
     "end_time": "2022-06-12T03:05:56.472670",
     "exception": false,
     "start_time": "2022-06-12T03:05:56.461534",
     "status": "completed"
    },
    "tags": []
   },
   "outputs": [],
   "source": []
  },
  {
   "cell_type": "code",
   "execution_count": null,
   "id": "romance-sweden",
   "metadata": {
    "papermill": {
     "duration": 0.010956,
     "end_time": "2022-06-12T03:05:56.494716",
     "exception": false,
     "start_time": "2022-06-12T03:05:56.483760",
     "status": "completed"
    },
    "tags": []
   },
   "outputs": [],
   "source": []
  },
  {
   "cell_type": "code",
   "execution_count": null,
   "id": "dietary-statistics",
   "metadata": {
    "papermill": {
     "duration": 0.010931,
     "end_time": "2022-06-12T03:05:56.516680",
     "exception": false,
     "start_time": "2022-06-12T03:05:56.505749",
     "status": "completed"
    },
    "tags": []
   },
   "outputs": [],
   "source": []
  }
 ],
 "metadata": {
  "kernelspec": {
   "display_name": "Python 3",
   "language": "python",
   "name": "python3"
  },
  "language_info": {
   "codemirror_mode": {
    "name": "ipython",
    "version": 3
   },
   "file_extension": ".py",
   "mimetype": "text/x-python",
   "name": "python",
   "nbconvert_exporter": "python",
   "pygments_lexer": "ipython3",
   "version": "3.6.15"
  },
  "papermill": {
   "default_parameters": {},
   "duration": 13.230584,
   "end_time": "2022-06-12T03:05:57.047522",
   "environment_variables": {},
   "exception": null,
   "input_path": "Market-News.ipynb",
   "output_path": "Market-News.ipynb",
   "parameters": {},
   "start_time": "2022-06-12T03:05:43.816938",
   "version": "2.2.2"
  }
 },
 "nbformat": 4,
 "nbformat_minor": 5
}