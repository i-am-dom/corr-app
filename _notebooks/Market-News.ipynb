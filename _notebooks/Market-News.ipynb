{
 "cells": [
  {
   "cell_type": "markdown",
   "id": "short-greensboro",
   "metadata": {
    "papermill": {
     "duration": 0.015297,
     "end_time": "2021-10-04T02:07:45.006026",
     "exception": false,
     "start_time": "2021-10-04T02:07:44.990729",
     "status": "completed"
    },
    "tags": []
   },
   "source": [
    "# Kriptovaliutų naujienos"
   ]
  },
  {
   "cell_type": "code",
   "execution_count": 1,
   "id": "functioning-knowing",
   "metadata": {
    "execution": {
     "iopub.execute_input": "2021-10-04T02:07:45.038607Z",
     "iopub.status.busy": "2021-10-04T02:07:45.037845Z",
     "iopub.status.idle": "2021-10-04T02:07:46.412533Z",
     "shell.execute_reply": "2021-10-04T02:07:46.411531Z"
    },
    "papermill": {
     "duration": 1.39552,
     "end_time": "2021-10-04T02:07:46.412713",
     "exception": false,
     "start_time": "2021-10-04T02:07:45.017193",
     "status": "completed"
    },
    "tags": []
   },
   "outputs": [],
   "source": [
    "#hide_input\n",
    "import warnings\n",
    "warnings.filterwarnings('ignore')\n",
    "from scripts.read_data import read_api\n",
    "from scripts.read_data import read_news\n",
    "from scripts.read_data import read_covid\n",
    "import matplotlib.pyplot as plt \n",
    "from IPython.display import Markdown as md"
   ]
  },
  {
   "cell_type": "code",
   "execution_count": 2,
   "id": "shared-acceptance",
   "metadata": {
    "execution": {
     "iopub.execute_input": "2021-10-04T02:07:46.442569Z",
     "iopub.status.busy": "2021-10-04T02:07:46.441969Z",
     "iopub.status.idle": "2021-10-04T02:07:56.151722Z",
     "shell.execute_reply": "2021-10-04T02:07:56.150659Z"
    },
    "papermill": {
     "duration": 9.727754,
     "end_time": "2021-10-04T02:07:56.151885",
     "exception": false,
     "start_time": "2021-10-04T02:07:46.424131",
     "status": "completed"
    },
    "tags": []
   },
   "outputs": [],
   "source": [
    "#hide_input\n",
    "blockchain = read_news('blockchain') \n",
    "btc = read_news('btc') \n",
    "xrp = read_news('xrp') \n",
    "trx = read_news('trx') \n",
    "eth = read_news('eth')  \n",
    "ada = read_news('ada')\n",
    "exchange = read_news('exchange') "
   ]
  },
  {
   "cell_type": "code",
   "execution_count": 3,
   "id": "synthetic-notion",
   "metadata": {
    "execution": {
     "iopub.execute_input": "2021-10-04T02:07:56.180912Z",
     "iopub.status.busy": "2021-10-04T02:07:56.180254Z",
     "iopub.status.idle": "2021-10-04T02:07:56.184423Z",
     "shell.execute_reply": "2021-10-04T02:07:56.183912Z"
    },
    "papermill": {
     "duration": 0.021941,
     "end_time": "2021-10-04T02:07:56.184552",
     "exception": false,
     "start_time": "2021-10-04T02:07:56.162611",
     "status": "completed"
    },
    "tags": []
   },
   "outputs": [
    {
     "data": {
      "text/markdown": [
       "- Grayscale’s Cardano report cites ‘iconic founder’ but low network fee revenue.  With Alonzo launched and the Cardano Summit over, founder Charles Hoskinson announced he was off to a ranch &#8211; without Twitter. However, investors didn&#8217;t forget about Cardano. Grayscale Investments, a crypto asset management company, released a report introducing readers to the third biggest blockchain by market cap. While this might sound standard, the report provided [&#8230;] ... [| Skaityti daugiau](https://ambcrypto.com/grayscales-cardano-report-cites-iconic-founder-but-low-network-fee-revenue/) "
      ],
      "text/plain": [
       "<IPython.core.display.Markdown object>"
      ]
     },
     "execution_count": 3,
     "metadata": {},
     "output_type": "execute_result"
    }
   ],
   "source": [
    "#hide_input\n",
    "#md('##### {}'.format(titleBTC)) \n",
    "md(\"- {}{} {}{} [| Skaityti daugiau]({}) \".format(blockchain['title'],'. ', blockchain['body'], ' ...', blockchain['url']))"
   ]
  },
  {
   "cell_type": "code",
   "execution_count": 4,
   "id": "aging-caution",
   "metadata": {
    "execution": {
     "iopub.execute_input": "2021-10-04T02:07:56.211356Z",
     "iopub.status.busy": "2021-10-04T02:07:56.210204Z",
     "iopub.status.idle": "2021-10-04T02:07:56.214376Z",
     "shell.execute_reply": "2021-10-04T02:07:56.213935Z"
    },
    "papermill": {
     "duration": 0.019136,
     "end_time": "2021-10-04T02:07:56.214495",
     "exception": false,
     "start_time": "2021-10-04T02:07:56.195359",
     "status": "completed"
    },
    "tags": []
   },
   "outputs": [
    {
     "data": {
      "text/markdown": [
       "- Virgin Galactic Chairman Chamath Palihapitiya Says Bitcoin Has Replaced Gold.  Virgin Galactic&#x2019;s chairman and CEO of Social Capital, Chamath Palihapitiya, says bitcoin has effectively replaced gold. Having predicted that the price of the cryptocurrency would hit $200,000, the executive said bitcoin&#x2019;s &#x201C;market cap is just going to grow.&#x201D; Palihapitiya: &#x2018;I Can Pretty Confidently Say That Bitcoin Has Effectively Replaced Gold&#x2019; Virgin Galactic Chairman Chamath Palihapitiya [&#8230;] ... [| Skaityti daugiau](https://news.bitcoin.com/virgin-galactic-chairman-chamath-palihapitiya-bitcoin-has-replaced-gold/) "
      ],
      "text/plain": [
       "<IPython.core.display.Markdown object>"
      ]
     },
     "execution_count": 4,
     "metadata": {},
     "output_type": "execute_result"
    }
   ],
   "source": [
    "#hide_input\n",
    "#md('##### {}'.format(titleBTC)) \n",
    "md(\"- {}{} {}{} [| Skaityti daugiau]({}) \".format(btc['title'],'. ', btc['body'], ' ...', btc['url']))"
   ]
  },
  {
   "cell_type": "code",
   "execution_count": 5,
   "id": "organic-actress",
   "metadata": {
    "execution": {
     "iopub.execute_input": "2021-10-04T02:07:56.242084Z",
     "iopub.status.busy": "2021-10-04T02:07:56.241477Z",
     "iopub.status.idle": "2021-10-04T02:07:56.244535Z",
     "shell.execute_reply": "2021-10-04T02:07:56.244043Z"
    },
    "papermill": {
     "duration": 0.018875,
     "end_time": "2021-10-04T02:07:56.244654",
     "exception": false,
     "start_time": "2021-10-04T02:07:56.225779",
     "status": "completed"
    },
    "tags": []
   },
   "outputs": [
    {
     "data": {
      "text/markdown": [
       "- Laos to Study Digital Currency With Help From Japanese Fintech, Report Reveals.  The central bank of Laos intends to explore issuing its own digital currency, according to a media report that provided details on the plan. A study on the matter will commence soon and will be conducted with the support of a fintech startup based in Japan. Central Bank of Laos Joins Race to Develop Digital [&#8230;] ... [| Skaityti daugiau](https://news.bitcoin.com/laos-to-study-digital-currency-with-help-from-japanese-fintech-report-reveals/) "
      ],
      "text/plain": [
       "<IPython.core.display.Markdown object>"
      ]
     },
     "execution_count": 5,
     "metadata": {},
     "output_type": "execute_result"
    }
   ],
   "source": [
    "#hide_input\n",
    "#md('##### {}'.format(titleBTC)) \n",
    "md(\"- {}{} {}{} [| Skaityti daugiau]({}) \".format(xrp['title'],'. ', xrp['body'], ' ...', xrp['url']))"
   ]
  },
  {
   "cell_type": "code",
   "execution_count": 6,
   "id": "prompt-farmer",
   "metadata": {
    "execution": {
     "iopub.execute_input": "2021-10-04T02:07:56.272966Z",
     "iopub.status.busy": "2021-10-04T02:07:56.272370Z",
     "iopub.status.idle": "2021-10-04T02:07:56.274753Z",
     "shell.execute_reply": "2021-10-04T02:07:56.275257Z"
    },
    "papermill": {
     "duration": 0.019773,
     "end_time": "2021-10-04T02:07:56.275417",
     "exception": false,
     "start_time": "2021-10-04T02:07:56.255644",
     "status": "completed"
    },
    "tags": []
   },
   "outputs": [
    {
     "data": {
      "text/markdown": [
       "- TRON Bounces Back from Its Swing Support Levels!.  TRON has hit a new two-day high and seems to have taken support from $0.082 levels. While the volumes so far haven&#8217;t been substantial, the continuation of this sentence is inevitably required for pushing the TRX prices to new highs. The trading range has been suppressed in a tight zone, which can be seen as &#8230; ... [| Skaityti daugiau](https://www.cryptonewsz.com/tron-bounces-back-from-its-swing-support-levels/) "
      ],
      "text/plain": [
       "<IPython.core.display.Markdown object>"
      ]
     },
     "execution_count": 6,
     "metadata": {},
     "output_type": "execute_result"
    }
   ],
   "source": [
    "#hide_input\n",
    "#md('##### {}'.format(titleBTC)) \n",
    "md(\"- {}{} {}{} [| Skaityti daugiau]({}) \".format(trx['title'],'. ', trx['body'], ' ...', trx['url']))"
   ]
  },
  {
   "cell_type": "code",
   "execution_count": 7,
   "id": "illegal-greece",
   "metadata": {
    "execution": {
     "iopub.execute_input": "2021-10-04T02:07:56.304518Z",
     "iopub.status.busy": "2021-10-04T02:07:56.303918Z",
     "iopub.status.idle": "2021-10-04T02:07:56.306164Z",
     "shell.execute_reply": "2021-10-04T02:07:56.306576Z"
    },
    "papermill": {
     "duration": 0.019186,
     "end_time": "2021-10-04T02:07:56.306691",
     "exception": false,
     "start_time": "2021-10-04T02:07:56.287505",
     "status": "completed"
    },
    "tags": []
   },
   "outputs": [
    {
     "data": {
      "text/markdown": [
       "- As Ethereum prepares for Altair upgrade, ‘bug-bounty program’ to reward users.  Ethereum has remained focused on the development of its network, irrespective of what was happening in the spot market. Just a few days back the team announced the launch of Altair upgrade, also described as the first mainnet upgrade to the Beacon Chain. The upgrade is scheduled to take place at epoch 74240 or close [&#8230;] ... [| Skaityti daugiau](https://ambcrypto.com/ethereum-bug-bounty-hunters-will-be-paid-double-heres-why/) "
      ],
      "text/plain": [
       "<IPython.core.display.Markdown object>"
      ]
     },
     "execution_count": 7,
     "metadata": {},
     "output_type": "execute_result"
    }
   ],
   "source": [
    "#hide_input\n",
    "#md('##### {}'.format(titleBTC)) \n",
    "md(\"- {}{} {}{} [| Skaityti daugiau]({}) \".format(eth['title'],'. ', eth['body'], ' ...', eth['url']))"
   ]
  },
  {
   "cell_type": "code",
   "execution_count": 8,
   "id": "sublime-lounge",
   "metadata": {
    "execution": {
     "iopub.execute_input": "2021-10-04T02:07:56.335928Z",
     "iopub.status.busy": "2021-10-04T02:07:56.335291Z",
     "iopub.status.idle": "2021-10-04T02:07:56.337659Z",
     "shell.execute_reply": "2021-10-04T02:07:56.338205Z"
    },
    "papermill": {
     "duration": 0.020261,
     "end_time": "2021-10-04T02:07:56.338344",
     "exception": false,
     "start_time": "2021-10-04T02:07:56.318083",
     "status": "completed"
    },
    "tags": []
   },
   "outputs": [
    {
     "data": {
      "text/markdown": [
       "- Grayscale’s Cardano report cites ‘iconic founder’ but low network fee revenue.  With Alonzo launched and the Cardano Summit over, founder Charles Hoskinson announced he was off to a ranch &#8211; without Twitter. However, investors didn&#8217;t forget about Cardano. Grayscale Investments, a crypto asset management company, released a report introducing readers to the third biggest blockchain by market cap. While this might sound standard, the report provided [&#8230;] ... [| Skaityti daugiau](https://ambcrypto.com/grayscales-cardano-report-cites-iconic-founder-but-low-network-fee-revenue/) "
      ],
      "text/plain": [
       "<IPython.core.display.Markdown object>"
      ]
     },
     "execution_count": 8,
     "metadata": {},
     "output_type": "execute_result"
    }
   ],
   "source": [
    "#hide_input\n",
    "#md('##### {}'.format(titleBTC)) \n",
    "md(\"- {}{} {}{} [| Skaityti daugiau]({}) \".format(ada['title'],'. ', ada['body'], ' ...', ada['url']))"
   ]
  },
  {
   "cell_type": "code",
   "execution_count": 9,
   "id": "specified-ordering",
   "metadata": {
    "execution": {
     "iopub.execute_input": "2021-10-04T02:07:56.368952Z",
     "iopub.status.busy": "2021-10-04T02:07:56.368344Z",
     "iopub.status.idle": "2021-10-04T02:07:56.372037Z",
     "shell.execute_reply": "2021-10-04T02:07:56.371506Z"
    },
    "papermill": {
     "duration": 0.021398,
     "end_time": "2021-10-04T02:07:56.372159",
     "exception": false,
     "start_time": "2021-10-04T02:07:56.350761",
     "status": "completed"
    },
    "tags": []
   },
   "outputs": [
    {
     "data": {
      "text/markdown": [
       "- Coinbase Meeting With US Lawmakers to Discuss Crypto Regulatory Proposal.  The Nasdaq-listed crypto exchange Coinbase has been meeting with members of Congress to discuss the cryptocurrency regulation it plans to propose, according to CEO Brian Armstrong. In addition, the company has met with more than 30 crypto firms, four major law firms, and three trade groups about its crypto proposal. Coinbase Meeting Congress Members and [&#8230;] ... [| Skaityti daugiau](https://news.bitcoin.com/coinbase-meeting-us-lawmakers-to-discuss-crypto-regulatory-proposal/) "
      ],
      "text/plain": [
       "<IPython.core.display.Markdown object>"
      ]
     },
     "execution_count": 9,
     "metadata": {},
     "output_type": "execute_result"
    }
   ],
   "source": [
    "#hide_input\n",
    "#md('##### {}'.format(titleBTC)) \n",
    "md(\"- {}{} {}{} [| Skaityti daugiau]({}) \".format(exchange['title'],'. ', exchange['body'], ' ...', exchange['url']))"
   ]
  },
  {
   "cell_type": "code",
   "execution_count": null,
   "id": "tender-livestock",
   "metadata": {
    "papermill": {
     "duration": 0.012556,
     "end_time": "2021-10-04T02:07:56.397431",
     "exception": false,
     "start_time": "2021-10-04T02:07:56.384875",
     "status": "completed"
    },
    "tags": []
   },
   "outputs": [],
   "source": []
  },
  {
   "cell_type": "code",
   "execution_count": null,
   "id": "appreciated-diamond",
   "metadata": {
    "papermill": {
     "duration": 0.012954,
     "end_time": "2021-10-04T02:07:56.423351",
     "exception": false,
     "start_time": "2021-10-04T02:07:56.410397",
     "status": "completed"
    },
    "tags": []
   },
   "outputs": [],
   "source": []
  },
  {
   "cell_type": "code",
   "execution_count": null,
   "id": "romance-sweden",
   "metadata": {
    "papermill": {
     "duration": 0.012976,
     "end_time": "2021-10-04T02:07:56.449131",
     "exception": false,
     "start_time": "2021-10-04T02:07:56.436155",
     "status": "completed"
    },
    "tags": []
   },
   "outputs": [],
   "source": []
  },
  {
   "cell_type": "code",
   "execution_count": null,
   "id": "dietary-statistics",
   "metadata": {
    "papermill": {
     "duration": 0.012846,
     "end_time": "2021-10-04T02:07:56.474579",
     "exception": false,
     "start_time": "2021-10-04T02:07:56.461733",
     "status": "completed"
    },
    "tags": []
   },
   "outputs": [],
   "source": []
  }
 ],
 "metadata": {
  "kernelspec": {
   "display_name": "Python 3",
   "language": "python",
   "name": "python3"
  },
  "language_info": {
   "codemirror_mode": {
    "name": "ipython",
    "version": 3
   },
   "file_extension": ".py",
   "mimetype": "text/x-python",
   "name": "python",
   "nbconvert_exporter": "python",
   "pygments_lexer": "ipython3",
   "version": "3.6.15"
  },
  "papermill": {
   "default_parameters": {},
   "duration": 13.080308,
   "end_time": "2021-10-04T02:07:56.997138",
   "environment_variables": {},
   "exception": null,
   "input_path": "Market-News.ipynb",
   "output_path": "Market-News.ipynb",
   "parameters": {},
   "start_time": "2021-10-04T02:07:43.916830",
   "version": "2.2.2"
  }
 },
 "nbformat": 4,
 "nbformat_minor": 5
}