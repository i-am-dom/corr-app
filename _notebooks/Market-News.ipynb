{
 "cells": [
  {
   "cell_type": "markdown",
   "id": "short-greensboro",
   "metadata": {
    "papermill": {
     "duration": 0.012561,
     "end_time": "2022-03-05T02:10:41.526501",
     "exception": false,
     "start_time": "2022-03-05T02:10:41.513940",
     "status": "completed"
    },
    "tags": []
   },
   "source": [
    "# Kriptovaliutų naujienos"
   ]
  },
  {
   "cell_type": "code",
   "execution_count": 1,
   "id": "functioning-knowing",
   "metadata": {
    "execution": {
     "iopub.execute_input": "2022-03-05T02:10:41.555853Z",
     "iopub.status.busy": "2022-03-05T02:10:41.555331Z",
     "iopub.status.idle": "2022-03-05T02:10:42.743231Z",
     "shell.execute_reply": "2022-03-05T02:10:42.742766Z"
    },
    "papermill": {
     "duration": 1.206722,
     "end_time": "2022-03-05T02:10:42.743361",
     "exception": false,
     "start_time": "2022-03-05T02:10:41.536639",
     "status": "completed"
    },
    "tags": []
   },
   "outputs": [],
   "source": [
    "#hide_input\n",
    "import warnings\n",
    "warnings.filterwarnings('ignore')\n",
    "from scripts.read_data import read_api\n",
    "from scripts.read_data import read_news\n",
    "from scripts.read_data import read_covid\n",
    "import matplotlib.pyplot as plt \n",
    "from IPython.display import Markdown as md"
   ]
  },
  {
   "cell_type": "code",
   "execution_count": 2,
   "id": "shared-acceptance",
   "metadata": {
    "execution": {
     "iopub.execute_input": "2022-03-05T02:10:42.768825Z",
     "iopub.status.busy": "2022-03-05T02:10:42.767955Z",
     "iopub.status.idle": "2022-03-05T02:10:53.126479Z",
     "shell.execute_reply": "2022-03-05T02:10:53.126030Z"
    },
    "papermill": {
     "duration": 10.373576,
     "end_time": "2022-03-05T02:10:53.126593",
     "exception": false,
     "start_time": "2022-03-05T02:10:42.753017",
     "status": "completed"
    },
    "tags": []
   },
   "outputs": [],
   "source": [
    "#hide_input\n",
    "blockchain = read_news('blockchain') \n",
    "btc = read_news('btc') \n",
    "xrp = read_news('xrp') \n",
    "trx = read_news('trx') \n",
    "eth = read_news('eth')  \n",
    "ada = read_news('ada')\n",
    "exchange = read_news('exchange') "
   ]
  },
  {
   "cell_type": "code",
   "execution_count": 3,
   "id": "synthetic-notion",
   "metadata": {
    "execution": {
     "iopub.execute_input": "2022-03-05T02:10:53.151380Z",
     "iopub.status.busy": "2022-03-05T02:10:53.150874Z",
     "iopub.status.idle": "2022-03-05T02:10:53.153415Z",
     "shell.execute_reply": "2022-03-05T02:10:53.153027Z"
    },
    "papermill": {
     "duration": 0.0173,
     "end_time": "2022-03-05T02:10:53.153513",
     "exception": false,
     "start_time": "2022-03-05T02:10:53.136213",
     "status": "completed"
    },
    "tags": []
   },
   "outputs": [
    {
     "data": {
      "text/markdown": [
       "- The best is yet to come: What’s next for blockchain and the creator economy.  The global pandemic changed everything for creators: The stay-at-home orders accelerated the shift toward blockchain and Web3 advancement. ... [| Skaityti daugiau](https://cointelegraph.com/news/the-best-is-yet-to-come-what-s-next-for-blockchain-and-the-creator-economy) "
      ],
      "text/plain": [
       "<IPython.core.display.Markdown object>"
      ]
     },
     "execution_count": 3,
     "metadata": {},
     "output_type": "execute_result"
    }
   ],
   "source": [
    "#hide_input\n",
    "#md('##### {}'.format(titleBTC)) \n",
    "md(\"- {}{} {}{} [| Skaityti daugiau]({}) \".format(blockchain['title'],'. ', blockchain['body'], ' ...', blockchain['url']))"
   ]
  },
  {
   "cell_type": "code",
   "execution_count": 4,
   "id": "aging-caution",
   "metadata": {
    "execution": {
     "iopub.execute_input": "2022-03-05T02:10:53.177089Z",
     "iopub.status.busy": "2022-03-05T02:10:53.176585Z",
     "iopub.status.idle": "2022-03-05T02:10:53.179167Z",
     "shell.execute_reply": "2022-03-05T02:10:53.178770Z"
    },
    "papermill": {
     "duration": 0.016045,
     "end_time": "2022-03-05T02:10:53.179267",
     "exception": false,
     "start_time": "2022-03-05T02:10:53.163222",
     "status": "completed"
    },
    "tags": []
   },
   "outputs": [
    {
     "data": {
      "text/markdown": [
       "- Bitcoin ($BTC) Price Can Reach $50,000 by End of March, Says deVere Group CEO.  Nigel Green, CEO of independent financial consultancy deVere Group, has revealed he believes the price of the flagship cryptocurrency bitcoin ($BTC) could move toward the $50,000 mark by the end of March over the ongoing war between Ukraine and Russia. According to ETF Trends, commenting on BTC’s current price momentum Green revealed he believes the cryptocurrency’s […] ... [| Skaityti daugiau](https://www.cryptoglobe.com/latest/2022/03/bitcoin-btc-price-can-reach-50000-by-end-of-march-says-devere-group-ceo/) "
      ],
      "text/plain": [
       "<IPython.core.display.Markdown object>"
      ]
     },
     "execution_count": 4,
     "metadata": {},
     "output_type": "execute_result"
    }
   ],
   "source": [
    "#hide_input\n",
    "#md('##### {}'.format(titleBTC)) \n",
    "md(\"- {}{} {}{} [| Skaityti daugiau]({}) \".format(btc['title'],'. ', btc['body'], ' ...', btc['url']))"
   ]
  },
  {
   "cell_type": "code",
   "execution_count": 5,
   "id": "organic-actress",
   "metadata": {
    "execution": {
     "iopub.execute_input": "2022-03-05T02:10:53.203556Z",
     "iopub.status.busy": "2022-03-05T02:10:53.203052Z",
     "iopub.status.idle": "2022-03-05T02:10:53.206881Z",
     "shell.execute_reply": "2022-03-05T02:10:53.206444Z"
    },
    "papermill": {
     "duration": 0.017722,
     "end_time": "2022-03-05T02:10:53.206977",
     "exception": false,
     "start_time": "2022-03-05T02:10:53.189255",
     "status": "completed"
    },
    "tags": []
   },
   "outputs": [
    {
     "data": {
      "text/markdown": [
       "- Whales continue to accumulate XRP; is it the right time to enter the market.  XRP price continues to consolidate between two crucial converging trend lines. As the asset coils up, it prepares for a massive breakout that will result in an explosive run-up or run-down. On-chain metrics, however, suggest that this move will likely favor the bulls. Ripple bulls await volatility XRP price action from December 2021, has set [&#8230;] ... [| Skaityti daugiau](https://ambcrypto.com/whales-continue-to-accumulate-xrp-is-it-the-right-time-to-enter-the-market/) "
      ],
      "text/plain": [
       "<IPython.core.display.Markdown object>"
      ]
     },
     "execution_count": 5,
     "metadata": {},
     "output_type": "execute_result"
    }
   ],
   "source": [
    "#hide_input\n",
    "#md('##### {}'.format(titleBTC)) \n",
    "md(\"- {}{} {}{} [| Skaityti daugiau]({}) \".format(xrp['title'],'. ', xrp['body'], ' ...', xrp['url']))"
   ]
  },
  {
   "cell_type": "code",
   "execution_count": 6,
   "id": "prompt-farmer",
   "metadata": {
    "execution": {
     "iopub.execute_input": "2022-03-05T02:10:53.231780Z",
     "iopub.status.busy": "2022-03-05T02:10:53.231282Z",
     "iopub.status.idle": "2022-03-05T02:10:53.233865Z",
     "shell.execute_reply": "2022-03-05T02:10:53.233452Z"
    },
    "papermill": {
     "duration": 0.016711,
     "end_time": "2022-03-05T02:10:53.233960",
     "exception": false,
     "start_time": "2022-03-05T02:10:53.217249",
     "status": "completed"
    },
    "tags": []
   },
   "outputs": [
    {
     "data": {
      "text/markdown": [
       "- Chainlink, MATIC and TRX Price Analysis: 03 February.  As the market tried to recover amidst Russia&#8217;s escalating tensions, the likes of Chainlink and MATIC projected growth patterns. However, TRX seemed more inclined towards the bears. Chainlink (LINK) Even though bulls made a desperate attempt to recover from the December crash, LINK dropped to a year low support level of $11.68 on 24 February. [&#8230;] ... [| Skaityti daugiau](https://ambcrypto.com/chainlink-matic-and-trx-price-analysis-03-february/) "
      ],
      "text/plain": [
       "<IPython.core.display.Markdown object>"
      ]
     },
     "execution_count": 6,
     "metadata": {},
     "output_type": "execute_result"
    }
   ],
   "source": [
    "#hide_input\n",
    "#md('##### {}'.format(titleBTC)) \n",
    "md(\"- {}{} {}{} [| Skaityti daugiau]({}) \".format(trx['title'],'. ', trx['body'], ' ...', trx['url']))"
   ]
  },
  {
   "cell_type": "code",
   "execution_count": 7,
   "id": "illegal-greece",
   "metadata": {
    "execution": {
     "iopub.execute_input": "2022-03-05T02:10:53.259550Z",
     "iopub.status.busy": "2022-03-05T02:10:53.258602Z",
     "iopub.status.idle": "2022-03-05T02:10:53.261816Z",
     "shell.execute_reply": "2022-03-05T02:10:53.262209Z"
    },
    "papermill": {
     "duration": 0.017387,
     "end_time": "2022-03-05T02:10:53.262319",
     "exception": false,
     "start_time": "2022-03-05T02:10:53.244932",
     "status": "completed"
    },
    "tags": []
   },
   "outputs": [
    {
     "data": {
      "text/markdown": [
       "- UkraineDAO Raises $6.75 Million In ETH Donations For Flag NFT.  Ukraine auctioned a picture of its flag using Ethereum to raise over $6 million for its war defense. ... [| Skaityti daugiau](https://cryptopotato.com/ukrainedao-raises-6-75-million-in-eth-donations-for-flag-nft/) "
      ],
      "text/plain": [
       "<IPython.core.display.Markdown object>"
      ]
     },
     "execution_count": 7,
     "metadata": {},
     "output_type": "execute_result"
    }
   ],
   "source": [
    "#hide_input\n",
    "#md('##### {}'.format(titleBTC)) \n",
    "md(\"- {}{} {}{} [| Skaityti daugiau]({}) \".format(eth['title'],'. ', eth['body'], ' ...', eth['url']))"
   ]
  },
  {
   "cell_type": "code",
   "execution_count": 8,
   "id": "sublime-lounge",
   "metadata": {
    "execution": {
     "iopub.execute_input": "2022-03-05T02:10:53.288488Z",
     "iopub.status.busy": "2022-03-05T02:10:53.287990Z",
     "iopub.status.idle": "2022-03-05T02:10:53.290573Z",
     "shell.execute_reply": "2022-03-05T02:10:53.290162Z"
    },
    "papermill": {
     "duration": 0.017356,
     "end_time": "2022-03-05T02:10:53.290682",
     "exception": false,
     "start_time": "2022-03-05T02:10:53.273326",
     "status": "completed"
    },
    "tags": []
   },
   "outputs": [
    {
     "data": {
      "text/markdown": [
       "- Accumulation phase for Cardano continues; should ADA holders get ready for bull run.  The price of ADA followed a steady downtrend since August 2021 regardless of the recent upgrades to the network. In fact, post 20 February, the price of the token fell below the $1 mark and recorded a 4.92% decrease over the previous seven days. At press time, the price of ADA was $0.88 – a [&#8230;] ... [| Skaityti daugiau](https://ambcrypto.com/accumulation-phase-for-cardano-continues-should-ada-holders-get-ready-for-a-bull-ride/) "
      ],
      "text/plain": [
       "<IPython.core.display.Markdown object>"
      ]
     },
     "execution_count": 8,
     "metadata": {},
     "output_type": "execute_result"
    }
   ],
   "source": [
    "#hide_input\n",
    "#md('##### {}'.format(titleBTC)) \n",
    "md(\"- {}{} {}{} [| Skaityti daugiau]({}) \".format(ada['title'],'. ', ada['body'], ' ...', ada['url']))"
   ]
  },
  {
   "cell_type": "code",
   "execution_count": 9,
   "id": "specified-ordering",
   "metadata": {
    "execution": {
     "iopub.execute_input": "2022-03-05T02:10:53.317019Z",
     "iopub.status.busy": "2022-03-05T02:10:53.316113Z",
     "iopub.status.idle": "2022-03-05T02:10:53.319704Z",
     "shell.execute_reply": "2022-03-05T02:10:53.319302Z"
    },
    "papermill": {
     "duration": 0.017846,
     "end_time": "2022-03-05T02:10:53.319802",
     "exception": false,
     "start_time": "2022-03-05T02:10:53.301956",
     "status": "completed"
    },
    "tags": []
   },
   "outputs": [
    {
     "data": {
      "text/markdown": [
       "- ‘Big Four’ South Korean Crypto Exchanges Say They’ve Blocked Russian Users.  All four major South Korean crypto exchanges say they will block users with Russian IP addresses “in line with sanctions” – despite the fact that their overseas counterparts have ruled out making such a move without direct instruction from governments....Read More: ‘Big Four’ South Korean Crypto Exchanges Say They’ve Blocked Russian Users ... [| Skaityti daugiau](https://cryptonews.com/news/big-four-south-korean-crypto-exchanges-say-theyve-blocked-russian-users.htm) "
      ],
      "text/plain": [
       "<IPython.core.display.Markdown object>"
      ]
     },
     "execution_count": 9,
     "metadata": {},
     "output_type": "execute_result"
    }
   ],
   "source": [
    "#hide_input\n",
    "#md('##### {}'.format(titleBTC)) \n",
    "md(\"- {}{} {}{} [| Skaityti daugiau]({}) \".format(exchange['title'],'. ', exchange['body'], ' ...', exchange['url']))"
   ]
  },
  {
   "cell_type": "code",
   "execution_count": null,
   "id": "tender-livestock",
   "metadata": {
    "papermill": {
     "duration": 0.011616,
     "end_time": "2022-03-05T02:10:53.343085",
     "exception": false,
     "start_time": "2022-03-05T02:10:53.331469",
     "status": "completed"
    },
    "tags": []
   },
   "outputs": [],
   "source": []
  },
  {
   "cell_type": "code",
   "execution_count": null,
   "id": "appreciated-diamond",
   "metadata": {
    "papermill": {
     "duration": 0.012764,
     "end_time": "2022-03-05T02:10:53.368000",
     "exception": false,
     "start_time": "2022-03-05T02:10:53.355236",
     "status": "completed"
    },
    "tags": []
   },
   "outputs": [],
   "source": []
  },
  {
   "cell_type": "code",
   "execution_count": null,
   "id": "romance-sweden",
   "metadata": {
    "papermill": {
     "duration": 0.011565,
     "end_time": "2022-03-05T02:10:53.392220",
     "exception": false,
     "start_time": "2022-03-05T02:10:53.380655",
     "status": "completed"
    },
    "tags": []
   },
   "outputs": [],
   "source": []
  },
  {
   "cell_type": "code",
   "execution_count": null,
   "id": "dietary-statistics",
   "metadata": {
    "papermill": {
     "duration": 0.011548,
     "end_time": "2022-03-05T02:10:53.415360",
     "exception": false,
     "start_time": "2022-03-05T02:10:53.403812",
     "status": "completed"
    },
    "tags": []
   },
   "outputs": [],
   "source": []
  }
 ],
 "metadata": {
  "kernelspec": {
   "display_name": "Python 3",
   "language": "python",
   "name": "python3"
  },
  "language_info": {
   "codemirror_mode": {
    "name": "ipython",
    "version": 3
   },
   "file_extension": ".py",
   "mimetype": "text/x-python",
   "name": "python",
   "nbconvert_exporter": "python",
   "pygments_lexer": "ipython3",
   "version": "3.6.15"
  },
  "papermill": {
   "default_parameters": {},
   "duration": 13.23056,
   "end_time": "2022-03-05T02:10:53.844007",
   "environment_variables": {},
   "exception": null,
   "input_path": "Market-News.ipynb",
   "output_path": "Market-News.ipynb",
   "parameters": {},
   "start_time": "2022-03-05T02:10:40.613447",
   "version": "2.2.2"
  }
 },
 "nbformat": 4,
 "nbformat_minor": 5
}