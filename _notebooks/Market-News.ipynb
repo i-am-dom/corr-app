{
 "cells": [
  {
   "cell_type": "markdown",
   "id": "short-greensboro",
   "metadata": {
    "papermill": {
     "duration": 0.012269,
     "end_time": "2021-12-04T02:00:03.232059",
     "exception": false,
     "start_time": "2021-12-04T02:00:03.219790",
     "status": "completed"
    },
    "tags": []
   },
   "source": [
    "# Kriptovaliutų naujienos"
   ]
  },
  {
   "cell_type": "code",
   "execution_count": 1,
   "id": "functioning-knowing",
   "metadata": {
    "execution": {
     "iopub.execute_input": "2021-12-04T02:00:03.260779Z",
     "iopub.status.busy": "2021-12-04T02:00:03.258593Z",
     "iopub.status.idle": "2021-12-04T02:00:04.446438Z",
     "shell.execute_reply": "2021-12-04T02:00:04.445983Z"
    },
    "papermill": {
     "duration": 1.204576,
     "end_time": "2021-12-04T02:00:04.446564",
     "exception": false,
     "start_time": "2021-12-04T02:00:03.241988",
     "status": "completed"
    },
    "tags": []
   },
   "outputs": [],
   "source": [
    "#hide_input\n",
    "import warnings\n",
    "warnings.filterwarnings('ignore')\n",
    "from scripts.read_data import read_api\n",
    "from scripts.read_data import read_news\n",
    "from scripts.read_data import read_covid\n",
    "import matplotlib.pyplot as plt \n",
    "from IPython.display import Markdown as md"
   ]
  },
  {
   "cell_type": "code",
   "execution_count": 2,
   "id": "shared-acceptance",
   "metadata": {
    "execution": {
     "iopub.execute_input": "2021-12-04T02:00:04.472098Z",
     "iopub.status.busy": "2021-12-04T02:00:04.471226Z",
     "iopub.status.idle": "2021-12-04T02:00:19.625111Z",
     "shell.execute_reply": "2021-12-04T02:00:19.624250Z"
    },
    "papermill": {
     "duration": 15.169097,
     "end_time": "2021-12-04T02:00:19.625232",
     "exception": false,
     "start_time": "2021-12-04T02:00:04.456135",
     "status": "completed"
    },
    "tags": []
   },
   "outputs": [],
   "source": [
    "#hide_input\n",
    "blockchain = read_news('blockchain') \n",
    "btc = read_news('btc') \n",
    "xrp = read_news('xrp') \n",
    "trx = read_news('trx') \n",
    "eth = read_news('eth')  \n",
    "ada = read_news('ada')\n",
    "exchange = read_news('exchange') "
   ]
  },
  {
   "cell_type": "code",
   "execution_count": 3,
   "id": "synthetic-notion",
   "metadata": {
    "execution": {
     "iopub.execute_input": "2021-12-04T02:00:19.647898Z",
     "iopub.status.busy": "2021-12-04T02:00:19.647416Z",
     "iopub.status.idle": "2021-12-04T02:00:19.652228Z",
     "shell.execute_reply": "2021-12-04T02:00:19.651828Z"
    },
    "papermill": {
     "duration": 0.017427,
     "end_time": "2021-12-04T02:00:19.652327",
     "exception": false,
     "start_time": "2021-12-04T02:00:19.634900",
     "status": "completed"
    },
    "tags": []
   },
   "outputs": [
    {
     "data": {
      "text/markdown": [
       "- Traders say ATOM could eventually do an AVAX-like surge to $100.  Fractals, bullish technical analysis patterns and the fact that 67% of the total supply is staked are key reasons why analysts expect ATOM to hit new highs shortly. ... [| Skaityti daugiau](https://cointelegraph.com/news/traders-say-atom-could-eventually-do-an-avax-like-surge-to-100) "
      ],
      "text/plain": [
       "<IPython.core.display.Markdown object>"
      ]
     },
     "execution_count": 3,
     "metadata": {},
     "output_type": "execute_result"
    }
   ],
   "source": [
    "#hide_input\n",
    "#md('##### {}'.format(titleBTC)) \n",
    "md(\"- {}{} {}{} [| Skaityti daugiau]({}) \".format(blockchain['title'],'. ', blockchain['body'], ' ...', blockchain['url']))"
   ]
  },
  {
   "cell_type": "code",
   "execution_count": 4,
   "id": "aging-caution",
   "metadata": {
    "execution": {
     "iopub.execute_input": "2021-12-04T02:00:19.675865Z",
     "iopub.status.busy": "2021-12-04T02:00:19.675364Z",
     "iopub.status.idle": "2021-12-04T02:00:19.680253Z",
     "shell.execute_reply": "2021-12-04T02:00:19.679842Z"
    },
    "papermill": {
     "duration": 0.018308,
     "end_time": "2021-12-04T02:00:19.680353",
     "exception": false,
     "start_time": "2021-12-04T02:00:19.662045",
     "status": "completed"
    },
    "tags": []
   },
   "outputs": [
    {
     "data": {
      "text/markdown": [
       "- Can stablecoin US dollars cause ‘every currency other than top dozen to collapse’.  Billionaire entrepreneur Michael Saylor is known for his bombastic metaphors and high ambitions where Bitcoin is concerned. During an episode of the What Bitcoin Did podcast, Saylor spoke to host Peter McCormack to explain why he viewed Bitcoin as a form of energy. Show some energy, folks Saylor spent quite some time exploring different forms [&#8230;] ... [| Skaityti daugiau](https://ambcrypto.com/can-stablecoin-us-dollars-cause-every-currency-other-than-top-dozen-to-collapse/) "
      ],
      "text/plain": [
       "<IPython.core.display.Markdown object>"
      ]
     },
     "execution_count": 4,
     "metadata": {},
     "output_type": "execute_result"
    }
   ],
   "source": [
    "#hide_input\n",
    "#md('##### {}'.format(titleBTC)) \n",
    "md(\"- {}{} {}{} [| Skaityti daugiau]({}) \".format(btc['title'],'. ', btc['body'], ' ...', btc['url']))"
   ]
  },
  {
   "cell_type": "code",
   "execution_count": 5,
   "id": "organic-actress",
   "metadata": {
    "execution": {
     "iopub.execute_input": "2021-12-04T02:00:19.705312Z",
     "iopub.status.busy": "2021-12-04T02:00:19.704762Z",
     "iopub.status.idle": "2021-12-04T02:00:19.706579Z",
     "shell.execute_reply": "2021-12-04T02:00:19.706953Z"
    },
    "papermill": {
     "duration": 0.016791,
     "end_time": "2021-12-04T02:00:19.707061",
     "exception": false,
     "start_time": "2021-12-04T02:00:19.690270",
     "status": "completed"
    },
    "tags": []
   },
   "outputs": [
    {
     "data": {
      "text/markdown": [
       "- FTX Follows Coinbase, Ripple in Releasing Regulatory Framework.  FTX joins other exchanges, including Coinbase, in releasing a regulatory framework just five days before its CEO is scheduled to testify before congress. The post FTX Follows Coinbase, Ripple in Releasing Regulatory Framework appeared first on Blockworks. ... [| Skaityti daugiau](https://blockworks.co/ftx-follows-coinbase-ripple-in-releasing-regulatory-framework/) "
      ],
      "text/plain": [
       "<IPython.core.display.Markdown object>"
      ]
     },
     "execution_count": 5,
     "metadata": {},
     "output_type": "execute_result"
    }
   ],
   "source": [
    "#hide_input\n",
    "#md('##### {}'.format(titleBTC)) \n",
    "md(\"- {}{} {}{} [| Skaityti daugiau]({}) \".format(xrp['title'],'. ', xrp['body'], ' ...', xrp['url']))"
   ]
  },
  {
   "cell_type": "code",
   "execution_count": 6,
   "id": "prompt-farmer",
   "metadata": {
    "execution": {
     "iopub.execute_input": "2021-12-04T02:00:19.731668Z",
     "iopub.status.busy": "2021-12-04T02:00:19.731170Z",
     "iopub.status.idle": "2021-12-04T02:00:19.735995Z",
     "shell.execute_reply": "2021-12-04T02:00:19.735586Z"
    },
    "papermill": {
     "duration": 0.018894,
     "end_time": "2021-12-04T02:00:19.736095",
     "exception": false,
     "start_time": "2021-12-04T02:00:19.717201",
     "status": "completed"
    },
    "tags": []
   },
   "outputs": [
    {
     "data": {
      "text/markdown": [
       "- Bitcoin Cash, Tron, Terra Price Analysis: 03 December.  As the broader market entered into a possible recovery phase, Tron saw gains on its daily chart after bouncing from its two-month support level. Moreover, Terra&#8217;s LUNA saw 56.4% weekly ROI while it entered into price discovery and found its ATH on 3 December. On the flip side, Bitcoin Cash flashed bearish near-term technical indications. [&#8230;] ... [| Skaityti daugiau](https://ambcrypto.com/bitcoin-cash-tron-terra-price-analysis-03-december/) "
      ],
      "text/plain": [
       "<IPython.core.display.Markdown object>"
      ]
     },
     "execution_count": 6,
     "metadata": {},
     "output_type": "execute_result"
    }
   ],
   "source": [
    "#hide_input\n",
    "#md('##### {}'.format(titleBTC)) \n",
    "md(\"- {}{} {}{} [| Skaityti daugiau]({}) \".format(trx['title'],'. ', trx['body'], ' ...', trx['url']))"
   ]
  },
  {
   "cell_type": "code",
   "execution_count": 7,
   "id": "illegal-greece",
   "metadata": {
    "execution": {
     "iopub.execute_input": "2021-12-04T02:00:19.761558Z",
     "iopub.status.busy": "2021-12-04T02:00:19.761037Z",
     "iopub.status.idle": "2021-12-04T02:00:19.764485Z",
     "shell.execute_reply": "2021-12-04T02:00:19.764069Z"
    },
    "papermill": {
     "duration": 0.017477,
     "end_time": "2021-12-04T02:00:19.764580",
     "exception": false,
     "start_time": "2021-12-04T02:00:19.747103",
     "status": "completed"
    },
    "tags": []
   },
   "outputs": [
    {
     "data": {
      "text/markdown": [
       "- IOTA to Release Smart Contract Network ‘Assembly’ And Distribute ASMB Token.  The ledger IOTA aims to become &#8220;a fully decentralized, feeless multi-asset ledger&#8221; by launching Assembly in 2022, a governance layer one for permissionless smart contracts, along with the native token ASMB that will open the doors for the network’s main stakeholders, who would be democratizing Assembly. IOTA&#8217;s founders say the ledger is a “public permission-less backbone for the Internet of Things that enables interoperability between multiple devices.” It aims to provide decentralized transactions accessible for everyone, without the need for miners or blocks, offering solutions for the cost fees, increasing scalability, and staying secure by using the Tangle network. As the Shimmer network was released only two weeks ago along with its own token -with real monetary value, most likely to be traded on crypto exchanges- to stake, some skeptical users questioned the actual need for Assembly, but enthusiasts have compared to a scalable Ethereum without imposed fees. Smart contracts will be allowed to run for free, but there is an option to put a price when high computing power is needed, in which cases supply and demand will determine prices. Smart contract chains can be fully run from Assembly&#8217;s own network, which is the reason for all activities to be anchored to the IOTA Tangle to provide trust by &#8220;making them fully immutable and secure&#8221;. Related Reading &#124; IOTA Smart Contracts Enter Bet... ... [| Skaityti daugiau](https://www.newsbtc.com/news/iota-to-release-smart-contracts-network-assembly-and-distributre-asmb-token/) "
      ],
      "text/plain": [
       "<IPython.core.display.Markdown object>"
      ]
     },
     "execution_count": 7,
     "metadata": {},
     "output_type": "execute_result"
    }
   ],
   "source": [
    "#hide_input\n",
    "#md('##### {}'.format(titleBTC)) \n",
    "md(\"- {}{} {}{} [| Skaityti daugiau]({}) \".format(eth['title'],'. ', eth['body'], ' ...', eth['url']))"
   ]
  },
  {
   "cell_type": "code",
   "execution_count": 8,
   "id": "sublime-lounge",
   "metadata": {
    "execution": {
     "iopub.execute_input": "2021-12-04T02:00:19.790634Z",
     "iopub.status.busy": "2021-12-04T02:00:19.790120Z",
     "iopub.status.idle": "2021-12-04T02:00:19.791978Z",
     "shell.execute_reply": "2021-12-04T02:00:19.792354Z"
    },
    "papermill": {
     "duration": 0.01703,
     "end_time": "2021-12-04T02:00:19.792461",
     "exception": false,
     "start_time": "2021-12-04T02:00:19.775431",
     "status": "completed"
    },
    "tags": []
   },
   "outputs": [
    {
     "data": {
      "text/markdown": [
       "- Traders say ATOM could eventually do an AVAX-like surge to $100.  Fractals, bullish technical analysis patterns and the fact that 67% of the total supply is staked are key reasons why analysts expect ATOM to hit new highs shortly. ... [| Skaityti daugiau](https://cointelegraph.com/news/traders-say-atom-could-eventually-do-an-avax-like-surge-to-100) "
      ],
      "text/plain": [
       "<IPython.core.display.Markdown object>"
      ]
     },
     "execution_count": 8,
     "metadata": {},
     "output_type": "execute_result"
    }
   ],
   "source": [
    "#hide_input\n",
    "#md('##### {}'.format(titleBTC)) \n",
    "md(\"- {}{} {}{} [| Skaityti daugiau]({}) \".format(ada['title'],'. ', ada['body'], ' ...', ada['url']))"
   ]
  },
  {
   "cell_type": "code",
   "execution_count": 9,
   "id": "specified-ordering",
   "metadata": {
    "execution": {
     "iopub.execute_input": "2021-12-04T02:00:19.819411Z",
     "iopub.status.busy": "2021-12-04T02:00:19.818891Z",
     "iopub.status.idle": "2021-12-04T02:00:19.820719Z",
     "shell.execute_reply": "2021-12-04T02:00:19.821113Z"
    },
    "papermill": {
     "duration": 0.017509,
     "end_time": "2021-12-04T02:00:19.821221",
     "exception": false,
     "start_time": "2021-12-04T02:00:19.803712",
     "status": "completed"
    },
    "tags": []
   },
   "outputs": [
    {
     "data": {
      "text/markdown": [
       "- Traders say ATOM could eventually do an AVAX-like surge to $100.  Fractals, bullish technical analysis patterns and the fact that 67% of the total supply is staked are key reasons why analysts expect ATOM to hit new highs shortly. ... [| Skaityti daugiau](https://cointelegraph.com/news/traders-say-atom-could-eventually-do-an-avax-like-surge-to-100) "
      ],
      "text/plain": [
       "<IPython.core.display.Markdown object>"
      ]
     },
     "execution_count": 9,
     "metadata": {},
     "output_type": "execute_result"
    }
   ],
   "source": [
    "#hide_input\n",
    "#md('##### {}'.format(titleBTC)) \n",
    "md(\"- {}{} {}{} [| Skaityti daugiau]({}) \".format(exchange['title'],'. ', exchange['body'], ' ...', exchange['url']))"
   ]
  },
  {
   "cell_type": "code",
   "execution_count": null,
   "id": "tender-livestock",
   "metadata": {
    "papermill": {
     "duration": 0.01151,
     "end_time": "2021-12-04T02:00:19.844422",
     "exception": false,
     "start_time": "2021-12-04T02:00:19.832912",
     "status": "completed"
    },
    "tags": []
   },
   "outputs": [],
   "source": []
  },
  {
   "cell_type": "code",
   "execution_count": null,
   "id": "appreciated-diamond",
   "metadata": {
    "papermill": {
     "duration": 0.011402,
     "end_time": "2021-12-04T02:00:19.867440",
     "exception": false,
     "start_time": "2021-12-04T02:00:19.856038",
     "status": "completed"
    },
    "tags": []
   },
   "outputs": [],
   "source": []
  },
  {
   "cell_type": "code",
   "execution_count": null,
   "id": "romance-sweden",
   "metadata": {
    "papermill": {
     "duration": 0.011459,
     "end_time": "2021-12-04T02:00:19.890414",
     "exception": false,
     "start_time": "2021-12-04T02:00:19.878955",
     "status": "completed"
    },
    "tags": []
   },
   "outputs": [],
   "source": []
  },
  {
   "cell_type": "code",
   "execution_count": null,
   "id": "dietary-statistics",
   "metadata": {
    "papermill": {
     "duration": 0.011402,
     "end_time": "2021-12-04T02:00:19.913297",
     "exception": false,
     "start_time": "2021-12-04T02:00:19.901895",
     "status": "completed"
    },
    "tags": []
   },
   "outputs": [],
   "source": []
  }
 ],
 "metadata": {
  "kernelspec": {
   "display_name": "Python 3",
   "language": "python",
   "name": "python3"
  },
  "language_info": {
   "codemirror_mode": {
    "name": "ipython",
    "version": 3
   },
   "file_extension": ".py",
   "mimetype": "text/x-python",
   "name": "python",
   "nbconvert_exporter": "python",
   "pygments_lexer": "ipython3",
   "version": "3.6.15"
  },
  "papermill": {
   "default_parameters": {},
   "duration": 18.009998,
   "end_time": "2021-12-04T02:00:20.331126",
   "environment_variables": {},
   "exception": null,
   "input_path": "Market-News.ipynb",
   "output_path": "Market-News.ipynb",
   "parameters": {},
   "start_time": "2021-12-04T02:00:02.321128",
   "version": "2.2.2"
  }
 },
 "nbformat": 4,
 "nbformat_minor": 5
}