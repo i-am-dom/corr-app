{
 "cells": [
  {
   "cell_type": "markdown",
   "id": "short-greensboro",
   "metadata": {
    "papermill": {
     "duration": 0.014486,
     "end_time": "2022-09-19T03:54:37.195072",
     "exception": false,
     "start_time": "2022-09-19T03:54:37.180586",
     "status": "completed"
    },
    "tags": []
   },
   "source": [
    "# Kriptovaliutų naujienos"
   ]
  },
  {
   "cell_type": "code",
   "execution_count": 1,
   "id": "functioning-knowing",
   "metadata": {
    "execution": {
     "iopub.execute_input": "2022-09-19T03:54:37.233911Z",
     "iopub.status.busy": "2022-09-19T03:54:37.233147Z",
     "iopub.status.idle": "2022-09-19T03:54:38.615340Z",
     "shell.execute_reply": "2022-09-19T03:54:38.614765Z"
    },
    "papermill": {
     "duration": 1.408959,
     "end_time": "2022-09-19T03:54:38.615496",
     "exception": false,
     "start_time": "2022-09-19T03:54:37.206537",
     "status": "completed"
    },
    "tags": []
   },
   "outputs": [],
   "source": [
    "#hide_input\n",
    "import warnings\n",
    "warnings.filterwarnings('ignore')\n",
    "from scripts.read_data import read_api\n",
    "from scripts.read_data import read_news\n",
    "from scripts.read_data import read_covid\n",
    "import matplotlib.pyplot as plt \n",
    "from IPython.display import Markdown as md"
   ]
  },
  {
   "cell_type": "code",
   "execution_count": 2,
   "id": "shared-acceptance",
   "metadata": {
    "execution": {
     "iopub.execute_input": "2022-09-19T03:54:38.644867Z",
     "iopub.status.busy": "2022-09-19T03:54:38.644145Z",
     "iopub.status.idle": "2022-09-19T03:54:49.235094Z",
     "shell.execute_reply": "2022-09-19T03:54:49.234357Z"
    },
    "papermill": {
     "duration": 10.608678,
     "end_time": "2022-09-19T03:54:49.235273",
     "exception": false,
     "start_time": "2022-09-19T03:54:38.626595",
     "status": "completed"
    },
    "tags": []
   },
   "outputs": [],
   "source": [
    "#hide_input\n",
    "blockchain = read_news('blockchain') \n",
    "btc = read_news('btc') \n",
    "xrp = read_news('xrp') \n",
    "trx = read_news('trx') \n",
    "eth = read_news('eth')  \n",
    "ada = read_news('ada')\n",
    "exchange = read_news('exchange') "
   ]
  },
  {
   "cell_type": "code",
   "execution_count": 3,
   "id": "synthetic-notion",
   "metadata": {
    "execution": {
     "iopub.execute_input": "2022-09-19T03:54:49.267103Z",
     "iopub.status.busy": "2022-09-19T03:54:49.266249Z",
     "iopub.status.idle": "2022-09-19T03:54:49.271126Z",
     "shell.execute_reply": "2022-09-19T03:54:49.270534Z"
    },
    "papermill": {
     "duration": 0.023411,
     "end_time": "2022-09-19T03:54:49.271263",
     "exception": false,
     "start_time": "2022-09-19T03:54:49.247852",
     "status": "completed"
    },
    "tags": []
   },
   "outputs": [
    {
     "data": {
      "text/markdown": [
       "- 3 barriers preventing Web3 mass adoption — Trust Wallet CEO.  Trust Wallet CEO says the current bear market could provide an opportunity for the Web3 industry to address consumer concerns before the next bull market.  ... [| Skaityti daugiau](https://cointelegraph.com/news/3-barriers-preventing-web3-mass-adoption-trust-wallet-ceo) "
      ],
      "text/plain": [
       "<IPython.core.display.Markdown object>"
      ]
     },
     "execution_count": 3,
     "metadata": {},
     "output_type": "execute_result"
    }
   ],
   "source": [
    "#hide_input\n",
    "#md('##### {}'.format(titleBTC)) \n",
    "md(\"- {}{} {}{} [| Skaityti daugiau]({}) \".format(blockchain['title'],'. ', blockchain['body'], ' ...', blockchain['url']))"
   ]
  },
  {
   "cell_type": "code",
   "execution_count": 4,
   "id": "aging-caution",
   "metadata": {
    "execution": {
     "iopub.execute_input": "2022-09-19T03:54:49.299271Z",
     "iopub.status.busy": "2022-09-19T03:54:49.298484Z",
     "iopub.status.idle": "2022-09-19T03:54:49.303237Z",
     "shell.execute_reply": "2022-09-19T03:54:49.302675Z"
    },
    "papermill": {
     "duration": 0.020901,
     "end_time": "2022-09-19T03:54:49.303368",
     "exception": false,
     "start_time": "2022-09-19T03:54:49.282467",
     "status": "completed"
    },
    "tags": []
   },
   "outputs": [
    {
     "data": {
      "text/markdown": [
       "- Bitcoin Price and Ethereum Bleed, Altcoins Takes Hit.  Bitcoin price failed to stay above the key $19,500 support zone. BTC is currently (03:30 UTC) down over 6% and trading below $19,000. It seems like ether’s price decline is dragging bitcoin lower and might push it towards $18,000 or $17,800. Similarly, most major altcoins are gaining bearish momentum. ETH started a major decline and traded below the $1,320 support. XRP is moving lower towards the $0.335 support. ADA might revisit the $0.42 support zone....Read More: Bitcoin Price and Ethereum Bleed, Altcoins Takes Hit ... [| Skaityti daugiau](https://cryptonews.com/news/bitcoin-price-ethereum-bleed-altcoins-takes-hit.htm) "
      ],
      "text/plain": [
       "<IPython.core.display.Markdown object>"
      ]
     },
     "execution_count": 4,
     "metadata": {},
     "output_type": "execute_result"
    }
   ],
   "source": [
    "#hide_input\n",
    "#md('##### {}'.format(titleBTC)) \n",
    "md(\"- {}{} {}{} [| Skaityti daugiau]({}) \".format(btc['title'],'. ', btc['body'], ' ...', btc['url']))"
   ]
  },
  {
   "cell_type": "code",
   "execution_count": 5,
   "id": "organic-actress",
   "metadata": {
    "execution": {
     "iopub.execute_input": "2022-09-19T03:54:49.331722Z",
     "iopub.status.busy": "2022-09-19T03:54:49.330964Z",
     "iopub.status.idle": "2022-09-19T03:54:49.335098Z",
     "shell.execute_reply": "2022-09-19T03:54:49.335777Z"
    },
    "papermill": {
     "duration": 0.020298,
     "end_time": "2022-09-19T03:54:49.335912",
     "exception": false,
     "start_time": "2022-09-19T03:54:49.315614",
     "status": "completed"
    },
    "tags": []
   },
   "outputs": [
    {
     "data": {
      "text/markdown": [
       "- Ripple, SEC case heads for conclusion after 'summary judgment' filed.  Ripple argued that XRP profits came from “market forces of supply and demand” rather than any contract between Ripple and XRP token holders. ... [| Skaityti daugiau](https://cointelegraph.com/news/ripple-sec-case-heads-for-conclusion-after-summary-judgment-filed) "
      ],
      "text/plain": [
       "<IPython.core.display.Markdown object>"
      ]
     },
     "execution_count": 5,
     "metadata": {},
     "output_type": "execute_result"
    }
   ],
   "source": [
    "#hide_input\n",
    "#md('##### {}'.format(titleBTC)) \n",
    "md(\"- {}{} {}{} [| Skaityti daugiau]({}) \".format(xrp['title'],'. ', xrp['body'], ' ...', xrp['url']))"
   ]
  },
  {
   "cell_type": "code",
   "execution_count": 6,
   "id": "prompt-farmer",
   "metadata": {
    "execution": {
     "iopub.execute_input": "2022-09-19T03:54:49.363892Z",
     "iopub.status.busy": "2022-09-19T03:54:49.363205Z",
     "iopub.status.idle": "2022-09-19T03:54:49.367273Z",
     "shell.execute_reply": "2022-09-19T03:54:49.366719Z"
    },
    "papermill": {
     "duration": 0.019872,
     "end_time": "2022-09-19T03:54:49.367393",
     "exception": false,
     "start_time": "2022-09-19T03:54:49.347521",
     "status": "completed"
    },
    "tags": []
   },
   "outputs": [
    {
     "data": {
      "text/markdown": [
       "- Tron (TRX) And Polygon (MATIC) Holders Begin Buying Into Flasko (FLSK) Presale.  The post Tron (TRX) And Polygon (MATIC) Holders Begin Buying Into Flasko (FLSK) Presale appeared first on Coinpedia - Fintech &amp; Cryptocurreny News Media| Crypto GuideCrypto investors worldwide focus on tokens that perform well because such projects guarantee a positive return. Polygon (MATIC) and TRON (TRX) were previously market leaders with high profits, but their investors are now content with limited growth. Flasko (FLSK) holders, on the other side, are riding a unicorn of profit and expansion. Polygon (MATIC) is &#8230; ... [| Skaityti daugiau](https://coinpedia.org/press-release/tron-trx-and-polygon-matic-holders-begin-buying-into-flasko-flsk-presale/) "
      ],
      "text/plain": [
       "<IPython.core.display.Markdown object>"
      ]
     },
     "execution_count": 6,
     "metadata": {},
     "output_type": "execute_result"
    }
   ],
   "source": [
    "#hide_input\n",
    "#md('##### {}'.format(titleBTC)) \n",
    "md(\"- {}{} {}{} [| Skaityti daugiau]({}) \".format(trx['title'],'. ', trx['body'], ' ...', trx['url']))"
   ]
  },
  {
   "cell_type": "code",
   "execution_count": 7,
   "id": "illegal-greece",
   "metadata": {
    "execution": {
     "iopub.execute_input": "2022-09-19T03:54:49.397021Z",
     "iopub.status.busy": "2022-09-19T03:54:49.396326Z",
     "iopub.status.idle": "2022-09-19T03:54:49.400408Z",
     "shell.execute_reply": "2022-09-19T03:54:49.399869Z"
    },
    "papermill": {
     "duration": 0.020332,
     "end_time": "2022-09-19T03:54:49.400522",
     "exception": false,
     "start_time": "2022-09-19T03:54:49.380190",
     "status": "completed"
    },
    "tags": []
   },
   "outputs": [
    {
     "data": {
      "text/markdown": [
       "- Bitcoin Price and Ethereum Bleed, Altcoins Takes Hit.  Bitcoin price failed to stay above the key $19,500 support zone. BTC is currently (03:30 UTC) down over 6% and trading below $19,000. It seems like ether’s price decline is dragging bitcoin lower and might push it towards $18,000 or $17,800. Similarly, most major altcoins are gaining bearish momentum. ETH started a major decline and traded below the $1,320 support. XRP is moving lower towards the $0.335 support. ADA might revisit the $0.42 support zone....Read More: Bitcoin Price and Ethereum Bleed, Altcoins Takes Hit ... [| Skaityti daugiau](https://cryptonews.com/news/bitcoin-price-ethereum-bleed-altcoins-takes-hit.htm) "
      ],
      "text/plain": [
       "<IPython.core.display.Markdown object>"
      ]
     },
     "execution_count": 7,
     "metadata": {},
     "output_type": "execute_result"
    }
   ],
   "source": [
    "#hide_input\n",
    "#md('##### {}'.format(titleBTC)) \n",
    "md(\"- {}{} {}{} [| Skaityti daugiau]({}) \".format(eth['title'],'. ', eth['body'], ' ...', eth['url']))"
   ]
  },
  {
   "cell_type": "code",
   "execution_count": 8,
   "id": "sublime-lounge",
   "metadata": {
    "execution": {
     "iopub.execute_input": "2022-09-19T03:54:49.431215Z",
     "iopub.status.busy": "2022-09-19T03:54:49.430553Z",
     "iopub.status.idle": "2022-09-19T03:54:49.434981Z",
     "shell.execute_reply": "2022-09-19T03:54:49.434300Z"
    },
    "papermill": {
     "duration": 0.020976,
     "end_time": "2022-09-19T03:54:49.435099",
     "exception": false,
     "start_time": "2022-09-19T03:54:49.414123",
     "status": "completed"
    },
    "tags": []
   },
   "outputs": [
    {
     "data": {
      "text/markdown": [
       "- Bitcoin Price and Ethereum Bleed, Altcoins Takes Hit.  Bitcoin price failed to stay above the key $19,500 support zone. BTC is currently (03:30 UTC) down over 6% and trading below $19,000. It seems like ether’s price decline is dragging bitcoin lower and might push it towards $18,000 or $17,800. Similarly, most major altcoins are gaining bearish momentum. ETH started a major decline and traded below the $1,320 support. XRP is moving lower towards the $0.335 support. ADA might revisit the $0.42 support zone....Read More: Bitcoin Price and Ethereum Bleed, Altcoins Takes Hit ... [| Skaityti daugiau](https://cryptonews.com/news/bitcoin-price-ethereum-bleed-altcoins-takes-hit.htm) "
      ],
      "text/plain": [
       "<IPython.core.display.Markdown object>"
      ]
     },
     "execution_count": 8,
     "metadata": {},
     "output_type": "execute_result"
    }
   ],
   "source": [
    "#hide_input\n",
    "#md('##### {}'.format(titleBTC)) \n",
    "md(\"- {}{} {}{} [| Skaityti daugiau]({}) \".format(ada['title'],'. ', ada['body'], ' ...', ada['url']))"
   ]
  },
  {
   "cell_type": "code",
   "execution_count": 9,
   "id": "specified-ordering",
   "metadata": {
    "execution": {
     "iopub.execute_input": "2022-09-19T03:54:49.465413Z",
     "iopub.status.busy": "2022-09-19T03:54:49.464000Z",
     "iopub.status.idle": "2022-09-19T03:54:49.470439Z",
     "shell.execute_reply": "2022-09-19T03:54:49.469898Z"
    },
    "papermill": {
     "duration": 0.023077,
     "end_time": "2022-09-19T03:54:49.470555",
     "exception": false,
     "start_time": "2022-09-19T03:54:49.447478",
     "status": "completed"
    },
    "tags": []
   },
   "outputs": [
    {
     "data": {
      "text/markdown": [
       "- 3 barriers preventing Web3 mass adoption — Trust Wallet CEO.  Trust Wallet CEO says the current bear market could provide an opportunity for the Web3 industry to address consumer concerns before the next bull market.  ... [| Skaityti daugiau](https://cointelegraph.com/news/3-barriers-preventing-web3-mass-adoption-trust-wallet-ceo) "
      ],
      "text/plain": [
       "<IPython.core.display.Markdown object>"
      ]
     },
     "execution_count": 9,
     "metadata": {},
     "output_type": "execute_result"
    }
   ],
   "source": [
    "#hide_input\n",
    "#md('##### {}'.format(titleBTC)) \n",
    "md(\"- {}{} {}{} [| Skaityti daugiau]({}) \".format(exchange['title'],'. ', exchange['body'], ' ...', exchange['url']))"
   ]
  },
  {
   "cell_type": "code",
   "execution_count": null,
   "id": "tender-livestock",
   "metadata": {
    "papermill": {
     "duration": 0.01257,
     "end_time": "2022-09-19T03:54:49.496065",
     "exception": false,
     "start_time": "2022-09-19T03:54:49.483495",
     "status": "completed"
    },
    "tags": []
   },
   "outputs": [],
   "source": []
  },
  {
   "cell_type": "code",
   "execution_count": null,
   "id": "appreciated-diamond",
   "metadata": {
    "papermill": {
     "duration": 0.012523,
     "end_time": "2022-09-19T03:54:49.521460",
     "exception": false,
     "start_time": "2022-09-19T03:54:49.508937",
     "status": "completed"
    },
    "tags": []
   },
   "outputs": [],
   "source": []
  },
  {
   "cell_type": "code",
   "execution_count": null,
   "id": "romance-sweden",
   "metadata": {
    "papermill": {
     "duration": 0.012429,
     "end_time": "2022-09-19T03:54:49.546524",
     "exception": false,
     "start_time": "2022-09-19T03:54:49.534095",
     "status": "completed"
    },
    "tags": []
   },
   "outputs": [],
   "source": []
  },
  {
   "cell_type": "code",
   "execution_count": null,
   "id": "dietary-statistics",
   "metadata": {
    "papermill": {
     "duration": 0.013478,
     "end_time": "2022-09-19T03:54:49.573512",
     "exception": false,
     "start_time": "2022-09-19T03:54:49.560034",
     "status": "completed"
    },
    "tags": []
   },
   "outputs": [],
   "source": []
  }
 ],
 "metadata": {
  "kernelspec": {
   "display_name": "Python 3",
   "language": "python",
   "name": "python3"
  },
  "language_info": {
   "codemirror_mode": {
    "name": "ipython",
    "version": 3
   },
   "file_extension": ".py",
   "mimetype": "text/x-python",
   "name": "python",
   "nbconvert_exporter": "python",
   "pygments_lexer": "ipython3",
   "version": "3.6.15"
  },
  "papermill": {
   "default_parameters": {},
   "duration": 14.091542,
   "end_time": "2022-09-19T03:54:50.005910",
   "environment_variables": {},
   "exception": null,
   "input_path": "Market-News.ipynb",
   "output_path": "Market-News.ipynb",
   "parameters": {},
   "start_time": "2022-09-19T03:54:35.914368",
   "version": "2.2.2"
  }
 },
 "nbformat": 4,
 "nbformat_minor": 5
}