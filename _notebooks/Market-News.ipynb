{
 "cells": [
  {
   "cell_type": "markdown",
   "id": "short-greensboro",
   "metadata": {
    "papermill": {
     "duration": 0.015084,
     "end_time": "2022-04-12T02:43:17.564313",
     "exception": false,
     "start_time": "2022-04-12T02:43:17.549229",
     "status": "completed"
    },
    "tags": []
   },
   "source": [
    "# Kriptovaliutų naujienos"
   ]
  },
  {
   "cell_type": "code",
   "execution_count": 1,
   "id": "functioning-knowing",
   "metadata": {
    "execution": {
     "iopub.execute_input": "2022-04-12T02:43:17.600280Z",
     "iopub.status.busy": "2022-04-12T02:43:17.599574Z",
     "iopub.status.idle": "2022-04-12T02:43:19.086920Z",
     "shell.execute_reply": "2022-04-12T02:43:19.086316Z"
    },
    "papermill": {
     "duration": 1.511098,
     "end_time": "2022-04-12T02:43:19.087079",
     "exception": false,
     "start_time": "2022-04-12T02:43:17.575981",
     "status": "completed"
    },
    "tags": []
   },
   "outputs": [],
   "source": [
    "#hide_input\n",
    "import warnings\n",
    "warnings.filterwarnings('ignore')\n",
    "from scripts.read_data import read_api\n",
    "from scripts.read_data import read_news\n",
    "from scripts.read_data import read_covid\n",
    "import matplotlib.pyplot as plt \n",
    "from IPython.display import Markdown as md"
   ]
  },
  {
   "cell_type": "code",
   "execution_count": 2,
   "id": "shared-acceptance",
   "metadata": {
    "execution": {
     "iopub.execute_input": "2022-04-12T02:43:19.117473Z",
     "iopub.status.busy": "2022-04-12T02:43:19.116811Z",
     "iopub.status.idle": "2022-04-12T02:43:28.339391Z",
     "shell.execute_reply": "2022-04-12T02:43:28.339936Z"
    },
    "papermill": {
     "duration": 9.242003,
     "end_time": "2022-04-12T02:43:28.340116",
     "exception": false,
     "start_time": "2022-04-12T02:43:19.098113",
     "status": "completed"
    },
    "tags": []
   },
   "outputs": [],
   "source": [
    "#hide_input\n",
    "blockchain = read_news('blockchain') \n",
    "btc = read_news('btc') \n",
    "xrp = read_news('xrp') \n",
    "trx = read_news('trx') \n",
    "eth = read_news('eth')  \n",
    "ada = read_news('ada')\n",
    "exchange = read_news('exchange') "
   ]
  },
  {
   "cell_type": "code",
   "execution_count": 3,
   "id": "synthetic-notion",
   "metadata": {
    "execution": {
     "iopub.execute_input": "2022-04-12T02:43:28.369898Z",
     "iopub.status.busy": "2022-04-12T02:43:28.369332Z",
     "iopub.status.idle": "2022-04-12T02:43:28.372768Z",
     "shell.execute_reply": "2022-04-12T02:43:28.372194Z"
    },
    "papermill": {
     "duration": 0.021023,
     "end_time": "2022-04-12T02:43:28.372877",
     "exception": false,
     "start_time": "2022-04-12T02:43:28.351854",
     "status": "completed"
    },
    "tags": []
   },
   "outputs": [
    {
     "data": {
      "text/markdown": [
       "- Animoca Brands and Cube Entertainment Set to Launch Free NFT Airdrop.  The Metaverse is slowly shifting from being just a buzzword to taking shape and having brilliant ideas being implemented with it. Today, there are gaming Metaverses, art Metaverses and now the music metaverse is being built, with use cases that are taking real-life celebrities and artists to perform their craft in a virtual world that is the Metaverse. This part of the Metaverse is where Anicube is working. Anicube A joint venture between Animoca Brands and Cube Entertainment, Anicube is building a music metaverse where NFTs and ecosystem utility tokens based on the intellectual property rights of Cube Entertainment’s globally popular K-pop music artists and actors will be issued. This venture is also in collaboration with The Sandbox and it will see Anicube bring Cube Entertainment’s artists to the metaverse to offer music and movie fans elevated and innovative fan-focused experiences on the leading decentralized gaming virtual world, The Sandbox. The Sandbox is also a subsidiary of Animoca Brands. In a comment on the Anicube venture, Yat Siu, co-founder and executive chairman of Animoca Brands commented said, “As a fan of K-pop and Korean culture, I am thrilled to contribute to AniCube, a JV that will guide K-pop music creators and fans in the open music metaverse and help them to enjoy true digital property rights and the other benefits of blockchain and NFTs.” Commenting, the CEO of Cube Entertainment, Woohyung Ahn said, “... ... [| Skaityti daugiau](https://www.cryptoknowmics.com/news/animoca-brands-and-cube-entertainment-set-to-launch-free-nft-airdrop/?utm_source=rss&utm_medium=rss&utm_campaign=animoca-brands-and-cube-entertainment-set-to-launch-free-nft-airdrop) "
      ],
      "text/plain": [
       "<IPython.core.display.Markdown object>"
      ]
     },
     "execution_count": 3,
     "metadata": {},
     "output_type": "execute_result"
    }
   ],
   "source": [
    "#hide_input\n",
    "#md('##### {}'.format(titleBTC)) \n",
    "md(\"- {}{} {}{} [| Skaityti daugiau]({}) \".format(blockchain['title'],'. ', blockchain['body'], ' ...', blockchain['url']))"
   ]
  },
  {
   "cell_type": "code",
   "execution_count": 4,
   "id": "aging-caution",
   "metadata": {
    "execution": {
     "iopub.execute_input": "2022-04-12T02:43:28.400243Z",
     "iopub.status.busy": "2022-04-12T02:43:28.399662Z",
     "iopub.status.idle": "2022-04-12T02:43:28.405774Z",
     "shell.execute_reply": "2022-04-12T02:43:28.406434Z"
    },
    "papermill": {
     "duration": 0.022504,
     "end_time": "2022-04-12T02:43:28.406560",
     "exception": false,
     "start_time": "2022-04-12T02:43:28.384056",
     "status": "completed"
    },
    "tags": []
   },
   "outputs": [
    {
     "data": {
      "text/markdown": [
       "- Top 3 Metaverse Coins With a Market Cap Under $25 Million (April 2022).  Today, the cryptocurrency market is showing slight bearish momentum as Bitcoin, Ethereum, and most other projects struggle to hold support. While some may worry about losing a few percent on their holdings, others see this as a great opportunity for an entry point in the market. Today we look at the top three Metaverse crypto [&#8230;]The post Top 3 Metaverse Coins With a Market Cap Under $25 Million (April 2022) appeared first on NullTX. ... [| Skaityti daugiau](https://nulltx.com/top-3-metaverse-coins-with-a-market-cap-under-25-million-april-2022/) "
      ],
      "text/plain": [
       "<IPython.core.display.Markdown object>"
      ]
     },
     "execution_count": 4,
     "metadata": {},
     "output_type": "execute_result"
    }
   ],
   "source": [
    "#hide_input\n",
    "#md('##### {}'.format(titleBTC)) \n",
    "md(\"- {}{} {}{} [| Skaityti daugiau]({}) \".format(btc['title'],'. ', btc['body'], ' ...', btc['url']))"
   ]
  },
  {
   "cell_type": "code",
   "execution_count": 5,
   "id": "organic-actress",
   "metadata": {
    "execution": {
     "iopub.execute_input": "2022-04-12T02:43:28.436885Z",
     "iopub.status.busy": "2022-04-12T02:43:28.435964Z",
     "iopub.status.idle": "2022-04-12T02:43:28.439544Z",
     "shell.execute_reply": "2022-04-12T02:43:28.440143Z"
    },
    "papermill": {
     "duration": 0.021195,
     "end_time": "2022-04-12T02:43:28.440303",
     "exception": false,
     "start_time": "2022-04-12T02:43:28.419108",
     "status": "completed"
    },
    "tags": []
   },
   "outputs": [
    {
     "data": {
      "text/markdown": [
       "- XRP: Market participants should wait for this before initiating long positions.  After its latest bullish rally, XRP broke out of its down-channel (yellow) near its Point of Control (POC, red) and entered the $0.75 to $0.86 range. But it struggled to sustain a close above its 200 EMA (green), upholding its long-term view as a downtrend. Assuming the bulls show up at $0.7, as they have [&#8230;] ... [| Skaityti daugiau](https://ambcrypto.com/xrp-market-participants-should-wait-for-this-before-entering-long-positions/) "
      ],
      "text/plain": [
       "<IPython.core.display.Markdown object>"
      ]
     },
     "execution_count": 5,
     "metadata": {},
     "output_type": "execute_result"
    }
   ],
   "source": [
    "#hide_input\n",
    "#md('##### {}'.format(titleBTC)) \n",
    "md(\"- {}{} {}{} [| Skaityti daugiau]({}) \".format(xrp['title'],'. ', xrp['body'], ' ...', xrp['url']))"
   ]
  },
  {
   "cell_type": "code",
   "execution_count": 6,
   "id": "prompt-farmer",
   "metadata": {
    "execution": {
     "iopub.execute_input": "2022-04-12T02:43:28.469343Z",
     "iopub.status.busy": "2022-04-12T02:43:28.468738Z",
     "iopub.status.idle": "2022-04-12T02:43:28.473039Z",
     "shell.execute_reply": "2022-04-12T02:43:28.472566Z"
    },
    "papermill": {
     "duration": 0.020661,
     "end_time": "2022-04-12T02:43:28.473154",
     "exception": false,
     "start_time": "2022-04-12T02:43:28.452493",
     "status": "completed"
    },
    "tags": []
   },
   "outputs": [
    {
     "data": {
      "text/markdown": [
       "- Ethereum, ATOM, Tron, ETC Price Analysis: 11 April.  Despite the recent selling spree, Ethereum bulls have held on to the $3,100 support whilst the king alt showed gradual improvements on its 4-hour RSI. Similarly, Cosmos buyers showed up in the $25-$26 range to stall its ongoing sell-off. On the other hand, Tron witnessed a death cross of its EMAs on the 4-hour timeframe [&#8230;] ... [| Skaityti daugiau](https://ambcrypto.com/ethereum-atom-tron-etc-price-analysis-11-april/) "
      ],
      "text/plain": [
       "<IPython.core.display.Markdown object>"
      ]
     },
     "execution_count": 6,
     "metadata": {},
     "output_type": "execute_result"
    }
   ],
   "source": [
    "#hide_input\n",
    "#md('##### {}'.format(titleBTC)) \n",
    "md(\"- {}{} {}{} [| Skaityti daugiau]({}) \".format(trx['title'],'. ', trx['body'], ' ...', trx['url']))"
   ]
  },
  {
   "cell_type": "code",
   "execution_count": 7,
   "id": "illegal-greece",
   "metadata": {
    "execution": {
     "iopub.execute_input": "2022-04-12T02:43:28.505189Z",
     "iopub.status.busy": "2022-04-12T02:43:28.503045Z",
     "iopub.status.idle": "2022-04-12T02:43:28.507775Z",
     "shell.execute_reply": "2022-04-12T02:43:28.508256Z"
    },
    "papermill": {
     "duration": 0.022711,
     "end_time": "2022-04-12T02:43:28.508404",
     "exception": false,
     "start_time": "2022-04-12T02:43:28.485693",
     "status": "completed"
    },
    "tags": []
   },
   "outputs": [
    {
     "data": {
      "text/markdown": [
       "- Top 3 Metaverse Coins With a Market Cap Under $25 Million (April 2022).  Today, the cryptocurrency market is showing slight bearish momentum as Bitcoin, Ethereum, and most other projects struggle to hold support. While some may worry about losing a few percent on their holdings, others see this as a great opportunity for an entry point in the market. Today we look at the top three Metaverse crypto [&#8230;]The post Top 3 Metaverse Coins With a Market Cap Under $25 Million (April 2022) appeared first on NullTX. ... [| Skaityti daugiau](https://nulltx.com/top-3-metaverse-coins-with-a-market-cap-under-25-million-april-2022/) "
      ],
      "text/plain": [
       "<IPython.core.display.Markdown object>"
      ]
     },
     "execution_count": 7,
     "metadata": {},
     "output_type": "execute_result"
    }
   ],
   "source": [
    "#hide_input\n",
    "#md('##### {}'.format(titleBTC)) \n",
    "md(\"- {}{} {}{} [| Skaityti daugiau]({}) \".format(eth['title'],'. ', eth['body'], ' ...', eth['url']))"
   ]
  },
  {
   "cell_type": "code",
   "execution_count": 8,
   "id": "sublime-lounge",
   "metadata": {
    "execution": {
     "iopub.execute_input": "2022-04-12T02:43:28.542580Z",
     "iopub.status.busy": "2022-04-12T02:43:28.541420Z",
     "iopub.status.idle": "2022-04-12T02:43:28.544606Z",
     "shell.execute_reply": "2022-04-12T02:43:28.545142Z"
    },
    "papermill": {
     "duration": 0.023473,
     "end_time": "2022-04-12T02:43:28.545273",
     "exception": false,
     "start_time": "2022-04-12T02:43:28.521800",
     "status": "completed"
    },
    "tags": []
   },
   "outputs": [
    {
     "data": {
      "text/markdown": [
       "- Snoop Dogg’s NFT Collection Launches on Cardano ($ADA) Features Unreleased Music and More.  The non-fungible token (NFT) collection of American rapper Snoop Dogg has launched on the Cardano ($ADA) network. The collection, announced earlier this month, features “iconic collectibles,” “limited edition ‘pitches’” and unreleased music. According to a tweet shared by Clay Nation – an NFT project the rapper is collaborating with – the project has now been […] ... [| Skaityti daugiau](https://www.cryptoglobe.com/latest/2022/04/snoop-doggs-nft-collection-launches-on-cardano-ada-features-unreleased-music-and-more/) "
      ],
      "text/plain": [
       "<IPython.core.display.Markdown object>"
      ]
     },
     "execution_count": 8,
     "metadata": {},
     "output_type": "execute_result"
    }
   ],
   "source": [
    "#hide_input\n",
    "#md('##### {}'.format(titleBTC)) \n",
    "md(\"- {}{} {}{} [| Skaityti daugiau]({}) \".format(ada['title'],'. ', ada['body'], ' ...', ada['url']))"
   ]
  },
  {
   "cell_type": "code",
   "execution_count": 9,
   "id": "specified-ordering",
   "metadata": {
    "execution": {
     "iopub.execute_input": "2022-04-12T02:43:28.578649Z",
     "iopub.status.busy": "2022-04-12T02:43:28.577933Z",
     "iopub.status.idle": "2022-04-12T02:43:28.582658Z",
     "shell.execute_reply": "2022-04-12T02:43:28.583141Z"
    },
    "papermill": {
     "duration": 0.023434,
     "end_time": "2022-04-12T02:43:28.583280",
     "exception": false,
     "start_time": "2022-04-12T02:43:28.559846",
     "status": "completed"
    },
    "tags": []
   },
   "outputs": [
    {
     "data": {
      "text/markdown": [
       "- Coinbase to increase transparency on potential 2022 listings.  The exchange issued the names of 50 projects that could possibly be listed in the second quarter of 2022 as a way of adding information symmetry to crypto markets. ... [| Skaityti daugiau](https://cointelegraph.com/news/coinbase-to-increase-transparency-on-potential-2022-listings) "
      ],
      "text/plain": [
       "<IPython.core.display.Markdown object>"
      ]
     },
     "execution_count": 9,
     "metadata": {},
     "output_type": "execute_result"
    }
   ],
   "source": [
    "#hide_input\n",
    "#md('##### {}'.format(titleBTC)) \n",
    "md(\"- {}{} {}{} [| Skaityti daugiau]({}) \".format(exchange['title'],'. ', exchange['body'], ' ...', exchange['url']))"
   ]
  },
  {
   "cell_type": "code",
   "execution_count": null,
   "id": "tender-livestock",
   "metadata": {
    "papermill": {
     "duration": 0.014382,
     "end_time": "2022-04-12T02:43:28.611291",
     "exception": false,
     "start_time": "2022-04-12T02:43:28.596909",
     "status": "completed"
    },
    "tags": []
   },
   "outputs": [],
   "source": []
  },
  {
   "cell_type": "code",
   "execution_count": null,
   "id": "appreciated-diamond",
   "metadata": {
    "papermill": {
     "duration": 0.013174,
     "end_time": "2022-04-12T02:43:28.638281",
     "exception": false,
     "start_time": "2022-04-12T02:43:28.625107",
     "status": "completed"
    },
    "tags": []
   },
   "outputs": [],
   "source": []
  },
  {
   "cell_type": "code",
   "execution_count": null,
   "id": "romance-sweden",
   "metadata": {
    "papermill": {
     "duration": 0.013719,
     "end_time": "2022-04-12T02:43:28.667824",
     "exception": false,
     "start_time": "2022-04-12T02:43:28.654105",
     "status": "completed"
    },
    "tags": []
   },
   "outputs": [],
   "source": []
  },
  {
   "cell_type": "code",
   "execution_count": null,
   "id": "dietary-statistics",
   "metadata": {
    "papermill": {
     "duration": 0.013952,
     "end_time": "2022-04-12T02:43:28.695978",
     "exception": false,
     "start_time": "2022-04-12T02:43:28.682026",
     "status": "completed"
    },
    "tags": []
   },
   "outputs": [],
   "source": []
  }
 ],
 "metadata": {
  "kernelspec": {
   "display_name": "Python 3",
   "language": "python",
   "name": "python3"
  },
  "language_info": {
   "codemirror_mode": {
    "name": "ipython",
    "version": 3
   },
   "file_extension": ".py",
   "mimetype": "text/x-python",
   "name": "python",
   "nbconvert_exporter": "python",
   "pygments_lexer": "ipython3",
   "version": "3.6.15"
  },
  "papermill": {
   "default_parameters": {},
   "duration": 12.988209,
   "end_time": "2022-04-12T02:43:29.231078",
   "environment_variables": {},
   "exception": null,
   "input_path": "Market-News.ipynb",
   "output_path": "Market-News.ipynb",
   "parameters": {},
   "start_time": "2022-04-12T02:43:16.242869",
   "version": "2.2.2"
  }
 },
 "nbformat": 4,
 "nbformat_minor": 5
}