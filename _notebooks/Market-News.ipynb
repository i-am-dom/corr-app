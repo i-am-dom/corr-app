{
 "cells": [
  {
   "cell_type": "markdown",
   "id": "short-greensboro",
   "metadata": {
    "papermill": {
     "duration": 0.013528,
     "end_time": "2022-08-22T03:28:44.936575",
     "exception": false,
     "start_time": "2022-08-22T03:28:44.923047",
     "status": "completed"
    },
    "tags": []
   },
   "source": [
    "# Kriptovaliutų naujienos"
   ]
  },
  {
   "cell_type": "code",
   "execution_count": 1,
   "id": "functioning-knowing",
   "metadata": {
    "execution": {
     "iopub.execute_input": "2022-08-22T03:28:44.966697Z",
     "iopub.status.busy": "2022-08-22T03:28:44.966033Z",
     "iopub.status.idle": "2022-08-22T03:28:46.259135Z",
     "shell.execute_reply": "2022-08-22T03:28:46.258587Z"
    },
    "papermill": {
     "duration": 1.312895,
     "end_time": "2022-08-22T03:28:46.259282",
     "exception": false,
     "start_time": "2022-08-22T03:28:44.946387",
     "status": "completed"
    },
    "tags": []
   },
   "outputs": [],
   "source": [
    "#hide_input\n",
    "import warnings\n",
    "warnings.filterwarnings('ignore')\n",
    "from scripts.read_data import read_api\n",
    "from scripts.read_data import read_news\n",
    "from scripts.read_data import read_covid\n",
    "import matplotlib.pyplot as plt \n",
    "from IPython.display import Markdown as md"
   ]
  },
  {
   "cell_type": "code",
   "execution_count": 2,
   "id": "shared-acceptance",
   "metadata": {
    "execution": {
     "iopub.execute_input": "2022-08-22T03:28:46.285856Z",
     "iopub.status.busy": "2022-08-22T03:28:46.285180Z",
     "iopub.status.idle": "2022-08-22T03:28:55.251198Z",
     "shell.execute_reply": "2022-08-22T03:28:55.250191Z"
    },
    "papermill": {
     "duration": 8.982568,
     "end_time": "2022-08-22T03:28:55.251333",
     "exception": false,
     "start_time": "2022-08-22T03:28:46.268765",
     "status": "completed"
    },
    "tags": []
   },
   "outputs": [],
   "source": [
    "#hide_input\n",
    "blockchain = read_news('blockchain') \n",
    "btc = read_news('btc') \n",
    "xrp = read_news('xrp') \n",
    "trx = read_news('trx') \n",
    "eth = read_news('eth')  \n",
    "ada = read_news('ada')\n",
    "exchange = read_news('exchange') "
   ]
  },
  {
   "cell_type": "code",
   "execution_count": 3,
   "id": "synthetic-notion",
   "metadata": {
    "execution": {
     "iopub.execute_input": "2022-08-22T03:28:55.275562Z",
     "iopub.status.busy": "2022-08-22T03:28:55.274969Z",
     "iopub.status.idle": "2022-08-22T03:28:55.279533Z",
     "shell.execute_reply": "2022-08-22T03:28:55.279952Z"
    },
    "papermill": {
     "duration": 0.019514,
     "end_time": "2022-08-22T03:28:55.280081",
     "exception": false,
     "start_time": "2022-08-22T03:28:55.260567",
     "status": "completed"
    },
    "tags": []
   },
   "outputs": [
    {
     "data": {
      "text/markdown": [
       "- NFTs In A Nutshell: A Weekly Review.  There&#8217;s been plenty of chatter in all things NFTs this week. BendDAO&#8217;s liquidation mechanism is testing blue chip NFTs, a Solana wallet is looking to implement a burn mechanism, and there&#8217;s potentially a new blockchain on the block for OpenSea. As always, it&#8217;s all in a week&#8217;s worth of action in the NFT space. Let&#8217;s [&#8230;] ... [| Skaityti daugiau](https://bitcoinist.com/nfts-in-a-nutshell-a-weekly-review-63/) "
      ],
      "text/plain": [
       "<IPython.core.display.Markdown object>"
      ]
     },
     "execution_count": 3,
     "metadata": {},
     "output_type": "execute_result"
    }
   ],
   "source": [
    "#hide_input\n",
    "#md('##### {}'.format(titleBTC)) \n",
    "md(\"- {}{} {}{} [| Skaityti daugiau]({}) \".format(blockchain['title'],'. ', blockchain['body'], ' ...', blockchain['url']))"
   ]
  },
  {
   "cell_type": "code",
   "execution_count": 4,
   "id": "aging-caution",
   "metadata": {
    "execution": {
     "iopub.execute_input": "2022-08-22T03:28:55.304443Z",
     "iopub.status.busy": "2022-08-22T03:28:55.303577Z",
     "iopub.status.idle": "2022-08-22T03:28:55.306458Z",
     "shell.execute_reply": "2022-08-22T03:28:55.306902Z"
    },
    "papermill": {
     "duration": 0.017736,
     "end_time": "2022-08-22T03:28:55.307016",
     "exception": false,
     "start_time": "2022-08-22T03:28:55.289280",
     "status": "completed"
    },
    "tags": []
   },
   "outputs": [
    {
     "data": {
      "text/markdown": [
       "- Peter Brandt points to potential Bitcoin bottom.  Bitcoin price is up around 1.2% in the last 24 hours at the time of writing and is trading above $21,400 as the bulls try to rise. Slight gains on the daily chart consist of six consecutive red candles followed by two small green candles. However, with the broader market largely unstable, the leading cryptocurrency [&#8230;] ... [| Skaityti daugiau](https://coinnounce.com/peter-brandt-points-to-potential-bitcoin-bottom/) "
      ],
      "text/plain": [
       "<IPython.core.display.Markdown object>"
      ]
     },
     "execution_count": 4,
     "metadata": {},
     "output_type": "execute_result"
    }
   ],
   "source": [
    "#hide_input\n",
    "#md('##### {}'.format(titleBTC)) \n",
    "md(\"- {}{} {}{} [| Skaityti daugiau]({}) \".format(btc['title'],'. ', btc['body'], ' ...', btc['url']))"
   ]
  },
  {
   "cell_type": "code",
   "execution_count": 5,
   "id": "organic-actress",
   "metadata": {
    "execution": {
     "iopub.execute_input": "2022-08-22T03:28:55.331195Z",
     "iopub.status.busy": "2022-08-22T03:28:55.329175Z",
     "iopub.status.idle": "2022-08-22T03:28:55.333493Z",
     "shell.execute_reply": "2022-08-22T03:28:55.333929Z"
    },
    "papermill": {
     "duration": 0.017576,
     "end_time": "2022-08-22T03:28:55.334040",
     "exception": false,
     "start_time": "2022-08-22T03:28:55.316464",
     "status": "completed"
    },
    "tags": []
   },
   "outputs": [
    {
     "data": {
      "text/markdown": [
       "- XRP Representing Lawyer John Deaton Targets U.S. SEC.  The XRP legal team has said that they have used Peirce&#8217;s statements as evidence. As for the SEC Commissioner, Deaton ... [| Skaityti daugiau](https://thenewscrypto.com/xrp-representing-lawyer-john-deaton-targets-u-s-sec/) "
      ],
      "text/plain": [
       "<IPython.core.display.Markdown object>"
      ]
     },
     "execution_count": 5,
     "metadata": {},
     "output_type": "execute_result"
    }
   ],
   "source": [
    "#hide_input\n",
    "#md('##### {}'.format(titleBTC)) \n",
    "md(\"- {}{} {}{} [| Skaityti daugiau]({}) \".format(xrp['title'],'. ', xrp['body'], ' ...', xrp['url']))"
   ]
  },
  {
   "cell_type": "code",
   "execution_count": 6,
   "id": "prompt-farmer",
   "metadata": {
    "execution": {
     "iopub.execute_input": "2022-08-22T03:28:55.359150Z",
     "iopub.status.busy": "2022-08-22T03:28:55.358556Z",
     "iopub.status.idle": "2022-08-22T03:28:55.361511Z",
     "shell.execute_reply": "2022-08-22T03:28:55.361952Z"
    },
    "papermill": {
     "duration": 0.018356,
     "end_time": "2022-08-22T03:28:55.362062",
     "exception": false,
     "start_time": "2022-08-22T03:28:55.343706",
     "status": "completed"
    },
    "tags": []
   },
   "outputs": [
    {
     "data": {
      "text/markdown": [
       "- Tron: Gauging TRX’s potential to offer any near-term buying opportunities.  Disclaimer: The findings of the following analysis are the sole opinions of the writer and should not be considered investment advice. For nearly two months, Tron [TRX] took a sideways track while maintaining its oscillation in the $0.0709-$0.063 range. The recent reversal from its ceiling gave the sellers enough thrust to pull the coin below [&#8230;] ... [| Skaityti daugiau](https://ambcrypto.com/tron-gauging-trxs-potential-to-offer-any-near-term-buying-opportunities/) "
      ],
      "text/plain": [
       "<IPython.core.display.Markdown object>"
      ]
     },
     "execution_count": 6,
     "metadata": {},
     "output_type": "execute_result"
    }
   ],
   "source": [
    "#hide_input\n",
    "#md('##### {}'.format(titleBTC)) \n",
    "md(\"- {}{} {}{} [| Skaityti daugiau]({}) \".format(trx['title'],'. ', trx['body'], ' ...', trx['url']))"
   ]
  },
  {
   "cell_type": "code",
   "execution_count": 7,
   "id": "illegal-greece",
   "metadata": {
    "execution": {
     "iopub.execute_input": "2022-08-22T03:28:55.387836Z",
     "iopub.status.busy": "2022-08-22T03:28:55.387178Z",
     "iopub.status.idle": "2022-08-22T03:28:55.392572Z",
     "shell.execute_reply": "2022-08-22T03:28:55.393013Z"
    },
    "papermill": {
     "duration": 0.02037,
     "end_time": "2022-08-22T03:28:55.393124",
     "exception": false,
     "start_time": "2022-08-22T03:28:55.372754",
     "status": "completed"
    },
    "tags": []
   },
   "outputs": [
    {
     "data": {
      "text/markdown": [
       "- Ethereum developers ease the obsession of selling.  The Ethereum All-Core Developer meeting ended late on August 18 as developers prepared for the upcoming Merge. They discussed many important issues, including the consequences of sanctions imposed on Tornado Cash. The developers also discussed the issues that have arisen since the Merge testnet testnet for the Ethereum PoS transition. Reporter Christine Kim and core [&#8230;] ... [| Skaityti daugiau](https://coinnounce.com/ethereum-developers-ease-the-obsession-of-selling/) "
      ],
      "text/plain": [
       "<IPython.core.display.Markdown object>"
      ]
     },
     "execution_count": 7,
     "metadata": {},
     "output_type": "execute_result"
    }
   ],
   "source": [
    "#hide_input\n",
    "#md('##### {}'.format(titleBTC)) \n",
    "md(\"- {}{} {}{} [| Skaityti daugiau]({}) \".format(eth['title'],'. ', eth['body'], ' ...', eth['url']))"
   ]
  },
  {
   "cell_type": "code",
   "execution_count": 8,
   "id": "sublime-lounge",
   "metadata": {
    "execution": {
     "iopub.execute_input": "2022-08-22T03:28:55.419812Z",
     "iopub.status.busy": "2022-08-22T03:28:55.419162Z",
     "iopub.status.idle": "2022-08-22T03:28:55.425099Z",
     "shell.execute_reply": "2022-08-22T03:28:55.424634Z"
    },
    "papermill": {
     "duration": 0.020533,
     "end_time": "2022-08-22T03:28:55.425197",
     "exception": false,
     "start_time": "2022-08-22T03:28:55.404664",
     "status": "completed"
    },
    "tags": []
   },
   "outputs": [
    {
     "data": {
      "text/markdown": [
       "- Cardano price analysis: ADA stabilises around $0.45 support after 20 percent weekly drop.  Cardano price analysis remains bearish, as price struggles to move out of a persistent downtrend that has caused a decline worth more than 20 percent in the past week. Over the past 24 hours, ADA price showed some form of recovery, as price settled around support at $0.45. However, the larger market sentiment remains bearish &#8230;  Cardano price analysis: ADA stabilises around $0.45 support after 20 percent weekly drop Read More &#187; ... [| Skaityti daugiau](https://www.cryptopolitan.com/cardano-price-analysis-2022-08-21/) "
      ],
      "text/plain": [
       "<IPython.core.display.Markdown object>"
      ]
     },
     "execution_count": 8,
     "metadata": {},
     "output_type": "execute_result"
    }
   ],
   "source": [
    "#hide_input\n",
    "#md('##### {}'.format(titleBTC)) \n",
    "md(\"- {}{} {}{} [| Skaityti daugiau]({}) \".format(ada['title'],'. ', ada['body'], ' ...', ada['url']))"
   ]
  },
  {
   "cell_type": "code",
   "execution_count": 9,
   "id": "specified-ordering",
   "metadata": {
    "execution": {
     "iopub.execute_input": "2022-08-22T03:28:55.451173Z",
     "iopub.status.busy": "2022-08-22T03:28:55.450611Z",
     "iopub.status.idle": "2022-08-22T03:28:55.454356Z",
     "shell.execute_reply": "2022-08-22T03:28:55.453895Z"
    },
    "papermill": {
     "duration": 0.018636,
     "end_time": "2022-08-22T03:28:55.454453",
     "exception": false,
     "start_time": "2022-08-22T03:28:55.435817",
     "status": "completed"
    },
    "tags": []
   },
   "outputs": [
    {
     "data": {
      "text/markdown": [
       "- Brazilian Crypto Investment Platform Bluebenx Backpedals on Hack Reports, States It Was Victim of a Listing Scam.  Bluebenx, a Brazilian crypto company that recently stopped customer withdrawals, has changed its story regarding the causes which took it to take that measure. While the exchange issued an email statement informing customers it had been the victim of a vicious hack, now the company states the liquidity problems were the consequence of a listing [&#8230;] ... [| Skaityti daugiau](https://news.bitcoin.com/brazilian-crypto-investment-platform-bluebenx-backpedals-on-hack-reports-states-it-was-victim-of-a-listing-scam/) "
      ],
      "text/plain": [
       "<IPython.core.display.Markdown object>"
      ]
     },
     "execution_count": 9,
     "metadata": {},
     "output_type": "execute_result"
    }
   ],
   "source": [
    "#hide_input\n",
    "#md('##### {}'.format(titleBTC)) \n",
    "md(\"- {}{} {}{} [| Skaityti daugiau]({}) \".format(exchange['title'],'. ', exchange['body'], ' ...', exchange['url']))"
   ]
  },
  {
   "cell_type": "code",
   "execution_count": null,
   "id": "tender-livestock",
   "metadata": {
    "papermill": {
     "duration": 0.011064,
     "end_time": "2022-08-22T03:28:55.476546",
     "exception": false,
     "start_time": "2022-08-22T03:28:55.465482",
     "status": "completed"
    },
    "tags": []
   },
   "outputs": [],
   "source": []
  },
  {
   "cell_type": "code",
   "execution_count": null,
   "id": "appreciated-diamond",
   "metadata": {
    "papermill": {
     "duration": 0.011041,
     "end_time": "2022-08-22T03:28:55.498868",
     "exception": false,
     "start_time": "2022-08-22T03:28:55.487827",
     "status": "completed"
    },
    "tags": []
   },
   "outputs": [],
   "source": []
  },
  {
   "cell_type": "code",
   "execution_count": null,
   "id": "romance-sweden",
   "metadata": {
    "papermill": {
     "duration": 0.010979,
     "end_time": "2022-08-22T03:28:55.520925",
     "exception": false,
     "start_time": "2022-08-22T03:28:55.509946",
     "status": "completed"
    },
    "tags": []
   },
   "outputs": [],
   "source": []
  },
  {
   "cell_type": "code",
   "execution_count": null,
   "id": "dietary-statistics",
   "metadata": {
    "papermill": {
     "duration": 0.010953,
     "end_time": "2022-08-22T03:28:55.542960",
     "exception": false,
     "start_time": "2022-08-22T03:28:55.532007",
     "status": "completed"
    },
    "tags": []
   },
   "outputs": [],
   "source": []
  }
 ],
 "metadata": {
  "kernelspec": {
   "display_name": "Python 3",
   "language": "python",
   "name": "python3"
  },
  "language_info": {
   "codemirror_mode": {
    "name": "ipython",
    "version": 3
   },
   "file_extension": ".py",
   "mimetype": "text/x-python",
   "name": "python",
   "nbconvert_exporter": "python",
   "pygments_lexer": "ipython3",
   "version": "3.6.15"
  },
  "papermill": {
   "default_parameters": {},
   "duration": 12.293829,
   "end_time": "2022-08-22T03:28:55.971669",
   "environment_variables": {},
   "exception": null,
   "input_path": "Market-News.ipynb",
   "output_path": "Market-News.ipynb",
   "parameters": {},
   "start_time": "2022-08-22T03:28:43.677840",
   "version": "2.2.2"
  }
 },
 "nbformat": 4,
 "nbformat_minor": 5
}