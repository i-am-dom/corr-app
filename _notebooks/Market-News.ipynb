{
 "cells": [
  {
   "cell_type": "markdown",
   "id": "short-greensboro",
   "metadata": {
    "papermill": {
     "duration": 0.012688,
     "end_time": "2021-10-17T02:01:45.772854",
     "exception": false,
     "start_time": "2021-10-17T02:01:45.760166",
     "status": "completed"
    },
    "tags": []
   },
   "source": [
    "# Kriptovaliutų naujienos"
   ]
  },
  {
   "cell_type": "code",
   "execution_count": 1,
   "id": "functioning-knowing",
   "metadata": {
    "execution": {
     "iopub.execute_input": "2021-10-17T02:01:45.801986Z",
     "iopub.status.busy": "2021-10-17T02:01:45.801419Z",
     "iopub.status.idle": "2021-10-17T02:01:46.994647Z",
     "shell.execute_reply": "2021-10-17T02:01:46.994093Z"
    },
    "papermill": {
     "duration": 1.212251,
     "end_time": "2021-10-17T02:01:46.994811",
     "exception": false,
     "start_time": "2021-10-17T02:01:45.782560",
     "status": "completed"
    },
    "tags": []
   },
   "outputs": [],
   "source": [
    "#hide_input\n",
    "import warnings\n",
    "warnings.filterwarnings('ignore')\n",
    "from scripts.read_data import read_api\n",
    "from scripts.read_data import read_news\n",
    "from scripts.read_data import read_covid\n",
    "import matplotlib.pyplot as plt \n",
    "from IPython.display import Markdown as md"
   ]
  },
  {
   "cell_type": "code",
   "execution_count": 2,
   "id": "shared-acceptance",
   "metadata": {
    "execution": {
     "iopub.execute_input": "2021-10-17T02:01:47.020835Z",
     "iopub.status.busy": "2021-10-17T02:01:47.020316Z",
     "iopub.status.idle": "2021-10-17T02:01:55.880681Z",
     "shell.execute_reply": "2021-10-17T02:01:55.880133Z"
    },
    "papermill": {
     "duration": 8.875279,
     "end_time": "2021-10-17T02:01:55.880829",
     "exception": false,
     "start_time": "2021-10-17T02:01:47.005550",
     "status": "completed"
    },
    "tags": []
   },
   "outputs": [],
   "source": [
    "#hide_input\n",
    "blockchain = read_news('blockchain') \n",
    "btc = read_news('btc') \n",
    "xrp = read_news('xrp') \n",
    "trx = read_news('trx') \n",
    "eth = read_news('eth')  \n",
    "ada = read_news('ada')\n",
    "exchange = read_news('exchange') "
   ]
  },
  {
   "cell_type": "code",
   "execution_count": 3,
   "id": "synthetic-notion",
   "metadata": {
    "execution": {
     "iopub.execute_input": "2021-10-17T02:01:55.905877Z",
     "iopub.status.busy": "2021-10-17T02:01:55.905311Z",
     "iopub.status.idle": "2021-10-17T02:01:55.907490Z",
     "shell.execute_reply": "2021-10-17T02:01:55.907889Z"
    },
    "papermill": {
     "duration": 0.017373,
     "end_time": "2021-10-17T02:01:55.908008",
     "exception": false,
     "start_time": "2021-10-17T02:01:55.890635",
     "status": "completed"
    },
    "tags": []
   },
   "outputs": [
    {
     "data": {
      "text/markdown": [
       "- This is why industry insiders are betting on GameFi as future of DeFi.  GameFi was launched as a one-stop hub for blockchain gamers and investors. Many gaming industry insiders equate the game finance ecosystem to DeFi. Kieran Warwick, the co-Founder at gaming platform Illuvium, explained how GameFi will fare against DeFi in a recent podcast. He stated that the addressable market for DeFi is limited by the population. [&#8230;] ... [| Skaityti daugiau](https://ambcrypto.com/this-is-why-industry-insiders-are-betting-on-gamefi-as-future-of-defi/) "
      ],
      "text/plain": [
       "<IPython.core.display.Markdown object>"
      ]
     },
     "execution_count": 3,
     "metadata": {},
     "output_type": "execute_result"
    }
   ],
   "source": [
    "#hide_input\n",
    "#md('##### {}'.format(titleBTC)) \n",
    "md(\"- {}{} {}{} [| Skaityti daugiau]({}) \".format(blockchain['title'],'. ', blockchain['body'], ' ...', blockchain['url']))"
   ]
  },
  {
   "cell_type": "code",
   "execution_count": 4,
   "id": "aging-caution",
   "metadata": {
    "execution": {
     "iopub.execute_input": "2021-10-17T02:01:55.931388Z",
     "iopub.status.busy": "2021-10-17T02:01:55.930796Z",
     "iopub.status.idle": "2021-10-17T02:01:55.935244Z",
     "shell.execute_reply": "2021-10-17T02:01:55.934779Z"
    },
    "papermill": {
     "duration": 0.018069,
     "end_time": "2021-10-17T02:01:55.935362",
     "exception": false,
     "start_time": "2021-10-17T02:01:55.917293",
     "status": "completed"
    },
    "tags": []
   },
   "outputs": [
    {
     "data": {
      "text/markdown": [
       "- Mark Cuban Won’t Invest in Bitcoin ETF, Prefers to Buy BTC Directly.  The owner of the NBA team Dallas Mavericks, Mark Cuban, has said &#x201C;no&#x201D; to investing in bitcoin-based exchange-traded funds (ETFs), one of which could start trading next week in the U.S. The Shark Tank star does not see a reason for him to invest in a bitcoin ETF, emphasizing that he can buy the cryptocurrency [&#8230;] ... [| Skaityti daugiau](https://news.bitcoin.com/mark-cuban-wont-invest-in-bitcoin-etf-prefers-to-buy-btc-directly/) "
      ],
      "text/plain": [
       "<IPython.core.display.Markdown object>"
      ]
     },
     "execution_count": 4,
     "metadata": {},
     "output_type": "execute_result"
    }
   ],
   "source": [
    "#hide_input\n",
    "#md('##### {}'.format(titleBTC)) \n",
    "md(\"- {}{} {}{} [| Skaityti daugiau]({}) \".format(btc['title'],'. ', btc['body'], ' ...', btc['url']))"
   ]
  },
  {
   "cell_type": "code",
   "execution_count": 5,
   "id": "organic-actress",
   "metadata": {
    "execution": {
     "iopub.execute_input": "2021-10-17T02:01:55.959078Z",
     "iopub.status.busy": "2021-10-17T02:01:55.958576Z",
     "iopub.status.idle": "2021-10-17T02:01:55.961296Z",
     "shell.execute_reply": "2021-10-17T02:01:55.960876Z"
    },
    "papermill": {
     "duration": 0.016406,
     "end_time": "2021-10-17T02:01:55.961397",
     "exception": false,
     "start_time": "2021-10-17T02:01:55.944991",
     "status": "completed"
    },
    "tags": []
   },
   "outputs": [
    {
     "data": {
      "text/markdown": [
       "- XRP lawsuit: SEC seeks extension of rebuttal report, discovery deadline.  Ripple vs the United States Securities and Exchange Commission case may just get extended as the latter requested the Court to extend the expert rebuttal report deadline to 12 November. Meanwhile, the regulators have also appealed to push the discovery deadline to 14 January. According to the filing provided by CryptoLawUS, the plaintiffs noted that [&#8230;] ... [| Skaityti daugiau](https://ambcrypto.com/xrp-lawsuit-sec-seeks-extension-for-rebuttal-report-and-discovery-deadline/) "
      ],
      "text/plain": [
       "<IPython.core.display.Markdown object>"
      ]
     },
     "execution_count": 5,
     "metadata": {},
     "output_type": "execute_result"
    }
   ],
   "source": [
    "#hide_input\n",
    "#md('##### {}'.format(titleBTC)) \n",
    "md(\"- {}{} {}{} [| Skaityti daugiau]({}) \".format(xrp['title'],'. ', xrp['body'], ' ...', xrp['url']))"
   ]
  },
  {
   "cell_type": "code",
   "execution_count": 6,
   "id": "prompt-farmer",
   "metadata": {
    "execution": {
     "iopub.execute_input": "2021-10-17T02:01:55.986635Z",
     "iopub.status.busy": "2021-10-17T02:01:55.986035Z",
     "iopub.status.idle": "2021-10-17T02:01:55.990296Z",
     "shell.execute_reply": "2021-10-17T02:01:55.989886Z"
    },
    "papermill": {
     "duration": 0.019229,
     "end_time": "2021-10-17T02:01:55.990411",
     "exception": false,
     "start_time": "2021-10-17T02:01:55.971182",
     "status": "completed"
    },
    "tags": []
   },
   "outputs": [
    {
     "data": {
      "text/markdown": [
       "- Tron (TRX) Consolidation Indicates Decreased Volumetric Action!.  TRON currently holds the 28th position in terms of market cap with a combined value of $6.76 billion and above 71 billion coins in circulating supply. Unlike other cryptocurrencies, TRON is focused on the content sharing and entertainment industry and intends to rule the content creation domain, starting with the gaming industry. It allows creators &#8230; ... [| Skaityti daugiau](https://www.cryptonewsz.com/tron-consolidation-indicates-decreased-volumetric-action/) "
      ],
      "text/plain": [
       "<IPython.core.display.Markdown object>"
      ]
     },
     "execution_count": 6,
     "metadata": {},
     "output_type": "execute_result"
    }
   ],
   "source": [
    "#hide_input\n",
    "#md('##### {}'.format(titleBTC)) \n",
    "md(\"- {}{} {}{} [| Skaityti daugiau]({}) \".format(trx['title'],'. ', trx['body'], ' ...', trx['url']))"
   ]
  },
  {
   "cell_type": "code",
   "execution_count": 7,
   "id": "illegal-greece",
   "metadata": {
    "execution": {
     "iopub.execute_input": "2021-10-17T02:01:56.015689Z",
     "iopub.status.busy": "2021-10-17T02:01:56.015187Z",
     "iopub.status.idle": "2021-10-17T02:01:56.017782Z",
     "shell.execute_reply": "2021-10-17T02:01:56.018217Z"
    },
    "papermill": {
     "duration": 0.017424,
     "end_time": "2021-10-17T02:01:56.018332",
     "exception": false,
     "start_time": "2021-10-17T02:01:56.000908",
     "status": "completed"
    },
    "tags": []
   },
   "outputs": [
    {
     "data": {
      "text/markdown": [
       "- US Mortgage Lender UWM Will No Longer Accept Bitcoin Payments.  After just two months, United Wholesale Mortgage (UWM) decided to stop cryptocurrency payments as an option. ... [| Skaityti daugiau](https://cryptopotato.com/us-mortgage-lender-uwm-will-no-longer-accept-bitcoin-payments/) "
      ],
      "text/plain": [
       "<IPython.core.display.Markdown object>"
      ]
     },
     "execution_count": 7,
     "metadata": {},
     "output_type": "execute_result"
    }
   ],
   "source": [
    "#hide_input\n",
    "#md('##### {}'.format(titleBTC)) \n",
    "md(\"- {}{} {}{} [| Skaityti daugiau]({}) \".format(eth['title'],'. ', eth['body'], ' ...', eth['url']))"
   ]
  },
  {
   "cell_type": "code",
   "execution_count": 8,
   "id": "sublime-lounge",
   "metadata": {
    "execution": {
     "iopub.execute_input": "2021-10-17T02:01:56.045711Z",
     "iopub.status.busy": "2021-10-17T02:01:56.045166Z",
     "iopub.status.idle": "2021-10-17T02:01:56.048046Z",
     "shell.execute_reply": "2021-10-17T02:01:56.047618Z"
    },
    "papermill": {
     "duration": 0.019296,
     "end_time": "2021-10-17T02:01:56.048150",
     "exception": false,
     "start_time": "2021-10-17T02:01:56.028854",
     "status": "completed"
    },
    "tags": []
   },
   "outputs": [
    {
     "data": {
      "text/markdown": [
       "- A closer look at Cardano’s daily, weekly charts reveals this.  Gains seen in market leaders Bitcoin and Ethereum have propelled certain altcoins to new heights. Recently, the likes of Shiba Inu, Polkadot, MATIC and now Stellar have seen strong rallies amidst a risk-on broader market. While these coins garnered much interest from the crypto community, Cardano failed to deliver on bullish expectations. In fact, the [&#8230;] ... [| Skaityti daugiau](https://ambcrypto.com/a-closer-look-at-cardanos-daily-weekly-charts-reveals-this/) "
      ],
      "text/plain": [
       "<IPython.core.display.Markdown object>"
      ]
     },
     "execution_count": 8,
     "metadata": {},
     "output_type": "execute_result"
    }
   ],
   "source": [
    "#hide_input\n",
    "#md('##### {}'.format(titleBTC)) \n",
    "md(\"- {}{} {}{} [| Skaityti daugiau]({}) \".format(ada['title'],'. ', ada['body'], ' ...', ada['url']))"
   ]
  },
  {
   "cell_type": "code",
   "execution_count": 9,
   "id": "specified-ordering",
   "metadata": {
    "execution": {
     "iopub.execute_input": "2021-10-17T02:01:56.074916Z",
     "iopub.status.busy": "2021-10-17T02:01:56.074410Z",
     "iopub.status.idle": "2021-10-17T02:01:56.077722Z",
     "shell.execute_reply": "2021-10-17T02:01:56.077268Z"
    },
    "papermill": {
     "duration": 0.018779,
     "end_time": "2021-10-17T02:01:56.077836",
     "exception": false,
     "start_time": "2021-10-17T02:01:56.059057",
     "status": "completed"
    },
    "tags": []
   },
   "outputs": [
    {
     "data": {
      "text/markdown": [
       "- NFTs In A Nutshell: A Weekly Review.  A huge week for NFTs, as Coinbase makes their official entry. The powerhouse crypto exchange has opened up a waitlist and generated substantial buzz and NFTs continue to find their footing in the emerging &#8216;digital collectables and community&#8217; landscape. Meanwhile, in tech and gaming, Epic Games has open arms as well &#8211; but Steam, not [&#8230;] ... [| Skaityti daugiau](https://bitcoinist.com/nfts-in-a-nutshell-a-weekly-review-25/?utm_source=rss&utm_medium=rss&utm_campaign=nfts-in-a-nutshell-a-weekly-review-25) "
      ],
      "text/plain": [
       "<IPython.core.display.Markdown object>"
      ]
     },
     "execution_count": 9,
     "metadata": {},
     "output_type": "execute_result"
    }
   ],
   "source": [
    "#hide_input\n",
    "#md('##### {}'.format(titleBTC)) \n",
    "md(\"- {}{} {}{} [| Skaityti daugiau]({}) \".format(exchange['title'],'. ', exchange['body'], ' ...', exchange['url']))"
   ]
  },
  {
   "cell_type": "code",
   "execution_count": null,
   "id": "tender-livestock",
   "metadata": {
    "papermill": {
     "duration": 0.011114,
     "end_time": "2021-10-17T02:01:56.100169",
     "exception": false,
     "start_time": "2021-10-17T02:01:56.089055",
     "status": "completed"
    },
    "tags": []
   },
   "outputs": [],
   "source": []
  },
  {
   "cell_type": "code",
   "execution_count": null,
   "id": "appreciated-diamond",
   "metadata": {
    "papermill": {
     "duration": 0.011131,
     "end_time": "2021-10-17T02:01:56.122588",
     "exception": false,
     "start_time": "2021-10-17T02:01:56.111457",
     "status": "completed"
    },
    "tags": []
   },
   "outputs": [],
   "source": []
  },
  {
   "cell_type": "code",
   "execution_count": null,
   "id": "romance-sweden",
   "metadata": {
    "papermill": {
     "duration": 0.011058,
     "end_time": "2021-10-17T02:01:56.144851",
     "exception": false,
     "start_time": "2021-10-17T02:01:56.133793",
     "status": "completed"
    },
    "tags": []
   },
   "outputs": [],
   "source": []
  },
  {
   "cell_type": "code",
   "execution_count": null,
   "id": "dietary-statistics",
   "metadata": {
    "papermill": {
     "duration": 0.011086,
     "end_time": "2021-10-17T02:01:56.167400",
     "exception": false,
     "start_time": "2021-10-17T02:01:56.156314",
     "status": "completed"
    },
    "tags": []
   },
   "outputs": [],
   "source": []
  }
 ],
 "metadata": {
  "kernelspec": {
   "display_name": "Python 3",
   "language": "python",
   "name": "python3"
  },
  "language_info": {
   "codemirror_mode": {
    "name": "ipython",
    "version": 3
   },
   "file_extension": ".py",
   "mimetype": "text/x-python",
   "name": "python",
   "nbconvert_exporter": "python",
   "pygments_lexer": "ipython3",
   "version": "3.6.15"
  },
  "papermill": {
   "default_parameters": {},
   "duration": 11.963393,
   "end_time": "2021-10-17T02:01:56.687214",
   "environment_variables": {},
   "exception": null,
   "input_path": "Market-News.ipynb",
   "output_path": "Market-News.ipynb",
   "parameters": {},
   "start_time": "2021-10-17T02:01:44.723821",
   "version": "2.2.2"
  }
 },
 "nbformat": 4,
 "nbformat_minor": 5
}