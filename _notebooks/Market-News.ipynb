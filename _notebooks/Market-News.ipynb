{
 "cells": [
  {
   "cell_type": "markdown",
   "id": "short-greensboro",
   "metadata": {
    "papermill": {
     "duration": 0.012535,
     "end_time": "2022-11-11T03:04:38.879065",
     "exception": false,
     "start_time": "2022-11-11T03:04:38.866530",
     "status": "completed"
    },
    "tags": []
   },
   "source": [
    "# Kriptovaliutų naujienos"
   ]
  },
  {
   "cell_type": "code",
   "execution_count": 1,
   "id": "functioning-knowing",
   "metadata": {
    "execution": {
     "iopub.execute_input": "2022-11-11T03:04:38.908083Z",
     "iopub.status.busy": "2022-11-11T03:04:38.907444Z",
     "iopub.status.idle": "2022-11-11T03:04:40.044116Z",
     "shell.execute_reply": "2022-11-11T03:04:40.043582Z"
    },
    "papermill": {
     "duration": 1.155391,
     "end_time": "2022-11-11T03:04:40.044251",
     "exception": false,
     "start_time": "2022-11-11T03:04:38.888860",
     "status": "completed"
    },
    "tags": []
   },
   "outputs": [],
   "source": [
    "#hide_input\n",
    "import warnings\n",
    "warnings.filterwarnings('ignore')\n",
    "from scripts.read_data import read_api\n",
    "from scripts.read_data import read_news\n",
    "from scripts.read_data import read_covid\n",
    "import matplotlib.pyplot as plt \n",
    "from IPython.display import Markdown as md"
   ]
  },
  {
   "cell_type": "code",
   "execution_count": 2,
   "id": "shared-acceptance",
   "metadata": {
    "execution": {
     "iopub.execute_input": "2022-11-11T03:04:40.068632Z",
     "iopub.status.busy": "2022-11-11T03:04:40.068055Z",
     "iopub.status.idle": "2022-11-11T03:04:46.373336Z",
     "shell.execute_reply": "2022-11-11T03:04:46.372161Z"
    },
    "papermill": {
     "duration": 6.319819,
     "end_time": "2022-11-11T03:04:46.373462",
     "exception": false,
     "start_time": "2022-11-11T03:04:40.053643",
     "status": "completed"
    },
    "tags": []
   },
   "outputs": [],
   "source": [
    "#hide_input\n",
    "blockchain = read_news('blockchain') \n",
    "btc = read_news('btc') \n",
    "xrp = read_news('xrp') \n",
    "trx = read_news('trx') \n",
    "eth = read_news('eth')  \n",
    "ada = read_news('ada')\n",
    "exchange = read_news('exchange') "
   ]
  },
  {
   "cell_type": "code",
   "execution_count": 3,
   "id": "synthetic-notion",
   "metadata": {
    "execution": {
     "iopub.execute_input": "2022-11-11T03:04:46.397903Z",
     "iopub.status.busy": "2022-11-11T03:04:46.397310Z",
     "iopub.status.idle": "2022-11-11T03:04:46.400070Z",
     "shell.execute_reply": "2022-11-11T03:04:46.400496Z"
    },
    "papermill": {
     "duration": 0.017786,
     "end_time": "2022-11-11T03:04:46.400606",
     "exception": false,
     "start_time": "2022-11-11T03:04:46.382820",
     "status": "completed"
    },
    "tags": []
   },
   "outputs": [
    {
     "data": {
      "text/markdown": [
       "- AllianceBlock to launch solution for proving digital ID without privacy compromise.  AllianceBlock has recently introduced a solution that allows users to verify their digital identity while maintaining their confidentiality. The post AllianceBlock to launch solution for proving digital ID without privacy compromise appeared first on Blockchain, Crypto and Stock News . ... [| Skaityti daugiau](https://thecoinrise.com/allianceblock-to-launch-solution-for-proving-digital-id-without-privacy-compromise/) "
      ],
      "text/plain": [
       "<IPython.core.display.Markdown object>"
      ]
     },
     "execution_count": 3,
     "metadata": {},
     "output_type": "execute_result"
    }
   ],
   "source": [
    "#hide_input\n",
    "#md('##### {}'.format(titleBTC)) \n",
    "md(\"- {}{} {}{} [| Skaityti daugiau]({}) \".format(blockchain['title'],'. ', blockchain['body'], ' ...', blockchain['url']))"
   ]
  },
  {
   "cell_type": "code",
   "execution_count": 4,
   "id": "aging-caution",
   "metadata": {
    "execution": {
     "iopub.execute_input": "2022-11-11T03:04:46.423798Z",
     "iopub.status.busy": "2022-11-11T03:04:46.423208Z",
     "iopub.status.idle": "2022-11-11T03:04:46.425797Z",
     "shell.execute_reply": "2022-11-11T03:04:46.426225Z"
    },
    "papermill": {
     "duration": 0.016361,
     "end_time": "2022-11-11T03:04:46.426332",
     "exception": false,
     "start_time": "2022-11-11T03:04:46.409971",
     "status": "completed"
    },
    "tags": []
   },
   "outputs": [
    {
     "data": {
      "text/markdown": [
       "- The Problem With Money, And The Solution Explained.  Bitcoin is sound money because the blockchain makes its ledger tamper-evident, while proof-of-work ensures the blockchain is tamper-proof. ... [| Skaityti daugiau](https://bitcoinmagazine.com/culture/the-problem-with-money-explained) "
      ],
      "text/plain": [
       "<IPython.core.display.Markdown object>"
      ]
     },
     "execution_count": 4,
     "metadata": {},
     "output_type": "execute_result"
    }
   ],
   "source": [
    "#hide_input\n",
    "#md('##### {}'.format(titleBTC)) \n",
    "md(\"- {}{} {}{} [| Skaityti daugiau]({}) \".format(btc['title'],'. ', btc['body'], ' ...', btc['url']))"
   ]
  },
  {
   "cell_type": "code",
   "execution_count": 5,
   "id": "organic-actress",
   "metadata": {
    "execution": {
     "iopub.execute_input": "2022-11-11T03:04:46.449461Z",
     "iopub.status.busy": "2022-11-11T03:04:46.448654Z",
     "iopub.status.idle": "2022-11-11T03:04:46.452740Z",
     "shell.execute_reply": "2022-11-11T03:04:46.452292Z"
    },
    "papermill": {
     "duration": 0.016826,
     "end_time": "2022-11-11T03:04:46.452834",
     "exception": false,
     "start_time": "2022-11-11T03:04:46.436008",
     "status": "completed"
    },
    "tags": []
   },
   "outputs": [
    {
     "data": {
      "text/markdown": [
       "- SEC Gains Supporter in Fight Against Ripple.  The firm believes that the court should grant the SEC’s motion for summary judgement, dismissing the defendants’ fair notice defense ... [| Skaityti daugiau](https://u.today/sec-gains-supporter-in-fight-against-ripple) "
      ],
      "text/plain": [
       "<IPython.core.display.Markdown object>"
      ]
     },
     "execution_count": 5,
     "metadata": {},
     "output_type": "execute_result"
    }
   ],
   "source": [
    "#hide_input\n",
    "#md('##### {}'.format(titleBTC)) \n",
    "md(\"- {}{} {}{} [| Skaityti daugiau]({}) \".format(xrp['title'],'. ', xrp['body'], ' ...', xrp['url']))"
   ]
  },
  {
   "cell_type": "code",
   "execution_count": 6,
   "id": "prompt-farmer",
   "metadata": {
    "execution": {
     "iopub.execute_input": "2022-11-11T03:04:46.477116Z",
     "iopub.status.busy": "2022-11-11T03:04:46.476491Z",
     "iopub.status.idle": "2022-11-11T03:04:46.479089Z",
     "shell.execute_reply": "2022-11-11T03:04:46.479539Z"
    },
    "papermill": {
     "duration": 0.016825,
     "end_time": "2022-11-11T03:04:46.479662",
     "exception": false,
     "start_time": "2022-11-11T03:04:46.462837",
     "status": "completed"
    },
    "tags": []
   },
   "outputs": [
    {
     "data": {
      "text/markdown": [
       "- TRX’s USD Exchange Rate Jumps 270% Higher on FTX After Exchange Brokers Deal With Tron.  On Thursday, at approximately 12:48 p.m. (ET), the embattled exchange FTX revealed that it has created a special facility with Tron. The deal allows holders of specific Tron-based coins to withdraw the tokens to external wallets on a 1:1 ratio. While coin market aggregation sites say tron tapped a high of $0.06 per token on ... [| Skaityti daugiau](https://news.bitcoin.com/trxs-usd-exchange-rate-jumps-270-higher-on-ftx-after-exchange-brokers-deal-with-tron/) "
      ],
      "text/plain": [
       "<IPython.core.display.Markdown object>"
      ]
     },
     "execution_count": 6,
     "metadata": {},
     "output_type": "execute_result"
    }
   ],
   "source": [
    "#hide_input\n",
    "#md('##### {}'.format(titleBTC)) \n",
    "md(\"- {}{} {}{} [| Skaityti daugiau]({}) \".format(trx['title'],'. ', trx['body'], ' ...', trx['url']))"
   ]
  },
  {
   "cell_type": "code",
   "execution_count": 7,
   "id": "illegal-greece",
   "metadata": {
    "execution": {
     "iopub.execute_input": "2022-11-11T03:04:46.504667Z",
     "iopub.status.busy": "2022-11-11T03:04:46.504109Z",
     "iopub.status.idle": "2022-11-11T03:04:46.507189Z",
     "shell.execute_reply": "2022-11-11T03:04:46.506649Z"
    },
    "papermill": {
     "duration": 0.017075,
     "end_time": "2022-11-11T03:04:46.507284",
     "exception": false,
     "start_time": "2022-11-11T03:04:46.490209",
     "status": "completed"
    },
    "tags": []
   },
   "outputs": [
    {
     "data": {
      "text/markdown": [
       "- Bored Ape Yacht Club NFT Prices Fall After FTX Sinks Crypto Market.  Sinking ETH value and potential panic-selling pushes the NFT “blue chip” down—now 82% off its peak price from April. ... [| Skaityti daugiau](https://decrypt.co/114158/bored-ape-yacht-club-nft-prices-fall-after-ftx-sinks-crypto-market) "
      ],
      "text/plain": [
       "<IPython.core.display.Markdown object>"
      ]
     },
     "execution_count": 7,
     "metadata": {},
     "output_type": "execute_result"
    }
   ],
   "source": [
    "#hide_input\n",
    "#md('##### {}'.format(titleBTC)) \n",
    "md(\"- {}{} {}{} [| Skaityti daugiau]({}) \".format(eth['title'],'. ', eth['body'], ' ...', eth['url']))"
   ]
  },
  {
   "cell_type": "code",
   "execution_count": 8,
   "id": "sublime-lounge",
   "metadata": {
    "execution": {
     "iopub.execute_input": "2022-11-11T03:04:46.533744Z",
     "iopub.status.busy": "2022-11-11T03:04:46.533126Z",
     "iopub.status.idle": "2022-11-11T03:04:46.535780Z",
     "shell.execute_reply": "2022-11-11T03:04:46.536191Z"
    },
    "papermill": {
     "duration": 0.01744,
     "end_time": "2022-11-11T03:04:46.536300",
     "exception": false,
     "start_time": "2022-11-11T03:04:46.518860",
     "status": "completed"
    },
    "tags": []
   },
   "outputs": [
    {
     "data": {
      "text/markdown": [
       "- Charles Hoskinson believes FTX crisis would be the last calamity of this bear market.  Cardano founder Charles Hoskinson observes the turmoil surrounding FTX as the final negative event of the bear market. The post Charles Hoskinson believes FTX crisis would be the last calamity of this bear market appeared first on Blockchain, Crypto and Stock News . ... [| Skaityti daugiau](https://thecoinrise.com/charles-hoskinson-believes-ftx-crisis-would-be-the-last-calamity-of-this-bear-market/) "
      ],
      "text/plain": [
       "<IPython.core.display.Markdown object>"
      ]
     },
     "execution_count": 8,
     "metadata": {},
     "output_type": "execute_result"
    }
   ],
   "source": [
    "#hide_input\n",
    "#md('##### {}'.format(titleBTC)) \n",
    "md(\"- {}{} {}{} [| Skaityti daugiau]({}) \".format(ada['title'],'. ', ada['body'], ' ...', ada['url']))"
   ]
  },
  {
   "cell_type": "code",
   "execution_count": 9,
   "id": "specified-ordering",
   "metadata": {
    "execution": {
     "iopub.execute_input": "2022-11-11T03:04:46.561626Z",
     "iopub.status.busy": "2022-11-11T03:04:46.560887Z",
     "iopub.status.idle": "2022-11-11T03:04:46.564869Z",
     "shell.execute_reply": "2022-11-11T03:04:46.564418Z"
    },
    "papermill": {
     "duration": 0.01778,
     "end_time": "2022-11-11T03:04:46.564961",
     "exception": false,
     "start_time": "2022-11-11T03:04:46.547181",
     "status": "completed"
    },
    "tags": []
   },
   "outputs": [
    {
     "data": {
      "text/markdown": [
       "- US Senator Says Crypto Needs ‘More Aggressive Enforcement’ —  ‘I’m Going to Keep Pushing SEC to Enforce the Law’.  U.S. Senator Elizabeth Warren says the implosion of crypto exchange FTX shows that the crypto industry needs “more aggressive enforcement.” She stressed: “I’m going to keep pushing SEC to enforce the law to protect consumers and financial stability.” However, many people pointed out that the Securities and Exchange Commission (SEC) has failed to provide clear ... [| Skaityti daugiau](https://news.bitcoin.com/us-senator-says-crypto-needs-more-aggressive-enforcement-im-going-to-keep-pushing-sec-to-enforce-the-law/) "
      ],
      "text/plain": [
       "<IPython.core.display.Markdown object>"
      ]
     },
     "execution_count": 9,
     "metadata": {},
     "output_type": "execute_result"
    }
   ],
   "source": [
    "#hide_input\n",
    "#md('##### {}'.format(titleBTC)) \n",
    "md(\"- {}{} {}{} [| Skaityti daugiau]({}) \".format(exchange['title'],'. ', exchange['body'], ' ...', exchange['url']))"
   ]
  },
  {
   "cell_type": "code",
   "execution_count": null,
   "id": "tender-livestock",
   "metadata": {
    "papermill": {
     "duration": 0.011317,
     "end_time": "2022-11-11T03:04:46.587542",
     "exception": false,
     "start_time": "2022-11-11T03:04:46.576225",
     "status": "completed"
    },
    "tags": []
   },
   "outputs": [],
   "source": []
  },
  {
   "cell_type": "code",
   "execution_count": null,
   "id": "appreciated-diamond",
   "metadata": {
    "papermill": {
     "duration": 0.011171,
     "end_time": "2022-11-11T03:04:46.610145",
     "exception": false,
     "start_time": "2022-11-11T03:04:46.598974",
     "status": "completed"
    },
    "tags": []
   },
   "outputs": [],
   "source": []
  },
  {
   "cell_type": "code",
   "execution_count": null,
   "id": "romance-sweden",
   "metadata": {
    "papermill": {
     "duration": 0.011193,
     "end_time": "2022-11-11T03:04:46.632590",
     "exception": false,
     "start_time": "2022-11-11T03:04:46.621397",
     "status": "completed"
    },
    "tags": []
   },
   "outputs": [],
   "source": []
  },
  {
   "cell_type": "code",
   "execution_count": null,
   "id": "dietary-statistics",
   "metadata": {
    "papermill": {
     "duration": 0.011209,
     "end_time": "2022-11-11T03:04:46.655140",
     "exception": false,
     "start_time": "2022-11-11T03:04:46.643931",
     "status": "completed"
    },
    "tags": []
   },
   "outputs": [],
   "source": []
  }
 ],
 "metadata": {
  "kernelspec": {
   "display_name": "Python 3",
   "language": "python",
   "name": "python3"
  },
  "language_info": {
   "codemirror_mode": {
    "name": "ipython",
    "version": 3
   },
   "file_extension": ".py",
   "mimetype": "text/x-python",
   "name": "python",
   "nbconvert_exporter": "python",
   "pygments_lexer": "ipython3",
   "version": "3.6.15"
  },
  "papermill": {
   "default_parameters": {},
   "duration": 9.126136,
   "end_time": "2022-11-11T03:04:47.084178",
   "environment_variables": {},
   "exception": null,
   "input_path": "Market-News.ipynb",
   "output_path": "Market-News.ipynb",
   "parameters": {},
   "start_time": "2022-11-11T03:04:37.958042",
   "version": "2.2.2"
  }
 },
 "nbformat": 4,
 "nbformat_minor": 5
}