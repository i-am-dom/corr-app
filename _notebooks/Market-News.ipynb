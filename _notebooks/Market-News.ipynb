{
 "cells": [
  {
   "cell_type": "markdown",
   "id": "short-greensboro",
   "metadata": {
    "papermill": {
     "duration": 0.014355,
     "end_time": "2022-06-21T03:11:44.999217",
     "exception": false,
     "start_time": "2022-06-21T03:11:44.984862",
     "status": "completed"
    },
    "tags": []
   },
   "source": [
    "# Kriptovaliutų naujienos"
   ]
  },
  {
   "cell_type": "code",
   "execution_count": 1,
   "id": "functioning-knowing",
   "metadata": {
    "execution": {
     "iopub.execute_input": "2022-06-21T03:11:45.033038Z",
     "iopub.status.busy": "2022-06-21T03:11:45.032262Z",
     "iopub.status.idle": "2022-06-21T03:11:46.443297Z",
     "shell.execute_reply": "2022-06-21T03:11:46.442715Z"
    },
    "papermill": {
     "duration": 1.433109,
     "end_time": "2022-06-21T03:11:46.443448",
     "exception": false,
     "start_time": "2022-06-21T03:11:45.010339",
     "status": "completed"
    },
    "tags": []
   },
   "outputs": [],
   "source": [
    "#hide_input\n",
    "import warnings\n",
    "warnings.filterwarnings('ignore')\n",
    "from scripts.read_data import read_api\n",
    "from scripts.read_data import read_news\n",
    "from scripts.read_data import read_covid\n",
    "import matplotlib.pyplot as plt \n",
    "from IPython.display import Markdown as md"
   ]
  },
  {
   "cell_type": "code",
   "execution_count": 2,
   "id": "shared-acceptance",
   "metadata": {
    "execution": {
     "iopub.execute_input": "2022-06-21T03:11:46.470312Z",
     "iopub.status.busy": "2022-06-21T03:11:46.469477Z",
     "iopub.status.idle": "2022-06-21T03:12:01.562533Z",
     "shell.execute_reply": "2022-06-21T03:12:01.561535Z"
    },
    "papermill": {
     "duration": 15.109045,
     "end_time": "2022-06-21T03:12:01.562668",
     "exception": false,
     "start_time": "2022-06-21T03:11:46.453623",
     "status": "completed"
    },
    "tags": []
   },
   "outputs": [],
   "source": [
    "#hide_input\n",
    "blockchain = read_news('blockchain') \n",
    "btc = read_news('btc') \n",
    "xrp = read_news('xrp') \n",
    "trx = read_news('trx') \n",
    "eth = read_news('eth')  \n",
    "ada = read_news('ada')\n",
    "exchange = read_news('exchange') "
   ]
  },
  {
   "cell_type": "code",
   "execution_count": 3,
   "id": "synthetic-notion",
   "metadata": {
    "execution": {
     "iopub.execute_input": "2022-06-21T03:12:01.590911Z",
     "iopub.status.busy": "2022-06-21T03:12:01.590120Z",
     "iopub.status.idle": "2022-06-21T03:12:01.593982Z",
     "shell.execute_reply": "2022-06-21T03:12:01.594639Z"
    },
    "papermill": {
     "duration": 0.021163,
     "end_time": "2022-06-21T03:12:01.594788",
     "exception": false,
     "start_time": "2022-06-21T03:12:01.573625",
     "status": "completed"
    },
    "tags": []
   },
   "outputs": [
    {
     "data": {
      "text/markdown": [
       "- Bitcoin Recovery Wades Off Celsius Liquidation, But For How Long?.  The price of bitcoin has made a remarkable recovery above $20,000 after a brutal week riddled with crashes. These dips had driven decentralized finance (DeF)/ lending protocol Celsius, to the brink of liquidation. However, as the price has recovered, the platform is once again able to hold out for longer as its liquidation point is now a bit further away. The question remains if the recovery will hold and if Celsius will be able to avoid liquidation. Liquidation Price Pushed Back With the price of bitcoin above $20,000, the liquidation price of Celsius is now a little bit distant. This has not changed the sentiment around the lending protocol though, which has now suspended withdrawals for 7 days at this point. Its liquidation price still remains firmly at $14,000 but the company has assured the community that it continues to work to rectify the issues. Celsius had first announced the transfer and withdrawal freeze last Monday citing unstable market conditions as the reason behind the move. Even with the recent recovery, the lending protocol remains at risk of liquidation, and as such withdrawals and transfers remain frozen. Related Reading &#124; Bitcoin Funding Rates Remain Negative But Open Interest Tells Another Story In its most recent communique with the public, Celsius has said that it is working with officials to find a suitable resolution to its issues. “As has been a priority since our company’s inception, we maintai... ... [| Skaityti daugiau](https://www.newsbtc.com/news/bitcoin/bitcoin-recovery-wades-off-celsius-liquidation-but-for-how-long/) "
      ],
      "text/plain": [
       "<IPython.core.display.Markdown object>"
      ]
     },
     "execution_count": 3,
     "metadata": {},
     "output_type": "execute_result"
    }
   ],
   "source": [
    "#hide_input\n",
    "#md('##### {}'.format(titleBTC)) \n",
    "md(\"- {}{} {}{} [| Skaityti daugiau]({}) \".format(blockchain['title'],'. ', blockchain['body'], ' ...', blockchain['url']))"
   ]
  },
  {
   "cell_type": "code",
   "execution_count": 4,
   "id": "aging-caution",
   "metadata": {
    "execution": {
     "iopub.execute_input": "2022-06-21T03:12:01.620873Z",
     "iopub.status.busy": "2022-06-21T03:12:01.620198Z",
     "iopub.status.idle": "2022-06-21T03:12:01.627146Z",
     "shell.execute_reply": "2022-06-21T03:12:01.626594Z"
    },
    "papermill": {
     "duration": 0.021904,
     "end_time": "2022-06-21T03:12:01.627258",
     "exception": false,
     "start_time": "2022-06-21T03:12:01.605354",
     "status": "completed"
    },
    "tags": []
   },
   "outputs": [
    {
     "data": {
      "text/markdown": [
       "- TA: Bitcoin Consolidates Near Key Juncture, Can The Bulls Make It.  Bitcoin is struggling near the $21,000 resistance zone against the US Dollar. BTC could rally if it clears the $20,900 and $21,000 resistance levels. Bitcoin is showing a few positive signs above the $20,000 support. The price is now still above the $20,000 level and the 100 hourly simple moving average. There is a connecting bullish trend line forming with support near $20,275 on the hourly chart of the BTC/USD pair (data feed from Kraken). The pair could start a fresh decline if it stays below the key $21,000 resistance zone. Bitcoin Price Eyes Upside Break Bitcoin price started an upside correction after it traded as low as $17,600. There was a decent recovery wave above the $18,500 and $19,000 levels. The price surpassed the 50% Fib retracement level of the main drop from the $22,951 high to $17,600 low. The price even cleared the $20,000 level and the 100 hourly simple moving average. There is also a connecting bullish trend line forming with support near $20,275 on the hourly chart of the BTC/USD pair. However, the bears are now defending major gains above the $20,500 zone. Bitcoin is also struggling near the 61.8% Fib retracement level of the main drop from the $22,951 high to $17,600 low. An immediate resistance on the upside is near the $20,800 level. The first major resistance is near the $20,900 and $21,000 levels. Source: BTCUSD on TradingView.com A clear move above the $21,000 level could even push the price towar... ... [| Skaityti daugiau](https://www.newsbtc.com/analysis/btc/bitcoin-consolidates-21k/) "
      ],
      "text/plain": [
       "<IPython.core.display.Markdown object>"
      ]
     },
     "execution_count": 4,
     "metadata": {},
     "output_type": "execute_result"
    }
   ],
   "source": [
    "#hide_input\n",
    "#md('##### {}'.format(titleBTC)) \n",
    "md(\"- {}{} {}{} [| Skaityti daugiau]({}) \".format(btc['title'],'. ', btc['body'], ' ...', btc['url']))"
   ]
  },
  {
   "cell_type": "code",
   "execution_count": 5,
   "id": "organic-actress",
   "metadata": {
    "execution": {
     "iopub.execute_input": "2022-06-21T03:12:01.654385Z",
     "iopub.status.busy": "2022-06-21T03:12:01.653600Z",
     "iopub.status.idle": "2022-06-21T03:12:01.658133Z",
     "shell.execute_reply": "2022-06-21T03:12:01.657480Z"
    },
    "papermill": {
     "duration": 0.020138,
     "end_time": "2022-06-21T03:12:01.658273",
     "exception": false,
     "start_time": "2022-06-21T03:12:01.638135",
     "status": "completed"
    },
    "tags": []
   },
   "outputs": [
    {
     "data": {
      "text/markdown": [
       "- Price analysis 6/20: BTC, ETH, BNB, ADA, XRP, SOL, DOGE, DOT, LEO, AVAX.  Bitcoin and select altcoins attempted a relief rally, but most breakouts are being capped-off well below the 20-day moving average. ... [| Skaityti daugiau](https://cointelegraph.com/news/price-analysis-6-20-btc-eth-bnb-ada-xrp-sol-doge-dot-leo-avax) "
      ],
      "text/plain": [
       "<IPython.core.display.Markdown object>"
      ]
     },
     "execution_count": 5,
     "metadata": {},
     "output_type": "execute_result"
    }
   ],
   "source": [
    "#hide_input\n",
    "#md('##### {}'.format(titleBTC)) \n",
    "md(\"- {}{} {}{} [| Skaityti daugiau]({}) \".format(xrp['title'],'. ', xrp['body'], ' ...', xrp['url']))"
   ]
  },
  {
   "cell_type": "code",
   "execution_count": 6,
   "id": "prompt-farmer",
   "metadata": {
    "execution": {
     "iopub.execute_input": "2022-06-21T03:12:01.690737Z",
     "iopub.status.busy": "2022-06-21T03:12:01.690022Z",
     "iopub.status.idle": "2022-06-21T03:12:01.693578Z",
     "shell.execute_reply": "2022-06-21T03:12:01.694140Z"
    },
    "papermill": {
     "duration": 0.019637,
     "end_time": "2022-06-21T03:12:01.694268",
     "exception": false,
     "start_time": "2022-06-21T03:12:01.674631",
     "status": "completed"
    },
    "tags": []
   },
   "outputs": [
    {
     "data": {
      "text/markdown": [
       "- TRON DAO Struggles Continue, USDD Still Depegged.  TRON’S USDD stablecoin is still de-pegged. The stablecoin currently hovers at $0.962. Meanwhile, TRON trades at $0.0611. Despite TRON (TRX) ...Read More... ... [| Skaityti daugiau](https://coinquora.com/tron-dao-struggles-continue-usdd-still-depegged/) "
      ],
      "text/plain": [
       "<IPython.core.display.Markdown object>"
      ]
     },
     "execution_count": 6,
     "metadata": {},
     "output_type": "execute_result"
    }
   ],
   "source": [
    "#hide_input\n",
    "#md('##### {}'.format(titleBTC)) \n",
    "md(\"- {}{} {}{} [| Skaityti daugiau]({}) \".format(trx['title'],'. ', trx['body'], ' ...', trx['url']))"
   ]
  },
  {
   "cell_type": "code",
   "execution_count": 7,
   "id": "illegal-greece",
   "metadata": {
    "execution": {
     "iopub.execute_input": "2022-06-21T03:12:01.722969Z",
     "iopub.status.busy": "2022-06-21T03:12:01.722244Z",
     "iopub.status.idle": "2022-06-21T03:12:01.726181Z",
     "shell.execute_reply": "2022-06-21T03:12:01.725601Z"
    },
    "papermill": {
     "duration": 0.020388,
     "end_time": "2022-06-21T03:12:01.726297",
     "exception": false,
     "start_time": "2022-06-21T03:12:01.705909",
     "status": "completed"
    },
    "tags": []
   },
   "outputs": [
    {
     "data": {
      "text/markdown": [
       "- Bitcoin, Ethereum, Axie Infinity, and Zcash Daily Price Analyses – 20 June Roundup.  The global crypto market hasn’t stabilized yet as it faces problems. The current situation for Bitcoin, Ethereum, and others shows that the market might have to go through further fluctuations. The changes are suggestive of the potent turbulence in the market, which is the result of the grave problems it faces. If the situation persists,... ... [| Skaityti daugiau](https://www.cryptopolitan.com/bitcoin-ethereum-axie-infinity-and-zcash-daily-price-analyses-20-june-roundup/) "
      ],
      "text/plain": [
       "<IPython.core.display.Markdown object>"
      ]
     },
     "execution_count": 7,
     "metadata": {},
     "output_type": "execute_result"
    }
   ],
   "source": [
    "#hide_input\n",
    "#md('##### {}'.format(titleBTC)) \n",
    "md(\"- {}{} {}{} [| Skaityti daugiau]({}) \".format(eth['title'],'. ', eth['body'], ' ...', eth['url']))"
   ]
  },
  {
   "cell_type": "code",
   "execution_count": 8,
   "id": "sublime-lounge",
   "metadata": {
    "execution": {
     "iopub.execute_input": "2022-06-21T03:12:01.756335Z",
     "iopub.status.busy": "2022-06-21T03:12:01.755674Z",
     "iopub.status.idle": "2022-06-21T03:12:01.761977Z",
     "shell.execute_reply": "2022-06-21T03:12:01.761414Z"
    },
    "papermill": {
     "duration": 0.022236,
     "end_time": "2022-06-21T03:12:01.762091",
     "exception": false,
     "start_time": "2022-06-21T03:12:01.739855",
     "status": "completed"
    },
    "tags": []
   },
   "outputs": [
    {
     "data": {
      "text/markdown": [
       "- Price analysis 6/20: BTC, ETH, BNB, ADA, XRP, SOL, DOGE, DOT, LEO, AVAX.  Bitcoin and select altcoins attempted a relief rally, but most breakouts are being capped-off well below the 20-day moving average. ... [| Skaityti daugiau](https://cointelegraph.com/news/price-analysis-6-20-btc-eth-bnb-ada-xrp-sol-doge-dot-leo-avax) "
      ],
      "text/plain": [
       "<IPython.core.display.Markdown object>"
      ]
     },
     "execution_count": 8,
     "metadata": {},
     "output_type": "execute_result"
    }
   ],
   "source": [
    "#hide_input\n",
    "#md('##### {}'.format(titleBTC)) \n",
    "md(\"- {}{} {}{} [| Skaityti daugiau]({}) \".format(ada['title'],'. ', ada['body'], ' ...', ada['url']))"
   ]
  },
  {
   "cell_type": "code",
   "execution_count": 9,
   "id": "specified-ordering",
   "metadata": {
    "execution": {
     "iopub.execute_input": "2022-06-21T03:12:01.791068Z",
     "iopub.status.busy": "2022-06-21T03:12:01.790250Z",
     "iopub.status.idle": "2022-06-21T03:12:01.794773Z",
     "shell.execute_reply": "2022-06-21T03:12:01.794231Z"
    },
    "papermill": {
     "duration": 0.021034,
     "end_time": "2022-06-21T03:12:01.794885",
     "exception": false,
     "start_time": "2022-06-21T03:12:01.773851",
     "status": "completed"
    },
    "tags": []
   },
   "outputs": [
    {
     "data": {
      "text/markdown": [
       "- Future-Oriented, Bib Exchange Puts Focus on Security and Stability.  The cryptocurrency space has been at the fastest-growing pace ever since the inception of Bitcoin. Associated with this, there&#8217;s a significant increase in new trends emerging every year, ranging from the original ICO to the unparalleled NFT. Escorted by a fantastic amount of innovation and development just a few years away, crypto companies face the [&#8230;]The post Future-Oriented, Bib Exchange Puts Focus on Security and Stability appeared first on NullTX. ... [| Skaityti daugiau](https://nulltx.com/future-oriented-bib-exchange-puts-focus-on-security-and-stability/) "
      ],
      "text/plain": [
       "<IPython.core.display.Markdown object>"
      ]
     },
     "execution_count": 9,
     "metadata": {},
     "output_type": "execute_result"
    }
   ],
   "source": [
    "#hide_input\n",
    "#md('##### {}'.format(titleBTC)) \n",
    "md(\"- {}{} {}{} [| Skaityti daugiau]({}) \".format(exchange['title'],'. ', exchange['body'], ' ...', exchange['url']))"
   ]
  },
  {
   "cell_type": "code",
   "execution_count": null,
   "id": "tender-livestock",
   "metadata": {
    "papermill": {
     "duration": 0.012626,
     "end_time": "2022-06-21T03:12:01.820110",
     "exception": false,
     "start_time": "2022-06-21T03:12:01.807484",
     "status": "completed"
    },
    "tags": []
   },
   "outputs": [],
   "source": []
  },
  {
   "cell_type": "code",
   "execution_count": null,
   "id": "appreciated-diamond",
   "metadata": {
    "papermill": {
     "duration": 0.01276,
     "end_time": "2022-06-21T03:12:01.845433",
     "exception": false,
     "start_time": "2022-06-21T03:12:01.832673",
     "status": "completed"
    },
    "tags": []
   },
   "outputs": [],
   "source": []
  },
  {
   "cell_type": "code",
   "execution_count": null,
   "id": "romance-sweden",
   "metadata": {
    "papermill": {
     "duration": 0.012788,
     "end_time": "2022-06-21T03:12:01.870750",
     "exception": false,
     "start_time": "2022-06-21T03:12:01.857962",
     "status": "completed"
    },
    "tags": []
   },
   "outputs": [],
   "source": []
  },
  {
   "cell_type": "code",
   "execution_count": null,
   "id": "dietary-statistics",
   "metadata": {
    "papermill": {
     "duration": 0.012448,
     "end_time": "2022-06-21T03:12:01.895758",
     "exception": false,
     "start_time": "2022-06-21T03:12:01.883310",
     "status": "completed"
    },
    "tags": []
   },
   "outputs": [],
   "source": []
  }
 ],
 "metadata": {
  "kernelspec": {
   "display_name": "Python 3",
   "language": "python",
   "name": "python3"
  },
  "language_info": {
   "codemirror_mode": {
    "name": "ipython",
    "version": 3
   },
   "file_extension": ".py",
   "mimetype": "text/x-python",
   "name": "python",
   "nbconvert_exporter": "python",
   "pygments_lexer": "ipython3",
   "version": "3.6.15"
  },
  "papermill": {
   "default_parameters": {},
   "duration": 18.619831,
   "end_time": "2022-06-21T03:12:02.326605",
   "environment_variables": {},
   "exception": null,
   "input_path": "Market-News.ipynb",
   "output_path": "Market-News.ipynb",
   "parameters": {},
   "start_time": "2022-06-21T03:11:43.706774",
   "version": "2.2.2"
  }
 },
 "nbformat": 4,
 "nbformat_minor": 5
}