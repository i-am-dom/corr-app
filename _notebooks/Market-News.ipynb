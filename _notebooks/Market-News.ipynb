{
 "cells": [
  {
   "cell_type": "markdown",
   "id": "short-greensboro",
   "metadata": {
    "papermill": {
     "duration": 0.013322,
     "end_time": "2022-01-31T01:56:53.299515",
     "exception": false,
     "start_time": "2022-01-31T01:56:53.286193",
     "status": "completed"
    },
    "tags": []
   },
   "source": [
    "# Kriptovaliutų naujienos"
   ]
  },
  {
   "cell_type": "code",
   "execution_count": 1,
   "id": "functioning-knowing",
   "metadata": {
    "execution": {
     "iopub.execute_input": "2022-01-31T01:56:53.330559Z",
     "iopub.status.busy": "2022-01-31T01:56:53.329837Z",
     "iopub.status.idle": "2022-01-31T01:56:54.694559Z",
     "shell.execute_reply": "2022-01-31T01:56:54.695097Z"
    },
    "papermill": {
     "duration": 1.38556,
     "end_time": "2022-01-31T01:56:54.695309",
     "exception": false,
     "start_time": "2022-01-31T01:56:53.309749",
     "status": "completed"
    },
    "tags": []
   },
   "outputs": [],
   "source": [
    "#hide_input\n",
    "import warnings\n",
    "warnings.filterwarnings('ignore')\n",
    "from scripts.read_data import read_api\n",
    "from scripts.read_data import read_news\n",
    "from scripts.read_data import read_covid\n",
    "import matplotlib.pyplot as plt \n",
    "from IPython.display import Markdown as md"
   ]
  },
  {
   "cell_type": "code",
   "execution_count": 2,
   "id": "shared-acceptance",
   "metadata": {
    "execution": {
     "iopub.execute_input": "2022-01-31T01:56:54.721779Z",
     "iopub.status.busy": "2022-01-31T01:56:54.720742Z",
     "iopub.status.idle": "2022-01-31T01:57:03.648551Z",
     "shell.execute_reply": "2022-01-31T01:57:03.647573Z"
    },
    "papermill": {
     "duration": 8.943712,
     "end_time": "2022-01-31T01:57:03.648698",
     "exception": false,
     "start_time": "2022-01-31T01:56:54.704986",
     "status": "completed"
    },
    "tags": []
   },
   "outputs": [],
   "source": [
    "#hide_input\n",
    "blockchain = read_news('blockchain') \n",
    "btc = read_news('btc') \n",
    "xrp = read_news('xrp') \n",
    "trx = read_news('trx') \n",
    "eth = read_news('eth')  \n",
    "ada = read_news('ada')\n",
    "exchange = read_news('exchange') "
   ]
  },
  {
   "cell_type": "code",
   "execution_count": 3,
   "id": "synthetic-notion",
   "metadata": {
    "execution": {
     "iopub.execute_input": "2022-01-31T01:57:03.674650Z",
     "iopub.status.busy": "2022-01-31T01:57:03.674091Z",
     "iopub.status.idle": "2022-01-31T01:57:03.676237Z",
     "shell.execute_reply": "2022-01-31T01:57:03.676732Z"
    },
    "papermill": {
     "duration": 0.018577,
     "end_time": "2022-01-31T01:57:03.676882",
     "exception": false,
     "start_time": "2022-01-31T01:57:03.658305",
     "status": "completed"
    },
    "tags": []
   },
   "outputs": [
    {
     "data": {
      "text/markdown": [
       "- Asian Company Uses Blockchain Technology to Prevent Fraud With COVID-19 Vaccines.  Zuellig Pharma has launched eZTracker: A blockchain-powered medical management system to prevent fraud involving COVID-19 vaccines. ... [| Skaityti daugiau](https://cryptopotato.com/asian-company-uses-blockchain-technology-prevent-fraud-covid19-vaccines/) "
      ],
      "text/plain": [
       "<IPython.core.display.Markdown object>"
      ]
     },
     "execution_count": 3,
     "metadata": {},
     "output_type": "execute_result"
    }
   ],
   "source": [
    "#hide_input\n",
    "#md('##### {}'.format(titleBTC)) \n",
    "md(\"- {}{} {}{} [| Skaityti daugiau]({}) \".format(blockchain['title'],'. ', blockchain['body'], ' ...', blockchain['url']))"
   ]
  },
  {
   "cell_type": "code",
   "execution_count": 4,
   "id": "aging-caution",
   "metadata": {
    "execution": {
     "iopub.execute_input": "2022-01-31T01:57:03.702145Z",
     "iopub.status.busy": "2022-01-31T01:57:03.701560Z",
     "iopub.status.idle": "2022-01-31T01:57:03.704807Z",
     "shell.execute_reply": "2022-01-31T01:57:03.704327Z"
    },
    "papermill": {
     "duration": 0.018396,
     "end_time": "2022-01-31T01:57:03.704930",
     "exception": false,
     "start_time": "2022-01-31T01:57:03.686534",
     "status": "completed"
    },
    "tags": []
   },
   "outputs": [
    {
     "data": {
      "text/markdown": [
       "- Goldman Sachs Warns Bitcoin Increasingly Vulnerable to Fed Rate Hikes as Mainstream Adoption Grows.  Global investment bank Goldman Sachs has warned that bitcoin is increasingly vulnerable to the Federal Reserve&#x2019;s rate hikes as the cryptocurrency grows more widely adopted. &#x201C;Over the last two years, as bitcoin has seen wider mainstream adoption, its correlation with macro assets has picked up,&#x201D; the Goldman analysts explained. Goldman Sachs Warns Bitcoin Increasingly Vulnerable [&#8230;] ... [| Skaityti daugiau](https://news.bitcoin.com/goldman-sachs-bitcoin-vulnerable-to-fed-rate-hikes-mainstream-adoption-grows/) "
      ],
      "text/plain": [
       "<IPython.core.display.Markdown object>"
      ]
     },
     "execution_count": 4,
     "metadata": {},
     "output_type": "execute_result"
    }
   ],
   "source": [
    "#hide_input\n",
    "#md('##### {}'.format(titleBTC)) \n",
    "md(\"- {}{} {}{} [| Skaityti daugiau]({}) \".format(btc['title'],'. ', btc['body'], ' ...', btc['url']))"
   ]
  },
  {
   "cell_type": "code",
   "execution_count": 5,
   "id": "organic-actress",
   "metadata": {
    "execution": {
     "iopub.execute_input": "2022-01-31T01:57:03.730210Z",
     "iopub.status.busy": "2022-01-31T01:57:03.729646Z",
     "iopub.status.idle": "2022-01-31T01:57:03.731780Z",
     "shell.execute_reply": "2022-01-31T01:57:03.732275Z"
    },
    "papermill": {
     "duration": 0.017554,
     "end_time": "2022-01-31T01:57:03.732415",
     "exception": false,
     "start_time": "2022-01-31T01:57:03.714861",
     "status": "completed"
    },
    "tags": []
   },
   "outputs": [
    {
     "data": {
      "text/markdown": [
       "- XRP, Solana, ETC Price Analysis: 30 January.  The Crypto Fear and Greed index saw a 9 point surge over the last two days. Consequently, XRP pictured a slight bullish edge but still struggled to gather enough volumes. Besides, Solana and Ethereum Classic formed bearish patterns while their 4-hour RSIs flashed weakening signs. Buyers need to step in to subdue the bearish tendencies [&#8230;] ... [| Skaityti daugiau](https://ambcrypto.com/xrp-solana-etc-price-analysis-30-january/) "
      ],
      "text/plain": [
       "<IPython.core.display.Markdown object>"
      ]
     },
     "execution_count": 5,
     "metadata": {},
     "output_type": "execute_result"
    }
   ],
   "source": [
    "#hide_input\n",
    "#md('##### {}'.format(titleBTC)) \n",
    "md(\"- {}{} {}{} [| Skaityti daugiau]({}) \".format(xrp['title'],'. ', xrp['body'], ' ...', xrp['url']))"
   ]
  },
  {
   "cell_type": "code",
   "execution_count": 6,
   "id": "prompt-farmer",
   "metadata": {
    "execution": {
     "iopub.execute_input": "2022-01-31T01:57:03.759170Z",
     "iopub.status.busy": "2022-01-31T01:57:03.758499Z",
     "iopub.status.idle": "2022-01-31T01:57:03.762741Z",
     "shell.execute_reply": "2022-01-31T01:57:03.762286Z"
    },
    "papermill": {
     "duration": 0.020253,
     "end_time": "2022-01-31T01:57:03.762891",
     "exception": false,
     "start_time": "2022-01-31T01:57:03.742638",
     "status": "completed"
    },
    "tags": []
   },
   "outputs": [
    {
     "data": {
      "text/markdown": [
       "- Cosmos, Tron, NEAR Price Analysis: 27 January.  With the market flashing relatively low volatility over the past two days, Tron and NEAR saw bearish patterns while flashing weak near-term technical indications. On the other hand, Cosmos broke down from its flag and pole. Now, the $32.5-makr would be crucial for the bulls to defend. Cosmos (ATOM) The sellers ensured the $43-mark resistance [&#8230;] ... [| Skaityti daugiau](https://ambcrypto.com/cosmos-tron-near-price-analysis-27-january/) "
      ],
      "text/plain": [
       "<IPython.core.display.Markdown object>"
      ]
     },
     "execution_count": 6,
     "metadata": {},
     "output_type": "execute_result"
    }
   ],
   "source": [
    "#hide_input\n",
    "#md('##### {}'.format(titleBTC)) \n",
    "md(\"- {}{} {}{} [| Skaityti daugiau]({}) \".format(trx['title'],'. ', trx['body'], ' ...', trx['url']))"
   ]
  },
  {
   "cell_type": "code",
   "execution_count": 7,
   "id": "illegal-greece",
   "metadata": {
    "execution": {
     "iopub.execute_input": "2022-01-31T01:57:03.790958Z",
     "iopub.status.busy": "2022-01-31T01:57:03.790370Z",
     "iopub.status.idle": "2022-01-31T01:57:03.792368Z",
     "shell.execute_reply": "2022-01-31T01:57:03.792770Z"
    },
    "papermill": {
     "duration": 0.019148,
     "end_time": "2022-01-31T01:57:03.792913",
     "exception": false,
     "start_time": "2022-01-31T01:57:03.773765",
     "status": "completed"
    },
    "tags": []
   },
   "outputs": [
    {
     "data": {
      "text/markdown": [
       "- Web3 Innovations Are Taking the Place of Middlemen.  Decentralized Finance (DeFi) has ushered in a new era for cryptocurrency, attracting a large number of newcomers. It lets users avoid paying high fees by lending their money out and earning interest on the assets they own. The surge in DeFi initiatives demonstrates how far the DeFi revolution may go in disrupting established lending methods and giving customers more power. Developers are extracting value from protocols, rather than enterprises extracting value from users, thanks to the DeFi revolution. Cryptocurrencies and the broader blockchain ecosystem are helping to transform how we live our lives. Because of these new technologies, Web3 is being hailed as a permissionless and open innovation platform based on middleware blockchain protocols. They are displacing intermediary software-as-a-service (SaaS) firms and extracting more revenue as a result. Now, before going into further details, let us first understand what Web3 is. What is Web3? Web3 is supposed to liberate the world from monopolistic control. Web3 refers to a blockchain-based decentralized online ecosystem. Platforms and apps built on Web3 will not be owned by a centralized gatekeeper, but rather by users who will earn ownership stakes by contributing to the development and maintenance of those services. In 2014, Gavin Wood coined the term Web3 (originally Web 3.0). At the time, he had just finished working on Ethereum, the cryptocurrency that is second only to... ... [| Skaityti daugiau](https://www.cryptoknowmics.com/news/web3-innovations-are-taking-the-place-of-middlemen/) "
      ],
      "text/plain": [
       "<IPython.core.display.Markdown object>"
      ]
     },
     "execution_count": 7,
     "metadata": {},
     "output_type": "execute_result"
    }
   ],
   "source": [
    "#hide_input\n",
    "#md('##### {}'.format(titleBTC)) \n",
    "md(\"- {}{} {}{} [| Skaityti daugiau]({}) \".format(eth['title'],'. ', eth['body'], ' ...', eth['url']))"
   ]
  },
  {
   "cell_type": "code",
   "execution_count": 8,
   "id": "sublime-lounge",
   "metadata": {
    "execution": {
     "iopub.execute_input": "2022-01-31T01:57:03.820576Z",
     "iopub.status.busy": "2022-01-31T01:57:03.819953Z",
     "iopub.status.idle": "2022-01-31T01:57:03.824121Z",
     "shell.execute_reply": "2022-01-31T01:57:03.824510Z"
    },
    "papermill": {
     "duration": 0.020967,
     "end_time": "2022-01-31T01:57:03.824661",
     "exception": false,
     "start_time": "2022-01-31T01:57:03.803694",
     "status": "completed"
    },
    "tags": []
   },
   "outputs": [
    {
     "data": {
      "text/markdown": [
       "- $ADA: Cardano-Powered DEX ADAX Goes Live, Plans to Integrate COTI’s Djed Stablecoin.  On Sunday (January 30), the team behind ADAX, “an automated liquidity protocol that facilitates trades within the Cardano ecosystem in a completely decentralized and non-custodial way”, announced that their DEX had gone live on the mainnet. On 17 November 2021, an “Ask Me Anything (AMA) event was held on the official ADAX reddit account, where […] ... [| Skaityti daugiau](https://www.cryptoglobe.com/latest/2022/01/cardano-powered-dex-adax-goes-live-plans-to-integrate-cotis-djed-stablecoin/) "
      ],
      "text/plain": [
       "<IPython.core.display.Markdown object>"
      ]
     },
     "execution_count": 8,
     "metadata": {},
     "output_type": "execute_result"
    }
   ],
   "source": [
    "#hide_input\n",
    "#md('##### {}'.format(titleBTC)) \n",
    "md(\"- {}{} {}{} [| Skaityti daugiau]({}) \".format(ada['title'],'. ', ada['body'], ' ...', ada['url']))"
   ]
  },
  {
   "cell_type": "code",
   "execution_count": 9,
   "id": "specified-ordering",
   "metadata": {
    "execution": {
     "iopub.execute_input": "2022-01-31T01:57:03.853085Z",
     "iopub.status.busy": "2022-01-31T01:57:03.852474Z",
     "iopub.status.idle": "2022-01-31T01:57:03.854579Z",
     "shell.execute_reply": "2022-01-31T01:57:03.855083Z"
    },
    "papermill": {
     "duration": 0.019305,
     "end_time": "2022-01-31T01:57:03.855226",
     "exception": false,
     "start_time": "2022-01-31T01:57:03.835921",
     "status": "completed"
    },
    "tags": []
   },
   "outputs": [
    {
     "data": {
      "text/markdown": [
       "- Crypto Corner: The Sports Slice.  If you thought Crypto.com had a big year in sports last year&#8230; well, they&#8217;re off to another hot start this year. The booming exchange locked in a new deal with basketball superstar LeBron James. Adidas is back in with NFTs, courtesy of a new collaboration with Prada, and South America is host to drama in [&#8230;] ... [| Skaityti daugiau](https://bitcoinist.com/crypto-corner-the-sports-slice-24/) "
      ],
      "text/plain": [
       "<IPython.core.display.Markdown object>"
      ]
     },
     "execution_count": 9,
     "metadata": {},
     "output_type": "execute_result"
    }
   ],
   "source": [
    "#hide_input\n",
    "#md('##### {}'.format(titleBTC)) \n",
    "md(\"- {}{} {}{} [| Skaityti daugiau]({}) \".format(exchange['title'],'. ', exchange['body'], ' ...', exchange['url']))"
   ]
  },
  {
   "cell_type": "code",
   "execution_count": null,
   "id": "tender-livestock",
   "metadata": {
    "papermill": {
     "duration": 0.011351,
     "end_time": "2022-01-31T01:57:03.878001",
     "exception": false,
     "start_time": "2022-01-31T01:57:03.866650",
     "status": "completed"
    },
    "tags": []
   },
   "outputs": [],
   "source": []
  },
  {
   "cell_type": "code",
   "execution_count": null,
   "id": "appreciated-diamond",
   "metadata": {
    "papermill": {
     "duration": 0.01152,
     "end_time": "2022-01-31T01:57:03.901092",
     "exception": false,
     "start_time": "2022-01-31T01:57:03.889572",
     "status": "completed"
    },
    "tags": []
   },
   "outputs": [],
   "source": []
  },
  {
   "cell_type": "code",
   "execution_count": null,
   "id": "romance-sweden",
   "metadata": {
    "papermill": {
     "duration": 0.011352,
     "end_time": "2022-01-31T01:57:03.923909",
     "exception": false,
     "start_time": "2022-01-31T01:57:03.912557",
     "status": "completed"
    },
    "tags": []
   },
   "outputs": [],
   "source": []
  },
  {
   "cell_type": "code",
   "execution_count": null,
   "id": "dietary-statistics",
   "metadata": {
    "papermill": {
     "duration": 0.011408,
     "end_time": "2022-01-31T01:57:03.946860",
     "exception": false,
     "start_time": "2022-01-31T01:57:03.935452",
     "status": "completed"
    },
    "tags": []
   },
   "outputs": [],
   "source": []
  }
 ],
 "metadata": {
  "kernelspec": {
   "display_name": "Python 3",
   "language": "python",
   "name": "python3"
  },
  "language_info": {
   "codemirror_mode": {
    "name": "ipython",
    "version": 3
   },
   "file_extension": ".py",
   "mimetype": "text/x-python",
   "name": "python",
   "nbconvert_exporter": "python",
   "pygments_lexer": "ipython3",
   "version": "3.6.15"
  },
  "papermill": {
   "default_parameters": {},
   "duration": 12.556461,
   "end_time": "2022-01-31T01:57:04.578568",
   "environment_variables": {},
   "exception": null,
   "input_path": "Market-News.ipynb",
   "output_path": "Market-News.ipynb",
   "parameters": {},
   "start_time": "2022-01-31T01:56:52.022107",
   "version": "2.2.2"
  }
 },
 "nbformat": 4,
 "nbformat_minor": 5
}