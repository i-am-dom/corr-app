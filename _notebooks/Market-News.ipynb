{
 "cells": [
  {
   "cell_type": "markdown",
   "id": "short-greensboro",
   "metadata": {
    "papermill": {
     "duration": 0.013574,
     "end_time": "2022-06-14T03:14:55.259934",
     "exception": false,
     "start_time": "2022-06-14T03:14:55.246360",
     "status": "completed"
    },
    "tags": []
   },
   "source": [
    "# Kriptovaliutų naujienos"
   ]
  },
  {
   "cell_type": "code",
   "execution_count": 1,
   "id": "functioning-knowing",
   "metadata": {
    "execution": {
     "iopub.execute_input": "2022-06-14T03:14:55.289297Z",
     "iopub.status.busy": "2022-06-14T03:14:55.288667Z",
     "iopub.status.idle": "2022-06-14T03:14:56.496382Z",
     "shell.execute_reply": "2022-06-14T03:14:56.495844Z"
    },
    "papermill": {
     "duration": 1.226953,
     "end_time": "2022-06-14T03:14:56.496521",
     "exception": false,
     "start_time": "2022-06-14T03:14:55.269568",
     "status": "completed"
    },
    "tags": []
   },
   "outputs": [],
   "source": [
    "#hide_input\n",
    "import warnings\n",
    "warnings.filterwarnings('ignore')\n",
    "from scripts.read_data import read_api\n",
    "from scripts.read_data import read_news\n",
    "from scripts.read_data import read_covid\n",
    "import matplotlib.pyplot as plt \n",
    "from IPython.display import Markdown as md"
   ]
  },
  {
   "cell_type": "code",
   "execution_count": 2,
   "id": "shared-acceptance",
   "metadata": {
    "execution": {
     "iopub.execute_input": "2022-06-14T03:14:56.522102Z",
     "iopub.status.busy": "2022-06-14T03:14:56.521085Z",
     "iopub.status.idle": "2022-06-14T03:15:10.041854Z",
     "shell.execute_reply": "2022-06-14T03:15:10.040858Z"
    },
    "papermill": {
     "duration": 13.536086,
     "end_time": "2022-06-14T03:15:10.041986",
     "exception": false,
     "start_time": "2022-06-14T03:14:56.505900",
     "status": "completed"
    },
    "tags": []
   },
   "outputs": [],
   "source": [
    "#hide_input\n",
    "blockchain = read_news('blockchain') \n",
    "btc = read_news('btc') \n",
    "xrp = read_news('xrp') \n",
    "trx = read_news('trx') \n",
    "eth = read_news('eth')  \n",
    "ada = read_news('ada')\n",
    "exchange = read_news('exchange') "
   ]
  },
  {
   "cell_type": "code",
   "execution_count": 3,
   "id": "synthetic-notion",
   "metadata": {
    "execution": {
     "iopub.execute_input": "2022-06-14T03:15:10.066691Z",
     "iopub.status.busy": "2022-06-14T03:15:10.066088Z",
     "iopub.status.idle": "2022-06-14T03:15:10.069066Z",
     "shell.execute_reply": "2022-06-14T03:15:10.069493Z"
    },
    "papermill": {
     "duration": 0.018248,
     "end_time": "2022-06-14T03:15:10.069618",
     "exception": false,
     "start_time": "2022-06-14T03:15:10.051370",
     "status": "completed"
    },
    "tags": []
   },
   "outputs": [
    {
     "data": {
      "text/markdown": [
       "- MAXusdt – Cryptocurrency Mining Based On the TRC20 (TRX) Blockchain.  Most people think of cryptocurrency mining as a method of creating new coins. However, cryptocurrency mining also entails validating cryptocurrency transactions on a blockchain network and adding them to a distributed ledger. Most importantly, crypto mining prevents digital currency from being spent twice on a distributed network. When a member spends cryptocurrency, the digital ledger [&#8230;]The post MAXusdt &#8211; Cryptocurrency Mining Based On the TRC20 (TRX) Blockchain appeared first on NullTX. ... [| Skaityti daugiau](https://nulltx.com/maxusdt-cryptocurrency-mining-based-on-the-trc20-trx-blockchain/) "
      ],
      "text/plain": [
       "<IPython.core.display.Markdown object>"
      ]
     },
     "execution_count": 3,
     "metadata": {},
     "output_type": "execute_result"
    }
   ],
   "source": [
    "#hide_input\n",
    "#md('##### {}'.format(titleBTC)) \n",
    "md(\"- {}{} {}{} [| Skaityti daugiau]({}) \".format(blockchain['title'],'. ', blockchain['body'], ' ...', blockchain['url']))"
   ]
  },
  {
   "cell_type": "code",
   "execution_count": 4,
   "id": "aging-caution",
   "metadata": {
    "execution": {
     "iopub.execute_input": "2022-06-14T03:15:10.093386Z",
     "iopub.status.busy": "2022-06-14T03:15:10.092740Z",
     "iopub.status.idle": "2022-06-14T03:15:10.096231Z",
     "shell.execute_reply": "2022-06-14T03:15:10.095790Z"
    },
    "papermill": {
     "duration": 0.017379,
     "end_time": "2022-06-14T03:15:10.096337",
     "exception": false,
     "start_time": "2022-06-14T03:15:10.078958",
     "status": "completed"
    },
    "tags": []
   },
   "outputs": [
    {
     "data": {
      "text/markdown": [
       "- TA: Bitcoin Drops 20%, Why The Bulls Must Protect $20K.  Bitcoin extended its decline below the $25,000 support against the US Dollar. BTC is down 20% and approaching the key $20,000 support zone. Bitcoin extended its decline below the $23,500 and $22,500 support levels. The price is now trading below the $25,000 level and the 100 hourly simple moving average. There is a connecting bearish trend line forming with resistance near $22,100 on the hourly chart of the BTC/USD pair (data feed from Kraken). The pair must stay above the key $20,000 support zone to avoid more downsides. Bitcoin Price Nosedives Bitcoin price failed to start a recovery wave and extended decline below the $25,000 support zone. The bears gained strength for a move below the $23,500 support zone. The price declined over 20% and even traded below the $22,000 support zone. A new multi-week low is formed near $20,824 and the price is still trading in a strong downtrend. There was a close below the $22,000 level and the 100 hourly simple moving average. Bitcoin is now consolidating near the $21,000 level. An immediate resistance on the upside is near the $21,800 level. The first major resistance is near the $22,000 level. There is also a connecting bearish trend line forming with resistance near $22,100 on the hourly chart of the BTC/USD pair. It is near the 23.6% Fib retracement level of the recent drop from the $28,300 swing high to $20,824 low. Source: BTCUSD on TradingView.com If there is a clear move above the t... ... [| Skaityti daugiau](https://www.newsbtc.com/analysis/btc/bitcoin-drops-20-pc-20k/) "
      ],
      "text/plain": [
       "<IPython.core.display.Markdown object>"
      ]
     },
     "execution_count": 4,
     "metadata": {},
     "output_type": "execute_result"
    }
   ],
   "source": [
    "#hide_input\n",
    "#md('##### {}'.format(titleBTC)) \n",
    "md(\"- {}{} {}{} [| Skaityti daugiau]({}) \".format(btc['title'],'. ', btc['body'], ' ...', btc['url']))"
   ]
  },
  {
   "cell_type": "code",
   "execution_count": 5,
   "id": "organic-actress",
   "metadata": {
    "execution": {
     "iopub.execute_input": "2022-06-14T03:15:10.120502Z",
     "iopub.status.busy": "2022-06-14T03:15:10.119923Z",
     "iopub.status.idle": "2022-06-14T03:15:10.123827Z",
     "shell.execute_reply": "2022-06-14T03:15:10.123361Z"
    },
    "papermill": {
     "duration": 0.017989,
     "end_time": "2022-06-14T03:15:10.123930",
     "exception": false,
     "start_time": "2022-06-14T03:15:10.105941",
     "status": "completed"
    },
    "tags": []
   },
   "outputs": [
    {
     "data": {
      "text/markdown": [
       "- Ripple counsel slams SEC for trying to bulldoze and bankrupt crypto.  “Like a hammer wanting everything to be a nail, the SEC is keeping everything murky so it can argue every crypto is a security,” claims Ripple general counsel Stu Alderoty.  ... [| Skaityti daugiau](https://cointelegraph.com/news/ripple-counsel-slams-sec-for-trying-to-bulldoze-and-bankrupt-crypto) "
      ],
      "text/plain": [
       "<IPython.core.display.Markdown object>"
      ]
     },
     "execution_count": 5,
     "metadata": {},
     "output_type": "execute_result"
    }
   ],
   "source": [
    "#hide_input\n",
    "#md('##### {}'.format(titleBTC)) \n",
    "md(\"- {}{} {}{} [| Skaityti daugiau]({}) \".format(xrp['title'],'. ', xrp['body'], ' ...', xrp['url']))"
   ]
  },
  {
   "cell_type": "code",
   "execution_count": 6,
   "id": "prompt-farmer",
   "metadata": {
    "execution": {
     "iopub.execute_input": "2022-06-14T03:15:10.148945Z",
     "iopub.status.busy": "2022-06-14T03:15:10.148361Z",
     "iopub.status.idle": "2022-06-14T03:15:10.151826Z",
     "shell.execute_reply": "2022-06-14T03:15:10.152298Z"
    },
    "papermill": {
     "duration": 0.018464,
     "end_time": "2022-06-14T03:15:10.152416",
     "exception": false,
     "start_time": "2022-06-14T03:15:10.133952",
     "status": "completed"
    },
    "tags": []
   },
   "outputs": [
    {
     "data": {
      "text/markdown": [
       "- MAXusdt – Cryptocurrency Mining Based On the TRC20 (TRX) Blockchain.  Most people think of cryptocurrency mining as a method of creating new coins. However, cryptocurrency mining also entails validating cryptocurrency transactions on a blockchain network and adding them to a distributed ledger. Most importantly, crypto mining prevents digital currency from being spent twice on a distributed network. When a member spends cryptocurrency, the digital ledger [&#8230;]The post MAXusdt &#8211; Cryptocurrency Mining Based On the TRC20 (TRX) Blockchain appeared first on NullTX. ... [| Skaityti daugiau](https://nulltx.com/maxusdt-cryptocurrency-mining-based-on-the-trc20-trx-blockchain/) "
      ],
      "text/plain": [
       "<IPython.core.display.Markdown object>"
      ]
     },
     "execution_count": 6,
     "metadata": {},
     "output_type": "execute_result"
    }
   ],
   "source": [
    "#hide_input\n",
    "#md('##### {}'.format(titleBTC)) \n",
    "md(\"- {}{} {}{} [| Skaityti daugiau]({}) \".format(trx['title'],'. ', trx['body'], ' ...', trx['url']))"
   ]
  },
  {
   "cell_type": "code",
   "execution_count": 7,
   "id": "illegal-greece",
   "metadata": {
    "execution": {
     "iopub.execute_input": "2022-06-14T03:15:10.177524Z",
     "iopub.status.busy": "2022-06-14T03:15:10.176917Z",
     "iopub.status.idle": "2022-06-14T03:15:10.180564Z",
     "shell.execute_reply": "2022-06-14T03:15:10.180089Z"
    },
    "papermill": {
     "duration": 0.017926,
     "end_time": "2022-06-14T03:15:10.180674",
     "exception": false,
     "start_time": "2022-06-14T03:15:10.162748",
     "status": "completed"
    },
    "tags": []
   },
   "outputs": [
    {
     "data": {
      "text/markdown": [
       "- Bitcoin, Ethereum, Shiba Inu, and Chainlink Daily Price Analyses – 13 June Roundup.  The global crypto market has been unable to see positive signs as the recessive bouts have continued to pull it lower. The changes have continued to affect Bitcoin and Ethereum, the leading giants in the market. The situation might continue to worsen if there is no influx of funds. The volatility has increased for the... ... [| Skaityti daugiau](https://www.cryptopolitan.com/bitcoin-ethereum-shiba-inu-and-chainlink-daily-price-analyses-13-june-roundup/) "
      ],
      "text/plain": [
       "<IPython.core.display.Markdown object>"
      ]
     },
     "execution_count": 7,
     "metadata": {},
     "output_type": "execute_result"
    }
   ],
   "source": [
    "#hide_input\n",
    "#md('##### {}'.format(titleBTC)) \n",
    "md(\"- {}{} {}{} [| Skaityti daugiau]({}) \".format(eth['title'],'. ', eth['body'], ' ...', eth['url']))"
   ]
  },
  {
   "cell_type": "code",
   "execution_count": 8,
   "id": "sublime-lounge",
   "metadata": {
    "execution": {
     "iopub.execute_input": "2022-06-14T03:15:10.206859Z",
     "iopub.status.busy": "2022-06-14T03:15:10.206279Z",
     "iopub.status.idle": "2022-06-14T03:15:10.209626Z",
     "shell.execute_reply": "2022-06-14T03:15:10.209150Z"
    },
    "papermill": {
     "duration": 0.018493,
     "end_time": "2022-06-14T03:15:10.209730",
     "exception": false,
     "start_time": "2022-06-14T03:15:10.191237",
     "status": "completed"
    },
    "tags": []
   },
   "outputs": [
    {
     "data": {
      "text/markdown": [
       "- Cardano Resists Downward Pressure, Can ADA’s Price Push Bears Away?.  Cardano (ADA) has been following the general sentiment in the market. The fifth cryptocurrency in terms of market capitalization has been trending to the downside but at a slower pace than larger cryptocurrencies. Related Reading &#124; Bitcoin Long-Term Holders Realize March 2020-Like Losses As BTC Crashes At the time of writing, Cardano (ADA) trades at $0.48 with a 6% and 14% loss in the 24-hour and 7-day chart, respectively. The second crypto by market cap Ethereum (ETH) records a 30% loss over the same period, Binance Coin (BNB) a 24%, Solana (SOL) a 24% loss, and XRP an 18% loss in the past 7-days. Cardano’s developer Input Output Global (IOG) recently announced two products that could contribute to ADA’s price short-term strength. The company revealed a new wallet called Lace, and the deployment of a new Ethereum Virtual Machine (EVM). Lace is aimed at being Cardano’s new light wallet and to help it gain more adoption. The wallet will provide users with “enhanced capability and ease of use”. IOG said: IOG is developing Lace ‒ a ‘one-stop-shop’ for all blockchain operations. This new platform will be feature-packed, yet lightweight, streamlining online finance. Acting as a portal to Web3.0, Lace will encompass elements of true decentralization. On the other hand, the EVM was deployed on one of Cardano’s testnet. This tool will enable developers to build or migrate their solidity-based applications. Sebastian Guillemot, CT... ... [| Skaityti daugiau](https://www.newsbtc.com/news/cardano/cardano-resists-downward-pressure-can-adas-price-push-bears-away/) "
      ],
      "text/plain": [
       "<IPython.core.display.Markdown object>"
      ]
     },
     "execution_count": 8,
     "metadata": {},
     "output_type": "execute_result"
    }
   ],
   "source": [
    "#hide_input\n",
    "#md('##### {}'.format(titleBTC)) \n",
    "md(\"- {}{} {}{} [| Skaityti daugiau]({}) \".format(ada['title'],'. ', ada['body'], ' ...', ada['url']))"
   ]
  },
  {
   "cell_type": "code",
   "execution_count": 9,
   "id": "specified-ordering",
   "metadata": {
    "execution": {
     "iopub.execute_input": "2022-06-14T03:15:10.237168Z",
     "iopub.status.busy": "2022-06-14T03:15:10.236299Z",
     "iopub.status.idle": "2022-06-14T03:15:10.240625Z",
     "shell.execute_reply": "2022-06-14T03:15:10.240156Z"
    },
    "papermill": {
     "duration": 0.018979,
     "end_time": "2022-06-14T03:15:10.240728",
     "exception": false,
     "start_time": "2022-06-14T03:15:10.221749",
     "status": "completed"
    },
    "tags": []
   },
   "outputs": [
    {
     "data": {
      "text/markdown": [
       "- Binance US Sued Over Promoting, Selling UST and LUNA.  Plaintiffs allege the exchange was unlawfully selling unregistered securities and inaccurately described them as \"safe\" and \"fiat backed.\" ... [| Skaityti daugiau](https://decrypt.co/102813/binance-us-sued-over-promoting-selling-ust-and-luna) "
      ],
      "text/plain": [
       "<IPython.core.display.Markdown object>"
      ]
     },
     "execution_count": 9,
     "metadata": {},
     "output_type": "execute_result"
    }
   ],
   "source": [
    "#hide_input\n",
    "#md('##### {}'.format(titleBTC)) \n",
    "md(\"- {}{} {}{} [| Skaityti daugiau]({}) \".format(exchange['title'],'. ', exchange['body'], ' ...', exchange['url']))"
   ]
  },
  {
   "cell_type": "code",
   "execution_count": null,
   "id": "tender-livestock",
   "metadata": {
    "papermill": {
     "duration": 0.011231,
     "end_time": "2022-06-14T03:15:10.263213",
     "exception": false,
     "start_time": "2022-06-14T03:15:10.251982",
     "status": "completed"
    },
    "tags": []
   },
   "outputs": [],
   "source": []
  },
  {
   "cell_type": "code",
   "execution_count": null,
   "id": "appreciated-diamond",
   "metadata": {
    "papermill": {
     "duration": 0.011238,
     "end_time": "2022-06-14T03:15:10.285858",
     "exception": false,
     "start_time": "2022-06-14T03:15:10.274620",
     "status": "completed"
    },
    "tags": []
   },
   "outputs": [],
   "source": []
  },
  {
   "cell_type": "code",
   "execution_count": null,
   "id": "romance-sweden",
   "metadata": {
    "papermill": {
     "duration": 0.011172,
     "end_time": "2022-06-14T03:15:10.308310",
     "exception": false,
     "start_time": "2022-06-14T03:15:10.297138",
     "status": "completed"
    },
    "tags": []
   },
   "outputs": [],
   "source": []
  },
  {
   "cell_type": "code",
   "execution_count": null,
   "id": "dietary-statistics",
   "metadata": {
    "papermill": {
     "duration": 0.011135,
     "end_time": "2022-06-14T03:15:10.330604",
     "exception": false,
     "start_time": "2022-06-14T03:15:10.319469",
     "status": "completed"
    },
    "tags": []
   },
   "outputs": [],
   "source": []
  }
 ],
 "metadata": {
  "kernelspec": {
   "display_name": "Python 3",
   "language": "python",
   "name": "python3"
  },
  "language_info": {
   "codemirror_mode": {
    "name": "ipython",
    "version": 3
   },
   "file_extension": ".py",
   "mimetype": "text/x-python",
   "name": "python",
   "nbconvert_exporter": "python",
   "pygments_lexer": "ipython3",
   "version": "3.6.15"
  },
  "papermill": {
   "default_parameters": {},
   "duration": 16.43763,
   "end_time": "2022-06-14T03:15:10.760784",
   "environment_variables": {},
   "exception": null,
   "input_path": "Market-News.ipynb",
   "output_path": "Market-News.ipynb",
   "parameters": {},
   "start_time": "2022-06-14T03:14:54.323154",
   "version": "2.2.2"
  }
 },
 "nbformat": 4,
 "nbformat_minor": 5
}