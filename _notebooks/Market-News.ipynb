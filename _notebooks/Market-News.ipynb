{
 "cells": [
  {
   "cell_type": "markdown",
   "id": "short-greensboro",
   "metadata": {
    "papermill": {
     "duration": 0.013485,
     "end_time": "2022-10-22T03:24:54.653285",
     "exception": false,
     "start_time": "2022-10-22T03:24:54.639800",
     "status": "completed"
    },
    "tags": []
   },
   "source": [
    "# Kriptovaliutų naujienos"
   ]
  },
  {
   "cell_type": "code",
   "execution_count": 1,
   "id": "functioning-knowing",
   "metadata": {
    "execution": {
     "iopub.execute_input": "2022-10-22T03:24:54.683429Z",
     "iopub.status.busy": "2022-10-22T03:24:54.682770Z",
     "iopub.status.idle": "2022-10-22T03:24:55.929925Z",
     "shell.execute_reply": "2022-10-22T03:24:55.928905Z"
    },
    "papermill": {
     "duration": 1.266945,
     "end_time": "2022-10-22T03:24:55.930069",
     "exception": false,
     "start_time": "2022-10-22T03:24:54.663124",
     "status": "completed"
    },
    "tags": []
   },
   "outputs": [],
   "source": [
    "#hide_input\n",
    "import warnings\n",
    "warnings.filterwarnings('ignore')\n",
    "from scripts.read_data import read_api\n",
    "from scripts.read_data import read_news\n",
    "from scripts.read_data import read_covid\n",
    "import matplotlib.pyplot as plt \n",
    "from IPython.display import Markdown as md"
   ]
  },
  {
   "cell_type": "code",
   "execution_count": 2,
   "id": "shared-acceptance",
   "metadata": {
    "execution": {
     "iopub.execute_input": "2022-10-22T03:24:55.955474Z",
     "iopub.status.busy": "2022-10-22T03:24:55.954416Z",
     "iopub.status.idle": "2022-10-22T03:25:06.219556Z",
     "shell.execute_reply": "2022-10-22T03:25:06.218616Z"
    },
    "papermill": {
     "duration": 10.280175,
     "end_time": "2022-10-22T03:25:06.219695",
     "exception": false,
     "start_time": "2022-10-22T03:24:55.939520",
     "status": "completed"
    },
    "tags": []
   },
   "outputs": [],
   "source": [
    "#hide_input\n",
    "blockchain = read_news('blockchain') \n",
    "btc = read_news('btc') \n",
    "xrp = read_news('xrp') \n",
    "trx = read_news('trx') \n",
    "eth = read_news('eth')  \n",
    "ada = read_news('ada')\n",
    "exchange = read_news('exchange') "
   ]
  },
  {
   "cell_type": "code",
   "execution_count": 3,
   "id": "synthetic-notion",
   "metadata": {
    "execution": {
     "iopub.execute_input": "2022-10-22T03:25:06.246887Z",
     "iopub.status.busy": "2022-10-22T03:25:06.246209Z",
     "iopub.status.idle": "2022-10-22T03:25:06.249172Z",
     "shell.execute_reply": "2022-10-22T03:25:06.249614Z"
    },
    "papermill": {
     "duration": 0.019169,
     "end_time": "2022-10-22T03:25:06.249743",
     "exception": false,
     "start_time": "2022-10-22T03:25:06.230574",
     "status": "completed"
    },
    "tags": []
   },
   "outputs": [
    {
     "data": {
      "text/markdown": [
       "- Tangem Crypto Hardware Wallet Review (2022).  Cryptocurrency is speedily becoming the future of finance due to its decentralized system of operation, where no intermediaries, banking system or government has absolute control over people&#8217;s funds. The world is already moving to when people now have control over their funds just by having them online, in the blockchain, locked up in a digital [&#8230;]The post Tangem Crypto Hardware Wallet Review (2022) appeared first on NullTX. ... [| Skaityti daugiau](https://nulltx.com/tangem-crypto-hardware-wallet-review-2022/) "
      ],
      "text/plain": [
       "<IPython.core.display.Markdown object>"
      ]
     },
     "execution_count": 3,
     "metadata": {},
     "output_type": "execute_result"
    }
   ],
   "source": [
    "#hide_input\n",
    "#md('##### {}'.format(titleBTC)) \n",
    "md(\"- {}{} {}{} [| Skaityti daugiau]({}) \".format(blockchain['title'],'. ', blockchain['body'], ' ...', blockchain['url']))"
   ]
  },
  {
   "cell_type": "code",
   "execution_count": 4,
   "id": "aging-caution",
   "metadata": {
    "execution": {
     "iopub.execute_input": "2022-10-22T03:25:06.273698Z",
     "iopub.status.busy": "2022-10-22T03:25:06.273089Z",
     "iopub.status.idle": "2022-10-22T03:25:06.276920Z",
     "shell.execute_reply": "2022-10-22T03:25:06.276474Z"
    },
    "papermill": {
     "duration": 0.017908,
     "end_time": "2022-10-22T03:25:06.277029",
     "exception": false,
     "start_time": "2022-10-22T03:25:06.259121",
     "status": "completed"
    },
    "tags": []
   },
   "outputs": [
    {
     "data": {
      "text/markdown": [
       "- Bitcoin, Ethereum, Mina, and Ravencoin Daily Price Analyses – 21 October Roundup.  The global crypto market has seen a positive trend over the last day as the influx of capital continued. The recent changes for Bitcoin, Ethereum, and others show a dominant trend of gains. As the market has changed direction, it has attracted gains. The investors will see a momentary respite as it is clear the &#8230;  Bitcoin, Ethereum, Mina, and Ravencoin Daily Price Analyses – 21 October Roundup Read More &#187; ... [| Skaityti daugiau](https://www.cryptopolitan.com/bitcoin-ethereum-mina-and-ravencoin-daily-price-analyses-21-october-roundup/) "
      ],
      "text/plain": [
       "<IPython.core.display.Markdown object>"
      ]
     },
     "execution_count": 4,
     "metadata": {},
     "output_type": "execute_result"
    }
   ],
   "source": [
    "#hide_input\n",
    "#md('##### {}'.format(titleBTC)) \n",
    "md(\"- {}{} {}{} [| Skaityti daugiau]({}) \".format(btc['title'],'. ', btc['body'], ' ...', btc['url']))"
   ]
  },
  {
   "cell_type": "code",
   "execution_count": 5,
   "id": "organic-actress",
   "metadata": {
    "execution": {
     "iopub.execute_input": "2022-10-22T03:25:06.301715Z",
     "iopub.status.busy": "2022-10-22T03:25:06.301084Z",
     "iopub.status.idle": "2022-10-22T03:25:06.304974Z",
     "shell.execute_reply": "2022-10-22T03:25:06.304526Z"
    },
    "papermill": {
     "duration": 0.018449,
     "end_time": "2022-10-22T03:25:06.305087",
     "exception": false,
     "start_time": "2022-10-22T03:25:06.286638",
     "status": "completed"
    },
    "tags": []
   },
   "outputs": [
    {
     "data": {
      "text/markdown": [
       "- Ripple CEO Calls SEC’s Behavior ‘Shocking’ After Regulator Forced To Release New Details in Landmark Crypto Lawsuit.  The chief executive of Ripple Labs says that the U.S. Securities and Exchange Commission’s (SEC) behavior is shocking after the regulatory body was forced to release new details in its case against XRP. Ripple CEO Brad Garlinghouse tells his 665,500 Twitter followers that the SEC’s actions have been shameful and shocking and that the agency [&#8230;]The post Ripple CEO Calls SEC&#8217;s Behavior &#8216;Shocking&#8217; After Regulator Forced To Release New Details in Landmark Crypto Lawsuit appeared first on The Daily Hodl. ... [| Skaityti daugiau](https://dailyhodl.com/2022/10/21/ripple-ceo-calls-secs-behavior-shocking-after-regulator-forced-to-release-new-details-in-landmark-crypto-lawsuit/) "
      ],
      "text/plain": [
       "<IPython.core.display.Markdown object>"
      ]
     },
     "execution_count": 5,
     "metadata": {},
     "output_type": "execute_result"
    }
   ],
   "source": [
    "#hide_input\n",
    "#md('##### {}'.format(titleBTC)) \n",
    "md(\"- {}{} {}{} [| Skaityti daugiau]({}) \".format(xrp['title'],'. ', xrp['body'], ' ...', xrp['url']))"
   ]
  },
  {
   "cell_type": "code",
   "execution_count": 6,
   "id": "prompt-farmer",
   "metadata": {
    "execution": {
     "iopub.execute_input": "2022-10-22T03:25:06.330391Z",
     "iopub.status.busy": "2022-10-22T03:25:06.329781Z",
     "iopub.status.idle": "2022-10-22T03:25:06.332952Z",
     "shell.execute_reply": "2022-10-22T03:25:06.333496Z"
    },
    "papermill": {
     "duration": 0.018496,
     "end_time": "2022-10-22T03:25:06.333622",
     "exception": false,
     "start_time": "2022-10-22T03:25:06.315126",
     "status": "completed"
    },
    "tags": []
   },
   "outputs": [
    {
     "data": {
      "text/markdown": [
       "- Tron Development Activity Grows In The Last 7 Days – Except TRX Price.  Tron (TRX) welcomed the second week of this month with the news of its coin becoming a legal tender in the Commonwealth of Dominica announced by no less than its blockchain founder, Justin Sun. Technical indicators for TRON are confusing as of this time TRX could surge all the way to $0.0678 after 30 days Tron network’s development activity surges over the last few days With the development, the crypto, along with other Tron minted coins such as BTT, JST, NFT, USDD, USDT and TUSD, can now be used as medium of exchange within the island nation. Meanwhile, just last September, Sun shared on Twitter that since October 28, 2021, the total number of burned TRX tokens reached 11 billion, dropping the asset’s supply to 71.6 billion. The 15th largest cryptocurrency in terms of market capitalization also recently racked up another achievement, placing 3rd on the list of the most influential BTTs over the last 30 days. BTTs are TRC-20 utility tokens used for powering various features of different decentralized applications and programs. But even with all of these accomplishments, TRX failed to make any significant rally to push its prices to higher levels. TRX Price Still Unable To Take Off At press time, according to data from Coingecko, TRON is trading at $0.0623 and although it is up by 2.2% over the last seven days and by 4.3% for the past 30 days. Related Reading: AVAX Sheds 50% Over The Last 60 Days – More Losses Ahead? Source: Tr... ... [| Skaityti daugiau](https://www.newsbtc.com/news/tron-development-activity-grows-in-the-last-7-days-except-trx-price/) "
      ],
      "text/plain": [
       "<IPython.core.display.Markdown object>"
      ]
     },
     "execution_count": 6,
     "metadata": {},
     "output_type": "execute_result"
    }
   ],
   "source": [
    "#hide_input\n",
    "#md('##### {}'.format(titleBTC)) \n",
    "md(\"- {}{} {}{} [| Skaityti daugiau]({}) \".format(trx['title'],'. ', trx['body'], ' ...', trx['url']))"
   ]
  },
  {
   "cell_type": "code",
   "execution_count": 7,
   "id": "illegal-greece",
   "metadata": {
    "execution": {
     "iopub.execute_input": "2022-10-22T03:25:06.359972Z",
     "iopub.status.busy": "2022-10-22T03:25:06.359365Z",
     "iopub.status.idle": "2022-10-22T03:25:06.362866Z",
     "shell.execute_reply": "2022-10-22T03:25:06.362280Z"
    },
    "papermill": {
     "duration": 0.018776,
     "end_time": "2022-10-22T03:25:06.362979",
     "exception": false,
     "start_time": "2022-10-22T03:25:06.344203",
     "status": "completed"
    },
    "tags": []
   },
   "outputs": [
    {
     "data": {
      "text/markdown": [
       "- Bitcoin, Ethereum, Mina, and Ravencoin Daily Price Analyses – 21 October Roundup.  The global crypto market has seen a positive trend over the last day as the influx of capital continued. The recent changes for Bitcoin, Ethereum, and others show a dominant trend of gains. As the market has changed direction, it has attracted gains. The investors will see a momentary respite as it is clear the &#8230;  Bitcoin, Ethereum, Mina, and Ravencoin Daily Price Analyses – 21 October Roundup Read More &#187; ... [| Skaityti daugiau](https://www.cryptopolitan.com/bitcoin-ethereum-mina-and-ravencoin-daily-price-analyses-21-october-roundup/) "
      ],
      "text/plain": [
       "<IPython.core.display.Markdown object>"
      ]
     },
     "execution_count": 7,
     "metadata": {},
     "output_type": "execute_result"
    }
   ],
   "source": [
    "#hide_input\n",
    "#md('##### {}'.format(titleBTC)) \n",
    "md(\"- {}{} {}{} [| Skaityti daugiau]({}) \".format(eth['title'],'. ', eth['body'], ' ...', eth['url']))"
   ]
  },
  {
   "cell_type": "code",
   "execution_count": 8,
   "id": "sublime-lounge",
   "metadata": {
    "execution": {
     "iopub.execute_input": "2022-10-22T03:25:06.391187Z",
     "iopub.status.busy": "2022-10-22T03:25:06.390602Z",
     "iopub.status.idle": "2022-10-22T03:25:06.393883Z",
     "shell.execute_reply": "2022-10-22T03:25:06.393413Z"
    },
    "papermill": {
     "duration": 0.01916,
     "end_time": "2022-10-22T03:25:06.393994",
     "exception": false,
     "start_time": "2022-10-22T03:25:06.374834",
     "status": "completed"
    },
    "tags": []
   },
   "outputs": [
    {
     "data": {
      "text/markdown": [
       "- Can Cardano [ADA] beat the bear market blues? Stakers have the answer.  Cardano seemed to be on its way to prosperity after the Vasil hardfork. However, sadly, things took a turn for the worse as ADA failed to hike on the price charts. Many traders took to selling and investors&#8217; sentiment started dwindling. But despite ADA&#8217;s woes, its stakers, continued to show support. Here’s AMBCrypto’s Price Prediction [&#8230;] ... [| Skaityti daugiau](https://ambcrypto.com/can-cardano-ada-beat-the-bear-market-blues-stakers-have-the-answer/) "
      ],
      "text/plain": [
       "<IPython.core.display.Markdown object>"
      ]
     },
     "execution_count": 8,
     "metadata": {},
     "output_type": "execute_result"
    }
   ],
   "source": [
    "#hide_input\n",
    "#md('##### {}'.format(titleBTC)) \n",
    "md(\"- {}{} {}{} [| Skaityti daugiau]({}) \".format(ada['title'],'. ', ada['body'], ' ...', ada['url']))"
   ]
  },
  {
   "cell_type": "code",
   "execution_count": 9,
   "id": "specified-ordering",
   "metadata": {
    "execution": {
     "iopub.execute_input": "2022-10-22T03:25:06.421819Z",
     "iopub.status.busy": "2022-10-22T03:25:06.421222Z",
     "iopub.status.idle": "2022-10-22T03:25:06.424481Z",
     "shell.execute_reply": "2022-10-22T03:25:06.424002Z"
    },
    "papermill": {
     "duration": 0.019564,
     "end_time": "2022-10-22T03:25:06.424593",
     "exception": false,
     "start_time": "2022-10-22T03:25:06.405029",
     "status": "completed"
    },
    "tags": []
   },
   "outputs": [
    {
     "data": {
      "text/markdown": [
       "- Relictum Pro Thrives in Bear Market with Its Token Price Surging 4 Times.  PRESS RELEASE. After being listed on LBank Exchange on September 29, 2022, Genesis Token (GTN), the native token of Relictum Pro, has been witnessed by investors with an impressive 4 times price surging, indicating the great potential of the project has been further recognized by global crypto community. The global expansion of Relictum Pro continues [&#8230;] ... [| Skaityti daugiau](https://news.bitcoin.com/relictum-pro-thrives-in-bear-market-with-its-token-price-surging-4-times/) "
      ],
      "text/plain": [
       "<IPython.core.display.Markdown object>"
      ]
     },
     "execution_count": 9,
     "metadata": {},
     "output_type": "execute_result"
    }
   ],
   "source": [
    "#hide_input\n",
    "#md('##### {}'.format(titleBTC)) \n",
    "md(\"- {}{} {}{} [| Skaityti daugiau]({}) \".format(exchange['title'],'. ', exchange['body'], ' ...', exchange['url']))"
   ]
  },
  {
   "cell_type": "code",
   "execution_count": null,
   "id": "tender-livestock",
   "metadata": {
    "papermill": {
     "duration": 0.016366,
     "end_time": "2022-10-22T03:25:06.452295",
     "exception": false,
     "start_time": "2022-10-22T03:25:06.435929",
     "status": "completed"
    },
    "tags": []
   },
   "outputs": [],
   "source": []
  },
  {
   "cell_type": "code",
   "execution_count": null,
   "id": "appreciated-diamond",
   "metadata": {
    "papermill": {
     "duration": 0.01137,
     "end_time": "2022-10-22T03:25:06.475191",
     "exception": false,
     "start_time": "2022-10-22T03:25:06.463821",
     "status": "completed"
    },
    "tags": []
   },
   "outputs": [],
   "source": []
  },
  {
   "cell_type": "code",
   "execution_count": null,
   "id": "romance-sweden",
   "metadata": {
    "papermill": {
     "duration": 0.011462,
     "end_time": "2022-10-22T03:25:06.498039",
     "exception": false,
     "start_time": "2022-10-22T03:25:06.486577",
     "status": "completed"
    },
    "tags": []
   },
   "outputs": [],
   "source": []
  },
  {
   "cell_type": "code",
   "execution_count": null,
   "id": "dietary-statistics",
   "metadata": {
    "papermill": {
     "duration": 0.01122,
     "end_time": "2022-10-22T03:25:06.520720",
     "exception": false,
     "start_time": "2022-10-22T03:25:06.509500",
     "status": "completed"
    },
    "tags": []
   },
   "outputs": [],
   "source": []
  }
 ],
 "metadata": {
  "kernelspec": {
   "display_name": "Python 3",
   "language": "python",
   "name": "python3"
  },
  "language_info": {
   "codemirror_mode": {
    "name": "ipython",
    "version": 3
   },
   "file_extension": ".py",
   "mimetype": "text/x-python",
   "name": "python",
   "nbconvert_exporter": "python",
   "pygments_lexer": "ipython3",
   "version": "3.6.15"
  },
  "papermill": {
   "default_parameters": {},
   "duration": 13.445508,
   "end_time": "2022-10-22T03:25:07.051165",
   "environment_variables": {},
   "exception": null,
   "input_path": "Market-News.ipynb",
   "output_path": "Market-News.ipynb",
   "parameters": {},
   "start_time": "2022-10-22T03:24:53.605657",
   "version": "2.2.2"
  }
 },
 "nbformat": 4,
 "nbformat_minor": 5
}