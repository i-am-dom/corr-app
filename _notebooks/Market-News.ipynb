{
 "cells": [
  {
   "cell_type": "markdown",
   "id": "short-greensboro",
   "metadata": {
    "papermill": {
     "duration": 0.013297,
     "end_time": "2022-02-15T02:11:10.556432",
     "exception": false,
     "start_time": "2022-02-15T02:11:10.543135",
     "status": "completed"
    },
    "tags": []
   },
   "source": [
    "# Kriptovaliutų naujienos"
   ]
  },
  {
   "cell_type": "code",
   "execution_count": 1,
   "id": "functioning-knowing",
   "metadata": {
    "execution": {
     "iopub.execute_input": "2022-02-15T02:11:10.590626Z",
     "iopub.status.busy": "2022-02-15T02:11:10.590056Z",
     "iopub.status.idle": "2022-02-15T02:11:11.929814Z",
     "shell.execute_reply": "2022-02-15T02:11:11.929227Z"
    },
    "papermill": {
     "duration": 1.363593,
     "end_time": "2022-02-15T02:11:11.929982",
     "exception": false,
     "start_time": "2022-02-15T02:11:10.566389",
     "status": "completed"
    },
    "tags": []
   },
   "outputs": [],
   "source": [
    "#hide_input\n",
    "import warnings\n",
    "warnings.filterwarnings('ignore')\n",
    "from scripts.read_data import read_api\n",
    "from scripts.read_data import read_news\n",
    "from scripts.read_data import read_covid\n",
    "import matplotlib.pyplot as plt \n",
    "from IPython.display import Markdown as md"
   ]
  },
  {
   "cell_type": "code",
   "execution_count": 2,
   "id": "shared-acceptance",
   "metadata": {
    "execution": {
     "iopub.execute_input": "2022-02-15T02:11:11.956457Z",
     "iopub.status.busy": "2022-02-15T02:11:11.955456Z",
     "iopub.status.idle": "2022-02-15T02:11:20.235170Z",
     "shell.execute_reply": "2022-02-15T02:11:20.234226Z"
    },
    "papermill": {
     "duration": 8.295541,
     "end_time": "2022-02-15T02:11:20.235322",
     "exception": false,
     "start_time": "2022-02-15T02:11:11.939781",
     "status": "completed"
    },
    "tags": []
   },
   "outputs": [],
   "source": [
    "#hide_input\n",
    "blockchain = read_news('blockchain') \n",
    "btc = read_news('btc') \n",
    "xrp = read_news('xrp') \n",
    "trx = read_news('trx') \n",
    "eth = read_news('eth')  \n",
    "ada = read_news('ada')\n",
    "exchange = read_news('exchange') "
   ]
  },
  {
   "cell_type": "code",
   "execution_count": 3,
   "id": "synthetic-notion",
   "metadata": {
    "execution": {
     "iopub.execute_input": "2022-02-15T02:11:20.260551Z",
     "iopub.status.busy": "2022-02-15T02:11:20.259978Z",
     "iopub.status.idle": "2022-02-15T02:11:20.264550Z",
     "shell.execute_reply": "2022-02-15T02:11:20.264957Z"
    },
    "papermill": {
     "duration": 0.020391,
     "end_time": "2022-02-15T02:11:20.265097",
     "exception": false,
     "start_time": "2022-02-15T02:11:20.244706",
     "status": "completed"
    },
    "tags": []
   },
   "outputs": [
    {
     "data": {
      "text/markdown": [
       "- AscendEX Lists Ariva, ARV.  AscendEX is excited to announce the Listing of the Ariva token (ARV) under the trading pair (ARV/USDT) starting on Feb. 15 at 2 p.m. UTC. Ariva.World represents the new generation of decentralized travel &#38; tourism featuring a portal powered by Binance Smart Chain. ARIVA (ARV) is the token launched by Ariva Co., created for active [&#8230;]The post AscendEX Lists Ariva, ARV appeared first on Blockchain, Crypto and Stock News. ... [| Skaityti daugiau](https://thecoinrise.com/ascendex-lists-ariva-arv/) "
      ],
      "text/plain": [
       "<IPython.core.display.Markdown object>"
      ]
     },
     "execution_count": 3,
     "metadata": {},
     "output_type": "execute_result"
    }
   ],
   "source": [
    "#hide_input\n",
    "#md('##### {}'.format(titleBTC)) \n",
    "md(\"- {}{} {}{} [| Skaityti daugiau]({}) \".format(blockchain['title'],'. ', blockchain['body'], ' ...', blockchain['url']))"
   ]
  },
  {
   "cell_type": "code",
   "execution_count": 4,
   "id": "aging-caution",
   "metadata": {
    "execution": {
     "iopub.execute_input": "2022-02-15T02:11:20.291075Z",
     "iopub.status.busy": "2022-02-15T02:11:20.289819Z",
     "iopub.status.idle": "2022-02-15T02:11:20.293359Z",
     "shell.execute_reply": "2022-02-15T02:11:20.292837Z"
    },
    "papermill": {
     "duration": 0.018759,
     "end_time": "2022-02-15T02:11:20.293494",
     "exception": false,
     "start_time": "2022-02-15T02:11:20.274735",
     "status": "completed"
    },
    "tags": []
   },
   "outputs": [
    {
     "data": {
      "text/markdown": [
       "- Bitcoin ($BTC) Has Significant ‘Upside Potential’, Says Fidelity’s Head of Research.  The head of research at Fidelity Digital Assets, Chris Kuiper, has recently argued that the flagship cryptocurrency bitcoin ($BTC) still has significant “upside potential,” while being a less risky investment because of its 13-year track record. In an interview with Cointelegraph made shortly after Fidelity published a report titled “Bitcoin First” where it targets concerns […] ... [| Skaityti daugiau](https://www.cryptoglobe.com/latest/2022/02/bitcoin-btc-has-significant-upside-potential-says-fidelitys-head-of-research/) "
      ],
      "text/plain": [
       "<IPython.core.display.Markdown object>"
      ]
     },
     "execution_count": 4,
     "metadata": {},
     "output_type": "execute_result"
    }
   ],
   "source": [
    "#hide_input\n",
    "#md('##### {}'.format(titleBTC)) \n",
    "md(\"- {}{} {}{} [| Skaityti daugiau]({}) \".format(btc['title'],'. ', btc['body'], ' ...', btc['url']))"
   ]
  },
  {
   "cell_type": "code",
   "execution_count": 5,
   "id": "organic-actress",
   "metadata": {
    "execution": {
     "iopub.execute_input": "2022-02-15T02:11:20.318408Z",
     "iopub.status.busy": "2022-02-15T02:11:20.317866Z",
     "iopub.status.idle": "2022-02-15T02:11:20.323006Z",
     "shell.execute_reply": "2022-02-15T02:11:20.323392Z"
    },
    "papermill": {
     "duration": 0.020173,
     "end_time": "2022-02-15T02:11:20.323537",
     "exception": false,
     "start_time": "2022-02-15T02:11:20.303364",
     "status": "completed"
    },
    "tags": []
   },
   "outputs": [
    {
     "data": {
      "text/markdown": [
       "- These Two Altcoins Are Ready For Major Pullback, Says Crypto Analyst.  Altcoins have been closely following the movement of bitcoin over the last few weeks but this is no surprise. However, there are times when these altcoins are able to break out of the shadow of the pioneer cryptocurrency and make out a rally for themselves. This is referred to as altcoin season. But while the crypto market waits for this to begin, an analyst has mapped out two assets that may see major upside in the coming days. Two Altcoins Are Ready A crypto market strategist has put forward two altcoins that they believe are headed for a rally. Credible, a pseudonymous analyst with over 300K followers on Twitter, laid out their analysis for the digital assets. These assets are Ripple (XRP) and Hedera Hashgraph (HBAR), a DeFi token that has been making the rounds in the space. Relaed Reading &#124; Maximize Your Crypto Holdings With High Yield Farming On BNB100X Ripple (XRP) is just coming out of its legal battle with the SEC, and although it is still ongoing, the altcoin has begun to find its footing outside of the scandal. It trended low for the longest time, causing investors to believe that the cryptocurrency may be headed for death. But it has proved everyone wrong as it has once again begun to rally towards $1, even though it hasn’t quite made it yet. XRP recovers to $0.8 &#124; Source: XRPUSD on TradingView.com For what will push the digital asset above the coveted $1 mark, Credible explains that a bounce is imminent ... ... [| Skaityti daugiau](https://www.newsbtc.com/analysis/xrp/these-two-altcoins-are-ready-for-major-pullback-says-crypto-analyst/) "
      ],
      "text/plain": [
       "<IPython.core.display.Markdown object>"
      ]
     },
     "execution_count": 5,
     "metadata": {},
     "output_type": "execute_result"
    }
   ],
   "source": [
    "#hide_input\n",
    "#md('##### {}'.format(titleBTC)) \n",
    "md(\"- {}{} {}{} [| Skaityti daugiau]({}) \".format(xrp['title'],'. ', xrp['body'], ' ...', xrp['url']))"
   ]
  },
  {
   "cell_type": "code",
   "execution_count": 6,
   "id": "prompt-farmer",
   "metadata": {
    "execution": {
     "iopub.execute_input": "2022-02-15T02:11:20.350986Z",
     "iopub.status.busy": "2022-02-15T02:11:20.349715Z",
     "iopub.status.idle": "2022-02-15T02:11:20.353241Z",
     "shell.execute_reply": "2022-02-15T02:11:20.352722Z"
    },
    "papermill": {
     "duration": 0.01957,
     "end_time": "2022-02-15T02:11:20.353375",
     "exception": false,
     "start_time": "2022-02-15T02:11:20.333805",
     "status": "completed"
    },
    "tags": []
   },
   "outputs": [
    {
     "data": {
      "text/markdown": [
       "- TRON Grand Hackathon 2022 Has Officially Begun, Will TRX Hit New ATH?.  $500K is offered to encourage more entrepreneurs &#38; developers. The TRON Grand Hackathon provides a platform for new talent toThe post has appeared first on thenewscrypto.com ... [| Skaityti daugiau](https://thenewscrypto.com/tron-grand-hackathon-2022-has-officially-begun-will-trx-hit-new-ath/) "
      ],
      "text/plain": [
       "<IPython.core.display.Markdown object>"
      ]
     },
     "execution_count": 6,
     "metadata": {},
     "output_type": "execute_result"
    }
   ],
   "source": [
    "#hide_input\n",
    "#md('##### {}'.format(titleBTC)) \n",
    "md(\"- {}{} {}{} [| Skaityti daugiau]({}) \".format(trx['title'],'. ', trx['body'], ' ...', trx['url']))"
   ]
  },
  {
   "cell_type": "code",
   "execution_count": 7,
   "id": "illegal-greece",
   "metadata": {
    "execution": {
     "iopub.execute_input": "2022-02-15T02:11:20.381260Z",
     "iopub.status.busy": "2022-02-15T02:11:20.380669Z",
     "iopub.status.idle": "2022-02-15T02:11:20.383306Z",
     "shell.execute_reply": "2022-02-15T02:11:20.383713Z"
    },
    "papermill": {
     "duration": 0.019473,
     "end_time": "2022-02-15T02:11:20.383849",
     "exception": false,
     "start_time": "2022-02-15T02:11:20.364376",
     "status": "completed"
    },
    "tags": []
   },
   "outputs": [
    {
     "data": {
      "text/markdown": [
       "- Will Ethereum Hit $7k This Year? Finder’s Panel Says Yes.  Ethereum has been one of the greatest performers among the leading crypto currencies in 2021, with a price increase of about 330 percent over the course of the year. However, after hitting a new high of $4,847 in early November 2021, the price of ETH plummeted by more than 70% in January 2022. Ethereum Poised For $7k? While ETH&#8217;s great ROI and strong trajectory led to a lot of high price projections for the coin&#8217;s future, many of those were invalidated by the recent downturn. On January 24, prospects of a huge rise to a new ATH seemed to disappear when the overall crypto market crashed under the $1.5 trillion barrier. Nonetheless, given Finder&#8217;s projection of an Ethereum year-end price close above $7000, these hopes were reignited recently. Starting this year, Ethereum&#8217;s price, like the rest of the crypto market, appeared to be on its knees, with lows at $3673. For the time being, Ethereum&#8217;s 2022 trajectory appears to be primarily bearish, with the asset now trading at $2,919 at press time. ETH/USD trades at $2,900. Source: TradingView Despite the recent drop, Ethereum&#8217;s price is predicted to hit $7,609 this year, according to Australian fintech Finder&#8217;s panel of 33 crypto experts, before ending the year at approximately $6,500. Intriguingly, the firm&#8217;s recent estimates for 2025 and 2030 were 30% and 48% lower, respectively, than its predictions from October last year. ETH price ... ... [| Skaityti daugiau](https://www.newsbtc.com/news/ethereum/will-ethereum-hit-7k-this-year-finders-panel-says-yes/) "
      ],
      "text/plain": [
       "<IPython.core.display.Markdown object>"
      ]
     },
     "execution_count": 7,
     "metadata": {},
     "output_type": "execute_result"
    }
   ],
   "source": [
    "#hide_input\n",
    "#md('##### {}'.format(titleBTC)) \n",
    "md(\"- {}{} {}{} [| Skaityti daugiau]({}) \".format(eth['title'],'. ', eth['body'], ' ...', eth['url']))"
   ]
  },
  {
   "cell_type": "code",
   "execution_count": 8,
   "id": "sublime-lounge",
   "metadata": {
    "execution": {
     "iopub.execute_input": "2022-02-15T02:11:20.410896Z",
     "iopub.status.busy": "2022-02-15T02:11:20.410299Z",
     "iopub.status.idle": "2022-02-15T02:11:20.414566Z",
     "shell.execute_reply": "2022-02-15T02:11:20.414953Z"
    },
    "papermill": {
     "duration": 0.020528,
     "end_time": "2022-02-15T02:11:20.415096",
     "exception": false,
     "start_time": "2022-02-15T02:11:20.394568",
     "status": "completed"
    },
    "tags": []
   },
   "outputs": [
    {
     "data": {
      "text/markdown": [
       "- Cardano announces the doubling of rewards for hackers to spot possible vulnerabilities.  The Cardano Foundation has announced the doubling of rewards for hackers who can unearth vulnerabilities on the network. The foundation...  Continue reading  The post Cardano announces the doubling of rewards for hackers to spot possible vulnerabilities appeared first on Finbold. ... [| Skaityti daugiau](https://finbold.com/cardano-announces-the-doubling-of-rewards-for-hackers-to-spot-possible-vulnerabilities/) "
      ],
      "text/plain": [
       "<IPython.core.display.Markdown object>"
      ]
     },
     "execution_count": 8,
     "metadata": {},
     "output_type": "execute_result"
    }
   ],
   "source": [
    "#hide_input\n",
    "#md('##### {}'.format(titleBTC)) \n",
    "md(\"- {}{} {}{} [| Skaityti daugiau]({}) \".format(ada['title'],'. ', ada['body'], ' ...', ada['url']))"
   ]
  },
  {
   "cell_type": "code",
   "execution_count": 9,
   "id": "specified-ordering",
   "metadata": {
    "execution": {
     "iopub.execute_input": "2022-02-15T02:11:20.443594Z",
     "iopub.status.busy": "2022-02-15T02:11:20.441824Z",
     "iopub.status.idle": "2022-02-15T02:11:20.445760Z",
     "shell.execute_reply": "2022-02-15T02:11:20.446207Z"
    },
    "papermill": {
     "duration": 0.020053,
     "end_time": "2022-02-15T02:11:20.446348",
     "exception": false,
     "start_time": "2022-02-15T02:11:20.426295",
     "status": "completed"
    },
    "tags": []
   },
   "outputs": [
    {
     "data": {
      "text/markdown": [
       "- AscendEX Lists Ariva, ARV.  AscendEX is excited to announce the Listing of the Ariva token (ARV) under the trading pair (ARV/USDT) starting on Feb. 15 at 2 p.m. UTC. Ariva.World represents the new generation of decentralized travel &#38; tourism featuring a portal powered by Binance Smart Chain. ARIVA (ARV) is the token launched by Ariva Co., created for active [&#8230;]The post AscendEX Lists Ariva, ARV appeared first on Blockchain, Crypto and Stock News. ... [| Skaityti daugiau](https://thecoinrise.com/ascendex-lists-ariva-arv/) "
      ],
      "text/plain": [
       "<IPython.core.display.Markdown object>"
      ]
     },
     "execution_count": 9,
     "metadata": {},
     "output_type": "execute_result"
    }
   ],
   "source": [
    "#hide_input\n",
    "#md('##### {}'.format(titleBTC)) \n",
    "md(\"- {}{} {}{} [| Skaityti daugiau]({}) \".format(exchange['title'],'. ', exchange['body'], ' ...', exchange['url']))"
   ]
  },
  {
   "cell_type": "code",
   "execution_count": null,
   "id": "tender-livestock",
   "metadata": {
    "papermill": {
     "duration": 0.01147,
     "end_time": "2022-02-15T02:11:20.469211",
     "exception": false,
     "start_time": "2022-02-15T02:11:20.457741",
     "status": "completed"
    },
    "tags": []
   },
   "outputs": [],
   "source": []
  },
  {
   "cell_type": "code",
   "execution_count": null,
   "id": "appreciated-diamond",
   "metadata": {
    "papermill": {
     "duration": 0.011375,
     "end_time": "2022-02-15T02:11:20.492230",
     "exception": false,
     "start_time": "2022-02-15T02:11:20.480855",
     "status": "completed"
    },
    "tags": []
   },
   "outputs": [],
   "source": []
  },
  {
   "cell_type": "code",
   "execution_count": null,
   "id": "romance-sweden",
   "metadata": {
    "papermill": {
     "duration": 0.011408,
     "end_time": "2022-02-15T02:11:20.516121",
     "exception": false,
     "start_time": "2022-02-15T02:11:20.504713",
     "status": "completed"
    },
    "tags": []
   },
   "outputs": [],
   "source": []
  },
  {
   "cell_type": "code",
   "execution_count": null,
   "id": "dietary-statistics",
   "metadata": {
    "papermill": {
     "duration": 0.011452,
     "end_time": "2022-02-15T02:11:20.539000",
     "exception": false,
     "start_time": "2022-02-15T02:11:20.527548",
     "status": "completed"
    },
    "tags": []
   },
   "outputs": [],
   "source": []
  }
 ],
 "metadata": {
  "kernelspec": {
   "display_name": "Python 3",
   "language": "python",
   "name": "python3"
  },
  "language_info": {
   "codemirror_mode": {
    "name": "ipython",
    "version": 3
   },
   "file_extension": ".py",
   "mimetype": "text/x-python",
   "name": "python",
   "nbconvert_exporter": "python",
   "pygments_lexer": "ipython3",
   "version": "3.6.15"
  },
  "papermill": {
   "default_parameters": {},
   "duration": 11.586069,
   "end_time": "2022-02-15T02:11:21.070768",
   "environment_variables": {},
   "exception": null,
   "input_path": "Market-News.ipynb",
   "output_path": "Market-News.ipynb",
   "parameters": {},
   "start_time": "2022-02-15T02:11:09.484699",
   "version": "2.2.2"
  }
 },
 "nbformat": 4,
 "nbformat_minor": 5
}