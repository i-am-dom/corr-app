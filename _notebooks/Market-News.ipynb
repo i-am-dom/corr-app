{
 "cells": [
  {
   "cell_type": "markdown",
   "id": "short-greensboro",
   "metadata": {
    "papermill": {
     "duration": 0.016997,
     "end_time": "2022-03-11T02:19:01.748893",
     "exception": false,
     "start_time": "2022-03-11T02:19:01.731896",
     "status": "completed"
    },
    "tags": []
   },
   "source": [
    "# Kriptovaliutų naujienos"
   ]
  },
  {
   "cell_type": "code",
   "execution_count": 1,
   "id": "functioning-knowing",
   "metadata": {
    "execution": {
     "iopub.execute_input": "2022-03-11T02:19:01.784695Z",
     "iopub.status.busy": "2022-03-11T02:19:01.783964Z",
     "iopub.status.idle": "2022-03-11T02:19:03.423380Z",
     "shell.execute_reply": "2022-03-11T02:19:03.423940Z"
    },
    "papermill": {
     "duration": 1.66333,
     "end_time": "2022-03-11T02:19:03.424143",
     "exception": false,
     "start_time": "2022-03-11T02:19:01.760813",
     "status": "completed"
    },
    "tags": []
   },
   "outputs": [],
   "source": [
    "#hide_input\n",
    "import warnings\n",
    "warnings.filterwarnings('ignore')\n",
    "from scripts.read_data import read_api\n",
    "from scripts.read_data import read_news\n",
    "from scripts.read_data import read_covid\n",
    "import matplotlib.pyplot as plt \n",
    "from IPython.display import Markdown as md"
   ]
  },
  {
   "cell_type": "code",
   "execution_count": 2,
   "id": "shared-acceptance",
   "metadata": {
    "execution": {
     "iopub.execute_input": "2022-03-11T02:19:03.456563Z",
     "iopub.status.busy": "2022-03-11T02:19:03.455916Z",
     "iopub.status.idle": "2022-03-11T02:19:13.312025Z",
     "shell.execute_reply": "2022-03-11T02:19:13.311427Z"
    },
    "papermill": {
     "duration": 9.874492,
     "end_time": "2022-03-11T02:19:13.312175",
     "exception": false,
     "start_time": "2022-03-11T02:19:03.437683",
     "status": "completed"
    },
    "tags": []
   },
   "outputs": [],
   "source": [
    "#hide_input\n",
    "blockchain = read_news('blockchain') \n",
    "btc = read_news('btc') \n",
    "xrp = read_news('xrp') \n",
    "trx = read_news('trx') \n",
    "eth = read_news('eth')  \n",
    "ada = read_news('ada')\n",
    "exchange = read_news('exchange') "
   ]
  },
  {
   "cell_type": "code",
   "execution_count": 3,
   "id": "synthetic-notion",
   "metadata": {
    "execution": {
     "iopub.execute_input": "2022-03-11T02:19:13.351953Z",
     "iopub.status.busy": "2022-03-11T02:19:13.351242Z",
     "iopub.status.idle": "2022-03-11T02:19:13.354440Z",
     "shell.execute_reply": "2022-03-11T02:19:13.354997Z"
    },
    "papermill": {
     "duration": 0.024642,
     "end_time": "2022-03-11T02:19:13.355148",
     "exception": false,
     "start_time": "2022-03-11T02:19:13.330506",
     "status": "completed"
    },
    "tags": []
   },
   "outputs": [
    {
     "data": {
      "text/markdown": [
       "- Princeton launches blockchain research initiative with $20M from crypto-alumni.  The university hopes to discover new use cases for blockchain technology with a donation made by four alumni including Mike Novogratz and Joe Lubin. ... [| Skaityti daugiau](https://cointelegraph.com/news/princeton-launches-blockchain-research-initiative-with-20m-from-crypto-alumni) "
      ],
      "text/plain": [
       "<IPython.core.display.Markdown object>"
      ]
     },
     "execution_count": 3,
     "metadata": {},
     "output_type": "execute_result"
    }
   ],
   "source": [
    "#hide_input\n",
    "#md('##### {}'.format(titleBTC)) \n",
    "md(\"- {}{} {}{} [| Skaityti daugiau]({}) \".format(blockchain['title'],'. ', blockchain['body'], ' ...', blockchain['url']))"
   ]
  },
  {
   "cell_type": "code",
   "execution_count": 4,
   "id": "aging-caution",
   "metadata": {
    "execution": {
     "iopub.execute_input": "2022-03-11T02:19:13.388119Z",
     "iopub.status.busy": "2022-03-11T02:19:13.387201Z",
     "iopub.status.idle": "2022-03-11T02:19:13.392863Z",
     "shell.execute_reply": "2022-03-11T02:19:13.392355Z"
    },
    "papermill": {
     "duration": 0.025086,
     "end_time": "2022-03-11T02:19:13.392990",
     "exception": false,
     "start_time": "2022-03-11T02:19:13.367904",
     "status": "completed"
    },
    "tags": []
   },
   "outputs": [
    {
     "data": {
      "text/markdown": [
       "- Stacks (STX) Surges Upon News of Big Financial Support by OKCoin.  Stacks rallied today after the news of a partnership with OKCoin to promote the development of a broader DeFi ecosystem on Bitcoin. ... [| Skaityti daugiau](https://cryptopotato.com/stacks-stx-surges-upon-news-of-big-financial-support-by-okcoin/) "
      ],
      "text/plain": [
       "<IPython.core.display.Markdown object>"
      ]
     },
     "execution_count": 4,
     "metadata": {},
     "output_type": "execute_result"
    }
   ],
   "source": [
    "#hide_input\n",
    "#md('##### {}'.format(titleBTC)) \n",
    "md(\"- {}{} {}{} [| Skaityti daugiau]({}) \".format(btc['title'],'. ', btc['body'], ' ...', btc['url']))"
   ]
  },
  {
   "cell_type": "code",
   "execution_count": 5,
   "id": "organic-actress",
   "metadata": {
    "execution": {
     "iopub.execute_input": "2022-03-11T02:19:13.426934Z",
     "iopub.status.busy": "2022-03-11T02:19:13.426144Z",
     "iopub.status.idle": "2022-03-11T02:19:13.428947Z",
     "shell.execute_reply": "2022-03-11T02:19:13.429506Z"
    },
    "papermill": {
     "duration": 0.022796,
     "end_time": "2022-03-11T02:19:13.429647",
     "exception": false,
     "start_time": "2022-03-11T02:19:13.406851",
     "status": "completed"
    },
    "tags": []
   },
   "outputs": [
    {
     "data": {
      "text/markdown": [
       "- ‘Crypto Is Here To Stay’ — Ripple CEO Perceives Biden’s Executive Order As An Extremely Significant Development.  The majority of the people inside the crypto industry are saying the executive order is a huge move in the right direction. ... [| Skaityti daugiau](https://zycrypto.com/crypto-is-here-to-stay-ripple-ceo-perceives-bidens-executive-order-as-an-extremely-significant-development/) "
      ],
      "text/plain": [
       "<IPython.core.display.Markdown object>"
      ]
     },
     "execution_count": 5,
     "metadata": {},
     "output_type": "execute_result"
    }
   ],
   "source": [
    "#hide_input\n",
    "#md('##### {}'.format(titleBTC)) \n",
    "md(\"- {}{} {}{} [| Skaityti daugiau]({}) \".format(xrp['title'],'. ', xrp['body'], ' ...', xrp['url']))"
   ]
  },
  {
   "cell_type": "code",
   "execution_count": 6,
   "id": "prompt-farmer",
   "metadata": {
    "execution": {
     "iopub.execute_input": "2022-03-11T02:19:13.462986Z",
     "iopub.status.busy": "2022-03-11T02:19:13.462324Z",
     "iopub.status.idle": "2022-03-11T02:19:13.466159Z",
     "shell.execute_reply": "2022-03-11T02:19:13.465188Z"
    },
    "papermill": {
     "duration": 0.022651,
     "end_time": "2022-03-11T02:19:13.466295",
     "exception": false,
     "start_time": "2022-03-11T02:19:13.443644",
     "status": "completed"
    },
    "tags": []
   },
   "outputs": [
    {
     "data": {
      "text/markdown": [
       "- Solana, LUNA, Tron Price Analysis: 10 March.  While the last 24 hours proved to be rather menacing for the bulls, the Crypto fear and greed index showed minor improvements in the overall sentiment. The near-term technicals of Solana, LUNA, and Tron exhibited a bearish inclination but the CMF kept the bullish revival chances bright in the days to come. Solana (SOL) SOL [&#8230;] ... [| Skaityti daugiau](https://ambcrypto.com/solana-luna-tron-price-analysis-10-march/) "
      ],
      "text/plain": [
       "<IPython.core.display.Markdown object>"
      ]
     },
     "execution_count": 6,
     "metadata": {},
     "output_type": "execute_result"
    }
   ],
   "source": [
    "#hide_input\n",
    "#md('##### {}'.format(titleBTC)) \n",
    "md(\"- {}{} {}{} [| Skaityti daugiau]({}) \".format(trx['title'],'. ', trx['body'], ' ...', trx['url']))"
   ]
  },
  {
   "cell_type": "code",
   "execution_count": 7,
   "id": "illegal-greece",
   "metadata": {
    "execution": {
     "iopub.execute_input": "2022-03-11T02:19:13.499773Z",
     "iopub.status.busy": "2022-03-11T02:19:13.499091Z",
     "iopub.status.idle": "2022-03-11T02:19:13.502318Z",
     "shell.execute_reply": "2022-03-11T02:19:13.502876Z"
    },
    "papermill": {
     "duration": 0.022517,
     "end_time": "2022-03-11T02:19:13.503028",
     "exception": false,
     "start_time": "2022-03-11T02:19:13.480511",
     "status": "completed"
    },
    "tags": []
   },
   "outputs": [
    {
     "data": {
      "text/markdown": [
       "- Ethereum hovering above $2.5K: As $2.6K turns into resistance.  Ethereum price analysis for March 11, 2022, brings a bearish analysis for investors as the token once again failed to break above $3K. It is also important to note that as seen in our ETH price analysis for March 10, 2022, the token was unable to push through the $2.8K resistance level. There are increased chances [&#8230;]The post Ethereum hovering above $2.5K: As $2.6K turns into resistance appeared first on Blockchain, Crypto and Stock News. ... [| Skaityti daugiau](https://thecoinrise.com/ethereum-hovering-above-2-5k-as-2-6k-turns-into-resistance/) "
      ],
      "text/plain": [
       "<IPython.core.display.Markdown object>"
      ]
     },
     "execution_count": 7,
     "metadata": {},
     "output_type": "execute_result"
    }
   ],
   "source": [
    "#hide_input\n",
    "#md('##### {}'.format(titleBTC)) \n",
    "md(\"- {}{} {}{} [| Skaityti daugiau]({}) \".format(eth['title'],'. ', eth['body'], ' ...', eth['url']))"
   ]
  },
  {
   "cell_type": "code",
   "execution_count": 8,
   "id": "sublime-lounge",
   "metadata": {
    "execution": {
     "iopub.execute_input": "2022-03-11T02:19:13.538292Z",
     "iopub.status.busy": "2022-03-11T02:19:13.537709Z",
     "iopub.status.idle": "2022-03-11T02:19:13.540309Z",
     "shell.execute_reply": "2022-03-11T02:19:13.540863Z"
    },
    "papermill": {
     "duration": 0.022836,
     "end_time": "2022-03-11T02:19:13.540997",
     "exception": false,
     "start_time": "2022-03-11T02:19:13.518161",
     "status": "completed"
    },
    "tags": []
   },
   "outputs": [
    {
     "data": {
      "text/markdown": [
       "- Fintech Company Lunar Raises $77 Million, Launches Crypto Trading Platform.  Lunar announced they will launch a cryptocurrency trading platform while the firm's valuation topped $2 billion. ... [| Skaityti daugiau](https://cryptopotato.com/fintech-company-lunar-raises-77-million-launches-crypto-trading-platform/) "
      ],
      "text/plain": [
       "<IPython.core.display.Markdown object>"
      ]
     },
     "execution_count": 8,
     "metadata": {},
     "output_type": "execute_result"
    }
   ],
   "source": [
    "#hide_input\n",
    "#md('##### {}'.format(titleBTC)) \n",
    "md(\"- {}{} {}{} [| Skaityti daugiau]({}) \".format(ada['title'],'. ', ada['body'], ' ...', ada['url']))"
   ]
  },
  {
   "cell_type": "code",
   "execution_count": 9,
   "id": "specified-ordering",
   "metadata": {
    "execution": {
     "iopub.execute_input": "2022-03-11T02:19:13.574459Z",
     "iopub.status.busy": "2022-03-11T02:19:13.573327Z",
     "iopub.status.idle": "2022-03-11T02:19:13.577528Z",
     "shell.execute_reply": "2022-03-11T02:19:13.577036Z"
    },
    "papermill": {
     "duration": 0.023297,
     "end_time": "2022-03-11T02:19:13.577638",
     "exception": false,
     "start_time": "2022-03-11T02:19:13.554341",
     "status": "completed"
    },
    "tags": []
   },
   "outputs": [
    {
     "data": {
      "text/markdown": [
       "- Cryptocurrency exchange FTX shifts to Stripe for payments, identity verification.  Cryptocurrency exchange FTX and its U.S. unit, FTX.US, on Thursday have switched to Stripe (STRIP) to build an onboarding and identity verification flow for users, as well as powering a better payment experience for buying digital assets, Stripe said in a release. “We want FTX to become a trusted mainstream brand,” said Tristan Yver, head of strategy at FTX. “We’ve partnered with Stripe to help us transform what could be unintuitive crypto experiences into ones that exceed consumer expectations.” FTX will also deploy the so-called Stripe Radar, which uses machine learning models to distinguish fraudsters from legitimate customers, to mitigate fraud risk. “The optimizations we made in our payments setup with Stripe deliver the smooth on-ramp experience FTX’s growing customer base demands. We’re able to multiply revenue by making it easier than ever for people to invest in crypto,” said Yver. Likewise, FTX has chosen Stripe Identity to build onboarding ... [| Skaityti daugiau](https://seekingalpha.com/news/3812426-cryptocurrency-exchange-ftx-shifts-to-stripe-for-payments-identity-verification?utm_source=cryptocompare.com&utm_medium=referral) "
      ],
      "text/plain": [
       "<IPython.core.display.Markdown object>"
      ]
     },
     "execution_count": 9,
     "metadata": {},
     "output_type": "execute_result"
    }
   ],
   "source": [
    "#hide_input\n",
    "#md('##### {}'.format(titleBTC)) \n",
    "md(\"- {}{} {}{} [| Skaityti daugiau]({}) \".format(exchange['title'],'. ', exchange['body'], ' ...', exchange['url']))"
   ]
  },
  {
   "cell_type": "code",
   "execution_count": null,
   "id": "tender-livestock",
   "metadata": {
    "papermill": {
     "duration": 0.013951,
     "end_time": "2022-03-11T02:19:13.606407",
     "exception": false,
     "start_time": "2022-03-11T02:19:13.592456",
     "status": "completed"
    },
    "tags": []
   },
   "outputs": [],
   "source": []
  },
  {
   "cell_type": "code",
   "execution_count": null,
   "id": "appreciated-diamond",
   "metadata": {
    "papermill": {
     "duration": 0.013439,
     "end_time": "2022-03-11T02:19:13.638925",
     "exception": false,
     "start_time": "2022-03-11T02:19:13.625486",
     "status": "completed"
    },
    "tags": []
   },
   "outputs": [],
   "source": []
  },
  {
   "cell_type": "code",
   "execution_count": null,
   "id": "romance-sweden",
   "metadata": {
    "papermill": {
     "duration": 0.015543,
     "end_time": "2022-03-11T02:19:13.670981",
     "exception": false,
     "start_time": "2022-03-11T02:19:13.655438",
     "status": "completed"
    },
    "tags": []
   },
   "outputs": [],
   "source": []
  },
  {
   "cell_type": "code",
   "execution_count": null,
   "id": "dietary-statistics",
   "metadata": {
    "papermill": {
     "duration": 0.013941,
     "end_time": "2022-03-11T02:19:13.698833",
     "exception": false,
     "start_time": "2022-03-11T02:19:13.684892",
     "status": "completed"
    },
    "tags": []
   },
   "outputs": [],
   "source": []
  }
 ],
 "metadata": {
  "kernelspec": {
   "display_name": "Python 3",
   "language": "python",
   "name": "python3"
  },
  "language_info": {
   "codemirror_mode": {
    "name": "ipython",
    "version": 3
   },
   "file_extension": ".py",
   "mimetype": "text/x-python",
   "name": "python",
   "nbconvert_exporter": "python",
   "pygments_lexer": "ipython3",
   "version": "3.6.15"
  },
  "papermill": {
   "default_parameters": {},
   "duration": 13.856495,
   "end_time": "2022-03-11T02:19:14.234064",
   "environment_variables": {},
   "exception": null,
   "input_path": "Market-News.ipynb",
   "output_path": "Market-News.ipynb",
   "parameters": {},
   "start_time": "2022-03-11T02:19:00.377569",
   "version": "2.2.2"
  }
 },
 "nbformat": 4,
 "nbformat_minor": 5
}