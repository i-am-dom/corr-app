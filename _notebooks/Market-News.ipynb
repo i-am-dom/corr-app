{
 "cells": [
  {
   "cell_type": "markdown",
   "id": "short-greensboro",
   "metadata": {
    "papermill": {
     "duration": 0.013907,
     "end_time": "2021-07-24T01:58:14.903458",
     "exception": false,
     "start_time": "2021-07-24T01:58:14.889551",
     "status": "completed"
    },
    "tags": []
   },
   "source": [
    "# Kriptovaliutų naujienos"
   ]
  },
  {
   "cell_type": "code",
   "execution_count": 1,
   "id": "functioning-knowing",
   "metadata": {
    "execution": {
     "iopub.execute_input": "2021-07-24T01:58:14.932259Z",
     "iopub.status.busy": "2021-07-24T01:58:14.931759Z",
     "iopub.status.idle": "2021-07-24T01:58:16.068133Z",
     "shell.execute_reply": "2021-07-24T01:58:16.067602Z"
    },
    "papermill": {
     "duration": 1.155278,
     "end_time": "2021-07-24T01:58:16.068287",
     "exception": false,
     "start_time": "2021-07-24T01:58:14.913009",
     "status": "completed"
    },
    "tags": []
   },
   "outputs": [],
   "source": [
    "#hide_input\n",
    "import warnings\n",
    "warnings.filterwarnings('ignore')\n",
    "from scripts.read_data import read_api\n",
    "from scripts.read_data import read_news\n",
    "from scripts.read_data import read_covid\n",
    "import matplotlib.pyplot as plt \n",
    "from IPython.display import Markdown as md"
   ]
  },
  {
   "cell_type": "code",
   "execution_count": 2,
   "id": "shared-acceptance",
   "metadata": {
    "execution": {
     "iopub.execute_input": "2021-07-24T01:58:16.093579Z",
     "iopub.status.busy": "2021-07-24T01:58:16.093083Z",
     "iopub.status.idle": "2021-07-24T01:58:25.778914Z",
     "shell.execute_reply": "2021-07-24T01:58:25.778428Z"
    },
    "papermill": {
     "duration": 9.700441,
     "end_time": "2021-07-24T01:58:25.779034",
     "exception": false,
     "start_time": "2021-07-24T01:58:16.078593",
     "status": "completed"
    },
    "tags": []
   },
   "outputs": [],
   "source": [
    "#hide_input\n",
    "blockchain = read_news('blockchain') \n",
    "btc = read_news('btc') \n",
    "xrp = read_news('xrp') \n",
    "trx = read_news('trx') \n",
    "eth = read_news('eth')  \n",
    "ada = read_news('ada')\n",
    "exchange = read_news('exchange') "
   ]
  },
  {
   "cell_type": "code",
   "execution_count": 3,
   "id": "synthetic-notion",
   "metadata": {
    "execution": {
     "iopub.execute_input": "2021-07-24T01:58:25.803604Z",
     "iopub.status.busy": "2021-07-24T01:58:25.803058Z",
     "iopub.status.idle": "2021-07-24T01:58:25.806841Z",
     "shell.execute_reply": "2021-07-24T01:58:25.807214Z"
    },
    "papermill": {
     "duration": 0.018946,
     "end_time": "2021-07-24T01:58:25.807329",
     "exception": false,
     "start_time": "2021-07-24T01:58:25.788383",
     "status": "completed"
    },
    "tags": []
   },
   "outputs": [
    {
     "data": {
      "text/markdown": [
       "- Report: Nigeria to Start Piloting Digital Currency in October.  The Central Bank of Nigeria (CBN) has reportedly set October 1 as the commencement date for the trial phase of its digital currency project. Dubbed project Giant, this digital currency project, or the &#8220;e-naira,&#8221; is expected to use the Hyperledger Fabric blockchain. CBDC Comes to Life The revelation of the launch date for Nigeria&#8217;s central [&#8230;] ... [| Skaityti daugiau](https://news.bitcoin.com/report-nigeria-to-start-piloting-digital-currency-in-october/) "
      ],
      "text/plain": [
       "<IPython.core.display.Markdown object>"
      ]
     },
     "execution_count": 3,
     "metadata": {},
     "output_type": "execute_result"
    }
   ],
   "source": [
    "#hide_input\n",
    "#md('##### {}'.format(titleBTC)) \n",
    "md(\"- {}{} {}{} [| Skaityti daugiau]({}) \".format(blockchain['title'],'. ', blockchain['body'], ' ...', blockchain['url']))"
   ]
  },
  {
   "cell_type": "code",
   "execution_count": 4,
   "id": "aging-caution",
   "metadata": {
    "execution": {
     "iopub.execute_input": "2021-07-24T01:58:25.830366Z",
     "iopub.status.busy": "2021-07-24T01:58:25.829801Z",
     "iopub.status.idle": "2021-07-24T01:58:25.834011Z",
     "shell.execute_reply": "2021-07-24T01:58:25.833564Z"
    },
    "papermill": {
     "duration": 0.017564,
     "end_time": "2021-07-24T01:58:25.834124",
     "exception": false,
     "start_time": "2021-07-24T01:58:25.816560",
     "status": "completed"
    },
    "tags": []
   },
   "outputs": [
    {
     "data": {
      "text/markdown": [
       "- Chinese Miners Pivot to Alternative Currencies to Keep Operating.  The Chinese mining crackdown forced many miners to stop their operations and relocate. But another group of miners is planning to pivot to new, more efficient mining schemes to keep operating in the country. Lesser-known tokens and proof-of-stake-based systems are now in the sights of these miners as ways to continue their work away from [&#8230;] ... [| Skaityti daugiau](https://news.bitcoin.com/chinese-miners-pivot-to-alternative-currencies-to-keep-operating/) "
      ],
      "text/plain": [
       "<IPython.core.display.Markdown object>"
      ]
     },
     "execution_count": 4,
     "metadata": {},
     "output_type": "execute_result"
    }
   ],
   "source": [
    "#hide_input\n",
    "#md('##### {}'.format(titleBTC)) \n",
    "md(\"- {}{} {}{} [| Skaityti daugiau]({}) \".format(btc['title'],'. ', btc['body'], ' ...', btc['url']))"
   ]
  },
  {
   "cell_type": "code",
   "execution_count": 5,
   "id": "organic-actress",
   "metadata": {
    "execution": {
     "iopub.execute_input": "2021-07-24T01:58:25.857429Z",
     "iopub.status.busy": "2021-07-24T01:58:25.856935Z",
     "iopub.status.idle": "2021-07-24T01:58:25.859815Z",
     "shell.execute_reply": "2021-07-24T01:58:25.859426Z"
    },
    "papermill": {
     "duration": 0.016087,
     "end_time": "2021-07-24T01:58:25.859915",
     "exception": false,
     "start_time": "2021-07-24T01:58:25.843828",
     "status": "completed"
    },
    "tags": []
   },
   "outputs": [
    {
     "data": {
      "text/markdown": [
       "- What are the chances of XRP seeing an upside of 11%.  Disclaimer: The findings of the following analysis are the sole opinions of the writer and should not be taken as investment advice At the time of writing, recovery had set in across the cryptocurrency market, with XRP already bouncing from the lows of $0.5156 to $0.5946. This was a rally worth 15.60%, with XRP likely to [&#8230;] ... [| Skaityti daugiau](https://ambcrypto.com/what-are-the-chances-of-xrp-seeing-an-upside-of-11/) "
      ],
      "text/plain": [
       "<IPython.core.display.Markdown object>"
      ]
     },
     "execution_count": 5,
     "metadata": {},
     "output_type": "execute_result"
    }
   ],
   "source": [
    "#hide_input\n",
    "#md('##### {}'.format(titleBTC)) \n",
    "md(\"- {}{} {}{} [| Skaityti daugiau]({}) \".format(xrp['title'],'. ', xrp['body'], ' ...', xrp['url']))"
   ]
  },
  {
   "cell_type": "code",
   "execution_count": 6,
   "id": "prompt-farmer",
   "metadata": {
    "execution": {
     "iopub.execute_input": "2021-07-24T01:58:25.883910Z",
     "iopub.status.busy": "2021-07-24T01:58:25.883350Z",
     "iopub.status.idle": "2021-07-24T01:58:25.885383Z",
     "shell.execute_reply": "2021-07-24T01:58:25.885898Z"
    },
    "papermill": {
     "duration": 0.016255,
     "end_time": "2021-07-24T01:58:25.886016",
     "exception": false,
     "start_time": "2021-07-24T01:58:25.869761",
     "status": "completed"
    },
    "tags": []
   },
   "outputs": [
    {
     "data": {
      "text/markdown": [
       "- Chainlink, TRON, SUSHI Price Analysis: 21 July.  Quite a few major cryptocurrencies flashed signs of recovery after abruptly plummeting yesterday. In fact, some alts were trading in the green too. Trading volumes for most altcoins went up yesterday, a finding which confirmed panic selling. In the last few trading sessions before press time, however, LINK, TRX, and SUSHI each saw a decline [&#8230;] ... [| Skaityti daugiau](https://ambcrypto.com/chainlink-tron-sushi-price-analysis-21-july/) "
      ],
      "text/plain": [
       "<IPython.core.display.Markdown object>"
      ]
     },
     "execution_count": 6,
     "metadata": {},
     "output_type": "execute_result"
    }
   ],
   "source": [
    "#hide_input\n",
    "#md('##### {}'.format(titleBTC)) \n",
    "md(\"- {}{} {}{} [| Skaityti daugiau]({}) \".format(trx['title'],'. ', trx['body'], ' ...', trx['url']))"
   ]
  },
  {
   "cell_type": "code",
   "execution_count": 7,
   "id": "illegal-greece",
   "metadata": {
    "execution": {
     "iopub.execute_input": "2021-07-24T01:58:25.910511Z",
     "iopub.status.busy": "2021-07-24T01:58:25.910031Z",
     "iopub.status.idle": "2021-07-24T01:58:25.912687Z",
     "shell.execute_reply": "2021-07-24T01:58:25.913149Z"
    },
    "papermill": {
     "duration": 0.016821,
     "end_time": "2021-07-24T01:58:25.913253",
     "exception": false,
     "start_time": "2021-07-24T01:58:25.896432",
     "status": "completed"
    },
    "tags": []
   },
   "outputs": [
    {
     "data": {
      "text/markdown": [
       "- Just HODL! Bitcoin and Ethereum outperform ‘lower risk’ crypto index funds.  Data from Delphi Digital shows holding BTC and ETH was more profitable than investing in weighted average market cap crypto and DeFi index funds. ... [| Skaityti daugiau](https://cointelegraph.com/news/just-hodl-bitcoin-and-ethereum-outperform-lower-risk-crypto-index-funds) "
      ],
      "text/plain": [
       "<IPython.core.display.Markdown object>"
      ]
     },
     "execution_count": 7,
     "metadata": {},
     "output_type": "execute_result"
    }
   ],
   "source": [
    "#hide_input\n",
    "#md('##### {}'.format(titleBTC)) \n",
    "md(\"- {}{} {}{} [| Skaityti daugiau]({}) \".format(eth['title'],'. ', eth['body'], ' ...', eth['url']))"
   ]
  },
  {
   "cell_type": "code",
   "execution_count": 8,
   "id": "sublime-lounge",
   "metadata": {
    "execution": {
     "iopub.execute_input": "2021-07-24T01:58:25.937859Z",
     "iopub.status.busy": "2021-07-24T01:58:25.937374Z",
     "iopub.status.idle": "2021-07-24T01:58:25.939807Z",
     "shell.execute_reply": "2021-07-24T01:58:25.940260Z"
    },
    "papermill": {
     "duration": 0.016799,
     "end_time": "2021-07-24T01:58:25.940362",
     "exception": false,
     "start_time": "2021-07-24T01:58:25.923563",
     "status": "completed"
    },
    "tags": []
   },
   "outputs": [
    {
     "data": {
      "text/markdown": [
       "- Cardano ($ADA) to Become Compatible with with Browsers via New Upgrade.  The Cardano (ADA) network is set to become browser and mobile-compatible in the near future thanks to a new upgrade being worked on by the team behind the project. The upgrade will allow running the Plutus application backend in Javascript, the most widely-used programming language on the web. In a brief update published by Cardano […] ... [| Skaityti daugiau](https://www.cryptoglobe.com/latest/2021/07/cardano-ada-to-become-compatible-with-with-browsers-via-new-upgrade/) "
      ],
      "text/plain": [
       "<IPython.core.display.Markdown object>"
      ]
     },
     "execution_count": 8,
     "metadata": {},
     "output_type": "execute_result"
    }
   ],
   "source": [
    "#hide_input\n",
    "#md('##### {}'.format(titleBTC)) \n",
    "md(\"- {}{} {}{} [| Skaityti daugiau]({}) \".format(ada['title'],'. ', ada['body'], ' ...', ada['url']))"
   ]
  },
  {
   "cell_type": "code",
   "execution_count": 9,
   "id": "specified-ordering",
   "metadata": {
    "execution": {
     "iopub.execute_input": "2021-07-24T01:58:25.965972Z",
     "iopub.status.busy": "2021-07-24T01:58:25.965478Z",
     "iopub.status.idle": "2021-07-24T01:58:25.968509Z",
     "shell.execute_reply": "2021-07-24T01:58:25.968104Z"
    },
    "papermill": {
     "duration": 0.017484,
     "end_time": "2021-07-24T01:58:25.968606",
     "exception": false,
     "start_time": "2021-07-24T01:58:25.951122",
     "status": "completed"
    },
    "tags": []
   },
   "outputs": [
    {
     "data": {
      "text/markdown": [
       "- Binance crypto exchange debuts plan to go public (IPO).  TL;DR Beakdown Binance exchange announce plan to launch IPO Zhao says only Binance US is going public Binancein line after Coinbase to conduct IPO Binance crypto exchange CEO Changpeng Zhao has hinted that the number one crypto exchange may eventually go public via an IPO. The CEO stated that Binance US is setting up structures [&#8230;] ... [| Skaityti daugiau](https://www.cryptopolitan.com/binance-crypto-exchange-plan-to-go-public/) "
      ],
      "text/plain": [
       "<IPython.core.display.Markdown object>"
      ]
     },
     "execution_count": 9,
     "metadata": {},
     "output_type": "execute_result"
    }
   ],
   "source": [
    "#hide_input\n",
    "#md('##### {}'.format(titleBTC)) \n",
    "md(\"- {}{} {}{} [| Skaityti daugiau]({}) \".format(exchange['title'],'. ', exchange['body'], ' ...', exchange['url']))"
   ]
  },
  {
   "cell_type": "code",
   "execution_count": null,
   "id": "tender-livestock",
   "metadata": {
    "papermill": {
     "duration": 0.011,
     "end_time": "2021-07-24T01:58:25.990616",
     "exception": false,
     "start_time": "2021-07-24T01:58:25.979616",
     "status": "completed"
    },
    "tags": []
   },
   "outputs": [],
   "source": []
  },
  {
   "cell_type": "code",
   "execution_count": null,
   "id": "appreciated-diamond",
   "metadata": {
    "papermill": {
     "duration": 0.010983,
     "end_time": "2021-07-24T01:58:26.012772",
     "exception": false,
     "start_time": "2021-07-24T01:58:26.001789",
     "status": "completed"
    },
    "tags": []
   },
   "outputs": [],
   "source": []
  },
  {
   "cell_type": "code",
   "execution_count": null,
   "id": "romance-sweden",
   "metadata": {
    "papermill": {
     "duration": 0.010971,
     "end_time": "2021-07-24T01:58:26.034761",
     "exception": false,
     "start_time": "2021-07-24T01:58:26.023790",
     "status": "completed"
    },
    "tags": []
   },
   "outputs": [],
   "source": []
  },
  {
   "cell_type": "code",
   "execution_count": null,
   "id": "dietary-statistics",
   "metadata": {
    "papermill": {
     "duration": 0.01094,
     "end_time": "2021-07-24T01:58:26.056754",
     "exception": false,
     "start_time": "2021-07-24T01:58:26.045814",
     "status": "completed"
    },
    "tags": []
   },
   "outputs": [],
   "source": []
  }
 ],
 "metadata": {
  "kernelspec": {
   "display_name": "Python 3",
   "language": "python",
   "name": "python3"
  },
  "language_info": {
   "codemirror_mode": {
    "name": "ipython",
    "version": 3
   },
   "file_extension": ".py",
   "mimetype": "text/x-python",
   "name": "python",
   "nbconvert_exporter": "python",
   "pygments_lexer": "ipython3",
   "version": "3.6.14"
  },
  "papermill": {
   "default_parameters": {},
   "duration": 12.611182,
   "end_time": "2021-07-24T01:58:26.474475",
   "environment_variables": {},
   "exception": null,
   "input_path": "Market-News.ipynb",
   "output_path": "Market-News.ipynb",
   "parameters": {},
   "start_time": "2021-07-24T01:58:13.863293",
   "version": "2.2.2"
  }
 },
 "nbformat": 4,
 "nbformat_minor": 5
}