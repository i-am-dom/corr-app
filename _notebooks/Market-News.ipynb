{
 "cells": [
  {
   "cell_type": "markdown",
   "id": "short-greensboro",
   "metadata": {
    "papermill": {
     "duration": 0.017846,
     "end_time": "2022-11-13T03:02:02.015684",
     "exception": false,
     "start_time": "2022-11-13T03:02:01.997838",
     "status": "completed"
    },
    "tags": []
   },
   "source": [
    "# Kriptovaliutų naujienos"
   ]
  },
  {
   "cell_type": "code",
   "execution_count": 1,
   "id": "functioning-knowing",
   "metadata": {
    "execution": {
     "iopub.execute_input": "2022-11-13T03:02:02.052058Z",
     "iopub.status.busy": "2022-11-13T03:02:02.051210Z",
     "iopub.status.idle": "2022-11-13T03:02:03.518757Z",
     "shell.execute_reply": "2022-11-13T03:02:03.518124Z"
    },
    "papermill": {
     "duration": 1.491607,
     "end_time": "2022-11-13T03:02:03.518910",
     "exception": false,
     "start_time": "2022-11-13T03:02:02.027303",
     "status": "completed"
    },
    "tags": []
   },
   "outputs": [],
   "source": [
    "#hide_input\n",
    "import warnings\n",
    "warnings.filterwarnings('ignore')\n",
    "from scripts.read_data import read_api\n",
    "from scripts.read_data import read_news\n",
    "from scripts.read_data import read_covid\n",
    "import matplotlib.pyplot as plt \n",
    "from IPython.display import Markdown as md"
   ]
  },
  {
   "cell_type": "code",
   "execution_count": 2,
   "id": "shared-acceptance",
   "metadata": {
    "execution": {
     "iopub.execute_input": "2022-11-13T03:02:03.546736Z",
     "iopub.status.busy": "2022-11-13T03:02:03.546017Z",
     "iopub.status.idle": "2022-11-13T03:02:09.978297Z",
     "shell.execute_reply": "2022-11-13T03:02:09.977475Z"
    },
    "papermill": {
     "duration": 6.448911,
     "end_time": "2022-11-13T03:02:09.978453",
     "exception": false,
     "start_time": "2022-11-13T03:02:03.529542",
     "status": "completed"
    },
    "tags": []
   },
   "outputs": [],
   "source": [
    "#hide_input\n",
    "blockchain = read_news('blockchain') \n",
    "btc = read_news('btc') \n",
    "xrp = read_news('xrp') \n",
    "trx = read_news('trx') \n",
    "eth = read_news('eth')  \n",
    "ada = read_news('ada')\n",
    "exchange = read_news('exchange') "
   ]
  },
  {
   "cell_type": "code",
   "execution_count": 3,
   "id": "synthetic-notion",
   "metadata": {
    "execution": {
     "iopub.execute_input": "2022-11-13T03:02:10.010482Z",
     "iopub.status.busy": "2022-11-13T03:02:10.009803Z",
     "iopub.status.idle": "2022-11-13T03:02:10.013638Z",
     "shell.execute_reply": "2022-11-13T03:02:10.013080Z"
    },
    "papermill": {
     "duration": 0.021796,
     "end_time": "2022-11-13T03:02:10.013762",
     "exception": false,
     "start_time": "2022-11-13T03:02:09.991966",
     "status": "completed"
    },
    "tags": []
   },
   "outputs": [
    {
     "data": {
      "text/markdown": [
       "- What Is KardiaChain and What Are the Most Popular Projects Built on It?.  According to its description, KardiaChain is the first decentralized, open-source, and self-improving blockchain infrastructure. The team wants to push the limits of current technology by addressing one of the biggest problems with blockchain technology: the dispersion of blockchain ecosystems. With its support, users will be able to take advantage of the potential of the Blockchain The post What Is KardiaChain and What Are the Most Popular Projects Built on It? appeared first on NullTX . ... [| Skaityti daugiau](https://nulltx.com/what-is-kardiachain-and-what-are-the-most-popular-projects-built-on-it/) "
      ],
      "text/plain": [
       "<IPython.core.display.Markdown object>"
      ]
     },
     "execution_count": 3,
     "metadata": {},
     "output_type": "execute_result"
    }
   ],
   "source": [
    "#hide_input\n",
    "#md('##### {}'.format(titleBTC)) \n",
    "md(\"- {}{} {}{} [| Skaityti daugiau]({}) \".format(blockchain['title'],'. ', blockchain['body'], ' ...', blockchain['url']))"
   ]
  },
  {
   "cell_type": "code",
   "execution_count": 4,
   "id": "aging-caution",
   "metadata": {
    "execution": {
     "iopub.execute_input": "2022-11-13T03:02:10.045368Z",
     "iopub.status.busy": "2022-11-13T03:02:10.044676Z",
     "iopub.status.idle": "2022-11-13T03:02:10.048375Z",
     "shell.execute_reply": "2022-11-13T03:02:10.047823Z"
    },
    "papermill": {
     "duration": 0.02017,
     "end_time": "2022-11-13T03:02:10.048533",
     "exception": false,
     "start_time": "2022-11-13T03:02:10.028363",
     "status": "completed"
    },
    "tags": []
   },
   "outputs": [
    {
     "data": {
      "text/markdown": [
       "- Samuel Adams’ Vision For Revolution Fits Into A Bitcoin Economy.  The framing of the American Revolution can be adapted to Bitcoin for helping people understand the values of community support and mutual aid. ... [| Skaityti daugiau](https://bitcoinmagazine.com/culture/samuel-adams-revolution-fits-bitcoin-economy) "
      ],
      "text/plain": [
       "<IPython.core.display.Markdown object>"
      ]
     },
     "execution_count": 4,
     "metadata": {},
     "output_type": "execute_result"
    }
   ],
   "source": [
    "#hide_input\n",
    "#md('##### {}'.format(titleBTC)) \n",
    "md(\"- {}{} {}{} [| Skaityti daugiau]({}) \".format(btc['title'],'. ', btc['body'], ' ...', btc['url']))"
   ]
  },
  {
   "cell_type": "code",
   "execution_count": 5,
   "id": "organic-actress",
   "metadata": {
    "execution": {
     "iopub.execute_input": "2022-11-13T03:02:10.077028Z",
     "iopub.status.busy": "2022-11-13T03:02:10.076281Z",
     "iopub.status.idle": "2022-11-13T03:02:10.079971Z",
     "shell.execute_reply": "2022-11-13T03:02:10.080496Z"
    },
    "papermill": {
     "duration": 0.021079,
     "end_time": "2022-11-13T03:02:10.080651",
     "exception": false,
     "start_time": "2022-11-13T03:02:10.059572",
     "status": "completed"
    },
    "tags": []
   },
   "outputs": [
    {
     "data": {
      "text/markdown": [
       "- XRP and what its selling pressure would reveal in the coming days.  The long-time frame chart (12-hr) exhibited a bearish momentum, but the selling pressure was tapering A slight dip in weighted sentiment and development activity Ripple [XRP] experienced a recovery after Bitcoin [BTC] regained $17K amidst the recent crash. XRP showed high sensitivity towards the king coin. At press time, BTC lost its hold over $17K ... [| Skaityti daugiau](https://ambcrypto.com/xrp-and-what-its-selling-pressure-would-reveal-in-the-coming-days/) "
      ],
      "text/plain": [
       "<IPython.core.display.Markdown object>"
      ]
     },
     "execution_count": 5,
     "metadata": {},
     "output_type": "execute_result"
    }
   ],
   "source": [
    "#hide_input\n",
    "#md('##### {}'.format(titleBTC)) \n",
    "md(\"- {}{} {}{} [| Skaityti daugiau]({}) \".format(xrp['title'],'. ', xrp['body'], ' ...', xrp['url']))"
   ]
  },
  {
   "cell_type": "code",
   "execution_count": 6,
   "id": "prompt-farmer",
   "metadata": {
    "execution": {
     "iopub.execute_input": "2022-11-13T03:02:10.110057Z",
     "iopub.status.busy": "2022-11-13T03:02:10.109361Z",
     "iopub.status.idle": "2022-11-13T03:02:10.113261Z",
     "shell.execute_reply": "2022-11-13T03:02:10.112584Z"
    },
    "papermill": {
     "duration": 0.021224,
     "end_time": "2022-11-13T03:02:10.113388",
     "exception": false,
     "start_time": "2022-11-13T03:02:10.092164",
     "status": "completed"
    },
    "tags": []
   },
   "outputs": [
    {
     "data": {
      "text/markdown": [
       "- Tron holders planning to cut losses might be relieved to know this update.  Justin Sun announced an agreement with FTX that would allow TRX holders to swap their assets In lieu of this, social engagements and mentions for Tron increased along with its weighted sentiment On 10 November, Justin Sun, the founder of Tron [TRX], announced that Tron would soon reach a special agreement with FTX that would ... [| Skaityti daugiau](https://ambcrypto.com/tron-holders-planning-to-cut-losses-might-be-relieved-to-know-this-update/) "
      ],
      "text/plain": [
       "<IPython.core.display.Markdown object>"
      ]
     },
     "execution_count": 6,
     "metadata": {},
     "output_type": "execute_result"
    }
   ],
   "source": [
    "#hide_input\n",
    "#md('##### {}'.format(titleBTC)) \n",
    "md(\"- {}{} {}{} [| Skaityti daugiau]({}) \".format(trx['title'],'. ', trx['body'], ' ...', trx['url']))"
   ]
  },
  {
   "cell_type": "code",
   "execution_count": 7,
   "id": "illegal-greece",
   "metadata": {
    "execution": {
     "iopub.execute_input": "2022-11-13T03:02:10.143880Z",
     "iopub.status.busy": "2022-11-13T03:02:10.142288Z",
     "iopub.status.idle": "2022-11-13T03:02:10.148234Z",
     "shell.execute_reply": "2022-11-13T03:02:10.147572Z"
    },
    "papermill": {
     "duration": 0.022382,
     "end_time": "2022-11-13T03:02:10.148356",
     "exception": false,
     "start_time": "2022-11-13T03:02:10.125974",
     "status": "completed"
    },
    "tags": []
   },
   "outputs": [
    {
     "data": {
      "text/markdown": [
       "- Could Ethereum [ETH] see more downside as withdrawals heighten.  Ethereum [ETH] could risk a further decline despite losing over 23% of its value to trade at $1,261 in the last seven days. The reason for this possibility was the high deviation of on-chain withdrawals of the altcoin. Onchain Edge, in a 11 November post on CryptoQuant, noted the state of these withdrawing transactions. In ... [| Skaityti daugiau](https://ambcrypto.com/could-ethereum-eth-see-more-downside-as-withdrawals-heighten/) "
      ],
      "text/plain": [
       "<IPython.core.display.Markdown object>"
      ]
     },
     "execution_count": 7,
     "metadata": {},
     "output_type": "execute_result"
    }
   ],
   "source": [
    "#hide_input\n",
    "#md('##### {}'.format(titleBTC)) \n",
    "md(\"- {}{} {}{} [| Skaityti daugiau]({}) \".format(eth['title'],'. ', eth['body'], ' ...', eth['url']))"
   ]
  },
  {
   "cell_type": "code",
   "execution_count": 8,
   "id": "sublime-lounge",
   "metadata": {
    "execution": {
     "iopub.execute_input": "2022-11-13T03:02:10.178941Z",
     "iopub.status.busy": "2022-11-13T03:02:10.177938Z",
     "iopub.status.idle": "2022-11-13T03:02:10.182359Z",
     "shell.execute_reply": "2022-11-13T03:02:10.182910Z"
    },
    "papermill": {
     "duration": 0.021506,
     "end_time": "2022-11-13T03:02:10.183050",
     "exception": false,
     "start_time": "2022-11-13T03:02:10.161544",
     "status": "completed"
    },
    "tags": []
   },
   "outputs": [
    {
     "data": {
      "text/markdown": [
       "- Cardano’s “Best Days Are Ahead of It,” Community Predicts.  \"Best days are ahead of Cardano,\" community makes prediction amid price dip ... [| Skaityti daugiau](https://u.today/cardanos-best-days-are-ahead-community-predicts) "
      ],
      "text/plain": [
       "<IPython.core.display.Markdown object>"
      ]
     },
     "execution_count": 8,
     "metadata": {},
     "output_type": "execute_result"
    }
   ],
   "source": [
    "#hide_input\n",
    "#md('##### {}'.format(titleBTC)) \n",
    "md(\"- {}{} {}{} [| Skaityti daugiau]({}) \".format(ada['title'],'. ', ada['body'], ' ...', ada['url']))"
   ]
  },
  {
   "cell_type": "code",
   "execution_count": 9,
   "id": "specified-ordering",
   "metadata": {
    "execution": {
     "iopub.execute_input": "2022-11-13T03:02:10.215379Z",
     "iopub.status.busy": "2022-11-13T03:02:10.214442Z",
     "iopub.status.idle": "2022-11-13T03:02:10.217800Z",
     "shell.execute_reply": "2022-11-13T03:02:10.218332Z"
    },
    "papermill": {
     "duration": 0.022998,
     "end_time": "2022-11-13T03:02:10.218478",
     "exception": false,
     "start_time": "2022-11-13T03:02:10.195480",
     "status": "completed"
    },
    "tags": []
   },
   "outputs": [
    {
     "data": {
      "text/markdown": [
       "- Cronos: As Crypto.com agrees to CZ’s advice, where does CRO stand.  CRO did not see a price rise despite a positive reaction to its proof-of-reserve report Despite this, the coin’s 24-hour address count and seven-day circulation increased Crypto.com joined other exchanges in following CZ’s suggestion that such companies be open with their assets while following the proof-of-reserves model. The Binance CEO had called for open scrutiny ... [| Skaityti daugiau](https://ambcrypto.com/cronos-as-crypto-com-agrees-to-czs-advice-where-does-cro-stand/) "
      ],
      "text/plain": [
       "<IPython.core.display.Markdown object>"
      ]
     },
     "execution_count": 9,
     "metadata": {},
     "output_type": "execute_result"
    }
   ],
   "source": [
    "#hide_input\n",
    "#md('##### {}'.format(titleBTC)) \n",
    "md(\"- {}{} {}{} [| Skaityti daugiau]({}) \".format(exchange['title'],'. ', exchange['body'], ' ...', exchange['url']))"
   ]
  },
  {
   "cell_type": "code",
   "execution_count": null,
   "id": "tender-livestock",
   "metadata": {
    "papermill": {
     "duration": 0.012832,
     "end_time": "2022-11-13T03:02:10.244106",
     "exception": false,
     "start_time": "2022-11-13T03:02:10.231274",
     "status": "completed"
    },
    "tags": []
   },
   "outputs": [],
   "source": []
  },
  {
   "cell_type": "code",
   "execution_count": null,
   "id": "appreciated-diamond",
   "metadata": {
    "papermill": {
     "duration": 0.012606,
     "end_time": "2022-11-13T03:02:10.269477",
     "exception": false,
     "start_time": "2022-11-13T03:02:10.256871",
     "status": "completed"
    },
    "tags": []
   },
   "outputs": [],
   "source": []
  },
  {
   "cell_type": "code",
   "execution_count": null,
   "id": "romance-sweden",
   "metadata": {
    "papermill": {
     "duration": 0.012651,
     "end_time": "2022-11-13T03:02:10.294845",
     "exception": false,
     "start_time": "2022-11-13T03:02:10.282194",
     "status": "completed"
    },
    "tags": []
   },
   "outputs": [],
   "source": []
  },
  {
   "cell_type": "code",
   "execution_count": null,
   "id": "dietary-statistics",
   "metadata": {
    "papermill": {
     "duration": 0.013164,
     "end_time": "2022-11-13T03:02:10.321080",
     "exception": false,
     "start_time": "2022-11-13T03:02:10.307916",
     "status": "completed"
    },
    "tags": []
   },
   "outputs": [],
   "source": []
  }
 ],
 "metadata": {
  "kernelspec": {
   "display_name": "Python 3",
   "language": "python",
   "name": "python3"
  },
  "language_info": {
   "codemirror_mode": {
    "name": "ipython",
    "version": 3
   },
   "file_extension": ".py",
   "mimetype": "text/x-python",
   "name": "python",
   "nbconvert_exporter": "python",
   "pygments_lexer": "ipython3",
   "version": "3.6.15"
  },
  "papermill": {
   "default_parameters": {},
   "duration": 10.150707,
   "end_time": "2022-11-13T03:02:10.855902",
   "environment_variables": {},
   "exception": null,
   "input_path": "Market-News.ipynb",
   "output_path": "Market-News.ipynb",
   "parameters": {},
   "start_time": "2022-11-13T03:02:00.705195",
   "version": "2.2.2"
  }
 },
 "nbformat": 4,
 "nbformat_minor": 5
}