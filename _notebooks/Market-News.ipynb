{
 "cells": [
  {
   "cell_type": "markdown",
   "id": "short-greensboro",
   "metadata": {
    "papermill": {
     "duration": 0.012925,
     "end_time": "2022-01-11T02:09:32.460705",
     "exception": false,
     "start_time": "2022-01-11T02:09:32.447780",
     "status": "completed"
    },
    "tags": []
   },
   "source": [
    "# Kriptovaliutų naujienos"
   ]
  },
  {
   "cell_type": "code",
   "execution_count": 1,
   "id": "functioning-knowing",
   "metadata": {
    "execution": {
     "iopub.execute_input": "2022-01-11T02:09:32.491390Z",
     "iopub.status.busy": "2022-01-11T02:09:32.490822Z",
     "iopub.status.idle": "2022-01-11T02:09:33.804206Z",
     "shell.execute_reply": "2022-01-11T02:09:33.803615Z"
    },
    "papermill": {
     "duration": 1.333761,
     "end_time": "2022-01-11T02:09:33.804375",
     "exception": false,
     "start_time": "2022-01-11T02:09:32.470614",
     "status": "completed"
    },
    "tags": []
   },
   "outputs": [],
   "source": [
    "#hide_input\n",
    "import warnings\n",
    "warnings.filterwarnings('ignore')\n",
    "from scripts.read_data import read_api\n",
    "from scripts.read_data import read_news\n",
    "from scripts.read_data import read_covid\n",
    "import matplotlib.pyplot as plt \n",
    "from IPython.display import Markdown as md"
   ]
  },
  {
   "cell_type": "code",
   "execution_count": 2,
   "id": "shared-acceptance",
   "metadata": {
    "execution": {
     "iopub.execute_input": "2022-01-11T02:09:33.830061Z",
     "iopub.status.busy": "2022-01-11T02:09:33.829528Z",
     "iopub.status.idle": "2022-01-11T02:09:42.842013Z",
     "shell.execute_reply": "2022-01-11T02:09:42.841481Z"
    },
    "papermill": {
     "duration": 9.02801,
     "end_time": "2022-01-11T02:09:42.842152",
     "exception": false,
     "start_time": "2022-01-11T02:09:33.814142",
     "status": "completed"
    },
    "tags": []
   },
   "outputs": [],
   "source": [
    "#hide_input\n",
    "blockchain = read_news('blockchain') \n",
    "btc = read_news('btc') \n",
    "xrp = read_news('xrp') \n",
    "trx = read_news('trx') \n",
    "eth = read_news('eth')  \n",
    "ada = read_news('ada')\n",
    "exchange = read_news('exchange') "
   ]
  },
  {
   "cell_type": "code",
   "execution_count": 3,
   "id": "synthetic-notion",
   "metadata": {
    "execution": {
     "iopub.execute_input": "2022-01-11T02:09:42.868099Z",
     "iopub.status.busy": "2022-01-11T02:09:42.867514Z",
     "iopub.status.idle": "2022-01-11T02:09:42.869772Z",
     "shell.execute_reply": "2022-01-11T02:09:42.870175Z"
    },
    "papermill": {
     "duration": 0.017723,
     "end_time": "2022-01-11T02:09:42.870299",
     "exception": false,
     "start_time": "2022-01-11T02:09:42.852576",
     "status": "completed"
    },
    "tags": []
   },
   "outputs": [
    {
     "data": {
      "text/markdown": [
       "- OpeanSea Transaction Volume Shows That NFTs Are Not Slowing, Here Are Some Projects To Consider.  We&#8217;ve only been in the new year for a few days, and OpenSea is proving to be NFT&#8217;s open sea. On the second day of 2022, the NFT marketplace, which features some of the biggest blockchain-based collectibles from Bored Apes to CryptoPunks, announced $243 million in sales. The figure went up significantly during new year&#8217;s eve. The company made $170 million on January 1 and $124 million on December 31. Opensea Sales Increased 646x In 2021, Cruises Into 2022 OpenSea ended 2021 with a total trading volume of nearly $14 billion. According to data from Token Terminal, the top NFT marketplace witnessed a volume of $21.7 million in 2020, implying that trading surged by a factor of 646 last year. OpenSea daily cumulative transaction vol. Source: Token Terminal OpenSea left its competitors in the dust. According to data from DappRadar, the next largest platform, Rarible, handled $260 million in transactions in 2021. Only a few niche collectors were aware of the possibilities of NFTs this time last year. OpenSea is now just one of several companies that have tapped into the rapidly expanding market. OpenSea accounted for more than $60 billion ($14 billion) of the $20 billion in NFT revenues recorded in 2021. Statistics from Dune Analytics, a free blockchain data analytics platform, shows that OpenSea&#8217;s daily trade volumes have exceeded $200 million for six of the ten days so far in 2022. In 2022, OpenSea is on the ... ... [| Skaityti daugiau](https://www.newsbtc.com/nft/opeanseas-transaction-volume-shows-that-nfts-are-not-slowing/) "
      ],
      "text/plain": [
       "<IPython.core.display.Markdown object>"
      ]
     },
     "execution_count": 3,
     "metadata": {},
     "output_type": "execute_result"
    }
   ],
   "source": [
    "#hide_input\n",
    "#md('##### {}'.format(titleBTC)) \n",
    "md(\"- {}{} {}{} [| Skaityti daugiau]({}) \".format(blockchain['title'],'. ', blockchain['body'], ' ...', blockchain['url']))"
   ]
  },
  {
   "cell_type": "code",
   "execution_count": 4,
   "id": "aging-caution",
   "metadata": {
    "execution": {
     "iopub.execute_input": "2022-01-11T02:09:42.894063Z",
     "iopub.status.busy": "2022-01-11T02:09:42.893513Z",
     "iopub.status.idle": "2022-01-11T02:09:42.896339Z",
     "shell.execute_reply": "2022-01-11T02:09:42.896741Z"
    },
    "papermill": {
     "duration": 0.017063,
     "end_time": "2022-01-11T02:09:42.896861",
     "exception": false,
     "start_time": "2022-01-11T02:09:42.879798",
     "status": "completed"
    },
    "tags": []
   },
   "outputs": [
    {
     "data": {
      "text/markdown": [
       "- Bitcoin: Bitfarms might be the latest to ‘buy the dip’ with 1,000 BTC purchase.  At press time, Bitcoin had fallen below the $41,000-mark and was clinging on for life at $40,920.49. The king coin has crashed by 13.46% in the last seven days and while some investors might be fretting about the state of their portfolios, other giants have been buying the dip. A bit of this, a bit [&#8230;] ... [| Skaityti daugiau](https://ambcrypto.com/bitcoin-bitfarms-might-be-the-latest-to-buy-the-dip-with-1000-btc-purchase/) "
      ],
      "text/plain": [
       "<IPython.core.display.Markdown object>"
      ]
     },
     "execution_count": 4,
     "metadata": {},
     "output_type": "execute_result"
    }
   ],
   "source": [
    "#hide_input\n",
    "#md('##### {}'.format(titleBTC)) \n",
    "md(\"- {}{} {}{} [| Skaityti daugiau]({}) \".format(btc['title'],'. ', btc['body'], ' ...', btc['url']))"
   ]
  },
  {
   "cell_type": "code",
   "execution_count": 5,
   "id": "organic-actress",
   "metadata": {
    "execution": {
     "iopub.execute_input": "2022-01-11T02:09:42.921000Z",
     "iopub.status.busy": "2022-01-11T02:09:42.920488Z",
     "iopub.status.idle": "2022-01-11T02:09:42.923597Z",
     "shell.execute_reply": "2022-01-11T02:09:42.923160Z"
    },
    "papermill": {
     "duration": 0.017177,
     "end_time": "2022-01-11T02:09:42.923720",
     "exception": false,
     "start_time": "2022-01-11T02:09:42.906543",
     "status": "completed"
    },
    "tags": []
   },
   "outputs": [
    {
     "data": {
      "text/markdown": [
       "- Former US SEC Chairman: Digital Assets Will Change Global Financial Infrastructure.  Jay Clayton said cryptocurrencies’ ability to eliminate friction in the global system will be hard to resist. The post Former US SEC Chairman: Digital Assets Will Change Global Financial Infrastructure appeared first on Blockworks. ... [| Skaityti daugiau](https://blockworks.co/former-us-sec-chairman-digital-assets-will-change-global-financial-infrastructure/) "
      ],
      "text/plain": [
       "<IPython.core.display.Markdown object>"
      ]
     },
     "execution_count": 5,
     "metadata": {},
     "output_type": "execute_result"
    }
   ],
   "source": [
    "#hide_input\n",
    "#md('##### {}'.format(titleBTC)) \n",
    "md(\"- {}{} {}{} [| Skaityti daugiau]({}) \".format(xrp['title'],'. ', xrp['body'], ' ...', xrp['url']))"
   ]
  },
  {
   "cell_type": "code",
   "execution_count": 6,
   "id": "prompt-farmer",
   "metadata": {
    "execution": {
     "iopub.execute_input": "2022-01-11T02:09:42.948910Z",
     "iopub.status.busy": "2022-01-11T02:09:42.948402Z",
     "iopub.status.idle": "2022-01-11T02:09:42.951275Z",
     "shell.execute_reply": "2022-01-11T02:09:42.951726Z"
    },
    "papermill": {
     "duration": 0.018087,
     "end_time": "2022-01-11T02:09:42.951856",
     "exception": false,
     "start_time": "2022-01-11T02:09:42.933769",
     "status": "completed"
    },
    "tags": []
   },
   "outputs": [
    {
     "data": {
      "text/markdown": [
       "- Incoming Bear Storm? Justin Sun moves $166 million Stablecoins from Exchanges to his Address.  Crypto whale and founder of the TRON (TRX) blockchain, Justin Sun, has been moving funds between his wallets. According to on-chain data, Sun has now moved $166 million worth of stablecoins from exchanges to his wallet addresses in the past two days. Is Justin Sun dumping Ether? Chinese journalist Colin Wu noted today that in The post Incoming Bear Storm? Justin Sun moves $166 million Stablecoins from Exchanges to his Address appeared first on CoinGape. ... [| Skaityti daugiau](https://coingape.com/incoming-bear-storm-justin-sun-moves-166-million-stablecoins-from-exchanges-to-his-address/) "
      ],
      "text/plain": [
       "<IPython.core.display.Markdown object>"
      ]
     },
     "execution_count": 6,
     "metadata": {},
     "output_type": "execute_result"
    }
   ],
   "source": [
    "#hide_input\n",
    "#md('##### {}'.format(titleBTC)) \n",
    "md(\"- {}{} {}{} [| Skaityti daugiau]({}) \".format(trx['title'],'. ', trx['body'], ' ...', trx['url']))"
   ]
  },
  {
   "cell_type": "code",
   "execution_count": 7,
   "id": "illegal-greece",
   "metadata": {
    "execution": {
     "iopub.execute_input": "2022-01-11T02:09:42.977794Z",
     "iopub.status.busy": "2022-01-11T02:09:42.977280Z",
     "iopub.status.idle": "2022-01-11T02:09:42.980010Z",
     "shell.execute_reply": "2022-01-11T02:09:42.980453Z"
    },
    "papermill": {
     "duration": 0.018137,
     "end_time": "2022-01-11T02:09:42.980585",
     "exception": false,
     "start_time": "2022-01-11T02:09:42.962448",
     "status": "completed"
    },
    "tags": []
   },
   "outputs": [
    {
     "data": {
      "text/markdown": [
       "- $ADA: Cardano Foundation Reaches Goal of Planting 1 Million Trees — All Recorded on Blockchain.  A reforestation effort launched by Cardano ($ADA) has reached its initial goal of planting one million trees “of different species native to areas across different parts of Madagascar, Indonesia, Nepal, Kenya, Senegal and Haiti.” The milestone was first pointed out by Frederik Gregaard, CEO of the Cardano Foundation, a non-profit organization that oversees developments on […] ... [| Skaityti daugiau](https://www.cryptoglobe.com/latest/2022/01/ada-cardano-reaches-goal-of-planting-1-million-trees-all-recorded-on-blockchain/) "
      ],
      "text/plain": [
       "<IPython.core.display.Markdown object>"
      ]
     },
     "execution_count": 7,
     "metadata": {},
     "output_type": "execute_result"
    }
   ],
   "source": [
    "#hide_input\n",
    "#md('##### {}'.format(titleBTC)) \n",
    "md(\"- {}{} {}{} [| Skaityti daugiau]({}) \".format(eth['title'],'. ', eth['body'], ' ...', eth['url']))"
   ]
  },
  {
   "cell_type": "code",
   "execution_count": 8,
   "id": "sublime-lounge",
   "metadata": {
    "execution": {
     "iopub.execute_input": "2022-01-11T02:09:43.006856Z",
     "iopub.status.busy": "2022-01-11T02:09:43.005725Z",
     "iopub.status.idle": "2022-01-11T02:09:43.009982Z",
     "shell.execute_reply": "2022-01-11T02:09:43.009572Z"
    },
    "papermill": {
     "duration": 0.01881,
     "end_time": "2022-01-11T02:09:43.010093",
     "exception": false,
     "start_time": "2022-01-11T02:09:42.991283",
     "status": "completed"
    },
    "tags": []
   },
   "outputs": [
    {
     "data": {
      "text/markdown": [
       "- $ADA: Cardano Foundation Reaches Goal of Planting 1 Million Trees — All Recorded on Blockchain.  A reforestation effort launched by Cardano ($ADA) has reached its initial goal of planting one million trees “of different species native to areas across different parts of Madagascar, Indonesia, Nepal, Kenya, Senegal and Haiti.” The milestone was first pointed out by Frederik Gregaard, CEO of the Cardano Foundation, a non-profit organization that oversees developments on […] ... [| Skaityti daugiau](https://www.cryptoglobe.com/latest/2022/01/ada-cardano-reaches-goal-of-planting-1-million-trees-all-recorded-on-blockchain/) "
      ],
      "text/plain": [
       "<IPython.core.display.Markdown object>"
      ]
     },
     "execution_count": 8,
     "metadata": {},
     "output_type": "execute_result"
    }
   ],
   "source": [
    "#hide_input\n",
    "#md('##### {}'.format(titleBTC)) \n",
    "md(\"- {}{} {}{} [| Skaityti daugiau]({}) \".format(ada['title'],'. ', ada['body'], ' ...', ada['url']))"
   ]
  },
  {
   "cell_type": "code",
   "execution_count": 9,
   "id": "specified-ordering",
   "metadata": {
    "execution": {
     "iopub.execute_input": "2022-01-11T02:09:43.037493Z",
     "iopub.status.busy": "2022-01-11T02:09:43.036945Z",
     "iopub.status.idle": "2022-01-11T02:09:43.039845Z",
     "shell.execute_reply": "2022-01-11T02:09:43.039383Z"
    },
    "papermill": {
     "duration": 0.01878,
     "end_time": "2022-01-11T02:09:43.039961",
     "exception": false,
     "start_time": "2022-01-11T02:09:43.021181",
     "status": "completed"
    },
    "tags": []
   },
   "outputs": [
    {
     "data": {
      "text/markdown": [
       "- Cardano (ADA) Dumps as Coinbase Suspends Transactions.  Since the tightened regulations from the Federal Reserve, the crypto market has crashed and thus users are facing many issues.The post has appeared first on thenewscrypto.com ... [| Skaityti daugiau](https://thenewscrypto.com/why-is-it-ada-coinbase-disables-cardano-transactions/) "
      ],
      "text/plain": [
       "<IPython.core.display.Markdown object>"
      ]
     },
     "execution_count": 9,
     "metadata": {},
     "output_type": "execute_result"
    }
   ],
   "source": [
    "#hide_input\n",
    "#md('##### {}'.format(titleBTC)) \n",
    "md(\"- {}{} {}{} [| Skaityti daugiau]({}) \".format(exchange['title'],'. ', exchange['body'], ' ...', exchange['url']))"
   ]
  },
  {
   "cell_type": "code",
   "execution_count": null,
   "id": "tender-livestock",
   "metadata": {
    "papermill": {
     "duration": 0.011405,
     "end_time": "2022-01-11T02:09:43.062782",
     "exception": false,
     "start_time": "2022-01-11T02:09:43.051377",
     "status": "completed"
    },
    "tags": []
   },
   "outputs": [],
   "source": []
  },
  {
   "cell_type": "code",
   "execution_count": null,
   "id": "appreciated-diamond",
   "metadata": {
    "papermill": {
     "duration": 0.011856,
     "end_time": "2022-01-11T02:09:43.086270",
     "exception": false,
     "start_time": "2022-01-11T02:09:43.074414",
     "status": "completed"
    },
    "tags": []
   },
   "outputs": [],
   "source": []
  },
  {
   "cell_type": "code",
   "execution_count": null,
   "id": "romance-sweden",
   "metadata": {
    "papermill": {
     "duration": 0.011269,
     "end_time": "2022-01-11T02:09:43.108917",
     "exception": false,
     "start_time": "2022-01-11T02:09:43.097648",
     "status": "completed"
    },
    "tags": []
   },
   "outputs": [],
   "source": []
  },
  {
   "cell_type": "code",
   "execution_count": null,
   "id": "dietary-statistics",
   "metadata": {
    "papermill": {
     "duration": 0.011272,
     "end_time": "2022-01-11T02:09:43.131521",
     "exception": false,
     "start_time": "2022-01-11T02:09:43.120249",
     "status": "completed"
    },
    "tags": []
   },
   "outputs": [],
   "source": []
  }
 ],
 "metadata": {
  "kernelspec": {
   "display_name": "Python 3",
   "language": "python",
   "name": "python3"
  },
  "language_info": {
   "codemirror_mode": {
    "name": "ipython",
    "version": 3
   },
   "file_extension": ".py",
   "mimetype": "text/x-python",
   "name": "python",
   "nbconvert_exporter": "python",
   "pygments_lexer": "ipython3",
   "version": "3.6.15"
  },
  "papermill": {
   "default_parameters": {},
   "duration": 12.152836,
   "end_time": "2022-01-11T02:09:43.651844",
   "environment_variables": {},
   "exception": null,
   "input_path": "Market-News.ipynb",
   "output_path": "Market-News.ipynb",
   "parameters": {},
   "start_time": "2022-01-11T02:09:31.499008",
   "version": "2.2.2"
  }
 },
 "nbformat": 4,
 "nbformat_minor": 5
}