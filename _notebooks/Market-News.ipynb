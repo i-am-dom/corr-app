{
 "cells": [
  {
   "cell_type": "markdown",
   "id": "short-greensboro",
   "metadata": {
    "papermill": {
     "duration": 0.013882,
     "end_time": "2021-11-14T02:00:43.323889",
     "exception": false,
     "start_time": "2021-11-14T02:00:43.310007",
     "status": "completed"
    },
    "tags": []
   },
   "source": [
    "# Kriptovaliutų naujienos"
   ]
  },
  {
   "cell_type": "code",
   "execution_count": 1,
   "id": "functioning-knowing",
   "metadata": {
    "execution": {
     "iopub.execute_input": "2021-11-14T02:00:43.350493Z",
     "iopub.status.busy": "2021-11-14T02:00:43.349894Z",
     "iopub.status.idle": "2021-11-14T02:00:44.374212Z",
     "shell.execute_reply": "2021-11-14T02:00:44.373750Z"
    },
    "papermill": {
     "duration": 1.040838,
     "end_time": "2021-11-14T02:00:44.374351",
     "exception": false,
     "start_time": "2021-11-14T02:00:43.333513",
     "status": "completed"
    },
    "tags": []
   },
   "outputs": [],
   "source": [
    "#hide_input\n",
    "import warnings\n",
    "warnings.filterwarnings('ignore')\n",
    "from scripts.read_data import read_api\n",
    "from scripts.read_data import read_news\n",
    "from scripts.read_data import read_covid\n",
    "import matplotlib.pyplot as plt \n",
    "from IPython.display import Markdown as md"
   ]
  },
  {
   "cell_type": "code",
   "execution_count": 2,
   "id": "shared-acceptance",
   "metadata": {
    "execution": {
     "iopub.execute_input": "2021-11-14T02:00:44.397664Z",
     "iopub.status.busy": "2021-11-14T02:00:44.397161Z",
     "iopub.status.idle": "2021-11-14T02:00:52.733560Z",
     "shell.execute_reply": "2021-11-14T02:00:52.733032Z"
    },
    "papermill": {
     "duration": 8.350081,
     "end_time": "2021-11-14T02:00:52.733700",
     "exception": false,
     "start_time": "2021-11-14T02:00:44.383619",
     "status": "completed"
    },
    "tags": []
   },
   "outputs": [],
   "source": [
    "#hide_input\n",
    "blockchain = read_news('blockchain') \n",
    "btc = read_news('btc') \n",
    "xrp = read_news('xrp') \n",
    "trx = read_news('trx') \n",
    "eth = read_news('eth')  \n",
    "ada = read_news('ada')\n",
    "exchange = read_news('exchange') "
   ]
  },
  {
   "cell_type": "code",
   "execution_count": 3,
   "id": "synthetic-notion",
   "metadata": {
    "execution": {
     "iopub.execute_input": "2021-11-14T02:00:52.758146Z",
     "iopub.status.busy": "2021-11-14T02:00:52.757641Z",
     "iopub.status.idle": "2021-11-14T02:00:52.759944Z",
     "shell.execute_reply": "2021-11-14T02:00:52.760344Z"
    },
    "papermill": {
     "duration": 0.01715,
     "end_time": "2021-11-14T02:00:52.760467",
     "exception": false,
     "start_time": "2021-11-14T02:00:52.743317",
     "status": "completed"
    },
    "tags": []
   },
   "outputs": [
    {
     "data": {
      "text/markdown": [
       "- 60% of Video Game Developers Are Already Using Blockchain: Research.  According to a recent poll, most video game developers from the States and the United Kingdom are interested in blockchain and NFT technologies. ... [| Skaityti daugiau](https://cryptopotato.com/60-of-video-game-developers-are-already-using-blockchain-research/) "
      ],
      "text/plain": [
       "<IPython.core.display.Markdown object>"
      ]
     },
     "execution_count": 3,
     "metadata": {},
     "output_type": "execute_result"
    }
   ],
   "source": [
    "#hide_input\n",
    "#md('##### {}'.format(titleBTC)) \n",
    "md(\"- {}{} {}{} [| Skaityti daugiau]({}) \".format(blockchain['title'],'. ', blockchain['body'], ' ...', blockchain['url']))"
   ]
  },
  {
   "cell_type": "code",
   "execution_count": 4,
   "id": "aging-caution",
   "metadata": {
    "execution": {
     "iopub.execute_input": "2021-11-14T02:00:52.782962Z",
     "iopub.status.busy": "2021-11-14T02:00:52.782457Z",
     "iopub.status.idle": "2021-11-14T02:00:52.785073Z",
     "shell.execute_reply": "2021-11-14T02:00:52.785475Z"
    },
    "papermill": {
     "duration": 0.015771,
     "end_time": "2021-11-14T02:00:52.785584",
     "exception": false,
     "start_time": "2021-11-14T02:00:52.769813",
     "status": "completed"
    },
    "tags": []
   },
   "outputs": [
    {
     "data": {
      "text/markdown": [
       "- Forget Bears: Bitcoin Takes On The Duck Curve.  As the bears lick their wounds and escape to the caves for the winter, Bitcoin sinks its teeth into a new animal; the duck curve of the energy grid. ... [| Skaityti daugiau](https://bitcoinmagazine.com/technical/forget-bears-bitcoin-duck-curve) "
      ],
      "text/plain": [
       "<IPython.core.display.Markdown object>"
      ]
     },
     "execution_count": 4,
     "metadata": {},
     "output_type": "execute_result"
    }
   ],
   "source": [
    "#hide_input\n",
    "#md('##### {}'.format(titleBTC)) \n",
    "md(\"- {}{} {}{} [| Skaityti daugiau]({}) \".format(btc['title'],'. ', btc['body'], ' ...', btc['url']))"
   ]
  },
  {
   "cell_type": "code",
   "execution_count": 5,
   "id": "organic-actress",
   "metadata": {
    "execution": {
     "iopub.execute_input": "2021-11-14T02:00:52.808537Z",
     "iopub.status.busy": "2021-11-14T02:00:52.808002Z",
     "iopub.status.idle": "2021-11-14T02:00:52.811003Z",
     "shell.execute_reply": "2021-11-14T02:00:52.810606Z"
    },
    "papermill": {
     "duration": 0.01606,
     "end_time": "2021-11-14T02:00:52.811101",
     "exception": false,
     "start_time": "2021-11-14T02:00:52.795041",
     "status": "completed"
    },
    "tags": []
   },
   "outputs": [
    {
     "data": {
      "text/markdown": [
       "- Former CFTC Commissioner says ‘blanketly throwing out terms’ do not a policy debate make.  Words matter. Since SEC Chairman Gary Gensler used the phrase &#8220;Wild West&#8221; to describe the largely unregulated crypto sector, the metaphor has become a catchphrase. But do other regulators agree with this language? During the November Ripple Swell event, a former Commodity Futures Trading Commission [CFTC] official shared his take on the &#8220;Wild West&#8221; comparison. Sticks [&#8230;] ... [| Skaityti daugiau](https://ambcrypto.com/former-cftc-commissioner-says-blanketly-throwing-out-terms-do-not-a-policy-debate-make/) "
      ],
      "text/plain": [
       "<IPython.core.display.Markdown object>"
      ]
     },
     "execution_count": 5,
     "metadata": {},
     "output_type": "execute_result"
    }
   ],
   "source": [
    "#hide_input\n",
    "#md('##### {}'.format(titleBTC)) \n",
    "md(\"- {}{} {}{} [| Skaityti daugiau]({}) \".format(xrp['title'],'. ', xrp['body'], ' ...', xrp['url']))"
   ]
  },
  {
   "cell_type": "code",
   "execution_count": 6,
   "id": "prompt-farmer",
   "metadata": {
    "execution": {
     "iopub.execute_input": "2021-11-14T02:00:52.835069Z",
     "iopub.status.busy": "2021-11-14T02:00:52.834573Z",
     "iopub.status.idle": "2021-11-14T02:00:52.837789Z",
     "shell.execute_reply": "2021-11-14T02:00:52.837390Z"
    },
    "papermill": {
     "duration": 0.016932,
     "end_time": "2021-11-14T02:00:52.837889",
     "exception": false,
     "start_time": "2021-11-14T02:00:52.820957",
     "status": "completed"
    },
    "tags": []
   },
   "outputs": [
    {
     "data": {
      "text/markdown": [
       "- Bitcoin Cash, Tron, MANA Price Analysis: 13 November.  The crypto market gave the perception of gathering buying momentum while the bears constantly retraced the milestones achieved by the cryptos over the week. Bitcoin Cash continued to flash bearish signs in the near term. On the contrary, MANA broke out of a descending wedge to hit the $3.8-mark and displayed withdrawal signs. Bitcoin Cash [&#8230;] ... [| Skaityti daugiau](https://ambcrypto.com/bitcoin-cash-tron-mana-price-analysis-13-november/) "
      ],
      "text/plain": [
       "<IPython.core.display.Markdown object>"
      ]
     },
     "execution_count": 6,
     "metadata": {},
     "output_type": "execute_result"
    }
   ],
   "source": [
    "#hide_input\n",
    "#md('##### {}'.format(titleBTC)) \n",
    "md(\"- {}{} {}{} [| Skaityti daugiau]({}) \".format(trx['title'],'. ', trx['body'], ' ...', trx['url']))"
   ]
  },
  {
   "cell_type": "code",
   "execution_count": 7,
   "id": "illegal-greece",
   "metadata": {
    "execution": {
     "iopub.execute_input": "2021-11-14T02:00:52.862560Z",
     "iopub.status.busy": "2021-11-14T02:00:52.862057Z",
     "iopub.status.idle": "2021-11-14T02:00:52.865272Z",
     "shell.execute_reply": "2021-11-14T02:00:52.864872Z"
    },
    "papermill": {
     "duration": 0.01722,
     "end_time": "2021-11-14T02:00:52.865370",
     "exception": false,
     "start_time": "2021-11-14T02:00:52.848150",
     "status": "completed"
    },
    "tags": []
   },
   "outputs": [
    {
     "data": {
      "text/markdown": [
       "- Crypto Analyst Who Called Bitcoin Bottom Predicts Major Ethereum Surge, Says Binance Coin Set for New All-Time High.  A leading cryptocurrency analyst and trader is predicting that two of the largest crypto assets by market cap are primed for a rally. The pseudonymous analyst known as Smart Contracter tells his 180,200 Twitter followers that leading smart contract platform Ethereum is set to break out against Bitcoin (ETH/BTC). &#8220;ETH/BTC when, not if.&#8221; According to [&#8230;]The post Crypto Analyst Who Called Bitcoin Bottom Predicts Major Ethereum Surge, Says Binance Coin Set for New All-Time High appeared first on The Daily Hodl. ... [| Skaityti daugiau](https://dailyhodl.com/2021/11/13/crypto-analyst-who-called-bitcoin-bottom-predicts-major-ethereum-surge-says-binance-coin-set-for-new-all-time-high/) "
      ],
      "text/plain": [
       "<IPython.core.display.Markdown object>"
      ]
     },
     "execution_count": 7,
     "metadata": {},
     "output_type": "execute_result"
    }
   ],
   "source": [
    "#hide_input\n",
    "#md('##### {}'.format(titleBTC)) \n",
    "md(\"- {}{} {}{} [| Skaityti daugiau]({}) \".format(eth['title'],'. ', eth['body'], ' ...', eth['url']))"
   ]
  },
  {
   "cell_type": "code",
   "execution_count": 8,
   "id": "sublime-lounge",
   "metadata": {
    "execution": {
     "iopub.execute_input": "2021-11-14T02:00:52.890253Z",
     "iopub.status.busy": "2021-11-14T02:00:52.889746Z",
     "iopub.status.idle": "2021-11-14T02:00:52.892376Z",
     "shell.execute_reply": "2021-11-14T02:00:52.892809Z"
    },
    "papermill": {
     "duration": 0.017124,
     "end_time": "2021-11-14T02:00:52.892916",
     "exception": false,
     "start_time": "2021-11-14T02:00:52.875792",
     "status": "completed"
    },
    "tags": []
   },
   "outputs": [
    {
     "data": {
      "text/markdown": [
       "- ADALend: Announcing Imminent Cross-Platform Development.   ... [| Skaityti daugiau](https://cryptobriefing.com/adalend-announcing-imminent-cross-platform-development/?utm_source=main_feed&utm_medium=rss) "
      ],
      "text/plain": [
       "<IPython.core.display.Markdown object>"
      ]
     },
     "execution_count": 8,
     "metadata": {},
     "output_type": "execute_result"
    }
   ],
   "source": [
    "#hide_input\n",
    "#md('##### {}'.format(titleBTC)) \n",
    "md(\"- {}{} {}{} [| Skaityti daugiau]({}) \".format(ada['title'],'. ', ada['body'], ' ...', ada['url']))"
   ]
  },
  {
   "cell_type": "code",
   "execution_count": 9,
   "id": "specified-ordering",
   "metadata": {
    "execution": {
     "iopub.execute_input": "2021-11-14T02:00:52.918596Z",
     "iopub.status.busy": "2021-11-14T02:00:52.918100Z",
     "iopub.status.idle": "2021-11-14T02:00:52.920770Z",
     "shell.execute_reply": "2021-11-14T02:00:52.921173Z"
    },
    "papermill": {
     "duration": 0.017581,
     "end_time": "2021-11-14T02:00:52.921279",
     "exception": false,
     "start_time": "2021-11-14T02:00:52.903698",
     "status": "completed"
    },
    "tags": []
   },
   "outputs": [
    {
     "data": {
      "text/markdown": [
       "- Crypto Exchange Gemini Adds Shiba Inu Support — SHIB Investors Hopeful Robinhood Will Be Next.  Another major cryptocurrency exchange has added support for the meme cryptocurrency shiba inu. Gemini has begun supporting SHIB alongside a few new defi, metaverse, infrastructure, and data management tokens. Meanwhile, the petition for Robinhood to list the shiba inu crypto has garnered more than 531K signatures. Shiba Inu (SHIB) Now Supported on Gemini Cryptocurrency exchange [&#8230;] ... [| Skaityti daugiau](https://news.bitcoin.com/crypto-exchange-gemini-shiba-inu-shib-investors-robinhood/) "
      ],
      "text/plain": [
       "<IPython.core.display.Markdown object>"
      ]
     },
     "execution_count": 9,
     "metadata": {},
     "output_type": "execute_result"
    }
   ],
   "source": [
    "#hide_input\n",
    "#md('##### {}'.format(titleBTC)) \n",
    "md(\"- {}{} {}{} [| Skaityti daugiau]({}) \".format(exchange['title'],'. ', exchange['body'], ' ...', exchange['url']))"
   ]
  },
  {
   "cell_type": "code",
   "execution_count": null,
   "id": "tender-livestock",
   "metadata": {
    "papermill": {
     "duration": 0.011074,
     "end_time": "2021-11-14T02:00:52.943453",
     "exception": false,
     "start_time": "2021-11-14T02:00:52.932379",
     "status": "completed"
    },
    "tags": []
   },
   "outputs": [],
   "source": []
  },
  {
   "cell_type": "code",
   "execution_count": null,
   "id": "appreciated-diamond",
   "metadata": {
    "papermill": {
     "duration": 0.012006,
     "end_time": "2021-11-14T02:00:52.967992",
     "exception": false,
     "start_time": "2021-11-14T02:00:52.955986",
     "status": "completed"
    },
    "tags": []
   },
   "outputs": [],
   "source": []
  },
  {
   "cell_type": "code",
   "execution_count": null,
   "id": "romance-sweden",
   "metadata": {
    "papermill": {
     "duration": 0.011029,
     "end_time": "2021-11-14T02:00:52.990117",
     "exception": false,
     "start_time": "2021-11-14T02:00:52.979088",
     "status": "completed"
    },
    "tags": []
   },
   "outputs": [],
   "source": []
  },
  {
   "cell_type": "code",
   "execution_count": null,
   "id": "dietary-statistics",
   "metadata": {
    "papermill": {
     "duration": 0.010948,
     "end_time": "2021-11-14T02:00:53.012107",
     "exception": false,
     "start_time": "2021-11-14T02:00:53.001159",
     "status": "completed"
    },
    "tags": []
   },
   "outputs": [],
   "source": []
  }
 ],
 "metadata": {
  "kernelspec": {
   "display_name": "Python 3",
   "language": "python",
   "name": "python3"
  },
  "language_info": {
   "codemirror_mode": {
    "name": "ipython",
    "version": 3
   },
   "file_extension": ".py",
   "mimetype": "text/x-python",
   "name": "python",
   "nbconvert_exporter": "python",
   "pygments_lexer": "ipython3",
   "version": "3.6.15"
  },
  "papermill": {
   "default_parameters": {},
   "duration": 11.115373,
   "end_time": "2021-11-14T02:00:53.430947",
   "environment_variables": {},
   "exception": null,
   "input_path": "Market-News.ipynb",
   "output_path": "Market-News.ipynb",
   "parameters": {},
   "start_time": "2021-11-14T02:00:42.315574",
   "version": "2.2.2"
  }
 },
 "nbformat": 4,
 "nbformat_minor": 5
}