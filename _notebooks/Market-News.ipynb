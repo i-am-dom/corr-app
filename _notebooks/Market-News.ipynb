{
 "cells": [
  {
   "cell_type": "markdown",
   "id": "short-greensboro",
   "metadata": {
    "papermill": {
     "duration": 0.013397,
     "end_time": "2021-08-20T01:54:59.943017",
     "exception": false,
     "start_time": "2021-08-20T01:54:59.929620",
     "status": "completed"
    },
    "tags": []
   },
   "source": [
    "# Kriptovaliutų naujienos"
   ]
  },
  {
   "cell_type": "code",
   "execution_count": 1,
   "id": "functioning-knowing",
   "metadata": {
    "execution": {
     "iopub.execute_input": "2021-08-20T01:54:59.971752Z",
     "iopub.status.busy": "2021-08-20T01:54:59.971263Z",
     "iopub.status.idle": "2021-08-20T01:55:01.025067Z",
     "shell.execute_reply": "2021-08-20T01:55:01.024073Z"
    },
    "papermill": {
     "duration": 1.073363,
     "end_time": "2021-08-20T01:55:01.025315",
     "exception": false,
     "start_time": "2021-08-20T01:54:59.951952",
     "status": "completed"
    },
    "tags": []
   },
   "outputs": [],
   "source": [
    "#hide_input\n",
    "import warnings\n",
    "warnings.filterwarnings('ignore')\n",
    "from scripts.read_data import read_api\n",
    "from scripts.read_data import read_news\n",
    "from scripts.read_data import read_covid\n",
    "import matplotlib.pyplot as plt \n",
    "from IPython.display import Markdown as md"
   ]
  },
  {
   "cell_type": "code",
   "execution_count": 2,
   "id": "shared-acceptance",
   "metadata": {
    "execution": {
     "iopub.execute_input": "2021-08-20T01:55:01.056153Z",
     "iopub.status.busy": "2021-08-20T01:55:01.055455Z",
     "iopub.status.idle": "2021-08-20T01:55:09.509203Z",
     "shell.execute_reply": "2021-08-20T01:55:09.508269Z"
    },
    "papermill": {
     "duration": 8.469643,
     "end_time": "2021-08-20T01:55:09.509315",
     "exception": false,
     "start_time": "2021-08-20T01:55:01.039672",
     "status": "completed"
    },
    "tags": []
   },
   "outputs": [],
   "source": [
    "#hide_input\n",
    "blockchain = read_news('blockchain') \n",
    "btc = read_news('btc') \n",
    "xrp = read_news('xrp') \n",
    "trx = read_news('trx') \n",
    "eth = read_news('eth')  \n",
    "ada = read_news('ada')\n",
    "exchange = read_news('exchange') "
   ]
  },
  {
   "cell_type": "code",
   "execution_count": 3,
   "id": "synthetic-notion",
   "metadata": {
    "execution": {
     "iopub.execute_input": "2021-08-20T01:55:09.535750Z",
     "iopub.status.busy": "2021-08-20T01:55:09.535275Z",
     "iopub.status.idle": "2021-08-20T01:55:09.539898Z",
     "shell.execute_reply": "2021-08-20T01:55:09.539548Z"
    },
    "papermill": {
     "duration": 0.022422,
     "end_time": "2021-08-20T01:55:09.539983",
     "exception": false,
     "start_time": "2021-08-20T01:55:09.517561",
     "status": "completed"
    },
    "tags": []
   },
   "outputs": [
    {
     "data": {
      "text/markdown": [
       "- What Ethereum’s co-founder has to say about Bitcoin lacking this ability.  Ethereum doesn&#8217;t have a bigger proponent than co-founder Vitalik Buterin, with the developer always attempting to highlight its worth over Bitcoin. In a recent interview with Bloomberg, the entrepreneur expressed his skepticism about the blockchain plans pushed forward by the CEOs of social media giants Twitter and Facebook. The former, in particular, is of major [&#8230;] ... [| Skaityti daugiau](https://ambcrypto.com/what-ethereums-co-founder-has-to-say-about-bitcoin-lacking-this-ability/) "
      ],
      "text/plain": [
       "<IPython.core.display.Markdown object>"
      ]
     },
     "execution_count": 3,
     "metadata": {},
     "output_type": "execute_result"
    }
   ],
   "source": [
    "#hide_input\n",
    "#md('##### {}'.format(titleBTC)) \n",
    "md(\"- {}{} {}{} [| Skaityti daugiau]({}) \".format(blockchain['title'],'. ', blockchain['body'], ' ...', blockchain['url']))"
   ]
  },
  {
   "cell_type": "code",
   "execution_count": 4,
   "id": "aging-caution",
   "metadata": {
    "execution": {
     "iopub.execute_input": "2021-08-20T01:55:09.566276Z",
     "iopub.status.busy": "2021-08-20T01:55:09.565047Z",
     "iopub.status.idle": "2021-08-20T01:55:09.569062Z",
     "shell.execute_reply": "2021-08-20T01:55:09.569746Z"
    },
    "papermill": {
     "duration": 0.020597,
     "end_time": "2021-08-20T01:55:09.569854",
     "exception": false,
     "start_time": "2021-08-20T01:55:09.549257",
     "status": "completed"
    },
    "tags": []
   },
   "outputs": [
    {
     "data": {
      "text/markdown": [
       "- Coinbase buying crypto for balance sheet.  Coinbase (NASDAQ:COIN) CEO Brian Armstrong two hours ago took to Twitter to announce board approval for the company to buy more than $500M in cryptocurrency for the balance sheet. In addition, Armstrong says Coinbase (COIN) will be investing 10% of all future profits in crypto, a percent he expects will grow over time. The company last week announced a $1.6B profit in Q2, and a cash balance of $4.4B. One would expect that most of this money will be going into bitcoin (BTC-USD), but - writing in a blog post this evening - CFO Alesia Haas says Coinbase (COIN) will become the first publicly traded to hold ethereum (ETH-USD), Proof of Stake, and DeFi assets on its balance sheet. Haas notes the majority of Coinbase's (COIN) current financial transactions are done in fiat, possibly at odds with a company trying to lead the way in crypto adoption. Coinbase (COIN) is up 0.7% after ... [| Skaityti daugiau](https://seekingalpha.com/news/3732562-coinbase-buying-crypto-for-balance-sheet?utm_source=cryptocompare.com&utm_medium=referral) "
      ],
      "text/plain": [
       "<IPython.core.display.Markdown object>"
      ]
     },
     "execution_count": 4,
     "metadata": {},
     "output_type": "execute_result"
    }
   ],
   "source": [
    "#hide_input\n",
    "#md('##### {}'.format(titleBTC)) \n",
    "md(\"- {}{} {}{} [| Skaityti daugiau]({}) \".format(btc['title'],'. ', btc['body'], ' ...', btc['url']))"
   ]
  },
  {
   "cell_type": "code",
   "execution_count": 5,
   "id": "organic-actress",
   "metadata": {
    "execution": {
     "iopub.execute_input": "2021-08-20T01:55:09.591291Z",
     "iopub.status.busy": "2021-08-20T01:55:09.590174Z",
     "iopub.status.idle": "2021-08-20T01:55:09.593898Z",
     "shell.execute_reply": "2021-08-20T01:55:09.593500Z"
    },
    "papermill": {
     "duration": 0.016255,
     "end_time": "2021-08-20T01:55:09.593986",
     "exception": false,
     "start_time": "2021-08-20T01:55:09.577731",
     "status": "completed"
    },
    "tags": []
   },
   "outputs": [
    {
     "data": {
      "text/markdown": [
       "- Bitcoin, Ethereum, Tron, XRP Worth $97,000,000 Looted in Massive Crypto Exchange Hack.  Japanese cryptocurrency exchange Liquid Global just suffered a massive hack, losing control of tens of millions of dollars in top crypto assets, including Bitcoin (BTC), Ethereum (ETH), Tron (TRX), and XRP. Blockchain analytics firm Elliptic is tracking the hack and tallying up the numbers. The firm says $97 million in cryptocurrency has been stolen, according [&#8230;]The post Bitcoin, Ethereum, Tron, XRP Worth $97,000,000 Looted in Massive Crypto Exchange Hack appeared first on The Daily Hodl. ... [| Skaityti daugiau](https://dailyhodl.com/2022/08/19/bitcoin-ethereum-tron-xrp-worth-97000000-looted-in-massive-crypto-exchange-hack/) "
      ],
      "text/plain": [
       "<IPython.core.display.Markdown object>"
      ]
     },
     "execution_count": 5,
     "metadata": {},
     "output_type": "execute_result"
    }
   ],
   "source": [
    "#hide_input\n",
    "#md('##### {}'.format(titleBTC)) \n",
    "md(\"- {}{} {}{} [| Skaityti daugiau]({}) \".format(xrp['title'],'. ', xrp['body'], ' ...', xrp['url']))"
   ]
  },
  {
   "cell_type": "code",
   "execution_count": 6,
   "id": "prompt-farmer",
   "metadata": {
    "execution": {
     "iopub.execute_input": "2021-08-20T01:55:09.617124Z",
     "iopub.status.busy": "2021-08-20T01:55:09.616360Z",
     "iopub.status.idle": "2021-08-20T01:55:09.618795Z",
     "shell.execute_reply": "2021-08-20T01:55:09.619315Z"
    },
    "papermill": {
     "duration": 0.017024,
     "end_time": "2021-08-20T01:55:09.619451",
     "exception": false,
     "start_time": "2021-08-20T01:55:09.602427",
     "status": "completed"
    },
    "tags": []
   },
   "outputs": [
    {
     "data": {
      "text/markdown": [
       "- Bitcoin, Ethereum, Tron, XRP Worth $97,000,000 Looted in Massive Crypto Exchange Hack.  Japanese cryptocurrency exchange Liquid Global just suffered a massive hack, losing control of tens of millions of dollars in top crypto assets, including Bitcoin (BTC), Ethereum (ETH), Tron (TRX), and XRP. Blockchain analytics firm Elliptic is tracking the hack and tallying up the numbers. The firm says $97 million in cryptocurrency has been stolen, according [&#8230;]The post Bitcoin, Ethereum, Tron, XRP Worth $97,000,000 Looted in Massive Crypto Exchange Hack appeared first on The Daily Hodl. ... [| Skaityti daugiau](https://dailyhodl.com/2022/08/19/bitcoin-ethereum-tron-xrp-worth-97000000-looted-in-massive-crypto-exchange-hack/) "
      ],
      "text/plain": [
       "<IPython.core.display.Markdown object>"
      ]
     },
     "execution_count": 6,
     "metadata": {},
     "output_type": "execute_result"
    }
   ],
   "source": [
    "#hide_input\n",
    "#md('##### {}'.format(titleBTC)) \n",
    "md(\"- {}{} {}{} [| Skaityti daugiau]({}) \".format(trx['title'],'. ', trx['body'], ' ...', trx['url']))"
   ]
  },
  {
   "cell_type": "code",
   "execution_count": 7,
   "id": "illegal-greece",
   "metadata": {
    "execution": {
     "iopub.execute_input": "2021-08-20T01:55:09.642780Z",
     "iopub.status.busy": "2021-08-20T01:55:09.642367Z",
     "iopub.status.idle": "2021-08-20T01:55:09.644997Z",
     "shell.execute_reply": "2021-08-20T01:55:09.644627Z"
    },
    "papermill": {
     "duration": 0.0156,
     "end_time": "2021-08-20T01:55:09.645076",
     "exception": false,
     "start_time": "2021-08-20T01:55:09.629476",
     "status": "completed"
    },
    "tags": []
   },
   "outputs": [
    {
     "data": {
      "text/markdown": [
       "- Coinbase buying crypto for balance sheet.  Coinbase (NASDAQ:COIN) CEO Brian Armstrong two hours ago took to Twitter to announce board approval for the company to buy more than $500M in cryptocurrency for the balance sheet. In addition, Armstrong says Coinbase (COIN) will be investing 10% of all future profits in crypto, a percent he expects will grow over time. The company last week announced a $1.6B profit in Q2, and a cash balance of $4.4B. One would expect that most of this money will be going into bitcoin (BTC-USD), but - writing in a blog post this evening - CFO Alesia Haas says Coinbase (COIN) will become the first publicly traded to hold ethereum (ETH-USD), Proof of Stake, and DeFi assets on its balance sheet. Haas notes the majority of Coinbase's (COIN) current financial transactions are done in fiat, possibly at odds with a company trying to lead the way in crypto adoption. Coinbase (COIN) is up 0.7% after ... [| Skaityti daugiau](https://seekingalpha.com/news/3732562-coinbase-buying-crypto-for-balance-sheet?utm_source=cryptocompare.com&utm_medium=referral) "
      ],
      "text/plain": [
       "<IPython.core.display.Markdown object>"
      ]
     },
     "execution_count": 7,
     "metadata": {},
     "output_type": "execute_result"
    }
   ],
   "source": [
    "#hide_input\n",
    "#md('##### {}'.format(titleBTC)) \n",
    "md(\"- {}{} {}{} [| Skaityti daugiau]({}) \".format(eth['title'],'. ', eth['body'], ' ...', eth['url']))"
   ]
  },
  {
   "cell_type": "code",
   "execution_count": 8,
   "id": "sublime-lounge",
   "metadata": {
    "execution": {
     "iopub.execute_input": "2021-08-20T01:55:09.670015Z",
     "iopub.status.busy": "2021-08-20T01:55:09.669545Z",
     "iopub.status.idle": "2021-08-20T01:55:09.672433Z",
     "shell.execute_reply": "2021-08-20T01:55:09.672035Z"
    },
    "papermill": {
     "duration": 0.016791,
     "end_time": "2021-08-20T01:55:09.672520",
     "exception": false,
     "start_time": "2021-08-20T01:55:09.655729",
     "status": "completed"
    },
    "tags": []
   },
   "outputs": [
    {
     "data": {
      "text/markdown": [
       "- Bullish cup and handle pattern sets Cardano (ADA) price up for a new ATH.  ADA’s daily close above the $2.30 resistance and a classic bullish technical analysis pattern signal that the altcoin is ready to hit a new all-time high. ... [| Skaityti daugiau](https://cointelegraph.com/news/bullish-cup-and-handle-pattern-sets-cardano-ada-price-up-for-a-new-ath) "
      ],
      "text/plain": [
       "<IPython.core.display.Markdown object>"
      ]
     },
     "execution_count": 8,
     "metadata": {},
     "output_type": "execute_result"
    }
   ],
   "source": [
    "#hide_input\n",
    "#md('##### {}'.format(titleBTC)) \n",
    "md(\"- {}{} {}{} [| Skaityti daugiau]({}) \".format(ada['title'],'. ', ada['body'], ' ...', ada['url']))"
   ]
  },
  {
   "cell_type": "code",
   "execution_count": 9,
   "id": "specified-ordering",
   "metadata": {
    "execution": {
     "iopub.execute_input": "2021-08-20T01:55:09.698066Z",
     "iopub.status.busy": "2021-08-20T01:55:09.696625Z",
     "iopub.status.idle": "2021-08-20T01:55:09.701328Z",
     "shell.execute_reply": "2021-08-20T01:55:09.700784Z"
    },
    "papermill": {
     "duration": 0.018819,
     "end_time": "2021-08-20T01:55:09.701442",
     "exception": false,
     "start_time": "2021-08-20T01:55:09.682623",
     "status": "completed"
    },
    "tags": []
   },
   "outputs": [
    {
     "data": {
      "text/markdown": [
       "- $100M funding round for Binance.us falls through on regulatory concerns.  Despite a failed $100 million funding round leading to the resignation of Binance.us CEO, Brian Brooks, the exchange still has its sights set on launching an IPO. ... [| Skaityti daugiau](https://cointelegraph.com/news/100m-funding-round-for-binance-us-falls-through-on-regulatory-concerns) "
      ],
      "text/plain": [
       "<IPython.core.display.Markdown object>"
      ]
     },
     "execution_count": 9,
     "metadata": {},
     "output_type": "execute_result"
    }
   ],
   "source": [
    "#hide_input\n",
    "#md('##### {}'.format(titleBTC)) \n",
    "md(\"- {}{} {}{} [| Skaityti daugiau]({}) \".format(exchange['title'],'. ', exchange['body'], ' ...', exchange['url']))"
   ]
  },
  {
   "cell_type": "code",
   "execution_count": null,
   "id": "tender-livestock",
   "metadata": {
    "papermill": {
     "duration": 0.009334,
     "end_time": "2021-08-20T01:55:09.721308",
     "exception": false,
     "start_time": "2021-08-20T01:55:09.711974",
     "status": "completed"
    },
    "tags": []
   },
   "outputs": [],
   "source": []
  },
  {
   "cell_type": "code",
   "execution_count": null,
   "id": "appreciated-diamond",
   "metadata": {
    "papermill": {
     "duration": 0.009358,
     "end_time": "2021-08-20T01:55:09.740197",
     "exception": false,
     "start_time": "2021-08-20T01:55:09.730839",
     "status": "completed"
    },
    "tags": []
   },
   "outputs": [],
   "source": []
  },
  {
   "cell_type": "code",
   "execution_count": null,
   "id": "romance-sweden",
   "metadata": {
    "papermill": {
     "duration": 0.009673,
     "end_time": "2021-08-20T01:55:09.759836",
     "exception": false,
     "start_time": "2021-08-20T01:55:09.750163",
     "status": "completed"
    },
    "tags": []
   },
   "outputs": [],
   "source": []
  },
  {
   "cell_type": "code",
   "execution_count": null,
   "id": "dietary-statistics",
   "metadata": {
    "papermill": {
     "duration": 0.009555,
     "end_time": "2021-08-20T01:55:09.779356",
     "exception": false,
     "start_time": "2021-08-20T01:55:09.769801",
     "status": "completed"
    },
    "tags": []
   },
   "outputs": [],
   "source": []
  }
 ],
 "metadata": {
  "kernelspec": {
   "display_name": "Python 3",
   "language": "python",
   "name": "python3"
  },
  "language_info": {
   "codemirror_mode": {
    "name": "ipython",
    "version": 3
   },
   "file_extension": ".py",
   "mimetype": "text/x-python",
   "name": "python",
   "nbconvert_exporter": "python",
   "pygments_lexer": "ipython3",
   "version": "3.6.14"
  },
  "papermill": {
   "default_parameters": {},
   "duration": 11.397386,
   "end_time": "2021-08-20T01:55:10.197392",
   "environment_variables": {},
   "exception": null,
   "input_path": "Market-News.ipynb",
   "output_path": "Market-News.ipynb",
   "parameters": {},
   "start_time": "2021-08-20T01:54:58.800006",
   "version": "2.2.2"
  }
 },
 "nbformat": 4,
 "nbformat_minor": 5
}