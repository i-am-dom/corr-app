{
 "cells": [
  {
   "cell_type": "markdown",
   "id": "short-greensboro",
   "metadata": {
    "papermill": {
     "duration": 0.013375,
     "end_time": "2022-01-04T02:07:47.284267",
     "exception": false,
     "start_time": "2022-01-04T02:07:47.270892",
     "status": "completed"
    },
    "tags": []
   },
   "source": [
    "# Kriptovaliutų naujienos"
   ]
  },
  {
   "cell_type": "code",
   "execution_count": 1,
   "id": "functioning-knowing",
   "metadata": {
    "execution": {
     "iopub.execute_input": "2022-01-04T02:07:47.313450Z",
     "iopub.status.busy": "2022-01-04T02:07:47.312915Z",
     "iopub.status.idle": "2022-01-04T02:07:48.592617Z",
     "shell.execute_reply": "2022-01-04T02:07:48.592083Z"
    },
    "papermill": {
     "duration": 1.298691,
     "end_time": "2022-01-04T02:07:48.592781",
     "exception": false,
     "start_time": "2022-01-04T02:07:47.294090",
     "status": "completed"
    },
    "tags": []
   },
   "outputs": [],
   "source": [
    "#hide_input\n",
    "import warnings\n",
    "warnings.filterwarnings('ignore')\n",
    "from scripts.read_data import read_api\n",
    "from scripts.read_data import read_news\n",
    "from scripts.read_data import read_covid\n",
    "import matplotlib.pyplot as plt \n",
    "from IPython.display import Markdown as md"
   ]
  },
  {
   "cell_type": "code",
   "execution_count": 2,
   "id": "shared-acceptance",
   "metadata": {
    "execution": {
     "iopub.execute_input": "2022-01-04T02:07:48.619568Z",
     "iopub.status.busy": "2022-01-04T02:07:48.619029Z",
     "iopub.status.idle": "2022-01-04T02:07:58.076274Z",
     "shell.execute_reply": "2022-01-04T02:07:58.075722Z"
    },
    "papermill": {
     "duration": 9.473311,
     "end_time": "2022-01-04T02:07:58.076424",
     "exception": false,
     "start_time": "2022-01-04T02:07:48.603113",
     "status": "completed"
    },
    "tags": []
   },
   "outputs": [],
   "source": [
    "#hide_input\n",
    "blockchain = read_news('blockchain') \n",
    "btc = read_news('btc') \n",
    "xrp = read_news('xrp') \n",
    "trx = read_news('trx') \n",
    "eth = read_news('eth')  \n",
    "ada = read_news('ada')\n",
    "exchange = read_news('exchange') "
   ]
  },
  {
   "cell_type": "code",
   "execution_count": 3,
   "id": "synthetic-notion",
   "metadata": {
    "execution": {
     "iopub.execute_input": "2022-01-04T02:07:58.101933Z",
     "iopub.status.busy": "2022-01-04T02:07:58.101393Z",
     "iopub.status.idle": "2022-01-04T02:07:58.103943Z",
     "shell.execute_reply": "2022-01-04T02:07:58.104382Z"
    },
    "papermill": {
     "duration": 0.018152,
     "end_time": "2022-01-04T02:07:58.104513",
     "exception": false,
     "start_time": "2022-01-04T02:07:58.086361",
     "status": "completed"
    },
    "tags": []
   },
   "outputs": [
    {
     "data": {
      "text/markdown": [
       "- Cardano ($ADA) Leads Crypto Developer Activity in 2021, an ‘Underrated Indicator of Project Success’.  Cardano ($ADA), a secure, decentralized proof-of-stake blockchain designed to solve various problems while being informed by scholarly academic research, has led the cryptocurrency market in developer activity last year, according to a recently published report. According to crypto analytics firm Santiment, led in developer activity last year and was followed by Kusama and Polkadot. Kusama, […] ... [| Skaityti daugiau](https://www.cryptoglobe.com/latest/2022/01/cardano-ada-leads-crypto-developer-activity-in-2021-an-underrated-indicator-of-project-success/) "
      ],
      "text/plain": [
       "<IPython.core.display.Markdown object>"
      ]
     },
     "execution_count": 3,
     "metadata": {},
     "output_type": "execute_result"
    }
   ],
   "source": [
    "#hide_input\n",
    "#md('##### {}'.format(titleBTC)) \n",
    "md(\"- {}{} {}{} [| Skaityti daugiau]({}) \".format(blockchain['title'],'. ', blockchain['body'], ' ...', blockchain['url']))"
   ]
  },
  {
   "cell_type": "code",
   "execution_count": 4,
   "id": "aging-caution",
   "metadata": {
    "execution": {
     "iopub.execute_input": "2022-01-04T02:07:58.127886Z",
     "iopub.status.busy": "2022-01-04T02:07:58.127334Z",
     "iopub.status.idle": "2022-01-04T02:07:58.129929Z",
     "shell.execute_reply": "2022-01-04T02:07:58.130364Z"
    },
    "papermill": {
     "duration": 0.016517,
     "end_time": "2022-01-04T02:07:58.130489",
     "exception": false,
     "start_time": "2022-01-04T02:07:58.113972",
     "status": "completed"
    },
    "tags": []
   },
   "outputs": [
    {
     "data": {
      "text/markdown": [
       "- In 2021, Alex Gladstein Helped Us Explore Bitcoin’s Moral Imperative.  Alex Gladstein’s contributions to Bitcoin Magazine last year helped us all understand the human rights implications of adopting Bitcoin. ... [| Skaityti daugiau](https://bitcoinmagazine.com/culture/exploring-bitcoin-moral-imperative-in-2021) "
      ],
      "text/plain": [
       "<IPython.core.display.Markdown object>"
      ]
     },
     "execution_count": 4,
     "metadata": {},
     "output_type": "execute_result"
    }
   ],
   "source": [
    "#hide_input\n",
    "#md('##### {}'.format(titleBTC)) \n",
    "md(\"- {}{} {}{} [| Skaityti daugiau]({}) \".format(btc['title'],'. ', btc['body'], ' ...', btc['url']))"
   ]
  },
  {
   "cell_type": "code",
   "execution_count": 5,
   "id": "organic-actress",
   "metadata": {
    "execution": {
     "iopub.execute_input": "2022-01-04T02:07:58.154298Z",
     "iopub.status.busy": "2022-01-04T02:07:58.153138Z",
     "iopub.status.idle": "2022-01-04T02:07:58.156971Z",
     "shell.execute_reply": "2022-01-04T02:07:58.157373Z"
    },
    "papermill": {
     "duration": 0.017439,
     "end_time": "2022-01-04T02:07:58.157493",
     "exception": false,
     "start_time": "2022-01-04T02:07:58.140054",
     "status": "completed"
    },
    "tags": []
   },
   "outputs": [
    {
     "data": {
      "text/markdown": [
       "- Crypto analyst and podcast host claims this will be 2022’s biggest crypto story.  As 2022 dawns, crypto journalists and podcasters are on a hunt for the year&#8217;s biggest events and scoops. However, according to Thinking Crypto podcast host Tony Edward, one story is set to take over the year. One story to rule them all The story is none other than the SEC vs Ripple Labs lawsuit. Edward began [&#8230;] ... [| Skaityti daugiau](https://ambcrypto.com/crypto-analyst-and-podcast-host-claims-this-will-be-2022s-biggest-crypto-story/) "
      ],
      "text/plain": [
       "<IPython.core.display.Markdown object>"
      ]
     },
     "execution_count": 5,
     "metadata": {},
     "output_type": "execute_result"
    }
   ],
   "source": [
    "#hide_input\n",
    "#md('##### {}'.format(titleBTC)) \n",
    "md(\"- {}{} {}{} [| Skaityti daugiau]({}) \".format(xrp['title'],'. ', xrp['body'], ' ...', xrp['url']))"
   ]
  },
  {
   "cell_type": "code",
   "execution_count": 6,
   "id": "prompt-farmer",
   "metadata": {
    "execution": {
     "iopub.execute_input": "2022-01-04T02:07:58.182018Z",
     "iopub.status.busy": "2022-01-04T02:07:58.180350Z",
     "iopub.status.idle": "2022-01-04T02:07:58.184145Z",
     "shell.execute_reply": "2022-01-04T02:07:58.184527Z"
    },
    "papermill": {
     "duration": 0.017293,
     "end_time": "2022-01-04T02:07:58.184671",
     "exception": false,
     "start_time": "2022-01-04T02:07:58.167378",
     "status": "completed"
    },
    "tags": []
   },
   "outputs": [
    {
     "data": {
      "text/markdown": [
       "- Binance coin, Terra, Tron Price Analysis: 03 January.  Ethereum&#8217;s two-day recovery made way for Tron&#8217;s jump from its immediate demand zone. Further, Terra formed a reversal pattern on its 4-hour chart after displaying a slight bullish edge. Meanwhile, Binance Coin was rangebound and flashed low volatility signs. But all the above cryptos struggled to gather more volumes to commit to a convincing trend. [&#8230;] ... [| Skaityti daugiau](https://ambcrypto.com/binance-coin-terra-tron-price-analysis-03-january/) "
      ],
      "text/plain": [
       "<IPython.core.display.Markdown object>"
      ]
     },
     "execution_count": 6,
     "metadata": {},
     "output_type": "execute_result"
    }
   ],
   "source": [
    "#hide_input\n",
    "#md('##### {}'.format(titleBTC)) \n",
    "md(\"- {}{} {}{} [| Skaityti daugiau]({}) \".format(trx['title'],'. ', trx['body'], ' ...', trx['url']))"
   ]
  },
  {
   "cell_type": "code",
   "execution_count": 7,
   "id": "illegal-greece",
   "metadata": {
    "execution": {
     "iopub.execute_input": "2022-01-04T02:07:58.209979Z",
     "iopub.status.busy": "2022-01-04T02:07:58.208327Z",
     "iopub.status.idle": "2022-01-04T02:07:58.211934Z",
     "shell.execute_reply": "2022-01-04T02:07:58.212336Z"
    },
    "papermill": {
     "duration": 0.01738,
     "end_time": "2022-01-04T02:07:58.212451",
     "exception": false,
     "start_time": "2022-01-04T02:07:58.195071",
     "status": "completed"
    },
    "tags": []
   },
   "outputs": [
    {
     "data": {
      "text/markdown": [
       "- $BABYDOGE Becomes Most Traded Token Among Binance Smart Chain Whales After Flipping $ETH.  Baby Doge, a cryptocurrency created “by fans of the Doge Coin online community” that “seeks to impress his father by showing his new improved transaction speeds &amp; adorableness” has flipped Ethereum ($ETH) to become the most traded token among Binance Smart Chain whales. According to data from whale monitoring resource WhaleStats, the meme-inspired cryptocurrency became the […] ... [| Skaityti daugiau](https://www.cryptoglobe.com/latest/2022/01/babydoge-becomes-most-traded-token-among-binance-smart-chain-whales-after-flipping-eth/) "
      ],
      "text/plain": [
       "<IPython.core.display.Markdown object>"
      ]
     },
     "execution_count": 7,
     "metadata": {},
     "output_type": "execute_result"
    }
   ],
   "source": [
    "#hide_input\n",
    "#md('##### {}'.format(titleBTC)) \n",
    "md(\"- {}{} {}{} [| Skaityti daugiau]({}) \".format(eth['title'],'. ', eth['body'], ' ...', eth['url']))"
   ]
  },
  {
   "cell_type": "code",
   "execution_count": 8,
   "id": "sublime-lounge",
   "metadata": {
    "execution": {
     "iopub.execute_input": "2022-01-04T02:07:58.238527Z",
     "iopub.status.busy": "2022-01-04T02:07:58.238008Z",
     "iopub.status.idle": "2022-01-04T02:07:58.243174Z",
     "shell.execute_reply": "2022-01-04T02:07:58.242763Z"
    },
    "papermill": {
     "duration": 0.020265,
     "end_time": "2022-01-04T02:07:58.243289",
     "exception": false,
     "start_time": "2022-01-04T02:07:58.223024",
     "status": "completed"
    },
    "tags": []
   },
   "outputs": [
    {
     "data": {
      "text/markdown": [
       "- Cardano ($ADA) Leads Crypto Developer Activity in 2021, an ‘Underrated Indicator of Project Success’.  Cardano ($ADA), a secure, decentralized proof-of-stake blockchain designed to solve various problems while being informed by scholarly academic research, has led the cryptocurrency market in developer activity last year, according to a recently published report. According to crypto analytics firm Santiment, led in developer activity last year and was followed by Kusama and Polkadot. Kusama, […] ... [| Skaityti daugiau](https://www.cryptoglobe.com/latest/2022/01/cardano-ada-leads-crypto-developer-activity-in-2021-an-underrated-indicator-of-project-success/) "
      ],
      "text/plain": [
       "<IPython.core.display.Markdown object>"
      ]
     },
     "execution_count": 8,
     "metadata": {},
     "output_type": "execute_result"
    }
   ],
   "source": [
    "#hide_input\n",
    "#md('##### {}'.format(titleBTC)) \n",
    "md(\"- {}{} {}{} [| Skaityti daugiau]({}) \".format(ada['title'],'. ', ada['body'], ' ...', ada['url']))"
   ]
  },
  {
   "cell_type": "code",
   "execution_count": 9,
   "id": "specified-ordering",
   "metadata": {
    "execution": {
     "iopub.execute_input": "2022-01-04T02:07:58.271049Z",
     "iopub.status.busy": "2022-01-04T02:07:58.270428Z",
     "iopub.status.idle": "2022-01-04T02:07:58.272563Z",
     "shell.execute_reply": "2022-01-04T02:07:58.272962Z"
    },
    "papermill": {
     "duration": 0.018905,
     "end_time": "2022-01-04T02:07:58.273083",
     "exception": false,
     "start_time": "2022-01-04T02:07:58.254178",
     "status": "completed"
    },
    "tags": []
   },
   "outputs": [
    {
     "data": {
      "text/markdown": [
       "- $BABYDOGE Becomes Most Traded Token Among Binance Smart Chain Whales After Flipping $ETH.  Baby Doge, a cryptocurrency created “by fans of the Doge Coin online community” that “seeks to impress his father by showing his new improved transaction speeds &amp; adorableness” has flipped Ethereum ($ETH) to become the most traded token among Binance Smart Chain whales. According to data from whale monitoring resource WhaleStats, the meme-inspired cryptocurrency became the […] ... [| Skaityti daugiau](https://www.cryptoglobe.com/latest/2022/01/babydoge-becomes-most-traded-token-among-binance-smart-chain-whales-after-flipping-eth/) "
      ],
      "text/plain": [
       "<IPython.core.display.Markdown object>"
      ]
     },
     "execution_count": 9,
     "metadata": {},
     "output_type": "execute_result"
    }
   ],
   "source": [
    "#hide_input\n",
    "#md('##### {}'.format(titleBTC)) \n",
    "md(\"- {}{} {}{} [| Skaityti daugiau]({}) \".format(exchange['title'],'. ', exchange['body'], ' ...', exchange['url']))"
   ]
  },
  {
   "cell_type": "code",
   "execution_count": null,
   "id": "tender-livestock",
   "metadata": {
    "papermill": {
     "duration": 0.011169,
     "end_time": "2022-01-04T02:07:58.295505",
     "exception": false,
     "start_time": "2022-01-04T02:07:58.284336",
     "status": "completed"
    },
    "tags": []
   },
   "outputs": [],
   "source": []
  },
  {
   "cell_type": "code",
   "execution_count": null,
   "id": "appreciated-diamond",
   "metadata": {
    "papermill": {
     "duration": 0.011155,
     "end_time": "2022-01-04T02:07:58.318008",
     "exception": false,
     "start_time": "2022-01-04T02:07:58.306853",
     "status": "completed"
    },
    "tags": []
   },
   "outputs": [],
   "source": []
  },
  {
   "cell_type": "code",
   "execution_count": null,
   "id": "romance-sweden",
   "metadata": {
    "papermill": {
     "duration": 0.011125,
     "end_time": "2022-01-04T02:07:58.340381",
     "exception": false,
     "start_time": "2022-01-04T02:07:58.329256",
     "status": "completed"
    },
    "tags": []
   },
   "outputs": [],
   "source": []
  },
  {
   "cell_type": "code",
   "execution_count": null,
   "id": "dietary-statistics",
   "metadata": {
    "papermill": {
     "duration": 0.011096,
     "end_time": "2022-01-04T02:07:58.362659",
     "exception": false,
     "start_time": "2022-01-04T02:07:58.351563",
     "status": "completed"
    },
    "tags": []
   },
   "outputs": [],
   "source": []
  }
 ],
 "metadata": {
  "kernelspec": {
   "display_name": "Python 3",
   "language": "python",
   "name": "python3"
  },
  "language_info": {
   "codemirror_mode": {
    "name": "ipython",
    "version": 3
   },
   "file_extension": ".py",
   "mimetype": "text/x-python",
   "name": "python",
   "nbconvert_exporter": "python",
   "pygments_lexer": "ipython3",
   "version": "3.6.15"
  },
  "papermill": {
   "default_parameters": {},
   "duration": 12.534974,
   "end_time": "2022-01-04T02:07:58.883037",
   "environment_variables": {},
   "exception": null,
   "input_path": "Market-News.ipynb",
   "output_path": "Market-News.ipynb",
   "parameters": {},
   "start_time": "2022-01-04T02:07:46.348063",
   "version": "2.2.2"
  }
 },
 "nbformat": 4,
 "nbformat_minor": 5
}