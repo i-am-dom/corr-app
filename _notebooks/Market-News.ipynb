{
 "cells": [
  {
   "cell_type": "markdown",
   "id": "short-greensboro",
   "metadata": {
    "papermill": {
     "duration": 0.013278,
     "end_time": "2022-06-01T03:34:33.841982",
     "exception": false,
     "start_time": "2022-06-01T03:34:33.828704",
     "status": "completed"
    },
    "tags": []
   },
   "source": [
    "# Kriptovaliutų naujienos"
   ]
  },
  {
   "cell_type": "code",
   "execution_count": 1,
   "id": "functioning-knowing",
   "metadata": {
    "execution": {
     "iopub.execute_input": "2022-06-01T03:34:33.871832Z",
     "iopub.status.busy": "2022-06-01T03:34:33.871221Z",
     "iopub.status.idle": "2022-06-01T03:34:35.135230Z",
     "shell.execute_reply": "2022-06-01T03:34:35.134659Z"
    },
    "papermill": {
     "duration": 1.283374,
     "end_time": "2022-06-01T03:34:35.135381",
     "exception": false,
     "start_time": "2022-06-01T03:34:33.852007",
     "status": "completed"
    },
    "tags": []
   },
   "outputs": [],
   "source": [
    "#hide_input\n",
    "import warnings\n",
    "warnings.filterwarnings('ignore')\n",
    "from scripts.read_data import read_api\n",
    "from scripts.read_data import read_news\n",
    "from scripts.read_data import read_covid\n",
    "import matplotlib.pyplot as plt \n",
    "from IPython.display import Markdown as md"
   ]
  },
  {
   "cell_type": "code",
   "execution_count": 2,
   "id": "shared-acceptance",
   "metadata": {
    "execution": {
     "iopub.execute_input": "2022-06-01T03:34:35.160877Z",
     "iopub.status.busy": "2022-06-01T03:34:35.160258Z",
     "iopub.status.idle": "2022-06-01T03:34:46.778964Z",
     "shell.execute_reply": "2022-06-01T03:34:46.778325Z"
    },
    "papermill": {
     "duration": 11.634255,
     "end_time": "2022-06-01T03:34:46.779103",
     "exception": false,
     "start_time": "2022-06-01T03:34:35.144848",
     "status": "completed"
    },
    "tags": []
   },
   "outputs": [],
   "source": [
    "#hide_input\n",
    "blockchain = read_news('blockchain') \n",
    "btc = read_news('btc') \n",
    "xrp = read_news('xrp') \n",
    "trx = read_news('trx') \n",
    "eth = read_news('eth')  \n",
    "ada = read_news('ada')\n",
    "exchange = read_news('exchange') "
   ]
  },
  {
   "cell_type": "code",
   "execution_count": 3,
   "id": "synthetic-notion",
   "metadata": {
    "execution": {
     "iopub.execute_input": "2022-06-01T03:34:46.804454Z",
     "iopub.status.busy": "2022-06-01T03:34:46.803857Z",
     "iopub.status.idle": "2022-06-01T03:34:46.807091Z",
     "shell.execute_reply": "2022-06-01T03:34:46.806608Z"
    },
    "papermill": {
     "duration": 0.018115,
     "end_time": "2022-06-01T03:34:46.807207",
     "exception": false,
     "start_time": "2022-06-01T03:34:46.789092",
     "status": "completed"
    },
    "tags": []
   },
   "outputs": [
    {
     "data": {
      "text/markdown": [
       "- GMT ‘runners’ look dismayed; will STEPN lose the race to the bottom.  Following the tragedy that trailed TerraLUNA and its eventual collapse, regulators worldwide have become skeptical of cryptocurrency projects and a clampdown is underway in some regions. On 26 May, STEPN, a move-to-earn blockchain project, via a series of tweets announced that in order for its activities to comply with regulatory policies in China, users in [&#8230;] ... [| Skaityti daugiau](https://ambcrypto.com/gmt-runners-look-dismayed-will-stepn-lose-the-race-to-the-bottom/) "
      ],
      "text/plain": [
       "<IPython.core.display.Markdown object>"
      ]
     },
     "execution_count": 3,
     "metadata": {},
     "output_type": "execute_result"
    }
   ],
   "source": [
    "#hide_input\n",
    "#md('##### {}'.format(titleBTC)) \n",
    "md(\"- {}{} {}{} [| Skaityti daugiau]({}) \".format(blockchain['title'],'. ', blockchain['body'], ' ...', blockchain['url']))"
   ]
  },
  {
   "cell_type": "code",
   "execution_count": 4,
   "id": "aging-caution",
   "metadata": {
    "execution": {
     "iopub.execute_input": "2022-06-01T03:34:46.831580Z",
     "iopub.status.busy": "2022-06-01T03:34:46.830888Z",
     "iopub.status.idle": "2022-06-01T03:34:46.833470Z",
     "shell.execute_reply": "2022-06-01T03:34:46.833922Z"
    },
    "papermill": {
     "duration": 0.017462,
     "end_time": "2022-06-01T03:34:46.834061",
     "exception": false,
     "start_time": "2022-06-01T03:34:46.816599",
     "status": "completed"
    },
    "tags": []
   },
   "outputs": [
    {
     "data": {
      "text/markdown": [
       "- TA: Bitcoin Price Remains Supported, $30.8K Holds The Key.  Bitcoin remained in a positive zone above $31,200 against the US Dollar. BTC could correct lower, but the bulls might remain active near $30,800. Bitcoin is showing positive signs above the $30,500 and $31,000 resistance levels. The price is now trading above the $31,200 level and the 100 hourly simple moving average. There is a key bullish trend line forming with support near $31,800 on the hourly chart of the BTC/USD pair (data feed from Kraken). The pair could correct lower and test the $31,000 and $30,800 support levels. Bitcoin Price Faces Key Resistance Bitcoin price extended increase above the $31,000 zone. It even broke the $32,000 resistance on a couple of occasions, but the bears protected more gains above $32,200. The recent swing high was formed near $32,400 before the price started a downside correction. There was a move below the $32,000 level. The price corrected and tested the 23.6% Fib retracement level of the upward move from the $29,085 swing low to $32,400 high. It is now testing the $31,800 zone. There is also a key bullish trend line forming with support near $31,800 on the hourly chart of the BTC/USD pair. Bitcoin is also well above the $31,200 level and the 100 hourly simple moving average. Source: BTCUSD on TradingView.com An immediate resistance on the upside is near the $32,000 level. The next major resistance is near the $32,200 and $32,400 levels. A clear move above the $32,400 resistance level cou... ... [| Skaityti daugiau](https://www.newsbtc.com/analysis/btc/bitcoin-price-supported-30-8k/) "
      ],
      "text/plain": [
       "<IPython.core.display.Markdown object>"
      ]
     },
     "execution_count": 4,
     "metadata": {},
     "output_type": "execute_result"
    }
   ],
   "source": [
    "#hide_input\n",
    "#md('##### {}'.format(titleBTC)) \n",
    "md(\"- {}{} {}{} [| Skaityti daugiau]({}) \".format(btc['title'],'. ', btc['body'], ' ...', btc['url']))"
   ]
  },
  {
   "cell_type": "code",
   "execution_count": 5,
   "id": "organic-actress",
   "metadata": {
    "execution": {
     "iopub.execute_input": "2022-06-01T03:34:46.859393Z",
     "iopub.status.busy": "2022-06-01T03:34:46.858695Z",
     "iopub.status.idle": "2022-06-01T03:34:46.861241Z",
     "shell.execute_reply": "2022-06-01T03:34:46.861855Z"
    },
    "papermill": {
     "duration": 0.018124,
     "end_time": "2022-06-01T03:34:46.862000",
     "exception": false,
     "start_time": "2022-06-01T03:34:46.843876",
     "status": "completed"
    },
    "tags": []
   },
   "outputs": [
    {
     "data": {
      "text/markdown": [
       "- Ripple CEO Brad Garlinghouse Says NFTs Are Underhyped – Here’s Why.  The CEO of San Francisco-based payments company Ripple Labs says the ability of non-fungible tokens (NFTs) to tokenize various kinds of assets is being underutilized. In a recent interview with Cointelegraph at the World Economic Forum, Garlinghouse says that NFTs will become more widely used once investors realize how useful they can be. &#8220;Back in [&#8230;]The post Ripple CEO Brad Garlinghouse Says NFTs Are Underhyped – Here’s Why appeared first on The Daily Hodl. ... [| Skaityti daugiau](https://dailyhodl.com/2022/05/31/ripple-ceo-brad-garlinghouse-says-nfts-are-underhyped-heres-why/) "
      ],
      "text/plain": [
       "<IPython.core.display.Markdown object>"
      ]
     },
     "execution_count": 5,
     "metadata": {},
     "output_type": "execute_result"
    }
   ],
   "source": [
    "#hide_input\n",
    "#md('##### {}'.format(titleBTC)) \n",
    "md(\"- {}{} {}{} [| Skaityti daugiau]({}) \".format(xrp['title'],'. ', xrp['body'], ' ...', xrp['url']))"
   ]
  },
  {
   "cell_type": "code",
   "execution_count": 6,
   "id": "prompt-farmer",
   "metadata": {
    "execution": {
     "iopub.execute_input": "2022-06-01T03:34:46.888364Z",
     "iopub.status.busy": "2022-06-01T03:34:46.887717Z",
     "iopub.status.idle": "2022-06-01T03:34:46.891119Z",
     "shell.execute_reply": "2022-06-01T03:34:46.890572Z"
    },
    "papermill": {
     "duration": 0.018752,
     "end_time": "2022-06-01T03:34:46.891244",
     "exception": false,
     "start_time": "2022-06-01T03:34:46.872492",
     "status": "completed"
    },
    "tags": []
   },
   "outputs": [
    {
     "data": {
      "text/markdown": [
       "- Tron (TRX) Surpasses $6,000,000,000 in Total Value Locked Amid Explosion of USDD Algorithmic Stablecoin.  An under-the-radar altcoin&#8217;s total value locked (TVL) is on the rise as its affiliated algorithmic stablecoin continues to capture more market share. Tron (TRX), a project originally designed to serve as a decentralized storage and distribution platform for social media and digital entertainment content, is now the third-largest blockchain in terms of TVL at $6.03 [&#8230;]The post Tron (TRX) Surpasses $6,000,000,000 in Total Value Locked Amid Explosion of USDD Algorithmic Stablecoin appeared first on The Daily Hodl. ... [| Skaityti daugiau](https://dailyhodl.com/2022/05/31/tron-trx-surpasses-6000000000-in-total-value-locked-amid-explosion-of-usdd-algorithmic-stablecoin/) "
      ],
      "text/plain": [
       "<IPython.core.display.Markdown object>"
      ]
     },
     "execution_count": 6,
     "metadata": {},
     "output_type": "execute_result"
    }
   ],
   "source": [
    "#hide_input\n",
    "#md('##### {}'.format(titleBTC)) \n",
    "md(\"- {}{} {}{} [| Skaityti daugiau]({}) \".format(trx['title'],'. ', trx['body'], ' ...', trx['url']))"
   ]
  },
  {
   "cell_type": "code",
   "execution_count": 7,
   "id": "illegal-greece",
   "metadata": {
    "execution": {
     "iopub.execute_input": "2022-06-01T03:34:46.918159Z",
     "iopub.status.busy": "2022-06-01T03:34:46.917582Z",
     "iopub.status.idle": "2022-06-01T03:34:46.920711Z",
     "shell.execute_reply": "2022-06-01T03:34:46.920141Z"
    },
    "papermill": {
     "duration": 0.018691,
     "end_time": "2022-06-01T03:34:46.920823",
     "exception": false,
     "start_time": "2022-06-01T03:34:46.902132",
     "status": "completed"
    },
    "tags": []
   },
   "outputs": [
    {
     "data": {
      "text/markdown": [
       "- Bitcoin, Ethereum, Chiliz, and Stacks Daily Price Analyses – 31 May Roundup.  The global crypto market changed its direction soon after and speeded up its gains. Analysts expected that the ongoing bullish wave for Bitcoin and other coins in the market would continue unaffected. But it couldn&#8217;t stand the pressure and has begun losing intensity. Thus, the changes have been negative in the market as the momentum... ... [| Skaityti daugiau](https://www.cryptopolitan.com/bitcoin-ethereum-chiliz-and-stacks-daily-price-analyses-31-may-roundup/) "
      ],
      "text/plain": [
       "<IPython.core.display.Markdown object>"
      ]
     },
     "execution_count": 7,
     "metadata": {},
     "output_type": "execute_result"
    }
   ],
   "source": [
    "#hide_input\n",
    "#md('##### {}'.format(titleBTC)) \n",
    "md(\"- {}{} {}{} [| Skaityti daugiau]({}) \".format(eth['title'],'. ', eth['body'], ' ...', eth['url']))"
   ]
  },
  {
   "cell_type": "code",
   "execution_count": 8,
   "id": "sublime-lounge",
   "metadata": {
    "execution": {
     "iopub.execute_input": "2022-06-01T03:34:46.949214Z",
     "iopub.status.busy": "2022-06-01T03:34:46.948600Z",
     "iopub.status.idle": "2022-06-01T03:34:46.951781Z",
     "shell.execute_reply": "2022-06-01T03:34:46.951301Z"
    },
    "papermill": {
     "duration": 0.019068,
     "end_time": "2022-06-01T03:34:46.951896",
     "exception": false,
     "start_time": "2022-06-01T03:34:46.932828",
     "status": "completed"
    },
    "tags": []
   },
   "outputs": [
    {
     "data": {
      "text/markdown": [
       "- Cardano [ADA] needs to defend this zone for a sustained rally.  Disclaimer: The information presented does not constitute financial, investment, trading, or other types of advice and is solely the opinion of the writer. Cardano, one of the most popular altcoins trading in the market (judging by its $21.9 billion market cap), has been in a downtrend since September 2021. The late-March rally did not break [&#8230;] ... [| Skaityti daugiau](https://ambcrypto.com/cardano-ada-needs-to-defend-this-zone-for-a-sustained-rally/) "
      ],
      "text/plain": [
       "<IPython.core.display.Markdown object>"
      ]
     },
     "execution_count": 8,
     "metadata": {},
     "output_type": "execute_result"
    }
   ],
   "source": [
    "#hide_input\n",
    "#md('##### {}'.format(titleBTC)) \n",
    "md(\"- {}{} {}{} [| Skaityti daugiau]({}) \".format(ada['title'],'. ', ada['body'], ' ...', ada['url']))"
   ]
  },
  {
   "cell_type": "code",
   "execution_count": 9,
   "id": "specified-ordering",
   "metadata": {
    "execution": {
     "iopub.execute_input": "2022-06-01T03:34:46.980330Z",
     "iopub.status.busy": "2022-06-01T03:34:46.979651Z",
     "iopub.status.idle": "2022-06-01T03:34:46.982159Z",
     "shell.execute_reply": "2022-06-01T03:34:46.982670Z"
    },
    "papermill": {
     "duration": 0.019738,
     "end_time": "2022-06-01T03:34:46.982861",
     "exception": false,
     "start_time": "2022-06-01T03:34:46.963123",
     "status": "completed"
    },
    "tags": []
   },
   "outputs": [
    {
     "data": {
      "text/markdown": [
       "- The Dubai Hotel Accepts Crypto Payments, Here’s What We Know.  Dubai hotel, The Manor Hotel by JA is now accepting crypto payments. After their partnership with Binance, now guests can use Binance coin (BNB), Bitcoin (BTC) or Ethereum (ETH) to pay for the hotel fare. The hotel has joined the payment gateway which is managed by Binance to facilitate these asset payments. This crypto payment [&#8230;] ... [| Skaityti daugiau](https://bitcoinist.com/the-dubai-hotel-accepts-crypto-payments/) "
      ],
      "text/plain": [
       "<IPython.core.display.Markdown object>"
      ]
     },
     "execution_count": 9,
     "metadata": {},
     "output_type": "execute_result"
    }
   ],
   "source": [
    "#hide_input\n",
    "#md('##### {}'.format(titleBTC)) \n",
    "md(\"- {}{} {}{} [| Skaityti daugiau]({}) \".format(exchange['title'],'. ', exchange['body'], ' ...', exchange['url']))"
   ]
  },
  {
   "cell_type": "code",
   "execution_count": null,
   "id": "tender-livestock",
   "metadata": {
    "papermill": {
     "duration": 0.011448,
     "end_time": "2022-06-01T03:34:47.006087",
     "exception": false,
     "start_time": "2022-06-01T03:34:46.994639",
     "status": "completed"
    },
    "tags": []
   },
   "outputs": [],
   "source": []
  },
  {
   "cell_type": "code",
   "execution_count": null,
   "id": "appreciated-diamond",
   "metadata": {
    "papermill": {
     "duration": 0.011426,
     "end_time": "2022-06-01T03:34:47.029093",
     "exception": false,
     "start_time": "2022-06-01T03:34:47.017667",
     "status": "completed"
    },
    "tags": []
   },
   "outputs": [],
   "source": []
  },
  {
   "cell_type": "code",
   "execution_count": null,
   "id": "romance-sweden",
   "metadata": {
    "papermill": {
     "duration": 0.011359,
     "end_time": "2022-06-01T03:34:47.051890",
     "exception": false,
     "start_time": "2022-06-01T03:34:47.040531",
     "status": "completed"
    },
    "tags": []
   },
   "outputs": [],
   "source": []
  },
  {
   "cell_type": "code",
   "execution_count": null,
   "id": "dietary-statistics",
   "metadata": {
    "papermill": {
     "duration": 0.011723,
     "end_time": "2022-06-01T03:34:47.075142",
     "exception": false,
     "start_time": "2022-06-01T03:34:47.063419",
     "status": "completed"
    },
    "tags": []
   },
   "outputs": [],
   "source": []
  }
 ],
 "metadata": {
  "kernelspec": {
   "display_name": "Python 3",
   "language": "python",
   "name": "python3"
  },
  "language_info": {
   "codemirror_mode": {
    "name": "ipython",
    "version": 3
   },
   "file_extension": ".py",
   "mimetype": "text/x-python",
   "name": "python",
   "nbconvert_exporter": "python",
   "pygments_lexer": "ipython3",
   "version": "3.6.15"
  },
  "papermill": {
   "default_parameters": {},
   "duration": 14.809549,
   "end_time": "2022-06-01T03:34:47.606361",
   "environment_variables": {},
   "exception": null,
   "input_path": "Market-News.ipynb",
   "output_path": "Market-News.ipynb",
   "parameters": {},
   "start_time": "2022-06-01T03:34:32.796812",
   "version": "2.2.2"
  }
 },
 "nbformat": 4,
 "nbformat_minor": 5
}