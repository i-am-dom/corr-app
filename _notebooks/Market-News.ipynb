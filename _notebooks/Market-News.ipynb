{
 "cells": [
  {
   "cell_type": "markdown",
   "id": "short-greensboro",
   "metadata": {
    "papermill": {
     "duration": 0.013233,
     "end_time": "2022-01-30T01:58:58.871367",
     "exception": false,
     "start_time": "2022-01-30T01:58:58.858134",
     "status": "completed"
    },
    "tags": []
   },
   "source": [
    "# Kriptovaliutų naujienos"
   ]
  },
  {
   "cell_type": "code",
   "execution_count": 1,
   "id": "functioning-knowing",
   "metadata": {
    "execution": {
     "iopub.execute_input": "2022-01-30T01:58:58.901193Z",
     "iopub.status.busy": "2022-01-30T01:58:58.900567Z",
     "iopub.status.idle": "2022-01-30T01:59:00.177511Z",
     "shell.execute_reply": "2022-01-30T01:59:00.176859Z"
    },
    "papermill": {
     "duration": 1.296452,
     "end_time": "2022-01-30T01:59:00.177687",
     "exception": false,
     "start_time": "2022-01-30T01:58:58.881235",
     "status": "completed"
    },
    "tags": []
   },
   "outputs": [],
   "source": [
    "#hide_input\n",
    "import warnings\n",
    "warnings.filterwarnings('ignore')\n",
    "from scripts.read_data import read_api\n",
    "from scripts.read_data import read_news\n",
    "from scripts.read_data import read_covid\n",
    "import matplotlib.pyplot as plt \n",
    "from IPython.display import Markdown as md"
   ]
  },
  {
   "cell_type": "code",
   "execution_count": 2,
   "id": "shared-acceptance",
   "metadata": {
    "execution": {
     "iopub.execute_input": "2022-01-30T01:59:00.205002Z",
     "iopub.status.busy": "2022-01-30T01:59:00.204438Z",
     "iopub.status.idle": "2022-01-30T01:59:08.164915Z",
     "shell.execute_reply": "2022-01-30T01:59:08.163930Z"
    },
    "papermill": {
     "duration": 7.976286,
     "end_time": "2022-01-30T01:59:08.165059",
     "exception": false,
     "start_time": "2022-01-30T01:59:00.188773",
     "status": "completed"
    },
    "tags": []
   },
   "outputs": [],
   "source": [
    "#hide_input\n",
    "blockchain = read_news('blockchain') \n",
    "btc = read_news('btc') \n",
    "xrp = read_news('xrp') \n",
    "trx = read_news('trx') \n",
    "eth = read_news('eth')  \n",
    "ada = read_news('ada')\n",
    "exchange = read_news('exchange') "
   ]
  },
  {
   "cell_type": "code",
   "execution_count": 3,
   "id": "synthetic-notion",
   "metadata": {
    "execution": {
     "iopub.execute_input": "2022-01-30T01:59:08.191314Z",
     "iopub.status.busy": "2022-01-30T01:59:08.190701Z",
     "iopub.status.idle": "2022-01-30T01:59:08.193020Z",
     "shell.execute_reply": "2022-01-30T01:59:08.193493Z"
    },
    "papermill": {
     "duration": 0.019104,
     "end_time": "2022-01-30T01:59:08.193642",
     "exception": false,
     "start_time": "2022-01-30T01:59:08.174538",
     "status": "completed"
    },
    "tags": []
   },
   "outputs": [
    {
     "data": {
      "text/markdown": [
       "- From cash to crypto: The Cantillon effect vs. the Nakamoto effect.  Is Bitcoin susceptible to the Cantillon effect? To find an answer, please read this Bitcoin-Cantillon effect article. ... [| Skaityti daugiau](https://cointelegraph.com/explained/from-cash-to-crypto-the-cantillon-effect-vs-the-nakamoto-effect) "
      ],
      "text/plain": [
       "<IPython.core.display.Markdown object>"
      ]
     },
     "execution_count": 3,
     "metadata": {},
     "output_type": "execute_result"
    }
   ],
   "source": [
    "#hide_input\n",
    "#md('##### {}'.format(titleBTC)) \n",
    "md(\"- {}{} {}{} [| Skaityti daugiau]({}) \".format(blockchain['title'],'. ', blockchain['body'], ' ...', blockchain['url']))"
   ]
  },
  {
   "cell_type": "code",
   "execution_count": 4,
   "id": "aging-caution",
   "metadata": {
    "execution": {
     "iopub.execute_input": "2022-01-30T01:59:08.217253Z",
     "iopub.status.busy": "2022-01-30T01:59:08.216209Z",
     "iopub.status.idle": "2022-01-30T01:59:08.219750Z",
     "shell.execute_reply": "2022-01-30T01:59:08.220135Z"
    },
    "papermill": {
     "duration": 0.016987,
     "end_time": "2022-01-30T01:59:08.220264",
     "exception": false,
     "start_time": "2022-01-30T01:59:08.203277",
     "status": "completed"
    },
    "tags": []
   },
   "outputs": [
    {
     "data": {
      "text/markdown": [
       "- Will Crypto Mining Survive Another Government Crackdown?.  Crypto mining has been an environmental issue that can&#8217;t be over looked; world governments have tried to put a lid on it, but still have an uphill battle as the popularity of crypto grows. Will crypto mining be able to last, if the technology still impacts the earth on high levels and adoption doesn&#8217;t increase appropriately? Or will it mold with the time and adapt with the land before governments continue to attack cryptocurrency. Related Reading &#124; Elevate Brands Offering Bitcoin Payouts on Coinbase Prime Crypto War With Mining &#8230; China has been in the forefront of crypto bans, and the war between the two parties only grows and gets more harsh. China slapped a ban on Bitcoin (BTC) mining, trading and crypto services; the Chinese government’s given reason for the Bitcoin crackdown is to reduce its well-documented climate impact. Speculation exists on other countries that could follow suit, such as Turkey and India. The problem with crypto mining is the carbon footprint it leaves on this planet and how it is impacting the natural resources we have left. Currently, less than one-third of global electric power is sourced from renewables. If this share went fully toward cryptocurrency mining, perhaps it could lend it a semblance of sustainability, but it would be little more than a fig leaf. BTC: BTC is currently the largest crypto. &#124; BTC-USD on TradingView.com Grabbing At The Gold&#8230; After China&#821... ... [| Skaityti daugiau](https://www.newsbtc.com/all/will-crypto-mining-survive-another-government-crackdown/) "
      ],
      "text/plain": [
       "<IPython.core.display.Markdown object>"
      ]
     },
     "execution_count": 4,
     "metadata": {},
     "output_type": "execute_result"
    }
   ],
   "source": [
    "#hide_input\n",
    "#md('##### {}'.format(titleBTC)) \n",
    "md(\"- {}{} {}{} [| Skaityti daugiau]({}) \".format(btc['title'],'. ', btc['body'], ' ...', btc['url']))"
   ]
  },
  {
   "cell_type": "code",
   "execution_count": 5,
   "id": "organic-actress",
   "metadata": {
    "execution": {
     "iopub.execute_input": "2022-01-30T01:59:08.244852Z",
     "iopub.status.busy": "2022-01-30T01:59:08.244235Z",
     "iopub.status.idle": "2022-01-30T01:59:08.246413Z",
     "shell.execute_reply": "2022-01-30T01:59:08.246950Z"
    },
    "papermill": {
     "duration": 0.017189,
     "end_time": "2022-01-30T01:59:08.247101",
     "exception": false,
     "start_time": "2022-01-30T01:59:08.229912",
     "status": "completed"
    },
    "tags": []
   },
   "outputs": [
    {
     "data": {
      "text/markdown": [
       "- Ripple’s Q4 2021 results showcases its ‘most successful year’ despite headwinds.  As numbers are crunched and final figures are added to press releases, Ripple too joined the host of companies releasing their reports for the final quarter of 2021. After a tumultuous year, many investors might be asking the same question &#8211; just how badly did SEC vs Ripple hit the company&#8217;s performance? Drumroll, please Overall, [&#8230;] ... [| Skaityti daugiau](https://ambcrypto.com/ripple-q4-2021-results-showcases-its-most-successful-year-despite-headwinds/) "
      ],
      "text/plain": [
       "<IPython.core.display.Markdown object>"
      ]
     },
     "execution_count": 5,
     "metadata": {},
     "output_type": "execute_result"
    }
   ],
   "source": [
    "#hide_input\n",
    "#md('##### {}'.format(titleBTC)) \n",
    "md(\"- {}{} {}{} [| Skaityti daugiau]({}) \".format(xrp['title'],'. ', xrp['body'], ' ...', xrp['url']))"
   ]
  },
  {
   "cell_type": "code",
   "execution_count": 6,
   "id": "prompt-farmer",
   "metadata": {
    "execution": {
     "iopub.execute_input": "2022-01-30T01:59:08.271815Z",
     "iopub.status.busy": "2022-01-30T01:59:08.271310Z",
     "iopub.status.idle": "2022-01-30T01:59:08.274140Z",
     "shell.execute_reply": "2022-01-30T01:59:08.274625Z"
    },
    "papermill": {
     "duration": 0.017675,
     "end_time": "2022-01-30T01:59:08.274748",
     "exception": false,
     "start_time": "2022-01-30T01:59:08.257073",
     "status": "completed"
    },
    "tags": []
   },
   "outputs": [
    {
     "data": {
      "text/markdown": [
       "- Cosmos, Tron, NEAR Price Analysis: 27 January.  With the market flashing relatively low volatility over the past two days, Tron and NEAR saw bearish patterns while flashing weak near-term technical indications. On the other hand, Cosmos broke down from its flag and pole. Now, the $32.5-makr would be crucial for the bulls to defend. Cosmos (ATOM) The sellers ensured the $43-mark resistance [&#8230;] ... [| Skaityti daugiau](https://ambcrypto.com/cosmos-tron-near-price-analysis-27-january/) "
      ],
      "text/plain": [
       "<IPython.core.display.Markdown object>"
      ]
     },
     "execution_count": 6,
     "metadata": {},
     "output_type": "execute_result"
    }
   ],
   "source": [
    "#hide_input\n",
    "#md('##### {}'.format(titleBTC)) \n",
    "md(\"- {}{} {}{} [| Skaityti daugiau]({}) \".format(trx['title'],'. ', trx['body'], ' ...', trx['url']))"
   ]
  },
  {
   "cell_type": "code",
   "execution_count": 7,
   "id": "illegal-greece",
   "metadata": {
    "execution": {
     "iopub.execute_input": "2022-01-30T01:59:08.300107Z",
     "iopub.status.busy": "2022-01-30T01:59:08.299609Z",
     "iopub.status.idle": "2022-01-30T01:59:08.303852Z",
     "shell.execute_reply": "2022-01-30T01:59:08.303446Z"
    },
    "papermill": {
     "duration": 0.018844,
     "end_time": "2022-01-30T01:59:08.303955",
     "exception": false,
     "start_time": "2022-01-30T01:59:08.285111",
     "status": "completed"
    },
    "tags": []
   },
   "outputs": [
    {
     "data": {
      "text/markdown": [
       "- Top 5 Most Traded Metaverse Crypto Coins With a Market Cap Below $100 Million to Watch in 2022.  This weekend crypto markets are showing signs of life as Bitcoin and Ethereum manage to hold support. Metaverse crypto coins are also seeing price gains, with most projects in the green this weekend. Today we look at our top five picks for the best Metaverse crypto coins with a market cap below $100 million to [&#8230;]The post Top 5 Most Traded Metaverse Crypto Coins With a Market Cap Below $100 Million to Watch in 2022 appeared first on NullTX. ... [| Skaityti daugiau](https://nulltx.com/top-5-most-traded-metaverse-crypto-coins-with-a-market-cap-below-100-million-to-watch-in-2022/) "
      ],
      "text/plain": [
       "<IPython.core.display.Markdown object>"
      ]
     },
     "execution_count": 7,
     "metadata": {},
     "output_type": "execute_result"
    }
   ],
   "source": [
    "#hide_input\n",
    "#md('##### {}'.format(titleBTC)) \n",
    "md(\"- {}{} {}{} [| Skaityti daugiau]({}) \".format(eth['title'],'. ', eth['body'], ' ...', eth['url']))"
   ]
  },
  {
   "cell_type": "code",
   "execution_count": 8,
   "id": "sublime-lounge",
   "metadata": {
    "execution": {
     "iopub.execute_input": "2022-01-30T01:59:08.329332Z",
     "iopub.status.busy": "2022-01-30T01:59:08.328823Z",
     "iopub.status.idle": "2022-01-30T01:59:08.331834Z",
     "shell.execute_reply": "2022-01-30T01:59:08.331429Z"
    },
    "papermill": {
     "duration": 0.017536,
     "end_time": "2022-01-30T01:59:08.331935",
     "exception": false,
     "start_time": "2022-01-30T01:59:08.314399",
     "status": "completed"
    },
    "tags": []
   },
   "outputs": [
    {
     "data": {
      "text/markdown": [
       "- Will These Low Cap Gems Take Cardano To $5 By The End Of March Of 2022?.  The post Will These Low Cap Gems Take Cardano To $5 By The End Of March Of 2022? appeared first on Coinpedia - Fintech &amp; Cryptocurreny News Media| Crypto GuideThe folks from the global crypto market have been on a probe to make the most out of the year. As the year is yet to open the doors for the bulls, for a lunar odyssey. While top-tier assets are always under the active consideration of investors and traders. The sixth-largest crypto Cardano has been &#8230; ... [| Skaityti daugiau](https://coinpedia.org/altcoin/will-these-low-cap-gems-take-cardano-to-5-by-the-end-of-march-of-2022/) "
      ],
      "text/plain": [
       "<IPython.core.display.Markdown object>"
      ]
     },
     "execution_count": 8,
     "metadata": {},
     "output_type": "execute_result"
    }
   ],
   "source": [
    "#hide_input\n",
    "#md('##### {}'.format(titleBTC)) \n",
    "md(\"- {}{} {}{} [| Skaityti daugiau]({}) \".format(ada['title'],'. ', ada['body'], ' ...', ada['url']))"
   ]
  },
  {
   "cell_type": "code",
   "execution_count": 9,
   "id": "specified-ordering",
   "metadata": {
    "execution": {
     "iopub.execute_input": "2022-01-30T01:59:08.358203Z",
     "iopub.status.busy": "2022-01-30T01:59:08.357707Z",
     "iopub.status.idle": "2022-01-30T01:59:08.360880Z",
     "shell.execute_reply": "2022-01-30T01:59:08.360452Z"
    },
    "papermill": {
     "duration": 0.018073,
     "end_time": "2022-01-30T01:59:08.360983",
     "exception": false,
     "start_time": "2022-01-30T01:59:08.342910",
     "status": "completed"
    },
    "tags": []
   },
   "outputs": [
    {
     "data": {
      "text/markdown": [
       "- Top Three Crypto Exchanges Ranking By Volume.  As cryptocurrencies are highly creating hype through their digital services, users are now actively trading their favorite assets on safeThe post has appeared first on thenewscrypto.com ... [| Skaityti daugiau](https://thenewscrypto.com/top-three-crypto-exchanges-ranking-by-volume/) "
      ],
      "text/plain": [
       "<IPython.core.display.Markdown object>"
      ]
     },
     "execution_count": 9,
     "metadata": {},
     "output_type": "execute_result"
    }
   ],
   "source": [
    "#hide_input\n",
    "#md('##### {}'.format(titleBTC)) \n",
    "md(\"- {}{} {}{} [| Skaityti daugiau]({}) \".format(exchange['title'],'. ', exchange['body'], ' ...', exchange['url']))"
   ]
  },
  {
   "cell_type": "code",
   "execution_count": null,
   "id": "tender-livestock",
   "metadata": {
    "papermill": {
     "duration": 0.01101,
     "end_time": "2022-01-30T01:59:08.383048",
     "exception": false,
     "start_time": "2022-01-30T01:59:08.372038",
     "status": "completed"
    },
    "tags": []
   },
   "outputs": [],
   "source": []
  },
  {
   "cell_type": "code",
   "execution_count": null,
   "id": "appreciated-diamond",
   "metadata": {
    "papermill": {
     "duration": 0.011223,
     "end_time": "2022-01-30T01:59:08.405513",
     "exception": false,
     "start_time": "2022-01-30T01:59:08.394290",
     "status": "completed"
    },
    "tags": []
   },
   "outputs": [],
   "source": []
  },
  {
   "cell_type": "code",
   "execution_count": null,
   "id": "romance-sweden",
   "metadata": {
    "papermill": {
     "duration": 0.011013,
     "end_time": "2022-01-30T01:59:08.427643",
     "exception": false,
     "start_time": "2022-01-30T01:59:08.416630",
     "status": "completed"
    },
    "tags": []
   },
   "outputs": [],
   "source": []
  },
  {
   "cell_type": "code",
   "execution_count": null,
   "id": "dietary-statistics",
   "metadata": {
    "papermill": {
     "duration": 0.011043,
     "end_time": "2022-01-30T01:59:08.449798",
     "exception": false,
     "start_time": "2022-01-30T01:59:08.438755",
     "status": "completed"
    },
    "tags": []
   },
   "outputs": [],
   "source": []
  }
 ],
 "metadata": {
  "kernelspec": {
   "display_name": "Python 3",
   "language": "python",
   "name": "python3"
  },
  "language_info": {
   "codemirror_mode": {
    "name": "ipython",
    "version": 3
   },
   "file_extension": ".py",
   "mimetype": "text/x-python",
   "name": "python",
   "nbconvert_exporter": "python",
   "pygments_lexer": "ipython3",
   "version": "3.6.15"
  },
  "papermill": {
   "default_parameters": {},
   "duration": 10.942377,
   "end_time": "2022-01-30T01:59:08.878768",
   "environment_variables": {},
   "exception": null,
   "input_path": "Market-News.ipynb",
   "output_path": "Market-News.ipynb",
   "parameters": {},
   "start_time": "2022-01-30T01:58:57.936391",
   "version": "2.2.2"
  }
 },
 "nbformat": 4,
 "nbformat_minor": 5
}