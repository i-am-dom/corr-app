{
 "cells": [
  {
   "cell_type": "markdown",
   "id": "short-greensboro",
   "metadata": {
    "papermill": {
     "duration": 0.016247,
     "end_time": "2021-11-11T02:00:11.558561",
     "exception": false,
     "start_time": "2021-11-11T02:00:11.542314",
     "status": "completed"
    },
    "tags": []
   },
   "source": [
    "# Kriptovaliutų naujienos"
   ]
  },
  {
   "cell_type": "code",
   "execution_count": 1,
   "id": "functioning-knowing",
   "metadata": {
    "execution": {
     "iopub.execute_input": "2021-11-11T02:00:11.598864Z",
     "iopub.status.busy": "2021-11-11T02:00:11.598034Z",
     "iopub.status.idle": "2021-11-11T02:00:13.164737Z",
     "shell.execute_reply": "2021-11-11T02:00:13.164017Z"
    },
    "papermill": {
     "duration": 1.594678,
     "end_time": "2021-11-11T02:00:13.164913",
     "exception": false,
     "start_time": "2021-11-11T02:00:11.570235",
     "status": "completed"
    },
    "tags": []
   },
   "outputs": [],
   "source": [
    "#hide_input\n",
    "import warnings\n",
    "warnings.filterwarnings('ignore')\n",
    "from scripts.read_data import read_api\n",
    "from scripts.read_data import read_news\n",
    "from scripts.read_data import read_covid\n",
    "import matplotlib.pyplot as plt \n",
    "from IPython.display import Markdown as md"
   ]
  },
  {
   "cell_type": "code",
   "execution_count": 2,
   "id": "shared-acceptance",
   "metadata": {
    "execution": {
     "iopub.execute_input": "2021-11-11T02:00:13.195641Z",
     "iopub.status.busy": "2021-11-11T02:00:13.194764Z",
     "iopub.status.idle": "2021-11-11T02:00:21.575237Z",
     "shell.execute_reply": "2021-11-11T02:00:21.575771Z"
    },
    "papermill": {
     "duration": 8.399135,
     "end_time": "2021-11-11T02:00:21.575943",
     "exception": false,
     "start_time": "2021-11-11T02:00:13.176808",
     "status": "completed"
    },
    "tags": []
   },
   "outputs": [],
   "source": [
    "#hide_input\n",
    "blockchain = read_news('blockchain') \n",
    "btc = read_news('btc') \n",
    "xrp = read_news('xrp') \n",
    "trx = read_news('trx') \n",
    "eth = read_news('eth')  \n",
    "ada = read_news('ada')\n",
    "exchange = read_news('exchange') "
   ]
  },
  {
   "cell_type": "code",
   "execution_count": 3,
   "id": "synthetic-notion",
   "metadata": {
    "execution": {
     "iopub.execute_input": "2021-11-11T02:00:21.609297Z",
     "iopub.status.busy": "2021-11-11T02:00:21.608619Z",
     "iopub.status.idle": "2021-11-11T02:00:21.615417Z",
     "shell.execute_reply": "2021-11-11T02:00:21.614826Z"
    },
    "papermill": {
     "duration": 0.025873,
     "end_time": "2021-11-11T02:00:21.615554",
     "exception": false,
     "start_time": "2021-11-11T02:00:21.589681",
     "status": "completed"
    },
    "tags": []
   },
   "outputs": [
    {
     "data": {
      "text/markdown": [
       "- Loopring ($LRC) Outperformed Shiba Inu ($SHIB) and $DOGE Over Last 30 Days. Analysts Say It’s Not Done.  Loopring ($LRC) has greatly outperformed top meme-inspired cryptocurrencies like Shiba Inu ($SHIB) and Dogecoin ($DOGE) over the last 30 days, and according to some analysts it may not be done moving upward. As Benzinga reported, LRC is a layer-two scaling solution for the Ethereum network meant to facilitate trading and payments. It’s up over 790% […] ... [| Skaityti daugiau](https://www.cryptoglobe.com/latest/2021/11/loopring-lrc-outperformed-shiba-inu-shib-and-doge-over-last-30-days-analysts-say-its-not-done/) "
      ],
      "text/plain": [
       "<IPython.core.display.Markdown object>"
      ]
     },
     "execution_count": 3,
     "metadata": {},
     "output_type": "execute_result"
    }
   ],
   "source": [
    "#hide_input\n",
    "#md('##### {}'.format(titleBTC)) \n",
    "md(\"- {}{} {}{} [| Skaityti daugiau]({}) \".format(blockchain['title'],'. ', blockchain['body'], ' ...', blockchain['url']))"
   ]
  },
  {
   "cell_type": "code",
   "execution_count": 4,
   "id": "aging-caution",
   "metadata": {
    "execution": {
     "iopub.execute_input": "2021-11-11T02:00:21.645704Z",
     "iopub.status.busy": "2021-11-11T02:00:21.644989Z",
     "iopub.status.idle": "2021-11-11T02:00:21.651007Z",
     "shell.execute_reply": "2021-11-11T02:00:21.651680Z"
    },
    "papermill": {
     "duration": 0.024015,
     "end_time": "2021-11-11T02:00:21.651865",
     "exception": false,
     "start_time": "2021-11-11T02:00:21.627850",
     "status": "completed"
    },
    "tags": []
   },
   "outputs": [
    {
     "data": {
      "text/markdown": [
       "- Despite ATH, Bitcoin Futures market ‘less exuberant’ than early 2021.  Half a year after May’s crypto crash and the ensuing market carnage, an investor might assume that the king coin is stronger than ever. Furthermore, with the debut of the ProShares Bitcoin ETF which shot past $1 billion in Assets under Management (AUM) in less than three days, the BTC Futures market also appears to [&#8230;] ... [| Skaityti daugiau](https://ambcrypto.com/despite-ath-bitcoin-futures-market-less-exuberant-than-early-2021/) "
      ],
      "text/plain": [
       "<IPython.core.display.Markdown object>"
      ]
     },
     "execution_count": 4,
     "metadata": {},
     "output_type": "execute_result"
    }
   ],
   "source": [
    "#hide_input\n",
    "#md('##### {}'.format(titleBTC)) \n",
    "md(\"- {}{} {}{} [| Skaityti daugiau]({}) \".format(btc['title'],'. ', btc['body'], ' ...', btc['url']))"
   ]
  },
  {
   "cell_type": "code",
   "execution_count": 5,
   "id": "organic-actress",
   "metadata": {
    "execution": {
     "iopub.execute_input": "2021-11-11T02:00:21.684200Z",
     "iopub.status.busy": "2021-11-11T02:00:21.683391Z",
     "iopub.status.idle": "2021-11-11T02:00:21.687778Z",
     "shell.execute_reply": "2021-11-11T02:00:21.688360Z"
    },
    "papermill": {
     "duration": 0.024118,
     "end_time": "2021-11-11T02:00:21.688551",
     "exception": false,
     "start_time": "2021-11-11T02:00:21.664433",
     "status": "completed"
    },
    "tags": []
   },
   "outputs": [
    {
     "data": {
      "text/markdown": [
       "- Ripple to Assist Financial Firms Seeking to Offer Crypto Trading Services.  Striving to promote the mainstream adoption of cryptocurrencies, Ripple is planning to launch a liquidity hub to enable financial firms to offer trading services. ... [| Skaityti daugiau](https://cryptopotato.com/ripple-to-assist-financial-firms-seeking-to-offer-crypto-trading-services/) "
      ],
      "text/plain": [
       "<IPython.core.display.Markdown object>"
      ]
     },
     "execution_count": 5,
     "metadata": {},
     "output_type": "execute_result"
    }
   ],
   "source": [
    "#hide_input\n",
    "#md('##### {}'.format(titleBTC)) \n",
    "md(\"- {}{} {}{} [| Skaityti daugiau]({}) \".format(xrp['title'],'. ', xrp['body'], ' ...', xrp['url']))"
   ]
  },
  {
   "cell_type": "code",
   "execution_count": 6,
   "id": "prompt-farmer",
   "metadata": {
    "execution": {
     "iopub.execute_input": "2021-11-11T02:00:21.721180Z",
     "iopub.status.busy": "2021-11-11T02:00:21.720498Z",
     "iopub.status.idle": "2021-11-11T02:00:21.729068Z",
     "shell.execute_reply": "2021-11-11T02:00:21.728443Z"
    },
    "papermill": {
     "duration": 0.027244,
     "end_time": "2021-11-11T02:00:21.729224",
     "exception": false,
     "start_time": "2021-11-11T02:00:21.701980",
     "status": "completed"
    },
    "tags": []
   },
   "outputs": [
    {
     "data": {
      "text/markdown": [
       "- Institutional Investors Pouring Millions Into Surprise Altcoin As Bitcoin Year-to-Date Inflows Hit New Record: CoinShares.  Institutional investors are shifting the amount of capital they&#8217;re allocating to the crypto markets, with a surprise altcoin suddenly on their radar. According to the digital asset management firm CoinShares, crypto investment products enjoyed a 12th consecutive week of inflows from institutions. Seemingly out of nowhere, Tron (TRX) surged near the top of the altcoin [&#8230;]The post Institutional Investors Pouring Millions Into Surprise Altcoin As Bitcoin Year-to-Date Inflows Hit New Record: CoinShares appeared first on The Daily Hodl. ... [| Skaityti daugiau](https://dailyhodl.com/2021/11/10/institutional-investors-pouring-millions-into-surprise-altcoin-as-bitcoin-year-to-date-inflows-hit-new-record-coinshares/) "
      ],
      "text/plain": [
       "<IPython.core.display.Markdown object>"
      ]
     },
     "execution_count": 6,
     "metadata": {},
     "output_type": "execute_result"
    }
   ],
   "source": [
    "#hide_input\n",
    "#md('##### {}'.format(titleBTC)) \n",
    "md(\"- {}{} {}{} [| Skaityti daugiau]({}) \".format(trx['title'],'. ', trx['body'], ' ...', trx['url']))"
   ]
  },
  {
   "cell_type": "code",
   "execution_count": 7,
   "id": "illegal-greece",
   "metadata": {
    "execution": {
     "iopub.execute_input": "2021-11-11T02:00:21.763131Z",
     "iopub.status.busy": "2021-11-11T02:00:21.762471Z",
     "iopub.status.idle": "2021-11-11T02:00:21.770139Z",
     "shell.execute_reply": "2021-11-11T02:00:21.769589Z"
    },
    "papermill": {
     "duration": 0.027033,
     "end_time": "2021-11-11T02:00:21.770282",
     "exception": false,
     "start_time": "2021-11-11T02:00:21.743249",
     "status": "completed"
    },
    "tags": []
   },
   "outputs": [
    {
     "data": {
      "text/markdown": [
       "- Rocket Pool Eth2 staking service launches, hits stage two cap in 45 seconds.  The Eth2 staking provider only requires 16 ETH to run a minipool, and stakers with as little as 0.01 ETH can put their crypto to work on the Beacon Chain. ... [| Skaityti daugiau](https://cointelegraph.com/news/rocket-pool-eth2-staking-service-launches-hits-stage-two-cap-in-45-seconds) "
      ],
      "text/plain": [
       "<IPython.core.display.Markdown object>"
      ]
     },
     "execution_count": 7,
     "metadata": {},
     "output_type": "execute_result"
    }
   ],
   "source": [
    "#hide_input\n",
    "#md('##### {}'.format(titleBTC)) \n",
    "md(\"- {}{} {}{} [| Skaityti daugiau]({}) \".format(eth['title'],'. ', eth['body'], ' ...', eth['url']))"
   ]
  },
  {
   "cell_type": "code",
   "execution_count": 8,
   "id": "sublime-lounge",
   "metadata": {
    "execution": {
     "iopub.execute_input": "2021-11-11T02:00:21.808406Z",
     "iopub.status.busy": "2021-11-11T02:00:21.807680Z",
     "iopub.status.idle": "2021-11-11T02:00:21.814280Z",
     "shell.execute_reply": "2021-11-11T02:00:21.813661Z"
    },
    "papermill": {
     "duration": 0.029904,
     "end_time": "2021-11-11T02:00:21.814464",
     "exception": false,
     "start_time": "2021-11-11T02:00:21.784560",
     "status": "completed"
    },
    "tags": []
   },
   "outputs": [
    {
     "data": {
      "text/markdown": [
       "- Price analysis 11/10: BTC, ETH, BNB, ADA, SOL, XRP, DOT, DOGE, SHIB, LUNA.  Bitcoin’s new all-time high at $69,000 and Ether’s slow climb toward $5,000 are clear signals that bulls are in control and a hint that altcoins intend to follow.  ... [| Skaityti daugiau](https://cointelegraph.com/news/price-analysis-11-10-btc-eth-bnb-ada-sol-xrp-dot-doge-shib-luna) "
      ],
      "text/plain": [
       "<IPython.core.display.Markdown object>"
      ]
     },
     "execution_count": 8,
     "metadata": {},
     "output_type": "execute_result"
    }
   ],
   "source": [
    "#hide_input\n",
    "#md('##### {}'.format(titleBTC)) \n",
    "md(\"- {}{} {}{} [| Skaityti daugiau]({}) \".format(ada['title'],'. ', ada['body'], ' ...', ada['url']))"
   ]
  },
  {
   "cell_type": "code",
   "execution_count": 9,
   "id": "specified-ordering",
   "metadata": {
    "execution": {
     "iopub.execute_input": "2021-11-11T02:00:21.851863Z",
     "iopub.status.busy": "2021-11-11T02:00:21.850359Z",
     "iopub.status.idle": "2021-11-11T02:00:21.854483Z",
     "shell.execute_reply": "2021-11-11T02:00:21.853892Z"
    },
    "papermill": {
     "duration": 0.025146,
     "end_time": "2021-11-11T02:00:21.854625",
     "exception": false,
     "start_time": "2021-11-11T02:00:21.829479",
     "status": "completed"
    },
    "tags": []
   },
   "outputs": [
    {
     "data": {
      "text/markdown": [
       "- Bitcoin To Remain King, but Rest of Crypto Markets Could Be Anyone’s Game: Kraken CEO Jesse Powell.  Jesse Powell, CEO of crypto exchange Kraken, says that Bitcoin (BTC) won’t be unseated anytime soon. In a new interview with Yahoo Finance, Powell says that while BTC will remain the go-to crypto from a store-of-value perspective, Ethereum (ETH) may have some competition in the smart contract realm. “I think Bitcoin is still the best [&#8230;]The post Bitcoin To Remain King, but Rest of Crypto Markets Could Be Anyone’s Game: Kraken CEO Jesse Powell appeared first on The Daily Hodl. ... [| Skaityti daugiau](https://dailyhodl.com/2021/11/10/bitcoin-to-remain-king-but-rest-of-crypto-markets-could-be-anyones-game-kraken-ceo-jesse-powell/) "
      ],
      "text/plain": [
       "<IPython.core.display.Markdown object>"
      ]
     },
     "execution_count": 9,
     "metadata": {},
     "output_type": "execute_result"
    }
   ],
   "source": [
    "#hide_input\n",
    "#md('##### {}'.format(titleBTC)) \n",
    "md(\"- {}{} {}{} [| Skaityti daugiau]({}) \".format(exchange['title'],'. ', exchange['body'], ' ...', exchange['url']))"
   ]
  },
  {
   "cell_type": "code",
   "execution_count": null,
   "id": "tender-livestock",
   "metadata": {
    "papermill": {
     "duration": 0.017487,
     "end_time": "2021-11-11T02:00:21.887752",
     "exception": false,
     "start_time": "2021-11-11T02:00:21.870265",
     "status": "completed"
    },
    "tags": []
   },
   "outputs": [],
   "source": []
  },
  {
   "cell_type": "code",
   "execution_count": null,
   "id": "appreciated-diamond",
   "metadata": {
    "papermill": {
     "duration": 0.015167,
     "end_time": "2021-11-11T02:00:21.918813",
     "exception": false,
     "start_time": "2021-11-11T02:00:21.903646",
     "status": "completed"
    },
    "tags": []
   },
   "outputs": [],
   "source": []
  },
  {
   "cell_type": "code",
   "execution_count": null,
   "id": "romance-sweden",
   "metadata": {
    "papermill": {
     "duration": 0.014735,
     "end_time": "2021-11-11T02:00:21.948715",
     "exception": false,
     "start_time": "2021-11-11T02:00:21.933980",
     "status": "completed"
    },
    "tags": []
   },
   "outputs": [],
   "source": []
  },
  {
   "cell_type": "code",
   "execution_count": null,
   "id": "dietary-statistics",
   "metadata": {
    "papermill": {
     "duration": 0.015022,
     "end_time": "2021-11-11T02:00:21.978414",
     "exception": false,
     "start_time": "2021-11-11T02:00:21.963392",
     "status": "completed"
    },
    "tags": []
   },
   "outputs": [],
   "source": []
  }
 ],
 "metadata": {
  "kernelspec": {
   "display_name": "Python 3",
   "language": "python",
   "name": "python3"
  },
  "language_info": {
   "codemirror_mode": {
    "name": "ipython",
    "version": 3
   },
   "file_extension": ".py",
   "mimetype": "text/x-python",
   "name": "python",
   "nbconvert_exporter": "python",
   "pygments_lexer": "ipython3",
   "version": "3.6.15"
  },
  "papermill": {
   "default_parameters": {},
   "duration": 12.128152,
   "end_time": "2021-11-11T02:00:22.504920",
   "environment_variables": {},
   "exception": null,
   "input_path": "Market-News.ipynb",
   "output_path": "Market-News.ipynb",
   "parameters": {},
   "start_time": "2021-11-11T02:00:10.376768",
   "version": "2.2.2"
  }
 },
 "nbformat": 4,
 "nbformat_minor": 5
}