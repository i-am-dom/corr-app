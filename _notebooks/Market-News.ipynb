{
 "cells": [
  {
   "cell_type": "markdown",
   "id": "short-greensboro",
   "metadata": {
    "papermill": {
     "duration": 0.01219,
     "end_time": "2022-02-28T02:08:32.599904",
     "exception": false,
     "start_time": "2022-02-28T02:08:32.587714",
     "status": "completed"
    },
    "tags": []
   },
   "source": [
    "# Kriptovaliutų naujienos"
   ]
  },
  {
   "cell_type": "code",
   "execution_count": 1,
   "id": "functioning-knowing",
   "metadata": {
    "execution": {
     "iopub.execute_input": "2022-02-28T02:08:32.629915Z",
     "iopub.status.busy": "2022-02-28T02:08:32.629380Z",
     "iopub.status.idle": "2022-02-28T02:08:33.927330Z",
     "shell.execute_reply": "2022-02-28T02:08:33.926791Z"
    },
    "papermill": {
     "duration": 1.317769,
     "end_time": "2022-02-28T02:08:33.927486",
     "exception": false,
     "start_time": "2022-02-28T02:08:32.609717",
     "status": "completed"
    },
    "tags": []
   },
   "outputs": [],
   "source": [
    "#hide_input\n",
    "import warnings\n",
    "warnings.filterwarnings('ignore')\n",
    "from scripts.read_data import read_api\n",
    "from scripts.read_data import read_news\n",
    "from scripts.read_data import read_covid\n",
    "import matplotlib.pyplot as plt \n",
    "from IPython.display import Markdown as md"
   ]
  },
  {
   "cell_type": "code",
   "execution_count": 2,
   "id": "shared-acceptance",
   "metadata": {
    "execution": {
     "iopub.execute_input": "2022-02-28T02:08:33.952238Z",
     "iopub.status.busy": "2022-02-28T02:08:33.951713Z",
     "iopub.status.idle": "2022-02-28T02:08:45.021900Z",
     "shell.execute_reply": "2022-02-28T02:08:45.021366Z"
    },
    "papermill": {
     "duration": 11.085119,
     "end_time": "2022-02-28T02:08:45.022046",
     "exception": false,
     "start_time": "2022-02-28T02:08:33.936927",
     "status": "completed"
    },
    "tags": []
   },
   "outputs": [],
   "source": [
    "#hide_input\n",
    "blockchain = read_news('blockchain') \n",
    "btc = read_news('btc') \n",
    "xrp = read_news('xrp') \n",
    "trx = read_news('trx') \n",
    "eth = read_news('eth')  \n",
    "ada = read_news('ada')\n",
    "exchange = read_news('exchange') "
   ]
  },
  {
   "cell_type": "code",
   "execution_count": 3,
   "id": "synthetic-notion",
   "metadata": {
    "execution": {
     "iopub.execute_input": "2022-02-28T02:08:45.047700Z",
     "iopub.status.busy": "2022-02-28T02:08:45.047130Z",
     "iopub.status.idle": "2022-02-28T02:08:45.049687Z",
     "shell.execute_reply": "2022-02-28T02:08:45.050084Z"
    },
    "papermill": {
     "duration": 0.018561,
     "end_time": "2022-02-28T02:08:45.050204",
     "exception": false,
     "start_time": "2022-02-28T02:08:45.031643",
     "status": "completed"
    },
    "tags": []
   },
   "outputs": [
    {
     "data": {
      "text/markdown": [
       "- Colorado Will Allow Residents to Pay Taxes with Crypto.  Colorado has set forth a new law that will allow people to pay for taxes and fees with cryptocurrency. Colorado Says &#8220;Yes&#8221; to Crypto Payments for Tax Fees Governor Jared Polis announced the news late last week, commenting: In Colorado, we’ve been laying the groundwork to be a center of crypto and blockchain innovation for...The post Colorado Will Allow Residents to Pay Taxes with Crypto appeared first on Live Bitcoin News. ... [| Skaityti daugiau](https://www.livebitcoinnews.com/colorado-will-allow-residents-to-pay-taxes-with-crypto/) "
      ],
      "text/plain": [
       "<IPython.core.display.Markdown object>"
      ]
     },
     "execution_count": 3,
     "metadata": {},
     "output_type": "execute_result"
    }
   ],
   "source": [
    "#hide_input\n",
    "#md('##### {}'.format(titleBTC)) \n",
    "md(\"- {}{} {}{} [| Skaityti daugiau]({}) \".format(blockchain['title'],'. ', blockchain['body'], ' ...', blockchain['url']))"
   ]
  },
  {
   "cell_type": "code",
   "execution_count": 4,
   "id": "aging-caution",
   "metadata": {
    "execution": {
     "iopub.execute_input": "2022-02-28T02:08:45.074026Z",
     "iopub.status.busy": "2022-02-28T02:08:45.073204Z",
     "iopub.status.idle": "2022-02-28T02:08:45.078179Z",
     "shell.execute_reply": "2022-02-28T02:08:45.077774Z"
    },
    "papermill": {
     "duration": 0.018743,
     "end_time": "2022-02-28T02:08:45.078289",
     "exception": false,
     "start_time": "2022-02-28T02:08:45.059546",
     "status": "completed"
    },
    "tags": []
   },
   "outputs": [
    {
     "data": {
      "text/markdown": [
       "- As mainstream players enter the game, is Bitcoin’s halvening cycle changing.  Bitcoin&#8217;s price action has been very choppy of late, and it&#8217;s time to consider whether traders can depend on the tried-and-tested template anymore. To be specific &#8211; the Bitcoin halvening cycle. Quant me in Bitcoin&#8217;s halvening cycles are key for investors to predict the long-term movements of the king coin. However, more and more analysts [&#8230;] ... [| Skaityti daugiau](https://ambcrypto.com/as-mainstream-players-enter-the-game-is-bitcoins-halvening-cycle-changing/) "
      ],
      "text/plain": [
       "<IPython.core.display.Markdown object>"
      ]
     },
     "execution_count": 4,
     "metadata": {},
     "output_type": "execute_result"
    }
   ],
   "source": [
    "#hide_input\n",
    "#md('##### {}'.format(titleBTC)) \n",
    "md(\"- {}{} {}{} [| Skaityti daugiau]({}) \".format(btc['title'],'. ', btc['body'], ' ...', btc['url']))"
   ]
  },
  {
   "cell_type": "code",
   "execution_count": 5,
   "id": "organic-actress",
   "metadata": {
    "execution": {
     "iopub.execute_input": "2022-02-28T02:08:45.103168Z",
     "iopub.status.busy": "2022-02-28T02:08:45.102634Z",
     "iopub.status.idle": "2022-02-28T02:08:45.105198Z",
     "shell.execute_reply": "2022-02-28T02:08:45.105601Z"
    },
    "papermill": {
     "duration": 0.017806,
     "end_time": "2022-02-28T02:08:45.105717",
     "exception": false,
     "start_time": "2022-02-28T02:08:45.087911",
     "status": "completed"
    },
    "tags": []
   },
   "outputs": [
    {
     "data": {
      "text/markdown": [
       "- XRP Army Asserts “Game Over For SEC” As Ripple Continues To Clinch Victories In Legal Battle.  In its latest filing, Ripple responded to an SEC motion for partial reconsideration and clarification of the court's ruling on Deliberative Process Privilege (DPP). ... [| Skaityti daugiau](https://zycrypto.com/xrp-army-asserts-game-over-for-sec-as-ripple-continues-to-clinch-victories-in-legal-battle/) "
      ],
      "text/plain": [
       "<IPython.core.display.Markdown object>"
      ]
     },
     "execution_count": 5,
     "metadata": {},
     "output_type": "execute_result"
    }
   ],
   "source": [
    "#hide_input\n",
    "#md('##### {}'.format(titleBTC)) \n",
    "md(\"- {}{} {}{} [| Skaityti daugiau]({}) \".format(xrp['title'],'. ', xrp['body'], ' ...', xrp['url']))"
   ]
  },
  {
   "cell_type": "code",
   "execution_count": 6,
   "id": "prompt-farmer",
   "metadata": {
    "execution": {
     "iopub.execute_input": "2022-02-28T02:08:45.131111Z",
     "iopub.status.busy": "2022-02-28T02:08:45.130578Z",
     "iopub.status.idle": "2022-02-28T02:08:45.133127Z",
     "shell.execute_reply": "2022-02-28T02:08:45.133525Z"
    },
    "papermill": {
     "duration": 0.018054,
     "end_time": "2022-02-28T02:08:45.133641",
     "exception": false,
     "start_time": "2022-02-28T02:08:45.115587",
     "status": "completed"
    },
    "tags": []
   },
   "outputs": [
    {
     "data": {
      "text/markdown": [
       "- LUNA, AVAX, Tron Price Analysis: 27 February.  As the crypto-market recovered over the past two days, LUNA tested the 78.6% Fibonacci resistance while entering into an overbought position. Avalanche saw decent gains over the last few days as it swayed above its 20-50-200 SMA. For Tron, the $0.06-mark would be crucial to determining the chances of a possible breakout of the current [&#8230;] ... [| Skaityti daugiau](https://ambcrypto.com/luna-avax-tron-price-analysis-27-february/) "
      ],
      "text/plain": [
       "<IPython.core.display.Markdown object>"
      ]
     },
     "execution_count": 6,
     "metadata": {},
     "output_type": "execute_result"
    }
   ],
   "source": [
    "#hide_input\n",
    "#md('##### {}'.format(titleBTC)) \n",
    "md(\"- {}{} {}{} [| Skaityti daugiau]({}) \".format(trx['title'],'. ', trx['body'], ' ...', trx['url']))"
   ]
  },
  {
   "cell_type": "code",
   "execution_count": 7,
   "id": "illegal-greece",
   "metadata": {
    "execution": {
     "iopub.execute_input": "2022-02-28T02:08:45.160039Z",
     "iopub.status.busy": "2022-02-28T02:08:45.159463Z",
     "iopub.status.idle": "2022-02-28T02:08:45.163192Z",
     "shell.execute_reply": "2022-02-28T02:08:45.163641Z"
    },
    "papermill": {
     "duration": 0.019628,
     "end_time": "2022-02-28T02:08:45.163778",
     "exception": false,
     "start_time": "2022-02-28T02:08:45.144150",
     "status": "completed"
    },
    "tags": []
   },
   "outputs": [
    {
     "data": {
      "text/markdown": [
       "- Value Locked in Defi Rebounds — Smart Contract Tokens CPH, LUNA, XCP Lead the Pack.  The total value locked in decentralized finance (defi) has managed to jump above the $200 billion zone, as crypto markets have rebounded from the market downturn last week. A number of native assets from the $611 billion worth of smart contract protocols have seen double-digit gains with cypherium (CPH), counterparty (XCP), and terra (LUNA) leading [&#8230;] ... [| Skaityti daugiau](https://news.bitcoin.com/value-locked-in-defi-rebounds-smart-contract-tokens-cph-luna-xcp-lead-the-pack/) "
      ],
      "text/plain": [
       "<IPython.core.display.Markdown object>"
      ]
     },
     "execution_count": 7,
     "metadata": {},
     "output_type": "execute_result"
    }
   ],
   "source": [
    "#hide_input\n",
    "#md('##### {}'.format(titleBTC)) \n",
    "md(\"- {}{} {}{} [| Skaityti daugiau]({}) \".format(eth['title'],'. ', eth['body'], ' ...', eth['url']))"
   ]
  },
  {
   "cell_type": "code",
   "execution_count": 8,
   "id": "sublime-lounge",
   "metadata": {
    "execution": {
     "iopub.execute_input": "2022-02-28T02:08:45.189600Z",
     "iopub.status.busy": "2022-02-28T02:08:45.189013Z",
     "iopub.status.idle": "2022-02-28T02:08:45.191772Z",
     "shell.execute_reply": "2022-02-28T02:08:45.191221Z"
    },
    "papermill": {
     "duration": 0.017583,
     "end_time": "2022-02-28T02:08:45.191881",
     "exception": false,
     "start_time": "2022-02-28T02:08:45.174298",
     "status": "completed"
    },
    "tags": []
   },
   "outputs": [
    {
     "data": {
      "text/markdown": [
       "- Cardano holders to witness a recovery toward $1? The chances are….  Since striking its ATH on 2 September, Cardano (ADA) initiated its downtrend and practically swayed below its 20-50 EMA. The decline proved to be rather menacing for the bulls as they failed to defend the $1-mark. A close above the $0.9-mark would position ADA for a possible retest of its Point of Control (POC). Post [&#8230;] ... [| Skaityti daugiau](https://ambcrypto.com/cardano-holders-to-witness-a-recovery-toward-1-the-chances-are/) "
      ],
      "text/plain": [
       "<IPython.core.display.Markdown object>"
      ]
     },
     "execution_count": 8,
     "metadata": {},
     "output_type": "execute_result"
    }
   ],
   "source": [
    "#hide_input\n",
    "#md('##### {}'.format(titleBTC)) \n",
    "md(\"- {}{} {}{} [| Skaityti daugiau]({}) \".format(ada['title'],'. ', ada['body'], ' ...', ada['url']))"
   ]
  },
  {
   "cell_type": "code",
   "execution_count": 9,
   "id": "specified-ordering",
   "metadata": {
    "execution": {
     "iopub.execute_input": "2022-02-28T02:08:45.217726Z",
     "iopub.status.busy": "2022-02-28T02:08:45.216664Z",
     "iopub.status.idle": "2022-02-28T02:08:45.220497Z",
     "shell.execute_reply": "2022-02-28T02:08:45.220094Z"
    },
    "papermill": {
     "duration": 0.017853,
     "end_time": "2022-02-28T02:08:45.220600",
     "exception": false,
     "start_time": "2022-02-28T02:08:45.202747",
     "status": "completed"
    },
    "tags": []
   },
   "outputs": [
    {
     "data": {
      "text/markdown": [
       "- Crypto Exchange Executives Rally Behind Ukraine As Donations Continue To Pour Into Embattled Nation.  A host of crypto exchange executives are putting their support behind Ukraine as Russia continues its invasion of the Eastern European nation. Crypto.com CEO Kris Marszalek tells his 146,400 Twitter followers that the Singapore-based digital asset exchange has made a sizeable donation to the Red Cross in support of the embattled country. “Our thoughts are [&#8230;]The post Crypto Exchange Executives Rally Behind Ukraine As Donations Continue To Pour Into Embattled Nation appeared first on The Daily Hodl. ... [| Skaityti daugiau](https://dailyhodl.com/2022/02/27/crypto-exchange-executives-rally-behind-ukraine-as-donations-continue-to-pour-into-embattled-nation/) "
      ],
      "text/plain": [
       "<IPython.core.display.Markdown object>"
      ]
     },
     "execution_count": 9,
     "metadata": {},
     "output_type": "execute_result"
    }
   ],
   "source": [
    "#hide_input\n",
    "#md('##### {}'.format(titleBTC)) \n",
    "md(\"- {}{} {}{} [| Skaityti daugiau]({}) \".format(exchange['title'],'. ', exchange['body'], ' ...', exchange['url']))"
   ]
  },
  {
   "cell_type": "code",
   "execution_count": null,
   "id": "tender-livestock",
   "metadata": {
    "papermill": {
     "duration": 0.011211,
     "end_time": "2022-02-28T02:08:45.242993",
     "exception": false,
     "start_time": "2022-02-28T02:08:45.231782",
     "status": "completed"
    },
    "tags": []
   },
   "outputs": [],
   "source": []
  },
  {
   "cell_type": "code",
   "execution_count": null,
   "id": "appreciated-diamond",
   "metadata": {
    "papermill": {
     "duration": 0.011273,
     "end_time": "2022-02-28T02:08:45.265635",
     "exception": false,
     "start_time": "2022-02-28T02:08:45.254362",
     "status": "completed"
    },
    "tags": []
   },
   "outputs": [],
   "source": []
  },
  {
   "cell_type": "code",
   "execution_count": null,
   "id": "romance-sweden",
   "metadata": {
    "papermill": {
     "duration": 0.011227,
     "end_time": "2022-02-28T02:08:45.289104",
     "exception": false,
     "start_time": "2022-02-28T02:08:45.277877",
     "status": "completed"
    },
    "tags": []
   },
   "outputs": [],
   "source": []
  },
  {
   "cell_type": "code",
   "execution_count": null,
   "id": "dietary-statistics",
   "metadata": {
    "papermill": {
     "duration": 0.011218,
     "end_time": "2022-02-28T02:08:45.311542",
     "exception": false,
     "start_time": "2022-02-28T02:08:45.300324",
     "status": "completed"
    },
    "tags": []
   },
   "outputs": [],
   "source": []
  }
 ],
 "metadata": {
  "kernelspec": {
   "display_name": "Python 3",
   "language": "python",
   "name": "python3"
  },
  "language_info": {
   "codemirror_mode": {
    "name": "ipython",
    "version": 3
   },
   "file_extension": ".py",
   "mimetype": "text/x-python",
   "name": "python",
   "nbconvert_exporter": "python",
   "pygments_lexer": "ipython3",
   "version": "3.6.15"
  },
  "papermill": {
   "default_parameters": {},
   "duration": 14.197958,
   "end_time": "2022-02-28T02:08:45.841277",
   "environment_variables": {},
   "exception": null,
   "input_path": "Market-News.ipynb",
   "output_path": "Market-News.ipynb",
   "parameters": {},
   "start_time": "2022-02-28T02:08:31.643319",
   "version": "2.2.2"
  }
 },
 "nbformat": 4,
 "nbformat_minor": 5
}