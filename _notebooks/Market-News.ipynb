{
 "cells": [
  {
   "cell_type": "markdown",
   "id": "short-greensboro",
   "metadata": {
    "papermill": {
     "duration": 0.01489,
     "end_time": "2021-12-29T02:04:38.945205",
     "exception": false,
     "start_time": "2021-12-29T02:04:38.930315",
     "status": "completed"
    },
    "tags": []
   },
   "source": [
    "# Kriptovaliutų naujienos"
   ]
  },
  {
   "cell_type": "code",
   "execution_count": 1,
   "id": "functioning-knowing",
   "metadata": {
    "execution": {
     "iopub.execute_input": "2021-12-29T02:04:38.978850Z",
     "iopub.status.busy": "2021-12-29T02:04:38.977645Z",
     "iopub.status.idle": "2021-12-29T02:04:40.429765Z",
     "shell.execute_reply": "2021-12-29T02:04:40.429208Z"
    },
    "papermill": {
     "duration": 1.474494,
     "end_time": "2021-12-29T02:04:40.429923",
     "exception": false,
     "start_time": "2021-12-29T02:04:38.955429",
     "status": "completed"
    },
    "tags": []
   },
   "outputs": [],
   "source": [
    "#hide_input\n",
    "import warnings\n",
    "warnings.filterwarnings('ignore')\n",
    "from scripts.read_data import read_api\n",
    "from scripts.read_data import read_news\n",
    "from scripts.read_data import read_covid\n",
    "import matplotlib.pyplot as plt \n",
    "from IPython.display import Markdown as md"
   ]
  },
  {
   "cell_type": "code",
   "execution_count": 2,
   "id": "shared-acceptance",
   "metadata": {
    "execution": {
     "iopub.execute_input": "2021-12-29T02:04:40.458597Z",
     "iopub.status.busy": "2021-12-29T02:04:40.457918Z",
     "iopub.status.idle": "2021-12-29T02:04:49.235455Z",
     "shell.execute_reply": "2021-12-29T02:04:49.234446Z"
    },
    "papermill": {
     "duration": 8.795227,
     "end_time": "2021-12-29T02:04:49.235605",
     "exception": false,
     "start_time": "2021-12-29T02:04:40.440378",
     "status": "completed"
    },
    "tags": []
   },
   "outputs": [],
   "source": [
    "#hide_input\n",
    "blockchain = read_news('blockchain') \n",
    "btc = read_news('btc') \n",
    "xrp = read_news('xrp') \n",
    "trx = read_news('trx') \n",
    "eth = read_news('eth')  \n",
    "ada = read_news('ada')\n",
    "exchange = read_news('exchange') "
   ]
  },
  {
   "cell_type": "code",
   "execution_count": 3,
   "id": "synthetic-notion",
   "metadata": {
    "execution": {
     "iopub.execute_input": "2021-12-29T02:04:49.262012Z",
     "iopub.status.busy": "2021-12-29T02:04:49.259658Z",
     "iopub.status.idle": "2021-12-29T02:04:49.264721Z",
     "shell.execute_reply": "2021-12-29T02:04:49.265169Z"
    },
    "papermill": {
     "duration": 0.019276,
     "end_time": "2021-12-29T02:04:49.265310",
     "exception": false,
     "start_time": "2021-12-29T02:04:49.246034",
     "status": "completed"
    },
    "tags": []
   },
   "outputs": [
    {
     "data": {
      "text/markdown": [
       "- What DAOs Can Do: Social Movement Or Playground? Rethinking 2021 – Pt. I.  Will 2022 be the year of DAOs? 2021 was certainly a blazing start. The blockchain-related explosive and disruptive innovations seem to come from a shared ontological hunger: that deeper side of the human being that urges us to fill in the void that makes us so different from other animals species. Spoiler alert: the void cannot be filled. But trying –creating, innovating, going against the system, etc– to make something with it is what keeps us moving, conscious, and alive. The opposite is to become purposeless zombies that do exactly everything they&#8217;re told to do. What You Should Know About DAOs So, Daos. Smart contracts, decentralization, collectively finding an alternative to the traditional structures: 3 big guys on top and thousands of workers who cannot be part of major decisions inside the environment they dedicate their lives to. Basically most corporations. 2021 was a blooming year for Web3, DeFi, the metaverse, NFTs, and DAOs. It has all started to go mainstream. It&#8217;s getting big, it&#8217;s everywhere. But there&#8217;s so much happening so soon that the bigger picture of these innovations doesn&#8217;t have a defined shape yet. Nevertheless, it&#8217;s important to approach the urge that lays behind everything that&#8217;s exploding around us, because it&#8217;s likely about to become part of everyone&#8217;s life. So what are DAOs? Decentralized Autonomous Organizations, right, but that didn&#8217;t te... ... [| Skaityti daugiau](https://www.newsbtc.com/all/what-daos-can-do-social-movement-or-playground-rethinking-2021-pt-i/) "
      ],
      "text/plain": [
       "<IPython.core.display.Markdown object>"
      ]
     },
     "execution_count": 3,
     "metadata": {},
     "output_type": "execute_result"
    }
   ],
   "source": [
    "#hide_input\n",
    "#md('##### {}'.format(titleBTC)) \n",
    "md(\"- {}{} {}{} [| Skaityti daugiau]({}) \".format(blockchain['title'],'. ', blockchain['body'], ' ...', blockchain['url']))"
   ]
  },
  {
   "cell_type": "code",
   "execution_count": 4,
   "id": "aging-caution",
   "metadata": {
    "execution": {
     "iopub.execute_input": "2021-12-29T02:04:49.293108Z",
     "iopub.status.busy": "2021-12-29T02:04:49.292296Z",
     "iopub.status.idle": "2021-12-29T02:04:49.297181Z",
     "shell.execute_reply": "2021-12-29T02:04:49.296701Z"
    },
    "papermill": {
     "duration": 0.021452,
     "end_time": "2021-12-29T02:04:49.297315",
     "exception": false,
     "start_time": "2021-12-29T02:04:49.275863",
     "status": "completed"
    },
    "tags": []
   },
   "outputs": [
    {
     "data": {
      "text/markdown": [
       "- Could Bitcoin be boring? On-chain analyst predicts this for BTC in 2022.  At press time, the market was in a state of fear and Bitcoin was trading at $49,325.77. After hitting new all-time highs this year, it might look as if the king coin has fallen from its throne. However, on-chain analyst Willy Woo and podcast host Peter McCormack believe that price isn&#8217;t everything, as huge shifts [&#8230;] ... [| Skaityti daugiau](https://ambcrypto.com/could-bitcoin-be-boring-on-chain-analyst-predicts-this-for-btc-in-2022/) "
      ],
      "text/plain": [
       "<IPython.core.display.Markdown object>"
      ]
     },
     "execution_count": 4,
     "metadata": {},
     "output_type": "execute_result"
    }
   ],
   "source": [
    "#hide_input\n",
    "#md('##### {}'.format(titleBTC)) \n",
    "md(\"- {}{} {}{} [| Skaityti daugiau]({}) \".format(btc['title'],'. ', btc['body'], ' ...', btc['url']))"
   ]
  },
  {
   "cell_type": "code",
   "execution_count": 5,
   "id": "organic-actress",
   "metadata": {
    "execution": {
     "iopub.execute_input": "2021-12-29T02:04:49.325131Z",
     "iopub.status.busy": "2021-12-29T02:04:49.324545Z",
     "iopub.status.idle": "2021-12-29T02:04:49.328736Z",
     "shell.execute_reply": "2021-12-29T02:04:49.329186Z"
    },
    "papermill": {
     "duration": 0.021275,
     "end_time": "2021-12-29T02:04:49.329326",
     "exception": false,
     "start_time": "2021-12-29T02:04:49.308051",
     "status": "completed"
    },
    "tags": []
   },
   "outputs": [
    {
     "data": {
      "text/markdown": [
       "- Polygon(MATIC) & XRP Price Rip Apart, How Soon Will They be Back in Game?.  The post Polygon(MATIC) &#038; XRP Price Rip Apart, How Soon Will They be Back in Game? appeared first on Coinpedia - Fintech &amp; Cryptocurreny News Media| Crypto Guide$3 Appears a Tedious Job for Polygon(MATIC) Price by EoY As the asset ranged high to smash its highs at $2.925, many believed that clearing $3 target could be pretty easy. But very soon, the asset just fell prey to bears and slides down drastically to $2.5 levels and hovering around the same levels since &#8230; ... [| Skaityti daugiau](https://coinpedia.org/price-analysis/polygonmatic-xrp-price-rip-apart-how-soon-will-they-be-back-in-game/) "
      ],
      "text/plain": [
       "<IPython.core.display.Markdown object>"
      ]
     },
     "execution_count": 5,
     "metadata": {},
     "output_type": "execute_result"
    }
   ],
   "source": [
    "#hide_input\n",
    "#md('##### {}'.format(titleBTC)) \n",
    "md(\"- {}{} {}{} [| Skaityti daugiau]({}) \".format(xrp['title'],'. ', xrp['body'], ' ...', xrp['url']))"
   ]
  },
  {
   "cell_type": "code",
   "execution_count": 6,
   "id": "prompt-farmer",
   "metadata": {
    "execution": {
     "iopub.execute_input": "2021-12-29T02:04:49.357302Z",
     "iopub.status.busy": "2021-12-29T02:04:49.356714Z",
     "iopub.status.idle": "2021-12-29T02:04:49.360108Z",
     "shell.execute_reply": "2021-12-29T02:04:49.359637Z"
    },
    "papermill": {
     "duration": 0.019742,
     "end_time": "2021-12-29T02:04:49.360232",
     "exception": false,
     "start_time": "2021-12-29T02:04:49.340490",
     "status": "completed"
    },
    "tags": []
   },
   "outputs": [
    {
     "data": {
      "text/markdown": [
       "- MATIC, Binance Coin, Tron Price Analysis: 25 December.  As the recovery window opened up, Binance coin and Tron marked a decent recovery to reclaim their crucial support levels. On the other hand, MATIC entered into price discovery to poke its ATH on 23 December. MATIC As we saw in the previous article, after continuing its oscillation in an ascending triangle (yellow), MATIC finally [&#8230;] ... [| Skaityti daugiau](https://ambcrypto.com/matic-binance-coin-tron-price-analysis-25-december/) "
      ],
      "text/plain": [
       "<IPython.core.display.Markdown object>"
      ]
     },
     "execution_count": 6,
     "metadata": {},
     "output_type": "execute_result"
    }
   ],
   "source": [
    "#hide_input\n",
    "#md('##### {}'.format(titleBTC)) \n",
    "md(\"- {}{} {}{} [| Skaityti daugiau]({}) \".format(trx['title'],'. ', trx['body'], ' ...', trx['url']))"
   ]
  },
  {
   "cell_type": "code",
   "execution_count": 7,
   "id": "illegal-greece",
   "metadata": {
    "execution": {
     "iopub.execute_input": "2021-12-29T02:04:49.388429Z",
     "iopub.status.busy": "2021-12-29T02:04:49.387836Z",
     "iopub.status.idle": "2021-12-29T02:04:49.390888Z",
     "shell.execute_reply": "2021-12-29T02:04:49.390292Z"
    },
    "papermill": {
     "duration": 0.01905,
     "end_time": "2021-12-29T02:04:49.391009",
     "exception": false,
     "start_time": "2021-12-29T02:04:49.371959",
     "status": "completed"
    },
    "tags": []
   },
   "outputs": [
    {
     "data": {
      "text/markdown": [
       "- Ethereum: Top Crypto Investment Narratives For 2022.  NFTs, Ethereum scaling solutions, and crypto-gaming/metaverse environments are the most valuable cryptocurrency narratives going into 2022.It's likely that decentralized web 3 networks will replace FANG's control over the 'future of tech' narrative.Holding Ethereum is the best way to benefit from the overlapping growth of each of these crypto sectors. ... [| Skaityti daugiau](https://seekingalpha.com/article/4477141-ethereum-top-crypto-investment-narratives-2022?utm_source=cryptocompare.com&utm_medium=referral) "
      ],
      "text/plain": [
       "<IPython.core.display.Markdown object>"
      ]
     },
     "execution_count": 7,
     "metadata": {},
     "output_type": "execute_result"
    }
   ],
   "source": [
    "#hide_input\n",
    "#md('##### {}'.format(titleBTC)) \n",
    "md(\"- {}{} {}{} [| Skaityti daugiau]({}) \".format(eth['title'],'. ', eth['body'], ' ...', eth['url']))"
   ]
  },
  {
   "cell_type": "code",
   "execution_count": 8,
   "id": "sublime-lounge",
   "metadata": {
    "execution": {
     "iopub.execute_input": "2021-12-29T02:04:49.421843Z",
     "iopub.status.busy": "2021-12-29T02:04:49.421235Z",
     "iopub.status.idle": "2021-12-29T02:04:49.424894Z",
     "shell.execute_reply": "2021-12-29T02:04:49.425369Z"
    },
    "papermill": {
     "duration": 0.022778,
     "end_time": "2021-12-29T02:04:49.425506",
     "exception": false,
     "start_time": "2021-12-29T02:04:49.402728",
     "status": "completed"
    },
    "tags": []
   },
   "outputs": [
    {
     "data": {
      "text/markdown": [
       "- What is the likelihood of Cardano embarking on another bull run by 11 January.  Cardano was trading at $1.46 at the time of writing. Sellers had emerged in the $1.6 area and pushed the price down to $1.46. This was a strong support level, but the downtrend on higher time frames, was not yet over for Cardano. However, there were some encouraging signs. Going into 2022, a bullish Bitcoin [&#8230;] ... [| Skaityti daugiau](https://ambcrypto.com/what-is-the-likelihood-of-cardano-embarking-on-another-bull-run-by-11-january/) "
      ],
      "text/plain": [
       "<IPython.core.display.Markdown object>"
      ]
     },
     "execution_count": 8,
     "metadata": {},
     "output_type": "execute_result"
    }
   ],
   "source": [
    "#hide_input\n",
    "#md('##### {}'.format(titleBTC)) \n",
    "md(\"- {}{} {}{} [| Skaityti daugiau]({}) \".format(ada['title'],'. ', ada['body'], ' ...', ada['url']))"
   ]
  },
  {
   "cell_type": "code",
   "execution_count": 9,
   "id": "specified-ordering",
   "metadata": {
    "execution": {
     "iopub.execute_input": "2021-12-29T02:04:49.454855Z",
     "iopub.status.busy": "2021-12-29T02:04:49.454226Z",
     "iopub.status.idle": "2021-12-29T02:04:49.457613Z",
     "shell.execute_reply": "2021-12-29T02:04:49.457142Z"
    },
    "papermill": {
     "duration": 0.020059,
     "end_time": "2021-12-29T02:04:49.457735",
     "exception": false,
     "start_time": "2021-12-29T02:04:49.437676",
     "status": "completed"
    },
    "tags": []
   },
   "outputs": [
    {
     "data": {
      "text/markdown": [
       "- FTX Exchange Calls out Banks Who Can Accept Stablecoins, Lures Them With $1 Million Prize Money.  Bahamian-based cryptocurrency exchange platform FTX has issued a rallying call to all banks who might be interested in accepting stablecoins in exchange for a $1 million reward. FTX Offers Mouthwatering Reward To Banks Who Are Ready To Accept Stablecoins FTX made the announcement on Tuesday via its official Twitter account. And according to the post, The post FTX Exchange Calls out Banks Who Can Accept Stablecoins, Lures Them With $1 Million Prize Money appeared first on CoinGape. ... [| Skaityti daugiau](https://coingape.com/ftx-exchange-calls-banks-can-accept-stablecoins-lures-1-million-prize-money/) "
      ],
      "text/plain": [
       "<IPython.core.display.Markdown object>"
      ]
     },
     "execution_count": 9,
     "metadata": {},
     "output_type": "execute_result"
    }
   ],
   "source": [
    "#hide_input\n",
    "#md('##### {}'.format(titleBTC)) \n",
    "md(\"- {}{} {}{} [| Skaityti daugiau]({}) \".format(exchange['title'],'. ', exchange['body'], ' ...', exchange['url']))"
   ]
  },
  {
   "cell_type": "code",
   "execution_count": null,
   "id": "tender-livestock",
   "metadata": {
    "papermill": {
     "duration": 0.012392,
     "end_time": "2021-12-29T02:04:49.482382",
     "exception": false,
     "start_time": "2021-12-29T02:04:49.469990",
     "status": "completed"
    },
    "tags": []
   },
   "outputs": [],
   "source": []
  },
  {
   "cell_type": "code",
   "execution_count": null,
   "id": "appreciated-diamond",
   "metadata": {
    "papermill": {
     "duration": 0.012384,
     "end_time": "2021-12-29T02:04:49.507380",
     "exception": false,
     "start_time": "2021-12-29T02:04:49.494996",
     "status": "completed"
    },
    "tags": []
   },
   "outputs": [],
   "source": []
  },
  {
   "cell_type": "code",
   "execution_count": null,
   "id": "romance-sweden",
   "metadata": {
    "papermill": {
     "duration": 0.012456,
     "end_time": "2021-12-29T02:04:49.532430",
     "exception": false,
     "start_time": "2021-12-29T02:04:49.519974",
     "status": "completed"
    },
    "tags": []
   },
   "outputs": [],
   "source": []
  },
  {
   "cell_type": "code",
   "execution_count": null,
   "id": "dietary-statistics",
   "metadata": {
    "papermill": {
     "duration": 0.012478,
     "end_time": "2021-12-29T02:04:49.557464",
     "exception": false,
     "start_time": "2021-12-29T02:04:49.544986",
     "status": "completed"
    },
    "tags": []
   },
   "outputs": [],
   "source": []
  }
 ],
 "metadata": {
  "kernelspec": {
   "display_name": "Python 3",
   "language": "python",
   "name": "python3"
  },
  "language_info": {
   "codemirror_mode": {
    "name": "ipython",
    "version": 3
   },
   "file_extension": ".py",
   "mimetype": "text/x-python",
   "name": "python",
   "nbconvert_exporter": "python",
   "pygments_lexer": "ipython3",
   "version": "3.6.15"
  },
  "papermill": {
   "default_parameters": {},
   "duration": 12.437859,
   "end_time": "2021-12-29T02:04:50.080708",
   "environment_variables": {},
   "exception": null,
   "input_path": "Market-News.ipynb",
   "output_path": "Market-News.ipynb",
   "parameters": {},
   "start_time": "2021-12-29T02:04:37.642849",
   "version": "2.2.2"
  }
 },
 "nbformat": 4,
 "nbformat_minor": 5
}