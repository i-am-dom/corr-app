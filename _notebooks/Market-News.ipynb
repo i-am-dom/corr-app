{
 "cells": [
  {
   "cell_type": "markdown",
   "id": "short-greensboro",
   "metadata": {
    "papermill": {
     "duration": 0.014933,
     "end_time": "2022-04-15T03:04:10.930770",
     "exception": false,
     "start_time": "2022-04-15T03:04:10.915837",
     "status": "completed"
    },
    "tags": []
   },
   "source": [
    "# Kriptovaliutų naujienos"
   ]
  },
  {
   "cell_type": "code",
   "execution_count": 1,
   "id": "functioning-knowing",
   "metadata": {
    "execution": {
     "iopub.execute_input": "2022-04-15T03:04:10.963426Z",
     "iopub.status.busy": "2022-04-15T03:04:10.962797Z",
     "iopub.status.idle": "2022-04-15T03:04:12.369849Z",
     "shell.execute_reply": "2022-04-15T03:04:12.369258Z"
    },
    "papermill": {
     "duration": 1.428217,
     "end_time": "2022-04-15T03:04:12.369999",
     "exception": false,
     "start_time": "2022-04-15T03:04:10.941782",
     "status": "completed"
    },
    "tags": []
   },
   "outputs": [],
   "source": [
    "#hide_input\n",
    "import warnings\n",
    "warnings.filterwarnings('ignore')\n",
    "from scripts.read_data import read_api\n",
    "from scripts.read_data import read_news\n",
    "from scripts.read_data import read_covid\n",
    "import matplotlib.pyplot as plt \n",
    "from IPython.display import Markdown as md"
   ]
  },
  {
   "cell_type": "code",
   "execution_count": 2,
   "id": "shared-acceptance",
   "metadata": {
    "execution": {
     "iopub.execute_input": "2022-04-15T03:04:12.401048Z",
     "iopub.status.busy": "2022-04-15T03:04:12.399924Z",
     "iopub.status.idle": "2022-04-15T03:04:22.613324Z",
     "shell.execute_reply": "2022-04-15T03:04:22.612534Z"
    },
    "papermill": {
     "duration": 10.232828,
     "end_time": "2022-04-15T03:04:22.613466",
     "exception": false,
     "start_time": "2022-04-15T03:04:12.380638",
     "status": "completed"
    },
    "tags": []
   },
   "outputs": [],
   "source": [
    "#hide_input\n",
    "blockchain = read_news('blockchain') \n",
    "btc = read_news('btc') \n",
    "xrp = read_news('xrp') \n",
    "trx = read_news('trx') \n",
    "eth = read_news('eth')  \n",
    "ada = read_news('ada')\n",
    "exchange = read_news('exchange') "
   ]
  },
  {
   "cell_type": "code",
   "execution_count": 3,
   "id": "synthetic-notion",
   "metadata": {
    "execution": {
     "iopub.execute_input": "2022-04-15T03:04:22.640814Z",
     "iopub.status.busy": "2022-04-15T03:04:22.640229Z",
     "iopub.status.idle": "2022-04-15T03:04:22.645952Z",
     "shell.execute_reply": "2022-04-15T03:04:22.646852Z"
    },
    "papermill": {
     "duration": 0.023265,
     "end_time": "2022-04-15T03:04:22.646966",
     "exception": false,
     "start_time": "2022-04-15T03:04:22.623701",
     "status": "completed"
    },
    "tags": []
   },
   "outputs": [
    {
     "data": {
      "text/markdown": [
       "- Ravendex holds strong support at $0.0032: Bears take over.  Ravendex price analysis for April 15, 2022, comes on a bearish note for the token as chances of losing $0.0032 region as price support are gradually turning high. It is important to note that the nearest resistance for the token stands at a price of $0.0035 which the token broke in our RAVE price analysis for [&#8230;]The post Ravendex holds strong support at $0.0032: Bears take over appeared first on Blockchain, Crypto and Stock News. ... [| Skaityti daugiau](https://thecoinrise.com/ravendex-holds-strong-support-at-0-0032-bears-take-over/) "
      ],
      "text/plain": [
       "<IPython.core.display.Markdown object>"
      ]
     },
     "execution_count": 3,
     "metadata": {},
     "output_type": "execute_result"
    }
   ],
   "source": [
    "#hide_input\n",
    "#md('##### {}'.format(titleBTC)) \n",
    "md(\"- {}{} {}{} [| Skaityti daugiau]({}) \".format(blockchain['title'],'. ', blockchain['body'], ' ...', blockchain['url']))"
   ]
  },
  {
   "cell_type": "code",
   "execution_count": 4,
   "id": "aging-caution",
   "metadata": {
    "execution": {
     "iopub.execute_input": "2022-04-15T03:04:22.674226Z",
     "iopub.status.busy": "2022-04-15T03:04:22.673658Z",
     "iopub.status.idle": "2022-04-15T03:04:22.678626Z",
     "shell.execute_reply": "2022-04-15T03:04:22.678048Z"
    },
    "papermill": {
     "duration": 0.021151,
     "end_time": "2022-04-15T03:04:22.678796",
     "exception": false,
     "start_time": "2022-04-15T03:04:22.657645",
     "status": "completed"
    },
    "tags": []
   },
   "outputs": [
    {
     "data": {
      "text/markdown": [
       "- The Nightly Mint: Daily NFT Recap.  Another day, another TV show headed to mint. Meanwhile, there&#8217;s another ecommerce conglomerate who is seemingly bulllish on NFTs. It&#8217;s another daily recap of all things NFTs. The Nightly Mint Latest Mint: American Idol In yesterday&#8217;s &#8216;Nightly Mint,&#8217; we covered television channel AMC&#8217;s new &#8216;The Walking Dead&#8216; NFTs that went to listing. Today it&#8217;s &#8216;American Idol,&#8217; who have partnered with ThetaDrop to release new &#8220;predictive&#8221; NFTs to celebrate the 20th season of the long-running pop culture TV franchise. Card packs will be available for $99; collectors who hold NFTs of the artists that remain through elimination rounds will receive airdrops. Regardless of how you feel about the show, it is admittedly a pretty damn cool way to engage with fans and viewers &#8211; and one that we haven&#8217;t really seen executed thus far. Related Reading &#124; Bitcoin STH SOPR Breaks Above 1 For First Time Since December ThetaDrop operates on the Theta Network, and is the latest NFT project to integrate classic TV IP by way of a new deal with American Idol. It's arguably the biggest partnership to date for ThetaDrop. &#124; Source: THETA-USD on TradingView.com Amazon CEO Sees An Optimistic Future For NFTs Amazon CEO Andy Jassy has had plenty of uphill climbs in his short tenure replacing the long-time Bezos. Between inconsistent costs of shipping, looming challenges aro... ... [| Skaityti daugiau](https://www.newsbtc.com/news/the-nightly-mint-daily-nft-recap-20/) "
      ],
      "text/plain": [
       "<IPython.core.display.Markdown object>"
      ]
     },
     "execution_count": 4,
     "metadata": {},
     "output_type": "execute_result"
    }
   ],
   "source": [
    "#hide_input\n",
    "#md('##### {}'.format(titleBTC)) \n",
    "md(\"- {}{} {}{} [| Skaityti daugiau]({}) \".format(btc['title'],'. ', btc['body'], ' ...', btc['url']))"
   ]
  },
  {
   "cell_type": "code",
   "execution_count": 5,
   "id": "organic-actress",
   "metadata": {
    "execution": {
     "iopub.execute_input": "2022-04-15T03:04:22.706421Z",
     "iopub.status.busy": "2022-04-15T03:04:22.705816Z",
     "iopub.status.idle": "2022-04-15T03:04:22.708585Z",
     "shell.execute_reply": "2022-04-15T03:04:22.709001Z"
    },
    "papermill": {
     "duration": 0.018942,
     "end_time": "2022-04-15T03:04:22.709111",
     "exception": false,
     "start_time": "2022-04-15T03:04:22.690169",
     "status": "completed"
    },
    "tags": []
   },
   "outputs": [
    {
     "data": {
      "text/markdown": [
       "- Ripple CEO: SEC case is going ‘much better than I hoped’.  Ripple CEO Brad Garlinghouse told attendees of the Paris Blockchain Week that the ongoing case with the SEC is going exceedingly well.  ... [| Skaityti daugiau](https://cointelegraph.com/news/ripple-ceo-sec-case-is-going-much-better-than-i-hoped) "
      ],
      "text/plain": [
       "<IPython.core.display.Markdown object>"
      ]
     },
     "execution_count": 5,
     "metadata": {},
     "output_type": "execute_result"
    }
   ],
   "source": [
    "#hide_input\n",
    "#md('##### {}'.format(titleBTC)) \n",
    "md(\"- {}{} {}{} [| Skaityti daugiau]({}) \".format(xrp['title'],'. ', xrp['body'], ' ...', xrp['url']))"
   ]
  },
  {
   "cell_type": "code",
   "execution_count": 6,
   "id": "prompt-farmer",
   "metadata": {
    "execution": {
     "iopub.execute_input": "2022-04-15T03:04:22.736445Z",
     "iopub.status.busy": "2022-04-15T03:04:22.735810Z",
     "iopub.status.idle": "2022-04-15T03:04:22.739085Z",
     "shell.execute_reply": "2022-04-15T03:04:22.738483Z"
    },
    "papermill": {
     "duration": 0.018515,
     "end_time": "2022-04-15T03:04:22.739187",
     "exception": false,
     "start_time": "2022-04-15T03:04:22.720672",
     "status": "completed"
    },
    "tags": []
   },
   "outputs": [
    {
     "data": {
      "text/markdown": [
       "- TRON sees a relief rally; here’s what traders should know.  Disclaimer: The findings of the following analysis are the sole opinions of the writer and should not be considered investment advice Bitcoin saw a bounce from $39.3k to $41.4k and posted some losses in recent hours to trade at $41.1k at the time of writing. TRON also reflected this minor bounce of Bitcoin on its own [&#8230;] ... [| Skaityti daugiau](https://ambcrypto.com/tron-sees-a-relief-rally-heres-what-traders-should-know/) "
      ],
      "text/plain": [
       "<IPython.core.display.Markdown object>"
      ]
     },
     "execution_count": 6,
     "metadata": {},
     "output_type": "execute_result"
    }
   ],
   "source": [
    "#hide_input\n",
    "#md('##### {}'.format(titleBTC)) \n",
    "md(\"- {}{} {}{} [| Skaityti daugiau]({}) \".format(trx['title'],'. ', trx['body'], ' ...', trx['url']))"
   ]
  },
  {
   "cell_type": "code",
   "execution_count": 7,
   "id": "illegal-greece",
   "metadata": {
    "execution": {
     "iopub.execute_input": "2022-04-15T03:04:22.770030Z",
     "iopub.status.busy": "2022-04-15T03:04:22.769316Z",
     "iopub.status.idle": "2022-04-15T03:04:22.772524Z",
     "shell.execute_reply": "2022-04-15T03:04:22.772997Z"
    },
    "papermill": {
     "duration": 0.021049,
     "end_time": "2022-04-15T03:04:22.773114",
     "exception": false,
     "start_time": "2022-04-15T03:04:22.752065",
     "status": "completed"
    },
    "tags": []
   },
   "outputs": [
    {
     "data": {
      "text/markdown": [
       "- Is Bitcoin Headed For A Correction After Brief Recovery; Vital Trading Levels.  Bitcoin had finally broken past the $40,000 over the past 24 hours owing to Luna Foundation Guard&#8217;s (LFG) BTC buying spree. The price action was, however, dampened too soon as the coin after registering a hike of 7%, dipped by 4% at the time of writing. The 24-hour trading volume of Bitcoin also took a hit at the time of writing. Bitcoin&#8217;s fear index read 28 which corresponds with the fear sentiment, this reflected fear surrounding another crash for the king coin. It turns out that there hasn&#8217;t been much impact on the prices even after the LFG Bitcoin purchase. LFG at the beginning of this week had added 2508 BTC which is worth over $100 Million to its UST reserve. This has taken the BTC count to $42,406.92. Additionally, the U.S inflation rate spiked by 8.5%, a rate that hasn&#8217;t been recorded in over 4 decades. The global cryptocurrency market cap stood at $1.95 Trillion after a fall of 2.5% in the past day. Bitcoin Price Analysis: Four Hour Chart Bitcoin was trading for $40,030 at the time of writing, peeking slightly over the $40,000 mark. The coin had managed to break past its immediate resistance of $40,956 over the last 24 hours. At press time, however, the asset was trading below the aforementioned resistance mark. Consistent push from the bulls over the next trading sessions could push prices up to $42,000. A fall from the current price level would mean that BTC would trade near the $38,000 suppo... ... [| Skaityti daugiau](https://www.newsbtc.com/news/bitcoin/bitcoin-rallied-after-lfgs-consistent-purchase-vital-trading-levels/) "
      ],
      "text/plain": [
       "<IPython.core.display.Markdown object>"
      ]
     },
     "execution_count": 7,
     "metadata": {},
     "output_type": "execute_result"
    }
   ],
   "source": [
    "#hide_input\n",
    "#md('##### {}'.format(titleBTC)) \n",
    "md(\"- {}{} {}{} [| Skaityti daugiau]({}) \".format(eth['title'],'. ', eth['body'], ' ...', eth['url']))"
   ]
  },
  {
   "cell_type": "code",
   "execution_count": 8,
   "id": "sublime-lounge",
   "metadata": {
    "execution": {
     "iopub.execute_input": "2022-04-15T03:04:22.804511Z",
     "iopub.status.busy": "2022-04-15T03:04:22.803611Z",
     "iopub.status.idle": "2022-04-15T03:04:22.806153Z",
     "shell.execute_reply": "2022-04-15T03:04:22.806788Z"
    },
    "papermill": {
     "duration": 0.020915,
     "end_time": "2022-04-15T03:04:22.806964",
     "exception": false,
     "start_time": "2022-04-15T03:04:22.786049",
     "status": "completed"
    },
    "tags": []
   },
   "outputs": [
    {
     "data": {
      "text/markdown": [
       "- Cardano ($ADA) Price Breaks Six-Month Losing Streak in March as Long-Term Holders Pile up.  Last month, the price of Cardano’s native currency $ADA broke a six-month losing streak by ending the month with a positive return of 18.4%, at $1.19. The cryptocurrency’s price had been steadily dropping since hitting a new all-time high above $3.1 last year. According to CryptoCompare’s latest Asset Report, ADA’s price performance means it finished […] ... [| Skaityti daugiau](https://www.cryptoglobe.com/latest/2022/04/cardano-ada-price-breaks-six-month-losing-streak-in-march-as-long-term-holders-pile-up/) "
      ],
      "text/plain": [
       "<IPython.core.display.Markdown object>"
      ]
     },
     "execution_count": 8,
     "metadata": {},
     "output_type": "execute_result"
    }
   ],
   "source": [
    "#hide_input\n",
    "#md('##### {}'.format(titleBTC)) \n",
    "md(\"- {}{} {}{} [| Skaityti daugiau]({}) \".format(ada['title'],'. ', ada['body'], ' ...', ada['url']))"
   ]
  },
  {
   "cell_type": "code",
   "execution_count": 9,
   "id": "specified-ordering",
   "metadata": {
    "execution": {
     "iopub.execute_input": "2022-04-15T03:04:22.839366Z",
     "iopub.status.busy": "2022-04-15T03:04:22.838769Z",
     "iopub.status.idle": "2022-04-15T03:04:22.841602Z",
     "shell.execute_reply": "2022-04-15T03:04:22.842503Z"
    },
    "papermill": {
     "duration": 0.022485,
     "end_time": "2022-04-15T03:04:22.842640",
     "exception": false,
     "start_time": "2022-04-15T03:04:22.820155",
     "status": "completed"
    },
    "tags": []
   },
   "outputs": [
    {
     "data": {
      "text/markdown": [
       "- Elon Musk Offers $43,000,000,000 To Buy Twitter, Igniting Short-Lived Dogecoin (DOGE) Rally.  The CEO of SpaceX and Tesla is offering billions of dollars to buy one of the world&#8217;s premier social media platforms, almost sending his favorite crypto to the moon. In a new tweet, Elon Musk revealed his U.S. Securities and Exchange Commission (SEC)-registered offer to purchase Twitter for $43 billion. I made an offer https://t.co/VvreuPMeLu [&#8230;]The post Elon Musk Offers $43,000,000,000 To Buy Twitter, Igniting Short-Lived Dogecoin (DOGE) Rally appeared first on The Daily Hodl. ... [| Skaityti daugiau](https://dailyhodl.com/2022/04/14/elon-musk-offers-43000000000-to-buy-twitter-igniting-short-lived-dogecoin-doge-rally/) "
      ],
      "text/plain": [
       "<IPython.core.display.Markdown object>"
      ]
     },
     "execution_count": 9,
     "metadata": {},
     "output_type": "execute_result"
    }
   ],
   "source": [
    "#hide_input\n",
    "#md('##### {}'.format(titleBTC)) \n",
    "md(\"- {}{} {}{} [| Skaityti daugiau]({}) \".format(exchange['title'],'. ', exchange['body'], ' ...', exchange['url']))"
   ]
  },
  {
   "cell_type": "code",
   "execution_count": null,
   "id": "tender-livestock",
   "metadata": {
    "papermill": {
     "duration": 0.012646,
     "end_time": "2022-04-15T03:04:22.869250",
     "exception": false,
     "start_time": "2022-04-15T03:04:22.856604",
     "status": "completed"
    },
    "tags": []
   },
   "outputs": [],
   "source": []
  },
  {
   "cell_type": "code",
   "execution_count": null,
   "id": "appreciated-diamond",
   "metadata": {
    "papermill": {
     "duration": 0.012632,
     "end_time": "2022-04-15T03:04:22.895453",
     "exception": false,
     "start_time": "2022-04-15T03:04:22.882821",
     "status": "completed"
    },
    "tags": []
   },
   "outputs": [],
   "source": []
  },
  {
   "cell_type": "code",
   "execution_count": null,
   "id": "romance-sweden",
   "metadata": {
    "papermill": {
     "duration": 0.013447,
     "end_time": "2022-04-15T03:04:22.923643",
     "exception": false,
     "start_time": "2022-04-15T03:04:22.910196",
     "status": "completed"
    },
    "tags": []
   },
   "outputs": [],
   "source": []
  },
  {
   "cell_type": "code",
   "execution_count": null,
   "id": "dietary-statistics",
   "metadata": {
    "papermill": {
     "duration": 0.013065,
     "end_time": "2022-04-15T03:04:22.950406",
     "exception": false,
     "start_time": "2022-04-15T03:04:22.937341",
     "status": "completed"
    },
    "tags": []
   },
   "outputs": [],
   "source": []
  }
 ],
 "metadata": {
  "kernelspec": {
   "display_name": "Python 3",
   "language": "python",
   "name": "python3"
  },
  "language_info": {
   "codemirror_mode": {
    "name": "ipython",
    "version": 3
   },
   "file_extension": ".py",
   "mimetype": "text/x-python",
   "name": "python",
   "nbconvert_exporter": "python",
   "pygments_lexer": "ipython3",
   "version": "3.6.15"
  },
  "papermill": {
   "default_parameters": {},
   "duration": 13.75828,
   "end_time": "2022-04-15T03:04:23.382595",
   "environment_variables": {},
   "exception": null,
   "input_path": "Market-News.ipynb",
   "output_path": "Market-News.ipynb",
   "parameters": {},
   "start_time": "2022-04-15T03:04:09.624315",
   "version": "2.2.2"
  }
 },
 "nbformat": 4,
 "nbformat_minor": 5
}