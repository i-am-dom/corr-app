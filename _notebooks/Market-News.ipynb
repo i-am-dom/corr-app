{
 "cells": [
  {
   "cell_type": "markdown",
   "id": "short-greensboro",
   "metadata": {
    "papermill": {
     "duration": 0.013683,
     "end_time": "2021-09-22T02:01:59.627675",
     "exception": false,
     "start_time": "2021-09-22T02:01:59.613992",
     "status": "completed"
    },
    "tags": []
   },
   "source": [
    "# Kriptovaliutų naujienos"
   ]
  },
  {
   "cell_type": "code",
   "execution_count": 1,
   "id": "functioning-knowing",
   "metadata": {
    "execution": {
     "iopub.execute_input": "2021-09-22T02:01:59.657600Z",
     "iopub.status.busy": "2021-09-22T02:01:59.657037Z",
     "iopub.status.idle": "2021-09-22T02:02:00.873962Z",
     "shell.execute_reply": "2021-09-22T02:02:00.874394Z"
    },
    "papermill": {
     "duration": 1.23714,
     "end_time": "2021-09-22T02:02:00.874564",
     "exception": false,
     "start_time": "2021-09-22T02:01:59.637424",
     "status": "completed"
    },
    "tags": []
   },
   "outputs": [],
   "source": [
    "#hide_input\n",
    "import warnings\n",
    "warnings.filterwarnings('ignore')\n",
    "from scripts.read_data import read_api\n",
    "from scripts.read_data import read_news\n",
    "from scripts.read_data import read_covid\n",
    "import matplotlib.pyplot as plt \n",
    "from IPython.display import Markdown as md"
   ]
  },
  {
   "cell_type": "code",
   "execution_count": 2,
   "id": "shared-acceptance",
   "metadata": {
    "execution": {
     "iopub.execute_input": "2021-09-22T02:02:00.898934Z",
     "iopub.status.busy": "2021-09-22T02:02:00.898408Z",
     "iopub.status.idle": "2021-09-22T02:02:09.180852Z",
     "shell.execute_reply": "2021-09-22T02:02:09.179971Z"
    },
    "papermill": {
     "duration": 8.297171,
     "end_time": "2021-09-22T02:02:09.180992",
     "exception": false,
     "start_time": "2021-09-22T02:02:00.883821",
     "status": "completed"
    },
    "tags": []
   },
   "outputs": [],
   "source": [
    "#hide_input\n",
    "blockchain = read_news('blockchain') \n",
    "btc = read_news('btc') \n",
    "xrp = read_news('xrp') \n",
    "trx = read_news('trx') \n",
    "eth = read_news('eth')  \n",
    "ada = read_news('ada')\n",
    "exchange = read_news('exchange') "
   ]
  },
  {
   "cell_type": "code",
   "execution_count": 3,
   "id": "synthetic-notion",
   "metadata": {
    "execution": {
     "iopub.execute_input": "2021-09-22T02:02:09.207071Z",
     "iopub.status.busy": "2021-09-22T02:02:09.206529Z",
     "iopub.status.idle": "2021-09-22T02:02:09.208631Z",
     "shell.execute_reply": "2021-09-22T02:02:09.209066Z"
    },
    "papermill": {
     "duration": 0.018187,
     "end_time": "2021-09-22T02:02:09.209191",
     "exception": false,
     "start_time": "2021-09-22T02:02:09.191004",
     "status": "completed"
    },
    "tags": []
   },
   "outputs": [
    {
     "data": {
      "text/markdown": [
       "- Can the Bitcoin Blockchain Host Smart Contracts? This Blockchain Protocol is Working to Make that Happen.  The Bitcoin blockchain is the oldest blockchain protocol in the world, and arguably the most renowned. While the monetary innovation that Satoshi Nakamoto introduced remains the most significant in today’s digital currency world, there are new evolutions that have pushed the paradigm to a whole new level. This evolution includes the hosting of smart contracts The post Can the Bitcoin Blockchain Host Smart Contracts? This Blockchain Protocol is Working to Make that Happen appeared first on Coingape. ... [| Skaityti daugiau](https://coingape.com/can-the-bitcoin-blockchain-host-smart-contracts-this-blockchain-protocol-is-working-to-make-that-happen/) "
      ],
      "text/plain": [
       "<IPython.core.display.Markdown object>"
      ]
     },
     "execution_count": 3,
     "metadata": {},
     "output_type": "execute_result"
    }
   ],
   "source": [
    "#hide_input\n",
    "#md('##### {}'.format(titleBTC)) \n",
    "md(\"- {}{} {}{} [| Skaityti daugiau]({}) \".format(blockchain['title'],'. ', blockchain['body'], ' ...', blockchain['url']))"
   ]
  },
  {
   "cell_type": "code",
   "execution_count": 4,
   "id": "aging-caution",
   "metadata": {
    "execution": {
     "iopub.execute_input": "2021-09-22T02:02:09.232563Z",
     "iopub.status.busy": "2021-09-22T02:02:09.231981Z",
     "iopub.status.idle": "2021-09-22T02:02:09.235230Z",
     "shell.execute_reply": "2021-09-22T02:02:09.234824Z"
    },
    "papermill": {
     "duration": 0.016808,
     "end_time": "2021-09-22T02:02:09.235341",
     "exception": false,
     "start_time": "2021-09-22T02:02:09.218533",
     "status": "completed"
    },
    "tags": []
   },
   "outputs": [
    {
     "data": {
      "text/markdown": [
       "- Evergrande to make Thursday bond payment; S&P 500 futures pop higher.  Bloomberg reports that Hengda Real Estate - the main unit of troubled Chinese property developer Evergrande - will make its Thursday bond coupon payment. This hardly means Evergrande is out of the woods - indeed a restructuring at some point still remains likely - but a disorderly unwind seems off the table at the moment. S&P 500 (SP500) futures have added about 30 points, now up 0.3%. Another risk asset on the move ... Bitcoin (BTC-USD) has jumped to $42.5K after earlier this evening tumbling as low as $39.5K. ... [| Skaityti daugiau](https://seekingalpha.com/news/3742087-evergrande-to-make-thursday-bond-payment-sp-500-futures-pop-higher?utm_source=cryptocompare.com&utm_medium=referral) "
      ],
      "text/plain": [
       "<IPython.core.display.Markdown object>"
      ]
     },
     "execution_count": 4,
     "metadata": {},
     "output_type": "execute_result"
    }
   ],
   "source": [
    "#hide_input\n",
    "#md('##### {}'.format(titleBTC)) \n",
    "md(\"- {}{} {}{} [| Skaityti daugiau]({}) \".format(btc['title'],'. ', btc['body'], ' ...', btc['url']))"
   ]
  },
  {
   "cell_type": "code",
   "execution_count": 5,
   "id": "organic-actress",
   "metadata": {
    "execution": {
     "iopub.execute_input": "2021-09-22T02:02:09.258954Z",
     "iopub.status.busy": "2021-09-22T02:02:09.257896Z",
     "iopub.status.idle": "2021-09-22T02:02:09.261347Z",
     "shell.execute_reply": "2021-09-22T02:02:09.261816Z"
    },
    "papermill": {
     "duration": 0.017071,
     "end_time": "2021-09-22T02:02:09.261937",
     "exception": false,
     "start_time": "2021-09-22T02:02:09.244866",
     "status": "completed"
    },
    "tags": []
   },
   "outputs": [
    {
     "data": {
      "text/markdown": [
       "- Judge denies Ripple’s request for SEC crypto trading disclosures.  A U.S. Magistrate Judge has denied Ripple's request for documents detailing regulators' crypto trading activity. The post Judge denies Ripple&#8217;s request for SEC crypto trading disclosures appeared first on The Block. ... [| Skaityti daugiau](https://www.theblockcrypto.com/linked/118254/judge-denies-ripples-request-for-sec-crypto-trading-disclosures?utm_source=cryptocompare&utm_medium=rss) "
      ],
      "text/plain": [
       "<IPython.core.display.Markdown object>"
      ]
     },
     "execution_count": 5,
     "metadata": {},
     "output_type": "execute_result"
    }
   ],
   "source": [
    "#hide_input\n",
    "#md('##### {}'.format(titleBTC)) \n",
    "md(\"- {}{} {}{} [| Skaityti daugiau]({}) \".format(xrp['title'],'. ', xrp['body'], ' ...', xrp['url']))"
   ]
  },
  {
   "cell_type": "code",
   "execution_count": 6,
   "id": "prompt-farmer",
   "metadata": {
    "execution": {
     "iopub.execute_input": "2021-09-22T02:02:09.286619Z",
     "iopub.status.busy": "2021-09-22T02:02:09.286108Z",
     "iopub.status.idle": "2021-09-22T02:02:09.289327Z",
     "shell.execute_reply": "2021-09-22T02:02:09.288892Z"
    },
    "papermill": {
     "duration": 0.017705,
     "end_time": "2021-09-22T02:02:09.289437",
     "exception": false,
     "start_time": "2021-09-22T02:02:09.271732",
     "status": "completed"
    },
    "tags": []
   },
   "outputs": [
    {
     "data": {
      "text/markdown": [
       "- TRON (TRX) Juggles Between Buyers and Sellers.  TRON has positioned itself as one of the fastest transactions offering cryptocurrency, with the current levels providing as high as 2000 transactions per second. In addition, it broke the internet with the news of acquiring the file-sharing platform BitTorrent in 2018. Since that announcement, TRON hasn’t looked back in terms of scaling capability and further &#8230; ... [| Skaityti daugiau](https://www.cryptonewsz.com/tron-juggles-between-buyers-and-sellers/) "
      ],
      "text/plain": [
       "<IPython.core.display.Markdown object>"
      ]
     },
     "execution_count": 6,
     "metadata": {},
     "output_type": "execute_result"
    }
   ],
   "source": [
    "#hide_input\n",
    "#md('##### {}'.format(titleBTC)) \n",
    "md(\"- {}{} {}{} [| Skaityti daugiau]({}) \".format(trx['title'],'. ', trx['body'], ' ...', trx['url']))"
   ]
  },
  {
   "cell_type": "code",
   "execution_count": 7,
   "id": "illegal-greece",
   "metadata": {
    "execution": {
     "iopub.execute_input": "2021-09-22T02:02:09.314988Z",
     "iopub.status.busy": "2021-09-22T02:02:09.314479Z",
     "iopub.status.idle": "2021-09-22T02:02:09.317268Z",
     "shell.execute_reply": "2021-09-22T02:02:09.316838Z"
    },
    "papermill": {
     "duration": 0.017552,
     "end_time": "2021-09-22T02:02:09.317373",
     "exception": false,
     "start_time": "2021-09-22T02:02:09.299821",
     "status": "completed"
    },
    "tags": []
   },
   "outputs": [
    {
     "data": {
      "text/markdown": [
       "- Cardano Founder Charles Hoskinson Says The Term Smart Contracts Needs To Be Changed.  Smart contracts have been in the crypto space for quite a while now, most recently debuting on Cardano. With the rise of decentralized finance (DeFi), smart contracts have become even more important to the entire industry. This is because they are required to build the protocols on which these decentralized applications (DApps) run on. As they have grown in popularity, smart contracts platforms like Ethereum and Solana have recorded great success with them. Cardano has been working on bringing smart contracts to its network for a while and on September 12th, that dream became a reality with the final launch of the Alonzo Hard Fork Combinator (HFC). The arrival of smart contracts capability on the network was widely celebrated in the industry. But now, Founder Charles Hoskinson does not believe the term does justice to what Cardano actually does. Related Reading &#124; Why The Hydra Layer 2 Solution Is Important To The Cardano Network The disagreement with the term smart contracts comes after a user pointed out that what Cardano does is actually very different from smart contracts. The user, @_KtorZ_, pointed out that the network deviates from what established smart contracts platforms do, referring to the network as “atypical.” Compared to most existing smart-contract platforms, Cardano takes a much different road. Recently, we&#39;ve seen a lot of discussions going on about &#34;concurrency issues&#34; and &#34;EUTXO vs accou... ... [| Skaityti daugiau](https://www.newsbtc.com/news/cardano/cardano-smart-contracts-name-change/) "
      ],
      "text/plain": [
       "<IPython.core.display.Markdown object>"
      ]
     },
     "execution_count": 7,
     "metadata": {},
     "output_type": "execute_result"
    }
   ],
   "source": [
    "#hide_input\n",
    "#md('##### {}'.format(titleBTC)) \n",
    "md(\"- {}{} {}{} [| Skaityti daugiau]({}) \".format(eth['title'],'. ', eth['body'], ' ...', eth['url']))"
   ]
  },
  {
   "cell_type": "code",
   "execution_count": 8,
   "id": "sublime-lounge",
   "metadata": {
    "execution": {
     "iopub.execute_input": "2021-09-22T02:02:09.343520Z",
     "iopub.status.busy": "2021-09-22T02:02:09.343016Z",
     "iopub.status.idle": "2021-09-22T02:02:09.345913Z",
     "shell.execute_reply": "2021-09-22T02:02:09.346297Z"
    },
    "papermill": {
     "duration": 0.01843,
     "end_time": "2021-09-22T02:02:09.346425",
     "exception": false,
     "start_time": "2021-09-22T02:02:09.327995",
     "status": "completed"
    },
    "tags": []
   },
   "outputs": [
    {
     "data": {
      "text/markdown": [
       "- Cardano Founder Charles Hoskinson Says The Term Smart Contracts Needs To Be Changed.  Smart contracts have been in the crypto space for quite a while now, most recently debuting on Cardano. With the rise of decentralized finance (DeFi), smart contracts have become even more important to the entire industry. This is because they are required to build the protocols on which these decentralized applications (DApps) run on. As they have grown in popularity, smart contracts platforms like Ethereum and Solana have recorded great success with them. Cardano has been working on bringing smart contracts to its network for a while and on September 12th, that dream became a reality with the final launch of the Alonzo Hard Fork Combinator (HFC). The arrival of smart contracts capability on the network was widely celebrated in the industry. But now, Founder Charles Hoskinson does not believe the term does justice to what Cardano actually does. Related Reading &#124; Why The Hydra Layer 2 Solution Is Important To The Cardano Network The disagreement with the term smart contracts comes after a user pointed out that what Cardano does is actually very different from smart contracts. The user, @_KtorZ_, pointed out that the network deviates from what established smart contracts platforms do, referring to the network as “atypical.” Compared to most existing smart-contract platforms, Cardano takes a much different road. Recently, we&#39;ve seen a lot of discussions going on about &#34;concurrency issues&#34; and &#34;EUTXO vs accou... ... [| Skaityti daugiau](https://www.newsbtc.com/news/cardano/cardano-smart-contracts-name-change/) "
      ],
      "text/plain": [
       "<IPython.core.display.Markdown object>"
      ]
     },
     "execution_count": 8,
     "metadata": {},
     "output_type": "execute_result"
    }
   ],
   "source": [
    "#hide_input\n",
    "#md('##### {}'.format(titleBTC)) \n",
    "md(\"- {}{} {}{} [| Skaityti daugiau]({}) \".format(ada['title'],'. ', ada['body'], ' ...', ada['url']))"
   ]
  },
  {
   "cell_type": "code",
   "execution_count": 9,
   "id": "specified-ordering",
   "metadata": {
    "execution": {
     "iopub.execute_input": "2021-09-22T02:02:09.373605Z",
     "iopub.status.busy": "2021-09-22T02:02:09.373093Z",
     "iopub.status.idle": "2021-09-22T02:02:09.375959Z",
     "shell.execute_reply": "2021-09-22T02:02:09.376398Z"
    },
    "papermill": {
     "duration": 0.019152,
     "end_time": "2021-09-22T02:02:09.376521",
     "exception": false,
     "start_time": "2021-09-22T02:02:09.357369",
     "status": "completed"
    },
    "tags": []
   },
   "outputs": [
    {
     "data": {
      "text/markdown": [
       "- Crypto Exchange Binance Ceases Derivatives Trading in Australia.  Amid regulatory scrutiny worldwide, global cryptocurrency exchange Binance has announced that it will cease offering futures, options, and leveraged tokens to Australian users in 90 days. Changes Coming to Binance Australia Cryptocurrency exchange Binance announced some changes to its offerings in Australia Tuesday. The exchange will cease offering futures, options, and leveraged tokens to existing [&#8230;] ... [| Skaityti daugiau](https://news.bitcoin.com/crypto-exchange-binance-ceases-derivatives-trading-in-australia/) "
      ],
      "text/plain": [
       "<IPython.core.display.Markdown object>"
      ]
     },
     "execution_count": 9,
     "metadata": {},
     "output_type": "execute_result"
    }
   ],
   "source": [
    "#hide_input\n",
    "#md('##### {}'.format(titleBTC)) \n",
    "md(\"- {}{} {}{} [| Skaityti daugiau]({}) \".format(exchange['title'],'. ', exchange['body'], ' ...', exchange['url']))"
   ]
  },
  {
   "cell_type": "code",
   "execution_count": null,
   "id": "tender-livestock",
   "metadata": {
    "papermill": {
     "duration": 0.011308,
     "end_time": "2021-09-22T02:02:09.399011",
     "exception": false,
     "start_time": "2021-09-22T02:02:09.387703",
     "status": "completed"
    },
    "tags": []
   },
   "outputs": [],
   "source": []
  },
  {
   "cell_type": "code",
   "execution_count": null,
   "id": "appreciated-diamond",
   "metadata": {
    "papermill": {
     "duration": 0.011287,
     "end_time": "2021-09-22T02:02:09.421699",
     "exception": false,
     "start_time": "2021-09-22T02:02:09.410412",
     "status": "completed"
    },
    "tags": []
   },
   "outputs": [],
   "source": []
  },
  {
   "cell_type": "code",
   "execution_count": null,
   "id": "romance-sweden",
   "metadata": {
    "papermill": {
     "duration": 0.011184,
     "end_time": "2021-09-22T02:02:09.444111",
     "exception": false,
     "start_time": "2021-09-22T02:02:09.432927",
     "status": "completed"
    },
    "tags": []
   },
   "outputs": [],
   "source": []
  },
  {
   "cell_type": "code",
   "execution_count": null,
   "id": "dietary-statistics",
   "metadata": {
    "papermill": {
     "duration": 0.01114,
     "end_time": "2021-09-22T02:02:09.466373",
     "exception": false,
     "start_time": "2021-09-22T02:02:09.455233",
     "status": "completed"
    },
    "tags": []
   },
   "outputs": [],
   "source": []
  }
 ],
 "metadata": {
  "kernelspec": {
   "display_name": "Python 3",
   "language": "python",
   "name": "python3"
  },
  "language_info": {
   "codemirror_mode": {
    "name": "ipython",
    "version": 3
   },
   "file_extension": ".py",
   "mimetype": "text/x-python",
   "name": "python",
   "nbconvert_exporter": "python",
   "pygments_lexer": "ipython3",
   "version": "3.6.15"
  },
  "papermill": {
   "default_parameters": {},
   "duration": 11.410532,
   "end_time": "2021-09-22T02:02:09.986443",
   "environment_variables": {},
   "exception": null,
   "input_path": "Market-News.ipynb",
   "output_path": "Market-News.ipynb",
   "parameters": {},
   "start_time": "2021-09-22T02:01:58.575911",
   "version": "2.2.2"
  }
 },
 "nbformat": 4,
 "nbformat_minor": 5
}