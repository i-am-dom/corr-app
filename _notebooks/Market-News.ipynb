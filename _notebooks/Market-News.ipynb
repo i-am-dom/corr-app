{
 "cells": [
  {
   "cell_type": "markdown",
   "id": "short-greensboro",
   "metadata": {
    "papermill": {
     "duration": 0.016911,
     "end_time": "2022-10-31T03:21:13.099614",
     "exception": false,
     "start_time": "2022-10-31T03:21:13.082703",
     "status": "completed"
    },
    "tags": []
   },
   "source": [
    "# Kriptovaliutų naujienos"
   ]
  },
  {
   "cell_type": "code",
   "execution_count": 1,
   "id": "functioning-knowing",
   "metadata": {
    "execution": {
     "iopub.execute_input": "2022-10-31T03:21:13.135087Z",
     "iopub.status.busy": "2022-10-31T03:21:13.133826Z",
     "iopub.status.idle": "2022-10-31T03:21:14.705084Z",
     "shell.execute_reply": "2022-10-31T03:21:14.704486Z"
    },
    "papermill": {
     "duration": 1.593894,
     "end_time": "2022-10-31T03:21:14.705299",
     "exception": false,
     "start_time": "2022-10-31T03:21:13.111405",
     "status": "completed"
    },
    "tags": []
   },
   "outputs": [],
   "source": [
    "#hide_input\n",
    "import warnings\n",
    "warnings.filterwarnings('ignore')\n",
    "from scripts.read_data import read_api\n",
    "from scripts.read_data import read_news\n",
    "from scripts.read_data import read_covid\n",
    "import matplotlib.pyplot as plt \n",
    "from IPython.display import Markdown as md"
   ]
  },
  {
   "cell_type": "code",
   "execution_count": 2,
   "id": "shared-acceptance",
   "metadata": {
    "execution": {
     "iopub.execute_input": "2022-10-31T03:21:14.735122Z",
     "iopub.status.busy": "2022-10-31T03:21:14.734004Z",
     "iopub.status.idle": "2022-10-31T03:21:26.399905Z",
     "shell.execute_reply": "2022-10-31T03:21:26.400423Z"
    },
    "papermill": {
     "duration": 11.683978,
     "end_time": "2022-10-31T03:21:26.400581",
     "exception": false,
     "start_time": "2022-10-31T03:21:14.716603",
     "status": "completed"
    },
    "tags": []
   },
   "outputs": [],
   "source": [
    "#hide_input\n",
    "blockchain = read_news('blockchain') \n",
    "btc = read_news('btc') \n",
    "xrp = read_news('xrp') \n",
    "trx = read_news('trx') \n",
    "eth = read_news('eth')  \n",
    "ada = read_news('ada')\n",
    "exchange = read_news('exchange') "
   ]
  },
  {
   "cell_type": "code",
   "execution_count": 3,
   "id": "synthetic-notion",
   "metadata": {
    "execution": {
     "iopub.execute_input": "2022-10-31T03:21:26.432584Z",
     "iopub.status.busy": "2022-10-31T03:21:26.431921Z",
     "iopub.status.idle": "2022-10-31T03:21:26.438414Z",
     "shell.execute_reply": "2022-10-31T03:21:26.438927Z"
    },
    "papermill": {
     "duration": 0.02652,
     "end_time": "2022-10-31T03:21:26.439095",
     "exception": false,
     "start_time": "2022-10-31T03:21:26.412575",
     "status": "completed"
    },
    "tags": []
   },
   "outputs": [
    {
     "data": {
      "text/markdown": [
       "- 5,000 miles apart: Thailand and Hungary to jointly explore blockchain tech.  The pact between the two nations' financial technology associations will see cooperation on technology, including blockchain, to power their respective financial industries. ... [| Skaityti daugiau](https://cointelegraph.com/news/5-000-miles-apart-thailand-and-hungary-to-jointly-explore-blockchain-tech) "
      ],
      "text/plain": [
       "<IPython.core.display.Markdown object>"
      ]
     },
     "execution_count": 3,
     "metadata": {},
     "output_type": "execute_result"
    }
   ],
   "source": [
    "#hide_input\n",
    "#md('##### {}'.format(titleBTC)) \n",
    "md(\"- {}{} {}{} [| Skaityti daugiau]({}) \".format(blockchain['title'],'. ', blockchain['body'], ' ...', blockchain['url']))"
   ]
  },
  {
   "cell_type": "code",
   "execution_count": 4,
   "id": "aging-caution",
   "metadata": {
    "execution": {
     "iopub.execute_input": "2022-10-31T03:21:26.468879Z",
     "iopub.status.busy": "2022-10-31T03:21:26.468115Z",
     "iopub.status.idle": "2022-10-31T03:21:26.476131Z",
     "shell.execute_reply": "2022-10-31T03:21:26.475510Z"
    },
    "papermill": {
     "duration": 0.025691,
     "end_time": "2022-10-31T03:21:26.476260",
     "exception": false,
     "start_time": "2022-10-31T03:21:26.450569",
     "status": "completed"
    },
    "tags": []
   },
   "outputs": [
    {
     "data": {
      "text/markdown": [
       "- Bitcoin, Ethereum, Filecoin, and ApeCoin Daily Price Analyses – 30 October Roundup.  The global crypto market has shown a decline trend due to lowered capital influx. The change in the market has resulted in a considerable decline in the value of Bitcoin, Ethereum, and others. As the market has continued in the negative direction, there have been impacts on the overall gains. The investors have also been &#8230;  Bitcoin, Ethereum, Filecoin, and ApeCoin Daily Price Analyses – 30 October Roundup Read More &#187; ... [| Skaityti daugiau](https://www.cryptopolitan.com/bitcoin-ethereum-filecoin-and-apecoin-daily-price-analyses-30-october-roundup/) "
      ],
      "text/plain": [
       "<IPython.core.display.Markdown object>"
      ]
     },
     "execution_count": 4,
     "metadata": {},
     "output_type": "execute_result"
    }
   ],
   "source": [
    "#hide_input\n",
    "#md('##### {}'.format(titleBTC)) \n",
    "md(\"- {}{} {}{} [| Skaityti daugiau]({}) \".format(btc['title'],'. ', btc['body'], ' ...', btc['url']))"
   ]
  },
  {
   "cell_type": "code",
   "execution_count": 5,
   "id": "organic-actress",
   "metadata": {
    "execution": {
     "iopub.execute_input": "2022-10-31T03:21:26.507178Z",
     "iopub.status.busy": "2022-10-31T03:21:26.506448Z",
     "iopub.status.idle": "2022-10-31T03:21:26.513129Z",
     "shell.execute_reply": "2022-10-31T03:21:26.512545Z"
    },
    "papermill": {
     "duration": 0.024492,
     "end_time": "2022-10-31T03:21:26.513260",
     "exception": false,
     "start_time": "2022-10-31T03:21:26.488768",
     "status": "completed"
    },
    "tags": []
   },
   "outputs": [
    {
     "data": {
      "text/markdown": [
       "- 313 Million XRP Moved By Crypto Whale in a Single Transaction: Details.  As crypto markets regain surging momentum, whales have also been initiating the movement of XRP in large numbers. As reported by Whale Alert, the tracker of large transactions of cryptocurrencies, an anonymous XRP whale moved a total of 313,218,266 XRP worth $148,102,802 on October 29 in a single transaction. Whale Alert tweeted, “313,218,266 XRP (148,102,802 [&#8230;]The post 313 Million XRP Moved By Crypto Whale in a Single Transaction: Details appeared first on Times Tabloid. ... [| Skaityti daugiau](https://timestabloid.com/313-million-xrp-moved-by-crypto-whale-in-a-single-transaction-details/) "
      ],
      "text/plain": [
       "<IPython.core.display.Markdown object>"
      ]
     },
     "execution_count": 5,
     "metadata": {},
     "output_type": "execute_result"
    }
   ],
   "source": [
    "#hide_input\n",
    "#md('##### {}'.format(titleBTC)) \n",
    "md(\"- {}{} {}{} [| Skaityti daugiau]({}) \".format(xrp['title'],'. ', xrp['body'], ' ...', xrp['url']))"
   ]
  },
  {
   "cell_type": "code",
   "execution_count": 6,
   "id": "prompt-farmer",
   "metadata": {
    "execution": {
     "iopub.execute_input": "2022-10-31T03:21:26.545864Z",
     "iopub.status.busy": "2022-10-31T03:21:26.545033Z",
     "iopub.status.idle": "2022-10-31T03:21:26.552651Z",
     "shell.execute_reply": "2022-10-31T03:21:26.551864Z"
    },
    "papermill": {
     "duration": 0.026491,
     "end_time": "2022-10-31T03:21:26.552822",
     "exception": false,
     "start_time": "2022-10-31T03:21:26.526331",
     "status": "completed"
    },
    "tags": []
   },
   "outputs": [
    {
     "data": {
      "text/markdown": [
       "- What Binance’s latest update might mean for TRX investors.  A major update came in for Tron (TRX) recently as Binance, one of the world’s largest crypto-exchanges, announced that it would support TRX staking on its platform from 27 October. Thanks to this update, users can not only stake, but also earn up to 6.1% annual percentage yield at launch. Here’s AMBCrypto’s Price Prediction for [&#8230;] ... [| Skaityti daugiau](https://ambcrypto.com/what-binances-latest-update-might-mean-for-trx-investors/) "
      ],
      "text/plain": [
       "<IPython.core.display.Markdown object>"
      ]
     },
     "execution_count": 6,
     "metadata": {},
     "output_type": "execute_result"
    }
   ],
   "source": [
    "#hide_input\n",
    "#md('##### {}'.format(titleBTC)) \n",
    "md(\"- {}{} {}{} [| Skaityti daugiau]({}) \".format(trx['title'],'. ', trx['body'], ' ...', trx['url']))"
   ]
  },
  {
   "cell_type": "code",
   "execution_count": 7,
   "id": "illegal-greece",
   "metadata": {
    "execution": {
     "iopub.execute_input": "2022-10-31T03:21:26.586345Z",
     "iopub.status.busy": "2022-10-31T03:21:26.585595Z",
     "iopub.status.idle": "2022-10-31T03:21:26.590906Z",
     "shell.execute_reply": "2022-10-31T03:21:26.590313Z"
    },
    "papermill": {
     "duration": 0.024633,
     "end_time": "2022-10-31T03:21:26.591043",
     "exception": false,
     "start_time": "2022-10-31T03:21:26.566410",
     "status": "completed"
    },
    "tags": []
   },
   "outputs": [
    {
     "data": {
      "text/markdown": [
       "- Bitcoin, Ethereum, Filecoin, and ApeCoin Daily Price Analyses – 30 October Roundup.  The global crypto market has shown a decline trend due to lowered capital influx. The change in the market has resulted in a considerable decline in the value of Bitcoin, Ethereum, and others. As the market has continued in the negative direction, there have been impacts on the overall gains. The investors have also been &#8230;  Bitcoin, Ethereum, Filecoin, and ApeCoin Daily Price Analyses – 30 October Roundup Read More &#187; ... [| Skaityti daugiau](https://www.cryptopolitan.com/bitcoin-ethereum-filecoin-and-apecoin-daily-price-analyses-30-october-roundup/) "
      ],
      "text/plain": [
       "<IPython.core.display.Markdown object>"
      ]
     },
     "execution_count": 7,
     "metadata": {},
     "output_type": "execute_result"
    }
   ],
   "source": [
    "#hide_input\n",
    "#md('##### {}'.format(titleBTC)) \n",
    "md(\"- {}{} {}{} [| Skaityti daugiau]({}) \".format(eth['title'],'. ', eth['body'], ' ...', eth['url']))"
   ]
  },
  {
   "cell_type": "code",
   "execution_count": 8,
   "id": "sublime-lounge",
   "metadata": {
    "execution": {
     "iopub.execute_input": "2022-10-31T03:21:26.627354Z",
     "iopub.status.busy": "2022-10-31T03:21:26.626608Z",
     "iopub.status.idle": "2022-10-31T03:21:26.630673Z",
     "shell.execute_reply": "2022-10-31T03:21:26.631381Z"
    },
    "papermill": {
     "duration": 0.025333,
     "end_time": "2022-10-31T03:21:26.631549",
     "exception": false,
     "start_time": "2022-10-31T03:21:26.606216",
     "status": "completed"
    },
    "tags": []
   },
   "outputs": [
    {
     "data": {
      "text/markdown": [
       "- 62% of Dogecoin hodlers in profit amid hopes of Twitter integration.  DOGE price rallied 93.3% in the last seven days following Elon Musk's acquisition of Twitter, pushing the crypto into the eighth position in global crypto rankings.  ... [| Skaityti daugiau](https://cointelegraph.com/news/62-of-dogecoin-hodlers-in-profit-amid-hopes-of-twitter-integration) "
      ],
      "text/plain": [
       "<IPython.core.display.Markdown object>"
      ]
     },
     "execution_count": 8,
     "metadata": {},
     "output_type": "execute_result"
    }
   ],
   "source": [
    "#hide_input\n",
    "#md('##### {}'.format(titleBTC)) \n",
    "md(\"- {}{} {}{} [| Skaityti daugiau]({}) \".format(ada['title'],'. ', ada['body'], ' ...', ada['url']))"
   ]
  },
  {
   "cell_type": "code",
   "execution_count": 9,
   "id": "specified-ordering",
   "metadata": {
    "execution": {
     "iopub.execute_input": "2022-10-31T03:21:26.666292Z",
     "iopub.status.busy": "2022-10-31T03:21:26.665566Z",
     "iopub.status.idle": "2022-10-31T03:21:26.670207Z",
     "shell.execute_reply": "2022-10-31T03:21:26.669447Z"
    },
    "papermill": {
     "duration": 0.024713,
     "end_time": "2022-10-31T03:21:26.670342",
     "exception": false,
     "start_time": "2022-10-31T03:21:26.645629",
     "status": "completed"
    },
    "tags": []
   },
   "outputs": [
    {
     "data": {
      "text/markdown": [
       "- After Years of Uncertainty, Cryptocurrency Exchanges Can Open Bank Accounts in Chile.  After years of court battles in Chile, a cryptocurrency exchange has managed to open a bank account in Bci, a financial institution that established a protocol to serve these businesses. The first exchange that opened a bank account with the institution was Buda, a local exchange, which satisfied the requirements of the bank in the [&#8230;] ... [| Skaityti daugiau](https://news.bitcoin.com/after-years-of-uncertainty-cryptocurrency-exchanges-can-open-bank-accounts-in-chile/) "
      ],
      "text/plain": [
       "<IPython.core.display.Markdown object>"
      ]
     },
     "execution_count": 9,
     "metadata": {},
     "output_type": "execute_result"
    }
   ],
   "source": [
    "#hide_input\n",
    "#md('##### {}'.format(titleBTC)) \n",
    "md(\"- {}{} {}{} [| Skaityti daugiau]({}) \".format(exchange['title'],'. ', exchange['body'], ' ...', exchange['url']))"
   ]
  },
  {
   "cell_type": "code",
   "execution_count": null,
   "id": "tender-livestock",
   "metadata": {
    "papermill": {
     "duration": 0.013924,
     "end_time": "2022-10-31T03:21:26.698842",
     "exception": false,
     "start_time": "2022-10-31T03:21:26.684918",
     "status": "completed"
    },
    "tags": []
   },
   "outputs": [],
   "source": []
  },
  {
   "cell_type": "code",
   "execution_count": null,
   "id": "appreciated-diamond",
   "metadata": {
    "papermill": {
     "duration": 0.013774,
     "end_time": "2022-10-31T03:21:26.726707",
     "exception": false,
     "start_time": "2022-10-31T03:21:26.712933",
     "status": "completed"
    },
    "tags": []
   },
   "outputs": [],
   "source": []
  },
  {
   "cell_type": "code",
   "execution_count": null,
   "id": "romance-sweden",
   "metadata": {
    "papermill": {
     "duration": 0.013983,
     "end_time": "2022-10-31T03:21:26.754759",
     "exception": false,
     "start_time": "2022-10-31T03:21:26.740776",
     "status": "completed"
    },
    "tags": []
   },
   "outputs": [],
   "source": []
  },
  {
   "cell_type": "code",
   "execution_count": null,
   "id": "dietary-statistics",
   "metadata": {
    "papermill": {
     "duration": 0.014292,
     "end_time": "2022-10-31T03:21:26.783304",
     "exception": false,
     "start_time": "2022-10-31T03:21:26.769012",
     "status": "completed"
    },
    "tags": []
   },
   "outputs": [],
   "source": []
  }
 ],
 "metadata": {
  "kernelspec": {
   "display_name": "Python 3",
   "language": "python",
   "name": "python3"
  },
  "language_info": {
   "codemirror_mode": {
    "name": "ipython",
    "version": 3
   },
   "file_extension": ".py",
   "mimetype": "text/x-python",
   "name": "python",
   "nbconvert_exporter": "python",
   "pygments_lexer": "ipython3",
   "version": "3.6.15"
  },
  "papermill": {
   "default_parameters": {},
   "duration": 15.641089,
   "end_time": "2022-10-31T03:21:27.418260",
   "environment_variables": {},
   "exception": null,
   "input_path": "Market-News.ipynb",
   "output_path": "Market-News.ipynb",
   "parameters": {},
   "start_time": "2022-10-31T03:21:11.777171",
   "version": "2.2.2"
  }
 },
 "nbformat": 4,
 "nbformat_minor": 5
}