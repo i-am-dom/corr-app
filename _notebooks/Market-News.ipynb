{
 "cells": [
  {
   "cell_type": "markdown",
   "id": "short-greensboro",
   "metadata": {
    "papermill": {
     "duration": 0.018871,
     "end_time": "2022-04-04T02:47:11.184736",
     "exception": false,
     "start_time": "2022-04-04T02:47:11.165865",
     "status": "completed"
    },
    "tags": []
   },
   "source": [
    "# Kriptovaliutų naujienos"
   ]
  },
  {
   "cell_type": "code",
   "execution_count": 1,
   "id": "functioning-knowing",
   "metadata": {
    "execution": {
     "iopub.execute_input": "2022-04-04T02:47:11.219878Z",
     "iopub.status.busy": "2022-04-04T02:47:11.219227Z",
     "iopub.status.idle": "2022-04-04T02:47:12.742010Z",
     "shell.execute_reply": "2022-04-04T02:47:12.741029Z"
    },
    "papermill": {
     "duration": 1.545354,
     "end_time": "2022-04-04T02:47:12.742195",
     "exception": false,
     "start_time": "2022-04-04T02:47:11.196841",
     "status": "completed"
    },
    "tags": []
   },
   "outputs": [],
   "source": [
    "#hide_input\n",
    "import warnings\n",
    "warnings.filterwarnings('ignore')\n",
    "from scripts.read_data import read_api\n",
    "from scripts.read_data import read_news\n",
    "from scripts.read_data import read_covid\n",
    "import matplotlib.pyplot as plt \n",
    "from IPython.display import Markdown as md"
   ]
  },
  {
   "cell_type": "code",
   "execution_count": 2,
   "id": "shared-acceptance",
   "metadata": {
    "execution": {
     "iopub.execute_input": "2022-04-04T02:47:12.770456Z",
     "iopub.status.busy": "2022-04-04T02:47:12.769370Z",
     "iopub.status.idle": "2022-04-04T02:47:21.706716Z",
     "shell.execute_reply": "2022-04-04T02:47:21.706169Z"
    },
    "papermill": {
     "duration": 8.954108,
     "end_time": "2022-04-04T02:47:21.706859",
     "exception": false,
     "start_time": "2022-04-04T02:47:12.752751",
     "status": "completed"
    },
    "tags": []
   },
   "outputs": [],
   "source": [
    "#hide_input\n",
    "blockchain = read_news('blockchain') \n",
    "btc = read_news('btc') \n",
    "xrp = read_news('xrp') \n",
    "trx = read_news('trx') \n",
    "eth = read_news('eth')  \n",
    "ada = read_news('ada')\n",
    "exchange = read_news('exchange') "
   ]
  },
  {
   "cell_type": "code",
   "execution_count": 3,
   "id": "synthetic-notion",
   "metadata": {
    "execution": {
     "iopub.execute_input": "2022-04-04T02:47:21.734610Z",
     "iopub.status.busy": "2022-04-04T02:47:21.733936Z",
     "iopub.status.idle": "2022-04-04T02:47:21.737952Z",
     "shell.execute_reply": "2022-04-04T02:47:21.737475Z"
    },
    "papermill": {
     "duration": 0.0207,
     "end_time": "2022-04-04T02:47:21.738074",
     "exception": false,
     "start_time": "2022-04-04T02:47:21.717374",
     "status": "completed"
    },
    "tags": []
   },
   "outputs": [
    {
     "data": {
      "text/markdown": [
       "- The Three Staking Cryptocurrencies to Pay Attention to in 2022: Acrana (ACR), BitDAO (BIT) and Ethereum 2.0 (ETH).  Staking cryptocurrency is the practice of depositing money into a digital wallet and maintaining it there to facilitate the validation of transactions on proof-of-stake (PoS) blockchains. Customers can then earn additional crypto by engaging in transaction validation. This can be done with newer cryptocurrencies such as Acrana (ACR), BitDAO (BIT) and Ethereum 2.0 (ETH). Staking [&#8230;]The post The Three Staking Cryptocurrencies to Pay Attention to in 2022: Acrana (ACR), BitDAO (BIT) and Ethereum 2.0 (ETH) appeared first on Blockchain, Crypto and Stock News. ... [| Skaityti daugiau](https://thecoinrise.com/the-three-staking-cryptocurrencies-to-pay-attention-to-in-2022-acrana-acr-bitdao-bit-and-ethereum-2-0-eth/) "
      ],
      "text/plain": [
       "<IPython.core.display.Markdown object>"
      ]
     },
     "execution_count": 3,
     "metadata": {},
     "output_type": "execute_result"
    }
   ],
   "source": [
    "#hide_input\n",
    "#md('##### {}'.format(titleBTC)) \n",
    "md(\"- {}{} {}{} [| Skaityti daugiau]({}) \".format(blockchain['title'],'. ', blockchain['body'], ' ...', blockchain['url']))"
   ]
  },
  {
   "cell_type": "code",
   "execution_count": 4,
   "id": "aging-caution",
   "metadata": {
    "execution": {
     "iopub.execute_input": "2022-04-04T02:47:21.765584Z",
     "iopub.status.busy": "2022-04-04T02:47:21.764726Z",
     "iopub.status.idle": "2022-04-04T02:47:21.768509Z",
     "shell.execute_reply": "2022-04-04T02:47:21.768007Z"
    },
    "papermill": {
     "duration": 0.020121,
     "end_time": "2022-04-04T02:47:21.768624",
     "exception": false,
     "start_time": "2022-04-04T02:47:21.748503",
     "status": "completed"
    },
    "tags": []
   },
   "outputs": [
    {
     "data": {
      "text/markdown": [
       "- Breaking Bitcoin Resistances, Doggycoin Moves, Exploited Bridge, Unhosted Propagandas and 20 Crypto Jokes.   ...Read More: Breaking Bitcoin Resistances, Doggycoin Moves, Exploited Bridge, Unhosted Propagandas and 20 Crypto Jokes ... [| Skaityti daugiau](https://cryptonews.com/exclusives/breaking-bitcoin-resistances-doggycoin-moves-nft-tvs-unhosted-propagandas-and-20-crypto-jokes.htm) "
      ],
      "text/plain": [
       "<IPython.core.display.Markdown object>"
      ]
     },
     "execution_count": 4,
     "metadata": {},
     "output_type": "execute_result"
    }
   ],
   "source": [
    "#hide_input\n",
    "#md('##### {}'.format(titleBTC)) \n",
    "md(\"- {}{} {}{} [| Skaityti daugiau]({}) \".format(btc['title'],'. ', btc['body'], ' ...', btc['url']))"
   ]
  },
  {
   "cell_type": "code",
   "execution_count": 5,
   "id": "organic-actress",
   "metadata": {
    "execution": {
     "iopub.execute_input": "2022-04-04T02:47:21.796698Z",
     "iopub.status.busy": "2022-04-04T02:47:21.795877Z",
     "iopub.status.idle": "2022-04-04T02:47:21.798368Z",
     "shell.execute_reply": "2022-04-04T02:47:21.798832Z"
    },
    "papermill": {
     "duration": 0.019587,
     "end_time": "2022-04-04T02:47:21.798975",
     "exception": false,
     "start_time": "2022-04-04T02:47:21.779388",
     "status": "completed"
    },
    "tags": []
   },
   "outputs": [
    {
     "data": {
      "text/markdown": [
       "- A Documentary on Ripple vs. SEC is Launching in the Metaverse.  According to a recent Variety report, MContent, a cryptocurrency-based content platform, has partnered with PricewaterhouseCoopers (PwC) Middle East, to launch a VR documentary titled “Ripple vs SEC Saga” in the metaverse. Produced by MContent and Amsterdam-based Insight TV alongside Villain Studios, the plot of the documentary borders around Ripple’s ongoing legal battle with the U.S. Securities Exchange Commission (SEC) since 2020. Per the report, the Ripple vs SEC Saga will launch in MContent’s Cineverse, a VR theater created within the metaverse project developed in partnership with PwC. To watch “Ripple vs SEC” in the Cineverse viewers need to use Oculus VR headsets or augmented reality glasses. Aside from the virtual reality theater, the documentary is also available on MContent’s tokenized streaming platform. “The immersive cinema experience, designed in collaboration with PwC, has global scalability and mass adoption capability,” Umair Masoom, founder and CEO of MContent, said in a statement. Dubai-Based MContent Partners With PwC to Launch Doc ‘Ripple vs SEC Saga’ in the Metaverse (EXCLUSIVE) https://t.co/cyfb7WVq2T — Variety (@Variety) April 1, 2022 SEC vs Ripple Drama Continues In late 2020, the SEC accused Ripple of raising $1.3 billion in unregistered digital asset securities by selling its native XRP coin. According to the SEC’s key claim XRP is not a currency, but a security and therefore subjected to securities... ... [| Skaityti daugiau](https://www.cryptoknowmics.com/news/a-documentary-on-ripple-vs-sec-is-launching-in-the-metaverse/) "
      ],
      "text/plain": [
       "<IPython.core.display.Markdown object>"
      ]
     },
     "execution_count": 5,
     "metadata": {},
     "output_type": "execute_result"
    }
   ],
   "source": [
    "#hide_input\n",
    "#md('##### {}'.format(titleBTC)) \n",
    "md(\"- {}{} {}{} [| Skaityti daugiau]({}) \".format(xrp['title'],'. ', xrp['body'], ' ...', xrp['url']))"
   ]
  },
  {
   "cell_type": "code",
   "execution_count": 6,
   "id": "prompt-farmer",
   "metadata": {
    "execution": {
     "iopub.execute_input": "2022-04-04T02:47:21.827540Z",
     "iopub.status.busy": "2022-04-04T02:47:21.826905Z",
     "iopub.status.idle": "2022-04-04T02:47:21.831756Z",
     "shell.execute_reply": "2022-04-04T02:47:21.831272Z"
    },
    "papermill": {
     "duration": 0.02199,
     "end_time": "2022-04-04T02:47:21.831877",
     "exception": false,
     "start_time": "2022-04-04T02:47:21.809887",
     "status": "completed"
    },
    "tags": []
   },
   "outputs": [
    {
     "data": {
      "text/markdown": [
       "- The Best Cloud Mining Tron (TRX) Services in 2022 – Are They Profitable?.  GEM-TRX Links: Official website: https://gem-trx.com/share?code=336661 Official page: https://www.gemtrx2.com/ Official Facebook page: https://www.facebook.com/gemtrxofficial/ Official Twitter: https://twitter.com/MINEGEMTRX Telegram group: https://t.me/GemTrx Whitepaper: https://tron.network/static/doc/white_paper_v_2_0.pdf Have you been looking into cloud mining cryptocurrency in 2022 but aren’t sure whether it’s profitable or not? In this article, we’re going to take a look at cloud mining in 2022, specifically cloud mining [&#8230;]The post The Best Cloud Mining Tron (TRX) Services in 2022 &#8211; Are They Profitable? appeared first on NullTX. ... [| Skaityti daugiau](https://nulltx.com/the-best-cloud-mining-tron-trx-services-in-2022-are-they-profitable/) "
      ],
      "text/plain": [
       "<IPython.core.display.Markdown object>"
      ]
     },
     "execution_count": 6,
     "metadata": {},
     "output_type": "execute_result"
    }
   ],
   "source": [
    "#hide_input\n",
    "#md('##### {}'.format(titleBTC)) \n",
    "md(\"- {}{} {}{} [| Skaityti daugiau]({}) \".format(trx['title'],'. ', trx['body'], ' ...', trx['url']))"
   ]
  },
  {
   "cell_type": "code",
   "execution_count": 7,
   "id": "illegal-greece",
   "metadata": {
    "execution": {
     "iopub.execute_input": "2022-04-04T02:47:21.860452Z",
     "iopub.status.busy": "2022-04-04T02:47:21.859858Z",
     "iopub.status.idle": "2022-04-04T02:47:21.864447Z",
     "shell.execute_reply": "2022-04-04T02:47:21.863948Z"
    },
    "papermill": {
     "duration": 0.021019,
     "end_time": "2022-04-04T02:47:21.864562",
     "exception": false,
     "start_time": "2022-04-04T02:47:21.843543",
     "status": "completed"
    },
    "tags": []
   },
   "outputs": [
    {
     "data": {
      "text/markdown": [
       "- Ethereum Whales Piled Into Five Altcoins This Week Amid Crypto Market Turnaround.  Ethereum (ETH) whales have accumulated five altcoins as the crypto market improved over the past week. According to the crypto-tracking platform WhaleStats, the top 100 richest ETH addresses&#8217; top target over the last week, excluding ETH and stablecoins, was FTX Token (FTT). Over a seven-day timeframe, ETH whales gobbled up an average purchase amount of [&#8230;]The post Ethereum Whales Piled Into Five Altcoins This Week Amid Crypto Market Turnaround appeared first on The Daily Hodl. ... [| Skaityti daugiau](https://dailyhodl.com/2022/04/02/ethereum-whales-piled-into-five-altcoins-this-week-amid-crypto-market-turnaround/) "
      ],
      "text/plain": [
       "<IPython.core.display.Markdown object>"
      ]
     },
     "execution_count": 7,
     "metadata": {},
     "output_type": "execute_result"
    }
   ],
   "source": [
    "#hide_input\n",
    "#md('##### {}'.format(titleBTC)) \n",
    "md(\"- {}{} {}{} [| Skaityti daugiau]({}) \".format(eth['title'],'. ', eth['body'], ' ...', eth['url']))"
   ]
  },
  {
   "cell_type": "code",
   "execution_count": 8,
   "id": "sublime-lounge",
   "metadata": {
    "execution": {
     "iopub.execute_input": "2022-04-04T02:47:21.896617Z",
     "iopub.status.busy": "2022-04-04T02:47:21.895574Z",
     "iopub.status.idle": "2022-04-04T02:47:21.901071Z",
     "shell.execute_reply": "2022-04-04T02:47:21.900563Z"
    },
    "papermill": {
     "duration": 0.024666,
     "end_time": "2022-04-04T02:47:21.901196",
     "exception": false,
     "start_time": "2022-04-04T02:47:21.876530",
     "status": "completed"
    },
    "tags": []
   },
   "outputs": [
    {
     "data": {
      "text/markdown": [
       "- ADA Technical Analysis: Will Sellers Enforce the $1 Retest?.  ADA coin price shows a consolidation phase below the $1.20 mark and might shortly break the 100-day EMA. Is this retracement a retest of the $1 breakout? Key technical points: ADA prices have fallen 6.32% in the past 24 hours. In addition, the token prices struggle to sustain above the 100-day EMA. Finally, the 24-hour trading volume of Cardano is $1.960 Billion, marking a 33.78% rise. Past Performance of ADA ADA coin price action shows a rounding bottom reversal from the $0.78 support level and approaches the $1.20 mark. The recovery rally breaks above the resistance confluence of the long coming resistance trendline and the rounding bottom neckline at $1. The rally accounts for almost a 50% jump but struggles to break above the $1.20 mark. Source-Tradingview ADA Technical Analysis ADA coin price shows a bearish candle resulting shortly in a 4% decline on March 31st, after a period of Dohi formations. However, the recent fallout candle projects lower price rejection with a long tail formation. The crucial daily EMAs (50, 100, and 200-days) maintain a bearish alignment with the 100-day EMA providing support. Moreover, the reversing trend of the 50-day EMA might shortly give a bullish crossover with the 100-day EMA. Stochastic RSI Indicator: The Stochastic RSI shows the K and D lines giving a bearish crossover in the overbought territory. Hence, the indicator projects the possibility of a reversal below the 100-day EMA. MACD In... ... [| Skaityti daugiau](https://www.cryptoknowmics.com/news/ada-technical-analysis-will-sellers-enforce-the-1-retest/) "
      ],
      "text/plain": [
       "<IPython.core.display.Markdown object>"
      ]
     },
     "execution_count": 8,
     "metadata": {},
     "output_type": "execute_result"
    }
   ],
   "source": [
    "#hide_input\n",
    "#md('##### {}'.format(titleBTC)) \n",
    "md(\"- {}{} {}{} [| Skaityti daugiau]({}) \".format(ada['title'],'. ', ada['body'], ' ...', ada['url']))"
   ]
  },
  {
   "cell_type": "code",
   "execution_count": 9,
   "id": "specified-ordering",
   "metadata": {
    "execution": {
     "iopub.execute_input": "2022-04-04T02:47:21.932130Z",
     "iopub.status.busy": "2022-04-04T02:47:21.931530Z",
     "iopub.status.idle": "2022-04-04T02:47:21.934922Z",
     "shell.execute_reply": "2022-04-04T02:47:21.934407Z"
    },
    "papermill": {
     "duration": 0.021259,
     "end_time": "2022-04-04T02:47:21.935044",
     "exception": false,
     "start_time": "2022-04-04T02:47:21.913785",
     "status": "completed"
    },
    "tags": []
   },
   "outputs": [
    {
     "data": {
      "text/markdown": [
       "- A Documentary on Ripple vs. SEC is Launching in the Metaverse.  According to a recent Variety report, MContent, a cryptocurrency-based content platform, has partnered with PricewaterhouseCoopers (PwC) Middle East, to launch a VR documentary titled “Ripple vs SEC Saga” in the metaverse. Produced by MContent and Amsterdam-based Insight TV alongside Villain Studios, the plot of the documentary borders around Ripple’s ongoing legal battle with the U.S. Securities Exchange Commission (SEC) since 2020. Per the report, the Ripple vs SEC Saga will launch in MContent’s Cineverse, a VR theater created within the metaverse project developed in partnership with PwC. To watch “Ripple vs SEC” in the Cineverse viewers need to use Oculus VR headsets or augmented reality glasses. Aside from the virtual reality theater, the documentary is also available on MContent’s tokenized streaming platform. “The immersive cinema experience, designed in collaboration with PwC, has global scalability and mass adoption capability,” Umair Masoom, founder and CEO of MContent, said in a statement. Dubai-Based MContent Partners With PwC to Launch Doc ‘Ripple vs SEC Saga’ in the Metaverse (EXCLUSIVE) https://t.co/cyfb7WVq2T — Variety (@Variety) April 1, 2022 SEC vs Ripple Drama Continues In late 2020, the SEC accused Ripple of raising $1.3 billion in unregistered digital asset securities by selling its native XRP coin. According to the SEC’s key claim XRP is not a currency, but a security and therefore subjected to securities... ... [| Skaityti daugiau](https://www.cryptoknowmics.com/news/a-documentary-on-ripple-vs-sec-is-launching-in-the-metaverse/) "
      ],
      "text/plain": [
       "<IPython.core.display.Markdown object>"
      ]
     },
     "execution_count": 9,
     "metadata": {},
     "output_type": "execute_result"
    }
   ],
   "source": [
    "#hide_input\n",
    "#md('##### {}'.format(titleBTC)) \n",
    "md(\"- {}{} {}{} [| Skaityti daugiau]({}) \".format(exchange['title'],'. ', exchange['body'], ' ...', exchange['url']))"
   ]
  },
  {
   "cell_type": "code",
   "execution_count": null,
   "id": "tender-livestock",
   "metadata": {
    "papermill": {
     "duration": 0.012897,
     "end_time": "2022-04-04T02:47:21.960989",
     "exception": false,
     "start_time": "2022-04-04T02:47:21.948092",
     "status": "completed"
    },
    "tags": []
   },
   "outputs": [],
   "source": []
  },
  {
   "cell_type": "code",
   "execution_count": null,
   "id": "appreciated-diamond",
   "metadata": {
    "papermill": {
     "duration": 0.0128,
     "end_time": "2022-04-04T02:47:21.986616",
     "exception": false,
     "start_time": "2022-04-04T02:47:21.973816",
     "status": "completed"
    },
    "tags": []
   },
   "outputs": [],
   "source": []
  },
  {
   "cell_type": "code",
   "execution_count": null,
   "id": "romance-sweden",
   "metadata": {
    "papermill": {
     "duration": 0.012611,
     "end_time": "2022-04-04T02:47:22.013001",
     "exception": false,
     "start_time": "2022-04-04T02:47:22.000390",
     "status": "completed"
    },
    "tags": []
   },
   "outputs": [],
   "source": []
  },
  {
   "cell_type": "code",
   "execution_count": null,
   "id": "dietary-statistics",
   "metadata": {
    "papermill": {
     "duration": 0.012721,
     "end_time": "2022-04-04T02:47:22.038513",
     "exception": false,
     "start_time": "2022-04-04T02:47:22.025792",
     "status": "completed"
    },
    "tags": []
   },
   "outputs": [],
   "source": []
  }
 ],
 "metadata": {
  "kernelspec": {
   "display_name": "Python 3",
   "language": "python",
   "name": "python3"
  },
  "language_info": {
   "codemirror_mode": {
    "name": "ipython",
    "version": 3
   },
   "file_extension": ".py",
   "mimetype": "text/x-python",
   "name": "python",
   "nbconvert_exporter": "python",
   "pygments_lexer": "ipython3",
   "version": "3.6.15"
  },
  "papermill": {
   "default_parameters": {},
   "duration": 12.704236,
   "end_time": "2022-04-04T02:47:22.571097",
   "environment_variables": {},
   "exception": null,
   "input_path": "Market-News.ipynb",
   "output_path": "Market-News.ipynb",
   "parameters": {},
   "start_time": "2022-04-04T02:47:09.866861",
   "version": "2.2.2"
  }
 },
 "nbformat": 4,
 "nbformat_minor": 5
}