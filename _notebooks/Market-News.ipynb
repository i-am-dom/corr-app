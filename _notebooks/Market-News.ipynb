{
 "cells": [
  {
   "cell_type": "markdown",
   "id": "short-greensboro",
   "metadata": {
    "papermill": {
     "duration": 0.016088,
     "end_time": "2022-11-03T03:06:15.630914",
     "exception": false,
     "start_time": "2022-11-03T03:06:15.614826",
     "status": "completed"
    },
    "tags": []
   },
   "source": [
    "# Kriptovaliutų naujienos"
   ]
  },
  {
   "cell_type": "code",
   "execution_count": 1,
   "id": "functioning-knowing",
   "metadata": {
    "execution": {
     "iopub.execute_input": "2022-11-03T03:06:15.665927Z",
     "iopub.status.busy": "2022-11-03T03:06:15.665245Z",
     "iopub.status.idle": "2022-11-03T03:06:17.192686Z",
     "shell.execute_reply": "2022-11-03T03:06:17.192035Z"
    },
    "papermill": {
     "duration": 1.550454,
     "end_time": "2022-11-03T03:06:17.192868",
     "exception": false,
     "start_time": "2022-11-03T03:06:15.642414",
     "status": "completed"
    },
    "tags": []
   },
   "outputs": [],
   "source": [
    "#hide_input\n",
    "import warnings\n",
    "warnings.filterwarnings('ignore')\n",
    "from scripts.read_data import read_api\n",
    "from scripts.read_data import read_news\n",
    "from scripts.read_data import read_covid\n",
    "import matplotlib.pyplot as plt \n",
    "from IPython.display import Markdown as md"
   ]
  },
  {
   "cell_type": "code",
   "execution_count": 2,
   "id": "shared-acceptance",
   "metadata": {
    "execution": {
     "iopub.execute_input": "2022-11-03T03:06:17.226415Z",
     "iopub.status.busy": "2022-11-03T03:06:17.225190Z",
     "iopub.status.idle": "2022-11-03T03:06:29.596951Z",
     "shell.execute_reply": "2022-11-03T03:06:29.597458Z"
    },
    "papermill": {
     "duration": 12.392557,
     "end_time": "2022-11-03T03:06:29.597618",
     "exception": false,
     "start_time": "2022-11-03T03:06:17.205061",
     "status": "completed"
    },
    "tags": []
   },
   "outputs": [],
   "source": [
    "#hide_input\n",
    "blockchain = read_news('blockchain') \n",
    "btc = read_news('btc') \n",
    "xrp = read_news('xrp') \n",
    "trx = read_news('trx') \n",
    "eth = read_news('eth')  \n",
    "ada = read_news('ada')\n",
    "exchange = read_news('exchange') "
   ]
  },
  {
   "cell_type": "code",
   "execution_count": 3,
   "id": "synthetic-notion",
   "metadata": {
    "execution": {
     "iopub.execute_input": "2022-11-03T03:06:29.627742Z",
     "iopub.status.busy": "2022-11-03T03:06:29.626976Z",
     "iopub.status.idle": "2022-11-03T03:06:29.634329Z",
     "shell.execute_reply": "2022-11-03T03:06:29.633686Z"
    },
    "papermill": {
     "duration": 0.025408,
     "end_time": "2022-11-03T03:06:29.634452",
     "exception": false,
     "start_time": "2022-11-03T03:06:29.609044",
     "status": "completed"
    },
    "tags": []
   },
   "outputs": [
    {
     "data": {
      "text/markdown": [
       "- JP Morgan executes first DeFi trade on public blockchain.  The MAS Chief Fintech Officer said the successful test was “a big step towards enabling more efficient and integrated global financial networks.” ... [| Skaityti daugiau](https://cointelegraph.com/news/jp-morgan-executes-first-defi-trade-on-public-blockchain) "
      ],
      "text/plain": [
       "<IPython.core.display.Markdown object>"
      ]
     },
     "execution_count": 3,
     "metadata": {},
     "output_type": "execute_result"
    }
   ],
   "source": [
    "#hide_input\n",
    "#md('##### {}'.format(titleBTC)) \n",
    "md(\"- {}{} {}{} [| Skaityti daugiau]({}) \".format(blockchain['title'],'. ', blockchain['body'], ' ...', blockchain['url']))"
   ]
  },
  {
   "cell_type": "code",
   "execution_count": 4,
   "id": "aging-caution",
   "metadata": {
    "execution": {
     "iopub.execute_input": "2022-11-03T03:06:29.673353Z",
     "iopub.status.busy": "2022-11-03T03:06:29.672296Z",
     "iopub.status.idle": "2022-11-03T03:06:29.678685Z",
     "shell.execute_reply": "2022-11-03T03:06:29.678094Z"
    },
    "papermill": {
     "duration": 0.033158,
     "end_time": "2022-11-03T03:06:29.678831",
     "exception": false,
     "start_time": "2022-11-03T03:06:29.645673",
     "status": "completed"
    },
    "tags": []
   },
   "outputs": [
    {
     "data": {
      "text/markdown": [
       "- Bitcoin, Ethereum, Dogecoin, and Cardano Daily Price Analyses – 2 November Roundup.  The global crypto market has witnessed a negative change as it continues to lower its value. The recent changes for Bitcoin, Ethereum, and others show that there has been a continuing trend of losses. The market has made several attempts to recover value, but it hasn&#8217;t been able to do so. The market might be &#8230;  Bitcoin, Ethereum, Dogecoin, and Cardano Daily Price Analyses – 2 November Roundup Read More &#187; ... [| Skaityti daugiau](https://www.cryptopolitan.com/bitcoin-ethereum-dogecoin-and-cardano-daily-price-analyses-2-november-roundup/) "
      ],
      "text/plain": [
       "<IPython.core.display.Markdown object>"
      ]
     },
     "execution_count": 4,
     "metadata": {},
     "output_type": "execute_result"
    }
   ],
   "source": [
    "#hide_input\n",
    "#md('##### {}'.format(titleBTC)) \n",
    "md(\"- {}{} {}{} [| Skaityti daugiau]({}) \".format(btc['title'],'. ', btc['body'], ' ...', btc['url']))"
   ]
  },
  {
   "cell_type": "code",
   "execution_count": 5,
   "id": "organic-actress",
   "metadata": {
    "execution": {
     "iopub.execute_input": "2022-11-03T03:06:29.711392Z",
     "iopub.status.busy": "2022-11-03T03:06:29.710601Z",
     "iopub.status.idle": "2022-11-03T03:06:29.719110Z",
     "shell.execute_reply": "2022-11-03T03:06:29.718513Z"
    },
    "papermill": {
     "duration": 0.026262,
     "end_time": "2022-11-03T03:06:29.719231",
     "exception": false,
     "start_time": "2022-11-03T03:06:29.692969",
     "status": "completed"
    },
    "tags": []
   },
   "outputs": [
    {
     "data": {
      "text/markdown": [
       "- Bitcoin Price Sits On A Gun Powder As $20,500 Fails; Will Bears Open The Doors?.  BTC&#8217;s price slowed down after showing so much strength as it rallied to a high of $21,000 but got rejected as the price rallied downward. BTC could suffer retracement as the price breaks below the crucial support area, holding the price off from sellers with hopes of a rebound. BTC&#8217;s price remains strong on the daily timeframes as the price trades above the 50 Exponential Moving Average (EMA). The price of Bitcoin (BTC) showed some incredible price action as the price rallied from a low of $19,200 to a high of $21,000 before facing a rejection back to its key support of $20,500, where bulls had tried to hold sell-offs. The crypto market has enjoyed a bit of relief across all assets, with Bitcoin (BTC) showing great traction, rallying and dragging the market. With uncertainty in the crypto market, the Federal Open Market Committee are set to hold their meeting because most traders and investors have maintained more caution this time. (Data from Binance) Related Reading: Ripple (XRP) Sits On Key Support; Here Is What Could Happen If $0.45 Fails Bitcoin (BTC) Price Analysis On The Weekly Chart The past week has seen many altcoins continue to produce over 200% gains over the past 7 days of breaking out of their range-bound movement, as many believe more hope could be settling into the crypto space once more. The new week looked different, as many altcoins have had a good run, and Bitcoin (BTC) prices have struggled to ... ... [| Skaityti daugiau](https://www.newsbtc.com/analysis/bitcoin-price-sits-on-a-gun-powder-as-20500-fails-will-bears-open-the-doors/) "
      ],
      "text/plain": [
       "<IPython.core.display.Markdown object>"
      ]
     },
     "execution_count": 5,
     "metadata": {},
     "output_type": "execute_result"
    }
   ],
   "source": [
    "#hide_input\n",
    "#md('##### {}'.format(titleBTC)) \n",
    "md(\"- {}{} {}{} [| Skaityti daugiau]({}) \".format(xrp['title'],'. ', xrp['body'], ' ...', xrp['url']))"
   ]
  },
  {
   "cell_type": "code",
   "execution_count": 6,
   "id": "prompt-farmer",
   "metadata": {
    "execution": {
     "iopub.execute_input": "2022-11-03T03:06:29.755875Z",
     "iopub.status.busy": "2022-11-03T03:06:29.755103Z",
     "iopub.status.idle": "2022-11-03T03:06:29.761432Z",
     "shell.execute_reply": "2022-11-03T03:06:29.760765Z"
    },
    "papermill": {
     "duration": 0.028175,
     "end_time": "2022-11-03T03:06:29.761564",
     "exception": false,
     "start_time": "2022-11-03T03:06:29.733389",
     "status": "completed"
    },
    "tags": []
   },
   "outputs": [
    {
     "data": {
      "text/markdown": [
       "- Tron (TRX) And Polkadot (DOT) Investors To Invest In High-Potential Cryptocurrency Flasko (FLSK).  The post Tron (TRX) And Polkadot (DOT) Investors To Invest In High-Potential Cryptocurrency Flasko (FLSK) appeared first on Coinpedia Fintech NewsIn the current bear market, most well-known cryptocurrencies, like Polkadot (DOT) and Polygon (MATIC), struggled to generate good returns. Some are stable, but others continue to dip.&#160; Flasko, a new name in the crypto world, has been showing much potential growth. Thus, Polkadot (DOT) and Polygon (MATIC) investors are keen on investing in this new &#8230; ... [| Skaityti daugiau](https://coinpedia.org/press-release/tron-and-polkadot-investors-to-invest-in-high-potential-cryptocurrency-flasko/) "
      ],
      "text/plain": [
       "<IPython.core.display.Markdown object>"
      ]
     },
     "execution_count": 6,
     "metadata": {},
     "output_type": "execute_result"
    }
   ],
   "source": [
    "#hide_input\n",
    "#md('##### {}'.format(titleBTC)) \n",
    "md(\"- {}{} {}{} [| Skaityti daugiau]({}) \".format(trx['title'],'. ', trx['body'], ' ...', trx['url']))"
   ]
  },
  {
   "cell_type": "code",
   "execution_count": 7,
   "id": "illegal-greece",
   "metadata": {
    "execution": {
     "iopub.execute_input": "2022-11-03T03:06:29.798089Z",
     "iopub.status.busy": "2022-11-03T03:06:29.797338Z",
     "iopub.status.idle": "2022-11-03T03:06:29.802194Z",
     "shell.execute_reply": "2022-11-03T03:06:29.801589Z"
    },
    "papermill": {
     "duration": 0.026133,
     "end_time": "2022-11-03T03:06:29.802329",
     "exception": false,
     "start_time": "2022-11-03T03:06:29.776196",
     "status": "completed"
    },
    "tags": []
   },
   "outputs": [
    {
     "data": {
      "text/markdown": [
       "- Bitcoin, Ethereum, Dogecoin, and Cardano Daily Price Analyses – 2 November Roundup.  The global crypto market has witnessed a negative change as it continues to lower its value. The recent changes for Bitcoin, Ethereum, and others show that there has been a continuing trend of losses. The market has made several attempts to recover value, but it hasn&#8217;t been able to do so. The market might be &#8230;  Bitcoin, Ethereum, Dogecoin, and Cardano Daily Price Analyses – 2 November Roundup Read More &#187; ... [| Skaityti daugiau](https://www.cryptopolitan.com/bitcoin-ethereum-dogecoin-and-cardano-daily-price-analyses-2-november-roundup/) "
      ],
      "text/plain": [
       "<IPython.core.display.Markdown object>"
      ]
     },
     "execution_count": 7,
     "metadata": {},
     "output_type": "execute_result"
    }
   ],
   "source": [
    "#hide_input\n",
    "#md('##### {}'.format(titleBTC)) \n",
    "md(\"- {}{} {}{} [| Skaityti daugiau]({}) \".format(eth['title'],'. ', eth['body'], ' ...', eth['url']))"
   ]
  },
  {
   "cell_type": "code",
   "execution_count": 8,
   "id": "sublime-lounge",
   "metadata": {
    "execution": {
     "iopub.execute_input": "2022-11-03T03:06:29.838918Z",
     "iopub.status.busy": "2022-11-03T03:06:29.838176Z",
     "iopub.status.idle": "2022-11-03T03:06:29.842760Z",
     "shell.execute_reply": "2022-11-03T03:06:29.842142Z"
    },
    "papermill": {
     "duration": 0.025356,
     "end_time": "2022-11-03T03:06:29.842897",
     "exception": false,
     "start_time": "2022-11-03T03:06:29.817541",
     "status": "completed"
    },
    "tags": []
   },
   "outputs": [
    {
     "data": {
      "text/markdown": [
       "- Bitcoin, Ethereum, Dogecoin, and Cardano Daily Price Analyses – 2 November Roundup.  The global crypto market has witnessed a negative change as it continues to lower its value. The recent changes for Bitcoin, Ethereum, and others show that there has been a continuing trend of losses. The market has made several attempts to recover value, but it hasn&#8217;t been able to do so. The market might be &#8230;  Bitcoin, Ethereum, Dogecoin, and Cardano Daily Price Analyses – 2 November Roundup Read More &#187; ... [| Skaityti daugiau](https://www.cryptopolitan.com/bitcoin-ethereum-dogecoin-and-cardano-daily-price-analyses-2-november-roundup/) "
      ],
      "text/plain": [
       "<IPython.core.display.Markdown object>"
      ]
     },
     "execution_count": 8,
     "metadata": {},
     "output_type": "execute_result"
    }
   ],
   "source": [
    "#hide_input\n",
    "#md('##### {}'.format(titleBTC)) \n",
    "md(\"- {}{} {}{} [| Skaityti daugiau]({}) \".format(ada['title'],'. ', ada['body'], ' ...', ada['url']))"
   ]
  },
  {
   "cell_type": "code",
   "execution_count": 9,
   "id": "specified-ordering",
   "metadata": {
    "execution": {
     "iopub.execute_input": "2022-11-03T03:06:29.882030Z",
     "iopub.status.busy": "2022-11-03T03:06:29.881291Z",
     "iopub.status.idle": "2022-11-03T03:06:29.885788Z",
     "shell.execute_reply": "2022-11-03T03:06:29.885108Z"
    },
    "papermill": {
     "duration": 0.025652,
     "end_time": "2022-11-03T03:06:29.885984",
     "exception": false,
     "start_time": "2022-11-03T03:06:29.860332",
     "status": "completed"
    },
    "tags": []
   },
   "outputs": [
    {
     "data": {
      "text/markdown": [
       "- Binance Coin: How buyers can leverage BNB’s volatility to remain profitable.  Disclaimer: The findings of the following analysis are the sole opinions of the writer and should not be considered investment advice. BNB witnessed a bullish volatile break on its daily chart. On the other hand, the crypto&#8217;s social dominance and funding rates marked a decline. Since dropping towards its multi-yearly lows in mid-June, Binance coin [BNB] regained bullish [&#8230;] ... [| Skaityti daugiau](https://ambcrypto.com/binance-coin-how-buyers-can-leverage-bnbs-volatility-to-remain-profitable/) "
      ],
      "text/plain": [
       "<IPython.core.display.Markdown object>"
      ]
     },
     "execution_count": 9,
     "metadata": {},
     "output_type": "execute_result"
    }
   ],
   "source": [
    "#hide_input\n",
    "#md('##### {}'.format(titleBTC)) \n",
    "md(\"- {}{} {}{} [| Skaityti daugiau]({}) \".format(exchange['title'],'. ', exchange['body'], ' ...', exchange['url']))"
   ]
  },
  {
   "cell_type": "code",
   "execution_count": null,
   "id": "tender-livestock",
   "metadata": {
    "papermill": {
     "duration": 0.015746,
     "end_time": "2022-11-03T03:06:29.918376",
     "exception": false,
     "start_time": "2022-11-03T03:06:29.902630",
     "status": "completed"
    },
    "tags": []
   },
   "outputs": [],
   "source": []
  },
  {
   "cell_type": "code",
   "execution_count": null,
   "id": "appreciated-diamond",
   "metadata": {
    "papermill": {
     "duration": 0.015535,
     "end_time": "2022-11-03T03:06:29.948875",
     "exception": false,
     "start_time": "2022-11-03T03:06:29.933340",
     "status": "completed"
    },
    "tags": []
   },
   "outputs": [],
   "source": []
  },
  {
   "cell_type": "code",
   "execution_count": null,
   "id": "romance-sweden",
   "metadata": {
    "papermill": {
     "duration": 0.014639,
     "end_time": "2022-11-03T03:06:29.977731",
     "exception": false,
     "start_time": "2022-11-03T03:06:29.963092",
     "status": "completed"
    },
    "tags": []
   },
   "outputs": [],
   "source": []
  },
  {
   "cell_type": "code",
   "execution_count": null,
   "id": "dietary-statistics",
   "metadata": {
    "papermill": {
     "duration": 0.018225,
     "end_time": "2022-11-03T03:06:30.010540",
     "exception": false,
     "start_time": "2022-11-03T03:06:29.992315",
     "status": "completed"
    },
    "tags": []
   },
   "outputs": [],
   "source": []
  }
 ],
 "metadata": {
  "kernelspec": {
   "display_name": "Python 3",
   "language": "python",
   "name": "python3"
  },
  "language_info": {
   "codemirror_mode": {
    "name": "ipython",
    "version": 3
   },
   "file_extension": ".py",
   "mimetype": "text/x-python",
   "name": "python",
   "nbconvert_exporter": "python",
   "pygments_lexer": "ipython3",
   "version": "3.6.15"
  },
  "papermill": {
   "default_parameters": {},
   "duration": 16.247566,
   "end_time": "2022-11-03T03:06:30.547152",
   "environment_variables": {},
   "exception": null,
   "input_path": "Market-News.ipynb",
   "output_path": "Market-News.ipynb",
   "parameters": {},
   "start_time": "2022-11-03T03:06:14.299586",
   "version": "2.2.2"
  }
 },
 "nbformat": 4,
 "nbformat_minor": 5
}