{
 "cells": [
  {
   "cell_type": "markdown",
   "id": "short-greensboro",
   "metadata": {
    "papermill": {
     "duration": 0.015183,
     "end_time": "2022-10-14T03:51:24.020179",
     "exception": false,
     "start_time": "2022-10-14T03:51:24.004996",
     "status": "completed"
    },
    "tags": []
   },
   "source": [
    "# Kriptovaliutų naujienos"
   ]
  },
  {
   "cell_type": "code",
   "execution_count": 1,
   "id": "functioning-knowing",
   "metadata": {
    "execution": {
     "iopub.execute_input": "2022-10-14T03:51:24.056085Z",
     "iopub.status.busy": "2022-10-14T03:51:24.055284Z",
     "iopub.status.idle": "2022-10-14T03:51:25.586579Z",
     "shell.execute_reply": "2022-10-14T03:51:25.585913Z"
    },
    "papermill": {
     "duration": 1.554778,
     "end_time": "2022-10-14T03:51:25.586765",
     "exception": false,
     "start_time": "2022-10-14T03:51:24.031987",
     "status": "completed"
    },
    "tags": []
   },
   "outputs": [],
   "source": [
    "#hide_input\n",
    "import warnings\n",
    "warnings.filterwarnings('ignore')\n",
    "from scripts.read_data import read_api\n",
    "from scripts.read_data import read_news\n",
    "from scripts.read_data import read_covid\n",
    "import matplotlib.pyplot as plt \n",
    "from IPython.display import Markdown as md"
   ]
  },
  {
   "cell_type": "code",
   "execution_count": 2,
   "id": "shared-acceptance",
   "metadata": {
    "execution": {
     "iopub.execute_input": "2022-10-14T03:51:25.615492Z",
     "iopub.status.busy": "2022-10-14T03:51:25.614796Z",
     "iopub.status.idle": "2022-10-14T03:51:39.820656Z",
     "shell.execute_reply": "2022-10-14T03:51:39.819922Z"
    },
    "papermill": {
     "duration": 14.22359,
     "end_time": "2022-10-14T03:51:39.820820",
     "exception": false,
     "start_time": "2022-10-14T03:51:25.597230",
     "status": "completed"
    },
    "tags": []
   },
   "outputs": [],
   "source": [
    "#hide_input\n",
    "blockchain = read_news('blockchain') \n",
    "btc = read_news('btc') \n",
    "xrp = read_news('xrp') \n",
    "trx = read_news('trx') \n",
    "eth = read_news('eth')  \n",
    "ada = read_news('ada')\n",
    "exchange = read_news('exchange') "
   ]
  },
  {
   "cell_type": "code",
   "execution_count": 3,
   "id": "synthetic-notion",
   "metadata": {
    "execution": {
     "iopub.execute_input": "2022-10-14T03:51:39.851259Z",
     "iopub.status.busy": "2022-10-14T03:51:39.850361Z",
     "iopub.status.idle": "2022-10-14T03:51:39.854426Z",
     "shell.execute_reply": "2022-10-14T03:51:39.853896Z"
    },
    "papermill": {
     "duration": 0.022112,
     "end_time": "2022-10-14T03:51:39.854555",
     "exception": false,
     "start_time": "2022-10-14T03:51:39.832443",
     "status": "completed"
    },
    "tags": []
   },
   "outputs": [
    {
     "data": {
      "text/markdown": [
       "- NYDIG laid off one-third of staff in September: WSJ.  NYDIG laid off about one-third of its staff, the Wall Street Journal reported late Thursday. ... [| Skaityti daugiau](https://www.theblock.co/post/177162/nydig-laid-off-one-third-of-staff-in-september-wsj?utm_source=cryptocompare&utm_medium=rss) "
      ],
      "text/plain": [
       "<IPython.core.display.Markdown object>"
      ]
     },
     "execution_count": 3,
     "metadata": {},
     "output_type": "execute_result"
    }
   ],
   "source": [
    "#hide_input\n",
    "#md('##### {}'.format(titleBTC)) \n",
    "md(\"- {}{} {}{} [| Skaityti daugiau]({}) \".format(blockchain['title'],'. ', blockchain['body'], ' ...', blockchain['url']))"
   ]
  },
  {
   "cell_type": "code",
   "execution_count": 4,
   "id": "aging-caution",
   "metadata": {
    "execution": {
     "iopub.execute_input": "2022-10-14T03:51:39.884674Z",
     "iopub.status.busy": "2022-10-14T03:51:39.883971Z",
     "iopub.status.idle": "2022-10-14T03:51:39.887963Z",
     "shell.execute_reply": "2022-10-14T03:51:39.887440Z"
    },
    "papermill": {
     "duration": 0.020594,
     "end_time": "2022-10-14T03:51:39.888071",
     "exception": false,
     "start_time": "2022-10-14T03:51:39.867477",
     "status": "completed"
    },
    "tags": []
   },
   "outputs": [
    {
     "data": {
      "text/markdown": [
       "- NYDIG laid off one-third of staff in September: WSJ.  NYDIG laid off about one-third of its staff, the Wall Street Journal reported late Thursday. ... [| Skaityti daugiau](https://www.theblock.co/post/177162/nydig-laid-off-one-third-of-staff-in-september-wsj?utm_source=cryptocompare&utm_medium=rss) "
      ],
      "text/plain": [
       "<IPython.core.display.Markdown object>"
      ]
     },
     "execution_count": 4,
     "metadata": {},
     "output_type": "execute_result"
    }
   ],
   "source": [
    "#hide_input\n",
    "#md('##### {}'.format(titleBTC)) \n",
    "md(\"- {}{} {}{} [| Skaityti daugiau]({}) \".format(btc['title'],'. ', btc['body'], ' ...', btc['url']))"
   ]
  },
  {
   "cell_type": "code",
   "execution_count": 5,
   "id": "organic-actress",
   "metadata": {
    "execution": {
     "iopub.execute_input": "2022-10-14T03:51:39.916821Z",
     "iopub.status.busy": "2022-10-14T03:51:39.916105Z",
     "iopub.status.idle": "2022-10-14T03:51:39.920097Z",
     "shell.execute_reply": "2022-10-14T03:51:39.919390Z"
    },
    "papermill": {
     "duration": 0.020813,
     "end_time": "2022-10-14T03:51:39.920214",
     "exception": false,
     "start_time": "2022-10-14T03:51:39.899401",
     "status": "completed"
    },
    "tags": []
   },
   "outputs": [
    {
     "data": {
      "text/markdown": [
       "- Ripple Remittances Partner Says SEC’s Claim That XRP Is an ‘Investment Contract’ Is False.  A partner company of payments platform Ripple says the U.S. Securities and Exchange Commission’s (SEC) claims that XRP is an investment contract are untrue. According to new documents, I-Remit, a global remittances network, is filing an amicus brief in support of Ripple claiming that the SEC’s claims against the firm hold no water. I-Remit says [&#8230;]The post Ripple Remittances Partner Says SEC’s Claim That XRP Is an ‘Investment Contract’ Is False appeared first on The Daily Hodl. ... [| Skaityti daugiau](https://dailyhodl.com/2022/10/13/ripple-remittances-partner-says-secs-claim-that-xrp-is-an-investment-contract-is-false/) "
      ],
      "text/plain": [
       "<IPython.core.display.Markdown object>"
      ]
     },
     "execution_count": 5,
     "metadata": {},
     "output_type": "execute_result"
    }
   ],
   "source": [
    "#hide_input\n",
    "#md('##### {}'.format(titleBTC)) \n",
    "md(\"- {}{} {}{} [| Skaityti daugiau]({}) \".format(xrp['title'],'. ', xrp['body'], ' ...', xrp['url']))"
   ]
  },
  {
   "cell_type": "code",
   "execution_count": 6,
   "id": "prompt-farmer",
   "metadata": {
    "execution": {
     "iopub.execute_input": "2022-10-14T03:51:39.948203Z",
     "iopub.status.busy": "2022-10-14T03:51:39.947419Z",
     "iopub.status.idle": "2022-10-14T03:51:39.952063Z",
     "shell.execute_reply": "2022-10-14T03:51:39.951456Z"
    },
    "papermill": {
     "duration": 0.020859,
     "end_time": "2022-10-14T03:51:39.952167",
     "exception": false,
     "start_time": "2022-10-14T03:51:39.931308",
     "status": "completed"
    },
    "tags": []
   },
   "outputs": [
    {
     "data": {
      "text/markdown": [
       "- Tron [TRX] holders should look at these factors before making next move.  In a new partnership with the Commonwealth of Dominica, Tron [TRX], the decentralized, open-source blockchain, was announced as the preferred blockchain of the Commonwealth of Dominica to develop and issue the Dominica Coin (DMC). Since the announcement was made, TRX, the native coin of the Tron blockchain, recorded some traction. According to data from CoinMarketCap, [&#8230;] ... [| Skaityti daugiau](https://ambcrypto.com/tron-trx-holders-should-look-at-these-factors-before-making-next-move/) "
      ],
      "text/plain": [
       "<IPython.core.display.Markdown object>"
      ]
     },
     "execution_count": 6,
     "metadata": {},
     "output_type": "execute_result"
    }
   ],
   "source": [
    "#hide_input\n",
    "#md('##### {}'.format(titleBTC)) \n",
    "md(\"- {}{} {}{} [| Skaityti daugiau]({}) \".format(trx['title'],'. ', trx['body'], ' ...', trx['url']))"
   ]
  },
  {
   "cell_type": "code",
   "execution_count": 7,
   "id": "illegal-greece",
   "metadata": {
    "execution": {
     "iopub.execute_input": "2022-10-14T03:51:39.984196Z",
     "iopub.status.busy": "2022-10-14T03:51:39.983087Z",
     "iopub.status.idle": "2022-10-14T03:51:39.989283Z",
     "shell.execute_reply": "2022-10-14T03:51:39.989769Z"
    },
    "papermill": {
     "duration": 0.025465,
     "end_time": "2022-10-14T03:51:39.989893",
     "exception": false,
     "start_time": "2022-10-14T03:51:39.964428",
     "status": "completed"
    },
    "tags": []
   },
   "outputs": [
    {
     "data": {
      "text/markdown": [
       "- Web3 devs ‘more active than ever’ amid crypto winter: Report​​.  Consecutive all-time-high smart contract deployments and surging usage of Web3 script libraries mean that Web3 devs are still busy working despite the prolonged market downturn. ... [| Skaityti daugiau](https://cointelegraph.com/news/web3-devs-more-active-than-ever-amid-crypto-winter-report) "
      ],
      "text/plain": [
       "<IPython.core.display.Markdown object>"
      ]
     },
     "execution_count": 7,
     "metadata": {},
     "output_type": "execute_result"
    }
   ],
   "source": [
    "#hide_input\n",
    "#md('##### {}'.format(titleBTC)) \n",
    "md(\"- {}{} {}{} [| Skaityti daugiau]({}) \".format(eth['title'],'. ', eth['body'], ' ...', eth['url']))"
   ]
  },
  {
   "cell_type": "code",
   "execution_count": 8,
   "id": "sublime-lounge",
   "metadata": {
    "execution": {
     "iopub.execute_input": "2022-10-14T03:51:40.022432Z",
     "iopub.status.busy": "2022-10-14T03:51:40.021584Z",
     "iopub.status.idle": "2022-10-14T03:51:40.025773Z",
     "shell.execute_reply": "2022-10-14T03:51:40.025227Z"
    },
    "papermill": {
     "duration": 0.023836,
     "end_time": "2022-10-14T03:51:40.025899",
     "exception": false,
     "start_time": "2022-10-14T03:51:40.002063",
     "status": "completed"
    },
    "tags": []
   },
   "outputs": [
    {
     "data": {
      "text/markdown": [
       "- Chiliz Social Mentions Hit Highest Level In Last 90 Days – Can CHZ Price Be As Hot?.  Recent weeks have seen a dramatic increase in social mentions of Chiliz, data compiled by LunarCrush show. Its token&#8217;s 90-day high made it big in the latest social mentions. Market insights tracker LunarCrush cited this figure (9.46k) as one indicator to keep an eye on when considering an investment in Chiliz. The approaching 2022 FIFA World Cup may help explain the increase in social media buzz. This is due to the fact that the CHZ token has a practical application in the realm of sports. Will the increase in social media references lead to an upswing with less than a month until the start of the much-hyped global sports spectacle? As of this writing, CHZ is trading at $0.193980, down 9.5% in the last seven days, data from Coingecko show, Friday. Related Reading: Cardano Drops To Lowest Level In Last 7 Days – ADA Bracing For Further Decline? If you are looking for interesting projects to invest in, watch out for social activity eruptions, especially before price. E.g Keep a close eye on #chiliz. $chz social mentions measured daily hit 9.46K, the highest point in the last 90 days! Insights: https://t.co/S4Hd87jv4R pic.twitter.com/wLXeapUueD — LunarCrush (@LunarCrush) October 12, 2022 Chiliz Jargon And All The Talk Data provided by CryptoQuant shows that CHZ&#8217;s foreign exchange reserves have decreased by 0.72% over the last seven days. The fact that investors appear to be buying CHZ with the intention of keeping it f... ... [| Skaityti daugiau](https://www.newsbtc.com/news/chiliz-social-mentions-hit-highest-level-in-last-90-days/) "
      ],
      "text/plain": [
       "<IPython.core.display.Markdown object>"
      ]
     },
     "execution_count": 8,
     "metadata": {},
     "output_type": "execute_result"
    }
   ],
   "source": [
    "#hide_input\n",
    "#md('##### {}'.format(titleBTC)) \n",
    "md(\"- {}{} {}{} [| Skaityti daugiau]({}) \".format(ada['title'],'. ', ada['body'], ' ...', ada['url']))"
   ]
  },
  {
   "cell_type": "code",
   "execution_count": 9,
   "id": "specified-ordering",
   "metadata": {
    "execution": {
     "iopub.execute_input": "2022-10-14T03:51:40.061605Z",
     "iopub.status.busy": "2022-10-14T03:51:40.060901Z",
     "iopub.status.idle": "2022-10-14T03:51:40.067639Z",
     "shell.execute_reply": "2022-10-14T03:51:40.066888Z"
    },
    "papermill": {
     "duration": 0.028494,
     "end_time": "2022-10-14T03:51:40.067764",
     "exception": false,
     "start_time": "2022-10-14T03:51:40.039270",
     "status": "completed"
    },
    "tags": []
   },
   "outputs": [
    {
     "data": {
      "text/markdown": [
       "- Bitcoin ($BTC) Trading Into $BUSD Surges Nearly 80% Over Binance’s Stablecoin Conversion.  The cryptocurrency ecosystem endured a market-wide sell-off last month over macroeconomic factors that continued to weigh down risk assets, including equities. The fall was reflected in spot trading volumes, which rose significantly last month. According to CryptoCompare’s latest Exchange Review report, BTC spot trading into BinanceUSD ($BUSD), the stablecoin issued by leading cryptocurrency exchange Binance, […] ... [| Skaityti daugiau](https://www.cryptoglobe.com/latest/2022/10/bitcoin-btc-trading-into-busd-surges-nearly-80-over-binances-stablecoin-conversion/) "
      ],
      "text/plain": [
       "<IPython.core.display.Markdown object>"
      ]
     },
     "execution_count": 9,
     "metadata": {},
     "output_type": "execute_result"
    }
   ],
   "source": [
    "#hide_input\n",
    "#md('##### {}'.format(titleBTC)) \n",
    "md(\"- {}{} {}{} [| Skaityti daugiau]({}) \".format(exchange['title'],'. ', exchange['body'], ' ...', exchange['url']))"
   ]
  },
  {
   "cell_type": "code",
   "execution_count": null,
   "id": "tender-livestock",
   "metadata": {
    "papermill": {
     "duration": 0.013345,
     "end_time": "2022-10-14T03:51:40.094812",
     "exception": false,
     "start_time": "2022-10-14T03:51:40.081467",
     "status": "completed"
    },
    "tags": []
   },
   "outputs": [],
   "source": []
  },
  {
   "cell_type": "code",
   "execution_count": null,
   "id": "appreciated-diamond",
   "metadata": {
    "papermill": {
     "duration": 0.014098,
     "end_time": "2022-10-14T03:51:40.123673",
     "exception": false,
     "start_time": "2022-10-14T03:51:40.109575",
     "status": "completed"
    },
    "tags": []
   },
   "outputs": [],
   "source": []
  },
  {
   "cell_type": "code",
   "execution_count": null,
   "id": "romance-sweden",
   "metadata": {
    "papermill": {
     "duration": 0.01427,
     "end_time": "2022-10-14T03:51:40.152238",
     "exception": false,
     "start_time": "2022-10-14T03:51:40.137968",
     "status": "completed"
    },
    "tags": []
   },
   "outputs": [],
   "source": []
  },
  {
   "cell_type": "code",
   "execution_count": null,
   "id": "dietary-statistics",
   "metadata": {
    "papermill": {
     "duration": 0.013574,
     "end_time": "2022-10-14T03:51:40.180687",
     "exception": false,
     "start_time": "2022-10-14T03:51:40.167113",
     "status": "completed"
    },
    "tags": []
   },
   "outputs": [],
   "source": []
  }
 ],
 "metadata": {
  "kernelspec": {
   "display_name": "Python 3",
   "language": "python",
   "name": "python3"
  },
  "language_info": {
   "codemirror_mode": {
    "name": "ipython",
    "version": 3
   },
   "file_extension": ".py",
   "mimetype": "text/x-python",
   "name": "python",
   "nbconvert_exporter": "python",
   "pygments_lexer": "ipython3",
   "version": "3.6.15"
  },
  "papermill": {
   "default_parameters": {},
   "duration": 18.021286,
   "end_time": "2022-10-14T03:51:40.715315",
   "environment_variables": {},
   "exception": null,
   "input_path": "Market-News.ipynb",
   "output_path": "Market-News.ipynb",
   "parameters": {},
   "start_time": "2022-10-14T03:51:22.694029",
   "version": "2.2.2"
  }
 },
 "nbformat": 4,
 "nbformat_minor": 5
}