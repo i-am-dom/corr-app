{
 "cells": [
  {
   "cell_type": "markdown",
   "id": "short-greensboro",
   "metadata": {
    "papermill": {
     "duration": 0.014033,
     "end_time": "2022-10-05T03:12:41.146329",
     "exception": false,
     "start_time": "2022-10-05T03:12:41.132296",
     "status": "completed"
    },
    "tags": []
   },
   "source": [
    "# Kriptovaliutų naujienos"
   ]
  },
  {
   "cell_type": "code",
   "execution_count": 1,
   "id": "functioning-knowing",
   "metadata": {
    "execution": {
     "iopub.execute_input": "2022-10-05T03:12:41.180430Z",
     "iopub.status.busy": "2022-10-05T03:12:41.179720Z",
     "iopub.status.idle": "2022-10-05T03:12:42.593068Z",
     "shell.execute_reply": "2022-10-05T03:12:42.592433Z"
    },
    "papermill": {
     "duration": 1.436035,
     "end_time": "2022-10-05T03:12:42.593223",
     "exception": false,
     "start_time": "2022-10-05T03:12:41.157188",
     "status": "completed"
    },
    "tags": []
   },
   "outputs": [],
   "source": [
    "#hide_input\n",
    "import warnings\n",
    "warnings.filterwarnings('ignore')\n",
    "from scripts.read_data import read_api\n",
    "from scripts.read_data import read_news\n",
    "from scripts.read_data import read_covid\n",
    "import matplotlib.pyplot as plt \n",
    "from IPython.display import Markdown as md"
   ]
  },
  {
   "cell_type": "code",
   "execution_count": 2,
   "id": "shared-acceptance",
   "metadata": {
    "execution": {
     "iopub.execute_input": "2022-10-05T03:12:42.621452Z",
     "iopub.status.busy": "2022-10-05T03:12:42.620452Z",
     "iopub.status.idle": "2022-10-05T03:12:54.347447Z",
     "shell.execute_reply": "2022-10-05T03:12:54.345730Z"
    },
    "papermill": {
     "duration": 11.743789,
     "end_time": "2022-10-05T03:12:54.347618",
     "exception": false,
     "start_time": "2022-10-05T03:12:42.603829",
     "status": "completed"
    },
    "tags": []
   },
   "outputs": [],
   "source": [
    "#hide_input\n",
    "blockchain = read_news('blockchain') \n",
    "btc = read_news('btc') \n",
    "xrp = read_news('xrp') \n",
    "trx = read_news('trx') \n",
    "eth = read_news('eth')  \n",
    "ada = read_news('ada')\n",
    "exchange = read_news('exchange') "
   ]
  },
  {
   "cell_type": "code",
   "execution_count": 3,
   "id": "synthetic-notion",
   "metadata": {
    "execution": {
     "iopub.execute_input": "2022-10-05T03:12:54.377933Z",
     "iopub.status.busy": "2022-10-05T03:12:54.377211Z",
     "iopub.status.idle": "2022-10-05T03:12:54.383621Z",
     "shell.execute_reply": "2022-10-05T03:12:54.384115Z"
    },
    "papermill": {
     "duration": 0.023265,
     "end_time": "2022-10-05T03:12:54.384261",
     "exception": false,
     "start_time": "2022-10-05T03:12:54.360996",
     "status": "completed"
    },
    "tags": []
   },
   "outputs": [
    {
     "data": {
      "text/markdown": [
       "- Why It’s Important To Build Stablecoins On Bitcoin.  Lightning Labs is building the ability to use stablecoins on the Lightning Network using the new Taro protocol due to demand in emerging markets. ... [| Skaityti daugiau](https://bitcoinmagazine.com/culture/important-to-build-stablecoins-on-bitcoin) "
      ],
      "text/plain": [
       "<IPython.core.display.Markdown object>"
      ]
     },
     "execution_count": 3,
     "metadata": {},
     "output_type": "execute_result"
    }
   ],
   "source": [
    "#hide_input\n",
    "#md('##### {}'.format(titleBTC)) \n",
    "md(\"- {}{} {}{} [| Skaityti daugiau]({}) \".format(blockchain['title'],'. ', blockchain['body'], ' ...', blockchain['url']))"
   ]
  },
  {
   "cell_type": "code",
   "execution_count": 4,
   "id": "aging-caution",
   "metadata": {
    "execution": {
     "iopub.execute_input": "2022-10-05T03:12:54.410703Z",
     "iopub.status.busy": "2022-10-05T03:12:54.409697Z",
     "iopub.status.idle": "2022-10-05T03:12:54.413459Z",
     "shell.execute_reply": "2022-10-05T03:12:54.414082Z"
    },
    "papermill": {
     "duration": 0.019721,
     "end_time": "2022-10-05T03:12:54.414243",
     "exception": false,
     "start_time": "2022-10-05T03:12:54.394522",
     "status": "completed"
    },
    "tags": []
   },
   "outputs": [
    {
     "data": {
      "text/markdown": [
       "- Bitcoin (BTC) Price Won’t Surge Above $30K in 2022 – Predicts Mike Novogratz.  The post Bitcoin (BTC) Price Won&#8217;t Surge Above $30K in 2022 &#8211; Predicts Mike Novogratz appeared first on Coinpedia Fintech NewsOn Tuesday, Bitcoin finally overcame the psychological threshold of the $20,000 milestone after nearly ten days. BTC experienced a steep decline after reaching a peak of $22,540 earlier in September. While analysts are positive about BTC’s journey ahead, Mike Novogratz’s forecast of Bitcoin’s price is quite optimistic.&#160; Chief Executive Officer of Galaxy Investment Partners Novogratz &#8230; ... [| Skaityti daugiau](https://coinpedia.org/opinion/bitcoin-btc-price-wont-surge-above-30k-in-2022-predicts-mike-novogratz/) "
      ],
      "text/plain": [
       "<IPython.core.display.Markdown object>"
      ]
     },
     "execution_count": 4,
     "metadata": {},
     "output_type": "execute_result"
    }
   ],
   "source": [
    "#hide_input\n",
    "#md('##### {}'.format(titleBTC)) \n",
    "md(\"- {}{} {}{} [| Skaityti daugiau]({}) \".format(btc['title'],'. ', btc['body'], ' ...', btc['url']))"
   ]
  },
  {
   "cell_type": "code",
   "execution_count": 5,
   "id": "organic-actress",
   "metadata": {
    "execution": {
     "iopub.execute_input": "2022-10-05T03:12:54.440607Z",
     "iopub.status.busy": "2022-10-05T03:12:54.439503Z",
     "iopub.status.idle": "2022-10-05T03:12:54.445577Z",
     "shell.execute_reply": "2022-10-05T03:12:54.445031Z"
    },
    "papermill": {
     "duration": 0.020661,
     "end_time": "2022-10-05T03:12:54.445696",
     "exception": false,
     "start_time": "2022-10-05T03:12:54.425035",
     "status": "completed"
    },
    "tags": []
   },
   "outputs": [
    {
     "data": {
      "text/markdown": [
       "- Ethereum Aims At Big Market Return If Breaks This Level Successfully: Crypto Market Review, October 4.  XRP might bring investors volatile surprises if this pattern plays out ... [| Skaityti daugiau](https://u.today/ethereum-aims-at-big-market-return-if-breaks-this-level-successfully-crypto-market-review-october-4) "
      ],
      "text/plain": [
       "<IPython.core.display.Markdown object>"
      ]
     },
     "execution_count": 5,
     "metadata": {},
     "output_type": "execute_result"
    }
   ],
   "source": [
    "#hide_input\n",
    "#md('##### {}'.format(titleBTC)) \n",
    "md(\"- {}{} {}{} [| Skaityti daugiau]({}) \".format(xrp['title'],'. ', xrp['body'], ' ...', xrp['url']))"
   ]
  },
  {
   "cell_type": "code",
   "execution_count": 6,
   "id": "prompt-farmer",
   "metadata": {
    "execution": {
     "iopub.execute_input": "2022-10-05T03:12:54.473493Z",
     "iopub.status.busy": "2022-10-05T03:12:54.471917Z",
     "iopub.status.idle": "2022-10-05T03:12:54.480335Z",
     "shell.execute_reply": "2022-10-05T03:12:54.479790Z"
    },
    "papermill": {
     "duration": 0.023697,
     "end_time": "2022-10-05T03:12:54.480453",
     "exception": false,
     "start_time": "2022-10-05T03:12:54.456756",
     "status": "completed"
    },
    "tags": []
   },
   "outputs": [
    {
     "data": {
      "text/markdown": [
       "- Uniglo.io (GLO), Tron (TRX) And Pancakeswap (CAKE) Are The Best Tokens To Invest In Before It’s Too Late.  The post Uniglo.io (GLO), Tron (TRX) And Pancakeswap (CAKE) Are The Best Tokens To Invest In Before It’s Too Late appeared first on Coinpedia Fintech NewsThe number one rule in crypto investing: let go of your gut instincts. Our instincts tell us to buy when the market is hot and sell when it’s not. In fact, the opposite is true. We should be buying low and selling high. It seems obvious, but our emotions get in the way.&#160; Right now, &#8230; ... [| Skaityti daugiau](https://coinpedia.org/press-release/uniglo-io-glo-tron-and-pancakeswap-are-the-best-tokens-to-invest-in-before-its-too-late/) "
      ],
      "text/plain": [
       "<IPython.core.display.Markdown object>"
      ]
     },
     "execution_count": 6,
     "metadata": {},
     "output_type": "execute_result"
    }
   ],
   "source": [
    "#hide_input\n",
    "#md('##### {}'.format(titleBTC)) \n",
    "md(\"- {}{} {}{} [| Skaityti daugiau]({}) \".format(trx['title'],'. ', trx['body'], ' ...', trx['url']))"
   ]
  },
  {
   "cell_type": "code",
   "execution_count": 7,
   "id": "illegal-greece",
   "metadata": {
    "execution": {
     "iopub.execute_input": "2022-10-05T03:12:54.507404Z",
     "iopub.status.busy": "2022-10-05T03:12:54.506117Z",
     "iopub.status.idle": "2022-10-05T03:12:54.512822Z",
     "shell.execute_reply": "2022-10-05T03:12:54.512278Z"
    },
    "papermill": {
     "duration": 0.021163,
     "end_time": "2022-10-05T03:12:54.512937",
     "exception": false,
     "start_time": "2022-10-05T03:12:54.491774",
     "status": "completed"
    },
    "tags": []
   },
   "outputs": [
    {
     "data": {
      "text/markdown": [
       "- Federal regulators are preparing to pass judgment on Ethereum.  The Securities and Exchange Commission is moving to take action against Ethereum that reaches far beyond America’s borders. ... [| Skaityti daugiau](https://cointelegraph.com/news/federal-regulators-are-preparing-to-pass-judgment-on-ethereum) "
      ],
      "text/plain": [
       "<IPython.core.display.Markdown object>"
      ]
     },
     "execution_count": 7,
     "metadata": {},
     "output_type": "execute_result"
    }
   ],
   "source": [
    "#hide_input\n",
    "#md('##### {}'.format(titleBTC)) \n",
    "md(\"- {}{} {}{} [| Skaityti daugiau]({}) \".format(eth['title'],'. ', eth['body'], ' ...', eth['url']))"
   ]
  },
  {
   "cell_type": "code",
   "execution_count": 8,
   "id": "sublime-lounge",
   "metadata": {
    "execution": {
     "iopub.execute_input": "2022-10-05T03:12:54.542645Z",
     "iopub.status.busy": "2022-10-05T03:12:54.540579Z",
     "iopub.status.idle": "2022-10-05T03:12:54.545138Z",
     "shell.execute_reply": "2022-10-05T03:12:54.545652Z"
    },
    "papermill": {
     "duration": 0.020474,
     "end_time": "2022-10-05T03:12:54.545786",
     "exception": false,
     "start_time": "2022-10-05T03:12:54.525312",
     "status": "completed"
    },
    "tags": []
   },
   "outputs": [
    {
     "data": {
      "text/markdown": [
       "- Crypto Community’s Cardano Price Predictions See $ADA Surge Over 30% This Month.  The cryptocurrency community has set a bullish price target for smart contract platform Cardano ($ADA) this month, presumably taking into account the network’s improved performance after the Vasil hard fork. The estimates come from CoinMarketCap’s prime estimates feature, which saw over 10,800 users reveal their $ADA price predictions for the month of October. On average, […] ... [| Skaityti daugiau](https://www.cryptoglobe.com/latest/2022/10/crypto-communitys-cardano-price-predictions-see-ada-surge-over-30-this-month/) "
      ],
      "text/plain": [
       "<IPython.core.display.Markdown object>"
      ]
     },
     "execution_count": 8,
     "metadata": {},
     "output_type": "execute_result"
    }
   ],
   "source": [
    "#hide_input\n",
    "#md('##### {}'.format(titleBTC)) \n",
    "md(\"- {}{} {}{} [| Skaityti daugiau]({}) \".format(ada['title'],'. ', ada['body'], ' ...', ada['url']))"
   ]
  },
  {
   "cell_type": "code",
   "execution_count": 9,
   "id": "specified-ordering",
   "metadata": {
    "execution": {
     "iopub.execute_input": "2022-10-05T03:12:54.575467Z",
     "iopub.status.busy": "2022-10-05T03:12:54.574623Z",
     "iopub.status.idle": "2022-10-05T03:12:54.581408Z",
     "shell.execute_reply": "2022-10-05T03:12:54.580858Z"
    },
    "papermill": {
     "duration": 0.023688,
     "end_time": "2022-10-05T03:12:54.581530",
     "exception": false,
     "start_time": "2022-10-05T03:12:54.557842",
     "status": "completed"
    },
    "tags": []
   },
   "outputs": [
    {
     "data": {
      "text/markdown": [
       "- SEC Chair Gensler Insists Most Crypto Tokens Are Securities — Says ‘the Law Is Clear’.  The chairman of the U.S. Securities and Exchange Commission (SEC), Gary Gensler, has reiterated that most crypto tokens are securities, emphasizing that &#x201C;the law is clear on this.&#x201D; However, the Commodity Futures Trading Commission (CFTC) has asked Congress for authority over crypto spot markets and several bills have been introduced in Congress this year to [&#8230;] ... [| Skaityti daugiau](https://news.bitcoin.com/sec-chair-gensler-insists-most-crypto-tokens-are-securities-says-the-law-is-clear/) "
      ],
      "text/plain": [
       "<IPython.core.display.Markdown object>"
      ]
     },
     "execution_count": 9,
     "metadata": {},
     "output_type": "execute_result"
    }
   ],
   "source": [
    "#hide_input\n",
    "#md('##### {}'.format(titleBTC)) \n",
    "md(\"- {}{} {}{} [| Skaityti daugiau]({}) \".format(exchange['title'],'. ', exchange['body'], ' ...', exchange['url']))"
   ]
  },
  {
   "cell_type": "code",
   "execution_count": null,
   "id": "tender-livestock",
   "metadata": {
    "papermill": {
     "duration": 0.012004,
     "end_time": "2022-10-05T03:12:54.605972",
     "exception": false,
     "start_time": "2022-10-05T03:12:54.593968",
     "status": "completed"
    },
    "tags": []
   },
   "outputs": [],
   "source": []
  },
  {
   "cell_type": "code",
   "execution_count": null,
   "id": "appreciated-diamond",
   "metadata": {
    "papermill": {
     "duration": 0.011728,
     "end_time": "2022-10-05T03:12:54.630114",
     "exception": false,
     "start_time": "2022-10-05T03:12:54.618386",
     "status": "completed"
    },
    "tags": []
   },
   "outputs": [],
   "source": []
  },
  {
   "cell_type": "code",
   "execution_count": null,
   "id": "romance-sweden",
   "metadata": {
    "papermill": {
     "duration": 0.012514,
     "end_time": "2022-10-05T03:12:54.655045",
     "exception": false,
     "start_time": "2022-10-05T03:12:54.642531",
     "status": "completed"
    },
    "tags": []
   },
   "outputs": [],
   "source": []
  },
  {
   "cell_type": "code",
   "execution_count": null,
   "id": "dietary-statistics",
   "metadata": {
    "papermill": {
     "duration": 0.01238,
     "end_time": "2022-10-05T03:12:54.680047",
     "exception": false,
     "start_time": "2022-10-05T03:12:54.667667",
     "status": "completed"
    },
    "tags": []
   },
   "outputs": [],
   "source": []
  }
 ],
 "metadata": {
  "kernelspec": {
   "display_name": "Python 3",
   "language": "python",
   "name": "python3"
  },
  "language_info": {
   "codemirror_mode": {
    "name": "ipython",
    "version": 3
   },
   "file_extension": ".py",
   "mimetype": "text/x-python",
   "name": "python",
   "nbconvert_exporter": "python",
   "pygments_lexer": "ipython3",
   "version": "3.6.15"
  },
  "papermill": {
   "default_parameters": {},
   "duration": 15.355811,
   "end_time": "2022-10-05T03:12:55.213116",
   "environment_variables": {},
   "exception": null,
   "input_path": "Market-News.ipynb",
   "output_path": "Market-News.ipynb",
   "parameters": {},
   "start_time": "2022-10-05T03:12:39.857305",
   "version": "2.2.2"
  }
 },
 "nbformat": 4,
 "nbformat_minor": 5
}