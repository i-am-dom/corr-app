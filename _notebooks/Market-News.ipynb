{
 "cells": [
  {
   "cell_type": "markdown",
   "id": "short-greensboro",
   "metadata": {
    "papermill": {
     "duration": 0.016546,
     "end_time": "2021-09-29T01:55:39.458067",
     "exception": false,
     "start_time": "2021-09-29T01:55:39.441521",
     "status": "completed"
    },
    "tags": []
   },
   "source": [
    "# Kriptovaliutų naujienos"
   ]
  },
  {
   "cell_type": "code",
   "execution_count": 1,
   "id": "functioning-knowing",
   "metadata": {
    "execution": {
     "iopub.execute_input": "2021-09-29T01:55:39.490281Z",
     "iopub.status.busy": "2021-09-29T01:55:39.489671Z",
     "iopub.status.idle": "2021-09-29T01:55:40.838862Z",
     "shell.execute_reply": "2021-09-29T01:55:40.838256Z"
    },
    "papermill": {
     "duration": 1.370113,
     "end_time": "2021-09-29T01:55:40.839030",
     "exception": false,
     "start_time": "2021-09-29T01:55:39.468917",
     "status": "completed"
    },
    "tags": []
   },
   "outputs": [],
   "source": [
    "#hide_input\n",
    "import warnings\n",
    "warnings.filterwarnings('ignore')\n",
    "from scripts.read_data import read_api\n",
    "from scripts.read_data import read_news\n",
    "from scripts.read_data import read_covid\n",
    "import matplotlib.pyplot as plt \n",
    "from IPython.display import Markdown as md"
   ]
  },
  {
   "cell_type": "code",
   "execution_count": 2,
   "id": "shared-acceptance",
   "metadata": {
    "execution": {
     "iopub.execute_input": "2021-09-29T01:55:40.867467Z",
     "iopub.status.busy": "2021-09-29T01:55:40.866869Z",
     "iopub.status.idle": "2021-09-29T01:55:49.545979Z",
     "shell.execute_reply": "2021-09-29T01:55:49.545413Z"
    },
    "papermill": {
     "duration": 8.695684,
     "end_time": "2021-09-29T01:55:49.546111",
     "exception": false,
     "start_time": "2021-09-29T01:55:40.850427",
     "status": "completed"
    },
    "tags": []
   },
   "outputs": [],
   "source": [
    "#hide_input\n",
    "blockchain = read_news('blockchain') \n",
    "btc = read_news('btc') \n",
    "xrp = read_news('xrp') \n",
    "trx = read_news('trx') \n",
    "eth = read_news('eth')  \n",
    "ada = read_news('ada')\n",
    "exchange = read_news('exchange') "
   ]
  },
  {
   "cell_type": "code",
   "execution_count": 3,
   "id": "synthetic-notion",
   "metadata": {
    "execution": {
     "iopub.execute_input": "2021-09-29T01:55:49.574759Z",
     "iopub.status.busy": "2021-09-29T01:55:49.574166Z",
     "iopub.status.idle": "2021-09-29T01:55:49.578724Z",
     "shell.execute_reply": "2021-09-29T01:55:49.578253Z"
    },
    "papermill": {
     "duration": 0.022041,
     "end_time": "2021-09-29T01:55:49.578843",
     "exception": false,
     "start_time": "2021-09-29T01:55:49.556802",
     "status": "completed"
    },
    "tags": []
   },
   "outputs": [
    {
     "data": {
      "text/markdown": [
       "- Cryptocurrency Exchange Accidentally Spends $23.7 Million in One Ethereum Transaction.  Decentralized cryptocurrency exchange DeversiFi has accidentally attached a transaction fee of nearly $24 million to a cryptocurrency transaction moving $100,000 worth of Tether’s USDT stablecoin. According to data from Ethereum blockchain explorer Etherscan, DeversiFi paid 7,676.61 ETH then worth nearly $24 million in transaction fees, while the current estimate for an average transaction fee on […] ... [| Skaityti daugiau](https://www.cryptoglobe.com/latest/2021/09/cryptocurrency-exchange-accidentally-spends-23-7-million-in-one-ethereum-transaction/) "
      ],
      "text/plain": [
       "<IPython.core.display.Markdown object>"
      ]
     },
     "execution_count": 3,
     "metadata": {},
     "output_type": "execute_result"
    }
   ],
   "source": [
    "#hide_input\n",
    "#md('##### {}'.format(titleBTC)) \n",
    "md(\"- {}{} {}{} [| Skaityti daugiau]({}) \".format(blockchain['title'],'. ', blockchain['body'], ' ...', blockchain['url']))"
   ]
  },
  {
   "cell_type": "code",
   "execution_count": 4,
   "id": "aging-caution",
   "metadata": {
    "execution": {
     "iopub.execute_input": "2021-09-29T01:55:49.605118Z",
     "iopub.status.busy": "2021-09-29T01:55:49.604513Z",
     "iopub.status.idle": "2021-09-29T01:55:49.607131Z",
     "shell.execute_reply": "2021-09-29T01:55:49.607692Z"
    },
    "papermill": {
     "duration": 0.018201,
     "end_time": "2021-09-29T01:55:49.607821",
     "exception": false,
     "start_time": "2021-09-29T01:55:49.589620",
     "status": "completed"
    },
    "tags": []
   },
   "outputs": [
    {
     "data": {
      "text/markdown": [
       "- Bitcoin Is The Only Asset To Solve The Store Of Value Problem.  Only Bitcoin successfully navigates the tricky issue of maintaining monetary energy over time. ... [| Skaityti daugiau](https://bitcoinmagazine.com/culture/bitcoin-asset-solve-store-of-value) "
      ],
      "text/plain": [
       "<IPython.core.display.Markdown object>"
      ]
     },
     "execution_count": 4,
     "metadata": {},
     "output_type": "execute_result"
    }
   ],
   "source": [
    "#hide_input\n",
    "#md('##### {}'.format(titleBTC)) \n",
    "md(\"- {}{} {}{} [| Skaityti daugiau]({}) \".format(btc['title'],'. ', btc['body'], ' ...', btc['url']))"
   ]
  },
  {
   "cell_type": "code",
   "execution_count": 5,
   "id": "organic-actress",
   "metadata": {
    "execution": {
     "iopub.execute_input": "2021-09-29T01:55:49.634416Z",
     "iopub.status.busy": "2021-09-29T01:55:49.633797Z",
     "iopub.status.idle": "2021-09-29T01:55:49.636177Z",
     "shell.execute_reply": "2021-09-29T01:55:49.636824Z"
    },
    "papermill": {
     "duration": 0.018474,
     "end_time": "2021-09-29T01:55:49.636969",
     "exception": false,
     "start_time": "2021-09-29T01:55:49.618495",
     "status": "completed"
    },
    "tags": []
   },
   "outputs": [
    {
     "data": {
      "text/markdown": [
       "- Short now and long later – Looking at how XRP will progress prior to the weekend.  Disclaimer: The findings of the following analysis are the sole opinions of the writer and should not be taken as investment advice Having lost out to the $1-mark, XRP was exposed to more near-term weakness before any chances of a rally. A bearish pattern can be expected to trigger another 23% decline before traders come across [&#8230;] ... [| Skaityti daugiau](https://ambcrypto.com/short-now-and-long-later-looking-at-how-xrp-will-progress-prior-to-the-weekend/) "
      ],
      "text/plain": [
       "<IPython.core.display.Markdown object>"
      ]
     },
     "execution_count": 5,
     "metadata": {},
     "output_type": "execute_result"
    }
   ],
   "source": [
    "#hide_input\n",
    "#md('##### {}'.format(titleBTC)) \n",
    "md(\"- {}{} {}{} [| Skaityti daugiau]({}) \".format(xrp['title'],'. ', xrp['body'], ' ...', xrp['url']))"
   ]
  },
  {
   "cell_type": "code",
   "execution_count": 6,
   "id": "prompt-farmer",
   "metadata": {
    "execution": {
     "iopub.execute_input": "2021-09-29T01:55:49.665614Z",
     "iopub.status.busy": "2021-09-29T01:55:49.665030Z",
     "iopub.status.idle": "2021-09-29T01:55:49.668742Z",
     "shell.execute_reply": "2021-09-29T01:55:49.668236Z"
    },
    "papermill": {
     "duration": 0.020498,
     "end_time": "2021-09-29T01:55:49.668859",
     "exception": false,
     "start_time": "2021-09-29T01:55:49.648361",
     "status": "completed"
    },
    "tags": []
   },
   "outputs": [
    {
     "data": {
      "text/markdown": [
       "- TRON Blockchain Transactions Exceeds 2.46B, Holding 2nd Place.  Tron held second place with 2.46 billion transactions. TVL on TRON hit $11.7 billion and its blockchain height exceeded 34.1 ... [| Skaityti daugiau](https://coinquora.com/tron-blockchain-transactions-exceeds-2-46b-holding-2nd-place/) "
      ],
      "text/plain": [
       "<IPython.core.display.Markdown object>"
      ]
     },
     "execution_count": 6,
     "metadata": {},
     "output_type": "execute_result"
    }
   ],
   "source": [
    "#hide_input\n",
    "#md('##### {}'.format(titleBTC)) \n",
    "md(\"- {}{} {}{} [| Skaityti daugiau]({}) \".format(trx['title'],'. ', trx['body'], ' ...', trx['url']))"
   ]
  },
  {
   "cell_type": "code",
   "execution_count": 7,
   "id": "illegal-greece",
   "metadata": {
    "execution": {
     "iopub.execute_input": "2021-09-29T01:55:49.697180Z",
     "iopub.status.busy": "2021-09-29T01:55:49.696590Z",
     "iopub.status.idle": "2021-09-29T01:55:49.698930Z",
     "shell.execute_reply": "2021-09-29T01:55:49.699426Z"
    },
    "papermill": {
     "duration": 0.019074,
     "end_time": "2021-09-29T01:55:49.699552",
     "exception": false,
     "start_time": "2021-09-29T01:55:49.680478",
     "status": "completed"
    },
    "tags": []
   },
   "outputs": [
    {
     "data": {
      "text/markdown": [
       "- Cryptocurrency Exchange Accidentally Spends $23.7 Million in One Ethereum Transaction.  Decentralized cryptocurrency exchange DeversiFi has accidentally attached a transaction fee of nearly $24 million to a cryptocurrency transaction moving $100,000 worth of Tether’s USDT stablecoin. According to data from Ethereum blockchain explorer Etherscan, DeversiFi paid 7,676.61 ETH then worth nearly $24 million in transaction fees, while the current estimate for an average transaction fee on […] ... [| Skaityti daugiau](https://www.cryptoglobe.com/latest/2021/09/cryptocurrency-exchange-accidentally-spends-23-7-million-in-one-ethereum-transaction/) "
      ],
      "text/plain": [
       "<IPython.core.display.Markdown object>"
      ]
     },
     "execution_count": 7,
     "metadata": {},
     "output_type": "execute_result"
    }
   ],
   "source": [
    "#hide_input\n",
    "#md('##### {}'.format(titleBTC)) \n",
    "md(\"- {}{} {}{} [| Skaityti daugiau]({}) \".format(eth['title'],'. ', eth['body'], ' ...', eth['url']))"
   ]
  },
  {
   "cell_type": "code",
   "execution_count": 8,
   "id": "sublime-lounge",
   "metadata": {
    "execution": {
     "iopub.execute_input": "2021-09-29T01:55:49.728629Z",
     "iopub.status.busy": "2021-09-29T01:55:49.728014Z",
     "iopub.status.idle": "2021-09-29T01:55:49.731687Z",
     "shell.execute_reply": "2021-09-29T01:55:49.731189Z"
    },
    "papermill": {
     "duration": 0.020494,
     "end_time": "2021-09-29T01:55:49.731804",
     "exception": false,
     "start_time": "2021-09-29T01:55:49.711310",
     "status": "completed"
    },
    "tags": []
   },
   "outputs": [
    {
     "data": {
      "text/markdown": [
       "- EMURGO To Invest $100 Million In Cardano To Bolster DeFi Adoption.  Decentralized finance (DeFi) has become an increasingly important addition to the Cardano network following the launch of smart contracts capability. Developers have been working since the Alonzo hard fork to bring their DeFi solutions to the ecosystem. But with decentralized finance already underway on blockchains such as Ethereum and Solana, Cardano has had to play catch-up with these other networks. This is why the recent announcement from EMURGO carries significant connotations for the future of DeFi on the network. EMURGO, which is the commercial arm of the Cardano Foundation, has made moves to help further the growth of decentralized finance solutions on the ecosystem. A $100 million investment is set to be made into the DeFi ecosystem in a big to promote the development and growth of the platform. Related Reading &#124; Billionaire Mike Novogratz Says He’s “Not Nervous” About Crypto Sell-Off 📣Just announced 🎉 EMURGO to invest $100M in @Cardano ecosystem to accelerate #DeFi, #NFT solutions and #blockchain education! &#8211; EMURGO CEO, @KenKodama_Biz @emurgo_io#CardanoSummit2021 $ADA pic.twitter.com/Gx4fbw556x &#8212; EMURGO (@emurgo_io) September 26, 2021 Pushing DeFi To The Forefront The $100 million investment in the ecosystem is meant to go towards promoting the network’s capabilities to developers and uses. Although NFTs are now live on the blockchain, decentralized finance is taking a long time as developers need... ... [| Skaityti daugiau](https://www.newsbtc.com/news/cardano/emurgo-to-invest-100m-in-cardano/) "
      ],
      "text/plain": [
       "<IPython.core.display.Markdown object>"
      ]
     },
     "execution_count": 8,
     "metadata": {},
     "output_type": "execute_result"
    }
   ],
   "source": [
    "#hide_input\n",
    "#md('##### {}'.format(titleBTC)) \n",
    "md(\"- {}{} {}{} [| Skaityti daugiau]({}) \".format(ada['title'],'. ', ada['body'], ' ...', ada['url']))"
   ]
  },
  {
   "cell_type": "code",
   "execution_count": 9,
   "id": "specified-ordering",
   "metadata": {
    "execution": {
     "iopub.execute_input": "2021-09-29T01:55:49.762019Z",
     "iopub.status.busy": "2021-09-29T01:55:49.761443Z",
     "iopub.status.idle": "2021-09-29T01:55:49.764897Z",
     "shell.execute_reply": "2021-09-29T01:55:49.764437Z"
    },
    "papermill": {
     "duration": 0.020769,
     "end_time": "2021-09-29T01:55:49.765008",
     "exception": false,
     "start_time": "2021-09-29T01:55:49.744239",
     "status": "completed"
    },
    "tags": []
   },
   "outputs": [
    {
     "data": {
      "text/markdown": [
       "- Cryptocurrency Exchange Accidentally Spends $23.7 Million in One Ethereum Transaction.  Decentralized cryptocurrency exchange DeversiFi has accidentally attached a transaction fee of nearly $24 million to a cryptocurrency transaction moving $100,000 worth of Tether’s USDT stablecoin. According to data from Ethereum blockchain explorer Etherscan, DeversiFi paid 7,676.61 ETH then worth nearly $24 million in transaction fees, while the current estimate for an average transaction fee on […] ... [| Skaityti daugiau](https://www.cryptoglobe.com/latest/2021/09/cryptocurrency-exchange-accidentally-spends-23-7-million-in-one-ethereum-transaction/) "
      ],
      "text/plain": [
       "<IPython.core.display.Markdown object>"
      ]
     },
     "execution_count": 9,
     "metadata": {},
     "output_type": "execute_result"
    }
   ],
   "source": [
    "#hide_input\n",
    "#md('##### {}'.format(titleBTC)) \n",
    "md(\"- {}{} {}{} [| Skaityti daugiau]({}) \".format(exchange['title'],'. ', exchange['body'], ' ...', exchange['url']))"
   ]
  },
  {
   "cell_type": "code",
   "execution_count": null,
   "id": "tender-livestock",
   "metadata": {
    "papermill": {
     "duration": 0.012512,
     "end_time": "2021-09-29T01:55:49.790185",
     "exception": false,
     "start_time": "2021-09-29T01:55:49.777673",
     "status": "completed"
    },
    "tags": []
   },
   "outputs": [],
   "source": []
  },
  {
   "cell_type": "code",
   "execution_count": null,
   "id": "appreciated-diamond",
   "metadata": {
    "papermill": {
     "duration": 0.012201,
     "end_time": "2021-09-29T01:55:49.815031",
     "exception": false,
     "start_time": "2021-09-29T01:55:49.802830",
     "status": "completed"
    },
    "tags": []
   },
   "outputs": [],
   "source": []
  },
  {
   "cell_type": "code",
   "execution_count": null,
   "id": "romance-sweden",
   "metadata": {
    "papermill": {
     "duration": 0.01254,
     "end_time": "2021-09-29T01:55:49.840179",
     "exception": false,
     "start_time": "2021-09-29T01:55:49.827639",
     "status": "completed"
    },
    "tags": []
   },
   "outputs": [],
   "source": []
  },
  {
   "cell_type": "code",
   "execution_count": null,
   "id": "dietary-statistics",
   "metadata": {
    "papermill": {
     "duration": 0.012572,
     "end_time": "2021-09-29T01:55:49.865351",
     "exception": false,
     "start_time": "2021-09-29T01:55:49.852779",
     "status": "completed"
    },
    "tags": []
   },
   "outputs": [],
   "source": []
  }
 ],
 "metadata": {
  "kernelspec": {
   "display_name": "Python 3",
   "language": "python",
   "name": "python3"
  },
  "language_info": {
   "codemirror_mode": {
    "name": "ipython",
    "version": 3
   },
   "file_extension": ".py",
   "mimetype": "text/x-python",
   "name": "python",
   "nbconvert_exporter": "python",
   "pygments_lexer": "ipython3",
   "version": "3.6.15"
  },
  "papermill": {
   "default_parameters": {},
   "duration": 12.017431,
   "end_time": "2021-09-29T01:55:50.388854",
   "environment_variables": {},
   "exception": null,
   "input_path": "Market-News.ipynb",
   "output_path": "Market-News.ipynb",
   "parameters": {},
   "start_time": "2021-09-29T01:55:38.371423",
   "version": "2.2.2"
  }
 },
 "nbformat": 4,
 "nbformat_minor": 5
}