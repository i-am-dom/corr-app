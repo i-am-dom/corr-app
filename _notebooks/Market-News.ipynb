{
 "cells": [
  {
   "cell_type": "markdown",
   "id": "short-greensboro",
   "metadata": {
    "papermill": {
     "duration": 0.013393,
     "end_time": "2021-10-30T01:56:43.850386",
     "exception": false,
     "start_time": "2021-10-30T01:56:43.836993",
     "status": "completed"
    },
    "tags": []
   },
   "source": [
    "# Kriptovaliutų naujienos"
   ]
  },
  {
   "cell_type": "code",
   "execution_count": 1,
   "id": "functioning-knowing",
   "metadata": {
    "execution": {
     "iopub.execute_input": "2021-10-30T01:56:43.882305Z",
     "iopub.status.busy": "2021-10-30T01:56:43.881680Z",
     "iopub.status.idle": "2021-10-30T01:56:45.155434Z",
     "shell.execute_reply": "2021-10-30T01:56:45.154865Z"
    },
    "papermill": {
     "duration": 1.294454,
     "end_time": "2021-10-30T01:56:45.155593",
     "exception": false,
     "start_time": "2021-10-30T01:56:43.861139",
     "status": "completed"
    },
    "tags": []
   },
   "outputs": [],
   "source": [
    "#hide_input\n",
    "import warnings\n",
    "warnings.filterwarnings('ignore')\n",
    "from scripts.read_data import read_api\n",
    "from scripts.read_data import read_news\n",
    "from scripts.read_data import read_covid\n",
    "import matplotlib.pyplot as plt \n",
    "from IPython.display import Markdown as md"
   ]
  },
  {
   "cell_type": "code",
   "execution_count": 2,
   "id": "shared-acceptance",
   "metadata": {
    "execution": {
     "iopub.execute_input": "2021-10-30T01:56:45.194104Z",
     "iopub.status.busy": "2021-10-30T01:56:45.193093Z",
     "iopub.status.idle": "2021-10-30T01:56:53.150460Z",
     "shell.execute_reply": "2021-10-30T01:56:53.149488Z"
    },
    "papermill": {
     "duration": 7.982821,
     "end_time": "2021-10-30T01:56:53.150604",
     "exception": false,
     "start_time": "2021-10-30T01:56:45.167783",
     "status": "completed"
    },
    "tags": []
   },
   "outputs": [],
   "source": [
    "#hide_input\n",
    "blockchain = read_news('blockchain') \n",
    "btc = read_news('btc') \n",
    "xrp = read_news('xrp') \n",
    "trx = read_news('trx') \n",
    "eth = read_news('eth')  \n",
    "ada = read_news('ada')\n",
    "exchange = read_news('exchange') "
   ]
  },
  {
   "cell_type": "code",
   "execution_count": 3,
   "id": "synthetic-notion",
   "metadata": {
    "execution": {
     "iopub.execute_input": "2021-10-30T01:56:53.175392Z",
     "iopub.status.busy": "2021-10-30T01:56:53.174882Z",
     "iopub.status.idle": "2021-10-30T01:56:53.177534Z",
     "shell.execute_reply": "2021-10-30T01:56:53.177984Z"
    },
    "papermill": {
     "duration": 0.017252,
     "end_time": "2021-10-30T01:56:53.178121",
     "exception": false,
     "start_time": "2021-10-30T01:56:53.160869",
     "status": "completed"
    },
    "tags": []
   },
   "outputs": [
    {
     "data": {
      "text/markdown": [
       "- Volume Of ADA Staked On Cardano Network Reaches Record High.  Cardano holds bragging rights for the network with the highest proportion of its circulating supply staked and it has not let go of this title. Cardano’s community is home to investors who are investing for the long term rather than trying to take short-term profits from the market. This means that most investors have their coins staked on the platform to serve as validators on its proof of stake mechanism. The blockchain has grown in popularity since it announced smart contracts capability in September. Since then, various partnerships and initiatives focused on increasing usability on the network have been announced. This move seems to have paid off as Cardano saw a record number of total circulating supply hit an all-time high this week. Total ADA Staked Hits 73% Of Supply Cardano saw the total ADA staked on its network hit a high of 73.15% on Thursday, an impressive number compared to the number of coins staked on its direct competitors. At this point, the network had a total of 23.9 billion ADA staked across 921,323 delegators. The total circulating supply of ADA is only 33.26 billion coins, meaning that only less than 10 billion are not staked. Related Reading &#124; New Ethereum-to-Cardano Bridge Will Provide NFT Creators Eco-friendly Options This represents the growing confidence in the future of the project, which some in the space have claimed to be the blockchain of the future. An interesting fact behind Cardano’s s... ... [| Skaityti daugiau](https://www.newsbtc.com/news/cardano/staked-cardano-reaches-high/) "
      ],
      "text/plain": [
       "<IPython.core.display.Markdown object>"
      ]
     },
     "execution_count": 3,
     "metadata": {},
     "output_type": "execute_result"
    }
   ],
   "source": [
    "#hide_input\n",
    "#md('##### {}'.format(titleBTC)) \n",
    "md(\"- {}{} {}{} [| Skaityti daugiau]({}) \".format(blockchain['title'],'. ', blockchain['body'], ' ...', blockchain['url']))"
   ]
  },
  {
   "cell_type": "code",
   "execution_count": 4,
   "id": "aging-caution",
   "metadata": {
    "execution": {
     "iopub.execute_input": "2021-10-30T01:56:53.200621Z",
     "iopub.status.busy": "2021-10-30T01:56:53.200121Z",
     "iopub.status.idle": "2021-10-30T01:56:53.202856Z",
     "shell.execute_reply": "2021-10-30T01:56:53.203232Z"
    },
    "papermill": {
     "duration": 0.016805,
     "end_time": "2021-10-30T01:56:53.203335",
     "exception": false,
     "start_time": "2021-10-30T01:56:53.186530",
     "status": "completed"
    },
    "tags": []
   },
   "outputs": [
    {
     "data": {
      "text/markdown": [
       "- Crypto Adoption Boosts Travel: Travala Rises From The Ashes.  Travala.com, the leading crypto-friendly travel platform, reported an “explosive growth” during the third quarter of 2021, and the use of cryptocurrencies played the main role. Its blockchain-based platform allows customers to realize payments in over 50 digital coins. CEO Juan Otero stated back in July that 70% of the bookings were being paid by digital coins, getting to see over $1 million gains every week. He also commented that With more people holding cryptocurrencies and more businesses accepting it for real-world things, travel is naturally a desirable experience to use crypto, Related Reading &#124; Australian Woman Travels to Ten Countries in 12 Weeks on Cryptocurrency Alone Travala partnered with Viator, the company owned by Tripadvisor, and Expedia Group -even though Expedia does not directly accept payments by bitcoin-. By these partnerships alone they offer over 700,000 hotels and accommodations and 400,000 bookable activities that can be purchased with cryptocurrencies. Otero had stated earlier that “Travala.com offers over 3 million travel products, making us not just the biggest crypto-friendly [online travel agency], but one of the largest overall.&#8221; In hotel bookings alone, 75% of them were paid by cryptocurrencies, leaving 13% paid by travel credits and only 12% by traditional currencies. Travala’s native AVA altcoin raised to the top with 14% of use, followed by Binance Pay with 12% and Bitcoin at 8%. ... ... [| Skaityti daugiau](https://www.newsbtc.com/crypto/crypto-adoption-boosts-travel-travala-rises/) "
      ],
      "text/plain": [
       "<IPython.core.display.Markdown object>"
      ]
     },
     "execution_count": 4,
     "metadata": {},
     "output_type": "execute_result"
    }
   ],
   "source": [
    "#hide_input\n",
    "#md('##### {}'.format(titleBTC)) \n",
    "md(\"- {}{} {}{} [| Skaityti daugiau]({}) \".format(btc['title'],'. ', btc['body'], ' ...', btc['url']))"
   ]
  },
  {
   "cell_type": "code",
   "execution_count": 5,
   "id": "organic-actress",
   "metadata": {
    "execution": {
     "iopub.execute_input": "2021-10-30T01:56:53.226952Z",
     "iopub.status.busy": "2021-10-30T01:56:53.226376Z",
     "iopub.status.idle": "2021-10-30T01:56:53.228971Z",
     "shell.execute_reply": "2021-10-30T01:56:53.229428Z"
    },
    "papermill": {
     "duration": 0.017286,
     "end_time": "2021-10-30T01:56:53.229534",
     "exception": false,
     "start_time": "2021-10-30T01:56:53.212248",
     "status": "completed"
    },
    "tags": []
   },
   "outputs": [
    {
     "data": {
      "text/markdown": [
       "- Discussing XRP price action, Belfort says he’ll ‘settle for $10,’ reveals holdings.  It is no surprise that the now infamous &#8216;Wolf of Wall Street,&#8217; Jordan Belfort was trotting through the cryptocurrency landscape. However, his next prediction for XRP left many puzzled, and many others, excited about what this could mean for the market. Belfort&#8217;s bag of XRP Belfort took to Twitter to offer updates to his followers [&#8230;] ... [| Skaityti daugiau](https://ambcrypto.com/xrp-to-hit-10-former-wolf-of-wall-street-will-settle-for-it/) "
      ],
      "text/plain": [
       "<IPython.core.display.Markdown object>"
      ]
     },
     "execution_count": 5,
     "metadata": {},
     "output_type": "execute_result"
    }
   ],
   "source": [
    "#hide_input\n",
    "#md('##### {}'.format(titleBTC)) \n",
    "md(\"- {}{} {}{} [| Skaityti daugiau]({}) \".format(xrp['title'],'. ', xrp['body'], ' ...', xrp['url']))"
   ]
  },
  {
   "cell_type": "code",
   "execution_count": 6,
   "id": "prompt-farmer",
   "metadata": {
    "execution": {
     "iopub.execute_input": "2021-10-30T01:56:53.253443Z",
     "iopub.status.busy": "2021-10-30T01:56:53.252936Z",
     "iopub.status.idle": "2021-10-30T01:56:53.256740Z",
     "shell.execute_reply": "2021-10-30T01:56:53.256404Z"
    },
    "papermill": {
     "duration": 0.017067,
     "end_time": "2021-10-30T01:56:53.256826",
     "exception": false,
     "start_time": "2021-10-30T01:56:53.239759",
     "status": "completed"
    },
    "tags": []
   },
   "outputs": [
    {
     "data": {
      "text/markdown": [
       "- Tron (TRX) Price Analysis: More Gains Possible Above $0.105.  Tron price is forming a base above the $0.1000 zone against the US Dollar. TRX price is now trading above $0.1000 and the 55 simple moving average (4-hours). There is a connecting bullish trend line forming with support near $0.0995 on the 4-hours chart (data feed via Bitfinex). The pair could start a major increase...The post Tron (TRX) Price Analysis: More Gains Possible Above $0.105 appeared first on Live Bitcoin News. ... [| Skaityti daugiau](https://www.livebitcoinnews.com/tron-trx-price-analysis-more-gains-possible-above-0-105/) "
      ],
      "text/plain": [
       "<IPython.core.display.Markdown object>"
      ]
     },
     "execution_count": 6,
     "metadata": {},
     "output_type": "execute_result"
    }
   ],
   "source": [
    "#hide_input\n",
    "#md('##### {}'.format(titleBTC)) \n",
    "md(\"- {}{} {}{} [| Skaityti daugiau]({}) \".format(trx['title'],'. ', trx['body'], ' ...', trx['url']))"
   ]
  },
  {
   "cell_type": "code",
   "execution_count": 7,
   "id": "illegal-greece",
   "metadata": {
    "execution": {
     "iopub.execute_input": "2021-10-30T01:56:53.283153Z",
     "iopub.status.busy": "2021-10-30T01:56:53.282667Z",
     "iopub.status.idle": "2021-10-30T01:56:53.284780Z",
     "shell.execute_reply": "2021-10-30T01:56:53.285092Z"
    },
    "papermill": {
     "duration": 0.017576,
     "end_time": "2021-10-30T01:56:53.285190",
     "exception": false,
     "start_time": "2021-10-30T01:56:53.267614",
     "status": "completed"
    },
    "tags": []
   },
   "outputs": [
    {
     "data": {
      "text/markdown": [
       "- The SHIB Vitalik Buterin Burned in May Would Now Be Worth Almost $28 Billion.  The 410,24 trillion Shiba Inu tokens which Vitalik Buterin burned in May are now worth close to $28 billion. ... [| Skaityti daugiau](https://cryptopotato.com/the-shib-vitalik-buterin-burned-in-may-would-now-be-worth-almost-28-billion/) "
      ],
      "text/plain": [
       "<IPython.core.display.Markdown object>"
      ]
     },
     "execution_count": 7,
     "metadata": {},
     "output_type": "execute_result"
    }
   ],
   "source": [
    "#hide_input\n",
    "#md('##### {}'.format(titleBTC)) \n",
    "md(\"- {}{} {}{} [| Skaityti daugiau]({}) \".format(eth['title'],'. ', eth['body'], ' ...', eth['url']))"
   ]
  },
  {
   "cell_type": "code",
   "execution_count": 8,
   "id": "sublime-lounge",
   "metadata": {
    "execution": {
     "iopub.execute_input": "2021-10-30T01:56:53.312988Z",
     "iopub.status.busy": "2021-10-30T01:56:53.311049Z",
     "iopub.status.idle": "2021-10-30T01:56:53.314918Z",
     "shell.execute_reply": "2021-10-30T01:56:53.315250Z"
    },
    "papermill": {
     "duration": 0.019259,
     "end_time": "2021-10-30T01:56:53.315345",
     "exception": false,
     "start_time": "2021-10-30T01:56:53.296086",
     "status": "completed"
    },
    "tags": []
   },
   "outputs": [
    {
     "data": {
      "text/markdown": [
       "- Volume Of ADA Staked On Cardano Network Reaches Record High.  Cardano holds bragging rights for the network with the highest proportion of its circulating supply staked and it has not let go of this title. Cardano’s community is home to investors who are investing for the long term rather than trying to take short-term profits from the market. This means that most investors have their coins staked on the platform to serve as validators on its proof of stake mechanism. The blockchain has grown in popularity since it announced smart contracts capability in September. Since then, various partnerships and initiatives focused on increasing usability on the network have been announced. This move seems to have paid off as Cardano saw a record number of total circulating supply hit an all-time high this week. Total ADA Staked Hits 73% Of Supply Cardano saw the total ADA staked on its network hit a high of 73.15% on Thursday, an impressive number compared to the number of coins staked on its direct competitors. At this point, the network had a total of 23.9 billion ADA staked across 921,323 delegators. The total circulating supply of ADA is only 33.26 billion coins, meaning that only less than 10 billion are not staked. Related Reading &#124; New Ethereum-to-Cardano Bridge Will Provide NFT Creators Eco-friendly Options This represents the growing confidence in the future of the project, which some in the space have claimed to be the blockchain of the future. An interesting fact behind Cardano’s s... ... [| Skaityti daugiau](https://www.newsbtc.com/news/cardano/staked-cardano-reaches-high/) "
      ],
      "text/plain": [
       "<IPython.core.display.Markdown object>"
      ]
     },
     "execution_count": 8,
     "metadata": {},
     "output_type": "execute_result"
    }
   ],
   "source": [
    "#hide_input\n",
    "#md('##### {}'.format(titleBTC)) \n",
    "md(\"- {}{} {}{} [| Skaityti daugiau]({}) \".format(ada['title'],'. ', ada['body'], ' ...', ada['url']))"
   ]
  },
  {
   "cell_type": "code",
   "execution_count": 9,
   "id": "specified-ordering",
   "metadata": {
    "execution": {
     "iopub.execute_input": "2021-10-30T01:56:53.344042Z",
     "iopub.status.busy": "2021-10-30T01:56:53.343487Z",
     "iopub.status.idle": "2021-10-30T01:56:53.345864Z",
     "shell.execute_reply": "2021-10-30T01:56:53.346193Z"
    },
    "papermill": {
     "duration": 0.019927,
     "end_time": "2021-10-30T01:56:53.346290",
     "exception": false,
     "start_time": "2021-10-30T01:56:53.326363",
     "status": "completed"
    },
    "tags": []
   },
   "outputs": [
    {
     "data": {
      "text/markdown": [
       "- Crypto Adoption Boosts Travel: Travala Rises From The Ashes.  Travala.com, the leading crypto-friendly travel platform, reported an “explosive growth” during the third quarter of 2021, and the use of cryptocurrencies played the main role. Its blockchain-based platform allows customers to realize payments in over 50 digital coins. CEO Juan Otero stated back in July that 70% of the bookings were being paid by digital coins, getting to see over $1 million gains every week. He also commented that With more people holding cryptocurrencies and more businesses accepting it for real-world things, travel is naturally a desirable experience to use crypto, Related Reading &#124; Australian Woman Travels to Ten Countries in 12 Weeks on Cryptocurrency Alone Travala partnered with Viator, the company owned by Tripadvisor, and Expedia Group -even though Expedia does not directly accept payments by bitcoin-. By these partnerships alone they offer over 700,000 hotels and accommodations and 400,000 bookable activities that can be purchased with cryptocurrencies. Otero had stated earlier that “Travala.com offers over 3 million travel products, making us not just the biggest crypto-friendly [online travel agency], but one of the largest overall.&#8221; In hotel bookings alone, 75% of them were paid by cryptocurrencies, leaving 13% paid by travel credits and only 12% by traditional currencies. Travala’s native AVA altcoin raised to the top with 14% of use, followed by Binance Pay with 12% and Bitcoin at 8%. ... ... [| Skaityti daugiau](https://www.newsbtc.com/crypto/crypto-adoption-boosts-travel-travala-rises/) "
      ],
      "text/plain": [
       "<IPython.core.display.Markdown object>"
      ]
     },
     "execution_count": 9,
     "metadata": {},
     "output_type": "execute_result"
    }
   ],
   "source": [
    "#hide_input\n",
    "#md('##### {}'.format(titleBTC)) \n",
    "md(\"- {}{} {}{} [| Skaityti daugiau]({}) \".format(exchange['title'],'. ', exchange['body'], ' ...', exchange['url']))"
   ]
  },
  {
   "cell_type": "code",
   "execution_count": null,
   "id": "tender-livestock",
   "metadata": {
    "papermill": {
     "duration": 0.012246,
     "end_time": "2021-10-30T01:56:53.369363",
     "exception": false,
     "start_time": "2021-10-30T01:56:53.357117",
     "status": "completed"
    },
    "tags": []
   },
   "outputs": [],
   "source": []
  },
  {
   "cell_type": "code",
   "execution_count": null,
   "id": "appreciated-diamond",
   "metadata": {
    "papermill": {
     "duration": 0.01214,
     "end_time": "2021-10-30T01:56:53.392385",
     "exception": false,
     "start_time": "2021-10-30T01:56:53.380245",
     "status": "completed"
    },
    "tags": []
   },
   "outputs": [],
   "source": []
  },
  {
   "cell_type": "code",
   "execution_count": null,
   "id": "romance-sweden",
   "metadata": {
    "papermill": {
     "duration": 0.012208,
     "end_time": "2021-10-30T01:56:53.416824",
     "exception": false,
     "start_time": "2021-10-30T01:56:53.404616",
     "status": "completed"
    },
    "tags": []
   },
   "outputs": [],
   "source": []
  },
  {
   "cell_type": "code",
   "execution_count": null,
   "id": "dietary-statistics",
   "metadata": {
    "papermill": {
     "duration": 0.012079,
     "end_time": "2021-10-30T01:56:53.441045",
     "exception": false,
     "start_time": "2021-10-30T01:56:53.428966",
     "status": "completed"
    },
    "tags": []
   },
   "outputs": [],
   "source": []
  }
 ],
 "metadata": {
  "kernelspec": {
   "display_name": "Python 3",
   "language": "python",
   "name": "python3"
  },
  "language_info": {
   "codemirror_mode": {
    "name": "ipython",
    "version": 3
   },
   "file_extension": ".py",
   "mimetype": "text/x-python",
   "name": "python",
   "nbconvert_exporter": "python",
   "pygments_lexer": "ipython3",
   "version": "3.6.15"
  },
  "papermill": {
   "default_parameters": {},
   "duration": 11.188875,
   "end_time": "2021-10-30T01:56:53.962401",
   "environment_variables": {},
   "exception": null,
   "input_path": "Market-News.ipynb",
   "output_path": "Market-News.ipynb",
   "parameters": {},
   "start_time": "2021-10-30T01:56:42.773526",
   "version": "2.2.2"
  }
 },
 "nbformat": 4,
 "nbformat_minor": 5
}