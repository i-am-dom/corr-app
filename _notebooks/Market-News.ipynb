{
 "cells": [
  {
   "cell_type": "markdown",
   "id": "short-greensboro",
   "metadata": {
    "papermill": {
     "duration": 0.013827,
     "end_time": "2021-11-15T01:58:48.300737",
     "exception": false,
     "start_time": "2021-11-15T01:58:48.286910",
     "status": "completed"
    },
    "tags": []
   },
   "source": [
    "# Kriptovaliutų naujienos"
   ]
  },
  {
   "cell_type": "code",
   "execution_count": 1,
   "id": "functioning-knowing",
   "metadata": {
    "execution": {
     "iopub.execute_input": "2021-11-15T01:58:48.329246Z",
     "iopub.status.busy": "2021-11-15T01:58:48.328723Z",
     "iopub.status.idle": "2021-11-15T01:58:49.489197Z",
     "shell.execute_reply": "2021-11-15T01:58:49.488649Z"
    },
    "papermill": {
     "duration": 1.179097,
     "end_time": "2021-11-15T01:58:49.489357",
     "exception": false,
     "start_time": "2021-11-15T01:58:48.310260",
     "status": "completed"
    },
    "tags": []
   },
   "outputs": [],
   "source": [
    "#hide_input\n",
    "import warnings\n",
    "warnings.filterwarnings('ignore')\n",
    "from scripts.read_data import read_api\n",
    "from scripts.read_data import read_news\n",
    "from scripts.read_data import read_covid\n",
    "import matplotlib.pyplot as plt \n",
    "from IPython.display import Markdown as md"
   ]
  },
  {
   "cell_type": "code",
   "execution_count": 2,
   "id": "shared-acceptance",
   "metadata": {
    "execution": {
     "iopub.execute_input": "2021-11-15T01:58:49.514155Z",
     "iopub.status.busy": "2021-11-15T01:58:49.513248Z",
     "iopub.status.idle": "2021-11-15T01:58:57.446445Z",
     "shell.execute_reply": "2021-11-15T01:58:57.445893Z"
    },
    "papermill": {
     "duration": 7.94789,
     "end_time": "2021-11-15T01:58:57.446590",
     "exception": false,
     "start_time": "2021-11-15T01:58:49.498700",
     "status": "completed"
    },
    "tags": []
   },
   "outputs": [],
   "source": [
    "#hide_input\n",
    "blockchain = read_news('blockchain') \n",
    "btc = read_news('btc') \n",
    "xrp = read_news('xrp') \n",
    "trx = read_news('trx') \n",
    "eth = read_news('eth')  \n",
    "ada = read_news('ada')\n",
    "exchange = read_news('exchange') "
   ]
  },
  {
   "cell_type": "code",
   "execution_count": 3,
   "id": "synthetic-notion",
   "metadata": {
    "execution": {
     "iopub.execute_input": "2021-11-15T01:58:57.471537Z",
     "iopub.status.busy": "2021-11-15T01:58:57.471025Z",
     "iopub.status.idle": "2021-11-15T01:58:57.474802Z",
     "shell.execute_reply": "2021-11-15T01:58:57.475183Z"
    },
    "papermill": {
     "duration": 0.01842,
     "end_time": "2021-11-15T01:58:57.475303",
     "exception": false,
     "start_time": "2021-11-15T01:58:57.456883",
     "status": "completed"
    },
    "tags": []
   },
   "outputs": [
    {
     "data": {
      "text/markdown": [
       "- Bitcoin's biggest upgrade in four years, Taproot, goes live.  Taproot, the first bitcoin (BTC-USD) upgrade in four years, just went live, and the update provides more transaction privacy and efficiency and opens the potential for smart contracts. At the heart of the change is the use of \"Schnorr signatures\" vs. the \"Elliptic Curve Digital Signature Algorithm\" the Bitcoin blockchain previously used. The new digital signatures basically make multi-signature transaction unreadable, bitcoin miner Alejandro De La Torre told CNBC. While users can still look up any transaction sent on Bitcoin using a public explorer, details of some of the more complex transactions under Taproot will be able to be hidden, CoinDesk reports. The Schnorr signatures combine multiple signatures into one, thereby reducing the amount of data stored in the blockchain. More than 90% of miners have indicated that they plan to upgrade to Taproot, CoinDesk said. The activation still has to work its way through the system. Users won't be ... [| Skaityti daugiau](https://seekingalpha.com/news/3770367-bitcoins-biggest-upgrade-in-four-years-taproot-goes-live?utm_source=cryptocompare.com&utm_medium=referral) "
      ],
      "text/plain": [
       "<IPython.core.display.Markdown object>"
      ]
     },
     "execution_count": 3,
     "metadata": {},
     "output_type": "execute_result"
    }
   ],
   "source": [
    "#hide_input\n",
    "#md('##### {}'.format(titleBTC)) \n",
    "md(\"- {}{} {}{} [| Skaityti daugiau]({}) \".format(blockchain['title'],'. ', blockchain['body'], ' ...', blockchain['url']))"
   ]
  },
  {
   "cell_type": "code",
   "execution_count": 4,
   "id": "aging-caution",
   "metadata": {
    "execution": {
     "iopub.execute_input": "2021-11-15T01:58:57.498877Z",
     "iopub.status.busy": "2021-11-15T01:58:57.498347Z",
     "iopub.status.idle": "2021-11-15T01:58:57.500792Z",
     "shell.execute_reply": "2021-11-15T01:58:57.501187Z"
    },
    "papermill": {
     "duration": 0.016736,
     "end_time": "2021-11-15T01:58:57.501294",
     "exception": false,
     "start_time": "2021-11-15T01:58:57.484558",
     "status": "completed"
    },
    "tags": []
   },
   "outputs": [
    {
     "data": {
      "text/markdown": [
       "- Bitcoin's biggest upgrade in four years, Taproot, goes live.  Taproot, the first bitcoin (BTC-USD) upgrade in four years, just went live, and the update provides more transaction privacy and efficiency and opens the potential for smart contracts. At the heart of the change is the use of \"Schnorr signatures\" vs. the \"Elliptic Curve Digital Signature Algorithm\" the Bitcoin blockchain previously used. The new digital signatures basically make multi-signature transaction unreadable, bitcoin miner Alejandro De La Torre told CNBC. While users can still look up any transaction sent on Bitcoin using a public explorer, details of some of the more complex transactions under Taproot will be able to be hidden, CoinDesk reports. The Schnorr signatures combine multiple signatures into one, thereby reducing the amount of data stored in the blockchain. More than 90% of miners have indicated that they plan to upgrade to Taproot, CoinDesk said. The activation still has to work its way through the system. Users won't be ... [| Skaityti daugiau](https://seekingalpha.com/news/3770367-bitcoins-biggest-upgrade-in-four-years-taproot-goes-live?utm_source=cryptocompare.com&utm_medium=referral) "
      ],
      "text/plain": [
       "<IPython.core.display.Markdown object>"
      ]
     },
     "execution_count": 4,
     "metadata": {},
     "output_type": "execute_result"
    }
   ],
   "source": [
    "#hide_input\n",
    "#md('##### {}'.format(titleBTC)) \n",
    "md(\"- {}{} {}{} [| Skaityti daugiau]({}) \".format(btc['title'],'. ', btc['body'], ' ...', btc['url']))"
   ]
  },
  {
   "cell_type": "code",
   "execution_count": 5,
   "id": "organic-actress",
   "metadata": {
    "execution": {
     "iopub.execute_input": "2021-11-15T01:58:57.524470Z",
     "iopub.status.busy": "2021-11-15T01:58:57.523923Z",
     "iopub.status.idle": "2021-11-15T01:58:57.526887Z",
     "shell.execute_reply": "2021-11-15T01:58:57.526493Z"
    },
    "papermill": {
     "duration": 0.016226,
     "end_time": "2021-11-15T01:58:57.527022",
     "exception": false,
     "start_time": "2021-11-15T01:58:57.510796",
     "status": "completed"
    },
    "tags": []
   },
   "outputs": [
    {
     "data": {
      "text/markdown": [
       "- Trader Who Called Latest Bitcoin Correction Says XRP Is One Resistance Away From Rallying to New All-Time High.  A popular crypto strategist and trader is highlighting a crucial resistance area for XRP that it must take out to clear the way for a new all-time high. Pseudonymous crypto analyst Credible tells his 263,300 followers that XRP is currently taking it one level at a time and should see clear skies to new all-time [&#8230;]The post Trader Who Called Latest Bitcoin Correction Says XRP Is One Resistance Away From Rallying to New All-Time High appeared first on The Daily Hodl. ... [| Skaityti daugiau](https://dailyhodl.com/2021/11/14/trader-who-called-latest-bitcoin-correction-says-xrp-is-one-resistance-away-from-rallying-to-new-all-time-high/) "
      ],
      "text/plain": [
       "<IPython.core.display.Markdown object>"
      ]
     },
     "execution_count": 5,
     "metadata": {},
     "output_type": "execute_result"
    }
   ],
   "source": [
    "#hide_input\n",
    "#md('##### {}'.format(titleBTC)) \n",
    "md(\"- {}{} {}{} [| Skaityti daugiau]({}) \".format(xrp['title'],'. ', xrp['body'], ' ...', xrp['url']))"
   ]
  },
  {
   "cell_type": "code",
   "execution_count": 6,
   "id": "prompt-farmer",
   "metadata": {
    "execution": {
     "iopub.execute_input": "2021-11-15T01:58:57.551369Z",
     "iopub.status.busy": "2021-11-15T01:58:57.550877Z",
     "iopub.status.idle": "2021-11-15T01:58:57.554072Z",
     "shell.execute_reply": "2021-11-15T01:58:57.553671Z"
    },
    "papermill": {
     "duration": 0.016946,
     "end_time": "2021-11-15T01:58:57.554168",
     "exception": false,
     "start_time": "2021-11-15T01:58:57.537222",
     "status": "completed"
    },
    "tags": []
   },
   "outputs": [
    {
     "data": {
      "text/markdown": [
       "- Bitcoin Cash, Tron, MANA Price Analysis: 13 November.  The crypto market gave the perception of gathering buying momentum while the bears constantly retraced the milestones achieved by the cryptos over the week. Bitcoin Cash continued to flash bearish signs in the near term. On the contrary, MANA broke out of a descending wedge to hit the $3.8-mark and displayed withdrawal signs. Bitcoin Cash [&#8230;] ... [| Skaityti daugiau](https://ambcrypto.com/bitcoin-cash-tron-mana-price-analysis-13-november/) "
      ],
      "text/plain": [
       "<IPython.core.display.Markdown object>"
      ]
     },
     "execution_count": 6,
     "metadata": {},
     "output_type": "execute_result"
    }
   ],
   "source": [
    "#hide_input\n",
    "#md('##### {}'.format(titleBTC)) \n",
    "md(\"- {}{} {}{} [| Skaityti daugiau]({}) \".format(trx['title'],'. ', trx['body'], ' ...', trx['url']))"
   ]
  },
  {
   "cell_type": "code",
   "execution_count": 7,
   "id": "illegal-greece",
   "metadata": {
    "execution": {
     "iopub.execute_input": "2021-11-15T01:58:57.578801Z",
     "iopub.status.busy": "2021-11-15T01:58:57.578305Z",
     "iopub.status.idle": "2021-11-15T01:58:57.581100Z",
     "shell.execute_reply": "2021-11-15T01:58:57.581520Z"
    },
    "papermill": {
     "duration": 0.017167,
     "end_time": "2021-11-15T01:58:57.581628",
     "exception": false,
     "start_time": "2021-11-15T01:58:57.564461",
     "status": "completed"
    },
    "tags": []
   },
   "outputs": [
    {
     "data": {
      "text/markdown": [
       "- SkyBridge Capital Founder: Bitcoin, Ethereum, and Algorand Will Outperform Gold.  In a recent interview, former White House Director of Communications Anthony Scaramucci, who is the founder and managing partner of global alternative investment firm SkyBridge Capital (“SkyBridge”), said that crypto is a better inflation hedge than gold. SkyBridge is “a global alternative investments firm specializing in multi-strategy commingled fund of hedge funds products, custom separate account portfolios and […] ... [| Skaityti daugiau](https://www.cryptoglobe.com/latest/2021/11/skybridge-capital-founder-bitcoin-ethereum-and-algorand-will-outperform-gold/) "
      ],
      "text/plain": [
       "<IPython.core.display.Markdown object>"
      ]
     },
     "execution_count": 7,
     "metadata": {},
     "output_type": "execute_result"
    }
   ],
   "source": [
    "#hide_input\n",
    "#md('##### {}'.format(titleBTC)) \n",
    "md(\"- {}{} {}{} [| Skaityti daugiau]({}) \".format(eth['title'],'. ', eth['body'], ' ...', eth['url']))"
   ]
  },
  {
   "cell_type": "code",
   "execution_count": 8,
   "id": "sublime-lounge",
   "metadata": {
    "execution": {
     "iopub.execute_input": "2021-11-15T01:58:57.606395Z",
     "iopub.status.busy": "2021-11-15T01:58:57.605905Z",
     "iopub.status.idle": "2021-11-15T01:58:57.608413Z",
     "shell.execute_reply": "2021-11-15T01:58:57.608877Z"
    },
    "papermill": {
     "duration": 0.016922,
     "end_time": "2021-11-15T01:58:57.608982",
     "exception": false,
     "start_time": "2021-11-15T01:58:57.592060",
     "status": "completed"
    },
    "tags": []
   },
   "outputs": [
    {
     "data": {
      "text/markdown": [
       "- Cardano ($ADA): Emurgo’s Head of Product on Yoroi Wallet.  In a recent interview, Sergio Sanchez Ferreros, Head of Product at Emurgo, the commercial arm of Cardano, talked about Yoroi light wallet for Cardano. EMURGO, which was founded in 2017, is “a global blockchain technology company providing solutions for developers, startups, enterprises, and governments”; and it “develops enterprise-grade applications, builds developer tools, invests in startups, […] ... [| Skaityti daugiau](https://www.cryptoglobe.com/latest/2021/11/cardano-ada-emurgos-head-of-product-on-yoroi-wallet/) "
      ],
      "text/plain": [
       "<IPython.core.display.Markdown object>"
      ]
     },
     "execution_count": 8,
     "metadata": {},
     "output_type": "execute_result"
    }
   ],
   "source": [
    "#hide_input\n",
    "#md('##### {}'.format(titleBTC)) \n",
    "md(\"- {}{} {}{} [| Skaityti daugiau]({}) \".format(ada['title'],'. ', ada['body'], ' ...', ada['url']))"
   ]
  },
  {
   "cell_type": "code",
   "execution_count": 9,
   "id": "specified-ordering",
   "metadata": {
    "execution": {
     "iopub.execute_input": "2021-11-15T01:58:57.634848Z",
     "iopub.status.busy": "2021-11-15T01:58:57.634358Z",
     "iopub.status.idle": "2021-11-15T01:58:57.637570Z",
     "shell.execute_reply": "2021-11-15T01:58:57.637150Z"
    },
    "papermill": {
     "duration": 0.017874,
     "end_time": "2021-11-15T01:58:57.637668",
     "exception": false,
     "start_time": "2021-11-15T01:58:57.619794",
     "status": "completed"
    },
    "tags": []
   },
   "outputs": [
    {
     "data": {
      "text/markdown": [
       "- Crypto Corner: The Sports Slice.  While there wasn&#8217;t a large amount of volume in the sports and crypto landscape over the past week, there were still some very notable headlines. Coinbase found themselves a new non-traditional sports partner, just a couple short weeks after securing the NBA as a partner, and fan tokens could be on the rise. There&#8217;s just [&#8230;] ... [| Skaityti daugiau](https://bitcoinist.com/crypto-corner-the-sports-slice-15/?utm_source=rss&utm_medium=rss&utm_campaign=crypto-corner-the-sports-slice-15) "
      ],
      "text/plain": [
       "<IPython.core.display.Markdown object>"
      ]
     },
     "execution_count": 9,
     "metadata": {},
     "output_type": "execute_result"
    }
   ],
   "source": [
    "#hide_input\n",
    "#md('##### {}'.format(titleBTC)) \n",
    "md(\"- {}{} {}{} [| Skaityti daugiau]({}) \".format(exchange['title'],'. ', exchange['body'], ' ...', exchange['url']))"
   ]
  },
  {
   "cell_type": "code",
   "execution_count": null,
   "id": "tender-livestock",
   "metadata": {
    "papermill": {
     "duration": 0.011159,
     "end_time": "2021-11-15T01:58:57.659890",
     "exception": false,
     "start_time": "2021-11-15T01:58:57.648731",
     "status": "completed"
    },
    "tags": []
   },
   "outputs": [],
   "source": []
  },
  {
   "cell_type": "code",
   "execution_count": null,
   "id": "appreciated-diamond",
   "metadata": {
    "papermill": {
     "duration": 0.011583,
     "end_time": "2021-11-15T01:58:57.683790",
     "exception": false,
     "start_time": "2021-11-15T01:58:57.672207",
     "status": "completed"
    },
    "tags": []
   },
   "outputs": [],
   "source": []
  },
  {
   "cell_type": "code",
   "execution_count": null,
   "id": "romance-sweden",
   "metadata": {
    "papermill": {
     "duration": 0.011081,
     "end_time": "2021-11-15T01:58:57.705906",
     "exception": false,
     "start_time": "2021-11-15T01:58:57.694825",
     "status": "completed"
    },
    "tags": []
   },
   "outputs": [],
   "source": []
  },
  {
   "cell_type": "code",
   "execution_count": null,
   "id": "dietary-statistics",
   "metadata": {
    "papermill": {
     "duration": 0.011025,
     "end_time": "2021-11-15T01:58:57.728042",
     "exception": false,
     "start_time": "2021-11-15T01:58:57.717017",
     "status": "completed"
    },
    "tags": []
   },
   "outputs": [],
   "source": []
  }
 ],
 "metadata": {
  "kernelspec": {
   "display_name": "Python 3",
   "language": "python",
   "name": "python3"
  },
  "language_info": {
   "codemirror_mode": {
    "name": "ipython",
    "version": 3
   },
   "file_extension": ".py",
   "mimetype": "text/x-python",
   "name": "python",
   "nbconvert_exporter": "python",
   "pygments_lexer": "ipython3",
   "version": "3.6.15"
  },
  "papermill": {
   "default_parameters": {},
   "duration": 10.88573,
   "end_time": "2021-11-15T01:58:58.146532",
   "environment_variables": {},
   "exception": null,
   "input_path": "Market-News.ipynb",
   "output_path": "Market-News.ipynb",
   "parameters": {},
   "start_time": "2021-11-15T01:58:47.260802",
   "version": "2.2.2"
  }
 },
 "nbformat": 4,
 "nbformat_minor": 5
}