{
 "cells": [
  {
   "cell_type": "markdown",
   "id": "short-greensboro",
   "metadata": {
    "papermill": {
     "duration": 0.012843,
     "end_time": "2022-04-16T02:27:53.156039",
     "exception": false,
     "start_time": "2022-04-16T02:27:53.143196",
     "status": "completed"
    },
    "tags": []
   },
   "source": [
    "# Kriptovaliutų naujienos"
   ]
  },
  {
   "cell_type": "code",
   "execution_count": 1,
   "id": "functioning-knowing",
   "metadata": {
    "execution": {
     "iopub.execute_input": "2022-04-16T02:27:53.184313Z",
     "iopub.status.busy": "2022-04-16T02:27:53.183798Z",
     "iopub.status.idle": "2022-04-16T02:27:54.378671Z",
     "shell.execute_reply": "2022-04-16T02:27:54.378139Z"
    },
    "papermill": {
     "duration": 1.213205,
     "end_time": "2022-04-16T02:27:54.378823",
     "exception": false,
     "start_time": "2022-04-16T02:27:53.165618",
     "status": "completed"
    },
    "tags": []
   },
   "outputs": [],
   "source": [
    "#hide_input\n",
    "import warnings\n",
    "warnings.filterwarnings('ignore')\n",
    "from scripts.read_data import read_api\n",
    "from scripts.read_data import read_news\n",
    "from scripts.read_data import read_covid\n",
    "import matplotlib.pyplot as plt \n",
    "from IPython.display import Markdown as md"
   ]
  },
  {
   "cell_type": "code",
   "execution_count": 2,
   "id": "shared-acceptance",
   "metadata": {
    "execution": {
     "iopub.execute_input": "2022-04-16T02:27:54.404190Z",
     "iopub.status.busy": "2022-04-16T02:27:54.403675Z",
     "iopub.status.idle": "2022-04-16T02:28:05.837560Z",
     "shell.execute_reply": "2022-04-16T02:28:05.837031Z"
    },
    "papermill": {
     "duration": 11.4489,
     "end_time": "2022-04-16T02:28:05.837700",
     "exception": false,
     "start_time": "2022-04-16T02:27:54.388800",
     "status": "completed"
    },
    "tags": []
   },
   "outputs": [],
   "source": [
    "#hide_input\n",
    "blockchain = read_news('blockchain') \n",
    "btc = read_news('btc') \n",
    "xrp = read_news('xrp') \n",
    "trx = read_news('trx') \n",
    "eth = read_news('eth')  \n",
    "ada = read_news('ada')\n",
    "exchange = read_news('exchange') "
   ]
  },
  {
   "cell_type": "code",
   "execution_count": 3,
   "id": "synthetic-notion",
   "metadata": {
    "execution": {
     "iopub.execute_input": "2022-04-16T02:28:05.861650Z",
     "iopub.status.busy": "2022-04-16T02:28:05.859459Z",
     "iopub.status.idle": "2022-04-16T02:28:05.863967Z",
     "shell.execute_reply": "2022-04-16T02:28:05.864345Z"
    },
    "papermill": {
     "duration": 0.017344,
     "end_time": "2022-04-16T02:28:05.864466",
     "exception": false,
     "start_time": "2022-04-16T02:28:05.847122",
     "status": "completed"
    },
    "tags": []
   },
   "outputs": [
    {
     "data": {
      "text/markdown": [
       "- Dear game developers: Blockchain is not pure evil.  Blockchain-based play-to-earn games stole the show in 2021, but there are still game developers who are not on board with blockchain. ... [| Skaityti daugiau](https://cointelegraph.com/news/dear-game-developers-blockchain-is-not-pure-evil) "
      ],
      "text/plain": [
       "<IPython.core.display.Markdown object>"
      ]
     },
     "execution_count": 3,
     "metadata": {},
     "output_type": "execute_result"
    }
   ],
   "source": [
    "#hide_input\n",
    "#md('##### {}'.format(titleBTC)) \n",
    "md(\"- {}{} {}{} [| Skaityti daugiau]({}) \".format(blockchain['title'],'. ', blockchain['body'], ' ...', blockchain['url']))"
   ]
  },
  {
   "cell_type": "code",
   "execution_count": 4,
   "id": "aging-caution",
   "metadata": {
    "execution": {
     "iopub.execute_input": "2022-04-16T02:28:05.887267Z",
     "iopub.status.busy": "2022-04-16T02:28:05.886707Z",
     "iopub.status.idle": "2022-04-16T02:28:05.889470Z",
     "shell.execute_reply": "2022-04-16T02:28:05.889868Z"
    },
    "papermill": {
     "duration": 0.016325,
     "end_time": "2022-04-16T02:28:05.889977",
     "exception": false,
     "start_time": "2022-04-16T02:28:05.873652",
     "status": "completed"
    },
    "tags": []
   },
   "outputs": [
    {
     "data": {
      "text/markdown": [
       "- Federated Chaumian Mints Provide A Way For Bitcoin Users To Distribute Trust.  FediMint could provide the Bitcoin stack with an open source, distributed, censorship resistant custody layer for less technical Bitcoin users. ... [| Skaityti daugiau](https://bitcoinmagazine.com/technical/chaumian-mints-distribute-trust-among-bitcoin-users) "
      ],
      "text/plain": [
       "<IPython.core.display.Markdown object>"
      ]
     },
     "execution_count": 4,
     "metadata": {},
     "output_type": "execute_result"
    }
   ],
   "source": [
    "#hide_input\n",
    "#md('##### {}'.format(titleBTC)) \n",
    "md(\"- {}{} {}{} [| Skaityti daugiau]({}) \".format(btc['title'],'. ', btc['body'], ' ...', btc['url']))"
   ]
  },
  {
   "cell_type": "code",
   "execution_count": 5,
   "id": "organic-actress",
   "metadata": {
    "execution": {
     "iopub.execute_input": "2022-04-16T02:28:05.912795Z",
     "iopub.status.busy": "2022-04-16T02:28:05.911786Z",
     "iopub.status.idle": "2022-04-16T02:28:05.915179Z",
     "shell.execute_reply": "2022-04-16T02:28:05.915557Z"
    },
    "papermill": {
     "duration": 0.016306,
     "end_time": "2022-04-16T02:28:05.915669",
     "exception": false,
     "start_time": "2022-04-16T02:28:05.899363",
     "status": "completed"
    },
    "tags": []
   },
   "outputs": [
    {
     "data": {
      "text/markdown": [
       "- Ripple price analysis: XRP targets $1 mark after seeing off pressure at $0.77 resistance.  TL;DR Breakdown Ripple price analysis shows price pushing up 9 percent over past 24 hours Strong technical indicators hint at expected revisit of $1 mark 24-hour trading volume rose by... ... [| Skaityti daugiau](https://www.cryptopolitan.com/ripple-price-analysis-2022-04-15/) "
      ],
      "text/plain": [
       "<IPython.core.display.Markdown object>"
      ]
     },
     "execution_count": 5,
     "metadata": {},
     "output_type": "execute_result"
    }
   ],
   "source": [
    "#hide_input\n",
    "#md('##### {}'.format(titleBTC)) \n",
    "md(\"- {}{} {}{} [| Skaityti daugiau]({}) \".format(xrp['title'],'. ', xrp['body'], ' ...', xrp['url']))"
   ]
  },
  {
   "cell_type": "code",
   "execution_count": 6,
   "id": "prompt-farmer",
   "metadata": {
    "execution": {
     "iopub.execute_input": "2022-04-16T02:28:05.939432Z",
     "iopub.status.busy": "2022-04-16T02:28:05.938934Z",
     "iopub.status.idle": "2022-04-16T02:28:05.942127Z",
     "shell.execute_reply": "2022-04-16T02:28:05.941724Z"
    },
    "papermill": {
     "duration": 0.016835,
     "end_time": "2022-04-16T02:28:05.942226",
     "exception": false,
     "start_time": "2022-04-16T02:28:05.925391",
     "status": "completed"
    },
    "tags": []
   },
   "outputs": [
    {
     "data": {
      "text/markdown": [
       "- TRON sees a relief rally; here’s what traders should know.  Disclaimer: The findings of the following analysis are the sole opinions of the writer and should not be considered investment advice Bitcoin saw a bounce from $39.3k to $41.4k and posted some losses in recent hours to trade at $41.1k at the time of writing. TRON also reflected this minor bounce of Bitcoin on its own [&#8230;] ... [| Skaityti daugiau](https://ambcrypto.com/tron-sees-a-relief-rally-heres-what-traders-should-know/) "
      ],
      "text/plain": [
       "<IPython.core.display.Markdown object>"
      ]
     },
     "execution_count": 6,
     "metadata": {},
     "output_type": "execute_result"
    }
   ],
   "source": [
    "#hide_input\n",
    "#md('##### {}'.format(titleBTC)) \n",
    "md(\"- {}{} {}{} [| Skaityti daugiau]({}) \".format(trx['title'],'. ', trx['body'], ' ...', trx['url']))"
   ]
  },
  {
   "cell_type": "code",
   "execution_count": 7,
   "id": "illegal-greece",
   "metadata": {
    "execution": {
     "iopub.execute_input": "2022-04-16T02:28:05.967186Z",
     "iopub.status.busy": "2022-04-16T02:28:05.966692Z",
     "iopub.status.idle": "2022-04-16T02:28:05.970013Z",
     "shell.execute_reply": "2022-04-16T02:28:05.969615Z"
    },
    "papermill": {
     "duration": 0.017579,
     "end_time": "2022-04-16T02:28:05.970112",
     "exception": false,
     "start_time": "2022-04-16T02:28:05.952533",
     "status": "completed"
    },
    "tags": []
   },
   "outputs": [
    {
     "data": {
      "text/markdown": [
       "- While Markets Consolidate, Crypto Fear and Greed Index Points to ‘Extreme Fear’.  18 days ago on March 28, the Crypto Fear and Greed Index tapped the &#x201C;greed&#x201D; position, scoring a 60 for the first time in four months. Since that day, bitcoin has lost more than $7,500 in USD value, and hit a low of $39,200 per unit on April 11. The downturn has pushed the Crypto [&#8230;] ... [| Skaityti daugiau](https://news.bitcoin.com/while-markets-consolidate-crypto-fear-and-greed-index-points-to-extreme-fear/) "
      ],
      "text/plain": [
       "<IPython.core.display.Markdown object>"
      ]
     },
     "execution_count": 7,
     "metadata": {},
     "output_type": "execute_result"
    }
   ],
   "source": [
    "#hide_input\n",
    "#md('##### {}'.format(titleBTC)) \n",
    "md(\"- {}{} {}{} [| Skaityti daugiau]({}) \".format(eth['title'],'. ', eth['body'], ' ...', eth['url']))"
   ]
  },
  {
   "cell_type": "code",
   "execution_count": 8,
   "id": "sublime-lounge",
   "metadata": {
    "execution": {
     "iopub.execute_input": "2022-04-16T02:28:05.995468Z",
     "iopub.status.busy": "2022-04-16T02:28:05.994455Z",
     "iopub.status.idle": "2022-04-16T02:28:05.998464Z",
     "shell.execute_reply": "2022-04-16T02:28:05.998064Z"
    },
    "papermill": {
     "duration": 0.018021,
     "end_time": "2022-04-16T02:28:05.998565",
     "exception": false,
     "start_time": "2022-04-16T02:28:05.980544",
     "status": "completed"
    },
    "tags": []
   },
   "outputs": [
    {
     "data": {
      "text/markdown": [
       "- ADA To Rebound With Integration Of USDT And USDC On Cardano?.  One of the best performer assets in the crypto top 10 by market cap, Cardano (ADA) keeps strengthening its ecosystem. As the network prepares for its next major Hard Fork Combinator (HFC) event, called Vasil, its DeFi sector could add some of the most popular assets in the space. Related Reading &#124; Majority Of Cardano (ADA) Holders In Loss As Price Slides To $1 At the time of writing, ADA’s price trades at $0.95 with a 2% profit in the last 24-hours. Cardano could soon have native support for Tether (USDT), and USD Coin (USDC). Charles Hoskinson, this network’s inventor, and CEO at Input Output Global (IOG), shared his enthusiasm for WingRiders. Wingriders is one of the most exciting DEXes to launch on Cardano and now they are bringing stablecoins! https://t.co/Rpsl9znhyl &#8212; Charles Hoskinson (@IOHK_Charles) April 12, 2022 A decentralized exchange running on Cardano, WingRiders partnered with another two projects called Flint Wallet and Milkomeda, created to provide sidechains with friendly user and developer UX, to launch these stablecoins on the mainnet. According to a Medium post, Milkomeda will implement the Ethereum Virtual Machine on their Cardano sidechain. This sidechain will operate with a synthetic version of ADA called wrapped ADA (wADA). In practice, this will allow users to leverage the Milkomeda sidechain and wADA to connect with Ethereum, as seen in the diagram below. This will remove friction from the ... ... [| Skaityti daugiau](https://www.newsbtc.com/news/cardano/ada-to-rebound-with-integration-of-usdt-and-usdc-on-cardano/) "
      ],
      "text/plain": [
       "<IPython.core.display.Markdown object>"
      ]
     },
     "execution_count": 8,
     "metadata": {},
     "output_type": "execute_result"
    }
   ],
   "source": [
    "#hide_input\n",
    "#md('##### {}'.format(titleBTC)) \n",
    "md(\"- {}{} {}{} [| Skaityti daugiau]({}) \".format(ada['title'],'. ', ada['body'], ' ...', ada['url']))"
   ]
  },
  {
   "cell_type": "code",
   "execution_count": 9,
   "id": "specified-ordering",
   "metadata": {
    "execution": {
     "iopub.execute_input": "2022-04-16T02:28:06.024307Z",
     "iopub.status.busy": "2022-04-16T02:28:06.023328Z",
     "iopub.status.idle": "2022-04-16T02:28:06.026744Z",
     "shell.execute_reply": "2022-04-16T02:28:06.027146Z"
    },
    "papermill": {
     "duration": 0.01787,
     "end_time": "2022-04-16T02:28:06.027256",
     "exception": false,
     "start_time": "2022-04-16T02:28:06.009386",
     "status": "completed"
    },
    "tags": []
   },
   "outputs": [
    {
     "data": {
      "text/markdown": [
       "- Did HEGIC fall from grace after Binance delisting.  What happens when Binance decides to de-list a crypto asset? Will the chosen coin or token ever recover, or is the fall from grace enough to doom its prospects forever? We can study exactly this in real-time, as Binance recently delisted Hegic [HEGIC], renBTC [RENBTC], and sUSD [SUSD] on 11 April. In particular, HEGIC investors began to [&#8230;] ... [| Skaityti daugiau](https://ambcrypto.com/did-hegic-fall-from-grace-after-binance-delisting/) "
      ],
      "text/plain": [
       "<IPython.core.display.Markdown object>"
      ]
     },
     "execution_count": 9,
     "metadata": {},
     "output_type": "execute_result"
    }
   ],
   "source": [
    "#hide_input\n",
    "#md('##### {}'.format(titleBTC)) \n",
    "md(\"- {}{} {}{} [| Skaityti daugiau]({}) \".format(exchange['title'],'. ', exchange['body'], ' ...', exchange['url']))"
   ]
  },
  {
   "cell_type": "code",
   "execution_count": null,
   "id": "tender-livestock",
   "metadata": {
    "papermill": {
     "duration": 0.011073,
     "end_time": "2022-04-16T02:28:06.049464",
     "exception": false,
     "start_time": "2022-04-16T02:28:06.038391",
     "status": "completed"
    },
    "tags": []
   },
   "outputs": [],
   "source": []
  },
  {
   "cell_type": "code",
   "execution_count": null,
   "id": "appreciated-diamond",
   "metadata": {
    "papermill": {
     "duration": 0.011039,
     "end_time": "2022-04-16T02:28:06.071794",
     "exception": false,
     "start_time": "2022-04-16T02:28:06.060755",
     "status": "completed"
    },
    "tags": []
   },
   "outputs": [],
   "source": []
  },
  {
   "cell_type": "code",
   "execution_count": null,
   "id": "romance-sweden",
   "metadata": {
    "papermill": {
     "duration": 0.011068,
     "end_time": "2022-04-16T02:28:06.094952",
     "exception": false,
     "start_time": "2022-04-16T02:28:06.083884",
     "status": "completed"
    },
    "tags": []
   },
   "outputs": [],
   "source": []
  },
  {
   "cell_type": "code",
   "execution_count": null,
   "id": "dietary-statistics",
   "metadata": {
    "papermill": {
     "duration": 0.011115,
     "end_time": "2022-04-16T02:28:06.117236",
     "exception": false,
     "start_time": "2022-04-16T02:28:06.106121",
     "status": "completed"
    },
    "tags": []
   },
   "outputs": [],
   "source": []
  }
 ],
 "metadata": {
  "kernelspec": {
   "display_name": "Python 3",
   "language": "python",
   "name": "python3"
  },
  "language_info": {
   "codemirror_mode": {
    "name": "ipython",
    "version": 3
   },
   "file_extension": ".py",
   "mimetype": "text/x-python",
   "name": "python",
   "nbconvert_exporter": "python",
   "pygments_lexer": "ipython3",
   "version": "3.6.15"
  },
  "papermill": {
   "default_parameters": {},
   "duration": 14.317311,
   "end_time": "2022-04-16T02:28:06.546487",
   "environment_variables": {},
   "exception": null,
   "input_path": "Market-News.ipynb",
   "output_path": "Market-News.ipynb",
   "parameters": {},
   "start_time": "2022-04-16T02:27:52.229176",
   "version": "2.2.2"
  }
 },
 "nbformat": 4,
 "nbformat_minor": 5
}