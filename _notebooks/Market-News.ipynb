{
 "cells": [
  {
   "cell_type": "markdown",
   "id": "short-greensboro",
   "metadata": {
    "papermill": {
     "duration": 0.013207,
     "end_time": "2021-08-16T01:56:52.811470",
     "exception": false,
     "start_time": "2021-08-16T01:56:52.798263",
     "status": "completed"
    },
    "tags": []
   },
   "source": [
    "# Kriptovaliutų naujienos"
   ]
  },
  {
   "cell_type": "code",
   "execution_count": 1,
   "id": "functioning-knowing",
   "metadata": {
    "execution": {
     "iopub.execute_input": "2021-08-16T01:56:52.843036Z",
     "iopub.status.busy": "2021-08-16T01:56:52.842476Z",
     "iopub.status.idle": "2021-08-16T01:56:54.115606Z",
     "shell.execute_reply": "2021-08-16T01:56:54.113856Z"
    },
    "papermill": {
     "duration": 1.294481,
     "end_time": "2021-08-16T01:56:54.115776",
     "exception": false,
     "start_time": "2021-08-16T01:56:52.821295",
     "status": "completed"
    },
    "tags": []
   },
   "outputs": [],
   "source": [
    "#hide_input\n",
    "import warnings\n",
    "warnings.filterwarnings('ignore')\n",
    "from scripts.read_data import read_api\n",
    "from scripts.read_data import read_news\n",
    "from scripts.read_data import read_covid\n",
    "import matplotlib.pyplot as plt \n",
    "from IPython.display import Markdown as md"
   ]
  },
  {
   "cell_type": "code",
   "execution_count": 2,
   "id": "shared-acceptance",
   "metadata": {
    "execution": {
     "iopub.execute_input": "2021-08-16T01:56:54.142331Z",
     "iopub.status.busy": "2021-08-16T01:56:54.141436Z",
     "iopub.status.idle": "2021-08-16T01:57:02.661946Z",
     "shell.execute_reply": "2021-08-16T01:57:02.661498Z"
    },
    "papermill": {
     "duration": 8.535535,
     "end_time": "2021-08-16T01:57:02.662066",
     "exception": false,
     "start_time": "2021-08-16T01:56:54.126531",
     "status": "completed"
    },
    "tags": []
   },
   "outputs": [],
   "source": [
    "#hide_input\n",
    "blockchain = read_news('blockchain') \n",
    "btc = read_news('btc') \n",
    "xrp = read_news('xrp') \n",
    "trx = read_news('trx') \n",
    "eth = read_news('eth')  \n",
    "ada = read_news('ada')\n",
    "exchange = read_news('exchange') "
   ]
  },
  {
   "cell_type": "code",
   "execution_count": 3,
   "id": "synthetic-notion",
   "metadata": {
    "execution": {
     "iopub.execute_input": "2021-08-16T01:57:02.688181Z",
     "iopub.status.busy": "2021-08-16T01:57:02.687595Z",
     "iopub.status.idle": "2021-08-16T01:57:02.690965Z",
     "shell.execute_reply": "2021-08-16T01:57:02.690352Z"
    },
    "papermill": {
     "duration": 0.018528,
     "end_time": "2021-08-16T01:57:02.691061",
     "exception": false,
     "start_time": "2021-08-16T01:57:02.672533",
     "status": "completed"
    },
    "tags": []
   },
   "outputs": [
    {
     "data": {
      "text/markdown": [
       "- Solana ($SOL) Up Over 21%, Analyst Says ‘Reaching for All Time Highs Soon’.  On Sunday (August 15), $SOL was the top performing alt coin among the top 30 cryptoassets by markets with a 21% gain vs USD in the past 24-hour period, which has helped it to capture the #11 position in the crypto market cap table. $SOL is the native token of the Solana blockchain. Solana is “an […] ... [| Skaityti daugiau](https://www.cryptoglobe.com/latest/2021/08/solana-sol-up-over-21-analyst-says-reaching-for-all-time-highs-soon/) "
      ],
      "text/plain": [
       "<IPython.core.display.Markdown object>"
      ]
     },
     "execution_count": 3,
     "metadata": {},
     "output_type": "execute_result"
    }
   ],
   "source": [
    "#hide_input\n",
    "#md('##### {}'.format(titleBTC)) \n",
    "md(\"- {}{} {}{} [| Skaityti daugiau]({}) \".format(blockchain['title'],'. ', blockchain['body'], ' ...', blockchain['url']))"
   ]
  },
  {
   "cell_type": "code",
   "execution_count": 4,
   "id": "aging-caution",
   "metadata": {
    "execution": {
     "iopub.execute_input": "2021-08-16T01:57:02.713461Z",
     "iopub.status.busy": "2021-08-16T01:57:02.712500Z",
     "iopub.status.idle": "2021-08-16T01:57:02.716603Z",
     "shell.execute_reply": "2021-08-16T01:57:02.716168Z"
    },
    "papermill": {
     "duration": 0.016785,
     "end_time": "2021-08-16T01:57:02.716721",
     "exception": false,
     "start_time": "2021-08-16T01:57:02.699936",
     "status": "completed"
    },
    "tags": []
   },
   "outputs": [
    {
     "data": {
      "text/markdown": [
       "- English Premier League Team Features Dogecoin for 2021-22 Season — Players Wear DOGE Logo on Sleeves.  English Premier League football players with the Watford Football Club are now wearing the logo representing the meme cryptocurrency dogecoin for the 2021-22 season. The team wore the image for bitcoin in the previous season. Dogecoin Promotion at English Premier League Matches The players of the Watford Football Club, an English professional football team based [&#8230;] ... [| Skaityti daugiau](https://news.bitcoin.com/english-premier-league-team-dogecoin-2021-22-season-players-wear-doge-logo-sleeves/) "
      ],
      "text/plain": [
       "<IPython.core.display.Markdown object>"
      ]
     },
     "execution_count": 4,
     "metadata": {},
     "output_type": "execute_result"
    }
   ],
   "source": [
    "#hide_input\n",
    "#md('##### {}'.format(titleBTC)) \n",
    "md(\"- {}{} {}{} [| Skaityti daugiau]({}) \".format(btc['title'],'. ', btc['body'], ' ...', btc['url']))"
   ]
  },
  {
   "cell_type": "code",
   "execution_count": 5,
   "id": "organic-actress",
   "metadata": {
    "execution": {
     "iopub.execute_input": "2021-08-16T01:57:02.740837Z",
     "iopub.status.busy": "2021-08-16T01:57:02.739651Z",
     "iopub.status.idle": "2021-08-16T01:57:02.743408Z",
     "shell.execute_reply": "2021-08-16T01:57:02.743913Z"
    },
    "papermill": {
     "duration": 0.017819,
     "end_time": "2021-08-16T01:57:02.744021",
     "exception": false,
     "start_time": "2021-08-16T01:57:02.726202",
     "status": "completed"
    },
    "tags": []
   },
   "outputs": [
    {
     "data": {
      "text/markdown": [
       "- What you need to know about XRP’s path to $2.  When compared to the likes of Polkadot, Cardano and Ethereum, XRP&#8217;s utility has always been undermined. The token has, however, gained traction of late, thanks to its 56.4% weekly surge. XRP&#8217;s several use cases As of now, XRP is being used by a host of companies for various purposes. Ripple uses it for cross-border remittances, [&#8230;] ... [| Skaityti daugiau](https://ambcrypto.com/what-you-need-to-know-about-xrps-path-to-2/) "
      ],
      "text/plain": [
       "<IPython.core.display.Markdown object>"
      ]
     },
     "execution_count": 5,
     "metadata": {},
     "output_type": "execute_result"
    }
   ],
   "source": [
    "#hide_input\n",
    "#md('##### {}'.format(titleBTC)) \n",
    "md(\"- {}{} {}{} [| Skaityti daugiau]({}) \".format(xrp['title'],'. ', xrp['body'], ' ...', xrp['url']))"
   ]
  },
  {
   "cell_type": "code",
   "execution_count": 6,
   "id": "prompt-farmer",
   "metadata": {
    "execution": {
     "iopub.execute_input": "2021-08-16T01:57:02.769483Z",
     "iopub.status.busy": "2021-08-16T01:57:02.768965Z",
     "iopub.status.idle": "2021-08-16T01:57:02.771751Z",
     "shell.execute_reply": "2021-08-16T01:57:02.772277Z"
    },
    "papermill": {
     "duration": 0.01717,
     "end_time": "2021-08-16T01:57:02.772386",
     "exception": false,
     "start_time": "2021-08-16T01:57:02.755216",
     "status": "completed"
    },
    "tags": []
   },
   "outputs": [
    {
     "data": {
      "text/markdown": [
       "- XRP, ADA, and Other Altcoins Show Positive Bullish Signs.  As Bitcoin rallies, so are many other altcoins. At the moment, ADA, XRP, IOTX, XDC, TRX, and MATIC are showing ... [| Skaityti daugiau](https://coinquora.com/xrp-ada-and-other-altcoins-show-positive-bullish-signs/) "
      ],
      "text/plain": [
       "<IPython.core.display.Markdown object>"
      ]
     },
     "execution_count": 6,
     "metadata": {},
     "output_type": "execute_result"
    }
   ],
   "source": [
    "#hide_input\n",
    "#md('##### {}'.format(titleBTC)) \n",
    "md(\"- {}{} {}{} [| Skaityti daugiau]({}) \".format(trx['title'],'. ', trx['body'], ' ...', trx['url']))"
   ]
  },
  {
   "cell_type": "code",
   "execution_count": 7,
   "id": "illegal-greece",
   "metadata": {
    "execution": {
     "iopub.execute_input": "2021-08-16T01:57:02.796573Z",
     "iopub.status.busy": "2021-08-16T01:57:02.795725Z",
     "iopub.status.idle": "2021-08-16T01:57:02.799115Z",
     "shell.execute_reply": "2021-08-16T01:57:02.799602Z"
    },
    "papermill": {
     "duration": 0.017297,
     "end_time": "2021-08-16T01:57:02.799709",
     "exception": false,
     "start_time": "2021-08-16T01:57:02.782412",
     "status": "completed"
    },
    "tags": []
   },
   "outputs": [
    {
     "data": {
      "text/markdown": [
       "- Cardano’s ‘potential for profit’ you need to know.  The season of altcoins is back and only a handful of them have kept the traders and market interested. One among these digital assets is Cardano. It has been striving to improve the network and compete with the largest altcoin, Ethereum. Cardano&#8217;s native token ADA established its place among many crypto investors&#8217; portfolios and going [&#8230;] ... [| Skaityti daugiau](https://ambcrypto.com/cardano-at-a-turning-point-things-to-watch-out-for/) "
      ],
      "text/plain": [
       "<IPython.core.display.Markdown object>"
      ]
     },
     "execution_count": 7,
     "metadata": {},
     "output_type": "execute_result"
    }
   ],
   "source": [
    "#hide_input\n",
    "#md('##### {}'.format(titleBTC)) \n",
    "md(\"- {}{} {}{} [| Skaityti daugiau]({}) \".format(eth['title'],'. ', eth['body'], ' ...', eth['url']))"
   ]
  },
  {
   "cell_type": "code",
   "execution_count": 8,
   "id": "sublime-lounge",
   "metadata": {
    "execution": {
     "iopub.execute_input": "2021-08-16T01:57:02.825556Z",
     "iopub.status.busy": "2021-08-16T01:57:02.824828Z",
     "iopub.status.idle": "2021-08-16T01:57:02.829106Z",
     "shell.execute_reply": "2021-08-16T01:57:02.828468Z"
    },
    "papermill": {
     "duration": 0.019373,
     "end_time": "2021-08-16T01:57:02.829207",
     "exception": false,
     "start_time": "2021-08-16T01:57:02.809834",
     "status": "completed"
    },
    "tags": []
   },
   "outputs": [
    {
     "data": {
      "text/markdown": [
       "- Cardano’s ‘potential for profit’ you need to know.  The season of altcoins is back and only a handful of them have kept the traders and market interested. One among these digital assets is Cardano. It has been striving to improve the network and compete with the largest altcoin, Ethereum. Cardano&#8217;s native token ADA established its place among many crypto investors&#8217; portfolios and going [&#8230;] ... [| Skaityti daugiau](https://ambcrypto.com/cardano-at-a-turning-point-things-to-watch-out-for/) "
      ],
      "text/plain": [
       "<IPython.core.display.Markdown object>"
      ]
     },
     "execution_count": 8,
     "metadata": {},
     "output_type": "execute_result"
    }
   ],
   "source": [
    "#hide_input\n",
    "#md('##### {}'.format(titleBTC)) \n",
    "md(\"- {}{} {}{} [| Skaityti daugiau]({}) \".format(ada['title'],'. ', ada['body'], ' ...', ada['url']))"
   ]
  },
  {
   "cell_type": "code",
   "execution_count": 9,
   "id": "specified-ordering",
   "metadata": {
    "execution": {
     "iopub.execute_input": "2021-08-16T01:57:02.856308Z",
     "iopub.status.busy": "2021-08-16T01:57:02.855316Z",
     "iopub.status.idle": "2021-08-16T01:57:02.859089Z",
     "shell.execute_reply": "2021-08-16T01:57:02.859548Z"
    },
    "papermill": {
     "duration": 0.0191,
     "end_time": "2021-08-16T01:57:02.859660",
     "exception": false,
     "start_time": "2021-08-16T01:57:02.840560",
     "status": "completed"
    },
    "tags": []
   },
   "outputs": [
    {
     "data": {
      "text/markdown": [
       "- Binance coin price analysis: Bulls sit on the fence as price action sluggish below $402.  TL;DR Breakdown Red candlestick are ruling this week&#8217;s price chart. Resistance level is found at $402.27. Binance coin price analysis shows support at $379.26. The latest update regarding the Binance coin price analysis shows a gradual decline in the price levels. The cryptocurrency is making efforts towards breaking the resistance and cross the price barrier [&#8230;] ... [| Skaityti daugiau](https://www.cryptopolitan.com/binance-coin-price-analysis-2021-08-15/) "
      ],
      "text/plain": [
       "<IPython.core.display.Markdown object>"
      ]
     },
     "execution_count": 9,
     "metadata": {},
     "output_type": "execute_result"
    }
   ],
   "source": [
    "#hide_input\n",
    "#md('##### {}'.format(titleBTC)) \n",
    "md(\"- {}{} {}{} [| Skaityti daugiau]({}) \".format(exchange['title'],'. ', exchange['body'], ' ...', exchange['url']))"
   ]
  },
  {
   "cell_type": "code",
   "execution_count": null,
   "id": "tender-livestock",
   "metadata": {
    "papermill": {
     "duration": 0.011609,
     "end_time": "2021-08-16T01:57:02.882050",
     "exception": false,
     "start_time": "2021-08-16T01:57:02.870441",
     "status": "completed"
    },
    "tags": []
   },
   "outputs": [],
   "source": []
  },
  {
   "cell_type": "code",
   "execution_count": null,
   "id": "appreciated-diamond",
   "metadata": {
    "papermill": {
     "duration": 0.010739,
     "end_time": "2021-08-16T01:57:02.904228",
     "exception": false,
     "start_time": "2021-08-16T01:57:02.893489",
     "status": "completed"
    },
    "tags": []
   },
   "outputs": [],
   "source": []
  },
  {
   "cell_type": "code",
   "execution_count": null,
   "id": "romance-sweden",
   "metadata": {
    "papermill": {
     "duration": 0.013412,
     "end_time": "2021-08-16T01:57:02.929782",
     "exception": false,
     "start_time": "2021-08-16T01:57:02.916370",
     "status": "completed"
    },
    "tags": []
   },
   "outputs": [],
   "source": []
  },
  {
   "cell_type": "code",
   "execution_count": null,
   "id": "dietary-statistics",
   "metadata": {
    "papermill": {
     "duration": 0.01215,
     "end_time": "2021-08-16T01:57:02.954318",
     "exception": false,
     "start_time": "2021-08-16T01:57:02.942168",
     "status": "completed"
    },
    "tags": []
   },
   "outputs": [],
   "source": []
  }
 ],
 "metadata": {
  "kernelspec": {
   "display_name": "Python 3",
   "language": "python",
   "name": "python3"
  },
  "language_info": {
   "codemirror_mode": {
    "name": "ipython",
    "version": 3
   },
   "file_extension": ".py",
   "mimetype": "text/x-python",
   "name": "python",
   "nbconvert_exporter": "python",
   "pygments_lexer": "ipython3",
   "version": "3.6.14"
  },
  "papermill": {
   "default_parameters": {},
   "duration": 11.60127,
   "end_time": "2021-08-16T01:57:03.372981",
   "environment_variables": {},
   "exception": null,
   "input_path": "Market-News.ipynb",
   "output_path": "Market-News.ipynb",
   "parameters": {},
   "start_time": "2021-08-16T01:56:51.771711",
   "version": "2.2.2"
  }
 },
 "nbformat": 4,
 "nbformat_minor": 5
}