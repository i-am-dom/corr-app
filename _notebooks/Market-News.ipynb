{
 "cells": [
  {
   "cell_type": "markdown",
   "id": "short-greensboro",
   "metadata": {
    "papermill": {
     "duration": 0.014674,
     "end_time": "2022-07-19T03:29:27.359079",
     "exception": false,
     "start_time": "2022-07-19T03:29:27.344405",
     "status": "completed"
    },
    "tags": []
   },
   "source": [
    "# Kriptovaliutų naujienos"
   ]
  },
  {
   "cell_type": "code",
   "execution_count": 1,
   "id": "functioning-knowing",
   "metadata": {
    "execution": {
     "iopub.execute_input": "2022-07-19T03:29:27.389541Z",
     "iopub.status.busy": "2022-07-19T03:29:27.388887Z",
     "iopub.status.idle": "2022-07-19T03:29:28.793027Z",
     "shell.execute_reply": "2022-07-19T03:29:28.792438Z"
    },
    "papermill": {
     "duration": 1.422535,
     "end_time": "2022-07-19T03:29:28.793190",
     "exception": false,
     "start_time": "2022-07-19T03:29:27.370655",
     "status": "completed"
    },
    "tags": []
   },
   "outputs": [],
   "source": [
    "#hide_input\n",
    "import warnings\n",
    "warnings.filterwarnings('ignore')\n",
    "from scripts.read_data import read_api\n",
    "from scripts.read_data import read_news\n",
    "from scripts.read_data import read_covid\n",
    "import matplotlib.pyplot as plt \n",
    "from IPython.display import Markdown as md"
   ]
  },
  {
   "cell_type": "code",
   "execution_count": 2,
   "id": "shared-acceptance",
   "metadata": {
    "execution": {
     "iopub.execute_input": "2022-07-19T03:29:28.821641Z",
     "iopub.status.busy": "2022-07-19T03:29:28.820950Z",
     "iopub.status.idle": "2022-07-19T03:29:43.641889Z",
     "shell.execute_reply": "2022-07-19T03:29:43.641086Z"
    },
    "papermill": {
     "duration": 14.838039,
     "end_time": "2022-07-19T03:29:43.642126",
     "exception": false,
     "start_time": "2022-07-19T03:29:28.804087",
     "status": "completed"
    },
    "tags": []
   },
   "outputs": [],
   "source": [
    "#hide_input\n",
    "blockchain = read_news('blockchain') \n",
    "btc = read_news('btc') \n",
    "xrp = read_news('xrp') \n",
    "trx = read_news('trx') \n",
    "eth = read_news('eth')  \n",
    "ada = read_news('ada')\n",
    "exchange = read_news('exchange') "
   ]
  },
  {
   "cell_type": "code",
   "execution_count": 3,
   "id": "synthetic-notion",
   "metadata": {
    "execution": {
     "iopub.execute_input": "2022-07-19T03:29:43.675058Z",
     "iopub.status.busy": "2022-07-19T03:29:43.674248Z",
     "iopub.status.idle": "2022-07-19T03:29:43.677679Z",
     "shell.execute_reply": "2022-07-19T03:29:43.678321Z"
    },
    "papermill": {
     "duration": 0.023573,
     "end_time": "2022-07-19T03:29:43.678492",
     "exception": false,
     "start_time": "2022-07-19T03:29:43.654919",
     "status": "completed"
    },
    "tags": []
   },
   "outputs": [
    {
     "data": {
      "text/markdown": [
       "- Premint Raided By Hackers, $375,000 Worth Of Assets Lost.  According to security information provided by CertiK, the Premint website—a well-known NFT whitelist platform—was compromised on Sunday. Losses resulting from the attack are believed to have cost about $375,000. Premint Attacked One of the biggest non-fungible token breaches of the year resulted in the theft from Premint NFT platform customers of at least 314 blockchain [&#8230;] ... [| Skaityti daugiau](https://bitcoinist.com/premint-raided-by-hackers-375000-worth-of-assets/) "
      ],
      "text/plain": [
       "<IPython.core.display.Markdown object>"
      ]
     },
     "execution_count": 3,
     "metadata": {},
     "output_type": "execute_result"
    }
   ],
   "source": [
    "#hide_input\n",
    "#md('##### {}'.format(titleBTC)) \n",
    "md(\"- {}{} {}{} [| Skaityti daugiau]({}) \".format(blockchain['title'],'. ', blockchain['body'], ' ...', blockchain['url']))"
   ]
  },
  {
   "cell_type": "code",
   "execution_count": 4,
   "id": "aging-caution",
   "metadata": {
    "execution": {
     "iopub.execute_input": "2022-07-19T03:29:43.706927Z",
     "iopub.status.busy": "2022-07-19T03:29:43.706178Z",
     "iopub.status.idle": "2022-07-19T03:29:43.709867Z",
     "shell.execute_reply": "2022-07-19T03:29:43.709382Z"
    },
    "papermill": {
     "duration": 0.021158,
     "end_time": "2022-07-19T03:29:43.709986",
     "exception": false,
     "start_time": "2022-07-19T03:29:43.688828",
     "status": "completed"
    },
    "tags": []
   },
   "outputs": [
    {
     "data": {
      "text/markdown": [
       "- TA: Bitcoin Price Smashes Resistance, Why $23K Could Be Next.  Bitcoin gained pace above the $22,000 resistance against the US Dollar. BTC could rise further towards $23,000 if it stays above the $21,500 support. Bitcoin is up over 5% and there was a move above the $22,000 resistance zone. The price is now trading above the $21,800 level and testing the 100 hourly simple moving average. There is a key connecting bullish trend line forming with support near $21,800 on the hourly chart of the BTC/USD pair (data feed from Kraken). The pair might continue to rise if it clears the $22,500 and $22,600 levels. Bitcoin Price Gains Momentum Bitcoin price remained supported above the $20,500 zone. The price started a decent increase and was able to clear the $21,500 resistance zone. The bulls even pumped the price above the $22,000 resistance zone. The price traded as high as $22,766 and settled above the 100 hourly simple moving average. Recently, there was a downside correction below the $22,500 level. Bitcoin dipped below the 50% Fib retracement level of the upward move from the $20,748 swing low to $22,766 high. However, the bulls were active near the $21,500 support zone and the 100 hourly simple moving average. The price stayed above the 61.8% Fib retracement level of the upward move from the $20,748 swing low to $22,766 high. There is also a key connecting bullish trend line forming with support near $21,800 on the hourly chart of the BTC/USD pair. On the upside, bitcoin price could resistan... ... [| Skaityti daugiau](https://www.newsbtc.com/analysis/btc/bitcoin-price-smashes-resistance-23k/) "
      ],
      "text/plain": [
       "<IPython.core.display.Markdown object>"
      ]
     },
     "execution_count": 4,
     "metadata": {},
     "output_type": "execute_result"
    }
   ],
   "source": [
    "#hide_input\n",
    "#md('##### {}'.format(titleBTC)) \n",
    "md(\"- {}{} {}{} [| Skaityti daugiau]({}) \".format(btc['title'],'. ', btc['body'], ' ...', btc['url']))"
   ]
  },
  {
   "cell_type": "code",
   "execution_count": 5,
   "id": "organic-actress",
   "metadata": {
    "execution": {
     "iopub.execute_input": "2022-07-19T03:29:43.737037Z",
     "iopub.status.busy": "2022-07-19T03:29:43.736355Z",
     "iopub.status.idle": "2022-07-19T03:29:43.741653Z",
     "shell.execute_reply": "2022-07-19T03:29:43.741091Z"
    },
    "papermill": {
     "duration": 0.02105,
     "end_time": "2022-07-19T03:29:43.741778",
     "exception": false,
     "start_time": "2022-07-19T03:29:43.720728",
     "status": "completed"
    },
    "tags": []
   },
   "outputs": [
    {
     "data": {
      "text/markdown": [
       "- Former Ripple CTO Jed McCaleb Sells Remaining XRP.  Former Ripple CTO Jed McCaleb has sold the last of his XRP holdings, according to a statement from the company today. McCaleb Empties XRP Wallet Ripple said in a blog... ... [| Skaityti daugiau](https://cryptobriefing.com/former-ripple-cto-jed-mccaleb-sells-remaining-xrp/?utm_source=feed&utm_medium=rss) "
      ],
      "text/plain": [
       "<IPython.core.display.Markdown object>"
      ]
     },
     "execution_count": 5,
     "metadata": {},
     "output_type": "execute_result"
    }
   ],
   "source": [
    "#hide_input\n",
    "#md('##### {}'.format(titleBTC)) \n",
    "md(\"- {}{} {}{} [| Skaityti daugiau]({}) \".format(xrp['title'],'. ', xrp['body'], ' ...', xrp['url']))"
   ]
  },
  {
   "cell_type": "code",
   "execution_count": 6,
   "id": "prompt-farmer",
   "metadata": {
    "execution": {
     "iopub.execute_input": "2022-07-19T03:29:43.772285Z",
     "iopub.status.busy": "2022-07-19T03:29:43.771571Z",
     "iopub.status.idle": "2022-07-19T03:29:43.775283Z",
     "shell.execute_reply": "2022-07-19T03:29:43.774610Z"
    },
    "papermill": {
     "duration": 0.021046,
     "end_time": "2022-07-19T03:29:43.775406",
     "exception": false,
     "start_time": "2022-07-19T03:29:43.754360",
     "status": "completed"
    },
    "tags": []
   },
   "outputs": [
    {
     "data": {
      "text/markdown": [
       "- Still want to hold on to TRX? Here’s why this level is worth looking out for.  Disclaimer: The findings of the following analysis are the sole opinions of the writer and should not be considered investment advice After registering double-digit gains in its rising wedge, Tron [TRX] saw an expected breakdown from its reversal pattern. The decline from the 50 EMA (cyan) helped sellers keep the buying pressure under check. An inability [&#8230;] ... [| Skaityti daugiau](https://ambcrypto.com/still-want-to-hold-on-to-trx-heres-why-this-level-is-worth-looking-out-for/) "
      ],
      "text/plain": [
       "<IPython.core.display.Markdown object>"
      ]
     },
     "execution_count": 6,
     "metadata": {},
     "output_type": "execute_result"
    }
   ],
   "source": [
    "#hide_input\n",
    "#md('##### {}'.format(titleBTC)) \n",
    "md(\"- {}{} {}{} [| Skaityti daugiau]({}) \".format(trx['title'],'. ', trx['body'], ' ...', trx['url']))"
   ]
  },
  {
   "cell_type": "code",
   "execution_count": 7,
   "id": "illegal-greece",
   "metadata": {
    "execution": {
     "iopub.execute_input": "2022-07-19T03:29:43.808075Z",
     "iopub.status.busy": "2022-07-19T03:29:43.807400Z",
     "iopub.status.idle": "2022-07-19T03:29:43.810957Z",
     "shell.execute_reply": "2022-07-19T03:29:43.810384Z"
    },
    "papermill": {
     "duration": 0.022073,
     "end_time": "2022-07-19T03:29:43.811086",
     "exception": false,
     "start_time": "2022-07-19T03:29:43.789013",
     "status": "completed"
    },
    "tags": []
   },
   "outputs": [
    {
     "data": {
      "text/markdown": [
       "- Solana: Reasons why SOL holders can celebrate over the weekend.  Solana has managed to show positive gains even during the crypto crisis in the second quarter of 2022. While the broader market drawdown has been prevalent across the entire market, Solana has retained users and activity from the previous quarter. The SOL token, however, has fallen well over 64% from its all-time high (ATH) of [&#8230;] ... [| Skaityti daugiau](https://ambcrypto.com/solana-reasons-why-sol-holders-can-celebrate-over-the-weekend/) "
      ],
      "text/plain": [
       "<IPython.core.display.Markdown object>"
      ]
     },
     "execution_count": 7,
     "metadata": {},
     "output_type": "execute_result"
    }
   ],
   "source": [
    "#hide_input\n",
    "#md('##### {}'.format(titleBTC)) \n",
    "md(\"- {}{} {}{} [| Skaityti daugiau]({}) \".format(eth['title'],'. ', eth['body'], ' ...', eth['url']))"
   ]
  },
  {
   "cell_type": "code",
   "execution_count": 8,
   "id": "sublime-lounge",
   "metadata": {
    "execution": {
     "iopub.execute_input": "2022-07-19T03:29:43.840248Z",
     "iopub.status.busy": "2022-07-19T03:29:43.838856Z",
     "iopub.status.idle": "2022-07-19T03:29:43.843702Z",
     "shell.execute_reply": "2022-07-19T03:29:43.844237Z"
    },
    "papermill": {
     "duration": 0.021597,
     "end_time": "2022-07-19T03:29:43.844368",
     "exception": false,
     "start_time": "2022-07-19T03:29:43.822771",
     "status": "completed"
    },
    "tags": []
   },
   "outputs": [
    {
     "data": {
      "text/markdown": [
       "- Cardano price analysis: ADA/USD targets $0.5 as bulls build up momentum.  Cardano price analysis is barely up by 1 percent today. The crypto asset’s price has largely been consolidating around current levels on the daily chart. Cardano recently found some support at $0.424, the bottom of a descending parallel channel. ADA/USD bulls pushed prices up to test the resistance at $0.46 but failed to sustain higher &#8230;  Cardano price analysis: ADA/USD targets $0.5 as bulls build up momentum Read More &#187; ... [| Skaityti daugiau](https://www.cryptopolitan.com/cardano-price-analysis-2022-07-17/) "
      ],
      "text/plain": [
       "<IPython.core.display.Markdown object>"
      ]
     },
     "execution_count": 8,
     "metadata": {},
     "output_type": "execute_result"
    }
   ],
   "source": [
    "#hide_input\n",
    "#md('##### {}'.format(titleBTC)) \n",
    "md(\"- {}{} {}{} [| Skaityti daugiau]({}) \".format(ada['title'],'. ', ada['body'], ' ...', ada['url']))"
   ]
  },
  {
   "cell_type": "code",
   "execution_count": 9,
   "id": "specified-ordering",
   "metadata": {
    "execution": {
     "iopub.execute_input": "2022-07-19T03:29:43.883150Z",
     "iopub.status.busy": "2022-07-19T03:29:43.882452Z",
     "iopub.status.idle": "2022-07-19T03:29:43.886589Z",
     "shell.execute_reply": "2022-07-19T03:29:43.885979Z"
    },
    "papermill": {
     "duration": 0.023004,
     "end_time": "2022-07-19T03:29:43.886723",
     "exception": false,
     "start_time": "2022-07-19T03:29:43.863719",
     "status": "completed"
    },
    "tags": []
   },
   "outputs": [
    {
     "data": {
      "text/markdown": [
       "- Binance slapped fine of more than 3 million Euro by Dutch Central Bank.  Binance has remained resilient despite the ongoing changes in the market. Its head Changpeng Zhao has expressed his trust in the company and shared plans to expand further. He was one of those CEOs who announced more vacancies instead of layoffs. Along with that, Binance also announced support for companies struggling due to financing problems. &#8230;  Binance slapped fine of more than 3 million Euro by Dutch Central Bank Read More &#187; ... [| Skaityti daugiau](https://www.cryptopolitan.com/binance-fined-more-than-3m-euro-by-dnb/) "
      ],
      "text/plain": [
       "<IPython.core.display.Markdown object>"
      ]
     },
     "execution_count": 9,
     "metadata": {},
     "output_type": "execute_result"
    }
   ],
   "source": [
    "#hide_input\n",
    "#md('##### {}'.format(titleBTC)) \n",
    "md(\"- {}{} {}{} [| Skaityti daugiau]({}) \".format(exchange['title'],'. ', exchange['body'], ' ...', exchange['url']))"
   ]
  },
  {
   "cell_type": "code",
   "execution_count": null,
   "id": "tender-livestock",
   "metadata": {
    "papermill": {
     "duration": 0.013066,
     "end_time": "2022-07-19T03:29:43.913159",
     "exception": false,
     "start_time": "2022-07-19T03:29:43.900093",
     "status": "completed"
    },
    "tags": []
   },
   "outputs": [],
   "source": []
  },
  {
   "cell_type": "code",
   "execution_count": null,
   "id": "appreciated-diamond",
   "metadata": {
    "papermill": {
     "duration": 0.012529,
     "end_time": "2022-07-19T03:29:43.938522",
     "exception": false,
     "start_time": "2022-07-19T03:29:43.925993",
     "status": "completed"
    },
    "tags": []
   },
   "outputs": [],
   "source": []
  },
  {
   "cell_type": "code",
   "execution_count": null,
   "id": "romance-sweden",
   "metadata": {
    "papermill": {
     "duration": 0.013222,
     "end_time": "2022-07-19T03:29:43.963936",
     "exception": false,
     "start_time": "2022-07-19T03:29:43.950714",
     "status": "completed"
    },
    "tags": []
   },
   "outputs": [],
   "source": []
  },
  {
   "cell_type": "code",
   "execution_count": null,
   "id": "dietary-statistics",
   "metadata": {
    "papermill": {
     "duration": 0.012253,
     "end_time": "2022-07-19T03:29:43.989267",
     "exception": false,
     "start_time": "2022-07-19T03:29:43.977014",
     "status": "completed"
    },
    "tags": []
   },
   "outputs": [],
   "source": []
  }
 ],
 "metadata": {
  "kernelspec": {
   "display_name": "Python 3",
   "language": "python",
   "name": "python3"
  },
  "language_info": {
   "codemirror_mode": {
    "name": "ipython",
    "version": 3
   },
   "file_extension": ".py",
   "mimetype": "text/x-python",
   "name": "python",
   "nbconvert_exporter": "python",
   "pygments_lexer": "ipython3",
   "version": "3.6.15"
  },
  "papermill": {
   "default_parameters": {},
   "duration": 18.460533,
   "end_time": "2022-07-19T03:29:44.524455",
   "environment_variables": {},
   "exception": null,
   "input_path": "Market-News.ipynb",
   "output_path": "Market-News.ipynb",
   "parameters": {},
   "start_time": "2022-07-19T03:29:26.063922",
   "version": "2.2.2"
  }
 },
 "nbformat": 4,
 "nbformat_minor": 5
}