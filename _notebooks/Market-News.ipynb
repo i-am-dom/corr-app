{
 "cells": [
  {
   "cell_type": "markdown",
   "id": "short-greensboro",
   "metadata": {
    "papermill": {
     "duration": 0.01335,
     "end_time": "2022-05-10T02:23:45.640851",
     "exception": false,
     "start_time": "2022-05-10T02:23:45.627501",
     "status": "completed"
    },
    "tags": []
   },
   "source": [
    "# Kriptovaliutų naujienos"
   ]
  },
  {
   "cell_type": "code",
   "execution_count": 1,
   "id": "functioning-knowing",
   "metadata": {
    "execution": {
     "iopub.execute_input": "2022-05-10T02:23:45.669379Z",
     "iopub.status.busy": "2022-05-10T02:23:45.668851Z",
     "iopub.status.idle": "2022-05-10T02:23:46.891095Z",
     "shell.execute_reply": "2022-05-10T02:23:46.890587Z"
    },
    "papermill": {
     "duration": 1.24085,
     "end_time": "2022-05-10T02:23:46.891241",
     "exception": false,
     "start_time": "2022-05-10T02:23:45.650391",
     "status": "completed"
    },
    "tags": []
   },
   "outputs": [],
   "source": [
    "#hide_input\n",
    "import warnings\n",
    "warnings.filterwarnings('ignore')\n",
    "from scripts.read_data import read_api\n",
    "from scripts.read_data import read_news\n",
    "from scripts.read_data import read_covid\n",
    "import matplotlib.pyplot as plt \n",
    "from IPython.display import Markdown as md"
   ]
  },
  {
   "cell_type": "code",
   "execution_count": 2,
   "id": "shared-acceptance",
   "metadata": {
    "execution": {
     "iopub.execute_input": "2022-05-10T02:23:46.915689Z",
     "iopub.status.busy": "2022-05-10T02:23:46.914814Z",
     "iopub.status.idle": "2022-05-10T02:23:57.334143Z",
     "shell.execute_reply": "2022-05-10T02:23:57.333605Z"
    },
    "papermill": {
     "duration": 10.433858,
     "end_time": "2022-05-10T02:23:57.334284",
     "exception": false,
     "start_time": "2022-05-10T02:23:46.900426",
     "status": "completed"
    },
    "tags": []
   },
   "outputs": [],
   "source": [
    "#hide_input\n",
    "blockchain = read_news('blockchain') \n",
    "btc = read_news('btc') \n",
    "xrp = read_news('xrp') \n",
    "trx = read_news('trx') \n",
    "eth = read_news('eth')  \n",
    "ada = read_news('ada')\n",
    "exchange = read_news('exchange') "
   ]
  },
  {
   "cell_type": "code",
   "execution_count": 3,
   "id": "synthetic-notion",
   "metadata": {
    "execution": {
     "iopub.execute_input": "2022-05-10T02:23:57.359925Z",
     "iopub.status.busy": "2022-05-10T02:23:57.359378Z",
     "iopub.status.idle": "2022-05-10T02:23:57.361343Z",
     "shell.execute_reply": "2022-05-10T02:23:57.361822Z"
    },
    "papermill": {
     "duration": 0.017425,
     "end_time": "2022-05-10T02:23:57.361940",
     "exception": false,
     "start_time": "2022-05-10T02:23:57.344515",
     "status": "completed"
    },
    "tags": []
   },
   "outputs": [
    {
     "data": {
      "text/markdown": [
       "- NUS Computing Joins Forces with TZ APAC to Develop Singapore’s Next Generation of Tech Innovators.  SINGAPORE, SG, 10th May, 2022, Today, TZ APAC, the leading Asia-based blockchain adoption entity supporting the Tezos ecosystem, announced a partnership with the National University of Singapore School of Computing (NUS Computing) to set up the Centre for Nurturing Computing Excellence. Led by Associate Professor Tan Sun Teck from NUS Computing, the new Centre will... ... [| Skaityti daugiau](https://www.cryptopolitan.com/nus-computing-joins-forces-with-tz-apac-to-develop-singapores-next-generation-of-tech-innovators/) "
      ],
      "text/plain": [
       "<IPython.core.display.Markdown object>"
      ]
     },
     "execution_count": 3,
     "metadata": {},
     "output_type": "execute_result"
    }
   ],
   "source": [
    "#hide_input\n",
    "#md('##### {}'.format(titleBTC)) \n",
    "md(\"- {}{} {}{} [| Skaityti daugiau]({}) \".format(blockchain['title'],'. ', blockchain['body'], ' ...', blockchain['url']))"
   ]
  },
  {
   "cell_type": "code",
   "execution_count": 4,
   "id": "aging-caution",
   "metadata": {
    "execution": {
     "iopub.execute_input": "2022-05-10T02:23:57.384483Z",
     "iopub.status.busy": "2022-05-10T02:23:57.383938Z",
     "iopub.status.idle": "2022-05-10T02:23:57.386498Z",
     "shell.execute_reply": "2022-05-10T02:23:57.386883Z"
    },
    "papermill": {
     "duration": 0.015849,
     "end_time": "2022-05-10T02:23:57.386999",
     "exception": false,
     "start_time": "2022-05-10T02:23:57.371150",
     "status": "completed"
    },
    "tags": []
   },
   "outputs": [
    {
     "data": {
      "text/markdown": [
       "- Three new crypto ETFs to begin trading in Australia this week.  Australians will soon have five options for cryptocurrency exchange-traded funds as the delayed funds from Cosmos and 21Shares launch this week along with 3iQ’s in the future. ... [| Skaityti daugiau](https://cointelegraph.com/news/three-new-crypto-etfs-to-begin-trading-in-australia-this-week) "
      ],
      "text/plain": [
       "<IPython.core.display.Markdown object>"
      ]
     },
     "execution_count": 4,
     "metadata": {},
     "output_type": "execute_result"
    }
   ],
   "source": [
    "#hide_input\n",
    "#md('##### {}'.format(titleBTC)) \n",
    "md(\"- {}{} {}{} [| Skaityti daugiau]({}) \".format(btc['title'],'. ', btc['body'], ' ...', btc['url']))"
   ]
  },
  {
   "cell_type": "code",
   "execution_count": 5,
   "id": "organic-actress",
   "metadata": {
    "execution": {
     "iopub.execute_input": "2022-05-10T02:23:57.410080Z",
     "iopub.status.busy": "2022-05-10T02:23:57.409581Z",
     "iopub.status.idle": "2022-05-10T02:23:57.412271Z",
     "shell.execute_reply": "2022-05-10T02:23:57.412747Z"
    },
    "papermill": {
     "duration": 0.016474,
     "end_time": "2022-05-10T02:23:57.412858",
     "exception": false,
     "start_time": "2022-05-10T02:23:57.396384",
     "status": "completed"
    },
    "tags": []
   },
   "outputs": [
    {
     "data": {
      "text/markdown": [
       "- XRP Sees Major Push In Asia As Leading Japanese Used Car Exporter Now Accepts XRP Payments.  This marks the very first time the XRP coin has been integrated into a cross-border e-commerce site in Japan. ... [| Skaityti daugiau](https://zycrypto.com/xrp-sees-major-push-in-asia-as-leading-japanese-used-car-exporter-now-accepts-xrp-payments/) "
      ],
      "text/plain": [
       "<IPython.core.display.Markdown object>"
      ]
     },
     "execution_count": 5,
     "metadata": {},
     "output_type": "execute_result"
    }
   ],
   "source": [
    "#hide_input\n",
    "#md('##### {}'.format(titleBTC)) \n",
    "md(\"- {}{} {}{} [| Skaityti daugiau]({}) \".format(xrp['title'],'. ', xrp['body'], ' ...', xrp['url']))"
   ]
  },
  {
   "cell_type": "code",
   "execution_count": 6,
   "id": "prompt-farmer",
   "metadata": {
    "execution": {
     "iopub.execute_input": "2022-05-10T02:23:57.436369Z",
     "iopub.status.busy": "2022-05-10T02:23:57.435875Z",
     "iopub.status.idle": "2022-05-10T02:23:57.438639Z",
     "shell.execute_reply": "2022-05-10T02:23:57.439108Z"
    },
    "papermill": {
     "duration": 0.016706,
     "end_time": "2022-05-10T02:23:57.439216",
     "exception": false,
     "start_time": "2022-05-10T02:23:57.422510",
     "status": "completed"
    },
    "tags": []
   },
   "outputs": [
    {
     "data": {
      "text/markdown": [
       "- Tron (TRX) Rises Despite Bearish Sentiments in the Crypto Market!.  Tron is a blockchain-based decentralized application platform that was founded by a non-profit foundation. The project was started to decentralize the entertainment industry, but now it has expanded to other industries and aims to cover the entire dApps market. It allows digital content creators to avoid mediators such as Google stores and Apple stores to &#8230; ... [| Skaityti daugiau](https://www.cryptonewsz.com/tron-rises-despite-bearish-sentiments-in-the-crypto-market/) "
      ],
      "text/plain": [
       "<IPython.core.display.Markdown object>"
      ]
     },
     "execution_count": 6,
     "metadata": {},
     "output_type": "execute_result"
    }
   ],
   "source": [
    "#hide_input\n",
    "#md('##### {}'.format(titleBTC)) \n",
    "md(\"- {}{} {}{} [| Skaityti daugiau]({}) \".format(trx['title'],'. ', trx['body'], ' ...', trx['url']))"
   ]
  },
  {
   "cell_type": "code",
   "execution_count": 7,
   "id": "illegal-greece",
   "metadata": {
    "execution": {
     "iopub.execute_input": "2022-05-10T02:23:57.463741Z",
     "iopub.status.busy": "2022-05-10T02:23:57.463243Z",
     "iopub.status.idle": "2022-05-10T02:23:57.465784Z",
     "shell.execute_reply": "2022-05-10T02:23:57.466208Z"
    },
    "papermill": {
     "duration": 0.01691,
     "end_time": "2022-05-10T02:23:57.466319",
     "exception": false,
     "start_time": "2022-05-10T02:23:57.449409",
     "status": "completed"
    },
    "tags": []
   },
   "outputs": [
    {
     "data": {
      "text/markdown": [
       "- Three new crypto ETFs to begin trading in Australia this week.  Australians will soon have five options for cryptocurrency exchange-traded funds as the delayed funds from Cosmos and 21Shares launch this week along with 3iQ’s in the future. ... [| Skaityti daugiau](https://cointelegraph.com/news/three-new-crypto-etfs-to-begin-trading-in-australia-this-week) "
      ],
      "text/plain": [
       "<IPython.core.display.Markdown object>"
      ]
     },
     "execution_count": 7,
     "metadata": {},
     "output_type": "execute_result"
    }
   ],
   "source": [
    "#hide_input\n",
    "#md('##### {}'.format(titleBTC)) \n",
    "md(\"- {}{} {}{} [| Skaityti daugiau]({}) \".format(eth['title'],'. ', eth['body'], ' ...', eth['url']))"
   ]
  },
  {
   "cell_type": "code",
   "execution_count": 8,
   "id": "sublime-lounge",
   "metadata": {
    "execution": {
     "iopub.execute_input": "2022-05-10T02:23:57.491220Z",
     "iopub.status.busy": "2022-05-10T02:23:57.490720Z",
     "iopub.status.idle": "2022-05-10T02:23:57.493464Z",
     "shell.execute_reply": "2022-05-10T02:23:57.493928Z"
    },
    "papermill": {
     "duration": 0.017419,
     "end_time": "2022-05-10T02:23:57.494038",
     "exception": false,
     "start_time": "2022-05-10T02:23:57.476619",
     "status": "completed"
    },
    "tags": []
   },
   "outputs": [
    {
     "data": {
      "text/markdown": [
       "- Cardano: Why ADA might be in for further correction as it breaches 2022 lows.  Just when you think that ADA can’t possibly go lower, the cryptocurrency market pulls a surprise bearish move, sending it to new 2022 lows. The cryptocurrency has now extended its decline by 45% from its April high. The latest bearish wave did not spare ADA despite the fact that it was already one of the [&#8230;] ... [| Skaityti daugiau](https://ambcrypto.com/cardano-why-ada-might-be-in-for-further-correction-as-it-breaches-2022-lows/) "
      ],
      "text/plain": [
       "<IPython.core.display.Markdown object>"
      ]
     },
     "execution_count": 8,
     "metadata": {},
     "output_type": "execute_result"
    }
   ],
   "source": [
    "#hide_input\n",
    "#md('##### {}'.format(titleBTC)) \n",
    "md(\"- {}{} {}{} [| Skaityti daugiau]({}) \".format(ada['title'],'. ', ada['body'], ' ...', ada['url']))"
   ]
  },
  {
   "cell_type": "code",
   "execution_count": 9,
   "id": "specified-ordering",
   "metadata": {
    "execution": {
     "iopub.execute_input": "2022-05-10T02:23:57.519579Z",
     "iopub.status.busy": "2022-05-10T02:23:57.519084Z",
     "iopub.status.idle": "2022-05-10T02:23:57.522320Z",
     "shell.execute_reply": "2022-05-10T02:23:57.521899Z"
    },
    "papermill": {
     "duration": 0.017783,
     "end_time": "2022-05-10T02:23:57.522440",
     "exception": false,
     "start_time": "2022-05-10T02:23:57.504657",
     "status": "completed"
    },
    "tags": []
   },
   "outputs": [
    {
     "data": {
      "text/markdown": [
       "- Bitcoin Exchange Inflows Hit Three-Month High As Market Braces For More Downside.  Bitcoin exchange inflows have been on the rise recently. Although there was a period where it had tapered off, it had continued to rise once more. The culmination of this has been a massive inflow into various centralized exchanges, presumably for investors to sell off their coins. Now the inflows have hit a new three-month high, painting a rather grim picture for the future of the digital asset. Inflows Take Over Bitcoin investors have been dumping their holdings since the digital asset started its descent from its $69,000 all-time high. Although outflows had rivaled inflows, the rate at which BTC was flowing into exchanges remained a cause for alarm. In a chart posted by Glasnode Alerts, it shows how inflows have been moving in relation to price. Following the historical pattern of inflows increasing when the price is down, the market had seen more and more bitcoins moved onto exchanges for sale. Related Reading &#124; APE Takes A Beating As It Sheds 50% Of Its Price The exchange inflow volume on a 7-day moving average touched a three-month high of 1,729.605 BTC flowing into exchanges. This inflow had ramped up after bitcoin had lost its footing above $36,000, a critical support level. 📈 #Bitcoin $BTC Exchange Inflow Volume (7d MA) just reached a 3-month high of 1,755.021 BTC Previous 3-month high of 1,729.605 BTC was observed on 08 May 2022 View metric:https://t.co/1S6EbDkdOO pic.twitter.com/8kSJPOLJXW &#8212; glassnode al... ... [| Skaityti daugiau](https://www.newsbtc.com/analysis/btc/bitcoin-exchange-inflows-hit-three-month-high-as-market-braces-for-more-downside/) "
      ],
      "text/plain": [
       "<IPython.core.display.Markdown object>"
      ]
     },
     "execution_count": 9,
     "metadata": {},
     "output_type": "execute_result"
    }
   ],
   "source": [
    "#hide_input\n",
    "#md('##### {}'.format(titleBTC)) \n",
    "md(\"- {}{} {}{} [| Skaityti daugiau]({}) \".format(exchange['title'],'. ', exchange['body'], ' ...', exchange['url']))"
   ]
  },
  {
   "cell_type": "code",
   "execution_count": null,
   "id": "tender-livestock",
   "metadata": {
    "papermill": {
     "duration": 0.010937,
     "end_time": "2022-05-10T02:23:57.544387",
     "exception": false,
     "start_time": "2022-05-10T02:23:57.533450",
     "status": "completed"
    },
    "tags": []
   },
   "outputs": [],
   "source": []
  },
  {
   "cell_type": "code",
   "execution_count": null,
   "id": "appreciated-diamond",
   "metadata": {
    "papermill": {
     "duration": 0.011021,
     "end_time": "2022-05-10T02:23:57.566596",
     "exception": false,
     "start_time": "2022-05-10T02:23:57.555575",
     "status": "completed"
    },
    "tags": []
   },
   "outputs": [],
   "source": []
  },
  {
   "cell_type": "code",
   "execution_count": null,
   "id": "romance-sweden",
   "metadata": {
    "papermill": {
     "duration": 0.010951,
     "end_time": "2022-05-10T02:23:57.589611",
     "exception": false,
     "start_time": "2022-05-10T02:23:57.578660",
     "status": "completed"
    },
    "tags": []
   },
   "outputs": [],
   "source": []
  },
  {
   "cell_type": "code",
   "execution_count": null,
   "id": "dietary-statistics",
   "metadata": {
    "papermill": {
     "duration": 0.011071,
     "end_time": "2022-05-10T02:23:57.611786",
     "exception": false,
     "start_time": "2022-05-10T02:23:57.600715",
     "status": "completed"
    },
    "tags": []
   },
   "outputs": [],
   "source": []
  }
 ],
 "metadata": {
  "kernelspec": {
   "display_name": "Python 3",
   "language": "python",
   "name": "python3"
  },
  "language_info": {
   "codemirror_mode": {
    "name": "ipython",
    "version": 3
   },
   "file_extension": ".py",
   "mimetype": "text/x-python",
   "name": "python",
   "nbconvert_exporter": "python",
   "pygments_lexer": "ipython3",
   "version": "3.6.15"
  },
  "papermill": {
   "default_parameters": {},
   "duration": 13.436709,
   "end_time": "2022-05-10T02:23:58.142420",
   "environment_variables": {},
   "exception": null,
   "input_path": "Market-News.ipynb",
   "output_path": "Market-News.ipynb",
   "parameters": {},
   "start_time": "2022-05-10T02:23:44.705711",
   "version": "2.2.2"
  }
 },
 "nbformat": 4,
 "nbformat_minor": 5
}