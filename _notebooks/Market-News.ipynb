{
 "cells": [
  {
   "cell_type": "markdown",
   "id": "short-greensboro",
   "metadata": {
    "papermill": {
     "duration": 0.016708,
     "end_time": "2021-07-20T02:05:47.120213",
     "exception": false,
     "start_time": "2021-07-20T02:05:47.103505",
     "status": "completed"
    },
    "tags": []
   },
   "source": [
    "# Kriptovaliutų naujienos"
   ]
  },
  {
   "cell_type": "code",
   "execution_count": 1,
   "id": "functioning-knowing",
   "metadata": {
    "execution": {
     "iopub.execute_input": "2021-07-20T02:05:47.153376Z",
     "iopub.status.busy": "2021-07-20T02:05:47.152764Z",
     "iopub.status.idle": "2021-07-20T02:05:48.537539Z",
     "shell.execute_reply": "2021-07-20T02:05:48.537026Z"
    },
    "papermill": {
     "duration": 1.406382,
     "end_time": "2021-07-20T02:05:48.537689",
     "exception": false,
     "start_time": "2021-07-20T02:05:47.131307",
     "status": "completed"
    },
    "tags": []
   },
   "outputs": [],
   "source": [
    "#hide_input\n",
    "import warnings\n",
    "warnings.filterwarnings('ignore')\n",
    "from scripts.read_data import read_api\n",
    "from scripts.read_data import read_news\n",
    "from scripts.read_data import read_covid\n",
    "import matplotlib.pyplot as plt \n",
    "from IPython.display import Markdown as md"
   ]
  },
  {
   "cell_type": "code",
   "execution_count": 2,
   "id": "shared-acceptance",
   "metadata": {
    "execution": {
     "iopub.execute_input": "2021-07-20T02:05:48.567537Z",
     "iopub.status.busy": "2021-07-20T02:05:48.566943Z",
     "iopub.status.idle": "2021-07-20T02:05:56.143421Z",
     "shell.execute_reply": "2021-07-20T02:05:56.142915Z"
    },
    "papermill": {
     "duration": 7.59539,
     "end_time": "2021-07-20T02:05:56.143554",
     "exception": false,
     "start_time": "2021-07-20T02:05:48.548164",
     "status": "completed"
    },
    "tags": []
   },
   "outputs": [],
   "source": [
    "#hide_input\n",
    "blockchain = read_news('blockchain') \n",
    "btc = read_news('btc') \n",
    "xrp = read_news('xrp') \n",
    "trx = read_news('trx') \n",
    "eth = read_news('eth')  \n",
    "ada = read_news('ada')\n",
    "exchange = read_news('exchange') "
   ]
  },
  {
   "cell_type": "code",
   "execution_count": 3,
   "id": "synthetic-notion",
   "metadata": {
    "execution": {
     "iopub.execute_input": "2021-07-20T02:05:56.172237Z",
     "iopub.status.busy": "2021-07-20T02:05:56.171659Z",
     "iopub.status.idle": "2021-07-20T02:05:56.174725Z",
     "shell.execute_reply": "2021-07-20T02:05:56.174238Z"
    },
    "papermill": {
     "duration": 0.020715,
     "end_time": "2021-07-20T02:05:56.174844",
     "exception": false,
     "start_time": "2021-07-20T02:05:56.154129",
     "status": "completed"
    },
    "tags": []
   },
   "outputs": [
    {
     "data": {
      "text/markdown": [
       "- Why This Token Thrives With A 38% Profit While Bitcoin And Ethereum Bleed.  Algorithmic currency protocol OlympusDAO (OHM) has been outperforming Bitcoin and Ethereum despite the recent downtrend. In the 7-day and 30-day charts, OHM records a 38% and 126% profit, respectively. A report published by Delphi Digital concludes that OHM has been displaying countercyclical behavior. As reported by NewsBTC back in April, this protocol took the market [&#8230;] ... [| Skaityti daugiau](https://www.newsbtc.com/news/defi/token-thrives-bitcoin-and-ethereum-bleed/) "
      ],
      "text/plain": [
       "<IPython.core.display.Markdown object>"
      ]
     },
     "execution_count": 3,
     "metadata": {},
     "output_type": "execute_result"
    }
   ],
   "source": [
    "#hide_input\n",
    "#md('##### {}'.format(titleBTC)) \n",
    "md(\"- {}{} {}{} [| Skaityti daugiau]({}) \".format(blockchain['title'],'. ', blockchain['body'], ' ...', blockchain['url']))"
   ]
  },
  {
   "cell_type": "code",
   "execution_count": 4,
   "id": "aging-caution",
   "metadata": {
    "execution": {
     "iopub.execute_input": "2021-07-20T02:05:56.201050Z",
     "iopub.status.busy": "2021-07-20T02:05:56.200460Z",
     "iopub.status.idle": "2021-07-20T02:05:56.203246Z",
     "shell.execute_reply": "2021-07-20T02:05:56.203773Z"
    },
    "papermill": {
     "duration": 0.018525,
     "end_time": "2021-07-20T02:05:56.203906",
     "exception": false,
     "start_time": "2021-07-20T02:05:56.185381",
     "status": "completed"
    },
    "tags": []
   },
   "outputs": [
    {
     "data": {
      "text/markdown": [
       "- Dogecoin: Will it outgrow its reliance on Elon Musk to trigger growth.  In a short span, Dogecoin (DOGE), the meme-based cryptocurrency, emerged as one of the best performing cryptocurrencies, recording massive year-to-date growth. While the jokes, memes and speculations around the coin continue, DOGE&#8217;s gains pushed it &#8220;to the moon.&#8221; According to CoinGecko&#8217;s latest quarterly cryptocurrency report, &#8220;In Q2, the market entered into a meme frenzy. Dogecoin [&#8230;] ... [| Skaityti daugiau](https://ambcrypto.com/dogecoin-will-it-outgrow-its-reliance-on-elon-musk-to-trigger-growth/) "
      ],
      "text/plain": [
       "<IPython.core.display.Markdown object>"
      ]
     },
     "execution_count": 4,
     "metadata": {},
     "output_type": "execute_result"
    }
   ],
   "source": [
    "#hide_input\n",
    "#md('##### {}'.format(titleBTC)) \n",
    "md(\"- {}{} {}{} [| Skaityti daugiau]({}) \".format(btc['title'],'. ', btc['body'], ' ...', btc['url']))"
   ]
  },
  {
   "cell_type": "code",
   "execution_count": 5,
   "id": "organic-actress",
   "metadata": {
    "execution": {
     "iopub.execute_input": "2021-07-20T02:05:56.232007Z",
     "iopub.status.busy": "2021-07-20T02:05:56.230850Z",
     "iopub.status.idle": "2021-07-20T02:05:56.235260Z",
     "shell.execute_reply": "2021-07-20T02:05:56.234775Z"
    },
    "papermill": {
     "duration": 0.020591,
     "end_time": "2021-07-20T02:05:56.235378",
     "exception": false,
     "start_time": "2021-07-20T02:05:56.214787",
     "status": "completed"
    },
    "tags": []
   },
   "outputs": [
    {
     "data": {
      "text/markdown": [
       "- XRP Lawsuit: Why was Hinman’s deposition pushed?.  The deposition of former Securities and Exchange Commission [SEC] Director of Corporate Finance, William Hinman has been postponed to 27 July 2021. The same was earlier scheduled to take place on Monday but both parties, that is, Ripple and the SEC, plan to conduct an additional meet in the next few days, to zero-in on [&#8230;] ... [| Skaityti daugiau](https://ambcrypto.com/xrp-lawsuit-why-was-hinmans-deposition-pushed/) "
      ],
      "text/plain": [
       "<IPython.core.display.Markdown object>"
      ]
     },
     "execution_count": 5,
     "metadata": {},
     "output_type": "execute_result"
    }
   ],
   "source": [
    "#hide_input\n",
    "#md('##### {}'.format(titleBTC)) \n",
    "md(\"- {}{} {}{} [| Skaityti daugiau]({}) \".format(xrp['title'],'. ', xrp['body'], ' ...', xrp['url']))"
   ]
  },
  {
   "cell_type": "code",
   "execution_count": 6,
   "id": "prompt-farmer",
   "metadata": {
    "execution": {
     "iopub.execute_input": "2021-07-20T02:05:56.263541Z",
     "iopub.status.busy": "2021-07-20T02:05:56.262969Z",
     "iopub.status.idle": "2021-07-20T02:05:56.265822Z",
     "shell.execute_reply": "2021-07-20T02:05:56.266282Z"
    },
    "papermill": {
     "duration": 0.019654,
     "end_time": "2021-07-20T02:05:56.266417",
     "exception": false,
     "start_time": "2021-07-20T02:05:56.246763",
     "status": "completed"
    },
    "tags": []
   },
   "outputs": [
    {
     "data": {
      "text/markdown": [
       "- What lesson did Jax.Network learn from the Tron problem?.  On the 11th of August 2018, Tron (TRX) introduced a Delegated Proof-of-Stake (DPoS) consensus mechanism to replace the existing Proof-of-Stake algorithm for the Tron network. The DPoS system extends the PoS method, which uses an ongoing voting and reputation system to achieve consensus. Community members vote for their respective super representatives, who would then verify [&#8230;] ... [| Skaityti daugiau](https://www.cryptopolitan.com/what-lesson-did-jax-network-learn-from-the-tron-problem/) "
      ],
      "text/plain": [
       "<IPython.core.display.Markdown object>"
      ]
     },
     "execution_count": 6,
     "metadata": {},
     "output_type": "execute_result"
    }
   ],
   "source": [
    "#hide_input\n",
    "#md('##### {}'.format(titleBTC)) \n",
    "md(\"- {}{} {}{} [| Skaityti daugiau]({}) \".format(trx['title'],'. ', trx['body'], ' ...', trx['url']))"
   ]
  },
  {
   "cell_type": "code",
   "execution_count": 7,
   "id": "illegal-greece",
   "metadata": {
    "execution": {
     "iopub.execute_input": "2021-07-20T02:05:56.295156Z",
     "iopub.status.busy": "2021-07-20T02:05:56.294581Z",
     "iopub.status.idle": "2021-07-20T02:05:56.298442Z",
     "shell.execute_reply": "2021-07-20T02:05:56.297984Z"
    },
    "papermill": {
     "duration": 0.020363,
     "end_time": "2021-07-20T02:05:56.298561",
     "exception": false,
     "start_time": "2021-07-20T02:05:56.278198",
     "status": "completed"
    },
    "tags": []
   },
   "outputs": [
    {
     "data": {
      "text/markdown": [
       "- Ethereum price analysis: ETH losing lower support amid weak price action near $1,810.  TL;DR Breakdown Ethereum price analysis confined within a tight range near $1,819 For the third consecutive time this week, Ethereum &#8211; ether&#8217;s native cryptocurrency &#8211; opened with a negative move. Market forces continue to increase the selling pressure behind ETH. Buying the dip right now looks like a good idea. Ethereum price analysis continue to [&#8230;] ... [| Skaityti daugiau](https://www.cryptopolitan.com/ethereum-price-analysis-2021-07-19-2/) "
      ],
      "text/plain": [
       "<IPython.core.display.Markdown object>"
      ]
     },
     "execution_count": 7,
     "metadata": {},
     "output_type": "execute_result"
    }
   ],
   "source": [
    "#hide_input\n",
    "#md('##### {}'.format(titleBTC)) \n",
    "md(\"- {}{} {}{} [| Skaityti daugiau]({}) \".format(eth['title'],'. ', eth['body'], ' ...', eth['url']))"
   ]
  },
  {
   "cell_type": "code",
   "execution_count": 8,
   "id": "sublime-lounge",
   "metadata": {
    "execution": {
     "iopub.execute_input": "2021-07-20T02:05:56.327398Z",
     "iopub.status.busy": "2021-07-20T02:05:56.326074Z",
     "iopub.status.idle": "2021-07-20T02:05:56.330757Z",
     "shell.execute_reply": "2021-07-20T02:05:56.330254Z"
    },
    "papermill": {
     "duration": 0.020398,
     "end_time": "2021-07-20T02:05:56.330888",
     "exception": false,
     "start_time": "2021-07-20T02:05:56.310490",
     "status": "completed"
    },
    "tags": []
   },
   "outputs": [
    {
     "data": {
      "text/markdown": [
       "- XRP, Dogecoin, Cardano Price Analysis: 19 July.  The broader cryptocurrency market showed signs of trading in the green just 24 hours back, however, it was a slow day today. Most altcoins demonstrated market weakness with mainly sideways movement, barring all stable coins, many altcoins dipped marginally. XRP’s market capitalization fell by 5.96% with a sharp fall in capital inflows, DOGE’s trading volume [&#8230;] ... [| Skaityti daugiau](https://ambcrypto.com/xrp-dogecoin-cardano-price-analysis-19-july/) "
      ],
      "text/plain": [
       "<IPython.core.display.Markdown object>"
      ]
     },
     "execution_count": 8,
     "metadata": {},
     "output_type": "execute_result"
    }
   ],
   "source": [
    "#hide_input\n",
    "#md('##### {}'.format(titleBTC)) \n",
    "md(\"- {}{} {}{} [| Skaityti daugiau]({}) \".format(ada['title'],'. ', ada['body'], ' ...', ada['url']))"
   ]
  },
  {
   "cell_type": "code",
   "execution_count": 9,
   "id": "specified-ordering",
   "metadata": {
    "execution": {
     "iopub.execute_input": "2021-07-20T02:05:56.361274Z",
     "iopub.status.busy": "2021-07-20T02:05:56.360702Z",
     "iopub.status.idle": "2021-07-20T02:05:56.364006Z",
     "shell.execute_reply": "2021-07-20T02:05:56.363524Z"
    },
    "papermill": {
     "duration": 0.020929,
     "end_time": "2021-07-20T02:05:56.364120",
     "exception": false,
     "start_time": "2021-07-20T02:05:56.343191",
     "status": "completed"
    },
    "tags": []
   },
   "outputs": [
    {
     "data": {
      "text/markdown": [
       "- U.S. Government Puts Up $10 Million Bounty In Crypto.  The U.S. Department of State has put out an offer for a bounty in crypto up to the tune of $10 million in exchange for actionable information on cyberattacks that are carried out by foreign governments. This will be the first time that the U.S. government has embraced the use of cryptocurrencies to pay for [&#8230;] ... [| Skaityti daugiau](https://www.newsbtc.com/news/us-government-bounty-in-crypto/) "
      ],
      "text/plain": [
       "<IPython.core.display.Markdown object>"
      ]
     },
     "execution_count": 9,
     "metadata": {},
     "output_type": "execute_result"
    }
   ],
   "source": [
    "#hide_input\n",
    "#md('##### {}'.format(titleBTC)) \n",
    "md(\"- {}{} {}{} [| Skaityti daugiau]({}) \".format(exchange['title'],'. ', exchange['body'], ' ...', exchange['url']))"
   ]
  },
  {
   "cell_type": "code",
   "execution_count": null,
   "id": "tender-livestock",
   "metadata": {
    "papermill": {
     "duration": 0.012688,
     "end_time": "2021-07-20T02:05:56.389543",
     "exception": false,
     "start_time": "2021-07-20T02:05:56.376855",
     "status": "completed"
    },
    "tags": []
   },
   "outputs": [],
   "source": []
  },
  {
   "cell_type": "code",
   "execution_count": null,
   "id": "appreciated-diamond",
   "metadata": {
    "papermill": {
     "duration": 0.012734,
     "end_time": "2021-07-20T02:05:56.415093",
     "exception": false,
     "start_time": "2021-07-20T02:05:56.402359",
     "status": "completed"
    },
    "tags": []
   },
   "outputs": [],
   "source": []
  },
  {
   "cell_type": "code",
   "execution_count": null,
   "id": "romance-sweden",
   "metadata": {
    "papermill": {
     "duration": 0.012676,
     "end_time": "2021-07-20T02:05:56.440476",
     "exception": false,
     "start_time": "2021-07-20T02:05:56.427800",
     "status": "completed"
    },
    "tags": []
   },
   "outputs": [],
   "source": []
  },
  {
   "cell_type": "code",
   "execution_count": null,
   "id": "dietary-statistics",
   "metadata": {
    "papermill": {
     "duration": 0.012571,
     "end_time": "2021-07-20T02:05:56.465716",
     "exception": false,
     "start_time": "2021-07-20T02:05:56.453145",
     "status": "completed"
    },
    "tags": []
   },
   "outputs": [],
   "source": []
  }
 ],
 "metadata": {
  "kernelspec": {
   "display_name": "Python 3",
   "language": "python",
   "name": "python3"
  },
  "language_info": {
   "codemirror_mode": {
    "name": "ipython",
    "version": 3
   },
   "file_extension": ".py",
   "mimetype": "text/x-python",
   "name": "python",
   "nbconvert_exporter": "python",
   "pygments_lexer": "ipython3",
   "version": "3.6.14"
  },
  "papermill": {
   "default_parameters": {},
   "duration": 11.136298,
   "end_time": "2021-07-20T02:05:56.986114",
   "environment_variables": {},
   "exception": null,
   "input_path": "Market-News.ipynb",
   "output_path": "Market-News.ipynb",
   "parameters": {},
   "start_time": "2021-07-20T02:05:45.849816",
   "version": "2.2.2"
  }
 },
 "nbformat": 4,
 "nbformat_minor": 5
}