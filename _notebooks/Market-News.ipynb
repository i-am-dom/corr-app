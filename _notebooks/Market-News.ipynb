{
 "cells": [
  {
   "cell_type": "markdown",
   "id": "short-greensboro",
   "metadata": {
    "papermill": {
     "duration": 0.01546,
     "end_time": "2021-10-23T02:04:42.245812",
     "exception": false,
     "start_time": "2021-10-23T02:04:42.230352",
     "status": "completed"
    },
    "tags": []
   },
   "source": [
    "# Kriptovaliutų naujienos"
   ]
  },
  {
   "cell_type": "code",
   "execution_count": 1,
   "id": "functioning-knowing",
   "metadata": {
    "execution": {
     "iopub.execute_input": "2021-10-23T02:04:42.279596Z",
     "iopub.status.busy": "2021-10-23T02:04:42.274562Z",
     "iopub.status.idle": "2021-10-23T02:04:43.610691Z",
     "shell.execute_reply": "2021-10-23T02:04:43.609726Z"
    },
    "papermill": {
     "duration": 1.354468,
     "end_time": "2021-10-23T02:04:43.610945",
     "exception": false,
     "start_time": "2021-10-23T02:04:42.256477",
     "status": "completed"
    },
    "tags": []
   },
   "outputs": [],
   "source": [
    "#hide_input\n",
    "import warnings\n",
    "warnings.filterwarnings('ignore')\n",
    "from scripts.read_data import read_api\n",
    "from scripts.read_data import read_news\n",
    "from scripts.read_data import read_covid\n",
    "import matplotlib.pyplot as plt \n",
    "from IPython.display import Markdown as md"
   ]
  },
  {
   "cell_type": "code",
   "execution_count": 2,
   "id": "shared-acceptance",
   "metadata": {
    "execution": {
     "iopub.execute_input": "2021-10-23T02:04:43.639659Z",
     "iopub.status.busy": "2021-10-23T02:04:43.639047Z",
     "iopub.status.idle": "2021-10-23T02:04:51.557861Z",
     "shell.execute_reply": "2021-10-23T02:04:51.557304Z"
    },
    "papermill": {
     "duration": 7.936218,
     "end_time": "2021-10-23T02:04:51.558004",
     "exception": false,
     "start_time": "2021-10-23T02:04:43.621786",
     "status": "completed"
    },
    "tags": []
   },
   "outputs": [],
   "source": [
    "#hide_input\n",
    "blockchain = read_news('blockchain') \n",
    "btc = read_news('btc') \n",
    "xrp = read_news('xrp') \n",
    "trx = read_news('trx') \n",
    "eth = read_news('eth')  \n",
    "ada = read_news('ada')\n",
    "exchange = read_news('exchange') "
   ]
  },
  {
   "cell_type": "code",
   "execution_count": 3,
   "id": "synthetic-notion",
   "metadata": {
    "execution": {
     "iopub.execute_input": "2021-10-23T02:04:51.586218Z",
     "iopub.status.busy": "2021-10-23T02:04:51.585612Z",
     "iopub.status.idle": "2021-10-23T02:04:51.587941Z",
     "shell.execute_reply": "2021-10-23T02:04:51.588433Z"
    },
    "papermill": {
     "duration": 0.019607,
     "end_time": "2021-10-23T02:04:51.588570",
     "exception": false,
     "start_time": "2021-10-23T02:04:51.568963",
     "status": "completed"
    },
    "tags": []
   },
   "outputs": [
    {
     "data": {
      "text/markdown": [
       "- Mike Novogratz: $XRP Community ‘Damn Resilient’ in the Face of SEC’s Lawsuit.  Billionaire investor Mike Novogratz says a “new phenomenon” of community resilience has led XRP’s price to triple despite an ongoing lawsuit by the U.S. Securities and Exchange Commission (SEC). Former hedge fund manager Novogratz is the Founder and CEO of Galaxy Digital, “a diversified financial services and investment management innovator in the digital asset, cryptocurrency, and blockchain […] ... [| Skaityti daugiau](https://www.cryptoglobe.com/latest/2021/10/mike-novogratz-xrp-community-damn-resilient-in-the-face-of-secs-lawsuit/) "
      ],
      "text/plain": [
       "<IPython.core.display.Markdown object>"
      ]
     },
     "execution_count": 3,
     "metadata": {},
     "output_type": "execute_result"
    }
   ],
   "source": [
    "#hide_input\n",
    "#md('##### {}'.format(titleBTC)) \n",
    "md(\"- {}{} {}{} [| Skaityti daugiau]({}) \".format(blockchain['title'],'. ', blockchain['body'], ' ...', blockchain['url']))"
   ]
  },
  {
   "cell_type": "code",
   "execution_count": 4,
   "id": "aging-caution",
   "metadata": {
    "execution": {
     "iopub.execute_input": "2021-10-23T02:04:51.617643Z",
     "iopub.status.busy": "2021-10-23T02:04:51.616718Z",
     "iopub.status.idle": "2021-10-23T02:04:51.621714Z",
     "shell.execute_reply": "2021-10-23T02:04:51.621237Z"
    },
    "papermill": {
     "duration": 0.022705,
     "end_time": "2021-10-23T02:04:51.621837",
     "exception": false,
     "start_time": "2021-10-23T02:04:51.599132",
     "status": "completed"
    },
    "tags": []
   },
   "outputs": [
    {
     "data": {
      "text/markdown": [
       "- Bitcoin price consolidation leans toward ‘another leg higher’.  Bitcoin is a way off from its $67,000 all-time high, but analysts say historical data and fractals point toward “another leg” up.  ... [| Skaityti daugiau](https://cointelegraph.com/news/bitcoin-price-consolidation-leans-toward-another-leg-higher) "
      ],
      "text/plain": [
       "<IPython.core.display.Markdown object>"
      ]
     },
     "execution_count": 4,
     "metadata": {},
     "output_type": "execute_result"
    }
   ],
   "source": [
    "#hide_input\n",
    "#md('##### {}'.format(titleBTC)) \n",
    "md(\"- {}{} {}{} [| Skaityti daugiau]({}) \".format(btc['title'],'. ', btc['body'], ' ...', btc['url']))"
   ]
  },
  {
   "cell_type": "code",
   "execution_count": 5,
   "id": "organic-actress",
   "metadata": {
    "execution": {
     "iopub.execute_input": "2021-10-23T02:04:51.649269Z",
     "iopub.status.busy": "2021-10-23T02:04:51.648101Z",
     "iopub.status.idle": "2021-10-23T02:04:51.652413Z",
     "shell.execute_reply": "2021-10-23T02:04:51.651941Z"
    },
    "papermill": {
     "duration": 0.01978,
     "end_time": "2021-10-23T02:04:51.652538",
     "exception": false,
     "start_time": "2021-10-23T02:04:51.632758",
     "status": "completed"
    },
    "tags": []
   },
   "outputs": [
    {
     "data": {
      "text/markdown": [
       "- Here’s Ripple CEO’s take on firm’s ‘record year,’ despite SEC’s ‘headwinds’.  Ripple Labs has been entangled in a lawsuit with the United States Securities and Exchange Commission for almost a year now. While the case has opened the doors for a wider conversation on the country&#8217;s securities laws and how they pertain to digital assets, the company has undoubtedly lost out on a lot of business [&#8230;] ... [| Skaityti daugiau](https://ambcrypto.com/heres-ripple-ceos-take-on-firms-record-year-despite-secs-headwinds/) "
      ],
      "text/plain": [
       "<IPython.core.display.Markdown object>"
      ]
     },
     "execution_count": 5,
     "metadata": {},
     "output_type": "execute_result"
    }
   ],
   "source": [
    "#hide_input\n",
    "#md('##### {}'.format(titleBTC)) \n",
    "md(\"- {}{} {}{} [| Skaityti daugiau]({}) \".format(xrp['title'],'. ', xrp['body'], ' ...', xrp['url']))"
   ]
  },
  {
   "cell_type": "code",
   "execution_count": 6,
   "id": "prompt-farmer",
   "metadata": {
    "execution": {
     "iopub.execute_input": "2021-10-23T02:04:51.681262Z",
     "iopub.status.busy": "2021-10-23T02:04:51.680662Z",
     "iopub.status.idle": "2021-10-23T02:04:51.684094Z",
     "shell.execute_reply": "2021-10-23T02:04:51.683590Z"
    },
    "papermill": {
     "duration": 0.020255,
     "end_time": "2021-10-23T02:04:51.684218",
     "exception": false,
     "start_time": "2021-10-23T02:04:51.663963",
     "status": "completed"
    },
    "tags": []
   },
   "outputs": [
    {
     "data": {
      "text/markdown": [
       "- Shiba Inu, Tron, Uniswap Price Analysis: 20 October.  While Bitcoin hits the $63,000 mark, altcoins like SHIB and UNI show bearish signs. However, TRX seemed to follow in the footsteps of the King coin and showing some signs of recovery on the charts. Nevertheless, all of these coins show weak directional price trends in the near term. SHIB SHIB saw a 2.26% decrease [&#8230;] ... [| Skaityti daugiau](https://ambcrypto.com/shiba-inu-tron-uniswap-price-analysis-20-october/) "
      ],
      "text/plain": [
       "<IPython.core.display.Markdown object>"
      ]
     },
     "execution_count": 6,
     "metadata": {},
     "output_type": "execute_result"
    }
   ],
   "source": [
    "#hide_input\n",
    "#md('##### {}'.format(titleBTC)) \n",
    "md(\"- {}{} {}{} [| Skaityti daugiau]({}) \".format(trx['title'],'. ', trx['body'], ' ...', trx['url']))"
   ]
  },
  {
   "cell_type": "code",
   "execution_count": 7,
   "id": "illegal-greece",
   "metadata": {
    "execution": {
     "iopub.execute_input": "2021-10-23T02:04:51.713789Z",
     "iopub.status.busy": "2021-10-23T02:04:51.712347Z",
     "iopub.status.idle": "2021-10-23T02:04:51.717604Z",
     "shell.execute_reply": "2021-10-23T02:04:51.717131Z"
    },
    "papermill": {
     "duration": 0.02155,
     "end_time": "2021-10-23T02:04:51.717728",
     "exception": false,
     "start_time": "2021-10-23T02:04:51.696178",
     "status": "completed"
    },
    "tags": []
   },
   "outputs": [
    {
     "data": {
      "text/markdown": [
       "- Reddit Wants To Build NFT Platform, A Job Posting Shows Why.  Reddit seems to be working on building an NFT marketplace platform. A job posting made to look for new team members shows they envision and focus on creating “the largest creator economy on the internet”. Reddit made a job posting for a Senior Backend Engineer to build an NFT platform of their own. They are [&#8230;] ... [| Skaityti daugiau](https://bitcoinist.com/why-reddit-wants-to-build-nft-platform-a-job-posting-shows-why/?utm_source=rss&utm_medium=rss&utm_campaign=why-reddit-wants-to-build-nft-platform-a-job-posting-shows-why) "
      ],
      "text/plain": [
       "<IPython.core.display.Markdown object>"
      ]
     },
     "execution_count": 7,
     "metadata": {},
     "output_type": "execute_result"
    }
   ],
   "source": [
    "#hide_input\n",
    "#md('##### {}'.format(titleBTC)) \n",
    "md(\"- {}{} {}{} [| Skaityti daugiau]({}) \".format(eth['title'],'. ', eth['body'], ' ...', eth['url']))"
   ]
  },
  {
   "cell_type": "code",
   "execution_count": 8,
   "id": "sublime-lounge",
   "metadata": {
    "execution": {
     "iopub.execute_input": "2021-10-23T02:04:51.748188Z",
     "iopub.status.busy": "2021-10-23T02:04:51.747584Z",
     "iopub.status.idle": "2021-10-23T02:04:51.751414Z",
     "shell.execute_reply": "2021-10-23T02:04:51.750943Z"
    },
    "papermill": {
     "duration": 0.021728,
     "end_time": "2021-10-23T02:04:51.751535",
     "exception": false,
     "start_time": "2021-10-23T02:04:51.729807",
     "status": "completed"
    },
    "tags": []
   },
   "outputs": [
    {
     "data": {
      "text/markdown": [
       "- Missed BTC & ETH ? Here Are Top 6 Altcoins Traders Can Bet This Bull Season !.  The post Missed BTC &#038; ETH ? Here Are Top 6 Altcoins Traders Can Bet This Bull Season ! appeared first on Coinpedia - Fintech &amp; Cryptocurreny News Media| Crypto GuideAfter the debut of the first US bitcoin futures exchange-traded fund two days ago, bitcoin plummeted from its all-time high, leading cryptocurrency values to plummet today. While bitcoin has lost over $5,000 in a single day, Solana has gained about 10% since yesterday. The price of ETH has dropped by nearly 2% to $4,112. Cardano &#8230; ... [| Skaityti daugiau](https://coinpedia.org/altcoin/top-6-altcoins-traders-can-bet-this-bull-season/) "
      ],
      "text/plain": [
       "<IPython.core.display.Markdown object>"
      ]
     },
     "execution_count": 8,
     "metadata": {},
     "output_type": "execute_result"
    }
   ],
   "source": [
    "#hide_input\n",
    "#md('##### {}'.format(titleBTC)) \n",
    "md(\"- {}{} {}{} [| Skaityti daugiau]({}) \".format(ada['title'],'. ', ada['body'], ' ...', ada['url']))"
   ]
  },
  {
   "cell_type": "code",
   "execution_count": 9,
   "id": "specified-ordering",
   "metadata": {
    "execution": {
     "iopub.execute_input": "2021-10-23T02:04:51.783038Z",
     "iopub.status.busy": "2021-10-23T02:04:51.782437Z",
     "iopub.status.idle": "2021-10-23T02:04:51.784746Z",
     "shell.execute_reply": "2021-10-23T02:04:51.785283Z"
    },
    "papermill": {
     "duration": 0.021317,
     "end_time": "2021-10-23T02:04:51.785423",
     "exception": false,
     "start_time": "2021-10-23T02:04:51.764106",
     "status": "completed"
    },
    "tags": []
   },
   "outputs": [
    {
     "data": {
      "text/markdown": [
       "- Journalist and Youtuber Tim Pool Believes 1 Bitcoin Will ‘Eventually Be Equivalent to $1 Million’.  The American journalist, Youtuber, podcast host, and political commentator, Tim Pool, has talked about bitcoin on numerous occasions and even more so these days as the crypto asset crossed its all-time price high. After the Proshares exchange-traded fund (ETF) launched on the New York Stock Exchange (NYSE), Pool asked his 897,700 Twitter followers if they [&#8230;] ... [| Skaityti daugiau](https://news.bitcoin.com/journalist-and-youtuber-tim-pool-believes-1-bitcoin-will-eventually-be-equivalent-to-1-million/) "
      ],
      "text/plain": [
       "<IPython.core.display.Markdown object>"
      ]
     },
     "execution_count": 9,
     "metadata": {},
     "output_type": "execute_result"
    }
   ],
   "source": [
    "#hide_input\n",
    "#md('##### {}'.format(titleBTC)) \n",
    "md(\"- {}{} {}{} [| Skaityti daugiau]({}) \".format(exchange['title'],'. ', exchange['body'], ' ...', exchange['url']))"
   ]
  },
  {
   "cell_type": "code",
   "execution_count": null,
   "id": "tender-livestock",
   "metadata": {
    "papermill": {
     "duration": 0.012509,
     "end_time": "2021-10-23T02:04:51.810925",
     "exception": false,
     "start_time": "2021-10-23T02:04:51.798416",
     "status": "completed"
    },
    "tags": []
   },
   "outputs": [],
   "source": []
  },
  {
   "cell_type": "code",
   "execution_count": null,
   "id": "appreciated-diamond",
   "metadata": {
    "papermill": {
     "duration": 0.01285,
     "end_time": "2021-10-23T02:04:51.836380",
     "exception": false,
     "start_time": "2021-10-23T02:04:51.823530",
     "status": "completed"
    },
    "tags": []
   },
   "outputs": [],
   "source": []
  },
  {
   "cell_type": "code",
   "execution_count": null,
   "id": "romance-sweden",
   "metadata": {
    "papermill": {
     "duration": 0.01202,
     "end_time": "2021-10-23T02:04:51.861085",
     "exception": false,
     "start_time": "2021-10-23T02:04:51.849065",
     "status": "completed"
    },
    "tags": []
   },
   "outputs": [],
   "source": []
  },
  {
   "cell_type": "code",
   "execution_count": null,
   "id": "dietary-statistics",
   "metadata": {
    "papermill": {
     "duration": 0.012179,
     "end_time": "2021-10-23T02:04:51.885620",
     "exception": false,
     "start_time": "2021-10-23T02:04:51.873441",
     "status": "completed"
    },
    "tags": []
   },
   "outputs": [],
   "source": []
  }
 ],
 "metadata": {
  "kernelspec": {
   "display_name": "Python 3",
   "language": "python",
   "name": "python3"
  },
  "language_info": {
   "codemirror_mode": {
    "name": "ipython",
    "version": 3
   },
   "file_extension": ".py",
   "mimetype": "text/x-python",
   "name": "python",
   "nbconvert_exporter": "python",
   "pygments_lexer": "ipython3",
   "version": "3.6.15"
  },
  "papermill": {
   "default_parameters": {},
   "duration": 11.247902,
   "end_time": "2021-10-23T02:04:52.408671",
   "environment_variables": {},
   "exception": null,
   "input_path": "Market-News.ipynb",
   "output_path": "Market-News.ipynb",
   "parameters": {},
   "start_time": "2021-10-23T02:04:41.160769",
   "version": "2.2.2"
  }
 },
 "nbformat": 4,
 "nbformat_minor": 5
}