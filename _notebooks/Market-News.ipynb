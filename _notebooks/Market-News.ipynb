{
 "cells": [
  {
   "cell_type": "markdown",
   "id": "short-greensboro",
   "metadata": {
    "papermill": {
     "duration": 0.016242,
     "end_time": "2022-11-14T03:02:17.043590",
     "exception": false,
     "start_time": "2022-11-14T03:02:17.027348",
     "status": "completed"
    },
    "tags": []
   },
   "source": [
    "# Kriptovaliutų naujienos"
   ]
  },
  {
   "cell_type": "code",
   "execution_count": 1,
   "id": "functioning-knowing",
   "metadata": {
    "execution": {
     "iopub.execute_input": "2022-11-14T03:02:17.077573Z",
     "iopub.status.busy": "2022-11-14T03:02:17.076911Z",
     "iopub.status.idle": "2022-11-14T03:02:18.472820Z",
     "shell.execute_reply": "2022-11-14T03:02:18.472179Z"
    },
    "papermill": {
     "duration": 1.418083,
     "end_time": "2022-11-14T03:02:18.472972",
     "exception": false,
     "start_time": "2022-11-14T03:02:17.054889",
     "status": "completed"
    },
    "tags": []
   },
   "outputs": [],
   "source": [
    "#hide_input\n",
    "import warnings\n",
    "warnings.filterwarnings('ignore')\n",
    "from scripts.read_data import read_api\n",
    "from scripts.read_data import read_news\n",
    "from scripts.read_data import read_covid\n",
    "import matplotlib.pyplot as plt \n",
    "from IPython.display import Markdown as md"
   ]
  },
  {
   "cell_type": "code",
   "execution_count": 2,
   "id": "shared-acceptance",
   "metadata": {
    "execution": {
     "iopub.execute_input": "2022-11-14T03:02:18.499299Z",
     "iopub.status.busy": "2022-11-14T03:02:18.498648Z",
     "iopub.status.idle": "2022-11-14T03:02:26.210089Z",
     "shell.execute_reply": "2022-11-14T03:02:26.209486Z"
    },
    "papermill": {
     "duration": 7.727254,
     "end_time": "2022-11-14T03:02:26.210224",
     "exception": false,
     "start_time": "2022-11-14T03:02:18.482970",
     "status": "completed"
    },
    "tags": []
   },
   "outputs": [],
   "source": [
    "#hide_input\n",
    "blockchain = read_news('blockchain') \n",
    "btc = read_news('btc') \n",
    "xrp = read_news('xrp') \n",
    "trx = read_news('trx') \n",
    "eth = read_news('eth')  \n",
    "ada = read_news('ada')\n",
    "exchange = read_news('exchange') "
   ]
  },
  {
   "cell_type": "code",
   "execution_count": 3,
   "id": "synthetic-notion",
   "metadata": {
    "execution": {
     "iopub.execute_input": "2022-11-14T03:02:26.238300Z",
     "iopub.status.busy": "2022-11-14T03:02:26.237560Z",
     "iopub.status.idle": "2022-11-14T03:02:26.240447Z",
     "shell.execute_reply": "2022-11-14T03:02:26.240971Z"
    },
    "papermill": {
     "duration": 0.020729,
     "end_time": "2022-11-14T03:02:26.241112",
     "exception": false,
     "start_time": "2022-11-14T03:02:26.220383",
     "status": "completed"
    },
    "tags": []
   },
   "outputs": [
    {
     "data": {
      "text/markdown": [
       "- First Mover Asia: Extreme Fear Hits Crypto as FTX Hack Makes Bad Situation Worse. What Comes Next?.  Bitcoin just had its worst week since the aftermath of the Terra blockchain's collapse. PLUS: Sam Reynolds takes a fresh look at the U.S. Securities and Exchange Commission's case against Ripple, where a 2018 SEC official’s speech motes may prove crucial. ... [| Skaityti daugiau](https://www.coindesk.com/markets/2022/11/14/first-mover-asia-extreme-fear-hits-crypto-as-ftx-hack-makes-bad-situation-worse-what-comes-next/?utm_medium=referral&utm_source=rss&utm_campaign=headlines) "
      ],
      "text/plain": [
       "<IPython.core.display.Markdown object>"
      ]
     },
     "execution_count": 3,
     "metadata": {},
     "output_type": "execute_result"
    }
   ],
   "source": [
    "#hide_input\n",
    "#md('##### {}'.format(titleBTC)) \n",
    "md(\"- {}{} {}{} [| Skaityti daugiau]({}) \".format(blockchain['title'],'. ', blockchain['body'], ' ...', blockchain['url']))"
   ]
  },
  {
   "cell_type": "code",
   "execution_count": 4,
   "id": "aging-caution",
   "metadata": {
    "execution": {
     "iopub.execute_input": "2022-11-14T03:02:26.268728Z",
     "iopub.status.busy": "2022-11-14T03:02:26.267923Z",
     "iopub.status.idle": "2022-11-14T03:02:26.271263Z",
     "shell.execute_reply": "2022-11-14T03:02:26.271805Z"
    },
    "papermill": {
     "duration": 0.020312,
     "end_time": "2022-11-14T03:02:26.271948",
     "exception": false,
     "start_time": "2022-11-14T03:02:26.251636",
     "status": "completed"
    },
    "tags": []
   },
   "outputs": [
    {
     "data": {
      "text/markdown": [
       "- After Bitcoin's Worst Week in Five Months, Here's What Crypto Analysts Are Saying.  A roundup of commentary on how digital-asset market analysts see the next few months unfolding. ... [| Skaityti daugiau](https://www.coindesk.com/markets/2022/11/14/after-bitcoins-worst-week-in-five-months-heres-what-crypto-analysts-are-saying/?utm_medium=referral&utm_source=rss&utm_campaign=headlines) "
      ],
      "text/plain": [
       "<IPython.core.display.Markdown object>"
      ]
     },
     "execution_count": 4,
     "metadata": {},
     "output_type": "execute_result"
    }
   ],
   "source": [
    "#hide_input\n",
    "#md('##### {}'.format(titleBTC)) \n",
    "md(\"- {}{} {}{} [| Skaityti daugiau]({}) \".format(btc['title'],'. ', btc['body'], ' ...', btc['url']))"
   ]
  },
  {
   "cell_type": "code",
   "execution_count": 5,
   "id": "organic-actress",
   "metadata": {
    "execution": {
     "iopub.execute_input": "2022-11-14T03:02:26.299821Z",
     "iopub.status.busy": "2022-11-14T03:02:26.299082Z",
     "iopub.status.idle": "2022-11-14T03:02:26.302774Z",
     "shell.execute_reply": "2022-11-14T03:02:26.303265Z"
    },
    "papermill": {
     "duration": 0.020645,
     "end_time": "2022-11-14T03:02:26.303417",
     "exception": false,
     "start_time": "2022-11-14T03:02:26.282772",
     "status": "completed"
    },
    "tags": []
   },
   "outputs": [
    {
     "data": {
      "text/markdown": [
       "- The Mysterious FTX Debacle, Tim Draper’s BTC Price Prediction, More Support for Ripple in SEC Lawsuit — Week in Review.  As theories proliferate wildly about the true nature of what happened to failed crypto exchange FTX, little is yet clear to the crypto community. Former CEO of FTX Sam Bankman-Fried has addressed the issue publicly on social media, mentioning a mysterious “sparring partner.” This week, Bitcoin.com News has also provided an in-depth look at the ... [| Skaityti daugiau](https://news.bitcoin.com/the-mysterious-ftx-debacle-tim-drapers-btc-price-prediction-more-support-for-ripple-in-sec-lawsuit-week-in-review/) "
      ],
      "text/plain": [
       "<IPython.core.display.Markdown object>"
      ]
     },
     "execution_count": 5,
     "metadata": {},
     "output_type": "execute_result"
    }
   ],
   "source": [
    "#hide_input\n",
    "#md('##### {}'.format(titleBTC)) \n",
    "md(\"- {}{} {}{} [| Skaityti daugiau]({}) \".format(xrp['title'],'. ', xrp['body'], ' ...', xrp['url']))"
   ]
  },
  {
   "cell_type": "code",
   "execution_count": 6,
   "id": "prompt-farmer",
   "metadata": {
    "execution": {
     "iopub.execute_input": "2022-11-14T03:02:26.331846Z",
     "iopub.status.busy": "2022-11-14T03:02:26.330719Z",
     "iopub.status.idle": "2022-11-14T03:02:26.333704Z",
     "shell.execute_reply": "2022-11-14T03:02:26.334233Z"
    },
    "papermill": {
     "duration": 0.019817,
     "end_time": "2022-11-14T03:02:26.334371",
     "exception": false,
     "start_time": "2022-11-14T03:02:26.314554",
     "status": "completed"
    },
    "tags": []
   },
   "outputs": [
    {
     "data": {
      "text/markdown": [
       "- Will Tron’s development have TRX failing or flying on the price charts.  Tron announces the launch of its new Tronpedia TRX’s Galaxy Score looked bullish. However, metrics were ambiguous Tron [TRX] recently announced the launch of the Tronpedia, which is a new platform where people can learn about the projects that Tron supports. Guess what? Tronpedia is now LIVE! 🙌 🎉 This is where you can learn ... [| Skaityti daugiau](https://ambcrypto.com/trx-price-will-be-affected-in-this-manner-with-tronpedias-launch/) "
      ],
      "text/plain": [
       "<IPython.core.display.Markdown object>"
      ]
     },
     "execution_count": 6,
     "metadata": {},
     "output_type": "execute_result"
    }
   ],
   "source": [
    "#hide_input\n",
    "#md('##### {}'.format(titleBTC)) \n",
    "md(\"- {}{} {}{} [| Skaityti daugiau]({}) \".format(trx['title'],'. ', trx['body'], ' ...', trx['url']))"
   ]
  },
  {
   "cell_type": "code",
   "execution_count": 7,
   "id": "illegal-greece",
   "metadata": {
    "execution": {
     "iopub.execute_input": "2022-11-14T03:02:26.363524Z",
     "iopub.status.busy": "2022-11-14T03:02:26.362832Z",
     "iopub.status.idle": "2022-11-14T03:02:26.367027Z",
     "shell.execute_reply": "2022-11-14T03:02:26.366494Z"
    },
    "papermill": {
     "duration": 0.020858,
     "end_time": "2022-11-14T03:02:26.367148",
     "exception": false,
     "start_time": "2022-11-14T03:02:26.346290",
     "status": "completed"
    },
    "tags": []
   },
   "outputs": [
    {
     "data": {
      "text/markdown": [
       "- Ethereum’s Vitalik Buterin: FTX Exchange Meltdown “Cuts Deeper” Than Terra (LUNA) Collapse.  It is no longer news that FTX, the once-thriving and popular cryptocurrency exchange founded by Sam Bank-man Fried, has collapsed, causing a massive decline in the price of its native token, FTT. This unfortunate incident has left many investors wrecked while also opening the door for rigid regulatory policies from the SEC and other related The post Ethereum’s Vitalik Buterin: FTX Exchange Meltdown “Cuts Deeper” Than Terra (LUNA) Collapse appeared first on Times Tabloid . ... [| Skaityti daugiau](https://timestabloid.com/ethereum-vitalik-buterin-ftx-exchange-meltdown-cuts-deeper-than-terra-luna-collapse/) "
      ],
      "text/plain": [
       "<IPython.core.display.Markdown object>"
      ]
     },
     "execution_count": 7,
     "metadata": {},
     "output_type": "execute_result"
    }
   ],
   "source": [
    "#hide_input\n",
    "#md('##### {}'.format(titleBTC)) \n",
    "md(\"- {}{} {}{} [| Skaityti daugiau]({}) \".format(eth['title'],'. ', eth['body'], ' ...', eth['url']))"
   ]
  },
  {
   "cell_type": "code",
   "execution_count": 8,
   "id": "sublime-lounge",
   "metadata": {
    "execution": {
     "iopub.execute_input": "2022-11-14T03:02:26.398680Z",
     "iopub.status.busy": "2022-11-14T03:02:26.397845Z",
     "iopub.status.idle": "2022-11-14T03:02:26.400683Z",
     "shell.execute_reply": "2022-11-14T03:02:26.401444Z"
    },
    "papermill": {
     "duration": 0.021421,
     "end_time": "2022-11-14T03:02:26.401616",
     "exception": false,
     "start_time": "2022-11-14T03:02:26.380195",
     "status": "completed"
    },
    "tags": []
   },
   "outputs": [
    {
     "data": {
      "text/markdown": [
       "- Cardano (ADA) Price Analysis for November 13.  How big are chances to see Cardano (ADA) rise next week? ... [| Skaityti daugiau](https://u.today/cardano-ada-price-analysis-for-november-13) "
      ],
      "text/plain": [
       "<IPython.core.display.Markdown object>"
      ]
     },
     "execution_count": 8,
     "metadata": {},
     "output_type": "execute_result"
    }
   ],
   "source": [
    "#hide_input\n",
    "#md('##### {}'.format(titleBTC)) \n",
    "md(\"- {}{} {}{} [| Skaityti daugiau]({}) \".format(ada['title'],'. ', ada['body'], ' ...', ada['url']))"
   ]
  },
  {
   "cell_type": "code",
   "execution_count": 9,
   "id": "specified-ordering",
   "metadata": {
    "execution": {
     "iopub.execute_input": "2022-11-14T03:02:26.433029Z",
     "iopub.status.busy": "2022-11-14T03:02:26.432345Z",
     "iopub.status.idle": "2022-11-14T03:02:26.436562Z",
     "shell.execute_reply": "2022-11-14T03:02:26.435875Z"
    },
    "papermill": {
     "duration": 0.022245,
     "end_time": "2022-11-14T03:02:26.436680",
     "exception": false,
     "start_time": "2022-11-14T03:02:26.414435",
     "status": "completed"
    },
    "tags": []
   },
   "outputs": [
    {
     "data": {
      "text/markdown": [
       "- Conflicting Reports Emerge About SEC Helping Bankrupt Crypto Exchange FTX With Legal Loopholes.  The U.S. Securities and Exchange Commission (SEC) reportedly met with crypto exchange FTX and former CEO Sam Bankman-Fried several times before the crypto firm filed for bankruptcy. SEC Chairman Gary Gensler was rumored to be helping FTX with legal loopholes. However, a new report indicates a contradicting viewpoint. Gensler’s Meeting With Sam Bankman-Fried and FTX ... [| Skaityti daugiau](https://news.bitcoin.com/conflicting-reports-emerge-about-sec-helping-bankrupt-crypto-exchange-ftx-with-legal-loopholes/) "
      ],
      "text/plain": [
       "<IPython.core.display.Markdown object>"
      ]
     },
     "execution_count": 9,
     "metadata": {},
     "output_type": "execute_result"
    }
   ],
   "source": [
    "#hide_input\n",
    "#md('##### {}'.format(titleBTC)) \n",
    "md(\"- {}{} {}{} [| Skaityti daugiau]({}) \".format(exchange['title'],'. ', exchange['body'], ' ...', exchange['url']))"
   ]
  },
  {
   "cell_type": "code",
   "execution_count": null,
   "id": "tender-livestock",
   "metadata": {
    "papermill": {
     "duration": 0.012856,
     "end_time": "2022-11-14T03:02:26.462501",
     "exception": false,
     "start_time": "2022-11-14T03:02:26.449645",
     "status": "completed"
    },
    "tags": []
   },
   "outputs": [],
   "source": []
  },
  {
   "cell_type": "code",
   "execution_count": null,
   "id": "appreciated-diamond",
   "metadata": {
    "papermill": {
     "duration": 0.012393,
     "end_time": "2022-11-14T03:02:26.487504",
     "exception": false,
     "start_time": "2022-11-14T03:02:26.475111",
     "status": "completed"
    },
    "tags": []
   },
   "outputs": [],
   "source": []
  },
  {
   "cell_type": "code",
   "execution_count": null,
   "id": "romance-sweden",
   "metadata": {
    "papermill": {
     "duration": 0.012641,
     "end_time": "2022-11-14T03:02:26.512767",
     "exception": false,
     "start_time": "2022-11-14T03:02:26.500126",
     "status": "completed"
    },
    "tags": []
   },
   "outputs": [],
   "source": []
  },
  {
   "cell_type": "code",
   "execution_count": null,
   "id": "dietary-statistics",
   "metadata": {
    "papermill": {
     "duration": 0.012599,
     "end_time": "2022-11-14T03:02:26.538059",
     "exception": false,
     "start_time": "2022-11-14T03:02:26.525460",
     "status": "completed"
    },
    "tags": []
   },
   "outputs": [],
   "source": []
  }
 ],
 "metadata": {
  "kernelspec": {
   "display_name": "Python 3",
   "language": "python",
   "name": "python3"
  },
  "language_info": {
   "codemirror_mode": {
    "name": "ipython",
    "version": 3
   },
   "file_extension": ".py",
   "mimetype": "text/x-python",
   "name": "python",
   "nbconvert_exporter": "python",
   "pygments_lexer": "ipython3",
   "version": "3.6.15"
  },
  "papermill": {
   "default_parameters": {},
   "duration": 11.321422,
   "end_time": "2022-11-14T03:02:27.071238",
   "environment_variables": {},
   "exception": null,
   "input_path": "Market-News.ipynb",
   "output_path": "Market-News.ipynb",
   "parameters": {},
   "start_time": "2022-11-14T03:02:15.749816",
   "version": "2.2.2"
  }
 },
 "nbformat": 4,
 "nbformat_minor": 5
}