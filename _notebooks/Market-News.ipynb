{
 "cells": [
  {
   "cell_type": "markdown",
   "id": "short-greensboro",
   "metadata": {
    "papermill": {
     "duration": 0.016855,
     "end_time": "2021-11-08T01:59:58.954862",
     "exception": false,
     "start_time": "2021-11-08T01:59:58.938007",
     "status": "completed"
    },
    "tags": []
   },
   "source": [
    "# Kriptovaliutų naujienos"
   ]
  },
  {
   "cell_type": "code",
   "execution_count": 1,
   "id": "functioning-knowing",
   "metadata": {
    "execution": {
     "iopub.execute_input": "2021-11-08T01:59:58.996678Z",
     "iopub.status.busy": "2021-11-08T01:59:58.994767Z",
     "iopub.status.idle": "2021-11-08T02:00:00.671208Z",
     "shell.execute_reply": "2021-11-08T02:00:00.671900Z"
    },
    "papermill": {
     "duration": 1.703219,
     "end_time": "2021-11-08T02:00:00.672157",
     "exception": false,
     "start_time": "2021-11-08T01:59:58.968938",
     "status": "completed"
    },
    "tags": []
   },
   "outputs": [],
   "source": [
    "#hide_input\n",
    "import warnings\n",
    "warnings.filterwarnings('ignore')\n",
    "from scripts.read_data import read_api\n",
    "from scripts.read_data import read_news\n",
    "from scripts.read_data import read_covid\n",
    "import matplotlib.pyplot as plt \n",
    "from IPython.display import Markdown as md"
   ]
  },
  {
   "cell_type": "code",
   "execution_count": 2,
   "id": "shared-acceptance",
   "metadata": {
    "execution": {
     "iopub.execute_input": "2021-11-08T02:00:00.706742Z",
     "iopub.status.busy": "2021-11-08T02:00:00.705609Z",
     "iopub.status.idle": "2021-11-08T02:00:16.454624Z",
     "shell.execute_reply": "2021-11-08T02:00:16.453984Z"
    },
    "papermill": {
     "duration": 15.769945,
     "end_time": "2021-11-08T02:00:16.454777",
     "exception": false,
     "start_time": "2021-11-08T02:00:00.684832",
     "status": "completed"
    },
    "tags": []
   },
   "outputs": [],
   "source": [
    "#hide_input\n",
    "blockchain = read_news('blockchain') \n",
    "btc = read_news('btc') \n",
    "xrp = read_news('xrp') \n",
    "trx = read_news('trx') \n",
    "eth = read_news('eth')  \n",
    "ada = read_news('ada')\n",
    "exchange = read_news('exchange') "
   ]
  },
  {
   "cell_type": "code",
   "execution_count": 3,
   "id": "synthetic-notion",
   "metadata": {
    "execution": {
     "iopub.execute_input": "2021-11-08T02:00:16.487939Z",
     "iopub.status.busy": "2021-11-08T02:00:16.486982Z",
     "iopub.status.idle": "2021-11-08T02:00:16.491565Z",
     "shell.execute_reply": "2021-11-08T02:00:16.491035Z"
    },
    "papermill": {
     "duration": 0.02412,
     "end_time": "2021-11-08T02:00:16.491810",
     "exception": false,
     "start_time": "2021-11-08T02:00:16.467690",
     "status": "completed"
    },
    "tags": []
   },
   "outputs": [
    {
     "data": {
      "text/markdown": [
       "- Crypto gaming, NFTs, Web3 expected to onboard the next billion users into crypto?.  Here&#8217;s one way to bring the next billion users in the crypto sector: Crypto gaming + NFTs + Web3. Let&#8217;s talk about the recent boom in the gaming aspect. DappRadar, an analytics platform showed a boom in crypto gaming. Last month saw blockchain games make up the majority of activity in the Dapp industry. Around 55% of unique [&#8230;] ... [| Skaityti daugiau](https://ambcrypto.com/crypto-gaming-nfts-web3-expected-to-onboard-the-next-billion-users-into-crypto/) "
      ],
      "text/plain": [
       "<IPython.core.display.Markdown object>"
      ]
     },
     "execution_count": 3,
     "metadata": {},
     "output_type": "execute_result"
    }
   ],
   "source": [
    "#hide_input\n",
    "#md('##### {}'.format(titleBTC)) \n",
    "md(\"- {}{} {}{} [| Skaityti daugiau]({}) \".format(blockchain['title'],'. ', blockchain['body'], ' ...', blockchain['url']))"
   ]
  },
  {
   "cell_type": "code",
   "execution_count": 4,
   "id": "aging-caution",
   "metadata": {
    "execution": {
     "iopub.execute_input": "2021-11-08T02:00:16.521640Z",
     "iopub.status.busy": "2021-11-08T02:00:16.520508Z",
     "iopub.status.idle": "2021-11-08T02:00:16.525069Z",
     "shell.execute_reply": "2021-11-08T02:00:16.525628Z"
    },
    "papermill": {
     "duration": 0.021011,
     "end_time": "2021-11-08T02:00:16.525768",
     "exception": false,
     "start_time": "2021-11-08T02:00:16.504757",
     "status": "completed"
    },
    "tags": []
   },
   "outputs": [
    {
     "data": {
      "text/markdown": [
       "- Elon Musk Lets Twitter Poll Decide if He Should Sell $20 Billion in Tesla Stock — Investors Suggest Buy Bitcoin.  Tesla and Spacex CEO Elon Musk has asked his Twitter followers whether he should sell his Tesla stock. He has also promised to abide by the results of the poll. Many people urge Musk to sell his Tesla shares and put money into cryptocurrency, particularly bitcoin. Elon Musk Asks Twitter Followers to Decide Whether to [&#8230;] ... [| Skaityti daugiau](https://news.bitcoin.com/elon-musk-twitter-poll-decide-sell-20-billion-tesla-stock-investors-buy-bitcoin/) "
      ],
      "text/plain": [
       "<IPython.core.display.Markdown object>"
      ]
     },
     "execution_count": 4,
     "metadata": {},
     "output_type": "execute_result"
    }
   ],
   "source": [
    "#hide_input\n",
    "#md('##### {}'.format(titleBTC)) \n",
    "md(\"- {}{} {}{} [| Skaityti daugiau]({}) \".format(btc['title'],'. ', btc['body'], ' ...', btc['url']))"
   ]
  },
  {
   "cell_type": "code",
   "execution_count": 5,
   "id": "organic-actress",
   "metadata": {
    "execution": {
     "iopub.execute_input": "2021-11-08T02:00:16.560071Z",
     "iopub.status.busy": "2021-11-08T02:00:16.559362Z",
     "iopub.status.idle": "2021-11-08T02:00:16.561984Z",
     "shell.execute_reply": "2021-11-08T02:00:16.562742Z"
    },
    "papermill": {
     "duration": 0.024985,
     "end_time": "2021-11-08T02:00:16.562950",
     "exception": false,
     "start_time": "2021-11-08T02:00:16.537965",
     "status": "completed"
    },
    "tags": []
   },
   "outputs": [
    {
     "data": {
      "text/markdown": [
       "- XRP, Tezos, Axie Infinity Price Analysis: 07 November.  Bitcoin and all the major altcoins, including XRP, were trading in green over the past day. Consequently, altcoins like Tezos and Axie Infinity (AXS) mimicked them as they registered gains on their daily charts. However, near-term technicals for both the cryptos pointed at possible ease in bullish vigor. On the other hand, XRP showed positive [&#8230;] ... [| Skaityti daugiau](https://ambcrypto.com/xrp-tezos-axie-infinity-price-analysis-07-november/) "
      ],
      "text/plain": [
       "<IPython.core.display.Markdown object>"
      ]
     },
     "execution_count": 5,
     "metadata": {},
     "output_type": "execute_result"
    }
   ],
   "source": [
    "#hide_input\n",
    "#md('##### {}'.format(titleBTC)) \n",
    "md(\"- {}{} {}{} [| Skaityti daugiau]({}) \".format(xrp['title'],'. ', xrp['body'], ' ...', xrp['url']))"
   ]
  },
  {
   "cell_type": "code",
   "execution_count": 6,
   "id": "prompt-farmer",
   "metadata": {
    "execution": {
     "iopub.execute_input": "2021-11-08T02:00:16.596513Z",
     "iopub.status.busy": "2021-11-08T02:00:16.595818Z",
     "iopub.status.idle": "2021-11-08T02:00:16.599443Z",
     "shell.execute_reply": "2021-11-08T02:00:16.598721Z"
    },
    "papermill": {
     "duration": 0.023394,
     "end_time": "2021-11-08T02:00:16.599582",
     "exception": false,
     "start_time": "2021-11-08T02:00:16.576188",
     "status": "completed"
    },
    "tags": []
   },
   "outputs": [
    {
     "data": {
      "text/markdown": [
       "- Tron outshines Ethereum, Cardano in these aspects; shows potential for further growth.  In the world of top altcoins like Ethereum, Cardano, and others, alts with smaller market value get very little chance to prove their worth. But, when they do, it&#8217;s worth all the attention. One such alt is Tron (TRX), the brainchild of Justin Sun. The coin is being anticipated to perform exceptionally well in the [&#8230;] ... [| Skaityti daugiau](https://ambcrypto.com/tron-outshines-ethereum-cardano-in-these-aspects-shows-potential-for-further-growth/) "
      ],
      "text/plain": [
       "<IPython.core.display.Markdown object>"
      ]
     },
     "execution_count": 6,
     "metadata": {},
     "output_type": "execute_result"
    }
   ],
   "source": [
    "#hide_input\n",
    "#md('##### {}'.format(titleBTC)) \n",
    "md(\"- {}{} {}{} [| Skaityti daugiau]({}) \".format(trx['title'],'. ', trx['body'], ' ...', trx['url']))"
   ]
  },
  {
   "cell_type": "code",
   "execution_count": 7,
   "id": "illegal-greece",
   "metadata": {
    "execution": {
     "iopub.execute_input": "2021-11-08T02:00:16.633602Z",
     "iopub.status.busy": "2021-11-08T02:00:16.632841Z",
     "iopub.status.idle": "2021-11-08T02:00:16.636974Z",
     "shell.execute_reply": "2021-11-08T02:00:16.636386Z"
    },
    "papermill": {
     "duration": 0.023625,
     "end_time": "2021-11-08T02:00:16.637113",
     "exception": false,
     "start_time": "2021-11-08T02:00:16.613488",
     "status": "completed"
    },
    "tags": []
   },
   "outputs": [
    {
     "data": {
      "text/markdown": [
       "- The A to Z of Ethereum, NFT market, and the Tungsten cube bubble.  Tungsten &#8211; A word that people from the space seldom resonated with has now become the talk of the crypto-town owing to its intriguing and fascinating features. The cube being talked about is merely 14 inches in size and is made of tungsten. However, it weighs a ton [approximately 907 kg.] due to the density [&#8230;] ... [| Skaityti daugiau](https://ambcrypto.com/the-a-to-z-of-ethereum-nft-market-and-the-tungsten-cube-bubble/) "
      ],
      "text/plain": [
       "<IPython.core.display.Markdown object>"
      ]
     },
     "execution_count": 7,
     "metadata": {},
     "output_type": "execute_result"
    }
   ],
   "source": [
    "#hide_input\n",
    "#md('##### {}'.format(titleBTC)) \n",
    "md(\"- {}{} {}{} [| Skaityti daugiau]({}) \".format(eth['title'],'. ', eth['body'], ' ...', eth['url']))"
   ]
  },
  {
   "cell_type": "code",
   "execution_count": 8,
   "id": "sublime-lounge",
   "metadata": {
    "execution": {
     "iopub.execute_input": "2021-11-08T02:00:16.674115Z",
     "iopub.status.busy": "2021-11-08T02:00:16.673358Z",
     "iopub.status.idle": "2021-11-08T02:00:16.677702Z",
     "shell.execute_reply": "2021-11-08T02:00:16.677130Z"
    },
    "papermill": {
     "duration": 0.024573,
     "end_time": "2021-11-08T02:00:16.677840",
     "exception": false,
     "start_time": "2021-11-08T02:00:16.653267",
     "status": "completed"
    },
    "tags": []
   },
   "outputs": [
    {
     "data": {
      "text/markdown": [
       "- Solana Hits New All-Time High, Surpasses Cardano And Tether To Fourth Place.  The Solana (SOL) ecosystem continues to see huge growth in the market. SOL price touched another record high on Sunday, November 7, as it reached $260.06. Its price is up by almost 17,500% YTD &#8211; from $1.51. SOL surpassed Cardano (ADA) and Tether (USDT) to become the fourth-largest cryptocurrency with a market capitalization of $75.4 billion. Related Reading &#124; Is Cardano Fighting A Losing Battle Against Solana? At the time of writing, it falls behind Binance Coin (BNB) $109 billion, Ether (ETH) $546 billion, and Bitcoin (BTC) $1.17 trillion. While it is creeping closer to Ethereum, there is still a huge gap between both coins. Meanwhile, ADA and USDT&#8217;s market capitalization came out to be $67.1 billion and $74.4 billion, respectively. SOL Rises After $100 Million Investment Initiative Solana&#8217;s rise to ATH comes just after its venture capital arm Solana Ventures, Lightspeed Venture Partners, and FTX spearheaded a new investment fund dedicated to Web 3 gaming, also known as GameFi. Web 3 gaming has skyrocketed in popularity. Related Reading &#124; Solana, FTX, Lightspeed Ventures To Launch $100M Web3 Gaming Fund The venture company intends to increase SOL adoption by attracting desktop and mobile video game developers to build their projects on its public blockchain. With SOL&#8217;s bullish run recently, many are comparing it to No. 2 crypto Ethereum. “Solana is the leading Ethereum competitor,” Matt Houga... ... [| Skaityti daugiau](https://www.newsbtc.com/news/solana/solana-hits-all-time-high-fourth-place/) "
      ],
      "text/plain": [
       "<IPython.core.display.Markdown object>"
      ]
     },
     "execution_count": 8,
     "metadata": {},
     "output_type": "execute_result"
    }
   ],
   "source": [
    "#hide_input\n",
    "#md('##### {}'.format(titleBTC)) \n",
    "md(\"- {}{} {}{} [| Skaityti daugiau]({}) \".format(ada['title'],'. ', ada['body'], ' ...', ada['url']))"
   ]
  },
  {
   "cell_type": "code",
   "execution_count": 9,
   "id": "specified-ordering",
   "metadata": {
    "execution": {
     "iopub.execute_input": "2021-11-08T02:00:16.715425Z",
     "iopub.status.busy": "2021-11-08T02:00:16.714605Z",
     "iopub.status.idle": "2021-11-08T02:00:16.718401Z",
     "shell.execute_reply": "2021-11-08T02:00:16.717708Z"
    },
    "papermill": {
     "duration": 0.024794,
     "end_time": "2021-11-08T02:00:16.718539",
     "exception": false,
     "start_time": "2021-11-08T02:00:16.693745",
     "status": "completed"
    },
    "tags": []
   },
   "outputs": [
    {
     "data": {
      "text/markdown": [
       "- Citing Squid Games Token, Binance CEO CZ Shares Tips On Avoiding DeFi Exit Scams.  They say “If you want to steal money, don’t rob a bank, open one,” and this has been an increasingly popular stunt recently pulled by crypto scammers as the crypto and DeFi ecosystems continue to bloom. Recently, Binance CEO Changpeng Zhao who identifies under the moniker &#8216;CZ&#8217; expressed his disappointment at the turn in which [&#8230;] ... [| Skaityti daugiau](https://zycrypto.com/citing-squid-games-token-binance-ceo-cz-shares-tips-on-avoiding-defi-exit-scams/) "
      ],
      "text/plain": [
       "<IPython.core.display.Markdown object>"
      ]
     },
     "execution_count": 9,
     "metadata": {},
     "output_type": "execute_result"
    }
   ],
   "source": [
    "#hide_input\n",
    "#md('##### {}'.format(titleBTC)) \n",
    "md(\"- {}{} {}{} [| Skaityti daugiau]({}) \".format(exchange['title'],'. ', exchange['body'], ' ...', exchange['url']))"
   ]
  },
  {
   "cell_type": "code",
   "execution_count": null,
   "id": "tender-livestock",
   "metadata": {
    "papermill": {
     "duration": 0.016049,
     "end_time": "2021-11-08T02:00:16.750636",
     "exception": false,
     "start_time": "2021-11-08T02:00:16.734587",
     "status": "completed"
    },
    "tags": []
   },
   "outputs": [],
   "source": []
  },
  {
   "cell_type": "code",
   "execution_count": null,
   "id": "appreciated-diamond",
   "metadata": {
    "papermill": {
     "duration": 0.015968,
     "end_time": "2021-11-08T02:00:16.782762",
     "exception": false,
     "start_time": "2021-11-08T02:00:16.766794",
     "status": "completed"
    },
    "tags": []
   },
   "outputs": [],
   "source": []
  },
  {
   "cell_type": "code",
   "execution_count": null,
   "id": "romance-sweden",
   "metadata": {
    "papermill": {
     "duration": 0.016344,
     "end_time": "2021-11-08T02:00:16.814970",
     "exception": false,
     "start_time": "2021-11-08T02:00:16.798626",
     "status": "completed"
    },
    "tags": []
   },
   "outputs": [],
   "source": []
  },
  {
   "cell_type": "code",
   "execution_count": null,
   "id": "dietary-statistics",
   "metadata": {
    "papermill": {
     "duration": 0.015136,
     "end_time": "2021-11-08T02:00:16.845221",
     "exception": false,
     "start_time": "2021-11-08T02:00:16.830085",
     "status": "completed"
    },
    "tags": []
   },
   "outputs": [],
   "source": []
  }
 ],
 "metadata": {
  "kernelspec": {
   "display_name": "Python 3",
   "language": "python",
   "name": "python3"
  },
  "language_info": {
   "codemirror_mode": {
    "name": "ipython",
    "version": 3
   },
   "file_extension": ".py",
   "mimetype": "text/x-python",
   "name": "python",
   "nbconvert_exporter": "python",
   "pygments_lexer": "ipython3",
   "version": "3.6.15"
  },
  "papermill": {
   "default_parameters": {},
   "duration": 19.677592,
   "end_time": "2021-11-08T02:00:17.372110",
   "environment_variables": {},
   "exception": null,
   "input_path": "Market-News.ipynb",
   "output_path": "Market-News.ipynb",
   "parameters": {},
   "start_time": "2021-11-08T01:59:57.694518",
   "version": "2.2.2"
  }
 },
 "nbformat": 4,
 "nbformat_minor": 5
}