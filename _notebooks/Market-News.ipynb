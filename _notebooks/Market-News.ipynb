{
 "cells": [
  {
   "cell_type": "markdown",
   "id": "short-greensboro",
   "metadata": {
    "papermill": {
     "duration": 0.009555,
     "end_time": "2022-07-26T03:34:19.493184",
     "exception": false,
     "start_time": "2022-07-26T03:34:19.483629",
     "status": "completed"
    },
    "tags": []
   },
   "source": [
    "# Kriptovaliutų naujienos"
   ]
  },
  {
   "cell_type": "code",
   "execution_count": 1,
   "id": "functioning-knowing",
   "metadata": {
    "execution": {
     "iopub.execute_input": "2022-07-26T03:34:19.515392Z",
     "iopub.status.busy": "2022-07-26T03:34:19.514636Z",
     "iopub.status.idle": "2022-07-26T03:34:20.480859Z",
     "shell.execute_reply": "2022-07-26T03:34:20.481239Z"
    },
    "papermill": {
     "duration": 0.981086,
     "end_time": "2022-07-26T03:34:20.481367",
     "exception": false,
     "start_time": "2022-07-26T03:34:19.500281",
     "status": "completed"
    },
    "tags": []
   },
   "outputs": [],
   "source": [
    "#hide_input\n",
    "import warnings\n",
    "warnings.filterwarnings('ignore')\n",
    "from scripts.read_data import read_api\n",
    "from scripts.read_data import read_news\n",
    "from scripts.read_data import read_covid\n",
    "import matplotlib.pyplot as plt \n",
    "from IPython.display import Markdown as md"
   ]
  },
  {
   "cell_type": "code",
   "execution_count": 2,
   "id": "shared-acceptance",
   "metadata": {
    "execution": {
     "iopub.execute_input": "2022-07-26T03:34:20.500373Z",
     "iopub.status.busy": "2022-07-26T03:34:20.499592Z",
     "iopub.status.idle": "2022-07-26T03:34:30.980559Z",
     "shell.execute_reply": "2022-07-26T03:34:30.980891Z"
    },
    "papermill": {
     "duration": 10.492367,
     "end_time": "2022-07-26T03:34:30.981002",
     "exception": false,
     "start_time": "2022-07-26T03:34:20.488635",
     "status": "completed"
    },
    "tags": []
   },
   "outputs": [],
   "source": [
    "#hide_input\n",
    "blockchain = read_news('blockchain') \n",
    "btc = read_news('btc') \n",
    "xrp = read_news('xrp') \n",
    "trx = read_news('trx') \n",
    "eth = read_news('eth')  \n",
    "ada = read_news('ada')\n",
    "exchange = read_news('exchange') "
   ]
  },
  {
   "cell_type": "code",
   "execution_count": 3,
   "id": "synthetic-notion",
   "metadata": {
    "execution": {
     "iopub.execute_input": "2022-07-26T03:34:31.001834Z",
     "iopub.status.busy": "2022-07-26T03:34:31.001226Z",
     "iopub.status.idle": "2022-07-26T03:34:31.004406Z",
     "shell.execute_reply": "2022-07-26T03:34:31.004086Z"
    },
    "papermill": {
     "duration": 0.016005,
     "end_time": "2022-07-26T03:34:31.004485",
     "exception": false,
     "start_time": "2022-07-26T03:34:30.988480",
     "status": "completed"
    },
    "tags": []
   },
   "outputs": [
    {
     "data": {
      "text/markdown": [
       "- Moelis & Co. co-founder to head group advising blockchain companies.  Moelis & Co.'s John Momtazee stated the firm was unfazed launching the group amid a crypto bear market, acknowledging that any new “disruptive” tech comes with volatility.  ... [| Skaityti daugiau](https://cointelegraph.com/news/moelis-co-co-founder-to-head-group-advising-blockchain-companies) "
      ],
      "text/plain": [
       "<IPython.core.display.Markdown object>"
      ]
     },
     "execution_count": 3,
     "metadata": {},
     "output_type": "execute_result"
    }
   ],
   "source": [
    "#hide_input\n",
    "#md('##### {}'.format(titleBTC)) \n",
    "md(\"- {}{} {}{} [| Skaityti daugiau]({}) \".format(blockchain['title'],'. ', blockchain['body'], ' ...', blockchain['url']))"
   ]
  },
  {
   "cell_type": "code",
   "execution_count": 4,
   "id": "aging-caution",
   "metadata": {
    "execution": {
     "iopub.execute_input": "2022-07-26T03:34:31.021943Z",
     "iopub.status.busy": "2022-07-26T03:34:31.021323Z",
     "iopub.status.idle": "2022-07-26T03:34:31.024461Z",
     "shell.execute_reply": "2022-07-26T03:34:31.024043Z"
    },
    "papermill": {
     "duration": 0.013383,
     "end_time": "2022-07-26T03:34:31.024534",
     "exception": false,
     "start_time": "2022-07-26T03:34:31.011151",
     "status": "completed"
    },
    "tags": []
   },
   "outputs": [
    {
     "data": {
      "text/markdown": [
       "- TA: Bitcoin Price Turns Red, Why BTC Could Extend Losses.  Bitcoin started a fresh decline below the $22,000 support against the US Dollar. BTC is declining and might extend losses below the $20,500 support zone. Bitcoin started a fresh decline and traded below the $22,000 level. The price is now trading below the $22,000 level and the 100 hourly simple moving average. There is a major bearish trend line forming with resistance near $21,950 on the hourly chart of the BTC/USD pair (data feed from Kraken). The pair might decline further if there is a clear move below the $20,800 level. Bitcoin Price Gains Bearish Momentum Bitcoin price started a fresh decline after it failed to clear the $24,000 resistance zone. There was a steady decline below the $23,500 and $23,000 levels. The bears gained strength for a move below the $22,500 support level and the 100 hourly simple moving average. Finally, the price traded below the $21,500 support level and even spiked below $21,000. A low is formed near $20,994 and the price is now consolidating losses. On the upside, bitcoin price could face resistance near the $21,650 level. It is near the 50% Fib retracement level of the recent decline from the $22,250 swing high to $20,994 low. The next key resistance is near the $22,000 zone. There is also a major bearish trend line forming with resistance near $21,950 on the hourly chart of the BTC/USD pair. The trend line is near the 76.4% Fib retracement level of the recent decline from the $22,250 swing h... ... [| Skaityti daugiau](https://www.newsbtc.com/analysis/btc/bitcoin-price-turns-red-21k/) "
      ],
      "text/plain": [
       "<IPython.core.display.Markdown object>"
      ]
     },
     "execution_count": 4,
     "metadata": {},
     "output_type": "execute_result"
    }
   ],
   "source": [
    "#hide_input\n",
    "#md('##### {}'.format(titleBTC)) \n",
    "md(\"- {}{} {}{} [| Skaityti daugiau]({}) \".format(btc['title'],'. ', btc['body'], ' ...', btc['url']))"
   ]
  },
  {
   "cell_type": "code",
   "execution_count": 5,
   "id": "organic-actress",
   "metadata": {
    "execution": {
     "iopub.execute_input": "2022-07-26T03:34:31.042344Z",
     "iopub.status.busy": "2022-07-26T03:34:31.041653Z",
     "iopub.status.idle": "2022-07-26T03:34:31.044898Z",
     "shell.execute_reply": "2022-07-26T03:34:31.044539Z"
    },
    "papermill": {
     "duration": 0.013544,
     "end_time": "2022-07-26T03:34:31.044967",
     "exception": false,
     "start_time": "2022-07-26T03:34:31.031423",
     "status": "completed"
    },
    "tags": []
   },
   "outputs": [
    {
     "data": {
      "text/markdown": [
       "- Cardano (ADA) Showing ‘Surge Signs’ As Vital Metric Flashes Green: Analytics Firm Santiment.  Crypto analytics firm Santiment says that the average funding rate of Cardano (ADA) is flashing a bullish signal. According to Santiment, a high funding rate is associated with higher risks of correction, whereas ADA currently has the opposite. “Cardano&#8217;s price is back over $0.50, and up +25% the past ten days. Exchange funding rates are [&#8230;]The post Cardano (ADA) Showing ‘Surge Signs’ As Vital Metric Flashes Green: Analytics Firm Santiment appeared first on The Daily Hodl. ... [| Skaityti daugiau](https://dailyhodl.com/2022/07/25/cardano-ada-showing-surge-signs-as-vital-metric-flashes-green-analytics-firm-santiment/) "
      ],
      "text/plain": [
       "<IPython.core.display.Markdown object>"
      ]
     },
     "execution_count": 5,
     "metadata": {},
     "output_type": "execute_result"
    }
   ],
   "source": [
    "#hide_input\n",
    "#md('##### {}'.format(titleBTC)) \n",
    "md(\"- {}{} {}{} [| Skaityti daugiau]({}) \".format(xrp['title'],'. ', xrp['body'], ' ...', xrp['url']))"
   ]
  },
  {
   "cell_type": "code",
   "execution_count": 6,
   "id": "prompt-farmer",
   "metadata": {
    "execution": {
     "iopub.execute_input": "2022-07-26T03:34:31.070699Z",
     "iopub.status.busy": "2022-07-26T03:34:31.069778Z",
     "iopub.status.idle": "2022-07-26T03:34:31.073132Z",
     "shell.execute_reply": "2022-07-26T03:34:31.071417Z"
    },
    "papermill": {
     "duration": 0.021159,
     "end_time": "2022-07-26T03:34:31.073268",
     "exception": false,
     "start_time": "2022-07-26T03:34:31.052109",
     "status": "completed"
    },
    "tags": []
   },
   "outputs": [
    {
     "data": {
      "text/markdown": [
       "- TRON Bulls Are Back To Pump Some Energy Into TRX Coin.  TRON trading volume has shed a trickle at around 3%. There has been an uptrend movement seen before it recently declined. While the TRON bulls are desperately trying to hold on and support the price, the bears have been doing the heavy lifting so TRX needs to work double and get more buyers to boost the price. The bulls did an excellent job pushing the price of the TRX/BTC pair from a lower low that registered at $0.06613 to $0.06715 but investors still need to time the market before they go full swing. As of this writing, TRX was trading at $0.065623, up 2.5% in the last seven days. Suggested Reading &#124; Solana (SOL) To Hit $166 By 2025, Despite Current Bearish Conditions TRX Market Cap Up 0.43% Over The Last 24 Hours TRX has only gained around 0.43% in terms of market cap overnight. The coin currently has a trading volume capped at 434 million and a market capitalization of 6.4 billion which rounded up a 4% loss in the past 24 hours. The short-term analysis has shown an upside or tilting movement but has somehow flattened as the bears have been increasingly on the dominant side. On the brighter side, the MACD indicator reveals a strong buying signal as the buyers are rushing back to the market. The coin’s RSI also skyrocketed as seen in the hourly price chart as it glides above 50. The Bollinger band cloud appears to be still and isn’t lifting any finger. The TRX price showed a dip of 7% in the past six days which is a ca... ... [| Skaityti daugiau](https://www.newsbtc.com/news/tron-bulls-back-to-boost-trx/) "
      ],
      "text/plain": [
       "<IPython.core.display.Markdown object>"
      ]
     },
     "execution_count": 6,
     "metadata": {},
     "output_type": "execute_result"
    }
   ],
   "source": [
    "#hide_input\n",
    "#md('##### {}'.format(titleBTC)) \n",
    "md(\"- {}{} {}{} [| Skaityti daugiau]({}) \".format(trx['title'],'. ', trx['body'], ' ...', trx['url']))"
   ]
  },
  {
   "cell_type": "code",
   "execution_count": 7,
   "id": "illegal-greece",
   "metadata": {
    "execution": {
     "iopub.execute_input": "2022-07-26T03:34:31.094166Z",
     "iopub.status.busy": "2022-07-26T03:34:31.093459Z",
     "iopub.status.idle": "2022-07-26T03:34:31.096738Z",
     "shell.execute_reply": "2022-07-26T03:34:31.096320Z"
    },
    "papermill": {
     "duration": 0.014231,
     "end_time": "2022-07-26T03:34:31.096813",
     "exception": false,
     "start_time": "2022-07-26T03:34:31.082582",
     "status": "completed"
    },
    "tags": []
   },
   "outputs": [
    {
     "data": {
      "text/markdown": [
       "- Bitcoin, Ethereum, Cronos, and Stellar Daily Price Analyses – 25 July Roundup.  The global crypto market has exhibited a trend of losses as it hasn&#8217;t been able to regain momentum. The changes in the value of Bitcoin, Ethereum, and others show that the efflux has strengthened. The market hasn’t been able to revive value as the regression didn’t let different coins regain value. As the regressive trend &#8230;  Bitcoin, Ethereum, Cronos, and Stellar Daily Price Analyses – 25 July Roundup Read More &#187; ... [| Skaityti daugiau](https://www.cryptopolitan.com/bitcoin-ethereum-cronos-and-stellar-daily-price-analyses-25-july-roundup/) "
      ],
      "text/plain": [
       "<IPython.core.display.Markdown object>"
      ]
     },
     "execution_count": 7,
     "metadata": {},
     "output_type": "execute_result"
    }
   ],
   "source": [
    "#hide_input\n",
    "#md('##### {}'.format(titleBTC)) \n",
    "md(\"- {}{} {}{} [| Skaityti daugiau]({}) \".format(eth['title'],'. ', eth['body'], ' ...', eth['url']))"
   ]
  },
  {
   "cell_type": "code",
   "execution_count": 8,
   "id": "sublime-lounge",
   "metadata": {
    "execution": {
     "iopub.execute_input": "2022-07-26T03:34:31.117098Z",
     "iopub.status.busy": "2022-07-26T03:34:31.116413Z",
     "iopub.status.idle": "2022-07-26T03:34:31.119182Z",
     "shell.execute_reply": "2022-07-26T03:34:31.119609Z"
    },
    "papermill": {
     "duration": 0.014349,
     "end_time": "2022-07-26T03:34:31.119695",
     "exception": false,
     "start_time": "2022-07-26T03:34:31.105346",
     "status": "completed"
    },
    "tags": []
   },
   "outputs": [
    {
     "data": {
      "text/markdown": [
       "- Cardano price analysis: ADA crashes down to $0.49 after weekend rally up to $0.53.  Cardano price analysis is bearish once again, as price took a downturn to move 6 percent below yesterday&#8217;s high at $0.53. ADA remains above the 50-day moving average, but could slide down to $0.47 over the next 24 hours with bears taking over the market. Price enjoyed a positive weekend after moving up to $0.52 &#8230;  Cardano price analysis: ADA crashes down to $0.49 after weekend rally up to $0.53 Read More &#187; ... [| Skaityti daugiau](https://www.cryptopolitan.com/cardano-price-analysis-2022-07-25/) "
      ],
      "text/plain": [
       "<IPython.core.display.Markdown object>"
      ]
     },
     "execution_count": 8,
     "metadata": {},
     "output_type": "execute_result"
    }
   ],
   "source": [
    "#hide_input\n",
    "#md('##### {}'.format(titleBTC)) \n",
    "md(\"- {}{} {}{} [| Skaityti daugiau]({}) \".format(ada['title'],'. ', ada['body'], ' ...', ada['url']))"
   ]
  },
  {
   "cell_type": "code",
   "execution_count": 9,
   "id": "specified-ordering",
   "metadata": {
    "execution": {
     "iopub.execute_input": "2022-07-26T03:34:31.139146Z",
     "iopub.status.busy": "2022-07-26T03:34:31.137958Z",
     "iopub.status.idle": "2022-07-26T03:34:31.141679Z",
     "shell.execute_reply": "2022-07-26T03:34:31.142086Z"
    },
    "papermill": {
     "duration": 0.014644,
     "end_time": "2022-07-26T03:34:31.142166",
     "exception": false,
     "start_time": "2022-07-26T03:34:31.127522",
     "status": "completed"
    },
    "tags": []
   },
   "outputs": [
    {
     "data": {
      "text/markdown": [
       "- Binance CEO CZ Sues Bloomberg Businessweek for Defamation in Hong Kong.  Lost in translation or defamation? Zhao's lawsuit argues that the media statements were \"calculated.\" ... [| Skaityti daugiau](https://decrypt.co/105948/binance-ceo-cz-sues-bloomberg-businessweek-for-defamation-in-hong-kong) "
      ],
      "text/plain": [
       "<IPython.core.display.Markdown object>"
      ]
     },
     "execution_count": 9,
     "metadata": {},
     "output_type": "execute_result"
    }
   ],
   "source": [
    "#hide_input\n",
    "#md('##### {}'.format(titleBTC)) \n",
    "md(\"- {}{} {}{} [| Skaityti daugiau]({}) \".format(exchange['title'],'. ', exchange['body'], ' ...', exchange['url']))"
   ]
  },
  {
   "cell_type": "code",
   "execution_count": null,
   "id": "tender-livestock",
   "metadata": {
    "papermill": {
     "duration": 0.008074,
     "end_time": "2022-07-26T03:34:31.158258",
     "exception": false,
     "start_time": "2022-07-26T03:34:31.150184",
     "status": "completed"
    },
    "tags": []
   },
   "outputs": [],
   "source": []
  },
  {
   "cell_type": "code",
   "execution_count": null,
   "id": "appreciated-diamond",
   "metadata": {
    "papermill": {
     "duration": 0.010895,
     "end_time": "2022-07-26T03:34:31.183661",
     "exception": false,
     "start_time": "2022-07-26T03:34:31.172766",
     "status": "completed"
    },
    "tags": []
   },
   "outputs": [],
   "source": []
  },
  {
   "cell_type": "code",
   "execution_count": null,
   "id": "romance-sweden",
   "metadata": {
    "papermill": {
     "duration": 0.008091,
     "end_time": "2022-07-26T03:34:31.199927",
     "exception": false,
     "start_time": "2022-07-26T03:34:31.191836",
     "status": "completed"
    },
    "tags": []
   },
   "outputs": [],
   "source": []
  },
  {
   "cell_type": "code",
   "execution_count": null,
   "id": "dietary-statistics",
   "metadata": {
    "papermill": {
     "duration": 0.008246,
     "end_time": "2022-07-26T03:34:31.216413",
     "exception": false,
     "start_time": "2022-07-26T03:34:31.208167",
     "status": "completed"
    },
    "tags": []
   },
   "outputs": [],
   "source": []
  }
 ],
 "metadata": {
  "kernelspec": {
   "display_name": "Python 3",
   "language": "python",
   "name": "python3"
  },
  "language_info": {
   "codemirror_mode": {
    "name": "ipython",
    "version": 3
   },
   "file_extension": ".py",
   "mimetype": "text/x-python",
   "name": "python",
   "nbconvert_exporter": "python",
   "pygments_lexer": "ipython3",
   "version": "3.6.15"
  },
  "papermill": {
   "default_parameters": {},
   "duration": 13.104916,
   "end_time": "2022-07-26T03:34:31.541659",
   "environment_variables": {},
   "exception": null,
   "input_path": "Market-News.ipynb",
   "output_path": "Market-News.ipynb",
   "parameters": {},
   "start_time": "2022-07-26T03:34:18.436743",
   "version": "2.2.2"
  }
 },
 "nbformat": 4,
 "nbformat_minor": 5
}