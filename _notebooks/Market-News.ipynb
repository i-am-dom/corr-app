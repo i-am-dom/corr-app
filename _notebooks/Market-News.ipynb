{
 "cells": [
  {
   "cell_type": "markdown",
   "id": "short-greensboro",
   "metadata": {
    "papermill": {
     "duration": 0.012476,
     "end_time": "2022-11-20T02:57:04.810946",
     "exception": false,
     "start_time": "2022-11-20T02:57:04.798470",
     "status": "completed"
    },
    "tags": []
   },
   "source": [
    "# Kriptovaliutų naujienos"
   ]
  },
  {
   "cell_type": "code",
   "execution_count": 1,
   "id": "functioning-knowing",
   "metadata": {
    "execution": {
     "iopub.execute_input": "2022-11-20T02:57:04.839498Z",
     "iopub.status.busy": "2022-11-20T02:57:04.838917Z",
     "iopub.status.idle": "2022-11-20T02:57:05.995719Z",
     "shell.execute_reply": "2022-11-20T02:57:05.994936Z"
    },
    "papermill": {
     "duration": 1.175242,
     "end_time": "2022-11-20T02:57:05.995848",
     "exception": false,
     "start_time": "2022-11-20T02:57:04.820606",
     "status": "completed"
    },
    "tags": []
   },
   "outputs": [],
   "source": [
    "#hide_input\n",
    "import warnings\n",
    "warnings.filterwarnings('ignore')\n",
    "from scripts.read_data import read_api\n",
    "from scripts.read_data import read_news\n",
    "from scripts.read_data import read_covid\n",
    "import matplotlib.pyplot as plt \n",
    "from IPython.display import Markdown as md"
   ]
  },
  {
   "cell_type": "code",
   "execution_count": 2,
   "id": "shared-acceptance",
   "metadata": {
    "execution": {
     "iopub.execute_input": "2022-11-20T02:57:06.024467Z",
     "iopub.status.busy": "2022-11-20T02:57:06.023891Z",
     "iopub.status.idle": "2022-11-20T02:57:12.304125Z",
     "shell.execute_reply": "2022-11-20T02:57:12.303624Z"
    },
    "papermill": {
     "duration": 6.294796,
     "end_time": "2022-11-20T02:57:12.304234",
     "exception": false,
     "start_time": "2022-11-20T02:57:06.009438",
     "status": "completed"
    },
    "tags": []
   },
   "outputs": [],
   "source": [
    "#hide_input\n",
    "blockchain = read_news('blockchain') \n",
    "btc = read_news('btc') \n",
    "xrp = read_news('xrp') \n",
    "trx = read_news('trx') \n",
    "eth = read_news('eth')  \n",
    "ada = read_news('ada')\n",
    "exchange = read_news('exchange') "
   ]
  },
  {
   "cell_type": "code",
   "execution_count": 3,
   "id": "synthetic-notion",
   "metadata": {
    "execution": {
     "iopub.execute_input": "2022-11-20T02:57:12.328172Z",
     "iopub.status.busy": "2022-11-20T02:57:12.327565Z",
     "iopub.status.idle": "2022-11-20T02:57:12.330453Z",
     "shell.execute_reply": "2022-11-20T02:57:12.330896Z"
    },
    "papermill": {
     "duration": 0.017521,
     "end_time": "2022-11-20T02:57:12.331005",
     "exception": false,
     "start_time": "2022-11-20T02:57:12.313484",
     "status": "completed"
    },
    "tags": []
   },
   "outputs": [
    {
     "data": {
      "text/markdown": [
       "- Uniswap: User and dev activity, lack of profitability, and everything in between.  Uniswap’s development activity was the highest in October Since FTX collapsed, the DEX has seen a surge in user activity According to data from on-chain analytics platform Santiment, the decentralized finance (DeFi) protocol Uniswap [UNI] had the most development activity in the last month. Read Uniswap’s [UNI] price prediction 2023-2024 In the last 30 days, ... [| Skaityti daugiau](https://ambcrypto.com/uniswap-user-and-dev-activity-lack-of-profitability-and-everything-in-between/) "
      ],
      "text/plain": [
       "<IPython.core.display.Markdown object>"
      ]
     },
     "execution_count": 3,
     "metadata": {},
     "output_type": "execute_result"
    }
   ],
   "source": [
    "#hide_input\n",
    "#md('##### {}'.format(titleBTC)) \n",
    "md(\"- {}{} {}{} [| Skaityti daugiau]({}) \".format(blockchain['title'],'. ', blockchain['body'], ' ...', blockchain['url']))"
   ]
  },
  {
   "cell_type": "code",
   "execution_count": 4,
   "id": "aging-caution",
   "metadata": {
    "execution": {
     "iopub.execute_input": "2022-11-20T02:57:12.354218Z",
     "iopub.status.busy": "2022-11-20T02:57:12.353658Z",
     "iopub.status.idle": "2022-11-20T02:57:12.356370Z",
     "shell.execute_reply": "2022-11-20T02:57:12.356795Z"
    },
    "papermill": {
     "duration": 0.016518,
     "end_time": "2022-11-20T02:57:12.356901",
     "exception": false,
     "start_time": "2022-11-20T02:57:12.340383",
     "status": "completed"
    },
    "tags": []
   },
   "outputs": [
    {
     "data": {
      "text/markdown": [
       "- Financial Guru Dave Ramsey Weighs in on FTX Collapse — Reiterates His Crypto Warning.  Personal finance guru Dave Ramsey has weighed in on the collapse of cryptocurrency exchange FTX. “I told you so,” he repeatedly said, reiterating his long-standing advice that investors should not put money into crypto. Dave Ramsey on Bitcoin, Crypto, and the FTX Collapse Personal finance guru and Ramsey Solutions CEO Dave Ramsey weighed in on ... [| Skaityti daugiau](https://news.bitcoin.com/financial-guru-dave-ramsey-weighs-in-on-ftx-collapse-reiterates-his-crypto-warning/) "
      ],
      "text/plain": [
       "<IPython.core.display.Markdown object>"
      ]
     },
     "execution_count": 4,
     "metadata": {},
     "output_type": "execute_result"
    }
   ],
   "source": [
    "#hide_input\n",
    "#md('##### {}'.format(titleBTC)) \n",
    "md(\"- {}{} {}{} [| Skaityti daugiau]({}) \".format(btc['title'],'. ', btc['body'], ' ...', btc['url']))"
   ]
  },
  {
   "cell_type": "code",
   "execution_count": 5,
   "id": "organic-actress",
   "metadata": {
    "execution": {
     "iopub.execute_input": "2022-11-20T02:57:12.380494Z",
     "iopub.status.busy": "2022-11-20T02:57:12.379924Z",
     "iopub.status.idle": "2022-11-20T02:57:12.383066Z",
     "shell.execute_reply": "2022-11-20T02:57:12.382628Z"
    },
    "papermill": {
     "duration": 0.016603,
     "end_time": "2022-11-20T02:57:12.383164",
     "exception": false,
     "start_time": "2022-11-20T02:57:12.366561",
     "status": "completed"
    },
    "tags": []
   },
   "outputs": [
    {
     "data": {
      "text/markdown": [
       "- Ripple to consider deals for FTX assets: Brad Garlinghouse.  Brad Garlinghouse, CEO of Ripple, said the company would be interested in companies owned by FTX that serve business customers. ... [| Skaityti daugiau](https://cointelegraph.com/news/ripple-to-consider-deals-for-ftx-assets-brad-garlinghouse) "
      ],
      "text/plain": [
       "<IPython.core.display.Markdown object>"
      ]
     },
     "execution_count": 5,
     "metadata": {},
     "output_type": "execute_result"
    }
   ],
   "source": [
    "#hide_input\n",
    "#md('##### {}'.format(titleBTC)) \n",
    "md(\"- {}{} {}{} [| Skaityti daugiau]({}) \".format(xrp['title'],'. ', xrp['body'], ' ...', xrp['url']))"
   ]
  },
  {
   "cell_type": "code",
   "execution_count": 6,
   "id": "prompt-farmer",
   "metadata": {
    "execution": {
     "iopub.execute_input": "2022-11-20T02:57:12.407521Z",
     "iopub.status.busy": "2022-11-20T02:57:12.406960Z",
     "iopub.status.idle": "2022-11-20T02:57:12.409868Z",
     "shell.execute_reply": "2022-11-20T02:57:12.409345Z"
    },
    "papermill": {
     "duration": 0.016817,
     "end_time": "2022-11-20T02:57:12.409960",
     "exception": false,
     "start_time": "2022-11-20T02:57:12.393143",
     "status": "completed"
    },
    "tags": []
   },
   "outputs": [
    {
     "data": {
      "text/markdown": [
       "- Biggest Movers: ALGO Nearly 10% Higher, TRX Extends Recent Gains.  Algorand has been a notable exception in what has been a relatively bearish start to the weekend. On Nov. 19, the token rose by nearly 10%, as cryptocurrency markets mostly traded lower. Another noteworthy exception was tron, which climbed for a second consecutive day. Algorand (ALGO) Algorand (ALGO) was a notable gainer on Saturday, as ... [| Skaityti daugiau](https://news.bitcoin.com/biggest-movers-algo-nearly-10-higher-trx-extends-recent-gains/) "
      ],
      "text/plain": [
       "<IPython.core.display.Markdown object>"
      ]
     },
     "execution_count": 6,
     "metadata": {},
     "output_type": "execute_result"
    }
   ],
   "source": [
    "#hide_input\n",
    "#md('##### {}'.format(titleBTC)) \n",
    "md(\"- {}{} {}{} [| Skaityti daugiau]({}) \".format(trx['title'],'. ', trx['body'], ' ...', trx['url']))"
   ]
  },
  {
   "cell_type": "code",
   "execution_count": 7,
   "id": "illegal-greece",
   "metadata": {
    "execution": {
     "iopub.execute_input": "2022-11-20T02:57:12.435147Z",
     "iopub.status.busy": "2022-11-20T02:57:12.434575Z",
     "iopub.status.idle": "2022-11-20T02:57:12.437760Z",
     "shell.execute_reply": "2022-11-20T02:57:12.437310Z"
    },
    "papermill": {
     "duration": 0.017473,
     "end_time": "2022-11-20T02:57:12.437853",
     "exception": false,
     "start_time": "2022-11-20T02:57:12.420380",
     "status": "completed"
    },
    "tags": []
   },
   "outputs": [
    {
     "data": {
      "text/markdown": [
       "- Binance’s CZ and Ethereum’s Vitalik agree on new idea as BNB remains stagnant.  Binance’s CEO shared a solution to help avoid exchanges using customer funds as presented by Vitalik Buterin BNB continues to prevail in static positions, according to its on-chain information The CEO of Binance, CZ, agreed with Vitalik Buterin that Centralized Exchanges (CEXes) needed to produce public evidence showing user safety. Of course, CZ had initially ... [| Skaityti daugiau](https://ambcrypto.com/binances-cz-and-ethereums-vitalik-agree-on-new-idea-as-bnb-remains-stagnant/) "
      ],
      "text/plain": [
       "<IPython.core.display.Markdown object>"
      ]
     },
     "execution_count": 7,
     "metadata": {},
     "output_type": "execute_result"
    }
   ],
   "source": [
    "#hide_input\n",
    "#md('##### {}'.format(titleBTC)) \n",
    "md(\"- {}{} {}{} [| Skaityti daugiau]({}) \".format(eth['title'],'. ', eth['body'], ' ...', eth['url']))"
   ]
  },
  {
   "cell_type": "code",
   "execution_count": 8,
   "id": "sublime-lounge",
   "metadata": {
    "execution": {
     "iopub.execute_input": "2022-11-20T02:57:12.463588Z",
     "iopub.status.busy": "2022-11-20T02:57:12.463032Z",
     "iopub.status.idle": "2022-11-20T02:57:12.466827Z",
     "shell.execute_reply": "2022-11-20T02:57:12.466376Z"
    },
    "papermill": {
     "duration": 0.017486,
     "end_time": "2022-11-20T02:57:12.466939",
     "exception": false,
     "start_time": "2022-11-20T02:57:12.449453",
     "status": "completed"
    },
    "tags": []
   },
   "outputs": [
    {
     "data": {
      "text/markdown": [
       "- ADA and BNB Price Analysis for November 19.  Should one expect further drop of Cardano (ADA) and Binance Coin (BNB)? ... [| Skaityti daugiau](https://u.today/ada-and-bnb-price-analysis-for-november-19) "
      ],
      "text/plain": [
       "<IPython.core.display.Markdown object>"
      ]
     },
     "execution_count": 8,
     "metadata": {},
     "output_type": "execute_result"
    }
   ],
   "source": [
    "#hide_input\n",
    "#md('##### {}'.format(titleBTC)) \n",
    "md(\"- {}{} {}{} [| Skaityti daugiau]({}) \".format(ada['title'],'. ', ada['body'], ' ...', ada['url']))"
   ]
  },
  {
   "cell_type": "code",
   "execution_count": 9,
   "id": "specified-ordering",
   "metadata": {
    "execution": {
     "iopub.execute_input": "2022-11-20T02:57:12.492454Z",
     "iopub.status.busy": "2022-11-20T02:57:12.491745Z",
     "iopub.status.idle": "2022-11-20T02:57:12.495775Z",
     "shell.execute_reply": "2022-11-20T02:57:12.495237Z"
    },
    "papermill": {
     "duration": 0.017985,
     "end_time": "2022-11-20T02:57:12.495868",
     "exception": false,
     "start_time": "2022-11-20T02:57:12.477883",
     "status": "completed"
    },
    "tags": []
   },
   "outputs": [
    {
     "data": {
      "text/markdown": [
       "- Financial Guru Dave Ramsey Weighs in on FTX Collapse — Reiterates His Crypto Warning.  Personal finance guru Dave Ramsey has weighed in on the collapse of cryptocurrency exchange FTX. “I told you so,” he repeatedly said, reiterating his long-standing advice that investors should not put money into crypto. Dave Ramsey on Bitcoin, Crypto, and the FTX Collapse Personal finance guru and Ramsey Solutions CEO Dave Ramsey weighed in on ... [| Skaityti daugiau](https://news.bitcoin.com/financial-guru-dave-ramsey-weighs-in-on-ftx-collapse-reiterates-his-crypto-warning/) "
      ],
      "text/plain": [
       "<IPython.core.display.Markdown object>"
      ]
     },
     "execution_count": 9,
     "metadata": {},
     "output_type": "execute_result"
    }
   ],
   "source": [
    "#hide_input\n",
    "#md('##### {}'.format(titleBTC)) \n",
    "md(\"- {}{} {}{} [| Skaityti daugiau]({}) \".format(exchange['title'],'. ', exchange['body'], ' ...', exchange['url']))"
   ]
  },
  {
   "cell_type": "code",
   "execution_count": null,
   "id": "tender-livestock",
   "metadata": {
    "papermill": {
     "duration": 0.011361,
     "end_time": "2022-11-20T02:57:12.518499",
     "exception": false,
     "start_time": "2022-11-20T02:57:12.507138",
     "status": "completed"
    },
    "tags": []
   },
   "outputs": [],
   "source": []
  },
  {
   "cell_type": "code",
   "execution_count": null,
   "id": "appreciated-diamond",
   "metadata": {
    "papermill": {
     "duration": 0.011561,
     "end_time": "2022-11-20T02:57:12.541492",
     "exception": false,
     "start_time": "2022-11-20T02:57:12.529931",
     "status": "completed"
    },
    "tags": []
   },
   "outputs": [],
   "source": []
  },
  {
   "cell_type": "code",
   "execution_count": null,
   "id": "romance-sweden",
   "metadata": {
    "papermill": {
     "duration": 0.011203,
     "end_time": "2022-11-20T02:57:12.564973",
     "exception": false,
     "start_time": "2022-11-20T02:57:12.553770",
     "status": "completed"
    },
    "tags": []
   },
   "outputs": [],
   "source": []
  },
  {
   "cell_type": "code",
   "execution_count": null,
   "id": "dietary-statistics",
   "metadata": {
    "papermill": {
     "duration": 0.011192,
     "end_time": "2022-11-20T02:57:12.587415",
     "exception": false,
     "start_time": "2022-11-20T02:57:12.576223",
     "status": "completed"
    },
    "tags": []
   },
   "outputs": [],
   "source": []
  }
 ],
 "metadata": {
  "kernelspec": {
   "display_name": "Python 3",
   "language": "python",
   "name": "python3"
  },
  "language_info": {
   "codemirror_mode": {
    "name": "ipython",
    "version": 3
   },
   "file_extension": ".py",
   "mimetype": "text/x-python",
   "name": "python",
   "nbconvert_exporter": "python",
   "pygments_lexer": "ipython3",
   "version": "3.6.15"
  },
  "papermill": {
   "default_parameters": {},
   "duration": 9.127815,
   "end_time": "2022-11-20T02:57:13.016209",
   "environment_variables": {},
   "exception": null,
   "input_path": "Market-News.ipynb",
   "output_path": "Market-News.ipynb",
   "parameters": {},
   "start_time": "2022-11-20T02:57:03.888394",
   "version": "2.2.2"
  }
 },
 "nbformat": 4,
 "nbformat_minor": 5
}