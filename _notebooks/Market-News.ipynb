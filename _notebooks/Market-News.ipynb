{
 "cells": [
  {
   "cell_type": "markdown",
   "id": "short-greensboro",
   "metadata": {
    "papermill": {
     "duration": 0.017095,
     "end_time": "2021-09-05T02:00:37.571090",
     "exception": false,
     "start_time": "2021-09-05T02:00:37.553995",
     "status": "completed"
    },
    "tags": []
   },
   "source": [
    "# Kriptovaliutų naujienos"
   ]
  },
  {
   "cell_type": "code",
   "execution_count": 1,
   "id": "functioning-knowing",
   "metadata": {
    "execution": {
     "iopub.execute_input": "2021-09-05T02:00:37.604696Z",
     "iopub.status.busy": "2021-09-05T02:00:37.604069Z",
     "iopub.status.idle": "2021-09-05T02:00:39.093567Z",
     "shell.execute_reply": "2021-09-05T02:00:39.092971Z"
    },
    "papermill": {
     "duration": 1.510979,
     "end_time": "2021-09-05T02:00:39.093724",
     "exception": false,
     "start_time": "2021-09-05T02:00:37.582745",
     "status": "completed"
    },
    "tags": []
   },
   "outputs": [],
   "source": [
    "#hide_input\n",
    "import warnings\n",
    "warnings.filterwarnings('ignore')\n",
    "from scripts.read_data import read_api\n",
    "from scripts.read_data import read_news\n",
    "from scripts.read_data import read_covid\n",
    "import matplotlib.pyplot as plt \n",
    "from IPython.display import Markdown as md"
   ]
  },
  {
   "cell_type": "code",
   "execution_count": 2,
   "id": "shared-acceptance",
   "metadata": {
    "execution": {
     "iopub.execute_input": "2021-09-05T02:00:39.126433Z",
     "iopub.status.busy": "2021-09-05T02:00:39.125341Z",
     "iopub.status.idle": "2021-09-05T02:00:48.592112Z",
     "shell.execute_reply": "2021-09-05T02:00:48.592627Z"
    },
    "papermill": {
     "duration": 9.487237,
     "end_time": "2021-09-05T02:00:48.592785",
     "exception": false,
     "start_time": "2021-09-05T02:00:39.105548",
     "status": "completed"
    },
    "tags": []
   },
   "outputs": [],
   "source": [
    "#hide_input\n",
    "blockchain = read_news('blockchain') \n",
    "btc = read_news('btc') \n",
    "xrp = read_news('xrp') \n",
    "trx = read_news('trx') \n",
    "eth = read_news('eth')  \n",
    "ada = read_news('ada')\n",
    "exchange = read_news('exchange') "
   ]
  },
  {
   "cell_type": "code",
   "execution_count": 3,
   "id": "synthetic-notion",
   "metadata": {
    "execution": {
     "iopub.execute_input": "2021-09-05T02:00:48.621148Z",
     "iopub.status.busy": "2021-09-05T02:00:48.618801Z",
     "iopub.status.idle": "2021-09-05T02:00:48.624141Z",
     "shell.execute_reply": "2021-09-05T02:00:48.625809Z"
    },
    "papermill": {
     "duration": 0.021775,
     "end_time": "2021-09-05T02:00:48.625987",
     "exception": false,
     "start_time": "2021-09-05T02:00:48.604212",
     "status": "completed"
    },
    "tags": []
   },
   "outputs": [
    {
     "data": {
      "text/markdown": [
       "- Interview: Unique Vuele platform aims to revolutionalize movie industry through NFTs.   TL;DR Breakdown Vuele platform aims to revolutionalize movie industry.World first NFT feature film to debut on vuele platform featuring Anthony Hopkins.The Vuele platform to help movie makers offer more to consumers. Vuele is one of the most unique NFT platforms dedicated to revolutionalizing the entire movie industry. The blockchain firm is the first direct-to-consumer, full-length feature film NFT viewing and distribution platform. The firm is set to release its first-ever project featuring movie veteran and multiple award-winning actor Anthony Hopkins in his movie, &#8216;Zero Contact.&#8217; The movie would premier exclusively as an NFT on the Vuele platform. Cameron Chell, Co-head of VUELE and Executive Chairman of CurrencyWorks spoke with Cryptopolitan in an exclusive interview. He spoke more on the Vuele platform, its aims and objective, the benefits of digitizing movies, and other innovations the platform is providing to the burgeoning NFT space. Below are excerpts. Q: Speak more about the VUELE NFT platform: VUELE is a joint venture between CurrencyWorks, a full-service blockchain platform provider, and global production company Enderby Entertainment. It is the first direct-to-consumer, full-length feature film NFT viewing and distribution platform. VUELE members can collect, watch, sell or trade film NFTs and exclusive entertainment content on the platform. VUELE is focused on allowing a studio to promote itself and... ... [| Skaityti daugiau](https://api.follow.it/track-rss-story-click/v3/tHfgumto13CCCH8rJCtkcVRpWVnEcNkS) "
      ],
      "text/plain": [
       "<IPython.core.display.Markdown object>"
      ]
     },
     "execution_count": 3,
     "metadata": {},
     "output_type": "execute_result"
    }
   ],
   "source": [
    "#hide_input\n",
    "#md('##### {}'.format(titleBTC)) \n",
    "md(\"- {}{} {}{} [| Skaityti daugiau]({}) \".format(blockchain['title'],'. ', blockchain['body'], ' ...', blockchain['url']))"
   ]
  },
  {
   "cell_type": "code",
   "execution_count": 4,
   "id": "aging-caution",
   "metadata": {
    "execution": {
     "iopub.execute_input": "2021-09-05T02:00:48.654879Z",
     "iopub.status.busy": "2021-09-05T02:00:48.654022Z",
     "iopub.status.idle": "2021-09-05T02:00:48.657224Z",
     "shell.execute_reply": "2021-09-05T02:00:48.657706Z"
    },
    "papermill": {
     "duration": 0.019952,
     "end_time": "2021-09-05T02:00:48.657847",
     "exception": false,
     "start_time": "2021-09-05T02:00:48.637895",
     "status": "completed"
    },
    "tags": []
   },
   "outputs": [
    {
     "data": {
      "text/markdown": [
       "- Bitcoin’s Price Rises Rapidly Due to Absolute Scarcity.  The fundamental structure of bitcoin quite literally ensures that bitcoin’s price will go up. ... [| Skaityti daugiau](https://bitcoinmagazine.com/culture/bitcoin-price-rises-rapidly-scarcity) "
      ],
      "text/plain": [
       "<IPython.core.display.Markdown object>"
      ]
     },
     "execution_count": 4,
     "metadata": {},
     "output_type": "execute_result"
    }
   ],
   "source": [
    "#hide_input\n",
    "#md('##### {}'.format(titleBTC)) \n",
    "md(\"- {}{} {}{} [| Skaityti daugiau]({}) \".format(btc['title'],'. ', btc['body'], ' ...', btc['url']))"
   ]
  },
  {
   "cell_type": "code",
   "execution_count": 5,
   "id": "organic-actress",
   "metadata": {
    "execution": {
     "iopub.execute_input": "2021-09-05T02:00:48.685357Z",
     "iopub.status.busy": "2021-09-05T02:00:48.684016Z",
     "iopub.status.idle": "2021-09-05T02:00:48.688563Z",
     "shell.execute_reply": "2021-09-05T02:00:48.687958Z"
    },
    "papermill": {
     "duration": 0.019618,
     "end_time": "2021-09-05T02:00:48.688676",
     "exception": false,
     "start_time": "2021-09-05T02:00:48.669058",
     "status": "completed"
    },
    "tags": []
   },
   "outputs": [
    {
     "data": {
      "text/markdown": [
       "- SEC refuses to produce documents related to employees’ XRP, Bitcoin, Ethereum holdings.  In a latest update regarding the ongoing Ripple v. the United States Securities and Exchange Commission [SEC] lawsuit, the SEC opposed Ripple&#8217;s motion compelling it to reveal SEC employees&#8217; XRP holdings. Citing the privacy of its employees, the SEC requested that the court deny defendants&#8217; motion. #XRPCommunity #SECGov v. #Ripple #XRP The SEC has filed [&#8230;] ... [| Skaityti daugiau](https://ambcrypto.com/sec-refuses-to-produce-documents-related-to-employees-xrp-bitcoin-ethereum-holdings/) "
      ],
      "text/plain": [
       "<IPython.core.display.Markdown object>"
      ]
     },
     "execution_count": 5,
     "metadata": {},
     "output_type": "execute_result"
    }
   ],
   "source": [
    "#hide_input\n",
    "#md('##### {}'.format(titleBTC)) \n",
    "md(\"- {}{} {}{} [| Skaityti daugiau]({}) \".format(xrp['title'],'. ', xrp['body'], ' ...', xrp['url']))"
   ]
  },
  {
   "cell_type": "code",
   "execution_count": 6,
   "id": "prompt-farmer",
   "metadata": {
    "execution": {
     "iopub.execute_input": "2021-09-05T02:00:48.717544Z",
     "iopub.status.busy": "2021-09-05T02:00:48.716951Z",
     "iopub.status.idle": "2021-09-05T02:00:48.719800Z",
     "shell.execute_reply": "2021-09-05T02:00:48.720289Z"
    },
    "papermill": {
     "duration": 0.019217,
     "end_time": "2021-09-05T02:00:48.720416",
     "exception": false,
     "start_time": "2021-09-05T02:00:48.701199",
     "status": "completed"
    },
    "tags": []
   },
   "outputs": [
    {
     "data": {
      "text/markdown": [
       "- What Should We Expect From The Launch of The Bored Ape Yacht Club Tron?.  A new project has appeared on the raging NFT market and it is supposed to capture the attention of the Tron community. Bored Ape Yacht Club Tron is a copycat version of the Ethereum-based OG Bored Ape Yacht Club collection. Bored Ape Yacht Club Tron is the 3rd TRON-based project launched on the NFT-market. The first project of this kind was sold out in under 4 months, and the second – in just 36 hours. TRON NFTs have also demonstrated some spectacular results on the secondary market. For instance, Justin Sun bought a Tpunk for as much as $10.5 million. The Tron-based collection consists of 10,000 Bored Ape NFTs hosted on the TRON network. Each Bored Ape is unique and programmatically generated from over 170 possible traits, including expression, headwear, clothing, and more. Another 15 unique Apes were added to the collection specifically for the fans of the Tron network: FOR DIAMOND TOKEN HOLDERS (6/10000) &#8211; 6 NFTs dedicated to the projects included in the TRON ecosystem; FOR EPIC TRON FANS (6/10000) &#8211; 6 NFTs with unique traits created for TRON fans; SECRET GROUP (3/10000) &#8211; 3 secret NFTs that will come as a surprise for the whole community after minting. The minting price is 1,000 TRX for 1 NFT, which stands at the same level as previous TRON-based projects. By comparison, the average price of an Ethereum-based Bored Ape Yacht Club NFT is around 39 ETH, and for Tpunks the floor price is x20, and this floor ... ... [| Skaityti daugiau](https://www.newsbtc.com/news/company/what-should-we-expect-from-the-launch-of-the-bored-ape-yacht-club-tron/) "
      ],
      "text/plain": [
       "<IPython.core.display.Markdown object>"
      ]
     },
     "execution_count": 6,
     "metadata": {},
     "output_type": "execute_result"
    }
   ],
   "source": [
    "#hide_input\n",
    "#md('##### {}'.format(titleBTC)) \n",
    "md(\"- {}{} {}{} [| Skaityti daugiau]({}) \".format(trx['title'],'. ', trx['body'], ' ...', trx['url']))"
   ]
  },
  {
   "cell_type": "code",
   "execution_count": 7,
   "id": "illegal-greece",
   "metadata": {
    "execution": {
     "iopub.execute_input": "2021-09-05T02:00:48.751092Z",
     "iopub.status.busy": "2021-09-05T02:00:48.750399Z",
     "iopub.status.idle": "2021-09-05T02:00:48.752990Z",
     "shell.execute_reply": "2021-09-05T02:00:48.753623Z"
    },
    "papermill": {
     "duration": 0.021487,
     "end_time": "2021-09-05T02:00:48.753774",
     "exception": false,
     "start_time": "2021-09-05T02:00:48.732287",
     "status": "completed"
    },
    "tags": []
   },
   "outputs": [
    {
     "data": {
      "text/markdown": [
       "- Vitalik Buterin Has Suggestions for Dogecoin and Doge’s Cooperation With Ethereum.  Ethereum co-founder Vitalik Buterin has some suggestions of what he personally would like to see happening with Dogecoin and the meme cryptocurrency&#x2019;s cooperation with Ethereum. Vitalik Buterin on Dogecoin&#x2019;s Development and Its Ethereum Collaboration Ethereum co-founder Vitalik Buterin shared his thoughts on the potential cooperation between Dogecoin and Ethereum Wednesday as part of a Twitter [&#8230;] ... [| Skaityti daugiau](https://news.bitcoin.com/vitalik-buterin-suggestions-dogecoin-doges-cooperation-with-ethereum/) "
      ],
      "text/plain": [
       "<IPython.core.display.Markdown object>"
      ]
     },
     "execution_count": 7,
     "metadata": {},
     "output_type": "execute_result"
    }
   ],
   "source": [
    "#hide_input\n",
    "#md('##### {}'.format(titleBTC)) \n",
    "md(\"- {}{} {}{} [| Skaityti daugiau]({}) \".format(eth['title'],'. ', eth['body'], ' ...', eth['url']))"
   ]
  },
  {
   "cell_type": "code",
   "execution_count": 8,
   "id": "sublime-lounge",
   "metadata": {
    "execution": {
     "iopub.execute_input": "2021-09-05T02:00:48.786847Z",
     "iopub.status.busy": "2021-09-05T02:00:48.786198Z",
     "iopub.status.idle": "2021-09-05T02:00:48.789461Z",
     "shell.execute_reply": "2021-09-05T02:00:48.788913Z"
    },
    "papermill": {
     "duration": 0.021758,
     "end_time": "2021-09-05T02:00:48.789584",
     "exception": false,
     "start_time": "2021-09-05T02:00:48.767826",
     "status": "completed"
    },
    "tags": []
   },
   "outputs": [
    {
     "data": {
      "text/markdown": [
       "- This may severely impact Cardano’s upward trajectory.  Although a few candlewicks rose above the $3-mark, Cardano was yet to register a daily close above $2.96. In fact, the world&#8217;s third largest digital asset was now taking shape within a descending wedge and the same was expected to severely impact ADA&#8217;s upwards trajectory. Bearish signs settled on a few of its indicators and [&#8230;] ... [| Skaityti daugiau](https://ambcrypto.com/this-may-severely-impact-cardanos-upward-trajectory/) "
      ],
      "text/plain": [
       "<IPython.core.display.Markdown object>"
      ]
     },
     "execution_count": 8,
     "metadata": {},
     "output_type": "execute_result"
    }
   ],
   "source": [
    "#hide_input\n",
    "#md('##### {}'.format(titleBTC)) \n",
    "md(\"- {}{} {}{} [| Skaityti daugiau]({}) \".format(ada['title'],'. ', ada['body'], ' ...', ada['url']))"
   ]
  },
  {
   "cell_type": "code",
   "execution_count": 9,
   "id": "specified-ordering",
   "metadata": {
    "execution": {
     "iopub.execute_input": "2021-09-05T02:00:48.822719Z",
     "iopub.status.busy": "2021-09-05T02:00:48.822050Z",
     "iopub.status.idle": "2021-09-05T02:00:48.825378Z",
     "shell.execute_reply": "2021-09-05T02:00:48.824825Z"
    },
    "papermill": {
     "duration": 0.022397,
     "end_time": "2021-09-05T02:00:48.825624",
     "exception": false,
     "start_time": "2021-09-05T02:00:48.803227",
     "status": "completed"
    },
    "tags": []
   },
   "outputs": [
    {
     "data": {
      "text/markdown": [
       "- Crypto Needs Regulation If It’s Going To Survive, Says SEC Boss.  The Chairman of the Securities and Exchange Commission (SEC) has called for the crypto space to work with regulators. The Financial Times reported that Chairman Gary Gensler had asked Congress to empower his agency so they will be better able to govern the market. It is still not clear yet which agency has oversight of the cryptocurrency industry, as regulators mainly classify bitcoin as more of a commodity than it is a security. Related Reading &#124; Deloitte Survey Shows 76% Of Finance Execs Think Physical Money Is Nearing Its End It is estimated that less than 10% of the world currently knows about crypto. But nevertheless, it is still a large enough number that has prompted regulators to start looking into ways of properly regulating these digital assets. It is no longer just retail investors who are trying to make some quick profit on highly volatile markets. Institutional investors have also thrown their hat in the ring, like in the case of Michael Saylor’s MicroStrategy. Finance Is About Trust Gensler believes that if the market is to grow, then it needs to embrace regulation. The SEC chairman explained that regulation would provide trust in the market, which is important if the market does not want to become irrelevant over time. “Finance is about trust, ultimately,” Gensler said. Gensler’s focus is mostly on trading platforms, given that this is where the majority (~95%) of activities in the crypto market are carried... ... [| Skaityti daugiau](https://www.newsbtc.com/news/crypto-needs-regulation-to-survive/) "
      ],
      "text/plain": [
       "<IPython.core.display.Markdown object>"
      ]
     },
     "execution_count": 9,
     "metadata": {},
     "output_type": "execute_result"
    }
   ],
   "source": [
    "#hide_input\n",
    "#md('##### {}'.format(titleBTC)) \n",
    "md(\"- {}{} {}{} [| Skaityti daugiau]({}) \".format(exchange['title'],'. ', exchange['body'], ' ...', exchange['url']))"
   ]
  },
  {
   "cell_type": "code",
   "execution_count": null,
   "id": "tender-livestock",
   "metadata": {
    "papermill": {
     "duration": 0.014493,
     "end_time": "2021-09-05T02:00:48.853778",
     "exception": false,
     "start_time": "2021-09-05T02:00:48.839285",
     "status": "completed"
    },
    "tags": []
   },
   "outputs": [],
   "source": []
  },
  {
   "cell_type": "code",
   "execution_count": null,
   "id": "appreciated-diamond",
   "metadata": {
    "papermill": {
     "duration": 0.013649,
     "end_time": "2021-09-05T02:00:48.881392",
     "exception": false,
     "start_time": "2021-09-05T02:00:48.867743",
     "status": "completed"
    },
    "tags": []
   },
   "outputs": [],
   "source": []
  },
  {
   "cell_type": "code",
   "execution_count": null,
   "id": "romance-sweden",
   "metadata": {
    "papermill": {
     "duration": 0.014511,
     "end_time": "2021-09-05T02:00:48.910250",
     "exception": false,
     "start_time": "2021-09-05T02:00:48.895739",
     "status": "completed"
    },
    "tags": []
   },
   "outputs": [],
   "source": []
  },
  {
   "cell_type": "code",
   "execution_count": null,
   "id": "dietary-statistics",
   "metadata": {
    "papermill": {
     "duration": 0.014145,
     "end_time": "2021-09-05T02:00:48.938462",
     "exception": false,
     "start_time": "2021-09-05T02:00:48.924317",
     "status": "completed"
    },
    "tags": []
   },
   "outputs": [],
   "source": []
  }
 ],
 "metadata": {
  "kernelspec": {
   "display_name": "Python 3",
   "language": "python",
   "name": "python3"
  },
  "language_info": {
   "codemirror_mode": {
    "name": "ipython",
    "version": 3
   },
   "file_extension": ".py",
   "mimetype": "text/x-python",
   "name": "python",
   "nbconvert_exporter": "python",
   "pygments_lexer": "ipython3",
   "version": "3.6.14"
  },
  "papermill": {
   "default_parameters": {},
   "duration": 12.989786,
   "end_time": "2021-09-05T02:00:49.460795",
   "environment_variables": {},
   "exception": null,
   "input_path": "Market-News.ipynb",
   "output_path": "Market-News.ipynb",
   "parameters": {},
   "start_time": "2021-09-05T02:00:36.471009",
   "version": "2.2.2"
  }
 },
 "nbformat": 4,
 "nbformat_minor": 5
}