{
 "cells": [
  {
   "cell_type": "markdown",
   "id": "short-greensboro",
   "metadata": {
    "papermill": {
     "duration": 0.015677,
     "end_time": "2022-09-18T03:51:34.724602",
     "exception": false,
     "start_time": "2022-09-18T03:51:34.708925",
     "status": "completed"
    },
    "tags": []
   },
   "source": [
    "# Kriptovaliutų naujienos"
   ]
  },
  {
   "cell_type": "code",
   "execution_count": 1,
   "id": "functioning-knowing",
   "metadata": {
    "execution": {
     "iopub.execute_input": "2022-09-18T03:51:34.756853Z",
     "iopub.status.busy": "2022-09-18T03:51:34.756198Z",
     "iopub.status.idle": "2022-09-18T03:51:36.123486Z",
     "shell.execute_reply": "2022-09-18T03:51:36.122782Z"
    },
    "papermill": {
     "duration": 1.388616,
     "end_time": "2022-09-18T03:51:36.123639",
     "exception": false,
     "start_time": "2022-09-18T03:51:34.735023",
     "status": "completed"
    },
    "tags": []
   },
   "outputs": [],
   "source": [
    "#hide_input\n",
    "import warnings\n",
    "warnings.filterwarnings('ignore')\n",
    "from scripts.read_data import read_api\n",
    "from scripts.read_data import read_news\n",
    "from scripts.read_data import read_covid\n",
    "import matplotlib.pyplot as plt \n",
    "from IPython.display import Markdown as md"
   ]
  },
  {
   "cell_type": "code",
   "execution_count": 2,
   "id": "shared-acceptance",
   "metadata": {
    "execution": {
     "iopub.execute_input": "2022-09-18T03:51:36.151281Z",
     "iopub.status.busy": "2022-09-18T03:51:36.150135Z",
     "iopub.status.idle": "2022-09-18T03:51:46.425025Z",
     "shell.execute_reply": "2022-09-18T03:51:46.424456Z"
    },
    "papermill": {
     "duration": 10.291061,
     "end_time": "2022-09-18T03:51:46.425156",
     "exception": false,
     "start_time": "2022-09-18T03:51:36.134095",
     "status": "completed"
    },
    "tags": []
   },
   "outputs": [],
   "source": [
    "#hide_input\n",
    "blockchain = read_news('blockchain') \n",
    "btc = read_news('btc') \n",
    "xrp = read_news('xrp') \n",
    "trx = read_news('trx') \n",
    "eth = read_news('eth')  \n",
    "ada = read_news('ada')\n",
    "exchange = read_news('exchange') "
   ]
  },
  {
   "cell_type": "code",
   "execution_count": 3,
   "id": "synthetic-notion",
   "metadata": {
    "execution": {
     "iopub.execute_input": "2022-09-18T03:51:46.452014Z",
     "iopub.status.busy": "2022-09-18T03:51:46.451315Z",
     "iopub.status.idle": "2022-09-18T03:51:46.454336Z",
     "shell.execute_reply": "2022-09-18T03:51:46.454861Z"
    },
    "papermill": {
     "duration": 0.019854,
     "end_time": "2022-09-18T03:51:46.455012",
     "exception": false,
     "start_time": "2022-09-18T03:51:46.435158",
     "status": "completed"
    },
    "tags": []
   },
   "outputs": [
    {
     "data": {
      "text/markdown": [
       "- Cardano: With the Vasil hardfork just days away, ADA shows no signs of recovery.  Cardano [ADA], in its newly published weekly development updates, saw some ecosystem growth between 9 to 16 September. According to the report, 98 projects launched on the blockchain within the period under review. This represented a 4% uptick from the 94 projects launched on the network the week before. With a 2% increment between 9 and 16 [&#8230;] ... [| Skaityti daugiau](https://ambcrypto.com/cardano-with-the-vasil-hardfork-just-days-away-ada-shows-no-signs-of-recovery/) "
      ],
      "text/plain": [
       "<IPython.core.display.Markdown object>"
      ]
     },
     "execution_count": 3,
     "metadata": {},
     "output_type": "execute_result"
    }
   ],
   "source": [
    "#hide_input\n",
    "#md('##### {}'.format(titleBTC)) \n",
    "md(\"- {}{} {}{} [| Skaityti daugiau]({}) \".format(blockchain['title'],'. ', blockchain['body'], ' ...', blockchain['url']))"
   ]
  },
  {
   "cell_type": "code",
   "execution_count": 4,
   "id": "aging-caution",
   "metadata": {
    "execution": {
     "iopub.execute_input": "2022-09-18T03:51:46.481555Z",
     "iopub.status.busy": "2022-09-18T03:51:46.480584Z",
     "iopub.status.idle": "2022-09-18T03:51:46.485063Z",
     "shell.execute_reply": "2022-09-18T03:51:46.484525Z"
    },
    "papermill": {
     "duration": 0.01988,
     "end_time": "2022-09-18T03:51:46.485171",
     "exception": false,
     "start_time": "2022-09-18T03:51:46.465291",
     "status": "completed"
    },
    "tags": []
   },
   "outputs": [
    {
     "data": {
      "text/markdown": [
       "- Bitcoin, Ethereum, Hedera Hashgraph, and Chiliz Daily Price Analyses – 17 September Roundup.  The performance of the global crypto market has shown optimistic results as the influx of gains continues. The recent changes in the market show that the market has continued to grow in value. The changes for Bitcoin, Ethereum, and others show that the market will likely continue. If the ongoing changes continue, the market might &#8230;  Bitcoin, Ethereum, Hedera Hashgraph, and Chiliz Daily Price Analyses – 17 September Roundup Read More &#187; ... [| Skaityti daugiau](https://www.cryptopolitan.com/bitcoin-ethereum-hedera-hashgraph-and-chiliz-daily-price-analyses-17-september-roundup/) "
      ],
      "text/plain": [
       "<IPython.core.display.Markdown object>"
      ]
     },
     "execution_count": 4,
     "metadata": {},
     "output_type": "execute_result"
    }
   ],
   "source": [
    "#hide_input\n",
    "#md('##### {}'.format(titleBTC)) \n",
    "md(\"- {}{} {}{} [| Skaityti daugiau]({}) \".format(btc['title'],'. ', btc['body'], ' ...', btc['url']))"
   ]
  },
  {
   "cell_type": "code",
   "execution_count": 5,
   "id": "organic-actress",
   "metadata": {
    "execution": {
     "iopub.execute_input": "2022-09-18T03:51:46.518170Z",
     "iopub.status.busy": "2022-09-18T03:51:46.517492Z",
     "iopub.status.idle": "2022-09-18T03:51:46.521493Z",
     "shell.execute_reply": "2022-09-18T03:51:46.520872Z"
    },
    "papermill": {
     "duration": 0.021842,
     "end_time": "2022-09-18T03:51:46.521615",
     "exception": false,
     "start_time": "2022-09-18T03:51:46.499773",
     "status": "completed"
    },
    "tags": []
   },
   "outputs": [
    {
     "data": {
      "text/markdown": [
       "- Ethereum (ETH) Price Is Likely To Stop Bouncing Now, Analyst.  In a tweet two days ago, Bluntz predicted that ETH is only a 10% drop away from stabilizing. The Crypto trader is famous for accurately predicting Bitcoin’s 2018 bear market. More popular as the “smart contracter,” the strategist explained that he had been closely tracking ETH price charts since August. “Ethereum is in the final stages of its current bearish run and will swing upward soon,” he assured his 211,000 followers. Once the token corrects its course, investors can then get ready to take up long-term positions, the tweet explained. Related Reading: XRP Sluggish In Last 7 Days As Ripple Vs. SEC Case Drags On Smart Contracter’s Predictions Have Held Thus Far Smart Contracter presented a chart based on the Elliot Wave theory as evidence of his predictions. As one of the prominent theorists of this market analysis method, Bluntz has successfully made some predictions in the past. Apart from his much-lauded 2018 Bitcoin forecast, the strategist&#8217;s recent predictions on Ethereum seem to be holding so far. Smart contracter predicted September’s $1800 rise last month using the Wave crowd psychology method. At the time of his prognosis, the second largest crypto was trading a $1600 low. The analyst predicted that ETH would rise temporarily in a B wave before bottoming out in anticipation of another rally. He forecasts that ETH will dip to $1,200 before climbing back to $2,000. Other Predictions By Smart Contracter We&#8217... ... [| Skaityti daugiau](https://www.newsbtc.com/news/ethereum/ethereum-eth-price-is-likely-to-stop-bouncing-now-analyst-says/) "
      ],
      "text/plain": [
       "<IPython.core.display.Markdown object>"
      ]
     },
     "execution_count": 5,
     "metadata": {},
     "output_type": "execute_result"
    }
   ],
   "source": [
    "#hide_input\n",
    "#md('##### {}'.format(titleBTC)) \n",
    "md(\"- {}{} {}{} [| Skaityti daugiau]({}) \".format(xrp['title'],'. ', xrp['body'], ' ...', xrp['url']))"
   ]
  },
  {
   "cell_type": "code",
   "execution_count": 6,
   "id": "prompt-farmer",
   "metadata": {
    "execution": {
     "iopub.execute_input": "2022-09-18T03:51:46.549626Z",
     "iopub.status.busy": "2022-09-18T03:51:46.548124Z",
     "iopub.status.idle": "2022-09-18T03:51:46.553569Z",
     "shell.execute_reply": "2022-09-18T03:51:46.554380Z"
    },
    "papermill": {
     "duration": 0.022165,
     "end_time": "2022-09-18T03:51:46.554583",
     "exception": false,
     "start_time": "2022-09-18T03:51:46.532418",
     "status": "completed"
    },
    "tags": []
   },
   "outputs": [
    {
     "data": {
      "text/markdown": [
       "- Tron (TRX) And Polygon (MATIC) Holders Begin Buying Into Flasko (FLSK) Presale.  The post Tron (TRX) And Polygon (MATIC) Holders Begin Buying Into Flasko (FLSK) Presale appeared first on Coinpedia - Fintech &amp; Cryptocurreny News Media| Crypto GuideCrypto investors worldwide focus on tokens that perform well because such projects guarantee a positive return. Polygon (MATIC) and TRON (TRX) were previously market leaders with high profits, but their investors are now content with limited growth. Flasko (FLSK) holders, on the other side, are riding a unicorn of profit and expansion. Polygon (MATIC) is &#8230; ... [| Skaityti daugiau](https://coinpedia.org/press-release/tron-trx-and-polygon-matic-holders-begin-buying-into-flasko-flsk-presale/) "
      ],
      "text/plain": [
       "<IPython.core.display.Markdown object>"
      ]
     },
     "execution_count": 6,
     "metadata": {},
     "output_type": "execute_result"
    }
   ],
   "source": [
    "#hide_input\n",
    "#md('##### {}'.format(titleBTC)) \n",
    "md(\"- {}{} {}{} [| Skaityti daugiau]({}) \".format(trx['title'],'. ', trx['body'], ' ...', trx['url']))"
   ]
  },
  {
   "cell_type": "code",
   "execution_count": 7,
   "id": "illegal-greece",
   "metadata": {
    "execution": {
     "iopub.execute_input": "2022-09-18T03:51:46.583774Z",
     "iopub.status.busy": "2022-09-18T03:51:46.582788Z",
     "iopub.status.idle": "2022-09-18T03:51:46.586986Z",
     "shell.execute_reply": "2022-09-18T03:51:46.587607Z"
    },
    "papermill": {
     "duration": 0.020913,
     "end_time": "2022-09-18T03:51:46.587741",
     "exception": false,
     "start_time": "2022-09-18T03:51:46.566828",
     "status": "completed"
    },
    "tags": []
   },
   "outputs": [
    {
     "data": {
      "text/markdown": [
       "- Bitcoin, Ethereum, Hedera Hashgraph, and Chiliz Daily Price Analyses – 17 September Roundup.  The performance of the global crypto market has shown optimistic results as the influx of gains continues. The recent changes in the market show that the market has continued to grow in value. The changes for Bitcoin, Ethereum, and others show that the market will likely continue. If the ongoing changes continue, the market might &#8230;  Bitcoin, Ethereum, Hedera Hashgraph, and Chiliz Daily Price Analyses – 17 September Roundup Read More &#187; ... [| Skaityti daugiau](https://www.cryptopolitan.com/bitcoin-ethereum-hedera-hashgraph-and-chiliz-daily-price-analyses-17-september-roundup/) "
      ],
      "text/plain": [
       "<IPython.core.display.Markdown object>"
      ]
     },
     "execution_count": 7,
     "metadata": {},
     "output_type": "execute_result"
    }
   ],
   "source": [
    "#hide_input\n",
    "#md('##### {}'.format(titleBTC)) \n",
    "md(\"- {}{} {}{} [| Skaityti daugiau]({}) \".format(eth['title'],'. ', eth['body'], ' ...', eth['url']))"
   ]
  },
  {
   "cell_type": "code",
   "execution_count": 8,
   "id": "sublime-lounge",
   "metadata": {
    "execution": {
     "iopub.execute_input": "2022-09-18T03:51:46.625495Z",
     "iopub.status.busy": "2022-09-18T03:51:46.624481Z",
     "iopub.status.idle": "2022-09-18T03:51:46.629030Z",
     "shell.execute_reply": "2022-09-18T03:51:46.629486Z"
    },
    "papermill": {
     "duration": 0.028991,
     "end_time": "2022-09-18T03:51:46.629614",
     "exception": false,
     "start_time": "2022-09-18T03:51:46.600623",
     "status": "completed"
    },
    "tags": []
   },
   "outputs": [
    {
     "data": {
      "text/markdown": [
       "- Cardano: With the Vasil hardfork just days away, ADA shows no signs of recovery.  Cardano [ADA], in its newly published weekly development updates, saw some ecosystem growth between 9 to 16 September. According to the report, 98 projects launched on the blockchain within the period under review. This represented a 4% uptick from the 94 projects launched on the network the week before. With a 2% increment between 9 and 16 [&#8230;] ... [| Skaityti daugiau](https://ambcrypto.com/cardano-with-the-vasil-hardfork-just-days-away-ada-shows-no-signs-of-recovery/) "
      ],
      "text/plain": [
       "<IPython.core.display.Markdown object>"
      ]
     },
     "execution_count": 8,
     "metadata": {},
     "output_type": "execute_result"
    }
   ],
   "source": [
    "#hide_input\n",
    "#md('##### {}'.format(titleBTC)) \n",
    "md(\"- {}{} {}{} [| Skaityti daugiau]({}) \".format(ada['title'],'. ', ada['body'], ' ...', ada['url']))"
   ]
  },
  {
   "cell_type": "code",
   "execution_count": 9,
   "id": "specified-ordering",
   "metadata": {
    "execution": {
     "iopub.execute_input": "2022-09-18T03:51:46.659724Z",
     "iopub.status.busy": "2022-09-18T03:51:46.659029Z",
     "iopub.status.idle": "2022-09-18T03:51:46.663392Z",
     "shell.execute_reply": "2022-09-18T03:51:46.662797Z"
    },
    "papermill": {
     "duration": 0.021802,
     "end_time": "2022-09-18T03:51:46.663520",
     "exception": false,
     "start_time": "2022-09-18T03:51:46.641718",
     "status": "completed"
    },
    "tags": []
   },
   "outputs": [
    {
     "data": {
      "text/markdown": [
       "- FTX investors should watch out for FTT touching $23-$25 range over the weekend.  Disclaimer: The information presented does not constitute financial, investment, trading, or other types of advice and is solely the writer’s opinion. The FTX exchange token FTT has been in a downtrend since March. In May, the price formed a descending channel, and a breakout upward has not been seen yet. It is the fourth largest [&#8230;] ... [| Skaityti daugiau](https://ambcrypto.com/ftx-investors-should-watch-out-for-ftt-touching-23-25-range-over-the-weekend/) "
      ],
      "text/plain": [
       "<IPython.core.display.Markdown object>"
      ]
     },
     "execution_count": 9,
     "metadata": {},
     "output_type": "execute_result"
    }
   ],
   "source": [
    "#hide_input\n",
    "#md('##### {}'.format(titleBTC)) \n",
    "md(\"- {}{} {}{} [| Skaityti daugiau]({}) \".format(exchange['title'],'. ', exchange['body'], ' ...', exchange['url']))"
   ]
  },
  {
   "cell_type": "code",
   "execution_count": null,
   "id": "tender-livestock",
   "metadata": {
    "papermill": {
     "duration": 0.01271,
     "end_time": "2022-09-18T03:51:46.689130",
     "exception": false,
     "start_time": "2022-09-18T03:51:46.676420",
     "status": "completed"
    },
    "tags": []
   },
   "outputs": [],
   "source": []
  },
  {
   "cell_type": "code",
   "execution_count": null,
   "id": "appreciated-diamond",
   "metadata": {
    "papermill": {
     "duration": 0.012692,
     "end_time": "2022-09-18T03:51:46.714493",
     "exception": false,
     "start_time": "2022-09-18T03:51:46.701801",
     "status": "completed"
    },
    "tags": []
   },
   "outputs": [],
   "source": []
  },
  {
   "cell_type": "code",
   "execution_count": null,
   "id": "romance-sweden",
   "metadata": {
    "papermill": {
     "duration": 0.012369,
     "end_time": "2022-09-18T03:51:46.739486",
     "exception": false,
     "start_time": "2022-09-18T03:51:46.727117",
     "status": "completed"
    },
    "tags": []
   },
   "outputs": [],
   "source": []
  },
  {
   "cell_type": "code",
   "execution_count": null,
   "id": "dietary-statistics",
   "metadata": {
    "papermill": {
     "duration": 0.013301,
     "end_time": "2022-09-18T03:51:46.765260",
     "exception": false,
     "start_time": "2022-09-18T03:51:46.751959",
     "status": "completed"
    },
    "tags": []
   },
   "outputs": [],
   "source": []
  }
 ],
 "metadata": {
  "kernelspec": {
   "display_name": "Python 3",
   "language": "python",
   "name": "python3"
  },
  "language_info": {
   "codemirror_mode": {
    "name": "ipython",
    "version": 3
   },
   "file_extension": ".py",
   "mimetype": "text/x-python",
   "name": "python",
   "nbconvert_exporter": "python",
   "pygments_lexer": "ipython3",
   "version": "3.6.15"
  },
  "papermill": {
   "default_parameters": {},
   "duration": 13.856794,
   "end_time": "2022-09-18T03:51:47.299130",
   "environment_variables": {},
   "exception": null,
   "input_path": "Market-News.ipynb",
   "output_path": "Market-News.ipynb",
   "parameters": {},
   "start_time": "2022-09-18T03:51:33.442336",
   "version": "2.2.2"
  }
 },
 "nbformat": 4,
 "nbformat_minor": 5
}