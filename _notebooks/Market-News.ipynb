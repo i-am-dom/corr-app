{
 "cells": [
  {
   "cell_type": "markdown",
   "id": "short-greensboro",
   "metadata": {
    "papermill": {
     "duration": 0.013704,
     "end_time": "2022-10-16T03:46:10.090500",
     "exception": false,
     "start_time": "2022-10-16T03:46:10.076796",
     "status": "completed"
    },
    "tags": []
   },
   "source": [
    "# Kriptovaliutų naujienos"
   ]
  },
  {
   "cell_type": "code",
   "execution_count": 1,
   "id": "functioning-knowing",
   "metadata": {
    "execution": {
     "iopub.execute_input": "2022-10-16T03:46:10.120022Z",
     "iopub.status.busy": "2022-10-16T03:46:10.119432Z",
     "iopub.status.idle": "2022-10-16T03:46:11.337133Z",
     "shell.execute_reply": "2022-10-16T03:46:11.335829Z"
    },
    "papermill": {
     "duration": 1.237259,
     "end_time": "2022-10-16T03:46:11.337292",
     "exception": false,
     "start_time": "2022-10-16T03:46:10.100033",
     "status": "completed"
    },
    "tags": []
   },
   "outputs": [],
   "source": [
    "#hide_input\n",
    "import warnings\n",
    "warnings.filterwarnings('ignore')\n",
    "from scripts.read_data import read_api\n",
    "from scripts.read_data import read_news\n",
    "from scripts.read_data import read_covid\n",
    "import matplotlib.pyplot as plt \n",
    "from IPython.display import Markdown as md"
   ]
  },
  {
   "cell_type": "code",
   "execution_count": 2,
   "id": "shared-acceptance",
   "metadata": {
    "execution": {
     "iopub.execute_input": "2022-10-16T03:46:11.361751Z",
     "iopub.status.busy": "2022-10-16T03:46:11.360702Z",
     "iopub.status.idle": "2022-10-16T03:46:20.806657Z",
     "shell.execute_reply": "2022-10-16T03:46:20.806079Z"
    },
    "papermill": {
     "duration": 9.460274,
     "end_time": "2022-10-16T03:46:20.806794",
     "exception": false,
     "start_time": "2022-10-16T03:46:11.346520",
     "status": "completed"
    },
    "tags": []
   },
   "outputs": [],
   "source": [
    "#hide_input\n",
    "blockchain = read_news('blockchain') \n",
    "btc = read_news('btc') \n",
    "xrp = read_news('xrp') \n",
    "trx = read_news('trx') \n",
    "eth = read_news('eth')  \n",
    "ada = read_news('ada')\n",
    "exchange = read_news('exchange') "
   ]
  },
  {
   "cell_type": "code",
   "execution_count": 3,
   "id": "synthetic-notion",
   "metadata": {
    "execution": {
     "iopub.execute_input": "2022-10-16T03:46:20.832280Z",
     "iopub.status.busy": "2022-10-16T03:46:20.831674Z",
     "iopub.status.idle": "2022-10-16T03:46:20.834600Z",
     "shell.execute_reply": "2022-10-16T03:46:20.835043Z"
    },
    "papermill": {
     "duration": 0.018185,
     "end_time": "2022-10-16T03:46:20.835163",
     "exception": false,
     "start_time": "2022-10-16T03:46:20.816978",
     "status": "completed"
    },
    "tags": []
   },
   "outputs": [
    {
     "data": {
      "text/markdown": [
       "- Cross Chain Bridges: What Are They, and Why Are They Important in DeFi?.  Cross-chain bridges are fundamental in building an interoperable, open, and decentralized blockchain space.Continue reading Cross Chain Bridges: What Are They, and Why Are They Important in DeFi? at DailyCoin.com. ... [| Skaityti daugiau](https://dailycoin.com/cross-chain-bridges-what-are-they-and-why-are-they-important-in-defi/) "
      ],
      "text/plain": [
       "<IPython.core.display.Markdown object>"
      ]
     },
     "execution_count": 3,
     "metadata": {},
     "output_type": "execute_result"
    }
   ],
   "source": [
    "#hide_input\n",
    "#md('##### {}'.format(titleBTC)) \n",
    "md(\"- {}{} {}{} [| Skaityti daugiau]({}) \".format(blockchain['title'],'. ', blockchain['body'], ' ...', blockchain['url']))"
   ]
  },
  {
   "cell_type": "code",
   "execution_count": 4,
   "id": "aging-caution",
   "metadata": {
    "execution": {
     "iopub.execute_input": "2022-10-16T03:46:20.858653Z",
     "iopub.status.busy": "2022-10-16T03:46:20.857985Z",
     "iopub.status.idle": "2022-10-16T03:46:20.861269Z",
     "shell.execute_reply": "2022-10-16T03:46:20.860824Z"
    },
    "papermill": {
     "duration": 0.017079,
     "end_time": "2022-10-16T03:46:20.861373",
     "exception": false,
     "start_time": "2022-10-16T03:46:20.844294",
     "status": "completed"
    },
    "tags": []
   },
   "outputs": [
    {
     "data": {
      "text/markdown": [
       "- Meet The Catholic Nuns Who Are Building A New Church With Bitcoin.  By adopting bitcoin, the Benedictines of Mary, Queen of Apostles from Kansas City were able to build their church and focus on preserving Catholic traditions. ... [| Skaityti daugiau](https://bitcoinmagazine.com/culture/catholic-nuns-building-church-with-bitcoin) "
      ],
      "text/plain": [
       "<IPython.core.display.Markdown object>"
      ]
     },
     "execution_count": 4,
     "metadata": {},
     "output_type": "execute_result"
    }
   ],
   "source": [
    "#hide_input\n",
    "#md('##### {}'.format(titleBTC)) \n",
    "md(\"- {}{} {}{} [| Skaityti daugiau]({}) \".format(btc['title'],'. ', btc['body'], ' ...', btc['url']))"
   ]
  },
  {
   "cell_type": "code",
   "execution_count": 5,
   "id": "organic-actress",
   "metadata": {
    "execution": {
     "iopub.execute_input": "2022-10-16T03:46:20.885001Z",
     "iopub.status.busy": "2022-10-16T03:46:20.884396Z",
     "iopub.status.idle": "2022-10-16T03:46:20.887796Z",
     "shell.execute_reply": "2022-10-16T03:46:20.888212Z"
    },
    "papermill": {
     "duration": 0.017505,
     "end_time": "2022-10-16T03:46:20.888326",
     "exception": false,
     "start_time": "2022-10-16T03:46:20.870821",
     "status": "completed"
    },
    "tags": []
   },
   "outputs": [
    {
     "data": {
      "text/markdown": [
       "- Ethereum: Unraveling ETH’s breakout possibilities to maximize returns.  Disclaimer: The findings of the following analysis are the sole opinions of the writer and should not be considered investment advice. Ethereum&#8217;s recent continuation chart pattern could present buying opportunities. The crypto noted a substantial increase in its network growth as the metric matched its yearly highs. Ethereum [ETH] registered double-digit losses over the last month [&#8230;] ... [| Skaityti daugiau](https://ambcrypto.com/ethereum-unraveling-eths-breakout-possibilities-to-maximize-returns/) "
      ],
      "text/plain": [
       "<IPython.core.display.Markdown object>"
      ]
     },
     "execution_count": 5,
     "metadata": {},
     "output_type": "execute_result"
    }
   ],
   "source": [
    "#hide_input\n",
    "#md('##### {}'.format(titleBTC)) \n",
    "md(\"- {}{} {}{} [| Skaityti daugiau]({}) \".format(xrp['title'],'. ', xrp['body'], ' ...', xrp['url']))"
   ]
  },
  {
   "cell_type": "code",
   "execution_count": 6,
   "id": "prompt-farmer",
   "metadata": {
    "execution": {
     "iopub.execute_input": "2022-10-16T03:46:20.913174Z",
     "iopub.status.busy": "2022-10-16T03:46:20.912576Z",
     "iopub.status.idle": "2022-10-16T03:46:20.916045Z",
     "shell.execute_reply": "2022-10-16T03:46:20.915576Z"
    },
    "papermill": {
     "duration": 0.018044,
     "end_time": "2022-10-16T03:46:20.916145",
     "exception": false,
     "start_time": "2022-10-16T03:46:20.898101",
     "status": "completed"
    },
    "tags": []
   },
   "outputs": [
    {
     "data": {
      "text/markdown": [
       "- TRON’s [TRX] lower timeframe chart offers opportunities for….  Disclaimer: The findings of the following analysis are the sole opinions of the writer and should not be considered investment advice. TRON has seen high volatility in the past few days The lower timeframe charts showed further gains were likely for TRX The release of the CPI data saw Bitcoin and the rest of the market [&#8230;] ... [| Skaityti daugiau](https://ambcrypto.com/trons-trx-lower-timeframe-chart-offers-opportunities-for/) "
      ],
      "text/plain": [
       "<IPython.core.display.Markdown object>"
      ]
     },
     "execution_count": 6,
     "metadata": {},
     "output_type": "execute_result"
    }
   ],
   "source": [
    "#hide_input\n",
    "#md('##### {}'.format(titleBTC)) \n",
    "md(\"- {}{} {}{} [| Skaityti daugiau]({}) \".format(trx['title'],'. ', trx['body'], ' ...', trx['url']))"
   ]
  },
  {
   "cell_type": "code",
   "execution_count": 7,
   "id": "illegal-greece",
   "metadata": {
    "execution": {
     "iopub.execute_input": "2022-10-16T03:46:20.941525Z",
     "iopub.status.busy": "2022-10-16T03:46:20.940901Z",
     "iopub.status.idle": "2022-10-16T03:46:20.943715Z",
     "shell.execute_reply": "2022-10-16T03:46:20.944156Z"
    },
    "papermill": {
     "duration": 0.017885,
     "end_time": "2022-10-16T03:46:20.944266",
     "exception": false,
     "start_time": "2022-10-16T03:46:20.926381",
     "status": "completed"
    },
    "tags": []
   },
   "outputs": [
    {
     "data": {
      "text/markdown": [
       "- Ethereum: Unraveling ETH’s breakout possibilities to maximize returns.  Disclaimer: The findings of the following analysis are the sole opinions of the writer and should not be considered investment advice. Ethereum&#8217;s recent continuation chart pattern could present buying opportunities. The crypto noted a substantial increase in its network growth as the metric matched its yearly highs. Ethereum [ETH] registered double-digit losses over the last month [&#8230;] ... [| Skaityti daugiau](https://ambcrypto.com/ethereum-unraveling-eths-breakout-possibilities-to-maximize-returns/) "
      ],
      "text/plain": [
       "<IPython.core.display.Markdown object>"
      ]
     },
     "execution_count": 7,
     "metadata": {},
     "output_type": "execute_result"
    }
   ],
   "source": [
    "#hide_input\n",
    "#md('##### {}'.format(titleBTC)) \n",
    "md(\"- {}{} {}{} [| Skaityti daugiau]({}) \".format(eth['title'],'. ', eth['body'], ' ...', eth['url']))"
   ]
  },
  {
   "cell_type": "code",
   "execution_count": 8,
   "id": "sublime-lounge",
   "metadata": {
    "execution": {
     "iopub.execute_input": "2022-10-16T03:46:20.970508Z",
     "iopub.status.busy": "2022-10-16T03:46:20.969285Z",
     "iopub.status.idle": "2022-10-16T03:46:20.973420Z",
     "shell.execute_reply": "2022-10-16T03:46:20.973988Z"
    },
    "papermill": {
     "duration": 0.018403,
     "end_time": "2022-10-16T03:46:20.974102",
     "exception": false,
     "start_time": "2022-10-16T03:46:20.955699",
     "status": "completed"
    },
    "tags": []
   },
   "outputs": [
    {
     "data": {
      "text/markdown": [
       "- Bears Spell Doom For Cardano as Price Slips to 21-Month Low — Wen ADA Bull Run?.  ADA has reached a long-term low after recently completing the anticipated Vasil Upgrade. ... [| Skaityti daugiau](https://zycrypto.com/bears-spell-doom-for-cardano-as-price-slips-to-21-month-low-wen-ada-bull-run/) "
      ],
      "text/plain": [
       "<IPython.core.display.Markdown object>"
      ]
     },
     "execution_count": 8,
     "metadata": {},
     "output_type": "execute_result"
    }
   ],
   "source": [
    "#hide_input\n",
    "#md('##### {}'.format(titleBTC)) \n",
    "md(\"- {}{} {}{} [| Skaityti daugiau]({}) \".format(ada['title'],'. ', ada['body'], ' ...', ada['url']))"
   ]
  },
  {
   "cell_type": "code",
   "execution_count": 9,
   "id": "specified-ordering",
   "metadata": {
    "execution": {
     "iopub.execute_input": "2022-10-16T03:46:21.000153Z",
     "iopub.status.busy": "2022-10-16T03:46:20.999588Z",
     "iopub.status.idle": "2022-10-16T03:46:21.003471Z",
     "shell.execute_reply": "2022-10-16T03:46:21.003008Z"
    },
    "papermill": {
     "duration": 0.018823,
     "end_time": "2022-10-16T03:46:21.003569",
     "exception": false,
     "start_time": "2022-10-16T03:46:20.984746",
     "status": "completed"
    },
    "tags": []
   },
   "outputs": [
    {
     "data": {
      "text/markdown": [
       "- US Lawmaker Calls on SEC to Issue Crypto Regulations — Says ‘a Formal Regulatory Process Is Needed Now’.  A U.S. senator has called on the Securities and Exchange Commission (SEC) to issue crypto regulations now &#8220;through a transparent notice-and-comment regulatory process.&#8221; He stressed that &#8220;some digital assets are securities, others may be commodities, and others may subject to a completely different regulatory regime.&#8221; US Senator Calls for &#8216;Transparent Notice-and-Comment Regulatory Process&#8217; to Regulating [&#8230;] ... [| Skaityti daugiau](https://news.bitcoin.com/us-lawmaker-calls-on-sec-to-issue-crypto-regulations-says-a-formal-regulatory-process-is-needed-now/) "
      ],
      "text/plain": [
       "<IPython.core.display.Markdown object>"
      ]
     },
     "execution_count": 9,
     "metadata": {},
     "output_type": "execute_result"
    }
   ],
   "source": [
    "#hide_input\n",
    "#md('##### {}'.format(titleBTC)) \n",
    "md(\"- {}{} {}{} [| Skaityti daugiau]({}) \".format(exchange['title'],'. ', exchange['body'], ' ...', exchange['url']))"
   ]
  },
  {
   "cell_type": "code",
   "execution_count": null,
   "id": "tender-livestock",
   "metadata": {
    "papermill": {
     "duration": 0.010998,
     "end_time": "2022-10-16T03:46:21.025531",
     "exception": false,
     "start_time": "2022-10-16T03:46:21.014533",
     "status": "completed"
    },
    "tags": []
   },
   "outputs": [],
   "source": []
  },
  {
   "cell_type": "code",
   "execution_count": null,
   "id": "appreciated-diamond",
   "metadata": {
    "papermill": {
     "duration": 0.011015,
     "end_time": "2022-10-16T03:46:21.047644",
     "exception": false,
     "start_time": "2022-10-16T03:46:21.036629",
     "status": "completed"
    },
    "tags": []
   },
   "outputs": [],
   "source": []
  },
  {
   "cell_type": "code",
   "execution_count": null,
   "id": "romance-sweden",
   "metadata": {
    "papermill": {
     "duration": 0.010904,
     "end_time": "2022-10-16T03:46:21.069530",
     "exception": false,
     "start_time": "2022-10-16T03:46:21.058626",
     "status": "completed"
    },
    "tags": []
   },
   "outputs": [],
   "source": []
  },
  {
   "cell_type": "code",
   "execution_count": null,
   "id": "dietary-statistics",
   "metadata": {
    "papermill": {
     "duration": 0.010937,
     "end_time": "2022-10-16T03:46:21.091513",
     "exception": false,
     "start_time": "2022-10-16T03:46:21.080576",
     "status": "completed"
    },
    "tags": []
   },
   "outputs": [],
   "source": []
  }
 ],
 "metadata": {
  "kernelspec": {
   "display_name": "Python 3",
   "language": "python",
   "name": "python3"
  },
  "language_info": {
   "codemirror_mode": {
    "name": "ipython",
    "version": 3
   },
   "file_extension": ".py",
   "mimetype": "text/x-python",
   "name": "python",
   "nbconvert_exporter": "python",
   "pygments_lexer": "ipython3",
   "version": "3.6.15"
  },
  "papermill": {
   "default_parameters": {},
   "duration": 12.680567,
   "end_time": "2022-10-16T03:46:21.520668",
   "environment_variables": {},
   "exception": null,
   "input_path": "Market-News.ipynb",
   "output_path": "Market-News.ipynb",
   "parameters": {},
   "start_time": "2022-10-16T03:46:08.840101",
   "version": "2.2.2"
  }
 },
 "nbformat": 4,
 "nbformat_minor": 5
}