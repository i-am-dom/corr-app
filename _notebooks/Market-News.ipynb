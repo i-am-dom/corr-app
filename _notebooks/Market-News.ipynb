{
 "cells": [
  {
   "cell_type": "markdown",
   "id": "short-greensboro",
   "metadata": {
    "papermill": {
     "duration": 0.012806,
     "end_time": "2022-07-15T03:25:07.498382",
     "exception": false,
     "start_time": "2022-07-15T03:25:07.485576",
     "status": "completed"
    },
    "tags": []
   },
   "source": [
    "# Kriptovaliutų naujienos"
   ]
  },
  {
   "cell_type": "code",
   "execution_count": 1,
   "id": "functioning-knowing",
   "metadata": {
    "execution": {
     "iopub.execute_input": "2022-07-15T03:25:07.527435Z",
     "iopub.status.busy": "2022-07-15T03:25:07.526746Z",
     "iopub.status.idle": "2022-07-15T03:25:08.760904Z",
     "shell.execute_reply": "2022-07-15T03:25:08.760298Z"
    },
    "papermill": {
     "duration": 1.253027,
     "end_time": "2022-07-15T03:25:08.761062",
     "exception": false,
     "start_time": "2022-07-15T03:25:07.508035",
     "status": "completed"
    },
    "tags": []
   },
   "outputs": [],
   "source": [
    "#hide_input\n",
    "import warnings\n",
    "warnings.filterwarnings('ignore')\n",
    "from scripts.read_data import read_api\n",
    "from scripts.read_data import read_news\n",
    "from scripts.read_data import read_covid\n",
    "import matplotlib.pyplot as plt \n",
    "from IPython.display import Markdown as md"
   ]
  },
  {
   "cell_type": "code",
   "execution_count": 2,
   "id": "shared-acceptance",
   "metadata": {
    "execution": {
     "iopub.execute_input": "2022-07-15T03:25:08.787384Z",
     "iopub.status.busy": "2022-07-15T03:25:08.786429Z",
     "iopub.status.idle": "2022-07-15T03:25:26.205223Z",
     "shell.execute_reply": "2022-07-15T03:25:26.204145Z"
    },
    "papermill": {
     "duration": 17.434178,
     "end_time": "2022-07-15T03:25:26.205388",
     "exception": false,
     "start_time": "2022-07-15T03:25:08.771210",
     "status": "completed"
    },
    "tags": []
   },
   "outputs": [],
   "source": [
    "#hide_input\n",
    "blockchain = read_news('blockchain') \n",
    "btc = read_news('btc') \n",
    "xrp = read_news('xrp') \n",
    "trx = read_news('trx') \n",
    "eth = read_news('eth')  \n",
    "ada = read_news('ada')\n",
    "exchange = read_news('exchange') "
   ]
  },
  {
   "cell_type": "code",
   "execution_count": 3,
   "id": "synthetic-notion",
   "metadata": {
    "execution": {
     "iopub.execute_input": "2022-07-15T03:25:26.230302Z",
     "iopub.status.busy": "2022-07-15T03:25:26.229662Z",
     "iopub.status.idle": "2022-07-15T03:25:26.231841Z",
     "shell.execute_reply": "2022-07-15T03:25:26.232402Z"
    },
    "papermill": {
     "duration": 0.017853,
     "end_time": "2022-07-15T03:25:26.232531",
     "exception": false,
     "start_time": "2022-07-15T03:25:26.214678",
     "status": "completed"
    },
    "tags": []
   },
   "outputs": [
    {
     "data": {
      "text/markdown": [
       "- Shiba Inu underperforms as market turns green.  The Shiba Inu price analysis fr July 15, 2022, comes on a sluggish note for the SHIB token as it is clear that the token continues to underperform despite retaining the 14th position in the crypto market. It seems that the bulls are unable to push the prices of the SHIB token higher because the [&#8230;]The post Shiba Inu underperforms as market turns green appeared first on Blockchain, Crypto and Stock News. ... [| Skaityti daugiau](https://thecoinrise.com/shiba-inu-underperforms-as-market-turns-green/) "
      ],
      "text/plain": [
       "<IPython.core.display.Markdown object>"
      ]
     },
     "execution_count": 3,
     "metadata": {},
     "output_type": "execute_result"
    }
   ],
   "source": [
    "#hide_input\n",
    "#md('##### {}'.format(titleBTC)) \n",
    "md(\"- {}{} {}{} [| Skaityti daugiau]({}) \".format(blockchain['title'],'. ', blockchain['body'], ' ...', blockchain['url']))"
   ]
  },
  {
   "cell_type": "code",
   "execution_count": 4,
   "id": "aging-caution",
   "metadata": {
    "execution": {
     "iopub.execute_input": "2022-07-15T03:25:26.257167Z",
     "iopub.status.busy": "2022-07-15T03:25:26.256470Z",
     "iopub.status.idle": "2022-07-15T03:25:26.259087Z",
     "shell.execute_reply": "2022-07-15T03:25:26.259709Z"
    },
    "papermill": {
     "duration": 0.017882,
     "end_time": "2022-07-15T03:25:26.259856",
     "exception": false,
     "start_time": "2022-07-15T03:25:26.241974",
     "status": "completed"
    },
    "tags": []
   },
   "outputs": [
    {
     "data": {
      "text/markdown": [
       "- TA: Bitcoin Price Could Surge To $22K, Why BTC Remains Supported.  Bitcoin started a decent increase above the $20,000 resistance against the US Dollar. BTC is trading above $20,500 and eying more gains towards the $22,000 level. Bitcoin is slowly moving higher above the $20,000 resistance zone. The price is now trading above the $20,200 level and testing the 100 hourly simple moving average. There is a key bullish trend line forming with support near $20,400 on the hourly chart of the BTC/USD pair (data feed from Kraken). The pair might gain bullish momentum if it clears the $20,750 and $21,000 levels. Bitcoin Price Gains Momentum Bitcoin price formed a base above the $19,000 level and started a decent increase. The price traded above the $20,000 resistance zone to move into a positive zone. There was a clear move above the 23.6% Fib retracement level of the downward move from the $22,500 swing high to $18,916 low. At first, the price saw a rejection near the $20,500 level. However, the bulls were active near the $19,600 level. Bitcoin started another increase above the $20,500 resistance zone. It is now trading above the $20,200 level and testing the 100 hourly simple moving average. There is also a key bullish trend line forming with support near $20,400 on the hourly chart of the BTC/USD pair. On the upside, the price could resistance near the $20,750 level. It is near the 50% Fib retracement level of the downward move from the $22,500 swing high to $18,916 low. The next key resistance is... ... [| Skaityti daugiau](https://www.newsbtc.com/analysis/btc/bitcoin-price-could-surge-to-22k/) "
      ],
      "text/plain": [
       "<IPython.core.display.Markdown object>"
      ]
     },
     "execution_count": 4,
     "metadata": {},
     "output_type": "execute_result"
    }
   ],
   "source": [
    "#hide_input\n",
    "#md('##### {}'.format(titleBTC)) \n",
    "md(\"- {}{} {}{} [| Skaityti daugiau]({}) \".format(btc['title'],'. ', btc['body'], ' ...', btc['url']))"
   ]
  },
  {
   "cell_type": "code",
   "execution_count": 5,
   "id": "organic-actress",
   "metadata": {
    "execution": {
     "iopub.execute_input": "2022-07-15T03:25:26.284910Z",
     "iopub.status.busy": "2022-07-15T03:25:26.284261Z",
     "iopub.status.idle": "2022-07-15T03:25:26.287781Z",
     "shell.execute_reply": "2022-07-15T03:25:26.288268Z"
    },
    "papermill": {
     "duration": 0.018698,
     "end_time": "2022-07-15T03:25:26.288402",
     "exception": false,
     "start_time": "2022-07-15T03:25:26.269704",
     "status": "completed"
    },
    "tags": []
   },
   "outputs": [
    {
     "data": {
      "text/markdown": [
       "- 74% of Latin Americans Prefer Businesses That Accept Crypto: Report.  Latin America and the Asia Pacific region are bullish on cryptoassets, Ripple’s crypto trends survey foundThe post 74% of Latin Americans Prefer Businesses That Accept Crypto: Report appeared first on Blockworks. ... [| Skaityti daugiau](https://blockworks.co/74-of-latin-americans-prefer-businesses-that-accept-crypto-report/) "
      ],
      "text/plain": [
       "<IPython.core.display.Markdown object>"
      ]
     },
     "execution_count": 5,
     "metadata": {},
     "output_type": "execute_result"
    }
   ],
   "source": [
    "#hide_input\n",
    "#md('##### {}'.format(titleBTC)) \n",
    "md(\"- {}{} {}{} [| Skaityti daugiau]({}) \".format(xrp['title'],'. ', xrp['body'], ' ...', xrp['url']))"
   ]
  },
  {
   "cell_type": "code",
   "execution_count": 6,
   "id": "prompt-farmer",
   "metadata": {
    "execution": {
     "iopub.execute_input": "2022-07-15T03:25:26.313410Z",
     "iopub.status.busy": "2022-07-15T03:25:26.312803Z",
     "iopub.status.idle": "2022-07-15T03:25:26.315976Z",
     "shell.execute_reply": "2022-07-15T03:25:26.316425Z"
    },
    "papermill": {
     "duration": 0.018131,
     "end_time": "2022-07-15T03:25:26.316551",
     "exception": false,
     "start_time": "2022-07-15T03:25:26.298420",
     "status": "completed"
    },
    "tags": []
   },
   "outputs": [
    {
     "data": {
      "text/markdown": [
       "- TRON Stucks Near 50 EMA; Will TRX Breach $0.07?.  TRON emerged from an ERC-20 blockchain to develop its network working on a delegated Proof of Stake. Initially, it was developed to address the ownership issue with digital content wherein creators were required to share their data with centralized organizations to ensure its connectivity. Bypassing the intermediaries such as YouTube, Meta, Google, and other organizations &#8230; ... [| Skaityti daugiau](https://www.cryptonewsz.com/tron-stucks-near-50-ema-will-trx-breach-0-07-usd/) "
      ],
      "text/plain": [
       "<IPython.core.display.Markdown object>"
      ]
     },
     "execution_count": 6,
     "metadata": {},
     "output_type": "execute_result"
    }
   ],
   "source": [
    "#hide_input\n",
    "#md('##### {}'.format(titleBTC)) \n",
    "md(\"- {}{} {}{} [| Skaityti daugiau]({}) \".format(trx['title'],'. ', trx['body'], ' ...', trx['url']))"
   ]
  },
  {
   "cell_type": "code",
   "execution_count": 7,
   "id": "illegal-greece",
   "metadata": {
    "execution": {
     "iopub.execute_input": "2022-07-15T03:25:26.343341Z",
     "iopub.status.busy": "2022-07-15T03:25:26.342755Z",
     "iopub.status.idle": "2022-07-15T03:25:26.345917Z",
     "shell.execute_reply": "2022-07-15T03:25:26.346369Z"
    },
    "papermill": {
     "duration": 0.01954,
     "end_time": "2022-07-15T03:25:26.346496",
     "exception": false,
     "start_time": "2022-07-15T03:25:26.326956",
     "status": "completed"
    },
    "tags": []
   },
   "outputs": [
    {
     "data": {
      "text/markdown": [
       "- Shiba Inu ($SHIB) Holders Grow Past 1.2 Million As Price Remains Muted.  The meme-inspired cryptocurrency Shiba Inu ($SHIB) has kept on seeing its holder count grow even during the ongoing bear market, to the point now over 1.2 million Ethereum addresses hold SHIB, up from around one million eight months ago. Back in November of last year, the meme-inspired cryptocurrency saw its number of holders move past […] ... [| Skaityti daugiau](https://www.cryptoglobe.com/latest/2022/07/shiba-inu-shib-holders-grow-past-1-2-million-as-price-remains-muted/) "
      ],
      "text/plain": [
       "<IPython.core.display.Markdown object>"
      ]
     },
     "execution_count": 7,
     "metadata": {},
     "output_type": "execute_result"
    }
   ],
   "source": [
    "#hide_input\n",
    "#md('##### {}'.format(titleBTC)) \n",
    "md(\"- {}{} {}{} [| Skaityti daugiau]({}) \".format(eth['title'],'. ', eth['body'], ' ...', eth['url']))"
   ]
  },
  {
   "cell_type": "code",
   "execution_count": 8,
   "id": "sublime-lounge",
   "metadata": {
    "execution": {
     "iopub.execute_input": "2022-07-15T03:25:26.373332Z",
     "iopub.status.busy": "2022-07-15T03:25:26.372641Z",
     "iopub.status.idle": "2022-07-15T03:25:26.377128Z",
     "shell.execute_reply": "2022-07-15T03:25:26.376655Z"
    },
    "papermill": {
     "duration": 0.020165,
     "end_time": "2022-07-15T03:25:26.377238",
     "exception": false,
     "start_time": "2022-07-15T03:25:26.357073",
     "status": "completed"
    },
    "tags": []
   },
   "outputs": [
    {
     "data": {
      "text/markdown": [
       "- Cardano (ADA) Trades Sideways After Losing Major Support, Will The Current Support Hold?.  Cardano has depreciated on its chart considerably over the past few days taking away most of the weekly gains. Over the last 24 hours, ADA lost 2% of its value dragging price down to $0.42 on the four hour chart. ADA lost critical support of $0.44 which it tried to defend multiple times. After sloping downwards, now the coin has been trading laterally. The next major support level for ADA lies beneath the $0.40 mark. Technical outlook reflected bearishness on the chart. If ADA continues to display mundane price movement then it is only a matter of time till it loses its current support line. Buying strength fell significantly as buyers have lost confidence. Continuation of the present price trajectory will favour the sellers. The existing price range could prove as a buy opportunity. If buyers act on it, Cardano might witness relief on its chart. Cardano Price Analysis: Four Hour Chart ADA&#8217;s price traded sideways after it lost its crucial support of $0.44. At the moment, the coin has managed to flip its support level and transformed it into the resistance level. Overhead price ceiling stood at $0.44. With help of buyers the coin can attempt to revisit its aforementioned price level. If buyers do not come to rescue then Cardano is set to lose another 9% of its value. Critical support for the coin was at $0.38. Trading volume seemed to have risen today indicating that sellers have dominated the price action. The red tradin... ... [| Skaityti daugiau](https://www.newsbtc.com/news/cardano-ada-trades-sideways-after-losing-major-support-will-the-current-support-hold/) "
      ],
      "text/plain": [
       "<IPython.core.display.Markdown object>"
      ]
     },
     "execution_count": 8,
     "metadata": {},
     "output_type": "execute_result"
    }
   ],
   "source": [
    "#hide_input\n",
    "#md('##### {}'.format(titleBTC)) \n",
    "md(\"- {}{} {}{} [| Skaityti daugiau]({}) \".format(ada['title'],'. ', ada['body'], ' ...', ada['url']))"
   ]
  },
  {
   "cell_type": "code",
   "execution_count": 9,
   "id": "specified-ordering",
   "metadata": {
    "execution": {
     "iopub.execute_input": "2022-07-15T03:25:26.404588Z",
     "iopub.status.busy": "2022-07-15T03:25:26.404006Z",
     "iopub.status.idle": "2022-07-15T03:25:26.407241Z",
     "shell.execute_reply": "2022-07-15T03:25:26.407689Z"
    },
    "papermill": {
     "duration": 0.019634,
     "end_time": "2022-07-15T03:25:26.407817",
     "exception": false,
     "start_time": "2022-07-15T03:25:26.388183",
     "status": "completed"
    },
    "tags": []
   },
   "outputs": [
    {
     "data": {
      "text/markdown": [
       "- Crypto Exchange CoinFLEX Limits Withdrawals, Keeps Most Assets Locked.  CoinFLEX is attempting to resolve its issues by limiting withdrawals ahead of a possible acquisition from equity investors.The post Crypto Exchange CoinFLEX Limits Withdrawals, Keeps Most Assets Locked appeared first on Blockworks. ... [| Skaityti daugiau](https://blockworks.co/crypto-exchange-coinflex-limits-withdrawals-keeps-most-assets-locked/) "
      ],
      "text/plain": [
       "<IPython.core.display.Markdown object>"
      ]
     },
     "execution_count": 9,
     "metadata": {},
     "output_type": "execute_result"
    }
   ],
   "source": [
    "#hide_input\n",
    "#md('##### {}'.format(titleBTC)) \n",
    "md(\"- {}{} {}{} [| Skaityti daugiau]({}) \".format(exchange['title'],'. ', exchange['body'], ' ...', exchange['url']))"
   ]
  },
  {
   "cell_type": "code",
   "execution_count": null,
   "id": "tender-livestock",
   "metadata": {
    "papermill": {
     "duration": 0.011135,
     "end_time": "2022-07-15T03:25:26.430243",
     "exception": false,
     "start_time": "2022-07-15T03:25:26.419108",
     "status": "completed"
    },
    "tags": []
   },
   "outputs": [],
   "source": []
  },
  {
   "cell_type": "code",
   "execution_count": null,
   "id": "appreciated-diamond",
   "metadata": {
    "papermill": {
     "duration": 0.011114,
     "end_time": "2022-07-15T03:25:26.452671",
     "exception": false,
     "start_time": "2022-07-15T03:25:26.441557",
     "status": "completed"
    },
    "tags": []
   },
   "outputs": [],
   "source": []
  },
  {
   "cell_type": "code",
   "execution_count": null,
   "id": "romance-sweden",
   "metadata": {
    "papermill": {
     "duration": 0.011171,
     "end_time": "2022-07-15T03:25:26.474979",
     "exception": false,
     "start_time": "2022-07-15T03:25:26.463808",
     "status": "completed"
    },
    "tags": []
   },
   "outputs": [],
   "source": []
  },
  {
   "cell_type": "code",
   "execution_count": null,
   "id": "dietary-statistics",
   "metadata": {
    "papermill": {
     "duration": 0.011167,
     "end_time": "2022-07-15T03:25:26.497341",
     "exception": false,
     "start_time": "2022-07-15T03:25:26.486174",
     "status": "completed"
    },
    "tags": []
   },
   "outputs": [],
   "source": []
  }
 ],
 "metadata": {
  "kernelspec": {
   "display_name": "Python 3",
   "language": "python",
   "name": "python3"
  },
  "language_info": {
   "codemirror_mode": {
    "name": "ipython",
    "version": 3
   },
   "file_extension": ".py",
   "mimetype": "text/x-python",
   "name": "python",
   "nbconvert_exporter": "python",
   "pygments_lexer": "ipython3",
   "version": "3.6.15"
  },
  "papermill": {
   "default_parameters": {},
   "duration": 20.47025,
   "end_time": "2022-07-15T03:25:27.027893",
   "environment_variables": {},
   "exception": null,
   "input_path": "Market-News.ipynb",
   "output_path": "Market-News.ipynb",
   "parameters": {},
   "start_time": "2022-07-15T03:25:06.557643",
   "version": "2.2.2"
  }
 },
 "nbformat": 4,
 "nbformat_minor": 5
}