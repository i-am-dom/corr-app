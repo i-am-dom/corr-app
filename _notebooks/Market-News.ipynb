{
 "cells": [
  {
   "cell_type": "markdown",
   "id": "short-greensboro",
   "metadata": {
    "papermill": {
     "duration": 0.015183,
     "end_time": "2022-01-10T02:08:04.547854",
     "exception": false,
     "start_time": "2022-01-10T02:08:04.532671",
     "status": "completed"
    },
    "tags": []
   },
   "source": [
    "# Kriptovaliutų naujienos"
   ]
  },
  {
   "cell_type": "code",
   "execution_count": 1,
   "id": "functioning-knowing",
   "metadata": {
    "execution": {
     "iopub.execute_input": "2022-01-10T02:08:04.579645Z",
     "iopub.status.busy": "2022-01-10T02:08:04.578837Z",
     "iopub.status.idle": "2022-01-10T02:08:05.911994Z",
     "shell.execute_reply": "2022-01-10T02:08:05.911476Z"
    },
    "papermill": {
     "duration": 1.353833,
     "end_time": "2022-01-10T02:08:05.912140",
     "exception": false,
     "start_time": "2022-01-10T02:08:04.558307",
     "status": "completed"
    },
    "tags": []
   },
   "outputs": [],
   "source": [
    "#hide_input\n",
    "import warnings\n",
    "warnings.filterwarnings('ignore')\n",
    "from scripts.read_data import read_api\n",
    "from scripts.read_data import read_news\n",
    "from scripts.read_data import read_covid\n",
    "import matplotlib.pyplot as plt \n",
    "from IPython.display import Markdown as md"
   ]
  },
  {
   "cell_type": "code",
   "execution_count": 2,
   "id": "shared-acceptance",
   "metadata": {
    "execution": {
     "iopub.execute_input": "2022-01-10T02:08:05.952551Z",
     "iopub.status.busy": "2022-01-10T02:08:05.951752Z",
     "iopub.status.idle": "2022-01-10T02:08:14.239171Z",
     "shell.execute_reply": "2022-01-10T02:08:14.239639Z"
    },
    "papermill": {
     "duration": 8.306547,
     "end_time": "2022-01-10T02:08:14.239802",
     "exception": false,
     "start_time": "2022-01-10T02:08:05.933255",
     "status": "completed"
    },
    "tags": []
   },
   "outputs": [],
   "source": [
    "#hide_input\n",
    "blockchain = read_news('blockchain') \n",
    "btc = read_news('btc') \n",
    "xrp = read_news('xrp') \n",
    "trx = read_news('trx') \n",
    "eth = read_news('eth')  \n",
    "ada = read_news('ada')\n",
    "exchange = read_news('exchange') "
   ]
  },
  {
   "cell_type": "code",
   "execution_count": 3,
   "id": "synthetic-notion",
   "metadata": {
    "execution": {
     "iopub.execute_input": "2022-01-10T02:08:14.270260Z",
     "iopub.status.busy": "2022-01-10T02:08:14.269683Z",
     "iopub.status.idle": "2022-01-10T02:08:14.273838Z",
     "shell.execute_reply": "2022-01-10T02:08:14.274310Z"
    },
    "papermill": {
     "duration": 0.021833,
     "end_time": "2022-01-10T02:08:14.274448",
     "exception": false,
     "start_time": "2022-01-10T02:08:14.252615",
     "status": "completed"
    },
    "tags": []
   },
   "outputs": [
    {
     "data": {
      "text/markdown": [
       "- Crypto’s Year In Sports: A 2021 Review.  Sports penetrated crypto in 2021 on a level that very few other brand categories could even come close to. We cover sports engagement across crypto and blockchain technologies each weekend with The Sports Slice, so as we see 2022&#8217;s kick into full gear, we&#8217;ll take a look back at everything we covered in 2021. We&#8217;ll [&#8230;] ... [| Skaityti daugiau](https://bitcoinist.com/cryptos-year-in-sports-a-2021-review/) "
      ],
      "text/plain": [
       "<IPython.core.display.Markdown object>"
      ]
     },
     "execution_count": 3,
     "metadata": {},
     "output_type": "execute_result"
    }
   ],
   "source": [
    "#hide_input\n",
    "#md('##### {}'.format(titleBTC)) \n",
    "md(\"- {}{} {}{} [| Skaityti daugiau]({}) \".format(blockchain['title'],'. ', blockchain['body'], ' ...', blockchain['url']))"
   ]
  },
  {
   "cell_type": "code",
   "execution_count": 4,
   "id": "aging-caution",
   "metadata": {
    "execution": {
     "iopub.execute_input": "2022-01-10T02:08:14.300030Z",
     "iopub.status.busy": "2022-01-10T02:08:14.299408Z",
     "iopub.status.idle": "2022-01-10T02:08:14.305088Z",
     "shell.execute_reply": "2022-01-10T02:08:14.304565Z"
    },
    "papermill": {
     "duration": 0.020188,
     "end_time": "2022-01-10T02:08:14.305203",
     "exception": false,
     "start_time": "2022-01-10T02:08:14.285015",
     "status": "completed"
    },
    "tags": []
   },
   "outputs": [
    {
     "data": {
      "text/markdown": [
       "- Man Behind 29000 Bitcoin Ponzi Scam is Arrested in Brazil.  Johann Steynberg of the crypto Ponzi Scam \"Mirror Trading International (MTI)\" was arrested in Brazil a few days ago after vanishing with near 29.000 BTC ... [| Skaityti daugiau](https://cryptopotato.com/man-behind-29000-bitcoin-ponzi-scam-is-arrested-in-brazil/) "
      ],
      "text/plain": [
       "<IPython.core.display.Markdown object>"
      ]
     },
     "execution_count": 4,
     "metadata": {},
     "output_type": "execute_result"
    }
   ],
   "source": [
    "#hide_input\n",
    "#md('##### {}'.format(titleBTC)) \n",
    "md(\"- {}{} {}{} [| Skaityti daugiau]({}) \".format(btc['title'],'. ', btc['body'], ' ...', btc['url']))"
   ]
  },
  {
   "cell_type": "code",
   "execution_count": 5,
   "id": "organic-actress",
   "metadata": {
    "execution": {
     "iopub.execute_input": "2022-01-10T02:08:14.329927Z",
     "iopub.status.busy": "2022-01-10T02:08:14.329465Z",
     "iopub.status.idle": "2022-01-10T02:08:14.332030Z",
     "shell.execute_reply": "2022-01-10T02:08:14.332389Z"
    },
    "papermill": {
     "duration": 0.017052,
     "end_time": "2022-01-10T02:08:14.332495",
     "exception": false,
     "start_time": "2022-01-10T02:08:14.315443",
     "status": "completed"
    },
    "tags": []
   },
   "outputs": [
    {
     "data": {
      "text/markdown": [
       "- Here is why Binance and Ripple might focus on this country in 2022.  Many of us might be locked down or stuck at home because of COVID-19. But, might 2022 be the year that blockchain companies and crypto-exchanges cast about for new countries to explore? When considering potential options, one country stands out from the rest. And what&#8217;s more, crypto-companies are paying attention. Exit West? Both Binance and [&#8230;] ... [| Skaityti daugiau](https://ambcrypto.com/here-is-why-binance-and-ripple-might-focus-on-this-country-in-2022/) "
      ],
      "text/plain": [
       "<IPython.core.display.Markdown object>"
      ]
     },
     "execution_count": 5,
     "metadata": {},
     "output_type": "execute_result"
    }
   ],
   "source": [
    "#hide_input\n",
    "#md('##### {}'.format(titleBTC)) \n",
    "md(\"- {}{} {}{} [| Skaityti daugiau]({}) \".format(xrp['title'],'. ', xrp['body'], ' ...', xrp['url']))"
   ]
  },
  {
   "cell_type": "code",
   "execution_count": 6,
   "id": "prompt-farmer",
   "metadata": {
    "execution": {
     "iopub.execute_input": "2022-01-10T02:08:14.354097Z",
     "iopub.status.busy": "2022-01-10T02:08:14.353654Z",
     "iopub.status.idle": "2022-01-10T02:08:14.356733Z",
     "shell.execute_reply": "2022-01-10T02:08:14.356354Z"
    },
    "papermill": {
     "duration": 0.015666,
     "end_time": "2022-01-10T02:08:14.356825",
     "exception": false,
     "start_time": "2022-01-10T02:08:14.341159",
     "status": "completed"
    },
    "tags": []
   },
   "outputs": [
    {
     "data": {
      "text/markdown": [
       "- Terra (LUNA), Avalanche (AVAX) and Four Additional Ethereum Rivals Mounting Serious Challenge to ETH in 2022: JPMorgan Analysis.  Analysts at global banking giant JPMorgan say that Ethereum (ETH) competitors will challenge the top altcoin’s decentralized finance (DeFi) dominance of the crypto markets this year. In a recent report, analysts led by JPMorgan managing director Nikolaos Panigirtzoglou say that ETH&#8217;s 70% market share of the DeFi space will continue to drop because the blockchain’s [&#8230;]The post Terra (LUNA), Avalanche (AVAX) and Four Additional Ethereum Rivals Mounting Serious Challenge to ETH in 2022: JPMorgan Analysis appeared first on The Daily Hodl. ... [| Skaityti daugiau](https://dailyhodl.com/2022/01/07/terra-luna-avalanche-avax-and-four-additional-ethereum-rivals-mounting-serious-challenge-to-eth-in-2022-jpmorgan-analysis/) "
      ],
      "text/plain": [
       "<IPython.core.display.Markdown object>"
      ]
     },
     "execution_count": 6,
     "metadata": {},
     "output_type": "execute_result"
    }
   ],
   "source": [
    "#hide_input\n",
    "#md('##### {}'.format(titleBTC)) \n",
    "md(\"- {}{} {}{} [| Skaityti daugiau]({}) \".format(trx['title'],'. ', trx['body'], ' ...', trx['url']))"
   ]
  },
  {
   "cell_type": "code",
   "execution_count": 7,
   "id": "illegal-greece",
   "metadata": {
    "execution": {
     "iopub.execute_input": "2022-01-10T02:08:14.379034Z",
     "iopub.status.busy": "2022-01-10T02:08:14.378590Z",
     "iopub.status.idle": "2022-01-10T02:08:14.381836Z",
     "shell.execute_reply": "2022-01-10T02:08:14.382195Z"
    },
    "papermill": {
     "duration": 0.016308,
     "end_time": "2022-01-10T02:08:14.382295",
     "exception": false,
     "start_time": "2022-01-10T02:08:14.365987",
     "status": "completed"
    },
    "tags": []
   },
   "outputs": [
    {
     "data": {
      "text/markdown": [
       "- Here’s What’s in Store for Ethereum (ETH) This Month, According to Crypto Analyst Justin Bennett.  Closely followed crypto analyst Justin Bennett is unveiling what he thinks is in store for Ethereum this January as ETH continues its downtrend. In a new strategy session, Bennett says that he&#8217;s looking to scoop up ETH around the $3,000 level, currently about 4% away from current prices. According to the crypto strategist, Ethereum must [&#8230;]The post Here’s What’s in Store for Ethereum (ETH) This Month, According to Crypto Analyst Justin Bennett appeared first on The Daily Hodl. ... [| Skaityti daugiau](https://dailyhodl.com/2022/01/09/heres-whats-in-store-for-ethereum-eth-this-month-according-to-crypto-analyst-justin-bennett/) "
      ],
      "text/plain": [
       "<IPython.core.display.Markdown object>"
      ]
     },
     "execution_count": 7,
     "metadata": {},
     "output_type": "execute_result"
    }
   ],
   "source": [
    "#hide_input\n",
    "#md('##### {}'.format(titleBTC)) \n",
    "md(\"- {}{} {}{} [| Skaityti daugiau]({}) \".format(eth['title'],'. ', eth['body'], ' ...', eth['url']))"
   ]
  },
  {
   "cell_type": "code",
   "execution_count": 8,
   "id": "sublime-lounge",
   "metadata": {
    "execution": {
     "iopub.execute_input": "2022-01-10T02:08:14.405009Z",
     "iopub.status.busy": "2022-01-10T02:08:14.404557Z",
     "iopub.status.idle": "2022-01-10T02:08:14.408080Z",
     "shell.execute_reply": "2022-01-10T02:08:14.408499Z"
    },
    "papermill": {
     "duration": 0.016661,
     "end_time": "2022-01-10T02:08:14.408604",
     "exception": false,
     "start_time": "2022-01-10T02:08:14.391943",
     "status": "completed"
    },
    "tags": []
   },
   "outputs": [
    {
     "data": {
      "text/markdown": [
       "- Cardano Price Analysis: Is ADA On a Clear Path to $1 After Breakdown Confirmed?.  The first week of 2022 is about to become one of the most bearish weeks in crypto over the past year. Just as the overall sentiment, ADA could not resist the downtrend and is slowly descending towards the $1 mark. Key Support levels: $1, $0.8 Key Resistance level: $1.2, $1.5 The support at $1.2 could [&#8230;] ... [| Skaityti daugiau](https://cryptopotato.com/cardano-price-analysis-is-ada-on-a-clear-path-to-1-after-breakdown-confirmed/) "
      ],
      "text/plain": [
       "<IPython.core.display.Markdown object>"
      ]
     },
     "execution_count": 8,
     "metadata": {},
     "output_type": "execute_result"
    }
   ],
   "source": [
    "#hide_input\n",
    "#md('##### {}'.format(titleBTC)) \n",
    "md(\"- {}{} {}{} [| Skaityti daugiau]({}) \".format(ada['title'],'. ', ada['body'], ' ...', ada['url']))"
   ]
  },
  {
   "cell_type": "code",
   "execution_count": 9,
   "id": "specified-ordering",
   "metadata": {
    "execution": {
     "iopub.execute_input": "2022-01-10T02:08:14.431902Z",
     "iopub.status.busy": "2022-01-10T02:08:14.431448Z",
     "iopub.status.idle": "2022-01-10T02:08:14.434460Z",
     "shell.execute_reply": "2022-01-10T02:08:14.434099Z"
    },
    "papermill": {
     "duration": 0.01643,
     "end_time": "2022-01-10T02:08:14.434563",
     "exception": false,
     "start_time": "2022-01-10T02:08:14.418133",
     "status": "completed"
    },
    "tags": []
   },
   "outputs": [
    {
     "data": {
      "text/markdown": [
       "- Here is why Binance and Ripple might focus on this country in 2022.  Many of us might be locked down or stuck at home because of COVID-19. But, might 2022 be the year that blockchain companies and crypto-exchanges cast about for new countries to explore? When considering potential options, one country stands out from the rest. And what&#8217;s more, crypto-companies are paying attention. Exit West? Both Binance and [&#8230;] ... [| Skaityti daugiau](https://ambcrypto.com/here-is-why-binance-and-ripple-might-focus-on-this-country-in-2022/) "
      ],
      "text/plain": [
       "<IPython.core.display.Markdown object>"
      ]
     },
     "execution_count": 9,
     "metadata": {},
     "output_type": "execute_result"
    }
   ],
   "source": [
    "#hide_input\n",
    "#md('##### {}'.format(titleBTC)) \n",
    "md(\"- {}{} {}{} [| Skaityti daugiau]({}) \".format(exchange['title'],'. ', exchange['body'], ' ...', exchange['url']))"
   ]
  },
  {
   "cell_type": "code",
   "execution_count": null,
   "id": "tender-livestock",
   "metadata": {
    "papermill": {
     "duration": 0.009715,
     "end_time": "2022-01-10T02:08:14.454043",
     "exception": false,
     "start_time": "2022-01-10T02:08:14.444328",
     "status": "completed"
    },
    "tags": []
   },
   "outputs": [],
   "source": []
  },
  {
   "cell_type": "code",
   "execution_count": null,
   "id": "appreciated-diamond",
   "metadata": {
    "papermill": {
     "duration": 0.009747,
     "end_time": "2022-01-10T02:08:14.473623",
     "exception": false,
     "start_time": "2022-01-10T02:08:14.463876",
     "status": "completed"
    },
    "tags": []
   },
   "outputs": [],
   "source": []
  },
  {
   "cell_type": "code",
   "execution_count": null,
   "id": "romance-sweden",
   "metadata": {
    "papermill": {
     "duration": 0.009701,
     "end_time": "2022-01-10T02:08:14.493255",
     "exception": false,
     "start_time": "2022-01-10T02:08:14.483554",
     "status": "completed"
    },
    "tags": []
   },
   "outputs": [],
   "source": []
  },
  {
   "cell_type": "code",
   "execution_count": null,
   "id": "dietary-statistics",
   "metadata": {
    "papermill": {
     "duration": 0.009702,
     "end_time": "2022-01-10T02:08:14.512734",
     "exception": false,
     "start_time": "2022-01-10T02:08:14.503032",
     "status": "completed"
    },
    "tags": []
   },
   "outputs": [],
   "source": []
  }
 ],
 "metadata": {
  "kernelspec": {
   "display_name": "Python 3",
   "language": "python",
   "name": "python3"
  },
  "language_info": {
   "codemirror_mode": {
    "name": "ipython",
    "version": 3
   },
   "file_extension": ".py",
   "mimetype": "text/x-python",
   "name": "python",
   "nbconvert_exporter": "python",
   "pygments_lexer": "ipython3",
   "version": "3.6.15"
  },
  "papermill": {
   "default_parameters": {},
   "duration": 11.406738,
   "end_time": "2022-01-10T02:08:15.031839",
   "environment_variables": {},
   "exception": null,
   "input_path": "Market-News.ipynb",
   "output_path": "Market-News.ipynb",
   "parameters": {},
   "start_time": "2022-01-10T02:08:03.625101",
   "version": "2.2.2"
  }
 },
 "nbformat": 4,
 "nbformat_minor": 5
}