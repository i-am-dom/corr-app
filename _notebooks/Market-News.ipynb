{
 "cells": [
  {
   "cell_type": "markdown",
   "id": "short-greensboro",
   "metadata": {
    "papermill": {
     "duration": 0.017296,
     "end_time": "2021-09-20T02:03:02.281443",
     "exception": false,
     "start_time": "2021-09-20T02:03:02.264147",
     "status": "completed"
    },
    "tags": []
   },
   "source": [
    "# Kriptovaliutų naujienos"
   ]
  },
  {
   "cell_type": "code",
   "execution_count": 1,
   "id": "functioning-knowing",
   "metadata": {
    "execution": {
     "iopub.execute_input": "2021-09-20T02:03:02.321081Z",
     "iopub.status.busy": "2021-09-20T02:03:02.320430Z",
     "iopub.status.idle": "2021-09-20T02:03:03.925779Z",
     "shell.execute_reply": "2021-09-20T02:03:03.926284Z"
    },
    "papermill": {
     "duration": 1.633063,
     "end_time": "2021-09-20T02:03:03.926468",
     "exception": false,
     "start_time": "2021-09-20T02:03:02.293405",
     "status": "completed"
    },
    "tags": []
   },
   "outputs": [],
   "source": [
    "#hide_input\n",
    "import warnings\n",
    "warnings.filterwarnings('ignore')\n",
    "from scripts.read_data import read_api\n",
    "from scripts.read_data import read_news\n",
    "from scripts.read_data import read_covid\n",
    "import matplotlib.pyplot as plt \n",
    "from IPython.display import Markdown as md"
   ]
  },
  {
   "cell_type": "code",
   "execution_count": 2,
   "id": "shared-acceptance",
   "metadata": {
    "execution": {
     "iopub.execute_input": "2021-09-20T02:03:03.965001Z",
     "iopub.status.busy": "2021-09-20T02:03:03.963653Z",
     "iopub.status.idle": "2021-09-20T02:03:13.869160Z",
     "shell.execute_reply": "2021-09-20T02:03:13.870022Z"
    },
    "papermill": {
     "duration": 9.931006,
     "end_time": "2021-09-20T02:03:13.870179",
     "exception": false,
     "start_time": "2021-09-20T02:03:03.939173",
     "status": "completed"
    },
    "tags": []
   },
   "outputs": [],
   "source": [
    "#hide_input\n",
    "blockchain = read_news('blockchain') \n",
    "btc = read_news('btc') \n",
    "xrp = read_news('xrp') \n",
    "trx = read_news('trx') \n",
    "eth = read_news('eth')  \n",
    "ada = read_news('ada')\n",
    "exchange = read_news('exchange') "
   ]
  },
  {
   "cell_type": "code",
   "execution_count": 3,
   "id": "synthetic-notion",
   "metadata": {
    "execution": {
     "iopub.execute_input": "2021-09-20T02:03:13.901743Z",
     "iopub.status.busy": "2021-09-20T02:03:13.901046Z",
     "iopub.status.idle": "2021-09-20T02:03:13.904662Z",
     "shell.execute_reply": "2021-09-20T02:03:13.905256Z"
    },
    "papermill": {
     "duration": 0.022363,
     "end_time": "2021-09-20T02:03:13.905439",
     "exception": false,
     "start_time": "2021-09-20T02:03:13.883076",
     "status": "completed"
    },
    "tags": []
   },
   "outputs": [
    {
     "data": {
      "text/markdown": [
       "- Top 5 cryptocurrencies to watch this week: BTC, DOT, LUNA, ATOM, FTT.  Bitcoin price is struggling to flip $48,000 to support, but the steady protocol developments taking place in DeFi projects could lead to further upside from DOT, LUNA, ATOM and FTT. ... [| Skaityti daugiau](https://cointelegraph.com/news/top-5-cryptocurrencies-to-watch-this-week-btc-dot-luna-atom-ftt) "
      ],
      "text/plain": [
       "<IPython.core.display.Markdown object>"
      ]
     },
     "execution_count": 3,
     "metadata": {},
     "output_type": "execute_result"
    }
   ],
   "source": [
    "#hide_input\n",
    "#md('##### {}'.format(titleBTC)) \n",
    "md(\"- {}{} {}{} [| Skaityti daugiau]({}) \".format(blockchain['title'],'. ', blockchain['body'], ' ...', blockchain['url']))"
   ]
  },
  {
   "cell_type": "code",
   "execution_count": 4,
   "id": "aging-caution",
   "metadata": {
    "execution": {
     "iopub.execute_input": "2021-09-20T02:03:13.938348Z",
     "iopub.status.busy": "2021-09-20T02:03:13.937181Z",
     "iopub.status.idle": "2021-09-20T02:03:13.940315Z",
     "shell.execute_reply": "2021-09-20T02:03:13.940824Z"
    },
    "papermill": {
     "duration": 0.021935,
     "end_time": "2021-09-20T02:03:13.940999",
     "exception": false,
     "start_time": "2021-09-20T02:03:13.919064",
     "status": "completed"
    },
    "tags": []
   },
   "outputs": [
    {
     "data": {
      "text/markdown": [
       "- Bitcoin Has Already Won, Soon The Price Will Reflect That.  The monetary network already provides freedom to millions and will only continue to grow over time. ... [| Skaityti daugiau](https://bitcoinmagazine.com/culture/bitcoin-has-already-won-price-reflect) "
      ],
      "text/plain": [
       "<IPython.core.display.Markdown object>"
      ]
     },
     "execution_count": 4,
     "metadata": {},
     "output_type": "execute_result"
    }
   ],
   "source": [
    "#hide_input\n",
    "#md('##### {}'.format(titleBTC)) \n",
    "md(\"- {}{} {}{} [| Skaityti daugiau]({}) \".format(btc['title'],'. ', btc['body'], ' ...', btc['url']))"
   ]
  },
  {
   "cell_type": "code",
   "execution_count": 5,
   "id": "organic-actress",
   "metadata": {
    "execution": {
     "iopub.execute_input": "2021-09-20T02:03:13.973973Z",
     "iopub.status.busy": "2021-09-20T02:03:13.973289Z",
     "iopub.status.idle": "2021-09-20T02:03:13.976262Z",
     "shell.execute_reply": "2021-09-20T02:03:13.976879Z"
    },
    "papermill": {
     "duration": 0.021271,
     "end_time": "2021-09-20T02:03:13.977124",
     "exception": false,
     "start_time": "2021-09-20T02:03:13.955853",
     "status": "completed"
    },
    "tags": []
   },
   "outputs": [
    {
     "data": {
      "text/markdown": [
       "- Ripple Has No Plans to Settle With SEC Over XRP, Confident Gensler Will Drop the Lawsuit.  Amid the ongoing lawsuit with the U.S. Securities and Exchange Commission (SEC), Ripple&#x2019;s legal team reportedly said that they have no plans to settle with the securities watchdog. They are confident that SEC Chairman Gary Gensler will be convinced that pursuing the case is picking winners and losers in the crypto business to the detriment [&#8230;] ... [| Skaityti daugiau](https://news.bitcoin.com/ripple-no-plans-settle-sec-xrp-confident-gensler-drop-lawsuit/) "
      ],
      "text/plain": [
       "<IPython.core.display.Markdown object>"
      ]
     },
     "execution_count": 5,
     "metadata": {},
     "output_type": "execute_result"
    }
   ],
   "source": [
    "#hide_input\n",
    "#md('##### {}'.format(titleBTC)) \n",
    "md(\"- {}{} {}{} [| Skaityti daugiau]({}) \".format(xrp['title'],'. ', xrp['body'], ' ...', xrp['url']))"
   ]
  },
  {
   "cell_type": "code",
   "execution_count": 6,
   "id": "prompt-farmer",
   "metadata": {
    "execution": {
     "iopub.execute_input": "2021-09-20T02:03:14.014115Z",
     "iopub.status.busy": "2021-09-20T02:03:14.013456Z",
     "iopub.status.idle": "2021-09-20T02:03:14.017051Z",
     "shell.execute_reply": "2021-09-20T02:03:14.017583Z"
    },
    "papermill": {
     "duration": 0.024792,
     "end_time": "2021-09-20T02:03:14.017731",
     "exception": false,
     "start_time": "2021-09-20T02:03:13.992939",
     "status": "completed"
    },
    "tags": []
   },
   "outputs": [
    {
     "data": {
      "text/markdown": [
       "- TRON price analysis: Tron under pressure as TRX/USD descends to $0.12.   TL;DR Breakdown TRON price analysis shows the cryptocurrency is undergoing bearish stress.Price has lowered up to $0.12 today.Support level is fixed at $0.1 currently. The TRON price analysis is going bearish as the trends have undergone an unexpected reversal. The successive bullish streak has been broken today because of the bearish pressure, and the price has undergone a reduction up to $0.118. This downtrend has been quite surprising for the experts as the market was expecting the price to bounce above $0.121 resistance. Yet, the bears have taken their position on today&#8217;s price chart as per the analysis.  TRX/USD 1-day price chart: Green candlestick elongates enough to pierce through $0.11 The 24-hours TRX price chart for TRON price analysis is showing that a bullish activity is taking place today as the price has increased up to $0.12. Although in the past few days, the bears have tried to exert pressure as well which has been successfully overpowered by the bulls. The bullish momentum has been quite high today, as the Moving Average (MA) value is present way below the current price value i.e. at $0.099. The short-term trending line is also going in the upwards direction, thus confirming the bullish trend. TRX/USD 1-day price chart. Source: TradingView The bulls have been reigning the entire day, which is why the Bollinger bands average is at 0.096. The upper band is showing the value of $0.114 whereas the lower ba... ... [| Skaityti daugiau](https://api.follow.it/track-rss-story-click/v3/tHfgumto13Ape6xjcp_xAhtLdxSOwF-n) "
      ],
      "text/plain": [
       "<IPython.core.display.Markdown object>"
      ]
     },
     "execution_count": 6,
     "metadata": {},
     "output_type": "execute_result"
    }
   ],
   "source": [
    "#hide_input\n",
    "#md('##### {}'.format(titleBTC)) \n",
    "md(\"- {}{} {}{} [| Skaityti daugiau]({}) \".format(trx['title'],'. ', trx['body'], ' ...', trx['url']))"
   ]
  },
  {
   "cell_type": "code",
   "execution_count": 7,
   "id": "illegal-greece",
   "metadata": {
    "execution": {
     "iopub.execute_input": "2021-09-20T02:03:14.054446Z",
     "iopub.status.busy": "2021-09-20T02:03:14.053638Z",
     "iopub.status.idle": "2021-09-20T02:03:14.057037Z",
     "shell.execute_reply": "2021-09-20T02:03:14.057741Z"
    },
    "papermill": {
     "duration": 0.024878,
     "end_time": "2021-09-20T02:03:14.057930",
     "exception": false,
     "start_time": "2021-09-20T02:03:14.033052",
     "status": "completed"
    },
    "tags": []
   },
   "outputs": [
    {
     "data": {
      "text/markdown": [
       "- Why it is ideal to accumulate Bitcoin, Ethereum, Cardano right now.  As inflation is easing in the US, investor Ben Armstrong recently suggested viewers to prepare for a bear market, stating, &#8220;During the crypto bear market, things will look grim. Scary. But it won&#8217;t be anything compared to the stock market. That&#8217;s going to be a bloodbath.&#8221; The crypto commentator said that deflation can taper off the value of [&#8230;] ... [| Skaityti daugiau](https://ambcrypto.com/why-it-is-ideal-to-accumulate-bitcoin-ethereum-cardano-right-now/) "
      ],
      "text/plain": [
       "<IPython.core.display.Markdown object>"
      ]
     },
     "execution_count": 7,
     "metadata": {},
     "output_type": "execute_result"
    }
   ],
   "source": [
    "#hide_input\n",
    "#md('##### {}'.format(titleBTC)) \n",
    "md(\"- {}{} {}{} [| Skaityti daugiau]({}) \".format(eth['title'],'. ', eth['body'], ' ...', eth['url']))"
   ]
  },
  {
   "cell_type": "code",
   "execution_count": 8,
   "id": "sublime-lounge",
   "metadata": {
    "execution": {
     "iopub.execute_input": "2021-09-20T02:03:14.101307Z",
     "iopub.status.busy": "2021-09-20T02:03:14.100695Z",
     "iopub.status.idle": "2021-09-20T02:03:14.104338Z",
     "shell.execute_reply": "2021-09-20T02:03:14.103723Z"
    },
    "papermill": {
     "duration": 0.023565,
     "end_time": "2021-09-20T02:03:14.104494",
     "exception": false,
     "start_time": "2021-09-20T02:03:14.080929",
     "status": "completed"
    },
    "tags": []
   },
   "outputs": [
    {
     "data": {
      "text/markdown": [
       "- Why it is ideal to accumulate Bitcoin, Ethereum, Cardano right now.  As inflation is easing in the US, investor Ben Armstrong recently suggested viewers to prepare for a bear market, stating, &#8220;During the crypto bear market, things will look grim. Scary. But it won&#8217;t be anything compared to the stock market. That&#8217;s going to be a bloodbath.&#8221; The crypto commentator said that deflation can taper off the value of [&#8230;] ... [| Skaityti daugiau](https://ambcrypto.com/why-it-is-ideal-to-accumulate-bitcoin-ethereum-cardano-right-now/) "
      ],
      "text/plain": [
       "<IPython.core.display.Markdown object>"
      ]
     },
     "execution_count": 8,
     "metadata": {},
     "output_type": "execute_result"
    }
   ],
   "source": [
    "#hide_input\n",
    "#md('##### {}'.format(titleBTC)) \n",
    "md(\"- {}{} {}{} [| Skaityti daugiau]({}) \".format(ada['title'],'. ', ada['body'], ' ...', ada['url']))"
   ]
  },
  {
   "cell_type": "code",
   "execution_count": 9,
   "id": "specified-ordering",
   "metadata": {
    "execution": {
     "iopub.execute_input": "2021-09-20T02:03:14.139156Z",
     "iopub.status.busy": "2021-09-20T02:03:14.136649Z",
     "iopub.status.idle": "2021-09-20T02:03:14.142820Z",
     "shell.execute_reply": "2021-09-20T02:03:14.142133Z"
    },
    "papermill": {
     "duration": 0.023948,
     "end_time": "2021-09-20T02:03:14.142985",
     "exception": false,
     "start_time": "2021-09-20T02:03:14.119037",
     "status": "completed"
    },
    "tags": []
   },
   "outputs": [
    {
     "data": {
      "text/markdown": [
       "- Ripple Has No Plans to Settle With SEC Over XRP, Confident Gensler Will Drop the Lawsuit.  Amid the ongoing lawsuit with the U.S. Securities and Exchange Commission (SEC), Ripple&#x2019;s legal team reportedly said that they have no plans to settle with the securities watchdog. They are confident that SEC Chairman Gary Gensler will be convinced that pursuing the case is picking winners and losers in the crypto business to the detriment [&#8230;] ... [| Skaityti daugiau](https://news.bitcoin.com/ripple-no-plans-settle-sec-xrp-confident-gensler-drop-lawsuit/) "
      ],
      "text/plain": [
       "<IPython.core.display.Markdown object>"
      ]
     },
     "execution_count": 9,
     "metadata": {},
     "output_type": "execute_result"
    }
   ],
   "source": [
    "#hide_input\n",
    "#md('##### {}'.format(titleBTC)) \n",
    "md(\"- {}{} {}{} [| Skaityti daugiau]({}) \".format(exchange['title'],'. ', exchange['body'], ' ...', exchange['url']))"
   ]
  },
  {
   "cell_type": "code",
   "execution_count": null,
   "id": "tender-livestock",
   "metadata": {
    "papermill": {
     "duration": 0.014449,
     "end_time": "2021-09-20T02:03:14.172838",
     "exception": false,
     "start_time": "2021-09-20T02:03:14.158389",
     "status": "completed"
    },
    "tags": []
   },
   "outputs": [],
   "source": []
  },
  {
   "cell_type": "code",
   "execution_count": null,
   "id": "appreciated-diamond",
   "metadata": {
    "papermill": {
     "duration": 0.014112,
     "end_time": "2021-09-20T02:03:14.202242",
     "exception": false,
     "start_time": "2021-09-20T02:03:14.188130",
     "status": "completed"
    },
    "tags": []
   },
   "outputs": [],
   "source": []
  },
  {
   "cell_type": "code",
   "execution_count": null,
   "id": "romance-sweden",
   "metadata": {
    "papermill": {
     "duration": 0.015205,
     "end_time": "2021-09-20T02:03:14.232443",
     "exception": false,
     "start_time": "2021-09-20T02:03:14.217238",
     "status": "completed"
    },
    "tags": []
   },
   "outputs": [],
   "source": []
  },
  {
   "cell_type": "code",
   "execution_count": null,
   "id": "dietary-statistics",
   "metadata": {
    "papermill": {
     "duration": 0.015474,
     "end_time": "2021-09-20T02:03:14.262802",
     "exception": false,
     "start_time": "2021-09-20T02:03:14.247328",
     "status": "completed"
    },
    "tags": []
   },
   "outputs": [],
   "source": []
  }
 ],
 "metadata": {
  "kernelspec": {
   "display_name": "Python 3",
   "language": "python",
   "name": "python3"
  },
  "language_info": {
   "codemirror_mode": {
    "name": "ipython",
    "version": 3
   },
   "file_extension": ".py",
   "mimetype": "text/x-python",
   "name": "python",
   "nbconvert_exporter": "python",
   "pygments_lexer": "ipython3",
   "version": "3.6.15"
  },
  "papermill": {
   "default_parameters": {},
   "duration": 13.690092,
   "end_time": "2021-09-20T02:03:14.791781",
   "environment_variables": {},
   "exception": null,
   "input_path": "Market-News.ipynb",
   "output_path": "Market-News.ipynb",
   "parameters": {},
   "start_time": "2021-09-20T02:03:01.101689",
   "version": "2.2.2"
  }
 },
 "nbformat": 4,
 "nbformat_minor": 5
}