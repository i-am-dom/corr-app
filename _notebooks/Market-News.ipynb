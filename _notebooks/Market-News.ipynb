{
 "cells": [
  {
   "cell_type": "markdown",
   "id": "short-greensboro",
   "metadata": {
    "papermill": {
     "duration": 0.013349,
     "end_time": "2021-09-01T02:03:29.772576",
     "exception": false,
     "start_time": "2021-09-01T02:03:29.759227",
     "status": "completed"
    },
    "tags": []
   },
   "source": [
    "# Kriptovaliutų naujienos"
   ]
  },
  {
   "cell_type": "code",
   "execution_count": 1,
   "id": "functioning-knowing",
   "metadata": {
    "execution": {
     "iopub.execute_input": "2021-09-01T02:03:29.804454Z",
     "iopub.status.busy": "2021-09-01T02:03:29.803893Z",
     "iopub.status.idle": "2021-09-01T02:03:31.047514Z",
     "shell.execute_reply": "2021-09-01T02:03:31.046121Z"
    },
    "papermill": {
     "duration": 1.264359,
     "end_time": "2021-09-01T02:03:31.047686",
     "exception": false,
     "start_time": "2021-09-01T02:03:29.783327",
     "status": "completed"
    },
    "tags": []
   },
   "outputs": [],
   "source": [
    "#hide_input\n",
    "import warnings\n",
    "warnings.filterwarnings('ignore')\n",
    "from scripts.read_data import read_api\n",
    "from scripts.read_data import read_news\n",
    "from scripts.read_data import read_covid\n",
    "import matplotlib.pyplot as plt \n",
    "from IPython.display import Markdown as md"
   ]
  },
  {
   "cell_type": "code",
   "execution_count": 2,
   "id": "shared-acceptance",
   "metadata": {
    "execution": {
     "iopub.execute_input": "2021-09-01T02:03:31.073459Z",
     "iopub.status.busy": "2021-09-01T02:03:31.072411Z",
     "iopub.status.idle": "2021-09-01T02:03:40.167171Z",
     "shell.execute_reply": "2021-09-01T02:03:40.166163Z"
    },
    "papermill": {
     "duration": 9.109504,
     "end_time": "2021-09-01T02:03:40.167314",
     "exception": false,
     "start_time": "2021-09-01T02:03:31.057810",
     "status": "completed"
    },
    "tags": []
   },
   "outputs": [],
   "source": [
    "#hide_input\n",
    "blockchain = read_news('blockchain') \n",
    "btc = read_news('btc') \n",
    "xrp = read_news('xrp') \n",
    "trx = read_news('trx') \n",
    "eth = read_news('eth')  \n",
    "ada = read_news('ada')\n",
    "exchange = read_news('exchange') "
   ]
  },
  {
   "cell_type": "code",
   "execution_count": 3,
   "id": "synthetic-notion",
   "metadata": {
    "execution": {
     "iopub.execute_input": "2021-09-01T02:03:40.190983Z",
     "iopub.status.busy": "2021-09-01T02:03:40.190501Z",
     "iopub.status.idle": "2021-09-01T02:03:40.193607Z",
     "shell.execute_reply": "2021-09-01T02:03:40.193092Z"
    },
    "papermill": {
     "duration": 0.016609,
     "end_time": "2021-09-01T02:03:40.193724",
     "exception": false,
     "start_time": "2021-09-01T02:03:40.177115",
     "status": "completed"
    },
    "tags": []
   },
   "outputs": [
    {
     "data": {
      "text/markdown": [
       "- DeFi Protocol Parallel Finance Raises $22 Million in Series A Funding.  Earlier on Monday, Parallel Finance announced that it had raised $22 million in a Series A funding round. The investing round for the Polkadot-based DeFi protocol was led by Polychain Capital, alongside Alameda Research, Blockchain Capital, Blockchain ventures, Slow ventures, Lightspeed venture Partners, and CMT Digital, among others. 📢 We just raises $22 Million in [&#8230;] ... [| Skaityti daugiau](https://bitcoinist.com/defi-protocol-parallel-finance-raises-22-million-in-series-a-funding/?utm_source=rss&utm_medium=rss&utm_campaign=defi-protocol-parallel-finance-raises-22-million-in-series-a-funding) "
      ],
      "text/plain": [
       "<IPython.core.display.Markdown object>"
      ]
     },
     "execution_count": 3,
     "metadata": {},
     "output_type": "execute_result"
    }
   ],
   "source": [
    "#hide_input\n",
    "#md('##### {}'.format(titleBTC)) \n",
    "md(\"- {}{} {}{} [| Skaityti daugiau]({}) \".format(blockchain['title'],'. ', blockchain['body'], ' ...', blockchain['url']))"
   ]
  },
  {
   "cell_type": "code",
   "execution_count": 4,
   "id": "aging-caution",
   "metadata": {
    "execution": {
     "iopub.execute_input": "2021-09-01T02:03:40.215374Z",
     "iopub.status.busy": "2021-09-01T02:03:40.214822Z",
     "iopub.status.idle": "2021-09-01T02:03:40.217710Z",
     "shell.execute_reply": "2021-09-01T02:03:40.217235Z"
    },
    "papermill": {
     "duration": 0.016474,
     "end_time": "2021-09-01T02:03:40.217824",
     "exception": false,
     "start_time": "2021-09-01T02:03:40.201350",
     "status": "completed"
    },
    "tags": []
   },
   "outputs": [
    {
     "data": {
      "text/markdown": [
       "- At over $100, is Solana still undervalued with respect to Bitcoin, Ethereum.  Solana, the currently trending token has exceeded most expectations, recording around 67% rise in the past week. At press time, it was trading just shy of the $130 mark with a 30% surge in 24 hours. Hot-token at the moment Crypto-focused behavior analytics platform Santiment tweeted that as SOL’s price keeps climbing to new all-time [&#8230;] ... [| Skaityti daugiau](https://ambcrypto.com/at-over-100-is-solana-still-undervalued-with-respect-to-bitcoin-ethereum/) "
      ],
      "text/plain": [
       "<IPython.core.display.Markdown object>"
      ]
     },
     "execution_count": 4,
     "metadata": {},
     "output_type": "execute_result"
    }
   ],
   "source": [
    "#hide_input\n",
    "#md('##### {}'.format(titleBTC)) \n",
    "md(\"- {}{} {}{} [| Skaityti daugiau]({}) \".format(btc['title'],'. ', btc['body'], ' ...', btc['url']))"
   ]
  },
  {
   "cell_type": "code",
   "execution_count": 5,
   "id": "organic-actress",
   "metadata": {
    "execution": {
     "iopub.execute_input": "2021-09-01T02:03:40.240551Z",
     "iopub.status.busy": "2021-09-01T02:03:40.240077Z",
     "iopub.status.idle": "2021-09-01T02:03:40.242705Z",
     "shell.execute_reply": "2021-09-01T02:03:40.242304Z"
    },
    "papermill": {
     "duration": 0.015236,
     "end_time": "2021-09-01T02:03:40.242797",
     "exception": false,
     "start_time": "2021-09-01T02:03:40.227561",
     "status": "completed"
    },
    "tags": []
   },
   "outputs": [
    {
     "data": {
      "text/markdown": [
       "- Ripple Wants SEC Members to Reveal Their XRP Holdings.   ... [| Skaityti daugiau](https://cryptobriefing.com/ripple-wants-sec-members-to-reveal-their-xrp-holdings/) "
      ],
      "text/plain": [
       "<IPython.core.display.Markdown object>"
      ]
     },
     "execution_count": 5,
     "metadata": {},
     "output_type": "execute_result"
    }
   ],
   "source": [
    "#hide_input\n",
    "#md('##### {}'.format(titleBTC)) \n",
    "md(\"- {}{} {}{} [| Skaityti daugiau]({}) \".format(xrp['title'],'. ', xrp['body'], ' ...', xrp['url']))"
   ]
  },
  {
   "cell_type": "code",
   "execution_count": 6,
   "id": "prompt-farmer",
   "metadata": {
    "execution": {
     "iopub.execute_input": "2021-09-01T02:03:40.265065Z",
     "iopub.status.busy": "2021-09-01T02:03:40.264517Z",
     "iopub.status.idle": "2021-09-01T02:03:40.267465Z",
     "shell.execute_reply": "2021-09-01T02:03:40.266991Z"
    },
    "papermill": {
     "duration": 0.016362,
     "end_time": "2021-09-01T02:03:40.267567",
     "exception": false,
     "start_time": "2021-09-01T02:03:40.251205",
     "status": "completed"
    },
    "tags": []
   },
   "outputs": [
    {
     "data": {
      "text/markdown": [
       "- Bitcoin Cash, Tron, Filecoin Price Analysis: 28 August.  Bitcoin and Ethereum’s price action impacted most altcoins positively. Some altcoins, however, showed consolidation despite broader market gains. Filecoin, for instance, gained minorly and observed range-bound movement between $75.17 and $70.01 price levels. Bitcoin Cash gained 3.5% and could test the $672.68 price ceiling while TRON presented a buy signal after gaining by 3.3%. Bitcoin [&#8230;] ... [| Skaityti daugiau](https://ambcrypto.com/bitcoin-cash-tron-filecoin-price-analysis-28-august/) "
      ],
      "text/plain": [
       "<IPython.core.display.Markdown object>"
      ]
     },
     "execution_count": 6,
     "metadata": {},
     "output_type": "execute_result"
    }
   ],
   "source": [
    "#hide_input\n",
    "#md('##### {}'.format(titleBTC)) \n",
    "md(\"- {}{} {}{} [| Skaityti daugiau]({}) \".format(trx['title'],'. ', trx['body'], ' ...', trx['url']))"
   ]
  },
  {
   "cell_type": "code",
   "execution_count": 7,
   "id": "illegal-greece",
   "metadata": {
    "execution": {
     "iopub.execute_input": "2021-09-01T02:03:40.292882Z",
     "iopub.status.busy": "2021-09-01T02:03:40.292285Z",
     "iopub.status.idle": "2021-09-01T02:03:40.294841Z",
     "shell.execute_reply": "2021-09-01T02:03:40.295372Z"
    },
    "papermill": {
     "duration": 0.017444,
     "end_time": "2021-09-01T02:03:40.295496",
     "exception": false,
     "start_time": "2021-09-01T02:03:40.278052",
     "status": "completed"
    },
    "tags": []
   },
   "outputs": [
    {
     "data": {
      "text/markdown": [
       "- Chainlink: Undervalued And Under-Hyped.  Chainlink is fundamental to the long-term growth of the cyber-economy, and has the most potential to eventually flip Bitcoin.Chainlink is becoming the global standard for data distribution and accessibility. This applies to both blockchains and private enterprises.More so than Ethereum, Chainlink is the glue that allows the entire crypto-economy to function. Eventually, Chainlink may tether the global economy. ... [| Skaityti daugiau](https://seekingalpha.com/article/4452901-chainlink-undervalued-and-under-hyped?utm_source=cryptocompare.com&utm_medium=referral) "
      ],
      "text/plain": [
       "<IPython.core.display.Markdown object>"
      ]
     },
     "execution_count": 7,
     "metadata": {},
     "output_type": "execute_result"
    }
   ],
   "source": [
    "#hide_input\n",
    "#md('##### {}'.format(titleBTC)) \n",
    "md(\"- {}{} {}{} [| Skaityti daugiau]({}) \".format(eth['title'],'. ', eth['body'], ' ...', eth['url']))"
   ]
  },
  {
   "cell_type": "code",
   "execution_count": 8,
   "id": "sublime-lounge",
   "metadata": {
    "execution": {
     "iopub.execute_input": "2021-09-01T02:03:40.320037Z",
     "iopub.status.busy": "2021-09-01T02:03:40.319567Z",
     "iopub.status.idle": "2021-09-01T02:03:40.321938Z",
     "shell.execute_reply": "2021-09-01T02:03:40.322343Z"
    },
    "papermill": {
     "duration": 0.016469,
     "end_time": "2021-09-01T02:03:40.322446",
     "exception": false,
     "start_time": "2021-09-01T02:03:40.305977",
     "status": "completed"
    },
    "tags": []
   },
   "outputs": [
    {
     "data": {
      "text/markdown": [
       "- At over $100, is Solana still undervalued with respect to Bitcoin, Ethereum.  Solana, the currently trending token has exceeded most expectations, recording around 67% rise in the past week. At press time, it was trading just shy of the $130 mark with a 30% surge in 24 hours. Hot-token at the moment Crypto-focused behavior analytics platform Santiment tweeted that as SOL’s price keeps climbing to new all-time [&#8230;] ... [| Skaityti daugiau](https://ambcrypto.com/at-over-100-is-solana-still-undervalued-with-respect-to-bitcoin-ethereum/) "
      ],
      "text/plain": [
       "<IPython.core.display.Markdown object>"
      ]
     },
     "execution_count": 8,
     "metadata": {},
     "output_type": "execute_result"
    }
   ],
   "source": [
    "#hide_input\n",
    "#md('##### {}'.format(titleBTC)) \n",
    "md(\"- {}{} {}{} [| Skaityti daugiau]({}) \".format(ada['title'],'. ', ada['body'], ' ...', ada['url']))"
   ]
  },
  {
   "cell_type": "code",
   "execution_count": 9,
   "id": "specified-ordering",
   "metadata": {
    "execution": {
     "iopub.execute_input": "2021-09-01T02:03:40.347670Z",
     "iopub.status.busy": "2021-09-01T02:03:40.346751Z",
     "iopub.status.idle": "2021-09-01T02:03:40.350807Z",
     "shell.execute_reply": "2021-09-01T02:03:40.350430Z"
    },
    "papermill": {
     "duration": 0.016758,
     "end_time": "2021-09-01T02:03:40.350890",
     "exception": false,
     "start_time": "2021-09-01T02:03:40.334132",
     "status": "completed"
    },
    "tags": []
   },
   "outputs": [
    {
     "data": {
      "text/markdown": [
       "- Tech Leader Jack Dorsey Wants To Build a Decentralized Exchange for Bitcoin.  Jack Dorsey, the American billionaire who is the co-founder and CEO of microblogging platform Twitter and the CEO of payments solutions provider Square, says he intends to build a decentralized exchange for Bitcoin. Square was founded in February 2009, or just one month after Bitcoin’s initial release. The three co-founders are Jack Dorsey, Jim McKelvey, and Tristan O’Tierney. […] ... [| Skaityti daugiau](https://www.cryptoglobe.com/latest/2021/09/tech-leader-jack-dorsey-wants-to-build-a-decentralized-exchange-for-bitcoin/) "
      ],
      "text/plain": [
       "<IPython.core.display.Markdown object>"
      ]
     },
     "execution_count": 9,
     "metadata": {},
     "output_type": "execute_result"
    }
   ],
   "source": [
    "#hide_input\n",
    "#md('##### {}'.format(titleBTC)) \n",
    "md(\"- {}{} {}{} [| Skaityti daugiau]({}) \".format(exchange['title'],'. ', exchange['body'], ' ...', exchange['url']))"
   ]
  },
  {
   "cell_type": "code",
   "execution_count": null,
   "id": "tender-livestock",
   "metadata": {
    "papermill": {
     "duration": 0.01093,
     "end_time": "2021-09-01T02:03:40.371258",
     "exception": false,
     "start_time": "2021-09-01T02:03:40.360328",
     "status": "completed"
    },
    "tags": []
   },
   "outputs": [],
   "source": []
  },
  {
   "cell_type": "code",
   "execution_count": null,
   "id": "appreciated-diamond",
   "metadata": {
    "papermill": {
     "duration": 0.01006,
     "end_time": "2021-09-01T02:03:40.392516",
     "exception": false,
     "start_time": "2021-09-01T02:03:40.382456",
     "status": "completed"
    },
    "tags": []
   },
   "outputs": [],
   "source": []
  },
  {
   "cell_type": "code",
   "execution_count": null,
   "id": "romance-sweden",
   "metadata": {
    "papermill": {
     "duration": 0.010845,
     "end_time": "2021-09-01T02:03:40.415254",
     "exception": false,
     "start_time": "2021-09-01T02:03:40.404409",
     "status": "completed"
    },
    "tags": []
   },
   "outputs": [],
   "source": []
  },
  {
   "cell_type": "code",
   "execution_count": null,
   "id": "dietary-statistics",
   "metadata": {
    "papermill": {
     "duration": 0.01198,
     "end_time": "2021-09-01T02:03:40.438010",
     "exception": false,
     "start_time": "2021-09-01T02:03:40.426030",
     "status": "completed"
    },
    "tags": []
   },
   "outputs": [],
   "source": []
  }
 ],
 "metadata": {
  "kernelspec": {
   "display_name": "Python 3",
   "language": "python",
   "name": "python3"
  },
  "language_info": {
   "codemirror_mode": {
    "name": "ipython",
    "version": 3
   },
   "file_extension": ".py",
   "mimetype": "text/x-python",
   "name": "python",
   "nbconvert_exporter": "python",
   "pygments_lexer": "ipython3",
   "version": "3.6.14"
  },
  "papermill": {
   "default_parameters": {},
   "duration": 12.139152,
   "end_time": "2021-09-01T02:03:40.856566",
   "environment_variables": {},
   "exception": null,
   "input_path": "Market-News.ipynb",
   "output_path": "Market-News.ipynb",
   "parameters": {},
   "start_time": "2021-09-01T02:03:28.717414",
   "version": "2.2.2"
  }
 },
 "nbformat": 4,
 "nbformat_minor": 5
}