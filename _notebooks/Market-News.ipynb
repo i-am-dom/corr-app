{
 "cells": [
  {
   "cell_type": "markdown",
   "id": "short-greensboro",
   "metadata": {
    "papermill": {
     "duration": 0.012845,
     "end_time": "2022-05-27T03:06:05.662781",
     "exception": false,
     "start_time": "2022-05-27T03:06:05.649936",
     "status": "completed"
    },
    "tags": []
   },
   "source": [
    "# Kriptovaliutų naujienos"
   ]
  },
  {
   "cell_type": "code",
   "execution_count": 1,
   "id": "functioning-knowing",
   "metadata": {
    "execution": {
     "iopub.execute_input": "2022-05-27T03:06:05.691897Z",
     "iopub.status.busy": "2022-05-27T03:06:05.691332Z",
     "iopub.status.idle": "2022-05-27T03:06:06.828351Z",
     "shell.execute_reply": "2022-05-27T03:06:06.827845Z"
    },
    "papermill": {
     "duration": 1.155725,
     "end_time": "2022-05-27T03:06:06.828474",
     "exception": false,
     "start_time": "2022-05-27T03:06:05.672749",
     "status": "completed"
    },
    "tags": []
   },
   "outputs": [],
   "source": [
    "#hide_input\n",
    "import warnings\n",
    "warnings.filterwarnings('ignore')\n",
    "from scripts.read_data import read_api\n",
    "from scripts.read_data import read_news\n",
    "from scripts.read_data import read_covid\n",
    "import matplotlib.pyplot as plt \n",
    "from IPython.display import Markdown as md"
   ]
  },
  {
   "cell_type": "code",
   "execution_count": 2,
   "id": "shared-acceptance",
   "metadata": {
    "execution": {
     "iopub.execute_input": "2022-05-27T03:06:06.853424Z",
     "iopub.status.busy": "2022-05-27T03:06:06.852794Z",
     "iopub.status.idle": "2022-05-27T03:06:20.325695Z",
     "shell.execute_reply": "2022-05-27T03:06:20.325212Z"
    },
    "papermill": {
     "duration": 13.487581,
     "end_time": "2022-05-27T03:06:20.325808",
     "exception": false,
     "start_time": "2022-05-27T03:06:06.838227",
     "status": "completed"
    },
    "tags": []
   },
   "outputs": [],
   "source": [
    "#hide_input\n",
    "blockchain = read_news('blockchain') \n",
    "btc = read_news('btc') \n",
    "xrp = read_news('xrp') \n",
    "trx = read_news('trx') \n",
    "eth = read_news('eth')  \n",
    "ada = read_news('ada')\n",
    "exchange = read_news('exchange') "
   ]
  },
  {
   "cell_type": "code",
   "execution_count": 3,
   "id": "synthetic-notion",
   "metadata": {
    "execution": {
     "iopub.execute_input": "2022-05-27T03:06:20.350688Z",
     "iopub.status.busy": "2022-05-27T03:06:20.350091Z",
     "iopub.status.idle": "2022-05-27T03:06:20.353173Z",
     "shell.execute_reply": "2022-05-27T03:06:20.352746Z"
    },
    "papermill": {
     "duration": 0.017849,
     "end_time": "2022-05-27T03:06:20.353269",
     "exception": false,
     "start_time": "2022-05-27T03:06:20.335420",
     "status": "completed"
    },
    "tags": []
   },
   "outputs": [
    {
     "data": {
      "text/markdown": [
       "- JPMorgan Foresees Increased Blockchain Use in Finance — Prepares to Offer Related Services.  JPMorgan expects blockchain use in finance to increase as the crypto sector grows. The global investment bank says, &#x201C;We want to make sure that we are able to not only support that but also be ready to provide related services.&#x201D; JPMorgan&#x2019;s Blockchain Plans JPMorgan Chase &#038; Co foresees increased blockchain usage in traditional finance and [&#8230;] ... [| Skaityti daugiau](https://news.bitcoin.com/jpmorgan-foresees-increased-blockchain-use-in-finance-prepares-to-offer-related-services/) "
      ],
      "text/plain": [
       "<IPython.core.display.Markdown object>"
      ]
     },
     "execution_count": 3,
     "metadata": {},
     "output_type": "execute_result"
    }
   ],
   "source": [
    "#hide_input\n",
    "#md('##### {}'.format(titleBTC)) \n",
    "md(\"- {}{} {}{} [| Skaityti daugiau]({}) \".format(blockchain['title'],'. ', blockchain['body'], ' ...', blockchain['url']))"
   ]
  },
  {
   "cell_type": "code",
   "execution_count": 4,
   "id": "aging-caution",
   "metadata": {
    "execution": {
     "iopub.execute_input": "2022-05-27T03:06:20.376713Z",
     "iopub.status.busy": "2022-05-27T03:06:20.376149Z",
     "iopub.status.idle": "2022-05-27T03:06:20.379307Z",
     "shell.execute_reply": "2022-05-27T03:06:20.378768Z"
    },
    "papermill": {
     "duration": 0.016501,
     "end_time": "2022-05-27T03:06:20.379400",
     "exception": false,
     "start_time": "2022-05-27T03:06:20.362899",
     "status": "completed"
    },
    "tags": []
   },
   "outputs": [
    {
     "data": {
      "text/markdown": [
       "- Daniel Fraga – The Brazilian Bitcoin (BTC) Billionaire Who Defied the Government and Disappeared.  Get to know the story of possible billionaire Daniel Fraga, one of the first people to talk about Bitcoin (BTC) in Brazil –the man who defied the state and disappeared–. This story was shared by the Brazilian media outlet Boletim Bitcoin. Fraga&#8217;s Story Daniel Fraga&#8217;s public story began in the year 2010 when he started [&#8230;]The post Daniel Fraga &#8211; The Brazilian Bitcoin (BTC) Billionaire Who Defied the Government and Disappeared appeared first on NullTX. ... [| Skaityti daugiau](https://nulltx.com/daniel-fraga-the-brazilian-bitcoin-btc-billionaire-who-defied-the-government-and-disappeared/) "
      ],
      "text/plain": [
       "<IPython.core.display.Markdown object>"
      ]
     },
     "execution_count": 4,
     "metadata": {},
     "output_type": "execute_result"
    }
   ],
   "source": [
    "#hide_input\n",
    "#md('##### {}'.format(titleBTC)) \n",
    "md(\"- {}{} {}{} [| Skaityti daugiau]({}) \".format(btc['title'],'. ', btc['body'], ' ...', btc['url']))"
   ]
  },
  {
   "cell_type": "code",
   "execution_count": 5,
   "id": "organic-actress",
   "metadata": {
    "execution": {
     "iopub.execute_input": "2022-05-27T03:06:20.403401Z",
     "iopub.status.busy": "2022-05-27T03:06:20.402847Z",
     "iopub.status.idle": "2022-05-27T03:06:20.405961Z",
     "shell.execute_reply": "2022-05-27T03:06:20.405431Z"
    },
    "papermill": {
     "duration": 0.016745,
     "end_time": "2022-05-27T03:06:20.406055",
     "exception": false,
     "start_time": "2022-05-27T03:06:20.389310",
     "status": "completed"
    },
    "tags": []
   },
   "outputs": [
    {
     "data": {
      "text/markdown": [
       "- $XRP Whales Have Been Quietly Accumulating Tokens While Prices Drop.  Whales in the XRP Ledger with between 1 million and 10 million $XRP on their wallets have been quietly accumulating tokens, to the point their holdings rose 2.4% over the past 11 days and now hold 6.12% of the cryptocurrency’s supply. According to data from cryptocurrency analytics firm Santiment, large XRP whales have been accumulating […] ... [| Skaityti daugiau](https://www.cryptoglobe.com/latest/2022/05/xrp-whales-have-been-quietly-accumulating-tokens-while-prices-drop/) "
      ],
      "text/plain": [
       "<IPython.core.display.Markdown object>"
      ]
     },
     "execution_count": 5,
     "metadata": {},
     "output_type": "execute_result"
    }
   ],
   "source": [
    "#hide_input\n",
    "#md('##### {}'.format(titleBTC)) \n",
    "md(\"- {}{} {}{} [| Skaityti daugiau]({}) \".format(xrp['title'],'. ', xrp['body'], ' ...', xrp['url']))"
   ]
  },
  {
   "cell_type": "code",
   "execution_count": 6,
   "id": "prompt-farmer",
   "metadata": {
    "execution": {
     "iopub.execute_input": "2022-05-27T03:06:20.430914Z",
     "iopub.status.busy": "2022-05-27T03:06:20.430335Z",
     "iopub.status.idle": "2022-05-27T03:06:20.433310Z",
     "shell.execute_reply": "2022-05-27T03:06:20.432864Z"
    },
    "papermill": {
     "duration": 0.017089,
     "end_time": "2022-05-27T03:06:20.433401",
     "exception": false,
     "start_time": "2022-05-27T03:06:20.416312",
     "status": "completed"
    },
    "tags": []
   },
   "outputs": [
    {
     "data": {
      "text/markdown": [
       "- Company Behind Tether (USDT) Launches New Stablecoin Pegged to Mexican Peso.  The firm behind Tether (USDT) is adding another fiat currency-pegged token to its stable of international stablecoins. According to a new press release, Tether Limited, the Hong Kong-based company behind the largest stablecoin by market cap, has started issuing MXNT, a new token pegged 1:1 to the Mexican Peso. Citing data from crypto payments company [&#8230;]The post Company Behind Tether (USDT) Launches New Stablecoin Pegged to Mexican Peso appeared first on The Daily Hodl. ... [| Skaityti daugiau](https://dailyhodl.com/2022/05/26/company-behind-tether-usdt-launches-new-stablecoin-pegged-to-mexican-peso/) "
      ],
      "text/plain": [
       "<IPython.core.display.Markdown object>"
      ]
     },
     "execution_count": 6,
     "metadata": {},
     "output_type": "execute_result"
    }
   ],
   "source": [
    "#hide_input\n",
    "#md('##### {}'.format(titleBTC)) \n",
    "md(\"- {}{} {}{} [| Skaityti daugiau]({}) \".format(trx['title'],'. ', trx['body'], ' ...', trx['url']))"
   ]
  },
  {
   "cell_type": "code",
   "execution_count": 7,
   "id": "illegal-greece",
   "metadata": {
    "execution": {
     "iopub.execute_input": "2022-05-27T03:06:20.458383Z",
     "iopub.status.busy": "2022-05-27T03:06:20.457532Z",
     "iopub.status.idle": "2022-05-27T03:06:20.461156Z",
     "shell.execute_reply": "2022-05-27T03:06:20.461583Z"
    },
    "papermill": {
     "duration": 0.017603,
     "end_time": "2022-05-27T03:06:20.461688",
     "exception": false,
     "start_time": "2022-05-27T03:06:20.444085",
     "status": "completed"
    },
    "tags": []
   },
   "outputs": [
    {
     "data": {
      "text/markdown": [
       "- Can You Do Cryptocurrency Mining With Your PlayStation 5?.  PlayStation 5 is a console frequently referenced in conjunction with its sales or illegal business operations. Since its release, the platform has been debated over everything from resellers to a continuing PlayStation and Xbox hardware scarcity that has hampered console manufacturing. The announcement about Sony’s next console was enough to eclipse what renders the machine so desirable in the first place, namely its specifications and potential. Leading up to the release, the PS5 was teased with a slew of additional features designed to set it apart from its predecessors. Sony’s new DualSense joystick, which replaced the legacy DualShock controls, featured tactile functionality and capacitive sensors. Cryptocurrency Mining Through PlayStation 5 Earlier rumours claimed that PlayStation 5 could mine Ethereum due to its specifications being comparable to a mining setup. Chinese hackers uploaded a screenshot of the PS5 mining in operation amid speculation that not only was the PS5 compromised by hackers but that it also accelerated the specifications to match this need. Those who planned on turning their PlayStation 5 into cryptocurrency mining equipment will have to hunt for other options. Pl placed a QR code next to the original image, which when scanning merely said “there is no such software for entertainment hahaha” in Chinese, indicating that it’s nothing more than a complex scam. If the crypto mining frenzy persists, we ma... ... [| Skaityti daugiau](https://www.cryptoknowmics.com/news/can-you-do-cryptocurrency-mining-with-your-playstation-5/?utm_source=rss&utm_medium=rss&utm_campaign=can-you-do-cryptocurrency-mining-with-your-playstation-5) "
      ],
      "text/plain": [
       "<IPython.core.display.Markdown object>"
      ]
     },
     "execution_count": 7,
     "metadata": {},
     "output_type": "execute_result"
    }
   ],
   "source": [
    "#hide_input\n",
    "#md('##### {}'.format(titleBTC)) \n",
    "md(\"- {}{} {}{} [| Skaityti daugiau]({}) \".format(eth['title'],'. ', eth['body'], ' ...', eth['url']))"
   ]
  },
  {
   "cell_type": "code",
   "execution_count": 8,
   "id": "sublime-lounge",
   "metadata": {
    "execution": {
     "iopub.execute_input": "2022-05-27T03:06:20.488859Z",
     "iopub.status.busy": "2022-05-27T03:06:20.488264Z",
     "iopub.status.idle": "2022-05-27T03:06:20.491187Z",
     "shell.execute_reply": "2022-05-27T03:06:20.490740Z"
    },
    "papermill": {
     "duration": 0.01777,
     "end_time": "2022-05-27T03:06:20.491277",
     "exception": false,
     "start_time": "2022-05-27T03:06:20.473507",
     "status": "completed"
    },
    "tags": []
   },
   "outputs": [
    {
     "data": {
      "text/markdown": [
       "- Hoskinson Sits Down With Thinking Crypto In Virtual Interview.  Charles Hoskinson had a virtual interview with Tony Edward from Thinking Crypto yesterday. The interview was a discussion around various ...Read More... ... [| Skaityti daugiau](https://coinquora.com/hoskinson-sits-down-with-thinking-crypto-in-virtual-interview/) "
      ],
      "text/plain": [
       "<IPython.core.display.Markdown object>"
      ]
     },
     "execution_count": 8,
     "metadata": {},
     "output_type": "execute_result"
    }
   ],
   "source": [
    "#hide_input\n",
    "#md('##### {}'.format(titleBTC)) \n",
    "md(\"- {}{} {}{} [| Skaityti daugiau]({}) \".format(ada['title'],'. ', ada['body'], ' ...', ada['url']))"
   ]
  },
  {
   "cell_type": "code",
   "execution_count": 9,
   "id": "specified-ordering",
   "metadata": {
    "execution": {
     "iopub.execute_input": "2022-05-27T03:06:20.517467Z",
     "iopub.status.busy": "2022-05-27T03:06:20.516666Z",
     "iopub.status.idle": "2022-05-27T03:06:20.520580Z",
     "shell.execute_reply": "2022-05-27T03:06:20.520044Z"
    },
    "papermill": {
     "duration": 0.018076,
     "end_time": "2022-05-27T03:06:20.520672",
     "exception": false,
     "start_time": "2022-05-27T03:06:20.502596",
     "status": "completed"
    },
    "tags": []
   },
   "outputs": [
    {
     "data": {
      "text/markdown": [
       "- McLaren’s Daniel Ricciardo Becomes Global Ambassador of OKX.  F1 pilot Daniel Ricciardo shook hands with the crypto exchange OKX, becoming its ambassador for the remaining of the 2022/23 racing season. ... [| Skaityti daugiau](https://cryptopotato.com/mclarens-daniel-ricciardo-becomes-global-ambassador-of-okx/) "
      ],
      "text/plain": [
       "<IPython.core.display.Markdown object>"
      ]
     },
     "execution_count": 9,
     "metadata": {},
     "output_type": "execute_result"
    }
   ],
   "source": [
    "#hide_input\n",
    "#md('##### {}'.format(titleBTC)) \n",
    "md(\"- {}{} {}{} [| Skaityti daugiau]({}) \".format(exchange['title'],'. ', exchange['body'], ' ...', exchange['url']))"
   ]
  },
  {
   "cell_type": "code",
   "execution_count": null,
   "id": "tender-livestock",
   "metadata": {
    "papermill": {
     "duration": 0.012162,
     "end_time": "2022-05-27T03:06:20.544435",
     "exception": false,
     "start_time": "2022-05-27T03:06:20.532273",
     "status": "completed"
    },
    "tags": []
   },
   "outputs": [],
   "source": []
  },
  {
   "cell_type": "code",
   "execution_count": null,
   "id": "appreciated-diamond",
   "metadata": {
    "papermill": {
     "duration": 0.011867,
     "end_time": "2022-05-27T03:06:20.568044",
     "exception": false,
     "start_time": "2022-05-27T03:06:20.556177",
     "status": "completed"
    },
    "tags": []
   },
   "outputs": [],
   "source": []
  },
  {
   "cell_type": "code",
   "execution_count": null,
   "id": "romance-sweden",
   "metadata": {
    "papermill": {
     "duration": 0.01153,
     "end_time": "2022-05-27T03:06:20.591333",
     "exception": false,
     "start_time": "2022-05-27T03:06:20.579803",
     "status": "completed"
    },
    "tags": []
   },
   "outputs": [],
   "source": []
  },
  {
   "cell_type": "code",
   "execution_count": null,
   "id": "dietary-statistics",
   "metadata": {
    "papermill": {
     "duration": 0.011572,
     "end_time": "2022-05-27T03:06:20.614605",
     "exception": false,
     "start_time": "2022-05-27T03:06:20.603033",
     "status": "completed"
    },
    "tags": []
   },
   "outputs": [],
   "source": []
  }
 ],
 "metadata": {
  "kernelspec": {
   "display_name": "Python 3",
   "language": "python",
   "name": "python3"
  },
  "language_info": {
   "codemirror_mode": {
    "name": "ipython",
    "version": 3
   },
   "file_extension": ".py",
   "mimetype": "text/x-python",
   "name": "python",
   "nbconvert_exporter": "python",
   "pygments_lexer": "ipython3",
   "version": "3.6.15"
  },
  "papermill": {
   "default_parameters": {},
   "duration": 16.292901,
   "end_time": "2022-05-27T03:06:21.043829",
   "environment_variables": {},
   "exception": null,
   "input_path": "Market-News.ipynb",
   "output_path": "Market-News.ipynb",
   "parameters": {},
   "start_time": "2022-05-27T03:06:04.750928",
   "version": "2.2.2"
  }
 },
 "nbformat": 4,
 "nbformat_minor": 5
}