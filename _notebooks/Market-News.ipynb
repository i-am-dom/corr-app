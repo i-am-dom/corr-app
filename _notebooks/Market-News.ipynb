{
 "cells": [
  {
   "cell_type": "markdown",
   "id": "short-greensboro",
   "metadata": {
    "papermill": {
     "duration": 0.015353,
     "end_time": "2022-10-24T03:54:55.325254",
     "exception": false,
     "start_time": "2022-10-24T03:54:55.309901",
     "status": "completed"
    },
    "tags": []
   },
   "source": [
    "# Kriptovaliutų naujienos"
   ]
  },
  {
   "cell_type": "code",
   "execution_count": 1,
   "id": "functioning-knowing",
   "metadata": {
    "execution": {
     "iopub.execute_input": "2022-10-24T03:54:55.358662Z",
     "iopub.status.busy": "2022-10-24T03:54:55.357825Z",
     "iopub.status.idle": "2022-10-24T03:54:56.773074Z",
     "shell.execute_reply": "2022-10-24T03:54:56.773863Z"
    },
    "papermill": {
     "duration": 1.437837,
     "end_time": "2022-10-24T03:54:56.774045",
     "exception": false,
     "start_time": "2022-10-24T03:54:55.336208",
     "status": "completed"
    },
    "tags": []
   },
   "outputs": [],
   "source": [
    "#hide_input\n",
    "import warnings\n",
    "warnings.filterwarnings('ignore')\n",
    "from scripts.read_data import read_api\n",
    "from scripts.read_data import read_news\n",
    "from scripts.read_data import read_covid\n",
    "import matplotlib.pyplot as plt \n",
    "from IPython.display import Markdown as md"
   ]
  },
  {
   "cell_type": "code",
   "execution_count": 2,
   "id": "shared-acceptance",
   "metadata": {
    "execution": {
     "iopub.execute_input": "2022-10-24T03:54:56.801860Z",
     "iopub.status.busy": "2022-10-24T03:54:56.801161Z",
     "iopub.status.idle": "2022-10-24T03:55:09.635478Z",
     "shell.execute_reply": "2022-10-24T03:55:09.636086Z"
    },
    "papermill": {
     "duration": 12.851003,
     "end_time": "2022-10-24T03:55:09.636439",
     "exception": false,
     "start_time": "2022-10-24T03:54:56.785436",
     "status": "completed"
    },
    "tags": []
   },
   "outputs": [],
   "source": [
    "#hide_input\n",
    "blockchain = read_news('blockchain') \n",
    "btc = read_news('btc') \n",
    "xrp = read_news('xrp') \n",
    "trx = read_news('trx') \n",
    "eth = read_news('eth')  \n",
    "ada = read_news('ada')\n",
    "exchange = read_news('exchange') "
   ]
  },
  {
   "cell_type": "code",
   "execution_count": 3,
   "id": "synthetic-notion",
   "metadata": {
    "execution": {
     "iopub.execute_input": "2022-10-24T03:55:09.664558Z",
     "iopub.status.busy": "2022-10-24T03:55:09.663886Z",
     "iopub.status.idle": "2022-10-24T03:55:09.671789Z",
     "shell.execute_reply": "2022-10-24T03:55:09.671231Z"
    },
    "papermill": {
     "duration": 0.024659,
     "end_time": "2022-10-24T03:55:09.671904",
     "exception": false,
     "start_time": "2022-10-24T03:55:09.647245",
     "status": "completed"
    },
    "tags": []
   },
   "outputs": [
    {
     "data": {
      "text/markdown": [
       "- Dogecoin Gains 100K Holders In Just Three Months, Report.  Popular meme coin, Dogecoin, has welcomed new holders into its ecosystem within the past three months. As per data from CoinMarketCap, the number of Doge holders has increased by about 2% from its July 24th number. While the coin has enjoyed increased investors, it hasn’t reflected in its price movement. It seems most investors are dormant whales banking on future bullish news, such as Twitter’s acquisition or other blockchain upgrades. Related Reading: Data: Bitcoin Whales Who Accumulated At $18k Have Continued To Hold Strong Dogecoin Investors Spike: The Numbers Dogecoin has enjoyed massive growth in the past. What started as a meme on Twitter grew to become a top 10 cryptocurrency, according to CoinMarketCap. Despite its huge popularity, it joined the rest of the market to nosedive during the recent crypto crash. Dogecoin is still over 90% below its all-time high. However, it has seen a decent increase in the number of holders in the past three months. Dogecoin&#8217;s total holder count as of October 23 was 4,456,459, up from 4,365,551 on July 24 (a 2% increase). CoinMarketCap statistics show that the tenth-ranked cryptocurrency by market cap gained over 889,900 holdings in three months. However, the price of Dogecoin has not responded to the actions of its holders. As of this writing, the asset was trading for $0.059, down 16.1% in the past three months. Why More People Are Holding Doge There are several reasons that expl... ... [| Skaityti daugiau](https://www.newsbtc.com/news/dogecoin/dogecoin-gains-100k-holders-in-just-three-months/) "
      ],
      "text/plain": [
       "<IPython.core.display.Markdown object>"
      ]
     },
     "execution_count": 3,
     "metadata": {},
     "output_type": "execute_result"
    }
   ],
   "source": [
    "#hide_input\n",
    "#md('##### {}'.format(titleBTC)) \n",
    "md(\"- {}{} {}{} [| Skaityti daugiau]({}) \".format(blockchain['title'],'. ', blockchain['body'], ' ...', blockchain['url']))"
   ]
  },
  {
   "cell_type": "code",
   "execution_count": 4,
   "id": "aging-caution",
   "metadata": {
    "execution": {
     "iopub.execute_input": "2022-10-24T03:55:09.701878Z",
     "iopub.status.busy": "2022-10-24T03:55:09.701118Z",
     "iopub.status.idle": "2022-10-24T03:55:09.708089Z",
     "shell.execute_reply": "2022-10-24T03:55:09.707489Z"
    },
    "papermill": {
     "duration": 0.025903,
     "end_time": "2022-10-24T03:55:09.708233",
     "exception": false,
     "start_time": "2022-10-24T03:55:09.682330",
     "status": "completed"
    },
    "tags": []
   },
   "outputs": [
    {
     "data": {
      "text/markdown": [
       "- LBank Exchange Will List ASSA GLOBAL COIN (ASGC) on October 24, 2022.  INTERNET CITY, DUBAI, Oct. 23, 2022 – LBank Exchange, a global digital asset trading platform, will list ASSA GLOBAL COIN (ASGC) on October 24, 2022. For all users of LBank Exchange, the ASGC/USDT trading pair will be officially available for trading at 10:00 UTC on October 24, 2022. As a platform guaranteed by virtual assets...The post LBank Exchange Will List ASSA GLOBAL COIN (ASGC) on October 24, 2022 appeared first on Live Bitcoin News. ... [| Skaityti daugiau](https://www.livebitcoinnews.com/lbank-exchange-will-list-assa-global-coin-asgc-on-october-24-2022/) "
      ],
      "text/plain": [
       "<IPython.core.display.Markdown object>"
      ]
     },
     "execution_count": 4,
     "metadata": {},
     "output_type": "execute_result"
    }
   ],
   "source": [
    "#hide_input\n",
    "#md('##### {}'.format(titleBTC)) \n",
    "md(\"- {}{} {}{} [| Skaityti daugiau]({}) \".format(btc['title'],'. ', btc['body'], ' ...', btc['url']))"
   ]
  },
  {
   "cell_type": "code",
   "execution_count": 5,
   "id": "organic-actress",
   "metadata": {
    "execution": {
     "iopub.execute_input": "2022-10-24T03:55:09.736543Z",
     "iopub.status.busy": "2022-10-24T03:55:09.735851Z",
     "iopub.status.idle": "2022-10-24T03:55:09.740085Z",
     "shell.execute_reply": "2022-10-24T03:55:09.739555Z"
    },
    "papermill": {
     "duration": 0.020472,
     "end_time": "2022-10-24T03:55:09.740195",
     "exception": false,
     "start_time": "2022-10-24T03:55:09.719723",
     "status": "completed"
    },
    "tags": []
   },
   "outputs": [
    {
     "data": {
      "text/markdown": [
       "- XRP Trades In Red During The Market Uncertainty.  SEC-battled XRP trades in the red zone despite other top coins enjoying significant gains as the crypto market finally gets some breathing space. October started out rough for top coins despite the month being known as favorable for the market. Most top coins traded in the red zone, while others, including XRP, suffered massive volatility. The Uptober spirit seemed to fall on XRP the day before when it recorded some gains. However, the momentum didn’t last long as XRP is now down 1.44% in the last 24 hours. There is still hope for XRP thanks to bullish news from its ongoing case with the SEC. With more firms signing up as amicus curiae, the bulls might leverage this advantage to push the XRPs price further. Related Reading: Data: Bitcoin Whales Who Accumulated At $18k Have Continued To Hold Strong XRP Trades Red Amid Rough Week The cryptocurrency market had a rough start to the week. But while most top coins have experienced measurable turnarounds, XRP has been left behind. XRP is currently trading at $0.45, representing a decrease of about 1.44% over yesterday’s close. This adds to its rough 7-day chart that sees XRP losing almost 5.17%. XRPs daily loss is still a sign that the bears have not given up yet. There might still be some fighting left before the end of the month. However, if there is any good news coming down the pipeline, we will see XRP continue to climb higher. XRP Falls Back To $0.45 Support Line XRP tried test... ... [| Skaityti daugiau](https://www.newsbtc.com/analysis/xrp/xrp-trades-in-red-during-the-market-uncertainty/) "
      ],
      "text/plain": [
       "<IPython.core.display.Markdown object>"
      ]
     },
     "execution_count": 5,
     "metadata": {},
     "output_type": "execute_result"
    }
   ],
   "source": [
    "#hide_input\n",
    "#md('##### {}'.format(titleBTC)) \n",
    "md(\"- {}{} {}{} [| Skaityti daugiau]({}) \".format(xrp['title'],'. ', xrp['body'], ' ...', xrp['url']))"
   ]
  },
  {
   "cell_type": "code",
   "execution_count": 6,
   "id": "prompt-farmer",
   "metadata": {
    "execution": {
     "iopub.execute_input": "2022-10-24T03:55:09.769157Z",
     "iopub.status.busy": "2022-10-24T03:55:09.768463Z",
     "iopub.status.idle": "2022-10-24T03:55:09.773566Z",
     "shell.execute_reply": "2022-10-24T03:55:09.773040Z"
    },
    "papermill": {
     "duration": 0.020864,
     "end_time": "2022-10-24T03:55:09.773675",
     "exception": false,
     "start_time": "2022-10-24T03:55:09.752811",
     "status": "completed"
    },
    "tags": []
   },
   "outputs": [
    {
     "data": {
      "text/markdown": [
       "- Tron Development Activity Grows In The Last 7 Days – Except TRX Price.  Tron (TRX) welcomed the second week of this month with the news of its coin becoming a legal tender in the Commonwealth of Dominica announced by no less than its blockchain founder, Justin Sun. Technical indicators for TRON are confusing as of this time TRX could surge all the way to $0.0678 after 30 days Tron network’s development activity surges over the last few days With the development, the crypto, along with other Tron minted coins such as BTT, JST, NFT, USDD, USDT and TUSD, can now be used as medium of exchange within the island nation. Meanwhile, just last September, Sun shared on Twitter that since October 28, 2021, the total number of burned TRX tokens reached 11 billion, dropping the asset’s supply to 71.6 billion. The 15th largest cryptocurrency in terms of market capitalization also recently racked up another achievement, placing 3rd on the list of the most influential BTTs over the last 30 days. BTTs are TRC-20 utility tokens used for powering various features of different decentralized applications and programs. But even with all of these accomplishments, TRX failed to make any significant rally to push its prices to higher levels. TRX Price Still Unable To Take Off At press time, according to data from Coingecko, TRON is trading at $0.0623 and although it is up by 2.2% over the last seven days and by 4.3% for the past 30 days. Related Reading: AVAX Sheds 50% Over The Last 60 Days – More Losses Ahead? Source: Tr... ... [| Skaityti daugiau](https://www.newsbtc.com/news/tron-development-activity-grows-in-the-last-7-days-except-trx-price/) "
      ],
      "text/plain": [
       "<IPython.core.display.Markdown object>"
      ]
     },
     "execution_count": 6,
     "metadata": {},
     "output_type": "execute_result"
    }
   ],
   "source": [
    "#hide_input\n",
    "#md('##### {}'.format(titleBTC)) \n",
    "md(\"- {}{} {}{} [| Skaityti daugiau]({}) \".format(trx['title'],'. ', trx['body'], ' ...', trx['url']))"
   ]
  },
  {
   "cell_type": "code",
   "execution_count": 7,
   "id": "illegal-greece",
   "metadata": {
    "execution": {
     "iopub.execute_input": "2022-10-24T03:55:09.804605Z",
     "iopub.status.busy": "2022-10-24T03:55:09.803856Z",
     "iopub.status.idle": "2022-10-24T03:55:09.808118Z",
     "shell.execute_reply": "2022-10-24T03:55:09.807507Z"
    },
    "papermill": {
     "duration": 0.022957,
     "end_time": "2022-10-24T03:55:09.808250",
     "exception": false,
     "start_time": "2022-10-24T03:55:09.785293",
     "status": "completed"
    },
    "tags": []
   },
   "outputs": [
    {
     "data": {
      "text/markdown": [
       "- Bitcoin, Ethereum, Solana, and Tron Daily Price Analyses – 23 October Roundup.  The global crypto market has seen a surge in value due to the speedy influx of capital. The recent changes for Bitcoin, Ethereum, and others show the addition of a significant amount. As the new changes continue, there is hope for change in the performance of the market. The global economic downturn and geopolitical issues &#8230;  Bitcoin, Ethereum, Solana, and Tron Daily Price Analyses – 23 October Roundup Read More &#187; ... [| Skaityti daugiau](https://www.cryptopolitan.com/bitcoin-ethereum-solana-and-tron-daily-price-analyses-23-october-roundup/) "
      ],
      "text/plain": [
       "<IPython.core.display.Markdown object>"
      ]
     },
     "execution_count": 7,
     "metadata": {},
     "output_type": "execute_result"
    }
   ],
   "source": [
    "#hide_input\n",
    "#md('##### {}'.format(titleBTC)) \n",
    "md(\"- {}{} {}{} [| Skaityti daugiau]({}) \".format(eth['title'],'. ', eth['body'], ' ...', eth['url']))"
   ]
  },
  {
   "cell_type": "code",
   "execution_count": 8,
   "id": "sublime-lounge",
   "metadata": {
    "execution": {
     "iopub.execute_input": "2022-10-24T03:55:09.839171Z",
     "iopub.status.busy": "2022-10-24T03:55:09.838419Z",
     "iopub.status.idle": "2022-10-24T03:55:09.842720Z",
     "shell.execute_reply": "2022-10-24T03:55:09.842098Z"
    },
    "papermill": {
     "duration": 0.021964,
     "end_time": "2022-10-24T03:55:09.842833",
     "exception": false,
     "start_time": "2022-10-24T03:55:09.820869",
     "status": "completed"
    },
    "tags": []
   },
   "outputs": [
    {
     "data": {
      "text/markdown": [
       "- Uniglo.io, Cardano And Pancakeswap Are A Must-Have This Week. Learn Why?.  The long-awaited Q4 has arrived. This quarter likely will deliver the macro-bottom, and the only direction afterward will be up. Investors need to leverage the current market prices to build their portfolios because these valuations will disappear soon and never return. Investors need to buy Uniglo.io (GLO), Cardano (ADA), and PancakeSwap (CAKE) this week. Those [&#8230;]The post Uniglo.io, Cardano And Pancakeswap Are A Must-Have This Week. Learn Why? appeared first on NullTX. ... [| Skaityti daugiau](https://nulltx.com/uniglo-io-cardano-and-pancakeswap-are-a-must-have-this-week-learn-why/) "
      ],
      "text/plain": [
       "<IPython.core.display.Markdown object>"
      ]
     },
     "execution_count": 8,
     "metadata": {},
     "output_type": "execute_result"
    }
   ],
   "source": [
    "#hide_input\n",
    "#md('##### {}'.format(titleBTC)) \n",
    "md(\"- {}{} {}{} [| Skaityti daugiau]({}) \".format(ada['title'],'. ', ada['body'], ' ...', ada['url']))"
   ]
  },
  {
   "cell_type": "code",
   "execution_count": 9,
   "id": "specified-ordering",
   "metadata": {
    "execution": {
     "iopub.execute_input": "2022-10-24T03:55:09.873551Z",
     "iopub.status.busy": "2022-10-24T03:55:09.872027Z",
     "iopub.status.idle": "2022-10-24T03:55:09.876982Z",
     "shell.execute_reply": "2022-10-24T03:55:09.876434Z"
    },
    "papermill": {
     "duration": 0.021801,
     "end_time": "2022-10-24T03:55:09.877095",
     "exception": false,
     "start_time": "2022-10-24T03:55:09.855294",
     "status": "completed"
    },
    "tags": []
   },
   "outputs": [
    {
     "data": {
      "text/markdown": [
       "- LBank Exchange Will List ASSA GLOBAL COIN (ASGC) on October 24, 2022.  INTERNET CITY, DUBAI, Oct. 23, 2022 – LBank Exchange, a global digital asset trading platform, will list ASSA GLOBAL COIN (ASGC) on October 24, 2022. For all users of LBank Exchange, the ASGC/USDT trading pair will be officially available for trading at 10:00 UTC on October 24, 2022. As a platform guaranteed by virtual assets...The post LBank Exchange Will List ASSA GLOBAL COIN (ASGC) on October 24, 2022 appeared first on Live Bitcoin News. ... [| Skaityti daugiau](https://www.livebitcoinnews.com/lbank-exchange-will-list-assa-global-coin-asgc-on-october-24-2022/) "
      ],
      "text/plain": [
       "<IPython.core.display.Markdown object>"
      ]
     },
     "execution_count": 9,
     "metadata": {},
     "output_type": "execute_result"
    }
   ],
   "source": [
    "#hide_input\n",
    "#md('##### {}'.format(titleBTC)) \n",
    "md(\"- {}{} {}{} [| Skaityti daugiau]({}) \".format(exchange['title'],'. ', exchange['body'], ' ...', exchange['url']))"
   ]
  },
  {
   "cell_type": "code",
   "execution_count": null,
   "id": "tender-livestock",
   "metadata": {
    "papermill": {
     "duration": 0.013644,
     "end_time": "2022-10-24T03:55:09.904819",
     "exception": false,
     "start_time": "2022-10-24T03:55:09.891175",
     "status": "completed"
    },
    "tags": []
   },
   "outputs": [],
   "source": []
  },
  {
   "cell_type": "code",
   "execution_count": null,
   "id": "appreciated-diamond",
   "metadata": {
    "papermill": {
     "duration": 0.014742,
     "end_time": "2022-10-24T03:55:09.934689",
     "exception": false,
     "start_time": "2022-10-24T03:55:09.919947",
     "status": "completed"
    },
    "tags": []
   },
   "outputs": [],
   "source": []
  },
  {
   "cell_type": "code",
   "execution_count": null,
   "id": "romance-sweden",
   "metadata": {
    "papermill": {
     "duration": 0.013953,
     "end_time": "2022-10-24T03:55:09.964558",
     "exception": false,
     "start_time": "2022-10-24T03:55:09.950605",
     "status": "completed"
    },
    "tags": []
   },
   "outputs": [],
   "source": []
  },
  {
   "cell_type": "code",
   "execution_count": null,
   "id": "dietary-statistics",
   "metadata": {
    "papermill": {
     "duration": 0.014141,
     "end_time": "2022-10-24T03:55:09.992940",
     "exception": false,
     "start_time": "2022-10-24T03:55:09.978799",
     "status": "completed"
    },
    "tags": []
   },
   "outputs": [],
   "source": []
  }
 ],
 "metadata": {
  "kernelspec": {
   "display_name": "Python 3",
   "language": "python",
   "name": "python3"
  },
  "language_info": {
   "codemirror_mode": {
    "name": "ipython",
    "version": 3
   },
   "file_extension": ".py",
   "mimetype": "text/x-python",
   "name": "python",
   "nbconvert_exporter": "python",
   "pygments_lexer": "ipython3",
   "version": "3.6.15"
  },
  "papermill": {
   "default_parameters": {},
   "duration": 16.508422,
   "end_time": "2022-10-24T03:55:10.531790",
   "environment_variables": {},
   "exception": null,
   "input_path": "Market-News.ipynb",
   "output_path": "Market-News.ipynb",
   "parameters": {},
   "start_time": "2022-10-24T03:54:54.023368",
   "version": "2.2.2"
  }
 },
 "nbformat": 4,
 "nbformat_minor": 5
}