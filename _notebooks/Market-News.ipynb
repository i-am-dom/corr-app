{
 "cells": [
  {
   "cell_type": "markdown",
   "id": "short-greensboro",
   "metadata": {
    "papermill": {
     "duration": 0.013031,
     "end_time": "2022-07-24T03:15:24.797702",
     "exception": false,
     "start_time": "2022-07-24T03:15:24.784671",
     "status": "completed"
    },
    "tags": []
   },
   "source": [
    "# Kriptovaliutų naujienos"
   ]
  },
  {
   "cell_type": "code",
   "execution_count": 1,
   "id": "functioning-knowing",
   "metadata": {
    "execution": {
     "iopub.execute_input": "2022-07-24T03:15:24.827677Z",
     "iopub.status.busy": "2022-07-24T03:15:24.827079Z",
     "iopub.status.idle": "2022-07-24T03:15:26.024325Z",
     "shell.execute_reply": "2022-07-24T03:15:26.023836Z"
    },
    "papermill": {
     "duration": 1.216887,
     "end_time": "2022-07-24T03:15:26.024455",
     "exception": false,
     "start_time": "2022-07-24T03:15:24.807568",
     "status": "completed"
    },
    "tags": []
   },
   "outputs": [],
   "source": [
    "#hide_input\n",
    "import warnings\n",
    "warnings.filterwarnings('ignore')\n",
    "from scripts.read_data import read_api\n",
    "from scripts.read_data import read_news\n",
    "from scripts.read_data import read_covid\n",
    "import matplotlib.pyplot as plt \n",
    "from IPython.display import Markdown as md"
   ]
  },
  {
   "cell_type": "code",
   "execution_count": 2,
   "id": "shared-acceptance",
   "metadata": {
    "execution": {
     "iopub.execute_input": "2022-07-24T03:15:26.049501Z",
     "iopub.status.busy": "2022-07-24T03:15:26.048879Z",
     "iopub.status.idle": "2022-07-24T03:15:41.295441Z",
     "shell.execute_reply": "2022-07-24T03:15:41.294603Z"
    },
    "papermill": {
     "duration": 15.261662,
     "end_time": "2022-07-24T03:15:41.295561",
     "exception": false,
     "start_time": "2022-07-24T03:15:26.033899",
     "status": "completed"
    },
    "tags": []
   },
   "outputs": [],
   "source": [
    "#hide_input\n",
    "blockchain = read_news('blockchain') \n",
    "btc = read_news('btc') \n",
    "xrp = read_news('xrp') \n",
    "trx = read_news('trx') \n",
    "eth = read_news('eth')  \n",
    "ada = read_news('ada')\n",
    "exchange = read_news('exchange') "
   ]
  },
  {
   "cell_type": "code",
   "execution_count": 3,
   "id": "synthetic-notion",
   "metadata": {
    "execution": {
     "iopub.execute_input": "2022-07-24T03:15:41.321334Z",
     "iopub.status.busy": "2022-07-24T03:15:41.320273Z",
     "iopub.status.idle": "2022-07-24T03:15:41.323656Z",
     "shell.execute_reply": "2022-07-24T03:15:41.323207Z"
    },
    "papermill": {
     "duration": 0.018867,
     "end_time": "2022-07-24T03:15:41.323761",
     "exception": false,
     "start_time": "2022-07-24T03:15:41.304894",
     "status": "completed"
    },
    "tags": []
   },
   "outputs": [
    {
     "data": {
      "text/markdown": [
       "- Can Polygon [MATIC] take its winning streak to new highs as ZK becomes ETH compatible?.  Polygon [MATIC] has been making headway into scaling Ethereum [ETH] since the day it launched with improved speeds and significantly reduced costs. Challenges are a part of every journey. The challenge wherein ZK rollups smart contracts limiting users as these contracts tend to be slow and expensive and incompatible with ETH&#8217;s code poses a great [&#8230;] ... [| Skaityti daugiau](https://ambcrypto.com/can-polygon-matic-take-its-winning-streak-to-new-highs-as-zk-becomes-eth-compatible/) "
      ],
      "text/plain": [
       "<IPython.core.display.Markdown object>"
      ]
     },
     "execution_count": 3,
     "metadata": {},
     "output_type": "execute_result"
    }
   ],
   "source": [
    "#hide_input\n",
    "#md('##### {}'.format(titleBTC)) \n",
    "md(\"- {}{} {}{} [| Skaityti daugiau]({}) \".format(blockchain['title'],'. ', blockchain['body'], ' ...', blockchain['url']))"
   ]
  },
  {
   "cell_type": "code",
   "execution_count": 4,
   "id": "aging-caution",
   "metadata": {
    "execution": {
     "iopub.execute_input": "2022-07-24T03:15:41.348748Z",
     "iopub.status.busy": "2022-07-24T03:15:41.347727Z",
     "iopub.status.idle": "2022-07-24T03:15:41.351024Z",
     "shell.execute_reply": "2022-07-24T03:15:41.350583Z"
    },
    "papermill": {
     "duration": 0.017936,
     "end_time": "2022-07-24T03:15:41.351122",
     "exception": false,
     "start_time": "2022-07-24T03:15:41.333186",
     "status": "completed"
    },
    "tags": []
   },
   "outputs": [
    {
     "data": {
      "text/markdown": [
       "- Finland Sells 1,889 Seized Bitcoins for $47 Million — Proceeds Going to Ukraine.  Finland has sold 1,889 bitcoins seized in narcotic cases for 46.5 million euros ($47.4 million). The country&#x2019;s finance minister previously said that the bitcoin sale proceeds will go to Ukraine for humanitarian aid and reconstruction as its war with Russia continues. Finland Sells Bitcoin Seized From Narcotic Offenses Finnish Customs (aka Tulli), the customs service [&#8230;] ... [| Skaityti daugiau](https://news.bitcoin.com/finland-sells-1889-seized-bitcoins-for-47-million-proceeds-going-to-ukraine/) "
      ],
      "text/plain": [
       "<IPython.core.display.Markdown object>"
      ]
     },
     "execution_count": 4,
     "metadata": {},
     "output_type": "execute_result"
    }
   ],
   "source": [
    "#hide_input\n",
    "#md('##### {}'.format(titleBTC)) \n",
    "md(\"- {}{} {}{} [| Skaityti daugiau]({}) \".format(btc['title'],'. ', btc['body'], ' ...', btc['url']))"
   ]
  },
  {
   "cell_type": "code",
   "execution_count": 5,
   "id": "organic-actress",
   "metadata": {
    "execution": {
     "iopub.execute_input": "2022-07-24T03:15:41.376235Z",
     "iopub.status.busy": "2022-07-24T03:15:41.375208Z",
     "iopub.status.idle": "2022-07-24T03:15:41.378144Z",
     "shell.execute_reply": "2022-07-24T03:15:41.378561Z"
    },
    "papermill": {
     "duration": 0.017926,
     "end_time": "2022-07-24T03:15:41.378673",
     "exception": false,
     "start_time": "2022-07-24T03:15:41.360747",
     "status": "completed"
    },
    "tags": []
   },
   "outputs": [
    {
     "data": {
      "text/markdown": [
       "- Coin Bureau on Two Major Pieces of Good News for XRP.  Earlier this week, the pseudonymous host of popular crypto market commentary show Coin Bureau shared his latest thoughts on XRP. According to a report by The Daily Hodl published on July 21, here is what the Coin Bureau had to say about XRP in YouTube video released on July 18: “A couple of other stories […] ... [| Skaityti daugiau](https://www.cryptoglobe.com/latest/2022/07/coin-bureau-on-two-major-pieces-of-good-news-for-xrp/) "
      ],
      "text/plain": [
       "<IPython.core.display.Markdown object>"
      ]
     },
     "execution_count": 5,
     "metadata": {},
     "output_type": "execute_result"
    }
   ],
   "source": [
    "#hide_input\n",
    "#md('##### {}'.format(titleBTC)) \n",
    "md(\"- {}{} {}{} [| Skaityti daugiau]({}) \".format(xrp['title'],'. ', xrp['body'], ' ...', xrp['url']))"
   ]
  },
  {
   "cell_type": "code",
   "execution_count": 6,
   "id": "prompt-farmer",
   "metadata": {
    "execution": {
     "iopub.execute_input": "2022-07-24T03:15:41.402992Z",
     "iopub.status.busy": "2022-07-24T03:15:41.402414Z",
     "iopub.status.idle": "2022-07-24T03:15:41.407564Z",
     "shell.execute_reply": "2022-07-24T03:15:41.408006Z"
    },
    "papermill": {
     "duration": 0.019505,
     "end_time": "2022-07-24T03:15:41.408123",
     "exception": false,
     "start_time": "2022-07-24T03:15:41.388618",
     "status": "completed"
    },
    "tags": []
   },
   "outputs": [
    {
     "data": {
      "text/markdown": [
       "- Shiba Inu Flips Tron (TRX) As SHIB’s Metaverse Gathers Pace.  The upsurge in SHIB's market cap can be traced to recent bullish events... ... [| Skaityti daugiau](https://zycrypto.com/shiba-inu-flips-tron-trx-as-shibs-metaverse-gathers-pace/) "
      ],
      "text/plain": [
       "<IPython.core.display.Markdown object>"
      ]
     },
     "execution_count": 6,
     "metadata": {},
     "output_type": "execute_result"
    }
   ],
   "source": [
    "#hide_input\n",
    "#md('##### {}'.format(titleBTC)) \n",
    "md(\"- {}{} {}{} [| Skaityti daugiau]({}) \".format(trx['title'],'. ', trx['body'], ' ...', trx['url']))"
   ]
  },
  {
   "cell_type": "code",
   "execution_count": 7,
   "id": "illegal-greece",
   "metadata": {
    "execution": {
     "iopub.execute_input": "2022-07-24T03:15:41.436001Z",
     "iopub.status.busy": "2022-07-24T03:15:41.435371Z",
     "iopub.status.idle": "2022-07-24T03:15:41.437618Z",
     "shell.execute_reply": "2022-07-24T03:15:41.438043Z"
    },
    "papermill": {
     "duration": 0.019172,
     "end_time": "2022-07-24T03:15:41.438161",
     "exception": false,
     "start_time": "2022-07-24T03:15:41.418989",
     "status": "completed"
    },
    "tags": []
   },
   "outputs": [
    {
     "data": {
      "text/markdown": [
       "- Does Ethereum Have a Supply Cap?.  We often hear the argument that BTC is the ultimate hedge against inflation since its supply is capped at 21 million and halving every four years. This has led to a misperception that cryptocurrencies without a supply cap are inflationary, meaning their value declines over time. This begs the question, does Ethereum (ETH) have a […] ... [| Skaityti daugiau](https://www.cryptoglobe.com/latest/2022/07/ethereum-supply-cap/) "
      ],
      "text/plain": [
       "<IPython.core.display.Markdown object>"
      ]
     },
     "execution_count": 7,
     "metadata": {},
     "output_type": "execute_result"
    }
   ],
   "source": [
    "#hide_input\n",
    "#md('##### {}'.format(titleBTC)) \n",
    "md(\"- {}{} {}{} [| Skaityti daugiau]({}) \".format(eth['title'],'. ', eth['body'], ' ...', eth['url']))"
   ]
  },
  {
   "cell_type": "code",
   "execution_count": 8,
   "id": "sublime-lounge",
   "metadata": {
    "execution": {
     "iopub.execute_input": "2022-07-24T03:15:41.464084Z",
     "iopub.status.busy": "2022-07-24T03:15:41.463503Z",
     "iopub.status.idle": "2022-07-24T03:15:41.468760Z",
     "shell.execute_reply": "2022-07-24T03:15:41.469231Z"
    },
    "papermill": {
     "duration": 0.02058,
     "end_time": "2022-07-24T03:15:41.469351",
     "exception": false,
     "start_time": "2022-07-24T03:15:41.448771",
     "status": "completed"
    },
    "tags": []
   },
   "outputs": [
    {
     "data": {
      "text/markdown": [
       "- Cardano: $ADA Price Action, ‘First-Ever’ 3rd Gen NFT, Barcelona’s NFT Minting Party.  On Saturday (July 23), Cardano’s ADA token is trading around $0.5053, up 4.33% in the past 24-hour period, which makes it the highest percentage gainer among the top 30 cryptoassets. In fact, according to data from TradingView, on crypto exchange Coinbase, the $ADA price hit today’s intraday high of $0.5090 at 9:44 p.m. UTC. On […] ... [| Skaityti daugiau](https://www.cryptoglobe.com/latest/2022/07/cardano-ada-price-action-first-ever-3rd-gen-nft-barcelonas-nft-minting-party/) "
      ],
      "text/plain": [
       "<IPython.core.display.Markdown object>"
      ]
     },
     "execution_count": 8,
     "metadata": {},
     "output_type": "execute_result"
    }
   ],
   "source": [
    "#hide_input\n",
    "#md('##### {}'.format(titleBTC)) \n",
    "md(\"- {}{} {}{} [| Skaityti daugiau]({}) \".format(ada['title'],'. ', ada['body'], ' ...', ada['url']))"
   ]
  },
  {
   "cell_type": "code",
   "execution_count": 9,
   "id": "specified-ordering",
   "metadata": {
    "execution": {
     "iopub.execute_input": "2022-07-24T03:15:41.497211Z",
     "iopub.status.busy": "2022-07-24T03:15:41.496558Z",
     "iopub.status.idle": "2022-07-24T03:15:41.498703Z",
     "shell.execute_reply": "2022-07-24T03:15:41.499126Z"
    },
    "papermill": {
     "duration": 0.018534,
     "end_time": "2022-07-24T03:15:41.499240",
     "exception": false,
     "start_time": "2022-07-24T03:15:41.480706",
     "status": "completed"
    },
    "tags": []
   },
   "outputs": [
    {
     "data": {
      "text/markdown": [
       "- Coinbase Disputes SEC’s Allegation That the Exchange Lists 9 Crypto Securities.  Nasdaq-listed crypto exchange Coinbase has disputed the allegation by the U.S. Securities and Exchange Commission (SEC) that nine of the crypto assets traded on its platform are securities. The company&#x2019;s chief legal officer stressed: &#x201C;Coinbase does not list securities. End of story.&#x201D; Coinbase Insists It Does Not List Crypto Asset Securities The U.S. Securities and [&#8230;] ... [| Skaityti daugiau](https://news.bitcoin.com/coinbase-disputes-secs-allegation-that-the-exchange-lists-9-crypto-securities/) "
      ],
      "text/plain": [
       "<IPython.core.display.Markdown object>"
      ]
     },
     "execution_count": 9,
     "metadata": {},
     "output_type": "execute_result"
    }
   ],
   "source": [
    "#hide_input\n",
    "#md('##### {}'.format(titleBTC)) \n",
    "md(\"- {}{} {}{} [| Skaityti daugiau]({}) \".format(exchange['title'],'. ', exchange['body'], ' ...', exchange['url']))"
   ]
  },
  {
   "cell_type": "code",
   "execution_count": null,
   "id": "tender-livestock",
   "metadata": {
    "papermill": {
     "duration": 0.011193,
     "end_time": "2022-07-24T03:15:41.521762",
     "exception": false,
     "start_time": "2022-07-24T03:15:41.510569",
     "status": "completed"
    },
    "tags": []
   },
   "outputs": [],
   "source": []
  },
  {
   "cell_type": "code",
   "execution_count": null,
   "id": "appreciated-diamond",
   "metadata": {
    "papermill": {
     "duration": 0.011413,
     "end_time": "2022-07-24T03:15:41.544606",
     "exception": false,
     "start_time": "2022-07-24T03:15:41.533193",
     "status": "completed"
    },
    "tags": []
   },
   "outputs": [],
   "source": []
  },
  {
   "cell_type": "code",
   "execution_count": null,
   "id": "romance-sweden",
   "metadata": {
    "papermill": {
     "duration": 0.015365,
     "end_time": "2022-07-24T03:15:41.571178",
     "exception": false,
     "start_time": "2022-07-24T03:15:41.555813",
     "status": "completed"
    },
    "tags": []
   },
   "outputs": [],
   "source": []
  },
  {
   "cell_type": "code",
   "execution_count": null,
   "id": "dietary-statistics",
   "metadata": {
    "papermill": {
     "duration": 0.011126,
     "end_time": "2022-07-24T03:15:41.593476",
     "exception": false,
     "start_time": "2022-07-24T03:15:41.582350",
     "status": "completed"
    },
    "tags": []
   },
   "outputs": [],
   "source": []
  }
 ],
 "metadata": {
  "kernelspec": {
   "display_name": "Python 3",
   "language": "python",
   "name": "python3"
  },
  "language_info": {
   "codemirror_mode": {
    "name": "ipython",
    "version": 3
   },
   "file_extension": ".py",
   "mimetype": "text/x-python",
   "name": "python",
   "nbconvert_exporter": "python",
   "pygments_lexer": "ipython3",
   "version": "3.6.15"
  },
  "papermill": {
   "default_parameters": {},
   "duration": 18.380167,
   "end_time": "2022-07-24T03:15:42.022234",
   "environment_variables": {},
   "exception": null,
   "input_path": "Market-News.ipynb",
   "output_path": "Market-News.ipynb",
   "parameters": {},
   "start_time": "2022-07-24T03:15:23.642067",
   "version": "2.2.2"
  }
 },
 "nbformat": 4,
 "nbformat_minor": 5
}