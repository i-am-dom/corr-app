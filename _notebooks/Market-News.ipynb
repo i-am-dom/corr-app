{
 "cells": [
  {
   "cell_type": "markdown",
   "id": "short-greensboro",
   "metadata": {
    "papermill": {
     "duration": 0.012991,
     "end_time": "2021-10-20T02:05:38.888189",
     "exception": false,
     "start_time": "2021-10-20T02:05:38.875198",
     "status": "completed"
    },
    "tags": []
   },
   "source": [
    "# Kriptovaliutų naujienos"
   ]
  },
  {
   "cell_type": "code",
   "execution_count": 1,
   "id": "functioning-knowing",
   "metadata": {
    "execution": {
     "iopub.execute_input": "2021-10-20T02:05:38.917228Z",
     "iopub.status.busy": "2021-10-20T02:05:38.916653Z",
     "iopub.status.idle": "2021-10-20T02:05:40.137333Z",
     "shell.execute_reply": "2021-10-20T02:05:40.136744Z"
    },
    "papermill": {
     "duration": 1.23966,
     "end_time": "2021-10-20T02:05:40.137504",
     "exception": false,
     "start_time": "2021-10-20T02:05:38.897844",
     "status": "completed"
    },
    "tags": []
   },
   "outputs": [],
   "source": [
    "#hide_input\n",
    "import warnings\n",
    "warnings.filterwarnings('ignore')\n",
    "from scripts.read_data import read_api\n",
    "from scripts.read_data import read_news\n",
    "from scripts.read_data import read_covid\n",
    "import matplotlib.pyplot as plt \n",
    "from IPython.display import Markdown as md"
   ]
  },
  {
   "cell_type": "code",
   "execution_count": 2,
   "id": "shared-acceptance",
   "metadata": {
    "execution": {
     "iopub.execute_input": "2021-10-20T02:05:40.164077Z",
     "iopub.status.busy": "2021-10-20T02:05:40.163551Z",
     "iopub.status.idle": "2021-10-20T02:05:49.213317Z",
     "shell.execute_reply": "2021-10-20T02:05:49.212391Z"
    },
    "papermill": {
     "duration": 9.065763,
     "end_time": "2021-10-20T02:05:49.213459",
     "exception": false,
     "start_time": "2021-10-20T02:05:40.147696",
     "status": "completed"
    },
    "tags": []
   },
   "outputs": [],
   "source": [
    "#hide_input\n",
    "blockchain = read_news('blockchain') \n",
    "btc = read_news('btc') \n",
    "xrp = read_news('xrp') \n",
    "trx = read_news('trx') \n",
    "eth = read_news('eth')  \n",
    "ada = read_news('ada')\n",
    "exchange = read_news('exchange') "
   ]
  },
  {
   "cell_type": "code",
   "execution_count": 3,
   "id": "synthetic-notion",
   "metadata": {
    "execution": {
     "iopub.execute_input": "2021-10-20T02:05:49.239337Z",
     "iopub.status.busy": "2021-10-20T02:05:49.238754Z",
     "iopub.status.idle": "2021-10-20T02:05:49.242933Z",
     "shell.execute_reply": "2021-10-20T02:05:49.242524Z"
    },
    "papermill": {
     "duration": 0.02031,
     "end_time": "2021-10-20T02:05:49.243049",
     "exception": false,
     "start_time": "2021-10-20T02:05:49.222739",
     "status": "completed"
    },
    "tags": []
   },
   "outputs": [
    {
     "data": {
      "text/markdown": [
       "- Technical Indicator Suggests Bitcoin ($BTC) Is About to Undergo a Parabolic Rally.  A technical indicator using on-chain data from the bitcoin blockchain is suggesting that the flagship cryptocurrency may be about to undergo a parabolic rally, as BTC historically has surged after it got to its current level. As first spotted by Capriole Investments founder Charles Edward, bitcoin’s MVRV Z-score has moved up to the 3.0 mark, […] ... [| Skaityti daugiau](https://www.cryptoglobe.com/latest/2021/10/technical-indicator-suggests-bitcoin-btc-is-about-to-undergo-a-parabolic-rally/) "
      ],
      "text/plain": [
       "<IPython.core.display.Markdown object>"
      ]
     },
     "execution_count": 3,
     "metadata": {},
     "output_type": "execute_result"
    }
   ],
   "source": [
    "#hide_input\n",
    "#md('##### {}'.format(titleBTC)) \n",
    "md(\"- {}{} {}{} [| Skaityti daugiau]({}) \".format(blockchain['title'],'. ', blockchain['body'], ' ...', blockchain['url']))"
   ]
  },
  {
   "cell_type": "code",
   "execution_count": 4,
   "id": "aging-caution",
   "metadata": {
    "execution": {
     "iopub.execute_input": "2021-10-20T02:05:49.267209Z",
     "iopub.status.busy": "2021-10-20T02:05:49.266680Z",
     "iopub.status.idle": "2021-10-20T02:05:49.269606Z",
     "shell.execute_reply": "2021-10-20T02:05:49.269164Z"
    },
    "papermill": {
     "duration": 0.016986,
     "end_time": "2021-10-20T02:05:49.269721",
     "exception": false,
     "start_time": "2021-10-20T02:05:49.252735",
     "status": "completed"
    },
    "tags": []
   },
   "outputs": [
    {
     "data": {
      "text/markdown": [
       "- Bitcoin Gets Mariah Carey’s Voice, Gemini’s Campaign Empowers Women.  A new celebrity joins the Bitcoin enthusiasm. This time around, Maria Carey paired up with Gemini, the leading cryptocurrency platform funded by Tyler and Cameron Winklevoss, on a new campaign that aims to use her influence on women around the world to encourage their learning about the possibilities of crypto investment. Related Reading &#124; Gemini [&#8230;] ... [| Skaityti daugiau](https://bitcoinist.com/bitcoin-gets-mariah-careys-attention-geminis-campaign-empowers-women/?utm_source=rss&utm_medium=rss&utm_campaign=bitcoin-gets-mariah-careys-attention-geminis-campaign-empowers-women) "
      ],
      "text/plain": [
       "<IPython.core.display.Markdown object>"
      ]
     },
     "execution_count": 4,
     "metadata": {},
     "output_type": "execute_result"
    }
   ],
   "source": [
    "#hide_input\n",
    "#md('##### {}'.format(titleBTC)) \n",
    "md(\"- {}{} {}{} [| Skaityti daugiau]({}) \".format(btc['title'],'. ', btc['body'], ' ...', btc['url']))"
   ]
  },
  {
   "cell_type": "code",
   "execution_count": 5,
   "id": "organic-actress",
   "metadata": {
    "execution": {
     "iopub.execute_input": "2021-10-20T02:05:49.293548Z",
     "iopub.status.busy": "2021-10-20T02:05:49.292421Z",
     "iopub.status.idle": "2021-10-20T02:05:49.296372Z",
     "shell.execute_reply": "2021-10-20T02:05:49.295960Z"
    },
    "papermill": {
     "duration": 0.017228,
     "end_time": "2021-10-20T02:05:49.296483",
     "exception": false,
     "start_time": "2021-10-20T02:05:49.279255",
     "status": "completed"
    },
    "tags": []
   },
   "outputs": [
    {
     "data": {
      "text/markdown": [
       "- XRP Lawsuit: Ripple says discovery deadline extension would be ‘severely prejudicial’.  The lawsuit filed by the United States Securities and Exchange Commission (SEC), against blockchain company, Ripple Labs for selling unregistered securities is inching closer to being a year old while showing no signs of settling soon. Even as the SEC is trying to delay deadlines fixed earlier by the court, Ripple is putting in similar [&#8230;] ... [| Skaityti daugiau](https://ambcrypto.com/xrp-lawsuit-ripple-says-discovery-deadline-extension-would-be-severely-prejudicial-to-its-business/) "
      ],
      "text/plain": [
       "<IPython.core.display.Markdown object>"
      ]
     },
     "execution_count": 5,
     "metadata": {},
     "output_type": "execute_result"
    }
   ],
   "source": [
    "#hide_input\n",
    "#md('##### {}'.format(titleBTC)) \n",
    "md(\"- {}{} {}{} [| Skaityti daugiau]({}) \".format(xrp['title'],'. ', xrp['body'], ' ...', xrp['url']))"
   ]
  },
  {
   "cell_type": "code",
   "execution_count": 6,
   "id": "prompt-farmer",
   "metadata": {
    "execution": {
     "iopub.execute_input": "2021-10-20T02:05:49.320833Z",
     "iopub.status.busy": "2021-10-20T02:05:49.319734Z",
     "iopub.status.idle": "2021-10-20T02:05:49.324005Z",
     "shell.execute_reply": "2021-10-20T02:05:49.323601Z"
    },
    "papermill": {
     "duration": 0.017734,
     "end_time": "2021-10-20T02:05:49.324114",
     "exception": false,
     "start_time": "2021-10-20T02:05:49.306380",
     "status": "completed"
    },
    "tags": []
   },
   "outputs": [
    {
     "data": {
      "text/markdown": [
       "- Tron (TRX) Consolidation Indicates Decreased Volumetric Action!.  TRON currently holds the 28th position in terms of market cap with a combined value of $6.76 billion and above 71 billion coins in circulating supply. Unlike other cryptocurrencies, TRON is focused on the content sharing and entertainment industry and intends to rule the content creation domain, starting with the gaming industry. It allows creators &#8230; ... [| Skaityti daugiau](https://www.cryptonewsz.com/tron-consolidation-indicates-decreased-volumetric-action/) "
      ],
      "text/plain": [
       "<IPython.core.display.Markdown object>"
      ]
     },
     "execution_count": 6,
     "metadata": {},
     "output_type": "execute_result"
    }
   ],
   "source": [
    "#hide_input\n",
    "#md('##### {}'.format(titleBTC)) \n",
    "md(\"- {}{} {}{} [| Skaityti daugiau]({}) \".format(trx['title'],'. ', trx['body'], ' ...', trx['url']))"
   ]
  },
  {
   "cell_type": "code",
   "execution_count": 7,
   "id": "illegal-greece",
   "metadata": {
    "execution": {
     "iopub.execute_input": "2021-10-20T02:05:49.349530Z",
     "iopub.status.busy": "2021-10-20T02:05:49.348894Z",
     "iopub.status.idle": "2021-10-20T02:05:49.351346Z",
     "shell.execute_reply": "2021-10-20T02:05:49.351727Z"
    },
    "papermill": {
     "duration": 0.017337,
     "end_time": "2021-10-20T02:05:49.351853",
     "exception": false,
     "start_time": "2021-10-20T02:05:49.334516",
     "status": "completed"
    },
    "tags": []
   },
   "outputs": [
    {
     "data": {
      "text/markdown": [
       "- Why Grayscale’s CEO Believes The SEC Will Greenlight An Ethereum ETF.  Grayscale CEO Michael Sonnenshein has said the SEC will now be more inclined to approve an Ethereum ETF. The United States saw the first approved Bitcoin ETF last week. It marked the end of an eight-year-long since the first bitcoin ETF was filed. ProShares saw the approval of its Bitcoin Futures ETF on Monday, October [&#8230;] ... [| Skaityti daugiau](https://bitcoinist.com/why-grayscales-ceo-believes-the-sec-will-greenlight-an-ethereum-etf/?utm_source=rss&utm_medium=rss&utm_campaign=why-grayscales-ceo-believes-the-sec-will-greenlight-an-ethereum-etf) "
      ],
      "text/plain": [
       "<IPython.core.display.Markdown object>"
      ]
     },
     "execution_count": 7,
     "metadata": {},
     "output_type": "execute_result"
    }
   ],
   "source": [
    "#hide_input\n",
    "#md('##### {}'.format(titleBTC)) \n",
    "md(\"- {}{} {}{} [| Skaityti daugiau]({}) \".format(eth['title'],'. ', eth['body'], ' ...', eth['url']))"
   ]
  },
  {
   "cell_type": "code",
   "execution_count": 8,
   "id": "sublime-lounge",
   "metadata": {
    "execution": {
     "iopub.execute_input": "2021-10-20T02:05:49.377428Z",
     "iopub.status.busy": "2021-10-20T02:05:49.376807Z",
     "iopub.status.idle": "2021-10-20T02:05:49.379873Z",
     "shell.execute_reply": "2021-10-20T02:05:49.379462Z"
    },
    "papermill": {
     "duration": 0.017563,
     "end_time": "2021-10-20T02:05:49.379983",
     "exception": false,
     "start_time": "2021-10-20T02:05:49.362420",
     "status": "completed"
    },
    "tags": []
   },
   "outputs": [
    {
     "data": {
      "text/markdown": [
       "- Why it is imperative for Cardano to gather strength right now.  Cardano was approaching the next higher low within a symmetrical triangle and was dangerously close to a breakdown from the pattern. A move below $2.07 could spiral into some unwanted losses by opening a route to $1.83. This outlook was backed by the daily RSI, which was rejected at the mid-line after a fourth breakout [&#8230;] ... [| Skaityti daugiau](https://ambcrypto.com/why-it-is-imperative-for-cardano-to-gather-strength-right-now/) "
      ],
      "text/plain": [
       "<IPython.core.display.Markdown object>"
      ]
     },
     "execution_count": 8,
     "metadata": {},
     "output_type": "execute_result"
    }
   ],
   "source": [
    "#hide_input\n",
    "#md('##### {}'.format(titleBTC)) \n",
    "md(\"- {}{} {}{} [| Skaityti daugiau]({}) \".format(ada['title'],'. ', ada['body'], ' ...', ada['url']))"
   ]
  },
  {
   "cell_type": "code",
   "execution_count": 9,
   "id": "specified-ordering",
   "metadata": {
    "execution": {
     "iopub.execute_input": "2021-10-20T02:05:49.407022Z",
     "iopub.status.busy": "2021-10-20T02:05:49.406487Z",
     "iopub.status.idle": "2021-10-20T02:05:49.409283Z",
     "shell.execute_reply": "2021-10-20T02:05:49.409690Z"
    },
    "papermill": {
     "duration": 0.018947,
     "end_time": "2021-10-20T02:05:49.409821",
     "exception": false,
     "start_time": "2021-10-20T02:05:49.390874",
     "status": "completed"
    },
    "tags": []
   },
   "outputs": [
    {
     "data": {
      "text/markdown": [
       "- Gary Gensler Explains Why SEC Approves a Bitcoin Futures ETF.  SEC Chairman Gary Gensler has shared why the U.S. Securities and Exchange Commission (SEC) decided to approve a bitcoin futures exchange-traded fund (ETF) to trade on the NYSE. Meanwhile, the Commission has not approved a spot bitcoin ETF. Why SEC Approves Bitcoin Futures ETF As the first futures-based bitcoin exchange-traded fund (ETF) in the U.S. [&#8230;] ... [| Skaityti daugiau](https://news.bitcoin.com/gary-gensler-explains-why-sec-approves-bitcoin-futures-etf/) "
      ],
      "text/plain": [
       "<IPython.core.display.Markdown object>"
      ]
     },
     "execution_count": 9,
     "metadata": {},
     "output_type": "execute_result"
    }
   ],
   "source": [
    "#hide_input\n",
    "#md('##### {}'.format(titleBTC)) \n",
    "md(\"- {}{} {}{} [| Skaityti daugiau]({}) \".format(exchange['title'],'. ', exchange['body'], ' ...', exchange['url']))"
   ]
  },
  {
   "cell_type": "code",
   "execution_count": null,
   "id": "tender-livestock",
   "metadata": {
    "papermill": {
     "duration": 0.011107,
     "end_time": "2021-10-20T02:05:49.432077",
     "exception": false,
     "start_time": "2021-10-20T02:05:49.420970",
     "status": "completed"
    },
    "tags": []
   },
   "outputs": [],
   "source": []
  },
  {
   "cell_type": "code",
   "execution_count": null,
   "id": "appreciated-diamond",
   "metadata": {
    "papermill": {
     "duration": 0.011212,
     "end_time": "2021-10-20T02:05:49.454613",
     "exception": false,
     "start_time": "2021-10-20T02:05:49.443401",
     "status": "completed"
    },
    "tags": []
   },
   "outputs": [],
   "source": []
  },
  {
   "cell_type": "code",
   "execution_count": null,
   "id": "romance-sweden",
   "metadata": {
    "papermill": {
     "duration": 0.011052,
     "end_time": "2021-10-20T02:05:49.476850",
     "exception": false,
     "start_time": "2021-10-20T02:05:49.465798",
     "status": "completed"
    },
    "tags": []
   },
   "outputs": [],
   "source": []
  },
  {
   "cell_type": "code",
   "execution_count": null,
   "id": "dietary-statistics",
   "metadata": {
    "papermill": {
     "duration": 0.011022,
     "end_time": "2021-10-20T02:05:49.498971",
     "exception": false,
     "start_time": "2021-10-20T02:05:49.487949",
     "status": "completed"
    },
    "tags": []
   },
   "outputs": [],
   "source": []
  }
 ],
 "metadata": {
  "kernelspec": {
   "display_name": "Python 3",
   "language": "python",
   "name": "python3"
  },
  "language_info": {
   "codemirror_mode": {
    "name": "ipython",
    "version": 3
   },
   "file_extension": ".py",
   "mimetype": "text/x-python",
   "name": "python",
   "nbconvert_exporter": "python",
   "pygments_lexer": "ipython3",
   "version": "3.6.15"
  },
  "papermill": {
   "default_parameters": {},
   "duration": 12.18724,
   "end_time": "2021-10-20T02:05:50.018780",
   "environment_variables": {},
   "exception": null,
   "input_path": "Market-News.ipynb",
   "output_path": "Market-News.ipynb",
   "parameters": {},
   "start_time": "2021-10-20T02:05:37.831540",
   "version": "2.2.2"
  }
 },
 "nbformat": 4,
 "nbformat_minor": 5
}