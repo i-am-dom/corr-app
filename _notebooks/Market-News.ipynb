{
 "cells": [
  {
   "cell_type": "markdown",
   "id": "short-greensboro",
   "metadata": {
    "papermill": {
     "duration": 0.013898,
     "end_time": "2022-01-29T01:54:07.983337",
     "exception": false,
     "start_time": "2022-01-29T01:54:07.969439",
     "status": "completed"
    },
    "tags": []
   },
   "source": [
    "# Kriptovaliutų naujienos"
   ]
  },
  {
   "cell_type": "code",
   "execution_count": 1,
   "id": "functioning-knowing",
   "metadata": {
    "execution": {
     "iopub.execute_input": "2022-01-29T01:54:08.013398Z",
     "iopub.status.busy": "2022-01-29T01:54:08.012795Z",
     "iopub.status.idle": "2022-01-29T01:54:09.369847Z",
     "shell.execute_reply": "2022-01-29T01:54:09.370288Z"
    },
    "papermill": {
     "duration": 1.376916,
     "end_time": "2022-01-29T01:54:09.370476",
     "exception": false,
     "start_time": "2022-01-29T01:54:07.993560",
     "status": "completed"
    },
    "tags": []
   },
   "outputs": [],
   "source": [
    "#hide_input\n",
    "import warnings\n",
    "warnings.filterwarnings('ignore')\n",
    "from scripts.read_data import read_api\n",
    "from scripts.read_data import read_news\n",
    "from scripts.read_data import read_covid\n",
    "import matplotlib.pyplot as plt \n",
    "from IPython.display import Markdown as md"
   ]
  },
  {
   "cell_type": "code",
   "execution_count": 2,
   "id": "shared-acceptance",
   "metadata": {
    "execution": {
     "iopub.execute_input": "2022-01-29T01:54:09.401103Z",
     "iopub.status.busy": "2022-01-29T01:54:09.400529Z",
     "iopub.status.idle": "2022-01-29T01:54:18.489925Z",
     "shell.execute_reply": "2022-01-29T01:54:18.490411Z"
    },
    "papermill": {
     "duration": 9.108603,
     "end_time": "2022-01-29T01:54:18.490589",
     "exception": false,
     "start_time": "2022-01-29T01:54:09.381986",
     "status": "completed"
    },
    "tags": []
   },
   "outputs": [],
   "source": [
    "#hide_input\n",
    "blockchain = read_news('blockchain') \n",
    "btc = read_news('btc') \n",
    "xrp = read_news('xrp') \n",
    "trx = read_news('trx') \n",
    "eth = read_news('eth')  \n",
    "ada = read_news('ada')\n",
    "exchange = read_news('exchange') "
   ]
  },
  {
   "cell_type": "code",
   "execution_count": 3,
   "id": "synthetic-notion",
   "metadata": {
    "execution": {
     "iopub.execute_input": "2022-01-29T01:54:18.516388Z",
     "iopub.status.busy": "2022-01-29T01:54:18.515841Z",
     "iopub.status.idle": "2022-01-29T01:54:18.521459Z",
     "shell.execute_reply": "2022-01-29T01:54:18.521000Z"
    },
    "papermill": {
     "duration": 0.021288,
     "end_time": "2022-01-29T01:54:18.521584",
     "exception": false,
     "start_time": "2022-01-29T01:54:18.500296",
     "status": "completed"
    },
    "tags": []
   },
   "outputs": [
    {
     "data": {
      "text/markdown": [
       "- $ADA: Number of Cardano-Based Smart Contracts Surpasses 1,000 as TVL Grows.  The total number of smart contracts on the Cardano ($ADA) network has surpassed 1,000 for the first time as the blockchain’s decentralized finance (DeFi) space grows steadily with its total value locked well above $70 million. According to Cardano blockchain insights shared on Google’s Data Studio, there are over 1,000 Plutus-based smart contracts on Cardano […] ... [| Skaityti daugiau](https://www.cryptoglobe.com/latest/2022/01/ada-number-of-cardano-based-smart-contracts-surpasses-1000-as-tvl-grows/) "
      ],
      "text/plain": [
       "<IPython.core.display.Markdown object>"
      ]
     },
     "execution_count": 3,
     "metadata": {},
     "output_type": "execute_result"
    }
   ],
   "source": [
    "#hide_input\n",
    "#md('##### {}'.format(titleBTC)) \n",
    "md(\"- {}{} {}{} [| Skaityti daugiau]({}) \".format(blockchain['title'],'. ', blockchain['body'], ' ...', blockchain['url']))"
   ]
  },
  {
   "cell_type": "code",
   "execution_count": 4,
   "id": "aging-caution",
   "metadata": {
    "execution": {
     "iopub.execute_input": "2022-01-29T01:54:18.547672Z",
     "iopub.status.busy": "2022-01-29T01:54:18.547050Z",
     "iopub.status.idle": "2022-01-29T01:54:18.549365Z",
     "shell.execute_reply": "2022-01-29T01:54:18.549836Z"
    },
    "papermill": {
     "duration": 0.018761,
     "end_time": "2022-01-29T01:54:18.549988",
     "exception": false,
     "start_time": "2022-01-29T01:54:18.531227",
     "status": "completed"
    },
    "tags": []
   },
   "outputs": [
    {
     "data": {
      "text/markdown": [
       "- Bitcoin price analysis: BTC back above $37.5K, $40K next?.  Bitcoin price analysis for Jan 29, 2022, shows that the world&#8217;s biggest cryptocurrency has reclaimed the previous support of $37.5K. On the other hand, as per our BTC price analysis of Jan 28, BTC had already reclaimed $36K. This means that the possible way to go now is either $40K or back to $35K. The data from CoinMarketCap [&#8230;]The post Bitcoin price analysis: BTC back above $37.5K, $40K next? appeared first on Blockchain, Crypto and Stock News. ... [| Skaityti daugiau](https://thecoinrise.com/bitcoin-price-analysis-btc-back-above-37-5k-40k-next/) "
      ],
      "text/plain": [
       "<IPython.core.display.Markdown object>"
      ]
     },
     "execution_count": 4,
     "metadata": {},
     "output_type": "execute_result"
    }
   ],
   "source": [
    "#hide_input\n",
    "#md('##### {}'.format(titleBTC)) \n",
    "md(\"- {}{} {}{} [| Skaityti daugiau]({}) \".format(btc['title'],'. ', btc['body'], ' ...', btc['url']))"
   ]
  },
  {
   "cell_type": "code",
   "execution_count": 5,
   "id": "organic-actress",
   "metadata": {
    "execution": {
     "iopub.execute_input": "2022-01-29T01:54:18.573018Z",
     "iopub.status.busy": "2022-01-29T01:54:18.572492Z",
     "iopub.status.idle": "2022-01-29T01:54:18.577749Z",
     "shell.execute_reply": "2022-01-29T01:54:18.578185Z"
    },
    "papermill": {
     "duration": 0.01817,
     "end_time": "2022-01-29T01:54:18.578324",
     "exception": false,
     "start_time": "2022-01-29T01:54:18.560154",
     "status": "completed"
    },
    "tags": []
   },
   "outputs": [
    {
     "data": {
      "text/markdown": [
       "- Ripple Competitor Announces Plans To Roll Out Smart Contracts in 2022.  Ripple competitor Stellar (XLM) is announcing plans to roll out smart contracts later this year. Stellar Development Foundation (SDF) ecosystem head Justin Rice says smart contracts will enable a new suite of products and services on Stellar. &#8220;There&#8217;s a lot of work to be done to get there, but at SDF we&#8217;re committed to researching [&#8230;]The post Ripple Competitor Announces Plans To Roll Out Smart Contracts in 2022 appeared first on The Daily Hodl. ... [| Skaityti daugiau](https://dailyhodl.com/2022/01/28/ripple-competitor-announces-plans-to-roll-out-smart-contracts-in-2022/) "
      ],
      "text/plain": [
       "<IPython.core.display.Markdown object>"
      ]
     },
     "execution_count": 5,
     "metadata": {},
     "output_type": "execute_result"
    }
   ],
   "source": [
    "#hide_input\n",
    "#md('##### {}'.format(titleBTC)) \n",
    "md(\"- {}{} {}{} [| Skaityti daugiau]({}) \".format(xrp['title'],'. ', xrp['body'], ' ...', xrp['url']))"
   ]
  },
  {
   "cell_type": "code",
   "execution_count": 6,
   "id": "prompt-farmer",
   "metadata": {
    "execution": {
     "iopub.execute_input": "2022-01-29T01:54:18.604564Z",
     "iopub.status.busy": "2022-01-29T01:54:18.603990Z",
     "iopub.status.idle": "2022-01-29T01:54:18.606648Z",
     "shell.execute_reply": "2022-01-29T01:54:18.607042Z"
    },
    "papermill": {
     "duration": 0.018694,
     "end_time": "2022-01-29T01:54:18.607184",
     "exception": false,
     "start_time": "2022-01-29T01:54:18.588490",
     "status": "completed"
    },
    "tags": []
   },
   "outputs": [
    {
     "data": {
      "text/markdown": [
       "- Cosmos, Tron, NEAR Price Analysis: 27 January.  With the market flashing relatively low volatility over the past two days, Tron and NEAR saw bearish patterns while flashing weak near-term technical indications. On the other hand, Cosmos broke down from its flag and pole. Now, the $32.5-makr would be crucial for the bulls to defend. Cosmos (ATOM) The sellers ensured the $43-mark resistance [&#8230;] ... [| Skaityti daugiau](https://ambcrypto.com/cosmos-tron-near-price-analysis-27-january/) "
      ],
      "text/plain": [
       "<IPython.core.display.Markdown object>"
      ]
     },
     "execution_count": 6,
     "metadata": {},
     "output_type": "execute_result"
    }
   ],
   "source": [
    "#hide_input\n",
    "#md('##### {}'.format(titleBTC)) \n",
    "md(\"- {}{} {}{} [| Skaityti daugiau]({}) \".format(trx['title'],'. ', trx['body'], ' ...', trx['url']))"
   ]
  },
  {
   "cell_type": "code",
   "execution_count": 7,
   "id": "illegal-greece",
   "metadata": {
    "execution": {
     "iopub.execute_input": "2022-01-29T01:54:18.634037Z",
     "iopub.status.busy": "2022-01-29T01:54:18.633475Z",
     "iopub.status.idle": "2022-01-29T01:54:18.636428Z",
     "shell.execute_reply": "2022-01-29T01:54:18.635985Z"
    },
    "papermill": {
     "duration": 0.018537,
     "end_time": "2022-01-29T01:54:18.636540",
     "exception": false,
     "start_time": "2022-01-29T01:54:18.618003",
     "status": "completed"
    },
    "tags": []
   },
   "outputs": [
    {
     "data": {
      "text/markdown": [
       "- OpenSea Refunds $1.8M in Ethereum to Users Who Lost NFTs From 'Inactive Listing' Exploit.  Fixing this issue is the NFT marketplace’s “#1 priority,” says co-founder Alex Atalla. ... [| Skaityti daugiau](https://decrypt.co/91513/opensea-refunds-ethereum-users-lost-nfts-inactive-listing-exploit) "
      ],
      "text/plain": [
       "<IPython.core.display.Markdown object>"
      ]
     },
     "execution_count": 7,
     "metadata": {},
     "output_type": "execute_result"
    }
   ],
   "source": [
    "#hide_input\n",
    "#md('##### {}'.format(titleBTC)) \n",
    "md(\"- {}{} {}{} [| Skaityti daugiau]({}) \".format(eth['title'],'. ', eth['body'], ' ...', eth['url']))"
   ]
  },
  {
   "cell_type": "code",
   "execution_count": 8,
   "id": "sublime-lounge",
   "metadata": {
    "execution": {
     "iopub.execute_input": "2022-01-29T01:54:18.663939Z",
     "iopub.status.busy": "2022-01-29T01:54:18.663324Z",
     "iopub.status.idle": "2022-01-29T01:54:18.668891Z",
     "shell.execute_reply": "2022-01-29T01:54:18.668475Z"
    },
    "papermill": {
     "duration": 0.021634,
     "end_time": "2022-01-29T01:54:18.669010",
     "exception": false,
     "start_time": "2022-01-29T01:54:18.647376",
     "status": "completed"
    },
    "tags": []
   },
   "outputs": [
    {
     "data": {
      "text/markdown": [
       "- $ADA: Number of Cardano-Based Smart Contracts Surpasses 1,000 as TVL Grows.  The total number of smart contracts on the Cardano ($ADA) network has surpassed 1,000 for the first time as the blockchain’s decentralized finance (DeFi) space grows steadily with its total value locked well above $70 million. According to Cardano blockchain insights shared on Google’s Data Studio, there are over 1,000 Plutus-based smart contracts on Cardano […] ... [| Skaityti daugiau](https://www.cryptoglobe.com/latest/2022/01/ada-number-of-cardano-based-smart-contracts-surpasses-1000-as-tvl-grows/) "
      ],
      "text/plain": [
       "<IPython.core.display.Markdown object>"
      ]
     },
     "execution_count": 8,
     "metadata": {},
     "output_type": "execute_result"
    }
   ],
   "source": [
    "#hide_input\n",
    "#md('##### {}'.format(titleBTC)) \n",
    "md(\"- {}{} {}{} [| Skaityti daugiau]({}) \".format(ada['title'],'. ', ada['body'], ' ...', ada['url']))"
   ]
  },
  {
   "cell_type": "code",
   "execution_count": 9,
   "id": "specified-ordering",
   "metadata": {
    "execution": {
     "iopub.execute_input": "2022-01-29T01:54:18.697525Z",
     "iopub.status.busy": "2022-01-29T01:54:18.696938Z",
     "iopub.status.idle": "2022-01-29T01:54:18.698865Z",
     "shell.execute_reply": "2022-01-29T01:54:18.699261Z"
    },
    "papermill": {
     "duration": 0.019254,
     "end_time": "2022-01-29T01:54:18.699394",
     "exception": false,
     "start_time": "2022-01-29T01:54:18.680140",
     "status": "completed"
    },
    "tags": []
   },
   "outputs": [
    {
     "data": {
      "text/markdown": [
       "- Low-Cap DeFi Altcoin Surges After Crypto.com Retail Listing.  A low-cap decentralized finance (DeFi) altcoin has bucked the overall crypto market trend and surged in price this week after receiving expanded retail support from a popular exchange. The Singapore-based Crypto.com listed Tectonic (TONIC), the 1275th-ranked crypto asset by market cap, on its mobile app Sunday. Tectonic bills itself as &#8220;a cross-chain money market for [&#8230;]The post Low-Cap DeFi Altcoin Surges After Crypto.com Retail Listing appeared first on The Daily Hodl. ... [| Skaityti daugiau](https://dailyhodl.com/2022/01/28/low-cap-defi-altcoin-surges-after-crypto-com-retail-listing/) "
      ],
      "text/plain": [
       "<IPython.core.display.Markdown object>"
      ]
     },
     "execution_count": 9,
     "metadata": {},
     "output_type": "execute_result"
    }
   ],
   "source": [
    "#hide_input\n",
    "#md('##### {}'.format(titleBTC)) \n",
    "md(\"- {}{} {}{} [| Skaityti daugiau]({}) \".format(exchange['title'],'. ', exchange['body'], ' ...', exchange['url']))"
   ]
  },
  {
   "cell_type": "code",
   "execution_count": null,
   "id": "tender-livestock",
   "metadata": {
    "papermill": {
     "duration": 0.011419,
     "end_time": "2022-01-29T01:54:18.722134",
     "exception": false,
     "start_time": "2022-01-29T01:54:18.710715",
     "status": "completed"
    },
    "tags": []
   },
   "outputs": [],
   "source": []
  },
  {
   "cell_type": "code",
   "execution_count": null,
   "id": "appreciated-diamond",
   "metadata": {
    "papermill": {
     "duration": 0.011381,
     "end_time": "2022-01-29T01:54:18.745104",
     "exception": false,
     "start_time": "2022-01-29T01:54:18.733723",
     "status": "completed"
    },
    "tags": []
   },
   "outputs": [],
   "source": []
  },
  {
   "cell_type": "code",
   "execution_count": null,
   "id": "romance-sweden",
   "metadata": {
    "papermill": {
     "duration": 0.011358,
     "end_time": "2022-01-29T01:54:18.767985",
     "exception": false,
     "start_time": "2022-01-29T01:54:18.756627",
     "status": "completed"
    },
    "tags": []
   },
   "outputs": [],
   "source": []
  },
  {
   "cell_type": "code",
   "execution_count": null,
   "id": "dietary-statistics",
   "metadata": {
    "papermill": {
     "duration": 0.011431,
     "end_time": "2022-01-29T01:54:18.790845",
     "exception": false,
     "start_time": "2022-01-29T01:54:18.779414",
     "status": "completed"
    },
    "tags": []
   },
   "outputs": [],
   "source": []
  }
 ],
 "metadata": {
  "kernelspec": {
   "display_name": "Python 3",
   "language": "python",
   "name": "python3"
  },
  "language_info": {
   "codemirror_mode": {
    "name": "ipython",
    "version": 3
   },
   "file_extension": ".py",
   "mimetype": "text/x-python",
   "name": "python",
   "nbconvert_exporter": "python",
   "pygments_lexer": "ipython3",
   "version": "3.6.15"
  },
  "papermill": {
   "default_parameters": {},
   "duration": 12.631272,
   "end_time": "2022-01-29T01:54:19.422695",
   "environment_variables": {},
   "exception": null,
   "input_path": "Market-News.ipynb",
   "output_path": "Market-News.ipynb",
   "parameters": {},
   "start_time": "2022-01-29T01:54:06.791423",
   "version": "2.2.2"
  }
 },
 "nbformat": 4,
 "nbformat_minor": 5
}