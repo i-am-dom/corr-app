{
 "cells": [
  {
   "cell_type": "markdown",
   "id": "short-greensboro",
   "metadata": {
    "papermill": {
     "duration": 0.01282,
     "end_time": "2022-07-22T03:21:36.583930",
     "exception": false,
     "start_time": "2022-07-22T03:21:36.571110",
     "status": "completed"
    },
    "tags": []
   },
   "source": [
    "# Kriptovaliutų naujienos"
   ]
  },
  {
   "cell_type": "code",
   "execution_count": 1,
   "id": "functioning-knowing",
   "metadata": {
    "execution": {
     "iopub.execute_input": "2022-07-22T03:21:36.613399Z",
     "iopub.status.busy": "2022-07-22T03:21:36.612811Z",
     "iopub.status.idle": "2022-07-22T03:21:37.779906Z",
     "shell.execute_reply": "2022-07-22T03:21:37.778925Z"
    },
    "papermill": {
     "duration": 1.186271,
     "end_time": "2022-07-22T03:21:37.780048",
     "exception": false,
     "start_time": "2022-07-22T03:21:36.593777",
     "status": "completed"
    },
    "tags": []
   },
   "outputs": [],
   "source": [
    "#hide_input\n",
    "import warnings\n",
    "warnings.filterwarnings('ignore')\n",
    "from scripts.read_data import read_api\n",
    "from scripts.read_data import read_news\n",
    "from scripts.read_data import read_covid\n",
    "import matplotlib.pyplot as plt \n",
    "from IPython.display import Markdown as md"
   ]
  },
  {
   "cell_type": "code",
   "execution_count": 2,
   "id": "shared-acceptance",
   "metadata": {
    "execution": {
     "iopub.execute_input": "2022-07-22T03:21:37.804065Z",
     "iopub.status.busy": "2022-07-22T03:21:37.803488Z",
     "iopub.status.idle": "2022-07-22T03:21:47.879376Z",
     "shell.execute_reply": "2022-07-22T03:21:47.878522Z"
    },
    "papermill": {
     "duration": 10.090021,
     "end_time": "2022-07-22T03:21:47.879498",
     "exception": false,
     "start_time": "2022-07-22T03:21:37.789477",
     "status": "completed"
    },
    "tags": []
   },
   "outputs": [],
   "source": [
    "#hide_input\n",
    "blockchain = read_news('blockchain') \n",
    "btc = read_news('btc') \n",
    "xrp = read_news('xrp') \n",
    "trx = read_news('trx') \n",
    "eth = read_news('eth')  \n",
    "ada = read_news('ada')\n",
    "exchange = read_news('exchange') "
   ]
  },
  {
   "cell_type": "code",
   "execution_count": 3,
   "id": "synthetic-notion",
   "metadata": {
    "execution": {
     "iopub.execute_input": "2022-07-22T03:21:47.905374Z",
     "iopub.status.busy": "2022-07-22T03:21:47.904299Z",
     "iopub.status.idle": "2022-07-22T03:21:47.907677Z",
     "shell.execute_reply": "2022-07-22T03:21:47.907241Z"
    },
    "papermill": {
     "duration": 0.01872,
     "end_time": "2022-07-22T03:21:47.907779",
     "exception": false,
     "start_time": "2022-07-22T03:21:47.889059",
     "status": "completed"
    },
    "tags": []
   },
   "outputs": [
    {
     "data": {
      "text/markdown": [
       "- Shiba Inu price action shows dried up trading volume: Buy or sell?.  Shiba Inu price analysis for July 22, 2022, comes on a sluggish note for the 2nd biggest meme coin in the crypto market as it seems that the trading volume for the token has dried up and the token surged by around 1.06% in the last 24 hours. It is imperative to note that the [&#8230;]The post Shiba Inu price action shows dried up trading volume: Buy or sell? appeared first on Blockchain, Crypto and Stock News. ... [| Skaityti daugiau](https://thecoinrise.com/shiba-inu-price-action-shows-dried-up-trading-volume-buy-or-sell/) "
      ],
      "text/plain": [
       "<IPython.core.display.Markdown object>"
      ]
     },
     "execution_count": 3,
     "metadata": {},
     "output_type": "execute_result"
    }
   ],
   "source": [
    "#hide_input\n",
    "#md('##### {}'.format(titleBTC)) \n",
    "md(\"- {}{} {}{} [| Skaityti daugiau]({}) \".format(blockchain['title'],'. ', blockchain['body'], ' ...', blockchain['url']))"
   ]
  },
  {
   "cell_type": "code",
   "execution_count": 4,
   "id": "aging-caution",
   "metadata": {
    "execution": {
     "iopub.execute_input": "2022-07-22T03:21:47.935058Z",
     "iopub.status.busy": "2022-07-22T03:21:47.934498Z",
     "iopub.status.idle": "2022-07-22T03:21:47.938091Z",
     "shell.execute_reply": "2022-07-22T03:21:47.937638Z"
    },
    "papermill": {
     "duration": 0.021039,
     "end_time": "2022-07-22T03:21:47.938189",
     "exception": false,
     "start_time": "2022-07-22T03:21:47.917150",
     "status": "completed"
    },
    "tags": []
   },
   "outputs": [
    {
     "data": {
      "text/markdown": [
       "- TA: Bitcoin Price Could Rally Again If It Stays Above This Key Support.  Bitcoin started a downside correction from the $24,000 resistance against the US Dollar. BTC is finding bids near $22,500 and might start a fresh increase. Bitcoin started a downside correction and traded below the $23,000 level. The price is now trading above the $22,000 level and testing the 100 hourly simple moving average. There was a break above a key bearish trend line with resistance near $22,750 on the hourly chart of the BTC/USD pair (data feed from Kraken). The pair might continue to rise if it stays above $22,500 and the 100 hourly SMA. Bitcoin Price Remains Supported Bitcoin price gained pace and spiked above the $24,000 resistance zone. However, the bears appeared near $24,250. A high was formed near $24,264 and the price started a downside correction. There was a move below the $24,000 and $23,500 levels. The price declined below the 38.2% Fib retracement level of the upward move from the $20,769 swing low to $24,264 high. Besides, there was a spike below the $23,000 level. Bitcoin found support near the $22,500 zone and the 100 hourly simple moving average. It started a decent upward move and climbed above $23,000. There was a break above a key bearish trend line with resistance near $22,750 on the hourly chart of the BTC/USD pair. On the upside, bitcoin price could face resistance near the $23,440 level. The next key resistance is near the $23,880 zone. Source: BTCUSD on TradingView.com A close above the $23,88... ... [| Skaityti daugiau](https://www.newsbtc.com/analysis/btc/bitcoin-price-could-rally-22500/) "
      ],
      "text/plain": [
       "<IPython.core.display.Markdown object>"
      ]
     },
     "execution_count": 4,
     "metadata": {},
     "output_type": "execute_result"
    }
   ],
   "source": [
    "#hide_input\n",
    "#md('##### {}'.format(titleBTC)) \n",
    "md(\"- {}{} {}{} [| Skaityti daugiau]({}) \".format(btc['title'],'. ', btc['body'], ' ...', btc['url']))"
   ]
  },
  {
   "cell_type": "code",
   "execution_count": 5,
   "id": "organic-actress",
   "metadata": {
    "execution": {
     "iopub.execute_input": "2022-07-22T03:21:47.962028Z",
     "iopub.status.busy": "2022-07-22T03:21:47.961437Z",
     "iopub.status.idle": "2022-07-22T03:21:47.964905Z",
     "shell.execute_reply": "2022-07-22T03:21:47.964453Z"
    },
    "papermill": {
     "duration": 0.017086,
     "end_time": "2022-07-22T03:21:47.965011",
     "exception": false,
     "start_time": "2022-07-22T03:21:47.947925",
     "status": "completed"
    },
    "tags": []
   },
   "outputs": [
    {
     "data": {
      "text/markdown": [
       "- XRP Trading Volume Hits Frenetic Levels As Ripple Continues To Gain Upper Hand In SEC Lawsuit.  XRP recorded unprecedented activity as trading volumes nearly hit 18 billion XRP in a single day. ... [| Skaityti daugiau](https://zycrypto.com/xrp-trading-volume-hits-frenetic-levels-as-ripple-continues-to-gain-upper-hand-in-sec-lawsuit/) "
      ],
      "text/plain": [
       "<IPython.core.display.Markdown object>"
      ]
     },
     "execution_count": 5,
     "metadata": {},
     "output_type": "execute_result"
    }
   ],
   "source": [
    "#hide_input\n",
    "#md('##### {}'.format(titleBTC)) \n",
    "md(\"- {}{} {}{} [| Skaityti daugiau]({}) \".format(xrp['title'],'. ', xrp['body'], ' ...', xrp['url']))"
   ]
  },
  {
   "cell_type": "code",
   "execution_count": 6,
   "id": "prompt-farmer",
   "metadata": {
    "execution": {
     "iopub.execute_input": "2022-07-22T03:21:47.989224Z",
     "iopub.status.busy": "2022-07-22T03:21:47.988585Z",
     "iopub.status.idle": "2022-07-22T03:21:47.992176Z",
     "shell.execute_reply": "2022-07-22T03:21:47.991747Z"
    },
    "papermill": {
     "duration": 0.017329,
     "end_time": "2022-07-22T03:21:47.992275",
     "exception": false,
     "start_time": "2022-07-22T03:21:47.974946",
     "status": "completed"
    },
    "tags": []
   },
   "outputs": [
    {
     "data": {
      "text/markdown": [
       "- Tesla Selling 75% of Its Bitcoin ($BTC) Is ‘Great News,’ Says Tron Founder Justin Sun.  Chinese entrepreneur Justin Sun, who founded TRON Foundation (which is behind the TRX token) has said that Tesla selling 75% of its Bitcoin ($BTC) holdings is actually “great news” for a number of reasons. In a tweet Sun shared with his over 3 million followers on the microblogging platform Twitter, TRON’s founder said that the market […] ... [| Skaityti daugiau](https://www.cryptoglobe.com/latest/2022/07/tesla-selling-75-of-its-bitcoin-btc-is-great-news-says-tron-founder-justin-sun/) "
      ],
      "text/plain": [
       "<IPython.core.display.Markdown object>"
      ]
     },
     "execution_count": 6,
     "metadata": {},
     "output_type": "execute_result"
    }
   ],
   "source": [
    "#hide_input\n",
    "#md('##### {}'.format(titleBTC)) \n",
    "md(\"- {}{} {}{} [| Skaityti daugiau]({}) \".format(trx['title'],'. ', trx['body'], ' ...', trx['url']))"
   ]
  },
  {
   "cell_type": "code",
   "execution_count": 7,
   "id": "illegal-greece",
   "metadata": {
    "execution": {
     "iopub.execute_input": "2022-07-22T03:21:48.016904Z",
     "iopub.status.busy": "2022-07-22T03:21:48.016116Z",
     "iopub.status.idle": "2022-07-22T03:21:48.019891Z",
     "shell.execute_reply": "2022-07-22T03:21:48.020353Z"
    },
    "papermill": {
     "duration": 0.017602,
     "end_time": "2022-07-22T03:21:48.020463",
     "exception": false,
     "start_time": "2022-07-22T03:21:48.002861",
     "status": "completed"
    },
    "tags": []
   },
   "outputs": [
    {
     "data": {
      "text/markdown": [
       "- Bitcoin Maximalism Is The Way Of The Peaceful Warrior.  Developing a tough mind and a tender heart is a strong foundation for Bitcoin Maximalists to become peaceful warriors on the path to hyperbitcoinization. ... [| Skaityti daugiau](https://bitcoinmagazine.com/culture/being-a-peaceful-bitcoin-maximalist-warrior) "
      ],
      "text/plain": [
       "<IPython.core.display.Markdown object>"
      ]
     },
     "execution_count": 7,
     "metadata": {},
     "output_type": "execute_result"
    }
   ],
   "source": [
    "#hide_input\n",
    "#md('##### {}'.format(titleBTC)) \n",
    "md(\"- {}{} {}{} [| Skaityti daugiau]({}) \".format(eth['title'],'. ', eth['body'], ' ...', eth['url']))"
   ]
  },
  {
   "cell_type": "code",
   "execution_count": 8,
   "id": "sublime-lounge",
   "metadata": {
    "execution": {
     "iopub.execute_input": "2022-07-22T03:21:48.046605Z",
     "iopub.status.busy": "2022-07-22T03:21:48.046047Z",
     "iopub.status.idle": "2022-07-22T03:21:48.049603Z",
     "shell.execute_reply": "2022-07-22T03:21:48.050132Z"
    },
    "papermill": {
     "duration": 0.018149,
     "end_time": "2022-07-22T03:21:48.050242",
     "exception": false,
     "start_time": "2022-07-22T03:21:48.032093",
     "status": "completed"
    },
    "tags": []
   },
   "outputs": [
    {
     "data": {
      "text/markdown": [
       "- Cardano price analysis: Bullish rally to push ADA past $0.6 as bulls accumulate.  Cardano price analysis shows that the market is in a consolidation phase. However, the uptrend could not be sustained, and the price started to correct lower. The correction was short-lived as bulls bought the dip and pushed the price higher again. The ADA/USD pair is trading at $0.459, and the bulls aim to move above $0.600. &#8230;  Cardano price analysis: Bullish rally to push ADA past $0.6 as bulls accumulate Read More &#187; ... [| Skaityti daugiau](https://www.cryptopolitan.com/cardano-price-analysis-2022-07-21/) "
      ],
      "text/plain": [
       "<IPython.core.display.Markdown object>"
      ]
     },
     "execution_count": 8,
     "metadata": {},
     "output_type": "execute_result"
    }
   ],
   "source": [
    "#hide_input\n",
    "#md('##### {}'.format(titleBTC)) \n",
    "md(\"- {}{} {}{} [| Skaityti daugiau]({}) \".format(ada['title'],'. ', ada['body'], ' ...', ada['url']))"
   ]
  },
  {
   "cell_type": "code",
   "execution_count": 9,
   "id": "specified-ordering",
   "metadata": {
    "execution": {
     "iopub.execute_input": "2022-07-22T03:21:48.076272Z",
     "iopub.status.busy": "2022-07-22T03:21:48.075718Z",
     "iopub.status.idle": "2022-07-22T03:21:48.078655Z",
     "shell.execute_reply": "2022-07-22T03:21:48.079188Z"
    },
    "papermill": {
     "duration": 0.018104,
     "end_time": "2022-07-22T03:21:48.079299",
     "exception": false,
     "start_time": "2022-07-22T03:21:48.061195",
     "status": "completed"
    },
    "tags": []
   },
   "outputs": [
    {
     "data": {
      "text/markdown": [
       "- Coinbase Confirms ‘No Financing Exposure’ to Bankrupt Crypto Firms Celsius, Voyager, Three Arrows Capital.  Crypto exchange Coinbase has confirmed that the company &#x201C;had no financing exposure&#x201D; to bankrupt firms, including Celsius Network, Voyager Digital, and Three Arrows Capital (3AC). &#x201C;The issues here were foreseeable and actually credit-specific, not crypto-specific in nature,&#x201D; Coinbase stressed. Coinbase: &#x2018;We Have Not Engaged in These Types of Risky Lending Practices&#x2019; The Nasdaq-listed cryptocurrency exchange [&#8230;] ... [| Skaityti daugiau](https://news.bitcoin.com/coinbase-confirms-no-financing-exposure-to-bankrupt-crypto-firms-celsius-voyager-three-arrows-capital/) "
      ],
      "text/plain": [
       "<IPython.core.display.Markdown object>"
      ]
     },
     "execution_count": 9,
     "metadata": {},
     "output_type": "execute_result"
    }
   ],
   "source": [
    "#hide_input\n",
    "#md('##### {}'.format(titleBTC)) \n",
    "md(\"- {}{} {}{} [| Skaityti daugiau]({}) \".format(exchange['title'],'. ', exchange['body'], ' ...', exchange['url']))"
   ]
  },
  {
   "cell_type": "code",
   "execution_count": null,
   "id": "tender-livestock",
   "metadata": {
    "papermill": {
     "duration": 0.011247,
     "end_time": "2022-07-22T03:21:48.101790",
     "exception": false,
     "start_time": "2022-07-22T03:21:48.090543",
     "status": "completed"
    },
    "tags": []
   },
   "outputs": [],
   "source": []
  },
  {
   "cell_type": "code",
   "execution_count": null,
   "id": "appreciated-diamond",
   "metadata": {
    "papermill": {
     "duration": 0.011242,
     "end_time": "2022-07-22T03:21:48.124441",
     "exception": false,
     "start_time": "2022-07-22T03:21:48.113199",
     "status": "completed"
    },
    "tags": []
   },
   "outputs": [],
   "source": []
  },
  {
   "cell_type": "code",
   "execution_count": null,
   "id": "romance-sweden",
   "metadata": {
    "papermill": {
     "duration": 0.011194,
     "end_time": "2022-07-22T03:21:48.147178",
     "exception": false,
     "start_time": "2022-07-22T03:21:48.135984",
     "status": "completed"
    },
    "tags": []
   },
   "outputs": [],
   "source": []
  },
  {
   "cell_type": "code",
   "execution_count": null,
   "id": "dietary-statistics",
   "metadata": {
    "papermill": {
     "duration": 0.011238,
     "end_time": "2022-07-22T03:21:48.169710",
     "exception": false,
     "start_time": "2022-07-22T03:21:48.158472",
     "status": "completed"
    },
    "tags": []
   },
   "outputs": [],
   "source": []
  }
 ],
 "metadata": {
  "kernelspec": {
   "display_name": "Python 3",
   "language": "python",
   "name": "python3"
  },
  "language_info": {
   "codemirror_mode": {
    "name": "ipython",
    "version": 3
   },
   "file_extension": ".py",
   "mimetype": "text/x-python",
   "name": "python",
   "nbconvert_exporter": "python",
   "pygments_lexer": "ipython3",
   "version": "3.6.15"
  },
  "papermill": {
   "default_parameters": {},
   "duration": 13.208948,
   "end_time": "2022-07-22T03:21:48.599900",
   "environment_variables": {},
   "exception": null,
   "input_path": "Market-News.ipynb",
   "output_path": "Market-News.ipynb",
   "parameters": {},
   "start_time": "2022-07-22T03:21:35.390952",
   "version": "2.2.2"
  }
 },
 "nbformat": 4,
 "nbformat_minor": 5
}