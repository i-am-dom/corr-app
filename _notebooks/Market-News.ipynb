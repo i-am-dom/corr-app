{
 "cells": [
  {
   "cell_type": "markdown",
   "id": "short-greensboro",
   "metadata": {
    "papermill": {
     "duration": 0.013444,
     "end_time": "2022-04-13T02:45:53.973798",
     "exception": false,
     "start_time": "2022-04-13T02:45:53.960354",
     "status": "completed"
    },
    "tags": []
   },
   "source": [
    "# Kriptovaliutų naujienos"
   ]
  },
  {
   "cell_type": "code",
   "execution_count": 1,
   "id": "functioning-knowing",
   "metadata": {
    "execution": {
     "iopub.execute_input": "2022-04-13T02:45:54.002780Z",
     "iopub.status.busy": "2022-04-13T02:45:54.002242Z",
     "iopub.status.idle": "2022-04-13T02:45:55.229594Z",
     "shell.execute_reply": "2022-04-13T02:45:55.230091Z"
    },
    "papermill": {
     "duration": 1.246825,
     "end_time": "2022-04-13T02:45:55.230273",
     "exception": false,
     "start_time": "2022-04-13T02:45:53.983448",
     "status": "completed"
    },
    "tags": []
   },
   "outputs": [],
   "source": [
    "#hide_input\n",
    "import warnings\n",
    "warnings.filterwarnings('ignore')\n",
    "from scripts.read_data import read_api\n",
    "from scripts.read_data import read_news\n",
    "from scripts.read_data import read_covid\n",
    "import matplotlib.pyplot as plt \n",
    "from IPython.display import Markdown as md"
   ]
  },
  {
   "cell_type": "code",
   "execution_count": 2,
   "id": "shared-acceptance",
   "metadata": {
    "execution": {
     "iopub.execute_input": "2022-04-13T02:45:55.254948Z",
     "iopub.status.busy": "2022-04-13T02:45:55.254423Z",
     "iopub.status.idle": "2022-04-13T02:46:04.829119Z",
     "shell.execute_reply": "2022-04-13T02:46:04.829603Z"
    },
    "papermill": {
     "duration": 9.590158,
     "end_time": "2022-04-13T02:46:04.829765",
     "exception": false,
     "start_time": "2022-04-13T02:45:55.239607",
     "status": "completed"
    },
    "tags": []
   },
   "outputs": [],
   "source": [
    "#hide_input\n",
    "blockchain = read_news('blockchain') \n",
    "btc = read_news('btc') \n",
    "xrp = read_news('xrp') \n",
    "trx = read_news('trx') \n",
    "eth = read_news('eth')  \n",
    "ada = read_news('ada')\n",
    "exchange = read_news('exchange') "
   ]
  },
  {
   "cell_type": "code",
   "execution_count": 3,
   "id": "synthetic-notion",
   "metadata": {
    "execution": {
     "iopub.execute_input": "2022-04-13T02:46:04.855609Z",
     "iopub.status.busy": "2022-04-13T02:46:04.855016Z",
     "iopub.status.idle": "2022-04-13T02:46:04.858915Z",
     "shell.execute_reply": "2022-04-13T02:46:04.859297Z"
    },
    "papermill": {
     "duration": 0.019372,
     "end_time": "2022-04-13T02:46:04.859419",
     "exception": false,
     "start_time": "2022-04-13T02:46:04.840047",
     "status": "completed"
    },
    "tags": []
   },
   "outputs": [
    {
     "data": {
      "text/markdown": [
       "- Pantera to close Blockchain Fund soon after raising $1.3B — double the target.  Pantera Capital CEO Dan Morehead expects the $1.3 billion blockchain fund to close over the next “three or four weeks” once the due diligence from large institutions has been wrapped up.  ... [| Skaityti daugiau](https://cointelegraph.com/news/pantera-to-wrap-up-blockchain-fund-soon-after-raising-1-3b-double-the-target) "
      ],
      "text/plain": [
       "<IPython.core.display.Markdown object>"
      ]
     },
     "execution_count": 3,
     "metadata": {},
     "output_type": "execute_result"
    }
   ],
   "source": [
    "#hide_input\n",
    "#md('##### {}'.format(titleBTC)) \n",
    "md(\"- {}{} {}{} [| Skaityti daugiau]({}) \".format(blockchain['title'],'. ', blockchain['body'], ' ...', blockchain['url']))"
   ]
  },
  {
   "cell_type": "code",
   "execution_count": 4,
   "id": "aging-caution",
   "metadata": {
    "execution": {
     "iopub.execute_input": "2022-04-13T02:46:04.882731Z",
     "iopub.status.busy": "2022-04-13T02:46:04.882155Z",
     "iopub.status.idle": "2022-04-13T02:46:04.886868Z",
     "shell.execute_reply": "2022-04-13T02:46:04.887304Z"
    },
    "papermill": {
     "duration": 0.018705,
     "end_time": "2022-04-13T02:46:04.887434",
     "exception": false,
     "start_time": "2022-04-13T02:46:04.868729",
     "status": "completed"
    },
    "tags": []
   },
   "outputs": [
    {
     "data": {
      "text/markdown": [
       "- Here’s where LFG’s sustained acquisition of Bitcoin is leaving LUNA.  Currently ranked as the 9th biggest crypto-asset in terms of market capitalization, Terra’s LUNA does not appear to be performing all that well. Following the bloodbath that plagued cryptocurrency markets yesterday, LUNA’s price plummeted as it dropped by a whopping 8.91% to hit $81.64. In fact, over the last 7 days, the altcoin has registered [&#8230;] ... [| Skaityti daugiau](https://ambcrypto.com/heres-where-lfgs-sustained-acquisition-of-bitcoin-is-leaving-luna/) "
      ],
      "text/plain": [
       "<IPython.core.display.Markdown object>"
      ]
     },
     "execution_count": 4,
     "metadata": {},
     "output_type": "execute_result"
    }
   ],
   "source": [
    "#hide_input\n",
    "#md('##### {}'.format(titleBTC)) \n",
    "md(\"- {}{} {}{} [| Skaityti daugiau]({}) \".format(btc['title'],'. ', btc['body'], ' ...', btc['url']))"
   ]
  },
  {
   "cell_type": "code",
   "execution_count": 5,
   "id": "organic-actress",
   "metadata": {
    "execution": {
     "iopub.execute_input": "2022-04-13T02:46:04.911172Z",
     "iopub.status.busy": "2022-04-13T02:46:04.910670Z",
     "iopub.status.idle": "2022-04-13T02:46:04.913689Z",
     "shell.execute_reply": "2022-04-13T02:46:04.913288Z"
    },
    "papermill": {
     "duration": 0.016576,
     "end_time": "2022-04-13T02:46:04.913789",
     "exception": false,
     "start_time": "2022-04-13T02:46:04.897213",
     "status": "completed"
    },
    "tags": []
   },
   "outputs": [
    {
     "data": {
      "text/markdown": [
       "- SEC Emails Highlighting Alleged Conflict of Interest Set to Take Center Stage in Ripple Trial.  New details revealed in emails between SEC officials may prove useful in Ripple’s efforts to dismiss SEC action against its XRP tokenThe post SEC Emails Highlighting Alleged Conflict of Interest Set to Take Center Stage in Ripple Trial appeared first on Blockworks. ... [| Skaityti daugiau](https://blockworks.co/sec-emails-highlighting-alleged-conflict-of-interest-set-to-take-center-stage-in-ripple-trial/) "
      ],
      "text/plain": [
       "<IPython.core.display.Markdown object>"
      ]
     },
     "execution_count": 5,
     "metadata": {},
     "output_type": "execute_result"
    }
   ],
   "source": [
    "#hide_input\n",
    "#md('##### {}'.format(titleBTC)) \n",
    "md(\"- {}{} {}{} [| Skaityti daugiau]({}) \".format(xrp['title'],'. ', xrp['body'], ' ...', xrp['url']))"
   ]
  },
  {
   "cell_type": "code",
   "execution_count": 6,
   "id": "prompt-farmer",
   "metadata": {
    "execution": {
     "iopub.execute_input": "2022-04-13T02:46:04.938570Z",
     "iopub.status.busy": "2022-04-13T02:46:04.938065Z",
     "iopub.status.idle": "2022-04-13T02:46:04.941075Z",
     "shell.execute_reply": "2022-04-13T02:46:04.940644Z"
    },
    "papermill": {
     "duration": 0.017498,
     "end_time": "2022-04-13T02:46:04.941174",
     "exception": false,
     "start_time": "2022-04-13T02:46:04.923676",
     "status": "completed"
    },
    "tags": []
   },
   "outputs": [
    {
     "data": {
      "text/markdown": [
       "- Ethereum, ATOM, Tron, ETC Price Analysis: 11 April.  Despite the recent selling spree, Ethereum bulls have held on to the $3,100 support whilst the king alt showed gradual improvements on its 4-hour RSI. Similarly, Cosmos buyers showed up in the $25-$26 range to stall its ongoing sell-off. On the other hand, Tron witnessed a death cross of its EMAs on the 4-hour timeframe [&#8230;] ... [| Skaityti daugiau](https://ambcrypto.com/ethereum-atom-tron-etc-price-analysis-11-april/) "
      ],
      "text/plain": [
       "<IPython.core.display.Markdown object>"
      ]
     },
     "execution_count": 6,
     "metadata": {},
     "output_type": "execute_result"
    }
   ],
   "source": [
    "#hide_input\n",
    "#md('##### {}'.format(titleBTC)) \n",
    "md(\"- {}{} {}{} [| Skaityti daugiau]({}) \".format(trx['title'],'. ', trx['body'], ' ...', trx['url']))"
   ]
  },
  {
   "cell_type": "code",
   "execution_count": 7,
   "id": "illegal-greece",
   "metadata": {
    "execution": {
     "iopub.execute_input": "2022-04-13T02:46:04.966845Z",
     "iopub.status.busy": "2022-04-13T02:46:04.966344Z",
     "iopub.status.idle": "2022-04-13T02:46:04.969218Z",
     "shell.execute_reply": "2022-04-13T02:46:04.969649Z"
    },
    "papermill": {
     "duration": 0.01811,
     "end_time": "2022-04-13T02:46:04.969761",
     "exception": false,
     "start_time": "2022-04-13T02:46:04.951651",
     "status": "completed"
    },
    "tags": []
   },
   "outputs": [
    {
     "data": {
      "text/markdown": [
       "- Ethereum Developer Virgil Griffith Sentenced to 5 Years Ater Giving a Lecture Ethereum in North Korea.  Virgil Griffith got sentenced to 5 years in prison after traveling to North Korea to talk about Ethereum and Smart Contracts. ... [| Skaityti daugiau](https://cryptopotato.com/ethereum-developer-virgil-griffith-sentenced-to-5-years-ater-giving-a-lecture-ethereum-in-north-korea/) "
      ],
      "text/plain": [
       "<IPython.core.display.Markdown object>"
      ]
     },
     "execution_count": 7,
     "metadata": {},
     "output_type": "execute_result"
    }
   ],
   "source": [
    "#hide_input\n",
    "#md('##### {}'.format(titleBTC)) \n",
    "md(\"- {}{} {}{} [| Skaityti daugiau]({}) \".format(eth['title'],'. ', eth['body'], ' ...', eth['url']))"
   ]
  },
  {
   "cell_type": "code",
   "execution_count": 8,
   "id": "sublime-lounge",
   "metadata": {
    "execution": {
     "iopub.execute_input": "2022-04-13T02:46:04.995396Z",
     "iopub.status.busy": "2022-04-13T02:46:04.994895Z",
     "iopub.status.idle": "2022-04-13T02:46:04.997707Z",
     "shell.execute_reply": "2022-04-13T02:46:04.998137Z"
    },
    "papermill": {
     "duration": 0.017953,
     "end_time": "2022-04-13T02:46:04.998249",
     "exception": false,
     "start_time": "2022-04-13T02:46:04.980296",
     "status": "completed"
    },
    "tags": []
   },
   "outputs": [
    {
     "data": {
      "text/markdown": [
       "- $ADA’s Top Whales Back to Their ‘Largest Percentage of Supply Held in Two Years’.  While the price of Cardano ($ADA) has been dropping amid a wider cryptocurrency market downturn that saw the space’s total market capitalization lose over $170 billion in value, its top whales have been accumulating it over time. According to data from on-chain analytics firm Santiment, while ADA is now down significantly from its all-time high […] ... [| Skaityti daugiau](https://www.cryptoglobe.com/latest/2022/04/adas-top-whales-back-to-their-largest-percentage-of-supply-held-in-two-years/) "
      ],
      "text/plain": [
       "<IPython.core.display.Markdown object>"
      ]
     },
     "execution_count": 8,
     "metadata": {},
     "output_type": "execute_result"
    }
   ],
   "source": [
    "#hide_input\n",
    "#md('##### {}'.format(titleBTC)) \n",
    "md(\"- {}{} {}{} [| Skaityti daugiau]({}) \".format(ada['title'],'. ', ada['body'], ' ...', ada['url']))"
   ]
  },
  {
   "cell_type": "code",
   "execution_count": 9,
   "id": "specified-ordering",
   "metadata": {
    "execution": {
     "iopub.execute_input": "2022-04-13T02:46:05.024219Z",
     "iopub.status.busy": "2022-04-13T02:46:05.023720Z",
     "iopub.status.idle": "2022-04-13T02:46:05.026789Z",
     "shell.execute_reply": "2022-04-13T02:46:05.026383Z"
    },
    "papermill": {
     "duration": 0.017845,
     "end_time": "2022-04-13T02:46:05.026888",
     "exception": false,
     "start_time": "2022-04-13T02:46:05.009043",
     "status": "completed"
    },
    "tags": []
   },
   "outputs": [
    {
     "data": {
      "text/markdown": [
       "- PancakeSwap Price Prediction 2022-2026-Will the Price of CAKE Hit $27.5 by the end of 2022?.  PancakeSwap is a Binance Smart Chain-based decentralized exchange (DEX) launched by anonymous developers with an apparent passion for pancakes. Its native token is CAKE. PancakeSwap allows users to trade BEP20 tokens, provide liquidity to the exchange and earn fees, stake LP tokens to earn CAKE, stake CAKE to earn more CAKE and stake CAKE to earn tokens of other projects. PancakeSwap is an automated market maker (AMM). It is a decentralized finance (DeFi) application that allows users to exchange tokens, providing liquidity via farming and earning fees in return. With the BSC platform, transactions in PancakeSwap are completed at a very low cost. What is PancakeSwap (CAKE)? It launched in September 2020 as a decentralized exchange for swapping BEP20 tokens on Binance Smart Chain. PancakeSwap uses an automated market maker model where users trade against a liquidity pool. PancakeSwap can be securely stored on supported wallets that are connected to the Binance Smart Chain. These include MetaMask, TrustWallet, TokenPocket, and WalletConnect. Users can stake their tokens to earn rewards, which is done by depositing Liquidity Provider tokens and locking them up. This is known as farming and is rewarded by the system with CAKE tokens. Now we shall look at the price analysis of CAKE. Price Analysis of PancakeSwap (CAKE) Flashback: Fundamental Analysis of PancakeSwap (CAKE) PancakeSwap is presently the largest decentralized exchange ... ... [| Skaityti daugiau](https://www.cryptoknowmics.com/news/pancakeswap-price-prediction-2022-2026-will-the-price-of-cake-hit-27-5-by-the-end-of-2022/?utm_source=rss&utm_medium=rss&utm_campaign=pancakeswap-price-prediction-2022-2026-will-the-price-of-cake-hit-27-5-by-the-end-of-2022) "
      ],
      "text/plain": [
       "<IPython.core.display.Markdown object>"
      ]
     },
     "execution_count": 9,
     "metadata": {},
     "output_type": "execute_result"
    }
   ],
   "source": [
    "#hide_input\n",
    "#md('##### {}'.format(titleBTC)) \n",
    "md(\"- {}{} {}{} [| Skaityti daugiau]({}) \".format(exchange['title'],'. ', exchange['body'], ' ...', exchange['url']))"
   ]
  },
  {
   "cell_type": "code",
   "execution_count": null,
   "id": "tender-livestock",
   "metadata": {
    "papermill": {
     "duration": 0.01123,
     "end_time": "2022-04-13T02:46:05.049437",
     "exception": false,
     "start_time": "2022-04-13T02:46:05.038207",
     "status": "completed"
    },
    "tags": []
   },
   "outputs": [],
   "source": []
  },
  {
   "cell_type": "code",
   "execution_count": null,
   "id": "appreciated-diamond",
   "metadata": {
    "papermill": {
     "duration": 0.011508,
     "end_time": "2022-04-13T02:46:05.072340",
     "exception": false,
     "start_time": "2022-04-13T02:46:05.060832",
     "status": "completed"
    },
    "tags": []
   },
   "outputs": [],
   "source": []
  },
  {
   "cell_type": "code",
   "execution_count": null,
   "id": "romance-sweden",
   "metadata": {
    "papermill": {
     "duration": 0.011202,
     "end_time": "2022-04-13T02:46:05.095761",
     "exception": false,
     "start_time": "2022-04-13T02:46:05.084559",
     "status": "completed"
    },
    "tags": []
   },
   "outputs": [],
   "source": []
  },
  {
   "cell_type": "code",
   "execution_count": null,
   "id": "dietary-statistics",
   "metadata": {
    "papermill": {
     "duration": 0.011188,
     "end_time": "2022-04-13T02:46:05.118198",
     "exception": false,
     "start_time": "2022-04-13T02:46:05.107010",
     "status": "completed"
    },
    "tags": []
   },
   "outputs": [],
   "source": []
  }
 ],
 "metadata": {
  "kernelspec": {
   "display_name": "Python 3",
   "language": "python",
   "name": "python3"
  },
  "language_info": {
   "codemirror_mode": {
    "name": "ipython",
    "version": 3
   },
   "file_extension": ".py",
   "mimetype": "text/x-python",
   "name": "python",
   "nbconvert_exporter": "python",
   "pygments_lexer": "ipython3",
   "version": "3.6.15"
  },
  "papermill": {
   "default_parameters": {},
   "duration": 12.520189,
   "end_time": "2022-04-13T02:46:05.548045",
   "environment_variables": {},
   "exception": null,
   "input_path": "Market-News.ipynb",
   "output_path": "Market-News.ipynb",
   "parameters": {},
   "start_time": "2022-04-13T02:45:53.027856",
   "version": "2.2.2"
  }
 },
 "nbformat": 4,
 "nbformat_minor": 5
}