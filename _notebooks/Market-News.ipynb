{
 "cells": [
  {
   "cell_type": "markdown",
   "id": "short-greensboro",
   "metadata": {
    "papermill": {
     "duration": 0.011675,
     "end_time": "2022-02-03T01:57:01.642589",
     "exception": false,
     "start_time": "2022-02-03T01:57:01.630914",
     "status": "completed"
    },
    "tags": []
   },
   "source": [
    "# Kriptovaliutų naujienos"
   ]
  },
  {
   "cell_type": "code",
   "execution_count": 1,
   "id": "functioning-knowing",
   "metadata": {
    "execution": {
     "iopub.execute_input": "2022-02-03T01:57:01.669874Z",
     "iopub.status.busy": "2022-02-03T01:57:01.669327Z",
     "iopub.status.idle": "2022-02-03T01:57:02.920075Z",
     "shell.execute_reply": "2022-02-03T01:57:02.919517Z"
    },
    "papermill": {
     "duration": 1.268874,
     "end_time": "2022-02-03T01:57:02.920235",
     "exception": false,
     "start_time": "2022-02-03T01:57:01.651361",
     "status": "completed"
    },
    "tags": []
   },
   "outputs": [],
   "source": [
    "#hide_input\n",
    "import warnings\n",
    "warnings.filterwarnings('ignore')\n",
    "from scripts.read_data import read_api\n",
    "from scripts.read_data import read_news\n",
    "from scripts.read_data import read_covid\n",
    "import matplotlib.pyplot as plt \n",
    "from IPython.display import Markdown as md"
   ]
  },
  {
   "cell_type": "code",
   "execution_count": 2,
   "id": "shared-acceptance",
   "metadata": {
    "execution": {
     "iopub.execute_input": "2022-02-03T01:57:02.944215Z",
     "iopub.status.busy": "2022-02-03T01:57:02.943755Z",
     "iopub.status.idle": "2022-02-03T01:57:12.567535Z",
     "shell.execute_reply": "2022-02-03T01:57:12.567083Z"
    },
    "papermill": {
     "duration": 9.637842,
     "end_time": "2022-02-03T01:57:12.567643",
     "exception": false,
     "start_time": "2022-02-03T01:57:02.929801",
     "status": "completed"
    },
    "tags": []
   },
   "outputs": [],
   "source": [
    "#hide_input\n",
    "blockchain = read_news('blockchain') \n",
    "btc = read_news('btc') \n",
    "xrp = read_news('xrp') \n",
    "trx = read_news('trx') \n",
    "eth = read_news('eth')  \n",
    "ada = read_news('ada')\n",
    "exchange = read_news('exchange') "
   ]
  },
  {
   "cell_type": "code",
   "execution_count": 3,
   "id": "synthetic-notion",
   "metadata": {
    "execution": {
     "iopub.execute_input": "2022-02-03T01:57:12.589980Z",
     "iopub.status.busy": "2022-02-03T01:57:12.587846Z",
     "iopub.status.idle": "2022-02-03T01:57:12.592286Z",
     "shell.execute_reply": "2022-02-03T01:57:12.592696Z"
    },
    "papermill": {
     "duration": 0.016827,
     "end_time": "2022-02-03T01:57:12.592822",
     "exception": false,
     "start_time": "2022-02-03T01:57:12.575995",
     "status": "completed"
    },
    "tags": []
   },
   "outputs": [
    {
     "data": {
      "text/markdown": [
       "- Dune Analytics Raises Meme Worthy $69,420,000 In Series B Funding Round.  The analytics firm will use its new funds to build educational resources for interpreting the data it provides. ... [| Skaityti daugiau](https://cryptopotato.com/dune-analytics-raises-meme-worthy-69420000-in-series-b-funding-round/) "
      ],
      "text/plain": [
       "<IPython.core.display.Markdown object>"
      ]
     },
     "execution_count": 3,
     "metadata": {},
     "output_type": "execute_result"
    }
   ],
   "source": [
    "#hide_input\n",
    "#md('##### {}'.format(titleBTC)) \n",
    "md(\"- {}{} {}{} [| Skaityti daugiau]({}) \".format(blockchain['title'],'. ', blockchain['body'], ' ...', blockchain['url']))"
   ]
  },
  {
   "cell_type": "code",
   "execution_count": 4,
   "id": "aging-caution",
   "metadata": {
    "execution": {
     "iopub.execute_input": "2022-02-03T01:57:12.616658Z",
     "iopub.status.busy": "2022-02-03T01:57:12.616064Z",
     "iopub.status.idle": "2022-02-03T01:57:12.618084Z",
     "shell.execute_reply": "2022-02-03T01:57:12.618533Z"
    },
    "papermill": {
     "duration": 0.016323,
     "end_time": "2022-02-03T01:57:12.618641",
     "exception": false,
     "start_time": "2022-02-03T01:57:12.602318",
     "status": "completed"
    },
    "tags": []
   },
   "outputs": [
    {
     "data": {
      "text/markdown": [
       "- IRS Will Not Tax Unsold Staked Crypto As Income.  For individuals hoping to earn new tokens by providing security to large blockchains that use proof-of-stake, there may be good news ahead. IRS will not tax your unstaked crypto. A Nashville couple argued in May that tokens obtained through proof-of-stake protocols are taxpayer-created property that should not be taxed until they are sold or exchanged. [&#8230;] ... [| Skaityti daugiau](https://bitcoinist.com/irs-will-not-tax-unsold-staked-crypto-as-income/) "
      ],
      "text/plain": [
       "<IPython.core.display.Markdown object>"
      ]
     },
     "execution_count": 4,
     "metadata": {},
     "output_type": "execute_result"
    }
   ],
   "source": [
    "#hide_input\n",
    "#md('##### {}'.format(titleBTC)) \n",
    "md(\"- {}{} {}{} [| Skaityti daugiau]({}) \".format(btc['title'],'. ', btc['body'], ' ...', btc['url']))"
   ]
  },
  {
   "cell_type": "code",
   "execution_count": 5,
   "id": "organic-actress",
   "metadata": {
    "execution": {
     "iopub.execute_input": "2022-02-03T01:57:12.639999Z",
     "iopub.status.busy": "2022-02-03T01:57:12.639540Z",
     "iopub.status.idle": "2022-02-03T01:57:12.642476Z",
     "shell.execute_reply": "2022-02-03T01:57:12.642096Z"
    },
    "papermill": {
     "duration": 0.015436,
     "end_time": "2022-02-03T01:57:12.642577",
     "exception": false,
     "start_time": "2022-02-03T01:57:12.627141",
     "status": "completed"
    },
    "tags": []
   },
   "outputs": [
    {
     "data": {
      "text/markdown": [
       "- Price analysis 2/2: BTC, ETH, BNB, ADA, SOL, XRP, LUNA, DOGE, DOT, AVAX.  Bitcoin and altcoins took an unexpected dip today, signalling that even with $40,000 in sight, the overall sentiment remains negative.  ... [| Skaityti daugiau](https://cointelegraph.com/news/price-analysis-2-2-btc-eth-bnb-ada-sol-xrp-luna-doge-dot-avax) "
      ],
      "text/plain": [
       "<IPython.core.display.Markdown object>"
      ]
     },
     "execution_count": 5,
     "metadata": {},
     "output_type": "execute_result"
    }
   ],
   "source": [
    "#hide_input\n",
    "#md('##### {}'.format(titleBTC)) \n",
    "md(\"- {}{} {}{} [| Skaityti daugiau]({}) \".format(xrp['title'],'. ', xrp['body'], ' ...', xrp['url']))"
   ]
  },
  {
   "cell_type": "code",
   "execution_count": 6,
   "id": "prompt-farmer",
   "metadata": {
    "execution": {
     "iopub.execute_input": "2022-02-03T01:57:12.664477Z",
     "iopub.status.busy": "2022-02-03T01:57:12.664030Z",
     "iopub.status.idle": "2022-02-03T01:57:12.666856Z",
     "shell.execute_reply": "2022-02-03T01:57:12.667191Z"
    },
    "papermill": {
     "duration": 0.01599,
     "end_time": "2022-02-03T01:57:12.667296",
     "exception": false,
     "start_time": "2022-02-03T01:57:12.651306",
     "status": "completed"
    },
    "tags": []
   },
   "outputs": [
    {
     "data": {
      "text/markdown": [
       "- Tron (TRX) Price Analysis: Bulls Aim Larger Increase.  Tron price started a decent recovery wave above the $0.0580 level against the US Dollar. TRX price is now trading above $0.0580 and the 55 simple moving average (4-hours). There is a key bullish trend line forming with support near $0.0585 on the 4-hours chart (data feed via Bitfinex). The pair could continue to move...The post Tron (TRX) Price Analysis: Bulls Aim Larger Increase appeared first on Live Bitcoin News. ... [| Skaityti daugiau](https://www.livebitcoinnews.com/tron-trx-price-analysis-bulls-aim-larger-increase/) "
      ],
      "text/plain": [
       "<IPython.core.display.Markdown object>"
      ]
     },
     "execution_count": 6,
     "metadata": {},
     "output_type": "execute_result"
    }
   ],
   "source": [
    "#hide_input\n",
    "#md('##### {}'.format(titleBTC)) \n",
    "md(\"- {}{} {}{} [| Skaityti daugiau]({}) \".format(trx['title'],'. ', trx['body'], ' ...', trx['url']))"
   ]
  },
  {
   "cell_type": "code",
   "execution_count": 7,
   "id": "illegal-greece",
   "metadata": {
    "execution": {
     "iopub.execute_input": "2022-02-03T01:57:12.689854Z",
     "iopub.status.busy": "2022-02-03T01:57:12.689398Z",
     "iopub.status.idle": "2022-02-03T01:57:12.692252Z",
     "shell.execute_reply": "2022-02-03T01:57:12.691890Z"
    },
    "papermill": {
     "duration": 0.015816,
     "end_time": "2022-02-03T01:57:12.692346",
     "exception": false,
     "start_time": "2022-02-03T01:57:12.676530",
     "status": "completed"
    },
    "tags": []
   },
   "outputs": [
    {
     "data": {
      "text/markdown": [
       "- Wormhole token bridge loses $321M in largest hack so far in 2022.  The token bridge between Ethereum and Solana saw 120K wETH tokens removed from the platform and distributed between the hacker’s Solana and ETH wallets. ... [| Skaityti daugiau](https://cointelegraph.com/news/wormhole-token-bridge-loses-321m-in-largest-hack-so-far-in-2022) "
      ],
      "text/plain": [
       "<IPython.core.display.Markdown object>"
      ]
     },
     "execution_count": 7,
     "metadata": {},
     "output_type": "execute_result"
    }
   ],
   "source": [
    "#hide_input\n",
    "#md('##### {}'.format(titleBTC)) \n",
    "md(\"- {}{} {}{} [| Skaityti daugiau]({}) \".format(eth['title'],'. ', eth['body'], ' ...', eth['url']))"
   ]
  },
  {
   "cell_type": "code",
   "execution_count": 8,
   "id": "sublime-lounge",
   "metadata": {
    "execution": {
     "iopub.execute_input": "2022-02-03T01:57:12.715455Z",
     "iopub.status.busy": "2022-02-03T01:57:12.715006Z",
     "iopub.status.idle": "2022-02-03T01:57:12.718196Z",
     "shell.execute_reply": "2022-02-03T01:57:12.717837Z"
    },
    "papermill": {
     "duration": 0.01654,
     "end_time": "2022-02-03T01:57:12.718289",
     "exception": false,
     "start_time": "2022-02-03T01:57:12.701749",
     "status": "completed"
    },
    "tags": []
   },
   "outputs": [
    {
     "data": {
      "text/markdown": [
       "- Cardano: IOHK announces performance enhancements post congestion issues.  Cardano has finally entered the third stage of its roadmap, the Basho era. It was envisioned to improve the network’s performance and scalability. The launch of the Basho era focuses on scaling Cardano, promising &#8220;parameter adjustments, improvements, enhancements and other innovations&#8221; supposed to increase the network’s capacity. Well, the process has commenced with important enhancements. [&#8230;] ... [| Skaityti daugiau](https://ambcrypto.com/cardano-iohk-announces-performance-enhancements-post-congestion-issues/) "
      ],
      "text/plain": [
       "<IPython.core.display.Markdown object>"
      ]
     },
     "execution_count": 8,
     "metadata": {},
     "output_type": "execute_result"
    }
   ],
   "source": [
    "#hide_input\n",
    "#md('##### {}'.format(titleBTC)) \n",
    "md(\"- {}{} {}{} [| Skaityti daugiau]({}) \".format(ada['title'],'. ', ada['body'], ' ...', ada['url']))"
   ]
  },
  {
   "cell_type": "code",
   "execution_count": 9,
   "id": "specified-ordering",
   "metadata": {
    "execution": {
     "iopub.execute_input": "2022-02-03T01:57:12.739701Z",
     "iopub.status.busy": "2022-02-03T01:57:12.739152Z",
     "iopub.status.idle": "2022-02-03T01:57:12.744130Z",
     "shell.execute_reply": "2022-02-03T01:57:12.743644Z"
    },
    "papermill": {
     "duration": 0.016362,
     "end_time": "2022-02-03T01:57:12.744241",
     "exception": false,
     "start_time": "2022-02-03T01:57:12.727879",
     "status": "completed"
    },
    "tags": []
   },
   "outputs": [
    {
     "data": {
      "text/markdown": [
       "- Ascent Award Recognizes KuCoin As Best App of 2022 For Enthusiasts.  The Ascent Award has recognized KuCoin as the best cryptocurrency application for enthusiasts in 2022, praising the cryptocurrency exchange for low commissions, high-security measures, transparency, and customer orientation in operations. The mobile application of the global KuCoin cryptocurrency exchange has been recognized as the best application for enthusiasts by an annual survey conducted by The Ascent. Among the other cryptocurrency exchanges noted by The Ascent were Gemini, Coinbase, Binance.US, Crypto.com and FTX, all of which were noted for outstanding achievements in ensuring high accessibility and convenience to digital assets. The Ascent has highlighted KuCoin’s significant user base growth and trading volumes, which have exceeded $1 trillion in cumulative terms in 2021, and $3 billion in daily turnover for Futures and Spot Trading. Such recognition comes weeks after KuCoin announced that it surpassed the 10 million users threshold in late 2021. The statistics place KuCoin in the top five crypto exchanges on CoinMarketCap and Coingecko. KuCoin positions itself as the exchange “by the people for the people”, oriented at altcoin trading. The exchange offers over 1,100 trading pairs and has hosted the listing of over 640 cryptocurrencies, which have later been recognized as gems. In an effort at achieving higher metrics, KuCoin has recently launched a $100 million fund dedicated to metaverse development and incubation... ... [| Skaityti daugiau](https://www.newsbtc.com/news/company/ascent-award-recognizes-kucoin-as-best-app-of-2022-for-enthusiasts/) "
      ],
      "text/plain": [
       "<IPython.core.display.Markdown object>"
      ]
     },
     "execution_count": 9,
     "metadata": {},
     "output_type": "execute_result"
    }
   ],
   "source": [
    "#hide_input\n",
    "#md('##### {}'.format(titleBTC)) \n",
    "md(\"- {}{} {}{} [| Skaityti daugiau]({}) \".format(exchange['title'],'. ', exchange['body'], ' ...', exchange['url']))"
   ]
  },
  {
   "cell_type": "code",
   "execution_count": null,
   "id": "tender-livestock",
   "metadata": {
    "papermill": {
     "duration": 0.011184,
     "end_time": "2022-02-03T01:57:12.767359",
     "exception": false,
     "start_time": "2022-02-03T01:57:12.756175",
     "status": "completed"
    },
    "tags": []
   },
   "outputs": [],
   "source": []
  },
  {
   "cell_type": "code",
   "execution_count": null,
   "id": "appreciated-diamond",
   "metadata": {
    "papermill": {
     "duration": 0.012253,
     "end_time": "2022-02-03T01:57:12.790984",
     "exception": false,
     "start_time": "2022-02-03T01:57:12.778731",
     "status": "completed"
    },
    "tags": []
   },
   "outputs": [],
   "source": []
  },
  {
   "cell_type": "code",
   "execution_count": null,
   "id": "romance-sweden",
   "metadata": {
    "papermill": {
     "duration": 0.011138,
     "end_time": "2022-02-03T01:57:12.813316",
     "exception": false,
     "start_time": "2022-02-03T01:57:12.802178",
     "status": "completed"
    },
    "tags": []
   },
   "outputs": [],
   "source": []
  },
  {
   "cell_type": "code",
   "execution_count": null,
   "id": "dietary-statistics",
   "metadata": {
    "papermill": {
     "duration": 0.01131,
     "end_time": "2022-02-03T01:57:12.835796",
     "exception": false,
     "start_time": "2022-02-03T01:57:12.824486",
     "status": "completed"
    },
    "tags": []
   },
   "outputs": [],
   "source": []
  }
 ],
 "metadata": {
  "kernelspec": {
   "display_name": "Python 3",
   "language": "python",
   "name": "python3"
  },
  "language_info": {
   "codemirror_mode": {
    "name": "ipython",
    "version": 3
   },
   "file_extension": ".py",
   "mimetype": "text/x-python",
   "name": "python",
   "nbconvert_exporter": "python",
   "pygments_lexer": "ipython3",
   "version": "3.6.15"
  },
  "papermill": {
   "default_parameters": {},
   "duration": 12.528562,
   "end_time": "2022-02-03T01:57:13.265318",
   "environment_variables": {},
   "exception": null,
   "input_path": "Market-News.ipynb",
   "output_path": "Market-News.ipynb",
   "parameters": {},
   "start_time": "2022-02-03T01:57:00.736756",
   "version": "2.2.2"
  }
 },
 "nbformat": 4,
 "nbformat_minor": 5
}