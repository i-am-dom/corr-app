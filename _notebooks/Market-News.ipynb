{
 "cells": [
  {
   "cell_type": "markdown",
   "id": "short-greensboro",
   "metadata": {
    "papermill": {
     "duration": 0.015311,
     "end_time": "2021-10-21T02:11:06.236506",
     "exception": false,
     "start_time": "2021-10-21T02:11:06.221195",
     "status": "completed"
    },
    "tags": []
   },
   "source": [
    "# Kriptovaliutų naujienos"
   ]
  },
  {
   "cell_type": "code",
   "execution_count": 1,
   "id": "functioning-knowing",
   "metadata": {
    "execution": {
     "iopub.execute_input": "2021-10-21T02:11:06.274405Z",
     "iopub.status.busy": "2021-10-21T02:11:06.273657Z",
     "iopub.status.idle": "2021-10-21T02:11:07.769971Z",
     "shell.execute_reply": "2021-10-21T02:11:07.769313Z"
    },
    "papermill": {
     "duration": 1.520197,
     "end_time": "2021-10-21T02:11:07.770140",
     "exception": false,
     "start_time": "2021-10-21T02:11:06.249943",
     "status": "completed"
    },
    "tags": []
   },
   "outputs": [],
   "source": [
    "#hide_input\n",
    "import warnings\n",
    "warnings.filterwarnings('ignore')\n",
    "from scripts.read_data import read_api\n",
    "from scripts.read_data import read_news\n",
    "from scripts.read_data import read_covid\n",
    "import matplotlib.pyplot as plt \n",
    "from IPython.display import Markdown as md"
   ]
  },
  {
   "cell_type": "code",
   "execution_count": 2,
   "id": "shared-acceptance",
   "metadata": {
    "execution": {
     "iopub.execute_input": "2021-10-21T02:11:07.806679Z",
     "iopub.status.busy": "2021-10-21T02:11:07.805921Z",
     "iopub.status.idle": "2021-10-21T02:11:16.566267Z",
     "shell.execute_reply": "2021-10-21T02:11:16.565690Z"
    },
    "papermill": {
     "duration": 8.784386,
     "end_time": "2021-10-21T02:11:16.566442",
     "exception": false,
     "start_time": "2021-10-21T02:11:07.782056",
     "status": "completed"
    },
    "tags": []
   },
   "outputs": [],
   "source": [
    "#hide_input\n",
    "blockchain = read_news('blockchain') \n",
    "btc = read_news('btc') \n",
    "xrp = read_news('xrp') \n",
    "trx = read_news('trx') \n",
    "eth = read_news('eth')  \n",
    "ada = read_news('ada')\n",
    "exchange = read_news('exchange') "
   ]
  },
  {
   "cell_type": "code",
   "execution_count": 3,
   "id": "synthetic-notion",
   "metadata": {
    "execution": {
     "iopub.execute_input": "2021-10-21T02:11:16.597483Z",
     "iopub.status.busy": "2021-10-21T02:11:16.594194Z",
     "iopub.status.idle": "2021-10-21T02:11:16.601217Z",
     "shell.execute_reply": "2021-10-21T02:11:16.601738Z"
    },
    "papermill": {
     "duration": 0.023499,
     "end_time": "2021-10-21T02:11:16.601885",
     "exception": false,
     "start_time": "2021-10-21T02:11:16.578386",
     "status": "completed"
    },
    "tags": []
   },
   "outputs": [
    {
     "data": {
      "text/markdown": [
       "- Novogratz’ Galaxy Interactive Raises $325 Million to Engage with Blockchain-Based Games.  Following a $325M fundraising round Galaxy Digital's division - Galaxy Interactive - plans to enter the blockchain-based games and artificial intelligence sectors. ... [| Skaityti daugiau](https://cryptopotato.com/novogratz-galaxy-interactive-raises-325-million-to-engage-with-blockchain-based-games/) "
      ],
      "text/plain": [
       "<IPython.core.display.Markdown object>"
      ]
     },
     "execution_count": 3,
     "metadata": {},
     "output_type": "execute_result"
    }
   ],
   "source": [
    "#hide_input\n",
    "#md('##### {}'.format(titleBTC)) \n",
    "md(\"- {}{} {}{} [| Skaityti daugiau]({}) \".format(blockchain['title'],'. ', blockchain['body'], ' ...', blockchain['url']))"
   ]
  },
  {
   "cell_type": "code",
   "execution_count": 4,
   "id": "aging-caution",
   "metadata": {
    "execution": {
     "iopub.execute_input": "2021-10-21T02:11:16.635440Z",
     "iopub.status.busy": "2021-10-21T02:11:16.634741Z",
     "iopub.status.idle": "2021-10-21T02:11:16.640704Z",
     "shell.execute_reply": "2021-10-21T02:11:16.641724Z"
    },
    "papermill": {
     "duration": 0.025754,
     "end_time": "2021-10-21T02:11:16.641906",
     "exception": false,
     "start_time": "2021-10-21T02:11:16.616152",
     "status": "completed"
    },
    "tags": []
   },
   "outputs": [
    {
     "data": {
      "text/markdown": [
       "- Billionaire Paul Tudor Jones Now Prefers Crypto Over Gold as Inflation Hedge.  Billionaire hedge fund manager Paul Tudor Jones says that bitcoin is currently &#x201C;winning the race against gold.&#x201D; He added that the cryptocurrency is his preferred inflation hedge over gold. Paul Tudor Jones Chooses Bitcoin Over Gold Paul Tudor Jones, the founder of asset management firm Tudor Investment Corp., talked about bitcoin being his preferred hedge [&#8230;] ... [| Skaityti daugiau](https://news.bitcoin.com/billionaire-paul-tudor-jones-now-prefers-crypto-over-gold-as-inflation-hedge/) "
      ],
      "text/plain": [
       "<IPython.core.display.Markdown object>"
      ]
     },
     "execution_count": 4,
     "metadata": {},
     "output_type": "execute_result"
    }
   ],
   "source": [
    "#hide_input\n",
    "#md('##### {}'.format(titleBTC)) \n",
    "md(\"- {}{} {}{} [| Skaityti daugiau]({}) \".format(btc['title'],'. ', btc['body'], ' ...', btc['url']))"
   ]
  },
  {
   "cell_type": "code",
   "execution_count": 5,
   "id": "organic-actress",
   "metadata": {
    "execution": {
     "iopub.execute_input": "2021-10-21T02:11:16.675128Z",
     "iopub.status.busy": "2021-10-21T02:11:16.674323Z",
     "iopub.status.idle": "2021-10-21T02:11:16.680887Z",
     "shell.execute_reply": "2021-10-21T02:11:16.681392Z"
    },
    "papermill": {
     "duration": 0.026006,
     "end_time": "2021-10-21T02:11:16.681541",
     "exception": false,
     "start_time": "2021-10-21T02:11:16.655535",
     "status": "completed"
    },
    "tags": []
   },
   "outputs": [
    {
     "data": {
      "text/markdown": [
       "- Prominent Crypto Analyst Predicts $XRP Could Hit $10 ‘This Cycle’.  Prominent cryptocurrency analyst and well-known XRP bull Credible Crypto has revealed he believes the price of the cryptocurrency could surge past the $10 mark “this cycle,” as the cryptocurrency is currently undergoing a consolidation period. That consolidation period, he says, could lead to a significant expansion once it’s over. The analyst pointed out to his […] ... [| Skaityti daugiau](https://www.cryptoglobe.com/latest/2021/10/prominent-crypto-analyst-predicts-xrp-could-hit-10-this-cycle/) "
      ],
      "text/plain": [
       "<IPython.core.display.Markdown object>"
      ]
     },
     "execution_count": 5,
     "metadata": {},
     "output_type": "execute_result"
    }
   ],
   "source": [
    "#hide_input\n",
    "#md('##### {}'.format(titleBTC)) \n",
    "md(\"- {}{} {}{} [| Skaityti daugiau]({}) \".format(xrp['title'],'. ', xrp['body'], ' ...', xrp['url']))"
   ]
  },
  {
   "cell_type": "code",
   "execution_count": 6,
   "id": "prompt-farmer",
   "metadata": {
    "execution": {
     "iopub.execute_input": "2021-10-21T02:11:16.713883Z",
     "iopub.status.busy": "2021-10-21T02:11:16.713047Z",
     "iopub.status.idle": "2021-10-21T02:11:16.716656Z",
     "shell.execute_reply": "2021-10-21T02:11:16.717138Z"
    },
    "papermill": {
     "duration": 0.022447,
     "end_time": "2021-10-21T02:11:16.717269",
     "exception": false,
     "start_time": "2021-10-21T02:11:16.694822",
     "status": "completed"
    },
    "tags": []
   },
   "outputs": [
    {
     "data": {
      "text/markdown": [
       "- Shiba Inu, Tron, Uniswap Price Analysis: 20 October.  While Bitcoin hits the $63,000 mark, altcoins like SHIB and UNI show bearish signs. However, TRX seemed to follow in the footsteps of the King coin and showing some signs of recovery on the charts. Nevertheless, all of these coins show weak directional price trends in the near term. SHIB SHIB saw a 2.26% decrease [&#8230;] ... [| Skaityti daugiau](https://ambcrypto.com/shiba-inu-tron-uniswap-price-analysis-20-october/) "
      ],
      "text/plain": [
       "<IPython.core.display.Markdown object>"
      ]
     },
     "execution_count": 6,
     "metadata": {},
     "output_type": "execute_result"
    }
   ],
   "source": [
    "#hide_input\n",
    "#md('##### {}'.format(titleBTC)) \n",
    "md(\"- {}{} {}{} [| Skaityti daugiau]({}) \".format(trx['title'],'. ', trx['body'], ' ...', trx['url']))"
   ]
  },
  {
   "cell_type": "code",
   "execution_count": 7,
   "id": "illegal-greece",
   "metadata": {
    "execution": {
     "iopub.execute_input": "2021-10-21T02:11:16.750053Z",
     "iopub.status.busy": "2021-10-21T02:11:16.749448Z",
     "iopub.status.idle": "2021-10-21T02:11:16.752711Z",
     "shell.execute_reply": "2021-10-21T02:11:16.753193Z"
    },
    "papermill": {
     "duration": 0.022752,
     "end_time": "2021-10-21T02:11:16.753321",
     "exception": false,
     "start_time": "2021-10-21T02:11:16.730569",
     "status": "completed"
    },
    "tags": []
   },
   "outputs": [
    {
     "data": {
      "text/markdown": [
       "- Andrew Yang and Bankless Release NFT to Support Forward Party.  Yang revealed his NFT collaboration on Twitter after joining the Bankless podcast. ... [| Skaityti daugiau](https://decrypt.co/83967/andrew-yang-bankless-release-nft-support-forward-party) "
      ],
      "text/plain": [
       "<IPython.core.display.Markdown object>"
      ]
     },
     "execution_count": 7,
     "metadata": {},
     "output_type": "execute_result"
    }
   ],
   "source": [
    "#hide_input\n",
    "#md('##### {}'.format(titleBTC)) \n",
    "md(\"- {}{} {}{} [| Skaityti daugiau]({}) \".format(eth['title'],'. ', eth['body'], ' ...', eth['url']))"
   ]
  },
  {
   "cell_type": "code",
   "execution_count": 8,
   "id": "sublime-lounge",
   "metadata": {
    "execution": {
     "iopub.execute_input": "2021-10-21T02:11:16.786819Z",
     "iopub.status.busy": "2021-10-21T02:11:16.784290Z",
     "iopub.status.idle": "2021-10-21T02:11:16.788830Z",
     "shell.execute_reply": "2021-10-21T02:11:16.789471Z"
    },
    "papermill": {
     "duration": 0.024082,
     "end_time": "2021-10-21T02:11:16.789666",
     "exception": false,
     "start_time": "2021-10-21T02:11:16.765584",
     "status": "completed"
    },
    "tags": []
   },
   "outputs": [
    {
     "data": {
      "text/markdown": [
       "- Price analysis 10/20: BTC, ETH, BNB, ADA, XRP, SOL, DOT, DOGE, LUNA, UNI.  Bitcoin’s breakout to $67,000 also sent the total crypto market capitalization to a new all-time high and is a signal that altcoins could soon embark on a new uptrend. ... [| Skaityti daugiau](https://cointelegraph.com/news/price-analysis-10-20-btc-eth-bnb-ada-xrp-sol-dot-doge-luna-uni) "
      ],
      "text/plain": [
       "<IPython.core.display.Markdown object>"
      ]
     },
     "execution_count": 8,
     "metadata": {},
     "output_type": "execute_result"
    }
   ],
   "source": [
    "#hide_input\n",
    "#md('##### {}'.format(titleBTC)) \n",
    "md(\"- {}{} {}{} [| Skaityti daugiau]({}) \".format(ada['title'],'. ', ada['body'], ' ...', ada['url']))"
   ]
  },
  {
   "cell_type": "code",
   "execution_count": 9,
   "id": "specified-ordering",
   "metadata": {
    "execution": {
     "iopub.execute_input": "2021-10-21T02:11:16.828620Z",
     "iopub.status.busy": "2021-10-21T02:11:16.827424Z",
     "iopub.status.idle": "2021-10-21T02:11:16.831508Z",
     "shell.execute_reply": "2021-10-21T02:11:16.830800Z"
    },
    "papermill": {
     "duration": 0.02557,
     "end_time": "2021-10-21T02:11:16.831643",
     "exception": false,
     "start_time": "2021-10-21T02:11:16.806073",
     "status": "completed"
    },
    "tags": []
   },
   "outputs": [
    {
     "data": {
      "text/markdown": [
       "- LUNA Outperforms Bitcoin’s Rally, Why It’s Ready For Massive Gains.  Bulls are in control as Bitcoin and the crypto market break every all-time high, coming into the top 10 is Terra’s native cryptocurrency LUNA with a 12.9% rally in the daily chart. Trading north of $40, at press time, this cryptocurrency has outperformed BTC and major altcoins in lower timeframes. However, LUNA could be just firing up its engines and getting ready for a fresh leg-up in the short term. The Terra ecosystem has been implementing major improvements to its ecosystem in the past months. Related Reading &#124; Why The Terra Ecosystem Delayed A Major Mainnet Upgrade For Late September Therefore, LUNA could have multiple bullish reasons to continue to outperform the market. As researcher Ryan Watkins recently indicated, Terra is closed to implementing all 3 massive upgrades on its infrastructure. The Colombus-5 and Wormhole V2 upgrades have gone live, and the Inter-Blockchain Communication (IBC) protocol upgrade is set to roll out today, October 20th. As NewsBTC reported in August, Columbus-5 was delayed providing every actor on the Terra ecosystem with more time to prepare for the upgrade. Designed to introduce a deflationary mechanism for LUNA, this upgrade will increase Terra’s interoperable capabilities while creating more demand for its underlying asset. In the meantime, the Wormhole upgrade will operate as the communication component between Terra, Ethereum, Solana, Binance Smart Chain, and potentially more block... ... [| Skaityti daugiau](https://www.newsbtc.com/news/luna-bitcoin-rally-ready-for-massive-gains/) "
      ],
      "text/plain": [
       "<IPython.core.display.Markdown object>"
      ]
     },
     "execution_count": 9,
     "metadata": {},
     "output_type": "execute_result"
    }
   ],
   "source": [
    "#hide_input\n",
    "#md('##### {}'.format(titleBTC)) \n",
    "md(\"- {}{} {}{} [| Skaityti daugiau]({}) \".format(exchange['title'],'. ', exchange['body'], ' ...', exchange['url']))"
   ]
  },
  {
   "cell_type": "code",
   "execution_count": null,
   "id": "tender-livestock",
   "metadata": {
    "papermill": {
     "duration": 0.014346,
     "end_time": "2021-10-21T02:11:16.858882",
     "exception": false,
     "start_time": "2021-10-21T02:11:16.844536",
     "status": "completed"
    },
    "tags": []
   },
   "outputs": [],
   "source": []
  },
  {
   "cell_type": "code",
   "execution_count": null,
   "id": "appreciated-diamond",
   "metadata": {
    "papermill": {
     "duration": 0.014317,
     "end_time": "2021-10-21T02:11:16.888369",
     "exception": false,
     "start_time": "2021-10-21T02:11:16.874052",
     "status": "completed"
    },
    "tags": []
   },
   "outputs": [],
   "source": []
  },
  {
   "cell_type": "code",
   "execution_count": null,
   "id": "romance-sweden",
   "metadata": {
    "papermill": {
     "duration": 0.015089,
     "end_time": "2021-10-21T02:11:16.918402",
     "exception": false,
     "start_time": "2021-10-21T02:11:16.903313",
     "status": "completed"
    },
    "tags": []
   },
   "outputs": [],
   "source": []
  },
  {
   "cell_type": "code",
   "execution_count": null,
   "id": "dietary-statistics",
   "metadata": {
    "papermill": {
     "duration": 0.014287,
     "end_time": "2021-10-21T02:11:16.947838",
     "exception": false,
     "start_time": "2021-10-21T02:11:16.933551",
     "status": "completed"
    },
    "tags": []
   },
   "outputs": [],
   "source": []
  }
 ],
 "metadata": {
  "kernelspec": {
   "display_name": "Python 3",
   "language": "python",
   "name": "python3"
  },
  "language_info": {
   "codemirror_mode": {
    "name": "ipython",
    "version": 3
   },
   "file_extension": ".py",
   "mimetype": "text/x-python",
   "name": "python",
   "nbconvert_exporter": "python",
   "pygments_lexer": "ipython3",
   "version": "3.6.15"
  },
  "papermill": {
   "default_parameters": {},
   "duration": 12.254309,
   "end_time": "2021-10-21T02:11:17.369877",
   "environment_variables": {},
   "exception": null,
   "input_path": "Market-News.ipynb",
   "output_path": "Market-News.ipynb",
   "parameters": {},
   "start_time": "2021-10-21T02:11:05.115568",
   "version": "2.2.2"
  }
 },
 "nbformat": 4,
 "nbformat_minor": 5
}