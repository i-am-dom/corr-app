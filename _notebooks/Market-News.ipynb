{
 "cells": [
  {
   "cell_type": "markdown",
   "id": "short-greensboro",
   "metadata": {
    "papermill": {
     "duration": 0.016439,
     "end_time": "2022-04-28T03:44:32.855976",
     "exception": false,
     "start_time": "2022-04-28T03:44:32.839537",
     "status": "completed"
    },
    "tags": []
   },
   "source": [
    "# Kriptovaliutų naujienos"
   ]
  },
  {
   "cell_type": "code",
   "execution_count": 1,
   "id": "functioning-knowing",
   "metadata": {
    "execution": {
     "iopub.execute_input": "2022-04-28T03:44:32.893718Z",
     "iopub.status.busy": "2022-04-28T03:44:32.893014Z",
     "iopub.status.idle": "2022-04-28T03:44:34.479020Z",
     "shell.execute_reply": "2022-04-28T03:44:34.479561Z"
    },
    "papermill": {
     "duration": 1.610497,
     "end_time": "2022-04-28T03:44:34.479769",
     "exception": false,
     "start_time": "2022-04-28T03:44:32.869272",
     "status": "completed"
    },
    "tags": []
   },
   "outputs": [],
   "source": [
    "#hide_input\n",
    "import warnings\n",
    "warnings.filterwarnings('ignore')\n",
    "from scripts.read_data import read_api\n",
    "from scripts.read_data import read_news\n",
    "from scripts.read_data import read_covid\n",
    "import matplotlib.pyplot as plt \n",
    "from IPython.display import Markdown as md"
   ]
  },
  {
   "cell_type": "code",
   "execution_count": 2,
   "id": "shared-acceptance",
   "metadata": {
    "execution": {
     "iopub.execute_input": "2022-04-28T03:44:34.510729Z",
     "iopub.status.busy": "2022-04-28T03:44:34.509616Z",
     "iopub.status.idle": "2022-04-28T03:44:47.085500Z",
     "shell.execute_reply": "2022-04-28T03:44:47.086057Z"
    },
    "papermill": {
     "duration": 12.594575,
     "end_time": "2022-04-28T03:44:47.086266",
     "exception": false,
     "start_time": "2022-04-28T03:44:34.491691",
     "status": "completed"
    },
    "tags": []
   },
   "outputs": [],
   "source": [
    "#hide_input\n",
    "blockchain = read_news('blockchain') \n",
    "btc = read_news('btc') \n",
    "xrp = read_news('xrp') \n",
    "trx = read_news('trx') \n",
    "eth = read_news('eth')  \n",
    "ada = read_news('ada')\n",
    "exchange = read_news('exchange') "
   ]
  },
  {
   "cell_type": "code",
   "execution_count": 3,
   "id": "synthetic-notion",
   "metadata": {
    "execution": {
     "iopub.execute_input": "2022-04-28T03:44:47.117767Z",
     "iopub.status.busy": "2022-04-28T03:44:47.117072Z",
     "iopub.status.idle": "2022-04-28T03:44:47.124250Z",
     "shell.execute_reply": "2022-04-28T03:44:47.124828Z"
    },
    "papermill": {
     "duration": 0.026805,
     "end_time": "2022-04-28T03:44:47.125051",
     "exception": false,
     "start_time": "2022-04-28T03:44:47.098246",
     "status": "completed"
    },
    "tags": []
   },
   "outputs": [
    {
     "data": {
      "text/markdown": [
       "- Ethereum unable to push above $2900 as further price drop might follow.  Ethereum price analysis for April 28, 2022, confirms that the chances of making higher highs in the coming days seem pretty low as the token has failed to break above the $3900 price region and retain prices above it in the last 24 hours. However, we have seen ETH prices jump 2% in the last [&#8230;]The post Ethereum unable to push above $2900 as further price drop might follow appeared first on Blockchain, Crypto and Stock News. ... [| Skaityti daugiau](https://thecoinrise.com/ethereum-unable-to-push-above-2900-as-further-price-drop-might-follow/) "
      ],
      "text/plain": [
       "<IPython.core.display.Markdown object>"
      ]
     },
     "execution_count": 3,
     "metadata": {},
     "output_type": "execute_result"
    }
   ],
   "source": [
    "#hide_input\n",
    "#md('##### {}'.format(titleBTC)) \n",
    "md(\"- {}{} {}{} [| Skaityti daugiau]({}) \".format(blockchain['title'],'. ', blockchain['body'], ' ...', blockchain['url']))"
   ]
  },
  {
   "cell_type": "code",
   "execution_count": 4,
   "id": "aging-caution",
   "metadata": {
    "execution": {
     "iopub.execute_input": "2022-04-28T03:44:47.159950Z",
     "iopub.status.busy": "2022-04-28T03:44:47.158208Z",
     "iopub.status.idle": "2022-04-28T03:44:47.162304Z",
     "shell.execute_reply": "2022-04-28T03:44:47.161704Z"
    },
    "papermill": {
     "duration": 0.025211,
     "end_time": "2022-04-28T03:44:47.162447",
     "exception": false,
     "start_time": "2022-04-28T03:44:47.137236",
     "status": "completed"
    },
    "tags": []
   },
   "outputs": [
    {
     "data": {
      "text/markdown": [
       "- Crypto Index Tracker – Metaverse Fares Worst in Crypto Sell-Off.  Crypto markets have been relatively more stable as of late, with Bitcoin down only one percent over the past week. Certainly, Monday’s announcement of Elon Musk’s $44 billion buyout of Twitter helped crypto. But now it’s the turn of the heavyweight US tech companies (Google, Microsoft, Amazon, Apple, Facebook) to potentially influence crypto. They report [&#8230;]The post Crypto Index Tracker – Metaverse Fares Worst in Crypto Sell-Off appeared first on The Daily Hodl. ... [| Skaityti daugiau](https://dailyhodl.com/2022/04/27/crypto-index-tracker-metaverse-fares-worst-in-crypto-sell-off/) "
      ],
      "text/plain": [
       "<IPython.core.display.Markdown object>"
      ]
     },
     "execution_count": 4,
     "metadata": {},
     "output_type": "execute_result"
    }
   ],
   "source": [
    "#hide_input\n",
    "#md('##### {}'.format(titleBTC)) \n",
    "md(\"- {}{} {}{} [| Skaityti daugiau]({}) \".format(btc['title'],'. ', btc['body'], ' ...', btc['url']))"
   ]
  },
  {
   "cell_type": "code",
   "execution_count": 5,
   "id": "organic-actress",
   "metadata": {
    "execution": {
     "iopub.execute_input": "2022-04-28T03:44:47.193886Z",
     "iopub.status.busy": "2022-04-28T03:44:47.193135Z",
     "iopub.status.idle": "2022-04-28T03:44:47.200302Z",
     "shell.execute_reply": "2022-04-28T03:44:47.199548Z"
    },
    "papermill": {
     "duration": 0.024862,
     "end_time": "2022-04-28T03:44:47.200450",
     "exception": false,
     "start_time": "2022-04-28T03:44:47.175588",
     "status": "completed"
    },
    "tags": []
   },
   "outputs": [
    {
     "data": {
      "text/markdown": [
       "- Price analysis 4/27: BTC, ETH, BNB, XRP, SOL, LUNA, ADA, AVAX, DOGE, DOT.  BTC and select altcoins could be gearing up for an oversold move, but traders beware, it's likely to be a dead cat bounce.  ... [| Skaityti daugiau](https://cointelegraph.com/news/price-analysis-4-27-btc-eth-bnb-xrp-sol-luna-ada-avax-doge-dot) "
      ],
      "text/plain": [
       "<IPython.core.display.Markdown object>"
      ]
     },
     "execution_count": 5,
     "metadata": {},
     "output_type": "execute_result"
    }
   ],
   "source": [
    "#hide_input\n",
    "#md('##### {}'.format(titleBTC)) \n",
    "md(\"- {}{} {}{} [| Skaityti daugiau]({}) \".format(xrp['title'],'. ', xrp['body'], ' ...', xrp['url']))"
   ]
  },
  {
   "cell_type": "code",
   "execution_count": 6,
   "id": "prompt-farmer",
   "metadata": {
    "execution": {
     "iopub.execute_input": "2022-04-28T03:44:47.235091Z",
     "iopub.status.busy": "2022-04-28T03:44:47.233930Z",
     "iopub.status.idle": "2022-04-28T03:44:47.241953Z",
     "shell.execute_reply": "2022-04-28T03:44:47.241398Z"
    },
    "papermill": {
     "duration": 0.026846,
     "end_time": "2022-04-28T03:44:47.242128",
     "exception": false,
     "start_time": "2022-04-28T03:44:47.215282",
     "status": "completed"
    },
    "tags": []
   },
   "outputs": [
    {
     "data": {
      "text/markdown": [
       "- Tron’s [TRX] latest rejection might have the following implications.  Disclaimer: The findings of the following analysis are the sole opinions of the writer and should not be considered investment advice Earlier in April, TRON broke out past a critical level of resistance on the price charts. News of the release of its native stablecoin, USDD, saw the coin surge by nearly 20% after this resistance [&#8230;] ... [| Skaityti daugiau](https://ambcrypto.com/trons-trx-latest-rejection-might-have-the-following-implications/) "
      ],
      "text/plain": [
       "<IPython.core.display.Markdown object>"
      ]
     },
     "execution_count": 6,
     "metadata": {},
     "output_type": "execute_result"
    }
   ],
   "source": [
    "#hide_input\n",
    "#md('##### {}'.format(titleBTC)) \n",
    "md(\"- {}{} {}{} [| Skaityti daugiau]({}) \".format(trx['title'],'. ', trx['body'], ' ...', trx['url']))"
   ]
  },
  {
   "cell_type": "code",
   "execution_count": 7,
   "id": "illegal-greece",
   "metadata": {
    "execution": {
     "iopub.execute_input": "2022-04-28T03:44:47.276561Z",
     "iopub.status.busy": "2022-04-28T03:44:47.275888Z",
     "iopub.status.idle": "2022-04-28T03:44:47.279629Z",
     "shell.execute_reply": "2022-04-28T03:44:47.278986Z"
    },
    "papermill": {
     "duration": 0.023899,
     "end_time": "2022-04-28T03:44:47.279764",
     "exception": false,
     "start_time": "2022-04-28T03:44:47.255865",
     "status": "completed"
    },
    "tags": []
   },
   "outputs": [
    {
     "data": {
      "text/markdown": [
       "- Ethereum unable to push above $2900 as further price drop might follow.  Ethereum price analysis for April 28, 2022, confirms that the chances of making higher highs in the coming days seem pretty low as the token has failed to break above the $3900 price region and retain prices above it in the last 24 hours. However, we have seen ETH prices jump 2% in the last [&#8230;]The post Ethereum unable to push above $2900 as further price drop might follow appeared first on Blockchain, Crypto and Stock News. ... [| Skaityti daugiau](https://thecoinrise.com/ethereum-unable-to-push-above-2900-as-further-price-drop-might-follow/) "
      ],
      "text/plain": [
       "<IPython.core.display.Markdown object>"
      ]
     },
     "execution_count": 7,
     "metadata": {},
     "output_type": "execute_result"
    }
   ],
   "source": [
    "#hide_input\n",
    "#md('##### {}'.format(titleBTC)) \n",
    "md(\"- {}{} {}{} [| Skaityti daugiau]({}) \".format(eth['title'],'. ', eth['body'], ' ...', eth['url']))"
   ]
  },
  {
   "cell_type": "code",
   "execution_count": 8,
   "id": "sublime-lounge",
   "metadata": {
    "execution": {
     "iopub.execute_input": "2022-04-28T03:44:47.313252Z",
     "iopub.status.busy": "2022-04-28T03:44:47.312560Z",
     "iopub.status.idle": "2022-04-28T03:44:47.315461Z",
     "shell.execute_reply": "2022-04-28T03:44:47.316113Z"
    },
    "papermill": {
     "duration": 0.023259,
     "end_time": "2022-04-28T03:44:47.316278",
     "exception": false,
     "start_time": "2022-04-28T03:44:47.293019",
     "status": "completed"
    },
    "tags": []
   },
   "outputs": [
    {
     "data": {
      "text/markdown": [
       "- ADA [Cardano] could bounce to $0.9 in the next few days only if….  Disclaimer: The findings of the following analysis are the sole opinions of the writer and should not be considered investment advice On shorter timeframes, announcements of technical improvements could be argued to have a positive impact on the price. A recent proposal to increase the block size of the Cardano mainnet appeared to be greeted by [&#8230;] ... [| Skaityti daugiau](https://ambcrypto.com/ada-cardano-could-bounce-to-0-9-in-the-next-few-days-only-if/) "
      ],
      "text/plain": [
       "<IPython.core.display.Markdown object>"
      ]
     },
     "execution_count": 8,
     "metadata": {},
     "output_type": "execute_result"
    }
   ],
   "source": [
    "#hide_input\n",
    "#md('##### {}'.format(titleBTC)) \n",
    "md(\"- {}{} {}{} [| Skaityti daugiau]({}) \".format(ada['title'],'. ', ada['body'], ' ...', ada['url']))"
   ]
  },
  {
   "cell_type": "code",
   "execution_count": 9,
   "id": "specified-ordering",
   "metadata": {
    "execution": {
     "iopub.execute_input": "2022-04-28T03:44:47.355339Z",
     "iopub.status.busy": "2022-04-28T03:44:47.354464Z",
     "iopub.status.idle": "2022-04-28T03:44:47.358369Z",
     "shell.execute_reply": "2022-04-28T03:44:47.358961Z"
    },
    "papermill": {
     "duration": 0.027495,
     "end_time": "2022-04-28T03:44:47.359141",
     "exception": false,
     "start_time": "2022-04-28T03:44:47.331646",
     "status": "completed"
    },
    "tags": []
   },
   "outputs": [
    {
     "data": {
      "text/markdown": [
       "- BestChange: the Free Platform for Exchanging.  BestChange is a free online service created to aid searching for exchange, online banking, and money transfer services with profitable exchange rates. Users can compare rates from several exchangers and select the better option. BestChange features a calculator used to calculate the total cost of a transaction. It provides users with detailed statistics on changes... ... [| Skaityti daugiau](https://www.cryptopolitan.com/bestchange-the-free-platform-for-exchanging/) "
      ],
      "text/plain": [
       "<IPython.core.display.Markdown object>"
      ]
     },
     "execution_count": 9,
     "metadata": {},
     "output_type": "execute_result"
    }
   ],
   "source": [
    "#hide_input\n",
    "#md('##### {}'.format(titleBTC)) \n",
    "md(\"- {}{} {}{} [| Skaityti daugiau]({}) \".format(exchange['title'],'. ', exchange['body'], ' ...', exchange['url']))"
   ]
  },
  {
   "cell_type": "code",
   "execution_count": null,
   "id": "tender-livestock",
   "metadata": {
    "papermill": {
     "duration": 0.014344,
     "end_time": "2022-04-28T03:44:47.388355",
     "exception": false,
     "start_time": "2022-04-28T03:44:47.374011",
     "status": "completed"
    },
    "tags": []
   },
   "outputs": [],
   "source": []
  },
  {
   "cell_type": "code",
   "execution_count": null,
   "id": "appreciated-diamond",
   "metadata": {
    "papermill": {
     "duration": 0.015232,
     "end_time": "2022-04-28T03:44:47.419501",
     "exception": false,
     "start_time": "2022-04-28T03:44:47.404269",
     "status": "completed"
    },
    "tags": []
   },
   "outputs": [],
   "source": []
  },
  {
   "cell_type": "code",
   "execution_count": null,
   "id": "romance-sweden",
   "metadata": {
    "papermill": {
     "duration": 0.01481,
     "end_time": "2022-04-28T03:44:47.451179",
     "exception": false,
     "start_time": "2022-04-28T03:44:47.436369",
     "status": "completed"
    },
    "tags": []
   },
   "outputs": [],
   "source": []
  },
  {
   "cell_type": "code",
   "execution_count": null,
   "id": "dietary-statistics",
   "metadata": {
    "papermill": {
     "duration": 0.014409,
     "end_time": "2022-04-28T03:44:47.480193",
     "exception": false,
     "start_time": "2022-04-28T03:44:47.465784",
     "status": "completed"
    },
    "tags": []
   },
   "outputs": [],
   "source": []
  }
 ],
 "metadata": {
  "kernelspec": {
   "display_name": "Python 3",
   "language": "python",
   "name": "python3"
  },
  "language_info": {
   "codemirror_mode": {
    "name": "ipython",
    "version": 3
   },
   "file_extension": ".py",
   "mimetype": "text/x-python",
   "name": "python",
   "nbconvert_exporter": "python",
   "pygments_lexer": "ipython3",
   "version": "3.6.15"
  },
  "papermill": {
   "default_parameters": {},
   "duration": 16.522237,
   "end_time": "2022-04-28T03:44:48.015880",
   "environment_variables": {},
   "exception": null,
   "input_path": "Market-News.ipynb",
   "output_path": "Market-News.ipynb",
   "parameters": {},
   "start_time": "2022-04-28T03:44:31.493643",
   "version": "2.2.2"
  }
 },
 "nbformat": 4,
 "nbformat_minor": 5
}