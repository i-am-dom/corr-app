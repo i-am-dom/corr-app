{
 "cells": [
  {
   "cell_type": "markdown",
   "id": "short-greensboro",
   "metadata": {
    "papermill": {
     "duration": 0.014752,
     "end_time": "2021-08-04T02:00:37.324978",
     "exception": false,
     "start_time": "2021-08-04T02:00:37.310226",
     "status": "completed"
    },
    "tags": []
   },
   "source": [
    "# Kriptovaliutų naujienos"
   ]
  },
  {
   "cell_type": "code",
   "execution_count": 1,
   "id": "functioning-knowing",
   "metadata": {
    "execution": {
     "iopub.execute_input": "2021-08-04T02:00:37.355975Z",
     "iopub.status.busy": "2021-08-04T02:00:37.355372Z",
     "iopub.status.idle": "2021-08-04T02:00:38.646713Z",
     "shell.execute_reply": "2021-08-04T02:00:38.645739Z"
    },
    "papermill": {
     "duration": 1.311406,
     "end_time": "2021-08-04T02:00:38.646866",
     "exception": false,
     "start_time": "2021-08-04T02:00:37.335460",
     "status": "completed"
    },
    "tags": []
   },
   "outputs": [],
   "source": [
    "#hide_input\n",
    "import warnings\n",
    "warnings.filterwarnings('ignore')\n",
    "from scripts.read_data import read_api\n",
    "from scripts.read_data import read_news\n",
    "from scripts.read_data import read_covid\n",
    "import matplotlib.pyplot as plt \n",
    "from IPython.display import Markdown as md"
   ]
  },
  {
   "cell_type": "code",
   "execution_count": 2,
   "id": "shared-acceptance",
   "metadata": {
    "execution": {
     "iopub.execute_input": "2021-08-04T02:00:38.673331Z",
     "iopub.status.busy": "2021-08-04T02:00:38.672259Z",
     "iopub.status.idle": "2021-08-04T02:00:46.176273Z",
     "shell.execute_reply": "2021-08-04T02:00:46.175310Z"
    },
    "papermill": {
     "duration": 7.519581,
     "end_time": "2021-08-04T02:00:46.176418",
     "exception": false,
     "start_time": "2021-08-04T02:00:38.656837",
     "status": "completed"
    },
    "tags": []
   },
   "outputs": [],
   "source": [
    "#hide_input\n",
    "blockchain = read_news('blockchain') \n",
    "btc = read_news('btc') \n",
    "xrp = read_news('xrp') \n",
    "trx = read_news('trx') \n",
    "eth = read_news('eth')  \n",
    "ada = read_news('ada')\n",
    "exchange = read_news('exchange') "
   ]
  },
  {
   "cell_type": "code",
   "execution_count": 3,
   "id": "synthetic-notion",
   "metadata": {
    "execution": {
     "iopub.execute_input": "2021-08-04T02:00:46.203389Z",
     "iopub.status.busy": "2021-08-04T02:00:46.202802Z",
     "iopub.status.idle": "2021-08-04T02:00:46.205924Z",
     "shell.execute_reply": "2021-08-04T02:00:46.205433Z"
    },
    "papermill": {
     "duration": 0.019318,
     "end_time": "2021-08-04T02:00:46.206035",
     "exception": false,
     "start_time": "2021-08-04T02:00:46.186717",
     "status": "completed"
    },
    "tags": []
   },
   "outputs": [
    {
     "data": {
      "text/markdown": [
       "- Ethereum Founder Vitalik Buterin Spotted With Hollywood Celebrities.  Ashton Kutcher recently released a video on Twitter featuring an in-depth explanation about Ethereum from the horse&#8217;s mouth. The discussion in the video is between Kutcher, his wife Mila Kunis, and Vitalik Buterin, the founder of Ethereum. Ashton is a venture capitalist and also an actor. His wife Mila Kunis is also an actress, and the couple has been active in crypto investment for the past eight years. According to a report about their participation, Mila once thought that bitcoin investment was simply horrible. But after a few years of using crypto, the actress said she was happy to be wrong. Related Reading &#124; Commercial Paper Reserves Of Tether Under Heavy Regulatory Scrutiny From what we gathered, the video aims to educate newcomers about Ethereum cryptocurrency. When the video started, we could see Kutcher asking Kunis to explain some basics of crypto and its underlying blockchain technology. Mila Kunis offered a short definition of both blockchain, crypto, and decentralization. Afterward, Kutcher asked Buterin, who was sitting at the right side of the table, to describe Ethereum. Then the Ethereum founder started to explain the crypto in an all-encompassing manner. ETH has been on an uptrend journey for the past week but now it's in the red zone as BTC falls &#124; Source: ETHUSD on TradingView.com He started from the fundamental components and mentioned the differences between the smart contracts protocol an... ... [| Skaityti daugiau](https://www.newsbtc.com/news/ethereum/ethereum-vitalik-buterin-hollywood-celebrities/) "
      ],
      "text/plain": [
       "<IPython.core.display.Markdown object>"
      ]
     },
     "execution_count": 3,
     "metadata": {},
     "output_type": "execute_result"
    }
   ],
   "source": [
    "#hide_input\n",
    "#md('##### {}'.format(titleBTC)) \n",
    "md(\"- {}{} {}{} [| Skaityti daugiau]({}) \".format(blockchain['title'],'. ', blockchain['body'], ' ...', blockchain['url']))"
   ]
  },
  {
   "cell_type": "code",
   "execution_count": 4,
   "id": "aging-caution",
   "metadata": {
    "execution": {
     "iopub.execute_input": "2021-08-04T02:00:46.231042Z",
     "iopub.status.busy": "2021-08-04T02:00:46.230469Z",
     "iopub.status.idle": "2021-08-04T02:00:46.233343Z",
     "shell.execute_reply": "2021-08-04T02:00:46.232770Z"
    },
    "papermill": {
     "duration": 0.017239,
     "end_time": "2021-08-04T02:00:46.233456",
     "exception": false,
     "start_time": "2021-08-04T02:00:46.216217",
     "status": "completed"
    },
    "tags": []
   },
   "outputs": [
    {
     "data": {
      "text/markdown": [
       "- Pantera boss: Upcoming Ethereum catalyst could cause ETH to outperform Bitcoin.  Dan Morehead, the Chief executive officer of Pantera Capital, an American hedge fund that focuses on crypto investments, has said that Ethereum could outperform Bitcoin in the near future. The post Pantera boss: Upcoming Ethereum catalyst could cause ETH to outperform Bitcoin appeared first on CryptoSlate. ... [| Skaityti daugiau](https://cryptoslate.com/pantera-boss-upcoming-ethereum-catalyst-will-cause-eth-and-defi-to-outperform-bitcoin/) "
      ],
      "text/plain": [
       "<IPython.core.display.Markdown object>"
      ]
     },
     "execution_count": 4,
     "metadata": {},
     "output_type": "execute_result"
    }
   ],
   "source": [
    "#hide_input\n",
    "#md('##### {}'.format(titleBTC)) \n",
    "md(\"- {}{} {}{} [| Skaityti daugiau]({}) \".format(btc['title'],'. ', btc['body'], ' ...', btc['url']))"
   ]
  },
  {
   "cell_type": "code",
   "execution_count": 5,
   "id": "organic-actress",
   "metadata": {
    "execution": {
     "iopub.execute_input": "2021-08-04T02:00:46.260983Z",
     "iopub.status.busy": "2021-08-04T02:00:46.260196Z",
     "iopub.status.idle": "2021-08-04T02:00:46.264783Z",
     "shell.execute_reply": "2021-08-04T02:00:46.265377Z"
    },
    "papermill": {
     "duration": 0.021256,
     "end_time": "2021-08-04T02:00:46.265507",
     "exception": false,
     "start_time": "2021-08-04T02:00:46.244251",
     "status": "completed"
    },
    "tags": []
   },
   "outputs": [
    {
     "data": {
      "text/markdown": [
       "- The best-case scenario will see XRP move to this price level.  Disclaimer: The findings of the following analysis are the sole opinions of the writer and should not be taken as investment advice While the altcoin market did see an extended rally, there was not much to write home about when it came to XRP&#8217;s movement. The altcoin seemed to settle within a tight channel after making [&#8230;] ... [| Skaityti daugiau](https://ambcrypto.com/the-best-case-scenario-will-see-xrp-move-to-this-price-level/) "
      ],
      "text/plain": [
       "<IPython.core.display.Markdown object>"
      ]
     },
     "execution_count": 5,
     "metadata": {},
     "output_type": "execute_result"
    }
   ],
   "source": [
    "#hide_input\n",
    "#md('##### {}'.format(titleBTC)) \n",
    "md(\"- {}{} {}{} [| Skaityti daugiau]({}) \".format(xrp['title'],'. ', xrp['body'], ' ...', xrp['url']))"
   ]
  },
  {
   "cell_type": "code",
   "execution_count": 6,
   "id": "prompt-farmer",
   "metadata": {
    "execution": {
     "iopub.execute_input": "2021-08-04T02:00:46.292599Z",
     "iopub.status.busy": "2021-08-04T02:00:46.290906Z",
     "iopub.status.idle": "2021-08-04T02:00:46.295047Z",
     "shell.execute_reply": "2021-08-04T02:00:46.295590Z"
    },
    "papermill": {
     "duration": 0.019287,
     "end_time": "2021-08-04T02:00:46.295715",
     "exception": false,
     "start_time": "2021-08-04T02:00:46.276428",
     "status": "completed"
    },
    "tags": []
   },
   "outputs": [
    {
     "data": {
      "text/markdown": [
       "- Tron, Ethereum Classic, Dogecoin Price Analysis: 03 August.  As the total market volume fell by nearly 8% in 24 hours, the price of Ethereum Classic remained unaffected by larger market movements. TRX gently dipped in value as it traded close to its support level. Dogecoin’s charts depicted a downtrend after price consolidation. Tron (TRX) TRX/USD, Trading View At the time of writing, TRX [&#8230;] ... [| Skaityti daugiau](https://ambcrypto.com/tron-ethereum-classic-dogecoin-price-analysis-03-august/) "
      ],
      "text/plain": [
       "<IPython.core.display.Markdown object>"
      ]
     },
     "execution_count": 6,
     "metadata": {},
     "output_type": "execute_result"
    }
   ],
   "source": [
    "#hide_input\n",
    "#md('##### {}'.format(titleBTC)) \n",
    "md(\"- {}{} {}{} [| Skaityti daugiau]({}) \".format(trx['title'],'. ', trx['body'], ' ...', trx['url']))"
   ]
  },
  {
   "cell_type": "code",
   "execution_count": 7,
   "id": "illegal-greece",
   "metadata": {
    "execution": {
     "iopub.execute_input": "2021-08-04T02:00:46.324269Z",
     "iopub.status.busy": "2021-08-04T02:00:46.323679Z",
     "iopub.status.idle": "2021-08-04T02:00:46.327122Z",
     "shell.execute_reply": "2021-08-04T02:00:46.326634Z"
    },
    "papermill": {
     "duration": 0.019919,
     "end_time": "2021-08-04T02:00:46.327224",
     "exception": false,
     "start_time": "2021-08-04T02:00:46.307305",
     "status": "completed"
    },
    "tags": []
   },
   "outputs": [
    {
     "data": {
      "text/markdown": [
       "- Pantera boss: Upcoming Ethereum catalyst could cause ETH to outperform Bitcoin.  Dan Morehead, the Chief executive officer of Pantera Capital, an American hedge fund that focuses on crypto investments, has said that Ethereum could outperform Bitcoin in the near future. The post Pantera boss: Upcoming Ethereum catalyst could cause ETH to outperform Bitcoin appeared first on CryptoSlate. ... [| Skaityti daugiau](https://cryptoslate.com/pantera-boss-upcoming-ethereum-catalyst-will-cause-eth-and-defi-to-outperform-bitcoin/) "
      ],
      "text/plain": [
       "<IPython.core.display.Markdown object>"
      ]
     },
     "execution_count": 7,
     "metadata": {},
     "output_type": "execute_result"
    }
   ],
   "source": [
    "#hide_input\n",
    "#md('##### {}'.format(titleBTC)) \n",
    "md(\"- {}{} {}{} [| Skaityti daugiau]({}) \".format(eth['title'],'. ', eth['body'], ' ...', eth['url']))"
   ]
  },
  {
   "cell_type": "code",
   "execution_count": 8,
   "id": "sublime-lounge",
   "metadata": {
    "execution": {
     "iopub.execute_input": "2021-08-04T02:00:46.357661Z",
     "iopub.status.busy": "2021-08-04T02:00:46.357059Z",
     "iopub.status.idle": "2021-08-04T02:00:46.359834Z",
     "shell.execute_reply": "2021-08-04T02:00:46.360294Z"
    },
    "papermill": {
     "duration": 0.021259,
     "end_time": "2021-08-04T02:00:46.360441",
     "exception": false,
     "start_time": "2021-08-04T02:00:46.339182",
     "status": "completed"
    },
    "tags": []
   },
   "outputs": [
    {
     "data": {
      "text/markdown": [
       "- Altcoins ADA, VGX, and LUNA Charts Uptrend as Bitcoin Takes a Loss.  The broader digital currency ecosystem is experiencing a mixed price reaction as some altcoins have charted a different path from Bitcoin which is currently trading at a loss. At press time, Bitcoin is changing hands at $38,055.09, down 4.26% in the past 24 hours according to CoinMarketCap. A brewing volatility war that was ignited over The post Altcoins ADA, VGX, and LUNA Charts Uptrend as Bitcoin Takes a Loss appeared first on Coingape. ... [| Skaityti daugiau](https://coingape.com/altcoins-ada-vgx-and-luna-charts-uptrend-as-bitcoin-takes-a-loss/) "
      ],
      "text/plain": [
       "<IPython.core.display.Markdown object>"
      ]
     },
     "execution_count": 8,
     "metadata": {},
     "output_type": "execute_result"
    }
   ],
   "source": [
    "#hide_input\n",
    "#md('##### {}'.format(titleBTC)) \n",
    "md(\"- {}{} {}{} [| Skaityti daugiau]({}) \".format(ada['title'],'. ', ada['body'], ' ...', ada['url']))"
   ]
  },
  {
   "cell_type": "code",
   "execution_count": 9,
   "id": "specified-ordering",
   "metadata": {
    "execution": {
     "iopub.execute_input": "2021-08-04T02:00:46.389979Z",
     "iopub.status.busy": "2021-08-04T02:00:46.389404Z",
     "iopub.status.idle": "2021-08-04T02:00:46.395161Z",
     "shell.execute_reply": "2021-08-04T02:00:46.394664Z"
    },
    "papermill": {
     "duration": 0.022545,
     "end_time": "2021-08-04T02:00:46.395272",
     "exception": false,
     "start_time": "2021-08-04T02:00:46.372727",
     "status": "completed"
    },
    "tags": []
   },
   "outputs": [
    {
     "data": {
      "text/markdown": [
       "- Google running crypto ads again as new policy goes into effect.  Under Google’s new policy that went into effect on August 3, advertisers offering cryptocurrency exchange and wallet services are once again allowed to market their products.  ... [| Skaityti daugiau](https://cointelegraph.com/news/google-running-crypto-ads-again-as-new-policy-goes-into-effect) "
      ],
      "text/plain": [
       "<IPython.core.display.Markdown object>"
      ]
     },
     "execution_count": 9,
     "metadata": {},
     "output_type": "execute_result"
    }
   ],
   "source": [
    "#hide_input\n",
    "#md('##### {}'.format(titleBTC)) \n",
    "md(\"- {}{} {}{} [| Skaityti daugiau]({}) \".format(exchange['title'],'. ', exchange['body'], ' ...', exchange['url']))"
   ]
  },
  {
   "cell_type": "code",
   "execution_count": null,
   "id": "tender-livestock",
   "metadata": {
    "papermill": {
     "duration": 0.012297,
     "end_time": "2021-08-04T02:00:46.420219",
     "exception": false,
     "start_time": "2021-08-04T02:00:46.407922",
     "status": "completed"
    },
    "tags": []
   },
   "outputs": [],
   "source": []
  },
  {
   "cell_type": "code",
   "execution_count": null,
   "id": "appreciated-diamond",
   "metadata": {
    "papermill": {
     "duration": 0.017068,
     "end_time": "2021-08-04T02:00:46.450986",
     "exception": false,
     "start_time": "2021-08-04T02:00:46.433918",
     "status": "completed"
    },
    "tags": []
   },
   "outputs": [],
   "source": []
  },
  {
   "cell_type": "code",
   "execution_count": null,
   "id": "romance-sweden",
   "metadata": {
    "papermill": {
     "duration": 0.012478,
     "end_time": "2021-08-04T02:00:46.476204",
     "exception": false,
     "start_time": "2021-08-04T02:00:46.463726",
     "status": "completed"
    },
    "tags": []
   },
   "outputs": [],
   "source": []
  },
  {
   "cell_type": "code",
   "execution_count": null,
   "id": "dietary-statistics",
   "metadata": {
    "papermill": {
     "duration": 0.01247,
     "end_time": "2021-08-04T02:00:46.501247",
     "exception": false,
     "start_time": "2021-08-04T02:00:46.488777",
     "status": "completed"
    },
    "tags": []
   },
   "outputs": [],
   "source": []
  }
 ],
 "metadata": {
  "kernelspec": {
   "display_name": "Python 3",
   "language": "python",
   "name": "python3"
  },
  "language_info": {
   "codemirror_mode": {
    "name": "ipython",
    "version": 3
   },
   "file_extension": ".py",
   "mimetype": "text/x-python",
   "name": "python",
   "nbconvert_exporter": "python",
   "pygments_lexer": "ipython3",
   "version": "3.6.14"
  },
  "papermill": {
   "default_parameters": {},
   "duration": 10.678184,
   "end_time": "2021-08-04T02:00:46.923226",
   "environment_variables": {},
   "exception": null,
   "input_path": "Market-News.ipynb",
   "output_path": "Market-News.ipynb",
   "parameters": {},
   "start_time": "2021-08-04T02:00:36.245042",
   "version": "2.2.2"
  }
 },
 "nbformat": 4,
 "nbformat_minor": 5
}