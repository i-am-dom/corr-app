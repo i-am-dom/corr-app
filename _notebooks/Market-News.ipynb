{
 "cells": [
  {
   "cell_type": "markdown",
   "id": "short-greensboro",
   "metadata": {
    "papermill": {
     "duration": 0.014889,
     "end_time": "2021-07-27T02:05:27.969909",
     "exception": false,
     "start_time": "2021-07-27T02:05:27.955020",
     "status": "completed"
    },
    "tags": []
   },
   "source": [
    "# Kriptovaliutų naujienos"
   ]
  },
  {
   "cell_type": "code",
   "execution_count": 1,
   "id": "functioning-knowing",
   "metadata": {
    "execution": {
     "iopub.execute_input": "2021-07-27T02:05:27.999823Z",
     "iopub.status.busy": "2021-07-27T02:05:27.999125Z",
     "iopub.status.idle": "2021-07-27T02:05:29.311992Z",
     "shell.execute_reply": "2021-07-27T02:05:29.312493Z"
    },
    "papermill": {
     "duration": 1.331737,
     "end_time": "2021-07-27T02:05:29.312676",
     "exception": false,
     "start_time": "2021-07-27T02:05:27.980939",
     "status": "completed"
    },
    "tags": []
   },
   "outputs": [],
   "source": [
    "#hide_input\n",
    "import warnings\n",
    "warnings.filterwarnings('ignore')\n",
    "from scripts.read_data import read_api\n",
    "from scripts.read_data import read_news\n",
    "from scripts.read_data import read_covid\n",
    "import matplotlib.pyplot as plt \n",
    "from IPython.display import Markdown as md"
   ]
  },
  {
   "cell_type": "code",
   "execution_count": 2,
   "id": "shared-acceptance",
   "metadata": {
    "execution": {
     "iopub.execute_input": "2021-07-27T02:05:29.340049Z",
     "iopub.status.busy": "2021-07-27T02:05:29.339460Z",
     "iopub.status.idle": "2021-07-27T02:05:38.463492Z",
     "shell.execute_reply": "2021-07-27T02:05:38.462969Z"
    },
    "papermill": {
     "duration": 9.140122,
     "end_time": "2021-07-27T02:05:38.463628",
     "exception": false,
     "start_time": "2021-07-27T02:05:29.323506",
     "status": "completed"
    },
    "tags": []
   },
   "outputs": [],
   "source": [
    "#hide_input\n",
    "blockchain = read_news('blockchain') \n",
    "btc = read_news('btc') \n",
    "xrp = read_news('xrp') \n",
    "trx = read_news('trx') \n",
    "eth = read_news('eth')  \n",
    "ada = read_news('ada')\n",
    "exchange = read_news('exchange') "
   ]
  },
  {
   "cell_type": "code",
   "execution_count": 3,
   "id": "synthetic-notion",
   "metadata": {
    "execution": {
     "iopub.execute_input": "2021-07-27T02:05:38.497425Z",
     "iopub.status.busy": "2021-07-27T02:05:38.494338Z",
     "iopub.status.idle": "2021-07-27T02:05:38.499031Z",
     "shell.execute_reply": "2021-07-27T02:05:38.499510Z"
    },
    "papermill": {
     "duration": 0.024593,
     "end_time": "2021-07-27T02:05:38.499636",
     "exception": false,
     "start_time": "2021-07-27T02:05:38.475043",
     "status": "completed"
    },
    "tags": []
   },
   "outputs": [
    {
     "data": {
      "text/markdown": [
       "- A Comprehensive Review of the NuGenesis Network (Part 1 of 6).  The new player on the block, a blockchain that is taking the world of technology by storm. Many people have heard of Polkadot, Cardano, Ripple, Ethereum, Solana and Matic. However, few are yet to learn about one of the oldest established blockchains and systems that has proven to be the leader of innovation. A network [&#8230;]The post A Comprehensive Review of the NuGenesis Network (Part 1 of 6) appeared first on NullTX. ... [| Skaityti daugiau](https://nulltx.com/a-comprehensive-review-of-the-nugenesis-network-part-1-of-6/) "
      ],
      "text/plain": [
       "<IPython.core.display.Markdown object>"
      ]
     },
     "execution_count": 3,
     "metadata": {},
     "output_type": "execute_result"
    }
   ],
   "source": [
    "#hide_input\n",
    "#md('##### {}'.format(titleBTC)) \n",
    "md(\"- {}{} {}{} [| Skaityti daugiau]({}) \".format(blockchain['title'],'. ', blockchain['body'], ' ...', blockchain['url']))"
   ]
  },
  {
   "cell_type": "code",
   "execution_count": 4,
   "id": "aging-caution",
   "metadata": {
    "execution": {
     "iopub.execute_input": "2021-07-27T02:05:38.527143Z",
     "iopub.status.busy": "2021-07-27T02:05:38.526528Z",
     "iopub.status.idle": "2021-07-27T02:05:38.530183Z",
     "shell.execute_reply": "2021-07-27T02:05:38.530733Z"
    },
    "papermill": {
     "duration": 0.020402,
     "end_time": "2021-07-27T02:05:38.530888",
     "exception": false,
     "start_time": "2021-07-27T02:05:38.510486",
     "status": "completed"
    },
    "tags": []
   },
   "outputs": [
    {
     "data": {
      "text/markdown": [
       "- What are the odds of Bitcoin surpassing $50k.  The crypto market has gained a significant amount of traction in Singapore, especially among younger investors. The major catalyst for confidence in cryptocurrencies, in Singapore, has been the transparency regarding local regulation and taxation issues. It&#8217;s no surprise that several cryptocurrency exchange platforms either desire to or have already based their operations in this region. [&#8230;] ... [| Skaityti daugiau](https://ambcrypto.com/what-are-the-odds-of-bitcoin-surpassing-50k/) "
      ],
      "text/plain": [
       "<IPython.core.display.Markdown object>"
      ]
     },
     "execution_count": 4,
     "metadata": {},
     "output_type": "execute_result"
    }
   ],
   "source": [
    "#hide_input\n",
    "#md('##### {}'.format(titleBTC)) \n",
    "md(\"- {}{} {}{} [| Skaityti daugiau]({}) \".format(btc['title'],'. ', btc['body'], ' ...', btc['url']))"
   ]
  },
  {
   "cell_type": "code",
   "execution_count": 5,
   "id": "organic-actress",
   "metadata": {
    "execution": {
     "iopub.execute_input": "2021-07-27T02:05:38.561855Z",
     "iopub.status.busy": "2021-07-27T02:05:38.560851Z",
     "iopub.status.idle": "2021-07-27T02:05:38.564388Z",
     "shell.execute_reply": "2021-07-27T02:05:38.562976Z"
    },
    "papermill": {
     "duration": 0.022674,
     "end_time": "2021-07-27T02:05:38.564503",
     "exception": false,
     "start_time": "2021-07-27T02:05:38.541829",
     "status": "completed"
    },
    "tags": []
   },
   "outputs": [
    {
     "data": {
      "text/markdown": [
       "- A Comprehensive Review of the NuGenesis Network (Part 1 of 6).  The new player on the block, a blockchain that is taking the world of technology by storm. Many people have heard of Polkadot, Cardano, Ripple, Ethereum, Solana and Matic. However, few are yet to learn about one of the oldest established blockchains and systems that has proven to be the leader of innovation. A network [&#8230;]The post A Comprehensive Review of the NuGenesis Network (Part 1 of 6) appeared first on NullTX. ... [| Skaityti daugiau](https://nulltx.com/a-comprehensive-review-of-the-nugenesis-network-part-1-of-6/) "
      ],
      "text/plain": [
       "<IPython.core.display.Markdown object>"
      ]
     },
     "execution_count": 5,
     "metadata": {},
     "output_type": "execute_result"
    }
   ],
   "source": [
    "#hide_input\n",
    "#md('##### {}'.format(titleBTC)) \n",
    "md(\"- {}{} {}{} [| Skaityti daugiau]({}) \".format(xrp['title'],'. ', xrp['body'], ' ...', xrp['url']))"
   ]
  },
  {
   "cell_type": "code",
   "execution_count": 6,
   "id": "prompt-farmer",
   "metadata": {
    "execution": {
     "iopub.execute_input": "2021-07-27T02:05:38.595680Z",
     "iopub.status.busy": "2021-07-27T02:05:38.595036Z",
     "iopub.status.idle": "2021-07-27T02:05:38.597713Z",
     "shell.execute_reply": "2021-07-27T02:05:38.598260Z"
    },
    "papermill": {
     "duration": 0.019618,
     "end_time": "2021-07-27T02:05:38.598390",
     "exception": false,
     "start_time": "2021-07-27T02:05:38.578772",
     "status": "completed"
    },
    "tags": []
   },
   "outputs": [
    {
     "data": {
      "text/markdown": [
       "- Ethereum, TRON, VeChain Price Analysis: 24 July.  After a period of intense volatility, the crypto-market rallied briefly followed by a period of consolidation. The broader crypto-market remained indecisive, however, and the industry’s altcoins underlined the same. Despite noting considerable gains, Tron was trading in the red, at press time. It might go on a downtrend if the price doesn&#8217;t shoot up over [&#8230;] ... [| Skaityti daugiau](https://ambcrypto.com/ethereum-tron-vechain-price-analysis-24-july/) "
      ],
      "text/plain": [
       "<IPython.core.display.Markdown object>"
      ]
     },
     "execution_count": 6,
     "metadata": {},
     "output_type": "execute_result"
    }
   ],
   "source": [
    "#hide_input\n",
    "#md('##### {}'.format(titleBTC)) \n",
    "md(\"- {}{} {}{} [| Skaityti daugiau]({}) \".format(trx['title'],'. ', trx['body'], ' ...', trx['url']))"
   ]
  },
  {
   "cell_type": "code",
   "execution_count": 7,
   "id": "illegal-greece",
   "metadata": {
    "execution": {
     "iopub.execute_input": "2021-07-27T02:05:38.627910Z",
     "iopub.status.busy": "2021-07-27T02:05:38.626780Z",
     "iopub.status.idle": "2021-07-27T02:05:38.630724Z",
     "shell.execute_reply": "2021-07-27T02:05:38.631307Z"
    },
    "papermill": {
     "duration": 0.020457,
     "end_time": "2021-07-27T02:05:38.631439",
     "exception": false,
     "start_time": "2021-07-27T02:05:38.610982",
     "status": "completed"
    },
    "tags": []
   },
   "outputs": [
    {
     "data": {
      "text/markdown": [
       "- A Comprehensive Review of the NuGenesis Network (Part 1 of 6).  The new player on the block, a blockchain that is taking the world of technology by storm. Many people have heard of Polkadot, Cardano, Ripple, Ethereum, Solana and Matic. However, few are yet to learn about one of the oldest established blockchains and systems that has proven to be the leader of innovation. A network [&#8230;]The post A Comprehensive Review of the NuGenesis Network (Part 1 of 6) appeared first on NullTX. ... [| Skaityti daugiau](https://nulltx.com/a-comprehensive-review-of-the-nugenesis-network-part-1-of-6/) "
      ],
      "text/plain": [
       "<IPython.core.display.Markdown object>"
      ]
     },
     "execution_count": 7,
     "metadata": {},
     "output_type": "execute_result"
    }
   ],
   "source": [
    "#hide_input\n",
    "#md('##### {}'.format(titleBTC)) \n",
    "md(\"- {}{} {}{} [| Skaityti daugiau]({}) \".format(eth['title'],'. ', eth['body'], ' ...', eth['url']))"
   ]
  },
  {
   "cell_type": "code",
   "execution_count": 8,
   "id": "sublime-lounge",
   "metadata": {
    "execution": {
     "iopub.execute_input": "2021-07-27T02:05:38.661144Z",
     "iopub.status.busy": "2021-07-27T02:05:38.660081Z",
     "iopub.status.idle": "2021-07-27T02:05:38.664253Z",
     "shell.execute_reply": "2021-07-27T02:05:38.664736Z"
    },
    "papermill": {
     "duration": 0.020313,
     "end_time": "2021-07-27T02:05:38.664872",
     "exception": false,
     "start_time": "2021-07-27T02:05:38.644559",
     "status": "completed"
    },
    "tags": []
   },
   "outputs": [
    {
     "data": {
      "text/markdown": [
       "- A Comprehensive Review of the NuGenesis Network (Part 1 of 6).  The new player on the block, a blockchain that is taking the world of technology by storm. Many people have heard of Polkadot, Cardano, Ripple, Ethereum, Solana and Matic. However, few are yet to learn about one of the oldest established blockchains and systems that has proven to be the leader of innovation. A network [&#8230;]The post A Comprehensive Review of the NuGenesis Network (Part 1 of 6) appeared first on NullTX. ... [| Skaityti daugiau](https://nulltx.com/a-comprehensive-review-of-the-nugenesis-network-part-1-of-6/) "
      ],
      "text/plain": [
       "<IPython.core.display.Markdown object>"
      ]
     },
     "execution_count": 8,
     "metadata": {},
     "output_type": "execute_result"
    }
   ],
   "source": [
    "#hide_input\n",
    "#md('##### {}'.format(titleBTC)) \n",
    "md(\"- {}{} {}{} [| Skaityti daugiau]({}) \".format(ada['title'],'. ', ada['body'], ' ...', ada['url']))"
   ]
  },
  {
   "cell_type": "code",
   "execution_count": 9,
   "id": "specified-ordering",
   "metadata": {
    "execution": {
     "iopub.execute_input": "2021-07-27T02:05:38.694340Z",
     "iopub.status.busy": "2021-07-27T02:05:38.693273Z",
     "iopub.status.idle": "2021-07-27T02:05:38.697255Z",
     "shell.execute_reply": "2021-07-27T02:05:38.697929Z"
    },
    "papermill": {
     "duration": 0.020674,
     "end_time": "2021-07-27T02:05:38.698062",
     "exception": false,
     "start_time": "2021-07-27T02:05:38.677388",
     "status": "completed"
    },
    "tags": []
   },
   "outputs": [
    {
     "data": {
      "text/markdown": [
       "- What are the odds of Bitcoin surpassing $50k.  The crypto market has gained a significant amount of traction in Singapore, especially among younger investors. The major catalyst for confidence in cryptocurrencies, in Singapore, has been the transparency regarding local regulation and taxation issues. It&#8217;s no surprise that several cryptocurrency exchange platforms either desire to or have already based their operations in this region. [&#8230;] ... [| Skaityti daugiau](https://ambcrypto.com/what-are-the-odds-of-bitcoin-surpassing-50k/) "
      ],
      "text/plain": [
       "<IPython.core.display.Markdown object>"
      ]
     },
     "execution_count": 9,
     "metadata": {},
     "output_type": "execute_result"
    }
   ],
   "source": [
    "#hide_input\n",
    "#md('##### {}'.format(titleBTC)) \n",
    "md(\"- {}{} {}{} [| Skaityti daugiau]({}) \".format(exchange['title'],'. ', exchange['body'], ' ...', exchange['url']))"
   ]
  },
  {
   "cell_type": "code",
   "execution_count": null,
   "id": "tender-livestock",
   "metadata": {
    "papermill": {
     "duration": 0.017034,
     "end_time": "2021-07-27T02:05:38.730557",
     "exception": false,
     "start_time": "2021-07-27T02:05:38.713523",
     "status": "completed"
    },
    "tags": []
   },
   "outputs": [],
   "source": []
  },
  {
   "cell_type": "code",
   "execution_count": null,
   "id": "appreciated-diamond",
   "metadata": {
    "papermill": {
     "duration": 0.014431,
     "end_time": "2021-07-27T02:05:38.759966",
     "exception": false,
     "start_time": "2021-07-27T02:05:38.745535",
     "status": "completed"
    },
    "tags": []
   },
   "outputs": [],
   "source": []
  },
  {
   "cell_type": "code",
   "execution_count": null,
   "id": "romance-sweden",
   "metadata": {
    "papermill": {
     "duration": 0.020121,
     "end_time": "2021-07-27T02:05:38.797734",
     "exception": false,
     "start_time": "2021-07-27T02:05:38.777613",
     "status": "completed"
    },
    "tags": []
   },
   "outputs": [],
   "source": []
  },
  {
   "cell_type": "code",
   "execution_count": null,
   "id": "dietary-statistics",
   "metadata": {
    "papermill": {
     "duration": 0.013256,
     "end_time": "2021-07-27T02:05:38.824373",
     "exception": false,
     "start_time": "2021-07-27T02:05:38.811117",
     "status": "completed"
    },
    "tags": []
   },
   "outputs": [],
   "source": []
  }
 ],
 "metadata": {
  "kernelspec": {
   "display_name": "Python 3",
   "language": "python",
   "name": "python3"
  },
  "language_info": {
   "codemirror_mode": {
    "name": "ipython",
    "version": 3
   },
   "file_extension": ".py",
   "mimetype": "text/x-python",
   "name": "python",
   "nbconvert_exporter": "python",
   "pygments_lexer": "ipython3",
   "version": "3.6.14"
  },
  "papermill": {
   "default_parameters": {},
   "duration": 13.283005,
   "end_time": "2021-07-27T02:05:40.196166",
   "environment_variables": {},
   "exception": null,
   "input_path": "Market-News.ipynb",
   "output_path": "Market-News.ipynb",
   "parameters": {},
   "start_time": "2021-07-27T02:05:26.913161",
   "version": "2.2.2"
  }
 },
 "nbformat": 4,
 "nbformat_minor": 5
}