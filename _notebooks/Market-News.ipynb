{
 "cells": [
  {
   "cell_type": "markdown",
   "id": "short-greensboro",
   "metadata": {
    "papermill": {
     "duration": 0.01166,
     "end_time": "2022-05-05T02:57:29.851206",
     "exception": false,
     "start_time": "2022-05-05T02:57:29.839546",
     "status": "completed"
    },
    "tags": []
   },
   "source": [
    "# Kriptovaliutų naujienos"
   ]
  },
  {
   "cell_type": "code",
   "execution_count": 1,
   "id": "functioning-knowing",
   "metadata": {
    "execution": {
     "iopub.execute_input": "2022-05-05T02:57:29.877776Z",
     "iopub.status.busy": "2022-05-05T02:57:29.877297Z",
     "iopub.status.idle": "2022-05-05T02:57:30.974102Z",
     "shell.execute_reply": "2022-05-05T02:57:30.973560Z"
    },
    "papermill": {
     "duration": 1.114464,
     "end_time": "2022-05-05T02:57:30.974265",
     "exception": false,
     "start_time": "2022-05-05T02:57:29.859801",
     "status": "completed"
    },
    "tags": []
   },
   "outputs": [],
   "source": [
    "#hide_input\n",
    "import warnings\n",
    "warnings.filterwarnings('ignore')\n",
    "from scripts.read_data import read_api\n",
    "from scripts.read_data import read_news\n",
    "from scripts.read_data import read_covid\n",
    "import matplotlib.pyplot as plt \n",
    "from IPython.display import Markdown as md"
   ]
  },
  {
   "cell_type": "code",
   "execution_count": 2,
   "id": "shared-acceptance",
   "metadata": {
    "execution": {
     "iopub.execute_input": "2022-05-05T02:57:30.997930Z",
     "iopub.status.busy": "2022-05-05T02:57:30.997462Z",
     "iopub.status.idle": "2022-05-05T02:57:41.874863Z",
     "shell.execute_reply": "2022-05-05T02:57:41.874227Z"
    },
    "papermill": {
     "duration": 10.891246,
     "end_time": "2022-05-05T02:57:41.874983",
     "exception": false,
     "start_time": "2022-05-05T02:57:30.983737",
     "status": "completed"
    },
    "tags": []
   },
   "outputs": [],
   "source": [
    "#hide_input\n",
    "blockchain = read_news('blockchain') \n",
    "btc = read_news('btc') \n",
    "xrp = read_news('xrp') \n",
    "trx = read_news('trx') \n",
    "eth = read_news('eth')  \n",
    "ada = read_news('ada')\n",
    "exchange = read_news('exchange') "
   ]
  },
  {
   "cell_type": "code",
   "execution_count": 3,
   "id": "synthetic-notion",
   "metadata": {
    "execution": {
     "iopub.execute_input": "2022-05-05T02:57:41.896905Z",
     "iopub.status.busy": "2022-05-05T02:57:41.896424Z",
     "iopub.status.idle": "2022-05-05T02:57:41.898793Z",
     "shell.execute_reply": "2022-05-05T02:57:41.899134Z"
    },
    "papermill": {
     "duration": 0.015959,
     "end_time": "2022-05-05T02:57:41.899253",
     "exception": false,
     "start_time": "2022-05-05T02:57:41.883294",
     "status": "completed"
    },
    "tags": []
   },
   "outputs": [
    {
     "data": {
      "text/markdown": [
       "- Retail Interest in Cardano ($ADA) Is ‘Rapidly Rising’, Data Shows.  Retail interest in Cardano ($ADA) is “rapidly increasing” as in the last 30 days addresses holding for less than 30 days – defined as traders on the blockchain – have increased their holdings by 186%. According to data from analytics firm IntoTheBlock, these trader addresses now collectively hold 36.14% of the cryptocurrency’s supply after heavily […] ... [| Skaityti daugiau](https://www.cryptoglobe.com/latest/2022/05/retail-interest-in-cardano-ada-is-rapidly-rising-data-shows/) "
      ],
      "text/plain": [
       "<IPython.core.display.Markdown object>"
      ]
     },
     "execution_count": 3,
     "metadata": {},
     "output_type": "execute_result"
    }
   ],
   "source": [
    "#hide_input\n",
    "#md('##### {}'.format(titleBTC)) \n",
    "md(\"- {}{} {}{} [| Skaityti daugiau]({}) \".format(blockchain['title'],'. ', blockchain['body'], ' ...', blockchain['url']))"
   ]
  },
  {
   "cell_type": "code",
   "execution_count": 4,
   "id": "aging-caution",
   "metadata": {
    "execution": {
     "iopub.execute_input": "2022-05-05T02:57:41.920565Z",
     "iopub.status.busy": "2022-05-05T02:57:41.919975Z",
     "iopub.status.idle": "2022-05-05T02:57:41.922159Z",
     "shell.execute_reply": "2022-05-05T02:57:41.922625Z"
    },
    "papermill": {
     "duration": 0.015301,
     "end_time": "2022-05-05T02:57:41.922764",
     "exception": false,
     "start_time": "2022-05-05T02:57:41.907463",
     "status": "completed"
    },
    "tags": []
   },
   "outputs": [
    {
     "data": {
      "text/markdown": [
       "- Bitcoin Bear Market To Continue In Q2 and Q3. BTC Price Might Revisit This Lower Level.  The post Bitcoin Bear Market To Continue In Q2 and Q3. BTC Price Might Revisit This Lower Level appeared first on Coinpedia - Fintech &amp; Cryptocurreny News Media| Crypto GuideAfter achieving an all-time high (ATH) of $69K last year, bitcoin and the rest of the cryptocurrency market have been gloomy for the following six months. While the prices are depressing for many, it has led to speculation about how long the downward trend will continue. The leading crypto asset has lost 45 percent since &#8230; ... [| Skaityti daugiau](https://coinpedia.org/bitcoin/bitcoin-bear-market-to-continue-in-q2-and-q3-btc-price-might-revisit-this-lower-level/) "
      ],
      "text/plain": [
       "<IPython.core.display.Markdown object>"
      ]
     },
     "execution_count": 4,
     "metadata": {},
     "output_type": "execute_result"
    }
   ],
   "source": [
    "#hide_input\n",
    "#md('##### {}'.format(titleBTC)) \n",
    "md(\"- {}{} {}{} [| Skaityti daugiau]({}) \".format(btc['title'],'. ', btc['body'], ' ...', btc['url']))"
   ]
  },
  {
   "cell_type": "code",
   "execution_count": 5,
   "id": "organic-actress",
   "metadata": {
    "execution": {
     "iopub.execute_input": "2022-05-05T02:57:41.945123Z",
     "iopub.status.busy": "2022-05-05T02:57:41.944664Z",
     "iopub.status.idle": "2022-05-05T02:57:41.947723Z",
     "shell.execute_reply": "2022-05-05T02:57:41.947333Z"
    },
    "papermill": {
     "duration": 0.015816,
     "end_time": "2022-05-05T02:57:41.947823",
     "exception": false,
     "start_time": "2022-05-05T02:57:41.932007",
     "status": "completed"
    },
    "tags": []
   },
   "outputs": [
    {
     "data": {
      "text/markdown": [
       "- Bitcoin & Crypto Markets: Is Institutional Money Flowing Out This Year?.  While 2021 was the year when institutional money began flowing into the crypto market on a large scale, 2022 hasn’t been the same. According to data from Coinshares, the overall digital asset fund outflows for last week totaled $120 million, bringing total monthly outflows to $339 million in April. Fund flow data reveals that Bitcoin [&#8230;]The post Bitcoin &#038; Crypto Markets: Is Institutional Money Flowing Out This Year?  appeared first on Vauld Insights. ... [| Skaityti daugiau](https://www.vauld.com/insights/bitcoin-crypto-markets-is-institutional-money-flowing-out-this-year/?utm_source=rss&utm_medium=rss&utm_campaign=bitcoin-crypto-markets-is-institutional-money-flowing-out-this-year) "
      ],
      "text/plain": [
       "<IPython.core.display.Markdown object>"
      ]
     },
     "execution_count": 5,
     "metadata": {},
     "output_type": "execute_result"
    }
   ],
   "source": [
    "#hide_input\n",
    "#md('##### {}'.format(titleBTC)) \n",
    "md(\"- {}{} {}{} [| Skaityti daugiau]({}) \".format(xrp['title'],'. ', xrp['body'], ' ...', xrp['url']))"
   ]
  },
  {
   "cell_type": "code",
   "execution_count": 6,
   "id": "prompt-farmer",
   "metadata": {
    "execution": {
     "iopub.execute_input": "2022-05-05T02:57:41.969606Z",
     "iopub.status.busy": "2022-05-05T02:57:41.969153Z",
     "iopub.status.idle": "2022-05-05T02:57:41.972149Z",
     "shell.execute_reply": "2022-05-05T02:57:41.971786Z"
    },
    "papermill": {
     "duration": 0.015601,
     "end_time": "2022-05-05T02:57:41.972245",
     "exception": false,
     "start_time": "2022-05-05T02:57:41.956644",
     "status": "completed"
    },
    "tags": []
   },
   "outputs": [
    {
     "data": {
      "text/markdown": [
       "- Biggest Movers: Tron Climbs to 5-Month High, With WAVES up 15%.  Tron (TRX) rallied to a five-month high earlier in today&#x2019;s session, as bulls continued to feed off recent news of the USDD stablecoin. While TRX climbed to multi-month highs, WAVES moved away from a two-month low today, as prices surged by as much as 15%. Tron (TRX) May the 4th was definitely with Tron on [&#8230;] ... [| Skaityti daugiau](https://news.bitcoin.com/biggest-movers-tron-climbs-to-5-month-high-with-waves-up-15/) "
      ],
      "text/plain": [
       "<IPython.core.display.Markdown object>"
      ]
     },
     "execution_count": 6,
     "metadata": {},
     "output_type": "execute_result"
    }
   ],
   "source": [
    "#hide_input\n",
    "#md('##### {}'.format(titleBTC)) \n",
    "md(\"- {}{} {}{} [| Skaityti daugiau]({}) \".format(trx['title'],'. ', trx['body'], ' ...', trx['url']))"
   ]
  },
  {
   "cell_type": "code",
   "execution_count": 7,
   "id": "illegal-greece",
   "metadata": {
    "execution": {
     "iopub.execute_input": "2022-05-05T02:57:41.994177Z",
     "iopub.status.busy": "2022-05-05T02:57:41.993703Z",
     "iopub.status.idle": "2022-05-05T02:57:41.996243Z",
     "shell.execute_reply": "2022-05-05T02:57:41.996677Z"
    },
    "papermill": {
     "duration": 0.015554,
     "end_time": "2022-05-05T02:57:41.996782",
     "exception": false,
     "start_time": "2022-05-05T02:57:41.981228",
     "status": "completed"
    },
    "tags": []
   },
   "outputs": [
    {
     "data": {
      "text/markdown": [
       "- Ethereum Fake Breakout On Horizon : (ETH) Price May Reclaim $3K Level Before Moving Lower.  The post Ethereum Fake Breakout On Horizon : (ETH) Price May Reclaim $3K Level Before Moving Lower appeared first on Coinpedia - Fintech &amp; Cryptocurreny News Media| Crypto GuideCurrently, Ethereum is in a recovery phase after having some difficult weeks. Since this weekend the second largest currency is trading with lower higher highs and higher lows. At the time of writing, Ethereum is trading at $2,858 with a surge by 1.84% over the last 24hrs. Ethereum To See A Mini Breakout From March &#8230; ... [| Skaityti daugiau](https://coinpedia.org/ethereum/ethereum-fake-breakout-on-horizon-eth-price-may-reclaim-3k-level-before-moving-lower/) "
      ],
      "text/plain": [
       "<IPython.core.display.Markdown object>"
      ]
     },
     "execution_count": 7,
     "metadata": {},
     "output_type": "execute_result"
    }
   ],
   "source": [
    "#hide_input\n",
    "#md('##### {}'.format(titleBTC)) \n",
    "md(\"- {}{} {}{} [| Skaityti daugiau]({}) \".format(eth['title'],'. ', eth['body'], ' ...', eth['url']))"
   ]
  },
  {
   "cell_type": "code",
   "execution_count": 8,
   "id": "sublime-lounge",
   "metadata": {
    "execution": {
     "iopub.execute_input": "2022-05-05T02:57:42.019427Z",
     "iopub.status.busy": "2022-05-05T02:57:42.018943Z",
     "iopub.status.idle": "2022-05-05T02:57:42.021640Z",
     "shell.execute_reply": "2022-05-05T02:57:42.021279Z"
    },
    "papermill": {
     "duration": 0.015508,
     "end_time": "2022-05-05T02:57:42.021741",
     "exception": false,
     "start_time": "2022-05-05T02:57:42.006233",
     "status": "completed"
    },
    "tags": []
   },
   "outputs": [
    {
     "data": {
      "text/markdown": [
       "- Retail Interest in Cardano ($ADA) Is ‘Rapidly Rising’, Data Shows.  Retail interest in Cardano ($ADA) is “rapidly increasing” as in the last 30 days addresses holding for less than 30 days – defined as traders on the blockchain – have increased their holdings by 186%. According to data from analytics firm IntoTheBlock, these trader addresses now collectively hold 36.14% of the cryptocurrency’s supply after heavily […] ... [| Skaityti daugiau](https://www.cryptoglobe.com/latest/2022/05/retail-interest-in-cardano-ada-is-rapidly-rising-data-shows/) "
      ],
      "text/plain": [
       "<IPython.core.display.Markdown object>"
      ]
     },
     "execution_count": 8,
     "metadata": {},
     "output_type": "execute_result"
    }
   ],
   "source": [
    "#hide_input\n",
    "#md('##### {}'.format(titleBTC)) \n",
    "md(\"- {}{} {}{} [| Skaityti daugiau]({}) \".format(ada['title'],'. ', ada['body'], ' ...', ada['url']))"
   ]
  },
  {
   "cell_type": "code",
   "execution_count": 9,
   "id": "specified-ordering",
   "metadata": {
    "execution": {
     "iopub.execute_input": "2022-05-05T02:57:42.045647Z",
     "iopub.status.busy": "2022-05-05T02:57:42.045153Z",
     "iopub.status.idle": "2022-05-05T02:57:42.047782Z",
     "shell.execute_reply": "2022-05-05T02:57:42.048232Z"
    },
    "papermill": {
     "duration": 0.016998,
     "end_time": "2022-05-05T02:57:42.048339",
     "exception": false,
     "start_time": "2022-05-05T02:57:42.031341",
     "status": "completed"
    },
    "tags": []
   },
   "outputs": [
    {
     "data": {
      "text/markdown": [
       "- Ripple: Buy The SEC Uncertainty, Sell The Settlement News - May Update.  Ripple's XRP is not a long-term hold, but does have a unique medium-term profit opportunity because of the SEC lawsuit.The token price has decreased by over 20% since the publication of my first article. The price is also falling relative to other cryptocurrencies.Settlement could potentially occur at any time, but reading the tea leaves shows the proceedings are still slow and deliberate.Vauld is a Coinbase Ventures and Peter Thiel-backed exchange that lists XRP for trading and pays 6.7% interest on a fixed deposit. ... [| Skaityti daugiau](https://seekingalpha.com/article/4506968-ripple-buy-sec-uncertainty-sell-settlement-news-may-update?utm_source=cryptocompare.com&utm_medium=referral) "
      ],
      "text/plain": [
       "<IPython.core.display.Markdown object>"
      ]
     },
     "execution_count": 9,
     "metadata": {},
     "output_type": "execute_result"
    }
   ],
   "source": [
    "#hide_input\n",
    "#md('##### {}'.format(titleBTC)) \n",
    "md(\"- {}{} {}{} [| Skaityti daugiau]({}) \".format(exchange['title'],'. ', exchange['body'], ' ...', exchange['url']))"
   ]
  },
  {
   "cell_type": "code",
   "execution_count": null,
   "id": "tender-livestock",
   "metadata": {
    "papermill": {
     "duration": 0.009843,
     "end_time": "2022-05-05T02:57:42.068058",
     "exception": false,
     "start_time": "2022-05-05T02:57:42.058215",
     "status": "completed"
    },
    "tags": []
   },
   "outputs": [],
   "source": []
  },
  {
   "cell_type": "code",
   "execution_count": null,
   "id": "appreciated-diamond",
   "metadata": {
    "papermill": {
     "duration": 0.009923,
     "end_time": "2022-05-05T02:57:42.087736",
     "exception": false,
     "start_time": "2022-05-05T02:57:42.077813",
     "status": "completed"
    },
    "tags": []
   },
   "outputs": [],
   "source": []
  },
  {
   "cell_type": "code",
   "execution_count": null,
   "id": "romance-sweden",
   "metadata": {
    "papermill": {
     "duration": 0.009753,
     "end_time": "2022-05-05T02:57:42.108323",
     "exception": false,
     "start_time": "2022-05-05T02:57:42.098570",
     "status": "completed"
    },
    "tags": []
   },
   "outputs": [],
   "source": []
  },
  {
   "cell_type": "code",
   "execution_count": null,
   "id": "dietary-statistics",
   "metadata": {
    "papermill": {
     "duration": 0.009786,
     "end_time": "2022-05-05T02:57:42.128049",
     "exception": false,
     "start_time": "2022-05-05T02:57:42.118263",
     "status": "completed"
    },
    "tags": []
   },
   "outputs": [],
   "source": []
  }
 ],
 "metadata": {
  "kernelspec": {
   "display_name": "Python 3",
   "language": "python",
   "name": "python3"
  },
  "language_info": {
   "codemirror_mode": {
    "name": "ipython",
    "version": 3
   },
   "file_extension": ".py",
   "mimetype": "text/x-python",
   "name": "python",
   "nbconvert_exporter": "python",
   "pygments_lexer": "ipython3",
   "version": "3.6.15"
  },
  "papermill": {
   "default_parameters": {},
   "duration": 13.900957,
   "end_time": "2022-05-05T02:57:42.656749",
   "environment_variables": {},
   "exception": null,
   "input_path": "Market-News.ipynb",
   "output_path": "Market-News.ipynb",
   "parameters": {},
   "start_time": "2022-05-05T02:57:28.755792",
   "version": "2.2.2"
  }
 },
 "nbformat": 4,
 "nbformat_minor": 5
}