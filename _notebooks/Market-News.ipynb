{
 "cells": [
  {
   "cell_type": "markdown",
   "id": "short-greensboro",
   "metadata": {
    "papermill": {
     "duration": 0.012993,
     "end_time": "2021-12-17T02:05:53.834161",
     "exception": false,
     "start_time": "2021-12-17T02:05:53.821168",
     "status": "completed"
    },
    "tags": []
   },
   "source": [
    "# Kriptovaliutų naujienos"
   ]
  },
  {
   "cell_type": "code",
   "execution_count": 1,
   "id": "functioning-knowing",
   "metadata": {
    "execution": {
     "iopub.execute_input": "2021-12-17T02:05:53.863440Z",
     "iopub.status.busy": "2021-12-17T02:05:53.862908Z",
     "iopub.status.idle": "2021-12-17T02:05:55.115620Z",
     "shell.execute_reply": "2021-12-17T02:05:55.115127Z"
    },
    "papermill": {
     "duration": 1.271734,
     "end_time": "2021-12-17T02:05:55.115765",
     "exception": false,
     "start_time": "2021-12-17T02:05:53.844031",
     "status": "completed"
    },
    "tags": []
   },
   "outputs": [],
   "source": [
    "#hide_input\n",
    "import warnings\n",
    "warnings.filterwarnings('ignore')\n",
    "from scripts.read_data import read_api\n",
    "from scripts.read_data import read_news\n",
    "from scripts.read_data import read_covid\n",
    "import matplotlib.pyplot as plt \n",
    "from IPython.display import Markdown as md"
   ]
  },
  {
   "cell_type": "code",
   "execution_count": 2,
   "id": "shared-acceptance",
   "metadata": {
    "execution": {
     "iopub.execute_input": "2021-12-17T02:05:55.140694Z",
     "iopub.status.busy": "2021-12-17T02:05:55.140180Z",
     "iopub.status.idle": "2021-12-17T02:06:04.069966Z",
     "shell.execute_reply": "2021-12-17T02:06:04.069434Z"
    },
    "papermill": {
     "duration": 8.944931,
     "end_time": "2021-12-17T02:06:04.070110",
     "exception": false,
     "start_time": "2021-12-17T02:05:55.125179",
     "status": "completed"
    },
    "tags": []
   },
   "outputs": [],
   "source": [
    "#hide_input\n",
    "blockchain = read_news('blockchain') \n",
    "btc = read_news('btc') \n",
    "xrp = read_news('xrp') \n",
    "trx = read_news('trx') \n",
    "eth = read_news('eth')  \n",
    "ada = read_news('ada')\n",
    "exchange = read_news('exchange') "
   ]
  },
  {
   "cell_type": "code",
   "execution_count": 3,
   "id": "synthetic-notion",
   "metadata": {
    "execution": {
     "iopub.execute_input": "2021-12-17T02:06:04.095236Z",
     "iopub.status.busy": "2021-12-17T02:06:04.094662Z",
     "iopub.status.idle": "2021-12-17T02:06:04.097916Z",
     "shell.execute_reply": "2021-12-17T02:06:04.097511Z"
    },
    "papermill": {
     "duration": 0.017967,
     "end_time": "2021-12-17T02:06:04.098028",
     "exception": false,
     "start_time": "2021-12-17T02:06:04.080061",
     "status": "completed"
    },
    "tags": []
   },
   "outputs": [
    {
     "data": {
      "text/markdown": [
       "- Top 3 Most Popular dApps on Tron Right Now (December 2021).  With the number of blockchains available on the market, there is a wide variety of platforms to choose from when it comes to launching dApps. The most popular platforms include Ethereum, Binance Smart Chain, and Solana. This article looks at the top 3 most popular dApps on the Tron blockchain, ordered by a 30-day user [&#8230;]The post Top 3 Most Popular dApps on Tron Right Now (December 2021) appeared first on NullTX. ... [| Skaityti daugiau](https://nulltx.com/top-3-most-popular-dapps-on-tron-right-now-december-2021/) "
      ],
      "text/plain": [
       "<IPython.core.display.Markdown object>"
      ]
     },
     "execution_count": 3,
     "metadata": {},
     "output_type": "execute_result"
    }
   ],
   "source": [
    "#hide_input\n",
    "#md('##### {}'.format(titleBTC)) \n",
    "md(\"- {}{} {}{} [| Skaityti daugiau]({}) \".format(blockchain['title'],'. ', blockchain['body'], ' ...', blockchain['url']))"
   ]
  },
  {
   "cell_type": "code",
   "execution_count": 4,
   "id": "aging-caution",
   "metadata": {
    "execution": {
     "iopub.execute_input": "2021-12-17T02:06:04.121229Z",
     "iopub.status.busy": "2021-12-17T02:06:04.120715Z",
     "iopub.status.idle": "2021-12-17T02:06:04.123480Z",
     "shell.execute_reply": "2021-12-17T02:06:04.123967Z"
    },
    "papermill": {
     "duration": 0.016606,
     "end_time": "2021-12-17T02:06:04.124082",
     "exception": false,
     "start_time": "2021-12-17T02:06:04.107476",
     "status": "completed"
    },
    "tags": []
   },
   "outputs": [
    {
     "data": {
      "text/markdown": [
       "- How Will Federal Reserve Asset Tapering Impact The Bitcoin Market?.  Following a Federal Reserve announcement on tapering acceleration, the bitcoin price and equities rallied in tandem. ... [| Skaityti daugiau](https://bitcoinmagazine.com/markets/how-federal-reserve-asset-tapering-impacts-bitcoin-price) "
      ],
      "text/plain": [
       "<IPython.core.display.Markdown object>"
      ]
     },
     "execution_count": 4,
     "metadata": {},
     "output_type": "execute_result"
    }
   ],
   "source": [
    "#hide_input\n",
    "#md('##### {}'.format(titleBTC)) \n",
    "md(\"- {}{} {}{} [| Skaityti daugiau]({}) \".format(btc['title'],'. ', btc['body'], ' ...', btc['url']))"
   ]
  },
  {
   "cell_type": "code",
   "execution_count": 5,
   "id": "organic-actress",
   "metadata": {
    "execution": {
     "iopub.execute_input": "2021-12-17T02:06:04.147358Z",
     "iopub.status.busy": "2021-12-17T02:06:04.146850Z",
     "iopub.status.idle": "2021-12-17T02:06:04.149448Z",
     "shell.execute_reply": "2021-12-17T02:06:04.149827Z"
    },
    "papermill": {
     "duration": 0.016234,
     "end_time": "2021-12-17T02:06:04.149939",
     "exception": false,
     "start_time": "2021-12-17T02:06:04.133705",
     "status": "completed"
    },
    "tags": []
   },
   "outputs": [
    {
     "data": {
      "text/markdown": [
       "- $XRP Whales Have Added 190 Million Tokens to Their Stash Over Last Three Months, Data Shows.  Data shows that whales on the XRP network have been accumulating tokens over the last few months, so much so that even with the price of the cryptocurrency dropping, their holdings increased 6% to 3.31 billion XRP in the past three months. That’s according to data from crypto analytics firm Santiment, which analyzed the amount […] ... [| Skaityti daugiau](https://www.cryptoglobe.com/latest/2021/12/xrp-whales-have-added-190-million-tokens-to-their-stash-over-last-three-months-data-shows/) "
      ],
      "text/plain": [
       "<IPython.core.display.Markdown object>"
      ]
     },
     "execution_count": 5,
     "metadata": {},
     "output_type": "execute_result"
    }
   ],
   "source": [
    "#hide_input\n",
    "#md('##### {}'.format(titleBTC)) \n",
    "md(\"- {}{} {}{} [| Skaityti daugiau]({}) \".format(xrp['title'],'. ', xrp['body'], ' ...', xrp['url']))"
   ]
  },
  {
   "cell_type": "code",
   "execution_count": 6,
   "id": "prompt-farmer",
   "metadata": {
    "execution": {
     "iopub.execute_input": "2021-12-17T02:06:04.173484Z",
     "iopub.status.busy": "2021-12-17T02:06:04.172543Z",
     "iopub.status.idle": "2021-12-17T02:06:04.175844Z",
     "shell.execute_reply": "2021-12-17T02:06:04.176222Z"
    },
    "papermill": {
     "duration": 0.016414,
     "end_time": "2021-12-17T02:06:04.176334",
     "exception": false,
     "start_time": "2021-12-17T02:06:04.159920",
     "status": "completed"
    },
    "tags": []
   },
   "outputs": [
    {
     "data": {
      "text/markdown": [
       "- Cardano, Solana, Tron Price Analysis: 16 December.  Over the past day, Cardano and Solana led the recovery phase by bagging double-digit gains, at press time. On the other hand, Tron remained below the $0.089 level while flashing weak technicals. Cardano (ADA) ADA halted its bearish streak after a descending triangle breakout on its 4-hour chart over the past day. The altcoin saw [&#8230;] ... [| Skaityti daugiau](https://ambcrypto.com/cardano-solana-tron-price-analysis-16-december/) "
      ],
      "text/plain": [
       "<IPython.core.display.Markdown object>"
      ]
     },
     "execution_count": 6,
     "metadata": {},
     "output_type": "execute_result"
    }
   ],
   "source": [
    "#hide_input\n",
    "#md('##### {}'.format(titleBTC)) \n",
    "md(\"- {}{} {}{} [| Skaityti daugiau]({}) \".format(trx['title'],'. ', trx['body'], ' ...', trx['url']))"
   ]
  },
  {
   "cell_type": "code",
   "execution_count": 7,
   "id": "illegal-greece",
   "metadata": {
    "execution": {
     "iopub.execute_input": "2021-12-17T02:06:04.201147Z",
     "iopub.status.busy": "2021-12-17T02:06:04.200137Z",
     "iopub.status.idle": "2021-12-17T02:06:04.203838Z",
     "shell.execute_reply": "2021-12-17T02:06:04.203435Z"
    },
    "papermill": {
     "duration": 0.016848,
     "end_time": "2021-12-17T02:06:04.203937",
     "exception": false,
     "start_time": "2021-12-17T02:06:04.187089",
     "status": "completed"
    },
    "tags": []
   },
   "outputs": [
    {
     "data": {
      "text/markdown": [
       "- Top 3 Most Popular dApps on Tron Right Now (December 2021).  With the number of blockchains available on the market, there is a wide variety of platforms to choose from when it comes to launching dApps. The most popular platforms include Ethereum, Binance Smart Chain, and Solana. This article looks at the top 3 most popular dApps on the Tron blockchain, ordered by a 30-day user [&#8230;]The post Top 3 Most Popular dApps on Tron Right Now (December 2021) appeared first on NullTX. ... [| Skaityti daugiau](https://nulltx.com/top-3-most-popular-dapps-on-tron-right-now-december-2021/) "
      ],
      "text/plain": [
       "<IPython.core.display.Markdown object>"
      ]
     },
     "execution_count": 7,
     "metadata": {},
     "output_type": "execute_result"
    }
   ],
   "source": [
    "#hide_input\n",
    "#md('##### {}'.format(titleBTC)) \n",
    "md(\"- {}{} {}{} [| Skaityti daugiau]({}) \".format(eth['title'],'. ', eth['body'], ' ...', eth['url']))"
   ]
  },
  {
   "cell_type": "code",
   "execution_count": 8,
   "id": "sublime-lounge",
   "metadata": {
    "execution": {
     "iopub.execute_input": "2021-12-17T02:06:04.229389Z",
     "iopub.status.busy": "2021-12-17T02:06:04.228889Z",
     "iopub.status.idle": "2021-12-17T02:06:04.231681Z",
     "shell.execute_reply": "2021-12-17T02:06:04.232059Z"
    },
    "papermill": {
     "duration": 0.017579,
     "end_time": "2021-12-17T02:06:04.232169",
     "exception": false,
     "start_time": "2021-12-17T02:06:04.214590",
     "status": "completed"
    },
    "tags": []
   },
   "outputs": [
    {
     "data": {
      "text/markdown": [
       "- Will Hydra’s second pre-release boost Cardano enough to make it to $3.  After the monumental ‘Uptober,’ the last two months haven’t been all that bullish for the larger market. Nonetheless, some assets like AVAX, LUNA and MATIC managed to carve their own trajectories reaching new ATHs even as the king coin consolidated. Cardano, however, once the third-ranked coin by market cap shed almost 50% price since its [&#8230;] ... [| Skaityti daugiau](https://ambcrypto.com/will-hydras-second-pre-release-boost-cardano-enough-to-make-it-to-3/) "
      ],
      "text/plain": [
       "<IPython.core.display.Markdown object>"
      ]
     },
     "execution_count": 8,
     "metadata": {},
     "output_type": "execute_result"
    }
   ],
   "source": [
    "#hide_input\n",
    "#md('##### {}'.format(titleBTC)) \n",
    "md(\"- {}{} {}{} [| Skaityti daugiau]({}) \".format(ada['title'],'. ', ada['body'], ' ...', ada['url']))"
   ]
  },
  {
   "cell_type": "code",
   "execution_count": 9,
   "id": "specified-ordering",
   "metadata": {
    "execution": {
     "iopub.execute_input": "2021-12-17T02:06:04.258291Z",
     "iopub.status.busy": "2021-12-17T02:06:04.257794Z",
     "iopub.status.idle": "2021-12-17T02:06:04.260412Z",
     "shell.execute_reply": "2021-12-17T02:06:04.260794Z"
    },
    "papermill": {
     "duration": 0.017785,
     "end_time": "2021-12-17T02:06:04.260906",
     "exception": false,
     "start_time": "2021-12-17T02:06:04.243121",
     "status": "completed"
    },
    "tags": []
   },
   "outputs": [
    {
     "data": {
      "text/markdown": [
       "- Floki Inu ($FLOKI) Starts Trading on India’s ‘Top-Rated’ Crypto Exchange Giottus.  Popular meme-inspired cryptocurrency Floki Inu ($FLOKI) has been listed on India’s “top-rated” cryptocurrency exchange Giottus with a FLOKI/INR trading pair, allowing users to trade Floki Inu directly for Indian rupees. According to an announcement published by Floki Inu’s Twitter account, the trading pair is already live. As CryptoGlobe reported, last month the cryptocurrency was listed […] ... [| Skaityti daugiau](https://www.cryptoglobe.com/latest/2021/12/floki-inu-floki-starts-trading-on-indias-top-rated-crypto-exchange-giottus/) "
      ],
      "text/plain": [
       "<IPython.core.display.Markdown object>"
      ]
     },
     "execution_count": 9,
     "metadata": {},
     "output_type": "execute_result"
    }
   ],
   "source": [
    "#hide_input\n",
    "#md('##### {}'.format(titleBTC)) \n",
    "md(\"- {}{} {}{} [| Skaityti daugiau]({}) \".format(exchange['title'],'. ', exchange['body'], ' ...', exchange['url']))"
   ]
  },
  {
   "cell_type": "code",
   "execution_count": null,
   "id": "tender-livestock",
   "metadata": {
    "papermill": {
     "duration": 0.011184,
     "end_time": "2021-12-17T02:06:04.283348",
     "exception": false,
     "start_time": "2021-12-17T02:06:04.272164",
     "status": "completed"
    },
    "tags": []
   },
   "outputs": [],
   "source": []
  },
  {
   "cell_type": "code",
   "execution_count": null,
   "id": "appreciated-diamond",
   "metadata": {
    "papermill": {
     "duration": 0.011246,
     "end_time": "2021-12-17T02:06:04.305998",
     "exception": false,
     "start_time": "2021-12-17T02:06:04.294752",
     "status": "completed"
    },
    "tags": []
   },
   "outputs": [],
   "source": []
  },
  {
   "cell_type": "code",
   "execution_count": null,
   "id": "romance-sweden",
   "metadata": {
    "papermill": {
     "duration": 0.011213,
     "end_time": "2021-12-17T02:06:04.328459",
     "exception": false,
     "start_time": "2021-12-17T02:06:04.317246",
     "status": "completed"
    },
    "tags": []
   },
   "outputs": [],
   "source": []
  },
  {
   "cell_type": "code",
   "execution_count": null,
   "id": "dietary-statistics",
   "metadata": {
    "papermill": {
     "duration": 0.011146,
     "end_time": "2021-12-17T02:06:04.350808",
     "exception": false,
     "start_time": "2021-12-17T02:06:04.339662",
     "status": "completed"
    },
    "tags": []
   },
   "outputs": [],
   "source": []
  }
 ],
 "metadata": {
  "kernelspec": {
   "display_name": "Python 3",
   "language": "python",
   "name": "python3"
  },
  "language_info": {
   "codemirror_mode": {
    "name": "ipython",
    "version": 3
   },
   "file_extension": ".py",
   "mimetype": "text/x-python",
   "name": "python",
   "nbconvert_exporter": "python",
   "pygments_lexer": "ipython3",
   "version": "3.6.15"
  },
  "papermill": {
   "default_parameters": {},
   "duration": 11.866356,
   "end_time": "2021-12-17T02:06:04.770673",
   "environment_variables": {},
   "exception": null,
   "input_path": "Market-News.ipynb",
   "output_path": "Market-News.ipynb",
   "parameters": {},
   "start_time": "2021-12-17T02:05:52.904317",
   "version": "2.2.2"
  }
 },
 "nbformat": 4,
 "nbformat_minor": 5
}