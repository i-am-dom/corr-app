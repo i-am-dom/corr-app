{
 "cells": [
  {
   "cell_type": "markdown",
   "id": "short-greensboro",
   "metadata": {
    "papermill": {
     "duration": 0.017176,
     "end_time": "2022-09-10T03:40:43.606091",
     "exception": false,
     "start_time": "2022-09-10T03:40:43.588915",
     "status": "completed"
    },
    "tags": []
   },
   "source": [
    "# Kriptovaliutų naujienos"
   ]
  },
  {
   "cell_type": "code",
   "execution_count": 1,
   "id": "functioning-knowing",
   "metadata": {
    "execution": {
     "iopub.execute_input": "2022-09-10T03:40:43.637124Z",
     "iopub.status.busy": "2022-09-10T03:40:43.636408Z",
     "iopub.status.idle": "2022-09-10T03:40:44.967395Z",
     "shell.execute_reply": "2022-09-10T03:40:44.966219Z"
    },
    "papermill": {
     "duration": 1.350907,
     "end_time": "2022-09-10T03:40:44.967580",
     "exception": false,
     "start_time": "2022-09-10T03:40:43.616673",
     "status": "completed"
    },
    "tags": []
   },
   "outputs": [],
   "source": [
    "#hide_input\n",
    "import warnings\n",
    "warnings.filterwarnings('ignore')\n",
    "from scripts.read_data import read_api\n",
    "from scripts.read_data import read_news\n",
    "from scripts.read_data import read_covid\n",
    "import matplotlib.pyplot as plt \n",
    "from IPython.display import Markdown as md"
   ]
  },
  {
   "cell_type": "code",
   "execution_count": 2,
   "id": "shared-acceptance",
   "metadata": {
    "execution": {
     "iopub.execute_input": "2022-09-10T03:40:44.994666Z",
     "iopub.status.busy": "2022-09-10T03:40:44.993150Z",
     "iopub.status.idle": "2022-09-10T03:40:56.544839Z",
     "shell.execute_reply": "2022-09-10T03:40:56.544073Z"
    },
    "papermill": {
     "duration": 11.567028,
     "end_time": "2022-09-10T03:40:56.544982",
     "exception": false,
     "start_time": "2022-09-10T03:40:44.977954",
     "status": "completed"
    },
    "tags": []
   },
   "outputs": [],
   "source": [
    "#hide_input\n",
    "blockchain = read_news('blockchain') \n",
    "btc = read_news('btc') \n",
    "xrp = read_news('xrp') \n",
    "trx = read_news('trx') \n",
    "eth = read_news('eth')  \n",
    "ada = read_news('ada')\n",
    "exchange = read_news('exchange') "
   ]
  },
  {
   "cell_type": "code",
   "execution_count": 3,
   "id": "synthetic-notion",
   "metadata": {
    "execution": {
     "iopub.execute_input": "2022-09-10T03:40:56.580602Z",
     "iopub.status.busy": "2022-09-10T03:40:56.575503Z",
     "iopub.status.idle": "2022-09-10T03:40:56.583371Z",
     "shell.execute_reply": "2022-09-10T03:40:56.583897Z"
    },
    "papermill": {
     "duration": 0.025606,
     "end_time": "2022-09-10T03:40:56.584035",
     "exception": false,
     "start_time": "2022-09-10T03:40:56.558429",
     "status": "completed"
    },
    "tags": []
   },
   "outputs": [
    {
     "data": {
      "text/markdown": [
       "- SOL Price To Initiate a Fresh Rally As Solana Completes 95 million Transactions.  The post SOL Price To Initiate a Fresh Rally As Solana Completes 95 million Transactions appeared first on Coinpedia - Fintech &amp; Cryptocurreny News Media| Crypto GuideSolana (SOL) is regaining its positive momentum and showing applaudable retaliation after a significant sell-off during the first week of September. According to Solana’s blockchain explorer, the network has crossed a total of 96.62 million transactions, and it is currently executing over 3000 transactions per second. This is a piece of impactful news from Solana &#8230; ... [| Skaityti daugiau](https://coinpedia.org/altcoin/sol-price-to-initiate-a-fresh-rally-as-solana-completes-95-million-transactions/) "
      ],
      "text/plain": [
       "<IPython.core.display.Markdown object>"
      ]
     },
     "execution_count": 3,
     "metadata": {},
     "output_type": "execute_result"
    }
   ],
   "source": [
    "#hide_input\n",
    "#md('##### {}'.format(titleBTC)) \n",
    "md(\"- {}{} {}{} [| Skaityti daugiau]({}) \".format(blockchain['title'],'. ', blockchain['body'], ' ...', blockchain['url']))"
   ]
  },
  {
   "cell_type": "code",
   "execution_count": 4,
   "id": "aging-caution",
   "metadata": {
    "execution": {
     "iopub.execute_input": "2022-09-10T03:40:56.611369Z",
     "iopub.status.busy": "2022-09-10T03:40:56.610616Z",
     "iopub.status.idle": "2022-09-10T03:40:56.614570Z",
     "shell.execute_reply": "2022-09-10T03:40:56.614009Z"
    },
    "papermill": {
     "duration": 0.019638,
     "end_time": "2022-09-10T03:40:56.614701",
     "exception": false,
     "start_time": "2022-09-10T03:40:56.595063",
     "status": "completed"
    },
    "tags": []
   },
   "outputs": [
    {
     "data": {
      "text/markdown": [
       "- Bitcoin: Can miners survive this double-edged combat?.  Bitcoin [BTC] miners have been faced with harsh realities lately. The worst part is that it doesn&#8217;t seem to get any easier as these difficulties look too strong to handle. According to CryptoQuant, BTC miners have faced the hurdle of not selling their holdings for crumbs. However, the dwindling state of the Bitcoin hashprice has [&#8230;] ... [| Skaityti daugiau](https://ambcrypto.com/bitcoin-can-miners-survive-the-brutality-of-this-double-edged-combat/) "
      ],
      "text/plain": [
       "<IPython.core.display.Markdown object>"
      ]
     },
     "execution_count": 4,
     "metadata": {},
     "output_type": "execute_result"
    }
   ],
   "source": [
    "#hide_input\n",
    "#md('##### {}'.format(titleBTC)) \n",
    "md(\"- {}{} {}{} [| Skaityti daugiau]({}) \".format(btc['title'],'. ', btc['body'], ' ...', btc['url']))"
   ]
  },
  {
   "cell_type": "code",
   "execution_count": 5,
   "id": "organic-actress",
   "metadata": {
    "execution": {
     "iopub.execute_input": "2022-09-10T03:40:56.639615Z",
     "iopub.status.busy": "2022-09-10T03:40:56.638916Z",
     "iopub.status.idle": "2022-09-10T03:40:56.648112Z",
     "shell.execute_reply": "2022-09-10T03:40:56.647599Z"
    },
    "papermill": {
     "duration": 0.022737,
     "end_time": "2022-09-10T03:40:56.648226",
     "exception": false,
     "start_time": "2022-09-10T03:40:56.625489",
     "status": "completed"
    },
    "tags": []
   },
   "outputs": [
    {
     "data": {
      "text/markdown": [
       "- Ripple General Counsel Responds to SEC Chairman Gensler’s ‘Kennedy and Crypto’ Speech.  The chairman of the U.S. Securities and Exchange Commission (SEC) is raising crypto eyebrows with a speech delivered before the non-profit learning organization Practicing Law Institute. In his “Kennedy and Crypto” speech, Gary Gensler hints that the SEC will use existing securities laws to regulate crypto despite anticipation and calls for regulatory frameworks specific to [&#8230;]The post Ripple General Counsel Responds to SEC Chairman Gensler’s ‘Kennedy and Crypto’ Speech appeared first on The Daily Hodl. ... [| Skaityti daugiau](https://dailyhodl.com/2022/09/09/ripple-general-counsel-responds-to-sec-chairman-genslers-kennedy-and-crypto-speech/) "
      ],
      "text/plain": [
       "<IPython.core.display.Markdown object>"
      ]
     },
     "execution_count": 5,
     "metadata": {},
     "output_type": "execute_result"
    }
   ],
   "source": [
    "#hide_input\n",
    "#md('##### {}'.format(titleBTC)) \n",
    "md(\"- {}{} {}{} [| Skaityti daugiau]({}) \".format(xrp['title'],'. ', xrp['body'], ' ...', xrp['url']))"
   ]
  },
  {
   "cell_type": "code",
   "execution_count": 6,
   "id": "prompt-farmer",
   "metadata": {
    "execution": {
     "iopub.execute_input": "2022-09-10T03:40:56.676063Z",
     "iopub.status.busy": "2022-09-10T03:40:56.675395Z",
     "iopub.status.idle": "2022-09-10T03:40:56.679694Z",
     "shell.execute_reply": "2022-09-10T03:40:56.680308Z"
    },
    "papermill": {
     "duration": 0.021583,
     "end_time": "2022-09-10T03:40:56.680439",
     "exception": false,
     "start_time": "2022-09-10T03:40:56.658856",
     "status": "completed"
    },
    "tags": []
   },
   "outputs": [
    {
     "data": {
      "text/markdown": [
       "- Tron [TRX]: The technical hurdles to consider before taking a long position.  Disclaimer: The findings of the following analysis are the sole opinions of the writer and should not be considered investment advice. As anticipated by a previous article, Tron [TRX] reversed from its falling-wedge-like structure before pulling back into bearish clutches. For over eight weeks, the sellers strived to breach the $0.063-support (now resistance). The recent [&#8230;] ... [| Skaityti daugiau](https://ambcrypto.com/tron-trx-the-technical-hurdles-to-consider-before-taking-a-long-position/) "
      ],
      "text/plain": [
       "<IPython.core.display.Markdown object>"
      ]
     },
     "execution_count": 6,
     "metadata": {},
     "output_type": "execute_result"
    }
   ],
   "source": [
    "#hide_input\n",
    "#md('##### {}'.format(titleBTC)) \n",
    "md(\"- {}{} {}{} [| Skaityti daugiau]({}) \".format(trx['title'],'. ', trx['body'], ' ...', trx['url']))"
   ]
  },
  {
   "cell_type": "code",
   "execution_count": 7,
   "id": "illegal-greece",
   "metadata": {
    "execution": {
     "iopub.execute_input": "2022-09-10T03:40:56.710209Z",
     "iopub.status.busy": "2022-09-10T03:40:56.709530Z",
     "iopub.status.idle": "2022-09-10T03:40:56.714499Z",
     "shell.execute_reply": "2022-09-10T03:40:56.715037Z"
    },
    "papermill": {
     "duration": 0.023774,
     "end_time": "2022-09-10T03:40:56.715176",
     "exception": false,
     "start_time": "2022-09-10T03:40:56.691402",
     "status": "completed"
    },
    "tags": []
   },
   "outputs": [
    {
     "data": {
      "text/markdown": [
       "- $SHIB Is Most Googled Altcoin in Europe, $ADA Was Most Googled Crypto in 3 EU Countries, Says Report.  A newly released study has shown that the meme-inspired cryptocurrency Shiba Inu ($SHIB) and smart contract platform Cardano ($ADA) are among the most ‘Googled’ cryptocurrencies throughout Europe, surpassing competitors with larger market capitalization. While the top five cryptocurrencies by market capitalization, excluding altcoins, are Bitcoin ($BTC), Ethereum ($ETH), BNB ($BNB), and XRP ($XRP), these weren’t […] ... [| Skaityti daugiau](https://www.cryptoglobe.com/latest/2022/09/shib-is-most-googled-altcoin-in-europe-ada-was-most-googled-crypto-in-3-eu-countries-says-report/) "
      ],
      "text/plain": [
       "<IPython.core.display.Markdown object>"
      ]
     },
     "execution_count": 7,
     "metadata": {},
     "output_type": "execute_result"
    }
   ],
   "source": [
    "#hide_input\n",
    "#md('##### {}'.format(titleBTC)) \n",
    "md(\"- {}{} {}{} [| Skaityti daugiau]({}) \".format(eth['title'],'. ', eth['body'], ' ...', eth['url']))"
   ]
  },
  {
   "cell_type": "code",
   "execution_count": 8,
   "id": "sublime-lounge",
   "metadata": {
    "execution": {
     "iopub.execute_input": "2022-09-10T03:40:56.745203Z",
     "iopub.status.busy": "2022-09-10T03:40:56.744507Z",
     "iopub.status.idle": "2022-09-10T03:40:56.748295Z",
     "shell.execute_reply": "2022-09-10T03:40:56.747739Z"
    },
    "papermill": {
     "duration": 0.020424,
     "end_time": "2022-09-10T03:40:56.748417",
     "exception": false,
     "start_time": "2022-09-10T03:40:56.727993",
     "status": "completed"
    },
    "tags": []
   },
   "outputs": [
    {
     "data": {
      "text/markdown": [
       "- $SHIB Is Most Googled Altcoin in Europe, $ADA Was Most Googled Crypto in 3 EU Countries, Says Report.  A newly released study has shown that the meme-inspired cryptocurrency Shiba Inu ($SHIB) and smart contract platform Cardano ($ADA) are among the most ‘Googled’ cryptocurrencies throughout Europe, surpassing competitors with larger market capitalization. While the top five cryptocurrencies by market capitalization, excluding altcoins, are Bitcoin ($BTC), Ethereum ($ETH), BNB ($BNB), and XRP ($XRP), these weren’t […] ... [| Skaityti daugiau](https://www.cryptoglobe.com/latest/2022/09/shib-is-most-googled-altcoin-in-europe-ada-was-most-googled-crypto-in-3-eu-countries-says-report/) "
      ],
      "text/plain": [
       "<IPython.core.display.Markdown object>"
      ]
     },
     "execution_count": 8,
     "metadata": {},
     "output_type": "execute_result"
    }
   ],
   "source": [
    "#hide_input\n",
    "#md('##### {}'.format(titleBTC)) \n",
    "md(\"- {}{} {}{} [| Skaityti daugiau]({}) \".format(ada['title'],'. ', ada['body'], ' ...', ada['url']))"
   ]
  },
  {
   "cell_type": "code",
   "execution_count": 9,
   "id": "specified-ordering",
   "metadata": {
    "execution": {
     "iopub.execute_input": "2022-09-10T03:40:56.777196Z",
     "iopub.status.busy": "2022-09-10T03:40:56.775212Z",
     "iopub.status.idle": "2022-09-10T03:40:56.782689Z",
     "shell.execute_reply": "2022-09-10T03:40:56.781930Z"
    },
    "papermill": {
     "duration": 0.022181,
     "end_time": "2022-09-10T03:40:56.782826",
     "exception": false,
     "start_time": "2022-09-10T03:40:56.760645",
     "status": "completed"
    },
    "tags": []
   },
   "outputs": [
    {
     "data": {
      "text/markdown": [
       "- Binance Coin [BNB] registers >1 billion in volume in just 24 hours — thanks to….  Binance Coin [BNB] has witnessed significant updates ranging from the stablecoin fiasco to maintaining its top five spots despite FUDs. Whatever the case, Binance enthusiasts and token holders backed the token without any hesitation. Could the latest development see the same picture? Whatever it takes to stand In the last 24 hours, BNB registered more [&#8230;] ... [| Skaityti daugiau](https://ambcrypto.com/binance-coin-bnb-registers-1-billion-in-volume-in-just-24-hours-thanks-to/) "
      ],
      "text/plain": [
       "<IPython.core.display.Markdown object>"
      ]
     },
     "execution_count": 9,
     "metadata": {},
     "output_type": "execute_result"
    }
   ],
   "source": [
    "#hide_input\n",
    "#md('##### {}'.format(titleBTC)) \n",
    "md(\"- {}{} {}{} [| Skaityti daugiau]({}) \".format(exchange['title'],'. ', exchange['body'], ' ...', exchange['url']))"
   ]
  },
  {
   "cell_type": "code",
   "execution_count": null,
   "id": "tender-livestock",
   "metadata": {
    "papermill": {
     "duration": 0.012184,
     "end_time": "2022-09-10T03:40:56.807196",
     "exception": false,
     "start_time": "2022-09-10T03:40:56.795012",
     "status": "completed"
    },
    "tags": []
   },
   "outputs": [],
   "source": []
  },
  {
   "cell_type": "code",
   "execution_count": null,
   "id": "appreciated-diamond",
   "metadata": {
    "papermill": {
     "duration": 0.011837,
     "end_time": "2022-09-10T03:40:56.831618",
     "exception": false,
     "start_time": "2022-09-10T03:40:56.819781",
     "status": "completed"
    },
    "tags": []
   },
   "outputs": [],
   "source": []
  },
  {
   "cell_type": "code",
   "execution_count": null,
   "id": "romance-sweden",
   "metadata": {
    "papermill": {
     "duration": 0.012096,
     "end_time": "2022-09-10T03:40:56.855417",
     "exception": false,
     "start_time": "2022-09-10T03:40:56.843321",
     "status": "completed"
    },
    "tags": []
   },
   "outputs": [],
   "source": []
  },
  {
   "cell_type": "code",
   "execution_count": null,
   "id": "dietary-statistics",
   "metadata": {
    "papermill": {
     "duration": 0.011822,
     "end_time": "2022-09-10T03:40:56.880088",
     "exception": false,
     "start_time": "2022-09-10T03:40:56.868266",
     "status": "completed"
    },
    "tags": []
   },
   "outputs": [],
   "source": []
  }
 ],
 "metadata": {
  "kernelspec": {
   "display_name": "Python 3",
   "language": "python",
   "name": "python3"
  },
  "language_info": {
   "codemirror_mode": {
    "name": "ipython",
    "version": 3
   },
   "file_extension": ".py",
   "mimetype": "text/x-python",
   "name": "python",
   "nbconvert_exporter": "python",
   "pygments_lexer": "ipython3",
   "version": "3.6.15"
  },
  "papermill": {
   "default_parameters": {},
   "duration": 14.973409,
   "end_time": "2022-09-10T03:40:57.413533",
   "environment_variables": {},
   "exception": null,
   "input_path": "Market-News.ipynb",
   "output_path": "Market-News.ipynb",
   "parameters": {},
   "start_time": "2022-09-10T03:40:42.440124",
   "version": "2.2.2"
  }
 },
 "nbformat": 4,
 "nbformat_minor": 5
}