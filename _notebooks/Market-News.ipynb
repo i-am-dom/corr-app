{
 "cells": [
  {
   "cell_type": "markdown",
   "id": "short-greensboro",
   "metadata": {
    "papermill": {
     "duration": 0.020382,
     "end_time": "2021-12-13T02:03:03.590109",
     "exception": false,
     "start_time": "2021-12-13T02:03:03.569727",
     "status": "completed"
    },
    "tags": []
   },
   "source": [
    "# Kriptovaliutų naujienos"
   ]
  },
  {
   "cell_type": "code",
   "execution_count": 1,
   "id": "functioning-knowing",
   "metadata": {
    "execution": {
     "iopub.execute_input": "2021-12-13T02:03:03.624093Z",
     "iopub.status.busy": "2021-12-13T02:03:03.623451Z",
     "iopub.status.idle": "2021-12-13T02:03:05.063442Z",
     "shell.execute_reply": "2021-12-13T02:03:05.062458Z"
    },
    "papermill": {
     "duration": 1.461639,
     "end_time": "2021-12-13T02:03:05.063601",
     "exception": false,
     "start_time": "2021-12-13T02:03:03.601962",
     "status": "completed"
    },
    "tags": []
   },
   "outputs": [],
   "source": [
    "#hide_input\n",
    "import warnings\n",
    "warnings.filterwarnings('ignore')\n",
    "from scripts.read_data import read_api\n",
    "from scripts.read_data import read_news\n",
    "from scripts.read_data import read_covid\n",
    "import matplotlib.pyplot as plt \n",
    "from IPython.display import Markdown as md"
   ]
  },
  {
   "cell_type": "code",
   "execution_count": 2,
   "id": "shared-acceptance",
   "metadata": {
    "execution": {
     "iopub.execute_input": "2021-12-13T02:03:05.091177Z",
     "iopub.status.busy": "2021-12-13T02:03:05.090548Z",
     "iopub.status.idle": "2021-12-13T02:03:14.256397Z",
     "shell.execute_reply": "2021-12-13T02:03:14.255860Z"
    },
    "papermill": {
     "duration": 9.182523,
     "end_time": "2021-12-13T02:03:14.256541",
     "exception": false,
     "start_time": "2021-12-13T02:03:05.074018",
     "status": "completed"
    },
    "tags": []
   },
   "outputs": [],
   "source": [
    "#hide_input\n",
    "blockchain = read_news('blockchain') \n",
    "btc = read_news('btc') \n",
    "xrp = read_news('xrp') \n",
    "trx = read_news('trx') \n",
    "eth = read_news('eth')  \n",
    "ada = read_news('ada')\n",
    "exchange = read_news('exchange') "
   ]
  },
  {
   "cell_type": "code",
   "execution_count": 3,
   "id": "synthetic-notion",
   "metadata": {
    "execution": {
     "iopub.execute_input": "2021-12-13T02:03:14.284947Z",
     "iopub.status.busy": "2021-12-13T02:03:14.284315Z",
     "iopub.status.idle": "2021-12-13T02:03:14.286724Z",
     "shell.execute_reply": "2021-12-13T02:03:14.287229Z"
    },
    "papermill": {
     "duration": 0.020101,
     "end_time": "2021-12-13T02:03:14.287376",
     "exception": false,
     "start_time": "2021-12-13T02:03:14.267275",
     "status": "completed"
    },
    "tags": []
   },
   "outputs": [
    {
     "data": {
      "text/markdown": [
       "- Beatles Rare Audio Interviews To Be Released As NFTs.  One of the world&#8217;s largest and beloved band over the decades is now dropping interviews as NFTs. Exclusive interviews with John Lennon, Paul McCartney, George Harrison and Ringo Starr of The Beatles are being auctioned as digital NFTs. This news shakes up the way legacy artists can use past IP to drive future profits. Related [&#8230;] ... [| Skaityti daugiau](https://bitcoinist.com/beatles-audio-interviews-dropping-as-nfts/) "
      ],
      "text/plain": [
       "<IPython.core.display.Markdown object>"
      ]
     },
     "execution_count": 3,
     "metadata": {},
     "output_type": "execute_result"
    }
   ],
   "source": [
    "#hide_input\n",
    "#md('##### {}'.format(titleBTC)) \n",
    "md(\"- {}{} {}{} [| Skaityti daugiau]({}) \".format(blockchain['title'],'. ', blockchain['body'], ' ...', blockchain['url']))"
   ]
  },
  {
   "cell_type": "code",
   "execution_count": 4,
   "id": "aging-caution",
   "metadata": {
    "execution": {
     "iopub.execute_input": "2021-12-13T02:03:14.315745Z",
     "iopub.status.busy": "2021-12-13T02:03:14.315140Z",
     "iopub.status.idle": "2021-12-13T02:03:14.318449Z",
     "shell.execute_reply": "2021-12-13T02:03:14.317936Z"
    },
    "papermill": {
     "duration": 0.020348,
     "end_time": "2021-12-13T02:03:14.318573",
     "exception": false,
     "start_time": "2021-12-13T02:03:14.298225",
     "status": "completed"
    },
    "tags": []
   },
   "outputs": [
    {
     "data": {
      "text/markdown": [
       "- El Salvador’s Bitcoin City and why it could be a ‘pretty attractive opportunity’.  Ever since Bitcoin was adopted as legal tender in El Salvador, the country has been coming up with innovative ways to integrate it into the economy. So much so that plans to build a &#8220;Bitcoin City&#8221; have also been announced recently. In fact, the same will be funded via a $1 billion &#8220;Bitcoin Bond&#8221; with [&#8230;] ... [| Skaityti daugiau](https://ambcrypto.com/el-salvadors-bitcoin-city-and-why-it-could-be-a-pretty-attractive-opportunity/) "
      ],
      "text/plain": [
       "<IPython.core.display.Markdown object>"
      ]
     },
     "execution_count": 4,
     "metadata": {},
     "output_type": "execute_result"
    }
   ],
   "source": [
    "#hide_input\n",
    "#md('##### {}'.format(titleBTC)) \n",
    "md(\"- {}{} {}{} [| Skaityti daugiau]({}) \".format(btc['title'],'. ', btc['body'], ' ...', btc['url']))"
   ]
  },
  {
   "cell_type": "code",
   "execution_count": 5,
   "id": "organic-actress",
   "metadata": {
    "execution": {
     "iopub.execute_input": "2021-12-13T02:03:14.347473Z",
     "iopub.status.busy": "2021-12-13T02:03:14.346846Z",
     "iopub.status.idle": "2021-12-13T02:03:14.351690Z",
     "shell.execute_reply": "2021-12-13T02:03:14.351206Z"
    },
    "papermill": {
     "duration": 0.022241,
     "end_time": "2021-12-13T02:03:14.351822",
     "exception": false,
     "start_time": "2021-12-13T02:03:14.329581",
     "status": "completed"
    },
    "tags": []
   },
   "outputs": [
    {
     "data": {
      "text/markdown": [
       "- Anti-Corruption Watchdog Sues SEC To Comply With Freedom of Information Request, Alleges Conflict of Interest in XRP Lawsuit.  A non-profit dedicated to government oversight is taking legal action against the U.S. Securities and Exchange Commission (SEC), alleging conflicts of interest in its handling of the crypto space. Empower Oversight is suing the SEC to compel the regulator to comply with the Freedom of Information Act (FOIA) and reveal communications between its senior officials [&#8230;]The post Anti-Corruption Watchdog Sues SEC To Comply With Freedom of Information Request, Alleges Conflict of Interest in XRP Lawsuit appeared first on The Daily Hodl. ... [| Skaityti daugiau](https://dailyhodl.com/2021/12/12/anti-corruption-watchdog-sues-sec-to-comply-with-freedom-of-information-request-alleges-conflict-of-interest-in-xrp-lawsuit/) "
      ],
      "text/plain": [
       "<IPython.core.display.Markdown object>"
      ]
     },
     "execution_count": 5,
     "metadata": {},
     "output_type": "execute_result"
    }
   ],
   "source": [
    "#hide_input\n",
    "#md('##### {}'.format(titleBTC)) \n",
    "md(\"- {}{} {}{} [| Skaityti daugiau]({}) \".format(xrp['title'],'. ', xrp['body'], ' ...', xrp['url']))"
   ]
  },
  {
   "cell_type": "code",
   "execution_count": 6,
   "id": "prompt-farmer",
   "metadata": {
    "execution": {
     "iopub.execute_input": "2021-12-13T02:03:14.383437Z",
     "iopub.status.busy": "2021-12-13T02:03:14.382362Z",
     "iopub.status.idle": "2021-12-13T02:03:14.386169Z",
     "shell.execute_reply": "2021-12-13T02:03:14.386645Z"
    },
    "papermill": {
     "duration": 0.023501,
     "end_time": "2021-12-13T02:03:14.386790",
     "exception": false,
     "start_time": "2021-12-13T02:03:14.363289",
     "status": "completed"
    },
    "tags": []
   },
   "outputs": [
    {
     "data": {
      "text/markdown": [
       "- Cardano, Chainlink, Tron Price Analysis: 10 December.  While the ADA, LINK, and TRX bulls were able to claw back to their long-term support levels, the onus fell on the market leader to change the broader sentiment. Besides, Chainlink managed to cross the 38.2% Fibonacci resistance with a recent bullish push, but its near-term technicals (like Cardano) flashed a bearish bias. Cardano (ADA) [&#8230;] ... [| Skaityti daugiau](https://ambcrypto.com/cardano-chainlink-tron-price-analysis-10-december/) "
      ],
      "text/plain": [
       "<IPython.core.display.Markdown object>"
      ]
     },
     "execution_count": 6,
     "metadata": {},
     "output_type": "execute_result"
    }
   ],
   "source": [
    "#hide_input\n",
    "#md('##### {}'.format(titleBTC)) \n",
    "md(\"- {}{} {}{} [| Skaityti daugiau]({}) \".format(trx['title'],'. ', trx['body'], ' ...', trx['url']))"
   ]
  },
  {
   "cell_type": "code",
   "execution_count": 7,
   "id": "illegal-greece",
   "metadata": {
    "execution": {
     "iopub.execute_input": "2021-12-13T02:03:14.416343Z",
     "iopub.status.busy": "2021-12-13T02:03:14.415720Z",
     "iopub.status.idle": "2021-12-13T02:03:14.418956Z",
     "shell.execute_reply": "2021-12-13T02:03:14.418445Z"
    },
    "papermill": {
     "duration": 0.020264,
     "end_time": "2021-12-13T02:03:14.419083",
     "exception": false,
     "start_time": "2021-12-13T02:03:14.398819",
     "status": "completed"
    },
    "tags": []
   },
   "outputs": [
    {
     "data": {
      "text/markdown": [
       "- Analyst: ‘Deflationary forces’ present an optimistic outlook for BTC, ETH in 2022.  Consider the hypothesis: deflation could swap inflation next year. Well, if that&#8217;s the case, cryptocurrency can prevail over other asset classes. This is the hypothesis based on which Bloomberg Intelligence analyst Mike McGlone is bullish on the outlook for Bitcoin and Ethereum in 2022. He says “deflationary forces” will take the crypto assets to new [&#8230;] ... [| Skaityti daugiau](https://ambcrypto.com/analyst-deflationary-forces-present-a-optimistic-outlook-for-btc-eth-in-2022/) "
      ],
      "text/plain": [
       "<IPython.core.display.Markdown object>"
      ]
     },
     "execution_count": 7,
     "metadata": {},
     "output_type": "execute_result"
    }
   ],
   "source": [
    "#hide_input\n",
    "#md('##### {}'.format(titleBTC)) \n",
    "md(\"- {}{} {}{} [| Skaityti daugiau]({}) \".format(eth['title'],'. ', eth['body'], ' ...', eth['url']))"
   ]
  },
  {
   "cell_type": "code",
   "execution_count": 8,
   "id": "sublime-lounge",
   "metadata": {
    "execution": {
     "iopub.execute_input": "2021-12-13T02:03:14.450002Z",
     "iopub.status.busy": "2021-12-13T02:03:14.449304Z",
     "iopub.status.idle": "2021-12-13T02:03:14.451898Z",
     "shell.execute_reply": "2021-12-13T02:03:14.452402Z"
    },
    "papermill": {
     "duration": 0.021245,
     "end_time": "2021-12-13T02:03:14.452557",
     "exception": false,
     "start_time": "2021-12-13T02:03:14.431312",
     "status": "completed"
    },
    "tags": []
   },
   "outputs": [
    {
     "data": {
      "text/markdown": [
       "- Why not much can stop Cardano’s downtrend now.  It has been a while since Cardano&#8217;s price rallied. Way back in September, it peaked at $3.101. Post that, however, things have only gone downhill for this altcoin. Towards mid-September, ADA&#8217;s price entered a symmetrical triangle on the charts. And, by mid-October, it broke below the lower support line to continue its extended downtrend. After [&#8230;] ... [| Skaityti daugiau](https://ambcrypto.com/why-not-much-can-stop-cardanos-downtrend-now/) "
      ],
      "text/plain": [
       "<IPython.core.display.Markdown object>"
      ]
     },
     "execution_count": 8,
     "metadata": {},
     "output_type": "execute_result"
    }
   ],
   "source": [
    "#hide_input\n",
    "#md('##### {}'.format(titleBTC)) \n",
    "md(\"- {}{} {}{} [| Skaityti daugiau]({}) \".format(ada['title'],'. ', ada['body'], ' ...', ada['url']))"
   ]
  },
  {
   "cell_type": "code",
   "execution_count": 9,
   "id": "specified-ordering",
   "metadata": {
    "execution": {
     "iopub.execute_input": "2021-12-13T02:03:14.486584Z",
     "iopub.status.busy": "2021-12-13T02:03:14.485475Z",
     "iopub.status.idle": "2021-12-13T02:03:14.489459Z",
     "shell.execute_reply": "2021-12-13T02:03:14.488937Z"
    },
    "papermill": {
     "duration": 0.024382,
     "end_time": "2021-12-13T02:03:14.489585",
     "exception": false,
     "start_time": "2021-12-13T02:03:14.465203",
     "status": "completed"
    },
    "tags": []
   },
   "outputs": [
    {
     "data": {
      "text/markdown": [
       "- Ascendex Hacked — Exchange Loses $77 Million in ERC20, BSC, Polygon Tokens.  Ascendex, a cryptocurrency exchange, suffered a security breach that allowed hackers to take control of some of the wallets of the exchange. The attack focused on hot wallets, where funds are kept as a buffer to tend to customers&#x2019; withdrawals. The company announced that it would reimburse these funds to any affected user. Peckshield, a [&#8230;] ... [| Skaityti daugiau](https://news.bitcoin.com/ascendex-hacked-exchange-loses-77-million-in-erc20-bsc-polygon-tokens/) "
      ],
      "text/plain": [
       "<IPython.core.display.Markdown object>"
      ]
     },
     "execution_count": 9,
     "metadata": {},
     "output_type": "execute_result"
    }
   ],
   "source": [
    "#hide_input\n",
    "#md('##### {}'.format(titleBTC)) \n",
    "md(\"- {}{} {}{} [| Skaityti daugiau]({}) \".format(exchange['title'],'. ', exchange['body'], ' ...', exchange['url']))"
   ]
  },
  {
   "cell_type": "code",
   "execution_count": null,
   "id": "tender-livestock",
   "metadata": {
    "papermill": {
     "duration": 0.012875,
     "end_time": "2021-12-13T02:03:14.515574",
     "exception": false,
     "start_time": "2021-12-13T02:03:14.502699",
     "status": "completed"
    },
    "tags": []
   },
   "outputs": [],
   "source": []
  },
  {
   "cell_type": "code",
   "execution_count": null,
   "id": "appreciated-diamond",
   "metadata": {
    "papermill": {
     "duration": 0.012611,
     "end_time": "2021-12-13T02:03:14.540897",
     "exception": false,
     "start_time": "2021-12-13T02:03:14.528286",
     "status": "completed"
    },
    "tags": []
   },
   "outputs": [],
   "source": []
  },
  {
   "cell_type": "code",
   "execution_count": null,
   "id": "romance-sweden",
   "metadata": {
    "papermill": {
     "duration": 0.012656,
     "end_time": "2021-12-13T02:03:14.566254",
     "exception": false,
     "start_time": "2021-12-13T02:03:14.553598",
     "status": "completed"
    },
    "tags": []
   },
   "outputs": [],
   "source": []
  },
  {
   "cell_type": "code",
   "execution_count": null,
   "id": "dietary-statistics",
   "metadata": {
    "papermill": {
     "duration": 0.012624,
     "end_time": "2021-12-13T02:03:14.591642",
     "exception": false,
     "start_time": "2021-12-13T02:03:14.579018",
     "status": "completed"
    },
    "tags": []
   },
   "outputs": [],
   "source": []
  }
 ],
 "metadata": {
  "kernelspec": {
   "display_name": "Python 3",
   "language": "python",
   "name": "python3"
  },
  "language_info": {
   "codemirror_mode": {
    "name": "ipython",
    "version": 3
   },
   "file_extension": ".py",
   "mimetype": "text/x-python",
   "name": "python",
   "nbconvert_exporter": "python",
   "pygments_lexer": "ipython3",
   "version": "3.6.15"
  },
  "papermill": {
   "default_parameters": {},
   "duration": 12.83043,
   "end_time": "2021-12-13T02:03:15.114751",
   "environment_variables": {},
   "exception": null,
   "input_path": "Market-News.ipynb",
   "output_path": "Market-News.ipynb",
   "parameters": {},
   "start_time": "2021-12-13T02:03:02.284321",
   "version": "2.2.2"
  }
 },
 "nbformat": 4,
 "nbformat_minor": 5
}