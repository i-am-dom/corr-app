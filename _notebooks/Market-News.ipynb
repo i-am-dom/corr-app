{
 "cells": [
  {
   "cell_type": "markdown",
   "id": "short-greensboro",
   "metadata": {
    "papermill": {
     "duration": 0.017442,
     "end_time": "2022-02-12T02:06:15.322537",
     "exception": false,
     "start_time": "2022-02-12T02:06:15.305095",
     "status": "completed"
    },
    "tags": []
   },
   "source": [
    "# Kriptovaliutų naujienos"
   ]
  },
  {
   "cell_type": "code",
   "execution_count": 1,
   "id": "functioning-knowing",
   "metadata": {
    "execution": {
     "iopub.execute_input": "2022-02-12T02:06:15.355352Z",
     "iopub.status.busy": "2022-02-12T02:06:15.354742Z",
     "iopub.status.idle": "2022-02-12T02:06:16.821608Z",
     "shell.execute_reply": "2022-02-12T02:06:16.820718Z"
    },
    "papermill": {
     "duration": 1.488379,
     "end_time": "2022-02-12T02:06:16.821767",
     "exception": false,
     "start_time": "2022-02-12T02:06:15.333388",
     "status": "completed"
    },
    "tags": []
   },
   "outputs": [],
   "source": [
    "#hide_input\n",
    "import warnings\n",
    "warnings.filterwarnings('ignore')\n",
    "from scripts.read_data import read_api\n",
    "from scripts.read_data import read_news\n",
    "from scripts.read_data import read_covid\n",
    "import matplotlib.pyplot as plt \n",
    "from IPython.display import Markdown as md"
   ]
  },
  {
   "cell_type": "code",
   "execution_count": 2,
   "id": "shared-acceptance",
   "metadata": {
    "execution": {
     "iopub.execute_input": "2022-02-12T02:06:16.849395Z",
     "iopub.status.busy": "2022-02-12T02:06:16.848793Z",
     "iopub.status.idle": "2022-02-12T02:06:26.747712Z",
     "shell.execute_reply": "2022-02-12T02:06:26.746462Z"
    },
    "papermill": {
     "duration": 9.915732,
     "end_time": "2022-02-12T02:06:26.747861",
     "exception": false,
     "start_time": "2022-02-12T02:06:16.832129",
     "status": "completed"
    },
    "tags": []
   },
   "outputs": [],
   "source": [
    "#hide_input\n",
    "blockchain = read_news('blockchain') \n",
    "btc = read_news('btc') \n",
    "xrp = read_news('xrp') \n",
    "trx = read_news('trx') \n",
    "eth = read_news('eth')  \n",
    "ada = read_news('ada')\n",
    "exchange = read_news('exchange') "
   ]
  },
  {
   "cell_type": "code",
   "execution_count": 3,
   "id": "synthetic-notion",
   "metadata": {
    "execution": {
     "iopub.execute_input": "2022-02-12T02:06:26.775352Z",
     "iopub.status.busy": "2022-02-12T02:06:26.774742Z",
     "iopub.status.idle": "2022-02-12T02:06:26.777008Z",
     "shell.execute_reply": "2022-02-12T02:06:26.777567Z"
    },
    "papermill": {
     "duration": 0.019391,
     "end_time": "2022-02-12T02:06:26.777705",
     "exception": false,
     "start_time": "2022-02-12T02:06:26.758314",
     "status": "completed"
    },
    "tags": []
   },
   "outputs": [
    {
     "data": {
      "text/markdown": [
       "- Deciphering the Metaverse: The display of modern tribalism.  Quick TakeThis weekly series explores the most interesting insights in NFTs, blockchain gaming, and virtual worldsIn reaction to the preceding euphoria, the overall NFT market has witnessed a subsiding boom as trading activity has slightly waned across the boardA flurry of events have accentuated the tribal nature of avatar collections, with owners pledging allegiance to their respective communities ... [| Skaityti daugiau](https://www.theblockresearch.com/deciphering-the-metaverse-the-display-of-modern-tribalism-133940?utm_source=cryptocompare&utm_medium=rss) "
      ],
      "text/plain": [
       "<IPython.core.display.Markdown object>"
      ]
     },
     "execution_count": 3,
     "metadata": {},
     "output_type": "execute_result"
    }
   ],
   "source": [
    "#hide_input\n",
    "#md('##### {}'.format(titleBTC)) \n",
    "md(\"- {}{} {}{} [| Skaityti daugiau]({}) \".format(blockchain['title'],'. ', blockchain['body'], ' ...', blockchain['url']))"
   ]
  },
  {
   "cell_type": "code",
   "execution_count": 4,
   "id": "aging-caution",
   "metadata": {
    "execution": {
     "iopub.execute_input": "2022-02-12T02:06:26.803856Z",
     "iopub.status.busy": "2022-02-12T02:06:26.803262Z",
     "iopub.status.idle": "2022-02-12T02:06:26.806690Z",
     "shell.execute_reply": "2022-02-12T02:06:26.807238Z"
    },
    "papermill": {
     "duration": 0.01919,
     "end_time": "2022-02-12T02:06:26.807375",
     "exception": false,
     "start_time": "2022-02-12T02:06:26.788185",
     "status": "completed"
    },
    "tags": []
   },
   "outputs": [
    {
     "data": {
      "text/markdown": [
       "- Small Cap Index Lead Gains In February, But What Is Bitcoin Doing?.  Altcoins have been bigger winners than bitcoin in the recent recovery. Even though the latter led the recovery, the smaller cap coins have been making all of the waves in the space, outperforming other indexes and bitcoin included. All of this has pointed to an altcoin season after a purported ‘crypto winter’ and the gains recorded so far in February are additional proof of this. Small Cap Index Takes The Lead The whole of the crypto market had suffered from the downtrend that began in December. However, the second week of February had come to some reprieve with double-digit gains across bitcoin and all of the indexes. The small, mid, and large cap indexes have all returned gains so far, but the small cap has taken the leading, showing increased bullish momentum in the smaller cap altcoins. Related Reading &#124; Bitcoin Steadies Above $45k, US Inflation Comes In At 7.5% Year Over Year Just two weeks into February, the small cap index has seen gains as high as 19%. This is a huge step-up for the index after it closed out January as the worst-performing index, seeing accelerated losses compared to its counterparts. The tables have now turned as the gains for the small cap index have been 4% higher than all of the others. Small cap index returns highest gains &#124; Source: Arcane Research Bitcoin, the mid cap, and the large cap index all returned doubled-digit gains for January. Most of the gains recorded were from a single wee... ... [| Skaityti daugiau](https://www.newsbtc.com/news/bitcoin/small-cap-index-lead-gains-in-february-but-what-is-bitcoin-doing/) "
      ],
      "text/plain": [
       "<IPython.core.display.Markdown object>"
      ]
     },
     "execution_count": 4,
     "metadata": {},
     "output_type": "execute_result"
    }
   ],
   "source": [
    "#hide_input\n",
    "#md('##### {}'.format(titleBTC)) \n",
    "md(\"- {}{} {}{} [| Skaityti daugiau]({}) \".format(btc['title'],'. ', btc['body'], ' ...', btc['url']))"
   ]
  },
  {
   "cell_type": "code",
   "execution_count": 5,
   "id": "organic-actress",
   "metadata": {
    "execution": {
     "iopub.execute_input": "2022-02-12T02:06:26.833883Z",
     "iopub.status.busy": "2022-02-12T02:06:26.833285Z",
     "iopub.status.idle": "2022-02-12T02:06:26.837441Z",
     "shell.execute_reply": "2022-02-12T02:06:26.837888Z"
    },
    "papermill": {
     "duration": 0.019968,
     "end_time": "2022-02-12T02:06:26.838028",
     "exception": false,
     "start_time": "2022-02-12T02:06:26.818060",
     "status": "completed"
    },
    "tags": []
   },
   "outputs": [
    {
     "data": {
      "text/markdown": [
       "- Ripple Partners With Digital Euro Think Tank.   ... [| Skaityti daugiau](https://cryptobriefing.com/ripple-partners-with-digital-euro-think-tank/?utm_source=main_feed&utm_medium=rss) "
      ],
      "text/plain": [
       "<IPython.core.display.Markdown object>"
      ]
     },
     "execution_count": 5,
     "metadata": {},
     "output_type": "execute_result"
    }
   ],
   "source": [
    "#hide_input\n",
    "#md('##### {}'.format(titleBTC)) \n",
    "md(\"- {}{} {}{} [| Skaityti daugiau]({}) \".format(xrp['title'],'. ', xrp['body'], ' ...', xrp['url']))"
   ]
  },
  {
   "cell_type": "code",
   "execution_count": 6,
   "id": "prompt-farmer",
   "metadata": {
    "execution": {
     "iopub.execute_input": "2022-02-12T02:06:26.866962Z",
     "iopub.status.busy": "2022-02-12T02:06:26.866159Z",
     "iopub.status.idle": "2022-02-12T02:06:26.871252Z",
     "shell.execute_reply": "2022-02-12T02:06:26.870752Z"
    },
    "papermill": {
     "duration": 0.022173,
     "end_time": "2022-02-12T02:06:26.871363",
     "exception": false,
     "start_time": "2022-02-12T02:06:26.849190",
     "status": "completed"
    },
    "tags": []
   },
   "outputs": [
    {
     "data": {
      "text/markdown": [
       "- XRP, Tron, Chiliz Price Analysis: 10 February.  With the global crypto market cap re-entering above the $2T-zone, the gap between XRP&#8217;s EMA ribbons widened. Thus, entailing a heightened bullish vigor. But its near-term technicals gave mixed signs. Besides, Tron and Chiliz saw reversal patterns on their 4-hour charts while forming a bearish divergence with their RSIs. XRP Since losing the $0.083-mark on [&#8230;] ... [| Skaityti daugiau](https://ambcrypto.com/xrp-tron-chiliz-price-analysis-10-february/) "
      ],
      "text/plain": [
       "<IPython.core.display.Markdown object>"
      ]
     },
     "execution_count": 6,
     "metadata": {},
     "output_type": "execute_result"
    }
   ],
   "source": [
    "#hide_input\n",
    "#md('##### {}'.format(titleBTC)) \n",
    "md(\"- {}{} {}{} [| Skaityti daugiau]({}) \".format(trx['title'],'. ', trx['body'], ' ...', trx['url']))"
   ]
  },
  {
   "cell_type": "code",
   "execution_count": 7,
   "id": "illegal-greece",
   "metadata": {
    "execution": {
     "iopub.execute_input": "2022-02-12T02:06:26.899289Z",
     "iopub.status.busy": "2022-02-12T02:06:26.898624Z",
     "iopub.status.idle": "2022-02-12T02:06:26.901536Z",
     "shell.execute_reply": "2022-02-12T02:06:26.901977Z"
    },
    "papermill": {
     "duration": 0.019057,
     "end_time": "2022-02-12T02:06:26.902111",
     "exception": false,
     "start_time": "2022-02-12T02:06:26.883054",
     "status": "completed"
    },
    "tags": []
   },
   "outputs": [
    {
     "data": {
      "text/markdown": [
       "- Holders of The Sandbox (SAND), Algorand (ALGO), and These Two Crypto Assets Should Get Excited: Altcoin Daily.  Altcoin Daily host Austin Arnold says crypto investors holding these metaverse, non-fungible token (NFT), and decentralized finance (DeFi) assets should be excited by recent news. In his latest YouTube update, Arnold breaks the news that fashion giant Gucci has bought virtual land in the Ethereum-based metaverse, The Sandbox (SAND). Gucci&#8217;s plan to sell virtual fashion on the [&#8230;]The post Holders of The Sandbox (SAND), Algorand (ALGO), and These Two Crypto Assets Should Get Excited: Altcoin Daily appeared first on The Daily Hodl. ... [| Skaityti daugiau](https://dailyhodl.com/2022/02/11/holders-of-the-sandbox-sand-algorand-algo-and-these-two-crypto-assets-should-get-excited-altcoin-daily/) "
      ],
      "text/plain": [
       "<IPython.core.display.Markdown object>"
      ]
     },
     "execution_count": 7,
     "metadata": {},
     "output_type": "execute_result"
    }
   ],
   "source": [
    "#hide_input\n",
    "#md('##### {}'.format(titleBTC)) \n",
    "md(\"- {}{} {}{} [| Skaityti daugiau]({}) \".format(eth['title'],'. ', eth['body'], ' ...', eth['url']))"
   ]
  },
  {
   "cell_type": "code",
   "execution_count": 8,
   "id": "sublime-lounge",
   "metadata": {
    "execution": {
     "iopub.execute_input": "2022-02-12T02:06:26.930991Z",
     "iopub.status.busy": "2022-02-12T02:06:26.929630Z",
     "iopub.status.idle": "2022-02-12T02:06:26.934197Z",
     "shell.execute_reply": "2022-02-12T02:06:26.933699Z"
    },
    "papermill": {
     "duration": 0.020869,
     "end_time": "2022-02-12T02:06:26.934312",
     "exception": false,
     "start_time": "2022-02-12T02:06:26.913443",
     "status": "completed"
    },
    "tags": []
   },
   "outputs": [
    {
     "data": {
      "text/markdown": [
       "- Number of Addresses Holding Cardano ($AD) Hits New 4.5 Million High.  The number of addresses holding Cardano ($ADA) has kept on rising in January to hit a new 4.53 million all-time high as monthly transactions on the cryptocurrency’s network also kept on growing. According to CryptoCompare’s latest Asset Report, the number of Cardano hodlers has grown 10.9% in January to hit 309,000, while the number of […] ... [| Skaityti daugiau](https://www.cryptoglobe.com/latest/2022/02/number-of-addresses-holding-cardano-ad-hits-new-4-5-million-high/) "
      ],
      "text/plain": [
       "<IPython.core.display.Markdown object>"
      ]
     },
     "execution_count": 8,
     "metadata": {},
     "output_type": "execute_result"
    }
   ],
   "source": [
    "#hide_input\n",
    "#md('##### {}'.format(titleBTC)) \n",
    "md(\"- {}{} {}{} [| Skaityti daugiau]({}) \".format(ada['title'],'. ', ada['body'], ' ...', ada['url']))"
   ]
  },
  {
   "cell_type": "code",
   "execution_count": 9,
   "id": "specified-ordering",
   "metadata": {
    "execution": {
     "iopub.execute_input": "2022-02-12T02:06:26.963393Z",
     "iopub.status.busy": "2022-02-12T02:06:26.962819Z",
     "iopub.status.idle": "2022-02-12T02:06:26.966316Z",
     "shell.execute_reply": "2022-02-12T02:06:26.965843Z"
    },
    "papermill": {
     "duration": 0.020301,
     "end_time": "2022-02-12T02:06:26.966449",
     "exception": false,
     "start_time": "2022-02-12T02:06:26.946148",
     "status": "completed"
    },
    "tags": []
   },
   "outputs": [
    {
     "data": {
      "text/markdown": [
       "- South Korean Sovereign Wealth Fund 'Indirectly' Buys Coinbase Shares.  A South Korean sovereign wealth investment fund has \"indirectly\" bought shares in the listed American crypto exchange giant Coinbase – although it has since distanced itself from crypto-related interests....Read More: South Korean Sovereign Wealth Fund 'Indirectly' Buys Coinbase Shares ... [| Skaityti daugiau](https://cryptonews.com/news/south-korean-sovereign-wealth-fund-indirectly-buys-coinbase-shares.htm) "
      ],
      "text/plain": [
       "<IPython.core.display.Markdown object>"
      ]
     },
     "execution_count": 9,
     "metadata": {},
     "output_type": "execute_result"
    }
   ],
   "source": [
    "#hide_input\n",
    "#md('##### {}'.format(titleBTC)) \n",
    "md(\"- {}{} {}{} [| Skaityti daugiau]({}) \".format(exchange['title'],'. ', exchange['body'], ' ...', exchange['url']))"
   ]
  },
  {
   "cell_type": "code",
   "execution_count": null,
   "id": "tender-livestock",
   "metadata": {
    "papermill": {
     "duration": 0.011896,
     "end_time": "2022-02-12T02:06:26.990794",
     "exception": false,
     "start_time": "2022-02-12T02:06:26.978898",
     "status": "completed"
    },
    "tags": []
   },
   "outputs": [],
   "source": []
  },
  {
   "cell_type": "code",
   "execution_count": null,
   "id": "appreciated-diamond",
   "metadata": {
    "papermill": {
     "duration": 0.012372,
     "end_time": "2022-02-12T02:06:27.015459",
     "exception": false,
     "start_time": "2022-02-12T02:06:27.003087",
     "status": "completed"
    },
    "tags": []
   },
   "outputs": [],
   "source": []
  },
  {
   "cell_type": "code",
   "execution_count": null,
   "id": "romance-sweden",
   "metadata": {
    "papermill": {
     "duration": 0.012391,
     "end_time": "2022-02-12T02:06:27.041418",
     "exception": false,
     "start_time": "2022-02-12T02:06:27.029027",
     "status": "completed"
    },
    "tags": []
   },
   "outputs": [],
   "source": []
  },
  {
   "cell_type": "code",
   "execution_count": null,
   "id": "dietary-statistics",
   "metadata": {
    "papermill": {
     "duration": 0.012518,
     "end_time": "2022-02-12T02:06:27.066375",
     "exception": false,
     "start_time": "2022-02-12T02:06:27.053857",
     "status": "completed"
    },
    "tags": []
   },
   "outputs": [],
   "source": []
  }
 ],
 "metadata": {
  "kernelspec": {
   "display_name": "Python 3",
   "language": "python",
   "name": "python3"
  },
  "language_info": {
   "codemirror_mode": {
    "name": "ipython",
    "version": 3
   },
   "file_extension": ".py",
   "mimetype": "text/x-python",
   "name": "python",
   "nbconvert_exporter": "python",
   "pygments_lexer": "ipython3",
   "version": "3.6.15"
  },
  "papermill": {
   "default_parameters": {},
   "duration": 13.477351,
   "end_time": "2022-02-12T02:06:27.498973",
   "environment_variables": {},
   "exception": null,
   "input_path": "Market-News.ipynb",
   "output_path": "Market-News.ipynb",
   "parameters": {},
   "start_time": "2022-02-12T02:06:14.021622",
   "version": "2.2.2"
  }
 },
 "nbformat": 4,
 "nbformat_minor": 5
}