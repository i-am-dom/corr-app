{
 "cells": [
  {
   "cell_type": "markdown",
   "id": "short-greensboro",
   "metadata": {
    "papermill": {
     "duration": 0.012849,
     "end_time": "2022-09-09T03:34:57.614902",
     "exception": false,
     "start_time": "2022-09-09T03:34:57.602053",
     "status": "completed"
    },
    "tags": []
   },
   "source": [
    "# Kriptovaliutų naujienos"
   ]
  },
  {
   "cell_type": "code",
   "execution_count": 1,
   "id": "functioning-knowing",
   "metadata": {
    "execution": {
     "iopub.execute_input": "2022-09-09T03:34:57.643966Z",
     "iopub.status.busy": "2022-09-09T03:34:57.643387Z",
     "iopub.status.idle": "2022-09-09T03:34:58.799613Z",
     "shell.execute_reply": "2022-09-09T03:34:58.799123Z"
    },
    "papermill": {
     "duration": 1.175082,
     "end_time": "2022-09-09T03:34:58.799737",
     "exception": false,
     "start_time": "2022-09-09T03:34:57.624655",
     "status": "completed"
    },
    "tags": []
   },
   "outputs": [],
   "source": [
    "#hide_input\n",
    "import warnings\n",
    "warnings.filterwarnings('ignore')\n",
    "from scripts.read_data import read_api\n",
    "from scripts.read_data import read_news\n",
    "from scripts.read_data import read_covid\n",
    "import matplotlib.pyplot as plt \n",
    "from IPython.display import Markdown as md"
   ]
  },
  {
   "cell_type": "code",
   "execution_count": 2,
   "id": "shared-acceptance",
   "metadata": {
    "execution": {
     "iopub.execute_input": "2022-09-09T03:34:58.824476Z",
     "iopub.status.busy": "2022-09-09T03:34:58.823909Z",
     "iopub.status.idle": "2022-09-09T03:35:10.587310Z",
     "shell.execute_reply": "2022-09-09T03:35:10.586346Z"
    },
    "papermill": {
     "duration": 11.778319,
     "end_time": "2022-09-09T03:35:10.587439",
     "exception": false,
     "start_time": "2022-09-09T03:34:58.809120",
     "status": "completed"
    },
    "tags": []
   },
   "outputs": [],
   "source": [
    "#hide_input\n",
    "blockchain = read_news('blockchain') \n",
    "btc = read_news('btc') \n",
    "xrp = read_news('xrp') \n",
    "trx = read_news('trx') \n",
    "eth = read_news('eth')  \n",
    "ada = read_news('ada')\n",
    "exchange = read_news('exchange') "
   ]
  },
  {
   "cell_type": "code",
   "execution_count": 3,
   "id": "synthetic-notion",
   "metadata": {
    "execution": {
     "iopub.execute_input": "2022-09-09T03:35:10.612873Z",
     "iopub.status.busy": "2022-09-09T03:35:10.612282Z",
     "iopub.status.idle": "2022-09-09T03:35:10.615002Z",
     "shell.execute_reply": "2022-09-09T03:35:10.615429Z"
    },
    "papermill": {
     "duration": 0.018548,
     "end_time": "2022-09-09T03:35:10.615556",
     "exception": false,
     "start_time": "2022-09-09T03:35:10.597008",
     "status": "completed"
    },
    "tags": []
   },
   "outputs": [
    {
     "data": {
      "text/markdown": [
       "- This Token Is “The Opportunity Of A Lifetime”, Price Explodes.  Chainlink, a smart contract company, is considered one of the most impactful blockchain organizations. Its native token, $LINK, is creating its own impact in the crypto market. LINK prices have gone up by close to 12% in the last 7 days. It has increased by 8% in the last 24 hours. Michael van de Poppe, The post This Token Is “The Opportunity Of A Lifetime”, Price Explodes appeared first on CoinGape. ... [| Skaityti daugiau](https://coingape.com/this-token-is-the-opportunity-of-a-lifetime-price-explodes/) "
      ],
      "text/plain": [
       "<IPython.core.display.Markdown object>"
      ]
     },
     "execution_count": 3,
     "metadata": {},
     "output_type": "execute_result"
    }
   ],
   "source": [
    "#hide_input\n",
    "#md('##### {}'.format(titleBTC)) \n",
    "md(\"- {}{} {}{} [| Skaityti daugiau]({}) \".format(blockchain['title'],'. ', blockchain['body'], ' ...', blockchain['url']))"
   ]
  },
  {
   "cell_type": "code",
   "execution_count": 4,
   "id": "aging-caution",
   "metadata": {
    "execution": {
     "iopub.execute_input": "2022-09-09T03:35:10.640005Z",
     "iopub.status.busy": "2022-09-09T03:35:10.639425Z",
     "iopub.status.idle": "2022-09-09T03:35:10.642898Z",
     "shell.execute_reply": "2022-09-09T03:35:10.642431Z"
    },
    "papermill": {
     "duration": 0.017795,
     "end_time": "2022-09-09T03:35:10.643006",
     "exception": false,
     "start_time": "2022-09-09T03:35:10.625211",
     "status": "completed"
    },
    "tags": []
   },
   "outputs": [
    {
     "data": {
      "text/markdown": [
       "- TA: Bitcoin Price Gearing For Another Lift-Off to $20k, Altcoins Stable.  Bitcoin is showing a few positive signs above $19,000 against the US Dollar. BTC could gain bullish momentum if it clears the $19,400 resistance zone. Bitcoin started an upside correction and climbed above $19,000. The price is now testing the $19,400 zone and the 100 hourly simple moving average. There was a break above a key bearish trend line with resistance near $19,200 on the hourly chart of the BTC/USD pair (data feed from Kraken). The pair might start a decent increase if there is a clear move above the $19,500 resistance. Bitcoin Price Attempts Upside Break Bitcoin price found support near the $18,550 zone and recently started an upside correction. There was a steady recovery wave above the $19,000 resistance zone. There was a break above a key bearish trend line with resistance near $19,200 on the hourly chart of the BTC/USD pair. The bulls were able to push the price above the 23.6% Fib retracement level of the downward move from the $20,172 swing high to $18,550 low. Bitcoin price is now testing the $19,400 zone and the 100 hourly simple moving average. The price is also trading near the 50% Fib retracement level of the downward move from the $20,172 swing high to $18,550 low. Source: BTCUSD on TradingView.com On the upside, an immediate resistance is near the $19,400 level and the 100 hourly simple moving average. The next major resistance sits near the $19,500 level. A proper close above the $19,500 resistance mig... ... [| Skaityti daugiau](https://www.newsbtc.com/analysis/btc/ta-bitcoin-price-gearing-for-another-lift-off-to-20k-altcoins-stable/) "
      ],
      "text/plain": [
       "<IPython.core.display.Markdown object>"
      ]
     },
     "execution_count": 4,
     "metadata": {},
     "output_type": "execute_result"
    }
   ],
   "source": [
    "#hide_input\n",
    "#md('##### {}'.format(titleBTC)) \n",
    "md(\"- {}{} {}{} [| Skaityti daugiau]({}) \".format(btc['title'],'. ', btc['body'], ' ...', btc['url']))"
   ]
  },
  {
   "cell_type": "code",
   "execution_count": 5,
   "id": "organic-actress",
   "metadata": {
    "execution": {
     "iopub.execute_input": "2022-09-09T03:35:10.667271Z",
     "iopub.status.busy": "2022-09-09T03:35:10.665258Z",
     "iopub.status.idle": "2022-09-09T03:35:10.670823Z",
     "shell.execute_reply": "2022-09-09T03:35:10.670364Z"
    },
    "papermill": {
     "duration": 0.017949,
     "end_time": "2022-09-09T03:35:10.670929",
     "exception": false,
     "start_time": "2022-09-09T03:35:10.652980",
     "status": "completed"
    },
    "tags": []
   },
   "outputs": [
    {
     "data": {
      "text/markdown": [
       "- Ripple Advisor Hints More CBDC Announcements To Come in Following Weeks.  Blockchain-based payments company Ripple may issue announcements related to central bank digital currency (CBDC) in the coming weeks. Ripple’s senior advisor for CBDC and global partnership Antony Welfare hints that the San Francisco-based firm could make an announcement as XRP-focused analyst CryptoEri shares that Ripple is working on several related projects. “Make sure you follow [&#8230;]The post Ripple Advisor Hints More CBDC Announcements To Come in Following Weeks appeared first on The Daily Hodl. ... [| Skaityti daugiau](https://dailyhodl.com/2022/09/08/ripple-advisor-hints-more-cbdc-announcements-to-come-in-following-weeks/) "
      ],
      "text/plain": [
       "<IPython.core.display.Markdown object>"
      ]
     },
     "execution_count": 5,
     "metadata": {},
     "output_type": "execute_result"
    }
   ],
   "source": [
    "#hide_input\n",
    "#md('##### {}'.format(titleBTC)) \n",
    "md(\"- {}{} {}{} [| Skaityti daugiau]({}) \".format(xrp['title'],'. ', xrp['body'], ' ...', xrp['url']))"
   ]
  },
  {
   "cell_type": "code",
   "execution_count": 6,
   "id": "prompt-farmer",
   "metadata": {
    "execution": {
     "iopub.execute_input": "2022-09-09T03:35:10.696376Z",
     "iopub.status.busy": "2022-09-09T03:35:10.695791Z",
     "iopub.status.idle": "2022-09-09T03:35:10.699394Z",
     "shell.execute_reply": "2022-09-09T03:35:10.698933Z"
    },
    "papermill": {
     "duration": 0.018289,
     "end_time": "2022-09-09T03:35:10.699501",
     "exception": false,
     "start_time": "2022-09-09T03:35:10.681212",
     "status": "completed"
    },
    "tags": []
   },
   "outputs": [
    {
     "data": {
      "text/markdown": [
       "- Tron [TRX]: The technical hurdles to consider before taking a long position.  Disclaimer: The findings of the following analysis are the sole opinions of the writer and should not be considered investment advice. As anticipated by a previous article, Tron [TRX] reversed from its falling-wedge-like structure before pulling back into bearish clutches. For over eight weeks, the sellers strived to breach the $0.063-support (now resistance). The recent [&#8230;] ... [| Skaityti daugiau](https://ambcrypto.com/tron-trx-the-technical-hurdles-to-consider-before-taking-a-long-position/) "
      ],
      "text/plain": [
       "<IPython.core.display.Markdown object>"
      ]
     },
     "execution_count": 6,
     "metadata": {},
     "output_type": "execute_result"
    }
   ],
   "source": [
    "#hide_input\n",
    "#md('##### {}'.format(titleBTC)) \n",
    "md(\"- {}{} {}{} [| Skaityti daugiau]({}) \".format(trx['title'],'. ', trx['body'], ' ...', trx['url']))"
   ]
  },
  {
   "cell_type": "code",
   "execution_count": 7,
   "id": "illegal-greece",
   "metadata": {
    "execution": {
     "iopub.execute_input": "2022-09-09T03:35:10.725626Z",
     "iopub.status.busy": "2022-09-09T03:35:10.725051Z",
     "iopub.status.idle": "2022-09-09T03:35:10.728567Z",
     "shell.execute_reply": "2022-09-09T03:35:10.728109Z"
    },
    "papermill": {
     "duration": 0.018428,
     "end_time": "2022-09-09T03:35:10.728669",
     "exception": false,
     "start_time": "2022-09-09T03:35:10.710241",
     "status": "completed"
    },
    "tags": []
   },
   "outputs": [
    {
     "data": {
      "text/markdown": [
       "- Polygon [MATIC] goes green but will the price follow suit.  Polygon [MATIC] in a recent announcement dated 7 September, stated that their operations would be greener after the Ethereum [ETH] Merge. With ETH shifting to Proof of Stake (PoS), the Polygon team estimated that 99.91% of their carbon emissions will be reduced. The drop in Polygon&#8217;s carbon emissions has driven the price of MATIC in [&#8230;] ... [| Skaityti daugiau](https://ambcrypto.com/polygon-matic-goes-green-but-will-the-price-follow-suit/) "
      ],
      "text/plain": [
       "<IPython.core.display.Markdown object>"
      ]
     },
     "execution_count": 7,
     "metadata": {},
     "output_type": "execute_result"
    }
   ],
   "source": [
    "#hide_input\n",
    "#md('##### {}'.format(titleBTC)) \n",
    "md(\"- {}{} {}{} [| Skaityti daugiau]({}) \".format(eth['title'],'. ', eth['body'], ' ...', eth['url']))"
   ]
  },
  {
   "cell_type": "code",
   "execution_count": 8,
   "id": "sublime-lounge",
   "metadata": {
    "execution": {
     "iopub.execute_input": "2022-09-09T03:35:10.756263Z",
     "iopub.status.busy": "2022-09-09T03:35:10.755698Z",
     "iopub.status.idle": "2022-09-09T03:35:10.758895Z",
     "shell.execute_reply": "2022-09-09T03:35:10.758355Z"
    },
    "papermill": {
     "duration": 0.018448,
     "end_time": "2022-09-09T03:35:10.758996",
     "exception": false,
     "start_time": "2022-09-09T03:35:10.740548",
     "status": "completed"
    },
    "tags": []
   },
   "outputs": [
    {
     "data": {
      "text/markdown": [
       "- Cardano Builder Introduces Daedalus Version for Mainnet. Here's What's New.  Cardano builder Input Output has released the latest version the Daedalus wallet with several important fixes  ... [| Skaityti daugiau](https://u.today/cardano-builder-introduces-daedalus-version-for-mainnet-heres-whats-new) "
      ],
      "text/plain": [
       "<IPython.core.display.Markdown object>"
      ]
     },
     "execution_count": 8,
     "metadata": {},
     "output_type": "execute_result"
    }
   ],
   "source": [
    "#hide_input\n",
    "#md('##### {}'.format(titleBTC)) \n",
    "md(\"- {}{} {}{} [| Skaityti daugiau]({}) \".format(ada['title'],'. ', ada['body'], ' ...', ada['url']))"
   ]
  },
  {
   "cell_type": "code",
   "execution_count": 9,
   "id": "specified-ordering",
   "metadata": {
    "execution": {
     "iopub.execute_input": "2022-09-09T03:35:10.786321Z",
     "iopub.status.busy": "2022-09-09T03:35:10.785725Z",
     "iopub.status.idle": "2022-09-09T03:35:10.789312Z",
     "shell.execute_reply": "2022-09-09T03:35:10.788841Z"
    },
    "papermill": {
     "duration": 0.019291,
     "end_time": "2022-09-09T03:35:10.789423",
     "exception": false,
     "start_time": "2022-09-09T03:35:10.770132",
     "status": "completed"
    },
    "tags": []
   },
   "outputs": [
    {
     "data": {
      "text/markdown": [
       "- USDT: Binance action spurs >$15B gap but battle is not yet over.  Circle [USDC] has kept Tether [USDT] on its toes in the stablecoin superiority fight since the start of 2022. However, the recent Binance decision to convert other stablecoins except for USDT to Binance USD [BUSD] has dealt USDC&#8217;s mission a big blow. A few days after the exchange announcement, the market&#8217;s signs have begun to [&#8230;] ... [| Skaityti daugiau](https://ambcrypto.com/usdt-binance-action-spurs-15b-gap-but-battle-is-not-yet-over/) "
      ],
      "text/plain": [
       "<IPython.core.display.Markdown object>"
      ]
     },
     "execution_count": 9,
     "metadata": {},
     "output_type": "execute_result"
    }
   ],
   "source": [
    "#hide_input\n",
    "#md('##### {}'.format(titleBTC)) \n",
    "md(\"- {}{} {}{} [| Skaityti daugiau]({}) \".format(exchange['title'],'. ', exchange['body'], ' ...', exchange['url']))"
   ]
  },
  {
   "cell_type": "code",
   "execution_count": null,
   "id": "tender-livestock",
   "metadata": {
    "papermill": {
     "duration": 0.011517,
     "end_time": "2022-09-09T03:35:10.812462",
     "exception": false,
     "start_time": "2022-09-09T03:35:10.800945",
     "status": "completed"
    },
    "tags": []
   },
   "outputs": [],
   "source": []
  },
  {
   "cell_type": "code",
   "execution_count": null,
   "id": "appreciated-diamond",
   "metadata": {
    "papermill": {
     "duration": 0.01125,
     "end_time": "2022-09-09T03:35:10.835665",
     "exception": false,
     "start_time": "2022-09-09T03:35:10.824415",
     "status": "completed"
    },
    "tags": []
   },
   "outputs": [],
   "source": []
  },
  {
   "cell_type": "code",
   "execution_count": null,
   "id": "romance-sweden",
   "metadata": {
    "papermill": {
     "duration": 0.011345,
     "end_time": "2022-09-09T03:35:10.858378",
     "exception": false,
     "start_time": "2022-09-09T03:35:10.847033",
     "status": "completed"
    },
    "tags": []
   },
   "outputs": [],
   "source": []
  },
  {
   "cell_type": "code",
   "execution_count": null,
   "id": "dietary-statistics",
   "metadata": {
    "papermill": {
     "duration": 0.011306,
     "end_time": "2022-09-09T03:35:10.881134",
     "exception": false,
     "start_time": "2022-09-09T03:35:10.869828",
     "status": "completed"
    },
    "tags": []
   },
   "outputs": [],
   "source": []
  }
 ],
 "metadata": {
  "kernelspec": {
   "display_name": "Python 3",
   "language": "python",
   "name": "python3"
  },
  "language_info": {
   "codemirror_mode": {
    "name": "ipython",
    "version": 3
   },
   "file_extension": ".py",
   "mimetype": "text/x-python",
   "name": "python",
   "nbconvert_exporter": "python",
   "pygments_lexer": "ipython3",
   "version": "3.6.15"
  },
  "papermill": {
   "default_parameters": {},
   "duration": 14.621374,
   "end_time": "2022-09-09T03:35:11.310071",
   "environment_variables": {},
   "exception": null,
   "input_path": "Market-News.ipynb",
   "output_path": "Market-News.ipynb",
   "parameters": {},
   "start_time": "2022-09-09T03:34:56.688697",
   "version": "2.2.2"
  }
 },
 "nbformat": 4,
 "nbformat_minor": 5
}