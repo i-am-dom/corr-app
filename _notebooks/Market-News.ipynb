{
 "cells": [
  {
   "cell_type": "markdown",
   "id": "short-greensboro",
   "metadata": {
    "papermill": {
     "duration": 0.013383,
     "end_time": "2022-08-28T03:29:55.722083",
     "exception": false,
     "start_time": "2022-08-28T03:29:55.708700",
     "status": "completed"
    },
    "tags": []
   },
   "source": [
    "# Kriptovaliutų naujienos"
   ]
  },
  {
   "cell_type": "code",
   "execution_count": 1,
   "id": "functioning-knowing",
   "metadata": {
    "execution": {
     "iopub.execute_input": "2022-08-28T03:29:55.753622Z",
     "iopub.status.busy": "2022-08-28T03:29:55.753035Z",
     "iopub.status.idle": "2022-08-28T03:29:56.984159Z",
     "shell.execute_reply": "2022-08-28T03:29:56.984690Z"
    },
    "papermill": {
     "duration": 1.250311,
     "end_time": "2022-08-28T03:29:56.984895",
     "exception": false,
     "start_time": "2022-08-28T03:29:55.734584",
     "status": "completed"
    },
    "tags": []
   },
   "outputs": [],
   "source": [
    "#hide_input\n",
    "import warnings\n",
    "warnings.filterwarnings('ignore')\n",
    "from scripts.read_data import read_api\n",
    "from scripts.read_data import read_news\n",
    "from scripts.read_data import read_covid\n",
    "import matplotlib.pyplot as plt \n",
    "from IPython.display import Markdown as md"
   ]
  },
  {
   "cell_type": "code",
   "execution_count": 2,
   "id": "shared-acceptance",
   "metadata": {
    "execution": {
     "iopub.execute_input": "2022-08-28T03:29:57.009805Z",
     "iopub.status.busy": "2022-08-28T03:29:57.008805Z",
     "iopub.status.idle": "2022-08-28T03:30:12.527596Z",
     "shell.execute_reply": "2022-08-28T03:30:12.527008Z"
    },
    "papermill": {
     "duration": 15.533578,
     "end_time": "2022-08-28T03:30:12.527744",
     "exception": false,
     "start_time": "2022-08-28T03:29:56.994166",
     "status": "completed"
    },
    "tags": []
   },
   "outputs": [],
   "source": [
    "#hide_input\n",
    "blockchain = read_news('blockchain') \n",
    "btc = read_news('btc') \n",
    "xrp = read_news('xrp') \n",
    "trx = read_news('trx') \n",
    "eth = read_news('eth')  \n",
    "ada = read_news('ada')\n",
    "exchange = read_news('exchange') "
   ]
  },
  {
   "cell_type": "code",
   "execution_count": 3,
   "id": "synthetic-notion",
   "metadata": {
    "execution": {
     "iopub.execute_input": "2022-08-28T03:30:12.552842Z",
     "iopub.status.busy": "2022-08-28T03:30:12.552232Z",
     "iopub.status.idle": "2022-08-28T03:30:12.555549Z",
     "shell.execute_reply": "2022-08-28T03:30:12.555090Z"
    },
    "papermill": {
     "duration": 0.018674,
     "end_time": "2022-08-28T03:30:12.555667",
     "exception": false,
     "start_time": "2022-08-28T03:30:12.536993",
     "status": "completed"
    },
    "tags": []
   },
   "outputs": [
    {
     "data": {
      "text/markdown": [
       "- Binance to Help South Korean City of Busan Grow Crypto Adoption, Develop Blockchain Ecosystem.  Binance is helping the South Korean city of Busan &#x201C;grow crypto adoption within the city and beyond.&#x201D; The global crypto exchange will also support the development of the city&#x2019;s blockchain ecosystem and the Busan Digital Asset Exchange. Binance Signs MOU With Busan City Cryptocurrency exchange Binance announced Friday that it has signed a Memorandum of [&#8230;] ... [| Skaityti daugiau](https://news.bitcoin.com/binance-to-help-south-korean-city-of-busan-grow-crypto-adoption-develop-blockchain-ecosystem/) "
      ],
      "text/plain": [
       "<IPython.core.display.Markdown object>"
      ]
     },
     "execution_count": 3,
     "metadata": {},
     "output_type": "execute_result"
    }
   ],
   "source": [
    "#hide_input\n",
    "#md('##### {}'.format(titleBTC)) \n",
    "md(\"- {}{} {}{} [| Skaityti daugiau]({}) \".format(blockchain['title'],'. ', blockchain['body'], ' ...', blockchain['url']))"
   ]
  },
  {
   "cell_type": "code",
   "execution_count": 4,
   "id": "aging-caution",
   "metadata": {
    "execution": {
     "iopub.execute_input": "2022-08-28T03:30:12.579213Z",
     "iopub.status.busy": "2022-08-28T03:30:12.578578Z",
     "iopub.status.idle": "2022-08-28T03:30:12.581723Z",
     "shell.execute_reply": "2022-08-28T03:30:12.582164Z"
    },
    "papermill": {
     "duration": 0.017373,
     "end_time": "2022-08-28T03:30:12.582278",
     "exception": false,
     "start_time": "2022-08-28T03:30:12.564905",
     "status": "completed"
    },
    "tags": []
   },
   "outputs": [
    {
     "data": {
      "text/markdown": [
       "- The Journey Through Bitcoin Is Full Of Helping Hands.  One Bitcoiner’s journey making it through a major bitcoin crash, going on a quest to learn from others and finding community in the process. ... [| Skaityti daugiau](https://bitcoinmagazine.com/culture/bitcoin-journey-is-full-of-helping-hands) "
      ],
      "text/plain": [
       "<IPython.core.display.Markdown object>"
      ]
     },
     "execution_count": 4,
     "metadata": {},
     "output_type": "execute_result"
    }
   ],
   "source": [
    "#hide_input\n",
    "#md('##### {}'.format(titleBTC)) \n",
    "md(\"- {}{} {}{} [| Skaityti daugiau]({}) \".format(btc['title'],'. ', btc['body'], ' ...', btc['url']))"
   ]
  },
  {
   "cell_type": "code",
   "execution_count": 5,
   "id": "organic-actress",
   "metadata": {
    "execution": {
     "iopub.execute_input": "2022-08-28T03:30:12.605763Z",
     "iopub.status.busy": "2022-08-28T03:30:12.605185Z",
     "iopub.status.idle": "2022-08-28T03:30:12.608512Z",
     "shell.execute_reply": "2022-08-28T03:30:12.609055Z"
    },
    "papermill": {
     "duration": 0.017547,
     "end_time": "2022-08-28T03:30:12.609167",
     "exception": false,
     "start_time": "2022-08-28T03:30:12.591620",
     "status": "completed"
    },
    "tags": []
   },
   "outputs": [
    {
     "data": {
      "text/markdown": [
       "- Ripple’s XRP Rally To Induce Price Drop At This Level Soon?.  Amidst frequent ups and downs in the recent times, XRP price steadied around $0.33 in the last week. But the recent high of $0.38 is yet to be realized, with price fluctuating under $0.36 until last week. Meanwhile, another short rally for Ripple (XRP) could result in a price drop for the seventh ranked cryptocurrency. The post Ripple&#8217;s XRP Rally To Induce Price Drop At This Level Soon? appeared first on CoinGape. ... [| Skaityti daugiau](https://coingape.com/ripples-xrp-rally-to-induce-price-drop-at-this-level-soon/) "
      ],
      "text/plain": [
       "<IPython.core.display.Markdown object>"
      ]
     },
     "execution_count": 5,
     "metadata": {},
     "output_type": "execute_result"
    }
   ],
   "source": [
    "#hide_input\n",
    "#md('##### {}'.format(titleBTC)) \n",
    "md(\"- {}{} {}{} [| Skaityti daugiau]({}) \".format(xrp['title'],'. ', xrp['body'], ' ...', xrp['url']))"
   ]
  },
  {
   "cell_type": "code",
   "execution_count": 6,
   "id": "prompt-farmer",
   "metadata": {
    "execution": {
     "iopub.execute_input": "2022-08-28T03:30:12.633229Z",
     "iopub.status.busy": "2022-08-28T03:30:12.632662Z",
     "iopub.status.idle": "2022-08-28T03:30:12.635908Z",
     "shell.execute_reply": "2022-08-28T03:30:12.636451Z"
    },
    "papermill": {
     "duration": 0.0177,
     "end_time": "2022-08-28T03:30:12.636561",
     "exception": false,
     "start_time": "2022-08-28T03:30:12.618861",
     "status": "completed"
    },
    "tags": []
   },
   "outputs": [
    {
     "data": {
      "text/markdown": [
       "- $0.063 Support Breakdown Position TRX Price For Another 8.2% Fall.  The two-month consolidation in TRX price resulted in the sellers&#8217; favor as the they pierced the $0.063 support. This breakdown should encourage the ongoing correction and plunge the price to the next supply zone at $0.00576; should you enter a short position? The post $0.063 Support Breakdown Position TRX Price For Another 8.2% Fall appeared first on CoinGape. ... [| Skaityti daugiau](https://coingape.com/markets/0-063-support-breakdown-position-trx-price-for-another-8-2-fall/) "
      ],
      "text/plain": [
       "<IPython.core.display.Markdown object>"
      ]
     },
     "execution_count": 6,
     "metadata": {},
     "output_type": "execute_result"
    }
   ],
   "source": [
    "#hide_input\n",
    "#md('##### {}'.format(titleBTC)) \n",
    "md(\"- {}{} {}{} [| Skaityti daugiau]({}) \".format(trx['title'],'. ', trx['body'], ' ...', trx['url']))"
   ]
  },
  {
   "cell_type": "code",
   "execution_count": 7,
   "id": "illegal-greece",
   "metadata": {
    "execution": {
     "iopub.execute_input": "2022-08-28T03:30:12.662546Z",
     "iopub.status.busy": "2022-08-28T03:30:12.661965Z",
     "iopub.status.idle": "2022-08-28T03:30:12.665600Z",
     "shell.execute_reply": "2022-08-28T03:30:12.665137Z"
    },
    "papermill": {
     "duration": 0.019023,
     "end_time": "2022-08-28T03:30:12.665701",
     "exception": false,
     "start_time": "2022-08-28T03:30:12.646678",
     "status": "completed"
    },
    "tags": []
   },
   "outputs": [
    {
     "data": {
      "text/markdown": [
       "- Ethereum Price Faces Sell Off, How Far Is The Correction Going To Go?.  Ethereum price registered a fresh decline on its chart over the last 24 hours. The altcoin declined by 7% over the past day. In the last week, ETH fell by 9% and started to trade below the support level of $1,520. The broader market weakness could be blamed for most major altcoin&#8217;s southward movement on their respective charts. Ethereum price was trying to hold itself above its immediate resistance, the altcoin met with a significant sell-off. Technical outlook for the coin also pointed towards bearish strength. Buyers exited the market as soon as ETH failed to defend the immediate support level. ETH might continue to fall on the chart if the coin doesn&#8217;t manage to trade above the $1,400 price level. Bitcoin plunged to the $19,900 price mark which caused sellers to become active in the market. A fall below the $1,400 level will cause the Ethereum price to rest at the $1,367 level. Broader market support and buying strength will be needed in order for the altcoin to break its bearish thesis. Ethereum Price Analysis: Four-Hour Chart ETH was trading for $1,470 at the time of writing. The altcoin had tried recovering on its chart and the current price movement could be a correction. The selling pressure strengthened after Etheruem price fell below $1,500. The immediate support level for the coin stood at $1,400. If Ethereum remains above the $1,400 level, further losses could be prevented however, the coin will still n... ... [| Skaityti daugiau](https://www.newsbtc.com/news/ethereum-price-faces-sell-off-how-far-is-the-correction-going-to-go/) "
      ],
      "text/plain": [
       "<IPython.core.display.Markdown object>"
      ]
     },
     "execution_count": 7,
     "metadata": {},
     "output_type": "execute_result"
    }
   ],
   "source": [
    "#hide_input\n",
    "#md('##### {}'.format(titleBTC)) \n",
    "md(\"- {}{} {}{} [| Skaityti daugiau]({}) \".format(eth['title'],'. ', eth['body'], ' ...', eth['url']))"
   ]
  },
  {
   "cell_type": "code",
   "execution_count": 8,
   "id": "sublime-lounge",
   "metadata": {
    "execution": {
     "iopub.execute_input": "2022-08-28T03:30:12.691058Z",
     "iopub.status.busy": "2022-08-28T03:30:12.690450Z",
     "iopub.status.idle": "2022-08-28T03:30:12.693537Z",
     "shell.execute_reply": "2022-08-28T03:30:12.693977Z"
    },
    "papermill": {
     "duration": 0.018048,
     "end_time": "2022-08-28T03:30:12.694089",
     "exception": false,
     "start_time": "2022-08-28T03:30:12.676041",
     "status": "completed"
    },
    "tags": []
   },
   "outputs": [
    {
     "data": {
      "text/markdown": [
       "- Attention Cardano investors! Relief squad ADA is not too far away.  The Cardano [ADA] rollercoaster this week has reached another high on 27 August after the latest update on Vasil adoption. According to Pool Tool, 69% of Cardano’s staking pool operator nodes have adopted the latest v1.35.3. However, the community is still waiting for at least 6% more to kickstart Vasil implementation. Interestingly, the week got [&#8230;] ... [| Skaityti daugiau](https://ambcrypto.com/attention-cardano-investors-relief-squad-ada-is-not-too-far-away/) "
      ],
      "text/plain": [
       "<IPython.core.display.Markdown object>"
      ]
     },
     "execution_count": 8,
     "metadata": {},
     "output_type": "execute_result"
    }
   ],
   "source": [
    "#hide_input\n",
    "#md('##### {}'.format(titleBTC)) \n",
    "md(\"- {}{} {}{} [| Skaityti daugiau]({}) \".format(ada['title'],'. ', ada['body'], ' ...', ada['url']))"
   ]
  },
  {
   "cell_type": "code",
   "execution_count": 9,
   "id": "specified-ordering",
   "metadata": {
    "execution": {
     "iopub.execute_input": "2022-08-28T03:30:12.720383Z",
     "iopub.status.busy": "2022-08-28T03:30:12.719818Z",
     "iopub.status.idle": "2022-08-28T03:30:12.723232Z",
     "shell.execute_reply": "2022-08-28T03:30:12.722738Z"
    },
    "papermill": {
     "duration": 0.01859,
     "end_time": "2022-08-28T03:30:12.723335",
     "exception": false,
     "start_time": "2022-08-28T03:30:12.704745",
     "status": "completed"
    },
    "tags": []
   },
   "outputs": [
    {
     "data": {
      "text/markdown": [
       "- Binance to Help South Korean City of Busan Grow Crypto Adoption, Develop Blockchain Ecosystem.  Binance is helping the South Korean city of Busan &#x201C;grow crypto adoption within the city and beyond.&#x201D; The global crypto exchange will also support the development of the city&#x2019;s blockchain ecosystem and the Busan Digital Asset Exchange. Binance Signs MOU With Busan City Cryptocurrency exchange Binance announced Friday that it has signed a Memorandum of [&#8230;] ... [| Skaityti daugiau](https://news.bitcoin.com/binance-to-help-south-korean-city-of-busan-grow-crypto-adoption-develop-blockchain-ecosystem/) "
      ],
      "text/plain": [
       "<IPython.core.display.Markdown object>"
      ]
     },
     "execution_count": 9,
     "metadata": {},
     "output_type": "execute_result"
    }
   ],
   "source": [
    "#hide_input\n",
    "#md('##### {}'.format(titleBTC)) \n",
    "md(\"- {}{} {}{} [| Skaityti daugiau]({}) \".format(exchange['title'],'. ', exchange['body'], ' ...', exchange['url']))"
   ]
  },
  {
   "cell_type": "code",
   "execution_count": null,
   "id": "tender-livestock",
   "metadata": {
    "papermill": {
     "duration": 0.011322,
     "end_time": "2022-08-28T03:30:12.745704",
     "exception": false,
     "start_time": "2022-08-28T03:30:12.734382",
     "status": "completed"
    },
    "tags": []
   },
   "outputs": [],
   "source": []
  },
  {
   "cell_type": "code",
   "execution_count": null,
   "id": "appreciated-diamond",
   "metadata": {
    "papermill": {
     "duration": 0.011112,
     "end_time": "2022-08-28T03:30:12.767989",
     "exception": false,
     "start_time": "2022-08-28T03:30:12.756877",
     "status": "completed"
    },
    "tags": []
   },
   "outputs": [],
   "source": []
  },
  {
   "cell_type": "code",
   "execution_count": null,
   "id": "romance-sweden",
   "metadata": {
    "papermill": {
     "duration": 0.011037,
     "end_time": "2022-08-28T03:30:12.790065",
     "exception": false,
     "start_time": "2022-08-28T03:30:12.779028",
     "status": "completed"
    },
    "tags": []
   },
   "outputs": [],
   "source": []
  },
  {
   "cell_type": "code",
   "execution_count": null,
   "id": "dietary-statistics",
   "metadata": {
    "papermill": {
     "duration": 0.011167,
     "end_time": "2022-08-28T03:30:12.812272",
     "exception": false,
     "start_time": "2022-08-28T03:30:12.801105",
     "status": "completed"
    },
    "tags": []
   },
   "outputs": [],
   "source": []
  }
 ],
 "metadata": {
  "kernelspec": {
   "display_name": "Python 3",
   "language": "python",
   "name": "python3"
  },
  "language_info": {
   "codemirror_mode": {
    "name": "ipython",
    "version": 3
   },
   "file_extension": ".py",
   "mimetype": "text/x-python",
   "name": "python",
   "nbconvert_exporter": "python",
   "pygments_lexer": "ipython3",
   "version": "3.6.15"
  },
  "papermill": {
   "default_parameters": {},
   "duration": 18.554336,
   "end_time": "2022-08-28T03:30:13.342941",
   "environment_variables": {},
   "exception": null,
   "input_path": "Market-News.ipynb",
   "output_path": "Market-News.ipynb",
   "parameters": {},
   "start_time": "2022-08-28T03:29:54.788605",
   "version": "2.2.2"
  }
 },
 "nbformat": 4,
 "nbformat_minor": 5
}