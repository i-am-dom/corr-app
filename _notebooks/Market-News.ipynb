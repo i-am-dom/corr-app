{
 "cells": [
  {
   "cell_type": "markdown",
   "id": "short-greensboro",
   "metadata": {
    "papermill": {
     "duration": 0.012936,
     "end_time": "2022-10-28T03:20:58.211497",
     "exception": false,
     "start_time": "2022-10-28T03:20:58.198561",
     "status": "completed"
    },
    "tags": []
   },
   "source": [
    "# Kriptovaliutų naujienos"
   ]
  },
  {
   "cell_type": "code",
   "execution_count": 1,
   "id": "functioning-knowing",
   "metadata": {
    "execution": {
     "iopub.execute_input": "2022-10-28T03:20:58.241116Z",
     "iopub.status.busy": "2022-10-28T03:20:58.238750Z",
     "iopub.status.idle": "2022-10-28T03:20:59.389554Z",
     "shell.execute_reply": "2022-10-28T03:20:59.388574Z"
    },
    "papermill": {
     "duration": 1.16741,
     "end_time": "2022-10-28T03:20:59.389696",
     "exception": false,
     "start_time": "2022-10-28T03:20:58.222286",
     "status": "completed"
    },
    "tags": []
   },
   "outputs": [],
   "source": [
    "#hide_input\n",
    "import warnings\n",
    "warnings.filterwarnings('ignore')\n",
    "from scripts.read_data import read_api\n",
    "from scripts.read_data import read_news\n",
    "from scripts.read_data import read_covid\n",
    "import matplotlib.pyplot as plt \n",
    "from IPython.display import Markdown as md"
   ]
  },
  {
   "cell_type": "code",
   "execution_count": 2,
   "id": "shared-acceptance",
   "metadata": {
    "execution": {
     "iopub.execute_input": "2022-10-28T03:20:59.414149Z",
     "iopub.status.busy": "2022-10-28T03:20:59.413199Z",
     "iopub.status.idle": "2022-10-28T03:21:10.316386Z",
     "shell.execute_reply": "2022-10-28T03:21:10.315436Z"
    },
    "papermill": {
     "duration": 10.917414,
     "end_time": "2022-10-28T03:21:10.316511",
     "exception": false,
     "start_time": "2022-10-28T03:20:59.399097",
     "status": "completed"
    },
    "tags": []
   },
   "outputs": [],
   "source": [
    "#hide_input\n",
    "blockchain = read_news('blockchain') \n",
    "btc = read_news('btc') \n",
    "xrp = read_news('xrp') \n",
    "trx = read_news('trx') \n",
    "eth = read_news('eth')  \n",
    "ada = read_news('ada')\n",
    "exchange = read_news('exchange') "
   ]
  },
  {
   "cell_type": "code",
   "execution_count": 3,
   "id": "synthetic-notion",
   "metadata": {
    "execution": {
     "iopub.execute_input": "2022-10-28T03:21:10.340821Z",
     "iopub.status.busy": "2022-10-28T03:21:10.340246Z",
     "iopub.status.idle": "2022-10-28T03:21:10.342893Z",
     "shell.execute_reply": "2022-10-28T03:21:10.343318Z"
    },
    "papermill": {
     "duration": 0.017617,
     "end_time": "2022-10-28T03:21:10.343429",
     "exception": false,
     "start_time": "2022-10-28T03:21:10.325812",
     "status": "completed"
    },
    "tags": []
   },
   "outputs": [
    {
     "data": {
      "text/markdown": [
       "- BNB investors can expect some good days ahead if the following come through….  Binance’s (BNB) recently-launched Binance Oracle received quite a bit of popularity as several new projects joined the program. In fact, according to the crypto-exchange&#8217;s latest tweet, 10 new projects on the BNB Chain have joined the early-bird program. Binance Oracle is a data service supplied by the company as it aims to provide the blockchain [&#8230;] ... [| Skaityti daugiau](https://ambcrypto.com/bnb-investors-can-expect-some-good-days-ahead-if-the-following-come-through/) "
      ],
      "text/plain": [
       "<IPython.core.display.Markdown object>"
      ]
     },
     "execution_count": 3,
     "metadata": {},
     "output_type": "execute_result"
    }
   ],
   "source": [
    "#hide_input\n",
    "#md('##### {}'.format(titleBTC)) \n",
    "md(\"- {}{} {}{} [| Skaityti daugiau]({}) \".format(blockchain['title'],'. ', blockchain['body'], ' ...', blockchain['url']))"
   ]
  },
  {
   "cell_type": "code",
   "execution_count": 4,
   "id": "aging-caution",
   "metadata": {
    "execution": {
     "iopub.execute_input": "2022-10-28T03:21:10.366383Z",
     "iopub.status.busy": "2022-10-28T03:21:10.365789Z",
     "iopub.status.idle": "2022-10-28T03:21:10.369045Z",
     "shell.execute_reply": "2022-10-28T03:21:10.368606Z"
    },
    "papermill": {
     "duration": 0.016369,
     "end_time": "2022-10-28T03:21:10.369142",
     "exception": false,
     "start_time": "2022-10-28T03:21:10.352773",
     "status": "completed"
    },
    "tags": []
   },
   "outputs": [
    {
     "data": {
      "text/markdown": [
       "- Amazon Plummets 20%, Bitcoin, Cardano Price Crash.  After a strong rally over the week, the crypto market is crashing today once again. The Bitcoin price has fallen by over 2% in the last 24 hours and is trading at $20,309. The crypto market is crashing as Amazon missed the mark on its earnings report. As a result, Amazon&#8217;s shares have fallen by The post Amazon Plummets 20%, Bitcoin, Cardano Price Crash appeared first on CoinGape. ... [| Skaityti daugiau](https://coingape.com/amazon-plummets-why-is-crypto-crashing-today/) "
      ],
      "text/plain": [
       "<IPython.core.display.Markdown object>"
      ]
     },
     "execution_count": 4,
     "metadata": {},
     "output_type": "execute_result"
    }
   ],
   "source": [
    "#hide_input\n",
    "#md('##### {}'.format(titleBTC)) \n",
    "md(\"- {}{} {}{} [| Skaityti daugiau]({}) \".format(btc['title'],'. ', btc['body'], ' ...', btc['url']))"
   ]
  },
  {
   "cell_type": "code",
   "execution_count": 5,
   "id": "organic-actress",
   "metadata": {
    "execution": {
     "iopub.execute_input": "2022-10-28T03:21:10.392808Z",
     "iopub.status.busy": "2022-10-28T03:21:10.392212Z",
     "iopub.status.idle": "2022-10-28T03:21:10.395577Z",
     "shell.execute_reply": "2022-10-28T03:21:10.395039Z"
    },
    "papermill": {
     "duration": 0.016727,
     "end_time": "2022-10-28T03:21:10.395670",
     "exception": false,
     "start_time": "2022-10-28T03:21:10.378943",
     "status": "completed"
    },
    "tags": []
   },
   "outputs": [
    {
     "data": {
      "text/markdown": [
       "- XRP Price Prediction as Trading Volume Blasts Past $1 Billion How High Can XRP Go?.  The XRP price prediction remains neutral as investors remain uncertain about the ongoing Ripple vs. SEC battle. James K. Filan has reported that the SEC has taken no stance on applications to file amicus briefs by Philip Goldstein, Investor Choice Advocates Network (ICAN), and SpendTheBits in the ongoing Ripple dispute....Read More: XRP Price Prediction as Trading Volume Blasts Past $1 Billion How High Can XRP Go? ... [| Skaityti daugiau](https://cryptonews.com/news/xrp-price-prediction-as-trading-volume-blasts-past-1-billion-how-high-can-xrp-go.htm) "
      ],
      "text/plain": [
       "<IPython.core.display.Markdown object>"
      ]
     },
     "execution_count": 5,
     "metadata": {},
     "output_type": "execute_result"
    }
   ],
   "source": [
    "#hide_input\n",
    "#md('##### {}'.format(titleBTC)) \n",
    "md(\"- {}{} {}{} [| Skaityti daugiau]({}) \".format(xrp['title'],'. ', xrp['body'], ' ...', xrp['url']))"
   ]
  },
  {
   "cell_type": "code",
   "execution_count": 6,
   "id": "prompt-farmer",
   "metadata": {
    "execution": {
     "iopub.execute_input": "2022-10-28T03:21:10.419260Z",
     "iopub.status.busy": "2022-10-28T03:21:10.418496Z",
     "iopub.status.idle": "2022-10-28T03:21:10.422133Z",
     "shell.execute_reply": "2022-10-28T03:21:10.422585Z"
    },
    "papermill": {
     "duration": 0.017097,
     "end_time": "2022-10-28T03:21:10.422694",
     "exception": false,
     "start_time": "2022-10-28T03:21:10.405597",
     "status": "completed"
    },
    "tags": []
   },
   "outputs": [
    {
     "data": {
      "text/markdown": [
       "- Tron (TRX) Staking Now Supported by Binance.US.  Tron (TRX) has joined Audius (AUDIO), Cosmos (ATOM), Polygon (MATIC), Solana (SOL) and other cryptocurrencies that are available for staking on Binance.US  ... [| Skaityti daugiau](https://u.today/tron-trx-staking-now-supported-by-binanceus) "
      ],
      "text/plain": [
       "<IPython.core.display.Markdown object>"
      ]
     },
     "execution_count": 6,
     "metadata": {},
     "output_type": "execute_result"
    }
   ],
   "source": [
    "#hide_input\n",
    "#md('##### {}'.format(titleBTC)) \n",
    "md(\"- {}{} {}{} [| Skaityti daugiau]({}) \".format(trx['title'],'. ', trx['body'], ' ...', trx['url']))"
   ]
  },
  {
   "cell_type": "code",
   "execution_count": 7,
   "id": "illegal-greece",
   "metadata": {
    "execution": {
     "iopub.execute_input": "2022-10-28T03:21:10.447594Z",
     "iopub.status.busy": "2022-10-28T03:21:10.447029Z",
     "iopub.status.idle": "2022-10-28T03:21:10.450081Z",
     "shell.execute_reply": "2022-10-28T03:21:10.450552Z"
    },
    "papermill": {
     "duration": 0.017607,
     "end_time": "2022-10-28T03:21:10.450666",
     "exception": false,
     "start_time": "2022-10-28T03:21:10.433059",
     "status": "completed"
    },
    "tags": []
   },
   "outputs": [
    {
     "data": {
      "text/markdown": [
       "- Polygon Shows Strength As Bulls Eye $1, But There Is A Key Issue Pending.  MATIC&#8217;s price shows strength as it bounces from a downtrend range price rallied to a high of $0.95 with eyes set on $1. MATIC faces a major issue break and holds above 61.8% Fibonacci value and trends higher to a region of $1. MATIC&#8217;s price remains strong on the daily timeframe above the 50 Exponential Moving Average (EMA) as the price aims for more rallies. The price of Polygon (MATIC) has been one of the standout performers during the past few weeks that saw the price of Bitcoin (BTC), Ethereum (ETH), and other altcoins struggle to hold their key Support, the price of Polygon (MATIC) showed strength holding above and bouncing off that region of $0.77 away from this support area. The past few days have seen the crypto market has looked more decent, with the likes of Bitcoin (BTC) and Ethereum (ETH) showing some great price movement in recent times. MATIC&#8217;s price is rallying from $0.83 to a region of $0.95 as the price aims to take the market by its horn. (Data from Binance) Related Reading: The Inverted Bitcoin Chart Bears Don’t Wanna See &#124; BTCUSD Analysis October 27, 2022 Polygon (MATIC) Price Analysis On The Weekly Chart In recent times, Polygon has struggled to regain its bullish momentum; despite the uncertainty that has befallen the crypto space, the price of MATIC held its ground as price defended its key support area of $0.77. MATIC&#8217;s price had struggled to replicate its rally that took the... ... [| Skaityti daugiau](https://www.newsbtc.com/analysis/polygon-shows-strength-as-bulls-eye-1-but-there-is-a-key-issue-pending/) "
      ],
      "text/plain": [
       "<IPython.core.display.Markdown object>"
      ]
     },
     "execution_count": 7,
     "metadata": {},
     "output_type": "execute_result"
    }
   ],
   "source": [
    "#hide_input\n",
    "#md('##### {}'.format(titleBTC)) \n",
    "md(\"- {}{} {}{} [| Skaityti daugiau]({}) \".format(eth['title'],'. ', eth['body'], ' ...', eth['url']))"
   ]
  },
  {
   "cell_type": "code",
   "execution_count": 8,
   "id": "sublime-lounge",
   "metadata": {
    "execution": {
     "iopub.execute_input": "2022-10-28T03:21:10.477213Z",
     "iopub.status.busy": "2022-10-28T03:21:10.476646Z",
     "iopub.status.idle": "2022-10-28T03:21:10.479281Z",
     "shell.execute_reply": "2022-10-28T03:21:10.479706Z"
    },
    "papermill": {
     "duration": 0.017634,
     "end_time": "2022-10-28T03:21:10.479814",
     "exception": false,
     "start_time": "2022-10-28T03:21:10.462180",
     "status": "completed"
    },
    "tags": []
   },
   "outputs": [
    {
     "data": {
      "text/markdown": [
       "- Amazon Plummets 20%, Bitcoin, Cardano Price Crash.  After a strong rally over the week, the crypto market is crashing today once again. The Bitcoin price has fallen by over 2% in the last 24 hours and is trading at $20,309. The crypto market is crashing as Amazon missed the mark on its earnings report. As a result, Amazon&#8217;s shares have fallen by The post Amazon Plummets 20%, Bitcoin, Cardano Price Crash appeared first on CoinGape. ... [| Skaityti daugiau](https://coingape.com/amazon-plummets-why-is-crypto-crashing-today/) "
      ],
      "text/plain": [
       "<IPython.core.display.Markdown object>"
      ]
     },
     "execution_count": 8,
     "metadata": {},
     "output_type": "execute_result"
    }
   ],
   "source": [
    "#hide_input\n",
    "#md('##### {}'.format(titleBTC)) \n",
    "md(\"- {}{} {}{} [| Skaityti daugiau]({}) \".format(ada['title'],'. ', ada['body'], ' ...', ada['url']))"
   ]
  },
  {
   "cell_type": "code",
   "execution_count": 9,
   "id": "specified-ordering",
   "metadata": {
    "execution": {
     "iopub.execute_input": "2022-10-28T03:21:10.505728Z",
     "iopub.status.busy": "2022-10-28T03:21:10.505176Z",
     "iopub.status.idle": "2022-10-28T03:21:10.508589Z",
     "shell.execute_reply": "2022-10-28T03:21:10.508139Z"
    },
    "papermill": {
     "duration": 0.017941,
     "end_time": "2022-10-28T03:21:10.508683",
     "exception": false,
     "start_time": "2022-10-28T03:21:10.490742",
     "status": "completed"
    },
    "tags": []
   },
   "outputs": [
    {
     "data": {
      "text/markdown": [
       "- Google still promoting crypto phishing sites warns Binance boss.  In a tweet this week, CZ warned that when searching for CoinMarketCap on Google, phishing sites with an “ad” tag were showing up in front of the actual website. ... [| Skaityti daugiau](https://cointelegraph.com/news/google-still-promoting-crypto-phishing-sites-warns-binance-boss) "
      ],
      "text/plain": [
       "<IPython.core.display.Markdown object>"
      ]
     },
     "execution_count": 9,
     "metadata": {},
     "output_type": "execute_result"
    }
   ],
   "source": [
    "#hide_input\n",
    "#md('##### {}'.format(titleBTC)) \n",
    "md(\"- {}{} {}{} [| Skaityti daugiau]({}) \".format(exchange['title'],'. ', exchange['body'], ' ...', exchange['url']))"
   ]
  },
  {
   "cell_type": "code",
   "execution_count": null,
   "id": "tender-livestock",
   "metadata": {
    "papermill": {
     "duration": 0.011354,
     "end_time": "2022-10-28T03:21:10.531228",
     "exception": false,
     "start_time": "2022-10-28T03:21:10.519874",
     "status": "completed"
    },
    "tags": []
   },
   "outputs": [],
   "source": []
  },
  {
   "cell_type": "code",
   "execution_count": null,
   "id": "appreciated-diamond",
   "metadata": {
    "papermill": {
     "duration": 0.011212,
     "end_time": "2022-10-28T03:21:10.553809",
     "exception": false,
     "start_time": "2022-10-28T03:21:10.542597",
     "status": "completed"
    },
    "tags": []
   },
   "outputs": [],
   "source": []
  },
  {
   "cell_type": "code",
   "execution_count": null,
   "id": "romance-sweden",
   "metadata": {
    "papermill": {
     "duration": 0.011158,
     "end_time": "2022-10-28T03:21:10.576384",
     "exception": false,
     "start_time": "2022-10-28T03:21:10.565226",
     "status": "completed"
    },
    "tags": []
   },
   "outputs": [],
   "source": []
  },
  {
   "cell_type": "code",
   "execution_count": null,
   "id": "dietary-statistics",
   "metadata": {
    "papermill": {
     "duration": 0.01113,
     "end_time": "2022-10-28T03:21:10.598774",
     "exception": false,
     "start_time": "2022-10-28T03:21:10.587644",
     "status": "completed"
    },
    "tags": []
   },
   "outputs": [],
   "source": []
  }
 ],
 "metadata": {
  "kernelspec": {
   "display_name": "Python 3",
   "language": "python",
   "name": "python3"
  },
  "language_info": {
   "codemirror_mode": {
    "name": "ipython",
    "version": 3
   },
   "file_extension": ".py",
   "mimetype": "text/x-python",
   "name": "python",
   "nbconvert_exporter": "python",
   "pygments_lexer": "ipython3",
   "version": "3.6.15"
  },
  "papermill": {
   "default_parameters": {},
   "duration": 13.731904,
   "end_time": "2022-10-28T03:21:11.027172",
   "environment_variables": {},
   "exception": null,
   "input_path": "Market-News.ipynb",
   "output_path": "Market-News.ipynb",
   "parameters": {},
   "start_time": "2022-10-28T03:20:57.295268",
   "version": "2.2.2"
  }
 },
 "nbformat": 4,
 "nbformat_minor": 5
}