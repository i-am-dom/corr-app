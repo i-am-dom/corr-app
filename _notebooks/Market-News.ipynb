{
 "cells": [
  {
   "cell_type": "markdown",
   "id": "short-greensboro",
   "metadata": {
    "papermill": {
     "duration": 0.013431,
     "end_time": "2021-08-18T01:56:53.666935",
     "exception": false,
     "start_time": "2021-08-18T01:56:53.653504",
     "status": "completed"
    },
    "tags": []
   },
   "source": [
    "# Kriptovaliutų naujienos"
   ]
  },
  {
   "cell_type": "code",
   "execution_count": 1,
   "id": "functioning-knowing",
   "metadata": {
    "execution": {
     "iopub.execute_input": "2021-08-18T01:56:53.696824Z",
     "iopub.status.busy": "2021-08-18T01:56:53.696306Z",
     "iopub.status.idle": "2021-08-18T01:56:54.853269Z",
     "shell.execute_reply": "2021-08-18T01:56:54.852705Z"
    },
    "papermill": {
     "duration": 1.176927,
     "end_time": "2021-08-18T01:56:54.853434",
     "exception": false,
     "start_time": "2021-08-18T01:56:53.676507",
     "status": "completed"
    },
    "tags": []
   },
   "outputs": [],
   "source": [
    "#hide_input\n",
    "import warnings\n",
    "warnings.filterwarnings('ignore')\n",
    "from scripts.read_data import read_api\n",
    "from scripts.read_data import read_news\n",
    "from scripts.read_data import read_covid\n",
    "import matplotlib.pyplot as plt \n",
    "from IPython.display import Markdown as md"
   ]
  },
  {
   "cell_type": "code",
   "execution_count": 2,
   "id": "shared-acceptance",
   "metadata": {
    "execution": {
     "iopub.execute_input": "2021-08-18T01:56:54.877930Z",
     "iopub.status.busy": "2021-08-18T01:56:54.877422Z",
     "iopub.status.idle": "2021-08-18T01:57:03.799011Z",
     "shell.execute_reply": "2021-08-18T01:57:03.798111Z"
    },
    "papermill": {
     "duration": 8.935782,
     "end_time": "2021-08-18T01:57:03.799141",
     "exception": false,
     "start_time": "2021-08-18T01:56:54.863359",
     "status": "completed"
    },
    "tags": []
   },
   "outputs": [],
   "source": [
    "#hide_input\n",
    "blockchain = read_news('blockchain') \n",
    "btc = read_news('btc') \n",
    "xrp = read_news('xrp') \n",
    "trx = read_news('trx') \n",
    "eth = read_news('eth')  \n",
    "ada = read_news('ada')\n",
    "exchange = read_news('exchange') "
   ]
  },
  {
   "cell_type": "code",
   "execution_count": 3,
   "id": "synthetic-notion",
   "metadata": {
    "execution": {
     "iopub.execute_input": "2021-08-18T01:57:03.822422Z",
     "iopub.status.busy": "2021-08-18T01:57:03.820278Z",
     "iopub.status.idle": "2021-08-18T01:57:03.825246Z",
     "shell.execute_reply": "2021-08-18T01:57:03.824810Z"
    },
    "papermill": {
     "duration": 0.01696,
     "end_time": "2021-08-18T01:57:03.825351",
     "exception": false,
     "start_time": "2021-08-18T01:57:03.808391",
     "status": "completed"
    },
    "tags": []
   },
   "outputs": [
    {
     "data": {
      "text/markdown": [
       "- Rebalancing Leverage: from ’Rekt” to Reallocation.  Leverage is a powerful tool. But irresponsible use does more harm than good to the market. Here’s how Tranchess’ Rebalancing Protocol helps change that with Bishops, Queens and Rooks.The post Rebalancing Leverage: from ’Rekt” to Reallocation appeared first on Blockworks. ... [| Skaityti daugiau](https://blockworks.co/rebalancing-leverage-from-rekt-to-reallocation/) "
      ],
      "text/plain": [
       "<IPython.core.display.Markdown object>"
      ]
     },
     "execution_count": 3,
     "metadata": {},
     "output_type": "execute_result"
    }
   ],
   "source": [
    "#hide_input\n",
    "#md('##### {}'.format(titleBTC)) \n",
    "md(\"- {}{} {}{} [| Skaityti daugiau]({}) \".format(blockchain['title'],'. ', blockchain['body'], ' ...', blockchain['url']))"
   ]
  },
  {
   "cell_type": "code",
   "execution_count": 4,
   "id": "aging-caution",
   "metadata": {
    "execution": {
     "iopub.execute_input": "2021-08-18T01:57:03.847881Z",
     "iopub.status.busy": "2021-08-18T01:57:03.847312Z",
     "iopub.status.idle": "2021-08-18T01:57:03.849333Z",
     "shell.execute_reply": "2021-08-18T01:57:03.849854Z"
    },
    "papermill": {
     "duration": 0.015609,
     "end_time": "2021-08-18T01:57:03.849972",
     "exception": false,
     "start_time": "2021-08-18T01:57:03.834363",
     "status": "completed"
    },
    "tags": []
   },
   "outputs": [
    {
     "data": {
      "text/markdown": [
       "- These are the odds of Bitcoin touching $30k once again.  While Bitcoin is undergoing a correction in the short term at the moment, not many from the BTC community will be complaining or losing sleep over it. A period of uncertainty was looming large when BTC consolidated under $40,000 for an extended period of time, before holding fort near the $30,000 range. In fact, after [&#8230;] ... [| Skaityti daugiau](https://ambcrypto.com/these-are-the-odds-of-bitcoin-touching-30k-once-again/) "
      ],
      "text/plain": [
       "<IPython.core.display.Markdown object>"
      ]
     },
     "execution_count": 4,
     "metadata": {},
     "output_type": "execute_result"
    }
   ],
   "source": [
    "#hide_input\n",
    "#md('##### {}'.format(titleBTC)) \n",
    "md(\"- {}{} {}{} [| Skaityti daugiau]({}) \".format(btc['title'],'. ', btc['body'], ' ...', btc['url']))"
   ]
  },
  {
   "cell_type": "code",
   "execution_count": 5,
   "id": "organic-actress",
   "metadata": {
    "execution": {
     "iopub.execute_input": "2021-08-18T01:57:03.873380Z",
     "iopub.status.busy": "2021-08-18T01:57:03.872867Z",
     "iopub.status.idle": "2021-08-18T01:57:03.875927Z",
     "shell.execute_reply": "2021-08-18T01:57:03.875516Z"
    },
    "papermill": {
     "duration": 0.016212,
     "end_time": "2021-08-18T01:57:03.876020",
     "exception": false,
     "start_time": "2021-08-18T01:57:03.859808",
     "status": "completed"
    },
    "tags": []
   },
   "outputs": [
    {
     "data": {
      "text/markdown": [
       "- Ripple (XRP) hits back as SEC case turns intrusive.  Ripple’s legal battle with the US Securities and Exchange Commission (SEC) is approaching the discovery phase deadline on August 31, as the blockchain-based payments company filed its opposition to the regulator&#8217;s request for additional Slack communications. The post Ripple (XRP) hits back as SEC case turns intrusive appeared first on CryptoSlate. ... [| Skaityti daugiau](https://cryptoslate.com/ripple-xrp-hits-back-as-sec-case-turns-intrusive/) "
      ],
      "text/plain": [
       "<IPython.core.display.Markdown object>"
      ]
     },
     "execution_count": 5,
     "metadata": {},
     "output_type": "execute_result"
    }
   ],
   "source": [
    "#hide_input\n",
    "#md('##### {}'.format(titleBTC)) \n",
    "md(\"- {}{} {}{} [| Skaityti daugiau]({}) \".format(xrp['title'],'. ', xrp['body'], ' ...', xrp['url']))"
   ]
  },
  {
   "cell_type": "code",
   "execution_count": 6,
   "id": "prompt-farmer",
   "metadata": {
    "execution": {
     "iopub.execute_input": "2021-08-18T01:57:03.900152Z",
     "iopub.status.busy": "2021-08-18T01:57:03.899663Z",
     "iopub.status.idle": "2021-08-18T01:57:03.902814Z",
     "shell.execute_reply": "2021-08-18T01:57:03.902427Z"
    },
    "papermill": {
     "duration": 0.01707,
     "end_time": "2021-08-18T01:57:03.902912",
     "exception": false,
     "start_time": "2021-08-18T01:57:03.885842",
     "status": "completed"
    },
    "tags": []
   },
   "outputs": [
    {
     "data": {
      "text/markdown": [
       "- XRP, ADA, and Other Altcoins Show Positive Bullish Signs.  As Bitcoin rallies, so are many other altcoins. At the moment, ADA, XRP, IOTX, XDC, TRX, and MATIC are showing ... [| Skaityti daugiau](https://coinquora.com/xrp-ada-and-other-altcoins-show-positive-bullish-signs/) "
      ],
      "text/plain": [
       "<IPython.core.display.Markdown object>"
      ]
     },
     "execution_count": 6,
     "metadata": {},
     "output_type": "execute_result"
    }
   ],
   "source": [
    "#hide_input\n",
    "#md('##### {}'.format(titleBTC)) \n",
    "md(\"- {}{} {}{} [| Skaityti daugiau]({}) \".format(trx['title'],'. ', trx['body'], ' ...', trx['url']))"
   ]
  },
  {
   "cell_type": "code",
   "execution_count": 7,
   "id": "illegal-greece",
   "metadata": {
    "execution": {
     "iopub.execute_input": "2021-08-18T01:57:03.926892Z",
     "iopub.status.busy": "2021-08-18T01:57:03.925955Z",
     "iopub.status.idle": "2021-08-18T01:57:03.929192Z",
     "shell.execute_reply": "2021-08-18T01:57:03.929634Z"
    },
    "papermill": {
     "duration": 0.016664,
     "end_time": "2021-08-18T01:57:03.929742",
     "exception": false,
     "start_time": "2021-08-18T01:57:03.913078",
     "status": "completed"
    },
    "tags": []
   },
   "outputs": [
    {
     "data": {
      "text/markdown": [
       "- Cardano (ADA) Steadies Above $2 As Bulls Continue To Aim For $2.5.  Cardano (ADA) has shown no signs of slowing down as the asset’s price continues to rally. The aim remains to hit a new all-time high before the year runs out. The previous all-time high for the asset is recorded at $2.45 and a price crashing saw the asset losing more than half of that value in the months following it. Then a bull rally had been triggered again in the market, which had set cryptocurrencies all across the market recording massive gains daily. Related Reading &#124; Bitcoin Dominance Down As Market Hits $2 Trillion, Altcoins Are Taking Over Cardano (ADA) was not left out of this rally. The price had fallen down to the low $1 before the rally began. But as at the time of this writing, the asset had successfully gained back over 100% of its low price back in July. Its price climb has not come as much of a surprise to its community though. Work is currently ongoing on bringing smart contracts capability to the Cardano network. This would help position the project as a rival for the leading smart contracts platform, Ethereum. Related Reading &#124; Cardano (ADA) Breaks $2 For The First Time Since May, Why New All-Time High Is Imminent Hitting the $2 had been more of the hurdle for the asset. Proving to be a resistance point in the run-up. But ADA had crossed that hurdle and now the price looks to have found its footing above $2, and now, the ever-moving target that is the price of digital assets has now been set for ... ... [| Skaityti daugiau](https://www.newsbtc.com/analysis/ada/cardano-steadies-above-2/) "
      ],
      "text/plain": [
       "<IPython.core.display.Markdown object>"
      ]
     },
     "execution_count": 7,
     "metadata": {},
     "output_type": "execute_result"
    }
   ],
   "source": [
    "#hide_input\n",
    "#md('##### {}'.format(titleBTC)) \n",
    "md(\"- {}{} {}{} [| Skaityti daugiau]({}) \".format(eth['title'],'. ', eth['body'], ' ...', eth['url']))"
   ]
  },
  {
   "cell_type": "code",
   "execution_count": 8,
   "id": "sublime-lounge",
   "metadata": {
    "execution": {
     "iopub.execute_input": "2021-08-18T01:57:03.954678Z",
     "iopub.status.busy": "2021-08-18T01:57:03.954191Z",
     "iopub.status.idle": "2021-08-18T01:57:03.956829Z",
     "shell.execute_reply": "2021-08-18T01:57:03.957216Z"
    },
    "papermill": {
     "duration": 0.017255,
     "end_time": "2021-08-18T01:57:03.957329",
     "exception": false,
     "start_time": "2021-08-18T01:57:03.940074",
     "status": "completed"
    },
    "tags": []
   },
   "outputs": [
    {
     "data": {
      "text/markdown": [
       "- Why this strategy is the best bet for Cardano traders.  The Cardano market was easing after a boastful week that saw prices surge from $1.45 to a local high of $2.25. Low volatility could now see ADA trade between two crucial points which would dictate the next direction of a price swing. At the time of writing, ADA traded at $2.11 and slipped down to [&#8230;] ... [| Skaityti daugiau](https://ambcrypto.com/why-this-strategy-is-the-best-bet-for-cardano-traders/) "
      ],
      "text/plain": [
       "<IPython.core.display.Markdown object>"
      ]
     },
     "execution_count": 8,
     "metadata": {},
     "output_type": "execute_result"
    }
   ],
   "source": [
    "#hide_input\n",
    "#md('##### {}'.format(titleBTC)) \n",
    "md(\"- {}{} {}{} [| Skaityti daugiau]({}) \".format(ada['title'],'. ', ada['body'], ' ...', ada['url']))"
   ]
  },
  {
   "cell_type": "code",
   "execution_count": 9,
   "id": "specified-ordering",
   "metadata": {
    "execution": {
     "iopub.execute_input": "2021-08-18T01:57:03.982900Z",
     "iopub.status.busy": "2021-08-18T01:57:03.982416Z",
     "iopub.status.idle": "2021-08-18T01:57:03.985550Z",
     "shell.execute_reply": "2021-08-18T01:57:03.985112Z"
    },
    "papermill": {
     "duration": 0.017594,
     "end_time": "2021-08-18T01:57:03.985647",
     "exception": false,
     "start_time": "2021-08-18T01:57:03.968053",
     "status": "completed"
    },
    "tags": []
   },
   "outputs": [
    {
     "data": {
      "text/markdown": [
       "- Provider Of Credit Ratings Warns El Salvador Of Bitcoin Law’s Risks.  Is El Salvador ’s decision to use Bitcoin as legal tender a risky proposition? Probably so. And now, we have the expert opinion of credit rating provider Fitch Ratings to prove it. To be fair, most of what they say is true. Bitcoin is volatile. At first, all businesses will probably exchange the BTC they [&#8230;] ... [| Skaityti daugiau](https://bitcoinist.com/provider-of-credit-ratings-warns-el-salvador-of-bitcoin-laws-risks/?utm_source=rss&utm_medium=rss&utm_campaign=provider-of-credit-ratings-warns-el-salvador-of-bitcoin-laws-risks) "
      ],
      "text/plain": [
       "<IPython.core.display.Markdown object>"
      ]
     },
     "execution_count": 9,
     "metadata": {},
     "output_type": "execute_result"
    }
   ],
   "source": [
    "#hide_input\n",
    "#md('##### {}'.format(titleBTC)) \n",
    "md(\"- {}{} {}{} [| Skaityti daugiau]({}) \".format(exchange['title'],'. ', exchange['body'], ' ...', exchange['url']))"
   ]
  },
  {
   "cell_type": "code",
   "execution_count": null,
   "id": "tender-livestock",
   "metadata": {
    "papermill": {
     "duration": 0.01101,
     "end_time": "2021-08-18T01:57:04.007661",
     "exception": false,
     "start_time": "2021-08-18T01:57:03.996651",
     "status": "completed"
    },
    "tags": []
   },
   "outputs": [],
   "source": []
  },
  {
   "cell_type": "code",
   "execution_count": null,
   "id": "appreciated-diamond",
   "metadata": {
    "papermill": {
     "duration": 0.012358,
     "end_time": "2021-08-18T01:57:04.031229",
     "exception": false,
     "start_time": "2021-08-18T01:57:04.018871",
     "status": "completed"
    },
    "tags": []
   },
   "outputs": [],
   "source": []
  },
  {
   "cell_type": "code",
   "execution_count": null,
   "id": "romance-sweden",
   "metadata": {
    "papermill": {
     "duration": 0.010896,
     "end_time": "2021-08-18T01:57:04.053098",
     "exception": false,
     "start_time": "2021-08-18T01:57:04.042202",
     "status": "completed"
    },
    "tags": []
   },
   "outputs": [],
   "source": []
  },
  {
   "cell_type": "code",
   "execution_count": null,
   "id": "dietary-statistics",
   "metadata": {
    "papermill": {
     "duration": 0.011031,
     "end_time": "2021-08-18T01:57:04.075082",
     "exception": false,
     "start_time": "2021-08-18T01:57:04.064051",
     "status": "completed"
    },
    "tags": []
   },
   "outputs": [],
   "source": []
  }
 ],
 "metadata": {
  "kernelspec": {
   "display_name": "Python 3",
   "language": "python",
   "name": "python3"
  },
  "language_info": {
   "codemirror_mode": {
    "name": "ipython",
    "version": 3
   },
   "file_extension": ".py",
   "mimetype": "text/x-python",
   "name": "python",
   "nbconvert_exporter": "python",
   "pygments_lexer": "ipython3",
   "version": "3.6.14"
  },
  "papermill": {
   "default_parameters": {},
   "duration": 11.865561,
   "end_time": "2021-08-18T01:57:04.493461",
   "environment_variables": {},
   "exception": null,
   "input_path": "Market-News.ipynb",
   "output_path": "Market-News.ipynb",
   "parameters": {},
   "start_time": "2021-08-18T01:56:52.627900",
   "version": "2.2.2"
  }
 },
 "nbformat": 4,
 "nbformat_minor": 5
}