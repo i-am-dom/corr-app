{
 "cells": [
  {
   "cell_type": "markdown",
   "id": "short-greensboro",
   "metadata": {
    "papermill": {
     "duration": 0.014154,
     "end_time": "2022-09-07T03:49:27.733544",
     "exception": false,
     "start_time": "2022-09-07T03:49:27.719390",
     "status": "completed"
    },
    "tags": []
   },
   "source": [
    "# Kriptovaliutų naujienos"
   ]
  },
  {
   "cell_type": "code",
   "execution_count": 1,
   "id": "functioning-knowing",
   "metadata": {
    "execution": {
     "iopub.execute_input": "2022-09-07T03:49:27.763531Z",
     "iopub.status.busy": "2022-09-07T03:49:27.762925Z",
     "iopub.status.idle": "2022-09-07T03:49:29.001811Z",
     "shell.execute_reply": "2022-09-07T03:49:29.002347Z"
    },
    "papermill": {
     "duration": 1.259326,
     "end_time": "2022-09-07T03:49:29.002556",
     "exception": false,
     "start_time": "2022-09-07T03:49:27.743230",
     "status": "completed"
    },
    "tags": []
   },
   "outputs": [],
   "source": [
    "#hide_input\n",
    "import warnings\n",
    "warnings.filterwarnings('ignore')\n",
    "from scripts.read_data import read_api\n",
    "from scripts.read_data import read_news\n",
    "from scripts.read_data import read_covid\n",
    "import matplotlib.pyplot as plt \n",
    "from IPython.display import Markdown as md"
   ]
  },
  {
   "cell_type": "code",
   "execution_count": 2,
   "id": "shared-acceptance",
   "metadata": {
    "execution": {
     "iopub.execute_input": "2022-09-07T03:49:29.028487Z",
     "iopub.status.busy": "2022-09-07T03:49:29.027483Z",
     "iopub.status.idle": "2022-09-07T03:49:38.377542Z",
     "shell.execute_reply": "2022-09-07T03:49:38.378015Z"
    },
    "papermill": {
     "duration": 9.365816,
     "end_time": "2022-09-07T03:49:38.378175",
     "exception": false,
     "start_time": "2022-09-07T03:49:29.012359",
     "status": "completed"
    },
    "tags": []
   },
   "outputs": [],
   "source": [
    "#hide_input\n",
    "blockchain = read_news('blockchain') \n",
    "btc = read_news('btc') \n",
    "xrp = read_news('xrp') \n",
    "trx = read_news('trx') \n",
    "eth = read_news('eth')  \n",
    "ada = read_news('ada')\n",
    "exchange = read_news('exchange') "
   ]
  },
  {
   "cell_type": "code",
   "execution_count": 3,
   "id": "synthetic-notion",
   "metadata": {
    "execution": {
     "iopub.execute_input": "2022-09-07T03:49:38.403178Z",
     "iopub.status.busy": "2022-09-07T03:49:38.402569Z",
     "iopub.status.idle": "2022-09-07T03:49:38.405530Z",
     "shell.execute_reply": "2022-09-07T03:49:38.406005Z"
    },
    "papermill": {
     "duration": 0.018408,
     "end_time": "2022-09-07T03:49:38.406134",
     "exception": false,
     "start_time": "2022-09-07T03:49:38.387726",
     "status": "completed"
    },
    "tags": []
   },
   "outputs": [
    {
     "data": {
      "text/markdown": [
       "- Bitcoin Dominance Reaches All-Time Lows As The Merge Nears.  The mythical merge is almost here. Ethereum’s transition from Proof-Of-Work to Proof-Of-Stake is the most talked about event in crypto at the moment, and money is flowing to that blockchain. That, in turn, translated into a decrease in bitcoin dominance. That metric measures the percentage of the whole crypto market that bitcoin represents, and it’s currently “down at levels not seen since 2018.” Which makes sense. Because the merge is almost here and everyone placed their bets. Related Reading: WATCH: Ethereum Gains Momentum Ahead Of The Merge &#124; ETHUSD September 6, 2022 According to Arcane Research’s The Weekly Update, “the all-time low occurred during the ICO craze in January 2018.” Which makes sense, because ICOs were the talk of the town at the moment. That impetus eventually fizzled out, however. Can we expect the same out of the merge? On the one hand, this is a structural change on Ethereum as a whole, so it’s more important than ICOs ever were. On the other hand, stakes are higher and there are no guarantees that the merge will work out as planned. The Merge Isn’t The Only Factor Before advancing, let’s explore Arcane Research’s stats: “September has started with varying returns among our indexes. Bitcoin has started the month the worst and is down 1%. All other indexes are in the positive territory, with the Large Caps gaining 1%, the Small Caps 2%, and the Mid Caps 7%.” So, everyone and their mothers gained grou... ... [| Skaityti daugiau](https://www.newsbtc.com/news/bitcoin/bitcoin-dominance-reaches-all-time-lows-as-the-merge-nears/) "
      ],
      "text/plain": [
       "<IPython.core.display.Markdown object>"
      ]
     },
     "execution_count": 3,
     "metadata": {},
     "output_type": "execute_result"
    }
   ],
   "source": [
    "#hide_input\n",
    "#md('##### {}'.format(titleBTC)) \n",
    "md(\"- {}{} {}{} [| Skaityti daugiau]({}) \".format(blockchain['title'],'. ', blockchain['body'], ' ...', blockchain['url']))"
   ]
  },
  {
   "cell_type": "code",
   "execution_count": 4,
   "id": "aging-caution",
   "metadata": {
    "execution": {
     "iopub.execute_input": "2022-09-07T03:49:38.429856Z",
     "iopub.status.busy": "2022-09-07T03:49:38.429281Z",
     "iopub.status.idle": "2022-09-07T03:49:38.432142Z",
     "shell.execute_reply": "2022-09-07T03:49:38.432613Z"
    },
    "papermill": {
     "duration": 0.017168,
     "end_time": "2022-09-07T03:49:38.432753",
     "exception": false,
     "start_time": "2022-09-07T03:49:38.415585",
     "status": "completed"
    },
    "tags": []
   },
   "outputs": [
    {
     "data": {
      "text/markdown": [
       "- Breaking: Michael Burry Predicts 2008 Level Crisis After Crypto Crash.  The cryptocurrency market is crashing hard today. Bitcoin is showing extremely bearish tendencies. It has fallen by more than 5% in the last 24 hours and is currently trading at $18,653. The crypto crash has prompted the expert investor, Michael Burry, to predict a 2008-level economic crisis. Burry was one of the few experts who The post Breaking: Michael Burry Predicts 2008 Level Crisis After Crypto Crash appeared first on CoinGape. ... [| Skaityti daugiau](https://coingape.com/breaking-michael-burry-predicts-2008-level-crisis-after-crypto-crash/) "
      ],
      "text/plain": [
       "<IPython.core.display.Markdown object>"
      ]
     },
     "execution_count": 4,
     "metadata": {},
     "output_type": "execute_result"
    }
   ],
   "source": [
    "#hide_input\n",
    "#md('##### {}'.format(titleBTC)) \n",
    "md(\"- {}{} {}{} [| Skaityti daugiau]({}) \".format(btc['title'],'. ', btc['body'], ' ...', btc['url']))"
   ]
  },
  {
   "cell_type": "code",
   "execution_count": 5,
   "id": "organic-actress",
   "metadata": {
    "execution": {
     "iopub.execute_input": "2022-09-07T03:49:38.456313Z",
     "iopub.status.busy": "2022-09-07T03:49:38.454056Z",
     "iopub.status.idle": "2022-09-07T03:49:38.459920Z",
     "shell.execute_reply": "2022-09-07T03:49:38.459477Z"
    },
    "papermill": {
     "duration": 0.017702,
     "end_time": "2022-09-07T03:49:38.460025",
     "exception": false,
     "start_time": "2022-09-07T03:49:38.442323",
     "status": "completed"
    },
    "tags": []
   },
   "outputs": [
    {
     "data": {
      "text/markdown": [
       "- Cardano [ADA] investors should closely monitor this new development.  Cardano [ADA] has been on the radar of the crypto community lately. While the much-anticipated Vasil upgrade has been something to look forward to, other developments have followed. First, it was ADA flipping Ripple [XRP] to become the seventh most valued cryptocurrency in market capitalization. Now, it has extended to good news for the Cardano [&#8230;] ... [| Skaityti daugiau](https://ambcrypto.com/cardano-ada-investors-should-closely-monitor-this-new-development/) "
      ],
      "text/plain": [
       "<IPython.core.display.Markdown object>"
      ]
     },
     "execution_count": 5,
     "metadata": {},
     "output_type": "execute_result"
    }
   ],
   "source": [
    "#hide_input\n",
    "#md('##### {}'.format(titleBTC)) \n",
    "md(\"- {}{} {}{} [| Skaityti daugiau]({}) \".format(xrp['title'],'. ', xrp['body'], ' ...', xrp['url']))"
   ]
  },
  {
   "cell_type": "code",
   "execution_count": 6,
   "id": "prompt-farmer",
   "metadata": {
    "execution": {
     "iopub.execute_input": "2022-09-07T03:49:38.489196Z",
     "iopub.status.busy": "2022-09-07T03:49:38.488582Z",
     "iopub.status.idle": "2022-09-07T03:49:38.492195Z",
     "shell.execute_reply": "2022-09-07T03:49:38.491634Z"
    },
    "papermill": {
     "duration": 0.022479,
     "end_time": "2022-09-07T03:49:38.492307",
     "exception": false,
     "start_time": "2022-09-07T03:49:38.469828",
     "status": "completed"
    },
    "tags": []
   },
   "outputs": [
    {
     "data": {
      "text/markdown": [
       "- Tron [TRX]: The technical hurdles to consider before taking a long position.  Disclaimer: The findings of the following analysis are the sole opinions of the writer and should not be considered investment advice. As anticipated by a previous article, Tron [TRX] reversed from its falling-wedge-like structure before pulling back into bearish clutches. For over eight weeks, the sellers strived to breach the $0.063-support (now resistance). The recent [&#8230;] ... [| Skaityti daugiau](https://ambcrypto.com/tron-trx-the-technical-hurdles-to-consider-before-taking-a-long-position/) "
      ],
      "text/plain": [
       "<IPython.core.display.Markdown object>"
      ]
     },
     "execution_count": 6,
     "metadata": {},
     "output_type": "execute_result"
    }
   ],
   "source": [
    "#hide_input\n",
    "#md('##### {}'.format(titleBTC)) \n",
    "md(\"- {}{} {}{} [| Skaityti daugiau]({}) \".format(trx['title'],'. ', trx['body'], ' ...', trx['url']))"
   ]
  },
  {
   "cell_type": "code",
   "execution_count": 7,
   "id": "illegal-greece",
   "metadata": {
    "execution": {
     "iopub.execute_input": "2022-09-07T03:49:38.517378Z",
     "iopub.status.busy": "2022-09-07T03:49:38.516793Z",
     "iopub.status.idle": "2022-09-07T03:49:38.520424Z",
     "shell.execute_reply": "2022-09-07T03:49:38.519958Z"
    },
    "papermill": {
     "duration": 0.017928,
     "end_time": "2022-09-07T03:49:38.520529",
     "exception": false,
     "start_time": "2022-09-07T03:49:38.502601",
     "status": "completed"
    },
    "tags": []
   },
   "outputs": [
    {
     "data": {
      "text/markdown": [
       "- Bitcoin, Ethereum, Dash, and Helium Daily Price Analyses – 6 September Roundup.  The global crypto market couldn&#8217;t retain its gains and has seen another bearish wave. The changes in the market have brought a difficult situation. The performance of Bitcoin, Ethereum, and others saw a downtrend, resulting in a decline in value. The recent hours showed positive growth as the global market cap value enhanced. The last &#8230;  Bitcoin, Ethereum, Dash, and Helium Daily Price Analyses – 6 September Roundup Read More &#187; ... [| Skaityti daugiau](https://www.cryptopolitan.com/bitcoin-ethereum-dash-and-helium-daily-price-analyses-6-september-roundup/) "
      ],
      "text/plain": [
       "<IPython.core.display.Markdown object>"
      ]
     },
     "execution_count": 7,
     "metadata": {},
     "output_type": "execute_result"
    }
   ],
   "source": [
    "#hide_input\n",
    "#md('##### {}'.format(titleBTC)) \n",
    "md(\"- {}{} {}{} [| Skaityti daugiau]({}) \".format(eth['title'],'. ', eth['body'], ' ...', eth['url']))"
   ]
  },
  {
   "cell_type": "code",
   "execution_count": 8,
   "id": "sublime-lounge",
   "metadata": {
    "execution": {
     "iopub.execute_input": "2022-09-07T03:49:38.547623Z",
     "iopub.status.busy": "2022-09-07T03:49:38.547023Z",
     "iopub.status.idle": "2022-09-07T03:49:38.550286Z",
     "shell.execute_reply": "2022-09-07T03:49:38.549725Z"
    },
    "papermill": {
     "duration": 0.018164,
     "end_time": "2022-09-07T03:49:38.550391",
     "exception": false,
     "start_time": "2022-09-07T03:49:38.532227",
     "status": "completed"
    },
    "tags": []
   },
   "outputs": [
    {
     "data": {
      "text/markdown": [
       "- Bitcoin, Ethereum, Cardano Plummet, Why Is Crypto Crashing Today.  The crypto market is crashing hard. Bitcoin price has fallen by close to 6% in the last 24 hours. It is currently trading at $18,826. Meanwhile, despite the Bellatrix upgrade, Ethereum is showing extremely bearish movement. ETH has fallen over 7% in the last 24 hours and is currently trading at $1,531. The entire cryptocurrency The post Bitcoin, Ethereum, Cardano Plummet, Why Is Crypto Crashing Today appeared first on CoinGape. ... [| Skaityti daugiau](https://coingape.com/bitcoin-ethereum-cardano-plummet-why-is-crypto-crashing-today/) "
      ],
      "text/plain": [
       "<IPython.core.display.Markdown object>"
      ]
     },
     "execution_count": 8,
     "metadata": {},
     "output_type": "execute_result"
    }
   ],
   "source": [
    "#hide_input\n",
    "#md('##### {}'.format(titleBTC)) \n",
    "md(\"- {}{} {}{} [| Skaityti daugiau]({}) \".format(ada['title'],'. ', ada['body'], ' ...', ada['url']))"
   ]
  },
  {
   "cell_type": "code",
   "execution_count": 9,
   "id": "specified-ordering",
   "metadata": {
    "execution": {
     "iopub.execute_input": "2022-09-07T03:49:38.581508Z",
     "iopub.status.busy": "2022-09-07T03:49:38.574743Z",
     "iopub.status.idle": "2022-09-07T03:49:38.583451Z",
     "shell.execute_reply": "2022-09-07T03:49:38.582029Z"
    },
    "papermill": {
     "duration": 0.022463,
     "end_time": "2022-09-07T03:49:38.583569",
     "exception": false,
     "start_time": "2022-09-07T03:49:38.561106",
     "status": "completed"
    },
    "tags": []
   },
   "outputs": [
    {
     "data": {
      "text/markdown": [
       "- Binance BUSD Trading Volume Surges By 70%, What Is The Reason?.  The introduction of stablecoins, like BUSD into cryptocurrency brought hope to many long-term investors. For those skeptical of the crypto space due to volatility, stablecoins become handy as their sailing means. As the name goes, stablecoins are meant to remain stable to the real-time value of the fiat currencies they are pegged to. Also, some come pegged to tangible assets and cash that facilitate their stability. But the collapse of the algorithmic stablecoin, TerraUSD UST, and its native token, LUNA, created a big hollow for stablecoins. It shifted the paradigm for lots of investors on what stablecoin stands for. The event brought massive losses to many investors and other crypto assets. Related Reading: Bitcoin Diamond Hands: Long-Term Holder Supply Surges Up To Near ATH Thankfully, people have started warming up to stablecoins again lately. The Binance USD (BUSD), the world&#8217;s third largest stablecoin, is significantly impacting the crypto space. BUSD recorded a massive increase of about 70% on Tuesday in its trading volume. It remains the most considerable 24-hour trading volume recorded in recent times. Binance Announcement Triggered BUSD Trading Volume The sudden spike in trading volume for BUSD has raised lots of interest as people are looking for the potential trigger. The reason is not far-fetched, as Binance recently made a big public announcement. Binance is laying out BUSD Auto conversion. At the moment, th... ... [| Skaityti daugiau](https://www.newsbtc.com/news/binance-busd-trading-volume-surges-by-70-what-is-the-reason/) "
      ],
      "text/plain": [
       "<IPython.core.display.Markdown object>"
      ]
     },
     "execution_count": 9,
     "metadata": {},
     "output_type": "execute_result"
    }
   ],
   "source": [
    "#hide_input\n",
    "#md('##### {}'.format(titleBTC)) \n",
    "md(\"- {}{} {}{} [| Skaityti daugiau]({}) \".format(exchange['title'],'. ', exchange['body'], ' ...', exchange['url']))"
   ]
  },
  {
   "cell_type": "code",
   "execution_count": null,
   "id": "tender-livestock",
   "metadata": {
    "papermill": {
     "duration": 0.011347,
     "end_time": "2022-09-07T03:49:38.606258",
     "exception": false,
     "start_time": "2022-09-07T03:49:38.594911",
     "status": "completed"
    },
    "tags": []
   },
   "outputs": [],
   "source": []
  },
  {
   "cell_type": "code",
   "execution_count": null,
   "id": "appreciated-diamond",
   "metadata": {
    "papermill": {
     "duration": 0.011515,
     "end_time": "2022-09-07T03:49:38.629149",
     "exception": false,
     "start_time": "2022-09-07T03:49:38.617634",
     "status": "completed"
    },
    "tags": []
   },
   "outputs": [],
   "source": []
  },
  {
   "cell_type": "code",
   "execution_count": null,
   "id": "romance-sweden",
   "metadata": {
    "papermill": {
     "duration": 0.011047,
     "end_time": "2022-09-07T03:49:38.651317",
     "exception": false,
     "start_time": "2022-09-07T03:49:38.640270",
     "status": "completed"
    },
    "tags": []
   },
   "outputs": [],
   "source": []
  },
  {
   "cell_type": "code",
   "execution_count": null,
   "id": "dietary-statistics",
   "metadata": {
    "papermill": {
     "duration": 0.011099,
     "end_time": "2022-09-07T03:49:38.673624",
     "exception": false,
     "start_time": "2022-09-07T03:49:38.662525",
     "status": "completed"
    },
    "tags": []
   },
   "outputs": [],
   "source": []
  }
 ],
 "metadata": {
  "kernelspec": {
   "display_name": "Python 3",
   "language": "python",
   "name": "python3"
  },
  "language_info": {
   "codemirror_mode": {
    "name": "ipython",
    "version": 3
   },
   "file_extension": ".py",
   "mimetype": "text/x-python",
   "name": "python",
   "nbconvert_exporter": "python",
   "pygments_lexer": "ipython3",
   "version": "3.6.15"
  },
  "papermill": {
   "default_parameters": {},
   "duration": 12.408623,
   "end_time": "2022-09-07T03:49:39.203018",
   "environment_variables": {},
   "exception": null,
   "input_path": "Market-News.ipynb",
   "output_path": "Market-News.ipynb",
   "parameters": {},
   "start_time": "2022-09-07T03:49:26.794395",
   "version": "2.2.2"
  }
 },
 "nbformat": 4,
 "nbformat_minor": 5
}