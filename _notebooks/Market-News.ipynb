{
 "cells": [
  {
   "cell_type": "markdown",
   "id": "short-greensboro",
   "metadata": {
    "papermill": {
     "duration": 0.014216,
     "end_time": "2022-08-10T02:45:36.258725",
     "exception": false,
     "start_time": "2022-08-10T02:45:36.244509",
     "status": "completed"
    },
    "tags": []
   },
   "source": [
    "# Kriptovaliutų naujienos"
   ]
  },
  {
   "cell_type": "code",
   "execution_count": 1,
   "id": "functioning-knowing",
   "metadata": {
    "execution": {
     "iopub.execute_input": "2022-08-10T02:45:36.289739Z",
     "iopub.status.busy": "2022-08-10T02:45:36.289111Z",
     "iopub.status.idle": "2022-08-10T02:45:37.626610Z",
     "shell.execute_reply": "2022-08-10T02:45:37.626006Z"
    },
    "papermill": {
     "duration": 1.358274,
     "end_time": "2022-08-10T02:45:37.626776",
     "exception": false,
     "start_time": "2022-08-10T02:45:36.268502",
     "status": "completed"
    },
    "tags": []
   },
   "outputs": [],
   "source": [
    "#hide_input\n",
    "import warnings\n",
    "warnings.filterwarnings('ignore')\n",
    "from scripts.read_data import read_api\n",
    "from scripts.read_data import read_news\n",
    "from scripts.read_data import read_covid\n",
    "import matplotlib.pyplot as plt \n",
    "from IPython.display import Markdown as md"
   ]
  },
  {
   "cell_type": "code",
   "execution_count": 2,
   "id": "shared-acceptance",
   "metadata": {
    "execution": {
     "iopub.execute_input": "2022-08-10T02:45:37.652525Z",
     "iopub.status.busy": "2022-08-10T02:45:37.651915Z",
     "iopub.status.idle": "2022-08-10T02:45:47.202175Z",
     "shell.execute_reply": "2022-08-10T02:45:47.202686Z"
    },
    "papermill": {
     "duration": 9.566606,
     "end_time": "2022-08-10T02:45:47.202869",
     "exception": false,
     "start_time": "2022-08-10T02:45:37.636263",
     "status": "completed"
    },
    "tags": []
   },
   "outputs": [],
   "source": [
    "#hide_input\n",
    "blockchain = read_news('blockchain') \n",
    "btc = read_news('btc') \n",
    "xrp = read_news('xrp') \n",
    "trx = read_news('trx') \n",
    "eth = read_news('eth')  \n",
    "ada = read_news('ada')\n",
    "exchange = read_news('exchange') "
   ]
  },
  {
   "cell_type": "code",
   "execution_count": 3,
   "id": "synthetic-notion",
   "metadata": {
    "execution": {
     "iopub.execute_input": "2022-08-10T02:45:47.230313Z",
     "iopub.status.busy": "2022-08-10T02:45:47.229586Z",
     "iopub.status.idle": "2022-08-10T02:45:47.236056Z",
     "shell.execute_reply": "2022-08-10T02:45:47.235563Z"
    },
    "papermill": {
     "duration": 0.023714,
     "end_time": "2022-08-10T02:45:47.236182",
     "exception": false,
     "start_time": "2022-08-10T02:45:47.212468",
     "status": "completed"
    },
    "tags": []
   },
   "outputs": [
    {
     "data": {
      "text/markdown": [
       "- How to Stake Apecoin: 6.10% APY on a 60-day staking period.  If you’re a crypto investor, staking is a concept you must have heard. Staking is a way many platforms allow participants to earn rewards for their holdings. But what is crypto staking? Cryptocurrency staking is a process that involves investing your crypto assets to support a blockchain network and confirm transactions. In return, you are &#8230;  How to Stake Apecoin: 6.10% APY on a 60-day staking period Read More &#187; ... [| Skaityti daugiau](https://www.cryptopolitan.com/how-to-stake-apecoin/) "
      ],
      "text/plain": [
       "<IPython.core.display.Markdown object>"
      ]
     },
     "execution_count": 3,
     "metadata": {},
     "output_type": "execute_result"
    }
   ],
   "source": [
    "#hide_input\n",
    "#md('##### {}'.format(titleBTC)) \n",
    "md(\"- {}{} {}{} [| Skaityti daugiau]({}) \".format(blockchain['title'],'. ', blockchain['body'], ' ...', blockchain['url']))"
   ]
  },
  {
   "cell_type": "code",
   "execution_count": 4,
   "id": "aging-caution",
   "metadata": {
    "execution": {
     "iopub.execute_input": "2022-08-10T02:45:47.260949Z",
     "iopub.status.busy": "2022-08-10T02:45:47.260278Z",
     "iopub.status.idle": "2022-08-10T02:45:47.263780Z",
     "shell.execute_reply": "2022-08-10T02:45:47.264252Z"
    },
    "papermill": {
     "duration": 0.018757,
     "end_time": "2022-08-10T02:45:47.264392",
     "exception": false,
     "start_time": "2022-08-10T02:45:47.245635",
     "status": "completed"
    },
    "tags": []
   },
   "outputs": [
    {
     "data": {
      "text/markdown": [
       "- Bitcoin, Ethereum, Tron, and Chainlink Daily Price Analyses – 9 August Roundup.  The global crypto market has seen a continuation of fluctuations in an influx of capital. The investors have remained unsure about the direction of the market. Thus, the value of Bitcoin, Ethereum, and other coins has continued to fluctuate, affecting their progress. Even though Bitcoin was expected to stay at $24K, it couldn&#8217;t retain its &#8230;  Bitcoin, Ethereum, Tron, and Chainlink Daily Price Analyses – 9 August Roundup Read More &#187; ... [| Skaityti daugiau](https://www.cryptopolitan.com/bitcoin-ethereum-tron-and-chainlink-daily-price-analyses-9-august-roundup/) "
      ],
      "text/plain": [
       "<IPython.core.display.Markdown object>"
      ]
     },
     "execution_count": 4,
     "metadata": {},
     "output_type": "execute_result"
    }
   ],
   "source": [
    "#hide_input\n",
    "#md('##### {}'.format(titleBTC)) \n",
    "md(\"- {}{} {}{} [| Skaityti daugiau]({}) \".format(btc['title'],'. ', btc['body'], ' ...', btc['url']))"
   ]
  },
  {
   "cell_type": "code",
   "execution_count": 5,
   "id": "organic-actress",
   "metadata": {
    "execution": {
     "iopub.execute_input": "2022-08-10T02:45:47.290187Z",
     "iopub.status.busy": "2022-08-10T02:45:47.289471Z",
     "iopub.status.idle": "2022-08-10T02:45:47.292128Z",
     "shell.execute_reply": "2022-08-10T02:45:47.292646Z"
    },
    "papermill": {
     "duration": 0.018732,
     "end_time": "2022-08-10T02:45:47.292785",
     "exception": false,
     "start_time": "2022-08-10T02:45:47.274053",
     "status": "completed"
    },
    "tags": []
   },
   "outputs": [
    {
     "data": {
      "text/markdown": [
       "- Robinhood Abruptly Adds Support for Ethereum Rival Avalanche (AVAX) and XRP Competitor Stellar (XLM).  Retail trading giant Robinhood just announced that it now supports Ethereum challenger Avalanche (AVAX) and XRP rival Stellar (XLM) as the two altcoins enjoy rallies this month. In an announcement via Twitter, the retail trading giant says that AVAX and XLM are now live on the Robinhood platform. Both coins have been outperforming much of [&#8230;]The post Robinhood Abruptly Adds Support for Ethereum Rival Avalanche (AVAX) and XRP Competitor Stellar (XLM) appeared first on The Daily Hodl. ... [| Skaityti daugiau](https://dailyhodl.com/2022/08/09/robinhood-abruptly-adds-support-for-ethereum-rival-avalanche-avax-and-xrp-competitor-stellar-xlm/) "
      ],
      "text/plain": [
       "<IPython.core.display.Markdown object>"
      ]
     },
     "execution_count": 5,
     "metadata": {},
     "output_type": "execute_result"
    }
   ],
   "source": [
    "#hide_input\n",
    "#md('##### {}'.format(titleBTC)) \n",
    "md(\"- {}{} {}{} [| Skaityti daugiau]({}) \".format(xrp['title'],'. ', xrp['body'], ' ...', xrp['url']))"
   ]
  },
  {
   "cell_type": "code",
   "execution_count": 6,
   "id": "prompt-farmer",
   "metadata": {
    "execution": {
     "iopub.execute_input": "2022-08-10T02:45:47.318997Z",
     "iopub.status.busy": "2022-08-10T02:45:47.318271Z",
     "iopub.status.idle": "2022-08-10T02:45:47.320998Z",
     "shell.execute_reply": "2022-08-10T02:45:47.321548Z"
    },
    "papermill": {
     "duration": 0.018986,
     "end_time": "2022-08-10T02:45:47.321710",
     "exception": false,
     "start_time": "2022-08-10T02:45:47.302724",
     "status": "completed"
    },
    "tags": []
   },
   "outputs": [
    {
     "data": {
      "text/markdown": [
       "- Tron Founder Justin Sun Says His Crypto Exchange Poloniex Will Support All Future Forked Ethereum Tokens: Report.  The founder and former chief executive of smart contract platform Tron (TRX) is reportedly saying that his crypto exchange will support all future forked Ethereum (ETH) tokens. According to a new report by Bloomberg, Sun says that Poloniex, a crypto exchange he heavily backed in 2019, will list any proof of work versions of Ethereum [&#8230;]The post Tron Founder Justin Sun Says His Crypto Exchange Poloniex Will Support All Future Forked Ethereum Tokens: Report appeared first on The Daily Hodl. ... [| Skaityti daugiau](https://dailyhodl.com/2022/08/08/tron-founder-justin-sun-says-his-crypto-exchange-poloniex-will-support-all-future-forked-ethereum-tokens-report/) "
      ],
      "text/plain": [
       "<IPython.core.display.Markdown object>"
      ]
     },
     "execution_count": 6,
     "metadata": {},
     "output_type": "execute_result"
    }
   ],
   "source": [
    "#hide_input\n",
    "#md('##### {}'.format(titleBTC)) \n",
    "md(\"- {}{} {}{} [| Skaityti daugiau]({}) \".format(trx['title'],'. ', trx['body'], ' ...', trx['url']))"
   ]
  },
  {
   "cell_type": "code",
   "execution_count": 7,
   "id": "illegal-greece",
   "metadata": {
    "execution": {
     "iopub.execute_input": "2022-08-10T02:45:47.348262Z",
     "iopub.status.busy": "2022-08-10T02:45:47.346947Z",
     "iopub.status.idle": "2022-08-10T02:45:47.351955Z",
     "shell.execute_reply": "2022-08-10T02:45:47.351480Z"
    },
    "papermill": {
     "duration": 0.019689,
     "end_time": "2022-08-10T02:45:47.352067",
     "exception": false,
     "start_time": "2022-08-10T02:45:47.332378",
     "status": "completed"
    },
    "tags": []
   },
   "outputs": [
    {
     "data": {
      "text/markdown": [
       "- Bitcoin, Ethereum, Tron, and Chainlink Daily Price Analyses – 9 August Roundup.  The global crypto market has seen a continuation of fluctuations in an influx of capital. The investors have remained unsure about the direction of the market. Thus, the value of Bitcoin, Ethereum, and other coins has continued to fluctuate, affecting their progress. Even though Bitcoin was expected to stay at $24K, it couldn&#8217;t retain its &#8230;  Bitcoin, Ethereum, Tron, and Chainlink Daily Price Analyses – 9 August Roundup Read More &#187; ... [| Skaityti daugiau](https://www.cryptopolitan.com/bitcoin-ethereum-tron-and-chainlink-daily-price-analyses-9-august-roundup/) "
      ],
      "text/plain": [
       "<IPython.core.display.Markdown object>"
      ]
     },
     "execution_count": 7,
     "metadata": {},
     "output_type": "execute_result"
    }
   ],
   "source": [
    "#hide_input\n",
    "#md('##### {}'.format(titleBTC)) \n",
    "md(\"- {}{} {}{} [| Skaityti daugiau]({}) \".format(eth['title'],'. ', eth['body'], ' ...', eth['url']))"
   ]
  },
  {
   "cell_type": "code",
   "execution_count": 8,
   "id": "sublime-lounge",
   "metadata": {
    "execution": {
     "iopub.execute_input": "2022-08-10T02:45:47.380615Z",
     "iopub.status.busy": "2022-08-10T02:45:47.380020Z",
     "iopub.status.idle": "2022-08-10T02:45:47.383454Z",
     "shell.execute_reply": "2022-08-10T02:45:47.383998Z"
    },
    "papermill": {
     "duration": 0.020036,
     "end_time": "2022-08-10T02:45:47.384133",
     "exception": false,
     "start_time": "2022-08-10T02:45:47.364097",
     "status": "completed"
    },
    "tags": []
   },
   "outputs": [
    {
     "data": {
      "text/markdown": [
       "- Cardano ($ADA) ‘Aggressively Priced’ Compared With $SOL, $ALGO, $XTZ, and $NEO: Messari.  A recently published report from Messari suggests that Cardano ($ADA) is being ‘aggressively priced’ ahead of the Vasil hard fork, at least when compared with rival smart contract networks that aren’t Ethereum, including Solana ($SOL), Algorand ($ALGO), Tezos ($XTZ), and $NEO. According to a tweet Messari shared, Cardano’s active addresses are far below those of […] ... [| Skaityti daugiau](https://www.cryptoglobe.com/latest/2022/08/cardano-ada-aggressively-priced-compared-with-sol-algo-xtz-and-neo-messari/) "
      ],
      "text/plain": [
       "<IPython.core.display.Markdown object>"
      ]
     },
     "execution_count": 8,
     "metadata": {},
     "output_type": "execute_result"
    }
   ],
   "source": [
    "#hide_input\n",
    "#md('##### {}'.format(titleBTC)) \n",
    "md(\"- {}{} {}{} [| Skaityti daugiau]({}) \".format(ada['title'],'. ', ada['body'], ' ...', ada['url']))"
   ]
  },
  {
   "cell_type": "code",
   "execution_count": 9,
   "id": "specified-ordering",
   "metadata": {
    "execution": {
     "iopub.execute_input": "2022-08-10T02:45:47.412100Z",
     "iopub.status.busy": "2022-08-10T02:45:47.411500Z",
     "iopub.status.idle": "2022-08-10T02:45:47.414928Z",
     "shell.execute_reply": "2022-08-10T02:45:47.415490Z"
    },
    "papermill": {
     "duration": 0.020516,
     "end_time": "2022-08-10T02:45:47.415630",
     "exception": false,
     "start_time": "2022-08-10T02:45:47.395114",
     "status": "completed"
    },
    "tags": []
   },
   "outputs": [
    {
     "data": {
      "text/markdown": [
       "- German Crypto Exchange Nuri Applies for Insolvency Due To The Crypto Winter.  The crypto winter is far from over. Its most recent victim is a german cryptocurrency exchange which is now insolvent: Nuri. ... [| Skaityti daugiau](https://cryptopotato.com/german-crypto-exchange-nuri-applies-for-insolvency-due-to-the-crypto-winter/) "
      ],
      "text/plain": [
       "<IPython.core.display.Markdown object>"
      ]
     },
     "execution_count": 9,
     "metadata": {},
     "output_type": "execute_result"
    }
   ],
   "source": [
    "#hide_input\n",
    "#md('##### {}'.format(titleBTC)) \n",
    "md(\"- {}{} {}{} [| Skaityti daugiau]({}) \".format(exchange['title'],'. ', exchange['body'], ' ...', exchange['url']))"
   ]
  },
  {
   "cell_type": "code",
   "execution_count": null,
   "id": "tender-livestock",
   "metadata": {
    "papermill": {
     "duration": 0.011323,
     "end_time": "2022-08-10T02:45:47.438388",
     "exception": false,
     "start_time": "2022-08-10T02:45:47.427065",
     "status": "completed"
    },
    "tags": []
   },
   "outputs": [],
   "source": []
  },
  {
   "cell_type": "code",
   "execution_count": null,
   "id": "appreciated-diamond",
   "metadata": {
    "papermill": {
     "duration": 0.011188,
     "end_time": "2022-08-10T02:45:47.460931",
     "exception": false,
     "start_time": "2022-08-10T02:45:47.449743",
     "status": "completed"
    },
    "tags": []
   },
   "outputs": [],
   "source": []
  },
  {
   "cell_type": "code",
   "execution_count": null,
   "id": "romance-sweden",
   "metadata": {
    "papermill": {
     "duration": 0.011151,
     "end_time": "2022-08-10T02:45:47.483234",
     "exception": false,
     "start_time": "2022-08-10T02:45:47.472083",
     "status": "completed"
    },
    "tags": []
   },
   "outputs": [],
   "source": []
  },
  {
   "cell_type": "code",
   "execution_count": null,
   "id": "dietary-statistics",
   "metadata": {
    "papermill": {
     "duration": 0.011096,
     "end_time": "2022-08-10T02:45:47.505519",
     "exception": false,
     "start_time": "2022-08-10T02:45:47.494423",
     "status": "completed"
    },
    "tags": []
   },
   "outputs": [],
   "source": []
  }
 ],
 "metadata": {
  "kernelspec": {
   "display_name": "Python 3",
   "language": "python",
   "name": "python3"
  },
  "language_info": {
   "codemirror_mode": {
    "name": "ipython",
    "version": 3
   },
   "file_extension": ".py",
   "mimetype": "text/x-python",
   "name": "python",
   "nbconvert_exporter": "python",
   "pygments_lexer": "ipython3",
   "version": "3.6.15"
  },
  "papermill": {
   "default_parameters": {},
   "duration": 13.142405,
   "end_time": "2022-08-10T02:45:48.138039",
   "environment_variables": {},
   "exception": null,
   "input_path": "Market-News.ipynb",
   "output_path": "Market-News.ipynb",
   "parameters": {},
   "start_time": "2022-08-10T02:45:34.995634",
   "version": "2.2.2"
  }
 },
 "nbformat": 4,
 "nbformat_minor": 5
}