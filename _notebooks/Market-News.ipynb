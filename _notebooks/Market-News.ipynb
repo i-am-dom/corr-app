{
 "cells": [
  {
   "cell_type": "markdown",
   "id": "short-greensboro",
   "metadata": {
    "papermill": {
     "duration": 0.013947,
     "end_time": "2021-12-16T02:02:12.133439",
     "exception": false,
     "start_time": "2021-12-16T02:02:12.119492",
     "status": "completed"
    },
    "tags": []
   },
   "source": [
    "# Kriptovaliutų naujienos"
   ]
  },
  {
   "cell_type": "code",
   "execution_count": 1,
   "id": "functioning-knowing",
   "metadata": {
    "execution": {
     "iopub.execute_input": "2021-12-16T02:02:12.165234Z",
     "iopub.status.busy": "2021-12-16T02:02:12.164367Z",
     "iopub.status.idle": "2021-12-16T02:02:13.611704Z",
     "shell.execute_reply": "2021-12-16T02:02:13.610932Z"
    },
    "papermill": {
     "duration": 1.467934,
     "end_time": "2021-12-16T02:02:13.611878",
     "exception": false,
     "start_time": "2021-12-16T02:02:12.143944",
     "status": "completed"
    },
    "tags": []
   },
   "outputs": [],
   "source": [
    "#hide_input\n",
    "import warnings\n",
    "warnings.filterwarnings('ignore')\n",
    "from scripts.read_data import read_api\n",
    "from scripts.read_data import read_news\n",
    "from scripts.read_data import read_covid\n",
    "import matplotlib.pyplot as plt \n",
    "from IPython.display import Markdown as md"
   ]
  },
  {
   "cell_type": "code",
   "execution_count": 2,
   "id": "shared-acceptance",
   "metadata": {
    "execution": {
     "iopub.execute_input": "2021-12-16T02:02:13.640238Z",
     "iopub.status.busy": "2021-12-16T02:02:13.639497Z",
     "iopub.status.idle": "2021-12-16T02:02:23.904178Z",
     "shell.execute_reply": "2021-12-16T02:02:23.903216Z"
    },
    "papermill": {
     "duration": 10.281192,
     "end_time": "2021-12-16T02:02:23.904336",
     "exception": false,
     "start_time": "2021-12-16T02:02:13.623144",
     "status": "completed"
    },
    "tags": []
   },
   "outputs": [],
   "source": [
    "#hide_input\n",
    "blockchain = read_news('blockchain') \n",
    "btc = read_news('btc') \n",
    "xrp = read_news('xrp') \n",
    "trx = read_news('trx') \n",
    "eth = read_news('eth')  \n",
    "ada = read_news('ada')\n",
    "exchange = read_news('exchange') "
   ]
  },
  {
   "cell_type": "code",
   "execution_count": 3,
   "id": "synthetic-notion",
   "metadata": {
    "execution": {
     "iopub.execute_input": "2021-12-16T02:02:23.931318Z",
     "iopub.status.busy": "2021-12-16T02:02:23.930573Z",
     "iopub.status.idle": "2021-12-16T02:02:23.935245Z",
     "shell.execute_reply": "2021-12-16T02:02:23.935759Z"
    },
    "papermill": {
     "duration": 0.021226,
     "end_time": "2021-12-16T02:02:23.935955",
     "exception": false,
     "start_time": "2021-12-16T02:02:23.914729",
     "status": "completed"
    },
    "tags": []
   },
   "outputs": [
    {
     "data": {
      "text/markdown": [
       "- Otis Launches NFT Auction Platform That Transforms Real-World Items Into Digital Collectibles.  As both fractional and traditional non-fungible tokens (NFTs) have seen exponential growth this year, the firm Otis has announced the launch of a marketplace called Otis House. The platform is a new NFT project that turns physical items into NFTs, and the tokens can be traded at any time for the physical items stored in [&#8230;] ... [| Skaityti daugiau](https://news.bitcoin.com/otis-launches-nft-auction-platform-that-transforms-real-world-items-into-digital-collectibles/) "
      ],
      "text/plain": [
       "<IPython.core.display.Markdown object>"
      ]
     },
     "execution_count": 3,
     "metadata": {},
     "output_type": "execute_result"
    }
   ],
   "source": [
    "#hide_input\n",
    "#md('##### {}'.format(titleBTC)) \n",
    "md(\"- {}{} {}{} [| Skaityti daugiau]({}) \".format(blockchain['title'],'. ', blockchain['body'], ' ...', blockchain['url']))"
   ]
  },
  {
   "cell_type": "code",
   "execution_count": 4,
   "id": "aging-caution",
   "metadata": {
    "execution": {
     "iopub.execute_input": "2021-12-16T02:02:23.965242Z",
     "iopub.status.busy": "2021-12-16T02:02:23.964573Z",
     "iopub.status.idle": "2021-12-16T02:02:23.967510Z",
     "shell.execute_reply": "2021-12-16T02:02:23.968101Z"
    },
    "papermill": {
     "duration": 0.021034,
     "end_time": "2021-12-16T02:02:23.968262",
     "exception": false,
     "start_time": "2021-12-16T02:02:23.947228",
     "status": "completed"
    },
    "tags": []
   },
   "outputs": [
    {
     "data": {
      "text/markdown": [
       "- The Bitcoin Lightning Network Is Creating Efficiency For Traders.  The ability to quickly move bitcoin over the Lightning Network allows traders to expose themselves to minimal third-party risk. ... [| Skaityti daugiau](https://bitcoinmagazine.com/markets/bitcoin-lightning-network-creating-trader-efficiency) "
      ],
      "text/plain": [
       "<IPython.core.display.Markdown object>"
      ]
     },
     "execution_count": 4,
     "metadata": {},
     "output_type": "execute_result"
    }
   ],
   "source": [
    "#hide_input\n",
    "#md('##### {}'.format(titleBTC)) \n",
    "md(\"- {}{} {}{} [| Skaityti daugiau]({}) \".format(btc['title'],'. ', btc['body'], ' ...', btc['url']))"
   ]
  },
  {
   "cell_type": "code",
   "execution_count": 5,
   "id": "organic-actress",
   "metadata": {
    "execution": {
     "iopub.execute_input": "2021-12-16T02:02:23.996574Z",
     "iopub.status.busy": "2021-12-16T02:02:23.995932Z",
     "iopub.status.idle": "2021-12-16T02:02:23.999620Z",
     "shell.execute_reply": "2021-12-16T02:02:23.998891Z"
    },
    "papermill": {
     "duration": 0.019385,
     "end_time": "2021-12-16T02:02:23.999761",
     "exception": false,
     "start_time": "2021-12-16T02:02:23.980376",
     "status": "completed"
    },
    "tags": []
   },
   "outputs": [
    {
     "data": {
      "text/markdown": [
       "- XRP, MANA, Sushi Price Analysis: 15 December.  With Bitcoin trading at around $48,000 and Ethereum trading between $3,800-3950, the bearish sentiment was driving most alts, at press time. The selling pressure was most evident in Sushi, as its bulls failed to uphold the 11-month-long resistance. Also, XRP and MANA charts projected substantial dips along with bearish near-term technicals. XRP Although Ripple’s XRP crossed the [&#8230;] ... [| Skaityti daugiau](https://ambcrypto.com/xrp-mana-sushi-price-analysis-15-december/) "
      ],
      "text/plain": [
       "<IPython.core.display.Markdown object>"
      ]
     },
     "execution_count": 5,
     "metadata": {},
     "output_type": "execute_result"
    }
   ],
   "source": [
    "#hide_input\n",
    "#md('##### {}'.format(titleBTC)) \n",
    "md(\"- {}{} {}{} [| Skaityti daugiau]({}) \".format(xrp['title'],'. ', xrp['body'], ' ...', xrp['url']))"
   ]
  },
  {
   "cell_type": "code",
   "execution_count": 6,
   "id": "prompt-farmer",
   "metadata": {
    "execution": {
     "iopub.execute_input": "2021-12-16T02:02:24.028250Z",
     "iopub.status.busy": "2021-12-16T02:02:24.027157Z",
     "iopub.status.idle": "2021-12-16T02:02:24.031644Z",
     "shell.execute_reply": "2021-12-16T02:02:24.032210Z"
    },
    "papermill": {
     "duration": 0.020426,
     "end_time": "2021-12-16T02:02:24.032337",
     "exception": false,
     "start_time": "2021-12-16T02:02:24.011911",
     "status": "completed"
    },
    "tags": []
   },
   "outputs": [
    {
     "data": {
      "text/markdown": [
       "- Tron (TRX) Price Analysis: Bulls Face Uphill Task Near $0.1.  Tron price started a recovery wave above $0.0800 against the US Dollar. TRX price is now trading below $0.0900 and near the 55 simple moving average (4-hours). There is a key bearish trend line forming with resistance near $0.0900 on the 4-hours chart (data feed via Bitfinex). The pair could start a major increase if...The post Tron (TRX) Price Analysis: Bulls Face Uphill Task Near $0.1 appeared first on Live Bitcoin News. ... [| Skaityti daugiau](https://www.livebitcoinnews.com/tron-trx-price-analysis-bulls-face-uphill-task-near-0-1-2/) "
      ],
      "text/plain": [
       "<IPython.core.display.Markdown object>"
      ]
     },
     "execution_count": 6,
     "metadata": {},
     "output_type": "execute_result"
    }
   ],
   "source": [
    "#hide_input\n",
    "#md('##### {}'.format(titleBTC)) \n",
    "md(\"- {}{} {}{} [| Skaityti daugiau]({}) \".format(trx['title'],'. ', trx['body'], ' ...', trx['url']))"
   ]
  },
  {
   "cell_type": "code",
   "execution_count": 7,
   "id": "illegal-greece",
   "metadata": {
    "execution": {
     "iopub.execute_input": "2021-12-16T02:02:24.068636Z",
     "iopub.status.busy": "2021-12-16T02:02:24.067718Z",
     "iopub.status.idle": "2021-12-16T02:02:24.070816Z",
     "shell.execute_reply": "2021-12-16T02:02:24.071714Z"
    },
    "papermill": {
     "duration": 0.024008,
     "end_time": "2021-12-16T02:02:24.071932",
     "exception": false,
     "start_time": "2021-12-16T02:02:24.047924",
     "status": "completed"
    },
    "tags": []
   },
   "outputs": [
    {
     "data": {
      "text/markdown": [
       "- The Hardest Part of Building a DAO Isn't What You Think.  It’s not the tech or the fundraising. DAO leaders have to be not just tech-savvy, but people-savvy if they hope to scale. ... [| Skaityti daugiau](https://decrypt.co/88409/hardest-part-building-dao) "
      ],
      "text/plain": [
       "<IPython.core.display.Markdown object>"
      ]
     },
     "execution_count": 7,
     "metadata": {},
     "output_type": "execute_result"
    }
   ],
   "source": [
    "#hide_input\n",
    "#md('##### {}'.format(titleBTC)) \n",
    "md(\"- {}{} {}{} [| Skaityti daugiau]({}) \".format(eth['title'],'. ', eth['body'], ' ...', eth['url']))"
   ]
  },
  {
   "cell_type": "code",
   "execution_count": 8,
   "id": "sublime-lounge",
   "metadata": {
    "execution": {
     "iopub.execute_input": "2021-12-16T02:02:24.113794Z",
     "iopub.status.busy": "2021-12-16T02:02:24.113092Z",
     "iopub.status.idle": "2021-12-16T02:02:24.117105Z",
     "shell.execute_reply": "2021-12-16T02:02:24.116524Z"
    },
    "papermill": {
     "duration": 0.032152,
     "end_time": "2021-12-16T02:02:24.117256",
     "exception": false,
     "start_time": "2021-12-16T02:02:24.085104",
     "status": "completed"
    },
    "tags": []
   },
   "outputs": [
    {
     "data": {
      "text/markdown": [
       "- Cardano, Shiba Inu, IOTA Price Analysis: 15 December.  As the broader market continues its steady slump, Shiba Inu and IOTA see a breakdown below the 61.8% Fibonacci level. Moreover, Cardano bears breached the crucial $1.26-mark while the near-term technicals for all these cryptos demonstrated a bearish bias. Cardano (ADA) ADA continued its bearish streak and formed a descending triangle on its 4-hour chart over the [&#8230;] ... [| Skaityti daugiau](https://ambcrypto.com/cardano-shiba-inu-iota-price-analysis-15-december/) "
      ],
      "text/plain": [
       "<IPython.core.display.Markdown object>"
      ]
     },
     "execution_count": 8,
     "metadata": {},
     "output_type": "execute_result"
    }
   ],
   "source": [
    "#hide_input\n",
    "#md('##### {}'.format(titleBTC)) \n",
    "md(\"- {}{} {}{} [| Skaityti daugiau]({}) \".format(ada['title'],'. ', ada['body'], ' ...', ada['url']))"
   ]
  },
  {
   "cell_type": "code",
   "execution_count": 9,
   "id": "specified-ordering",
   "metadata": {
    "execution": {
     "iopub.execute_input": "2021-12-16T02:02:24.148630Z",
     "iopub.status.busy": "2021-12-16T02:02:24.147888Z",
     "iopub.status.idle": "2021-12-16T02:02:24.151761Z",
     "shell.execute_reply": "2021-12-16T02:02:24.152970Z"
    },
    "papermill": {
     "duration": 0.022856,
     "end_time": "2021-12-16T02:02:24.153385",
     "exception": false,
     "start_time": "2021-12-16T02:02:24.130529",
     "status": "completed"
    },
    "tags": []
   },
   "outputs": [
    {
     "data": {
      "text/markdown": [
       "- Binance Is Closing Down Its Singapore Division.  Singapore-based Binance Asia Services has announced it is ending a bourse it was looking to run within the nation’s borders. The company has withdrawn the application it submitted and will close by February 13. Binance Is Ending Its Singapore Branch The firm is just one of nearly 200 that submitted applications to the Monetary Authority...The post Binance Is Closing Down Its Singapore Division appeared first on Live Bitcoin News. ... [| Skaityti daugiau](https://www.livebitcoinnews.com/binance-is-closing-down-its-singapore-division/) "
      ],
      "text/plain": [
       "<IPython.core.display.Markdown object>"
      ]
     },
     "execution_count": 9,
     "metadata": {},
     "output_type": "execute_result"
    }
   ],
   "source": [
    "#hide_input\n",
    "#md('##### {}'.format(titleBTC)) \n",
    "md(\"- {}{} {}{} [| Skaityti daugiau]({}) \".format(exchange['title'],'. ', exchange['body'], ' ...', exchange['url']))"
   ]
  },
  {
   "cell_type": "code",
   "execution_count": null,
   "id": "tender-livestock",
   "metadata": {
    "papermill": {
     "duration": 0.013946,
     "end_time": "2021-12-16T02:02:24.180682",
     "exception": false,
     "start_time": "2021-12-16T02:02:24.166736",
     "status": "completed"
    },
    "tags": []
   },
   "outputs": [],
   "source": []
  },
  {
   "cell_type": "code",
   "execution_count": null,
   "id": "appreciated-diamond",
   "metadata": {
    "papermill": {
     "duration": 0.016365,
     "end_time": "2021-12-16T02:02:24.210207",
     "exception": false,
     "start_time": "2021-12-16T02:02:24.193842",
     "status": "completed"
    },
    "tags": []
   },
   "outputs": [],
   "source": []
  },
  {
   "cell_type": "code",
   "execution_count": null,
   "id": "romance-sweden",
   "metadata": {
    "papermill": {
     "duration": 0.013357,
     "end_time": "2021-12-16T02:02:24.238422",
     "exception": false,
     "start_time": "2021-12-16T02:02:24.225065",
     "status": "completed"
    },
    "tags": []
   },
   "outputs": [],
   "source": []
  },
  {
   "cell_type": "code",
   "execution_count": null,
   "id": "dietary-statistics",
   "metadata": {
    "papermill": {
     "duration": 0.014722,
     "end_time": "2021-12-16T02:02:24.267293",
     "exception": false,
     "start_time": "2021-12-16T02:02:24.252571",
     "status": "completed"
    },
    "tags": []
   },
   "outputs": [],
   "source": []
  }
 ],
 "metadata": {
  "kernelspec": {
   "display_name": "Python 3",
   "language": "python",
   "name": "python3"
  },
  "language_info": {
   "codemirror_mode": {
    "name": "ipython",
    "version": 3
   },
   "file_extension": ".py",
   "mimetype": "text/x-python",
   "name": "python",
   "nbconvert_exporter": "python",
   "pygments_lexer": "ipython3",
   "version": "3.6.15"
  },
  "papermill": {
   "default_parameters": {},
   "duration": 13.867429,
   "end_time": "2021-12-16T02:02:24.690745",
   "environment_variables": {},
   "exception": null,
   "input_path": "Market-News.ipynb",
   "output_path": "Market-News.ipynb",
   "parameters": {},
   "start_time": "2021-12-16T02:02:10.823316",
   "version": "2.2.2"
  }
 },
 "nbformat": 4,
 "nbformat_minor": 5
}