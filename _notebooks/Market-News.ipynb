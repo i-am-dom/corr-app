{
 "cells": [
  {
   "cell_type": "markdown",
   "id": "short-greensboro",
   "metadata": {
    "papermill": {
     "duration": 0.013198,
     "end_time": "2022-03-13T02:07:34.026913",
     "exception": false,
     "start_time": "2022-03-13T02:07:34.013715",
     "status": "completed"
    },
    "tags": []
   },
   "source": [
    "# Kriptovaliutų naujienos"
   ]
  },
  {
   "cell_type": "code",
   "execution_count": 1,
   "id": "functioning-knowing",
   "metadata": {
    "execution": {
     "iopub.execute_input": "2022-03-13T02:07:34.055956Z",
     "iopub.status.busy": "2022-03-13T02:07:34.055410Z",
     "iopub.status.idle": "2022-03-13T02:07:35.337526Z",
     "shell.execute_reply": "2022-03-13T02:07:35.337954Z"
    },
    "papermill": {
     "duration": 1.301629,
     "end_time": "2022-03-13T02:07:35.338157",
     "exception": false,
     "start_time": "2022-03-13T02:07:34.036528",
     "status": "completed"
    },
    "tags": []
   },
   "outputs": [],
   "source": [
    "#hide_input\n",
    "import warnings\n",
    "warnings.filterwarnings('ignore')\n",
    "from scripts.read_data import read_api\n",
    "from scripts.read_data import read_news\n",
    "from scripts.read_data import read_covid\n",
    "import matplotlib.pyplot as plt \n",
    "from IPython.display import Markdown as md"
   ]
  },
  {
   "cell_type": "code",
   "execution_count": 2,
   "id": "shared-acceptance",
   "metadata": {
    "execution": {
     "iopub.execute_input": "2022-03-13T02:07:35.363528Z",
     "iopub.status.busy": "2022-03-13T02:07:35.362980Z",
     "iopub.status.idle": "2022-03-13T02:07:44.131629Z",
     "shell.execute_reply": "2022-03-13T02:07:44.131094Z"
    },
    "papermill": {
     "duration": 8.784237,
     "end_time": "2022-03-13T02:07:44.131772",
     "exception": false,
     "start_time": "2022-03-13T02:07:35.347535",
     "status": "completed"
    },
    "tags": []
   },
   "outputs": [],
   "source": [
    "#hide_input\n",
    "blockchain = read_news('blockchain') \n",
    "btc = read_news('btc') \n",
    "xrp = read_news('xrp') \n",
    "trx = read_news('trx') \n",
    "eth = read_news('eth')  \n",
    "ada = read_news('ada')\n",
    "exchange = read_news('exchange') "
   ]
  },
  {
   "cell_type": "code",
   "execution_count": 3,
   "id": "synthetic-notion",
   "metadata": {
    "execution": {
     "iopub.execute_input": "2022-03-13T02:07:44.157257Z",
     "iopub.status.busy": "2022-03-13T02:07:44.156731Z",
     "iopub.status.idle": "2022-03-13T02:07:44.159096Z",
     "shell.execute_reply": "2022-03-13T02:07:44.159525Z"
    },
    "papermill": {
     "duration": 0.018196,
     "end_time": "2022-03-13T02:07:44.159652",
     "exception": false,
     "start_time": "2022-03-13T02:07:44.141456",
     "status": "completed"
    },
    "tags": []
   },
   "outputs": [
    {
     "data": {
      "text/markdown": [
       "- Jack Dorsey’s Block Bitcoin (BTC) Wallet Project To Use Fingerprint Technology for Security.  Jack Dorsey&#8217;s upcoming Bitcoin (BTC) wallet product will be outfitted with fingerprint sensor devices for security, according to a new update. Dorsey&#8217;s company Block, formerly known as Square, first announced plans to develop a wallet last summer. In a new update, the team behind the BTC wallet announced that the project will include both hardware [&#8230;]The post Jack Dorsey’s Block Bitcoin (BTC) Wallet Project To Use Fingerprint Technology for Security appeared first on The Daily Hodl. ... [| Skaityti daugiau](https://dailyhodl.com/2022/03/12/jack-dorseys-block-bitcoin-btc-wallet-project-to-use-fingerprint-technology-for-security/) "
      ],
      "text/plain": [
       "<IPython.core.display.Markdown object>"
      ]
     },
     "execution_count": 3,
     "metadata": {},
     "output_type": "execute_result"
    }
   ],
   "source": [
    "#hide_input\n",
    "#md('##### {}'.format(titleBTC)) \n",
    "md(\"- {}{} {}{} [| Skaityti daugiau]({}) \".format(blockchain['title'],'. ', blockchain['body'], ' ...', blockchain['url']))"
   ]
  },
  {
   "cell_type": "code",
   "execution_count": 4,
   "id": "aging-caution",
   "metadata": {
    "execution": {
     "iopub.execute_input": "2022-03-13T02:07:44.183420Z",
     "iopub.status.busy": "2022-03-13T02:07:44.182828Z",
     "iopub.status.idle": "2022-03-13T02:07:44.184977Z",
     "shell.execute_reply": "2022-03-13T02:07:44.185461Z"
    },
    "papermill": {
     "duration": 0.016607,
     "end_time": "2022-03-13T02:07:44.185578",
     "exception": false,
     "start_time": "2022-03-13T02:07:44.168971",
     "status": "completed"
    },
    "tags": []
   },
   "outputs": [
    {
     "data": {
      "text/markdown": [
       "- Apple Co-Founder Steve Wozniak Expects Bitcoin to Hit $100K — Says ‘I Just Really Feel It From All of the Interest’.  Apple co-founder Steve Wozniak expects the price of bitcoin to hit $100,000. &#x201C;I just really feel it from all of the interest,&#x201D; he explained. &#x201C;The interest in crypto is so high.&#x201D; Steve Wozniak&#x2019;s Bitcoin Price Prediction Apple co-founder Steve Wozniak shared his view on cryptocurrency in an interview on the Wild Ride with Steve-O podcast, [&#8230;] ... [| Skaityti daugiau](https://news.bitcoin.com/apple-co-founder-steve-wozniak-expects-bitcoin-to-hit-100k-i-just-really-feel-it-from-all-of-the-interest/) "
      ],
      "text/plain": [
       "<IPython.core.display.Markdown object>"
      ]
     },
     "execution_count": 4,
     "metadata": {},
     "output_type": "execute_result"
    }
   ],
   "source": [
    "#hide_input\n",
    "#md('##### {}'.format(titleBTC)) \n",
    "md(\"- {}{} {}{} [| Skaityti daugiau]({}) \".format(btc['title'],'. ', btc['body'], ' ...', btc['url']))"
   ]
  },
  {
   "cell_type": "code",
   "execution_count": 5,
   "id": "organic-actress",
   "metadata": {
    "execution": {
     "iopub.execute_input": "2022-03-13T02:07:44.210121Z",
     "iopub.status.busy": "2022-03-13T02:07:44.209512Z",
     "iopub.status.idle": "2022-03-13T02:07:44.211651Z",
     "shell.execute_reply": "2022-03-13T02:07:44.212197Z"
    },
    "papermill": {
     "duration": 0.017112,
     "end_time": "2022-03-13T02:07:44.212329",
     "exception": false,
     "start_time": "2022-03-13T02:07:44.195217",
     "status": "completed"
    },
    "tags": []
   },
   "outputs": [
    {
     "data": {
      "text/markdown": [
       "- Top Crypto Trader Issues XRP Alert As SEC v. Ripple Battle Heats Up.  A popular cryptocurrency analyst and investor is tracking the trajectory of XRP after a key ruling in the SEC&#8217;s lawsuit against Ripple. On Friday, Judge Analisa Torres denied the U.S. Securities and Exchange Commission&#8217;s attempt to prevent Ripple from using a “Fair Notice Defense.” One of Ripple&#8217;s core arguments is that the SEC did not [&#8230;]The post Top Crypto Trader Issues XRP Alert As SEC v. Ripple Battle Heats Up appeared first on The Daily Hodl. ... [| Skaityti daugiau](https://dailyhodl.com/2022/03/12/top-crypto-trader-issues-xrp-alert-as-sec-v-ripple-battle-heats-up/) "
      ],
      "text/plain": [
       "<IPython.core.display.Markdown object>"
      ]
     },
     "execution_count": 5,
     "metadata": {},
     "output_type": "execute_result"
    }
   ],
   "source": [
    "#hide_input\n",
    "#md('##### {}'.format(titleBTC)) \n",
    "md(\"- {}{} {}{} [| Skaityti daugiau]({}) \".format(xrp['title'],'. ', xrp['body'], ' ...', xrp['url']))"
   ]
  },
  {
   "cell_type": "code",
   "execution_count": 6,
   "id": "prompt-farmer",
   "metadata": {
    "execution": {
     "iopub.execute_input": "2022-03-13T02:07:44.236973Z",
     "iopub.status.busy": "2022-03-13T02:07:44.236476Z",
     "iopub.status.idle": "2022-03-13T02:07:44.239484Z",
     "shell.execute_reply": "2022-03-13T02:07:44.239063Z"
    },
    "papermill": {
     "duration": 0.017001,
     "end_time": "2022-03-13T02:07:44.239580",
     "exception": false,
     "start_time": "2022-03-13T02:07:44.222579",
     "status": "completed"
    },
    "tags": []
   },
   "outputs": [
    {
     "data": {
      "text/markdown": [
       "- Solana, LUNA, Tron Price Analysis: 10 March.  While the last 24 hours proved to be rather menacing for the bulls, the Crypto fear and greed index showed minor improvements in the overall sentiment. The near-term technicals of Solana, LUNA, and Tron exhibited a bearish inclination but the CMF kept the bullish revival chances bright in the days to come. Solana (SOL) SOL [&#8230;] ... [| Skaityti daugiau](https://ambcrypto.com/solana-luna-tron-price-analysis-10-march/) "
      ],
      "text/plain": [
       "<IPython.core.display.Markdown object>"
      ]
     },
     "execution_count": 6,
     "metadata": {},
     "output_type": "execute_result"
    }
   ],
   "source": [
    "#hide_input\n",
    "#md('##### {}'.format(titleBTC)) \n",
    "md(\"- {}{} {}{} [| Skaityti daugiau]({}) \".format(trx['title'],'. ', trx['body'], ' ...', trx['url']))"
   ]
  },
  {
   "cell_type": "code",
   "execution_count": 7,
   "id": "illegal-greece",
   "metadata": {
    "execution": {
     "iopub.execute_input": "2022-03-13T02:07:44.264176Z",
     "iopub.status.busy": "2022-03-13T02:07:44.263683Z",
     "iopub.status.idle": "2022-03-13T02:07:44.266319Z",
     "shell.execute_reply": "2022-03-13T02:07:44.266750Z"
    },
    "papermill": {
     "duration": 0.017021,
     "end_time": "2022-03-13T02:07:44.266867",
     "exception": false,
     "start_time": "2022-03-13T02:07:44.249846",
     "status": "completed"
    },
    "tags": []
   },
   "outputs": [
    {
     "data": {
      "text/markdown": [
       "- Terra (LUNA) Surpasses Ethereum Becoming Second Most Staked Asset.  Over the past week, the price surge in the LUNA token has caused it to rise to become the second most-staked primary digital currency in TVL leaving Ethereum behind. In addition, a data source reported this data showing that Terra&#8217;s LUNA coin passed the Ether coin, which currently has more than $28 billion in Total Value Locked. According to the data report, the Terra crypto project has over 226,325 stakers, accounting for $29.5 billion worth of staked LUNA tokens. Thus, pushing the network to second place, towering over Ethereum. Related Reading &#124; Bitcoin Outflows Spike As 30k BTC Exits Exchanges, Reserve Plunges Down Staking Rewards also released a report showing that the LUNA recently surpassed the ETH coin based on its network&#8217;s Total Value Locked up. From the data, LUNA had over $29.5 billion worth of LUNA tokens locked for staking. In contrast, Ether has $25.9 billion worth of locked for staking within its network. Other Regions Where Terra Surpasses Ethereum From the platform&#8217;s data, LUNA has over 226,325 token stakers. It just climbed up that position recently, toppling over four times the amount of ETH stakers, which were 54,768. Terra is currently following hard after Solana, with over $35 billion total value locked. LUNA is evaluated to reward users an average of 6.62% of their investments for annual staking revenues. However, ETH offers 4.81% in staking rewards, which are relatively lower tha... ... [| Skaityti daugiau](https://www.newsbtc.com/news/ethereum/terra-surpasses-ethereum-becoming-second-most-staked-asset/) "
      ],
      "text/plain": [
       "<IPython.core.display.Markdown object>"
      ]
     },
     "execution_count": 7,
     "metadata": {},
     "output_type": "execute_result"
    }
   ],
   "source": [
    "#hide_input\n",
    "#md('##### {}'.format(titleBTC)) \n",
    "md(\"- {}{} {}{} [| Skaityti daugiau]({}) \".format(eth['title'],'. ', eth['body'], ' ...', eth['url']))"
   ]
  },
  {
   "cell_type": "code",
   "execution_count": 8,
   "id": "sublime-lounge",
   "metadata": {
    "execution": {
     "iopub.execute_input": "2022-03-13T02:07:44.292819Z",
     "iopub.status.busy": "2022-03-13T02:07:44.291685Z",
     "iopub.status.idle": "2022-03-13T02:07:44.295491Z",
     "shell.execute_reply": "2022-03-13T02:07:44.295922Z"
    },
    "papermill": {
     "duration": 0.018725,
     "end_time": "2022-03-13T02:07:44.296046",
     "exception": false,
     "start_time": "2022-03-13T02:07:44.277321",
     "status": "completed"
    },
    "tags": []
   },
   "outputs": [
    {
     "data": {
      "text/markdown": [
       "- Cardano Price Prediction: Falling Wedge Breakout Could Lead ADA Price To $1?.  The Cardano (ADA) price is trapped within a falling wedge pattern for almost two months. The coin price is close to the pattern&#8217;s apex and is poised to give a breakout. The winning party of this tug-of-war will lead the next rally in ADA price. Key points: The daily-RSI chart shows a bullish divergence ADA The post Cardano Price Prediction: Falling Wedge Breakout Could Lead ADA Price To $1? appeared first on CoinGape. ... [| Skaityti daugiau](https://coingape.com/markets/cardano-price-prediction-falling-wedge-breakout-could-lead-ada-price-to-1-should-you-buy-the-ada-price-has-been-trapped-within-a-falling-wedge-pattern-for-almost-two-months-the-coin-price-is-clos/) "
      ],
      "text/plain": [
       "<IPython.core.display.Markdown object>"
      ]
     },
     "execution_count": 8,
     "metadata": {},
     "output_type": "execute_result"
    }
   ],
   "source": [
    "#hide_input\n",
    "#md('##### {}'.format(titleBTC)) \n",
    "md(\"- {}{} {}{} [| Skaityti daugiau]({}) \".format(ada['title'],'. ', ada['body'], ' ...', ada['url']))"
   ]
  },
  {
   "cell_type": "code",
   "execution_count": 9,
   "id": "specified-ordering",
   "metadata": {
    "execution": {
     "iopub.execute_input": "2022-03-13T02:07:44.323277Z",
     "iopub.status.busy": "2022-03-13T02:07:44.322687Z",
     "iopub.status.idle": "2022-03-13T02:07:44.324925Z",
     "shell.execute_reply": "2022-03-13T02:07:44.325410Z"
    },
    "papermill": {
     "duration": 0.018508,
     "end_time": "2022-03-13T02:07:44.325544",
     "exception": false,
     "start_time": "2022-03-13T02:07:44.307036",
     "status": "completed"
    },
    "tags": []
   },
   "outputs": [
    {
     "data": {
      "text/markdown": [
       "- Top Crypto Trader Issues XRP Alert As SEC v. Ripple Battle Heats Up.  A popular cryptocurrency analyst and investor is tracking the trajectory of XRP after a key ruling in the SEC&#8217;s lawsuit against Ripple. On Friday, Judge Analisa Torres denied the U.S. Securities and Exchange Commission&#8217;s attempt to prevent Ripple from using a “Fair Notice Defense.” One of Ripple&#8217;s core arguments is that the SEC did not [&#8230;]The post Top Crypto Trader Issues XRP Alert As SEC v. Ripple Battle Heats Up appeared first on The Daily Hodl. ... [| Skaityti daugiau](https://dailyhodl.com/2022/03/12/top-crypto-trader-issues-xrp-alert-as-sec-v-ripple-battle-heats-up/) "
      ],
      "text/plain": [
       "<IPython.core.display.Markdown object>"
      ]
     },
     "execution_count": 9,
     "metadata": {},
     "output_type": "execute_result"
    }
   ],
   "source": [
    "#hide_input\n",
    "#md('##### {}'.format(titleBTC)) \n",
    "md(\"- {}{} {}{} [| Skaityti daugiau]({}) \".format(exchange['title'],'. ', exchange['body'], ' ...', exchange['url']))"
   ]
  },
  {
   "cell_type": "code",
   "execution_count": null,
   "id": "tender-livestock",
   "metadata": {
    "papermill": {
     "duration": 0.011183,
     "end_time": "2022-03-13T02:07:44.348173",
     "exception": false,
     "start_time": "2022-03-13T02:07:44.336990",
     "status": "completed"
    },
    "tags": []
   },
   "outputs": [],
   "source": []
  },
  {
   "cell_type": "code",
   "execution_count": null,
   "id": "appreciated-diamond",
   "metadata": {
    "papermill": {
     "duration": 0.01224,
     "end_time": "2022-03-13T02:07:44.371717",
     "exception": false,
     "start_time": "2022-03-13T02:07:44.359477",
     "status": "completed"
    },
    "tags": []
   },
   "outputs": [],
   "source": []
  },
  {
   "cell_type": "code",
   "execution_count": null,
   "id": "romance-sweden",
   "metadata": {
    "papermill": {
     "duration": 0.011756,
     "end_time": "2022-03-13T02:07:44.395920",
     "exception": false,
     "start_time": "2022-03-13T02:07:44.384164",
     "status": "completed"
    },
    "tags": []
   },
   "outputs": [],
   "source": []
  },
  {
   "cell_type": "code",
   "execution_count": null,
   "id": "dietary-statistics",
   "metadata": {
    "papermill": {
     "duration": 0.011398,
     "end_time": "2022-03-13T02:07:44.419262",
     "exception": false,
     "start_time": "2022-03-13T02:07:44.407864",
     "status": "completed"
    },
    "tags": []
   },
   "outputs": [],
   "source": []
  }
 ],
 "metadata": {
  "kernelspec": {
   "display_name": "Python 3",
   "language": "python",
   "name": "python3"
  },
  "language_info": {
   "codemirror_mode": {
    "name": "ipython",
    "version": 3
   },
   "file_extension": ".py",
   "mimetype": "text/x-python",
   "name": "python",
   "nbconvert_exporter": "python",
   "pygments_lexer": "ipython3",
   "version": "3.6.15"
  },
  "papermill": {
   "default_parameters": {},
   "duration": 11.868517,
   "end_time": "2022-03-13T02:07:44.949516",
   "environment_variables": {},
   "exception": null,
   "input_path": "Market-News.ipynb",
   "output_path": "Market-News.ipynb",
   "parameters": {},
   "start_time": "2022-03-13T02:07:33.080999",
   "version": "2.2.2"
  }
 },
 "nbformat": 4,
 "nbformat_minor": 5
}