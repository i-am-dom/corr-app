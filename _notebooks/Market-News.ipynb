{
 "cells": [
  {
   "cell_type": "markdown",
   "id": "short-greensboro",
   "metadata": {
    "papermill": {
     "duration": 0.015337,
     "end_time": "2021-12-15T02:03:09.516967",
     "exception": false,
     "start_time": "2021-12-15T02:03:09.501630",
     "status": "completed"
    },
    "tags": []
   },
   "source": [
    "# Kriptovaliutų naujienos"
   ]
  },
  {
   "cell_type": "code",
   "execution_count": 1,
   "id": "functioning-knowing",
   "metadata": {
    "execution": {
     "iopub.execute_input": "2021-12-15T02:03:09.551816Z",
     "iopub.status.busy": "2021-12-15T02:03:09.551058Z",
     "iopub.status.idle": "2021-12-15T02:03:11.047670Z",
     "shell.execute_reply": "2021-12-15T02:03:11.047056Z"
    },
    "papermill": {
     "duration": 1.51926,
     "end_time": "2021-12-15T02:03:11.047845",
     "exception": false,
     "start_time": "2021-12-15T02:03:09.528585",
     "status": "completed"
    },
    "tags": []
   },
   "outputs": [],
   "source": [
    "#hide_input\n",
    "import warnings\n",
    "warnings.filterwarnings('ignore')\n",
    "from scripts.read_data import read_api\n",
    "from scripts.read_data import read_news\n",
    "from scripts.read_data import read_covid\n",
    "import matplotlib.pyplot as plt \n",
    "from IPython.display import Markdown as md"
   ]
  },
  {
   "cell_type": "code",
   "execution_count": 2,
   "id": "shared-acceptance",
   "metadata": {
    "execution": {
     "iopub.execute_input": "2021-12-15T02:03:11.078183Z",
     "iopub.status.busy": "2021-12-15T02:03:11.077562Z",
     "iopub.status.idle": "2021-12-15T02:03:20.961650Z",
     "shell.execute_reply": "2021-12-15T02:03:20.961121Z"
    },
    "papermill": {
     "duration": 9.902151,
     "end_time": "2021-12-15T02:03:20.961805",
     "exception": false,
     "start_time": "2021-12-15T02:03:11.059654",
     "status": "completed"
    },
    "tags": []
   },
   "outputs": [],
   "source": [
    "#hide_input\n",
    "blockchain = read_news('blockchain') \n",
    "btc = read_news('btc') \n",
    "xrp = read_news('xrp') \n",
    "trx = read_news('trx') \n",
    "eth = read_news('eth')  \n",
    "ada = read_news('ada')\n",
    "exchange = read_news('exchange') "
   ]
  },
  {
   "cell_type": "code",
   "execution_count": 3,
   "id": "synthetic-notion",
   "metadata": {
    "execution": {
     "iopub.execute_input": "2021-12-15T02:03:20.993324Z",
     "iopub.status.busy": "2021-12-15T02:03:20.992567Z",
     "iopub.status.idle": "2021-12-15T02:03:20.998578Z",
     "shell.execute_reply": "2021-12-15T02:03:20.999066Z"
    },
    "papermill": {
     "duration": 0.023396,
     "end_time": "2021-12-15T02:03:20.999201",
     "exception": false,
     "start_time": "2021-12-15T02:03:20.975805",
     "status": "completed"
    },
    "tags": []
   },
   "outputs": [
    {
     "data": {
      "text/markdown": [
       "- U.S. Big Banks To Use Blockchain For Interbank FX Settlements.  Banks have been one of the biggest opposition to the blockchain and crypto industry, although the latter has just continued to grow. As the saying goes, “If you can’t beat them, join them” and that is exactly what banks have done. Blockchain technologies have proven to be especially useful for the banking and payments industry, [&#8230;] ... [| Skaityti daugiau](https://bitcoinist.com/blockchain-banks-bitcoin-crypto-fintech/) "
      ],
      "text/plain": [
       "<IPython.core.display.Markdown object>"
      ]
     },
     "execution_count": 3,
     "metadata": {},
     "output_type": "execute_result"
    }
   ],
   "source": [
    "#hide_input\n",
    "#md('##### {}'.format(titleBTC)) \n",
    "md(\"- {}{} {}{} [| Skaityti daugiau]({}) \".format(blockchain['title'],'. ', blockchain['body'], ' ...', blockchain['url']))"
   ]
  },
  {
   "cell_type": "code",
   "execution_count": 4,
   "id": "aging-caution",
   "metadata": {
    "execution": {
     "iopub.execute_input": "2021-12-15T02:03:21.027997Z",
     "iopub.status.busy": "2021-12-15T02:03:21.027299Z",
     "iopub.status.idle": "2021-12-15T02:03:21.030307Z",
     "shell.execute_reply": "2021-12-15T02:03:21.030821Z"
    },
    "papermill": {
     "duration": 0.019693,
     "end_time": "2021-12-15T02:03:21.030995",
     "exception": false,
     "start_time": "2021-12-15T02:03:21.011302",
     "status": "completed"
    },
    "tags": []
   },
   "outputs": [
    {
     "data": {
      "text/markdown": [
       "- U.S. Big Banks To Use Blockchain For Interbank FX Settlements.  Banks have been one of the biggest opposition to the blockchain and crypto industry, although the latter has just continued to grow. As the saying goes, “If you can’t beat them, join them” and that is exactly what banks have done. Blockchain technologies have proven to be especially useful for the banking and payments industry, [&#8230;] ... [| Skaityti daugiau](https://bitcoinist.com/blockchain-banks-bitcoin-crypto-fintech/) "
      ],
      "text/plain": [
       "<IPython.core.display.Markdown object>"
      ]
     },
     "execution_count": 4,
     "metadata": {},
     "output_type": "execute_result"
    }
   ],
   "source": [
    "#hide_input\n",
    "#md('##### {}'.format(titleBTC)) \n",
    "md(\"- {}{} {}{} [| Skaityti daugiau]({}) \".format(btc['title'],'. ', btc['body'], ' ...', btc['url']))"
   ]
  },
  {
   "cell_type": "code",
   "execution_count": 5,
   "id": "organic-actress",
   "metadata": {
    "execution": {
     "iopub.execute_input": "2021-12-15T02:03:21.062190Z",
     "iopub.status.busy": "2021-12-15T02:03:21.061516Z",
     "iopub.status.idle": "2021-12-15T02:03:21.066308Z",
     "shell.execute_reply": "2021-12-15T02:03:21.066789Z"
    },
    "papermill": {
     "duration": 0.02388,
     "end_time": "2021-12-15T02:03:21.066925",
     "exception": false,
     "start_time": "2021-12-15T02:03:21.043045",
     "status": "completed"
    },
    "tags": []
   },
   "outputs": [
    {
     "data": {
      "text/markdown": [
       "- Another exchange in Canada to delist XRP over new ‘regulatory requirements’.  The ongoing Ripple vs. United States Securities and Exchange Commission (SEC) lawsuit will complete a year in a few days. Yet, there are no signs of conclusion. This might be entertaining for others, but certainly not for Ripple. Following this, Ripple&#8217;s native token, XRP witnessed delisting on multiple platforms due to regulatory concerns. Nevertheless, &#8216;RelistXRP&#8216; [&#8230;] ... [| Skaityti daugiau](https://ambcrypto.com/another-exchange-in-canada-to-delist-xrp-over-new-regulatory-requirements/) "
      ],
      "text/plain": [
       "<IPython.core.display.Markdown object>"
      ]
     },
     "execution_count": 5,
     "metadata": {},
     "output_type": "execute_result"
    }
   ],
   "source": [
    "#hide_input\n",
    "#md('##### {}'.format(titleBTC)) \n",
    "md(\"- {}{} {}{} [| Skaityti daugiau]({}) \".format(xrp['title'],'. ', xrp['body'], ' ...', xrp['url']))"
   ]
  },
  {
   "cell_type": "code",
   "execution_count": 6,
   "id": "prompt-farmer",
   "metadata": {
    "execution": {
     "iopub.execute_input": "2021-12-15T02:03:21.097359Z",
     "iopub.status.busy": "2021-12-15T02:03:21.096627Z",
     "iopub.status.idle": "2021-12-15T02:03:21.100148Z",
     "shell.execute_reply": "2021-12-15T02:03:21.099606Z"
    },
    "papermill": {
     "duration": 0.020422,
     "end_time": "2021-12-15T02:03:21.100311",
     "exception": false,
     "start_time": "2021-12-15T02:03:21.079889",
     "status": "completed"
    },
    "tags": []
   },
   "outputs": [
    {
     "data": {
      "text/markdown": [
       "- Solana, Tron Lead Altcoins As Digital Asset Inflows Drop.  Solana has led altcoins in increased weekly inflows from institutional investors. The altcoin had been on a winning streak since it burst into the spotlight months ago and has held on. For the previous week, inflows had dropped but altcoins had seen higher numbers. This points to a trend of institutional investors moving more into [&#8230;] ... [| Skaityti daugiau](https://bitcoinist.com/solana-tron-crypto-inflows-digital-assets/) "
      ],
      "text/plain": [
       "<IPython.core.display.Markdown object>"
      ]
     },
     "execution_count": 6,
     "metadata": {},
     "output_type": "execute_result"
    }
   ],
   "source": [
    "#hide_input\n",
    "#md('##### {}'.format(titleBTC)) \n",
    "md(\"- {}{} {}{} [| Skaityti daugiau]({}) \".format(trx['title'],'. ', trx['body'], ' ...', trx['url']))"
   ]
  },
  {
   "cell_type": "code",
   "execution_count": 7,
   "id": "illegal-greece",
   "metadata": {
    "execution": {
     "iopub.execute_input": "2021-12-15T02:03:21.130826Z",
     "iopub.status.busy": "2021-12-15T02:03:21.130192Z",
     "iopub.status.idle": "2021-12-15T02:03:21.133316Z",
     "shell.execute_reply": "2021-12-15T02:03:21.133843Z"
    },
    "papermill": {
     "duration": 0.021066,
     "end_time": "2021-12-15T02:03:21.133973",
     "exception": false,
     "start_time": "2021-12-15T02:03:21.112907",
     "status": "completed"
    },
    "tags": []
   },
   "outputs": [
    {
     "data": {
      "text/markdown": [
       "- Two Ethereum Rivals Are Among the Top Holdings of the Largest Binance Smart Chain Whales.  The largest crypto investors on the Binance Smart Chain (BSC) ecosystem are holding massive amounts of two Ethereum (ETH) rivals, according to a whale-watching website. New data from WhaleStats analyzes the accumulating behavior of the 1,000 largest BSC addresses excluding known crypto exchanges. The whale-monitoring platform puts together a list of the top 10 holdings [&#8230;]The post Two Ethereum Rivals Are Among the Top Holdings of the Largest Binance Smart Chain Whales appeared first on The Daily Hodl. ... [| Skaityti daugiau](https://dailyhodl.com/2021/12/14/two-ethereum-rivals-are-among-the-top-holdings-of-the-largest-binance-smart-chain-whales/) "
      ],
      "text/plain": [
       "<IPython.core.display.Markdown object>"
      ]
     },
     "execution_count": 7,
     "metadata": {},
     "output_type": "execute_result"
    }
   ],
   "source": [
    "#hide_input\n",
    "#md('##### {}'.format(titleBTC)) \n",
    "md(\"- {}{} {}{} [| Skaityti daugiau]({}) \".format(eth['title'],'. ', eth['body'], ' ...', eth['url']))"
   ]
  },
  {
   "cell_type": "code",
   "execution_count": 8,
   "id": "sublime-lounge",
   "metadata": {
    "execution": {
     "iopub.execute_input": "2021-12-15T02:03:21.166520Z",
     "iopub.status.busy": "2021-12-15T02:03:21.165737Z",
     "iopub.status.idle": "2021-12-15T02:03:21.169677Z",
     "shell.execute_reply": "2021-12-15T02:03:21.170275Z"
    },
    "papermill": {
     "duration": 0.023393,
     "end_time": "2021-12-15T02:03:21.170423",
     "exception": false,
     "start_time": "2021-12-15T02:03:21.147030",
     "status": "completed"
    },
    "tags": []
   },
   "outputs": [
    {
     "data": {
      "text/markdown": [
       "- Solana, Cardano, Polkadot: which mega-alt makes for a good festive-season trade.  The year 2021 has been exceptionally good for the altcoin market starting from the rise of Defi tokens to the growth of smart contract platforms, the upswing in Metaverse tokens, and the rise of Layer-2 protocols. Mega altcoins or large-cap alts like Solana, Cardano, and Polkadot noted high yearly ROIs this year rallying independently at [&#8230;] ... [| Skaityti daugiau](https://ambcrypto.com/solana-cardano-polkadot-which-mega-alt-makes-for-a-good-festive-season-trade/) "
      ],
      "text/plain": [
       "<IPython.core.display.Markdown object>"
      ]
     },
     "execution_count": 8,
     "metadata": {},
     "output_type": "execute_result"
    }
   ],
   "source": [
    "#hide_input\n",
    "#md('##### {}'.format(titleBTC)) \n",
    "md(\"- {}{} {}{} [| Skaityti daugiau]({}) \".format(ada['title'],'. ', ada['body'], ' ...', ada['url']))"
   ]
  },
  {
   "cell_type": "code",
   "execution_count": 9,
   "id": "specified-ordering",
   "metadata": {
    "execution": {
     "iopub.execute_input": "2021-12-15T02:03:21.204082Z",
     "iopub.status.busy": "2021-12-15T02:03:21.203458Z",
     "iopub.status.idle": "2021-12-15T02:03:21.206985Z",
     "shell.execute_reply": "2021-12-15T02:03:21.206271Z"
    },
    "papermill": {
     "duration": 0.022598,
     "end_time": "2021-12-15T02:03:21.207141",
     "exception": false,
     "start_time": "2021-12-15T02:03:21.184543",
     "status": "completed"
    },
    "tags": []
   },
   "outputs": [
    {
     "data": {
      "text/markdown": [
       "- Dogecoin ($DOGE) and Shiba Inu ($SHIB) Start Trading on Major Indian Exchange.  Major Indian cryptocurrency trading platform Unocoin has added Dogecoin ($DOGE) and Shiba Inu ($SHIB) trading pairs in a move that offers its over 1.3 million users a way to gain exposure to the meme-inspired cryptocurrencies. According to an announcement the Indian exchange made on social media, it has added a trading pair for Dogecoin against […] ... [| Skaityti daugiau](https://www.cryptoglobe.com/latest/2021/12/dogecoin-doge-and-shiba-inu-shib-start-trading-on-major-indian-exchange/) "
      ],
      "text/plain": [
       "<IPython.core.display.Markdown object>"
      ]
     },
     "execution_count": 9,
     "metadata": {},
     "output_type": "execute_result"
    }
   ],
   "source": [
    "#hide_input\n",
    "#md('##### {}'.format(titleBTC)) \n",
    "md(\"- {}{} {}{} [| Skaityti daugiau]({}) \".format(exchange['title'],'. ', exchange['body'], ' ...', exchange['url']))"
   ]
  },
  {
   "cell_type": "code",
   "execution_count": null,
   "id": "tender-livestock",
   "metadata": {
    "papermill": {
     "duration": 0.014006,
     "end_time": "2021-12-15T02:03:21.235031",
     "exception": false,
     "start_time": "2021-12-15T02:03:21.221025",
     "status": "completed"
    },
    "tags": []
   },
   "outputs": [],
   "source": []
  },
  {
   "cell_type": "code",
   "execution_count": null,
   "id": "appreciated-diamond",
   "metadata": {
    "papermill": {
     "duration": 0.014313,
     "end_time": "2021-12-15T02:03:21.263839",
     "exception": false,
     "start_time": "2021-12-15T02:03:21.249526",
     "status": "completed"
    },
    "tags": []
   },
   "outputs": [],
   "source": []
  },
  {
   "cell_type": "code",
   "execution_count": null,
   "id": "romance-sweden",
   "metadata": {
    "papermill": {
     "duration": 0.013412,
     "end_time": "2021-12-15T02:03:21.291655",
     "exception": false,
     "start_time": "2021-12-15T02:03:21.278243",
     "status": "completed"
    },
    "tags": []
   },
   "outputs": [],
   "source": []
  },
  {
   "cell_type": "code",
   "execution_count": null,
   "id": "dietary-statistics",
   "metadata": {
    "papermill": {
     "duration": 0.013911,
     "end_time": "2021-12-15T02:03:21.320114",
     "exception": false,
     "start_time": "2021-12-15T02:03:21.306203",
     "status": "completed"
    },
    "tags": []
   },
   "outputs": [],
   "source": []
  }
 ],
 "metadata": {
  "kernelspec": {
   "display_name": "Python 3",
   "language": "python",
   "name": "python3"
  },
  "language_info": {
   "codemirror_mode": {
    "name": "ipython",
    "version": 3
   },
   "file_extension": ".py",
   "mimetype": "text/x-python",
   "name": "python",
   "nbconvert_exporter": "python",
   "pygments_lexer": "ipython3",
   "version": "3.6.15"
  },
  "papermill": {
   "default_parameters": {},
   "duration": 13.526693,
   "end_time": "2021-12-15T02:03:21.743539",
   "environment_variables": {},
   "exception": null,
   "input_path": "Market-News.ipynb",
   "output_path": "Market-News.ipynb",
   "parameters": {},
   "start_time": "2021-12-15T02:03:08.216846",
   "version": "2.2.2"
  }
 },
 "nbformat": 4,
 "nbformat_minor": 5
}