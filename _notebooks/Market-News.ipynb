{
 "cells": [
  {
   "cell_type": "markdown",
   "id": "short-greensboro",
   "metadata": {
    "papermill": {
     "duration": 0.012775,
     "end_time": "2022-01-08T02:06:53.200004",
     "exception": false,
     "start_time": "2022-01-08T02:06:53.187229",
     "status": "completed"
    },
    "tags": []
   },
   "source": [
    "# Kriptovaliutų naujienos"
   ]
  },
  {
   "cell_type": "code",
   "execution_count": 1,
   "id": "functioning-knowing",
   "metadata": {
    "execution": {
     "iopub.execute_input": "2022-01-08T02:06:53.229022Z",
     "iopub.status.busy": "2022-01-08T02:06:53.228436Z",
     "iopub.status.idle": "2022-01-08T02:06:54.505869Z",
     "shell.execute_reply": "2022-01-08T02:06:54.504979Z"
    },
    "papermill": {
     "duration": 1.296287,
     "end_time": "2022-01-08T02:06:54.506042",
     "exception": false,
     "start_time": "2022-01-08T02:06:53.209755",
     "status": "completed"
    },
    "tags": []
   },
   "outputs": [],
   "source": [
    "#hide_input\n",
    "import warnings\n",
    "warnings.filterwarnings('ignore')\n",
    "from scripts.read_data import read_api\n",
    "from scripts.read_data import read_news\n",
    "from scripts.read_data import read_covid\n",
    "import matplotlib.pyplot as plt \n",
    "from IPython.display import Markdown as md"
   ]
  },
  {
   "cell_type": "code",
   "execution_count": 2,
   "id": "shared-acceptance",
   "metadata": {
    "execution": {
     "iopub.execute_input": "2022-01-08T02:06:54.531188Z",
     "iopub.status.busy": "2022-01-08T02:06:54.530674Z",
     "iopub.status.idle": "2022-01-08T02:07:04.494279Z",
     "shell.execute_reply": "2022-01-08T02:07:04.493349Z"
    },
    "papermill": {
     "duration": 9.978698,
     "end_time": "2022-01-08T02:07:04.494427",
     "exception": false,
     "start_time": "2022-01-08T02:06:54.515729",
     "status": "completed"
    },
    "tags": []
   },
   "outputs": [],
   "source": [
    "#hide_input\n",
    "blockchain = read_news('blockchain') \n",
    "btc = read_news('btc') \n",
    "xrp = read_news('xrp') \n",
    "trx = read_news('trx') \n",
    "eth = read_news('eth')  \n",
    "ada = read_news('ada')\n",
    "exchange = read_news('exchange') "
   ]
  },
  {
   "cell_type": "code",
   "execution_count": 3,
   "id": "synthetic-notion",
   "metadata": {
    "execution": {
     "iopub.execute_input": "2022-01-08T02:07:04.519831Z",
     "iopub.status.busy": "2022-01-08T02:07:04.519255Z",
     "iopub.status.idle": "2022-01-08T02:07:04.521413Z",
     "shell.execute_reply": "2022-01-08T02:07:04.521916Z"
    },
    "papermill": {
     "duration": 0.01745,
     "end_time": "2022-01-08T02:07:04.522045",
     "exception": false,
     "start_time": "2022-01-08T02:07:04.504595",
     "status": "completed"
    },
    "tags": []
   },
   "outputs": [
    {
     "data": {
      "text/markdown": [
       "- New York City’s Mayor Reaffirms: Will Get His First Three Checks in Bitcoin.  Eric Adams does not see bitcoin's price decline as a problem. On the contrary, he believes this is a good buying moment. ... [| Skaityti daugiau](https://cryptopotato.com/new-york-citys-mayor-reaffirms-will-get-his-first-three-checks-in-bitcoin/) "
      ],
      "text/plain": [
       "<IPython.core.display.Markdown object>"
      ]
     },
     "execution_count": 3,
     "metadata": {},
     "output_type": "execute_result"
    }
   ],
   "source": [
    "#hide_input\n",
    "#md('##### {}'.format(titleBTC)) \n",
    "md(\"- {}{} {}{} [| Skaityti daugiau]({}) \".format(blockchain['title'],'. ', blockchain['body'], ' ...', blockchain['url']))"
   ]
  },
  {
   "cell_type": "code",
   "execution_count": 4,
   "id": "aging-caution",
   "metadata": {
    "execution": {
     "iopub.execute_input": "2022-01-08T02:07:04.545208Z",
     "iopub.status.busy": "2022-01-08T02:07:04.544685Z",
     "iopub.status.idle": "2022-01-08T02:07:04.547165Z",
     "shell.execute_reply": "2022-01-08T02:07:04.547549Z"
    },
    "papermill": {
     "duration": 0.016202,
     "end_time": "2022-01-08T02:07:04.547666",
     "exception": false,
     "start_time": "2022-01-08T02:07:04.531464",
     "status": "completed"
    },
    "tags": []
   },
   "outputs": [
    {
     "data": {
      "text/markdown": [
       "- Top Dog Or A Meme Joke: Shiba Inu Slumps 5% As Whales Buy More.  Shiba Inu first appeared on the scene as a joke-coin in 2020, aimed squarely at the top dog of the time Dogecoin. The meme coins uccessfully marketed its way to the position while avoiding rumors of a fraud and what appears to be a slow but steady start Shiba Inu Slumps 5% At press time, SHIB was down 5%, along with DOGE and other large cap crypto currencies, as the global cryptocurrency market cap fell to $2 trillion. SHIB/USD price slumps 5%. Source: TradingView At the time of publication, SHIB was one of the most popular coins on Twitter. According to Cointrendz data, it received 2,320 tweets. At the time of publication, the three most popular coins were Bitcoin, Ethereum, and Solana. There were 15,069, 6,159, and 2,482 tweets about each of them, respectively. Shiba Inu, like other meme coins, is entertaining to trade and has made some people quite wealthy in a short period of time. However, whether it&#8217;s Safemoon, Shiba Inu, or Dogecoin, there isn&#8217;t much value beneath the surface. As a result, with these tokens, buyer beware. Has the SHIB lost its sense of humour? Perhaps. There will always be something more dazzling and opulent to come along. The meme coin market is brimming with opportunities. Shiba Inu&#8217;s fan base is unquestionably one of the largest in the crypto world. It&#8217;s an issue of perception whether or not that&#8217;s changing. Related article &#124; Recapping 2021 Memecoin Mania: Dogecoin,... ... [| Skaityti daugiau](https://www.newsbtc.com/news/top-dog-or-a-meme-joke-shiba-inu-slumps-5-as-whales-buy-more/) "
      ],
      "text/plain": [
       "<IPython.core.display.Markdown object>"
      ]
     },
     "execution_count": 4,
     "metadata": {},
     "output_type": "execute_result"
    }
   ],
   "source": [
    "#hide_input\n",
    "#md('##### {}'.format(titleBTC)) \n",
    "md(\"- {}{} {}{} [| Skaityti daugiau]({}) \".format(btc['title'],'. ', btc['body'], ' ...', btc['url']))"
   ]
  },
  {
   "cell_type": "code",
   "execution_count": 5,
   "id": "organic-actress",
   "metadata": {
    "execution": {
     "iopub.execute_input": "2022-01-08T02:07:04.571310Z",
     "iopub.status.busy": "2022-01-08T02:07:04.570767Z",
     "iopub.status.idle": "2022-01-08T02:07:04.573548Z",
     "shell.execute_reply": "2022-01-08T02:07:04.573981Z"
    },
    "papermill": {
     "duration": 0.01685,
     "end_time": "2022-01-08T02:07:04.574093",
     "exception": false,
     "start_time": "2022-01-08T02:07:04.557243",
     "status": "completed"
    },
    "tags": []
   },
   "outputs": [
    {
     "data": {
      "text/markdown": [
       "- The SEC Files A Strike Against Ripple’s Defense. Could It Drown XRP?.  The U.S. Securities and Exchange Commission (SEC) made a surprise attack on the Ripple case by filing a letter of supplemental authority to strike Ripple’s &#8220;fair notice&#8221; defense. Simultaneously, the token XRP is down 2.33% in the last 24 hours to $0.7 following the market&#8217;s downtrend. The SEC&#8217;s Surprise Move As the popular SEC vs. Ripple case is expected to be resolved around April this year, the SEC has made a new move that left many wondering if previous expectations could change. The American regulator is using a winning move from another case to strike at Ripple&#8217;s key arguments. The SEC had taken John M Fife and five entities controlled by him to court in September 2020 for selling $21 billion of penny stocks and gaining a profit of $61 billion without registering as security dealers. FIFE&#8217;s defense adopted an argument similar to Ripple&#8217;s, alleging the SEC hadn&#8217;t given them a fair warning and the term &#8220;dealer&#8221; can be widely interpreted. Last month, the court denied this argument. What Does It Mean For The Ripple Case? Naturally, the regulator now aimed to use this denial to strike at Ripple&#8217;s &#8220;fair notice&#8221; key defense. Similarly, Ripple&#8217;s &#8220;fair notice&#8221; defense alleges the regulator failed to notify them about a possible violation of federal securities laws and claimed the term &#8220;investment contract&#8221; is being misused b... ... [| Skaityti daugiau](https://www.newsbtc.com/all/the-sec-files-a-strike-against-ripples-defense-could-it-drown-xrp/) "
      ],
      "text/plain": [
       "<IPython.core.display.Markdown object>"
      ]
     },
     "execution_count": 5,
     "metadata": {},
     "output_type": "execute_result"
    }
   ],
   "source": [
    "#hide_input\n",
    "#md('##### {}'.format(titleBTC)) \n",
    "md(\"- {}{} {}{} [| Skaityti daugiau]({}) \".format(xrp['title'],'. ', xrp['body'], ' ...', xrp['url']))"
   ]
  },
  {
   "cell_type": "code",
   "execution_count": 6,
   "id": "prompt-farmer",
   "metadata": {
    "execution": {
     "iopub.execute_input": "2022-01-08T02:07:04.598576Z",
     "iopub.status.busy": "2022-01-08T02:07:04.598033Z",
     "iopub.status.idle": "2022-01-08T02:07:04.600864Z",
     "shell.execute_reply": "2022-01-08T02:07:04.601268Z"
    },
    "papermill": {
     "duration": 0.017354,
     "end_time": "2022-01-08T02:07:04.601387",
     "exception": false,
     "start_time": "2022-01-08T02:07:04.584033",
     "status": "completed"
    },
    "tags": []
   },
   "outputs": [
    {
     "data": {
      "text/markdown": [
       "- Terra (LUNA), Avalanche (AVAX) and Four Additional Ethereum Rivals Mounting Serious Challenge to ETH in 2022: JPMorgan Analysis.  Analysts at global banking giant JPMorgan say that Ethereum (ETH) competitors will challenge the top altcoin’s decentralized finance (DeFi) dominance of the crypto markets this year. In a recent report, analysts led by JPMorgan managing director Nikolaos Panigirtzoglou say that ETH&#8217;s 70% market share of the DeFi space will continue to drop because the blockchain’s [&#8230;]The post Terra (LUNA), Avalanche (AVAX) and Four Additional Ethereum Rivals Mounting Serious Challenge to ETH in 2022: JPMorgan Analysis appeared first on The Daily Hodl. ... [| Skaityti daugiau](https://dailyhodl.com/2022/01/07/terra-luna-avalanche-avax-and-four-additional-ethereum-rivals-mounting-serious-challenge-to-eth-in-2022-jpmorgan-analysis/) "
      ],
      "text/plain": [
       "<IPython.core.display.Markdown object>"
      ]
     },
     "execution_count": 6,
     "metadata": {},
     "output_type": "execute_result"
    }
   ],
   "source": [
    "#hide_input\n",
    "#md('##### {}'.format(titleBTC)) \n",
    "md(\"- {}{} {}{} [| Skaityti daugiau]({}) \".format(trx['title'],'. ', trx['body'], ' ...', trx['url']))"
   ]
  },
  {
   "cell_type": "code",
   "execution_count": 7,
   "id": "illegal-greece",
   "metadata": {
    "execution": {
     "iopub.execute_input": "2022-01-08T02:07:04.626227Z",
     "iopub.status.busy": "2022-01-08T02:07:04.625729Z",
     "iopub.status.idle": "2022-01-08T02:07:04.628344Z",
     "shell.execute_reply": "2022-01-08T02:07:04.628751Z"
    },
    "papermill": {
     "duration": 0.016978,
     "end_time": "2022-01-08T02:07:04.628867",
     "exception": false,
     "start_time": "2022-01-08T02:07:04.611889",
     "status": "completed"
    },
    "tags": []
   },
   "outputs": [
    {
     "data": {
      "text/markdown": [
       "- Top Dog Or A Meme Joke: Shiba Inu Slumps 5% As Whales Buy More.  Shiba Inu first appeared on the scene as a joke-coin in 2020, aimed squarely at the top dog of the time Dogecoin. The meme coins uccessfully marketed its way to the position while avoiding rumors of a fraud and what appears to be a slow but steady start Shiba Inu Slumps 5% At press time, SHIB was down 5%, along with DOGE and other large cap crypto currencies, as the global cryptocurrency market cap fell to $2 trillion. SHIB/USD price slumps 5%. Source: TradingView At the time of publication, SHIB was one of the most popular coins on Twitter. According to Cointrendz data, it received 2,320 tweets. At the time of publication, the three most popular coins were Bitcoin, Ethereum, and Solana. There were 15,069, 6,159, and 2,482 tweets about each of them, respectively. Shiba Inu, like other meme coins, is entertaining to trade and has made some people quite wealthy in a short period of time. However, whether it&#8217;s Safemoon, Shiba Inu, or Dogecoin, there isn&#8217;t much value beneath the surface. As a result, with these tokens, buyer beware. Has the SHIB lost its sense of humour? Perhaps. There will always be something more dazzling and opulent to come along. The meme coin market is brimming with opportunities. Shiba Inu&#8217;s fan base is unquestionably one of the largest in the crypto world. It&#8217;s an issue of perception whether or not that&#8217;s changing. Related article &#124; Recapping 2021 Memecoin Mania: Dogecoin,... ... [| Skaityti daugiau](https://www.newsbtc.com/news/top-dog-or-a-meme-joke-shiba-inu-slumps-5-as-whales-buy-more/) "
      ],
      "text/plain": [
       "<IPython.core.display.Markdown object>"
      ]
     },
     "execution_count": 7,
     "metadata": {},
     "output_type": "execute_result"
    }
   ],
   "source": [
    "#hide_input\n",
    "#md('##### {}'.format(titleBTC)) \n",
    "md(\"- {}{} {}{} [| Skaityti daugiau]({}) \".format(eth['title'],'. ', eth['body'], ' ...', eth['url']))"
   ]
  },
  {
   "cell_type": "code",
   "execution_count": 8,
   "id": "sublime-lounge",
   "metadata": {
    "execution": {
     "iopub.execute_input": "2022-01-08T02:07:04.654254Z",
     "iopub.status.busy": "2022-01-08T02:07:04.653753Z",
     "iopub.status.idle": "2022-01-08T02:07:04.656467Z",
     "shell.execute_reply": "2022-01-08T02:07:04.656860Z"
    },
    "papermill": {
     "duration": 0.017578,
     "end_time": "2022-01-08T02:07:04.656972",
     "exception": false,
     "start_time": "2022-01-08T02:07:04.639394",
     "status": "completed"
    },
    "tags": []
   },
   "outputs": [
    {
     "data": {
      "text/markdown": [
       "- Crypto Analyst Michaël van de Poppe Updates His Outlook on Bitcoin (BTC) and Three Altcoins As Markets Stumble.  Widely-followed crypto trader Michaël van de Poppe sees bullish signs for Bitcoin (BTC) and one other altcoin while naming support zones for two popular smart contract platforms. In a recent series of tweets, Van de Poppe tells his 551,000 followers that Bitcoin&#8217;s price action is &#8220;creating a bullish divergence.&#8221; &#8220;The lower timeframe on Bitcoin is creating a [&#8230;]The post Crypto Analyst Michaël van de Poppe Updates His Outlook on Bitcoin (BTC) and Three Altcoins As Markets Stumble appeared first on The Daily Hodl. ... [| Skaityti daugiau](https://dailyhodl.com/2022/01/07/crypto-analyst-michael-van-de-poppe-updates-his-outlook-on-bitcoin-btc-and-three-altcoins-as-markets-stumble/) "
      ],
      "text/plain": [
       "<IPython.core.display.Markdown object>"
      ]
     },
     "execution_count": 8,
     "metadata": {},
     "output_type": "execute_result"
    }
   ],
   "source": [
    "#hide_input\n",
    "#md('##### {}'.format(titleBTC)) \n",
    "md(\"- {}{} {}{} [| Skaityti daugiau]({}) \".format(ada['title'],'. ', ada['body'], ' ...', ada['url']))"
   ]
  },
  {
   "cell_type": "code",
   "execution_count": 9,
   "id": "specified-ordering",
   "metadata": {
    "execution": {
     "iopub.execute_input": "2022-01-08T02:07:04.683596Z",
     "iopub.status.busy": "2022-01-08T02:07:04.682649Z",
     "iopub.status.idle": "2022-01-08T02:07:04.686337Z",
     "shell.execute_reply": "2022-01-08T02:07:04.685909Z"
    },
    "papermill": {
     "duration": 0.017497,
     "end_time": "2022-01-08T02:07:04.686434",
     "exception": false,
     "start_time": "2022-01-08T02:07:04.668937",
     "status": "completed"
    },
    "tags": []
   },
   "outputs": [
    {
     "data": {
      "text/markdown": [
       "- Institutional Investors Say SEC Having More Power to Regulate Crypto Will Boost Prices.  Institutional investors are optimistic about the U.S. Securities and Exchange Commission (SEC) having more power to regulate the crypto market, a recent survey shows. They believe that if the SEC is granted extra powers, the prices of cryptocurrencies will be positively impacted. What Institutional Investors Think About Crypto Nickel Digital Asset Management, a regulated European [&#8230;] ... [| Skaityti daugiau](https://news.bitcoin.com/institutional-investors-sec-having-more-power-to-regulate-crypto-boost-prices/) "
      ],
      "text/plain": [
       "<IPython.core.display.Markdown object>"
      ]
     },
     "execution_count": 9,
     "metadata": {},
     "output_type": "execute_result"
    }
   ],
   "source": [
    "#hide_input\n",
    "#md('##### {}'.format(titleBTC)) \n",
    "md(\"- {}{} {}{} [| Skaityti daugiau]({}) \".format(exchange['title'],'. ', exchange['body'], ' ...', exchange['url']))"
   ]
  },
  {
   "cell_type": "code",
   "execution_count": null,
   "id": "tender-livestock",
   "metadata": {
    "papermill": {
     "duration": 0.011127,
     "end_time": "2022-01-08T02:07:04.708746",
     "exception": false,
     "start_time": "2022-01-08T02:07:04.697619",
     "status": "completed"
    },
    "tags": []
   },
   "outputs": [],
   "source": []
  },
  {
   "cell_type": "code",
   "execution_count": null,
   "id": "appreciated-diamond",
   "metadata": {
    "papermill": {
     "duration": 0.011137,
     "end_time": "2022-01-08T02:07:04.731261",
     "exception": false,
     "start_time": "2022-01-08T02:07:04.720124",
     "status": "completed"
    },
    "tags": []
   },
   "outputs": [],
   "source": []
  },
  {
   "cell_type": "code",
   "execution_count": null,
   "id": "romance-sweden",
   "metadata": {
    "papermill": {
     "duration": 0.011113,
     "end_time": "2022-01-08T02:07:04.753570",
     "exception": false,
     "start_time": "2022-01-08T02:07:04.742457",
     "status": "completed"
    },
    "tags": []
   },
   "outputs": [],
   "source": []
  },
  {
   "cell_type": "code",
   "execution_count": null,
   "id": "dietary-statistics",
   "metadata": {
    "papermill": {
     "duration": 0.011109,
     "end_time": "2022-01-08T02:07:04.775912",
     "exception": false,
     "start_time": "2022-01-08T02:07:04.764803",
     "status": "completed"
    },
    "tags": []
   },
   "outputs": [],
   "source": []
  }
 ],
 "metadata": {
  "kernelspec": {
   "display_name": "Python 3",
   "language": "python",
   "name": "python3"
  },
  "language_info": {
   "codemirror_mode": {
    "name": "ipython",
    "version": 3
   },
   "file_extension": ".py",
   "mimetype": "text/x-python",
   "name": "python",
   "nbconvert_exporter": "python",
   "pygments_lexer": "ipython3",
   "version": "3.6.15"
  },
  "papermill": {
   "default_parameters": {},
   "duration": 12.925867,
   "end_time": "2022-01-08T02:07:05.194514",
   "environment_variables": {},
   "exception": null,
   "input_path": "Market-News.ipynb",
   "output_path": "Market-News.ipynb",
   "parameters": {},
   "start_time": "2022-01-08T02:06:52.268647",
   "version": "2.2.2"
  }
 },
 "nbformat": 4,
 "nbformat_minor": 5
}