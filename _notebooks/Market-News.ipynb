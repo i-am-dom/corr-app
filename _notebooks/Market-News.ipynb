{
 "cells": [
  {
   "cell_type": "markdown",
   "id": "short-greensboro",
   "metadata": {
    "papermill": {
     "duration": 0.013299,
     "end_time": "2022-05-26T03:04:34.274031",
     "exception": false,
     "start_time": "2022-05-26T03:04:34.260732",
     "status": "completed"
    },
    "tags": []
   },
   "source": [
    "# Kriptovaliutų naujienos"
   ]
  },
  {
   "cell_type": "code",
   "execution_count": 1,
   "id": "functioning-knowing",
   "metadata": {
    "execution": {
     "iopub.execute_input": "2022-05-26T03:04:34.303511Z",
     "iopub.status.busy": "2022-05-26T03:04:34.302894Z",
     "iopub.status.idle": "2022-05-26T03:04:35.516331Z",
     "shell.execute_reply": "2022-05-26T03:04:35.515730Z"
    },
    "papermill": {
     "duration": 1.232699,
     "end_time": "2022-05-26T03:04:35.516486",
     "exception": false,
     "start_time": "2022-05-26T03:04:34.283787",
     "status": "completed"
    },
    "tags": []
   },
   "outputs": [],
   "source": [
    "#hide_input\n",
    "import warnings\n",
    "warnings.filterwarnings('ignore')\n",
    "from scripts.read_data import read_api\n",
    "from scripts.read_data import read_news\n",
    "from scripts.read_data import read_covid\n",
    "import matplotlib.pyplot as plt \n",
    "from IPython.display import Markdown as md"
   ]
  },
  {
   "cell_type": "code",
   "execution_count": 2,
   "id": "shared-acceptance",
   "metadata": {
    "execution": {
     "iopub.execute_input": "2022-05-26T03:04:35.541795Z",
     "iopub.status.busy": "2022-05-26T03:04:35.540998Z",
     "iopub.status.idle": "2022-05-26T03:04:46.076843Z",
     "shell.execute_reply": "2022-05-26T03:04:46.076244Z"
    },
    "papermill": {
     "duration": 10.550891,
     "end_time": "2022-05-26T03:04:46.076991",
     "exception": false,
     "start_time": "2022-05-26T03:04:35.526100",
     "status": "completed"
    },
    "tags": []
   },
   "outputs": [],
   "source": [
    "#hide_input\n",
    "blockchain = read_news('blockchain') \n",
    "btc = read_news('btc') \n",
    "xrp = read_news('xrp') \n",
    "trx = read_news('trx') \n",
    "eth = read_news('eth')  \n",
    "ada = read_news('ada')\n",
    "exchange = read_news('exchange') "
   ]
  },
  {
   "cell_type": "code",
   "execution_count": 3,
   "id": "synthetic-notion",
   "metadata": {
    "execution": {
     "iopub.execute_input": "2022-05-26T03:04:46.101713Z",
     "iopub.status.busy": "2022-05-26T03:04:46.101130Z",
     "iopub.status.idle": "2022-05-26T03:04:46.106346Z",
     "shell.execute_reply": "2022-05-26T03:04:46.105901Z"
    },
    "papermill": {
     "duration": 0.019706,
     "end_time": "2022-05-26T03:04:46.106454",
     "exception": false,
     "start_time": "2022-05-26T03:04:46.086748",
     "status": "completed"
    },
    "tags": []
   },
   "outputs": [
    {
     "data": {
      "text/markdown": [
       "- Footprint Analytics grows funding to $4.15M in seed plus round.  Recent events in crypto have shown the importance of scrutinizing the fundamentals behind blockchain projects. However, getting clean data about users, transactions, pools, and more is impossible on most chains. With its robust, easy-to-use charting platform, Footprint Analytics plans to make cross-chain analytics accessible to everyone, no matter which chain they want to explore. The [&#8230;] ... [| Skaityti daugiau](https://ambcrypto.com/footprint-analytics-grows-funding-to-4-15m-in-seed-plus-round/) "
      ],
      "text/plain": [
       "<IPython.core.display.Markdown object>"
      ]
     },
     "execution_count": 3,
     "metadata": {},
     "output_type": "execute_result"
    }
   ],
   "source": [
    "#hide_input\n",
    "#md('##### {}'.format(titleBTC)) \n",
    "md(\"- {}{} {}{} [| Skaityti daugiau]({}) \".format(blockchain['title'],'. ', blockchain['body'], ' ...', blockchain['url']))"
   ]
  },
  {
   "cell_type": "code",
   "execution_count": 4,
   "id": "aging-caution",
   "metadata": {
    "execution": {
     "iopub.execute_input": "2022-05-26T03:04:46.129874Z",
     "iopub.status.busy": "2022-05-26T03:04:46.129265Z",
     "iopub.status.idle": "2022-05-26T03:04:46.132546Z",
     "shell.execute_reply": "2022-05-26T03:04:46.132989Z"
    },
    "papermill": {
     "duration": 0.017355,
     "end_time": "2022-05-26T03:04:46.133103",
     "exception": false,
     "start_time": "2022-05-26T03:04:46.115748",
     "status": "completed"
    },
    "tags": []
   },
   "outputs": [
    {
     "data": {
      "text/markdown": [
       "- Stripe And Primer Go Lightning: New Bitcoin Payment Solutions Via OpenNode.  The future is now. Both Stripe and Primer joined forces with OpenNode for separate payment solutions. The Stripe App will allow companies to “instantly convert any amount of their balance in Bitcoin or automatically convert incoming payments in part or full.” For their part, merchants in the UK will have the option to accept bitcoin [&#8230;] ... [| Skaityti daugiau](https://bitcoinist.com/stripe-and-primer-lightning-bitcoin-payments/) "
      ],
      "text/plain": [
       "<IPython.core.display.Markdown object>"
      ]
     },
     "execution_count": 4,
     "metadata": {},
     "output_type": "execute_result"
    }
   ],
   "source": [
    "#hide_input\n",
    "#md('##### {}'.format(titleBTC)) \n",
    "md(\"- {}{} {}{} [| Skaityti daugiau]({}) \".format(btc['title'],'. ', btc['body'], ' ...', btc['url']))"
   ]
  },
  {
   "cell_type": "code",
   "execution_count": 5,
   "id": "organic-actress",
   "metadata": {
    "execution": {
     "iopub.execute_input": "2022-05-26T03:04:46.156646Z",
     "iopub.status.busy": "2022-05-26T03:04:46.156047Z",
     "iopub.status.idle": "2022-05-26T03:04:46.159556Z",
     "shell.execute_reply": "2022-05-26T03:04:46.159086Z"
    },
    "papermill": {
     "duration": 0.016995,
     "end_time": "2022-05-26T03:04:46.159661",
     "exception": false,
     "start_time": "2022-05-26T03:04:46.142666",
     "status": "completed"
    },
    "tags": []
   },
   "outputs": [
    {
     "data": {
      "text/markdown": [
       "- Price analysis 5/25: BTC, ETH, BNB, XRP, ADA, SOL, DOGE, DOT, AVAX, SHIB.  Bitcoin and the major altcoins remain stuck in a range as traders search for the next factor that will start a directional move. ... [| Skaityti daugiau](https://cointelegraph.com/news/price-analysis-5-25-btc-eth-bnb-xrp-ada-sol-doge-dot-avax-shib) "
      ],
      "text/plain": [
       "<IPython.core.display.Markdown object>"
      ]
     },
     "execution_count": 5,
     "metadata": {},
     "output_type": "execute_result"
    }
   ],
   "source": [
    "#hide_input\n",
    "#md('##### {}'.format(titleBTC)) \n",
    "md(\"- {}{} {}{} [| Skaityti daugiau]({}) \".format(xrp['title'],'. ', xrp['body'], ' ...', xrp['url']))"
   ]
  },
  {
   "cell_type": "code",
   "execution_count": 6,
   "id": "prompt-farmer",
   "metadata": {
    "execution": {
     "iopub.execute_input": "2022-05-26T03:04:46.183763Z",
     "iopub.status.busy": "2022-05-26T03:04:46.183193Z",
     "iopub.status.idle": "2022-05-26T03:04:46.186721Z",
     "shell.execute_reply": "2022-05-26T03:04:46.186250Z"
    },
    "papermill": {
     "duration": 0.017284,
     "end_time": "2022-05-26T03:04:46.186822",
     "exception": false,
     "start_time": "2022-05-26T03:04:46.169538",
     "status": "completed"
    },
    "tags": []
   },
   "outputs": [
    {
     "data": {
      "text/markdown": [
       "- Top Trader Says One Under-the-Radar Altcoin Set To Emerge As Winner of Terra (LUNA) Collapse.  A closely tracked trader is naming one altcoin that he says can come out as the big winner following the crumbling of Terra (LUNA) and its algorithmic stablecoin TerraUSD (UST). Pseudonymous trader Light tells his 160,600 Twitter followers that Tron (TRX) and its algorithmic stablecoin Decentralized USD (USDD) are poised to fill the vacuum left [&#8230;]The post Top Trader Says One Under-the-Radar Altcoin Set To Emerge As Winner of Terra (LUNA) Collapse appeared first on The Daily Hodl. ... [| Skaityti daugiau](https://dailyhodl.com/2022/05/25/top-trader-says-one-under-the-radar-altcoin-set-to-emerge-as-winner-of-terra-luna-collapse/) "
      ],
      "text/plain": [
       "<IPython.core.display.Markdown object>"
      ]
     },
     "execution_count": 6,
     "metadata": {},
     "output_type": "execute_result"
    }
   ],
   "source": [
    "#hide_input\n",
    "#md('##### {}'.format(titleBTC)) \n",
    "md(\"- {}{} {}{} [| Skaityti daugiau]({}) \".format(trx['title'],'. ', trx['body'], ' ...', trx['url']))"
   ]
  },
  {
   "cell_type": "code",
   "execution_count": 7,
   "id": "illegal-greece",
   "metadata": {
    "execution": {
     "iopub.execute_input": "2022-05-26T03:04:46.211780Z",
     "iopub.status.busy": "2022-05-26T03:04:46.211203Z",
     "iopub.status.idle": "2022-05-26T03:04:46.214749Z",
     "shell.execute_reply": "2022-05-26T03:04:46.214282Z"
    },
    "papermill": {
     "duration": 0.017732,
     "end_time": "2022-05-26T03:04:46.214869",
     "exception": false,
     "start_time": "2022-05-26T03:04:46.197137",
     "status": "completed"
    },
    "tags": []
   },
   "outputs": [
    {
     "data": {
      "text/markdown": [
       "- Ethereum Beacon Chain experiences 7 block reorg: What's going on?.  “This reorg is not an indicator of a flawed fork choice, but a non-trivial segmentation of updated vs out of date client software” suggested Core Ethereum developer Preston Van Loon. ... [| Skaityti daugiau](https://cointelegraph.com/news/ethereum-beacon-chain-experiences-7-block-reorg-what-s-going-on) "
      ],
      "text/plain": [
       "<IPython.core.display.Markdown object>"
      ]
     },
     "execution_count": 7,
     "metadata": {},
     "output_type": "execute_result"
    }
   ],
   "source": [
    "#hide_input\n",
    "#md('##### {}'.format(titleBTC)) \n",
    "md(\"- {}{} {}{} [| Skaityti daugiau]({}) \".format(eth['title'],'. ', eth['body'], ' ...', eth['url']))"
   ]
  },
  {
   "cell_type": "code",
   "execution_count": 8,
   "id": "sublime-lounge",
   "metadata": {
    "execution": {
     "iopub.execute_input": "2022-05-26T03:04:46.242296Z",
     "iopub.status.busy": "2022-05-26T03:04:46.241724Z",
     "iopub.status.idle": "2022-05-26T03:04:46.246956Z",
     "shell.execute_reply": "2022-05-26T03:04:46.247389Z"
    },
    "papermill": {
     "duration": 0.020924,
     "end_time": "2022-05-26T03:04:46.247517",
     "exception": false,
     "start_time": "2022-05-26T03:04:46.226593",
     "status": "completed"
    },
    "tags": []
   },
   "outputs": [
    {
     "data": {
      "text/markdown": [
       "- Crypto Analyst Explains Why Cardano ($ADA) Remains a Top 10 Cryptoasset.  A popular cryptocurrency analyst has on social media explained why he believes Cardano ($ADA) has managed to remain a top 10 cryptoasset during the ongoing bear market that has been affected by the collapse of the Terra ecosystem. According to the analyst, the cryptocurrency has a “respected and vocal leader” and a “crazy loyal, united […] ... [| Skaityti daugiau](https://www.cryptoglobe.com/latest/2022/05/crypto-analyst-explains-why-cardano-ada-remains-a-top-10-cryptoasset/) "
      ],
      "text/plain": [
       "<IPython.core.display.Markdown object>"
      ]
     },
     "execution_count": 8,
     "metadata": {},
     "output_type": "execute_result"
    }
   ],
   "source": [
    "#hide_input\n",
    "#md('##### {}'.format(titleBTC)) \n",
    "md(\"- {}{} {}{} [| Skaityti daugiau]({}) \".format(ada['title'],'. ', ada['body'], ' ...', ada['url']))"
   ]
  },
  {
   "cell_type": "code",
   "execution_count": 9,
   "id": "specified-ordering",
   "metadata": {
    "execution": {
     "iopub.execute_input": "2022-05-26T03:04:46.274762Z",
     "iopub.status.busy": "2022-05-26T03:04:46.274176Z",
     "iopub.status.idle": "2022-05-26T03:04:46.277140Z",
     "shell.execute_reply": "2022-05-26T03:04:46.277592Z"
    },
    "papermill": {
     "duration": 0.018988,
     "end_time": "2022-05-26T03:04:46.277717",
     "exception": false,
     "start_time": "2022-05-26T03:04:46.258729",
     "status": "completed"
    },
    "tags": []
   },
   "outputs": [
    {
     "data": {
      "text/markdown": [
       "- Terra 2.0 Gets A Positive Response From Binance! Here Is How The Exchange Plans To Support.  The post Terra 2.0 Gets A Positive Response From Binance! Here Is How The Exchange Plans To Support appeared first on Coinpedia - Fintech &amp; Cryptocurreny News Media| Crypto GuideOn Wednesday, 25th of May, Binance said that it is collaborating closely with Terra on the blockchain&#8217;s recently authorized revival plan. In a tweet, the world&#8217;s largest cryptocurrency exchange, Binance stated that it hopes to assist Terra crash victims. This advancement comes after the Terra community approved the rehabilitation proposal. The restoration plan was approved &#8230; ... [| Skaityti daugiau](https://coinpedia.org/news/terra-2-0-gets-a-positive-response-from-binance-here-is-how-the-exchange-plans-to-support/) "
      ],
      "text/plain": [
       "<IPython.core.display.Markdown object>"
      ]
     },
     "execution_count": 9,
     "metadata": {},
     "output_type": "execute_result"
    }
   ],
   "source": [
    "#hide_input\n",
    "#md('##### {}'.format(titleBTC)) \n",
    "md(\"- {}{} {}{} [| Skaityti daugiau]({}) \".format(exchange['title'],'. ', exchange['body'], ' ...', exchange['url']))"
   ]
  },
  {
   "cell_type": "code",
   "execution_count": null,
   "id": "tender-livestock",
   "metadata": {
    "papermill": {
     "duration": 0.011275,
     "end_time": "2022-05-26T03:04:46.300307",
     "exception": false,
     "start_time": "2022-05-26T03:04:46.289032",
     "status": "completed"
    },
    "tags": []
   },
   "outputs": [],
   "source": []
  },
  {
   "cell_type": "code",
   "execution_count": null,
   "id": "appreciated-diamond",
   "metadata": {
    "papermill": {
     "duration": 0.011142,
     "end_time": "2022-05-26T03:04:46.322832",
     "exception": false,
     "start_time": "2022-05-26T03:04:46.311690",
     "status": "completed"
    },
    "tags": []
   },
   "outputs": [],
   "source": []
  },
  {
   "cell_type": "code",
   "execution_count": null,
   "id": "romance-sweden",
   "metadata": {
    "papermill": {
     "duration": 0.011161,
     "end_time": "2022-05-26T03:04:46.345208",
     "exception": false,
     "start_time": "2022-05-26T03:04:46.334047",
     "status": "completed"
    },
    "tags": []
   },
   "outputs": [],
   "source": []
  },
  {
   "cell_type": "code",
   "execution_count": null,
   "id": "dietary-statistics",
   "metadata": {
    "papermill": {
     "duration": 0.011165,
     "end_time": "2022-05-26T03:04:46.367733",
     "exception": false,
     "start_time": "2022-05-26T03:04:46.356568",
     "status": "completed"
    },
    "tags": []
   },
   "outputs": [],
   "source": []
  }
 ],
 "metadata": {
  "kernelspec": {
   "display_name": "Python 3",
   "language": "python",
   "name": "python3"
  },
  "language_info": {
   "codemirror_mode": {
    "name": "ipython",
    "version": 3
   },
   "file_extension": ".py",
   "mimetype": "text/x-python",
   "name": "python",
   "nbconvert_exporter": "python",
   "pygments_lexer": "ipython3",
   "version": "3.6.15"
  },
  "papermill": {
   "default_parameters": {},
   "duration": 13.463465,
   "end_time": "2022-05-26T03:04:46.798135",
   "environment_variables": {},
   "exception": null,
   "input_path": "Market-News.ipynb",
   "output_path": "Market-News.ipynb",
   "parameters": {},
   "start_time": "2022-05-26T03:04:33.334670",
   "version": "2.2.2"
  }
 },
 "nbformat": 4,
 "nbformat_minor": 5
}