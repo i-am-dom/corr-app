{
 "cells": [
  {
   "cell_type": "markdown",
   "id": "short-greensboro",
   "metadata": {
    "papermill": {
     "duration": 0.014048,
     "end_time": "2022-08-26T03:44:16.336361",
     "exception": false,
     "start_time": "2022-08-26T03:44:16.322313",
     "status": "completed"
    },
    "tags": []
   },
   "source": [
    "# Kriptovaliutų naujienos"
   ]
  },
  {
   "cell_type": "code",
   "execution_count": 1,
   "id": "functioning-knowing",
   "metadata": {
    "execution": {
     "iopub.execute_input": "2022-08-26T03:44:16.366280Z",
     "iopub.status.busy": "2022-08-26T03:44:16.365678Z",
     "iopub.status.idle": "2022-08-26T03:44:17.589007Z",
     "shell.execute_reply": "2022-08-26T03:44:17.588470Z"
    },
    "papermill": {
     "duration": 1.243121,
     "end_time": "2022-08-26T03:44:17.589155",
     "exception": false,
     "start_time": "2022-08-26T03:44:16.346034",
     "status": "completed"
    },
    "tags": []
   },
   "outputs": [],
   "source": [
    "#hide_input\n",
    "import warnings\n",
    "warnings.filterwarnings('ignore')\n",
    "from scripts.read_data import read_api\n",
    "from scripts.read_data import read_news\n",
    "from scripts.read_data import read_covid\n",
    "import matplotlib.pyplot as plt \n",
    "from IPython.display import Markdown as md"
   ]
  },
  {
   "cell_type": "code",
   "execution_count": 2,
   "id": "shared-acceptance",
   "metadata": {
    "execution": {
     "iopub.execute_input": "2022-08-26T03:44:17.614833Z",
     "iopub.status.busy": "2022-08-26T03:44:17.613801Z",
     "iopub.status.idle": "2022-08-26T03:44:28.428884Z",
     "shell.execute_reply": "2022-08-26T03:44:28.428283Z"
    },
    "papermill": {
     "duration": 10.830176,
     "end_time": "2022-08-26T03:44:28.429027",
     "exception": false,
     "start_time": "2022-08-26T03:44:17.598851",
     "status": "completed"
    },
    "tags": []
   },
   "outputs": [],
   "source": [
    "#hide_input\n",
    "blockchain = read_news('blockchain') \n",
    "btc = read_news('btc') \n",
    "xrp = read_news('xrp') \n",
    "trx = read_news('trx') \n",
    "eth = read_news('eth')  \n",
    "ada = read_news('ada')\n",
    "exchange = read_news('exchange') "
   ]
  },
  {
   "cell_type": "code",
   "execution_count": 3,
   "id": "synthetic-notion",
   "metadata": {
    "execution": {
     "iopub.execute_input": "2022-08-26T03:44:28.454120Z",
     "iopub.status.busy": "2022-08-26T03:44:28.453508Z",
     "iopub.status.idle": "2022-08-26T03:44:28.456909Z",
     "shell.execute_reply": "2022-08-26T03:44:28.456465Z"
    },
    "papermill": {
     "duration": 0.018389,
     "end_time": "2022-08-26T03:44:28.457018",
     "exception": false,
     "start_time": "2022-08-26T03:44:28.438629",
     "status": "completed"
    },
    "tags": []
   },
   "outputs": [
    {
     "data": {
      "text/markdown": [
       "- How GameFi Is Driving a New Wave of Blockchain Adoption.  The global blockchain technology market reached $5.9 billion in 2021 and is projected to snowball at an annual growth rate of 85.9% until 2030. Several factors can be attributed to this growth rate, including the rising interest in DeFi (decentralized finance) and non-fungible tokens (NFTs). Despite the positive forecast, these verticals still have much to [&#8230;]The post How GameFi Is Driving a New Wave of Blockchain Adoption appeared first on The Daily Hodl. ... [| Skaityti daugiau](https://dailyhodl.com/2022/08/25/how-gamefi-is-driving-a-new-wave-of-blockchain-adoption/) "
      ],
      "text/plain": [
       "<IPython.core.display.Markdown object>"
      ]
     },
     "execution_count": 3,
     "metadata": {},
     "output_type": "execute_result"
    }
   ],
   "source": [
    "#hide_input\n",
    "#md('##### {}'.format(titleBTC)) \n",
    "md(\"- {}{} {}{} [| Skaityti daugiau]({}) \".format(blockchain['title'],'. ', blockchain['body'], ' ...', blockchain['url']))"
   ]
  },
  {
   "cell_type": "code",
   "execution_count": 4,
   "id": "aging-caution",
   "metadata": {
    "execution": {
     "iopub.execute_input": "2022-08-26T03:44:28.480652Z",
     "iopub.status.busy": "2022-08-26T03:44:28.480054Z",
     "iopub.status.idle": "2022-08-26T03:44:28.482930Z",
     "shell.execute_reply": "2022-08-26T03:44:28.483482Z"
    },
    "papermill": {
     "duration": 0.01734,
     "end_time": "2022-08-26T03:44:28.483602",
     "exception": false,
     "start_time": "2022-08-26T03:44:28.466262",
     "status": "completed"
    },
    "tags": []
   },
   "outputs": [
    {
     "data": {
      "text/markdown": [
       "- On-Chain Data Reveals XRP Attracts Investors With Most Positive Sentiment.  The post On-Chain Data Reveals XRP Attracts Investors With Most Positive Sentiment appeared first on Coinpedia - Fintech &amp; Cryptocurreny News Media| Crypto GuideAs of Thursday morning, Ethereum (ETH), the second-most valuable cryptocurrency after Bitcoin (BTC), is rapidly moving closer to the $1,700 level. On the other hand, Bitcoin was able to record a minor increase and is currently holding steady around the $21,000 mark. Numerous other well-known cryptocurrencies, such as Litecoin, Dogecoin, Solana, and XRP all had &#8230; ... [| Skaityti daugiau](https://coinpedia.org/ripple/on-chain-data-reveals-xrp-attracts-investors-with-most-positive-sentiment/) "
      ],
      "text/plain": [
       "<IPython.core.display.Markdown object>"
      ]
     },
     "execution_count": 4,
     "metadata": {},
     "output_type": "execute_result"
    }
   ],
   "source": [
    "#hide_input\n",
    "#md('##### {}'.format(titleBTC)) \n",
    "md(\"- {}{} {}{} [| Skaityti daugiau]({}) \".format(btc['title'],'. ', btc['body'], ' ...', btc['url']))"
   ]
  },
  {
   "cell_type": "code",
   "execution_count": 5,
   "id": "organic-actress",
   "metadata": {
    "execution": {
     "iopub.execute_input": "2022-08-26T03:44:28.505329Z",
     "iopub.status.busy": "2022-08-26T03:44:28.504753Z",
     "iopub.status.idle": "2022-08-26T03:44:28.510564Z",
     "shell.execute_reply": "2022-08-26T03:44:28.511113Z"
    },
    "papermill": {
     "duration": 0.017994,
     "end_time": "2022-08-26T03:44:28.511228",
     "exception": false,
     "start_time": "2022-08-26T03:44:28.493234",
     "status": "completed"
    },
    "tags": []
   },
   "outputs": [
    {
     "data": {
      "text/markdown": [
       "- On-Chain Data Reveals XRP Attracts Investors With Most Positive Sentiment.  The post On-Chain Data Reveals XRP Attracts Investors With Most Positive Sentiment appeared first on Coinpedia - Fintech &amp; Cryptocurreny News Media| Crypto GuideAs of Thursday morning, Ethereum (ETH), the second-most valuable cryptocurrency after Bitcoin (BTC), is rapidly moving closer to the $1,700 level. On the other hand, Bitcoin was able to record a minor increase and is currently holding steady around the $21,000 mark. Numerous other well-known cryptocurrencies, such as Litecoin, Dogecoin, Solana, and XRP all had &#8230; ... [| Skaityti daugiau](https://coinpedia.org/ripple/on-chain-data-reveals-xrp-attracts-investors-with-most-positive-sentiment/) "
      ],
      "text/plain": [
       "<IPython.core.display.Markdown object>"
      ]
     },
     "execution_count": 5,
     "metadata": {},
     "output_type": "execute_result"
    }
   ],
   "source": [
    "#hide_input\n",
    "#md('##### {}'.format(titleBTC)) \n",
    "md(\"- {}{} {}{} [| Skaityti daugiau]({}) \".format(xrp['title'],'. ', xrp['body'], ' ...', xrp['url']))"
   ]
  },
  {
   "cell_type": "code",
   "execution_count": 6,
   "id": "prompt-farmer",
   "metadata": {
    "execution": {
     "iopub.execute_input": "2022-08-26T03:44:28.535548Z",
     "iopub.status.busy": "2022-08-26T03:44:28.534970Z",
     "iopub.status.idle": "2022-08-26T03:44:28.538279Z",
     "shell.execute_reply": "2022-08-26T03:44:28.537810Z"
    },
    "papermill": {
     "duration": 0.017308,
     "end_time": "2022-08-26T03:44:28.538379",
     "exception": false,
     "start_time": "2022-08-26T03:44:28.521071",
     "status": "completed"
    },
    "tags": []
   },
   "outputs": [
    {
     "data": {
      "text/markdown": [
       "- Is Tron outcompeting BTC, ETH? The answer might startle you.  In a recent tweet, the official Twitter account of TronDao informed how they outcompeted major cryptocurrencies. TronDao was ranked number one for the total number of active addresses compared to BTC, ETH, and XRP. One of the reasons why the crypto community has been using Tron for a lot of their transactions could be its [&#8230;] ... [| Skaityti daugiau](https://ambcrypto.com/is-tron-outcompeting-btc-and-eth-the-answer-might-startle-you/) "
      ],
      "text/plain": [
       "<IPython.core.display.Markdown object>"
      ]
     },
     "execution_count": 6,
     "metadata": {},
     "output_type": "execute_result"
    }
   ],
   "source": [
    "#hide_input\n",
    "#md('##### {}'.format(titleBTC)) \n",
    "md(\"- {}{} {}{} [| Skaityti daugiau]({}) \".format(trx['title'],'. ', trx['body'], ' ...', trx['url']))"
   ]
  },
  {
   "cell_type": "code",
   "execution_count": 7,
   "id": "illegal-greece",
   "metadata": {
    "execution": {
     "iopub.execute_input": "2022-08-26T03:44:28.563085Z",
     "iopub.status.busy": "2022-08-26T03:44:28.562519Z",
     "iopub.status.idle": "2022-08-26T03:44:28.566132Z",
     "shell.execute_reply": "2022-08-26T03:44:28.565665Z"
    },
    "papermill": {
     "duration": 0.017582,
     "end_time": "2022-08-26T03:44:28.566233",
     "exception": false,
     "start_time": "2022-08-26T03:44:28.548651",
     "status": "completed"
    },
    "tags": []
   },
   "outputs": [
    {
     "data": {
      "text/markdown": [
       "- This is Why Betting On Cardano (ADA) Has Less Risk Than Ethereum & Binance.  The post This is Why Betting On Cardano (ADA) Has Less Risk Than Ethereum &#038; Binance appeared first on Coinpedia - Fintech &amp; Cryptocurreny News Media| Crypto GuideEven as the market is stuck in volatility, at the time of reporting, the global crypto market is positioned at above $1 trillion with a surge of 1.64% over the last 24hrs. On the other hand, the world’s first currency has dropped by 0.11% overnight trading around $21,539. However, there are a few altcoins like &#8230; ... [| Skaityti daugiau](https://coinpedia.org/altcoin/this-is-why-betting-on-cardano-ada-has-less-risk-than-ethereum-binance/) "
      ],
      "text/plain": [
       "<IPython.core.display.Markdown object>"
      ]
     },
     "execution_count": 7,
     "metadata": {},
     "output_type": "execute_result"
    }
   ],
   "source": [
    "#hide_input\n",
    "#md('##### {}'.format(titleBTC)) \n",
    "md(\"- {}{} {}{} [| Skaityti daugiau]({}) \".format(eth['title'],'. ', eth['body'], ' ...', eth['url']))"
   ]
  },
  {
   "cell_type": "code",
   "execution_count": 8,
   "id": "sublime-lounge",
   "metadata": {
    "execution": {
     "iopub.execute_input": "2022-08-26T03:44:28.592827Z",
     "iopub.status.busy": "2022-08-26T03:44:28.591619Z",
     "iopub.status.idle": "2022-08-26T03:44:28.596371Z",
     "shell.execute_reply": "2022-08-26T03:44:28.595876Z"
    },
    "papermill": {
     "duration": 0.018607,
     "end_time": "2022-08-26T03:44:28.596471",
     "exception": false,
     "start_time": "2022-08-26T03:44:28.577864",
     "status": "completed"
    },
    "tags": []
   },
   "outputs": [
    {
     "data": {
      "text/markdown": [
       "- This is Why Betting On Cardano (ADA) Has Less Risk Than Ethereum & Binance.  The post This is Why Betting On Cardano (ADA) Has Less Risk Than Ethereum &#038; Binance appeared first on Coinpedia - Fintech &amp; Cryptocurreny News Media| Crypto GuideEven as the market is stuck in volatility, at the time of reporting, the global crypto market is positioned at above $1 trillion with a surge of 1.64% over the last 24hrs. On the other hand, the world’s first currency has dropped by 0.11% overnight trading around $21,539. However, there are a few altcoins like &#8230; ... [| Skaityti daugiau](https://coinpedia.org/altcoin/this-is-why-betting-on-cardano-ada-has-less-risk-than-ethereum-binance/) "
      ],
      "text/plain": [
       "<IPython.core.display.Markdown object>"
      ]
     },
     "execution_count": 8,
     "metadata": {},
     "output_type": "execute_result"
    }
   ],
   "source": [
    "#hide_input\n",
    "#md('##### {}'.format(titleBTC)) \n",
    "md(\"- {}{} {}{} [| Skaityti daugiau]({}) \".format(ada['title'],'. ', ada['body'], ' ...', ada['url']))"
   ]
  },
  {
   "cell_type": "code",
   "execution_count": 9,
   "id": "specified-ordering",
   "metadata": {
    "execution": {
     "iopub.execute_input": "2022-08-26T03:44:28.622522Z",
     "iopub.status.busy": "2022-08-26T03:44:28.621356Z",
     "iopub.status.idle": "2022-08-26T03:44:28.625586Z",
     "shell.execute_reply": "2022-08-26T03:44:28.626064Z"
    },
    "papermill": {
     "duration": 0.018918,
     "end_time": "2022-08-26T03:44:28.626177",
     "exception": false,
     "start_time": "2022-08-26T03:44:28.607259",
     "status": "completed"
    },
    "tags": []
   },
   "outputs": [
    {
     "data": {
      "text/markdown": [
       "- This is Why Betting On Cardano (ADA) Has Less Risk Than Ethereum & Binance.  The post This is Why Betting On Cardano (ADA) Has Less Risk Than Ethereum &#038; Binance appeared first on Coinpedia - Fintech &amp; Cryptocurreny News Media| Crypto GuideEven as the market is stuck in volatility, at the time of reporting, the global crypto market is positioned at above $1 trillion with a surge of 1.64% over the last 24hrs. On the other hand, the world’s first currency has dropped by 0.11% overnight trading around $21,539. However, there are a few altcoins like &#8230; ... [| Skaityti daugiau](https://coinpedia.org/altcoin/this-is-why-betting-on-cardano-ada-has-less-risk-than-ethereum-binance/) "
      ],
      "text/plain": [
       "<IPython.core.display.Markdown object>"
      ]
     },
     "execution_count": 9,
     "metadata": {},
     "output_type": "execute_result"
    }
   ],
   "source": [
    "#hide_input\n",
    "#md('##### {}'.format(titleBTC)) \n",
    "md(\"- {}{} {}{} [| Skaityti daugiau]({}) \".format(exchange['title'],'. ', exchange['body'], ' ...', exchange['url']))"
   ]
  },
  {
   "cell_type": "code",
   "execution_count": null,
   "id": "tender-livestock",
   "metadata": {
    "papermill": {
     "duration": 0.011158,
     "end_time": "2022-08-26T03:44:28.648462",
     "exception": false,
     "start_time": "2022-08-26T03:44:28.637304",
     "status": "completed"
    },
    "tags": []
   },
   "outputs": [],
   "source": []
  },
  {
   "cell_type": "code",
   "execution_count": null,
   "id": "appreciated-diamond",
   "metadata": {
    "papermill": {
     "duration": 0.011149,
     "end_time": "2022-08-26T03:44:28.671086",
     "exception": false,
     "start_time": "2022-08-26T03:44:28.659937",
     "status": "completed"
    },
    "tags": []
   },
   "outputs": [],
   "source": []
  },
  {
   "cell_type": "code",
   "execution_count": null,
   "id": "romance-sweden",
   "metadata": {
    "papermill": {
     "duration": 0.01111,
     "end_time": "2022-08-26T03:44:28.693445",
     "exception": false,
     "start_time": "2022-08-26T03:44:28.682335",
     "status": "completed"
    },
    "tags": []
   },
   "outputs": [],
   "source": []
  },
  {
   "cell_type": "code",
   "execution_count": null,
   "id": "dietary-statistics",
   "metadata": {
    "papermill": {
     "duration": 0.011149,
     "end_time": "2022-08-26T03:44:28.715905",
     "exception": false,
     "start_time": "2022-08-26T03:44:28.704756",
     "status": "completed"
    },
    "tags": []
   },
   "outputs": [],
   "source": []
  }
 ],
 "metadata": {
  "kernelspec": {
   "display_name": "Python 3",
   "language": "python",
   "name": "python3"
  },
  "language_info": {
   "codemirror_mode": {
    "name": "ipython",
    "version": 3
   },
   "file_extension": ".py",
   "mimetype": "text/x-python",
   "name": "python",
   "nbconvert_exporter": "python",
   "pygments_lexer": "ipython3",
   "version": "3.6.15"
  },
  "papermill": {
   "default_parameters": {},
   "duration": 13.857677,
   "end_time": "2022-08-26T03:44:29.246595",
   "environment_variables": {},
   "exception": null,
   "input_path": "Market-News.ipynb",
   "output_path": "Market-News.ipynb",
   "parameters": {},
   "start_time": "2022-08-26T03:44:15.388918",
   "version": "2.2.2"
  }
 },
 "nbformat": 4,
 "nbformat_minor": 5
}