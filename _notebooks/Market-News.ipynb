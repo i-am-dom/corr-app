{
 "cells": [
  {
   "cell_type": "markdown",
   "id": "short-greensboro",
   "metadata": {
    "papermill": {
     "duration": 0.01408,
     "end_time": "2022-01-21T02:01:35.122989",
     "exception": false,
     "start_time": "2022-01-21T02:01:35.108909",
     "status": "completed"
    },
    "tags": []
   },
   "source": [
    "# Kriptovaliutų naujienos"
   ]
  },
  {
   "cell_type": "code",
   "execution_count": 1,
   "id": "functioning-knowing",
   "metadata": {
    "execution": {
     "iopub.execute_input": "2022-01-21T02:01:35.156475Z",
     "iopub.status.busy": "2022-01-21T02:01:35.155839Z",
     "iopub.status.idle": "2022-01-21T02:01:36.631151Z",
     "shell.execute_reply": "2022-01-21T02:01:36.630518Z"
    },
    "papermill": {
     "duration": 1.497979,
     "end_time": "2022-01-21T02:01:36.631335",
     "exception": false,
     "start_time": "2022-01-21T02:01:35.133356",
     "status": "completed"
    },
    "tags": []
   },
   "outputs": [],
   "source": [
    "#hide_input\n",
    "import warnings\n",
    "warnings.filterwarnings('ignore')\n",
    "from scripts.read_data import read_api\n",
    "from scripts.read_data import read_news\n",
    "from scripts.read_data import read_covid\n",
    "import matplotlib.pyplot as plt \n",
    "from IPython.display import Markdown as md"
   ]
  },
  {
   "cell_type": "code",
   "execution_count": 2,
   "id": "shared-acceptance",
   "metadata": {
    "execution": {
     "iopub.execute_input": "2022-01-21T02:01:36.663773Z",
     "iopub.status.busy": "2022-01-21T02:01:36.662695Z",
     "iopub.status.idle": "2022-01-21T02:01:48.204718Z",
     "shell.execute_reply": "2022-01-21T02:01:48.204067Z"
    },
    "papermill": {
     "duration": 11.56149,
     "end_time": "2022-01-21T02:01:48.204885",
     "exception": false,
     "start_time": "2022-01-21T02:01:36.643395",
     "status": "completed"
    },
    "tags": []
   },
   "outputs": [],
   "source": [
    "#hide_input\n",
    "blockchain = read_news('blockchain') \n",
    "btc = read_news('btc') \n",
    "xrp = read_news('xrp') \n",
    "trx = read_news('trx') \n",
    "eth = read_news('eth')  \n",
    "ada = read_news('ada')\n",
    "exchange = read_news('exchange') "
   ]
  },
  {
   "cell_type": "code",
   "execution_count": 3,
   "id": "synthetic-notion",
   "metadata": {
    "execution": {
     "iopub.execute_input": "2022-01-21T02:01:48.239941Z",
     "iopub.status.busy": "2022-01-21T02:01:48.239235Z",
     "iopub.status.idle": "2022-01-21T02:01:48.243066Z",
     "shell.execute_reply": "2022-01-21T02:01:48.242471Z"
    },
    "papermill": {
     "duration": 0.0249,
     "end_time": "2022-01-21T02:01:48.243185",
     "exception": false,
     "start_time": "2022-01-21T02:01:48.218285",
     "status": "completed"
    },
    "tags": []
   },
   "outputs": [
    {
     "data": {
      "text/markdown": [
       "- Survey: Interest in blockchain investment on the rise, but lack of awareness an issue.  It&#8217;s not just traders who are excited about 2022 and what all this year could mean for crypto development. Apart from them, mainstream stakeholders from the finance and technology sectors are also gearing up for changes as blockchain becomes part of the new normal. A survey by FTI Consulting, Inc. reached out to 150 America-based [&#8230;] ... [| Skaityti daugiau](https://ambcrypto.com/survey-interest-in-blockchain-investment-on-the-rise-but-lack-of-awareness-an-issue/) "
      ],
      "text/plain": [
       "<IPython.core.display.Markdown object>"
      ]
     },
     "execution_count": 3,
     "metadata": {},
     "output_type": "execute_result"
    }
   ],
   "source": [
    "#hide_input\n",
    "#md('##### {}'.format(titleBTC)) \n",
    "md(\"- {}{} {}{} [| Skaityti daugiau]({}) \".format(blockchain['title'],'. ', blockchain['body'], ' ...', blockchain['url']))"
   ]
  },
  {
   "cell_type": "code",
   "execution_count": 4,
   "id": "aging-caution",
   "metadata": {
    "execution": {
     "iopub.execute_input": "2022-01-21T02:01:48.277034Z",
     "iopub.status.busy": "2022-01-21T02:01:48.276232Z",
     "iopub.status.idle": "2022-01-21T02:01:48.280018Z",
     "shell.execute_reply": "2022-01-21T02:01:48.280599Z"
    },
    "papermill": {
     "duration": 0.023806,
     "end_time": "2022-01-21T02:01:48.280754",
     "exception": false,
     "start_time": "2022-01-21T02:01:48.256948",
     "status": "completed"
    },
    "tags": []
   },
   "outputs": [
    {
     "data": {
      "text/markdown": [
       "- Bitcoin’s Plan To Fix The Crowdfunding Problem?.  Crowdfunding has been around for some time now, and although it has been a hard time for some projects to gain funds, bitcoin could be the answer. Let&#8217;s look at the root of the troubles and how crypto could potentially address them. Related Reading &#124; Downward DOGE: Descending Dogecoin Pattern Predicts Deadly Drop The In&#8217;s and Outs&#8230; Crowdfunding is a practice where you can donate money &#8211; including cryptocurrencies such as Bitcoin, Litecoin, and more cryptocurrencies &#8211; to projects, associations or people to develop ideas. It is a very powerful mechanism and tool for innovation and supporting social enterprises. Different platforms, such as Kickstarter and Indiegogo have not taken their foot off the brakes; the web 2.0 crowdfunding movement, which has led to the creation of several billion-dollar tech startups, like Oculus, and raised millions of dollars for thousands of causes, is ripe for development. Crypto crowdfunding has the potential to be a network that connects people and their ideas. Today, crowdfunding is dramatically narrowed by its reliance on legacy finance, which limits the vast majority of the world from accessing it. Although this is good in theory, and has worked thus far, the major issue is the reliance on the legacy financial infrastructure, that is not only costly but globally fragmented. BTC: Bitcoin bouncing back after hitting all time high in November 2021. &#124; BTC:USD... ... [| Skaityti daugiau](https://www.newsbtc.com/all/bitcoins-plan-to-fix-the-crowdfunding-problem/) "
      ],
      "text/plain": [
       "<IPython.core.display.Markdown object>"
      ]
     },
     "execution_count": 4,
     "metadata": {},
     "output_type": "execute_result"
    }
   ],
   "source": [
    "#hide_input\n",
    "#md('##### {}'.format(titleBTC)) \n",
    "md(\"- {}{} {}{} [| Skaityti daugiau]({}) \".format(btc['title'],'. ', btc['body'], ' ...', btc['url']))"
   ]
  },
  {
   "cell_type": "code",
   "execution_count": 5,
   "id": "organic-actress",
   "metadata": {
    "execution": {
     "iopub.execute_input": "2022-01-21T02:01:48.314586Z",
     "iopub.status.busy": "2022-01-21T02:01:48.313786Z",
     "iopub.status.idle": "2022-01-21T02:01:48.317637Z",
     "shell.execute_reply": "2022-01-21T02:01:48.318228Z"
    },
    "papermill": {
     "duration": 0.023472,
     "end_time": "2022-01-21T02:01:48.318384",
     "exception": false,
     "start_time": "2022-01-21T02:01:48.294912",
     "status": "completed"
    },
    "tags": []
   },
   "outputs": [
    {
     "data": {
      "text/markdown": [
       "- Ripple Sees Positive Progress in SEC Lawsuit, Outcome Expected This Year!.  A federal court has granted them access to SEC emails. XRP is up 1.98% in the last 24 hours. OneThe post has appeared first on thenewscrypto.com ... [| Skaityti daugiau](https://thenewscrypto.com/ripple-sees-positive-progress-in-sec-lawsuit-outcome-expected-this-year/) "
      ],
      "text/plain": [
       "<IPython.core.display.Markdown object>"
      ]
     },
     "execution_count": 5,
     "metadata": {},
     "output_type": "execute_result"
    }
   ],
   "source": [
    "#hide_input\n",
    "#md('##### {}'.format(titleBTC)) \n",
    "md(\"- {}{} {}{} [| Skaityti daugiau]({}) \".format(xrp['title'],'. ', xrp['body'], ' ...', xrp['url']))"
   ]
  },
  {
   "cell_type": "code",
   "execution_count": 6,
   "id": "prompt-farmer",
   "metadata": {
    "execution": {
     "iopub.execute_input": "2022-01-21T02:01:48.353915Z",
     "iopub.status.busy": "2022-01-21T02:01:48.353056Z",
     "iopub.status.idle": "2022-01-21T02:01:48.357254Z",
     "shell.execute_reply": "2022-01-21T02:01:48.357863Z"
    },
    "papermill": {
     "duration": 0.02557,
     "end_time": "2022-01-21T02:01:48.358014",
     "exception": false,
     "start_time": "2022-01-21T02:01:48.332444",
     "status": "completed"
    },
    "tags": []
   },
   "outputs": [
    {
     "data": {
      "text/markdown": [
       "- TRON (TRX) Annual Statistics Represent an Excellent Track Record.  TRON reached $14.06 billion in TVL and ended the year at $9.98 billion TVL. The networks entire on-chain asset valueThe post has appeared first on thenewscrypto.com ... [| Skaityti daugiau](https://thenewscrypto.com/tron-trx-annual-statistics-represent-an-excellent-track-record/) "
      ],
      "text/plain": [
       "<IPython.core.display.Markdown object>"
      ]
     },
     "execution_count": 6,
     "metadata": {},
     "output_type": "execute_result"
    }
   ],
   "source": [
    "#hide_input\n",
    "#md('##### {}'.format(titleBTC)) \n",
    "md(\"- {}{} {}{} [| Skaityti daugiau]({}) \".format(trx['title'],'. ', trx['body'], ' ...', trx['url']))"
   ]
  },
  {
   "cell_type": "code",
   "execution_count": 7,
   "id": "illegal-greece",
   "metadata": {
    "execution": {
     "iopub.execute_input": "2022-01-21T02:01:48.392714Z",
     "iopub.status.busy": "2022-01-21T02:01:48.391977Z",
     "iopub.status.idle": "2022-01-21T02:01:48.394990Z",
     "shell.execute_reply": "2022-01-21T02:01:48.395598Z"
    },
    "papermill": {
     "duration": 0.024082,
     "end_time": "2022-01-21T02:01:48.395777",
     "exception": false,
     "start_time": "2022-01-21T02:01:48.371695",
     "status": "completed"
    },
    "tags": []
   },
   "outputs": [
    {
     "data": {
      "text/markdown": [
       "- JPMorgan: Ethereum Losing Ground to Other Crypto in NFT Market Due to High Transaction Fees, Congestion.  JPMorgan has told its clients that ethereum is losing ground to rival cryptocurrencies, such as solana (SOL), in the non-fungible token (NFT) market due to sky-high transaction fees on the network. &#x201C;It looks like, similar to defi apps, congestion and high gas fees has been inducing NFT applications to use other blockchains,&#x201D; said JPMorgan. Ethereum [&#8230;] ... [| Skaityti daugiau](https://news.bitcoin.com/jpmorgan-ethereum-losing-ground-to-other-crypto-nft-market-high-transaction-fees-congestion/) "
      ],
      "text/plain": [
       "<IPython.core.display.Markdown object>"
      ]
     },
     "execution_count": 7,
     "metadata": {},
     "output_type": "execute_result"
    }
   ],
   "source": [
    "#hide_input\n",
    "#md('##### {}'.format(titleBTC)) \n",
    "md(\"- {}{} {}{} [| Skaityti daugiau]({}) \".format(eth['title'],'. ', eth['body'], ' ...', eth['url']))"
   ]
  },
  {
   "cell_type": "code",
   "execution_count": 8,
   "id": "sublime-lounge",
   "metadata": {
    "execution": {
     "iopub.execute_input": "2022-01-21T02:01:48.433709Z",
     "iopub.status.busy": "2022-01-21T02:01:48.432947Z",
     "iopub.status.idle": "2022-01-21T02:01:48.437639Z",
     "shell.execute_reply": "2022-01-21T02:01:48.440973Z"
    },
    "papermill": {
     "duration": 0.030159,
     "end_time": "2022-01-21T02:01:48.441439",
     "exception": false,
     "start_time": "2022-01-21T02:01:48.411280",
     "status": "completed"
    },
    "tags": []
   },
   "outputs": [
    {
     "data": {
      "text/markdown": [
       "- Cardano Launches First Decentralized Exchange Built on ADA, Triggering Price Spike.  Cardano (ADA) is surging after launching the first-ever decentralized exchange (DEX) built on the smart contract platform. According to a statement made by the SundaeSwap (SUNDAE) team, the fully functional beta version of the DEX premiered today on Cardano. Its launch boosted Cardano from its day-low of $1.32 to $1.42, a 7.5% increase. The fifth-largest [&#8230;]The post Cardano Launches First Decentralized Exchange Built on ADA, Triggering Price Spike appeared first on The Daily Hodl. ... [| Skaityti daugiau](https://dailyhodl.com/2022/01/20/cardano-launches-first-decentralized-exchange-built-on-ada-triggering-price-spike/) "
      ],
      "text/plain": [
       "<IPython.core.display.Markdown object>"
      ]
     },
     "execution_count": 8,
     "metadata": {},
     "output_type": "execute_result"
    }
   ],
   "source": [
    "#hide_input\n",
    "#md('##### {}'.format(titleBTC)) \n",
    "md(\"- {}{} {}{} [| Skaityti daugiau]({}) \".format(ada['title'],'. ', ada['body'], ' ...', ada['url']))"
   ]
  },
  {
   "cell_type": "code",
   "execution_count": 9,
   "id": "specified-ordering",
   "metadata": {
    "execution": {
     "iopub.execute_input": "2022-01-21T02:01:48.478542Z",
     "iopub.status.busy": "2022-01-21T02:01:48.477141Z",
     "iopub.status.idle": "2022-01-21T02:01:48.480505Z",
     "shell.execute_reply": "2022-01-21T02:01:48.481080Z"
    },
    "papermill": {
     "duration": 0.024661,
     "end_time": "2022-01-21T02:01:48.481252",
     "exception": false,
     "start_time": "2022-01-21T02:01:48.456591",
     "status": "completed"
    },
    "tags": []
   },
   "outputs": [
    {
     "data": {
      "text/markdown": [
       "- Top Crypto Analyst Says This DeFi Altcoin Is Primed for a 10x Rally.  Pseudonymous analyst Credible Crypto believes one decentralized finance (DeFi) altcoin could surge up to 10x. The analyst tells his 296,500 Twitter followers that he&#8217;s not worried about the short-term price action for Curve Dao Token (CRV), the governance token of stablecoin-focused decentralized exchange Curve Finance. Explains Credible Crypto, &#8220;I&#8217;ve been talking about it since it [&#8230;]The post Top Crypto Analyst Says This DeFi Altcoin Is Primed for a 10x Rally appeared first on The Daily Hodl. ... [| Skaityti daugiau](https://dailyhodl.com/2022/01/20/top-crypto-analyst-says-this-defi-altcoin-is-primed-for-a-10x-rally/) "
      ],
      "text/plain": [
       "<IPython.core.display.Markdown object>"
      ]
     },
     "execution_count": 9,
     "metadata": {},
     "output_type": "execute_result"
    }
   ],
   "source": [
    "#hide_input\n",
    "#md('##### {}'.format(titleBTC)) \n",
    "md(\"- {}{} {}{} [| Skaityti daugiau]({}) \".format(exchange['title'],'. ', exchange['body'], ' ...', exchange['url']))"
   ]
  },
  {
   "cell_type": "code",
   "execution_count": null,
   "id": "tender-livestock",
   "metadata": {
    "papermill": {
     "duration": 0.015628,
     "end_time": "2022-01-21T02:01:48.512315",
     "exception": false,
     "start_time": "2022-01-21T02:01:48.496687",
     "status": "completed"
    },
    "tags": []
   },
   "outputs": [],
   "source": []
  },
  {
   "cell_type": "code",
   "execution_count": null,
   "id": "appreciated-diamond",
   "metadata": {
    "papermill": {
     "duration": 0.016134,
     "end_time": "2022-01-21T02:01:48.544325",
     "exception": false,
     "start_time": "2022-01-21T02:01:48.528191",
     "status": "completed"
    },
    "tags": []
   },
   "outputs": [],
   "source": []
  },
  {
   "cell_type": "code",
   "execution_count": null,
   "id": "romance-sweden",
   "metadata": {
    "papermill": {
     "duration": 0.018002,
     "end_time": "2022-01-21T02:01:48.579429",
     "exception": false,
     "start_time": "2022-01-21T02:01:48.561427",
     "status": "completed"
    },
    "tags": []
   },
   "outputs": [],
   "source": []
  },
  {
   "cell_type": "code",
   "execution_count": null,
   "id": "dietary-statistics",
   "metadata": {
    "papermill": {
     "duration": 0.015425,
     "end_time": "2022-01-21T02:01:48.609606",
     "exception": false,
     "start_time": "2022-01-21T02:01:48.594181",
     "status": "completed"
    },
    "tags": []
   },
   "outputs": [],
   "source": []
  }
 ],
 "metadata": {
  "kernelspec": {
   "display_name": "Python 3",
   "language": "python",
   "name": "python3"
  },
  "language_info": {
   "codemirror_mode": {
    "name": "ipython",
    "version": 3
   },
   "file_extension": ".py",
   "mimetype": "text/x-python",
   "name": "python",
   "nbconvert_exporter": "python",
   "pygments_lexer": "ipython3",
   "version": "3.6.15"
  },
  "papermill": {
   "default_parameters": {},
   "duration": 14.998363,
   "end_time": "2022-01-21T02:01:49.145925",
   "environment_variables": {},
   "exception": null,
   "input_path": "Market-News.ipynb",
   "output_path": "Market-News.ipynb",
   "parameters": {},
   "start_time": "2022-01-21T02:01:34.147562",
   "version": "2.2.2"
  }
 },
 "nbformat": 4,
 "nbformat_minor": 5
}