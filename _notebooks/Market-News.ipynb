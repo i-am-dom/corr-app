{
 "cells": [
  {
   "cell_type": "markdown",
   "id": "short-greensboro",
   "metadata": {
    "papermill": {
     "duration": 0.012775,
     "end_time": "2022-07-10T03:12:56.401455",
     "exception": false,
     "start_time": "2022-07-10T03:12:56.388680",
     "status": "completed"
    },
    "tags": []
   },
   "source": [
    "# Kriptovaliutų naujienos"
   ]
  },
  {
   "cell_type": "code",
   "execution_count": 1,
   "id": "functioning-knowing",
   "metadata": {
    "execution": {
     "iopub.execute_input": "2022-07-10T03:12:56.430982Z",
     "iopub.status.busy": "2022-07-10T03:12:56.430369Z",
     "iopub.status.idle": "2022-07-10T03:12:57.561050Z",
     "shell.execute_reply": "2022-07-10T03:12:57.560109Z"
    },
    "papermill": {
     "duration": 1.149276,
     "end_time": "2022-07-10T03:12:57.561189",
     "exception": false,
     "start_time": "2022-07-10T03:12:56.411913",
     "status": "completed"
    },
    "tags": []
   },
   "outputs": [],
   "source": [
    "#hide_input\n",
    "import warnings\n",
    "warnings.filterwarnings('ignore')\n",
    "from scripts.read_data import read_api\n",
    "from scripts.read_data import read_news\n",
    "from scripts.read_data import read_covid\n",
    "import matplotlib.pyplot as plt \n",
    "from IPython.display import Markdown as md"
   ]
  },
  {
   "cell_type": "code",
   "execution_count": 2,
   "id": "shared-acceptance",
   "metadata": {
    "execution": {
     "iopub.execute_input": "2022-07-10T03:12:57.585560Z",
     "iopub.status.busy": "2022-07-10T03:12:57.584641Z",
     "iopub.status.idle": "2022-07-10T03:13:08.341026Z",
     "shell.execute_reply": "2022-07-10T03:13:08.340509Z"
    },
    "papermill": {
     "duration": 10.770504,
     "end_time": "2022-07-10T03:13:08.341138",
     "exception": false,
     "start_time": "2022-07-10T03:12:57.570634",
     "status": "completed"
    },
    "tags": []
   },
   "outputs": [],
   "source": [
    "#hide_input\n",
    "blockchain = read_news('blockchain') \n",
    "btc = read_news('btc') \n",
    "xrp = read_news('xrp') \n",
    "trx = read_news('trx') \n",
    "eth = read_news('eth')  \n",
    "ada = read_news('ada')\n",
    "exchange = read_news('exchange') "
   ]
  },
  {
   "cell_type": "code",
   "execution_count": 3,
   "id": "synthetic-notion",
   "metadata": {
    "execution": {
     "iopub.execute_input": "2022-07-10T03:13:08.365616Z",
     "iopub.status.busy": "2022-07-10T03:13:08.365038Z",
     "iopub.status.idle": "2022-07-10T03:13:08.367766Z",
     "shell.execute_reply": "2022-07-10T03:13:08.368194Z"
    },
    "papermill": {
     "duration": 0.017826,
     "end_time": "2022-07-10T03:13:08.368303",
     "exception": false,
     "start_time": "2022-07-10T03:13:08.350477",
     "status": "completed"
    },
    "tags": []
   },
   "outputs": [
    {
     "data": {
      "text/markdown": [
       "- Ethereum dumps below previous resistance zone: Take profit or buy more?.  Ethereum price analysis for July 10, 2022, comes on a bearish note for the world&#8217;s 2nd biggest cryptocurrency as we can confirm that the token has dropped below the previous important resistance one of $1200 after Ether failed to make a move towards the $1500 price level. The expectations that Ether will turn bullish and [&#8230;]The post Ethereum dumps below previous resistance zone: Take profit or buy more? appeared first on Blockchain, Crypto and Stock News. ... [| Skaityti daugiau](https://thecoinrise.com/ethereum-dumps-below-previous-resistance-zone-take-profit-or-buy-more/) "
      ],
      "text/plain": [
       "<IPython.core.display.Markdown object>"
      ]
     },
     "execution_count": 3,
     "metadata": {},
     "output_type": "execute_result"
    }
   ],
   "source": [
    "#hide_input\n",
    "#md('##### {}'.format(titleBTC)) \n",
    "md(\"- {}{} {}{} [| Skaityti daugiau]({}) \".format(blockchain['title'],'. ', blockchain['body'], ' ...', blockchain['url']))"
   ]
  },
  {
   "cell_type": "code",
   "execution_count": 4,
   "id": "aging-caution",
   "metadata": {
    "execution": {
     "iopub.execute_input": "2022-07-10T03:13:08.391124Z",
     "iopub.status.busy": "2022-07-10T03:13:08.390536Z",
     "iopub.status.idle": "2022-07-10T03:13:08.393851Z",
     "shell.execute_reply": "2022-07-10T03:13:08.393412Z"
    },
    "papermill": {
     "duration": 0.016314,
     "end_time": "2022-07-10T03:13:08.393948",
     "exception": false,
     "start_time": "2022-07-10T03:13:08.377634",
     "status": "completed"
    },
    "tags": []
   },
   "outputs": [
    {
     "data": {
      "text/markdown": [
       "- Bitcoin might retest this support level after the Mt. Gox repayment.  Bitcoin price analysis for July 10, 2022, comes on a sluggish note for the world&#8217;s biggest cryptocurrency which has been holding strong above the $21K price region. It will be interesting to see if BTC is capable of reclaiming higher highs in the coming days. The token has found resistance beyond the $22K price region [&#8230;]The post Bitcoin might retest this support level after the Mt. Gox repayment appeared first on Blockchain, Crypto and Stock News. ... [| Skaityti daugiau](https://thecoinrise.com/bitcoin-might-retest-this-support-level-after-the-mt-gox-repayment/) "
      ],
      "text/plain": [
       "<IPython.core.display.Markdown object>"
      ]
     },
     "execution_count": 4,
     "metadata": {},
     "output_type": "execute_result"
    }
   ],
   "source": [
    "#hide_input\n",
    "#md('##### {}'.format(titleBTC)) \n",
    "md(\"- {}{} {}{} [| Skaityti daugiau]({}) \".format(btc['title'],'. ', btc['body'], ' ...', btc['url']))"
   ]
  },
  {
   "cell_type": "code",
   "execution_count": 5,
   "id": "organic-actress",
   "metadata": {
    "execution": {
     "iopub.execute_input": "2022-07-10T03:13:08.417333Z",
     "iopub.status.busy": "2022-07-10T03:13:08.416777Z",
     "iopub.status.idle": "2022-07-10T03:13:08.420088Z",
     "shell.execute_reply": "2022-07-10T03:13:08.419551Z"
    },
    "papermill": {
     "duration": 0.016521,
     "end_time": "2022-07-10T03:13:08.420181",
     "exception": false,
     "start_time": "2022-07-10T03:13:08.403660",
     "status": "completed"
    },
    "tags": []
   },
   "outputs": [
    {
     "data": {
      "text/markdown": [
       "- SEC v. Ripple: Is XRP the loser in what seems like an unending brawl?.  The SEC vs Ripple case has taken a new turn now after the Amici Curiae brawl. The SEC&#8217;s latest move was to file for an omnibus motion to exclude or limit expert testimony. As per court documents, the Ripple team has accepted this motion under a condition. A 120-pager plea The regulatory watchdog SEC filed [&#8230;] ... [| Skaityti daugiau](https://ambcrypto.com/sec-vs-ripple-is-xrp-the-loser-in-what-seems-like-an-unending-brawl/) "
      ],
      "text/plain": [
       "<IPython.core.display.Markdown object>"
      ]
     },
     "execution_count": 5,
     "metadata": {},
     "output_type": "execute_result"
    }
   ],
   "source": [
    "#hide_input\n",
    "#md('##### {}'.format(titleBTC)) \n",
    "md(\"- {}{} {}{} [| Skaityti daugiau]({}) \".format(xrp['title'],'. ', xrp['body'], ' ...', xrp['url']))"
   ]
  },
  {
   "cell_type": "code",
   "execution_count": 6,
   "id": "prompt-farmer",
   "metadata": {
    "execution": {
     "iopub.execute_input": "2022-07-10T03:13:08.444343Z",
     "iopub.status.busy": "2022-07-10T03:13:08.443787Z",
     "iopub.status.idle": "2022-07-10T03:13:08.446948Z",
     "shell.execute_reply": "2022-07-10T03:13:08.446410Z"
    },
    "papermill": {
     "duration": 0.016888,
     "end_time": "2022-07-10T03:13:08.447043",
     "exception": false,
     "start_time": "2022-07-10T03:13:08.430155",
     "status": "completed"
    },
    "tags": []
   },
   "outputs": [
    {
     "data": {
      "text/markdown": [
       "- TRON Deploys Another $20M to Safeguard the Crypto Market.  The TRON DAO Reserve tweeted a new update on Friday, announcing that it had purchased USDD worth $10 million and added $10 million worth of TRX to its reserves to safeguard the overall blockchain industry and crypto market. total 20 million for today! https://t.co/Hcaq58TZhg — H.E. Justin Sun 🅣🌞🇬🇩 (@justinsuntron) July 8, 2022 TRON’s Attempt at an Algorithmic Stablecoin The algorithmic stablecoin USDD is an effort by TRON. It draws inspiration from Terra’s UST, whose abrupt collapse in May after losing its peg to the dollar wiped out the whole industry. It draws inspiration from Terra’s UST, which suffered a dramatic collapse in May. It caused an industry-wide wipeout after losing its peg to the dollar. Since the TRON DAO Reserve collateralized USDD, it shouldn’t, in theory, experience the same fate. As per TRON’s website, the DAO holds $2.2 billion worth of collateral in TRX, BTC, USDT, and USDC, and the total USDD supply is $723.3 million, making the stablecoin 316.2% overcollateralized. Preserve USDD’s Dollar Parity The TRON DAO Reserve dropped $2 billion last month as it fought off short traders betting against TRX to preserve USDD’s dollar parity. USDD spent a week below peg, trading as low as $0.93 but has recovered to just under a dollar. The TRON DAO Reserve has added to its USDD and TRX holdings several times since the depeg event. With the introduction of USDD, which it claimed would grant users “financial freedo... ... [| Skaityti daugiau](https://www.cryptoknowmics.com/news/tron-deploys-another-20m-to-safeguard-the-crypto-market/?utm_source=rss&utm_medium=rss&utm_campaign=tron-deploys-another-20m-to-safeguard-the-crypto-market) "
      ],
      "text/plain": [
       "<IPython.core.display.Markdown object>"
      ]
     },
     "execution_count": 6,
     "metadata": {},
     "output_type": "execute_result"
    }
   ],
   "source": [
    "#hide_input\n",
    "#md('##### {}'.format(titleBTC)) \n",
    "md(\"- {}{} {}{} [| Skaityti daugiau]({}) \".format(trx['title'],'. ', trx['body'], ' ...', trx['url']))"
   ]
  },
  {
   "cell_type": "code",
   "execution_count": 7,
   "id": "illegal-greece",
   "metadata": {
    "execution": {
     "iopub.execute_input": "2022-07-10T03:13:08.472315Z",
     "iopub.status.busy": "2022-07-10T03:13:08.471762Z",
     "iopub.status.idle": "2022-07-10T03:13:08.474720Z",
     "shell.execute_reply": "2022-07-10T03:13:08.474189Z"
    },
    "papermill": {
     "duration": 0.01721,
     "end_time": "2022-07-10T03:13:08.474813",
     "exception": false,
     "start_time": "2022-07-10T03:13:08.457603",
     "status": "completed"
    },
    "tags": []
   },
   "outputs": [
    {
     "data": {
      "text/markdown": [
       "- Ethereum dumps below previous resistance zone: Take profit or buy more?.  Ethereum price analysis for July 10, 2022, comes on a bearish note for the world&#8217;s 2nd biggest cryptocurrency as we can confirm that the token has dropped below the previous important resistance one of $1200 after Ether failed to make a move towards the $1500 price level. The expectations that Ether will turn bullish and [&#8230;]The post Ethereum dumps below previous resistance zone: Take profit or buy more? appeared first on Blockchain, Crypto and Stock News. ... [| Skaityti daugiau](https://thecoinrise.com/ethereum-dumps-below-previous-resistance-zone-take-profit-or-buy-more/) "
      ],
      "text/plain": [
       "<IPython.core.display.Markdown object>"
      ]
     },
     "execution_count": 7,
     "metadata": {},
     "output_type": "execute_result"
    }
   ],
   "source": [
    "#hide_input\n",
    "#md('##### {}'.format(titleBTC)) \n",
    "md(\"- {}{} {}{} [| Skaityti daugiau]({}) \".format(eth['title'],'. ', eth['body'], ' ...', eth['url']))"
   ]
  },
  {
   "cell_type": "code",
   "execution_count": 8,
   "id": "sublime-lounge",
   "metadata": {
    "execution": {
     "iopub.execute_input": "2022-07-10T03:13:08.501450Z",
     "iopub.status.busy": "2022-07-10T03:13:08.500867Z",
     "iopub.status.idle": "2022-07-10T03:13:08.503511Z",
     "shell.execute_reply": "2022-07-10T03:13:08.503917Z"
    },
    "papermill": {
     "duration": 0.017529,
     "end_time": "2022-07-10T03:13:08.504025",
     "exception": false,
     "start_time": "2022-07-10T03:13:08.486496",
     "status": "completed"
    },
    "tags": []
   },
   "outputs": [
    {
     "data": {
      "text/markdown": [
       "- Cardano Whales Have Added $37M Over Past 30 Days.  Addresses of Cardano whales that carry between 10,000 and 100,000 ADA have added 79.1 million $ADA worth $37,894,397 to their aggregate bags over the past 30 days, according to data from crypto analytics platform Santiment. Additionally, addresses of Cardano whales, which hold between 100,000 and 10 million ADA, have stopped dumping their holdings. Santiment wrote in a tweet update, “As Cardano’s price performance has stayed particularly underwhelming in 2022, addresses holding 10k –100k $ADA are now accumulating. They’ve added 79.1m $ADA to their collective bags in 30 days. Meanwhile, 100k 10m whales have ceased their dumping.” 🐳 As #Cardano's price performance has stayed particularly underwhelming in 2022, addresses holding 10k – 100k $ADA are now accumulating. They've added 79.1m $ADA to their collective bags in 30 days. Meanwhile, 100k – 10m whales have ceased their dumping. https://t.co/ucHo0RjwfB pic.twitter.com/dqcdTj0uHN — Santiment (@santimentfeed) July 9, 2022 Upcoming Vasil Hard Fork Propels Whale Accumulation The number of Cardano transactions has spiked in the first week of July compared to the same period in June. The rising Cardano price responded immediately after the Vasil hard fork was successfully launched on the Cardano testnet. Reportedly, Input Output Global (IOG), the firm responsible for Cardano’s research and development, will be launching the long-awaited Vasil Hard Fork by the end of this month. Car... ... [| Skaityti daugiau](https://www.cryptoknowmics.com/news/cardano-whales-have-added-37m-over-past-30-days/?utm_source=rss&utm_medium=rss&utm_campaign=cardano-whales-have-added-37m-over-past-30-days) "
      ],
      "text/plain": [
       "<IPython.core.display.Markdown object>"
      ]
     },
     "execution_count": 8,
     "metadata": {},
     "output_type": "execute_result"
    }
   ],
   "source": [
    "#hide_input\n",
    "#md('##### {}'.format(titleBTC)) \n",
    "md(\"- {}{} {}{} [| Skaityti daugiau]({}) \".format(ada['title'],'. ', ada['body'], ' ...', ada['url']))"
   ]
  },
  {
   "cell_type": "code",
   "execution_count": 9,
   "id": "specified-ordering",
   "metadata": {
    "execution": {
     "iopub.execute_input": "2022-07-10T03:13:08.530337Z",
     "iopub.status.busy": "2022-07-10T03:13:08.529746Z",
     "iopub.status.idle": "2022-07-10T03:13:08.532314Z",
     "shell.execute_reply": "2022-07-10T03:13:08.532713Z"
    },
    "papermill": {
     "duration": 0.01778,
     "end_time": "2022-07-10T03:13:08.532821",
     "exception": false,
     "start_time": "2022-07-10T03:13:08.515041",
     "status": "completed"
    },
    "tags": []
   },
   "outputs": [
    {
     "data": {
      "text/markdown": [
       "- Thalex Trading Platform Pulls $7.6M in Series A Funding Round.  Crypto-native derivatives trading platform Thalex has closed a Series A funding round worth $7.64 million. Thalex announced this seed funding and investors who participated in the round includes Bitfinex, I Money Crypto, QCP, Flow Traders, Bitstamp, and Wintermute. The Gibraltar-based trading platform is a crypto derivatives exchange that deals in options, perpetual contracts, and futures. [&#8230;]The post Thalex Trading Platform Pulls $7.6M in Series A Funding Round appeared first on Blockchain, Crypto and Stock News. ... [| Skaityti daugiau](https://thecoinrise.com/thalex-trading-platform-pulls-7-6m-in-series-a-funding-round/) "
      ],
      "text/plain": [
       "<IPython.core.display.Markdown object>"
      ]
     },
     "execution_count": 9,
     "metadata": {},
     "output_type": "execute_result"
    }
   ],
   "source": [
    "#hide_input\n",
    "#md('##### {}'.format(titleBTC)) \n",
    "md(\"- {}{} {}{} [| Skaityti daugiau]({}) \".format(exchange['title'],'. ', exchange['body'], ' ...', exchange['url']))"
   ]
  },
  {
   "cell_type": "code",
   "execution_count": null,
   "id": "tender-livestock",
   "metadata": {
    "papermill": {
     "duration": 0.011377,
     "end_time": "2022-07-10T03:13:08.555550",
     "exception": false,
     "start_time": "2022-07-10T03:13:08.544173",
     "status": "completed"
    },
    "tags": []
   },
   "outputs": [],
   "source": []
  },
  {
   "cell_type": "code",
   "execution_count": null,
   "id": "appreciated-diamond",
   "metadata": {
    "papermill": {
     "duration": 0.011343,
     "end_time": "2022-07-10T03:13:08.578384",
     "exception": false,
     "start_time": "2022-07-10T03:13:08.567041",
     "status": "completed"
    },
    "tags": []
   },
   "outputs": [],
   "source": []
  },
  {
   "cell_type": "code",
   "execution_count": null,
   "id": "romance-sweden",
   "metadata": {
    "papermill": {
     "duration": 0.01132,
     "end_time": "2022-07-10T03:13:08.601111",
     "exception": false,
     "start_time": "2022-07-10T03:13:08.589791",
     "status": "completed"
    },
    "tags": []
   },
   "outputs": [],
   "source": []
  },
  {
   "cell_type": "code",
   "execution_count": null,
   "id": "dietary-statistics",
   "metadata": {
    "papermill": {
     "duration": 0.011311,
     "end_time": "2022-07-10T03:13:08.623799",
     "exception": false,
     "start_time": "2022-07-10T03:13:08.612488",
     "status": "completed"
    },
    "tags": []
   },
   "outputs": [],
   "source": []
  }
 ],
 "metadata": {
  "kernelspec": {
   "display_name": "Python 3",
   "language": "python",
   "name": "python3"
  },
  "language_info": {
   "codemirror_mode": {
    "name": "ipython",
    "version": 3
   },
   "file_extension": ".py",
   "mimetype": "text/x-python",
   "name": "python",
   "nbconvert_exporter": "python",
   "pygments_lexer": "ipython3",
   "version": "3.6.15"
  },
  "papermill": {
   "default_parameters": {},
   "duration": 13.461193,
   "end_time": "2022-07-10T03:13:08.952097",
   "environment_variables": {},
   "exception": null,
   "input_path": "Market-News.ipynb",
   "output_path": "Market-News.ipynb",
   "parameters": {},
   "start_time": "2022-07-10T03:12:55.490904",
   "version": "2.2.2"
  }
 },
 "nbformat": 4,
 "nbformat_minor": 5
}