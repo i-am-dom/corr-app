{
 "cells": [
  {
   "cell_type": "markdown",
   "id": "short-greensboro",
   "metadata": {
    "papermill": {
     "duration": 0.016265,
     "end_time": "2022-09-01T03:38:14.779291",
     "exception": false,
     "start_time": "2022-09-01T03:38:14.763026",
     "status": "completed"
    },
    "tags": []
   },
   "source": [
    "# Kriptovaliutų naujienos"
   ]
  },
  {
   "cell_type": "code",
   "execution_count": 1,
   "id": "functioning-knowing",
   "metadata": {
    "execution": {
     "iopub.execute_input": "2022-09-01T03:38:14.816114Z",
     "iopub.status.busy": "2022-09-01T03:38:14.815328Z",
     "iopub.status.idle": "2022-09-01T03:38:16.394588Z",
     "shell.execute_reply": "2022-09-01T03:38:16.393940Z"
    },
    "papermill": {
     "duration": 1.602697,
     "end_time": "2022-09-01T03:38:16.394754",
     "exception": false,
     "start_time": "2022-09-01T03:38:14.792057",
     "status": "completed"
    },
    "tags": []
   },
   "outputs": [],
   "source": [
    "#hide_input\n",
    "import warnings\n",
    "warnings.filterwarnings('ignore')\n",
    "from scripts.read_data import read_api\n",
    "from scripts.read_data import read_news\n",
    "from scripts.read_data import read_covid\n",
    "import matplotlib.pyplot as plt \n",
    "from IPython.display import Markdown as md"
   ]
  },
  {
   "cell_type": "code",
   "execution_count": 2,
   "id": "shared-acceptance",
   "metadata": {
    "execution": {
     "iopub.execute_input": "2022-09-01T03:38:16.425903Z",
     "iopub.status.busy": "2022-09-01T03:38:16.424691Z",
     "iopub.status.idle": "2022-09-01T03:38:28.990641Z",
     "shell.execute_reply": "2022-09-01T03:38:28.989949Z"
    },
    "papermill": {
     "duration": 12.58425,
     "end_time": "2022-09-01T03:38:28.990799",
     "exception": false,
     "start_time": "2022-09-01T03:38:16.406549",
     "status": "completed"
    },
    "tags": []
   },
   "outputs": [],
   "source": [
    "#hide_input\n",
    "blockchain = read_news('blockchain') \n",
    "btc = read_news('btc') \n",
    "xrp = read_news('xrp') \n",
    "trx = read_news('trx') \n",
    "eth = read_news('eth')  \n",
    "ada = read_news('ada')\n",
    "exchange = read_news('exchange') "
   ]
  },
  {
   "cell_type": "code",
   "execution_count": 3,
   "id": "synthetic-notion",
   "metadata": {
    "execution": {
     "iopub.execute_input": "2022-09-01T03:38:29.022195Z",
     "iopub.status.busy": "2022-09-01T03:38:29.021358Z",
     "iopub.status.idle": "2022-09-01T03:38:29.025790Z",
     "shell.execute_reply": "2022-09-01T03:38:29.025160Z"
    },
    "papermill": {
     "duration": 0.023399,
     "end_time": "2022-09-01T03:38:29.025934",
     "exception": false,
     "start_time": "2022-09-01T03:38:29.002535",
     "status": "completed"
    },
    "tags": []
   },
   "outputs": [
    {
     "data": {
      "text/markdown": [
       "- There Will No More OpenSea NFTs on ETH PoW Very Soon.  The Ethereum Merge is now just fifteen days ahead of us as per the scheduled date of September. This will transition the Ethereum network to a Proof-of-Stake blockchain making it more scalable and efficient. The world&#8217;s largest NFT marketplace OpenSea said that they will be solely supporting NFTs only on the upgraded Ethereum PoS chain. The post There Will No More OpenSea NFTs on ETH PoW Very Soon appeared first on CoinGape. ... [| Skaityti daugiau](https://coingape.com/there-will-no-more-opensea-nfts-on-eth-pow-very-soon/) "
      ],
      "text/plain": [
       "<IPython.core.display.Markdown object>"
      ]
     },
     "execution_count": 3,
     "metadata": {},
     "output_type": "execute_result"
    }
   ],
   "source": [
    "#hide_input\n",
    "#md('##### {}'.format(titleBTC)) \n",
    "md(\"- {}{} {}{} [| Skaityti daugiau]({}) \".format(blockchain['title'],'. ', blockchain['body'], ' ...', blockchain['url']))"
   ]
  },
  {
   "cell_type": "code",
   "execution_count": 4,
   "id": "aging-caution",
   "metadata": {
    "execution": {
     "iopub.execute_input": "2022-09-01T03:38:29.057728Z",
     "iopub.status.busy": "2022-09-01T03:38:29.056929Z",
     "iopub.status.idle": "2022-09-01T03:38:29.067546Z",
     "shell.execute_reply": "2022-09-01T03:38:29.066857Z"
    },
    "papermill": {
     "duration": 0.030105,
     "end_time": "2022-09-01T03:38:29.067693",
     "exception": false,
     "start_time": "2022-09-01T03:38:29.037588",
     "status": "completed"
    },
    "tags": []
   },
   "outputs": [
    {
     "data": {
      "text/markdown": [
       "- TA: Bitcoin Bears Keep Pushing, Why BTC Is At Make-or-Break Levels.  Bitcoin is still consolidating near the $20,000 zone against the US Dollar. BTC must clear the $20,550 resistance zone to start a steady increase. Bitcoin is still struggling to gain pace above the $20,550 resistance. The price is now trading near the $20,000 level and the 100 hourly simple moving average. There is a key bearish trend line forming with resistance near $20,330 on the hourly chart of the BTC/USD pair (data feed from Kraken). The pair must clear the $20,350 zone and $20,550 to start a fresh increase. Bitcoin Price Faces Hurdles Bitcoin price remained well supported above the $19,550 zone. BTC formed a base and started a fresh upward move above the $20,000 resistance zone. There was a push above the $20,200 level and the 100 hourly simple moving average. The price even cleared the 61.8% Fib retracement level of the downward move from the $20,576 swing high to $19,555 low. However, the price stayed below the $20,550 resistance zone. Bitcoin price is now trading near the $20,000 level and the 100 hourly simple moving average. On the upside, an immediate resistance is near the $20,350 level. There is also a key bearish trend line forming with resistance near $20,330 on the hourly chart of the BTC/USD pair. The trend line is near the 76.4% Fib retracement level of the downward move from the $20,576 swing high to $19,555 low. Source: BTCUSD on TradingView.com The next major resistance sits near the $20,550 and $20,575 ... ... [| Skaityti daugiau](https://www.newsbtc.com/analysis/btc/bitcoin-btc-make-or-break-levels-20k/) "
      ],
      "text/plain": [
       "<IPython.core.display.Markdown object>"
      ]
     },
     "execution_count": 4,
     "metadata": {},
     "output_type": "execute_result"
    }
   ],
   "source": [
    "#hide_input\n",
    "#md('##### {}'.format(titleBTC)) \n",
    "md(\"- {}{} {}{} [| Skaityti daugiau]({}) \".format(btc['title'],'. ', btc['body'], ' ...', btc['url']))"
   ]
  },
  {
   "cell_type": "code",
   "execution_count": 5,
   "id": "organic-actress",
   "metadata": {
    "execution": {
     "iopub.execute_input": "2022-09-01T03:38:29.103729Z",
     "iopub.status.busy": "2022-09-01T03:38:29.102914Z",
     "iopub.status.idle": "2022-09-01T03:38:29.106748Z",
     "shell.execute_reply": "2022-09-01T03:38:29.107312Z"
    },
    "papermill": {
     "duration": 0.022525,
     "end_time": "2022-09-01T03:38:29.107468",
     "exception": false,
     "start_time": "2022-09-01T03:38:29.084943",
     "status": "completed"
    },
    "tags": []
   },
   "outputs": [
    {
     "data": {
      "text/markdown": [
       "- Ripple's plan to tokenize Colombian land stalls amid new administration.  A joint effort to permanently store and authenticate Colombian property titles on the XRP Ledger looks set to stall as the new government focuses on other priorities. ... [| Skaityti daugiau](https://cointelegraph.com/news/ripple-s-plan-to-tokenize-colombian-land-stalls-amid-new-administration) "
      ],
      "text/plain": [
       "<IPython.core.display.Markdown object>"
      ]
     },
     "execution_count": 5,
     "metadata": {},
     "output_type": "execute_result"
    }
   ],
   "source": [
    "#hide_input\n",
    "#md('##### {}'.format(titleBTC)) \n",
    "md(\"- {}{} {}{} [| Skaityti daugiau]({}) \".format(xrp['title'],'. ', xrp['body'], ' ...', xrp['url']))"
   ]
  },
  {
   "cell_type": "code",
   "execution_count": 6,
   "id": "prompt-farmer",
   "metadata": {
    "execution": {
     "iopub.execute_input": "2022-09-01T03:38:29.138700Z",
     "iopub.status.busy": "2022-09-01T03:38:29.137932Z",
     "iopub.status.idle": "2022-09-01T03:38:29.143299Z",
     "shell.execute_reply": "2022-09-01T03:38:29.142257Z"
    },
    "papermill": {
     "duration": 0.023475,
     "end_time": "2022-09-01T03:38:29.143437",
     "exception": false,
     "start_time": "2022-09-01T03:38:29.119962",
     "status": "completed"
    },
    "tags": []
   },
   "outputs": [
    {
     "data": {
      "text/markdown": [
       "- TRON Trades Sideways; Will TRX Investors Achieve Profits?.  TRON aims to create a decentralized online infrastructure that aims to eliminate middlemen in the entertainment-based business industry. It wants to make decentralized communication between content creators and consumers. It prepares a platform that can deliver content directly to the audience without the interference of any third-party authority. The transaction speed, higher scalability, and utility &#8230; ... [| Skaityti daugiau](https://www.cryptonewsz.com/tron-trades-sideways-will-trx-investors-achieve-profits/) "
      ],
      "text/plain": [
       "<IPython.core.display.Markdown object>"
      ]
     },
     "execution_count": 6,
     "metadata": {},
     "output_type": "execute_result"
    }
   ],
   "source": [
    "#hide_input\n",
    "#md('##### {}'.format(titleBTC)) \n",
    "md(\"- {}{} {}{} [| Skaityti daugiau]({}) \".format(trx['title'],'. ', trx['body'], ' ...', trx['url']))"
   ]
  },
  {
   "cell_type": "code",
   "execution_count": 7,
   "id": "illegal-greece",
   "metadata": {
    "execution": {
     "iopub.execute_input": "2022-09-01T03:38:29.177326Z",
     "iopub.status.busy": "2022-09-01T03:38:29.176534Z",
     "iopub.status.idle": "2022-09-01T03:38:29.180316Z",
     "shell.execute_reply": "2022-09-01T03:38:29.180918Z"
    },
    "papermill": {
     "duration": 0.024162,
     "end_time": "2022-09-01T03:38:29.181060",
     "exception": false,
     "start_time": "2022-09-01T03:38:29.156898",
     "status": "completed"
    },
    "tags": []
   },
   "outputs": [
    {
     "data": {
      "text/markdown": [
       "- There Will No More OpenSea NFTs on ETH PoW Very Soon.  The Ethereum Merge is now just fifteen days ahead of us as per the scheduled date of September. This will transition the Ethereum network to a Proof-of-Stake blockchain making it more scalable and efficient. The world&#8217;s largest NFT marketplace OpenSea said that they will be solely supporting NFTs only on the upgraded Ethereum PoS chain. The post There Will No More OpenSea NFTs on ETH PoW Very Soon appeared first on CoinGape. ... [| Skaityti daugiau](https://coingape.com/there-will-no-more-opensea-nfts-on-eth-pow-very-soon/) "
      ],
      "text/plain": [
       "<IPython.core.display.Markdown object>"
      ]
     },
     "execution_count": 7,
     "metadata": {},
     "output_type": "execute_result"
    }
   ],
   "source": [
    "#hide_input\n",
    "#md('##### {}'.format(titleBTC)) \n",
    "md(\"- {}{} {}{} [| Skaityti daugiau]({}) \".format(eth['title'],'. ', eth['body'], ' ...', eth['url']))"
   ]
  },
  {
   "cell_type": "code",
   "execution_count": 8,
   "id": "sublime-lounge",
   "metadata": {
    "execution": {
     "iopub.execute_input": "2022-09-01T03:38:29.212866Z",
     "iopub.status.busy": "2022-09-01T03:38:29.211980Z",
     "iopub.status.idle": "2022-09-01T03:38:29.217277Z",
     "shell.execute_reply": "2022-09-01T03:38:29.216630Z"
    },
    "papermill": {
     "duration": 0.023129,
     "end_time": "2022-09-01T03:38:29.217411",
     "exception": false,
     "start_time": "2022-09-01T03:38:29.194282",
     "status": "completed"
    },
    "tags": []
   },
   "outputs": [
    {
     "data": {
      "text/markdown": [
       "- GDLC: Where's The Diversification?.  SummaryGrayscale's Digital Large Cap fund is the company's only tradeable fund that has exposure to multiple cryptocurrency assets.Despite that, GDLC has exposure to just five coins and is more allocated to Bitcoin and Ethereum than an industry peer.GDLC's asset inclusion methodology is a big reason why the fund isn't putting more coins into the fund.With the continued failure of spot Bitcoin (BTC-USD) ETF applications, investor demand for Bitcoin exposure has been limited to a handful of options. The most notable of which, is probably the Grayscale investment trusts. Two of which have direct exposure to Bitcoin; pure play Grayscale Bitcoin Investment Trust (OTC:GBTC) and the Grayscale Digital Large Cap (OTCQX:GDLC) fund. The latter of which has exposure to more than one cryptocurrency asset. While GDLC has typically housed somewhere between eight and ten assets, fund shares currently only offer exposure to just five crypto assets:  Asset Ticker Fund Allocation   Bitcoin BTC-USD 63.50%   Ethereum (ETH-USD) 31.24%   Cardano (ADA-USD) 2.53%   Solana (SOL-USD) 1.81%   Avalanche (AVAX-USD) 0.92%  Sources: Grayscale, CoinMarketCapAt a 63% fund allocation to Bitcoin, GDLC is tracking Bitcoin's dominance against proof of work coins as opposed to Bitcoin's dominance in the broad cryptocurrency market.BTC/ETH dominance (CoinMarketCap)Bitcoin's actual dominance against the entire crypto market is actually closer to 40%. Ethereum's is a ... ... [| Skaityti daugiau](https://seekingalpha.com/article/4538283-gdlc-where-is-diversification?utm_source=cryptocompare.com&utm_medium=referral) "
      ],
      "text/plain": [
       "<IPython.core.display.Markdown object>"
      ]
     },
     "execution_count": 8,
     "metadata": {},
     "output_type": "execute_result"
    }
   ],
   "source": [
    "#hide_input\n",
    "#md('##### {}'.format(titleBTC)) \n",
    "md(\"- {}{} {}{} [| Skaityti daugiau]({}) \".format(ada['title'],'. ', ada['body'], ' ...', ada['url']))"
   ]
  },
  {
   "cell_type": "code",
   "execution_count": 9,
   "id": "specified-ordering",
   "metadata": {
    "execution": {
     "iopub.execute_input": "2022-09-01T03:38:29.251955Z",
     "iopub.status.busy": "2022-09-01T03:38:29.251202Z",
     "iopub.status.idle": "2022-09-01T03:38:29.255604Z",
     "shell.execute_reply": "2022-09-01T03:38:29.254983Z"
    },
    "papermill": {
     "duration": 0.024078,
     "end_time": "2022-09-01T03:38:29.255746",
     "exception": false,
     "start_time": "2022-09-01T03:38:29.231668",
     "status": "completed"
    },
    "tags": []
   },
   "outputs": [
    {
     "data": {
      "text/markdown": [
       "- Crypto.com Accidentally Transferred Money to Customer.  Cryptocurrency exchange Crypto.com accidentally transferred 10.5 million Australian dollars to a woman instead of a $100 refund.According to local news outlet 7News, a refund of AUD 100 was sent to Crypto.com by mistake, with AUD 10.5 million for Manivel Thevamanogari and his sister gang Thevamanogari in May 2021. Later, the two sisters used this money [&#8230;] ... [| Skaityti daugiau](https://coinnounce.com/crypto-com-accidentally-transferred-money-to-customer/) "
      ],
      "text/plain": [
       "<IPython.core.display.Markdown object>"
      ]
     },
     "execution_count": 9,
     "metadata": {},
     "output_type": "execute_result"
    }
   ],
   "source": [
    "#hide_input\n",
    "#md('##### {}'.format(titleBTC)) \n",
    "md(\"- {}{} {}{} [| Skaityti daugiau]({}) \".format(exchange['title'],'. ', exchange['body'], ' ...', exchange['url']))"
   ]
  },
  {
   "cell_type": "code",
   "execution_count": null,
   "id": "tender-livestock",
   "metadata": {
    "papermill": {
     "duration": 0.014114,
     "end_time": "2022-09-01T03:38:29.284405",
     "exception": false,
     "start_time": "2022-09-01T03:38:29.270291",
     "status": "completed"
    },
    "tags": []
   },
   "outputs": [],
   "source": []
  },
  {
   "cell_type": "code",
   "execution_count": null,
   "id": "appreciated-diamond",
   "metadata": {
    "papermill": {
     "duration": 0.014019,
     "end_time": "2022-09-01T03:38:29.312587",
     "exception": false,
     "start_time": "2022-09-01T03:38:29.298568",
     "status": "completed"
    },
    "tags": []
   },
   "outputs": [],
   "source": []
  },
  {
   "cell_type": "code",
   "execution_count": null,
   "id": "romance-sweden",
   "metadata": {
    "papermill": {
     "duration": 0.013955,
     "end_time": "2022-09-01T03:38:29.340359",
     "exception": false,
     "start_time": "2022-09-01T03:38:29.326404",
     "status": "completed"
    },
    "tags": []
   },
   "outputs": [],
   "source": []
  },
  {
   "cell_type": "code",
   "execution_count": null,
   "id": "dietary-statistics",
   "metadata": {
    "papermill": {
     "duration": 0.013762,
     "end_time": "2022-09-01T03:38:29.368925",
     "exception": false,
     "start_time": "2022-09-01T03:38:29.355163",
     "status": "completed"
    },
    "tags": []
   },
   "outputs": [],
   "source": []
  }
 ],
 "metadata": {
  "kernelspec": {
   "display_name": "Python 3",
   "language": "python",
   "name": "python3"
  },
  "language_info": {
   "codemirror_mode": {
    "name": "ipython",
    "version": 3
   },
   "file_extension": ".py",
   "mimetype": "text/x-python",
   "name": "python",
   "nbconvert_exporter": "python",
   "pygments_lexer": "ipython3",
   "version": "3.6.15"
  },
  "papermill": {
   "default_parameters": {},
   "duration": 16.771822,
   "end_time": "2022-09-01T03:38:30.204870",
   "environment_variables": {},
   "exception": null,
   "input_path": "Market-News.ipynb",
   "output_path": "Market-News.ipynb",
   "parameters": {},
   "start_time": "2022-09-01T03:38:13.433048",
   "version": "2.2.2"
  }
 },
 "nbformat": 4,
 "nbformat_minor": 5
}