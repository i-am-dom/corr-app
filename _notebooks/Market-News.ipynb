{
 "cells": [
  {
   "cell_type": "markdown",
   "id": "short-greensboro",
   "metadata": {
    "papermill": {
     "duration": 0.013083,
     "end_time": "2022-08-20T03:12:41.586911",
     "exception": false,
     "start_time": "2022-08-20T03:12:41.573828",
     "status": "completed"
    },
    "tags": []
   },
   "source": [
    "# Kriptovaliutų naujienos"
   ]
  },
  {
   "cell_type": "code",
   "execution_count": 1,
   "id": "functioning-knowing",
   "metadata": {
    "execution": {
     "iopub.execute_input": "2022-08-20T03:12:41.617516Z",
     "iopub.status.busy": "2022-08-20T03:12:41.616861Z",
     "iopub.status.idle": "2022-08-20T03:12:42.936147Z",
     "shell.execute_reply": "2022-08-20T03:12:42.935553Z"
    },
    "papermill": {
     "duration": 1.339225,
     "end_time": "2022-08-20T03:12:42.936302",
     "exception": false,
     "start_time": "2022-08-20T03:12:41.597077",
     "status": "completed"
    },
    "tags": []
   },
   "outputs": [],
   "source": [
    "#hide_input\n",
    "import warnings\n",
    "warnings.filterwarnings('ignore')\n",
    "from scripts.read_data import read_api\n",
    "from scripts.read_data import read_news\n",
    "from scripts.read_data import read_covid\n",
    "import matplotlib.pyplot as plt \n",
    "from IPython.display import Markdown as md"
   ]
  },
  {
   "cell_type": "code",
   "execution_count": 2,
   "id": "shared-acceptance",
   "metadata": {
    "execution": {
     "iopub.execute_input": "2022-08-20T03:12:42.962412Z",
     "iopub.status.busy": "2022-08-20T03:12:42.961700Z",
     "iopub.status.idle": "2022-08-20T03:12:55.670415Z",
     "shell.execute_reply": "2022-08-20T03:12:55.669868Z"
    },
    "papermill": {
     "duration": 12.724644,
     "end_time": "2022-08-20T03:12:55.670560",
     "exception": false,
     "start_time": "2022-08-20T03:12:42.945916",
     "status": "completed"
    },
    "tags": []
   },
   "outputs": [],
   "source": [
    "#hide_input\n",
    "blockchain = read_news('blockchain') \n",
    "btc = read_news('btc') \n",
    "xrp = read_news('xrp') \n",
    "trx = read_news('trx') \n",
    "eth = read_news('eth')  \n",
    "ada = read_news('ada')\n",
    "exchange = read_news('exchange') "
   ]
  },
  {
   "cell_type": "code",
   "execution_count": 3,
   "id": "synthetic-notion",
   "metadata": {
    "execution": {
     "iopub.execute_input": "2022-08-20T03:12:55.698444Z",
     "iopub.status.busy": "2022-08-20T03:12:55.697684Z",
     "iopub.status.idle": "2022-08-20T03:12:55.701500Z",
     "shell.execute_reply": "2022-08-20T03:12:55.700986Z"
    },
    "papermill": {
     "duration": 0.021127,
     "end_time": "2022-08-20T03:12:55.701643",
     "exception": false,
     "start_time": "2022-08-20T03:12:55.680516",
     "status": "completed"
    },
    "tags": []
   },
   "outputs": [
    {
     "data": {
      "text/markdown": [
       "- Top 10 PoW Dominance Evaporates 9 Years Later, Only Two Proof-of-Work Coins Will Remain After The Merge.  The crypto community is patiently waiting for the highly anticipated Ethereum network upgrade from proof-of-work (PoW) to proof-of-stake (PoS) as The Merge is expected to happen 27 days from now. After Ethereum transitions from PoW to PoS, only two crypto assets in the top ten market cap rankings will be PoW tokens, which is a [&#8230;] ... [| Skaityti daugiau](https://news.bitcoin.com/top-10-pow-dominance-evaporates-9-years-later-only-two-proof-of-work-coins-will-remain-after-the-merge/) "
      ],
      "text/plain": [
       "<IPython.core.display.Markdown object>"
      ]
     },
     "execution_count": 3,
     "metadata": {},
     "output_type": "execute_result"
    }
   ],
   "source": [
    "#hide_input\n",
    "#md('##### {}'.format(titleBTC)) \n",
    "md(\"- {}{} {}{} [| Skaityti daugiau]({}) \".format(blockchain['title'],'. ', blockchain['body'], ' ...', blockchain['url']))"
   ]
  },
  {
   "cell_type": "code",
   "execution_count": 4,
   "id": "aging-caution",
   "metadata": {
    "execution": {
     "iopub.execute_input": "2022-08-20T03:12:55.727921Z",
     "iopub.status.busy": "2022-08-20T03:12:55.727179Z",
     "iopub.status.idle": "2022-08-20T03:12:55.731209Z",
     "shell.execute_reply": "2022-08-20T03:12:55.730661Z"
    },
    "papermill": {
     "duration": 0.019769,
     "end_time": "2022-08-20T03:12:55.731340",
     "exception": false,
     "start_time": "2022-08-20T03:12:55.711571",
     "status": "completed"
    },
    "tags": []
   },
   "outputs": [
    {
     "data": {
      "text/markdown": [
       "- Bitcoin’s Quiet Revolution: The New Renaissance.  Bitcoin offers the opportunity to present a new version of reality inextricably tied to a new way of determining value, especially for artists. ... [| Skaityti daugiau](https://bitcoinmagazine.com/culture/quiet-bitcoin-revolution-the-new-renaissance) "
      ],
      "text/plain": [
       "<IPython.core.display.Markdown object>"
      ]
     },
     "execution_count": 4,
     "metadata": {},
     "output_type": "execute_result"
    }
   ],
   "source": [
    "#hide_input\n",
    "#md('##### {}'.format(titleBTC)) \n",
    "md(\"- {}{} {}{} [| Skaityti daugiau]({}) \".format(btc['title'],'. ', btc['body'], ' ...', btc['url']))"
   ]
  },
  {
   "cell_type": "code",
   "execution_count": 5,
   "id": "organic-actress",
   "metadata": {
    "execution": {
     "iopub.execute_input": "2022-08-20T03:12:55.757429Z",
     "iopub.status.busy": "2022-08-20T03:12:55.756737Z",
     "iopub.status.idle": "2022-08-20T03:12:55.760679Z",
     "shell.execute_reply": "2022-08-20T03:12:55.761176Z"
    },
    "papermill": {
     "duration": 0.019739,
     "end_time": "2022-08-20T03:12:55.761324",
     "exception": false,
     "start_time": "2022-08-20T03:12:55.741585",
     "status": "completed"
    },
    "tags": []
   },
   "outputs": [
    {
     "data": {
      "text/markdown": [
       "- Ripple Launching XRP-Fueled Payments Service in Brazil in Partnership With Latin American Bank.  Payments platform Ripple Labs is teaming up with Travelex Bank in Brazil to bring XRP-based remittances to the seventh most populous nation in the world. According to a new press release, the San Francisco-based firm says that the partnership makes Travelex the first bank in Latin America to utilize RippleNet’s On-Demand Liquidity (ODL) protocol. ODL [&#8230;]The post Ripple Launching XRP-Fueled Payments Service in Brazil in Partnership With Latin American Bank appeared first on The Daily Hodl. ... [| Skaityti daugiau](https://dailyhodl.com/2022/08/19/ripple-launching-xrp-fueled-payments-service-in-brazil-in-partnership-with-latin-american-bank/) "
      ],
      "text/plain": [
       "<IPython.core.display.Markdown object>"
      ]
     },
     "execution_count": 5,
     "metadata": {},
     "output_type": "execute_result"
    }
   ],
   "source": [
    "#hide_input\n",
    "#md('##### {}'.format(titleBTC)) \n",
    "md(\"- {}{} {}{} [| Skaityti daugiau]({}) \".format(xrp['title'],'. ', xrp['body'], ' ...', xrp['url']))"
   ]
  },
  {
   "cell_type": "code",
   "execution_count": 6,
   "id": "prompt-farmer",
   "metadata": {
    "execution": {
     "iopub.execute_input": "2022-08-20T03:12:55.788169Z",
     "iopub.status.busy": "2022-08-20T03:12:55.787391Z",
     "iopub.status.idle": "2022-08-20T03:12:55.791221Z",
     "shell.execute_reply": "2022-08-20T03:12:55.790731Z"
    },
    "papermill": {
     "duration": 0.019571,
     "end_time": "2022-08-20T03:12:55.791343",
     "exception": false,
     "start_time": "2022-08-20T03:12:55.771772",
     "status": "completed"
    },
    "tags": []
   },
   "outputs": [
    {
     "data": {
      "text/markdown": [
       "- When Will TRON (TRX) Price Be Released From Current Consolidation?.  The Tron (TRX) price is trapped in a no-trading zone ranging from $0.0712 and $0.067 barriers. However, under the influence of an ascending triangle pattern, the altcoin is most likely to breach the overhead resistance. So, how far will its rally go? Key points from TRX analysis The TRX price faces intense supply pressure at The post When Will TRON (TRX) Price Be Released From Current Consolidation?  appeared first on CoinGape. ... [| Skaityti daugiau](https://coingape.com/markets/trx-price-analysis-why-0-07-breakout-could-end-current-consolidation/) "
      ],
      "text/plain": [
       "<IPython.core.display.Markdown object>"
      ]
     },
     "execution_count": 6,
     "metadata": {},
     "output_type": "execute_result"
    }
   ],
   "source": [
    "#hide_input\n",
    "#md('##### {}'.format(titleBTC)) \n",
    "md(\"- {}{} {}{} [| Skaityti daugiau]({}) \".format(trx['title'],'. ', trx['body'], ' ...', trx['url']))"
   ]
  },
  {
   "cell_type": "code",
   "execution_count": 7,
   "id": "illegal-greece",
   "metadata": {
    "execution": {
     "iopub.execute_input": "2022-08-20T03:12:55.821192Z",
     "iopub.status.busy": "2022-08-20T03:12:55.820437Z",
     "iopub.status.idle": "2022-08-20T03:12:55.823945Z",
     "shell.execute_reply": "2022-08-20T03:12:55.824449Z"
    },
    "papermill": {
     "duration": 0.022377,
     "end_time": "2022-08-20T03:12:55.824609",
     "exception": false,
     "start_time": "2022-08-20T03:12:55.802232",
     "status": "completed"
    },
    "tags": []
   },
   "outputs": [
    {
     "data": {
      "text/markdown": [
       "- Bitcoin, Ethereum, Flow, and VeChain Daily Price Analyses – 19 August Roundup.  The global crypto market has seen a recessive pattern despite the efforts for recovery. The ongoing situation has brought losses to the market as the investors struggle. The value of gains for Bitcoin, Binance Coin, and others has continued to lower. The result has been increased sell-offs as investors escape the crashing market. The mentioned &#8230;  Bitcoin, Ethereum, Flow, and VeChain Daily Price Analyses – 19 August Roundup Read More &#187; ... [| Skaityti daugiau](https://www.cryptopolitan.com/bitcoin-ethereum-flow-and-vechain-daily-price-analyses-19-august-roundup/) "
      ],
      "text/plain": [
       "<IPython.core.display.Markdown object>"
      ]
     },
     "execution_count": 7,
     "metadata": {},
     "output_type": "execute_result"
    }
   ],
   "source": [
    "#hide_input\n",
    "#md('##### {}'.format(titleBTC)) \n",
    "md(\"- {}{} {}{} [| Skaityti daugiau]({}) \".format(eth['title'],'. ', eth['body'], ' ...', eth['url']))"
   ]
  },
  {
   "cell_type": "code",
   "execution_count": 8,
   "id": "sublime-lounge",
   "metadata": {
    "execution": {
     "iopub.execute_input": "2022-08-20T03:12:55.852935Z",
     "iopub.status.busy": "2022-08-20T03:12:55.852209Z",
     "iopub.status.idle": "2022-08-20T03:12:55.856084Z",
     "shell.execute_reply": "2022-08-20T03:12:55.856558Z"
    },
    "papermill": {
     "duration": 0.020908,
     "end_time": "2022-08-20T03:12:55.856706",
     "exception": false,
     "start_time": "2022-08-20T03:12:55.835798",
     "status": "completed"
    },
    "tags": []
   },
   "outputs": [
    {
     "data": {
      "text/markdown": [
       "- Cardano price analysis: ADA decline extends as bears target $0.45 after latest sell-off.  Cardano price analysis is highly bearish today, as price continues to slide down to follow an extended decline in place currently. ADA has dropped more than 22 percent over the past 3 days, with 13 percent of the downtrend coming over the past 24 hours. Earlier in the month, Cardano had hit heights at the &#8230;  Cardano price analysis: ADA decline extends as bears target $0.45 after latest sell-off Read More &#187; ... [| Skaityti daugiau](https://www.cryptopolitan.com/cardano-price-analysis-2022-08-19/) "
      ],
      "text/plain": [
       "<IPython.core.display.Markdown object>"
      ]
     },
     "execution_count": 8,
     "metadata": {},
     "output_type": "execute_result"
    }
   ],
   "source": [
    "#hide_input\n",
    "#md('##### {}'.format(titleBTC)) \n",
    "md(\"- {}{} {}{} [| Skaityti daugiau]({}) \".format(ada['title'],'. ', ada['body'], ' ...', ada['url']))"
   ]
  },
  {
   "cell_type": "code",
   "execution_count": 9,
   "id": "specified-ordering",
   "metadata": {
    "execution": {
     "iopub.execute_input": "2022-08-20T03:12:55.885296Z",
     "iopub.status.busy": "2022-08-20T03:12:55.884611Z",
     "iopub.status.idle": "2022-08-20T03:12:55.889400Z",
     "shell.execute_reply": "2022-08-20T03:12:55.888844Z"
    },
    "papermill": {
     "duration": 0.021419,
     "end_time": "2022-08-20T03:12:55.889524",
     "exception": false,
     "start_time": "2022-08-20T03:12:55.868105",
     "status": "completed"
    },
    "tags": []
   },
   "outputs": [
    {
     "data": {
      "text/markdown": [
       "- FTX US Spread False or Misleading Statements About FDIC-insured Products, Regulator Says.  The FDIC sent acease and desist letters to FTX and other crypto companies for spreading false or misleading statements. ... [| Skaityti daugiau](https://cryptopotato.com/ftx-us-spread-false-or-misleading-statements-about-fdic-insured-products-regulator-says/) "
      ],
      "text/plain": [
       "<IPython.core.display.Markdown object>"
      ]
     },
     "execution_count": 9,
     "metadata": {},
     "output_type": "execute_result"
    }
   ],
   "source": [
    "#hide_input\n",
    "#md('##### {}'.format(titleBTC)) \n",
    "md(\"- {}{} {}{} [| Skaityti daugiau]({}) \".format(exchange['title'],'. ', exchange['body'], ' ...', exchange['url']))"
   ]
  },
  {
   "cell_type": "code",
   "execution_count": null,
   "id": "tender-livestock",
   "metadata": {
    "papermill": {
     "duration": 0.01167,
     "end_time": "2022-08-20T03:12:55.913038",
     "exception": false,
     "start_time": "2022-08-20T03:12:55.901368",
     "status": "completed"
    },
    "tags": []
   },
   "outputs": [],
   "source": []
  },
  {
   "cell_type": "code",
   "execution_count": null,
   "id": "appreciated-diamond",
   "metadata": {
    "papermill": {
     "duration": 0.012085,
     "end_time": "2022-08-20T03:12:55.937064",
     "exception": false,
     "start_time": "2022-08-20T03:12:55.924979",
     "status": "completed"
    },
    "tags": []
   },
   "outputs": [],
   "source": []
  },
  {
   "cell_type": "code",
   "execution_count": null,
   "id": "romance-sweden",
   "metadata": {
    "papermill": {
     "duration": 0.011793,
     "end_time": "2022-08-20T03:12:55.960522",
     "exception": false,
     "start_time": "2022-08-20T03:12:55.948729",
     "status": "completed"
    },
    "tags": []
   },
   "outputs": [],
   "source": []
  },
  {
   "cell_type": "code",
   "execution_count": null,
   "id": "dietary-statistics",
   "metadata": {
    "papermill": {
     "duration": 0.011667,
     "end_time": "2022-08-20T03:12:55.983982",
     "exception": false,
     "start_time": "2022-08-20T03:12:55.972315",
     "status": "completed"
    },
    "tags": []
   },
   "outputs": [],
   "source": []
  }
 ],
 "metadata": {
  "kernelspec": {
   "display_name": "Python 3",
   "language": "python",
   "name": "python3"
  },
  "language_info": {
   "codemirror_mode": {
    "name": "ipython",
    "version": 3
   },
   "file_extension": ".py",
   "mimetype": "text/x-python",
   "name": "python",
   "nbconvert_exporter": "python",
   "pygments_lexer": "ipython3",
   "version": "3.6.15"
  },
  "papermill": {
   "default_parameters": {},
   "duration": 16.295128,
   "end_time": "2022-08-20T03:12:56.615115",
   "environment_variables": {},
   "exception": null,
   "input_path": "Market-News.ipynb",
   "output_path": "Market-News.ipynb",
   "parameters": {},
   "start_time": "2022-08-20T03:12:40.319987",
   "version": "2.2.2"
  }
 },
 "nbformat": 4,
 "nbformat_minor": 5
}