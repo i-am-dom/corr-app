{
 "cells": [
  {
   "cell_type": "markdown",
   "id": "short-greensboro",
   "metadata": {
    "papermill": {
     "duration": 0.013057,
     "end_time": "2022-07-23T03:08:58.032538",
     "exception": false,
     "start_time": "2022-07-23T03:08:58.019481",
     "status": "completed"
    },
    "tags": []
   },
   "source": [
    "# Kriptovaliutų naujienos"
   ]
  },
  {
   "cell_type": "code",
   "execution_count": 1,
   "id": "functioning-knowing",
   "metadata": {
    "execution": {
     "iopub.execute_input": "2022-07-23T03:08:58.062839Z",
     "iopub.status.busy": "2022-07-23T03:08:58.062259Z",
     "iopub.status.idle": "2022-07-23T03:08:59.226691Z",
     "shell.execute_reply": "2022-07-23T03:08:59.226194Z"
    },
    "papermill": {
     "duration": 1.18344,
     "end_time": "2022-07-23T03:08:59.226823",
     "exception": false,
     "start_time": "2022-07-23T03:08:58.043383",
     "status": "completed"
    },
    "tags": []
   },
   "outputs": [],
   "source": [
    "#hide_input\n",
    "import warnings\n",
    "warnings.filterwarnings('ignore')\n",
    "from scripts.read_data import read_api\n",
    "from scripts.read_data import read_news\n",
    "from scripts.read_data import read_covid\n",
    "import matplotlib.pyplot as plt \n",
    "from IPython.display import Markdown as md"
   ]
  },
  {
   "cell_type": "code",
   "execution_count": 2,
   "id": "shared-acceptance",
   "metadata": {
    "execution": {
     "iopub.execute_input": "2022-07-23T03:08:59.251189Z",
     "iopub.status.busy": "2022-07-23T03:08:59.250610Z",
     "iopub.status.idle": "2022-07-23T03:09:10.984699Z",
     "shell.execute_reply": "2022-07-23T03:09:10.985175Z"
    },
    "papermill": {
     "duration": 11.749074,
     "end_time": "2022-07-23T03:09:10.985308",
     "exception": false,
     "start_time": "2022-07-23T03:08:59.236234",
     "status": "completed"
    },
    "tags": []
   },
   "outputs": [],
   "source": [
    "#hide_input\n",
    "blockchain = read_news('blockchain') \n",
    "btc = read_news('btc') \n",
    "xrp = read_news('xrp') \n",
    "trx = read_news('trx') \n",
    "eth = read_news('eth')  \n",
    "ada = read_news('ada')\n",
    "exchange = read_news('exchange') "
   ]
  },
  {
   "cell_type": "code",
   "execution_count": 3,
   "id": "synthetic-notion",
   "metadata": {
    "execution": {
     "iopub.execute_input": "2022-07-23T03:09:11.010945Z",
     "iopub.status.busy": "2022-07-23T03:09:11.009901Z",
     "iopub.status.idle": "2022-07-23T03:09:11.013359Z",
     "shell.execute_reply": "2022-07-23T03:09:11.012900Z"
    },
    "papermill": {
     "duration": 0.01883,
     "end_time": "2022-07-23T03:09:11.013456",
     "exception": false,
     "start_time": "2022-07-23T03:09:10.994626",
     "status": "completed"
    },
    "tags": []
   },
   "outputs": [
    {
     "data": {
      "text/markdown": [
       "- Crypto market weekly report for the week ending July 23.  The crypto market weekly report is back once again to give you an insight into the price action followed by five major cryptocurrencies in the past 7 days. It has been interesting to see that compared to the previous week, the market turned bullish and Bitcoin (BTC) and Ether (ETH) rose by significant percentages. Investors [&#8230;]The post Crypto market weekly report for the week ending July 23 appeared first on Blockchain, Crypto and Stock News. ... [| Skaityti daugiau](https://thecoinrise.com/crypto-market-weekly-report-for-the-week-ending-july-23/) "
      ],
      "text/plain": [
       "<IPython.core.display.Markdown object>"
      ]
     },
     "execution_count": 3,
     "metadata": {},
     "output_type": "execute_result"
    }
   ],
   "source": [
    "#hide_input\n",
    "#md('##### {}'.format(titleBTC)) \n",
    "md(\"- {}{} {}{} [| Skaityti daugiau]({}) \".format(blockchain['title'],'. ', blockchain['body'], ' ...', blockchain['url']))"
   ]
  },
  {
   "cell_type": "code",
   "execution_count": 4,
   "id": "aging-caution",
   "metadata": {
    "execution": {
     "iopub.execute_input": "2022-07-23T03:09:11.036584Z",
     "iopub.status.busy": "2022-07-23T03:09:11.035989Z",
     "iopub.status.idle": "2022-07-23T03:09:11.038770Z",
     "shell.execute_reply": "2022-07-23T03:09:11.039197Z"
    },
    "papermill": {
     "duration": 0.016527,
     "end_time": "2022-07-23T03:09:11.039307",
     "exception": false,
     "start_time": "2022-07-23T03:09:11.022780",
     "status": "completed"
    },
    "tags": []
   },
   "outputs": [
    {
     "data": {
      "text/markdown": [
       "- Crypto market weekly report for the week ending July 23.  The crypto market weekly report is back once again to give you an insight into the price action followed by five major cryptocurrencies in the past 7 days. It has been interesting to see that compared to the previous week, the market turned bullish and Bitcoin (BTC) and Ether (ETH) rose by significant percentages. Investors [&#8230;]The post Crypto market weekly report for the week ending July 23 appeared first on Blockchain, Crypto and Stock News. ... [| Skaityti daugiau](https://thecoinrise.com/crypto-market-weekly-report-for-the-week-ending-july-23/) "
      ],
      "text/plain": [
       "<IPython.core.display.Markdown object>"
      ]
     },
     "execution_count": 4,
     "metadata": {},
     "output_type": "execute_result"
    }
   ],
   "source": [
    "#hide_input\n",
    "#md('##### {}'.format(titleBTC)) \n",
    "md(\"- {}{} {}{} [| Skaityti daugiau]({}) \".format(btc['title'],'. ', btc['body'], ' ...', btc['url']))"
   ]
  },
  {
   "cell_type": "code",
   "execution_count": 5,
   "id": "organic-actress",
   "metadata": {
    "execution": {
     "iopub.execute_input": "2022-07-23T03:09:11.062734Z",
     "iopub.status.busy": "2022-07-23T03:09:11.062155Z",
     "iopub.status.idle": "2022-07-23T03:09:11.065704Z",
     "shell.execute_reply": "2022-07-23T03:09:11.065274Z"
    },
    "papermill": {
     "duration": 0.016791,
     "end_time": "2022-07-23T03:09:11.065800",
     "exception": false,
     "start_time": "2022-07-23T03:09:11.049009",
     "status": "completed"
    },
    "tags": []
   },
   "outputs": [
    {
     "data": {
      "text/markdown": [
       "- US Lawmaker Urges SEC to Go After Major Crypto Exchanges That Traded XRP.  U.S. Congressman Brad Sherman has urged the U.S. Securities and Exchange Commission (SEC) to go after major cryptocurrency exchanges that traded xrp, which the regulator deems a security. &#x201C;It&#x2019;s easier to go after the small fish than the big fish, but the big fish operating major exchanges did many, many tens of thousands of transactions [&#8230;] ... [| Skaityti daugiau](https://news.bitcoin.com/us-lawmaker-urges-sec-to-go-after-major-crypto-exchanges-that-traded-xrp/) "
      ],
      "text/plain": [
       "<IPython.core.display.Markdown object>"
      ]
     },
     "execution_count": 5,
     "metadata": {},
     "output_type": "execute_result"
    }
   ],
   "source": [
    "#hide_input\n",
    "#md('##### {}'.format(titleBTC)) \n",
    "md(\"- {}{} {}{} [| Skaityti daugiau]({}) \".format(xrp['title'],'. ', xrp['body'], ' ...', xrp['url']))"
   ]
  },
  {
   "cell_type": "code",
   "execution_count": 6,
   "id": "prompt-farmer",
   "metadata": {
    "execution": {
     "iopub.execute_input": "2022-07-23T03:09:11.089434Z",
     "iopub.status.busy": "2022-07-23T03:09:11.088609Z",
     "iopub.status.idle": "2022-07-23T03:09:11.092378Z",
     "shell.execute_reply": "2022-07-23T03:09:11.092809Z"
    },
    "papermill": {
     "duration": 0.017191,
     "end_time": "2022-07-23T03:09:11.092917",
     "exception": false,
     "start_time": "2022-07-23T03:09:11.075726",
     "status": "completed"
    },
    "tags": []
   },
   "outputs": [
    {
     "data": {
      "text/markdown": [
       "- Shiba Inu Surpasses Tron (TRX), Rising 14% Weekly.  Shiba Inu (SHIB) is currently outpacing Tron (TRX) ... [| Skaityti daugiau](https://u.today/shiba-inu-surpasses-tron-trx-rising-14-weekly) "
      ],
      "text/plain": [
       "<IPython.core.display.Markdown object>"
      ]
     },
     "execution_count": 6,
     "metadata": {},
     "output_type": "execute_result"
    }
   ],
   "source": [
    "#hide_input\n",
    "#md('##### {}'.format(titleBTC)) \n",
    "md(\"- {}{} {}{} [| Skaityti daugiau]({}) \".format(trx['title'],'. ', trx['body'], ' ...', trx['url']))"
   ]
  },
  {
   "cell_type": "code",
   "execution_count": 7,
   "id": "illegal-greece",
   "metadata": {
    "execution": {
     "iopub.execute_input": "2022-07-23T03:09:11.117686Z",
     "iopub.status.busy": "2022-07-23T03:09:11.117129Z",
     "iopub.status.idle": "2022-07-23T03:09:11.120708Z",
     "shell.execute_reply": "2022-07-23T03:09:11.120236Z"
    },
    "papermill": {
     "duration": 0.017469,
     "end_time": "2022-07-23T03:09:11.120803",
     "exception": false,
     "start_time": "2022-07-23T03:09:11.103334",
     "status": "completed"
    },
    "tags": []
   },
   "outputs": [
    {
     "data": {
      "text/markdown": [
       "- 1INCH’s price suffers despite network growth, here’s why.  1Inch network has made significant strides in the last quarter as it saw an uptick in its quarterly revenue. And, amassed a growth in the total transactions processed on the network in Q2 2022, as per a report by Messari (provider of crypto market intelligence products). According to the network&#8217;s co-founder, Sergej Kunz, 1inch is a [&#8230;] ... [| Skaityti daugiau](https://ambcrypto.com/1inch-despite-network-growth-token-continues-to-suffer-heres-why/) "
      ],
      "text/plain": [
       "<IPython.core.display.Markdown object>"
      ]
     },
     "execution_count": 7,
     "metadata": {},
     "output_type": "execute_result"
    }
   ],
   "source": [
    "#hide_input\n",
    "#md('##### {}'.format(titleBTC)) \n",
    "md(\"- {}{} {}{} [| Skaityti daugiau]({}) \".format(eth['title'],'. ', eth['body'], ' ...', eth['url']))"
   ]
  },
  {
   "cell_type": "code",
   "execution_count": 8,
   "id": "sublime-lounge",
   "metadata": {
    "execution": {
     "iopub.execute_input": "2022-07-23T03:09:11.147023Z",
     "iopub.status.busy": "2022-07-23T03:09:11.146472Z",
     "iopub.status.idle": "2022-07-23T03:09:11.149403Z",
     "shell.execute_reply": "2022-07-23T03:09:11.149938Z"
    },
    "papermill": {
     "duration": 0.01762,
     "end_time": "2022-07-23T03:09:11.150045",
     "exception": false,
     "start_time": "2022-07-23T03:09:11.132425",
     "status": "completed"
    },
    "tags": []
   },
   "outputs": [
    {
     "data": {
      "text/markdown": [
       "- Price analysis 7/22: BTC, ETH, BNB, XRP, ADA, SOL, DOGE, DOT, MATIC, AVAX.  Traders are still buying BTC and major altcoins on each dip, but selling near overhead resistance could be a sign that price action will remain range-bound in the short-term. ... [| Skaityti daugiau](https://cointelegraph.com/news/price-analysis-7-22-btc-eth-bnb-xrp-ada-sol-doge-dot-matic-avax) "
      ],
      "text/plain": [
       "<IPython.core.display.Markdown object>"
      ]
     },
     "execution_count": 8,
     "metadata": {},
     "output_type": "execute_result"
    }
   ],
   "source": [
    "#hide_input\n",
    "#md('##### {}'.format(titleBTC)) \n",
    "md(\"- {}{} {}{} [| Skaityti daugiau]({}) \".format(ada['title'],'. ', ada['body'], ' ...', ada['url']))"
   ]
  },
  {
   "cell_type": "code",
   "execution_count": 9,
   "id": "specified-ordering",
   "metadata": {
    "execution": {
     "iopub.execute_input": "2022-07-23T03:09:11.176217Z",
     "iopub.status.busy": "2022-07-23T03:09:11.175647Z",
     "iopub.status.idle": "2022-07-23T03:09:11.178871Z",
     "shell.execute_reply": "2022-07-23T03:09:11.178424Z"
    },
    "papermill": {
     "duration": 0.018031,
     "end_time": "2022-07-23T03:09:11.178964",
     "exception": false,
     "start_time": "2022-07-23T03:09:11.160933",
     "status": "completed"
    },
    "tags": []
   },
   "outputs": [
    {
     "data": {
      "text/markdown": [
       "- US Lawmaker Urges SEC to Go After Major Crypto Exchanges That Traded XRP.  U.S. Congressman Brad Sherman has urged the U.S. Securities and Exchange Commission (SEC) to go after major cryptocurrency exchanges that traded xrp, which the regulator deems a security. &#x201C;It&#x2019;s easier to go after the small fish than the big fish, but the big fish operating major exchanges did many, many tens of thousands of transactions [&#8230;] ... [| Skaityti daugiau](https://news.bitcoin.com/us-lawmaker-urges-sec-to-go-after-major-crypto-exchanges-that-traded-xrp/) "
      ],
      "text/plain": [
       "<IPython.core.display.Markdown object>"
      ]
     },
     "execution_count": 9,
     "metadata": {},
     "output_type": "execute_result"
    }
   ],
   "source": [
    "#hide_input\n",
    "#md('##### {}'.format(titleBTC)) \n",
    "md(\"- {}{} {}{} [| Skaityti daugiau]({}) \".format(exchange['title'],'. ', exchange['body'], ' ...', exchange['url']))"
   ]
  },
  {
   "cell_type": "code",
   "execution_count": null,
   "id": "tender-livestock",
   "metadata": {
    "papermill": {
     "duration": 0.011209,
     "end_time": "2022-07-23T03:09:11.201402",
     "exception": false,
     "start_time": "2022-07-23T03:09:11.190193",
     "status": "completed"
    },
    "tags": []
   },
   "outputs": [],
   "source": []
  },
  {
   "cell_type": "code",
   "execution_count": null,
   "id": "appreciated-diamond",
   "metadata": {
    "papermill": {
     "duration": 0.011152,
     "end_time": "2022-07-23T03:09:11.223868",
     "exception": false,
     "start_time": "2022-07-23T03:09:11.212716",
     "status": "completed"
    },
    "tags": []
   },
   "outputs": [],
   "source": []
  },
  {
   "cell_type": "code",
   "execution_count": null,
   "id": "romance-sweden",
   "metadata": {
    "papermill": {
     "duration": 0.01112,
     "end_time": "2022-07-23T03:09:11.246229",
     "exception": false,
     "start_time": "2022-07-23T03:09:11.235109",
     "status": "completed"
    },
    "tags": []
   },
   "outputs": [],
   "source": []
  },
  {
   "cell_type": "code",
   "execution_count": null,
   "id": "dietary-statistics",
   "metadata": {
    "papermill": {
     "duration": 0.011152,
     "end_time": "2022-07-23T03:09:11.269388",
     "exception": false,
     "start_time": "2022-07-23T03:09:11.258236",
     "status": "completed"
    },
    "tags": []
   },
   "outputs": [],
   "source": []
  }
 ],
 "metadata": {
  "kernelspec": {
   "display_name": "Python 3",
   "language": "python",
   "name": "python3"
  },
  "language_info": {
   "codemirror_mode": {
    "name": "ipython",
    "version": 3
   },
   "file_extension": ".py",
   "mimetype": "text/x-python",
   "name": "python",
   "nbconvert_exporter": "python",
   "pygments_lexer": "ipython3",
   "version": "3.6.15"
  },
  "papermill": {
   "default_parameters": {},
   "duration": 14.508494,
   "end_time": "2022-07-23T03:09:11.598887",
   "environment_variables": {},
   "exception": null,
   "input_path": "Market-News.ipynb",
   "output_path": "Market-News.ipynb",
   "parameters": {},
   "start_time": "2022-07-23T03:08:57.090393",
   "version": "2.2.2"
  }
 },
 "nbformat": 4,
 "nbformat_minor": 5
}