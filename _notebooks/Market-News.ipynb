{
 "cells": [
  {
   "cell_type": "markdown",
   "id": "short-greensboro",
   "metadata": {
    "papermill": {
     "duration": 0.014062,
     "end_time": "2021-10-13T02:05:14.607928",
     "exception": false,
     "start_time": "2021-10-13T02:05:14.593866",
     "status": "completed"
    },
    "tags": []
   },
   "source": [
    "# Kriptovaliutų naujienos"
   ]
  },
  {
   "cell_type": "code",
   "execution_count": 1,
   "id": "functioning-knowing",
   "metadata": {
    "execution": {
     "iopub.execute_input": "2021-10-13T02:05:14.637537Z",
     "iopub.status.busy": "2021-10-13T02:05:14.637002Z",
     "iopub.status.idle": "2021-10-13T02:05:15.809210Z",
     "shell.execute_reply": "2021-10-13T02:05:15.808667Z"
    },
    "papermill": {
     "duration": 1.191636,
     "end_time": "2021-10-13T02:05:15.809371",
     "exception": false,
     "start_time": "2021-10-13T02:05:14.617735",
     "status": "completed"
    },
    "tags": []
   },
   "outputs": [],
   "source": [
    "#hide_input\n",
    "import warnings\n",
    "warnings.filterwarnings('ignore')\n",
    "from scripts.read_data import read_api\n",
    "from scripts.read_data import read_news\n",
    "from scripts.read_data import read_covid\n",
    "import matplotlib.pyplot as plt \n",
    "from IPython.display import Markdown as md"
   ]
  },
  {
   "cell_type": "code",
   "execution_count": 2,
   "id": "shared-acceptance",
   "metadata": {
    "execution": {
     "iopub.execute_input": "2021-10-13T02:05:15.835381Z",
     "iopub.status.busy": "2021-10-13T02:05:15.834457Z",
     "iopub.status.idle": "2021-10-13T02:05:25.383159Z",
     "shell.execute_reply": "2021-10-13T02:05:25.382636Z"
    },
    "papermill": {
     "duration": 9.564234,
     "end_time": "2021-10-13T02:05:25.383298",
     "exception": false,
     "start_time": "2021-10-13T02:05:15.819064",
     "status": "completed"
    },
    "tags": []
   },
   "outputs": [],
   "source": [
    "#hide_input\n",
    "blockchain = read_news('blockchain') \n",
    "btc = read_news('btc') \n",
    "xrp = read_news('xrp') \n",
    "trx = read_news('trx') \n",
    "eth = read_news('eth')  \n",
    "ada = read_news('ada')\n",
    "exchange = read_news('exchange') "
   ]
  },
  {
   "cell_type": "code",
   "execution_count": 3,
   "id": "synthetic-notion",
   "metadata": {
    "execution": {
     "iopub.execute_input": "2021-10-13T02:05:25.408444Z",
     "iopub.status.busy": "2021-10-13T02:05:25.407885Z",
     "iopub.status.idle": "2021-10-13T02:05:25.410054Z",
     "shell.execute_reply": "2021-10-13T02:05:25.410454Z"
    },
    "papermill": {
     "duration": 0.017378,
     "end_time": "2021-10-13T02:05:25.410578",
     "exception": false,
     "start_time": "2021-10-13T02:05:25.393200",
     "status": "completed"
    },
    "tags": []
   },
   "outputs": [
    {
     "data": {
      "text/markdown": [
       "- Elliptic Raises $60M From SoftBank and Wells Fargo to Accelerate Crypto Adoption.  The blockchain analytics firm plans to utilize the funds to accelerate cryptocurrency adoption by institutional clients. ... [| Skaityti daugiau](https://cryptopotato.com/elliptic-raises-60m-from-softbank-and-wells-fargo-to-accelerate-crypto-adoption/) "
      ],
      "text/plain": [
       "<IPython.core.display.Markdown object>"
      ]
     },
     "execution_count": 3,
     "metadata": {},
     "output_type": "execute_result"
    }
   ],
   "source": [
    "#hide_input\n",
    "#md('##### {}'.format(titleBTC)) \n",
    "md(\"- {}{} {}{} [| Skaityti daugiau]({}) \".format(blockchain['title'],'. ', blockchain['body'], ' ...', blockchain['url']))"
   ]
  },
  {
   "cell_type": "code",
   "execution_count": 4,
   "id": "aging-caution",
   "metadata": {
    "execution": {
     "iopub.execute_input": "2021-10-13T02:05:25.434405Z",
     "iopub.status.busy": "2021-10-13T02:05:25.433845Z",
     "iopub.status.idle": "2021-10-13T02:05:25.437060Z",
     "shell.execute_reply": "2021-10-13T02:05:25.436651Z"
    },
    "papermill": {
     "duration": 0.017189,
     "end_time": "2021-10-13T02:05:25.437169",
     "exception": false,
     "start_time": "2021-10-13T02:05:25.419980",
     "status": "completed"
    },
    "tags": []
   },
   "outputs": [
    {
     "data": {
      "text/markdown": [
       "- Stripe builds new crypto team for payments three years after dropping Bitcoin.  After pulling back from Bitcoin three years ago, Stripe is looking to re-enter the crypto sector. ... [| Skaityti daugiau](https://cointelegraph.com/news/stripe-builds-new-crypto-team-for-payments-three-years-after-dropping-bitcoin) "
      ],
      "text/plain": [
       "<IPython.core.display.Markdown object>"
      ]
     },
     "execution_count": 4,
     "metadata": {},
     "output_type": "execute_result"
    }
   ],
   "source": [
    "#hide_input\n",
    "#md('##### {}'.format(titleBTC)) \n",
    "md(\"- {}{} {}{} [| Skaityti daugiau]({}) \".format(btc['title'],'. ', btc['body'], ' ...', btc['url']))"
   ]
  },
  {
   "cell_type": "code",
   "execution_count": 5,
   "id": "organic-actress",
   "metadata": {
    "execution": {
     "iopub.execute_input": "2021-10-13T02:05:25.460868Z",
     "iopub.status.busy": "2021-10-13T02:05:25.460325Z",
     "iopub.status.idle": "2021-10-13T02:05:25.463352Z",
     "shell.execute_reply": "2021-10-13T02:05:25.462950Z"
    },
    "papermill": {
     "duration": 0.016709,
     "end_time": "2021-10-13T02:05:25.463460",
     "exception": false,
     "start_time": "2021-10-13T02:05:25.446751",
     "status": "completed"
    },
    "tags": []
   },
   "outputs": [
    {
     "data": {
      "text/markdown": [
       "- These near-term support levels could be key for an XRP rally.  XRP was forming its third red candle in a row as the alt continued to pare gains after a run up to $1.23. Moving forward, the spotlight would be on the zone between the daily 20-SMA, 200-SMA and the 50% Fibonacci level. A rebound from this confluence can instigate a fresh rally for XRP once [&#8230;] ... [| Skaityti daugiau](https://ambcrypto.com/these-near-term-support-levels-could-be-key-for-an-xrp-rally/) "
      ],
      "text/plain": [
       "<IPython.core.display.Markdown object>"
      ]
     },
     "execution_count": 5,
     "metadata": {},
     "output_type": "execute_result"
    }
   ],
   "source": [
    "#hide_input\n",
    "#md('##### {}'.format(titleBTC)) \n",
    "md(\"- {}{} {}{} [| Skaityti daugiau]({}) \".format(xrp['title'],'. ', xrp['body'], ' ...', xrp['url']))"
   ]
  },
  {
   "cell_type": "code",
   "execution_count": 6,
   "id": "prompt-farmer",
   "metadata": {
    "execution": {
     "iopub.execute_input": "2021-10-13T02:05:25.488078Z",
     "iopub.status.busy": "2021-10-13T02:05:25.487569Z",
     "iopub.status.idle": "2021-10-13T02:05:25.490819Z",
     "shell.execute_reply": "2021-10-13T02:05:25.490391Z"
    },
    "papermill": {
     "duration": 0.017584,
     "end_time": "2021-10-13T02:05:25.490923",
     "exception": false,
     "start_time": "2021-10-13T02:05:25.473339",
     "status": "completed"
    },
    "tags": []
   },
   "outputs": [
    {
     "data": {
      "text/markdown": [
       "- Moonstake Wallet Now Supports Staking of TRON (TRX).  Moonstake is now an official &#8216;super partner&#8217; of TRON Network. Users can stake TRX to earn staking rewards on Moonstake web wallet and mobile wallet. Hold, send, receive and stake TRX to receive rewards with the best user experience through one single click. TRON became the 13th available staking coin on Moonstake. Moonstake started its [&#8230;]The post Moonstake Wallet Now Supports Staking of TRON (TRX) appeared first on The Daily Hodl. ... [| Skaityti daugiau](https://dailyhodl.com/2021/10/08/moonstake-wallet-now-supports-staking-of-tron-trx/) "
      ],
      "text/plain": [
       "<IPython.core.display.Markdown object>"
      ]
     },
     "execution_count": 6,
     "metadata": {},
     "output_type": "execute_result"
    }
   ],
   "source": [
    "#hide_input\n",
    "#md('##### {}'.format(titleBTC)) \n",
    "md(\"- {}{} {}{} [| Skaityti daugiau]({}) \".format(trx['title'],'. ', trx['body'], ' ...', trx['url']))"
   ]
  },
  {
   "cell_type": "code",
   "execution_count": 7,
   "id": "illegal-greece",
   "metadata": {
    "execution": {
     "iopub.execute_input": "2021-10-13T02:05:25.516185Z",
     "iopub.status.busy": "2021-10-13T02:05:25.515686Z",
     "iopub.status.idle": "2021-10-13T02:05:25.518738Z",
     "shell.execute_reply": "2021-10-13T02:05:25.518333Z"
    },
    "papermill": {
     "duration": 0.017446,
     "end_time": "2021-10-13T02:05:25.518845",
     "exception": false,
     "start_time": "2021-10-13T02:05:25.501399",
     "status": "completed"
    },
    "tags": []
   },
   "outputs": [
    {
     "data": {
      "text/markdown": [
       "- Vitalik Buterin Reveals Biggest Fears About Ethereum, Tells What He’d Do Differently If He Was Satoshi.  Vitalik Buterin critiques crypto-community over pro-crypto views. Despite its success, Ethereum’s Vitalik Buterin is still worried about the network making cultural mistakes. Buterin remains unfazed about criticism as he opens up about the downsides of Bitcoin. Co-founder of Ethereum, Vitalik Buterin has for the first time in a while spoken at length about his views [&#8230;] ... [| Skaityti daugiau](https://zycrypto.com/vitalik-buterin-reveals-biggest-fears-about-ethereum-tells-what-hed-do-differently-if-he-was-satoshi/) "
      ],
      "text/plain": [
       "<IPython.core.display.Markdown object>"
      ]
     },
     "execution_count": 7,
     "metadata": {},
     "output_type": "execute_result"
    }
   ],
   "source": [
    "#hide_input\n",
    "#md('##### {}'.format(titleBTC)) \n",
    "md(\"- {}{} {}{} [| Skaityti daugiau]({}) \".format(eth['title'],'. ', eth['body'], ' ...', eth['url']))"
   ]
  },
  {
   "cell_type": "code",
   "execution_count": 8,
   "id": "sublime-lounge",
   "metadata": {
    "execution": {
     "iopub.execute_input": "2021-10-13T02:05:25.544692Z",
     "iopub.status.busy": "2021-10-13T02:05:25.543559Z",
     "iopub.status.idle": "2021-10-13T02:05:25.547701Z",
     "shell.execute_reply": "2021-10-13T02:05:25.547293Z"
    },
    "papermill": {
     "duration": 0.018384,
     "end_time": "2021-10-13T02:05:25.547807",
     "exception": false,
     "start_time": "2021-10-13T02:05:25.529423",
     "status": "completed"
    },
    "tags": []
   },
   "outputs": [
    {
     "data": {
      "text/markdown": [
       "- Cardano Founder Charles Hoskinson To Tour Africa, Here’s Why.  Cardano has focused its attention on projects which are building on the blockchain. This is because after the launch of smart contracts capability on the network, the next phase was getting developers to deploy their applications on the ecosystem. Cardano, through EMURGO, has invested in a number of startup projects to boost the adoption of [&#8230;] ... [| Skaityti daugiau](https://bitcoinist.com/cardano-founder-charles-hoskinson-to-tour-africa-heres-why/?utm_source=rss&utm_medium=rss&utm_campaign=cardano-founder-charles-hoskinson-to-tour-africa-heres-why) "
      ],
      "text/plain": [
       "<IPython.core.display.Markdown object>"
      ]
     },
     "execution_count": 8,
     "metadata": {},
     "output_type": "execute_result"
    }
   ],
   "source": [
    "#hide_input\n",
    "#md('##### {}'.format(titleBTC)) \n",
    "md(\"- {}{} {}{} [| Skaityti daugiau]({}) \".format(ada['title'],'. ', ada['body'], ' ...', ada['url']))"
   ]
  },
  {
   "cell_type": "code",
   "execution_count": 9,
   "id": "specified-ordering",
   "metadata": {
    "execution": {
     "iopub.execute_input": "2021-10-13T02:05:25.574162Z",
     "iopub.status.busy": "2021-10-13T02:05:25.573669Z",
     "iopub.status.idle": "2021-10-13T02:05:25.576909Z",
     "shell.execute_reply": "2021-10-13T02:05:25.576497Z"
    },
    "papermill": {
     "duration": 0.018329,
     "end_time": "2021-10-13T02:05:25.577013",
     "exception": false,
     "start_time": "2021-10-13T02:05:25.558684",
     "status": "completed"
    },
    "tags": []
   },
   "outputs": [
    {
     "data": {
      "text/markdown": [
       "- Coinbase Launching NFT Marketplace With Social Features to Grow Creator Community ‘Exponentially’.  Cryptocurrency exchange Coinbase is launching a peer-to-peer marketplace for non-fungible tokens (NFTs). The Nasdaq-listed company says that &#x201C;Coinbase NFT&#x201D; will make &#x201C;minting, purchasing, showcasing, and discovering NFTs easier than ever.&#x201D; In addition, Coinbase says, &#x201C;We&#x2019;re going to grow the creator community exponentially, a win for artists and for fans.&#x201D; Coinbase NFT to Help Grow Creator [&#8230;] ... [| Skaityti daugiau](https://news.bitcoin.com/coinbase-launching-nft-marketplace-social-features/) "
      ],
      "text/plain": [
       "<IPython.core.display.Markdown object>"
      ]
     },
     "execution_count": 9,
     "metadata": {},
     "output_type": "execute_result"
    }
   ],
   "source": [
    "#hide_input\n",
    "#md('##### {}'.format(titleBTC)) \n",
    "md(\"- {}{} {}{} [| Skaityti daugiau]({}) \".format(exchange['title'],'. ', exchange['body'], ' ...', exchange['url']))"
   ]
  },
  {
   "cell_type": "code",
   "execution_count": null,
   "id": "tender-livestock",
   "metadata": {
    "papermill": {
     "duration": 0.011151,
     "end_time": "2021-10-13T02:05:25.599326",
     "exception": false,
     "start_time": "2021-10-13T02:05:25.588175",
     "status": "completed"
    },
    "tags": []
   },
   "outputs": [],
   "source": []
  },
  {
   "cell_type": "code",
   "execution_count": null,
   "id": "appreciated-diamond",
   "metadata": {
    "papermill": {
     "duration": 0.011226,
     "end_time": "2021-10-13T02:05:25.621957",
     "exception": false,
     "start_time": "2021-10-13T02:05:25.610731",
     "status": "completed"
    },
    "tags": []
   },
   "outputs": [],
   "source": []
  },
  {
   "cell_type": "code",
   "execution_count": null,
   "id": "romance-sweden",
   "metadata": {
    "papermill": {
     "duration": 0.01116,
     "end_time": "2021-10-13T02:05:25.644427",
     "exception": false,
     "start_time": "2021-10-13T02:05:25.633267",
     "status": "completed"
    },
    "tags": []
   },
   "outputs": [],
   "source": []
  },
  {
   "cell_type": "code",
   "execution_count": null,
   "id": "dietary-statistics",
   "metadata": {
    "papermill": {
     "duration": 0.011179,
     "end_time": "2021-10-13T02:05:25.666794",
     "exception": false,
     "start_time": "2021-10-13T02:05:25.655615",
     "status": "completed"
    },
    "tags": []
   },
   "outputs": [],
   "source": []
  }
 ],
 "metadata": {
  "kernelspec": {
   "display_name": "Python 3",
   "language": "python",
   "name": "python3"
  },
  "language_info": {
   "codemirror_mode": {
    "name": "ipython",
    "version": 3
   },
   "file_extension": ".py",
   "mimetype": "text/x-python",
   "name": "python",
   "nbconvert_exporter": "python",
   "pygments_lexer": "ipython3",
   "version": "3.6.15"
  },
  "papermill": {
   "default_parameters": {},
   "duration": 12.53074,
   "end_time": "2021-10-13T02:05:26.086156",
   "environment_variables": {},
   "exception": null,
   "input_path": "Market-News.ipynb",
   "output_path": "Market-News.ipynb",
   "parameters": {},
   "start_time": "2021-10-13T02:05:13.555416",
   "version": "2.2.2"
  }
 },
 "nbformat": 4,
 "nbformat_minor": 5
}