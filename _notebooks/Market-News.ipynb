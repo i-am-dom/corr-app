{
 "cells": [
  {
   "cell_type": "markdown",
   "id": "short-greensboro",
   "metadata": {
    "papermill": {
     "duration": 0.011951,
     "end_time": "2022-06-27T03:16:49.653355",
     "exception": false,
     "start_time": "2022-06-27T03:16:49.641404",
     "status": "completed"
    },
    "tags": []
   },
   "source": [
    "# Kriptovaliutų naujienos"
   ]
  },
  {
   "cell_type": "code",
   "execution_count": 1,
   "id": "functioning-knowing",
   "metadata": {
    "execution": {
     "iopub.execute_input": "2022-06-27T03:16:49.680573Z",
     "iopub.status.busy": "2022-06-27T03:16:49.679999Z",
     "iopub.status.idle": "2022-06-27T03:16:50.899859Z",
     "shell.execute_reply": "2022-06-27T03:16:50.899200Z"
    },
    "papermill": {
     "duration": 1.238188,
     "end_time": "2022-06-27T03:16:50.900023",
     "exception": false,
     "start_time": "2022-06-27T03:16:49.661835",
     "status": "completed"
    },
    "tags": []
   },
   "outputs": [],
   "source": [
    "#hide_input\n",
    "import warnings\n",
    "warnings.filterwarnings('ignore')\n",
    "from scripts.read_data import read_api\n",
    "from scripts.read_data import read_news\n",
    "from scripts.read_data import read_covid\n",
    "import matplotlib.pyplot as plt \n",
    "from IPython.display import Markdown as md"
   ]
  },
  {
   "cell_type": "code",
   "execution_count": 2,
   "id": "shared-acceptance",
   "metadata": {
    "execution": {
     "iopub.execute_input": "2022-06-27T03:16:50.926320Z",
     "iopub.status.busy": "2022-06-27T03:16:50.925339Z",
     "iopub.status.idle": "2022-06-27T03:17:00.703866Z",
     "shell.execute_reply": "2022-06-27T03:17:00.702864Z"
    },
    "papermill": {
     "duration": 9.793617,
     "end_time": "2022-06-27T03:17:00.704003",
     "exception": false,
     "start_time": "2022-06-27T03:16:50.910386",
     "status": "completed"
    },
    "tags": []
   },
   "outputs": [],
   "source": [
    "#hide_input\n",
    "blockchain = read_news('blockchain') \n",
    "btc = read_news('btc') \n",
    "xrp = read_news('xrp') \n",
    "trx = read_news('trx') \n",
    "eth = read_news('eth')  \n",
    "ada = read_news('ada')\n",
    "exchange = read_news('exchange') "
   ]
  },
  {
   "cell_type": "code",
   "execution_count": 3,
   "id": "synthetic-notion",
   "metadata": {
    "execution": {
     "iopub.execute_input": "2022-06-27T03:17:00.729025Z",
     "iopub.status.busy": "2022-06-27T03:17:00.728365Z",
     "iopub.status.idle": "2022-06-27T03:17:00.731221Z",
     "shell.execute_reply": "2022-06-27T03:17:00.731678Z"
    },
    "papermill": {
     "duration": 0.018375,
     "end_time": "2022-06-27T03:17:00.731808",
     "exception": false,
     "start_time": "2022-06-27T03:17:00.713433",
     "status": "completed"
    },
    "tags": []
   },
   "outputs": [
    {
     "data": {
      "text/markdown": [
       "- Harmony Offered a ‘bounty’ of $ 1M for Return of Hacked Funds.  The proof-of-stake (PoS) blockchain Harmony Protocol tweeted an offer of a $1 million reward for information regarding the Thursday hack of its Ethereum-linked Horizon bridge, which resulted in the loss of $100 million in cryptocurrency. &#8220;We commit to a $1M bounty for the return of Horizon bridge funds and sharing exploit information. Contact us at whitehat@harmony.one or ETH address [&#8230;] ... [| Skaityti daugiau](https://coinnounce.com/harmony-offered-a-bounty-of-1m-for-return-of-hacked-funds/) "
      ],
      "text/plain": [
       "<IPython.core.display.Markdown object>"
      ]
     },
     "execution_count": 3,
     "metadata": {},
     "output_type": "execute_result"
    }
   ],
   "source": [
    "#hide_input\n",
    "#md('##### {}'.format(titleBTC)) \n",
    "md(\"- {}{} {}{} [| Skaityti daugiau]({}) \".format(blockchain['title'],'. ', blockchain['body'], ' ...', blockchain['url']))"
   ]
  },
  {
   "cell_type": "code",
   "execution_count": 4,
   "id": "aging-caution",
   "metadata": {
    "execution": {
     "iopub.execute_input": "2022-06-27T03:17:00.755378Z",
     "iopub.status.busy": "2022-06-27T03:17:00.754756Z",
     "iopub.status.idle": "2022-06-27T03:17:00.757866Z",
     "shell.execute_reply": "2022-06-27T03:17:00.758309Z"
    },
    "papermill": {
     "duration": 0.017294,
     "end_time": "2022-06-27T03:17:00.758434",
     "exception": false,
     "start_time": "2022-06-27T03:17:00.741140",
     "status": "completed"
    },
    "tags": []
   },
   "outputs": [
    {
     "data": {
      "text/markdown": [
       "- Harmony Offered a ‘bounty’ of $ 1M for Return of Hacked Funds.  The proof-of-stake (PoS) blockchain Harmony Protocol tweeted an offer of a $1 million reward for information regarding the Thursday hack of its Ethereum-linked Horizon bridge, which resulted in the loss of $100 million in cryptocurrency. &#8220;We commit to a $1M bounty for the return of Horizon bridge funds and sharing exploit information. Contact us at whitehat@harmony.one or ETH address [&#8230;] ... [| Skaityti daugiau](https://coinnounce.com/harmony-offered-a-bounty-of-1m-for-return-of-hacked-funds/) "
      ],
      "text/plain": [
       "<IPython.core.display.Markdown object>"
      ]
     },
     "execution_count": 4,
     "metadata": {},
     "output_type": "execute_result"
    }
   ],
   "source": [
    "#hide_input\n",
    "#md('##### {}'.format(titleBTC)) \n",
    "md(\"- {}{} {}{} [| Skaityti daugiau]({}) \".format(btc['title'],'. ', btc['body'], ' ...', btc['url']))"
   ]
  },
  {
   "cell_type": "code",
   "execution_count": 5,
   "id": "organic-actress",
   "metadata": {
    "execution": {
     "iopub.execute_input": "2022-06-27T03:17:00.782516Z",
     "iopub.status.busy": "2022-06-27T03:17:00.781863Z",
     "iopub.status.idle": "2022-06-27T03:17:00.785132Z",
     "shell.execute_reply": "2022-06-27T03:17:00.784654Z"
    },
    "papermill": {
     "duration": 0.017406,
     "end_time": "2022-06-27T03:17:00.785239",
     "exception": false,
     "start_time": "2022-06-27T03:17:00.767833",
     "status": "completed"
    },
    "tags": []
   },
   "outputs": [
    {
     "data": {
      "text/markdown": [
       "- XRP Steady At $0.36, Could The Bulls Be Back?.  XRP has been moving laterally over the last few days and the price has steadied at $0.36. After facing consistent resistance at the $0.35 price mark, the coin finally managed to move past the aforementioned price ceiling. The altcoin has been trading in the green over the last 24 hours, it rose by 1.5%. In the past week, XRP appreciated by double digits. Recently, on the developmental front XRP has plans to extend its operations to Canada in order to make that a new Crypto Hub. The coin has displayed positive sentiments as XRP managed to touch $0.38 on its chart. Shortly after touching the $0.38 level, it displayed a pull back. Buying power also increased as the coin displayed price optimism, the asset was even overbought over the last couple of days. After the price correction, XRP has retreated from the overbought region. The global cryptocurrency market cap today is $1.01 Trillion with a 1.4% positive change in the last 24 hours. XRP Price Analysis: Four Hour Chart The altcoin was trading at $0.36 on the four hour chart. The overhead resistance for the coin stood at $0.38, XRP pulled back right after it touched the aforementioned price level. The technical outlook of the coin painted an incoming bullish price move. If XRP manages to breach the $0.38 level then the coin might trade around the $0.46 level. After this, XRP could attempt to reach the $0.52 resistance mark. Immediate support level for the coin stood at $0.34. A ... ... [| Skaityti daugiau](https://www.newsbtc.com/news/xrp-steady-at-0-36-could-the-bulls-be-back/) "
      ],
      "text/plain": [
       "<IPython.core.display.Markdown object>"
      ]
     },
     "execution_count": 5,
     "metadata": {},
     "output_type": "execute_result"
    }
   ],
   "source": [
    "#hide_input\n",
    "#md('##### {}'.format(titleBTC)) \n",
    "md(\"- {}{} {}{} [| Skaityti daugiau]({}) \".format(xrp['title'],'. ', xrp['body'], ' ...', xrp['url']))"
   ]
  },
  {
   "cell_type": "code",
   "execution_count": 6,
   "id": "prompt-farmer",
   "metadata": {
    "execution": {
     "iopub.execute_input": "2022-06-27T03:17:00.810522Z",
     "iopub.status.busy": "2022-06-27T03:17:00.809936Z",
     "iopub.status.idle": "2022-06-27T03:17:00.813861Z",
     "shell.execute_reply": "2022-06-27T03:17:00.813389Z"
    },
    "papermill": {
     "duration": 0.018841,
     "end_time": "2022-06-27T03:17:00.813970",
     "exception": false,
     "start_time": "2022-06-27T03:17:00.795129",
     "status": "completed"
    },
    "tags": []
   },
   "outputs": [
    {
     "data": {
      "text/markdown": [
       "- Tron’s (TRX) Total Accounts Hits a New Milestone of 100M As the Project Celebrates its 4th Anniversary.  Summary: The total number of accounts on the Tron blockchain has hit a new milestone of 100 million. Tron is also celebrating its 4th Anniversary as an independent chain after migrating from Ethereum on June 25th, 2018. The total number of accounts on the Tron blockchain has hit a new milestone of 100 million. The team at Tron DAO highlighted the milestone through the tweet below which also pointed out that Tron was &#8216;the world&#8217;s fastest growing public chain with [&#8230;] ... [| Skaityti daugiau](https://en.ethereumworldnews.com/trons-trx-accounts-hit-100m-as-the-project-celebrates-4th-anniversary/) "
      ],
      "text/plain": [
       "<IPython.core.display.Markdown object>"
      ]
     },
     "execution_count": 6,
     "metadata": {},
     "output_type": "execute_result"
    }
   ],
   "source": [
    "#hide_input\n",
    "#md('##### {}'.format(titleBTC)) \n",
    "md(\"- {}{} {}{} [| Skaityti daugiau]({}) \".format(trx['title'],'. ', trx['body'], ' ...', trx['url']))"
   ]
  },
  {
   "cell_type": "code",
   "execution_count": 7,
   "id": "illegal-greece",
   "metadata": {
    "execution": {
     "iopub.execute_input": "2022-06-27T03:17:00.839569Z",
     "iopub.status.busy": "2022-06-27T03:17:00.838996Z",
     "iopub.status.idle": "2022-06-27T03:17:00.842774Z",
     "shell.execute_reply": "2022-06-27T03:17:00.842294Z"
    },
    "papermill": {
     "duration": 0.018494,
     "end_time": "2022-06-27T03:17:00.842884",
     "exception": false,
     "start_time": "2022-06-27T03:17:00.824390",
     "status": "completed"
    },
    "tags": []
   },
   "outputs": [
    {
     "data": {
      "text/markdown": [
       "- Harmony Offered a ‘bounty’ of $ 1M for Return of Hacked Funds.  The proof-of-stake (PoS) blockchain Harmony Protocol tweeted an offer of a $1 million reward for information regarding the Thursday hack of its Ethereum-linked Horizon bridge, which resulted in the loss of $100 million in cryptocurrency. &#8220;We commit to a $1M bounty for the return of Horizon bridge funds and sharing exploit information. Contact us at whitehat@harmony.one or ETH address [&#8230;] ... [| Skaityti daugiau](https://coinnounce.com/harmony-offered-a-bounty-of-1m-for-return-of-hacked-funds/) "
      ],
      "text/plain": [
       "<IPython.core.display.Markdown object>"
      ]
     },
     "execution_count": 7,
     "metadata": {},
     "output_type": "execute_result"
    }
   ],
   "source": [
    "#hide_input\n",
    "#md('##### {}'.format(titleBTC)) \n",
    "md(\"- {}{} {}{} [| Skaityti daugiau]({}) \".format(eth['title'],'. ', eth['body'], ' ...', eth['url']))"
   ]
  },
  {
   "cell_type": "code",
   "execution_count": 8,
   "id": "sublime-lounge",
   "metadata": {
    "execution": {
     "iopub.execute_input": "2022-06-27T03:17:00.870606Z",
     "iopub.status.busy": "2022-06-27T03:17:00.870029Z",
     "iopub.status.idle": "2022-06-27T03:17:00.873930Z",
     "shell.execute_reply": "2022-06-27T03:17:00.873455Z"
    },
    "papermill": {
     "duration": 0.019439,
     "end_time": "2022-06-27T03:17:00.874038",
     "exception": false,
     "start_time": "2022-06-27T03:17:00.854599",
     "status": "completed"
    },
    "tags": []
   },
   "outputs": [
    {
     "data": {
      "text/markdown": [
       "- Cardano: Is ADA all set for a bull marathon amid the successful roll out of node 1.35.0?.  Top crypto projects such as Cardano [ADA] seem to have doubled down on their growth and development during the bear market. Input Output Hong Kong (IOHK), the company responsible for developing the Cardano blockchain announced a development milestone. IOHK revealed that it successfully rolled out node 1.35.0, a major milestone ahead of its mainnet Vasil [&#8230;] ... [| Skaityti daugiau](https://ambcrypto.com/cardano-is-ada-all-set-for-a-bull-marathon-amid-the-successful-roll-out-of-node-1-35-0/) "
      ],
      "text/plain": [
       "<IPython.core.display.Markdown object>"
      ]
     },
     "execution_count": 8,
     "metadata": {},
     "output_type": "execute_result"
    }
   ],
   "source": [
    "#hide_input\n",
    "#md('##### {}'.format(titleBTC)) \n",
    "md(\"- {}{} {}{} [| Skaityti daugiau]({}) \".format(ada['title'],'. ', ada['body'], ' ...', ada['url']))"
   ]
  },
  {
   "cell_type": "code",
   "execution_count": 9,
   "id": "specified-ordering",
   "metadata": {
    "execution": {
     "iopub.execute_input": "2022-06-27T03:17:00.900554Z",
     "iopub.status.busy": "2022-06-27T03:17:00.899951Z",
     "iopub.status.idle": "2022-06-27T03:17:00.903846Z",
     "shell.execute_reply": "2022-06-27T03:17:00.903377Z"
    },
    "papermill": {
     "duration": 0.019101,
     "end_time": "2022-06-27T03:17:00.903951",
     "exception": false,
     "start_time": "2022-06-27T03:17:00.884850",
     "status": "completed"
    },
    "tags": []
   },
   "outputs": [
    {
     "data": {
      "text/markdown": [
       "- Binance Launches Platform For Institutional And VIP Investors.  The cryptocurrency exchange Binance is now launching flagship platform for VIP and Institutional users. This flagship platform is called &#8220;Binance Institutional&#8221;. This the crypto exchange&#8217;s way of upgrading its operations by improving and also enhancing their services by providing institutional offerings. Binance announced through a tweet that the platform has decided to launch this particular [&#8230;] ... [| Skaityti daugiau](https://bitcoinist.com/binance-platform-institutional-and-vip-investors/) "
      ],
      "text/plain": [
       "<IPython.core.display.Markdown object>"
      ]
     },
     "execution_count": 9,
     "metadata": {},
     "output_type": "execute_result"
    }
   ],
   "source": [
    "#hide_input\n",
    "#md('##### {}'.format(titleBTC)) \n",
    "md(\"- {}{} {}{} [| Skaityti daugiau]({}) \".format(exchange['title'],'. ', exchange['body'], ' ...', exchange['url']))"
   ]
  },
  {
   "cell_type": "code",
   "execution_count": null,
   "id": "tender-livestock",
   "metadata": {
    "papermill": {
     "duration": 0.011133,
     "end_time": "2022-06-27T03:17:00.926222",
     "exception": false,
     "start_time": "2022-06-27T03:17:00.915089",
     "status": "completed"
    },
    "tags": []
   },
   "outputs": [],
   "source": []
  },
  {
   "cell_type": "code",
   "execution_count": null,
   "id": "appreciated-diamond",
   "metadata": {
    "papermill": {
     "duration": 0.011084,
     "end_time": "2022-06-27T03:17:00.948610",
     "exception": false,
     "start_time": "2022-06-27T03:17:00.937526",
     "status": "completed"
    },
    "tags": []
   },
   "outputs": [],
   "source": []
  },
  {
   "cell_type": "code",
   "execution_count": null,
   "id": "romance-sweden",
   "metadata": {
    "papermill": {
     "duration": 0.011112,
     "end_time": "2022-06-27T03:17:00.970822",
     "exception": false,
     "start_time": "2022-06-27T03:17:00.959710",
     "status": "completed"
    },
    "tags": []
   },
   "outputs": [],
   "source": []
  },
  {
   "cell_type": "code",
   "execution_count": null,
   "id": "dietary-statistics",
   "metadata": {
    "papermill": {
     "duration": 0.011556,
     "end_time": "2022-06-27T03:17:00.993614",
     "exception": false,
     "start_time": "2022-06-27T03:17:00.982058",
     "status": "completed"
    },
    "tags": []
   },
   "outputs": [],
   "source": []
  }
 ],
 "metadata": {
  "kernelspec": {
   "display_name": "Python 3",
   "language": "python",
   "name": "python3"
  },
  "language_info": {
   "codemirror_mode": {
    "name": "ipython",
    "version": 3
   },
   "file_extension": ".py",
   "mimetype": "text/x-python",
   "name": "python",
   "nbconvert_exporter": "python",
   "pygments_lexer": "ipython3",
   "version": "3.6.15"
  },
  "papermill": {
   "default_parameters": {},
   "duration": 12.705638,
   "end_time": "2022-06-27T03:17:01.423429",
   "environment_variables": {},
   "exception": null,
   "input_path": "Market-News.ipynb",
   "output_path": "Market-News.ipynb",
   "parameters": {},
   "start_time": "2022-06-27T03:16:48.717791",
   "version": "2.2.2"
  }
 },
 "nbformat": 4,
 "nbformat_minor": 5
}