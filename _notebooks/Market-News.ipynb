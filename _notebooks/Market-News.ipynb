{
 "cells": [
  {
   "cell_type": "markdown",
   "id": "short-greensboro",
   "metadata": {
    "papermill": {
     "duration": 0.012927,
     "end_time": "2022-10-29T03:07:44.036281",
     "exception": false,
     "start_time": "2022-10-29T03:07:44.023354",
     "status": "completed"
    },
    "tags": []
   },
   "source": [
    "# Kriptovaliutų naujienos"
   ]
  },
  {
   "cell_type": "code",
   "execution_count": 1,
   "id": "functioning-knowing",
   "metadata": {
    "execution": {
     "iopub.execute_input": "2022-10-29T03:07:44.064851Z",
     "iopub.status.busy": "2022-10-29T03:07:44.062295Z",
     "iopub.status.idle": "2022-10-29T03:07:45.255887Z",
     "shell.execute_reply": "2022-10-29T03:07:45.255303Z"
    },
    "papermill": {
     "duration": 1.210141,
     "end_time": "2022-10-29T03:07:45.256037",
     "exception": false,
     "start_time": "2022-10-29T03:07:44.045896",
     "status": "completed"
    },
    "tags": []
   },
   "outputs": [],
   "source": [
    "#hide_input\n",
    "import warnings\n",
    "warnings.filterwarnings('ignore')\n",
    "from scripts.read_data import read_api\n",
    "from scripts.read_data import read_news\n",
    "from scripts.read_data import read_covid\n",
    "import matplotlib.pyplot as plt \n",
    "from IPython.display import Markdown as md"
   ]
  },
  {
   "cell_type": "code",
   "execution_count": 2,
   "id": "shared-acceptance",
   "metadata": {
    "execution": {
     "iopub.execute_input": "2022-10-29T03:07:45.281100Z",
     "iopub.status.busy": "2022-10-29T03:07:45.280515Z",
     "iopub.status.idle": "2022-10-29T03:07:55.203453Z",
     "shell.execute_reply": "2022-10-29T03:07:55.202471Z"
    },
    "papermill": {
     "duration": 9.937504,
     "end_time": "2022-10-29T03:07:55.203585",
     "exception": false,
     "start_time": "2022-10-29T03:07:45.266081",
     "status": "completed"
    },
    "tags": []
   },
   "outputs": [],
   "source": [
    "#hide_input\n",
    "blockchain = read_news('blockchain') \n",
    "btc = read_news('btc') \n",
    "xrp = read_news('xrp') \n",
    "trx = read_news('trx') \n",
    "eth = read_news('eth')  \n",
    "ada = read_news('ada')\n",
    "exchange = read_news('exchange') "
   ]
  },
  {
   "cell_type": "code",
   "execution_count": 3,
   "id": "synthetic-notion",
   "metadata": {
    "execution": {
     "iopub.execute_input": "2022-10-29T03:07:55.228501Z",
     "iopub.status.busy": "2022-10-29T03:07:55.227854Z",
     "iopub.status.idle": "2022-10-29T03:07:55.231428Z",
     "shell.execute_reply": "2022-10-29T03:07:55.230986Z"
    },
    "papermill": {
     "duration": 0.018723,
     "end_time": "2022-10-29T03:07:55.231536",
     "exception": false,
     "start_time": "2022-10-29T03:07:55.212813",
     "status": "completed"
    },
    "tags": []
   },
   "outputs": [
    {
     "data": {
      "text/markdown": [
       "- Mysterious Shiba Inu Whales Move 3.9 Trillion $SHIB for Just $0.95.  A mysterious Shiba Inu ($SHIB) whale has suddenly moved 3.9 trillion tokens on the Ethereum blockchain for just $0.95 in transaction fees in a move that some in the crypto space are admiring, as a similar transaction via traditional financial institutions would have large costs. According to whale monitoring service Whale Alert, a mysterious Shiba […] ... [| Skaityti daugiau](https://www.cryptoglobe.com/latest/2022/10/mysterious-shiba-inu-whales-move-3-9-trillion-shib-for-just-0-95/) "
      ],
      "text/plain": [
       "<IPython.core.display.Markdown object>"
      ]
     },
     "execution_count": 3,
     "metadata": {},
     "output_type": "execute_result"
    }
   ],
   "source": [
    "#hide_input\n",
    "#md('##### {}'.format(titleBTC)) \n",
    "md(\"- {}{} {}{} [| Skaityti daugiau]({}) \".format(blockchain['title'],'. ', blockchain['body'], ' ...', blockchain['url']))"
   ]
  },
  {
   "cell_type": "code",
   "execution_count": 4,
   "id": "aging-caution",
   "metadata": {
    "execution": {
     "iopub.execute_input": "2022-10-29T03:07:55.254890Z",
     "iopub.status.busy": "2022-10-29T03:07:55.254325Z",
     "iopub.status.idle": "2022-10-29T03:07:55.257247Z",
     "shell.execute_reply": "2022-10-29T03:07:55.257795Z"
    },
    "papermill": {
     "duration": 0.017214,
     "end_time": "2022-10-29T03:07:55.257928",
     "exception": false,
     "start_time": "2022-10-29T03:07:55.240714",
     "status": "completed"
    },
    "tags": []
   },
   "outputs": [
    {
     "data": {
      "text/markdown": [
       "- Crypto Price Today: Dogecoin, Shiba Inu Outpace Bitcoin Price.  Crypto Price Today Latest Updates: The crypto market is experiencing another strong rally. Dogecoin is undoubtedly the winner of the crypto market yesterday. $DOGE showed extremely bullish sentiments and surged by over 17% in the last day. It is up by more than 45% in the last 7 days. It is currently trading at Rs. 7.11. The post Crypto Price Today: Dogecoin, Shiba Inu Outpace Bitcoin Price appeared first on CoinGape. ... [| Skaityti daugiau](https://coingape.com/crypto-price-today-dogecoin-shiba-inu-outpace-bitcoin-price/) "
      ],
      "text/plain": [
       "<IPython.core.display.Markdown object>"
      ]
     },
     "execution_count": 4,
     "metadata": {},
     "output_type": "execute_result"
    }
   ],
   "source": [
    "#hide_input\n",
    "#md('##### {}'.format(titleBTC)) \n",
    "md(\"- {}{} {}{} [| Skaityti daugiau]({}) \".format(btc['title'],'. ', btc['body'], ' ...', btc['url']))"
   ]
  },
  {
   "cell_type": "code",
   "execution_count": 5,
   "id": "organic-actress",
   "metadata": {
    "execution": {
     "iopub.execute_input": "2022-10-29T03:07:55.282013Z",
     "iopub.status.busy": "2022-10-29T03:07:55.281333Z",
     "iopub.status.idle": "2022-10-29T03:07:55.284751Z",
     "shell.execute_reply": "2022-10-29T03:07:55.284227Z"
    },
    "papermill": {
     "duration": 0.017419,
     "end_time": "2022-10-29T03:07:55.284860",
     "exception": false,
     "start_time": "2022-10-29T03:07:55.267441",
     "status": "completed"
    },
    "tags": []
   },
   "outputs": [
    {
     "data": {
      "text/markdown": [
       "- Flare Surpasses Decentralization Threshold, Next Is Distribution Event for XRP Holders: Details.  Eligible XRP holders will soon receive their Spark (FLR) after about two years of waiting. The token distribution event for XRP holders is next on Flare’s development agenda. According to the latest announcement, Flare has surpassed a decentralization threshold as the Foundation now controls less than 33% of network validation power. In a series of [&#8230;]The post Flare Surpasses Decentralization Threshold, Next Is Distribution Event for XRP Holders: Details appeared first on Times Tabloid. ... [| Skaityti daugiau](https://timestabloid.com/flare-surpasses-decentralization-threshold-next-is-distribution-event-for-xrp-holders-details/) "
      ],
      "text/plain": [
       "<IPython.core.display.Markdown object>"
      ]
     },
     "execution_count": 5,
     "metadata": {},
     "output_type": "execute_result"
    }
   ],
   "source": [
    "#hide_input\n",
    "#md('##### {}'.format(titleBTC)) \n",
    "md(\"- {}{} {}{} [| Skaityti daugiau]({}) \".format(xrp['title'],'. ', xrp['body'], ' ...', xrp['url']))"
   ]
  },
  {
   "cell_type": "code",
   "execution_count": 6,
   "id": "prompt-farmer",
   "metadata": {
    "execution": {
     "iopub.execute_input": "2022-10-29T03:07:55.309602Z",
     "iopub.status.busy": "2022-10-29T03:07:55.309025Z",
     "iopub.status.idle": "2022-10-29T03:07:55.312409Z",
     "shell.execute_reply": "2022-10-29T03:07:55.311945Z"
    },
    "papermill": {
     "duration": 0.01738,
     "end_time": "2022-10-29T03:07:55.312508",
     "exception": false,
     "start_time": "2022-10-29T03:07:55.295128",
     "status": "completed"
    },
    "tags": []
   },
   "outputs": [
    {
     "data": {
      "text/markdown": [
       "- What Binance’s latest update might mean for TRX investors.  A major update came in for Tron (TRX) recently as Binance, one of the world’s largest crypto-exchanges, announced that it would support TRX staking on its platform from 27 October. Thanks to this update, users can not only stake, but also earn up to 6.1% annual percentage yield at launch. Here’s AMBCrypto’s Price Prediction for [&#8230;] ... [| Skaityti daugiau](https://ambcrypto.com/what-binances-latest-update-might-mean-for-trx-investors/) "
      ],
      "text/plain": [
       "<IPython.core.display.Markdown object>"
      ]
     },
     "execution_count": 6,
     "metadata": {},
     "output_type": "execute_result"
    }
   ],
   "source": [
    "#hide_input\n",
    "#md('##### {}'.format(titleBTC)) \n",
    "md(\"- {}{} {}{} [| Skaityti daugiau]({}) \".format(trx['title'],'. ', trx['body'], ' ...', trx['url']))"
   ]
  },
  {
   "cell_type": "code",
   "execution_count": 7,
   "id": "illegal-greece",
   "metadata": {
    "execution": {
     "iopub.execute_input": "2022-10-29T03:07:55.337248Z",
     "iopub.status.busy": "2022-10-29T03:07:55.336691Z",
     "iopub.status.idle": "2022-10-29T03:07:55.340173Z",
     "shell.execute_reply": "2022-10-29T03:07:55.339621Z"
    },
    "papermill": {
     "duration": 0.017451,
     "end_time": "2022-10-29T03:07:55.340269",
     "exception": false,
     "start_time": "2022-10-29T03:07:55.322818",
     "status": "completed"
    },
    "tags": []
   },
   "outputs": [
    {
     "data": {
      "text/markdown": [
       "- Tracing Ethereum’s [ETH] potential to continue rising after its recent gains.  Ethereum's recent gains led to overbought readings on its Bollinger Bands and RSI. The resulting decline could slow down the buying spree. The bulls could look for potential rebounding opportunities for placing long bets in the coming sessions. ... [| Skaityti daugiau](https://ambcrypto.com/tracing-ethereums-eth-potential-to-continue-rising-after-its-recent-gains/) "
      ],
      "text/plain": [
       "<IPython.core.display.Markdown object>"
      ]
     },
     "execution_count": 7,
     "metadata": {},
     "output_type": "execute_result"
    }
   ],
   "source": [
    "#hide_input\n",
    "#md('##### {}'.format(titleBTC)) \n",
    "md(\"- {}{} {}{} [| Skaityti daugiau]({}) \".format(eth['title'],'. ', eth['body'], ' ...', eth['url']))"
   ]
  },
  {
   "cell_type": "code",
   "execution_count": 8,
   "id": "sublime-lounge",
   "metadata": {
    "execution": {
     "iopub.execute_input": "2022-10-29T03:07:55.366571Z",
     "iopub.status.busy": "2022-10-29T03:07:55.365367Z",
     "iopub.status.idle": "2022-10-29T03:07:55.369587Z",
     "shell.execute_reply": "2022-10-29T03:07:55.370075Z"
    },
    "papermill": {
     "duration": 0.018406,
     "end_time": "2022-10-29T03:07:55.370184",
     "exception": false,
     "start_time": "2022-10-29T03:07:55.351778",
     "status": "completed"
    },
    "tags": []
   },
   "outputs": [
    {
     "data": {
      "text/markdown": [
       "- Cardano price analysis: ADA boosts 4 percent in bid to target $5 mark in November.  Cardano price analysis seems to have turned bullish over the past 24 hours, as price rose up to 4 percent over today&#8217;s trade to move as high as $0.4107. Buyers picked up momentum after yesterday&#8217;s increased volatility for ADA caused price to dip down to $0.38, following a 21 percent boost the previous day. Cardano &#8230;  Cardano price analysis: ADA boosts 4 percent in bid to target $5 mark in November Read More &#187; ... [| Skaityti daugiau](https://www.cryptopolitan.com/cardano-price-analysis-2022-10-28-2/) "
      ],
      "text/plain": [
       "<IPython.core.display.Markdown object>"
      ]
     },
     "execution_count": 8,
     "metadata": {},
     "output_type": "execute_result"
    }
   ],
   "source": [
    "#hide_input\n",
    "#md('##### {}'.format(titleBTC)) \n",
    "md(\"- {}{} {}{} [| Skaityti daugiau]({}) \".format(ada['title'],'. ', ada['body'], ' ...', ada['url']))"
   ]
  },
  {
   "cell_type": "code",
   "execution_count": 9,
   "id": "specified-ordering",
   "metadata": {
    "execution": {
     "iopub.execute_input": "2022-10-29T03:07:55.396667Z",
     "iopub.status.busy": "2022-10-29T03:07:55.396109Z",
     "iopub.status.idle": "2022-10-29T03:07:55.401735Z",
     "shell.execute_reply": "2022-10-29T03:07:55.401186Z"
    },
    "papermill": {
     "duration": 0.020678,
     "end_time": "2022-10-29T03:07:55.401829",
     "exception": false,
     "start_time": "2022-10-29T03:07:55.381151",
     "status": "completed"
    },
    "tags": []
   },
   "outputs": [
    {
     "data": {
      "text/markdown": [
       "- Crypto Exchange Binance Teams Up With Elon Musk To Help With Twitter Bot Issues.  Crypto exchange Binance, in the latest development, has offered to team up with Elon Musk in order to make Twitter more crypto-friendly. Elon Musk has finally taken control of Twitter and has concluded the $44 billion acquisition. Twitter is now a private corporation and shareholders are set to receive $52.40 per share. The takeover was [&#8230;] ... [| Skaityti daugiau](https://bitcoinist.com/crypto-exchange-binance-musk-twitter-bot-issues/) "
      ],
      "text/plain": [
       "<IPython.core.display.Markdown object>"
      ]
     },
     "execution_count": 9,
     "metadata": {},
     "output_type": "execute_result"
    }
   ],
   "source": [
    "#hide_input\n",
    "#md('##### {}'.format(titleBTC)) \n",
    "md(\"- {}{} {}{} [| Skaityti daugiau]({}) \".format(exchange['title'],'. ', exchange['body'], ' ...', exchange['url']))"
   ]
  },
  {
   "cell_type": "code",
   "execution_count": null,
   "id": "tender-livestock",
   "metadata": {
    "papermill": {
     "duration": 0.011039,
     "end_time": "2022-10-29T03:07:55.424226",
     "exception": false,
     "start_time": "2022-10-29T03:07:55.413187",
     "status": "completed"
    },
    "tags": []
   },
   "outputs": [],
   "source": []
  },
  {
   "cell_type": "code",
   "execution_count": null,
   "id": "appreciated-diamond",
   "metadata": {
    "papermill": {
     "duration": 0.010967,
     "end_time": "2022-10-29T03:07:55.446309",
     "exception": false,
     "start_time": "2022-10-29T03:07:55.435342",
     "status": "completed"
    },
    "tags": []
   },
   "outputs": [],
   "source": []
  },
  {
   "cell_type": "code",
   "execution_count": null,
   "id": "romance-sweden",
   "metadata": {
    "papermill": {
     "duration": 0.010995,
     "end_time": "2022-10-29T03:07:55.468296",
     "exception": false,
     "start_time": "2022-10-29T03:07:55.457301",
     "status": "completed"
    },
    "tags": []
   },
   "outputs": [],
   "source": []
  },
  {
   "cell_type": "code",
   "execution_count": null,
   "id": "dietary-statistics",
   "metadata": {
    "papermill": {
     "duration": 0.010947,
     "end_time": "2022-10-29T03:07:55.490323",
     "exception": false,
     "start_time": "2022-10-29T03:07:55.479376",
     "status": "completed"
    },
    "tags": []
   },
   "outputs": [],
   "source": []
  }
 ],
 "metadata": {
  "kernelspec": {
   "display_name": "Python 3",
   "language": "python",
   "name": "python3"
  },
  "language_info": {
   "codemirror_mode": {
    "name": "ipython",
    "version": 3
   },
   "file_extension": ".py",
   "mimetype": "text/x-python",
   "name": "python",
   "nbconvert_exporter": "python",
   "pygments_lexer": "ipython3",
   "version": "3.6.15"
  },
  "papermill": {
   "default_parameters": {},
   "duration": 12.812183,
   "end_time": "2022-10-29T03:07:55.919097",
   "environment_variables": {},
   "exception": null,
   "input_path": "Market-News.ipynb",
   "output_path": "Market-News.ipynb",
   "parameters": {},
   "start_time": "2022-10-29T03:07:43.106914",
   "version": "2.2.2"
  }
 },
 "nbformat": 4,
 "nbformat_minor": 5
}