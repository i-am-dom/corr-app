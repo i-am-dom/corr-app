{
 "cells": [
  {
   "cell_type": "markdown",
   "id": "short-greensboro",
   "metadata": {
    "papermill": {
     "duration": 0.01555,
     "end_time": "2021-12-21T02:08:08.041675",
     "exception": false,
     "start_time": "2021-12-21T02:08:08.026125",
     "status": "completed"
    },
    "tags": []
   },
   "source": [
    "# Kriptovaliutų naujienos"
   ]
  },
  {
   "cell_type": "code",
   "execution_count": 1,
   "id": "functioning-knowing",
   "metadata": {
    "execution": {
     "iopub.execute_input": "2021-12-21T02:08:08.077133Z",
     "iopub.status.busy": "2021-12-21T02:08:08.071140Z",
     "iopub.status.idle": "2021-12-21T02:08:09.465852Z",
     "shell.execute_reply": "2021-12-21T02:08:09.465123Z"
    },
    "papermill": {
     "duration": 1.414006,
     "end_time": "2021-12-21T02:08:09.466051",
     "exception": false,
     "start_time": "2021-12-21T02:08:08.052045",
     "status": "completed"
    },
    "tags": []
   },
   "outputs": [],
   "source": [
    "#hide_input\n",
    "import warnings\n",
    "warnings.filterwarnings('ignore')\n",
    "from scripts.read_data import read_api\n",
    "from scripts.read_data import read_news\n",
    "from scripts.read_data import read_covid\n",
    "import matplotlib.pyplot as plt \n",
    "from IPython.display import Markdown as md"
   ]
  },
  {
   "cell_type": "code",
   "execution_count": 2,
   "id": "shared-acceptance",
   "metadata": {
    "execution": {
     "iopub.execute_input": "2021-12-21T02:08:09.495455Z",
     "iopub.status.busy": "2021-12-21T02:08:09.494835Z",
     "iopub.status.idle": "2021-12-21T02:08:19.732167Z",
     "shell.execute_reply": "2021-12-21T02:08:19.731485Z"
    },
    "papermill": {
     "duration": 10.254044,
     "end_time": "2021-12-21T02:08:19.732304",
     "exception": false,
     "start_time": "2021-12-21T02:08:09.478260",
     "status": "completed"
    },
    "tags": []
   },
   "outputs": [],
   "source": [
    "#hide_input\n",
    "blockchain = read_news('blockchain') \n",
    "btc = read_news('btc') \n",
    "xrp = read_news('xrp') \n",
    "trx = read_news('trx') \n",
    "eth = read_news('eth')  \n",
    "ada = read_news('ada')\n",
    "exchange = read_news('exchange') "
   ]
  },
  {
   "cell_type": "code",
   "execution_count": 3,
   "id": "synthetic-notion",
   "metadata": {
    "execution": {
     "iopub.execute_input": "2021-12-21T02:08:19.763776Z",
     "iopub.status.busy": "2021-12-21T02:08:19.763209Z",
     "iopub.status.idle": "2021-12-21T02:08:19.765266Z",
     "shell.execute_reply": "2021-12-21T02:08:19.765705Z"
    },
    "papermill": {
     "duration": 0.023513,
     "end_time": "2021-12-21T02:08:19.765826",
     "exception": false,
     "start_time": "2021-12-21T02:08:19.742313",
     "status": "completed"
    },
    "tags": []
   },
   "outputs": [
    {
     "data": {
      "text/markdown": [
       "- How JPMorgan Is Helping Siemens With Blockchain Transactions.  The giant of American banks J.P. Morgan has teamed up with Siemens, the German engineering technology company, to develop a Blockchain-based new remittance system for the latter. The conglomerate needs an infrastructure that is able to process an increasing amount of transactions, and the blockchain turned out to be the best solution. The Financial Times reported [&#8230;] ... [| Skaityti daugiau](https://bitcoinist.com/how-jpmorgan-is-helping-siemens-with-blockchain/) "
      ],
      "text/plain": [
       "<IPython.core.display.Markdown object>"
      ]
     },
     "execution_count": 3,
     "metadata": {},
     "output_type": "execute_result"
    }
   ],
   "source": [
    "#hide_input\n",
    "#md('##### {}'.format(titleBTC)) \n",
    "md(\"- {}{} {}{} [| Skaityti daugiau]({}) \".format(blockchain['title'],'. ', blockchain['body'], ' ...', blockchain['url']))"
   ]
  },
  {
   "cell_type": "code",
   "execution_count": 4,
   "id": "aging-caution",
   "metadata": {
    "execution": {
     "iopub.execute_input": "2021-12-21T02:08:19.790451Z",
     "iopub.status.busy": "2021-12-21T02:08:19.789839Z",
     "iopub.status.idle": "2021-12-21T02:08:19.794175Z",
     "shell.execute_reply": "2021-12-21T02:08:19.793620Z"
    },
    "papermill": {
     "duration": 0.018719,
     "end_time": "2021-12-21T02:08:19.794281",
     "exception": false,
     "start_time": "2021-12-21T02:08:19.775562",
     "status": "completed"
    },
    "tags": []
   },
   "outputs": [
    {
     "data": {
      "text/markdown": [
       "- Here’s one way to incorporate Bitcoin into your legal inheritance wills.  The adoption rate of the technology space has witnessed a massive surge. People, institutions are adopting new technologies on a faster scale as compared to the internet. Cryptocurrencies fall under this umbrella as well. According to the adoption curve cryptocurrencies right now are somewhere in between the Innovators and the Early Adopters sections. In 2013 [&#8230;] ... [| Skaityti daugiau](https://ambcrypto.com/heres-one-way-to-incorporate-bitcoin-into-your-legal-inheritance-wills/) "
      ],
      "text/plain": [
       "<IPython.core.display.Markdown object>"
      ]
     },
     "execution_count": 4,
     "metadata": {},
     "output_type": "execute_result"
    }
   ],
   "source": [
    "#hide_input\n",
    "#md('##### {}'.format(titleBTC)) \n",
    "md(\"- {}{} {}{} [| Skaityti daugiau]({}) \".format(btc['title'],'. ', btc['body'], ' ...', btc['url']))"
   ]
  },
  {
   "cell_type": "code",
   "execution_count": 5,
   "id": "organic-actress",
   "metadata": {
    "execution": {
     "iopub.execute_input": "2021-12-21T02:08:19.821631Z",
     "iopub.status.busy": "2021-12-21T02:08:19.820833Z",
     "iopub.status.idle": "2021-12-21T02:08:19.826080Z",
     "shell.execute_reply": "2021-12-21T02:08:19.826587Z"
    },
    "papermill": {
     "duration": 0.022403,
     "end_time": "2021-12-21T02:08:19.826723",
     "exception": false,
     "start_time": "2021-12-21T02:08:19.804320",
     "status": "completed"
    },
    "tags": []
   },
   "outputs": [
    {
     "data": {
      "text/markdown": [
       "- Price analysis 12/20: BTC, ETH, BNB, SOL, ADA, XRP, LUNA, AVAX, DOT, DOGE.  Bitcoin and most major altcoins are trading below the 200-day SMA, suggesting that bears are in full control. ... [| Skaityti daugiau](https://cointelegraph.com/news/price-analysis-12-20-btc-eth-bnb-sol-ada-xrp-luna-avax-dot-doge) "
      ],
      "text/plain": [
       "<IPython.core.display.Markdown object>"
      ]
     },
     "execution_count": 5,
     "metadata": {},
     "output_type": "execute_result"
    }
   ],
   "source": [
    "#hide_input\n",
    "#md('##### {}'.format(titleBTC)) \n",
    "md(\"- {}{} {}{} [| Skaityti daugiau]({}) \".format(xrp['title'],'. ', xrp['body'], ' ...', xrp['url']))"
   ]
  },
  {
   "cell_type": "code",
   "execution_count": 6,
   "id": "prompt-farmer",
   "metadata": {
    "execution": {
     "iopub.execute_input": "2021-12-21T02:08:19.852932Z",
     "iopub.status.busy": "2021-12-21T02:08:19.852084Z",
     "iopub.status.idle": "2021-12-21T02:08:19.854545Z",
     "shell.execute_reply": "2021-12-21T02:08:19.855027Z"
    },
    "papermill": {
     "duration": 0.017689,
     "end_time": "2021-12-21T02:08:19.855166",
     "exception": false,
     "start_time": "2021-12-21T02:08:19.837477",
     "status": "completed"
    },
    "tags": []
   },
   "outputs": [
    {
     "data": {
      "text/markdown": [
       "- XRP, Tron, BitTorrent Price Analysis 18 December.  With the Bitcoin fear and greed index flashing an &#8216;extreme fear&#8217; situation over the past week, the resulting impact can be seen on most cryptos. XRP flashed weak technicals while Tron and BitTorrent lost their crucial price points that the bulls upheld for months. XRP Since 7 December, XRP has found an oscillating range between [&#8230;] ... [| Skaityti daugiau](https://ambcrypto.com/xrp-tron-bittorrent-price-analysis-18-december/) "
      ],
      "text/plain": [
       "<IPython.core.display.Markdown object>"
      ]
     },
     "execution_count": 6,
     "metadata": {},
     "output_type": "execute_result"
    }
   ],
   "source": [
    "#hide_input\n",
    "#md('##### {}'.format(titleBTC)) \n",
    "md(\"- {}{} {}{} [| Skaityti daugiau]({}) \".format(trx['title'],'. ', trx['body'], ' ...', trx['url']))"
   ]
  },
  {
   "cell_type": "code",
   "execution_count": 7,
   "id": "illegal-greece",
   "metadata": {
    "execution": {
     "iopub.execute_input": "2021-12-21T02:08:19.881783Z",
     "iopub.status.busy": "2021-12-21T02:08:19.881242Z",
     "iopub.status.idle": "2021-12-21T02:08:19.885258Z",
     "shell.execute_reply": "2021-12-21T02:08:19.885623Z"
    },
    "papermill": {
     "duration": 0.019298,
     "end_time": "2021-12-21T02:08:19.885729",
     "exception": false,
     "start_time": "2021-12-21T02:08:19.866431",
     "status": "completed"
    },
    "tags": []
   },
   "outputs": [
    {
     "data": {
      "text/markdown": [
       "- Ethereum Launches Kintsugi Testnet to Prepare for Merge.   ... [| Skaityti daugiau](https://cryptobriefing.com/ethereum-launches-kintsugi-testnet-to-prepare-for-merge/?utm_source=main_feed&utm_medium=rss) "
      ],
      "text/plain": [
       "<IPython.core.display.Markdown object>"
      ]
     },
     "execution_count": 7,
     "metadata": {},
     "output_type": "execute_result"
    }
   ],
   "source": [
    "#hide_input\n",
    "#md('##### {}'.format(titleBTC)) \n",
    "md(\"- {}{} {}{} [| Skaityti daugiau]({}) \".format(eth['title'],'. ', eth['body'], ' ...', eth['url']))"
   ]
  },
  {
   "cell_type": "code",
   "execution_count": 8,
   "id": "sublime-lounge",
   "metadata": {
    "execution": {
     "iopub.execute_input": "2021-12-21T02:08:19.923058Z",
     "iopub.status.busy": "2021-12-21T02:08:19.922466Z",
     "iopub.status.idle": "2021-12-21T02:08:19.931187Z",
     "shell.execute_reply": "2021-12-21T02:08:19.930666Z"
    },
    "papermill": {
     "duration": 0.034546,
     "end_time": "2021-12-21T02:08:19.931298",
     "exception": false,
     "start_time": "2021-12-21T02:08:19.896752",
     "status": "completed"
    },
    "tags": []
   },
   "outputs": [
    {
     "data": {
      "text/markdown": [
       "- Price analysis 12/20: BTC, ETH, BNB, SOL, ADA, XRP, LUNA, AVAX, DOT, DOGE.  Bitcoin and most major altcoins are trading below the 200-day SMA, suggesting that bears are in full control. ... [| Skaityti daugiau](https://cointelegraph.com/news/price-analysis-12-20-btc-eth-bnb-sol-ada-xrp-luna-avax-dot-doge) "
      ],
      "text/plain": [
       "<IPython.core.display.Markdown object>"
      ]
     },
     "execution_count": 8,
     "metadata": {},
     "output_type": "execute_result"
    }
   ],
   "source": [
    "#hide_input\n",
    "#md('##### {}'.format(titleBTC)) \n",
    "md(\"- {}{} {}{} [| Skaityti daugiau]({}) \".format(ada['title'],'. ', ada['body'], ' ...', ada['url']))"
   ]
  },
  {
   "cell_type": "code",
   "execution_count": 9,
   "id": "specified-ordering",
   "metadata": {
    "execution": {
     "iopub.execute_input": "2021-12-21T02:08:19.964975Z",
     "iopub.status.busy": "2021-12-21T02:08:19.964214Z",
     "iopub.status.idle": "2021-12-21T02:08:19.966497Z",
     "shell.execute_reply": "2021-12-21T02:08:19.966972Z"
    },
    "papermill": {
     "duration": 0.022568,
     "end_time": "2021-12-21T02:08:19.967096",
     "exception": false,
     "start_time": "2021-12-21T02:08:19.944528",
     "status": "completed"
    },
    "tags": []
   },
   "outputs": [
    {
     "data": {
      "text/markdown": [
       "- BitGo to Support Avalanche ($AVAX) as Institutional Interest in it Grows.  Cryptocurrency custody firm BitGo has revealed it will support the native token of the Avalanche network, $AVAX, as institutional interest in it keeps on growing. The move will allow BitGo clients including exchange Bitstamp and Bitbuy to offer AVAX to their users. As CoinDesk reports, the move comes after Bank of America analysts said that […] ... [| Skaityti daugiau](https://www.cryptoglobe.com/latest/2021/12/bitgo-to-support-avalanche-avax-as-institutional-interest-in-it-grows/) "
      ],
      "text/plain": [
       "<IPython.core.display.Markdown object>"
      ]
     },
     "execution_count": 9,
     "metadata": {},
     "output_type": "execute_result"
    }
   ],
   "source": [
    "#hide_input\n",
    "#md('##### {}'.format(titleBTC)) \n",
    "md(\"- {}{} {}{} [| Skaityti daugiau]({}) \".format(exchange['title'],'. ', exchange['body'], ' ...', exchange['url']))"
   ]
  },
  {
   "cell_type": "code",
   "execution_count": null,
   "id": "tender-livestock",
   "metadata": {
    "papermill": {
     "duration": 0.012573,
     "end_time": "2021-12-21T02:08:19.992788",
     "exception": false,
     "start_time": "2021-12-21T02:08:19.980215",
     "status": "completed"
    },
    "tags": []
   },
   "outputs": [],
   "source": []
  },
  {
   "cell_type": "code",
   "execution_count": null,
   "id": "appreciated-diamond",
   "metadata": {
    "papermill": {
     "duration": 0.011877,
     "end_time": "2021-12-21T02:08:20.016773",
     "exception": false,
     "start_time": "2021-12-21T02:08:20.004896",
     "status": "completed"
    },
    "tags": []
   },
   "outputs": [],
   "source": []
  },
  {
   "cell_type": "code",
   "execution_count": null,
   "id": "romance-sweden",
   "metadata": {
    "papermill": {
     "duration": 0.012366,
     "end_time": "2021-12-21T02:08:20.040946",
     "exception": false,
     "start_time": "2021-12-21T02:08:20.028580",
     "status": "completed"
    },
    "tags": []
   },
   "outputs": [],
   "source": []
  },
  {
   "cell_type": "code",
   "execution_count": null,
   "id": "dietary-statistics",
   "metadata": {
    "papermill": {
     "duration": 0.012863,
     "end_time": "2021-12-21T02:08:20.066918",
     "exception": false,
     "start_time": "2021-12-21T02:08:20.054055",
     "status": "completed"
    },
    "tags": []
   },
   "outputs": [],
   "source": []
  }
 ],
 "metadata": {
  "kernelspec": {
   "display_name": "Python 3",
   "language": "python",
   "name": "python3"
  },
  "language_info": {
   "codemirror_mode": {
    "name": "ipython",
    "version": 3
   },
   "file_extension": ".py",
   "mimetype": "text/x-python",
   "name": "python",
   "nbconvert_exporter": "python",
   "pygments_lexer": "ipython3",
   "version": "3.6.15"
  },
  "papermill": {
   "default_parameters": {},
   "duration": 13.841135,
   "end_time": "2021-12-21T02:08:20.588972",
   "environment_variables": {},
   "exception": null,
   "input_path": "Market-News.ipynb",
   "output_path": "Market-News.ipynb",
   "parameters": {},
   "start_time": "2021-12-21T02:08:06.747837",
   "version": "2.2.2"
  }
 },
 "nbformat": 4,
 "nbformat_minor": 5
}