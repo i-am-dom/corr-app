{
 "cells": [
  {
   "cell_type": "markdown",
   "id": "short-greensboro",
   "metadata": {
    "papermill": {
     "duration": 0.012807,
     "end_time": "2021-10-25T02:03:08.323132",
     "exception": false,
     "start_time": "2021-10-25T02:03:08.310325",
     "status": "completed"
    },
    "tags": []
   },
   "source": [
    "# Kriptovaliutų naujienos"
   ]
  },
  {
   "cell_type": "code",
   "execution_count": 1,
   "id": "functioning-knowing",
   "metadata": {
    "execution": {
     "iopub.execute_input": "2021-10-25T02:03:08.352534Z",
     "iopub.status.busy": "2021-10-25T02:03:08.351993Z",
     "iopub.status.idle": "2021-10-25T02:03:09.655415Z",
     "shell.execute_reply": "2021-10-25T02:03:09.654820Z"
    },
    "papermill": {
     "duration": 1.32262,
     "end_time": "2021-10-25T02:03:09.655628",
     "exception": false,
     "start_time": "2021-10-25T02:03:08.333008",
     "status": "completed"
    },
    "tags": []
   },
   "outputs": [],
   "source": [
    "#hide_input\n",
    "import warnings\n",
    "warnings.filterwarnings('ignore')\n",
    "from scripts.read_data import read_api\n",
    "from scripts.read_data import read_news\n",
    "from scripts.read_data import read_covid\n",
    "import matplotlib.pyplot as plt \n",
    "from IPython.display import Markdown as md"
   ]
  },
  {
   "cell_type": "code",
   "execution_count": 2,
   "id": "shared-acceptance",
   "metadata": {
    "execution": {
     "iopub.execute_input": "2021-10-25T02:03:09.681629Z",
     "iopub.status.busy": "2021-10-25T02:03:09.681097Z",
     "iopub.status.idle": "2021-10-25T02:03:17.145283Z",
     "shell.execute_reply": "2021-10-25T02:03:17.144739Z"
    },
    "papermill": {
     "duration": 7.47964,
     "end_time": "2021-10-25T02:03:17.145436",
     "exception": false,
     "start_time": "2021-10-25T02:03:09.665796",
     "status": "completed"
    },
    "tags": []
   },
   "outputs": [],
   "source": [
    "#hide_input\n",
    "blockchain = read_news('blockchain') \n",
    "btc = read_news('btc') \n",
    "xrp = read_news('xrp') \n",
    "trx = read_news('trx') \n",
    "eth = read_news('eth')  \n",
    "ada = read_news('ada')\n",
    "exchange = read_news('exchange') "
   ]
  },
  {
   "cell_type": "code",
   "execution_count": 3,
   "id": "synthetic-notion",
   "metadata": {
    "execution": {
     "iopub.execute_input": "2021-10-25T02:03:17.171476Z",
     "iopub.status.busy": "2021-10-25T02:03:17.170915Z",
     "iopub.status.idle": "2021-10-25T02:03:17.173150Z",
     "shell.execute_reply": "2021-10-25T02:03:17.173553Z"
    },
    "papermill": {
     "duration": 0.018578,
     "end_time": "2021-10-25T02:03:17.173690",
     "exception": false,
     "start_time": "2021-10-25T02:03:17.155112",
     "status": "completed"
    },
    "tags": []
   },
   "outputs": [
    {
     "data": {
      "text/markdown": [
       "- As Altair upgrade nears, looking into Ethereum outperforming Bitcoin ‘at some point’.  Ethereum&#8217;s transition to proof of stake (PoS) with new protocol upgrades is being implemented to support a seamless transition. Ahead of next week’s Altair Beacon Chain upgrade, ether&#8217;s price crested to a new all-time high of $4,361 on 21 October but then it gradually pulled back. However, the pertinent question is &#8211; can this more [&#8230;] ... [| Skaityti daugiau](https://ambcrypto.com/as-altair-upgrade-nears-looking-into-ethereum-outperforming-bitcoin-at-some-point/) "
      ],
      "text/plain": [
       "<IPython.core.display.Markdown object>"
      ]
     },
     "execution_count": 3,
     "metadata": {},
     "output_type": "execute_result"
    }
   ],
   "source": [
    "#hide_input\n",
    "#md('##### {}'.format(titleBTC)) \n",
    "md(\"- {}{} {}{} [| Skaityti daugiau]({}) \".format(blockchain['title'],'. ', blockchain['body'], ' ...', blockchain['url']))"
   ]
  },
  {
   "cell_type": "code",
   "execution_count": 4,
   "id": "aging-caution",
   "metadata": {
    "execution": {
     "iopub.execute_input": "2021-10-25T02:03:17.197706Z",
     "iopub.status.busy": "2021-10-25T02:03:17.197194Z",
     "iopub.status.idle": "2021-10-25T02:03:17.199787Z",
     "shell.execute_reply": "2021-10-25T02:03:17.200196Z"
    },
    "papermill": {
     "duration": 0.017259,
     "end_time": "2021-10-25T02:03:17.200327",
     "exception": false,
     "start_time": "2021-10-25T02:03:17.183068",
     "status": "completed"
    },
    "tags": []
   },
   "outputs": [
    {
     "data": {
      "text/markdown": [
       "- Elon Musk Says He Doesn’t Own Shiba Inu Tokens, Enraging SHIB Hodlers.  The Shiba Inu commuity is not happy with Elon Musk. $SHIB crashed after Musk revealed he didn't own it and only had BTC, ETH and DOGE. ... [| Skaityti daugiau](https://cryptopotato.com/elon-musk-says-he-doesnt-own-shiba-inu-tokens-enraging-shib-hodlers/) "
      ],
      "text/plain": [
       "<IPython.core.display.Markdown object>"
      ]
     },
     "execution_count": 4,
     "metadata": {},
     "output_type": "execute_result"
    }
   ],
   "source": [
    "#hide_input\n",
    "#md('##### {}'.format(titleBTC)) \n",
    "md(\"- {}{} {}{} [| Skaityti daugiau]({}) \".format(btc['title'],'. ', btc['body'], ' ...', btc['url']))"
   ]
  },
  {
   "cell_type": "code",
   "execution_count": 5,
   "id": "organic-actress",
   "metadata": {
    "execution": {
     "iopub.execute_input": "2021-10-25T02:03:17.224905Z",
     "iopub.status.busy": "2021-10-25T02:03:17.224400Z",
     "iopub.status.idle": "2021-10-25T02:03:17.227693Z",
     "shell.execute_reply": "2021-10-25T02:03:17.227234Z"
    },
    "papermill": {
     "duration": 0.017823,
     "end_time": "2021-10-25T02:03:17.227815",
     "exception": false,
     "start_time": "2021-10-25T02:03:17.209992",
     "status": "completed"
    },
    "tags": []
   },
   "outputs": [
    {
     "data": {
      "text/markdown": [
       "- Binance Coin, XRP, Tron Price Analysis: 24 October.  Cryptocurrency prices continued to give mixed signals of green and red on 24 October. The likes of Binance Coin, XRP, and Tron noted a decline in the last 24 hours. However, a macro view suggested that the crypto market skewed in favor of altcoins. Binance Coin and Tron displayed a gradual increase in their price [&#8230;] ... [| Skaityti daugiau](https://ambcrypto.com/binance-coin-xrp-tron-price-analysis-24-october/) "
      ],
      "text/plain": [
       "<IPython.core.display.Markdown object>"
      ]
     },
     "execution_count": 5,
     "metadata": {},
     "output_type": "execute_result"
    }
   ],
   "source": [
    "#hide_input\n",
    "#md('##### {}'.format(titleBTC)) \n",
    "md(\"- {}{} {}{} [| Skaityti daugiau]({}) \".format(xrp['title'],'. ', xrp['body'], ' ...', xrp['url']))"
   ]
  },
  {
   "cell_type": "code",
   "execution_count": 6,
   "id": "prompt-farmer",
   "metadata": {
    "execution": {
     "iopub.execute_input": "2021-10-25T02:03:17.253357Z",
     "iopub.status.busy": "2021-10-25T02:03:17.252837Z",
     "iopub.status.idle": "2021-10-25T02:03:17.256180Z",
     "shell.execute_reply": "2021-10-25T02:03:17.255772Z"
    },
    "papermill": {
     "duration": 0.018371,
     "end_time": "2021-10-25T02:03:17.256296",
     "exception": false,
     "start_time": "2021-10-25T02:03:17.237925",
     "status": "completed"
    },
    "tags": []
   },
   "outputs": [
    {
     "data": {
      "text/markdown": [
       "- Shiba Inu, Tron, Uniswap Price Analysis: 20 October.  While Bitcoin hits the $63,000 mark, altcoins like SHIB and UNI show bearish signs. However, TRX seemed to follow in the footsteps of the King coin and showing some signs of recovery on the charts. Nevertheless, all of these coins show weak directional price trends in the near term. SHIB SHIB saw a 2.26% decrease [&#8230;] ... [| Skaityti daugiau](https://ambcrypto.com/shiba-inu-tron-uniswap-price-analysis-20-october/) "
      ],
      "text/plain": [
       "<IPython.core.display.Markdown object>"
      ]
     },
     "execution_count": 6,
     "metadata": {},
     "output_type": "execute_result"
    }
   ],
   "source": [
    "#hide_input\n",
    "#md('##### {}'.format(titleBTC)) \n",
    "md(\"- {}{} {}{} [| Skaityti daugiau]({}) \".format(trx['title'],'. ', trx['body'], ' ...', trx['url']))"
   ]
  },
  {
   "cell_type": "code",
   "execution_count": 7,
   "id": "illegal-greece",
   "metadata": {
    "execution": {
     "iopub.execute_input": "2021-10-25T02:03:17.282200Z",
     "iopub.status.busy": "2021-10-25T02:03:17.281696Z",
     "iopub.status.idle": "2021-10-25T02:03:17.284776Z",
     "shell.execute_reply": "2021-10-25T02:03:17.284372Z"
    },
    "papermill": {
     "duration": 0.018101,
     "end_time": "2021-10-25T02:03:17.284892",
     "exception": false,
     "start_time": "2021-10-25T02:03:17.266791",
     "status": "completed"
    },
    "tags": []
   },
   "outputs": [
    {
     "data": {
      "text/markdown": [
       "- Elon Musk Says He Doesn’t Own Shiba Inu Tokens, Enraging SHIB Hodlers.  The Shiba Inu commuity is not happy with Elon Musk. $SHIB crashed after Musk revealed he didn't own it and only had BTC, ETH and DOGE. ... [| Skaityti daugiau](https://cryptopotato.com/elon-musk-says-he-doesnt-own-shiba-inu-tokens-enraging-shib-hodlers/) "
      ],
      "text/plain": [
       "<IPython.core.display.Markdown object>"
      ]
     },
     "execution_count": 7,
     "metadata": {},
     "output_type": "execute_result"
    }
   ],
   "source": [
    "#hide_input\n",
    "#md('##### {}'.format(titleBTC)) \n",
    "md(\"- {}{} {}{} [| Skaityti daugiau]({}) \".format(eth['title'],'. ', eth['body'], ' ...', eth['url']))"
   ]
  },
  {
   "cell_type": "code",
   "execution_count": 8,
   "id": "sublime-lounge",
   "metadata": {
    "execution": {
     "iopub.execute_input": "2021-10-25T02:03:17.311708Z",
     "iopub.status.busy": "2021-10-25T02:03:17.311160Z",
     "iopub.status.idle": "2021-10-25T02:03:17.313933Z",
     "shell.execute_reply": "2021-10-25T02:03:17.314340Z"
    },
    "papermill": {
     "duration": 0.018907,
     "end_time": "2021-10-25T02:03:17.314482",
     "exception": false,
     "start_time": "2021-10-25T02:03:17.295575",
     "status": "completed"
    },
    "tags": []
   },
   "outputs": [
    {
     "data": {
      "text/markdown": [
       "- Solana Threatens To Flip Tether And Cardano After Soaring By An Impressive 30% In One Week.  Solana has embarked on another splendid run that brings it within firing range of its all-time high. The asset managed this feat by climbing by a staggering 15% in under 24 hours. Tether and Cardano could be flipped by Solana if the fine form continues. Solana’s gains over the past 12 months have been nothing [&#8230;] ... [| Skaityti daugiau](https://zycrypto.com/solana-threatens-to-flip-tether-and-cardano-after-soaring-by-an-impressive-30-in-one-week/) "
      ],
      "text/plain": [
       "<IPython.core.display.Markdown object>"
      ]
     },
     "execution_count": 8,
     "metadata": {},
     "output_type": "execute_result"
    }
   ],
   "source": [
    "#hide_input\n",
    "#md('##### {}'.format(titleBTC)) \n",
    "md(\"- {}{} {}{} [| Skaityti daugiau]({}) \".format(ada['title'],'. ', ada['body'], ' ...', ada['url']))"
   ]
  },
  {
   "cell_type": "code",
   "execution_count": 9,
   "id": "specified-ordering",
   "metadata": {
    "execution": {
     "iopub.execute_input": "2021-10-25T02:03:17.342019Z",
     "iopub.status.busy": "2021-10-25T02:03:17.341492Z",
     "iopub.status.idle": "2021-10-25T02:03:17.345140Z",
     "shell.execute_reply": "2021-10-25T02:03:17.344728Z"
    },
    "papermill": {
     "duration": 0.019677,
     "end_time": "2021-10-25T02:03:17.345262",
     "exception": false,
     "start_time": "2021-10-25T02:03:17.325585",
     "status": "completed"
    },
    "tags": []
   },
   "outputs": [
    {
     "data": {
      "text/markdown": [
       "- CFTC conducting probe of decentralized prediction platform Polymarket: report.  The Commodity Futures Exchange Commission is said to be investigating Polymarket, the decentralized prediction market, according to Bloomberg sources.The post CFTC conducting probe of decentralized prediction platform Polymarket: report appeared first on The Block. ... [| Skaityti daugiau](https://www.theblockcrypto.com/linked/121843/cftc-conducting-probe-of-decentralized-prediction-platform-polymarket-report?utm_source=cryptocompare&utm_medium=rss) "
      ],
      "text/plain": [
       "<IPython.core.display.Markdown object>"
      ]
     },
     "execution_count": 9,
     "metadata": {},
     "output_type": "execute_result"
    }
   ],
   "source": [
    "#hide_input\n",
    "#md('##### {}'.format(titleBTC)) \n",
    "md(\"- {}{} {}{} [| Skaityti daugiau]({}) \".format(exchange['title'],'. ', exchange['body'], ' ...', exchange['url']))"
   ]
  },
  {
   "cell_type": "code",
   "execution_count": null,
   "id": "tender-livestock",
   "metadata": {
    "papermill": {
     "duration": 0.011353,
     "end_time": "2021-10-25T02:03:17.368003",
     "exception": false,
     "start_time": "2021-10-25T02:03:17.356650",
     "status": "completed"
    },
    "tags": []
   },
   "outputs": [],
   "source": []
  },
  {
   "cell_type": "code",
   "execution_count": null,
   "id": "appreciated-diamond",
   "metadata": {
    "papermill": {
     "duration": 0.011361,
     "end_time": "2021-10-25T02:03:17.390910",
     "exception": false,
     "start_time": "2021-10-25T02:03:17.379549",
     "status": "completed"
    },
    "tags": []
   },
   "outputs": [],
   "source": []
  },
  {
   "cell_type": "code",
   "execution_count": null,
   "id": "romance-sweden",
   "metadata": {
    "papermill": {
     "duration": 0.011421,
     "end_time": "2021-10-25T02:03:17.413685",
     "exception": false,
     "start_time": "2021-10-25T02:03:17.402264",
     "status": "completed"
    },
    "tags": []
   },
   "outputs": [],
   "source": []
  },
  {
   "cell_type": "code",
   "execution_count": null,
   "id": "dietary-statistics",
   "metadata": {
    "papermill": {
     "duration": 0.011141,
     "end_time": "2021-10-25T02:03:17.436375",
     "exception": false,
     "start_time": "2021-10-25T02:03:17.425234",
     "status": "completed"
    },
    "tags": []
   },
   "outputs": [],
   "source": []
  }
 ],
 "metadata": {
  "kernelspec": {
   "display_name": "Python 3",
   "language": "python",
   "name": "python3"
  },
  "language_info": {
   "codemirror_mode": {
    "name": "ipython",
    "version": 3
   },
   "file_extension": ".py",
   "mimetype": "text/x-python",
   "name": "python",
   "nbconvert_exporter": "python",
   "pygments_lexer": "ipython3",
   "version": "3.6.15"
  },
  "papermill": {
   "default_parameters": {},
   "duration": 10.686595,
   "end_time": "2021-10-25T02:03:17.956453",
   "environment_variables": {},
   "exception": null,
   "input_path": "Market-News.ipynb",
   "output_path": "Market-News.ipynb",
   "parameters": {},
   "start_time": "2021-10-25T02:03:07.269858",
   "version": "2.2.2"
  }
 },
 "nbformat": 4,
 "nbformat_minor": 5
}