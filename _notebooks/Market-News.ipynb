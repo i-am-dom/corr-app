{
 "cells": [
  {
   "cell_type": "markdown",
   "id": "short-greensboro",
   "metadata": {
    "papermill": {
     "duration": 0.014871,
     "end_time": "2021-11-27T01:57:33.216207",
     "exception": false,
     "start_time": "2021-11-27T01:57:33.201336",
     "status": "completed"
    },
    "tags": []
   },
   "source": [
    "# Kriptovaliutų naujienos"
   ]
  },
  {
   "cell_type": "code",
   "execution_count": 1,
   "id": "functioning-knowing",
   "metadata": {
    "execution": {
     "iopub.execute_input": "2021-11-27T01:57:33.251222Z",
     "iopub.status.busy": "2021-11-27T01:57:33.250565Z",
     "iopub.status.idle": "2021-11-27T01:57:34.708736Z",
     "shell.execute_reply": "2021-11-27T01:57:34.709224Z"
    },
    "papermill": {
     "duration": 1.480822,
     "end_time": "2021-11-27T01:57:34.709419",
     "exception": false,
     "start_time": "2021-11-27T01:57:33.228597",
     "status": "completed"
    },
    "tags": []
   },
   "outputs": [],
   "source": [
    "#hide_input\n",
    "import warnings\n",
    "warnings.filterwarnings('ignore')\n",
    "from scripts.read_data import read_api\n",
    "from scripts.read_data import read_news\n",
    "from scripts.read_data import read_covid\n",
    "import matplotlib.pyplot as plt \n",
    "from IPython.display import Markdown as md"
   ]
  },
  {
   "cell_type": "code",
   "execution_count": 2,
   "id": "shared-acceptance",
   "metadata": {
    "execution": {
     "iopub.execute_input": "2021-11-27T01:57:34.738021Z",
     "iopub.status.busy": "2021-11-27T01:57:34.736931Z",
     "iopub.status.idle": "2021-11-27T01:57:43.474103Z",
     "shell.execute_reply": "2021-11-27T01:57:43.472852Z"
    },
    "papermill": {
     "duration": 8.753947,
     "end_time": "2021-11-27T01:57:43.474289",
     "exception": false,
     "start_time": "2021-11-27T01:57:34.720342",
     "status": "completed"
    },
    "tags": []
   },
   "outputs": [],
   "source": [
    "#hide_input\n",
    "blockchain = read_news('blockchain') \n",
    "btc = read_news('btc') \n",
    "xrp = read_news('xrp') \n",
    "trx = read_news('trx') \n",
    "eth = read_news('eth')  \n",
    "ada = read_news('ada')\n",
    "exchange = read_news('exchange') "
   ]
  },
  {
   "cell_type": "code",
   "execution_count": 3,
   "id": "synthetic-notion",
   "metadata": {
    "execution": {
     "iopub.execute_input": "2021-11-27T01:57:43.505886Z",
     "iopub.status.busy": "2021-11-27T01:57:43.505168Z",
     "iopub.status.idle": "2021-11-27T01:57:43.509300Z",
     "shell.execute_reply": "2021-11-27T01:57:43.508582Z"
    },
    "papermill": {
     "duration": 0.022624,
     "end_time": "2021-11-27T01:57:43.509436",
     "exception": false,
     "start_time": "2021-11-27T01:57:43.486812",
     "status": "completed"
    },
    "tags": []
   },
   "outputs": [
    {
     "data": {
      "text/markdown": [
       "- Deciphering the Metaverse #2: Virtual World Frenzy, the Evolution of Blockchain Gaming, and In-Game Economies.  Quick TakeThis weekly series explores the most interesting insights in NFTs, blockchain gaming, and virtual worldsThe metaverse frenzy, which Facebook helped unleash, started to spill over to virtual world projectsInvestigating the current trends in blockchain gaming unearthed different types of games, which range from rudimentary experiments to premium AAA productions ... [| Skaityti daugiau](https://www.theblockresearch.com/deciphering-the-metaverse-2-virtual-world-frenzy-the-evolution-of-blockchain-gaming-and-in-game-economies-125560?utm_source=cryptocompare&utm_medium=rss) "
      ],
      "text/plain": [
       "<IPython.core.display.Markdown object>"
      ]
     },
     "execution_count": 3,
     "metadata": {},
     "output_type": "execute_result"
    }
   ],
   "source": [
    "#hide_input\n",
    "#md('##### {}'.format(titleBTC)) \n",
    "md(\"- {}{} {}{} [| Skaityti daugiau]({}) \".format(blockchain['title'],'. ', blockchain['body'], ' ...', blockchain['url']))"
   ]
  },
  {
   "cell_type": "code",
   "execution_count": 4,
   "id": "aging-caution",
   "metadata": {
    "execution": {
     "iopub.execute_input": "2021-11-27T01:57:43.543090Z",
     "iopub.status.busy": "2021-11-27T01:57:43.541124Z",
     "iopub.status.idle": "2021-11-27T01:57:43.545001Z",
     "shell.execute_reply": "2021-11-27T01:57:43.545524Z"
    },
    "papermill": {
     "duration": 0.022613,
     "end_time": "2021-11-27T01:57:43.545669",
     "exception": false,
     "start_time": "2021-11-27T01:57:43.523056",
     "status": "completed"
    },
    "tags": []
   },
   "outputs": [
    {
     "data": {
      "text/markdown": [
       "- Trader using astrology-based analysis predicts this for Bitcoin, Ethereum.  Using astrology to predict crypto price movements? Before you dismiss this, it&#8217;s worth noting that even Trading View has a moon phases indicator, for investors or traders who use celestial bodies in their analysis. To learn more, journalist Laura Shin interviewed astrologer and trader Maren Altman to learn her price projections for Bitcoin and Ethereum during [&#8230;] ... [| Skaityti daugiau](https://ambcrypto.com/trader-using-astrology-based-analysis-predicts-this-for-bitcoin-ethereum/) "
      ],
      "text/plain": [
       "<IPython.core.display.Markdown object>"
      ]
     },
     "execution_count": 4,
     "metadata": {},
     "output_type": "execute_result"
    }
   ],
   "source": [
    "#hide_input\n",
    "#md('##### {}'.format(titleBTC)) \n",
    "md(\"- {}{} {}{} [| Skaityti daugiau]({}) \".format(btc['title'],'. ', btc['body'], ' ...', btc['url']))"
   ]
  },
  {
   "cell_type": "code",
   "execution_count": 5,
   "id": "organic-actress",
   "metadata": {
    "execution": {
     "iopub.execute_input": "2021-11-27T01:57:43.575695Z",
     "iopub.status.busy": "2021-11-27T01:57:43.575028Z",
     "iopub.status.idle": "2021-11-27T01:57:43.579142Z",
     "shell.execute_reply": "2021-11-27T01:57:43.578640Z"
    },
    "papermill": {
     "duration": 0.021214,
     "end_time": "2021-11-27T01:57:43.579265",
     "exception": false,
     "start_time": "2021-11-27T01:57:43.558051",
     "status": "completed"
    },
    "tags": []
   },
   "outputs": [
    {
     "data": {
      "text/markdown": [
       "- Price analysis 11/26: BTC, ETH, BNB, SOL, ADA, XRP, DOT, DOGE, AVAX, SHIB.  Bitcoin and most major altcoins are on the verge of starting a deeper correction, which will signal that a short-term top may be in place. ... [| Skaityti daugiau](https://cointelegraph.com/news/price-analysis-11-26-btc-eth-bnb-sol-ada-xrp-dot-doge-avax-shib) "
      ],
      "text/plain": [
       "<IPython.core.display.Markdown object>"
      ]
     },
     "execution_count": 5,
     "metadata": {},
     "output_type": "execute_result"
    }
   ],
   "source": [
    "#hide_input\n",
    "#md('##### {}'.format(titleBTC)) \n",
    "md(\"- {}{} {}{} [| Skaityti daugiau]({}) \".format(xrp['title'],'. ', xrp['body'], ' ...', xrp['url']))"
   ]
  },
  {
   "cell_type": "code",
   "execution_count": 6,
   "id": "prompt-farmer",
   "metadata": {
    "execution": {
     "iopub.execute_input": "2021-11-27T01:57:43.608065Z",
     "iopub.status.busy": "2021-11-27T01:57:43.607461Z",
     "iopub.status.idle": "2021-11-27T01:57:43.611807Z",
     "shell.execute_reply": "2021-11-27T01:57:43.612272Z"
    },
    "papermill": {
     "duration": 0.021441,
     "end_time": "2021-11-27T01:57:43.612403",
     "exception": false,
     "start_time": "2021-11-27T01:57:43.590962",
     "status": "completed"
    },
    "tags": []
   },
   "outputs": [
    {
     "data": {
      "text/markdown": [
       "- XRP, Tron, The Sandbox Price Analysis: 26 November.  While the overall market outlook skewed slightly in favor of bulls, XRP and Tron touched their multi-week lows on 24 November. A near-term bullish revival could occur if the bulls gather enough force. Contrarily, SAND saw soaring gains as it touched its ATH on 25 November but now showed signs of slowing down. XRP Since [&#8230;] ... [| Skaityti daugiau](https://ambcrypto.com/xrp-tron-the-sandbox-price-analysis-26-november/) "
      ],
      "text/plain": [
       "<IPython.core.display.Markdown object>"
      ]
     },
     "execution_count": 6,
     "metadata": {},
     "output_type": "execute_result"
    }
   ],
   "source": [
    "#hide_input\n",
    "#md('##### {}'.format(titleBTC)) \n",
    "md(\"- {}{} {}{} [| Skaityti daugiau]({}) \".format(trx['title'],'. ', trx['body'], ' ...', trx['url']))"
   ]
  },
  {
   "cell_type": "code",
   "execution_count": 7,
   "id": "illegal-greece",
   "metadata": {
    "execution": {
     "iopub.execute_input": "2021-11-27T01:57:43.645073Z",
     "iopub.status.busy": "2021-11-27T01:57:43.644408Z",
     "iopub.status.idle": "2021-11-27T01:57:43.647357Z",
     "shell.execute_reply": "2021-11-27T01:57:43.647937Z"
    },
    "papermill": {
     "duration": 0.021499,
     "end_time": "2021-11-27T01:57:43.648069",
     "exception": false,
     "start_time": "2021-11-27T01:57:43.626570",
     "status": "completed"
    },
    "tags": []
   },
   "outputs": [
    {
     "data": {
      "text/markdown": [
       "- Trader using astrology-based analysis predicts this for Bitcoin, Ethereum.  Using astrology to predict crypto price movements? Before you dismiss this, it&#8217;s worth noting that even Trading View has a moon phases indicator, for investors or traders who use celestial bodies in their analysis. To learn more, journalist Laura Shin interviewed astrologer and trader Maren Altman to learn her price projections for Bitcoin and Ethereum during [&#8230;] ... [| Skaityti daugiau](https://ambcrypto.com/trader-using-astrology-based-analysis-predicts-this-for-bitcoin-ethereum/) "
      ],
      "text/plain": [
       "<IPython.core.display.Markdown object>"
      ]
     },
     "execution_count": 7,
     "metadata": {},
     "output_type": "execute_result"
    }
   ],
   "source": [
    "#hide_input\n",
    "#md('##### {}'.format(titleBTC)) \n",
    "md(\"- {}{} {}{} [| Skaityti daugiau]({}) \".format(eth['title'],'. ', eth['body'], ' ...', eth['url']))"
   ]
  },
  {
   "cell_type": "code",
   "execution_count": 8,
   "id": "sublime-lounge",
   "metadata": {
    "execution": {
     "iopub.execute_input": "2021-11-27T01:57:43.680500Z",
     "iopub.status.busy": "2021-11-27T01:57:43.679817Z",
     "iopub.status.idle": "2021-11-27T01:57:43.683170Z",
     "shell.execute_reply": "2021-11-27T01:57:43.682663Z"
    },
    "papermill": {
     "duration": 0.022393,
     "end_time": "2021-11-27T01:57:43.683284",
     "exception": false,
     "start_time": "2021-11-27T01:57:43.660891",
     "status": "completed"
    },
    "tags": []
   },
   "outputs": [
    {
     "data": {
      "text/markdown": [
       "- Red Alert In Crypto Space, Cardano Price Trembling Yet Remains Bullish.  The post Red Alert In Crypto Space, Cardano Price Trembling Yet Remains Bullish appeared first on Coinpedia - Fintech &amp; Cryptocurreny News Media| Crypto GuideCrypto space witnessed a replica of a May crash but with lesser intensity. Bitcoin price is hovering between $53,800 and $54,400. However, some assets stood strong above their support levels like Ethereum &#38; Cardano. Despite the bearish trend prevailing in the short-term, yet the ADA price still remains bullish in the higher time frame. Cardano &#8230; ... [| Skaityti daugiau](https://coinpedia.org/price-analysis/red-alert-in-crypto-space-cardano-price-trembling-yet-remains-bullish/) "
      ],
      "text/plain": [
       "<IPython.core.display.Markdown object>"
      ]
     },
     "execution_count": 8,
     "metadata": {},
     "output_type": "execute_result"
    }
   ],
   "source": [
    "#hide_input\n",
    "#md('##### {}'.format(titleBTC)) \n",
    "md(\"- {}{} {}{} [| Skaityti daugiau]({}) \".format(ada['title'],'. ', ada['body'], ' ...', ada['url']))"
   ]
  },
  {
   "cell_type": "code",
   "execution_count": 9,
   "id": "specified-ordering",
   "metadata": {
    "execution": {
     "iopub.execute_input": "2021-11-27T01:57:43.714171Z",
     "iopub.status.busy": "2021-11-27T01:57:43.713475Z",
     "iopub.status.idle": "2021-11-27T01:57:43.716735Z",
     "shell.execute_reply": "2021-11-27T01:57:43.716154Z"
    },
    "papermill": {
     "duration": 0.020374,
     "end_time": "2021-11-27T01:57:43.716848",
     "exception": false,
     "start_time": "2021-11-27T01:57:43.696474",
     "status": "completed"
    },
    "tags": []
   },
   "outputs": [
    {
     "data": {
      "text/markdown": [
       "- Major Estonian Bank LHV Starts Offering Cryptocurrency Trading via Bitstamp.  One of the largest banks in Estonia, LHV, is now offering cryptocurrency trading directly from its app through crypto exchange Bitstamp. The bank says it is the &#x201C;first bank in the Baltics to start offering crypto trading.&#x201D; Large Estonian Bank Now Offers Crypto Trading LHV announced this week that it has become &#x201C;the first bank [&#8230;] ... [| Skaityti daugiau](https://news.bitcoin.com/major-estonian-bank-lhv-cryptocurrency-trading-bitstamp/) "
      ],
      "text/plain": [
       "<IPython.core.display.Markdown object>"
      ]
     },
     "execution_count": 9,
     "metadata": {},
     "output_type": "execute_result"
    }
   ],
   "source": [
    "#hide_input\n",
    "#md('##### {}'.format(titleBTC)) \n",
    "md(\"- {}{} {}{} [| Skaityti daugiau]({}) \".format(exchange['title'],'. ', exchange['body'], ' ...', exchange['url']))"
   ]
  },
  {
   "cell_type": "code",
   "execution_count": null,
   "id": "tender-livestock",
   "metadata": {
    "papermill": {
     "duration": 0.013094,
     "end_time": "2021-11-27T01:57:43.743131",
     "exception": false,
     "start_time": "2021-11-27T01:57:43.730037",
     "status": "completed"
    },
    "tags": []
   },
   "outputs": [],
   "source": []
  },
  {
   "cell_type": "code",
   "execution_count": null,
   "id": "appreciated-diamond",
   "metadata": {
    "papermill": {
     "duration": 0.012668,
     "end_time": "2021-11-27T01:57:43.771534",
     "exception": false,
     "start_time": "2021-11-27T01:57:43.758866",
     "status": "completed"
    },
    "tags": []
   },
   "outputs": [],
   "source": []
  },
  {
   "cell_type": "code",
   "execution_count": null,
   "id": "romance-sweden",
   "metadata": {
    "papermill": {
     "duration": 0.013411,
     "end_time": "2021-11-27T01:57:43.797682",
     "exception": false,
     "start_time": "2021-11-27T01:57:43.784271",
     "status": "completed"
    },
    "tags": []
   },
   "outputs": [],
   "source": []
  },
  {
   "cell_type": "code",
   "execution_count": null,
   "id": "dietary-statistics",
   "metadata": {
    "papermill": {
     "duration": 0.012709,
     "end_time": "2021-11-27T01:57:43.825009",
     "exception": false,
     "start_time": "2021-11-27T01:57:43.812300",
     "status": "completed"
    },
    "tags": []
   },
   "outputs": [],
   "source": []
  }
 ],
 "metadata": {
  "kernelspec": {
   "display_name": "Python 3",
   "language": "python",
   "name": "python3"
  },
  "language_info": {
   "codemirror_mode": {
    "name": "ipython",
    "version": 3
   },
   "file_extension": ".py",
   "mimetype": "text/x-python",
   "name": "python",
   "nbconvert_exporter": "python",
   "pygments_lexer": "ipython3",
   "version": "3.6.15"
  },
  "papermill": {
   "default_parameters": {},
   "duration": 12.329816,
   "end_time": "2021-11-27T01:57:44.247052",
   "environment_variables": {},
   "exception": null,
   "input_path": "Market-News.ipynb",
   "output_path": "Market-News.ipynb",
   "parameters": {},
   "start_time": "2021-11-27T01:57:31.917236",
   "version": "2.2.2"
  }
 },
 "nbformat": 4,
 "nbformat_minor": 5
}