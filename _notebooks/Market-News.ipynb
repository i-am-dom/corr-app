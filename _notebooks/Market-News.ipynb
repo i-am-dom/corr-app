{
 "cells": [
  {
   "cell_type": "markdown",
   "id": "short-greensboro",
   "metadata": {
    "papermill": {
     "duration": 0.013413,
     "end_time": "2022-03-31T02:34:11.322827",
     "exception": false,
     "start_time": "2022-03-31T02:34:11.309414",
     "status": "completed"
    },
    "tags": []
   },
   "source": [
    "# Kriptovaliutų naujienos"
   ]
  },
  {
   "cell_type": "code",
   "execution_count": 1,
   "id": "functioning-knowing",
   "metadata": {
    "execution": {
     "iopub.execute_input": "2022-03-31T02:34:11.352442Z",
     "iopub.status.busy": "2022-03-31T02:34:11.351900Z",
     "iopub.status.idle": "2022-03-31T02:34:12.651343Z",
     "shell.execute_reply": "2022-03-31T02:34:12.650816Z"
    },
    "papermill": {
     "duration": 1.318745,
     "end_time": "2022-03-31T02:34:12.651492",
     "exception": false,
     "start_time": "2022-03-31T02:34:11.332747",
     "status": "completed"
    },
    "tags": []
   },
   "outputs": [],
   "source": [
    "#hide_input\n",
    "import warnings\n",
    "warnings.filterwarnings('ignore')\n",
    "from scripts.read_data import read_api\n",
    "from scripts.read_data import read_news\n",
    "from scripts.read_data import read_covid\n",
    "import matplotlib.pyplot as plt \n",
    "from IPython.display import Markdown as md"
   ]
  },
  {
   "cell_type": "code",
   "execution_count": 2,
   "id": "shared-acceptance",
   "metadata": {
    "execution": {
     "iopub.execute_input": "2022-03-31T02:34:12.677496Z",
     "iopub.status.busy": "2022-03-31T02:34:12.676964Z",
     "iopub.status.idle": "2022-03-31T02:34:23.716573Z",
     "shell.execute_reply": "2022-03-31T02:34:23.715993Z"
    },
    "papermill": {
     "duration": 11.055142,
     "end_time": "2022-03-31T02:34:23.716712",
     "exception": false,
     "start_time": "2022-03-31T02:34:12.661570",
     "status": "completed"
    },
    "tags": []
   },
   "outputs": [],
   "source": [
    "#hide_input\n",
    "blockchain = read_news('blockchain') \n",
    "btc = read_news('btc') \n",
    "xrp = read_news('xrp') \n",
    "trx = read_news('trx') \n",
    "eth = read_news('eth')  \n",
    "ada = read_news('ada')\n",
    "exchange = read_news('exchange') "
   ]
  },
  {
   "cell_type": "code",
   "execution_count": 3,
   "id": "synthetic-notion",
   "metadata": {
    "execution": {
     "iopub.execute_input": "2022-03-31T02:34:23.743779Z",
     "iopub.status.busy": "2022-03-31T02:34:23.743019Z",
     "iopub.status.idle": "2022-03-31T02:34:23.745676Z",
     "shell.execute_reply": "2022-03-31T02:34:23.746101Z"
    },
    "papermill": {
     "duration": 0.019007,
     "end_time": "2022-03-31T02:34:23.746233",
     "exception": false,
     "start_time": "2022-03-31T02:34:23.727226",
     "status": "completed"
    },
    "tags": []
   },
   "outputs": [
    {
     "data": {
      "text/markdown": [
       "- Bitcoin's Code Is Immutable And Can Withstand Attempts To Make It Proof Of Stake.  Attacks to make Bitcoin change its issuance mechanism to proof of stake are futile. History has shown that this type of attack will not work. ... [| Skaityti daugiau](https://bitcoinmagazine.com/technical/bitcoin-will-never-change-to-proof-of-stake) "
      ],
      "text/plain": [
       "<IPython.core.display.Markdown object>"
      ]
     },
     "execution_count": 3,
     "metadata": {},
     "output_type": "execute_result"
    }
   ],
   "source": [
    "#hide_input\n",
    "#md('##### {}'.format(titleBTC)) \n",
    "md(\"- {}{} {}{} [| Skaityti daugiau]({}) \".format(blockchain['title'],'. ', blockchain['body'], ' ...', blockchain['url']))"
   ]
  },
  {
   "cell_type": "code",
   "execution_count": 4,
   "id": "aging-caution",
   "metadata": {
    "execution": {
     "iopub.execute_input": "2022-03-31T02:34:23.771044Z",
     "iopub.status.busy": "2022-03-31T02:34:23.770439Z",
     "iopub.status.idle": "2022-03-31T02:34:23.776132Z",
     "shell.execute_reply": "2022-03-31T02:34:23.775659Z"
    },
    "papermill": {
     "duration": 0.02044,
     "end_time": "2022-03-31T02:34:23.776259",
     "exception": false,
     "start_time": "2022-03-31T02:34:23.755819",
     "status": "completed"
    },
    "tags": []
   },
   "outputs": [
    {
     "data": {
      "text/markdown": [
       "- Bitcoin's Code Is Immutable And Can Withstand Attempts To Make It Proof Of Stake.  Attacks to make Bitcoin change its issuance mechanism to proof of stake are futile. History has shown that this type of attack will not work. ... [| Skaityti daugiau](https://bitcoinmagazine.com/technical/bitcoin-will-never-change-to-proof-of-stake) "
      ],
      "text/plain": [
       "<IPython.core.display.Markdown object>"
      ]
     },
     "execution_count": 4,
     "metadata": {},
     "output_type": "execute_result"
    }
   ],
   "source": [
    "#hide_input\n",
    "#md('##### {}'.format(titleBTC)) \n",
    "md(\"- {}{} {}{} [| Skaityti daugiau]({}) \".format(btc['title'],'. ', btc['body'], ' ...', btc['url']))"
   ]
  },
  {
   "cell_type": "code",
   "execution_count": 5,
   "id": "organic-actress",
   "metadata": {
    "execution": {
     "iopub.execute_input": "2022-03-31T02:34:23.801625Z",
     "iopub.status.busy": "2022-03-31T02:34:23.800984Z",
     "iopub.status.idle": "2022-03-31T02:34:23.803267Z",
     "shell.execute_reply": "2022-03-31T02:34:23.803728Z"
    },
    "papermill": {
     "duration": 0.017498,
     "end_time": "2022-03-31T02:34:23.803871",
     "exception": false,
     "start_time": "2022-03-31T02:34:23.786373",
     "status": "completed"
    },
    "tags": []
   },
   "outputs": [
    {
     "data": {
      "text/markdown": [
       "- Bitcoin's Code Is Immutable And Can Withstand Attempts To Make It Proof Of Stake.  Attacks to make Bitcoin change its issuance mechanism to proof of stake are futile. History has shown that this type of attack will not work. ... [| Skaityti daugiau](https://bitcoinmagazine.com/technical/bitcoin-will-never-change-to-proof-of-stake) "
      ],
      "text/plain": [
       "<IPython.core.display.Markdown object>"
      ]
     },
     "execution_count": 5,
     "metadata": {},
     "output_type": "execute_result"
    }
   ],
   "source": [
    "#hide_input\n",
    "#md('##### {}'.format(titleBTC)) \n",
    "md(\"- {}{} {}{} [| Skaityti daugiau]({}) \".format(xrp['title'],'. ', xrp['body'], ' ...', xrp['url']))"
   ]
  },
  {
   "cell_type": "code",
   "execution_count": 6,
   "id": "prompt-farmer",
   "metadata": {
    "execution": {
     "iopub.execute_input": "2022-03-31T02:34:23.830115Z",
     "iopub.status.busy": "2022-03-31T02:34:23.829554Z",
     "iopub.status.idle": "2022-03-31T02:34:23.832002Z",
     "shell.execute_reply": "2022-03-31T02:34:23.832386Z"
    },
    "papermill": {
     "duration": 0.018003,
     "end_time": "2022-03-31T02:34:23.832516",
     "exception": false,
     "start_time": "2022-03-31T02:34:23.814513",
     "status": "completed"
    },
    "tags": []
   },
   "outputs": [
    {
     "data": {
      "text/markdown": [
       "- USDT circulation on TRON dwarfs Ethereum’s surpassing $40 billion.  The Tron (TRX) network has been measuring some impressive results in the past few months. One of them is the...  Continue reading  The post USDT circulation on TRON dwarfs Ethereum&#8217;s surpassing $40 billion appeared first on Finbold. ... [| Skaityti daugiau](https://finbold.com/usdt-circulation-on-tron-dwarfs-ethereums-surpassing-40-billion/) "
      ],
      "text/plain": [
       "<IPython.core.display.Markdown object>"
      ]
     },
     "execution_count": 6,
     "metadata": {},
     "output_type": "execute_result"
    }
   ],
   "source": [
    "#hide_input\n",
    "#md('##### {}'.format(titleBTC)) \n",
    "md(\"- {}{} {}{} [| Skaityti daugiau]({}) \".format(trx['title'],'. ', trx['body'], ' ...', trx['url']))"
   ]
  },
  {
   "cell_type": "code",
   "execution_count": 7,
   "id": "illegal-greece",
   "metadata": {
    "execution": {
     "iopub.execute_input": "2022-03-31T02:34:23.858794Z",
     "iopub.status.busy": "2022-03-31T02:34:23.858266Z",
     "iopub.status.idle": "2022-03-31T02:34:23.863161Z",
     "shell.execute_reply": "2022-03-31T02:34:23.863545Z"
    },
    "papermill": {
     "duration": 0.020427,
     "end_time": "2022-03-31T02:34:23.863679",
     "exception": false,
     "start_time": "2022-03-31T02:34:23.843252",
     "status": "completed"
    },
    "tags": []
   },
   "outputs": [
    {
     "data": {
      "text/markdown": [
       "- Top 3 Metaverse Crypto Coins Gaining The Most Price Today (EFI, LOCG, MOOV).  Cryptocurrency markets continue to trade sideways today, with Bitcoin and Ethereum managing to hold support. Metaverse Crypto coins show slight bullish momentum, with some rising over 100% in the past 24 hours. This article looks at the top three Metaverse crypto coins gaining the most price today, ordered by 24-hour growth, lowest to highest. #3 [&#8230;]The post Top 3 Metaverse Crypto Coins Gaining The Most Price Today (EFI, LOCG, MOOV) appeared first on NullTX. ... [| Skaityti daugiau](https://nulltx.com/top-3-metaverse-crypto-coins-gaining-the-most-price-today-efi-locg-moov/) "
      ],
      "text/plain": [
       "<IPython.core.display.Markdown object>"
      ]
     },
     "execution_count": 7,
     "metadata": {},
     "output_type": "execute_result"
    }
   ],
   "source": [
    "#hide_input\n",
    "#md('##### {}'.format(titleBTC)) \n",
    "md(\"- {}{} {}{} [| Skaityti daugiau]({}) \".format(eth['title'],'. ', eth['body'], ' ...', eth['url']))"
   ]
  },
  {
   "cell_type": "code",
   "execution_count": 8,
   "id": "sublime-lounge",
   "metadata": {
    "execution": {
     "iopub.execute_input": "2022-03-31T02:34:23.890810Z",
     "iopub.status.busy": "2022-03-31T02:34:23.890158Z",
     "iopub.status.idle": "2022-03-31T02:34:23.892915Z",
     "shell.execute_reply": "2022-03-31T02:34:23.892407Z"
    },
    "papermill": {
     "duration": 0.018536,
     "end_time": "2022-03-31T02:34:23.893024",
     "exception": false,
     "start_time": "2022-03-31T02:34:23.874488",
     "status": "completed"
    },
    "tags": []
   },
   "outputs": [
    {
     "data": {
      "text/markdown": [
       "- WisdomTree Launches Three New Crypto ETPs Tracking Solana, Cardano, Polkadot.  WisdomTree has added three digital asset exchange-traded products (ETPs) to its list of crypto-related offerings. ... [| Skaityti daugiau](https://cryptopotato.com/wisdomtree-launches-three-new-crypto-etps-tracking-solana-cardano-polkadot/) "
      ],
      "text/plain": [
       "<IPython.core.display.Markdown object>"
      ]
     },
     "execution_count": 8,
     "metadata": {},
     "output_type": "execute_result"
    }
   ],
   "source": [
    "#hide_input\n",
    "#md('##### {}'.format(titleBTC)) \n",
    "md(\"- {}{} {}{} [| Skaityti daugiau]({}) \".format(ada['title'],'. ', ada['body'], ' ...', ada['url']))"
   ]
  },
  {
   "cell_type": "code",
   "execution_count": 9,
   "id": "specified-ordering",
   "metadata": {
    "execution": {
     "iopub.execute_input": "2022-03-31T02:34:23.920950Z",
     "iopub.status.busy": "2022-03-31T02:34:23.920348Z",
     "iopub.status.idle": "2022-03-31T02:34:23.922855Z",
     "shell.execute_reply": "2022-03-31T02:34:23.922352Z"
    },
    "papermill": {
     "duration": 0.018676,
     "end_time": "2022-03-31T02:34:23.922965",
     "exception": false,
     "start_time": "2022-03-31T02:34:23.904289",
     "status": "completed"
    },
    "tags": []
   },
   "outputs": [
    {
     "data": {
      "text/markdown": [
       "- Cardlytics joins forces with Crypto.com to offer rewards.  TL;DR Breakdown • People registered on crypto.com can receive rewards from today.• Cardlytics shares have risen over 2 percent in the last few hours. The Crypto.com cryptocurrency exchange has recently [&#8230;] ... [| Skaityti daugiau](https://www.cryptopolitan.com/cardlytics-joins-forces-with-crypto-com/) "
      ],
      "text/plain": [
       "<IPython.core.display.Markdown object>"
      ]
     },
     "execution_count": 9,
     "metadata": {},
     "output_type": "execute_result"
    }
   ],
   "source": [
    "#hide_input\n",
    "#md('##### {}'.format(titleBTC)) \n",
    "md(\"- {}{} {}{} [| Skaityti daugiau]({}) \".format(exchange['title'],'. ', exchange['body'], ' ...', exchange['url']))"
   ]
  },
  {
   "cell_type": "code",
   "execution_count": null,
   "id": "tender-livestock",
   "metadata": {
    "papermill": {
     "duration": 0.011418,
     "end_time": "2022-03-31T02:34:23.945824",
     "exception": false,
     "start_time": "2022-03-31T02:34:23.934406",
     "status": "completed"
    },
    "tags": []
   },
   "outputs": [],
   "source": []
  },
  {
   "cell_type": "code",
   "execution_count": null,
   "id": "appreciated-diamond",
   "metadata": {
    "papermill": {
     "duration": 0.011384,
     "end_time": "2022-03-31T02:34:23.968792",
     "exception": false,
     "start_time": "2022-03-31T02:34:23.957408",
     "status": "completed"
    },
    "tags": []
   },
   "outputs": [],
   "source": []
  },
  {
   "cell_type": "code",
   "execution_count": null,
   "id": "romance-sweden",
   "metadata": {
    "papermill": {
     "duration": 0.011324,
     "end_time": "2022-03-31T02:34:23.992494",
     "exception": false,
     "start_time": "2022-03-31T02:34:23.981170",
     "status": "completed"
    },
    "tags": []
   },
   "outputs": [],
   "source": []
  },
  {
   "cell_type": "code",
   "execution_count": null,
   "id": "dietary-statistics",
   "metadata": {
    "papermill": {
     "duration": 0.011349,
     "end_time": "2022-03-31T02:34:24.015194",
     "exception": false,
     "start_time": "2022-03-31T02:34:24.003845",
     "status": "completed"
    },
    "tags": []
   },
   "outputs": [],
   "source": []
  }
 ],
 "metadata": {
  "kernelspec": {
   "display_name": "Python 3",
   "language": "python",
   "name": "python3"
  },
  "language_info": {
   "codemirror_mode": {
    "name": "ipython",
    "version": 3
   },
   "file_extension": ".py",
   "mimetype": "text/x-python",
   "name": "python",
   "nbconvert_exporter": "python",
   "pygments_lexer": "ipython3",
   "version": "3.6.15"
  },
  "papermill": {
   "default_parameters": {},
   "duration": 14.178171,
   "end_time": "2022-03-31T02:34:24.545398",
   "environment_variables": {},
   "exception": null,
   "input_path": "Market-News.ipynb",
   "output_path": "Market-News.ipynb",
   "parameters": {},
   "start_time": "2022-03-31T02:34:10.367227",
   "version": "2.2.2"
  }
 },
 "nbformat": 4,
 "nbformat_minor": 5
}