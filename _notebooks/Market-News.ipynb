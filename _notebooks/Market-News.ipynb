{
 "cells": [
  {
   "cell_type": "markdown",
   "id": "short-greensboro",
   "metadata": {
    "papermill": {
     "duration": 0.01258,
     "end_time": "2021-07-23T02:01:39.106042",
     "exception": false,
     "start_time": "2021-07-23T02:01:39.093462",
     "status": "completed"
    },
    "tags": []
   },
   "source": [
    "# Kriptovaliutų naujienos"
   ]
  },
  {
   "cell_type": "code",
   "execution_count": 1,
   "id": "functioning-knowing",
   "metadata": {
    "execution": {
     "iopub.execute_input": "2021-07-23T02:01:39.134793Z",
     "iopub.status.busy": "2021-07-23T02:01:39.134289Z",
     "iopub.status.idle": "2021-07-23T02:01:40.276009Z",
     "shell.execute_reply": "2021-07-23T02:01:40.275488Z"
    },
    "papermill": {
     "duration": 1.160665,
     "end_time": "2021-07-23T02:01:40.276166",
     "exception": false,
     "start_time": "2021-07-23T02:01:39.115501",
     "status": "completed"
    },
    "tags": []
   },
   "outputs": [],
   "source": [
    "#hide_input\n",
    "import warnings\n",
    "warnings.filterwarnings('ignore')\n",
    "from scripts.read_data import read_api\n",
    "from scripts.read_data import read_news\n",
    "from scripts.read_data import read_covid\n",
    "import matplotlib.pyplot as plt \n",
    "from IPython.display import Markdown as md"
   ]
  },
  {
   "cell_type": "code",
   "execution_count": 2,
   "id": "shared-acceptance",
   "metadata": {
    "execution": {
     "iopub.execute_input": "2021-07-23T02:01:40.300979Z",
     "iopub.status.busy": "2021-07-23T02:01:40.300124Z",
     "iopub.status.idle": "2021-07-23T02:01:46.918586Z",
     "shell.execute_reply": "2021-07-23T02:01:46.917483Z"
    },
    "papermill": {
     "duration": 6.632747,
     "end_time": "2021-07-23T02:01:46.918715",
     "exception": false,
     "start_time": "2021-07-23T02:01:40.285968",
     "status": "completed"
    },
    "tags": []
   },
   "outputs": [],
   "source": [
    "#hide_input\n",
    "blockchain = read_news('blockchain') \n",
    "btc = read_news('btc') \n",
    "xrp = read_news('xrp') \n",
    "trx = read_news('trx') \n",
    "eth = read_news('eth')  \n",
    "ada = read_news('ada')\n",
    "exchange = read_news('exchange') "
   ]
  },
  {
   "cell_type": "code",
   "execution_count": 3,
   "id": "synthetic-notion",
   "metadata": {
    "execution": {
     "iopub.execute_input": "2021-07-23T02:01:46.942319Z",
     "iopub.status.busy": "2021-07-23T02:01:46.941818Z",
     "iopub.status.idle": "2021-07-23T02:01:46.944268Z",
     "shell.execute_reply": "2021-07-23T02:01:46.944636Z"
    },
    "papermill": {
     "duration": 0.016803,
     "end_time": "2021-07-23T02:01:46.944749",
     "exception": false,
     "start_time": "2021-07-23T02:01:46.927946",
     "status": "completed"
    },
    "tags": []
   },
   "outputs": [
    {
     "data": {
      "text/markdown": [
       "- VeChain Foundation Reveals Roadmap To PoA 2.0, Major Bullish Catalyzer?.  VET has seen a 5.7% profit in the daily chart after the VeChain Foundation (VF) published the roadmap for the Proof-of-Authority (PoA) 2.0. At the time of writing, VET trades at $0,068. A major milestone for the project, the foundation expects to eliminate the tradeoffs from the Nakamoto Consensus and Byzantine Fault Tolerance (BFT) consensus used by Bitcoin and other cryptocurrencies. The new PoA 2.0 consensus will enable the blockchain VeChainThor to leverage a high throughput capability with guaranteed data finality. Thus, the users and companies building on this platform can apply high volume use cases with &#8220;the highest level of data security&#8221;, according to the VeChain Foundation. The update has been dubbed SURFACE, meaning Secure, Use-case-adaptative, Relatively Fork-free Approach of Chain Extension. Peter Zhou, Chief Scientist at the VF, said the following about the update: The consensus algorithm is the most important part of a public blockchain. Its major upgrade on mainnet has to be done with max cautiousness. It&#8217;ll be done on VeChainThor step by step. Never expect it to be a one-off thing or you are doing it in a wrong way. Thus, the update was roll-out to a new public testnet that implements VIP-193 and VIP-200, part of the PoA2.0 consensus, according to the project&#8217;s GitHub repository. The proposal focuses on 3 aspects, the VRF-based source of randomness and the Committee-endorsing block pro... ... [| Skaityti daugiau](https://www.newsbtc.com/news/vechain-reveals-roadmap-poa-bullish-catalyzer/) "
      ],
      "text/plain": [
       "<IPython.core.display.Markdown object>"
      ]
     },
     "execution_count": 3,
     "metadata": {},
     "output_type": "execute_result"
    }
   ],
   "source": [
    "#hide_input\n",
    "#md('##### {}'.format(titleBTC)) \n",
    "md(\"- {}{} {}{} [| Skaityti daugiau]({}) \".format(blockchain['title'],'. ', blockchain['body'], ' ...', blockchain['url']))"
   ]
  },
  {
   "cell_type": "code",
   "execution_count": 4,
   "id": "aging-caution",
   "metadata": {
    "execution": {
     "iopub.execute_input": "2021-07-23T02:01:46.967309Z",
     "iopub.status.busy": "2021-07-23T02:01:46.966819Z",
     "iopub.status.idle": "2021-07-23T02:01:46.969483Z",
     "shell.execute_reply": "2021-07-23T02:01:46.969950Z"
    },
    "papermill": {
     "duration": 0.016198,
     "end_time": "2021-07-23T02:01:46.970054",
     "exception": false,
     "start_time": "2021-07-23T02:01:46.953856",
     "status": "completed"
    },
    "tags": []
   },
   "outputs": [
    {
     "data": {
      "text/markdown": [
       "- No, Jack Dorsey isn't trolling ETH by making its logo the Ethiopian flag.  “Great to see Jack and the crypto community supporting the #ETH athletes!” the Official Olympics account posted earlier today after Ethereum got a new ‘logo’. ... [| Skaityti daugiau](https://cointelegraph.com/news/no-jack-dorsey-isn-t-trolling-eth-by-making-its-logo-the-ethiopian-flag) "
      ],
      "text/plain": [
       "<IPython.core.display.Markdown object>"
      ]
     },
     "execution_count": 4,
     "metadata": {},
     "output_type": "execute_result"
    }
   ],
   "source": [
    "#hide_input\n",
    "#md('##### {}'.format(titleBTC)) \n",
    "md(\"- {}{} {}{} [| Skaityti daugiau]({}) \".format(btc['title'],'. ', btc['body'], ' ...', btc['url']))"
   ]
  },
  {
   "cell_type": "code",
   "execution_count": 5,
   "id": "organic-actress",
   "metadata": {
    "execution": {
     "iopub.execute_input": "2021-07-23T02:01:46.992929Z",
     "iopub.status.busy": "2021-07-23T02:01:46.992444Z",
     "iopub.status.idle": "2021-07-23T02:01:46.995343Z",
     "shell.execute_reply": "2021-07-23T02:01:46.994937Z"
    },
    "papermill": {
     "duration": 0.016012,
     "end_time": "2021-07-23T02:01:46.995435",
     "exception": false,
     "start_time": "2021-07-23T02:01:46.979423",
     "status": "completed"
    },
    "tags": []
   },
   "outputs": [
    {
     "data": {
      "text/markdown": [
       "- Ripple’s Defence Team Handed a ‘Gift’ That Could Help Them Win Against the SEC.  Jeremy Hogan, a partner at the American law firm Hogan &amp; Hogan, says a recent public statement by two “brave” members of the U.S. Securities and Exchange Commission (SEC) could help Ripple win the lawsuit filed against them by the SEC in December 2020. On 22 December 2020, the SEC announced that it had “filed an action […] ... [| Skaityti daugiau](https://www.cryptoglobe.com/latest/2021/07/ripples-defence-team-handed-a-gift-that-could-help-them-win-against-the-sec/) "
      ],
      "text/plain": [
       "<IPython.core.display.Markdown object>"
      ]
     },
     "execution_count": 5,
     "metadata": {},
     "output_type": "execute_result"
    }
   ],
   "source": [
    "#hide_input\n",
    "#md('##### {}'.format(titleBTC)) \n",
    "md(\"- {}{} {}{} [| Skaityti daugiau]({}) \".format(xrp['title'],'. ', xrp['body'], ' ...', xrp['url']))"
   ]
  },
  {
   "cell_type": "code",
   "execution_count": 6,
   "id": "prompt-farmer",
   "metadata": {
    "execution": {
     "iopub.execute_input": "2021-07-23T02:01:47.018916Z",
     "iopub.status.busy": "2021-07-23T02:01:47.018435Z",
     "iopub.status.idle": "2021-07-23T02:01:47.021474Z",
     "shell.execute_reply": "2021-07-23T02:01:47.021079Z"
    },
    "papermill": {
     "duration": 0.016383,
     "end_time": "2021-07-23T02:01:47.021568",
     "exception": false,
     "start_time": "2021-07-23T02:01:47.005185",
     "status": "completed"
    },
    "tags": []
   },
   "outputs": [
    {
     "data": {
      "text/markdown": [
       "- Chainlink, TRON, SUSHI Price Analysis: 21 July.  Quite a few major cryptocurrencies flashed signs of recovery after abruptly plummeting yesterday. In fact, some alts were trading in the green too. Trading volumes for most altcoins went up yesterday, a finding which confirmed panic selling. In the last few trading sessions before press time, however, LINK, TRX, and SUSHI each saw a decline [&#8230;] ... [| Skaityti daugiau](https://ambcrypto.com/chainlink-tron-sushi-price-analysis-21-july/) "
      ],
      "text/plain": [
       "<IPython.core.display.Markdown object>"
      ]
     },
     "execution_count": 6,
     "metadata": {},
     "output_type": "execute_result"
    }
   ],
   "source": [
    "#hide_input\n",
    "#md('##### {}'.format(titleBTC)) \n",
    "md(\"- {}{} {}{} [| Skaityti daugiau]({}) \".format(trx['title'],'. ', trx['body'], ' ...', trx['url']))"
   ]
  },
  {
   "cell_type": "code",
   "execution_count": 7,
   "id": "illegal-greece",
   "metadata": {
    "execution": {
     "iopub.execute_input": "2021-07-23T02:01:47.045720Z",
     "iopub.status.busy": "2021-07-23T02:01:47.045233Z",
     "iopub.status.idle": "2021-07-23T02:01:47.047936Z",
     "shell.execute_reply": "2021-07-23T02:01:47.048304Z"
    },
    "papermill": {
     "duration": 0.016731,
     "end_time": "2021-07-23T02:01:47.048411",
     "exception": false,
     "start_time": "2021-07-23T02:01:47.031680",
     "status": "completed"
    },
    "tags": []
   },
   "outputs": [
    {
     "data": {
      "text/markdown": [
       "- No, Jack Dorsey isn't trolling ETH by making its logo the Ethiopian flag.  “Great to see Jack and the crypto community supporting the #ETH athletes!” the Official Olympics account posted earlier today after Ethereum got a new ‘logo’. ... [| Skaityti daugiau](https://cointelegraph.com/news/no-jack-dorsey-isn-t-trolling-eth-by-making-its-logo-the-ethiopian-flag) "
      ],
      "text/plain": [
       "<IPython.core.display.Markdown object>"
      ]
     },
     "execution_count": 7,
     "metadata": {},
     "output_type": "execute_result"
    }
   ],
   "source": [
    "#hide_input\n",
    "#md('##### {}'.format(titleBTC)) \n",
    "md(\"- {}{} {}{} [| Skaityti daugiau]({}) \".format(eth['title'],'. ', eth['body'], ' ...', eth['url']))"
   ]
  },
  {
   "cell_type": "code",
   "execution_count": 8,
   "id": "sublime-lounge",
   "metadata": {
    "execution": {
     "iopub.execute_input": "2021-07-23T02:01:47.072561Z",
     "iopub.status.busy": "2021-07-23T02:01:47.071651Z",
     "iopub.status.idle": "2021-07-23T02:01:47.075252Z",
     "shell.execute_reply": "2021-07-23T02:01:47.074867Z"
    },
    "papermill": {
     "duration": 0.016636,
     "end_time": "2021-07-23T02:01:47.075346",
     "exception": false,
     "start_time": "2021-07-23T02:01:47.058710",
     "status": "completed"
    },
    "tags": []
   },
   "outputs": [
    {
     "data": {
      "text/markdown": [
       "- MSN Money Dubs Cardano A Strong YTD Performer.  In a gesture of mainstream acknowledgment, MSN Money posted an article on Cardano today, saying investors should hold ADA. This statement was based on Cardano&#8217;s YTD performance and its price resilience during the recent downturn. With developments moving quickly, including the latest Catalyst Fund5 vote currently open, it won&#8217;t be long before a fully-fledged Cardano-based [&#8230;] ... [| Skaityti daugiau](https://bitcoinist.com/msn-money-designate-cardano-a-strong-ytd-performer/?utm_source=rss&utm_medium=rss&utm_campaign=msn-money-designate-cardano-a-strong-ytd-performer) "
      ],
      "text/plain": [
       "<IPython.core.display.Markdown object>"
      ]
     },
     "execution_count": 8,
     "metadata": {},
     "output_type": "execute_result"
    }
   ],
   "source": [
    "#hide_input\n",
    "#md('##### {}'.format(titleBTC)) \n",
    "md(\"- {}{} {}{} [| Skaityti daugiau]({}) \".format(ada['title'],'. ', ada['body'], ' ...', ada['url']))"
   ]
  },
  {
   "cell_type": "code",
   "execution_count": 9,
   "id": "specified-ordering",
   "metadata": {
    "execution": {
     "iopub.execute_input": "2021-07-23T02:01:47.100727Z",
     "iopub.status.busy": "2021-07-23T02:01:47.100243Z",
     "iopub.status.idle": "2021-07-23T02:01:47.102805Z",
     "shell.execute_reply": "2021-07-23T02:01:47.103196Z"
    },
    "papermill": {
     "duration": 0.017276,
     "end_time": "2021-07-23T02:01:47.103298",
     "exception": false,
     "start_time": "2021-07-23T02:01:47.086022",
     "status": "completed"
    },
    "tags": []
   },
   "outputs": [
    {
     "data": {
      "text/markdown": [
       "- Shanghai Man: US senators tell athletes to avoid digital yuan, Chinese exchange volumes rebound … and more.   ... [| Skaityti daugiau](https://cointelegraph.com/magazine/2021/07/22/shanghai-man-us-lawmakers-causing-trouble-chinese-exchanges-show-signs-of-rebound-but-is-it-temporary) "
      ],
      "text/plain": [
       "<IPython.core.display.Markdown object>"
      ]
     },
     "execution_count": 9,
     "metadata": {},
     "output_type": "execute_result"
    }
   ],
   "source": [
    "#hide_input\n",
    "#md('##### {}'.format(titleBTC)) \n",
    "md(\"- {}{} {}{} [| Skaityti daugiau]({}) \".format(exchange['title'],'. ', exchange['body'], ' ...', exchange['url']))"
   ]
  },
  {
   "cell_type": "code",
   "execution_count": null,
   "id": "tender-livestock",
   "metadata": {
    "papermill": {
     "duration": 0.010913,
     "end_time": "2021-07-23T02:01:47.125136",
     "exception": false,
     "start_time": "2021-07-23T02:01:47.114223",
     "status": "completed"
    },
    "tags": []
   },
   "outputs": [],
   "source": []
  },
  {
   "cell_type": "code",
   "execution_count": null,
   "id": "appreciated-diamond",
   "metadata": {
    "papermill": {
     "duration": 0.010994,
     "end_time": "2021-07-23T02:01:47.147152",
     "exception": false,
     "start_time": "2021-07-23T02:01:47.136158",
     "status": "completed"
    },
    "tags": []
   },
   "outputs": [],
   "source": []
  },
  {
   "cell_type": "code",
   "execution_count": null,
   "id": "romance-sweden",
   "metadata": {
    "papermill": {
     "duration": 0.010908,
     "end_time": "2021-07-23T02:01:47.168987",
     "exception": false,
     "start_time": "2021-07-23T02:01:47.158079",
     "status": "completed"
    },
    "tags": []
   },
   "outputs": [],
   "source": []
  },
  {
   "cell_type": "code",
   "execution_count": null,
   "id": "dietary-statistics",
   "metadata": {
    "papermill": {
     "duration": 0.010887,
     "end_time": "2021-07-23T02:01:47.190832",
     "exception": false,
     "start_time": "2021-07-23T02:01:47.179945",
     "status": "completed"
    },
    "tags": []
   },
   "outputs": [],
   "source": []
  }
 ],
 "metadata": {
  "kernelspec": {
   "display_name": "Python 3",
   "language": "python",
   "name": "python3"
  },
  "language_info": {
   "codemirror_mode": {
    "name": "ipython",
    "version": 3
   },
   "file_extension": ".py",
   "mimetype": "text/x-python",
   "name": "python",
   "nbconvert_exporter": "python",
   "pygments_lexer": "ipython3",
   "version": "3.6.14"
  },
  "papermill": {
   "default_parameters": {},
   "duration": 9.608162,
   "end_time": "2021-07-23T02:01:47.608873",
   "environment_variables": {},
   "exception": null,
   "input_path": "Market-News.ipynb",
   "output_path": "Market-News.ipynb",
   "parameters": {},
   "start_time": "2021-07-23T02:01:38.000711",
   "version": "2.2.2"
  }
 },
 "nbformat": 4,
 "nbformat_minor": 5
}