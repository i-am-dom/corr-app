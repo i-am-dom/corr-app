{
 "cells": [
  {
   "cell_type": "markdown",
   "id": "short-greensboro",
   "metadata": {
    "papermill": {
     "duration": 0.013809,
     "end_time": "2022-03-20T02:16:37.972686",
     "exception": false,
     "start_time": "2022-03-20T02:16:37.958877",
     "status": "completed"
    },
    "tags": []
   },
   "source": [
    "# Kriptovaliutų naujienos"
   ]
  },
  {
   "cell_type": "code",
   "execution_count": 1,
   "id": "functioning-knowing",
   "metadata": {
    "execution": {
     "iopub.execute_input": "2022-03-20T02:16:38.002568Z",
     "iopub.status.busy": "2022-03-20T02:16:38.002007Z",
     "iopub.status.idle": "2022-03-20T02:16:39.352885Z",
     "shell.execute_reply": "2022-03-20T02:16:39.352165Z"
    },
    "papermill": {
     "duration": 1.370562,
     "end_time": "2022-03-20T02:16:39.353060",
     "exception": false,
     "start_time": "2022-03-20T02:16:37.982498",
     "status": "completed"
    },
    "tags": []
   },
   "outputs": [],
   "source": [
    "#hide_input\n",
    "import warnings\n",
    "warnings.filterwarnings('ignore')\n",
    "from scripts.read_data import read_api\n",
    "from scripts.read_data import read_news\n",
    "from scripts.read_data import read_covid\n",
    "import matplotlib.pyplot as plt \n",
    "from IPython.display import Markdown as md"
   ]
  },
  {
   "cell_type": "code",
   "execution_count": 2,
   "id": "shared-acceptance",
   "metadata": {
    "execution": {
     "iopub.execute_input": "2022-03-20T02:16:39.380099Z",
     "iopub.status.busy": "2022-03-20T02:16:39.379036Z",
     "iopub.status.idle": "2022-03-20T02:16:47.983312Z",
     "shell.execute_reply": "2022-03-20T02:16:47.983843Z"
    },
    "papermill": {
     "duration": 8.620961,
     "end_time": "2022-03-20T02:16:47.984010",
     "exception": false,
     "start_time": "2022-03-20T02:16:39.363049",
     "status": "completed"
    },
    "tags": []
   },
   "outputs": [],
   "source": [
    "#hide_input\n",
    "blockchain = read_news('blockchain') \n",
    "btc = read_news('btc') \n",
    "xrp = read_news('xrp') \n",
    "trx = read_news('trx') \n",
    "eth = read_news('eth')  \n",
    "ada = read_news('ada')\n",
    "exchange = read_news('exchange') "
   ]
  },
  {
   "cell_type": "code",
   "execution_count": 3,
   "id": "synthetic-notion",
   "metadata": {
    "execution": {
     "iopub.execute_input": "2022-03-20T02:16:48.008883Z",
     "iopub.status.busy": "2022-03-20T02:16:48.008343Z",
     "iopub.status.idle": "2022-03-20T02:16:48.010515Z",
     "shell.execute_reply": "2022-03-20T02:16:48.010922Z"
    },
    "papermill": {
     "duration": 0.017671,
     "end_time": "2022-03-20T02:16:48.011051",
     "exception": false,
     "start_time": "2022-03-20T02:16:47.993380",
     "status": "completed"
    },
    "tags": []
   },
   "outputs": [
    {
     "data": {
      "text/markdown": [
       "- Rare Bears faced phishing attack, attackers steals $800K in NFTs.  Unique hand-drawn NFTs taking over the BearVerse, Rare Bears, has witnessed an attack where the hacker posted a phishing link on the project’s official Discord channel. This has led to a loss of $800,000 in NFTs. blockchain security firm Peckshield analyzed the attack and said that the attacker has stolen 179 NFTs including Rare Bears [&#8230;]The post Rare Bears faced phishing attack, attackers steals $800K in NFTs appeared first on Blockchain, Crypto and Stock News. ... [| Skaityti daugiau](https://thecoinrise.com/rare-bears-faced-phishing-attack-attackers-steals-800k-in-nfts/) "
      ],
      "text/plain": [
       "<IPython.core.display.Markdown object>"
      ]
     },
     "execution_count": 3,
     "metadata": {},
     "output_type": "execute_result"
    }
   ],
   "source": [
    "#hide_input\n",
    "#md('##### {}'.format(titleBTC)) \n",
    "md(\"- {}{} {}{} [| Skaityti daugiau]({}) \".format(blockchain['title'],'. ', blockchain['body'], ' ...', blockchain['url']))"
   ]
  },
  {
   "cell_type": "code",
   "execution_count": 4,
   "id": "aging-caution",
   "metadata": {
    "execution": {
     "iopub.execute_input": "2022-03-20T02:16:48.035081Z",
     "iopub.status.busy": "2022-03-20T02:16:48.034525Z",
     "iopub.status.idle": "2022-03-20T02:16:48.037641Z",
     "shell.execute_reply": "2022-03-20T02:16:48.037139Z"
    },
    "papermill": {
     "duration": 0.017141,
     "end_time": "2022-03-20T02:16:48.037748",
     "exception": false,
     "start_time": "2022-03-20T02:16:48.020607",
     "status": "completed"
    },
    "tags": []
   },
   "outputs": [
    {
     "data": {
      "text/markdown": [
       "- Every Bitcoin helps: Crypto-fueled relief aid for Ukraine.  Every little bit of crypto donated can help Ukrainians, and it is clearly demonstrating that crypto is the future of financial donations. ... [| Skaityti daugiau](https://cointelegraph.com/news/every-bitcoin-helps-crypto-fueled-relief-aid-for-ukraine) "
      ],
      "text/plain": [
       "<IPython.core.display.Markdown object>"
      ]
     },
     "execution_count": 4,
     "metadata": {},
     "output_type": "execute_result"
    }
   ],
   "source": [
    "#hide_input\n",
    "#md('##### {}'.format(titleBTC)) \n",
    "md(\"- {}{} {}{} [| Skaityti daugiau]({}) \".format(btc['title'],'. ', btc['body'], ' ...', btc['url']))"
   ]
  },
  {
   "cell_type": "code",
   "execution_count": 5,
   "id": "organic-actress",
   "metadata": {
    "execution": {
     "iopub.execute_input": "2022-03-20T02:16:48.062096Z",
     "iopub.status.busy": "2022-03-20T02:16:48.061581Z",
     "iopub.status.idle": "2022-03-20T02:16:48.064412Z",
     "shell.execute_reply": "2022-03-20T02:16:48.064887Z"
    },
    "papermill": {
     "duration": 0.017693,
     "end_time": "2022-03-20T02:16:48.065013",
     "exception": false,
     "start_time": "2022-03-20T02:16:48.047320",
     "status": "completed"
    },
    "tags": []
   },
   "outputs": [
    {
     "data": {
      "text/markdown": [
       "- XRP price eyes 25% gain; did Ripple bulls make a comeback.  XRP price has formed a bottom reversal setup which suggests the possibility of an explosive move favoring the bulls. Moreover, Ripple has already breached the pattern, suggesting the start of this rally. Interested investors need to pay close attention to the retest of a crucial support level to capitalize on the incoming move. Ripple bulls [&#8230;] ... [| Skaityti daugiau](https://ambcrypto.com/xrp-price-eyes-25-gain-did-ripple-bulls-make-a-comeback/) "
      ],
      "text/plain": [
       "<IPython.core.display.Markdown object>"
      ]
     },
     "execution_count": 5,
     "metadata": {},
     "output_type": "execute_result"
    }
   ],
   "source": [
    "#hide_input\n",
    "#md('##### {}'.format(titleBTC)) \n",
    "md(\"- {}{} {}{} [| Skaityti daugiau]({}) \".format(xrp['title'],'. ', xrp['body'], ' ...', xrp['url']))"
   ]
  },
  {
   "cell_type": "code",
   "execution_count": 6,
   "id": "prompt-farmer",
   "metadata": {
    "execution": {
     "iopub.execute_input": "2022-03-20T02:16:48.089962Z",
     "iopub.status.busy": "2022-03-20T02:16:48.089452Z",
     "iopub.status.idle": "2022-03-20T02:16:48.092761Z",
     "shell.execute_reply": "2022-03-20T02:16:48.092349Z"
    },
    "papermill": {
     "duration": 0.017934,
     "end_time": "2022-03-20T02:16:48.092873",
     "exception": false,
     "start_time": "2022-03-20T02:16:48.074939",
     "status": "completed"
    },
    "tags": []
   },
   "outputs": [
    {
     "data": {
      "text/markdown": [
       "- What SEC v. Ripple has in common with the allegations against Sun, TRON.  If TRON DAO &#8211; née TRON &#8211; wasn&#8217;t enough of a conversation starter, an investigative piece by journalist Chris Harland-Dunaway published in The Verge dropped a bomb. It accused Tron founder Justin Sun of actions ranging from getting ICO ban tip-offs to insider trading. In a conversation with journalist Laura Shin, Harland-Dunaway revealed more details [&#8230;] ... [| Skaityti daugiau](https://ambcrypto.com/what-sec-v-ripple-has-in-common-with-the-allegations-against-sun-tron/) "
      ],
      "text/plain": [
       "<IPython.core.display.Markdown object>"
      ]
     },
     "execution_count": 6,
     "metadata": {},
     "output_type": "execute_result"
    }
   ],
   "source": [
    "#hide_input\n",
    "#md('##### {}'.format(titleBTC)) \n",
    "md(\"- {}{} {}{} [| Skaityti daugiau]({}) \".format(trx['title'],'. ', trx['body'], ' ...', trx['url']))"
   ]
  },
  {
   "cell_type": "code",
   "execution_count": 7,
   "id": "illegal-greece",
   "metadata": {
    "execution": {
     "iopub.execute_input": "2022-03-20T02:16:48.118237Z",
     "iopub.status.busy": "2022-03-20T02:16:48.117731Z",
     "iopub.status.idle": "2022-03-20T02:16:48.120789Z",
     "shell.execute_reply": "2022-03-20T02:16:48.120360Z"
    },
    "papermill": {
     "duration": 0.01759,
     "end_time": "2022-03-20T02:16:48.120895",
     "exception": false,
     "start_time": "2022-03-20T02:16:48.103305",
     "status": "completed"
    },
    "tags": []
   },
   "outputs": [
    {
     "data": {
      "text/markdown": [
       "- Ethereum Flashes Ultra-Bullish Signal — Nearly 200,000 ETH Withdrawn From Exchanges In A Day.  Ethereum is printing another bullish indicator in the market that points to an imminent price wave. Per on-chain data by IntoTheBlock, the Ethereum market has recorded its largest single-day exchange outflow in 2022. ... [| Skaityti daugiau](https://zycrypto.com/ethereum-flashes-ultra-bullish-signal-nearly-200000-eth-withdrawn-from-exchanges-in-a-day/) "
      ],
      "text/plain": [
       "<IPython.core.display.Markdown object>"
      ]
     },
     "execution_count": 7,
     "metadata": {},
     "output_type": "execute_result"
    }
   ],
   "source": [
    "#hide_input\n",
    "#md('##### {}'.format(titleBTC)) \n",
    "md(\"- {}{} {}{} [| Skaityti daugiau]({}) \".format(eth['title'],'. ', eth['body'], ' ...', eth['url']))"
   ]
  },
  {
   "cell_type": "code",
   "execution_count": 8,
   "id": "sublime-lounge",
   "metadata": {
    "execution": {
     "iopub.execute_input": "2022-03-20T02:16:48.147207Z",
     "iopub.status.busy": "2022-03-20T02:16:48.146699Z",
     "iopub.status.idle": "2022-03-20T02:16:48.149773Z",
     "shell.execute_reply": "2022-03-20T02:16:48.149363Z"
    },
    "papermill": {
     "duration": 0.018456,
     "end_time": "2022-03-20T02:16:48.149885",
     "exception": false,
     "start_time": "2022-03-20T02:16:48.131429",
     "status": "completed"
    },
    "tags": []
   },
   "outputs": [
    {
     "data": {
      "text/markdown": [
       "- Cardano: This new bullish pattern holds big promise for a recovery to $1.  Cardano price shows signs of coming around after months of downtrend. The four-hour chart shows that ADA has formed a bottom reversal pattern suggesting a reversal in trend. Therefore, investors need to pay close attention to how this formation resolves and translates into a higher time frame. A full 180 for ADA holders Cardano price [&#8230;] ... [| Skaityti daugiau](https://ambcrypto.com/cardano-this-new-bullish-pattern-holds-big-promise-for-a-recovery-to-1/) "
      ],
      "text/plain": [
       "<IPython.core.display.Markdown object>"
      ]
     },
     "execution_count": 8,
     "metadata": {},
     "output_type": "execute_result"
    }
   ],
   "source": [
    "#hide_input\n",
    "#md('##### {}'.format(titleBTC)) \n",
    "md(\"- {}{} {}{} [| Skaityti daugiau]({}) \".format(ada['title'],'. ', ada['body'], ' ...', ada['url']))"
   ]
  },
  {
   "cell_type": "code",
   "execution_count": 9,
   "id": "specified-ordering",
   "metadata": {
    "execution": {
     "iopub.execute_input": "2022-03-20T02:16:48.177196Z",
     "iopub.status.busy": "2022-03-20T02:16:48.176678Z",
     "iopub.status.idle": "2022-03-20T02:16:48.179601Z",
     "shell.execute_reply": "2022-03-20T02:16:48.179087Z"
    },
    "papermill": {
     "duration": 0.018925,
     "end_time": "2022-03-20T02:16:48.179720",
     "exception": false,
     "start_time": "2022-03-20T02:16:48.160795",
     "status": "completed"
    },
    "tags": []
   },
   "outputs": [
    {
     "data": {
      "text/markdown": [
       "- Coinbase Sued for Allegedly Selling 79 Unregistered Crypto Securities — Including XRP, Dogecoin, Shiba Inu.  A class-action lawsuit has been filed against the Nasdaq-listed cryptocurrency exchange Coinbase alleging that the platform lets customers trade 79 cryptocurrencies that are unregistered securities, including XRP, dogecoin (DOGE), and shiba inu (SHIB). Lawsuit Claims Coinbase Sold 79 Unregistered Crypto Securities to Customers A class-action lawsuit was filed last week against Coinbase Global Inc., Coinbase [&#8230;] ... [| Skaityti daugiau](https://news.bitcoin.com/coinbase-sued-for-allegedly-selling-79-unregistered-crypto-securities-xrp-dogecoin-shiba-inu/) "
      ],
      "text/plain": [
       "<IPython.core.display.Markdown object>"
      ]
     },
     "execution_count": 9,
     "metadata": {},
     "output_type": "execute_result"
    }
   ],
   "source": [
    "#hide_input\n",
    "#md('##### {}'.format(titleBTC)) \n",
    "md(\"- {}{} {}{} [| Skaityti daugiau]({}) \".format(exchange['title'],'. ', exchange['body'], ' ...', exchange['url']))"
   ]
  },
  {
   "cell_type": "code",
   "execution_count": null,
   "id": "tender-livestock",
   "metadata": {
    "papermill": {
     "duration": 0.011347,
     "end_time": "2022-03-20T02:16:48.202379",
     "exception": false,
     "start_time": "2022-03-20T02:16:48.191032",
     "status": "completed"
    },
    "tags": []
   },
   "outputs": [],
   "source": []
  },
  {
   "cell_type": "code",
   "execution_count": null,
   "id": "appreciated-diamond",
   "metadata": {
    "papermill": {
     "duration": 0.011105,
     "end_time": "2022-03-20T02:16:48.225436",
     "exception": false,
     "start_time": "2022-03-20T02:16:48.214331",
     "status": "completed"
    },
    "tags": []
   },
   "outputs": [],
   "source": []
  },
  {
   "cell_type": "code",
   "execution_count": null,
   "id": "romance-sweden",
   "metadata": {
    "papermill": {
     "duration": 0.011103,
     "end_time": "2022-03-20T02:16:48.248781",
     "exception": false,
     "start_time": "2022-03-20T02:16:48.237678",
     "status": "completed"
    },
    "tags": []
   },
   "outputs": [],
   "source": []
  },
  {
   "cell_type": "code",
   "execution_count": null,
   "id": "dietary-statistics",
   "metadata": {
    "papermill": {
     "duration": 0.011121,
     "end_time": "2022-03-20T02:16:48.271038",
     "exception": false,
     "start_time": "2022-03-20T02:16:48.259917",
     "status": "completed"
    },
    "tags": []
   },
   "outputs": [],
   "source": []
  }
 ],
 "metadata": {
  "kernelspec": {
   "display_name": "Python 3",
   "language": "python",
   "name": "python3"
  },
  "language_info": {
   "codemirror_mode": {
    "name": "ipython",
    "version": 3
   },
   "file_extension": ".py",
   "mimetype": "text/x-python",
   "name": "python",
   "nbconvert_exporter": "python",
   "pygments_lexer": "ipython3",
   "version": "3.6.15"
  },
  "papermill": {
   "default_parameters": {},
   "duration": 11.798013,
   "end_time": "2022-03-20T02:16:48.801651",
   "environment_variables": {},
   "exception": null,
   "input_path": "Market-News.ipynb",
   "output_path": "Market-News.ipynb",
   "parameters": {},
   "start_time": "2022-03-20T02:16:37.003638",
   "version": "2.2.2"
  }
 },
 "nbformat": 4,
 "nbformat_minor": 5
}