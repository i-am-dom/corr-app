{
 "cells": [
  {
   "cell_type": "markdown",
   "id": "short-greensboro",
   "metadata": {
    "papermill": {
     "duration": 0.016302,
     "end_time": "2022-08-24T03:38:45.805863",
     "exception": false,
     "start_time": "2022-08-24T03:38:45.789561",
     "status": "completed"
    },
    "tags": []
   },
   "source": [
    "# Kriptovaliutų naujienos"
   ]
  },
  {
   "cell_type": "code",
   "execution_count": 1,
   "id": "functioning-knowing",
   "metadata": {
    "execution": {
     "iopub.execute_input": "2022-08-24T03:38:45.854657Z",
     "iopub.status.busy": "2022-08-24T03:38:45.852922Z",
     "iopub.status.idle": "2022-08-24T03:38:47.494001Z",
     "shell.execute_reply": "2022-08-24T03:38:47.493307Z"
    },
    "papermill": {
     "duration": 1.673146,
     "end_time": "2022-08-24T03:38:47.494166",
     "exception": false,
     "start_time": "2022-08-24T03:38:45.821020",
     "status": "completed"
    },
    "tags": []
   },
   "outputs": [],
   "source": [
    "#hide_input\n",
    "import warnings\n",
    "warnings.filterwarnings('ignore')\n",
    "from scripts.read_data import read_api\n",
    "from scripts.read_data import read_news\n",
    "from scripts.read_data import read_covid\n",
    "import matplotlib.pyplot as plt \n",
    "from IPython.display import Markdown as md"
   ]
  },
  {
   "cell_type": "code",
   "execution_count": 2,
   "id": "shared-acceptance",
   "metadata": {
    "execution": {
     "iopub.execute_input": "2022-08-24T03:38:47.526964Z",
     "iopub.status.busy": "2022-08-24T03:38:47.525736Z",
     "iopub.status.idle": "2022-08-24T03:39:01.483519Z",
     "shell.execute_reply": "2022-08-24T03:39:01.482883Z"
    },
    "papermill": {
     "duration": 13.9766,
     "end_time": "2022-08-24T03:39:01.483670",
     "exception": false,
     "start_time": "2022-08-24T03:38:47.507070",
     "status": "completed"
    },
    "tags": []
   },
   "outputs": [],
   "source": [
    "#hide_input\n",
    "blockchain = read_news('blockchain') \n",
    "btc = read_news('btc') \n",
    "xrp = read_news('xrp') \n",
    "trx = read_news('trx') \n",
    "eth = read_news('eth')  \n",
    "ada = read_news('ada')\n",
    "exchange = read_news('exchange') "
   ]
  },
  {
   "cell_type": "code",
   "execution_count": 3,
   "id": "synthetic-notion",
   "metadata": {
    "execution": {
     "iopub.execute_input": "2022-08-24T03:39:01.516710Z",
     "iopub.status.busy": "2022-08-24T03:39:01.515830Z",
     "iopub.status.idle": "2022-08-24T03:39:01.523919Z",
     "shell.execute_reply": "2022-08-24T03:39:01.523109Z"
    },
    "papermill": {
     "duration": 0.027866,
     "end_time": "2022-08-24T03:39:01.524061",
     "exception": false,
     "start_time": "2022-08-24T03:39:01.496195",
     "status": "completed"
    },
    "tags": []
   },
   "outputs": [
    {
     "data": {
      "text/markdown": [
       "- India to become a Web3 Global Hub with the launch of a promising Blockchain Forum.  India will become the world&#8217;s center for blockchain and web3 technology, according to the recently established Indian blockchain advocacy platform. The India Blockchain Forum (IBF) was recently announced by a group of prominent Indian blockchain influencers with experience in trading, NFT, Metaverse, cybercrime, etc. According to media reports, Jayesh Ranjan, the state&#8217;s principal secretary for industry, [&#8230;]The post India to become a Web3 Global Hub with the launch of a promising Blockchain Forum appeared first on Blockchain, Crypto and Stock News. ... [| Skaityti daugiau](https://thecoinrise.com/india-to-become-a-web3-global-hub-with-the-launch-of-a-promising-blockchain-forum/) "
      ],
      "text/plain": [
       "<IPython.core.display.Markdown object>"
      ]
     },
     "execution_count": 3,
     "metadata": {},
     "output_type": "execute_result"
    }
   ],
   "source": [
    "#hide_input\n",
    "#md('##### {}'.format(titleBTC)) \n",
    "md(\"- {}{} {}{} [| Skaityti daugiau]({}) \".format(blockchain['title'],'. ', blockchain['body'], ' ...', blockchain['url']))"
   ]
  },
  {
   "cell_type": "code",
   "execution_count": 4,
   "id": "aging-caution",
   "metadata": {
    "execution": {
     "iopub.execute_input": "2022-08-24T03:39:01.558456Z",
     "iopub.status.busy": "2022-08-24T03:39:01.557612Z",
     "iopub.status.idle": "2022-08-24T03:39:01.564397Z",
     "shell.execute_reply": "2022-08-24T03:39:01.563754Z"
    },
    "papermill": {
     "duration": 0.027501,
     "end_time": "2022-08-24T03:39:01.564536",
     "exception": false,
     "start_time": "2022-08-24T03:39:01.537035",
     "status": "completed"
    },
    "tags": []
   },
   "outputs": [
    {
     "data": {
      "text/markdown": [
       "- Data shows Bitcoin and altcoins at risk of 20% drop.  After the rising wedge formation was broken on August 17, the total crypto market cap quickly dropped to $1 trillion, and the bulls dreamed of a return to the 1.2 support level. Trillion dollars, last seen on June 10, has become far away. These dire conditions are not only affecting the cryptocurrency market. World oil [&#8230;] ... [| Skaityti daugiau](https://coinnounce.com/data-shows-bitcoin-and-altcoins-at-risk-of-20-drop/) "
      ],
      "text/plain": [
       "<IPython.core.display.Markdown object>"
      ]
     },
     "execution_count": 4,
     "metadata": {},
     "output_type": "execute_result"
    }
   ],
   "source": [
    "#hide_input\n",
    "#md('##### {}'.format(titleBTC)) \n",
    "md(\"- {}{} {}{} [| Skaityti daugiau]({}) \".format(btc['title'],'. ', btc['body'], ' ...', btc['url']))"
   ]
  },
  {
   "cell_type": "code",
   "execution_count": 5,
   "id": "organic-actress",
   "metadata": {
    "execution": {
     "iopub.execute_input": "2022-08-24T03:39:01.604383Z",
     "iopub.status.busy": "2022-08-24T03:39:01.603344Z",
     "iopub.status.idle": "2022-08-24T03:39:01.606807Z",
     "shell.execute_reply": "2022-08-24T03:39:01.607372Z"
    },
    "papermill": {
     "duration": 0.027317,
     "end_time": "2022-08-24T03:39:01.607540",
     "exception": false,
     "start_time": "2022-08-24T03:39:01.580223",
     "status": "completed"
    },
    "tags": []
   },
   "outputs": [
    {
     "data": {
      "text/markdown": [
       "- XRP Price Falls To $0.34, Will Bulls Defend Support Of $0.33?.  XRP Price was constantly consolidating on its four hour chart. The bulls have faded out from the market but are consistently trying to protect price from falling below the immediate support level. Despite the 1.5% appreciation over the last 24 hours, XRP price doesn&#8217;t seem to be out of the woods yet. Over the last one week the coin lost 10% but the coin has maintained its price above the vital support line. Technical outlook for the coin also indicated bearishness. After XRP price lost the $0.39 price level, the altcoin was mostly trading sideways. For the coin to move upwards it is important that XRP moves above the $0.34 price mark. Buying pressure on the chart declined considerably which was a sign of price weakness. With Bitcoin moving down on the chart, other altcoins have also dipped on the chart. If XRP price loses the current support level then further downward movement could be expected over the immediate trading sessions. XRP Price Analysis: Four Hour Chart The altcoin was trading for $0.34 at the time of writing. It is crucial for the coin to maintain its price above the immediate support level of $0.33. A fall below that will make the coin trade at $0.29 which would make the coin trade at a multi-week low. Overhead resistance for the coin stood at $0.37 and if it topples over that price ceiling, the next target was at $0.40. Ever since the coin lost its long holding support of $0.36, the coin has moved southb... ... [| Skaityti daugiau](https://www.newsbtc.com/news/xrp-price-falls-to-0-34-will-bulls-defend-support-of-0-33/) "
      ],
      "text/plain": [
       "<IPython.core.display.Markdown object>"
      ]
     },
     "execution_count": 5,
     "metadata": {},
     "output_type": "execute_result"
    }
   ],
   "source": [
    "#hide_input\n",
    "#md('##### {}'.format(titleBTC)) \n",
    "md(\"- {}{} {}{} [| Skaityti daugiau]({}) \".format(xrp['title'],'. ', xrp['body'], ' ...', xrp['url']))"
   ]
  },
  {
   "cell_type": "code",
   "execution_count": 6,
   "id": "prompt-farmer",
   "metadata": {
    "execution": {
     "iopub.execute_input": "2022-08-24T03:39:01.641581Z",
     "iopub.status.busy": "2022-08-24T03:39:01.640762Z",
     "iopub.status.idle": "2022-08-24T03:39:01.648402Z",
     "shell.execute_reply": "2022-08-24T03:39:01.647791Z"
    },
    "papermill": {
     "duration": 0.027247,
     "end_time": "2022-08-24T03:39:01.648563",
     "exception": false,
     "start_time": "2022-08-24T03:39:01.621316",
     "status": "completed"
    },
    "tags": []
   },
   "outputs": [
    {
     "data": {
      "text/markdown": [
       "- Is Tron outcompeting BTC, ETH? The answer might startle you.  In a recent tweet, the official Twitter account of TronDao informed how they outcompeted major cryptocurrencies. TronDao was ranked number one for the total number of active addresses compared to BTC, ETH, and XRP. One of the reasons why the crypto community has been using Tron for a lot of their transactions could be its [&#8230;] ... [| Skaityti daugiau](https://ambcrypto.com/is-tron-outcompeting-btc-and-eth-the-answer-might-startle-you/) "
      ],
      "text/plain": [
       "<IPython.core.display.Markdown object>"
      ]
     },
     "execution_count": 6,
     "metadata": {},
     "output_type": "execute_result"
    }
   ],
   "source": [
    "#hide_input\n",
    "#md('##### {}'.format(titleBTC)) \n",
    "md(\"- {}{} {}{} [| Skaityti daugiau]({}) \".format(trx['title'],'. ', trx['body'], ' ...', trx['url']))"
   ]
  },
  {
   "cell_type": "code",
   "execution_count": 7,
   "id": "illegal-greece",
   "metadata": {
    "execution": {
     "iopub.execute_input": "2022-08-24T03:39:01.685760Z",
     "iopub.status.busy": "2022-08-24T03:39:01.685006Z",
     "iopub.status.idle": "2022-08-24T03:39:01.689666Z",
     "shell.execute_reply": "2022-08-24T03:39:01.688998Z"
    },
    "papermill": {
     "duration": 0.026878,
     "end_time": "2022-08-24T03:39:01.689793",
     "exception": false,
     "start_time": "2022-08-24T03:39:01.662915",
     "status": "completed"
    },
    "tags": []
   },
   "outputs": [
    {
     "data": {
      "text/markdown": [
       "- Bitcoin, Ethereum, Solana, and Avalanche Daily Price Analyses – 23 August Morning Price Prediction.  The global crypto market hasn&#8217;t been able to progress. The lack of enough push from the investors has made it languish at lows. The recent data for Bitcoin, Ethereum, and others show a dominant trend for losses. The market recently turned bullish but couldn&#8217;t bring investors the desired gains. As the negative changes continue, the &#8230;  Bitcoin, Ethereum, Solana, and Avalanche Daily Price Analyses – 23 August Morning Price Prediction Read More &#187; ... [| Skaityti daugiau](https://www.cryptopolitan.com/bitcoin-ethereum-solana-and-avalanche-daily-price-analyses-23-august-morning-price-prediction/) "
      ],
      "text/plain": [
       "<IPython.core.display.Markdown object>"
      ]
     },
     "execution_count": 7,
     "metadata": {},
     "output_type": "execute_result"
    }
   ],
   "source": [
    "#hide_input\n",
    "#md('##### {}'.format(titleBTC)) \n",
    "md(\"- {}{} {}{} [| Skaityti daugiau]({}) \".format(eth['title'],'. ', eth['body'], ' ...', eth['url']))"
   ]
  },
  {
   "cell_type": "code",
   "execution_count": 8,
   "id": "sublime-lounge",
   "metadata": {
    "execution": {
     "iopub.execute_input": "2022-08-24T03:39:01.725336Z",
     "iopub.status.busy": "2022-08-24T03:39:01.724379Z",
     "iopub.status.idle": "2022-08-24T03:39:01.728924Z",
     "shell.execute_reply": "2022-08-24T03:39:01.728262Z"
    },
    "papermill": {
     "duration": 0.024406,
     "end_time": "2022-08-24T03:39:01.729070",
     "exception": false,
     "start_time": "2022-08-24T03:39:01.704664",
     "status": "completed"
    },
    "tags": []
   },
   "outputs": [
    {
     "data": {
      "text/markdown": [
       "- Cardano Founder Charles Hoskinson Defends Tornado Cash Developers.  Tornado Cash is a crypto mixer that recently came under sanction from the United States government. The reasoning given for this was the fact that it was a protocol used by criminals to hide the origins of their funds. Most notably used by South Korean hackers who have stolen millions of dollars in hacks over [&#8230;] ... [| Skaityti daugiau](https://bitcoinist.com/charles-hoskinson-defends-tornado-cash-developers/) "
      ],
      "text/plain": [
       "<IPython.core.display.Markdown object>"
      ]
     },
     "execution_count": 8,
     "metadata": {},
     "output_type": "execute_result"
    }
   ],
   "source": [
    "#hide_input\n",
    "#md('##### {}'.format(titleBTC)) \n",
    "md(\"- {}{} {}{} [| Skaityti daugiau]({}) \".format(ada['title'],'. ', ada['body'], ' ...', ada['url']))"
   ]
  },
  {
   "cell_type": "code",
   "execution_count": 9,
   "id": "specified-ordering",
   "metadata": {
    "execution": {
     "iopub.execute_input": "2022-08-24T03:39:01.765152Z",
     "iopub.status.busy": "2022-08-24T03:39:01.764401Z",
     "iopub.status.idle": "2022-08-24T03:39:01.769022Z",
     "shell.execute_reply": "2022-08-24T03:39:01.768388Z"
    },
    "papermill": {
     "duration": 0.024692,
     "end_time": "2022-08-24T03:39:01.769180",
     "exception": false,
     "start_time": "2022-08-24T03:39:01.744488",
     "status": "completed"
    },
    "tags": []
   },
   "outputs": [
    {
     "data": {
      "text/markdown": [
       "- Coinbase faces yet another lawsuit with a series of allegations.  One of Coinbase&#8217;s users has filed a lawsuit against the company for failing to maintain access to its clients&#8217; accounts during times of significant market volatility. Plaintiff George Kattula asserts that the exchange &#8220;does not properly employ standard techniques to keep consumers&#8217; accounts secure&#8221; on behalf of all Coinbase wallet and account owners. Coinbase &#8220;improperly [&#8230;]The post Coinbase faces yet another lawsuit with a series of allegations appeared first on Blockchain, Crypto and Stock News. ... [| Skaityti daugiau](https://thecoinrise.com/coinbase-faces-yet-another-lawsuit-with-a-series-of-allegations/) "
      ],
      "text/plain": [
       "<IPython.core.display.Markdown object>"
      ]
     },
     "execution_count": 9,
     "metadata": {},
     "output_type": "execute_result"
    }
   ],
   "source": [
    "#hide_input\n",
    "#md('##### {}'.format(titleBTC)) \n",
    "md(\"- {}{} {}{} [| Skaityti daugiau]({}) \".format(exchange['title'],'. ', exchange['body'], ' ...', exchange['url']))"
   ]
  },
  {
   "cell_type": "code",
   "execution_count": null,
   "id": "tender-livestock",
   "metadata": {
    "papermill": {
     "duration": 0.015109,
     "end_time": "2022-08-24T03:39:01.800367",
     "exception": false,
     "start_time": "2022-08-24T03:39:01.785258",
     "status": "completed"
    },
    "tags": []
   },
   "outputs": [],
   "source": []
  },
  {
   "cell_type": "code",
   "execution_count": null,
   "id": "appreciated-diamond",
   "metadata": {
    "papermill": {
     "duration": 0.015466,
     "end_time": "2022-08-24T03:39:01.831138",
     "exception": false,
     "start_time": "2022-08-24T03:39:01.815672",
     "status": "completed"
    },
    "tags": []
   },
   "outputs": [],
   "source": []
  },
  {
   "cell_type": "code",
   "execution_count": null,
   "id": "romance-sweden",
   "metadata": {
    "papermill": {
     "duration": 0.014686,
     "end_time": "2022-08-24T03:39:01.862491",
     "exception": false,
     "start_time": "2022-08-24T03:39:01.847805",
     "status": "completed"
    },
    "tags": []
   },
   "outputs": [],
   "source": []
  },
  {
   "cell_type": "code",
   "execution_count": null,
   "id": "dietary-statistics",
   "metadata": {
    "papermill": {
     "duration": 0.015102,
     "end_time": "2022-08-24T03:39:01.892800",
     "exception": false,
     "start_time": "2022-08-24T03:39:01.877698",
     "status": "completed"
    },
    "tags": []
   },
   "outputs": [],
   "source": []
  }
 ],
 "metadata": {
  "kernelspec": {
   "display_name": "Python 3",
   "language": "python",
   "name": "python3"
  },
  "language_info": {
   "codemirror_mode": {
    "name": "ipython",
    "version": 3
   },
   "file_extension": ".py",
   "mimetype": "text/x-python",
   "name": "python",
   "nbconvert_exporter": "python",
   "pygments_lexer": "ipython3",
   "version": "3.6.15"
  },
  "papermill": {
   "default_parameters": {},
   "duration": 17.867952,
   "end_time": "2022-08-24T03:39:02.429367",
   "environment_variables": {},
   "exception": null,
   "input_path": "Market-News.ipynb",
   "output_path": "Market-News.ipynb",
   "parameters": {},
   "start_time": "2022-08-24T03:38:44.561415",
   "version": "2.2.2"
  }
 },
 "nbformat": 4,
 "nbformat_minor": 5
}