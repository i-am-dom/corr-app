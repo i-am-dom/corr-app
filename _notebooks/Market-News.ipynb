{
 "cells": [
  {
   "cell_type": "markdown",
   "id": "short-greensboro",
   "metadata": {
    "papermill": {
     "duration": 0.013906,
     "end_time": "2021-12-01T02:36:01.177914",
     "exception": false,
     "start_time": "2021-12-01T02:36:01.164008",
     "status": "completed"
    },
    "tags": []
   },
   "source": [
    "# Kriptovaliutų naujienos"
   ]
  },
  {
   "cell_type": "code",
   "execution_count": 1,
   "id": "functioning-knowing",
   "metadata": {
    "execution": {
     "iopub.execute_input": "2021-12-01T02:36:01.207133Z",
     "iopub.status.busy": "2021-12-01T02:36:01.206578Z",
     "iopub.status.idle": "2021-12-01T02:36:02.531247Z",
     "shell.execute_reply": "2021-12-01T02:36:02.530704Z"
    },
    "papermill": {
     "duration": 1.34381,
     "end_time": "2021-12-01T02:36:02.531408",
     "exception": false,
     "start_time": "2021-12-01T02:36:01.187598",
     "status": "completed"
    },
    "tags": []
   },
   "outputs": [],
   "source": [
    "#hide_input\n",
    "import warnings\n",
    "warnings.filterwarnings('ignore')\n",
    "from scripts.read_data import read_api\n",
    "from scripts.read_data import read_news\n",
    "from scripts.read_data import read_covid\n",
    "import matplotlib.pyplot as plt \n",
    "from IPython.display import Markdown as md"
   ]
  },
  {
   "cell_type": "code",
   "execution_count": 2,
   "id": "shared-acceptance",
   "metadata": {
    "execution": {
     "iopub.execute_input": "2021-12-01T02:36:02.557438Z",
     "iopub.status.busy": "2021-12-01T02:36:02.556415Z",
     "iopub.status.idle": "2021-12-01T02:36:11.491947Z",
     "shell.execute_reply": "2021-12-01T02:36:11.492436Z"
    },
    "papermill": {
     "duration": 8.951641,
     "end_time": "2021-12-01T02:36:11.492607",
     "exception": false,
     "start_time": "2021-12-01T02:36:02.540966",
     "status": "completed"
    },
    "tags": []
   },
   "outputs": [],
   "source": [
    "#hide_input\n",
    "blockchain = read_news('blockchain') \n",
    "btc = read_news('btc') \n",
    "xrp = read_news('xrp') \n",
    "trx = read_news('trx') \n",
    "eth = read_news('eth')  \n",
    "ada = read_news('ada')\n",
    "exchange = read_news('exchange') "
   ]
  },
  {
   "cell_type": "code",
   "execution_count": 3,
   "id": "synthetic-notion",
   "metadata": {
    "execution": {
     "iopub.execute_input": "2021-12-01T02:36:11.519080Z",
     "iopub.status.busy": "2021-12-01T02:36:11.518534Z",
     "iopub.status.idle": "2021-12-01T02:36:11.520731Z",
     "shell.execute_reply": "2021-12-01T02:36:11.521150Z"
    },
    "papermill": {
     "duration": 0.018215,
     "end_time": "2021-12-01T02:36:11.521283",
     "exception": false,
     "start_time": "2021-12-01T02:36:11.503068",
     "status": "completed"
    },
    "tags": []
   },
   "outputs": [
    {
     "data": {
      "text/markdown": [
       "- A recovery rally for Sushiswap is contingent upon these turn of events.  SushiSwap is maintaining its position as the tenth biggest DeFi protocol by the skin of its teeth. The more important issue though, is the fact that the protocol’s investors are observing constant losses and now they are reacting as per expectations. The expensive SUSHI SUSHI started out strong at the beginning of November but that motion [&#8230;] ... [| Skaityti daugiau](https://ambcrypto.com/a-recovery-rally-for-sushiswap-is-continent-upon-these-turn-of-events/) "
      ],
      "text/plain": [
       "<IPython.core.display.Markdown object>"
      ]
     },
     "execution_count": 3,
     "metadata": {},
     "output_type": "execute_result"
    }
   ],
   "source": [
    "#hide_input\n",
    "#md('##### {}'.format(titleBTC)) \n",
    "md(\"- {}{} {}{} [| Skaityti daugiau]({}) \".format(blockchain['title'],'. ', blockchain['body'], ' ...', blockchain['url']))"
   ]
  },
  {
   "cell_type": "code",
   "execution_count": 4,
   "id": "aging-caution",
   "metadata": {
    "execution": {
     "iopub.execute_input": "2021-12-01T02:36:11.545711Z",
     "iopub.status.busy": "2021-12-01T02:36:11.545101Z",
     "iopub.status.idle": "2021-12-01T02:36:11.547300Z",
     "shell.execute_reply": "2021-12-01T02:36:11.547794Z"
    },
    "papermill": {
     "duration": 0.017226,
     "end_time": "2021-12-01T02:36:11.547937",
     "exception": false,
     "start_time": "2021-12-01T02:36:11.530711",
     "status": "completed"
    },
    "tags": []
   },
   "outputs": [
    {
     "data": {
      "text/markdown": [
       "- Bitcoin Mining Stocks Beat BTC Two-To-One in 2021 ROI.  Believe it or not, in 2021, Bitcoin mining stocks have outperformed the king of cryptocurrencies. This crowns the phenomenal year the whole Bitcoin industry has had. However, consider Arcane Research’s warning, “an investment in mining companies carries a much higher risk than an investment in bitcoin itself.” As with any other complex business venture, a [&#8230;] ... [| Skaityti daugiau](https://bitcoinist.com/bitcoin-mining-stocks-beat-btc-two-to-one-in-2021-roi/?utm_source=rss&utm_medium=rss&utm_campaign=bitcoin-mining-stocks-beat-btc-two-to-one-in-2021-roi) "
      ],
      "text/plain": [
       "<IPython.core.display.Markdown object>"
      ]
     },
     "execution_count": 4,
     "metadata": {},
     "output_type": "execute_result"
    }
   ],
   "source": [
    "#hide_input\n",
    "#md('##### {}'.format(titleBTC)) \n",
    "md(\"- {}{} {}{} [| Skaityti daugiau]({}) \".format(btc['title'],'. ', btc['body'], ' ...', btc['url']))"
   ]
  },
  {
   "cell_type": "code",
   "execution_count": 5,
   "id": "organic-actress",
   "metadata": {
    "execution": {
     "iopub.execute_input": "2021-12-01T02:36:11.572995Z",
     "iopub.status.busy": "2021-12-01T02:36:11.572439Z",
     "iopub.status.idle": "2021-12-01T02:36:11.575224Z",
     "shell.execute_reply": "2021-12-01T02:36:11.574714Z"
    },
    "papermill": {
     "duration": 0.017361,
     "end_time": "2021-12-01T02:36:11.575335",
     "exception": false,
     "start_time": "2021-12-01T02:36:11.557974",
     "status": "completed"
    },
    "tags": []
   },
   "outputs": [
    {
     "data": {
      "text/markdown": [
       "- Ripple Price Analysis: A Bullish Reversal From The $0.88 Support Hints At A 35% Gain In The Upcoming Trading Session.  The XRP coin is currently in a short-term sideways trend. The coin price has recently rejected from the overhead resistance of this range and has plunged back to the bottom support of 0.88. However, The technical chart and indicators suggest a positive turn for them coin Key technical points: The XRP coin price action forms The post Ripple Price Analysis: A Bullish Reversal From The $0.88 Support Hints At A 35% Gain In The Upcoming Trading Session appeared first on Coingape. ... [| Skaityti daugiau](https://coingape.com/94578-2/) "
      ],
      "text/plain": [
       "<IPython.core.display.Markdown object>"
      ]
     },
     "execution_count": 5,
     "metadata": {},
     "output_type": "execute_result"
    }
   ],
   "source": [
    "#hide_input\n",
    "#md('##### {}'.format(titleBTC)) \n",
    "md(\"- {}{} {}{} [| Skaityti daugiau]({}) \".format(xrp['title'],'. ', xrp['body'], ' ...', xrp['url']))"
   ]
  },
  {
   "cell_type": "code",
   "execution_count": 6,
   "id": "prompt-farmer",
   "metadata": {
    "execution": {
     "iopub.execute_input": "2021-12-01T02:36:11.600940Z",
     "iopub.status.busy": "2021-12-01T02:36:11.600310Z",
     "iopub.status.idle": "2021-12-01T02:36:11.602449Z",
     "shell.execute_reply": "2021-12-01T02:36:11.602935Z"
    },
    "papermill": {
     "duration": 0.017715,
     "end_time": "2021-12-01T02:36:11.603069",
     "exception": false,
     "start_time": "2021-12-01T02:36:11.585354",
     "status": "completed"
    },
    "tags": []
   },
   "outputs": [
    {
     "data": {
      "text/markdown": [
       "- Bitcoin, Tron, Terra Price Analysis: 28 November.  The sustained bearish rally led several altcoins to mark their multi-week lows during the past few days. Consequently, Bitcoin hit its seven-week low on 26 November, while Tron touched its one-month low on 27 November. On the other hand, Terra marked a bull rally over the last day after displaying bullish technical indications. Bitcoin (BTC) [&#8230;] ... [| Skaityti daugiau](https://ambcrypto.com/bitcoin-tron-terra-price-analysis-28-november/) "
      ],
      "text/plain": [
       "<IPython.core.display.Markdown object>"
      ]
     },
     "execution_count": 6,
     "metadata": {},
     "output_type": "execute_result"
    }
   ],
   "source": [
    "#hide_input\n",
    "#md('##### {}'.format(titleBTC)) \n",
    "md(\"- {}{} {}{} [| Skaityti daugiau]({}) \".format(trx['title'],'. ', trx['body'], ' ...', trx['url']))"
   ]
  },
  {
   "cell_type": "code",
   "execution_count": 7,
   "id": "illegal-greece",
   "metadata": {
    "execution": {
     "iopub.execute_input": "2021-12-01T02:36:11.628590Z",
     "iopub.status.busy": "2021-12-01T02:36:11.628071Z",
     "iopub.status.idle": "2021-12-01T02:36:11.630802Z",
     "shell.execute_reply": "2021-12-01T02:36:11.630293Z"
    },
    "papermill": {
     "duration": 0.017403,
     "end_time": "2021-12-01T02:36:11.630912",
     "exception": false,
     "start_time": "2021-12-01T02:36:11.613509",
     "status": "completed"
    },
    "tags": []
   },
   "outputs": [
    {
     "data": {
      "text/markdown": [
       "- Eth2 devs put out call to community to help test out the Merge.  As the transition to Eth2 edges closer, Ethereum developers have launched a program for the non-technical users and technical users alike to help test the upcoming Beacon Chain merge.  ... [| Skaityti daugiau](https://cointelegraph.com/news/eth2-devs-put-out-call-to-community-to-help-test-out-the-merge) "
      ],
      "text/plain": [
       "<IPython.core.display.Markdown object>"
      ]
     },
     "execution_count": 7,
     "metadata": {},
     "output_type": "execute_result"
    }
   ],
   "source": [
    "#hide_input\n",
    "#md('##### {}'.format(titleBTC)) \n",
    "md(\"- {}{} {}{} [| Skaityti daugiau]({}) \".format(eth['title'],'. ', eth['body'], ' ...', eth['url']))"
   ]
  },
  {
   "cell_type": "code",
   "execution_count": 8,
   "id": "sublime-lounge",
   "metadata": {
    "execution": {
     "iopub.execute_input": "2021-12-01T02:36:11.657713Z",
     "iopub.status.busy": "2021-12-01T02:36:11.657113Z",
     "iopub.status.idle": "2021-12-01T02:36:11.659332Z",
     "shell.execute_reply": "2021-12-01T02:36:11.659883Z"
    },
    "papermill": {
     "duration": 0.018463,
     "end_time": "2021-12-01T02:36:11.660024",
     "exception": false,
     "start_time": "2021-12-01T02:36:11.641561",
     "status": "completed"
    },
    "tags": []
   },
   "outputs": [
    {
     "data": {
      "text/markdown": [
       "- Cardano Ambassador Addresses FUD Surrounding The Project.  Cardano has been in the middle of some major FUDs these past weeks and this has not been good for the value of the digital asset. Numerous negative news circulated around the asset, the most prominent being the delisting of ADA for U.S. users from the eToro crypto exchange. Since then, the altcoin has suffered massive dips that have sent the price of the digital asset towards three-month lows. Related Reading &#124; Cardano Founder Addresses Liquidity Concerns Over eToro Delisting Although news of the delisting is a week out, the FUD surrounding the project has not subsided. This has prompted a Cardano ambassador to take action and has led to a run-down of why the FUD around the digital asset has refused to die out. Cardano Is A Legitimate Alternative To Ethereum The Cardano ambassador took to Twitter to address all of the FUDs that have been circling the altcoin in recent weeks. For one, they explain that most of it have been because Cardano presented the only legitimate alternative to the leading smart contracts platform, Ethereum. This leans into the fact that Cardano has often been proposed as an “Ethereum killer” after smart contracts capability has debuted on the blockchain. They pointed to the network activity that showed that Cardano’s activity has consistently been on the rise in the past few weeks. While Ethereum had maintained momentum in the same time period, Cardano had spiked significantly, pointing to increased ... ... [| Skaityti daugiau](https://www.newsbtc.com/news/cardano/cardano-ambassador-addresses-fud-surrounding-the-project/) "
      ],
      "text/plain": [
       "<IPython.core.display.Markdown object>"
      ]
     },
     "execution_count": 8,
     "metadata": {},
     "output_type": "execute_result"
    }
   ],
   "source": [
    "#hide_input\n",
    "#md('##### {}'.format(titleBTC)) \n",
    "md(\"- {}{} {}{} [| Skaityti daugiau]({}) \".format(ada['title'],'. ', ada['body'], ' ...', ada['url']))"
   ]
  },
  {
   "cell_type": "code",
   "execution_count": 9,
   "id": "specified-ordering",
   "metadata": {
    "execution": {
     "iopub.execute_input": "2021-12-01T02:36:11.687651Z",
     "iopub.status.busy": "2021-12-01T02:36:11.687137Z",
     "iopub.status.idle": "2021-12-01T02:36:11.690095Z",
     "shell.execute_reply": "2021-12-01T02:36:11.690530Z"
    },
    "papermill": {
     "duration": 0.019263,
     "end_time": "2021-12-01T02:36:11.690656",
     "exception": false,
     "start_time": "2021-12-01T02:36:11.671393",
     "status": "completed"
    },
    "tags": []
   },
   "outputs": [
    {
     "data": {
      "text/markdown": [
       "- Fidelity launches a Spot Bitcoin ETF in Canada, not waiting for the SEC in the U.S..  Fidelity Investments is launching a Spot Bitcoin ETF in Canada, as the U.S. based firm is not waiting around for the Securities Exchange Commission to approve a decision in the United States. Fidelity's ETF is called the Fidelity Advantage Bitcoin ETF (FBTC), and it will directly obtain physical Bitcoin (BTC-USD). Meaning the fund will buy actual Bitcoin rather than acquire it through a derivative instrument. Fidelity's move just adds more fuel to the fire as one of America's largest asset managers with over $4T AUM is forced to create a product in Canada to meet their client's demands. At the same time, regulators in its own country still weigh their options on whether or not to approve a Spot Bitcoin ETF. The new fund will also be actively managed. Bitcoin price action: -1.4% on Tuesday and +98.1% year-to-date. Canada is not the only country that has approved a Spot Bitcoin exchange traded fund. ... [| Skaityti daugiau](https://seekingalpha.com/news/3775630-fidelity-launches-a-spot-bitcoin-etf-in-canada-not-waiting-for-the-sec-in-the-us?utm_source=cryptocompare.com&utm_medium=referral) "
      ],
      "text/plain": [
       "<IPython.core.display.Markdown object>"
      ]
     },
     "execution_count": 9,
     "metadata": {},
     "output_type": "execute_result"
    }
   ],
   "source": [
    "#hide_input\n",
    "#md('##### {}'.format(titleBTC)) \n",
    "md(\"- {}{} {}{} [| Skaityti daugiau]({}) \".format(exchange['title'],'. ', exchange['body'], ' ...', exchange['url']))"
   ]
  },
  {
   "cell_type": "code",
   "execution_count": null,
   "id": "tender-livestock",
   "metadata": {
    "papermill": {
     "duration": 0.01127,
     "end_time": "2021-12-01T02:36:11.713423",
     "exception": false,
     "start_time": "2021-12-01T02:36:11.702153",
     "status": "completed"
    },
    "tags": []
   },
   "outputs": [],
   "source": []
  },
  {
   "cell_type": "code",
   "execution_count": null,
   "id": "appreciated-diamond",
   "metadata": {
    "papermill": {
     "duration": 0.011094,
     "end_time": "2021-12-01T02:36:11.735855",
     "exception": false,
     "start_time": "2021-12-01T02:36:11.724761",
     "status": "completed"
    },
    "tags": []
   },
   "outputs": [],
   "source": []
  },
  {
   "cell_type": "code",
   "execution_count": null,
   "id": "romance-sweden",
   "metadata": {
    "papermill": {
     "duration": 0.011117,
     "end_time": "2021-12-01T02:36:11.758173",
     "exception": false,
     "start_time": "2021-12-01T02:36:11.747056",
     "status": "completed"
    },
    "tags": []
   },
   "outputs": [],
   "source": []
  },
  {
   "cell_type": "code",
   "execution_count": null,
   "id": "dietary-statistics",
   "metadata": {
    "papermill": {
     "duration": 0.0111,
     "end_time": "2021-12-01T02:36:11.780416",
     "exception": false,
     "start_time": "2021-12-01T02:36:11.769316",
     "status": "completed"
    },
    "tags": []
   },
   "outputs": [],
   "source": []
  }
 ],
 "metadata": {
  "kernelspec": {
   "display_name": "Python 3",
   "language": "python",
   "name": "python3"
  },
  "language_info": {
   "codemirror_mode": {
    "name": "ipython",
    "version": 3
   },
   "file_extension": ".py",
   "mimetype": "text/x-python",
   "name": "python",
   "nbconvert_exporter": "python",
   "pygments_lexer": "ipython3",
   "version": "3.6.15"
  },
  "papermill": {
   "default_parameters": {},
   "duration": 12.18404,
   "end_time": "2021-12-01T02:36:12.300227",
   "environment_variables": {},
   "exception": null,
   "input_path": "Market-News.ipynb",
   "output_path": "Market-News.ipynb",
   "parameters": {},
   "start_time": "2021-12-01T02:36:00.116187",
   "version": "2.2.2"
  }
 },
 "nbformat": 4,
 "nbformat_minor": 5
}