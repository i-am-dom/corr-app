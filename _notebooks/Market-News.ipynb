{
 "cells": [
  {
   "cell_type": "markdown",
   "id": "short-greensboro",
   "metadata": {
    "papermill": {
     "duration": 0.014042,
     "end_time": "2021-11-23T01:59:50.974862",
     "exception": false,
     "start_time": "2021-11-23T01:59:50.960820",
     "status": "completed"
    },
    "tags": []
   },
   "source": [
    "# Kriptovaliutų naujienos"
   ]
  },
  {
   "cell_type": "code",
   "execution_count": 1,
   "id": "functioning-knowing",
   "metadata": {
    "execution": {
     "iopub.execute_input": "2021-11-23T01:59:51.004599Z",
     "iopub.status.busy": "2021-11-23T01:59:51.004067Z",
     "iopub.status.idle": "2021-11-23T01:59:52.286846Z",
     "shell.execute_reply": "2021-11-23T01:59:52.286293Z"
    },
    "papermill": {
     "duration": 1.302406,
     "end_time": "2021-11-23T01:59:52.287004",
     "exception": false,
     "start_time": "2021-11-23T01:59:50.984598",
     "status": "completed"
    },
    "tags": []
   },
   "outputs": [],
   "source": [
    "#hide_input\n",
    "import warnings\n",
    "warnings.filterwarnings('ignore')\n",
    "from scripts.read_data import read_api\n",
    "from scripts.read_data import read_news\n",
    "from scripts.read_data import read_covid\n",
    "import matplotlib.pyplot as plt \n",
    "from IPython.display import Markdown as md"
   ]
  },
  {
   "cell_type": "code",
   "execution_count": 2,
   "id": "shared-acceptance",
   "metadata": {
    "execution": {
     "iopub.execute_input": "2021-11-23T01:59:52.312626Z",
     "iopub.status.busy": "2021-11-23T01:59:52.311735Z",
     "iopub.status.idle": "2021-11-23T02:00:06.198840Z",
     "shell.execute_reply": "2021-11-23T02:00:06.198271Z"
    },
    "papermill": {
     "duration": 13.902492,
     "end_time": "2021-11-23T02:00:06.198991",
     "exception": false,
     "start_time": "2021-11-23T01:59:52.296499",
     "status": "completed"
    },
    "tags": []
   },
   "outputs": [],
   "source": [
    "#hide_input\n",
    "blockchain = read_news('blockchain') \n",
    "btc = read_news('btc') \n",
    "xrp = read_news('xrp') \n",
    "trx = read_news('trx') \n",
    "eth = read_news('eth')  \n",
    "ada = read_news('ada')\n",
    "exchange = read_news('exchange') "
   ]
  },
  {
   "cell_type": "code",
   "execution_count": 3,
   "id": "synthetic-notion",
   "metadata": {
    "execution": {
     "iopub.execute_input": "2021-11-23T02:00:06.224591Z",
     "iopub.status.busy": "2021-11-23T02:00:06.224043Z",
     "iopub.status.idle": "2021-11-23T02:00:06.226244Z",
     "shell.execute_reply": "2021-11-23T02:00:06.226656Z"
    },
    "papermill": {
     "duration": 0.01774,
     "end_time": "2021-11-23T02:00:06.226788",
     "exception": false,
     "start_time": "2021-11-23T02:00:06.209048",
     "status": "completed"
    },
    "tags": []
   },
   "outputs": [
    {
     "data": {
      "text/markdown": [
       "- Citigroup to Hire 100 People for Its Crypto Division: Report.  Citigroup is reportedly looking to hire 100 people for its new crypto team. &#x201C;We believe in the potential of blockchain and digital assets including the benefits of efficiency, instant processing, fractionalization, programmability, and transparency.&#x201D; Citigroup Growing Its Crypto Team Citigroup is reportedly looking to hire 100 people to grow its digital asset team within its [&#8230;] ... [| Skaityti daugiau](https://news.bitcoin.com/citigroup-hire-100-people-crypto-division/) "
      ],
      "text/plain": [
       "<IPython.core.display.Markdown object>"
      ]
     },
     "execution_count": 3,
     "metadata": {},
     "output_type": "execute_result"
    }
   ],
   "source": [
    "#hide_input\n",
    "#md('##### {}'.format(titleBTC)) \n",
    "md(\"- {}{} {}{} [| Skaityti daugiau]({}) \".format(blockchain['title'],'. ', blockchain['body'], ' ...', blockchain['url']))"
   ]
  },
  {
   "cell_type": "code",
   "execution_count": 4,
   "id": "aging-caution",
   "metadata": {
    "execution": {
     "iopub.execute_input": "2021-11-23T02:00:06.250512Z",
     "iopub.status.busy": "2021-11-23T02:00:06.249927Z",
     "iopub.status.idle": "2021-11-23T02:00:06.252107Z",
     "shell.execute_reply": "2021-11-23T02:00:06.252638Z"
    },
    "papermill": {
     "duration": 0.016789,
     "end_time": "2021-11-23T02:00:06.252801",
     "exception": false,
     "start_time": "2021-11-23T02:00:06.236012",
     "status": "completed"
    },
    "tags": []
   },
   "outputs": [
    {
     "data": {
      "text/markdown": [
       "- Citi Group appoints head of digital assets in crypto hiring spree.  The new head of digital assets at Citi’s institutional branch will focus on pursuing connections and investments with clients, startups, and regulators. ... [| Skaityti daugiau](https://cointelegraph.com/news/citi-group-appoints-head-of-digital-assets-in-crypto-hiring-spree) "
      ],
      "text/plain": [
       "<IPython.core.display.Markdown object>"
      ]
     },
     "execution_count": 4,
     "metadata": {},
     "output_type": "execute_result"
    }
   ],
   "source": [
    "#hide_input\n",
    "#md('##### {}'.format(titleBTC)) \n",
    "md(\"- {}{} {}{} [| Skaityti daugiau]({}) \".format(btc['title'],'. ', btc['body'], ' ...', btc['url']))"
   ]
  },
  {
   "cell_type": "code",
   "execution_count": 5,
   "id": "organic-actress",
   "metadata": {
    "execution": {
     "iopub.execute_input": "2021-11-23T02:00:06.277214Z",
     "iopub.status.busy": "2021-11-23T02:00:06.276658Z",
     "iopub.status.idle": "2021-11-23T02:00:06.279597Z",
     "shell.execute_reply": "2021-11-23T02:00:06.279192Z"
    },
    "papermill": {
     "duration": 0.017036,
     "end_time": "2021-11-23T02:00:06.279706",
     "exception": false,
     "start_time": "2021-11-23T02:00:06.262670",
     "status": "completed"
    },
    "tags": []
   },
   "outputs": [
    {
     "data": {
      "text/markdown": [
       "- Bitcoin and Other Assets Fall; Industry No Longer Valued at $3 Trillion.  The world of cryptocurrency is going crazy at the time of writing. Many of the biggest assets – including bitcoin, Ethereum, Solana and Ripple’s XRP – have fallen by about seven percent or more, causing the entire industry to lose billions over a 24-hour period. Bitcoin and Other Assets Have Fallen Into Oblivion Traders should...The post Bitcoin and Other Assets Fall; Industry No Longer Valued at $3 Trillion appeared first on Live Bitcoin News. ... [| Skaityti daugiau](https://www.livebitcoinnews.com/bitcoin-and-other-assets-crash-industry-no-longer-valued-at-3-trillion/) "
      ],
      "text/plain": [
       "<IPython.core.display.Markdown object>"
      ]
     },
     "execution_count": 5,
     "metadata": {},
     "output_type": "execute_result"
    }
   ],
   "source": [
    "#hide_input\n",
    "#md('##### {}'.format(titleBTC)) \n",
    "md(\"- {}{} {}{} [| Skaityti daugiau]({}) \".format(xrp['title'],'. ', xrp['body'], ' ...', xrp['url']))"
   ]
  },
  {
   "cell_type": "code",
   "execution_count": 6,
   "id": "prompt-farmer",
   "metadata": {
    "execution": {
     "iopub.execute_input": "2021-11-23T02:00:06.303897Z",
     "iopub.status.busy": "2021-11-23T02:00:06.301661Z",
     "iopub.status.idle": "2021-11-23T02:00:06.306970Z",
     "shell.execute_reply": "2021-11-23T02:00:06.306567Z"
    },
    "papermill": {
     "duration": 0.017448,
     "end_time": "2021-11-23T02:00:06.307076",
     "exception": false,
     "start_time": "2021-11-23T02:00:06.289628",
     "status": "completed"
    },
    "tags": []
   },
   "outputs": [
    {
     "data": {
      "text/markdown": [
       "- Why Tron is all set for a week of bullish action.  Tron is set for a bullish week after its price bounced back from a bottom sloping trendline which functioned as support. After overcoming a near-term hurdle present at the 20-SMA (red), TRX would need to overcome some key swing highs to set a fresh local high at the 78.6% Fibonacci level. At the time of [&#8230;] ... [| Skaityti daugiau](https://ambcrypto.com/why-tron-is-all-set-for-a-week-of-bullish-trades/) "
      ],
      "text/plain": [
       "<IPython.core.display.Markdown object>"
      ]
     },
     "execution_count": 6,
     "metadata": {},
     "output_type": "execute_result"
    }
   ],
   "source": [
    "#hide_input\n",
    "#md('##### {}'.format(titleBTC)) \n",
    "md(\"- {}{} {}{} [| Skaityti daugiau]({}) \".format(trx['title'],'. ', trx['body'], ' ...', trx['url']))"
   ]
  },
  {
   "cell_type": "code",
   "execution_count": 7,
   "id": "illegal-greece",
   "metadata": {
    "execution": {
     "iopub.execute_input": "2021-11-23T02:00:06.332584Z",
     "iopub.status.busy": "2021-11-23T02:00:06.332078Z",
     "iopub.status.idle": "2021-11-23T02:00:06.335103Z",
     "shell.execute_reply": "2021-11-23T02:00:06.334675Z"
    },
    "papermill": {
     "duration": 0.017365,
     "end_time": "2021-11-23T02:00:06.335204",
     "exception": false,
     "start_time": "2021-11-23T02:00:06.317839",
     "status": "completed"
    },
    "tags": []
   },
   "outputs": [
    {
     "data": {
      "text/markdown": [
       "- Martha Stewart Mints Thanksgiving NFTs on Ethereum.  Stewart has released NFTs before, but this new collection focuses on her bread-and-butter holiday. ... [| Skaityti daugiau](https://decrypt.co/86649/martha-stewart-mints-thanksgiving-nfts-ethereum) "
      ],
      "text/plain": [
       "<IPython.core.display.Markdown object>"
      ]
     },
     "execution_count": 7,
     "metadata": {},
     "output_type": "execute_result"
    }
   ],
   "source": [
    "#hide_input\n",
    "#md('##### {}'.format(titleBTC)) \n",
    "md(\"- {}{} {}{} [| Skaityti daugiau]({}) \".format(eth['title'],'. ', eth['body'], ' ...', eth['url']))"
   ]
  },
  {
   "cell_type": "code",
   "execution_count": 8,
   "id": "sublime-lounge",
   "metadata": {
    "execution": {
     "iopub.execute_input": "2021-11-23T02:00:06.361253Z",
     "iopub.status.busy": "2021-11-23T02:00:06.360734Z",
     "iopub.status.idle": "2021-11-23T02:00:06.363676Z",
     "shell.execute_reply": "2021-11-23T02:00:06.363271Z"
    },
    "papermill": {
     "duration": 0.01793,
     "end_time": "2021-11-23T02:00:06.363780",
     "exception": false,
     "start_time": "2021-11-23T02:00:06.345850",
     "status": "completed"
    },
    "tags": []
   },
   "outputs": [
    {
     "data": {
      "text/markdown": [
       "- Hoskinson announces a new system to tackle both security & privacy concerns.  Cardano is an amazing blockchain technology that is the face of a secure and sustainable blockchain with ground-breaking use cases. That said, keeping in find the fast pace of this industry, Cardano&#8217;s chief is proposing some amendments. This involves one of the most trending topics on Reddit &#8211; security and privacy. One thing is certain, [&#8230;] ... [| Skaityti daugiau](https://ambcrypto.com/hoskinson-announces-a-new-system-to-tackle-both-security-privacy-concerns/) "
      ],
      "text/plain": [
       "<IPython.core.display.Markdown object>"
      ]
     },
     "execution_count": 8,
     "metadata": {},
     "output_type": "execute_result"
    }
   ],
   "source": [
    "#hide_input\n",
    "#md('##### {}'.format(titleBTC)) \n",
    "md(\"- {}{} {}{} [| Skaityti daugiau]({}) \".format(ada['title'],'. ', ada['body'], ' ...', ada['url']))"
   ]
  },
  {
   "cell_type": "code",
   "execution_count": 9,
   "id": "specified-ordering",
   "metadata": {
    "execution": {
     "iopub.execute_input": "2021-11-23T02:00:06.390506Z",
     "iopub.status.busy": "2021-11-23T02:00:06.390002Z",
     "iopub.status.idle": "2021-11-23T02:00:06.393337Z",
     "shell.execute_reply": "2021-11-23T02:00:06.392929Z"
    },
    "papermill": {
     "duration": 0.018706,
     "end_time": "2021-11-23T02:00:06.393441",
     "exception": false,
     "start_time": "2021-11-23T02:00:06.374735",
     "status": "completed"
    },
    "tags": []
   },
   "outputs": [
    {
     "data": {
      "text/markdown": [
       "- Here’s how El Salvador’s president plans to use bitcoin bonds.  El Salvador's president Nayib Bukele has announced plans to create a Bitcoin City using what's being called \"bitcoin bonds.\" Here's what that means.The post Here’s how El Salvador’s president plans to use bitcoin bonds appeared first on The Block. ... [| Skaityti daugiau](https://www.theblockcrypto.com/post/125075/heres-how-el-salvadors-president-plans-to-use-bitcoin-bonds?utm_source=cryptocompare&utm_medium=rss) "
      ],
      "text/plain": [
       "<IPython.core.display.Markdown object>"
      ]
     },
     "execution_count": 9,
     "metadata": {},
     "output_type": "execute_result"
    }
   ],
   "source": [
    "#hide_input\n",
    "#md('##### {}'.format(titleBTC)) \n",
    "md(\"- {}{} {}{} [| Skaityti daugiau]({}) \".format(exchange['title'],'. ', exchange['body'], ' ...', exchange['url']))"
   ]
  },
  {
   "cell_type": "code",
   "execution_count": null,
   "id": "tender-livestock",
   "metadata": {
    "papermill": {
     "duration": 0.011143,
     "end_time": "2021-11-23T02:00:06.415677",
     "exception": false,
     "start_time": "2021-11-23T02:00:06.404534",
     "status": "completed"
    },
    "tags": []
   },
   "outputs": [],
   "source": []
  },
  {
   "cell_type": "code",
   "execution_count": null,
   "id": "appreciated-diamond",
   "metadata": {
    "papermill": {
     "duration": 0.011162,
     "end_time": "2021-11-23T02:00:06.438231",
     "exception": false,
     "start_time": "2021-11-23T02:00:06.427069",
     "status": "completed"
    },
    "tags": []
   },
   "outputs": [],
   "source": []
  },
  {
   "cell_type": "code",
   "execution_count": null,
   "id": "romance-sweden",
   "metadata": {
    "papermill": {
     "duration": 0.01111,
     "end_time": "2021-11-23T02:00:06.460481",
     "exception": false,
     "start_time": "2021-11-23T02:00:06.449371",
     "status": "completed"
    },
    "tags": []
   },
   "outputs": [],
   "source": []
  },
  {
   "cell_type": "code",
   "execution_count": null,
   "id": "dietary-statistics",
   "metadata": {
    "papermill": {
     "duration": 0.011082,
     "end_time": "2021-11-23T02:00:06.482762",
     "exception": false,
     "start_time": "2021-11-23T02:00:06.471680",
     "status": "completed"
    },
    "tags": []
   },
   "outputs": [],
   "source": []
  }
 ],
 "metadata": {
  "kernelspec": {
   "display_name": "Python 3",
   "language": "python",
   "name": "python3"
  },
  "language_info": {
   "codemirror_mode": {
    "name": "ipython",
    "version": 3
   },
   "file_extension": ".py",
   "mimetype": "text/x-python",
   "name": "python",
   "nbconvert_exporter": "python",
   "pygments_lexer": "ipython3",
   "version": "3.6.15"
  },
  "papermill": {
   "default_parameters": {},
   "duration": 16.988454,
   "end_time": "2021-11-23T02:00:07.002680",
   "environment_variables": {},
   "exception": null,
   "input_path": "Market-News.ipynb",
   "output_path": "Market-News.ipynb",
   "parameters": {},
   "start_time": "2021-11-23T01:59:50.014226",
   "version": "2.2.2"
  }
 },
 "nbformat": 4,
 "nbformat_minor": 5
}