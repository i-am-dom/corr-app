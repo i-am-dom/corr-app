{
 "cells": [
  {
   "cell_type": "markdown",
   "id": "short-greensboro",
   "metadata": {
    "papermill": {
     "duration": 0.013502,
     "end_time": "2021-09-08T01:56:44.261876",
     "exception": false,
     "start_time": "2021-09-08T01:56:44.248374",
     "status": "completed"
    },
    "tags": []
   },
   "source": [
    "# Kriptovaliutų naujienos"
   ]
  },
  {
   "cell_type": "code",
   "execution_count": 1,
   "id": "functioning-knowing",
   "metadata": {
    "execution": {
     "iopub.execute_input": "2021-09-08T01:56:44.289977Z",
     "iopub.status.busy": "2021-09-08T01:56:44.289430Z",
     "iopub.status.idle": "2021-09-08T01:56:45.431030Z",
     "shell.execute_reply": "2021-09-08T01:56:45.430508Z"
    },
    "papermill": {
     "duration": 1.159867,
     "end_time": "2021-09-08T01:56:45.431170",
     "exception": false,
     "start_time": "2021-09-08T01:56:44.271303",
     "status": "completed"
    },
    "tags": []
   },
   "outputs": [],
   "source": [
    "#hide_input\n",
    "import warnings\n",
    "warnings.filterwarnings('ignore')\n",
    "from scripts.read_data import read_api\n",
    "from scripts.read_data import read_news\n",
    "from scripts.read_data import read_covid\n",
    "import matplotlib.pyplot as plt \n",
    "from IPython.display import Markdown as md"
   ]
  },
  {
   "cell_type": "code",
   "execution_count": 2,
   "id": "shared-acceptance",
   "metadata": {
    "execution": {
     "iopub.execute_input": "2021-09-08T01:56:45.455527Z",
     "iopub.status.busy": "2021-09-08T01:56:45.454621Z",
     "iopub.status.idle": "2021-09-08T01:56:53.472373Z",
     "shell.execute_reply": "2021-09-08T01:56:53.471863Z"
    },
    "papermill": {
     "duration": 8.032071,
     "end_time": "2021-09-08T01:56:53.472504",
     "exception": false,
     "start_time": "2021-09-08T01:56:45.440433",
     "status": "completed"
    },
    "tags": []
   },
   "outputs": [],
   "source": [
    "#hide_input\n",
    "blockchain = read_news('blockchain') \n",
    "btc = read_news('btc') \n",
    "xrp = read_news('xrp') \n",
    "trx = read_news('trx') \n",
    "eth = read_news('eth')  \n",
    "ada = read_news('ada')\n",
    "exchange = read_news('exchange') "
   ]
  },
  {
   "cell_type": "code",
   "execution_count": 3,
   "id": "synthetic-notion",
   "metadata": {
    "execution": {
     "iopub.execute_input": "2021-09-08T01:56:53.496507Z",
     "iopub.status.busy": "2021-09-08T01:56:53.494303Z",
     "iopub.status.idle": "2021-09-08T01:56:53.498813Z",
     "shell.execute_reply": "2021-09-08T01:56:53.499193Z"
    },
    "papermill": {
     "duration": 0.016984,
     "end_time": "2021-09-08T01:56:53.499309",
     "exception": false,
     "start_time": "2021-09-08T01:56:53.482325",
     "status": "completed"
    },
    "tags": []
   },
   "outputs": [
    {
     "data": {
      "text/markdown": [
       "- 3 reasons why Quant price has rallied 200% in the last month.  Increased interoperability between blockchain networks and the release of Overledger 2.0.5 are just a few of the reasons for QNT’s 200% rally in August.  ... [| Skaityti daugiau](https://cointelegraph.com/news/3-reasons-why-quant-price-has-rallied-200-in-the-last-month) "
      ],
      "text/plain": [
       "<IPython.core.display.Markdown object>"
      ]
     },
     "execution_count": 3,
     "metadata": {},
     "output_type": "execute_result"
    }
   ],
   "source": [
    "#hide_input\n",
    "#md('##### {}'.format(titleBTC)) \n",
    "md(\"- {}{} {}{} [| Skaityti daugiau]({}) \".format(blockchain['title'],'. ', blockchain['body'], ' ...', blockchain['url']))"
   ]
  },
  {
   "cell_type": "code",
   "execution_count": 4,
   "id": "aging-caution",
   "metadata": {
    "execution": {
     "iopub.execute_input": "2021-09-08T01:56:53.521644Z",
     "iopub.status.busy": "2021-09-08T01:56:53.521122Z",
     "iopub.status.idle": "2021-09-08T01:56:53.524318Z",
     "shell.execute_reply": "2021-09-08T01:56:53.523919Z"
    },
    "papermill": {
     "duration": 0.016078,
     "end_time": "2021-09-08T01:56:53.524416",
     "exception": false,
     "start_time": "2021-09-08T01:56:53.508338",
     "status": "completed"
    },
    "tags": []
   },
   "outputs": [
    {
     "data": {
      "text/markdown": [
       "- First Day of Bitcoin as Legal Tender: El Salvador Buys the Dip, Country’s BTC Stash Grows.  Bitcoin is now legal tender in El Salvador, and the country&#x2019;s bitcoin stash has grown to 550 coins. The Salvadoran government started buying the cryptocurrency Monday ahead of the Bitcoin Law taking effect. On Tuesday, President Nayib Bukele said El Salvador bought the dip. El Salvador Buys More Bitcoin El Salvador&#x2019;s Bitcoin Law came into [&#8230;] ... [| Skaityti daugiau](https://news.bitcoin.com/first-day-bitcoin-legal-tender-el-salvador-buys-the-dip-countrys-btc-stash-grows/) "
      ],
      "text/plain": [
       "<IPython.core.display.Markdown object>"
      ]
     },
     "execution_count": 4,
     "metadata": {},
     "output_type": "execute_result"
    }
   ],
   "source": [
    "#hide_input\n",
    "#md('##### {}'.format(titleBTC)) \n",
    "md(\"- {}{} {}{} [| Skaityti daugiau]({}) \".format(btc['title'],'. ', btc['body'], ' ...', btc['url']))"
   ]
  },
  {
   "cell_type": "code",
   "execution_count": 5,
   "id": "organic-actress",
   "metadata": {
    "execution": {
     "iopub.execute_input": "2021-09-08T01:56:53.547124Z",
     "iopub.status.busy": "2021-09-08T01:56:53.546629Z",
     "iopub.status.idle": "2021-09-08T01:56:53.549148Z",
     "shell.execute_reply": "2021-09-08T01:56:53.549547Z"
    },
    "papermill": {
     "duration": 0.015932,
     "end_time": "2021-09-08T01:56:53.549661",
     "exception": false,
     "start_time": "2021-09-08T01:56:53.533729",
     "status": "completed"
    },
    "tags": []
   },
   "outputs": [
    {
     "data": {
      "text/markdown": [
       "- Ripple wallet that funds Jed McCaleb’s ‘Tacostand’ now has zero XRP remaining.  The original Ripple address used to fund former Ripple exec&#8217;s &#8216;Tacostand&#8217; wallet has zero XRP remaining. The post Ripple wallet that funds Jed McCaleb&#8217;s &#8216;Tacostand&#8217; now has zero XRP remaining appeared first on CryptoSlate. ... [| Skaityti daugiau](https://cryptoslate.com/ripple-wallet-that-funds-jed-mccalebs-tacostand-now-has-zero-xrp-remaining/) "
      ],
      "text/plain": [
       "<IPython.core.display.Markdown object>"
      ]
     },
     "execution_count": 5,
     "metadata": {},
     "output_type": "execute_result"
    }
   ],
   "source": [
    "#hide_input\n",
    "#md('##### {}'.format(titleBTC)) \n",
    "md(\"- {}{} {}{} [| Skaityti daugiau]({}) \".format(xrp['title'],'. ', xrp['body'], ' ...', xrp['url']))"
   ]
  },
  {
   "cell_type": "code",
   "execution_count": 6,
   "id": "prompt-farmer",
   "metadata": {
    "execution": {
     "iopub.execute_input": "2021-09-08T01:56:53.573179Z",
     "iopub.status.busy": "2021-09-08T01:56:53.572687Z",
     "iopub.status.idle": "2021-09-08T01:56:53.575829Z",
     "shell.execute_reply": "2021-09-08T01:56:53.575431Z"
    },
    "papermill": {
     "duration": 0.016589,
     "end_time": "2021-09-08T01:56:53.575926",
     "exception": false,
     "start_time": "2021-09-08T01:56:53.559337",
     "status": "completed"
    },
    "tags": []
   },
   "outputs": [
    {
     "data": {
      "text/markdown": [
       "- Tron, MATIC, WAVES Price Analysis: 07 September.  Following Bitcoin and Ethereum’s consolidation over the last 24 hours, certain altcoins have either declined in value or displayed sideways price action. Although prices of Tron remained right below the multi-month high, the alt struggled to break over the $0.103 mark. WAVES also showed signs of consolidation, however, technical indicators pointed that it could move [&#8230;] ... [| Skaityti daugiau](https://ambcrypto.com/tron-matic-waves-price-analysis-07-september/) "
      ],
      "text/plain": [
       "<IPython.core.display.Markdown object>"
      ]
     },
     "execution_count": 6,
     "metadata": {},
     "output_type": "execute_result"
    }
   ],
   "source": [
    "#hide_input\n",
    "#md('##### {}'.format(titleBTC)) \n",
    "md(\"- {}{} {}{} [| Skaityti daugiau]({}) \".format(trx['title'],'. ', trx['body'], ' ...', trx['url']))"
   ]
  },
  {
   "cell_type": "code",
   "execution_count": 7,
   "id": "illegal-greece",
   "metadata": {
    "execution": {
     "iopub.execute_input": "2021-09-08T01:56:53.600537Z",
     "iopub.status.busy": "2021-09-08T01:56:53.600037Z",
     "iopub.status.idle": "2021-09-08T01:56:53.602993Z",
     "shell.execute_reply": "2021-09-08T01:56:53.602596Z"
    },
    "papermill": {
     "duration": 0.01708,
     "end_time": "2021-09-08T01:56:53.603090",
     "exception": false,
     "start_time": "2021-09-08T01:56:53.586010",
     "status": "completed"
    },
    "tags": []
   },
   "outputs": [
    {
     "data": {
      "text/markdown": [
       "- Is this revenue stream sustainable for Ethereum.  The rising interest in NFTs has been well-documented over the past few weeks. Whether it is Ethereum-based Crypto Punks or BSC&#8217;s CryptoBlades game, engagement and traffic has been consistent. This has fueled the development of a new marketplace altogether. While activity is bringing eyes to this new form of asset, it is also generating massive [&#8230;] ... [| Skaityti daugiau](https://ambcrypto.com/is-this-revenue-stream-sustainable-for-ethereum/) "
      ],
      "text/plain": [
       "<IPython.core.display.Markdown object>"
      ]
     },
     "execution_count": 7,
     "metadata": {},
     "output_type": "execute_result"
    }
   ],
   "source": [
    "#hide_input\n",
    "#md('##### {}'.format(titleBTC)) \n",
    "md(\"- {}{} {}{} [| Skaityti daugiau]({}) \".format(eth['title'],'. ', eth['body'], ' ...', eth['url']))"
   ]
  },
  {
   "cell_type": "code",
   "execution_count": 8,
   "id": "sublime-lounge",
   "metadata": {
    "execution": {
     "iopub.execute_input": "2021-09-08T01:56:53.627725Z",
     "iopub.status.busy": "2021-09-08T01:56:53.627230Z",
     "iopub.status.idle": "2021-09-08T01:56:53.629958Z",
     "shell.execute_reply": "2021-09-08T01:56:53.630384Z"
    },
    "papermill": {
     "duration": 0.017168,
     "end_time": "2021-09-08T01:56:53.630491",
     "exception": false,
     "start_time": "2021-09-08T01:56:53.613323",
     "status": "completed"
    },
    "tags": []
   },
   "outputs": [
    {
     "data": {
      "text/markdown": [
       "- Cardano, Synthetix, VeChain Price Analysis: 07 September.  Quite a few altcoins in the market experienced bearish momentum. The likes of Cardano, Synthetix and VeChain noted a decline on their respective charts. Cardano fell by 2.5% and was expecting to rest near its support zone of $2.49. Synthetix traded right above its support level of $12.49 and threatened to fall below it over [&#8230;] ... [| Skaityti daugiau](https://ambcrypto.com/cardano-synthetix-vechain-price-analysis-07-september/) "
      ],
      "text/plain": [
       "<IPython.core.display.Markdown object>"
      ]
     },
     "execution_count": 8,
     "metadata": {},
     "output_type": "execute_result"
    }
   ],
   "source": [
    "#hide_input\n",
    "#md('##### {}'.format(titleBTC)) \n",
    "md(\"- {}{} {}{} [| Skaityti daugiau]({}) \".format(ada['title'],'. ', ada['body'], ' ...', ada['url']))"
   ]
  },
  {
   "cell_type": "code",
   "execution_count": 9,
   "id": "specified-ordering",
   "metadata": {
    "execution": {
     "iopub.execute_input": "2021-09-08T01:56:53.655840Z",
     "iopub.status.busy": "2021-09-08T01:56:53.655348Z",
     "iopub.status.idle": "2021-09-08T01:56:53.658492Z",
     "shell.execute_reply": "2021-09-08T01:56:53.658062Z"
    },
    "papermill": {
     "duration": 0.017489,
     "end_time": "2021-09-08T01:56:53.658585",
     "exception": false,
     "start_time": "2021-09-08T01:56:53.641096",
     "status": "completed"
    },
    "tags": []
   },
   "outputs": [
    {
     "data": {
      "text/markdown": [
       "- Bitfinex Rolls Out Kazakhstan Regulated Security Token Exchange.  Bitfinex's new STO platform is regulated in Kazakhstan and it will give investors access to blockchain-based equities and tokenized securities. ... [| Skaityti daugiau](https://cryptopotato.com/bitfinex-rolls-out-kazakhstan-regulated-security-token-exchange/) "
      ],
      "text/plain": [
       "<IPython.core.display.Markdown object>"
      ]
     },
     "execution_count": 9,
     "metadata": {},
     "output_type": "execute_result"
    }
   ],
   "source": [
    "#hide_input\n",
    "#md('##### {}'.format(titleBTC)) \n",
    "md(\"- {}{} {}{} [| Skaityti daugiau]({}) \".format(exchange['title'],'. ', exchange['body'], ' ...', exchange['url']))"
   ]
  },
  {
   "cell_type": "code",
   "execution_count": null,
   "id": "tender-livestock",
   "metadata": {
    "papermill": {
     "duration": 0.010878,
     "end_time": "2021-09-08T01:56:53.680308",
     "exception": false,
     "start_time": "2021-09-08T01:56:53.669430",
     "status": "completed"
    },
    "tags": []
   },
   "outputs": [],
   "source": []
  },
  {
   "cell_type": "code",
   "execution_count": null,
   "id": "appreciated-diamond",
   "metadata": {
    "papermill": {
     "duration": 0.010875,
     "end_time": "2021-09-08T01:56:53.702243",
     "exception": false,
     "start_time": "2021-09-08T01:56:53.691368",
     "status": "completed"
    },
    "tags": []
   },
   "outputs": [],
   "source": []
  },
  {
   "cell_type": "code",
   "execution_count": null,
   "id": "romance-sweden",
   "metadata": {
    "papermill": {
     "duration": 0.010846,
     "end_time": "2021-09-08T01:56:53.723981",
     "exception": false,
     "start_time": "2021-09-08T01:56:53.713135",
     "status": "completed"
    },
    "tags": []
   },
   "outputs": [],
   "source": []
  },
  {
   "cell_type": "code",
   "execution_count": null,
   "id": "dietary-statistics",
   "metadata": {
    "papermill": {
     "duration": 0.010859,
     "end_time": "2021-09-08T01:56:53.745732",
     "exception": false,
     "start_time": "2021-09-08T01:56:53.734873",
     "status": "completed"
    },
    "tags": []
   },
   "outputs": [],
   "source": []
  }
 ],
 "metadata": {
  "kernelspec": {
   "display_name": "Python 3",
   "language": "python",
   "name": "python3"
  },
  "language_info": {
   "codemirror_mode": {
    "name": "ipython",
    "version": 3
   },
   "file_extension": ".py",
   "mimetype": "text/x-python",
   "name": "python",
   "nbconvert_exporter": "python",
   "pygments_lexer": "ipython3",
   "version": "3.6.14"
  },
  "papermill": {
   "default_parameters": {},
   "duration": 10.938466,
   "end_time": "2021-09-08T01:56:54.163755",
   "environment_variables": {},
   "exception": null,
   "input_path": "Market-News.ipynb",
   "output_path": "Market-News.ipynb",
   "parameters": {},
   "start_time": "2021-09-08T01:56:43.225289",
   "version": "2.2.2"
  }
 },
 "nbformat": 4,
 "nbformat_minor": 5
}