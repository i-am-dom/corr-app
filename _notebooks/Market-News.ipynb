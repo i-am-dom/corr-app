{
 "cells": [
  {
   "cell_type": "markdown",
   "id": "short-greensboro",
   "metadata": {
    "papermill": {
     "duration": 0.013864,
     "end_time": "2022-05-19T03:05:21.513422",
     "exception": false,
     "start_time": "2022-05-19T03:05:21.499558",
     "status": "completed"
    },
    "tags": []
   },
   "source": [
    "# Kriptovaliutų naujienos"
   ]
  },
  {
   "cell_type": "code",
   "execution_count": 1,
   "id": "functioning-knowing",
   "metadata": {
    "execution": {
     "iopub.execute_input": "2022-05-19T03:05:21.543770Z",
     "iopub.status.busy": "2022-05-19T03:05:21.543184Z",
     "iopub.status.idle": "2022-05-19T03:05:22.843370Z",
     "shell.execute_reply": "2022-05-19T03:05:22.842769Z"
    },
    "papermill": {
     "duration": 1.32005,
     "end_time": "2022-05-19T03:05:22.843538",
     "exception": false,
     "start_time": "2022-05-19T03:05:21.523488",
     "status": "completed"
    },
    "tags": []
   },
   "outputs": [],
   "source": [
    "#hide_input\n",
    "import warnings\n",
    "warnings.filterwarnings('ignore')\n",
    "from scripts.read_data import read_api\n",
    "from scripts.read_data import read_news\n",
    "from scripts.read_data import read_covid\n",
    "import matplotlib.pyplot as plt \n",
    "from IPython.display import Markdown as md"
   ]
  },
  {
   "cell_type": "code",
   "execution_count": 2,
   "id": "shared-acceptance",
   "metadata": {
    "execution": {
     "iopub.execute_input": "2022-05-19T03:05:22.870243Z",
     "iopub.status.busy": "2022-05-19T03:05:22.869704Z",
     "iopub.status.idle": "2022-05-19T03:05:35.137079Z",
     "shell.execute_reply": "2022-05-19T03:05:35.136543Z"
    },
    "papermill": {
     "duration": 12.283368,
     "end_time": "2022-05-19T03:05:35.137228",
     "exception": false,
     "start_time": "2022-05-19T03:05:22.853860",
     "status": "completed"
    },
    "tags": []
   },
   "outputs": [],
   "source": [
    "#hide_input\n",
    "blockchain = read_news('blockchain') \n",
    "btc = read_news('btc') \n",
    "xrp = read_news('xrp') \n",
    "trx = read_news('trx') \n",
    "eth = read_news('eth')  \n",
    "ada = read_news('ada')\n",
    "exchange = read_news('exchange') "
   ]
  },
  {
   "cell_type": "code",
   "execution_count": 3,
   "id": "synthetic-notion",
   "metadata": {
    "execution": {
     "iopub.execute_input": "2022-05-19T03:05:35.163713Z",
     "iopub.status.busy": "2022-05-19T03:05:35.163062Z",
     "iopub.status.idle": "2022-05-19T03:05:35.166423Z",
     "shell.execute_reply": "2022-05-19T03:05:35.166831Z"
    },
    "papermill": {
     "duration": 0.019551,
     "end_time": "2022-05-19T03:05:35.166966",
     "exception": false,
     "start_time": "2022-05-19T03:05:35.147415",
     "status": "completed"
    },
    "tags": []
   },
   "outputs": [
    {
     "data": {
      "text/markdown": [
       "- Coinbase Bets On 'Enterprise-Grade' Liquid Staking Business.  Major US-based crypto exchange Coinbase is backing the development of the \"first-ever\" enterprise-grade liquid staking protocol, bringing know-your-customer (KYC) checks to the world of decentralized finance (DeFi). According to an announcement from Coinbase on Tuesday, the new liquid staking protocol is being developed by Alluvial, a development firm made up of people with experience from various DeFi-related projects....Read More: Coinbase Bets On 'Enterprise-Grade' Liquid Staking Business ... [| Skaityti daugiau](https://cryptonews.com/news/coinbase-bets-on-enterprise-grade-liquid-staking-business.htm) "
      ],
      "text/plain": [
       "<IPython.core.display.Markdown object>"
      ]
     },
     "execution_count": 3,
     "metadata": {},
     "output_type": "execute_result"
    }
   ],
   "source": [
    "#hide_input\n",
    "#md('##### {}'.format(titleBTC)) \n",
    "md(\"- {}{} {}{} [| Skaityti daugiau]({}) \".format(blockchain['title'],'. ', blockchain['body'], ' ...', blockchain['url']))"
   ]
  },
  {
   "cell_type": "code",
   "execution_count": 4,
   "id": "aging-caution",
   "metadata": {
    "execution": {
     "iopub.execute_input": "2022-05-19T03:05:35.191693Z",
     "iopub.status.busy": "2022-05-19T03:05:35.191060Z",
     "iopub.status.idle": "2022-05-19T03:05:35.193342Z",
     "shell.execute_reply": "2022-05-19T03:05:35.193747Z"
    },
    "papermill": {
     "duration": 0.017486,
     "end_time": "2022-05-19T03:05:35.193882",
     "exception": false,
     "start_time": "2022-05-19T03:05:35.176396",
     "status": "completed"
    },
    "tags": []
   },
   "outputs": [
    {
     "data": {
      "text/markdown": [
       "- Is There Any Possibility for LUNA Investors to Recover From Their Losses?.  The post Is There Any Possibility for LUNA Investors to Recover From Their Losses? appeared first on Coinpedia - Fintech &amp; Cryptocurreny News Media| Crypto GuideTerra (LUNA) prices are witnessing one of the dreadful days in their history along with its investors. The prices failed each and every attempt to break above the consolidation and currently lead the losers lists. However, despite the recovery plans has been put forth and the execution to begin soon. It is a known fact &#8230; ... [| Skaityti daugiau](https://coinpedia.org/news/is-there-any-possibility-for-luna-investors-to-recover-from-their-losses/) "
      ],
      "text/plain": [
       "<IPython.core.display.Markdown object>"
      ]
     },
     "execution_count": 4,
     "metadata": {},
     "output_type": "execute_result"
    }
   ],
   "source": [
    "#hide_input\n",
    "#md('##### {}'.format(titleBTC)) \n",
    "md(\"- {}{} {}{} [| Skaityti daugiau]({}) \".format(btc['title'],'. ', btc['body'], ' ...', btc['url']))"
   ]
  },
  {
   "cell_type": "code",
   "execution_count": 5,
   "id": "organic-actress",
   "metadata": {
    "execution": {
     "iopub.execute_input": "2022-05-19T03:05:35.218533Z",
     "iopub.status.busy": "2022-05-19T03:05:35.217973Z",
     "iopub.status.idle": "2022-05-19T03:05:35.221313Z",
     "shell.execute_reply": "2022-05-19T03:05:35.220892Z"
    },
    "papermill": {
     "duration": 0.017857,
     "end_time": "2022-05-19T03:05:35.221426",
     "exception": false,
     "start_time": "2022-05-19T03:05:35.203569",
     "status": "completed"
    },
    "tags": []
   },
   "outputs": [
    {
     "data": {
      "text/markdown": [
       "- Ripple Taps Lithuania’s FINCI to Expand ODL-Based International Payments.  The partnership will allow consumers and businesses to make real-time payments while sparing financial institutions to pre-fund their accounts. ... [| Skaityti daugiau](https://cryptopotato.com/ripple-taps-lithuanias-finci-to-expand-odl-based-international-payments/) "
      ],
      "text/plain": [
       "<IPython.core.display.Markdown object>"
      ]
     },
     "execution_count": 5,
     "metadata": {},
     "output_type": "execute_result"
    }
   ],
   "source": [
    "#hide_input\n",
    "#md('##### {}'.format(titleBTC)) \n",
    "md(\"- {}{} {}{} [| Skaityti daugiau]({}) \".format(xrp['title'],'. ', xrp['body'], ' ...', xrp['url']))"
   ]
  },
  {
   "cell_type": "code",
   "execution_count": 6,
   "id": "prompt-farmer",
   "metadata": {
    "execution": {
     "iopub.execute_input": "2022-05-19T03:05:35.246873Z",
     "iopub.status.busy": "2022-05-19T03:05:35.246337Z",
     "iopub.status.idle": "2022-05-19T03:05:35.249117Z",
     "shell.execute_reply": "2022-05-19T03:05:35.248697Z"
    },
    "papermill": {
     "duration": 0.01774,
     "end_time": "2022-05-19T03:05:35.249233",
     "exception": false,
     "start_time": "2022-05-19T03:05:35.231493",
     "status": "completed"
    },
    "tags": []
   },
   "outputs": [
    {
     "data": {
      "text/markdown": [
       "- TRON [TRX] saw high volatility in May, could bulls be in the driving seat.  Disclaimer: The findings of the following analysis are the sole opinions of the writer and should not be considered investment advice The TRON DAO acquired millions of dollars worth of Bitcoin and TRX to safeguard the algorithmic stablecoin USDD. This saw a large spike in the market capitalization of the coin, as prices soared in the [&#8230;] ... [| Skaityti daugiau](https://ambcrypto.com/tron-trx-saw-high-volatility-in-may-could-bulls-be-in-the-driving-seat/) "
      ],
      "text/plain": [
       "<IPython.core.display.Markdown object>"
      ]
     },
     "execution_count": 6,
     "metadata": {},
     "output_type": "execute_result"
    }
   ],
   "source": [
    "#hide_input\n",
    "#md('##### {}'.format(titleBTC)) \n",
    "md(\"- {}{} {}{} [| Skaityti daugiau]({}) \".format(trx['title'],'. ', trx['body'], ' ...', trx['url']))"
   ]
  },
  {
   "cell_type": "code",
   "execution_count": 7,
   "id": "illegal-greece",
   "metadata": {
    "execution": {
     "iopub.execute_input": "2022-05-19T03:05:35.275859Z",
     "iopub.status.busy": "2022-05-19T03:05:35.275312Z",
     "iopub.status.idle": "2022-05-19T03:05:35.277745Z",
     "shell.execute_reply": "2022-05-19T03:05:35.278132Z"
    },
    "papermill": {
     "duration": 0.018324,
     "end_time": "2022-05-19T03:05:35.278271",
     "exception": false,
     "start_time": "2022-05-19T03:05:35.259947",
     "status": "completed"
    },
    "tags": []
   },
   "outputs": [
    {
     "data": {
      "text/markdown": [
       "- The Theory of Burning – Why is it crucial?.  If you follow cryptocurrencies, you’ve probably heard of coin burning. It is a method of reducing the supply of a coin. Coin burning became popular around 2017 and has been duplicated almost endlessly since then. It is now a common trend in the cryptocurrency industry. The phrase “coin burning” conjures up ideas of an investor setting fire to real money. Of course, this is not physically feasible because digital currencies are only present in virtual form. Token burning is when a coin’s creators remove a particular amount of tokens from circulation. Burning tokens has several purposes, the most common of which is to minimize the market’s inflationary pressures. It is like a public company repurchasing stock. Such companies use the cash available to acquire common equity shares, reducing the total outstanding shares. This strategy increases earnings per share by boosting the value of outstanding shares. The net profit to share ratio increases. Big blockchains like Bitcoin and Ethereum don’t employ this methodology. On the other hand, altcoins and smaller tokens commonly burn to regulate the circulating supply, further drawing in investment. But how do cryptocurrencies get burnt? Token burning has many variations, but the ultimate goal is to reduce the total number of available tokens. While you can’t burn Cryptocurrency, you can make it unusable. Token signatures are visible to all nodes but are permanently frozen, saved in an ... ... [| Skaityti daugiau](https://www.cryptoknowmics.com/news/the-theory-of-burning-why-is-it-crucial/?utm_source=rss&utm_medium=rss&utm_campaign=the-theory-of-burning-why-is-it-crucial) "
      ],
      "text/plain": [
       "<IPython.core.display.Markdown object>"
      ]
     },
     "execution_count": 7,
     "metadata": {},
     "output_type": "execute_result"
    }
   ],
   "source": [
    "#hide_input\n",
    "#md('##### {}'.format(titleBTC)) \n",
    "md(\"- {}{} {}{} [| Skaityti daugiau]({}) \".format(eth['title'],'. ', eth['body'], ' ...', eth['url']))"
   ]
  },
  {
   "cell_type": "code",
   "execution_count": 8,
   "id": "sublime-lounge",
   "metadata": {
    "execution": {
     "iopub.execute_input": "2022-05-19T03:05:35.305419Z",
     "iopub.status.busy": "2022-05-19T03:05:35.304835Z",
     "iopub.status.idle": "2022-05-19T03:05:35.307670Z",
     "shell.execute_reply": "2022-05-19T03:05:35.307245Z"
    },
    "papermill": {
     "duration": 0.018761,
     "end_time": "2022-05-19T03:05:35.307790",
     "exception": false,
     "start_time": "2022-05-19T03:05:35.289029",
     "status": "completed"
    },
    "tags": []
   },
   "outputs": [
    {
     "data": {
      "text/markdown": [
       "- Price analysis 5/18: BTC, ETH, BNB, XRP, ADA, SOL, DOGE, DOT, AVAX, SHIB.  Ailing stock markets continue to impact crypto prices and technical analysis suggests BTC is at risk of falling below its recent $25,500 low.  ... [| Skaityti daugiau](https://cointelegraph.com/news/price-analysis-5-18-btc-eth-bnb-xrp-ada-sol-doge-dot-avax-shib) "
      ],
      "text/plain": [
       "<IPython.core.display.Markdown object>"
      ]
     },
     "execution_count": 8,
     "metadata": {},
     "output_type": "execute_result"
    }
   ],
   "source": [
    "#hide_input\n",
    "#md('##### {}'.format(titleBTC)) \n",
    "md(\"- {}{} {}{} [| Skaityti daugiau]({}) \".format(ada['title'],'. ', ada['body'], ' ...', ada['url']))"
   ]
  },
  {
   "cell_type": "code",
   "execution_count": 9,
   "id": "specified-ordering",
   "metadata": {
    "execution": {
     "iopub.execute_input": "2022-05-19T03:05:35.335729Z",
     "iopub.status.busy": "2022-05-19T03:05:35.335193Z",
     "iopub.status.idle": "2022-05-19T03:05:35.338524Z",
     "shell.execute_reply": "2022-05-19T03:05:35.338104Z"
    },
    "papermill": {
     "duration": 0.019767,
     "end_time": "2022-05-19T03:05:35.338641",
     "exception": false,
     "start_time": "2022-05-19T03:05:35.318874",
     "status": "completed"
    },
    "tags": []
   },
   "outputs": [
    {
     "data": {
      "text/markdown": [
       "- IMF Sanctions: Barrier to Crypto Adoption?.  1944 marked the founding of the International Monetary Fund (IMF). About 190 countries in its membership rely on it for exchange rate stabilization. In response to the emergence of cryptocurrencies over a decade ago, the International Monetary Fund (IMF) emphasized that this development can make the financial system of countries porous since the market is not regulated. IMF sanctions El Salvador suffered IMF sanctions for adopting Bitcoin as a legal tender and making purchases of more Bitcoin during dips. Just a few weeks ago, the Central African Republic (CAR) joined El Salvador in adopting Bitcoin as a legal tender. This action brought a lot of criticism to the government of CAR by the International Monetary Fund and other international institutions. The fear of IMF sanctions could impact negatively on the speedy adoption of cryptocurrencies in the following ways: Fear of open support for cryptocurrencies by countries Imposition of laws preventing citizens from participating in Crypto activities Fear of Open Support for Cryptocurrencies by Countries The membership had 190 countries in total. Due to the fear of sanctions, only a few countries in the membership adopted cryptocurrencies as legal tender. They worried these IMF sanctions would prevent them from accessing international loans during any financial crisis. Different countries that understand the importance of cryptocurrencies in the long term seek this support to ali... ... [| Skaityti daugiau](https://www.cryptoknowmics.com/news/imf-sanctions-barrier-to-crypto-adoption/?utm_source=rss&utm_medium=rss&utm_campaign=imf-sanctions-barrier-to-crypto-adoption) "
      ],
      "text/plain": [
       "<IPython.core.display.Markdown object>"
      ]
     },
     "execution_count": 9,
     "metadata": {},
     "output_type": "execute_result"
    }
   ],
   "source": [
    "#hide_input\n",
    "#md('##### {}'.format(titleBTC)) \n",
    "md(\"- {}{} {}{} [| Skaityti daugiau]({}) \".format(exchange['title'],'. ', exchange['body'], ' ...', exchange['url']))"
   ]
  },
  {
   "cell_type": "code",
   "execution_count": null,
   "id": "tender-livestock",
   "metadata": {
    "papermill": {
     "duration": 0.011477,
     "end_time": "2022-05-19T03:05:35.361600",
     "exception": false,
     "start_time": "2022-05-19T03:05:35.350123",
     "status": "completed"
    },
    "tags": []
   },
   "outputs": [],
   "source": []
  },
  {
   "cell_type": "code",
   "execution_count": null,
   "id": "appreciated-diamond",
   "metadata": {
    "papermill": {
     "duration": 0.011288,
     "end_time": "2022-05-19T03:05:35.384432",
     "exception": false,
     "start_time": "2022-05-19T03:05:35.373144",
     "status": "completed"
    },
    "tags": []
   },
   "outputs": [],
   "source": []
  },
  {
   "cell_type": "code",
   "execution_count": null,
   "id": "romance-sweden",
   "metadata": {
    "papermill": {
     "duration": 0.011188,
     "end_time": "2022-05-19T03:05:35.408664",
     "exception": false,
     "start_time": "2022-05-19T03:05:35.397476",
     "status": "completed"
    },
    "tags": []
   },
   "outputs": [],
   "source": []
  },
  {
   "cell_type": "code",
   "execution_count": null,
   "id": "dietary-statistics",
   "metadata": {
    "papermill": {
     "duration": 0.011153,
     "end_time": "2022-05-19T03:05:35.431063",
     "exception": false,
     "start_time": "2022-05-19T03:05:35.419910",
     "status": "completed"
    },
    "tags": []
   },
   "outputs": [],
   "source": []
  }
 ],
 "metadata": {
  "kernelspec": {
   "display_name": "Python 3",
   "language": "python",
   "name": "python3"
  },
  "language_info": {
   "codemirror_mode": {
    "name": "ipython",
    "version": 3
   },
   "file_extension": ".py",
   "mimetype": "text/x-python",
   "name": "python",
   "nbconvert_exporter": "python",
   "pygments_lexer": "ipython3",
   "version": "3.6.15"
  },
  "papermill": {
   "default_parameters": {},
   "duration": 15.7363,
   "end_time": "2022-05-19T03:05:35.962319",
   "environment_variables": {},
   "exception": null,
   "input_path": "Market-News.ipynb",
   "output_path": "Market-News.ipynb",
   "parameters": {},
   "start_time": "2022-05-19T03:05:20.226019",
   "version": "2.2.2"
  }
 },
 "nbformat": 4,
 "nbformat_minor": 5
}