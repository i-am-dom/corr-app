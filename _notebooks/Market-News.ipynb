{
 "cells": [
  {
   "cell_type": "markdown",
   "id": "short-greensboro",
   "metadata": {
    "papermill": {
     "duration": 0.016878,
     "end_time": "2022-03-09T02:18:38.974077",
     "exception": false,
     "start_time": "2022-03-09T02:18:38.957199",
     "status": "completed"
    },
    "tags": []
   },
   "source": [
    "# Kriptovaliutų naujienos"
   ]
  },
  {
   "cell_type": "code",
   "execution_count": 1,
   "id": "functioning-knowing",
   "metadata": {
    "execution": {
     "iopub.execute_input": "2022-03-09T02:18:39.019368Z",
     "iopub.status.busy": "2022-03-09T02:18:39.018351Z",
     "iopub.status.idle": "2022-03-09T02:18:40.696075Z",
     "shell.execute_reply": "2022-03-09T02:18:40.695093Z"
    },
    "papermill": {
     "duration": 1.709414,
     "end_time": "2022-03-09T02:18:40.696348",
     "exception": false,
     "start_time": "2022-03-09T02:18:38.986934",
     "status": "completed"
    },
    "tags": []
   },
   "outputs": [],
   "source": [
    "#hide_input\n",
    "import warnings\n",
    "warnings.filterwarnings('ignore')\n",
    "from scripts.read_data import read_api\n",
    "from scripts.read_data import read_news\n",
    "from scripts.read_data import read_covid\n",
    "import matplotlib.pyplot as plt \n",
    "from IPython.display import Markdown as md"
   ]
  },
  {
   "cell_type": "code",
   "execution_count": 2,
   "id": "shared-acceptance",
   "metadata": {
    "execution": {
     "iopub.execute_input": "2022-03-09T02:18:40.731291Z",
     "iopub.status.busy": "2022-03-09T02:18:40.730485Z",
     "iopub.status.idle": "2022-03-09T02:18:49.171118Z",
     "shell.execute_reply": "2022-03-09T02:18:49.170359Z"
    },
    "papermill": {
     "duration": 8.461937,
     "end_time": "2022-03-09T02:18:49.171273",
     "exception": false,
     "start_time": "2022-03-09T02:18:40.709336",
     "status": "completed"
    },
    "tags": []
   },
   "outputs": [],
   "source": [
    "#hide_input\n",
    "blockchain = read_news('blockchain') \n",
    "btc = read_news('btc') \n",
    "xrp = read_news('xrp') \n",
    "trx = read_news('trx') \n",
    "eth = read_news('eth')  \n",
    "ada = read_news('ada')\n",
    "exchange = read_news('exchange') "
   ]
  },
  {
   "cell_type": "code",
   "execution_count": 3,
   "id": "synthetic-notion",
   "metadata": {
    "execution": {
     "iopub.execute_input": "2022-03-09T02:18:49.202967Z",
     "iopub.status.busy": "2022-03-09T02:18:49.202198Z",
     "iopub.status.idle": "2022-03-09T02:18:49.205264Z",
     "shell.execute_reply": "2022-03-09T02:18:49.205819Z"
    },
    "papermill": {
     "duration": 0.022971,
     "end_time": "2022-03-09T02:18:49.205983",
     "exception": false,
     "start_time": "2022-03-09T02:18:49.183012",
     "status": "completed"
    },
    "tags": []
   },
   "outputs": [
    {
     "data": {
      "text/markdown": [
       "- Ethereum once again above $2.6K after a successful retest of $2.5K.  Ethereum price analysis for March 9, 2022, confirms that the token world&#8217;s second-biggest cryptocurrency has successfully retested the support of $2.5K, noted in our ETH price analysis for March 8, 2022. There are chances of another dip coming in the coming if the trading volume doesn&#8217;t pick up soon and ETH breaks above $3.3K, which [&#8230;]The post Ethereum once again above $2.6K after a successful retest of $2.5K appeared first on Blockchain, Crypto and Stock News. ... [| Skaityti daugiau](https://thecoinrise.com/ethereum-once-again-above-2-6k-after-a-successful-retest-of-2-5k/) "
      ],
      "text/plain": [
       "<IPython.core.display.Markdown object>"
      ]
     },
     "execution_count": 3,
     "metadata": {},
     "output_type": "execute_result"
    }
   ],
   "source": [
    "#hide_input\n",
    "#md('##### {}'.format(titleBTC)) \n",
    "md(\"- {}{} {}{} [| Skaityti daugiau]({}) \".format(blockchain['title'],'. ', blockchain['body'], ' ...', blockchain['url']))"
   ]
  },
  {
   "cell_type": "code",
   "execution_count": 4,
   "id": "aging-caution",
   "metadata": {
    "execution": {
     "iopub.execute_input": "2022-03-09T02:18:49.237680Z",
     "iopub.status.busy": "2022-03-09T02:18:49.236948Z",
     "iopub.status.idle": "2022-03-09T02:18:49.240621Z",
     "shell.execute_reply": "2022-03-09T02:18:49.239920Z"
    },
    "papermill": {
     "duration": 0.022048,
     "end_time": "2022-03-09T02:18:49.240760",
     "exception": false,
     "start_time": "2022-03-09T02:18:49.218712",
     "status": "completed"
    },
    "tags": []
   },
   "outputs": [
    {
     "data": {
      "text/markdown": [
       "- Bitcoin forms second bullish candle: Volume not enough to break $40K.  Bitcoin price analysis for March 9, 2022, confirms that the token has turned bullish forming a second bullish daily candle on the daily chart. Does this mean that a trend reversal is coming? Well, TheCoinRise doesn&#8217;t think so! It is important to note that the chances of BTC reclaiming the $40K price level are very [&#8230;]The post Bitcoin forms second bullish candle: Volume not enough to break $40K appeared first on Blockchain, Crypto and Stock News. ... [| Skaityti daugiau](https://thecoinrise.com/bitcoin-forms-second-bullish-candle-volume-not-enough-to-break-40k/) "
      ],
      "text/plain": [
       "<IPython.core.display.Markdown object>"
      ]
     },
     "execution_count": 4,
     "metadata": {},
     "output_type": "execute_result"
    }
   ],
   "source": [
    "#hide_input\n",
    "#md('##### {}'.format(titleBTC)) \n",
    "md(\"- {}{} {}{} [| Skaityti daugiau]({}) \".format(btc['title'],'. ', btc['body'], ' ...', btc['url']))"
   ]
  },
  {
   "cell_type": "code",
   "execution_count": 5,
   "id": "organic-actress",
   "metadata": {
    "execution": {
     "iopub.execute_input": "2022-03-09T02:18:49.273252Z",
     "iopub.status.busy": "2022-03-09T02:18:49.272470Z",
     "iopub.status.idle": "2022-03-09T02:18:49.275448Z",
     "shell.execute_reply": "2022-03-09T02:18:49.276027Z"
    },
    "papermill": {
     "duration": 0.02136,
     "end_time": "2022-03-09T02:18:49.276186",
     "exception": false,
     "start_time": "2022-03-09T02:18:49.254826",
     "status": "completed"
    },
    "tags": []
   },
   "outputs": [
    {
     "data": {
      "text/markdown": [
       "- Bitcoin, Ethereum, Cardano and XRP Witness Rise in Institutional Capital Flows During Geopolitical Tensions.  A leading digital assets manager says geopolitical risks are not keeping institutional crypto investors from adding to their positions in North America. In its latest Digital Asset Fund Flows Weekly report, CoinShares says digital asset investment products enjoyed inflows of over $125 million last week. &#8220;Digital asset investment products saw inflows totaling $127 million last [&#8230;]The post Bitcoin, Ethereum, Cardano and XRP Witness Rise in Institutional Capital Flows During Geopolitical Tensions appeared first on The Daily Hodl. ... [| Skaityti daugiau](https://dailyhodl.com/2022/03/08/bitcoin-ethereum-cardano-and-xrp-witness-rise-in-institutional-capital-flows-during-geopolitical-tensions/) "
      ],
      "text/plain": [
       "<IPython.core.display.Markdown object>"
      ]
     },
     "execution_count": 5,
     "metadata": {},
     "output_type": "execute_result"
    }
   ],
   "source": [
    "#hide_input\n",
    "#md('##### {}'.format(titleBTC)) \n",
    "md(\"- {}{} {}{} [| Skaityti daugiau]({}) \".format(xrp['title'],'. ', xrp['body'], ' ...', xrp['url']))"
   ]
  },
  {
   "cell_type": "code",
   "execution_count": 6,
   "id": "prompt-farmer",
   "metadata": {
    "execution": {
     "iopub.execute_input": "2022-03-09T02:18:49.309855Z",
     "iopub.status.busy": "2022-03-09T02:18:49.309123Z",
     "iopub.status.idle": "2022-03-09T02:18:49.312876Z",
     "shell.execute_reply": "2022-03-09T02:18:49.312198Z"
    },
    "papermill": {
     "duration": 0.02348,
     "end_time": "2022-03-09T02:18:49.313014",
     "exception": false,
     "start_time": "2022-03-09T02:18:49.289534",
     "status": "completed"
    },
    "tags": []
   },
   "outputs": [
    {
     "data": {
      "text/markdown": [
       "- Over 60% of all Tron (TRX) transactions are related to smart contracts.  Tron (TRX) has been measuring a steady uptick in the number of transactions and smart contract activity, with the latter...  Continue reading  The post Over 60% of all Tron (TRX) transactions are related to smart contracts appeared first on Finbold. ... [| Skaityti daugiau](https://finbold.com/over-60-of-all-tron-trx-transactions-are-related-to-smart-contracts/) "
      ],
      "text/plain": [
       "<IPython.core.display.Markdown object>"
      ]
     },
     "execution_count": 6,
     "metadata": {},
     "output_type": "execute_result"
    }
   ],
   "source": [
    "#hide_input\n",
    "#md('##### {}'.format(titleBTC)) \n",
    "md(\"- {}{} {}{} [| Skaityti daugiau]({}) \".format(trx['title'],'. ', trx['body'], ' ...', trx['url']))"
   ]
  },
  {
   "cell_type": "code",
   "execution_count": 7,
   "id": "illegal-greece",
   "metadata": {
    "execution": {
     "iopub.execute_input": "2022-03-09T02:18:49.347844Z",
     "iopub.status.busy": "2022-03-09T02:18:49.347040Z",
     "iopub.status.idle": "2022-03-09T02:18:49.350387Z",
     "shell.execute_reply": "2022-03-09T02:18:49.351091Z"
    },
    "papermill": {
     "duration": 0.023897,
     "end_time": "2022-03-09T02:18:49.351263",
     "exception": false,
     "start_time": "2022-03-09T02:18:49.327366",
     "status": "completed"
    },
    "tags": []
   },
   "outputs": [
    {
     "data": {
      "text/markdown": [
       "- Ethereum once again above $2.6K after a successful retest of $2.5K.  Ethereum price analysis for March 9, 2022, confirms that the token world&#8217;s second-biggest cryptocurrency has successfully retested the support of $2.5K, noted in our ETH price analysis for March 8, 2022. There are chances of another dip coming in the coming if the trading volume doesn&#8217;t pick up soon and ETH breaks above $3.3K, which [&#8230;]The post Ethereum once again above $2.6K after a successful retest of $2.5K appeared first on Blockchain, Crypto and Stock News. ... [| Skaityti daugiau](https://thecoinrise.com/ethereum-once-again-above-2-6k-after-a-successful-retest-of-2-5k/) "
      ],
      "text/plain": [
       "<IPython.core.display.Markdown object>"
      ]
     },
     "execution_count": 7,
     "metadata": {},
     "output_type": "execute_result"
    }
   ],
   "source": [
    "#hide_input\n",
    "#md('##### {}'.format(titleBTC)) \n",
    "md(\"- {}{} {}{} [| Skaityti daugiau]({}) \".format(eth['title'],'. ', eth['body'], ' ...', eth['url']))"
   ]
  },
  {
   "cell_type": "code",
   "execution_count": 8,
   "id": "sublime-lounge",
   "metadata": {
    "execution": {
     "iopub.execute_input": "2022-03-09T02:18:49.386229Z",
     "iopub.status.busy": "2022-03-09T02:18:49.385521Z",
     "iopub.status.idle": "2022-03-09T02:18:49.388628Z",
     "shell.execute_reply": "2022-03-09T02:18:49.389300Z"
    },
    "papermill": {
     "duration": 0.024161,
     "end_time": "2022-03-09T02:18:49.389454",
     "exception": false,
     "start_time": "2022-03-09T02:18:49.365293",
     "status": "completed"
    },
    "tags": []
   },
   "outputs": [
    {
     "data": {
      "text/markdown": [
       "- Bitcoin, Ethereum, Cardano and XRP Witness Rise in Institutional Capital Flows During Geopolitical Tensions.  A leading digital assets manager says geopolitical risks are not keeping institutional crypto investors from adding to their positions in North America. In its latest Digital Asset Fund Flows Weekly report, CoinShares says digital asset investment products enjoyed inflows of over $125 million last week. &#8220;Digital asset investment products saw inflows totaling $127 million last [&#8230;]The post Bitcoin, Ethereum, Cardano and XRP Witness Rise in Institutional Capital Flows During Geopolitical Tensions appeared first on The Daily Hodl. ... [| Skaityti daugiau](https://dailyhodl.com/2022/03/08/bitcoin-ethereum-cardano-and-xrp-witness-rise-in-institutional-capital-flows-during-geopolitical-tensions/) "
      ],
      "text/plain": [
       "<IPython.core.display.Markdown object>"
      ]
     },
     "execution_count": 8,
     "metadata": {},
     "output_type": "execute_result"
    }
   ],
   "source": [
    "#hide_input\n",
    "#md('##### {}'.format(titleBTC)) \n",
    "md(\"- {}{} {}{} [| Skaityti daugiau]({}) \".format(ada['title'],'. ', ada['body'], ' ...', ada['url']))"
   ]
  },
  {
   "cell_type": "code",
   "execution_count": 9,
   "id": "specified-ordering",
   "metadata": {
    "execution": {
     "iopub.execute_input": "2022-03-09T02:18:49.425363Z",
     "iopub.status.busy": "2022-03-09T02:18:49.424627Z",
     "iopub.status.idle": "2022-03-09T02:18:49.427568Z",
     "shell.execute_reply": "2022-03-09T02:18:49.428267Z"
    },
    "papermill": {
     "duration": 0.024352,
     "end_time": "2022-03-09T02:18:49.428429",
     "exception": false,
     "start_time": "2022-03-09T02:18:49.404077",
     "status": "completed"
    },
    "tags": []
   },
   "outputs": [
    {
     "data": {
      "text/markdown": [
       "- Shiba Inu ($SHIB) Overtakes FTX’s $FTT as Ethereum Whales’ Second-Largest Holding.  The meme-inspired cryptocurrency Shiba Inu ($SHIB) has overtaken the native cryptocurrency of the FTX exchange, $FTT, as the second-largest holding the largest Ethereum whales have in their portfolios, behind $ETH itself only. According to data shared by whale monitoring resource WhaleStats, the largest Ethereum whales have been adding SHIB to their holdings over time to […] ... [| Skaityti daugiau](https://www.cryptoglobe.com/latest/2022/03/shiba-inu-shib-overtakes-ftxs-ftt-as-ethereum-whales-second-largest-holding/) "
      ],
      "text/plain": [
       "<IPython.core.display.Markdown object>"
      ]
     },
     "execution_count": 9,
     "metadata": {},
     "output_type": "execute_result"
    }
   ],
   "source": [
    "#hide_input\n",
    "#md('##### {}'.format(titleBTC)) \n",
    "md(\"- {}{} {}{} [| Skaityti daugiau]({}) \".format(exchange['title'],'. ', exchange['body'], ' ...', exchange['url']))"
   ]
  },
  {
   "cell_type": "code",
   "execution_count": null,
   "id": "tender-livestock",
   "metadata": {
    "papermill": {
     "duration": 0.018562,
     "end_time": "2022-03-09T02:18:49.461791",
     "exception": false,
     "start_time": "2022-03-09T02:18:49.443229",
     "status": "completed"
    },
    "tags": []
   },
   "outputs": [],
   "source": []
  },
  {
   "cell_type": "code",
   "execution_count": null,
   "id": "appreciated-diamond",
   "metadata": {
    "papermill": {
     "duration": 0.01654,
     "end_time": "2022-03-09T02:18:49.493209",
     "exception": false,
     "start_time": "2022-03-09T02:18:49.476669",
     "status": "completed"
    },
    "tags": []
   },
   "outputs": [],
   "source": []
  },
  {
   "cell_type": "code",
   "execution_count": null,
   "id": "romance-sweden",
   "metadata": {
    "papermill": {
     "duration": 0.01469,
     "end_time": "2022-03-09T02:18:49.525236",
     "exception": false,
     "start_time": "2022-03-09T02:18:49.510546",
     "status": "completed"
    },
    "tags": []
   },
   "outputs": [],
   "source": []
  },
  {
   "cell_type": "code",
   "execution_count": null,
   "id": "dietary-statistics",
   "metadata": {
    "papermill": {
     "duration": 0.017367,
     "end_time": "2022-03-09T02:18:49.557631",
     "exception": false,
     "start_time": "2022-03-09T02:18:49.540264",
     "status": "completed"
    },
    "tags": []
   },
   "outputs": [],
   "source": []
  }
 ],
 "metadata": {
  "kernelspec": {
   "display_name": "Python 3",
   "language": "python",
   "name": "python3"
  },
  "language_info": {
   "codemirror_mode": {
    "name": "ipython",
    "version": 3
   },
   "file_extension": ".py",
   "mimetype": "text/x-python",
   "name": "python",
   "nbconvert_exporter": "python",
   "pygments_lexer": "ipython3",
   "version": "3.6.15"
  },
  "papermill": {
   "default_parameters": {},
   "duration": 12.520829,
   "end_time": "2022-03-09T02:18:50.094681",
   "environment_variables": {},
   "exception": null,
   "input_path": "Market-News.ipynb",
   "output_path": "Market-News.ipynb",
   "parameters": {},
   "start_time": "2022-03-09T02:18:37.573852",
   "version": "2.2.2"
  }
 },
 "nbformat": 4,
 "nbformat_minor": 5
}