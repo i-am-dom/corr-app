{
 "cells": [
  {
   "cell_type": "markdown",
   "id": "short-greensboro",
   "metadata": {
    "papermill": {
     "duration": 0.019278,
     "end_time": "2022-03-07T02:14:42.750811",
     "exception": false,
     "start_time": "2022-03-07T02:14:42.731533",
     "status": "completed"
    },
    "tags": []
   },
   "source": [
    "# Kriptovaliutų naujienos"
   ]
  },
  {
   "cell_type": "code",
   "execution_count": 1,
   "id": "functioning-knowing",
   "metadata": {
    "execution": {
     "iopub.execute_input": "2022-03-07T02:14:42.789138Z",
     "iopub.status.busy": "2022-03-07T02:14:42.788365Z",
     "iopub.status.idle": "2022-03-07T02:14:44.571323Z",
     "shell.execute_reply": "2022-03-07T02:14:44.570637Z"
    },
    "papermill": {
     "duration": 1.807459,
     "end_time": "2022-03-07T02:14:44.571505",
     "exception": false,
     "start_time": "2022-03-07T02:14:42.764046",
     "status": "completed"
    },
    "tags": []
   },
   "outputs": [],
   "source": [
    "#hide_input\n",
    "import warnings\n",
    "warnings.filterwarnings('ignore')\n",
    "from scripts.read_data import read_api\n",
    "from scripts.read_data import read_news\n",
    "from scripts.read_data import read_covid\n",
    "import matplotlib.pyplot as plt \n",
    "from IPython.display import Markdown as md"
   ]
  },
  {
   "cell_type": "code",
   "execution_count": 2,
   "id": "shared-acceptance",
   "metadata": {
    "execution": {
     "iopub.execute_input": "2022-03-07T02:14:44.607322Z",
     "iopub.status.busy": "2022-03-07T02:14:44.606150Z",
     "iopub.status.idle": "2022-03-07T02:14:53.145962Z",
     "shell.execute_reply": "2022-03-07T02:14:53.144880Z"
    },
    "papermill": {
     "duration": 8.560183,
     "end_time": "2022-03-07T02:14:53.146129",
     "exception": false,
     "start_time": "2022-03-07T02:14:44.585946",
     "status": "completed"
    },
    "tags": []
   },
   "outputs": [],
   "source": [
    "#hide_input\n",
    "blockchain = read_news('blockchain') \n",
    "btc = read_news('btc') \n",
    "xrp = read_news('xrp') \n",
    "trx = read_news('trx') \n",
    "eth = read_news('eth')  \n",
    "ada = read_news('ada')\n",
    "exchange = read_news('exchange') "
   ]
  },
  {
   "cell_type": "code",
   "execution_count": 3,
   "id": "synthetic-notion",
   "metadata": {
    "execution": {
     "iopub.execute_input": "2022-03-07T02:14:53.186744Z",
     "iopub.status.busy": "2022-03-07T02:14:53.182960Z",
     "iopub.status.idle": "2022-03-07T02:14:53.189477Z",
     "shell.execute_reply": "2022-03-07T02:14:53.190022Z"
    },
    "papermill": {
     "duration": 0.030335,
     "end_time": "2022-03-07T02:14:53.190188",
     "exception": false,
     "start_time": "2022-03-07T02:14:53.159853",
     "status": "completed"
    },
    "tags": []
   },
   "outputs": [
    {
     "data": {
      "text/markdown": [
       "- Crypto Corner: The Sports Slice.  Sports monsters in European football were particularly aggressive this past week in crypto engagement, while analytics firms like Deloitte and Nielsen predict growth for the years ahead in crypto and blockchain sports sponsorship spend. FC Barcelona and Manchester City led the charge in sports headlines around crypto this week, but for two entirely different reasons. [&#8230;] ... [| Skaityti daugiau](https://bitcoinist.com/crypto-corner-the-sports-slice-29/) "
      ],
      "text/plain": [
       "<IPython.core.display.Markdown object>"
      ]
     },
     "execution_count": 3,
     "metadata": {},
     "output_type": "execute_result"
    }
   ],
   "source": [
    "#hide_input\n",
    "#md('##### {}'.format(titleBTC)) \n",
    "md(\"- {}{} {}{} [| Skaityti daugiau]({}) \".format(blockchain['title'],'. ', blockchain['body'], ' ...', blockchain['url']))"
   ]
  },
  {
   "cell_type": "code",
   "execution_count": 4,
   "id": "aging-caution",
   "metadata": {
    "execution": {
     "iopub.execute_input": "2022-03-07T02:14:53.240508Z",
     "iopub.status.busy": "2022-03-07T02:14:53.239623Z",
     "iopub.status.idle": "2022-03-07T02:14:53.243570Z",
     "shell.execute_reply": "2022-03-07T02:14:53.244388Z"
    },
    "papermill": {
     "duration": 0.034033,
     "end_time": "2022-03-07T02:14:53.244603",
     "exception": false,
     "start_time": "2022-03-07T02:14:53.210570",
     "status": "completed"
    },
    "tags": []
   },
   "outputs": [
    {
     "data": {
      "text/markdown": [
       "- Bitcoin remains below the $39K price level: Retest of $37.5K seems likely.  Bitcoin price analysis for March 7 brings a bearish analysis for investors as the world&#8217;s biggest crypto token has fallen below the important price level of $40K after the token failed to break above $45K, as seen in our BTC price analysis for March 7, 2022. The chances of BTC dropping below $37.5K are high in [&#8230;]The post Bitcoin remains below the $39K price level: Retest of $37.5K seems likely appeared first on Blockchain, Crypto and Stock News. ... [| Skaityti daugiau](https://thecoinrise.com/bitcoin-remains-below-the-39k-price-level-retest-of-37-5k-seems-likely/) "
      ],
      "text/plain": [
       "<IPython.core.display.Markdown object>"
      ]
     },
     "execution_count": 4,
     "metadata": {},
     "output_type": "execute_result"
    }
   ],
   "source": [
    "#hide_input\n",
    "#md('##### {}'.format(titleBTC)) \n",
    "md(\"- {}{} {}{} [| Skaityti daugiau]({}) \".format(btc['title'],'. ', btc['body'], ' ...', btc['url']))"
   ]
  },
  {
   "cell_type": "code",
   "execution_count": 5,
   "id": "organic-actress",
   "metadata": {
    "execution": {
     "iopub.execute_input": "2022-03-07T02:14:53.281831Z",
     "iopub.status.busy": "2022-03-07T02:14:53.280493Z",
     "iopub.status.idle": "2022-03-07T02:14:53.284669Z",
     "shell.execute_reply": "2022-03-07T02:14:53.285416Z"
    },
    "papermill": {
     "duration": 0.026268,
     "end_time": "2022-03-07T02:14:53.285621",
     "exception": false,
     "start_time": "2022-03-07T02:14:53.259353",
     "status": "completed"
    },
    "tags": []
   },
   "outputs": [
    {
     "data": {
      "text/markdown": [
       "- Top 5 cryptocurrencies to watch this week: BTC, XRP, NEAR, XMR, WAVES.  If BTC can flip $41,000 back to support, XRP, NEAR, XMR and WAVES could attract buyers.  ... [| Skaityti daugiau](https://cointelegraph.com/news/top-5-cryptocurrencies-to-watch-this-week-btc-xrp-near-xmr-waves) "
      ],
      "text/plain": [
       "<IPython.core.display.Markdown object>"
      ]
     },
     "execution_count": 5,
     "metadata": {},
     "output_type": "execute_result"
    }
   ],
   "source": [
    "#hide_input\n",
    "#md('##### {}'.format(titleBTC)) \n",
    "md(\"- {}{} {}{} [| Skaityti daugiau]({}) \".format(xrp['title'],'. ', xrp['body'], ' ...', xrp['url']))"
   ]
  },
  {
   "cell_type": "code",
   "execution_count": 6,
   "id": "prompt-farmer",
   "metadata": {
    "execution": {
     "iopub.execute_input": "2022-03-07T02:14:53.323686Z",
     "iopub.status.busy": "2022-03-07T02:14:53.322871Z",
     "iopub.status.idle": "2022-03-07T02:14:53.326794Z",
     "shell.execute_reply": "2022-03-07T02:14:53.327370Z"
    },
    "papermill": {
     "duration": 0.02623,
     "end_time": "2022-03-07T02:14:53.327559",
     "exception": false,
     "start_time": "2022-03-07T02:14:53.301329",
     "status": "completed"
    },
    "tags": []
   },
   "outputs": [
    {
     "data": {
      "text/markdown": [
       "- Chainlink, MATIC and TRX Price Analysis: 03 February.  As the market tried to recover amidst Russia&#8217;s escalating tensions, the likes of Chainlink and MATIC projected growth patterns. However, TRX seemed more inclined towards the bears. Chainlink (LINK) Even though bulls made a desperate attempt to recover from the December crash, LINK dropped to a year low support level of $11.68 on 24 February. [&#8230;] ... [| Skaityti daugiau](https://ambcrypto.com/chainlink-matic-and-trx-price-analysis-03-february/) "
      ],
      "text/plain": [
       "<IPython.core.display.Markdown object>"
      ]
     },
     "execution_count": 6,
     "metadata": {},
     "output_type": "execute_result"
    }
   ],
   "source": [
    "#hide_input\n",
    "#md('##### {}'.format(titleBTC)) \n",
    "md(\"- {}{} {}{} [| Skaityti daugiau]({}) \".format(trx['title'],'. ', trx['body'], ' ...', trx['url']))"
   ]
  },
  {
   "cell_type": "code",
   "execution_count": 7,
   "id": "illegal-greece",
   "metadata": {
    "execution": {
     "iopub.execute_input": "2022-03-07T02:14:53.367657Z",
     "iopub.status.busy": "2022-03-07T02:14:53.366938Z",
     "iopub.status.idle": "2022-03-07T02:14:53.374201Z",
     "shell.execute_reply": "2022-03-07T02:14:53.373441Z"
    },
    "papermill": {
     "duration": 0.031724,
     "end_time": "2022-03-07T02:14:53.374372",
     "exception": false,
     "start_time": "2022-03-07T02:14:53.342648",
     "status": "completed"
    },
    "tags": []
   },
   "outputs": [
    {
     "data": {
      "text/markdown": [
       "- Ethereum downtrend continues: Indicators say that lower $2K possible.  Ethereum price analysis for March 7 comes with a bearish analysis for the token as the ETH investors are worried about their investments. The token might revisit lower $2K price levels in the coming days if the situation remains the same. Moreover, the downtrend for ETH is clearly visible from our ETH price analysis for March [&#8230;]The post Ethereum downtrend continues: Indicators say that lower $2K possible appeared first on Blockchain, Crypto and Stock News. ... [| Skaityti daugiau](https://thecoinrise.com/ethereum-downtrend-continues-indicators-say-that-lower-2k-possible/) "
      ],
      "text/plain": [
       "<IPython.core.display.Markdown object>"
      ]
     },
     "execution_count": 7,
     "metadata": {},
     "output_type": "execute_result"
    }
   ],
   "source": [
    "#hide_input\n",
    "#md('##### {}'.format(titleBTC)) \n",
    "md(\"- {}{} {}{} [| Skaityti daugiau]({}) \".format(eth['title'],'. ', eth['body'], ' ...', eth['url']))"
   ]
  },
  {
   "cell_type": "code",
   "execution_count": 8,
   "id": "sublime-lounge",
   "metadata": {
    "execution": {
     "iopub.execute_input": "2022-03-07T02:14:53.411091Z",
     "iopub.status.busy": "2022-03-07T02:14:53.410332Z",
     "iopub.status.idle": "2022-03-07T02:14:53.414418Z",
     "shell.execute_reply": "2022-03-07T02:14:53.415086Z"
    },
    "papermill": {
     "duration": 0.025396,
     "end_time": "2022-03-07T02:14:53.415271",
     "exception": false,
     "start_time": "2022-03-07T02:14:53.389875",
     "status": "completed"
    },
    "tags": []
   },
   "outputs": [
    {
     "data": {
      "text/markdown": [
       "- Cardano Price Prediction: ADA Faces 17.6% Downside Risk If Bulls Lose $0.82 Support Level.  On March 1st, the Cardano (ADA) price was rejected from the $1 psychological level with an evening star candle pattern. The sellers sank the altcoin back to weekly support of $0.82. Can sellers extend this sell-off to newer levels, or would buyers step in to seize control from them? Key points The ADA price retest The post Cardano Price Prediction: ADA Faces 17.6% Downside Risk If Bulls Lose $0.82 Support Level appeared first on CoinGape. ... [| Skaityti daugiau](https://coingape.com/markets/cardano-price-prediction-ada-17-6-percent-downside-risk-bulls-lose-0-82-support-level/) "
      ],
      "text/plain": [
       "<IPython.core.display.Markdown object>"
      ]
     },
     "execution_count": 8,
     "metadata": {},
     "output_type": "execute_result"
    }
   ],
   "source": [
    "#hide_input\n",
    "#md('##### {}'.format(titleBTC)) \n",
    "md(\"- {}{} {}{} [| Skaityti daugiau]({}) \".format(ada['title'],'. ', ada['body'], ' ...', ada['url']))"
   ]
  },
  {
   "cell_type": "code",
   "execution_count": 9,
   "id": "specified-ordering",
   "metadata": {
    "execution": {
     "iopub.execute_input": "2022-03-07T02:14:53.460161Z",
     "iopub.status.busy": "2022-03-07T02:14:53.458800Z",
     "iopub.status.idle": "2022-03-07T02:14:53.466258Z",
     "shell.execute_reply": "2022-03-07T02:14:53.467618Z"
    },
    "papermill": {
     "duration": 0.035857,
     "end_time": "2022-03-07T02:14:53.467842",
     "exception": false,
     "start_time": "2022-03-07T02:14:53.431985",
     "status": "completed"
    },
    "tags": []
   },
   "outputs": [
    {
     "data": {
      "text/markdown": [
       "- Ravendex attempts to reclaim $0.004 after a price surge of 2% in 24 hours.  Ravendex price analysis for March 7, 2022, brings a slightly bullish analysis for investors as the token has surged more than 2% in the last 24 hours as per the data from BitMART crypto exchange. Furthermore, the token is aiming to reclaim the important price support of $0.004, which the token lost on our RAVE price [&#8230;]The post Ravendex attempts to reclaim $0.004 after a price surge of 2% in 24 hours appeared first on Blockchain, Crypto and Stock News. ... [| Skaityti daugiau](https://thecoinrise.com/ravendex-attempts-to-reclaim-0-004-after-a-price-surge-of-2-in-24-hours/) "
      ],
      "text/plain": [
       "<IPython.core.display.Markdown object>"
      ]
     },
     "execution_count": 9,
     "metadata": {},
     "output_type": "execute_result"
    }
   ],
   "source": [
    "#hide_input\n",
    "#md('##### {}'.format(titleBTC)) \n",
    "md(\"- {}{} {}{} [| Skaityti daugiau]({}) \".format(exchange['title'],'. ', exchange['body'], ' ...', exchange['url']))"
   ]
  },
  {
   "cell_type": "code",
   "execution_count": null,
   "id": "tender-livestock",
   "metadata": {
    "papermill": {
     "duration": 0.01679,
     "end_time": "2022-03-07T02:14:53.502417",
     "exception": false,
     "start_time": "2022-03-07T02:14:53.485627",
     "status": "completed"
    },
    "tags": []
   },
   "outputs": [],
   "source": []
  },
  {
   "cell_type": "code",
   "execution_count": null,
   "id": "appreciated-diamond",
   "metadata": {
    "papermill": {
     "duration": 0.016346,
     "end_time": "2022-03-07T02:14:53.534872",
     "exception": false,
     "start_time": "2022-03-07T02:14:53.518526",
     "status": "completed"
    },
    "tags": []
   },
   "outputs": [],
   "source": []
  },
  {
   "cell_type": "code",
   "execution_count": null,
   "id": "romance-sweden",
   "metadata": {
    "papermill": {
     "duration": 0.016813,
     "end_time": "2022-03-07T02:14:53.568924",
     "exception": false,
     "start_time": "2022-03-07T02:14:53.552111",
     "status": "completed"
    },
    "tags": []
   },
   "outputs": [],
   "source": []
  },
  {
   "cell_type": "code",
   "execution_count": null,
   "id": "dietary-statistics",
   "metadata": {
    "papermill": {
     "duration": 0.015059,
     "end_time": "2022-03-07T02:14:53.598991",
     "exception": false,
     "start_time": "2022-03-07T02:14:53.583932",
     "status": "completed"
    },
    "tags": []
   },
   "outputs": [],
   "source": []
  }
 ],
 "metadata": {
  "kernelspec": {
   "display_name": "Python 3",
   "language": "python",
   "name": "python3"
  },
  "language_info": {
   "codemirror_mode": {
    "name": "ipython",
    "version": 3
   },
   "file_extension": ".py",
   "mimetype": "text/x-python",
   "name": "python",
   "nbconvert_exporter": "python",
   "pygments_lexer": "ipython3",
   "version": "3.6.15"
  },
  "papermill": {
   "default_parameters": {},
   "duration": 12.762342,
   "end_time": "2022-03-07T02:14:54.237230",
   "environment_variables": {},
   "exception": null,
   "input_path": "Market-News.ipynb",
   "output_path": "Market-News.ipynb",
   "parameters": {},
   "start_time": "2022-03-07T02:14:41.474888",
   "version": "2.2.2"
  }
 },
 "nbformat": 4,
 "nbformat_minor": 5
}