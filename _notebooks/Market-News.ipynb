{
 "cells": [
  {
   "cell_type": "markdown",
   "id": "short-greensboro",
   "metadata": {
    "papermill": {
     "duration": 0.013706,
     "end_time": "2022-08-15T03:28:31.902453",
     "exception": false,
     "start_time": "2022-08-15T03:28:31.888747",
     "status": "completed"
    },
    "tags": []
   },
   "source": [
    "# Kriptovaliutų naujienos"
   ]
  },
  {
   "cell_type": "code",
   "execution_count": 1,
   "id": "functioning-knowing",
   "metadata": {
    "execution": {
     "iopub.execute_input": "2022-08-15T03:28:31.936983Z",
     "iopub.status.busy": "2022-08-15T03:28:31.936339Z",
     "iopub.status.idle": "2022-08-15T03:28:33.251879Z",
     "shell.execute_reply": "2022-08-15T03:28:33.251143Z"
    },
    "papermill": {
     "duration": 1.337999,
     "end_time": "2022-08-15T03:28:33.252055",
     "exception": false,
     "start_time": "2022-08-15T03:28:31.914056",
     "status": "completed"
    },
    "tags": []
   },
   "outputs": [],
   "source": [
    "#hide_input\n",
    "import warnings\n",
    "warnings.filterwarnings('ignore')\n",
    "from scripts.read_data import read_api\n",
    "from scripts.read_data import read_news\n",
    "from scripts.read_data import read_covid\n",
    "import matplotlib.pyplot as plt \n",
    "from IPython.display import Markdown as md"
   ]
  },
  {
   "cell_type": "code",
   "execution_count": 2,
   "id": "shared-acceptance",
   "metadata": {
    "execution": {
     "iopub.execute_input": "2022-08-15T03:28:33.279147Z",
     "iopub.status.busy": "2022-08-15T03:28:33.278511Z",
     "iopub.status.idle": "2022-08-15T03:28:46.554612Z",
     "shell.execute_reply": "2022-08-15T03:28:46.553743Z"
    },
    "papermill": {
     "duration": 13.292886,
     "end_time": "2022-08-15T03:28:46.554767",
     "exception": false,
     "start_time": "2022-08-15T03:28:33.261881",
     "status": "completed"
    },
    "tags": []
   },
   "outputs": [],
   "source": [
    "#hide_input\n",
    "blockchain = read_news('blockchain') \n",
    "btc = read_news('btc') \n",
    "xrp = read_news('xrp') \n",
    "trx = read_news('trx') \n",
    "eth = read_news('eth')  \n",
    "ada = read_news('ada')\n",
    "exchange = read_news('exchange') "
   ]
  },
  {
   "cell_type": "code",
   "execution_count": 3,
   "id": "synthetic-notion",
   "metadata": {
    "execution": {
     "iopub.execute_input": "2022-08-15T03:28:46.579265Z",
     "iopub.status.busy": "2022-08-15T03:28:46.578599Z",
     "iopub.status.idle": "2022-08-15T03:28:46.581727Z",
     "shell.execute_reply": "2022-08-15T03:28:46.582222Z"
    },
    "papermill": {
     "duration": 0.018593,
     "end_time": "2022-08-15T03:28:46.582376",
     "exception": false,
     "start_time": "2022-08-15T03:28:46.563783",
     "status": "completed"
    },
    "tags": []
   },
   "outputs": [
    {
     "data": {
      "text/markdown": [
       "- Network and token freeze after Acala exploit raises questions.  The Acala hack saw over a billion aUSD stablecoins minted from thin air, but now community members are scratching their heads wondering how a decentralized protocol would handle the clean up. ... [| Skaityti daugiau](https://cointelegraph.com/news/network-and-token-freeze-after-acala-exploit-raises-questions) "
      ],
      "text/plain": [
       "<IPython.core.display.Markdown object>"
      ]
     },
     "execution_count": 3,
     "metadata": {},
     "output_type": "execute_result"
    }
   ],
   "source": [
    "#hide_input\n",
    "#md('##### {}'.format(titleBTC)) \n",
    "md(\"- {}{} {}{} [| Skaityti daugiau]({}) \".format(blockchain['title'],'. ', blockchain['body'], ' ...', blockchain['url']))"
   ]
  },
  {
   "cell_type": "code",
   "execution_count": 4,
   "id": "aging-caution",
   "metadata": {
    "execution": {
     "iopub.execute_input": "2022-08-15T03:28:46.606994Z",
     "iopub.status.busy": "2022-08-15T03:28:46.606454Z",
     "iopub.status.idle": "2022-08-15T03:28:46.610055Z",
     "shell.execute_reply": "2022-08-15T03:28:46.609404Z"
    },
    "papermill": {
     "duration": 0.018725,
     "end_time": "2022-08-15T03:28:46.610171",
     "exception": false,
     "start_time": "2022-08-15T03:28:46.591446",
     "status": "completed"
    },
    "tags": []
   },
   "outputs": [
    {
     "data": {
      "text/markdown": [
       "- TA: Bitcoin Price Aims Higher, Why BTC Could Surge Past $25K.  Bitcoin is gaining bullish momentum above $24,500 against the US Dollar. BTC could gain bullish momentum if it clears the $25,000 resistance zone. Bitcoin started a fresh increase above the $24,200 resistance zone. The price is now trading above the $24,000 level and the 100 hourly simple moving average. There is a key bullish trend line forming with support near $24,400 on the hourly chart of the BTC/USD pair (data feed from Kraken). The pair could gain bullish momentum if there is a clear move above the $25,000 resistance. Bitcoin Price Gains Momentum Bitcoin price attempted a fresh increase above the $24,500 resistance zone. BTC gained pace for a move above the $24,800 level, with a close above the 100 hourly simple moving average. The price even spiked above the $25,000 level. A high was formed near $25,045 before there was a downside correction. There was a move below the $24,500 support level. The price declined below the 50% Fib retracement level of the upward move from the $23,600 swing low to $25,045 high. However, the bulls were active near a key support at $24,200. The 61.8% Fib retracement level of the upward move from the $23,600 swing low to $25,045 high acted as a support. There is also a key bullish trend line forming with support near $24,400 on the hourly chart of the BTC/USD pair. Bitcoin price is now trading above the $24,000 level and the 100 hourly simple moving average. Source: BTCUSD on TradingView.com ... ... [| Skaityti daugiau](https://www.newsbtc.com/analysis/btc/ta-bitcoin-price-aims-higher-why-btc-could-surge-past-25k/) "
      ],
      "text/plain": [
       "<IPython.core.display.Markdown object>"
      ]
     },
     "execution_count": 4,
     "metadata": {},
     "output_type": "execute_result"
    }
   ],
   "source": [
    "#hide_input\n",
    "#md('##### {}'.format(titleBTC)) \n",
    "md(\"- {}{} {}{} [| Skaityti daugiau]({}) \".format(btc['title'],'. ', btc['body'], ' ...', btc['url']))"
   ]
  },
  {
   "cell_type": "code",
   "execution_count": 5,
   "id": "organic-actress",
   "metadata": {
    "execution": {
     "iopub.execute_input": "2022-08-15T03:28:46.635823Z",
     "iopub.status.busy": "2022-08-15T03:28:46.634653Z",
     "iopub.status.idle": "2022-08-15T03:28:46.639120Z",
     "shell.execute_reply": "2022-08-15T03:28:46.639582Z"
    },
    "papermill": {
     "duration": 0.019031,
     "end_time": "2022-08-15T03:28:46.639714",
     "exception": false,
     "start_time": "2022-08-15T03:28:46.620683",
     "status": "completed"
    },
    "tags": []
   },
   "outputs": [
    {
     "data": {
      "text/markdown": [
       "- Ripple Price Analysis: After 2 Months of Sideways, Will XRP Finally Breakout?.  A strong resistance level has trapped Ripple for over two months, resulting in the price flirting between $0.3 to $0.39 during that period. It seems that the continuation of the upward trend depends on clearing this barrier. However, it&#8217;s unsure if there is enough momentum for the bulls. Technical Analysis By Grizzly The Daily Chart [&#8230;] ... [| Skaityti daugiau](https://cryptopotato.com/ripple-price-analysis-after-2-months-of-sideways-will-xrp-finally-breakout/) "
      ],
      "text/plain": [
       "<IPython.core.display.Markdown object>"
      ]
     },
     "execution_count": 5,
     "metadata": {},
     "output_type": "execute_result"
    }
   ],
   "source": [
    "#hide_input\n",
    "#md('##### {}'.format(titleBTC)) \n",
    "md(\"- {}{} {}{} [| Skaityti daugiau]({}) \".format(xrp['title'],'. ', xrp['body'], ' ...', xrp['url']))"
   ]
  },
  {
   "cell_type": "code",
   "execution_count": 6,
   "id": "prompt-farmer",
   "metadata": {
    "execution": {
     "iopub.execute_input": "2022-08-15T03:28:46.664995Z",
     "iopub.status.busy": "2022-08-15T03:28:46.663515Z",
     "iopub.status.idle": "2022-08-15T03:28:46.668614Z",
     "shell.execute_reply": "2022-08-15T03:28:46.668149Z"
    },
    "papermill": {
     "duration": 0.019024,
     "end_time": "2022-08-15T03:28:46.668718",
     "exception": false,
     "start_time": "2022-08-15T03:28:46.649694",
     "status": "completed"
    },
    "tags": []
   },
   "outputs": [
    {
     "data": {
      "text/markdown": [
       "- How long until TRX investors notice what the altcoin is missing out on.  As the market&#8217;s crypto-assets get on board with Ethereum&#8217;s pump, Tron’s TRX continues to falter. In fact, according to CoinMarketCap, TRX is among the leading tokens to register losses over the week. While the altcoin has dropped by a mere 0.25% over the past week, other assets have surged to prominence. This consolidation further highlights [&#8230;] ... [| Skaityti daugiau](https://ambcrypto.com/how-long-until-trx-investors-notice-what-the-altcoin-is-missing-out-on/) "
      ],
      "text/plain": [
       "<IPython.core.display.Markdown object>"
      ]
     },
     "execution_count": 6,
     "metadata": {},
     "output_type": "execute_result"
    }
   ],
   "source": [
    "#hide_input\n",
    "#md('##### {}'.format(titleBTC)) \n",
    "md(\"- {}{} {}{} [| Skaityti daugiau]({}) \".format(trx['title'],'. ', trx['body'], ' ...', trx['url']))"
   ]
  },
  {
   "cell_type": "code",
   "execution_count": 7,
   "id": "illegal-greece",
   "metadata": {
    "execution": {
     "iopub.execute_input": "2022-08-15T03:28:46.694732Z",
     "iopub.status.busy": "2022-08-15T03:28:46.693793Z",
     "iopub.status.idle": "2022-08-15T03:28:46.698484Z",
     "shell.execute_reply": "2022-08-15T03:28:46.697970Z"
    },
    "papermill": {
     "duration": 0.019555,
     "end_time": "2022-08-15T03:28:46.698592",
     "exception": false,
     "start_time": "2022-08-15T03:28:46.679037",
     "status": "completed"
    },
    "tags": []
   },
   "outputs": [
    {
     "data": {
      "text/markdown": [
       "- Bitcoin, Ethereum, Quant, and EOS Daily Price Analyses – 14 August Roundup.  The global crypto market has seen a dominant trend of losses. The recent wave of bearishness has affected the overall market as the losses increase. The previous day brought slight regression to the leading coins like Bitcoin, Ethereum, etc. But now, there is an overall trend for losses in the market, forcing sell-offs. As the &#8230;  Bitcoin, Ethereum, Quant, and EOS Daily Price Analyses – 14 August Roundup Read More &#187; ... [| Skaityti daugiau](https://www.cryptopolitan.com/bitcoin-ethereum-quant-and-eos-daily-price-analyses-14-august-roundup/) "
      ],
      "text/plain": [
       "<IPython.core.display.Markdown object>"
      ]
     },
     "execution_count": 7,
     "metadata": {},
     "output_type": "execute_result"
    }
   ],
   "source": [
    "#hide_input\n",
    "#md('##### {}'.format(titleBTC)) \n",
    "md(\"- {}{} {}{} [| Skaityti daugiau]({}) \".format(eth['title'],'. ', eth['body'], ' ...', eth['url']))"
   ]
  },
  {
   "cell_type": "code",
   "execution_count": 8,
   "id": "sublime-lounge",
   "metadata": {
    "execution": {
     "iopub.execute_input": "2022-08-15T03:28:46.725242Z",
     "iopub.status.busy": "2022-08-15T03:28:46.723823Z",
     "iopub.status.idle": "2022-08-15T03:28:46.729156Z",
     "shell.execute_reply": "2022-08-15T03:28:46.728701Z"
    },
    "papermill": {
     "duration": 0.019449,
     "end_time": "2022-08-15T03:28:46.729281",
     "exception": false,
     "start_time": "2022-08-15T03:28:46.709832",
     "status": "completed"
    },
    "tags": []
   },
   "outputs": [
    {
     "data": {
      "text/markdown": [
       "- Cardano [ADA]: A breach and something more in the works perhaps?.  Disclaimer: The findings of the following analysis are the sole opinions of the writer and should not be considered investment advice Over the past six weeks, the ascending channel (white) setup has accelerated Cardano [ADA]&#8217;s efforts to break the $0.55-resistance. Also, the consistent sway above the basis line (green) of the Bollinger bands (BB) reflected a [&#8230;] ... [| Skaityti daugiau](https://ambcrypto.com/cardano-ada-a-breach-and-something-more-in-the-works-perhaps/) "
      ],
      "text/plain": [
       "<IPython.core.display.Markdown object>"
      ]
     },
     "execution_count": 8,
     "metadata": {},
     "output_type": "execute_result"
    }
   ],
   "source": [
    "#hide_input\n",
    "#md('##### {}'.format(titleBTC)) \n",
    "md(\"- {}{} {}{} [| Skaityti daugiau]({}) \".format(ada['title'],'. ', ada['body'], ' ...', ada['url']))"
   ]
  },
  {
   "cell_type": "code",
   "execution_count": 9,
   "id": "specified-ordering",
   "metadata": {
    "execution": {
     "iopub.execute_input": "2022-08-15T03:28:46.755898Z",
     "iopub.status.busy": "2022-08-15T03:28:46.755170Z",
     "iopub.status.idle": "2022-08-15T03:28:46.757976Z",
     "shell.execute_reply": "2022-08-15T03:28:46.758666Z"
    },
    "papermill": {
     "duration": 0.018703,
     "end_time": "2022-08-15T03:28:46.758802",
     "exception": false,
     "start_time": "2022-08-15T03:28:46.740099",
     "status": "completed"
    },
    "tags": []
   },
   "outputs": [
    {
     "data": {
      "text/markdown": [
       "- NEAR’s price performance as a case study of the ‘Coinbase Effect’.  On 10 August, Coinbase, one of the world&#8217;s leading exchanges, announced the inclusion of NEAR on its listing roadmap. This suggested that the altcoin is now among the assets that the exchange plans to make available on its platform. Following the said announcement, NEAR quickly rallied on the charts, posting a 12% intraday rally. It [&#8230;] ... [| Skaityti daugiau](https://ambcrypto.com/nears-price-performance-as-a-case-study-of-the-coinbase-effect/) "
      ],
      "text/plain": [
       "<IPython.core.display.Markdown object>"
      ]
     },
     "execution_count": 9,
     "metadata": {},
     "output_type": "execute_result"
    }
   ],
   "source": [
    "#hide_input\n",
    "#md('##### {}'.format(titleBTC)) \n",
    "md(\"- {}{} {}{} [| Skaityti daugiau]({}) \".format(exchange['title'],'. ', exchange['body'], ' ...', exchange['url']))"
   ]
  },
  {
   "cell_type": "code",
   "execution_count": null,
   "id": "tender-livestock",
   "metadata": {
    "papermill": {
     "duration": 0.010775,
     "end_time": "2022-08-15T03:28:46.780883",
     "exception": false,
     "start_time": "2022-08-15T03:28:46.770108",
     "status": "completed"
    },
    "tags": []
   },
   "outputs": [],
   "source": []
  },
  {
   "cell_type": "code",
   "execution_count": null,
   "id": "appreciated-diamond",
   "metadata": {
    "papermill": {
     "duration": 0.012183,
     "end_time": "2022-08-15T03:28:46.805021",
     "exception": false,
     "start_time": "2022-08-15T03:28:46.792838",
     "status": "completed"
    },
    "tags": []
   },
   "outputs": [],
   "source": []
  },
  {
   "cell_type": "code",
   "execution_count": null,
   "id": "romance-sweden",
   "metadata": {
    "papermill": {
     "duration": 0.011967,
     "end_time": "2022-08-15T03:28:46.828841",
     "exception": false,
     "start_time": "2022-08-15T03:28:46.816874",
     "status": "completed"
    },
    "tags": []
   },
   "outputs": [],
   "source": []
  },
  {
   "cell_type": "code",
   "execution_count": null,
   "id": "dietary-statistics",
   "metadata": {
    "papermill": {
     "duration": 0.011373,
     "end_time": "2022-08-15T03:28:46.852480",
     "exception": false,
     "start_time": "2022-08-15T03:28:46.841107",
     "status": "completed"
    },
    "tags": []
   },
   "outputs": [],
   "source": []
  }
 ],
 "metadata": {
  "kernelspec": {
   "display_name": "Python 3",
   "language": "python",
   "name": "python3"
  },
  "language_info": {
   "codemirror_mode": {
    "name": "ipython",
    "version": 3
   },
   "file_extension": ".py",
   "mimetype": "text/x-python",
   "name": "python",
   "nbconvert_exporter": "python",
   "pygments_lexer": "ipython3",
   "version": "3.6.15"
  },
  "papermill": {
   "default_parameters": {},
   "duration": 16.642013,
   "end_time": "2022-08-15T03:28:47.284056",
   "environment_variables": {},
   "exception": null,
   "input_path": "Market-News.ipynb",
   "output_path": "Market-News.ipynb",
   "parameters": {},
   "start_time": "2022-08-15T03:28:30.642043",
   "version": "2.2.2"
  }
 },
 "nbformat": 4,
 "nbformat_minor": 5
}