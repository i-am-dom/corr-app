{
 "cells": [
  {
   "cell_type": "markdown",
   "id": "short-greensboro",
   "metadata": {
    "papermill": {
     "duration": 0.013583,
     "end_time": "2022-07-18T03:14:51.146761",
     "exception": false,
     "start_time": "2022-07-18T03:14:51.133178",
     "status": "completed"
    },
    "tags": []
   },
   "source": [
    "# Kriptovaliutų naujienos"
   ]
  },
  {
   "cell_type": "code",
   "execution_count": 1,
   "id": "functioning-knowing",
   "metadata": {
    "execution": {
     "iopub.execute_input": "2022-07-18T03:14:51.181933Z",
     "iopub.status.busy": "2022-07-18T03:14:51.181256Z",
     "iopub.status.idle": "2022-07-18T03:14:52.529775Z",
     "shell.execute_reply": "2022-07-18T03:14:52.529121Z"
    },
    "papermill": {
     "duration": 1.37275,
     "end_time": "2022-07-18T03:14:52.529935",
     "exception": false,
     "start_time": "2022-07-18T03:14:51.157185",
     "status": "completed"
    },
    "tags": []
   },
   "outputs": [],
   "source": [
    "#hide_input\n",
    "import warnings\n",
    "warnings.filterwarnings('ignore')\n",
    "from scripts.read_data import read_api\n",
    "from scripts.read_data import read_news\n",
    "from scripts.read_data import read_covid\n",
    "import matplotlib.pyplot as plt \n",
    "from IPython.display import Markdown as md"
   ]
  },
  {
   "cell_type": "code",
   "execution_count": 2,
   "id": "shared-acceptance",
   "metadata": {
    "execution": {
     "iopub.execute_input": "2022-07-18T03:14:52.557673Z",
     "iopub.status.busy": "2022-07-18T03:14:52.557002Z",
     "iopub.status.idle": "2022-07-18T03:15:06.400931Z",
     "shell.execute_reply": "2022-07-18T03:15:06.400330Z"
    },
    "papermill": {
     "duration": 13.860805,
     "end_time": "2022-07-18T03:15:06.401068",
     "exception": false,
     "start_time": "2022-07-18T03:14:52.540263",
     "status": "completed"
    },
    "tags": []
   },
   "outputs": [],
   "source": [
    "#hide_input\n",
    "blockchain = read_news('blockchain') \n",
    "btc = read_news('btc') \n",
    "xrp = read_news('xrp') \n",
    "trx = read_news('trx') \n",
    "eth = read_news('eth')  \n",
    "ada = read_news('ada')\n",
    "exchange = read_news('exchange') "
   ]
  },
  {
   "cell_type": "code",
   "execution_count": 3,
   "id": "synthetic-notion",
   "metadata": {
    "execution": {
     "iopub.execute_input": "2022-07-18T03:15:06.429106Z",
     "iopub.status.busy": "2022-07-18T03:15:06.428325Z",
     "iopub.status.idle": "2022-07-18T03:15:06.432195Z",
     "shell.execute_reply": "2022-07-18T03:15:06.431653Z"
    },
    "papermill": {
     "duration": 0.020721,
     "end_time": "2022-07-18T03:15:06.432305",
     "exception": false,
     "start_time": "2022-07-18T03:15:06.411584",
     "status": "completed"
    },
    "tags": []
   },
   "outputs": [
    {
     "data": {
      "text/markdown": [
       "- What Does it Entail to Become a Blockchain Lawyer?.  Blockchain technology has only been around for a little over ten years. But today, the technology is used for everything, from storing virtual money and documenting transactions to providing digital identification. The way individuals and corporations do business online is changing because of blockchain technology. But even though the technology opens up new areas, it also has a lot of unknowns. This is why federal agencies such as the Commodities Futures Trading Commission (CFTC), the Internal Revenue Service (IRS), and the Securities and Exchange Commission (SEC) have stepped in to regulate the blockchain space. What Opportunities are Available in Blockchain Law? Organizations that work with blockchain platforms, cryptocurrency traders, and cryptocurrency investors need to be careful and get legal help before doing anything that could lead to civil or criminal prosecution. It is for the above reason that a new field in the legal space is slowly taking shape. Blockchain lawyers are legal practitioners who provide counsel to clients who deploy blockchain-based business solutions, create or use cryptocurrencies, or integrate distributed ledger-based technologies in their processes. The crypto space is filled with opportunities for lawyers to promote best practices and ensure that trailblazing and disruptive blockchain projects operate within existing legal frameworks. The following are areas where attorneys can lend their exper... ... [| Skaityti daugiau](https://www.cryptoknowmics.com/news/how-to-become-a-blockchain-lawyer/?utm_source=rss&utm_medium=rss&utm_campaign=how-to-become-a-blockchain-lawyer) "
      ],
      "text/plain": [
       "<IPython.core.display.Markdown object>"
      ]
     },
     "execution_count": 3,
     "metadata": {},
     "output_type": "execute_result"
    }
   ],
   "source": [
    "#hide_input\n",
    "#md('##### {}'.format(titleBTC)) \n",
    "md(\"- {}{} {}{} [| Skaityti daugiau]({}) \".format(blockchain['title'],'. ', blockchain['body'], ' ...', blockchain['url']))"
   ]
  },
  {
   "cell_type": "code",
   "execution_count": 4,
   "id": "aging-caution",
   "metadata": {
    "execution": {
     "iopub.execute_input": "2022-07-18T03:15:06.458682Z",
     "iopub.status.busy": "2022-07-18T03:15:06.457560Z",
     "iopub.status.idle": "2022-07-18T03:15:06.463003Z",
     "shell.execute_reply": "2022-07-18T03:15:06.462483Z"
    },
    "papermill": {
     "duration": 0.020924,
     "end_time": "2022-07-18T03:15:06.463115",
     "exception": false,
     "start_time": "2022-07-18T03:15:06.442191",
     "status": "completed"
    },
    "tags": []
   },
   "outputs": [
    {
     "data": {
      "text/markdown": [
       "- TA: Bitcoin Price Eyes Fresh Increase To $22K, Why Dips Remain Supported.  Bitcoin started a steady increase above the $21,000 resistance against the US Dollar. BTC could rise further towards $22,000 if it stays above the $20,500 support. Bitcoin is slowly moving higher above the $21,000 resistance zone. The price is now trading above the $20,800 level and testing the 100 hourly simple moving average. There was a break above a short-term bearish trend line with resistance near $21,000 on the hourly chart of the BTC/USD pair (data feed from Kraken). The pair might gain bullish momentum if it clears the $21,500 and $21,600 levels. Bitcoin Price Shows Positive Signs Bitcoin price formed a base above the $19,200 level and started a decent increase. The price traded above the $20,500 resistance zone to move into a positive zone. The price even gained pace above the $21,000 level and settled above the 100 hourly simple moving average. A high was formed near $21,664 before there was a downside correction. The price traded below the $21,000 level, but the bulls were active near the $20,750 zone and the 100 hourly simple moving average. A low was formed near $20,748 and the price is now rising. It broke the 23.6% Fib retracement level of the downward move from the $21,664 swing high to $20,748 low. There was also a break above a short-term bearish trend line with resistance near $21,000 on the hourly chart of the BTC/USD pair. On the upside, bitcoin price could resistance near the $21,200 level. It is near th... ... [| Skaityti daugiau](https://www.newsbtc.com/analysis/btc/bitcoin-price-eyes-fresh-increase-22k/) "
      ],
      "text/plain": [
       "<IPython.core.display.Markdown object>"
      ]
     },
     "execution_count": 4,
     "metadata": {},
     "output_type": "execute_result"
    }
   ],
   "source": [
    "#hide_input\n",
    "#md('##### {}'.format(titleBTC)) \n",
    "md(\"- {}{} {}{} [| Skaityti daugiau]({}) \".format(btc['title'],'. ', btc['body'], ' ...', btc['url']))"
   ]
  },
  {
   "cell_type": "code",
   "execution_count": 5,
   "id": "organic-actress",
   "metadata": {
    "execution": {
     "iopub.execute_input": "2022-07-18T03:15:06.490141Z",
     "iopub.status.busy": "2022-07-18T03:15:06.487919Z",
     "iopub.status.idle": "2022-07-18T03:15:06.492568Z",
     "shell.execute_reply": "2022-07-18T03:15:06.493060Z"
    },
    "papermill": {
     "duration": 0.019334,
     "end_time": "2022-07-18T03:15:06.493171",
     "exception": false,
     "start_time": "2022-07-18T03:15:06.473837",
     "status": "completed"
    },
    "tags": []
   },
   "outputs": [
    {
     "data": {
      "text/markdown": [
       "- Ripple Price Analysis: This is the Key Level XRP Must Break to Turn Bullish.  More than a 15% price increase in just four days has created optimism among XRP holders. Once again, the bulls were able to defend the support at $0.3 and aimed to reverse the trend by breaking above the critical resistance. But despite the optimism, the mission will not be that easy. Technical Analysis Technical Analysis [&#8230;] ... [| Skaityti daugiau](https://cryptopotato.com/ripple-price-analysis-this-is-the-key-level-xrp-must-break-to-turn-bullish/) "
      ],
      "text/plain": [
       "<IPython.core.display.Markdown object>"
      ]
     },
     "execution_count": 5,
     "metadata": {},
     "output_type": "execute_result"
    }
   ],
   "source": [
    "#hide_input\n",
    "#md('##### {}'.format(titleBTC)) \n",
    "md(\"- {}{} {}{} [| Skaityti daugiau]({}) \".format(xrp['title'],'. ', xrp['body'], ' ...', xrp['url']))"
   ]
  },
  {
   "cell_type": "code",
   "execution_count": 6,
   "id": "prompt-farmer",
   "metadata": {
    "execution": {
     "iopub.execute_input": "2022-07-18T03:15:06.520154Z",
     "iopub.status.busy": "2022-07-18T03:15:06.517725Z",
     "iopub.status.idle": "2022-07-18T03:15:06.522616Z",
     "shell.execute_reply": "2022-07-18T03:15:06.523209Z"
    },
    "papermill": {
     "duration": 0.019729,
     "end_time": "2022-07-18T03:15:06.523330",
     "exception": false,
     "start_time": "2022-07-18T03:15:06.503601",
     "status": "completed"
    },
    "tags": []
   },
   "outputs": [
    {
     "data": {
      "text/markdown": [
       "- Still want to hold on to TRX? Here’s why this level is worth looking out for.  Disclaimer: The findings of the following analysis are the sole opinions of the writer and should not be considered investment advice After registering double-digit gains in its rising wedge, Tron [TRX] saw an expected breakdown from its reversal pattern. The decline from the 50 EMA (cyan) helped sellers keep the buying pressure under check. An inability [&#8230;] ... [| Skaityti daugiau](https://ambcrypto.com/still-want-to-hold-on-to-trx-heres-why-this-level-is-worth-looking-out-for/) "
      ],
      "text/plain": [
       "<IPython.core.display.Markdown object>"
      ]
     },
     "execution_count": 6,
     "metadata": {},
     "output_type": "execute_result"
    }
   ],
   "source": [
    "#hide_input\n",
    "#md('##### {}'.format(titleBTC)) \n",
    "md(\"- {}{} {}{} [| Skaityti daugiau]({}) \".format(trx['title'],'. ', trx['body'], ' ...', trx['url']))"
   ]
  },
  {
   "cell_type": "code",
   "execution_count": 7,
   "id": "illegal-greece",
   "metadata": {
    "execution": {
     "iopub.execute_input": "2022-07-18T03:15:06.552120Z",
     "iopub.status.busy": "2022-07-18T03:15:06.551556Z",
     "iopub.status.idle": "2022-07-18T03:15:06.554342Z",
     "shell.execute_reply": "2022-07-18T03:15:06.554830Z"
    },
    "papermill": {
     "duration": 0.020666,
     "end_time": "2022-07-18T03:15:06.554948",
     "exception": false,
     "start_time": "2022-07-18T03:15:06.534282",
     "status": "completed"
    },
    "tags": []
   },
   "outputs": [
    {
     "data": {
      "text/markdown": [
       "- Top 5 Resilient Decentralized Oracles.  Oracles are one of the most significant protocols of the blockchain industry that keep the sector running using oracles. The primary function of oracles is to supply real-world and real-time data to distributed ledger technology and smart contracts because they cannot acquire data independently. Decentralized oracles were introduced to address the oracle problems plaguing the blockchain ecosystem. A decentralized oracle or decentralized oracle network (DON) is a network of autonomous blockchain oracles that feed data to a blockchain. The decentralized oracle network’s nodes and oracles each independently retrieve and bring data onto the chain from an off-chain source. The data is then aggregated for the system to determine a deterministic value of truth for that data point. Oracle problems are resolved via decentralized oracles. Despite the recent crypto crisis, Oracle cryptocurrency projects remain a popular investment option. In this article, we take a look at the top 5 Decentralized Oracles Crypto Projects. QED QED protocol is built on the DelphiOracle. With its strong economic foundation, this decentralized oracle aims to close a gap in the crypto industry. It links several blockchains, off-chain data sources, and platforms for smart contracts. Its security, accuracy, resilience, and complete decentralisation make QED the ideal alternative protocol. Compared to comparable oracle protocols like Chainlink, which have an aver... ... [| Skaityti daugiau](https://www.cryptoknowmics.com/news/top-5-resilient-decentralized-oracles/?utm_source=rss&utm_medium=rss&utm_campaign=top-5-resilient-decentralized-oracles) "
      ],
      "text/plain": [
       "<IPython.core.display.Markdown object>"
      ]
     },
     "execution_count": 7,
     "metadata": {},
     "output_type": "execute_result"
    }
   ],
   "source": [
    "#hide_input\n",
    "#md('##### {}'.format(titleBTC)) \n",
    "md(\"- {}{} {}{} [| Skaityti daugiau]({}) \".format(eth['title'],'. ', eth['body'], ' ...', eth['url']))"
   ]
  },
  {
   "cell_type": "code",
   "execution_count": 8,
   "id": "sublime-lounge",
   "metadata": {
    "execution": {
     "iopub.execute_input": "2022-07-18T03:15:06.583871Z",
     "iopub.status.busy": "2022-07-18T03:15:06.581783Z",
     "iopub.status.idle": "2022-07-18T03:15:06.586215Z",
     "shell.execute_reply": "2022-07-18T03:15:06.586831Z"
    },
    "papermill": {
     "duration": 0.020602,
     "end_time": "2022-07-18T03:15:06.586940",
     "exception": false,
     "start_time": "2022-07-18T03:15:06.566338",
     "status": "completed"
    },
    "tags": []
   },
   "outputs": [
    {
     "data": {
      "text/markdown": [
       "- Wen $10 ADA? Cardano Predicted To End The Year Trading Less Than $1 Despite Vasil Upgrade.  The panelists predict that ADA will not surpass its all-time high until after 2025. ... [| Skaityti daugiau](https://zycrypto.com/wen-10-ada-cardano-predicted-to-end-the-year-trading-less-than-1-despite-vasil-upgrade/) "
      ],
      "text/plain": [
       "<IPython.core.display.Markdown object>"
      ]
     },
     "execution_count": 8,
     "metadata": {},
     "output_type": "execute_result"
    }
   ],
   "source": [
    "#hide_input\n",
    "#md('##### {}'.format(titleBTC)) \n",
    "md(\"- {}{} {}{} [| Skaityti daugiau]({}) \".format(ada['title'],'. ', ada['body'], ' ...', ada['url']))"
   ]
  },
  {
   "cell_type": "code",
   "execution_count": 9,
   "id": "specified-ordering",
   "metadata": {
    "execution": {
     "iopub.execute_input": "2022-07-18T03:15:06.615527Z",
     "iopub.status.busy": "2022-07-18T03:15:06.613587Z",
     "iopub.status.idle": "2022-07-18T03:15:06.617943Z",
     "shell.execute_reply": "2022-07-18T03:15:06.618426Z"
    },
    "papermill": {
     "duration": 0.020068,
     "end_time": "2022-07-18T03:15:06.618535",
     "exception": false,
     "start_time": "2022-07-18T03:15:06.598467",
     "status": "completed"
    },
    "tags": []
   },
   "outputs": [
    {
     "data": {
      "text/markdown": [
       "- Gary Gensler Outlines What to Expect From SEC on US Crypto Regulation.  The chairman of the U.S. Securities and Exchange Commission (SEC), Gary Gensler, has outlined what to expect from the securities watchdog on crypto regulation. &#x201C;We do have robust authorities from Congress also to use our exemptive authorities that we can tailor investor protection,&#x201D; he explained. Chair Gensler Highlights SEC&#x2019;s Work on Crypto Regulation SEC Chairman [&#8230;] ... [| Skaityti daugiau](https://news.bitcoin.com/gary-gensler-outlines-what-to-expect-from-sec-on-us-crypto-regulation/) "
      ],
      "text/plain": [
       "<IPython.core.display.Markdown object>"
      ]
     },
     "execution_count": 9,
     "metadata": {},
     "output_type": "execute_result"
    }
   ],
   "source": [
    "#hide_input\n",
    "#md('##### {}'.format(titleBTC)) \n",
    "md(\"- {}{} {}{} [| Skaityti daugiau]({}) \".format(exchange['title'],'. ', exchange['body'], ' ...', exchange['url']))"
   ]
  },
  {
   "cell_type": "code",
   "execution_count": null,
   "id": "tender-livestock",
   "metadata": {
    "papermill": {
     "duration": 0.011574,
     "end_time": "2022-07-18T03:15:06.641377",
     "exception": false,
     "start_time": "2022-07-18T03:15:06.629803",
     "status": "completed"
    },
    "tags": []
   },
   "outputs": [],
   "source": []
  },
  {
   "cell_type": "code",
   "execution_count": null,
   "id": "appreciated-diamond",
   "metadata": {
    "papermill": {
     "duration": 0.012208,
     "end_time": "2022-07-18T03:15:06.665211",
     "exception": false,
     "start_time": "2022-07-18T03:15:06.653003",
     "status": "completed"
    },
    "tags": []
   },
   "outputs": [],
   "source": []
  },
  {
   "cell_type": "code",
   "execution_count": null,
   "id": "romance-sweden",
   "metadata": {
    "papermill": {
     "duration": 0.011248,
     "end_time": "2022-07-18T03:15:06.688358",
     "exception": false,
     "start_time": "2022-07-18T03:15:06.677110",
     "status": "completed"
    },
    "tags": []
   },
   "outputs": [],
   "source": []
  },
  {
   "cell_type": "code",
   "execution_count": null,
   "id": "dietary-statistics",
   "metadata": {
    "papermill": {
     "duration": 0.011947,
     "end_time": "2022-07-18T03:15:06.711054",
     "exception": false,
     "start_time": "2022-07-18T03:15:06.699107",
     "status": "completed"
    },
    "tags": []
   },
   "outputs": [],
   "source": []
  }
 ],
 "metadata": {
  "kernelspec": {
   "display_name": "Python 3",
   "language": "python",
   "name": "python3"
  },
  "language_info": {
   "codemirror_mode": {
    "name": "ipython",
    "version": 3
   },
   "file_extension": ".py",
   "mimetype": "text/x-python",
   "name": "python",
   "nbconvert_exporter": "python",
   "pygments_lexer": "ipython3",
   "version": "3.6.15"
  },
  "papermill": {
   "default_parameters": {},
   "duration": 17.244161,
   "end_time": "2022-07-18T03:15:07.243717",
   "environment_variables": {},
   "exception": null,
   "input_path": "Market-News.ipynb",
   "output_path": "Market-News.ipynb",
   "parameters": {},
   "start_time": "2022-07-18T03:14:49.999556",
   "version": "2.2.2"
  }
 },
 "nbformat": 4,
 "nbformat_minor": 5
}