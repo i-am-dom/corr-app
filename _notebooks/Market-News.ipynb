{
 "cells": [
  {
   "cell_type": "markdown",
   "id": "short-greensboro",
   "metadata": {
    "papermill": {
     "duration": 0.013703,
     "end_time": "2021-12-27T02:06:09.511665",
     "exception": false,
     "start_time": "2021-12-27T02:06:09.497962",
     "status": "completed"
    },
    "tags": []
   },
   "source": [
    "# Kriptovaliutų naujienos"
   ]
  },
  {
   "cell_type": "code",
   "execution_count": 1,
   "id": "functioning-knowing",
   "metadata": {
    "execution": {
     "iopub.execute_input": "2021-12-27T02:06:09.541007Z",
     "iopub.status.busy": "2021-12-27T02:06:09.540471Z",
     "iopub.status.idle": "2021-12-27T02:06:10.722581Z",
     "shell.execute_reply": "2021-12-27T02:06:10.723085Z"
    },
    "papermill": {
     "duration": 1.201608,
     "end_time": "2021-12-27T02:06:10.723281",
     "exception": false,
     "start_time": "2021-12-27T02:06:09.521673",
     "status": "completed"
    },
    "tags": []
   },
   "outputs": [],
   "source": [
    "#hide_input\n",
    "import warnings\n",
    "warnings.filterwarnings('ignore')\n",
    "from scripts.read_data import read_api\n",
    "from scripts.read_data import read_news\n",
    "from scripts.read_data import read_covid\n",
    "import matplotlib.pyplot as plt \n",
    "from IPython.display import Markdown as md"
   ]
  },
  {
   "cell_type": "code",
   "execution_count": 2,
   "id": "shared-acceptance",
   "metadata": {
    "execution": {
     "iopub.execute_input": "2021-12-27T02:06:10.750269Z",
     "iopub.status.busy": "2021-12-27T02:06:10.749732Z",
     "iopub.status.idle": "2021-12-27T02:06:20.976013Z",
     "shell.execute_reply": "2021-12-27T02:06:20.975045Z"
    },
    "papermill": {
     "duration": 10.242094,
     "end_time": "2021-12-27T02:06:20.976155",
     "exception": false,
     "start_time": "2021-12-27T02:06:10.734061",
     "status": "completed"
    },
    "tags": []
   },
   "outputs": [],
   "source": [
    "#hide_input\n",
    "blockchain = read_news('blockchain') \n",
    "btc = read_news('btc') \n",
    "xrp = read_news('xrp') \n",
    "trx = read_news('trx') \n",
    "eth = read_news('eth')  \n",
    "ada = read_news('ada')\n",
    "exchange = read_news('exchange') "
   ]
  },
  {
   "cell_type": "code",
   "execution_count": 3,
   "id": "synthetic-notion",
   "metadata": {
    "execution": {
     "iopub.execute_input": "2021-12-27T02:06:21.001258Z",
     "iopub.status.busy": "2021-12-27T02:06:21.000728Z",
     "iopub.status.idle": "2021-12-27T02:06:21.003464Z",
     "shell.execute_reply": "2021-12-27T02:06:21.003061Z"
    },
    "papermill": {
     "duration": 0.017876,
     "end_time": "2021-12-27T02:06:21.003575",
     "exception": false,
     "start_time": "2021-12-27T02:06:20.985699",
     "status": "completed"
    },
    "tags": []
   },
   "outputs": [
    {
     "data": {
      "text/markdown": [
       "- Here Are Breakout Scenarios for Ethereum Rival Polygon (MATIC), Polkadot (DOT) and VeChain: Analyst Justin Bennett.  A popular crypto strategist and trader is unveiling potential breakout plays for Polygon (MATIC), Polkadot (DOT) and VeChain (VET) as we head into the new year. In a new strategy session, analyst Justin Bennett says he&#8217;s watching the price action of Polygon, a scaling solution designed to enable the widescale adoption of decentralized apps on [&#8230;]The post Here Are Breakout Scenarios for Ethereum Rival Polygon (MATIC), Polkadot (DOT) and VeChain: Analyst Justin Bennett appeared first on The Daily Hodl. ... [| Skaityti daugiau](https://dailyhodl.com/2021/12/26/here-are-breakout-scenarios-for-ethereum-rival-polygon-matic-polkadot-dot-and-vechain-analyst-justin-bennett/) "
      ],
      "text/plain": [
       "<IPython.core.display.Markdown object>"
      ]
     },
     "execution_count": 3,
     "metadata": {},
     "output_type": "execute_result"
    }
   ],
   "source": [
    "#hide_input\n",
    "#md('##### {}'.format(titleBTC)) \n",
    "md(\"- {}{} {}{} [| Skaityti daugiau]({}) \".format(blockchain['title'],'. ', blockchain['body'], ' ...', blockchain['url']))"
   ]
  },
  {
   "cell_type": "code",
   "execution_count": 4,
   "id": "aging-caution",
   "metadata": {
    "execution": {
     "iopub.execute_input": "2021-12-27T02:06:21.027933Z",
     "iopub.status.busy": "2021-12-27T02:06:21.027330Z",
     "iopub.status.idle": "2021-12-27T02:06:21.029537Z",
     "shell.execute_reply": "2021-12-27T02:06:21.029993Z"
    },
    "papermill": {
     "duration": 0.017023,
     "end_time": "2021-12-27T02:06:21.030132",
     "exception": false,
     "start_time": "2021-12-27T02:06:21.013109",
     "status": "completed"
    },
    "tags": []
   },
   "outputs": [
    {
     "data": {
      "text/markdown": [
       "- Analysts say 2022 will be ‘defined by agility and cost-efficiency’ instead of ‘blockchain purity’.  In addition to BTC price hitting $100,000, analysts expect the crypto market to pivot toward “cost efficiency” and “agility” in 2022. ... [| Skaityti daugiau](https://cointelegraph.com/news/analysts-say-2022-will-be-defined-by-agility-and-cost-efficiency-instead-of-blockchain-purity) "
      ],
      "text/plain": [
       "<IPython.core.display.Markdown object>"
      ]
     },
     "execution_count": 4,
     "metadata": {},
     "output_type": "execute_result"
    }
   ],
   "source": [
    "#hide_input\n",
    "#md('##### {}'.format(titleBTC)) \n",
    "md(\"- {}{} {}{} [| Skaityti daugiau]({}) \".format(btc['title'],'. ', btc['body'], ' ...', btc['url']))"
   ]
  },
  {
   "cell_type": "code",
   "execution_count": 5,
   "id": "organic-actress",
   "metadata": {
    "execution": {
     "iopub.execute_input": "2021-12-27T02:06:21.054994Z",
     "iopub.status.busy": "2021-12-27T02:06:21.054473Z",
     "iopub.status.idle": "2021-12-27T02:06:21.057323Z",
     "shell.execute_reply": "2021-12-27T02:06:21.057815Z"
    },
    "papermill": {
     "duration": 0.018001,
     "end_time": "2021-12-27T02:06:21.057944",
     "exception": false,
     "start_time": "2021-12-27T02:06:21.039943",
     "status": "completed"
    },
    "tags": []
   },
   "outputs": [
    {
     "data": {
      "text/markdown": [
       "- Cryptos brace for further adoption growth, price volatility in 2022, report says.  Cryptocurrencies had a wild year in 2021, consisting of a significant acceleration in global acceptance amid major price volatility and a work-in-progress regulatory framework on the growing industry. These narratives are likely to only appreciate further in 2022, according to S&P Global's 2022 Global Credit Outlook. Still, on a technical analysis front, cryptos including bitcoin (BTC-USD), ethereum (ETH-USD), binance coin (BNB-USD), solana (SOL-USD), ripple (XRP-USD) and cardano (ADA-USD) - which make up the majority of the $2.3T global crypto market cap - trade deep in the red on a M/M basis, though still up substantially in the past year, as seen in the charts below. Meanwhile, \"growing interest from institutional investors augurs accelerated expansion for cryptocurrencies as investment vehicles,\" the report says. For example, Galaxy Digital's (OTCPK:BRPHF) Founder and CEO Mike Novogratz recently highlighted his company's rapid growth in funded accounts due to the accelerating crypto adoption trends in the ... [| Skaityti daugiau](https://seekingalpha.com/news/3783237-cryptos-brace-for-further-adoption-growth-price-volatility-in-2022-report-says?utm_source=cryptocompare.com&utm_medium=referral) "
      ],
      "text/plain": [
       "<IPython.core.display.Markdown object>"
      ]
     },
     "execution_count": 5,
     "metadata": {},
     "output_type": "execute_result"
    }
   ],
   "source": [
    "#hide_input\n",
    "#md('##### {}'.format(titleBTC)) \n",
    "md(\"- {}{} {}{} [| Skaityti daugiau]({}) \".format(xrp['title'],'. ', xrp['body'], ' ...', xrp['url']))"
   ]
  },
  {
   "cell_type": "code",
   "execution_count": 6,
   "id": "prompt-farmer",
   "metadata": {
    "execution": {
     "iopub.execute_input": "2021-12-27T02:06:21.083423Z",
     "iopub.status.busy": "2021-12-27T02:06:21.082886Z",
     "iopub.status.idle": "2021-12-27T02:06:21.085645Z",
     "shell.execute_reply": "2021-12-27T02:06:21.085209Z"
    },
    "papermill": {
     "duration": 0.017591,
     "end_time": "2021-12-27T02:06:21.085757",
     "exception": false,
     "start_time": "2021-12-27T02:06:21.068166",
     "status": "completed"
    },
    "tags": []
   },
   "outputs": [
    {
     "data": {
      "text/markdown": [
       "- MATIC, Binance Coin, Tron Price Analysis: 25 December.  As the recovery window opened up, Binance coin and Tron marked a decent recovery to reclaim their crucial support levels. On the other hand, MATIC entered into price discovery to poke its ATH on 23 December. MATIC As we saw in the previous article, after continuing its oscillation in an ascending triangle (yellow), MATIC finally [&#8230;] ... [| Skaityti daugiau](https://ambcrypto.com/matic-binance-coin-tron-price-analysis-25-december/) "
      ],
      "text/plain": [
       "<IPython.core.display.Markdown object>"
      ]
     },
     "execution_count": 6,
     "metadata": {},
     "output_type": "execute_result"
    }
   ],
   "source": [
    "#hide_input\n",
    "#md('##### {}'.format(titleBTC)) \n",
    "md(\"- {}{} {}{} [| Skaityti daugiau]({}) \".format(trx['title'],'. ', trx['body'], ' ...', trx['url']))"
   ]
  },
  {
   "cell_type": "code",
   "execution_count": 7,
   "id": "illegal-greece",
   "metadata": {
    "execution": {
     "iopub.execute_input": "2021-12-27T02:06:21.111952Z",
     "iopub.status.busy": "2021-12-27T02:06:21.111430Z",
     "iopub.status.idle": "2021-12-27T02:06:21.114135Z",
     "shell.execute_reply": "2021-12-27T02:06:21.113630Z"
    },
    "papermill": {
     "duration": 0.017734,
     "end_time": "2021-12-27T02:06:21.114247",
     "exception": false,
     "start_time": "2021-12-27T02:06:21.096513",
     "status": "completed"
    },
    "tags": []
   },
   "outputs": [
    {
     "data": {
      "text/markdown": [
       "- Here Are Breakout Scenarios for Ethereum Rival Polygon (MATIC), Polkadot (DOT) and VeChain: Analyst Justin Bennett.  A popular crypto strategist and trader is unveiling potential breakout plays for Polygon (MATIC), Polkadot (DOT) and VeChain (VET) as we head into the new year. In a new strategy session, analyst Justin Bennett says he&#8217;s watching the price action of Polygon, a scaling solution designed to enable the widescale adoption of decentralized apps on [&#8230;]The post Here Are Breakout Scenarios for Ethereum Rival Polygon (MATIC), Polkadot (DOT) and VeChain: Analyst Justin Bennett appeared first on The Daily Hodl. ... [| Skaityti daugiau](https://dailyhodl.com/2021/12/26/here-are-breakout-scenarios-for-ethereum-rival-polygon-matic-polkadot-dot-and-vechain-analyst-justin-bennett/) "
      ],
      "text/plain": [
       "<IPython.core.display.Markdown object>"
      ]
     },
     "execution_count": 7,
     "metadata": {},
     "output_type": "execute_result"
    }
   ],
   "source": [
    "#hide_input\n",
    "#md('##### {}'.format(titleBTC)) \n",
    "md(\"- {}{} {}{} [| Skaityti daugiau]({}) \".format(eth['title'],'. ', eth['body'], ' ...', eth['url']))"
   ]
  },
  {
   "cell_type": "code",
   "execution_count": 8,
   "id": "sublime-lounge",
   "metadata": {
    "execution": {
     "iopub.execute_input": "2021-12-27T02:06:21.140840Z",
     "iopub.status.busy": "2021-12-27T02:06:21.140332Z",
     "iopub.status.idle": "2021-12-27T02:06:21.143026Z",
     "shell.execute_reply": "2021-12-27T02:06:21.143404Z"
    },
    "papermill": {
     "duration": 0.018442,
     "end_time": "2021-12-27T02:06:21.143533",
     "exception": false,
     "start_time": "2021-12-27T02:06:21.125091",
     "status": "completed"
    },
    "tags": []
   },
   "outputs": [
    {
     "data": {
      "text/markdown": [
       "- IOHK Shares Blueprint And How Cardano Aims To Provide Over 1 Billion People With Digital Identities.  IOHK has released tips for users to introduce Cardano to their families over dinner. The team suggests users stay away from crypto conversations but tells them to still prepare for every eventuality. Cardano shot to fame early this year and rose to become the third-largest cryptocurrency by market capitalization. In the spirit of the season, [&#8230;] ... [| Skaityti daugiau](https://zycrypto.com/iohk-shares-blueprint-and-how-cardano-aims-to-provide-over-1-billion-people-with-digital-identities/) "
      ],
      "text/plain": [
       "<IPython.core.display.Markdown object>"
      ]
     },
     "execution_count": 8,
     "metadata": {},
     "output_type": "execute_result"
    }
   ],
   "source": [
    "#hide_input\n",
    "#md('##### {}'.format(titleBTC)) \n",
    "md(\"- {}{} {}{} [| Skaityti daugiau]({}) \".format(ada['title'],'. ', ada['body'], ' ...', ada['url']))"
   ]
  },
  {
   "cell_type": "code",
   "execution_count": 9,
   "id": "specified-ordering",
   "metadata": {
    "execution": {
     "iopub.execute_input": "2021-12-27T02:06:21.171552Z",
     "iopub.status.busy": "2021-12-27T02:06:21.170932Z",
     "iopub.status.idle": "2021-12-27T02:06:21.174629Z",
     "shell.execute_reply": "2021-12-27T02:06:21.174184Z"
    },
    "papermill": {
     "duration": 0.020019,
     "end_time": "2021-12-27T02:06:21.174747",
     "exception": false,
     "start_time": "2021-12-27T02:06:21.154728",
     "status": "completed"
    },
    "tags": []
   },
   "outputs": [
    {
     "data": {
      "text/markdown": [
       "- New to Crypto Derivatives? Delta Exchange’s $30,000 signing up bonus is the push you need!.  Demand for crypto derivative platforms has increased in recent years. According to a recent study, around $100 billion are traded in derivatives on a busy day. And now, with Delta Exchange offering a $30,000 sign-up bonus, you may be very well contributing to that demand. But first &#8211; what exactly do we mean by derivatives? [&#8230;]The post New to Crypto Derivatives? Delta Exchange&#8217;s $30,000 signing up bonus is the push you need! appeared first on NullTX. ... [| Skaityti daugiau](https://nulltx.com/new-to-crypto-derivatives-delta-exchanges-30000-signing-up-bonus-is-the-push-you-need/) "
      ],
      "text/plain": [
       "<IPython.core.display.Markdown object>"
      ]
     },
     "execution_count": 9,
     "metadata": {},
     "output_type": "execute_result"
    }
   ],
   "source": [
    "#hide_input\n",
    "#md('##### {}'.format(titleBTC)) \n",
    "md(\"- {}{} {}{} [| Skaityti daugiau]({}) \".format(exchange['title'],'. ', exchange['body'], ' ...', exchange['url']))"
   ]
  },
  {
   "cell_type": "code",
   "execution_count": null,
   "id": "tender-livestock",
   "metadata": {
    "papermill": {
     "duration": 0.011442,
     "end_time": "2021-12-27T02:06:21.197788",
     "exception": false,
     "start_time": "2021-12-27T02:06:21.186346",
     "status": "completed"
    },
    "tags": []
   },
   "outputs": [],
   "source": []
  },
  {
   "cell_type": "code",
   "execution_count": null,
   "id": "appreciated-diamond",
   "metadata": {
    "papermill": {
     "duration": 0.01134,
     "end_time": "2021-12-27T02:06:21.220749",
     "exception": false,
     "start_time": "2021-12-27T02:06:21.209409",
     "status": "completed"
    },
    "tags": []
   },
   "outputs": [],
   "source": []
  },
  {
   "cell_type": "code",
   "execution_count": null,
   "id": "romance-sweden",
   "metadata": {
    "papermill": {
     "duration": 0.011335,
     "end_time": "2021-12-27T02:06:21.243485",
     "exception": false,
     "start_time": "2021-12-27T02:06:21.232150",
     "status": "completed"
    },
    "tags": []
   },
   "outputs": [],
   "source": []
  },
  {
   "cell_type": "code",
   "execution_count": null,
   "id": "dietary-statistics",
   "metadata": {
    "papermill": {
     "duration": 0.011337,
     "end_time": "2021-12-27T02:06:21.266163",
     "exception": false,
     "start_time": "2021-12-27T02:06:21.254826",
     "status": "completed"
    },
    "tags": []
   },
   "outputs": [],
   "source": []
  }
 ],
 "metadata": {
  "kernelspec": {
   "display_name": "Python 3",
   "language": "python",
   "name": "python3"
  },
  "language_info": {
   "codemirror_mode": {
    "name": "ipython",
    "version": 3
   },
   "file_extension": ".py",
   "mimetype": "text/x-python",
   "name": "python",
   "nbconvert_exporter": "python",
   "pygments_lexer": "ipython3",
   "version": "3.6.15"
  },
  "papermill": {
   "default_parameters": {},
   "duration": 13.227924,
   "end_time": "2021-12-27T02:06:21.786046",
   "environment_variables": {},
   "exception": null,
   "input_path": "Market-News.ipynb",
   "output_path": "Market-News.ipynb",
   "parameters": {},
   "start_time": "2021-12-27T02:06:08.558122",
   "version": "2.2.2"
  }
 },
 "nbformat": 4,
 "nbformat_minor": 5
}