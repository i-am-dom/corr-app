{
 "cells": [
  {
   "cell_type": "markdown",
   "id": "short-greensboro",
   "metadata": {
    "papermill": {
     "duration": 0.013521,
     "end_time": "2022-04-20T03:11:35.737410",
     "exception": false,
     "start_time": "2022-04-20T03:11:35.723889",
     "status": "completed"
    },
    "tags": []
   },
   "source": [
    "# Kriptovaliutų naujienos"
   ]
  },
  {
   "cell_type": "code",
   "execution_count": 1,
   "id": "functioning-knowing",
   "metadata": {
    "execution": {
     "iopub.execute_input": "2022-04-20T03:11:35.769731Z",
     "iopub.status.busy": "2022-04-20T03:11:35.769149Z",
     "iopub.status.idle": "2022-04-20T03:11:37.108115Z",
     "shell.execute_reply": "2022-04-20T03:11:37.108977Z"
    },
    "papermill": {
     "duration": 1.361306,
     "end_time": "2022-04-20T03:11:37.109273",
     "exception": false,
     "start_time": "2022-04-20T03:11:35.747967",
     "status": "completed"
    },
    "tags": []
   },
   "outputs": [],
   "source": [
    "#hide_input\n",
    "import warnings\n",
    "warnings.filterwarnings('ignore')\n",
    "from scripts.read_data import read_api\n",
    "from scripts.read_data import read_news\n",
    "from scripts.read_data import read_covid\n",
    "import matplotlib.pyplot as plt \n",
    "from IPython.display import Markdown as md"
   ]
  },
  {
   "cell_type": "code",
   "execution_count": 2,
   "id": "shared-acceptance",
   "metadata": {
    "execution": {
     "iopub.execute_input": "2022-04-20T03:11:37.137681Z",
     "iopub.status.busy": "2022-04-20T03:11:37.137098Z",
     "iopub.status.idle": "2022-04-20T03:11:46.354394Z",
     "shell.execute_reply": "2022-04-20T03:11:46.353618Z"
    },
    "papermill": {
     "duration": 9.234052,
     "end_time": "2022-04-20T03:11:46.354586",
     "exception": false,
     "start_time": "2022-04-20T03:11:37.120534",
     "status": "completed"
    },
    "tags": []
   },
   "outputs": [],
   "source": [
    "#hide_input\n",
    "blockchain = read_news('blockchain') \n",
    "btc = read_news('btc') \n",
    "xrp = read_news('xrp') \n",
    "trx = read_news('trx') \n",
    "eth = read_news('eth')  \n",
    "ada = read_news('ada')\n",
    "exchange = read_news('exchange') "
   ]
  },
  {
   "cell_type": "code",
   "execution_count": 3,
   "id": "synthetic-notion",
   "metadata": {
    "execution": {
     "iopub.execute_input": "2022-04-20T03:11:46.384765Z",
     "iopub.status.busy": "2022-04-20T03:11:46.384166Z",
     "iopub.status.idle": "2022-04-20T03:11:46.386624Z",
     "shell.execute_reply": "2022-04-20T03:11:46.387103Z"
    },
    "papermill": {
     "duration": 0.019934,
     "end_time": "2022-04-20T03:11:46.387245",
     "exception": false,
     "start_time": "2022-04-20T03:11:46.367311",
     "status": "completed"
    },
    "tags": []
   },
   "outputs": [
    {
     "data": {
      "text/markdown": [
       "- Bitcoin reclaim $41K following a surge in buying pressure.  Bitcoin price analysis for April 20, 2022, comes on a bullish note for the token with huge chances of reclaiming $42K which is an important price level for the world&#8217;s biggest cryptocurrency. On the other hand, in our BTC price analysis for April 21, 2022, TheCoinRise noted that the token rebounded after touching the $38K [&#8230;]The post Bitcoin reclaim $41K following a surge in buying pressure appeared first on Blockchain, Crypto and Stock News. ... [| Skaityti daugiau](https://thecoinrise.com/bitcoin-reclaim-41k-following-a-surge-in-buying-pressure/) "
      ],
      "text/plain": [
       "<IPython.core.display.Markdown object>"
      ]
     },
     "execution_count": 3,
     "metadata": {},
     "output_type": "execute_result"
    }
   ],
   "source": [
    "#hide_input\n",
    "#md('##### {}'.format(titleBTC)) \n",
    "md(\"- {}{} {}{} [| Skaityti daugiau]({}) \".format(blockchain['title'],'. ', blockchain['body'], ' ...', blockchain['url']))"
   ]
  },
  {
   "cell_type": "code",
   "execution_count": 4,
   "id": "aging-caution",
   "metadata": {
    "execution": {
     "iopub.execute_input": "2022-04-20T03:11:46.414185Z",
     "iopub.status.busy": "2022-04-20T03:11:46.413514Z",
     "iopub.status.idle": "2022-04-20T03:11:46.416730Z",
     "shell.execute_reply": "2022-04-20T03:11:46.417177Z"
    },
    "papermill": {
     "duration": 0.019399,
     "end_time": "2022-04-20T03:11:46.417365",
     "exception": false,
     "start_time": "2022-04-20T03:11:46.397966",
     "status": "completed"
    },
    "tags": []
   },
   "outputs": [
    {
     "data": {
      "text/markdown": [
       "- Bitcoin reclaim $41K following a surge in buying pressure.  Bitcoin price analysis for April 20, 2022, comes on a bullish note for the token with huge chances of reclaiming $42K which is an important price level for the world&#8217;s biggest cryptocurrency. On the other hand, in our BTC price analysis for April 21, 2022, TheCoinRise noted that the token rebounded after touching the $38K [&#8230;]The post Bitcoin reclaim $41K following a surge in buying pressure appeared first on Blockchain, Crypto and Stock News. ... [| Skaityti daugiau](https://thecoinrise.com/bitcoin-reclaim-41k-following-a-surge-in-buying-pressure/) "
      ],
      "text/plain": [
       "<IPython.core.display.Markdown object>"
      ]
     },
     "execution_count": 4,
     "metadata": {},
     "output_type": "execute_result"
    }
   ],
   "source": [
    "#hide_input\n",
    "#md('##### {}'.format(titleBTC)) \n",
    "md(\"- {}{} {}{} [| Skaityti daugiau]({}) \".format(btc['title'],'. ', btc['body'], ' ...', btc['url']))"
   ]
  },
  {
   "cell_type": "code",
   "execution_count": 5,
   "id": "organic-actress",
   "metadata": {
    "execution": {
     "iopub.execute_input": "2022-04-20T03:11:46.445469Z",
     "iopub.status.busy": "2022-04-20T03:11:46.444866Z",
     "iopub.status.idle": "2022-04-20T03:11:46.448244Z",
     "shell.execute_reply": "2022-04-20T03:11:46.447685Z"
    },
    "papermill": {
     "duration": 0.020291,
     "end_time": "2022-04-20T03:11:46.448358",
     "exception": false,
     "start_time": "2022-04-20T03:11:46.428067",
     "status": "completed"
    },
    "tags": []
   },
   "outputs": [
    {
     "data": {
      "text/markdown": [
       "- Ripple Vs SEC Lawsuit: Will it Be a Win-Win in the Ripple vs SEC Case? Here’s Why.  The post Ripple Vs SEC Lawsuit: Will it Be a Win-Win in the Ripple vs SEC Case? Here&#8217;s Why appeared first on Coinpedia - Fintech &amp; Cryptocurreny News Media| Crypto GuideThis week, the U.S. Securities and Exchange Commission (SEC) vs. Ripple lawsuit is set to reach a summary judgment. Many rumors and guesses about the case&#8217;s conclusion have already surfaced on the internet.&#160; An attorney representing XRP token holders in the dispute, John Deaton, has proposed scenarios in which both parties can win. While recent &#8230; ... [| Skaityti daugiau](https://coinpedia.org/ripple/ripple-vs-sec-lawsuit-will-it-be-a-win-win-in-the-ripple-vs-sec-case-heres-why/) "
      ],
      "text/plain": [
       "<IPython.core.display.Markdown object>"
      ]
     },
     "execution_count": 5,
     "metadata": {},
     "output_type": "execute_result"
    }
   ],
   "source": [
    "#hide_input\n",
    "#md('##### {}'.format(titleBTC)) \n",
    "md(\"- {}{} {}{} [| Skaityti daugiau]({}) \".format(xrp['title'],'. ', xrp['body'], ' ...', xrp['url']))"
   ]
  },
  {
   "cell_type": "code",
   "execution_count": 6,
   "id": "prompt-farmer",
   "metadata": {
    "execution": {
     "iopub.execute_input": "2022-04-20T03:11:46.475915Z",
     "iopub.status.busy": "2022-04-20T03:11:46.474723Z",
     "iopub.status.idle": "2022-04-20T03:11:46.479115Z",
     "shell.execute_reply": "2022-04-20T03:11:46.478611Z"
    },
    "papermill": {
     "duration": 0.019743,
     "end_time": "2022-04-20T03:11:46.479235",
     "exception": false,
     "start_time": "2022-04-20T03:11:46.459492",
     "status": "completed"
    },
    "tags": []
   },
   "outputs": [
    {
     "data": {
      "text/markdown": [
       "- This is what TRX traders should be wary of before going long.  Tron (TRX) was back to registering declines after the 61.8% Fibonacci resistance triggered a 25% plunge in value over the last three weeks. This fall matched its monthly low while losing its vital three-month trendline support. A close above its Point of Control (POC) could create room for compression in the $0.06 zone, while the [&#8230;] ... [| Skaityti daugiau](https://ambcrypto.com/this-is-what-trx-traders-should-be-wary-of-before-going-long/) "
      ],
      "text/plain": [
       "<IPython.core.display.Markdown object>"
      ]
     },
     "execution_count": 6,
     "metadata": {},
     "output_type": "execute_result"
    }
   ],
   "source": [
    "#hide_input\n",
    "#md('##### {}'.format(titleBTC)) \n",
    "md(\"- {}{} {}{} [| Skaityti daugiau]({}) \".format(trx['title'],'. ', trx['body'], ' ...', trx['url']))"
   ]
  },
  {
   "cell_type": "code",
   "execution_count": 7,
   "id": "illegal-greece",
   "metadata": {
    "execution": {
     "iopub.execute_input": "2022-04-20T03:11:46.507033Z",
     "iopub.status.busy": "2022-04-20T03:11:46.506443Z",
     "iopub.status.idle": "2022-04-20T03:11:46.509887Z",
     "shell.execute_reply": "2022-04-20T03:11:46.509387Z"
    },
    "papermill": {
     "duration": 0.019308,
     "end_time": "2022-04-20T03:11:46.509998",
     "exception": false,
     "start_time": "2022-04-20T03:11:46.490690",
     "status": "completed"
    },
    "tags": []
   },
   "outputs": [
    {
     "data": {
      "text/markdown": [
       "- Will Ethereum (ETH) Price Hit $5k In Q2 ? This is What Traders Can Expect.  The post Will Ethereum (ETH) Price Hit $5k In Q2 ? This is What Traders Can Expect appeared first on Coinpedia - Fintech &amp; Cryptocurreny News Media| Crypto GuideBitcoin made a U-turn, briefly touching $41,000 before stabilizing at $40,000 levels. Not only did Bitcoin rise by nearly 4%, but the whole global cryptocurrency market did as well, with all major crypto coins rallying on the day. Against the US Dollar, Ethereum has recently battled to hold above the $3,150 support level. The price &#8230; ... [| Skaityti daugiau](https://coinpedia.org/ethereum/will-ethereum-eth-price-hit-5k-in-q2-this-is-what-traders-can-expect/) "
      ],
      "text/plain": [
       "<IPython.core.display.Markdown object>"
      ]
     },
     "execution_count": 7,
     "metadata": {},
     "output_type": "execute_result"
    }
   ],
   "source": [
    "#hide_input\n",
    "#md('##### {}'.format(titleBTC)) \n",
    "md(\"- {}{} {}{} [| Skaityti daugiau]({}) \".format(eth['title'],'. ', eth['body'], ' ...', eth['url']))"
   ]
  },
  {
   "cell_type": "code",
   "execution_count": 8,
   "id": "sublime-lounge",
   "metadata": {
    "execution": {
     "iopub.execute_input": "2022-04-20T03:11:46.821302Z",
     "iopub.status.busy": "2022-04-20T03:11:46.819812Z",
     "iopub.status.idle": "2022-04-20T03:11:46.823255Z",
     "shell.execute_reply": "2022-04-20T03:11:46.822833Z"
    },
    "papermill": {
     "duration": 0.301406,
     "end_time": "2022-04-20T03:11:46.823365",
     "exception": false,
     "start_time": "2022-04-20T03:11:46.521959",
     "status": "completed"
    },
    "tags": []
   },
   "outputs": [
    {
     "data": {
      "text/markdown": [
       "- 400 new projects and 100K new wallets in a month on Cardano.  The number of ADA wallets has increased by 100,000 since March 22, with the total figure standing at 3.268 million as of April 19.  ... [| Skaityti daugiau](https://cointelegraph.com/news/400-new-projects-and-100k-new-wallets-in-a-month-on-cardano) "
      ],
      "text/plain": [
       "<IPython.core.display.Markdown object>"
      ]
     },
     "execution_count": 8,
     "metadata": {},
     "output_type": "execute_result"
    }
   ],
   "source": [
    "#hide_input\n",
    "#md('##### {}'.format(titleBTC)) \n",
    "md(\"- {}{} {}{} [| Skaityti daugiau]({}) \".format(ada['title'],'. ', ada['body'], ' ...', ada['url']))"
   ]
  },
  {
   "cell_type": "code",
   "execution_count": 9,
   "id": "specified-ordering",
   "metadata": {
    "execution": {
     "iopub.execute_input": "2022-04-20T03:11:46.852340Z",
     "iopub.status.busy": "2022-04-20T03:11:46.851764Z",
     "iopub.status.idle": "2022-04-20T03:11:46.854477Z",
     "shell.execute_reply": "2022-04-20T03:11:46.854910Z"
    },
    "papermill": {
     "duration": 0.019964,
     "end_time": "2022-04-20T03:11:46.855046",
     "exception": false,
     "start_time": "2022-04-20T03:11:46.835082",
     "status": "completed"
    },
    "tags": []
   },
   "outputs": [
    {
     "data": {
      "text/markdown": [
       "- Ripple Vs SEC Lawsuit: Will it Be a Win-Win in the Ripple vs SEC Case? Here’s Why.  The post Ripple Vs SEC Lawsuit: Will it Be a Win-Win in the Ripple vs SEC Case? Here&#8217;s Why appeared first on Coinpedia - Fintech &amp; Cryptocurreny News Media| Crypto GuideThis week, the U.S. Securities and Exchange Commission (SEC) vs. Ripple lawsuit is set to reach a summary judgment. Many rumors and guesses about the case&#8217;s conclusion have already surfaced on the internet.&#160; An attorney representing XRP token holders in the dispute, John Deaton, has proposed scenarios in which both parties can win. While recent &#8230; ... [| Skaityti daugiau](https://coinpedia.org/ripple/ripple-vs-sec-lawsuit-will-it-be-a-win-win-in-the-ripple-vs-sec-case-heres-why/) "
      ],
      "text/plain": [
       "<IPython.core.display.Markdown object>"
      ]
     },
     "execution_count": 9,
     "metadata": {},
     "output_type": "execute_result"
    }
   ],
   "source": [
    "#hide_input\n",
    "#md('##### {}'.format(titleBTC)) \n",
    "md(\"- {}{} {}{} [| Skaityti daugiau]({}) \".format(exchange['title'],'. ', exchange['body'], ' ...', exchange['url']))"
   ]
  },
  {
   "cell_type": "code",
   "execution_count": null,
   "id": "tender-livestock",
   "metadata": {
    "papermill": {
     "duration": 0.01191,
     "end_time": "2022-04-20T03:11:46.879147",
     "exception": false,
     "start_time": "2022-04-20T03:11:46.867237",
     "status": "completed"
    },
    "tags": []
   },
   "outputs": [],
   "source": []
  },
  {
   "cell_type": "code",
   "execution_count": null,
   "id": "appreciated-diamond",
   "metadata": {
    "papermill": {
     "duration": 0.012505,
     "end_time": "2022-04-20T03:11:46.904187",
     "exception": false,
     "start_time": "2022-04-20T03:11:46.891682",
     "status": "completed"
    },
    "tags": []
   },
   "outputs": [],
   "source": []
  },
  {
   "cell_type": "code",
   "execution_count": null,
   "id": "romance-sweden",
   "metadata": {
    "papermill": {
     "duration": 0.012112,
     "end_time": "2022-04-20T03:11:46.929447",
     "exception": false,
     "start_time": "2022-04-20T03:11:46.917335",
     "status": "completed"
    },
    "tags": []
   },
   "outputs": [],
   "source": []
  },
  {
   "cell_type": "code",
   "execution_count": null,
   "id": "dietary-statistics",
   "metadata": {
    "papermill": {
     "duration": 0.012314,
     "end_time": "2022-04-20T03:11:46.954075",
     "exception": false,
     "start_time": "2022-04-20T03:11:46.941761",
     "status": "completed"
    },
    "tags": []
   },
   "outputs": [],
   "source": []
  }
 ],
 "metadata": {
  "kernelspec": {
   "display_name": "Python 3",
   "language": "python",
   "name": "python3"
  },
  "language_info": {
   "codemirror_mode": {
    "name": "ipython",
    "version": 3
   },
   "file_extension": ".py",
   "mimetype": "text/x-python",
   "name": "python",
   "nbconvert_exporter": "python",
   "pygments_lexer": "ipython3",
   "version": "3.6.15"
  },
  "papermill": {
   "default_parameters": {},
   "duration": 13.034586,
   "end_time": "2022-04-20T03:11:47.487025",
   "environment_variables": {},
   "exception": null,
   "input_path": "Market-News.ipynb",
   "output_path": "Market-News.ipynb",
   "parameters": {},
   "start_time": "2022-04-20T03:11:34.452439",
   "version": "2.2.2"
  }
 },
 "nbformat": 4,
 "nbformat_minor": 5
}