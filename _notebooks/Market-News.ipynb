{
 "cells": [
  {
   "cell_type": "markdown",
   "id": "short-greensboro",
   "metadata": {
    "papermill": {
     "duration": 0.014651,
     "end_time": "2022-08-02T03:36:20.408402",
     "exception": false,
     "start_time": "2022-08-02T03:36:20.393751",
     "status": "completed"
    },
    "tags": []
   },
   "source": [
    "# Kriptovaliutų naujienos"
   ]
  },
  {
   "cell_type": "code",
   "execution_count": 1,
   "id": "functioning-knowing",
   "metadata": {
    "execution": {
     "iopub.execute_input": "2022-08-02T03:36:20.439062Z",
     "iopub.status.busy": "2022-08-02T03:36:20.438422Z",
     "iopub.status.idle": "2022-08-02T03:36:21.796305Z",
     "shell.execute_reply": "2022-08-02T03:36:21.795639Z"
    },
    "papermill": {
     "duration": 1.378011,
     "end_time": "2022-08-02T03:36:21.796494",
     "exception": false,
     "start_time": "2022-08-02T03:36:20.418483",
     "status": "completed"
    },
    "tags": []
   },
   "outputs": [],
   "source": [
    "#hide_input\n",
    "import warnings\n",
    "warnings.filterwarnings('ignore')\n",
    "from scripts.read_data import read_api\n",
    "from scripts.read_data import read_news\n",
    "from scripts.read_data import read_covid\n",
    "import matplotlib.pyplot as plt \n",
    "from IPython.display import Markdown as md"
   ]
  },
  {
   "cell_type": "code",
   "execution_count": 2,
   "id": "shared-acceptance",
   "metadata": {
    "execution": {
     "iopub.execute_input": "2022-08-02T03:36:21.824282Z",
     "iopub.status.busy": "2022-08-02T03:36:21.823652Z",
     "iopub.status.idle": "2022-08-02T03:36:33.393877Z",
     "shell.execute_reply": "2022-08-02T03:36:33.393209Z"
    },
    "papermill": {
     "duration": 11.587512,
     "end_time": "2022-08-02T03:36:33.394035",
     "exception": false,
     "start_time": "2022-08-02T03:36:21.806523",
     "status": "completed"
    },
    "tags": []
   },
   "outputs": [],
   "source": [
    "#hide_input\n",
    "blockchain = read_news('blockchain') \n",
    "btc = read_news('btc') \n",
    "xrp = read_news('xrp') \n",
    "trx = read_news('trx') \n",
    "eth = read_news('eth')  \n",
    "ada = read_news('ada')\n",
    "exchange = read_news('exchange') "
   ]
  },
  {
   "cell_type": "code",
   "execution_count": 3,
   "id": "synthetic-notion",
   "metadata": {
    "execution": {
     "iopub.execute_input": "2022-08-02T03:36:33.420969Z",
     "iopub.status.busy": "2022-08-02T03:36:33.420286Z",
     "iopub.status.idle": "2022-08-02T03:36:33.423645Z",
     "shell.execute_reply": "2022-08-02T03:36:33.423195Z"
    },
    "papermill": {
     "duration": 0.019488,
     "end_time": "2022-08-02T03:36:33.423766",
     "exception": false,
     "start_time": "2022-08-02T03:36:33.404278",
     "status": "completed"
    },
    "tags": []
   },
   "outputs": [
    {
     "data": {
      "text/markdown": [
       "- Coinbase-backed cross-chain protocol Nomad hacked in a $150 Million Exploit.  On Monday evening, attackers exploited the cross-chain blockchain protocol Nomad, the latest among several bridge exploits this year. Although the exact amount isn&#8217;t confirmed, reports suggest that the hackers stole anywhere north of $150 million. Taking cognizance of the matter, Nomad updated its users for the same. The company also asked users to be aware The post Coinbase-backed cross-chain protocol Nomad hacked in a $150 Million Exploit appeared first on CoinGape. ... [| Skaityti daugiau](https://coingape.com/coinbase-backed-cross-chain-protocol-nomad-hacked-in-a-150-million-exploit/) "
      ],
      "text/plain": [
       "<IPython.core.display.Markdown object>"
      ]
     },
     "execution_count": 3,
     "metadata": {},
     "output_type": "execute_result"
    }
   ],
   "source": [
    "#hide_input\n",
    "#md('##### {}'.format(titleBTC)) \n",
    "md(\"- {}{} {}{} [| Skaityti daugiau]({}) \".format(blockchain['title'],'. ', blockchain['body'], ' ...', blockchain['url']))"
   ]
  },
  {
   "cell_type": "code",
   "execution_count": 4,
   "id": "aging-caution",
   "metadata": {
    "execution": {
     "iopub.execute_input": "2022-08-02T03:36:33.447748Z",
     "iopub.status.busy": "2022-08-02T03:36:33.447145Z",
     "iopub.status.idle": "2022-08-02T03:36:33.451057Z",
     "shell.execute_reply": "2022-08-02T03:36:33.450615Z"
    },
    "papermill": {
     "duration": 0.018102,
     "end_time": "2022-08-02T03:36:33.451170",
     "exception": false,
     "start_time": "2022-08-02T03:36:33.433068",
     "status": "completed"
    },
    "tags": []
   },
   "outputs": [
    {
     "data": {
      "text/markdown": [
       "- Bitcoin: Does miner capitulation finally have an end date in place.  Bitcoin miners did see some relief as miners&#8217; balance hit a four-year high on Glassnode. Well, for starters, the recovery across the BTC market could have aided the same. However, can August bring in more relief given the past relationship between miners and the crypto? Mending the past Miner capitulation remains a key indicator to [&#8230;] ... [| Skaityti daugiau](https://ambcrypto.com/bitcoin-does-miner-capitulation-finally-have-an-end-date-in-place/) "
      ],
      "text/plain": [
       "<IPython.core.display.Markdown object>"
      ]
     },
     "execution_count": 4,
     "metadata": {},
     "output_type": "execute_result"
    }
   ],
   "source": [
    "#hide_input\n",
    "#md('##### {}'.format(titleBTC)) \n",
    "md(\"- {}{} {}{} [| Skaityti daugiau]({}) \".format(btc['title'],'. ', btc['body'], ' ...', btc['url']))"
   ]
  },
  {
   "cell_type": "code",
   "execution_count": 5,
   "id": "organic-actress",
   "metadata": {
    "execution": {
     "iopub.execute_input": "2022-08-02T03:36:33.475441Z",
     "iopub.status.busy": "2022-08-02T03:36:33.474111Z",
     "iopub.status.idle": "2022-08-02T03:36:33.478588Z",
     "shell.execute_reply": "2022-08-02T03:36:33.479063Z"
    },
    "papermill": {
     "duration": 0.018461,
     "end_time": "2022-08-02T03:36:33.479190",
     "exception": false,
     "start_time": "2022-08-02T03:36:33.460729",
     "status": "completed"
    },
    "tags": []
   },
   "outputs": [
    {
     "data": {
      "text/markdown": [
       "- Colombia Enlists Ripple Labs to Put Land Deeds on Blockchain.  Using the Ripple Ledger, Colombian leaders can make real estate transactions more equitable. ... [| Skaityti daugiau](https://decrypt.co/106404/ripple-labs-helping-colombian-government-put-land-deeds-on-blockchain) "
      ],
      "text/plain": [
       "<IPython.core.display.Markdown object>"
      ]
     },
     "execution_count": 5,
     "metadata": {},
     "output_type": "execute_result"
    }
   ],
   "source": [
    "#hide_input\n",
    "#md('##### {}'.format(titleBTC)) \n",
    "md(\"- {}{} {}{} [| Skaityti daugiau]({}) \".format(xrp['title'],'. ', xrp['body'], ' ...', xrp['url']))"
   ]
  },
  {
   "cell_type": "code",
   "execution_count": 6,
   "id": "prompt-farmer",
   "metadata": {
    "execution": {
     "iopub.execute_input": "2022-08-02T03:36:33.503778Z",
     "iopub.status.busy": "2022-08-02T03:36:33.503167Z",
     "iopub.status.idle": "2022-08-02T03:36:33.506456Z",
     "shell.execute_reply": "2022-08-02T03:36:33.506897Z"
    },
    "papermill": {
     "duration": 0.017981,
     "end_time": "2022-08-02T03:36:33.507015",
     "exception": false,
     "start_time": "2022-08-02T03:36:33.489034",
     "status": "completed"
    },
    "tags": []
   },
   "outputs": [
    {
     "data": {
      "text/markdown": [
       "- TRX Soars 15% In Last 5 Days – Is This Enough To Recoup Investors’ Losses?.  Tron (TRX) has eclipsed its past performance and has been up 15% in the last five days. The TRX/BTC pair registers an increase of 0.28% at 0.000002895 BTC. The token is now sweeping through an uptrend wave as seen in the daily price chart. There is an obvious power struggle between the bulls and the bears which impacted the price but it seems neither was able to pull off a riveting dominance in the market. It helped that Bitcoin (BTC) did some heavy lifting as its price briefly soared above the 24K price zone which also propelled the entire market up. Tron Still Grappling With Losses TRX price surged by over 15% in just five days but it’s still grappling with losses in the part of the investors. With that being said, Tron still needs to get more buyers to speed up the recovery train. The price registered at a low of $0.068 and spikes continuously with the increased buying pressure. As of now, TRX coin trades at $0.071 showing an increase of 3.46% in terms of market cap seen in the past 24 hours. The coin is showing a trading volume that catapulted 557 million which reveals a 22.18% loss seen in the past 24 hours. The altcoin currently has a total market capitalization of 6.5 billion. On a 4-hour chart, TRX price showcases a robust uptrend momentum. Evidently, the RSI is also showing that the price is overbought as increased selling activity is pushing the price. Current RSI is almost 70. So, the buyers who are looking to penet... ... [| Skaityti daugiau](https://www.newsbtc.com/news/tron/trx-soars-15-in-last-5-days/) "
      ],
      "text/plain": [
       "<IPython.core.display.Markdown object>"
      ]
     },
     "execution_count": 6,
     "metadata": {},
     "output_type": "execute_result"
    }
   ],
   "source": [
    "#hide_input\n",
    "#md('##### {}'.format(titleBTC)) \n",
    "md(\"- {}{} {}{} [| Skaityti daugiau]({}) \".format(trx['title'],'. ', trx['body'], ' ...', trx['url']))"
   ]
  },
  {
   "cell_type": "code",
   "execution_count": 7,
   "id": "illegal-greece",
   "metadata": {
    "execution": {
     "iopub.execute_input": "2022-08-02T03:36:33.532363Z",
     "iopub.status.busy": "2022-08-02T03:36:33.531752Z",
     "iopub.status.idle": "2022-08-02T03:36:33.535396Z",
     "shell.execute_reply": "2022-08-02T03:36:33.534946Z"
    },
    "papermill": {
     "duration": 0.018114,
     "end_time": "2022-08-02T03:36:33.535502",
     "exception": false,
     "start_time": "2022-08-02T03:36:33.517388",
     "status": "completed"
    },
    "tags": []
   },
   "outputs": [
    {
     "data": {
      "text/markdown": [
       "- Tether Announces It Will Support ETH 2.0.  Ethereum 2.0 is one of the most important developments the crypto money industry is looking forward to. Ethereum 2.0 will change the consensus mechanism from Proof of Work to Proof of Stake. Finally, Tether announced that it would support ETH 2.0. Tether To ETH 2.0 Support Ethereum is in full swing to transition to Proof [&#8230;] ... [| Skaityti daugiau](https://coinnounce.com/tether-announces-it-will-support-eth-2-0/) "
      ],
      "text/plain": [
       "<IPython.core.display.Markdown object>"
      ]
     },
     "execution_count": 7,
     "metadata": {},
     "output_type": "execute_result"
    }
   ],
   "source": [
    "#hide_input\n",
    "#md('##### {}'.format(titleBTC)) \n",
    "md(\"- {}{} {}{} [| Skaityti daugiau]({}) \".format(eth['title'],'. ', eth['body'], ' ...', eth['url']))"
   ]
  },
  {
   "cell_type": "code",
   "execution_count": 8,
   "id": "sublime-lounge",
   "metadata": {
    "execution": {
     "iopub.execute_input": "2022-08-02T03:36:33.562830Z",
     "iopub.status.busy": "2022-08-02T03:36:33.562269Z",
     "iopub.status.idle": "2022-08-02T03:36:33.565594Z",
     "shell.execute_reply": "2022-08-02T03:36:33.566031Z"
    },
    "papermill": {
     "duration": 0.018644,
     "end_time": "2022-08-02T03:36:33.566148",
     "exception": false,
     "start_time": "2022-08-02T03:36:33.547504",
     "status": "completed"
    },
    "tags": []
   },
   "outputs": [
    {
     "data": {
      "text/markdown": [
       "- DOT Clamping On $8 Support Crucial To Maintain Bullish Pace.  Can Polkadot (DOT) hold on to dear life as its price nosedived by 4% on the daily charts right after it peaked at $8.84? The $8 support line is seen as a critical zone for the coin, especially with the prevailing seller pressure going on. DOT is seen to go downhill or can plunge to $6 in the coming days. On the brighter side, the token&#8217;s price is generally bullish as shown in the extended increase which propelled its price to a high of $8.84 seen yesterday. On the other hand, DOT is seen to have decreased by 4% in price overnight. On July 26, 2022, its price formed an extended ascending triangle pattern when the price plunged to a mere $6.55.Cryp DOT Breaks Resistance At $8.5 Hereinafter, DOT has been extremely bullish and breaking the resistance seen at $8.5 and as it trades above $8.60. Support clamped at $8 is mission-critical for Polkadot price, especially with imminent selling pressure. With that in mind, any movement that swerves below this critical line could trigger a worse downtrend that may result in a price decline to $6.15. Major cryptocurrencies like Bitcoin and Ethereum also suffered a massive drop in the past 24 hours. Bitcoin evidently dipped by 3% or towards $23,700, while Ethereum plunged dramatically to $1,700. With the altcoins, Ripple spiked by 3% reaching $0.38, Cardano dropped to $0.52, Solana soared to $44.22, while Dogecoin plunged by 3% and fell to $0.07. Can Crypto Maintain Its Bullish Momentum... ... [| Skaityti daugiau](https://www.newsbtc.com/news/dot-clamping-on-8-support/) "
      ],
      "text/plain": [
       "<IPython.core.display.Markdown object>"
      ]
     },
     "execution_count": 8,
     "metadata": {},
     "output_type": "execute_result"
    }
   ],
   "source": [
    "#hide_input\n",
    "#md('##### {}'.format(titleBTC)) \n",
    "md(\"- {}{} {}{} [| Skaityti daugiau]({}) \".format(ada['title'],'. ', ada['body'], ' ...', ada['url']))"
   ]
  },
  {
   "cell_type": "code",
   "execution_count": 9,
   "id": "specified-ordering",
   "metadata": {
    "execution": {
     "iopub.execute_input": "2022-08-02T03:36:33.593116Z",
     "iopub.status.busy": "2022-08-02T03:36:33.592516Z",
     "iopub.status.idle": "2022-08-02T03:36:33.595934Z",
     "shell.execute_reply": "2022-08-02T03:36:33.596398Z"
    },
    "papermill": {
     "duration": 0.019569,
     "end_time": "2022-08-02T03:36:33.596518",
     "exception": false,
     "start_time": "2022-08-02T03:36:33.576949",
     "status": "completed"
    },
    "tags": []
   },
   "outputs": [
    {
     "data": {
      "text/markdown": [
       "- SEC Charges 11 People in $300 Million Forsage Crypto Pyramid and Ponzi Scheme.  The U.S. Securities and Exchange Commission (SEC) has charged four founders and seven promoters of Forsage, which it described as &#x201C;a fraudulent crypto pyramid and Ponzi scheme.&#x201D; The scheme allegedly raised more than $300 million from millions of retail investors worldwide, including in the U.S. SEC Takes Action Against Forsage Crypto Scheme The U.S. Securities [&#8230;] ... [| Skaityti daugiau](https://news.bitcoin.com/sec-charges-11-people-in-300-million-forsage-crypto-pyramid-and-ponzi-scheme/) "
      ],
      "text/plain": [
       "<IPython.core.display.Markdown object>"
      ]
     },
     "execution_count": 9,
     "metadata": {},
     "output_type": "execute_result"
    }
   ],
   "source": [
    "#hide_input\n",
    "#md('##### {}'.format(titleBTC)) \n",
    "md(\"- {}{} {}{} [| Skaityti daugiau]({}) \".format(exchange['title'],'. ', exchange['body'], ' ...', exchange['url']))"
   ]
  },
  {
   "cell_type": "code",
   "execution_count": null,
   "id": "tender-livestock",
   "metadata": {
    "papermill": {
     "duration": 0.011159,
     "end_time": "2022-08-02T03:36:33.618884",
     "exception": false,
     "start_time": "2022-08-02T03:36:33.607725",
     "status": "completed"
    },
    "tags": []
   },
   "outputs": [],
   "source": []
  },
  {
   "cell_type": "code",
   "execution_count": null,
   "id": "appreciated-diamond",
   "metadata": {
    "papermill": {
     "duration": 0.011107,
     "end_time": "2022-08-02T03:36:33.641340",
     "exception": false,
     "start_time": "2022-08-02T03:36:33.630233",
     "status": "completed"
    },
    "tags": []
   },
   "outputs": [],
   "source": []
  },
  {
   "cell_type": "code",
   "execution_count": null,
   "id": "romance-sweden",
   "metadata": {
    "papermill": {
     "duration": 0.011089,
     "end_time": "2022-08-02T03:36:33.663534",
     "exception": false,
     "start_time": "2022-08-02T03:36:33.652445",
     "status": "completed"
    },
    "tags": []
   },
   "outputs": [],
   "source": []
  },
  {
   "cell_type": "code",
   "execution_count": null,
   "id": "dietary-statistics",
   "metadata": {
    "papermill": {
     "duration": 0.011056,
     "end_time": "2022-08-02T03:36:33.685785",
     "exception": false,
     "start_time": "2022-08-02T03:36:33.674729",
     "status": "completed"
    },
    "tags": []
   },
   "outputs": [],
   "source": []
  }
 ],
 "metadata": {
  "kernelspec": {
   "display_name": "Python 3",
   "language": "python",
   "name": "python3"
  },
  "language_info": {
   "codemirror_mode": {
    "name": "ipython",
    "version": 3
   },
   "file_extension": ".py",
   "mimetype": "text/x-python",
   "name": "python",
   "nbconvert_exporter": "python",
   "pygments_lexer": "ipython3",
   "version": "3.6.15"
  },
  "papermill": {
   "default_parameters": {},
   "duration": 15.178994,
   "end_time": "2022-08-02T03:36:34.317937",
   "environment_variables": {},
   "exception": null,
   "input_path": "Market-News.ipynb",
   "output_path": "Market-News.ipynb",
   "parameters": {},
   "start_time": "2022-08-02T03:36:19.138943",
   "version": "2.2.2"
  }
 },
 "nbformat": 4,
 "nbformat_minor": 5
}