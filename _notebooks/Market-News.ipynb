{
 "cells": [
  {
   "cell_type": "markdown",
   "id": "short-greensboro",
   "metadata": {
    "papermill": {
     "duration": 0.014343,
     "end_time": "2022-06-23T03:10:56.808286",
     "exception": false,
     "start_time": "2022-06-23T03:10:56.793943",
     "status": "completed"
    },
    "tags": []
   },
   "source": [
    "# Kriptovaliutų naujienos"
   ]
  },
  {
   "cell_type": "code",
   "execution_count": 1,
   "id": "functioning-knowing",
   "metadata": {
    "execution": {
     "iopub.execute_input": "2022-06-23T03:10:56.835663Z",
     "iopub.status.busy": "2022-06-23T03:10:56.835091Z",
     "iopub.status.idle": "2022-06-23T03:10:58.048025Z",
     "shell.execute_reply": "2022-06-23T03:10:58.047459Z"
    },
    "papermill": {
     "duration": 1.231161,
     "end_time": "2022-06-23T03:10:58.048180",
     "exception": false,
     "start_time": "2022-06-23T03:10:56.817019",
     "status": "completed"
    },
    "tags": []
   },
   "outputs": [],
   "source": [
    "#hide_input\n",
    "import warnings\n",
    "warnings.filterwarnings('ignore')\n",
    "from scripts.read_data import read_api\n",
    "from scripts.read_data import read_news\n",
    "from scripts.read_data import read_covid\n",
    "import matplotlib.pyplot as plt \n",
    "from IPython.display import Markdown as md"
   ]
  },
  {
   "cell_type": "code",
   "execution_count": 2,
   "id": "shared-acceptance",
   "metadata": {
    "execution": {
     "iopub.execute_input": "2022-06-23T03:10:58.075191Z",
     "iopub.status.busy": "2022-06-23T03:10:58.074110Z",
     "iopub.status.idle": "2022-06-23T03:11:07.713344Z",
     "shell.execute_reply": "2022-06-23T03:11:07.712741Z"
    },
    "papermill": {
     "duration": 9.655294,
     "end_time": "2022-06-23T03:11:07.713494",
     "exception": false,
     "start_time": "2022-06-23T03:10:58.058200",
     "status": "completed"
    },
    "tags": []
   },
   "outputs": [],
   "source": [
    "#hide_input\n",
    "blockchain = read_news('blockchain') \n",
    "btc = read_news('btc') \n",
    "xrp = read_news('xrp') \n",
    "trx = read_news('trx') \n",
    "eth = read_news('eth')  \n",
    "ada = read_news('ada')\n",
    "exchange = read_news('exchange') "
   ]
  },
  {
   "cell_type": "code",
   "execution_count": 3,
   "id": "synthetic-notion",
   "metadata": {
    "execution": {
     "iopub.execute_input": "2022-06-23T03:11:07.739258Z",
     "iopub.status.busy": "2022-06-23T03:11:07.738646Z",
     "iopub.status.idle": "2022-06-23T03:11:07.740888Z",
     "shell.execute_reply": "2022-06-23T03:11:07.741339Z"
    },
    "papermill": {
     "duration": 0.018338,
     "end_time": "2022-06-23T03:11:07.741470",
     "exception": false,
     "start_time": "2022-06-23T03:11:07.723132",
     "status": "completed"
    },
    "tags": []
   },
   "outputs": [
    {
     "data": {
      "text/markdown": [
       "- Citibank Building Crypto Custody Service, Says Mass Digitization of Traditional Investments Taking Place.  Financial services giant Citibank is creating a crypto custody service, saying that a mass digitization of traditional investments is already underway. According to a new press release, Citi has chosen Swiss-based crypto custody firm METACO as its partner to develop digital asset custody capabilities. “This collaboration brings together METACO’s technology and digital solutions with Citi’s [&#8230;]The post Citibank Building Crypto Custody Service, Says Mass Digitization of Traditional Investments Taking Place appeared first on The Daily Hodl. ... [| Skaityti daugiau](https://dailyhodl.com/2022/06/22/citibank-building-crypto-custody-service-says-mass-digitization-of-traditional-investments-taking-place/) "
      ],
      "text/plain": [
       "<IPython.core.display.Markdown object>"
      ]
     },
     "execution_count": 3,
     "metadata": {},
     "output_type": "execute_result"
    }
   ],
   "source": [
    "#hide_input\n",
    "#md('##### {}'.format(titleBTC)) \n",
    "md(\"- {}{} {}{} [| Skaityti daugiau]({}) \".format(blockchain['title'],'. ', blockchain['body'], ' ...', blockchain['url']))"
   ]
  },
  {
   "cell_type": "code",
   "execution_count": 4,
   "id": "aging-caution",
   "metadata": {
    "execution": {
     "iopub.execute_input": "2022-06-23T03:11:07.764944Z",
     "iopub.status.busy": "2022-06-23T03:11:07.764356Z",
     "iopub.status.idle": "2022-06-23T03:11:07.767149Z",
     "shell.execute_reply": "2022-06-23T03:11:07.767663Z"
    },
    "papermill": {
     "duration": 0.016819,
     "end_time": "2022-06-23T03:11:07.767772",
     "exception": false,
     "start_time": "2022-06-23T03:11:07.750953",
     "status": "completed"
    },
    "tags": []
   },
   "outputs": [
    {
     "data": {
      "text/markdown": [
       "- How to Buy BTC Crypto Fast Online in 2022.  Although the year is halfway gone, anyone who is planning to invest in Bitcoin or any other crypto has six months to enjoy a piece of the 2022 pie. Many crypto investments start by buying the number of coins you want. Are you looking to buy Bitcoins specifically? You are not alone. There are many...The post How to Buy BTC Crypto Fast Online in 2022 appeared first on Live Bitcoin News. ... [| Skaityti daugiau](https://www.livebitcoinnews.com/how-to-buy-btc-crypto-fast-online-in-2022/) "
      ],
      "text/plain": [
       "<IPython.core.display.Markdown object>"
      ]
     },
     "execution_count": 4,
     "metadata": {},
     "output_type": "execute_result"
    }
   ],
   "source": [
    "#hide_input\n",
    "#md('##### {}'.format(titleBTC)) \n",
    "md(\"- {}{} {}{} [| Skaityti daugiau]({}) \".format(btc['title'],'. ', btc['body'], ' ...', btc['url']))"
   ]
  },
  {
   "cell_type": "code",
   "execution_count": 5,
   "id": "organic-actress",
   "metadata": {
    "execution": {
     "iopub.execute_input": "2022-06-23T03:11:07.789773Z",
     "iopub.status.busy": "2022-06-23T03:11:07.789187Z",
     "iopub.status.idle": "2022-06-23T03:11:07.792330Z",
     "shell.execute_reply": "2022-06-23T03:11:07.792844Z"
    },
    "papermill": {
     "duration": 0.016607,
     "end_time": "2022-06-23T03:11:07.792954",
     "exception": false,
     "start_time": "2022-06-23T03:11:07.776347",
     "status": "completed"
    },
    "tags": []
   },
   "outputs": [
    {
     "data": {
      "text/markdown": [
       "- XRP Primed For Huge Shakeup As Ripple Gains Upper Hand In SEC Lawsuit.  The court concurs with Ripple's argument that the SEC was attempting at sealing more than is essential and ordered a letter to be filed by SEC, stating the... ... [| Skaityti daugiau](https://zycrypto.com/xrp-primed-for-huge-shakeup-as-ripple-gains-upper-hand-in-sec-lawsuit/) "
      ],
      "text/plain": [
       "<IPython.core.display.Markdown object>"
      ]
     },
     "execution_count": 5,
     "metadata": {},
     "output_type": "execute_result"
    }
   ],
   "source": [
    "#hide_input\n",
    "#md('##### {}'.format(titleBTC)) \n",
    "md(\"- {}{} {}{} [| Skaityti daugiau]({}) \".format(xrp['title'],'. ', xrp['body'], ' ...', xrp['url']))"
   ]
  },
  {
   "cell_type": "code",
   "execution_count": 6,
   "id": "prompt-farmer",
   "metadata": {
    "execution": {
     "iopub.execute_input": "2022-06-23T03:11:07.815034Z",
     "iopub.status.busy": "2022-06-23T03:11:07.814508Z",
     "iopub.status.idle": "2022-06-23T03:11:07.818184Z",
     "shell.execute_reply": "2022-06-23T03:11:07.817748Z"
    },
    "papermill": {
     "duration": 0.016465,
     "end_time": "2022-06-23T03:11:07.818276",
     "exception": false,
     "start_time": "2022-06-23T03:11:07.801811",
     "status": "completed"
    },
    "tags": []
   },
   "outputs": [
    {
     "data": {
      "text/markdown": [
       "- TRX Technical Analysis: Will Tron Prices Rise Above $0.070?.  TRX price action shows a price jump as the recovery rally surpasses the $0.063 mark. Will the price exceed the overhead resistance to reach $0.070? Key technical points: The TRX market price has decreased 3.37% over the past 24 hours. The price action shows the Doji candle retesting the $0.063 breakout. The 24-hour trading volume of Tron is $675 Million, indicating a drop of 7.85%. Past Performance of TRX The last crypto crash caused a sharp fall in the TRX prices to a minimum of $0.047, accounting for a 45.5% loss. However, the price trend took a bullish turnaround resulting in a recovery rally surpassing the $0.063 mark. However, the higher price rejection in the daily candles displays a retest phase. Source- Tradingview TRX Technical Analysis Today, TRX’s price is up by 1.39% and is teasing a post-retest reversal rally from the $0.063 mark. Hence, traders can find bullish entry spots at the current market prices. MACD indicator: The fast and slow lines showcase a bullish reversal teasing a potential reversal. Hence, traders can find the indicator displaying a buy signal rise of bullish histograms with the new crossover. Bollinger Bands: The price jumps from the lower band, but the upper band takes a harsh toll resulting in a converging phase. RSI indicator: The daily-RSI slope surpasses the oversold area and overtakes the 14-day SMA line. Hence, the indicator displays a gradual rise in the underlying bullishness. In a nutsh... ... [| Skaityti daugiau](https://www.cryptoknowmics.com/news/trx-technical-analysis-will-tron-prices-rise-above-0-070/?utm_source=rss&utm_medium=rss&utm_campaign=trx-technical-analysis-will-tron-prices-rise-above-0-070) "
      ],
      "text/plain": [
       "<IPython.core.display.Markdown object>"
      ]
     },
     "execution_count": 6,
     "metadata": {},
     "output_type": "execute_result"
    }
   ],
   "source": [
    "#hide_input\n",
    "#md('##### {}'.format(titleBTC)) \n",
    "md(\"- {}{} {}{} [| Skaityti daugiau]({}) \".format(trx['title'],'. ', trx['body'], ' ...', trx['url']))"
   ]
  },
  {
   "cell_type": "code",
   "execution_count": 7,
   "id": "illegal-greece",
   "metadata": {
    "execution": {
     "iopub.execute_input": "2022-06-23T03:11:07.841297Z",
     "iopub.status.busy": "2022-06-23T03:11:07.840767Z",
     "iopub.status.idle": "2022-06-23T03:11:07.844275Z",
     "shell.execute_reply": "2022-06-23T03:11:07.843849Z"
    },
    "papermill": {
     "duration": 0.016807,
     "end_time": "2022-06-23T03:11:07.844368",
     "exception": false,
     "start_time": "2022-06-23T03:11:07.827561",
     "status": "completed"
    },
    "tags": []
   },
   "outputs": [
    {
     "data": {
      "text/markdown": [
       "- Bitcoin, Ethereum, Solana, and Polkadot Daily Price Analyses – 22 June Roundup.  The global crypto market has been making desperate attempts to revive value as the market is still turbulent. The changes in the market suggest that Bitcoin, Ethereum, and others might continue to face problems. Though the losses have decreased considerably, there is still a chance of sell-offs. If it continues like this, there is little... ... [| Skaityti daugiau](https://www.cryptopolitan.com/bitcoin-ethereum-solana-and-polkadot-daily-price-analyses-22-june-roundup/) "
      ],
      "text/plain": [
       "<IPython.core.display.Markdown object>"
      ]
     },
     "execution_count": 7,
     "metadata": {},
     "output_type": "execute_result"
    }
   ],
   "source": [
    "#hide_input\n",
    "#md('##### {}'.format(titleBTC)) \n",
    "md(\"- {}{} {}{} [| Skaityti daugiau]({}) \".format(eth['title'],'. ', eth['body'], ' ...', eth['url']))"
   ]
  },
  {
   "cell_type": "code",
   "execution_count": 8,
   "id": "sublime-lounge",
   "metadata": {
    "execution": {
     "iopub.execute_input": "2022-06-23T03:11:07.868739Z",
     "iopub.status.busy": "2022-06-23T03:11:07.867653Z",
     "iopub.status.idle": "2022-06-23T03:11:07.871406Z",
     "shell.execute_reply": "2022-06-23T03:11:07.871918Z"
    },
    "papermill": {
     "duration": 0.017031,
     "end_time": "2022-06-23T03:11:07.872022",
     "exception": false,
     "start_time": "2022-06-23T03:11:07.854991",
     "status": "completed"
    },
    "tags": []
   },
   "outputs": [
    {
     "data": {
      "text/markdown": [
       "- Price analysis 6/22: BTC, ETH, BNB, ADA, XRP, SOL, DOGE, DOT, LEO, SHIB.  BTC and select altcoins attempted a reversal, but are facing heavy selling at higher levels, which is proof that bears remain in control of the wider market.  ... [| Skaityti daugiau](https://cointelegraph.com/news/price-analysis-6-22-btc-eth-bnb-ada-xrp-sol-doge-dot-leo-shib) "
      ],
      "text/plain": [
       "<IPython.core.display.Markdown object>"
      ]
     },
     "execution_count": 8,
     "metadata": {},
     "output_type": "execute_result"
    }
   ],
   "source": [
    "#hide_input\n",
    "#md('##### {}'.format(titleBTC)) \n",
    "md(\"- {}{} {}{} [| Skaityti daugiau]({}) \".format(ada['title'],'. ', ada['body'], ' ...', ada['url']))"
   ]
  },
  {
   "cell_type": "code",
   "execution_count": 9,
   "id": "specified-ordering",
   "metadata": {
    "execution": {
     "iopub.execute_input": "2022-06-23T03:11:07.896390Z",
     "iopub.status.busy": "2022-06-23T03:11:07.895199Z",
     "iopub.status.idle": "2022-06-23T03:11:07.899738Z",
     "shell.execute_reply": "2022-06-23T03:11:07.899314Z"
    },
    "papermill": {
     "duration": 0.018053,
     "end_time": "2022-06-23T03:11:07.899831",
     "exception": false,
     "start_time": "2022-06-23T03:11:07.881778",
     "status": "completed"
    },
    "tags": []
   },
   "outputs": [
    {
     "data": {
      "text/markdown": [
       "- Crypto.com Wins License Approval To Offer Payment Services From Singapore Regulator.  Crypto trading platform Crypto.com has received a license approval from the Monetary Authority of Singapore. Crypto.com is a major exchange looking to expand its operations to the South-East Asia market and eventually globally. This In-Principle Digital Token Payment License that has been given to other companies has helped the the firms offer services in Singapore. [&#8230;] ... [| Skaityti daugiau](https://bitcoinist.com/crypto-com-wins-license-approval/) "
      ],
      "text/plain": [
       "<IPython.core.display.Markdown object>"
      ]
     },
     "execution_count": 9,
     "metadata": {},
     "output_type": "execute_result"
    }
   ],
   "source": [
    "#hide_input\n",
    "#md('##### {}'.format(titleBTC)) \n",
    "md(\"- {}{} {}{} [| Skaityti daugiau]({}) \".format(exchange['title'],'. ', exchange['body'], ' ...', exchange['url']))"
   ]
  },
  {
   "cell_type": "code",
   "execution_count": null,
   "id": "tender-livestock",
   "metadata": {
    "papermill": {
     "duration": 0.010179,
     "end_time": "2022-06-23T03:11:07.920144",
     "exception": false,
     "start_time": "2022-06-23T03:11:07.909965",
     "status": "completed"
    },
    "tags": []
   },
   "outputs": [],
   "source": []
  },
  {
   "cell_type": "code",
   "execution_count": null,
   "id": "appreciated-diamond",
   "metadata": {
    "papermill": {
     "duration": 0.010124,
     "end_time": "2022-06-23T03:11:07.940574",
     "exception": false,
     "start_time": "2022-06-23T03:11:07.930450",
     "status": "completed"
    },
    "tags": []
   },
   "outputs": [],
   "source": []
  },
  {
   "cell_type": "code",
   "execution_count": null,
   "id": "romance-sweden",
   "metadata": {
    "papermill": {
     "duration": 0.010049,
     "end_time": "2022-06-23T03:11:07.960797",
     "exception": false,
     "start_time": "2022-06-23T03:11:07.950748",
     "status": "completed"
    },
    "tags": []
   },
   "outputs": [],
   "source": []
  },
  {
   "cell_type": "code",
   "execution_count": null,
   "id": "dietary-statistics",
   "metadata": {
    "papermill": {
     "duration": 0.010083,
     "end_time": "2022-06-23T03:11:07.981058",
     "exception": false,
     "start_time": "2022-06-23T03:11:07.970975",
     "status": "completed"
    },
    "tags": []
   },
   "outputs": [],
   "source": []
  }
 ],
 "metadata": {
  "kernelspec": {
   "display_name": "Python 3",
   "language": "python",
   "name": "python3"
  },
  "language_info": {
   "codemirror_mode": {
    "name": "ipython",
    "version": 3
   },
   "file_extension": ".py",
   "mimetype": "text/x-python",
   "name": "python",
   "nbconvert_exporter": "python",
   "pygments_lexer": "ipython3",
   "version": "3.6.15"
  },
  "papermill": {
   "default_parameters": {},
   "duration": 12.60776,
   "end_time": "2022-06-23T03:11:08.510580",
   "environment_variables": {},
   "exception": null,
   "input_path": "Market-News.ipynb",
   "output_path": "Market-News.ipynb",
   "parameters": {},
   "start_time": "2022-06-23T03:10:55.902820",
   "version": "2.2.2"
  }
 },
 "nbformat": 4,
 "nbformat_minor": 5
}