{
 "cells": [
  {
   "cell_type": "markdown",
   "id": "short-greensboro",
   "metadata": {
    "papermill": {
     "duration": 0.01705,
     "end_time": "2021-08-31T01:57:33.097971",
     "exception": false,
     "start_time": "2021-08-31T01:57:33.080921",
     "status": "completed"
    },
    "tags": []
   },
   "source": [
    "# Kriptovaliutų naujienos"
   ]
  },
  {
   "cell_type": "code",
   "execution_count": 1,
   "id": "functioning-knowing",
   "metadata": {
    "execution": {
     "iopub.execute_input": "2021-08-31T01:57:33.129524Z",
     "iopub.status.busy": "2021-08-31T01:57:33.128925Z",
     "iopub.status.idle": "2021-08-31T01:57:34.438514Z",
     "shell.execute_reply": "2021-08-31T01:57:34.437147Z"
    },
    "papermill": {
     "duration": 1.330653,
     "end_time": "2021-08-31T01:57:34.438753",
     "exception": false,
     "start_time": "2021-08-31T01:57:33.108100",
     "status": "completed"
    },
    "tags": []
   },
   "outputs": [],
   "source": [
    "#hide_input\n",
    "import warnings\n",
    "warnings.filterwarnings('ignore')\n",
    "from scripts.read_data import read_api\n",
    "from scripts.read_data import read_news\n",
    "from scripts.read_data import read_covid\n",
    "import matplotlib.pyplot as plt \n",
    "from IPython.display import Markdown as md"
   ]
  },
  {
   "cell_type": "code",
   "execution_count": 2,
   "id": "shared-acceptance",
   "metadata": {
    "execution": {
     "iopub.execute_input": "2021-08-31T01:57:34.469109Z",
     "iopub.status.busy": "2021-08-31T01:57:34.468476Z",
     "iopub.status.idle": "2021-08-31T01:57:42.489138Z",
     "shell.execute_reply": "2021-08-31T01:57:42.488668Z"
    },
    "papermill": {
     "duration": 8.038299,
     "end_time": "2021-08-31T01:57:42.489263",
     "exception": false,
     "start_time": "2021-08-31T01:57:34.450964",
     "status": "completed"
    },
    "tags": []
   },
   "outputs": [],
   "source": [
    "#hide_input\n",
    "blockchain = read_news('blockchain') \n",
    "btc = read_news('btc') \n",
    "xrp = read_news('xrp') \n",
    "trx = read_news('trx') \n",
    "eth = read_news('eth')  \n",
    "ada = read_news('ada')\n",
    "exchange = read_news('exchange') "
   ]
  },
  {
   "cell_type": "code",
   "execution_count": 3,
   "id": "synthetic-notion",
   "metadata": {
    "execution": {
     "iopub.execute_input": "2021-08-31T01:57:42.519438Z",
     "iopub.status.busy": "2021-08-31T01:57:42.518808Z",
     "iopub.status.idle": "2021-08-31T01:57:42.521061Z",
     "shell.execute_reply": "2021-08-31T01:57:42.521508Z"
    },
    "papermill": {
     "duration": 0.021611,
     "end_time": "2021-08-31T01:57:42.521637",
     "exception": false,
     "start_time": "2021-08-31T01:57:42.500026",
     "status": "completed"
    },
    "tags": []
   },
   "outputs": [
    {
     "data": {
      "text/markdown": [
       "- Cream Finance Loses $25 Million To A Flash Loan Attack.  PeckShield reported through a tweet of the new hack on Cream Finance. The blockchain security company said a flash loan attack on the decentralized finance lending and borrowing protocol. #FlashLoanAlert https://t.co/JPW7e368qd &#8212; PeckShield Inc. (@peckshield) August 30, 2021 PeckShield explained that the hacking came through a 500 Ethereum flash loan from the attacker. This was used to infiltrate a reentrancy bug in the smart contract of the Flex Network. Usually, flash loans being undercollateralized can be borrowed and repaid within a single transaction. Related Reading &#124; Cryptocurrency Firms In Switzerland To Offer Tokenized Products On Tezos As a DeFi protocol for lending, Cream Finance allows users to earn interest from their deposited assets. Though Cream Finance is a fork of the Compound protocol, its operation is quite different from Compound or Aave. The platform has several more markets for some esoteric digital assets. 1/4 @CreamFinance was exploited in (one hack tx: https://t.co/JPW7e368qd), leading to the gain of ~$18.8M for the hacker. &#8212; PeckShield Inc. (@peckshield) August 30, 2021 This attack on Cream Finance was exploitation involving 1,308 Ethereum and over 418 million AMP, the native token of Flexa Network. According to PechShield, the Ethereum records reveal that over $6 million were hacked at 5:44 UTC. Cream Finance Becomes Another DeFi Protocol Hacked In 2021 Furthermore, the Cream Financ... ... [| Skaityti daugiau](https://www.newsbtc.com/analysis/defi-coins/cream-finance-loses-25-million/) "
      ],
      "text/plain": [
       "<IPython.core.display.Markdown object>"
      ]
     },
     "execution_count": 3,
     "metadata": {},
     "output_type": "execute_result"
    }
   ],
   "source": [
    "#hide_input\n",
    "#md('##### {}'.format(titleBTC)) \n",
    "md(\"- {}{} {}{} [| Skaityti daugiau]({}) \".format(blockchain['title'],'. ', blockchain['body'], ' ...', blockchain['url']))"
   ]
  },
  {
   "cell_type": "code",
   "execution_count": 4,
   "id": "aging-caution",
   "metadata": {
    "execution": {
     "iopub.execute_input": "2021-08-31T01:57:42.548160Z",
     "iopub.status.busy": "2021-08-31T01:57:42.547576Z",
     "iopub.status.idle": "2021-08-31T01:57:42.552081Z",
     "shell.execute_reply": "2021-08-31T01:57:42.551516Z"
    },
    "papermill": {
     "duration": 0.020824,
     "end_time": "2021-08-31T01:57:42.552190",
     "exception": false,
     "start_time": "2021-08-31T01:57:42.531366",
     "status": "completed"
    },
    "tags": []
   },
   "outputs": [
    {
     "data": {
      "text/markdown": [
       "- Bitcoin price analysis: BTC falls by $1,800 in bearish streak.   TL;DR Breakdown Bitcoin price analysis reveals that the king has taken a hard blow of over $1,800.Current support is found at the $46,750 mark.Current resistance is found at the $47,000 mark. Bitcoin price analysis reveals that the king of cryptocurrency has taken a hard blow to fall down over $1,800 in a flashy crash from the $48,600 range. The king of cryptocurrency was showing bearish tendencies since yesterday, and at the time of writing, the price has fallen down to the $46,000 range. The king of cryptocurrency is trading hands for a fluctuating range between $46,750 and $46,880. The market is now seeing bearish crossovers all over the charts. BTC/USD 1-day candlestick chart marked with bearish crossovers The one-day Bitcoin price analysis candlesticks chart is showing the bearish crossovers currently engulfing the cryptocurrency and the market as a whole. The upper Bollinger band is still found above the $50,000 barrier marking the strongest resistance on the chart. The nine-day moving average (SMA 9) is also serving as a bearish crossover at the $48,207 mark, while the current price hovers near the $46,900 mark. BTC/USD 1-day candlestick price chart. Source: Trading View The Bollinger bands&#8217; average is also lingering between the SMA 9 at the $47,498 mark posing as the last bearish crossover on the daily candlesticks chart. The lower Bollinger band is found at the $44303 mark serving as the strongest support mark ... ... [| Skaityti daugiau](https://api.follow.it/track-rss-story-click/v3/tHfgumto13CU3NQZBpRu3KgHTd9OkkKt) "
      ],
      "text/plain": [
       "<IPython.core.display.Markdown object>"
      ]
     },
     "execution_count": 4,
     "metadata": {},
     "output_type": "execute_result"
    }
   ],
   "source": [
    "#hide_input\n",
    "#md('##### {}'.format(titleBTC)) \n",
    "md(\"- {}{} {}{} [| Skaityti daugiau]({}) \".format(btc['title'],'. ', btc['body'], ' ...', btc['url']))"
   ]
  },
  {
   "cell_type": "code",
   "execution_count": 5,
   "id": "organic-actress",
   "metadata": {
    "execution": {
     "iopub.execute_input": "2021-08-31T01:57:42.579588Z",
     "iopub.status.busy": "2021-08-31T01:57:42.579001Z",
     "iopub.status.idle": "2021-08-31T01:57:42.583402Z",
     "shell.execute_reply": "2021-08-31T01:57:42.582857Z"
    },
    "papermill": {
     "duration": 0.02063,
     "end_time": "2021-08-31T01:57:42.583519",
     "exception": false,
     "start_time": "2021-08-31T01:57:42.562889",
     "status": "completed"
    },
    "tags": []
   },
   "outputs": [
    {
     "data": {
      "text/markdown": [
       "- Ripple Fights Back: Seeks to Expose SEC Employees XRP Holdings.  The company’s recent motion cites a five-year window in which SEC members were “free to buy, sell, and hold XRP”. ... [| Skaityti daugiau](https://cryptopotato.com/ripple-fights-back-seeks-to-expose-sec-employees-xrp-holdings/) "
      ],
      "text/plain": [
       "<IPython.core.display.Markdown object>"
      ]
     },
     "execution_count": 5,
     "metadata": {},
     "output_type": "execute_result"
    }
   ],
   "source": [
    "#hide_input\n",
    "#md('##### {}'.format(titleBTC)) \n",
    "md(\"- {}{} {}{} [| Skaityti daugiau]({}) \".format(xrp['title'],'. ', xrp['body'], ' ...', xrp['url']))"
   ]
  },
  {
   "cell_type": "code",
   "execution_count": 6,
   "id": "prompt-farmer",
   "metadata": {
    "execution": {
     "iopub.execute_input": "2021-08-31T01:57:42.614599Z",
     "iopub.status.busy": "2021-08-31T01:57:42.614058Z",
     "iopub.status.idle": "2021-08-31T01:57:42.617609Z",
     "shell.execute_reply": "2021-08-31T01:57:42.618175Z"
    },
    "papermill": {
     "duration": 0.023231,
     "end_time": "2021-08-31T01:57:42.618315",
     "exception": false,
     "start_time": "2021-08-31T01:57:42.595084",
     "status": "completed"
    },
    "tags": []
   },
   "outputs": [
    {
     "data": {
      "text/markdown": [
       "- Bitcoin Cash, Tron, Filecoin Price Analysis: 28 August.  Bitcoin and Ethereum’s price action impacted most altcoins positively. Some altcoins, however, showed consolidation despite broader market gains. Filecoin, for instance, gained minorly and observed range-bound movement between $75.17 and $70.01 price levels. Bitcoin Cash gained 3.5% and could test the $672.68 price ceiling while TRON presented a buy signal after gaining by 3.3%. Bitcoin [&#8230;] ... [| Skaityti daugiau](https://ambcrypto.com/bitcoin-cash-tron-filecoin-price-analysis-28-august/) "
      ],
      "text/plain": [
       "<IPython.core.display.Markdown object>"
      ]
     },
     "execution_count": 6,
     "metadata": {},
     "output_type": "execute_result"
    }
   ],
   "source": [
    "#hide_input\n",
    "#md('##### {}'.format(titleBTC)) \n",
    "md(\"- {}{} {}{} [| Skaityti daugiau]({}) \".format(trx['title'],'. ', trx['body'], ' ...', trx['url']))"
   ]
  },
  {
   "cell_type": "code",
   "execution_count": 7,
   "id": "illegal-greece",
   "metadata": {
    "execution": {
     "iopub.execute_input": "2021-08-31T01:57:42.644811Z",
     "iopub.status.busy": "2021-08-31T01:57:42.643832Z",
     "iopub.status.idle": "2021-08-31T01:57:42.648010Z",
     "shell.execute_reply": "2021-08-31T01:57:42.647519Z"
    },
    "papermill": {
     "duration": 0.018554,
     "end_time": "2021-08-31T01:57:42.648120",
     "exception": false,
     "start_time": "2021-08-31T01:57:42.629566",
     "status": "completed"
    },
    "tags": []
   },
   "outputs": [
    {
     "data": {
      "text/markdown": [
       "- Treasury Wants Crypto Reporting Rules in $3.5 Trillion Reconciliation Bill: Report.  Like the provision in the $1 trillion infrastructure bill, this is all about clamping down on tax evasion. ... [| Skaityti daugiau](https://decrypt.co/79823/treasury-wants-crypto-reporting-rules-trillion-reconciliation-bill-report) "
      ],
      "text/plain": [
       "<IPython.core.display.Markdown object>"
      ]
     },
     "execution_count": 7,
     "metadata": {},
     "output_type": "execute_result"
    }
   ],
   "source": [
    "#hide_input\n",
    "#md('##### {}'.format(titleBTC)) \n",
    "md(\"- {}{} {}{} [| Skaityti daugiau]({}) \".format(eth['title'],'. ', eth['body'], ' ...', eth['url']))"
   ]
  },
  {
   "cell_type": "code",
   "execution_count": 8,
   "id": "sublime-lounge",
   "metadata": {
    "execution": {
     "iopub.execute_input": "2021-08-31T01:57:42.679893Z",
     "iopub.status.busy": "2021-08-31T01:57:42.678995Z",
     "iopub.status.idle": "2021-08-31T01:57:42.682967Z",
     "shell.execute_reply": "2021-08-31T01:57:42.682507Z"
    },
    "papermill": {
     "duration": 0.023179,
     "end_time": "2021-08-31T01:57:42.683078",
     "exception": false,
     "start_time": "2021-08-31T01:57:42.659899",
     "status": "completed"
    },
    "tags": []
   },
   "outputs": [
    {
     "data": {
      "text/markdown": [
       "- Here Are the Breakout Targets for Ethereum, Cardano, XRP and Four Altcoins, According to Analyst Scott Melker.  Prominent crypto strategist and trader Scott Melker is keeping a close eye on seven altcoins that he says are threatening to take out their immediate resistance levels. In a new strategy session, Melker tells his 83,000 YouTube subscribers that he&#8217;s watching the price action of ETH as it looks to exhaust sellers at $3,330. &#8220;But [&#8230;]The post Here Are the Breakout Targets for Ethereum, Cardano, XRP and Four Altcoins, According to Analyst Scott Melker appeared first on The Daily Hodl. ... [| Skaityti daugiau](https://dailyhodl.com/2021/08/30/here-are-the-breakout-targets-for-ethereum-cardano-xrp-and-four-altcoins-according-to-analyst-scott-melker/) "
      ],
      "text/plain": [
       "<IPython.core.display.Markdown object>"
      ]
     },
     "execution_count": 8,
     "metadata": {},
     "output_type": "execute_result"
    }
   ],
   "source": [
    "#hide_input\n",
    "#md('##### {}'.format(titleBTC)) \n",
    "md(\"- {}{} {}{} [| Skaityti daugiau]({}) \".format(ada['title'],'. ', ada['body'], ' ...', ada['url']))"
   ]
  },
  {
   "cell_type": "code",
   "execution_count": 9,
   "id": "specified-ordering",
   "metadata": {
    "execution": {
     "iopub.execute_input": "2021-08-31T01:57:42.714254Z",
     "iopub.status.busy": "2021-08-31T01:57:42.713674Z",
     "iopub.status.idle": "2021-08-31T01:57:42.716599Z",
     "shell.execute_reply": "2021-08-31T01:57:42.716145Z"
    },
    "papermill": {
     "duration": 0.020206,
     "end_time": "2021-08-31T01:57:42.716723",
     "exception": false,
     "start_time": "2021-08-31T01:57:42.696517",
     "status": "completed"
    },
    "tags": []
   },
   "outputs": [
    {
     "data": {
      "text/markdown": [
       "- XRP lawsuit outcome may depend on this ‘when and if’ scenario.  Ripple Labs&#8217; legal battle with the US Securities and Exchange Commission (SEC) seems to evolve with every motion filed. However, in spite of a new angle emerging ever so often, there is a growing feeling among the XRP community that a settlement may be on the horizon. As reported earlier, the San Francisco-based fintech firm [&#8230;] ... [| Skaityti daugiau](https://ambcrypto.com/xrp-lawsuit-outcome-may-depend-on-this-when-and-if-scenario/) "
      ],
      "text/plain": [
       "<IPython.core.display.Markdown object>"
      ]
     },
     "execution_count": 9,
     "metadata": {},
     "output_type": "execute_result"
    }
   ],
   "source": [
    "#hide_input\n",
    "#md('##### {}'.format(titleBTC)) \n",
    "md(\"- {}{} {}{} [| Skaityti daugiau]({}) \".format(exchange['title'],'. ', exchange['body'], ' ...', exchange['url']))"
   ]
  },
  {
   "cell_type": "code",
   "execution_count": null,
   "id": "tender-livestock",
   "metadata": {
    "papermill": {
     "duration": 0.012838,
     "end_time": "2021-08-31T01:57:42.741971",
     "exception": false,
     "start_time": "2021-08-31T01:57:42.729133",
     "status": "completed"
    },
    "tags": []
   },
   "outputs": [],
   "source": []
  },
  {
   "cell_type": "code",
   "execution_count": null,
   "id": "appreciated-diamond",
   "metadata": {
    "papermill": {
     "duration": 0.012471,
     "end_time": "2021-08-31T01:57:42.767399",
     "exception": false,
     "start_time": "2021-08-31T01:57:42.754928",
     "status": "completed"
    },
    "tags": []
   },
   "outputs": [],
   "source": []
  },
  {
   "cell_type": "code",
   "execution_count": null,
   "id": "romance-sweden",
   "metadata": {
    "papermill": {
     "duration": 0.012357,
     "end_time": "2021-08-31T01:57:42.791938",
     "exception": false,
     "start_time": "2021-08-31T01:57:42.779581",
     "status": "completed"
    },
    "tags": []
   },
   "outputs": [],
   "source": []
  },
  {
   "cell_type": "code",
   "execution_count": null,
   "id": "dietary-statistics",
   "metadata": {
    "papermill": {
     "duration": 0.014025,
     "end_time": "2021-08-31T01:57:42.818160",
     "exception": false,
     "start_time": "2021-08-31T01:57:42.804135",
     "status": "completed"
    },
    "tags": []
   },
   "outputs": [],
   "source": []
  }
 ],
 "metadata": {
  "kernelspec": {
   "display_name": "Python 3",
   "language": "python",
   "name": "python3"
  },
  "language_info": {
   "codemirror_mode": {
    "name": "ipython",
    "version": 3
   },
   "file_extension": ".py",
   "mimetype": "text/x-python",
   "name": "python",
   "nbconvert_exporter": "python",
   "pygments_lexer": "ipython3",
   "version": "3.6.14"
  },
  "papermill": {
   "default_parameters": {},
   "duration": 11.219565,
   "end_time": "2021-08-31T01:57:43.238954",
   "environment_variables": {},
   "exception": null,
   "input_path": "Market-News.ipynb",
   "output_path": "Market-News.ipynb",
   "parameters": {},
   "start_time": "2021-08-31T01:57:32.019389",
   "version": "2.2.2"
  }
 },
 "nbformat": 4,
 "nbformat_minor": 5
}