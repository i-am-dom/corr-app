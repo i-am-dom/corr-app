{
 "cells": [
  {
   "cell_type": "markdown",
   "id": "short-greensboro",
   "metadata": {
    "papermill": {
     "duration": 0.013559,
     "end_time": "2022-08-09T03:16:14.974045",
     "exception": false,
     "start_time": "2022-08-09T03:16:14.960486",
     "status": "completed"
    },
    "tags": []
   },
   "source": [
    "# Kriptovaliutų naujienos"
   ]
  },
  {
   "cell_type": "code",
   "execution_count": 1,
   "id": "functioning-knowing",
   "metadata": {
    "execution": {
     "iopub.execute_input": "2022-08-09T03:16:15.005784Z",
     "iopub.status.busy": "2022-08-09T03:16:15.005152Z",
     "iopub.status.idle": "2022-08-09T03:16:16.302046Z",
     "shell.execute_reply": "2022-08-09T03:16:16.301380Z"
    },
    "papermill": {
     "duration": 1.316816,
     "end_time": "2022-08-09T03:16:16.302223",
     "exception": false,
     "start_time": "2022-08-09T03:16:14.985407",
     "status": "completed"
    },
    "tags": []
   },
   "outputs": [],
   "source": [
    "#hide_input\n",
    "import warnings\n",
    "warnings.filterwarnings('ignore')\n",
    "from scripts.read_data import read_api\n",
    "from scripts.read_data import read_news\n",
    "from scripts.read_data import read_covid\n",
    "import matplotlib.pyplot as plt \n",
    "from IPython.display import Markdown as md"
   ]
  },
  {
   "cell_type": "code",
   "execution_count": 2,
   "id": "shared-acceptance",
   "metadata": {
    "execution": {
     "iopub.execute_input": "2022-08-09T03:16:16.329754Z",
     "iopub.status.busy": "2022-08-09T03:16:16.329143Z",
     "iopub.status.idle": "2022-08-09T03:16:27.213169Z",
     "shell.execute_reply": "2022-08-09T03:16:27.212252Z"
    },
    "papermill": {
     "duration": 10.900672,
     "end_time": "2022-08-09T03:16:27.213320",
     "exception": false,
     "start_time": "2022-08-09T03:16:16.312648",
     "status": "completed"
    },
    "tags": []
   },
   "outputs": [],
   "source": [
    "#hide_input\n",
    "blockchain = read_news('blockchain') \n",
    "btc = read_news('btc') \n",
    "xrp = read_news('xrp') \n",
    "trx = read_news('trx') \n",
    "eth = read_news('eth')  \n",
    "ada = read_news('ada')\n",
    "exchange = read_news('exchange') "
   ]
  },
  {
   "cell_type": "code",
   "execution_count": 3,
   "id": "synthetic-notion",
   "metadata": {
    "execution": {
     "iopub.execute_input": "2022-08-09T03:16:27.240046Z",
     "iopub.status.busy": "2022-08-09T03:16:27.239426Z",
     "iopub.status.idle": "2022-08-09T03:16:27.242726Z",
     "shell.execute_reply": "2022-08-09T03:16:27.243274Z"
    },
    "papermill": {
     "duration": 0.020581,
     "end_time": "2022-08-09T03:16:27.243419",
     "exception": false,
     "start_time": "2022-08-09T03:16:27.222838",
     "status": "completed"
    },
    "tags": []
   },
   "outputs": [
    {
     "data": {
      "text/markdown": [
       "- US Sanctions On Popular Ethereum Mixer Tornado Cash.  The US Treasury Department sanctioned Tornado Cash, which attackers used to make it difficult to track assets in hacking events. From Axie Infinity to Harmony, from Parity wallet to BitMart stock market hacks, Tornado Cash is the protocol most used by hackers in every case of cyber theft from thousands of dollars to hundreds of [&#8230;] ... [| Skaityti daugiau](https://coinnounce.com/us-sanctions-on-popular-ethereum-mixer-tornado-cash/) "
      ],
      "text/plain": [
       "<IPython.core.display.Markdown object>"
      ]
     },
     "execution_count": 3,
     "metadata": {},
     "output_type": "execute_result"
    }
   ],
   "source": [
    "#hide_input\n",
    "#md('##### {}'.format(titleBTC)) \n",
    "md(\"- {}{} {}{} [| Skaityti daugiau]({}) \".format(blockchain['title'],'. ', blockchain['body'], ' ...', blockchain['url']))"
   ]
  },
  {
   "cell_type": "code",
   "execution_count": 4,
   "id": "aging-caution",
   "metadata": {
    "execution": {
     "iopub.execute_input": "2022-08-09T03:16:27.272941Z",
     "iopub.status.busy": "2022-08-09T03:16:27.272268Z",
     "iopub.status.idle": "2022-08-09T03:16:27.276199Z",
     "shell.execute_reply": "2022-08-09T03:16:27.275743Z"
    },
    "papermill": {
     "duration": 0.019213,
     "end_time": "2022-08-09T03:16:27.276346",
     "exception": false,
     "start_time": "2022-08-09T03:16:27.257133",
     "status": "completed"
    },
    "tags": []
   },
   "outputs": [
    {
     "data": {
      "text/markdown": [
       "- Bitcoin Is Money. Central Bank Digital Currencies Are Not..  CBDCs are a form of social control, while Bitcoin represents hope for a more equitable human future based on the universal constant of 21 million. ... [| Skaityti daugiau](https://bitcoinmagazine.com/markets/bitcoin-is-money-but-cbdcs-are-not) "
      ],
      "text/plain": [
       "<IPython.core.display.Markdown object>"
      ]
     },
     "execution_count": 4,
     "metadata": {},
     "output_type": "execute_result"
    }
   ],
   "source": [
    "#hide_input\n",
    "#md('##### {}'.format(titleBTC)) \n",
    "md(\"- {}{} {}{} [| Skaityti daugiau]({}) \".format(btc['title'],'. ', btc['body'], ' ...', btc['url']))"
   ]
  },
  {
   "cell_type": "code",
   "execution_count": 5,
   "id": "organic-actress",
   "metadata": {
    "execution": {
     "iopub.execute_input": "2022-08-09T03:16:27.302248Z",
     "iopub.status.busy": "2022-08-09T03:16:27.301649Z",
     "iopub.status.idle": "2022-08-09T03:16:27.304726Z",
     "shell.execute_reply": "2022-08-09T03:16:27.305281Z"
    },
    "papermill": {
     "duration": 0.019244,
     "end_time": "2022-08-09T03:16:27.305419",
     "exception": false,
     "start_time": "2022-08-09T03:16:27.286175",
     "status": "completed"
    },
    "tags": []
   },
   "outputs": [
    {
     "data": {
      "text/markdown": [
       "- Ripple Named Among Best Medium Workplaces by Fortune Magazine.  Fortune has recognized Ripple, a prominent blockchain company, as one of the best medium workplaces once again  ... [| Skaityti daugiau](https://u.today/ripple-named-among-best-medium-workplaces-by-fortune-magazine) "
      ],
      "text/plain": [
       "<IPython.core.display.Markdown object>"
      ]
     },
     "execution_count": 5,
     "metadata": {},
     "output_type": "execute_result"
    }
   ],
   "source": [
    "#hide_input\n",
    "#md('##### {}'.format(titleBTC)) \n",
    "md(\"- {}{} {}{} [| Skaityti daugiau]({}) \".format(xrp['title'],'. ', xrp['body'], ' ...', xrp['url']))"
   ]
  },
  {
   "cell_type": "code",
   "execution_count": 6,
   "id": "prompt-farmer",
   "metadata": {
    "execution": {
     "iopub.execute_input": "2022-08-09T03:16:27.332308Z",
     "iopub.status.busy": "2022-08-09T03:16:27.331594Z",
     "iopub.status.idle": "2022-08-09T03:16:27.335862Z",
     "shell.execute_reply": "2022-08-09T03:16:27.335414Z"
    },
    "papermill": {
     "duration": 0.020421,
     "end_time": "2022-08-09T03:16:27.335979",
     "exception": false,
     "start_time": "2022-08-09T03:16:27.315558",
     "status": "completed"
    },
    "tags": []
   },
   "outputs": [
    {
     "data": {
      "text/markdown": [
       "- Tron Founder Justin Sun Says His Crypto Exchange Poloniex Will Support All Future Forked Ethereum Tokens: Report.  The founder and former chief executive of smart contract platform Tron (TRX) is reportedly saying that his crypto exchange will support all future forked Ethereum (ETH) tokens. According to a new report by Bloomberg, Sun says that Poloniex, a crypto exchange he heavily backed in 2019, will list any proof of work versions of Ethereum [&#8230;]The post Tron Founder Justin Sun Says His Crypto Exchange Poloniex Will Support All Future Forked Ethereum Tokens: Report appeared first on The Daily Hodl. ... [| Skaityti daugiau](https://dailyhodl.com/2022/08/08/tron-founder-justin-sun-says-his-crypto-exchange-poloniex-will-support-all-future-forked-ethereum-tokens-report/) "
      ],
      "text/plain": [
       "<IPython.core.display.Markdown object>"
      ]
     },
     "execution_count": 6,
     "metadata": {},
     "output_type": "execute_result"
    }
   ],
   "source": [
    "#hide_input\n",
    "#md('##### {}'.format(titleBTC)) \n",
    "md(\"- {}{} {}{} [| Skaityti daugiau]({}) \".format(trx['title'],'. ', trx['body'], ' ...', trx['url']))"
   ]
  },
  {
   "cell_type": "code",
   "execution_count": 7,
   "id": "illegal-greece",
   "metadata": {
    "execution": {
     "iopub.execute_input": "2022-08-09T03:16:27.366987Z",
     "iopub.status.busy": "2022-08-09T03:16:27.366392Z",
     "iopub.status.idle": "2022-08-09T03:16:27.369810Z",
     "shell.execute_reply": "2022-08-09T03:16:27.369338Z"
    },
    "papermill": {
     "duration": 0.023396,
     "end_time": "2022-08-09T03:16:27.369923",
     "exception": false,
     "start_time": "2022-08-09T03:16:27.346527",
     "status": "completed"
    },
    "tags": []
   },
   "outputs": [
    {
     "data": {
      "text/markdown": [
       "- US Sanctions On Popular Ethereum Mixer Tornado Cash.  The US Treasury Department sanctioned Tornado Cash, which attackers used to make it difficult to track assets in hacking events. From Axie Infinity to Harmony, from Parity wallet to BitMart stock market hacks, Tornado Cash is the protocol most used by hackers in every case of cyber theft from thousands of dollars to hundreds of [&#8230;] ... [| Skaityti daugiau](https://coinnounce.com/us-sanctions-on-popular-ethereum-mixer-tornado-cash/) "
      ],
      "text/plain": [
       "<IPython.core.display.Markdown object>"
      ]
     },
     "execution_count": 7,
     "metadata": {},
     "output_type": "execute_result"
    }
   ],
   "source": [
    "#hide_input\n",
    "#md('##### {}'.format(titleBTC)) \n",
    "md(\"- {}{} {}{} [| Skaityti daugiau]({}) \".format(eth['title'],'. ', eth['body'], ' ...', eth['url']))"
   ]
  },
  {
   "cell_type": "code",
   "execution_count": 8,
   "id": "sublime-lounge",
   "metadata": {
    "execution": {
     "iopub.execute_input": "2022-08-09T03:16:27.398227Z",
     "iopub.status.busy": "2022-08-09T03:16:27.397638Z",
     "iopub.status.idle": "2022-08-09T03:16:27.401370Z",
     "shell.execute_reply": "2022-08-09T03:16:27.400888Z"
    },
    "papermill": {
     "duration": 0.019564,
     "end_time": "2022-08-09T03:16:27.401481",
     "exception": false,
     "start_time": "2022-08-09T03:16:27.381917",
     "status": "completed"
    },
    "tags": []
   },
   "outputs": [
    {
     "data": {
      "text/markdown": [
       "- Big Cardano Holders Gobble Up $138,000 ADA.  New data from a prominent crypto analytics firm shows how much Carano whales and sharks have feasted on ADA over eight days. According to Santiment, oversized Cardano owners have gobbled up hundreds of millions of dollars of the smart contract platform&#8217;s native asset in just over a week. &#8220;Cardano Shark and Whale addresses have collectively [&#8230;] ... [| Skaityti daugiau](https://coinnounce.com/big-cardano-holders-gobble-up-138000-ada/) "
      ],
      "text/plain": [
       "<IPython.core.display.Markdown object>"
      ]
     },
     "execution_count": 8,
     "metadata": {},
     "output_type": "execute_result"
    }
   ],
   "source": [
    "#hide_input\n",
    "#md('##### {}'.format(titleBTC)) \n",
    "md(\"- {}{} {}{} [| Skaityti daugiau]({}) \".format(ada['title'],'. ', ada['body'], ' ...', ada['url']))"
   ]
  },
  {
   "cell_type": "code",
   "execution_count": 9,
   "id": "specified-ordering",
   "metadata": {
    "execution": {
     "iopub.execute_input": "2022-08-09T03:16:27.426988Z",
     "iopub.status.busy": "2022-08-09T03:16:27.426389Z",
     "iopub.status.idle": "2022-08-09T03:16:27.432175Z",
     "shell.execute_reply": "2022-08-09T03:16:27.432631Z"
    },
    "papermill": {
     "duration": 0.020142,
     "end_time": "2022-08-09T03:16:27.432774",
     "exception": false,
     "start_time": "2022-08-09T03:16:27.412632",
     "status": "completed"
    },
    "tags": []
   },
   "outputs": [
    {
     "data": {
      "text/markdown": [
       "- LBank Exchange Will List Drive Crypto (DRIVECRYPTO) on August 9, 2022.  PRESS RELEASE. INTERNET CITY, DUBAI, Aug. 8, 2022 &#x2013; LBank Exchange, a global digital asset trading platform, will list Drive Crypto (DRIVECRYPTO) on August 9, 2022. For all users of LBank Exchange, the DRIVECRYPTO/USDT trading pair will be officially available for trading at 23:00 (UTC+8) on August 9, 2022. As the first web3 mobility App [&#8230;] ... [| Skaityti daugiau](https://news.bitcoin.com/lbank-exchange-will-list-drive-crypto-drivecrypto-on-august-9-2022/) "
      ],
      "text/plain": [
       "<IPython.core.display.Markdown object>"
      ]
     },
     "execution_count": 9,
     "metadata": {},
     "output_type": "execute_result"
    }
   ],
   "source": [
    "#hide_input\n",
    "#md('##### {}'.format(titleBTC)) \n",
    "md(\"- {}{} {}{} [| Skaityti daugiau]({}) \".format(exchange['title'],'. ', exchange['body'], ' ...', exchange['url']))"
   ]
  },
  {
   "cell_type": "code",
   "execution_count": null,
   "id": "tender-livestock",
   "metadata": {
    "papermill": {
     "duration": 0.011422,
     "end_time": "2022-08-09T03:16:27.455600",
     "exception": false,
     "start_time": "2022-08-09T03:16:27.444178",
     "status": "completed"
    },
    "tags": []
   },
   "outputs": [],
   "source": []
  },
  {
   "cell_type": "code",
   "execution_count": null,
   "id": "appreciated-diamond",
   "metadata": {
    "papermill": {
     "duration": 0.011296,
     "end_time": "2022-08-09T03:16:27.478381",
     "exception": false,
     "start_time": "2022-08-09T03:16:27.467085",
     "status": "completed"
    },
    "tags": []
   },
   "outputs": [],
   "source": []
  },
  {
   "cell_type": "code",
   "execution_count": null,
   "id": "romance-sweden",
   "metadata": {
    "papermill": {
     "duration": 0.011239,
     "end_time": "2022-08-09T03:16:27.500884",
     "exception": false,
     "start_time": "2022-08-09T03:16:27.489645",
     "status": "completed"
    },
    "tags": []
   },
   "outputs": [],
   "source": []
  },
  {
   "cell_type": "code",
   "execution_count": null,
   "id": "dietary-statistics",
   "metadata": {
    "papermill": {
     "duration": 0.011298,
     "end_time": "2022-08-09T03:16:27.523532",
     "exception": false,
     "start_time": "2022-08-09T03:16:27.512234",
     "status": "completed"
    },
    "tags": []
   },
   "outputs": [],
   "source": []
  }
 ],
 "metadata": {
  "kernelspec": {
   "display_name": "Python 3",
   "language": "python",
   "name": "python3"
  },
  "language_info": {
   "codemirror_mode": {
    "name": "ipython",
    "version": 3
   },
   "file_extension": ".py",
   "mimetype": "text/x-python",
   "name": "python",
   "nbconvert_exporter": "python",
   "pygments_lexer": "ipython3",
   "version": "3.6.15"
  },
  "papermill": {
   "default_parameters": {},
   "duration": 14.433999,
   "end_time": "2022-08-09T03:16:28.155114",
   "environment_variables": {},
   "exception": null,
   "input_path": "Market-News.ipynb",
   "output_path": "Market-News.ipynb",
   "parameters": {},
   "start_time": "2022-08-09T03:16:13.721115",
   "version": "2.2.2"
  }
 },
 "nbformat": 4,
 "nbformat_minor": 5
}