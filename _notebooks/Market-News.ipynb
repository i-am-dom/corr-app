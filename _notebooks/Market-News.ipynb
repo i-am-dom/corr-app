{
 "cells": [
  {
   "cell_type": "markdown",
   "id": "short-greensboro",
   "metadata": {
    "papermill": {
     "duration": 0.01276,
     "end_time": "2022-06-25T03:10:33.739930",
     "exception": false,
     "start_time": "2022-06-25T03:10:33.727170",
     "status": "completed"
    },
    "tags": []
   },
   "source": [
    "# Kriptovaliutų naujienos"
   ]
  },
  {
   "cell_type": "code",
   "execution_count": 1,
   "id": "functioning-knowing",
   "metadata": {
    "execution": {
     "iopub.execute_input": "2022-06-25T03:10:33.768863Z",
     "iopub.status.busy": "2022-06-25T03:10:33.766683Z",
     "iopub.status.idle": "2022-06-25T03:10:34.922187Z",
     "shell.execute_reply": "2022-06-25T03:10:34.921693Z"
    },
    "papermill": {
     "duration": 1.172598,
     "end_time": "2022-06-25T03:10:34.922316",
     "exception": false,
     "start_time": "2022-06-25T03:10:33.749718",
     "status": "completed"
    },
    "tags": []
   },
   "outputs": [],
   "source": [
    "#hide_input\n",
    "import warnings\n",
    "warnings.filterwarnings('ignore')\n",
    "from scripts.read_data import read_api\n",
    "from scripts.read_data import read_news\n",
    "from scripts.read_data import read_covid\n",
    "import matplotlib.pyplot as plt \n",
    "from IPython.display import Markdown as md"
   ]
  },
  {
   "cell_type": "code",
   "execution_count": 2,
   "id": "shared-acceptance",
   "metadata": {
    "execution": {
     "iopub.execute_input": "2022-06-25T03:10:34.947286Z",
     "iopub.status.busy": "2022-06-25T03:10:34.946324Z",
     "iopub.status.idle": "2022-06-25T03:10:49.435365Z",
     "shell.execute_reply": "2022-06-25T03:10:49.434539Z"
    },
    "papermill": {
     "duration": 14.503692,
     "end_time": "2022-06-25T03:10:49.435486",
     "exception": false,
     "start_time": "2022-06-25T03:10:34.931794",
     "status": "completed"
    },
    "tags": []
   },
   "outputs": [],
   "source": [
    "#hide_input\n",
    "blockchain = read_news('blockchain') \n",
    "btc = read_news('btc') \n",
    "xrp = read_news('xrp') \n",
    "trx = read_news('trx') \n",
    "eth = read_news('eth')  \n",
    "ada = read_news('ada')\n",
    "exchange = read_news('exchange') "
   ]
  },
  {
   "cell_type": "code",
   "execution_count": 3,
   "id": "synthetic-notion",
   "metadata": {
    "execution": {
     "iopub.execute_input": "2022-06-25T03:10:49.460482Z",
     "iopub.status.busy": "2022-06-25T03:10:49.459910Z",
     "iopub.status.idle": "2022-06-25T03:10:49.465350Z",
     "shell.execute_reply": "2022-06-25T03:10:49.464893Z"
    },
    "papermill": {
     "duration": 0.020426,
     "end_time": "2022-06-25T03:10:49.465455",
     "exception": false,
     "start_time": "2022-06-25T03:10:49.445029",
     "status": "completed"
    },
    "tags": []
   },
   "outputs": [
    {
     "data": {
      "text/markdown": [
       "- Chia Coin Price Prediction 2022-2031: Is XCH a Good Investment?.  Along with the invention of cryptocurrencies emerged the concept of crypto mining &#8211; the process by which new crypto tokens are generated, and crypto transactions are verified on a blockchain. Mining is an integral part of blockchain operations, and how it occurs varies from one consensus algorithm to the other. For instance, Bitcoin mining is... ... [| Skaityti daugiau](https://www.cryptopolitan.com/chia-coin-price-prediction/) "
      ],
      "text/plain": [
       "<IPython.core.display.Markdown object>"
      ]
     },
     "execution_count": 3,
     "metadata": {},
     "output_type": "execute_result"
    }
   ],
   "source": [
    "#hide_input\n",
    "#md('##### {}'.format(titleBTC)) \n",
    "md(\"- {}{} {}{} [| Skaityti daugiau]({}) \".format(blockchain['title'],'. ', blockchain['body'], ' ...', blockchain['url']))"
   ]
  },
  {
   "cell_type": "code",
   "execution_count": 4,
   "id": "aging-caution",
   "metadata": {
    "execution": {
     "iopub.execute_input": "2022-06-25T03:10:49.489165Z",
     "iopub.status.busy": "2022-06-25T03:10:49.488594Z",
     "iopub.status.idle": "2022-06-25T03:10:49.493569Z",
     "shell.execute_reply": "2022-06-25T03:10:49.493134Z"
    },
    "papermill": {
     "duration": 0.018599,
     "end_time": "2022-06-25T03:10:49.493671",
     "exception": false,
     "start_time": "2022-06-25T03:10:49.475072",
     "status": "completed"
    },
    "tags": []
   },
   "outputs": [
    {
     "data": {
      "text/markdown": [
       "- Saylor Junior: A Bitcoin Pleb-Level Speculative Attack.  A short look at the math behind loans might show the benefit of loans versus the classic dollar-cost average strategy. ... [| Skaityti daugiau](https://bitcoinmagazine.com/markets/bitcoin-saylor-speculative-attack) "
      ],
      "text/plain": [
       "<IPython.core.display.Markdown object>"
      ]
     },
     "execution_count": 4,
     "metadata": {},
     "output_type": "execute_result"
    }
   ],
   "source": [
    "#hide_input\n",
    "#md('##### {}'.format(titleBTC)) \n",
    "md(\"- {}{} {}{} [| Skaityti daugiau]({}) \".format(btc['title'],'. ', btc['body'], ' ...', btc['url']))"
   ]
  },
  {
   "cell_type": "code",
   "execution_count": 5,
   "id": "organic-actress",
   "metadata": {
    "execution": {
     "iopub.execute_input": "2022-06-25T03:10:49.519739Z",
     "iopub.status.busy": "2022-06-25T03:10:49.518681Z",
     "iopub.status.idle": "2022-06-25T03:10:49.522013Z",
     "shell.execute_reply": "2022-06-25T03:10:49.521572Z"
    },
    "papermill": {
     "duration": 0.018631,
     "end_time": "2022-06-25T03:10:49.522115",
     "exception": false,
     "start_time": "2022-06-25T03:10:49.503484",
     "status": "completed"
    },
    "tags": []
   },
   "outputs": [
    {
     "data": {
      "text/markdown": [
       "- Several Trading Platforms Are Now Battling Cryptocurrency’s Liquidity Issue.  An industry spread selloff in digital assets from significant exchanges and the fall of highly rated tokens like TerraUSD and Luna have triggered ripple effects across the crypto industry. The recent mass crypto liquidation wave has triggered fear of contagion risks. Major DeFi lenders Celsius Network and Babel Finance froze withdrawals, and Three Arrows Capital, [&#8230;]The post Several Trading Platforms Are Now Battling Cryptocurrency’s Liquidity Issue appeared first on NullTX. ... [| Skaityti daugiau](https://nulltx.com/several-trading-platforms-are-now-battling-cryptocurrencys-liquidity-issue/) "
      ],
      "text/plain": [
       "<IPython.core.display.Markdown object>"
      ]
     },
     "execution_count": 5,
     "metadata": {},
     "output_type": "execute_result"
    }
   ],
   "source": [
    "#hide_input\n",
    "#md('##### {}'.format(titleBTC)) \n",
    "md(\"- {}{} {}{} [| Skaityti daugiau]({}) \".format(xrp['title'],'. ', xrp['body'], ' ...', xrp['url']))"
   ]
  },
  {
   "cell_type": "code",
   "execution_count": 6,
   "id": "prompt-farmer",
   "metadata": {
    "execution": {
     "iopub.execute_input": "2022-06-25T03:10:49.548312Z",
     "iopub.status.busy": "2022-06-25T03:10:49.547733Z",
     "iopub.status.idle": "2022-06-25T03:10:49.550491Z",
     "shell.execute_reply": "2022-06-25T03:10:49.550929Z"
    },
    "papermill": {
     "duration": 0.018725,
     "end_time": "2022-06-25T03:10:49.551044",
     "exception": false,
     "start_time": "2022-06-25T03:10:49.532319",
     "status": "completed"
    },
    "tags": []
   },
   "outputs": [
    {
     "data": {
      "text/markdown": [
       "- MAXUSDT (TRX) – Simplifies Crypto Mining for Crypto Miners.  Evolution of Mining At the beginning stages of Bitcoin in the early 2000s, individuals interested in cryptocurrency mining were able to do so using their personal computers. As its popularity increased, so did the difficulty of mining. To accommodate the growing level of difficulty, more computer processing power was required. Soon, miners used gaming computers [&#8230;]The post MAXUSDT (TRX) &#8211; Simplifies Crypto Mining for Crypto Miners appeared first on NullTX. ... [| Skaityti daugiau](https://nulltx.com/maxusdt-trx-simplifies-crypto-mining-for-crypto-miners/) "
      ],
      "text/plain": [
       "<IPython.core.display.Markdown object>"
      ]
     },
     "execution_count": 6,
     "metadata": {},
     "output_type": "execute_result"
    }
   ],
   "source": [
    "#hide_input\n",
    "#md('##### {}'.format(titleBTC)) \n",
    "md(\"- {}{} {}{} [| Skaityti daugiau]({}) \".format(trx['title'],'. ', trx['body'], ' ...', trx['url']))"
   ]
  },
  {
   "cell_type": "code",
   "execution_count": 7,
   "id": "illegal-greece",
   "metadata": {
    "execution": {
     "iopub.execute_input": "2022-06-25T03:10:49.578329Z",
     "iopub.status.busy": "2022-06-25T03:10:49.577309Z",
     "iopub.status.idle": "2022-06-25T03:10:49.580161Z",
     "shell.execute_reply": "2022-06-25T03:10:49.580586Z"
    },
    "papermill": {
     "duration": 0.019137,
     "end_time": "2022-06-25T03:10:49.580707",
     "exception": false,
     "start_time": "2022-06-25T03:10:49.561570",
     "status": "completed"
    },
    "tags": []
   },
   "outputs": [
    {
     "data": {
      "text/markdown": [
       "- Ethereum investors should know this reasoning behind ETH’s crash in June.  It has been hard for ETH traders to avoid panicking in the last few months as ETH continued to sell with no end in sight. The bears have been easing off their assault every once in a while, paving the way for minor relief rallies. However, even those have been short-lived and the bears continue [&#8230;] ... [| Skaityti daugiau](https://ambcrypto.com/ethereum-investors-should-know-this-reasoning-behind-eths-crash-in-june/) "
      ],
      "text/plain": [
       "<IPython.core.display.Markdown object>"
      ]
     },
     "execution_count": 7,
     "metadata": {},
     "output_type": "execute_result"
    }
   ],
   "source": [
    "#hide_input\n",
    "#md('##### {}'.format(titleBTC)) \n",
    "md(\"- {}{} {}{} [| Skaityti daugiau]({}) \".format(eth['title'],'. ', eth['body'], ' ...', eth['url']))"
   ]
  },
  {
   "cell_type": "code",
   "execution_count": 8,
   "id": "sublime-lounge",
   "metadata": {
    "execution": {
     "iopub.execute_input": "2022-06-25T03:10:49.609416Z",
     "iopub.status.busy": "2022-06-25T03:10:49.608407Z",
     "iopub.status.idle": "2022-06-25T03:10:49.611197Z",
     "shell.execute_reply": "2022-06-25T03:10:49.611623Z"
    },
    "papermill": {
     "duration": 0.01917,
     "end_time": "2022-06-25T03:10:49.611734",
     "exception": false,
     "start_time": "2022-06-25T03:10:49.592564",
     "status": "completed"
    },
    "tags": []
   },
   "outputs": [
    {
     "data": {
      "text/markdown": [
       "- Whales Are Piling Into Top Gaming Altcoin – And Letting Go of Three Crypto Assets, According to Analytics Firm.  Analytics firm Santiment is looking at crypto&#8217;s richest wallets to identify possible entry points amid a long-term downtrend in the markets. First on the firm&#8217;s radar is decentralized virtual world The Sandbox (SAND), which Santiment says experienced &#8220;eye-opening supply accumulation&#8221; despite recent price struggles. “The Sandbox, one of the altcoin darlings from late 2021, has [&#8230;]The post Whales Are Piling Into Top Gaming Altcoin – And Letting Go of Three Crypto Assets, According to Analytics Firm appeared first on The Daily Hodl. ... [| Skaityti daugiau](https://dailyhodl.com/2022/06/24/whales-are-piling-into-top-gaming-altcoin-and-letting-go-of-three-crypto-assets-according-to-analytics-firm/) "
      ],
      "text/plain": [
       "<IPython.core.display.Markdown object>"
      ]
     },
     "execution_count": 8,
     "metadata": {},
     "output_type": "execute_result"
    }
   ],
   "source": [
    "#hide_input\n",
    "#md('##### {}'.format(titleBTC)) \n",
    "md(\"- {}{} {}{} [| Skaityti daugiau]({}) \".format(ada['title'],'. ', ada['body'], ' ...', ada['url']))"
   ]
  },
  {
   "cell_type": "code",
   "execution_count": 9,
   "id": "specified-ordering",
   "metadata": {
    "execution": {
     "iopub.execute_input": "2022-06-25T03:10:49.638304Z",
     "iopub.status.busy": "2022-06-25T03:10:49.637731Z",
     "iopub.status.idle": "2022-06-25T03:10:49.643176Z",
     "shell.execute_reply": "2022-06-25T03:10:49.642714Z"
    },
    "papermill": {
     "duration": 0.020497,
     "end_time": "2022-06-25T03:10:49.643277",
     "exception": false,
     "start_time": "2022-06-25T03:10:49.622780",
     "status": "completed"
    },
    "tags": []
   },
   "outputs": [
    {
     "data": {
      "text/markdown": [
       "- How to Delete a Coinbase Account: a Step-by-Step Guide.  Nasdaq-listed cryptocurrency exchange Coinbase is an entry point into the cryptocurrency space for many who may be willing to venture onto other platforms after starting off there. For those wanting to clean up their accounts, figuring out how to delete a Coinbase account may be a hassle. Users can have a myriad of reasons for […] ... [| Skaityti daugiau](https://www.cryptoglobe.com/latest/2022/06/delete-a-coinbase-account/) "
      ],
      "text/plain": [
       "<IPython.core.display.Markdown object>"
      ]
     },
     "execution_count": 9,
     "metadata": {},
     "output_type": "execute_result"
    }
   ],
   "source": [
    "#hide_input\n",
    "#md('##### {}'.format(titleBTC)) \n",
    "md(\"- {}{} {}{} [| Skaityti daugiau]({}) \".format(exchange['title'],'. ', exchange['body'], ' ...', exchange['url']))"
   ]
  },
  {
   "cell_type": "code",
   "execution_count": null,
   "id": "tender-livestock",
   "metadata": {
    "papermill": {
     "duration": 0.011459,
     "end_time": "2022-06-25T03:10:49.666172",
     "exception": false,
     "start_time": "2022-06-25T03:10:49.654713",
     "status": "completed"
    },
    "tags": []
   },
   "outputs": [],
   "source": []
  },
  {
   "cell_type": "code",
   "execution_count": null,
   "id": "appreciated-diamond",
   "metadata": {
    "papermill": {
     "duration": 0.011335,
     "end_time": "2022-06-25T03:10:49.689103",
     "exception": false,
     "start_time": "2022-06-25T03:10:49.677768",
     "status": "completed"
    },
    "tags": []
   },
   "outputs": [],
   "source": []
  },
  {
   "cell_type": "code",
   "execution_count": null,
   "id": "romance-sweden",
   "metadata": {
    "papermill": {
     "duration": 0.011315,
     "end_time": "2022-06-25T03:10:49.711837",
     "exception": false,
     "start_time": "2022-06-25T03:10:49.700522",
     "status": "completed"
    },
    "tags": []
   },
   "outputs": [],
   "source": []
  },
  {
   "cell_type": "code",
   "execution_count": null,
   "id": "dietary-statistics",
   "metadata": {
    "papermill": {
     "duration": 0.011324,
     "end_time": "2022-06-25T03:10:49.734626",
     "exception": false,
     "start_time": "2022-06-25T03:10:49.723302",
     "status": "completed"
    },
    "tags": []
   },
   "outputs": [],
   "source": []
  }
 ],
 "metadata": {
  "kernelspec": {
   "display_name": "Python 3",
   "language": "python",
   "name": "python3"
  },
  "language_info": {
   "codemirror_mode": {
    "name": "ipython",
    "version": 3
   },
   "file_extension": ".py",
   "mimetype": "text/x-python",
   "name": "python",
   "nbconvert_exporter": "python",
   "pygments_lexer": "ipython3",
   "version": "3.6.15"
  },
  "papermill": {
   "default_parameters": {},
   "duration": 17.351629,
   "end_time": "2022-06-25T03:10:50.163930",
   "environment_variables": {},
   "exception": null,
   "input_path": "Market-News.ipynb",
   "output_path": "Market-News.ipynb",
   "parameters": {},
   "start_time": "2022-06-25T03:10:32.812301",
   "version": "2.2.2"
  }
 },
 "nbformat": 4,
 "nbformat_minor": 5
}