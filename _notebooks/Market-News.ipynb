{
 "cells": [
  {
   "cell_type": "markdown",
   "id": "short-greensboro",
   "metadata": {
    "papermill": {
     "duration": 0.013782,
     "end_time": "2022-05-23T02:59:10.627930",
     "exception": false,
     "start_time": "2022-05-23T02:59:10.614148",
     "status": "completed"
    },
    "tags": []
   },
   "source": [
    "# Kriptovaliutų naujienos"
   ]
  },
  {
   "cell_type": "code",
   "execution_count": 1,
   "id": "functioning-knowing",
   "metadata": {
    "execution": {
     "iopub.execute_input": "2022-05-23T02:59:10.658951Z",
     "iopub.status.busy": "2022-05-23T02:59:10.658318Z",
     "iopub.status.idle": "2022-05-23T02:59:12.090164Z",
     "shell.execute_reply": "2022-05-23T02:59:12.089558Z"
    },
    "papermill": {
     "duration": 1.45207,
     "end_time": "2022-05-23T02:59:12.090356",
     "exception": false,
     "start_time": "2022-05-23T02:59:10.638286",
     "status": "completed"
    },
    "tags": []
   },
   "outputs": [],
   "source": [
    "#hide_input\n",
    "import warnings\n",
    "warnings.filterwarnings('ignore')\n",
    "from scripts.read_data import read_api\n",
    "from scripts.read_data import read_news\n",
    "from scripts.read_data import read_covid\n",
    "import matplotlib.pyplot as plt \n",
    "from IPython.display import Markdown as md"
   ]
  },
  {
   "cell_type": "code",
   "execution_count": 2,
   "id": "shared-acceptance",
   "metadata": {
    "execution": {
     "iopub.execute_input": "2022-05-23T02:59:12.120047Z",
     "iopub.status.busy": "2022-05-23T02:59:12.118997Z",
     "iopub.status.idle": "2022-05-23T02:59:21.625312Z",
     "shell.execute_reply": "2022-05-23T02:59:21.623906Z"
    },
    "papermill": {
     "duration": 9.524201,
     "end_time": "2022-05-23T02:59:21.625530",
     "exception": false,
     "start_time": "2022-05-23T02:59:12.101329",
     "status": "completed"
    },
    "tags": []
   },
   "outputs": [],
   "source": [
    "#hide_input\n",
    "blockchain = read_news('blockchain') \n",
    "btc = read_news('btc') \n",
    "xrp = read_news('xrp') \n",
    "trx = read_news('trx') \n",
    "eth = read_news('eth')  \n",
    "ada = read_news('ada')\n",
    "exchange = read_news('exchange') "
   ]
  },
  {
   "cell_type": "code",
   "execution_count": 3,
   "id": "synthetic-notion",
   "metadata": {
    "execution": {
     "iopub.execute_input": "2022-05-23T02:59:21.655786Z",
     "iopub.status.busy": "2022-05-23T02:59:21.654166Z",
     "iopub.status.idle": "2022-05-23T02:59:21.659346Z",
     "shell.execute_reply": "2022-05-23T02:59:21.658802Z"
    },
    "papermill": {
     "duration": 0.024202,
     "end_time": "2022-05-23T02:59:21.659458",
     "exception": false,
     "start_time": "2022-05-23T02:59:21.635256",
     "status": "completed"
    },
    "tags": []
   },
   "outputs": [
    {
     "data": {
      "text/markdown": [
       "- With a ‘crypto winter’ around the corner, investors should be wary of….  “How much lower is crypto going to go?” “Well, I think it&#8217;s just the beginning of crypto winter, to be very honest.” In a recent interview with Bloomberg Technology, Kavita Gupta, founder of Delta Blockchain Fund noted that the cryptocurrency market today is currently in its winter season and the same might last for over [&#8230;] ... [| Skaityti daugiau](https://ambcrypto.com/with-a-crypto-winter-around-the-corner-investors-should-be-wary-of/) "
      ],
      "text/plain": [
       "<IPython.core.display.Markdown object>"
      ]
     },
     "execution_count": 3,
     "metadata": {},
     "output_type": "execute_result"
    }
   ],
   "source": [
    "#hide_input\n",
    "#md('##### {}'.format(titleBTC)) \n",
    "md(\"- {}{} {}{} [| Skaityti daugiau]({}) \".format(blockchain['title'],'. ', blockchain['body'], ' ...', blockchain['url']))"
   ]
  },
  {
   "cell_type": "code",
   "execution_count": 4,
   "id": "aging-caution",
   "metadata": {
    "execution": {
     "iopub.execute_input": "2022-05-23T02:59:21.686679Z",
     "iopub.status.busy": "2022-05-23T02:59:21.686044Z",
     "iopub.status.idle": "2022-05-23T02:59:21.690192Z",
     "shell.execute_reply": "2022-05-23T02:59:21.690680Z"
    },
    "papermill": {
     "duration": 0.020972,
     "end_time": "2022-05-23T02:59:21.690805",
     "exception": false,
     "start_time": "2022-05-23T02:59:21.669833",
     "status": "completed"
    },
    "tags": []
   },
   "outputs": [
    {
     "data": {
      "text/markdown": [
       "- Bitcoin (BTC) Registers A Strong Bullish Divergence Moving Past $30,000.  After trading under $30,000 for almost a week, Bitcoin registered a strong bullish divergence on late Sunday, May 22. As of press time, Bitcoin is trading 2.5% up above its crucial resistance of $30,000 levels. Popular crypto analyst Lark Davis writes: Bitcoin putting in a HUGE bullish divergence on the daily. The last time we The post Bitcoin (BTC) Registers A Strong Bullish Divergence Moving Past $30,000 appeared first on CoinGape. ... [| Skaityti daugiau](https://coingape.com/bitcoin-btc-registers-a-strong-bullish-divergence-moving-past-30000/) "
      ],
      "text/plain": [
       "<IPython.core.display.Markdown object>"
      ]
     },
     "execution_count": 4,
     "metadata": {},
     "output_type": "execute_result"
    }
   ],
   "source": [
    "#hide_input\n",
    "#md('##### {}'.format(titleBTC)) \n",
    "md(\"- {}{} {}{} [| Skaityti daugiau]({}) \".format(btc['title'],'. ', btc['body'], ' ...', btc['url']))"
   ]
  },
  {
   "cell_type": "code",
   "execution_count": 5,
   "id": "organic-actress",
   "metadata": {
    "execution": {
     "iopub.execute_input": "2022-05-23T02:59:21.718404Z",
     "iopub.status.busy": "2022-05-23T02:59:21.717802Z",
     "iopub.status.idle": "2022-05-23T02:59:21.722595Z",
     "shell.execute_reply": "2022-05-23T02:59:21.723262Z"
    },
    "papermill": {
     "duration": 0.020098,
     "end_time": "2022-05-23T02:59:21.723393",
     "exception": false,
     "start_time": "2022-05-23T02:59:21.703295",
     "status": "completed"
    },
    "tags": []
   },
   "outputs": [
    {
     "data": {
      "text/markdown": [
       "- XRP Ledger To See Carbon Credit NFTs With Ripple’s New $100,000,000 Investment Fund.  Ripple Labs is announcing a $100 million investment fund that will see carbon credit non-fungible tokens (NFTs) come to the XRP Ledger. According to a new press release, Ripple’s new initiative aims to expedite carbon removal activities and technologies as well as help streamline carbon-focused fintech and crypto projects. “The funding will continue to support [&#8230;]The post XRP Ledger To See Carbon Credit NFTs With Ripple’s New $100,000,000 Investment Fund appeared first on The Daily Hodl. ... [| Skaityti daugiau](https://dailyhodl.com/2022/05/22/xrp-ledger-to-see-carbon-credit-nfts-with-ripples-new-100000000-investment-fund/) "
      ],
      "text/plain": [
       "<IPython.core.display.Markdown object>"
      ]
     },
     "execution_count": 5,
     "metadata": {},
     "output_type": "execute_result"
    }
   ],
   "source": [
    "#hide_input\n",
    "#md('##### {}'.format(titleBTC)) \n",
    "md(\"- {}{} {}{} [| Skaityti daugiau]({}) \".format(xrp['title'],'. ', xrp['body'], ' ...', xrp['url']))"
   ]
  },
  {
   "cell_type": "code",
   "execution_count": 6,
   "id": "prompt-farmer",
   "metadata": {
    "execution": {
     "iopub.execute_input": "2022-05-23T02:59:21.750408Z",
     "iopub.status.busy": "2022-05-23T02:59:21.749787Z",
     "iopub.status.idle": "2022-05-23T02:59:21.755096Z",
     "shell.execute_reply": "2022-05-23T02:59:21.754615Z"
    },
    "papermill": {
     "duration": 0.020891,
     "end_time": "2022-05-23T02:59:21.755197",
     "exception": false,
     "start_time": "2022-05-23T02:59:21.734306",
     "status": "completed"
    },
    "tags": []
   },
   "outputs": [
    {
     "data": {
      "text/markdown": [
       "- Tron (TRX) Price Defies Market Momentum, Maintains Bullish Course.  When UST fell, TRX too had a bearish shock. The chain&#8217;s TVL has grown by 0.02 percent in the last ... [| Skaityti daugiau](https://thenewscrypto.com/tron-trx-price-defies-market-momentum-maintains-bullish-course/) "
      ],
      "text/plain": [
       "<IPython.core.display.Markdown object>"
      ]
     },
     "execution_count": 6,
     "metadata": {},
     "output_type": "execute_result"
    }
   ],
   "source": [
    "#hide_input\n",
    "#md('##### {}'.format(titleBTC)) \n",
    "md(\"- {}{} {}{} [| Skaityti daugiau]({}) \".format(trx['title'],'. ', trx['body'], ' ...', trx['url']))"
   ]
  },
  {
   "cell_type": "code",
   "execution_count": 7,
   "id": "illegal-greece",
   "metadata": {
    "execution": {
     "iopub.execute_input": "2022-05-23T02:59:21.788953Z",
     "iopub.status.busy": "2022-05-23T02:59:21.788222Z",
     "iopub.status.idle": "2022-05-23T02:59:21.791663Z",
     "shell.execute_reply": "2022-05-23T02:59:21.792200Z"
    },
    "papermill": {
     "duration": 0.022484,
     "end_time": "2022-05-23T02:59:21.792361",
     "exception": false,
     "start_time": "2022-05-23T02:59:21.769877",
     "status": "completed"
    },
    "tags": []
   },
   "outputs": [
    {
     "data": {
      "text/markdown": [
       "- Analyzing how ADA might respond to Cardano’s much-awaited Vasil hardhork.  Ahead of the upcoming Vasil testnet that is to launch in early June 2022, Cardano published an encouraging update. The network reported a strong foundation with many new projects planned out with Fund9 that are to be launched. Cardano recently posted their Weekly Development Report to inform users about the ongoing development updates. The report [&#8230;] ... [| Skaityti daugiau](https://ambcrypto.com/analyzing-how-ada-might-respond-to-cardanos-much-awaited-vasil-hardhork/) "
      ],
      "text/plain": [
       "<IPython.core.display.Markdown object>"
      ]
     },
     "execution_count": 7,
     "metadata": {},
     "output_type": "execute_result"
    }
   ],
   "source": [
    "#hide_input\n",
    "#md('##### {}'.format(titleBTC)) \n",
    "md(\"- {}{} {}{} [| Skaityti daugiau]({}) \".format(eth['title'],'. ', eth['body'], ' ...', eth['url']))"
   ]
  },
  {
   "cell_type": "code",
   "execution_count": 8,
   "id": "sublime-lounge",
   "metadata": {
    "execution": {
     "iopub.execute_input": "2022-05-23T02:59:21.824114Z",
     "iopub.status.busy": "2022-05-23T02:59:21.823357Z",
     "iopub.status.idle": "2022-05-23T02:59:21.826968Z",
     "shell.execute_reply": "2022-05-23T02:59:21.827449Z"
    },
    "papermill": {
     "duration": 0.022014,
     "end_time": "2022-05-23T02:59:21.827574",
     "exception": false,
     "start_time": "2022-05-23T02:59:21.805560",
     "status": "completed"
    },
    "tags": []
   },
   "outputs": [
    {
     "data": {
      "text/markdown": [
       "- Analyzing how ADA might respond to Cardano’s much-awaited Vasil hardhork.  Ahead of the upcoming Vasil testnet that is to launch in early June 2022, Cardano published an encouraging update. The network reported a strong foundation with many new projects planned out with Fund9 that are to be launched. Cardano recently posted their Weekly Development Report to inform users about the ongoing development updates. The report [&#8230;] ... [| Skaityti daugiau](https://ambcrypto.com/analyzing-how-ada-might-respond-to-cardanos-much-awaited-vasil-hardhork/) "
      ],
      "text/plain": [
       "<IPython.core.display.Markdown object>"
      ]
     },
     "execution_count": 8,
     "metadata": {},
     "output_type": "execute_result"
    }
   ],
   "source": [
    "#hide_input\n",
    "#md('##### {}'.format(titleBTC)) \n",
    "md(\"- {}{} {}{} [| Skaityti daugiau]({}) \".format(ada['title'],'. ', ada['body'], ' ...', ada['url']))"
   ]
  },
  {
   "cell_type": "code",
   "execution_count": 9,
   "id": "specified-ordering",
   "metadata": {
    "execution": {
     "iopub.execute_input": "2022-05-23T02:59:21.863077Z",
     "iopub.status.busy": "2022-05-23T02:59:21.862083Z",
     "iopub.status.idle": "2022-05-23T02:59:21.870548Z",
     "shell.execute_reply": "2022-05-23T02:59:21.869954Z"
    },
    "papermill": {
     "duration": 0.027728,
     "end_time": "2022-05-23T02:59:21.870705",
     "exception": false,
     "start_time": "2022-05-23T02:59:21.842977",
     "status": "completed"
    },
    "tags": []
   },
   "outputs": [
    {
     "data": {
      "text/markdown": [
       "- Bitmex Co-Founder Arthur Hayes Avoids Prison for Violating US Bank Secrecy Act.  Bitmex co-founder Arthur Hayes is not going to prison for violating the U.S. Bank Secrecy Act. Instead, the former crypto exchange CEO has been sentenced to &#x201C;six months of home detention and two years of probation.&#x201D; Hayes has agreed to pay a fine of $10 million. Bitmex&#x2019;s Arthur Hayes Sentenced The U.S. Department of Justice [&#8230;] ... [| Skaityti daugiau](https://news.bitcoin.com/bitmex-co-founder-arthur-hayes-avoids-prison-for-violating-us-bank-secrecy-act/) "
      ],
      "text/plain": [
       "<IPython.core.display.Markdown object>"
      ]
     },
     "execution_count": 9,
     "metadata": {},
     "output_type": "execute_result"
    }
   ],
   "source": [
    "#hide_input\n",
    "#md('##### {}'.format(titleBTC)) \n",
    "md(\"- {}{} {}{} [| Skaityti daugiau]({}) \".format(exchange['title'],'. ', exchange['body'], ' ...', exchange['url']))"
   ]
  },
  {
   "cell_type": "code",
   "execution_count": null,
   "id": "tender-livestock",
   "metadata": {
    "papermill": {
     "duration": 0.012385,
     "end_time": "2022-05-23T02:59:21.898842",
     "exception": false,
     "start_time": "2022-05-23T02:59:21.886457",
     "status": "completed"
    },
    "tags": []
   },
   "outputs": [],
   "source": []
  },
  {
   "cell_type": "code",
   "execution_count": null,
   "id": "appreciated-diamond",
   "metadata": {
    "papermill": {
     "duration": 0.014201,
     "end_time": "2022-05-23T02:59:21.927947",
     "exception": false,
     "start_time": "2022-05-23T02:59:21.913746",
     "status": "completed"
    },
    "tags": []
   },
   "outputs": [],
   "source": []
  },
  {
   "cell_type": "code",
   "execution_count": null,
   "id": "romance-sweden",
   "metadata": {
    "papermill": {
     "duration": 0.015936,
     "end_time": "2022-05-23T02:59:21.956518",
     "exception": false,
     "start_time": "2022-05-23T02:59:21.940582",
     "status": "completed"
    },
    "tags": []
   },
   "outputs": [],
   "source": []
  },
  {
   "cell_type": "code",
   "execution_count": null,
   "id": "dietary-statistics",
   "metadata": {
    "papermill": {
     "duration": 0.013392,
     "end_time": "2022-05-23T02:59:21.987262",
     "exception": false,
     "start_time": "2022-05-23T02:59:21.973870",
     "status": "completed"
    },
    "tags": []
   },
   "outputs": [],
   "source": []
  }
 ],
 "metadata": {
  "kernelspec": {
   "display_name": "Python 3",
   "language": "python",
   "name": "python3"
  },
  "language_info": {
   "codemirror_mode": {
    "name": "ipython",
    "version": 3
   },
   "file_extension": ".py",
   "mimetype": "text/x-python",
   "name": "python",
   "nbconvert_exporter": "python",
   "pygments_lexer": "ipython3",
   "version": "3.6.15"
  },
  "papermill": {
   "default_parameters": {},
   "duration": 13.092571,
   "end_time": "2022-05-23T02:59:22.424595",
   "environment_variables": {},
   "exception": null,
   "input_path": "Market-News.ipynb",
   "output_path": "Market-News.ipynb",
   "parameters": {},
   "start_time": "2022-05-23T02:59:09.332024",
   "version": "2.2.2"
  }
 },
 "nbformat": 4,
 "nbformat_minor": 5
}