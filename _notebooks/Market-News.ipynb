{
 "cells": [
  {
   "cell_type": "markdown",
   "id": "short-greensboro",
   "metadata": {
    "papermill": {
     "duration": 0.012844,
     "end_time": "2022-09-23T03:47:03.401375",
     "exception": false,
     "start_time": "2022-09-23T03:47:03.388531",
     "status": "completed"
    },
    "tags": []
   },
   "source": [
    "# Kriptovaliutų naujienos"
   ]
  },
  {
   "cell_type": "code",
   "execution_count": 1,
   "id": "functioning-knowing",
   "metadata": {
    "execution": {
     "iopub.execute_input": "2022-09-23T03:47:03.430458Z",
     "iopub.status.busy": "2022-09-23T03:47:03.429863Z",
     "iopub.status.idle": "2022-09-23T03:47:04.657688Z",
     "shell.execute_reply": "2022-09-23T03:47:04.657075Z"
    },
    "papermill": {
     "duration": 1.246939,
     "end_time": "2022-09-23T03:47:04.657849",
     "exception": false,
     "start_time": "2022-09-23T03:47:03.410910",
     "status": "completed"
    },
    "tags": []
   },
   "outputs": [],
   "source": [
    "#hide_input\n",
    "import warnings\n",
    "warnings.filterwarnings('ignore')\n",
    "from scripts.read_data import read_api\n",
    "from scripts.read_data import read_news\n",
    "from scripts.read_data import read_covid\n",
    "import matplotlib.pyplot as plt \n",
    "from IPython.display import Markdown as md"
   ]
  },
  {
   "cell_type": "code",
   "execution_count": 2,
   "id": "shared-acceptance",
   "metadata": {
    "execution": {
     "iopub.execute_input": "2022-09-23T03:47:04.682815Z",
     "iopub.status.busy": "2022-09-23T03:47:04.681811Z",
     "iopub.status.idle": "2022-09-23T03:47:13.874060Z",
     "shell.execute_reply": "2022-09-23T03:47:13.873204Z"
    },
    "papermill": {
     "duration": 9.206908,
     "end_time": "2022-09-23T03:47:13.874194",
     "exception": false,
     "start_time": "2022-09-23T03:47:04.667286",
     "status": "completed"
    },
    "tags": []
   },
   "outputs": [],
   "source": [
    "#hide_input\n",
    "blockchain = read_news('blockchain') \n",
    "btc = read_news('btc') \n",
    "xrp = read_news('xrp') \n",
    "trx = read_news('trx') \n",
    "eth = read_news('eth')  \n",
    "ada = read_news('ada')\n",
    "exchange = read_news('exchange') "
   ]
  },
  {
   "cell_type": "code",
   "execution_count": 3,
   "id": "synthetic-notion",
   "metadata": {
    "execution": {
     "iopub.execute_input": "2022-09-23T03:47:13.899795Z",
     "iopub.status.busy": "2022-09-23T03:47:13.899164Z",
     "iopub.status.idle": "2022-09-23T03:47:13.903750Z",
     "shell.execute_reply": "2022-09-23T03:47:13.904220Z"
    },
    "papermill": {
     "duration": 0.020918,
     "end_time": "2022-09-23T03:47:13.904340",
     "exception": false,
     "start_time": "2022-09-23T03:47:13.883422",
     "status": "completed"
    },
    "tags": []
   },
   "outputs": [
    {
     "data": {
      "text/markdown": [
       "- LUNC investors may have some short-term hopes, however caution is advised.  The entire crypto community’s excitement reached another level as the much awaited 1.2% Terra Classic [LUNC] tax burn protocol got implemented. The new protocol was successfully implemented at a block height of 9,475,200 on 21 September. The 1.2% #LUNC tax burn has successfully been implemented on-chain🏁 An this is only just the beginning of a [&#8230;] ... [| Skaityti daugiau](https://ambcrypto.com/lunc-investors-may-have-some-short-term-hopes-however-caution-is-advised/) "
      ],
      "text/plain": [
       "<IPython.core.display.Markdown object>"
      ]
     },
     "execution_count": 3,
     "metadata": {},
     "output_type": "execute_result"
    }
   ],
   "source": [
    "#hide_input\n",
    "#md('##### {}'.format(titleBTC)) \n",
    "md(\"- {}{} {}{} [| Skaityti daugiau]({}) \".format(blockchain['title'],'. ', blockchain['body'], ' ...', blockchain['url']))"
   ]
  },
  {
   "cell_type": "code",
   "execution_count": 4,
   "id": "aging-caution",
   "metadata": {
    "execution": {
     "iopub.execute_input": "2022-09-23T03:47:13.927575Z",
     "iopub.status.busy": "2022-09-23T03:47:13.927001Z",
     "iopub.status.idle": "2022-09-23T03:47:13.930090Z",
     "shell.execute_reply": "2022-09-23T03:47:13.930558Z"
    },
    "papermill": {
     "duration": 0.017137,
     "end_time": "2022-09-23T03:47:13.930671",
     "exception": false,
     "start_time": "2022-09-23T03:47:13.913534",
     "status": "completed"
    },
    "tags": []
   },
   "outputs": [
    {
     "data": {
      "text/markdown": [
       "- XRP Price Storms 20%, Leads Recovery in Bitcoin and Ethereum.  Bitcoin price managed to escape a bearish breakdown below the $18,000 support. BTC is currently (03:10 UTC) trading above $19,000. A clear move above the $19,550 and $19,600 resistance levels might start a decent increase. Similarly, most major altcoins are moving higher. ETH gained over 5% and surpassed the $1,320 level. XRP outperformed with a strong move above the $0.45 resistance. ADA is moving higher towards the $0.465 level....Read More: XRP Price Storms 20%, Leads Recovery in Bitcoin and Ethereum ... [| Skaityti daugiau](https://cryptonews.com/news/xrp-price-storms-20-leads-recovery-bitcoin-ethereum.htm) "
      ],
      "text/plain": [
       "<IPython.core.display.Markdown object>"
      ]
     },
     "execution_count": 4,
     "metadata": {},
     "output_type": "execute_result"
    }
   ],
   "source": [
    "#hide_input\n",
    "#md('##### {}'.format(titleBTC)) \n",
    "md(\"- {}{} {}{} [| Skaityti daugiau]({}) \".format(btc['title'],'. ', btc['body'], ' ...', btc['url']))"
   ]
  },
  {
   "cell_type": "code",
   "execution_count": 5,
   "id": "organic-actress",
   "metadata": {
    "execution": {
     "iopub.execute_input": "2022-09-23T03:47:13.953817Z",
     "iopub.status.busy": "2022-09-23T03:47:13.953211Z",
     "iopub.status.idle": "2022-09-23T03:47:13.956747Z",
     "shell.execute_reply": "2022-09-23T03:47:13.956307Z"
    },
    "papermill": {
     "duration": 0.016777,
     "end_time": "2022-09-23T03:47:13.956887",
     "exception": false,
     "start_time": "2022-09-23T03:47:13.940110",
     "status": "completed"
    },
    "tags": []
   },
   "outputs": [
    {
     "data": {
      "text/markdown": [
       "- XRP Price Storms 20%, Leads Recovery in Bitcoin and Ethereum.  Bitcoin price managed to escape a bearish breakdown below the $18,000 support. BTC is currently (03:10 UTC) trading above $19,000. A clear move above the $19,550 and $19,600 resistance levels might start a decent increase. Similarly, most major altcoins are moving higher. ETH gained over 5% and surpassed the $1,320 level. XRP outperformed with a strong move above the $0.45 resistance. ADA is moving higher towards the $0.465 level....Read More: XRP Price Storms 20%, Leads Recovery in Bitcoin and Ethereum ... [| Skaityti daugiau](https://cryptonews.com/news/xrp-price-storms-20-leads-recovery-bitcoin-ethereum.htm) "
      ],
      "text/plain": [
       "<IPython.core.display.Markdown object>"
      ]
     },
     "execution_count": 5,
     "metadata": {},
     "output_type": "execute_result"
    }
   ],
   "source": [
    "#hide_input\n",
    "#md('##### {}'.format(titleBTC)) \n",
    "md(\"- {}{} {}{} [| Skaityti daugiau]({}) \".format(xrp['title'],'. ', xrp['body'], ' ...', xrp['url']))"
   ]
  },
  {
   "cell_type": "code",
   "execution_count": 6,
   "id": "prompt-farmer",
   "metadata": {
    "execution": {
     "iopub.execute_input": "2022-09-23T03:47:13.980858Z",
     "iopub.status.busy": "2022-09-23T03:47:13.980258Z",
     "iopub.status.idle": "2022-09-23T03:47:13.984164Z",
     "shell.execute_reply": "2022-09-23T03:47:13.983704Z"
    },
    "papermill": {
     "duration": 0.017695,
     "end_time": "2022-09-23T03:47:13.984268",
     "exception": false,
     "start_time": "2022-09-23T03:47:13.966573",
     "status": "completed"
    },
    "tags": []
   },
   "outputs": [
    {
     "data": {
      "text/markdown": [
       "- Tron (TRX) And Polygon (MATIC) Holders Begin Buying Into Flasko (FLSK) Presale.  The post Tron (TRX) And Polygon (MATIC) Holders Begin Buying Into Flasko (FLSK) Presale appeared first on Coinpedia - Fintech &amp; Cryptocurreny News Media| Crypto GuideCrypto investors worldwide focus on tokens that perform well because such projects guarantee a positive return. Polygon (MATIC) and TRON (TRX) were previously market leaders with high profits, but their investors are now content with limited growth. Flasko (FLSK) holders, on the other side, are riding a unicorn of profit and expansion. Polygon (MATIC) is &#8230; ... [| Skaityti daugiau](https://coinpedia.org/press-release/tron-trx-and-polygon-matic-holders-begin-buying-into-flasko-flsk-presale/) "
      ],
      "text/plain": [
       "<IPython.core.display.Markdown object>"
      ]
     },
     "execution_count": 6,
     "metadata": {},
     "output_type": "execute_result"
    }
   ],
   "source": [
    "#hide_input\n",
    "#md('##### {}'.format(titleBTC)) \n",
    "md(\"- {}{} {}{} [| Skaityti daugiau]({}) \".format(trx['title'],'. ', trx['body'], ' ...', trx['url']))"
   ]
  },
  {
   "cell_type": "code",
   "execution_count": 7,
   "id": "illegal-greece",
   "metadata": {
    "execution": {
     "iopub.execute_input": "2022-09-23T03:47:14.009151Z",
     "iopub.status.busy": "2022-09-23T03:47:14.008493Z",
     "iopub.status.idle": "2022-09-23T03:47:14.011374Z",
     "shell.execute_reply": "2022-09-23T03:47:14.011857Z"
    },
    "papermill": {
     "duration": 0.017547,
     "end_time": "2022-09-23T03:47:14.011977",
     "exception": false,
     "start_time": "2022-09-23T03:47:13.994430",
     "status": "completed"
    },
    "tags": []
   },
   "outputs": [
    {
     "data": {
      "text/markdown": [
       "- XRP Price Storms 20%, Leads Recovery in Bitcoin and Ethereum.  Bitcoin price managed to escape a bearish breakdown below the $18,000 support. BTC is currently (03:10 UTC) trading above $19,000. A clear move above the $19,550 and $19,600 resistance levels might start a decent increase. Similarly, most major altcoins are moving higher. ETH gained over 5% and surpassed the $1,320 level. XRP outperformed with a strong move above the $0.45 resistance. ADA is moving higher towards the $0.465 level....Read More: XRP Price Storms 20%, Leads Recovery in Bitcoin and Ethereum ... [| Skaityti daugiau](https://cryptonews.com/news/xrp-price-storms-20-leads-recovery-bitcoin-ethereum.htm) "
      ],
      "text/plain": [
       "<IPython.core.display.Markdown object>"
      ]
     },
     "execution_count": 7,
     "metadata": {},
     "output_type": "execute_result"
    }
   ],
   "source": [
    "#hide_input\n",
    "#md('##### {}'.format(titleBTC)) \n",
    "md(\"- {}{} {}{} [| Skaityti daugiau]({}) \".format(eth['title'],'. ', eth['body'], ' ...', eth['url']))"
   ]
  },
  {
   "cell_type": "code",
   "execution_count": 8,
   "id": "sublime-lounge",
   "metadata": {
    "execution": {
     "iopub.execute_input": "2022-09-23T03:47:14.038547Z",
     "iopub.status.busy": "2022-09-23T03:47:14.037985Z",
     "iopub.status.idle": "2022-09-23T03:47:14.041219Z",
     "shell.execute_reply": "2022-09-23T03:47:14.041684Z"
    },
    "papermill": {
     "duration": 0.017906,
     "end_time": "2022-09-23T03:47:14.041792",
     "exception": false,
     "start_time": "2022-09-23T03:47:14.023886",
     "status": "completed"
    },
    "tags": []
   },
   "outputs": [
    {
     "data": {
      "text/markdown": [
       "- XRP Price Storms 20%, Leads Recovery in Bitcoin and Ethereum.  Bitcoin price managed to escape a bearish breakdown below the $18,000 support. BTC is currently (03:10 UTC) trading above $19,000. A clear move above the $19,550 and $19,600 resistance levels might start a decent increase. Similarly, most major altcoins are moving higher. ETH gained over 5% and surpassed the $1,320 level. XRP outperformed with a strong move above the $0.45 resistance. ADA is moving higher towards the $0.465 level....Read More: XRP Price Storms 20%, Leads Recovery in Bitcoin and Ethereum ... [| Skaityti daugiau](https://cryptonews.com/news/xrp-price-storms-20-leads-recovery-bitcoin-ethereum.htm) "
      ],
      "text/plain": [
       "<IPython.core.display.Markdown object>"
      ]
     },
     "execution_count": 8,
     "metadata": {},
     "output_type": "execute_result"
    }
   ],
   "source": [
    "#hide_input\n",
    "#md('##### {}'.format(titleBTC)) \n",
    "md(\"- {}{} {}{} [| Skaityti daugiau]({}) \".format(ada['title'],'. ', ada['body'], ' ...', ada['url']))"
   ]
  },
  {
   "cell_type": "code",
   "execution_count": 9,
   "id": "specified-ordering",
   "metadata": {
    "execution": {
     "iopub.execute_input": "2022-09-23T03:47:14.067637Z",
     "iopub.status.busy": "2022-09-23T03:47:14.067073Z",
     "iopub.status.idle": "2022-09-23T03:47:14.070715Z",
     "shell.execute_reply": "2022-09-23T03:47:14.070250Z"
    },
    "papermill": {
     "duration": 0.018446,
     "end_time": "2022-09-23T03:47:14.070813",
     "exception": false,
     "start_time": "2022-09-23T03:47:14.052367",
     "status": "completed"
    },
    "tags": []
   },
   "outputs": [
    {
     "data": {
      "text/markdown": [
       "- Indonesia to Tighten Crypto Regulation With Stricter Rules for Exchanges.  Indonesia is preparing to issue new rules to tighten the regulation of crypto exchanges. Under revised regulatory framework, two-thirds of crypto exchange directors must be Indonesian citizens residing in the country. Indonesia Plans to Tighten Crypto Regulation Indonesia is preparing to issue new rules to tighten the regulation of crypto exchanges, officials from the country&#x2019;s [&#8230;] ... [| Skaityti daugiau](https://news.bitcoin.com/indonesia-to-tighten-crypto-regulation-with-stricter-rules-for-exchanges/) "
      ],
      "text/plain": [
       "<IPython.core.display.Markdown object>"
      ]
     },
     "execution_count": 9,
     "metadata": {},
     "output_type": "execute_result"
    }
   ],
   "source": [
    "#hide_input\n",
    "#md('##### {}'.format(titleBTC)) \n",
    "md(\"- {}{} {}{} [| Skaityti daugiau]({}) \".format(exchange['title'],'. ', exchange['body'], ' ...', exchange['url']))"
   ]
  },
  {
   "cell_type": "code",
   "execution_count": null,
   "id": "tender-livestock",
   "metadata": {
    "papermill": {
     "duration": 0.011095,
     "end_time": "2022-09-23T03:47:14.093017",
     "exception": false,
     "start_time": "2022-09-23T03:47:14.081922",
     "status": "completed"
    },
    "tags": []
   },
   "outputs": [],
   "source": []
  },
  {
   "cell_type": "code",
   "execution_count": null,
   "id": "appreciated-diamond",
   "metadata": {
    "papermill": {
     "duration": 0.01095,
     "end_time": "2022-09-23T03:47:14.115108",
     "exception": false,
     "start_time": "2022-09-23T03:47:14.104158",
     "status": "completed"
    },
    "tags": []
   },
   "outputs": [],
   "source": []
  },
  {
   "cell_type": "code",
   "execution_count": null,
   "id": "romance-sweden",
   "metadata": {
    "papermill": {
     "duration": 0.010965,
     "end_time": "2022-09-23T03:47:14.137106",
     "exception": false,
     "start_time": "2022-09-23T03:47:14.126141",
     "status": "completed"
    },
    "tags": []
   },
   "outputs": [],
   "source": []
  },
  {
   "cell_type": "code",
   "execution_count": null,
   "id": "dietary-statistics",
   "metadata": {
    "papermill": {
     "duration": 0.010981,
     "end_time": "2022-09-23T03:47:14.159141",
     "exception": false,
     "start_time": "2022-09-23T03:47:14.148160",
     "status": "completed"
    },
    "tags": []
   },
   "outputs": [],
   "source": []
  }
 ],
 "metadata": {
  "kernelspec": {
   "display_name": "Python 3",
   "language": "python",
   "name": "python3"
  },
  "language_info": {
   "codemirror_mode": {
    "name": "ipython",
    "version": 3
   },
   "file_extension": ".py",
   "mimetype": "text/x-python",
   "name": "python",
   "nbconvert_exporter": "python",
   "pygments_lexer": "ipython3",
   "version": "3.6.15"
  },
  "papermill": {
   "default_parameters": {},
   "duration": 12.222825,
   "end_time": "2022-09-23T03:47:14.689911",
   "environment_variables": {},
   "exception": null,
   "input_path": "Market-News.ipynb",
   "output_path": "Market-News.ipynb",
   "parameters": {},
   "start_time": "2022-09-23T03:47:02.467086",
   "version": "2.2.2"
  }
 },
 "nbformat": 4,
 "nbformat_minor": 5
}