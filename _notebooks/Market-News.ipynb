{
 "cells": [
  {
   "cell_type": "markdown",
   "id": "short-greensboro",
   "metadata": {
    "papermill": {
     "duration": 0.016428,
     "end_time": "2021-09-18T02:02:36.009787",
     "exception": false,
     "start_time": "2021-09-18T02:02:35.993359",
     "status": "completed"
    },
    "tags": []
   },
   "source": [
    "# Kriptovaliutų naujienos"
   ]
  },
  {
   "cell_type": "code",
   "execution_count": 1,
   "id": "functioning-knowing",
   "metadata": {
    "execution": {
     "iopub.execute_input": "2021-09-18T02:02:36.044091Z",
     "iopub.status.busy": "2021-09-18T02:02:36.043436Z",
     "iopub.status.idle": "2021-09-18T02:02:37.488900Z",
     "shell.execute_reply": "2021-09-18T02:02:37.489793Z"
    },
    "papermill": {
     "duration": 1.468438,
     "end_time": "2021-09-18T02:02:37.489996",
     "exception": false,
     "start_time": "2021-09-18T02:02:36.021558",
     "status": "completed"
    },
    "tags": []
   },
   "outputs": [],
   "source": [
    "#hide_input\n",
    "import warnings\n",
    "warnings.filterwarnings('ignore')\n",
    "from scripts.read_data import read_api\n",
    "from scripts.read_data import read_news\n",
    "from scripts.read_data import read_covid\n",
    "import matplotlib.pyplot as plt \n",
    "from IPython.display import Markdown as md"
   ]
  },
  {
   "cell_type": "code",
   "execution_count": 2,
   "id": "shared-acceptance",
   "metadata": {
    "execution": {
     "iopub.execute_input": "2021-09-18T02:02:37.520760Z",
     "iopub.status.busy": "2021-09-18T02:02:37.519687Z",
     "iopub.status.idle": "2021-09-18T02:02:46.135823Z",
     "shell.execute_reply": "2021-09-18T02:02:46.135234Z"
    },
    "papermill": {
     "duration": 8.633816,
     "end_time": "2021-09-18T02:02:46.135976",
     "exception": false,
     "start_time": "2021-09-18T02:02:37.502160",
     "status": "completed"
    },
    "tags": []
   },
   "outputs": [],
   "source": [
    "#hide_input\n",
    "blockchain = read_news('blockchain') \n",
    "btc = read_news('btc') \n",
    "xrp = read_news('xrp') \n",
    "trx = read_news('trx') \n",
    "eth = read_news('eth')  \n",
    "ada = read_news('ada')\n",
    "exchange = read_news('exchange') "
   ]
  },
  {
   "cell_type": "code",
   "execution_count": 3,
   "id": "synthetic-notion",
   "metadata": {
    "execution": {
     "iopub.execute_input": "2021-09-18T02:02:46.166806Z",
     "iopub.status.busy": "2021-09-18T02:02:46.166107Z",
     "iopub.status.idle": "2021-09-18T02:02:46.168843Z",
     "shell.execute_reply": "2021-09-18T02:02:46.169378Z"
    },
    "papermill": {
     "duration": 0.020999,
     "end_time": "2021-09-18T02:02:46.169513",
     "exception": false,
     "start_time": "2021-09-18T02:02:46.148514",
     "status": "completed"
    },
    "tags": []
   },
   "outputs": [
    {
     "data": {
      "text/markdown": [
       "- Coinbase CEO Brian Armstrong Unveils Bitcoin and Crypto Predictions, Says ‘Billionaire Bitcoin Flippening’ Is Coming.  Coinbase CEO Brian Armstrong is detailing a new list of predictions for Bitcoin and the cryptocurrency industry at large. Armstrong says he believes a billionaire Bitcoin &#8220;flippening&#8221; is coming that will boost science, tech, and charitable causes in the years ahead. Writing in the Coinbase Blog, Armstrong says, &#8220;Olaf Carlson-Wee and Balaji Srinivasan estimate that [&#8230;]The post Coinbase CEO Brian Armstrong Unveils Bitcoin and Crypto Predictions, Says &#8216;Billionaire Bitcoin Flippening&#8217; Is Coming appeared first on The Daily Hodl. ... [| Skaityti daugiau](https://dailyhodl.com/2021/09/17/coinbase-ceo-brian-armstrong-unveils-bitcoin-and-crypto-predictions-says-billionaire-bitcoin-flippening-is-coming/) "
      ],
      "text/plain": [
       "<IPython.core.display.Markdown object>"
      ]
     },
     "execution_count": 3,
     "metadata": {},
     "output_type": "execute_result"
    }
   ],
   "source": [
    "#hide_input\n",
    "#md('##### {}'.format(titleBTC)) \n",
    "md(\"- {}{} {}{} [| Skaityti daugiau]({}) \".format(blockchain['title'],'. ', blockchain['body'], ' ...', blockchain['url']))"
   ]
  },
  {
   "cell_type": "code",
   "execution_count": 4,
   "id": "aging-caution",
   "metadata": {
    "execution": {
     "iopub.execute_input": "2021-09-18T02:02:46.201539Z",
     "iopub.status.busy": "2021-09-18T02:02:46.200864Z",
     "iopub.status.idle": "2021-09-18T02:02:46.204163Z",
     "shell.execute_reply": "2021-09-18T02:02:46.203630Z"
    },
    "papermill": {
     "duration": 0.02148,
     "end_time": "2021-09-18T02:02:46.204298",
     "exception": false,
     "start_time": "2021-09-18T02:02:46.182818",
     "status": "completed"
    },
    "tags": []
   },
   "outputs": [
    {
     "data": {
      "text/markdown": [
       "- Fintech Firm Revolut Pays for Dallas-Based Wework Workspace With Bitcoin.  The cryptocurrency-infused financial tech company Revolut has announced it has purchased a Wework office with bitcoin. Revolut detailed that the office space in Dallas, Texas will house 300 employees to prepare for the company&#x2019;s U.S. expansion. Revolut Pays Bitcoin for Wework Property in Texas On September 16, 2021, Revolut, the fintech firm that offers users [&#8230;] ... [| Skaityti daugiau](https://news.bitcoin.com/fintech-firm-revolut-pays-for-dallas-based-wework-workspace-with-bitcoin/) "
      ],
      "text/plain": [
       "<IPython.core.display.Markdown object>"
      ]
     },
     "execution_count": 4,
     "metadata": {},
     "output_type": "execute_result"
    }
   ],
   "source": [
    "#hide_input\n",
    "#md('##### {}'.format(titleBTC)) \n",
    "md(\"- {}{} {}{} [| Skaityti daugiau]({}) \".format(btc['title'],'. ', btc['body'], ' ...', btc['url']))"
   ]
  },
  {
   "cell_type": "code",
   "execution_count": 5,
   "id": "organic-actress",
   "metadata": {
    "execution": {
     "iopub.execute_input": "2021-09-18T02:02:46.232795Z",
     "iopub.status.busy": "2021-09-18T02:02:46.232095Z",
     "iopub.status.idle": "2021-09-18T02:02:46.235150Z",
     "shell.execute_reply": "2021-09-18T02:02:46.235878Z"
    },
    "papermill": {
     "duration": 0.019859,
     "end_time": "2021-09-18T02:02:46.236052",
     "exception": false,
     "start_time": "2021-09-18T02:02:46.216193",
     "status": "completed"
    },
    "tags": []
   },
   "outputs": [
    {
     "data": {
      "text/markdown": [
       "- Evolve or die: How smart contracts are shifting the crypto sector’s balance of power.  Smart contract capabilities are rendering old-school megalithic crypto projects obsolete as blockchains evolve beyond just being a medium of exchange. ... [| Skaityti daugiau](https://cointelegraph.com/news/evolve-or-die-how-smart-contracts-are-shifting-the-crypto-sector-s-balance-of-power) "
      ],
      "text/plain": [
       "<IPython.core.display.Markdown object>"
      ]
     },
     "execution_count": 5,
     "metadata": {},
     "output_type": "execute_result"
    }
   ],
   "source": [
    "#hide_input\n",
    "#md('##### {}'.format(titleBTC)) \n",
    "md(\"- {}{} {}{} [| Skaityti daugiau]({}) \".format(xrp['title'],'. ', xrp['body'], ' ...', xrp['url']))"
   ]
  },
  {
   "cell_type": "code",
   "execution_count": 6,
   "id": "prompt-farmer",
   "metadata": {
    "execution": {
     "iopub.execute_input": "2021-09-18T02:02:46.267087Z",
     "iopub.status.busy": "2021-09-18T02:02:46.266416Z",
     "iopub.status.idle": "2021-09-18T02:02:46.269836Z",
     "shell.execute_reply": "2021-09-18T02:02:46.269286Z"
    },
    "papermill": {
     "duration": 0.020513,
     "end_time": "2021-09-18T02:02:46.269957",
     "exception": false,
     "start_time": "2021-09-18T02:02:46.249444",
     "status": "completed"
    },
    "tags": []
   },
   "outputs": [
    {
     "data": {
      "text/markdown": [
       "- TRON price analysis: Tron under pressure as TRX/USD descends to $0.12.   TL;DR Breakdown TRON price analysis shows the cryptocurrency is undergoing bearish stress.Price has lowered up to $0.12 today.Support level is fixed at $0.1 currently. The TRON price analysis is going bearish as the trends have undergone an unexpected reversal. The successive bullish streak has been broken today because of the bearish pressure, and the price has undergone a reduction up to $0.118. This downtrend has been quite surprising for the experts as the market was expecting the price to bounce above $0.121 resistance. Yet, the bears have taken their position on today&#8217;s price chart as per the analysis.  TRX/USD 1-day price chart: Green candlestick elongates enough to pierce through $0.11 The 24-hours TRX price chart for TRON price analysis is showing that a bullish activity is taking place today as the price has increased up to $0.12. Although in the past few days, the bears have tried to exert pressure as well which has been successfully overpowered by the bulls. The bullish momentum has been quite high today, as the Moving Average (MA) value is present way below the current price value i.e. at $0.099. The short-term trending line is also going in the upwards direction, thus confirming the bullish trend. TRX/USD 1-day price chart. Source: TradingView The bulls have been reigning the entire day, which is why the Bollinger bands average is at 0.096. The upper band is showing the value of $0.114 whereas the lower ba... ... [| Skaityti daugiau](https://api.follow.it/track-rss-story-click/v3/tHfgumto13Ape6xjcp_xAhtLdxSOwF-n) "
      ],
      "text/plain": [
       "<IPython.core.display.Markdown object>"
      ]
     },
     "execution_count": 6,
     "metadata": {},
     "output_type": "execute_result"
    }
   ],
   "source": [
    "#hide_input\n",
    "#md('##### {}'.format(titleBTC)) \n",
    "md(\"- {}{} {}{} [| Skaityti daugiau]({}) \".format(trx['title'],'. ', trx['body'], ' ...', trx['url']))"
   ]
  },
  {
   "cell_type": "code",
   "execution_count": 7,
   "id": "illegal-greece",
   "metadata": {
    "execution": {
     "iopub.execute_input": "2021-09-18T02:02:46.302869Z",
     "iopub.status.busy": "2021-09-18T02:02:46.301946Z",
     "iopub.status.idle": "2021-09-18T02:02:46.306435Z",
     "shell.execute_reply": "2021-09-18T02:02:46.305796Z"
    },
    "papermill": {
     "duration": 0.023727,
     "end_time": "2021-09-18T02:02:46.306558",
     "exception": false,
     "start_time": "2021-09-18T02:02:46.282831",
     "status": "completed"
    },
    "tags": []
   },
   "outputs": [
    {
     "data": {
      "text/markdown": [
       "- Ethereum Records Phenomenal Outflow! Will ETH Price Hit $3800 This Weekend ?.  The post Ethereum Records Phenomenal Outflow! Will ETH Price Hit $3800 This Weekend ? appeared first on Coinpedia - Fintech &amp; Cryptocurreny News Media| Crypto GuideETH Price Action Since yesterday, when the market began to roll over and fall within the channel, ETH has not been able to ascend much higher than $3500. The Ethereum price is still lingering in the $3400 but if the bulls return to the market, the price might increase further and break to the upside. &#8230; ... [| Skaityti daugiau](https://coinpedia.org/price-analysis/ethereum-records-phenomenal-outflow-will-eth-price-hit-3800-this-weekend/) "
      ],
      "text/plain": [
       "<IPython.core.display.Markdown object>"
      ]
     },
     "execution_count": 7,
     "metadata": {},
     "output_type": "execute_result"
    }
   ],
   "source": [
    "#hide_input\n",
    "#md('##### {}'.format(titleBTC)) \n",
    "md(\"- {}{} {}{} [| Skaityti daugiau]({}) \".format(eth['title'],'. ', eth['body'], ' ...', eth['url']))"
   ]
  },
  {
   "cell_type": "code",
   "execution_count": 8,
   "id": "sublime-lounge",
   "metadata": {
    "execution": {
     "iopub.execute_input": "2021-09-18T02:02:46.338909Z",
     "iopub.status.busy": "2021-09-18T02:02:46.338217Z",
     "iopub.status.idle": "2021-09-18T02:02:46.341573Z",
     "shell.execute_reply": "2021-09-18T02:02:46.340934Z"
    },
    "papermill": {
     "duration": 0.021586,
     "end_time": "2021-09-18T02:02:46.341700",
     "exception": false,
     "start_time": "2021-09-18T02:02:46.320114",
     "status": "completed"
    },
    "tags": []
   },
   "outputs": [
    {
     "data": {
      "text/markdown": [
       "- Cardano Price Gearing up for a Breakout ! But First, a Correction is Imminent.  The post Cardano Price Gearing up for a Breakout ! But First, a Correction is Imminent appeared first on Coinpedia - Fintech &amp; Cryptocurreny News Media| Crypto GuideThe broader market has been trending lower for the past 24 hours. Bitcoin was down 0.78 percent, and Ethereum was down 2.48 percent. With a 9% increase, Avalanche remains the most successful. On a consistent downtrend right now is ADA. The token has dipped approx 10% from the 7-day high achieved around the time its &#8230; ... [| Skaityti daugiau](https://coinpedia.org/price-analysis/cardano-price-gearing-up-for-a-breakout-but-first-a-correction-is-imminent/) "
      ],
      "text/plain": [
       "<IPython.core.display.Markdown object>"
      ]
     },
     "execution_count": 8,
     "metadata": {},
     "output_type": "execute_result"
    }
   ],
   "source": [
    "#hide_input\n",
    "#md('##### {}'.format(titleBTC)) \n",
    "md(\"- {}{} {}{} [| Skaityti daugiau]({}) \".format(ada['title'],'. ', ada['body'], ' ...', ada['url']))"
   ]
  },
  {
   "cell_type": "code",
   "execution_count": 9,
   "id": "specified-ordering",
   "metadata": {
    "execution": {
     "iopub.execute_input": "2021-09-18T02:02:46.375095Z",
     "iopub.status.busy": "2021-09-18T02:02:46.374414Z",
     "iopub.status.idle": "2021-09-18T02:02:46.377215Z",
     "shell.execute_reply": "2021-09-18T02:02:46.377745Z"
    },
    "papermill": {
     "duration": 0.021646,
     "end_time": "2021-09-18T02:02:46.377880",
     "exception": false,
     "start_time": "2021-09-18T02:02:46.356234",
     "status": "completed"
    },
    "tags": []
   },
   "outputs": [
    {
     "data": {
      "text/markdown": [
       "- Evolve or die: How smart contracts are shifting the crypto sector’s balance of power.  Smart contract capabilities are rendering old-school megalithic crypto projects obsolete as blockchains evolve beyond just being a medium of exchange. ... [| Skaityti daugiau](https://cointelegraph.com/news/evolve-or-die-how-smart-contracts-are-shifting-the-crypto-sector-s-balance-of-power) "
      ],
      "text/plain": [
       "<IPython.core.display.Markdown object>"
      ]
     },
     "execution_count": 9,
     "metadata": {},
     "output_type": "execute_result"
    }
   ],
   "source": [
    "#hide_input\n",
    "#md('##### {}'.format(titleBTC)) \n",
    "md(\"- {}{} {}{} [| Skaityti daugiau]({}) \".format(exchange['title'],'. ', exchange['body'], ' ...', exchange['url']))"
   ]
  },
  {
   "cell_type": "code",
   "execution_count": null,
   "id": "tender-livestock",
   "metadata": {
    "papermill": {
     "duration": 0.014647,
     "end_time": "2021-09-18T02:02:46.406949",
     "exception": false,
     "start_time": "2021-09-18T02:02:46.392302",
     "status": "completed"
    },
    "tags": []
   },
   "outputs": [],
   "source": []
  },
  {
   "cell_type": "code",
   "execution_count": null,
   "id": "appreciated-diamond",
   "metadata": {
    "papermill": {
     "duration": 0.015111,
     "end_time": "2021-09-18T02:02:46.436057",
     "exception": false,
     "start_time": "2021-09-18T02:02:46.420946",
     "status": "completed"
    },
    "tags": []
   },
   "outputs": [],
   "source": []
  },
  {
   "cell_type": "code",
   "execution_count": null,
   "id": "romance-sweden",
   "metadata": {
    "papermill": {
     "duration": 0.013903,
     "end_time": "2021-09-18T02:02:46.464698",
     "exception": false,
     "start_time": "2021-09-18T02:02:46.450795",
     "status": "completed"
    },
    "tags": []
   },
   "outputs": [],
   "source": []
  },
  {
   "cell_type": "code",
   "execution_count": null,
   "id": "dietary-statistics",
   "metadata": {
    "papermill": {
     "duration": 0.014259,
     "end_time": "2021-09-18T02:02:46.493353",
     "exception": false,
     "start_time": "2021-09-18T02:02:46.479094",
     "status": "completed"
    },
    "tags": []
   },
   "outputs": [],
   "source": []
  }
 ],
 "metadata": {
  "kernelspec": {
   "display_name": "Python 3",
   "language": "python",
   "name": "python3"
  },
  "language_info": {
   "codemirror_mode": {
    "name": "ipython",
    "version": 3
   },
   "file_extension": ".py",
   "mimetype": "text/x-python",
   "name": "python",
   "nbconvert_exporter": "python",
   "pygments_lexer": "ipython3",
   "version": "3.6.15"
  },
  "papermill": {
   "default_parameters": {},
   "duration": 12.107137,
   "end_time": "2021-09-18T02:02:47.017551",
   "environment_variables": {},
   "exception": null,
   "input_path": "Market-News.ipynb",
   "output_path": "Market-News.ipynb",
   "parameters": {},
   "start_time": "2021-09-18T02:02:34.910414",
   "version": "2.2.2"
  }
 },
 "nbformat": 4,
 "nbformat_minor": 5
}