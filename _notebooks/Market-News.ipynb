{
 "cells": [
  {
   "cell_type": "markdown",
   "id": "short-greensboro",
   "metadata": {
    "papermill": {
     "duration": 0.012731,
     "end_time": "2022-08-01T03:33:16.441453",
     "exception": false,
     "start_time": "2022-08-01T03:33:16.428722",
     "status": "completed"
    },
    "tags": []
   },
   "source": [
    "# Kriptovaliutų naujienos"
   ]
  },
  {
   "cell_type": "code",
   "execution_count": 1,
   "id": "functioning-knowing",
   "metadata": {
    "execution": {
     "iopub.execute_input": "2022-08-01T03:33:16.470373Z",
     "iopub.status.busy": "2022-08-01T03:33:16.469798Z",
     "iopub.status.idle": "2022-08-01T03:33:17.593772Z",
     "shell.execute_reply": "2022-08-01T03:33:17.592812Z"
    },
    "papermill": {
     "duration": 1.142293,
     "end_time": "2022-08-01T03:33:17.593906",
     "exception": false,
     "start_time": "2022-08-01T03:33:16.451613",
     "status": "completed"
    },
    "tags": []
   },
   "outputs": [],
   "source": [
    "#hide_input\n",
    "import warnings\n",
    "warnings.filterwarnings('ignore')\n",
    "from scripts.read_data import read_api\n",
    "from scripts.read_data import read_news\n",
    "from scripts.read_data import read_covid\n",
    "import matplotlib.pyplot as plt \n",
    "from IPython.display import Markdown as md"
   ]
  },
  {
   "cell_type": "code",
   "execution_count": 2,
   "id": "shared-acceptance",
   "metadata": {
    "execution": {
     "iopub.execute_input": "2022-08-01T03:33:17.617718Z",
     "iopub.status.busy": "2022-08-01T03:33:17.617137Z",
     "iopub.status.idle": "2022-08-01T03:33:29.631853Z",
     "shell.execute_reply": "2022-08-01T03:33:29.631386Z"
    },
    "papermill": {
     "duration": 12.028698,
     "end_time": "2022-08-01T03:33:29.631965",
     "exception": false,
     "start_time": "2022-08-01T03:33:17.603267",
     "status": "completed"
    },
    "tags": []
   },
   "outputs": [],
   "source": [
    "#hide_input\n",
    "blockchain = read_news('blockchain') \n",
    "btc = read_news('btc') \n",
    "xrp = read_news('xrp') \n",
    "trx = read_news('trx') \n",
    "eth = read_news('eth')  \n",
    "ada = read_news('ada')\n",
    "exchange = read_news('exchange') "
   ]
  },
  {
   "cell_type": "code",
   "execution_count": 3,
   "id": "synthetic-notion",
   "metadata": {
    "execution": {
     "iopub.execute_input": "2022-08-01T03:33:29.658219Z",
     "iopub.status.busy": "2022-08-01T03:33:29.657645Z",
     "iopub.status.idle": "2022-08-01T03:33:29.660690Z",
     "shell.execute_reply": "2022-08-01T03:33:29.660135Z"
    },
    "papermill": {
     "duration": 0.019357,
     "end_time": "2022-08-01T03:33:29.660787",
     "exception": false,
     "start_time": "2022-08-01T03:33:29.641430",
     "status": "completed"
    },
    "tags": []
   },
   "outputs": [
    {
     "data": {
      "text/markdown": [
       "- DAO Votes To Support The Creation Of GHO Stablecoin.  Aave DAO, the body responsible for the Aave DeFi protocol, has approved the creation of the GHO stablecoin. The snapshot vote, which ended at 6 am EDT today, passed with near-unanimous approval by the DAO. The data on the voting page shows the DAO members in total. 501,000 AAVE tokens were in favor of the [&#8230;] ... [| Skaityti daugiau](https://coinnounce.com/dao-votes-to-support-the-creation-of-gho-stablecoin/) "
      ],
      "text/plain": [
       "<IPython.core.display.Markdown object>"
      ]
     },
     "execution_count": 3,
     "metadata": {},
     "output_type": "execute_result"
    }
   ],
   "source": [
    "#hide_input\n",
    "#md('##### {}'.format(titleBTC)) \n",
    "md(\"- {}{} {}{} [| Skaityti daugiau]({}) \".format(blockchain['title'],'. ', blockchain['body'], ' ...', blockchain['url']))"
   ]
  },
  {
   "cell_type": "code",
   "execution_count": 4,
   "id": "aging-caution",
   "metadata": {
    "execution": {
     "iopub.execute_input": "2022-08-01T03:33:29.683978Z",
     "iopub.status.busy": "2022-08-01T03:33:29.683401Z",
     "iopub.status.idle": "2022-08-01T03:33:29.685958Z",
     "shell.execute_reply": "2022-08-01T03:33:29.686387Z"
    },
    "papermill": {
     "duration": 0.016339,
     "end_time": "2022-08-01T03:33:29.686493",
     "exception": false,
     "start_time": "2022-08-01T03:33:29.670154",
     "status": "completed"
    },
    "tags": []
   },
   "outputs": [
    {
     "data": {
      "text/markdown": [
       "- TA: Bitcoin Price Struggles Below $25K, Signs of Double Top Emerges.  Bitcoin failed to clear the $25,000 resistance zone against the US Dollar. BTC is declining and might break the $23,250 support zone. Bitcoin attempted a clear move towards the $25,000 resistance but failed. The price is now trading below the $24,000 level and the 100 hourly simple moving average. There was a break below a key bullish trend line with support near $23,750 on the hourly chart of the BTC/USD pair (data feed from Kraken). The pair must clear the $24,200 resistance to continue higher in the near term. Bitcoin Price Signals Breakdown Bitcoin price gained pace above the $23,500 resistance zone. There was a clear move above the $24,000 level and the price even broke the $24,500 level. It attempted a clear move towards the $25,000 resistance but failed. A high was formed near $24,670 and the price started a fresh decline. There was a move below the $24,200 and $24,000 support levels to move into a short-term bearish zone. Bitcoin declined below the 23.6% Fib retracement level of the upward move from the $20,696 swing low to $24,670 high. Besides, there was a break below a key bullish trend line with support near $23,750 on the hourly chart of the BTC/USD pair. The price is now trading below the $24,000 level and the 100 hourly simple moving average. The bulls are now protecting more losses below the $23,250 level. On the upside, the price is facing resistance near the $23,750 level and the 100 hourly simple moving aver... ... [| Skaityti daugiau](https://www.newsbtc.com/analysis/btc/bitcoin-price-struggles-below-25k/) "
      ],
      "text/plain": [
       "<IPython.core.display.Markdown object>"
      ]
     },
     "execution_count": 4,
     "metadata": {},
     "output_type": "execute_result"
    }
   ],
   "source": [
    "#hide_input\n",
    "#md('##### {}'.format(titleBTC)) \n",
    "md(\"- {}{} {}{} [| Skaityti daugiau]({}) \".format(btc['title'],'. ', btc['body'], ' ...', btc['url']))"
   ]
  },
  {
   "cell_type": "code",
   "execution_count": 5,
   "id": "organic-actress",
   "metadata": {
    "execution": {
     "iopub.execute_input": "2022-08-01T03:33:29.709410Z",
     "iopub.status.busy": "2022-08-01T03:33:29.708661Z",
     "iopub.status.idle": "2022-08-01T03:33:29.712678Z",
     "shell.execute_reply": "2022-08-01T03:33:29.712235Z"
    },
    "papermill": {
     "duration": 0.016612,
     "end_time": "2022-08-01T03:33:29.712769",
     "exception": false,
     "start_time": "2022-08-01T03:33:29.696157",
     "status": "completed"
    },
    "tags": []
   },
   "outputs": [
    {
     "data": {
      "text/markdown": [
       "- Ripple Sold $409M Worth of XRP in the Second Quarter.  While many crypto giants collapsed in the second quarter, including Terra, Three Arrows Capital, Celsius, and BlockFi, Ripple has affirmed that it made significant strides to increase the utility of... ... [| Skaityti daugiau](https://cryptobriefing.com/ripple-sold-409m-worth-of-xrp-in-q2/?utm_source=feed&utm_medium=rss) "
      ],
      "text/plain": [
       "<IPython.core.display.Markdown object>"
      ]
     },
     "execution_count": 5,
     "metadata": {},
     "output_type": "execute_result"
    }
   ],
   "source": [
    "#hide_input\n",
    "#md('##### {}'.format(titleBTC)) \n",
    "md(\"- {}{} {}{} [| Skaityti daugiau]({}) \".format(xrp['title'],'. ', xrp['body'], ' ...', xrp['url']))"
   ]
  },
  {
   "cell_type": "code",
   "execution_count": 6,
   "id": "prompt-farmer",
   "metadata": {
    "execution": {
     "iopub.execute_input": "2022-08-01T03:33:29.737107Z",
     "iopub.status.busy": "2022-08-01T03:33:29.736474Z",
     "iopub.status.idle": "2022-08-01T03:33:29.739101Z",
     "shell.execute_reply": "2022-08-01T03:33:29.739525Z"
    },
    "papermill": {
     "duration": 0.016939,
     "end_time": "2022-08-01T03:33:29.739629",
     "exception": false,
     "start_time": "2022-08-01T03:33:29.722690",
     "status": "completed"
    },
    "tags": []
   },
   "outputs": [
    {
     "data": {
      "text/markdown": [
       "- MAXUSDT (TRX) Offers Most Reliable and Cost-effective Cloud Mining Services.  Cloud mining is the exact opposite of what you&#8217;d expect to find in old-fashioned mining. Hardware mining, the most common ... [| Skaityti daugiau](https://thenewscrypto.com/maxusdt-trx-offers-most-reliable-and-cost-effective-cloud-mining-services/) "
      ],
      "text/plain": [
       "<IPython.core.display.Markdown object>"
      ]
     },
     "execution_count": 6,
     "metadata": {},
     "output_type": "execute_result"
    }
   ],
   "source": [
    "#hide_input\n",
    "#md('##### {}'.format(titleBTC)) \n",
    "md(\"- {}{} {}{} [| Skaityti daugiau]({}) \".format(trx['title'],'. ', trx['body'], ' ...', trx['url']))"
   ]
  },
  {
   "cell_type": "code",
   "execution_count": 7,
   "id": "illegal-greece",
   "metadata": {
    "execution": {
     "iopub.execute_input": "2022-08-01T03:33:29.764977Z",
     "iopub.status.busy": "2022-08-01T03:33:29.764354Z",
     "iopub.status.idle": "2022-08-01T03:33:29.766765Z",
     "shell.execute_reply": "2022-08-01T03:33:29.767213Z"
    },
    "papermill": {
     "duration": 0.017287,
     "end_time": "2022-08-01T03:33:29.767317",
     "exception": false,
     "start_time": "2022-08-01T03:33:29.750030",
     "status": "completed"
    },
    "tags": []
   },
   "outputs": [
    {
     "data": {
      "text/markdown": [
       "- Ethereum, BNB Chain, or Tron – What do the latest TVL figures tell us.  From the east to the west, from the north to the south, from NFTs to Decentralised finance (DeFi), the negative impact of the crypto-winter has been undeniable. in fact, according to DefiLlama, the DeFi ecosystem registered a 69% decline in total volume locked (TVL) on protocols across all chains in the first half of the [&#8230;] ... [| Skaityti daugiau](https://ambcrypto.com/ethereum-bnb-chain-or-tron-what-do-the-latest-tvl-figures-tell-us/) "
      ],
      "text/plain": [
       "<IPython.core.display.Markdown object>"
      ]
     },
     "execution_count": 7,
     "metadata": {},
     "output_type": "execute_result"
    }
   ],
   "source": [
    "#hide_input\n",
    "#md('##### {}'.format(titleBTC)) \n",
    "md(\"- {}{} {}{} [| Skaityti daugiau]({}) \".format(eth['title'],'. ', eth['body'], ' ...', eth['url']))"
   ]
  },
  {
   "cell_type": "code",
   "execution_count": 8,
   "id": "sublime-lounge",
   "metadata": {
    "execution": {
     "iopub.execute_input": "2022-08-01T03:33:29.793451Z",
     "iopub.status.busy": "2022-08-01T03:33:29.792621Z",
     "iopub.status.idle": "2022-08-01T03:33:29.796430Z",
     "shell.execute_reply": "2022-08-01T03:33:29.796875Z"
    },
    "papermill": {
     "duration": 0.018108,
     "end_time": "2022-08-01T03:33:29.796983",
     "exception": false,
     "start_time": "2022-08-01T03:33:29.778875",
     "status": "completed"
    },
    "tags": []
   },
   "outputs": [
    {
     "data": {
      "text/markdown": [
       "- Cardano price analysis: ADA stays on course to test $0.6 resistance.  Cardano price analysis remains bullish, as price continues to trend upwards along a bullish hammer pattern on the daily chart. The extended uptrend initiated on July 27, 2022 with price set at $0.45 and has taken ADA price up to a 30-day high at $0.55. Price at the time of writing is consolidating just under &#8230;  Cardano price analysis: ADA stays on course to test $0.6 resistance Read More &#187; ... [| Skaityti daugiau](https://www.cryptopolitan.com/cardano-price-analysis-2022-07-31/) "
      ],
      "text/plain": [
       "<IPython.core.display.Markdown object>"
      ]
     },
     "execution_count": 8,
     "metadata": {},
     "output_type": "execute_result"
    }
   ],
   "source": [
    "#hide_input\n",
    "#md('##### {}'.format(titleBTC)) \n",
    "md(\"- {}{} {}{} [| Skaityti daugiau]({}) \".format(ada['title'],'. ', ada['body'], ' ...', ada['url']))"
   ]
  },
  {
   "cell_type": "code",
   "execution_count": 9,
   "id": "specified-ordering",
   "metadata": {
    "execution": {
     "iopub.execute_input": "2022-08-01T03:33:29.822586Z",
     "iopub.status.busy": "2022-08-01T03:33:29.821917Z",
     "iopub.status.idle": "2022-08-01T03:33:29.825610Z",
     "shell.execute_reply": "2022-08-01T03:33:29.825063Z"
    },
    "papermill": {
     "duration": 0.017865,
     "end_time": "2022-08-01T03:33:29.825708",
     "exception": false,
     "start_time": "2022-08-01T03:33:29.807843",
     "status": "completed"
    },
    "tags": []
   },
   "outputs": [
    {
     "data": {
      "text/markdown": [
       "- Charles Schwab’s $655B Asset Management Arm to Start Trading Crypto-Related ETF This Week.  Charles Schwab&#x2019;s $655 billion asset management arm is launching its first crypto-related exchange-traded fund (ETF). The new fund is expected to start trading this week on the NYSE Arca exchange. Charles Schwab Launches Its First Crypto-Related ETF Schwab Asset Management, a subsidiary of The Charles Schwab Corp., announced last week the launch of the Schwab [&#8230;] ... [| Skaityti daugiau](https://news.bitcoin.com/charles-schwabs-655b-asset-management-arm-to-start-trading-crypto-related-etf-this-week/) "
      ],
      "text/plain": [
       "<IPython.core.display.Markdown object>"
      ]
     },
     "execution_count": 9,
     "metadata": {},
     "output_type": "execute_result"
    }
   ],
   "source": [
    "#hide_input\n",
    "#md('##### {}'.format(titleBTC)) \n",
    "md(\"- {}{} {}{} [| Skaityti daugiau]({}) \".format(exchange['title'],'. ', exchange['body'], ' ...', exchange['url']))"
   ]
  },
  {
   "cell_type": "code",
   "execution_count": null,
   "id": "tender-livestock",
   "metadata": {
    "papermill": {
     "duration": 0.011181,
     "end_time": "2022-08-01T03:33:29.848088",
     "exception": false,
     "start_time": "2022-08-01T03:33:29.836907",
     "status": "completed"
    },
    "tags": []
   },
   "outputs": [],
   "source": []
  },
  {
   "cell_type": "code",
   "execution_count": null,
   "id": "appreciated-diamond",
   "metadata": {
    "papermill": {
     "duration": 0.011393,
     "end_time": "2022-08-01T03:33:29.870762",
     "exception": false,
     "start_time": "2022-08-01T03:33:29.859369",
     "status": "completed"
    },
    "tags": []
   },
   "outputs": [],
   "source": []
  },
  {
   "cell_type": "code",
   "execution_count": null,
   "id": "romance-sweden",
   "metadata": {
    "papermill": {
     "duration": 0.011135,
     "end_time": "2022-08-01T03:33:29.893077",
     "exception": false,
     "start_time": "2022-08-01T03:33:29.881942",
     "status": "completed"
    },
    "tags": []
   },
   "outputs": [],
   "source": []
  },
  {
   "cell_type": "code",
   "execution_count": null,
   "id": "dietary-statistics",
   "metadata": {
    "papermill": {
     "duration": 0.011113,
     "end_time": "2022-08-01T03:33:29.915435",
     "exception": false,
     "start_time": "2022-08-01T03:33:29.904322",
     "status": "completed"
    },
    "tags": []
   },
   "outputs": [],
   "source": []
  }
 ],
 "metadata": {
  "kernelspec": {
   "display_name": "Python 3",
   "language": "python",
   "name": "python3"
  },
  "language_info": {
   "codemirror_mode": {
    "name": "ipython",
    "version": 3
   },
   "file_extension": ".py",
   "mimetype": "text/x-python",
   "name": "python",
   "nbconvert_exporter": "python",
   "pygments_lexer": "ipython3",
   "version": "3.6.15"
  },
  "papermill": {
   "default_parameters": {},
   "duration": 14.715017,
   "end_time": "2022-08-01T03:33:30.244407",
   "environment_variables": {},
   "exception": null,
   "input_path": "Market-News.ipynb",
   "output_path": "Market-News.ipynb",
   "parameters": {},
   "start_time": "2022-08-01T03:33:15.529390",
   "version": "2.2.2"
  }
 },
 "nbformat": 4,
 "nbformat_minor": 5
}