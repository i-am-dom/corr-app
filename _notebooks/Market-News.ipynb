{
 "cells": [
  {
   "cell_type": "markdown",
   "id": "short-greensboro",
   "metadata": {
    "papermill": {
     "duration": 0.012773,
     "end_time": "2022-08-19T03:20:54.293092",
     "exception": false,
     "start_time": "2022-08-19T03:20:54.280319",
     "status": "completed"
    },
    "tags": []
   },
   "source": [
    "# Kriptovaliutų naujienos"
   ]
  },
  {
   "cell_type": "code",
   "execution_count": 1,
   "id": "functioning-knowing",
   "metadata": {
    "execution": {
     "iopub.execute_input": "2022-08-19T03:20:54.321976Z",
     "iopub.status.busy": "2022-08-19T03:20:54.321381Z",
     "iopub.status.idle": "2022-08-19T03:20:55.514904Z",
     "shell.execute_reply": "2022-08-19T03:20:55.514403Z"
    },
    "papermill": {
     "duration": 1.212182,
     "end_time": "2022-08-19T03:20:55.515055",
     "exception": false,
     "start_time": "2022-08-19T03:20:54.302873",
     "status": "completed"
    },
    "tags": []
   },
   "outputs": [],
   "source": [
    "#hide_input\n",
    "import warnings\n",
    "warnings.filterwarnings('ignore')\n",
    "from scripts.read_data import read_api\n",
    "from scripts.read_data import read_news\n",
    "from scripts.read_data import read_covid\n",
    "import matplotlib.pyplot as plt \n",
    "from IPython.display import Markdown as md"
   ]
  },
  {
   "cell_type": "code",
   "execution_count": 2,
   "id": "shared-acceptance",
   "metadata": {
    "execution": {
     "iopub.execute_input": "2022-08-19T03:20:55.540597Z",
     "iopub.status.busy": "2022-08-19T03:20:55.539570Z",
     "iopub.status.idle": "2022-08-19T03:21:07.341730Z",
     "shell.execute_reply": "2022-08-19T03:21:07.341216Z"
    },
    "papermill": {
     "duration": 11.817377,
     "end_time": "2022-08-19T03:21:07.341842",
     "exception": false,
     "start_time": "2022-08-19T03:20:55.524465",
     "status": "completed"
    },
    "tags": []
   },
   "outputs": [],
   "source": [
    "#hide_input\n",
    "blockchain = read_news('blockchain') \n",
    "btc = read_news('btc') \n",
    "xrp = read_news('xrp') \n",
    "trx = read_news('trx') \n",
    "eth = read_news('eth')  \n",
    "ada = read_news('ada')\n",
    "exchange = read_news('exchange') "
   ]
  },
  {
   "cell_type": "code",
   "execution_count": 3,
   "id": "synthetic-notion",
   "metadata": {
    "execution": {
     "iopub.execute_input": "2022-08-19T03:21:07.366345Z",
     "iopub.status.busy": "2022-08-19T03:21:07.365751Z",
     "iopub.status.idle": "2022-08-19T03:21:07.368419Z",
     "shell.execute_reply": "2022-08-19T03:21:07.368832Z"
    },
    "papermill": {
     "duration": 0.01779,
     "end_time": "2022-08-19T03:21:07.368954",
     "exception": false,
     "start_time": "2022-08-19T03:21:07.351164",
     "status": "completed"
    },
    "tags": []
   },
   "outputs": [
    {
     "data": {
      "text/markdown": [
       "- Ethereum Miners Will Freeze Liquidity Pool After Hard Fork.  With the upcoming Ethereum upgrade Merge, there has been a variety of reactions from the crypto industry. The upgrade is expected to migrate the Ethereum blockchain to a Proof of Stake (PoS) mechanism using the Proof of Work (PoW) consensus mechanism. This transition will change the transaction verification process from mining to staking. Because of [&#8230;] ... [| Skaityti daugiau](https://coinnounce.com/ethereum-miners-will-freeze-liquidity-pool-after-hard-fork/) "
      ],
      "text/plain": [
       "<IPython.core.display.Markdown object>"
      ]
     },
     "execution_count": 3,
     "metadata": {},
     "output_type": "execute_result"
    }
   ],
   "source": [
    "#hide_input\n",
    "#md('##### {}'.format(titleBTC)) \n",
    "md(\"- {}{} {}{} [| Skaityti daugiau]({}) \".format(blockchain['title'],'. ', blockchain['body'], ' ...', blockchain['url']))"
   ]
  },
  {
   "cell_type": "code",
   "execution_count": 4,
   "id": "aging-caution",
   "metadata": {
    "execution": {
     "iopub.execute_input": "2022-08-19T03:21:07.394547Z",
     "iopub.status.busy": "2022-08-19T03:21:07.393226Z",
     "iopub.status.idle": "2022-08-19T03:21:07.396516Z",
     "shell.execute_reply": "2022-08-19T03:21:07.396079Z"
    },
    "papermill": {
     "duration": 0.018274,
     "end_time": "2022-08-19T03:21:07.396620",
     "exception": false,
     "start_time": "2022-08-19T03:21:07.378346",
     "status": "completed"
    },
    "tags": []
   },
   "outputs": [
    {
     "data": {
      "text/markdown": [
       "- The Financialization Of Real Estate Is The Problem, Bitcoin Is The Solution.  Some claim that Bitcoiners are the cause of price increases in developing countries’ real estate markets, but that doesn’t tell the whole story. ... [| Skaityti daugiau](https://bitcoinmagazine.com/markets/real-estate-financialization-is-the-problem-not-bitcoin) "
      ],
      "text/plain": [
       "<IPython.core.display.Markdown object>"
      ]
     },
     "execution_count": 4,
     "metadata": {},
     "output_type": "execute_result"
    }
   ],
   "source": [
    "#hide_input\n",
    "#md('##### {}'.format(titleBTC)) \n",
    "md(\"- {}{} {}{} [| Skaityti daugiau]({}) \".format(btc['title'],'. ', btc['body'], ' ...', btc['url']))"
   ]
  },
  {
   "cell_type": "code",
   "execution_count": 5,
   "id": "organic-actress",
   "metadata": {
    "execution": {
     "iopub.execute_input": "2022-08-19T03:21:07.422588Z",
     "iopub.status.busy": "2022-08-19T03:21:07.421521Z",
     "iopub.status.idle": "2022-08-19T03:21:07.424438Z",
     "shell.execute_reply": "2022-08-19T03:21:07.424857Z"
    },
    "papermill": {
     "duration": 0.018557,
     "end_time": "2022-08-19T03:21:07.424976",
     "exception": false,
     "start_time": "2022-08-19T03:21:07.406419",
     "status": "completed"
    },
    "tags": []
   },
   "outputs": [
    {
     "data": {
      "text/markdown": [
       "- Ripple Unveils XRP-Powered Enterprise Payments With Major Brazilian Bank.  The deal between the two firms will allow for the utilization of XRP for ODL purposes for the first time in Latin America. ... [| Skaityti daugiau](https://zycrypto.com/ripple-unveils-xrp-powered-enterprise-payments-with-major-brazilian-bank/) "
      ],
      "text/plain": [
       "<IPython.core.display.Markdown object>"
      ]
     },
     "execution_count": 5,
     "metadata": {},
     "output_type": "execute_result"
    }
   ],
   "source": [
    "#hide_input\n",
    "#md('##### {}'.format(titleBTC)) \n",
    "md(\"- {}{} {}{} [| Skaityti daugiau]({}) \".format(xrp['title'],'. ', xrp['body'], ' ...', xrp['url']))"
   ]
  },
  {
   "cell_type": "code",
   "execution_count": 6,
   "id": "prompt-farmer",
   "metadata": {
    "execution": {
     "iopub.execute_input": "2022-08-19T03:21:07.450019Z",
     "iopub.status.busy": "2022-08-19T03:21:07.449443Z",
     "iopub.status.idle": "2022-08-19T03:21:07.454713Z",
     "shell.execute_reply": "2022-08-19T03:21:07.455156Z"
    },
    "papermill": {
     "duration": 0.020251,
     "end_time": "2022-08-19T03:21:07.455282",
     "exception": false,
     "start_time": "2022-08-19T03:21:07.435031",
     "status": "completed"
    },
    "tags": []
   },
   "outputs": [
    {
     "data": {
      "text/markdown": [
       "- When Will TRON (TRX) Price Be Released From Current Consolidation?.  The Tron (TRX) price is trapped in a no-trading zone ranging from $0.0712 and $0.067 barriers. However, under the influence of an ascending triangle pattern, the altcoin is most likely to breach the overhead resistance. So, how far will its rally go? Key points from TRX analysis The TRX price faces intense supply pressure at The post When Will TRON (TRX) Price Be Released From Current Consolidation?  appeared first on CoinGape. ... [| Skaityti daugiau](https://coingape.com/markets/trx-price-analysis-why-0-07-breakout-could-end-current-consolidation/) "
      ],
      "text/plain": [
       "<IPython.core.display.Markdown object>"
      ]
     },
     "execution_count": 6,
     "metadata": {},
     "output_type": "execute_result"
    }
   ],
   "source": [
    "#hide_input\n",
    "#md('##### {}'.format(titleBTC)) \n",
    "md(\"- {}{} {}{} [| Skaityti daugiau]({}) \".format(trx['title'],'. ', trx['body'], ' ...', trx['url']))"
   ]
  },
  {
   "cell_type": "code",
   "execution_count": 7,
   "id": "illegal-greece",
   "metadata": {
    "execution": {
     "iopub.execute_input": "2022-08-19T03:21:07.482828Z",
     "iopub.status.busy": "2022-08-19T03:21:07.481790Z",
     "iopub.status.idle": "2022-08-19T03:21:07.485043Z",
     "shell.execute_reply": "2022-08-19T03:21:07.484598Z"
    },
    "papermill": {
     "duration": 0.019424,
     "end_time": "2022-08-19T03:21:07.485146",
     "exception": false,
     "start_time": "2022-08-19T03:21:07.465722",
     "status": "completed"
    },
    "tags": []
   },
   "outputs": [
    {
     "data": {
      "text/markdown": [
       "- Bitcoin, Ethereum, Celsius, and Stacks Daily Price Analyses – 18 August Roundup.  The global crypto market hasn&#8217;t been able to resume gains as the bearish pull is too strong. The market attempted to recover value as Bitcoin, and others showed optimism. The new changes have resulted in furthering bearishness, affecting the progress. The ongoing changes suggest that the market might yet have to go through suffering. The &#8230;  Bitcoin, Ethereum, Celsius, and Stacks Daily Price Analyses – 18 August Roundup Read More &#187; ... [| Skaityti daugiau](https://www.cryptopolitan.com/bitcoin-ethereum-celsius-and-stacks-daily-price-analyses-18-august-roundup/) "
      ],
      "text/plain": [
       "<IPython.core.display.Markdown object>"
      ]
     },
     "execution_count": 7,
     "metadata": {},
     "output_type": "execute_result"
    }
   ],
   "source": [
    "#hide_input\n",
    "#md('##### {}'.format(titleBTC)) \n",
    "md(\"- {}{} {}{} [| Skaityti daugiau]({}) \".format(eth['title'],'. ', eth['body'], ' ...', eth['url']))"
   ]
  },
  {
   "cell_type": "code",
   "execution_count": 8,
   "id": "sublime-lounge",
   "metadata": {
    "execution": {
     "iopub.execute_input": "2022-08-19T03:21:07.513342Z",
     "iopub.status.busy": "2022-08-19T03:21:07.512376Z",
     "iopub.status.idle": "2022-08-19T03:21:07.515122Z",
     "shell.execute_reply": "2022-08-19T03:21:07.515541Z"
    },
    "papermill": {
     "duration": 0.018866,
     "end_time": "2022-08-19T03:21:07.515656",
     "exception": false,
     "start_time": "2022-08-19T03:21:07.496790",
     "status": "completed"
    },
    "tags": []
   },
   "outputs": [
    {
     "data": {
      "text/markdown": [
       "- Cardano: Here’s how you can make the most out of ADA’s bull run.  Disclaimer: The findings of the following analysis are the sole opinions of the writer and should not be considered investment advice The last five weeks have supported Cardano&#8217;s [ADA] recovery efforts as it gathered enough thrust to breach the $0.537 barrier. Going forward, the resultant up channel&#8217;s lower boundary can reignite near-term revival inclinations before a [&#8230;] ... [| Skaityti daugiau](https://ambcrypto.com/cardano-heres-how-you-can-make-the-most-out-of-adas-bull-run/) "
      ],
      "text/plain": [
       "<IPython.core.display.Markdown object>"
      ]
     },
     "execution_count": 8,
     "metadata": {},
     "output_type": "execute_result"
    }
   ],
   "source": [
    "#hide_input\n",
    "#md('##### {}'.format(titleBTC)) \n",
    "md(\"- {}{} {}{} [| Skaityti daugiau]({}) \".format(ada['title'],'. ', ada['body'], ' ...', ada['url']))"
   ]
  },
  {
   "cell_type": "code",
   "execution_count": 9,
   "id": "specified-ordering",
   "metadata": {
    "execution": {
     "iopub.execute_input": "2022-08-19T03:21:07.544332Z",
     "iopub.status.busy": "2022-08-19T03:21:07.543347Z",
     "iopub.status.idle": "2022-08-19T03:21:07.546090Z",
     "shell.execute_reply": "2022-08-19T03:21:07.546508Z"
    },
    "papermill": {
     "duration": 0.020067,
     "end_time": "2022-08-19T03:21:07.546622",
     "exception": false,
     "start_time": "2022-08-19T03:21:07.526555",
     "status": "completed"
    },
    "tags": []
   },
   "outputs": [
    {
     "data": {
      "text/markdown": [
       "- Robinhood lands steep 60% discount on $170M exchange acquisition: Report.  The US-based stock and crypto trading platform has reportedly secured a 60% cut on the initial offer made to Ziglu due to poor market conditions. ... [| Skaityti daugiau](https://cointelegraph.com/news/robinhood-lands-steep-60-discount-on-170m-exchange-acquisition-report) "
      ],
      "text/plain": [
       "<IPython.core.display.Markdown object>"
      ]
     },
     "execution_count": 9,
     "metadata": {},
     "output_type": "execute_result"
    }
   ],
   "source": [
    "#hide_input\n",
    "#md('##### {}'.format(titleBTC)) \n",
    "md(\"- {}{} {}{} [| Skaityti daugiau]({}) \".format(exchange['title'],'. ', exchange['body'], ' ...', exchange['url']))"
   ]
  },
  {
   "cell_type": "code",
   "execution_count": null,
   "id": "tender-livestock",
   "metadata": {
    "papermill": {
     "duration": 0.011377,
     "end_time": "2022-08-19T03:21:07.569309",
     "exception": false,
     "start_time": "2022-08-19T03:21:07.557932",
     "status": "completed"
    },
    "tags": []
   },
   "outputs": [],
   "source": []
  },
  {
   "cell_type": "code",
   "execution_count": null,
   "id": "appreciated-diamond",
   "metadata": {
    "papermill": {
     "duration": 0.011524,
     "end_time": "2022-08-19T03:21:07.592244",
     "exception": false,
     "start_time": "2022-08-19T03:21:07.580720",
     "status": "completed"
    },
    "tags": []
   },
   "outputs": [],
   "source": []
  },
  {
   "cell_type": "code",
   "execution_count": null,
   "id": "romance-sweden",
   "metadata": {
    "papermill": {
     "duration": 0.011229,
     "end_time": "2022-08-19T03:21:07.615747",
     "exception": false,
     "start_time": "2022-08-19T03:21:07.604518",
     "status": "completed"
    },
    "tags": []
   },
   "outputs": [],
   "source": []
  },
  {
   "cell_type": "code",
   "execution_count": null,
   "id": "dietary-statistics",
   "metadata": {
    "papermill": {
     "duration": 0.011322,
     "end_time": "2022-08-19T03:21:07.638757",
     "exception": false,
     "start_time": "2022-08-19T03:21:07.627435",
     "status": "completed"
    },
    "tags": []
   },
   "outputs": [],
   "source": []
  }
 ],
 "metadata": {
  "kernelspec": {
   "display_name": "Python 3",
   "language": "python",
   "name": "python3"
  },
  "language_info": {
   "codemirror_mode": {
    "name": "ipython",
    "version": 3
   },
   "file_extension": ".py",
   "mimetype": "text/x-python",
   "name": "python",
   "nbconvert_exporter": "python",
   "pygments_lexer": "ipython3",
   "version": "3.6.15"
  },
  "papermill": {
   "default_parameters": {},
   "duration": 14.712135,
   "end_time": "2022-08-19T03:21:08.067187",
   "environment_variables": {},
   "exception": null,
   "input_path": "Market-News.ipynb",
   "output_path": "Market-News.ipynb",
   "parameters": {},
   "start_time": "2022-08-19T03:20:53.355052",
   "version": "2.2.2"
  }
 },
 "nbformat": 4,
 "nbformat_minor": 5
}