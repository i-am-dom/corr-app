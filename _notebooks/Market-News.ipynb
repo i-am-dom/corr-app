{
 "cells": [
  {
   "cell_type": "markdown",
   "id": "short-greensboro",
   "metadata": {
    "papermill": {
     "duration": 0.012811,
     "end_time": "2022-11-10T03:04:45.390736",
     "exception": false,
     "start_time": "2022-11-10T03:04:45.377925",
     "status": "completed"
    },
    "tags": []
   },
   "source": [
    "# Kriptovaliutų naujienos"
   ]
  },
  {
   "cell_type": "code",
   "execution_count": 1,
   "id": "functioning-knowing",
   "metadata": {
    "execution": {
     "iopub.execute_input": "2022-11-10T03:04:45.419732Z",
     "iopub.status.busy": "2022-11-10T03:04:45.419120Z",
     "iopub.status.idle": "2022-11-10T03:04:46.557895Z",
     "shell.execute_reply": "2022-11-10T03:04:46.557399Z"
    },
    "papermill": {
     "duration": 1.157583,
     "end_time": "2022-11-10T03:04:46.558021",
     "exception": false,
     "start_time": "2022-11-10T03:04:45.400438",
     "status": "completed"
    },
    "tags": []
   },
   "outputs": [],
   "source": [
    "#hide_input\n",
    "import warnings\n",
    "warnings.filterwarnings('ignore')\n",
    "from scripts.read_data import read_api\n",
    "from scripts.read_data import read_news\n",
    "from scripts.read_data import read_covid\n",
    "import matplotlib.pyplot as plt \n",
    "from IPython.display import Markdown as md"
   ]
  },
  {
   "cell_type": "code",
   "execution_count": 2,
   "id": "shared-acceptance",
   "metadata": {
    "execution": {
     "iopub.execute_input": "2022-11-10T03:04:46.582710Z",
     "iopub.status.busy": "2022-11-10T03:04:46.581790Z",
     "iopub.status.idle": "2022-11-10T03:04:52.413972Z",
     "shell.execute_reply": "2022-11-10T03:04:52.413152Z"
    },
    "papermill": {
     "duration": 5.846649,
     "end_time": "2022-11-10T03:04:52.414088",
     "exception": false,
     "start_time": "2022-11-10T03:04:46.567439",
     "status": "completed"
    },
    "tags": []
   },
   "outputs": [],
   "source": [
    "#hide_input\n",
    "blockchain = read_news('blockchain') \n",
    "btc = read_news('btc') \n",
    "xrp = read_news('xrp') \n",
    "trx = read_news('trx') \n",
    "eth = read_news('eth')  \n",
    "ada = read_news('ada')\n",
    "exchange = read_news('exchange') "
   ]
  },
  {
   "cell_type": "code",
   "execution_count": 3,
   "id": "synthetic-notion",
   "metadata": {
    "execution": {
     "iopub.execute_input": "2022-11-10T03:04:52.438089Z",
     "iopub.status.busy": "2022-11-10T03:04:52.437534Z",
     "iopub.status.idle": "2022-11-10T03:04:52.440554Z",
     "shell.execute_reply": "2022-11-10T03:04:52.440959Z"
    },
    "papermill": {
     "duration": 0.017641,
     "end_time": "2022-11-10T03:04:52.441074",
     "exception": false,
     "start_time": "2022-11-10T03:04:52.423433",
     "status": "completed"
    },
    "tags": []
   },
   "outputs": [
    {
     "data": {
      "text/markdown": [
       "- Crypto industry should learn 2 key lessons from FTX crisis: Binance CEO.  Binance CEO Changpeng Zhao (CZ) has provided his perspective on \"two big lessons\" that may be taken from the \"events\" involving FTX. The post Crypto industry should learn 2 key lessons from FTX crisis: Binance CEO appeared first on Blockchain, Crypto and Stock News . ... [| Skaityti daugiau](https://thecoinrise.com/crypto-industry-should-learn-2-key-lessons-from-ftx-crisis-binance-ceo/) "
      ],
      "text/plain": [
       "<IPython.core.display.Markdown object>"
      ]
     },
     "execution_count": 3,
     "metadata": {},
     "output_type": "execute_result"
    }
   ],
   "source": [
    "#hide_input\n",
    "#md('##### {}'.format(titleBTC)) \n",
    "md(\"- {}{} {}{} [| Skaityti daugiau]({}) \".format(blockchain['title'],'. ', blockchain['body'], ' ...', blockchain['url']))"
   ]
  },
  {
   "cell_type": "code",
   "execution_count": 4,
   "id": "aging-caution",
   "metadata": {
    "execution": {
     "iopub.execute_input": "2022-11-10T03:04:52.464114Z",
     "iopub.status.busy": "2022-11-10T03:04:52.463552Z",
     "iopub.status.idle": "2022-11-10T03:04:52.465923Z",
     "shell.execute_reply": "2022-11-10T03:04:52.466444Z"
    },
    "papermill": {
     "duration": 0.016159,
     "end_time": "2022-11-10T03:04:52.466548",
     "exception": false,
     "start_time": "2022-11-10T03:04:52.450389",
     "status": "completed"
    },
    "tags": []
   },
   "outputs": [
    {
     "data": {
      "text/markdown": [
       "- Crypto Exchange FTX Outflows Neared 20,000 $BTC in a Day During Liquidity Crisis, Data Reveals.  Data from leading cryptocurrency markets data provider CryptoCompare has revealed that during its liquidity crisis, popular cryptocurrency trading platform FTX saw outflows of nearly 20,000 BTC. According to CrypotCompare’s deep dive into FTX’s insolvency and Binance’s move to sign a letter of intent to acquire the cryptocurrency exchange, FTX saw outflows of 19,947 BTC, worth ... [| Skaityti daugiau](https://www.cryptoglobe.com/latest/2022/11/crypto-exchange-ftx-outflows-neared-20000-btc-in-a-day-during-liquidity-crisis-data-reveals/) "
      ],
      "text/plain": [
       "<IPython.core.display.Markdown object>"
      ]
     },
     "execution_count": 4,
     "metadata": {},
     "output_type": "execute_result"
    }
   ],
   "source": [
    "#hide_input\n",
    "#md('##### {}'.format(titleBTC)) \n",
    "md(\"- {}{} {}{} [| Skaityti daugiau]({}) \".format(btc['title'],'. ', btc['body'], ' ...', btc['url']))"
   ]
  },
  {
   "cell_type": "code",
   "execution_count": 5,
   "id": "organic-actress",
   "metadata": {
    "execution": {
     "iopub.execute_input": "2022-11-10T03:04:52.490233Z",
     "iopub.status.busy": "2022-11-10T03:04:52.489663Z",
     "iopub.status.idle": "2022-11-10T03:04:52.493729Z",
     "shell.execute_reply": "2022-11-10T03:04:52.493285Z"
    },
    "papermill": {
     "duration": 0.017606,
     "end_time": "2022-11-10T03:04:52.493822",
     "exception": false,
     "start_time": "2022-11-10T03:04:52.476216",
     "status": "completed"
    },
    "tags": []
   },
   "outputs": [
    {
     "data": {
      "text/markdown": [
       "- XRP Saw 20% Price Wick, But It's Not Enough: Crypto Market Review, November 9.  XRP is having trouble on market even after 20% bounce yesterday ... [| Skaityti daugiau](https://u.today/xrp-saw-20-price-wick-but-its-not-enough-crypto-market-review-november-9) "
      ],
      "text/plain": [
       "<IPython.core.display.Markdown object>"
      ]
     },
     "execution_count": 5,
     "metadata": {},
     "output_type": "execute_result"
    }
   ],
   "source": [
    "#hide_input\n",
    "#md('##### {}'.format(titleBTC)) \n",
    "md(\"- {}{} {}{} [| Skaityti daugiau]({}) \".format(xrp['title'],'. ', xrp['body'], ' ...', xrp['url']))"
   ]
  },
  {
   "cell_type": "code",
   "execution_count": 6,
   "id": "prompt-farmer",
   "metadata": {
    "execution": {
     "iopub.execute_input": "2022-11-10T03:04:52.518001Z",
     "iopub.status.busy": "2022-11-10T03:04:52.517452Z",
     "iopub.status.idle": "2022-11-10T03:04:52.520613Z",
     "shell.execute_reply": "2022-11-10T03:04:52.520080Z"
    },
    "papermill": {
     "duration": 0.016878,
     "end_time": "2022-11-10T03:04:52.520706",
     "exception": false,
     "start_time": "2022-11-10T03:04:52.503828",
     "status": "completed"
    },
    "tags": []
   },
   "outputs": [
    {
     "data": {
      "text/markdown": [
       "- Best Cryptos to Buy Today – D2T, RIA, IMPT, TRX, TWT.  The crypto market opened today with a downturn and is set to see some additional plunges down the line. While investors would want to be cautious about moving into the market, several coins could still provide gains. This article will examine some of the digital assets with the biggest prospects. ... Read More: Best Cryptos to Buy Today – D2T, RIA, IMPT, TRX, TWT ... [| Skaityti daugiau](https://cryptonews.com/news/best-cryptos-buy-today-d2t-ria-impt-trx-twt.htm) "
      ],
      "text/plain": [
       "<IPython.core.display.Markdown object>"
      ]
     },
     "execution_count": 6,
     "metadata": {},
     "output_type": "execute_result"
    }
   ],
   "source": [
    "#hide_input\n",
    "#md('##### {}'.format(titleBTC)) \n",
    "md(\"- {}{} {}{} [| Skaityti daugiau]({}) \".format(trx['title'],'. ', trx['body'], ' ...', trx['url']))"
   ]
  },
  {
   "cell_type": "code",
   "execution_count": 7,
   "id": "illegal-greece",
   "metadata": {
    "execution": {
     "iopub.execute_input": "2022-11-10T03:04:52.545800Z",
     "iopub.status.busy": "2022-11-10T03:04:52.545248Z",
     "iopub.status.idle": "2022-11-10T03:04:52.548650Z",
     "shell.execute_reply": "2022-11-10T03:04:52.548109Z"
    },
    "papermill": {
     "duration": 0.017599,
     "end_time": "2022-11-10T03:04:52.548743",
     "exception": false,
     "start_time": "2022-11-10T03:04:52.531144",
     "status": "completed"
    },
    "tags": []
   },
   "outputs": [
    {
     "data": {
      "text/markdown": [
       "- Bitcoin Price Plunges 15%, Can Buyers Save The Key $15K Support?.  Bitcoin price declined over 15% and even traded below $16,000. BTC remains at a risk of more losses if it breaks the $15,000 support zone. Bitcoin remained in a bearish zone after the FTX collapse and declined below $16,000. The price is trading below $17,500 and the 100 hourly simple moving average. There is a major bearish trend line forming with resistance near $16,500 on the hourly chart of the BTC/USD pair (data feed from Kraken). The pair could continue to move down if it stays below the $16,500 and $17,000 levels. Bitcoin Price Tumbles Bitcoin price remained in a bearish zone after it settled below the $20,000 support zone. Binance opted out to bail FTX, resulting in an increase in selling pressure. BTC declined below the $18,500 and $17,000 levels. The crypto market is bleeding and many altcoins such as ethereum, bnb, ripple are down over 15%. Bitcoin price also gained bearish momentum and traded below the $16,000 support level. The price traded as low as $15,555 and is currently consolidating losses. It is trading below $17,500 and the 100 hourly simple moving average. There is also a major bearish trend line forming with resistance near $16,500 on the hourly chart of the BTC/USD pair. On the upside, an immediate resistance is near the $16,400 level. The first major resistance is near the $16,650 level. It is near the 23.6% Fib retracement level of the recent decline from the $20,671 swing high to $15,555 low. Source: BTCUSD on TradingView.com A clear move above the trend line resistance and $16,675 might start a decent recovery wave. The next major resistance is near $18,000 or the 50% Fib retracement level of the recent decline from the $20,671 swing high to $15,555 low, above which the price could test the $20,000 zone. More Losses in BTC? If bitcoin fails to start a recovery wave above the $16,500 resistance zone, it could continue to move down. An immediate support on the downside is near the $15,800 level. The next major support is near the $15,500 zone. A clear move below the $15,500 support might push the price further lower. In this case, the price may perhaps decline below the $15,000 support zone. Technical indicators: Hourly MACD – The MACD is now gaining pace in the bearish zone. Hourly RSI (Relative Strength Index) – The RSI for BTC/USD is now below the 30 level. Major Support Levels – $15,800, followed by $15,500. Major Resistance Levels – $16,500, $16,675 and $18,000. ... [| Skaityti daugiau](https://www.newsbtc.com/analysis/btc/bitcoin-price-plunges-15-pc/) "
      ],
      "text/plain": [
       "<IPython.core.display.Markdown object>"
      ]
     },
     "execution_count": 7,
     "metadata": {},
     "output_type": "execute_result"
    }
   ],
   "source": [
    "#hide_input\n",
    "#md('##### {}'.format(titleBTC)) \n",
    "md(\"- {}{} {}{} [| Skaityti daugiau]({}) \".format(eth['title'],'. ', eth['body'], ' ...', eth['url']))"
   ]
  },
  {
   "cell_type": "code",
   "execution_count": 8,
   "id": "sublime-lounge",
   "metadata": {
    "execution": {
     "iopub.execute_input": "2022-11-10T03:04:52.574804Z",
     "iopub.status.busy": "2022-11-10T03:04:52.574035Z",
     "iopub.status.idle": "2022-11-10T03:04:52.578093Z",
     "shell.execute_reply": "2022-11-10T03:04:52.577647Z"
    },
    "papermill": {
     "duration": 0.017834,
     "end_time": "2022-11-10T03:04:52.578185",
     "exception": false,
     "start_time": "2022-11-10T03:04:52.560351",
     "status": "completed"
    },
    "tags": []
   },
   "outputs": [
    {
     "data": {
      "text/markdown": [
       "- FTX Calamity Could be the Last Crisis of the Bear Market, Says Cardano’s Hoskinson.  According to Charles Hoskinson, FTX's meltdown could indicate the bottom of the ongoing crypto winter. ... [| Skaityti daugiau](https://cryptopotato.com/ftx-calamity-could-be-the-last-crisis-of-the-bear-market-says-cardanos-hoskinson/) "
      ],
      "text/plain": [
       "<IPython.core.display.Markdown object>"
      ]
     },
     "execution_count": 8,
     "metadata": {},
     "output_type": "execute_result"
    }
   ],
   "source": [
    "#hide_input\n",
    "#md('##### {}'.format(titleBTC)) \n",
    "md(\"- {}{} {}{} [| Skaityti daugiau]({}) \".format(ada['title'],'. ', ada['body'], ' ...', ada['url']))"
   ]
  },
  {
   "cell_type": "code",
   "execution_count": 9,
   "id": "specified-ordering",
   "metadata": {
    "execution": {
     "iopub.execute_input": "2022-11-10T03:04:52.604773Z",
     "iopub.status.busy": "2022-11-10T03:04:52.602995Z",
     "iopub.status.idle": "2022-11-10T03:04:52.606962Z",
     "shell.execute_reply": "2022-11-10T03:04:52.607405Z"
    },
    "papermill": {
     "duration": 0.018384,
     "end_time": "2022-11-10T03:04:52.607514",
     "exception": false,
     "start_time": "2022-11-10T03:04:52.589130",
     "status": "completed"
    },
    "tags": []
   },
   "outputs": [
    {
     "data": {
      "text/markdown": [
       "- Crypto Exchange FTX Outflows Neared 20,000 $BTC in a Day During Liquidity Crisis, Data Reveals.  Data from leading cryptocurrency markets data provider CryptoCompare has revealed that during its liquidity crisis, popular cryptocurrency trading platform FTX saw outflows of nearly 20,000 BTC. According to CrypotCompare’s deep dive into FTX’s insolvency and Binance’s move to sign a letter of intent to acquire the cryptocurrency exchange, FTX saw outflows of 19,947 BTC, worth ... [| Skaityti daugiau](https://www.cryptoglobe.com/latest/2022/11/crypto-exchange-ftx-outflows-neared-20000-btc-in-a-day-during-liquidity-crisis-data-reveals/) "
      ],
      "text/plain": [
       "<IPython.core.display.Markdown object>"
      ]
     },
     "execution_count": 9,
     "metadata": {},
     "output_type": "execute_result"
    }
   ],
   "source": [
    "#hide_input\n",
    "#md('##### {}'.format(titleBTC)) \n",
    "md(\"- {}{} {}{} [| Skaityti daugiau]({}) \".format(exchange['title'],'. ', exchange['body'], ' ...', exchange['url']))"
   ]
  },
  {
   "cell_type": "code",
   "execution_count": null,
   "id": "tender-livestock",
   "metadata": {
    "papermill": {
     "duration": 0.011431,
     "end_time": "2022-11-10T03:04:52.630353",
     "exception": false,
     "start_time": "2022-11-10T03:04:52.618922",
     "status": "completed"
    },
    "tags": []
   },
   "outputs": [],
   "source": []
  },
  {
   "cell_type": "code",
   "execution_count": null,
   "id": "appreciated-diamond",
   "metadata": {
    "papermill": {
     "duration": 0.01127,
     "end_time": "2022-11-10T03:04:52.653139",
     "exception": false,
     "start_time": "2022-11-10T03:04:52.641869",
     "status": "completed"
    },
    "tags": []
   },
   "outputs": [],
   "source": []
  },
  {
   "cell_type": "code",
   "execution_count": null,
   "id": "romance-sweden",
   "metadata": {
    "papermill": {
     "duration": 0.011247,
     "end_time": "2022-11-10T03:04:52.675718",
     "exception": false,
     "start_time": "2022-11-10T03:04:52.664471",
     "status": "completed"
    },
    "tags": []
   },
   "outputs": [],
   "source": []
  },
  {
   "cell_type": "code",
   "execution_count": null,
   "id": "dietary-statistics",
   "metadata": {
    "papermill": {
     "duration": 0.011255,
     "end_time": "2022-11-10T03:04:52.698344",
     "exception": false,
     "start_time": "2022-11-10T03:04:52.687089",
     "status": "completed"
    },
    "tags": []
   },
   "outputs": [],
   "source": []
  }
 ],
 "metadata": {
  "kernelspec": {
   "display_name": "Python 3",
   "language": "python",
   "name": "python3"
  },
  "language_info": {
   "codemirror_mode": {
    "name": "ipython",
    "version": 3
   },
   "file_extension": ".py",
   "mimetype": "text/x-python",
   "name": "python",
   "nbconvert_exporter": "python",
   "pygments_lexer": "ipython3",
   "version": "3.6.15"
  },
  "papermill": {
   "default_parameters": {},
   "duration": 8.650714,
   "end_time": "2022-11-10T03:04:53.127392",
   "environment_variables": {},
   "exception": null,
   "input_path": "Market-News.ipynb",
   "output_path": "Market-News.ipynb",
   "parameters": {},
   "start_time": "2022-11-10T03:04:44.476678",
   "version": "2.2.2"
  }
 },
 "nbformat": 4,
 "nbformat_minor": 5
}