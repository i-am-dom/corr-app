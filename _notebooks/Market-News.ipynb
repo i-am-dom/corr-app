{
 "cells": [
  {
   "cell_type": "markdown",
   "id": "short-greensboro",
   "metadata": {
    "papermill": {
     "duration": 0.013297,
     "end_time": "2022-04-25T02:55:31.306916",
     "exception": false,
     "start_time": "2022-04-25T02:55:31.293619",
     "status": "completed"
    },
    "tags": []
   },
   "source": [
    "# Kriptovaliutų naujienos"
   ]
  },
  {
   "cell_type": "code",
   "execution_count": 1,
   "id": "functioning-knowing",
   "metadata": {
    "execution": {
     "iopub.execute_input": "2022-04-25T02:55:31.336034Z",
     "iopub.status.busy": "2022-04-25T02:55:31.335499Z",
     "iopub.status.idle": "2022-04-25T02:55:32.581015Z",
     "shell.execute_reply": "2022-04-25T02:55:32.580414Z"
    },
    "papermill": {
     "duration": 1.264366,
     "end_time": "2022-04-25T02:55:32.581188",
     "exception": false,
     "start_time": "2022-04-25T02:55:31.316822",
     "status": "completed"
    },
    "tags": []
   },
   "outputs": [],
   "source": [
    "#hide_input\n",
    "import warnings\n",
    "warnings.filterwarnings('ignore')\n",
    "from scripts.read_data import read_api\n",
    "from scripts.read_data import read_news\n",
    "from scripts.read_data import read_covid\n",
    "import matplotlib.pyplot as plt \n",
    "from IPython.display import Markdown as md"
   ]
  },
  {
   "cell_type": "code",
   "execution_count": 2,
   "id": "shared-acceptance",
   "metadata": {
    "execution": {
     "iopub.execute_input": "2022-04-25T02:55:32.607713Z",
     "iopub.status.busy": "2022-04-25T02:55:32.607197Z",
     "iopub.status.idle": "2022-04-25T02:55:41.735580Z",
     "shell.execute_reply": "2022-04-25T02:55:41.735020Z"
    },
    "papermill": {
     "duration": 9.144015,
     "end_time": "2022-04-25T02:55:41.735728",
     "exception": false,
     "start_time": "2022-04-25T02:55:32.591713",
     "status": "completed"
    },
    "tags": []
   },
   "outputs": [],
   "source": [
    "#hide_input\n",
    "blockchain = read_news('blockchain') \n",
    "btc = read_news('btc') \n",
    "xrp = read_news('xrp') \n",
    "trx = read_news('trx') \n",
    "eth = read_news('eth')  \n",
    "ada = read_news('ada')\n",
    "exchange = read_news('exchange') "
   ]
  },
  {
   "cell_type": "code",
   "execution_count": 3,
   "id": "synthetic-notion",
   "metadata": {
    "execution": {
     "iopub.execute_input": "2022-04-25T02:55:41.761582Z",
     "iopub.status.busy": "2022-04-25T02:55:41.761006Z",
     "iopub.status.idle": "2022-04-25T02:55:41.763898Z",
     "shell.execute_reply": "2022-04-25T02:55:41.764301Z"
    },
    "papermill": {
     "duration": 0.018224,
     "end_time": "2022-04-25T02:55:41.764428",
     "exception": false,
     "start_time": "2022-04-25T02:55:41.746204",
     "status": "completed"
    },
    "tags": []
   },
   "outputs": [
    {
     "data": {
      "text/markdown": [
       "- Bitcoin on the verge of losing $39K: Time to fill your bags.  Bitcoin price analysis for April 25, 2022, comes on a bearish note for the world&#8217;s biggest cryptocurrency as BTC has dropped nearly 2% in the last 24 hours, which confirms that it might lose the important region of $39K. If this happens, the bulls will be driven out of the market, which would present the [&#8230;]The post Bitcoin on the verge of losing $39K: Time to fill your bags appeared first on Blockchain, Crypto and Stock News. ... [| Skaityti daugiau](https://thecoinrise.com/bitcoin-on-the-verge-of-losing-39k-time-to-fill-your-bags/) "
      ],
      "text/plain": [
       "<IPython.core.display.Markdown object>"
      ]
     },
     "execution_count": 3,
     "metadata": {},
     "output_type": "execute_result"
    }
   ],
   "source": [
    "#hide_input\n",
    "#md('##### {}'.format(titleBTC)) \n",
    "md(\"- {}{} {}{} [| Skaityti daugiau]({}) \".format(blockchain['title'],'. ', blockchain['body'], ' ...', blockchain['url']))"
   ]
  },
  {
   "cell_type": "code",
   "execution_count": 4,
   "id": "aging-caution",
   "metadata": {
    "execution": {
     "iopub.execute_input": "2022-04-25T02:55:41.787782Z",
     "iopub.status.busy": "2022-04-25T02:55:41.787259Z",
     "iopub.status.idle": "2022-04-25T02:55:41.789561Z",
     "shell.execute_reply": "2022-04-25T02:55:41.789962Z"
    },
    "papermill": {
     "duration": 0.016164,
     "end_time": "2022-04-25T02:55:41.790080",
     "exception": false,
     "start_time": "2022-04-25T02:55:41.773916",
     "status": "completed"
    },
    "tags": []
   },
   "outputs": [
    {
     "data": {
      "text/markdown": [
       "- Bitcoin on the verge of losing $39K: Time to fill your bags.  Bitcoin price analysis for April 25, 2022, comes on a bearish note for the world&#8217;s biggest cryptocurrency as BTC has dropped nearly 2% in the last 24 hours, which confirms that it might lose the important region of $39K. If this happens, the bulls will be driven out of the market, which would present the [&#8230;]The post Bitcoin on the verge of losing $39K: Time to fill your bags appeared first on Blockchain, Crypto and Stock News. ... [| Skaityti daugiau](https://thecoinrise.com/bitcoin-on-the-verge-of-losing-39k-time-to-fill-your-bags/) "
      ],
      "text/plain": [
       "<IPython.core.display.Markdown object>"
      ]
     },
     "execution_count": 4,
     "metadata": {},
     "output_type": "execute_result"
    }
   ],
   "source": [
    "#hide_input\n",
    "#md('##### {}'.format(titleBTC)) \n",
    "md(\"- {}{} {}{} [| Skaityti daugiau]({}) \".format(btc['title'],'. ', btc['body'], ' ...', btc['url']))"
   ]
  },
  {
   "cell_type": "code",
   "execution_count": 5,
   "id": "organic-actress",
   "metadata": {
    "execution": {
     "iopub.execute_input": "2022-04-25T02:55:41.814058Z",
     "iopub.status.busy": "2022-04-25T02:55:41.813548Z",
     "iopub.status.idle": "2022-04-25T02:55:41.816471Z",
     "shell.execute_reply": "2022-04-25T02:55:41.816070Z"
    },
    "papermill": {
     "duration": 0.016896,
     "end_time": "2022-04-25T02:55:41.816576",
     "exception": false,
     "start_time": "2022-04-25T02:55:41.799680",
     "status": "completed"
    },
    "tags": []
   },
   "outputs": [
    {
     "data": {
      "text/markdown": [
       "- Ripple Price Analysis: XRP Rejected at Key Resistance, Likely Facing Another Drop.  XRP continues to slide downwards, following the overall bearish sentiment in the crypto markets. The price got rejected at the critical line of resistance of $0.92 and now heading towards low levels where support lies. Technical Analysis Technical Analysis By Grizzly The Daily Chart On the daily timeframe, despite the sudden spikes, it still seems that [&#8230;] ... [| Skaityti daugiau](https://cryptopotato.com/ripple-price-analysis-xrp-rejected-at-key-resistance-likely-facing-another-drop/) "
      ],
      "text/plain": [
       "<IPython.core.display.Markdown object>"
      ]
     },
     "execution_count": 5,
     "metadata": {},
     "output_type": "execute_result"
    }
   ],
   "source": [
    "#hide_input\n",
    "#md('##### {}'.format(titleBTC)) \n",
    "md(\"- {}{} {}{} [| Skaityti daugiau]({}) \".format(xrp['title'],'. ', xrp['body'], ' ...', xrp['url']))"
   ]
  },
  {
   "cell_type": "code",
   "execution_count": 6,
   "id": "prompt-farmer",
   "metadata": {
    "execution": {
     "iopub.execute_input": "2022-04-25T02:55:41.840232Z",
     "iopub.status.busy": "2022-04-25T02:55:41.839733Z",
     "iopub.status.idle": "2022-04-25T02:55:41.844355Z",
     "shell.execute_reply": "2022-04-25T02:55:41.844752Z"
    },
    "papermill": {
     "duration": 0.018295,
     "end_time": "2022-04-25T02:55:41.844878",
     "exception": false,
     "start_time": "2022-04-25T02:55:41.826583",
     "status": "completed"
    },
    "tags": []
   },
   "outputs": [
    {
     "data": {
      "text/markdown": [
       "- TRON (TRX) Price Enters Correction Phase Following Recent Surge.  Decentralized stablecoin-USDD launch news gave a huge boost to a fresh reversal surge. TRON has been down 2.52% in the ... [| Skaityti daugiau](https://thenewscrypto.com/tron-trx-price-enters-correction-phase-following-recent-surge/) "
      ],
      "text/plain": [
       "<IPython.core.display.Markdown object>"
      ]
     },
     "execution_count": 6,
     "metadata": {},
     "output_type": "execute_result"
    }
   ],
   "source": [
    "#hide_input\n",
    "#md('##### {}'.format(titleBTC)) \n",
    "md(\"- {}{} {}{} [| Skaityti daugiau]({}) \".format(trx['title'],'. ', trx['body'], ' ...', trx['url']))"
   ]
  },
  {
   "cell_type": "code",
   "execution_count": 7,
   "id": "illegal-greece",
   "metadata": {
    "execution": {
     "iopub.execute_input": "2022-04-25T02:55:41.870749Z",
     "iopub.status.busy": "2022-04-25T02:55:41.870219Z",
     "iopub.status.idle": "2022-04-25T02:55:41.872886Z",
     "shell.execute_reply": "2022-04-25T02:55:41.873437Z"
    },
    "papermill": {
     "duration": 0.018251,
     "end_time": "2022-04-25T02:55:41.873583",
     "exception": false,
     "start_time": "2022-04-25T02:55:41.855332",
     "status": "completed"
    },
    "tags": []
   },
   "outputs": [
    {
     "data": {
      "text/markdown": [
       "- Ronin hack: Despite sanctions across levels, hacker continues to cash in the loot.  Ronin Network, a cross-bridge chain that powers Axie Infinity, underwent one of the largest exploits. This resulted in a loss of 173,600 Ethereum and 25.5 million USDC, equivalent to more than $600 million. Since the breach occurred on 23 March, the stolen funds have flowed into FTX, Huobi, and Crypto.com, which have all vowed to [&#8230;] ... [| Skaityti daugiau](https://ambcrypto.com/ronin-hack-despite-sanctions-across-levels-hacker-continues-to-cash-in-the-loot/) "
      ],
      "text/plain": [
       "<IPython.core.display.Markdown object>"
      ]
     },
     "execution_count": 7,
     "metadata": {},
     "output_type": "execute_result"
    }
   ],
   "source": [
    "#hide_input\n",
    "#md('##### {}'.format(titleBTC)) \n",
    "md(\"- {}{} {}{} [| Skaityti daugiau]({}) \".format(eth['title'],'. ', eth['body'], ' ...', eth['url']))"
   ]
  },
  {
   "cell_type": "code",
   "execution_count": 8,
   "id": "sublime-lounge",
   "metadata": {
    "execution": {
     "iopub.execute_input": "2022-04-25T02:55:41.899941Z",
     "iopub.status.busy": "2022-04-25T02:55:41.898824Z",
     "iopub.status.idle": "2022-04-25T02:55:41.902459Z",
     "shell.execute_reply": "2022-04-25T02:55:41.902937Z"
    },
    "papermill": {
     "duration": 0.018299,
     "end_time": "2022-04-25T02:55:41.903060",
     "exception": false,
     "start_time": "2022-04-25T02:55:41.884761",
     "status": "completed"
    },
    "tags": []
   },
   "outputs": [
    {
     "data": {
      "text/markdown": [
       "- Cardano Crowd Sentiment At Most Positive Level Since Mid-November As Traders Anticipate ADA Rebound.  Cardano (ADA), the ninth-largest cryptocurrency by market valuation has market participants excited for a likely breakout. According to on-chain analytics firm Santiment, crowd sentiment towards ADA is currently at its most positive level since mid-November 2021. ... [| Skaityti daugiau](https://zycrypto.com/cardano-crowd-sentiment-at-most-positive-level-since-mid-november-as-traders-anticipate-ada-rebound/) "
      ],
      "text/plain": [
       "<IPython.core.display.Markdown object>"
      ]
     },
     "execution_count": 8,
     "metadata": {},
     "output_type": "execute_result"
    }
   ],
   "source": [
    "#hide_input\n",
    "#md('##### {}'.format(titleBTC)) \n",
    "md(\"- {}{} {}{} [| Skaityti daugiau]({}) \".format(ada['title'],'. ', ada['body'], ' ...', ada['url']))"
   ]
  },
  {
   "cell_type": "code",
   "execution_count": 9,
   "id": "specified-ordering",
   "metadata": {
    "execution": {
     "iopub.execute_input": "2022-04-25T02:55:41.929362Z",
     "iopub.status.busy": "2022-04-25T02:55:41.928852Z",
     "iopub.status.idle": "2022-04-25T02:55:41.931880Z",
     "shell.execute_reply": "2022-04-25T02:55:41.931476Z"
    },
    "papermill": {
     "duration": 0.018021,
     "end_time": "2022-04-25T02:55:41.931989",
     "exception": false,
     "start_time": "2022-04-25T02:55:41.913968",
     "status": "completed"
    },
    "tags": []
   },
   "outputs": [
    {
     "data": {
      "text/markdown": [
       "- Leading Eastern European Exchange Exmo Sells Business in Russia, Belarus.  Exmo, a U.K.-based crypto exchange with extensive presence in Eastern Europe, is pulling out of Russia, Belarus and Kazakhstan. The trading platform, Exmo.com, says it&#x2019;s making the move to avoid jeopardizing its expansion in other regions by operating in high-risk markets like these. The business has been sold to a Russian vendor, alongside rights to [&#8230;] ... [| Skaityti daugiau](https://news.bitcoin.com/leading-eastern-european-exchange-exmo-sells-business-in-russia-belarus/) "
      ],
      "text/plain": [
       "<IPython.core.display.Markdown object>"
      ]
     },
     "execution_count": 9,
     "metadata": {},
     "output_type": "execute_result"
    }
   ],
   "source": [
    "#hide_input\n",
    "#md('##### {}'.format(titleBTC)) \n",
    "md(\"- {}{} {}{} [| Skaityti daugiau]({}) \".format(exchange['title'],'. ', exchange['body'], ' ...', exchange['url']))"
   ]
  },
  {
   "cell_type": "code",
   "execution_count": null,
   "id": "tender-livestock",
   "metadata": {
    "papermill": {
     "duration": 0.011326,
     "end_time": "2022-04-25T02:55:41.954634",
     "exception": false,
     "start_time": "2022-04-25T02:55:41.943308",
     "status": "completed"
    },
    "tags": []
   },
   "outputs": [],
   "source": []
  },
  {
   "cell_type": "code",
   "execution_count": null,
   "id": "appreciated-diamond",
   "metadata": {
    "papermill": {
     "duration": 0.01126,
     "end_time": "2022-04-25T02:55:41.977408",
     "exception": false,
     "start_time": "2022-04-25T02:55:41.966148",
     "status": "completed"
    },
    "tags": []
   },
   "outputs": [],
   "source": []
  },
  {
   "cell_type": "code",
   "execution_count": null,
   "id": "romance-sweden",
   "metadata": {
    "papermill": {
     "duration": 0.011115,
     "end_time": "2022-04-25T02:55:42.000816",
     "exception": false,
     "start_time": "2022-04-25T02:55:41.989701",
     "status": "completed"
    },
    "tags": []
   },
   "outputs": [],
   "source": []
  },
  {
   "cell_type": "code",
   "execution_count": null,
   "id": "dietary-statistics",
   "metadata": {
    "papermill": {
     "duration": 0.011094,
     "end_time": "2022-04-25T02:55:42.023044",
     "exception": false,
     "start_time": "2022-04-25T02:55:42.011950",
     "status": "completed"
    },
    "tags": []
   },
   "outputs": [],
   "source": []
  }
 ],
 "metadata": {
  "kernelspec": {
   "display_name": "Python 3",
   "language": "python",
   "name": "python3"
  },
  "language_info": {
   "codemirror_mode": {
    "name": "ipython",
    "version": 3
   },
   "file_extension": ".py",
   "mimetype": "text/x-python",
   "name": "python",
   "nbconvert_exporter": "python",
   "pygments_lexer": "ipython3",
   "version": "3.6.15"
  },
  "papermill": {
   "default_parameters": {},
   "duration": 12.193311,
   "end_time": "2022-04-25T02:55:42.554463",
   "environment_variables": {},
   "exception": null,
   "input_path": "Market-News.ipynb",
   "output_path": "Market-News.ipynb",
   "parameters": {},
   "start_time": "2022-04-25T02:55:30.361152",
   "version": "2.2.2"
  }
 },
 "nbformat": 4,
 "nbformat_minor": 5
}