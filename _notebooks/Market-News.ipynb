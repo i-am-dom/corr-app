{
 "cells": [
  {
   "cell_type": "markdown",
   "id": "short-greensboro",
   "metadata": {
    "papermill": {
     "duration": 0.016739,
     "end_time": "2022-02-20T02:07:04.179141",
     "exception": false,
     "start_time": "2022-02-20T02:07:04.162402",
     "status": "completed"
    },
    "tags": []
   },
   "source": [
    "# Kriptovaliutų naujienos"
   ]
  },
  {
   "cell_type": "code",
   "execution_count": 1,
   "id": "functioning-knowing",
   "metadata": {
    "execution": {
     "iopub.execute_input": "2022-02-20T02:07:04.209279Z",
     "iopub.status.busy": "2022-02-20T02:07:04.208698Z",
     "iopub.status.idle": "2022-02-20T02:07:05.365546Z",
     "shell.execute_reply": "2022-02-20T02:07:05.364413Z"
    },
    "papermill": {
     "duration": 1.176469,
     "end_time": "2022-02-20T02:07:05.365697",
     "exception": false,
     "start_time": "2022-02-20T02:07:04.189228",
     "status": "completed"
    },
    "tags": []
   },
   "outputs": [],
   "source": [
    "#hide_input\n",
    "import warnings\n",
    "warnings.filterwarnings('ignore')\n",
    "from scripts.read_data import read_api\n",
    "from scripts.read_data import read_news\n",
    "from scripts.read_data import read_covid\n",
    "import matplotlib.pyplot as plt \n",
    "from IPython.display import Markdown as md"
   ]
  },
  {
   "cell_type": "code",
   "execution_count": 2,
   "id": "shared-acceptance",
   "metadata": {
    "execution": {
     "iopub.execute_input": "2022-02-20T02:07:05.390697Z",
     "iopub.status.busy": "2022-02-20T02:07:05.389479Z",
     "iopub.status.idle": "2022-02-20T02:07:15.632954Z",
     "shell.execute_reply": "2022-02-20T02:07:15.632331Z"
    },
    "papermill": {
     "duration": 10.259389,
     "end_time": "2022-02-20T02:07:15.633106",
     "exception": false,
     "start_time": "2022-02-20T02:07:05.373717",
     "status": "completed"
    },
    "tags": []
   },
   "outputs": [],
   "source": [
    "#hide_input\n",
    "blockchain = read_news('blockchain') \n",
    "btc = read_news('btc') \n",
    "xrp = read_news('xrp') \n",
    "trx = read_news('trx') \n",
    "eth = read_news('eth')  \n",
    "ada = read_news('ada')\n",
    "exchange = read_news('exchange') "
   ]
  },
  {
   "cell_type": "code",
   "execution_count": 3,
   "id": "synthetic-notion",
   "metadata": {
    "execution": {
     "iopub.execute_input": "2022-02-20T02:07:15.656634Z",
     "iopub.status.busy": "2022-02-20T02:07:15.656189Z",
     "iopub.status.idle": "2022-02-20T02:07:15.658221Z",
     "shell.execute_reply": "2022-02-20T02:07:15.658556Z"
    },
    "papermill": {
     "duration": 0.016926,
     "end_time": "2022-02-20T02:07:15.658654",
     "exception": false,
     "start_time": "2022-02-20T02:07:15.641728",
     "status": "completed"
    },
    "tags": []
   },
   "outputs": [
    {
     "data": {
      "text/markdown": [
       "- With Chainlink down 60% from November highs, how are the investors making profit.  The thrash of the bears has reached Chainlink as well and its myriad of DeFi protocol integrations have not been able to save it either. In the while, the market took to stop dipping, Chainlink already fell below its safe zone. Chainlink revisits the past At the time of this report, 63.68% of Chainlink’s 628.62k [&#8230;] ... [| Skaityti daugiau](https://ambcrypto.com/with-chainlink-down-60-from-november-highs-how-are-the-investors-making-profit/) "
      ],
      "text/plain": [
       "<IPython.core.display.Markdown object>"
      ]
     },
     "execution_count": 3,
     "metadata": {},
     "output_type": "execute_result"
    }
   ],
   "source": [
    "#hide_input\n",
    "#md('##### {}'.format(titleBTC)) \n",
    "md(\"- {}{} {}{} [| Skaityti daugiau]({}) \".format(blockchain['title'],'. ', blockchain['body'], ' ...', blockchain['url']))"
   ]
  },
  {
   "cell_type": "code",
   "execution_count": 4,
   "id": "aging-caution",
   "metadata": {
    "execution": {
     "iopub.execute_input": "2022-02-20T02:07:15.679940Z",
     "iopub.status.busy": "2022-02-20T02:07:15.679365Z",
     "iopub.status.idle": "2022-02-20T02:07:15.681426Z",
     "shell.execute_reply": "2022-02-20T02:07:15.681861Z"
    },
    "papermill": {
     "duration": 0.014806,
     "end_time": "2022-02-20T02:07:15.681979",
     "exception": false,
     "start_time": "2022-02-20T02:07:15.667173",
     "status": "completed"
    },
    "tags": []
   },
   "outputs": [
    {
     "data": {
      "text/markdown": [
       "- Criminal Whales Hold More Than $25 Billion Worth of Crypto (Chainalysis Report).  Nearly 4% of the crypto whales are criminals as they possess over $25 billion worth of digital assets. ... [| Skaityti daugiau](https://cryptopotato.com/criminal-whales-hold-more-than-25-billion-worth-of-crypto-chainalysis-report/) "
      ],
      "text/plain": [
       "<IPython.core.display.Markdown object>"
      ]
     },
     "execution_count": 4,
     "metadata": {},
     "output_type": "execute_result"
    }
   ],
   "source": [
    "#hide_input\n",
    "#md('##### {}'.format(titleBTC)) \n",
    "md(\"- {}{} {}{} [| Skaityti daugiau]({}) \".format(btc['title'],'. ', btc['body'], ' ...', btc['url']))"
   ]
  },
  {
   "cell_type": "code",
   "execution_count": 5,
   "id": "organic-actress",
   "metadata": {
    "execution": {
     "iopub.execute_input": "2022-02-20T02:07:15.703613Z",
     "iopub.status.busy": "2022-02-20T02:07:15.703068Z",
     "iopub.status.idle": "2022-02-20T02:07:15.706194Z",
     "shell.execute_reply": "2022-02-20T02:07:15.705690Z"
    },
    "papermill": {
     "duration": 0.015736,
     "end_time": "2022-02-20T02:07:15.706278",
     "exception": false,
     "start_time": "2022-02-20T02:07:15.690542",
     "status": "completed"
    },
    "tags": []
   },
   "outputs": [
    {
     "data": {
      "text/markdown": [
       "- Ripple Gains Edge Versus The SEC? New Evidence May Favor XRP.  The legal battle between payment company Ripple and the U.S. Securities and Exchange Commission (SEC) carries on. Going in on its second year, newly released documents could provide the payment company with an advantage over the Commission. Related Reading &#124; SEC Demands Bitwise To Clarify Concerns Over Share Manipulation Starting on December 2020, the regulator [&#8230;] ... [| Skaityti daugiau](https://bitcoinist.com/ripple-edge-versus-sec-new-evidence-may-favor-xrp/) "
      ],
      "text/plain": [
       "<IPython.core.display.Markdown object>"
      ]
     },
     "execution_count": 5,
     "metadata": {},
     "output_type": "execute_result"
    }
   ],
   "source": [
    "#hide_input\n",
    "#md('##### {}'.format(titleBTC)) \n",
    "md(\"- {}{} {}{} [| Skaityti daugiau]({}) \".format(xrp['title'],'. ', xrp['body'], ' ...', xrp['url']))"
   ]
  },
  {
   "cell_type": "code",
   "execution_count": 6,
   "id": "prompt-farmer",
   "metadata": {
    "execution": {
     "iopub.execute_input": "2022-02-20T02:07:15.727043Z",
     "iopub.status.busy": "2022-02-20T02:07:15.726500Z",
     "iopub.status.idle": "2022-02-20T02:07:15.729688Z",
     "shell.execute_reply": "2022-02-20T02:07:15.729249Z"
    },
    "papermill": {
     "duration": 0.015486,
     "end_time": "2022-02-20T02:07:15.729796",
     "exception": false,
     "start_time": "2022-02-20T02:07:15.714310",
     "status": "completed"
    },
    "tags": []
   },
   "outputs": [
    {
     "data": {
      "text/markdown": [
       "- Bitcoin Cash, Tron, Fantom Price Analysis: 17 February.  To affirm a healthy recovery phase, Bitcoin Cash still needed to close above the 50 EMA near the $331-resistance. On the other hand, Tron displayed a short-term uptrend as it swayed above its 20 EMA. But the 38.2% Fibonacci level continued to pose as a hurdle. Also, Fantom snapped off its trendline resistance and eyed [&#8230;] ... [| Skaityti daugiau](https://ambcrypto.com/bitcoin-cash-tron-fantom-price-analysis-17-february/) "
      ],
      "text/plain": [
       "<IPython.core.display.Markdown object>"
      ]
     },
     "execution_count": 6,
     "metadata": {},
     "output_type": "execute_result"
    }
   ],
   "source": [
    "#hide_input\n",
    "#md('##### {}'.format(titleBTC)) \n",
    "md(\"- {}{} {}{} [| Skaityti daugiau]({}) \".format(trx['title'],'. ', trx['body'], ' ...', trx['url']))"
   ]
  },
  {
   "cell_type": "code",
   "execution_count": 7,
   "id": "illegal-greece",
   "metadata": {
    "execution": {
     "iopub.execute_input": "2022-02-20T02:07:15.752927Z",
     "iopub.status.busy": "2022-02-20T02:07:15.752506Z",
     "iopub.status.idle": "2022-02-20T02:07:15.755192Z",
     "shell.execute_reply": "2022-02-20T02:07:15.754838Z"
    },
    "papermill": {
     "duration": 0.015576,
     "end_time": "2022-02-20T02:07:15.755272",
     "exception": false,
     "start_time": "2022-02-20T02:07:15.739696",
     "status": "completed"
    },
    "tags": []
   },
   "outputs": [
    {
     "data": {
      "text/markdown": [
       "- Ethereum Founder Vitalik Buterin Welcomes Another Crypto Winter.  Ethereum blockchain co-founder and prominent leader in cryptocurrency Vitalik Buterin said that investors might be experiencing a &#8220;crypto winter,&#8221; but it&#8217;s not all bad news for them. He went on to say this could lead up into another digital asset universe as prices are currently low enough, which would give opportunities with significant gains potential when things pick back up again like before. In an interview with Bloomberg, Buterin said; A lot of people who are deep into crypto and especially make things welcome the bear market. They welcome the bear market because when prices go up so much in the long run – it’s obviously a lot of people rejoice – but it invites a very short period of time. Speculative attention. Related Reading &#124; Bullish: Signals Suggest That Ethereum Might Make A Break Above $3,085 The cryptocurrency market took a plunge after reaching an all-time high in early November. Owing to investors&#8217; and speculators&#8217; expectations of positive economic news coming out of Covid. As a result, the Bloomberg Galaxy Crypto Index fell about 45% from its peak, with Ether declining by 40%. With the recent rise in prices, many people have seen their assets increase exponentially. CoinGecko is tracking 12,588 different tokens and reminds us all that this isn&#8217;t just a bull market. It&#8217;s been one for cryptocurrency as well. However, fraud and manipulation in this market can hurt yo... ... [| Skaityti daugiau](https://www.newsbtc.com/news/ethereum-founder-vitalik-buterin-welcomes-another-crypto-winter/) "
      ],
      "text/plain": [
       "<IPython.core.display.Markdown object>"
      ]
     },
     "execution_count": 7,
     "metadata": {},
     "output_type": "execute_result"
    }
   ],
   "source": [
    "#hide_input\n",
    "#md('##### {}'.format(titleBTC)) \n",
    "md(\"- {}{} {}{} [| Skaityti daugiau]({}) \".format(eth['title'],'. ', eth['body'], ' ...', eth['url']))"
   ]
  },
  {
   "cell_type": "code",
   "execution_count": 8,
   "id": "sublime-lounge",
   "metadata": {
    "execution": {
     "iopub.execute_input": "2022-02-20T02:07:15.777931Z",
     "iopub.status.busy": "2022-02-20T02:07:15.777511Z",
     "iopub.status.idle": "2022-02-20T02:07:15.780141Z",
     "shell.execute_reply": "2022-02-20T02:07:15.779808Z"
    },
    "papermill": {
     "duration": 0.015738,
     "end_time": "2022-02-20T02:07:15.780223",
     "exception": false,
     "start_time": "2022-02-20T02:07:15.764485",
     "status": "completed"
    },
    "tags": []
   },
   "outputs": [
    {
     "data": {
      "text/markdown": [
       "- Cardano Doubled The Reward For Hackers To Uncover Vulnerabilities In Its Blockchain.  The public blockchain platform Cardano declares that it has doubled the payout for white hat hackers and bounty hunters that can identify vulnerabilities or bugs in its smart contracts blockchain. The firm has revealed that this six-week promotion, which will close on March 25, aims to keep &#8220;its businesses and customers safe.&#8221; Cardano started six-week promotion recently [&#8230;] ... [| Skaityti daugiau](https://bitcoinist.com/cardano-doubled-the-reward-for-hackers-to-uncover/) "
      ],
      "text/plain": [
       "<IPython.core.display.Markdown object>"
      ]
     },
     "execution_count": 8,
     "metadata": {},
     "output_type": "execute_result"
    }
   ],
   "source": [
    "#hide_input\n",
    "#md('##### {}'.format(titleBTC)) \n",
    "md(\"- {}{} {}{} [| Skaityti daugiau]({}) \".format(ada['title'],'. ', ada['body'], ' ...', ada['url']))"
   ]
  },
  {
   "cell_type": "code",
   "execution_count": 9,
   "id": "specified-ordering",
   "metadata": {
    "execution": {
     "iopub.execute_input": "2022-02-20T02:07:15.803027Z",
     "iopub.status.busy": "2022-02-20T02:07:15.802609Z",
     "iopub.status.idle": "2022-02-20T02:07:15.806323Z",
     "shell.execute_reply": "2022-02-20T02:07:15.805946Z"
    },
    "papermill": {
     "duration": 0.01666,
     "end_time": "2022-02-20T02:07:15.806436",
     "exception": false,
     "start_time": "2022-02-20T02:07:15.789776",
     "status": "completed"
    },
    "tags": []
   },
   "outputs": [
    {
     "data": {
      "text/markdown": [
       "- New York Stock Exchange Considering Launch of NFT Marketplace, According to New Trademark Application.  The New York Stock Exchange (NYSE) appears to be interested in diving into the world of non-fungible tokens (NFTs). The largest stock exchange in the world filed a trademark/service mark application with the United States Patent and Trademark Office (USPTO) for the &#8220;provision of an online marketplace for buyers, sellers, and traders of downloadable digital [&#8230;]The post New York Stock Exchange Considering Launch of NFT Marketplace, According to New Trademark Application appeared first on The Daily Hodl. ... [| Skaityti daugiau](https://dailyhodl.com/2022/02/19/new-york-stock-exchange-considering-launch-of-nft-marketplace-according-to-new-trademark-application/) "
      ],
      "text/plain": [
       "<IPython.core.display.Markdown object>"
      ]
     },
     "execution_count": 9,
     "metadata": {},
     "output_type": "execute_result"
    }
   ],
   "source": [
    "#hide_input\n",
    "#md('##### {}'.format(titleBTC)) \n",
    "md(\"- {}{} {}{} [| Skaityti daugiau]({}) \".format(exchange['title'],'. ', exchange['body'], ' ...', exchange['url']))"
   ]
  },
  {
   "cell_type": "code",
   "execution_count": null,
   "id": "tender-livestock",
   "metadata": {
    "papermill": {
     "duration": 0.009436,
     "end_time": "2022-02-20T02:07:15.826301",
     "exception": false,
     "start_time": "2022-02-20T02:07:15.816865",
     "status": "completed"
    },
    "tags": []
   },
   "outputs": [],
   "source": []
  },
  {
   "cell_type": "code",
   "execution_count": null,
   "id": "appreciated-diamond",
   "metadata": {
    "papermill": {
     "duration": 0.009414,
     "end_time": "2022-02-20T02:07:15.845610",
     "exception": false,
     "start_time": "2022-02-20T02:07:15.836196",
     "status": "completed"
    },
    "tags": []
   },
   "outputs": [],
   "source": []
  },
  {
   "cell_type": "code",
   "execution_count": null,
   "id": "romance-sweden",
   "metadata": {
    "papermill": {
     "duration": 0.00936,
     "end_time": "2022-02-20T02:07:15.866020",
     "exception": false,
     "start_time": "2022-02-20T02:07:15.856660",
     "status": "completed"
    },
    "tags": []
   },
   "outputs": [],
   "source": []
  },
  {
   "cell_type": "code",
   "execution_count": null,
   "id": "dietary-statistics",
   "metadata": {
    "papermill": {
     "duration": 0.009804,
     "end_time": "2022-02-20T02:07:15.885481",
     "exception": false,
     "start_time": "2022-02-20T02:07:15.875677",
     "status": "completed"
    },
    "tags": []
   },
   "outputs": [],
   "source": []
  }
 ],
 "metadata": {
  "kernelspec": {
   "display_name": "Python 3",
   "language": "python",
   "name": "python3"
  },
  "language_info": {
   "codemirror_mode": {
    "name": "ipython",
    "version": 3
   },
   "file_extension": ".py",
   "mimetype": "text/x-python",
   "name": "python",
   "nbconvert_exporter": "python",
   "pygments_lexer": "ipython3",
   "version": "3.6.15"
  },
  "papermill": {
   "default_parameters": {},
   "duration": 13.253362,
   "end_time": "2022-02-20T02:07:16.316855",
   "environment_variables": {},
   "exception": null,
   "input_path": "Market-News.ipynb",
   "output_path": "Market-News.ipynb",
   "parameters": {},
   "start_time": "2022-02-20T02:07:03.063493",
   "version": "2.2.2"
  }
 },
 "nbformat": 4,
 "nbformat_minor": 5
}