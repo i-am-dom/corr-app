{
 "cells": [
  {
   "cell_type": "markdown",
   "id": "short-greensboro",
   "metadata": {
    "papermill": {
     "duration": 0.012783,
     "end_time": "2021-09-09T02:01:00.901422",
     "exception": false,
     "start_time": "2021-09-09T02:01:00.888639",
     "status": "completed"
    },
    "tags": []
   },
   "source": [
    "# Kriptovaliutų naujienos"
   ]
  },
  {
   "cell_type": "code",
   "execution_count": 1,
   "id": "functioning-knowing",
   "metadata": {
    "execution": {
     "iopub.execute_input": "2021-09-09T02:01:00.930607Z",
     "iopub.status.busy": "2021-09-09T02:01:00.930097Z",
     "iopub.status.idle": "2021-09-09T02:01:02.108690Z",
     "shell.execute_reply": "2021-09-09T02:01:02.108141Z"
    },
    "papermill": {
     "duration": 1.197796,
     "end_time": "2021-09-09T02:01:02.108842",
     "exception": false,
     "start_time": "2021-09-09T02:01:00.911046",
     "status": "completed"
    },
    "tags": []
   },
   "outputs": [],
   "source": [
    "#hide_input\n",
    "import warnings\n",
    "warnings.filterwarnings('ignore')\n",
    "from scripts.read_data import read_api\n",
    "from scripts.read_data import read_news\n",
    "from scripts.read_data import read_covid\n",
    "import matplotlib.pyplot as plt \n",
    "from IPython.display import Markdown as md"
   ]
  },
  {
   "cell_type": "code",
   "execution_count": 2,
   "id": "shared-acceptance",
   "metadata": {
    "execution": {
     "iopub.execute_input": "2021-09-09T02:01:02.134148Z",
     "iopub.status.busy": "2021-09-09T02:01:02.133189Z",
     "iopub.status.idle": "2021-09-09T02:01:11.513424Z",
     "shell.execute_reply": "2021-09-09T02:01:11.512464Z"
    },
    "papermill": {
     "duration": 9.395354,
     "end_time": "2021-09-09T02:01:11.513563",
     "exception": false,
     "start_time": "2021-09-09T02:01:02.118209",
     "status": "completed"
    },
    "tags": []
   },
   "outputs": [],
   "source": [
    "#hide_input\n",
    "blockchain = read_news('blockchain') \n",
    "btc = read_news('btc') \n",
    "xrp = read_news('xrp') \n",
    "trx = read_news('trx') \n",
    "eth = read_news('eth')  \n",
    "ada = read_news('ada')\n",
    "exchange = read_news('exchange') "
   ]
  },
  {
   "cell_type": "code",
   "execution_count": 3,
   "id": "synthetic-notion",
   "metadata": {
    "execution": {
     "iopub.execute_input": "2021-09-09T02:01:11.537889Z",
     "iopub.status.busy": "2021-09-09T02:01:11.537362Z",
     "iopub.status.idle": "2021-09-09T02:01:11.540039Z",
     "shell.execute_reply": "2021-09-09T02:01:11.539627Z"
    },
    "papermill": {
     "duration": 0.017205,
     "end_time": "2021-09-09T02:01:11.540147",
     "exception": false,
     "start_time": "2021-09-09T02:01:11.522942",
     "status": "completed"
    },
    "tags": []
   },
   "outputs": [
    {
     "data": {
      "text/markdown": [
       "- IOTA Foundation Selected to Participate in Europe’s Blockchain Infrastructure Project.  IOTA is among the seven projects chosen by the European Commission to take part in the EU blockchain initiative. ... [| Skaityti daugiau](https://cryptopotato.com/iota-foundation-selected-to-participate-in-europes-blockchain-infrastructure-project/) "
      ],
      "text/plain": [
       "<IPython.core.display.Markdown object>"
      ]
     },
     "execution_count": 3,
     "metadata": {},
     "output_type": "execute_result"
    }
   ],
   "source": [
    "#hide_input\n",
    "#md('##### {}'.format(titleBTC)) \n",
    "md(\"- {}{} {}{} [| Skaityti daugiau]({}) \".format(blockchain['title'],'. ', blockchain['body'], ' ...', blockchain['url']))"
   ]
  },
  {
   "cell_type": "code",
   "execution_count": 4,
   "id": "aging-caution",
   "metadata": {
    "execution": {
     "iopub.execute_input": "2021-09-09T02:01:11.563333Z",
     "iopub.status.busy": "2021-09-09T02:01:11.562751Z",
     "iopub.status.idle": "2021-09-09T02:01:11.566818Z",
     "shell.execute_reply": "2021-09-09T02:01:11.566417Z"
    },
    "papermill": {
     "duration": 0.017559,
     "end_time": "2021-09-09T02:01:11.566922",
     "exception": false,
     "start_time": "2021-09-09T02:01:11.549363",
     "status": "completed"
    },
    "tags": []
   },
   "outputs": [
    {
     "data": {
      "text/markdown": [
       "- ‘There is now pressure on competing nations to acquire Bitcoin’.  On the day Bitcoin became legal tender in El Salvador, one man&#8217;s breakfast made headlines all over. Journalist Aaron van Wirdum paid in Bitcoin for a McDonald&#8217;s breakfast in San Salvador today. While the same was welcomed by a majority of the crypto-space, it also fueled a weighty prediction from infamous NSA whistleblower Edward Snowden. [&#8230;] ... [| Skaityti daugiau](https://ambcrypto.com/there-is-now-pressure-on-competing-nations-to-acquire-bitcoin/) "
      ],
      "text/plain": [
       "<IPython.core.display.Markdown object>"
      ]
     },
     "execution_count": 4,
     "metadata": {},
     "output_type": "execute_result"
    }
   ],
   "source": [
    "#hide_input\n",
    "#md('##### {}'.format(titleBTC)) \n",
    "md(\"- {}{} {}{} [| Skaityti daugiau]({}) \".format(btc['title'],'. ', btc['body'], ' ...', btc['url']))"
   ]
  },
  {
   "cell_type": "code",
   "execution_count": 5,
   "id": "organic-actress",
   "metadata": {
    "execution": {
     "iopub.execute_input": "2021-09-09T02:01:11.590468Z",
     "iopub.status.busy": "2021-09-09T02:01:11.589972Z",
     "iopub.status.idle": "2021-09-09T02:01:11.593113Z",
     "shell.execute_reply": "2021-09-09T02:01:11.592713Z"
    },
    "papermill": {
     "duration": 0.01674,
     "end_time": "2021-09-09T02:01:11.593215",
     "exception": false,
     "start_time": "2021-09-09T02:01:11.576475",
     "status": "completed"
    },
    "tags": []
   },
   "outputs": [
    {
     "data": {
      "text/markdown": [
       "- ‘SEC Will Stop at Nothing to Control Entire Crypto Space,’ Says Former Federal Prosecutor.  A former federal prosecutor says that the U.S. Securities and Exchange Commission (SEC) &#x201C;will stop at nothing to control the entire crypto space.&#x201D; The SEC has now threatened to sue the Nasdaq-listed crypto exchange Coinbase. The regulator is already in an ongoing lawsuit with Ripple Labs and its executives. SEC Going After Entire Crypto Space, [&#8230;] ... [| Skaityti daugiau](https://news.bitcoin.com/sec-will-stop-at-nothing-to-control-entire-crypto-space-former-federal-prosecutor/) "
      ],
      "text/plain": [
       "<IPython.core.display.Markdown object>"
      ]
     },
     "execution_count": 5,
     "metadata": {},
     "output_type": "execute_result"
    }
   ],
   "source": [
    "#hide_input\n",
    "#md('##### {}'.format(titleBTC)) \n",
    "md(\"- {}{} {}{} [| Skaityti daugiau]({}) \".format(xrp['title'],'. ', xrp['body'], ' ...', xrp['url']))"
   ]
  },
  {
   "cell_type": "code",
   "execution_count": 6,
   "id": "prompt-farmer",
   "metadata": {
    "execution": {
     "iopub.execute_input": "2021-09-09T02:01:11.617007Z",
     "iopub.status.busy": "2021-09-09T02:01:11.616511Z",
     "iopub.status.idle": "2021-09-09T02:01:11.618742Z",
     "shell.execute_reply": "2021-09-09T02:01:11.619125Z"
    },
    "papermill": {
     "duration": 0.016138,
     "end_time": "2021-09-09T02:01:11.619236",
     "exception": false,
     "start_time": "2021-09-09T02:01:11.603098",
     "status": "completed"
    },
    "tags": []
   },
   "outputs": [
    {
     "data": {
      "text/markdown": [
       "- TRON, AAVE, Sushiswap Price Analysis: 08 September.  Price action was not looking very positive at this point, for most altcoins. TRON, AAVE and SUSHI all dove considerably on their respective charts. TRON lost 15.1% and was trading close to $0.816, a level it didn&#8217;t visit for over a week. AAVE neared its one-month low price level at $302.90. Sushiswap lost over 20% [&#8230;] ... [| Skaityti daugiau](https://ambcrypto.com/tron-aave-sushiswap-price-analysis-08-september/) "
      ],
      "text/plain": [
       "<IPython.core.display.Markdown object>"
      ]
     },
     "execution_count": 6,
     "metadata": {},
     "output_type": "execute_result"
    }
   ],
   "source": [
    "#hide_input\n",
    "#md('##### {}'.format(titleBTC)) \n",
    "md(\"- {}{} {}{} [| Skaityti daugiau]({}) \".format(trx['title'],'. ', trx['body'], ' ...', trx['url']))"
   ]
  },
  {
   "cell_type": "code",
   "execution_count": 7,
   "id": "illegal-greece",
   "metadata": {
    "execution": {
     "iopub.execute_input": "2021-09-09T02:01:11.641656Z",
     "iopub.status.busy": "2021-09-09T02:01:11.641162Z",
     "iopub.status.idle": "2021-09-09T02:01:11.645684Z",
     "shell.execute_reply": "2021-09-09T02:01:11.646083Z"
    },
    "papermill": {
     "duration": 0.016675,
     "end_time": "2021-09-09T02:01:11.646190",
     "exception": false,
     "start_time": "2021-09-09T02:01:11.629515",
     "status": "completed"
    },
    "tags": []
   },
   "outputs": [
    {
     "data": {
      "text/markdown": [
       "- DYdX Releases Governance Token, Rewarding Past Users With An Airdrop.  The decentralized exchange dYdX became the latest DeFi project to release its own governance token through a retroactive airdrop. $DYDX is now claimable at https://t.co/ADuVmVnAWg. 🎉💪 Users can claim their earned rewards anytime. Earned rewards are claimable in perpetuity. https://t.co/zLEmCHotLY &#8212; dYdX Foundation 🦔 (@dydxfoundation) September 8, 2021 Past dYdX users can claim Tokens worth [&#8230;]The post DYdX Releases Governance Token, Rewarding Past Users With An Airdrop appeared first on CryptoCoin.News. ... [| Skaityti daugiau](https://cryptocoin.news/news/dydx-releases-governance-token-rewarding-past-users-with-an-airdrop-60935/?utm_source=rss&utm_medium=rss&utm_campaign=dydx-releases-governance-token-rewarding-past-users-with-an-airdrop) "
      ],
      "text/plain": [
       "<IPython.core.display.Markdown object>"
      ]
     },
     "execution_count": 7,
     "metadata": {},
     "output_type": "execute_result"
    }
   ],
   "source": [
    "#hide_input\n",
    "#md('##### {}'.format(titleBTC)) \n",
    "md(\"- {}{} {}{} [| Skaityti daugiau]({}) \".format(eth['title'],'. ', eth['body'], ' ...', eth['url']))"
   ]
  },
  {
   "cell_type": "code",
   "execution_count": 8,
   "id": "sublime-lounge",
   "metadata": {
    "execution": {
     "iopub.execute_input": "2021-09-09T02:01:11.671437Z",
     "iopub.status.busy": "2021-09-09T02:01:11.670916Z",
     "iopub.status.idle": "2021-09-09T02:01:11.674019Z",
     "shell.execute_reply": "2021-09-09T02:01:11.673600Z"
    },
    "papermill": {
     "duration": 0.017378,
     "end_time": "2021-09-09T02:01:11.674116",
     "exception": false,
     "start_time": "2021-09-09T02:01:11.656738",
     "status": "completed"
    },
    "tags": []
   },
   "outputs": [
    {
     "data": {
      "text/markdown": [
       "- Cardano Confirms Launch Date For Smart Contracts Mainnet Upgrade.  Cardano’s developer IOHK has now confirmed smart contracts capability is set to launch on the network on September 12th. The long-awaited upgrade to the Cardano Mainnet will see the addition of smart contracts capability to the network, which would open the door to both developers and investors alike on the network. The launch is scheduled for Sunday, only four days away. LAUNCH CONFIRMED: Today, around 17:26 UTC we successfully submitted an update proposal to the #Cardano mainnet, to trigger a hard fork combinator event on Sunday 💪🙌 #Cardano $ADA 1/6 pic.twitter.com/rEtjrdGiBV &#8212; Input Output (@InputOutputHK) September 7, 2021 Related Reading &#124; Analyst Lays Out Theory That Suggests A 290% Move In Cardano (ADA) Before Rally Is Over Taking to Twitter, the developer shared with the wider community that they had successfully submitted an upgrade proposal to the Cardano Mainnet. This would trigger the hard fork combinator (HFC) event that would take place on Sunday. “The Alonzo HFC event will be the most significant upgrade yet, laying the firmest of foundations for an exciting new era of smart contracts on Cardano,” said the developer. Using the HFC technology will enable the deployment of smart contracts capability with the core Plutus, which will come will all compatibility upgrades across the entire software stack. Testing has already been underway for the smart contracts capability with trusted testers from previo... ... [| Skaityti daugiau](https://www.newsbtc.com/news/cardano/cardano-confirms-mainnet-upgrade/) "
      ],
      "text/plain": [
       "<IPython.core.display.Markdown object>"
      ]
     },
     "execution_count": 8,
     "metadata": {},
     "output_type": "execute_result"
    }
   ],
   "source": [
    "#hide_input\n",
    "#md('##### {}'.format(titleBTC)) \n",
    "md(\"- {}{} {}{} [| Skaityti daugiau]({}) \".format(ada['title'],'. ', ada['body'], ' ...', ada['url']))"
   ]
  },
  {
   "cell_type": "code",
   "execution_count": 9,
   "id": "specified-ordering",
   "metadata": {
    "execution": {
     "iopub.execute_input": "2021-09-09T02:01:11.700113Z",
     "iopub.status.busy": "2021-09-09T02:01:11.699619Z",
     "iopub.status.idle": "2021-09-09T02:01:11.702751Z",
     "shell.execute_reply": "2021-09-09T02:01:11.702353Z"
    },
    "papermill": {
     "duration": 0.017811,
     "end_time": "2021-09-09T02:01:11.702848",
     "exception": false,
     "start_time": "2021-09-09T02:01:11.685037",
     "status": "completed"
    },
    "tags": []
   },
   "outputs": [
    {
     "data": {
      "text/markdown": [
       "- ‘SEC Will Stop at Nothing to Control Entire Crypto Space,’ Says Former Federal Prosecutor.  A former federal prosecutor says that the U.S. Securities and Exchange Commission (SEC) &#x201C;will stop at nothing to control the entire crypto space.&#x201D; The SEC has now threatened to sue the Nasdaq-listed crypto exchange Coinbase. The regulator is already in an ongoing lawsuit with Ripple Labs and its executives. SEC Going After Entire Crypto Space, [&#8230;] ... [| Skaityti daugiau](https://news.bitcoin.com/sec-will-stop-at-nothing-to-control-entire-crypto-space-former-federal-prosecutor/) "
      ],
      "text/plain": [
       "<IPython.core.display.Markdown object>"
      ]
     },
     "execution_count": 9,
     "metadata": {},
     "output_type": "execute_result"
    }
   ],
   "source": [
    "#hide_input\n",
    "#md('##### {}'.format(titleBTC)) \n",
    "md(\"- {}{} {}{} [| Skaityti daugiau]({}) \".format(exchange['title'],'. ', exchange['body'], ' ...', exchange['url']))"
   ]
  },
  {
   "cell_type": "code",
   "execution_count": null,
   "id": "tender-livestock",
   "metadata": {
    "papermill": {
     "duration": 0.011146,
     "end_time": "2021-09-09T02:01:11.725173",
     "exception": false,
     "start_time": "2021-09-09T02:01:11.714027",
     "status": "completed"
    },
    "tags": []
   },
   "outputs": [],
   "source": []
  },
  {
   "cell_type": "code",
   "execution_count": null,
   "id": "appreciated-diamond",
   "metadata": {
    "papermill": {
     "duration": 0.01131,
     "end_time": "2021-09-09T02:01:11.747820",
     "exception": false,
     "start_time": "2021-09-09T02:01:11.736510",
     "status": "completed"
    },
    "tags": []
   },
   "outputs": [],
   "source": []
  },
  {
   "cell_type": "code",
   "execution_count": null,
   "id": "romance-sweden",
   "metadata": {
    "papermill": {
     "duration": 0.0111,
     "end_time": "2021-09-09T02:01:11.770232",
     "exception": false,
     "start_time": "2021-09-09T02:01:11.759132",
     "status": "completed"
    },
    "tags": []
   },
   "outputs": [],
   "source": []
  },
  {
   "cell_type": "code",
   "execution_count": null,
   "id": "dietary-statistics",
   "metadata": {
    "papermill": {
     "duration": 0.011092,
     "end_time": "2021-09-09T02:01:11.792471",
     "exception": false,
     "start_time": "2021-09-09T02:01:11.781379",
     "status": "completed"
    },
    "tags": []
   },
   "outputs": [],
   "source": []
  }
 ],
 "metadata": {
  "kernelspec": {
   "display_name": "Python 3",
   "language": "python",
   "name": "python3"
  },
  "language_info": {
   "codemirror_mode": {
    "name": "ipython",
    "version": 3
   },
   "file_extension": ".py",
   "mimetype": "text/x-python",
   "name": "python",
   "nbconvert_exporter": "python",
   "pygments_lexer": "ipython3",
   "version": "3.6.14"
  },
  "papermill": {
   "default_parameters": {},
   "duration": 12.452053,
   "end_time": "2021-09-09T02:01:12.311632",
   "environment_variables": {},
   "exception": null,
   "input_path": "Market-News.ipynb",
   "output_path": "Market-News.ipynb",
   "parameters": {},
   "start_time": "2021-09-09T02:00:59.859579",
   "version": "2.2.2"
  }
 },
 "nbformat": 4,
 "nbformat_minor": 5
}