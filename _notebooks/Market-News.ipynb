{
 "cells": [
  {
   "cell_type": "markdown",
   "id": "short-greensboro",
   "metadata": {
    "papermill": {
     "duration": 0.014249,
     "end_time": "2022-06-20T02:56:40.284967",
     "exception": false,
     "start_time": "2022-06-20T02:56:40.270718",
     "status": "completed"
    },
    "tags": []
   },
   "source": [
    "# Kriptovaliutų naujienos"
   ]
  },
  {
   "cell_type": "code",
   "execution_count": 1,
   "id": "functioning-knowing",
   "metadata": {
    "execution": {
     "iopub.execute_input": "2022-06-20T02:56:40.318479Z",
     "iopub.status.busy": "2022-06-20T02:56:40.317737Z",
     "iopub.status.idle": "2022-06-20T02:56:41.739979Z",
     "shell.execute_reply": "2022-06-20T02:56:41.739294Z"
    },
    "papermill": {
     "duration": 1.44442,
     "end_time": "2022-06-20T02:56:41.740153",
     "exception": false,
     "start_time": "2022-06-20T02:56:40.295733",
     "status": "completed"
    },
    "tags": []
   },
   "outputs": [],
   "source": [
    "#hide_input\n",
    "import warnings\n",
    "warnings.filterwarnings('ignore')\n",
    "from scripts.read_data import read_api\n",
    "from scripts.read_data import read_news\n",
    "from scripts.read_data import read_covid\n",
    "import matplotlib.pyplot as plt \n",
    "from IPython.display import Markdown as md"
   ]
  },
  {
   "cell_type": "code",
   "execution_count": 2,
   "id": "shared-acceptance",
   "metadata": {
    "execution": {
     "iopub.execute_input": "2022-06-20T02:56:41.768831Z",
     "iopub.status.busy": "2022-06-20T02:56:41.767808Z",
     "iopub.status.idle": "2022-06-20T02:56:51.392429Z",
     "shell.execute_reply": "2022-06-20T02:56:51.391801Z"
    },
    "papermill": {
     "duration": 9.641303,
     "end_time": "2022-06-20T02:56:51.392581",
     "exception": false,
     "start_time": "2022-06-20T02:56:41.751278",
     "status": "completed"
    },
    "tags": []
   },
   "outputs": [],
   "source": [
    "#hide_input\n",
    "blockchain = read_news('blockchain') \n",
    "btc = read_news('btc') \n",
    "xrp = read_news('xrp') \n",
    "trx = read_news('trx') \n",
    "eth = read_news('eth')  \n",
    "ada = read_news('ada')\n",
    "exchange = read_news('exchange') "
   ]
  },
  {
   "cell_type": "code",
   "execution_count": 3,
   "id": "synthetic-notion",
   "metadata": {
    "execution": {
     "iopub.execute_input": "2022-06-20T02:56:51.422183Z",
     "iopub.status.busy": "2022-06-20T02:56:51.421438Z",
     "iopub.status.idle": "2022-06-20T02:56:51.424929Z",
     "shell.execute_reply": "2022-06-20T02:56:51.425449Z"
    },
    "papermill": {
     "duration": 0.02194,
     "end_time": "2022-06-20T02:56:51.425586",
     "exception": false,
     "start_time": "2022-06-20T02:56:51.403646",
     "status": "completed"
    },
    "tags": []
   },
   "outputs": [
    {
     "data": {
      "text/markdown": [
       "- Algorand’s multiple partnerships are a boon, but does ALGO feel the same way.  A significant challenge most blockchains face is how to commandeer investors’ interest in the network’s native coins or tokens. Algorand [ALGO], a proof-of-stake blockchain cryptocurrency protocol, has struggled to keep investors interested in its native coin &#8211; ALGO. 2022 has been marked by a series of attempts by the Algorand Network to save its ailing [&#8230;] ... [| Skaityti daugiau](https://ambcrypto.com/algorands-multiple-partnerships-are-a-boon-but-does-algo-feel-the-same-way/) "
      ],
      "text/plain": [
       "<IPython.core.display.Markdown object>"
      ]
     },
     "execution_count": 3,
     "metadata": {},
     "output_type": "execute_result"
    }
   ],
   "source": [
    "#hide_input\n",
    "#md('##### {}'.format(titleBTC)) \n",
    "md(\"- {}{} {}{} [| Skaityti daugiau]({}) \".format(blockchain['title'],'. ', blockchain['body'], ' ...', blockchain['url']))"
   ]
  },
  {
   "cell_type": "code",
   "execution_count": 4,
   "id": "aging-caution",
   "metadata": {
    "execution": {
     "iopub.execute_input": "2022-06-20T02:56:51.455320Z",
     "iopub.status.busy": "2022-06-20T02:56:51.454611Z",
     "iopub.status.idle": "2022-06-20T02:56:51.459538Z",
     "shell.execute_reply": "2022-06-20T02:56:51.460072Z"
    },
    "papermill": {
     "duration": 0.023453,
     "end_time": "2022-06-20T02:56:51.460196",
     "exception": false,
     "start_time": "2022-06-20T02:56:51.436743",
     "status": "completed"
    },
    "tags": []
   },
   "outputs": [
    {
     "data": {
      "text/markdown": [
       "- Kevin O’Leary Says He Won’t Sell Any Crypto Despite Downturn – ‘You Just Have to Stomach It’.  Shark Tank star Kevin O&#x2019;Leary, aka Mr. Wonderful, says he is not selling any of his cryptocurrencies despite the crypto market downturn. &#x201C;Long term, you just have to stomach it. You have to understand you&#x2019;ll get volatility,&#x201D; he stressed. Kevin O&#x2019;Leary: I&#x2019;m Not Selling Anything Shark Tank star Kevin O&#x2019;Leary talked about bitcoin and other [&#8230;] ... [| Skaityti daugiau](https://news.bitcoin.com/kevin-oleary-says-he-wont-sell-any-crypto-despite-downturn-you-just-have-to-stomach-it/) "
      ],
      "text/plain": [
       "<IPython.core.display.Markdown object>"
      ]
     },
     "execution_count": 4,
     "metadata": {},
     "output_type": "execute_result"
    }
   ],
   "source": [
    "#hide_input\n",
    "#md('##### {}'.format(titleBTC)) \n",
    "md(\"- {}{} {}{} [| Skaityti daugiau]({}) \".format(btc['title'],'. ', btc['body'], ' ...', btc['url']))"
   ]
  },
  {
   "cell_type": "code",
   "execution_count": 5,
   "id": "organic-actress",
   "metadata": {
    "execution": {
     "iopub.execute_input": "2022-06-20T02:56:51.486579Z",
     "iopub.status.busy": "2022-06-20T02:56:51.485827Z",
     "iopub.status.idle": "2022-06-20T02:56:51.490140Z",
     "shell.execute_reply": "2022-06-20T02:56:51.489606Z"
    },
    "papermill": {
     "duration": 0.019418,
     "end_time": "2022-06-20T02:56:51.490259",
     "exception": false,
     "start_time": "2022-06-20T02:56:51.470841",
     "status": "completed"
    },
    "tags": []
   },
   "outputs": [
    {
     "data": {
      "text/markdown": [
       "- How Low Will Bitcoin, Ethereum, Solana, XRP Price Go?.  The cryptocurrency market is witnessing a tremendous selloff, with most assets losing more than 40% of their value in less than 24 hours. Bitcoin&#8217;s price is currently challenging the 2017 all-time high range of $17,500 to $20,500 and is constantly shadowing lower prices, indicating that sellers are exerting excessive pressure. BTC hit a fresh 18-month [&#8230;]The post How Low Will Bitcoin, Ethereum, Solana, XRP Price Go? appeared first on NullTX. ... [| Skaityti daugiau](https://nulltx.com/how-low-will-bitcoin-ethereum-solana-xrp-price-go/) "
      ],
      "text/plain": [
       "<IPython.core.display.Markdown object>"
      ]
     },
     "execution_count": 5,
     "metadata": {},
     "output_type": "execute_result"
    }
   ],
   "source": [
    "#hide_input\n",
    "#md('##### {}'.format(titleBTC)) \n",
    "md(\"- {}{} {}{} [| Skaityti daugiau]({}) \".format(xrp['title'],'. ', xrp['body'], ' ...', xrp['url']))"
   ]
  },
  {
   "cell_type": "code",
   "execution_count": 6,
   "id": "prompt-farmer",
   "metadata": {
    "execution": {
     "iopub.execute_input": "2022-06-20T02:56:51.521874Z",
     "iopub.status.busy": "2022-06-20T02:56:51.521125Z",
     "iopub.status.idle": "2022-06-20T02:56:51.524423Z",
     "shell.execute_reply": "2022-06-20T02:56:51.525111Z"
    },
    "papermill": {
     "duration": 0.020832,
     "end_time": "2022-06-20T02:56:51.525238",
     "exception": false,
     "start_time": "2022-06-20T02:56:51.504406",
     "status": "completed"
    },
    "tags": []
   },
   "outputs": [
    {
     "data": {
      "text/markdown": [
       "- Tron Price Analysis- Will EMA Death Crossover Bolster TRX Fall?.  Last week&#8217;s crypto crash took a significant toll on Tron&#8217;s (TRX) price and plunged it to a low of $0.047. This downfall registered a 45.5% loss in just two weeks but failed to sustain below $0.057 support. Furthermore, the altcoin has been trying to sustain above the $0.057 mark over the past three days, which The post Tron Price Analysis- Will EMA Death Crossover Bolster TRX Fall? appeared first on CoinGape. ... [| Skaityti daugiau](https://coingape.com/markets/tron-price-analysis-will-ema-death-crossover-bolster-trx-fall/) "
      ],
      "text/plain": [
       "<IPython.core.display.Markdown object>"
      ]
     },
     "execution_count": 6,
     "metadata": {},
     "output_type": "execute_result"
    }
   ],
   "source": [
    "#hide_input\n",
    "#md('##### {}'.format(titleBTC)) \n",
    "md(\"- {}{} {}{} [| Skaityti daugiau]({}) \".format(trx['title'],'. ', trx['body'], ' ...', trx['url']))"
   ]
  },
  {
   "cell_type": "code",
   "execution_count": 7,
   "id": "illegal-greece",
   "metadata": {
    "execution": {
     "iopub.execute_input": "2022-06-20T02:56:51.555522Z",
     "iopub.status.busy": "2022-06-20T02:56:51.554875Z",
     "iopub.status.idle": "2022-06-20T02:56:51.558860Z",
     "shell.execute_reply": "2022-06-20T02:56:51.557993Z"
    },
    "papermill": {
     "duration": 0.022345,
     "end_time": "2022-06-20T02:56:51.558976",
     "exception": false,
     "start_time": "2022-06-20T02:56:51.536631",
     "status": "completed"
    },
    "tags": []
   },
   "outputs": [
    {
     "data": {
      "text/markdown": [
       "- Ethereum [ETH] investors, watch out for this level to look for recovery.  Disclaimer: The findings of the following analysis are the sole opinions of the writer and should not be considered investment advice As macro-economic uncertainties fueled market-wide corrections, the crypto-market&#8217;s capitalization plunged below $900 billion. Over the week, Ethereum [ETH] broke down into high volatility after losing its $1,700-support. The recent bearish engulfing has significantly tarnished buying [&#8230;] ... [| Skaityti daugiau](https://ambcrypto.com/ethereum-eth-investors-watch-out-for-this-level-to-look-for-recovery/) "
      ],
      "text/plain": [
       "<IPython.core.display.Markdown object>"
      ]
     },
     "execution_count": 7,
     "metadata": {},
     "output_type": "execute_result"
    }
   ],
   "source": [
    "#hide_input\n",
    "#md('##### {}'.format(titleBTC)) \n",
    "md(\"- {}{} {}{} [| Skaityti daugiau]({}) \".format(eth['title'],'. ', eth['body'], ' ...', eth['url']))"
   ]
  },
  {
   "cell_type": "code",
   "execution_count": 8,
   "id": "sublime-lounge",
   "metadata": {
    "execution": {
     "iopub.execute_input": "2022-06-20T02:56:51.589946Z",
     "iopub.status.busy": "2022-06-20T02:56:51.589249Z",
     "iopub.status.idle": "2022-06-20T02:56:51.592686Z",
     "shell.execute_reply": "2022-06-20T02:56:51.593311Z"
    },
    "papermill": {
     "duration": 0.020952,
     "end_time": "2022-06-20T02:56:51.593427",
     "exception": false,
     "start_time": "2022-06-20T02:56:51.572475",
     "status": "completed"
    },
    "tags": []
   },
   "outputs": [
    {
     "data": {
      "text/markdown": [
       "- Analyst Michaël van de Poppe Unveils Altcoin Picks, Says He’s Bullish on Ethereum and Three ETH Rivals.  A widely followed crypto strategist is unveiling his top altcoin picks amid the crypto pullback, which includes Ethereum (ETH) and three of its challengers. Michaël van de Poppe tells his 611,800 Twitter followers that he is positioned for huge rallies in smart contract platforms Ethereum, Cardano (ADA), Avalanche (AVAX) and Fantom (FTM), as well as [&#8230;]The post Analyst Michaël van de Poppe Unveils Altcoin Picks, Says He&#8217;s Bullish on Ethereum and Three ETH Rivals appeared first on The Daily Hodl. ... [| Skaityti daugiau](https://dailyhodl.com/2022/06/19/analyst-michael-van-de-poppe-unveils-altcoin-picks-says-hes-bullish-on-ethereum-and-three-eth-rivals/) "
      ],
      "text/plain": [
       "<IPython.core.display.Markdown object>"
      ]
     },
     "execution_count": 8,
     "metadata": {},
     "output_type": "execute_result"
    }
   ],
   "source": [
    "#hide_input\n",
    "#md('##### {}'.format(titleBTC)) \n",
    "md(\"- {}{} {}{} [| Skaityti daugiau]({}) \".format(ada['title'],'. ', ada['body'], ' ...', ada['url']))"
   ]
  },
  {
   "cell_type": "code",
   "execution_count": 9,
   "id": "specified-ordering",
   "metadata": {
    "execution": {
     "iopub.execute_input": "2022-06-20T02:56:51.621523Z",
     "iopub.status.busy": "2022-06-20T02:56:51.620839Z",
     "iopub.status.idle": "2022-06-20T02:56:51.627142Z",
     "shell.execute_reply": "2022-06-20T02:56:51.627777Z"
    },
    "papermill": {
     "duration": 0.021847,
     "end_time": "2022-06-20T02:56:51.627905",
     "exception": false,
     "start_time": "2022-06-20T02:56:51.606058",
     "status": "completed"
    },
    "tags": []
   },
   "outputs": [
    {
     "data": {
      "text/markdown": [
       "- What Makes Cryptocurrencies A Good Hedge Against Inflation.  An inflation hedge is an asset or investment that maintains or increases its value over time while protecting against decreased purchasing power and its adverse effects. Inflation in fiat-based economies is imminent, hence, the need for buffers against the adverse effects of inflation. Store of value investments such as Gold, stocks, real estate, bonds, or precious metals has been considered tools and investments that have worked as hedges for a long time. Cryptocurrencies have currently been embraced by the U.S. Securities and Exchange Commission as investable assets. Store of value assets and good inflation hedges, known as hard assets, should be capable of holding purchasing power over time. Fundamental properties linked with hard assets are scarcity, accessibility, and durability. Crypto As a Store-Of-Value Utility and scarcity are critical prerequisites to value, both of which are inherent in cryptocurrencies. The utility is the purpose of these cryptocurrencies and the problem they seek to address or improve processes. Scarcity refers to the number of digital coins or tokens in circulation. Regarding utility, one can use bitcoin as a store of value, ether to implement a pre-programmed code through smart contracts, and litecoin for payment of goods and services. Use cases and increased adoption are growing, indicating an interest in replacing current systems. Fiat currencies decrease in value over time due to money creati... ... [| Skaityti daugiau](https://www.cryptoknowmics.com/news/what-makes-cryptocurrencies-a-good-hedge-against-inflation/?utm_source=rss&utm_medium=rss&utm_campaign=what-makes-cryptocurrencies-a-good-hedge-against-inflation) "
      ],
      "text/plain": [
       "<IPython.core.display.Markdown object>"
      ]
     },
     "execution_count": 9,
     "metadata": {},
     "output_type": "execute_result"
    }
   ],
   "source": [
    "#hide_input\n",
    "#md('##### {}'.format(titleBTC)) \n",
    "md(\"- {}{} {}{} [| Skaityti daugiau]({}) \".format(exchange['title'],'. ', exchange['body'], ' ...', exchange['url']))"
   ]
  },
  {
   "cell_type": "code",
   "execution_count": null,
   "id": "tender-livestock",
   "metadata": {
    "papermill": {
     "duration": 0.013574,
     "end_time": "2022-06-20T02:56:51.656639",
     "exception": false,
     "start_time": "2022-06-20T02:56:51.643065",
     "status": "completed"
    },
    "tags": []
   },
   "outputs": [],
   "source": []
  },
  {
   "cell_type": "code",
   "execution_count": null,
   "id": "appreciated-diamond",
   "metadata": {
    "papermill": {
     "duration": 0.014151,
     "end_time": "2022-06-20T02:56:51.684709",
     "exception": false,
     "start_time": "2022-06-20T02:56:51.670558",
     "status": "completed"
    },
    "tags": []
   },
   "outputs": [],
   "source": []
  },
  {
   "cell_type": "code",
   "execution_count": null,
   "id": "romance-sweden",
   "metadata": {
    "papermill": {
     "duration": 0.012552,
     "end_time": "2022-06-20T02:56:51.711109",
     "exception": false,
     "start_time": "2022-06-20T02:56:51.698557",
     "status": "completed"
    },
    "tags": []
   },
   "outputs": [],
   "source": []
  },
  {
   "cell_type": "code",
   "execution_count": null,
   "id": "dietary-statistics",
   "metadata": {
    "papermill": {
     "duration": 0.011933,
     "end_time": "2022-06-20T02:56:51.735808",
     "exception": false,
     "start_time": "2022-06-20T02:56:51.723875",
     "status": "completed"
    },
    "tags": []
   },
   "outputs": [],
   "source": []
  }
 ],
 "metadata": {
  "kernelspec": {
   "display_name": "Python 3",
   "language": "python",
   "name": "python3"
  },
  "language_info": {
   "codemirror_mode": {
    "name": "ipython",
    "version": 3
   },
   "file_extension": ".py",
   "mimetype": "text/x-python",
   "name": "python",
   "nbconvert_exporter": "python",
   "pygments_lexer": "ipython3",
   "version": "3.6.15"
  },
  "papermill": {
   "default_parameters": {},
   "duration": 13.144565,
   "end_time": "2022-06-20T02:56:52.276236",
   "environment_variables": {},
   "exception": null,
   "input_path": "Market-News.ipynb",
   "output_path": "Market-News.ipynb",
   "parameters": {},
   "start_time": "2022-06-20T02:56:39.131671",
   "version": "2.2.2"
  }
 },
 "nbformat": 4,
 "nbformat_minor": 5
}