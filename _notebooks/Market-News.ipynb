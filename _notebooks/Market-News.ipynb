{
 "cells": [
  {
   "cell_type": "markdown",
   "id": "short-greensboro",
   "metadata": {
    "papermill": {
     "duration": 0.012892,
     "end_time": "2022-05-24T03:03:45.697534",
     "exception": false,
     "start_time": "2022-05-24T03:03:45.684642",
     "status": "completed"
    },
    "tags": []
   },
   "source": [
    "# Kriptovaliutų naujienos"
   ]
  },
  {
   "cell_type": "code",
   "execution_count": 1,
   "id": "functioning-knowing",
   "metadata": {
    "execution": {
     "iopub.execute_input": "2022-05-24T03:03:45.726697Z",
     "iopub.status.busy": "2022-05-24T03:03:45.724617Z",
     "iopub.status.idle": "2022-05-24T03:03:46.880296Z",
     "shell.execute_reply": "2022-05-24T03:03:46.879334Z"
    },
    "papermill": {
     "duration": 1.172806,
     "end_time": "2022-05-24T03:03:46.880439",
     "exception": false,
     "start_time": "2022-05-24T03:03:45.707633",
     "status": "completed"
    },
    "tags": []
   },
   "outputs": [],
   "source": [
    "#hide_input\n",
    "import warnings\n",
    "warnings.filterwarnings('ignore')\n",
    "from scripts.read_data import read_api\n",
    "from scripts.read_data import read_news\n",
    "from scripts.read_data import read_covid\n",
    "import matplotlib.pyplot as plt \n",
    "from IPython.display import Markdown as md"
   ]
  },
  {
   "cell_type": "code",
   "execution_count": 2,
   "id": "shared-acceptance",
   "metadata": {
    "execution": {
     "iopub.execute_input": "2022-05-24T03:03:46.906859Z",
     "iopub.status.busy": "2022-05-24T03:03:46.905906Z",
     "iopub.status.idle": "2022-05-24T03:03:59.248392Z",
     "shell.execute_reply": "2022-05-24T03:03:59.246981Z"
    },
    "papermill": {
     "duration": 12.357334,
     "end_time": "2022-05-24T03:03:59.248527",
     "exception": false,
     "start_time": "2022-05-24T03:03:46.891193",
     "status": "completed"
    },
    "tags": []
   },
   "outputs": [],
   "source": [
    "#hide_input\n",
    "blockchain = read_news('blockchain') \n",
    "btc = read_news('btc') \n",
    "xrp = read_news('xrp') \n",
    "trx = read_news('trx') \n",
    "eth = read_news('eth')  \n",
    "ada = read_news('ada')\n",
    "exchange = read_news('exchange') "
   ]
  },
  {
   "cell_type": "code",
   "execution_count": 3,
   "id": "synthetic-notion",
   "metadata": {
    "execution": {
     "iopub.execute_input": "2022-05-24T03:03:59.272105Z",
     "iopub.status.busy": "2022-05-24T03:03:59.271553Z",
     "iopub.status.idle": "2022-05-24T03:03:59.276377Z",
     "shell.execute_reply": "2022-05-24T03:03:59.276818Z"
    },
    "papermill": {
     "duration": 0.018633,
     "end_time": "2022-05-24T03:03:59.276933",
     "exception": false,
     "start_time": "2022-05-24T03:03:59.258300",
     "status": "completed"
    },
    "tags": []
   },
   "outputs": [
    {
     "data": {
      "text/markdown": [
       "- Digital securities platform ADDX raises $58 million.  ADDX, a Singapore-based trading platform for digital securities, announced a $58 million pre-Series B funding round this morning. ... [| Skaityti daugiau](https://www.theblockcrypto.com/linked/148400/digital-securities-platform-addx-raises-58-million?utm_source=cryptocompare&utm_medium=rss) "
      ],
      "text/plain": [
       "<IPython.core.display.Markdown object>"
      ]
     },
     "execution_count": 3,
     "metadata": {},
     "output_type": "execute_result"
    }
   ],
   "source": [
    "#hide_input\n",
    "#md('##### {}'.format(titleBTC)) \n",
    "md(\"- {}{} {}{} [| Skaityti daugiau]({}) \".format(blockchain['title'],'. ', blockchain['body'], ' ...', blockchain['url']))"
   ]
  },
  {
   "cell_type": "code",
   "execution_count": 4,
   "id": "aging-caution",
   "metadata": {
    "execution": {
     "iopub.execute_input": "2022-05-24T03:03:59.300837Z",
     "iopub.status.busy": "2022-05-24T03:03:59.300265Z",
     "iopub.status.idle": "2022-05-24T03:03:59.303471Z",
     "shell.execute_reply": "2022-05-24T03:03:59.303041Z"
    },
    "papermill": {
     "duration": 0.01699,
     "end_time": "2022-05-24T03:03:59.303571",
     "exception": false,
     "start_time": "2022-05-24T03:03:59.286581",
     "status": "completed"
    },
    "tags": []
   },
   "outputs": [
    {
     "data": {
      "text/markdown": [
       "- Ted Cruz: ‘I want Texas to be the oasis on planet Earth for bitcoin and crypto’.  \"I think a central bank digital currency is a horrific idea. I think it is a very dangerous idea,\" said Cruz. ... [| Skaityti daugiau](https://www.theblockcrypto.com/linked/148387/ted-cruz-bitcoin-earth?utm_source=cryptocompare&utm_medium=rss) "
      ],
      "text/plain": [
       "<IPython.core.display.Markdown object>"
      ]
     },
     "execution_count": 4,
     "metadata": {},
     "output_type": "execute_result"
    }
   ],
   "source": [
    "#hide_input\n",
    "#md('##### {}'.format(titleBTC)) \n",
    "md(\"- {}{} {}{} [| Skaityti daugiau]({}) \".format(btc['title'],'. ', btc['body'], ' ...', btc['url']))"
   ]
  },
  {
   "cell_type": "code",
   "execution_count": 5,
   "id": "organic-actress",
   "metadata": {
    "execution": {
     "iopub.execute_input": "2022-05-24T03:03:59.327970Z",
     "iopub.status.busy": "2022-05-24T03:03:59.326785Z",
     "iopub.status.idle": "2022-05-24T03:03:59.331065Z",
     "shell.execute_reply": "2022-05-24T03:03:59.330633Z"
    },
    "papermill": {
     "duration": 0.017567,
     "end_time": "2022-05-24T03:03:59.331163",
     "exception": false,
     "start_time": "2022-05-24T03:03:59.313596",
     "status": "completed"
    },
    "tags": []
   },
   "outputs": [
    {
     "data": {
      "text/markdown": [
       "- XRP Has Broken Below Its Long Standing Support, What’s Next?.  XRP flashed lateral price movement at the time of writing. The coin register some gains over the last 24 hours however, it was quite minor. Bulls are not completely back in the market yet. For bulls to be back in the market, it is essential for XRP to move above the $0.60 mark. Technical outlook of XRP hasn&#8217;t completely pointed towards a recovery because the bears are still in charge of the price. The one day chart of the XRP has continued to depict bearishness on the chart. Over the last week, XRP fell by almost 7%. Although the coin has printed a symmetrical pattern on the chart, which also means that XRP has a chance of moving on the upside it is uncertain if the altcoin will be able to hold onto its current price action. This directional breakout from the symmetrical triangle could either make the altcoin trade towards the north or towards the south. XRP Price Analysis: One Day Chart The altcoin was trading at $0.41 on the one day chart. XRP was also trading beneath its long standing support line of $0.42. The asset hadn&#8217;t gone below the aforementioned price level in almost over a year. A push below the current price mark will make the coin trade beneath the $0.30. A break below the $0.30 price mark could push XRP near the $0.24 price level. Since the coin registered a small symmetrical triangle and it can be so that XRP can either go up or down from here, the overhead resistance for XRP was at $0.48. For beari... ... [| Skaityti daugiau](https://www.newsbtc.com/news/xrp-has-broken-below-its-long-standing-support-whats-next/) "
      ],
      "text/plain": [
       "<IPython.core.display.Markdown object>"
      ]
     },
     "execution_count": 5,
     "metadata": {},
     "output_type": "execute_result"
    }
   ],
   "source": [
    "#hide_input\n",
    "#md('##### {}'.format(titleBTC)) \n",
    "md(\"- {}{} {}{} [| Skaityti daugiau]({}) \".format(xrp['title'],'. ', xrp['body'], ' ...', xrp['url']))"
   ]
  },
  {
   "cell_type": "code",
   "execution_count": 6,
   "id": "prompt-farmer",
   "metadata": {
    "execution": {
     "iopub.execute_input": "2022-05-24T03:03:59.355906Z",
     "iopub.status.busy": "2022-05-24T03:03:59.354811Z",
     "iopub.status.idle": "2022-05-24T03:03:59.359066Z",
     "shell.execute_reply": "2022-05-24T03:03:59.358619Z"
    },
    "papermill": {
     "duration": 0.017678,
     "end_time": "2022-05-24T03:03:59.359162",
     "exception": false,
     "start_time": "2022-05-24T03:03:59.341484",
     "status": "completed"
    },
    "tags": []
   },
   "outputs": [
    {
     "data": {
      "text/markdown": [
       "- Tron (TRX) Overtakes Shiba Inu (SHIB) As the 14th Largest Cryptocurrency.  TRON has been up 3.25% in the last 24 hours. The current value of TRON&#8217;s TVL is $5.34 billion. TRON ... [| Skaityti daugiau](https://thenewscrypto.com/tron-trx-overtakes-shiba-inu-shib-as-the-14th-largest-cryptocurrency/) "
      ],
      "text/plain": [
       "<IPython.core.display.Markdown object>"
      ]
     },
     "execution_count": 6,
     "metadata": {},
     "output_type": "execute_result"
    }
   ],
   "source": [
    "#hide_input\n",
    "#md('##### {}'.format(titleBTC)) \n",
    "md(\"- {}{} {}{} [| Skaityti daugiau]({}) \".format(trx['title'],'. ', trx['body'], ' ...', trx['url']))"
   ]
  },
  {
   "cell_type": "code",
   "execution_count": 7,
   "id": "illegal-greece",
   "metadata": {
    "execution": {
     "iopub.execute_input": "2022-05-24T03:03:59.385096Z",
     "iopub.status.busy": "2022-05-24T03:03:59.384021Z",
     "iopub.status.idle": "2022-05-24T03:03:59.388252Z",
     "shell.execute_reply": "2022-05-24T03:03:59.387807Z"
    },
    "papermill": {
     "duration": 0.018413,
     "end_time": "2022-05-24T03:03:59.388345",
     "exception": false,
     "start_time": "2022-05-24T03:03:59.369932",
     "status": "completed"
    },
    "tags": []
   },
   "outputs": [
    {
     "data": {
      "text/markdown": [
       "- South Korean police request exchanges freeze LFG related funds.  Police in South Korea have contacted the country’s leading exchanges to freeze any funds linked to the embattled Luna Foundation Guard. ... [| Skaityti daugiau](https://cointelegraph.com/news/south-korean-police-request-exchanges-freeze-lfg-related-funds) "
      ],
      "text/plain": [
       "<IPython.core.display.Markdown object>"
      ]
     },
     "execution_count": 7,
     "metadata": {},
     "output_type": "execute_result"
    }
   ],
   "source": [
    "#hide_input\n",
    "#md('##### {}'.format(titleBTC)) \n",
    "md(\"- {}{} {}{} [| Skaityti daugiau]({}) \".format(eth['title'],'. ', eth['body'], ' ...', eth['url']))"
   ]
  },
  {
   "cell_type": "code",
   "execution_count": 8,
   "id": "sublime-lounge",
   "metadata": {
    "execution": {
     "iopub.execute_input": "2022-05-24T03:03:59.415784Z",
     "iopub.status.busy": "2022-05-24T03:03:59.415207Z",
     "iopub.status.idle": "2022-05-24T03:03:59.418178Z",
     "shell.execute_reply": "2022-05-24T03:03:59.417643Z"
    },
    "papermill": {
     "duration": 0.018081,
     "end_time": "2022-05-24T03:03:59.418274",
     "exception": false,
     "start_time": "2022-05-24T03:03:59.400193",
     "status": "completed"
    },
    "tags": []
   },
   "outputs": [
    {
     "data": {
      "text/markdown": [
       "- Institutional Investors Accumulate Cardano (ADA) and Polkadot (DOT) As Bitcoin Sees Major Outflows: CoinShares.  A leading digital asset manager says institutional investors are taking an interest in Cardano (ADA) and Polkadot (DOT) while heavily de-risking from Bitcoin (BTC). In the latest Digital Asset Fund Flows Weekly report, CoinShares finds that BTC suffered $154 million in outflows last week, leading a digital asset market that saw outflows of $141 million total. [&#8230;]The post Institutional Investors Accumulate Cardano (ADA) and Polkadot (DOT) As Bitcoin Sees Major Outflows: CoinShares appeared first on The Daily Hodl. ... [| Skaityti daugiau](https://dailyhodl.com/2022/05/23/institutional-investors-accumulate-cardano-ada-and-polkadot-dot-as-bitcoin-sees-major-outflows-coinshares/) "
      ],
      "text/plain": [
       "<IPython.core.display.Markdown object>"
      ]
     },
     "execution_count": 8,
     "metadata": {},
     "output_type": "execute_result"
    }
   ],
   "source": [
    "#hide_input\n",
    "#md('##### {}'.format(titleBTC)) \n",
    "md(\"- {}{} {}{} [| Skaityti daugiau]({}) \".format(ada['title'],'. ', ada['body'], ' ...', ada['url']))"
   ]
  },
  {
   "cell_type": "code",
   "execution_count": 9,
   "id": "specified-ordering",
   "metadata": {
    "execution": {
     "iopub.execute_input": "2022-05-24T03:03:59.445229Z",
     "iopub.status.busy": "2022-05-24T03:03:59.444663Z",
     "iopub.status.idle": "2022-05-24T03:03:59.447329Z",
     "shell.execute_reply": "2022-05-24T03:03:59.447737Z"
    },
    "papermill": {
     "duration": 0.018297,
     "end_time": "2022-05-24T03:03:59.447849",
     "exception": false,
     "start_time": "2022-05-24T03:03:59.429552",
     "status": "completed"
    },
    "tags": []
   },
   "outputs": [
    {
     "data": {
      "text/markdown": [
       "- Ripple Vs SEC : A Big Motion To Be Witnessed With 67,000 XRP Investors To Be Represented.  The post Ripple Vs SEC : A Big Motion To Be Witnessed With 67,000 XRP Investors To Be Represented appeared first on Coinpedia - Fintech &amp; Cryptocurreny News Media| Crypto GuideA crucial milestone in the US Securities and Exchange Commission&#8217;s (SEC) continuing litigation with payments startup Ripple Labs for reportedly issuing XRP as an unregistered securities has been highlighted by a crypto legal expert. John Deaton, an attorney and XRP advocate, has requested to represent 67,000 XRP investors in a letter. The move follows the &#8230; ... [| Skaityti daugiau](https://coinpedia.org/ripple/ripple-vs-sec-a-big-motion-to-be-witnessed-with-67000-xrp-investors-to-be-represented/) "
      ],
      "text/plain": [
       "<IPython.core.display.Markdown object>"
      ]
     },
     "execution_count": 9,
     "metadata": {},
     "output_type": "execute_result"
    }
   ],
   "source": [
    "#hide_input\n",
    "#md('##### {}'.format(titleBTC)) \n",
    "md(\"- {}{} {}{} [| Skaityti daugiau]({}) \".format(exchange['title'],'. ', exchange['body'], ' ...', exchange['url']))"
   ]
  },
  {
   "cell_type": "code",
   "execution_count": null,
   "id": "tender-livestock",
   "metadata": {
    "papermill": {
     "duration": 0.011639,
     "end_time": "2022-05-24T03:03:59.471031",
     "exception": false,
     "start_time": "2022-05-24T03:03:59.459392",
     "status": "completed"
    },
    "tags": []
   },
   "outputs": [],
   "source": []
  },
  {
   "cell_type": "code",
   "execution_count": null,
   "id": "appreciated-diamond",
   "metadata": {
    "papermill": {
     "duration": 0.011957,
     "end_time": "2022-05-24T03:03:59.494775",
     "exception": false,
     "start_time": "2022-05-24T03:03:59.482818",
     "status": "completed"
    },
    "tags": []
   },
   "outputs": [],
   "source": []
  },
  {
   "cell_type": "code",
   "execution_count": null,
   "id": "romance-sweden",
   "metadata": {
    "papermill": {
     "duration": 0.011565,
     "end_time": "2022-05-24T03:03:59.517972",
     "exception": false,
     "start_time": "2022-05-24T03:03:59.506407",
     "status": "completed"
    },
    "tags": []
   },
   "outputs": [],
   "source": []
  },
  {
   "cell_type": "code",
   "execution_count": null,
   "id": "dietary-statistics",
   "metadata": {
    "papermill": {
     "duration": 0.011558,
     "end_time": "2022-05-24T03:03:59.541469",
     "exception": false,
     "start_time": "2022-05-24T03:03:59.529911",
     "status": "completed"
    },
    "tags": []
   },
   "outputs": [],
   "source": []
  }
 ],
 "metadata": {
  "kernelspec": {
   "display_name": "Python 3",
   "language": "python",
   "name": "python3"
  },
  "language_info": {
   "codemirror_mode": {
    "name": "ipython",
    "version": 3
   },
   "file_extension": ".py",
   "mimetype": "text/x-python",
   "name": "python",
   "nbconvert_exporter": "python",
   "pygments_lexer": "ipython3",
   "version": "3.6.15"
  },
  "papermill": {
   "default_parameters": {},
   "duration": 15.199738,
   "end_time": "2022-05-24T03:03:59.970599",
   "environment_variables": {},
   "exception": null,
   "input_path": "Market-News.ipynb",
   "output_path": "Market-News.ipynb",
   "parameters": {},
   "start_time": "2022-05-24T03:03:44.770861",
   "version": "2.2.2"
  }
 },
 "nbformat": 4,
 "nbformat_minor": 5
}