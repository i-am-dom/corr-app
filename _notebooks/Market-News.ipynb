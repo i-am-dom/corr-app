{
 "cells": [
  {
   "cell_type": "markdown",
   "id": "short-greensboro",
   "metadata": {
    "papermill": {
     "duration": 0.012992,
     "end_time": "2022-06-04T02:48:23.141928",
     "exception": false,
     "start_time": "2022-06-04T02:48:23.128936",
     "status": "completed"
    },
    "tags": []
   },
   "source": [
    "# Kriptovaliutų naujienos"
   ]
  },
  {
   "cell_type": "code",
   "execution_count": 1,
   "id": "functioning-knowing",
   "metadata": {
    "execution": {
     "iopub.execute_input": "2022-06-04T02:48:23.171884Z",
     "iopub.status.busy": "2022-06-04T02:48:23.171229Z",
     "iopub.status.idle": "2022-06-04T02:48:24.461991Z",
     "shell.execute_reply": "2022-06-04T02:48:24.461438Z"
    },
    "papermill": {
     "duration": 1.310356,
     "end_time": "2022-06-04T02:48:24.462130",
     "exception": false,
     "start_time": "2022-06-04T02:48:23.151774",
     "status": "completed"
    },
    "tags": []
   },
   "outputs": [],
   "source": [
    "#hide_input\n",
    "import warnings\n",
    "warnings.filterwarnings('ignore')\n",
    "from scripts.read_data import read_api\n",
    "from scripts.read_data import read_news\n",
    "from scripts.read_data import read_covid\n",
    "import matplotlib.pyplot as plt \n",
    "from IPython.display import Markdown as md"
   ]
  },
  {
   "cell_type": "code",
   "execution_count": 2,
   "id": "shared-acceptance",
   "metadata": {
    "execution": {
     "iopub.execute_input": "2022-06-04T02:48:24.487675Z",
     "iopub.status.busy": "2022-06-04T02:48:24.486573Z",
     "iopub.status.idle": "2022-06-04T02:48:34.538859Z",
     "shell.execute_reply": "2022-06-04T02:48:34.537779Z"
    },
    "papermill": {
     "duration": 10.06754,
     "end_time": "2022-06-04T02:48:34.539010",
     "exception": false,
     "start_time": "2022-06-04T02:48:24.471470",
     "status": "completed"
    },
    "tags": []
   },
   "outputs": [],
   "source": [
    "#hide_input\n",
    "blockchain = read_news('blockchain') \n",
    "btc = read_news('btc') \n",
    "xrp = read_news('xrp') \n",
    "trx = read_news('trx') \n",
    "eth = read_news('eth')  \n",
    "ada = read_news('ada')\n",
    "exchange = read_news('exchange') "
   ]
  },
  {
   "cell_type": "code",
   "execution_count": 3,
   "id": "synthetic-notion",
   "metadata": {
    "execution": {
     "iopub.execute_input": "2022-06-04T02:48:34.565086Z",
     "iopub.status.busy": "2022-06-04T02:48:34.564373Z",
     "iopub.status.idle": "2022-06-04T02:48:34.566781Z",
     "shell.execute_reply": "2022-06-04T02:48:34.567387Z"
    },
    "papermill": {
     "duration": 0.019156,
     "end_time": "2022-06-04T02:48:34.567525",
     "exception": false,
     "start_time": "2022-06-04T02:48:34.548369",
     "status": "completed"
    },
    "tags": []
   },
   "outputs": [
    {
     "data": {
      "text/markdown": [
       "- Buterin ups Optimism after community uproar but here’s the caveat.  Vitalik Buterin has always advocated the participation of smaller holders in governance. He recently supported Optimism’s governance proposal in his tweets despite the latest backlash on the blockchain. What is the proposal about and what was the backlash that eventually engaged the OP community? Vitalik with a thumbs up for Optimism In the tweet, Buterin [&#8230;] ... [| Skaityti daugiau](https://ambcrypto.com/buterin-ups-optimism-after-community-uproar-but-heres-the-caveat/) "
      ],
      "text/plain": [
       "<IPython.core.display.Markdown object>"
      ]
     },
     "execution_count": 3,
     "metadata": {},
     "output_type": "execute_result"
    }
   ],
   "source": [
    "#hide_input\n",
    "#md('##### {}'.format(titleBTC)) \n",
    "md(\"- {}{} {}{} [| Skaityti daugiau]({}) \".format(blockchain['title'],'. ', blockchain['body'], ' ...', blockchain['url']))"
   ]
  },
  {
   "cell_type": "code",
   "execution_count": 4,
   "id": "aging-caution",
   "metadata": {
    "execution": {
     "iopub.execute_input": "2022-06-04T02:48:34.592232Z",
     "iopub.status.busy": "2022-06-04T02:48:34.591511Z",
     "iopub.status.idle": "2022-06-04T02:48:34.594232Z",
     "shell.execute_reply": "2022-06-04T02:48:34.594744Z"
    },
    "papermill": {
     "duration": 0.018115,
     "end_time": "2022-06-04T02:48:34.594925",
     "exception": false,
     "start_time": "2022-06-04T02:48:34.576810",
     "status": "completed"
    },
    "tags": []
   },
   "outputs": [
    {
     "data": {
      "text/markdown": [
       "- Bitcoin Will Reinspire The Pursuit Of Beauty.  Bitcoin lets us envision ourselves far into the future. It allows us to think, to set high goals and to discover a genuine pursuit which provides real value. ... [| Skaityti daugiau](https://bitcoinmagazine.com/culture/bitcoin-will-reinspire-the-pursuit-of-beauty) "
      ],
      "text/plain": [
       "<IPython.core.display.Markdown object>"
      ]
     },
     "execution_count": 4,
     "metadata": {},
     "output_type": "execute_result"
    }
   ],
   "source": [
    "#hide_input\n",
    "#md('##### {}'.format(titleBTC)) \n",
    "md(\"- {}{} {}{} [| Skaityti daugiau]({}) \".format(btc['title'],'. ', btc['body'], ' ...', btc['url']))"
   ]
  },
  {
   "cell_type": "code",
   "execution_count": 5,
   "id": "organic-actress",
   "metadata": {
    "execution": {
     "iopub.execute_input": "2022-06-04T02:48:34.619816Z",
     "iopub.status.busy": "2022-06-04T02:48:34.619216Z",
     "iopub.status.idle": "2022-06-04T02:48:34.622747Z",
     "shell.execute_reply": "2022-06-04T02:48:34.622276Z"
    },
    "papermill": {
     "duration": 0.018115,
     "end_time": "2022-06-04T02:48:34.622899",
     "exception": false,
     "start_time": "2022-06-04T02:48:34.604784",
     "status": "completed"
    },
    "tags": []
   },
   "outputs": [
    {
     "data": {
      "text/markdown": [
       "- Terra LUNA 2.0: How many coins are there? How to buy it in the USA.  In May, the downturn of Terraform Labs set the tone for the industry. The price of the Terra Luna coin plummeted from a high of roughly $117 in April 2022 to less than one-hundredth of a cent, causing waves to ripple throughout the crypto sector. When the two cryptocurrencies tumbled approximately three weeks ago, their... ... [| Skaityti daugiau](https://www.cryptopolitan.com/terra-luna-2-supply-and-how-to-buy-in-the-us/) "
      ],
      "text/plain": [
       "<IPython.core.display.Markdown object>"
      ]
     },
     "execution_count": 5,
     "metadata": {},
     "output_type": "execute_result"
    }
   ],
   "source": [
    "#hide_input\n",
    "#md('##### {}'.format(titleBTC)) \n",
    "md(\"- {}{} {}{} [| Skaityti daugiau]({}) \".format(xrp['title'],'. ', xrp['body'], ' ...', xrp['url']))"
   ]
  },
  {
   "cell_type": "code",
   "execution_count": 6,
   "id": "prompt-farmer",
   "metadata": {
    "execution": {
     "iopub.execute_input": "2022-06-04T02:48:34.648427Z",
     "iopub.status.busy": "2022-06-04T02:48:34.647802Z",
     "iopub.status.idle": "2022-06-04T02:48:34.651351Z",
     "shell.execute_reply": "2022-06-04T02:48:34.650728Z"
    },
    "papermill": {
     "duration": 0.018608,
     "end_time": "2022-06-04T02:48:34.651472",
     "exception": false,
     "start_time": "2022-06-04T02:48:34.632864",
     "status": "completed"
    },
    "tags": []
   },
   "outputs": [
    {
     "data": {
      "text/markdown": [
       "- Mintable Review & Beginner’s Guide 2022.  Mintable is a marketplace for NFTs that was founded in 2018 and serves two crucial functions. Firstly, it allows NFT creators to mint (also known as creating/adding NFTs to the blockchain) NFTs and list them for sale. Secondly, it gives collectors a platform to browse and buy original NFTs. There are over 3,000 NFTs on the site, with a wide range of categories for collectors to choose from. Since its launch in July, the TRX token has risen steadily with a trading volume of around $1.3 billion and a market capitalization of over $2 billion. The NFT Foundation has more than 177,000 NFTs, with a royalty rate for creators that is limited to 10% compared to Mintable’s unlimited. OpenSea, on the other hand, does not provide a gas-free minting possibility. OpenSea also has a 10% royalty limit, but it is comparable to Mintable in that it waives upfront gas expenditures for creators. Ways to invest with Mintable Mintable is a decentralized blockchain-based platform created to enable the creation and trading of NFTs. Both creators and collectors use Mintable, which only allows for ethereum blockchain minting (or the production and listing of NFTs). Instead of paying gas fees when selling a digital item on the market, Mintable enables creators to skip out. Mintable charges a 5% marketplace fee on all gas-free NFT sales. Its other two choices, however, have gas costs. Mintable collects a 10% marketplace fee on printable NFT transactions a... ... [| Skaityti daugiau](https://www.cryptoknowmics.com/news/mintable-review-beginners-guide-2022/?utm_source=rss&utm_medium=rss&utm_campaign=mintable-review-beginners-guide-2022) "
      ],
      "text/plain": [
       "<IPython.core.display.Markdown object>"
      ]
     },
     "execution_count": 6,
     "metadata": {},
     "output_type": "execute_result"
    }
   ],
   "source": [
    "#hide_input\n",
    "#md('##### {}'.format(titleBTC)) \n",
    "md(\"- {}{} {}{} [| Skaityti daugiau]({}) \".format(trx['title'],'. ', trx['body'], ' ...', trx['url']))"
   ]
  },
  {
   "cell_type": "code",
   "execution_count": 7,
   "id": "illegal-greece",
   "metadata": {
    "execution": {
     "iopub.execute_input": "2022-06-04T02:48:34.678809Z",
     "iopub.status.busy": "2022-06-04T02:48:34.678205Z",
     "iopub.status.idle": "2022-06-04T02:48:34.681191Z",
     "shell.execute_reply": "2022-06-04T02:48:34.681639Z"
    },
    "papermill": {
     "duration": 0.019832,
     "end_time": "2022-06-04T02:48:34.681772",
     "exception": false,
     "start_time": "2022-06-04T02:48:34.661940",
     "status": "completed"
    },
    "tags": []
   },
   "outputs": [
    {
     "data": {
      "text/markdown": [
       "- Buterin ups Optimism after community uproar but here’s the caveat.  Vitalik Buterin has always advocated the participation of smaller holders in governance. He recently supported Optimism’s governance proposal in his tweets despite the latest backlash on the blockchain. What is the proposal about and what was the backlash that eventually engaged the OP community? Vitalik with a thumbs up for Optimism In the tweet, Buterin [&#8230;] ... [| Skaityti daugiau](https://ambcrypto.com/buterin-ups-optimism-after-community-uproar-but-heres-the-caveat/) "
      ],
      "text/plain": [
       "<IPython.core.display.Markdown object>"
      ]
     },
     "execution_count": 7,
     "metadata": {},
     "output_type": "execute_result"
    }
   ],
   "source": [
    "#hide_input\n",
    "#md('##### {}'.format(titleBTC)) \n",
    "md(\"- {}{} {}{} [| Skaityti daugiau]({}) \".format(eth['title'],'. ', eth['body'], ' ...', eth['url']))"
   ]
  },
  {
   "cell_type": "code",
   "execution_count": 8,
   "id": "sublime-lounge",
   "metadata": {
    "execution": {
     "iopub.execute_input": "2022-06-04T02:48:34.709606Z",
     "iopub.status.busy": "2022-06-04T02:48:34.708965Z",
     "iopub.status.idle": "2022-06-04T02:48:34.712155Z",
     "shell.execute_reply": "2022-06-04T02:48:34.712619Z"
    },
    "papermill": {
     "duration": 0.020347,
     "end_time": "2022-06-04T02:48:34.712766",
     "exception": false,
     "start_time": "2022-06-04T02:48:34.692419",
     "status": "completed"
    },
    "tags": []
   },
   "outputs": [
    {
     "data": {
      "text/markdown": [
       "- InvestAnswers Host Says Cardano ($ADA) Is Decoupling From Other Cryptos as It Breaks out Ahead of Hard Fork.  Popular cryptocurrency analyst James Mullarney, host of the popular YouTube channel InvestAnswers, has said that Cardano ($ADA) is decoupling from other cryptoasset as its price breaks out ahead of the Vasil hard fork. In a video, Mullarney noted that the price of ADA “always rallies before hard forks” and as such it’s “pretty obvious that […] ... [| Skaityti daugiau](https://www.cryptoglobe.com/latest/2022/06/investanswers-host-says-cardano-ada-is-decoupling-from-other-cryptos-as-it-breaks-out-ahead-of-hard-fork/) "
      ],
      "text/plain": [
       "<IPython.core.display.Markdown object>"
      ]
     },
     "execution_count": 8,
     "metadata": {},
     "output_type": "execute_result"
    }
   ],
   "source": [
    "#hide_input\n",
    "#md('##### {}'.format(titleBTC)) \n",
    "md(\"- {}{} {}{} [| Skaityti daugiau]({}) \".format(ada['title'],'. ', ada['body'], ' ...', ada['url']))"
   ]
  },
  {
   "cell_type": "code",
   "execution_count": 9,
   "id": "specified-ordering",
   "metadata": {
    "execution": {
     "iopub.execute_input": "2022-06-04T02:48:34.742729Z",
     "iopub.status.busy": "2022-06-04T02:48:34.742123Z",
     "iopub.status.idle": "2022-06-04T02:48:34.746308Z",
     "shell.execute_reply": "2022-06-04T02:48:34.745822Z"
    },
    "papermill": {
     "duration": 0.021226,
     "end_time": "2022-06-04T02:48:34.746421",
     "exception": false,
     "start_time": "2022-06-04T02:48:34.725195",
     "status": "completed"
    },
    "tags": []
   },
   "outputs": [
    {
     "data": {
      "text/markdown": [
       "- US Markets Regulator Sues Crypto Exchange Gemini Over Alleged Violations Regarding Bitcoin (BTC) Futures Product.  The Commodities Futures Trading Commission (CTFC) is bringing charges against the Gemini crypto exchange, alleging employees made false and incomplete statements to the agency. In a new press release, the CFTC announced it has filed a complaint against the Gemini Trust Company in the State of New York in connection with the 2017 evaluation period [&#8230;]The post US Markets Regulator Sues Crypto Exchange Gemini Over Alleged Violations Regarding Bitcoin (BTC) Futures Product appeared first on The Daily Hodl. ... [| Skaityti daugiau](https://dailyhodl.com/2022/06/03/us-markets-regulator-sues-crypto-exchange-gemini-over-alleged-violations-regarding-bitcoin-btc-futures-product/) "
      ],
      "text/plain": [
       "<IPython.core.display.Markdown object>"
      ]
     },
     "execution_count": 9,
     "metadata": {},
     "output_type": "execute_result"
    }
   ],
   "source": [
    "#hide_input\n",
    "#md('##### {}'.format(titleBTC)) \n",
    "md(\"- {}{} {}{} [| Skaityti daugiau]({}) \".format(exchange['title'],'. ', exchange['body'], ' ...', exchange['url']))"
   ]
  },
  {
   "cell_type": "code",
   "execution_count": null,
   "id": "tender-livestock",
   "metadata": {
    "papermill": {
     "duration": 0.011264,
     "end_time": "2022-06-04T02:48:34.768938",
     "exception": false,
     "start_time": "2022-06-04T02:48:34.757674",
     "status": "completed"
    },
    "tags": []
   },
   "outputs": [],
   "source": []
  },
  {
   "cell_type": "code",
   "execution_count": null,
   "id": "appreciated-diamond",
   "metadata": {
    "papermill": {
     "duration": 0.01145,
     "end_time": "2022-06-04T02:48:34.791832",
     "exception": false,
     "start_time": "2022-06-04T02:48:34.780382",
     "status": "completed"
    },
    "tags": []
   },
   "outputs": [],
   "source": []
  },
  {
   "cell_type": "code",
   "execution_count": null,
   "id": "romance-sweden",
   "metadata": {
    "papermill": {
     "duration": 0.011192,
     "end_time": "2022-06-04T02:48:34.814388",
     "exception": false,
     "start_time": "2022-06-04T02:48:34.803196",
     "status": "completed"
    },
    "tags": []
   },
   "outputs": [],
   "source": []
  },
  {
   "cell_type": "code",
   "execution_count": null,
   "id": "dietary-statistics",
   "metadata": {
    "papermill": {
     "duration": 0.011176,
     "end_time": "2022-06-04T02:48:34.836860",
     "exception": false,
     "start_time": "2022-06-04T02:48:34.825684",
     "status": "completed"
    },
    "tags": []
   },
   "outputs": [],
   "source": []
  }
 ],
 "metadata": {
  "kernelspec": {
   "display_name": "Python 3",
   "language": "python",
   "name": "python3"
  },
  "language_info": {
   "codemirror_mode": {
    "name": "ipython",
    "version": 3
   },
   "file_extension": ".py",
   "mimetype": "text/x-python",
   "name": "python",
   "nbconvert_exporter": "python",
   "pygments_lexer": "ipython3",
   "version": "3.6.15"
  },
  "papermill": {
   "default_parameters": {},
   "duration": 13.479805,
   "end_time": "2022-06-04T02:48:35.368948",
   "environment_variables": {},
   "exception": null,
   "input_path": "Market-News.ipynb",
   "output_path": "Market-News.ipynb",
   "parameters": {},
   "start_time": "2022-06-04T02:48:21.889143",
   "version": "2.2.2"
  }
 },
 "nbformat": 4,
 "nbformat_minor": 5
}