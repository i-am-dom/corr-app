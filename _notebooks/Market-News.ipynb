{
 "cells": [
  {
   "cell_type": "markdown",
   "id": "short-greensboro",
   "metadata": {
    "papermill": {
     "duration": 0.012808,
     "end_time": "2022-07-01T03:29:42.231986",
     "exception": false,
     "start_time": "2022-07-01T03:29:42.219178",
     "status": "completed"
    },
    "tags": []
   },
   "source": [
    "# Kriptovaliutų naujienos"
   ]
  },
  {
   "cell_type": "code",
   "execution_count": 1,
   "id": "functioning-knowing",
   "metadata": {
    "execution": {
     "iopub.execute_input": "2022-07-01T03:29:42.260515Z",
     "iopub.status.busy": "2022-07-01T03:29:42.258841Z",
     "iopub.status.idle": "2022-07-01T03:29:43.413908Z",
     "shell.execute_reply": "2022-07-01T03:29:43.413397Z"
    },
    "papermill": {
     "duration": 1.172198,
     "end_time": "2022-07-01T03:29:43.414033",
     "exception": false,
     "start_time": "2022-07-01T03:29:42.241835",
     "status": "completed"
    },
    "tags": []
   },
   "outputs": [],
   "source": [
    "#hide_input\n",
    "import warnings\n",
    "warnings.filterwarnings('ignore')\n",
    "from scripts.read_data import read_api\n",
    "from scripts.read_data import read_news\n",
    "from scripts.read_data import read_covid\n",
    "import matplotlib.pyplot as plt \n",
    "from IPython.display import Markdown as md"
   ]
  },
  {
   "cell_type": "code",
   "execution_count": 2,
   "id": "shared-acceptance",
   "metadata": {
    "execution": {
     "iopub.execute_input": "2022-07-01T03:29:43.439635Z",
     "iopub.status.busy": "2022-07-01T03:29:43.439058Z",
     "iopub.status.idle": "2022-07-01T03:29:56.141512Z",
     "shell.execute_reply": "2022-07-01T03:29:56.140543Z"
    },
    "papermill": {
     "duration": 12.717281,
     "end_time": "2022-07-01T03:29:56.141637",
     "exception": false,
     "start_time": "2022-07-01T03:29:43.424356",
     "status": "completed"
    },
    "tags": []
   },
   "outputs": [],
   "source": [
    "#hide_input\n",
    "blockchain = read_news('blockchain') \n",
    "btc = read_news('btc') \n",
    "xrp = read_news('xrp') \n",
    "trx = read_news('trx') \n",
    "eth = read_news('eth')  \n",
    "ada = read_news('ada')\n",
    "exchange = read_news('exchange') "
   ]
  },
  {
   "cell_type": "code",
   "execution_count": 3,
   "id": "synthetic-notion",
   "metadata": {
    "execution": {
     "iopub.execute_input": "2022-07-01T03:29:56.167635Z",
     "iopub.status.busy": "2022-07-01T03:29:56.166646Z",
     "iopub.status.idle": "2022-07-01T03:29:56.169438Z",
     "shell.execute_reply": "2022-07-01T03:29:56.169853Z"
    },
    "papermill": {
     "duration": 0.018887,
     "end_time": "2022-07-01T03:29:56.169966",
     "exception": false,
     "start_time": "2022-07-01T03:29:56.151079",
     "status": "completed"
    },
    "tags": []
   },
   "outputs": [
    {
     "data": {
      "text/markdown": [
       "- Number of Bitcoin ($BTC) Millionaires Drops 76% Amid Crypto Bear Market.  Over 80,000 Bitcoin ($BTC) millionaires holdings their coins on the cryptocurrency’s blockchain have lost their millionaire status over the ongoing cryptocurrency bear market that saw the total capitalization of the space drop below $1 trillion for the first time since early 2021. According to data from BitInfoCharts, in November of last year when the price […] ... [| Skaityti daugiau](https://www.cryptoglobe.com/latest/2022/07/number-of-bitcoin-btc-millionaires-drops-76-amid-crypto-bear-market/) "
      ],
      "text/plain": [
       "<IPython.core.display.Markdown object>"
      ]
     },
     "execution_count": 3,
     "metadata": {},
     "output_type": "execute_result"
    }
   ],
   "source": [
    "#hide_input\n",
    "#md('##### {}'.format(titleBTC)) \n",
    "md(\"- {}{} {}{} [| Skaityti daugiau]({}) \".format(blockchain['title'],'. ', blockchain['body'], ' ...', blockchain['url']))"
   ]
  },
  {
   "cell_type": "code",
   "execution_count": 4,
   "id": "aging-caution",
   "metadata": {
    "execution": {
     "iopub.execute_input": "2022-07-01T03:29:56.193364Z",
     "iopub.status.busy": "2022-07-01T03:29:56.191543Z",
     "iopub.status.idle": "2022-07-01T03:29:56.195531Z",
     "shell.execute_reply": "2022-07-01T03:29:56.195948Z"
    },
    "papermill": {
     "duration": 0.016762,
     "end_time": "2022-07-01T03:29:56.196053",
     "exception": false,
     "start_time": "2022-07-01T03:29:56.179291",
     "status": "completed"
    },
    "tags": []
   },
   "outputs": [
    {
     "data": {
      "text/markdown": [
       "- TA: Bitcoin Recovers Sharply, Why BTC Could Still Struggle Above $20,500.  Bitcoin declined towards the $18,500 support zone against the US Dollar. BTC recovered sharply, but the bears are still active near the $20,500 and $20,650 levels. Bitcoin climbed higher sharply after there was a test of the $18,500 zone. The price is now trading above the $20,000 level and near the 100 hourly simple moving average. There is a major bearish trend line forming with resistance near $20,400 on the hourly chart of the BTC/USD pair (data feed from Kraken). The pair could start a fresh decline unless there is a move above the $20,500 resistance zone. Bitcoin Price Eyes Upside Break Bitcoin price started another decline below the $20,000 support zone. The price even traded below the $19,200 support zone and spiked below the $18,800 level. There was a test of the $18,600 zone and the price traded as low as $18,617. Recently, there was a sharp upward move and the price climbed above the $19,500 resistance. There was a move above the 50% Fib retracement level of the key drop from the $21,697 swing high to $18,617 low. However, the price is now facing a strong resistance near the $20,500 zone and the 100 hourly simple moving average. There is also a major bearish trend line forming with resistance near $20,400 on the hourly chart of the BTC/USD pair. The trend line is close to the 61.8% Fib retracement level of the key drop from the $21,697 swing high to $18,617 low. An immediate resistance on the upside is near the $20,... ... [| Skaityti daugiau](https://www.newsbtc.com/analysis/btc/bitcoin-recovers-sharply-20500/) "
      ],
      "text/plain": [
       "<IPython.core.display.Markdown object>"
      ]
     },
     "execution_count": 4,
     "metadata": {},
     "output_type": "execute_result"
    }
   ],
   "source": [
    "#hide_input\n",
    "#md('##### {}'.format(titleBTC)) \n",
    "md(\"- {}{} {}{} [| Skaityti daugiau]({}) \".format(btc['title'],'. ', btc['body'], ' ...', btc['url']))"
   ]
  },
  {
   "cell_type": "code",
   "execution_count": 5,
   "id": "organic-actress",
   "metadata": {
    "execution": {
     "iopub.execute_input": "2022-07-01T03:29:56.221280Z",
     "iopub.status.busy": "2022-07-01T03:29:56.220303Z",
     "iopub.status.idle": "2022-07-01T03:29:56.222992Z",
     "shell.execute_reply": "2022-07-01T03:29:56.223405Z"
    },
    "papermill": {
     "duration": 0.017698,
     "end_time": "2022-07-01T03:29:56.223510",
     "exception": false,
     "start_time": "2022-07-01T03:29:56.205812",
     "status": "completed"
    },
    "tags": []
   },
   "outputs": [
    {
     "data": {
      "text/markdown": [
       "- Ripple price analysis: XRP/USD pair set to break above the intraday highs of $0.33.  Ripple price analysis is bullish today as the coin surged from $0.30 to $0.44 in an explosive move that caught everyone off guard. The price is now trading at $0.43 and looks poised for more gains in the short term. Ripple price analysis daily chart shows that the price is currently trading just below the $0.45... ... [| Skaityti daugiau](https://www.cryptopolitan.com/ripple-price-analysis-2022-06-30/) "
      ],
      "text/plain": [
       "<IPython.core.display.Markdown object>"
      ]
     },
     "execution_count": 5,
     "metadata": {},
     "output_type": "execute_result"
    }
   ],
   "source": [
    "#hide_input\n",
    "#md('##### {}'.format(titleBTC)) \n",
    "md(\"- {}{} {}{} [| Skaityti daugiau]({}) \".format(xrp['title'],'. ', xrp['body'], ' ...', xrp['url']))"
   ]
  },
  {
   "cell_type": "code",
   "execution_count": 6,
   "id": "prompt-farmer",
   "metadata": {
    "execution": {
     "iopub.execute_input": "2022-07-01T03:29:56.247835Z",
     "iopub.status.busy": "2022-07-01T03:29:56.247258Z",
     "iopub.status.idle": "2022-07-01T03:29:56.252128Z",
     "shell.execute_reply": "2022-07-01T03:29:56.252582Z"
    },
    "papermill": {
     "duration": 0.019206,
     "end_time": "2022-07-01T03:29:56.252690",
     "exception": false,
     "start_time": "2022-07-01T03:29:56.233484",
     "status": "completed"
    },
    "tags": []
   },
   "outputs": [
    {
     "data": {
      "text/markdown": [
       "- Will Xchange Monster (MXCH) Impact The Crypto Market In The Same Way As Tron (TRX) And Binance Coin (BNB)?.  Xchange Monster (MXCH) is a revolutionary crypto-gaming platform attempting to create an ecosystem catered to gamers and publishers. Continue reading Will Xchange Monster (MXCH) Impact The Crypto Market In The Same Way As Tron (TRX) And Binance Coin (BNB)? at DailyCoin.com. ... [| Skaityti daugiau](https://dailycoin.com/will-xchange-monster-mxch-impact-the-crypto-market-in-the-same-way-as-tron-trx-and-binance-coin-bnb/) "
      ],
      "text/plain": [
       "<IPython.core.display.Markdown object>"
      ]
     },
     "execution_count": 6,
     "metadata": {},
     "output_type": "execute_result"
    }
   ],
   "source": [
    "#hide_input\n",
    "#md('##### {}'.format(titleBTC)) \n",
    "md(\"- {}{} {}{} [| Skaityti daugiau]({}) \".format(trx['title'],'. ', trx['body'], ' ...', trx['url']))"
   ]
  },
  {
   "cell_type": "code",
   "execution_count": 7,
   "id": "illegal-greece",
   "metadata": {
    "execution": {
     "iopub.execute_input": "2022-07-01T03:29:56.277915Z",
     "iopub.status.busy": "2022-07-01T03:29:56.277351Z",
     "iopub.status.idle": "2022-07-01T03:29:56.282645Z",
     "shell.execute_reply": "2022-07-01T03:29:56.282189Z"
    },
    "papermill": {
     "duration": 0.019491,
     "end_time": "2022-07-01T03:29:56.282738",
     "exception": false,
     "start_time": "2022-07-01T03:29:56.263247",
     "status": "completed"
    },
    "tags": []
   },
   "outputs": [
    {
     "data": {
      "text/markdown": [
       "- Can Ethereum continue holding its $1000 level amid major sell-off.  Disclaimer: The information presented does not constitute financial, investment, trading, or other types of advice and is solely the opinion of the writer. At the start of June, Ethereum [ETH] was trading at $1,980. The $1,750-$1,950 range was a long-term support zone for Ethereum. It was speculated that ETH might halt its nosedive in that [&#8230;] ... [| Skaityti daugiau](https://ambcrypto.com/can-ethereum-continue-holding-its-1000-level-amid-major-sell-off/) "
      ],
      "text/plain": [
       "<IPython.core.display.Markdown object>"
      ]
     },
     "execution_count": 7,
     "metadata": {},
     "output_type": "execute_result"
    }
   ],
   "source": [
    "#hide_input\n",
    "#md('##### {}'.format(titleBTC)) \n",
    "md(\"- {}{} {}{} [| Skaityti daugiau]({}) \".format(eth['title'],'. ', eth['body'], ' ...', eth['url']))"
   ]
  },
  {
   "cell_type": "code",
   "execution_count": 8,
   "id": "sublime-lounge",
   "metadata": {
    "execution": {
     "iopub.execute_input": "2022-07-01T03:29:56.309481Z",
     "iopub.status.busy": "2022-07-01T03:29:56.308921Z",
     "iopub.status.idle": "2022-07-01T03:29:56.313939Z",
     "shell.execute_reply": "2022-07-01T03:29:56.314376Z"
    },
    "papermill": {
     "duration": 0.020064,
     "end_time": "2022-07-01T03:29:56.314482",
     "exception": false,
     "start_time": "2022-07-01T03:29:56.294418",
     "status": "completed"
    },
    "tags": []
   },
   "outputs": [
    {
     "data": {
      "text/markdown": [
       "- AscendEX Lists Walken (WLKN), a leading ‘Walk-to-Earn’ game.  June 30th, 2022 – AscendEX is excited to announce the listing of Walken’s token under the trading pair: $WLKN/USDT. Trading begins at 2:00PM UTC on July 1st, 2022. &#8216;Walken&#8217; is a &#8216;Walk-to-Earn&#8217; game on Solana where players can convert their daily activity into in-game currency. Using a mobile device or wearable, gamers can easily track [&#8230;]The post AscendEX Lists Walken (WLKN), a leading ‘Walk-to-Earn’ game appeared first on Blockchain, Crypto and Stock News. ... [| Skaityti daugiau](https://thecoinrise.com/ascendex-lists-walken-wlkn-a-leading-walk-to-earn-game/) "
      ],
      "text/plain": [
       "<IPython.core.display.Markdown object>"
      ]
     },
     "execution_count": 8,
     "metadata": {},
     "output_type": "execute_result"
    }
   ],
   "source": [
    "#hide_input\n",
    "#md('##### {}'.format(titleBTC)) \n",
    "md(\"- {}{} {}{} [| Skaityti daugiau]({}) \".format(ada['title'],'. ', ada['body'], ' ...', ada['url']))"
   ]
  },
  {
   "cell_type": "code",
   "execution_count": 9,
   "id": "specified-ordering",
   "metadata": {
    "execution": {
     "iopub.execute_input": "2022-07-01T03:29:56.341762Z",
     "iopub.status.busy": "2022-07-01T03:29:56.340959Z",
     "iopub.status.idle": "2022-07-01T03:29:56.343714Z",
     "shell.execute_reply": "2022-07-01T03:29:56.344129Z"
    },
    "papermill": {
     "duration": 0.018827,
     "end_time": "2022-07-01T03:29:56.344234",
     "exception": false,
     "start_time": "2022-07-01T03:29:56.325407",
     "status": "completed"
    },
    "tags": []
   },
   "outputs": [
    {
     "data": {
      "text/markdown": [
       "- Layer by Layer Issue 37: Harmony, BNB Chain, and Polkadot.  Quick TakeIn this weekly series, we dive into some of the most interesting data and developments across the Layer 1 blockchain landscape, from DeFi and bridges to network activity and fundingThe recent exploit of the Harmony Horizon bridge has had rippling effects in the Harmony ecosystem, which now faces a steep uphill climb to recoveryBNB Chain teams continue to look for ways to strike the ideal balance between decentralization and growth, while Polkadot and Kusama parachains have begun to establish cross-chain communication channels with increasing frequency ... [| Skaityti daugiau](https://www.theblockresearch.com/layer-by-layer-issue-37-harmony-bnb-chain-and-polkadot-155282?utm_source=cryptocompare&utm_medium=rss) "
      ],
      "text/plain": [
       "<IPython.core.display.Markdown object>"
      ]
     },
     "execution_count": 9,
     "metadata": {},
     "output_type": "execute_result"
    }
   ],
   "source": [
    "#hide_input\n",
    "#md('##### {}'.format(titleBTC)) \n",
    "md(\"- {}{} {}{} [| Skaityti daugiau]({}) \".format(exchange['title'],'. ', exchange['body'], ' ...', exchange['url']))"
   ]
  },
  {
   "cell_type": "code",
   "execution_count": null,
   "id": "tender-livestock",
   "metadata": {
    "papermill": {
     "duration": 0.01134,
     "end_time": "2022-07-01T03:29:56.366853",
     "exception": false,
     "start_time": "2022-07-01T03:29:56.355513",
     "status": "completed"
    },
    "tags": []
   },
   "outputs": [],
   "source": []
  },
  {
   "cell_type": "code",
   "execution_count": null,
   "id": "appreciated-diamond",
   "metadata": {
    "papermill": {
     "duration": 0.011243,
     "end_time": "2022-07-01T03:29:56.389519",
     "exception": false,
     "start_time": "2022-07-01T03:29:56.378276",
     "status": "completed"
    },
    "tags": []
   },
   "outputs": [],
   "source": []
  },
  {
   "cell_type": "code",
   "execution_count": null,
   "id": "romance-sweden",
   "metadata": {
    "papermill": {
     "duration": 0.011151,
     "end_time": "2022-07-01T03:29:56.411991",
     "exception": false,
     "start_time": "2022-07-01T03:29:56.400840",
     "status": "completed"
    },
    "tags": []
   },
   "outputs": [],
   "source": []
  },
  {
   "cell_type": "code",
   "execution_count": null,
   "id": "dietary-statistics",
   "metadata": {
    "papermill": {
     "duration": 0.011249,
     "end_time": "2022-07-01T03:29:56.434524",
     "exception": false,
     "start_time": "2022-07-01T03:29:56.423275",
     "status": "completed"
    },
    "tags": []
   },
   "outputs": [],
   "source": []
  }
 ],
 "metadata": {
  "kernelspec": {
   "display_name": "Python 3",
   "language": "python",
   "name": "python3"
  },
  "language_info": {
   "codemirror_mode": {
    "name": "ipython",
    "version": 3
   },
   "file_extension": ".py",
   "mimetype": "text/x-python",
   "name": "python",
   "nbconvert_exporter": "python",
   "pygments_lexer": "ipython3",
   "version": "3.6.15"
  },
  "papermill": {
   "default_parameters": {},
   "duration": 15.554244,
   "end_time": "2022-07-01T03:29:56.863296",
   "environment_variables": {},
   "exception": null,
   "input_path": "Market-News.ipynb",
   "output_path": "Market-News.ipynb",
   "parameters": {},
   "start_time": "2022-07-01T03:29:41.309052",
   "version": "2.2.2"
  }
 },
 "nbformat": 4,
 "nbformat_minor": 5
}