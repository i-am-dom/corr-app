{
 "cells": [
  {
   "cell_type": "markdown",
   "id": "short-greensboro",
   "metadata": {
    "papermill": {
     "duration": 0.012705,
     "end_time": "2021-09-21T02:01:02.293478",
     "exception": false,
     "start_time": "2021-09-21T02:01:02.280773",
     "status": "completed"
    },
    "tags": []
   },
   "source": [
    "# Kriptovaliutų naujienos"
   ]
  },
  {
   "cell_type": "code",
   "execution_count": 1,
   "id": "functioning-knowing",
   "metadata": {
    "execution": {
     "iopub.execute_input": "2021-09-21T02:01:02.321984Z",
     "iopub.status.busy": "2021-09-21T02:01:02.321473Z",
     "iopub.status.idle": "2021-09-21T02:01:03.475347Z",
     "shell.execute_reply": "2021-09-21T02:01:03.474817Z"
    },
    "papermill": {
     "duration": 1.172228,
     "end_time": "2021-09-21T02:01:03.475500",
     "exception": false,
     "start_time": "2021-09-21T02:01:02.303272",
     "status": "completed"
    },
    "tags": []
   },
   "outputs": [],
   "source": [
    "#hide_input\n",
    "import warnings\n",
    "warnings.filterwarnings('ignore')\n",
    "from scripts.read_data import read_api\n",
    "from scripts.read_data import read_news\n",
    "from scripts.read_data import read_covid\n",
    "import matplotlib.pyplot as plt \n",
    "from IPython.display import Markdown as md"
   ]
  },
  {
   "cell_type": "code",
   "execution_count": 2,
   "id": "shared-acceptance",
   "metadata": {
    "execution": {
     "iopub.execute_input": "2021-09-21T02:01:03.500151Z",
     "iopub.status.busy": "2021-09-21T02:01:03.499647Z",
     "iopub.status.idle": "2021-09-21T02:01:13.784070Z",
     "shell.execute_reply": "2021-09-21T02:01:13.784557Z"
    },
    "papermill": {
     "duration": 10.299611,
     "end_time": "2021-09-21T02:01:13.784720",
     "exception": false,
     "start_time": "2021-09-21T02:01:03.485109",
     "status": "completed"
    },
    "tags": []
   },
   "outputs": [],
   "source": [
    "#hide_input\n",
    "blockchain = read_news('blockchain') \n",
    "btc = read_news('btc') \n",
    "xrp = read_news('xrp') \n",
    "trx = read_news('trx') \n",
    "eth = read_news('eth')  \n",
    "ada = read_news('ada')\n",
    "exchange = read_news('exchange') "
   ]
  },
  {
   "cell_type": "code",
   "execution_count": 3,
   "id": "synthetic-notion",
   "metadata": {
    "execution": {
     "iopub.execute_input": "2021-09-21T02:01:13.809223Z",
     "iopub.status.busy": "2021-09-21T02:01:13.808677Z",
     "iopub.status.idle": "2021-09-21T02:01:13.811416Z",
     "shell.execute_reply": "2021-09-21T02:01:13.811790Z"
    },
    "papermill": {
     "duration": 0.017403,
     "end_time": "2021-09-21T02:01:13.811907",
     "exception": false,
     "start_time": "2021-09-21T02:01:13.794504",
     "status": "completed"
    },
    "tags": []
   },
   "outputs": [
    {
     "data": {
      "text/markdown": [
       "- Splinterlands Now the Most Frequently Played Blockchain Game.  The blockchain card game has soared in popularity over the past two months, taking advantage of NFTs and their in-game cryptocurrency to retain their player base. ... [| Skaityti daugiau](https://cryptopotato.com/splinterlands-now-the-most-frequently-played-blockchain-game/) "
      ],
      "text/plain": [
       "<IPython.core.display.Markdown object>"
      ]
     },
     "execution_count": 3,
     "metadata": {},
     "output_type": "execute_result"
    }
   ],
   "source": [
    "#hide_input\n",
    "#md('##### {}'.format(titleBTC)) \n",
    "md(\"- {}{} {}{} [| Skaityti daugiau]({}) \".format(blockchain['title'],'. ', blockchain['body'], ' ...', blockchain['url']))"
   ]
  },
  {
   "cell_type": "code",
   "execution_count": 4,
   "id": "aging-caution",
   "metadata": {
    "execution": {
     "iopub.execute_input": "2021-09-21T02:01:13.834839Z",
     "iopub.status.busy": "2021-09-21T02:01:13.834313Z",
     "iopub.status.idle": "2021-09-21T02:01:13.837412Z",
     "shell.execute_reply": "2021-09-21T02:01:13.837017Z"
    },
    "papermill": {
     "duration": 0.016238,
     "end_time": "2021-09-21T02:01:13.837512",
     "exception": false,
     "start_time": "2021-09-21T02:01:13.821274",
     "status": "completed"
    },
    "tags": []
   },
   "outputs": [
    {
     "data": {
      "text/markdown": [
       "- Did Turkey’s President Say “We Are In A War Against Bitcoin”? An Investigation.  Is President Erdogan so out of touch with what’s happening around him that he declared war against Bitcoin? Or is this a case of “lost in translation” and quotes out of context? An article titled “We are in a war against bitcoin,” says Turkey’s president” has been making the rounds over at Bitcoin-Twitter, receiving both mockery and rightful criticism. However, we noticed a crucial detail: the article doesn’t contain a direct quote from Erdogan. That’s suspect. Related Reading &#124; New To Bitcoin? Learn To Trade Crypto With The NewsBTC Trading Course Armed with an iron will and Google Translate, NewsBTC explored the issue and came to unexpected conclusions. Let’s fall into the rabbit hole. “When President Erdogan fired the central bank president in March, sending the Turkish lira plummeting against the dollar, Google searches for the term “bitcoin” soared across the country.” The tighter politicians squeeze, the faster #Bitcoin succeeds.https://t.co/F9wmVfl06C &#8212; Robert Breedlove (@Breedlove22) September 20, 2021 Is It War Against Bitcoin Or War Against Cryptocurrencies? The original article cited a mainstream and generally trusted source, an article in Turkish at Bloomberght titled “Erdogan: We have a separate war against cryptocurrencies.” Reportedly, the president held a Youth Meeting Program, so his audience for this was students from all over the country. They were discussing the Digital Turkish Lira, the country’s... ... [| Skaityti daugiau](https://www.newsbtc.com/news/bitcoin/turkey-war-against-bitcoin/) "
      ],
      "text/plain": [
       "<IPython.core.display.Markdown object>"
      ]
     },
     "execution_count": 4,
     "metadata": {},
     "output_type": "execute_result"
    }
   ],
   "source": [
    "#hide_input\n",
    "#md('##### {}'.format(titleBTC)) \n",
    "md(\"- {}{} {}{} [| Skaityti daugiau]({}) \".format(btc['title'],'. ', btc['body'], ' ...', btc['url']))"
   ]
  },
  {
   "cell_type": "code",
   "execution_count": 5,
   "id": "organic-actress",
   "metadata": {
    "execution": {
     "iopub.execute_input": "2021-09-21T02:01:13.860498Z",
     "iopub.status.busy": "2021-09-21T02:01:13.860006Z",
     "iopub.status.idle": "2021-09-21T02:01:13.862849Z",
     "shell.execute_reply": "2021-09-21T02:01:13.862439Z"
    },
    "papermill": {
     "duration": 0.015867,
     "end_time": "2021-09-21T02:01:13.862944",
     "exception": false,
     "start_time": "2021-09-21T02:01:13.847077",
     "status": "completed"
    },
    "tags": []
   },
   "outputs": [
    {
     "data": {
      "text/markdown": [
       "- Crypto Markets Plunge: Markets Wrap.  Major laggards in the asset class include XRP and Solana, which fell 15% and 12%, respectively. The post Crypto Markets Plunge: Markets Wrap appeared first on Blockworks. ... [| Skaityti daugiau](https://blockworks.co/crypto-markets-plunge-markets-wrap/) "
      ],
      "text/plain": [
       "<IPython.core.display.Markdown object>"
      ]
     },
     "execution_count": 5,
     "metadata": {},
     "output_type": "execute_result"
    }
   ],
   "source": [
    "#hide_input\n",
    "#md('##### {}'.format(titleBTC)) \n",
    "md(\"- {}{} {}{} [| Skaityti daugiau]({}) \".format(xrp['title'],'. ', xrp['body'], ' ...', xrp['url']))"
   ]
  },
  {
   "cell_type": "code",
   "execution_count": 6,
   "id": "prompt-farmer",
   "metadata": {
    "execution": {
     "iopub.execute_input": "2021-09-21T02:01:13.886921Z",
     "iopub.status.busy": "2021-09-21T02:01:13.886430Z",
     "iopub.status.idle": "2021-09-21T02:01:13.889138Z",
     "shell.execute_reply": "2021-09-21T02:01:13.889557Z"
    },
    "papermill": {
     "duration": 0.016847,
     "end_time": "2021-09-21T02:01:13.889662",
     "exception": false,
     "start_time": "2021-09-21T02:01:13.872815",
     "status": "completed"
    },
    "tags": []
   },
   "outputs": [
    {
     "data": {
      "text/markdown": [
       "- Tron Exchange-Traded Product To Be Listed on Europe’s Biggest Stock Exchange.  Open blockchain platform TRON (TRX) will join mutual fund VanEck as part of an upcoming listing on the Deutsche Börse German stock exchange. The new product is an exchange-traded note (ETN) called VanEck Vectors TRON ETN (VTRX). It will debut on Europe&#8217;s largest stock venue tomorrow, with further expansion to Zurich, Paris, and Amsterdam expected. [&#8230;]The post Tron Exchange-Traded Product To Be Listed on Europe’s Biggest Stock Exchange appeared first on The Daily Hodl. ... [| Skaityti daugiau](https://dailyhodl.com/2021/09/20/tron-exchange-traded-product-to-be-listed-on-europes-biggest-stock-exchange/) "
      ],
      "text/plain": [
       "<IPython.core.display.Markdown object>"
      ]
     },
     "execution_count": 6,
     "metadata": {},
     "output_type": "execute_result"
    }
   ],
   "source": [
    "#hide_input\n",
    "#md('##### {}'.format(titleBTC)) \n",
    "md(\"- {}{} {}{} [| Skaityti daugiau]({}) \".format(trx['title'],'. ', trx['body'], ' ...', trx['url']))"
   ]
  },
  {
   "cell_type": "code",
   "execution_count": 7,
   "id": "illegal-greece",
   "metadata": {
    "execution": {
     "iopub.execute_input": "2021-09-21T02:01:13.913908Z",
     "iopub.status.busy": "2021-09-21T02:01:13.912984Z",
     "iopub.status.idle": "2021-09-21T02:01:13.916195Z",
     "shell.execute_reply": "2021-09-21T02:01:13.916639Z"
    },
    "papermill": {
     "duration": 0.016723,
     "end_time": "2021-09-21T02:01:13.916746",
     "exception": false,
     "start_time": "2021-09-21T02:01:13.900023",
     "status": "completed"
    },
    "tags": []
   },
   "outputs": [
    {
     "data": {
      "text/markdown": [
       "- Optimism Will Roll Out Single-Click Launch For Ethereum Projects.  Many layer 2 solutions are competing on being the most active in developments. Amid these scaling solutions in Optimism, and given its latest announcement, it will soon enable developers to launch DApps with just a single click of a button. Optimism provides support for all the apps on the Ethereum ecosystem. It ensures that transaction fees are lower by keeping its data on the blockchain but running computation off-chain. The team&#8217;s latest blog reveals that an upcoming upgrade will facilitate the launch of DApps on its layer. This means that every tool running on Ethereum will also run on Optimism. Latest Upgrade To Provide Support For Ethereum Protocols The disclosure by the Optimism team assures the developer&#8217;s community that the upgrade will help them to simplify the process of launching their decentralized apps. Also, this simplicity stems across features such as gas and traces. Developers targeting Geth now have the opportunity to launch without changing their codes. Related Reading &#124; New To Bitcoin? Learn To Trade Crypto With The NewsBTC Trading Course Optimism disclosed that it had overhauled the codes. As a result, it can now go beyond being compatible Ethereum Virtual Machine only to become an EVM equivalence by making its protocol efficient and lightweight. One of the steps the team took to reduce the protocol&#8217;s load was to delete its custom compiler. It also deleted over 25,000 lines of codes... ... [| Skaityti daugiau](https://www.newsbtc.com/news/ethereum/optimism-will-roll-out-single-click-launch-for-ethereum-projects/) "
      ],
      "text/plain": [
       "<IPython.core.display.Markdown object>"
      ]
     },
     "execution_count": 7,
     "metadata": {},
     "output_type": "execute_result"
    }
   ],
   "source": [
    "#hide_input\n",
    "#md('##### {}'.format(titleBTC)) \n",
    "md(\"- {}{} {}{} [| Skaityti daugiau]({}) \".format(eth['title'],'. ', eth['body'], ' ...', eth['url']))"
   ]
  },
  {
   "cell_type": "code",
   "execution_count": 8,
   "id": "sublime-lounge",
   "metadata": {
    "execution": {
     "iopub.execute_input": "2021-09-21T02:01:13.942031Z",
     "iopub.status.busy": "2021-09-21T02:01:13.941540Z",
     "iopub.status.idle": "2021-09-21T02:01:13.944389Z",
     "shell.execute_reply": "2021-09-21T02:01:13.943973Z"
    },
    "papermill": {
     "duration": 0.017171,
     "end_time": "2021-09-21T02:01:13.944482",
     "exception": false,
     "start_time": "2021-09-21T02:01:13.927311",
     "status": "completed"
    },
    "tags": []
   },
   "outputs": [
    {
     "data": {
      "text/markdown": [
       "- Cardano, TRON, Filecoin Price Analysis: 20 September.  As most major altcoins depicted bearish price action, the likes of Cardano, TRON and Filecoin also mirrored the same price patterns. Cardano was trading right below its support line of $2.20 after it declined by 12.9%. TRON inched closer to its one-week low price of $0.088 as it depreciated 11% over the last 24 hours. [&#8230;] ... [| Skaityti daugiau](https://ambcrypto.com/cardano-tron-filecoin-price-analysis-20-september/) "
      ],
      "text/plain": [
       "<IPython.core.display.Markdown object>"
      ]
     },
     "execution_count": 8,
     "metadata": {},
     "output_type": "execute_result"
    }
   ],
   "source": [
    "#hide_input\n",
    "#md('##### {}'.format(titleBTC)) \n",
    "md(\"- {}{} {}{} [| Skaityti daugiau]({}) \".format(ada['title'],'. ', ada['body'], ' ...', ada['url']))"
   ]
  },
  {
   "cell_type": "code",
   "execution_count": 9,
   "id": "specified-ordering",
   "metadata": {
    "execution": {
     "iopub.execute_input": "2021-09-21T02:01:13.970556Z",
     "iopub.status.busy": "2021-09-21T02:01:13.970067Z",
     "iopub.status.idle": "2021-09-21T02:01:13.972767Z",
     "shell.execute_reply": "2021-09-21T02:01:13.973144Z"
    },
    "papermill": {
     "duration": 0.017786,
     "end_time": "2021-09-21T02:01:13.973251",
     "exception": false,
     "start_time": "2021-09-21T02:01:13.955465",
     "status": "completed"
    },
    "tags": []
   },
   "outputs": [
    {
     "data": {
      "text/markdown": [
       "- Lending markets ‘won’t disappear’, but ‘move somewhere else’.  The last few weeks have been defining for a comprehensive crypto framework in the U.S. In a recent interview, top bosses of crypto exchange FTX spoke with Bloomberg on the impact of toughening regulations. Brett Harrison, president of FTX.US, pointed out the growing seriousness of the U.S. SEC and Commodity Futures Trading Commission for a [&#8230;] ... [| Skaityti daugiau](https://ambcrypto.com/lending-markets-wont-disappear-but-move-somewhere-else/) "
      ],
      "text/plain": [
       "<IPython.core.display.Markdown object>"
      ]
     },
     "execution_count": 9,
     "metadata": {},
     "output_type": "execute_result"
    }
   ],
   "source": [
    "#hide_input\n",
    "#md('##### {}'.format(titleBTC)) \n",
    "md(\"- {}{} {}{} [| Skaityti daugiau]({}) \".format(exchange['title'],'. ', exchange['body'], ' ...', exchange['url']))"
   ]
  },
  {
   "cell_type": "code",
   "execution_count": null,
   "id": "tender-livestock",
   "metadata": {
    "papermill": {
     "duration": 0.011181,
     "end_time": "2021-09-21T02:01:13.995597",
     "exception": false,
     "start_time": "2021-09-21T02:01:13.984416",
     "status": "completed"
    },
    "tags": []
   },
   "outputs": [],
   "source": []
  },
  {
   "cell_type": "code",
   "execution_count": null,
   "id": "appreciated-diamond",
   "metadata": {
    "papermill": {
     "duration": 0.011259,
     "end_time": "2021-09-21T02:01:14.018225",
     "exception": false,
     "start_time": "2021-09-21T02:01:14.006966",
     "status": "completed"
    },
    "tags": []
   },
   "outputs": [],
   "source": []
  },
  {
   "cell_type": "code",
   "execution_count": null,
   "id": "romance-sweden",
   "metadata": {
    "papermill": {
     "duration": 0.011203,
     "end_time": "2021-09-21T02:01:14.040645",
     "exception": false,
     "start_time": "2021-09-21T02:01:14.029442",
     "status": "completed"
    },
    "tags": []
   },
   "outputs": [],
   "source": []
  },
  {
   "cell_type": "code",
   "execution_count": null,
   "id": "dietary-statistics",
   "metadata": {
    "papermill": {
     "duration": 0.011177,
     "end_time": "2021-09-21T02:01:14.063057",
     "exception": false,
     "start_time": "2021-09-21T02:01:14.051880",
     "status": "completed"
    },
    "tags": []
   },
   "outputs": [],
   "source": []
  }
 ],
 "metadata": {
  "kernelspec": {
   "display_name": "Python 3",
   "language": "python",
   "name": "python3"
  },
  "language_info": {
   "codemirror_mode": {
    "name": "ipython",
    "version": 3
   },
   "file_extension": ".py",
   "mimetype": "text/x-python",
   "name": "python",
   "nbconvert_exporter": "python",
   "pygments_lexer": "ipython3",
   "version": "3.6.15"
  },
  "papermill": {
   "default_parameters": {},
   "duration": 13.226053,
   "end_time": "2021-09-21T02:01:14.482706",
   "environment_variables": {},
   "exception": null,
   "input_path": "Market-News.ipynb",
   "output_path": "Market-News.ipynb",
   "parameters": {},
   "start_time": "2021-09-21T02:01:01.256653",
   "version": "2.2.2"
  }
 },
 "nbformat": 4,
 "nbformat_minor": 5
}