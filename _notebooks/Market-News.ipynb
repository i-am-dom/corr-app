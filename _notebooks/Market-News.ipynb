{
 "cells": [
  {
   "cell_type": "markdown",
   "id": "short-greensboro",
   "metadata": {
    "papermill": {
     "duration": 0.01828,
     "end_time": "2022-06-18T03:02:01.241710",
     "exception": false,
     "start_time": "2022-06-18T03:02:01.223430",
     "status": "completed"
    },
    "tags": []
   },
   "source": [
    "# Kriptovaliutų naujienos"
   ]
  },
  {
   "cell_type": "code",
   "execution_count": 1,
   "id": "functioning-knowing",
   "metadata": {
    "execution": {
     "iopub.execute_input": "2022-06-18T03:02:01.274120Z",
     "iopub.status.busy": "2022-06-18T03:02:01.273387Z",
     "iopub.status.idle": "2022-06-18T03:02:02.670152Z",
     "shell.execute_reply": "2022-06-18T03:02:02.668264Z"
    },
    "papermill": {
     "duration": 1.417959,
     "end_time": "2022-06-18T03:02:02.670411",
     "exception": false,
     "start_time": "2022-06-18T03:02:01.252452",
     "status": "completed"
    },
    "tags": []
   },
   "outputs": [],
   "source": [
    "#hide_input\n",
    "import warnings\n",
    "warnings.filterwarnings('ignore')\n",
    "from scripts.read_data import read_api\n",
    "from scripts.read_data import read_news\n",
    "from scripts.read_data import read_covid\n",
    "import matplotlib.pyplot as plt \n",
    "from IPython.display import Markdown as md"
   ]
  },
  {
   "cell_type": "code",
   "execution_count": 2,
   "id": "shared-acceptance",
   "metadata": {
    "execution": {
     "iopub.execute_input": "2022-06-18T03:02:02.700380Z",
     "iopub.status.busy": "2022-06-18T03:02:02.699687Z",
     "iopub.status.idle": "2022-06-18T03:02:15.046125Z",
     "shell.execute_reply": "2022-06-18T03:02:15.045548Z"
    },
    "papermill": {
     "duration": 12.364493,
     "end_time": "2022-06-18T03:02:15.046263",
     "exception": false,
     "start_time": "2022-06-18T03:02:02.681770",
     "status": "completed"
    },
    "tags": []
   },
   "outputs": [],
   "source": [
    "#hide_input\n",
    "blockchain = read_news('blockchain') \n",
    "btc = read_news('btc') \n",
    "xrp = read_news('xrp') \n",
    "trx = read_news('trx') \n",
    "eth = read_news('eth')  \n",
    "ada = read_news('ada')\n",
    "exchange = read_news('exchange') "
   ]
  },
  {
   "cell_type": "code",
   "execution_count": 3,
   "id": "synthetic-notion",
   "metadata": {
    "execution": {
     "iopub.execute_input": "2022-06-18T03:02:15.075528Z",
     "iopub.status.busy": "2022-06-18T03:02:15.072762Z",
     "iopub.status.idle": "2022-06-18T03:02:15.079347Z",
     "shell.execute_reply": "2022-06-18T03:02:15.078672Z"
    },
    "papermill": {
     "duration": 0.022154,
     "end_time": "2022-06-18T03:02:15.079472",
     "exception": false,
     "start_time": "2022-06-18T03:02:15.057318",
     "status": "completed"
    },
    "tags": []
   },
   "outputs": [
    {
     "data": {
      "text/markdown": [
       "- Top Global Universities with Blockchain and Cryptocurrency Departments.  Blockchain technology and cryptocurrency have been amongst the hottest topics in the technology space in recent times. This is due to the number of opportunities that they offer. According to LinkedIn studies, blockchain jobs have grown by over 98% in 2022. Cryptocurrency-related jobs have grown over 395% within the same time. Studies by Indeed.com show that cryptocurrency and blockchain jobs saw a rise of 118% between September 2020 and July 2021. This shows that there is a need to train the number the individuals that will be occupying those positions. This is one of the reasons why some top universities around the world started offering courses on blockchain technology and cryptocurrency. Therefore, some of the top global universities have put in place blockchain and cryptocurrency departments. Let’s take a look at some of these universities. University of Oxford The Oxford University was one of the first universities to have established blockchain and cryptocurrency departments to tap into the potential of this evolving technology. University of Oxford Blockchain Center was established in 2018. It is headed by renowned academician, Professor Bill Roscue. Prof. Bill’s blockchain research group has been able to provide the solution to challenges associated with threats encountered while using quantum computers in handling blockchain activities. The research center was established to provide solutions to the needs of business... ... [| Skaityti daugiau](https://www.cryptoknowmics.com/news/universities-with-blockchain-and-cryptocurrency-departments/?utm_source=rss&utm_medium=rss&utm_campaign=universities-with-blockchain-and-cryptocurrency-departments) "
      ],
      "text/plain": [
       "<IPython.core.display.Markdown object>"
      ]
     },
     "execution_count": 3,
     "metadata": {},
     "output_type": "execute_result"
    }
   ],
   "source": [
    "#hide_input\n",
    "#md('##### {}'.format(titleBTC)) \n",
    "md(\"- {}{} {}{} [| Skaityti daugiau]({}) \".format(blockchain['title'],'. ', blockchain['body'], ' ...', blockchain['url']))"
   ]
  },
  {
   "cell_type": "code",
   "execution_count": 4,
   "id": "aging-caution",
   "metadata": {
    "execution": {
     "iopub.execute_input": "2022-06-18T03:02:15.111240Z",
     "iopub.status.busy": "2022-06-18T03:02:15.110522Z",
     "iopub.status.idle": "2022-06-18T03:02:15.113596Z",
     "shell.execute_reply": "2022-06-18T03:02:15.114116Z"
    },
    "papermill": {
     "duration": 0.023834,
     "end_time": "2022-06-18T03:02:15.114256",
     "exception": false,
     "start_time": "2022-06-18T03:02:15.090422",
     "status": "completed"
    },
    "tags": []
   },
   "outputs": [
    {
     "data": {
      "text/markdown": [
       "- Bitcoin, Ethereum, VeChain, and Helium Daily Price Analyses – 17 June Roundup.  There has been little change in the performance of the global crypto market. The changes in the value of Bitcoin and other coins show that the market bearishness has continued unaffected. The changes mean that the global market cap value might lower further. It is yet to be seen what will be the next turn... ... [| Skaityti daugiau](https://www.cryptopolitan.com/bitcoin-ethereum-vechain-and-helium-daily-price-analyses-17-june-roundup/) "
      ],
      "text/plain": [
       "<IPython.core.display.Markdown object>"
      ]
     },
     "execution_count": 4,
     "metadata": {},
     "output_type": "execute_result"
    }
   ],
   "source": [
    "#hide_input\n",
    "#md('##### {}'.format(titleBTC)) \n",
    "md(\"- {}{} {}{} [| Skaityti daugiau]({}) \".format(btc['title'],'. ', btc['body'], ' ...', btc['url']))"
   ]
  },
  {
   "cell_type": "code",
   "execution_count": 5,
   "id": "organic-actress",
   "metadata": {
    "execution": {
     "iopub.execute_input": "2022-06-18T03:02:15.141983Z",
     "iopub.status.busy": "2022-06-18T03:02:15.140291Z",
     "iopub.status.idle": "2022-06-18T03:02:15.145979Z",
     "shell.execute_reply": "2022-06-18T03:02:15.145193Z"
    },
    "papermill": {
     "duration": 0.021051,
     "end_time": "2022-06-18T03:02:15.146099",
     "exception": false,
     "start_time": "2022-06-18T03:02:15.125048",
     "status": "completed"
    },
    "tags": []
   },
   "outputs": [
    {
     "data": {
      "text/markdown": [
       "- Ripple price analysis: XRP rolls down towards the $0.300 range as bears take over after a bullish start.  The Ripple price analysis reveals the price function is oscillating in the $0.310 to 0.333 range and is unable to break above the resistance present at the $0.342 mark. Bears had already rejected upside at $0.336 when bulls tried to overcome the said resistance during the current trading session, and as a consequence, the price... ... [| Skaityti daugiau](https://www.cryptopolitan.com/ripple-price-analysis-2022-06-17/) "
      ],
      "text/plain": [
       "<IPython.core.display.Markdown object>"
      ]
     },
     "execution_count": 5,
     "metadata": {},
     "output_type": "execute_result"
    }
   ],
   "source": [
    "#hide_input\n",
    "#md('##### {}'.format(titleBTC)) \n",
    "md(\"- {}{} {}{} [| Skaityti daugiau]({}) \".format(xrp['title'],'. ', xrp['body'], ' ...', xrp['url']))"
   ]
  },
  {
   "cell_type": "code",
   "execution_count": 6,
   "id": "prompt-farmer",
   "metadata": {
    "execution": {
     "iopub.execute_input": "2022-06-18T03:02:15.178956Z",
     "iopub.status.busy": "2022-06-18T03:02:15.178243Z",
     "iopub.status.idle": "2022-06-18T03:02:15.182043Z",
     "shell.execute_reply": "2022-06-18T03:02:15.181497Z"
    },
    "papermill": {
     "duration": 0.024452,
     "end_time": "2022-06-18T03:02:15.182166",
     "exception": false,
     "start_time": "2022-06-18T03:02:15.157714",
     "status": "completed"
    },
    "tags": []
   },
   "outputs": [
    {
     "data": {
      "text/markdown": [
       "- How Tron [TRX] is managing to keep its boat afloat amid looming depegging fears.  We’re entering the fifth day of the Ton&#8217;s DAO crisis. While Justin Sun and his team have been trying to peg back USDD to $1, TRX itself has dropped by double digits during the course of the week despite some bullishness recently. Unfortunate! The USDD de-pegged from the US dollar at the start of the [&#8230;] ... [| Skaityti daugiau](https://ambcrypto.com/how-tron-trx-is-managing-to-keep-its-boat-afloat-amid-looming-depegging-fears/) "
      ],
      "text/plain": [
       "<IPython.core.display.Markdown object>"
      ]
     },
     "execution_count": 6,
     "metadata": {},
     "output_type": "execute_result"
    }
   ],
   "source": [
    "#hide_input\n",
    "#md('##### {}'.format(titleBTC)) \n",
    "md(\"- {}{} {}{} [| Skaityti daugiau]({}) \".format(trx['title'],'. ', trx['body'], ' ...', trx['url']))"
   ]
  },
  {
   "cell_type": "code",
   "execution_count": 7,
   "id": "illegal-greece",
   "metadata": {
    "execution": {
     "iopub.execute_input": "2022-06-18T03:02:15.211952Z",
     "iopub.status.busy": "2022-06-18T03:02:15.211281Z",
     "iopub.status.idle": "2022-06-18T03:02:15.216839Z",
     "shell.execute_reply": "2022-06-18T03:02:15.216288Z"
    },
    "papermill": {
     "duration": 0.023196,
     "end_time": "2022-06-18T03:02:15.216961",
     "exception": false,
     "start_time": "2022-06-18T03:02:15.193765",
     "status": "completed"
    },
    "tags": []
   },
   "outputs": [
    {
     "data": {
      "text/markdown": [
       "- Bitcoin, Ethereum, VeChain, and Helium Daily Price Analyses – 17 June Roundup.  There has been little change in the performance of the global crypto market. The changes in the value of Bitcoin and other coins show that the market bearishness has continued unaffected. The changes mean that the global market cap value might lower further. It is yet to be seen what will be the next turn... ... [| Skaityti daugiau](https://www.cryptopolitan.com/bitcoin-ethereum-vechain-and-helium-daily-price-analyses-17-june-roundup/) "
      ],
      "text/plain": [
       "<IPython.core.display.Markdown object>"
      ]
     },
     "execution_count": 7,
     "metadata": {},
     "output_type": "execute_result"
    }
   ],
   "source": [
    "#hide_input\n",
    "#md('##### {}'.format(titleBTC)) \n",
    "md(\"- {}{} {}{} [| Skaityti daugiau]({}) \".format(eth['title'],'. ', eth['body'], ' ...', eth['url']))"
   ]
  },
  {
   "cell_type": "code",
   "execution_count": 8,
   "id": "sublime-lounge",
   "metadata": {
    "execution": {
     "iopub.execute_input": "2022-06-18T03:02:15.247292Z",
     "iopub.status.busy": "2022-06-18T03:02:15.246289Z",
     "iopub.status.idle": "2022-06-18T03:02:15.251229Z",
     "shell.execute_reply": "2022-06-18T03:02:15.250669Z"
    },
    "papermill": {
     "duration": 0.021136,
     "end_time": "2022-06-18T03:02:15.251352",
     "exception": false,
     "start_time": "2022-06-18T03:02:15.230216",
     "status": "completed"
    },
    "tags": []
   },
   "outputs": [
    {
     "data": {
      "text/markdown": [
       "- Value Locked in Defi Slips to $74 Billion, Top Smart Contract Tokens Down Over 70% This Year.  Decentralized finance (defi) has been hit hard by the recent crypto market rout as the total value locked (TVL) across 118 different blockchains has slipped below the $100 billion mark to today&#x2019;s $74.27 billion. The TVL in defi today is down more than 70% from its December 2, 2021, all-time high (ATH) at $253.91 billion. [&#8230;] ... [| Skaityti daugiau](https://news.bitcoin.com/value-locked-in-defi-slips-to-74-billion-top-smart-contract-tokens-down-over-70-this-year/) "
      ],
      "text/plain": [
       "<IPython.core.display.Markdown object>"
      ]
     },
     "execution_count": 8,
     "metadata": {},
     "output_type": "execute_result"
    }
   ],
   "source": [
    "#hide_input\n",
    "#md('##### {}'.format(titleBTC)) \n",
    "md(\"- {}{} {}{} [| Skaityti daugiau]({}) \".format(ada['title'],'. ', ada['body'], ' ...', ada['url']))"
   ]
  },
  {
   "cell_type": "code",
   "execution_count": 9,
   "id": "specified-ordering",
   "metadata": {
    "execution": {
     "iopub.execute_input": "2022-06-18T03:02:15.282168Z",
     "iopub.status.busy": "2022-06-18T03:02:15.281435Z",
     "iopub.status.idle": "2022-06-18T03:02:15.285065Z",
     "shell.execute_reply": "2022-06-18T03:02:15.285595Z"
    },
    "papermill": {
     "duration": 0.021888,
     "end_time": "2022-06-18T03:02:15.285738",
     "exception": false,
     "start_time": "2022-06-18T03:02:15.263850",
     "status": "completed"
    },
    "tags": []
   },
   "outputs": [
    {
     "data": {
      "text/markdown": [
       "- SEC, State Regulators Probe Crypto Lender Celsius Over Accounts Freeze.  The U.S. Securities and Exchange Commission (SEC) and several state regulators are reportedly investigating the decision by crypto lender Celsius Network to freeze withdrawals. U.S. Securities Regulators Investigate Celsius&#x2019; Withdrawal Freeze The U.S. SEC and securities regulators in Alabama, Kentucky, New Jersey, Texas, and Washington are investigating the decision by crypto lender Celsius Network to [&#8230;] ... [| Skaityti daugiau](https://news.bitcoin.com/sec-state-regulators-probe-crypto-lender-celsius-over-accounts-freeze/) "
      ],
      "text/plain": [
       "<IPython.core.display.Markdown object>"
      ]
     },
     "execution_count": 9,
     "metadata": {},
     "output_type": "execute_result"
    }
   ],
   "source": [
    "#hide_input\n",
    "#md('##### {}'.format(titleBTC)) \n",
    "md(\"- {}{} {}{} [| Skaityti daugiau]({}) \".format(exchange['title'],'. ', exchange['body'], ' ...', exchange['url']))"
   ]
  },
  {
   "cell_type": "code",
   "execution_count": null,
   "id": "tender-livestock",
   "metadata": {
    "papermill": {
     "duration": 0.012789,
     "end_time": "2022-06-18T03:02:15.311228",
     "exception": false,
     "start_time": "2022-06-18T03:02:15.298439",
     "status": "completed"
    },
    "tags": []
   },
   "outputs": [],
   "source": []
  },
  {
   "cell_type": "code",
   "execution_count": null,
   "id": "appreciated-diamond",
   "metadata": {
    "papermill": {
     "duration": 0.012721,
     "end_time": "2022-06-18T03:02:15.336628",
     "exception": false,
     "start_time": "2022-06-18T03:02:15.323907",
     "status": "completed"
    },
    "tags": []
   },
   "outputs": [],
   "source": []
  },
  {
   "cell_type": "code",
   "execution_count": null,
   "id": "romance-sweden",
   "metadata": {
    "papermill": {
     "duration": 0.013623,
     "end_time": "2022-06-18T03:02:15.362961",
     "exception": false,
     "start_time": "2022-06-18T03:02:15.349338",
     "status": "completed"
    },
    "tags": []
   },
   "outputs": [],
   "source": []
  },
  {
   "cell_type": "code",
   "execution_count": null,
   "id": "dietary-statistics",
   "metadata": {
    "papermill": {
     "duration": 0.012609,
     "end_time": "2022-06-18T03:02:15.388482",
     "exception": false,
     "start_time": "2022-06-18T03:02:15.375873",
     "status": "completed"
    },
    "tags": []
   },
   "outputs": [],
   "source": []
  }
 ],
 "metadata": {
  "kernelspec": {
   "display_name": "Python 3",
   "language": "python",
   "name": "python3"
  },
  "language_info": {
   "codemirror_mode": {
    "name": "ipython",
    "version": 3
   },
   "file_extension": ".py",
   "mimetype": "text/x-python",
   "name": "python",
   "nbconvert_exporter": "python",
   "pygments_lexer": "ipython3",
   "version": "3.6.15"
  },
  "papermill": {
   "default_parameters": {},
   "duration": 15.981905,
   "end_time": "2022-06-18T03:02:15.923630",
   "environment_variables": {},
   "exception": null,
   "input_path": "Market-News.ipynb",
   "output_path": "Market-News.ipynb",
   "parameters": {},
   "start_time": "2022-06-18T03:01:59.941725",
   "version": "2.2.2"
  }
 },
 "nbformat": 4,
 "nbformat_minor": 5
}