{
 "cells": [
  {
   "cell_type": "markdown",
   "id": "short-greensboro",
   "metadata": {
    "papermill": {
     "duration": 0.016043,
     "end_time": "2021-11-02T02:03:45.256641",
     "exception": false,
     "start_time": "2021-11-02T02:03:45.240598",
     "status": "completed"
    },
    "tags": []
   },
   "source": [
    "# Kriptovaliutų naujienos"
   ]
  },
  {
   "cell_type": "code",
   "execution_count": 1,
   "id": "functioning-knowing",
   "metadata": {
    "execution": {
     "iopub.execute_input": "2021-11-02T02:03:45.294872Z",
     "iopub.status.busy": "2021-11-02T02:03:45.294140Z",
     "iopub.status.idle": "2021-11-02T02:03:46.812496Z",
     "shell.execute_reply": "2021-11-02T02:03:46.811934Z"
    },
    "papermill": {
     "duration": 1.542738,
     "end_time": "2021-11-02T02:03:46.812655",
     "exception": false,
     "start_time": "2021-11-02T02:03:45.269917",
     "status": "completed"
    },
    "tags": []
   },
   "outputs": [],
   "source": [
    "#hide_input\n",
    "import warnings\n",
    "warnings.filterwarnings('ignore')\n",
    "from scripts.read_data import read_api\n",
    "from scripts.read_data import read_news\n",
    "from scripts.read_data import read_covid\n",
    "import matplotlib.pyplot as plt \n",
    "from IPython.display import Markdown as md"
   ]
  },
  {
   "cell_type": "code",
   "execution_count": 2,
   "id": "shared-acceptance",
   "metadata": {
    "execution": {
     "iopub.execute_input": "2021-11-02T02:03:46.847259Z",
     "iopub.status.busy": "2021-11-02T02:03:46.846029Z",
     "iopub.status.idle": "2021-11-02T02:03:54.834170Z",
     "shell.execute_reply": "2021-11-02T02:03:54.833476Z"
    },
    "papermill": {
     "duration": 8.008568,
     "end_time": "2021-11-02T02:03:54.834319",
     "exception": false,
     "start_time": "2021-11-02T02:03:46.825751",
     "status": "completed"
    },
    "tags": []
   },
   "outputs": [],
   "source": [
    "#hide_input\n",
    "blockchain = read_news('blockchain') \n",
    "btc = read_news('btc') \n",
    "xrp = read_news('xrp') \n",
    "trx = read_news('trx') \n",
    "eth = read_news('eth')  \n",
    "ada = read_news('ada')\n",
    "exchange = read_news('exchange') "
   ]
  },
  {
   "cell_type": "code",
   "execution_count": 3,
   "id": "synthetic-notion",
   "metadata": {
    "execution": {
     "iopub.execute_input": "2021-11-02T02:03:54.864141Z",
     "iopub.status.busy": "2021-11-02T02:03:54.863487Z",
     "iopub.status.idle": "2021-11-02T02:03:54.870898Z",
     "shell.execute_reply": "2021-11-02T02:03:54.870219Z"
    },
    "papermill": {
     "duration": 0.02427,
     "end_time": "2021-11-02T02:03:54.871046",
     "exception": false,
     "start_time": "2021-11-02T02:03:54.846776",
     "status": "completed"
    },
    "tags": []
   },
   "outputs": [
    {
     "data": {
      "text/markdown": [
       "- Cardano Founder Says Hydra Is A ‘Necessity’ For Growing Traffic.  Cardano has been at the forefront of growth when it comes to smart contracts capability. Ever since smart contracts debuted on the blockchain, high traffic has been anticipated for the network. Smart contracts on Cardano had been in the works for quite a while and were one of the most anticipated upgrades in the space. Now that this is a reality, the developer has had to move on to building further capabilities to accommodate the anticipated traffic increase. Hydra was built to make room for increased traffic on the network. A Layer 2 solution like Hydra provides the much-needed scalability to maintain high throughputs for the applications on the blockchain. Hydra will also help to regulate fee rates on the blockchain. Thereby providing acceptable fee structures for the users. This makes it a very useful solution and Cardano founder Charles Hoskinson has reiterated the importance of the solution to the network. Hoskinson Says Hydra Is Vital For Cardano Charles Hoskinson organized an AMA (Ask Me Anything) session on YouTube where members of the community were able to send in questions they would like answered. It was during one of these questions that the importance of Hydra was emphasized by the founder. Related Reading &#124; New Ethereum-to-Cardano Bridge Will Provide NFT Creators Eco-friendly Options By Hoskinson’s own admission, an incredible amount of work was being put into the Layer 2 solution. The capabilities that Hyd... ... [| Skaityti daugiau](https://www.newsbtc.com/news/cardano/hydra-is-necessity-for-cardano/) "
      ],
      "text/plain": [
       "<IPython.core.display.Markdown object>"
      ]
     },
     "execution_count": 3,
     "metadata": {},
     "output_type": "execute_result"
    }
   ],
   "source": [
    "#hide_input\n",
    "#md('##### {}'.format(titleBTC)) \n",
    "md(\"- {}{} {}{} [| Skaityti daugiau]({}) \".format(blockchain['title'],'. ', blockchain['body'], ' ...', blockchain['url']))"
   ]
  },
  {
   "cell_type": "code",
   "execution_count": 4,
   "id": "aging-caution",
   "metadata": {
    "execution": {
     "iopub.execute_input": "2021-11-02T02:03:54.901092Z",
     "iopub.status.busy": "2021-11-02T02:03:54.898378Z",
     "iopub.status.idle": "2021-11-02T02:03:54.904295Z",
     "shell.execute_reply": "2021-11-02T02:03:54.904982Z"
    },
    "papermill": {
     "duration": 0.021599,
     "end_time": "2021-11-02T02:03:54.905165",
     "exception": false,
     "start_time": "2021-11-02T02:03:54.883566",
     "status": "completed"
    },
    "tags": []
   },
   "outputs": [
    {
     "data": {
      "text/markdown": [
       "- The other side: A Bitcoin trader’s unflattering views on cryptocurrencies.  This week marked the 13th anniversary of what had sown the seeds of the crypto revolution that the world is currently witnessing, the release of the Bitcoin whitepaper by the pseudonymous Satoshi Nakamoto. It was released on October 31st, 2008, in the aftermath of the economic catastrophe that had overtaken the world the previous year. [&#8230;] ... [| Skaityti daugiau](https://ambcrypto.com/the-other-side-a-bitcoin-traders-unflattering-views-on-cryptocurrencies/) "
      ],
      "text/plain": [
       "<IPython.core.display.Markdown object>"
      ]
     },
     "execution_count": 4,
     "metadata": {},
     "output_type": "execute_result"
    }
   ],
   "source": [
    "#hide_input\n",
    "#md('##### {}'.format(titleBTC)) \n",
    "md(\"- {}{} {}{} [| Skaityti daugiau]({}) \".format(btc['title'],'. ', btc['body'], ' ...', btc['url']))"
   ]
  },
  {
   "cell_type": "code",
   "execution_count": 5,
   "id": "organic-actress",
   "metadata": {
    "execution": {
     "iopub.execute_input": "2021-11-02T02:03:54.937238Z",
     "iopub.status.busy": "2021-11-02T02:03:54.936493Z",
     "iopub.status.idle": "2021-11-02T02:03:54.940052Z",
     "shell.execute_reply": "2021-11-02T02:03:54.939505Z"
    },
    "papermill": {
     "duration": 0.022293,
     "end_time": "2021-11-02T02:03:54.940187",
     "exception": false,
     "start_time": "2021-11-02T02:03:54.917894",
     "status": "completed"
    },
    "tags": []
   },
   "outputs": [
    {
     "data": {
      "text/markdown": [
       "- Price analysis 11/1: BTC, ETH, BNB, ADA, SOL, XRP, DOT, SHIB, DOGE, LUNA.  Bitcoin and Ether closed October on a strong note, increasing the possibility that the rally will pick up pace in November. ... [| Skaityti daugiau](https://cointelegraph.com/news/price-analysis-11-1-btc-eth-bnb-ada-sol-xrp-dot-shib-doge-luna) "
      ],
      "text/plain": [
       "<IPython.core.display.Markdown object>"
      ]
     },
     "execution_count": 5,
     "metadata": {},
     "output_type": "execute_result"
    }
   ],
   "source": [
    "#hide_input\n",
    "#md('##### {}'.format(titleBTC)) \n",
    "md(\"- {}{} {}{} [| Skaityti daugiau]({}) \".format(xrp['title'],'. ', xrp['body'], ' ...', xrp['url']))"
   ]
  },
  {
   "cell_type": "code",
   "execution_count": 6,
   "id": "prompt-farmer",
   "metadata": {
    "execution": {
     "iopub.execute_input": "2021-11-02T02:03:54.974199Z",
     "iopub.status.busy": "2021-11-02T02:03:54.973499Z",
     "iopub.status.idle": "2021-11-02T02:03:54.977550Z",
     "shell.execute_reply": "2021-11-02T02:03:54.976795Z"
    },
    "papermill": {
     "duration": 0.023726,
     "end_time": "2021-11-02T02:03:54.977728",
     "exception": false,
     "start_time": "2021-11-02T02:03:54.954002",
     "status": "completed"
    },
    "tags": []
   },
   "outputs": [
    {
     "data": {
      "text/markdown": [
       "- BitTorrent & Tron Experience A Sudden Gush Of Volume, Will BTT And TRX Price Rise?.  The post BitTorrent &amp; Tron Experience A Sudden Gush Of Volume, Will BTT And TRX Price Rise? appeared first on Coinpedia - Fintech &amp; Cryptocurreny News Media| Crypto GuideMany blockchains are emerging in the crypto space, BitTorrent Chain recently went live to mark its existence among flourishing blockchains. In no time, BTT received a huge influx which uplifted the price by nearly 15%. However, the asset has experienced a slight dump, yet managed to sustain above crucial levels. Hence the probability of a &#8230; ... [| Skaityti daugiau](https://coinpedia.org/price-analysis/bittorrent-tron-experience-volume-influx-will-btt-trx-price-rise/) "
      ],
      "text/plain": [
       "<IPython.core.display.Markdown object>"
      ]
     },
     "execution_count": 6,
     "metadata": {},
     "output_type": "execute_result"
    }
   ],
   "source": [
    "#hide_input\n",
    "#md('##### {}'.format(titleBTC)) \n",
    "md(\"- {}{} {}{} [| Skaityti daugiau]({}) \".format(trx['title'],'. ', trx['body'], ' ...', trx['url']))"
   ]
  },
  {
   "cell_type": "code",
   "execution_count": 7,
   "id": "illegal-greece",
   "metadata": {
    "execution": {
     "iopub.execute_input": "2021-11-02T02:03:55.012321Z",
     "iopub.status.busy": "2021-11-02T02:03:55.011645Z",
     "iopub.status.idle": "2021-11-02T02:03:55.016889Z",
     "shell.execute_reply": "2021-11-02T02:03:55.016330Z"
    },
    "papermill": {
     "duration": 0.025086,
     "end_time": "2021-11-02T02:03:55.017046",
     "exception": false,
     "start_time": "2021-11-02T02:03:54.991960",
     "status": "completed"
    },
    "tags": []
   },
   "outputs": [
    {
     "data": {
      "text/markdown": [
       "- Forget Technical Analysis, On-Chain Metrics Suggest Bitcoin Upside.  On-chain metrics taken from crypto blockchains provide adoption measurements and unique price signals related to discernible user motivations.Active address counts on the Ethereum platform, which has been correlated to positive price movement, show a significant recent uptick.Confirmed Bitcoin transactions and payments have recovered since the July lull induced by the China trading and mining crackdown.The current on-exchange BTC count is at the lowest point in the past twelve months and falling. This points to price strength and participants maintaining a HODL stance.Bitcoin's adjusted MVRV metric is sitting right at the border between an accumulate recommendation and a hold recommendation. ... [| Skaityti daugiau](https://seekingalpha.com/article/4464248-on-chain-metrics-suggest-bitcoin-upside?utm_source=cryptocompare.com&utm_medium=referral) "
      ],
      "text/plain": [
       "<IPython.core.display.Markdown object>"
      ]
     },
     "execution_count": 7,
     "metadata": {},
     "output_type": "execute_result"
    }
   ],
   "source": [
    "#hide_input\n",
    "#md('##### {}'.format(titleBTC)) \n",
    "md(\"- {}{} {}{} [| Skaityti daugiau]({}) \".format(eth['title'],'. ', eth['body'], ' ...', eth['url']))"
   ]
  },
  {
   "cell_type": "code",
   "execution_count": 8,
   "id": "sublime-lounge",
   "metadata": {
    "execution": {
     "iopub.execute_input": "2021-11-02T02:03:55.052238Z",
     "iopub.status.busy": "2021-11-02T02:03:55.051475Z",
     "iopub.status.idle": "2021-11-02T02:03:55.054520Z",
     "shell.execute_reply": "2021-11-02T02:03:55.055176Z"
    },
    "papermill": {
     "duration": 0.024556,
     "end_time": "2021-11-02T02:03:55.055343",
     "exception": false,
     "start_time": "2021-11-02T02:03:55.030787",
     "status": "completed"
    },
    "tags": []
   },
   "outputs": [
    {
     "data": {
      "text/markdown": [
       "- Cardano Founder Says Hydra Is A ‘Necessity’ For Growing Traffic.  Cardano has been at the forefront of growth when it comes to smart contracts capability. Ever since smart contracts debuted on the blockchain, high traffic has been anticipated for the network. Smart contracts on Cardano had been in the works for quite a while and were one of the most anticipated upgrades in the space. Now that this is a reality, the developer has had to move on to building further capabilities to accommodate the anticipated traffic increase. Hydra was built to make room for increased traffic on the network. A Layer 2 solution like Hydra provides the much-needed scalability to maintain high throughputs for the applications on the blockchain. Hydra will also help to regulate fee rates on the blockchain. Thereby providing acceptable fee structures for the users. This makes it a very useful solution and Cardano founder Charles Hoskinson has reiterated the importance of the solution to the network. Hoskinson Says Hydra Is Vital For Cardano Charles Hoskinson organized an AMA (Ask Me Anything) session on YouTube where members of the community were able to send in questions they would like answered. It was during one of these questions that the importance of Hydra was emphasized by the founder. Related Reading &#124; New Ethereum-to-Cardano Bridge Will Provide NFT Creators Eco-friendly Options By Hoskinson’s own admission, an incredible amount of work was being put into the Layer 2 solution. The capabilities that Hyd... ... [| Skaityti daugiau](https://www.newsbtc.com/news/cardano/hydra-is-necessity-for-cardano/) "
      ],
      "text/plain": [
       "<IPython.core.display.Markdown object>"
      ]
     },
     "execution_count": 8,
     "metadata": {},
     "output_type": "execute_result"
    }
   ],
   "source": [
    "#hide_input\n",
    "#md('##### {}'.format(titleBTC)) \n",
    "md(\"- {}{} {}{} [| Skaityti daugiau]({}) \".format(ada['title'],'. ', ada['body'], ' ...', ada['url']))"
   ]
  },
  {
   "cell_type": "code",
   "execution_count": 9,
   "id": "specified-ordering",
   "metadata": {
    "execution": {
     "iopub.execute_input": "2021-11-02T02:03:55.092090Z",
     "iopub.status.busy": "2021-11-02T02:03:55.091405Z",
     "iopub.status.idle": "2021-11-02T02:03:55.095509Z",
     "shell.execute_reply": "2021-11-02T02:03:55.094423Z"
    },
    "papermill": {
     "duration": 0.02502,
     "end_time": "2021-11-02T02:03:55.095652",
     "exception": false,
     "start_time": "2021-11-02T02:03:55.070632",
     "status": "completed"
    },
    "tags": []
   },
   "outputs": [
    {
     "data": {
      "text/markdown": [
       "- Crypto Exchange Kraken to List Shiba Inu Tomorrow — SHIB Investors Expect Price to Pump.  Cryptocurrency exchange Kraken has indicated that the shiba inu (SHIB) cryptocurrency will be listed on its platform on Tuesday. The dogecoin rival has gained much popularity recently, rising 97% in the past seven days and 825.5% in the last 30 days. Kraken Indicates Shiba Inu Will Be Listed on Its Platform Tuesday Cryptocurrency exchange Kraken [&#8230;] ... [| Skaityti daugiau](https://news.bitcoin.com/crypto-exchange-kraken-list-shiba-inu-tomorrow-shib-investors-expect-price-to-pump/) "
      ],
      "text/plain": [
       "<IPython.core.display.Markdown object>"
      ]
     },
     "execution_count": 9,
     "metadata": {},
     "output_type": "execute_result"
    }
   ],
   "source": [
    "#hide_input\n",
    "#md('##### {}'.format(titleBTC)) \n",
    "md(\"- {}{} {}{} [| Skaityti daugiau]({}) \".format(exchange['title'],'. ', exchange['body'], ' ...', exchange['url']))"
   ]
  },
  {
   "cell_type": "code",
   "execution_count": null,
   "id": "tender-livestock",
   "metadata": {
    "papermill": {
     "duration": 0.015426,
     "end_time": "2021-11-02T02:03:55.126786",
     "exception": false,
     "start_time": "2021-11-02T02:03:55.111360",
     "status": "completed"
    },
    "tags": []
   },
   "outputs": [],
   "source": []
  },
  {
   "cell_type": "code",
   "execution_count": null,
   "id": "appreciated-diamond",
   "metadata": {
    "papermill": {
     "duration": 0.015154,
     "end_time": "2021-11-02T02:03:55.157371",
     "exception": false,
     "start_time": "2021-11-02T02:03:55.142217",
     "status": "completed"
    },
    "tags": []
   },
   "outputs": [],
   "source": []
  },
  {
   "cell_type": "code",
   "execution_count": null,
   "id": "romance-sweden",
   "metadata": {
    "papermill": {
     "duration": 0.015082,
     "end_time": "2021-11-02T02:03:55.188161",
     "exception": false,
     "start_time": "2021-11-02T02:03:55.173079",
     "status": "completed"
    },
    "tags": []
   },
   "outputs": [],
   "source": []
  },
  {
   "cell_type": "code",
   "execution_count": null,
   "id": "dietary-statistics",
   "metadata": {
    "papermill": {
     "duration": 0.014984,
     "end_time": "2021-11-02T02:03:55.217922",
     "exception": false,
     "start_time": "2021-11-02T02:03:55.202938",
     "status": "completed"
    },
    "tags": []
   },
   "outputs": [],
   "source": []
  }
 ],
 "metadata": {
  "kernelspec": {
   "display_name": "Python 3",
   "language": "python",
   "name": "python3"
  },
  "language_info": {
   "codemirror_mode": {
    "name": "ipython",
    "version": 3
   },
   "file_extension": ".py",
   "mimetype": "text/x-python",
   "name": "python",
   "nbconvert_exporter": "python",
   "pygments_lexer": "ipython3",
   "version": "3.6.15"
  },
  "papermill": {
   "default_parameters": {},
   "duration": 11.881361,
   "end_time": "2021-11-02T02:03:55.742786",
   "environment_variables": {},
   "exception": null,
   "input_path": "Market-News.ipynb",
   "output_path": "Market-News.ipynb",
   "parameters": {},
   "start_time": "2021-11-02T02:03:43.861425",
   "version": "2.2.2"
  }
 },
 "nbformat": 4,
 "nbformat_minor": 5
}