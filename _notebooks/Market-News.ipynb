{
 "cells": [
  {
   "cell_type": "markdown",
   "id": "short-greensboro",
   "metadata": {
    "papermill": {
     "duration": 0.013257,
     "end_time": "2022-05-13T03:18:01.668925",
     "exception": false,
     "start_time": "2022-05-13T03:18:01.655668",
     "status": "completed"
    },
    "tags": []
   },
   "source": [
    "# Kriptovaliutų naujienos"
   ]
  },
  {
   "cell_type": "code",
   "execution_count": 1,
   "id": "functioning-knowing",
   "metadata": {
    "execution": {
     "iopub.execute_input": "2022-05-13T03:18:01.697418Z",
     "iopub.status.busy": "2022-05-13T03:18:01.696887Z",
     "iopub.status.idle": "2022-05-13T03:18:02.889438Z",
     "shell.execute_reply": "2022-05-13T03:18:02.888458Z"
    },
    "papermill": {
     "duration": 1.211112,
     "end_time": "2022-05-13T03:18:02.889595",
     "exception": false,
     "start_time": "2022-05-13T03:18:01.678483",
     "status": "completed"
    },
    "tags": []
   },
   "outputs": [],
   "source": [
    "#hide_input\n",
    "import warnings\n",
    "warnings.filterwarnings('ignore')\n",
    "from scripts.read_data import read_api\n",
    "from scripts.read_data import read_news\n",
    "from scripts.read_data import read_covid\n",
    "import matplotlib.pyplot as plt \n",
    "from IPython.display import Markdown as md"
   ]
  },
  {
   "cell_type": "code",
   "execution_count": 2,
   "id": "shared-acceptance",
   "metadata": {
    "execution": {
     "iopub.execute_input": "2022-05-13T03:18:02.915836Z",
     "iopub.status.busy": "2022-05-13T03:18:02.915320Z",
     "iopub.status.idle": "2022-05-13T03:18:11.256854Z",
     "shell.execute_reply": "2022-05-13T03:18:11.255940Z"
    },
    "papermill": {
     "duration": 8.35726,
     "end_time": "2022-05-13T03:18:11.256990",
     "exception": false,
     "start_time": "2022-05-13T03:18:02.899730",
     "status": "completed"
    },
    "tags": []
   },
   "outputs": [],
   "source": [
    "#hide_input\n",
    "blockchain = read_news('blockchain') \n",
    "btc = read_news('btc') \n",
    "xrp = read_news('xrp') \n",
    "trx = read_news('trx') \n",
    "eth = read_news('eth')  \n",
    "ada = read_news('ada')\n",
    "exchange = read_news('exchange') "
   ]
  },
  {
   "cell_type": "code",
   "execution_count": 3,
   "id": "synthetic-notion",
   "metadata": {
    "execution": {
     "iopub.execute_input": "2022-05-13T03:18:11.281748Z",
     "iopub.status.busy": "2022-05-13T03:18:11.281155Z",
     "iopub.status.idle": "2022-05-13T03:18:11.283220Z",
     "shell.execute_reply": "2022-05-13T03:18:11.283646Z"
    },
    "papermill": {
     "duration": 0.017525,
     "end_time": "2022-05-13T03:18:11.283763",
     "exception": false,
     "start_time": "2022-05-13T03:18:11.266238",
     "status": "completed"
    },
    "tags": []
   },
   "outputs": [
    {
     "data": {
      "text/markdown": [
       "- Breaking: Terra Blockchain Halted Briefly, Resumes.  The meltdown of Terra in the last few days resulted in a brief halt in Terra blockchain for close to two hours on Thursday. Terra’s validators have decided to halt the blockchain to prevent governance attacks following severe LUNA inflation and a significantly reduced cost of attack. The Terra blockchain was officially halted at a The post Breaking: Terra Blockchain Halted Briefly, Resumes appeared first on CoinGape. ... [| Skaityti daugiau](https://coingape.com/breaking-terra-blockchain-halted-briefly-resumes/) "
      ],
      "text/plain": [
       "<IPython.core.display.Markdown object>"
      ]
     },
     "execution_count": 3,
     "metadata": {},
     "output_type": "execute_result"
    }
   ],
   "source": [
    "#hide_input\n",
    "#md('##### {}'.format(titleBTC)) \n",
    "md(\"- {}{} {}{} [| Skaityti daugiau]({}) \".format(blockchain['title'],'. ', blockchain['body'], ' ...', blockchain['url']))"
   ]
  },
  {
   "cell_type": "code",
   "execution_count": 4,
   "id": "aging-caution",
   "metadata": {
    "execution": {
     "iopub.execute_input": "2022-05-13T03:18:11.306765Z",
     "iopub.status.busy": "2022-05-13T03:18:11.306263Z",
     "iopub.status.idle": "2022-05-13T03:18:11.309055Z",
     "shell.execute_reply": "2022-05-13T03:18:11.309539Z"
    },
    "papermill": {
     "duration": 0.016568,
     "end_time": "2022-05-13T03:18:11.309650",
     "exception": false,
     "start_time": "2022-05-13T03:18:11.293082",
     "status": "completed"
    },
    "tags": []
   },
   "outputs": [
    {
     "data": {
      "text/markdown": [
       "- TA: Bitcoin Gains Momentum, Why Break Above $30K Is Crucial.  Bitcoin dived towards the $25,000 support zone against the US Dollar. BTC is now recovering and might eye an upside break above the key $30,000 resistance zone. Bitcoin found support above $25,000 and started an upside correction. The price is still trading below $30,000 and the 100 hourly simple moving average. There is a major bearish trend line forming with resistance near $30,000 on the hourly chart of the BTC/USD pair (data feed from Kraken). The pair must clear the $30,000 barrier to move into a positive zone and started a real recovery. Bitcoin Price Starts Recovery Bitcoin price remained in a bearish zone below the $30,000 support zone. BTC extended its decline and traded below the $28,000 level. There was a spike below the $26,000 level and the price traded to a new multi-month low at $25,332. A base was formed above $25,000 and the price started a fresh upward move. There was a clear move above the $26,500 and $27,500 resistance levels. The price climbed above the 50% Fib retracement level of the recent decline from the $32,130 swing high to $25,332 low. However, it is still trading below $30,000 and the 100 hourly simple moving average. There is also a major bearish trend line forming with resistance near $30,000 on the hourly chart of the BTC/USD pair. The next major resistance is near the $30,500 zone and the 100 hourly simple moving average. It is near the 76.4% Fib retracement level of the recent decline from th... ... [| Skaityti daugiau](https://www.newsbtc.com/analysis/btc/bitcoin-gains-momentum-30k/) "
      ],
      "text/plain": [
       "<IPython.core.display.Markdown object>"
      ]
     },
     "execution_count": 4,
     "metadata": {},
     "output_type": "execute_result"
    }
   ],
   "source": [
    "#hide_input\n",
    "#md('##### {}'.format(titleBTC)) \n",
    "md(\"- {}{} {}{} [| Skaityti daugiau]({}) \".format(btc['title'],'. ', btc['body'], ' ...', btc['url']))"
   ]
  },
  {
   "cell_type": "code",
   "execution_count": 5,
   "id": "organic-actress",
   "metadata": {
    "execution": {
     "iopub.execute_input": "2022-05-13T03:18:11.332691Z",
     "iopub.status.busy": "2022-05-13T03:18:11.332196Z",
     "iopub.status.idle": "2022-05-13T03:18:11.334756Z",
     "shell.execute_reply": "2022-05-13T03:18:11.335178Z"
    },
    "papermill": {
     "duration": 0.016091,
     "end_time": "2022-05-13T03:18:11.335288",
     "exception": false,
     "start_time": "2022-05-13T03:18:11.319197",
     "status": "completed"
    },
    "tags": []
   },
   "outputs": [
    {
     "data": {
      "text/markdown": [
       "- XRP holders say ‘je n’en puis plus’ as selling magnifies.  Disclaimer: The findings of the following analysis are the sole opinions of the writer and should not be considered investment advice XRP has lost 30% on the charts in the past 48 hours, and the market structure was strongly bearish in the low to medium time horizons. A bullish divergence on the hourly chart set up [&#8230;] ... [| Skaityti daugiau](https://ambcrypto.com/xrp-holders-say-je-nen-puis-plus-as-selling-magnifies/) "
      ],
      "text/plain": [
       "<IPython.core.display.Markdown object>"
      ]
     },
     "execution_count": 5,
     "metadata": {},
     "output_type": "execute_result"
    }
   ],
   "source": [
    "#hide_input\n",
    "#md('##### {}'.format(titleBTC)) \n",
    "md(\"- {}{} {}{} [| Skaityti daugiau]({}) \".format(xrp['title'],'. ', xrp['body'], ' ...', xrp['url']))"
   ]
  },
  {
   "cell_type": "code",
   "execution_count": 6,
   "id": "prompt-farmer",
   "metadata": {
    "execution": {
     "iopub.execute_input": "2022-05-13T03:18:11.359150Z",
     "iopub.status.busy": "2022-05-13T03:18:11.358086Z",
     "iopub.status.idle": "2022-05-13T03:18:11.361618Z",
     "shell.execute_reply": "2022-05-13T03:18:11.362092Z"
    },
    "papermill": {
     "duration": 0.017031,
     "end_time": "2022-05-13T03:18:11.362199",
     "exception": false,
     "start_time": "2022-05-13T03:18:11.345168",
     "status": "completed"
    },
    "tags": []
   },
   "outputs": [
    {
     "data": {
      "text/markdown": [
       "- TRX Price Analysis: Concentrated EMAs Assist Buyers To Defense $0.072.  With Bitcoin losing $30000 support and a massive collapse in LUNA and UST stablecoin price, the crypto market has witnessed outraged selling over the past week. However, battling the broader market sentiment, TRON(TRX) price went through a volatile phase to prevent some major losses. Key points The TRX chart reflects 20% in the last four The post TRX Price Analysis: Concentrated EMAs Assist Buyers To Defense $0.072 appeared first on CoinGape. ... [| Skaityti daugiau](https://coingape.com/markets/trx-price-analysis-concentrated-emas-assist-buyers-to-defense-0-072/) "
      ],
      "text/plain": [
       "<IPython.core.display.Markdown object>"
      ]
     },
     "execution_count": 6,
     "metadata": {},
     "output_type": "execute_result"
    }
   ],
   "source": [
    "#hide_input\n",
    "#md('##### {}'.format(titleBTC)) \n",
    "md(\"- {}{} {}{} [| Skaityti daugiau]({}) \".format(trx['title'],'. ', trx['body'], ' ...', trx['url']))"
   ]
  },
  {
   "cell_type": "code",
   "execution_count": 7,
   "id": "illegal-greece",
   "metadata": {
    "execution": {
     "iopub.execute_input": "2022-05-13T03:18:11.386770Z",
     "iopub.status.busy": "2022-05-13T03:18:11.386281Z",
     "iopub.status.idle": "2022-05-13T03:18:11.389470Z",
     "shell.execute_reply": "2022-05-13T03:18:11.389066Z"
    },
    "papermill": {
     "duration": 0.017052,
     "end_time": "2022-05-13T03:18:11.389569",
     "exception": false,
     "start_time": "2022-05-13T03:18:11.372517",
     "status": "completed"
    },
    "tags": []
   },
   "outputs": [
    {
     "data": {
      "text/markdown": [
       "- Dogecoin Has Dropped 90% Since “The Dogefather” Debuted On SNL.  Dogecoin, the most popular meme cryptocurrency, has dropped 30% in the last 24 hours, but has already started to rebound. Someone moved around 250 million Dogecoins during this enormous price drop, with little more than half of that amount going to Robinhood. Whale Move Dogecoin To Robinhood The @DogeWhaleAlert account, which monitors large Dogecoin transfers, has discovered two transactions totaling more than 100 million Dogecoins. The two DOGE lumps had a total of 110,614,220 and 139,261,848 meme coins worth $8,497,274 and $11,625,997, respectively. The second Dogecoin payment was made via the renowned Robinhood trading program, which allows users to invest in equities as well as cryptocurrency such as Bitcoin, Ethereum, Solana, DOGE, Shiba Inu, Bitcoin Cash, and other prominent coins. 🐕🪙🐋🚨🚨🚨🚨🚨🚨🚨🚨🚨🚨 139,261,848 $DOGE ($11,625,997 USD) was transferred from an unknown wallet to a #Robinhood wallet. Fee: 0.756 ($0.063 USD) Tx: https://t.co/ADkdxMqG32#DogecoinWhaleAlert #WhaleAlert #Dogecoin #CryptoNews &#8212; Ðogecoin Whale Alert (@DogeWhaleAlert) May 11, 2022 Following Bitcoin&#8217;s slide to $27,000 and Terra&#8217;s UST losing its dollar peg, Dogecoin has lost 30% of its value in the last 24 hours, plunging $0.160 to $0.0723. However, the coin has started to recoup some of its losses, climbing 9.47 percent as of press time. DOGE is now trading at $0.0793 on the Binance market. Suggested Reading &#124; Shiba In... ... [| Skaityti daugiau](https://www.newsbtc.com/news/dogecoin/dogecoin-has-dropped-90-since-the-dogefather-debuted-on-snl/) "
      ],
      "text/plain": [
       "<IPython.core.display.Markdown object>"
      ]
     },
     "execution_count": 7,
     "metadata": {},
     "output_type": "execute_result"
    }
   ],
   "source": [
    "#hide_input\n",
    "#md('##### {}'.format(titleBTC)) \n",
    "md(\"- {}{} {}{} [| Skaityti daugiau]({}) \".format(eth['title'],'. ', eth['body'], ' ...', eth['url']))"
   ]
  },
  {
   "cell_type": "code",
   "execution_count": 8,
   "id": "sublime-lounge",
   "metadata": {
    "execution": {
     "iopub.execute_input": "2022-05-13T03:18:11.415054Z",
     "iopub.status.busy": "2022-05-13T03:18:11.414559Z",
     "iopub.status.idle": "2022-05-13T03:18:11.417375Z",
     "shell.execute_reply": "2022-05-13T03:18:11.416969Z"
    },
    "papermill": {
     "duration": 0.017363,
     "end_time": "2022-05-13T03:18:11.417475",
     "exception": false,
     "start_time": "2022-05-13T03:18:11.400112",
     "status": "completed"
    },
    "tags": []
   },
   "outputs": [
    {
     "data": {
      "text/markdown": [
       "- How Long Will The CryptoWinter Last? Cardano Founder Provides Answers.  It is evident that the market has now officially welcomed a cryptowinter. The market prices of various digital assets show this. However, as is expected, investors in the space are wondering how long this cryptowinter is expected to last. Goin by previous markets, it could be that the market is in for the long haul but Cardano founder Charles Hoskinson has provided his thoughts on how long he believes the bear will stay. Prepare For Months Of Cryptowiner With the price of major cryptocurrencies such as Bitcoin and Cardano down, speculations abound about when the bottom of the market will be reached. Mostly, the negative sentiment that has washed across investors in the space has not done much to help things as the prices continue to decline as a result. Nevertheless, this has not stopped some from trying to pinpoint when the market will reach its inevitable bottom. Related Reading &#124; Bitcoin Funding Rates Remain Unmoved Despite Plunge To $30,000 Addressing the market in a new twee, Cardano founder Charles Hoskinson has presented what he believes will happen to the market. The tweet that he starts out by welcoming those who this was their first cryptowinter also went further to put a timeframe on it. For the Ethereum co-founder, he believes that this downtrend will continue for weeks to months. “If this is your first cryptowinter, then welcome,” said Hoskinson. “Been through many since 2011 and they always hit like a cold i... ... [| Skaityti daugiau](https://www.newsbtc.com/crypto/how-long-will-the-cryptowinter-last-cardano-founder-provides-answers/) "
      ],
      "text/plain": [
       "<IPython.core.display.Markdown object>"
      ]
     },
     "execution_count": 8,
     "metadata": {},
     "output_type": "execute_result"
    }
   ],
   "source": [
    "#hide_input\n",
    "#md('##### {}'.format(titleBTC)) \n",
    "md(\"- {}{} {}{} [| Skaityti daugiau]({}) \".format(ada['title'],'. ', ada['body'], ' ...', ada['url']))"
   ]
  },
  {
   "cell_type": "code",
   "execution_count": 9,
   "id": "specified-ordering",
   "metadata": {
    "execution": {
     "iopub.execute_input": "2022-05-13T03:18:11.444035Z",
     "iopub.status.busy": "2022-05-13T03:18:11.443537Z",
     "iopub.status.idle": "2022-05-13T03:18:11.446770Z",
     "shell.execute_reply": "2022-05-13T03:18:11.446368Z"
    },
    "papermill": {
     "duration": 0.018473,
     "end_time": "2022-05-13T03:18:11.446869",
     "exception": false,
     "start_time": "2022-05-13T03:18:11.428396",
     "status": "completed"
    },
    "tags": []
   },
   "outputs": [
    {
     "data": {
      "text/markdown": [
       "- Binance Delists LUNA Futures, Margin Pairs and Spot Trading Pairs.  LUNA was the hot token in the crypto sphere, but after a major crash, Binance had to delist it from its futures, margin and spot trading pairs. ... [| Skaityti daugiau](https://cryptopotato.com/binance-delists-luna-futures-margin-pairs-and-spot-pairs/) "
      ],
      "text/plain": [
       "<IPython.core.display.Markdown object>"
      ]
     },
     "execution_count": 9,
     "metadata": {},
     "output_type": "execute_result"
    }
   ],
   "source": [
    "#hide_input\n",
    "#md('##### {}'.format(titleBTC)) \n",
    "md(\"- {}{} {}{} [| Skaityti daugiau]({}) \".format(exchange['title'],'. ', exchange['body'], ' ...', exchange['url']))"
   ]
  },
  {
   "cell_type": "code",
   "execution_count": null,
   "id": "tender-livestock",
   "metadata": {
    "papermill": {
     "duration": 0.011205,
     "end_time": "2022-05-13T03:18:11.469304",
     "exception": false,
     "start_time": "2022-05-13T03:18:11.458099",
     "status": "completed"
    },
    "tags": []
   },
   "outputs": [],
   "source": []
  },
  {
   "cell_type": "code",
   "execution_count": null,
   "id": "appreciated-diamond",
   "metadata": {
    "papermill": {
     "duration": 0.011239,
     "end_time": "2022-05-13T03:18:11.491874",
     "exception": false,
     "start_time": "2022-05-13T03:18:11.480635",
     "status": "completed"
    },
    "tags": []
   },
   "outputs": [],
   "source": []
  },
  {
   "cell_type": "code",
   "execution_count": null,
   "id": "romance-sweden",
   "metadata": {
    "papermill": {
     "duration": 0.011144,
     "end_time": "2022-05-13T03:18:11.515094",
     "exception": false,
     "start_time": "2022-05-13T03:18:11.503950",
     "status": "completed"
    },
    "tags": []
   },
   "outputs": [],
   "source": []
  },
  {
   "cell_type": "code",
   "execution_count": null,
   "id": "dietary-statistics",
   "metadata": {
    "papermill": {
     "duration": 0.011143,
     "end_time": "2022-05-13T03:18:11.537418",
     "exception": false,
     "start_time": "2022-05-13T03:18:11.526275",
     "status": "completed"
    },
    "tags": []
   },
   "outputs": [],
   "source": []
  }
 ],
 "metadata": {
  "kernelspec": {
   "display_name": "Python 3",
   "language": "python",
   "name": "python3"
  },
  "language_info": {
   "codemirror_mode": {
    "name": "ipython",
    "version": 3
   },
   "file_extension": ".py",
   "mimetype": "text/x-python",
   "name": "python",
   "nbconvert_exporter": "python",
   "pygments_lexer": "ipython3",
   "version": "3.6.15"
  },
  "papermill": {
   "default_parameters": {},
   "duration": 11.225496,
   "end_time": "2022-05-13T03:18:11.967791",
   "environment_variables": {},
   "exception": null,
   "input_path": "Market-News.ipynb",
   "output_path": "Market-News.ipynb",
   "parameters": {},
   "start_time": "2022-05-13T03:18:00.742295",
   "version": "2.2.2"
  }
 },
 "nbformat": 4,
 "nbformat_minor": 5
}