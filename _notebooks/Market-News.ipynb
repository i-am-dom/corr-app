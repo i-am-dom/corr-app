{
 "cells": [
  {
   "cell_type": "markdown",
   "id": "short-greensboro",
   "metadata": {
    "papermill": {
     "duration": 0.013192,
     "end_time": "2022-02-19T02:02:29.135524",
     "exception": false,
     "start_time": "2022-02-19T02:02:29.122332",
     "status": "completed"
    },
    "tags": []
   },
   "source": [
    "# Kriptovaliutų naujienos"
   ]
  },
  {
   "cell_type": "code",
   "execution_count": 1,
   "id": "functioning-knowing",
   "metadata": {
    "execution": {
     "iopub.execute_input": "2022-02-19T02:02:29.163311Z",
     "iopub.status.busy": "2022-02-19T02:02:29.162830Z",
     "iopub.status.idle": "2022-02-19T02:02:30.430368Z",
     "shell.execute_reply": "2022-02-19T02:02:30.429882Z"
    },
    "papermill": {
     "duration": 1.28634,
     "end_time": "2022-02-19T02:02:30.430501",
     "exception": false,
     "start_time": "2022-02-19T02:02:29.144161",
     "status": "completed"
    },
    "tags": []
   },
   "outputs": [],
   "source": [
    "#hide_input\n",
    "import warnings\n",
    "warnings.filterwarnings('ignore')\n",
    "from scripts.read_data import read_api\n",
    "from scripts.read_data import read_news\n",
    "from scripts.read_data import read_covid\n",
    "import matplotlib.pyplot as plt \n",
    "from IPython.display import Markdown as md"
   ]
  },
  {
   "cell_type": "code",
   "execution_count": 2,
   "id": "shared-acceptance",
   "metadata": {
    "execution": {
     "iopub.execute_input": "2022-02-19T02:02:30.452973Z",
     "iopub.status.busy": "2022-02-19T02:02:30.452507Z",
     "iopub.status.idle": "2022-02-19T02:02:39.706221Z",
     "shell.execute_reply": "2022-02-19T02:02:39.706705Z"
    },
    "papermill": {
     "duration": 9.268032,
     "end_time": "2022-02-19T02:02:39.706871",
     "exception": false,
     "start_time": "2022-02-19T02:02:30.438839",
     "status": "completed"
    },
    "tags": []
   },
   "outputs": [],
   "source": [
    "#hide_input\n",
    "blockchain = read_news('blockchain') \n",
    "btc = read_news('btc') \n",
    "xrp = read_news('xrp') \n",
    "trx = read_news('trx') \n",
    "eth = read_news('eth')  \n",
    "ada = read_news('ada')\n",
    "exchange = read_news('exchange') "
   ]
  },
  {
   "cell_type": "code",
   "execution_count": 3,
   "id": "synthetic-notion",
   "metadata": {
    "execution": {
     "iopub.execute_input": "2022-02-19T02:02:39.730793Z",
     "iopub.status.busy": "2022-02-19T02:02:39.730258Z",
     "iopub.status.idle": "2022-02-19T02:02:39.734351Z",
     "shell.execute_reply": "2022-02-19T02:02:39.733944Z"
    },
    "papermill": {
     "duration": 0.018303,
     "end_time": "2022-02-19T02:02:39.734460",
     "exception": false,
     "start_time": "2022-02-19T02:02:39.716157",
     "status": "completed"
    },
    "tags": []
   },
   "outputs": [
    {
     "data": {
      "text/markdown": [
       "- AscendEX Lists Faith Tribe, FTRB.  AscendEX is excited to announce both the Launch Pool and Listing of the Faith Tribe token (FTRB)! The Launch Pool will run from February 18th-24th and give users the opportunity to enter and share the 10,000,000 FTRB rewards pool. Trading will begin under the trading pair (FTRB/USDT) starting on Feb 24 at 2 p.m. UTC [&#8230;]The post AscendEX Lists Faith Tribe, FTRB appeared first on Blockchain, Crypto and Stock News. ... [| Skaityti daugiau](https://thecoinrise.com/ascendex-lists-faith-tribe-ftrb/) "
      ],
      "text/plain": [
       "<IPython.core.display.Markdown object>"
      ]
     },
     "execution_count": 3,
     "metadata": {},
     "output_type": "execute_result"
    }
   ],
   "source": [
    "#hide_input\n",
    "#md('##### {}'.format(titleBTC)) \n",
    "md(\"- {}{} {}{} [| Skaityti daugiau]({}) \".format(blockchain['title'],'. ', blockchain['body'], ' ...', blockchain['url']))"
   ]
  },
  {
   "cell_type": "code",
   "execution_count": 4,
   "id": "aging-caution",
   "metadata": {
    "execution": {
     "iopub.execute_input": "2022-02-19T02:02:39.757732Z",
     "iopub.status.busy": "2022-02-19T02:02:39.757220Z",
     "iopub.status.idle": "2022-02-19T02:02:39.759742Z",
     "shell.execute_reply": "2022-02-19T02:02:39.760247Z"
    },
    "papermill": {
     "duration": 0.016585,
     "end_time": "2022-02-19T02:02:39.760364",
     "exception": false,
     "start_time": "2022-02-19T02:02:39.743779",
     "status": "completed"
    },
    "tags": []
   },
   "outputs": [
    {
     "data": {
      "text/markdown": [
       "- Ottawa Court Freezes $20M in Cash, Bitcoin Donated to Truckers.  The order seeks to redistribute as much as $20 million donated to the Freedom Convoy to the citizens of Ottawa. ... [| Skaityti daugiau](https://bitcoinmagazine.com/business/ottawa-court-freezes-20m-in-cash-bitcoin-donated-to-truckers) "
      ],
      "text/plain": [
       "<IPython.core.display.Markdown object>"
      ]
     },
     "execution_count": 4,
     "metadata": {},
     "output_type": "execute_result"
    }
   ],
   "source": [
    "#hide_input\n",
    "#md('##### {}'.format(titleBTC)) \n",
    "md(\"- {}{} {}{} [| Skaityti daugiau]({}) \".format(btc['title'],'. ', btc['body'], ' ...', btc['url']))"
   ]
  },
  {
   "cell_type": "code",
   "execution_count": 5,
   "id": "organic-actress",
   "metadata": {
    "execution": {
     "iopub.execute_input": "2022-02-19T02:02:39.783435Z",
     "iopub.status.busy": "2022-02-19T02:02:39.782990Z",
     "iopub.status.idle": "2022-02-19T02:02:39.785769Z",
     "shell.execute_reply": "2022-02-19T02:02:39.785406Z"
    },
    "papermill": {
     "duration": 0.015968,
     "end_time": "2022-02-19T02:02:39.785862",
     "exception": false,
     "start_time": "2022-02-19T02:02:39.769894",
     "status": "completed"
    },
    "tags": []
   },
   "outputs": [
    {
     "data": {
      "text/markdown": [
       "- $XRP Whales Accumulated Nearly 900 Million Tokens in ‘Second-Largest’ Accumulation in Past 5 Years.  XRP whale addresses holding over 10 million tokens or more have managed to accumulate close to 900 million $XRP, worth around $700 million at the time of writing, since December 2021 in the “second-largest” accumulation they have made over the last 5 years. According to cryptocurrency analytics firm Santiment, the largest XRP whale accumulation occurred […] ... [| Skaityti daugiau](https://www.cryptoglobe.com/latest/2022/02/xrp-whales-accumulated-nearly-900-million-tokens-in-second-largest-accumulation-in-past-5-years/) "
      ],
      "text/plain": [
       "<IPython.core.display.Markdown object>"
      ]
     },
     "execution_count": 5,
     "metadata": {},
     "output_type": "execute_result"
    }
   ],
   "source": [
    "#hide_input\n",
    "#md('##### {}'.format(titleBTC)) \n",
    "md(\"- {}{} {}{} [| Skaityti daugiau]({}) \".format(xrp['title'],'. ', xrp['body'], ' ...', xrp['url']))"
   ]
  },
  {
   "cell_type": "code",
   "execution_count": 6,
   "id": "prompt-farmer",
   "metadata": {
    "execution": {
     "iopub.execute_input": "2022-02-19T02:02:39.807821Z",
     "iopub.status.busy": "2022-02-19T02:02:39.807245Z",
     "iopub.status.idle": "2022-02-19T02:02:39.809333Z",
     "shell.execute_reply": "2022-02-19T02:02:39.809783Z"
    },
    "papermill": {
     "duration": 0.015317,
     "end_time": "2022-02-19T02:02:39.809907",
     "exception": false,
     "start_time": "2022-02-19T02:02:39.794590",
     "status": "completed"
    },
    "tags": []
   },
   "outputs": [
    {
     "data": {
      "text/markdown": [
       "- Bitcoin Cash, Tron, Fantom Price Analysis: 17 February.  To affirm a healthy recovery phase, Bitcoin Cash still needed to close above the 50 EMA near the $331-resistance. On the other hand, Tron displayed a short-term uptrend as it swayed above its 20 EMA. But the 38.2% Fibonacci level continued to pose as a hurdle. Also, Fantom snapped off its trendline resistance and eyed [&#8230;] ... [| Skaityti daugiau](https://ambcrypto.com/bitcoin-cash-tron-fantom-price-analysis-17-february/) "
      ],
      "text/plain": [
       "<IPython.core.display.Markdown object>"
      ]
     },
     "execution_count": 6,
     "metadata": {},
     "output_type": "execute_result"
    }
   ],
   "source": [
    "#hide_input\n",
    "#md('##### {}'.format(titleBTC)) \n",
    "md(\"- {}{} {}{} [| Skaityti daugiau]({}) \".format(trx['title'],'. ', trx['body'], ' ...', trx['url']))"
   ]
  },
  {
   "cell_type": "code",
   "execution_count": 7,
   "id": "illegal-greece",
   "metadata": {
    "execution": {
     "iopub.execute_input": "2022-02-19T02:02:39.834080Z",
     "iopub.status.busy": "2022-02-19T02:02:39.833356Z",
     "iopub.status.idle": "2022-02-19T02:02:39.836737Z",
     "shell.execute_reply": "2022-02-19T02:02:39.836304Z"
    },
    "papermill": {
     "duration": 0.016253,
     "end_time": "2022-02-19T02:02:39.836835",
     "exception": false,
     "start_time": "2022-02-19T02:02:39.820582",
     "status": "completed"
    },
    "tags": []
   },
   "outputs": [
    {
     "data": {
      "text/markdown": [
       "- Why Deutsche Bank Says Bitcoin Could Become The New Gold.  Mass adoption of bitcoin is just a matter of time, and as the world faces that fact traditional financial institutions are warming up to the digital coin. Deutsche Bank analyst Marion Laboure has stated once more that Bitcoin could become &#8220;the 21st century digital gold,&#8221; but does not it as a reliable store of value [&#8230;] ... [| Skaityti daugiau](https://bitcoinist.com/why-deustche-bank-says-bitcoin-could-become-gold/) "
      ],
      "text/plain": [
       "<IPython.core.display.Markdown object>"
      ]
     },
     "execution_count": 7,
     "metadata": {},
     "output_type": "execute_result"
    }
   ],
   "source": [
    "#hide_input\n",
    "#md('##### {}'.format(titleBTC)) \n",
    "md(\"- {}{} {}{} [| Skaityti daugiau]({}) \".format(eth['title'],'. ', eth['body'], ' ...', eth['url']))"
   ]
  },
  {
   "cell_type": "code",
   "execution_count": 8,
   "id": "sublime-lounge",
   "metadata": {
    "execution": {
     "iopub.execute_input": "2022-02-19T02:02:39.862126Z",
     "iopub.status.busy": "2022-02-19T02:02:39.861628Z",
     "iopub.status.idle": "2022-02-19T02:02:39.864319Z",
     "shell.execute_reply": "2022-02-19T02:02:39.864704Z"
    },
    "papermill": {
     "duration": 0.017489,
     "end_time": "2022-02-19T02:02:39.864819",
     "exception": false,
     "start_time": "2022-02-19T02:02:39.847330",
     "status": "completed"
    },
    "tags": []
   },
   "outputs": [
    {
     "data": {
      "text/markdown": [
       "- Ethereum ($ETH) May Lose Dominance to Competitors Like Cardano ($ADA) or Solana ($SOL): Morgan Stanley.  Morgan Stanley’s wealth management global investment office has published a new report on the second-largest cryptocurrency by market capitalization, Ethereum (ETH), noting it could lose market dominance to competitors like Cardano ($ADA), Tezos ($XTZ), and Solana ($SOL) over its transaction costs. The report, titled “Cryptocurrency 201: What is Ethereum” was first reported on by Cointelegraph […] ... [| Skaityti daugiau](https://www.cryptoglobe.com/latest/2022/02/ethereum-eth-may-lose-dominance-to-competitors-like-cardano-ada-or-solana-sol-morgan-stanley/) "
      ],
      "text/plain": [
       "<IPython.core.display.Markdown object>"
      ]
     },
     "execution_count": 8,
     "metadata": {},
     "output_type": "execute_result"
    }
   ],
   "source": [
    "#hide_input\n",
    "#md('##### {}'.format(titleBTC)) \n",
    "md(\"- {}{} {}{} [| Skaityti daugiau]({}) \".format(ada['title'],'. ', ada['body'], ' ...', ada['url']))"
   ]
  },
  {
   "cell_type": "code",
   "execution_count": 9,
   "id": "specified-ordering",
   "metadata": {
    "execution": {
     "iopub.execute_input": "2022-02-19T02:02:39.891161Z",
     "iopub.status.busy": "2022-02-19T02:02:39.890610Z",
     "iopub.status.idle": "2022-02-19T02:02:39.893875Z",
     "shell.execute_reply": "2022-02-19T02:02:39.893465Z"
    },
    "papermill": {
     "duration": 0.018347,
     "end_time": "2022-02-19T02:02:39.893979",
     "exception": false,
     "start_time": "2022-02-19T02:02:39.875632",
     "status": "completed"
    },
    "tags": []
   },
   "outputs": [
    {
     "data": {
      "text/markdown": [
       "- Crypto Exchange Binance Halts Activities in Israel After Regulator Raises Licensing Issue.  Binance has reportedly halted services in Israel after the cryptocurrency exchange was approached by the country&#x2019;s financial regulator inquiring about its activities and the licenses under which it operates. A growing number of regulators have been scrutinizing Binance for operating without a license in their jurisdictions. Binance Halts Crypto Services in Israel Israel&#x2019;s Capital Market, [&#8230;] ... [| Skaityti daugiau](https://news.bitcoin.com/crypto-exchange-binance-halts-activities-israel-after-regulator-raises-licensing-issue/) "
      ],
      "text/plain": [
       "<IPython.core.display.Markdown object>"
      ]
     },
     "execution_count": 9,
     "metadata": {},
     "output_type": "execute_result"
    }
   ],
   "source": [
    "#hide_input\n",
    "#md('##### {}'.format(titleBTC)) \n",
    "md(\"- {}{} {}{} [| Skaityti daugiau]({}) \".format(exchange['title'],'. ', exchange['body'], ' ...', exchange['url']))"
   ]
  },
  {
   "cell_type": "code",
   "execution_count": null,
   "id": "tender-livestock",
   "metadata": {
    "papermill": {
     "duration": 0.011195,
     "end_time": "2022-02-19T02:02:39.916344",
     "exception": false,
     "start_time": "2022-02-19T02:02:39.905149",
     "status": "completed"
    },
    "tags": []
   },
   "outputs": [],
   "source": []
  },
  {
   "cell_type": "code",
   "execution_count": null,
   "id": "appreciated-diamond",
   "metadata": {
    "papermill": {
     "duration": 0.01114,
     "end_time": "2022-02-19T02:02:39.938730",
     "exception": false,
     "start_time": "2022-02-19T02:02:39.927590",
     "status": "completed"
    },
    "tags": []
   },
   "outputs": [],
   "source": []
  },
  {
   "cell_type": "code",
   "execution_count": null,
   "id": "romance-sweden",
   "metadata": {
    "papermill": {
     "duration": 0.011368,
     "end_time": "2022-02-19T02:02:39.962253",
     "exception": false,
     "start_time": "2022-02-19T02:02:39.950885",
     "status": "completed"
    },
    "tags": []
   },
   "outputs": [],
   "source": []
  },
  {
   "cell_type": "code",
   "execution_count": null,
   "id": "dietary-statistics",
   "metadata": {
    "papermill": {
     "duration": 0.011359,
     "end_time": "2022-02-19T02:02:39.984766",
     "exception": false,
     "start_time": "2022-02-19T02:02:39.973407",
     "status": "completed"
    },
    "tags": []
   },
   "outputs": [],
   "source": []
  }
 ],
 "metadata": {
  "kernelspec": {
   "display_name": "Python 3",
   "language": "python",
   "name": "python3"
  },
  "language_info": {
   "codemirror_mode": {
    "name": "ipython",
    "version": 3
   },
   "file_extension": ".py",
   "mimetype": "text/x-python",
   "name": "python",
   "nbconvert_exporter": "python",
   "pygments_lexer": "ipython3",
   "version": "3.6.15"
  },
  "papermill": {
   "default_parameters": {},
   "duration": 12.406917,
   "end_time": "2022-02-19T02:02:40.418649",
   "environment_variables": {},
   "exception": null,
   "input_path": "Market-News.ipynb",
   "output_path": "Market-News.ipynb",
   "parameters": {},
   "start_time": "2022-02-19T02:02:28.011732",
   "version": "2.2.2"
  }
 },
 "nbformat": 4,
 "nbformat_minor": 5
}