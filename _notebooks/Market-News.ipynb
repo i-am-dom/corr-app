{
 "cells": [
  {
   "cell_type": "markdown",
   "id": "short-greensboro",
   "metadata": {
    "papermill": {
     "duration": 0.013159,
     "end_time": "2022-08-23T03:37:09.538252",
     "exception": false,
     "start_time": "2022-08-23T03:37:09.525093",
     "status": "completed"
    },
    "tags": []
   },
   "source": [
    "# Kriptovaliutų naujienos"
   ]
  },
  {
   "cell_type": "code",
   "execution_count": 1,
   "id": "functioning-knowing",
   "metadata": {
    "execution": {
     "iopub.execute_input": "2022-08-23T03:37:09.569155Z",
     "iopub.status.busy": "2022-08-23T03:37:09.568515Z",
     "iopub.status.idle": "2022-08-23T03:37:10.861044Z",
     "shell.execute_reply": "2022-08-23T03:37:10.861984Z"
    },
    "papermill": {
     "duration": 1.314119,
     "end_time": "2022-08-23T03:37:10.862177",
     "exception": false,
     "start_time": "2022-08-23T03:37:09.548058",
     "status": "completed"
    },
    "tags": []
   },
   "outputs": [],
   "source": [
    "#hide_input\n",
    "import warnings\n",
    "warnings.filterwarnings('ignore')\n",
    "from scripts.read_data import read_api\n",
    "from scripts.read_data import read_news\n",
    "from scripts.read_data import read_covid\n",
    "import matplotlib.pyplot as plt \n",
    "from IPython.display import Markdown as md"
   ]
  },
  {
   "cell_type": "code",
   "execution_count": 2,
   "id": "shared-acceptance",
   "metadata": {
    "execution": {
     "iopub.execute_input": "2022-08-23T03:37:10.888437Z",
     "iopub.status.busy": "2022-08-23T03:37:10.887309Z",
     "iopub.status.idle": "2022-08-23T03:37:20.075220Z",
     "shell.execute_reply": "2022-08-23T03:37:20.075730Z"
    },
    "papermill": {
     "duration": 9.204169,
     "end_time": "2022-08-23T03:37:20.075892",
     "exception": false,
     "start_time": "2022-08-23T03:37:10.871723",
     "status": "completed"
    },
    "tags": []
   },
   "outputs": [],
   "source": [
    "#hide_input\n",
    "blockchain = read_news('blockchain') \n",
    "btc = read_news('btc') \n",
    "xrp = read_news('xrp') \n",
    "trx = read_news('trx') \n",
    "eth = read_news('eth')  \n",
    "ada = read_news('ada')\n",
    "exchange = read_news('exchange') "
   ]
  },
  {
   "cell_type": "code",
   "execution_count": 3,
   "id": "synthetic-notion",
   "metadata": {
    "execution": {
     "iopub.execute_input": "2022-08-23T03:37:20.104649Z",
     "iopub.status.busy": "2022-08-23T03:37:20.103898Z",
     "iopub.status.idle": "2022-08-23T03:37:20.106351Z",
     "shell.execute_reply": "2022-08-23T03:37:20.106930Z"
    },
    "papermill": {
     "duration": 0.021797,
     "end_time": "2022-08-23T03:37:20.107092",
     "exception": false,
     "start_time": "2022-08-23T03:37:20.085295",
     "status": "completed"
    },
    "tags": []
   },
   "outputs": [
    {
     "data": {
      "text/markdown": [
       "- Shiba Inu retains $0.000013 irrespective of the broader market.  Shiba Inu price analysis for August 23, 2022, comes on a bearish note for the SHIB token as the world&#8217;s 2nd biggest meme coin remains stuck in a downtrend. Additionally, it is also important to note that SHIB might have issues with initiating an uptrend for now but there are considerable chances of the coin [&#8230;]The post Shiba Inu retains $0.000013 irrespective of the broader market appeared first on Blockchain, Crypto and Stock News. ... [| Skaityti daugiau](https://thecoinrise.com/shiba-inu-retains-0-000013-irrespective-of-the-broader-market/) "
      ],
      "text/plain": [
       "<IPython.core.display.Markdown object>"
      ]
     },
     "execution_count": 3,
     "metadata": {},
     "output_type": "execute_result"
    }
   ],
   "source": [
    "#hide_input\n",
    "#md('##### {}'.format(titleBTC)) \n",
    "md(\"- {}{} {}{} [| Skaityti daugiau]({}) \".format(blockchain['title'],'. ', blockchain['body'], ' ...', blockchain['url']))"
   ]
  },
  {
   "cell_type": "code",
   "execution_count": 4,
   "id": "aging-caution",
   "metadata": {
    "execution": {
     "iopub.execute_input": "2022-08-23T03:37:20.131539Z",
     "iopub.status.busy": "2022-08-23T03:37:20.130905Z",
     "iopub.status.idle": "2022-08-23T03:37:20.134782Z",
     "shell.execute_reply": "2022-08-23T03:37:20.134260Z"
    },
    "papermill": {
     "duration": 0.018356,
     "end_time": "2022-08-23T03:37:20.134895",
     "exception": false,
     "start_time": "2022-08-23T03:37:20.116539",
     "status": "completed"
    },
    "tags": []
   },
   "outputs": [
    {
     "data": {
      "text/markdown": [
       "- IMF Sees Significant Increase in Correlations Between Bitcoin and Asian Equity Markets.  Officials at the International Monetary Fund (IMF) say that the correlation between the performance of the Asian equity markets and crypto assets such as bitcoin and ethereum has increased significantly. IMF Staff on Crypto and Correlation to Asian Equities The International Monetary Fund (IMF) published a blog post on Monday on cryptocurrency regulation and how [&#8230;] ... [| Skaityti daugiau](https://news.bitcoin.com/imf-sees-significant-increase-in-correlations-between-bitcoin-and-asian-equity-markets/) "
      ],
      "text/plain": [
       "<IPython.core.display.Markdown object>"
      ]
     },
     "execution_count": 4,
     "metadata": {},
     "output_type": "execute_result"
    }
   ],
   "source": [
    "#hide_input\n",
    "#md('##### {}'.format(titleBTC)) \n",
    "md(\"- {}{} {}{} [| Skaityti daugiau]({}) \".format(btc['title'],'. ', btc['body'], ' ...', btc['url']))"
   ]
  },
  {
   "cell_type": "code",
   "execution_count": 5,
   "id": "organic-actress",
   "metadata": {
    "execution": {
     "iopub.execute_input": "2022-08-23T03:37:20.159690Z",
     "iopub.status.busy": "2022-08-23T03:37:20.159072Z",
     "iopub.status.idle": "2022-08-23T03:37:20.162403Z",
     "shell.execute_reply": "2022-08-23T03:37:20.162849Z"
    },
    "papermill": {
     "duration": 0.018364,
     "end_time": "2022-08-23T03:37:20.162978",
     "exception": false,
     "start_time": "2022-08-23T03:37:20.144614",
     "status": "completed"
    },
    "tags": []
   },
   "outputs": [
    {
     "data": {
      "text/markdown": [
       "- Grayscale Claims ‘Ripple Network Does Not Facilitate the Creation of Tokenized Assets’.  Recently, Grayscale Investments (“Grayscale”), which is one of the world’s largest digital currency asset managers, made some questionable claims about XRP. As Stefan Huber pointed out yesterday (August 21), in an Information Statement for Grayscale Stellar Lumens Trust (XLM) that the firm filed with the U.S. Securities and Exchange Commission (SEC) last Tuesday (August 16), here […] ... [| Skaityti daugiau](https://www.cryptoglobe.com/latest/2022/08/grayscale-claims-ripple-network-does-not-facilitate-the-creation-of-tokenized-assets/) "
      ],
      "text/plain": [
       "<IPython.core.display.Markdown object>"
      ]
     },
     "execution_count": 5,
     "metadata": {},
     "output_type": "execute_result"
    }
   ],
   "source": [
    "#hide_input\n",
    "#md('##### {}'.format(titleBTC)) \n",
    "md(\"- {}{} {}{} [| Skaityti daugiau]({}) \".format(xrp['title'],'. ', xrp['body'], ' ...', xrp['url']))"
   ]
  },
  {
   "cell_type": "code",
   "execution_count": 6,
   "id": "prompt-farmer",
   "metadata": {
    "execution": {
     "iopub.execute_input": "2022-08-23T03:37:20.189312Z",
     "iopub.status.busy": "2022-08-23T03:37:20.188672Z",
     "iopub.status.idle": "2022-08-23T03:37:20.191890Z",
     "shell.execute_reply": "2022-08-23T03:37:20.191307Z"
    },
    "papermill": {
     "duration": 0.019032,
     "end_time": "2022-08-23T03:37:20.192002",
     "exception": false,
     "start_time": "2022-08-23T03:37:20.172970",
     "status": "completed"
    },
    "tags": []
   },
   "outputs": [
    {
     "data": {
      "text/markdown": [
       "- Tron: What TRX bulls must be wary of before placing calls.  Disclaimer: The findings of the following analysis are the sole opinions of the writer and should not be considered investment advice In extending its squeeze within the $0.063-$0.0702 range for over two months now, Tron [TRX] could not escape its low volatility phase. While hovering near its daily 20/50/200 EMA, the altcoin could look to break [&#8230;] ... [| Skaityti daugiau](https://ambcrypto.com/tron-what-trx-bulls-must-be-wary-of-before-placing-calls/) "
      ],
      "text/plain": [
       "<IPython.core.display.Markdown object>"
      ]
     },
     "execution_count": 6,
     "metadata": {},
     "output_type": "execute_result"
    }
   ],
   "source": [
    "#hide_input\n",
    "#md('##### {}'.format(titleBTC)) \n",
    "md(\"- {}{} {}{} [| Skaityti daugiau]({}) \".format(trx['title'],'. ', trx['body'], ' ...', trx['url']))"
   ]
  },
  {
   "cell_type": "code",
   "execution_count": 7,
   "id": "illegal-greece",
   "metadata": {
    "execution": {
     "iopub.execute_input": "2022-08-23T03:37:20.218070Z",
     "iopub.status.busy": "2022-08-23T03:37:20.217114Z",
     "iopub.status.idle": "2022-08-23T03:37:20.221658Z",
     "shell.execute_reply": "2022-08-23T03:37:20.221083Z"
    },
    "papermill": {
     "duration": 0.019219,
     "end_time": "2022-08-23T03:37:20.221774",
     "exception": false,
     "start_time": "2022-08-23T03:37:20.202555",
     "status": "completed"
    },
    "tags": []
   },
   "outputs": [
    {
     "data": {
      "text/markdown": [
       "- IMF Sees Significant Increase in Correlations Between Bitcoin and Asian Equity Markets.  Officials at the International Monetary Fund (IMF) say that the correlation between the performance of the Asian equity markets and crypto assets such as bitcoin and ethereum has increased significantly. IMF Staff on Crypto and Correlation to Asian Equities The International Monetary Fund (IMF) published a blog post on Monday on cryptocurrency regulation and how [&#8230;] ... [| Skaityti daugiau](https://news.bitcoin.com/imf-sees-significant-increase-in-correlations-between-bitcoin-and-asian-equity-markets/) "
      ],
      "text/plain": [
       "<IPython.core.display.Markdown object>"
      ]
     },
     "execution_count": 7,
     "metadata": {},
     "output_type": "execute_result"
    }
   ],
   "source": [
    "#hide_input\n",
    "#md('##### {}'.format(titleBTC)) \n",
    "md(\"- {}{} {}{} [| Skaityti daugiau]({}) \".format(eth['title'],'. ', eth['body'], ' ...', eth['url']))"
   ]
  },
  {
   "cell_type": "code",
   "execution_count": 8,
   "id": "sublime-lounge",
   "metadata": {
    "execution": {
     "iopub.execute_input": "2022-08-23T03:37:20.250780Z",
     "iopub.status.busy": "2022-08-23T03:37:20.250035Z",
     "iopub.status.idle": "2022-08-23T03:37:20.253366Z",
     "shell.execute_reply": "2022-08-23T03:37:20.252913Z"
    },
    "papermill": {
     "duration": 0.019495,
     "end_time": "2022-08-23T03:37:20.253484",
     "exception": false,
     "start_time": "2022-08-23T03:37:20.233989",
     "status": "completed"
    },
    "tags": []
   },
   "outputs": [
    {
     "data": {
      "text/markdown": [
       "- Cardano’s Hoskinson Envisions Better Days For ADA Amid Scathing Criticisms Thrown At The Network.  Charles Hoskinson expressed disappointment at the barrage of criticisms he received over the challenges plaguing the network... ... [| Skaityti daugiau](https://zycrypto.com/cardanos-hoskinson-envisions-better-days-for-ada-amid-scathing-criticisms-thrown-at-the-network/) "
      ],
      "text/plain": [
       "<IPython.core.display.Markdown object>"
      ]
     },
     "execution_count": 8,
     "metadata": {},
     "output_type": "execute_result"
    }
   ],
   "source": [
    "#hide_input\n",
    "#md('##### {}'.format(titleBTC)) \n",
    "md(\"- {}{} {}{} [| Skaityti daugiau]({}) \".format(ada['title'],'. ', ada['body'], ' ...', ada['url']))"
   ]
  },
  {
   "cell_type": "code",
   "execution_count": 9,
   "id": "specified-ordering",
   "metadata": {
    "execution": {
     "iopub.execute_input": "2022-08-23T03:37:20.281931Z",
     "iopub.status.busy": "2022-08-23T03:37:20.281328Z",
     "iopub.status.idle": "2022-08-23T03:37:20.284688Z",
     "shell.execute_reply": "2022-08-23T03:37:20.285167Z"
    },
    "papermill": {
     "duration": 0.020665,
     "end_time": "2022-08-23T03:37:20.285301",
     "exception": false,
     "start_time": "2022-08-23T03:37:20.264636",
     "status": "completed"
    },
    "tags": []
   },
   "outputs": [
    {
     "data": {
      "text/markdown": [
       "- Samsung Working on South Korean Crypto Exchange.  Samsung&#8217;s securities company and other traditional brokerages plan to launch a crypto exchange next year. Samsung, Others Pursue Crypto Exchange Samsung and several others could launch a crypto exchange. According... ... [| Skaityti daugiau](https://cryptobriefing.com/samsung-working-on-south-korean-crypto-exchange/?utm_source=feed&utm_medium=rss) "
      ],
      "text/plain": [
       "<IPython.core.display.Markdown object>"
      ]
     },
     "execution_count": 9,
     "metadata": {},
     "output_type": "execute_result"
    }
   ],
   "source": [
    "#hide_input\n",
    "#md('##### {}'.format(titleBTC)) \n",
    "md(\"- {}{} {}{} [| Skaityti daugiau]({}) \".format(exchange['title'],'. ', exchange['body'], ' ...', exchange['url']))"
   ]
  },
  {
   "cell_type": "code",
   "execution_count": null,
   "id": "tender-livestock",
   "metadata": {
    "papermill": {
     "duration": 0.011332,
     "end_time": "2022-08-23T03:37:20.308324",
     "exception": false,
     "start_time": "2022-08-23T03:37:20.296992",
     "status": "completed"
    },
    "tags": []
   },
   "outputs": [],
   "source": []
  },
  {
   "cell_type": "code",
   "execution_count": null,
   "id": "appreciated-diamond",
   "metadata": {
    "papermill": {
     "duration": 0.011259,
     "end_time": "2022-08-23T03:37:20.330924",
     "exception": false,
     "start_time": "2022-08-23T03:37:20.319665",
     "status": "completed"
    },
    "tags": []
   },
   "outputs": [],
   "source": []
  },
  {
   "cell_type": "code",
   "execution_count": null,
   "id": "romance-sweden",
   "metadata": {
    "papermill": {
     "duration": 0.011249,
     "end_time": "2022-08-23T03:37:20.353358",
     "exception": false,
     "start_time": "2022-08-23T03:37:20.342109",
     "status": "completed"
    },
    "tags": []
   },
   "outputs": [],
   "source": []
  },
  {
   "cell_type": "code",
   "execution_count": null,
   "id": "dietary-statistics",
   "metadata": {
    "papermill": {
     "duration": 0.011194,
     "end_time": "2022-08-23T03:37:20.375883",
     "exception": false,
     "start_time": "2022-08-23T03:37:20.364689",
     "status": "completed"
    },
    "tags": []
   },
   "outputs": [],
   "source": []
  }
 ],
 "metadata": {
  "kernelspec": {
   "display_name": "Python 3",
   "language": "python",
   "name": "python3"
  },
  "language_info": {
   "codemirror_mode": {
    "name": "ipython",
    "version": 3
   },
   "file_extension": ".py",
   "mimetype": "text/x-python",
   "name": "python",
   "nbconvert_exporter": "python",
   "pygments_lexer": "ipython3",
   "version": "3.6.15"
  },
  "papermill": {
   "default_parameters": {},
   "duration": 12.629829,
   "end_time": "2022-08-23T03:37:20.907415",
   "environment_variables": {},
   "exception": null,
   "input_path": "Market-News.ipynb",
   "output_path": "Market-News.ipynb",
   "parameters": {},
   "start_time": "2022-08-23T03:37:08.277586",
   "version": "2.2.2"
  }
 },
 "nbformat": 4,
 "nbformat_minor": 5
}