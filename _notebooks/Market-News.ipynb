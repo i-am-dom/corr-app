{
 "cells": [
  {
   "cell_type": "markdown",
   "id": "short-greensboro",
   "metadata": {
    "papermill": {
     "duration": 0.013436,
     "end_time": "2022-05-25T03:00:37.010658",
     "exception": false,
     "start_time": "2022-05-25T03:00:36.997222",
     "status": "completed"
    },
    "tags": []
   },
   "source": [
    "# Kriptovaliutų naujienos"
   ]
  },
  {
   "cell_type": "code",
   "execution_count": 1,
   "id": "functioning-knowing",
   "metadata": {
    "execution": {
     "iopub.execute_input": "2022-05-25T03:00:37.040518Z",
     "iopub.status.busy": "2022-05-25T03:00:37.039902Z",
     "iopub.status.idle": "2022-05-25T03:00:38.290914Z",
     "shell.execute_reply": "2022-05-25T03:00:38.291454Z"
    },
    "papermill": {
     "duration": 1.271241,
     "end_time": "2022-05-25T03:00:38.291652",
     "exception": false,
     "start_time": "2022-05-25T03:00:37.020411",
     "status": "completed"
    },
    "tags": []
   },
   "outputs": [],
   "source": [
    "#hide_input\n",
    "import warnings\n",
    "warnings.filterwarnings('ignore')\n",
    "from scripts.read_data import read_api\n",
    "from scripts.read_data import read_news\n",
    "from scripts.read_data import read_covid\n",
    "import matplotlib.pyplot as plt \n",
    "from IPython.display import Markdown as md"
   ]
  },
  {
   "cell_type": "code",
   "execution_count": 2,
   "id": "shared-acceptance",
   "metadata": {
    "execution": {
     "iopub.execute_input": "2022-05-25T03:00:38.318515Z",
     "iopub.status.busy": "2022-05-25T03:00:38.317436Z",
     "iopub.status.idle": "2022-05-25T03:01:00.178959Z",
     "shell.execute_reply": "2022-05-25T03:01:00.179537Z"
    },
    "papermill": {
     "duration": 21.877971,
     "end_time": "2022-05-25T03:01:00.179716",
     "exception": false,
     "start_time": "2022-05-25T03:00:38.301745",
     "status": "completed"
    },
    "tags": []
   },
   "outputs": [],
   "source": [
    "#hide_input\n",
    "blockchain = read_news('blockchain') \n",
    "btc = read_news('btc') \n",
    "xrp = read_news('xrp') \n",
    "trx = read_news('trx') \n",
    "eth = read_news('eth')  \n",
    "ada = read_news('ada')\n",
    "exchange = read_news('exchange') "
   ]
  },
  {
   "cell_type": "code",
   "execution_count": 3,
   "id": "synthetic-notion",
   "metadata": {
    "execution": {
     "iopub.execute_input": "2022-05-25T03:01:00.205661Z",
     "iopub.status.busy": "2022-05-25T03:01:00.204977Z",
     "iopub.status.idle": "2022-05-25T03:01:00.208572Z",
     "shell.execute_reply": "2022-05-25T03:01:00.209038Z"
    },
    "papermill": {
     "duration": 0.019235,
     "end_time": "2022-05-25T03:01:00.209173",
     "exception": false,
     "start_time": "2022-05-25T03:01:00.189938",
     "status": "completed"
    },
    "tags": []
   },
   "outputs": [
    {
     "data": {
      "text/markdown": [
       "- 7 Reasons Why Web 3.0 is the Ultimate Google Killer.  Google has over 4 billion active users globally, enjoying a wide range of services like communication, financial, health, marketing, and entertainment. It’s part of a worldwide web 2.0 which has massive flaws. Most projects based on Web 2.0, including Google, social media networks, and others, have been accused of messing with consumer data. Fortunately, after Blockchain’s launch in 2009, a web 3.0 system was discovered. It combines features like tokenization and decentralization at its core. Web 3.0 has been termed the much-awaited Google killer. This guide explores eight reasons why web 3.0 will kill Google. Decentralizes Ownership of Data One of the biggest prons associated with the web 3.0 over Google is the decentralized data ownership. In the web2, data owners are mostly the giant social networking pages like Facebook, Twitter, or even Amazon. While data garnered in web2 is often used to improve services, most centralized networks sell the data to other marketers. The collection and transfer of information in web2 majorly depend on the efficiency of social media networks. Using the power of blockchain, web3 decentralizes the whole idea of data ownership. The actual data owner is tokenized for selling their information, ensuring the original data owner benefits from the data. As it continues to grow and people realize the data power offered to them via web 3. More people will start taking advantage of web 3 to get passive... ... [| Skaityti daugiau](https://www.cryptoknowmics.com/news/7-reasons-why-web-3-0-is-the-ultimate-google-killer/?utm_source=rss&utm_medium=rss&utm_campaign=7-reasons-why-web-3-0-is-the-ultimate-google-killer) "
      ],
      "text/plain": [
       "<IPython.core.display.Markdown object>"
      ]
     },
     "execution_count": 3,
     "metadata": {},
     "output_type": "execute_result"
    }
   ],
   "source": [
    "#hide_input\n",
    "#md('##### {}'.format(titleBTC)) \n",
    "md(\"- {}{} {}{} [| Skaityti daugiau]({}) \".format(blockchain['title'],'. ', blockchain['body'], ' ...', blockchain['url']))"
   ]
  },
  {
   "cell_type": "code",
   "execution_count": 4,
   "id": "aging-caution",
   "metadata": {
    "execution": {
     "iopub.execute_input": "2022-05-25T03:01:00.232883Z",
     "iopub.status.busy": "2022-05-25T03:01:00.232235Z",
     "iopub.status.idle": "2022-05-25T03:01:00.236721Z",
     "shell.execute_reply": "2022-05-25T03:01:00.237190Z"
    },
    "papermill": {
     "duration": 0.018866,
     "end_time": "2022-05-25T03:01:00.237319",
     "exception": false,
     "start_time": "2022-05-25T03:01:00.218453",
     "status": "completed"
    },
    "tags": []
   },
   "outputs": [
    {
     "data": {
      "text/markdown": [
       "- SAND investors have been exiting since January; has anything changed?.  Disclaimer: The findings of the following analysis are the sole opinions of the writer and should not be considered investment advice Bitcoin Dominance took a huge leap earlier this month as it soared from 41.5% on 10 May to touch 45.47% on 19 May. This surge meant that Bitcoin’s share of the total market capitalization of [&#8230;] ... [| Skaityti daugiau](https://ambcrypto.com/sand-investors-have-been-exiting-since-january-has-anything-changed/) "
      ],
      "text/plain": [
       "<IPython.core.display.Markdown object>"
      ]
     },
     "execution_count": 4,
     "metadata": {},
     "output_type": "execute_result"
    }
   ],
   "source": [
    "#hide_input\n",
    "#md('##### {}'.format(titleBTC)) \n",
    "md(\"- {}{} {}{} [| Skaityti daugiau]({}) \".format(btc['title'],'. ', btc['body'], ' ...', btc['url']))"
   ]
  },
  {
   "cell_type": "code",
   "execution_count": 5,
   "id": "organic-actress",
   "metadata": {
    "execution": {
     "iopub.execute_input": "2022-05-25T03:01:00.261725Z",
     "iopub.status.busy": "2022-05-25T03:01:00.261024Z",
     "iopub.status.idle": "2022-05-25T03:01:00.265000Z",
     "shell.execute_reply": "2022-05-25T03:01:00.264472Z"
    },
    "papermill": {
     "duration": 0.018218,
     "end_time": "2022-05-25T03:01:00.265124",
     "exception": false,
     "start_time": "2022-05-25T03:01:00.246906",
     "status": "completed"
    },
    "tags": []
   },
   "outputs": [
    {
     "data": {
      "text/markdown": [
       "- Ripple price analysis: XRP faces yet another rejection at $0.45 as it continues along horizontal trend.  Ripple price analysis continues to show bearish signs today, as price dropped more than 7 percent over past 24 hours to move as low as $0.39. After failing to pierce past the static level at $0.45 once again, XRP continued a horizontal pattern that has been in play since the 10 percent decline on May... ... [| Skaityti daugiau](https://www.cryptopolitan.com/ripple-price-analysis-2022-05-24/) "
      ],
      "text/plain": [
       "<IPython.core.display.Markdown object>"
      ]
     },
     "execution_count": 5,
     "metadata": {},
     "output_type": "execute_result"
    }
   ],
   "source": [
    "#hide_input\n",
    "#md('##### {}'.format(titleBTC)) \n",
    "md(\"- {}{} {}{} [| Skaityti daugiau]({}) \".format(xrp['title'],'. ', xrp['body'], ' ...', xrp['url']))"
   ]
  },
  {
   "cell_type": "code",
   "execution_count": 6,
   "id": "prompt-farmer",
   "metadata": {
    "execution": {
     "iopub.execute_input": "2022-05-25T03:01:00.291143Z",
     "iopub.status.busy": "2022-05-25T03:01:00.290552Z",
     "iopub.status.idle": "2022-05-25T03:01:00.293413Z",
     "shell.execute_reply": "2022-05-25T03:01:00.293850Z"
    },
    "papermill": {
     "duration": 0.018735,
     "end_time": "2022-05-25T03:01:00.293973",
     "exception": false,
     "start_time": "2022-05-25T03:01:00.275238",
     "status": "completed"
    },
    "tags": []
   },
   "outputs": [
    {
     "data": {
      "text/markdown": [
       "- Fireblocks Adds Support for TRON DAO’s TRX and all TRC20 Tokens.  Singapore, Singapore, 24th May, 2022, Chainwire Fireblocks, the leading digital asset and crypto infrastructure platform, has added support for TRX and all TRC20-based tokens of the TRON DAO blockchain on its institutionally-focused digital asset platform today. With one of the largest and most active communities, remarkably low transaction fees, and high scalability, TRON is the... ... [| Skaityti daugiau](https://www.cryptopolitan.com/fireblocks-adds-support-for-tron-daos-trx-and-all-trc20-tokens/) "
      ],
      "text/plain": [
       "<IPython.core.display.Markdown object>"
      ]
     },
     "execution_count": 6,
     "metadata": {},
     "output_type": "execute_result"
    }
   ],
   "source": [
    "#hide_input\n",
    "#md('##### {}'.format(titleBTC)) \n",
    "md(\"- {}{} {}{} [| Skaityti daugiau]({}) \".format(trx['title'],'. ', trx['body'], ' ...', trx['url']))"
   ]
  },
  {
   "cell_type": "code",
   "execution_count": 7,
   "id": "illegal-greece",
   "metadata": {
    "execution": {
     "iopub.execute_input": "2022-05-25T03:01:00.320740Z",
     "iopub.status.busy": "2022-05-25T03:01:00.319699Z",
     "iopub.status.idle": "2022-05-25T03:01:00.322602Z",
     "shell.execute_reply": "2022-05-25T03:01:00.323036Z"
    },
    "papermill": {
     "duration": 0.018795,
     "end_time": "2022-05-25T03:01:00.323159",
     "exception": false,
     "start_time": "2022-05-25T03:01:00.304364",
     "status": "completed"
    },
    "tags": []
   },
   "outputs": [
    {
     "data": {
      "text/markdown": [
       "- Shiba Inu Dislodges FTX In Average Quantity Held, WhaleStats Report Shows.  The crypto market has been in a sorry state for several months now. Meme tokens like Shiba Inu (SHIB) took the worst blow following the crypto crash. Despite that, Ethereum (ETH) whales have played on this crypto plunge, and it appears that Shiba Inu (SHIB) turned out to be the top choice of the giant [&#8230;] ... [| Skaityti daugiau](https://bitcoinist.com/shiba-inu-dislodges-ftx/) "
      ],
      "text/plain": [
       "<IPython.core.display.Markdown object>"
      ]
     },
     "execution_count": 7,
     "metadata": {},
     "output_type": "execute_result"
    }
   ],
   "source": [
    "#hide_input\n",
    "#md('##### {}'.format(titleBTC)) \n",
    "md(\"- {}{} {}{} [| Skaityti daugiau]({}) \".format(eth['title'],'. ', eth['body'], ' ...', eth['url']))"
   ]
  },
  {
   "cell_type": "code",
   "execution_count": 8,
   "id": "sublime-lounge",
   "metadata": {
    "execution": {
     "iopub.execute_input": "2022-05-25T03:01:00.351433Z",
     "iopub.status.busy": "2022-05-25T03:01:00.350846Z",
     "iopub.status.idle": "2022-05-25T03:01:00.353742Z",
     "shell.execute_reply": "2022-05-25T03:01:00.354179Z"
    },
    "papermill": {
     "duration": 0.019484,
     "end_time": "2022-05-25T03:01:00.354298",
     "exception": false,
     "start_time": "2022-05-25T03:01:00.334814",
     "status": "completed"
    },
    "tags": []
   },
   "outputs": [
    {
     "data": {
      "text/markdown": [
       "- While Cardano Community Awaits For Vasil Hard Fork, Here is How June Looks For ADA Price.  The post While Cardano Community Awaits For Vasil Hard Fork, Here is How June Looks For ADA Price appeared first on Coinpedia - Fintech &amp; Cryptocurreny News Media| Crypto GuideIt can be difficult to get your bearings and predict when the tide will flip next when some coins and tokens are swimming in crimson while others are still green. Here&#8217;s what the signs had to say about Cardano [ADA] to that end. Bullish Signals On The Way At the time of publication, ADA is &#8230; ... [| Skaityti daugiau](https://coinpedia.org/altcoin/while-cardano-community-awaits-for-vasil-hard-fork-here-is-how-june-looks-for-ada-price/) "
      ],
      "text/plain": [
       "<IPython.core.display.Markdown object>"
      ]
     },
     "execution_count": 8,
     "metadata": {},
     "output_type": "execute_result"
    }
   ],
   "source": [
    "#hide_input\n",
    "#md('##### {}'.format(titleBTC)) \n",
    "md(\"- {}{} {}{} [| Skaityti daugiau]({}) \".format(ada['title'],'. ', ada['body'], ' ...', ada['url']))"
   ]
  },
  {
   "cell_type": "code",
   "execution_count": 9,
   "id": "specified-ordering",
   "metadata": {
    "execution": {
     "iopub.execute_input": "2022-05-25T03:01:00.381505Z",
     "iopub.status.busy": "2022-05-25T03:01:00.379462Z",
     "iopub.status.idle": "2022-05-25T03:01:00.383724Z",
     "shell.execute_reply": "2022-05-25T03:01:00.384167Z"
    },
    "papermill": {
     "duration": 0.019245,
     "end_time": "2022-05-25T03:01:00.384292",
     "exception": false,
     "start_time": "2022-05-25T03:01:00.365047",
     "status": "completed"
    },
    "tags": []
   },
   "outputs": [
    {
     "data": {
      "text/markdown": [
       "- Brazil’s Largest Crypto Exchange Partners With Stellar To Work on a CBDC.  Mercado Bitcoin and Stellar are joining forces to develop a minimum viable product as part of the Brazil's efforts to launch a CBDC in 2022. ... [| Skaityti daugiau](https://cryptopotato.com/brazils-largest-crypto-exchange-partners-with-stellar-to-work-on-a-cbdc/) "
      ],
      "text/plain": [
       "<IPython.core.display.Markdown object>"
      ]
     },
     "execution_count": 9,
     "metadata": {},
     "output_type": "execute_result"
    }
   ],
   "source": [
    "#hide_input\n",
    "#md('##### {}'.format(titleBTC)) \n",
    "md(\"- {}{} {}{} [| Skaityti daugiau]({}) \".format(exchange['title'],'. ', exchange['body'], ' ...', exchange['url']))"
   ]
  },
  {
   "cell_type": "code",
   "execution_count": null,
   "id": "tender-livestock",
   "metadata": {
    "papermill": {
     "duration": 0.011417,
     "end_time": "2022-05-25T03:01:00.406873",
     "exception": false,
     "start_time": "2022-05-25T03:01:00.395456",
     "status": "completed"
    },
    "tags": []
   },
   "outputs": [],
   "source": []
  },
  {
   "cell_type": "code",
   "execution_count": null,
   "id": "appreciated-diamond",
   "metadata": {
    "papermill": {
     "duration": 0.011054,
     "end_time": "2022-05-25T03:01:00.429137",
     "exception": false,
     "start_time": "2022-05-25T03:01:00.418083",
     "status": "completed"
    },
    "tags": []
   },
   "outputs": [],
   "source": []
  },
  {
   "cell_type": "code",
   "execution_count": null,
   "id": "romance-sweden",
   "metadata": {
    "papermill": {
     "duration": 0.010985,
     "end_time": "2022-05-25T03:01:00.451162",
     "exception": false,
     "start_time": "2022-05-25T03:01:00.440177",
     "status": "completed"
    },
    "tags": []
   },
   "outputs": [],
   "source": []
  },
  {
   "cell_type": "code",
   "execution_count": null,
   "id": "dietary-statistics",
   "metadata": {
    "papermill": {
     "duration": 0.010996,
     "end_time": "2022-05-25T03:01:00.473304",
     "exception": false,
     "start_time": "2022-05-25T03:01:00.462308",
     "status": "completed"
    },
    "tags": []
   },
   "outputs": [],
   "source": []
  }
 ],
 "metadata": {
  "kernelspec": {
   "display_name": "Python 3",
   "language": "python",
   "name": "python3"
  },
  "language_info": {
   "codemirror_mode": {
    "name": "ipython",
    "version": 3
   },
   "file_extension": ".py",
   "mimetype": "text/x-python",
   "name": "python",
   "nbconvert_exporter": "python",
   "pygments_lexer": "ipython3",
   "version": "3.6.15"
  },
  "papermill": {
   "default_parameters": {},
   "duration": 25.121545,
   "end_time": "2022-05-25T03:01:01.004166",
   "environment_variables": {},
   "exception": null,
   "input_path": "Market-News.ipynb",
   "output_path": "Market-News.ipynb",
   "parameters": {},
   "start_time": "2022-05-25T03:00:35.882621",
   "version": "2.2.2"
  }
 },
 "nbformat": 4,
 "nbformat_minor": 5
}