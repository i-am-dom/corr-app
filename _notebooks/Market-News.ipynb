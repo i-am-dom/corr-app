{
 "cells": [
  {
   "cell_type": "markdown",
   "id": "short-greensboro",
   "metadata": {
    "papermill": {
     "duration": 0.012578,
     "end_time": "2021-07-16T02:01:44.014977",
     "exception": false,
     "start_time": "2021-07-16T02:01:44.002399",
     "status": "completed"
    },
    "tags": []
   },
   "source": [
    "# Kriptovaliutų naujienos"
   ]
  },
  {
   "cell_type": "code",
   "execution_count": 1,
   "id": "functioning-knowing",
   "metadata": {
    "execution": {
     "iopub.execute_input": "2021-07-16T02:01:44.044668Z",
     "iopub.status.busy": "2021-07-16T02:01:44.041722Z",
     "iopub.status.idle": "2021-07-16T02:01:45.193753Z",
     "shell.execute_reply": "2021-07-16T02:01:45.193243Z"
    },
    "papermill": {
     "duration": 1.169341,
     "end_time": "2021-07-16T02:01:45.193883",
     "exception": false,
     "start_time": "2021-07-16T02:01:44.024542",
     "status": "completed"
    },
    "tags": []
   },
   "outputs": [],
   "source": [
    "#hide_input\n",
    "import warnings\n",
    "warnings.filterwarnings('ignore')\n",
    "from scripts.read_data import read_api\n",
    "from scripts.read_data import read_news\n",
    "from scripts.read_data import read_covid\n",
    "import matplotlib.pyplot as plt \n",
    "from IPython.display import Markdown as md"
   ]
  },
  {
   "cell_type": "code",
   "execution_count": 2,
   "id": "shared-acceptance",
   "metadata": {
    "execution": {
     "iopub.execute_input": "2021-07-16T02:01:45.218392Z",
     "iopub.status.busy": "2021-07-16T02:01:45.217475Z",
     "iopub.status.idle": "2021-07-16T02:01:52.601831Z",
     "shell.execute_reply": "2021-07-16T02:01:52.601023Z"
    },
    "papermill": {
     "duration": 7.398471,
     "end_time": "2021-07-16T02:01:52.601963",
     "exception": false,
     "start_time": "2021-07-16T02:01:45.203492",
     "status": "completed"
    },
    "tags": []
   },
   "outputs": [],
   "source": [
    "#hide_input\n",
    "blockchain = read_news('blockchain') \n",
    "btc = read_news('btc') \n",
    "xrp = read_news('xrp') \n",
    "trx = read_news('trx') \n",
    "eth = read_news('eth')  \n",
    "ada = read_news('ada')\n",
    "exchange = read_news('exchange') "
   ]
  },
  {
   "cell_type": "code",
   "execution_count": 3,
   "id": "synthetic-notion",
   "metadata": {
    "execution": {
     "iopub.execute_input": "2021-07-16T02:01:52.625991Z",
     "iopub.status.busy": "2021-07-16T02:01:52.625489Z",
     "iopub.status.idle": "2021-07-16T02:01:52.628206Z",
     "shell.execute_reply": "2021-07-16T02:01:52.627804Z"
    },
    "papermill": {
     "duration": 0.017086,
     "end_time": "2021-07-16T02:01:52.628317",
     "exception": false,
     "start_time": "2021-07-16T02:01:52.611231",
     "status": "completed"
    },
    "tags": []
   },
   "outputs": [
    {
     "data": {
      "text/markdown": [
       "- Thorchain Drained of $25 Million in Ethereum.  The blockchain protocol has paused the network to deal with the attack. ... [| Skaityti daugiau](https://decrypt.co/76097/thorchain-drained-25-million-ethereum) "
      ],
      "text/plain": [
       "<IPython.core.display.Markdown object>"
      ]
     },
     "execution_count": 3,
     "metadata": {},
     "output_type": "execute_result"
    }
   ],
   "source": [
    "#hide_input\n",
    "#md('##### {}'.format(titleBTC)) \n",
    "md(\"- {}{} {}{} [| Skaityti daugiau]({}) \".format(blockchain['title'],'. ', blockchain['body'], ' ...', blockchain['url']))"
   ]
  },
  {
   "cell_type": "code",
   "execution_count": 4,
   "id": "aging-caution",
   "metadata": {
    "execution": {
     "iopub.execute_input": "2021-07-16T02:01:52.651287Z",
     "iopub.status.busy": "2021-07-16T02:01:52.650789Z",
     "iopub.status.idle": "2021-07-16T02:01:52.653939Z",
     "shell.execute_reply": "2021-07-16T02:01:52.653544Z"
    },
    "papermill": {
     "duration": 0.016496,
     "end_time": "2021-07-16T02:01:52.654042",
     "exception": false,
     "start_time": "2021-07-16T02:01:52.637546",
     "status": "completed"
    },
    "tags": []
   },
   "outputs": [
    {
     "data": {
      "text/markdown": [
       "- $7.5 Billion Hedge Fund Investment Manager Predicts Incoming Bitcoin Supply Shock.  Troy Gayeski, co-chief investment officer and senior portfolio manager at SkyBridge Capital, a hedge fund with $7.5 billion in assets under management, has revealed he believes a Bitcoin supply shock may be around the corner. During an interview with Bloomberg, Gayeski noted that on-chain signals indicate “strong holders” are once again accumulating bitcoin while planning […] ... [| Skaityti daugiau](https://www.cryptoglobe.com/latest/2021/07/7-5-billion-hedge-fund-investment-manager-predicts-incoming-bitcoin-supply-shock/) "
      ],
      "text/plain": [
       "<IPython.core.display.Markdown object>"
      ]
     },
     "execution_count": 4,
     "metadata": {},
     "output_type": "execute_result"
    }
   ],
   "source": [
    "#hide_input\n",
    "#md('##### {}'.format(titleBTC)) \n",
    "md(\"- {}{} {}{} [| Skaityti daugiau]({}) \".format(btc['title'],'. ', btc['body'], ' ...', btc['url']))"
   ]
  },
  {
   "cell_type": "code",
   "execution_count": 5,
   "id": "organic-actress",
   "metadata": {
    "execution": {
     "iopub.execute_input": "2021-07-16T02:01:52.677687Z",
     "iopub.status.busy": "2021-07-16T02:01:52.676172Z",
     "iopub.status.idle": "2021-07-16T02:01:52.679909Z",
     "shell.execute_reply": "2021-07-16T02:01:52.679511Z"
    },
    "papermill": {
     "duration": 0.016404,
     "end_time": "2021-07-16T02:01:52.680013",
     "exception": false,
     "start_time": "2021-07-16T02:01:52.663609",
     "status": "completed"
    },
    "tags": []
   },
   "outputs": [
    {
     "data": {
      "text/markdown": [
       "- Cardano, XRP, Litecoin’s markets are missing this and here’s how they can find it.  Bitcoin has not made any noise in the crypto-market of late. It has chosen to confine itself within the $30-$40k price band. What&#8217;s more, the likes of Cardano, Litecoin, and XRP, alts that had once taken off on independent rallies, have now begun to follow the king coin’s footsteps. Most notably, at the time of [&#8230;] ... [| Skaityti daugiau](https://ambcrypto.com/cardano-xrp-litecoins-markets-are-missing-this-and-heres-how-they-can-find-it/) "
      ],
      "text/plain": [
       "<IPython.core.display.Markdown object>"
      ]
     },
     "execution_count": 5,
     "metadata": {},
     "output_type": "execute_result"
    }
   ],
   "source": [
    "#hide_input\n",
    "#md('##### {}'.format(titleBTC)) \n",
    "md(\"- {}{} {}{} [| Skaityti daugiau]({}) \".format(xrp['title'],'. ', xrp['body'], ' ...', xrp['url']))"
   ]
  },
  {
   "cell_type": "code",
   "execution_count": 6,
   "id": "prompt-farmer",
   "metadata": {
    "execution": {
     "iopub.execute_input": "2021-07-16T02:01:52.704148Z",
     "iopub.status.busy": "2021-07-16T02:01:52.702766Z",
     "iopub.status.idle": "2021-07-16T02:01:52.706520Z",
     "shell.execute_reply": "2021-07-16T02:01:52.706126Z"
    },
    "papermill": {
     "duration": 0.016701,
     "end_time": "2021-07-16T02:01:52.706622",
     "exception": false,
     "start_time": "2021-07-16T02:01:52.689921",
     "status": "completed"
    },
    "tags": []
   },
   "outputs": [
    {
     "data": {
      "text/markdown": [
       "- Cardano, TRON, AAVE Price Analysis: 14 July.  As Bitcoin’s price tanked today, all major altcoins were trading in the red too. As observed with the altcoins, many of them trailed below their crucial support levels awaiting a retracement. ADA’s market cap declined by 4.03%, TRX registered an 8.9% decline in market price over the last week, and AAVE, despite a downtrend, observed [&#8230;] ... [| Skaityti daugiau](https://ambcrypto.com/cardano-tron-aave-price-analysis-14-july/) "
      ],
      "text/plain": [
       "<IPython.core.display.Markdown object>"
      ]
     },
     "execution_count": 6,
     "metadata": {},
     "output_type": "execute_result"
    }
   ],
   "source": [
    "#hide_input\n",
    "#md('##### {}'.format(titleBTC)) \n",
    "md(\"- {}{} {}{} [| Skaityti daugiau]({}) \".format(trx['title'],'. ', trx['body'], ' ...', trx['url']))"
   ]
  },
  {
   "cell_type": "code",
   "execution_count": 7,
   "id": "illegal-greece",
   "metadata": {
    "execution": {
     "iopub.execute_input": "2021-07-16T02:01:52.731315Z",
     "iopub.status.busy": "2021-07-16T02:01:52.730824Z",
     "iopub.status.idle": "2021-07-16T02:01:52.733550Z",
     "shell.execute_reply": "2021-07-16T02:01:52.733134Z"
    },
    "papermill": {
     "duration": 0.016782,
     "end_time": "2021-07-16T02:01:52.733648",
     "exception": false,
     "start_time": "2021-07-16T02:01:52.716866",
     "status": "completed"
    },
    "tags": []
   },
   "outputs": [
    {
     "data": {
      "text/markdown": [
       "- Surging Ethereum NFT Game Axie Infinity Plots Esports Push.  Amidst recent 500% gains in token price and marketplace volume alike, Axie Infinity is looking to fund tournaments. ... [| Skaityti daugiau](https://decrypt.co/76091/surging-ethereum-nft-game-axie-infinity-plots-esports-push) "
      ],
      "text/plain": [
       "<IPython.core.display.Markdown object>"
      ]
     },
     "execution_count": 7,
     "metadata": {},
     "output_type": "execute_result"
    }
   ],
   "source": [
    "#hide_input\n",
    "#md('##### {}'.format(titleBTC)) \n",
    "md(\"- {}{} {}{} [| Skaityti daugiau]({}) \".format(eth['title'],'. ', eth['body'], ' ...', eth['url']))"
   ]
  },
  {
   "cell_type": "code",
   "execution_count": 8,
   "id": "sublime-lounge",
   "metadata": {
    "execution": {
     "iopub.execute_input": "2021-07-16T02:01:52.758963Z",
     "iopub.status.busy": "2021-07-16T02:01:52.758472Z",
     "iopub.status.idle": "2021-07-16T02:01:52.761636Z",
     "shell.execute_reply": "2021-07-16T02:01:52.761237Z"
    },
    "papermill": {
     "duration": 0.017685,
     "end_time": "2021-07-16T02:01:52.761736",
     "exception": false,
     "start_time": "2021-07-16T02:01:52.744051",
     "status": "completed"
    },
    "tags": []
   },
   "outputs": [
    {
     "data": {
      "text/markdown": [
       "- Cardano, XRP, Litecoin’s markets are missing this and here’s how they can find it.  Bitcoin has not made any noise in the crypto-market of late. It has chosen to confine itself within the $30-$40k price band. What&#8217;s more, the likes of Cardano, Litecoin, and XRP, alts that had once taken off on independent rallies, have now begun to follow the king coin’s footsteps. Most notably, at the time of [&#8230;] ... [| Skaityti daugiau](https://ambcrypto.com/cardano-xrp-litecoins-markets-are-missing-this-and-heres-how-they-can-find-it/) "
      ],
      "text/plain": [
       "<IPython.core.display.Markdown object>"
      ]
     },
     "execution_count": 8,
     "metadata": {},
     "output_type": "execute_result"
    }
   ],
   "source": [
    "#hide_input\n",
    "#md('##### {}'.format(titleBTC)) \n",
    "md(\"- {}{} {}{} [| Skaityti daugiau]({}) \".format(ada['title'],'. ', ada['body'], ' ...', ada['url']))"
   ]
  },
  {
   "cell_type": "code",
   "execution_count": 9,
   "id": "specified-ordering",
   "metadata": {
    "execution": {
     "iopub.execute_input": "2021-07-16T02:01:52.787461Z",
     "iopub.status.busy": "2021-07-16T02:01:52.786972Z",
     "iopub.status.idle": "2021-07-16T02:01:52.790123Z",
     "shell.execute_reply": "2021-07-16T02:01:52.789709Z"
    },
    "papermill": {
     "duration": 0.017761,
     "end_time": "2021-07-16T02:01:52.790220",
     "exception": false,
     "start_time": "2021-07-16T02:01:52.772459",
     "status": "completed"
    },
    "tags": []
   },
   "outputs": [
    {
     "data": {
      "text/markdown": [
       "- Uniswap-backed fund defends recent UNI token sale.  Earlier this week, CryptoSlate reported on concerning feedback as $10 million in Uniswap (UNI) tokens got sold shortly after the team behind the Decentralized Finance (DeFi) Education Fund (DEF), supported by the leading decentralized exchange (DEX), earned approval for a $20 million grant. The post Uniswap-backed fund defends recent UNI token sale appeared first on CryptoSlate. ... [| Skaityti daugiau](https://cryptoslate.com/uniswap-backed-fund-defends-recent-uni-token-sale/) "
      ],
      "text/plain": [
       "<IPython.core.display.Markdown object>"
      ]
     },
     "execution_count": 9,
     "metadata": {},
     "output_type": "execute_result"
    }
   ],
   "source": [
    "#hide_input\n",
    "#md('##### {}'.format(titleBTC)) \n",
    "md(\"- {}{} {}{} [| Skaityti daugiau]({}) \".format(exchange['title'],'. ', exchange['body'], ' ...', exchange['url']))"
   ]
  },
  {
   "cell_type": "code",
   "execution_count": null,
   "id": "tender-livestock",
   "metadata": {
    "papermill": {
     "duration": 0.011057,
     "end_time": "2021-07-16T02:01:52.812317",
     "exception": false,
     "start_time": "2021-07-16T02:01:52.801260",
     "status": "completed"
    },
    "tags": []
   },
   "outputs": [],
   "source": []
  },
  {
   "cell_type": "code",
   "execution_count": null,
   "id": "appreciated-diamond",
   "metadata": {
    "papermill": {
     "duration": 0.011086,
     "end_time": "2021-07-16T02:01:52.834561",
     "exception": false,
     "start_time": "2021-07-16T02:01:52.823475",
     "status": "completed"
    },
    "tags": []
   },
   "outputs": [],
   "source": []
  },
  {
   "cell_type": "code",
   "execution_count": null,
   "id": "romance-sweden",
   "metadata": {
    "papermill": {
     "duration": 0.01096,
     "end_time": "2021-07-16T02:01:52.856561",
     "exception": false,
     "start_time": "2021-07-16T02:01:52.845601",
     "status": "completed"
    },
    "tags": []
   },
   "outputs": [],
   "source": []
  },
  {
   "cell_type": "code",
   "execution_count": null,
   "id": "dietary-statistics",
   "metadata": {
    "papermill": {
     "duration": 0.01099,
     "end_time": "2021-07-16T02:01:52.878580",
     "exception": false,
     "start_time": "2021-07-16T02:01:52.867590",
     "status": "completed"
    },
    "tags": []
   },
   "outputs": [],
   "source": []
  }
 ],
 "metadata": {
  "kernelspec": {
   "display_name": "Python 3",
   "language": "python",
   "name": "python3"
  },
  "language_info": {
   "codemirror_mode": {
    "name": "ipython",
    "version": 3
   },
   "file_extension": ".py",
   "mimetype": "text/x-python",
   "name": "python",
   "nbconvert_exporter": "python",
   "pygments_lexer": "ipython3",
   "version": "3.6.14"
  },
  "papermill": {
   "default_parameters": {},
   "duration": 11.272384,
   "end_time": "2021-07-16T02:01:54.240502",
   "environment_variables": {},
   "exception": null,
   "input_path": "Market-News.ipynb",
   "output_path": "Market-News.ipynb",
   "parameters": {},
   "start_time": "2021-07-16T02:01:42.968118",
   "version": "2.2.2"
  }
 },
 "nbformat": 4,
 "nbformat_minor": 5
}