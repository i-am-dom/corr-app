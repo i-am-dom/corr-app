{
 "cells": [
  {
   "cell_type": "markdown",
   "id": "short-greensboro",
   "metadata": {
    "papermill": {
     "duration": 0.013681,
     "end_time": "2022-01-22T01:55:42.415170",
     "exception": false,
     "start_time": "2022-01-22T01:55:42.401489",
     "status": "completed"
    },
    "tags": []
   },
   "source": [
    "# Kriptovaliutų naujienos"
   ]
  },
  {
   "cell_type": "code",
   "execution_count": 1,
   "id": "functioning-knowing",
   "metadata": {
    "execution": {
     "iopub.execute_input": "2022-01-22T01:55:42.444996Z",
     "iopub.status.busy": "2022-01-22T01:55:42.444452Z",
     "iopub.status.idle": "2022-01-22T01:55:43.719919Z",
     "shell.execute_reply": "2022-01-22T01:55:43.719386Z"
    },
    "papermill": {
     "duration": 1.295177,
     "end_time": "2022-01-22T01:55:43.720077",
     "exception": false,
     "start_time": "2022-01-22T01:55:42.424900",
     "status": "completed"
    },
    "tags": []
   },
   "outputs": [],
   "source": [
    "#hide_input\n",
    "import warnings\n",
    "warnings.filterwarnings('ignore')\n",
    "from scripts.read_data import read_api\n",
    "from scripts.read_data import read_news\n",
    "from scripts.read_data import read_covid\n",
    "import matplotlib.pyplot as plt \n",
    "from IPython.display import Markdown as md"
   ]
  },
  {
   "cell_type": "code",
   "execution_count": 2,
   "id": "shared-acceptance",
   "metadata": {
    "execution": {
     "iopub.execute_input": "2022-01-22T01:55:43.745695Z",
     "iopub.status.busy": "2022-01-22T01:55:43.744761Z",
     "iopub.status.idle": "2022-01-22T01:55:54.362342Z",
     "shell.execute_reply": "2022-01-22T01:55:54.362793Z"
    },
    "papermill": {
     "duration": 10.633099,
     "end_time": "2022-01-22T01:55:54.362945",
     "exception": false,
     "start_time": "2022-01-22T01:55:43.729846",
     "status": "completed"
    },
    "tags": []
   },
   "outputs": [],
   "source": [
    "#hide_input\n",
    "blockchain = read_news('blockchain') \n",
    "btc = read_news('btc') \n",
    "xrp = read_news('xrp') \n",
    "trx = read_news('trx') \n",
    "eth = read_news('eth')  \n",
    "ada = read_news('ada')\n",
    "exchange = read_news('exchange') "
   ]
  },
  {
   "cell_type": "code",
   "execution_count": 3,
   "id": "synthetic-notion",
   "metadata": {
    "execution": {
     "iopub.execute_input": "2022-01-22T01:55:54.387721Z",
     "iopub.status.busy": "2022-01-22T01:55:54.387174Z",
     "iopub.status.idle": "2022-01-22T01:55:54.389294Z",
     "shell.execute_reply": "2022-01-22T01:55:54.389756Z"
    },
    "papermill": {
     "duration": 0.017642,
     "end_time": "2022-01-22T01:55:54.389890",
     "exception": false,
     "start_time": "2022-01-22T01:55:54.372248",
     "status": "completed"
    },
    "tags": []
   },
   "outputs": [
    {
     "data": {
      "text/markdown": [
       "- New Crypto Wallet Launched By Robinhood For 1,000 Users To Test.  The large trading platform Robinhood Markets (HOOD) just started testing a beta version of its long awaited crypto wallet, allowing 1,000 selected users to send a receive assets from external wallets. The connection to the blockchain marks a milestone for the company. Robinhood’s stock has been free falling, and the cryptocurrency market make up for [&#8230;] ... [| Skaityti daugiau](https://bitcoinist.com/robinhood-launches-beta-awaited-crypto-wallet/) "
      ],
      "text/plain": [
       "<IPython.core.display.Markdown object>"
      ]
     },
     "execution_count": 3,
     "metadata": {},
     "output_type": "execute_result"
    }
   ],
   "source": [
    "#hide_input\n",
    "#md('##### {}'.format(titleBTC)) \n",
    "md(\"- {}{} {}{} [| Skaityti daugiau]({}) \".format(blockchain['title'],'. ', blockchain['body'], ' ...', blockchain['url']))"
   ]
  },
  {
   "cell_type": "code",
   "execution_count": 4,
   "id": "aging-caution",
   "metadata": {
    "execution": {
     "iopub.execute_input": "2022-01-22T01:55:54.414062Z",
     "iopub.status.busy": "2022-01-22T01:55:54.413432Z",
     "iopub.status.idle": "2022-01-22T01:55:54.415545Z",
     "shell.execute_reply": "2022-01-22T01:55:54.415979Z"
    },
    "papermill": {
     "duration": 0.016777,
     "end_time": "2022-01-22T01:55:54.416102",
     "exception": false,
     "start_time": "2022-01-22T01:55:54.399325",
     "status": "completed"
    },
    "tags": []
   },
   "outputs": [
    {
     "data": {
      "text/markdown": [
       "- You Can Use Bitcoin ($BTC) and Ethereum ($ETH) to Buy a Super Rare Black Diamond That May Be From Outer Space.  Sotheby’s, the 277-year-old Brutish auction house, has revealed it’s accepting bitcoin ($BTC), ether ($ETH), and Tether’s $USDT stablecoin as payments for the sale of a rare 555.55-carat black diamond dubbed “The Enigma.” The diamond was declared the largest cut diamond in the world in the 2006 Guinness Book of World Records and was recently put […] ... [| Skaityti daugiau](https://www.cryptoglobe.com/latest/2022/01/you-can-use-bitcoin-btc-and-ethereum-eth-to-buy-a-super-rare-black-diamond-that-may-be-from-outer-space/) "
      ],
      "text/plain": [
       "<IPython.core.display.Markdown object>"
      ]
     },
     "execution_count": 4,
     "metadata": {},
     "output_type": "execute_result"
    }
   ],
   "source": [
    "#hide_input\n",
    "#md('##### {}'.format(titleBTC)) \n",
    "md(\"- {}{} {}{} [| Skaityti daugiau]({}) \".format(btc['title'],'. ', btc['body'], ' ...', btc['url']))"
   ]
  },
  {
   "cell_type": "code",
   "execution_count": 5,
   "id": "organic-actress",
   "metadata": {
    "execution": {
     "iopub.execute_input": "2022-01-22T01:55:54.440321Z",
     "iopub.status.busy": "2022-01-22T01:55:54.439798Z",
     "iopub.status.idle": "2022-01-22T01:55:54.443990Z",
     "shell.execute_reply": "2022-01-22T01:55:54.443574Z"
    },
    "papermill": {
     "duration": 0.018383,
     "end_time": "2022-01-22T01:55:54.444099",
     "exception": false,
     "start_time": "2022-01-22T01:55:54.425716",
     "status": "completed"
    },
    "tags": []
   },
   "outputs": [
    {
     "data": {
      "text/markdown": [
       "- Price analysis 1/21: BTC, ETH, BNB, ADA, SOL, XRP, LUNA, DOT, AVAX, DOGE.  Bitcoin and most major altcoins are close to breaking below critical support levels and traders’ reluctance to buy in the current range could exacerbate the sell-off. ... [| Skaityti daugiau](https://cointelegraph.com/news/price-analysis-1-21-btc-eth-bnb-ada-sol-xrp-luna-dot-avax-doge) "
      ],
      "text/plain": [
       "<IPython.core.display.Markdown object>"
      ]
     },
     "execution_count": 5,
     "metadata": {},
     "output_type": "execute_result"
    }
   ],
   "source": [
    "#hide_input\n",
    "#md('##### {}'.format(titleBTC)) \n",
    "md(\"- {}{} {}{} [| Skaityti daugiau]({}) \".format(xrp['title'],'. ', xrp['body'], ' ...', xrp['url']))"
   ]
  },
  {
   "cell_type": "code",
   "execution_count": 6,
   "id": "prompt-farmer",
   "metadata": {
    "execution": {
     "iopub.execute_input": "2022-01-22T01:55:54.469575Z",
     "iopub.status.busy": "2022-01-22T01:55:54.468422Z",
     "iopub.status.idle": "2022-01-22T01:55:54.472290Z",
     "shell.execute_reply": "2022-01-22T01:55:54.472677Z"
    },
    "papermill": {
     "duration": 0.018765,
     "end_time": "2022-01-22T01:55:54.472804",
     "exception": false,
     "start_time": "2022-01-22T01:55:54.454039",
     "status": "completed"
    },
    "tags": []
   },
   "outputs": [
    {
     "data": {
      "text/markdown": [
       "- TRON (TRX) Annual Statistics Represent an Excellent Track Record.  TRON reached $14.06 billion in TVL and ended the year at $9.98 billion TVL. The networks entire on-chain asset valueThe post has appeared first on thenewscrypto.com ... [| Skaityti daugiau](https://thenewscrypto.com/tron-trx-annual-statistics-represent-an-excellent-track-record/) "
      ],
      "text/plain": [
       "<IPython.core.display.Markdown object>"
      ]
     },
     "execution_count": 6,
     "metadata": {},
     "output_type": "execute_result"
    }
   ],
   "source": [
    "#hide_input\n",
    "#md('##### {}'.format(titleBTC)) \n",
    "md(\"- {}{} {}{} [| Skaityti daugiau]({}) \".format(trx['title'],'. ', trx['body'], ' ...', trx['url']))"
   ]
  },
  {
   "cell_type": "code",
   "execution_count": 7,
   "id": "illegal-greece",
   "metadata": {
    "execution": {
     "iopub.execute_input": "2022-01-22T01:55:54.498572Z",
     "iopub.status.busy": "2022-01-22T01:55:54.498043Z",
     "iopub.status.idle": "2022-01-22T01:55:54.501657Z",
     "shell.execute_reply": "2022-01-22T01:55:54.501214Z"
    },
    "papermill": {
     "duration": 0.018506,
     "end_time": "2022-01-22T01:55:54.501791",
     "exception": false,
     "start_time": "2022-01-22T01:55:54.483285",
     "status": "completed"
    },
    "tags": []
   },
   "outputs": [
    {
     "data": {
      "text/markdown": [
       "- You Can Use Bitcoin ($BTC) and Ethereum ($ETH) to Buy a Super Rare Black Diamond That May Be From Outer Space.  Sotheby’s, the 277-year-old Brutish auction house, has revealed it’s accepting bitcoin ($BTC), ether ($ETH), and Tether’s $USDT stablecoin as payments for the sale of a rare 555.55-carat black diamond dubbed “The Enigma.” The diamond was declared the largest cut diamond in the world in the 2006 Guinness Book of World Records and was recently put […] ... [| Skaityti daugiau](https://www.cryptoglobe.com/latest/2022/01/you-can-use-bitcoin-btc-and-ethereum-eth-to-buy-a-super-rare-black-diamond-that-may-be-from-outer-space/) "
      ],
      "text/plain": [
       "<IPython.core.display.Markdown object>"
      ]
     },
     "execution_count": 7,
     "metadata": {},
     "output_type": "execute_result"
    }
   ],
   "source": [
    "#hide_input\n",
    "#md('##### {}'.format(titleBTC)) \n",
    "md(\"- {}{} {}{} [| Skaityti daugiau]({}) \".format(eth['title'],'. ', eth['body'], ' ...', eth['url']))"
   ]
  },
  {
   "cell_type": "code",
   "execution_count": 8,
   "id": "sublime-lounge",
   "metadata": {
    "execution": {
     "iopub.execute_input": "2022-01-22T01:55:54.527967Z",
     "iopub.status.busy": "2022-01-22T01:55:54.527429Z",
     "iopub.status.idle": "2022-01-22T01:55:54.529863Z",
     "shell.execute_reply": "2022-01-22T01:55:54.530262Z"
    },
    "papermill": {
     "duration": 0.018022,
     "end_time": "2022-01-22T01:55:54.530393",
     "exception": false,
     "start_time": "2022-01-22T01:55:54.512371",
     "status": "completed"
    },
    "tags": []
   },
   "outputs": [
    {
     "data": {
      "text/markdown": [
       "- Cardano Price Up And Down Amidst SundaeSwap Launch.  The price of Cardano (ADA) surged and plunged on the same day, starting with the excitement around the launch of its first decentralized exchange, the DEX SundaeSwap, then following the downtrend of Bitcoin. SundaeSwap’s Wins And Failures ADA’s price had been up around 10% in the last week tied to the launch of Cardano’s beta version of its first decentralized app (DApp) SundaeSwap, a decentralized exchange (DEX) that allows token staking and aims to “decentralize not just the access to financial services, but also the core business model itself.” “We are launching with a Beta label because, while the DEX’s smart contracts have been fully audited and the DEX will meet all industry standards for security, the implementation of fully decentralized governance will not be immediately possible due to existing transaction size limits on the Cardano blockchain.” SundaeSwap’s launch entails the inclusion of its utility token SUNDAE, which offers holders the availability to vote on the governance protocol, plus trade, strake and lend coins. The token’s price will be determined by the community as prove of its goals towards decentralization. “The Sundae Token is a utility token central to the healthy operation of the SundaeSwap DEX. We are focused on building the most useful decentralized exchange protocol we can, in line with the decentralized ethos that we all believe in. As part of that, we strongly believe that this protocol doesn’t... ... [| Skaityti daugiau](https://www.newsbtc.com/all/cardano-price-up-and-down-amidst-sundaeswap-launch/) "
      ],
      "text/plain": [
       "<IPython.core.display.Markdown object>"
      ]
     },
     "execution_count": 8,
     "metadata": {},
     "output_type": "execute_result"
    }
   ],
   "source": [
    "#hide_input\n",
    "#md('##### {}'.format(titleBTC)) \n",
    "md(\"- {}{} {}{} [| Skaityti daugiau]({}) \".format(ada['title'],'. ', ada['body'], ' ...', ada['url']))"
   ]
  },
  {
   "cell_type": "code",
   "execution_count": 9,
   "id": "specified-ordering",
   "metadata": {
    "execution": {
     "iopub.execute_input": "2022-01-22T01:55:54.558009Z",
     "iopub.status.busy": "2022-01-22T01:55:54.557403Z",
     "iopub.status.idle": "2022-01-22T01:55:54.560297Z",
     "shell.execute_reply": "2022-01-22T01:55:54.559876Z"
    },
    "papermill": {
     "duration": 0.018988,
     "end_time": "2022-01-22T01:55:54.560409",
     "exception": false,
     "start_time": "2022-01-22T01:55:54.541421",
     "status": "completed"
    },
    "tags": []
   },
   "outputs": [
    {
     "data": {
      "text/markdown": [
       "- Cardano Price Up And Down Amidst SundaeSwap Launch.  The price of Cardano (ADA) surged and plunged on the same day, starting with the excitement around the launch of its first decentralized exchange, the DEX SundaeSwap, then following the downtrend of Bitcoin. SundaeSwap’s Wins And Failures ADA’s price had been up around 10% in the last week tied to the launch of Cardano’s beta version of its first decentralized app (DApp) SundaeSwap, a decentralized exchange (DEX) that allows token staking and aims to “decentralize not just the access to financial services, but also the core business model itself.” “We are launching with a Beta label because, while the DEX’s smart contracts have been fully audited and the DEX will meet all industry standards for security, the implementation of fully decentralized governance will not be immediately possible due to existing transaction size limits on the Cardano blockchain.” SundaeSwap’s launch entails the inclusion of its utility token SUNDAE, which offers holders the availability to vote on the governance protocol, plus trade, strake and lend coins. The token’s price will be determined by the community as prove of its goals towards decentralization. “The Sundae Token is a utility token central to the healthy operation of the SundaeSwap DEX. We are focused on building the most useful decentralized exchange protocol we can, in line with the decentralized ethos that we all believe in. As part of that, we strongly believe that this protocol doesn’t... ... [| Skaityti daugiau](https://www.newsbtc.com/all/cardano-price-up-and-down-amidst-sundaeswap-launch/) "
      ],
      "text/plain": [
       "<IPython.core.display.Markdown object>"
      ]
     },
     "execution_count": 9,
     "metadata": {},
     "output_type": "execute_result"
    }
   ],
   "source": [
    "#hide_input\n",
    "#md('##### {}'.format(titleBTC)) \n",
    "md(\"- {}{} {}{} [| Skaityti daugiau]({}) \".format(exchange['title'],'. ', exchange['body'], ' ...', exchange['url']))"
   ]
  },
  {
   "cell_type": "code",
   "execution_count": null,
   "id": "tender-livestock",
   "metadata": {
    "papermill": {
     "duration": 0.011439,
     "end_time": "2022-01-22T01:55:54.583296",
     "exception": false,
     "start_time": "2022-01-22T01:55:54.571857",
     "status": "completed"
    },
    "tags": []
   },
   "outputs": [],
   "source": []
  },
  {
   "cell_type": "code",
   "execution_count": null,
   "id": "appreciated-diamond",
   "metadata": {
    "papermill": {
     "duration": 0.0114,
     "end_time": "2022-01-22T01:55:54.606435",
     "exception": false,
     "start_time": "2022-01-22T01:55:54.595035",
     "status": "completed"
    },
    "tags": []
   },
   "outputs": [],
   "source": []
  },
  {
   "cell_type": "code",
   "execution_count": null,
   "id": "romance-sweden",
   "metadata": {
    "papermill": {
     "duration": 0.011264,
     "end_time": "2022-01-22T01:55:54.629132",
     "exception": false,
     "start_time": "2022-01-22T01:55:54.617868",
     "status": "completed"
    },
    "tags": []
   },
   "outputs": [],
   "source": []
  },
  {
   "cell_type": "code",
   "execution_count": null,
   "id": "dietary-statistics",
   "metadata": {
    "papermill": {
     "duration": 0.012495,
     "end_time": "2022-01-22T01:55:54.652951",
     "exception": false,
     "start_time": "2022-01-22T01:55:54.640456",
     "status": "completed"
    },
    "tags": []
   },
   "outputs": [],
   "source": []
  }
 ],
 "metadata": {
  "kernelspec": {
   "display_name": "Python 3",
   "language": "python",
   "name": "python3"
  },
  "language_info": {
   "codemirror_mode": {
    "name": "ipython",
    "version": 3
   },
   "file_extension": ".py",
   "mimetype": "text/x-python",
   "name": "python",
   "nbconvert_exporter": "python",
   "pygments_lexer": "ipython3",
   "version": "3.6.15"
  },
  "papermill": {
   "default_parameters": {},
   "duration": 13.713247,
   "end_time": "2022-01-22T01:55:55.182793",
   "environment_variables": {},
   "exception": null,
   "input_path": "Market-News.ipynb",
   "output_path": "Market-News.ipynb",
   "parameters": {},
   "start_time": "2022-01-22T01:55:41.469546",
   "version": "2.2.2"
  }
 },
 "nbformat": 4,
 "nbformat_minor": 5
}