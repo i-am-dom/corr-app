{
 "cells": [
  {
   "cell_type": "markdown",
   "id": "short-greensboro",
   "metadata": {
    "papermill": {
     "duration": 0.012933,
     "end_time": "2022-06-30T03:15:17.077766",
     "exception": false,
     "start_time": "2022-06-30T03:15:17.064833",
     "status": "completed"
    },
    "tags": []
   },
   "source": [
    "# Kriptovaliutų naujienos"
   ]
  },
  {
   "cell_type": "code",
   "execution_count": 1,
   "id": "functioning-knowing",
   "metadata": {
    "execution": {
     "iopub.execute_input": "2022-06-30T03:15:17.106975Z",
     "iopub.status.busy": "2022-06-30T03:15:17.106416Z",
     "iopub.status.idle": "2022-06-30T03:15:18.244449Z",
     "shell.execute_reply": "2022-06-30T03:15:18.243476Z"
    },
    "papermill": {
     "duration": 1.156934,
     "end_time": "2022-06-30T03:15:18.244597",
     "exception": false,
     "start_time": "2022-06-30T03:15:17.087663",
     "status": "completed"
    },
    "tags": []
   },
   "outputs": [],
   "source": [
    "#hide_input\n",
    "import warnings\n",
    "warnings.filterwarnings('ignore')\n",
    "from scripts.read_data import read_api\n",
    "from scripts.read_data import read_news\n",
    "from scripts.read_data import read_covid\n",
    "import matplotlib.pyplot as plt \n",
    "from IPython.display import Markdown as md"
   ]
  },
  {
   "cell_type": "code",
   "execution_count": 2,
   "id": "shared-acceptance",
   "metadata": {
    "execution": {
     "iopub.execute_input": "2022-06-30T03:15:18.269360Z",
     "iopub.status.busy": "2022-06-30T03:15:18.268776Z",
     "iopub.status.idle": "2022-06-30T03:15:29.876242Z",
     "shell.execute_reply": "2022-06-30T03:15:29.875303Z"
    },
    "papermill": {
     "duration": 11.621671,
     "end_time": "2022-06-30T03:15:29.876367",
     "exception": false,
     "start_time": "2022-06-30T03:15:18.254696",
     "status": "completed"
    },
    "tags": []
   },
   "outputs": [],
   "source": [
    "#hide_input\n",
    "blockchain = read_news('blockchain') \n",
    "btc = read_news('btc') \n",
    "xrp = read_news('xrp') \n",
    "trx = read_news('trx') \n",
    "eth = read_news('eth')  \n",
    "ada = read_news('ada')\n",
    "exchange = read_news('exchange') "
   ]
  },
  {
   "cell_type": "code",
   "execution_count": 3,
   "id": "synthetic-notion",
   "metadata": {
    "execution": {
     "iopub.execute_input": "2022-06-30T03:15:29.901189Z",
     "iopub.status.busy": "2022-06-30T03:15:29.900613Z",
     "iopub.status.idle": "2022-06-30T03:15:29.903232Z",
     "shell.execute_reply": "2022-06-30T03:15:29.903654Z"
    },
    "papermill": {
     "duration": 0.017895,
     "end_time": "2022-06-30T03:15:29.903764",
     "exception": false,
     "start_time": "2022-06-30T03:15:29.885869",
     "status": "completed"
    },
    "tags": []
   },
   "outputs": [
    {
     "data": {
      "text/markdown": [
       "- Bitcoin fails to retain $20K: The market remains bearish.  Bitcoin price analysis for June 30, 2022, comes on a bearish note for the world&#8217;s biggest cryptocurrency as we can confirm a price drop of more than 1.5% in the last 24 hours and it seems that investors can expect BTC to lose $20K as buying pressure remains low. In order to retain the $20K [&#8230;]The post Bitcoin fails to retain $20K: The market remains bearish appeared first on Blockchain, Crypto and Stock News. ... [| Skaityti daugiau](https://thecoinrise.com/bitcoin-fails-to-retain-20k-the-market-remains-bearish/) "
      ],
      "text/plain": [
       "<IPython.core.display.Markdown object>"
      ]
     },
     "execution_count": 3,
     "metadata": {},
     "output_type": "execute_result"
    }
   ],
   "source": [
    "#hide_input\n",
    "#md('##### {}'.format(titleBTC)) \n",
    "md(\"- {}{} {}{} [| Skaityti daugiau]({}) \".format(blockchain['title'],'. ', blockchain['body'], ' ...', blockchain['url']))"
   ]
  },
  {
   "cell_type": "code",
   "execution_count": 4,
   "id": "aging-caution",
   "metadata": {
    "execution": {
     "iopub.execute_input": "2022-06-30T03:15:29.926733Z",
     "iopub.status.busy": "2022-06-30T03:15:29.926186Z",
     "iopub.status.idle": "2022-06-30T03:15:29.929594Z",
     "shell.execute_reply": "2022-06-30T03:15:29.929141Z"
    },
    "papermill": {
     "duration": 0.016429,
     "end_time": "2022-06-30T03:15:29.929687",
     "exception": false,
     "start_time": "2022-06-30T03:15:29.913258",
     "status": "completed"
    },
    "tags": []
   },
   "outputs": [
    {
     "data": {
      "text/markdown": [
       "- TA: Bitcoin is Plunging, But It’s Too Early to Say Bulls Have Given Up.  Bitcoin is struggling below the $20,000 zone against the US Dollar. BTC remains at a risk of more losses if the bulls fail to protect the $19,800 support zone. Bitcoin is showing bearish signs below the $21,000 and $20,500 levels. The price is now trading below the $20,400 level and the 100 hourly simple moving average. There is a key bearish trend line forming with resistance near $20,400 on the hourly chart of the BTC/USD pair (data feed from Kraken). The pair could decline further if there is a clear move below the $19,800 zone. Bitcoin Price Remains At Risk Bitcoin price failed to recover above the $21,000 pivot level. The price remained in a bearish zone and extended its decline below the $20,500 support zone. There was also a close below the $20,250 level. BTC spiked below the $20,000 level, but the bulls were active near $19,800 level. A low is formed near $19,828 and the price is now consolidating losses. It is now trading below the $20,400 level and the 100 hourly simple moving average. An immediate resistance on the upside is near the $20,150 level. It is near the 23.6% Fib retracement level of the recent decline from the $21,188 swing high to $19,828 low. The next key resistance is near the $20,400 zone. There is also a key bearish trend line forming with resistance near $20,400 on the hourly chart of the BTC/USD pair. The trend line is near the 50% Fib retracement level of the recent decline from the $21,188 swing ... ... [| Skaityti daugiau](https://www.newsbtc.com/analysis/btc/bitcoin-is-plunging-20k/) "
      ],
      "text/plain": [
       "<IPython.core.display.Markdown object>"
      ]
     },
     "execution_count": 4,
     "metadata": {},
     "output_type": "execute_result"
    }
   ],
   "source": [
    "#hide_input\n",
    "#md('##### {}'.format(titleBTC)) \n",
    "md(\"- {}{} {}{} [| Skaityti daugiau]({}) \".format(btc['title'],'. ', btc['body'], ' ...', btc['url']))"
   ]
  },
  {
   "cell_type": "code",
   "execution_count": 5,
   "id": "organic-actress",
   "metadata": {
    "execution": {
     "iopub.execute_input": "2022-06-30T03:15:29.953545Z",
     "iopub.status.busy": "2022-06-30T03:15:29.952991Z",
     "iopub.status.idle": "2022-06-30T03:15:29.956347Z",
     "shell.execute_reply": "2022-06-30T03:15:29.955906Z"
    },
    "papermill": {
     "duration": 0.016923,
     "end_time": "2022-06-30T03:15:29.956440",
     "exception": false,
     "start_time": "2022-06-30T03:15:29.939517",
     "status": "completed"
    },
    "tags": []
   },
   "outputs": [
    {
     "data": {
      "text/markdown": [
       "- XRP traders can capitalize on this pattern’s break for near-term profits.  XRP has been steadily declining over the last three months after plunging below the $0.795-level. The buyers have not been able to inflict a trend-altering rally beyond the bonds of its 20 EMA (red) yet. A rebound from the immediate two-month trendline support (white, dashed) can provide near-term recovery chances. the sellers would strive to [&#8230;] ... [| Skaityti daugiau](https://ambcrypto.com/xrp-traders-can-capitalize-on-this-patterns-break-for-near-term-profits/) "
      ],
      "text/plain": [
       "<IPython.core.display.Markdown object>"
      ]
     },
     "execution_count": 5,
     "metadata": {},
     "output_type": "execute_result"
    }
   ],
   "source": [
    "#hide_input\n",
    "#md('##### {}'.format(titleBTC)) \n",
    "md(\"- {}{} {}{} [| Skaityti daugiau]({}) \".format(xrp['title'],'. ', xrp['body'], ' ...', xrp['url']))"
   ]
  },
  {
   "cell_type": "code",
   "execution_count": 6,
   "id": "prompt-farmer",
   "metadata": {
    "execution": {
     "iopub.execute_input": "2022-06-30T03:15:29.979160Z",
     "iopub.status.busy": "2022-06-30T03:15:29.978619Z",
     "iopub.status.idle": "2022-06-30T03:15:29.983506Z",
     "shell.execute_reply": "2022-06-30T03:15:29.982987Z"
    },
    "papermill": {
     "duration": 0.017051,
     "end_time": "2022-06-30T03:15:29.983600",
     "exception": false,
     "start_time": "2022-06-30T03:15:29.966549",
     "status": "completed"
    },
    "tags": []
   },
   "outputs": [
    {
     "data": {
      "text/markdown": [
       "- Tron (TRX) Price Analysis: Rally Possible If It Clears $0.072.  Tron price started a decent increase from the $0.0465 level against the US Dollar. TRX price is now trading above $0.0600 and the 55 simple moving average (4-hours). There is a major bearish trend line forming with resistance near $0.0700 on the 4-hours chart (data feed via Bitfinex). The pair could continue to move up...The post Tron (TRX) Price Analysis: Rally Possible If It Clears $0.072 appeared first on Live Bitcoin News. ... [| Skaityti daugiau](https://www.livebitcoinnews.com/tron-trx-price-analysis-rally-possible-if-it-clears-0-072/) "
      ],
      "text/plain": [
       "<IPython.core.display.Markdown object>"
      ]
     },
     "execution_count": 6,
     "metadata": {},
     "output_type": "execute_result"
    }
   ],
   "source": [
    "#hide_input\n",
    "#md('##### {}'.format(titleBTC)) \n",
    "md(\"- {}{} {}{} [| Skaityti daugiau]({}) \".format(trx['title'],'. ', trx['body'], ' ...', trx['url']))"
   ]
  },
  {
   "cell_type": "code",
   "execution_count": 7,
   "id": "illegal-greece",
   "metadata": {
    "execution": {
     "iopub.execute_input": "2022-06-30T03:15:30.009235Z",
     "iopub.status.busy": "2022-06-30T03:15:30.008656Z",
     "iopub.status.idle": "2022-06-30T03:15:30.011601Z",
     "shell.execute_reply": "2022-06-30T03:15:30.011073Z"
    },
    "papermill": {
     "duration": 0.017528,
     "end_time": "2022-06-30T03:15:30.011693",
     "exception": false,
     "start_time": "2022-06-30T03:15:29.994165",
     "status": "completed"
    },
    "tags": []
   },
   "outputs": [
    {
     "data": {
      "text/markdown": [
       "- Bitcoin, Ethereum, Shiba Inu, and Litecoin Daily Price Analyses – 29 June Roundup.  The performance of the global crypto market has seen no improvement despite the previous bullish wave. It is back to bearishness as the gains for Bitcoin, Ethereum, and others have eroded, affecting the overall market. The negative changes continue to plague the market as the losses increase. The changing situation might affect the investors if... ... [| Skaityti daugiau](https://www.cryptopolitan.com/bitcoin-ethereum-shiba-inu-and-litecoin-daily-price-analyses-29-june-roundup/) "
      ],
      "text/plain": [
       "<IPython.core.display.Markdown object>"
      ]
     },
     "execution_count": 7,
     "metadata": {},
     "output_type": "execute_result"
    }
   ],
   "source": [
    "#hide_input\n",
    "#md('##### {}'.format(titleBTC)) \n",
    "md(\"- {}{} {}{} [| Skaityti daugiau]({}) \".format(eth['title'],'. ', eth['body'], ' ...', eth['url']))"
   ]
  },
  {
   "cell_type": "code",
   "execution_count": 8,
   "id": "sublime-lounge",
   "metadata": {
    "execution": {
     "iopub.execute_input": "2022-06-30T03:15:30.037735Z",
     "iopub.status.busy": "2022-06-30T03:15:30.037177Z",
     "iopub.status.idle": "2022-06-30T03:15:30.041023Z",
     "shell.execute_reply": "2022-06-30T03:15:30.040474Z"
    },
    "papermill": {
     "duration": 0.01766,
     "end_time": "2022-06-30T03:15:30.041117",
     "exception": false,
     "start_time": "2022-06-30T03:15:30.023457",
     "status": "completed"
    },
    "tags": []
   },
   "outputs": [
    {
     "data": {
      "text/markdown": [
       "- Cardano's Vasil hard fork proposal submitted: Countdown commences.  From July 3 the four-week window for application developers and exchanges to test the upcoming Cardano upgrade begins before it's launched onto the mainnet. ... [| Skaityti daugiau](https://cointelegraph.com/news/cardano-s-vasil-hard-fork-proposal-submitted-countdown-commences) "
      ],
      "text/plain": [
       "<IPython.core.display.Markdown object>"
      ]
     },
     "execution_count": 8,
     "metadata": {},
     "output_type": "execute_result"
    }
   ],
   "source": [
    "#hide_input\n",
    "#md('##### {}'.format(titleBTC)) \n",
    "md(\"- {}{} {}{} [| Skaityti daugiau]({}) \".format(ada['title'],'. ', ada['body'], ' ...', ada['url']))"
   ]
  },
  {
   "cell_type": "code",
   "execution_count": 9,
   "id": "specified-ordering",
   "metadata": {
    "execution": {
     "iopub.execute_input": "2022-06-30T03:15:30.067373Z",
     "iopub.status.busy": "2022-06-30T03:15:30.066826Z",
     "iopub.status.idle": "2022-06-30T03:15:30.070184Z",
     "shell.execute_reply": "2022-06-30T03:15:30.069739Z"
    },
    "papermill": {
     "duration": 0.018108,
     "end_time": "2022-06-30T03:15:30.070276",
     "exception": false,
     "start_time": "2022-06-30T03:15:30.052168",
     "status": "completed"
    },
    "tags": []
   },
   "outputs": [
    {
     "data": {
      "text/markdown": [
       "- Indian Crypto Companies Are Relocating to Dubai, Singapore.  “A favorable tax regime, supportive legislation, access to capital and a wealth of talent makes Dubai the Web3 hotspot of the future,” a crypto exec told BlockworksThe post Indian Crypto Companies Are Relocating to Dubai, Singapore appeared first on Blockworks. ... [| Skaityti daugiau](https://blockworks.co/indian-crypto-companies-are-relocating-to-dubai-singapore/) "
      ],
      "text/plain": [
       "<IPython.core.display.Markdown object>"
      ]
     },
     "execution_count": 9,
     "metadata": {},
     "output_type": "execute_result"
    }
   ],
   "source": [
    "#hide_input\n",
    "#md('##### {}'.format(titleBTC)) \n",
    "md(\"- {}{} {}{} [| Skaityti daugiau]({}) \".format(exchange['title'],'. ', exchange['body'], ' ...', exchange['url']))"
   ]
  },
  {
   "cell_type": "code",
   "execution_count": null,
   "id": "tender-livestock",
   "metadata": {
    "papermill": {
     "duration": 0.012732,
     "end_time": "2022-06-30T03:15:30.094407",
     "exception": false,
     "start_time": "2022-06-30T03:15:30.081675",
     "status": "completed"
    },
    "tags": []
   },
   "outputs": [],
   "source": []
  },
  {
   "cell_type": "code",
   "execution_count": null,
   "id": "appreciated-diamond",
   "metadata": {
    "papermill": {
     "duration": 0.011563,
     "end_time": "2022-06-30T03:15:30.117488",
     "exception": false,
     "start_time": "2022-06-30T03:15:30.105925",
     "status": "completed"
    },
    "tags": []
   },
   "outputs": [],
   "source": []
  },
  {
   "cell_type": "code",
   "execution_count": null,
   "id": "romance-sweden",
   "metadata": {
    "papermill": {
     "duration": 0.011327,
     "end_time": "2022-06-30T03:15:30.140176",
     "exception": false,
     "start_time": "2022-06-30T03:15:30.128849",
     "status": "completed"
    },
    "tags": []
   },
   "outputs": [],
   "source": []
  },
  {
   "cell_type": "code",
   "execution_count": null,
   "id": "dietary-statistics",
   "metadata": {
    "papermill": {
     "duration": 0.011309,
     "end_time": "2022-06-30T03:15:30.162929",
     "exception": false,
     "start_time": "2022-06-30T03:15:30.151620",
     "status": "completed"
    },
    "tags": []
   },
   "outputs": [],
   "source": []
  }
 ],
 "metadata": {
  "kernelspec": {
   "display_name": "Python 3",
   "language": "python",
   "name": "python3"
  },
  "language_info": {
   "codemirror_mode": {
    "name": "ipython",
    "version": 3
   },
   "file_extension": ".py",
   "mimetype": "text/x-python",
   "name": "python",
   "nbconvert_exporter": "python",
   "pygments_lexer": "ipython3",
   "version": "3.6.15"
  },
  "papermill": {
   "default_parameters": {},
   "duration": 14.328347,
   "end_time": "2022-06-30T03:15:30.490956",
   "environment_variables": {},
   "exception": null,
   "input_path": "Market-News.ipynb",
   "output_path": "Market-News.ipynb",
   "parameters": {},
   "start_time": "2022-06-30T03:15:16.162609",
   "version": "2.2.2"
  }
 },
 "nbformat": 4,
 "nbformat_minor": 5
}