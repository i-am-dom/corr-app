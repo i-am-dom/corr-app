{
 "cells": [
  {
   "cell_type": "markdown",
   "id": "short-greensboro",
   "metadata": {
    "papermill": {
     "duration": 0.014469,
     "end_time": "2021-12-10T02:00:10.281244",
     "exception": false,
     "start_time": "2021-12-10T02:00:10.266775",
     "status": "completed"
    },
    "tags": []
   },
   "source": [
    "# Kriptovaliutų naujienos"
   ]
  },
  {
   "cell_type": "code",
   "execution_count": 1,
   "id": "functioning-knowing",
   "metadata": {
    "execution": {
     "iopub.execute_input": "2021-12-10T02:00:10.310583Z",
     "iopub.status.busy": "2021-12-10T02:00:10.310087Z",
     "iopub.status.idle": "2021-12-10T02:00:11.578947Z",
     "shell.execute_reply": "2021-12-10T02:00:11.578037Z"
    },
    "papermill": {
     "duration": 1.288745,
     "end_time": "2021-12-10T02:00:11.579142",
     "exception": false,
     "start_time": "2021-12-10T02:00:10.290397",
     "status": "completed"
    },
    "tags": []
   },
   "outputs": [],
   "source": [
    "#hide_input\n",
    "import warnings\n",
    "warnings.filterwarnings('ignore')\n",
    "from scripts.read_data import read_api\n",
    "from scripts.read_data import read_news\n",
    "from scripts.read_data import read_covid\n",
    "import matplotlib.pyplot as plt \n",
    "from IPython.display import Markdown as md"
   ]
  },
  {
   "cell_type": "code",
   "execution_count": 2,
   "id": "shared-acceptance",
   "metadata": {
    "execution": {
     "iopub.execute_input": "2021-12-10T02:00:11.604319Z",
     "iopub.status.busy": "2021-12-10T02:00:11.603451Z",
     "iopub.status.idle": "2021-12-10T02:00:25.015025Z",
     "shell.execute_reply": "2021-12-10T02:00:25.013488Z"
    },
    "papermill": {
     "duration": 13.427239,
     "end_time": "2021-12-10T02:00:25.015421",
     "exception": false,
     "start_time": "2021-12-10T02:00:11.588182",
     "status": "completed"
    },
    "tags": []
   },
   "outputs": [],
   "source": [
    "#hide_input\n",
    "blockchain = read_news('blockchain') \n",
    "btc = read_news('btc') \n",
    "xrp = read_news('xrp') \n",
    "trx = read_news('trx') \n",
    "eth = read_news('eth')  \n",
    "ada = read_news('ada')\n",
    "exchange = read_news('exchange') "
   ]
  },
  {
   "cell_type": "code",
   "execution_count": 3,
   "id": "synthetic-notion",
   "metadata": {
    "execution": {
     "iopub.execute_input": "2021-12-10T02:00:25.043494Z",
     "iopub.status.busy": "2021-12-10T02:00:25.042809Z",
     "iopub.status.idle": "2021-12-10T02:00:25.045909Z",
     "shell.execute_reply": "2021-12-10T02:00:25.045471Z"
    },
    "papermill": {
     "duration": 0.01829,
     "end_time": "2021-12-10T02:00:25.046019",
     "exception": false,
     "start_time": "2021-12-10T02:00:25.027729",
     "status": "completed"
    },
    "tags": []
   },
   "outputs": [
    {
     "data": {
      "text/markdown": [
       "- Solana reportedly hit by DDoS attack but network remains online.  The Solana blockchain has reportedly suffered another DDoS attack that temporarily clogged the network, however the network appeared to remain online.  ... [| Skaityti daugiau](https://cointelegraph.com/news/solana-reportedly-hit-by-ddos-attack-but-network-remains-online) "
      ],
      "text/plain": [
       "<IPython.core.display.Markdown object>"
      ]
     },
     "execution_count": 3,
     "metadata": {},
     "output_type": "execute_result"
    }
   ],
   "source": [
    "#hide_input\n",
    "#md('##### {}'.format(titleBTC)) \n",
    "md(\"- {}{} {}{} [| Skaityti daugiau]({}) \".format(blockchain['title'],'. ', blockchain['body'], ' ...', blockchain['url']))"
   ]
  },
  {
   "cell_type": "code",
   "execution_count": 4,
   "id": "aging-caution",
   "metadata": {
    "execution": {
     "iopub.execute_input": "2021-12-10T02:00:25.068656Z",
     "iopub.status.busy": "2021-12-10T02:00:25.068122Z",
     "iopub.status.idle": "2021-12-10T02:00:25.071916Z",
     "shell.execute_reply": "2021-12-10T02:00:25.071532Z"
    },
    "papermill": {
     "duration": 0.017129,
     "end_time": "2021-12-10T02:00:25.072009",
     "exception": false,
     "start_time": "2021-12-10T02:00:25.054880",
     "status": "completed"
    },
    "tags": []
   },
   "outputs": [
    {
     "data": {
      "text/markdown": [
       "- Countries Are Leaving The USD Standard, They Need A Bitcoin Strategy.  As dedollarization accelerates around the world, countries like Russia and India better have a bitcoin accumulation strategy. ... [| Skaityti daugiau](https://bitcoinmagazine.com/markets/countries-leaving-usd-need-bitcoin-strategy) "
      ],
      "text/plain": [
       "<IPython.core.display.Markdown object>"
      ]
     },
     "execution_count": 4,
     "metadata": {},
     "output_type": "execute_result"
    }
   ],
   "source": [
    "#hide_input\n",
    "#md('##### {}'.format(titleBTC)) \n",
    "md(\"- {}{} {}{} [| Skaityti daugiau]({}) \".format(btc['title'],'. ', btc['body'], ' ...', btc['url']))"
   ]
  },
  {
   "cell_type": "code",
   "execution_count": 5,
   "id": "organic-actress",
   "metadata": {
    "execution": {
     "iopub.execute_input": "2021-12-10T02:00:25.096242Z",
     "iopub.status.busy": "2021-12-10T02:00:25.094794Z",
     "iopub.status.idle": "2021-12-10T02:00:25.100265Z",
     "shell.execute_reply": "2021-12-10T02:00:25.099643Z"
    },
    "papermill": {
     "duration": 0.019972,
     "end_time": "2021-12-10T02:00:25.100382",
     "exception": false,
     "start_time": "2021-12-10T02:00:25.080410",
     "status": "completed"
    },
    "tags": []
   },
   "outputs": [
    {
     "data": {
      "text/markdown": [
       "- XRP, Shiba Inu, EOS Price Analysis: 9 December.  While the broader market remained stable, several cryptos displayed promising recovery signs. XRP managed to cross the 38.2% Fibonacci level and noted a double-digit 24-hour gain. Contrarily, EOS saw a pullback from the aforestated level as the bulls again strive to retest it. Shiba Inu, on the other hand, projected a slight bearish bias. XRP [&#8230;] ... [| Skaityti daugiau](https://ambcrypto.com/xrp-shiba-inu-eos-price-analysis-9-december/) "
      ],
      "text/plain": [
       "<IPython.core.display.Markdown object>"
      ]
     },
     "execution_count": 5,
     "metadata": {},
     "output_type": "execute_result"
    }
   ],
   "source": [
    "#hide_input\n",
    "#md('##### {}'.format(titleBTC)) \n",
    "md(\"- {}{} {}{} [| Skaityti daugiau]({}) \".format(xrp['title'],'. ', xrp['body'], ' ...', xrp['url']))"
   ]
  },
  {
   "cell_type": "code",
   "execution_count": 6,
   "id": "prompt-farmer",
   "metadata": {
    "execution": {
     "iopub.execute_input": "2021-12-10T02:00:25.125742Z",
     "iopub.status.busy": "2021-12-10T02:00:25.124893Z",
     "iopub.status.idle": "2021-12-10T02:00:25.127941Z",
     "shell.execute_reply": "2021-12-10T02:00:25.128686Z"
    },
    "papermill": {
     "duration": 0.018741,
     "end_time": "2021-12-10T02:00:25.128862",
     "exception": false,
     "start_time": "2021-12-10T02:00:25.110121",
     "status": "completed"
    },
    "tags": []
   },
   "outputs": [
    {
     "data": {
      "text/markdown": [
       "- Tron Price Analysis: The TRX Coin Preparing For The Recovery Phase With Eyes On The $0.123 Mark.  The second half of November month eliminated all the gains the TRX coin gathered during October. With this recent price fall, the coin lost around 33% and plunged to the previous higher low of $0.081. However, the coin price is trying to bounce back from this support, aiming at the overhead resistance of $0.123 Key The post Tron Price Analysis: The TRX Coin Preparing For The Recovery Phase With Eyes On The $0.123 Mark appeared first on Coingape. ... [| Skaityti daugiau](https://coingape.com/tron-price-analysis-the-trx-token-preparing-for-the-recovery-phase-with-eyes-on-the-0-123-mark/) "
      ],
      "text/plain": [
       "<IPython.core.display.Markdown object>"
      ]
     },
     "execution_count": 6,
     "metadata": {},
     "output_type": "execute_result"
    }
   ],
   "source": [
    "#hide_input\n",
    "#md('##### {}'.format(titleBTC)) \n",
    "md(\"- {}{} {}{} [| Skaityti daugiau]({}) \".format(trx['title'],'. ', trx['body'], ' ...', trx['url']))"
   ]
  },
  {
   "cell_type": "code",
   "execution_count": 7,
   "id": "illegal-greece",
   "metadata": {
    "execution": {
     "iopub.execute_input": "2021-12-10T02:00:25.154610Z",
     "iopub.status.busy": "2021-12-10T02:00:25.154036Z",
     "iopub.status.idle": "2021-12-10T02:00:25.157547Z",
     "shell.execute_reply": "2021-12-10T02:00:25.157088Z"
    },
    "papermill": {
     "duration": 0.017513,
     "end_time": "2021-12-10T02:00:25.157646",
     "exception": false,
     "start_time": "2021-12-10T02:00:25.140133",
     "status": "completed"
    },
    "tags": []
   },
   "outputs": [
    {
     "data": {
      "text/markdown": [
       "- BTC Retraces After Congressional Meeting on Digital Assets: Markets Wrap.  BTC dominance hovers above critical support near 40% as congressional hearings did not prevent a price slideThe post BTC Retraces After Congressional Meeting on Digital Assets: Markets Wrap appeared first on Blockworks. ... [| Skaityti daugiau](https://blockworks.co/btc-retraces-after-congressional-meeting-on-digital-assets-markets-wrap/) "
      ],
      "text/plain": [
       "<IPython.core.display.Markdown object>"
      ]
     },
     "execution_count": 7,
     "metadata": {},
     "output_type": "execute_result"
    }
   ],
   "source": [
    "#hide_input\n",
    "#md('##### {}'.format(titleBTC)) \n",
    "md(\"- {}{} {}{} [| Skaityti daugiau]({}) \".format(eth['title'],'. ', eth['body'], ' ...', eth['url']))"
   ]
  },
  {
   "cell_type": "code",
   "execution_count": 8,
   "id": "sublime-lounge",
   "metadata": {
    "execution": {
     "iopub.execute_input": "2021-12-10T02:00:25.182095Z",
     "iopub.status.busy": "2021-12-10T02:00:25.181621Z",
     "iopub.status.idle": "2021-12-10T02:00:25.184581Z",
     "shell.execute_reply": "2021-12-10T02:00:25.184122Z"
    },
    "papermill": {
     "duration": 0.016723,
     "end_time": "2021-12-10T02:00:25.184688",
     "exception": false,
     "start_time": "2021-12-10T02:00:25.167965",
     "status": "completed"
    },
    "tags": []
   },
   "outputs": [
    {
     "data": {
      "text/markdown": [
       "- First ERC-20 Converter Goes Live On Cardano Testnet.  Cardano has marked the launch of its first-ever ERC-20 converter. The project which had been in the works had finally reached its launch milestone with help from IOG, the developer behind Cardano. With the converter, the network will be able to support the migration of ERC-20 tokens from Ethereum to the Cardano blockchain. Development on the blockchain has been ramping up since the launch of smart contracts capability. The network has seen the first signs of DeFi as developers begin to test out their DApps with help from the foundation. This has inspired even more development with the community waiting with bated breaths for the day they can finally access DeFi services on Cardano. Related Reading &#124; Here’s What Cardano Founder Charles Hoskinson Wants For Christmas AGIX ERC-20 Converter SingularityNET brings this anticipated capability to the Cardano blockchain. It tested the converter with its AGIX token. Presently, the converter is live on the testnet and users are able to move AGIX tokens from Cardano to Ethereum and vice versa using the AGIX ERC-20 Converter. This will allow for AGIX transactions on a network with a much higher transaction capacity and cheaper fees. Cardano has always been big on interoperability and this converter helps push it towards its goal of complete interoperability with other blockchains. Founder Charles Hoskinson has voiced this sentiment in the past where he explained that there would not be... ... [| Skaityti daugiau](https://www.newsbtc.com/news/cardano/first-erc-20-converter-goes-live-on-cardano-testnet/) "
      ],
      "text/plain": [
       "<IPython.core.display.Markdown object>"
      ]
     },
     "execution_count": 8,
     "metadata": {},
     "output_type": "execute_result"
    }
   ],
   "source": [
    "#hide_input\n",
    "#md('##### {}'.format(titleBTC)) \n",
    "md(\"- {}{} {}{} [| Skaityti daugiau]({}) \".format(ada['title'],'. ', ada['body'], ' ...', ada['url']))"
   ]
  },
  {
   "cell_type": "code",
   "execution_count": 9,
   "id": "specified-ordering",
   "metadata": {
    "execution": {
     "iopub.execute_input": "2021-12-10T02:00:25.210283Z",
     "iopub.status.busy": "2021-12-10T02:00:25.209744Z",
     "iopub.status.idle": "2021-12-10T02:00:25.213251Z",
     "shell.execute_reply": "2021-12-10T02:00:25.212865Z"
    },
    "papermill": {
     "duration": 0.018936,
     "end_time": "2021-12-10T02:00:25.213345",
     "exception": false,
     "start_time": "2021-12-10T02:00:25.194409",
     "status": "completed"
    },
    "tags": []
   },
   "outputs": [
    {
     "data": {
      "text/markdown": [
       "- Shiba Inu Bags Bistamp Listing As Adoption Trend Continues.  Shiba Inu has maintained its adoption streak even through unfavorable market conditions. The cryptocurrency which has been the breakout star of 2021 has bagged listings across the top 10 cryptocurrencies by market cap and is making its way down. This time around, the meme coin is listed on Bitstamp, the 13th largest crypto exchange by [&#8230;] ... [| Skaityti daugiau](https://bitcoinist.com/shiba-inu-bags-bistamp-listing/) "
      ],
      "text/plain": [
       "<IPython.core.display.Markdown object>"
      ]
     },
     "execution_count": 9,
     "metadata": {},
     "output_type": "execute_result"
    }
   ],
   "source": [
    "#hide_input\n",
    "#md('##### {}'.format(titleBTC)) \n",
    "md(\"- {}{} {}{} [| Skaityti daugiau]({}) \".format(exchange['title'],'. ', exchange['body'], ' ...', exchange['url']))"
   ]
  },
  {
   "cell_type": "code",
   "execution_count": null,
   "id": "tender-livestock",
   "metadata": {
    "papermill": {
     "duration": 0.010914,
     "end_time": "2021-12-10T02:00:25.234460",
     "exception": false,
     "start_time": "2021-12-10T02:00:25.223546",
     "status": "completed"
    },
    "tags": []
   },
   "outputs": [],
   "source": []
  },
  {
   "cell_type": "code",
   "execution_count": null,
   "id": "appreciated-diamond",
   "metadata": {
    "papermill": {
     "duration": 0.010017,
     "end_time": "2021-12-10T02:00:25.255585",
     "exception": false,
     "start_time": "2021-12-10T02:00:25.245568",
     "status": "completed"
    },
    "tags": []
   },
   "outputs": [],
   "source": []
  },
  {
   "cell_type": "code",
   "execution_count": null,
   "id": "romance-sweden",
   "metadata": {
    "papermill": {
     "duration": 0.009904,
     "end_time": "2021-12-10T02:00:25.276245",
     "exception": false,
     "start_time": "2021-12-10T02:00:25.266341",
     "status": "completed"
    },
    "tags": []
   },
   "outputs": [],
   "source": []
  },
  {
   "cell_type": "code",
   "execution_count": null,
   "id": "dietary-statistics",
   "metadata": {
    "papermill": {
     "duration": 0.011677,
     "end_time": "2021-12-10T02:00:25.299472",
     "exception": false,
     "start_time": "2021-12-10T02:00:25.287795",
     "status": "completed"
    },
    "tags": []
   },
   "outputs": [],
   "source": []
  }
 ],
 "metadata": {
  "kernelspec": {
   "display_name": "Python 3",
   "language": "python",
   "name": "python3"
  },
  "language_info": {
   "codemirror_mode": {
    "name": "ipython",
    "version": 3
   },
   "file_extension": ".py",
   "mimetype": "text/x-python",
   "name": "python",
   "nbconvert_exporter": "python",
   "pygments_lexer": "ipython3",
   "version": "3.6.15"
  },
  "papermill": {
   "default_parameters": {},
   "duration": 16.416577,
   "end_time": "2021-12-10T02:00:25.719489",
   "environment_variables": {},
   "exception": null,
   "input_path": "Market-News.ipynb",
   "output_path": "Market-News.ipynb",
   "parameters": {},
   "start_time": "2021-12-10T02:00:09.302912",
   "version": "2.2.2"
  }
 },
 "nbformat": 4,
 "nbformat_minor": 5
}