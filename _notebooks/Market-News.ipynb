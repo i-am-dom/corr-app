{
 "cells": [
  {
   "cell_type": "markdown",
   "id": "short-greensboro",
   "metadata": {
    "papermill": {
     "duration": 0.012608,
     "end_time": "2022-02-02T02:00:58.043691",
     "exception": false,
     "start_time": "2022-02-02T02:00:58.031083",
     "status": "completed"
    },
    "tags": []
   },
   "source": [
    "# Kriptovaliutų naujienos"
   ]
  },
  {
   "cell_type": "code",
   "execution_count": 1,
   "id": "functioning-knowing",
   "metadata": {
    "execution": {
     "iopub.execute_input": "2022-02-02T02:00:58.072491Z",
     "iopub.status.busy": "2022-02-02T02:00:58.071993Z",
     "iopub.status.idle": "2022-02-02T02:00:59.251259Z",
     "shell.execute_reply": "2022-02-02T02:00:59.250765Z"
    },
    "papermill": {
     "duration": 1.197713,
     "end_time": "2022-02-02T02:00:59.251388",
     "exception": false,
     "start_time": "2022-02-02T02:00:58.053675",
     "status": "completed"
    },
    "tags": []
   },
   "outputs": [],
   "source": [
    "#hide_input\n",
    "import warnings\n",
    "warnings.filterwarnings('ignore')\n",
    "from scripts.read_data import read_api\n",
    "from scripts.read_data import read_news\n",
    "from scripts.read_data import read_covid\n",
    "import matplotlib.pyplot as plt \n",
    "from IPython.display import Markdown as md"
   ]
  },
  {
   "cell_type": "code",
   "execution_count": 2,
   "id": "shared-acceptance",
   "metadata": {
    "execution": {
     "iopub.execute_input": "2022-02-02T02:00:59.276334Z",
     "iopub.status.busy": "2022-02-02T02:00:59.275564Z",
     "iopub.status.idle": "2022-02-02T02:01:08.029542Z",
     "shell.execute_reply": "2022-02-02T02:01:08.028692Z"
    },
    "papermill": {
     "duration": 8.768644,
     "end_time": "2022-02-02T02:01:08.029667",
     "exception": false,
     "start_time": "2022-02-02T02:00:59.261023",
     "status": "completed"
    },
    "tags": []
   },
   "outputs": [],
   "source": [
    "#hide_input\n",
    "blockchain = read_news('blockchain') \n",
    "btc = read_news('btc') \n",
    "xrp = read_news('xrp') \n",
    "trx = read_news('trx') \n",
    "eth = read_news('eth')  \n",
    "ada = read_news('ada')\n",
    "exchange = read_news('exchange') "
   ]
  },
  {
   "cell_type": "code",
   "execution_count": 3,
   "id": "synthetic-notion",
   "metadata": {
    "execution": {
     "iopub.execute_input": "2022-02-02T02:01:08.054167Z",
     "iopub.status.busy": "2022-02-02T02:01:08.053628Z",
     "iopub.status.idle": "2022-02-02T02:01:08.055558Z",
     "shell.execute_reply": "2022-02-02T02:01:08.055955Z"
    },
    "papermill": {
     "duration": 0.016871,
     "end_time": "2022-02-02T02:01:08.056065",
     "exception": false,
     "start_time": "2022-02-02T02:01:08.039194",
     "status": "completed"
    },
    "tags": []
   },
   "outputs": [
    {
     "data": {
      "text/markdown": [
       "- Polkadot Poised To Enter Top 5 If This Happens! $50 Milestone On The Cards By March?.  The post Polkadot Poised To Enter Top 5 If This Happens! $50 Milestone On The Cards By March? appeared first on Coinpedia - Fintech &amp; Cryptocurreny News Media| Crypto GuidePolkadot price has been clutching onto crucial bottom zones since January last week. The healthy consolidation seems to be inevitable to initiate a new leg-up for the altcoin. Hence, traders need to open up the position themselves to take advantage of this positive upswing. Polkadot Has Kickstarted Its Recovery!&#160;&#160;&#160; DOT price experienced a steep fall &#8230; ... [| Skaityti daugiau](https://coinpedia.org/altcoin/polkadot-price-poised-to-enter-top-5-if-this-happens/) "
      ],
      "text/plain": [
       "<IPython.core.display.Markdown object>"
      ]
     },
     "execution_count": 3,
     "metadata": {},
     "output_type": "execute_result"
    }
   ],
   "source": [
    "#hide_input\n",
    "#md('##### {}'.format(titleBTC)) \n",
    "md(\"- {}{} {}{} [| Skaityti daugiau]({}) \".format(blockchain['title'],'. ', blockchain['body'], ' ...', blockchain['url']))"
   ]
  },
  {
   "cell_type": "code",
   "execution_count": 4,
   "id": "aging-caution",
   "metadata": {
    "execution": {
     "iopub.execute_input": "2022-02-02T02:01:08.080167Z",
     "iopub.status.busy": "2022-02-02T02:01:08.079669Z",
     "iopub.status.idle": "2022-02-02T02:01:08.082202Z",
     "shell.execute_reply": "2022-02-02T02:01:08.081774Z"
    },
    "papermill": {
     "duration": 0.016562,
     "end_time": "2022-02-02T02:01:08.082296",
     "exception": false,
     "start_time": "2022-02-02T02:01:08.065734",
     "status": "completed"
    },
    "tags": []
   },
   "outputs": [
    {
     "data": {
      "text/markdown": [
       "- Top 3 Underrated Metaverse Crypto Coins That Could Explode in February 2022.  Last month was quite rough for crypto markets, with many seeing significant price declines. On the upside, February is off to a decent start as Bitcoin and Ethereum manage to hold support. This month, Metaverse crypto coins will likely see major price gains if crypto markets show a reversal. This article looks at the top [&#8230;]The post Top 3 Underrated Metaverse Crypto Coins That Could Explode in February 2022 appeared first on NullTX. ... [| Skaityti daugiau](https://nulltx.com/top-3-underrated-metaverse-crypto-coins-that-could-explode-in-february-2022/) "
      ],
      "text/plain": [
       "<IPython.core.display.Markdown object>"
      ]
     },
     "execution_count": 4,
     "metadata": {},
     "output_type": "execute_result"
    }
   ],
   "source": [
    "#hide_input\n",
    "#md('##### {}'.format(titleBTC)) \n",
    "md(\"- {}{} {}{} [| Skaityti daugiau]({}) \".format(btc['title'],'. ', btc['body'], ' ...', btc['url']))"
   ]
  },
  {
   "cell_type": "code",
   "execution_count": 5,
   "id": "organic-actress",
   "metadata": {
    "execution": {
     "iopub.execute_input": "2022-02-02T02:01:08.105966Z",
     "iopub.status.busy": "2022-02-02T02:01:08.105447Z",
     "iopub.status.idle": "2022-02-02T02:01:08.107725Z",
     "shell.execute_reply": "2022-02-02T02:01:08.108088Z"
    },
    "papermill": {
     "duration": 0.016021,
     "end_time": "2022-02-02T02:01:08.108197",
     "exception": false,
     "start_time": "2022-02-02T02:01:08.092176",
     "status": "completed"
    },
    "tags": []
   },
   "outputs": [
    {
     "data": {
      "text/markdown": [
       "- Ripple Continues To Score More Points Against The SEC ; Is The Law Lawsuit Nearing Its Final Verdict?.  Ripple and the Securities and Exchange Commission (SEC) are continuing to size each other up with various motions to help their arguments. However, the case seems to be tilting more in favor of Ripple. This can be seen in the SEC&#8217;s recent motion in which it cited supplementary authority to back its argument to strike The post Ripple Continues To Score More Points Against The SEC ; Is The Law Lawsuit Nearing Its Final Verdict? appeared first on CoinGape. ... [| Skaityti daugiau](https://coingape.com/ripple-continues-to-score-more-points-against-the-sec-is-the-law-lawsuit-nearing-its-final-verdict/) "
      ],
      "text/plain": [
       "<IPython.core.display.Markdown object>"
      ]
     },
     "execution_count": 5,
     "metadata": {},
     "output_type": "execute_result"
    }
   ],
   "source": [
    "#hide_input\n",
    "#md('##### {}'.format(titleBTC)) \n",
    "md(\"- {}{} {}{} [| Skaityti daugiau]({}) \".format(xrp['title'],'. ', xrp['body'], ' ...', xrp['url']))"
   ]
  },
  {
   "cell_type": "code",
   "execution_count": 6,
   "id": "prompt-farmer",
   "metadata": {
    "execution": {
     "iopub.execute_input": "2022-02-02T02:01:08.132372Z",
     "iopub.status.busy": "2022-02-02T02:01:08.131875Z",
     "iopub.status.idle": "2022-02-02T02:01:08.136743Z",
     "shell.execute_reply": "2022-02-02T02:01:08.136342Z"
    },
    "papermill": {
     "duration": 0.018482,
     "end_time": "2022-02-02T02:01:08.136839",
     "exception": false,
     "start_time": "2022-02-02T02:01:08.118357",
     "status": "completed"
    },
    "tags": []
   },
   "outputs": [
    {
     "data": {
      "text/markdown": [
       "- Cosmos, Tron, NEAR Price Analysis: 27 January.  With the market flashing relatively low volatility over the past two days, Tron and NEAR saw bearish patterns while flashing weak near-term technical indications. On the other hand, Cosmos broke down from its flag and pole. Now, the $32.5-makr would be crucial for the bulls to defend. Cosmos (ATOM) The sellers ensured the $43-mark resistance [&#8230;] ... [| Skaityti daugiau](https://ambcrypto.com/cosmos-tron-near-price-analysis-27-january/) "
      ],
      "text/plain": [
       "<IPython.core.display.Markdown object>"
      ]
     },
     "execution_count": 6,
     "metadata": {},
     "output_type": "execute_result"
    }
   ],
   "source": [
    "#hide_input\n",
    "#md('##### {}'.format(titleBTC)) \n",
    "md(\"- {}{} {}{} [| Skaityti daugiau]({}) \".format(trx['title'],'. ', trx['body'], ' ...', trx['url']))"
   ]
  },
  {
   "cell_type": "code",
   "execution_count": 7,
   "id": "illegal-greece",
   "metadata": {
    "execution": {
     "iopub.execute_input": "2022-02-02T02:01:08.162549Z",
     "iopub.status.busy": "2022-02-02T02:01:08.161986Z",
     "iopub.status.idle": "2022-02-02T02:01:08.163788Z",
     "shell.execute_reply": "2022-02-02T02:01:08.164158Z"
    },
    "papermill": {
     "duration": 0.016723,
     "end_time": "2022-02-02T02:01:08.164260",
     "exception": false,
     "start_time": "2022-02-02T02:01:08.147537",
     "status": "completed"
    },
    "tags": []
   },
   "outputs": [
    {
     "data": {
      "text/markdown": [
       "- Top 3 Underrated Metaverse Crypto Coins That Could Explode in February 2022.  Last month was quite rough for crypto markets, with many seeing significant price declines. On the upside, February is off to a decent start as Bitcoin and Ethereum manage to hold support. This month, Metaverse crypto coins will likely see major price gains if crypto markets show a reversal. This article looks at the top [&#8230;]The post Top 3 Underrated Metaverse Crypto Coins That Could Explode in February 2022 appeared first on NullTX. ... [| Skaityti daugiau](https://nulltx.com/top-3-underrated-metaverse-crypto-coins-that-could-explode-in-february-2022/) "
      ],
      "text/plain": [
       "<IPython.core.display.Markdown object>"
      ]
     },
     "execution_count": 7,
     "metadata": {},
     "output_type": "execute_result"
    }
   ],
   "source": [
    "#hide_input\n",
    "#md('##### {}'.format(titleBTC)) \n",
    "md(\"- {}{} {}{} [| Skaityti daugiau]({}) \".format(eth['title'],'. ', eth['body'], ' ...', eth['url']))"
   ]
  },
  {
   "cell_type": "code",
   "execution_count": 8,
   "id": "sublime-lounge",
   "metadata": {
    "execution": {
     "iopub.execute_input": "2022-02-02T02:01:08.189635Z",
     "iopub.status.busy": "2022-02-02T02:01:08.189129Z",
     "iopub.status.idle": "2022-02-02T02:01:08.193938Z",
     "shell.execute_reply": "2022-02-02T02:01:08.193531Z"
    },
    "papermill": {
     "duration": 0.019029,
     "end_time": "2022-02-02T02:01:08.194036",
     "exception": false,
     "start_time": "2022-02-02T02:01:08.175007",
     "status": "completed"
    },
    "tags": []
   },
   "outputs": [
    {
     "data": {
      "text/markdown": [
       "- Large Cardano Addresses Increased Their $ADA Holdings by 113% in Two Weeks.  Large Cardano ($ADA) token holders have more than doubled their holdings in the cryptocurrency in just 10 days after its price dropped more than 30%, to available data shows. According to cryptocurrency analytics firm Santiment, Cardano addresses holdings between 10,000 and 1 million ADA have increased their holdings by 113% over the last two weeks, […] ... [| Skaityti daugiau](https://www.cryptoglobe.com/latest/2022/02/large-cardano-addresses-increased-their-ada-holdings-by-113-in-two-weeks/) "
      ],
      "text/plain": [
       "<IPython.core.display.Markdown object>"
      ]
     },
     "execution_count": 8,
     "metadata": {},
     "output_type": "execute_result"
    }
   ],
   "source": [
    "#hide_input\n",
    "#md('##### {}'.format(titleBTC)) \n",
    "md(\"- {}{} {}{} [| Skaityti daugiau]({}) \".format(ada['title'],'. ', ada['body'], ' ...', ada['url']))"
   ]
  },
  {
   "cell_type": "code",
   "execution_count": 9,
   "id": "specified-ordering",
   "metadata": {
    "execution": {
     "iopub.execute_input": "2022-02-02T02:01:08.221145Z",
     "iopub.status.busy": "2022-02-02T02:01:08.220609Z",
     "iopub.status.idle": "2022-02-02T02:01:08.222480Z",
     "shell.execute_reply": "2022-02-02T02:01:08.222854Z"
    },
    "papermill": {
     "duration": 0.017594,
     "end_time": "2022-02-02T02:01:08.222955",
     "exception": false,
     "start_time": "2022-02-02T02:01:08.205361",
     "status": "completed"
    },
    "tags": []
   },
   "outputs": [
    {
     "data": {
      "text/markdown": [
       "- Crypto Exchanges Reward Staff with Bumper Bonuses after Successful 2021.  South Korean crypto trading platforms are not only offering huge pay packages to prospective new hires – they are also looking to retain their staff by paying them massive Lunar New Year bonuses. As reported, the “big four” crypto trading platforms - Upbit, Bithumb, Korbit, and Coinone – collectively hired over 600 new staffers in 2021, and have been offering new employees lucrative joining bonuses....Read More: Crypto Exchanges Reward Staff with Bumper Bonuses after Successful 2021 ... [| Skaityti daugiau](https://cryptonews.com/news/crypto-exchanges-reward-staff-with-bumper-bonuses-after-successful-2021.htm) "
      ],
      "text/plain": [
       "<IPython.core.display.Markdown object>"
      ]
     },
     "execution_count": 9,
     "metadata": {},
     "output_type": "execute_result"
    }
   ],
   "source": [
    "#hide_input\n",
    "#md('##### {}'.format(titleBTC)) \n",
    "md(\"- {}{} {}{} [| Skaityti daugiau]({}) \".format(exchange['title'],'. ', exchange['body'], ' ...', exchange['url']))"
   ]
  },
  {
   "cell_type": "code",
   "execution_count": null,
   "id": "tender-livestock",
   "metadata": {
    "papermill": {
     "duration": 0.011331,
     "end_time": "2022-02-02T02:01:08.245760",
     "exception": false,
     "start_time": "2022-02-02T02:01:08.234429",
     "status": "completed"
    },
    "tags": []
   },
   "outputs": [],
   "source": []
  },
  {
   "cell_type": "code",
   "execution_count": null,
   "id": "appreciated-diamond",
   "metadata": {
    "papermill": {
     "duration": 0.011666,
     "end_time": "2022-02-02T02:01:08.269046",
     "exception": false,
     "start_time": "2022-02-02T02:01:08.257380",
     "status": "completed"
    },
    "tags": []
   },
   "outputs": [],
   "source": []
  },
  {
   "cell_type": "code",
   "execution_count": null,
   "id": "romance-sweden",
   "metadata": {
    "papermill": {
     "duration": 0.0114,
     "end_time": "2022-02-02T02:01:08.291964",
     "exception": false,
     "start_time": "2022-02-02T02:01:08.280564",
     "status": "completed"
    },
    "tags": []
   },
   "outputs": [],
   "source": []
  },
  {
   "cell_type": "code",
   "execution_count": null,
   "id": "dietary-statistics",
   "metadata": {
    "papermill": {
     "duration": 0.011406,
     "end_time": "2022-02-02T02:01:08.315531",
     "exception": false,
     "start_time": "2022-02-02T02:01:08.304125",
     "status": "completed"
    },
    "tags": []
   },
   "outputs": [],
   "source": []
  }
 ],
 "metadata": {
  "kernelspec": {
   "display_name": "Python 3",
   "language": "python",
   "name": "python3"
  },
  "language_info": {
   "codemirror_mode": {
    "name": "ipython",
    "version": 3
   },
   "file_extension": ".py",
   "mimetype": "text/x-python",
   "name": "python",
   "nbconvert_exporter": "python",
   "pygments_lexer": "ipython3",
   "version": "3.6.15"
  },
  "papermill": {
   "default_parameters": {},
   "duration": 11.709241,
   "end_time": "2022-02-02T02:01:08.645286",
   "environment_variables": {},
   "exception": null,
   "input_path": "Market-News.ipynb",
   "output_path": "Market-News.ipynb",
   "parameters": {},
   "start_time": "2022-02-02T02:00:56.936045",
   "version": "2.2.2"
  }
 },
 "nbformat": 4,
 "nbformat_minor": 5
}