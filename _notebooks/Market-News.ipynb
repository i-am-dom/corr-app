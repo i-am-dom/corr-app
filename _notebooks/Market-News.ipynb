{
 "cells": [
  {
   "cell_type": "markdown",
   "id": "short-greensboro",
   "metadata": {
    "papermill": {
     "duration": 0.024443,
     "end_time": "2022-08-31T04:00:09.353170",
     "exception": false,
     "start_time": "2022-08-31T04:00:09.328727",
     "status": "completed"
    },
    "tags": []
   },
   "source": [
    "# Kriptovaliutų naujienos"
   ]
  },
  {
   "cell_type": "code",
   "execution_count": 1,
   "id": "functioning-knowing",
   "metadata": {
    "execution": {
     "iopub.execute_input": "2022-08-31T04:00:09.389493Z",
     "iopub.status.busy": "2022-08-31T04:00:09.388164Z",
     "iopub.status.idle": "2022-08-31T04:00:10.839820Z",
     "shell.execute_reply": "2022-08-31T04:00:10.839147Z"
    },
    "papermill": {
     "duration": 1.475002,
     "end_time": "2022-08-31T04:00:10.839982",
     "exception": false,
     "start_time": "2022-08-31T04:00:09.364980",
     "status": "completed"
    },
    "tags": []
   },
   "outputs": [],
   "source": [
    "#hide_input\n",
    "import warnings\n",
    "warnings.filterwarnings('ignore')\n",
    "from scripts.read_data import read_api\n",
    "from scripts.read_data import read_news\n",
    "from scripts.read_data import read_covid\n",
    "import matplotlib.pyplot as plt \n",
    "from IPython.display import Markdown as md"
   ]
  },
  {
   "cell_type": "code",
   "execution_count": 2,
   "id": "shared-acceptance",
   "metadata": {
    "execution": {
     "iopub.execute_input": "2022-08-31T04:00:10.868429Z",
     "iopub.status.busy": "2022-08-31T04:00:10.867226Z",
     "iopub.status.idle": "2022-08-31T04:00:23.840170Z",
     "shell.execute_reply": "2022-08-31T04:00:23.839191Z"
    },
    "papermill": {
     "duration": 12.98978,
     "end_time": "2022-08-31T04:00:23.840442",
     "exception": false,
     "start_time": "2022-08-31T04:00:10.850662",
     "status": "completed"
    },
    "tags": []
   },
   "outputs": [],
   "source": [
    "#hide_input\n",
    "blockchain = read_news('blockchain') \n",
    "btc = read_news('btc') \n",
    "xrp = read_news('xrp') \n",
    "trx = read_news('trx') \n",
    "eth = read_news('eth')  \n",
    "ada = read_news('ada')\n",
    "exchange = read_news('exchange') "
   ]
  },
  {
   "cell_type": "code",
   "execution_count": 3,
   "id": "synthetic-notion",
   "metadata": {
    "execution": {
     "iopub.execute_input": "2022-08-31T04:00:23.874305Z",
     "iopub.status.busy": "2022-08-31T04:00:23.873324Z",
     "iopub.status.idle": "2022-08-31T04:00:23.876638Z",
     "shell.execute_reply": "2022-08-31T04:00:23.877160Z"
    },
    "papermill": {
     "duration": 0.023438,
     "end_time": "2022-08-31T04:00:23.877316",
     "exception": false,
     "start_time": "2022-08-31T04:00:23.853878",
     "status": "completed"
    },
    "tags": []
   },
   "outputs": [
    {
     "data": {
      "text/markdown": [
       "- Ethereum Scaling Network Arbitrum Nitro To Be Released On August 31st.  Nitro upgrade for Ethereum layer-2 scaling solution Arbitrum is scheduled for Wednesday, August 31. Arbitron shared updates on the upcoming upgrade on Twitter. The message was late last night. Arbitron Announces Nitro Launch Date The Ethereum-based scaling solution uses an L2 structure and optimistic aggregations to process transactions outside the Ethereum mainnet. Arbitron completes transactions [&#8230;] ... [| Skaityti daugiau](https://coinnounce.com/ethereum-scaling-network-arbitrum-nitro-to-be-released-on-august-31st/) "
      ],
      "text/plain": [
       "<IPython.core.display.Markdown object>"
      ]
     },
     "execution_count": 3,
     "metadata": {},
     "output_type": "execute_result"
    }
   ],
   "source": [
    "#hide_input\n",
    "#md('##### {}'.format(titleBTC)) \n",
    "md(\"- {}{} {}{} [| Skaityti daugiau]({}) \".format(blockchain['title'],'. ', blockchain['body'], ' ...', blockchain['url']))"
   ]
  },
  {
   "cell_type": "code",
   "execution_count": 4,
   "id": "aging-caution",
   "metadata": {
    "execution": {
     "iopub.execute_input": "2022-08-31T04:00:23.906142Z",
     "iopub.status.busy": "2022-08-31T04:00:23.905408Z",
     "iopub.status.idle": "2022-08-31T04:00:23.910034Z",
     "shell.execute_reply": "2022-08-31T04:00:23.909513Z"
    },
    "papermill": {
     "duration": 0.022125,
     "end_time": "2022-08-31T04:00:23.910166",
     "exception": false,
     "start_time": "2022-08-31T04:00:23.888041",
     "status": "completed"
    },
    "tags": []
   },
   "outputs": [
    {
     "data": {
      "text/markdown": [
       "- Iran Bitcoin Greenlights Crypto Payments For Import.  Iran has passed a law enabling the use of Bitcoin and cryptocurrency payments for imports through a comprehensive legal framework, according to a report from local news outlet Tasnim. According to the report, Iran&#8217;s Minister of Industry, Mines and Trade, Reza Fatemi Amin, announced that the recently passed law defines regulations regarding cryptocurrencies, addresses supply [&#8230;] ... [| Skaityti daugiau](https://coinnounce.com/iran-bitcoin-greenlights-crypto-payments-for-import/) "
      ],
      "text/plain": [
       "<IPython.core.display.Markdown object>"
      ]
     },
     "execution_count": 4,
     "metadata": {},
     "output_type": "execute_result"
    }
   ],
   "source": [
    "#hide_input\n",
    "#md('##### {}'.format(titleBTC)) \n",
    "md(\"- {}{} {}{} [| Skaityti daugiau]({}) \".format(btc['title'],'. ', btc['body'], ' ...', btc['url']))"
   ]
  },
  {
   "cell_type": "code",
   "execution_count": 5,
   "id": "organic-actress",
   "metadata": {
    "execution": {
     "iopub.execute_input": "2022-08-31T04:00:23.939555Z",
     "iopub.status.busy": "2022-08-31T04:00:23.938804Z",
     "iopub.status.idle": "2022-08-31T04:00:23.942476Z",
     "shell.execute_reply": "2022-08-31T04:00:23.943028Z"
    },
    "papermill": {
     "duration": 0.021919,
     "end_time": "2022-08-31T04:00:23.943177",
     "exception": false,
     "start_time": "2022-08-31T04:00:23.921258",
     "status": "completed"
    },
    "tags": []
   },
   "outputs": [
    {
     "data": {
      "text/markdown": [
       "- XRP Leads Crypto Majors In Ultra-Positive Sentiments As Euphoria Shoots Up.  As most assets struggle to recover some of the values shed in the dip, the respective sentiment of each asset has differed. ... [| Skaityti daugiau](https://zycrypto.com/xrp-leads-crypto-majors-in-ultra-positive-sentiments-as-euphoria-shoots-up/) "
      ],
      "text/plain": [
       "<IPython.core.display.Markdown object>"
      ]
     },
     "execution_count": 5,
     "metadata": {},
     "output_type": "execute_result"
    }
   ],
   "source": [
    "#hide_input\n",
    "#md('##### {}'.format(titleBTC)) \n",
    "md(\"- {}{} {}{} [| Skaityti daugiau]({}) \".format(xrp['title'],'. ', xrp['body'], ' ...', xrp['url']))"
   ]
  },
  {
   "cell_type": "code",
   "execution_count": 6,
   "id": "prompt-farmer",
   "metadata": {
    "execution": {
     "iopub.execute_input": "2022-08-31T04:00:23.972272Z",
     "iopub.status.busy": "2022-08-31T04:00:23.971534Z",
     "iopub.status.idle": "2022-08-31T04:00:23.974433Z",
     "shell.execute_reply": "2022-08-31T04:00:23.974980Z"
    },
    "papermill": {
     "duration": 0.020404,
     "end_time": "2022-08-31T04:00:23.975125",
     "exception": false,
     "start_time": "2022-08-31T04:00:23.954721",
     "status": "completed"
    },
    "tags": []
   },
   "outputs": [
    {
     "data": {
      "text/markdown": [
       "- $0.064 Support Breakdown Position TRX Price For 10% Fall.  The Tron (TRX) price wobbled between the $0712 and $0.067 barriers for nearly two months. This breakdown from the bottom support indicates the end of the prior correction, and sellers may extend the correction. Can the direction rally hit the $0.058 mark? key points from TRX analysis The long-tail rejection candle at $0.067 resistance indicates The post $0.064 Support Breakdown Position TRX Price For 10% Fall appeared first on CoinGape. ... [| Skaityti daugiau](https://coingape.com/markets/0-064-support-breakdown-position-trx-price-for-10-fall/) "
      ],
      "text/plain": [
       "<IPython.core.display.Markdown object>"
      ]
     },
     "execution_count": 6,
     "metadata": {},
     "output_type": "execute_result"
    }
   ],
   "source": [
    "#hide_input\n",
    "#md('##### {}'.format(titleBTC)) \n",
    "md(\"- {}{} {}{} [| Skaityti daugiau]({}) \".format(trx['title'],'. ', trx['body'], ' ...', trx['url']))"
   ]
  },
  {
   "cell_type": "code",
   "execution_count": 7,
   "id": "illegal-greece",
   "metadata": {
    "execution": {
     "iopub.execute_input": "2022-08-31T04:00:24.007821Z",
     "iopub.status.busy": "2022-08-31T04:00:24.005957Z",
     "iopub.status.idle": "2022-08-31T04:00:24.011784Z",
     "shell.execute_reply": "2022-08-31T04:00:24.011235Z"
    },
    "papermill": {
     "duration": 0.024866,
     "end_time": "2022-08-31T04:00:24.011910",
     "exception": false,
     "start_time": "2022-08-31T04:00:23.987044",
     "status": "completed"
    },
    "tags": []
   },
   "outputs": [
    {
     "data": {
      "text/markdown": [
       "- Ethereum Scaling Network Arbitrum Nitro To Be Released On August 31st.  Nitro upgrade for Ethereum layer-2 scaling solution Arbitrum is scheduled for Wednesday, August 31. Arbitron shared updates on the upcoming upgrade on Twitter. The message was late last night. Arbitron Announces Nitro Launch Date The Ethereum-based scaling solution uses an L2 structure and optimistic aggregations to process transactions outside the Ethereum mainnet. Arbitron completes transactions [&#8230;] ... [| Skaityti daugiau](https://coinnounce.com/ethereum-scaling-network-arbitrum-nitro-to-be-released-on-august-31st/) "
      ],
      "text/plain": [
       "<IPython.core.display.Markdown object>"
      ]
     },
     "execution_count": 7,
     "metadata": {},
     "output_type": "execute_result"
    }
   ],
   "source": [
    "#hide_input\n",
    "#md('##### {}'.format(titleBTC)) \n",
    "md(\"- {}{} {}{} [| Skaityti daugiau]({}) \".format(eth['title'],'. ', eth['body'], ' ...', eth['url']))"
   ]
  },
  {
   "cell_type": "code",
   "execution_count": 8,
   "id": "sublime-lounge",
   "metadata": {
    "execution": {
     "iopub.execute_input": "2022-08-31T04:00:24.042815Z",
     "iopub.status.busy": "2022-08-31T04:00:24.041439Z",
     "iopub.status.idle": "2022-08-31T04:00:24.046267Z",
     "shell.execute_reply": "2022-08-31T04:00:24.046927Z"
    },
    "papermill": {
     "duration": 0.022601,
     "end_time": "2022-08-31T04:00:24.047077",
     "exception": false,
     "start_time": "2022-08-31T04:00:24.024476",
     "status": "completed"
    },
    "tags": []
   },
   "outputs": [
    {
     "data": {
      "text/markdown": [
       "- Cardano (ADA) Beats Bitcoin (BTC) in Brand Intimacy, According to New Report.  A new report from an advertising company says the Cardano (ADA) brand is connecting with users more than any other crypto asset in the space. New York-based MBLM, which bills itself as a &#8220;brand intimacy agency,&#8221; compared more than 600 brands across 19 industries by using artificial intelligence to analyze more than 1.4 billion words [&#8230;]The post Cardano (ADA) Beats Bitcoin (BTC) in Brand Intimacy, According to New Report appeared first on The Daily Hodl. ... [| Skaityti daugiau](https://dailyhodl.com/2022/08/30/cardano-ada-beats-bitcoin-btc-in-brand-intimacy-according-to-new-report/) "
      ],
      "text/plain": [
       "<IPython.core.display.Markdown object>"
      ]
     },
     "execution_count": 8,
     "metadata": {},
     "output_type": "execute_result"
    }
   ],
   "source": [
    "#hide_input\n",
    "#md('##### {}'.format(titleBTC)) \n",
    "md(\"- {}{} {}{} [| Skaityti daugiau]({}) \".format(ada['title'],'. ', ada['body'], ' ...', ada['url']))"
   ]
  },
  {
   "cell_type": "code",
   "execution_count": 9,
   "id": "specified-ordering",
   "metadata": {
    "execution": {
     "iopub.execute_input": "2022-08-31T04:00:24.082091Z",
     "iopub.status.busy": "2022-08-31T04:00:24.081373Z",
     "iopub.status.idle": "2022-08-31T04:00:24.084788Z",
     "shell.execute_reply": "2022-08-31T04:00:24.085360Z"
    },
    "papermill": {
     "duration": 0.0238,
     "end_time": "2022-08-31T04:00:24.085512",
     "exception": false,
     "start_time": "2022-08-31T04:00:24.061712",
     "status": "completed"
    },
    "tags": []
   },
   "outputs": [
    {
     "data": {
      "text/markdown": [
       "- SEC Warns Crypto Investors of Scammers Exploiting Their Fear of Missing Out on Social Media.  The U.S. Securities and Exchange Commission (SEC) has warned about scammers exploiting investors&#x2019; fear of missing out (FOMO) on social media. &#x201C;If a crypto investment &#x2018;opportunity&#x2019; sounds too good to be true, it probably is,&#x201D; the SEC cautioned. SEC Says Scammers Often Use Social Media to Defraud Investors The U.S. Securities and Exchange Commission (SEC) [&#8230;] ... [| Skaityti daugiau](https://news.bitcoin.com/sec-warns-crypto-investors-of-scammers-exploiting-their-fear-of-missing-out-on-social-media/) "
      ],
      "text/plain": [
       "<IPython.core.display.Markdown object>"
      ]
     },
     "execution_count": 9,
     "metadata": {},
     "output_type": "execute_result"
    }
   ],
   "source": [
    "#hide_input\n",
    "#md('##### {}'.format(titleBTC)) \n",
    "md(\"- {}{} {}{} [| Skaityti daugiau]({}) \".format(exchange['title'],'. ', exchange['body'], ' ...', exchange['url']))"
   ]
  },
  {
   "cell_type": "code",
   "execution_count": null,
   "id": "tender-livestock",
   "metadata": {
    "papermill": {
     "duration": 0.012831,
     "end_time": "2022-08-31T04:00:24.111656",
     "exception": false,
     "start_time": "2022-08-31T04:00:24.098825",
     "status": "completed"
    },
    "tags": []
   },
   "outputs": [],
   "source": []
  },
  {
   "cell_type": "code",
   "execution_count": null,
   "id": "appreciated-diamond",
   "metadata": {
    "papermill": {
     "duration": 0.01277,
     "end_time": "2022-08-31T04:00:24.137230",
     "exception": false,
     "start_time": "2022-08-31T04:00:24.124460",
     "status": "completed"
    },
    "tags": []
   },
   "outputs": [],
   "source": []
  },
  {
   "cell_type": "code",
   "execution_count": null,
   "id": "romance-sweden",
   "metadata": {
    "papermill": {
     "duration": 0.012836,
     "end_time": "2022-08-31T04:00:24.162839",
     "exception": false,
     "start_time": "2022-08-31T04:00:24.150003",
     "status": "completed"
    },
    "tags": []
   },
   "outputs": [],
   "source": []
  },
  {
   "cell_type": "code",
   "execution_count": null,
   "id": "dietary-statistics",
   "metadata": {
    "papermill": {
     "duration": 0.01315,
     "end_time": "2022-08-31T04:00:24.188991",
     "exception": false,
     "start_time": "2022-08-31T04:00:24.175841",
     "status": "completed"
    },
    "tags": []
   },
   "outputs": [],
   "source": []
  }
 ],
 "metadata": {
  "kernelspec": {
   "display_name": "Python 3",
   "language": "python",
   "name": "python3"
  },
  "language_info": {
   "codemirror_mode": {
    "name": "ipython",
    "version": 3
   },
   "file_extension": ".py",
   "mimetype": "text/x-python",
   "name": "python",
   "nbconvert_exporter": "python",
   "pygments_lexer": "ipython3",
   "version": "3.6.15"
  },
  "papermill": {
   "default_parameters": {},
   "duration": 16.680026,
   "end_time": "2022-08-31T04:00:24.722174",
   "environment_variables": {},
   "exception": null,
   "input_path": "Market-News.ipynb",
   "output_path": "Market-News.ipynb",
   "parameters": {},
   "start_time": "2022-08-31T04:00:08.042148",
   "version": "2.2.2"
  }
 },
 "nbformat": 4,
 "nbformat_minor": 5
}