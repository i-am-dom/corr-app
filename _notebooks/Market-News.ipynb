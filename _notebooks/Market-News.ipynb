{
 "cells": [
  {
   "cell_type": "markdown",
   "id": "short-greensboro",
   "metadata": {
    "papermill": {
     "duration": 0.013427,
     "end_time": "2022-02-27T02:08:42.328790",
     "exception": false,
     "start_time": "2022-02-27T02:08:42.315363",
     "status": "completed"
    },
    "tags": []
   },
   "source": [
    "# Kriptovaliutų naujienos"
   ]
  },
  {
   "cell_type": "code",
   "execution_count": 1,
   "id": "functioning-knowing",
   "metadata": {
    "execution": {
     "iopub.execute_input": "2022-02-27T02:08:42.358689Z",
     "iopub.status.busy": "2022-02-27T02:08:42.358128Z",
     "iopub.status.idle": "2022-02-27T02:08:43.634335Z",
     "shell.execute_reply": "2022-02-27T02:08:43.633847Z"
    },
    "papermill": {
     "duration": 1.295771,
     "end_time": "2022-02-27T02:08:43.634476",
     "exception": false,
     "start_time": "2022-02-27T02:08:42.338705",
     "status": "completed"
    },
    "tags": []
   },
   "outputs": [],
   "source": [
    "#hide_input\n",
    "import warnings\n",
    "warnings.filterwarnings('ignore')\n",
    "from scripts.read_data import read_api\n",
    "from scripts.read_data import read_news\n",
    "from scripts.read_data import read_covid\n",
    "import matplotlib.pyplot as plt \n",
    "from IPython.display import Markdown as md"
   ]
  },
  {
   "cell_type": "code",
   "execution_count": 2,
   "id": "shared-acceptance",
   "metadata": {
    "execution": {
     "iopub.execute_input": "2022-02-27T02:08:43.659697Z",
     "iopub.status.busy": "2022-02-27T02:08:43.658650Z",
     "iopub.status.idle": "2022-02-27T02:08:54.752622Z",
     "shell.execute_reply": "2022-02-27T02:08:54.752096Z"
    },
    "papermill": {
     "duration": 11.108941,
     "end_time": "2022-02-27T02:08:54.752761",
     "exception": false,
     "start_time": "2022-02-27T02:08:43.643820",
     "status": "completed"
    },
    "tags": []
   },
   "outputs": [],
   "source": [
    "#hide_input\n",
    "blockchain = read_news('blockchain') \n",
    "btc = read_news('btc') \n",
    "xrp = read_news('xrp') \n",
    "trx = read_news('trx') \n",
    "eth = read_news('eth')  \n",
    "ada = read_news('ada')\n",
    "exchange = read_news('exchange') "
   ]
  },
  {
   "cell_type": "code",
   "execution_count": 3,
   "id": "synthetic-notion",
   "metadata": {
    "execution": {
     "iopub.execute_input": "2022-02-27T02:08:54.778585Z",
     "iopub.status.busy": "2022-02-27T02:08:54.778049Z",
     "iopub.status.idle": "2022-02-27T02:08:54.782273Z",
     "shell.execute_reply": "2022-02-27T02:08:54.781869Z"
    },
    "papermill": {
     "duration": 0.019707,
     "end_time": "2022-02-27T02:08:54.782386",
     "exception": false,
     "start_time": "2022-02-27T02:08:54.762679",
     "status": "completed"
    },
    "tags": []
   },
   "outputs": [
    {
     "data": {
      "text/markdown": [
       "- Economist Alex Kruger Warns Russia Using Crypto To Escape Sanctions Would Send Prices Crashing – Here’s Why.  Economist Alex Kruger warns that if Russia turns to cryptocurrencies in order to evade sanctions, crypto assets would be negatively impacted. Kruger tells his 123,700 Twitter followers that the use of crypto to bypass sanctions would attract a severe response from US regulators. &#8220;Russia using crypto to bypass sanctions would be dreadfully bearish. Don&#8217;t expect [&#8230;]The post Economist Alex Kruger Warns Russia Using Crypto To Escape Sanctions Would Send Prices Crashing – Here’s Why appeared first on The Daily Hodl. ... [| Skaityti daugiau](https://dailyhodl.com/2022/02/26/economist-alex-kruger-warns-russia-using-crypto-to-escape-sanctions-would-send-prices-crashing-heres-why/) "
      ],
      "text/plain": [
       "<IPython.core.display.Markdown object>"
      ]
     },
     "execution_count": 3,
     "metadata": {},
     "output_type": "execute_result"
    }
   ],
   "source": [
    "#hide_input\n",
    "#md('##### {}'.format(titleBTC)) \n",
    "md(\"- {}{} {}{} [| Skaityti daugiau]({}) \".format(blockchain['title'],'. ', blockchain['body'], ' ...', blockchain['url']))"
   ]
  },
  {
   "cell_type": "code",
   "execution_count": 4,
   "id": "aging-caution",
   "metadata": {
    "execution": {
     "iopub.execute_input": "2022-02-27T02:08:54.806125Z",
     "iopub.status.busy": "2022-02-27T02:08:54.805526Z",
     "iopub.status.idle": "2022-02-27T02:08:54.807751Z",
     "shell.execute_reply": "2022-02-27T02:08:54.808161Z"
    },
    "papermill": {
     "duration": 0.016464,
     "end_time": "2022-02-27T02:08:54.808276",
     "exception": false,
     "start_time": "2022-02-27T02:08:54.791812",
     "status": "completed"
    },
    "tags": []
   },
   "outputs": [
    {
     "data": {
      "text/markdown": [
       "- Economist Alex Kruger Warns Russia Using Crypto To Escape Sanctions Would Send Prices Crashing – Here’s Why.  Economist Alex Kruger warns that if Russia turns to cryptocurrencies in order to evade sanctions, crypto assets would be negatively impacted. Kruger tells his 123,700 Twitter followers that the use of crypto to bypass sanctions would attract a severe response from US regulators. &#8220;Russia using crypto to bypass sanctions would be dreadfully bearish. Don&#8217;t expect [&#8230;]The post Economist Alex Kruger Warns Russia Using Crypto To Escape Sanctions Would Send Prices Crashing – Here’s Why appeared first on The Daily Hodl. ... [| Skaityti daugiau](https://dailyhodl.com/2022/02/26/economist-alex-kruger-warns-russia-using-crypto-to-escape-sanctions-would-send-prices-crashing-heres-why/) "
      ],
      "text/plain": [
       "<IPython.core.display.Markdown object>"
      ]
     },
     "execution_count": 4,
     "metadata": {},
     "output_type": "execute_result"
    }
   ],
   "source": [
    "#hide_input\n",
    "#md('##### {}'.format(titleBTC)) \n",
    "md(\"- {}{} {}{} [| Skaityti daugiau]({}) \".format(btc['title'],'. ', btc['body'], ' ...', btc['url']))"
   ]
  },
  {
   "cell_type": "code",
   "execution_count": 5,
   "id": "organic-actress",
   "metadata": {
    "execution": {
     "iopub.execute_input": "2022-02-27T02:08:54.832394Z",
     "iopub.status.busy": "2022-02-27T02:08:54.831889Z",
     "iopub.status.idle": "2022-02-27T02:08:54.834711Z",
     "shell.execute_reply": "2022-02-27T02:08:54.835193Z"
    },
    "papermill": {
     "duration": 0.01741,
     "end_time": "2022-02-27T02:08:54.835308",
     "exception": false,
     "start_time": "2022-02-27T02:08:54.817898",
     "status": "completed"
    },
    "tags": []
   },
   "outputs": [
    {
     "data": {
      "text/markdown": [
       "- Ripple vs SEC hopium continues to keep XRP investors excited….  Ripple supporters have grown confident about winning as the ongoing lawsuit continues to make headlines even after 13 months. The effects of the same are visible on the network. Despite a tense market structure, activity hasn&#8217;t come down. SEC &#8220;Denied&#8221; On 24 February, District Judge Torres gave a simple one-word reply-&#8220;Denied&#8221;- to SEC&#8217;s Motion to [&#8230;] ... [| Skaityti daugiau](https://ambcrypto.com/ripple-vs-sec-hopium-continues-to-keep-xrp-investors/) "
      ],
      "text/plain": [
       "<IPython.core.display.Markdown object>"
      ]
     },
     "execution_count": 5,
     "metadata": {},
     "output_type": "execute_result"
    }
   ],
   "source": [
    "#hide_input\n",
    "#md('##### {}'.format(titleBTC)) \n",
    "md(\"- {}{} {}{} [| Skaityti daugiau]({}) \".format(xrp['title'],'. ', xrp['body'], ' ...', xrp['url']))"
   ]
  },
  {
   "cell_type": "code",
   "execution_count": 6,
   "id": "prompt-farmer",
   "metadata": {
    "execution": {
     "iopub.execute_input": "2022-02-27T02:08:54.859426Z",
     "iopub.status.busy": "2022-02-27T02:08:54.858923Z",
     "iopub.status.idle": "2022-02-27T02:08:54.861574Z",
     "shell.execute_reply": "2022-02-27T02:08:54.862049Z"
    },
    "papermill": {
     "duration": 0.01695,
     "end_time": "2022-02-27T02:08:54.862166",
     "exception": false,
     "start_time": "2022-02-27T02:08:54.845216",
     "status": "completed"
    },
    "tags": []
   },
   "outputs": [
    {
     "data": {
      "text/markdown": [
       "- Shiba Tron: Why you need to be wary of the latest puppy in the market.  If a new investor stumbled across a token called Shiba Tron [SHIBT], they might imagine that it was the perfect lovechild of its viral parents &#8211; SHIB and TRX. However, that&#8217;s far from being the case and traders need to know their facts before they decide to invest in this shiny new memecoin. Why you [&#8230;] ... [| Skaityti daugiau](https://ambcrypto.com/shiba-tron-why-you-need-to-be-wary-of-the-latest-puppy-in-the-market/) "
      ],
      "text/plain": [
       "<IPython.core.display.Markdown object>"
      ]
     },
     "execution_count": 6,
     "metadata": {},
     "output_type": "execute_result"
    }
   ],
   "source": [
    "#hide_input\n",
    "#md('##### {}'.format(titleBTC)) \n",
    "md(\"- {}{} {}{} [| Skaityti daugiau]({}) \".format(trx['title'],'. ', trx['body'], ' ...', trx['url']))"
   ]
  },
  {
   "cell_type": "code",
   "execution_count": 7,
   "id": "illegal-greece",
   "metadata": {
    "execution": {
     "iopub.execute_input": "2022-02-27T02:08:54.887831Z",
     "iopub.status.busy": "2022-02-27T02:08:54.887321Z",
     "iopub.status.idle": "2022-02-27T02:08:54.890592Z",
     "shell.execute_reply": "2022-02-27T02:08:54.890188Z"
    },
    "papermill": {
     "duration": 0.018122,
     "end_time": "2022-02-27T02:08:54.890699",
     "exception": false,
     "start_time": "2022-02-27T02:08:54.872577",
     "status": "completed"
    },
    "tags": []
   },
   "outputs": [
    {
     "data": {
      "text/markdown": [
       "- Bitcoin Surges to $40,000 After Breaking Key Resistance.  The fear of missing out (FOMO) was at its peak as the price for Bitcoin rose above $40,000. The cryptocurrency started a nervous weekend at around $39,000 on Feb 26 after a one-day spike briefly noticed USD 40,000 return to fame just a day ago. After a day of high volatility, Bitcoin was relatively calm on Saturday. After trading as high at $40,330 over at Bitstamp, there are now signs that the market may be stabilizing for good this time around, with more positive news coming out from Cointelegraph Markets Pro and TradingView revealing calmer situations going forward into Sunday morning&#8217;s session. Related Reading &#124; Cryptocurrency Prices Soar On Possibility Of Russia-Ukraine Talks The fakeout phenomenon played out in the crypto markets on Friday as well. As a result, the volume was thinner than usual over the weekend. Geopolitical turmoil in Ukraine and Russia has created an atmosphere of continuing cautious sentiment amidst issues that may deliver contemporary instability on Monday. This week, the Crypto Fear &#38; Greed Index reached a new low, remaining within the 26/100 “concern” zone. Russia-Ukraine war has caused a stir in the crypto-verse, with many traders worrying about how it may affect Bitcoin prices. However, for now, at least there seems to be some lightheartedness. We can see that even though Long Term Bears were victorious after their latest $34300 low was set versus February&#8217;s dip down into psy... ... [| Skaityti daugiau](https://www.newsbtc.com/news/bitcoin-surges-to-40000-after-breaking-key-resistance/) "
      ],
      "text/plain": [
       "<IPython.core.display.Markdown object>"
      ]
     },
     "execution_count": 7,
     "metadata": {},
     "output_type": "execute_result"
    }
   ],
   "source": [
    "#hide_input\n",
    "#md('##### {}'.format(titleBTC)) \n",
    "md(\"- {}{} {}{} [| Skaityti daugiau]({}) \".format(eth['title'],'. ', eth['body'], ' ...', eth['url']))"
   ]
  },
  {
   "cell_type": "code",
   "execution_count": 8,
   "id": "sublime-lounge",
   "metadata": {
    "execution": {
     "iopub.execute_input": "2022-02-27T02:08:54.917263Z",
     "iopub.status.busy": "2022-02-27T02:08:54.916714Z",
     "iopub.status.idle": "2022-02-27T02:08:54.920039Z",
     "shell.execute_reply": "2022-02-27T02:08:54.919625Z"
    },
    "papermill": {
     "duration": 0.018808,
     "end_time": "2022-02-27T02:08:54.920152",
     "exception": false,
     "start_time": "2022-02-27T02:08:54.901344",
     "status": "completed"
    },
    "tags": []
   },
   "outputs": [
    {
     "data": {
      "text/markdown": [
       "- ADA holders can expect demand to kick in thanks to….  Cardano (ADA) holders have kept on accumulating as the native token played in the discount zone. In the current market structure, the investors have taken advantage of price dips. Since December 2019, the price of ADA exploded to a $3 all-time high before entering a downtrend, affected by the wider cryptocurrency market. Holding on Despite [&#8230;] ... [| Skaityti daugiau](https://ambcrypto.com/ada-holders-can-expect-demand-to-kick-in-thanks-to/) "
      ],
      "text/plain": [
       "<IPython.core.display.Markdown object>"
      ]
     },
     "execution_count": 8,
     "metadata": {},
     "output_type": "execute_result"
    }
   ],
   "source": [
    "#hide_input\n",
    "#md('##### {}'.format(titleBTC)) \n",
    "md(\"- {}{} {}{} [| Skaityti daugiau]({}) \".format(ada['title'],'. ', ada['body'], ' ...', ada['url']))"
   ]
  },
  {
   "cell_type": "code",
   "execution_count": 9,
   "id": "specified-ordering",
   "metadata": {
    "execution": {
     "iopub.execute_input": "2022-02-27T02:08:54.947397Z",
     "iopub.status.busy": "2022-02-27T02:08:54.946883Z",
     "iopub.status.idle": "2022-02-27T02:08:54.949795Z",
     "shell.execute_reply": "2022-02-27T02:08:54.950233Z"
    },
    "papermill": {
     "duration": 0.019098,
     "end_time": "2022-02-27T02:08:54.950356",
     "exception": false,
     "start_time": "2022-02-27T02:08:54.931258",
     "status": "completed"
    },
    "tags": []
   },
   "outputs": [
    {
     "data": {
      "text/markdown": [
       "- KuCoin Exchange Named the Best Cryptocurrency App of 2022: Everything You Need to Know.  PRESS RELEASE. Leading personal financial services&#x2019; evaluator, the Ascent, named KuCoin crypto exchange the best cryptocurrency app of 2022. The Ascent is a flagship product of world-renowned private financial and investing advice company, The Motley Fool. Ascent rated KuCoin Exchange based on factors like fees, selection of coins, customer reviews, KYC rules, security features and [&#8230;] ... [| Skaityti daugiau](https://news.bitcoin.com/kucoin-exchange-named-the-best-cryptocurrency-app-of-2022-everything-you-need-to-know/) "
      ],
      "text/plain": [
       "<IPython.core.display.Markdown object>"
      ]
     },
     "execution_count": 9,
     "metadata": {},
     "output_type": "execute_result"
    }
   ],
   "source": [
    "#hide_input\n",
    "#md('##### {}'.format(titleBTC)) \n",
    "md(\"- {}{} {}{} [| Skaityti daugiau]({}) \".format(exchange['title'],'. ', exchange['body'], ' ...', exchange['url']))"
   ]
  },
  {
   "cell_type": "code",
   "execution_count": null,
   "id": "tender-livestock",
   "metadata": {
    "papermill": {
     "duration": 0.011612,
     "end_time": "2022-02-27T02:08:54.973326",
     "exception": false,
     "start_time": "2022-02-27T02:08:54.961714",
     "status": "completed"
    },
    "tags": []
   },
   "outputs": [],
   "source": []
  },
  {
   "cell_type": "code",
   "execution_count": null,
   "id": "appreciated-diamond",
   "metadata": {
    "papermill": {
     "duration": 0.011303,
     "end_time": "2022-02-27T02:08:54.996095",
     "exception": false,
     "start_time": "2022-02-27T02:08:54.984792",
     "status": "completed"
    },
    "tags": []
   },
   "outputs": [],
   "source": []
  },
  {
   "cell_type": "code",
   "execution_count": null,
   "id": "romance-sweden",
   "metadata": {
    "papermill": {
     "duration": 0.011228,
     "end_time": "2022-02-27T02:08:55.019558",
     "exception": false,
     "start_time": "2022-02-27T02:08:55.008330",
     "status": "completed"
    },
    "tags": []
   },
   "outputs": [],
   "source": []
  },
  {
   "cell_type": "code",
   "execution_count": null,
   "id": "dietary-statistics",
   "metadata": {
    "papermill": {
     "duration": 0.011244,
     "end_time": "2022-02-27T02:08:55.042039",
     "exception": false,
     "start_time": "2022-02-27T02:08:55.030795",
     "status": "completed"
    },
    "tags": []
   },
   "outputs": [],
   "source": []
  }
 ],
 "metadata": {
  "kernelspec": {
   "display_name": "Python 3",
   "language": "python",
   "name": "python3"
  },
  "language_info": {
   "codemirror_mode": {
    "name": "ipython",
    "version": 3
   },
   "file_extension": ".py",
   "mimetype": "text/x-python",
   "name": "python",
   "nbconvert_exporter": "python",
   "pygments_lexer": "ipython3",
   "version": "3.6.15"
  },
  "papermill": {
   "default_parameters": {},
   "duration": 14.093974,
   "end_time": "2022-02-27T02:08:55.472369",
   "environment_variables": {},
   "exception": null,
   "input_path": "Market-News.ipynb",
   "output_path": "Market-News.ipynb",
   "parameters": {},
   "start_time": "2022-02-27T02:08:41.378395",
   "version": "2.2.2"
  }
 },
 "nbformat": 4,
 "nbformat_minor": 5
}