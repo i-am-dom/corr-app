{
 "cells": [
  {
   "cell_type": "markdown",
   "id": "short-greensboro",
   "metadata": {
    "papermill": {
     "duration": 0.015792,
     "end_time": "2021-12-18T02:07:12.403066",
     "exception": false,
     "start_time": "2021-12-18T02:07:12.387274",
     "status": "completed"
    },
    "tags": []
   },
   "source": [
    "# Kriptovaliutų naujienos"
   ]
  },
  {
   "cell_type": "code",
   "execution_count": 1,
   "id": "functioning-knowing",
   "metadata": {
    "execution": {
     "iopub.execute_input": "2021-12-18T02:07:12.433855Z",
     "iopub.status.busy": "2021-12-18T02:07:12.433286Z",
     "iopub.status.idle": "2021-12-18T02:07:13.735163Z",
     "shell.execute_reply": "2021-12-18T02:07:13.735611Z"
    },
    "papermill": {
     "duration": 1.321557,
     "end_time": "2021-12-18T02:07:13.735786",
     "exception": false,
     "start_time": "2021-12-18T02:07:12.414229",
     "status": "completed"
    },
    "tags": []
   },
   "outputs": [],
   "source": [
    "#hide_input\n",
    "import warnings\n",
    "warnings.filterwarnings('ignore')\n",
    "from scripts.read_data import read_api\n",
    "from scripts.read_data import read_news\n",
    "from scripts.read_data import read_covid\n",
    "import matplotlib.pyplot as plt \n",
    "from IPython.display import Markdown as md"
   ]
  },
  {
   "cell_type": "code",
   "execution_count": 2,
   "id": "shared-acceptance",
   "metadata": {
    "execution": {
     "iopub.execute_input": "2021-12-18T02:07:13.761656Z",
     "iopub.status.busy": "2021-12-18T02:07:13.760669Z",
     "iopub.status.idle": "2021-12-18T02:07:21.977939Z",
     "shell.execute_reply": "2021-12-18T02:07:21.976988Z"
    },
    "papermill": {
     "duration": 8.232286,
     "end_time": "2021-12-18T02:07:21.978072",
     "exception": false,
     "start_time": "2021-12-18T02:07:13.745786",
     "status": "completed"
    },
    "tags": []
   },
   "outputs": [],
   "source": [
    "#hide_input\n",
    "blockchain = read_news('blockchain') \n",
    "btc = read_news('btc') \n",
    "xrp = read_news('xrp') \n",
    "trx = read_news('trx') \n",
    "eth = read_news('eth')  \n",
    "ada = read_news('ada')\n",
    "exchange = read_news('exchange') "
   ]
  },
  {
   "cell_type": "code",
   "execution_count": 3,
   "id": "synthetic-notion",
   "metadata": {
    "execution": {
     "iopub.execute_input": "2021-12-18T02:07:22.007726Z",
     "iopub.status.busy": "2021-12-18T02:07:22.006937Z",
     "iopub.status.idle": "2021-12-18T02:07:22.011179Z",
     "shell.execute_reply": "2021-12-18T02:07:22.010647Z"
    },
    "papermill": {
     "duration": 0.021193,
     "end_time": "2021-12-18T02:07:22.011286",
     "exception": false,
     "start_time": "2021-12-18T02:07:21.990093",
     "status": "completed"
    },
    "tags": []
   },
   "outputs": [
    {
     "data": {
      "text/markdown": [
       "- Polygon, Reddit Co-Founder’s VC Firm Launch $200 Million Social Media Web3 Fund.  The team behind Polygon, the protocol dedicated to interconnected blockchain networks like Ethereum, and Alexis Ohanian&#x2019;s Seven Seven Six venture capital company have revealed a $200 million investment fund in blockchain-based social media projects. According to the announcement, the partner&#x2019;s mission is to attempt to bridge blockchain, Web3 technology, and social media together. Polygon and [&#8230;] ... [| Skaityti daugiau](https://news.bitcoin.com/polygon-reddit-co-founders-vc-firm-launch-200-million-social-media-web3-fund/) "
      ],
      "text/plain": [
       "<IPython.core.display.Markdown object>"
      ]
     },
     "execution_count": 3,
     "metadata": {},
     "output_type": "execute_result"
    }
   ],
   "source": [
    "#hide_input\n",
    "#md('##### {}'.format(titleBTC)) \n",
    "md(\"- {}{} {}{} [| Skaityti daugiau]({}) \".format(blockchain['title'],'. ', blockchain['body'], ' ...', blockchain['url']))"
   ]
  },
  {
   "cell_type": "code",
   "execution_count": 4,
   "id": "aging-caution",
   "metadata": {
    "execution": {
     "iopub.execute_input": "2021-12-18T02:07:22.040262Z",
     "iopub.status.busy": "2021-12-18T02:07:22.039651Z",
     "iopub.status.idle": "2021-12-18T02:07:22.043240Z",
     "shell.execute_reply": "2021-12-18T02:07:22.042774Z"
    },
    "papermill": {
     "duration": 0.020263,
     "end_time": "2021-12-18T02:07:22.043345",
     "exception": false,
     "start_time": "2021-12-18T02:07:22.023082",
     "status": "completed"
    },
    "tags": []
   },
   "outputs": [
    {
     "data": {
      "text/markdown": [
       "- Bitcoin's Long-Term Holder To Short-Term Holder Cost Basis Ratio.  What the ratio of short-term bitcoin holders to long-term bitcoin holders can tell us about the market. ... [| Skaityti daugiau](https://bitcoinmagazine.com/markets/bitcoin-long-term-holder-short-term-holder-cost-basis-ratio) "
      ],
      "text/plain": [
       "<IPython.core.display.Markdown object>"
      ]
     },
     "execution_count": 4,
     "metadata": {},
     "output_type": "execute_result"
    }
   ],
   "source": [
    "#hide_input\n",
    "#md('##### {}'.format(titleBTC)) \n",
    "md(\"- {}{} {}{} [| Skaityti daugiau]({}) \".format(btc['title'],'. ', btc['body'], ' ...', btc['url']))"
   ]
  },
  {
   "cell_type": "code",
   "execution_count": 5,
   "id": "organic-actress",
   "metadata": {
    "execution": {
     "iopub.execute_input": "2021-12-18T02:07:22.072788Z",
     "iopub.status.busy": "2021-12-18T02:07:22.070340Z",
     "iopub.status.idle": "2021-12-18T02:07:22.075928Z",
     "shell.execute_reply": "2021-12-18T02:07:22.076448Z"
    },
    "papermill": {
     "duration": 0.021511,
     "end_time": "2021-12-18T02:07:22.076566",
     "exception": false,
     "start_time": "2021-12-18T02:07:22.055055",
     "status": "completed"
    },
    "tags": []
   },
   "outputs": [
    {
     "data": {
      "text/markdown": [
       "- While Xange.com chooses XRPL for ‘sustainability,’ is there a greener alternative.  As public scrutiny increases, companies exploring blockchain or crypto solutions are feeling the pressure to go green. In this aspect, Ripple&#8217;s XRP Ledger [XRPL] has been favored by several noteworthy partners. Now, another company has plans to use XRPL to boost its own development. Credit where credit is due Xange.com, a securities exchange collaborating with [&#8230;] ... [| Skaityti daugiau](https://ambcrypto.com/while-xange-com-chooses-xrpl-for-sustainability-is-there-a-greener-alternative/) "
      ],
      "text/plain": [
       "<IPython.core.display.Markdown object>"
      ]
     },
     "execution_count": 5,
     "metadata": {},
     "output_type": "execute_result"
    }
   ],
   "source": [
    "#hide_input\n",
    "#md('##### {}'.format(titleBTC)) \n",
    "md(\"- {}{} {}{} [| Skaityti daugiau]({}) \".format(xrp['title'],'. ', xrp['body'], ' ...', xrp['url']))"
   ]
  },
  {
   "cell_type": "code",
   "execution_count": 6,
   "id": "prompt-farmer",
   "metadata": {
    "execution": {
     "iopub.execute_input": "2021-12-18T02:07:22.103879Z",
     "iopub.status.busy": "2021-12-18T02:07:22.102627Z",
     "iopub.status.idle": "2021-12-18T02:07:22.107198Z",
     "shell.execute_reply": "2021-12-18T02:07:22.107647Z"
    },
    "papermill": {
     "duration": 0.019998,
     "end_time": "2021-12-18T02:07:22.107785",
     "exception": false,
     "start_time": "2021-12-18T02:07:22.087787",
     "status": "completed"
    },
    "tags": []
   },
   "outputs": [
    {
     "data": {
      "text/markdown": [
       "- Justin Sun Leaves Tron For WTO Amid Massive Reorganization Of The TRX Blockchain Governance.  Justin Sun has left Tron to represent Grenada’s national interests at the World Trade Organization (WTO) leadership, in another move that once again casts doubt on his commitment to cryptocurrency. He, however, said that the move could help establish Tron’s relationship with international regulatory jurisdictions as this is the next milestone for the crypto industry. [&#8230;] ... [| Skaityti daugiau](https://zycrypto.com/justin-sun-leaves-tron-for-wto-amid-massive-reorganization-of-the-trx-blockchain-governance/) "
      ],
      "text/plain": [
       "<IPython.core.display.Markdown object>"
      ]
     },
     "execution_count": 6,
     "metadata": {},
     "output_type": "execute_result"
    }
   ],
   "source": [
    "#hide_input\n",
    "#md('##### {}'.format(titleBTC)) \n",
    "md(\"- {}{} {}{} [| Skaityti daugiau]({}) \".format(trx['title'],'. ', trx['body'], ' ...', trx['url']))"
   ]
  },
  {
   "cell_type": "code",
   "execution_count": 7,
   "id": "illegal-greece",
   "metadata": {
    "execution": {
     "iopub.execute_input": "2021-12-18T02:07:22.137451Z",
     "iopub.status.busy": "2021-12-18T02:07:22.136646Z",
     "iopub.status.idle": "2021-12-18T02:07:22.140346Z",
     "shell.execute_reply": "2021-12-18T02:07:22.141064Z"
    },
    "papermill": {
     "duration": 0.02133,
     "end_time": "2021-12-18T02:07:22.141220",
     "exception": false,
     "start_time": "2021-12-18T02:07:22.119890",
     "status": "completed"
    },
    "tags": []
   },
   "outputs": [
    {
     "data": {
      "text/markdown": [
       "- Ethereum Alternative Avalanche Climbs Top 10 Coins as Price Rises 11%.  AVAX is one of the few cryptocurrencies having a good week. ... [| Skaityti daugiau](https://decrypt.co/88653/ethereum-alternative-avalanche-climbs-top-10-coins-price-rises) "
      ],
      "text/plain": [
       "<IPython.core.display.Markdown object>"
      ]
     },
     "execution_count": 7,
     "metadata": {},
     "output_type": "execute_result"
    }
   ],
   "source": [
    "#hide_input\n",
    "#md('##### {}'.format(titleBTC)) \n",
    "md(\"- {}{} {}{} [| Skaityti daugiau]({}) \".format(eth['title'],'. ', eth['body'], ' ...', eth['url']))"
   ]
  },
  {
   "cell_type": "code",
   "execution_count": 8,
   "id": "sublime-lounge",
   "metadata": {
    "execution": {
     "iopub.execute_input": "2021-12-18T02:07:22.169709Z",
     "iopub.status.busy": "2021-12-18T02:07:22.168849Z",
     "iopub.status.idle": "2021-12-18T02:07:22.173134Z",
     "shell.execute_reply": "2021-12-18T02:07:22.173768Z"
    },
    "papermill": {
     "duration": 0.020741,
     "end_time": "2021-12-18T02:07:22.173889",
     "exception": false,
     "start_time": "2021-12-18T02:07:22.153148",
     "status": "completed"
    },
    "tags": []
   },
   "outputs": [
    {
     "data": {
      "text/markdown": [
       "- Cardano, Binance Coin, The Sandbox Price Analysis: 17 December.  As Bitcoin entered the $46,000-mark, the corresponding effects were witnessed in most altcoins as they struggled to counter the bearish force. As a result, Cardano, Binance Coin, and the Sandbox were trading in the red zone over the past day. Cardano (ADA) While most cryptos relished an Uptober, ADA lost nearly 60% of its value [&#8230;] ... [| Skaityti daugiau](https://ambcrypto.com/cardano-binance-coin-the-sandbox-price-analysis-17-december/) "
      ],
      "text/plain": [
       "<IPython.core.display.Markdown object>"
      ]
     },
     "execution_count": 8,
     "metadata": {},
     "output_type": "execute_result"
    }
   ],
   "source": [
    "#hide_input\n",
    "#md('##### {}'.format(titleBTC)) \n",
    "md(\"- {}{} {}{} [| Skaityti daugiau]({}) \".format(ada['title'],'. ', ada['body'], ' ...', ada['url']))"
   ]
  },
  {
   "cell_type": "code",
   "execution_count": 9,
   "id": "specified-ordering",
   "metadata": {
    "execution": {
     "iopub.execute_input": "2021-12-18T02:07:22.203034Z",
     "iopub.status.busy": "2021-12-18T02:07:22.202071Z",
     "iopub.status.idle": "2021-12-18T02:07:22.206169Z",
     "shell.execute_reply": "2021-12-18T02:07:22.206614Z"
    },
    "papermill": {
     "duration": 0.020289,
     "end_time": "2021-12-18T02:07:22.206773",
     "exception": false,
     "start_time": "2021-12-18T02:07:22.186484",
     "status": "completed"
    },
    "tags": []
   },
   "outputs": [
    {
     "data": {
      "text/markdown": [
       "- Bitstamp Confirms Shiba Inu Listing After Setback.  Cryptocurrency exchange Bitstamp has confirmed that it will be listing the meme coin Shiba Inu. The exchange had first announced the listing of SHIB that would take place on December 9th but this had come to a halt after Bitstamp said they were having technical difficulties with listing the digital asset. The listing of the [&#8230;] ... [| Skaityti daugiau](https://bitcoinist.com/bitstamp-confirms-shiba-inu-listing-after-setback/) "
      ],
      "text/plain": [
       "<IPython.core.display.Markdown object>"
      ]
     },
     "execution_count": 9,
     "metadata": {},
     "output_type": "execute_result"
    }
   ],
   "source": [
    "#hide_input\n",
    "#md('##### {}'.format(titleBTC)) \n",
    "md(\"- {}{} {}{} [| Skaityti daugiau]({}) \".format(exchange['title'],'. ', exchange['body'], ' ...', exchange['url']))"
   ]
  },
  {
   "cell_type": "code",
   "execution_count": null,
   "id": "tender-livestock",
   "metadata": {
    "papermill": {
     "duration": 0.011869,
     "end_time": "2021-12-18T02:07:22.230425",
     "exception": false,
     "start_time": "2021-12-18T02:07:22.218556",
     "status": "completed"
    },
    "tags": []
   },
   "outputs": [],
   "source": []
  },
  {
   "cell_type": "code",
   "execution_count": null,
   "id": "appreciated-diamond",
   "metadata": {
    "papermill": {
     "duration": 0.013384,
     "end_time": "2021-12-18T02:07:22.255932",
     "exception": false,
     "start_time": "2021-12-18T02:07:22.242548",
     "status": "completed"
    },
    "tags": []
   },
   "outputs": [],
   "source": []
  },
  {
   "cell_type": "code",
   "execution_count": null,
   "id": "romance-sweden",
   "metadata": {
    "papermill": {
     "duration": 0.013579,
     "end_time": "2021-12-18T02:07:22.282346",
     "exception": false,
     "start_time": "2021-12-18T02:07:22.268767",
     "status": "completed"
    },
    "tags": []
   },
   "outputs": [],
   "source": []
  },
  {
   "cell_type": "code",
   "execution_count": null,
   "id": "dietary-statistics",
   "metadata": {
    "papermill": {
     "duration": 0.013149,
     "end_time": "2021-12-18T02:07:22.307710",
     "exception": false,
     "start_time": "2021-12-18T02:07:22.294561",
     "status": "completed"
    },
    "tags": []
   },
   "outputs": [],
   "source": []
  }
 ],
 "metadata": {
  "kernelspec": {
   "display_name": "Python 3",
   "language": "python",
   "name": "python3"
  },
  "language_info": {
   "codemirror_mode": {
    "name": "ipython",
    "version": 3
   },
   "file_extension": ".py",
   "mimetype": "text/x-python",
   "name": "python",
   "nbconvert_exporter": "python",
   "pygments_lexer": "ipython3",
   "version": "3.6.15"
  },
  "papermill": {
   "default_parameters": {},
   "duration": 11.285809,
   "end_time": "2021-12-18T02:07:22.728924",
   "environment_variables": {},
   "exception": null,
   "input_path": "Market-News.ipynb",
   "output_path": "Market-News.ipynb",
   "parameters": {},
   "start_time": "2021-12-18T02:07:11.443115",
   "version": "2.2.2"
  }
 },
 "nbformat": 4,
 "nbformat_minor": 5
}