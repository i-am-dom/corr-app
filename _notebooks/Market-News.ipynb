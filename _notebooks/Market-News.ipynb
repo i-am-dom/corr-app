{
 "cells": [
  {
   "cell_type": "markdown",
   "id": "short-greensboro",
   "metadata": {
    "papermill": {
     "duration": 0.013473,
     "end_time": "2022-06-11T02:57:42.924778",
     "exception": false,
     "start_time": "2022-06-11T02:57:42.911305",
     "status": "completed"
    },
    "tags": []
   },
   "source": [
    "# Kriptovaliutų naujienos"
   ]
  },
  {
   "cell_type": "code",
   "execution_count": 1,
   "id": "functioning-knowing",
   "metadata": {
    "execution": {
     "iopub.execute_input": "2022-06-11T02:57:42.955252Z",
     "iopub.status.busy": "2022-06-11T02:57:42.954615Z",
     "iopub.status.idle": "2022-06-11T02:57:44.196916Z",
     "shell.execute_reply": "2022-06-11T02:57:44.196304Z"
    },
    "papermill": {
     "duration": 1.262427,
     "end_time": "2022-06-11T02:57:44.197080",
     "exception": false,
     "start_time": "2022-06-11T02:57:42.934653",
     "status": "completed"
    },
    "tags": []
   },
   "outputs": [],
   "source": [
    "#hide_input\n",
    "import warnings\n",
    "warnings.filterwarnings('ignore')\n",
    "from scripts.read_data import read_api\n",
    "from scripts.read_data import read_news\n",
    "from scripts.read_data import read_covid\n",
    "import matplotlib.pyplot as plt \n",
    "from IPython.display import Markdown as md"
   ]
  },
  {
   "cell_type": "code",
   "execution_count": 2,
   "id": "shared-acceptance",
   "metadata": {
    "execution": {
     "iopub.execute_input": "2022-06-11T02:57:44.224677Z",
     "iopub.status.busy": "2022-06-11T02:57:44.224092Z",
     "iopub.status.idle": "2022-06-11T02:57:52.926188Z",
     "shell.execute_reply": "2022-06-11T02:57:52.925125Z"
    },
    "papermill": {
     "duration": 8.719559,
     "end_time": "2022-06-11T02:57:52.926331",
     "exception": false,
     "start_time": "2022-06-11T02:57:44.206772",
     "status": "completed"
    },
    "tags": []
   },
   "outputs": [],
   "source": [
    "#hide_input\n",
    "blockchain = read_news('blockchain') \n",
    "btc = read_news('btc') \n",
    "xrp = read_news('xrp') \n",
    "trx = read_news('trx') \n",
    "eth = read_news('eth')  \n",
    "ada = read_news('ada')\n",
    "exchange = read_news('exchange') "
   ]
  },
  {
   "cell_type": "code",
   "execution_count": 3,
   "id": "synthetic-notion",
   "metadata": {
    "execution": {
     "iopub.execute_input": "2022-06-11T02:57:52.951171Z",
     "iopub.status.busy": "2022-06-11T02:57:52.950552Z",
     "iopub.status.idle": "2022-06-11T02:57:52.954393Z",
     "shell.execute_reply": "2022-06-11T02:57:52.953451Z"
    },
    "papermill": {
     "duration": 0.018865,
     "end_time": "2022-06-11T02:57:52.954521",
     "exception": false,
     "start_time": "2022-06-11T02:57:52.935656",
     "status": "completed"
    },
    "tags": []
   },
   "outputs": [
    {
     "data": {
      "text/markdown": [
       "- Bitcoin’s Hashrate Hits an All-Time High Nearing 300 Exahash per Second.  While Bitcoin&#x2019;s mining difficulty was expected to decrease two days ago on June 8, instead the difficulty increased by 1.29% on Wednesday. On the same day, at block height 739,928, Bitcoin&#x2019;s hashrate tapped an all-time high (ATH) reaching 292.02 exahash per second (EH/s). Bitcoin&#x2019;s Blockchain Secured by Close to Three Hundred Quintillion Hashes per Second [&#8230;] ... [| Skaityti daugiau](https://news.bitcoin.com/bitcoins-hashrate-hits-an-all-time-high-nearing-300-exahash-per-second/) "
      ],
      "text/plain": [
       "<IPython.core.display.Markdown object>"
      ]
     },
     "execution_count": 3,
     "metadata": {},
     "output_type": "execute_result"
    }
   ],
   "source": [
    "#hide_input\n",
    "#md('##### {}'.format(titleBTC)) \n",
    "md(\"- {}{} {}{} [| Skaityti daugiau]({}) \".format(blockchain['title'],'. ', blockchain['body'], ' ...', blockchain['url']))"
   ]
  },
  {
   "cell_type": "code",
   "execution_count": 4,
   "id": "aging-caution",
   "metadata": {
    "execution": {
     "iopub.execute_input": "2022-06-11T02:57:52.978230Z",
     "iopub.status.busy": "2022-06-11T02:57:52.977554Z",
     "iopub.status.idle": "2022-06-11T02:57:52.980114Z",
     "shell.execute_reply": "2022-06-11T02:57:52.980551Z"
    },
    "papermill": {
     "duration": 0.01695,
     "end_time": "2022-06-11T02:57:52.980675",
     "exception": false,
     "start_time": "2022-06-11T02:57:52.963725",
     "status": "completed"
    },
    "tags": []
   },
   "outputs": [
    {
     "data": {
      "text/markdown": [
       "- Bitcoin, Ethereum, Cardano, and Dogecoin Daily Price Analyses – 10 June Roundup.  The global crypto market has continued bearishly as there has been little improvement in Bitcoin and other coins value. The changes have affected its value as there has been a significant decrease. The changes suggest that the market is trying to reaffirm its threshold level. If the market goes lower, it will considerably reduce the... ... [| Skaityti daugiau](https://www.cryptopolitan.com/bitcoin-ethereum-cardano-and-dogecoin-daily-price-analyses-10-june-roundup/) "
      ],
      "text/plain": [
       "<IPython.core.display.Markdown object>"
      ]
     },
     "execution_count": 4,
     "metadata": {},
     "output_type": "execute_result"
    }
   ],
   "source": [
    "#hide_input\n",
    "#md('##### {}'.format(titleBTC)) \n",
    "md(\"- {}{} {}{} [| Skaityti daugiau]({}) \".format(btc['title'],'. ', btc['body'], ' ...', btc['url']))"
   ]
  },
  {
   "cell_type": "code",
   "execution_count": 5,
   "id": "organic-actress",
   "metadata": {
    "execution": {
     "iopub.execute_input": "2022-06-11T02:57:53.004852Z",
     "iopub.status.busy": "2022-06-11T02:57:53.004280Z",
     "iopub.status.idle": "2022-06-11T02:57:53.007786Z",
     "shell.execute_reply": "2022-06-11T02:57:53.008204Z"
    },
    "papermill": {
     "duration": 0.018228,
     "end_time": "2022-06-11T02:57:53.008333",
     "exception": false,
     "start_time": "2022-06-11T02:57:52.990105",
     "status": "completed"
    },
    "tags": []
   },
   "outputs": [
    {
     "data": {
      "text/markdown": [
       "- Ethereum To Delayed Merge?, ETH Price Plunges Below $1,700.  Ethereum has broken below $1,700 since July 2021. At that time, ETH’s price was reacting to the downside due to an increase in selling pressure across the crypto market. Related Reading &#124; TA: Ethereum Holds Key Support, Why ETH Must Clear This Hurdle This time, Ethereum seems to be reacting to poor macro-economic conditions, and a potential delay in its most important milestone in recent history: The Merge. The event that will complete ETH’s transition to a Proof-of-Stake (PoS) blockchain. At the time of writing, Ethereum (ETH) trades at $1,680 with a 6% and 8% loss in the last 24-hours and 7-days, respectively. ETH is one of the worst performers in the top 10 by market cap followed by Solana (SOL), Dogecoin (DOGE), and XRP. The Ethereum network recently saw the successful deployment of “The Merge” on its oldest testnet, Ropsten. This was celebrated by the community with many claiming a mainnet launch could be possible by August or September this year. “The Merge” implementation on Ropsten saw some difficulties, but ETH core developer Tim Beiko claimed they were addressed and “all fixed”. The Difficulty Bomb is part of the mechanism that will enable Ethereum to migrate to a PoS consensus. This mechanism will progressively increase mining difficulty and prevent these actors to support a second ETH based on Proof-of-Work (PoW). As Beiko explained, the Difficulty Bomb is already having an impact on the network: The bomb is b... ... [| Skaityti daugiau](https://www.newsbtc.com/news/ethereum/ethereum-to-delayed-merge-eth-price-plunges-below-1700/) "
      ],
      "text/plain": [
       "<IPython.core.display.Markdown object>"
      ]
     },
     "execution_count": 5,
     "metadata": {},
     "output_type": "execute_result"
    }
   ],
   "source": [
    "#hide_input\n",
    "#md('##### {}'.format(titleBTC)) \n",
    "md(\"- {}{} {}{} [| Skaityti daugiau]({}) \".format(xrp['title'],'. ', xrp['body'], ' ...', xrp['url']))"
   ]
  },
  {
   "cell_type": "code",
   "execution_count": 6,
   "id": "prompt-farmer",
   "metadata": {
    "execution": {
     "iopub.execute_input": "2022-06-11T02:57:53.032243Z",
     "iopub.status.busy": "2022-06-11T02:57:53.031113Z",
     "iopub.status.idle": "2022-06-11T02:57:53.035528Z",
     "shell.execute_reply": "2022-06-11T02:57:53.035069Z"
    },
    "papermill": {
     "duration": 0.017469,
     "end_time": "2022-06-11T02:57:53.035632",
     "exception": false,
     "start_time": "2022-06-11T02:57:53.018163",
     "status": "completed"
    },
    "tags": []
   },
   "outputs": [
    {
     "data": {
      "text/markdown": [
       "- TRON Now Faces Possibility for a 26% Increase in Price Value.  At the moment, TRON (TRX) is positioned rather comfortably when comparing it to the rest of the altcoins. For over ...Read More... ... [| Skaityti daugiau](https://coinquora.com/tron-now-faces-possibility-for-a-26-increase-in-price-value/) "
      ],
      "text/plain": [
       "<IPython.core.display.Markdown object>"
      ]
     },
     "execution_count": 6,
     "metadata": {},
     "output_type": "execute_result"
    }
   ],
   "source": [
    "#hide_input\n",
    "#md('##### {}'.format(titleBTC)) \n",
    "md(\"- {}{} {}{} [| Skaityti daugiau]({}) \".format(trx['title'],'. ', trx['body'], ' ...', trx['url']))"
   ]
  },
  {
   "cell_type": "code",
   "execution_count": 7,
   "id": "illegal-greece",
   "metadata": {
    "execution": {
     "iopub.execute_input": "2022-06-11T02:57:53.060354Z",
     "iopub.status.busy": "2022-06-11T02:57:53.059793Z",
     "iopub.status.idle": "2022-06-11T02:57:53.063414Z",
     "shell.execute_reply": "2022-06-11T02:57:53.062951Z"
    },
    "papermill": {
     "duration": 0.017746,
     "end_time": "2022-06-11T02:57:53.063520",
     "exception": false,
     "start_time": "2022-06-11T02:57:53.045774",
     "status": "completed"
    },
    "tags": []
   },
   "outputs": [
    {
     "data": {
      "text/markdown": [
       "- Bitcoin, Ethereum, Cardano, and Dogecoin Daily Price Analyses – 10 June Roundup.  The global crypto market has continued bearishly as there has been little improvement in Bitcoin and other coins value. The changes have affected its value as there has been a significant decrease. The changes suggest that the market is trying to reaffirm its threshold level. If the market goes lower, it will considerably reduce the... ... [| Skaityti daugiau](https://www.cryptopolitan.com/bitcoin-ethereum-cardano-and-dogecoin-daily-price-analyses-10-june-roundup/) "
      ],
      "text/plain": [
       "<IPython.core.display.Markdown object>"
      ]
     },
     "execution_count": 7,
     "metadata": {},
     "output_type": "execute_result"
    }
   ],
   "source": [
    "#hide_input\n",
    "#md('##### {}'.format(titleBTC)) \n",
    "md(\"- {}{} {}{} [| Skaityti daugiau]({}) \".format(eth['title'],'. ', eth['body'], ' ...', eth['url']))"
   ]
  },
  {
   "cell_type": "code",
   "execution_count": 8,
   "id": "sublime-lounge",
   "metadata": {
    "execution": {
     "iopub.execute_input": "2022-06-11T02:57:53.089370Z",
     "iopub.status.busy": "2022-06-11T02:57:53.088767Z",
     "iopub.status.idle": "2022-06-11T02:57:53.092686Z",
     "shell.execute_reply": "2022-06-11T02:57:53.092223Z"
    },
    "papermill": {
     "duration": 0.018888,
     "end_time": "2022-06-11T02:57:53.092791",
     "exception": false,
     "start_time": "2022-06-11T02:57:53.073903",
     "status": "completed"
    },
    "tags": []
   },
   "outputs": [
    {
     "data": {
      "text/markdown": [
       "- Bitcoin, Ethereum, Cardano, and Dogecoin Daily Price Analyses – 10 June Roundup.  The global crypto market has continued bearishly as there has been little improvement in Bitcoin and other coins value. The changes have affected its value as there has been a significant decrease. The changes suggest that the market is trying to reaffirm its threshold level. If the market goes lower, it will considerably reduce the... ... [| Skaityti daugiau](https://www.cryptopolitan.com/bitcoin-ethereum-cardano-and-dogecoin-daily-price-analyses-10-june-roundup/) "
      ],
      "text/plain": [
       "<IPython.core.display.Markdown object>"
      ]
     },
     "execution_count": 8,
     "metadata": {},
     "output_type": "execute_result"
    }
   ],
   "source": [
    "#hide_input\n",
    "#md('##### {}'.format(titleBTC)) \n",
    "md(\"- {}{} {}{} [| Skaityti daugiau]({}) \".format(ada['title'],'. ', ada['body'], ' ...', ada['url']))"
   ]
  },
  {
   "cell_type": "code",
   "execution_count": 9,
   "id": "specified-ordering",
   "metadata": {
    "execution": {
     "iopub.execute_input": "2022-06-11T02:57:53.120864Z",
     "iopub.status.busy": "2022-06-11T02:57:53.120207Z",
     "iopub.status.idle": "2022-06-11T02:57:53.123437Z",
     "shell.execute_reply": "2022-06-11T02:57:53.122964Z"
    },
    "papermill": {
     "duration": 0.018747,
     "end_time": "2022-06-11T02:57:53.123539",
     "exception": false,
     "start_time": "2022-06-11T02:57:53.104792",
     "status": "completed"
    },
    "tags": []
   },
   "outputs": [
    {
     "data": {
      "text/markdown": [
       "- Crypto.com Cutting 5% of Workforce Amid Digital Asset Downturn.  Blockworks exclusive: Cryptocurrency exchange has been buffeted by underwater crypto markets that have eaten deeply into once-lucrative trading fees, sources saidThe post Crypto.com Cutting 5% of Workforce Amid Digital Asset Downturn appeared first on Blockworks. ... [| Skaityti daugiau](https://blockworks.co/crypto-com-cutting-5-of-workforce-amid-digital-asset-downturn/) "
      ],
      "text/plain": [
       "<IPython.core.display.Markdown object>"
      ]
     },
     "execution_count": 9,
     "metadata": {},
     "output_type": "execute_result"
    }
   ],
   "source": [
    "#hide_input\n",
    "#md('##### {}'.format(titleBTC)) \n",
    "md(\"- {}{} {}{} [| Skaityti daugiau]({}) \".format(exchange['title'],'. ', exchange['body'], ' ...', exchange['url']))"
   ]
  },
  {
   "cell_type": "code",
   "execution_count": null,
   "id": "tender-livestock",
   "metadata": {
    "papermill": {
     "duration": 0.011054,
     "end_time": "2022-06-11T02:57:53.145611",
     "exception": false,
     "start_time": "2022-06-11T02:57:53.134557",
     "status": "completed"
    },
    "tags": []
   },
   "outputs": [],
   "source": []
  },
  {
   "cell_type": "code",
   "execution_count": null,
   "id": "appreciated-diamond",
   "metadata": {
    "papermill": {
     "duration": 0.01113,
     "end_time": "2022-06-11T02:57:53.167941",
     "exception": false,
     "start_time": "2022-06-11T02:57:53.156811",
     "status": "completed"
    },
    "tags": []
   },
   "outputs": [],
   "source": []
  },
  {
   "cell_type": "code",
   "execution_count": null,
   "id": "romance-sweden",
   "metadata": {
    "papermill": {
     "duration": 0.011017,
     "end_time": "2022-06-11T02:57:53.190075",
     "exception": false,
     "start_time": "2022-06-11T02:57:53.179058",
     "status": "completed"
    },
    "tags": []
   },
   "outputs": [],
   "source": []
  },
  {
   "cell_type": "code",
   "execution_count": null,
   "id": "dietary-statistics",
   "metadata": {
    "papermill": {
     "duration": 0.010959,
     "end_time": "2022-06-11T02:57:53.212091",
     "exception": false,
     "start_time": "2022-06-11T02:57:53.201132",
     "status": "completed"
    },
    "tags": []
   },
   "outputs": [],
   "source": []
  }
 ],
 "metadata": {
  "kernelspec": {
   "display_name": "Python 3",
   "language": "python",
   "name": "python3"
  },
  "language_info": {
   "codemirror_mode": {
    "name": "ipython",
    "version": 3
   },
   "file_extension": ".py",
   "mimetype": "text/x-python",
   "name": "python",
   "nbconvert_exporter": "python",
   "pygments_lexer": "ipython3",
   "version": "3.6.15"
  },
  "papermill": {
   "default_parameters": {},
   "duration": 11.765331,
   "end_time": "2022-06-11T02:57:53.742701",
   "environment_variables": {},
   "exception": null,
   "input_path": "Market-News.ipynb",
   "output_path": "Market-News.ipynb",
   "parameters": {},
   "start_time": "2022-06-11T02:57:41.977370",
   "version": "2.2.2"
  }
 },
 "nbformat": 4,
 "nbformat_minor": 5
}