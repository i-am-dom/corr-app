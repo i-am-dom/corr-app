{
 "cells": [
  {
   "cell_type": "markdown",
   "id": "short-greensboro",
   "metadata": {
    "papermill": {
     "duration": 0.012463,
     "end_time": "2022-08-18T03:32:19.864870",
     "exception": false,
     "start_time": "2022-08-18T03:32:19.852407",
     "status": "completed"
    },
    "tags": []
   },
   "source": [
    "# Kriptovaliutų naujienos"
   ]
  },
  {
   "cell_type": "code",
   "execution_count": 1,
   "id": "functioning-knowing",
   "metadata": {
    "execution": {
     "iopub.execute_input": "2022-08-18T03:32:19.891495Z",
     "iopub.status.busy": "2022-08-18T03:32:19.890937Z",
     "iopub.status.idle": "2022-08-18T03:32:21.022232Z",
     "shell.execute_reply": "2022-08-18T03:32:21.021745Z"
    },
    "papermill": {
     "duration": 1.147805,
     "end_time": "2022-08-18T03:32:21.022377",
     "exception": false,
     "start_time": "2022-08-18T03:32:19.874572",
     "status": "completed"
    },
    "tags": []
   },
   "outputs": [],
   "source": [
    "#hide_input\n",
    "import warnings\n",
    "warnings.filterwarnings('ignore')\n",
    "from scripts.read_data import read_api\n",
    "from scripts.read_data import read_news\n",
    "from scripts.read_data import read_covid\n",
    "import matplotlib.pyplot as plt \n",
    "from IPython.display import Markdown as md"
   ]
  },
  {
   "cell_type": "code",
   "execution_count": 2,
   "id": "shared-acceptance",
   "metadata": {
    "execution": {
     "iopub.execute_input": "2022-08-18T03:32:21.047367Z",
     "iopub.status.busy": "2022-08-18T03:32:21.046805Z",
     "iopub.status.idle": "2022-08-18T03:32:33.373709Z",
     "shell.execute_reply": "2022-08-18T03:32:33.372860Z"
    },
    "papermill": {
     "duration": 12.341512,
     "end_time": "2022-08-18T03:32:33.373834",
     "exception": false,
     "start_time": "2022-08-18T03:32:21.032322",
     "status": "completed"
    },
    "tags": []
   },
   "outputs": [],
   "source": [
    "#hide_input\n",
    "blockchain = read_news('blockchain') \n",
    "btc = read_news('btc') \n",
    "xrp = read_news('xrp') \n",
    "trx = read_news('trx') \n",
    "eth = read_news('eth')  \n",
    "ada = read_news('ada')\n",
    "exchange = read_news('exchange') "
   ]
  },
  {
   "cell_type": "code",
   "execution_count": 3,
   "id": "synthetic-notion",
   "metadata": {
    "execution": {
     "iopub.execute_input": "2022-08-18T03:32:33.398562Z",
     "iopub.status.busy": "2022-08-18T03:32:33.397975Z",
     "iopub.status.idle": "2022-08-18T03:32:33.401032Z",
     "shell.execute_reply": "2022-08-18T03:32:33.400596Z"
    },
    "papermill": {
     "duration": 0.017904,
     "end_time": "2022-08-18T03:32:33.401127",
     "exception": false,
     "start_time": "2022-08-18T03:32:33.383223",
     "status": "completed"
    },
    "tags": []
   },
   "outputs": [
    {
     "data": {
      "text/markdown": [
       "- Why We're Bullish On Cosmos.  Our bullish thesis on Cosmos’ ATOM token centers around the power of the Cosmos SDK, the importance of IBC, the clear product market fit of the Cosmos Hub, and strong token value accrual.IBC is a superior technology that relies upon several unique components enabled by the Cosmos SDK underpinning each Cosmos chain.To tie together our blockchain projections to value accrual of the ATOM token, we then assume Cosmos ecosystem blockchains represent 33% of all future blockchains and estimate that the Cosmos Hub secures 50% of Cosmos blockchains.Our bullish thesis on Cosmos’ ATOM (ATOM-USD) token centers around the power of the Cosmos SDK, the importance of IBC, the clear product market fit of the Cosmos Hub, and strong token value accrual.Based on our discounted cash flow analysis of potential Cosmos ecosystem value in 2030, we arrived at a $140 price target for the ATOM token, with a downside to $1. With ATOM’s price at $10 as of 8/2/2022, we like the 14-1 odds presented and believe this is a buying opportunity for the token.To arrive at the model’s assumptions, we found it helpful to answer the following questions.An Introduction to the Cosmos Hub: What Is a Layer 0?A layer 1, smart contract blockchain like Ethereum (ETH-USD) is simply an enterprise platform that hosts decentralized applications while enabling payments between users. Ethereum generates revenue by charging deployers of smart contracts storage fees while exacting a... ... [| Skaityti daugiau](https://seekingalpha.com/article/4535363-why-were-bullish-on-cosmos?utm_source=cryptocompare.com&utm_medium=referral) "
      ],
      "text/plain": [
       "<IPython.core.display.Markdown object>"
      ]
     },
     "execution_count": 3,
     "metadata": {},
     "output_type": "execute_result"
    }
   ],
   "source": [
    "#hide_input\n",
    "#md('##### {}'.format(titleBTC)) \n",
    "md(\"- {}{} {}{} [| Skaityti daugiau]({}) \".format(blockchain['title'],'. ', blockchain['body'], ' ...', blockchain['url']))"
   ]
  },
  {
   "cell_type": "code",
   "execution_count": 4,
   "id": "aging-caution",
   "metadata": {
    "execution": {
     "iopub.execute_input": "2022-08-18T03:32:33.424298Z",
     "iopub.status.busy": "2022-08-18T03:32:33.423702Z",
     "iopub.status.idle": "2022-08-18T03:32:33.426899Z",
     "shell.execute_reply": "2022-08-18T03:32:33.426472Z"
    },
    "papermill": {
     "duration": 0.016404,
     "end_time": "2022-08-18T03:32:33.426996",
     "exception": false,
     "start_time": "2022-08-18T03:32:33.410592",
     "status": "completed"
    },
    "tags": []
   },
   "outputs": [
    {
     "data": {
      "text/markdown": [
       "- Americans Just Don’t Understand The Importance Of Bitcoin.  Living in Russia during the collapse of the Soviet Union makes the importance of bitcoin’s properties obvious to anyone who tried to protect their wealth. ... [| Skaityti daugiau](https://bitcoinmagazine.com/culture/americans-just-dont-understand-bitcoin) "
      ],
      "text/plain": [
       "<IPython.core.display.Markdown object>"
      ]
     },
     "execution_count": 4,
     "metadata": {},
     "output_type": "execute_result"
    }
   ],
   "source": [
    "#hide_input\n",
    "#md('##### {}'.format(titleBTC)) \n",
    "md(\"- {}{} {}{} [| Skaityti daugiau]({}) \".format(btc['title'],'. ', btc['body'], ' ...', btc['url']))"
   ]
  },
  {
   "cell_type": "code",
   "execution_count": 5,
   "id": "organic-actress",
   "metadata": {
    "execution": {
     "iopub.execute_input": "2022-08-18T03:32:33.451378Z",
     "iopub.status.busy": "2022-08-18T03:32:33.450812Z",
     "iopub.status.idle": "2022-08-18T03:32:33.453809Z",
     "shell.execute_reply": "2022-08-18T03:32:33.453279Z"
    },
    "papermill": {
     "duration": 0.017121,
     "end_time": "2022-08-18T03:32:33.453905",
     "exception": false,
     "start_time": "2022-08-18T03:32:33.436784",
     "status": "completed"
    },
    "tags": []
   },
   "outputs": [
    {
     "data": {
      "text/markdown": [
       "- Celsius Approved to Sell Mined Bitcoin, Customer That Lost 50,000 USDC Insists Her Regulated Stablecoins Should Be Treated Differently.  On August 16, the crypto lender Celsius Network has been approved by a bankruptcy court judge to sell bitcoin the company previously mined to continue funding specific operations. The following day, the company&#x2019;s attorney detailed that Celsius has been offered cash injections, but the lawyer did not disclose who offered the funds and how much [&#8230;] ... [| Skaityti daugiau](https://news.bitcoin.com/celsius-approved-to-sell-mined-bitcoin-customer-that-lost-50000-usdc-insists-her-regulated-stablecoins-should-be-treated-differently/) "
      ],
      "text/plain": [
       "<IPython.core.display.Markdown object>"
      ]
     },
     "execution_count": 5,
     "metadata": {},
     "output_type": "execute_result"
    }
   ],
   "source": [
    "#hide_input\n",
    "#md('##### {}'.format(titleBTC)) \n",
    "md(\"- {}{} {}{} [| Skaityti daugiau]({}) \".format(xrp['title'],'. ', xrp['body'], ' ...', xrp['url']))"
   ]
  },
  {
   "cell_type": "code",
   "execution_count": 6,
   "id": "prompt-farmer",
   "metadata": {
    "execution": {
     "iopub.execute_input": "2022-08-18T03:32:33.477402Z",
     "iopub.status.busy": "2022-08-18T03:32:33.476843Z",
     "iopub.status.idle": "2022-08-18T03:32:33.480337Z",
     "shell.execute_reply": "2022-08-18T03:32:33.480766Z"
    },
    "papermill": {
     "duration": 0.016995,
     "end_time": "2022-08-18T03:32:33.480876",
     "exception": false,
     "start_time": "2022-08-18T03:32:33.463881",
     "status": "completed"
    },
    "tags": []
   },
   "outputs": [
    {
     "data": {
      "text/markdown": [
       "- When Will TRON (TRX) Price Be Released From Current Consolidation?.  The Tron (TRX) price is trapped in a no-trading zone ranging from $0.0712 and $0.067 barriers. However, under the influence of an ascending triangle pattern, the altcoin is most likely to breach the overhead resistance. So, how far will its rally go? Key points from TRX analysis The TRX price faces intense supply pressure at The post When Will TRON (TRX) Price Be Released From Current Consolidation?  appeared first on CoinGape. ... [| Skaityti daugiau](https://coingape.com/markets/trx-price-analysis-why-0-07-breakout-could-end-current-consolidation/) "
      ],
      "text/plain": [
       "<IPython.core.display.Markdown object>"
      ]
     },
     "execution_count": 6,
     "metadata": {},
     "output_type": "execute_result"
    }
   ],
   "source": [
    "#hide_input\n",
    "#md('##### {}'.format(titleBTC)) \n",
    "md(\"- {}{} {}{} [| Skaityti daugiau]({}) \".format(trx['title'],'. ', trx['body'], ' ...', trx['url']))"
   ]
  },
  {
   "cell_type": "code",
   "execution_count": 7,
   "id": "illegal-greece",
   "metadata": {
    "execution": {
     "iopub.execute_input": "2022-08-18T03:32:33.507481Z",
     "iopub.status.busy": "2022-08-18T03:32:33.506920Z",
     "iopub.status.idle": "2022-08-18T03:32:33.510877Z",
     "shell.execute_reply": "2022-08-18T03:32:33.510418Z"
    },
    "papermill": {
     "duration": 0.019606,
     "end_time": "2022-08-18T03:32:33.510974",
     "exception": false,
     "start_time": "2022-08-18T03:32:33.491368",
     "status": "completed"
    },
    "tags": []
   },
   "outputs": [
    {
     "data": {
      "text/markdown": [
       "- Coinbase CEO: We'd Shut Down Ethereum Staking If Threatened by Regulators.  Asked if he would choose to censor transactions or get out of the ETH staking business, Brian Armstrong said he'd choose the latter. ... [| Skaityti daugiau](https://decrypt.co/107700/coinbase-ceo-wed-shut-down-ethereum-staking-if-threatened-by-regulators) "
      ],
      "text/plain": [
       "<IPython.core.display.Markdown object>"
      ]
     },
     "execution_count": 7,
     "metadata": {},
     "output_type": "execute_result"
    }
   ],
   "source": [
    "#hide_input\n",
    "#md('##### {}'.format(titleBTC)) \n",
    "md(\"- {}{} {}{} [| Skaityti daugiau]({}) \".format(eth['title'],'. ', eth['body'], ' ...', eth['url']))"
   ]
  },
  {
   "cell_type": "code",
   "execution_count": 8,
   "id": "sublime-lounge",
   "metadata": {
    "execution": {
     "iopub.execute_input": "2022-08-18T03:32:33.537521Z",
     "iopub.status.busy": "2022-08-18T03:32:33.536947Z",
     "iopub.status.idle": "2022-08-18T03:32:33.540018Z",
     "shell.execute_reply": "2022-08-18T03:32:33.539565Z"
    },
    "papermill": {
     "duration": 0.018424,
     "end_time": "2022-08-18T03:32:33.540118",
     "exception": false,
     "start_time": "2022-08-18T03:32:33.521694",
     "status": "completed"
    },
    "tags": []
   },
   "outputs": [
    {
     "data": {
      "text/markdown": [
       "- Cardano price analysis: ADA falls flat to decline below $0.55 support.  Cardano price analysis shows signs of bearish pressure coming into the market on the 24-hour price action, as price fell 4 percent to move as low as $0.5320. ADA fell below previous support at $0.55 after yesterday&#8217;s price action showed strong indication of a continuation of the current uptrend. While today&#8217;s price action saw ADA &#8230;  Cardano price analysis: ADA falls flat to decline below $0.55 support Read More &#187; ... [| Skaityti daugiau](https://www.cryptopolitan.com/cardano-price-analysis-2022-08-17/) "
      ],
      "text/plain": [
       "<IPython.core.display.Markdown object>"
      ]
     },
     "execution_count": 8,
     "metadata": {},
     "output_type": "execute_result"
    }
   ],
   "source": [
    "#hide_input\n",
    "#md('##### {}'.format(titleBTC)) \n",
    "md(\"- {}{} {}{} [| Skaityti daugiau]({}) \".format(ada['title'],'. ', ada['body'], ' ...', ada['url']))"
   ]
  },
  {
   "cell_type": "code",
   "execution_count": 9,
   "id": "specified-ordering",
   "metadata": {
    "execution": {
     "iopub.execute_input": "2022-08-18T03:32:33.566609Z",
     "iopub.status.busy": "2022-08-18T03:32:33.565793Z",
     "iopub.status.idle": "2022-08-18T03:32:33.569929Z",
     "shell.execute_reply": "2022-08-18T03:32:33.569479Z"
    },
    "papermill": {
     "duration": 0.018383,
     "end_time": "2022-08-18T03:32:33.570026",
     "exception": false,
     "start_time": "2022-08-18T03:32:33.551643",
     "status": "completed"
    },
    "tags": []
   },
   "outputs": [
    {
     "data": {
      "text/markdown": [
       "- AscendEX Lists Betswap.gg (BSGG), a DeFi Betting Exchange.  August 18th, 2022 – AscendEX is excited to announce the listing of Betswap.gg token under the trading pair: $BSGG/USDT. Trading begins at 1:00 PM UTC on August 18th, 2022. Betswap.gg is a decentralized sports betting platform that allows users to set odds by being on either side of the bet. Backed by blockchain technology, worldwide [&#8230;]The post AscendEX Lists Betswap.gg (BSGG), a DeFi Betting Exchange appeared first on Blockchain, Crypto and Stock News. ... [| Skaityti daugiau](https://thecoinrise.com/ascendex-lists-betswap-gg-bsgg-a-defi-betting-exchange/) "
      ],
      "text/plain": [
       "<IPython.core.display.Markdown object>"
      ]
     },
     "execution_count": 9,
     "metadata": {},
     "output_type": "execute_result"
    }
   ],
   "source": [
    "#hide_input\n",
    "#md('##### {}'.format(titleBTC)) \n",
    "md(\"- {}{} {}{} [| Skaityti daugiau]({}) \".format(exchange['title'],'. ', exchange['body'], ' ...', exchange['url']))"
   ]
  },
  {
   "cell_type": "code",
   "execution_count": null,
   "id": "tender-livestock",
   "metadata": {
    "papermill": {
     "duration": 0.01127,
     "end_time": "2022-08-18T03:32:33.592688",
     "exception": false,
     "start_time": "2022-08-18T03:32:33.581418",
     "status": "completed"
    },
    "tags": []
   },
   "outputs": [],
   "source": []
  },
  {
   "cell_type": "code",
   "execution_count": null,
   "id": "appreciated-diamond",
   "metadata": {
    "papermill": {
     "duration": 0.011299,
     "end_time": "2022-08-18T03:32:33.615504",
     "exception": false,
     "start_time": "2022-08-18T03:32:33.604205",
     "status": "completed"
    },
    "tags": []
   },
   "outputs": [],
   "source": []
  },
  {
   "cell_type": "code",
   "execution_count": null,
   "id": "romance-sweden",
   "metadata": {
    "papermill": {
     "duration": 0.011229,
     "end_time": "2022-08-18T03:32:33.637999",
     "exception": false,
     "start_time": "2022-08-18T03:32:33.626770",
     "status": "completed"
    },
    "tags": []
   },
   "outputs": [],
   "source": []
  },
  {
   "cell_type": "code",
   "execution_count": null,
   "id": "dietary-statistics",
   "metadata": {
    "papermill": {
     "duration": 0.011209,
     "end_time": "2022-08-18T03:32:33.660523",
     "exception": false,
     "start_time": "2022-08-18T03:32:33.649314",
     "status": "completed"
    },
    "tags": []
   },
   "outputs": [],
   "source": []
  }
 ],
 "metadata": {
  "kernelspec": {
   "display_name": "Python 3",
   "language": "python",
   "name": "python3"
  },
  "language_info": {
   "codemirror_mode": {
    "name": "ipython",
    "version": 3
   },
   "file_extension": ".py",
   "mimetype": "text/x-python",
   "name": "python",
   "nbconvert_exporter": "python",
   "pygments_lexer": "ipython3",
   "version": "3.6.15"
  },
  "papermill": {
   "default_parameters": {},
   "duration": 15.134972,
   "end_time": "2022-08-18T03:32:34.089096",
   "environment_variables": {},
   "exception": null,
   "input_path": "Market-News.ipynb",
   "output_path": "Market-News.ipynb",
   "parameters": {},
   "start_time": "2022-08-18T03:32:18.954124",
   "version": "2.2.2"
  }
 },
 "nbformat": 4,
 "nbformat_minor": 5
}