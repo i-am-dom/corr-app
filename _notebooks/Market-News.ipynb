{
 "cells": [
  {
   "cell_type": "markdown",
   "id": "short-greensboro",
   "metadata": {
    "papermill": {
     "duration": 0.013304,
     "end_time": "2021-10-03T02:03:44.838856",
     "exception": false,
     "start_time": "2021-10-03T02:03:44.825552",
     "status": "completed"
    },
    "tags": []
   },
   "source": [
    "# Kriptovaliutų naujienos"
   ]
  },
  {
   "cell_type": "code",
   "execution_count": 1,
   "id": "functioning-knowing",
   "metadata": {
    "execution": {
     "iopub.execute_input": "2021-10-03T02:03:44.867138Z",
     "iopub.status.busy": "2021-10-03T02:03:44.864956Z",
     "iopub.status.idle": "2021-10-03T02:03:46.032493Z",
     "shell.execute_reply": "2021-10-03T02:03:46.031900Z"
    },
    "papermill": {
     "duration": 1.184008,
     "end_time": "2021-10-03T02:03:46.032660",
     "exception": false,
     "start_time": "2021-10-03T02:03:44.848652",
     "status": "completed"
    },
    "tags": []
   },
   "outputs": [],
   "source": [
    "#hide_input\n",
    "import warnings\n",
    "warnings.filterwarnings('ignore')\n",
    "from scripts.read_data import read_api\n",
    "from scripts.read_data import read_news\n",
    "from scripts.read_data import read_covid\n",
    "import matplotlib.pyplot as plt \n",
    "from IPython.display import Markdown as md"
   ]
  },
  {
   "cell_type": "code",
   "execution_count": 2,
   "id": "shared-acceptance",
   "metadata": {
    "execution": {
     "iopub.execute_input": "2021-10-03T02:03:46.057820Z",
     "iopub.status.busy": "2021-10-03T02:03:46.057313Z",
     "iopub.status.idle": "2021-10-03T02:03:56.515988Z",
     "shell.execute_reply": "2021-10-03T02:03:56.514896Z"
    },
    "papermill": {
     "duration": 10.473608,
     "end_time": "2021-10-03T02:03:56.516196",
     "exception": false,
     "start_time": "2021-10-03T02:03:46.042588",
     "status": "completed"
    },
    "tags": []
   },
   "outputs": [],
   "source": [
    "#hide_input\n",
    "blockchain = read_news('blockchain') \n",
    "btc = read_news('btc') \n",
    "xrp = read_news('xrp') \n",
    "trx = read_news('trx') \n",
    "eth = read_news('eth')  \n",
    "ada = read_news('ada')\n",
    "exchange = read_news('exchange') "
   ]
  },
  {
   "cell_type": "code",
   "execution_count": 3,
   "id": "synthetic-notion",
   "metadata": {
    "execution": {
     "iopub.execute_input": "2021-10-03T02:03:56.541092Z",
     "iopub.status.busy": "2021-10-03T02:03:56.540553Z",
     "iopub.status.idle": "2021-10-03T02:03:56.544980Z",
     "shell.execute_reply": "2021-10-03T02:03:56.544533Z"
    },
    "papermill": {
     "duration": 0.019323,
     "end_time": "2021-10-03T02:03:56.545088",
     "exception": false,
     "start_time": "2021-10-03T02:03:56.525765",
     "status": "completed"
    },
    "tags": []
   },
   "outputs": [
    {
     "data": {
      "text/markdown": [
       "- Core Developer says Ethereum needs to ‘look at what Bitcoin is doing’.  In its time Ethereum has seen several hard forks and EIPs, the more recent ones being the London hard fork and EIP 3554. Even at the time of writing, Ether was streaming into the Ethereum 2.0 staking contract. However, the second largest blockchain and smart contracts platform is often criticized for the way it is [&#8230;] ... [| Skaityti daugiau](https://ambcrypto.com/core-developer-says-ethereum-needs-to-look-at-what-bitcoin-is-doing/) "
      ],
      "text/plain": [
       "<IPython.core.display.Markdown object>"
      ]
     },
     "execution_count": 3,
     "metadata": {},
     "output_type": "execute_result"
    }
   ],
   "source": [
    "#hide_input\n",
    "#md('##### {}'.format(titleBTC)) \n",
    "md(\"- {}{} {}{} [| Skaityti daugiau]({}) \".format(blockchain['title'],'. ', blockchain['body'], ' ...', blockchain['url']))"
   ]
  },
  {
   "cell_type": "code",
   "execution_count": 4,
   "id": "aging-caution",
   "metadata": {
    "execution": {
     "iopub.execute_input": "2021-10-03T02:03:56.568470Z",
     "iopub.status.busy": "2021-10-03T02:03:56.567870Z",
     "iopub.status.idle": "2021-10-03T02:03:56.571099Z",
     "shell.execute_reply": "2021-10-03T02:03:56.570695Z"
    },
    "papermill": {
     "duration": 0.016715,
     "end_time": "2021-10-03T02:03:56.571202",
     "exception": false,
     "start_time": "2021-10-03T02:03:56.554487",
     "status": "completed"
    },
    "tags": []
   },
   "outputs": [
    {
     "data": {
      "text/markdown": [
       "- Core Developer says Ethereum needs to ‘look at what Bitcoin is doing’.  In its time Ethereum has seen several hard forks and EIPs, the more recent ones being the London hard fork and EIP 3554. Even at the time of writing, Ether was streaming into the Ethereum 2.0 staking contract. However, the second largest blockchain and smart contracts platform is often criticized for the way it is [&#8230;] ... [| Skaityti daugiau](https://ambcrypto.com/core-developer-says-ethereum-needs-to-look-at-what-bitcoin-is-doing/) "
      ],
      "text/plain": [
       "<IPython.core.display.Markdown object>"
      ]
     },
     "execution_count": 4,
     "metadata": {},
     "output_type": "execute_result"
    }
   ],
   "source": [
    "#hide_input\n",
    "#md('##### {}'.format(titleBTC)) \n",
    "md(\"- {}{} {}{} [| Skaityti daugiau]({}) \".format(btc['title'],'. ', btc['body'], ' ...', btc['url']))"
   ]
  },
  {
   "cell_type": "code",
   "execution_count": 5,
   "id": "organic-actress",
   "metadata": {
    "execution": {
     "iopub.execute_input": "2021-10-03T02:03:56.594175Z",
     "iopub.status.busy": "2021-10-03T02:03:56.593225Z",
     "iopub.status.idle": "2021-10-03T02:03:56.596963Z",
     "shell.execute_reply": "2021-10-03T02:03:56.596567Z"
    },
    "papermill": {
     "duration": 0.016238,
     "end_time": "2021-10-03T02:03:56.597065",
     "exception": false,
     "start_time": "2021-10-03T02:03:56.580827",
     "status": "completed"
    },
    "tags": []
   },
   "outputs": [
    {
     "data": {
      "text/markdown": [
       "- These factors will open up XRP’s route to $1.30.  XRP dodged a bullet after a a symmetrical triangle appeared on its chart. A move above the upper trendline allowed bulls to take command and fight for higher ground. By gaining a foothold above an important price barrier of $1.05, XRP can set up a possible comeback to $1.30, provided a few potholes are negotiated. [&#8230;] ... [| Skaityti daugiau](https://ambcrypto.com/these-factors-will-open-up-xrps-route-to-1-30/) "
      ],
      "text/plain": [
       "<IPython.core.display.Markdown object>"
      ]
     },
     "execution_count": 5,
     "metadata": {},
     "output_type": "execute_result"
    }
   ],
   "source": [
    "#hide_input\n",
    "#md('##### {}'.format(titleBTC)) \n",
    "md(\"- {}{} {}{} [| Skaityti daugiau]({}) \".format(xrp['title'],'. ', xrp['body'], ' ...', xrp['url']))"
   ]
  },
  {
   "cell_type": "code",
   "execution_count": 6,
   "id": "prompt-farmer",
   "metadata": {
    "execution": {
     "iopub.execute_input": "2021-10-03T02:03:56.621064Z",
     "iopub.status.busy": "2021-10-03T02:03:56.620530Z",
     "iopub.status.idle": "2021-10-03T02:03:56.623598Z",
     "shell.execute_reply": "2021-10-03T02:03:56.623202Z"
    },
    "papermill": {
     "duration": 0.016725,
     "end_time": "2021-10-03T02:03:56.623695",
     "exception": false,
     "start_time": "2021-10-03T02:03:56.606970",
     "status": "completed"
    },
    "tags": []
   },
   "outputs": [
    {
     "data": {
      "text/markdown": [
       "- TRON Bounces Back from Its Swing Support Levels!.  TRON has hit a new two-day high and seems to have taken support from $0.082 levels. While the volumes so far haven&#8217;t been substantial, the continuation of this sentence is inevitably required for pushing the TRX prices to new highs. The trading range has been suppressed in a tight zone, which can be seen as &#8230; ... [| Skaityti daugiau](https://www.cryptonewsz.com/tron-bounces-back-from-its-swing-support-levels/) "
      ],
      "text/plain": [
       "<IPython.core.display.Markdown object>"
      ]
     },
     "execution_count": 6,
     "metadata": {},
     "output_type": "execute_result"
    }
   ],
   "source": [
    "#hide_input\n",
    "#md('##### {}'.format(titleBTC)) \n",
    "md(\"- {}{} {}{} [| Skaityti daugiau]({}) \".format(trx['title'],'. ', trx['body'], ' ...', trx['url']))"
   ]
  },
  {
   "cell_type": "code",
   "execution_count": 7,
   "id": "illegal-greece",
   "metadata": {
    "execution": {
     "iopub.execute_input": "2021-10-03T02:03:56.648189Z",
     "iopub.status.busy": "2021-10-03T02:03:56.647669Z",
     "iopub.status.idle": "2021-10-03T02:03:56.650667Z",
     "shell.execute_reply": "2021-10-03T02:03:56.650247Z"
    },
    "papermill": {
     "duration": 0.016665,
     "end_time": "2021-10-03T02:03:56.650762",
     "exception": false,
     "start_time": "2021-10-03T02:03:56.634097",
     "status": "completed"
    },
    "tags": []
   },
   "outputs": [
    {
     "data": {
      "text/markdown": [
       "- Core Developer says Ethereum needs to ‘look at what Bitcoin is doing’.  In its time Ethereum has seen several hard forks and EIPs, the more recent ones being the London hard fork and EIP 3554. Even at the time of writing, Ether was streaming into the Ethereum 2.0 staking contract. However, the second largest blockchain and smart contracts platform is often criticized for the way it is [&#8230;] ... [| Skaityti daugiau](https://ambcrypto.com/core-developer-says-ethereum-needs-to-look-at-what-bitcoin-is-doing/) "
      ],
      "text/plain": [
       "<IPython.core.display.Markdown object>"
      ]
     },
     "execution_count": 7,
     "metadata": {},
     "output_type": "execute_result"
    }
   ],
   "source": [
    "#hide_input\n",
    "#md('##### {}'.format(titleBTC)) \n",
    "md(\"- {}{} {}{} [| Skaityti daugiau]({}) \".format(eth['title'],'. ', eth['body'], ' ...', eth['url']))"
   ]
  },
  {
   "cell_type": "code",
   "execution_count": 8,
   "id": "sublime-lounge",
   "metadata": {
    "execution": {
     "iopub.execute_input": "2021-10-03T02:03:56.675935Z",
     "iopub.status.busy": "2021-10-03T02:03:56.675444Z",
     "iopub.status.idle": "2021-10-03T02:03:56.678541Z",
     "shell.execute_reply": "2021-10-03T02:03:56.678147Z"
    },
    "papermill": {
     "duration": 0.01738,
     "end_time": "2021-10-03T02:03:56.678637",
     "exception": false,
     "start_time": "2021-10-03T02:03:56.661257",
     "status": "completed"
    },
    "tags": []
   },
   "outputs": [
    {
     "data": {
      "text/markdown": [
       "- Binance Coin Grapples 3rd Spot With Cardano — Popular Critic Insists Its Fair Value Is Zero.  Binance Coin (BNB) emerged 3rd most valued cryptocurrency. BNB bulls poised to attain new price levels. Popular critic still maintains that BNB is worth nothing For a brief period today, Binance coin (BNB), the native token of Binance&#8217;s Smart Chain (BSC) ecosystem, topped Cardano to clinch 3rd place ranking among cryptocurrencies by market valuation according [&#8230;] ... [| Skaityti daugiau](https://zycrypto.com/binance-coin-grapples-3rd-spot-with-cardano-popular-critic-insists-its-fair-value-is-zero/) "
      ],
      "text/plain": [
       "<IPython.core.display.Markdown object>"
      ]
     },
     "execution_count": 8,
     "metadata": {},
     "output_type": "execute_result"
    }
   ],
   "source": [
    "#hide_input\n",
    "#md('##### {}'.format(titleBTC)) \n",
    "md(\"- {}{} {}{} [| Skaityti daugiau]({}) \".format(ada['title'],'. ', ada['body'], ' ...', ada['url']))"
   ]
  },
  {
   "cell_type": "code",
   "execution_count": 9,
   "id": "specified-ordering",
   "metadata": {
    "execution": {
     "iopub.execute_input": "2021-10-03T02:03:56.704572Z",
     "iopub.status.busy": "2021-10-03T02:03:56.704069Z",
     "iopub.status.idle": "2021-10-03T02:03:56.707281Z",
     "shell.execute_reply": "2021-10-03T02:03:56.706883Z"
    },
    "papermill": {
     "duration": 0.017887,
     "end_time": "2021-10-03T02:03:56.707378",
     "exception": false,
     "start_time": "2021-10-03T02:03:56.689491",
     "status": "completed"
    },
    "tags": []
   },
   "outputs": [
    {
     "data": {
      "text/markdown": [
       "- Binance Coin Grapples 3rd Spot With Cardano — Popular Critic Insists Its Fair Value Is Zero.  Binance Coin (BNB) emerged 3rd most valued cryptocurrency. BNB bulls poised to attain new price levels. Popular critic still maintains that BNB is worth nothing For a brief period today, Binance coin (BNB), the native token of Binance&#8217;s Smart Chain (BSC) ecosystem, topped Cardano to clinch 3rd place ranking among cryptocurrencies by market valuation according [&#8230;] ... [| Skaityti daugiau](https://zycrypto.com/binance-coin-grapples-3rd-spot-with-cardano-popular-critic-insists-its-fair-value-is-zero/) "
      ],
      "text/plain": [
       "<IPython.core.display.Markdown object>"
      ]
     },
     "execution_count": 9,
     "metadata": {},
     "output_type": "execute_result"
    }
   ],
   "source": [
    "#hide_input\n",
    "#md('##### {}'.format(titleBTC)) \n",
    "md(\"- {}{} {}{} [| Skaityti daugiau]({}) \".format(exchange['title'],'. ', exchange['body'], ' ...', exchange['url']))"
   ]
  },
  {
   "cell_type": "code",
   "execution_count": null,
   "id": "tender-livestock",
   "metadata": {
    "papermill": {
     "duration": 0.011082,
     "end_time": "2021-10-03T02:03:56.729624",
     "exception": false,
     "start_time": "2021-10-03T02:03:56.718542",
     "status": "completed"
    },
    "tags": []
   },
   "outputs": [],
   "source": []
  },
  {
   "cell_type": "code",
   "execution_count": null,
   "id": "appreciated-diamond",
   "metadata": {
    "papermill": {
     "duration": 0.01112,
     "end_time": "2021-10-03T02:03:56.752068",
     "exception": false,
     "start_time": "2021-10-03T02:03:56.740948",
     "status": "completed"
    },
    "tags": []
   },
   "outputs": [],
   "source": []
  },
  {
   "cell_type": "code",
   "execution_count": null,
   "id": "romance-sweden",
   "metadata": {
    "papermill": {
     "duration": 0.011089,
     "end_time": "2021-10-03T02:03:56.774340",
     "exception": false,
     "start_time": "2021-10-03T02:03:56.763251",
     "status": "completed"
    },
    "tags": []
   },
   "outputs": [],
   "source": []
  },
  {
   "cell_type": "code",
   "execution_count": null,
   "id": "dietary-statistics",
   "metadata": {
    "papermill": {
     "duration": 0.01111,
     "end_time": "2021-10-03T02:03:56.796586",
     "exception": false,
     "start_time": "2021-10-03T02:03:56.785476",
     "status": "completed"
    },
    "tags": []
   },
   "outputs": [],
   "source": []
  }
 ],
 "metadata": {
  "kernelspec": {
   "display_name": "Python 3",
   "language": "python",
   "name": "python3"
  },
  "language_info": {
   "codemirror_mode": {
    "name": "ipython",
    "version": 3
   },
   "file_extension": ".py",
   "mimetype": "text/x-python",
   "name": "python",
   "nbconvert_exporter": "python",
   "pygments_lexer": "ipython3",
   "version": "3.6.15"
  },
  "papermill": {
   "default_parameters": {},
   "duration": 13.346173,
   "end_time": "2021-10-03T02:03:57.215353",
   "environment_variables": {},
   "exception": null,
   "input_path": "Market-News.ipynb",
   "output_path": "Market-News.ipynb",
   "parameters": {},
   "start_time": "2021-10-03T02:03:43.869180",
   "version": "2.2.2"
  }
 },
 "nbformat": 4,
 "nbformat_minor": 5
}