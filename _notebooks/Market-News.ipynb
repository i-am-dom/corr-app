{
 "cells": [
  {
   "cell_type": "markdown",
   "id": "short-greensboro",
   "metadata": {
    "papermill": {
     "duration": 0.013103,
     "end_time": "2022-02-17T01:56:03.061520",
     "exception": false,
     "start_time": "2022-02-17T01:56:03.048417",
     "status": "completed"
    },
    "tags": []
   },
   "source": [
    "# Kriptovaliutų naujienos"
   ]
  },
  {
   "cell_type": "code",
   "execution_count": 1,
   "id": "functioning-knowing",
   "metadata": {
    "execution": {
     "iopub.execute_input": "2022-02-17T01:56:03.089169Z",
     "iopub.status.busy": "2022-02-17T01:56:03.088528Z",
     "iopub.status.idle": "2022-02-17T01:56:04.268243Z",
     "shell.execute_reply": "2022-02-17T01:56:04.267674Z"
    },
    "papermill": {
     "duration": 1.198068,
     "end_time": "2022-02-17T01:56:04.268400",
     "exception": false,
     "start_time": "2022-02-17T01:56:03.070332",
     "status": "completed"
    },
    "tags": []
   },
   "outputs": [],
   "source": [
    "#hide_input\n",
    "import warnings\n",
    "warnings.filterwarnings('ignore')\n",
    "from scripts.read_data import read_api\n",
    "from scripts.read_data import read_news\n",
    "from scripts.read_data import read_covid\n",
    "import matplotlib.pyplot as plt \n",
    "from IPython.display import Markdown as md"
   ]
  },
  {
   "cell_type": "code",
   "execution_count": 2,
   "id": "shared-acceptance",
   "metadata": {
    "execution": {
     "iopub.execute_input": "2022-02-17T01:56:04.292068Z",
     "iopub.status.busy": "2022-02-17T01:56:04.291590Z",
     "iopub.status.idle": "2022-02-17T01:56:13.454436Z",
     "shell.execute_reply": "2022-02-17T01:56:13.453418Z"
    },
    "papermill": {
     "duration": 9.176498,
     "end_time": "2022-02-17T01:56:13.454591",
     "exception": false,
     "start_time": "2022-02-17T01:56:04.278093",
     "status": "completed"
    },
    "tags": []
   },
   "outputs": [],
   "source": [
    "#hide_input\n",
    "blockchain = read_news('blockchain') \n",
    "btc = read_news('btc') \n",
    "xrp = read_news('xrp') \n",
    "trx = read_news('trx') \n",
    "eth = read_news('eth')  \n",
    "ada = read_news('ada')\n",
    "exchange = read_news('exchange') "
   ]
  },
  {
   "cell_type": "code",
   "execution_count": 3,
   "id": "synthetic-notion",
   "metadata": {
    "execution": {
     "iopub.execute_input": "2022-02-17T01:56:13.479509Z",
     "iopub.status.busy": "2022-02-17T01:56:13.478935Z",
     "iopub.status.idle": "2022-02-17T01:56:13.482733Z",
     "shell.execute_reply": "2022-02-17T01:56:13.483118Z"
    },
    "papermill": {
     "duration": 0.019191,
     "end_time": "2022-02-17T01:56:13.483248",
     "exception": false,
     "start_time": "2022-02-17T01:56:13.464057",
     "status": "completed"
    },
    "tags": []
   },
   "outputs": [
    {
     "data": {
      "text/markdown": [
       "- Ethical Blockchain: Are Crypto, NFTs And DeFi Bad For The Environment? Here’s Why They’re Not.  The US government raised concerns over the environmental impacts of crypto technology in a recent hearing, and how ethical blockchain plays a role in the equation. The main issue mentioned by the Energy and Commerce house committee was the increasing trajectory of energy consumption as a result of the dramatic demand in blockchains. This comes [&#8230;] ... [| Skaityti daugiau](https://bitcoinist.com/ethical-blockchain-are-crypto-nfts-and-defi-bad/) "
      ],
      "text/plain": [
       "<IPython.core.display.Markdown object>"
      ]
     },
     "execution_count": 3,
     "metadata": {},
     "output_type": "execute_result"
    }
   ],
   "source": [
    "#hide_input\n",
    "#md('##### {}'.format(titleBTC)) \n",
    "md(\"- {}{} {}{} [| Skaityti daugiau]({}) \".format(blockchain['title'],'. ', blockchain['body'], ' ...', blockchain['url']))"
   ]
  },
  {
   "cell_type": "code",
   "execution_count": 4,
   "id": "aging-caution",
   "metadata": {
    "execution": {
     "iopub.execute_input": "2022-02-17T01:56:13.507379Z",
     "iopub.status.busy": "2022-02-17T01:56:13.506857Z",
     "iopub.status.idle": "2022-02-17T01:56:13.509723Z",
     "shell.execute_reply": "2022-02-17T01:56:13.510184Z"
    },
    "papermill": {
     "duration": 0.01702,
     "end_time": "2022-02-17T01:56:13.510310",
     "exception": false,
     "start_time": "2022-02-17T01:56:13.493290",
     "status": "completed"
    },
    "tags": []
   },
   "outputs": [
    {
     "data": {
      "text/markdown": [
       "- Ethical Blockchain: Are Crypto, NFTs And DeFi Bad For The Environment? Here’s Why They’re Not.  The US government raised concerns over the environmental impacts of crypto technology in a recent hearing, and how ethical blockchain plays a role in the equation. The main issue mentioned by the Energy and Commerce house committee was the increasing trajectory of energy consumption as a result of the dramatic demand in blockchains. This comes [&#8230;] ... [| Skaityti daugiau](https://bitcoinist.com/ethical-blockchain-are-crypto-nfts-and-defi-bad/) "
      ],
      "text/plain": [
       "<IPython.core.display.Markdown object>"
      ]
     },
     "execution_count": 4,
     "metadata": {},
     "output_type": "execute_result"
    }
   ],
   "source": [
    "#hide_input\n",
    "#md('##### {}'.format(titleBTC)) \n",
    "md(\"- {}{} {}{} [| Skaityti daugiau]({}) \".format(btc['title'],'. ', btc['body'], ' ...', btc['url']))"
   ]
  },
  {
   "cell_type": "code",
   "execution_count": 5,
   "id": "organic-actress",
   "metadata": {
    "execution": {
     "iopub.execute_input": "2022-02-17T01:56:13.534399Z",
     "iopub.status.busy": "2022-02-17T01:56:13.533877Z",
     "iopub.status.idle": "2022-02-17T01:56:13.536631Z",
     "shell.execute_reply": "2022-02-17T01:56:13.537117Z"
    },
    "papermill": {
     "duration": 0.017309,
     "end_time": "2022-02-17T01:56:13.537235",
     "exception": false,
     "start_time": "2022-02-17T01:56:13.519926",
     "status": "completed"
    },
    "tags": []
   },
   "outputs": [
    {
     "data": {
      "text/markdown": [
       "- Banking Giant DBS To Offer Retail Crypto Trading Starting Late This Year, According to CEO.  The largest bank in Singapore is making a move towards crypto with plans to offer retail trading services for some of the largest crypto assets by market cap. In a new earnings call, DBS Bank CEO Piyush Gupta says that the banking giant plans to expand its current crypto operations. DBS first rolled out its [&#8230;]The post Banking Giant DBS To Offer Retail Crypto Trading Starting Late This Year, According to CEO appeared first on The Daily Hodl. ... [| Skaityti daugiau](https://dailyhodl.com/2022/02/16/banking-giant-dbs-to-offer-retail-crypto-trading-starting-late-this-year-according-to-ceo/) "
      ],
      "text/plain": [
       "<IPython.core.display.Markdown object>"
      ]
     },
     "execution_count": 5,
     "metadata": {},
     "output_type": "execute_result"
    }
   ],
   "source": [
    "#hide_input\n",
    "#md('##### {}'.format(titleBTC)) \n",
    "md(\"- {}{} {}{} [| Skaityti daugiau]({}) \".format(xrp['title'],'. ', xrp['body'], ' ...', xrp['url']))"
   ]
  },
  {
   "cell_type": "code",
   "execution_count": 6,
   "id": "prompt-farmer",
   "metadata": {
    "execution": {
     "iopub.execute_input": "2022-02-17T01:56:13.562103Z",
     "iopub.status.busy": "2022-02-17T01:56:13.561569Z",
     "iopub.status.idle": "2022-02-17T01:56:13.564279Z",
     "shell.execute_reply": "2022-02-17T01:56:13.563776Z"
    },
    "papermill": {
     "duration": 0.017155,
     "end_time": "2022-02-17T01:56:13.564381",
     "exception": false,
     "start_time": "2022-02-17T01:56:13.547226",
     "status": "completed"
    },
    "tags": []
   },
   "outputs": [
    {
     "data": {
      "text/markdown": [
       "- Tron (TRX) Price Analysis: Bulls Aim More Upsides.  Tron price started a decent increase above the $0.0620 level against the US Dollar. TRX price is now trading below $0.0680 and the 55 simple moving average (4-hours). There is a key bullish trend line forming with support near $0.0650 on the 4-hours chart (data feed via Bitfinex). The pair could continue to move up...The post Tron (TRX) Price Analysis: Bulls Aim More Upsides appeared first on Live Bitcoin News. ... [| Skaityti daugiau](https://www.livebitcoinnews.com/tron-trx-price-analysis-bulls-aim-more-upsides/) "
      ],
      "text/plain": [
       "<IPython.core.display.Markdown object>"
      ]
     },
     "execution_count": 6,
     "metadata": {},
     "output_type": "execute_result"
    }
   ],
   "source": [
    "#hide_input\n",
    "#md('##### {}'.format(titleBTC)) \n",
    "md(\"- {}{} {}{} [| Skaityti daugiau]({}) \".format(trx['title'],'. ', trx['body'], ' ...', trx['url']))"
   ]
  },
  {
   "cell_type": "code",
   "execution_count": 7,
   "id": "illegal-greece",
   "metadata": {
    "execution": {
     "iopub.execute_input": "2022-02-17T01:56:13.589364Z",
     "iopub.status.busy": "2022-02-17T01:56:13.588358Z",
     "iopub.status.idle": "2022-02-17T01:56:13.592290Z",
     "shell.execute_reply": "2022-02-17T01:56:13.591880Z"
    },
    "papermill": {
     "duration": 0.017578,
     "end_time": "2022-02-17T01:56:13.592395",
     "exception": false,
     "start_time": "2022-02-17T01:56:13.574817",
     "status": "completed"
    },
    "tags": []
   },
   "outputs": [
    {
     "data": {
      "text/markdown": [
       "- Market Wrap: US and NATO Say Russia Still Building Troops on Ukraine’s Border.  The US and NATO say that Russia has not partially removed troops from Ukraine's border yet, causing more fear among investorsThe post Market Wrap: US and NATO Say Russia Still Building Troops on Ukraine’s Border appeared first on Blockworks. ... [| Skaityti daugiau](https://blockworks.co/market-wrap-us-and-nato-say-russia-still-building-troops-on-ukraines-border/) "
      ],
      "text/plain": [
       "<IPython.core.display.Markdown object>"
      ]
     },
     "execution_count": 7,
     "metadata": {},
     "output_type": "execute_result"
    }
   ],
   "source": [
    "#hide_input\n",
    "#md('##### {}'.format(titleBTC)) \n",
    "md(\"- {}{} {}{} [| Skaityti daugiau]({}) \".format(eth['title'],'. ', eth['body'], ' ...', eth['url']))"
   ]
  },
  {
   "cell_type": "code",
   "execution_count": 8,
   "id": "sublime-lounge",
   "metadata": {
    "execution": {
     "iopub.execute_input": "2022-02-17T01:56:13.618340Z",
     "iopub.status.busy": "2022-02-17T01:56:13.617794Z",
     "iopub.status.idle": "2022-02-17T01:56:13.621089Z",
     "shell.execute_reply": "2022-02-17T01:56:13.620679Z"
    },
    "papermill": {
     "duration": 0.01828,
     "end_time": "2022-02-17T01:56:13.621197",
     "exception": false,
     "start_time": "2022-02-17T01:56:13.602917",
     "status": "completed"
    },
    "tags": []
   },
   "outputs": [
    {
     "data": {
      "text/markdown": [
       "- Charles Hoskinson Makes a Case for Crypto Amid Canadian Martial Law.  In a tweet made minutes before the time of writing this article, Charles Hoskinson seemed to be promoting crypto as he took a dig at Canadian Prime Minister Justin Trudeau for invoking the Emergencies Act in the country to quell continued protests across the country over Covid-19 health measures. The Act allows the use of the military, but may not necessarily lead to that, and Trudeau said the government is not bringing them in. But it can temporarily suspend citizens’ rights to free movement or assembly. And the government is taking steps to stop the financial support of illegal protests. Charles Hoskinson Underlines The Significance of Crypto’s Decentralized Structure With the Emergency Act giving financial institutions the power to freeze personal or corporate accounts, cryptocurrencies have become more important than ever. The Cardano blockchain founder seemed to be highlighting the decentralized structure of cryptocurrencies and making a case in their favor by asserting the control that they give people over their money. An Unprecedented Move The Emergencies Act has been invoked for the first time since it became law in 1988 to blunt the impact of the “Freedom Convoy” protests. The rallies began when a group of truckers moved into Canada’s capital on January 29, clogging streets surrounding the Parliament building and elsewhere in downtown Ottawa to protest against a new mandate that requires them to be fully vaccinated w... ... [| Skaityti daugiau](https://www.cryptoknowmics.com/news/charles-hoskinson-makes-a-case-for-crypto-amid-canadian-martial-law/) "
      ],
      "text/plain": [
       "<IPython.core.display.Markdown object>"
      ]
     },
     "execution_count": 8,
     "metadata": {},
     "output_type": "execute_result"
    }
   ],
   "source": [
    "#hide_input\n",
    "#md('##### {}'.format(titleBTC)) \n",
    "md(\"- {}{} {}{} [| Skaityti daugiau]({}) \".format(ada['title'],'. ', ada['body'], ' ...', ada['url']))"
   ]
  },
  {
   "cell_type": "code",
   "execution_count": 9,
   "id": "specified-ordering",
   "metadata": {
    "execution": {
     "iopub.execute_input": "2022-02-17T01:56:13.647681Z",
     "iopub.status.busy": "2022-02-17T01:56:13.647177Z",
     "iopub.status.idle": "2022-02-17T01:56:13.650357Z",
     "shell.execute_reply": "2022-02-17T01:56:13.649941Z"
    },
    "papermill": {
     "duration": 0.018315,
     "end_time": "2022-02-17T01:56:13.650462",
     "exception": false,
     "start_time": "2022-02-17T01:56:13.632147",
     "status": "completed"
    },
    "tags": []
   },
   "outputs": [
    {
     "data": {
      "text/markdown": [
       "- Coinbase, Robinhood, Kraken and Other Top Exchanges Join New Anti-Money Laundering Organization.  A slew of prominent exchange platforms are joining a new anti-money laundering initiative. According to a recent blog post by leading crypto exchange Coinbase, it and other popular trading platforms such as BlockFi, Circle, Robinhood, Fidelity Digital Assets, Gemini and Kraken will join the Travel Rule Universal Solution Technology (TRUST), a joint solution created to [&#8230;]The post Coinbase, Robinhood, Kraken and Other Top Exchanges Join New Anti-Money Laundering Organization appeared first on The Daily Hodl. ... [| Skaityti daugiau](https://dailyhodl.com/2022/02/16/coinbase-robinhood-kraken-and-other-top-exchanges-join-new-anti-money-laundering-organization/) "
      ],
      "text/plain": [
       "<IPython.core.display.Markdown object>"
      ]
     },
     "execution_count": 9,
     "metadata": {},
     "output_type": "execute_result"
    }
   ],
   "source": [
    "#hide_input\n",
    "#md('##### {}'.format(titleBTC)) \n",
    "md(\"- {}{} {}{} [| Skaityti daugiau]({}) \".format(exchange['title'],'. ', exchange['body'], ' ...', exchange['url']))"
   ]
  },
  {
   "cell_type": "code",
   "execution_count": null,
   "id": "tender-livestock",
   "metadata": {
    "papermill": {
     "duration": 0.01116,
     "end_time": "2022-02-17T01:56:13.672813",
     "exception": false,
     "start_time": "2022-02-17T01:56:13.661653",
     "status": "completed"
    },
    "tags": []
   },
   "outputs": [],
   "source": []
  },
  {
   "cell_type": "code",
   "execution_count": null,
   "id": "appreciated-diamond",
   "metadata": {
    "papermill": {
     "duration": 0.011555,
     "end_time": "2022-02-17T01:56:13.695737",
     "exception": false,
     "start_time": "2022-02-17T01:56:13.684182",
     "status": "completed"
    },
    "tags": []
   },
   "outputs": [],
   "source": []
  },
  {
   "cell_type": "code",
   "execution_count": null,
   "id": "romance-sweden",
   "metadata": {
    "papermill": {
     "duration": 0.011153,
     "end_time": "2022-02-17T01:56:13.719355",
     "exception": false,
     "start_time": "2022-02-17T01:56:13.708202",
     "status": "completed"
    },
    "tags": []
   },
   "outputs": [],
   "source": []
  },
  {
   "cell_type": "code",
   "execution_count": null,
   "id": "dietary-statistics",
   "metadata": {
    "papermill": {
     "duration": 0.011268,
     "end_time": "2022-02-17T01:56:13.741812",
     "exception": false,
     "start_time": "2022-02-17T01:56:13.730544",
     "status": "completed"
    },
    "tags": []
   },
   "outputs": [],
   "source": []
  }
 ],
 "metadata": {
  "kernelspec": {
   "display_name": "Python 3",
   "language": "python",
   "name": "python3"
  },
  "language_info": {
   "codemirror_mode": {
    "name": "ipython",
    "version": 3
   },
   "file_extension": ".py",
   "mimetype": "text/x-python",
   "name": "python",
   "nbconvert_exporter": "python",
   "pygments_lexer": "ipython3",
   "version": "3.6.15"
  },
  "papermill": {
   "default_parameters": {},
   "duration": 12.334842,
   "end_time": "2022-02-17T01:56:14.273432",
   "environment_variables": {},
   "exception": null,
   "input_path": "Market-News.ipynb",
   "output_path": "Market-News.ipynb",
   "parameters": {},
   "start_time": "2022-02-17T01:56:01.938590",
   "version": "2.2.2"
  }
 },
 "nbformat": 4,
 "nbformat_minor": 5
}