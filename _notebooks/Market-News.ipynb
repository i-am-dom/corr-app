{
 "cells": [
  {
   "cell_type": "markdown",
   "id": "short-greensboro",
   "metadata": {
    "papermill": {
     "duration": 0.012486,
     "end_time": "2022-03-01T02:19:32.871059",
     "exception": false,
     "start_time": "2022-03-01T02:19:32.858573",
     "status": "completed"
    },
    "tags": []
   },
   "source": [
    "# Kriptovaliutų naujienos"
   ]
  },
  {
   "cell_type": "code",
   "execution_count": 1,
   "id": "functioning-knowing",
   "metadata": {
    "execution": {
     "iopub.execute_input": "2022-03-01T02:19:32.900090Z",
     "iopub.status.busy": "2022-03-01T02:19:32.899547Z",
     "iopub.status.idle": "2022-03-01T02:19:34.082928Z",
     "shell.execute_reply": "2022-03-01T02:19:34.082473Z"
    },
    "papermill": {
     "duration": 1.202029,
     "end_time": "2022-03-01T02:19:34.083047",
     "exception": false,
     "start_time": "2022-03-01T02:19:32.881018",
     "status": "completed"
    },
    "tags": []
   },
   "outputs": [],
   "source": [
    "#hide_input\n",
    "import warnings\n",
    "warnings.filterwarnings('ignore')\n",
    "from scripts.read_data import read_api\n",
    "from scripts.read_data import read_news\n",
    "from scripts.read_data import read_covid\n",
    "import matplotlib.pyplot as plt \n",
    "from IPython.display import Markdown as md"
   ]
  },
  {
   "cell_type": "code",
   "execution_count": 2,
   "id": "shared-acceptance",
   "metadata": {
    "execution": {
     "iopub.execute_input": "2022-03-01T02:19:34.108129Z",
     "iopub.status.busy": "2022-03-01T02:19:34.107271Z",
     "iopub.status.idle": "2022-03-01T02:19:46.825185Z",
     "shell.execute_reply": "2022-03-01T02:19:46.824748Z"
    },
    "papermill": {
     "duration": 12.732677,
     "end_time": "2022-03-01T02:19:46.825296",
     "exception": false,
     "start_time": "2022-03-01T02:19:34.092619",
     "status": "completed"
    },
    "tags": []
   },
   "outputs": [],
   "source": [
    "#hide_input\n",
    "blockchain = read_news('blockchain') \n",
    "btc = read_news('btc') \n",
    "xrp = read_news('xrp') \n",
    "trx = read_news('trx') \n",
    "eth = read_news('eth')  \n",
    "ada = read_news('ada')\n",
    "exchange = read_news('exchange') "
   ]
  },
  {
   "cell_type": "code",
   "execution_count": 3,
   "id": "synthetic-notion",
   "metadata": {
    "execution": {
     "iopub.execute_input": "2022-03-01T02:19:46.849962Z",
     "iopub.status.busy": "2022-03-01T02:19:46.849468Z",
     "iopub.status.idle": "2022-03-01T02:19:46.852002Z",
     "shell.execute_reply": "2022-03-01T02:19:46.851596Z"
    },
    "papermill": {
     "duration": 0.017201,
     "end_time": "2022-03-01T02:19:46.852100",
     "exception": false,
     "start_time": "2022-03-01T02:19:46.834899",
     "status": "completed"
    },
    "tags": []
   },
   "outputs": [
    {
     "data": {
      "text/markdown": [
       "- NuGenesis’ Digitally Notarized Contracts (DNCs) with Arbitral Dispute Networks.  What is NuGenesis? NuGenesis is a team of businesspeople, engineers, web developers, and tech-savvy individuals, who are about to change the world. Headquartered primarily in Australia, with 7 physical office locations and 700+ employees worldwide, it’s a monster of an endeavor — and its blockchain is fully complete. The layer 1 blockchain has been entirely [&#8230;]The post NuGenesis’ Digitally Notarized Contracts (DNCs) with Arbitral Dispute Networks appeared first on NullTX. ... [| Skaityti daugiau](https://nulltx.com/nugenesis-digitally-notarized-contracts-dncs-with-arbitral-dispute-networks/) "
      ],
      "text/plain": [
       "<IPython.core.display.Markdown object>"
      ]
     },
     "execution_count": 3,
     "metadata": {},
     "output_type": "execute_result"
    }
   ],
   "source": [
    "#hide_input\n",
    "#md('##### {}'.format(titleBTC)) \n",
    "md(\"- {}{} {}{} [| Skaityti daugiau]({}) \".format(blockchain['title'],'. ', blockchain['body'], ' ...', blockchain['url']))"
   ]
  },
  {
   "cell_type": "code",
   "execution_count": 4,
   "id": "aging-caution",
   "metadata": {
    "execution": {
     "iopub.execute_input": "2022-03-01T02:19:46.875666Z",
     "iopub.status.busy": "2022-03-01T02:19:46.875167Z",
     "iopub.status.idle": "2022-03-01T02:19:46.878933Z",
     "shell.execute_reply": "2022-03-01T02:19:46.878546Z"
    },
    "papermill": {
     "duration": 0.017158,
     "end_time": "2022-03-01T02:19:46.879029",
     "exception": false,
     "start_time": "2022-03-01T02:19:46.861871",
     "status": "completed"
    },
    "tags": []
   },
   "outputs": [
    {
     "data": {
      "text/markdown": [
       "- Canada-based Bitcoin ETF Sees Surge In Demand Amid Unrest.  Despite the price of Bitcoin falling, demand for Bitcoin ETFs remains strong. The Purpose Bitcoin ETF (BTCC), located in Canada, has reached an all-time high in terms of holdings. The Purpose Bitcoin ETF, which was the world&#8217;s first spot-settled Bitcoin ETF, presently has 32,329 Bitcoins. Glassnode Says Bitcoin ETF At ATH Purpose Bitcoin ETF&#8217;s holdings [&#8230;] ... [| Skaityti daugiau](https://bitcoinist.com/canada-based-bitcoin-etf-sees-surge-in-demand/) "
      ],
      "text/plain": [
       "<IPython.core.display.Markdown object>"
      ]
     },
     "execution_count": 4,
     "metadata": {},
     "output_type": "execute_result"
    }
   ],
   "source": [
    "#hide_input\n",
    "#md('##### {}'.format(titleBTC)) \n",
    "md(\"- {}{} {}{} [| Skaityti daugiau]({}) \".format(btc['title'],'. ', btc['body'], ' ...', btc['url']))"
   ]
  },
  {
   "cell_type": "code",
   "execution_count": 5,
   "id": "organic-actress",
   "metadata": {
    "execution": {
     "iopub.execute_input": "2022-03-01T02:19:46.902605Z",
     "iopub.status.busy": "2022-03-01T02:19:46.901706Z",
     "iopub.status.idle": "2022-03-01T02:19:46.904887Z",
     "shell.execute_reply": "2022-03-01T02:19:46.905301Z"
    },
    "papermill": {
     "duration": 0.016422,
     "end_time": "2022-03-01T02:19:46.905405",
     "exception": false,
     "start_time": "2022-03-01T02:19:46.888983",
     "status": "completed"
    },
    "tags": []
   },
   "outputs": [
    {
     "data": {
      "text/markdown": [
       "- Ethereum, Binance Coin, XRP and One ETH Competitor Will Lead Altcoin Recovery, According to Analyst Nicholas Merten.  A popular crypto analyst is looking at how several leading altcoins stack up against Bitcoin (BTC) to see which assets might rally once again. In a new strategy session, Nicholas Merten tells his 511,000 YouTube subscribers that recent macroeconomic and geopolitical turmoil previously toppled the momentum in altcoin markets. However, Merten says current volatility will [&#8230;]The post Ethereum, Binance Coin, XRP and One ETH Competitor Will Lead Altcoin Recovery, According to Analyst Nicholas Merten appeared first on The Daily Hodl. ... [| Skaityti daugiau](https://dailyhodl.com/2022/02/28/ethereum-binance-coin-xrp-and-one-eth-competitor-will-lead-altcoin-recovery-according-to-analyst-nicholas-merten/) "
      ],
      "text/plain": [
       "<IPython.core.display.Markdown object>"
      ]
     },
     "execution_count": 5,
     "metadata": {},
     "output_type": "execute_result"
    }
   ],
   "source": [
    "#hide_input\n",
    "#md('##### {}'.format(titleBTC)) \n",
    "md(\"- {}{} {}{} [| Skaityti daugiau]({}) \".format(xrp['title'],'. ', xrp['body'], ' ...', xrp['url']))"
   ]
  },
  {
   "cell_type": "code",
   "execution_count": 6,
   "id": "prompt-farmer",
   "metadata": {
    "execution": {
     "iopub.execute_input": "2022-03-01T02:19:46.930050Z",
     "iopub.status.busy": "2022-03-01T02:19:46.929550Z",
     "iopub.status.idle": "2022-03-01T02:19:46.932099Z",
     "shell.execute_reply": "2022-03-01T02:19:46.931612Z"
    },
    "papermill": {
     "duration": 0.01652,
     "end_time": "2022-03-01T02:19:46.932192",
     "exception": false,
     "start_time": "2022-03-01T02:19:46.915672",
     "status": "completed"
    },
    "tags": []
   },
   "outputs": [
    {
     "data": {
      "text/markdown": [
       "- LUNA, AVAX, Tron Price Analysis: 27 February.  As the crypto-market recovered over the past two days, LUNA tested the 78.6% Fibonacci resistance while entering into an overbought position. Avalanche saw decent gains over the last few days as it swayed above its 20-50-200 SMA. For Tron, the $0.06-mark would be crucial to determining the chances of a possible breakout of the current [&#8230;] ... [| Skaityti daugiau](https://ambcrypto.com/luna-avax-tron-price-analysis-27-february/) "
      ],
      "text/plain": [
       "<IPython.core.display.Markdown object>"
      ]
     },
     "execution_count": 6,
     "metadata": {},
     "output_type": "execute_result"
    }
   ],
   "source": [
    "#hide_input\n",
    "#md('##### {}'.format(titleBTC)) \n",
    "md(\"- {}{} {}{} [| Skaityti daugiau]({}) \".format(trx['title'],'. ', trx['body'], ' ...', trx['url']))"
   ]
  },
  {
   "cell_type": "code",
   "execution_count": 7,
   "id": "illegal-greece",
   "metadata": {
    "execution": {
     "iopub.execute_input": "2022-03-01T02:19:46.957784Z",
     "iopub.status.busy": "2022-03-01T02:19:46.957287Z",
     "iopub.status.idle": "2022-03-01T02:19:46.959140Z",
     "shell.execute_reply": "2022-03-01T02:19:46.959533Z"
    },
    "papermill": {
     "duration": 0.01665,
     "end_time": "2022-03-01T02:19:46.959637",
     "exception": false,
     "start_time": "2022-03-01T02:19:46.942987",
     "status": "completed"
    },
    "tags": []
   },
   "outputs": [
    {
     "data": {
      "text/markdown": [
       "- Crypto Market Surge Continues as Bitcoin Tops $43K, Ethereum Nears $3K.  It’s green all over as this morning’s crypto market uptick turns into a dramatic leap for many top coins. ... [| Skaityti daugiau](https://decrypt.co/94055/crypto-market-surge-bitcoin-tops-43k-ethereum-3k) "
      ],
      "text/plain": [
       "<IPython.core.display.Markdown object>"
      ]
     },
     "execution_count": 7,
     "metadata": {},
     "output_type": "execute_result"
    }
   ],
   "source": [
    "#hide_input\n",
    "#md('##### {}'.format(titleBTC)) \n",
    "md(\"- {}{} {}{} [| Skaityti daugiau]({}) \".format(eth['title'],'. ', eth['body'], ' ...', eth['url']))"
   ]
  },
  {
   "cell_type": "code",
   "execution_count": 8,
   "id": "sublime-lounge",
   "metadata": {
    "execution": {
     "iopub.execute_input": "2022-03-01T02:19:46.986287Z",
     "iopub.status.busy": "2022-03-01T02:19:46.985789Z",
     "iopub.status.idle": "2022-03-01T02:19:46.987650Z",
     "shell.execute_reply": "2022-03-01T02:19:46.988044Z"
    },
    "papermill": {
     "duration": 0.016904,
     "end_time": "2022-03-01T02:19:46.988153",
     "exception": false,
     "start_time": "2022-03-01T02:19:46.971249",
     "status": "completed"
    },
    "tags": []
   },
   "outputs": [
    {
     "data": {
      "text/markdown": [
       "- How SundaeSwap’s community governance plans can benefit Cardano.  Cardano&#8216;s native decentralized cryptocurrency exchange (DEX) SundaeSwap has not had an easy start, with several hardships strewn across its way from the beginning. The DEX continues to brave on, however, as it has now laid out the route for it to become a fully decentralized platform through community governance. This, days after its Initial Stake [&#8230;] ... [| Skaityti daugiau](https://ambcrypto.com/sundaeswap-lays-out-plans-for-community-governance-heres-how-it-can-benefit-cardano/) "
      ],
      "text/plain": [
       "<IPython.core.display.Markdown object>"
      ]
     },
     "execution_count": 8,
     "metadata": {},
     "output_type": "execute_result"
    }
   ],
   "source": [
    "#hide_input\n",
    "#md('##### {}'.format(titleBTC)) \n",
    "md(\"- {}{} {}{} [| Skaityti daugiau]({}) \".format(ada['title'],'. ', ada['body'], ' ...', ada['url']))"
   ]
  },
  {
   "cell_type": "code",
   "execution_count": 9,
   "id": "specified-ordering",
   "metadata": {
    "execution": {
     "iopub.execute_input": "2022-03-01T02:19:47.014212Z",
     "iopub.status.busy": "2022-03-01T02:19:47.013466Z",
     "iopub.status.idle": "2022-03-01T02:19:47.016920Z",
     "shell.execute_reply": "2022-03-01T02:19:47.016442Z"
    },
    "papermill": {
     "duration": 0.017593,
     "end_time": "2022-03-01T02:19:47.017011",
     "exception": false,
     "start_time": "2022-03-01T02:19:46.999418",
     "status": "completed"
    },
    "tags": []
   },
   "outputs": [
    {
     "data": {
      "text/markdown": [
       "- Israeli authorities seize Hamas linked crypto accounts.  The Israeli government has confiscated 30 crypto wallets from a small exchange based in Gaza, where the Hamas terrorist group has bolstered its military. ... [| Skaityti daugiau](https://cointelegraph.com/news/israeli-authorities-seize-hamas-linked-crypto-accounts) "
      ],
      "text/plain": [
       "<IPython.core.display.Markdown object>"
      ]
     },
     "execution_count": 9,
     "metadata": {},
     "output_type": "execute_result"
    }
   ],
   "source": [
    "#hide_input\n",
    "#md('##### {}'.format(titleBTC)) \n",
    "md(\"- {}{} {}{} [| Skaityti daugiau]({}) \".format(exchange['title'],'. ', exchange['body'], ' ...', exchange['url']))"
   ]
  },
  {
   "cell_type": "code",
   "execution_count": null,
   "id": "tender-livestock",
   "metadata": {
    "papermill": {
     "duration": 0.011622,
     "end_time": "2022-03-01T02:19:47.040320",
     "exception": false,
     "start_time": "2022-03-01T02:19:47.028698",
     "status": "completed"
    },
    "tags": []
   },
   "outputs": [],
   "source": []
  },
  {
   "cell_type": "code",
   "execution_count": null,
   "id": "appreciated-diamond",
   "metadata": {
    "papermill": {
     "duration": 0.012447,
     "end_time": "2022-03-01T02:19:47.064788",
     "exception": false,
     "start_time": "2022-03-01T02:19:47.052341",
     "status": "completed"
    },
    "tags": []
   },
   "outputs": [],
   "source": []
  },
  {
   "cell_type": "code",
   "execution_count": null,
   "id": "romance-sweden",
   "metadata": {
    "papermill": {
     "duration": 0.011722,
     "end_time": "2022-03-01T02:19:47.089229",
     "exception": false,
     "start_time": "2022-03-01T02:19:47.077507",
     "status": "completed"
    },
    "tags": []
   },
   "outputs": [],
   "source": []
  },
  {
   "cell_type": "code",
   "execution_count": null,
   "id": "dietary-statistics",
   "metadata": {
    "papermill": {
     "duration": 0.011882,
     "end_time": "2022-03-01T02:19:47.113075",
     "exception": false,
     "start_time": "2022-03-01T02:19:47.101193",
     "status": "completed"
    },
    "tags": []
   },
   "outputs": [],
   "source": []
  }
 ],
 "metadata": {
  "kernelspec": {
   "display_name": "Python 3",
   "language": "python",
   "name": "python3"
  },
  "language_info": {
   "codemirror_mode": {
    "name": "ipython",
    "version": 3
   },
   "file_extension": ".py",
   "mimetype": "text/x-python",
   "name": "python",
   "nbconvert_exporter": "python",
   "pygments_lexer": "ipython3",
   "version": "3.6.15"
  },
  "papermill": {
   "default_parameters": {},
   "duration": 15.582647,
   "end_time": "2022-03-01T02:19:47.542638",
   "environment_variables": {},
   "exception": null,
   "input_path": "Market-News.ipynb",
   "output_path": "Market-News.ipynb",
   "parameters": {},
   "start_time": "2022-03-01T02:19:31.959991",
   "version": "2.2.2"
  }
 },
 "nbformat": 4,
 "nbformat_minor": 5
}