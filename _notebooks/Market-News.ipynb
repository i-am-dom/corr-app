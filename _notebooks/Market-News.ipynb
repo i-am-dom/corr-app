{
 "cells": [
  {
   "cell_type": "markdown",
   "id": "short-greensboro",
   "metadata": {
    "papermill": {
     "duration": 0.014387,
     "end_time": "2022-05-14T03:25:57.020878",
     "exception": false,
     "start_time": "2022-05-14T03:25:57.006491",
     "status": "completed"
    },
    "tags": []
   },
   "source": [
    "# Kriptovaliutų naujienos"
   ]
  },
  {
   "cell_type": "code",
   "execution_count": 1,
   "id": "functioning-knowing",
   "metadata": {
    "execution": {
     "iopub.execute_input": "2022-05-14T03:25:57.048366Z",
     "iopub.status.busy": "2022-05-14T03:25:57.047873Z",
     "iopub.status.idle": "2022-05-14T03:25:58.308149Z",
     "shell.execute_reply": "2022-05-14T03:25:58.307098Z"
    },
    "papermill": {
     "duration": 1.278177,
     "end_time": "2022-05-14T03:25:58.308296",
     "exception": false,
     "start_time": "2022-05-14T03:25:57.030119",
     "status": "completed"
    },
    "tags": []
   },
   "outputs": [],
   "source": [
    "#hide_input\n",
    "import warnings\n",
    "warnings.filterwarnings('ignore')\n",
    "from scripts.read_data import read_api\n",
    "from scripts.read_data import read_news\n",
    "from scripts.read_data import read_covid\n",
    "import matplotlib.pyplot as plt \n",
    "from IPython.display import Markdown as md"
   ]
  },
  {
   "cell_type": "code",
   "execution_count": 2,
   "id": "shared-acceptance",
   "metadata": {
    "execution": {
     "iopub.execute_input": "2022-05-14T03:25:58.332052Z",
     "iopub.status.busy": "2022-05-14T03:25:58.331523Z",
     "iopub.status.idle": "2022-05-14T03:26:09.239458Z",
     "shell.execute_reply": "2022-05-14T03:26:09.238490Z"
    },
    "papermill": {
     "duration": 10.922147,
     "end_time": "2022-05-14T03:26:09.239588",
     "exception": false,
     "start_time": "2022-05-14T03:25:58.317441",
     "status": "completed"
    },
    "tags": []
   },
   "outputs": [],
   "source": [
    "#hide_input\n",
    "blockchain = read_news('blockchain') \n",
    "btc = read_news('btc') \n",
    "xrp = read_news('xrp') \n",
    "trx = read_news('trx') \n",
    "eth = read_news('eth')  \n",
    "ada = read_news('ada')\n",
    "exchange = read_news('exchange') "
   ]
  },
  {
   "cell_type": "code",
   "execution_count": 3,
   "id": "synthetic-notion",
   "metadata": {
    "execution": {
     "iopub.execute_input": "2022-05-14T03:26:09.261674Z",
     "iopub.status.busy": "2022-05-14T03:26:09.261174Z",
     "iopub.status.idle": "2022-05-14T03:26:09.263173Z",
     "shell.execute_reply": "2022-05-14T03:26:09.263555Z"
    },
    "papermill": {
     "duration": 0.016034,
     "end_time": "2022-05-14T03:26:09.263661",
     "exception": false,
     "start_time": "2022-05-14T03:26:09.247627",
     "status": "completed"
    },
    "tags": []
   },
   "outputs": [
    {
     "data": {
      "text/markdown": [
       "- Chainlink : Enabling Smart Contracts to Interact With Real World Data.  In today’s world, blockchain oracles are frequently thought of as decentralised services with a single goal, i.e. to transfer data from off-chain sources into blockchains. It’s only a small step from forwarding data to computing, storing it, or manually transferring it. This finding supports a considerably broader interpretation of oracle functionality. Smart contract service requirements are expanding, as are the diverse technologies that rely on oracle networks. In other words, an oracle may and will be a general-purpose, computer-enabled interface, bidirectional for off-chain and on-chain systems. Oracle’s mission in the blockchain ecosystem is to improve smart contract performance, functionality, and interoperability to introduce new trust models and transparency to various businesses. This will be accomplished through expanding the usage of hybrid smart contracts, which combine the distinctive qualities of blockchains with the unique capabilities of off-chain systems like oracle networks to achieve far more reach and power than on-chain systems alone. Chainlink is useful in this situation. What is Chainlink? Chainlink is a decentralised oracle network that enables smart contracts to securely interact with real-world data and services outside of blockchain networks. Chainlink is not a monolithic network like a blockchain but rather an infrastructure and framework for building blockchain-agnostic oracle networks that augmen... ... [| Skaityti daugiau](https://www.cryptoknowmics.com/news/chainlink-enabling-smart-contracts-to-interact-with-real-world-data/?utm_source=rss&utm_medium=rss&utm_campaign=chainlink-enabling-smart-contracts-to-interact-with-real-world-data) "
      ],
      "text/plain": [
       "<IPython.core.display.Markdown object>"
      ]
     },
     "execution_count": 3,
     "metadata": {},
     "output_type": "execute_result"
    }
   ],
   "source": [
    "#hide_input\n",
    "#md('##### {}'.format(titleBTC)) \n",
    "md(\"- {}{} {}{} [| Skaityti daugiau]({}) \".format(blockchain['title'],'. ', blockchain['body'], ' ...', blockchain['url']))"
   ]
  },
  {
   "cell_type": "code",
   "execution_count": 4,
   "id": "aging-caution",
   "metadata": {
    "execution": {
     "iopub.execute_input": "2022-05-14T03:26:09.286183Z",
     "iopub.status.busy": "2022-05-14T03:26:09.285592Z",
     "iopub.status.idle": "2022-05-14T03:26:09.288152Z",
     "shell.execute_reply": "2022-05-14T03:26:09.288559Z"
    },
    "papermill": {
     "duration": 0.015999,
     "end_time": "2022-05-14T03:26:09.288679",
     "exception": false,
     "start_time": "2022-05-14T03:26:09.272680",
     "status": "completed"
    },
    "tags": []
   },
   "outputs": [
    {
     "data": {
      "text/markdown": [
       "- Will The Sandbox [SAND] investors mend their ways after this market crash.  12 May saw massacres across the crypto market, compounded by Terra [LUNA] and TerraUSD [UST] crashing to unimaginable lows. However, 13 May had Bitcoin and Ether seeing recoveries of more than 5% in a day. This boosted the alts as well. All in all, the drama considerably changed the way investors feel about their favorite [&#8230;] ... [| Skaityti daugiau](https://ambcrypto.com/will-the-sandbox-sand-investors-mend-their-ways-after-this-market-crash/) "
      ],
      "text/plain": [
       "<IPython.core.display.Markdown object>"
      ]
     },
     "execution_count": 4,
     "metadata": {},
     "output_type": "execute_result"
    }
   ],
   "source": [
    "#hide_input\n",
    "#md('##### {}'.format(titleBTC)) \n",
    "md(\"- {}{} {}{} [| Skaityti daugiau]({}) \".format(btc['title'],'. ', btc['body'], ' ...', btc['url']))"
   ]
  },
  {
   "cell_type": "code",
   "execution_count": 5,
   "id": "organic-actress",
   "metadata": {
    "execution": {
     "iopub.execute_input": "2022-05-14T03:26:09.311729Z",
     "iopub.status.busy": "2022-05-14T03:26:09.311206Z",
     "iopub.status.idle": "2022-05-14T03:26:09.313587Z",
     "shell.execute_reply": "2022-05-14T03:26:09.313972Z"
    },
    "papermill": {
     "duration": 0.016043,
     "end_time": "2022-05-14T03:26:09.314081",
     "exception": false,
     "start_time": "2022-05-14T03:26:09.298038",
     "status": "completed"
    },
    "tags": []
   },
   "outputs": [
    {
     "data": {
      "text/markdown": [
       "- XRP Flashed A Sign Of Revival; Where’s It Headed Next?.  The price of XRP has nosedived substantially to a level that it last touched almost 70 weeks ago. At the current time, XRP&#8217;s price have been trading near its immediate support level of $0.36. Bitcoin continues to be on shaky grounds as the coin tried recovering by moving past the $30,000 mark. At press time, the coin fell back to $29,700. The majority of the industry&#8217;s altcoins have continued to extend losses today. The bearish pull remains strong in the market at the time of writing. Over the last 24 hours, the market has bottomed out and that is why a chance of price revival can still be considered. The technical outlook of the coin shows that a relief rally could be on the charts, however, the macro market is still fragile. Strength from the broader market would be needed as well so that sellers don&#8217;t outnumber buyers in the market forcing prices to fall again. Price Analysis: XRP One Week Chart XRP was trading at $0.42 at the time of writing. The coin had presented signs of revival because the coin soared by 10% over the last 24 hours. It is still quite uncertain if XRP will manage to trade above its nearest support line of $0.36. A break below which can cause the coin to tumble to a low of $0.13. With buyers returning, XRP might attempt to trade above its immediate resistance of $0.56. XRP also flashed an equal high on the one week chart, this pattern is connected to bullish price action in the market. T... ... [| Skaityti daugiau](https://www.newsbtc.com/news/xrp-flashed-a-sign-of-revival-wheres-it-headed-next/) "
      ],
      "text/plain": [
       "<IPython.core.display.Markdown object>"
      ]
     },
     "execution_count": 5,
     "metadata": {},
     "output_type": "execute_result"
    }
   ],
   "source": [
    "#hide_input\n",
    "#md('##### {}'.format(titleBTC)) \n",
    "md(\"- {}{} {}{} [| Skaityti daugiau]({}) \".format(xrp['title'],'. ', xrp['body'], ' ...', xrp['url']))"
   ]
  },
  {
   "cell_type": "code",
   "execution_count": 6,
   "id": "prompt-farmer",
   "metadata": {
    "execution": {
     "iopub.execute_input": "2022-05-14T03:26:09.337019Z",
     "iopub.status.busy": "2022-05-14T03:26:09.336544Z",
     "iopub.status.idle": "2022-05-14T03:26:09.339455Z",
     "shell.execute_reply": "2022-05-14T03:26:09.339909Z"
    },
    "papermill": {
     "duration": 0.016902,
     "end_time": "2022-05-14T03:26:09.340009",
     "exception": false,
     "start_time": "2022-05-14T03:26:09.323107",
     "status": "completed"
    },
    "tags": []
   },
   "outputs": [
    {
     "data": {
      "text/markdown": [
       "- Justin Sun Promotes High-Yield, Terra-Inspired Stablecoin on Tron.  A TRON lending protocol is offering 30% interest rates for holding USDD stablecoin. What could possibly go wrong? ... [| Skaityti daugiau](https://decrypt.co/100367/justin-sun-promotes-high-yield-terra-inspired-stablecoin-tron) "
      ],
      "text/plain": [
       "<IPython.core.display.Markdown object>"
      ]
     },
     "execution_count": 6,
     "metadata": {},
     "output_type": "execute_result"
    }
   ],
   "source": [
    "#hide_input\n",
    "#md('##### {}'.format(titleBTC)) \n",
    "md(\"- {}{} {}{} [| Skaityti daugiau]({}) \".format(trx['title'],'. ', trx['body'], ' ...', trx['url']))"
   ]
  },
  {
   "cell_type": "code",
   "execution_count": 7,
   "id": "illegal-greece",
   "metadata": {
    "execution": {
     "iopub.execute_input": "2022-05-14T03:26:09.362443Z",
     "iopub.status.busy": "2022-05-14T03:26:09.361959Z",
     "iopub.status.idle": "2022-05-14T03:26:09.364957Z",
     "shell.execute_reply": "2022-05-14T03:26:09.364571Z"
    },
    "papermill": {
     "duration": 0.015606,
     "end_time": "2022-05-14T03:26:09.365048",
     "exception": false,
     "start_time": "2022-05-14T03:26:09.349442",
     "status": "completed"
    },
    "tags": []
   },
   "outputs": [
    {
     "data": {
      "text/markdown": [
       "- Chainlink : Enabling Smart Contracts to Interact With Real World Data.  In today’s world, blockchain oracles are frequently thought of as decentralised services with a single goal, i.e. to transfer data from off-chain sources into blockchains. It’s only a small step from forwarding data to computing, storing it, or manually transferring it. This finding supports a considerably broader interpretation of oracle functionality. Smart contract service requirements are expanding, as are the diverse technologies that rely on oracle networks. In other words, an oracle may and will be a general-purpose, computer-enabled interface, bidirectional for off-chain and on-chain systems. Oracle’s mission in the blockchain ecosystem is to improve smart contract performance, functionality, and interoperability to introduce new trust models and transparency to various businesses. This will be accomplished through expanding the usage of hybrid smart contracts, which combine the distinctive qualities of blockchains with the unique capabilities of off-chain systems like oracle networks to achieve far more reach and power than on-chain systems alone. Chainlink is useful in this situation. What is Chainlink? Chainlink is a decentralised oracle network that enables smart contracts to securely interact with real-world data and services outside of blockchain networks. Chainlink is not a monolithic network like a blockchain but rather an infrastructure and framework for building blockchain-agnostic oracle networks that augmen... ... [| Skaityti daugiau](https://www.cryptoknowmics.com/news/chainlink-enabling-smart-contracts-to-interact-with-real-world-data/?utm_source=rss&utm_medium=rss&utm_campaign=chainlink-enabling-smart-contracts-to-interact-with-real-world-data) "
      ],
      "text/plain": [
       "<IPython.core.display.Markdown object>"
      ]
     },
     "execution_count": 7,
     "metadata": {},
     "output_type": "execute_result"
    }
   ],
   "source": [
    "#hide_input\n",
    "#md('##### {}'.format(titleBTC)) \n",
    "md(\"- {}{} {}{} [| Skaityti daugiau]({}) \".format(eth['title'],'. ', eth['body'], ' ...', eth['url']))"
   ]
  },
  {
   "cell_type": "code",
   "execution_count": 8,
   "id": "sublime-lounge",
   "metadata": {
    "execution": {
     "iopub.execute_input": "2022-05-14T03:26:09.388156Z",
     "iopub.status.busy": "2022-05-14T03:26:09.387681Z",
     "iopub.status.idle": "2022-05-14T03:26:09.390657Z",
     "shell.execute_reply": "2022-05-14T03:26:09.390273Z"
    },
    "papermill": {
     "duration": 0.016363,
     "end_time": "2022-05-14T03:26:09.390748",
     "exception": false,
     "start_time": "2022-05-14T03:26:09.374385",
     "status": "completed"
    },
    "tags": []
   },
   "outputs": [
    {
     "data": {
      "text/markdown": [
       "- Cardano: Despite demand at $0.4, here’s why ADA’s path to recovery seems bleak.  Disclaimer: The findings of the following analysis are the sole opinions of the writer and should not be considered investment advice. There have been some positive developments behind Cardano in the past few days. The Cardano community had voted on the Project Catalyst Fund seven back in March and will soon be voting on Fund [&#8230;] ... [| Skaityti daugiau](https://ambcrypto.com/cardano-despite-demand-at-0-4-heres-why-adas-path-to-recovery-seems-bleak/) "
      ],
      "text/plain": [
       "<IPython.core.display.Markdown object>"
      ]
     },
     "execution_count": 8,
     "metadata": {},
     "output_type": "execute_result"
    }
   ],
   "source": [
    "#hide_input\n",
    "#md('##### {}'.format(titleBTC)) \n",
    "md(\"- {}{} {}{} [| Skaityti daugiau]({}) \".format(ada['title'],'. ', ada['body'], ' ...', ada['url']))"
   ]
  },
  {
   "cell_type": "code",
   "execution_count": 9,
   "id": "specified-ordering",
   "metadata": {
    "execution": {
     "iopub.execute_input": "2022-05-14T03:26:09.417283Z",
     "iopub.status.busy": "2022-05-14T03:26:09.415644Z",
     "iopub.status.idle": "2022-05-14T03:26:09.419378Z",
     "shell.execute_reply": "2022-05-14T03:26:09.420011Z"
    },
    "papermill": {
     "duration": 0.019278,
     "end_time": "2022-05-14T03:26:09.420172",
     "exception": false,
     "start_time": "2022-05-14T03:26:09.400894",
     "status": "completed"
    },
    "tags": []
   },
   "outputs": [
    {
     "data": {
      "text/markdown": [
       "- Major Increase In Bitcoin Trading Volume.  A significant amount of bitcoin changed hands on the United States’ most dominant spot exchange, Coinbase, as investors look to buy the dip. ... [| Skaityti daugiau](https://bitcoinmagazine.com/markets/major-increase-in-bitcoin-trading-volume) "
      ],
      "text/plain": [
       "<IPython.core.display.Markdown object>"
      ]
     },
     "execution_count": 9,
     "metadata": {},
     "output_type": "execute_result"
    }
   ],
   "source": [
    "#hide_input\n",
    "#md('##### {}'.format(titleBTC)) \n",
    "md(\"- {}{} {}{} [| Skaityti daugiau]({}) \".format(exchange['title'],'. ', exchange['body'], ' ...', exchange['url']))"
   ]
  },
  {
   "cell_type": "code",
   "execution_count": null,
   "id": "tender-livestock",
   "metadata": {
    "papermill": {
     "duration": 0.010876,
     "end_time": "2022-05-14T03:26:09.442121",
     "exception": false,
     "start_time": "2022-05-14T03:26:09.431245",
     "status": "completed"
    },
    "tags": []
   },
   "outputs": [],
   "source": []
  },
  {
   "cell_type": "code",
   "execution_count": null,
   "id": "appreciated-diamond",
   "metadata": {
    "papermill": {
     "duration": 0.010883,
     "end_time": "2022-05-14T03:26:09.464391",
     "exception": false,
     "start_time": "2022-05-14T03:26:09.453508",
     "status": "completed"
    },
    "tags": []
   },
   "outputs": [],
   "source": []
  },
  {
   "cell_type": "code",
   "execution_count": null,
   "id": "romance-sweden",
   "metadata": {
    "papermill": {
     "duration": 0.010486,
     "end_time": "2022-05-14T03:26:09.486114",
     "exception": false,
     "start_time": "2022-05-14T03:26:09.475628",
     "status": "completed"
    },
    "tags": []
   },
   "outputs": [],
   "source": []
  },
  {
   "cell_type": "code",
   "execution_count": null,
   "id": "dietary-statistics",
   "metadata": {
    "papermill": {
     "duration": 0.012064,
     "end_time": "2022-05-14T03:26:09.510310",
     "exception": false,
     "start_time": "2022-05-14T03:26:09.498246",
     "status": "completed"
    },
    "tags": []
   },
   "outputs": [],
   "source": []
  }
 ],
 "metadata": {
  "kernelspec": {
   "display_name": "Python 3",
   "language": "python",
   "name": "python3"
  },
  "language_info": {
   "codemirror_mode": {
    "name": "ipython",
    "version": 3
   },
   "file_extension": ".py",
   "mimetype": "text/x-python",
   "name": "python",
   "nbconvert_exporter": "python",
   "pygments_lexer": "ipython3",
   "version": "3.6.15"
  },
  "papermill": {
   "default_parameters": {},
   "duration": 14.177107,
   "end_time": "2022-05-14T03:26:09.941786",
   "environment_variables": {},
   "exception": null,
   "input_path": "Market-News.ipynb",
   "output_path": "Market-News.ipynb",
   "parameters": {},
   "start_time": "2022-05-14T03:25:55.764679",
   "version": "2.2.2"
  }
 },
 "nbformat": 4,
 "nbformat_minor": 5
}