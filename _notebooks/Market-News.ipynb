{
 "cells": [
  {
   "cell_type": "markdown",
   "id": "short-greensboro",
   "metadata": {
    "papermill": {
     "duration": 0.012606,
     "end_time": "2022-08-04T03:05:19.100784",
     "exception": false,
     "start_time": "2022-08-04T03:05:19.088178",
     "status": "completed"
    },
    "tags": []
   },
   "source": [
    "# Kriptovaliutų naujienos"
   ]
  },
  {
   "cell_type": "code",
   "execution_count": 1,
   "id": "functioning-knowing",
   "metadata": {
    "execution": {
     "iopub.execute_input": "2022-08-04T03:05:19.131177Z",
     "iopub.status.busy": "2022-08-04T03:05:19.130585Z",
     "iopub.status.idle": "2022-08-04T03:05:20.287443Z",
     "shell.execute_reply": "2022-08-04T03:05:20.286960Z"
    },
    "papermill": {
     "duration": 1.175996,
     "end_time": "2022-08-04T03:05:20.287565",
     "exception": false,
     "start_time": "2022-08-04T03:05:19.111569",
     "status": "completed"
    },
    "tags": []
   },
   "outputs": [],
   "source": [
    "#hide_input\n",
    "import warnings\n",
    "warnings.filterwarnings('ignore')\n",
    "from scripts.read_data import read_api\n",
    "from scripts.read_data import read_news\n",
    "from scripts.read_data import read_covid\n",
    "import matplotlib.pyplot as plt \n",
    "from IPython.display import Markdown as md"
   ]
  },
  {
   "cell_type": "code",
   "execution_count": 2,
   "id": "shared-acceptance",
   "metadata": {
    "execution": {
     "iopub.execute_input": "2022-08-04T03:05:20.312933Z",
     "iopub.status.busy": "2022-08-04T03:05:20.311990Z",
     "iopub.status.idle": "2022-08-04T03:05:31.459168Z",
     "shell.execute_reply": "2022-08-04T03:05:31.458243Z"
    },
    "papermill": {
     "duration": 11.161836,
     "end_time": "2022-08-04T03:05:31.459288",
     "exception": false,
     "start_time": "2022-08-04T03:05:20.297452",
     "status": "completed"
    },
    "tags": []
   },
   "outputs": [],
   "source": [
    "#hide_input\n",
    "blockchain = read_news('blockchain') \n",
    "btc = read_news('btc') \n",
    "xrp = read_news('xrp') \n",
    "trx = read_news('trx') \n",
    "eth = read_news('eth')  \n",
    "ada = read_news('ada')\n",
    "exchange = read_news('exchange') "
   ]
  },
  {
   "cell_type": "code",
   "execution_count": 3,
   "id": "synthetic-notion",
   "metadata": {
    "execution": {
     "iopub.execute_input": "2022-08-04T03:05:31.483618Z",
     "iopub.status.busy": "2022-08-04T03:05:31.483064Z",
     "iopub.status.idle": "2022-08-04T03:05:31.485707Z",
     "shell.execute_reply": "2022-08-04T03:05:31.486131Z"
    },
    "papermill": {
     "duration": 0.017636,
     "end_time": "2022-08-04T03:05:31.486240",
     "exception": false,
     "start_time": "2022-08-04T03:05:31.468604",
     "status": "completed"
    },
    "tags": []
   },
   "outputs": [
    {
     "data": {
      "text/markdown": [
       "- Winnipeg police get provincial funding to beef blockchain forensics unit.  The Winnipeg police service received money from the Criminal Property Forfeiture Fund to provide training through the Cryptocurrency Tracing Certified Examiner course. ... [| Skaityti daugiau](https://cointelegraph.com/news/winnipeg-police-get-provincial-funding-to-beef-blockchain-forensics-unit) "
      ],
      "text/plain": [
       "<IPython.core.display.Markdown object>"
      ]
     },
     "execution_count": 3,
     "metadata": {},
     "output_type": "execute_result"
    }
   ],
   "source": [
    "#hide_input\n",
    "#md('##### {}'.format(titleBTC)) \n",
    "md(\"- {}{} {}{} [| Skaityti daugiau]({}) \".format(blockchain['title'],'. ', blockchain['body'], ' ...', blockchain['url']))"
   ]
  },
  {
   "cell_type": "code",
   "execution_count": 4,
   "id": "aging-caution",
   "metadata": {
    "execution": {
     "iopub.execute_input": "2022-08-04T03:05:31.509360Z",
     "iopub.status.busy": "2022-08-04T03:05:31.508783Z",
     "iopub.status.idle": "2022-08-04T03:05:31.511495Z",
     "shell.execute_reply": "2022-08-04T03:05:31.511916Z"
    },
    "papermill": {
     "duration": 0.016521,
     "end_time": "2022-08-04T03:05:31.512043",
     "exception": false,
     "start_time": "2022-08-04T03:05:31.495522",
     "status": "completed"
    },
    "tags": []
   },
   "outputs": [
    {
     "data": {
      "text/markdown": [
       "- Bitcoin, Ethereum, Cronos, and Chainlink Daily Price Analyses – 3 August Roundup.  The global crypto market has continued to be bullish, but the pace of gains is relatively slower. Compared to the previous bullish waves, its value has seen little improvement. The positive changes for Bitcoin, Ethereum, etc., have continued but didn&#8217;t cross the expected resistance levels. It would need a stronger wave to take them higher. &#8230;  Bitcoin, Ethereum, Cronos, and Chainlink Daily Price Analyses – 3 August Roundup Read More &#187; ... [| Skaityti daugiau](https://www.cryptopolitan.com/bitcoin-ethereum-cronos-and-chainlink-daily-price-analyses-3-august-roundup/) "
      ],
      "text/plain": [
       "<IPython.core.display.Markdown object>"
      ]
     },
     "execution_count": 4,
     "metadata": {},
     "output_type": "execute_result"
    }
   ],
   "source": [
    "#hide_input\n",
    "#md('##### {}'.format(titleBTC)) \n",
    "md(\"- {}{} {}{} [| Skaityti daugiau]({}) \".format(btc['title'],'. ', btc['body'], ' ...', btc['url']))"
   ]
  },
  {
   "cell_type": "code",
   "execution_count": 5,
   "id": "organic-actress",
   "metadata": {
    "execution": {
     "iopub.execute_input": "2022-08-04T03:05:31.535966Z",
     "iopub.status.busy": "2022-08-04T03:05:31.535394Z",
     "iopub.status.idle": "2022-08-04T03:05:31.540835Z",
     "shell.execute_reply": "2022-08-04T03:05:31.540367Z"
    },
    "papermill": {
     "duration": 0.01923,
     "end_time": "2022-08-04T03:05:31.540937",
     "exception": false,
     "start_time": "2022-08-04T03:05:31.521707",
     "status": "completed"
    },
    "tags": []
   },
   "outputs": [
    {
     "data": {
      "text/markdown": [
       "- Ripple's General Counsel Reacts to SEC's \"Very Dangerous\" Legal Theory.  Stuart Alderoty claims that the SEC is attempting to expand its reach beyond securities  ... [| Skaityti daugiau](https://u.today/ripples-general-counsel-reacts-to-secs-very-dangerous-legal-theory) "
      ],
      "text/plain": [
       "<IPython.core.display.Markdown object>"
      ]
     },
     "execution_count": 5,
     "metadata": {},
     "output_type": "execute_result"
    }
   ],
   "source": [
    "#hide_input\n",
    "#md('##### {}'.format(titleBTC)) \n",
    "md(\"- {}{} {}{} [| Skaityti daugiau]({}) \".format(xrp['title'],'. ', xrp['body'], ' ...', xrp['url']))"
   ]
  },
  {
   "cell_type": "code",
   "execution_count": 6,
   "id": "prompt-farmer",
   "metadata": {
    "execution": {
     "iopub.execute_input": "2022-08-04T03:05:31.565442Z",
     "iopub.status.busy": "2022-08-04T03:05:31.564880Z",
     "iopub.status.idle": "2022-08-04T03:05:31.568234Z",
     "shell.execute_reply": "2022-08-04T03:05:31.567762Z"
    },
    "papermill": {
     "duration": 0.017464,
     "end_time": "2022-08-04T03:05:31.568332",
     "exception": false,
     "start_time": "2022-08-04T03:05:31.550868",
     "status": "completed"
    },
    "tags": []
   },
   "outputs": [
    {
     "data": {
      "text/markdown": [
       "- Did TRON conclude July with an impressive performance.  TRON has raised the bar in recent weeks with the overturn in the market sentiment. The network performed well in the previous week with certain on-chain data signaling growing traders&#8217; optimism. Reportedly, the total number of accounts on TRON recently reached 104.8 million while the total number of transactions reached 3.61 billion. Sunshine + Rainbows [&#8230;] ... [| Skaityti daugiau](https://ambcrypto.com/did-tron-conclude-july-with-an-impressive-performance/) "
      ],
      "text/plain": [
       "<IPython.core.display.Markdown object>"
      ]
     },
     "execution_count": 6,
     "metadata": {},
     "output_type": "execute_result"
    }
   ],
   "source": [
    "#hide_input\n",
    "#md('##### {}'.format(titleBTC)) \n",
    "md(\"- {}{} {}{} [| Skaityti daugiau]({}) \".format(trx['title'],'. ', trx['body'], ' ...', trx['url']))"
   ]
  },
  {
   "cell_type": "code",
   "execution_count": 7,
   "id": "illegal-greece",
   "metadata": {
    "execution": {
     "iopub.execute_input": "2022-08-04T03:05:31.593707Z",
     "iopub.status.busy": "2022-08-04T03:05:31.593167Z",
     "iopub.status.idle": "2022-08-04T03:05:31.596154Z",
     "shell.execute_reply": "2022-08-04T03:05:31.596583Z"
    },
    "papermill": {
     "duration": 0.017982,
     "end_time": "2022-08-04T03:05:31.596691",
     "exception": false,
     "start_time": "2022-08-04T03:05:31.578709",
     "status": "completed"
    },
    "tags": []
   },
   "outputs": [
    {
     "data": {
      "text/markdown": [
       "- Bitcoin, Ethereum, Cronos, and Chainlink Daily Price Analyses – 3 August Roundup.  The global crypto market has continued to be bullish, but the pace of gains is relatively slower. Compared to the previous bullish waves, its value has seen little improvement. The positive changes for Bitcoin, Ethereum, etc., have continued but didn&#8217;t cross the expected resistance levels. It would need a stronger wave to take them higher. &#8230;  Bitcoin, Ethereum, Cronos, and Chainlink Daily Price Analyses – 3 August Roundup Read More &#187; ... [| Skaityti daugiau](https://www.cryptopolitan.com/bitcoin-ethereum-cronos-and-chainlink-daily-price-analyses-3-august-roundup/) "
      ],
      "text/plain": [
       "<IPython.core.display.Markdown object>"
      ]
     },
     "execution_count": 7,
     "metadata": {},
     "output_type": "execute_result"
    }
   ],
   "source": [
    "#hide_input\n",
    "#md('##### {}'.format(titleBTC)) \n",
    "md(\"- {}{} {}{} [| Skaityti daugiau]({}) \".format(eth['title'],'. ', eth['body'], ' ...', eth['url']))"
   ]
  },
  {
   "cell_type": "code",
   "execution_count": 8,
   "id": "sublime-lounge",
   "metadata": {
    "execution": {
     "iopub.execute_input": "2022-08-04T03:05:31.622647Z",
     "iopub.status.busy": "2022-08-04T03:05:31.621844Z",
     "iopub.status.idle": "2022-08-04T03:05:31.625938Z",
     "shell.execute_reply": "2022-08-04T03:05:31.625489Z"
    },
    "papermill": {
     "duration": 0.017822,
     "end_time": "2022-08-04T03:05:31.626033",
     "exception": false,
     "start_time": "2022-08-04T03:05:31.608211",
     "status": "completed"
    },
    "tags": []
   },
   "outputs": [
    {
     "data": {
      "text/markdown": [
       "- Cardano price analysis: ADA resists downfall below $0.45.  Cardano price analysis is still bearish in majority, although price fought back to rise up to $0.51 with a 3 percent increment on daily price action. Earlier in the day, ADA had fallen down to $0.48 with bears in control of the market. This was followed from an earlier uptrend that took Cardano price up &#8230;  Cardano price analysis: ADA resists downfall below $0.45 Read More &#187; ... [| Skaityti daugiau](https://www.cryptopolitan.com/cardano-price-analysis-2022-08-03/) "
      ],
      "text/plain": [
       "<IPython.core.display.Markdown object>"
      ]
     },
     "execution_count": 8,
     "metadata": {},
     "output_type": "execute_result"
    }
   ],
   "source": [
    "#hide_input\n",
    "#md('##### {}'.format(titleBTC)) \n",
    "md(\"- {}{} {}{} [| Skaityti daugiau]({}) \".format(ada['title'],'. ', ada['body'], ' ...', ada['url']))"
   ]
  },
  {
   "cell_type": "code",
   "execution_count": 9,
   "id": "specified-ordering",
   "metadata": {
    "execution": {
     "iopub.execute_input": "2022-08-04T03:05:31.652566Z",
     "iopub.status.busy": "2022-08-04T03:05:31.651959Z",
     "iopub.status.idle": "2022-08-04T03:05:31.655424Z",
     "shell.execute_reply": "2022-08-04T03:05:31.654977Z"
    },
    "papermill": {
     "duration": 0.018603,
     "end_time": "2022-08-04T03:05:31.655522",
     "exception": false,
     "start_time": "2022-08-04T03:05:31.636919",
     "status": "completed"
    },
    "tags": []
   },
   "outputs": [
    {
     "data": {
      "text/markdown": [
       "- Ethereum: This metric underlines change in investors’ sentiment.  People have been feeling the heat of falling prices throughout 2022. Even after the recent rebound, exchange balances have been rising while the top non-exchange balance continues to decrease. Stacking up It is no secret that crypto prices have dropped ridiculously over the first half of 2022. Like other cryptocurrencies, ETH is seeing a rise [&#8230;] ... [| Skaityti daugiau](https://ambcrypto.com/ethereum-this-metric-is-testament-of-change-in-investors-sentiment/) "
      ],
      "text/plain": [
       "<IPython.core.display.Markdown object>"
      ]
     },
     "execution_count": 9,
     "metadata": {},
     "output_type": "execute_result"
    }
   ],
   "source": [
    "#hide_input\n",
    "#md('##### {}'.format(titleBTC)) \n",
    "md(\"- {}{} {}{} [| Skaityti daugiau]({}) \".format(exchange['title'],'. ', exchange['body'], ' ...', exchange['url']))"
   ]
  },
  {
   "cell_type": "code",
   "execution_count": null,
   "id": "tender-livestock",
   "metadata": {
    "papermill": {
     "duration": 0.011275,
     "end_time": "2022-08-04T03:05:31.678030",
     "exception": false,
     "start_time": "2022-08-04T03:05:31.666755",
     "status": "completed"
    },
    "tags": []
   },
   "outputs": [],
   "source": []
  },
  {
   "cell_type": "code",
   "execution_count": null,
   "id": "appreciated-diamond",
   "metadata": {
    "papermill": {
     "duration": 0.011509,
     "end_time": "2022-08-04T03:05:31.700895",
     "exception": false,
     "start_time": "2022-08-04T03:05:31.689386",
     "status": "completed"
    },
    "tags": []
   },
   "outputs": [],
   "source": []
  },
  {
   "cell_type": "code",
   "execution_count": null,
   "id": "romance-sweden",
   "metadata": {
    "papermill": {
     "duration": 0.0111,
     "end_time": "2022-08-04T03:05:31.723151",
     "exception": false,
     "start_time": "2022-08-04T03:05:31.712051",
     "status": "completed"
    },
    "tags": []
   },
   "outputs": [],
   "source": []
  },
  {
   "cell_type": "code",
   "execution_count": null,
   "id": "dietary-statistics",
   "metadata": {
    "papermill": {
     "duration": 0.011513,
     "end_time": "2022-08-04T03:05:31.745908",
     "exception": false,
     "start_time": "2022-08-04T03:05:31.734395",
     "status": "completed"
    },
    "tags": []
   },
   "outputs": [],
   "source": []
  }
 ],
 "metadata": {
  "kernelspec": {
   "display_name": "Python 3",
   "language": "python",
   "name": "python3"
  },
  "language_info": {
   "codemirror_mode": {
    "name": "ipython",
    "version": 3
   },
   "file_extension": ".py",
   "mimetype": "text/x-python",
   "name": "python",
   "nbconvert_exporter": "python",
   "pygments_lexer": "ipython3",
   "version": "3.6.15"
  },
  "papermill": {
   "default_parameters": {},
   "duration": 13.996599,
   "end_time": "2022-08-04T03:05:32.175512",
   "environment_variables": {},
   "exception": null,
   "input_path": "Market-News.ipynb",
   "output_path": "Market-News.ipynb",
   "parameters": {},
   "start_time": "2022-08-04T03:05:18.178913",
   "version": "2.2.2"
  }
 },
 "nbformat": 4,
 "nbformat_minor": 5
}