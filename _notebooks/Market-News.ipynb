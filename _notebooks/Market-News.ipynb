{
 "cells": [
  {
   "cell_type": "markdown",
   "id": "short-greensboro",
   "metadata": {
    "papermill": {
     "duration": 0.012962,
     "end_time": "2022-08-27T03:31:36.340152",
     "exception": false,
     "start_time": "2022-08-27T03:31:36.327190",
     "status": "completed"
    },
    "tags": []
   },
   "source": [
    "# Kriptovaliutų naujienos"
   ]
  },
  {
   "cell_type": "code",
   "execution_count": 1,
   "id": "functioning-knowing",
   "metadata": {
    "execution": {
     "iopub.execute_input": "2022-08-27T03:31:36.369001Z",
     "iopub.status.busy": "2022-08-27T03:31:36.368434Z",
     "iopub.status.idle": "2022-08-27T03:31:37.509538Z",
     "shell.execute_reply": "2022-08-27T03:31:37.509997Z"
    },
    "papermill": {
     "duration": 1.160215,
     "end_time": "2022-08-27T03:31:37.510146",
     "exception": false,
     "start_time": "2022-08-27T03:31:36.349931",
     "status": "completed"
    },
    "tags": []
   },
   "outputs": [],
   "source": [
    "#hide_input\n",
    "import warnings\n",
    "warnings.filterwarnings('ignore')\n",
    "from scripts.read_data import read_api\n",
    "from scripts.read_data import read_news\n",
    "from scripts.read_data import read_covid\n",
    "import matplotlib.pyplot as plt \n",
    "from IPython.display import Markdown as md"
   ]
  },
  {
   "cell_type": "code",
   "execution_count": 2,
   "id": "shared-acceptance",
   "metadata": {
    "execution": {
     "iopub.execute_input": "2022-08-27T03:31:37.535587Z",
     "iopub.status.busy": "2022-08-27T03:31:37.534672Z",
     "iopub.status.idle": "2022-08-27T03:31:47.703246Z",
     "shell.execute_reply": "2022-08-27T03:31:47.702305Z"
    },
    "papermill": {
     "duration": 10.183264,
     "end_time": "2022-08-27T03:31:47.703366",
     "exception": false,
     "start_time": "2022-08-27T03:31:37.520102",
     "status": "completed"
    },
    "tags": []
   },
   "outputs": [],
   "source": [
    "#hide_input\n",
    "blockchain = read_news('blockchain') \n",
    "btc = read_news('btc') \n",
    "xrp = read_news('xrp') \n",
    "trx = read_news('trx') \n",
    "eth = read_news('eth')  \n",
    "ada = read_news('ada')\n",
    "exchange = read_news('exchange') "
   ]
  },
  {
   "cell_type": "code",
   "execution_count": 3,
   "id": "synthetic-notion",
   "metadata": {
    "execution": {
     "iopub.execute_input": "2022-08-27T03:31:47.728060Z",
     "iopub.status.busy": "2022-08-27T03:31:47.727495Z",
     "iopub.status.idle": "2022-08-27T03:31:47.730408Z",
     "shell.execute_reply": "2022-08-27T03:31:47.729966Z"
    },
    "papermill": {
     "duration": 0.017814,
     "end_time": "2022-08-27T03:31:47.730502",
     "exception": false,
     "start_time": "2022-08-27T03:31:47.712688",
     "status": "completed"
    },
    "tags": []
   },
   "outputs": [
    {
     "data": {
      "text/markdown": [
       "- Shiba Inu loses $0.000013 after a 9% sell-off: What to expect?.  Shiba Inu price analysis for August 27, 2022, comes on a bearish note for the world&#8217;s 2nd biggest meme coin as it is clear that the meme coin has dropped by almost 9% in the last 24 hours and investors might need to hold on to their coins before we witness further lower prices. Interestingly, [&#8230;]The post Shiba Inu loses $0.000013 after a 9% sell-off: What to expect? appeared first on Blockchain, Crypto and Stock News. ... [| Skaityti daugiau](https://thecoinrise.com/shiba-inu-loses-0-000013-after-a-9-sell-off-what-to-expect/) "
      ],
      "text/plain": [
       "<IPython.core.display.Markdown object>"
      ]
     },
     "execution_count": 3,
     "metadata": {},
     "output_type": "execute_result"
    }
   ],
   "source": [
    "#hide_input\n",
    "#md('##### {}'.format(titleBTC)) \n",
    "md(\"- {}{} {}{} [| Skaityti daugiau]({}) \".format(blockchain['title'],'. ', blockchain['body'], ' ...', blockchain['url']))"
   ]
  },
  {
   "cell_type": "code",
   "execution_count": 4,
   "id": "aging-caution",
   "metadata": {
    "execution": {
     "iopub.execute_input": "2022-08-27T03:31:47.753551Z",
     "iopub.status.busy": "2022-08-27T03:31:47.752940Z",
     "iopub.status.idle": "2022-08-27T03:31:47.755941Z",
     "shell.execute_reply": "2022-08-27T03:31:47.756369Z"
    },
    "papermill": {
     "duration": 0.01665,
     "end_time": "2022-08-27T03:31:47.756475",
     "exception": false,
     "start_time": "2022-08-27T03:31:47.739825",
     "status": "completed"
    },
    "tags": []
   },
   "outputs": [
    {
     "data": {
      "text/markdown": [
       "- Can Shiba Inu Holders Expect Short-Term SHIB Rally Anytime Soon?.  The post Can Shiba Inu Holders Expect Short-Term SHIB Rally Anytime Soon? appeared first on Coinpedia - Fintech &amp; Cryptocurreny News Media| Crypto GuideThe crypto market volatility has paused most of the cryptocurrencies bull run be it Bitcoin, altcoins like Ethereum, NFTs, or even meme coins like Dogecoin or Shiba Inu. Shiba Inu (SHIB) has slipped down towards 12th position after the currency failed to pick up the bull run. Even the basic use cases of Shiba Inu &#8230; ... [| Skaityti daugiau](https://coinpedia.org/altcoin/can-shiba-inu-holders-expect-short-term-shib-rally-anytime-soon/) "
      ],
      "text/plain": [
       "<IPython.core.display.Markdown object>"
      ]
     },
     "execution_count": 4,
     "metadata": {},
     "output_type": "execute_result"
    }
   ],
   "source": [
    "#hide_input\n",
    "#md('##### {}'.format(titleBTC)) \n",
    "md(\"- {}{} {}{} [| Skaityti daugiau]({}) \".format(btc['title'],'. ', btc['body'], ' ...', btc['url']))"
   ]
  },
  {
   "cell_type": "code",
   "execution_count": 5,
   "id": "organic-actress",
   "metadata": {
    "execution": {
     "iopub.execute_input": "2022-08-27T03:31:47.780234Z",
     "iopub.status.busy": "2022-08-27T03:31:47.779684Z",
     "iopub.status.idle": "2022-08-27T03:31:47.782938Z",
     "shell.execute_reply": "2022-08-27T03:31:47.782415Z"
    },
    "papermill": {
     "duration": 0.016863,
     "end_time": "2022-08-27T03:31:47.783031",
     "exception": false,
     "start_time": "2022-08-27T03:31:47.766168",
     "status": "completed"
    },
    "tags": []
   },
   "outputs": [
    {
     "data": {
      "text/markdown": [
       "- XRP Price Is On The Rise But Have The Bulls Regained Momentum?.  XRP Price has met with selling pressure again after it slipped from the $0.37 price mark. The altcoin has been consolidating over the past one week and over the last 24 hours, it lost 1.2% of its market value. In the last seven days, XRP price depreciated close to 8%. Confidence from buyers started to fade given how long XRP has traded below its immediate resistance mark. Broader market weakness has also set it given Bitcoin&#8217;s move to $20,800 at press time. The technical outlook for Cardano (ADA) has turned bearish which was seen by the number of sellers in the market. Due to a lack of demand for Cardano, selling strength had taken over the chart. The altcoin was trading quite close to its closest support level. The continued price action could push the XRP price to the next support line. In order for the bulls to be back, it is important that demand for XRP pushes up over the immediate trading sessions. Cardano Price Analysis: Four-Hour Chart The altcoin was trading for $0.34 at the time of writing. XRP was trading quite close to the closest support level hence, could soon fail to defend the $0.34 support line. The next support level for the coin stood at $0.31. XRP&#8217;s overhead resistance was at $0.37, the bulls were rejected from that price mark as recently as a few trading sessions ago. If XRP continues to struggle below the $0.37 mark, it could revisit $0.29 over the next trading sessions. The trading volume of ... ... [| Skaityti daugiau](https://www.newsbtc.com/all/xrp-price-is-on-the-rise-but-have-the-bulls-regained-momentum/) "
      ],
      "text/plain": [
       "<IPython.core.display.Markdown object>"
      ]
     },
     "execution_count": 5,
     "metadata": {},
     "output_type": "execute_result"
    }
   ],
   "source": [
    "#hide_input\n",
    "#md('##### {}'.format(titleBTC)) \n",
    "md(\"- {}{} {}{} [| Skaityti daugiau]({}) \".format(xrp['title'],'. ', xrp['body'], ' ...', xrp['url']))"
   ]
  },
  {
   "cell_type": "code",
   "execution_count": 6,
   "id": "prompt-farmer",
   "metadata": {
    "execution": {
     "iopub.execute_input": "2022-08-27T03:31:47.807053Z",
     "iopub.status.busy": "2022-08-27T03:31:47.806503Z",
     "iopub.status.idle": "2022-08-27T03:31:47.809749Z",
     "shell.execute_reply": "2022-08-27T03:31:47.809260Z"
    },
    "papermill": {
     "duration": 0.016824,
     "end_time": "2022-08-27T03:31:47.809841",
     "exception": false,
     "start_time": "2022-08-27T03:31:47.793017",
     "status": "completed"
    },
    "tags": []
   },
   "outputs": [
    {
     "data": {
      "text/markdown": [
       "- Is Tron outcompeting BTC, ETH? The answer might startle you.  In a recent tweet, the official Twitter account of TronDao informed how they outcompeted major cryptocurrencies. TronDao was ranked number one for the total number of active addresses compared to BTC, ETH, and XRP. One of the reasons why the crypto community has been using Tron for a lot of their transactions could be its [&#8230;] ... [| Skaityti daugiau](https://ambcrypto.com/is-tron-outcompeting-btc-and-eth-the-answer-might-startle-you/) "
      ],
      "text/plain": [
       "<IPython.core.display.Markdown object>"
      ]
     },
     "execution_count": 6,
     "metadata": {},
     "output_type": "execute_result"
    }
   ],
   "source": [
    "#hide_input\n",
    "#md('##### {}'.format(titleBTC)) \n",
    "md(\"- {}{} {}{} [| Skaityti daugiau]({}) \".format(trx['title'],'. ', trx['body'], ' ...', trx['url']))"
   ]
  },
  {
   "cell_type": "code",
   "execution_count": 7,
   "id": "illegal-greece",
   "metadata": {
    "execution": {
     "iopub.execute_input": "2022-08-27T03:31:47.834603Z",
     "iopub.status.busy": "2022-08-27T03:31:47.834071Z",
     "iopub.status.idle": "2022-08-27T03:31:47.837387Z",
     "shell.execute_reply": "2022-08-27T03:31:47.836946Z"
    },
    "papermill": {
     "duration": 0.017291,
     "end_time": "2022-08-27T03:31:47.837493",
     "exception": false,
     "start_time": "2022-08-27T03:31:47.820202",
     "status": "completed"
    },
    "tags": []
   },
   "outputs": [
    {
     "data": {
      "text/markdown": [
       "- Bitcoin HODLers’ behavior has these tips for your next trade.  Long-term investors holding Bitcoin [BTC] are keener on holding on to their BTCs rather than spending them, even in the face of rising prices, a new report from CoinShares revealed. In a previously published report, Coinshares found that new investors ape into the Bitcoin market, at each halving. Therefore, laying a foundation for a new [&#8230;] ... [| Skaityti daugiau](https://ambcrypto.com/bitcoin-hodlers-behavior-has-these-tips-for-your-next-trade/) "
      ],
      "text/plain": [
       "<IPython.core.display.Markdown object>"
      ]
     },
     "execution_count": 7,
     "metadata": {},
     "output_type": "execute_result"
    }
   ],
   "source": [
    "#hide_input\n",
    "#md('##### {}'.format(titleBTC)) \n",
    "md(\"- {}{} {}{} [| Skaityti daugiau]({}) \".format(eth['title'],'. ', eth['body'], ' ...', eth['url']))"
   ]
  },
  {
   "cell_type": "code",
   "execution_count": 8,
   "id": "sublime-lounge",
   "metadata": {
    "execution": {
     "iopub.execute_input": "2022-08-27T03:31:47.863930Z",
     "iopub.status.busy": "2022-08-27T03:31:47.863363Z",
     "iopub.status.idle": "2022-08-27T03:31:47.865902Z",
     "shell.execute_reply": "2022-08-27T03:31:47.866296Z"
    },
    "papermill": {
     "duration": 0.017292,
     "end_time": "2022-08-27T03:31:47.866403",
     "exception": false,
     "start_time": "2022-08-27T03:31:47.849111",
     "status": "completed"
    },
    "tags": []
   },
   "outputs": [
    {
     "data": {
      "text/markdown": [
       "- Big Bounce For Cardano Soon If ADA Falls To This Level?.  After a price downtrend in the recent times, ADA holders could finally brace for a jump. Following a steep fall earlier this month, Cardano (ADA) has been steady at the $0.45 range in the last few days. A big bounce is anticipated for Cardano if the current downfall continues in short term. As of writing, The post Big Bounce For Cardano Soon If ADA Falls To This Level? appeared first on CoinGape. ... [| Skaityti daugiau](https://coingape.com/big-bounce-for-cardano-soon-if-ada-falls-to-this-level/) "
      ],
      "text/plain": [
       "<IPython.core.display.Markdown object>"
      ]
     },
     "execution_count": 8,
     "metadata": {},
     "output_type": "execute_result"
    }
   ],
   "source": [
    "#hide_input\n",
    "#md('##### {}'.format(titleBTC)) \n",
    "md(\"- {}{} {}{} [| Skaityti daugiau]({}) \".format(ada['title'],'. ', ada['body'], ' ...', ada['url']))"
   ]
  },
  {
   "cell_type": "code",
   "execution_count": 9,
   "id": "specified-ordering",
   "metadata": {
    "execution": {
     "iopub.execute_input": "2022-08-27T03:31:47.892398Z",
     "iopub.status.busy": "2022-08-27T03:31:47.891854Z",
     "iopub.status.idle": "2022-08-27T03:31:47.895109Z",
     "shell.execute_reply": "2022-08-27T03:31:47.894579Z"
    },
    "papermill": {
     "duration": 0.017829,
     "end_time": "2022-08-27T03:31:47.895202",
     "exception": false,
     "start_time": "2022-08-27T03:31:47.877373",
     "status": "completed"
    },
    "tags": []
   },
   "outputs": [
    {
     "data": {
      "text/markdown": [
       "- Crypto Exchange Zipmex Meets Thai Regulators To Discuss Next Steps Of Recovery.  Crypto exchange Zipmex has planned to meet with the Thailand Securities Exchange Commission along with other regulators to discuss the recovery plan. Zipmex had recently submitted a letter which will request to schedule meetings with the security regulators. This meeting shall also include the crypto firm&#8217;s potential investors. The exchange had suspended the withdrawals in [&#8230;] ... [| Skaityti daugiau](https://bitcoinist.com/crypto-zipmex-thai-regulators-to-discuss-recovery/) "
      ],
      "text/plain": [
       "<IPython.core.display.Markdown object>"
      ]
     },
     "execution_count": 9,
     "metadata": {},
     "output_type": "execute_result"
    }
   ],
   "source": [
    "#hide_input\n",
    "#md('##### {}'.format(titleBTC)) \n",
    "md(\"- {}{} {}{} [| Skaityti daugiau]({}) \".format(exchange['title'],'. ', exchange['body'], ' ...', exchange['url']))"
   ]
  },
  {
   "cell_type": "code",
   "execution_count": null,
   "id": "tender-livestock",
   "metadata": {
    "papermill": {
     "duration": 0.011324,
     "end_time": "2022-08-27T03:31:47.917808",
     "exception": false,
     "start_time": "2022-08-27T03:31:47.906484",
     "status": "completed"
    },
    "tags": []
   },
   "outputs": [],
   "source": []
  },
  {
   "cell_type": "code",
   "execution_count": null,
   "id": "appreciated-diamond",
   "metadata": {
    "papermill": {
     "duration": 0.011537,
     "end_time": "2022-08-27T03:31:47.940759",
     "exception": false,
     "start_time": "2022-08-27T03:31:47.929222",
     "status": "completed"
    },
    "tags": []
   },
   "outputs": [],
   "source": []
  },
  {
   "cell_type": "code",
   "execution_count": null,
   "id": "romance-sweden",
   "metadata": {
    "papermill": {
     "duration": 0.011209,
     "end_time": "2022-08-27T03:31:47.963292",
     "exception": false,
     "start_time": "2022-08-27T03:31:47.952083",
     "status": "completed"
    },
    "tags": []
   },
   "outputs": [],
   "source": []
  },
  {
   "cell_type": "code",
   "execution_count": null,
   "id": "dietary-statistics",
   "metadata": {
    "papermill": {
     "duration": 0.011208,
     "end_time": "2022-08-27T03:31:47.985932",
     "exception": false,
     "start_time": "2022-08-27T03:31:47.974724",
     "status": "completed"
    },
    "tags": []
   },
   "outputs": [],
   "source": []
  }
 ],
 "metadata": {
  "kernelspec": {
   "display_name": "Python 3",
   "language": "python",
   "name": "python3"
  },
  "language_info": {
   "codemirror_mode": {
    "name": "ipython",
    "version": 3
   },
   "file_extension": ".py",
   "mimetype": "text/x-python",
   "name": "python",
   "nbconvert_exporter": "python",
   "pygments_lexer": "ipython3",
   "version": "3.6.15"
  },
  "papermill": {
   "default_parameters": {},
   "duration": 12.988715,
   "end_time": "2022-08-27T03:31:48.413964",
   "environment_variables": {},
   "exception": null,
   "input_path": "Market-News.ipynb",
   "output_path": "Market-News.ipynb",
   "parameters": {},
   "start_time": "2022-08-27T03:31:35.425249",
   "version": "2.2.2"
  }
 },
 "nbformat": 4,
 "nbformat_minor": 5
}