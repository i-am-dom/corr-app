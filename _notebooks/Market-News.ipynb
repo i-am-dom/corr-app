{
 "cells": [
  {
   "cell_type": "markdown",
   "id": "short-greensboro",
   "metadata": {
    "papermill": {
     "duration": 0.013799,
     "end_time": "2022-05-02T03:27:25.346556",
     "exception": false,
     "start_time": "2022-05-02T03:27:25.332757",
     "status": "completed"
    },
    "tags": []
   },
   "source": [
    "# Kriptovaliutų naujienos"
   ]
  },
  {
   "cell_type": "code",
   "execution_count": 1,
   "id": "functioning-knowing",
   "metadata": {
    "execution": {
     "iopub.execute_input": "2022-05-02T03:27:25.376676Z",
     "iopub.status.busy": "2022-05-02T03:27:25.376124Z",
     "iopub.status.idle": "2022-05-02T03:27:26.657442Z",
     "shell.execute_reply": "2022-05-02T03:27:26.656872Z"
    },
    "papermill": {
     "duration": 1.301281,
     "end_time": "2022-05-02T03:27:26.657601",
     "exception": false,
     "start_time": "2022-05-02T03:27:25.356320",
     "status": "completed"
    },
    "tags": []
   },
   "outputs": [],
   "source": [
    "#hide_input\n",
    "import warnings\n",
    "warnings.filterwarnings('ignore')\n",
    "from scripts.read_data import read_api\n",
    "from scripts.read_data import read_news\n",
    "from scripts.read_data import read_covid\n",
    "import matplotlib.pyplot as plt \n",
    "from IPython.display import Markdown as md"
   ]
  },
  {
   "cell_type": "code",
   "execution_count": 2,
   "id": "shared-acceptance",
   "metadata": {
    "execution": {
     "iopub.execute_input": "2022-05-02T03:27:26.683742Z",
     "iopub.status.busy": "2022-05-02T03:27:26.683206Z",
     "iopub.status.idle": "2022-05-02T03:27:36.674311Z",
     "shell.execute_reply": "2022-05-02T03:27:36.673851Z"
    },
    "papermill": {
     "duration": 10.006583,
     "end_time": "2022-05-02T03:27:36.674439",
     "exception": false,
     "start_time": "2022-05-02T03:27:26.667856",
     "status": "completed"
    },
    "tags": []
   },
   "outputs": [],
   "source": [
    "#hide_input\n",
    "blockchain = read_news('blockchain') \n",
    "btc = read_news('btc') \n",
    "xrp = read_news('xrp') \n",
    "trx = read_news('trx') \n",
    "eth = read_news('eth')  \n",
    "ada = read_news('ada')\n",
    "exchange = read_news('exchange') "
   ]
  },
  {
   "cell_type": "code",
   "execution_count": 3,
   "id": "synthetic-notion",
   "metadata": {
    "execution": {
     "iopub.execute_input": "2022-05-02T03:27:36.700441Z",
     "iopub.status.busy": "2022-05-02T03:27:36.699808Z",
     "iopub.status.idle": "2022-05-02T03:27:36.702145Z",
     "shell.execute_reply": "2022-05-02T03:27:36.702606Z"
    },
    "papermill": {
     "duration": 0.018989,
     "end_time": "2022-05-02T03:27:36.702757",
     "exception": false,
     "start_time": "2022-05-02T03:27:36.683768",
     "status": "completed"
    },
    "tags": []
   },
   "outputs": [
    {
     "data": {
      "text/markdown": [
       "- Solana retains price action above $80: Nears $90 resistance.  Solana price analysis for May 2, 2022, comes on a bullish note for the token which has seen a price surge of over 4% in the last 24 hours and it seems that we might see SOL above $90 in the coming days as well. Furthermore, as noted in our SOL price analysis for May [&#8230;]The post Solana retains price action above $80: Nears $90 resistance appeared first on Blockchain, Crypto and Stock News. ... [| Skaityti daugiau](https://thecoinrise.com/solana-retains-price-action-above-80-nears-90-resistance/) "
      ],
      "text/plain": [
       "<IPython.core.display.Markdown object>"
      ]
     },
     "execution_count": 3,
     "metadata": {},
     "output_type": "execute_result"
    }
   ],
   "source": [
    "#hide_input\n",
    "#md('##### {}'.format(titleBTC)) \n",
    "md(\"- {}{} {}{} [| Skaityti daugiau]({}) \".format(blockchain['title'],'. ', blockchain['body'], ' ...', blockchain['url']))"
   ]
  },
  {
   "cell_type": "code",
   "execution_count": 4,
   "id": "aging-caution",
   "metadata": {
    "execution": {
     "iopub.execute_input": "2022-05-02T03:27:36.727062Z",
     "iopub.status.busy": "2022-05-02T03:27:36.726526Z",
     "iopub.status.idle": "2022-05-02T03:27:36.728922Z",
     "shell.execute_reply": "2022-05-02T03:27:36.729359Z"
    },
    "papermill": {
     "duration": 0.017128,
     "end_time": "2022-05-02T03:27:36.729499",
     "exception": false,
     "start_time": "2022-05-02T03:27:36.712371",
     "status": "completed"
    },
    "tags": []
   },
   "outputs": [
    {
     "data": {
      "text/markdown": [
       "- TA: Bitcoin Consolidates Below $39k: What Could Trigger Another Decline.  Bitcoin extended decline below the $38,000 level against the US Dollar. BTC is recovering, but it must clear $39,000 for upside continuation. Bitcoin remained in a bearish zone below $40,000 and $39,000. The price is now trading below $39,000 and the 100 hourly simple moving average. There was a break above a key bearish trend line with resistance near $38,000 on the hourly chart of the BTC/USD pair (data feed from Kraken). The pair must clear the $39,000 resistance to continue higher in the near term. Bitcoin Price Eyes Recovery Wave Bitcoin price gained bearish momentum after it broke the $39,000 support zone. BTC even traded below the $38,000 level and settled below the 100 hourly simple moving average. There was a spike below the $37,500 support zone. A low was formed near $37,399 and the price is now correcting higher. There was a move above the $38,000 and $38,200 resistance levels. There was also a break above a key bearish trend line with resistance near $38,000 on the hourly chart of the BTC/USD pair. Bitcoin price even climbed above the 23.6% Fib retracement level of the key decline from the $40,349 swing high to $37,399 low. It is now facing resistance near the $38,800 level and the 100 hourly simple moving average. The 50% Fib retracement level of the key decline from the $40,349 swing high to $37,399 low is also near the $38,800 zone to act as a resistance. The next key resistance could be near the $39,000 zone. A... ... [| Skaityti daugiau](https://www.newsbtc.com/analysis/btc/bitcoin-consolidates-below-39k/) "
      ],
      "text/plain": [
       "<IPython.core.display.Markdown object>"
      ]
     },
     "execution_count": 4,
     "metadata": {},
     "output_type": "execute_result"
    }
   ],
   "source": [
    "#hide_input\n",
    "#md('##### {}'.format(titleBTC)) \n",
    "md(\"- {}{} {}{} [| Skaityti daugiau]({}) \".format(btc['title'],'. ', btc['body'], ' ...', btc['url']))"
   ]
  },
  {
   "cell_type": "code",
   "execution_count": 5,
   "id": "organic-actress",
   "metadata": {
    "execution": {
     "iopub.execute_input": "2022-05-02T03:27:36.754675Z",
     "iopub.status.busy": "2022-05-02T03:27:36.754060Z",
     "iopub.status.idle": "2022-05-02T03:27:36.756104Z",
     "shell.execute_reply": "2022-05-02T03:27:36.756575Z"
    },
    "papermill": {
     "duration": 0.017457,
     "end_time": "2022-05-02T03:27:36.756707",
     "exception": false,
     "start_time": "2022-05-02T03:27:36.739250",
     "status": "completed"
    },
    "tags": []
   },
   "outputs": [
    {
     "data": {
      "text/markdown": [
       "- XRP: Why this level can trigger a change in direction for the positive.  Disclaimer: The findings of the following analysis are the sole opinions of the writer and should not be considered investment advice. XRP witnessed a bear show after the Point of Control (POC, red) turned down all bullish revival hopes from the $0.77-level. This rejection provoked a string of red candles over the last ten days. [&#8230;] ... [| Skaityti daugiau](https://ambcrypto.com/xrp-why-this-level-can-trigger-a-change-in-direction-for-the-positive/) "
      ],
      "text/plain": [
       "<IPython.core.display.Markdown object>"
      ]
     },
     "execution_count": 5,
     "metadata": {},
     "output_type": "execute_result"
    }
   ],
   "source": [
    "#hide_input\n",
    "#md('##### {}'.format(titleBTC)) \n",
    "md(\"- {}{} {}{} [| Skaityti daugiau]({}) \".format(xrp['title'],'. ', xrp['body'], ' ...', xrp['url']))"
   ]
  },
  {
   "cell_type": "code",
   "execution_count": 6,
   "id": "prompt-farmer",
   "metadata": {
    "execution": {
     "iopub.execute_input": "2022-05-02T03:27:36.781908Z",
     "iopub.status.busy": "2022-05-02T03:27:36.781313Z",
     "iopub.status.idle": "2022-05-02T03:27:36.785699Z",
     "shell.execute_reply": "2022-05-02T03:27:36.785228Z"
    },
    "papermill": {
     "duration": 0.019157,
     "end_time": "2022-05-02T03:27:36.785822",
     "exception": false,
     "start_time": "2022-05-02T03:27:36.766665",
     "status": "completed"
    },
    "tags": []
   },
   "outputs": [
    {
     "data": {
      "text/markdown": [
       "- TRON Daily Chart Forms Bullish Upwards-Sloped Parallel Channel.  TRON (TRX) is one of the few coins whose price is up in the last 24 hours and last 7 ...Read More... ... [| Skaityti daugiau](https://coinquora.com/tron-daily-chart-forms-bullish-upwards-sloped-parallel-channel/) "
      ],
      "text/plain": [
       "<IPython.core.display.Markdown object>"
      ]
     },
     "execution_count": 6,
     "metadata": {},
     "output_type": "execute_result"
    }
   ],
   "source": [
    "#hide_input\n",
    "#md('##### {}'.format(titleBTC)) \n",
    "md(\"- {}{} {}{} [| Skaityti daugiau]({}) \".format(trx['title'],'. ', trx['body'], ' ...', trx['url']))"
   ]
  },
  {
   "cell_type": "code",
   "execution_count": 7,
   "id": "illegal-greece",
   "metadata": {
    "execution": {
     "iopub.execute_input": "2022-05-02T03:27:36.813493Z",
     "iopub.status.busy": "2022-05-02T03:27:36.812952Z",
     "iopub.status.idle": "2022-05-02T03:27:36.815656Z",
     "shell.execute_reply": "2022-05-02T03:27:36.816036Z"
    },
    "papermill": {
     "duration": 0.01973,
     "end_time": "2022-05-02T03:27:36.816163",
     "exception": false,
     "start_time": "2022-05-02T03:27:36.796433",
     "status": "completed"
    },
    "tags": []
   },
   "outputs": [
    {
     "data": {
      "text/markdown": [
       "- Ethereum reclaims $2800 as price action rebounds from $2700.  Ethereum price analysis for May 2, 2022, comes on a slightly bullish note for the token with increased chances of retaining the price action above $2800 if the buyers keep up the pace. Moreover, the token has held support at the $2700 price region, and we can expect ETH to continue making higher highs in [&#8230;]The post Ethereum reclaims $2800 as price action rebounds from $2700 appeared first on Blockchain, Crypto and Stock News. ... [| Skaityti daugiau](https://thecoinrise.com/ethereum-reclaims-2800-as-price-action-rebounds-from-2700/) "
      ],
      "text/plain": [
       "<IPython.core.display.Markdown object>"
      ]
     },
     "execution_count": 7,
     "metadata": {},
     "output_type": "execute_result"
    }
   ],
   "source": [
    "#hide_input\n",
    "#md('##### {}'.format(titleBTC)) \n",
    "md(\"- {}{} {}{} [| Skaityti daugiau]({}) \".format(eth['title'],'. ', eth['body'], ' ...', eth['url']))"
   ]
  },
  {
   "cell_type": "code",
   "execution_count": 8,
   "id": "sublime-lounge",
   "metadata": {
    "execution": {
     "iopub.execute_input": "2022-05-02T03:27:36.842383Z",
     "iopub.status.busy": "2022-05-02T03:27:36.841852Z",
     "iopub.status.idle": "2022-05-02T03:27:36.844848Z",
     "shell.execute_reply": "2022-05-02T03:27:36.844439Z"
    },
    "papermill": {
     "duration": 0.018324,
     "end_time": "2022-05-02T03:27:36.844964",
     "exception": false,
     "start_time": "2022-05-02T03:27:36.826640",
     "status": "completed"
    },
    "tags": []
   },
   "outputs": [
    {
     "data": {
      "text/markdown": [
       "- Bitcoin and Ether Falter as Cardano, Solana, Shiba Inu Brace for Big Fed Rate Hikes.  The crypto market in recent months has become increasingly sensitive to rate hikes by the Fed. This week's expectations of even more aggressive rate hikes have seen several altcoins slip considerably in the past 48 hours. ... [| Skaityti daugiau](https://zycrypto.com/bitcoin-and-ether-falter-as-cardano-solana-shiba-inu-brace-for-big-fed-rate-hikes/) "
      ],
      "text/plain": [
       "<IPython.core.display.Markdown object>"
      ]
     },
     "execution_count": 8,
     "metadata": {},
     "output_type": "execute_result"
    }
   ],
   "source": [
    "#hide_input\n",
    "#md('##### {}'.format(titleBTC)) \n",
    "md(\"- {}{} {}{} [| Skaityti daugiau]({}) \".format(ada['title'],'. ', ada['body'], ' ...', ada['url']))"
   ]
  },
  {
   "cell_type": "code",
   "execution_count": 9,
   "id": "specified-ordering",
   "metadata": {
    "execution": {
     "iopub.execute_input": "2022-05-02T03:27:36.871743Z",
     "iopub.status.busy": "2022-05-02T03:27:36.871227Z",
     "iopub.status.idle": "2022-05-02T03:27:36.874152Z",
     "shell.execute_reply": "2022-05-02T03:27:36.873744Z"
    },
    "papermill": {
     "duration": 0.018416,
     "end_time": "2022-05-02T03:27:36.874264",
     "exception": false,
     "start_time": "2022-05-02T03:27:36.855848",
     "status": "completed"
    },
    "tags": []
   },
   "outputs": [
    {
     "data": {
      "text/markdown": [
       "- Uzbekistan President Issues Decree Regulating Cryptocurrencies, Mining and Trading.  The government of Uzbekistan has moved to expand its crypto regulations through a decree signed by President Shavkat Mirziyoyev. The document provides definitions for terms like crypto assets, exchange, and mining, and determines the main regulatory body for the industry. Agency Under President Mirziyoyev to Oversee Crypto Market in Uzbekistan Uzbekistan&#x2019;s head of state, Shavkat [&#8230;] ... [| Skaityti daugiau](https://news.bitcoin.com/uzbekistan-president-issues-decree-regulating-cryptocurrencies-mining-and-trading/) "
      ],
      "text/plain": [
       "<IPython.core.display.Markdown object>"
      ]
     },
     "execution_count": 9,
     "metadata": {},
     "output_type": "execute_result"
    }
   ],
   "source": [
    "#hide_input\n",
    "#md('##### {}'.format(titleBTC)) \n",
    "md(\"- {}{} {}{} [| Skaityti daugiau]({}) \".format(exchange['title'],'. ', exchange['body'], ' ...', exchange['url']))"
   ]
  },
  {
   "cell_type": "code",
   "execution_count": null,
   "id": "tender-livestock",
   "metadata": {
    "papermill": {
     "duration": 0.011174,
     "end_time": "2022-05-02T03:27:36.896728",
     "exception": false,
     "start_time": "2022-05-02T03:27:36.885554",
     "status": "completed"
    },
    "tags": []
   },
   "outputs": [],
   "source": []
  },
  {
   "cell_type": "code",
   "execution_count": null,
   "id": "appreciated-diamond",
   "metadata": {
    "papermill": {
     "duration": 0.011262,
     "end_time": "2022-05-02T03:27:36.919306",
     "exception": false,
     "start_time": "2022-05-02T03:27:36.908044",
     "status": "completed"
    },
    "tags": []
   },
   "outputs": [],
   "source": []
  },
  {
   "cell_type": "code",
   "execution_count": null,
   "id": "romance-sweden",
   "metadata": {
    "papermill": {
     "duration": 0.011083,
     "end_time": "2022-05-02T03:27:36.942594",
     "exception": false,
     "start_time": "2022-05-02T03:27:36.931511",
     "status": "completed"
    },
    "tags": []
   },
   "outputs": [],
   "source": []
  },
  {
   "cell_type": "code",
   "execution_count": null,
   "id": "dietary-statistics",
   "metadata": {
    "papermill": {
     "duration": 0.011035,
     "end_time": "2022-05-02T03:27:36.964767",
     "exception": false,
     "start_time": "2022-05-02T03:27:36.953732",
     "status": "completed"
    },
    "tags": []
   },
   "outputs": [],
   "source": []
  }
 ],
 "metadata": {
  "kernelspec": {
   "display_name": "Python 3",
   "language": "python",
   "name": "python3"
  },
  "language_info": {
   "codemirror_mode": {
    "name": "ipython",
    "version": 3
   },
   "file_extension": ".py",
   "mimetype": "text/x-python",
   "name": "python",
   "nbconvert_exporter": "python",
   "pygments_lexer": "ipython3",
   "version": "3.6.15"
  },
  "papermill": {
   "default_parameters": {},
   "duration": 13.120318,
   "end_time": "2022-05-02T03:27:37.496049",
   "environment_variables": {},
   "exception": null,
   "input_path": "Market-News.ipynb",
   "output_path": "Market-News.ipynb",
   "parameters": {},
   "start_time": "2022-05-02T03:27:24.375731",
   "version": "2.2.2"
  }
 },
 "nbformat": 4,
 "nbformat_minor": 5
}