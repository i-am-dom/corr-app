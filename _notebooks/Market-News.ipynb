{
 "cells": [
  {
   "cell_type": "markdown",
   "id": "short-greensboro",
   "metadata": {
    "papermill": {
     "duration": 0.012856,
     "end_time": "2022-09-20T03:41:39.610116",
     "exception": false,
     "start_time": "2022-09-20T03:41:39.597260",
     "status": "completed"
    },
    "tags": []
   },
   "source": [
    "# Kriptovaliutų naujienos"
   ]
  },
  {
   "cell_type": "code",
   "execution_count": 1,
   "id": "functioning-knowing",
   "metadata": {
    "execution": {
     "iopub.execute_input": "2022-09-20T03:41:39.639180Z",
     "iopub.status.busy": "2022-09-20T03:41:39.638590Z",
     "iopub.status.idle": "2022-09-20T03:41:40.800250Z",
     "shell.execute_reply": "2022-09-20T03:41:40.799754Z"
    },
    "papermill": {
     "duration": 1.180452,
     "end_time": "2022-09-20T03:41:40.800376",
     "exception": false,
     "start_time": "2022-09-20T03:41:39.619924",
     "status": "completed"
    },
    "tags": []
   },
   "outputs": [],
   "source": [
    "#hide_input\n",
    "import warnings\n",
    "warnings.filterwarnings('ignore')\n",
    "from scripts.read_data import read_api\n",
    "from scripts.read_data import read_news\n",
    "from scripts.read_data import read_covid\n",
    "import matplotlib.pyplot as plt \n",
    "from IPython.display import Markdown as md"
   ]
  },
  {
   "cell_type": "code",
   "execution_count": 2,
   "id": "shared-acceptance",
   "metadata": {
    "execution": {
     "iopub.execute_input": "2022-09-20T03:41:40.825331Z",
     "iopub.status.busy": "2022-09-20T03:41:40.824369Z",
     "iopub.status.idle": "2022-09-20T03:41:50.715946Z",
     "shell.execute_reply": "2022-09-20T03:41:50.715467Z"
    },
    "papermill": {
     "duration": 9.906258,
     "end_time": "2022-09-20T03:41:50.716066",
     "exception": false,
     "start_time": "2022-09-20T03:41:40.809808",
     "status": "completed"
    },
    "tags": []
   },
   "outputs": [],
   "source": [
    "#hide_input\n",
    "blockchain = read_news('blockchain') \n",
    "btc = read_news('btc') \n",
    "xrp = read_news('xrp') \n",
    "trx = read_news('trx') \n",
    "eth = read_news('eth')  \n",
    "ada = read_news('ada')\n",
    "exchange = read_news('exchange') "
   ]
  },
  {
   "cell_type": "code",
   "execution_count": 3,
   "id": "synthetic-notion",
   "metadata": {
    "execution": {
     "iopub.execute_input": "2022-09-20T03:41:50.741243Z",
     "iopub.status.busy": "2022-09-20T03:41:50.740649Z",
     "iopub.status.idle": "2022-09-20T03:41:50.742963Z",
     "shell.execute_reply": "2022-09-20T03:41:50.743414Z"
    },
    "papermill": {
     "duration": 0.018082,
     "end_time": "2022-09-20T03:41:50.743532",
     "exception": false,
     "start_time": "2022-09-20T03:41:50.725450",
     "status": "completed"
    },
    "tags": []
   },
   "outputs": [
    {
     "data": {
      "text/markdown": [
       "- LBank Exchange Will List GTGOLD Protocol (GTG) on September 19, 2022.  INTERNET CITY, DUBAI, Sep. 16, 2022 – LBank Exchange, a global digital asset trading platform, will list GTGOLD Protocol (GTG) on September 19, 2022. For all users of LBank Exchange, the GTG/USDT trading pair will be officially available for trading at 16:00 (UTC+8) on September 19, 2022. Combining innovative technologies based on blockchain, AI, and...The post LBank Exchange Will List GTGOLD Protocol (GTG) on September 19, 2022 appeared first on Live Bitcoin News. ... [| Skaityti daugiau](https://www.livebitcoinnews.com/lbank-exchange-will-list-gtgold-protocol-gtg-on-september-19-2022/) "
      ],
      "text/plain": [
       "<IPython.core.display.Markdown object>"
      ]
     },
     "execution_count": 3,
     "metadata": {},
     "output_type": "execute_result"
    }
   ],
   "source": [
    "#hide_input\n",
    "#md('##### {}'.format(titleBTC)) \n",
    "md(\"- {}{} {}{} [| Skaityti daugiau]({}) \".format(blockchain['title'],'. ', blockchain['body'], ' ...', blockchain['url']))"
   ]
  },
  {
   "cell_type": "code",
   "execution_count": 4,
   "id": "aging-caution",
   "metadata": {
    "execution": {
     "iopub.execute_input": "2022-09-20T03:41:50.766848Z",
     "iopub.status.busy": "2022-09-20T03:41:50.766274Z",
     "iopub.status.idle": "2022-09-20T03:41:50.769664Z",
     "shell.execute_reply": "2022-09-20T03:41:50.769232Z"
    },
    "papermill": {
     "duration": 0.016803,
     "end_time": "2022-09-20T03:41:50.769764",
     "exception": false,
     "start_time": "2022-09-20T03:41:50.752961",
     "status": "completed"
    },
    "tags": []
   },
   "outputs": [
    {
     "data": {
      "text/markdown": [
       "- Bitcoin Price and Ethereum Recover, Altcoins Reverse Most Losses.  Bitcoin price traded to a new monthly low near $18,250 before it started an upside correction. BTC is currently (03:10 UTC) trading above $19,200. The price must settle above $19,500 and $19,620 to continue higher. Similarly, most major altcoins started a decent upside correction. ETH recovered above the $1,350 resistance zone. XRP outperformed with a strong move above the $0.365 resistance. ADA is consolidating near the $0.45 zone....Read More: Bitcoin Price and Ethereum Recover, Altcoins Reverse Most Losses ... [| Skaityti daugiau](https://cryptonews.com/news/bitcoin-price-ethereum-recover-altcoins-reverse-most-losses.htm) "
      ],
      "text/plain": [
       "<IPython.core.display.Markdown object>"
      ]
     },
     "execution_count": 4,
     "metadata": {},
     "output_type": "execute_result"
    }
   ],
   "source": [
    "#hide_input\n",
    "#md('##### {}'.format(titleBTC)) \n",
    "md(\"- {}{} {}{} [| Skaityti daugiau]({}) \".format(btc['title'],'. ', btc['body'], ' ...', btc['url']))"
   ]
  },
  {
   "cell_type": "code",
   "execution_count": 5,
   "id": "organic-actress",
   "metadata": {
    "execution": {
     "iopub.execute_input": "2022-09-20T03:41:50.793016Z",
     "iopub.status.busy": "2022-09-20T03:41:50.792184Z",
     "iopub.status.idle": "2022-09-20T03:41:50.796374Z",
     "shell.execute_reply": "2022-09-20T03:41:50.795942Z"
    },
    "papermill": {
     "duration": 0.016984,
     "end_time": "2022-09-20T03:41:50.796473",
     "exception": false,
     "start_time": "2022-09-20T03:41:50.779489",
     "status": "completed"
    },
    "tags": []
   },
   "outputs": [
    {
     "data": {
      "text/markdown": [
       "- CFTC commissioner visits Ripple offices as decision in SEC case looms.  The outcome of the SEC v. Ripple lawsuit could influence whether the CFTC or SEC will play a greater role in handling the XRP token as a commodity or security. ... [| Skaityti daugiau](https://cointelegraph.com/news/cftc-commissioner-visits-ripple-offices-as-decision-in-sec-case-looms) "
      ],
      "text/plain": [
       "<IPython.core.display.Markdown object>"
      ]
     },
     "execution_count": 5,
     "metadata": {},
     "output_type": "execute_result"
    }
   ],
   "source": [
    "#hide_input\n",
    "#md('##### {}'.format(titleBTC)) \n",
    "md(\"- {}{} {}{} [| Skaityti daugiau]({}) \".format(xrp['title'],'. ', xrp['body'], ' ...', xrp['url']))"
   ]
  },
  {
   "cell_type": "code",
   "execution_count": 6,
   "id": "prompt-farmer",
   "metadata": {
    "execution": {
     "iopub.execute_input": "2022-09-20T03:41:50.821161Z",
     "iopub.status.busy": "2022-09-20T03:41:50.820584Z",
     "iopub.status.idle": "2022-09-20T03:41:50.824071Z",
     "shell.execute_reply": "2022-09-20T03:41:50.823614Z"
    },
    "papermill": {
     "duration": 0.017638,
     "end_time": "2022-09-20T03:41:50.824171",
     "exception": false,
     "start_time": "2022-09-20T03:41:50.806533",
     "status": "completed"
    },
    "tags": []
   },
   "outputs": [
    {
     "data": {
      "text/markdown": [
       "- Tron (TRX) And Polygon (MATIC) Holders Begin Buying Into Flasko (FLSK) Presale.  The post Tron (TRX) And Polygon (MATIC) Holders Begin Buying Into Flasko (FLSK) Presale appeared first on Coinpedia - Fintech &amp; Cryptocurreny News Media| Crypto GuideCrypto investors worldwide focus on tokens that perform well because such projects guarantee a positive return. Polygon (MATIC) and TRON (TRX) were previously market leaders with high profits, but their investors are now content with limited growth. Flasko (FLSK) holders, on the other side, are riding a unicorn of profit and expansion. Polygon (MATIC) is &#8230; ... [| Skaityti daugiau](https://coinpedia.org/press-release/tron-trx-and-polygon-matic-holders-begin-buying-into-flasko-flsk-presale/) "
      ],
      "text/plain": [
       "<IPython.core.display.Markdown object>"
      ]
     },
     "execution_count": 6,
     "metadata": {},
     "output_type": "execute_result"
    }
   ],
   "source": [
    "#hide_input\n",
    "#md('##### {}'.format(titleBTC)) \n",
    "md(\"- {}{} {}{} [| Skaityti daugiau]({}) \".format(trx['title'],'. ', trx['body'], ' ...', trx['url']))"
   ]
  },
  {
   "cell_type": "code",
   "execution_count": 7,
   "id": "illegal-greece",
   "metadata": {
    "execution": {
     "iopub.execute_input": "2022-09-20T03:41:50.850061Z",
     "iopub.status.busy": "2022-09-20T03:41:50.849490Z",
     "iopub.status.idle": "2022-09-20T03:41:50.852679Z",
     "shell.execute_reply": "2022-09-20T03:41:50.852133Z"
    },
    "papermill": {
     "duration": 0.017991,
     "end_time": "2022-09-20T03:41:50.852780",
     "exception": false,
     "start_time": "2022-09-20T03:41:50.834789",
     "status": "completed"
    },
    "tags": []
   },
   "outputs": [
    {
     "data": {
      "text/markdown": [
       "- Bitcoin Price and Ethereum Recover, Altcoins Reverse Most Losses.  Bitcoin price traded to a new monthly low near $18,250 before it started an upside correction. BTC is currently (03:10 UTC) trading above $19,200. The price must settle above $19,500 and $19,620 to continue higher. Similarly, most major altcoins started a decent upside correction. ETH recovered above the $1,350 resistance zone. XRP outperformed with a strong move above the $0.365 resistance. ADA is consolidating near the $0.45 zone....Read More: Bitcoin Price and Ethereum Recover, Altcoins Reverse Most Losses ... [| Skaityti daugiau](https://cryptonews.com/news/bitcoin-price-ethereum-recover-altcoins-reverse-most-losses.htm) "
      ],
      "text/plain": [
       "<IPython.core.display.Markdown object>"
      ]
     },
     "execution_count": 7,
     "metadata": {},
     "output_type": "execute_result"
    }
   ],
   "source": [
    "#hide_input\n",
    "#md('##### {}'.format(titleBTC)) \n",
    "md(\"- {}{} {}{} [| Skaityti daugiau]({}) \".format(eth['title'],'. ', eth['body'], ' ...', eth['url']))"
   ]
  },
  {
   "cell_type": "code",
   "execution_count": 8,
   "id": "sublime-lounge",
   "metadata": {
    "execution": {
     "iopub.execute_input": "2022-09-20T03:41:50.880138Z",
     "iopub.status.busy": "2022-09-20T03:41:50.879566Z",
     "iopub.status.idle": "2022-09-20T03:41:50.882368Z",
     "shell.execute_reply": "2022-09-20T03:41:50.882788Z"
    },
    "papermill": {
     "duration": 0.018329,
     "end_time": "2022-09-20T03:41:50.882904",
     "exception": false,
     "start_time": "2022-09-20T03:41:50.864575",
     "status": "completed"
    },
    "tags": []
   },
   "outputs": [
    {
     "data": {
      "text/markdown": [
       "- Bitcoin Price and Ethereum Recover, Altcoins Reverse Most Losses.  Bitcoin price traded to a new monthly low near $18,250 before it started an upside correction. BTC is currently (03:10 UTC) trading above $19,200. The price must settle above $19,500 and $19,620 to continue higher. Similarly, most major altcoins started a decent upside correction. ETH recovered above the $1,350 resistance zone. XRP outperformed with a strong move above the $0.365 resistance. ADA is consolidating near the $0.45 zone....Read More: Bitcoin Price and Ethereum Recover, Altcoins Reverse Most Losses ... [| Skaityti daugiau](https://cryptonews.com/news/bitcoin-price-ethereum-recover-altcoins-reverse-most-losses.htm) "
      ],
      "text/plain": [
       "<IPython.core.display.Markdown object>"
      ]
     },
     "execution_count": 8,
     "metadata": {},
     "output_type": "execute_result"
    }
   ],
   "source": [
    "#hide_input\n",
    "#md('##### {}'.format(titleBTC)) \n",
    "md(\"- {}{} {}{} [| Skaityti daugiau]({}) \".format(ada['title'],'. ', ada['body'], ' ...', ada['url']))"
   ]
  },
  {
   "cell_type": "code",
   "execution_count": 9,
   "id": "specified-ordering",
   "metadata": {
    "execution": {
     "iopub.execute_input": "2022-09-20T03:41:50.909457Z",
     "iopub.status.busy": "2022-09-20T03:41:50.908885Z",
     "iopub.status.idle": "2022-09-20T03:41:50.912277Z",
     "shell.execute_reply": "2022-09-20T03:41:50.911738Z"
    },
    "papermill": {
     "duration": 0.018485,
     "end_time": "2022-09-20T03:41:50.912376",
     "exception": false,
     "start_time": "2022-09-20T03:41:50.893891",
     "status": "completed"
    },
    "tags": []
   },
   "outputs": [
    {
     "data": {
      "text/markdown": [
       "- LBank Exchange Will List GTGOLD Protocol (GTG) on September 19, 2022.  INTERNET CITY, DUBAI, Sep. 16, 2022 – LBank Exchange, a global digital asset trading platform, will list GTGOLD Protocol (GTG) on September 19, 2022. For all users of LBank Exchange, the GTG/USDT trading pair will be officially available for trading at 16:00 (UTC+8) on September 19, 2022. Combining innovative technologies based on blockchain, AI, and...The post LBank Exchange Will List GTGOLD Protocol (GTG) on September 19, 2022 appeared first on Live Bitcoin News. ... [| Skaityti daugiau](https://www.livebitcoinnews.com/lbank-exchange-will-list-gtgold-protocol-gtg-on-september-19-2022/) "
      ],
      "text/plain": [
       "<IPython.core.display.Markdown object>"
      ]
     },
     "execution_count": 9,
     "metadata": {},
     "output_type": "execute_result"
    }
   ],
   "source": [
    "#hide_input\n",
    "#md('##### {}'.format(titleBTC)) \n",
    "md(\"- {}{} {}{} [| Skaityti daugiau]({}) \".format(exchange['title'],'. ', exchange['body'], ' ...', exchange['url']))"
   ]
  },
  {
   "cell_type": "code",
   "execution_count": null,
   "id": "tender-livestock",
   "metadata": {
    "papermill": {
     "duration": 0.011522,
     "end_time": "2022-09-20T03:41:50.935262",
     "exception": false,
     "start_time": "2022-09-20T03:41:50.923740",
     "status": "completed"
    },
    "tags": []
   },
   "outputs": [],
   "source": []
  },
  {
   "cell_type": "code",
   "execution_count": null,
   "id": "appreciated-diamond",
   "metadata": {
    "papermill": {
     "duration": 0.011764,
     "end_time": "2022-09-20T03:41:50.958865",
     "exception": false,
     "start_time": "2022-09-20T03:41:50.947101",
     "status": "completed"
    },
    "tags": []
   },
   "outputs": [],
   "source": []
  },
  {
   "cell_type": "code",
   "execution_count": null,
   "id": "romance-sweden",
   "metadata": {
    "papermill": {
     "duration": 0.011333,
     "end_time": "2022-09-20T03:41:50.981585",
     "exception": false,
     "start_time": "2022-09-20T03:41:50.970252",
     "status": "completed"
    },
    "tags": []
   },
   "outputs": [],
   "source": []
  },
  {
   "cell_type": "code",
   "execution_count": null,
   "id": "dietary-statistics",
   "metadata": {
    "papermill": {
     "duration": 0.011354,
     "end_time": "2022-09-20T03:41:51.004585",
     "exception": false,
     "start_time": "2022-09-20T03:41:50.993231",
     "status": "completed"
    },
    "tags": []
   },
   "outputs": [],
   "source": []
  }
 ],
 "metadata": {
  "kernelspec": {
   "display_name": "Python 3",
   "language": "python",
   "name": "python3"
  },
  "language_info": {
   "codemirror_mode": {
    "name": "ipython",
    "version": 3
   },
   "file_extension": ".py",
   "mimetype": "text/x-python",
   "name": "python",
   "nbconvert_exporter": "python",
   "pygments_lexer": "ipython3",
   "version": "3.6.15"
  },
  "papermill": {
   "default_parameters": {},
   "duration": 12.748973,
   "end_time": "2022-09-20T03:41:51.433894",
   "environment_variables": {},
   "exception": null,
   "input_path": "Market-News.ipynb",
   "output_path": "Market-News.ipynb",
   "parameters": {},
   "start_time": "2022-09-20T03:41:38.684921",
   "version": "2.2.2"
  }
 },
 "nbformat": 4,
 "nbformat_minor": 5
}