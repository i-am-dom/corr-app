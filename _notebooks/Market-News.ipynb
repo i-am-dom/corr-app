{
 "cells": [
  {
   "cell_type": "markdown",
   "id": "short-greensboro",
   "metadata": {
    "papermill": {
     "duration": 0.013527,
     "end_time": "2021-08-06T02:00:10.454978",
     "exception": false,
     "start_time": "2021-08-06T02:00:10.441451",
     "status": "completed"
    },
    "tags": []
   },
   "source": [
    "# Kriptovaliutų naujienos"
   ]
  },
  {
   "cell_type": "code",
   "execution_count": 1,
   "id": "functioning-knowing",
   "metadata": {
    "execution": {
     "iopub.execute_input": "2021-08-06T02:00:10.484326Z",
     "iopub.status.busy": "2021-08-06T02:00:10.483796Z",
     "iopub.status.idle": "2021-08-06T02:00:11.695229Z",
     "shell.execute_reply": "2021-08-06T02:00:11.694745Z"
    },
    "papermill": {
     "duration": 1.230636,
     "end_time": "2021-08-06T02:00:11.695365",
     "exception": false,
     "start_time": "2021-08-06T02:00:10.464729",
     "status": "completed"
    },
    "tags": []
   },
   "outputs": [],
   "source": [
    "#hide_input\n",
    "import warnings\n",
    "warnings.filterwarnings('ignore')\n",
    "from scripts.read_data import read_api\n",
    "from scripts.read_data import read_news\n",
    "from scripts.read_data import read_covid\n",
    "import matplotlib.pyplot as plt \n",
    "from IPython.display import Markdown as md"
   ]
  },
  {
   "cell_type": "code",
   "execution_count": 2,
   "id": "shared-acceptance",
   "metadata": {
    "execution": {
     "iopub.execute_input": "2021-08-06T02:00:11.720138Z",
     "iopub.status.busy": "2021-08-06T02:00:11.719214Z",
     "iopub.status.idle": "2021-08-06T02:00:21.352819Z",
     "shell.execute_reply": "2021-08-06T02:00:21.352345Z"
    },
    "papermill": {
     "duration": 9.648337,
     "end_time": "2021-08-06T02:00:21.352936",
     "exception": false,
     "start_time": "2021-08-06T02:00:11.704599",
     "status": "completed"
    },
    "tags": []
   },
   "outputs": [],
   "source": [
    "#hide_input\n",
    "blockchain = read_news('blockchain') \n",
    "btc = read_news('btc') \n",
    "xrp = read_news('xrp') \n",
    "trx = read_news('trx') \n",
    "eth = read_news('eth')  \n",
    "ada = read_news('ada')\n",
    "exchange = read_news('exchange') "
   ]
  },
  {
   "cell_type": "code",
   "execution_count": 3,
   "id": "synthetic-notion",
   "metadata": {
    "execution": {
     "iopub.execute_input": "2021-08-06T02:00:21.378145Z",
     "iopub.status.busy": "2021-08-06T02:00:21.377630Z",
     "iopub.status.idle": "2021-08-06T02:00:21.379957Z",
     "shell.execute_reply": "2021-08-06T02:00:21.380327Z"
    },
    "papermill": {
     "duration": 0.018206,
     "end_time": "2021-08-06T02:00:21.380453",
     "exception": false,
     "start_time": "2021-08-06T02:00:21.362247",
     "status": "completed"
    },
    "tags": []
   },
   "outputs": [
    {
     "data": {
      "text/markdown": [
       "- Marvel to Launch Spider-Man NFTs This Week — NFT Comic, ‘Super-D Figures’ to Follow.  On August 5, Orbis Blockchain Technologies Limited and Marvel Entertainment kicked off the Veve Digital Collectibles&#8217; &#8220;Marvel Month&#8221; celebration. The two companies plan to issue the first non-fungible token (NFT) assets featuring the Marvel Super Hero, Spider-Man. The Orbis Veve App and Marvel to Launch the First Spider-Man Statue NFTs This week, Spider-Man and non-fungible [&#8230;] ... [| Skaityti daugiau](https://news.bitcoin.com/marvel-to-launch-spider-man-nfts-this-week-nft-comic-super-d-figures-to-follow/) "
      ],
      "text/plain": [
       "<IPython.core.display.Markdown object>"
      ]
     },
     "execution_count": 3,
     "metadata": {},
     "output_type": "execute_result"
    }
   ],
   "source": [
    "#hide_input\n",
    "#md('##### {}'.format(titleBTC)) \n",
    "md(\"- {}{} {}{} [| Skaityti daugiau]({}) \".format(blockchain['title'],'. ', blockchain['body'], ' ...', blockchain['url']))"
   ]
  },
  {
   "cell_type": "code",
   "execution_count": 4,
   "id": "aging-caution",
   "metadata": {
    "execution": {
     "iopub.execute_input": "2021-08-06T02:00:21.403891Z",
     "iopub.status.busy": "2021-08-06T02:00:21.403321Z",
     "iopub.status.idle": "2021-08-06T02:00:21.405425Z",
     "shell.execute_reply": "2021-08-06T02:00:21.405940Z"
    },
    "papermill": {
     "duration": 0.01632,
     "end_time": "2021-08-06T02:00:21.406067",
     "exception": false,
     "start_time": "2021-08-06T02:00:21.389747",
     "status": "completed"
    },
    "tags": []
   },
   "outputs": [
    {
     "data": {
      "text/markdown": [
       "- Bakkt is finally bringing Bitcoin (BTC) payments to US stores.  Digital asset marketplace Bakkt announced a partnership with the sandwich restaurant chain Quiznos, to launch its first physical location pilot enabling customers to pay for their food in Bitcoin (BTC). Starting mid-August, diners can opt for crypto payments at selected Quiznos restaurants in the Denver area, including the high-traffic location at the Denver International Airport. The post Bakkt is finally bringing Bitcoin (BTC) payments to US stores appeared first on CryptoSlate. ... [| Skaityti daugiau](https://cryptoslate.com/bakkt-is-finally-bringing-bitcoin-btc-payments-to-us-stores/) "
      ],
      "text/plain": [
       "<IPython.core.display.Markdown object>"
      ]
     },
     "execution_count": 4,
     "metadata": {},
     "output_type": "execute_result"
    }
   ],
   "source": [
    "#hide_input\n",
    "#md('##### {}'.format(titleBTC)) \n",
    "md(\"- {}{} {}{} [| Skaityti daugiau]({}) \".format(btc['title'],'. ', btc['body'], ' ...', btc['url']))"
   ]
  },
  {
   "cell_type": "code",
   "execution_count": 5,
   "id": "organic-actress",
   "metadata": {
    "execution": {
     "iopub.execute_input": "2021-08-06T02:00:21.429695Z",
     "iopub.status.busy": "2021-08-06T02:00:21.428636Z",
     "iopub.status.idle": "2021-08-06T02:00:21.432493Z",
     "shell.execute_reply": "2021-08-06T02:00:21.432079Z"
    },
    "papermill": {
     "duration": 0.01684,
     "end_time": "2021-08-06T02:00:21.432593",
     "exception": false,
     "start_time": "2021-08-06T02:00:21.415753",
     "status": "completed"
    },
    "tags": []
   },
   "outputs": [
    {
     "data": {
      "text/markdown": [
       "- US Judge Grants Ripple Access to Binance Documents in its Battle Against The SEC.  US Judge has approved Ripple's request to receive access to documents from Binance in its ongoing legal case against the SEC. ... [| Skaityti daugiau](https://cryptopotato.com/us-judge-grants-ripple-access-to-binance-documents-in-its-battle-against-the-sec/) "
      ],
      "text/plain": [
       "<IPython.core.display.Markdown object>"
      ]
     },
     "execution_count": 5,
     "metadata": {},
     "output_type": "execute_result"
    }
   ],
   "source": [
    "#hide_input\n",
    "#md('##### {}'.format(titleBTC)) \n",
    "md(\"- {}{} {}{} [| Skaityti daugiau]({}) \".format(xrp['title'],'. ', xrp['body'], ' ...', xrp['url']))"
   ]
  },
  {
   "cell_type": "code",
   "execution_count": 6,
   "id": "prompt-farmer",
   "metadata": {
    "execution": {
     "iopub.execute_input": "2021-08-06T02:00:21.456635Z",
     "iopub.status.busy": "2021-08-06T02:00:21.456140Z",
     "iopub.status.idle": "2021-08-06T02:00:21.459133Z",
     "shell.execute_reply": "2021-08-06T02:00:21.458738Z"
    },
    "papermill": {
     "duration": 0.016731,
     "end_time": "2021-08-06T02:00:21.459235",
     "exception": false,
     "start_time": "2021-08-06T02:00:21.442504",
     "status": "completed"
    },
    "tags": []
   },
   "outputs": [
    {
     "data": {
      "text/markdown": [
       "- Tron (TRX) Price Analysis: Holding Gains above $0.062.  Tron price started a fresh increase above the $0.0600 resistance against the US Dollar. TRX price is now trading well above $0.0600 and the 55 simple moving average (4-hours). There was a break below a major bullish trend line with support near $0.0640 on the 4-hours chart (data feed via Bitfinex). The pair is likely...The post Tron (TRX) Price Analysis: Holding Gains above $0.062 appeared first on Live Bitcoin News. ... [| Skaityti daugiau](https://www.livebitcoinnews.com/tron-trx-price-analysis-holding-gains-above-0-062/) "
      ],
      "text/plain": [
       "<IPython.core.display.Markdown object>"
      ]
     },
     "execution_count": 6,
     "metadata": {},
     "output_type": "execute_result"
    }
   ],
   "source": [
    "#hide_input\n",
    "#md('##### {}'.format(titleBTC)) \n",
    "md(\"- {}{} {}{} [| Skaityti daugiau]({}) \".format(trx['title'],'. ', trx['body'], ' ...', trx['url']))"
   ]
  },
  {
   "cell_type": "code",
   "execution_count": 7,
   "id": "illegal-greece",
   "metadata": {
    "execution": {
     "iopub.execute_input": "2021-08-06T02:00:21.484370Z",
     "iopub.status.busy": "2021-08-06T02:00:21.483880Z",
     "iopub.status.idle": "2021-08-06T02:00:21.486717Z",
     "shell.execute_reply": "2021-08-06T02:00:21.486300Z"
    },
    "papermill": {
     "duration": 0.017297,
     "end_time": "2021-08-06T02:00:21.486822",
     "exception": false,
     "start_time": "2021-08-06T02:00:21.469525",
     "status": "completed"
    },
    "tags": []
   },
   "outputs": [
    {
     "data": {
      "text/markdown": [
       "- Rival Amendment to Senate Infrastructure Bill Threatens Proof of Stake.  The Senate is considering two amendments to a cryptocurrency provision tucked within a $1 trillion infrastructure bill. ... [| Skaityti daugiau](https://decrypt.co/77838/rival-amendment-senate-infrastructure-bill-threatens-proof-stake) "
      ],
      "text/plain": [
       "<IPython.core.display.Markdown object>"
      ]
     },
     "execution_count": 7,
     "metadata": {},
     "output_type": "execute_result"
    }
   ],
   "source": [
    "#hide_input\n",
    "#md('##### {}'.format(titleBTC)) \n",
    "md(\"- {}{} {}{} [| Skaityti daugiau]({}) \".format(eth['title'],'. ', eth['body'], ' ...', eth['url']))"
   ]
  },
  {
   "cell_type": "code",
   "execution_count": 8,
   "id": "sublime-lounge",
   "metadata": {
    "execution": {
     "iopub.execute_input": "2021-08-06T02:00:21.512668Z",
     "iopub.status.busy": "2021-08-06T02:00:21.512178Z",
     "iopub.status.idle": "2021-08-06T02:00:21.515328Z",
     "shell.execute_reply": "2021-08-06T02:00:21.514915Z"
    },
    "papermill": {
     "duration": 0.018074,
     "end_time": "2021-08-06T02:00:21.515429",
     "exception": false,
     "start_time": "2021-08-06T02:00:21.497355",
     "status": "completed"
    },
    "tags": []
   },
   "outputs": [
    {
     "data": {
      "text/markdown": [
       "- Cardano (ADA) founder teases announcement of smart contract rollout date.  So far, 2021 has been a stand-out year for Cardano. The post Cardano (ADA) founder teases announcement of smart contract rollout date appeared first on CryptoSlate. ... [| Skaityti daugiau](https://cryptoslate.com/ada-predicted-to-hit-3-as-hoskinson-teases-cardano-smart-contract-rollout-date/) "
      ],
      "text/plain": [
       "<IPython.core.display.Markdown object>"
      ]
     },
     "execution_count": 8,
     "metadata": {},
     "output_type": "execute_result"
    }
   ],
   "source": [
    "#hide_input\n",
    "#md('##### {}'.format(titleBTC)) \n",
    "md(\"- {}{} {}{} [| Skaityti daugiau]({}) \".format(ada['title'],'. ', ada['body'], ' ...', ada['url']))"
   ]
  },
  {
   "cell_type": "code",
   "execution_count": 9,
   "id": "specified-ordering",
   "metadata": {
    "execution": {
     "iopub.execute_input": "2021-08-06T02:00:21.542498Z",
     "iopub.status.busy": "2021-08-06T02:00:21.541980Z",
     "iopub.status.idle": "2021-08-06T02:00:21.545002Z",
     "shell.execute_reply": "2021-08-06T02:00:21.544509Z"
    },
    "papermill": {
     "duration": 0.01868,
     "end_time": "2021-08-06T02:00:21.545108",
     "exception": false,
     "start_time": "2021-08-06T02:00:21.526428",
     "status": "completed"
    },
    "tags": []
   },
   "outputs": [
    {
     "data": {
      "text/markdown": [
       "- Venezuela to launch CBDC in October — and cut six zeros from its currency.  The Central Bank of Venezuela is rolling out a CBDC in October and will launch an SMS-based exchange system to facilitate its use.  ... [| Skaityti daugiau](https://cointelegraph.com/news/venezuela-to-launch-cbdc-in-october-and-cut-six-zeros-from-its-currency) "
      ],
      "text/plain": [
       "<IPython.core.display.Markdown object>"
      ]
     },
     "execution_count": 9,
     "metadata": {},
     "output_type": "execute_result"
    }
   ],
   "source": [
    "#hide_input\n",
    "#md('##### {}'.format(titleBTC)) \n",
    "md(\"- {}{} {}{} [| Skaityti daugiau]({}) \".format(exchange['title'],'. ', exchange['body'], ' ...', exchange['url']))"
   ]
  },
  {
   "cell_type": "code",
   "execution_count": null,
   "id": "tender-livestock",
   "metadata": {
    "papermill": {
     "duration": 0.011217,
     "end_time": "2021-08-06T02:00:21.567574",
     "exception": false,
     "start_time": "2021-08-06T02:00:21.556357",
     "status": "completed"
    },
    "tags": []
   },
   "outputs": [],
   "source": []
  },
  {
   "cell_type": "code",
   "execution_count": null,
   "id": "appreciated-diamond",
   "metadata": {
    "papermill": {
     "duration": 0.01116,
     "end_time": "2021-08-06T02:00:21.590179",
     "exception": false,
     "start_time": "2021-08-06T02:00:21.579019",
     "status": "completed"
    },
    "tags": []
   },
   "outputs": [],
   "source": []
  },
  {
   "cell_type": "code",
   "execution_count": null,
   "id": "romance-sweden",
   "metadata": {
    "papermill": {
     "duration": 0.011263,
     "end_time": "2021-08-06T02:00:21.612707",
     "exception": false,
     "start_time": "2021-08-06T02:00:21.601444",
     "status": "completed"
    },
    "tags": []
   },
   "outputs": [],
   "source": []
  },
  {
   "cell_type": "code",
   "execution_count": null,
   "id": "dietary-statistics",
   "metadata": {
    "papermill": {
     "duration": 0.011329,
     "end_time": "2021-08-06T02:00:21.635286",
     "exception": false,
     "start_time": "2021-08-06T02:00:21.623957",
     "status": "completed"
    },
    "tags": []
   },
   "outputs": [],
   "source": []
  }
 ],
 "metadata": {
  "kernelspec": {
   "display_name": "Python 3",
   "language": "python",
   "name": "python3"
  },
  "language_info": {
   "codemirror_mode": {
    "name": "ipython",
    "version": 3
   },
   "file_extension": ".py",
   "mimetype": "text/x-python",
   "name": "python",
   "nbconvert_exporter": "python",
   "pygments_lexer": "ipython3",
   "version": "3.6.14"
  },
  "papermill": {
   "default_parameters": {},
   "duration": 12.754505,
   "end_time": "2021-08-06T02:00:22.154233",
   "environment_variables": {},
   "exception": null,
   "input_path": "Market-News.ipynb",
   "output_path": "Market-News.ipynb",
   "parameters": {},
   "start_time": "2021-08-06T02:00:09.399728",
   "version": "2.2.2"
  }
 },
 "nbformat": 4,
 "nbformat_minor": 5
}