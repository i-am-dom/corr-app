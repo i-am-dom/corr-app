{
 "cells": [
  {
   "cell_type": "markdown",
   "id": "short-greensboro",
   "metadata": {
    "papermill": {
     "duration": 0.018107,
     "end_time": "2021-12-28T02:05:19.836183",
     "exception": false,
     "start_time": "2021-12-28T02:05:19.818076",
     "status": "completed"
    },
    "tags": []
   },
   "source": [
    "# Kriptovaliutų naujienos"
   ]
  },
  {
   "cell_type": "code",
   "execution_count": 1,
   "id": "functioning-knowing",
   "metadata": {
    "execution": {
     "iopub.execute_input": "2021-12-28T02:05:19.874458Z",
     "iopub.status.busy": "2021-12-28T02:05:19.872604Z",
     "iopub.status.idle": "2021-12-28T02:05:21.419852Z",
     "shell.execute_reply": "2021-12-28T02:05:21.418663Z"
    },
    "papermill": {
     "duration": 1.572723,
     "end_time": "2021-12-28T02:05:21.420035",
     "exception": false,
     "start_time": "2021-12-28T02:05:19.847312",
     "status": "completed"
    },
    "tags": []
   },
   "outputs": [],
   "source": [
    "#hide_input\n",
    "import warnings\n",
    "warnings.filterwarnings('ignore')\n",
    "from scripts.read_data import read_api\n",
    "from scripts.read_data import read_news\n",
    "from scripts.read_data import read_covid\n",
    "import matplotlib.pyplot as plt \n",
    "from IPython.display import Markdown as md"
   ]
  },
  {
   "cell_type": "code",
   "execution_count": 2,
   "id": "shared-acceptance",
   "metadata": {
    "execution": {
     "iopub.execute_input": "2021-12-28T02:05:21.459896Z",
     "iopub.status.busy": "2021-12-28T02:05:21.458865Z",
     "iopub.status.idle": "2021-12-28T02:05:31.351740Z",
     "shell.execute_reply": "2021-12-28T02:05:31.350860Z"
    },
    "papermill": {
     "duration": 9.917396,
     "end_time": "2021-12-28T02:05:31.351959",
     "exception": false,
     "start_time": "2021-12-28T02:05:21.434563",
     "status": "completed"
    },
    "tags": []
   },
   "outputs": [],
   "source": [
    "#hide_input\n",
    "blockchain = read_news('blockchain') \n",
    "btc = read_news('btc') \n",
    "xrp = read_news('xrp') \n",
    "trx = read_news('trx') \n",
    "eth = read_news('eth')  \n",
    "ada = read_news('ada')\n",
    "exchange = read_news('exchange') "
   ]
  },
  {
   "cell_type": "code",
   "execution_count": 3,
   "id": "synthetic-notion",
   "metadata": {
    "execution": {
     "iopub.execute_input": "2021-12-28T02:05:31.382310Z",
     "iopub.status.busy": "2021-12-28T02:05:31.381530Z",
     "iopub.status.idle": "2021-12-28T02:05:31.384311Z",
     "shell.execute_reply": "2021-12-28T02:05:31.384784Z"
    },
    "papermill": {
     "duration": 0.021673,
     "end_time": "2021-12-28T02:05:31.384930",
     "exception": false,
     "start_time": "2021-12-28T02:05:31.363257",
     "status": "completed"
    },
    "tags": []
   },
   "outputs": [
    {
     "data": {
      "text/markdown": [
       "- Terra’s UST Becomes First Decentralized Stablecoin To Surpass $10B Market Cap.  It&#8217;s safe to say that DeFi is booming lately &#8211; and Terra&#8217;s stablecoin UST has swiftly emerged as a powerhouse player in DeFi, swimming among of sea of centralized tokens such as Tether&#8217;s USDT and Circle&#8217;s USDC. DeFi is wholeheartedly embracing UST, and new protocol integrations are popping up faster than most can keep up with, leading UST to surpass decentralized competitor DAI. Let&#8217;s take a look at the recent growth for Terra and UST, and what we can expect from the stablecoin &#8211; and the broader Terra Luna ecosystem &#8211; looking forward. Terra&#8217;s On A Tear Lately&#8230; First and foremost, UST has been gaining substantial traction from more casual stablecoin holders who want to maximize their yield potential while balancing platform risk. Terra&#8217;s Anchor Protocol has served as a tool that many have turned to in recent months for exactly that; Anchor has offered a consistent ~19.5% continually compounding yield on UST while CeFi platforms like Celsius or BlockFi have been less aggressive in stablecoin rates (Celsius, for example, reduced it&#8217;s stablecoin yield rates in December from north of 10% to around 8.5%). This has opened the door for moderate-risk stablecoin holders to give Anchor a try. Just take a look at the growth in recent months from both depositors and borrowers on the Anchor Protocol platform: Related Reading &#124; Billionaire Ricardo Salinas: Forget Fi... ... [| Skaityti daugiau](https://www.newsbtc.com/news/terras-ust-becomes-first-decentralized-stablecoin-to-surpass-10b-market-cap/) "
      ],
      "text/plain": [
       "<IPython.core.display.Markdown object>"
      ]
     },
     "execution_count": 3,
     "metadata": {},
     "output_type": "execute_result"
    }
   ],
   "source": [
    "#hide_input\n",
    "#md('##### {}'.format(titleBTC)) \n",
    "md(\"- {}{} {}{} [| Skaityti daugiau]({}) \".format(blockchain['title'],'. ', blockchain['body'], ' ...', blockchain['url']))"
   ]
  },
  {
   "cell_type": "code",
   "execution_count": 4,
   "id": "aging-caution",
   "metadata": {
    "execution": {
     "iopub.execute_input": "2021-12-28T02:05:31.413883Z",
     "iopub.status.busy": "2021-12-28T02:05:31.413055Z",
     "iopub.status.idle": "2021-12-28T02:05:31.418064Z",
     "shell.execute_reply": "2021-12-28T02:05:31.417586Z"
    },
    "papermill": {
     "duration": 0.022435,
     "end_time": "2021-12-28T02:05:31.418193",
     "exception": false,
     "start_time": "2021-12-28T02:05:31.395758",
     "status": "completed"
    },
    "tags": []
   },
   "outputs": [
    {
     "data": {
      "text/markdown": [
       "- Mexico’s Third Richest Billionaire’s Advice: Invest in Bitcoin, Stay Away From Dollars, Euros.  Mexico&#x2019;s third-richest billionaire has advised people to stay away from fiat currencies, like the dollar and euro, and invest in bitcoin. Calling fiat &#x201C;fake money made of paper and lies,&#x201D; he stressed that &#x201C;central banks are printing more money than ever before.&#x201D; Ricardo Salinas Pliego Recommends Investing in Bitcoin, Says Avoid Fiat Money Mexico&#x2019;s third-richest [&#8230;] ... [| Skaityti daugiau](https://news.bitcoin.com/mexico-third-richest-billionaire-advice-invest-bitcoin-stay-away-from-dollars-euros/) "
      ],
      "text/plain": [
       "<IPython.core.display.Markdown object>"
      ]
     },
     "execution_count": 4,
     "metadata": {},
     "output_type": "execute_result"
    }
   ],
   "source": [
    "#hide_input\n",
    "#md('##### {}'.format(titleBTC)) \n",
    "md(\"- {}{} {}{} [| Skaityti daugiau]({}) \".format(btc['title'],'. ', btc['body'], ' ...', btc['url']))"
   ]
  },
  {
   "cell_type": "code",
   "execution_count": 5,
   "id": "organic-actress",
   "metadata": {
    "execution": {
     "iopub.execute_input": "2021-12-28T02:05:31.446984Z",
     "iopub.status.busy": "2021-12-28T02:05:31.445844Z",
     "iopub.status.idle": "2021-12-28T02:05:31.449858Z",
     "shell.execute_reply": "2021-12-28T02:05:31.450328Z"
    },
    "papermill": {
     "duration": 0.021189,
     "end_time": "2021-12-28T02:05:31.450475",
     "exception": false,
     "start_time": "2021-12-28T02:05:31.429286",
     "status": "completed"
    },
    "tags": []
   },
   "outputs": [
    {
     "data": {
      "text/markdown": [
       "- Price analysis 12/27: BTC, ETH, BNB, SOL, ADA, XRP, LUNA, AVAX, DOT, DOGE.  Bitcoin and most major altcoins have risen from their respective support levels, indicating an improving sentiment. ... [| Skaityti daugiau](https://cointelegraph.com/news/price-analysis-12-27-btc-eth-bnb-sol-ada-xrp-luna-avax-dot-doge) "
      ],
      "text/plain": [
       "<IPython.core.display.Markdown object>"
      ]
     },
     "execution_count": 5,
     "metadata": {},
     "output_type": "execute_result"
    }
   ],
   "source": [
    "#hide_input\n",
    "#md('##### {}'.format(titleBTC)) \n",
    "md(\"- {}{} {}{} [| Skaityti daugiau]({}) \".format(xrp['title'],'. ', xrp['body'], ' ...', xrp['url']))"
   ]
  },
  {
   "cell_type": "code",
   "execution_count": 6,
   "id": "prompt-farmer",
   "metadata": {
    "execution": {
     "iopub.execute_input": "2021-12-28T02:05:31.479523Z",
     "iopub.status.busy": "2021-12-28T02:05:31.478920Z",
     "iopub.status.idle": "2021-12-28T02:05:31.481546Z",
     "shell.execute_reply": "2021-12-28T02:05:31.481991Z"
    },
    "papermill": {
     "duration": 0.020236,
     "end_time": "2021-12-28T02:05:31.482130",
     "exception": false,
     "start_time": "2021-12-28T02:05:31.461894",
     "status": "completed"
    },
    "tags": []
   },
   "outputs": [
    {
     "data": {
      "text/markdown": [
       "- MATIC, Binance Coin, Tron Price Analysis: 25 December.  As the recovery window opened up, Binance coin and Tron marked a decent recovery to reclaim their crucial support levels. On the other hand, MATIC entered into price discovery to poke its ATH on 23 December. MATIC As we saw in the previous article, after continuing its oscillation in an ascending triangle (yellow), MATIC finally [&#8230;] ... [| Skaityti daugiau](https://ambcrypto.com/matic-binance-coin-tron-price-analysis-25-december/) "
      ],
      "text/plain": [
       "<IPython.core.display.Markdown object>"
      ]
     },
     "execution_count": 6,
     "metadata": {},
     "output_type": "execute_result"
    }
   ],
   "source": [
    "#hide_input\n",
    "#md('##### {}'.format(titleBTC)) \n",
    "md(\"- {}{} {}{} [| Skaityti daugiau]({}) \".format(trx['title'],'. ', trx['body'], ' ...', trx['url']))"
   ]
  },
  {
   "cell_type": "code",
   "execution_count": 7,
   "id": "illegal-greece",
   "metadata": {
    "execution": {
     "iopub.execute_input": "2021-12-28T02:05:31.515290Z",
     "iopub.status.busy": "2021-12-28T02:05:31.514255Z",
     "iopub.status.idle": "2021-12-28T02:05:31.519402Z",
     "shell.execute_reply": "2021-12-28T02:05:31.518926Z"
    },
    "papermill": {
     "duration": 0.025264,
     "end_time": "2021-12-28T02:05:31.519527",
     "exception": false,
     "start_time": "2021-12-28T02:05:31.494263",
     "status": "completed"
    },
    "tags": []
   },
   "outputs": [
    {
     "data": {
      "text/markdown": [
       "- Here’s a Reasonable Expectation for Polkadot (DOT) in 2022, According to Crypto Analyst Benjamin Cowen.  Popular crypto analyst Benjamin Cowen is identifying some realistic expectations for interoperable blockchain Polkadot (DOT) as 2022 comes into view. In a new strategy session, Cowen looks at Polkadot in its Ethereum pair (DOT/ETH) to gauge its strength as an altcoin. According to Cowen, DOT at least goes up and down against Ethereum as opposed [&#8230;]The post Here’s a Reasonable Expectation for Polkadot (DOT) in 2022, According to Crypto Analyst Benjamin Cowen appeared first on The Daily Hodl. ... [| Skaityti daugiau](https://dailyhodl.com/2021/12/27/heres-a-reasonable-expectation-for-polkadot-dot-in-2022-according-to-crypto-analyst-benjamin-cowen/) "
      ],
      "text/plain": [
       "<IPython.core.display.Markdown object>"
      ]
     },
     "execution_count": 7,
     "metadata": {},
     "output_type": "execute_result"
    }
   ],
   "source": [
    "#hide_input\n",
    "#md('##### {}'.format(titleBTC)) \n",
    "md(\"- {}{} {}{} [| Skaityti daugiau]({}) \".format(eth['title'],'. ', eth['body'], ' ...', eth['url']))"
   ]
  },
  {
   "cell_type": "code",
   "execution_count": 8,
   "id": "sublime-lounge",
   "metadata": {
    "execution": {
     "iopub.execute_input": "2021-12-28T02:05:31.551126Z",
     "iopub.status.busy": "2021-12-28T02:05:31.550436Z",
     "iopub.status.idle": "2021-12-28T02:05:31.554008Z",
     "shell.execute_reply": "2021-12-28T02:05:31.553507Z"
    },
    "papermill": {
     "duration": 0.022314,
     "end_time": "2021-12-28T02:05:31.554127",
     "exception": false,
     "start_time": "2021-12-28T02:05:31.531813",
     "status": "completed"
    },
    "tags": []
   },
   "outputs": [
    {
     "data": {
      "text/markdown": [
       "- Here’s What’s In Store For Cardano In 2022.  Cardano has no doubt had an interesting year in 2021. Its native token, ADA, had grown from less than 30 cents to its record high above $3. It was a remarkable year filled with firsts for the project, the most notable being the launch of smart contract capability on the network. As the year 2021 draws to a close, investors are beginning to look towards the new year and what might be in stock for these digital assets. To this end, founder Charles Hoskinson once again took to his YouTube channel, where he explained to 300,000 subscribers in a live video, what they should expect in the coming year. Related Reading &#124; By The Numbers: How Ethereum 2.0 One-Year Stats Stack Up DeFi On Cardano The deployment of decentralized finance (DeFi) on the Cardano blockchain has been a long-awaited event for both the network and its supporters. With smart contracts capability launched in September, expectations have grown even more as investors anticipate the launch of the first DeFi protocols. Developers continue to work hard towards this goal. Hoskison took time to address this important part of the Cardano network as he explained his plan to bring affordable loans to the network through DeFi. He outlines this goal as something he is working towards so that by the second half of 2022, there can be working protocols on the network where people are able to perform end-to-end Microfinance transactions on the blockchain. “My goal for the seco... ... [| Skaityti daugiau](https://www.newsbtc.com/news/cardano/heres-whats-in-store-for-cardano-in-2022/) "
      ],
      "text/plain": [
       "<IPython.core.display.Markdown object>"
      ]
     },
     "execution_count": 8,
     "metadata": {},
     "output_type": "execute_result"
    }
   ],
   "source": [
    "#hide_input\n",
    "#md('##### {}'.format(titleBTC)) \n",
    "md(\"- {}{} {}{} [| Skaityti daugiau]({}) \".format(ada['title'],'. ', ada['body'], ' ...', ada['url']))"
   ]
  },
  {
   "cell_type": "code",
   "execution_count": 9,
   "id": "specified-ordering",
   "metadata": {
    "execution": {
     "iopub.execute_input": "2021-12-28T02:05:31.586412Z",
     "iopub.status.busy": "2021-12-28T02:05:31.585762Z",
     "iopub.status.idle": "2021-12-28T02:05:31.588374Z",
     "shell.execute_reply": "2021-12-28T02:05:31.589802Z"
    },
    "papermill": {
     "duration": 0.022967,
     "end_time": "2021-12-28T02:05:31.589959",
     "exception": false,
     "start_time": "2021-12-28T02:05:31.566992",
     "status": "completed"
    },
    "tags": []
   },
   "outputs": [
    {
     "data": {
      "text/markdown": [
       "- Terra’s UST Becomes First Decentralized Stablecoin To Surpass $10B Market Cap.  It&#8217;s safe to say that DeFi is booming lately &#8211; and Terra&#8217;s stablecoin UST has swiftly emerged as a powerhouse player in DeFi, swimming among of sea of centralized tokens such as Tether&#8217;s USDT and Circle&#8217;s USDC. DeFi is wholeheartedly embracing UST, and new protocol integrations are popping up faster than most can keep up with, leading UST to surpass decentralized competitor DAI. Let&#8217;s take a look at the recent growth for Terra and UST, and what we can expect from the stablecoin &#8211; and the broader Terra Luna ecosystem &#8211; looking forward. Terra&#8217;s On A Tear Lately&#8230; First and foremost, UST has been gaining substantial traction from more casual stablecoin holders who want to maximize their yield potential while balancing platform risk. Terra&#8217;s Anchor Protocol has served as a tool that many have turned to in recent months for exactly that; Anchor has offered a consistent ~19.5% continually compounding yield on UST while CeFi platforms like Celsius or BlockFi have been less aggressive in stablecoin rates (Celsius, for example, reduced it&#8217;s stablecoin yield rates in December from north of 10% to around 8.5%). This has opened the door for moderate-risk stablecoin holders to give Anchor a try. Just take a look at the growth in recent months from both depositors and borrowers on the Anchor Protocol platform: Related Reading &#124; Billionaire Ricardo Salinas: Forget Fi... ... [| Skaityti daugiau](https://www.newsbtc.com/news/terras-ust-becomes-first-decentralized-stablecoin-to-surpass-10b-market-cap/) "
      ],
      "text/plain": [
       "<IPython.core.display.Markdown object>"
      ]
     },
     "execution_count": 9,
     "metadata": {},
     "output_type": "execute_result"
    }
   ],
   "source": [
    "#hide_input\n",
    "#md('##### {}'.format(titleBTC)) \n",
    "md(\"- {}{} {}{} [| Skaityti daugiau]({}) \".format(exchange['title'],'. ', exchange['body'], ' ...', exchange['url']))"
   ]
  },
  {
   "cell_type": "code",
   "execution_count": null,
   "id": "tender-livestock",
   "metadata": {
    "papermill": {
     "duration": 0.013526,
     "end_time": "2021-12-28T02:05:31.617125",
     "exception": false,
     "start_time": "2021-12-28T02:05:31.603599",
     "status": "completed"
    },
    "tags": []
   },
   "outputs": [],
   "source": []
  },
  {
   "cell_type": "code",
   "execution_count": null,
   "id": "appreciated-diamond",
   "metadata": {
    "papermill": {
     "duration": 0.013923,
     "end_time": "2021-12-28T02:05:31.643966",
     "exception": false,
     "start_time": "2021-12-28T02:05:31.630043",
     "status": "completed"
    },
    "tags": []
   },
   "outputs": [],
   "source": []
  },
  {
   "cell_type": "code",
   "execution_count": null,
   "id": "romance-sweden",
   "metadata": {
    "papermill": {
     "duration": 0.013135,
     "end_time": "2021-12-28T02:05:31.669929",
     "exception": false,
     "start_time": "2021-12-28T02:05:31.656794",
     "status": "completed"
    },
    "tags": []
   },
   "outputs": [],
   "source": []
  },
  {
   "cell_type": "code",
   "execution_count": null,
   "id": "dietary-statistics",
   "metadata": {
    "papermill": {
     "duration": 0.012889,
     "end_time": "2021-12-28T02:05:31.695963",
     "exception": false,
     "start_time": "2021-12-28T02:05:31.683074",
     "status": "completed"
    },
    "tags": []
   },
   "outputs": [],
   "source": []
  }
 ],
 "metadata": {
  "kernelspec": {
   "display_name": "Python 3",
   "language": "python",
   "name": "python3"
  },
  "language_info": {
   "codemirror_mode": {
    "name": "ipython",
    "version": 3
   },
   "file_extension": ".py",
   "mimetype": "text/x-python",
   "name": "python",
   "nbconvert_exporter": "python",
   "pygments_lexer": "ipython3",
   "version": "3.6.15"
  },
  "papermill": {
   "default_parameters": {},
   "duration": 13.569719,
   "end_time": "2021-12-28T02:05:32.220780",
   "environment_variables": {},
   "exception": null,
   "input_path": "Market-News.ipynb",
   "output_path": "Market-News.ipynb",
   "parameters": {},
   "start_time": "2021-12-28T02:05:18.651061",
   "version": "2.2.2"
  }
 },
 "nbformat": 4,
 "nbformat_minor": 5
}