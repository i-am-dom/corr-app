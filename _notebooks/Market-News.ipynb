{
 "cells": [
  {
   "cell_type": "markdown",
   "id": "short-greensboro",
   "metadata": {
    "papermill": {
     "duration": 0.01353,
     "end_time": "2021-07-17T01:56:17.539578",
     "exception": false,
     "start_time": "2021-07-17T01:56:17.526048",
     "status": "completed"
    },
    "tags": []
   },
   "source": [
    "# Kriptovaliutų naujienos"
   ]
  },
  {
   "cell_type": "code",
   "execution_count": 1,
   "id": "functioning-knowing",
   "metadata": {
    "execution": {
     "iopub.execute_input": "2021-07-17T01:56:17.568194Z",
     "iopub.status.busy": "2021-07-17T01:56:17.567689Z",
     "iopub.status.idle": "2021-07-17T01:56:18.703042Z",
     "shell.execute_reply": "2021-07-17T01:56:18.702526Z"
    },
    "papermill": {
     "duration": 1.154081,
     "end_time": "2021-07-17T01:56:18.703190",
     "exception": false,
     "start_time": "2021-07-17T01:56:17.549109",
     "status": "completed"
    },
    "tags": []
   },
   "outputs": [],
   "source": [
    "#hide_input\n",
    "import warnings\n",
    "warnings.filterwarnings('ignore')\n",
    "from scripts.read_data import read_api\n",
    "from scripts.read_data import read_news\n",
    "from scripts.read_data import read_covid\n",
    "import matplotlib.pyplot as plt \n",
    "from IPython.display import Markdown as md"
   ]
  },
  {
   "cell_type": "code",
   "execution_count": 2,
   "id": "shared-acceptance",
   "metadata": {
    "execution": {
     "iopub.execute_input": "2021-07-17T01:56:18.727461Z",
     "iopub.status.busy": "2021-07-17T01:56:18.726612Z",
     "iopub.status.idle": "2021-07-17T01:56:27.067271Z",
     "shell.execute_reply": "2021-07-17T01:56:27.066414Z"
    },
    "papermill": {
     "duration": 8.354617,
     "end_time": "2021-07-17T01:56:27.067397",
     "exception": false,
     "start_time": "2021-07-17T01:56:18.712780",
     "status": "completed"
    },
    "tags": []
   },
   "outputs": [],
   "source": [
    "#hide_input\n",
    "blockchain = read_news('blockchain') \n",
    "btc = read_news('btc') \n",
    "xrp = read_news('xrp') \n",
    "trx = read_news('trx') \n",
    "eth = read_news('eth')  \n",
    "ada = read_news('ada')\n",
    "exchange = read_news('exchange') "
   ]
  },
  {
   "cell_type": "code",
   "execution_count": 3,
   "id": "synthetic-notion",
   "metadata": {
    "execution": {
     "iopub.execute_input": "2021-07-17T01:56:27.091478Z",
     "iopub.status.busy": "2021-07-17T01:56:27.090971Z",
     "iopub.status.idle": "2021-07-17T01:56:27.093203Z",
     "shell.execute_reply": "2021-07-17T01:56:27.093599Z"
    },
    "papermill": {
     "duration": 0.017024,
     "end_time": "2021-07-17T01:56:27.093728",
     "exception": false,
     "start_time": "2021-07-17T01:56:27.076704",
     "status": "completed"
    },
    "tags": []
   },
   "outputs": [
    {
     "data": {
      "text/markdown": [
       "- Cardano’s Hoskinson proposes this novel solution to solve the ‘stablecoin problem’.  With the Cardano project gaining stability, team leader Charles Hoskinson has now introduced a new stablecoin design for the entire Decentralized Finance [DeFi] ecosystem. The new protocol, dubbed Djed, will act like an &#8220;autonomous bank,&#8221; as per Hoskinson. Hoskinson shared the paper with the community on Twitter and in his recent vlog. The paper titled [&#8230;] ... [| Skaityti daugiau](https://ambcrypto.com/cardanos-hoskinson-proposes-this-novel-solution-to-solve-the-stablecoin-problem/) "
      ],
      "text/plain": [
       "<IPython.core.display.Markdown object>"
      ]
     },
     "execution_count": 3,
     "metadata": {},
     "output_type": "execute_result"
    }
   ],
   "source": [
    "#hide_input\n",
    "#md('##### {}'.format(titleBTC)) \n",
    "md(\"- {}{} {}{} [| Skaityti daugiau]({}) \".format(blockchain['title'],'. ', blockchain['body'], ' ...', blockchain['url']))"
   ]
  },
  {
   "cell_type": "code",
   "execution_count": 4,
   "id": "aging-caution",
   "metadata": {
    "execution": {
     "iopub.execute_input": "2021-07-17T01:56:27.116804Z",
     "iopub.status.busy": "2021-07-17T01:56:27.116236Z",
     "iopub.status.idle": "2021-07-17T01:56:27.118275Z",
     "shell.execute_reply": "2021-07-17T01:56:27.118802Z"
    },
    "papermill": {
     "duration": 0.015974,
     "end_time": "2021-07-17T01:56:27.118926",
     "exception": false,
     "start_time": "2021-07-17T01:56:27.102952",
     "status": "completed"
    },
    "tags": []
   },
   "outputs": [
    {
     "data": {
      "text/markdown": [
       "- Are El Salvador’s ‘unconstitutional’ Bitcoin plans taking advantage of the pandemic?.  Nayib Bukele, the President of El Salvador, recently got himself a pair of laser eyes on his Twitter profile at least. This came after the country&#8217;s parliament passed Bukele’s proposed legislation on 9 June to adopt Bitcoin as legal tender. The said law is set to take effect from September onwards. While the news brought [&#8230;] ... [| Skaityti daugiau](https://ambcrypto.com/are-el-salvadors-unconstitutional-bitcoin-plans-taking-advantage-of-the-pandemic/) "
      ],
      "text/plain": [
       "<IPython.core.display.Markdown object>"
      ]
     },
     "execution_count": 4,
     "metadata": {},
     "output_type": "execute_result"
    }
   ],
   "source": [
    "#hide_input\n",
    "#md('##### {}'.format(titleBTC)) \n",
    "md(\"- {}{} {}{} [| Skaityti daugiau]({}) \".format(btc['title'],'. ', btc['body'], ' ...', btc['url']))"
   ]
  },
  {
   "cell_type": "code",
   "execution_count": 5,
   "id": "organic-actress",
   "metadata": {
    "execution": {
     "iopub.execute_input": "2021-07-17T01:56:27.142395Z",
     "iopub.status.busy": "2021-07-17T01:56:27.141846Z",
     "iopub.status.idle": "2021-07-17T01:56:27.144692Z",
     "shell.execute_reply": "2021-07-17T01:56:27.145062Z"
    },
    "papermill": {
     "duration": 0.016399,
     "end_time": "2021-07-17T01:56:27.145177",
     "exception": false,
     "start_time": "2021-07-17T01:56:27.128778",
     "status": "completed"
    },
    "tags": []
   },
   "outputs": [
    {
     "data": {
      "text/markdown": [
       "- Should XRP traders be worried about this?.  Disclaimer: The findings of the following analysis are the sole opinions of the writer and should not be taken as investment advice Low volatility and a steady downtrend have been two major characteristics of the XRP market of late. Dropping below the $0.65 support aggravated recent losses and failing to hold on to its next support [&#8230;] ... [| Skaityti daugiau](https://ambcrypto.com/should-xrp-traders-be-worried-about-this/) "
      ],
      "text/plain": [
       "<IPython.core.display.Markdown object>"
      ]
     },
     "execution_count": 5,
     "metadata": {},
     "output_type": "execute_result"
    }
   ],
   "source": [
    "#hide_input\n",
    "#md('##### {}'.format(titleBTC)) \n",
    "md(\"- {}{} {}{} [| Skaityti daugiau]({}) \".format(xrp['title'],'. ', xrp['body'], ' ...', xrp['url']))"
   ]
  },
  {
   "cell_type": "code",
   "execution_count": 6,
   "id": "prompt-farmer",
   "metadata": {
    "execution": {
     "iopub.execute_input": "2021-07-17T01:56:27.168881Z",
     "iopub.status.busy": "2021-07-17T01:56:27.168398Z",
     "iopub.status.idle": "2021-07-17T01:56:27.171472Z",
     "shell.execute_reply": "2021-07-17T01:56:27.171079Z"
    },
    "papermill": {
     "duration": 0.016531,
     "end_time": "2021-07-17T01:56:27.171571",
     "exception": false,
     "start_time": "2021-07-17T01:56:27.155040",
     "status": "completed"
    },
    "tags": []
   },
   "outputs": [
    {
     "data": {
      "text/markdown": [
       "- Cardano, TRON, AAVE Price Analysis: 14 July.  As Bitcoin’s price tanked today, all major altcoins were trading in the red too. As observed with the altcoins, many of them trailed below their crucial support levels awaiting a retracement. ADA’s market cap declined by 4.03%, TRX registered an 8.9% decline in market price over the last week, and AAVE, despite a downtrend, observed [&#8230;] ... [| Skaityti daugiau](https://ambcrypto.com/cardano-tron-aave-price-analysis-14-july/) "
      ],
      "text/plain": [
       "<IPython.core.display.Markdown object>"
      ]
     },
     "execution_count": 6,
     "metadata": {},
     "output_type": "execute_result"
    }
   ],
   "source": [
    "#hide_input\n",
    "#md('##### {}'.format(titleBTC)) \n",
    "md(\"- {}{} {}{} [| Skaityti daugiau]({}) \".format(trx['title'],'. ', trx['body'], ' ...', trx['url']))"
   ]
  },
  {
   "cell_type": "code",
   "execution_count": 7,
   "id": "illegal-greece",
   "metadata": {
    "execution": {
     "iopub.execute_input": "2021-07-17T01:56:27.195894Z",
     "iopub.status.busy": "2021-07-17T01:56:27.195410Z",
     "iopub.status.idle": "2021-07-17T01:56:27.198001Z",
     "shell.execute_reply": "2021-07-17T01:56:27.197590Z"
    },
    "papermill": {
     "duration": 0.016286,
     "end_time": "2021-07-17T01:56:27.198094",
     "exception": false,
     "start_time": "2021-07-17T01:56:27.181808",
     "status": "completed"
    },
    "tags": []
   },
   "outputs": [
    {
     "data": {
      "text/markdown": [
       "- Thorchain Tapping Treasury to Repay $5M in Ethereum After Attack.  An attack on Thorchain scorched its Ethereum liquidity providers. The Thorchain team says the protocol's treasury will cover affected users. ... [| Skaityti daugiau](https://decrypt.co/76215/thorchain-tapping-treasury-repay-5m-ethereum-after-attack) "
      ],
      "text/plain": [
       "<IPython.core.display.Markdown object>"
      ]
     },
     "execution_count": 7,
     "metadata": {},
     "output_type": "execute_result"
    }
   ],
   "source": [
    "#hide_input\n",
    "#md('##### {}'.format(titleBTC)) \n",
    "md(\"- {}{} {}{} [| Skaityti daugiau]({}) \".format(eth['title'],'. ', eth['body'], ' ...', eth['url']))"
   ]
  },
  {
   "cell_type": "code",
   "execution_count": 8,
   "id": "sublime-lounge",
   "metadata": {
    "execution": {
     "iopub.execute_input": "2021-07-17T01:56:27.222807Z",
     "iopub.status.busy": "2021-07-17T01:56:27.222321Z",
     "iopub.status.idle": "2021-07-17T01:56:27.225283Z",
     "shell.execute_reply": "2021-07-17T01:56:27.224880Z"
    },
    "papermill": {
     "duration": 0.016916,
     "end_time": "2021-07-17T01:56:27.225382",
     "exception": false,
     "start_time": "2021-07-17T01:56:27.208466",
     "status": "completed"
    },
    "tags": []
   },
   "outputs": [
    {
     "data": {
      "text/markdown": [
       "- A Look At The Secret To Cardano (ADA)’s Success As A Top Choice For Hodlers.  eToro recently released startling statistics of the topmost held coins globally on its platform for the second quarter of 2021, and contrary to widespread belief, Charles Hoskinson&#8217;s Cardano edged out Bitcoin and Ethereum to clinch the top spot as the crypto most popular among holders. The remainder positions that make up the first five rankings [&#8230;] ... [| Skaityti daugiau](https://zycrypto.com/a-look-at-the-secret-to-cardano-adas-success-as-a-top-choice-for-hodlers/) "
      ],
      "text/plain": [
       "<IPython.core.display.Markdown object>"
      ]
     },
     "execution_count": 8,
     "metadata": {},
     "output_type": "execute_result"
    }
   ],
   "source": [
    "#hide_input\n",
    "#md('##### {}'.format(titleBTC)) \n",
    "md(\"- {}{} {}{} [| Skaityti daugiau]({}) \".format(ada['title'],'. ', ada['body'], ' ...', ada['url']))"
   ]
  },
  {
   "cell_type": "code",
   "execution_count": 9,
   "id": "specified-ordering",
   "metadata": {
    "execution": {
     "iopub.execute_input": "2021-07-17T01:56:27.250956Z",
     "iopub.status.busy": "2021-07-17T01:56:27.250473Z",
     "iopub.status.idle": "2021-07-17T01:56:27.253597Z",
     "shell.execute_reply": "2021-07-17T01:56:27.253186Z"
    },
    "papermill": {
     "duration": 0.017538,
     "end_time": "2021-07-17T01:56:27.253693",
     "exception": false,
     "start_time": "2021-07-17T01:56:27.236155",
     "status": "completed"
    },
    "tags": []
   },
   "outputs": [
    {
     "data": {
      "text/markdown": [
       "- Crypto Exchange Korbit Charged for ‘Excessive Customer Data Collection’.  The South Korean crypto exchange Korbit has been hit with a fine over “collecting excessive personal data” from at least one of its customers.According to the news agency Yonhap, the exchange was fined just over USD 4,000 by a government watchdog for ordering a customer who had attempted to activate a dormant account on its platform to upload a photograph of their ... [| Skaityti daugiau](https://cryptonews.com/news/crypto-exchange-korbit-charged-for-excessive-customer-data-c-11106.htm) "
      ],
      "text/plain": [
       "<IPython.core.display.Markdown object>"
      ]
     },
     "execution_count": 9,
     "metadata": {},
     "output_type": "execute_result"
    }
   ],
   "source": [
    "#hide_input\n",
    "#md('##### {}'.format(titleBTC)) \n",
    "md(\"- {}{} {}{} [| Skaityti daugiau]({}) \".format(exchange['title'],'. ', exchange['body'], ' ...', exchange['url']))"
   ]
  },
  {
   "cell_type": "code",
   "execution_count": null,
   "id": "tender-livestock",
   "metadata": {
    "papermill": {
     "duration": 0.011017,
     "end_time": "2021-07-17T01:56:27.275677",
     "exception": false,
     "start_time": "2021-07-17T01:56:27.264660",
     "status": "completed"
    },
    "tags": []
   },
   "outputs": [],
   "source": []
  },
  {
   "cell_type": "code",
   "execution_count": null,
   "id": "appreciated-diamond",
   "metadata": {
    "papermill": {
     "duration": 0.01103,
     "end_time": "2021-07-17T01:56:27.297897",
     "exception": false,
     "start_time": "2021-07-17T01:56:27.286867",
     "status": "completed"
    },
    "tags": []
   },
   "outputs": [],
   "source": []
  },
  {
   "cell_type": "code",
   "execution_count": null,
   "id": "romance-sweden",
   "metadata": {
    "papermill": {
     "duration": 0.011048,
     "end_time": "2021-07-17T01:56:27.319968",
     "exception": false,
     "start_time": "2021-07-17T01:56:27.308920",
     "status": "completed"
    },
    "tags": []
   },
   "outputs": [],
   "source": []
  },
  {
   "cell_type": "code",
   "execution_count": null,
   "id": "dietary-statistics",
   "metadata": {
    "papermill": {
     "duration": 0.010989,
     "end_time": "2021-07-17T01:56:27.341970",
     "exception": false,
     "start_time": "2021-07-17T01:56:27.330981",
     "status": "completed"
    },
    "tags": []
   },
   "outputs": [],
   "source": []
  }
 ],
 "metadata": {
  "kernelspec": {
   "display_name": "Python 3",
   "language": "python",
   "name": "python3"
  },
  "language_info": {
   "codemirror_mode": {
    "name": "ipython",
    "version": 3
   },
   "file_extension": ".py",
   "mimetype": "text/x-python",
   "name": "python",
   "nbconvert_exporter": "python",
   "pygments_lexer": "ipython3",
   "version": "3.6.14"
  },
  "papermill": {
   "default_parameters": {},
   "duration": 11.256134,
   "end_time": "2021-07-17T01:56:27.759253",
   "environment_variables": {},
   "exception": null,
   "input_path": "Market-News.ipynb",
   "output_path": "Market-News.ipynb",
   "parameters": {},
   "start_time": "2021-07-17T01:56:16.503119",
   "version": "2.2.2"
  }
 },
 "nbformat": 4,
 "nbformat_minor": 5
}