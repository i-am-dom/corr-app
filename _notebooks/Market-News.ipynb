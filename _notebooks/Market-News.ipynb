{
 "cells": [
  {
   "cell_type": "markdown",
   "id": "short-greensboro",
   "metadata": {
    "papermill": {
     "duration": 0.012945,
     "end_time": "2022-03-26T02:23:42.244242",
     "exception": false,
     "start_time": "2022-03-26T02:23:42.231297",
     "status": "completed"
    },
    "tags": []
   },
   "source": [
    "# Kriptovaliutų naujienos"
   ]
  },
  {
   "cell_type": "code",
   "execution_count": 1,
   "id": "functioning-knowing",
   "metadata": {
    "execution": {
     "iopub.execute_input": "2022-03-26T02:23:42.273296Z",
     "iopub.status.busy": "2022-03-26T02:23:42.272766Z",
     "iopub.status.idle": "2022-03-26T02:23:43.545221Z",
     "shell.execute_reply": "2022-03-26T02:23:43.544676Z"
    },
    "papermill": {
     "duration": 1.291352,
     "end_time": "2022-03-26T02:23:43.545370",
     "exception": false,
     "start_time": "2022-03-26T02:23:42.254018",
     "status": "completed"
    },
    "tags": []
   },
   "outputs": [],
   "source": [
    "#hide_input\n",
    "import warnings\n",
    "warnings.filterwarnings('ignore')\n",
    "from scripts.read_data import read_api\n",
    "from scripts.read_data import read_news\n",
    "from scripts.read_data import read_covid\n",
    "import matplotlib.pyplot as plt \n",
    "from IPython.display import Markdown as md"
   ]
  },
  {
   "cell_type": "code",
   "execution_count": 2,
   "id": "shared-acceptance",
   "metadata": {
    "execution": {
     "iopub.execute_input": "2022-03-26T02:23:43.570762Z",
     "iopub.status.busy": "2022-03-26T02:23:43.569854Z",
     "iopub.status.idle": "2022-03-26T02:23:52.706093Z",
     "shell.execute_reply": "2022-03-26T02:23:52.705190Z"
    },
    "papermill": {
     "duration": 9.151148,
     "end_time": "2022-03-26T02:23:52.706230",
     "exception": false,
     "start_time": "2022-03-26T02:23:43.555082",
     "status": "completed"
    },
    "tags": []
   },
   "outputs": [],
   "source": [
    "#hide_input\n",
    "blockchain = read_news('blockchain') \n",
    "btc = read_news('btc') \n",
    "xrp = read_news('xrp') \n",
    "trx = read_news('trx') \n",
    "eth = read_news('eth')  \n",
    "ada = read_news('ada')\n",
    "exchange = read_news('exchange') "
   ]
  },
  {
   "cell_type": "code",
   "execution_count": 3,
   "id": "synthetic-notion",
   "metadata": {
    "execution": {
     "iopub.execute_input": "2022-03-26T02:23:52.730967Z",
     "iopub.status.busy": "2022-03-26T02:23:52.730432Z",
     "iopub.status.idle": "2022-03-26T02:23:52.733155Z",
     "shell.execute_reply": "2022-03-26T02:23:52.732746Z"
    },
    "papermill": {
     "duration": 0.017359,
     "end_time": "2022-03-26T02:23:52.733263",
     "exception": false,
     "start_time": "2022-03-26T02:23:52.715904",
     "status": "completed"
    },
    "tags": []
   },
   "outputs": [
    {
     "data": {
      "text/markdown": [
       "- Ripple Striving to Hit $0.9 levels Soon, Will XRP Price Hit $1 Before the Close of Q1 Trade?.  The post Ripple Striving to Hit $0.9 levels Soon, Will XRP Price Hit $1 Before the Close of Q1 Trade? appeared first on Coinpedia - Fintech &amp; Cryptocurreny News Media| Crypto GuideXRP price earlier followed a substantial uptrend through ever since it managed to spike in the past couple of days. However, the asset consolidated for a while and currently shed most of its gains but quickly shed a huge amount of its value, yet sustains above $0.8. while the bears have capitulated the market, the &#8230; ... [| Skaityti daugiau](https://coinpedia.org/price-analysis/ripple-striving-hard-to-hit-0-9-will-xrp-price-hit-1-before-q1-close/) "
      ],
      "text/plain": [
       "<IPython.core.display.Markdown object>"
      ]
     },
     "execution_count": 3,
     "metadata": {},
     "output_type": "execute_result"
    }
   ],
   "source": [
    "#hide_input\n",
    "#md('##### {}'.format(titleBTC)) \n",
    "md(\"- {}{} {}{} [| Skaityti daugiau]({}) \".format(blockchain['title'],'. ', blockchain['body'], ' ...', blockchain['url']))"
   ]
  },
  {
   "cell_type": "code",
   "execution_count": 4,
   "id": "aging-caution",
   "metadata": {
    "execution": {
     "iopub.execute_input": "2022-03-26T02:23:52.756978Z",
     "iopub.status.busy": "2022-03-26T02:23:52.756394Z",
     "iopub.status.idle": "2022-03-26T02:23:52.758494Z",
     "shell.execute_reply": "2022-03-26T02:23:52.759051Z"
    },
    "papermill": {
     "duration": 0.016456,
     "end_time": "2022-03-26T02:23:52.759179",
     "exception": false,
     "start_time": "2022-03-26T02:23:52.742723",
     "status": "completed"
    },
    "tags": []
   },
   "outputs": [
    {
     "data": {
      "text/markdown": [
       "- After years of doubts and concerns, it is finally Bitcoin’s time to shine.  Bitcoin leads the way as investors seek adaptable hedging alternatives in the search for the new digital gold. ... [| Skaityti daugiau](https://cointelegraph.com/news/after-years-of-doubts-and-concerns-it-is-finally-bitcoin-s-time-to-shine) "
      ],
      "text/plain": [
       "<IPython.core.display.Markdown object>"
      ]
     },
     "execution_count": 4,
     "metadata": {},
     "output_type": "execute_result"
    }
   ],
   "source": [
    "#hide_input\n",
    "#md('##### {}'.format(titleBTC)) \n",
    "md(\"- {}{} {}{} [| Skaityti daugiau]({}) \".format(btc['title'],'. ', btc['body'], ' ...', btc['url']))"
   ]
  },
  {
   "cell_type": "code",
   "execution_count": 5,
   "id": "organic-actress",
   "metadata": {
    "execution": {
     "iopub.execute_input": "2022-03-26T02:23:52.782976Z",
     "iopub.status.busy": "2022-03-26T02:23:52.782458Z",
     "iopub.status.idle": "2022-03-26T02:23:52.785247Z",
     "shell.execute_reply": "2022-03-26T02:23:52.785716Z"
    },
    "papermill": {
     "duration": 0.016876,
     "end_time": "2022-03-26T02:23:52.785830",
     "exception": false,
     "start_time": "2022-03-26T02:23:52.768954",
     "status": "completed"
    },
    "tags": []
   },
   "outputs": [
    {
     "data": {
      "text/markdown": [
       "- Ripple Striving to Hit $0.9 levels Soon, Will XRP Price Hit $1 Before the Close of Q1 Trade?.  The post Ripple Striving to Hit $0.9 levels Soon, Will XRP Price Hit $1 Before the Close of Q1 Trade? appeared first on Coinpedia - Fintech &amp; Cryptocurreny News Media| Crypto GuideXRP price earlier followed a substantial uptrend through ever since it managed to spike in the past couple of days. However, the asset consolidated for a while and currently shed most of its gains but quickly shed a huge amount of its value, yet sustains above $0.8. while the bears have capitulated the market, the &#8230; ... [| Skaityti daugiau](https://coinpedia.org/price-analysis/ripple-striving-hard-to-hit-0-9-will-xrp-price-hit-1-before-q1-close/) "
      ],
      "text/plain": [
       "<IPython.core.display.Markdown object>"
      ]
     },
     "execution_count": 5,
     "metadata": {},
     "output_type": "execute_result"
    }
   ],
   "source": [
    "#hide_input\n",
    "#md('##### {}'.format(titleBTC)) \n",
    "md(\"- {}{} {}{} [| Skaityti daugiau]({}) \".format(xrp['title'],'. ', xrp['body'], ' ...', xrp['url']))"
   ]
  },
  {
   "cell_type": "code",
   "execution_count": 6,
   "id": "prompt-farmer",
   "metadata": {
    "execution": {
     "iopub.execute_input": "2022-03-26T02:23:52.810058Z",
     "iopub.status.busy": "2022-03-26T02:23:52.809553Z",
     "iopub.status.idle": "2022-03-26T02:23:52.812636Z",
     "shell.execute_reply": "2022-03-26T02:23:52.812232Z"
    },
    "papermill": {
     "duration": 0.016926,
     "end_time": "2022-03-26T02:23:52.812737",
     "exception": false,
     "start_time": "2022-03-26T02:23:52.795811",
     "status": "completed"
    },
    "tags": []
   },
   "outputs": [
    {
     "data": {
      "text/markdown": [
       "- USDT circulation on TRON dwarfs Ethereum’s surpassing $40 billion.  The Tron (TRX) network has been measuring some impressive results in the past few months. One of them is the...  Continue reading  The post USDT circulation on TRON dwarfs Ethereum&#8217;s surpassing $40 billion appeared first on Finbold. ... [| Skaityti daugiau](https://finbold.com/usdt-circulation-on-tron-dwarfs-ethereums-surpassing-40-billion/) "
      ],
      "text/plain": [
       "<IPython.core.display.Markdown object>"
      ]
     },
     "execution_count": 6,
     "metadata": {},
     "output_type": "execute_result"
    }
   ],
   "source": [
    "#hide_input\n",
    "#md('##### {}'.format(titleBTC)) \n",
    "md(\"- {}{} {}{} [| Skaityti daugiau]({}) \".format(trx['title'],'. ', trx['body'], ' ...', trx['url']))"
   ]
  },
  {
   "cell_type": "code",
   "execution_count": 7,
   "id": "illegal-greece",
   "metadata": {
    "execution": {
     "iopub.execute_input": "2022-03-26T02:23:52.837373Z",
     "iopub.status.busy": "2022-03-26T02:23:52.836392Z",
     "iopub.status.idle": "2022-03-26T02:23:52.840120Z",
     "shell.execute_reply": "2022-03-26T02:23:52.839689Z"
    },
    "papermill": {
     "duration": 0.016951,
     "end_time": "2022-03-26T02:23:52.840216",
     "exception": false,
     "start_time": "2022-03-26T02:23:52.823265",
     "status": "completed"
    },
    "tags": []
   },
   "outputs": [
    {
     "data": {
      "text/markdown": [
       "- Ukraine Launches NFT Museum of War on Ethereum and Polygon.  Proceeds from NFT sales will go to the Ukraine Ministry of Digital Transformation. ... [| Skaityti daugiau](https://decrypt.co/96044/ukraine-launches-nft-museum-war-ethereum-polygon) "
      ],
      "text/plain": [
       "<IPython.core.display.Markdown object>"
      ]
     },
     "execution_count": 7,
     "metadata": {},
     "output_type": "execute_result"
    }
   ],
   "source": [
    "#hide_input\n",
    "#md('##### {}'.format(titleBTC)) \n",
    "md(\"- {}{} {}{} [| Skaityti daugiau]({}) \".format(eth['title'],'. ', eth['body'], ' ...', eth['url']))"
   ]
  },
  {
   "cell_type": "code",
   "execution_count": 8,
   "id": "sublime-lounge",
   "metadata": {
    "execution": {
     "iopub.execute_input": "2022-03-26T02:23:52.865743Z",
     "iopub.status.busy": "2022-03-26T02:23:52.865239Z",
     "iopub.status.idle": "2022-03-26T02:23:52.868073Z",
     "shell.execute_reply": "2022-03-26T02:23:52.868449Z"
    },
    "papermill": {
     "duration": 0.017763,
     "end_time": "2022-03-26T02:23:52.868561",
     "exception": false,
     "start_time": "2022-03-26T02:23:52.850798",
     "status": "completed"
    },
    "tags": []
   },
   "outputs": [
    {
     "data": {
      "text/markdown": [
       "- Cardano Mounts Sky-High Momentum Following Coinbase’s Mouth-Watering ADA Staking Rewards.  There are two major upgrades planned for June and October this year. In between, IOG is carrying out parameter adjustments, with the latest being an increase in Plutus script memory units limit from 56M to 62M. ... [| Skaityti daugiau](https://zycrypto.com/cardano-mounts-sky-high-momentum-following-coinbases-mouth-watering-ada-staking-rewards/) "
      ],
      "text/plain": [
       "<IPython.core.display.Markdown object>"
      ]
     },
     "execution_count": 8,
     "metadata": {},
     "output_type": "execute_result"
    }
   ],
   "source": [
    "#hide_input\n",
    "#md('##### {}'.format(titleBTC)) \n",
    "md(\"- {}{} {}{} [| Skaityti daugiau]({}) \".format(ada['title'],'. ', ada['body'], ' ...', ada['url']))"
   ]
  },
  {
   "cell_type": "code",
   "execution_count": 9,
   "id": "specified-ordering",
   "metadata": {
    "execution": {
     "iopub.execute_input": "2022-03-26T02:23:52.894630Z",
     "iopub.status.busy": "2022-03-26T02:23:52.893554Z",
     "iopub.status.idle": "2022-03-26T02:23:52.897565Z",
     "shell.execute_reply": "2022-03-26T02:23:52.897142Z"
    },
    "papermill": {
     "duration": 0.018156,
     "end_time": "2022-03-26T02:23:52.897660",
     "exception": false,
     "start_time": "2022-03-26T02:23:52.879504",
     "status": "completed"
    },
    "tags": []
   },
   "outputs": [
    {
     "data": {
      "text/markdown": [
       "- Bitcoin ($BTC) Whale Accumulation Hits One-Year High as Exchange Outflows Suggest Potential Price Rise.  Bitcoin ($BTC) whales have been accumulating the flagship cryptocurrency ever since Russia started invading Ukraine. Addresses with 1,000 to 10,000 BTC have seen the amount of coins within their wallets jump by 8.3% since then. According to on-chain analytics firm Santiment, the 2,203 addresses are at a one-year high while holding between $44.2 million and […] ... [| Skaityti daugiau](https://www.cryptoglobe.com/latest/2022/03/bitcoin-btc-whale-accumulation-hits-one-year-high-as-exchange-outflows-suggest-potential-price-rise/) "
      ],
      "text/plain": [
       "<IPython.core.display.Markdown object>"
      ]
     },
     "execution_count": 9,
     "metadata": {},
     "output_type": "execute_result"
    }
   ],
   "source": [
    "#hide_input\n",
    "#md('##### {}'.format(titleBTC)) \n",
    "md(\"- {}{} {}{} [| Skaityti daugiau]({}) \".format(exchange['title'],'. ', exchange['body'], ' ...', exchange['url']))"
   ]
  },
  {
   "cell_type": "code",
   "execution_count": null,
   "id": "tender-livestock",
   "metadata": {
    "papermill": {
     "duration": 0.011133,
     "end_time": "2022-03-26T02:23:52.920038",
     "exception": false,
     "start_time": "2022-03-26T02:23:52.908905",
     "status": "completed"
    },
    "tags": []
   },
   "outputs": [],
   "source": []
  },
  {
   "cell_type": "code",
   "execution_count": null,
   "id": "appreciated-diamond",
   "metadata": {
    "papermill": {
     "duration": 0.011158,
     "end_time": "2022-03-26T02:23:52.942518",
     "exception": false,
     "start_time": "2022-03-26T02:23:52.931360",
     "status": "completed"
    },
    "tags": []
   },
   "outputs": [],
   "source": []
  },
  {
   "cell_type": "code",
   "execution_count": null,
   "id": "romance-sweden",
   "metadata": {
    "papermill": {
     "duration": 0.011232,
     "end_time": "2022-03-26T02:23:52.965917",
     "exception": false,
     "start_time": "2022-03-26T02:23:52.954685",
     "status": "completed"
    },
    "tags": []
   },
   "outputs": [],
   "source": []
  },
  {
   "cell_type": "code",
   "execution_count": null,
   "id": "dietary-statistics",
   "metadata": {
    "papermill": {
     "duration": 0.011196,
     "end_time": "2022-03-26T02:23:52.988428",
     "exception": false,
     "start_time": "2022-03-26T02:23:52.977232",
     "status": "completed"
    },
    "tags": []
   },
   "outputs": [],
   "source": []
  }
 ],
 "metadata": {
  "kernelspec": {
   "display_name": "Python 3",
   "language": "python",
   "name": "python3"
  },
  "language_info": {
   "codemirror_mode": {
    "name": "ipython",
    "version": 3
   },
   "file_extension": ".py",
   "mimetype": "text/x-python",
   "name": "python",
   "nbconvert_exporter": "python",
   "pygments_lexer": "ipython3",
   "version": "3.6.15"
  },
  "papermill": {
   "default_parameters": {},
   "duration": 12.108822,
   "end_time": "2022-03-26T02:23:53.418310",
   "environment_variables": {},
   "exception": null,
   "input_path": "Market-News.ipynb",
   "output_path": "Market-News.ipynb",
   "parameters": {},
   "start_time": "2022-03-26T02:23:41.309488",
   "version": "2.2.2"
  }
 },
 "nbformat": 4,
 "nbformat_minor": 5
}