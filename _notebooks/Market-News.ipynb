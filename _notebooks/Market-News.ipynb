{
 "cells": [
  {
   "cell_type": "markdown",
   "id": "short-greensboro",
   "metadata": {
    "papermill": {
     "duration": 0.012571,
     "end_time": "2022-01-05T02:08:59.885175",
     "exception": false,
     "start_time": "2022-01-05T02:08:59.872604",
     "status": "completed"
    },
    "tags": []
   },
   "source": [
    "# Kriptovaliutų naujienos"
   ]
  },
  {
   "cell_type": "code",
   "execution_count": 1,
   "id": "functioning-knowing",
   "metadata": {
    "execution": {
     "iopub.execute_input": "2022-01-05T02:08:59.912518Z",
     "iopub.status.busy": "2022-01-05T02:08:59.911994Z",
     "iopub.status.idle": "2022-01-05T02:09:01.213934Z",
     "shell.execute_reply": "2022-01-05T02:09:01.212911Z"
    },
    "papermill": {
     "duration": 1.32022,
     "end_time": "2022-01-05T02:09:01.214105",
     "exception": false,
     "start_time": "2022-01-05T02:08:59.893885",
     "status": "completed"
    },
    "tags": []
   },
   "outputs": [],
   "source": [
    "#hide_input\n",
    "import warnings\n",
    "warnings.filterwarnings('ignore')\n",
    "from scripts.read_data import read_api\n",
    "from scripts.read_data import read_news\n",
    "from scripts.read_data import read_covid\n",
    "import matplotlib.pyplot as plt \n",
    "from IPython.display import Markdown as md"
   ]
  },
  {
   "cell_type": "code",
   "execution_count": 2,
   "id": "shared-acceptance",
   "metadata": {
    "execution": {
     "iopub.execute_input": "2022-01-05T02:09:01.239059Z",
     "iopub.status.busy": "2022-01-05T02:09:01.238514Z",
     "iopub.status.idle": "2022-01-05T02:09:10.051581Z",
     "shell.execute_reply": "2022-01-05T02:09:10.052089Z"
    },
    "papermill": {
     "duration": 8.828564,
     "end_time": "2022-01-05T02:09:10.052264",
     "exception": false,
     "start_time": "2022-01-05T02:09:01.223700",
     "status": "completed"
    },
    "tags": []
   },
   "outputs": [],
   "source": [
    "#hide_input\n",
    "blockchain = read_news('blockchain') \n",
    "btc = read_news('btc') \n",
    "xrp = read_news('xrp') \n",
    "trx = read_news('trx') \n",
    "eth = read_news('eth')  \n",
    "ada = read_news('ada')\n",
    "exchange = read_news('exchange') "
   ]
  },
  {
   "cell_type": "code",
   "execution_count": 3,
   "id": "synthetic-notion",
   "metadata": {
    "execution": {
     "iopub.execute_input": "2022-01-05T02:09:10.077949Z",
     "iopub.status.busy": "2022-01-05T02:09:10.077401Z",
     "iopub.status.idle": "2022-01-05T02:09:10.082940Z",
     "shell.execute_reply": "2022-01-05T02:09:10.082519Z"
    },
    "papermill": {
     "duration": 0.021056,
     "end_time": "2022-01-05T02:09:10.083058",
     "exception": false,
     "start_time": "2022-01-05T02:09:10.062002",
     "status": "completed"
    },
    "tags": []
   },
   "outputs": [
    {
     "data": {
      "text/markdown": [
       "- InvestAnswers Unveils ‘Confident’ Solana Price Prediction, Says 200% Ethereum Rise on the Table.  A popular crypto analyst is setting 2022 price targets for a layer-1 blockchain protocol that’s flying high after breaking out last year. In a new Q&#38;A session, the host of financial education YouTube channel InvestAnswers tells his 389,000 subscribers where he thinks Solana (SOL) is headed over the next six months. &#8220;I’m pretty confident we’ll [&#8230;]The post InvestAnswers Unveils ‘Confident’ Solana Price Prediction, Says 200% Ethereum Rise on the Table appeared first on The Daily Hodl. ... [| Skaityti daugiau](https://dailyhodl.com/2022/01/04/investanswers-unveils-confident-solana-price-prediction-says-200-ethereum-rise-on-the-table/) "
      ],
      "text/plain": [
       "<IPython.core.display.Markdown object>"
      ]
     },
     "execution_count": 3,
     "metadata": {},
     "output_type": "execute_result"
    }
   ],
   "source": [
    "#hide_input\n",
    "#md('##### {}'.format(titleBTC)) \n",
    "md(\"- {}{} {}{} [| Skaityti daugiau]({}) \".format(blockchain['title'],'. ', blockchain['body'], ' ...', blockchain['url']))"
   ]
  },
  {
   "cell_type": "code",
   "execution_count": 4,
   "id": "aging-caution",
   "metadata": {
    "execution": {
     "iopub.execute_input": "2022-01-05T02:09:10.106637Z",
     "iopub.status.busy": "2022-01-05T02:09:10.106090Z",
     "iopub.status.idle": "2022-01-05T02:09:10.108456Z",
     "shell.execute_reply": "2022-01-05T02:09:10.108857Z"
    },
    "papermill": {
     "duration": 0.016575,
     "end_time": "2022-01-05T02:09:10.108987",
     "exception": false,
     "start_time": "2022-01-05T02:09:10.092412",
     "status": "completed"
    },
    "tags": []
   },
   "outputs": [
    {
     "data": {
      "text/markdown": [
       "- REN price at risk of 50% drop after a bearish trading pattern shows up.  Nonetheless, the long-term technical setup and strengthening protocol metrics indicate bullish continuation. ... [| Skaityti daugiau](https://cointelegraph.com/news/ren-price-at-risk-of-50-drop-after-a-bearish-trading-pattern-shows-up) "
      ],
      "text/plain": [
       "<IPython.core.display.Markdown object>"
      ]
     },
     "execution_count": 4,
     "metadata": {},
     "output_type": "execute_result"
    }
   ],
   "source": [
    "#hide_input\n",
    "#md('##### {}'.format(titleBTC)) \n",
    "md(\"- {}{} {}{} [| Skaityti daugiau]({}) \".format(btc['title'],'. ', btc['body'], ' ...', btc['url']))"
   ]
  },
  {
   "cell_type": "code",
   "execution_count": 5,
   "id": "organic-actress",
   "metadata": {
    "execution": {
     "iopub.execute_input": "2022-01-05T02:09:10.133176Z",
     "iopub.status.busy": "2022-01-05T02:09:10.132252Z",
     "iopub.status.idle": "2022-01-05T02:09:10.135861Z",
     "shell.execute_reply": "2022-01-05T02:09:10.136271Z"
    },
    "papermill": {
     "duration": 0.017902,
     "end_time": "2022-01-05T02:09:10.136397",
     "exception": false,
     "start_time": "2022-01-05T02:09:10.118495",
     "status": "completed"
    },
    "tags": []
   },
   "outputs": [
    {
     "data": {
      "text/markdown": [
       "- XRP Price Showing an Important Structure Which is Worth to as an Opportunity to Consider.  The post XRP Price Showing an Important Structure Which is Worth to as an Opportunity to Consider appeared first on Coinpedia - Fintech &amp; Cryptocurreny News Media| Crypto GuideXRP price is swinging within a very narrow margin for quite a long time, yet a breakout is not seen any time in Q1 2022. The asset is expected to continue with the consolidation for some more time before slicing through the consolidation. Both the buyers and sellers are trying their level best to take &#8230; ... [| Skaityti daugiau](https://coinpedia.org/price-analysis/xrp-price-showing-an-important-structure/) "
      ],
      "text/plain": [
       "<IPython.core.display.Markdown object>"
      ]
     },
     "execution_count": 5,
     "metadata": {},
     "output_type": "execute_result"
    }
   ],
   "source": [
    "#hide_input\n",
    "#md('##### {}'.format(titleBTC)) \n",
    "md(\"- {}{} {}{} [| Skaityti daugiau]({}) \".format(xrp['title'],'. ', xrp['body'], ' ...', xrp['url']))"
   ]
  },
  {
   "cell_type": "code",
   "execution_count": 6,
   "id": "prompt-farmer",
   "metadata": {
    "execution": {
     "iopub.execute_input": "2022-01-05T02:09:10.161649Z",
     "iopub.status.busy": "2022-01-05T02:09:10.161119Z",
     "iopub.status.idle": "2022-01-05T02:09:10.163623Z",
     "shell.execute_reply": "2022-01-05T02:09:10.164018Z"
    },
    "papermill": {
     "duration": 0.017925,
     "end_time": "2022-01-05T02:09:10.164137",
     "exception": false,
     "start_time": "2022-01-05T02:09:10.146212",
     "status": "completed"
    },
    "tags": []
   },
   "outputs": [
    {
     "data": {
      "text/markdown": [
       "- Binance coin, Terra, Tron Price Analysis: 03 January.  Ethereum&#8217;s two-day recovery made way for Tron&#8217;s jump from its immediate demand zone. Further, Terra formed a reversal pattern on its 4-hour chart after displaying a slight bullish edge. Meanwhile, Binance Coin was rangebound and flashed low volatility signs. But all the above cryptos struggled to gather more volumes to commit to a convincing trend. [&#8230;] ... [| Skaityti daugiau](https://ambcrypto.com/binance-coin-terra-tron-price-analysis-03-january/) "
      ],
      "text/plain": [
       "<IPython.core.display.Markdown object>"
      ]
     },
     "execution_count": 6,
     "metadata": {},
     "output_type": "execute_result"
    }
   ],
   "source": [
    "#hide_input\n",
    "#md('##### {}'.format(titleBTC)) \n",
    "md(\"- {}{} {}{} [| Skaityti daugiau]({}) \".format(trx['title'],'. ', trx['body'], ' ...', trx['url']))"
   ]
  },
  {
   "cell_type": "code",
   "execution_count": 7,
   "id": "illegal-greece",
   "metadata": {
    "execution": {
     "iopub.execute_input": "2022-01-05T02:09:10.190069Z",
     "iopub.status.busy": "2022-01-05T02:09:10.189537Z",
     "iopub.status.idle": "2022-01-05T02:09:10.192033Z",
     "shell.execute_reply": "2022-01-05T02:09:10.192433Z"
    },
    "papermill": {
     "duration": 0.017994,
     "end_time": "2022-01-05T02:09:10.192556",
     "exception": false,
     "start_time": "2022-01-05T02:09:10.174562",
     "status": "completed"
    },
    "tags": []
   },
   "outputs": [
    {
     "data": {
      "text/markdown": [
       "- REN price at risk of 50% drop after a bearish trading pattern shows up.  Nonetheless, the long-term technical setup and strengthening protocol metrics indicate bullish continuation. ... [| Skaityti daugiau](https://cointelegraph.com/news/ren-price-at-risk-of-50-drop-after-a-bearish-trading-pattern-shows-up) "
      ],
      "text/plain": [
       "<IPython.core.display.Markdown object>"
      ]
     },
     "execution_count": 7,
     "metadata": {},
     "output_type": "execute_result"
    }
   ],
   "source": [
    "#hide_input\n",
    "#md('##### {}'.format(titleBTC)) \n",
    "md(\"- {}{} {}{} [| Skaityti daugiau]({}) \".format(eth['title'],'. ', eth['body'], ' ...', eth['url']))"
   ]
  },
  {
   "cell_type": "code",
   "execution_count": 8,
   "id": "sublime-lounge",
   "metadata": {
    "execution": {
     "iopub.execute_input": "2022-01-05T02:09:10.218746Z",
     "iopub.status.busy": "2022-01-05T02:09:10.218108Z",
     "iopub.status.idle": "2022-01-05T02:09:10.221283Z",
     "shell.execute_reply": "2022-01-05T02:09:10.221667Z"
    },
    "papermill": {
     "duration": 0.01874,
     "end_time": "2022-01-05T02:09:10.221791",
     "exception": false,
     "start_time": "2022-01-05T02:09:10.203051",
     "status": "completed"
    },
    "tags": []
   },
   "outputs": [
    {
     "data": {
      "text/markdown": [
       "- Cardano’s UTXO smart contract model to be middle ground between Ethereum, Bitcoin.  2021 was a monumental year for the Cardano network with the introduction of smart contracts. IOHK founder, Charles Hoskinson believes the new year will be of prime importance in strengthening its decentralized application (dApp) infrastructure. He laid out an ambitious roadmap for Cardano this year in a recent video on dApps and development. Hoskinson stressed [&#8230;] ... [| Skaityti daugiau](https://ambcrypto.com/cardanos-utxo-smart-contract-model-to-be-middle-ground-between-ethereum-bitcoin/) "
      ],
      "text/plain": [
       "<IPython.core.display.Markdown object>"
      ]
     },
     "execution_count": 8,
     "metadata": {},
     "output_type": "execute_result"
    }
   ],
   "source": [
    "#hide_input\n",
    "#md('##### {}'.format(titleBTC)) \n",
    "md(\"- {}{} {}{} [| Skaityti daugiau]({}) \".format(ada['title'],'. ', ada['body'], ' ...', ada['url']))"
   ]
  },
  {
   "cell_type": "code",
   "execution_count": 9,
   "id": "specified-ordering",
   "metadata": {
    "execution": {
     "iopub.execute_input": "2022-01-05T02:09:10.248695Z",
     "iopub.status.busy": "2022-01-05T02:09:10.247076Z",
     "iopub.status.idle": "2022-01-05T02:09:10.250682Z",
     "shell.execute_reply": "2022-01-05T02:09:10.251089Z"
    },
    "papermill": {
     "duration": 0.01824,
     "end_time": "2022-01-05T02:09:10.251207",
     "exception": false,
     "start_time": "2022-01-05T02:09:10.232967",
     "status": "completed"
    },
    "tags": []
   },
   "outputs": [
    {
     "data": {
      "text/markdown": [
       "- Binance Labs Led $12M Investment Round for WOO Network.  The capital raise follows a few months after the network’s $30 million Series A round in November The post Binance Labs Led $12M Investment Round for WOO Network appeared first on Blockworks. ... [| Skaityti daugiau](https://blockworks.co/binance-labs-led-12m-investment-round-for-woo-network/) "
      ],
      "text/plain": [
       "<IPython.core.display.Markdown object>"
      ]
     },
     "execution_count": 9,
     "metadata": {},
     "output_type": "execute_result"
    }
   ],
   "source": [
    "#hide_input\n",
    "#md('##### {}'.format(titleBTC)) \n",
    "md(\"- {}{} {}{} [| Skaityti daugiau]({}) \".format(exchange['title'],'. ', exchange['body'], ' ...', exchange['url']))"
   ]
  },
  {
   "cell_type": "code",
   "execution_count": null,
   "id": "tender-livestock",
   "metadata": {
    "papermill": {
     "duration": 0.01104,
     "end_time": "2022-01-05T02:09:10.273358",
     "exception": false,
     "start_time": "2022-01-05T02:09:10.262318",
     "status": "completed"
    },
    "tags": []
   },
   "outputs": [],
   "source": []
  },
  {
   "cell_type": "code",
   "execution_count": null,
   "id": "appreciated-diamond",
   "metadata": {
    "papermill": {
     "duration": 0.011545,
     "end_time": "2022-01-05T02:09:10.296152",
     "exception": false,
     "start_time": "2022-01-05T02:09:10.284607",
     "status": "completed"
    },
    "tags": []
   },
   "outputs": [],
   "source": []
  },
  {
   "cell_type": "code",
   "execution_count": null,
   "id": "romance-sweden",
   "metadata": {
    "papermill": {
     "duration": 0.011027,
     "end_time": "2022-01-05T02:09:10.318339",
     "exception": false,
     "start_time": "2022-01-05T02:09:10.307312",
     "status": "completed"
    },
    "tags": []
   },
   "outputs": [],
   "source": []
  },
  {
   "cell_type": "code",
   "execution_count": null,
   "id": "dietary-statistics",
   "metadata": {
    "papermill": {
     "duration": 0.011051,
     "end_time": "2022-01-05T02:09:10.340483",
     "exception": false,
     "start_time": "2022-01-05T02:09:10.329432",
     "status": "completed"
    },
    "tags": []
   },
   "outputs": [],
   "source": []
  }
 ],
 "metadata": {
  "kernelspec": {
   "display_name": "Python 3",
   "language": "python",
   "name": "python3"
  },
  "language_info": {
   "codemirror_mode": {
    "name": "ipython",
    "version": 3
   },
   "file_extension": ".py",
   "mimetype": "text/x-python",
   "name": "python",
   "nbconvert_exporter": "python",
   "pygments_lexer": "ipython3",
   "version": "3.6.15"
  },
  "papermill": {
   "default_parameters": {},
   "duration": 11.891484,
   "end_time": "2022-01-05T02:09:10.860142",
   "environment_variables": {},
   "exception": null,
   "input_path": "Market-News.ipynb",
   "output_path": "Market-News.ipynb",
   "parameters": {},
   "start_time": "2022-01-05T02:08:58.968658",
   "version": "2.2.2"
  }
 },
 "nbformat": 4,
 "nbformat_minor": 5
}