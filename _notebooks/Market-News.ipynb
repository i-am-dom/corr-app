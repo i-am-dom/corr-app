{
 "cells": [
  {
   "cell_type": "markdown",
   "id": "short-greensboro",
   "metadata": {
    "papermill": {
     "duration": 0.015052,
     "end_time": "2021-11-12T02:00:41.737914",
     "exception": false,
     "start_time": "2021-11-12T02:00:41.722862",
     "status": "completed"
    },
    "tags": []
   },
   "source": [
    "# Kriptovaliutų naujienos"
   ]
  },
  {
   "cell_type": "code",
   "execution_count": 1,
   "id": "functioning-knowing",
   "metadata": {
    "execution": {
     "iopub.execute_input": "2021-11-12T02:00:41.770243Z",
     "iopub.status.busy": "2021-11-12T02:00:41.769589Z",
     "iopub.status.idle": "2021-11-12T02:00:43.137079Z",
     "shell.execute_reply": "2021-11-12T02:00:43.136468Z"
    },
    "papermill": {
     "duration": 1.388505,
     "end_time": "2021-11-12T02:00:43.137267",
     "exception": false,
     "start_time": "2021-11-12T02:00:41.748762",
     "status": "completed"
    },
    "tags": []
   },
   "outputs": [],
   "source": [
    "#hide_input\n",
    "import warnings\n",
    "warnings.filterwarnings('ignore')\n",
    "from scripts.read_data import read_api\n",
    "from scripts.read_data import read_news\n",
    "from scripts.read_data import read_covid\n",
    "import matplotlib.pyplot as plt \n",
    "from IPython.display import Markdown as md"
   ]
  },
  {
   "cell_type": "code",
   "execution_count": 2,
   "id": "shared-acceptance",
   "metadata": {
    "execution": {
     "iopub.execute_input": "2021-11-12T02:00:43.168228Z",
     "iopub.status.busy": "2021-11-12T02:00:43.167176Z",
     "iopub.status.idle": "2021-11-12T02:00:55.432672Z",
     "shell.execute_reply": "2021-11-12T02:00:55.432138Z"
    },
    "papermill": {
     "duration": 12.282815,
     "end_time": "2021-11-12T02:00:55.432810",
     "exception": false,
     "start_time": "2021-11-12T02:00:43.149995",
     "status": "completed"
    },
    "tags": []
   },
   "outputs": [],
   "source": [
    "#hide_input\n",
    "blockchain = read_news('blockchain') \n",
    "btc = read_news('btc') \n",
    "xrp = read_news('xrp') \n",
    "trx = read_news('trx') \n",
    "eth = read_news('eth')  \n",
    "ada = read_news('ada')\n",
    "exchange = read_news('exchange') "
   ]
  },
  {
   "cell_type": "code",
   "execution_count": 3,
   "id": "synthetic-notion",
   "metadata": {
    "execution": {
     "iopub.execute_input": "2021-11-12T02:00:55.460536Z",
     "iopub.status.busy": "2021-11-12T02:00:55.459883Z",
     "iopub.status.idle": "2021-11-12T02:00:55.463273Z",
     "shell.execute_reply": "2021-11-12T02:00:55.462619Z"
    },
    "papermill": {
     "duration": 0.020124,
     "end_time": "2021-11-12T02:00:55.463386",
     "exception": false,
     "start_time": "2021-11-12T02:00:55.443262",
     "status": "completed"
    },
    "tags": []
   },
   "outputs": [
    {
     "data": {
      "text/markdown": [
       "- Introducing Decasonic Labs, an Innovation Generator for Technical Entrepreneurs To Bring World-Changing Blockchain and Web 3.0 Ideas to Market.  November 11, 2021 – Chicago Led by veteran Google and DoubleClick engineering leader Allister Lam, Decasonic’s innovation arm drives rapid technical and product development for pre-seed concepts and beyond. Decasonic, the venture and digital assets fund building blockchain innovation, today announces Decasonic Labs, an innovation generator that collaborates with high-potential technical developers to bring their [&#8230;]The post Introducing Decasonic Labs, an Innovation Generator for Technical Entrepreneurs To Bring World-Changing Blockchain and Web 3.0 Ideas to Market appeared first on The Daily Hodl. ... [| Skaityti daugiau](https://dailyhodl.com/2021/11/11/introducing-decasonic-labs-an-innovation-generator-for-technical-entrepreneurs-to-bring-world-changing-blockchain-and-web-3-0-ideas-to-market/) "
      ],
      "text/plain": [
       "<IPython.core.display.Markdown object>"
      ]
     },
     "execution_count": 3,
     "metadata": {},
     "output_type": "execute_result"
    }
   ],
   "source": [
    "#hide_input\n",
    "#md('##### {}'.format(titleBTC)) \n",
    "md(\"- {}{} {}{} [| Skaityti daugiau]({}) \".format(blockchain['title'],'. ', blockchain['body'], ' ...', blockchain['url']))"
   ]
  },
  {
   "cell_type": "code",
   "execution_count": 4,
   "id": "aging-caution",
   "metadata": {
    "execution": {
     "iopub.execute_input": "2021-11-12T02:00:55.490049Z",
     "iopub.status.busy": "2021-11-12T02:00:55.489429Z",
     "iopub.status.idle": "2021-11-12T02:00:55.492862Z",
     "shell.execute_reply": "2021-11-12T02:00:55.492311Z"
    },
    "papermill": {
     "duration": 0.019212,
     "end_time": "2021-11-12T02:00:55.492999",
     "exception": false,
     "start_time": "2021-11-12T02:00:55.473787",
     "status": "completed"
    },
    "tags": []
   },
   "outputs": [
    {
     "data": {
      "text/markdown": [
       "- Crypto Chartbook - The Uncertain Certainty Of Bitcoin.  It is essential to view an investment from various time angles to place one’s bet.Talking about Bitcoin, it is better to look at a glass half full, meaning why not look at why bitcoin could be a certainty?Big player money is now rushing to accumulate the necessary size they aim to hold on their books for the long term.Overall, we project for the near term that bitcoin will reach six-figure prices in mid-February next year. ... [| Skaityti daugiau](https://seekingalpha.com/article/4468673-crypto-chartbook-uncertain-certainty-of-bitcoin?utm_source=cryptocompare.com&utm_medium=referral) "
      ],
      "text/plain": [
       "<IPython.core.display.Markdown object>"
      ]
     },
     "execution_count": 4,
     "metadata": {},
     "output_type": "execute_result"
    }
   ],
   "source": [
    "#hide_input\n",
    "#md('##### {}'.format(titleBTC)) \n",
    "md(\"- {}{} {}{} [| Skaityti daugiau]({}) \".format(btc['title'],'. ', btc['body'], ' ...', btc['url']))"
   ]
  },
  {
   "cell_type": "code",
   "execution_count": 5,
   "id": "organic-actress",
   "metadata": {
    "execution": {
     "iopub.execute_input": "2021-11-12T02:00:55.519606Z",
     "iopub.status.busy": "2021-11-12T02:00:55.518969Z",
     "iopub.status.idle": "2021-11-12T02:00:55.522325Z",
     "shell.execute_reply": "2021-11-12T02:00:55.522864Z"
    },
    "papermill": {
     "duration": 0.018846,
     "end_time": "2021-11-12T02:00:55.523010",
     "exception": false,
     "start_time": "2021-11-12T02:00:55.504164",
     "status": "completed"
    },
    "tags": []
   },
   "outputs": [
    {
     "data": {
      "text/markdown": [
       "- $XRP Whale Moves Over $12 Billion Worth of Crypto for Next to Nothing.  A cryptocurrency whale has moved a whopping $12 billion worth of XRP in a transaction that cost next to nothing to process thanks to the network’s low fees. According to data from the XRP Ledger, a total of $12.3 billion worth of XRP were moved in the transaction that cost 0.000012 XRP, or $$0.0000157 to […] ... [| Skaityti daugiau](https://www.cryptoglobe.com/latest/2021/11/xrp-whale-moves-over-12-billion-worth-of-crypto-for-next-to-nothing/) "
      ],
      "text/plain": [
       "<IPython.core.display.Markdown object>"
      ]
     },
     "execution_count": 5,
     "metadata": {},
     "output_type": "execute_result"
    }
   ],
   "source": [
    "#hide_input\n",
    "#md('##### {}'.format(titleBTC)) \n",
    "md(\"- {}{} {}{} [| Skaityti daugiau]({}) \".format(xrp['title'],'. ', xrp['body'], ' ...', xrp['url']))"
   ]
  },
  {
   "cell_type": "code",
   "execution_count": 6,
   "id": "prompt-farmer",
   "metadata": {
    "execution": {
     "iopub.execute_input": "2021-11-12T02:00:55.550061Z",
     "iopub.status.busy": "2021-11-12T02:00:55.549442Z",
     "iopub.status.idle": "2021-11-12T02:00:55.552444Z",
     "shell.execute_reply": "2021-11-12T02:00:55.552890Z"
    },
    "papermill": {
     "duration": 0.018862,
     "end_time": "2021-11-12T02:00:55.553014",
     "exception": false,
     "start_time": "2021-11-12T02:00:55.534152",
     "status": "completed"
    },
    "tags": []
   },
   "outputs": [
    {
     "data": {
      "text/markdown": [
       "- Institutional Investors Pouring Millions Into Surprise Altcoin As Bitcoin Year-to-Date Inflows Hit New Record: CoinShares.  Institutional investors are shifting the amount of capital they&#8217;re allocating to the crypto markets, with a surprise altcoin suddenly on their radar. According to the digital asset management firm CoinShares, crypto investment products enjoyed a 12th consecutive week of inflows from institutions. Seemingly out of nowhere, Tron (TRX) surged near the top of the altcoin [&#8230;]The post Institutional Investors Pouring Millions Into Surprise Altcoin As Bitcoin Year-to-Date Inflows Hit New Record: CoinShares appeared first on The Daily Hodl. ... [| Skaityti daugiau](https://dailyhodl.com/2021/11/10/institutional-investors-pouring-millions-into-surprise-altcoin-as-bitcoin-year-to-date-inflows-hit-new-record-coinshares/) "
      ],
      "text/plain": [
       "<IPython.core.display.Markdown object>"
      ]
     },
     "execution_count": 6,
     "metadata": {},
     "output_type": "execute_result"
    }
   ],
   "source": [
    "#hide_input\n",
    "#md('##### {}'.format(titleBTC)) \n",
    "md(\"- {}{} {}{} [| Skaityti daugiau]({}) \".format(trx['title'],'. ', trx['body'], ' ...', trx['url']))"
   ]
  },
  {
   "cell_type": "code",
   "execution_count": 7,
   "id": "illegal-greece",
   "metadata": {
    "execution": {
     "iopub.execute_input": "2021-11-12T02:00:55.580759Z",
     "iopub.status.busy": "2021-11-12T02:00:55.580165Z",
     "iopub.status.idle": "2021-11-12T02:00:55.585111Z",
     "shell.execute_reply": "2021-11-12T02:00:55.584520Z"
    },
    "papermill": {
     "duration": 0.020698,
     "end_time": "2021-11-12T02:00:55.585235",
     "exception": false,
     "start_time": "2021-11-12T02:00:55.564537",
     "status": "completed"
    },
    "tags": []
   },
   "outputs": [
    {
     "data": {
      "text/markdown": [
       "- Vitalik Buterin Co-founders of Ethereum Owns 100k Dogs of Elon ($DOE) Tokens.  Vitalik Buterin now officially owns 100k $DOE, after the team sent the tokens to his ENS address &#8211; vitalik.eth. Taking a look at Vitalik’s address on Etherscan, we can see his $DOE balance along with the other tokens that he owns. Don’t worry, even if Vitalik does end up selling his $DOE tokens, it won’t [&#8230;]The post Vitalik Buterin Co-founders of Ethereum Owns 100k Dogs of Elon ($DOE) Tokens appeared first on NullTX. ... [| Skaityti daugiau](https://nulltx.com/vitalik-buterin-co-founders-of-ethereum-owns-100k-dogs-of-elon-doe-tokens/) "
      ],
      "text/plain": [
       "<IPython.core.display.Markdown object>"
      ]
     },
     "execution_count": 7,
     "metadata": {},
     "output_type": "execute_result"
    }
   ],
   "source": [
    "#hide_input\n",
    "#md('##### {}'.format(titleBTC)) \n",
    "md(\"- {}{} {}{} [| Skaityti daugiau]({}) \".format(eth['title'],'. ', eth['body'], ' ...', eth['url']))"
   ]
  },
  {
   "cell_type": "code",
   "execution_count": 8,
   "id": "sublime-lounge",
   "metadata": {
    "execution": {
     "iopub.execute_input": "2021-11-12T02:00:55.614180Z",
     "iopub.status.busy": "2021-11-12T02:00:55.613606Z",
     "iopub.status.idle": "2021-11-12T02:00:55.617936Z",
     "shell.execute_reply": "2021-11-12T02:00:55.618382Z"
    },
    "papermill": {
     "duration": 0.020691,
     "end_time": "2021-11-12T02:00:55.618508",
     "exception": false,
     "start_time": "2021-11-12T02:00:55.597817",
     "status": "completed"
    },
    "tags": []
   },
   "outputs": [
    {
     "data": {
      "text/markdown": [
       "- Crypto Trader Justin Bennett Tracks Bitcoin and Cardano Trajectories After Crypto Market Pullback.  Crypto investor and technical analyst Justin Bennett thinks Bitcoin (BTC) still looks &#8220;pretty good&#8221; amid the market pullback while predicting major boosts for Cardano (ADA) and other altcoins. In the latest edition of his Cryptocademy newsletter, Bennett discusses Bitcoin&#8217;s recent &#8220;aggressive&#8221; pullback to $63,000. &#8220;Bitcoin just shook out a lot of excess leverage with an aggressive pullback [&#8230;]The post Crypto Trader Justin Bennett Tracks Bitcoin and Cardano Trajectories After Crypto Market Pullback appeared first on The Daily Hodl. ... [| Skaityti daugiau](https://dailyhodl.com/2021/11/11/crypto-trader-justin-bennett-tracks-bitcoin-and-cardano-trajectories-after-crypto-market-pullback/) "
      ],
      "text/plain": [
       "<IPython.core.display.Markdown object>"
      ]
     },
     "execution_count": 8,
     "metadata": {},
     "output_type": "execute_result"
    }
   ],
   "source": [
    "#hide_input\n",
    "#md('##### {}'.format(titleBTC)) \n",
    "md(\"- {}{} {}{} [| Skaityti daugiau]({}) \".format(ada['title'],'. ', ada['body'], ' ...', ada['url']))"
   ]
  },
  {
   "cell_type": "code",
   "execution_count": 9,
   "id": "specified-ordering",
   "metadata": {
    "execution": {
     "iopub.execute_input": "2021-11-12T02:00:55.647856Z",
     "iopub.status.busy": "2021-11-12T02:00:55.647076Z",
     "iopub.status.idle": "2021-11-12T02:00:55.651181Z",
     "shell.execute_reply": "2021-11-12T02:00:55.651787Z"
    },
    "papermill": {
     "duration": 0.02137,
     "end_time": "2021-11-12T02:00:55.651927",
     "exception": false,
     "start_time": "2021-11-12T02:00:55.630557",
     "status": "completed"
    },
    "tags": []
   },
   "outputs": [
    {
     "data": {
      "text/markdown": [
       "- Chainalysis report reveals this about centralized vs decentralized exchanges.  Crypto exchanges are vital parts of the crypto ecosystem. And, to that end, both centralized and decentralized exchanges offer attractions of their own. Chainalysis&#8217; November research report on the crypto exchange showed what trends are taking shape, and where the industry is headed as a whole. Exchanging blows Comparing institutions such as centralized exchanges, DEXes, [&#8230;] ... [| Skaityti daugiau](https://ambcrypto.com/chainalysis-report-reveals-this-about-centralized-vs-decentralized-exchanges/) "
      ],
      "text/plain": [
       "<IPython.core.display.Markdown object>"
      ]
     },
     "execution_count": 9,
     "metadata": {},
     "output_type": "execute_result"
    }
   ],
   "source": [
    "#hide_input\n",
    "#md('##### {}'.format(titleBTC)) \n",
    "md(\"- {}{} {}{} [| Skaityti daugiau]({}) \".format(exchange['title'],'. ', exchange['body'], ' ...', exchange['url']))"
   ]
  },
  {
   "cell_type": "code",
   "execution_count": null,
   "id": "tender-livestock",
   "metadata": {
    "papermill": {
     "duration": 0.013143,
     "end_time": "2021-11-12T02:00:55.678534",
     "exception": false,
     "start_time": "2021-11-12T02:00:55.665391",
     "status": "completed"
    },
    "tags": []
   },
   "outputs": [],
   "source": []
  },
  {
   "cell_type": "code",
   "execution_count": null,
   "id": "appreciated-diamond",
   "metadata": {
    "papermill": {
     "duration": 0.013285,
     "end_time": "2021-11-12T02:00:55.704885",
     "exception": false,
     "start_time": "2021-11-12T02:00:55.691600",
     "status": "completed"
    },
    "tags": []
   },
   "outputs": [],
   "source": []
  },
  {
   "cell_type": "code",
   "execution_count": null,
   "id": "romance-sweden",
   "metadata": {
    "papermill": {
     "duration": 0.012594,
     "end_time": "2021-11-12T02:00:55.730104",
     "exception": false,
     "start_time": "2021-11-12T02:00:55.717510",
     "status": "completed"
    },
    "tags": []
   },
   "outputs": [],
   "source": []
  },
  {
   "cell_type": "code",
   "execution_count": null,
   "id": "dietary-statistics",
   "metadata": {
    "papermill": {
     "duration": 0.01274,
     "end_time": "2021-11-12T02:00:55.755364",
     "exception": false,
     "start_time": "2021-11-12T02:00:55.742624",
     "status": "completed"
    },
    "tags": []
   },
   "outputs": [],
   "source": []
  }
 ],
 "metadata": {
  "kernelspec": {
   "display_name": "Python 3",
   "language": "python",
   "name": "python3"
  },
  "language_info": {
   "codemirror_mode": {
    "name": "ipython",
    "version": 3
   },
   "file_extension": ".py",
   "mimetype": "text/x-python",
   "name": "python",
   "nbconvert_exporter": "python",
   "pygments_lexer": "ipython3",
   "version": "3.6.15"
  },
  "papermill": {
   "default_parameters": {},
   "duration": 15.521353,
   "end_time": "2021-11-12T02:00:56.177325",
   "environment_variables": {},
   "exception": null,
   "input_path": "Market-News.ipynb",
   "output_path": "Market-News.ipynb",
   "parameters": {},
   "start_time": "2021-11-12T02:00:40.655972",
   "version": "2.2.2"
  }
 },
 "nbformat": 4,
 "nbformat_minor": 5
}