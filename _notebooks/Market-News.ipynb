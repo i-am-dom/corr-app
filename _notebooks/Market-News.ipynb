{
 "cells": [
  {
   "cell_type": "markdown",
   "id": "short-greensboro",
   "metadata": {
    "papermill": {
     "duration": 0.013222,
     "end_time": "2022-01-15T02:08:44.558152",
     "exception": false,
     "start_time": "2022-01-15T02:08:44.544930",
     "status": "completed"
    },
    "tags": []
   },
   "source": [
    "# Kriptovaliutų naujienos"
   ]
  },
  {
   "cell_type": "code",
   "execution_count": 1,
   "id": "functioning-knowing",
   "metadata": {
    "execution": {
     "iopub.execute_input": "2022-01-15T02:08:44.587758Z",
     "iopub.status.busy": "2022-01-15T02:08:44.586600Z",
     "iopub.status.idle": "2022-01-15T02:08:45.852575Z",
     "shell.execute_reply": "2022-01-15T02:08:45.853134Z"
    },
    "papermill": {
     "duration": 1.285317,
     "end_time": "2022-01-15T02:08:45.853330",
     "exception": false,
     "start_time": "2022-01-15T02:08:44.568013",
     "status": "completed"
    },
    "tags": []
   },
   "outputs": [],
   "source": [
    "#hide_input\n",
    "import warnings\n",
    "warnings.filterwarnings('ignore')\n",
    "from scripts.read_data import read_api\n",
    "from scripts.read_data import read_news\n",
    "from scripts.read_data import read_covid\n",
    "import matplotlib.pyplot as plt \n",
    "from IPython.display import Markdown as md"
   ]
  },
  {
   "cell_type": "code",
   "execution_count": 2,
   "id": "shared-acceptance",
   "metadata": {
    "execution": {
     "iopub.execute_input": "2022-01-15T02:08:45.879314Z",
     "iopub.status.busy": "2022-01-15T02:08:45.878786Z",
     "iopub.status.idle": "2022-01-15T02:08:56.081557Z",
     "shell.execute_reply": "2022-01-15T02:08:56.081010Z"
    },
    "papermill": {
     "duration": 10.217957,
     "end_time": "2022-01-15T02:08:56.081698",
     "exception": false,
     "start_time": "2022-01-15T02:08:45.863741",
     "status": "completed"
    },
    "tags": []
   },
   "outputs": [],
   "source": [
    "#hide_input\n",
    "blockchain = read_news('blockchain') \n",
    "btc = read_news('btc') \n",
    "xrp = read_news('xrp') \n",
    "trx = read_news('trx') \n",
    "eth = read_news('eth')  \n",
    "ada = read_news('ada')\n",
    "exchange = read_news('exchange') "
   ]
  },
  {
   "cell_type": "code",
   "execution_count": 3,
   "id": "synthetic-notion",
   "metadata": {
    "execution": {
     "iopub.execute_input": "2022-01-15T02:08:56.106479Z",
     "iopub.status.busy": "2022-01-15T02:08:56.105960Z",
     "iopub.status.idle": "2022-01-15T02:08:56.111283Z",
     "shell.execute_reply": "2022-01-15T02:08:56.110875Z"
    },
    "papermill": {
     "duration": 0.020098,
     "end_time": "2022-01-15T02:08:56.111392",
     "exception": false,
     "start_time": "2022-01-15T02:08:56.091294",
     "status": "completed"
    },
    "tags": []
   },
   "outputs": [
    {
     "data": {
      "text/markdown": [
       "- Cardano Enters The Basho Stage: How It Improves Performance.  The software platform Cardano has entered the third stage of its roadmap, the Basho era. It promises to improve the network&#8217;s performance and scalability. Cardano&#8217;s roadmap is &#8220;a summary of Cardano development&#8221; divided into five eras to deliver improvements in diverse functionalities of the network that are &#8220;delivered across multiple code releases&#8221;. Now that the platform&#8217;s core smart contract capability Plutus has been deployed, the launch of the Basho era focuses on scaling Cardano, promising &#8220;Parameter adjustments, improvements, enhancements and other innovations&#8221; supposed to increase the network&#8217;s capacity. They also call it &#8220;an era of optimization&#8221;, promising to enhance the performance and interoperability &#8220;to better support growth and adoption for applications with high transaction volume.&#8221; It is supposed to bring high performance, resiliency, and flexibility to the network. Related Reading &#124; Cardano Foundation Completes Funding To Plant 1 Million Trees Scalability And Interoperability Scalability and interoperability are some of the main solutions that Cardano wants to offer as the &#8220;ethereum killer&#8221;. While the Ethereum network is working to handle up to 100,000 transactions per second (tps), Cardano plans to reach millions of tps through the second-layer solution Hydra. On the interoperability&#8217;s side, the Basho stag... ... [| Skaityti daugiau](https://www.newsbtc.com/news/cardano/cardano-enters-the-basho-stage-how-it-improves-performance/) "
      ],
      "text/plain": [
       "<IPython.core.display.Markdown object>"
      ]
     },
     "execution_count": 3,
     "metadata": {},
     "output_type": "execute_result"
    }
   ],
   "source": [
    "#hide_input\n",
    "#md('##### {}'.format(titleBTC)) \n",
    "md(\"- {}{} {}{} [| Skaityti daugiau]({}) \".format(blockchain['title'],'. ', blockchain['body'], ' ...', blockchain['url']))"
   ]
  },
  {
   "cell_type": "code",
   "execution_count": 4,
   "id": "aging-caution",
   "metadata": {
    "execution": {
     "iopub.execute_input": "2022-01-15T02:08:56.134912Z",
     "iopub.status.busy": "2022-01-15T02:08:56.134411Z",
     "iopub.status.idle": "2022-01-15T02:08:56.137195Z",
     "shell.execute_reply": "2022-01-15T02:08:56.137578Z"
    },
    "papermill": {
     "duration": 0.016809,
     "end_time": "2022-01-15T02:08:56.137699",
     "exception": false,
     "start_time": "2022-01-15T02:08:56.120890",
     "status": "completed"
    },
    "tags": []
   },
   "outputs": [
    {
     "data": {
      "text/markdown": [
       "- Prominent Bitcoin Analyst Invests in $SHIB Despite $DOGE Soaring After Tesla Endorsement.  A closely followed bitcoin analyst has revealed he invested in the meme-inspired cryptocurrency Shiba Inu ($SHIB), despite rival memecoins Dogecoin ($DOGE) seeing a significant rise after Tesla started accepting it as a payment method for merchandise. The pseudonymous bitcoin analyst Pentoshi, who has over 460,000 followers on the microblogging platform Twitter, revealed he “bought some […] ... [| Skaityti daugiau](https://www.cryptoglobe.com/latest/2022/01/prominent-bitcoin-analyst-invests-in-shib-despite-doge-soaring-after-tesla-endorsement/) "
      ],
      "text/plain": [
       "<IPython.core.display.Markdown object>"
      ]
     },
     "execution_count": 4,
     "metadata": {},
     "output_type": "execute_result"
    }
   ],
   "source": [
    "#hide_input\n",
    "#md('##### {}'.format(titleBTC)) \n",
    "md(\"- {}{} {}{} [| Skaityti daugiau]({}) \".format(btc['title'],'. ', btc['body'], ' ...', btc['url']))"
   ]
  },
  {
   "cell_type": "code",
   "execution_count": 5,
   "id": "organic-actress",
   "metadata": {
    "execution": {
     "iopub.execute_input": "2022-01-15T02:08:56.161567Z",
     "iopub.status.busy": "2022-01-15T02:08:56.161045Z",
     "iopub.status.idle": "2022-01-15T02:08:56.163095Z",
     "shell.execute_reply": "2022-01-15T02:08:56.163477Z"
    },
    "papermill": {
     "duration": 0.016276,
     "end_time": "2022-01-15T02:08:56.163597",
     "exception": false,
     "start_time": "2022-01-15T02:08:56.147321",
     "status": "completed"
    },
    "tags": []
   },
   "outputs": [
    {
     "data": {
      "text/markdown": [
       "- Catalyst watch for next week: Bitcoin conference, eyes on Plug Power, Virgin Galactic, Winnebago and Lucid.  Welcome to Seeking Alpha's Catalyst Watch - a breakdown of some of next week's actionable events that stand out. Check out Saturday morning's regular Stocks to Watch article for a full list of events planned for the week or the Seeking Alpha earnings calendar for companies due to report. Monday - January 17 All day - The stock market is closed for the Martin Luther King holiday. All day - The three-day North American Bitcoin Conference begins in Miami, Florida. Notable speakers include Mark Cuban, Nick Spanos, Tezos (XTZ-USD) co-founder Kathleen Breitman, Tether (USDT-USD) co-founder Craig Sellars and Ripple (XRP-USD) CTO David Schwartz. Bitcoin (BTC-USD) and other cryptos are beginning to attract more attention as potential inflation and government instability hedges. Tuesday - January 18 Volatility watch - Options trading has spiked higher on Arrival (NASDAQ:ARVL) and Ginkgo Bioworks Holdings (NYSE:DNA). Stocks generating strong interest on Reddit's WallStreetBets include Virgin ... [| Skaityti daugiau](https://seekingalpha.com/news/3788371-catalyst-watch-for-next-week-bitcoin-conference-eyes-on-plug-power-virgin-galactic-winnebago-and-lucid?utm_source=cryptocompare.com&utm_medium=referral) "
      ],
      "text/plain": [
       "<IPython.core.display.Markdown object>"
      ]
     },
     "execution_count": 5,
     "metadata": {},
     "output_type": "execute_result"
    }
   ],
   "source": [
    "#hide_input\n",
    "#md('##### {}'.format(titleBTC)) \n",
    "md(\"- {}{} {}{} [| Skaityti daugiau]({}) \".format(xrp['title'],'. ', xrp['body'], ' ...', xrp['url']))"
   ]
  },
  {
   "cell_type": "code",
   "execution_count": 6,
   "id": "prompt-farmer",
   "metadata": {
    "execution": {
     "iopub.execute_input": "2022-01-15T02:08:56.187668Z",
     "iopub.status.busy": "2022-01-15T02:08:56.186650Z",
     "iopub.status.idle": "2022-01-15T02:08:56.190501Z",
     "shell.execute_reply": "2022-01-15T02:08:56.190099Z"
    },
    "papermill": {
     "duration": 0.017041,
     "end_time": "2022-01-15T02:08:56.190604",
     "exception": false,
     "start_time": "2022-01-15T02:08:56.173563",
     "status": "completed"
    },
    "tags": []
   },
   "outputs": [
    {
     "data": {
      "text/markdown": [
       "- Solana, Tron, Stellar Price Analysis: 13 January.  With Bitcoin closing in above all its 4-hour EMA ribbons, altcoins like Solana, Tron, and Stellar fought the bears with all their might. Their near-term technicals depicted the increasing buying momentum as they reclaimed their lost support levels. Solana (SOL) The 5 January sell-off fueled SOL&#8217;s already existing bearish tendencies since late December as the [&#8230;] ... [| Skaityti daugiau](https://ambcrypto.com/solana-tron-stellar-price-analysis-13-january/) "
      ],
      "text/plain": [
       "<IPython.core.display.Markdown object>"
      ]
     },
     "execution_count": 6,
     "metadata": {},
     "output_type": "execute_result"
    }
   ],
   "source": [
    "#hide_input\n",
    "#md('##### {}'.format(titleBTC)) \n",
    "md(\"- {}{} {}{} [| Skaityti daugiau]({}) \".format(trx['title'],'. ', trx['body'], ' ...', trx['url']))"
   ]
  },
  {
   "cell_type": "code",
   "execution_count": 7,
   "id": "illegal-greece",
   "metadata": {
    "execution": {
     "iopub.execute_input": "2022-01-15T02:08:56.215326Z",
     "iopub.status.busy": "2022-01-15T02:08:56.214333Z",
     "iopub.status.idle": "2022-01-15T02:08:56.218151Z",
     "shell.execute_reply": "2022-01-15T02:08:56.217744Z"
    },
    "papermill": {
     "duration": 0.017125,
     "end_time": "2022-01-15T02:08:56.218253",
     "exception": false,
     "start_time": "2022-01-15T02:08:56.201128",
     "status": "completed"
    },
    "tags": []
   },
   "outputs": [
    {
     "data": {
      "text/markdown": [
       "- Crypto Payments Are Coming To Visa, Mastercard, PayPal.  Crypto holders want to use their assets to shop.Visa, Mastercard, and PayPal are all researching crypto networks extensively (specifically Ethereum rollups and stablecoins).These payment service giants do not see crypto as a threat, rather, they plan to utilize crypto's technology to attract new customers. ... [| Skaityti daugiau](https://seekingalpha.com/article/4479744-crypto-payments-are-coming-to-visa-mastercard-paypal?utm_source=cryptocompare.com&utm_medium=referral) "
      ],
      "text/plain": [
       "<IPython.core.display.Markdown object>"
      ]
     },
     "execution_count": 7,
     "metadata": {},
     "output_type": "execute_result"
    }
   ],
   "source": [
    "#hide_input\n",
    "#md('##### {}'.format(titleBTC)) \n",
    "md(\"- {}{} {}{} [| Skaityti daugiau]({}) \".format(eth['title'],'. ', eth['body'], ' ...', eth['url']))"
   ]
  },
  {
   "cell_type": "code",
   "execution_count": 8,
   "id": "sublime-lounge",
   "metadata": {
    "execution": {
     "iopub.execute_input": "2022-01-15T02:08:56.243874Z",
     "iopub.status.busy": "2022-01-15T02:08:56.243373Z",
     "iopub.status.idle": "2022-01-15T02:08:56.246155Z",
     "shell.execute_reply": "2022-01-15T02:08:56.246640Z"
    },
    "papermill": {
     "duration": 0.017899,
     "end_time": "2022-01-15T02:08:56.246752",
     "exception": false,
     "start_time": "2022-01-15T02:08:56.228853",
     "status": "completed"
    },
    "tags": []
   },
   "outputs": [
    {
     "data": {
      "text/markdown": [
       "- Cardano Enters The Basho Stage: How It Improves Performance.  The software platform Cardano has entered the third stage of its roadmap, the Basho era. It promises to improve the network&#8217;s performance and scalability. Cardano&#8217;s roadmap is &#8220;a summary of Cardano development&#8221; divided into five eras to deliver improvements in diverse functionalities of the network that are &#8220;delivered across multiple code releases&#8221;. Now that the platform&#8217;s core smart contract capability Plutus has been deployed, the launch of the Basho era focuses on scaling Cardano, promising &#8220;Parameter adjustments, improvements, enhancements and other innovations&#8221; supposed to increase the network&#8217;s capacity. They also call it &#8220;an era of optimization&#8221;, promising to enhance the performance and interoperability &#8220;to better support growth and adoption for applications with high transaction volume.&#8221; It is supposed to bring high performance, resiliency, and flexibility to the network. Related Reading &#124; Cardano Foundation Completes Funding To Plant 1 Million Trees Scalability And Interoperability Scalability and interoperability are some of the main solutions that Cardano wants to offer as the &#8220;ethereum killer&#8221;. While the Ethereum network is working to handle up to 100,000 transactions per second (tps), Cardano plans to reach millions of tps through the second-layer solution Hydra. On the interoperability&#8217;s side, the Basho stag... ... [| Skaityti daugiau](https://www.newsbtc.com/news/cardano/cardano-enters-the-basho-stage-how-it-improves-performance/) "
      ],
      "text/plain": [
       "<IPython.core.display.Markdown object>"
      ]
     },
     "execution_count": 8,
     "metadata": {},
     "output_type": "execute_result"
    }
   ],
   "source": [
    "#hide_input\n",
    "#md('##### {}'.format(titleBTC)) \n",
    "md(\"- {}{} {}{} [| Skaityti daugiau]({}) \".format(ada['title'],'. ', ada['body'], ' ...', ada['url']))"
   ]
  },
  {
   "cell_type": "code",
   "execution_count": 9,
   "id": "specified-ordering",
   "metadata": {
    "execution": {
     "iopub.execute_input": "2022-01-15T02:08:56.273304Z",
     "iopub.status.busy": "2022-01-15T02:08:56.272790Z",
     "iopub.status.idle": "2022-01-15T02:08:56.276057Z",
     "shell.execute_reply": "2022-01-15T02:08:56.275650Z"
    },
    "papermill": {
     "duration": 0.018382,
     "end_time": "2022-01-15T02:08:56.276160",
     "exception": false,
     "start_time": "2022-01-15T02:08:56.257778",
     "status": "completed"
    },
    "tags": []
   },
   "outputs": [
    {
     "data": {
      "text/markdown": [
       "- Mark Cuban Is Quietly Accumulating Several Altcoins Built on Ethereum – Here’s a Look at the Billionaire’s Top Crypto Holdings.  Shark tank star and billionaire Mark Cuban is revealing his crypto portfolio, which includes several non-fungible tokens (NFTs) and altcoins built on Ethereum (ETH). According to ETH search engine EtherScan, Cuban’s top altcoin holdings include data exchange platform Ocean Protocol (OCEAN), cross-chain smart contract protocol Rarible (RARI), the governance token of the Olympus DAO (gOHM), [&#8230;]The post Mark Cuban Is Quietly Accumulating Several Altcoins Built on Ethereum – Here’s a Look at the Billionaire’s Top Crypto Holdings appeared first on The Daily Hodl. ... [| Skaityti daugiau](https://dailyhodl.com/2022/01/14/mark-cuban-is-quietly-accumulating-several-altcoins-built-on-ethereum-heres-a-look-at-the-billionaires-top-crypto-holdings/) "
      ],
      "text/plain": [
       "<IPython.core.display.Markdown object>"
      ]
     },
     "execution_count": 9,
     "metadata": {},
     "output_type": "execute_result"
    }
   ],
   "source": [
    "#hide_input\n",
    "#md('##### {}'.format(titleBTC)) \n",
    "md(\"- {}{} {}{} [| Skaityti daugiau]({}) \".format(exchange['title'],'. ', exchange['body'], ' ...', exchange['url']))"
   ]
  },
  {
   "cell_type": "code",
   "execution_count": null,
   "id": "tender-livestock",
   "metadata": {
    "papermill": {
     "duration": 0.012308,
     "end_time": "2022-01-15T02:08:56.299747",
     "exception": false,
     "start_time": "2022-01-15T02:08:56.287439",
     "status": "completed"
    },
    "tags": []
   },
   "outputs": [],
   "source": []
  },
  {
   "cell_type": "code",
   "execution_count": null,
   "id": "appreciated-diamond",
   "metadata": {
    "papermill": {
     "duration": 0.011288,
     "end_time": "2022-01-15T02:08:56.322481",
     "exception": false,
     "start_time": "2022-01-15T02:08:56.311193",
     "status": "completed"
    },
    "tags": []
   },
   "outputs": [],
   "source": []
  },
  {
   "cell_type": "code",
   "execution_count": null,
   "id": "romance-sweden",
   "metadata": {
    "papermill": {
     "duration": 0.011213,
     "end_time": "2022-01-15T02:08:56.344996",
     "exception": false,
     "start_time": "2022-01-15T02:08:56.333783",
     "status": "completed"
    },
    "tags": []
   },
   "outputs": [],
   "source": []
  },
  {
   "cell_type": "code",
   "execution_count": null,
   "id": "dietary-statistics",
   "metadata": {
    "papermill": {
     "duration": 0.01123,
     "end_time": "2022-01-15T02:08:56.367462",
     "exception": false,
     "start_time": "2022-01-15T02:08:56.356232",
     "status": "completed"
    },
    "tags": []
   },
   "outputs": [],
   "source": []
  }
 ],
 "metadata": {
  "kernelspec": {
   "display_name": "Python 3",
   "language": "python",
   "name": "python3"
  },
  "language_info": {
   "codemirror_mode": {
    "name": "ipython",
    "version": 3
   },
   "file_extension": ".py",
   "mimetype": "text/x-python",
   "name": "python",
   "nbconvert_exporter": "python",
   "pygments_lexer": "ipython3",
   "version": "3.6.15"
  },
  "papermill": {
   "default_parameters": {},
   "duration": 13.181654,
   "end_time": "2022-01-15T02:08:56.799028",
   "environment_variables": {},
   "exception": null,
   "input_path": "Market-News.ipynb",
   "output_path": "Market-News.ipynb",
   "parameters": {},
   "start_time": "2022-01-15T02:08:43.617374",
   "version": "2.2.2"
  }
 },
 "nbformat": 4,
 "nbformat_minor": 5
}