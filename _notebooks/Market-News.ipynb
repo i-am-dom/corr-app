{
 "cells": [
  {
   "cell_type": "markdown",
   "id": "short-greensboro",
   "metadata": {
    "papermill": {
     "duration": 0.016004,
     "end_time": "2021-10-29T01:58:43.472063",
     "exception": false,
     "start_time": "2021-10-29T01:58:43.456059",
     "status": "completed"
    },
    "tags": []
   },
   "source": [
    "# Kriptovaliutų naujienos"
   ]
  },
  {
   "cell_type": "code",
   "execution_count": 1,
   "id": "functioning-knowing",
   "metadata": {
    "execution": {
     "iopub.execute_input": "2021-10-29T01:58:43.506896Z",
     "iopub.status.busy": "2021-10-29T01:58:43.503242Z",
     "iopub.status.idle": "2021-10-29T01:58:45.121219Z",
     "shell.execute_reply": "2021-10-29T01:58:45.121706Z"
    },
    "papermill": {
     "duration": 1.637616,
     "end_time": "2021-10-29T01:58:45.121907",
     "exception": false,
     "start_time": "2021-10-29T01:58:43.484291",
     "status": "completed"
    },
    "tags": []
   },
   "outputs": [],
   "source": [
    "#hide_input\n",
    "import warnings\n",
    "warnings.filterwarnings('ignore')\n",
    "from scripts.read_data import read_api\n",
    "from scripts.read_data import read_news\n",
    "from scripts.read_data import read_covid\n",
    "import matplotlib.pyplot as plt \n",
    "from IPython.display import Markdown as md"
   ]
  },
  {
   "cell_type": "code",
   "execution_count": 2,
   "id": "shared-acceptance",
   "metadata": {
    "execution": {
     "iopub.execute_input": "2021-10-29T01:58:45.152450Z",
     "iopub.status.busy": "2021-10-29T01:58:45.151775Z",
     "iopub.status.idle": "2021-10-29T01:58:53.581858Z",
     "shell.execute_reply": "2021-10-29T01:58:53.580876Z"
    },
    "papermill": {
     "duration": 8.448067,
     "end_time": "2021-10-29T01:58:53.582011",
     "exception": false,
     "start_time": "2021-10-29T01:58:45.133944",
     "status": "completed"
    },
    "tags": []
   },
   "outputs": [],
   "source": [
    "#hide_input\n",
    "blockchain = read_news('blockchain') \n",
    "btc = read_news('btc') \n",
    "xrp = read_news('xrp') \n",
    "trx = read_news('trx') \n",
    "eth = read_news('eth')  \n",
    "ada = read_news('ada')\n",
    "exchange = read_news('exchange') "
   ]
  },
  {
   "cell_type": "code",
   "execution_count": 3,
   "id": "synthetic-notion",
   "metadata": {
    "execution": {
     "iopub.execute_input": "2021-10-29T01:58:53.610694Z",
     "iopub.status.busy": "2021-10-29T01:58:53.609252Z",
     "iopub.status.idle": "2021-10-29T01:58:53.615171Z",
     "shell.execute_reply": "2021-10-29T01:58:53.614497Z"
    },
    "papermill": {
     "duration": 0.022337,
     "end_time": "2021-10-29T01:58:53.615305",
     "exception": false,
     "start_time": "2021-10-29T01:58:53.592968",
     "status": "completed"
    },
    "tags": []
   },
   "outputs": [
    {
     "data": {
      "text/markdown": [
       "- Shanghai Man: Inside Blockchain Week’s private parties, Vitalik’s speech, and Gate.io climbs the ranks.   ... [| Skaityti daugiau](https://cointelegraph.com/magazine/2021/10/28/shanghai-man-chinas-degens-holding-private-parties-vitaliks-speech-and-gate-io-climbing-the-cefi-ranks) "
      ],
      "text/plain": [
       "<IPython.core.display.Markdown object>"
      ]
     },
     "execution_count": 3,
     "metadata": {},
     "output_type": "execute_result"
    }
   ],
   "source": [
    "#hide_input\n",
    "#md('##### {}'.format(titleBTC)) \n",
    "md(\"- {}{} {}{} [| Skaityti daugiau]({}) \".format(blockchain['title'],'. ', blockchain['body'], ' ...', blockchain['url']))"
   ]
  },
  {
   "cell_type": "code",
   "execution_count": 4,
   "id": "aging-caution",
   "metadata": {
    "execution": {
     "iopub.execute_input": "2021-10-29T01:58:53.639928Z",
     "iopub.status.busy": "2021-10-29T01:58:53.639265Z",
     "iopub.status.idle": "2021-10-29T01:58:53.645665Z",
     "shell.execute_reply": "2021-10-29T01:58:53.645175Z"
    },
    "papermill": {
     "duration": 0.018853,
     "end_time": "2021-10-29T01:58:53.645777",
     "exception": false,
     "start_time": "2021-10-29T01:58:53.626924",
     "status": "completed"
    },
    "tags": []
   },
   "outputs": [
    {
     "data": {
      "text/markdown": [
       "- Bitcoin Is The Peaceful Protest That Palestinians Need.  With Palestinians excluded from financial services and unable to achieve independence in the fiat system, the country needs Bitcoin. ... [| Skaityti daugiau](https://bitcoinmagazine.com/culture/bitcoin-is-the-peaceful-protest-that-palestinians-need) "
      ],
      "text/plain": [
       "<IPython.core.display.Markdown object>"
      ]
     },
     "execution_count": 4,
     "metadata": {},
     "output_type": "execute_result"
    }
   ],
   "source": [
    "#hide_input\n",
    "#md('##### {}'.format(titleBTC)) \n",
    "md(\"- {}{} {}{} [| Skaityti daugiau]({}) \".format(btc['title'],'. ', btc['body'], ' ...', btc['url']))"
   ]
  },
  {
   "cell_type": "code",
   "execution_count": 5,
   "id": "organic-actress",
   "metadata": {
    "execution": {
     "iopub.execute_input": "2021-10-29T01:58:53.674215Z",
     "iopub.status.busy": "2021-10-29T01:58:53.673529Z",
     "iopub.status.idle": "2021-10-29T01:58:53.677103Z",
     "shell.execute_reply": "2021-10-29T01:58:53.676569Z"
    },
    "papermill": {
     "duration": 0.01991,
     "end_time": "2021-10-29T01:58:53.677271",
     "exception": false,
     "start_time": "2021-10-29T01:58:53.657361",
     "status": "completed"
    },
    "tags": []
   },
   "outputs": [
    {
     "data": {
      "text/markdown": [
       "- What’s Next For XRP Price ? On-Chain Data has Some Good News For XRP HODLers.  The post What&#8217;s Next For XRP Price ? On-Chain Data has Some Good News For XRP HODLers appeared first on Coinpedia - Fintech &amp; Cryptocurreny News Media| Crypto GuideFor most coins, the start of Q4 has been extremely positive. Although the price of XRP was seen trading in the red in the last 24 hours, it has flipped its downward trend from the previous week. At the time of writing, XRP is trading at $1.06, up 4.17 percent in the last 24 hours &#8230; ... [| Skaityti daugiau](https://coinpedia.org/altcoin/whats-next-for-xrp-price-on-chain-data-has-some-good-news-for-xrp-hodlers/) "
      ],
      "text/plain": [
       "<IPython.core.display.Markdown object>"
      ]
     },
     "execution_count": 5,
     "metadata": {},
     "output_type": "execute_result"
    }
   ],
   "source": [
    "#hide_input\n",
    "#md('##### {}'.format(titleBTC)) \n",
    "md(\"- {}{} {}{} [| Skaityti daugiau]({}) \".format(xrp['title'],'. ', xrp['body'], ' ...', xrp['url']))"
   ]
  },
  {
   "cell_type": "code",
   "execution_count": 6,
   "id": "prompt-farmer",
   "metadata": {
    "execution": {
     "iopub.execute_input": "2021-10-29T01:58:53.708404Z",
     "iopub.status.busy": "2021-10-29T01:58:53.707695Z",
     "iopub.status.idle": "2021-10-29T01:58:53.711905Z",
     "shell.execute_reply": "2021-10-29T01:58:53.711250Z"
    },
    "papermill": {
     "duration": 0.021466,
     "end_time": "2021-10-29T01:58:53.712044",
     "exception": false,
     "start_time": "2021-10-29T01:58:53.690578",
     "status": "completed"
    },
    "tags": []
   },
   "outputs": [
    {
     "data": {
      "text/markdown": [
       "- Tron (TRX) Price Analysis: More Gains Possible Above $0.105.  Tron price is forming a base above the $0.1000 zone against the US Dollar. TRX price is now trading above $0.1000 and the 55 simple moving average (4-hours). There is a connecting bullish trend line forming with support near $0.0995 on the 4-hours chart (data feed via Bitfinex). The pair could start a major increase...The post Tron (TRX) Price Analysis: More Gains Possible Above $0.105 appeared first on Live Bitcoin News. ... [| Skaityti daugiau](https://www.livebitcoinnews.com/tron-trx-price-analysis-more-gains-possible-above-0-105/) "
      ],
      "text/plain": [
       "<IPython.core.display.Markdown object>"
      ]
     },
     "execution_count": 6,
     "metadata": {},
     "output_type": "execute_result"
    }
   ],
   "source": [
    "#hide_input\n",
    "#md('##### {}'.format(titleBTC)) \n",
    "md(\"- {}{} {}{} [| Skaityti daugiau]({}) \".format(trx['title'],'. ', trx['body'], ' ...', trx['url']))"
   ]
  },
  {
   "cell_type": "code",
   "execution_count": 7,
   "id": "illegal-greece",
   "metadata": {
    "execution": {
     "iopub.execute_input": "2021-10-29T01:58:53.743751Z",
     "iopub.status.busy": "2021-10-29T01:58:53.743090Z",
     "iopub.status.idle": "2021-10-29T01:58:53.746091Z",
     "shell.execute_reply": "2021-10-29T01:58:53.746639Z"
    },
    "papermill": {
     "duration": 0.021564,
     "end_time": "2021-10-29T01:58:53.746815",
     "exception": false,
     "start_time": "2021-10-29T01:58:53.725251",
     "status": "completed"
    },
    "tags": []
   },
   "outputs": [
    {
     "data": {
      "text/markdown": [
       "- Ethereum Altair Upgrade Quietly Goes Live—Unlike Previous Hard Forks.  The Altair upgrade to Ethereum is being viewed as a success, though developers are keeping watch to make sure no issues arise. ... [| Skaityti daugiau](https://decrypt.co/84750/ethereum-altair-upgrade-quietly-goes-live-unlike-previous-hard-forks) "
      ],
      "text/plain": [
       "<IPython.core.display.Markdown object>"
      ]
     },
     "execution_count": 7,
     "metadata": {},
     "output_type": "execute_result"
    }
   ],
   "source": [
    "#hide_input\n",
    "#md('##### {}'.format(titleBTC)) \n",
    "md(\"- {}{} {}{} [| Skaityti daugiau]({}) \".format(eth['title'],'. ', eth['body'], ' ...', eth['url']))"
   ]
  },
  {
   "cell_type": "code",
   "execution_count": 8,
   "id": "sublime-lounge",
   "metadata": {
    "execution": {
     "iopub.execute_input": "2021-10-29T01:58:53.781172Z",
     "iopub.status.busy": "2021-10-29T01:58:53.779796Z",
     "iopub.status.idle": "2021-10-29T01:58:53.784881Z",
     "shell.execute_reply": "2021-10-29T01:58:53.784315Z"
    },
    "papermill": {
     "duration": 0.023438,
     "end_time": "2021-10-29T01:58:53.785025",
     "exception": false,
     "start_time": "2021-10-29T01:58:53.761587",
     "status": "completed"
    },
    "tags": []
   },
   "outputs": [
    {
     "data": {
      "text/markdown": [
       "- Cardano Price On the Verge of Monstrous Rally? Here’s When.  The post Cardano Price On the Verge of Monstrous Rally? Here&#8217;s When appeared first on Coinpedia - Fintech &amp; Cryptocurreny News Media| Crypto GuideHighlights: Cardano price slips to bottom support of $2, the heavy correction could ignite a monstrous bull run.&#160;While the ADA price moved sideways, staked ADA has jumped to 72%. While the rest of the crypto space has been making their headway to new milestones, Cardano price remained inert in the past two months. The altcoin &#8230; ... [| Skaityti daugiau](https://coinpedia.org/altcoin/cardano-price-on-the-verge-of-monstrous-rally-heres-when/) "
      ],
      "text/plain": [
       "<IPython.core.display.Markdown object>"
      ]
     },
     "execution_count": 8,
     "metadata": {},
     "output_type": "execute_result"
    }
   ],
   "source": [
    "#hide_input\n",
    "#md('##### {}'.format(titleBTC)) \n",
    "md(\"- {}{} {}{} [| Skaityti daugiau]({}) \".format(ada['title'],'. ', ada['body'], ' ...', ada['url']))"
   ]
  },
  {
   "cell_type": "code",
   "execution_count": 9,
   "id": "specified-ordering",
   "metadata": {
    "execution": {
     "iopub.execute_input": "2021-10-29T01:58:53.820513Z",
     "iopub.status.busy": "2021-10-29T01:58:53.819802Z",
     "iopub.status.idle": "2021-10-29T01:58:53.824053Z",
     "shell.execute_reply": "2021-10-29T01:58:53.823415Z"
    },
    "papermill": {
     "duration": 0.02422,
     "end_time": "2021-10-29T01:58:53.824189",
     "exception": false,
     "start_time": "2021-10-29T01:58:53.799969",
     "status": "completed"
    },
    "tags": []
   },
   "outputs": [
    {
     "data": {
      "text/markdown": [
       "- Meme coin mania triggers triple-digit gains from Binance Smart Chain-based altcoins.  HOGE, ASS and TABOO are three Binance Smart Chain-based projects that have seen triple-digit rallies after traders rotation into meme coins. ... [| Skaityti daugiau](https://cointelegraph.com/news/meme-coin-mania-triggers-triple-digit-gains-from-binance-smart-chain-based-altcoins) "
      ],
      "text/plain": [
       "<IPython.core.display.Markdown object>"
      ]
     },
     "execution_count": 9,
     "metadata": {},
     "output_type": "execute_result"
    }
   ],
   "source": [
    "#hide_input\n",
    "#md('##### {}'.format(titleBTC)) \n",
    "md(\"- {}{} {}{} [| Skaityti daugiau]({}) \".format(exchange['title'],'. ', exchange['body'], ' ...', exchange['url']))"
   ]
  },
  {
   "cell_type": "code",
   "execution_count": null,
   "id": "tender-livestock",
   "metadata": {
    "papermill": {
     "duration": 0.013629,
     "end_time": "2021-10-29T01:58:53.852955",
     "exception": false,
     "start_time": "2021-10-29T01:58:53.839326",
     "status": "completed"
    },
    "tags": []
   },
   "outputs": [],
   "source": []
  },
  {
   "cell_type": "code",
   "execution_count": null,
   "id": "appreciated-diamond",
   "metadata": {
    "papermill": {
     "duration": 0.013688,
     "end_time": "2021-10-29T01:58:53.880308",
     "exception": false,
     "start_time": "2021-10-29T01:58:53.866620",
     "status": "completed"
    },
    "tags": []
   },
   "outputs": [],
   "source": []
  },
  {
   "cell_type": "code",
   "execution_count": null,
   "id": "romance-sweden",
   "metadata": {
    "papermill": {
     "duration": 0.012631,
     "end_time": "2021-10-29T01:58:53.906023",
     "exception": false,
     "start_time": "2021-10-29T01:58:53.893392",
     "status": "completed"
    },
    "tags": []
   },
   "outputs": [],
   "source": []
  },
  {
   "cell_type": "code",
   "execution_count": null,
   "id": "dietary-statistics",
   "metadata": {
    "papermill": {
     "duration": 0.012601,
     "end_time": "2021-10-29T01:58:53.931830",
     "exception": false,
     "start_time": "2021-10-29T01:58:53.919229",
     "status": "completed"
    },
    "tags": []
   },
   "outputs": [],
   "source": []
  }
 ],
 "metadata": {
  "kernelspec": {
   "display_name": "Python 3",
   "language": "python",
   "name": "python3"
  },
  "language_info": {
   "codemirror_mode": {
    "name": "ipython",
    "version": 3
   },
   "file_extension": ".py",
   "mimetype": "text/x-python",
   "name": "python",
   "nbconvert_exporter": "python",
   "pygments_lexer": "ipython3",
   "version": "3.6.15"
  },
  "papermill": {
   "default_parameters": {},
   "duration": 12.092133,
   "end_time": "2021-10-29T01:58:54.454496",
   "environment_variables": {},
   "exception": null,
   "input_path": "Market-News.ipynb",
   "output_path": "Market-News.ipynb",
   "parameters": {},
   "start_time": "2021-10-29T01:58:42.362363",
   "version": "2.2.2"
  }
 },
 "nbformat": 4,
 "nbformat_minor": 5
}