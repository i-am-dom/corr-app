{
 "cells": [
  {
   "cell_type": "markdown",
   "id": "short-greensboro",
   "metadata": {
    "papermill": {
     "duration": 0.012881,
     "end_time": "2022-09-14T03:42:30.011230",
     "exception": false,
     "start_time": "2022-09-14T03:42:29.998349",
     "status": "completed"
    },
    "tags": []
   },
   "source": [
    "# Kriptovaliutų naujienos"
   ]
  },
  {
   "cell_type": "code",
   "execution_count": 1,
   "id": "functioning-knowing",
   "metadata": {
    "execution": {
     "iopub.execute_input": "2022-09-14T03:42:30.039585Z",
     "iopub.status.busy": "2022-09-14T03:42:30.039025Z",
     "iopub.status.idle": "2022-09-14T03:42:31.167462Z",
     "shell.execute_reply": "2022-09-14T03:42:31.166959Z"
    },
    "papermill": {
     "duration": 1.146505,
     "end_time": "2022-09-14T03:42:31.167581",
     "exception": false,
     "start_time": "2022-09-14T03:42:30.021076",
     "status": "completed"
    },
    "tags": []
   },
   "outputs": [],
   "source": [
    "#hide_input\n",
    "import warnings\n",
    "warnings.filterwarnings('ignore')\n",
    "from scripts.read_data import read_api\n",
    "from scripts.read_data import read_news\n",
    "from scripts.read_data import read_covid\n",
    "import matplotlib.pyplot as plt \n",
    "from IPython.display import Markdown as md"
   ]
  },
  {
   "cell_type": "code",
   "execution_count": 2,
   "id": "shared-acceptance",
   "metadata": {
    "execution": {
     "iopub.execute_input": "2022-09-14T03:42:31.191878Z",
     "iopub.status.busy": "2022-09-14T03:42:31.191311Z",
     "iopub.status.idle": "2022-09-14T03:42:42.223516Z",
     "shell.execute_reply": "2022-09-14T03:42:42.223041Z"
    },
    "papermill": {
     "duration": 11.046627,
     "end_time": "2022-09-14T03:42:42.223629",
     "exception": false,
     "start_time": "2022-09-14T03:42:31.177002",
     "status": "completed"
    },
    "tags": []
   },
   "outputs": [],
   "source": [
    "#hide_input\n",
    "blockchain = read_news('blockchain') \n",
    "btc = read_news('btc') \n",
    "xrp = read_news('xrp') \n",
    "trx = read_news('trx') \n",
    "eth = read_news('eth')  \n",
    "ada = read_news('ada')\n",
    "exchange = read_news('exchange') "
   ]
  },
  {
   "cell_type": "code",
   "execution_count": 3,
   "id": "synthetic-notion",
   "metadata": {
    "execution": {
     "iopub.execute_input": "2022-09-14T03:42:42.247975Z",
     "iopub.status.busy": "2022-09-14T03:42:42.247421Z",
     "iopub.status.idle": "2022-09-14T03:42:42.250410Z",
     "shell.execute_reply": "2022-09-14T03:42:42.249962Z"
    },
    "papermill": {
     "duration": 0.017478,
     "end_time": "2022-09-14T03:42:42.250504",
     "exception": false,
     "start_time": "2022-09-14T03:42:42.233026",
     "status": "completed"
    },
    "tags": []
   },
   "outputs": [
    {
     "data": {
      "text/markdown": [
       "- $491B asset manager KKR’s health care fund tokenized on Avalanche.  To access the fund on the Securitize protocol, investors need to submit their passport, fill out personal and tax information and complete a \"liveness check.\" ... [| Skaityti daugiau](https://cointelegraph.com/news/491b-asset-manager-kkr-s-health-care-fund-tokenized-on-avalanche) "
      ],
      "text/plain": [
       "<IPython.core.display.Markdown object>"
      ]
     },
     "execution_count": 3,
     "metadata": {},
     "output_type": "execute_result"
    }
   ],
   "source": [
    "#hide_input\n",
    "#md('##### {}'.format(titleBTC)) \n",
    "md(\"- {}{} {}{} [| Skaityti daugiau]({}) \".format(blockchain['title'],'. ', blockchain['body'], ' ...', blockchain['url']))"
   ]
  },
  {
   "cell_type": "code",
   "execution_count": 4,
   "id": "aging-caution",
   "metadata": {
    "execution": {
     "iopub.execute_input": "2022-09-14T03:42:42.273756Z",
     "iopub.status.busy": "2022-09-14T03:42:42.273165Z",
     "iopub.status.idle": "2022-09-14T03:42:42.276163Z",
     "shell.execute_reply": "2022-09-14T03:42:42.275720Z"
    },
    "papermill": {
     "duration": 0.016363,
     "end_time": "2022-09-14T03:42:42.276256",
     "exception": false,
     "start_time": "2022-09-14T03:42:42.259893",
     "status": "completed"
    },
    "tags": []
   },
   "outputs": [
    {
     "data": {
      "text/markdown": [
       "- JP Morgan Dives Deep In Metaverse, Hires A Specialist.  The crypto industry has continued winning the hearts of top shots in the financial sector; especially the Metaverse is attracting more key players . Many worlds central banks now research CBDC and how to implement it. Also, leading institutions in the industry have embraced cryptocurrencies one way or the other. For instance, JP Morgan Chase [&#8230;] ... [| Skaityti daugiau](https://bitcoinist.com/jp-morgan-dives-deep-in-metaverse-hires-specialist/) "
      ],
      "text/plain": [
       "<IPython.core.display.Markdown object>"
      ]
     },
     "execution_count": 4,
     "metadata": {},
     "output_type": "execute_result"
    }
   ],
   "source": [
    "#hide_input\n",
    "#md('##### {}'.format(titleBTC)) \n",
    "md(\"- {}{} {}{} [| Skaityti daugiau]({}) \".format(btc['title'],'. ', btc['body'], ' ...', btc['url']))"
   ]
  },
  {
   "cell_type": "code",
   "execution_count": 5,
   "id": "organic-actress",
   "metadata": {
    "execution": {
     "iopub.execute_input": "2022-09-14T03:42:42.299194Z",
     "iopub.status.busy": "2022-09-14T03:42:42.298439Z",
     "iopub.status.idle": "2022-09-14T03:42:42.302441Z",
     "shell.execute_reply": "2022-09-14T03:42:42.302022Z"
    },
    "papermill": {
     "duration": 0.016514,
     "end_time": "2022-09-14T03:42:42.302538",
     "exception": false,
     "start_time": "2022-09-14T03:42:42.286024",
     "status": "completed"
    },
    "tags": []
   },
   "outputs": [
    {
     "data": {
      "text/markdown": [
       "- Ripple (XRP) Fails To Hit Double-digit Gain, What Could Be Wrong?.  Ripple (XRP) has had a tough time producing double-digit gains against tether (USDT) as prices continue to range with little or no movement in recent times. The crypto market in its early days saw prices of altcoins surge as most coins rallied with considerable price gains, but that can not be said of Ripple (XRP). (Data from Binance) Related Reading: Chainlink Integrates New Tech, And It’s Going Green – Healthy For LINK? Ripple (XRP) Price Analysis On The Weekly Chart The price of XRP has had a tough time maintaining the bullish momentum it has shown in recent months as the price was rejected from the $1.9 area acting supply zone for most sellers. XRP has since struggled to discover the bullish momentum it experienced, despite being a fundamentally strong coin with the growing sentiment on its movement. Still, XRP has found a price ranging from $0.3 to $0.38. The price of XRP on the weekly chart needs to break out of the range channel it has formed for its price to have a real chance of trending higher. The upper band of the channel at $0.38 continues to act as a resistance to the XRP price preventing a major movement to the upside of the chart. XRP’s price needs to break above this region for its price to trend higher to $0.42 and possibly $0.55. The price of XRP must break and hold above this range channel for a better chance to trade higher. If the price of XRP breaks out with good volume, we could see the price going high... ... [| Skaityti daugiau](https://www.newsbtc.com/analysis/ripple-xrp-fails-to-hit-double-digit-gain-what-could-be-wrong/) "
      ],
      "text/plain": [
       "<IPython.core.display.Markdown object>"
      ]
     },
     "execution_count": 5,
     "metadata": {},
     "output_type": "execute_result"
    }
   ],
   "source": [
    "#hide_input\n",
    "#md('##### {}'.format(titleBTC)) \n",
    "md(\"- {}{} {}{} [| Skaityti daugiau]({}) \".format(xrp['title'],'. ', xrp['body'], ' ...', xrp['url']))"
   ]
  },
  {
   "cell_type": "code",
   "execution_count": 6,
   "id": "prompt-farmer",
   "metadata": {
    "execution": {
     "iopub.execute_input": "2022-09-14T03:42:42.326492Z",
     "iopub.status.busy": "2022-09-14T03:42:42.325736Z",
     "iopub.status.idle": "2022-09-14T03:42:42.329323Z",
     "shell.execute_reply": "2022-09-14T03:42:42.329765Z"
    },
    "papermill": {
     "duration": 0.016991,
     "end_time": "2022-09-14T03:42:42.329873",
     "exception": false,
     "start_time": "2022-09-14T03:42:42.312882",
     "status": "completed"
    },
    "tags": []
   },
   "outputs": [
    {
     "data": {
      "text/markdown": [
       "- Tron traders should consider these metrics before taking any decision.  It is no longer news that the last seven days have been marked by double-digit gains exceeding 20% from assets like LUNA, LUNC, HNT, and ATOM. However, the high-ranking TRX coin failed to log a similar price rally. According to data from CoinMarketCap, the price per TRX saw no growth in the last week. Tron [&#8230;] ... [| Skaityti daugiau](https://ambcrypto.com/tron-trx-traders-should-consider-this-metric-before-taking-any-decision/) "
      ],
      "text/plain": [
       "<IPython.core.display.Markdown object>"
      ]
     },
     "execution_count": 6,
     "metadata": {},
     "output_type": "execute_result"
    }
   ],
   "source": [
    "#hide_input\n",
    "#md('##### {}'.format(titleBTC)) \n",
    "md(\"- {}{} {}{} [| Skaityti daugiau]({}) \".format(trx['title'],'. ', trx['body'], ' ...', trx['url']))"
   ]
  },
  {
   "cell_type": "code",
   "execution_count": 7,
   "id": "illegal-greece",
   "metadata": {
    "execution": {
     "iopub.execute_input": "2022-09-14T03:42:42.354334Z",
     "iopub.status.busy": "2022-09-14T03:42:42.353596Z",
     "iopub.status.idle": "2022-09-14T03:42:42.357163Z",
     "shell.execute_reply": "2022-09-14T03:42:42.357643Z"
    },
    "papermill": {
     "duration": 0.017377,
     "end_time": "2022-09-14T03:42:42.357772",
     "exception": false,
     "start_time": "2022-09-14T03:42:42.340395",
     "status": "completed"
    },
    "tags": []
   },
   "outputs": [
    {
     "data": {
      "text/markdown": [
       "- Bitcoin, Ethereum, VeChain, and ApeCoin Daily Price Analyses – 13 September Roundup.  The global crypto market has seen an overall trend of losses due to a bearish pattern. The latest changes show that the market hasn&#8217;t been able to turn bullish. The result of the continuation of bearishness has been a decline for most coins. The value of Bitcoin, Ethereum, and others has a continuation of loss. &#8230;  Bitcoin, Ethereum, VeChain, and ApeCoin Daily Price Analyses – 13 September Roundup Read More &#187; ... [| Skaityti daugiau](https://www.cryptopolitan.com/bitcoin-ethereum-vechain-and-apecoin-daily-price-analyses-13-september-roundup/) "
      ],
      "text/plain": [
       "<IPython.core.display.Markdown object>"
      ]
     },
     "execution_count": 7,
     "metadata": {},
     "output_type": "execute_result"
    }
   ],
   "source": [
    "#hide_input\n",
    "#md('##### {}'.format(titleBTC)) \n",
    "md(\"- {}{} {}{} [| Skaityti daugiau]({}) \".format(eth['title'],'. ', eth['body'], ' ...', eth['url']))"
   ]
  },
  {
   "cell_type": "code",
   "execution_count": 8,
   "id": "sublime-lounge",
   "metadata": {
    "execution": {
     "iopub.execute_input": "2022-09-14T03:42:42.384587Z",
     "iopub.status.busy": "2022-09-14T03:42:42.384048Z",
     "iopub.status.idle": "2022-09-14T03:42:42.387456Z",
     "shell.execute_reply": "2022-09-14T03:42:42.387010Z"
    },
    "papermill": {
     "duration": 0.017652,
     "end_time": "2022-09-14T03:42:42.387551",
     "exception": false,
     "start_time": "2022-09-14T03:42:42.369899",
     "status": "completed"
    },
    "tags": []
   },
   "outputs": [
    {
     "data": {
      "text/markdown": [
       "- Bitcoin Hash Rate Skyrockets Amid 55% Hike In 2 Months.  With the swings in the crypto market, Bitcoin has been at different unexpected levels this year. The crypto winter in the year&#8217;s first half gave the leading crypto asset a blow off its balance. As a result, BTC&#8217;s price fell to over half its value as of November 2021. But despite the price fluctuation, the Bitcoin hash rate moved upward since its drop in mid-July. In a recent report, the BTC hash rate has hit a new all-time high (ATH). This new position came following the last increase in the mining difficulty. Related Reading: Here’s Where Investors Expect Cardano (ADA) Price To Be At The End Of September The significance of the hash rate metric for the Bitcoin blockchain is that it provides information on the strength of the network based on the BTC mining process. In addition, it correlates the number of active miners and their computational mining equipment working on the network. Many people create a link between the price of a cryptocurrency and its hash rate for future moves. But there could be twists in some cases, as seen in the past few weeks for Bitcoin. Hash Rate Gets Higher Amid Price Struggle The price of BTC has been in a battle over the past few months. It could barely sustain its position around the $20K region in July. However, the Bitcoin hash rate has been at higher levels in the weeks that the price was struggling. Usually, during the summer months, the regulatory authorities in several countrie... ... [| Skaityti daugiau](https://www.newsbtc.com/news/bitcoin/bitcoin-hash-rate-skyrockets-amid-55-hike-in-2-months/) "
      ],
      "text/plain": [
       "<IPython.core.display.Markdown object>"
      ]
     },
     "execution_count": 8,
     "metadata": {},
     "output_type": "execute_result"
    }
   ],
   "source": [
    "#hide_input\n",
    "#md('##### {}'.format(titleBTC)) \n",
    "md(\"- {}{} {}{} [| Skaityti daugiau]({}) \".format(ada['title'],'. ', ada['body'], ' ...', ada['url']))"
   ]
  },
  {
   "cell_type": "code",
   "execution_count": 9,
   "id": "specified-ordering",
   "metadata": {
    "execution": {
     "iopub.execute_input": "2022-09-14T03:42:42.413828Z",
     "iopub.status.busy": "2022-09-14T03:42:42.413257Z",
     "iopub.status.idle": "2022-09-14T03:42:42.415949Z",
     "shell.execute_reply": "2022-09-14T03:42:42.416373Z"
    },
    "papermill": {
     "duration": 0.017905,
     "end_time": "2022-09-14T03:42:42.416479",
     "exception": false,
     "start_time": "2022-09-14T03:42:42.398574",
     "status": "completed"
    },
    "tags": []
   },
   "outputs": [
    {
     "data": {
      "text/markdown": [
       "- India’s Tough Crypto Tax Rules Is Helping Binance A Lot, Here’s How.  India&#8217;s crackdown on the cryptocurrency market over the last year is helping foreign exchanges at the cost of local exchanges. As per the latest reports, crypto exchange Binance is expanding its footprint in the Indian market. This happens as Indian crypto traders flee to foreign exchanges to avoid the hefty 1% TDS on crypto transactions. The post India&#8217;s Tough Crypto Tax Rules Is Helping Binance A Lot, Here&#8217;s How appeared first on CoinGape. ... [| Skaityti daugiau](https://coingape.com/indias-tough-crypto-tax-rules-is-helping-binance-a-lot-heres-how/) "
      ],
      "text/plain": [
       "<IPython.core.display.Markdown object>"
      ]
     },
     "execution_count": 9,
     "metadata": {},
     "output_type": "execute_result"
    }
   ],
   "source": [
    "#hide_input\n",
    "#md('##### {}'.format(titleBTC)) \n",
    "md(\"- {}{} {}{} [| Skaityti daugiau]({}) \".format(exchange['title'],'. ', exchange['body'], ' ...', exchange['url']))"
   ]
  },
  {
   "cell_type": "code",
   "execution_count": null,
   "id": "tender-livestock",
   "metadata": {
    "papermill": {
     "duration": 0.011413,
     "end_time": "2022-09-14T03:42:42.439226",
     "exception": false,
     "start_time": "2022-09-14T03:42:42.427813",
     "status": "completed"
    },
    "tags": []
   },
   "outputs": [],
   "source": []
  },
  {
   "cell_type": "code",
   "execution_count": null,
   "id": "appreciated-diamond",
   "metadata": {
    "papermill": {
     "duration": 0.011353,
     "end_time": "2022-09-14T03:42:42.462082",
     "exception": false,
     "start_time": "2022-09-14T03:42:42.450729",
     "status": "completed"
    },
    "tags": []
   },
   "outputs": [],
   "source": []
  },
  {
   "cell_type": "code",
   "execution_count": null,
   "id": "romance-sweden",
   "metadata": {
    "papermill": {
     "duration": 0.011303,
     "end_time": "2022-09-14T03:42:42.484736",
     "exception": false,
     "start_time": "2022-09-14T03:42:42.473433",
     "status": "completed"
    },
    "tags": []
   },
   "outputs": [],
   "source": []
  },
  {
   "cell_type": "code",
   "execution_count": null,
   "id": "dietary-statistics",
   "metadata": {
    "papermill": {
     "duration": 0.011341,
     "end_time": "2022-09-14T03:42:42.507514",
     "exception": false,
     "start_time": "2022-09-14T03:42:42.496173",
     "status": "completed"
    },
    "tags": []
   },
   "outputs": [],
   "source": []
  }
 ],
 "metadata": {
  "kernelspec": {
   "display_name": "Python 3",
   "language": "python",
   "name": "python3"
  },
  "language_info": {
   "codemirror_mode": {
    "name": "ipython",
    "version": 3
   },
   "file_extension": ".py",
   "mimetype": "text/x-python",
   "name": "python",
   "nbconvert_exporter": "python",
   "pygments_lexer": "ipython3",
   "version": "3.6.15"
  },
  "papermill": {
   "default_parameters": {},
   "duration": 13.736903,
   "end_time": "2022-09-14T03:42:42.836549",
   "environment_variables": {},
   "exception": null,
   "input_path": "Market-News.ipynb",
   "output_path": "Market-News.ipynb",
   "parameters": {},
   "start_time": "2022-09-14T03:42:29.099646",
   "version": "2.2.2"
  }
 },
 "nbformat": 4,
 "nbformat_minor": 5
}