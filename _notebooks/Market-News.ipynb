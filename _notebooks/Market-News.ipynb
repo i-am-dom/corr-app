{
 "cells": [
  {
   "cell_type": "markdown",
   "id": "short-greensboro",
   "metadata": {
    "papermill": {
     "duration": 0.016448,
     "end_time": "2022-10-08T03:06:16.756467",
     "exception": false,
     "start_time": "2022-10-08T03:06:16.740019",
     "status": "completed"
    },
    "tags": []
   },
   "source": [
    "# Kriptovaliutų naujienos"
   ]
  },
  {
   "cell_type": "code",
   "execution_count": 1,
   "id": "functioning-knowing",
   "metadata": {
    "execution": {
     "iopub.execute_input": "2022-10-08T03:06:16.793937Z",
     "iopub.status.busy": "2022-10-08T03:06:16.793095Z",
     "iopub.status.idle": "2022-10-08T03:06:18.260652Z",
     "shell.execute_reply": "2022-10-08T03:06:18.260119Z"
    },
    "papermill": {
     "duration": 1.491951,
     "end_time": "2022-10-08T03:06:18.260798",
     "exception": false,
     "start_time": "2022-10-08T03:06:16.768847",
     "status": "completed"
    },
    "tags": []
   },
   "outputs": [],
   "source": [
    "#hide_input\n",
    "import warnings\n",
    "warnings.filterwarnings('ignore')\n",
    "from scripts.read_data import read_api\n",
    "from scripts.read_data import read_news\n",
    "from scripts.read_data import read_covid\n",
    "import matplotlib.pyplot as plt \n",
    "from IPython.display import Markdown as md"
   ]
  },
  {
   "cell_type": "code",
   "execution_count": 2,
   "id": "shared-acceptance",
   "metadata": {
    "execution": {
     "iopub.execute_input": "2022-10-08T03:06:18.290886Z",
     "iopub.status.busy": "2022-10-08T03:06:18.289819Z",
     "iopub.status.idle": "2022-10-08T03:06:30.425852Z",
     "shell.execute_reply": "2022-10-08T03:06:30.426420Z"
    },
    "papermill": {
     "duration": 12.155669,
     "end_time": "2022-10-08T03:06:30.426589",
     "exception": false,
     "start_time": "2022-10-08T03:06:18.270920",
     "status": "completed"
    },
    "tags": []
   },
   "outputs": [],
   "source": [
    "#hide_input\n",
    "blockchain = read_news('blockchain') \n",
    "btc = read_news('btc') \n",
    "xrp = read_news('xrp') \n",
    "trx = read_news('trx') \n",
    "eth = read_news('eth')  \n",
    "ada = read_news('ada')\n",
    "exchange = read_news('exchange') "
   ]
  },
  {
   "cell_type": "code",
   "execution_count": 3,
   "id": "synthetic-notion",
   "metadata": {
    "execution": {
     "iopub.execute_input": "2022-10-08T03:06:30.460113Z",
     "iopub.status.busy": "2022-10-08T03:06:30.458335Z",
     "iopub.status.idle": "2022-10-08T03:06:30.462962Z",
     "shell.execute_reply": "2022-10-08T03:06:30.462375Z"
    },
    "papermill": {
     "duration": 0.024791,
     "end_time": "2022-10-08T03:06:30.463091",
     "exception": false,
     "start_time": "2022-10-08T03:06:30.438300",
     "status": "completed"
    },
    "tags": []
   },
   "outputs": [
    {
     "data": {
      "text/markdown": [
       "- Cardano’s [ADA] TVL slumps to an all-year low, but here’s the catch.  Despite the success of the Vasil hard fork, Cardano [ADA] seemed to have lost its midas touch as its Total Value Locked [TVL] hit the lowest 2022 value. According to DeFi Llama, the largest TVL aggregator, Cardano’s TVL was $76.26 million at press time. This value was the lowest the Proof-of-Stake (PoS) blockchain had reached [&#8230;] ... [| Skaityti daugiau](https://ambcrypto.com/cardanos-tvl-slumps-to-all-year-low-but-heres-the-catch/) "
      ],
      "text/plain": [
       "<IPython.core.display.Markdown object>"
      ]
     },
     "execution_count": 3,
     "metadata": {},
     "output_type": "execute_result"
    }
   ],
   "source": [
    "#hide_input\n",
    "#md('##### {}'.format(titleBTC)) \n",
    "md(\"- {}{} {}{} [| Skaityti daugiau]({}) \".format(blockchain['title'],'. ', blockchain['body'], ' ...', blockchain['url']))"
   ]
  },
  {
   "cell_type": "code",
   "execution_count": 4,
   "id": "aging-caution",
   "metadata": {
    "execution": {
     "iopub.execute_input": "2022-10-08T03:06:30.495221Z",
     "iopub.status.busy": "2022-10-08T03:06:30.494461Z",
     "iopub.status.idle": "2022-10-08T03:06:30.499933Z",
     "shell.execute_reply": "2022-10-08T03:06:30.499194Z"
    },
    "papermill": {
     "duration": 0.024711,
     "end_time": "2022-10-08T03:06:30.500073",
     "exception": false,
     "start_time": "2022-10-08T03:06:30.475362",
     "status": "completed"
    },
    "tags": []
   },
   "outputs": [
    {
     "data": {
      "text/markdown": [
       "- Bitcoin Hash Rate Is Exploding Higher. What Are The Implications For Mining Equities?.  Bitcoin’s hash rate has endured a series of significant price drawdowns only to emerge stronger than ever. We look at potential implications for bitcoin miners. ... [| Skaityti daugiau](https://bitcoinmagazine.com/business/bitcoin-hash-rate-increases-implications-for-equities) "
      ],
      "text/plain": [
       "<IPython.core.display.Markdown object>"
      ]
     },
     "execution_count": 4,
     "metadata": {},
     "output_type": "execute_result"
    }
   ],
   "source": [
    "#hide_input\n",
    "#md('##### {}'.format(titleBTC)) \n",
    "md(\"- {}{} {}{} [| Skaityti daugiau]({}) \".format(btc['title'],'. ', btc['body'], ' ...', btc['url']))"
   ]
  },
  {
   "cell_type": "code",
   "execution_count": 5,
   "id": "organic-actress",
   "metadata": {
    "execution": {
     "iopub.execute_input": "2022-10-08T03:06:30.531414Z",
     "iopub.status.busy": "2022-10-08T03:06:30.530619Z",
     "iopub.status.idle": "2022-10-08T03:06:30.537954Z",
     "shell.execute_reply": "2022-10-08T03:06:30.537291Z"
    },
    "papermill": {
     "duration": 0.026735,
     "end_time": "2022-10-08T03:06:30.538116",
     "exception": false,
     "start_time": "2022-10-08T03:06:30.511381",
     "status": "completed"
    },
    "tags": []
   },
   "outputs": [
    {
     "data": {
      "text/markdown": [
       "- XRP Records Highest Network Growth for First Time in Three Months.  2,273 new wallets created as XRP Ledger blockchain records the highest day of network growth since July amid a 5% surge in the price of XRP per data from Santiment ... [| Skaityti daugiau](https://u.today/xrp-records-highest-network-growth-for-first-time-in-three-months) "
      ],
      "text/plain": [
       "<IPython.core.display.Markdown object>"
      ]
     },
     "execution_count": 5,
     "metadata": {},
     "output_type": "execute_result"
    }
   ],
   "source": [
    "#hide_input\n",
    "#md('##### {}'.format(titleBTC)) \n",
    "md(\"- {}{} {}{} [| Skaityti daugiau]({}) \".format(xrp['title'],'. ', xrp['body'], ' ...', xrp['url']))"
   ]
  },
  {
   "cell_type": "code",
   "execution_count": 6,
   "id": "prompt-farmer",
   "metadata": {
    "execution": {
     "iopub.execute_input": "2022-10-08T03:06:30.570299Z",
     "iopub.status.busy": "2022-10-08T03:06:30.569573Z",
     "iopub.status.idle": "2022-10-08T03:06:30.572747Z",
     "shell.execute_reply": "2022-10-08T03:06:30.572099Z"
    },
    "papermill": {
     "duration": 0.021302,
     "end_time": "2022-10-08T03:06:30.572859",
     "exception": false,
     "start_time": "2022-10-08T03:06:30.551557",
     "status": "completed"
    },
    "tags": []
   },
   "outputs": [
    {
     "data": {
      "text/markdown": [
       "- Crypto Traders Turning Against Cardano, Tron and One Ethereum Rival, Says Santiment – But There’s a Catch.  Crypto analytics platform Santiment is warning that three crypto assets are witnessing negative bias amid their poor price performance year-to-date. Santiment says that traders are beginning to “turn on” smart contract-enabled blockchains Cardano (ADA), Tron (TRX) and EOS (EOS). According to the crypto analytics platform, such negative bias is historically a sign that the bottom [&#8230;]The post Crypto Traders Turning Against Cardano, Tron and One Ethereum Rival, Says Santiment – But There’s a Catch appeared first on The Daily Hodl. ... [| Skaityti daugiau](https://dailyhodl.com/2022/10/07/crypto-traders-turning-against-cardano-tron-and-one-ethereum-rival-says-santiment-but-theres-a-catch/) "
      ],
      "text/plain": [
       "<IPython.core.display.Markdown object>"
      ]
     },
     "execution_count": 6,
     "metadata": {},
     "output_type": "execute_result"
    }
   ],
   "source": [
    "#hide_input\n",
    "#md('##### {}'.format(titleBTC)) \n",
    "md(\"- {}{} {}{} [| Skaityti daugiau]({}) \".format(trx['title'],'. ', trx['body'], ' ...', trx['url']))"
   ]
  },
  {
   "cell_type": "code",
   "execution_count": 7,
   "id": "illegal-greece",
   "metadata": {
    "execution": {
     "iopub.execute_input": "2022-10-08T03:06:30.604422Z",
     "iopub.status.busy": "2022-10-08T03:06:30.603757Z",
     "iopub.status.idle": "2022-10-08T03:06:30.609671Z",
     "shell.execute_reply": "2022-10-08T03:06:30.610318Z"
    },
    "papermill": {
     "duration": 0.024251,
     "end_time": "2022-10-08T03:06:30.610470",
     "exception": false,
     "start_time": "2022-10-08T03:06:30.586219",
     "status": "completed"
    },
    "tags": []
   },
   "outputs": [
    {
     "data": {
      "text/markdown": [
       "- Bitcoin, Ethereum, eCash, and Huobi Token Daily Price Analyses – 7 October Roundup.  The performance of the global crypto market has continued to show a negative trend. The decline in the value of Bitcoin, Binance Coin, and others has continued. The regression for these coins and others has been a downward pressure. Various coins couldn&#8217;t retain value because the market has faced continued bearishness. As the negative trend &#8230;  Bitcoin, Ethereum, eCash, and Huobi Token Daily Price Analyses – 7 October Roundup Read More &#187; ... [| Skaityti daugiau](https://www.cryptopolitan.com/bitcoin-ethereum-ecash-and-huobi-token-daily-price-analyses-7-october-roundup/) "
      ],
      "text/plain": [
       "<IPython.core.display.Markdown object>"
      ]
     },
     "execution_count": 7,
     "metadata": {},
     "output_type": "execute_result"
    }
   ],
   "source": [
    "#hide_input\n",
    "#md('##### {}'.format(titleBTC)) \n",
    "md(\"- {}{} {}{} [| Skaityti daugiau]({}) \".format(eth['title'],'. ', eth['body'], ' ...', eth['url']))"
   ]
  },
  {
   "cell_type": "code",
   "execution_count": 8,
   "id": "sublime-lounge",
   "metadata": {
    "execution": {
     "iopub.execute_input": "2022-10-08T03:06:30.643766Z",
     "iopub.status.busy": "2022-10-08T03:06:30.642556Z",
     "iopub.status.idle": "2022-10-08T03:06:30.646903Z",
     "shell.execute_reply": "2022-10-08T03:06:30.646179Z"
    },
    "papermill": {
     "duration": 0.022986,
     "end_time": "2022-10-08T03:06:30.647051",
     "exception": false,
     "start_time": "2022-10-08T03:06:30.624065",
     "status": "completed"
    },
    "tags": []
   },
   "outputs": [
    {
     "data": {
      "text/markdown": [
       "- Cardano’s [ADA] TVL slumps to an all-year low, but here’s the catch.  Despite the success of the Vasil hard fork, Cardano [ADA] seemed to have lost its midas touch as its Total Value Locked [TVL] hit the lowest 2022 value. According to DeFi Llama, the largest TVL aggregator, Cardano’s TVL was $76.26 million at press time. This value was the lowest the Proof-of-Stake (PoS) blockchain had reached [&#8230;] ... [| Skaityti daugiau](https://ambcrypto.com/cardanos-tvl-slumps-to-all-year-low-but-heres-the-catch/) "
      ],
      "text/plain": [
       "<IPython.core.display.Markdown object>"
      ]
     },
     "execution_count": 8,
     "metadata": {},
     "output_type": "execute_result"
    }
   ],
   "source": [
    "#hide_input\n",
    "#md('##### {}'.format(titleBTC)) \n",
    "md(\"- {}{} {}{} [| Skaityti daugiau]({}) \".format(ada['title'],'. ', ada['body'], ' ...', ada['url']))"
   ]
  },
  {
   "cell_type": "code",
   "execution_count": 9,
   "id": "specified-ordering",
   "metadata": {
    "execution": {
     "iopub.execute_input": "2022-10-08T03:06:30.680210Z",
     "iopub.status.busy": "2022-10-08T03:06:30.679512Z",
     "iopub.status.idle": "2022-10-08T03:06:30.686275Z",
     "shell.execute_reply": "2022-10-08T03:06:30.685678Z"
    },
    "papermill": {
     "duration": 0.026086,
     "end_time": "2022-10-08T03:06:30.686433",
     "exception": false,
     "start_time": "2022-10-08T03:06:30.660347",
     "status": "completed"
    },
    "tags": []
   },
   "outputs": [
    {
     "data": {
      "text/markdown": [
       "- Cryptocurrency Bearish Correction Sees BTC Drop Below $20K Today Following the Binance Bridge Exploit, ETH Holds Over $1,300.  This Friday, cryptocurrency markets are exhibiting a modest negative correction as the market valuation fell by $20 billion from $960 billion yesterday to $946 billion. While Bitcoin fell below $20k today, Ethereum managed to keep support around the $1,300 mark despite the substantially lower trading volume. Let&#8217;s examine recent financial, Bitcoin, and Ethereum news that [&#8230;]The post Cryptocurrency Bearish Correction Sees BTC Drop Below $20K Today Following the Binance Bridge Exploit, ETH Holds Over $1,300 appeared first on NullTX. ... [| Skaityti daugiau](https://nulltx.com/cryptocurrency-bearish-correction-sees-btc-drop-below-20k-today-following-the-binance-bridge-exploit-eth-holds-over-1300/) "
      ],
      "text/plain": [
       "<IPython.core.display.Markdown object>"
      ]
     },
     "execution_count": 9,
     "metadata": {},
     "output_type": "execute_result"
    }
   ],
   "source": [
    "#hide_input\n",
    "#md('##### {}'.format(titleBTC)) \n",
    "md(\"- {}{} {}{} [| Skaityti daugiau]({}) \".format(exchange['title'],'. ', exchange['body'], ' ...', exchange['url']))"
   ]
  },
  {
   "cell_type": "code",
   "execution_count": null,
   "id": "tender-livestock",
   "metadata": {
    "papermill": {
     "duration": 0.014424,
     "end_time": "2022-10-08T03:06:30.714754",
     "exception": false,
     "start_time": "2022-10-08T03:06:30.700330",
     "status": "completed"
    },
    "tags": []
   },
   "outputs": [],
   "source": []
  },
  {
   "cell_type": "code",
   "execution_count": null,
   "id": "appreciated-diamond",
   "metadata": {
    "papermill": {
     "duration": 0.01292,
     "end_time": "2022-10-08T03:06:30.740859",
     "exception": false,
     "start_time": "2022-10-08T03:06:30.727939",
     "status": "completed"
    },
    "tags": []
   },
   "outputs": [],
   "source": []
  },
  {
   "cell_type": "code",
   "execution_count": null,
   "id": "romance-sweden",
   "metadata": {
    "papermill": {
     "duration": 0.01287,
     "end_time": "2022-10-08T03:06:30.766456",
     "exception": false,
     "start_time": "2022-10-08T03:06:30.753586",
     "status": "completed"
    },
    "tags": []
   },
   "outputs": [],
   "source": []
  },
  {
   "cell_type": "code",
   "execution_count": null,
   "id": "dietary-statistics",
   "metadata": {
    "papermill": {
     "duration": 0.012779,
     "end_time": "2022-10-08T03:06:30.792548",
     "exception": false,
     "start_time": "2022-10-08T03:06:30.779769",
     "status": "completed"
    },
    "tags": []
   },
   "outputs": [],
   "source": []
  }
 ],
 "metadata": {
  "kernelspec": {
   "display_name": "Python 3",
   "language": "python",
   "name": "python3"
  },
  "language_info": {
   "codemirror_mode": {
    "name": "ipython",
    "version": 3
   },
   "file_extension": ".py",
   "mimetype": "text/x-python",
   "name": "python",
   "nbconvert_exporter": "python",
   "pygments_lexer": "ipython3",
   "version": "3.6.15"
  },
  "papermill": {
   "default_parameters": {},
   "duration": 15.878196,
   "end_time": "2022-10-08T03:06:31.325715",
   "environment_variables": {},
   "exception": null,
   "input_path": "Market-News.ipynb",
   "output_path": "Market-News.ipynb",
   "parameters": {},
   "start_time": "2022-10-08T03:06:15.447519",
   "version": "2.2.2"
  }
 },
 "nbformat": 4,
 "nbformat_minor": 5
}