{
 "cells": [
  {
   "cell_type": "markdown",
   "id": "short-greensboro",
   "metadata": {
    "papermill": {
     "duration": 0.013879,
     "end_time": "2022-04-18T02:57:52.883539",
     "exception": false,
     "start_time": "2022-04-18T02:57:52.869660",
     "status": "completed"
    },
    "tags": []
   },
   "source": [
    "# Kriptovaliutų naujienos"
   ]
  },
  {
   "cell_type": "code",
   "execution_count": 1,
   "id": "functioning-knowing",
   "metadata": {
    "execution": {
     "iopub.execute_input": "2022-04-18T02:57:52.917865Z",
     "iopub.status.busy": "2022-04-18T02:57:52.917064Z",
     "iopub.status.idle": "2022-04-18T02:57:54.464568Z",
     "shell.execute_reply": "2022-04-18T02:57:54.463978Z"
    },
    "papermill": {
     "duration": 1.569634,
     "end_time": "2022-04-18T02:57:54.464741",
     "exception": false,
     "start_time": "2022-04-18T02:57:52.895107",
     "status": "completed"
    },
    "tags": []
   },
   "outputs": [],
   "source": [
    "#hide_input\n",
    "import warnings\n",
    "warnings.filterwarnings('ignore')\n",
    "from scripts.read_data import read_api\n",
    "from scripts.read_data import read_news\n",
    "from scripts.read_data import read_covid\n",
    "import matplotlib.pyplot as plt \n",
    "from IPython.display import Markdown as md"
   ]
  },
  {
   "cell_type": "code",
   "execution_count": 2,
   "id": "shared-acceptance",
   "metadata": {
    "execution": {
     "iopub.execute_input": "2022-04-18T02:57:54.495493Z",
     "iopub.status.busy": "2022-04-18T02:57:54.494825Z",
     "iopub.status.idle": "2022-04-18T02:58:07.727164Z",
     "shell.execute_reply": "2022-04-18T02:58:07.726562Z"
    },
    "papermill": {
     "duration": 13.250949,
     "end_time": "2022-04-18T02:58:07.727308",
     "exception": false,
     "start_time": "2022-04-18T02:57:54.476359",
     "status": "completed"
    },
    "tags": []
   },
   "outputs": [],
   "source": [
    "#hide_input\n",
    "blockchain = read_news('blockchain') \n",
    "btc = read_news('btc') \n",
    "xrp = read_news('xrp') \n",
    "trx = read_news('trx') \n",
    "eth = read_news('eth')  \n",
    "ada = read_news('ada')\n",
    "exchange = read_news('exchange') "
   ]
  },
  {
   "cell_type": "code",
   "execution_count": 3,
   "id": "synthetic-notion",
   "metadata": {
    "execution": {
     "iopub.execute_input": "2022-04-18T02:58:07.756458Z",
     "iopub.status.busy": "2022-04-18T02:58:07.755773Z",
     "iopub.status.idle": "2022-04-18T02:58:07.758757Z",
     "shell.execute_reply": "2022-04-18T02:58:07.759287Z"
    },
    "papermill": {
     "duration": 0.02073,
     "end_time": "2022-04-18T02:58:07.759419",
     "exception": false,
     "start_time": "2022-04-18T02:58:07.738689",
     "status": "completed"
    },
    "tags": []
   },
   "outputs": [
    {
     "data": {
      "text/markdown": [
       "- Ravendex maintains prices below $0.0034: What’s next?.  Ravendex price analysis for April 18, 2022, comes on a bearish note for the token as chances of losing the $0.0033 as support seem considerable for now. On the other hand, we have seen a lot of negative movement recently surrounding the RAVE token as the crucial zone of $0.004 price zone remains a crucial [&#8230;]The post Ravendex maintains prices below $0.0034: What&#8217;s next? appeared first on Blockchain, Crypto and Stock News. ... [| Skaityti daugiau](https://thecoinrise.com/ravendex-maintains-prices-below-0-0034-whats-next/) "
      ],
      "text/plain": [
       "<IPython.core.display.Markdown object>"
      ]
     },
     "execution_count": 3,
     "metadata": {},
     "output_type": "execute_result"
    }
   ],
   "source": [
    "#hide_input\n",
    "#md('##### {}'.format(titleBTC)) \n",
    "md(\"- {}{} {}{} [| Skaityti daugiau]({}) \".format(blockchain['title'],'. ', blockchain['body'], ' ...', blockchain['url']))"
   ]
  },
  {
   "cell_type": "code",
   "execution_count": 4,
   "id": "aging-caution",
   "metadata": {
    "execution": {
     "iopub.execute_input": "2022-04-18T02:58:07.787304Z",
     "iopub.status.busy": "2022-04-18T02:58:07.786670Z",
     "iopub.status.idle": "2022-04-18T02:58:07.790153Z",
     "shell.execute_reply": "2022-04-18T02:58:07.789562Z"
    },
    "papermill": {
     "duration": 0.019508,
     "end_time": "2022-04-18T02:58:07.790269",
     "exception": false,
     "start_time": "2022-04-18T02:58:07.770761",
     "status": "completed"
    },
    "tags": []
   },
   "outputs": [
    {
     "data": {
      "text/markdown": [
       "- SEC Risks Violating Admin Procedure Act by Rejecting Spot Bitcoin ETFs, Says Grayscale.  Grayscale Investments&#x2019; CEO explains that the U.S. Securities and Exchange Commission (SEC) could potentially violate the Administrative Procedure Act by not approving a spot bitcoin exchange-traded fund (ETF). SEC Approving Spot Bitcoin ETF Is &#x2018;a Matter of When and Not If&#x2019; The U.S. Securities and Exchange Commission (SEC) has now approved not one but two [&#8230;] ... [| Skaityti daugiau](https://news.bitcoin.com/sec-risks-violating-admin-procedure-act-by-rejecting-spot-bitcoin-etfs-says-grayscale/) "
      ],
      "text/plain": [
       "<IPython.core.display.Markdown object>"
      ]
     },
     "execution_count": 4,
     "metadata": {},
     "output_type": "execute_result"
    }
   ],
   "source": [
    "#hide_input\n",
    "#md('##### {}'.format(titleBTC)) \n",
    "md(\"- {}{} {}{} [| Skaityti daugiau]({}) \".format(btc['title'],'. ', btc['body'], ' ...', btc['url']))"
   ]
  },
  {
   "cell_type": "code",
   "execution_count": 5,
   "id": "organic-actress",
   "metadata": {
    "execution": {
     "iopub.execute_input": "2022-04-18T02:58:07.818678Z",
     "iopub.status.busy": "2022-04-18T02:58:07.817982Z",
     "iopub.status.idle": "2022-04-18T02:58:07.821447Z",
     "shell.execute_reply": "2022-04-18T02:58:07.820845Z"
    },
    "papermill": {
     "duration": 0.019902,
     "end_time": "2022-04-18T02:58:07.821570",
     "exception": false,
     "start_time": "2022-04-18T02:58:07.801668",
     "status": "completed"
    },
    "tags": []
   },
   "outputs": [
    {
     "data": {
      "text/markdown": [
       "- ‘Surprising’ Development in XRP Lawsuit As SEC Decides To End Discovery Phase With Ripple: Crypto Legal Expert.  A popular attorney who tracks and analyzes the U.S. Securities and Exchange Commission&#8217;s (SEC) lawsuit with Ripple says that the top regulator has made an unexpected decision in their suit. The SEC sued Ripple in late 2020 under allegations that the payments firm sold XRP as an unregistered security. Attorney Jeremy Hogan says that he [&#8230;]The post ‘Surprising’ Development in XRP Lawsuit As SEC Decides To End Discovery Phase With Ripple: Crypto Legal Expert appeared first on The Daily Hodl. ... [| Skaityti daugiau](https://dailyhodl.com/2022/04/17/surprising-development-in-xrp-lawsuit-as-sec-decides-to-end-discovery-phase-with-ripple-crypto-legal-expert/) "
      ],
      "text/plain": [
       "<IPython.core.display.Markdown object>"
      ]
     },
     "execution_count": 5,
     "metadata": {},
     "output_type": "execute_result"
    }
   ],
   "source": [
    "#hide_input\n",
    "#md('##### {}'.format(titleBTC)) \n",
    "md(\"- {}{} {}{} [| Skaityti daugiau]({}) \".format(xrp['title'],'. ', xrp['body'], ' ...', xrp['url']))"
   ]
  },
  {
   "cell_type": "code",
   "execution_count": 6,
   "id": "prompt-farmer",
   "metadata": {
    "execution": {
     "iopub.execute_input": "2022-04-18T02:58:07.850851Z",
     "iopub.status.busy": "2022-04-18T02:58:07.850181Z",
     "iopub.status.idle": "2022-04-18T02:58:07.854830Z",
     "shell.execute_reply": "2022-04-18T02:58:07.854128Z"
    },
    "papermill": {
     "duration": 0.021516,
     "end_time": "2022-04-18T02:58:07.854976",
     "exception": false,
     "start_time": "2022-04-18T02:58:07.833460",
     "status": "completed"
    },
    "tags": []
   },
   "outputs": [
    {
     "data": {
      "text/markdown": [
       "- TRON sees a relief rally; here’s what traders should know.  Disclaimer: The findings of the following analysis are the sole opinions of the writer and should not be considered investment advice Bitcoin saw a bounce from $39.3k to $41.4k and posted some losses in recent hours to trade at $41.1k at the time of writing. TRON also reflected this minor bounce of Bitcoin on its own [&#8230;] ... [| Skaityti daugiau](https://ambcrypto.com/tron-sees-a-relief-rally-heres-what-traders-should-know/) "
      ],
      "text/plain": [
       "<IPython.core.display.Markdown object>"
      ]
     },
     "execution_count": 6,
     "metadata": {},
     "output_type": "execute_result"
    }
   ],
   "source": [
    "#hide_input\n",
    "#md('##### {}'.format(titleBTC)) \n",
    "md(\"- {}{} {}{} [| Skaityti daugiau]({}) \".format(trx['title'],'. ', trx['body'], ' ...', trx['url']))"
   ]
  },
  {
   "cell_type": "code",
   "execution_count": 7,
   "id": "illegal-greece",
   "metadata": {
    "execution": {
     "iopub.execute_input": "2022-04-18T02:58:07.885501Z",
     "iopub.status.busy": "2022-04-18T02:58:07.884793Z",
     "iopub.status.idle": "2022-04-18T02:58:07.888477Z",
     "shell.execute_reply": "2022-04-18T02:58:07.887989Z"
    },
    "papermill": {
     "duration": 0.020813,
     "end_time": "2022-04-18T02:58:07.888592",
     "exception": false,
     "start_time": "2022-04-18T02:58:07.867779",
     "status": "completed"
    },
    "tags": []
   },
   "outputs": [
    {
     "data": {
      "text/markdown": [
       "- Top 3 Metaverse Coins Gaining The Most Price Today (MLT, XNL, ICE).  While cryptocurrency markets continue to trade sideways with a slight bearish momentum as Bitcoin and Ethereum struggle to hold support, several Metaverse coins have shown double-digit percent growth in the past 24 hours, signaling the tremendous potential of the niche. Today we look at the top three Metaverse coins gaining the most price, ordered by [&#8230;]The post Top 3 Metaverse Coins Gaining The Most Price Today (MLT, XNL, ICE) appeared first on NullTX. ... [| Skaityti daugiau](https://nulltx.com/top-3-metaverse-coins-gaining-the-most-price-today-mlt-xnl-ice/) "
      ],
      "text/plain": [
       "<IPython.core.display.Markdown object>"
      ]
     },
     "execution_count": 7,
     "metadata": {},
     "output_type": "execute_result"
    }
   ],
   "source": [
    "#hide_input\n",
    "#md('##### {}'.format(titleBTC)) \n",
    "md(\"- {}{} {}{} [| Skaityti daugiau]({}) \".format(eth['title'],'. ', eth['body'], ' ...', eth['url']))"
   ]
  },
  {
   "cell_type": "code",
   "execution_count": 8,
   "id": "sublime-lounge",
   "metadata": {
    "execution": {
     "iopub.execute_input": "2022-04-18T02:58:07.920437Z",
     "iopub.status.busy": "2022-04-18T02:58:07.919796Z",
     "iopub.status.idle": "2022-04-18T02:58:07.923297Z",
     "shell.execute_reply": "2022-04-18T02:58:07.922753Z"
    },
    "papermill": {
     "duration": 0.021741,
     "end_time": "2022-04-18T02:58:07.923465",
     "exception": false,
     "start_time": "2022-04-18T02:58:07.901724",
     "status": "completed"
    },
    "tags": []
   },
   "outputs": [
    {
     "data": {
      "text/markdown": [
       "- Cardano Looks Ready for an Upswing to $1.   ... [| Skaityti daugiau](https://cryptobriefing.com/cardano-looks-ready-for-an-upswing-to-1/?utm_source=main_feed&utm_medium=rss) "
      ],
      "text/plain": [
       "<IPython.core.display.Markdown object>"
      ]
     },
     "execution_count": 8,
     "metadata": {},
     "output_type": "execute_result"
    }
   ],
   "source": [
    "#hide_input\n",
    "#md('##### {}'.format(titleBTC)) \n",
    "md(\"- {}{} {}{} [| Skaityti daugiau]({}) \".format(ada['title'],'. ', ada['body'], ' ...', ada['url']))"
   ]
  },
  {
   "cell_type": "code",
   "execution_count": 9,
   "id": "specified-ordering",
   "metadata": {
    "execution": {
     "iopub.execute_input": "2022-04-18T02:58:07.956976Z",
     "iopub.status.busy": "2022-04-18T02:58:07.956273Z",
     "iopub.status.idle": "2022-04-18T02:58:07.959900Z",
     "shell.execute_reply": "2022-04-18T02:58:07.959404Z"
    },
    "papermill": {
     "duration": 0.022493,
     "end_time": "2022-04-18T02:58:07.960051",
     "exception": false,
     "start_time": "2022-04-18T02:58:07.937558",
     "status": "completed"
    },
    "tags": []
   },
   "outputs": [
    {
     "data": {
      "text/markdown": [
       "- SEC Risks Violating Admin Procedure Act by Rejecting Spot Bitcoin ETFs, Says Grayscale.  Grayscale Investments&#x2019; CEO explains that the U.S. Securities and Exchange Commission (SEC) could potentially violate the Administrative Procedure Act by not approving a spot bitcoin exchange-traded fund (ETF). SEC Approving Spot Bitcoin ETF Is &#x2018;a Matter of When and Not If&#x2019; The U.S. Securities and Exchange Commission (SEC) has now approved not one but two [&#8230;] ... [| Skaityti daugiau](https://news.bitcoin.com/sec-risks-violating-admin-procedure-act-by-rejecting-spot-bitcoin-etfs-says-grayscale/) "
      ],
      "text/plain": [
       "<IPython.core.display.Markdown object>"
      ]
     },
     "execution_count": 9,
     "metadata": {},
     "output_type": "execute_result"
    }
   ],
   "source": [
    "#hide_input\n",
    "#md('##### {}'.format(titleBTC)) \n",
    "md(\"- {}{} {}{} [| Skaityti daugiau]({}) \".format(exchange['title'],'. ', exchange['body'], ' ...', exchange['url']))"
   ]
  },
  {
   "cell_type": "code",
   "execution_count": null,
   "id": "tender-livestock",
   "metadata": {
    "papermill": {
     "duration": 0.014425,
     "end_time": "2022-04-18T02:58:07.988269",
     "exception": false,
     "start_time": "2022-04-18T02:58:07.973844",
     "status": "completed"
    },
    "tags": []
   },
   "outputs": [],
   "source": []
  },
  {
   "cell_type": "code",
   "execution_count": null,
   "id": "appreciated-diamond",
   "metadata": {
    "papermill": {
     "duration": 0.01374,
     "end_time": "2022-04-18T02:58:08.016364",
     "exception": false,
     "start_time": "2022-04-18T02:58:08.002624",
     "status": "completed"
    },
    "tags": []
   },
   "outputs": [],
   "source": []
  },
  {
   "cell_type": "code",
   "execution_count": null,
   "id": "romance-sweden",
   "metadata": {
    "papermill": {
     "duration": 0.01351,
     "end_time": "2022-04-18T02:58:08.044221",
     "exception": false,
     "start_time": "2022-04-18T02:58:08.030711",
     "status": "completed"
    },
    "tags": []
   },
   "outputs": [],
   "source": []
  },
  {
   "cell_type": "code",
   "execution_count": null,
   "id": "dietary-statistics",
   "metadata": {
    "papermill": {
     "duration": 0.013886,
     "end_time": "2022-04-18T02:58:08.072732",
     "exception": false,
     "start_time": "2022-04-18T02:58:08.058846",
     "status": "completed"
    },
    "tags": []
   },
   "outputs": [],
   "source": []
  }
 ],
 "metadata": {
  "kernelspec": {
   "display_name": "Python 3",
   "language": "python",
   "name": "python3"
  },
  "language_info": {
   "codemirror_mode": {
    "name": "ipython",
    "version": 3
   },
   "file_extension": ".py",
   "mimetype": "text/x-python",
   "name": "python",
   "nbconvert_exporter": "python",
   "pygments_lexer": "ipython3",
   "version": "3.6.15"
  },
  "papermill": {
   "default_parameters": {},
   "duration": 17.031727,
   "end_time": "2022-04-18T02:58:08.606705",
   "environment_variables": {},
   "exception": null,
   "input_path": "Market-News.ipynb",
   "output_path": "Market-News.ipynb",
   "parameters": {},
   "start_time": "2022-04-18T02:57:51.574978",
   "version": "2.2.2"
  }
 },
 "nbformat": 4,
 "nbformat_minor": 5
}