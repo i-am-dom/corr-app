{
 "cells": [
  {
   "cell_type": "markdown",
   "id": "short-greensboro",
   "metadata": {
    "papermill": {
     "duration": 0.015497,
     "end_time": "2022-03-25T02:23:13.262821",
     "exception": false,
     "start_time": "2022-03-25T02:23:13.247324",
     "status": "completed"
    },
    "tags": []
   },
   "source": [
    "# Kriptovaliutų naujienos"
   ]
  },
  {
   "cell_type": "code",
   "execution_count": 1,
   "id": "functioning-knowing",
   "metadata": {
    "execution": {
     "iopub.execute_input": "2022-03-25T02:23:13.298192Z",
     "iopub.status.busy": "2022-03-25T02:23:13.297575Z",
     "iopub.status.idle": "2022-03-25T02:23:14.800635Z",
     "shell.execute_reply": "2022-03-25T02:23:14.799551Z"
    },
    "papermill": {
     "duration": 1.526699,
     "end_time": "2022-03-25T02:23:14.800808",
     "exception": false,
     "start_time": "2022-03-25T02:23:13.274109",
     "status": "completed"
    },
    "tags": []
   },
   "outputs": [],
   "source": [
    "#hide_input\n",
    "import warnings\n",
    "warnings.filterwarnings('ignore')\n",
    "from scripts.read_data import read_api\n",
    "from scripts.read_data import read_news\n",
    "from scripts.read_data import read_covid\n",
    "import matplotlib.pyplot as plt \n",
    "from IPython.display import Markdown as md"
   ]
  },
  {
   "cell_type": "code",
   "execution_count": 2,
   "id": "shared-acceptance",
   "metadata": {
    "execution": {
     "iopub.execute_input": "2022-03-25T02:23:14.830634Z",
     "iopub.status.busy": "2022-03-25T02:23:14.829548Z",
     "iopub.status.idle": "2022-03-25T02:23:23.719326Z",
     "shell.execute_reply": "2022-03-25T02:23:23.718690Z"
    },
    "papermill": {
     "duration": 8.90799,
     "end_time": "2022-03-25T02:23:23.719479",
     "exception": false,
     "start_time": "2022-03-25T02:23:14.811489",
     "status": "completed"
    },
    "tags": []
   },
   "outputs": [],
   "source": [
    "#hide_input\n",
    "blockchain = read_news('blockchain') \n",
    "btc = read_news('btc') \n",
    "xrp = read_news('xrp') \n",
    "trx = read_news('trx') \n",
    "eth = read_news('eth')  \n",
    "ada = read_news('ada')\n",
    "exchange = read_news('exchange') "
   ]
  },
  {
   "cell_type": "code",
   "execution_count": 3,
   "id": "synthetic-notion",
   "metadata": {
    "execution": {
     "iopub.execute_input": "2022-03-25T02:23:23.747066Z",
     "iopub.status.busy": "2022-03-25T02:23:23.744537Z",
     "iopub.status.idle": "2022-03-25T02:23:23.752556Z",
     "shell.execute_reply": "2022-03-25T02:23:23.753059Z"
    },
    "papermill": {
     "duration": 0.022822,
     "end_time": "2022-03-25T02:23:23.753209",
     "exception": false,
     "start_time": "2022-03-25T02:23:23.730387",
     "status": "completed"
    },
    "tags": []
   },
   "outputs": [
    {
     "data": {
      "text/markdown": [
       "- David Beckham Becomes a Global Brand Ambassador for a Crypto Firm.  David Beckham entered the world of cryptocurrencies by becoming the global brand ambassador for DigitalBits. ... [| Skaityti daugiau](https://cryptopotato.com/david-beckham-becomes-a-global-brand-ambassador-for-a-crypto-firm/) "
      ],
      "text/plain": [
       "<IPython.core.display.Markdown object>"
      ]
     },
     "execution_count": 3,
     "metadata": {},
     "output_type": "execute_result"
    }
   ],
   "source": [
    "#hide_input\n",
    "#md('##### {}'.format(titleBTC)) \n",
    "md(\"- {}{} {}{} [| Skaityti daugiau]({}) \".format(blockchain['title'],'. ', blockchain['body'], ' ...', blockchain['url']))"
   ]
  },
  {
   "cell_type": "code",
   "execution_count": 4,
   "id": "aging-caution",
   "metadata": {
    "execution": {
     "iopub.execute_input": "2022-03-25T02:23:23.784277Z",
     "iopub.status.busy": "2022-03-25T02:23:23.783666Z",
     "iopub.status.idle": "2022-03-25T02:23:23.788994Z",
     "shell.execute_reply": "2022-03-25T02:23:23.789452Z"
    },
    "papermill": {
     "duration": 0.025093,
     "end_time": "2022-03-25T02:23:23.789760",
     "exception": false,
     "start_time": "2022-03-25T02:23:23.764667",
     "status": "completed"
    },
    "tags": []
   },
   "outputs": [
    {
     "data": {
      "text/markdown": [
       "- Can On-Chain Indicators Call Tops And Bottoms For The Bitcoin Price?.  Analyzing seven key on-chain indicators can give us major hints as to when the bitcoin price is at the top or bottom of the current market cycle. ... [| Skaityti daugiau](https://bitcoinmagazine.com/markets/do-metrics-show-tops-and-bottoms-for-bitcoin-price) "
      ],
      "text/plain": [
       "<IPython.core.display.Markdown object>"
      ]
     },
     "execution_count": 4,
     "metadata": {},
     "output_type": "execute_result"
    }
   ],
   "source": [
    "#hide_input\n",
    "#md('##### {}'.format(titleBTC)) \n",
    "md(\"- {}{} {}{} [| Skaityti daugiau]({}) \".format(btc['title'],'. ', btc['body'], ' ...', btc['url']))"
   ]
  },
  {
   "cell_type": "code",
   "execution_count": 5,
   "id": "organic-actress",
   "metadata": {
    "execution": {
     "iopub.execute_input": "2022-03-25T02:23:23.819123Z",
     "iopub.status.busy": "2022-03-25T02:23:23.818414Z",
     "iopub.status.idle": "2022-03-25T02:23:23.821783Z",
     "shell.execute_reply": "2022-03-25T02:23:23.821184Z"
    },
    "papermill": {
     "duration": 0.020924,
     "end_time": "2022-03-25T02:23:23.821904",
     "exception": false,
     "start_time": "2022-03-25T02:23:23.800980",
     "status": "completed"
    },
    "tags": []
   },
   "outputs": [
    {
     "data": {
      "text/markdown": [
       "- Ripple Price Prediction: XRP Price Trades Near 200-EMA At $0.85, Is $0.1 in play?.  XRP price continues to slide steadily north following the $0.84 value area. Buyers are attempting to establish a demand zone near $0.80. Investors anticipate a reliable support area that can be a Launchpad for a bullish breakout. XRP price consolidates gains with limited price action. A positive breakout above the 200-EMA would bring $0.1 into The post Ripple Price Prediction: XRP Price Trades Near 200-EMA At $0.85, Is $0.1 in play? appeared first on CoinGape. ... [| Skaityti daugiau](https://coingape.com/markets/ripple-price-prediction-xrp-trades-near-200-ema-at-0-85-is-0-1-in-play/) "
      ],
      "text/plain": [
       "<IPython.core.display.Markdown object>"
      ]
     },
     "execution_count": 5,
     "metadata": {},
     "output_type": "execute_result"
    }
   ],
   "source": [
    "#hide_input\n",
    "#md('##### {}'.format(titleBTC)) \n",
    "md(\"- {}{} {}{} [| Skaityti daugiau]({}) \".format(xrp['title'],'. ', xrp['body'], ' ...', xrp['url']))"
   ]
  },
  {
   "cell_type": "code",
   "execution_count": 6,
   "id": "prompt-farmer",
   "metadata": {
    "execution": {
     "iopub.execute_input": "2022-03-25T02:23:23.853781Z",
     "iopub.status.busy": "2022-03-25T02:23:23.853186Z",
     "iopub.status.idle": "2022-03-25T02:23:23.857785Z",
     "shell.execute_reply": "2022-03-25T02:23:23.857282Z"
    },
    "papermill": {
     "duration": 0.021211,
     "end_time": "2022-03-25T02:23:23.857902",
     "exception": false,
     "start_time": "2022-03-25T02:23:23.836691",
     "status": "completed"
    },
    "tags": []
   },
   "outputs": [
    {
     "data": {
      "text/markdown": [
       "- USDT circulation on TRON dwarfs Ethereum’s surpassing $40 billion.  The Tron (TRX) network has been measuring some impressive results in the past few months. One of them is the...  Continue reading  The post USDT circulation on TRON dwarfs Ethereum&#8217;s surpassing $40 billion appeared first on Finbold. ... [| Skaityti daugiau](https://finbold.com/usdt-circulation-on-tron-dwarfs-ethereums-surpassing-40-billion/) "
      ],
      "text/plain": [
       "<IPython.core.display.Markdown object>"
      ]
     },
     "execution_count": 6,
     "metadata": {},
     "output_type": "execute_result"
    }
   ],
   "source": [
    "#hide_input\n",
    "#md('##### {}'.format(titleBTC)) \n",
    "md(\"- {}{} {}{} [| Skaityti daugiau]({}) \".format(trx['title'],'. ', trx['body'], ' ...', trx['url']))"
   ]
  },
  {
   "cell_type": "code",
   "execution_count": 7,
   "id": "illegal-greece",
   "metadata": {
    "execution": {
     "iopub.execute_input": "2022-03-25T02:23:23.887590Z",
     "iopub.status.busy": "2022-03-25T02:23:23.887044Z",
     "iopub.status.idle": "2022-03-25T02:23:23.893248Z",
     "shell.execute_reply": "2022-03-25T02:23:23.892747Z"
    },
    "papermill": {
     "duration": 0.023597,
     "end_time": "2022-03-25T02:23:23.893370",
     "exception": false,
     "start_time": "2022-03-25T02:23:23.869773",
     "status": "completed"
    },
    "tags": []
   },
   "outputs": [
    {
     "data": {
      "text/markdown": [
       "- Ethereum: Measuring the potential of this bullish case despite a possible correction.  From its ATH, the king alt has been on a downslide over the last four months. However, the bulls finally breached this long-term bearish trend after their recent rally. Now, a fall below the $2,994-mark could pull the alt towards the 20 EMA support near the $2,800-level. Owing to the northbound direction of its near-term [&#8230;] ... [| Skaityti daugiau](https://ambcrypto.com/ethereum-measuring-the-potential-of-this-bullish-case-despite-a-possible-correction/) "
      ],
      "text/plain": [
       "<IPython.core.display.Markdown object>"
      ]
     },
     "execution_count": 7,
     "metadata": {},
     "output_type": "execute_result"
    }
   ],
   "source": [
    "#hide_input\n",
    "#md('##### {}'.format(titleBTC)) \n",
    "md(\"- {}{} {}{} [| Skaityti daugiau]({}) \".format(eth['title'],'. ', eth['body'], ' ...', eth['url']))"
   ]
  },
  {
   "cell_type": "code",
   "execution_count": 8,
   "id": "sublime-lounge",
   "metadata": {
    "execution": {
     "iopub.execute_input": "2022-03-25T02:23:23.926237Z",
     "iopub.status.busy": "2022-03-25T02:23:23.925351Z",
     "iopub.status.idle": "2022-03-25T02:23:23.927831Z",
     "shell.execute_reply": "2022-03-25T02:23:23.928386Z"
    },
    "papermill": {
     "duration": 0.023017,
     "end_time": "2022-03-25T02:23:23.928516",
     "exception": false,
     "start_time": "2022-03-25T02:23:23.905499",
     "status": "completed"
    },
    "tags": []
   },
   "outputs": [
    {
     "data": {
      "text/markdown": [
       "- Cardano Breaks New Milestone As TVL Continues To Surge.  Activity has been on the rise on the Cardano network ever since smart contract capability was introduced last year. However, this has ramped up this year as more decentralized applications (DApps) continue to debut on the blockchain. Alongside this has been the growth of native tokens on the blockchain which has now touched a new [&#8230;] ... [| Skaityti daugiau](https://bitcoinist.com/cardano-breaks-new-milestone/) "
      ],
      "text/plain": [
       "<IPython.core.display.Markdown object>"
      ]
     },
     "execution_count": 8,
     "metadata": {},
     "output_type": "execute_result"
    }
   ],
   "source": [
    "#hide_input\n",
    "#md('##### {}'.format(titleBTC)) \n",
    "md(\"- {}{} {}{} [| Skaityti daugiau]({}) \".format(ada['title'],'. ', ada['body'], ' ...', ada['url']))"
   ]
  },
  {
   "cell_type": "code",
   "execution_count": 9,
   "id": "specified-ordering",
   "metadata": {
    "execution": {
     "iopub.execute_input": "2022-03-25T02:23:23.961654Z",
     "iopub.status.busy": "2022-03-25T02:23:23.960845Z",
     "iopub.status.idle": "2022-03-25T02:23:23.963544Z",
     "shell.execute_reply": "2022-03-25T02:23:23.964266Z"
    },
    "papermill": {
     "duration": 0.023074,
     "end_time": "2022-03-25T02:23:23.964435",
     "exception": false,
     "start_time": "2022-03-25T02:23:23.941361",
     "status": "completed"
    },
    "tags": []
   },
   "outputs": [
    {
     "data": {
      "text/markdown": [
       "- Crypto Exchange Ku Coin Hands Out Six-Figures Bonuses to Top-Ranking Employees.  Leading crypto exchange Ku Coin has experienced some vast success over the past 12 months. The company is now celebrating by presenting some of its top-ranking employees with $100,000 bonuses being paid out in bitcoin, Ethereum, and other cryptocurrencies. Ku Coin Hands Out a Lot of Money During the previous year, KCS – the official...The post Crypto Exchange Ku Coin Hands Out Six-Figures Bonuses to Top-Ranking Employees appeared first on Live Bitcoin News. ... [| Skaityti daugiau](https://www.livebitcoinnews.com/crypto-exchange-ku-coin-hands-out-six-figures-bonuses-to-top-ranking-employees/) "
      ],
      "text/plain": [
       "<IPython.core.display.Markdown object>"
      ]
     },
     "execution_count": 9,
     "metadata": {},
     "output_type": "execute_result"
    }
   ],
   "source": [
    "#hide_input\n",
    "#md('##### {}'.format(titleBTC)) \n",
    "md(\"- {}{} {}{} [| Skaityti daugiau]({}) \".format(exchange['title'],'. ', exchange['body'], ' ...', exchange['url']))"
   ]
  },
  {
   "cell_type": "code",
   "execution_count": null,
   "id": "tender-livestock",
   "metadata": {
    "papermill": {
     "duration": 0.012762,
     "end_time": "2022-03-25T02:23:23.990533",
     "exception": false,
     "start_time": "2022-03-25T02:23:23.977771",
     "status": "completed"
    },
    "tags": []
   },
   "outputs": [],
   "source": []
  },
  {
   "cell_type": "code",
   "execution_count": null,
   "id": "appreciated-diamond",
   "metadata": {
    "papermill": {
     "duration": 0.012717,
     "end_time": "2022-03-25T02:23:24.016134",
     "exception": false,
     "start_time": "2022-03-25T02:23:24.003417",
     "status": "completed"
    },
    "tags": []
   },
   "outputs": [],
   "source": []
  },
  {
   "cell_type": "code",
   "execution_count": null,
   "id": "romance-sweden",
   "metadata": {
    "papermill": {
     "duration": 0.01269,
     "end_time": "2022-03-25T02:23:24.042679",
     "exception": false,
     "start_time": "2022-03-25T02:23:24.029989",
     "status": "completed"
    },
    "tags": []
   },
   "outputs": [],
   "source": []
  },
  {
   "cell_type": "code",
   "execution_count": null,
   "id": "dietary-statistics",
   "metadata": {
    "papermill": {
     "duration": 0.012762,
     "end_time": "2022-03-25T02:23:24.068396",
     "exception": false,
     "start_time": "2022-03-25T02:23:24.055634",
     "status": "completed"
    },
    "tags": []
   },
   "outputs": [],
   "source": []
  }
 ],
 "metadata": {
  "kernelspec": {
   "display_name": "Python 3",
   "language": "python",
   "name": "python3"
  },
  "language_info": {
   "codemirror_mode": {
    "name": "ipython",
    "version": 3
   },
   "file_extension": ".py",
   "mimetype": "text/x-python",
   "name": "python",
   "nbconvert_exporter": "python",
   "pygments_lexer": "ipython3",
   "version": "3.6.15"
  },
  "papermill": {
   "default_parameters": {},
   "duration": 12.652373,
   "end_time": "2022-03-25T02:23:24.602384",
   "environment_variables": {},
   "exception": null,
   "input_path": "Market-News.ipynb",
   "output_path": "Market-News.ipynb",
   "parameters": {},
   "start_time": "2022-03-25T02:23:11.950011",
   "version": "2.2.2"
  }
 },
 "nbformat": 4,
 "nbformat_minor": 5
}