{
 "cells": [
  {
   "cell_type": "markdown",
   "id": "short-greensboro",
   "metadata": {
    "papermill": {
     "duration": 0.016051,
     "end_time": "2022-10-04T03:14:11.994233",
     "exception": false,
     "start_time": "2022-10-04T03:14:11.978182",
     "status": "completed"
    },
    "tags": []
   },
   "source": [
    "# Kriptovaliutų naujienos"
   ]
  },
  {
   "cell_type": "code",
   "execution_count": 1,
   "id": "functioning-knowing",
   "metadata": {
    "execution": {
     "iopub.execute_input": "2022-10-04T03:14:12.030871Z",
     "iopub.status.busy": "2022-10-04T03:14:12.030060Z",
     "iopub.status.idle": "2022-10-04T03:14:13.548263Z",
     "shell.execute_reply": "2022-10-04T03:14:13.549213Z"
    },
    "papermill": {
     "duration": 1.542733,
     "end_time": "2022-10-04T03:14:13.549390",
     "exception": false,
     "start_time": "2022-10-04T03:14:12.006657",
     "status": "completed"
    },
    "tags": []
   },
   "outputs": [],
   "source": [
    "#hide_input\n",
    "import warnings\n",
    "warnings.filterwarnings('ignore')\n",
    "from scripts.read_data import read_api\n",
    "from scripts.read_data import read_news\n",
    "from scripts.read_data import read_covid\n",
    "import matplotlib.pyplot as plt \n",
    "from IPython.display import Markdown as md"
   ]
  },
  {
   "cell_type": "code",
   "execution_count": 2,
   "id": "shared-acceptance",
   "metadata": {
    "execution": {
     "iopub.execute_input": "2022-10-04T03:14:13.576494Z",
     "iopub.status.busy": "2022-10-04T03:14:13.575643Z",
     "iopub.status.idle": "2022-10-04T03:14:26.004267Z",
     "shell.execute_reply": "2022-10-04T03:14:26.005006Z"
    },
    "papermill": {
     "duration": 12.445549,
     "end_time": "2022-10-04T03:14:26.005224",
     "exception": false,
     "start_time": "2022-10-04T03:14:13.559675",
     "status": "completed"
    },
    "tags": []
   },
   "outputs": [],
   "source": [
    "#hide_input\n",
    "blockchain = read_news('blockchain') \n",
    "btc = read_news('btc') \n",
    "xrp = read_news('xrp') \n",
    "trx = read_news('trx') \n",
    "eth = read_news('eth')  \n",
    "ada = read_news('ada')\n",
    "exchange = read_news('exchange') "
   ]
  },
  {
   "cell_type": "code",
   "execution_count": 3,
   "id": "synthetic-notion",
   "metadata": {
    "execution": {
     "iopub.execute_input": "2022-10-04T03:14:26.038599Z",
     "iopub.status.busy": "2022-10-04T03:14:26.037903Z",
     "iopub.status.idle": "2022-10-04T03:14:26.041400Z",
     "shell.execute_reply": "2022-10-04T03:14:26.041991Z"
    },
    "papermill": {
     "duration": 0.025907,
     "end_time": "2022-10-04T03:14:26.042110",
     "exception": false,
     "start_time": "2022-10-04T03:14:26.016203",
     "status": "completed"
    },
    "tags": []
   },
   "outputs": [
    {
     "data": {
      "text/markdown": [
       "- Kim Kardashian faces heavy penalty for illicit promotion of EMAX.  The United States Securities and Exchange Commission (SEC) has recently charged renowned American media personality Kim Kardashian for illicit social media promotion of a crypto token offered by EthereumMax (EMAX). SEC stated in a statement on October 3 that Kardashian did not disclose the payment she got for promoting the contentious cryptocurrency EMAX. However, the [&#8230;]The post Kim Kardashian faces heavy penalty for illicit promotion of EMAX appeared first on Blockchain, Crypto and Stock News. ... [| Skaityti daugiau](https://thecoinrise.com/kim-kardashian-faces-heavy-penalty-for-illicit-promotion-of-emax/) "
      ],
      "text/plain": [
       "<IPython.core.display.Markdown object>"
      ]
     },
     "execution_count": 3,
     "metadata": {},
     "output_type": "execute_result"
    }
   ],
   "source": [
    "#hide_input\n",
    "#md('##### {}'.format(titleBTC)) \n",
    "md(\"- {}{} {}{} [| Skaityti daugiau]({}) \".format(blockchain['title'],'. ', blockchain['body'], ' ...', blockchain['url']))"
   ]
  },
  {
   "cell_type": "code",
   "execution_count": 4,
   "id": "aging-caution",
   "metadata": {
    "execution": {
     "iopub.execute_input": "2022-10-04T03:14:26.077003Z",
     "iopub.status.busy": "2022-10-04T03:14:26.075251Z",
     "iopub.status.idle": "2022-10-04T03:14:26.079468Z",
     "shell.execute_reply": "2022-10-04T03:14:26.078939Z"
    },
    "papermill": {
     "duration": 0.026886,
     "end_time": "2022-10-04T03:14:26.079587",
     "exception": false,
     "start_time": "2022-10-04T03:14:26.052701",
     "status": "completed"
    },
    "tags": []
   },
   "outputs": [
    {
     "data": {
      "text/markdown": [
       "- First Mover Asia: Bitcoin Climbs Back Past $19.5K Amid Fresh Hopes for a Fed Retreat; Binance's Failed Plan to Boost the Price of Luna Classic.  The largest cryptocurrency by market capitalization and ether both spent much of Monday in the green. ... [| Skaityti daugiau](https://www.coindesk.com/markets/2022/10/04/first-mover-asia-bitcoin-climbs-back-past-195k-amid-fresh-hopes-for-a-fed-retreat-binances-failed-plan-to-boost-the-price-of-luna-classic/?utm_medium=referral&utm_source=rss&utm_campaign=headlines) "
      ],
      "text/plain": [
       "<IPython.core.display.Markdown object>"
      ]
     },
     "execution_count": 4,
     "metadata": {},
     "output_type": "execute_result"
    }
   ],
   "source": [
    "#hide_input\n",
    "#md('##### {}'.format(titleBTC)) \n",
    "md(\"- {}{} {}{} [| Skaityti daugiau]({}) \".format(btc['title'],'. ', btc['body'], ' ...', btc['url']))"
   ]
  },
  {
   "cell_type": "code",
   "execution_count": 5,
   "id": "organic-actress",
   "metadata": {
    "execution": {
     "iopub.execute_input": "2022-10-04T03:14:26.111332Z",
     "iopub.status.busy": "2022-10-04T03:14:26.110535Z",
     "iopub.status.idle": "2022-10-04T03:14:26.117233Z",
     "shell.execute_reply": "2022-10-04T03:14:26.117842Z"
    },
    "papermill": {
     "duration": 0.024055,
     "end_time": "2022-10-04T03:14:26.117983",
     "exception": false,
     "start_time": "2022-10-04T03:14:26.093928",
     "status": "completed"
    },
    "tags": []
   },
   "outputs": [
    {
     "data": {
      "text/markdown": [
       "- World’s Largest Banks Have Exposure to $DOT, $XRP, and $ADA, Study Shows.  A recently published study by the Basil Committee on Banking Supervision (BCBS) has revealed that the world’s top banks have exposure to around $9 billion worth of cryptocurrencies, including Polkadot ($DOT), Cardano ($ADA), and $XRP. According to the study, titled “Basil II Monitoring report” from the Bank of International Settlements (BIS), the two largest cryptocurrencies […] ... [| Skaityti daugiau](https://www.cryptoglobe.com/latest/2022/10/worlds-largest-banks-have-exposure-to-dot-xrp-and-ada-study-shows/) "
      ],
      "text/plain": [
       "<IPython.core.display.Markdown object>"
      ]
     },
     "execution_count": 5,
     "metadata": {},
     "output_type": "execute_result"
    }
   ],
   "source": [
    "#hide_input\n",
    "#md('##### {}'.format(titleBTC)) \n",
    "md(\"- {}{} {}{} [| Skaityti daugiau]({}) \".format(xrp['title'],'. ', xrp['body'], ' ...', xrp['url']))"
   ]
  },
  {
   "cell_type": "code",
   "execution_count": 6,
   "id": "prompt-farmer",
   "metadata": {
    "execution": {
     "iopub.execute_input": "2022-10-04T03:14:26.149244Z",
     "iopub.status.busy": "2022-10-04T03:14:26.147609Z",
     "iopub.status.idle": "2022-10-04T03:14:26.152604Z",
     "shell.execute_reply": "2022-10-04T03:14:26.151975Z"
    },
    "papermill": {
     "duration": 0.022764,
     "end_time": "2022-10-04T03:14:26.152830",
     "exception": false,
     "start_time": "2022-10-04T03:14:26.130066",
     "status": "completed"
    },
    "tags": []
   },
   "outputs": [
    {
     "data": {
      "text/markdown": [
       "- TRON Trades to Reach for its Resistance: Can TRX Cross $0.1?.  TRON is a decentralized open-source blockchain that runs on a Proof of Stake consensus. That means it is not a mineable cryptocurrency, mainly dependent on the lock-up of tokens by the holders. The investors expect a good return because the price has been consolidating within a range on the long-term view, which can be a &#8230; ... [| Skaityti daugiau](https://www.cryptonewsz.com/tron-trades-to-reach-for-its-resistance-can-trx-cross-0-1-usd/) "
      ],
      "text/plain": [
       "<IPython.core.display.Markdown object>"
      ]
     },
     "execution_count": 6,
     "metadata": {},
     "output_type": "execute_result"
    }
   ],
   "source": [
    "#hide_input\n",
    "#md('##### {}'.format(titleBTC)) \n",
    "md(\"- {}{} {}{} [| Skaityti daugiau]({}) \".format(trx['title'],'. ', trx['body'], ' ...', trx['url']))"
   ]
  },
  {
   "cell_type": "code",
   "execution_count": 7,
   "id": "illegal-greece",
   "metadata": {
    "execution": {
     "iopub.execute_input": "2022-10-04T03:14:26.187250Z",
     "iopub.status.busy": "2022-10-04T03:14:26.186419Z",
     "iopub.status.idle": "2022-10-04T03:14:26.193532Z",
     "shell.execute_reply": "2022-10-04T03:14:26.193000Z"
    },
    "papermill": {
     "duration": 0.026146,
     "end_time": "2022-10-04T03:14:26.193643",
     "exception": false,
     "start_time": "2022-10-04T03:14:26.167497",
     "status": "completed"
    },
    "tags": []
   },
   "outputs": [
    {
     "data": {
      "text/markdown": [
       "- Ethereum: This Merge aftermath may put ETH in a fix.  It has been a little more than two weeks since the world’s second largest cryptocurrency Ethereum [ETH] went through a landmark alteration. ETH managed to switch from the energy intensive proof-of-work (PoW) consensus model to the eco-friendly proof-of-stake (PoS) model, in what came to be known as the Merge In simple words, this Merge effectively [&#8230;] ... [| Skaityti daugiau](https://ambcrypto.com/ethereum-this-merge-aftermath-may-put-eth-in-a-fix/) "
      ],
      "text/plain": [
       "<IPython.core.display.Markdown object>"
      ]
     },
     "execution_count": 7,
     "metadata": {},
     "output_type": "execute_result"
    }
   ],
   "source": [
    "#hide_input\n",
    "#md('##### {}'.format(titleBTC)) \n",
    "md(\"- {}{} {}{} [| Skaityti daugiau]({}) \".format(eth['title'],'. ', eth['body'], ' ...', eth['url']))"
   ]
  },
  {
   "cell_type": "code",
   "execution_count": 8,
   "id": "sublime-lounge",
   "metadata": {
    "execution": {
     "iopub.execute_input": "2022-10-04T03:14:26.225274Z",
     "iopub.status.busy": "2022-10-04T03:14:26.224453Z",
     "iopub.status.idle": "2022-10-04T03:14:26.229024Z",
     "shell.execute_reply": "2022-10-04T03:14:26.229496Z"
    },
    "papermill": {
     "duration": 0.022407,
     "end_time": "2022-10-04T03:14:26.229673",
     "exception": false,
     "start_time": "2022-10-04T03:14:26.207266",
     "status": "completed"
    },
    "tags": []
   },
   "outputs": [
    {
     "data": {
      "text/markdown": [
       "- World’s Largest Banks Have Exposure to $DOT, $XRP, and $ADA, Study Shows.  A recently published study by the Basil Committee on Banking Supervision (BCBS) has revealed that the world’s top banks have exposure to around $9 billion worth of cryptocurrencies, including Polkadot ($DOT), Cardano ($ADA), and $XRP. According to the study, titled “Basil II Monitoring report” from the Bank of International Settlements (BIS), the two largest cryptocurrencies […] ... [| Skaityti daugiau](https://www.cryptoglobe.com/latest/2022/10/worlds-largest-banks-have-exposure-to-dot-xrp-and-ada-study-shows/) "
      ],
      "text/plain": [
       "<IPython.core.display.Markdown object>"
      ]
     },
     "execution_count": 8,
     "metadata": {},
     "output_type": "execute_result"
    }
   ],
   "source": [
    "#hide_input\n",
    "#md('##### {}'.format(titleBTC)) \n",
    "md(\"- {}{} {}{} [| Skaityti daugiau]({}) \".format(ada['title'],'. ', ada['body'], ' ...', ada['url']))"
   ]
  },
  {
   "cell_type": "code",
   "execution_count": 9,
   "id": "specified-ordering",
   "metadata": {
    "execution": {
     "iopub.execute_input": "2022-10-04T03:14:26.260337Z",
     "iopub.status.busy": "2022-10-04T03:14:26.259564Z",
     "iopub.status.idle": "2022-10-04T03:14:26.267105Z",
     "shell.execute_reply": "2022-10-04T03:14:26.266487Z"
    },
    "papermill": {
     "duration": 0.024378,
     "end_time": "2022-10-04T03:14:26.267240",
     "exception": false,
     "start_time": "2022-10-04T03:14:26.242862",
     "status": "completed"
    },
    "tags": []
   },
   "outputs": [
    {
     "data": {
      "text/markdown": [
       "- Kim Kardashian faces heavy penalty for illicit promotion of EMAX.  The United States Securities and Exchange Commission (SEC) has recently charged renowned American media personality Kim Kardashian for illicit social media promotion of a crypto token offered by EthereumMax (EMAX). SEC stated in a statement on October 3 that Kardashian did not disclose the payment she got for promoting the contentious cryptocurrency EMAX. However, the [&#8230;]The post Kim Kardashian faces heavy penalty for illicit promotion of EMAX appeared first on Blockchain, Crypto and Stock News. ... [| Skaityti daugiau](https://thecoinrise.com/kim-kardashian-faces-heavy-penalty-for-illicit-promotion-of-emax/) "
      ],
      "text/plain": [
       "<IPython.core.display.Markdown object>"
      ]
     },
     "execution_count": 9,
     "metadata": {},
     "output_type": "execute_result"
    }
   ],
   "source": [
    "#hide_input\n",
    "#md('##### {}'.format(titleBTC)) \n",
    "md(\"- {}{} {}{} [| Skaityti daugiau]({}) \".format(exchange['title'],'. ', exchange['body'], ' ...', exchange['url']))"
   ]
  },
  {
   "cell_type": "code",
   "execution_count": null,
   "id": "tender-livestock",
   "metadata": {
    "papermill": {
     "duration": 0.013883,
     "end_time": "2022-10-04T03:14:26.293691",
     "exception": false,
     "start_time": "2022-10-04T03:14:26.279808",
     "status": "completed"
    },
    "tags": []
   },
   "outputs": [],
   "source": []
  },
  {
   "cell_type": "code",
   "execution_count": null,
   "id": "appreciated-diamond",
   "metadata": {
    "papermill": {
     "duration": 0.013029,
     "end_time": "2022-10-04T03:14:26.319700",
     "exception": false,
     "start_time": "2022-10-04T03:14:26.306671",
     "status": "completed"
    },
    "tags": []
   },
   "outputs": [],
   "source": []
  },
  {
   "cell_type": "code",
   "execution_count": null,
   "id": "romance-sweden",
   "metadata": {
    "papermill": {
     "duration": 0.012884,
     "end_time": "2022-10-04T03:14:26.346711",
     "exception": false,
     "start_time": "2022-10-04T03:14:26.333827",
     "status": "completed"
    },
    "tags": []
   },
   "outputs": [],
   "source": []
  },
  {
   "cell_type": "code",
   "execution_count": null,
   "id": "dietary-statistics",
   "metadata": {
    "papermill": {
     "duration": 0.01233,
     "end_time": "2022-10-04T03:14:26.371704",
     "exception": false,
     "start_time": "2022-10-04T03:14:26.359374",
     "status": "completed"
    },
    "tags": []
   },
   "outputs": [],
   "source": []
  }
 ],
 "metadata": {
  "kernelspec": {
   "display_name": "Python 3",
   "language": "python",
   "name": "python3"
  },
  "language_info": {
   "codemirror_mode": {
    "name": "ipython",
    "version": 3
   },
   "file_extension": ".py",
   "mimetype": "text/x-python",
   "name": "python",
   "nbconvert_exporter": "python",
   "pygments_lexer": "ipython3",
   "version": "3.6.15"
  },
  "papermill": {
   "default_parameters": {},
   "duration": 16.217691,
   "end_time": "2022-10-04T03:14:26.904227",
   "environment_variables": {},
   "exception": null,
   "input_path": "Market-News.ipynb",
   "output_path": "Market-News.ipynb",
   "parameters": {},
   "start_time": "2022-10-04T03:14:10.686536",
   "version": "2.2.2"
  }
 },
 "nbformat": 4,
 "nbformat_minor": 5
}