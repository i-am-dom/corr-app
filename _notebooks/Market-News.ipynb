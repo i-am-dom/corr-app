{
 "cells": [
  {
   "cell_type": "markdown",
   "id": "short-greensboro",
   "metadata": {
    "papermill": {
     "duration": 0.012826,
     "end_time": "2022-11-21T02:54:33.458709",
     "exception": false,
     "start_time": "2022-11-21T02:54:33.445883",
     "status": "completed"
    },
    "tags": []
   },
   "source": [
    "# Kriptovaliutų naujienos"
   ]
  },
  {
   "cell_type": "code",
   "execution_count": 1,
   "id": "functioning-knowing",
   "metadata": {
    "execution": {
     "iopub.execute_input": "2022-11-21T02:54:33.488599Z",
     "iopub.status.busy": "2022-11-21T02:54:33.488010Z",
     "iopub.status.idle": "2022-11-21T02:54:34.728476Z",
     "shell.execute_reply": "2022-11-21T02:54:34.727926Z"
    },
    "papermill": {
     "duration": 1.260267,
     "end_time": "2022-11-21T02:54:34.728631",
     "exception": false,
     "start_time": "2022-11-21T02:54:33.468364",
     "status": "completed"
    },
    "tags": []
   },
   "outputs": [],
   "source": [
    "#hide_input\n",
    "import warnings\n",
    "warnings.filterwarnings('ignore')\n",
    "from scripts.read_data import read_api\n",
    "from scripts.read_data import read_news\n",
    "from scripts.read_data import read_covid\n",
    "import matplotlib.pyplot as plt \n",
    "from IPython.display import Markdown as md"
   ]
  },
  {
   "cell_type": "code",
   "execution_count": 2,
   "id": "shared-acceptance",
   "metadata": {
    "execution": {
     "iopub.execute_input": "2022-11-21T02:54:34.754490Z",
     "iopub.status.busy": "2022-11-21T02:54:34.753866Z",
     "iopub.status.idle": "2022-11-21T02:54:40.009793Z",
     "shell.execute_reply": "2022-11-21T02:54:40.008739Z"
    },
    "papermill": {
     "duration": 5.271849,
     "end_time": "2022-11-21T02:54:40.009941",
     "exception": false,
     "start_time": "2022-11-21T02:54:34.738092",
     "status": "completed"
    },
    "tags": []
   },
   "outputs": [],
   "source": [
    "#hide_input\n",
    "blockchain = read_news('blockchain') \n",
    "btc = read_news('btc') \n",
    "xrp = read_news('xrp') \n",
    "trx = read_news('trx') \n",
    "eth = read_news('eth')  \n",
    "ada = read_news('ada')\n",
    "exchange = read_news('exchange') "
   ]
  },
  {
   "cell_type": "code",
   "execution_count": 3,
   "id": "synthetic-notion",
   "metadata": {
    "execution": {
     "iopub.execute_input": "2022-11-21T02:54:40.035697Z",
     "iopub.status.busy": "2022-11-21T02:54:40.035088Z",
     "iopub.status.idle": "2022-11-21T02:54:40.038450Z",
     "shell.execute_reply": "2022-11-21T02:54:40.037913Z"
    },
    "papermill": {
     "duration": 0.018845,
     "end_time": "2022-11-21T02:54:40.038568",
     "exception": false,
     "start_time": "2022-11-21T02:54:40.019723",
     "status": "completed"
    },
    "tags": []
   },
   "outputs": [
    {
     "data": {
      "text/markdown": [
       "- LuLuFin Wins Best Network Accelerator at Ripple’s Annual Blockchain Innovation Awards.  The financial services company has been a major adopter of Ripple’s XRP for cross-border payments in the Asia Pacific region ... [| Skaityti daugiau](https://thenewscrypto.com/lulufin-wins-best-network-accelerator-at-ripples-annual-blockchain-innovation-awards/) "
      ],
      "text/plain": [
       "<IPython.core.display.Markdown object>"
      ]
     },
     "execution_count": 3,
     "metadata": {},
     "output_type": "execute_result"
    }
   ],
   "source": [
    "#hide_input\n",
    "#md('##### {}'.format(titleBTC)) \n",
    "md(\"- {}{} {}{} [| Skaityti daugiau]({}) \".format(blockchain['title'],'. ', blockchain['body'], ' ...', blockchain['url']))"
   ]
  },
  {
   "cell_type": "code",
   "execution_count": 4,
   "id": "aging-caution",
   "metadata": {
    "execution": {
     "iopub.execute_input": "2022-11-21T02:54:40.062412Z",
     "iopub.status.busy": "2022-11-21T02:54:40.061724Z",
     "iopub.status.idle": "2022-11-21T02:54:40.065028Z",
     "shell.execute_reply": "2022-11-21T02:54:40.064550Z"
    },
    "papermill": {
     "duration": 0.017266,
     "end_time": "2022-11-21T02:54:40.065138",
     "exception": false,
     "start_time": "2022-11-21T02:54:40.047872",
     "status": "completed"
    },
    "tags": []
   },
   "outputs": [
    {
     "data": {
      "text/markdown": [
       "- Bitcoin Price Grinds Lower, Why The Bears Are Not Done Yet.  Bitcoin price is slowly moving lower towards $15,500. BTC remains at a risk of more losses unless it settles above the $17,000 resistance zone. Bitcoin started a fresh decline below the $16,500 and $16,400 levels. The price is trading below $16,500 and the 100 hourly simple moving average. There is a key bearish trend line forming with resistance near $16,390 on the hourly chart of the BTC/USD pair (data feed from Kraken). The pair could start a decent increase if there is a move above the $16,500 resistance zone. Bitcoin Price Restarts Decline Bitcoin price failed to gain pace above the $17,000 resistance. BTC struggled to stay above the $16,650 level and started a fresh decline. The recent swing high was formed near $16,795 before the price dropped below the $16,500 support. There was a close below the $16,500 zone and the 100 hourly simple moving average. The bears even pushed the price towards the $16,150 level. A low is formed near $16,156 and the price is now consolidating losses. On the upside, an immediate resistance is near the $16,300 level. It is near the 23.6% Fib retracement level of the recent decline from the $16,795 swing high to $16,156 low. The first major resistance is near the $16,400 zone. There is also a key bearish trend line forming with resistance near $16,390 on the hourly chart of the BTC/USD pair. The next major resistance is near the $16,500 level. It is near the 50% Fib retracement level of the recent decline from the $16,795 swing high to $16,156 low. Source: BTCUSD on TradingView.com Bitcoin price must clear the trend line resistance and then the 100 hourly simple moving average to move into a positive zone. The next major resistance is near $17,000, above which the price could gain pace for a move towards the $18,000 zone. More Losses in BTC? If bitcoin fails to gain pace above the $16,400 resistance zone, it could continue to move down. An immediate support on the downside is near the $16,150 level. The next major support is near the $16,000 zone, below which the price might test the key support at $15,500. A clear move below the $15,500 support might send the price further lower. Technical indicators: Hourly MACD – The MACD is now gaining pace in the bearish zone. Hourly RSI (Relative Strength Index) – The RSI for BTC/USD is now in the oversold zone. Major Support Levels – $16,150, followed by $16,000. Major Resistance Levels – $16,350, $16,400 and $16,500. ... [| Skaityti daugiau](https://newsbtc.com/analysis/btc/bitcoin-price-grinds-lower-16k/) "
      ],
      "text/plain": [
       "<IPython.core.display.Markdown object>"
      ]
     },
     "execution_count": 4,
     "metadata": {},
     "output_type": "execute_result"
    }
   ],
   "source": [
    "#hide_input\n",
    "#md('##### {}'.format(titleBTC)) \n",
    "md(\"- {}{} {}{} [| Skaityti daugiau]({}) \".format(btc['title'],'. ', btc['body'], ' ...', btc['url']))"
   ]
  },
  {
   "cell_type": "code",
   "execution_count": 5,
   "id": "organic-actress",
   "metadata": {
    "execution": {
     "iopub.execute_input": "2022-11-21T02:54:40.088877Z",
     "iopub.status.busy": "2022-11-21T02:54:40.087674Z",
     "iopub.status.idle": "2022-11-21T02:54:40.091854Z",
     "shell.execute_reply": "2022-11-21T02:54:40.092404Z"
    },
    "papermill": {
     "duration": 0.017722,
     "end_time": "2022-11-21T02:54:40.092523",
     "exception": false,
     "start_time": "2022-11-21T02:54:40.074801",
     "status": "completed"
    },
    "tags": []
   },
   "outputs": [
    {
     "data": {
      "text/markdown": [
       "- LuLuFin Wins Best Network Accelerator at Ripple’s Annual Blockchain Innovation Awards.  The financial services company has been a major adopter of Ripple’s XRP for cross-border payments in the Asia Pacific region ... [| Skaityti daugiau](https://thenewscrypto.com/lulufin-wins-best-network-accelerator-at-ripples-annual-blockchain-innovation-awards/) "
      ],
      "text/plain": [
       "<IPython.core.display.Markdown object>"
      ]
     },
     "execution_count": 5,
     "metadata": {},
     "output_type": "execute_result"
    }
   ],
   "source": [
    "#hide_input\n",
    "#md('##### {}'.format(titleBTC)) \n",
    "md(\"- {}{} {}{} [| Skaityti daugiau]({}) \".format(xrp['title'],'. ', xrp['body'], ' ...', xrp['url']))"
   ]
  },
  {
   "cell_type": "code",
   "execution_count": 6,
   "id": "prompt-farmer",
   "metadata": {
    "execution": {
     "iopub.execute_input": "2022-11-21T02:54:40.116854Z",
     "iopub.status.busy": "2022-11-21T02:54:40.116288Z",
     "iopub.status.idle": "2022-11-21T02:54:40.119305Z",
     "shell.execute_reply": "2022-11-21T02:54:40.119851Z"
    },
    "papermill": {
     "duration": 0.01753,
     "end_time": "2022-11-21T02:54:40.119963",
     "exception": false,
     "start_time": "2022-11-21T02:54:40.102433",
     "status": "completed"
    },
    "tags": []
   },
   "outputs": [
    {
     "data": {
      "text/markdown": [
       "- Biggest Movers: ALGO Nearly 10% Higher, TRX Extends Recent Gains.  Algorand has been a notable exception in what has been a relatively bearish start to the weekend. On Nov. 19, the token rose by nearly 10%, as cryptocurrency markets mostly traded lower. Another noteworthy exception was tron, which climbed for a second consecutive day. Algorand (ALGO) Algorand (ALGO) was a notable gainer on Saturday, as ... [| Skaityti daugiau](https://news.bitcoin.com/biggest-movers-algo-nearly-10-higher-trx-extends-recent-gains/) "
      ],
      "text/plain": [
       "<IPython.core.display.Markdown object>"
      ]
     },
     "execution_count": 6,
     "metadata": {},
     "output_type": "execute_result"
    }
   ],
   "source": [
    "#hide_input\n",
    "#md('##### {}'.format(titleBTC)) \n",
    "md(\"- {}{} {}{} [| Skaityti daugiau]({}) \".format(trx['title'],'. ', trx['body'], ' ...', trx['url']))"
   ]
  },
  {
   "cell_type": "code",
   "execution_count": 7,
   "id": "illegal-greece",
   "metadata": {
    "execution": {
     "iopub.execute_input": "2022-11-21T02:54:40.145589Z",
     "iopub.status.busy": "2022-11-21T02:54:40.145009Z",
     "iopub.status.idle": "2022-11-21T02:54:40.148191Z",
     "shell.execute_reply": "2022-11-21T02:54:40.148640Z"
    },
    "papermill": {
     "duration": 0.01844,
     "end_time": "2022-11-21T02:54:40.148760",
     "exception": false,
     "start_time": "2022-11-21T02:54:40.130320",
     "status": "completed"
    },
    "tags": []
   },
   "outputs": [
    {
     "data": {
      "text/markdown": [
       "- Cryptocurrencies to Watch for the Week of November 20.  Most of the major cryptocurrencies ended the previous trading week pretty much unchanged. Bitcoin (BTC-USD) fell by 1.3% in the last seven days, and the second biggest crypto Ethereum (ETH-USD), is now down by 6.4%. This comes even though it's been two weeks since the FTX disaster, the collapse of the Sam Bankman-Fried (SBF) crypto empire, which is still affecting the markets. The crypto market, however, received a boost of hope last Tuesday, November 15, after fresh data from the U.S. Labor Department's latest PPI (Producer Price Index) report, which came in at 0.2% month-over-month against expectations of 0.4%. This can be seen as a sign that U.S. ... [| Skaityti daugiau](https://www.tipranks.com/news/article/cryptocurrencies-to-watch-for-the-week-of-november-20?utm_source=cryptocompare.com&utm_medium=referral) "
      ],
      "text/plain": [
       "<IPython.core.display.Markdown object>"
      ]
     },
     "execution_count": 7,
     "metadata": {},
     "output_type": "execute_result"
    }
   ],
   "source": [
    "#hide_input\n",
    "#md('##### {}'.format(titleBTC)) \n",
    "md(\"- {}{} {}{} [| Skaityti daugiau]({}) \".format(eth['title'],'. ', eth['body'], ' ...', eth['url']))"
   ]
  },
  {
   "cell_type": "code",
   "execution_count": 8,
   "id": "sublime-lounge",
   "metadata": {
    "execution": {
     "iopub.execute_input": "2022-11-21T02:54:40.176330Z",
     "iopub.status.busy": "2022-11-21T02:54:40.175760Z",
     "iopub.status.idle": "2022-11-21T02:54:40.179045Z",
     "shell.execute_reply": "2022-11-21T02:54:40.179550Z"
    },
    "papermill": {
     "duration": 0.019073,
     "end_time": "2022-11-21T02:54:40.179673",
     "exception": false,
     "start_time": "2022-11-21T02:54:40.160600",
     "status": "completed"
    },
    "tags": []
   },
   "outputs": [
    {
     "data": {
      "text/markdown": [
       "- Cardano price analysis: Price levels down to $0.319 as bearish pressure prevails.  Cardano price analysis shows a bearish momentum as the price declined to the $0.318 level today. The resistance for the ADA/USD pair is at the $0.3317 level and a break above this level may lead to further movement on the upside. The support for ADA/USD is present at $0.3182 and a break below this level … Cardano price analysis: Price levels down to $0.319 as bearish pressure prevails Read More » ... [| Skaityti daugiau](https://www.cryptopolitan.com/cardano-price-analysis-2022-11-20/) "
      ],
      "text/plain": [
       "<IPython.core.display.Markdown object>"
      ]
     },
     "execution_count": 8,
     "metadata": {},
     "output_type": "execute_result"
    }
   ],
   "source": [
    "#hide_input\n",
    "#md('##### {}'.format(titleBTC)) \n",
    "md(\"- {}{} {}{} [| Skaityti daugiau]({}) \".format(ada['title'],'. ', ada['body'], ' ...', ada['url']))"
   ]
  },
  {
   "cell_type": "code",
   "execution_count": 9,
   "id": "specified-ordering",
   "metadata": {
    "execution": {
     "iopub.execute_input": "2022-11-21T02:54:40.206967Z",
     "iopub.status.busy": "2022-11-21T02:54:40.206244Z",
     "iopub.status.idle": "2022-11-21T02:54:40.209943Z",
     "shell.execute_reply": "2022-11-21T02:54:40.209472Z"
    },
    "papermill": {
     "duration": 0.01949,
     "end_time": "2022-11-21T02:54:40.210050",
     "exception": false,
     "start_time": "2022-11-21T02:54:40.190560",
     "status": "completed"
    },
    "tags": []
   },
   "outputs": [
    {
     "data": {
      "text/markdown": [
       "- FTX Says It Owes Over $3 Billion to Its 50 Largest Creditors.  Although names are redacted, a court filing reveals more of the magnitude of the collapse of the exchange. ... [| Skaityti daugiau](https://decrypt.co/115158/ftx-owes-over-3-billion-to-50-largest-creditors) "
      ],
      "text/plain": [
       "<IPython.core.display.Markdown object>"
      ]
     },
     "execution_count": 9,
     "metadata": {},
     "output_type": "execute_result"
    }
   ],
   "source": [
    "#hide_input\n",
    "#md('##### {}'.format(titleBTC)) \n",
    "md(\"- {}{} {}{} [| Skaityti daugiau]({}) \".format(exchange['title'],'. ', exchange['body'], ' ...', exchange['url']))"
   ]
  },
  {
   "cell_type": "code",
   "execution_count": null,
   "id": "tender-livestock",
   "metadata": {
    "papermill": {
     "duration": 0.011246,
     "end_time": "2022-11-21T02:54:40.232494",
     "exception": false,
     "start_time": "2022-11-21T02:54:40.221248",
     "status": "completed"
    },
    "tags": []
   },
   "outputs": [],
   "source": []
  },
  {
   "cell_type": "code",
   "execution_count": null,
   "id": "appreciated-diamond",
   "metadata": {
    "papermill": {
     "duration": 0.011398,
     "end_time": "2022-11-21T02:54:40.255257",
     "exception": false,
     "start_time": "2022-11-21T02:54:40.243859",
     "status": "completed"
    },
    "tags": []
   },
   "outputs": [],
   "source": []
  },
  {
   "cell_type": "code",
   "execution_count": null,
   "id": "romance-sweden",
   "metadata": {
    "papermill": {
     "duration": 0.011168,
     "end_time": "2022-11-21T02:54:40.278528",
     "exception": false,
     "start_time": "2022-11-21T02:54:40.267360",
     "status": "completed"
    },
    "tags": []
   },
   "outputs": [],
   "source": []
  },
  {
   "cell_type": "code",
   "execution_count": null,
   "id": "dietary-statistics",
   "metadata": {
    "papermill": {
     "duration": 0.011214,
     "end_time": "2022-11-21T02:54:40.301072",
     "exception": false,
     "start_time": "2022-11-21T02:54:40.289858",
     "status": "completed"
    },
    "tags": []
   },
   "outputs": [],
   "source": []
  }
 ],
 "metadata": {
  "kernelspec": {
   "display_name": "Python 3",
   "language": "python",
   "name": "python3"
  },
  "language_info": {
   "codemirror_mode": {
    "name": "ipython",
    "version": 3
   },
   "file_extension": ".py",
   "mimetype": "text/x-python",
   "name": "python",
   "nbconvert_exporter": "python",
   "pygments_lexer": "ipython3",
   "version": "3.6.15"
  },
  "papermill": {
   "default_parameters": {},
   "duration": 8.314922,
   "end_time": "2022-11-21T02:54:40.832063",
   "environment_variables": {},
   "exception": null,
   "input_path": "Market-News.ipynb",
   "output_path": "Market-News.ipynb",
   "parameters": {},
   "start_time": "2022-11-21T02:54:32.517141",
   "version": "2.2.2"
  }
 },
 "nbformat": 4,
 "nbformat_minor": 5
}