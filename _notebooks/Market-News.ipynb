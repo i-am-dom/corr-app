{
 "cells": [
  {
   "cell_type": "markdown",
   "id": "short-greensboro",
   "metadata": {
    "papermill": {
     "duration": 0.01275,
     "end_time": "2022-02-07T01:59:28.007232",
     "exception": false,
     "start_time": "2022-02-07T01:59:27.994482",
     "status": "completed"
    },
    "tags": []
   },
   "source": [
    "# Kriptovaliutų naujienos"
   ]
  },
  {
   "cell_type": "code",
   "execution_count": 1,
   "id": "functioning-knowing",
   "metadata": {
    "execution": {
     "iopub.execute_input": "2022-02-07T01:59:28.036821Z",
     "iopub.status.busy": "2022-02-07T01:59:28.036291Z",
     "iopub.status.idle": "2022-02-07T01:59:29.319388Z",
     "shell.execute_reply": "2022-02-07T01:59:29.318833Z"
    },
    "papermill": {
     "duration": 1.302752,
     "end_time": "2022-02-07T01:59:29.319556",
     "exception": false,
     "start_time": "2022-02-07T01:59:28.016804",
     "status": "completed"
    },
    "tags": []
   },
   "outputs": [],
   "source": [
    "#hide_input\n",
    "import warnings\n",
    "warnings.filterwarnings('ignore')\n",
    "from scripts.read_data import read_api\n",
    "from scripts.read_data import read_news\n",
    "from scripts.read_data import read_covid\n",
    "import matplotlib.pyplot as plt \n",
    "from IPython.display import Markdown as md"
   ]
  },
  {
   "cell_type": "code",
   "execution_count": 2,
   "id": "shared-acceptance",
   "metadata": {
    "execution": {
     "iopub.execute_input": "2022-02-07T01:59:29.344728Z",
     "iopub.status.busy": "2022-02-07T01:59:29.344218Z",
     "iopub.status.idle": "2022-02-07T01:59:38.082797Z",
     "shell.execute_reply": "2022-02-07T01:59:38.083281Z"
    },
    "papermill": {
     "duration": 8.753907,
     "end_time": "2022-02-07T01:59:38.083453",
     "exception": false,
     "start_time": "2022-02-07T01:59:29.329546",
     "status": "completed"
    },
    "tags": []
   },
   "outputs": [],
   "source": [
    "#hide_input\n",
    "blockchain = read_news('blockchain') \n",
    "btc = read_news('btc') \n",
    "xrp = read_news('xrp') \n",
    "trx = read_news('trx') \n",
    "eth = read_news('eth')  \n",
    "ada = read_news('ada')\n",
    "exchange = read_news('exchange') "
   ]
  },
  {
   "cell_type": "code",
   "execution_count": 3,
   "id": "synthetic-notion",
   "metadata": {
    "execution": {
     "iopub.execute_input": "2022-02-07T01:59:38.108322Z",
     "iopub.status.busy": "2022-02-07T01:59:38.107775Z",
     "iopub.status.idle": "2022-02-07T01:59:38.110576Z",
     "shell.execute_reply": "2022-02-07T01:59:38.110163Z"
    },
    "papermill": {
     "duration": 0.017634,
     "end_time": "2022-02-07T01:59:38.110687",
     "exception": false,
     "start_time": "2022-02-07T01:59:38.093053",
     "status": "completed"
    },
    "tags": []
   },
   "outputs": [
    {
     "data": {
      "text/markdown": [
       "- $ADA: Crypto Exchange Kraken Calls Cardano an “ICO Warrior” and Praises Its “Design an Values”.  This article looks at highlights from a recently-released comprehensive report on layer one blockchain Cardano ($ADA) by Kraken Intelligence, the research arm of crypto exchange Kraken. Kraken’s 42-page highly impressive research report, which is titled “Cardano: A new generation in smart contract platform design”, was released a couple of days ago. After the introduction, the […] ... [| Skaityti daugiau](https://www.cryptoglobe.com/latest/2022/02/ada-crypto-exchange-kraken-calls-cardano-an-ico-warrior-and-praises-its-design-an-values/) "
      ],
      "text/plain": [
       "<IPython.core.display.Markdown object>"
      ]
     },
     "execution_count": 3,
     "metadata": {},
     "output_type": "execute_result"
    }
   ],
   "source": [
    "#hide_input\n",
    "#md('##### {}'.format(titleBTC)) \n",
    "md(\"- {}{} {}{} [| Skaityti daugiau]({}) \".format(blockchain['title'],'. ', blockchain['body'], ' ...', blockchain['url']))"
   ]
  },
  {
   "cell_type": "code",
   "execution_count": 4,
   "id": "aging-caution",
   "metadata": {
    "execution": {
     "iopub.execute_input": "2022-02-07T01:59:38.134073Z",
     "iopub.status.busy": "2022-02-07T01:59:38.133474Z",
     "iopub.status.idle": "2022-02-07T01:59:38.135654Z",
     "shell.execute_reply": "2022-02-07T01:59:38.136055Z"
    },
    "papermill": {
     "duration": 0.016111,
     "end_time": "2022-02-07T01:59:38.136167",
     "exception": false,
     "start_time": "2022-02-07T01:59:38.120056",
     "status": "completed"
    },
    "tags": []
   },
   "outputs": [
    {
     "data": {
      "text/markdown": [
       "- Facebook Sells Off All Its Libra-Based Assets.  Not long ago, Live Bitcoin News published an article discussing Facebook aka Meta and its decision to sell off any assets aligned with Libra/ Diem. It looks now like those assets have been sold and the project has officially come to an end. The Facebook Libra Project Is Now Fully Over The developers behind Diem...The post Facebook Sells Off All Its Libra-Based Assets appeared first on Live Bitcoin News. ... [| Skaityti daugiau](https://www.livebitcoinnews.com/facebook-sells-off-all-its-libra-based-assets/) "
      ],
      "text/plain": [
       "<IPython.core.display.Markdown object>"
      ]
     },
     "execution_count": 4,
     "metadata": {},
     "output_type": "execute_result"
    }
   ],
   "source": [
    "#hide_input\n",
    "#md('##### {}'.format(titleBTC)) \n",
    "md(\"- {}{} {}{} [| Skaityti daugiau]({}) \".format(btc['title'],'. ', btc['body'], ' ...', btc['url']))"
   ]
  },
  {
   "cell_type": "code",
   "execution_count": 5,
   "id": "organic-actress",
   "metadata": {
    "execution": {
     "iopub.execute_input": "2022-02-07T01:59:38.159557Z",
     "iopub.status.busy": "2022-02-07T01:59:38.159007Z",
     "iopub.status.idle": "2022-02-07T01:59:38.161727Z",
     "shell.execute_reply": "2022-02-07T01:59:38.162167Z"
    },
    "papermill": {
     "duration": 0.01664,
     "end_time": "2022-02-07T01:59:38.162277",
     "exception": false,
     "start_time": "2022-02-07T01:59:38.145637",
     "status": "completed"
    },
    "tags": []
   },
   "outputs": [
    {
     "data": {
      "text/markdown": [
       "- LUNA price analysis: Terra breaks $57, makes 3rd bullish candle.  LUNA price analysis for Feb 5 might bring a smile to many faces as the token is now aiming to enter the $60 price level. After the rise of Bitcoin to $41.5K, as per our Bitcoin price analysis for Feb 5, the entire market has been extremely bullish. The nearest competitors to LUNA, XRP, and DOT [&#8230;]The post LUNA price analysis: Terra breaks $57, makes 3rd bullish candle appeared first on Blockchain, Crypto and Stock News. ... [| Skaityti daugiau](https://thecoinrise.com/luna-price-analysis-terra-breaks-57-makes-3rd-bullish-candle/) "
      ],
      "text/plain": [
       "<IPython.core.display.Markdown object>"
      ]
     },
     "execution_count": 5,
     "metadata": {},
     "output_type": "execute_result"
    }
   ],
   "source": [
    "#hide_input\n",
    "#md('##### {}'.format(titleBTC)) \n",
    "md(\"- {}{} {}{} [| Skaityti daugiau]({}) \".format(xrp['title'],'. ', xrp['body'], ' ...', xrp['url']))"
   ]
  },
  {
   "cell_type": "code",
   "execution_count": 6,
   "id": "prompt-farmer",
   "metadata": {
    "execution": {
     "iopub.execute_input": "2022-02-07T01:59:38.186415Z",
     "iopub.status.busy": "2022-02-07T01:59:38.185450Z",
     "iopub.status.idle": "2022-02-07T01:59:38.188735Z",
     "shell.execute_reply": "2022-02-07T01:59:38.189189Z"
    },
    "papermill": {
     "duration": 0.01717,
     "end_time": "2022-02-07T01:59:38.189302",
     "exception": false,
     "start_time": "2022-02-07T01:59:38.172132",
     "status": "completed"
    },
    "tags": []
   },
   "outputs": [
    {
     "data": {
      "text/markdown": [
       "- Tron (TRX) Price Analysis: Bulls Aim Larger Increase.  Tron price started a decent recovery wave above the $0.0580 level against the US Dollar. TRX price is now trading above $0.0580 and the 55 simple moving average (4-hours). There is a key bullish trend line forming with support near $0.0585 on the 4-hours chart (data feed via Bitfinex). The pair could continue to move...The post Tron (TRX) Price Analysis: Bulls Aim Larger Increase appeared first on Live Bitcoin News. ... [| Skaityti daugiau](https://www.livebitcoinnews.com/tron-trx-price-analysis-bulls-aim-larger-increase/) "
      ],
      "text/plain": [
       "<IPython.core.display.Markdown object>"
      ]
     },
     "execution_count": 6,
     "metadata": {},
     "output_type": "execute_result"
    }
   ],
   "source": [
    "#hide_input\n",
    "#md('##### {}'.format(titleBTC)) \n",
    "md(\"- {}{} {}{} [| Skaityti daugiau]({}) \".format(trx['title'],'. ', trx['body'], ' ...', trx['url']))"
   ]
  },
  {
   "cell_type": "code",
   "execution_count": 7,
   "id": "illegal-greece",
   "metadata": {
    "execution": {
     "iopub.execute_input": "2022-02-07T01:59:38.213849Z",
     "iopub.status.busy": "2022-02-07T01:59:38.213348Z",
     "iopub.status.idle": "2022-02-07T01:59:38.215949Z",
     "shell.execute_reply": "2022-02-07T01:59:38.216325Z"
    },
    "papermill": {
     "duration": 0.016734,
     "end_time": "2022-02-07T01:59:38.216437",
     "exception": false,
     "start_time": "2022-02-07T01:59:38.199703",
     "status": "completed"
    },
    "tags": []
   },
   "outputs": [
    {
     "data": {
      "text/markdown": [
       "- This bullish Ethereum options trade targets $3.1K ETH price with zero liquidation risk.  The crypto market is starting to turn around, raising opportunities for risk averse traders to use the Long Condor options strategy to long ETH.  ... [| Skaityti daugiau](https://cointelegraph.com/news/this-bullish-ethereum-options-trade-targets-3-1k-eth-price-with-zero-liquidation-risk) "
      ],
      "text/plain": [
       "<IPython.core.display.Markdown object>"
      ]
     },
     "execution_count": 7,
     "metadata": {},
     "output_type": "execute_result"
    }
   ],
   "source": [
    "#hide_input\n",
    "#md('##### {}'.format(titleBTC)) \n",
    "md(\"- {}{} {}{} [| Skaityti daugiau]({}) \".format(eth['title'],'. ', eth['body'], ' ...', eth['url']))"
   ]
  },
  {
   "cell_type": "code",
   "execution_count": 8,
   "id": "sublime-lounge",
   "metadata": {
    "execution": {
     "iopub.execute_input": "2022-02-07T01:59:38.241601Z",
     "iopub.status.busy": "2022-02-07T01:59:38.241092Z",
     "iopub.status.idle": "2022-02-07T01:59:38.244289Z",
     "shell.execute_reply": "2022-02-07T01:59:38.243890Z"
    },
    "papermill": {
     "duration": 0.017446,
     "end_time": "2022-02-07T01:59:38.244387",
     "exception": false,
     "start_time": "2022-02-07T01:59:38.226941",
     "status": "completed"
    },
    "tags": []
   },
   "outputs": [
    {
     "data": {
      "text/markdown": [
       "- $ADA: Crypto Exchange Kraken Calls Cardano an “ICO Warrior” and Praises Its “Design an Values”.  This article looks at highlights from a recently-released comprehensive report on layer one blockchain Cardano ($ADA) by Kraken Intelligence, the research arm of crypto exchange Kraken. Kraken’s 42-page highly impressive research report, which is titled “Cardano: A new generation in smart contract platform design”, was released a couple of days ago. After the introduction, the […] ... [| Skaityti daugiau](https://www.cryptoglobe.com/latest/2022/02/ada-crypto-exchange-kraken-calls-cardano-an-ico-warrior-and-praises-its-design-an-values/) "
      ],
      "text/plain": [
       "<IPython.core.display.Markdown object>"
      ]
     },
     "execution_count": 8,
     "metadata": {},
     "output_type": "execute_result"
    }
   ],
   "source": [
    "#hide_input\n",
    "#md('##### {}'.format(titleBTC)) \n",
    "md(\"- {}{} {}{} [| Skaityti daugiau]({}) \".format(ada['title'],'. ', ada['body'], ' ...', ada['url']))"
   ]
  },
  {
   "cell_type": "code",
   "execution_count": 9,
   "id": "specified-ordering",
   "metadata": {
    "execution": {
     "iopub.execute_input": "2022-02-07T01:59:38.269920Z",
     "iopub.status.busy": "2022-02-07T01:59:38.269421Z",
     "iopub.status.idle": "2022-02-07T01:59:38.272441Z",
     "shell.execute_reply": "2022-02-07T01:59:38.272040Z"
    },
    "papermill": {
     "duration": 0.017417,
     "end_time": "2022-02-07T01:59:38.272539",
     "exception": false,
     "start_time": "2022-02-07T01:59:38.255122",
     "status": "completed"
    },
    "tags": []
   },
   "outputs": [
    {
     "data": {
      "text/markdown": [
       "- $ADA: Crypto Exchange Kraken Calls Cardano an “ICO Warrior” and Praises Its “Design an Values”.  This article looks at highlights from a recently-released comprehensive report on layer one blockchain Cardano ($ADA) by Kraken Intelligence, the research arm of crypto exchange Kraken. Kraken’s 42-page highly impressive research report, which is titled “Cardano: A new generation in smart contract platform design”, was released a couple of days ago. After the introduction, the […] ... [| Skaityti daugiau](https://www.cryptoglobe.com/latest/2022/02/ada-crypto-exchange-kraken-calls-cardano-an-ico-warrior-and-praises-its-design-an-values/) "
      ],
      "text/plain": [
       "<IPython.core.display.Markdown object>"
      ]
     },
     "execution_count": 9,
     "metadata": {},
     "output_type": "execute_result"
    }
   ],
   "source": [
    "#hide_input\n",
    "#md('##### {}'.format(titleBTC)) \n",
    "md(\"- {}{} {}{} [| Skaityti daugiau]({}) \".format(exchange['title'],'. ', exchange['body'], ' ...', exchange['url']))"
   ]
  },
  {
   "cell_type": "code",
   "execution_count": null,
   "id": "tender-livestock",
   "metadata": {
    "papermill": {
     "duration": 0.011025,
     "end_time": "2022-02-07T01:59:38.294608",
     "exception": false,
     "start_time": "2022-02-07T01:59:38.283583",
     "status": "completed"
    },
    "tags": []
   },
   "outputs": [],
   "source": []
  },
  {
   "cell_type": "code",
   "execution_count": null,
   "id": "appreciated-diamond",
   "metadata": {
    "papermill": {
     "duration": 0.011059,
     "end_time": "2022-02-07T01:59:38.316944",
     "exception": false,
     "start_time": "2022-02-07T01:59:38.305885",
     "status": "completed"
    },
    "tags": []
   },
   "outputs": [],
   "source": []
  },
  {
   "cell_type": "code",
   "execution_count": null,
   "id": "romance-sweden",
   "metadata": {
    "papermill": {
     "duration": 0.011047,
     "end_time": "2022-02-07T01:59:38.339180",
     "exception": false,
     "start_time": "2022-02-07T01:59:38.328133",
     "status": "completed"
    },
    "tags": []
   },
   "outputs": [],
   "source": []
  },
  {
   "cell_type": "code",
   "execution_count": null,
   "id": "dietary-statistics",
   "metadata": {
    "papermill": {
     "duration": 0.011355,
     "end_time": "2022-02-07T01:59:38.361648",
     "exception": false,
     "start_time": "2022-02-07T01:59:38.350293",
     "status": "completed"
    },
    "tags": []
   },
   "outputs": [],
   "source": []
  }
 ],
 "metadata": {
  "kernelspec": {
   "display_name": "Python 3",
   "language": "python",
   "name": "python3"
  },
  "language_info": {
   "codemirror_mode": {
    "name": "ipython",
    "version": 3
   },
   "file_extension": ".py",
   "mimetype": "text/x-python",
   "name": "python",
   "nbconvert_exporter": "python",
   "pygments_lexer": "ipython3",
   "version": "3.6.15"
  },
  "papermill": {
   "default_parameters": {},
   "duration": 11.713495,
   "end_time": "2022-02-07T01:59:38.790630",
   "environment_variables": {},
   "exception": null,
   "input_path": "Market-News.ipynb",
   "output_path": "Market-News.ipynb",
   "parameters": {},
   "start_time": "2022-02-07T01:59:27.077135",
   "version": "2.2.2"
  }
 },
 "nbformat": 4,
 "nbformat_minor": 5
}