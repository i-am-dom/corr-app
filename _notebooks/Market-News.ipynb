{
 "cells": [
  {
   "cell_type": "markdown",
   "id": "short-greensboro",
   "metadata": {
    "papermill": {
     "duration": 0.013422,
     "end_time": "2022-11-01T03:34:27.252604",
     "exception": false,
     "start_time": "2022-11-01T03:34:27.239182",
     "status": "completed"
    },
    "tags": []
   },
   "source": [
    "# Kriptovaliutų naujienos"
   ]
  },
  {
   "cell_type": "code",
   "execution_count": 1,
   "id": "functioning-knowing",
   "metadata": {
    "execution": {
     "iopub.execute_input": "2022-11-01T03:34:27.282196Z",
     "iopub.status.busy": "2022-11-01T03:34:27.281598Z",
     "iopub.status.idle": "2022-11-01T03:34:28.507434Z",
     "shell.execute_reply": "2022-11-01T03:34:28.506432Z"
    },
    "papermill": {
     "duration": 1.245355,
     "end_time": "2022-11-01T03:34:28.507586",
     "exception": false,
     "start_time": "2022-11-01T03:34:27.262231",
     "status": "completed"
    },
    "tags": []
   },
   "outputs": [],
   "source": [
    "#hide_input\n",
    "import warnings\n",
    "warnings.filterwarnings('ignore')\n",
    "from scripts.read_data import read_api\n",
    "from scripts.read_data import read_news\n",
    "from scripts.read_data import read_covid\n",
    "import matplotlib.pyplot as plt \n",
    "from IPython.display import Markdown as md"
   ]
  },
  {
   "cell_type": "code",
   "execution_count": 2,
   "id": "shared-acceptance",
   "metadata": {
    "execution": {
     "iopub.execute_input": "2022-11-01T03:34:28.533091Z",
     "iopub.status.busy": "2022-11-01T03:34:28.531908Z",
     "iopub.status.idle": "2022-11-01T03:34:38.430793Z",
     "shell.execute_reply": "2022-11-01T03:34:38.430227Z"
    },
    "papermill": {
     "duration": 9.913866,
     "end_time": "2022-11-01T03:34:38.430932",
     "exception": false,
     "start_time": "2022-11-01T03:34:28.517066",
     "status": "completed"
    },
    "tags": []
   },
   "outputs": [],
   "source": [
    "#hide_input\n",
    "blockchain = read_news('blockchain') \n",
    "btc = read_news('btc') \n",
    "xrp = read_news('xrp') \n",
    "trx = read_news('trx') \n",
    "eth = read_news('eth')  \n",
    "ada = read_news('ada')\n",
    "exchange = read_news('exchange') "
   ]
  },
  {
   "cell_type": "code",
   "execution_count": 3,
   "id": "synthetic-notion",
   "metadata": {
    "execution": {
     "iopub.execute_input": "2022-11-01T03:34:38.457059Z",
     "iopub.status.busy": "2022-11-01T03:34:38.456382Z",
     "iopub.status.idle": "2022-11-01T03:34:38.459454Z",
     "shell.execute_reply": "2022-11-01T03:34:38.459873Z"
    },
    "papermill": {
     "duration": 0.018693,
     "end_time": "2022-11-01T03:34:38.460001",
     "exception": false,
     "start_time": "2022-11-01T03:34:38.441308",
     "status": "completed"
    },
    "tags": []
   },
   "outputs": [
    {
     "data": {
      "text/markdown": [
       "- Aave’s TVL witnesses a rise, but can AAVE benefit from these recent updates.  As of 31 October, Aave had been experiencing a surge in its Total Value Locked (TVL), according to statistics from DefiLlama. Following the initial release of the protocol, the team went on to develop versions 2 and 3. And each version was tailored to a particular lending business. The TVL observed was the combination of [&#8230;] ... [| Skaityti daugiau](https://ambcrypto.com/aaves-tvl-witnesses-a-rise-but-can-aave-benefit-from-these-recent-updates/) "
      ],
      "text/plain": [
       "<IPython.core.display.Markdown object>"
      ]
     },
     "execution_count": 3,
     "metadata": {},
     "output_type": "execute_result"
    }
   ],
   "source": [
    "#hide_input\n",
    "#md('##### {}'.format(titleBTC)) \n",
    "md(\"- {}{} {}{} [| Skaityti daugiau]({}) \".format(blockchain['title'],'. ', blockchain['body'], ' ...', blockchain['url']))"
   ]
  },
  {
   "cell_type": "code",
   "execution_count": 4,
   "id": "aging-caution",
   "metadata": {
    "execution": {
     "iopub.execute_input": "2022-11-01T03:34:38.484560Z",
     "iopub.status.busy": "2022-11-01T03:34:38.483896Z",
     "iopub.status.idle": "2022-11-01T03:34:38.489169Z",
     "shell.execute_reply": "2022-11-01T03:34:38.488628Z"
    },
    "papermill": {
     "duration": 0.019862,
     "end_time": "2022-11-01T03:34:38.489300",
     "exception": false,
     "start_time": "2022-11-01T03:34:38.469438",
     "status": "completed"
    },
    "tags": []
   },
   "outputs": [
    {
     "data": {
      "text/markdown": [
       "- Bitcoin Price Close Above 100 SMA Could Spark A Fresh Surge: Here’s Why.  Bitcoin price started a downside correction below $20,500 against the US Dollar. BTC could start a fresh surge if it clears the 100 hourly SMA and then $21,000. Bitcoin is recovering losses from the $20,250 support zone. The price is trading below $20,700 and the 100 hourly simple moving average. There is a major bearish trend line forming with resistance near $20,680 on the hourly chart of the BTC/USD pair (data feed from Kraken). The pair could start another upward move if it clears the 100 hourly SMA and then $21,000. Bitcoin Price Remains Supported Bitcoin price started a downside correction after it failed to surpass the $21,000 resistance zone. BTC corrected lower below the $20,600 and $20,500 levels. The decline gained pace below the $20,500 level and the 100 hourly simple moving average. However, the bulls were active near the $20,250 level. A low was formed near $20,250 and the price started a steady upward move. There was a wave above the $20,400 and $20,500 levels. Bitcoin price climbed above the 23.6% Fib retracement level of the downward move from the $21,074 swing high to $20,250 low. On the upside, an immediate resistance is near the $20,600 zone and the 100 hourly simple moving average. The first major resistance sits near the $20,700 level. There is also a major bearish trend line forming with resistance near $20,680 on the hourly chart of the BTC/USD pair. The trend line is near the 50% Fib retracement level ... ... [| Skaityti daugiau](https://www.newsbtc.com/analysis/btc/bitcoin-price-fresh-surge-21k/) "
      ],
      "text/plain": [
       "<IPython.core.display.Markdown object>"
      ]
     },
     "execution_count": 4,
     "metadata": {},
     "output_type": "execute_result"
    }
   ],
   "source": [
    "#hide_input\n",
    "#md('##### {}'.format(titleBTC)) \n",
    "md(\"- {}{} {}{} [| Skaityti daugiau]({}) \".format(btc['title'],'. ', btc['body'], ' ...', btc['url']))"
   ]
  },
  {
   "cell_type": "code",
   "execution_count": 5,
   "id": "organic-actress",
   "metadata": {
    "execution": {
     "iopub.execute_input": "2022-11-01T03:34:38.514040Z",
     "iopub.status.busy": "2022-11-01T03:34:38.513445Z",
     "iopub.status.idle": "2022-11-01T03:34:38.516555Z",
     "shell.execute_reply": "2022-11-01T03:34:38.517029Z"
    },
    "papermill": {
     "duration": 0.018062,
     "end_time": "2022-11-01T03:34:38.517164",
     "exception": false,
     "start_time": "2022-11-01T03:34:38.499102",
     "status": "completed"
    },
    "tags": []
   },
   "outputs": [
    {
     "data": {
      "text/markdown": [
       "- Coinbase To Support Ripple In its Case Against SEC ! Is The End Of Lawsuit Nearing?.  The post Coinbase To Support Ripple In its Case Against SEC ! Is The End Of Lawsuit Nearing? appeared first on Coinpedia Fintech NewsThe long-running Ripple vs SEC case finally seems to be coming to an end with SEC’s recent summary judgment filing and Ripple gaining major victory after the US court ordered SEC to hand over Hinman documents. The way the developments are shaping up points heavily toward a possible win for Ripple. Amidst all these the &#8230; ... [| Skaityti daugiau](https://coinpedia.org/ripple/coinbase-to-support-ripple-in-its-case-against-sec-is-the-end-of-lawsuit-nearing/) "
      ],
      "text/plain": [
       "<IPython.core.display.Markdown object>"
      ]
     },
     "execution_count": 5,
     "metadata": {},
     "output_type": "execute_result"
    }
   ],
   "source": [
    "#hide_input\n",
    "#md('##### {}'.format(titleBTC)) \n",
    "md(\"- {}{} {}{} [| Skaityti daugiau]({}) \".format(xrp['title'],'. ', xrp['body'], ' ...', xrp['url']))"
   ]
  },
  {
   "cell_type": "code",
   "execution_count": 6,
   "id": "prompt-farmer",
   "metadata": {
    "execution": {
     "iopub.execute_input": "2022-11-01T03:34:38.542568Z",
     "iopub.status.busy": "2022-11-01T03:34:38.541987Z",
     "iopub.status.idle": "2022-11-01T03:34:38.545573Z",
     "shell.execute_reply": "2022-11-01T03:34:38.545097Z"
    },
    "papermill": {
     "duration": 0.018494,
     "end_time": "2022-11-01T03:34:38.545681",
     "exception": false,
     "start_time": "2022-11-01T03:34:38.527187",
     "status": "completed"
    },
    "tags": []
   },
   "outputs": [
    {
     "data": {
      "text/markdown": [
       "- Has TRX’s transaction speed put bears and bulls in a fix? The answer may lie in these….  Blockchains have often been compared to each other for how fast they can process a transaction, as it is a factor that helps in understanding the capabilities of a blockchain. Tron [TRX] recently topped the list of blockchains in terms of transaction speed. This was a massive achievement for the chain as it represented the [&#8230;] ... [| Skaityti daugiau](https://ambcrypto.com/has-trxs-transaction-speed-put-bears-and-bulls-in-a-fix-the-answer-may-lie-in-these/) "
      ],
      "text/plain": [
       "<IPython.core.display.Markdown object>"
      ]
     },
     "execution_count": 6,
     "metadata": {},
     "output_type": "execute_result"
    }
   ],
   "source": [
    "#hide_input\n",
    "#md('##### {}'.format(titleBTC)) \n",
    "md(\"- {}{} {}{} [| Skaityti daugiau]({}) \".format(trx['title'],'. ', trx['body'], ' ...', trx['url']))"
   ]
  },
  {
   "cell_type": "code",
   "execution_count": 7,
   "id": "illegal-greece",
   "metadata": {
    "execution": {
     "iopub.execute_input": "2022-11-01T03:34:38.571698Z",
     "iopub.status.busy": "2022-11-01T03:34:38.571128Z",
     "iopub.status.idle": "2022-11-01T03:34:38.574733Z",
     "shell.execute_reply": "2022-11-01T03:34:38.574172Z"
    },
    "papermill": {
     "duration": 0.018684,
     "end_time": "2022-11-01T03:34:38.574840",
     "exception": false,
     "start_time": "2022-11-01T03:34:38.556156",
     "status": "completed"
    },
    "tags": []
   },
   "outputs": [
    {
     "data": {
      "text/markdown": [
       "- What’s driving crypto prices this week? Are we finally in a bull market?.  In the past seven days, major cryptocurrency prices have been soaring across the board. From Bitcoin to Ethereum, Doge, and Shiba Inu, almost every major crypto has shown tremendous recovery this week. The global crypto market cap is up by nearly 8% in a week, reaching $1 trillion for the first time in 45 days.&#160; &#8230;  What’s driving crypto prices this week? Are we finally in a bull market? Read More &#187; ... [| Skaityti daugiau](https://www.cryptopolitan.com/whats-driving-crypto-prices-this-week/) "
      ],
      "text/plain": [
       "<IPython.core.display.Markdown object>"
      ]
     },
     "execution_count": 7,
     "metadata": {},
     "output_type": "execute_result"
    }
   ],
   "source": [
    "#hide_input\n",
    "#md('##### {}'.format(titleBTC)) \n",
    "md(\"- {}{} {}{} [| Skaityti daugiau]({}) \".format(eth['title'],'. ', eth['body'], ' ...', eth['url']))"
   ]
  },
  {
   "cell_type": "code",
   "execution_count": 8,
   "id": "sublime-lounge",
   "metadata": {
    "execution": {
     "iopub.execute_input": "2022-11-01T03:34:38.602074Z",
     "iopub.status.busy": "2022-11-01T03:34:38.601508Z",
     "iopub.status.idle": "2022-11-01T03:34:38.605143Z",
     "shell.execute_reply": "2022-11-01T03:34:38.604556Z"
    },
    "papermill": {
     "duration": 0.0185,
     "end_time": "2022-11-01T03:34:38.605251",
     "exception": false,
     "start_time": "2022-11-01T03:34:38.586751",
     "status": "completed"
    },
    "tags": []
   },
   "outputs": [
    {
     "data": {
      "text/markdown": [
       "- Cardano: Popular Crypto Analyst Points to ‘Massive Area to Buy’ $ADA.  Popular cryptocurrency analyst Michaël van de Poppe has recently shared his thoughts on the smart contract platform Cardano ($ADA), and pointed to a “long-term, massive area to buy” the cryptocurrency. In a tweet van de Poppe shared with his over 600,000 followers on the microblogging platform, the analyst noted that Cardano is near a “massive area […] ... [| Skaityti daugiau](https://www.cryptoglobe.com/latest/2022/11/cardano-popular-crypto-analyst-points-to-massive-area-to-buy-ada/) "
      ],
      "text/plain": [
       "<IPython.core.display.Markdown object>"
      ]
     },
     "execution_count": 8,
     "metadata": {},
     "output_type": "execute_result"
    }
   ],
   "source": [
    "#hide_input\n",
    "#md('##### {}'.format(titleBTC)) \n",
    "md(\"- {}{} {}{} [| Skaityti daugiau]({}) \".format(ada['title'],'. ', ada['body'], ' ...', ada['url']))"
   ]
  },
  {
   "cell_type": "code",
   "execution_count": 9,
   "id": "specified-ordering",
   "metadata": {
    "execution": {
     "iopub.execute_input": "2022-11-01T03:34:38.632538Z",
     "iopub.status.busy": "2022-11-01T03:34:38.631294Z",
     "iopub.status.idle": "2022-11-01T03:34:38.635592Z",
     "shell.execute_reply": "2022-11-01T03:34:38.636010Z"
    },
    "papermill": {
     "duration": 0.019925,
     "end_time": "2022-11-01T03:34:38.636141",
     "exception": false,
     "start_time": "2022-11-01T03:34:38.616216",
     "status": "completed"
    },
    "tags": []
   },
   "outputs": [
    {
     "data": {
      "text/markdown": [
       "- Coinbase seeks to join Ripple’s legal fight against the SEC.  Crypto exchange Coinbase has filed documentation asking permission to help Ripple Labs in its ongoing legal battle with the SEC. ... [| Skaityti daugiau](https://cointelegraph.com/news/coinbase-seeks-to-join-ripple-s-legal-fight-against-the-sec) "
      ],
      "text/plain": [
       "<IPython.core.display.Markdown object>"
      ]
     },
     "execution_count": 9,
     "metadata": {},
     "output_type": "execute_result"
    }
   ],
   "source": [
    "#hide_input\n",
    "#md('##### {}'.format(titleBTC)) \n",
    "md(\"- {}{} {}{} [| Skaityti daugiau]({}) \".format(exchange['title'],'. ', exchange['body'], ' ...', exchange['url']))"
   ]
  },
  {
   "cell_type": "code",
   "execution_count": null,
   "id": "tender-livestock",
   "metadata": {
    "papermill": {
     "duration": 0.011453,
     "end_time": "2022-11-01T03:34:38.658932",
     "exception": false,
     "start_time": "2022-11-01T03:34:38.647479",
     "status": "completed"
    },
    "tags": []
   },
   "outputs": [],
   "source": []
  },
  {
   "cell_type": "code",
   "execution_count": null,
   "id": "appreciated-diamond",
   "metadata": {
    "papermill": {
     "duration": 0.011275,
     "end_time": "2022-11-01T03:34:38.681660",
     "exception": false,
     "start_time": "2022-11-01T03:34:38.670385",
     "status": "completed"
    },
    "tags": []
   },
   "outputs": [],
   "source": []
  },
  {
   "cell_type": "code",
   "execution_count": null,
   "id": "romance-sweden",
   "metadata": {
    "papermill": {
     "duration": 0.011302,
     "end_time": "2022-11-01T03:34:38.704310",
     "exception": false,
     "start_time": "2022-11-01T03:34:38.693008",
     "status": "completed"
    },
    "tags": []
   },
   "outputs": [],
   "source": []
  },
  {
   "cell_type": "code",
   "execution_count": null,
   "id": "dietary-statistics",
   "metadata": {
    "papermill": {
     "duration": 0.011318,
     "end_time": "2022-11-01T03:34:38.727052",
     "exception": false,
     "start_time": "2022-11-01T03:34:38.715734",
     "status": "completed"
    },
    "tags": []
   },
   "outputs": [],
   "source": []
  }
 ],
 "metadata": {
  "kernelspec": {
   "display_name": "Python 3",
   "language": "python",
   "name": "python3"
  },
  "language_info": {
   "codemirror_mode": {
    "name": "ipython",
    "version": 3
   },
   "file_extension": ".py",
   "mimetype": "text/x-python",
   "name": "python",
   "nbconvert_exporter": "python",
   "pygments_lexer": "ipython3",
   "version": "3.6.15"
  },
  "papermill": {
   "default_parameters": {},
   "duration": 12.935728,
   "end_time": "2022-11-01T03:34:39.257832",
   "environment_variables": {},
   "exception": null,
   "input_path": "Market-News.ipynb",
   "output_path": "Market-News.ipynb",
   "parameters": {},
   "start_time": "2022-11-01T03:34:26.322104",
   "version": "2.2.2"
  }
 },
 "nbformat": 4,
 "nbformat_minor": 5
}