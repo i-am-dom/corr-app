{
 "cells": [
  {
   "cell_type": "markdown",
   "id": "short-greensboro",
   "metadata": {
    "papermill": {
     "duration": 0.013609,
     "end_time": "2022-11-17T02:50:14.555982",
     "exception": false,
     "start_time": "2022-11-17T02:50:14.542373",
     "status": "completed"
    },
    "tags": []
   },
   "source": [
    "# Kriptovaliutų naujienos"
   ]
  },
  {
   "cell_type": "code",
   "execution_count": 1,
   "id": "functioning-knowing",
   "metadata": {
    "execution": {
     "iopub.execute_input": "2022-11-17T02:50:14.585388Z",
     "iopub.status.busy": "2022-11-17T02:50:14.584797Z",
     "iopub.status.idle": "2022-11-17T02:50:15.785739Z",
     "shell.execute_reply": "2022-11-17T02:50:15.786278Z"
    },
    "papermill": {
     "duration": 1.220915,
     "end_time": "2022-11-17T02:50:15.786462",
     "exception": false,
     "start_time": "2022-11-17T02:50:14.565547",
     "status": "completed"
    },
    "tags": []
   },
   "outputs": [],
   "source": [
    "#hide_input\n",
    "import warnings\n",
    "warnings.filterwarnings('ignore')\n",
    "from scripts.read_data import read_api\n",
    "from scripts.read_data import read_news\n",
    "from scripts.read_data import read_covid\n",
    "import matplotlib.pyplot as plt \n",
    "from IPython.display import Markdown as md"
   ]
  },
  {
   "cell_type": "code",
   "execution_count": 2,
   "id": "shared-acceptance",
   "metadata": {
    "execution": {
     "iopub.execute_input": "2022-11-17T02:50:15.812875Z",
     "iopub.status.busy": "2022-11-17T02:50:15.812070Z",
     "iopub.status.idle": "2022-11-17T02:50:20.597778Z",
     "shell.execute_reply": "2022-11-17T02:50:20.596749Z"
    },
    "papermill": {
     "duration": 4.800833,
     "end_time": "2022-11-17T02:50:20.597922",
     "exception": false,
     "start_time": "2022-11-17T02:50:15.797089",
     "status": "completed"
    },
    "tags": []
   },
   "outputs": [],
   "source": [
    "#hide_input\n",
    "blockchain = read_news('blockchain') \n",
    "btc = read_news('btc') \n",
    "xrp = read_news('xrp') \n",
    "trx = read_news('trx') \n",
    "eth = read_news('eth')  \n",
    "ada = read_news('ada')\n",
    "exchange = read_news('exchange') "
   ]
  },
  {
   "cell_type": "code",
   "execution_count": 3,
   "id": "synthetic-notion",
   "metadata": {
    "execution": {
     "iopub.execute_input": "2022-11-17T02:50:20.622638Z",
     "iopub.status.busy": "2022-11-17T02:50:20.622032Z",
     "iopub.status.idle": "2022-11-17T02:50:20.625382Z",
     "shell.execute_reply": "2022-11-17T02:50:20.624826Z"
    },
    "papermill": {
     "duration": 0.01782,
     "end_time": "2022-11-17T02:50:20.625489",
     "exception": false,
     "start_time": "2022-11-17T02:50:20.607669",
     "status": "completed"
    },
    "tags": []
   },
   "outputs": [
    {
     "data": {
      "text/markdown": [
       "- Shiba Inu To Dominate Major Altcoins Soon! SHIB Price Is Poised To Kick A Massive Explosion.  The post Shiba Inu To Dominate Major Altcoins Soon! SHIB Price Is Poised To Kick A Massive Explosion appeared first on Coinpedia Fintech News While the crypto market has been severely affected by the recent collapse of famous crypto exchange giant FTX, the SHIB community continues to broader its adoption due to a potential announcement from the SHIB’s team regarding its collectable card game (CCG) ‘Shiba Eternity’ and upcoming layer-2 blockchain solution ‘Shibarium’. Since its inception, the ‘dog-themed’ meme … ... [| Skaityti daugiau](https://coinpedia.org/price-analysis/shiba-inu-to-dominate-major-altcoins-soon-shib-price-is-poised-to-kick-a-massive-explosion/) "
      ],
      "text/plain": [
       "<IPython.core.display.Markdown object>"
      ]
     },
     "execution_count": 3,
     "metadata": {},
     "output_type": "execute_result"
    }
   ],
   "source": [
    "#hide_input\n",
    "#md('##### {}'.format(titleBTC)) \n",
    "md(\"- {}{} {}{} [| Skaityti daugiau]({}) \".format(blockchain['title'],'. ', blockchain['body'], ' ...', blockchain['url']))"
   ]
  },
  {
   "cell_type": "code",
   "execution_count": 4,
   "id": "aging-caution",
   "metadata": {
    "execution": {
     "iopub.execute_input": "2022-11-17T02:50:20.649316Z",
     "iopub.status.busy": "2022-11-17T02:50:20.648740Z",
     "iopub.status.idle": "2022-11-17T02:50:20.652371Z",
     "shell.execute_reply": "2022-11-17T02:50:20.651900Z"
    },
    "papermill": {
     "duration": 0.017727,
     "end_time": "2022-11-17T02:50:20.652475",
     "exception": false,
     "start_time": "2022-11-17T02:50:20.634748",
     "status": "completed"
    },
    "tags": []
   },
   "outputs": [
    {
     "data": {
      "text/markdown": [
       "- Bitcoin Price Resists But Breaking This Resistance Could Encourage Bulls.  Bitcoin price is struggling to clear the $17,000 resistance zone. BTC must stay above $16,000 to avoid more losses in the near term. Bitcoin is still consolidating above the $16,350 and $16,000 support levels. The price is trading just above $16,500 and the 100 hourly simple moving average. There is a major bearish trend line forming with resistance near $16,750 on the hourly chart of the BTC/USD pair (data feed from Kraken). The pair could start a recovery wave if it clears the $17,000 resistance zone. Bitcoin Price Faces Resistance Bitcoin price made an attempt to gain strength above the $17,000 resistance zone. However, BTC struggled to remain stable above the $17,000 level. The price traded as high as $17,098 and recently started a slow decline. There was a move below the $16,800 and $16,650 levels. The price declined below the 23.6% Fib retracement level of the upward move from the $15,833 swing low to $17,098 high. The price even spiked below the $16,500 level. However, the bulls were active near the 50% Fib retracement level of the upward move from the $15,833 swing low to $17,098 high. Bitcoin price is now trading just above $16,500 and the 100 hourly simple moving average. On the upside, an immediate resistance is near the $16,750 level. There is also a major bearish trend line forming with resistance near $16,750 on the hourly chart of the BTC/USD pair. The first major resistance is near the $17,000 zone. A clear move above the $17,000 resistance could set the pace for a decent recovery wave. Source: BTCUSD on TradingView.com The next major resistance is near $17,500, above which the price could rise towards the $18,000 zone. Any more gains might send the price towards the $18,500 resistance zone. Fresh Decline in BTC? If bitcoin fails to gain pace above the $17,000 resistance zone, it could continue to move down. An immediate support on the downside is near the $16,600 level and the 100 hourly SMA. The next major support is near the $16,350 zone. The main support is near the $16,000 zone. A clear move below the $16,000 support might spark another major decline in the near term. Technical indicators: Hourly MACD – The MACD is now gaining pace in the bullish zone. Hourly RSI (Relative Strength Index) – The RSI for BTC/USD is now above the 50 level. Major Support Levels – $16,350, followed by $16,000. Major Resistance Levels – $16,750, $17,000 and $17,500. ... [| Skaityti daugiau](https://www.newsbtc.com/analysis/btc/bitcoin-price-resists-17k/) "
      ],
      "text/plain": [
       "<IPython.core.display.Markdown object>"
      ]
     },
     "execution_count": 4,
     "metadata": {},
     "output_type": "execute_result"
    }
   ],
   "source": [
    "#hide_input\n",
    "#md('##### {}'.format(titleBTC)) \n",
    "md(\"- {}{} {}{} [| Skaityti daugiau]({}) \".format(btc['title'],'. ', btc['body'], ' ...', btc['url']))"
   ]
  },
  {
   "cell_type": "code",
   "execution_count": 5,
   "id": "organic-actress",
   "metadata": {
    "execution": {
     "iopub.execute_input": "2022-11-17T02:50:20.676331Z",
     "iopub.status.busy": "2022-11-17T02:50:20.675739Z",
     "iopub.status.idle": "2022-11-17T02:50:20.678906Z",
     "shell.execute_reply": "2022-11-17T02:50:20.679453Z"
    },
    "papermill": {
     "duration": 0.017499,
     "end_time": "2022-11-17T02:50:20.679570",
     "exception": false,
     "start_time": "2022-11-17T02:50:20.662071",
     "status": "completed"
    },
    "tags": []
   },
   "outputs": [
    {
     "data": {
      "text/markdown": [
       "- Paolo Ardoino Talks FTX, Adoption And Self-Custody With Bitcoinist.  What happened here was not a mistake; it is not that they were hacked. They took several decisions to put at risk customer assets. The crypto industry saw dark days over the past week. FTX, the former second-largest exchange in the world, crumbled. The fallout continues to ripple across the industry, with FTX-backed companies filing ... [| Skaityti daugiau](https://bitcoinist.com/paolo-ardoino-talks-ftx-self-custody-bitcoinist/) "
      ],
      "text/plain": [
       "<IPython.core.display.Markdown object>"
      ]
     },
     "execution_count": 5,
     "metadata": {},
     "output_type": "execute_result"
    }
   ],
   "source": [
    "#hide_input\n",
    "#md('##### {}'.format(titleBTC)) \n",
    "md(\"- {}{} {}{} [| Skaityti daugiau]({}) \".format(xrp['title'],'. ', xrp['body'], ' ...', xrp['url']))"
   ]
  },
  {
   "cell_type": "code",
   "execution_count": 6,
   "id": "prompt-farmer",
   "metadata": {
    "execution": {
     "iopub.execute_input": "2022-11-17T02:50:20.704386Z",
     "iopub.status.busy": "2022-11-17T02:50:20.703814Z",
     "iopub.status.idle": "2022-11-17T02:50:20.707668Z",
     "shell.execute_reply": "2022-11-17T02:50:20.707079Z"
    },
    "papermill": {
     "duration": 0.018318,
     "end_time": "2022-11-17T02:50:20.707779",
     "exception": false,
     "start_time": "2022-11-17T02:50:20.689461",
     "status": "completed"
    },
    "tags": []
   },
   "outputs": [
    {
     "data": {
      "text/markdown": [
       "- TRX Surges Over 600% Following Justin Sun’s Deal With FTX.  Tron’s native token TRX has been seeing significant upside on the FTX exchange since the announcement of a potential deal that would allow users to withdraw funds. This deal is one of the only ones that have gone into effect since FTX began experiencing issues and it seems users are already taking advantage of it. However, it is not all rosy as users begin to notice the downside to this. TRX Price Explodes On FTX TRX token is already up more than 500% on the FTX crypto exchange over the last week on the FTX exchange. Tron founder Justin Sun had seemingly worked out an agreement with the troubled exchange to allow users to swap their crypto currently stuck on the platform for TRX tokens and then withdraw it. Related Reading: XRP Price Rallies 15%, Why Ripple Could Outperform Bitcoin and Ethereum This would obviously make it possible for users to swap digital assets such as bitcoin, ethereum, etc, to TRX, and then proceed to withdraw it, making it possible for them to withdraw previously stuck funds from FTX. It has naturally become a popular option for FTX users, causing the price of the digital asset to balloon on the exchange. In just 24 hours following the announcement, TRX’s price was already up significantly. While the token’s price remained relatively low on all other exchanges, it had traded to a high of $0.43 on the FTX exchange. Compared to the $0.05 price mark that is the case across all other exchanges, it is trading at a 600% premium on FTX. TRX price spikes on FTX | Source: TRXUSD on TradingView.com There has been some fluctuation in the price since the token hit this new high on the platform. However, the price still remains high at $0.43 at the time of writing, with trading volumes already exceeding $630 million in a 24-hour timeframe. Not A Good Deal At first, converting digital assets to TRX on the FTX exchange in order to withdraw looked like a good idea, but that only lasted as long as prices on the exchange correlated with the broader crypto market. As the price of TRX inflated on the FTX exchange, the value that users were getting when they swapped their tokens quickly plummeted. With TRX being 500% above market price on FTX, it means that the exchange’s users would only be getting about 20 cents on the dollar when they swap. This is because after withdrawing TRX from FTX, they would still have to swap the tokens at current market prices. To put this in perspective, say someone has $10,000 worth of bitcoin and swapped it to TRX at $0.43 (current prices), they would get around 38,570 TRX. When they withdraw and move to other exchanges for sale, taking the current price on Coinmarketcap of $0.05, they would have only $1,162 after selling. This translates to roughly 12 cents on the dollar. Related Reading: Bitcoin Shows Strength As Price Holds Above $16,500; Is This A Bear Trap? Meanwhile, Tron is making bank buying these digital assets for cheap as they are the only ones allowed to transfer TRX into FTX. At the current rate, they will be seeing millions of dollars in profit, presumably giving FTX a healthy cut of the proceeds. What this shows is that it is the end users that always get screwed over in times like these. Even deals that seem to be “helpful” turns out just to be another way to exploit users who are already in a vulnerable position from the exchange’s collapse. Featured image from Medium, chart from TradingView.com Follow Best Owie on Twitter for market insights, updates, and the occasional funny tweet… ... [| Skaityti daugiau](https://www.newsbtc.com/news/tron/trx-surges-over-600-following-justin-suns-deal-with-ftx/) "
      ],
      "text/plain": [
       "<IPython.core.display.Markdown object>"
      ]
     },
     "execution_count": 6,
     "metadata": {},
     "output_type": "execute_result"
    }
   ],
   "source": [
    "#hide_input\n",
    "#md('##### {}'.format(titleBTC)) \n",
    "md(\"- {}{} {}{} [| Skaityti daugiau]({}) \".format(trx['title'],'. ', trx['body'], ' ...', trx['url']))"
   ]
  },
  {
   "cell_type": "code",
   "execution_count": 7,
   "id": "illegal-greece",
   "metadata": {
    "execution": {
     "iopub.execute_input": "2022-11-17T02:50:20.733363Z",
     "iopub.status.busy": "2022-11-17T02:50:20.732779Z",
     "iopub.status.idle": "2022-11-17T02:50:20.736022Z",
     "shell.execute_reply": "2022-11-17T02:50:20.735429Z"
    },
    "papermill": {
     "duration": 0.017969,
     "end_time": "2022-11-17T02:50:20.736131",
     "exception": false,
     "start_time": "2022-11-17T02:50:20.718162",
     "status": "completed"
    },
    "tags": []
   },
   "outputs": [
    {
     "data": {
      "text/markdown": [
       "- FTX Contagion Spreads, Will ETHE And Grayscale Bitcoin Trust Share Same Fate As FTT?.  The sudden decline of FTX has created a devasting effect on the entire Bitcoin and crypto market. Panic shorting of digital assets is the order of the day, with Solana taking a massive hit as many investors dumped the coin. FTT, the native crypto asset of FTX, has lost almost all its investor value. Most ... [| Skaityti daugiau](https://bitcoinist.com/will-grayscale-bitcoin-trust-share-same-fate-as-ftt/) "
      ],
      "text/plain": [
       "<IPython.core.display.Markdown object>"
      ]
     },
     "execution_count": 7,
     "metadata": {},
     "output_type": "execute_result"
    }
   ],
   "source": [
    "#hide_input\n",
    "#md('##### {}'.format(titleBTC)) \n",
    "md(\"- {}{} {}{} [| Skaityti daugiau]({}) \".format(eth['title'],'. ', eth['body'], ' ...', eth['url']))"
   ]
  },
  {
   "cell_type": "code",
   "execution_count": 8,
   "id": "sublime-lounge",
   "metadata": {
    "execution": {
     "iopub.execute_input": "2022-11-17T02:50:20.763345Z",
     "iopub.status.busy": "2022-11-17T02:50:20.762781Z",
     "iopub.status.idle": "2022-11-17T02:50:20.766639Z",
     "shell.execute_reply": "2022-11-17T02:50:20.766080Z"
    },
    "papermill": {
     "duration": 0.018874,
     "end_time": "2022-11-17T02:50:20.766744",
     "exception": false,
     "start_time": "2022-11-17T02:50:20.747870",
     "status": "completed"
    },
    "tags": []
   },
   "outputs": [
    {
     "data": {
      "text/markdown": [
       "- Cardano [ADA] traders going long might not repent their decision, thanks to….  ADA retests support level of $0.3300 and a resistance level of $0.3407 Improved weighted sentiment, but ADA holders are still not locking in gains Cardano [ADA] has formed a price rally on the daily chart and shows a bullish market structure on the lower time timeframe. This is an impressive performance in an overall market ... [| Skaityti daugiau](https://ambcrypto.com/cardano-ada-traders-going-long-might-not-repent-their-decision-thanks-to/) "
      ],
      "text/plain": [
       "<IPython.core.display.Markdown object>"
      ]
     },
     "execution_count": 8,
     "metadata": {},
     "output_type": "execute_result"
    }
   ],
   "source": [
    "#hide_input\n",
    "#md('##### {}'.format(titleBTC)) \n",
    "md(\"- {}{} {}{} [| Skaityti daugiau]({}) \".format(ada['title'],'. ', ada['body'], ' ...', ada['url']))"
   ]
  },
  {
   "cell_type": "code",
   "execution_count": 9,
   "id": "specified-ordering",
   "metadata": {
    "execution": {
     "iopub.execute_input": "2022-11-17T02:50:20.793332Z",
     "iopub.status.busy": "2022-11-17T02:50:20.792768Z",
     "iopub.status.idle": "2022-11-17T02:50:20.796712Z",
     "shell.execute_reply": "2022-11-17T02:50:20.796244Z"
    },
    "papermill": {
     "duration": 0.01918,
     "end_time": "2022-11-17T02:50:20.796820",
     "exception": false,
     "start_time": "2022-11-17T02:50:20.777640",
     "status": "completed"
    },
    "tags": []
   },
   "outputs": [
    {
     "data": {
      "text/markdown": [
       "- FTX’s Demise Has Pushed Bitcoin Miners To Worst Situations! This Is How BTC Price Will React Next.  The post FTX’s Demise Has Pushed Bitcoin Miners To Worst Situations! This Is How BTC Price Will React Next appeared first on Coinpedia Fintech News The crash of the popular crypto exchange FTX has become an embarrassment for the entire crypto space as it failed to build trust among users and provide properly secured infrastructure. FTX’s demise has undoubtedly thrashed several investors with a loss of billions of dollars and forced miners to give up their mining journey as their … ... [| Skaityti daugiau](https://coinpedia.org/bitcoin/ftxs-demise-has-pushed-bitcoin-miners-to-worst-situations-this-is-how-btc-price-will-react-next/) "
      ],
      "text/plain": [
       "<IPython.core.display.Markdown object>"
      ]
     },
     "execution_count": 9,
     "metadata": {},
     "output_type": "execute_result"
    }
   ],
   "source": [
    "#hide_input\n",
    "#md('##### {}'.format(titleBTC)) \n",
    "md(\"- {}{} {}{} [| Skaityti daugiau]({}) \".format(exchange['title'],'. ', exchange['body'], ' ...', exchange['url']))"
   ]
  },
  {
   "cell_type": "code",
   "execution_count": null,
   "id": "tender-livestock",
   "metadata": {
    "papermill": {
     "duration": 0.0113,
     "end_time": "2022-11-17T02:50:20.819321",
     "exception": false,
     "start_time": "2022-11-17T02:50:20.808021",
     "status": "completed"
    },
    "tags": []
   },
   "outputs": [],
   "source": []
  },
  {
   "cell_type": "code",
   "execution_count": null,
   "id": "appreciated-diamond",
   "metadata": {
    "papermill": {
     "duration": 0.01115,
     "end_time": "2022-11-17T02:50:20.841894",
     "exception": false,
     "start_time": "2022-11-17T02:50:20.830744",
     "status": "completed"
    },
    "tags": []
   },
   "outputs": [],
   "source": []
  },
  {
   "cell_type": "code",
   "execution_count": null,
   "id": "romance-sweden",
   "metadata": {
    "papermill": {
     "duration": 0.011174,
     "end_time": "2022-11-17T02:50:20.864276",
     "exception": false,
     "start_time": "2022-11-17T02:50:20.853102",
     "status": "completed"
    },
    "tags": []
   },
   "outputs": [],
   "source": []
  },
  {
   "cell_type": "code",
   "execution_count": null,
   "id": "dietary-statistics",
   "metadata": {
    "papermill": {
     "duration": 0.011168,
     "end_time": "2022-11-17T02:50:20.886688",
     "exception": false,
     "start_time": "2022-11-17T02:50:20.875520",
     "status": "completed"
    },
    "tags": []
   },
   "outputs": [],
   "source": []
  }
 ],
 "metadata": {
  "kernelspec": {
   "display_name": "Python 3",
   "language": "python",
   "name": "python3"
  },
  "language_info": {
   "codemirror_mode": {
    "name": "ipython",
    "version": 3
   },
   "file_extension": ".py",
   "mimetype": "text/x-python",
   "name": "python",
   "nbconvert_exporter": "python",
   "pygments_lexer": "ipython3",
   "version": "3.6.15"
  },
  "papermill": {
   "default_parameters": {},
   "duration": 7.692381,
   "end_time": "2022-11-17T02:50:21.316701",
   "environment_variables": {},
   "exception": null,
   "input_path": "Market-News.ipynb",
   "output_path": "Market-News.ipynb",
   "parameters": {},
   "start_time": "2022-11-17T02:50:13.624320",
   "version": "2.2.2"
  }
 },
 "nbformat": 4,
 "nbformat_minor": 5
}