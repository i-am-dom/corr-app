{
 "cells": [
  {
   "cell_type": "markdown",
   "id": "short-greensboro",
   "metadata": {
    "papermill": {
     "duration": 0.01311,
     "end_time": "2022-03-27T02:25:30.721722",
     "exception": false,
     "start_time": "2022-03-27T02:25:30.708612",
     "status": "completed"
    },
    "tags": []
   },
   "source": [
    "# Kriptovaliutų naujienos"
   ]
  },
  {
   "cell_type": "code",
   "execution_count": 1,
   "id": "functioning-knowing",
   "metadata": {
    "execution": {
     "iopub.execute_input": "2022-03-27T02:25:30.752113Z",
     "iopub.status.busy": "2022-03-27T02:25:30.751520Z",
     "iopub.status.idle": "2022-03-27T02:25:32.096579Z",
     "shell.execute_reply": "2022-03-27T02:25:32.096019Z"
    },
    "papermill": {
     "duration": 1.364906,
     "end_time": "2022-03-27T02:25:32.096740",
     "exception": false,
     "start_time": "2022-03-27T02:25:30.731834",
     "status": "completed"
    },
    "tags": []
   },
   "outputs": [],
   "source": [
    "#hide_input\n",
    "import warnings\n",
    "warnings.filterwarnings('ignore')\n",
    "from scripts.read_data import read_api\n",
    "from scripts.read_data import read_news\n",
    "from scripts.read_data import read_covid\n",
    "import matplotlib.pyplot as plt \n",
    "from IPython.display import Markdown as md"
   ]
  },
  {
   "cell_type": "code",
   "execution_count": 2,
   "id": "shared-acceptance",
   "metadata": {
    "execution": {
     "iopub.execute_input": "2022-03-27T02:25:32.123730Z",
     "iopub.status.busy": "2022-03-27T02:25:32.123190Z",
     "iopub.status.idle": "2022-03-27T02:25:41.408608Z",
     "shell.execute_reply": "2022-03-27T02:25:41.407558Z"
    },
    "papermill": {
     "duration": 9.301555,
     "end_time": "2022-03-27T02:25:41.408766",
     "exception": false,
     "start_time": "2022-03-27T02:25:32.107211",
     "status": "completed"
    },
    "tags": []
   },
   "outputs": [],
   "source": [
    "#hide_input\n",
    "blockchain = read_news('blockchain') \n",
    "btc = read_news('btc') \n",
    "xrp = read_news('xrp') \n",
    "trx = read_news('trx') \n",
    "eth = read_news('eth')  \n",
    "ada = read_news('ada')\n",
    "exchange = read_news('exchange') "
   ]
  },
  {
   "cell_type": "code",
   "execution_count": 3,
   "id": "synthetic-notion",
   "metadata": {
    "execution": {
     "iopub.execute_input": "2022-03-27T02:25:41.433835Z",
     "iopub.status.busy": "2022-03-27T02:25:41.433263Z",
     "iopub.status.idle": "2022-03-27T02:25:41.435381Z",
     "shell.execute_reply": "2022-03-27T02:25:41.435868Z"
    },
    "papermill": {
     "duration": 0.017753,
     "end_time": "2022-03-27T02:25:41.436000",
     "exception": false,
     "start_time": "2022-03-27T02:25:41.418247",
     "status": "completed"
    },
    "tags": []
   },
   "outputs": [
    {
     "data": {
      "text/markdown": [
       "- Amidst Ongoing Crisis, Ukraine Launches NFT Museum War.  Ukraine continues to leverage blockchain technology to support its course in the conflict with Russia. Today, the Ukrainian government has launched an NFT War Museum to raise more funds for its war efforts. Ukraine&#8217;s NFT collection is to go on sale in about 3 days Mykhailo Fedorov, Ukraine&#8217;s minister for digital transformation, asserted that the The post Amidst Ongoing Crisis, Ukraine Launches NFT Museum War appeared first on CoinGape. ... [| Skaityti daugiau](https://coingape.com/amidst-ongoing-crisis-ukraine-launches-nft-museum-war/) "
      ],
      "text/plain": [
       "<IPython.core.display.Markdown object>"
      ]
     },
     "execution_count": 3,
     "metadata": {},
     "output_type": "execute_result"
    }
   ],
   "source": [
    "#hide_input\n",
    "#md('##### {}'.format(titleBTC)) \n",
    "md(\"- {}{} {}{} [| Skaityti daugiau]({}) \".format(blockchain['title'],'. ', blockchain['body'], ' ...', blockchain['url']))"
   ]
  },
  {
   "cell_type": "code",
   "execution_count": 4,
   "id": "aging-caution",
   "metadata": {
    "execution": {
     "iopub.execute_input": "2022-03-27T02:25:41.460273Z",
     "iopub.status.busy": "2022-03-27T02:25:41.459719Z",
     "iopub.status.idle": "2022-03-27T02:25:41.461923Z",
     "shell.execute_reply": "2022-03-27T02:25:41.462344Z"
    },
    "papermill": {
     "duration": 0.016913,
     "end_time": "2022-03-27T02:25:41.462479",
     "exception": false,
     "start_time": "2022-03-27T02:25:41.445566",
     "status": "completed"
    },
    "tags": []
   },
   "outputs": [
    {
     "data": {
      "text/markdown": [
       "- Top 3 Metaverse Crypto Coins With a Market Cap Below $110 Million to Watch in March 2022.  Crypto markets continue to trade sideways this weekend as Bitcoin manages to hold $44k and Ethereum maintains $3.1k at writing. Metaverse crypto coins are also performing exceptionally well, with some rising over 100% in the past week. There are tons of underrated and undervalued Metaverse projects on the market. This article looks at our pick [&#8230;]The post Top 3 Metaverse Crypto Coins With a Market Cap Below $110 Million to Watch in March 2022 appeared first on NullTX. ... [| Skaityti daugiau](https://nulltx.com/top-3-metaverse-crypto-coins-with-a-market-cap-below-110-million-to-watch-in-march-2022/) "
      ],
      "text/plain": [
       "<IPython.core.display.Markdown object>"
      ]
     },
     "execution_count": 4,
     "metadata": {},
     "output_type": "execute_result"
    }
   ],
   "source": [
    "#hide_input\n",
    "#md('##### {}'.format(titleBTC)) \n",
    "md(\"- {}{} {}{} [| Skaityti daugiau]({}) \".format(btc['title'],'. ', btc['body'], ' ...', btc['url']))"
   ]
  },
  {
   "cell_type": "code",
   "execution_count": 5,
   "id": "organic-actress",
   "metadata": {
    "execution": {
     "iopub.execute_input": "2022-03-27T02:25:41.487078Z",
     "iopub.status.busy": "2022-03-27T02:25:41.485949Z",
     "iopub.status.idle": "2022-03-27T02:25:41.489701Z",
     "shell.execute_reply": "2022-03-27T02:25:41.490230Z"
    },
    "papermill": {
     "duration": 0.018016,
     "end_time": "2022-03-27T02:25:41.490365",
     "exception": false,
     "start_time": "2022-03-27T02:25:41.472349",
     "status": "completed"
    },
    "tags": []
   },
   "outputs": [
    {
     "data": {
      "text/markdown": [
       "- Ripple price analysis: XRP retests $0.82, consolidation to follow?.  TL;DR Breakdown Ripple price analysis is bearish today. XRP/USD saw a lower high set at $0.85 on Thursday. $0.82 local support was retested yesterday. Ripple price analysis is bearish today [&#8230;] ... [| Skaityti daugiau](https://www.cryptopolitan.com/ripple-price-analysis-2022-03-26/) "
      ],
      "text/plain": [
       "<IPython.core.display.Markdown object>"
      ]
     },
     "execution_count": 5,
     "metadata": {},
     "output_type": "execute_result"
    }
   ],
   "source": [
    "#hide_input\n",
    "#md('##### {}'.format(titleBTC)) \n",
    "md(\"- {}{} {}{} [| Skaityti daugiau]({}) \".format(xrp['title'],'. ', xrp['body'], ' ...', xrp['url']))"
   ]
  },
  {
   "cell_type": "code",
   "execution_count": 6,
   "id": "prompt-farmer",
   "metadata": {
    "execution": {
     "iopub.execute_input": "2022-03-27T02:25:41.515871Z",
     "iopub.status.busy": "2022-03-27T02:25:41.515319Z",
     "iopub.status.idle": "2022-03-27T02:25:41.518083Z",
     "shell.execute_reply": "2022-03-27T02:25:41.517541Z"
    },
    "papermill": {
     "duration": 0.017701,
     "end_time": "2022-03-27T02:25:41.518201",
     "exception": false,
     "start_time": "2022-03-27T02:25:41.500500",
     "status": "completed"
    },
    "tags": []
   },
   "outputs": [
    {
     "data": {
      "text/markdown": [
       "- USDT circulation on TRON dwarfs Ethereum’s surpassing $40 billion.  The Tron (TRX) network has been measuring some impressive results in the past few months. One of them is the...  Continue reading  The post USDT circulation on TRON dwarfs Ethereum&#8217;s surpassing $40 billion appeared first on Finbold. ... [| Skaityti daugiau](https://finbold.com/usdt-circulation-on-tron-dwarfs-ethereums-surpassing-40-billion/) "
      ],
      "text/plain": [
       "<IPython.core.display.Markdown object>"
      ]
     },
     "execution_count": 6,
     "metadata": {},
     "output_type": "execute_result"
    }
   ],
   "source": [
    "#hide_input\n",
    "#md('##### {}'.format(titleBTC)) \n",
    "md(\"- {}{} {}{} [| Skaityti daugiau]({}) \".format(trx['title'],'. ', trx['body'], ' ...', trx['url']))"
   ]
  },
  {
   "cell_type": "code",
   "execution_count": 7,
   "id": "illegal-greece",
   "metadata": {
    "execution": {
     "iopub.execute_input": "2022-03-27T02:25:41.555456Z",
     "iopub.status.busy": "2022-03-27T02:25:41.554925Z",
     "iopub.status.idle": "2022-03-27T02:25:41.557048Z",
     "shell.execute_reply": "2022-03-27T02:25:41.557526Z"
    },
    "papermill": {
     "duration": 0.02861,
     "end_time": "2022-03-27T02:25:41.557663",
     "exception": false,
     "start_time": "2022-03-27T02:25:41.529053",
     "status": "completed"
    },
    "tags": []
   },
   "outputs": [
    {
     "data": {
      "text/markdown": [
       "- Top 3 Metaverse Crypto Coins With a Market Cap Below $110 Million to Watch in March 2022.  Crypto markets continue to trade sideways this weekend as Bitcoin manages to hold $44k and Ethereum maintains $3.1k at writing. Metaverse crypto coins are also performing exceptionally well, with some rising over 100% in the past week. There are tons of underrated and undervalued Metaverse projects on the market. This article looks at our pick [&#8230;]The post Top 3 Metaverse Crypto Coins With a Market Cap Below $110 Million to Watch in March 2022 appeared first on NullTX. ... [| Skaityti daugiau](https://nulltx.com/top-3-metaverse-crypto-coins-with-a-market-cap-below-110-million-to-watch-in-march-2022/) "
      ],
      "text/plain": [
       "<IPython.core.display.Markdown object>"
      ]
     },
     "execution_count": 7,
     "metadata": {},
     "output_type": "execute_result"
    }
   ],
   "source": [
    "#hide_input\n",
    "#md('##### {}'.format(titleBTC)) \n",
    "md(\"- {}{} {}{} [| Skaityti daugiau]({}) \".format(eth['title'],'. ', eth['body'], ' ...', eth['url']))"
   ]
  },
  {
   "cell_type": "code",
   "execution_count": 8,
   "id": "sublime-lounge",
   "metadata": {
    "execution": {
     "iopub.execute_input": "2022-03-27T02:25:41.584780Z",
     "iopub.status.busy": "2022-03-27T02:25:41.584188Z",
     "iopub.status.idle": "2022-03-27T02:25:41.586289Z",
     "shell.execute_reply": "2022-03-27T02:25:41.586766Z"
    },
    "papermill": {
     "duration": 0.018388,
     "end_time": "2022-03-27T02:25:41.586896",
     "exception": false,
     "start_time": "2022-03-27T02:25:41.568508",
     "status": "completed"
    },
    "tags": []
   },
   "outputs": [
    {
     "data": {
      "text/markdown": [
       "- This is Why BTC, ETH, ADA, & FTM Price May Crash In April ! Analyst Warns Traders.  The post This is Why BTC, ETH, ADA, &#038; FTM Price May Crash In April ! Analyst Warns Traders appeared first on Coinpedia - Fintech &amp; Cryptocurreny News Media| Crypto GuideFollowing a solid week, Bitcoin continues to lead other cryptocurrencies on a bullish attack into the weekend. Bitcoin&#8217;s daily candle closed at $44,340 on Friday, after briefly touching $45,000 on Saturday. The price has been on a bullish trajectory since Monday last week, with only a slight correction last weekend after the price reached $42,000. &#8230; ... [| Skaityti daugiau](https://coinpedia.org/altcoin/this-is-why-btc-eth-ada-ftm-price-may-crash-in-april-analyst-warns-traders/) "
      ],
      "text/plain": [
       "<IPython.core.display.Markdown object>"
      ]
     },
     "execution_count": 8,
     "metadata": {},
     "output_type": "execute_result"
    }
   ],
   "source": [
    "#hide_input\n",
    "#md('##### {}'.format(titleBTC)) \n",
    "md(\"- {}{} {}{} [| Skaityti daugiau]({}) \".format(ada['title'],'. ', ada['body'], ' ...', ada['url']))"
   ]
  },
  {
   "cell_type": "code",
   "execution_count": 9,
   "id": "specified-ordering",
   "metadata": {
    "execution": {
     "iopub.execute_input": "2022-03-27T02:25:41.614673Z",
     "iopub.status.busy": "2022-03-27T02:25:41.614057Z",
     "iopub.status.idle": "2022-03-27T02:25:41.617332Z",
     "shell.execute_reply": "2022-03-27T02:25:41.616916Z"
    },
    "papermill": {
     "duration": 0.019362,
     "end_time": "2022-03-27T02:25:41.617449",
     "exception": false,
     "start_time": "2022-03-27T02:25:41.598087",
     "status": "completed"
    },
    "tags": []
   },
   "outputs": [
    {
     "data": {
      "text/markdown": [
       "- Coinbase Makes Changes to Services in Canada, Japan, Singapore to Comply With Local Crypto Regulations.  The Nasdaq-listed cryptocurrency exchange Coinbase has made some changes to its services for customers in three countries. &#x201C;This change will only impact users in Canada, Singapore, and Japan who are transferring digital assets from their Coinbase exchange wallet to a wallet off the Coinbase platform.&#x201D; Changes Affecting Coinbase Customers in Canada, Japan, Singapore The Nasdaq-listed [&#8230;] ... [| Skaityti daugiau](https://news.bitcoin.com/coinbase-makes-changes-to-services-in-canada-japan-singapore-to-comply-with-local-crypto-regulations/) "
      ],
      "text/plain": [
       "<IPython.core.display.Markdown object>"
      ]
     },
     "execution_count": 9,
     "metadata": {},
     "output_type": "execute_result"
    }
   ],
   "source": [
    "#hide_input\n",
    "#md('##### {}'.format(titleBTC)) \n",
    "md(\"- {}{} {}{} [| Skaityti daugiau]({}) \".format(exchange['title'],'. ', exchange['body'], ' ...', exchange['url']))"
   ]
  },
  {
   "cell_type": "code",
   "execution_count": null,
   "id": "tender-livestock",
   "metadata": {
    "papermill": {
     "duration": 0.011377,
     "end_time": "2022-03-27T02:25:41.640433",
     "exception": false,
     "start_time": "2022-03-27T02:25:41.629056",
     "status": "completed"
    },
    "tags": []
   },
   "outputs": [],
   "source": []
  },
  {
   "cell_type": "code",
   "execution_count": null,
   "id": "appreciated-diamond",
   "metadata": {
    "papermill": {
     "duration": 0.011326,
     "end_time": "2022-03-27T02:25:41.663145",
     "exception": false,
     "start_time": "2022-03-27T02:25:41.651819",
     "status": "completed"
    },
    "tags": []
   },
   "outputs": [],
   "source": []
  },
  {
   "cell_type": "code",
   "execution_count": null,
   "id": "romance-sweden",
   "metadata": {
    "papermill": {
     "duration": 0.011303,
     "end_time": "2022-03-27T02:25:41.686896",
     "exception": false,
     "start_time": "2022-03-27T02:25:41.675593",
     "status": "completed"
    },
    "tags": []
   },
   "outputs": [],
   "source": []
  },
  {
   "cell_type": "code",
   "execution_count": null,
   "id": "dietary-statistics",
   "metadata": {
    "papermill": {
     "duration": 0.011266,
     "end_time": "2022-03-27T02:25:41.709496",
     "exception": false,
     "start_time": "2022-03-27T02:25:41.698230",
     "status": "completed"
    },
    "tags": []
   },
   "outputs": [],
   "source": []
  }
 ],
 "metadata": {
  "kernelspec": {
   "display_name": "Python 3",
   "language": "python",
   "name": "python3"
  },
  "language_info": {
   "codemirror_mode": {
    "name": "ipython",
    "version": 3
   },
   "file_extension": ".py",
   "mimetype": "text/x-python",
   "name": "python",
   "nbconvert_exporter": "python",
   "pygments_lexer": "ipython3",
   "version": "3.6.15"
  },
  "papermill": {
   "default_parameters": {},
   "duration": 12.587077,
   "end_time": "2022-03-27T02:25:42.240583",
   "environment_variables": {},
   "exception": null,
   "input_path": "Market-News.ipynb",
   "output_path": "Market-News.ipynb",
   "parameters": {},
   "start_time": "2022-03-27T02:25:29.653506",
   "version": "2.2.2"
  }
 },
 "nbformat": 4,
 "nbformat_minor": 5
}