{
 "cells": [
  {
   "cell_type": "markdown",
   "id": "short-greensboro",
   "metadata": {
    "papermill": {
     "duration": 0.013069,
     "end_time": "2022-11-16T03:22:48.330599",
     "exception": false,
     "start_time": "2022-11-16T03:22:48.317530",
     "status": "completed"
    },
    "tags": []
   },
   "source": [
    "# Kriptovaliutų naujienos"
   ]
  },
  {
   "cell_type": "code",
   "execution_count": 1,
   "id": "functioning-knowing",
   "metadata": {
    "execution": {
     "iopub.execute_input": "2022-11-16T03:22:48.360046Z",
     "iopub.status.busy": "2022-11-16T03:22:48.359413Z",
     "iopub.status.idle": "2022-11-16T03:22:49.607636Z",
     "shell.execute_reply": "2022-11-16T03:22:49.606615Z"
    },
    "papermill": {
     "duration": 1.267616,
     "end_time": "2022-11-16T03:22:49.607797",
     "exception": false,
     "start_time": "2022-11-16T03:22:48.340181",
     "status": "completed"
    },
    "tags": []
   },
   "outputs": [],
   "source": [
    "#hide_input\n",
    "import warnings\n",
    "warnings.filterwarnings('ignore')\n",
    "from scripts.read_data import read_api\n",
    "from scripts.read_data import read_news\n",
    "from scripts.read_data import read_covid\n",
    "import matplotlib.pyplot as plt \n",
    "from IPython.display import Markdown as md"
   ]
  },
  {
   "cell_type": "code",
   "execution_count": 2,
   "id": "shared-acceptance",
   "metadata": {
    "execution": {
     "iopub.execute_input": "2022-11-16T03:22:49.633479Z",
     "iopub.status.busy": "2022-11-16T03:22:49.632860Z",
     "iopub.status.idle": "2022-11-16T03:22:55.803026Z",
     "shell.execute_reply": "2022-11-16T03:22:55.802244Z"
    },
    "papermill": {
     "duration": 6.185232,
     "end_time": "2022-11-16T03:22:55.803167",
     "exception": false,
     "start_time": "2022-11-16T03:22:49.617935",
     "status": "completed"
    },
    "tags": []
   },
   "outputs": [],
   "source": [
    "#hide_input\n",
    "blockchain = read_news('blockchain') \n",
    "btc = read_news('btc') \n",
    "xrp = read_news('xrp') \n",
    "trx = read_news('trx') \n",
    "eth = read_news('eth')  \n",
    "ada = read_news('ada')\n",
    "exchange = read_news('exchange') "
   ]
  },
  {
   "cell_type": "code",
   "execution_count": 3,
   "id": "synthetic-notion",
   "metadata": {
    "execution": {
     "iopub.execute_input": "2022-11-16T03:22:55.829458Z",
     "iopub.status.busy": "2022-11-16T03:22:55.828783Z",
     "iopub.status.idle": "2022-11-16T03:22:55.831342Z",
     "shell.execute_reply": "2022-11-16T03:22:55.831812Z"
    },
    "papermill": {
     "duration": 0.018433,
     "end_time": "2022-11-16T03:22:55.831927",
     "exception": false,
     "start_time": "2022-11-16T03:22:55.813494",
     "status": "completed"
    },
    "tags": []
   },
   "outputs": [
    {
     "data": {
      "text/markdown": [
       "- Polkadot ($DOT) Sees Active Users Numbers Grow 300% Amid Crypto Market Rout.  Polkadot ($DOT), a network that is often described as a “blockchain of blockchains” that allows users to launch and operate their own blockchain on top of the main Polkadot blockchain, has seen its active user numbers surge 300% amid an ongoing cryptocurrency market rout. According to data shared by Dot Insights, a project tracking the ... [| Skaityti daugiau](https://www.cryptoglobe.com/latest/2022/11/polkadot-dot-sees-active-users-numbers-grow-300-amid-crypto-market-rout/) "
      ],
      "text/plain": [
       "<IPython.core.display.Markdown object>"
      ]
     },
     "execution_count": 3,
     "metadata": {},
     "output_type": "execute_result"
    }
   ],
   "source": [
    "#hide_input\n",
    "#md('##### {}'.format(titleBTC)) \n",
    "md(\"- {}{} {}{} [| Skaityti daugiau]({}) \".format(blockchain['title'],'. ', blockchain['body'], ' ...', blockchain['url']))"
   ]
  },
  {
   "cell_type": "code",
   "execution_count": 4,
   "id": "aging-caution",
   "metadata": {
    "execution": {
     "iopub.execute_input": "2022-11-16T03:22:55.855635Z",
     "iopub.status.busy": "2022-11-16T03:22:55.854967Z",
     "iopub.status.idle": "2022-11-16T03:22:55.858389Z",
     "shell.execute_reply": "2022-11-16T03:22:55.857844Z"
    },
    "papermill": {
     "duration": 0.017391,
     "end_time": "2022-11-16T03:22:55.858509",
     "exception": false,
     "start_time": "2022-11-16T03:22:55.841118",
     "status": "completed"
    },
    "tags": []
   },
   "outputs": [
    {
     "data": {
      "text/markdown": [
       "- Decentralizing Defection: How Bitcoin Circumvents Tyranny.  Bitcoin allows everyone who wants to defect out of government-controlled money into sovereign, non-inflatable wealth. ... [| Skaityti daugiau](https://bitcoinmagazine.com/culture/bitcoin-is-decentralized-defection) "
      ],
      "text/plain": [
       "<IPython.core.display.Markdown object>"
      ]
     },
     "execution_count": 4,
     "metadata": {},
     "output_type": "execute_result"
    }
   ],
   "source": [
    "#hide_input\n",
    "#md('##### {}'.format(titleBTC)) \n",
    "md(\"- {}{} {}{} [| Skaityti daugiau]({}) \".format(btc['title'],'. ', btc['body'], ' ...', btc['url']))"
   ]
  },
  {
   "cell_type": "code",
   "execution_count": 5,
   "id": "organic-actress",
   "metadata": {
    "execution": {
     "iopub.execute_input": "2022-11-16T03:22:55.882433Z",
     "iopub.status.busy": "2022-11-16T03:22:55.881853Z",
     "iopub.status.idle": "2022-11-16T03:22:55.885327Z",
     "shell.execute_reply": "2022-11-16T03:22:55.884867Z"
    },
    "papermill": {
     "duration": 0.017171,
     "end_time": "2022-11-16T03:22:55.885427",
     "exception": false,
     "start_time": "2022-11-16T03:22:55.868256",
     "status": "completed"
    },
    "tags": []
   },
   "outputs": [
    {
     "data": {
      "text/markdown": [
       "- XRP bulls could face an uphill battle to climb above $0.4 and this could be the reason.  Disclaimer: The findings of the following analysis are the sole opinions of the writer and should not be considered investment advice The $0.4-$0.42 was a significant area for bulls to keep an eye on Another lower timeframe range formation could be in progress XRP had a good start to November as it climbed from $0.44 to ... [| Skaityti daugiau](https://ambcrypto.com/xrp-bulls-could-face-an-uphill-battle-to-climb-above-0-4-and-this-could-be-the-reason/) "
      ],
      "text/plain": [
       "<IPython.core.display.Markdown object>"
      ]
     },
     "execution_count": 5,
     "metadata": {},
     "output_type": "execute_result"
    }
   ],
   "source": [
    "#hide_input\n",
    "#md('##### {}'.format(titleBTC)) \n",
    "md(\"- {}{} {}{} [| Skaityti daugiau]({}) \".format(xrp['title'],'. ', xrp['body'], ' ...', xrp['url']))"
   ]
  },
  {
   "cell_type": "code",
   "execution_count": 6,
   "id": "prompt-farmer",
   "metadata": {
    "execution": {
     "iopub.execute_input": "2022-11-16T03:22:55.909977Z",
     "iopub.status.busy": "2022-11-16T03:22:55.909296Z",
     "iopub.status.idle": "2022-11-16T03:22:55.912092Z",
     "shell.execute_reply": "2022-11-16T03:22:55.912562Z"
    },
    "papermill": {
     "duration": 0.017487,
     "end_time": "2022-11-16T03:22:55.912672",
     "exception": false,
     "start_time": "2022-11-16T03:22:55.895185",
     "status": "completed"
    },
    "tags": []
   },
   "outputs": [
    {
     "data": {
      "text/markdown": [
       "- TRX Surges Over 600% Following Justin Sun’s Deal With FTX.  Tron’s native token TRX has been seeing significant upside on the FTX exchange since the announcement of a potential deal that would allow users to withdraw funds. This deal is one of the only ones that have gone into effect since FTX began experiencing issues and it seems users are already taking advantage of it. However, it is not all rosy as users begin to notice the downside to this. TRX Price Explodes On FTX TRX token is already up more than 500% on the FTX crypto exchange over the last week on the FTX exchange. Tron founder Justin Sun had seemingly worked out an agreement with the troubled exchange to allow users to swap their crypto currently stuck on the platform for TRX tokens and then withdraw it. Related Reading: XRP Price Rallies 15%, Why Ripple Could Outperform Bitcoin and Ethereum This would obviously make it possible for users to swap digital assets such as bitcoin, ethereum, etc, to TRX, and then proceed to withdraw it, making it possible for them to withdraw previously stuck funds from FTX. It has naturally become a popular option for FTX users, causing the price of the digital asset to balloon on the exchange. In just 24 hours following the announcement, TRX’s price was already up significantly. While the token’s price remained relatively low on all other exchanges, it had traded to a high of $0.43 on the FTX exchange. Compared to the $0.05 price mark that is the case across all other exchanges, it is trading at a 600% premium on FTX. TRX price spikes on FTX | Source: TRXUSD on TradingView.com There has been some fluctuation in the price since the token hit this new high on the platform. However, the price still remains high at $0.43 at the time of writing, with trading volumes already exceeding $630 million in a 24-hour timeframe. Not A Good Deal At first, converting digital assets to TRX on the FTX exchange in order to withdraw looked like a good idea, but that only lasted as long as prices on the exchange correlated with the broader crypto market. As the price of TRX inflated on the FTX exchange, the value that users were getting when they swapped their tokens quickly plummeted. With TRX being 500% above market price on FTX, it means that the exchange’s users would only be getting about 20 cents on the dollar when they swap. This is because after withdrawing TRX from FTX, they would still have to swap the tokens at current market prices. To put this in perspective, say someone has $10,000 worth of bitcoin and swapped it to TRX at $0.43 (current prices), they would get around 38,570 TRX. When they withdraw and move to other exchanges for sale, taking the current price on Coinmarketcap of $0.05, they would have only $1,162 after selling. This translates to roughly 12 cents on the dollar. Related Reading: Bitcoin Shows Strength As Price Holds Above $16,500; Is This A Bear Trap? Meanwhile, Tron is making bank buying these digital assets for cheap as they are the only ones allowed to transfer TRX into FTX. At the current rate, they will be seeing millions of dollars in profit, presumably giving FTX a healthy cut of the proceeds. What this shows is that it is the end users that always get screwed over in times like these. Even deals that seem to be “helpful” turns out just to be another way to exploit users who are already in a vulnerable position from the exchange’s collapse. Featured image from Medium, chart from TradingView.com Follow Best Owie on Twitter for market insights, updates, and the occasional funny tweet… ... [| Skaityti daugiau](https://www.newsbtc.com/news/tron/trx-surges-over-600-following-justin-suns-deal-with-ftx/) "
      ],
      "text/plain": [
       "<IPython.core.display.Markdown object>"
      ]
     },
     "execution_count": 6,
     "metadata": {},
     "output_type": "execute_result"
    }
   ],
   "source": [
    "#hide_input\n",
    "#md('##### {}'.format(titleBTC)) \n",
    "md(\"- {}{} {}{} [| Skaityti daugiau]({}) \".format(trx['title'],'. ', trx['body'], ' ...', trx['url']))"
   ]
  },
  {
   "cell_type": "code",
   "execution_count": 7,
   "id": "illegal-greece",
   "metadata": {
    "execution": {
     "iopub.execute_input": "2022-11-16T03:22:55.938700Z",
     "iopub.status.busy": "2022-11-16T03:22:55.938115Z",
     "iopub.status.idle": "2022-11-16T03:22:55.941193Z",
     "shell.execute_reply": "2022-11-16T03:22:55.941665Z"
    },
    "papermill": {
     "duration": 0.018808,
     "end_time": "2022-11-16T03:22:55.941801",
     "exception": false,
     "start_time": "2022-11-16T03:22:55.922993",
     "status": "completed"
    },
    "tags": []
   },
   "outputs": [
    {
     "data": {
      "text/markdown": [
       "- Bitcoin Price Stuck Below $17K, What Could Spark A Decent Increase.  Bitcoin price is attempting a recovery wave from the $16,000 support zone. BTC could start a decent increase if it clears the $17,000 and $17,200 resistance levels in the short term. Bitcoin is slowly moving higher and consolidating above the $16,500 level. The price is trading above $16,500 and the 100 hourly simple moving average. There is a connecting bearish trend line forming with resistance near $16,900 on the hourly chart of the BTC/USD pair (data feed from Kraken). The pair could start a recovery wave if it clears the $17,000 resistance zone. Bitcoin Price Consolidates Bitcoin price remained stable above the $16,000 support zone. BTC formed a base and slowly moved higher above the $16,350 resistance zone. There was a move above the 23.6% Fib retracement level of the downward move from the $18,155 swing high to $15,833 low. The bulls were able to contain losses and the price started to move in a range above the $16,400 level. Bitcoin price is now trading above $16,500 and the 100 hourly simple moving average, similar to ethereum. On the upside, an immediate resistance is near the $16,900 level. There is also a connecting bearish trend line forming with resistance near $16,900 on the hourly chart of the BTC/USD pair. The trend line is near the 50% Fib retracement level of the downward move from the $18,155 swing high to $15,833 low. The first major resistance is near the $17,000 zone. A clear move above the $17,000 resistance might start a decent increase. Source: BTCUSD on TradingView.com The next major resistance is near $17,265, above which the price could test the $18,000 zone. Any more gains might send the price towards the $18,500 resistance zone. Fresh Decline in BTC? If bitcoin fails to start a recovery wave above the $17,000 resistance zone, it could start a fresh decline. An immediate support on the downside is near the $16,650 level and the 100 hourly SMA. The next major support is near the $16,350 zone. A clear move below the $16,350 support might push the price further lower. In this case, the price may perhaps decline towards the $16,000 support zone. Technical indicators: Hourly MACD – The MACD is now losing pace in the bullish zone. Hourly RSI (Relative Strength Index) – The RSI for BTC/USD is now above the 50 level. Major Support Levels – $16,350, followed by $16,000. Major Resistance Levels – $16,900, $17,000 and $17,500. ... [| Skaityti daugiau](https://www.newsbtc.com/analysis/btc/bitcoin-price-stuck-below-17k/) "
      ],
      "text/plain": [
       "<IPython.core.display.Markdown object>"
      ]
     },
     "execution_count": 7,
     "metadata": {},
     "output_type": "execute_result"
    }
   ],
   "source": [
    "#hide_input\n",
    "#md('##### {}'.format(titleBTC)) \n",
    "md(\"- {}{} {}{} [| Skaityti daugiau]({}) \".format(eth['title'],'. ', eth['body'], ' ...', eth['url']))"
   ]
  },
  {
   "cell_type": "code",
   "execution_count": 8,
   "id": "sublime-lounge",
   "metadata": {
    "execution": {
     "iopub.execute_input": "2022-11-16T03:22:55.969238Z",
     "iopub.status.busy": "2022-11-16T03:22:55.968569Z",
     "iopub.status.idle": "2022-11-16T03:22:55.972010Z",
     "shell.execute_reply": "2022-11-16T03:22:55.971478Z"
    },
    "papermill": {
     "duration": 0.018511,
     "end_time": "2022-11-16T03:22:55.972120",
     "exception": false,
     "start_time": "2022-11-16T03:22:55.953609",
     "status": "completed"
    },
    "tags": []
   },
   "outputs": [
    {
     "data": {
      "text/markdown": [
       "- Cardano Price Prediction 2023-2031: Is ADA a good investment?.  Cardano Price Predictions 2023-2031 Cardano Price Prediction 2023 – up to $0.62 Cardano Price Prediction 2025 – up to $0.97 Cardano Price Prediction 2028 – up to $1.34 Cardano Price Prediction 2031 – up to $2.42 Yet again, the crypto market is toiling in the abyss of uncertainty following the runoff on the FTX cryptocurrency … Cardano Price Prediction 2023-2031: Is ADA a good investment? Read More » ... [| Skaityti daugiau](https://www.cryptopolitan.com/cardano-price-prediction/) "
      ],
      "text/plain": [
       "<IPython.core.display.Markdown object>"
      ]
     },
     "execution_count": 8,
     "metadata": {},
     "output_type": "execute_result"
    }
   ],
   "source": [
    "#hide_input\n",
    "#md('##### {}'.format(titleBTC)) \n",
    "md(\"- {}{} {}{} [| Skaityti daugiau]({}) \".format(ada['title'],'. ', ada['body'], ' ...', ada['url']))"
   ]
  },
  {
   "cell_type": "code",
   "execution_count": 9,
   "id": "specified-ordering",
   "metadata": {
    "execution": {
     "iopub.execute_input": "2022-11-16T03:22:55.998826Z",
     "iopub.status.busy": "2022-11-16T03:22:55.998258Z",
     "iopub.status.idle": "2022-11-16T03:22:56.001318Z",
     "shell.execute_reply": "2022-11-16T03:22:56.001807Z"
    },
    "papermill": {
     "duration": 0.018896,
     "end_time": "2022-11-16T03:22:56.001925",
     "exception": false,
     "start_time": "2022-11-16T03:22:55.983029",
     "status": "completed"
    },
    "tags": []
   },
   "outputs": [
    {
     "data": {
      "text/markdown": [
       "- Sino Global Capital Regrets Investing In FTX Exchange After Losing A Major Sum.  The crypto industry is witnessing another crisis with the distress of one of the top crypto exchanges in the space, FTX. More firms with exposure and collaborations with the exchange have started experiencing some constraints in their various activities. Related Reading: TT Token Volatility Remains High, Is This The Next LUNC? Following the fall of ... [| Skaityti daugiau](https://bitcoinist.com/sino-global-capital-regrets-investing-ftx-exchange/) "
      ],
      "text/plain": [
       "<IPython.core.display.Markdown object>"
      ]
     },
     "execution_count": 9,
     "metadata": {},
     "output_type": "execute_result"
    }
   ],
   "source": [
    "#hide_input\n",
    "#md('##### {}'.format(titleBTC)) \n",
    "md(\"- {}{} {}{} [| Skaityti daugiau]({}) \".format(exchange['title'],'. ', exchange['body'], ' ...', exchange['url']))"
   ]
  },
  {
   "cell_type": "code",
   "execution_count": null,
   "id": "tender-livestock",
   "metadata": {
    "papermill": {
     "duration": 0.011165,
     "end_time": "2022-11-16T03:22:56.024191",
     "exception": false,
     "start_time": "2022-11-16T03:22:56.013026",
     "status": "completed"
    },
    "tags": []
   },
   "outputs": [],
   "source": []
  },
  {
   "cell_type": "code",
   "execution_count": null,
   "id": "appreciated-diamond",
   "metadata": {
    "papermill": {
     "duration": 0.011099,
     "end_time": "2022-11-16T03:22:56.046553",
     "exception": false,
     "start_time": "2022-11-16T03:22:56.035454",
     "status": "completed"
    },
    "tags": []
   },
   "outputs": [],
   "source": []
  },
  {
   "cell_type": "code",
   "execution_count": null,
   "id": "romance-sweden",
   "metadata": {
    "papermill": {
     "duration": 0.011244,
     "end_time": "2022-11-16T03:22:56.068953",
     "exception": false,
     "start_time": "2022-11-16T03:22:56.057709",
     "status": "completed"
    },
    "tags": []
   },
   "outputs": [],
   "source": []
  },
  {
   "cell_type": "code",
   "execution_count": null,
   "id": "dietary-statistics",
   "metadata": {
    "papermill": {
     "duration": 0.011161,
     "end_time": "2022-11-16T03:22:56.091447",
     "exception": false,
     "start_time": "2022-11-16T03:22:56.080286",
     "status": "completed"
    },
    "tags": []
   },
   "outputs": [],
   "source": []
  }
 ],
 "metadata": {
  "kernelspec": {
   "display_name": "Python 3",
   "language": "python",
   "name": "python3"
  },
  "language_info": {
   "codemirror_mode": {
    "name": "ipython",
    "version": 3
   },
   "file_extension": ".py",
   "mimetype": "text/x-python",
   "name": "python",
   "nbconvert_exporter": "python",
   "pygments_lexer": "ipython3",
   "version": "3.6.15"
  },
  "papermill": {
   "default_parameters": {},
   "duration": 9.233283,
   "end_time": "2022-11-16T03:22:56.622494",
   "environment_variables": {},
   "exception": null,
   "input_path": "Market-News.ipynb",
   "output_path": "Market-News.ipynb",
   "parameters": {},
   "start_time": "2022-11-16T03:22:47.389211",
   "version": "2.2.2"
  }
 },
 "nbformat": 4,
 "nbformat_minor": 5
}