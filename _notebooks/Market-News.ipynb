{
 "cells": [
  {
   "cell_type": "markdown",
   "id": "short-greensboro",
   "metadata": {
    "papermill": {
     "duration": 0.015209,
     "end_time": "2022-10-01T03:55:09.917233",
     "exception": false,
     "start_time": "2022-10-01T03:55:09.902024",
     "status": "completed"
    },
    "tags": []
   },
   "source": [
    "# Kriptovaliutų naujienos"
   ]
  },
  {
   "cell_type": "code",
   "execution_count": 1,
   "id": "functioning-knowing",
   "metadata": {
    "execution": {
     "iopub.execute_input": "2022-10-01T03:55:09.950861Z",
     "iopub.status.busy": "2022-10-01T03:55:09.950155Z",
     "iopub.status.idle": "2022-10-01T03:55:11.361622Z",
     "shell.execute_reply": "2022-10-01T03:55:11.361008Z"
    },
    "papermill": {
     "duration": 1.433615,
     "end_time": "2022-10-01T03:55:11.361784",
     "exception": false,
     "start_time": "2022-10-01T03:55:09.928169",
     "status": "completed"
    },
    "tags": []
   },
   "outputs": [],
   "source": [
    "#hide_input\n",
    "import warnings\n",
    "warnings.filterwarnings('ignore')\n",
    "from scripts.read_data import read_api\n",
    "from scripts.read_data import read_news\n",
    "from scripts.read_data import read_covid\n",
    "import matplotlib.pyplot as plt \n",
    "from IPython.display import Markdown as md"
   ]
  },
  {
   "cell_type": "code",
   "execution_count": 2,
   "id": "shared-acceptance",
   "metadata": {
    "execution": {
     "iopub.execute_input": "2022-10-01T03:55:11.393178Z",
     "iopub.status.busy": "2022-10-01T03:55:11.391999Z",
     "iopub.status.idle": "2022-10-01T03:55:24.683727Z",
     "shell.execute_reply": "2022-10-01T03:55:24.682615Z"
    },
    "papermill": {
     "duration": 13.308765,
     "end_time": "2022-10-01T03:55:24.683877",
     "exception": false,
     "start_time": "2022-10-01T03:55:11.375112",
     "status": "completed"
    },
    "tags": []
   },
   "outputs": [],
   "source": [
    "#hide_input\n",
    "blockchain = read_news('blockchain') \n",
    "btc = read_news('btc') \n",
    "xrp = read_news('xrp') \n",
    "trx = read_news('trx') \n",
    "eth = read_news('eth')  \n",
    "ada = read_news('ada')\n",
    "exchange = read_news('exchange') "
   ]
  },
  {
   "cell_type": "code",
   "execution_count": 3,
   "id": "synthetic-notion",
   "metadata": {
    "execution": {
     "iopub.execute_input": "2022-10-01T03:55:24.711977Z",
     "iopub.status.busy": "2022-10-01T03:55:24.708291Z",
     "iopub.status.idle": "2022-10-01T03:55:24.715162Z",
     "shell.execute_reply": "2022-10-01T03:55:24.715645Z"
    },
    "papermill": {
     "duration": 0.021527,
     "end_time": "2022-10-01T03:55:24.715770",
     "exception": false,
     "start_time": "2022-10-01T03:55:24.694243",
     "status": "completed"
    },
    "tags": []
   },
   "outputs": [
    {
     "data": {
      "text/markdown": [
       "- Shiba Inu Fanbase Awaits Eternity Download Event – Will It Boost SHIB Price?.  The original release of the blockchain implementation of Shiba Eternity occurred in Australia on September 17. Shiba Inu followed the larger market sell-off that began on September 13 and rallied nearly 7% from September 17-18. During this time span, the rally did not significantly alter market sentiment. New information about the game&#8217;s release, though, may add some hype. According to a recent tweet by Shib Rumours, the release date of the game is set for October 1. However, the latest post on the official Shiba Inu Twitter account indicates that the worldwide launch of the game will take place on October 6. SHIB has a current trading range of $0.00001073 &#8211; 0.00001154. Could the meme coin see a resurgence after the game&#8217;s release? Related Reading: Uniswap Could Slide Below Support Zone – No Demand For UNI This Week? Shiba Inu: Increasing Speed After the latest sell-off on September 18, an uptrend has been noted and has been very consistent up to the time of writing. Given that this occurred only a day after the Australia release, it&#8217;s likely that long-term token holders witnessed the price increase and sold off their holdings. During this period, the memecoin saw a pullback and plummeted 8.5% immediately. Currently, the recent price movements have created a head and shoulders pattern before to today&#8217;s breakout. During this breakout, the price increased by 2.9% Given the current state of Shiba Ete... ... [| Skaityti daugiau](https://www.newsbtc.com/news/shiba-inu-fanbase-awaits-eternity-download-event/) "
      ],
      "text/plain": [
       "<IPython.core.display.Markdown object>"
      ]
     },
     "execution_count": 3,
     "metadata": {},
     "output_type": "execute_result"
    }
   ],
   "source": [
    "#hide_input\n",
    "#md('##### {}'.format(titleBTC)) \n",
    "md(\"- {}{} {}{} [| Skaityti daugiau]({}) \".format(blockchain['title'],'. ', blockchain['body'], ' ...', blockchain['url']))"
   ]
  },
  {
   "cell_type": "code",
   "execution_count": 4,
   "id": "aging-caution",
   "metadata": {
    "execution": {
     "iopub.execute_input": "2022-10-01T03:55:24.742266Z",
     "iopub.status.busy": "2022-10-01T03:55:24.739925Z",
     "iopub.status.idle": "2022-10-01T03:55:24.745134Z",
     "shell.execute_reply": "2022-10-01T03:55:24.745658Z"
    },
    "papermill": {
     "duration": 0.019848,
     "end_time": "2022-10-01T03:55:24.745784",
     "exception": false,
     "start_time": "2022-10-01T03:55:24.725936",
     "status": "completed"
    },
    "tags": []
   },
   "outputs": [
    {
     "data": {
      "text/markdown": [
       "- Bitcoin, Ethereum, Litecoin, and Stellar Daily Price Analyses – 30 September Roundup.  The performance of the global crypto market has seen changes recently, affecting its growth. The recent hours brought losses to Bitcoin, Ethereum, and others as they couldn’t retain momentum. The ongoing changes show that the value of the market might recede further. As the pattern of losses persists, the market has been through hard times. &#8230;  Bitcoin, Ethereum, Litecoin, and Stellar Daily Price Analyses – 30 September Roundup Read More &#187; ... [| Skaityti daugiau](https://www.cryptopolitan.com/bitcoin-ethereum-litecoin-and-stellar-daily-price-analyses-30-september-roundup/) "
      ],
      "text/plain": [
       "<IPython.core.display.Markdown object>"
      ]
     },
     "execution_count": 4,
     "metadata": {},
     "output_type": "execute_result"
    }
   ],
   "source": [
    "#hide_input\n",
    "#md('##### {}'.format(titleBTC)) \n",
    "md(\"- {}{} {}{} [| Skaityti daugiau]({}) \".format(btc['title'],'. ', btc['body'], ' ...', btc['url']))"
   ]
  },
  {
   "cell_type": "code",
   "execution_count": 5,
   "id": "organic-actress",
   "metadata": {
    "execution": {
     "iopub.execute_input": "2022-10-01T03:55:24.774762Z",
     "iopub.status.busy": "2022-10-01T03:55:24.771207Z",
     "iopub.status.idle": "2022-10-01T03:55:24.777476Z",
     "shell.execute_reply": "2022-10-01T03:55:24.778003Z"
    },
    "papermill": {
     "duration": 0.021401,
     "end_time": "2022-10-01T03:55:24.778133",
     "exception": false,
     "start_time": "2022-10-01T03:55:24.756732",
     "status": "completed"
    },
    "tags": []
   },
   "outputs": [
    {
     "data": {
      "text/markdown": [
       "- $XRP Price Predictions: Crypto Community Sees Token’s Price Drop by End of Year.  The cryptocurrency community is predicting that the price of the $XRP token will drop by the end of the year, even after it surged over 40% in a month after reports revealed that both Ripple and the U.S. Securities and Exchange Commission (SEC) are looking for a ruling in their long-running legal battle through a […] ... [| Skaityti daugiau](https://www.cryptoglobe.com/latest/2022/10/xrp-price-predictions-crypto-community-sees-tokens-price-drop-by-end-of-year/) "
      ],
      "text/plain": [
       "<IPython.core.display.Markdown object>"
      ]
     },
     "execution_count": 5,
     "metadata": {},
     "output_type": "execute_result"
    }
   ],
   "source": [
    "#hide_input\n",
    "#md('##### {}'.format(titleBTC)) \n",
    "md(\"- {}{} {}{} [| Skaityti daugiau]({}) \".format(xrp['title'],'. ', xrp['body'], ' ...', xrp['url']))"
   ]
  },
  {
   "cell_type": "code",
   "execution_count": 6,
   "id": "prompt-farmer",
   "metadata": {
    "execution": {
     "iopub.execute_input": "2022-10-01T03:55:24.806692Z",
     "iopub.status.busy": "2022-10-01T03:55:24.804203Z",
     "iopub.status.idle": "2022-10-01T03:55:24.809248Z",
     "shell.execute_reply": "2022-10-01T03:55:24.809721Z"
    },
    "papermill": {
     "duration": 0.020815,
     "end_time": "2022-10-01T03:55:24.809843",
     "exception": false,
     "start_time": "2022-10-01T03:55:24.789028",
     "status": "completed"
    },
    "tags": []
   },
   "outputs": [
    {
     "data": {
      "text/markdown": [
       "- Gas-Free TRC-20 Transactions on Guarda Wallet.  Guarda&#8217;s team has worked to improve the validators&#8217; fees to increase the APY received while staking the TRX. The TRX token is among the popular assets available on Guarda Wallet for staking to earn passive income. The APY of Tron is around 4%. So you can just delegate your asset to Guarda’s validator nodes. Brief [&#8230;]The post Gas-Free TRC-20 Transactions on Guarda Wallet appeared first on Blockchain, Crypto and Stock News. ... [| Skaityti daugiau](https://thecoinrise.com/gas-free-trc-20-transactions-on-guarda-wallet/) "
      ],
      "text/plain": [
       "<IPython.core.display.Markdown object>"
      ]
     },
     "execution_count": 6,
     "metadata": {},
     "output_type": "execute_result"
    }
   ],
   "source": [
    "#hide_input\n",
    "#md('##### {}'.format(titleBTC)) \n",
    "md(\"- {}{} {}{} [| Skaityti daugiau]({}) \".format(trx['title'],'. ', trx['body'], ' ...', trx['url']))"
   ]
  },
  {
   "cell_type": "code",
   "execution_count": 7,
   "id": "illegal-greece",
   "metadata": {
    "execution": {
     "iopub.execute_input": "2022-10-01T03:55:24.836968Z",
     "iopub.status.busy": "2022-10-01T03:55:24.836009Z",
     "iopub.status.idle": "2022-10-01T03:55:24.840838Z",
     "shell.execute_reply": "2022-10-01T03:55:24.840297Z"
    },
    "papermill": {
     "duration": 0.019731,
     "end_time": "2022-10-01T03:55:24.840947",
     "exception": false,
     "start_time": "2022-10-01T03:55:24.821216",
     "status": "completed"
    },
    "tags": []
   },
   "outputs": [
    {
     "data": {
      "text/markdown": [
       "- Bitcoin, Ethereum, Litecoin, and Stellar Daily Price Analyses – 30 September Roundup.  The performance of the global crypto market has seen changes recently, affecting its growth. The recent hours brought losses to Bitcoin, Ethereum, and others as they couldn’t retain momentum. The ongoing changes show that the value of the market might recede further. As the pattern of losses persists, the market has been through hard times. &#8230;  Bitcoin, Ethereum, Litecoin, and Stellar Daily Price Analyses – 30 September Roundup Read More &#187; ... [| Skaityti daugiau](https://www.cryptopolitan.com/bitcoin-ethereum-litecoin-and-stellar-daily-price-analyses-30-september-roundup/) "
      ],
      "text/plain": [
       "<IPython.core.display.Markdown object>"
      ]
     },
     "execution_count": 7,
     "metadata": {},
     "output_type": "execute_result"
    }
   ],
   "source": [
    "#hide_input\n",
    "#md('##### {}'.format(titleBTC)) \n",
    "md(\"- {}{} {}{} [| Skaityti daugiau]({}) \".format(eth['title'],'. ', eth['body'], ' ...', eth['url']))"
   ]
  },
  {
   "cell_type": "code",
   "execution_count": 8,
   "id": "sublime-lounge",
   "metadata": {
    "execution": {
     "iopub.execute_input": "2022-10-01T03:55:24.872149Z",
     "iopub.status.busy": "2022-10-01T03:55:24.871519Z",
     "iopub.status.idle": "2022-10-01T03:55:24.876625Z",
     "shell.execute_reply": "2022-10-01T03:55:24.875934Z"
    },
    "papermill": {
     "duration": 0.022687,
     "end_time": "2022-10-01T03:55:24.876748",
     "exception": false,
     "start_time": "2022-10-01T03:55:24.854061",
     "status": "completed"
    },
    "tags": []
   },
   "outputs": [
    {
     "data": {
      "text/markdown": [
       "- Institutional Investors Short $BTC While Betting on $XRP, $ADA, and Multi-Asset Products.  Institutional investors have, throughout the month of September, added to bets against the flagship cryptocurrency Bitcoin ($BTC) by buying up products shorting BTC, while also betting on products offering exposure to $XRP, $ADA, and multiple assets. According to CryptoCompare’s latest Digital Asset Management Review report, for the first time in two years, the average daily […] ... [| Skaityti daugiau](https://www.cryptoglobe.com/latest/2022/10/institutional-investors-short-btc-while-betting-on-xrp-ada-and-multi-asset-products/) "
      ],
      "text/plain": [
       "<IPython.core.display.Markdown object>"
      ]
     },
     "execution_count": 8,
     "metadata": {},
     "output_type": "execute_result"
    }
   ],
   "source": [
    "#hide_input\n",
    "#md('##### {}'.format(titleBTC)) \n",
    "md(\"- {}{} {}{} [| Skaityti daugiau]({}) \".format(ada['title'],'. ', ada['body'], ' ...', ada['url']))"
   ]
  },
  {
   "cell_type": "code",
   "execution_count": 9,
   "id": "specified-ordering",
   "metadata": {
    "execution": {
     "iopub.execute_input": "2022-10-01T03:55:24.905518Z",
     "iopub.status.busy": "2022-10-01T03:55:24.903636Z",
     "iopub.status.idle": "2022-10-01T03:55:24.910268Z",
     "shell.execute_reply": "2022-10-01T03:55:24.910823Z"
    },
    "papermill": {
     "duration": 0.022206,
     "end_time": "2022-10-01T03:55:24.910954",
     "exception": false,
     "start_time": "2022-10-01T03:55:24.888748",
     "status": "completed"
    },
    "tags": []
   },
   "outputs": [
    {
     "data": {
      "text/markdown": [
       "- MakerDAO: What does this exchange’s proposal mean for MKR investors.  MakerDAO [MKR] received a proposal revolving around a partnership from leading cryptocurrency exchange Gemini on 29 September. In a tweet by the decentralized stablecoin creator, Gemini offered to have GUSD run on the protocol&#8217;s ecosystem. GUSD acts as a fiat-backed stablecoin of the Gemini exchange. A look at the original proposal showed that Gemini&#8217;s co-founder, [&#8230;] ... [| Skaityti daugiau](https://ambcrypto.com/makerdao-what-does-this-exchanges-proposal-mean-for-mkr-investors/) "
      ],
      "text/plain": [
       "<IPython.core.display.Markdown object>"
      ]
     },
     "execution_count": 9,
     "metadata": {},
     "output_type": "execute_result"
    }
   ],
   "source": [
    "#hide_input\n",
    "#md('##### {}'.format(titleBTC)) \n",
    "md(\"- {}{} {}{} [| Skaityti daugiau]({}) \".format(exchange['title'],'. ', exchange['body'], ' ...', exchange['url']))"
   ]
  },
  {
   "cell_type": "code",
   "execution_count": null,
   "id": "tender-livestock",
   "metadata": {
    "papermill": {
     "duration": 0.012969,
     "end_time": "2022-10-01T03:55:24.937325",
     "exception": false,
     "start_time": "2022-10-01T03:55:24.924356",
     "status": "completed"
    },
    "tags": []
   },
   "outputs": [],
   "source": []
  },
  {
   "cell_type": "code",
   "execution_count": null,
   "id": "appreciated-diamond",
   "metadata": {
    "papermill": {
     "duration": 0.012777,
     "end_time": "2022-10-01T03:55:24.964338",
     "exception": false,
     "start_time": "2022-10-01T03:55:24.951561",
     "status": "completed"
    },
    "tags": []
   },
   "outputs": [],
   "source": []
  },
  {
   "cell_type": "code",
   "execution_count": null,
   "id": "romance-sweden",
   "metadata": {
    "papermill": {
     "duration": 0.012605,
     "end_time": "2022-10-01T03:55:24.989584",
     "exception": false,
     "start_time": "2022-10-01T03:55:24.976979",
     "status": "completed"
    },
    "tags": []
   },
   "outputs": [],
   "source": []
  },
  {
   "cell_type": "code",
   "execution_count": null,
   "id": "dietary-statistics",
   "metadata": {
    "papermill": {
     "duration": 0.012454,
     "end_time": "2022-10-01T03:55:25.016115",
     "exception": false,
     "start_time": "2022-10-01T03:55:25.003661",
     "status": "completed"
    },
    "tags": []
   },
   "outputs": [],
   "source": []
  }
 ],
 "metadata": {
  "kernelspec": {
   "display_name": "Python 3",
   "language": "python",
   "name": "python3"
  },
  "language_info": {
   "codemirror_mode": {
    "name": "ipython",
    "version": 3
   },
   "file_extension": ".py",
   "mimetype": "text/x-python",
   "name": "python",
   "nbconvert_exporter": "python",
   "pygments_lexer": "ipython3",
   "version": "3.6.15"
  },
  "papermill": {
   "default_parameters": {},
   "duration": 16.926335,
   "end_time": "2022-10-01T03:55:25.549932",
   "environment_variables": {},
   "exception": null,
   "input_path": "Market-News.ipynb",
   "output_path": "Market-News.ipynb",
   "parameters": {},
   "start_time": "2022-10-01T03:55:08.623597",
   "version": "2.2.2"
  }
 },
 "nbformat": 4,
 "nbformat_minor": 5
}