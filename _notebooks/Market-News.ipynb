{
 "cells": [
  {
   "cell_type": "markdown",
   "id": "short-greensboro",
   "metadata": {
    "papermill": {
     "duration": 0.013233,
     "end_time": "2022-11-12T02:58:10.096362",
     "exception": false,
     "start_time": "2022-11-12T02:58:10.083129",
     "status": "completed"
    },
    "tags": []
   },
   "source": [
    "# Kriptovaliutų naujienos"
   ]
  },
  {
   "cell_type": "code",
   "execution_count": 1,
   "id": "functioning-knowing",
   "metadata": {
    "execution": {
     "iopub.execute_input": "2022-11-12T02:58:10.125892Z",
     "iopub.status.busy": "2022-11-12T02:58:10.125250Z",
     "iopub.status.idle": "2022-11-12T02:58:11.350662Z",
     "shell.execute_reply": "2022-11-12T02:58:11.350058Z"
    },
    "papermill": {
     "duration": 1.244714,
     "end_time": "2022-11-12T02:58:11.350827",
     "exception": false,
     "start_time": "2022-11-12T02:58:10.106113",
     "status": "completed"
    },
    "tags": []
   },
   "outputs": [],
   "source": [
    "#hide_input\n",
    "import warnings\n",
    "warnings.filterwarnings('ignore')\n",
    "from scripts.read_data import read_api\n",
    "from scripts.read_data import read_news\n",
    "from scripts.read_data import read_covid\n",
    "import matplotlib.pyplot as plt \n",
    "from IPython.display import Markdown as md"
   ]
  },
  {
   "cell_type": "code",
   "execution_count": 2,
   "id": "shared-acceptance",
   "metadata": {
    "execution": {
     "iopub.execute_input": "2022-11-12T02:58:11.375765Z",
     "iopub.status.busy": "2022-11-12T02:58:11.374805Z",
     "iopub.status.idle": "2022-11-12T02:58:17.046014Z",
     "shell.execute_reply": "2022-11-12T02:58:17.045055Z"
    },
    "papermill": {
     "duration": 5.685986,
     "end_time": "2022-11-12T02:58:17.046160",
     "exception": false,
     "start_time": "2022-11-12T02:58:11.360174",
     "status": "completed"
    },
    "tags": []
   },
   "outputs": [],
   "source": [
    "#hide_input\n",
    "blockchain = read_news('blockchain') \n",
    "btc = read_news('btc') \n",
    "xrp = read_news('xrp') \n",
    "trx = read_news('trx') \n",
    "eth = read_news('eth')  \n",
    "ada = read_news('ada')\n",
    "exchange = read_news('exchange') "
   ]
  },
  {
   "cell_type": "code",
   "execution_count": 3,
   "id": "synthetic-notion",
   "metadata": {
    "execution": {
     "iopub.execute_input": "2022-11-12T02:58:17.070570Z",
     "iopub.status.busy": "2022-11-12T02:58:17.069941Z",
     "iopub.status.idle": "2022-11-12T02:58:17.073485Z",
     "shell.execute_reply": "2022-11-12T02:58:17.073026Z"
    },
    "papermill": {
     "duration": 0.018036,
     "end_time": "2022-11-12T02:58:17.073601",
     "exception": false,
     "start_time": "2022-11-12T02:58:17.055565",
     "status": "completed"
    },
    "tags": []
   },
   "outputs": [
    {
     "data": {
      "text/markdown": [
       "- Kraken’s Jesse Powell publicly criticizes FTX CEO Sam Bankman-Fried.  Powell voiced his disappointment with the FTX saga and its impact on the cryptocurrency market in a tweet thread. The post Kraken’s Jesse Powell publicly criticizes FTX CEO Sam Bankman-Fried appeared first on Blockchain, Crypto and Stock News . ... [| Skaityti daugiau](https://thecoinrise.com/krakens-jesse-powell-publicly-criticizes-ftx-ceo-sam-bankman-fried/) "
      ],
      "text/plain": [
       "<IPython.core.display.Markdown object>"
      ]
     },
     "execution_count": 3,
     "metadata": {},
     "output_type": "execute_result"
    }
   ],
   "source": [
    "#hide_input\n",
    "#md('##### {}'.format(titleBTC)) \n",
    "md(\"- {}{} {}{} [| Skaityti daugiau]({}) \".format(blockchain['title'],'. ', blockchain['body'], ' ...', blockchain['url']))"
   ]
  },
  {
   "cell_type": "code",
   "execution_count": 4,
   "id": "aging-caution",
   "metadata": {
    "execution": {
     "iopub.execute_input": "2022-11-12T02:58:17.097023Z",
     "iopub.status.busy": "2022-11-12T02:58:17.096320Z",
     "iopub.status.idle": "2022-11-12T02:58:17.098874Z",
     "shell.execute_reply": "2022-11-12T02:58:17.099336Z"
    },
    "papermill": {
     "duration": 0.016784,
     "end_time": "2022-11-12T02:58:17.099451",
     "exception": false,
     "start_time": "2022-11-12T02:58:17.082667",
     "status": "completed"
    },
    "tags": []
   },
   "outputs": [
    {
     "data": {
      "text/markdown": [
       "- NYDIG Co-Founder Says ‘Do Not Invest’ in ‘Non-Bitcoin Crypto’ or ‘Non-Bitcoin DeFi’.  Ross Stevens, Co-Founder and Executive Chairman of NYDIG, and Greg Cipolaro, NYDIG’s Head of Research, recently wrote an article in which they explained why their firm “always has been” and “always will be” a Bitcoin company. NYDIG is “a subsidiary of Stone Ridge, a holding company that has led the creation of forward-thinking firms across ... [| Skaityti daugiau](https://www.cryptoglobe.com/latest/2022/11/nydig-co-founder-says-do-not-invest-in-non-bitcoin-crypto-or-non-bitcoin-defi/) "
      ],
      "text/plain": [
       "<IPython.core.display.Markdown object>"
      ]
     },
     "execution_count": 4,
     "metadata": {},
     "output_type": "execute_result"
    }
   ],
   "source": [
    "#hide_input\n",
    "#md('##### {}'.format(titleBTC)) \n",
    "md(\"- {}{} {}{} [| Skaityti daugiau]({}) \".format(btc['title'],'. ', btc['body'], ' ...', btc['url']))"
   ]
  },
  {
   "cell_type": "code",
   "execution_count": 5,
   "id": "organic-actress",
   "metadata": {
    "execution": {
     "iopub.execute_input": "2022-11-12T02:58:17.123543Z",
     "iopub.status.busy": "2022-11-12T02:58:17.122969Z",
     "iopub.status.idle": "2022-11-12T02:58:17.126478Z",
     "shell.execute_reply": "2022-11-12T02:58:17.126922Z"
    },
    "papermill": {
     "duration": 0.017959,
     "end_time": "2022-11-12T02:58:17.127039",
     "exception": false,
     "start_time": "2022-11-12T02:58:17.109080",
     "status": "completed"
    },
    "tags": []
   },
   "outputs": [
    {
     "data": {
      "text/markdown": [
       "- Ripple’s new collaboration may have this in store for NFT enthusiasts.  Ripple announced new partnership that could help boost its growth in the NFT markets However, its popular NFTs did not perform well in the past few days. Despite Ripple’s ongoing litigation battles, the company continued to show improvements and tried to work on its performance in terms of NFTs. Read Ripple’s Price Prediction 2022-2023 In ... [| Skaityti daugiau](https://ambcrypto.com/ripples-new-collaboration-may-have-this-in-store-for-nft-enthusiasts/) "
      ],
      "text/plain": [
       "<IPython.core.display.Markdown object>"
      ]
     },
     "execution_count": 5,
     "metadata": {},
     "output_type": "execute_result"
    }
   ],
   "source": [
    "#hide_input\n",
    "#md('##### {}'.format(titleBTC)) \n",
    "md(\"- {}{} {}{} [| Skaityti daugiau]({}) \".format(xrp['title'],'. ', xrp['body'], ' ...', xrp['url']))"
   ]
  },
  {
   "cell_type": "code",
   "execution_count": 6,
   "id": "prompt-farmer",
   "metadata": {
    "execution": {
     "iopub.execute_input": "2022-11-12T02:58:17.150802Z",
     "iopub.status.busy": "2022-11-12T02:58:17.150235Z",
     "iopub.status.idle": "2022-11-12T02:58:17.153811Z",
     "shell.execute_reply": "2022-11-12T02:58:17.153348Z"
    },
    "papermill": {
     "duration": 0.017201,
     "end_time": "2022-11-12T02:58:17.153911",
     "exception": false,
     "start_time": "2022-11-12T02:58:17.136710",
     "status": "completed"
    },
    "tags": []
   },
   "outputs": [
    {
     "data": {
      "text/markdown": [
       "- Tron holders planning to cut losses might be relieved to know this update.  Justin Sun announced an agreement with FTX that would allow TRX holders to swap their assets In lieu of this, social engagements and mentions for Tron increased along with its weighted sentiment On 10 November, Justin Sun, the founder of Tron [TRX], announced that Tron would soon reach a special agreement with FTX that would ... [| Skaityti daugiau](https://ambcrypto.com/tron-holders-planning-to-cut-losses-might-be-relieved-to-know-this-update/) "
      ],
      "text/plain": [
       "<IPython.core.display.Markdown object>"
      ]
     },
     "execution_count": 6,
     "metadata": {},
     "output_type": "execute_result"
    }
   ],
   "source": [
    "#hide_input\n",
    "#md('##### {}'.format(titleBTC)) \n",
    "md(\"- {}{} {}{} [| Skaityti daugiau]({}) \".format(trx['title'],'. ', trx['body'], ' ...', trx['url']))"
   ]
  },
  {
   "cell_type": "code",
   "execution_count": 7,
   "id": "illegal-greece",
   "metadata": {
    "execution": {
     "iopub.execute_input": "2022-11-12T02:58:17.178022Z",
     "iopub.status.busy": "2022-11-12T02:58:17.177206Z",
     "iopub.status.idle": "2022-11-12T02:58:17.180981Z",
     "shell.execute_reply": "2022-11-12T02:58:17.181427Z"
    },
    "papermill": {
     "duration": 0.017478,
     "end_time": "2022-11-12T02:58:17.181535",
     "exception": false,
     "start_time": "2022-11-12T02:58:17.164057",
     "status": "completed"
    },
    "tags": []
   },
   "outputs": [
    {
     "data": {
      "text/markdown": [
       "- Buterin breaks silence on FTX debacle, says ‘fraud cuts deeper’.  Ethereum founder Vitalik Buterin weighed in on FTX's spectacular collapse and says the \"fraud cuts deeper\" in his first direct comment on the matter. ... [| Skaityti daugiau](https://www.theblock.co/post/186273/buterin-breaks-silence-on-ftx-debacle-says-fraud-cuts-deeper?utm_source=cryptocompare&utm_medium=rss) "
      ],
      "text/plain": [
       "<IPython.core.display.Markdown object>"
      ]
     },
     "execution_count": 7,
     "metadata": {},
     "output_type": "execute_result"
    }
   ],
   "source": [
    "#hide_input\n",
    "#md('##### {}'.format(titleBTC)) \n",
    "md(\"- {}{} {}{} [| Skaityti daugiau]({}) \".format(eth['title'],'. ', eth['body'], ' ...', eth['url']))"
   ]
  },
  {
   "cell_type": "code",
   "execution_count": 8,
   "id": "sublime-lounge",
   "metadata": {
    "execution": {
     "iopub.execute_input": "2022-11-12T02:58:17.207978Z",
     "iopub.status.busy": "2022-11-12T02:58:17.207411Z",
     "iopub.status.idle": "2022-11-12T02:58:17.210778Z",
     "shell.execute_reply": "2022-11-12T02:58:17.211244Z"
    },
    "papermill": {
     "duration": 0.018292,
     "end_time": "2022-11-12T02:58:17.211352",
     "exception": false,
     "start_time": "2022-11-12T02:58:17.193060",
     "status": "completed"
    },
    "tags": []
   },
   "outputs": [
    {
     "data": {
      "text/markdown": [
       "- Polygon, Cardano, and Solana — Top 3 Altcoins On The Cusp Of Meteoric Boost In Q4 2022.  The crypto market has a few crypto assets looking poised for a bullish breakout in adoption and price performance and are worth looking out for in November and December. Among these are Polygon (MATIC), Cardano (ADA), and Solana (SOL). ... [| Skaityti daugiau](https://zycrypto.com/polygon-cardano-and-solana-top-3-altcoins-on-the-cusp-of-meteoric-boost-in-q4-2022/) "
      ],
      "text/plain": [
       "<IPython.core.display.Markdown object>"
      ]
     },
     "execution_count": 8,
     "metadata": {},
     "output_type": "execute_result"
    }
   ],
   "source": [
    "#hide_input\n",
    "#md('##### {}'.format(titleBTC)) \n",
    "md(\"- {}{} {}{} [| Skaityti daugiau]({}) \".format(ada['title'],'. ', ada['body'], ' ...', ada['url']))"
   ]
  },
  {
   "cell_type": "code",
   "execution_count": 9,
   "id": "specified-ordering",
   "metadata": {
    "execution": {
     "iopub.execute_input": "2022-11-12T02:58:17.237160Z",
     "iopub.status.busy": "2022-11-12T02:58:17.235973Z",
     "iopub.status.idle": "2022-11-12T02:58:17.240220Z",
     "shell.execute_reply": "2022-11-12T02:58:17.240689Z"
    },
    "papermill": {
     "duration": 0.018835,
     "end_time": "2022-11-12T02:58:17.240821",
     "exception": false,
     "start_time": "2022-11-12T02:58:17.221986",
     "status": "completed"
    },
    "tags": []
   },
   "outputs": [
    {
     "data": {
      "text/markdown": [
       "- Binance Coin retests $315 as resistance, is it the right time to go short.  Disclaimer: The findings of the following analysis are the sole opinions of the writer and should not be considered investment advice Daily structure strongly bearish following rejection at $360 $280 and $260 are levels to watch out for, but it could be risky for the bulls Binance Coin crashed as far south as $260 on 9 ... [| Skaityti daugiau](https://ambcrypto.com/binance-coin-retests-315-as-resistance-is-it-the-right-time-to-go-short/) "
      ],
      "text/plain": [
       "<IPython.core.display.Markdown object>"
      ]
     },
     "execution_count": 9,
     "metadata": {},
     "output_type": "execute_result"
    }
   ],
   "source": [
    "#hide_input\n",
    "#md('##### {}'.format(titleBTC)) \n",
    "md(\"- {}{} {}{} [| Skaityti daugiau]({}) \".format(exchange['title'],'. ', exchange['body'], ' ...', exchange['url']))"
   ]
  },
  {
   "cell_type": "code",
   "execution_count": null,
   "id": "tender-livestock",
   "metadata": {
    "papermill": {
     "duration": 0.011021,
     "end_time": "2022-11-12T02:58:17.262784",
     "exception": false,
     "start_time": "2022-11-12T02:58:17.251763",
     "status": "completed"
    },
    "tags": []
   },
   "outputs": [],
   "source": []
  },
  {
   "cell_type": "code",
   "execution_count": null,
   "id": "appreciated-diamond",
   "metadata": {
    "papermill": {
     "duration": 0.010896,
     "end_time": "2022-11-12T02:58:17.284876",
     "exception": false,
     "start_time": "2022-11-12T02:58:17.273980",
     "status": "completed"
    },
    "tags": []
   },
   "outputs": [],
   "source": []
  },
  {
   "cell_type": "code",
   "execution_count": null,
   "id": "romance-sweden",
   "metadata": {
    "papermill": {
     "duration": 0.010927,
     "end_time": "2022-11-12T02:58:17.306801",
     "exception": false,
     "start_time": "2022-11-12T02:58:17.295874",
     "status": "completed"
    },
    "tags": []
   },
   "outputs": [],
   "source": []
  },
  {
   "cell_type": "code",
   "execution_count": null,
   "id": "dietary-statistics",
   "metadata": {
    "papermill": {
     "duration": 0.010934,
     "end_time": "2022-11-12T02:58:17.328789",
     "exception": false,
     "start_time": "2022-11-12T02:58:17.317855",
     "status": "completed"
    },
    "tags": []
   },
   "outputs": [],
   "source": []
  }
 ],
 "metadata": {
  "kernelspec": {
   "display_name": "Python 3",
   "language": "python",
   "name": "python3"
  },
  "language_info": {
   "codemirror_mode": {
    "name": "ipython",
    "version": 3
   },
   "file_extension": ".py",
   "mimetype": "text/x-python",
   "name": "python",
   "nbconvert_exporter": "python",
   "pygments_lexer": "ipython3",
   "version": "3.6.15"
  },
  "papermill": {
   "default_parameters": {},
   "duration": 8.694165,
   "end_time": "2022-11-12T02:58:17.858593",
   "environment_variables": {},
   "exception": null,
   "input_path": "Market-News.ipynb",
   "output_path": "Market-News.ipynb",
   "parameters": {},
   "start_time": "2022-11-12T02:58:09.164428",
   "version": "2.2.2"
  }
 },
 "nbformat": 4,
 "nbformat_minor": 5
}