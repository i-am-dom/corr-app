{
 "cells": [
  {
   "cell_type": "markdown",
   "id": "short-greensboro",
   "metadata": {
    "papermill": {
     "duration": 0.013709,
     "end_time": "2022-01-17T02:10:05.548019",
     "exception": false,
     "start_time": "2022-01-17T02:10:05.534310",
     "status": "completed"
    },
    "tags": []
   },
   "source": [
    "# Kriptovaliutų naujienos"
   ]
  },
  {
   "cell_type": "code",
   "execution_count": 1,
   "id": "functioning-knowing",
   "metadata": {
    "execution": {
     "iopub.execute_input": "2022-01-17T02:10:05.577355Z",
     "iopub.status.busy": "2022-01-17T02:10:05.576820Z",
     "iopub.status.idle": "2022-01-17T02:10:06.811964Z",
     "shell.execute_reply": "2022-01-17T02:10:06.811368Z"
    },
    "papermill": {
     "duration": 1.254319,
     "end_time": "2022-01-17T02:10:06.812121",
     "exception": false,
     "start_time": "2022-01-17T02:10:05.557802",
     "status": "completed"
    },
    "tags": []
   },
   "outputs": [],
   "source": [
    "#hide_input\n",
    "import warnings\n",
    "warnings.filterwarnings('ignore')\n",
    "from scripts.read_data import read_api\n",
    "from scripts.read_data import read_news\n",
    "from scripts.read_data import read_covid\n",
    "import matplotlib.pyplot as plt \n",
    "from IPython.display import Markdown as md"
   ]
  },
  {
   "cell_type": "code",
   "execution_count": 2,
   "id": "shared-acceptance",
   "metadata": {
    "execution": {
     "iopub.execute_input": "2022-01-17T02:10:06.837246Z",
     "iopub.status.busy": "2022-01-17T02:10:06.836663Z",
     "iopub.status.idle": "2022-01-17T02:10:16.205837Z",
     "shell.execute_reply": "2022-01-17T02:10:16.205320Z"
    },
    "papermill": {
     "duration": 9.384292,
     "end_time": "2022-01-17T02:10:16.205974",
     "exception": false,
     "start_time": "2022-01-17T02:10:06.821682",
     "status": "completed"
    },
    "tags": []
   },
   "outputs": [],
   "source": [
    "#hide_input\n",
    "blockchain = read_news('blockchain') \n",
    "btc = read_news('btc') \n",
    "xrp = read_news('xrp') \n",
    "trx = read_news('trx') \n",
    "eth = read_news('eth')  \n",
    "ada = read_news('ada')\n",
    "exchange = read_news('exchange') "
   ]
  },
  {
   "cell_type": "code",
   "execution_count": 3,
   "id": "synthetic-notion",
   "metadata": {
    "execution": {
     "iopub.execute_input": "2022-01-17T02:10:16.229847Z",
     "iopub.status.busy": "2022-01-17T02:10:16.227783Z",
     "iopub.status.idle": "2022-01-17T02:10:16.232603Z",
     "shell.execute_reply": "2022-01-17T02:10:16.232202Z"
    },
    "papermill": {
     "duration": 0.017219,
     "end_time": "2022-01-17T02:10:16.232708",
     "exception": false,
     "start_time": "2022-01-17T02:10:16.215489",
     "status": "completed"
    },
    "tags": []
   },
   "outputs": [
    {
     "data": {
      "text/markdown": [
       "- NFTs and Blockchain-Based Games on the Rise Despite the Recent Crypto Decline (Report).  DappRadar estimated that the recent crypto downturn has not harmed blockchain-based games and NFTs. ... [| Skaityti daugiau](https://cryptopotato.com/nfts-and-blockchain-based-games-on-the-rise-despite-the-recent-crypto-decline-report/) "
      ],
      "text/plain": [
       "<IPython.core.display.Markdown object>"
      ]
     },
     "execution_count": 3,
     "metadata": {},
     "output_type": "execute_result"
    }
   ],
   "source": [
    "#hide_input\n",
    "#md('##### {}'.format(titleBTC)) \n",
    "md(\"- {}{} {}{} [| Skaityti daugiau]({}) \".format(blockchain['title'],'. ', blockchain['body'], ' ...', blockchain['url']))"
   ]
  },
  {
   "cell_type": "code",
   "execution_count": 4,
   "id": "aging-caution",
   "metadata": {
    "execution": {
     "iopub.execute_input": "2022-01-17T02:10:16.255841Z",
     "iopub.status.busy": "2022-01-17T02:10:16.255337Z",
     "iopub.status.idle": "2022-01-17T02:10:16.257912Z",
     "shell.execute_reply": "2022-01-17T02:10:16.258315Z"
    },
    "papermill": {
     "duration": 0.01641,
     "end_time": "2022-01-17T02:10:16.258423",
     "exception": false,
     "start_time": "2022-01-17T02:10:16.242013",
     "status": "completed"
    },
    "tags": []
   },
   "outputs": [
    {
     "data": {
      "text/markdown": [
       "- XRP Price Eyeing Massive Rally! XRP Better Performing Than BTC Says Analyst.  The post XRP Price Eyeing Massive Rally! XRP Better Performing Than BTC Says Analyst appeared first on Coinpedia - Fintech &amp; Cryptocurreny News Media| Crypto GuideOver the last 24 hours of trading, the market has had a mixed bag of results. Bitcoin, the market leader, has dropped 0.33 percent, while Ethereum has lost 0.42 percent. With a gain of nearly 10%, Cardano (ADA) is the best performer today. XRP Price Action The XRP/USD is moving to retest support at $0.80, &#8230; ... [| Skaityti daugiau](https://coinpedia.org/altcoin/xrp-price-eyeing-massive-rally-xrp-better-performing-than-btc-says-analyst/) "
      ],
      "text/plain": [
       "<IPython.core.display.Markdown object>"
      ]
     },
     "execution_count": 4,
     "metadata": {},
     "output_type": "execute_result"
    }
   ],
   "source": [
    "#hide_input\n",
    "#md('##### {}'.format(titleBTC)) \n",
    "md(\"- {}{} {}{} [| Skaityti daugiau]({}) \".format(btc['title'],'. ', btc['body'], ' ...', btc['url']))"
   ]
  },
  {
   "cell_type": "code",
   "execution_count": 5,
   "id": "organic-actress",
   "metadata": {
    "execution": {
     "iopub.execute_input": "2022-01-17T02:10:16.282148Z",
     "iopub.status.busy": "2022-01-17T02:10:16.281377Z",
     "iopub.status.idle": "2022-01-17T02:10:16.284567Z",
     "shell.execute_reply": "2022-01-17T02:10:16.285082Z"
    },
    "papermill": {
     "duration": 0.017266,
     "end_time": "2022-01-17T02:10:16.285209",
     "exception": false,
     "start_time": "2022-01-17T02:10:16.267943",
     "status": "completed"
    },
    "tags": []
   },
   "outputs": [
    {
     "data": {
      "text/markdown": [
       "- XRP Price Eyeing Massive Rally! XRP Better Performing Than BTC Says Analyst.  The post XRP Price Eyeing Massive Rally! XRP Better Performing Than BTC Says Analyst appeared first on Coinpedia - Fintech &amp; Cryptocurreny News Media| Crypto GuideOver the last 24 hours of trading, the market has had a mixed bag of results. Bitcoin, the market leader, has dropped 0.33 percent, while Ethereum has lost 0.42 percent. With a gain of nearly 10%, Cardano (ADA) is the best performer today. XRP Price Action The XRP/USD is moving to retest support at $0.80, &#8230; ... [| Skaityti daugiau](https://coinpedia.org/altcoin/xrp-price-eyeing-massive-rally-xrp-better-performing-than-btc-says-analyst/) "
      ],
      "text/plain": [
       "<IPython.core.display.Markdown object>"
      ]
     },
     "execution_count": 5,
     "metadata": {},
     "output_type": "execute_result"
    }
   ],
   "source": [
    "#hide_input\n",
    "#md('##### {}'.format(titleBTC)) \n",
    "md(\"- {}{} {}{} [| Skaityti daugiau]({}) \".format(xrp['title'],'. ', xrp['body'], ' ...', xrp['url']))"
   ]
  },
  {
   "cell_type": "code",
   "execution_count": 6,
   "id": "prompt-farmer",
   "metadata": {
    "execution": {
     "iopub.execute_input": "2022-01-17T02:10:16.310485Z",
     "iopub.status.busy": "2022-01-17T02:10:16.309983Z",
     "iopub.status.idle": "2022-01-17T02:10:16.312559Z",
     "shell.execute_reply": "2022-01-17T02:10:16.313041Z"
    },
    "papermill": {
     "duration": 0.017559,
     "end_time": "2022-01-17T02:10:16.313169",
     "exception": false,
     "start_time": "2022-01-17T02:10:16.295610",
     "status": "completed"
    },
    "tags": []
   },
   "outputs": [
    {
     "data": {
      "text/markdown": [
       "- Tron, Cosmos, Fantom Price Analysis: 16 January.  While the broader market refrained from high volatility in the past 24-hours, Cosmos and Fantom eyed to retest their ATH level. Their near-term technicals chose the buyers. But both their CMFs could barely cross the equilibrium. Similarly, Tron saw overbought readings on the Bolinger bands and saw a near-term pullback. Tron (TRX) The buyers finally [&#8230;] ... [| Skaityti daugiau](https://ambcrypto.com/tron-cosmos-fantom-price-analysis-16-january/) "
      ],
      "text/plain": [
       "<IPython.core.display.Markdown object>"
      ]
     },
     "execution_count": 6,
     "metadata": {},
     "output_type": "execute_result"
    }
   ],
   "source": [
    "#hide_input\n",
    "#md('##### {}'.format(titleBTC)) \n",
    "md(\"- {}{} {}{} [| Skaityti daugiau]({}) \".format(trx['title'],'. ', trx['body'], ' ...', trx['url']))"
   ]
  },
  {
   "cell_type": "code",
   "execution_count": 7,
   "id": "illegal-greece",
   "metadata": {
    "execution": {
     "iopub.execute_input": "2022-01-17T02:10:16.337489Z",
     "iopub.status.busy": "2022-01-17T02:10:16.336982Z",
     "iopub.status.idle": "2022-01-17T02:10:16.339532Z",
     "shell.execute_reply": "2022-01-17T02:10:16.339961Z"
    },
    "papermill": {
     "duration": 0.016584,
     "end_time": "2022-01-17T02:10:16.340068",
     "exception": false,
     "start_time": "2022-01-17T02:10:16.323484",
     "status": "completed"
    },
    "tags": []
   },
   "outputs": [
    {
     "data": {
      "text/markdown": [
       "- These 3 Cryptocurrencies Gained Over 300% Today (BART, PXT, THOREUM).  This weekend, crypto markets continue to trade sideways, with Bitcoin and Ethereum holding support. When the markets are trading sideways, it creates ample opportunity for unknown projects to explode in value. This article looks at the top three biggest gainers on CoinMarketCap gaining the most price today, ordered by 24-hour growth, lowest to highest. BarterTrade [&#8230;]The post These 3 Cryptocurrencies Gained Over 300% Today (BART, PXT, THOREUM) appeared first on NullTX. ... [| Skaityti daugiau](https://nulltx.com/these-3-cryptocurrencies-gained-over-300-today-bart-pxt-thoreum/) "
      ],
      "text/plain": [
       "<IPython.core.display.Markdown object>"
      ]
     },
     "execution_count": 7,
     "metadata": {},
     "output_type": "execute_result"
    }
   ],
   "source": [
    "#hide_input\n",
    "#md('##### {}'.format(titleBTC)) \n",
    "md(\"- {}{} {}{} [| Skaityti daugiau]({}) \".format(eth['title'],'. ', eth['body'], ' ...', eth['url']))"
   ]
  },
  {
   "cell_type": "code",
   "execution_count": 8,
   "id": "sublime-lounge",
   "metadata": {
    "execution": {
     "iopub.execute_input": "2022-01-17T02:10:16.365404Z",
     "iopub.status.busy": "2022-01-17T02:10:16.364895Z",
     "iopub.status.idle": "2022-01-17T02:10:16.367683Z",
     "shell.execute_reply": "2022-01-17T02:10:16.368084Z"
    },
    "papermill": {
     "duration": 0.017604,
     "end_time": "2022-01-17T02:10:16.368192",
     "exception": false,
     "start_time": "2022-01-17T02:10:16.350588",
     "status": "completed"
    },
    "tags": []
   },
   "outputs": [
    {
     "data": {
      "text/markdown": [
       "- XRP Price Eyeing Massive Rally! XRP Better Performing Than BTC Says Analyst.  The post XRP Price Eyeing Massive Rally! XRP Better Performing Than BTC Says Analyst appeared first on Coinpedia - Fintech &amp; Cryptocurreny News Media| Crypto GuideOver the last 24 hours of trading, the market has had a mixed bag of results. Bitcoin, the market leader, has dropped 0.33 percent, while Ethereum has lost 0.42 percent. With a gain of nearly 10%, Cardano (ADA) is the best performer today. XRP Price Action The XRP/USD is moving to retest support at $0.80, &#8230; ... [| Skaityti daugiau](https://coinpedia.org/altcoin/xrp-price-eyeing-massive-rally-xrp-better-performing-than-btc-says-analyst/) "
      ],
      "text/plain": [
       "<IPython.core.display.Markdown object>"
      ]
     },
     "execution_count": 8,
     "metadata": {},
     "output_type": "execute_result"
    }
   ],
   "source": [
    "#hide_input\n",
    "#md('##### {}'.format(titleBTC)) \n",
    "md(\"- {}{} {}{} [| Skaityti daugiau]({}) \".format(ada['title'],'. ', ada['body'], ' ...', ada['url']))"
   ]
  },
  {
   "cell_type": "code",
   "execution_count": 9,
   "id": "specified-ordering",
   "metadata": {
    "execution": {
     "iopub.execute_input": "2022-01-17T02:10:16.394404Z",
     "iopub.status.busy": "2022-01-17T02:10:16.393907Z",
     "iopub.status.idle": "2022-01-17T02:10:16.396714Z",
     "shell.execute_reply": "2022-01-17T02:10:16.397179Z"
    },
    "papermill": {
     "duration": 0.018183,
     "end_time": "2022-01-17T02:10:16.397291",
     "exception": false,
     "start_time": "2022-01-17T02:10:16.379108",
     "status": "completed"
    },
    "tags": []
   },
   "outputs": [
    {
     "data": {
      "text/markdown": [
       "- Decentralized Exchange Osmosis Rises Above $1Billion In Total Value Locked.  Some cryptocurrencies are still reporting a dip in their total value locked and the price of native tokens at the beginning of 2022. But Osmosis has a different story to tell. On Monday, trackers revealed that this Cosmos network&#8217;s first decentralized exchange records an increase in its total locked value (TVL). The beginning of 2022 [&#8230;] ... [| Skaityti daugiau](https://bitcoinist.com/decentralized-exchange-osmosis-rises-above-1billion-in-total-value-locked/) "
      ],
      "text/plain": [
       "<IPython.core.display.Markdown object>"
      ]
     },
     "execution_count": 9,
     "metadata": {},
     "output_type": "execute_result"
    }
   ],
   "source": [
    "#hide_input\n",
    "#md('##### {}'.format(titleBTC)) \n",
    "md(\"- {}{} {}{} [| Skaityti daugiau]({}) \".format(exchange['title'],'. ', exchange['body'], ' ...', exchange['url']))"
   ]
  },
  {
   "cell_type": "code",
   "execution_count": null,
   "id": "tender-livestock",
   "metadata": {
    "papermill": {
     "duration": 0.011139,
     "end_time": "2022-01-17T02:10:16.419548",
     "exception": false,
     "start_time": "2022-01-17T02:10:16.408409",
     "status": "completed"
    },
    "tags": []
   },
   "outputs": [],
   "source": []
  },
  {
   "cell_type": "code",
   "execution_count": null,
   "id": "appreciated-diamond",
   "metadata": {
    "papermill": {
     "duration": 0.011165,
     "end_time": "2022-01-17T02:10:16.442067",
     "exception": false,
     "start_time": "2022-01-17T02:10:16.430902",
     "status": "completed"
    },
    "tags": []
   },
   "outputs": [],
   "source": []
  },
  {
   "cell_type": "code",
   "execution_count": null,
   "id": "romance-sweden",
   "metadata": {
    "papermill": {
     "duration": 0.011106,
     "end_time": "2022-01-17T02:10:16.464331",
     "exception": false,
     "start_time": "2022-01-17T02:10:16.453225",
     "status": "completed"
    },
    "tags": []
   },
   "outputs": [],
   "source": []
  },
  {
   "cell_type": "code",
   "execution_count": null,
   "id": "dietary-statistics",
   "metadata": {
    "papermill": {
     "duration": 0.011121,
     "end_time": "2022-01-17T02:10:16.486596",
     "exception": false,
     "start_time": "2022-01-17T02:10:16.475475",
     "status": "completed"
    },
    "tags": []
   },
   "outputs": [],
   "source": []
  }
 ],
 "metadata": {
  "kernelspec": {
   "display_name": "Python 3",
   "language": "python",
   "name": "python3"
  },
  "language_info": {
   "codemirror_mode": {
    "name": "ipython",
    "version": 3
   },
   "file_extension": ".py",
   "mimetype": "text/x-python",
   "name": "python",
   "nbconvert_exporter": "python",
   "pygments_lexer": "ipython3",
   "version": "3.6.15"
  },
  "papermill": {
   "default_parameters": {},
   "duration": 12.295868,
   "end_time": "2022-01-17T02:10:16.917263",
   "environment_variables": {},
   "exception": null,
   "input_path": "Market-News.ipynb",
   "output_path": "Market-News.ipynb",
   "parameters": {},
   "start_time": "2022-01-17T02:10:04.621395",
   "version": "2.2.2"
  }
 },
 "nbformat": 4,
 "nbformat_minor": 5
}