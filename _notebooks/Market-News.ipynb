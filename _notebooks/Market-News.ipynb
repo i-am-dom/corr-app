{
 "cells": [
  {
   "cell_type": "markdown",
   "id": "short-greensboro",
   "metadata": {
    "papermill": {
     "duration": 0.013185,
     "end_time": "2022-10-07T03:20:40.157182",
     "exception": false,
     "start_time": "2022-10-07T03:20:40.143997",
     "status": "completed"
    },
    "tags": []
   },
   "source": [
    "# Kriptovaliutų naujienos"
   ]
  },
  {
   "cell_type": "code",
   "execution_count": 1,
   "id": "functioning-knowing",
   "metadata": {
    "execution": {
     "iopub.execute_input": "2022-10-07T03:20:40.186287Z",
     "iopub.status.busy": "2022-10-07T03:20:40.185698Z",
     "iopub.status.idle": "2022-10-07T03:20:41.417147Z",
     "shell.execute_reply": "2022-10-07T03:20:41.417706Z"
    },
    "papermill": {
     "duration": 1.251086,
     "end_time": "2022-10-07T03:20:41.417901",
     "exception": false,
     "start_time": "2022-10-07T03:20:40.166815",
     "status": "completed"
    },
    "tags": []
   },
   "outputs": [],
   "source": [
    "#hide_input\n",
    "import warnings\n",
    "warnings.filterwarnings('ignore')\n",
    "from scripts.read_data import read_api\n",
    "from scripts.read_data import read_news\n",
    "from scripts.read_data import read_covid\n",
    "import matplotlib.pyplot as plt \n",
    "from IPython.display import Markdown as md"
   ]
  },
  {
   "cell_type": "code",
   "execution_count": 2,
   "id": "shared-acceptance",
   "metadata": {
    "execution": {
     "iopub.execute_input": "2022-10-07T03:20:41.442870Z",
     "iopub.status.busy": "2022-10-07T03:20:41.442285Z",
     "iopub.status.idle": "2022-10-07T03:20:51.139076Z",
     "shell.execute_reply": "2022-10-07T03:20:51.138053Z"
    },
    "papermill": {
     "duration": 9.711638,
     "end_time": "2022-10-07T03:20:51.139213",
     "exception": false,
     "start_time": "2022-10-07T03:20:41.427575",
     "status": "completed"
    },
    "tags": []
   },
   "outputs": [],
   "source": [
    "#hide_input\n",
    "blockchain = read_news('blockchain') \n",
    "btc = read_news('btc') \n",
    "xrp = read_news('xrp') \n",
    "trx = read_news('trx') \n",
    "eth = read_news('eth')  \n",
    "ada = read_news('ada')\n",
    "exchange = read_news('exchange') "
   ]
  },
  {
   "cell_type": "code",
   "execution_count": 3,
   "id": "synthetic-notion",
   "metadata": {
    "execution": {
     "iopub.execute_input": "2022-10-07T03:20:51.163874Z",
     "iopub.status.busy": "2022-10-07T03:20:51.163264Z",
     "iopub.status.idle": "2022-10-07T03:20:51.166249Z",
     "shell.execute_reply": "2022-10-07T03:20:51.166691Z"
    },
    "papermill": {
     "duration": 0.0182,
     "end_time": "2022-10-07T03:20:51.166816",
     "exception": false,
     "start_time": "2022-10-07T03:20:51.148616",
     "status": "completed"
    },
    "tags": []
   },
   "outputs": [
    {
     "data": {
      "text/markdown": [
       "- European Commission imposes fresh sanctions against Russia.  European Commission has imposed 8th sanctions package against Russia, a major step toward supporting Ukraine.The post European Commission imposes fresh sanctions against Russia appeared first on Blockchain, Crypto and Stock News. ... [| Skaityti daugiau](https://thecoinrise.com/european-commission-imposes-fresh-sanctions-against-russia/) "
      ],
      "text/plain": [
       "<IPython.core.display.Markdown object>"
      ]
     },
     "execution_count": 3,
     "metadata": {},
     "output_type": "execute_result"
    }
   ],
   "source": [
    "#hide_input\n",
    "#md('##### {}'.format(titleBTC)) \n",
    "md(\"- {}{} {}{} [| Skaityti daugiau]({}) \".format(blockchain['title'],'. ', blockchain['body'], ' ...', blockchain['url']))"
   ]
  },
  {
   "cell_type": "code",
   "execution_count": 4,
   "id": "aging-caution",
   "metadata": {
    "execution": {
     "iopub.execute_input": "2022-10-07T03:20:51.190613Z",
     "iopub.status.busy": "2022-10-07T03:20:51.190025Z",
     "iopub.status.idle": "2022-10-07T03:20:51.193320Z",
     "shell.execute_reply": "2022-10-07T03:20:51.192877Z"
    },
    "papermill": {
     "duration": 0.017249,
     "end_time": "2022-10-07T03:20:51.193426",
     "exception": false,
     "start_time": "2022-10-07T03:20:51.176177",
     "status": "completed"
    },
    "tags": []
   },
   "outputs": [
    {
     "data": {
      "text/markdown": [
       "- Marathon reports $80M exposure to bankrupt mining firm.  Marathon has outlined that at this stage its operations hosted by Compute North will continue to operate as usual, and highlighted an improved BTC mining production in Q3.  ... [| Skaityti daugiau](https://cointelegraph.com/news/marathon-reports-80m-exposure-to-bankrupt-mining-firm) "
      ],
      "text/plain": [
       "<IPython.core.display.Markdown object>"
      ]
     },
     "execution_count": 4,
     "metadata": {},
     "output_type": "execute_result"
    }
   ],
   "source": [
    "#hide_input\n",
    "#md('##### {}'.format(titleBTC)) \n",
    "md(\"- {}{} {}{} [| Skaityti daugiau]({}) \".format(btc['title'],'. ', btc['body'], ' ...', btc['url']))"
   ]
  },
  {
   "cell_type": "code",
   "execution_count": 5,
   "id": "organic-actress",
   "metadata": {
    "execution": {
     "iopub.execute_input": "2022-10-07T03:20:51.217377Z",
     "iopub.status.busy": "2022-10-07T03:20:51.216803Z",
     "iopub.status.idle": "2022-10-07T03:20:51.220144Z",
     "shell.execute_reply": "2022-10-07T03:20:51.220690Z"
    },
    "papermill": {
     "duration": 0.017809,
     "end_time": "2022-10-07T03:20:51.220804",
     "exception": false,
     "start_time": "2022-10-07T03:20:51.202995",
     "status": "completed"
    },
    "tags": []
   },
   "outputs": [
    {
     "data": {
      "text/markdown": [
       "- XRP Goes Through Successful Breakout, Next Target Is Set: Crypto Market Review, October 6.  Market is still consolidating, while some assets show exceptional performance ... [| Skaityti daugiau](https://u.today/xrp-goes-through-successful-breakout-next-target-is-set-crypto-market-review-october-6) "
      ],
      "text/plain": [
       "<IPython.core.display.Markdown object>"
      ]
     },
     "execution_count": 5,
     "metadata": {},
     "output_type": "execute_result"
    }
   ],
   "source": [
    "#hide_input\n",
    "#md('##### {}'.format(titleBTC)) \n",
    "md(\"- {}{} {}{} [| Skaityti daugiau]({}) \".format(xrp['title'],'. ', xrp['body'], ' ...', xrp['url']))"
   ]
  },
  {
   "cell_type": "code",
   "execution_count": 6,
   "id": "prompt-farmer",
   "metadata": {
    "execution": {
     "iopub.execute_input": "2022-10-07T03:20:51.245049Z",
     "iopub.status.busy": "2022-10-07T03:20:51.243812Z",
     "iopub.status.idle": "2022-10-07T03:20:51.248626Z",
     "shell.execute_reply": "2022-10-07T03:20:51.248149Z"
    },
    "papermill": {
     "duration": 0.018125,
     "end_time": "2022-10-07T03:20:51.248727",
     "exception": false,
     "start_time": "2022-10-07T03:20:51.230602",
     "status": "completed"
    },
    "tags": []
   },
   "outputs": [
    {
     "data": {
      "text/markdown": [
       "- Tron (TRX) And Solana (SOL) Investors Rush To Purchase Flasko Presale Tokens.  The post &lt;strong&gt;Tron (TRX) And Solana (SOL) Investors Rush To Purchase Flasko Presale Tokens&lt;/strong&gt; appeared first on Coinpedia Fintech NewsA revolutionary cryptocurrency called Flasko is here to provide an alternative investment opportunity in the trillion-dollar market. Flasko uses cutting-edge non-fungible tokens (NFTs) and decentralized finance (Defi) capabilities to make it happen. This article will also discuss the proof-of-stake (PoS) blockchains TRON (TRX) and Solana (SOL), which inherently consume less energy than the energy-intensive proof-of-work &#8230; ... [| Skaityti daugiau](https://coinpedia.org/press-release/tron-trx-and-solana-sol-investors-rush-to-purchase-flasko-presale-tokens/) "
      ],
      "text/plain": [
       "<IPython.core.display.Markdown object>"
      ]
     },
     "execution_count": 6,
     "metadata": {},
     "output_type": "execute_result"
    }
   ],
   "source": [
    "#hide_input\n",
    "#md('##### {}'.format(titleBTC)) \n",
    "md(\"- {}{} {}{} [| Skaityti daugiau]({}) \".format(trx['title'],'. ', trx['body'], ' ...', trx['url']))"
   ]
  },
  {
   "cell_type": "code",
   "execution_count": 7,
   "id": "illegal-greece",
   "metadata": {
    "execution": {
     "iopub.execute_input": "2022-10-07T03:20:51.273572Z",
     "iopub.status.busy": "2022-10-07T03:20:51.272689Z",
     "iopub.status.idle": "2022-10-07T03:20:51.276417Z",
     "shell.execute_reply": "2022-10-07T03:20:51.276868Z"
    },
    "papermill": {
     "duration": 0.017972,
     "end_time": "2022-10-07T03:20:51.276986",
     "exception": false,
     "start_time": "2022-10-07T03:20:51.259014",
     "status": "completed"
    },
    "tags": []
   },
   "outputs": [
    {
     "data": {
      "text/markdown": [
       "- Can Cardano DApps Reach ETH as Users Skyrocket?.  Ethereum DApps might have a little competition, as Cardano DApps records an increase in new users ... [| Skaityti daugiau](https://u.today/can-cardano-dapps-reach-eth-as-users-skyrocket) "
      ],
      "text/plain": [
       "<IPython.core.display.Markdown object>"
      ]
     },
     "execution_count": 7,
     "metadata": {},
     "output_type": "execute_result"
    }
   ],
   "source": [
    "#hide_input\n",
    "#md('##### {}'.format(titleBTC)) \n",
    "md(\"- {}{} {}{} [| Skaityti daugiau]({}) \".format(eth['title'],'. ', eth['body'], ' ...', eth['url']))"
   ]
  },
  {
   "cell_type": "code",
   "execution_count": 8,
   "id": "sublime-lounge",
   "metadata": {
    "execution": {
     "iopub.execute_input": "2022-10-07T03:20:51.304040Z",
     "iopub.status.busy": "2022-10-07T03:20:51.303465Z",
     "iopub.status.idle": "2022-10-07T03:20:51.307033Z",
     "shell.execute_reply": "2022-10-07T03:20:51.306563Z"
    },
    "papermill": {
     "duration": 0.018429,
     "end_time": "2022-10-07T03:20:51.307136",
     "exception": false,
     "start_time": "2022-10-07T03:20:51.288707",
     "status": "completed"
    },
    "tags": []
   },
   "outputs": [
    {
     "data": {
      "text/markdown": [
       "- BNB Chain Halts Operations Due To Potential Hack.  Binance&#8217;s signature Binance Smart Chain is the latest to suffer from an exploit, and the chain is &#8220;temporarily paused,&#8221; according to the official BNB Chain Twitter account and Binance&#8217;s CZ. Early hours following the hack look to show 2M BNB, or over $500M at time of publishing, through the Binance Bridge. Furthermore, many have criticized the response around the matter. Let&#8217;s take a look at the details we know thus far. Binance Bridge Can&#8217;t Avoid The &#8216;Bridge Problem&#8217; One of the biggest issues around crypto vulnerabilities often seems to be bridges &#8211; where movement from one chain to another adds a layer of complexity that has proved to be a challenge. According to Paradigm researcher @samczsun (who provides a detailed thread on the the exploit), the BSC Token Hub bridge was tricked to send the attacker two transactions of 1M BNB each. However, in early reports it seems that the tokens were not owned user tokens, but rather tokens not in existence before the exploit. Binance's BNB token faced impacts from today's exploit. &#124; Source: BNB-USD on TradingView.com Related Reading: Cardano TVL Plummets To 8 Month Low, No Vasil Hardfork Positive Effect Criticism Around Halting The Chain BSC reps went on to explain that they &#8220;coordinated with validators to temporarily suspend BSC,&#8221; which led to many critics emerging around the degree of centralization surrounding the ... ... [| Skaityti daugiau](https://www.newsbtc.com/breaking-news-ticker/bnb-chain-halts-operations-due-to-potential-hack/) "
      ],
      "text/plain": [
       "<IPython.core.display.Markdown object>"
      ]
     },
     "execution_count": 8,
     "metadata": {},
     "output_type": "execute_result"
    }
   ],
   "source": [
    "#hide_input\n",
    "#md('##### {}'.format(titleBTC)) \n",
    "md(\"- {}{} {}{} [| Skaityti daugiau]({}) \".format(ada['title'],'. ', ada['body'], ' ...', ada['url']))"
   ]
  },
  {
   "cell_type": "code",
   "execution_count": 9,
   "id": "specified-ordering",
   "metadata": {
    "execution": {
     "iopub.execute_input": "2022-10-07T03:20:51.333558Z",
     "iopub.status.busy": "2022-10-07T03:20:51.332987Z",
     "iopub.status.idle": "2022-10-07T03:20:51.336582Z",
     "shell.execute_reply": "2022-10-07T03:20:51.336083Z"
    },
    "papermill": {
     "duration": 0.018646,
     "end_time": "2022-10-07T03:20:51.336684",
     "exception": false,
     "start_time": "2022-10-07T03:20:51.318038",
     "status": "completed"
    },
    "tags": []
   },
   "outputs": [
    {
     "data": {
      "text/markdown": [
       "- BNB Chain Halts Operations Due To Potential Hack.  Binance&#8217;s signature Binance Smart Chain is the latest to suffer from an exploit, and the chain is &#8220;temporarily paused,&#8221; according to the official BNB Chain Twitter account and Binance&#8217;s CZ. Early hours following the hack look to show 2M BNB, or over $500M at time of publishing, through the Binance Bridge. Furthermore, many have criticized the response around the matter. Let&#8217;s take a look at the details we know thus far. Binance Bridge Can&#8217;t Avoid The &#8216;Bridge Problem&#8217; One of the biggest issues around crypto vulnerabilities often seems to be bridges &#8211; where movement from one chain to another adds a layer of complexity that has proved to be a challenge. According to Paradigm researcher @samczsun (who provides a detailed thread on the the exploit), the BSC Token Hub bridge was tricked to send the attacker two transactions of 1M BNB each. However, in early reports it seems that the tokens were not owned user tokens, but rather tokens not in existence before the exploit. Binance's BNB token faced impacts from today's exploit. &#124; Source: BNB-USD on TradingView.com Related Reading: Cardano TVL Plummets To 8 Month Low, No Vasil Hardfork Positive Effect Criticism Around Halting The Chain BSC reps went on to explain that they &#8220;coordinated with validators to temporarily suspend BSC,&#8221; which led to many critics emerging around the degree of centralization surrounding the ... ... [| Skaityti daugiau](https://www.newsbtc.com/breaking-news-ticker/bnb-chain-halts-operations-due-to-potential-hack/) "
      ],
      "text/plain": [
       "<IPython.core.display.Markdown object>"
      ]
     },
     "execution_count": 9,
     "metadata": {},
     "output_type": "execute_result"
    }
   ],
   "source": [
    "#hide_input\n",
    "#md('##### {}'.format(titleBTC)) \n",
    "md(\"- {}{} {}{} [| Skaityti daugiau]({}) \".format(exchange['title'],'. ', exchange['body'], ' ...', exchange['url']))"
   ]
  },
  {
   "cell_type": "code",
   "execution_count": null,
   "id": "tender-livestock",
   "metadata": {
    "papermill": {
     "duration": 0.011202,
     "end_time": "2022-10-07T03:20:51.359024",
     "exception": false,
     "start_time": "2022-10-07T03:20:51.347822",
     "status": "completed"
    },
    "tags": []
   },
   "outputs": [],
   "source": []
  },
  {
   "cell_type": "code",
   "execution_count": null,
   "id": "appreciated-diamond",
   "metadata": {
    "papermill": {
     "duration": 0.011215,
     "end_time": "2022-10-07T03:20:51.381671",
     "exception": false,
     "start_time": "2022-10-07T03:20:51.370456",
     "status": "completed"
    },
    "tags": []
   },
   "outputs": [],
   "source": []
  },
  {
   "cell_type": "code",
   "execution_count": null,
   "id": "romance-sweden",
   "metadata": {
    "papermill": {
     "duration": 0.011143,
     "end_time": "2022-10-07T03:20:51.403986",
     "exception": false,
     "start_time": "2022-10-07T03:20:51.392843",
     "status": "completed"
    },
    "tags": []
   },
   "outputs": [],
   "source": []
  },
  {
   "cell_type": "code",
   "execution_count": null,
   "id": "dietary-statistics",
   "metadata": {
    "papermill": {
     "duration": 0.011161,
     "end_time": "2022-10-07T03:20:51.426395",
     "exception": false,
     "start_time": "2022-10-07T03:20:51.415234",
     "status": "completed"
    },
    "tags": []
   },
   "outputs": [],
   "source": []
  }
 ],
 "metadata": {
  "kernelspec": {
   "display_name": "Python 3",
   "language": "python",
   "name": "python3"
  },
  "language_info": {
   "codemirror_mode": {
    "name": "ipython",
    "version": 3
   },
   "file_extension": ".py",
   "mimetype": "text/x-python",
   "name": "python",
   "nbconvert_exporter": "python",
   "pygments_lexer": "ipython3",
   "version": "3.6.15"
  },
  "papermill": {
   "default_parameters": {},
   "duration": 12.735461,
   "end_time": "2022-10-07T03:20:51.957645",
   "environment_variables": {},
   "exception": null,
   "input_path": "Market-News.ipynb",
   "output_path": "Market-News.ipynb",
   "parameters": {},
   "start_time": "2022-10-07T03:20:39.222184",
   "version": "2.2.2"
  }
 },
 "nbformat": 4,
 "nbformat_minor": 5
}