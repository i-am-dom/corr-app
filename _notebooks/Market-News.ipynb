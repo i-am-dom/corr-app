{
 "cells": [
  {
   "cell_type": "markdown",
   "id": "short-greensboro",
   "metadata": {
    "papermill": {
     "duration": 0.017609,
     "end_time": "2022-02-24T02:10:12.750909",
     "exception": false,
     "start_time": "2022-02-24T02:10:12.733300",
     "status": "completed"
    },
    "tags": []
   },
   "source": [
    "# Kriptovaliutų naujienos"
   ]
  },
  {
   "cell_type": "code",
   "execution_count": 1,
   "id": "functioning-knowing",
   "metadata": {
    "execution": {
     "iopub.execute_input": "2022-02-24T02:10:12.786797Z",
     "iopub.status.busy": "2022-02-24T02:10:12.786177Z",
     "iopub.status.idle": "2022-02-24T02:10:14.193460Z",
     "shell.execute_reply": "2022-02-24T02:10:14.192493Z"
    },
    "papermill": {
     "duration": 1.431787,
     "end_time": "2022-02-24T02:10:14.193633",
     "exception": false,
     "start_time": "2022-02-24T02:10:12.761846",
     "status": "completed"
    },
    "tags": []
   },
   "outputs": [],
   "source": [
    "#hide_input\n",
    "import warnings\n",
    "warnings.filterwarnings('ignore')\n",
    "from scripts.read_data import read_api\n",
    "from scripts.read_data import read_news\n",
    "from scripts.read_data import read_covid\n",
    "import matplotlib.pyplot as plt \n",
    "from IPython.display import Markdown as md"
   ]
  },
  {
   "cell_type": "code",
   "execution_count": 2,
   "id": "shared-acceptance",
   "metadata": {
    "execution": {
     "iopub.execute_input": "2022-02-24T02:10:14.219702Z",
     "iopub.status.busy": "2022-02-24T02:10:14.219100Z",
     "iopub.status.idle": "2022-02-24T02:10:22.662645Z",
     "shell.execute_reply": "2022-02-24T02:10:22.663104Z"
    },
    "papermill": {
     "duration": 8.459659,
     "end_time": "2022-02-24T02:10:22.663265",
     "exception": false,
     "start_time": "2022-02-24T02:10:14.203606",
     "status": "completed"
    },
    "tags": []
   },
   "outputs": [],
   "source": [
    "#hide_input\n",
    "blockchain = read_news('blockchain') \n",
    "btc = read_news('btc') \n",
    "xrp = read_news('xrp') \n",
    "trx = read_news('trx') \n",
    "eth = read_news('eth')  \n",
    "ada = read_news('ada')\n",
    "exchange = read_news('exchange') "
   ]
  },
  {
   "cell_type": "code",
   "execution_count": 3,
   "id": "synthetic-notion",
   "metadata": {
    "execution": {
     "iopub.execute_input": "2022-02-24T02:10:22.690144Z",
     "iopub.status.busy": "2022-02-24T02:10:22.687232Z",
     "iopub.status.idle": "2022-02-24T02:10:22.692451Z",
     "shell.execute_reply": "2022-02-24T02:10:22.692917Z"
    },
    "papermill": {
     "duration": 0.019117,
     "end_time": "2022-02-24T02:10:22.693059",
     "exception": false,
     "start_time": "2022-02-24T02:10:22.673942",
     "status": "completed"
    },
    "tags": []
   },
   "outputs": [
    {
     "data": {
      "text/markdown": [
       "- Bitcoin ($BTC): Odds of a ‘Supply Shock’ Once Demand Kicks in Are Rising: Glassnode Co-Founders.  Yann Allemann and Jan Happel, co-founders of blockchain insights firm, have shared a chart revealing that the odds of a bitcoin “supply shock” are increasing as demand for the flagship cryptocurrency comes back. The chart shows that the cryptocurrency’s liquid supply plunged last year until June 2021, before its price surged to a new all-time […] ... [| Skaityti daugiau](https://www.cryptoglobe.com/latest/2022/02/bitcoin-btc-odds-of-a-supply-shock-once-demand-kicks-in-are-rising-glassnode-co-founders/) "
      ],
      "text/plain": [
       "<IPython.core.display.Markdown object>"
      ]
     },
     "execution_count": 3,
     "metadata": {},
     "output_type": "execute_result"
    }
   ],
   "source": [
    "#hide_input\n",
    "#md('##### {}'.format(titleBTC)) \n",
    "md(\"- {}{} {}{} [| Skaityti daugiau]({}) \".format(blockchain['title'],'. ', blockchain['body'], ' ...', blockchain['url']))"
   ]
  },
  {
   "cell_type": "code",
   "execution_count": 4,
   "id": "aging-caution",
   "metadata": {
    "execution": {
     "iopub.execute_input": "2022-02-24T02:10:22.717788Z",
     "iopub.status.busy": "2022-02-24T02:10:22.717235Z",
     "iopub.status.idle": "2022-02-24T02:10:22.722790Z",
     "shell.execute_reply": "2022-02-24T02:10:22.722303Z"
    },
    "papermill": {
     "duration": 0.019921,
     "end_time": "2022-02-24T02:10:22.722906",
     "exception": false,
     "start_time": "2022-02-24T02:10:22.702985",
     "status": "completed"
    },
    "tags": []
   },
   "outputs": [
    {
     "data": {
      "text/markdown": [
       "- Bitcoin, Recovery And An Addiction To Debt.  The debt addicted nations of today must hit rock bottom before they can see the incorruptible recovery guidelines of Bitcoin. ... [| Skaityti daugiau](https://bitcoinmagazine.com/culture/bitcoin-and-an-addiction-to-debt) "
      ],
      "text/plain": [
       "<IPython.core.display.Markdown object>"
      ]
     },
     "execution_count": 4,
     "metadata": {},
     "output_type": "execute_result"
    }
   ],
   "source": [
    "#hide_input\n",
    "#md('##### {}'.format(titleBTC)) \n",
    "md(\"- {}{} {}{} [| Skaityti daugiau]({}) \".format(btc['title'],'. ', btc['body'], ' ...', btc['url']))"
   ]
  },
  {
   "cell_type": "code",
   "execution_count": 5,
   "id": "organic-actress",
   "metadata": {
    "execution": {
     "iopub.execute_input": "2022-02-24T02:10:22.750193Z",
     "iopub.status.busy": "2022-02-24T02:10:22.749649Z",
     "iopub.status.idle": "2022-02-24T02:10:22.753268Z",
     "shell.execute_reply": "2022-02-24T02:10:22.753812Z"
    },
    "papermill": {
     "duration": 0.020697,
     "end_time": "2022-02-24T02:10:22.753940",
     "exception": false,
     "start_time": "2022-02-24T02:10:22.733243",
     "status": "completed"
    },
    "tags": []
   },
   "outputs": [
    {
     "data": {
      "text/markdown": [
       "- Price analysis 2/23: BTC, ETH, BNB, XRP, ADA, SOL, AVAX, LUNA, DOGE, DOT.  BTC and altcoins flashed a few bullish signals today, but traders say $38,000 is still the level Bitcoin needs to close above before a reversal can begin. ... [| Skaityti daugiau](https://cointelegraph.com/news/price-analysis-2-23-btc-eth-bnb-xrp-ada-sol-avax-luna-doge-dot) "
      ],
      "text/plain": [
       "<IPython.core.display.Markdown object>"
      ]
     },
     "execution_count": 5,
     "metadata": {},
     "output_type": "execute_result"
    }
   ],
   "source": [
    "#hide_input\n",
    "#md('##### {}'.format(titleBTC)) \n",
    "md(\"- {}{} {}{} [| Skaityti daugiau]({}) \".format(xrp['title'],'. ', xrp['body'], ' ...', xrp['url']))"
   ]
  },
  {
   "cell_type": "code",
   "execution_count": 6,
   "id": "prompt-farmer",
   "metadata": {
    "execution": {
     "iopub.execute_input": "2022-02-24T02:10:22.780944Z",
     "iopub.status.busy": "2022-02-24T02:10:22.780216Z",
     "iopub.status.idle": "2022-02-24T02:10:22.786247Z",
     "shell.execute_reply": "2022-02-24T02:10:22.785775Z"
    },
    "papermill": {
     "duration": 0.021874,
     "end_time": "2022-02-24T02:10:22.786366",
     "exception": false,
     "start_time": "2022-02-24T02:10:22.764492",
     "status": "completed"
    },
    "tags": []
   },
   "outputs": [
    {
     "data": {
      "text/markdown": [
       "- Tron (TRX) Price Analysis: Make-or-Break Zone At $0.064.  Tron price started a decent increase above the $0.0600 level against the US Dollar. TRX price is now trading below $0.0640 and the 55 simple moving average (4-hours). There was a break above a major bearish trend line with resistance near $0.0622 on the 4-hours chart (data feed via Bitfinex). The pair could continue to...The post Tron (TRX) Price Analysis: Make-or-Break Zone At $0.064 appeared first on Live Bitcoin News. ... [| Skaityti daugiau](https://www.livebitcoinnews.com/tron-trx-price-analysis-make-or-break-zone-at-0-064/) "
      ],
      "text/plain": [
       "<IPython.core.display.Markdown object>"
      ]
     },
     "execution_count": 6,
     "metadata": {},
     "output_type": "execute_result"
    }
   ],
   "source": [
    "#hide_input\n",
    "#md('##### {}'.format(titleBTC)) \n",
    "md(\"- {}{} {}{} [| Skaityti daugiau]({}) \".format(trx['title'],'. ', trx['body'], ' ...', trx['url']))"
   ]
  },
  {
   "cell_type": "code",
   "execution_count": 7,
   "id": "illegal-greece",
   "metadata": {
    "execution": {
     "iopub.execute_input": "2022-02-24T02:10:22.815195Z",
     "iopub.status.busy": "2022-02-24T02:10:22.814619Z",
     "iopub.status.idle": "2022-02-24T02:10:22.818095Z",
     "shell.execute_reply": "2022-02-24T02:10:22.817562Z"
    },
    "papermill": {
     "duration": 0.02055,
     "end_time": "2022-02-24T02:10:22.818205",
     "exception": false,
     "start_time": "2022-02-24T02:10:22.797655",
     "status": "completed"
    },
    "tags": []
   },
   "outputs": [
    {
     "data": {
      "text/markdown": [
       "- Scalability issues no more? First EVM compatible ZK Rollup live on ETH’s public testnet.  Ethereum&#8216;s scalability issues have created a whirlwind of problems for the cryptocurrency industry, however, it has also fostered a ground for innovative ideas to overcome the same. Many layer 2 solutions have emerged in the recent past in order to combat the congestion on Ethereum, including zero-knowledge rollups. An enhancement for this has now been [&#8230;] ... [| Skaityti daugiau](https://ambcrypto.com/scalability-issues-no-more-first-evm-compatible-zk-rollup-live-on-eths-public-testnet/) "
      ],
      "text/plain": [
       "<IPython.core.display.Markdown object>"
      ]
     },
     "execution_count": 7,
     "metadata": {},
     "output_type": "execute_result"
    }
   ],
   "source": [
    "#hide_input\n",
    "#md('##### {}'.format(titleBTC)) \n",
    "md(\"- {}{} {}{} [| Skaityti daugiau]({}) \".format(eth['title'],'. ', eth['body'], ' ...', eth['url']))"
   ]
  },
  {
   "cell_type": "code",
   "execution_count": 8,
   "id": "sublime-lounge",
   "metadata": {
    "execution": {
     "iopub.execute_input": "2022-02-24T02:10:22.845823Z",
     "iopub.status.busy": "2022-02-24T02:10:22.844433Z",
     "iopub.status.idle": "2022-02-24T02:10:22.848678Z",
     "shell.execute_reply": "2022-02-24T02:10:22.848208Z"
    },
    "papermill": {
     "duration": 0.019367,
     "end_time": "2022-02-24T02:10:22.848797",
     "exception": false,
     "start_time": "2022-02-24T02:10:22.829430",
     "status": "completed"
    },
    "tags": []
   },
   "outputs": [
    {
     "data": {
      "text/markdown": [
       "- Crypto Exchange Bitrue Adds Cardano ($ADA) as a Base Currency.  Singapore-headquartered cryptocurrency trading platform Bitrue has announced that Cardano ($ADA) is being added as a base currency on its exchange, with the launch of nine new trading pairs set to come on February 24. According to the exchange’s announcement, it will pair ADA against various cryptoassets including Cartesi ($CTSI), flux ($FLUX), Reserve Rights ($RSR), DigiByte […] ... [| Skaityti daugiau](https://www.cryptoglobe.com/latest/2022/02/crypto-exchange-bitrue-adds-cardano-ada-as-a-base-currency/) "
      ],
      "text/plain": [
       "<IPython.core.display.Markdown object>"
      ]
     },
     "execution_count": 8,
     "metadata": {},
     "output_type": "execute_result"
    }
   ],
   "source": [
    "#hide_input\n",
    "#md('##### {}'.format(titleBTC)) \n",
    "md(\"- {}{} {}{} [| Skaityti daugiau]({}) \".format(ada['title'],'. ', ada['body'], ' ...', ada['url']))"
   ]
  },
  {
   "cell_type": "code",
   "execution_count": 9,
   "id": "specified-ordering",
   "metadata": {
    "execution": {
     "iopub.execute_input": "2022-02-24T02:10:22.877216Z",
     "iopub.status.busy": "2022-02-24T02:10:22.876668Z",
     "iopub.status.idle": "2022-02-24T02:10:22.878956Z",
     "shell.execute_reply": "2022-02-24T02:10:22.879427Z"
    },
    "papermill": {
     "duration": 0.019278,
     "end_time": "2022-02-24T02:10:22.879548",
     "exception": false,
     "start_time": "2022-02-24T02:10:22.860270",
     "status": "completed"
    },
    "tags": []
   },
   "outputs": [
    {
     "data": {
      "text/markdown": [
       "- Crypto Exchange Bitrue Adds Cardano ($ADA) as a Base Currency.  Singapore-headquartered cryptocurrency trading platform Bitrue has announced that Cardano ($ADA) is being added as a base currency on its exchange, with the launch of nine new trading pairs set to come on February 24. According to the exchange’s announcement, it will pair ADA against various cryptoassets including Cartesi ($CTSI), flux ($FLUX), Reserve Rights ($RSR), DigiByte […] ... [| Skaityti daugiau](https://www.cryptoglobe.com/latest/2022/02/crypto-exchange-bitrue-adds-cardano-ada-as-a-base-currency/) "
      ],
      "text/plain": [
       "<IPython.core.display.Markdown object>"
      ]
     },
     "execution_count": 9,
     "metadata": {},
     "output_type": "execute_result"
    }
   ],
   "source": [
    "#hide_input\n",
    "#md('##### {}'.format(titleBTC)) \n",
    "md(\"- {}{} {}{} [| Skaityti daugiau]({}) \".format(exchange['title'],'. ', exchange['body'], ' ...', exchange['url']))"
   ]
  },
  {
   "cell_type": "code",
   "execution_count": null,
   "id": "tender-livestock",
   "metadata": {
    "papermill": {
     "duration": 0.012196,
     "end_time": "2022-02-24T02:10:22.903750",
     "exception": false,
     "start_time": "2022-02-24T02:10:22.891554",
     "status": "completed"
    },
    "tags": []
   },
   "outputs": [],
   "source": []
  },
  {
   "cell_type": "code",
   "execution_count": null,
   "id": "appreciated-diamond",
   "metadata": {
    "papermill": {
     "duration": 0.011844,
     "end_time": "2022-02-24T02:10:22.927989",
     "exception": false,
     "start_time": "2022-02-24T02:10:22.916145",
     "status": "completed"
    },
    "tags": []
   },
   "outputs": [],
   "source": []
  },
  {
   "cell_type": "code",
   "execution_count": null,
   "id": "romance-sweden",
   "metadata": {
    "papermill": {
     "duration": 0.011771,
     "end_time": "2022-02-24T02:10:22.952668",
     "exception": false,
     "start_time": "2022-02-24T02:10:22.940897",
     "status": "completed"
    },
    "tags": []
   },
   "outputs": [],
   "source": []
  },
  {
   "cell_type": "code",
   "execution_count": null,
   "id": "dietary-statistics",
   "metadata": {
    "papermill": {
     "duration": 0.011792,
     "end_time": "2022-02-24T02:10:22.976409",
     "exception": false,
     "start_time": "2022-02-24T02:10:22.964617",
     "status": "completed"
    },
    "tags": []
   },
   "outputs": [],
   "source": []
  }
 ],
 "metadata": {
  "kernelspec": {
   "display_name": "Python 3",
   "language": "python",
   "name": "python3"
  },
  "language_info": {
   "codemirror_mode": {
    "name": "ipython",
    "version": 3
   },
   "file_extension": ".py",
   "mimetype": "text/x-python",
   "name": "python",
   "nbconvert_exporter": "python",
   "pygments_lexer": "ipython3",
   "version": "3.6.15"
  },
  "papermill": {
   "default_parameters": {},
   "duration": 11.839529,
   "end_time": "2022-02-24T02:10:23.409368",
   "environment_variables": {},
   "exception": null,
   "input_path": "Market-News.ipynb",
   "output_path": "Market-News.ipynb",
   "parameters": {},
   "start_time": "2022-02-24T02:10:11.569839",
   "version": "2.2.2"
  }
 },
 "nbformat": 4,
 "nbformat_minor": 5
}