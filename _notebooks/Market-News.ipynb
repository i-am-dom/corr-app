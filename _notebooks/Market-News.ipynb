{
 "cells": [
  {
   "cell_type": "markdown",
   "id": "short-greensboro",
   "metadata": {
    "papermill": {
     "duration": 0.013189,
     "end_time": "2021-11-03T01:58:51.242383",
     "exception": false,
     "start_time": "2021-11-03T01:58:51.229194",
     "status": "completed"
    },
    "tags": []
   },
   "source": [
    "# Kriptovaliutų naujienos"
   ]
  },
  {
   "cell_type": "code",
   "execution_count": 1,
   "id": "functioning-knowing",
   "metadata": {
    "execution": {
     "iopub.execute_input": "2021-11-03T01:58:51.270983Z",
     "iopub.status.busy": "2021-11-03T01:58:51.270460Z",
     "iopub.status.idle": "2021-11-03T01:58:52.438150Z",
     "shell.execute_reply": "2021-11-03T01:58:52.437622Z"
    },
    "papermill": {
     "duration": 1.186274,
     "end_time": "2021-11-03T01:58:52.438299",
     "exception": false,
     "start_time": "2021-11-03T01:58:51.252025",
     "status": "completed"
    },
    "tags": []
   },
   "outputs": [],
   "source": [
    "#hide_input\n",
    "import warnings\n",
    "warnings.filterwarnings('ignore')\n",
    "from scripts.read_data import read_api\n",
    "from scripts.read_data import read_news\n",
    "from scripts.read_data import read_covid\n",
    "import matplotlib.pyplot as plt \n",
    "from IPython.display import Markdown as md"
   ]
  },
  {
   "cell_type": "code",
   "execution_count": 2,
   "id": "shared-acceptance",
   "metadata": {
    "execution": {
     "iopub.execute_input": "2021-11-03T01:58:52.462933Z",
     "iopub.status.busy": "2021-11-03T01:58:52.462407Z",
     "iopub.status.idle": "2021-11-03T01:59:00.948512Z",
     "shell.execute_reply": "2021-11-03T01:59:00.947971Z"
    },
    "papermill": {
     "duration": 8.50105,
     "end_time": "2021-11-03T01:59:00.948659",
     "exception": false,
     "start_time": "2021-11-03T01:58:52.447609",
     "status": "completed"
    },
    "tags": []
   },
   "outputs": [],
   "source": [
    "#hide_input\n",
    "blockchain = read_news('blockchain') \n",
    "btc = read_news('btc') \n",
    "xrp = read_news('xrp') \n",
    "trx = read_news('trx') \n",
    "eth = read_news('eth')  \n",
    "ada = read_news('ada')\n",
    "exchange = read_news('exchange') "
   ]
  },
  {
   "cell_type": "code",
   "execution_count": 3,
   "id": "synthetic-notion",
   "metadata": {
    "execution": {
     "iopub.execute_input": "2021-11-03T01:59:00.974662Z",
     "iopub.status.busy": "2021-11-03T01:59:00.974066Z",
     "iopub.status.idle": "2021-11-03T01:59:00.977882Z",
     "shell.execute_reply": "2021-11-03T01:59:00.978263Z"
    },
    "papermill": {
     "duration": 0.019092,
     "end_time": "2021-11-03T01:59:00.978380",
     "exception": false,
     "start_time": "2021-11-03T01:59:00.959288",
     "status": "completed"
    },
    "tags": []
   },
   "outputs": [
    {
     "data": {
      "text/markdown": [
       "- Quentin Tarantino ‘Pulp Fiction’ NFTs Are Coming… With A Twist.  Major players in traditional entertainment are engaging with NFTs. This week, famed director and writer Quentin Tarantino joins the ranks with an announcement of exclusive &#8216;Pulp Fiction&#8217; NFTs. The NFTs are expected to be composed of never-before-seen footage from the hit film, released on The Secret Network blockchain. However, unlike most NFTs that have hit [&#8230;] ... [| Skaityti daugiau](https://bitcoinist.com/quentin-tarantino-pulp-fiction-nfts-are-coming-with-a-twist/?utm_source=rss&utm_medium=rss&utm_campaign=quentin-tarantino-pulp-fiction-nfts-are-coming-with-a-twist) "
      ],
      "text/plain": [
       "<IPython.core.display.Markdown object>"
      ]
     },
     "execution_count": 3,
     "metadata": {},
     "output_type": "execute_result"
    }
   ],
   "source": [
    "#hide_input\n",
    "#md('##### {}'.format(titleBTC)) \n",
    "md(\"- {}{} {}{} [| Skaityti daugiau]({}) \".format(blockchain['title'],'. ', blockchain['body'], ' ...', blockchain['url']))"
   ]
  },
  {
   "cell_type": "code",
   "execution_count": 4,
   "id": "aging-caution",
   "metadata": {
    "execution": {
     "iopub.execute_input": "2021-11-03T01:59:01.001643Z",
     "iopub.status.busy": "2021-11-03T01:59:01.001049Z",
     "iopub.status.idle": "2021-11-03T01:59:01.003195Z",
     "shell.execute_reply": "2021-11-03T01:59:01.003673Z"
    },
    "papermill": {
     "duration": 0.016131,
     "end_time": "2021-11-03T01:59:01.003799",
     "exception": false,
     "start_time": "2021-11-03T01:59:00.987668",
     "status": "completed"
    },
    "tags": []
   },
   "outputs": [
    {
     "data": {
      "text/markdown": [
       "- CoinShares report reveals this about Bitcoin led inflows, then and now.  ProShares&#8217; Bitcoin ETF hitting the market has legitimized crypto investments for many traditional investors. This development might also have triggered a record-breaking week of inflows, as well as helped the king coin reach a new all time high. But one week later, is the momentum still going strong? CoinShares&#8217; data reveals what took place. Cooling [&#8230;] ... [| Skaityti daugiau](https://ambcrypto.com/coinshares-report-reveals-this-about-bitcoin-led-inflows-then-and-now/) "
      ],
      "text/plain": [
       "<IPython.core.display.Markdown object>"
      ]
     },
     "execution_count": 4,
     "metadata": {},
     "output_type": "execute_result"
    }
   ],
   "source": [
    "#hide_input\n",
    "#md('##### {}'.format(titleBTC)) \n",
    "md(\"- {}{} {}{} [| Skaityti daugiau]({}) \".format(btc['title'],'. ', btc['body'], ' ...', btc['url']))"
   ]
  },
  {
   "cell_type": "code",
   "execution_count": 5,
   "id": "organic-actress",
   "metadata": {
    "execution": {
     "iopub.execute_input": "2021-11-03T01:59:01.027587Z",
     "iopub.status.busy": "2021-11-03T01:59:01.027053Z",
     "iopub.status.idle": "2021-11-03T01:59:01.029664Z",
     "shell.execute_reply": "2021-11-03T01:59:01.029265Z"
    },
    "papermill": {
     "duration": 0.016215,
     "end_time": "2021-11-03T01:59:01.029764",
     "exception": false,
     "start_time": "2021-11-03T01:59:01.013549",
     "status": "completed"
    },
    "tags": []
   },
   "outputs": [
    {
     "data": {
      "text/markdown": [
       "- ETH Price Forecast : Could Ethereum Price Hit $8000 by the Year End?.  The post ETH Price Forecast : Could Ethereum Price Hit $8000 by the Year End? appeared first on Coinpedia - Fintech &amp; Cryptocurreny News Media| Crypto GuideThe majority of altcoins are constantly increasing in value. ETH is gaining traction, and it may soon reach $4,500. XRP is striving for a crucial breach above $1.12 on the upside. If ADA closes above $2, it may get traction.&#160; The price of Ethereum increased when it went through the $4,350 resistance level. ETH broke &#8230; ... [| Skaityti daugiau](https://coinpedia.org/ethereum/eth-price-forecast-could-ethereum-price-hit-8000-by-the-year-end/) "
      ],
      "text/plain": [
       "<IPython.core.display.Markdown object>"
      ]
     },
     "execution_count": 5,
     "metadata": {},
     "output_type": "execute_result"
    }
   ],
   "source": [
    "#hide_input\n",
    "#md('##### {}'.format(titleBTC)) \n",
    "md(\"- {}{} {}{} [| Skaityti daugiau]({}) \".format(xrp['title'],'. ', xrp['body'], ' ...', xrp['url']))"
   ]
  },
  {
   "cell_type": "code",
   "execution_count": 6,
   "id": "prompt-farmer",
   "metadata": {
    "execution": {
     "iopub.execute_input": "2021-11-03T01:59:01.053849Z",
     "iopub.status.busy": "2021-11-03T01:59:01.053352Z",
     "iopub.status.idle": "2021-11-03T01:59:01.056470Z",
     "shell.execute_reply": "2021-11-03T01:59:01.056048Z"
    },
    "papermill": {
     "duration": 0.01696,
     "end_time": "2021-11-03T01:59:01.056565",
     "exception": false,
     "start_time": "2021-11-03T01:59:01.039605",
     "status": "completed"
    },
    "tags": []
   },
   "outputs": [
    {
     "data": {
      "text/markdown": [
       "- BitTorrent & Tron Experience A Sudden Gush Of Volume, Will BTT And TRX Price Rise?.  The post BitTorrent &amp; Tron Experience A Sudden Gush Of Volume, Will BTT And TRX Price Rise? appeared first on Coinpedia - Fintech &amp; Cryptocurreny News Media| Crypto GuideMany blockchains are emerging in the crypto space, BitTorrent Chain recently went live to mark its existence among flourishing blockchains. In no time, BTT received a huge influx which uplifted the price by nearly 15%. However, the asset has experienced a slight dump, yet managed to sustain above crucial levels. Hence the probability of a &#8230; ... [| Skaityti daugiau](https://coinpedia.org/price-analysis/bittorrent-tron-experience-volume-influx-will-btt-trx-price-rise/) "
      ],
      "text/plain": [
       "<IPython.core.display.Markdown object>"
      ]
     },
     "execution_count": 6,
     "metadata": {},
     "output_type": "execute_result"
    }
   ],
   "source": [
    "#hide_input\n",
    "#md('##### {}'.format(titleBTC)) \n",
    "md(\"- {}{} {}{} [| Skaityti daugiau]({}) \".format(trx['title'],'. ', trx['body'], ' ...', trx['url']))"
   ]
  },
  {
   "cell_type": "code",
   "execution_count": 7,
   "id": "illegal-greece",
   "metadata": {
    "execution": {
     "iopub.execute_input": "2021-11-03T01:59:01.080110Z",
     "iopub.status.busy": "2021-11-03T01:59:01.079599Z",
     "iopub.status.idle": "2021-11-03T01:59:01.083537Z",
     "shell.execute_reply": "2021-11-03T01:59:01.083923Z"
    },
    "papermill": {
     "duration": 0.017103,
     "end_time": "2021-11-03T01:59:01.084036",
     "exception": false,
     "start_time": "2021-11-03T01:59:01.066933",
     "status": "completed"
    },
    "tags": []
   },
   "outputs": [
    {
     "data": {
      "text/markdown": [
       "- Commonwealth Bank to enable crypto trading for 6.5M Aussies, 'other banks will follow'.  The CBA stated that it will support 10 crypto assets in its banking app, including Bitcoin, Ethereum, Bitcoin Cash and Litecoin. ... [| Skaityti daugiau](https://cointelegraph.com/news/commonwealth-bank-to-enable-crypto-trading-for-6-5m-aussies-other-banks-will-follow) "
      ],
      "text/plain": [
       "<IPython.core.display.Markdown object>"
      ]
     },
     "execution_count": 7,
     "metadata": {},
     "output_type": "execute_result"
    }
   ],
   "source": [
    "#hide_input\n",
    "#md('##### {}'.format(titleBTC)) \n",
    "md(\"- {}{} {}{} [| Skaityti daugiau]({}) \".format(eth['title'],'. ', eth['body'], ' ...', eth['url']))"
   ]
  },
  {
   "cell_type": "code",
   "execution_count": 8,
   "id": "sublime-lounge",
   "metadata": {
    "execution": {
     "iopub.execute_input": "2021-11-03T01:59:01.109129Z",
     "iopub.status.busy": "2021-11-03T01:59:01.108633Z",
     "iopub.status.idle": "2021-11-03T01:59:01.111176Z",
     "shell.execute_reply": "2021-11-03T01:59:01.111632Z"
    },
    "papermill": {
     "duration": 0.017234,
     "end_time": "2021-11-03T01:59:01.111744",
     "exception": false,
     "start_time": "2021-11-03T01:59:01.094510",
     "status": "completed"
    },
    "tags": []
   },
   "outputs": [
    {
     "data": {
      "text/markdown": [
       "- Solana Overtakes Cardano As ‘Ethereum Killers’ Jostle For Supremacy.  A new “flippening” has happened as Solana has just valued itself ahead of Cardano (ADA) in terms of market capitalization. Solana Flips Cardano It is worth noting that Cardano’s parabolic bull rally cooled off after the launch of smart contracts in September. Last month, while most cryptocurrencies registered considerable gains, ADA lost some of its [&#8230;] ... [| Skaityti daugiau](https://zycrypto.com/solana-overtakes-cardano-as-ethereum-killers-jostle-for-supremacy/) "
      ],
      "text/plain": [
       "<IPython.core.display.Markdown object>"
      ]
     },
     "execution_count": 8,
     "metadata": {},
     "output_type": "execute_result"
    }
   ],
   "source": [
    "#hide_input\n",
    "#md('##### {}'.format(titleBTC)) \n",
    "md(\"- {}{} {}{} [| Skaityti daugiau]({}) \".format(ada['title'],'. ', ada['body'], ' ...', ada['url']))"
   ]
  },
  {
   "cell_type": "code",
   "execution_count": 9,
   "id": "specified-ordering",
   "metadata": {
    "execution": {
     "iopub.execute_input": "2021-11-03T01:59:01.137301Z",
     "iopub.status.busy": "2021-11-03T01:59:01.136800Z",
     "iopub.status.idle": "2021-11-03T01:59:01.139752Z",
     "shell.execute_reply": "2021-11-03T01:59:01.139322Z"
    },
    "papermill": {
     "duration": 0.017349,
     "end_time": "2021-11-03T01:59:01.139854",
     "exception": false,
     "start_time": "2021-11-03T01:59:01.122505",
     "status": "completed"
    },
    "tags": []
   },
   "outputs": [
    {
     "data": {
      "text/markdown": [
       "- Crypto Exchange Kraken to List Shiba Inu ($SHIB) After Investors Show Overwhelming Support.  Popular cryptocurrency exchange Kraken has tweeted out it plans to list the meme-inspired cryptocurrency Shiba Inu ($SHIB) and asked investors to signal whether they would like to see the cryptocurrency trading on its platform on social media. After Kraken called on Shiba Inu supporters to back the idea on Twitter, suggesting Kraken product lead Brian […] ... [| Skaityti daugiau](https://www.cryptoglobe.com/latest/2021/11/crypto-exchange-kraken-to-list-shiba-inu-shib-after-investors-show-overwhelming-support/) "
      ],
      "text/plain": [
       "<IPython.core.display.Markdown object>"
      ]
     },
     "execution_count": 9,
     "metadata": {},
     "output_type": "execute_result"
    }
   ],
   "source": [
    "#hide_input\n",
    "#md('##### {}'.format(titleBTC)) \n",
    "md(\"- {}{} {}{} [| Skaityti daugiau]({}) \".format(exchange['title'],'. ', exchange['body'], ' ...', exchange['url']))"
   ]
  },
  {
   "cell_type": "code",
   "execution_count": null,
   "id": "tender-livestock",
   "metadata": {
    "papermill": {
     "duration": 0.01108,
     "end_time": "2021-11-03T01:59:01.162045",
     "exception": false,
     "start_time": "2021-11-03T01:59:01.150965",
     "status": "completed"
    },
    "tags": []
   },
   "outputs": [],
   "source": []
  },
  {
   "cell_type": "code",
   "execution_count": null,
   "id": "appreciated-diamond",
   "metadata": {
    "papermill": {
     "duration": 0.011023,
     "end_time": "2021-11-03T01:59:01.184314",
     "exception": false,
     "start_time": "2021-11-03T01:59:01.173291",
     "status": "completed"
    },
    "tags": []
   },
   "outputs": [],
   "source": []
  },
  {
   "cell_type": "code",
   "execution_count": null,
   "id": "romance-sweden",
   "metadata": {
    "papermill": {
     "duration": 0.010988,
     "end_time": "2021-11-03T01:59:01.206388",
     "exception": false,
     "start_time": "2021-11-03T01:59:01.195400",
     "status": "completed"
    },
    "tags": []
   },
   "outputs": [],
   "source": []
  },
  {
   "cell_type": "code",
   "execution_count": null,
   "id": "dietary-statistics",
   "metadata": {
    "papermill": {
     "duration": 0.01099,
     "end_time": "2021-11-03T01:59:01.228429",
     "exception": false,
     "start_time": "2021-11-03T01:59:01.217439",
     "status": "completed"
    },
    "tags": []
   },
   "outputs": [],
   "source": []
  }
 ],
 "metadata": {
  "kernelspec": {
   "display_name": "Python 3",
   "language": "python",
   "name": "python3"
  },
  "language_info": {
   "codemirror_mode": {
    "name": "ipython",
    "version": 3
   },
   "file_extension": ".py",
   "mimetype": "text/x-python",
   "name": "python",
   "nbconvert_exporter": "python",
   "pygments_lexer": "ipython3",
   "version": "3.6.15"
  },
  "papermill": {
   "default_parameters": {},
   "duration": 11.545162,
   "end_time": "2021-11-03T01:59:01.646748",
   "environment_variables": {},
   "exception": null,
   "input_path": "Market-News.ipynb",
   "output_path": "Market-News.ipynb",
   "parameters": {},
   "start_time": "2021-11-03T01:58:50.101586",
   "version": "2.2.2"
  }
 },
 "nbformat": 4,
 "nbformat_minor": 5
}