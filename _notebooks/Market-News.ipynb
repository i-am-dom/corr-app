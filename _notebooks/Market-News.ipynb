{
 "cells": [
  {
   "cell_type": "markdown",
   "id": "short-greensboro",
   "metadata": {
    "papermill": {
     "duration": 0.013874,
     "end_time": "2022-04-14T02:47:13.077091",
     "exception": false,
     "start_time": "2022-04-14T02:47:13.063217",
     "status": "completed"
    },
    "tags": []
   },
   "source": [
    "# Kriptovaliutų naujienos"
   ]
  },
  {
   "cell_type": "code",
   "execution_count": 1,
   "id": "functioning-knowing",
   "metadata": {
    "execution": {
     "iopub.execute_input": "2022-04-14T02:47:13.106887Z",
     "iopub.status.busy": "2022-04-14T02:47:13.106347Z",
     "iopub.status.idle": "2022-04-14T02:47:14.348408Z",
     "shell.execute_reply": "2022-04-14T02:47:14.348885Z"
    },
    "papermill": {
     "duration": 1.262212,
     "end_time": "2022-04-14T02:47:14.349076",
     "exception": false,
     "start_time": "2022-04-14T02:47:13.086864",
     "status": "completed"
    },
    "tags": []
   },
   "outputs": [],
   "source": [
    "#hide_input\n",
    "import warnings\n",
    "warnings.filterwarnings('ignore')\n",
    "from scripts.read_data import read_api\n",
    "from scripts.read_data import read_news\n",
    "from scripts.read_data import read_covid\n",
    "import matplotlib.pyplot as plt \n",
    "from IPython.display import Markdown as md"
   ]
  },
  {
   "cell_type": "code",
   "execution_count": 2,
   "id": "shared-acceptance",
   "metadata": {
    "execution": {
     "iopub.execute_input": "2022-04-14T02:47:14.374553Z",
     "iopub.status.busy": "2022-04-14T02:47:14.373654Z",
     "iopub.status.idle": "2022-04-14T02:47:23.589850Z",
     "shell.execute_reply": "2022-04-14T02:47:23.589319Z"
    },
    "papermill": {
     "duration": 9.231359,
     "end_time": "2022-04-14T02:47:23.589989",
     "exception": false,
     "start_time": "2022-04-14T02:47:14.358630",
     "status": "completed"
    },
    "tags": []
   },
   "outputs": [],
   "source": [
    "#hide_input\n",
    "blockchain = read_news('blockchain') \n",
    "btc = read_news('btc') \n",
    "xrp = read_news('xrp') \n",
    "trx = read_news('trx') \n",
    "eth = read_news('eth')  \n",
    "ada = read_news('ada')\n",
    "exchange = read_news('exchange') "
   ]
  },
  {
   "cell_type": "code",
   "execution_count": 3,
   "id": "synthetic-notion",
   "metadata": {
    "execution": {
     "iopub.execute_input": "2022-04-14T02:47:23.615008Z",
     "iopub.status.busy": "2022-04-14T02:47:23.614466Z",
     "iopub.status.idle": "2022-04-14T02:47:23.616646Z",
     "shell.execute_reply": "2022-04-14T02:47:23.617058Z"
    },
    "papermill": {
     "duration": 0.017645,
     "end_time": "2022-04-14T02:47:23.617187",
     "exception": false,
     "start_time": "2022-04-14T02:47:23.599542",
     "status": "completed"
    },
    "tags": []
   },
   "outputs": [
    {
     "data": {
      "text/markdown": [
       "- Cardano Founder Explains What Users Should Expect From the Upcoming Vasil Hard Fork.  Charles Hoskinson, Founder of Cardano explains why he thinks the upcoming Vasil hardfork will be \"major major major major\". ... [| Skaityti daugiau](https://cryptopotato.com/cardano-founder-explains-what-users-should-expect-from-the-upcoming-vasil-hard-fork/) "
      ],
      "text/plain": [
       "<IPython.core.display.Markdown object>"
      ]
     },
     "execution_count": 3,
     "metadata": {},
     "output_type": "execute_result"
    }
   ],
   "source": [
    "#hide_input\n",
    "#md('##### {}'.format(titleBTC)) \n",
    "md(\"- {}{} {}{} [| Skaityti daugiau]({}) \".format(blockchain['title'],'. ', blockchain['body'], ' ...', blockchain['url']))"
   ]
  },
  {
   "cell_type": "code",
   "execution_count": 4,
   "id": "aging-caution",
   "metadata": {
    "execution": {
     "iopub.execute_input": "2022-04-14T02:47:23.641195Z",
     "iopub.status.busy": "2022-04-14T02:47:23.640596Z",
     "iopub.status.idle": "2022-04-14T02:47:23.645680Z",
     "shell.execute_reply": "2022-04-14T02:47:23.646066Z"
    },
    "papermill": {
     "duration": 0.019596,
     "end_time": "2022-04-14T02:47:23.646194",
     "exception": false,
     "start_time": "2022-04-14T02:47:23.626598",
     "status": "completed"
    },
    "tags": []
   },
   "outputs": [
    {
     "data": {
      "text/markdown": [
       "- This Crypto Bull Bets On AVAX, MATIC and SOL. Here’s What His Portfolio Looks Like.  The post This Crypto Bull Bets On AVAX, MATIC and SOL. Here&#8217;s What His Portfolio Looks Like appeared first on Coinpedia - Fintech &amp; Cryptocurreny News Media| Crypto GuideShark Tank&#8217;s Kevin O&#8217;Leary is a crypto bull, with cryptocurrencies accounting for 20% of his running companies&#8217; assets. The millionaire owns 32 cryptocurrencies and has stated that he is bullish on Avalanche, Solana, and MATIC. O&#8217;Leary&#8217;s crypto bets Kevin O&#8217;Leary, a Canadian entrepreneur and investor, told Cointelegraph in an interview at Bitcoin Miami that he &#8230; ... [| Skaityti daugiau](https://coinpedia.org/news/this-crypto-bull-bets-on-avax-matic-and-sol-heres-what-his-portfolio-looks-like/) "
      ],
      "text/plain": [
       "<IPython.core.display.Markdown object>"
      ]
     },
     "execution_count": 4,
     "metadata": {},
     "output_type": "execute_result"
    }
   ],
   "source": [
    "#hide_input\n",
    "#md('##### {}'.format(titleBTC)) \n",
    "md(\"- {}{} {}{} [| Skaityti daugiau]({}) \".format(btc['title'],'. ', btc['body'], ' ...', btc['url']))"
   ]
  },
  {
   "cell_type": "code",
   "execution_count": 5,
   "id": "organic-actress",
   "metadata": {
    "execution": {
     "iopub.execute_input": "2022-04-14T02:47:23.671083Z",
     "iopub.status.busy": "2022-04-14T02:47:23.670546Z",
     "iopub.status.idle": "2022-04-14T02:47:23.673084Z",
     "shell.execute_reply": "2022-04-14T02:47:23.673487Z"
    },
    "papermill": {
     "duration": 0.017801,
     "end_time": "2022-04-14T02:47:23.673609",
     "exception": false,
     "start_time": "2022-04-14T02:47:23.655808",
     "status": "completed"
    },
    "tags": []
   },
   "outputs": [
    {
     "data": {
      "text/markdown": [
       "- Ripple price analysis: XRP aiming for $1 after gaining in momentum in SEC lawsuit.  TL;DR Breakdown Ripple price analysis shows price shot up more than 3 percent over past 24 hours Ripple Labs gained momentum in lawsuit vs SEC after judge offered access to... ... [| Skaityti daugiau](https://www.cryptopolitan.com/ripple-price-analysis-2022-04-13/) "
      ],
      "text/plain": [
       "<IPython.core.display.Markdown object>"
      ]
     },
     "execution_count": 5,
     "metadata": {},
     "output_type": "execute_result"
    }
   ],
   "source": [
    "#hide_input\n",
    "#md('##### {}'.format(titleBTC)) \n",
    "md(\"- {}{} {}{} [| Skaityti daugiau]({}) \".format(xrp['title'],'. ', xrp['body'], ' ...', xrp['url']))"
   ]
  },
  {
   "cell_type": "code",
   "execution_count": 6,
   "id": "prompt-farmer",
   "metadata": {
    "execution": {
     "iopub.execute_input": "2022-04-14T02:47:23.698967Z",
     "iopub.status.busy": "2022-04-14T02:47:23.698417Z",
     "iopub.status.idle": "2022-04-14T02:47:23.700999Z",
     "shell.execute_reply": "2022-04-14T02:47:23.701406Z"
    },
    "papermill": {
     "duration": 0.018075,
     "end_time": "2022-04-14T02:47:23.701527",
     "exception": false,
     "start_time": "2022-04-14T02:47:23.683452",
     "status": "completed"
    },
    "tags": []
   },
   "outputs": [
    {
     "data": {
      "text/markdown": [
       "- KuCoin To Launch Promotion For TRON And Other Coins On 13th of April.  KuCoin, a cryptocurrency exchange that allows users to purchase, sell and hold cryptos, is launching a seven days promotion offer on the 13th of April, where users can stake their coins to earn other coins of their choice. The available coins include TRX, LUNA, ADA, MATIC, DOT, and ATOM. Founder Of TRON Urges Followers To Stake Justin Sun, @justinsuntron, entrepreneur, and founder of TRON, retweeted the post by KuCoin, urging his followers to grab the opportunity to amass as much TRON as possible during the staking period. According to the entrepreneur, users who stake using their $TRX get an Annual percentage rate (APR) of 10%. 🎉@kucoincom @KuCoin_Earn will be launching the #TRON #TRX 7 day Fixed Promotion at 10:00:00 on April 13, 2022 (UTC). 📥Stake $TRX to enjoy an #APR of 10% https://t.co/LQCF7mxcnj — H.E. Justin Sun 🅣🌞🇬🇩 (@justinsuntron) April 13, 2022 The online community responded positively to the tweet, with several users like @yug_purus and @BaCanh6 considering the promotion a good project. Details Of The KuCoin Launch As stated on KuCoin’s website, users can also get POL rewards each day together with the staking benefits from the initiative. Meanwhile, only members of the KuCoin community are eligible to take part in the initiative. New users are welcome to register to be part of the project. They have to visit the website and pick the coin(s) they want to stake. During the seven days of the initiative, reward... ... [| Skaityti daugiau](https://www.cryptoknowmics.com/news/kucoin-to-launch-promotion-for-tron-and-other-coins-on-13th-of-april/?utm_source=rss&utm_medium=rss&utm_campaign=kucoin-to-launch-promotion-for-tron-and-other-coins-on-13th-of-april) "
      ],
      "text/plain": [
       "<IPython.core.display.Markdown object>"
      ]
     },
     "execution_count": 6,
     "metadata": {},
     "output_type": "execute_result"
    }
   ],
   "source": [
    "#hide_input\n",
    "#md('##### {}'.format(titleBTC)) \n",
    "md(\"- {}{} {}{} [| Skaityti daugiau]({}) \".format(trx['title'],'. ', trx['body'], ' ...', trx['url']))"
   ]
  },
  {
   "cell_type": "code",
   "execution_count": 7,
   "id": "illegal-greece",
   "metadata": {
    "execution": {
     "iopub.execute_input": "2022-04-14T02:47:23.727088Z",
     "iopub.status.busy": "2022-04-14T02:47:23.725472Z",
     "iopub.status.idle": "2022-04-14T02:47:23.729075Z",
     "shell.execute_reply": "2022-04-14T02:47:23.729484Z"
    },
    "papermill": {
     "duration": 0.01757,
     "end_time": "2022-04-14T02:47:23.729604",
     "exception": false,
     "start_time": "2022-04-14T02:47:23.712034",
     "status": "completed"
    },
    "tags": []
   },
   "outputs": [
    {
     "data": {
      "text/markdown": [
       "- Ethereum Merge a 'few months after' June: Dev clears up what’s going on.  “It won't be June, but likely in the few months after. No firm date yet, but we're definitely in the final chapter of PoW on Ethereum,” said developer Tim Beiko.  ... [| Skaityti daugiau](https://cointelegraph.com/news/ethereum-merge-a-few-months-after-june-dev-clears-up-what-s-going-on) "
      ],
      "text/plain": [
       "<IPython.core.display.Markdown object>"
      ]
     },
     "execution_count": 7,
     "metadata": {},
     "output_type": "execute_result"
    }
   ],
   "source": [
    "#hide_input\n",
    "#md('##### {}'.format(titleBTC)) \n",
    "md(\"- {}{} {}{} [| Skaityti daugiau]({}) \".format(eth['title'],'. ', eth['body'], ' ...', eth['url']))"
   ]
  },
  {
   "cell_type": "code",
   "execution_count": 8,
   "id": "sublime-lounge",
   "metadata": {
    "execution": {
     "iopub.execute_input": "2022-04-14T02:47:23.756381Z",
     "iopub.status.busy": "2022-04-14T02:47:23.755846Z",
     "iopub.status.idle": "2022-04-14T02:47:23.758302Z",
     "shell.execute_reply": "2022-04-14T02:47:23.758704Z"
    },
    "papermill": {
     "duration": 0.018663,
     "end_time": "2022-04-14T02:47:23.758821",
     "exception": false,
     "start_time": "2022-04-14T02:47:23.740158",
     "status": "completed"
    },
    "tags": []
   },
   "outputs": [
    {
     "data": {
      "text/markdown": [
       "- 82% of Cardano ($ADA) Addresses Are ‘Out of the Money’, Data Shows.  With the price of Cardano’s native $ADA token below the $1 mark, 82% of the cryptocurrency’s holders are currently “out of the money.” The price of ADA has been steadily dropping ever since it hit a $3.1 all-time high in November 2021. According to data from cryptocurrency analytics startup IntoTheBlock, 82% of Cardano token holders […] ... [| Skaityti daugiau](https://www.cryptoglobe.com/latest/2022/04/82-of-cardano-ada-hodlers-are-losing-money-at-current-prices-data-shows/) "
      ],
      "text/plain": [
       "<IPython.core.display.Markdown object>"
      ]
     },
     "execution_count": 8,
     "metadata": {},
     "output_type": "execute_result"
    }
   ],
   "source": [
    "#hide_input\n",
    "#md('##### {}'.format(titleBTC)) \n",
    "md(\"- {}{} {}{} [| Skaityti daugiau]({}) \".format(ada['title'],'. ', ada['body'], ' ...', ada['url']))"
   ]
  },
  {
   "cell_type": "code",
   "execution_count": 9,
   "id": "specified-ordering",
   "metadata": {
    "execution": {
     "iopub.execute_input": "2022-04-14T02:47:23.786794Z",
     "iopub.status.busy": "2022-04-14T02:47:23.786247Z",
     "iopub.status.idle": "2022-04-14T02:47:23.788791Z",
     "shell.execute_reply": "2022-04-14T02:47:23.789204Z"
    },
    "papermill": {
     "duration": 0.01957,
     "end_time": "2022-04-14T02:47:23.789330",
     "exception": false,
     "start_time": "2022-04-14T02:47:23.769760",
     "status": "completed"
    },
    "tags": []
   },
   "outputs": [
    {
     "data": {
      "text/markdown": [
       "- BNB sees fewer losses than Bitcoin and Ether with whale transactions….  The most recent market shakedown that saw Bitcoin falling below $40k may have scared off plenty of new crypto traders who easily panicked. As Bitcoin and Ethereum fell by around 14%, one asset that proved its mettle was BNB [BNB], which only saw a loss of around 9%, according to data from Arcane Research. However, [&#8230;] ... [| Skaityti daugiau](https://ambcrypto.com/bnb-sees-fewer-losses-than-bitcoin-and-ether-with-whale-transactions/) "
      ],
      "text/plain": [
       "<IPython.core.display.Markdown object>"
      ]
     },
     "execution_count": 9,
     "metadata": {},
     "output_type": "execute_result"
    }
   ],
   "source": [
    "#hide_input\n",
    "#md('##### {}'.format(titleBTC)) \n",
    "md(\"- {}{} {}{} [| Skaityti daugiau]({}) \".format(exchange['title'],'. ', exchange['body'], ' ...', exchange['url']))"
   ]
  },
  {
   "cell_type": "code",
   "execution_count": null,
   "id": "tender-livestock",
   "metadata": {
    "papermill": {
     "duration": 0.011382,
     "end_time": "2022-04-14T02:47:23.812079",
     "exception": false,
     "start_time": "2022-04-14T02:47:23.800697",
     "status": "completed"
    },
    "tags": []
   },
   "outputs": [],
   "source": []
  },
  {
   "cell_type": "code",
   "execution_count": null,
   "id": "appreciated-diamond",
   "metadata": {
    "papermill": {
     "duration": 0.011269,
     "end_time": "2022-04-14T02:47:23.834816",
     "exception": false,
     "start_time": "2022-04-14T02:47:23.823547",
     "status": "completed"
    },
    "tags": []
   },
   "outputs": [],
   "source": []
  },
  {
   "cell_type": "code",
   "execution_count": null,
   "id": "romance-sweden",
   "metadata": {
    "papermill": {
     "duration": 0.011237,
     "end_time": "2022-04-14T02:47:23.858298",
     "exception": false,
     "start_time": "2022-04-14T02:47:23.847061",
     "status": "completed"
    },
    "tags": []
   },
   "outputs": [],
   "source": []
  },
  {
   "cell_type": "code",
   "execution_count": null,
   "id": "dietary-statistics",
   "metadata": {
    "papermill": {
     "duration": 0.011335,
     "end_time": "2022-04-14T02:47:23.880943",
     "exception": false,
     "start_time": "2022-04-14T02:47:23.869608",
     "status": "completed"
    },
    "tags": []
   },
   "outputs": [],
   "source": []
  }
 ],
 "metadata": {
  "kernelspec": {
   "display_name": "Python 3",
   "language": "python",
   "name": "python3"
  },
  "language_info": {
   "codemirror_mode": {
    "name": "ipython",
    "version": 3
   },
   "file_extension": ".py",
   "mimetype": "text/x-python",
   "name": "python",
   "nbconvert_exporter": "python",
   "pygments_lexer": "ipython3",
   "version": "3.6.15"
  },
  "papermill": {
   "default_parameters": {},
   "duration": 12.289061,
   "end_time": "2022-04-14T02:47:24.410774",
   "environment_variables": {},
   "exception": null,
   "input_path": "Market-News.ipynb",
   "output_path": "Market-News.ipynb",
   "parameters": {},
   "start_time": "2022-04-14T02:47:12.121713",
   "version": "2.2.2"
  }
 },
 "nbformat": 4,
 "nbformat_minor": 5
}